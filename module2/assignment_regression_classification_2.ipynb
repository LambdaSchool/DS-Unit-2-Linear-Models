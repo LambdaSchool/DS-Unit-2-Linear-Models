{
  "nbformat": 4,
  "nbformat_minor": 0,
  "metadata": {
    "colab": {
      "name": "assignment_regression_classification_2.ipynb",
      "provenance": [],
      "collapsed_sections": [],
      "include_colab_link": true
    },
    "kernelspec": {
      "display_name": "Python 3",
      "language": "python",
      "name": "python3"
    },
    "language_info": {
      "codemirror_mode": {
        "name": "ipython",
        "version": 3
      },
      "file_extension": ".py",
      "mimetype": "text/x-python",
      "name": "python",
      "nbconvert_exporter": "python",
      "pygments_lexer": "ipython3",
      "version": "3.7.3"
    }
  },
  "cells": [
    {
      "cell_type": "markdown",
      "metadata": {
        "id": "view-in-github",
        "colab_type": "text"
      },
      "source": [
        "<a href=\"https://colab.research.google.com/github/owenburton/DS-Unit-2-Regression-Classification/blob/master/module2/assignment_regression_classification_2.ipynb\" target=\"_parent\"><img src=\"https://colab.research.google.com/assets/colab-badge.svg\" alt=\"Open In Colab\"/></a>"
      ]
    },
    {
      "cell_type": "markdown",
      "metadata": {
        "colab_type": "text",
        "id": "7IXUfiQ2UKj6"
      },
      "source": [
        "Lambda School Data Science, Unit 2: Predictive Modeling\n",
        "\n",
        "# Regression & Classification, Module 2\n",
        "\n",
        "## Assignment\n",
        "\n",
        "You'll continue to **predict how much it costs to rent an apartment in NYC,** using the dataset from renthop.com.\n",
        "\n",
        "- [x] Do train/test split. Use data from April & May 2016 to train. Use data from June 2016 to test.\n",
        "- [x] Engineer at least two new features. (See below for explanation & ideas.)\n",
        "- [x] Fit a linear regression model with at least two features.\n",
        "- [x] Get the model's coefficients and intercept.\n",
        "- [x] Get regression metrics RMSE, MAE, and $R^2$, for both the train and test data.\n",
        "- [ ] What's the best test MAE you can get? Share your score and features used with your cohort on Slack!\n",
        "- [ ] As always, commit your notebook to your fork of the GitHub repo.\n",
        "\n",
        "\n",
        "#### [Feature Engineering](https://en.wikipedia.org/wiki/Feature_engineering)\n",
        "\n",
        "> \"Some machine learning projects succeed and some fail. What makes the difference? Easily the most important factor is the features used.\" — Pedro Domingos, [\"A Few Useful Things to Know about Machine Learning\"](https://homes.cs.washington.edu/~pedrod/papers/cacm12.pdf)\n",
        "\n",
        "> \"Coming up with features is difficult, time-consuming, requires expert knowledge. 'Applied machine learning' is basically feature engineering.\" — Andrew Ng, [Machine Learning and AI via Brain simulations](https://forum.stanford.edu/events/2011/2011slides/plenary/2011plenaryNg.pdf) \n",
        "\n",
        "> Feature engineering is the process of using domain knowledge of the data to create features that make machine learning algorithms work. \n",
        "\n",
        "#### Feature Ideas\n",
        "- Does the apartment have a description?\n",
        "- How long is the description?\n",
        "- How many total perks does each apartment have?\n",
        "- Are cats _or_ dogs allowed?\n",
        "- Are cats _and_ dogs allowed?\n",
        "- Total number of rooms (beds + baths)\n",
        "- Ratio of beds to baths\n",
        "- What's the neighborhood, based on address or latitude & longitude?\n",
        "\n",
        "## Stretch Goals\n",
        "- [ ] If you want more math, skim [_An Introduction to Statistical Learning_](http://faculty.marshall.usc.edu/gareth-james/ISL/ISLR%20Seventh%20Printing.pdf),  Chapter 3.1, Simple Linear Regression, & Chapter 3.2, Multiple Linear Regression\n",
        "- [ ] If you want more introduction, watch [Brandon Foltz, Statistics 101: Simple Linear Regression](https://www.youtube.com/watch?v=ZkjP5RJLQF4)\n",
        "(20 minutes, over 1 million views)\n",
        "- [ ] Add your own stretch goal(s) !"
      ]
    },
    {
      "cell_type": "code",
      "metadata": {
        "colab_type": "code",
        "id": "o9eSnDYhUGD7",
        "colab": {}
      },
      "source": [
        "import os, sys\n",
        "in_colab = 'google.colab' in sys.modules\n",
        "\n",
        "# If you're in Colab...\n",
        "if in_colab:\n",
        "    # Pull files from Github repo\n",
        "    os.chdir('/content')\n",
        "    !git init .\n",
        "    !git remote add origin https://github.com/LambdaSchool/DS-Unit-2-Regression-Classification.git\n",
        "    !git pull origin master\n",
        "    \n",
        "    # Install required python packages\n",
        "    !pip install -r requirements.txt\n",
        "    \n",
        "    # Change into directory for module\n",
        "    os.chdir('module2')"
      ],
      "execution_count": 0,
      "outputs": []
    },
    {
      "cell_type": "code",
      "metadata": {
        "colab_type": "code",
        "id": "ipBYS77PUwNR",
        "colab": {}
      },
      "source": [
        "# Ignore this Numpy warning when using Plotly Express:\n",
        "# FutureWarning: Method .ptp is deprecated and will be removed in a future version. Use numpy.ptp instead.\n",
        "import warnings\n",
        "warnings.filterwarnings(action='ignore', category=FutureWarning, module='numpy')"
      ],
      "execution_count": 0,
      "outputs": []
    },
    {
      "cell_type": "code",
      "metadata": {
        "colab_type": "code",
        "id": "cvrw-T3bZOuW",
        "colab": {}
      },
      "source": [
        "import numpy as np\n",
        "import pandas as pd\n",
        "\n",
        "# Read New York City apartment rental listing data\n",
        "df = pd.read_csv('../data/apartments/renthop-nyc.csv')\n",
        "assert df.shape == (49352, 34)\n",
        "\n",
        "# Remove the most extreme 1% prices,\n",
        "# the most extreme .1% latitudes, &\n",
        "# the most extreme .1% longitudes\n",
        "df = df[(df['price'] >= np.percentile(df['price'], 0.5)) & \n",
        "        (df['price'] <= np.percentile(df['price'], 99.5)) & \n",
        "        (df['latitude'] >= np.percentile(df['latitude'], 0.05)) & \n",
        "        (df['latitude'] < np.percentile(df['latitude'], 99.95)) &\n",
        "        (df['longitude'] >= np.percentile(df['longitude'], 0.05)) & \n",
        "        (df['longitude'] <= np.percentile(df['longitude'], 99.95))]"
      ],
      "execution_count": 0,
      "outputs": []
    },
    {
      "cell_type": "markdown",
      "metadata": {
        "id": "6Zd2eZJqGJQ1",
        "colab_type": "text"
      },
      "source": [
        "## Do train/test split. Use data from April & May 2016 to train. Use data from June 2016 to test."
      ]
    },
    {
      "cell_type": "code",
      "metadata": {
        "id": "gcrh-kHIG7wz",
        "colab_type": "code",
        "colab": {}
      },
      "source": [
        "# Make sure dataset only includes observations from April, May, and June.\n",
        "assert df['created'].str.contains('2016-04|2016-05|2016-06').value_counts()[1] == df.shape[0]"
      ],
      "execution_count": 0,
      "outputs": []
    },
    {
      "cell_type": "code",
      "metadata": {
        "id": "B0WKfZvmICnd",
        "colab_type": "code",
        "colab": {}
      },
      "source": [
        "# Training data includes observations from April & May.\n",
        "train = df[df['created'].str.contains('2016-04|2016-05')]\n",
        "\n",
        "# Test data includes observations from June.\n",
        "test = df[df['created'].str.contains('2016-06')]"
      ],
      "execution_count": 0,
      "outputs": []
    },
    {
      "cell_type": "markdown",
      "metadata": {
        "id": "XoFlqg5jSQxt",
        "colab_type": "text"
      },
      "source": [
        "## Establish a baseline."
      ]
    },
    {
      "cell_type": "code",
      "metadata": {
        "id": "CHb4Y5RRSQVW",
        "colab_type": "code",
        "colab": {
          "base_uri": "https://localhost:8080/",
          "height": 69
        },
        "outputId": "c224ab5f-b09b-45dc-c258-1c8cbddd4a5e"
      },
      "source": [
        "from sklearn.metrics import mean_absolute_error\n",
        "\n",
        "# Arrange y target vectors.\n",
        "target = 'price'\n",
        "y_train = train[target]\n",
        "y_test = test[target]\n",
        "\n",
        "# Get mean baseline.\n",
        "guess = y_train.mean()\n",
        "print(f'Mean baseline (using zero features): {guess:.2f}')\n",
        "\n",
        "# Show train error.\n",
        "y_pred = [guess] * len(y_train)\n",
        "mae = mean_absolute_error(y_train, y_pred)\n",
        "print(f'Train error (April & May): {mae:.2f} percentage points')\n",
        "\n",
        "# Show test error. \n",
        "y_pred = [guess] * len(y_test)\n",
        "mae = mean_absolute_error(y_test, y_pred)\n",
        "print(f'Test error (June): {mae:.2f} percentage points')"
      ],
      "execution_count": 130,
      "outputs": [
        {
          "output_type": "stream",
          "text": [
            "Mean baseline (using zero features): 3575.60\n",
            "Train error (April & May): 1201.88 percentage points\n",
            "Test error (June): 1197.71 percentage points\n"
          ],
          "name": "stdout"
        }
      ]
    },
    {
      "cell_type": "markdown",
      "metadata": {
        "id": "JU5uDKr2Uz78",
        "colab_type": "text"
      },
      "source": [
        "^ yikes."
      ]
    },
    {
      "cell_type": "markdown",
      "metadata": {
        "id": "iQ-JHw9uUv4z",
        "colab_type": "text"
      },
      "source": [
        "## Engineer at least two new features."
      ]
    },
    {
      "cell_type": "markdown",
      "metadata": {
        "id": "C3-vxRHgVG3y",
        "colab_type": "text"
      },
      "source": [
        "I'm going to use two new features. The first is a ratio of bathrooms to bedrooms. The second is the total number of bed and bathrooms."
      ]
    },
    {
      "cell_type": "code",
      "metadata": {
        "id": "cSMM6JehW5T8",
        "colab_type": "code",
        "colab": {}
      },
      "source": [
        "# Create new feature for the total number of rooms for an apartment.\n",
        "train['total_rooms'] = train['bathrooms'] + train['bedrooms']\n",
        "test['total_rooms'] = test['bathrooms'] + test['bedrooms']"
      ],
      "execution_count": 0,
      "outputs": []
    },
    {
      "cell_type": "code",
      "metadata": {
        "id": "j84YJoEKYzuA",
        "colab_type": "code",
        "colab": {}
      },
      "source": [
        "# Create new feature for the ratio of bathrooms to bedrooms.\n",
        "train['bath_bed_ratio'] = train['bathrooms'] / train['bedrooms']\n",
        "test['bath_bed_ratio'] = test['bathrooms'] / test['bedrooms']"
      ],
      "execution_count": 0,
      "outputs": []
    },
    {
      "cell_type": "code",
      "metadata": {
        "id": "5hK-dOGNcjfy",
        "colab_type": "code",
        "colab": {}
      },
      "source": [
        "# Replace infinite and NaN values with mean.\n",
        "train_no_inf = train[~train.isin([np.inf]).any(1)]\n",
        "test_no_inf = test[~test.isin([np.inf]).any(1)]\n",
        "\n",
        "train_ratio_mean = train_no_inf['bath_bed_ratio'].mean()\n",
        "test_ratio_mean = test_no_inf['bath_bed_ratio'].mean()\n",
        "\n",
        "train['bath_bed_ratio'] = train['bath_bed_ratio'].replace(np.inf, train_ratio_mean).round(2)\n",
        "test['bath_bed_ratio'] = test['bath_bed_ratio'].replace(np.inf, test_ratio_mean).round(2)\n",
        "\n",
        "train['bath_bed_ratio'] = train['bath_bed_ratio'].replace(np.nan, train_ratio_mean).round(2)\n",
        "test['bath_bed_ratio'] = test['bath_bed_ratio'].replace(np.nan, test_ratio_mean).round(2)"
      ],
      "execution_count": 0,
      "outputs": []
    },
    {
      "cell_type": "markdown",
      "metadata": {
        "id": "_MJHfMQYZusg",
        "colab_type": "text"
      },
      "source": [
        "## Fit a linear regression model with at least two features."
      ]
    },
    {
      "cell_type": "code",
      "metadata": {
        "id": "EULk7hJGZwdU",
        "colab_type": "code",
        "colab": {
          "base_uri": "https://localhost:8080/",
          "height": 69
        },
        "outputId": "5d2a02f5-d312-4d06-c710-8d6c6849440c"
      },
      "source": [
        "# 1. Import the appropriate estimator class from Scikit-Learn.\n",
        "from sklearn.linear_model import LinearRegression\n",
        "\n",
        "# 2. Instantiate this class.\n",
        "model = LinearRegression()\n",
        "\n",
        "# 3. Arrange X features matrices (already did y target vector).\n",
        "features = ['total_rooms', 'bath_bed_ratio', 'latitude', 'longitude']\n",
        "X_train = train[features]\n",
        "X_test = test[features]\n",
        "print(f'Linear Regression, dependent on: {features}')\n",
        "\n",
        "# 4. Fit the model.\n",
        "model.fit(X_train, y_train)\n",
        "y_pred = model.predict(X_train)\n",
        "mae = mean_absolute_error(y_train, y_pred)\n",
        "print(f'Train Error: {mae:.2f} percentage points')\n",
        "\n",
        "# 5. Apply the model to new data.\n",
        "y_pred = model.predict(X_test)\n",
        "mae = mean_absolute_error(y_test, y_pred)\n",
        "print(f'Test Error: {mae:.2f} percentage points')"
      ],
      "execution_count": 134,
      "outputs": [
        {
          "output_type": "stream",
          "text": [
            "Linear Regression, dependent on: ['total_rooms', 'bath_bed_ratio', 'latitude', 'longitude']\n",
            "Train Error: 772.47 percentage points\n",
            "Test Error: 784.67 percentage points\n"
          ],
          "name": "stdout"
        }
      ]
    },
    {
      "cell_type": "markdown",
      "metadata": {
        "id": "3EnBdJg_lYM8",
        "colab_type": "text"
      },
      "source": [
        "## Get the model's coefficients and intercept."
      ]
    },
    {
      "cell_type": "code",
      "metadata": {
        "id": "NLsS3S-3lZI_",
        "colab_type": "code",
        "colab": {
          "base_uri": "https://localhost:8080/",
          "height": 103
        },
        "outputId": "3e8d13f0-30c4-4948-d420-887a4dbd9639"
      },
      "source": [
        "print('Intercept', model.intercept_)\n",
        "coefficients = pd.Series(model.coef_, features)\n",
        "print(coefficients.to_string())"
      ],
      "execution_count": 136,
      "outputs": [
        {
          "output_type": "stream",
          "text": [
            "Intercept -1358407.953726254\n",
            "total_rooms         913.507831\n",
            "bath_bed_ratio     1524.830255\n",
            "latitude           2092.005789\n",
            "longitude        -17210.149025\n"
          ],
          "name": "stdout"
        }
      ]
    },
    {
      "cell_type": "markdown",
      "metadata": {
        "id": "W6yPAZvAqAdB",
        "colab_type": "text"
      },
      "source": [
        "## Get regression metrics RMSE, MAE, and $R^2$, for both the train and test data."
      ]
    },
    {
      "cell_type": "code",
      "metadata": {
        "id": "6Q_AAG5Ptf6i",
        "colab_type": "code",
        "colab": {
          "base_uri": "https://localhost:8080/",
          "height": 86
        },
        "outputId": "ecfe6ac7-0c86-4932-ee24-7edd6ba9e99a"
      },
      "source": [
        "# For the training data.\n",
        "from sklearn.metrics import mean_absolute_error, mean_squared_error, r2_score\n",
        "\n",
        "y = train[target]\n",
        "y_pred = model.predict(X_train)\n",
        "\n",
        "mse = mean_squared_error(y, y_pred)\n",
        "rmse = np.sqrt(mse)\n",
        "mae = mean_absolute_error(y, y_pred)\n",
        "r2 = r2_score(y, y_pred)\n",
        "print('Mean Squared Error:', mse)\n",
        "print('Root Mean Squared Error:', rmse)\n",
        "print('Mean Absolute Error:', mae)\n",
        "print('R^2:', r2)"
      ],
      "execution_count": 146,
      "outputs": [
        {
          "output_type": "stream",
          "text": [
            "Mean Squared Error: 1414524.4328843853\n",
            "Root Mean Squared Error: 1189.3378127699402\n",
            "Mean Absolute Error: 772.4702662614842\n",
            "R^2: 0.5444407156321917\n"
          ],
          "name": "stdout"
        }
      ]
    },
    {
      "cell_type": "code",
      "metadata": {
        "id": "cd9NaSSlqH_P",
        "colab_type": "code",
        "colab": {
          "base_uri": "https://localhost:8080/",
          "height": 86
        },
        "outputId": "b26bd1d0-7ec3-440d-a150-21a3c25e7877"
      },
      "source": [
        "# For the test data.\n",
        "y = test[target]\n",
        "y_pred = model.predict(X_test)\n",
        "\n",
        "mse = mean_squared_error(y, y_pred)\n",
        "rmse = np.sqrt(mse)\n",
        "mae = mean_absolute_error(y, y_pred)\n",
        "r2 = r2_score(y, y_pred)\n",
        "print('Mean Squared Error:', mse)\n",
        "print('Root Mean Squared Error:', rmse)\n",
        "print('Mean Absolute Error:', mae)\n",
        "print('R^2:', r2)"
      ],
      "execution_count": 147,
      "outputs": [
        {
          "output_type": "stream",
          "text": [
            "Mean Squared Error: 1393065.2940971793\n",
            "Root Mean Squared Error: 1180.2818706127698\n",
            "Mean Absolute Error: 784.6718381468669\n",
            "R^2: 0.5517838605204604\n"
          ],
          "name": "stdout"
        }
      ]
    }
  ]
}