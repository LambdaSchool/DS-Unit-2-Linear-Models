{
  "nbformat": 4,
  "nbformat_minor": 0,
  "metadata": {
    "colab": {
      "name": "assignment_regression_classification_2.ipynb",
      "version": "0.3.2",
      "provenance": [],
      "collapsed_sections": []
    },
    "kernelspec": {
      "name": "python3",
      "display_name": "Python 3"
    }
  },
  "cells": [
    {
      "cell_type": "markdown",
      "metadata": {
        "id": "7IXUfiQ2UKj6",
        "colab_type": "text"
      },
      "source": [
        "Lambda School Data Science, Unit 2: Predictive Modeling\n",
        "\n",
        "# Regression & Classification, Module 2\n",
        "\n",
        "## Assignment\n",
        "\n",
        "You'll continue to **predict how much it costs to rent an apartment in NYC,** using the dataset from renthop.com.\n",
        "\n",
        "- [ ] Do train/test split. Use data from April & May 2016 to train. Use data from June 2016 to test.\n",
        "- [ ] Engineer at least two new features. (See below for explanation & ideas.)\n",
        "- [ ] Fit a linear regression model with at least two features.\n",
        "- [ ] Get the model's coefficients and intercept.\n",
        "- [ ] Get regression metrics RMSE, MAE, and $R^2$, for both the train and test data.\n",
        "- [ ] What's the best test MAE you can get? Share your score and features used with your cohort on Slack!\n",
        "- [ ] As always, commit your notebook to your fork of the GitHub repo.\n",
        "\n",
        "\n",
        "#### [Feature Engineering](https://en.wikipedia.org/wiki/Feature_engineering)\n",
        "\n",
        "> \"Some machine learning projects succeed and some fail. What makes the difference? Easily the most important factor is the features used.\" — Pedro Domingos, [\"A Few Useful Things to Know about Machine Learning\"](https://homes.cs.washington.edu/~pedrod/papers/cacm12.pdf)\n",
        "\n",
        "> \"Coming up with features is difficult, time-consuming, requires expert knowledge. 'Applied machine learning' is basically feature engineering.\" — Andrew Ng, [Machine Learning and AI via Brain simulations](https://forum.stanford.edu/events/2011/2011slides/plenary/2011plenaryNg.pdf) \n",
        "\n",
        "> Feature engineering is the process of using domain knowledge of the data to create features that make machine learning algorithms work. \n",
        "\n",
        "#### Feature Ideas\n",
        "- Does the apartment have a description?\n",
        "- How long is the description?\n",
        "- How many total perks does each apartment have?\n",
        "- Are cats _or_ dogs allowed?\n",
        "- Are cats _and_ dogs allowed?\n",
        "- Total number of rooms (beds + baths)\n",
        "- Ratio of beds to baths\n",
        "- What's the neighborhood, based on address or latitude & longitude?\n",
        "\n",
        "## Stretch Goals\n",
        "- [ ] If you want more math, skim [_An Introduction to Statistical Learning_](http://faculty.marshall.usc.edu/gareth-james/ISL/ISLR%20Seventh%20Printing.pdf),  Chapter 3.1, Simple Linear Regression, & Chapter 3.2, Multiple Linear Regression\n",
        "- [ ] If you want more introduction, watch [Brandon Foltz, Statistics 101: Simple Linear Regression](https://www.youtube.com/watch?v=ZkjP5RJLQF4)\n",
        "(20 minutes, over 1 million views)\n",
        "- [ ] Do the [Plotly Dash](https://dash.plot.ly/) Tutorial, Parts 1 & 2.\n",
        "- [ ] Add your own stretch goal(s) !"
      ]
    },
    {
      "cell_type": "code",
      "metadata": {
        "id": "o9eSnDYhUGD7",
        "colab_type": "code",
        "colab": {}
      },
      "source": [
        "# If you're in Colab...\n",
        "import os, sys\n",
        "in_colab = 'google.colab' in sys.modules\n",
        "\n",
        "if in_colab:\n",
        "    # Install required python packages:\n",
        "    # pandas-profiling, version >= 2.0\n",
        "    # plotly, version >= 4.0\n",
        "    !pip install --upgrade pandas-profiling plotly\n",
        "    \n",
        "    # Pull files from Github repo\n",
        "    os.chdir('/content')\n",
        "    !git init .\n",
        "    !git remote add origin https://github.com/LambdaSchool/DS-Unit-2-Regression-Classification.git\n",
        "    !git pull origin master\n",
        "    \n",
        "    # Change into directory for module\n",
        "    os.chdir('module1')"
      ],
      "execution_count": 0,
      "outputs": []
    },
    {
      "cell_type": "code",
      "metadata": {
        "id": "ipBYS77PUwNR",
        "colab_type": "code",
        "colab": {}
      },
      "source": [
        "# Ignore this Numpy warning when using Plotly Express:\n",
        "# FutureWarning: Method .ptp is deprecated and will be removed in a future version. Use numpy.ptp instead.\n",
        "import warnings\n",
        "warnings.filterwarnings(action='ignore', category=FutureWarning, module='numpy')"
      ],
      "execution_count": 0,
      "outputs": []
    },
    {
      "cell_type": "code",
      "metadata": {
        "id": "cvrw-T3bZOuW",
        "colab_type": "code",
        "colab": {}
      },
      "source": [
        "import numpy as np\n",
        "import pandas as pd\n",
        "\n",
        "# Read New York City apartment rental listing data\n",
        "df = pd.read_csv('../data/renthop-nyc.csv')\n",
        "assert df.shape == (49352, 34)\n",
        "\n",
        "# Remove the most extreme 1% prices,\n",
        "# the most extreme .1% latitudes, &\n",
        "# the most extreme .1% longitudes\n",
        "df = df[(df['price'] >= np.percentile(df['price'], 0.5)) & \n",
        "        (df['price'] <= np.percentile(df['price'], 99.5)) & \n",
        "        (df['latitude'] >= np.percentile(df['latitude'], 0.05)) & \n",
        "        (df['latitude'] < np.percentile(df['latitude'], 99.95)) &\n",
        "        (df['longitude'] >= np.percentile(df['longitude'], 0.05)) & \n",
        "        (df['longitude'] <= np.percentile(df['longitude'], 99.95))]"
      ],
      "execution_count": 0,
      "outputs": []
    },
    {
      "cell_type": "code",
      "metadata": {
        "id": "8UFDokGqvxQE",
        "colab_type": "code",
        "colab": {
          "base_uri": "https://localhost:8080/",
          "height": 34
        },
        "outputId": "d618fbf0-bf8a-4404-faff-4d9060dd66cf"
      },
      "source": [
        "#Number of rows after removing the outliers is\n",
        "df.shape\n",
        "#down by 535 rows"
      ],
      "execution_count": 4,
      "outputs": [
        {
          "output_type": "execute_result",
          "data": {
            "text/plain": [
              "(48817, 34)"
            ]
          },
          "metadata": {
            "tags": []
          },
          "execution_count": 4
        }
      ]
    },
    {
      "cell_type": "code",
      "metadata": {
        "id": "mLOcMnChv1NO",
        "colab_type": "code",
        "colab": {
          "base_uri": "https://localhost:8080/",
          "height": 612
        },
        "outputId": "72f08db6-444a-470e-9ee8-2551e6bb99d3"
      },
      "source": [
        "#checking for Nulls\n",
        "df.isnull().sum()"
      ],
      "execution_count": 5,
      "outputs": [
        {
          "output_type": "execute_result",
          "data": {
            "text/plain": [
              "bathrooms                  0\n",
              "bedrooms                   0\n",
              "created                    0\n",
              "description             1425\n",
              "display_address          133\n",
              "latitude                   0\n",
              "longitude                  0\n",
              "price                      0\n",
              "street_address            10\n",
              "interest_level             0\n",
              "elevator                   0\n",
              "cats_allowed               0\n",
              "hardwood_floors            0\n",
              "dogs_allowed               0\n",
              "doorman                    0\n",
              "dishwasher                 0\n",
              "no_fee                     0\n",
              "laundry_in_building        0\n",
              "fitness_center             0\n",
              "pre-war                    0\n",
              "laundry_in_unit            0\n",
              "roof_deck                  0\n",
              "outdoor_space              0\n",
              "dining_room                0\n",
              "high_speed_internet        0\n",
              "balcony                    0\n",
              "swimming_pool              0\n",
              "new_construction           0\n",
              "terrace                    0\n",
              "exclusive                  0\n",
              "loft                       0\n",
              "garden_patio               0\n",
              "wheelchair_access          0\n",
              "common_outdoor_space       0\n",
              "dtype: int64"
            ]
          },
          "metadata": {
            "tags": []
          },
          "execution_count": 5
        }
      ]
    },
    {
      "cell_type": "code",
      "metadata": {
        "id": "B93auVK6wYnj",
        "colab_type": "code",
        "colab": {}
      },
      "source": [
        "#Adding the following new featrues\n",
        "df['bath_bed']=df['bathrooms']+df['bedrooms'] #Number of bathrooms plus bedrooms"
      ],
      "execution_count": 0,
      "outputs": []
    },
    {
      "cell_type": "code",
      "metadata": {
        "id": "8m7VbDimUtEe",
        "colab_type": "code",
        "colab": {
          "base_uri": "https://localhost:8080/",
          "height": 425
        },
        "outputId": "26e2ae56-585b-4867-b8c2-4e3a246b2739"
      },
      "source": [
        "perks_columns"
      ],
      "execution_count": 207,
      "outputs": [
        {
          "output_type": "execute_result",
          "data": {
            "text/plain": [
              "['elevator',\n",
              " 'cats_allowed',\n",
              " 'hardwood_floors',\n",
              " 'dogs_allowed',\n",
              " 'doorman',\n",
              " 'dishwasher',\n",
              " 'no_fee',\n",
              " 'laundry_in_building',\n",
              " 'fitness_center',\n",
              " 'pre-war',\n",
              " 'laundry_in_unit',\n",
              " 'roof_deck',\n",
              " 'outdoor_space',\n",
              " 'dining_room',\n",
              " 'high_speed_internet',\n",
              " 'balcony',\n",
              " 'swimming_pool',\n",
              " 'new_construction',\n",
              " 'terrace',\n",
              " 'exclusive',\n",
              " 'loft',\n",
              " 'garden_patio',\n",
              " 'wheelchair_access',\n",
              " 'common_outdoor_space']"
            ]
          },
          "metadata": {
            "tags": []
          },
          "execution_count": 207
        }
      ]
    },
    {
      "cell_type": "code",
      "metadata": {
        "id": "z-cbeL7bUmHY",
        "colab_type": "code",
        "colab": {
          "base_uri": "https://localhost:8080/",
          "height": 1000
        },
        "outputId": "1f30e381-a9e8-4dfa-9b42-df628a2bf725"
      },
      "source": [
        "df['street_address'].value_counts()"
      ],
      "execution_count": 218,
      "outputs": [
        {
          "output_type": "execute_result",
          "data": {
            "text/plain": [
              "3333 Broadway                        174\n",
              "505 West 37th Street                 167\n",
              "200 Water Street                     160\n",
              "90 Washington Street                 142\n",
              "100 Maiden Lane                      131\n",
              "401 East 34th Street                 129\n",
              "2 Gold Street                        120\n",
              "1 West Street                        119\n",
              "100 John Street                      115\n",
              "95 Wall Street                       106\n",
              "340 East 29th Street                  98\n",
              "50 West 34th Street                   94\n",
              "95 Christopher Street                 93\n",
              "8 Spruce Street                       88\n",
              "145 East 16th Street                  87\n",
              "888 Eighth Avenue                     85\n",
              "550 West 54th Street                  84\n",
              "10 Hanover Square                     83\n",
              "166 Second Avenue                     82\n",
              "505 W 37 St.                          80\n",
              "1 West St.                            79\n",
              "561 10 Ave.                           76\n",
              "236 East 36th Street                  75\n",
              "140 East 46th Street                  75\n",
              "1 Astor Place                         74\n",
              "45 Wall Street                        71\n",
              "200 East 72nd Street                  68\n",
              "260 West 54th Street                  68\n",
              "301 East 47th Street                  67\n",
              "360 West 34th Street                  67\n",
              "                                    ... \n",
              "330 East 39                            1\n",
              "150 E 46th St                          1\n",
              "657 Tenth ave                          1\n",
              "GRAMERCY                               1\n",
              "76 East First Street                   1\n",
              "4830 40th Street                       1\n",
              "137 Ave C                              1\n",
              "252 Mott St                            1\n",
              "425 East 73rd Street                   1\n",
              "219 East 88th Street                   1\n",
              "1684 Bergen St                         1\n",
              "102-10 Queens Boulevard                1\n",
              "621  17th Street                       1\n",
              "118 Christopher st                     1\n",
              "430 E 13th St                          1\n",
              "107 E 63 St.                           1\n",
              "310 12th St                            1\n",
              "105 W 29 St.                           1\n",
              "158 W 84th St #3A                      1\n",
              "30-52 34th Street                      1\n",
              "200 bowery                             1\n",
              "37 W. 54th Street                      1\n",
              "350 W 18 St.                           1\n",
              "1581 first ave                         1\n",
              "352 Bedford Avenue                     1\n",
              "360 West 55th St                       1\n",
              "1858 7th Ave                           1\n",
              "118-80 Metropolitan Ave                1\n",
              "2076 Frederick Douglass Boulevard      1\n",
              "70 Dahill Road                         1\n",
              "Name: street_address, Length: 15135, dtype: int64"
            ]
          },
          "metadata": {
            "tags": []
          },
          "execution_count": 218
        }
      ]
    },
    {
      "cell_type": "code",
      "metadata": {
        "id": "pyGPM5pLU_OY",
        "colab_type": "code",
        "colab": {
          "base_uri": "https://localhost:8080/",
          "height": 1000
        },
        "outputId": "08923c4f-6e45-4726-e42b-5a3dca4dac96"
      },
      "source": [
        "df['display_address'].value_counts()"
      ],
      "execution_count": 209,
      "outputs": [
        {
          "output_type": "execute_result",
          "data": {
            "text/plain": [
              "Broadway                                          435\n",
              "East 34th Street                                  355\n",
              "Second Avenue                                     349\n",
              "Wall Street                                       330\n",
              "West 37th Street                                  287\n",
              "West Street                                       257\n",
              "First Avenue                                      244\n",
              "Gold Street                                       241\n",
              "York Avenue                                       228\n",
              "Washington Street                                 227\n",
              "John Street                                       214\n",
              "Water Street                                      214\n",
              "East 39th Street                                  198\n",
              "East 89th Street                                  195\n",
              "West 54th Street                                  193\n",
              "Lexington Avenue                                  189\n",
              "West 42nd Street                                  184\n",
              "Christopher Street                                180\n",
              "Columbus Avenue                                   177\n",
              "W 37 St.                                          176\n",
              "Third Avenue                                      175\n",
              "East 35th Street                                  174\n",
              "West 34th Street                                  169\n",
              "Fifth Avenue                                      167\n",
              "East 46th Street                                  167\n",
              "East 82nd Street                                  166\n",
              "East 29th Street                                  165\n",
              "West End Avenue                                   164\n",
              "Thompson Street                                   154\n",
              "East 88th Street                                  151\n",
              "                                                 ... \n",
              "east 19th street                                    1\n",
              "457 Lafayette ave                                   1\n",
              "24-25  28th St.                                     1\n",
              "51st St                                             1\n",
              "117 east 71st street                                1\n",
              "East 3rd St. WONT LAST!!!                           1\n",
              "409 Madison Street (Between Tompkins & Throop)      1\n",
              "730 Lorimer Street                                  1\n",
              "E 106 Street                                        1\n",
              "East 85th                                           1\n",
              "232 Elizabeth                                       1\n",
              "1 BEDROOM EAST 49TH STREET! ONE OF A KIND!          1\n",
              "Juno Street                                         1\n",
              "Debrosses St.                                       1\n",
              "Lex Ave prime 20s                                   1\n",
              "1av and e 9                                         1\n",
              "154 E 7 St.                                         1\n",
              "123 Waverly Ave.\\r                                  1\n",
              "410 East 20th Street                                1\n",
              "Havemeyer St                                        1\n",
              "29th Ave                                            1\n",
              "200 East 87th Street                                1\n",
              "EXCLUSIVE! NO FEE! WONDERFUL 2BEDROOM!              1\n",
              "287 Avenue C                                        1\n",
              "W 99th St                                           1\n",
              " Lafayette Avenue                                   1\n",
              "Fifth ave & w 15th st                               1\n",
              " Willoughby Avenue                                  1\n",
              "201 East 36th Street                                1\n",
              "W.26th St.                                          1\n",
              "Name: display_address, Length: 8674, dtype: int64"
            ]
          },
          "metadata": {
            "tags": []
          },
          "execution_count": 209
        }
      ]
    },
    {
      "cell_type": "code",
      "metadata": {
        "id": "cio6jKuEw2ES",
        "colab_type": "code",
        "colab": {
          "base_uri": "https://localhost:8080/",
          "height": 1000
        },
        "outputId": "78659bfc-64e1-4d33-ce3c-4c6ad054362a"
      },
      "source": [
        "df[['display_address','street_address']]"
      ],
      "execution_count": 204,
      "outputs": [
        {
          "output_type": "execute_result",
          "data": {
            "text/html": [
              "<div>\n",
              "<style scoped>\n",
              "    .dataframe tbody tr th:only-of-type {\n",
              "        vertical-align: middle;\n",
              "    }\n",
              "\n",
              "    .dataframe tbody tr th {\n",
              "        vertical-align: top;\n",
              "    }\n",
              "\n",
              "    .dataframe thead th {\n",
              "        text-align: right;\n",
              "    }\n",
              "</style>\n",
              "<table border=\"1\" class=\"dataframe\">\n",
              "  <thead>\n",
              "    <tr style=\"text-align: right;\">\n",
              "      <th></th>\n",
              "      <th>display_address</th>\n",
              "      <th>street_address</th>\n",
              "    </tr>\n",
              "  </thead>\n",
              "  <tbody>\n",
              "    <tr>\n",
              "      <th>0</th>\n",
              "      <td>Metropolitan Avenue</td>\n",
              "      <td>792 Metropolitan Avenue</td>\n",
              "    </tr>\n",
              "    <tr>\n",
              "      <th>1</th>\n",
              "      <td>Columbus Avenue</td>\n",
              "      <td>808 Columbus Avenue</td>\n",
              "    </tr>\n",
              "    <tr>\n",
              "      <th>2</th>\n",
              "      <td>W 13 Street</td>\n",
              "      <td>241 W 13 Street</td>\n",
              "    </tr>\n",
              "    <tr>\n",
              "      <th>3</th>\n",
              "      <td>East 49th Street</td>\n",
              "      <td>333 East 49th Street</td>\n",
              "    </tr>\n",
              "    <tr>\n",
              "      <th>4</th>\n",
              "      <td>West 143rd Street</td>\n",
              "      <td>500 West 143rd Street</td>\n",
              "    </tr>\n",
              "    <tr>\n",
              "      <th>5</th>\n",
              "      <td>West 18th Street</td>\n",
              "      <td>350 West 18th Street</td>\n",
              "    </tr>\n",
              "    <tr>\n",
              "      <th>6</th>\n",
              "      <td>West 107th Street</td>\n",
              "      <td>210 West 107th Street</td>\n",
              "    </tr>\n",
              "    <tr>\n",
              "      <th>7</th>\n",
              "      <td>West 21st Street</td>\n",
              "      <td>155 West 21st Street</td>\n",
              "    </tr>\n",
              "    <tr>\n",
              "      <th>8</th>\n",
              "      <td>Hamilton Terrace</td>\n",
              "      <td>63 Hamilton Terrace</td>\n",
              "    </tr>\n",
              "    <tr>\n",
              "      <th>9</th>\n",
              "      <td>522 E 11th</td>\n",
              "      <td>522 E 11th</td>\n",
              "    </tr>\n",
              "    <tr>\n",
              "      <th>10</th>\n",
              "      <td>York Avenue</td>\n",
              "      <td>1661 York Avenue</td>\n",
              "    </tr>\n",
              "    <tr>\n",
              "      <th>11</th>\n",
              "      <td>W. 173rd Street</td>\n",
              "      <td>644 W. 173rd Street</td>\n",
              "    </tr>\n",
              "    <tr>\n",
              "      <th>12</th>\n",
              "      <td>E 38th St</td>\n",
              "      <td>137 E 38th St</td>\n",
              "    </tr>\n",
              "    <tr>\n",
              "      <th>13</th>\n",
              "      <td>West 63rd Street</td>\n",
              "      <td>30 West 63rd Street</td>\n",
              "    </tr>\n",
              "    <tr>\n",
              "      <th>14</th>\n",
              "      <td>East 56th St..</td>\n",
              "      <td>315 East 56th St..</td>\n",
              "    </tr>\n",
              "    <tr>\n",
              "      <th>15</th>\n",
              "      <td>East 34th Street</td>\n",
              "      <td>340 East 34th Street</td>\n",
              "    </tr>\n",
              "    <tr>\n",
              "      <th>16</th>\n",
              "      <td>1st Ave.</td>\n",
              "      <td>214 1st Ave.</td>\n",
              "    </tr>\n",
              "    <tr>\n",
              "      <th>17</th>\n",
              "      <td>Thayer St</td>\n",
              "      <td>98 Thayer St</td>\n",
              "    </tr>\n",
              "    <tr>\n",
              "      <th>18</th>\n",
              "      <td>West 106th Street</td>\n",
              "      <td>127 West 106th Street</td>\n",
              "    </tr>\n",
              "    <tr>\n",
              "      <th>19</th>\n",
              "      <td>1st Avenue</td>\n",
              "      <td>272 1st Avenue</td>\n",
              "    </tr>\n",
              "    <tr>\n",
              "      <th>20</th>\n",
              "      <td>Madison Avenue</td>\n",
              "      <td>121 Madison Avenue</td>\n",
              "    </tr>\n",
              "    <tr>\n",
              "      <th>21</th>\n",
              "      <td>E 30th St,</td>\n",
              "      <td>210 E 30th St,</td>\n",
              "    </tr>\n",
              "    <tr>\n",
              "      <th>22</th>\n",
              "      <td>East 35th Street</td>\n",
              "      <td>326 East 35th Street</td>\n",
              "    </tr>\n",
              "    <tr>\n",
              "      <th>23</th>\n",
              "      <td>Liberty Street</td>\n",
              "      <td>10 Liberty Street</td>\n",
              "    </tr>\n",
              "    <tr>\n",
              "      <th>24</th>\n",
              "      <td>W 18 St.</td>\n",
              "      <td>30 W 18 St.</td>\n",
              "    </tr>\n",
              "    <tr>\n",
              "      <th>25</th>\n",
              "      <td>East 56th</td>\n",
              "      <td>310 East 56th</td>\n",
              "    </tr>\n",
              "    <tr>\n",
              "      <th>26</th>\n",
              "      <td>E 81st St.</td>\n",
              "      <td>444 E 81st St.</td>\n",
              "    </tr>\n",
              "    <tr>\n",
              "      <th>27</th>\n",
              "      <td>West 57th Street</td>\n",
              "      <td>601 West 57th Street</td>\n",
              "    </tr>\n",
              "    <tr>\n",
              "      <th>29</th>\n",
              "      <td>E 79th St.</td>\n",
              "      <td>435 E 79th St.</td>\n",
              "    </tr>\n",
              "    <tr>\n",
              "      <th>30</th>\n",
              "      <td>250 West 88th Street</td>\n",
              "      <td>250 West 88th Street</td>\n",
              "    </tr>\n",
              "    <tr>\n",
              "      <th>...</th>\n",
              "      <td>...</td>\n",
              "      <td>...</td>\n",
              "    </tr>\n",
              "    <tr>\n",
              "      <th>49322</th>\n",
              "      <td>North 10th Street</td>\n",
              "      <td>250 North 10th Street</td>\n",
              "    </tr>\n",
              "    <tr>\n",
              "      <th>49323</th>\n",
              "      <td>W 58th St</td>\n",
              "      <td>150 W 58th St</td>\n",
              "    </tr>\n",
              "    <tr>\n",
              "      <th>49324</th>\n",
              "      <td>East 78th Street</td>\n",
              "      <td>353 East 78th Street</td>\n",
              "    </tr>\n",
              "    <tr>\n",
              "      <th>49325</th>\n",
              "      <td>Ridge Blvd.</td>\n",
              "      <td>9319 Ridge Blvd</td>\n",
              "    </tr>\n",
              "    <tr>\n",
              "      <th>49326</th>\n",
              "      <td>West 81st Street</td>\n",
              "      <td>25 West 81st Street</td>\n",
              "    </tr>\n",
              "    <tr>\n",
              "      <th>49327</th>\n",
              "      <td>8th Avenue</td>\n",
              "      <td>888 8th Avenue</td>\n",
              "    </tr>\n",
              "    <tr>\n",
              "      <th>49328</th>\n",
              "      <td>Thompson Street</td>\n",
              "      <td>230 Thompson Street</td>\n",
              "    </tr>\n",
              "    <tr>\n",
              "      <th>49329</th>\n",
              "      <td>Water</td>\n",
              "      <td>200 Water</td>\n",
              "    </tr>\n",
              "    <tr>\n",
              "      <th>49330</th>\n",
              "      <td>East 12th Street</td>\n",
              "      <td>508 East 12th Street</td>\n",
              "    </tr>\n",
              "    <tr>\n",
              "      <th>49331</th>\n",
              "      <td>York Avenue</td>\n",
              "      <td>1661 York Avenue</td>\n",
              "    </tr>\n",
              "    <tr>\n",
              "      <th>49332</th>\n",
              "      <td>West 98th Street</td>\n",
              "      <td>220 West 98th Street</td>\n",
              "    </tr>\n",
              "    <tr>\n",
              "      <th>49333</th>\n",
              "      <td>West 58th Street</td>\n",
              "      <td>150 West 58th Street</td>\n",
              "    </tr>\n",
              "    <tr>\n",
              "      <th>49334</th>\n",
              "      <td>Nassau Street</td>\n",
              "      <td>Nassau Street</td>\n",
              "    </tr>\n",
              "    <tr>\n",
              "      <th>49335</th>\n",
              "      <td>Baxter Street</td>\n",
              "      <td>119 Baxter Street</td>\n",
              "    </tr>\n",
              "    <tr>\n",
              "      <th>49336</th>\n",
              "      <td>East 3rd Street</td>\n",
              "      <td>222 East 3rd Street</td>\n",
              "    </tr>\n",
              "    <tr>\n",
              "      <th>49337</th>\n",
              "      <td>E 77 St</td>\n",
              "      <td>425 E 77 St</td>\n",
              "    </tr>\n",
              "    <tr>\n",
              "      <th>49338</th>\n",
              "      <td>East 87th Street</td>\n",
              "      <td>501 East 87th Street</td>\n",
              "    </tr>\n",
              "    <tr>\n",
              "      <th>49339</th>\n",
              "      <td>East 72nd Street</td>\n",
              "      <td>200 East 72nd Street</td>\n",
              "    </tr>\n",
              "    <tr>\n",
              "      <th>49340</th>\n",
              "      <td>Eldert St</td>\n",
              "      <td>51 eldert st</td>\n",
              "    </tr>\n",
              "    <tr>\n",
              "      <th>49341</th>\n",
              "      <td>John Street</td>\n",
              "      <td>116 John Street</td>\n",
              "    </tr>\n",
              "    <tr>\n",
              "      <th>49342</th>\n",
              "      <td>W 54 St.</td>\n",
              "      <td>260 W 54 St.</td>\n",
              "    </tr>\n",
              "    <tr>\n",
              "      <th>49343</th>\n",
              "      <td>E 76 Street</td>\n",
              "      <td>191 E 76 Street</td>\n",
              "    </tr>\n",
              "    <tr>\n",
              "      <th>49344</th>\n",
              "      <td>Charles Street</td>\n",
              "      <td>6 Charles Street</td>\n",
              "    </tr>\n",
              "    <tr>\n",
              "      <th>49345</th>\n",
              "      <td>East 89th Street</td>\n",
              "      <td>117 East 89th Street</td>\n",
              "    </tr>\n",
              "    <tr>\n",
              "      <th>49346</th>\n",
              "      <td>East 10th Street</td>\n",
              "      <td>166 2nd avenue</td>\n",
              "    </tr>\n",
              "    <tr>\n",
              "      <th>49347</th>\n",
              "      <td>E 30 St</td>\n",
              "      <td>230 E 30 St</td>\n",
              "    </tr>\n",
              "    <tr>\n",
              "      <th>49348</th>\n",
              "      <td>Rector Pl</td>\n",
              "      <td>225 Rector Place</td>\n",
              "    </tr>\n",
              "    <tr>\n",
              "      <th>49349</th>\n",
              "      <td>West 45th Street</td>\n",
              "      <td>341 West 45th Street</td>\n",
              "    </tr>\n",
              "    <tr>\n",
              "      <th>49350</th>\n",
              "      <td>Wall Street</td>\n",
              "      <td>37 Wall Street</td>\n",
              "    </tr>\n",
              "    <tr>\n",
              "      <th>49351</th>\n",
              "      <td>Park Terrace East</td>\n",
              "      <td>30 Park Terrace East</td>\n",
              "    </tr>\n",
              "  </tbody>\n",
              "</table>\n",
              "<p>48817 rows × 2 columns</p>\n",
              "</div>"
            ],
            "text/plain": [
              "            display_address           street_address\n",
              "0       Metropolitan Avenue  792 Metropolitan Avenue\n",
              "1           Columbus Avenue      808 Columbus Avenue\n",
              "2               W 13 Street          241 W 13 Street\n",
              "3          East 49th Street     333 East 49th Street\n",
              "4         West 143rd Street    500 West 143rd Street\n",
              "5          West 18th Street     350 West 18th Street\n",
              "6         West 107th Street    210 West 107th Street\n",
              "7          West 21st Street     155 West 21st Street\n",
              "8          Hamilton Terrace      63 Hamilton Terrace\n",
              "9                522 E 11th               522 E 11th\n",
              "10              York Avenue         1661 York Avenue\n",
              "11          W. 173rd Street      644 W. 173rd Street\n",
              "12                E 38th St            137 E 38th St\n",
              "13         West 63rd Street      30 West 63rd Street\n",
              "14           East 56th St..       315 East 56th St..\n",
              "15         East 34th Street     340 East 34th Street\n",
              "16                 1st Ave.             214 1st Ave.\n",
              "17                Thayer St             98 Thayer St\n",
              "18        West 106th Street    127 West 106th Street\n",
              "19               1st Avenue           272 1st Avenue\n",
              "20           Madison Avenue       121 Madison Avenue\n",
              "21               E 30th St,           210 E 30th St,\n",
              "22         East 35th Street     326 East 35th Street\n",
              "23           Liberty Street        10 Liberty Street\n",
              "24                 W 18 St.              30 W 18 St.\n",
              "25                East 56th            310 East 56th\n",
              "26               E 81st St.           444 E 81st St.\n",
              "27         West 57th Street     601 West 57th Street\n",
              "29               E 79th St.           435 E 79th St.\n",
              "30     250 West 88th Street     250 West 88th Street\n",
              "...                     ...                      ...\n",
              "49322     North 10th Street    250 North 10th Street\n",
              "49323             W 58th St            150 W 58th St\n",
              "49324      East 78th Street     353 East 78th Street\n",
              "49325          Ridge Blvd.           9319 Ridge Blvd\n",
              "49326      West 81st Street      25 West 81st Street\n",
              "49327            8th Avenue           888 8th Avenue\n",
              "49328       Thompson Street      230 Thompson Street\n",
              "49329                 Water                200 Water\n",
              "49330      East 12th Street     508 East 12th Street\n",
              "49331           York Avenue         1661 York Avenue\n",
              "49332      West 98th Street     220 West 98th Street\n",
              "49333      West 58th Street     150 West 58th Street\n",
              "49334         Nassau Street            Nassau Street\n",
              "49335         Baxter Street        119 Baxter Street\n",
              "49336       East 3rd Street      222 East 3rd Street\n",
              "49337               E 77 St              425 E 77 St\n",
              "49338      East 87th Street     501 East 87th Street\n",
              "49339      East 72nd Street     200 East 72nd Street\n",
              "49340             Eldert St             51 eldert st\n",
              "49341           John Street          116 John Street\n",
              "49342              W 54 St.             260 W 54 St.\n",
              "49343           E 76 Street          191 E 76 Street\n",
              "49344        Charles Street         6 Charles Street\n",
              "49345      East 89th Street     117 East 89th Street\n",
              "49346      East 10th Street           166 2nd avenue\n",
              "49347               E 30 St              230 E 30 St\n",
              "49348             Rector Pl         225 Rector Place\n",
              "49349      West 45th Street     341 West 45th Street\n",
              "49350           Wall Street           37 Wall Street\n",
              "49351     Park Terrace East     30 Park Terrace East\n",
              "\n",
              "[48817 rows x 2 columns]"
            ]
          },
          "metadata": {
            "tags": []
          },
          "execution_count": 204
        }
      ]
    },
    {
      "cell_type": "code",
      "metadata": {
        "id": "aX9XvKtlxI4j",
        "colab_type": "code",
        "colab": {
          "base_uri": "https://localhost:8080/",
          "height": 85
        },
        "outputId": "e95b014c-139c-4a5b-fcd6-725667552063"
      },
      "source": [
        "#Converting interest level into integer or rather cardinal\n",
        "df['interest_level'].value_counts()"
      ],
      "execution_count": 8,
      "outputs": [
        {
          "output_type": "execute_result",
          "data": {
            "text/plain": [
              "low       33946\n",
              "medium    11181\n",
              "high       3690\n",
              "Name: interest_level, dtype: int64"
            ]
          },
          "metadata": {
            "tags": []
          },
          "execution_count": 8
        }
      ]
    },
    {
      "cell_type": "code",
      "metadata": {
        "id": "ZJJ4dKv5xa5l",
        "colab_type": "code",
        "colab": {}
      },
      "source": [
        "df['interest_level'] = df['interest_level'].replace({'low':1,'medium':2,'high':3}).astype('int')"
      ],
      "execution_count": 0,
      "outputs": []
    },
    {
      "cell_type": "code",
      "metadata": {
        "id": "QcDM9uZvxsOK",
        "colab_type": "code",
        "colab": {
          "base_uri": "https://localhost:8080/",
          "height": 85
        },
        "outputId": "5d22d42c-fb0f-4764-ee7e-cbf6a57b233f"
      },
      "source": [
        "df['interest_level'].value_counts()"
      ],
      "execution_count": 10,
      "outputs": [
        {
          "output_type": "execute_result",
          "data": {
            "text/plain": [
              "1    33946\n",
              "2    11181\n",
              "3     3690\n",
              "Name: interest_level, dtype: int64"
            ]
          },
          "metadata": {
            "tags": []
          },
          "execution_count": 10
        }
      ]
    },
    {
      "cell_type": "code",
      "metadata": {
        "id": "SFY0xdOKxvP-",
        "colab_type": "code",
        "colab": {}
      },
      "source": [
        "#Chaging created feature datetime\n",
        "df['created'] = pd.to_datetime(df['created'],infer_datetime_format=True)"
      ],
      "execution_count": 0,
      "outputs": []
    },
    {
      "cell_type": "code",
      "metadata": {
        "id": "AimuuQj5x7if",
        "colab_type": "code",
        "colab": {
          "base_uri": "https://localhost:8080/",
          "height": 442
        },
        "outputId": "4270b3ee-d9a2-4f7a-9ace-adcbdcb63ca1"
      },
      "source": [
        "#Getting the boolean columns and adding them to perk columns\n",
        "perks_columns = []\n",
        "for col in df:\n",
        "  if(df[col].nunique()==2):\n",
        "    perks_columns.append(col)\n",
        "print(len(perks_columns))\n",
        "perks_columns"
      ],
      "execution_count": 15,
      "outputs": [
        {
          "output_type": "stream",
          "text": [
            "24\n"
          ],
          "name": "stdout"
        },
        {
          "output_type": "execute_result",
          "data": {
            "text/plain": [
              "['elevator',\n",
              " 'cats_allowed',\n",
              " 'hardwood_floors',\n",
              " 'dogs_allowed',\n",
              " 'doorman',\n",
              " 'dishwasher',\n",
              " 'no_fee',\n",
              " 'laundry_in_building',\n",
              " 'fitness_center',\n",
              " 'pre-war',\n",
              " 'laundry_in_unit',\n",
              " 'roof_deck',\n",
              " 'outdoor_space',\n",
              " 'dining_room',\n",
              " 'high_speed_internet',\n",
              " 'balcony',\n",
              " 'swimming_pool',\n",
              " 'new_construction',\n",
              " 'terrace',\n",
              " 'exclusive',\n",
              " 'loft',\n",
              " 'garden_patio',\n",
              " 'wheelchair_access',\n",
              " 'common_outdoor_space']"
            ]
          },
          "metadata": {
            "tags": []
          },
          "execution_count": 15
        }
      ]
    },
    {
      "cell_type": "code",
      "metadata": {
        "id": "C49s_CnSDS7V",
        "colab_type": "code",
        "colab": {}
      },
      "source": [
        "df['openspaces']=df['roof_deck']+df['outdoor_space']+df['balcony']+df['terrace']+df['loft']+df['garden_patio']"
      ],
      "execution_count": 0,
      "outputs": []
    },
    {
      "cell_type": "code",
      "metadata": {
        "id": "I7iu6we6yl3M",
        "colab_type": "code",
        "colab": {}
      },
      "source": [
        "#Getting the feature of number of perks for a place\n",
        "df['no_of_perks']=df[perks_columns].sum(axis=1)"
      ],
      "execution_count": 0,
      "outputs": []
    },
    {
      "cell_type": "code",
      "metadata": {
        "id": "RszJNmXlzS4q",
        "colab_type": "code",
        "colab": {}
      },
      "source": [
        "#Getting the bed to bath ratio\n",
        "df['bed_per_bathrooms']=df['bedrooms']/df['bathrooms']\n",
        "#Removing this columns as some values is inf and I currently do not know how to address the inf values\n"
      ],
      "execution_count": 0,
      "outputs": []
    },
    {
      "cell_type": "code",
      "metadata": {
        "id": "lmm71-iDHU7y",
        "colab_type": "code",
        "colab": {
          "base_uri": "https://localhost:8080/",
          "height": 34
        },
        "outputId": "2a19b6f9-6297-4974-d0a2-250ceff56dd0"
      },
      "source": [
        "df['bed_per_bathrooms'].isna().sum()"
      ],
      "execution_count": 150,
      "outputs": [
        {
          "output_type": "execute_result",
          "data": {
            "text/plain": [
              "0"
            ]
          },
          "metadata": {
            "tags": []
          },
          "execution_count": 150
        }
      ]
    },
    {
      "cell_type": "code",
      "metadata": {
        "id": "5fEQaSSuIyx9",
        "colab_type": "code",
        "colab": {
          "base_uri": "https://localhost:8080/",
          "height": 170
        },
        "outputId": "4ef659e3-c1ec-448e-bfb0-e18b0d1edfdb"
      },
      "source": [
        "df['bed_per_bathrooms'].describe()"
      ],
      "execution_count": 149,
      "outputs": [
        {
          "output_type": "execute_result",
          "data": {
            "text/plain": [
              "count    48817.000000\n",
              "mean        32.600846\n",
              "std        558.836894\n",
              "min          0.000000\n",
              "25%          1.000000\n",
              "50%          1.000000\n",
              "75%          2.000000\n",
              "max       9999.000000\n",
              "Name: bed_per_bathrooms, dtype: float64"
            ]
          },
          "metadata": {
            "tags": []
          },
          "execution_count": 149
        }
      ]
    },
    {
      "cell_type": "code",
      "metadata": {
        "id": "igtmwnB4LKw6",
        "colab_type": "code",
        "colab": {}
      },
      "source": [
        "df['bed_per_bathrooms'] = df['bed_per_bathrooms'].fillna(0)"
      ],
      "execution_count": 0,
      "outputs": []
    },
    {
      "cell_type": "code",
      "metadata": {
        "id": "3aY_65KdJfXT",
        "colab_type": "code",
        "colab": {}
      },
      "source": [
        "df['bed_per_bathrooms'] = df['bed_per_bathrooms'].replace(np.inf,9999)"
      ],
      "execution_count": 0,
      "outputs": []
    },
    {
      "cell_type": "code",
      "metadata": {
        "id": "HZLxZ7Yy0W45",
        "colab_type": "code",
        "colab": {
          "base_uri": "https://localhost:8080/",
          "height": 136
        },
        "outputId": "257debec-f29a-40ce-f679-6ac26f00890d"
      },
      "source": [
        "#Now splitting the date into train and test based on created date\n",
        "# April and May are Train data\n",
        "#June is the test data\n",
        "df['created'].describe()"
      ],
      "execution_count": 26,
      "outputs": [
        {
          "output_type": "execute_result",
          "data": {
            "text/plain": [
              "count                   48817\n",
              "unique                  48148\n",
              "top       2016-05-14 01:11:03\n",
              "freq                        3\n",
              "first     2016-04-01 22:12:41\n",
              "last      2016-06-29 21:41:47\n",
              "Name: created, dtype: object"
            ]
          },
          "metadata": {
            "tags": []
          },
          "execution_count": 26
        }
      ]
    },
    {
      "cell_type": "code",
      "metadata": {
        "id": "NaPZdziA1a7k",
        "colab_type": "code",
        "colab": {
          "base_uri": "https://localhost:8080/",
          "height": 513
        },
        "outputId": "cb5789ca-dc73-4294-cd82-12297d943685"
      },
      "source": [
        "df.head()"
      ],
      "execution_count": 30,
      "outputs": [
        {
          "output_type": "execute_result",
          "data": {
            "text/html": [
              "<div>\n",
              "<style scoped>\n",
              "    .dataframe tbody tr th:only-of-type {\n",
              "        vertical-align: middle;\n",
              "    }\n",
              "\n",
              "    .dataframe tbody tr th {\n",
              "        vertical-align: top;\n",
              "    }\n",
              "\n",
              "    .dataframe thead th {\n",
              "        text-align: right;\n",
              "    }\n",
              "</style>\n",
              "<table border=\"1\" class=\"dataframe\">\n",
              "  <thead>\n",
              "    <tr style=\"text-align: right;\">\n",
              "      <th></th>\n",
              "      <th>bathrooms</th>\n",
              "      <th>bedrooms</th>\n",
              "      <th>created</th>\n",
              "      <th>description</th>\n",
              "      <th>display_address</th>\n",
              "      <th>latitude</th>\n",
              "      <th>longitude</th>\n",
              "      <th>price</th>\n",
              "      <th>street_address</th>\n",
              "      <th>interest_level</th>\n",
              "      <th>elevator</th>\n",
              "      <th>cats_allowed</th>\n",
              "      <th>hardwood_floors</th>\n",
              "      <th>dogs_allowed</th>\n",
              "      <th>doorman</th>\n",
              "      <th>dishwasher</th>\n",
              "      <th>no_fee</th>\n",
              "      <th>laundry_in_building</th>\n",
              "      <th>fitness_center</th>\n",
              "      <th>pre-war</th>\n",
              "      <th>laundry_in_unit</th>\n",
              "      <th>roof_deck</th>\n",
              "      <th>outdoor_space</th>\n",
              "      <th>dining_room</th>\n",
              "      <th>high_speed_internet</th>\n",
              "      <th>balcony</th>\n",
              "      <th>swimming_pool</th>\n",
              "      <th>new_construction</th>\n",
              "      <th>terrace</th>\n",
              "      <th>exclusive</th>\n",
              "      <th>loft</th>\n",
              "      <th>garden_patio</th>\n",
              "      <th>wheelchair_access</th>\n",
              "      <th>common_outdoor_space</th>\n",
              "      <th>bath_bed</th>\n",
              "      <th>no_of_perks</th>\n",
              "      <th>bed_per_bathrooms</th>\n",
              "    </tr>\n",
              "  </thead>\n",
              "  <tbody>\n",
              "    <tr>\n",
              "      <th>0</th>\n",
              "      <td>1.5</td>\n",
              "      <td>3</td>\n",
              "      <td>2016-06-24 07:54:24</td>\n",
              "      <td>A Brand New 3 Bedroom 1.5 bath ApartmentEnjoy ...</td>\n",
              "      <td>Metropolitan Avenue</td>\n",
              "      <td>40.7145</td>\n",
              "      <td>-73.9425</td>\n",
              "      <td>3000</td>\n",
              "      <td>792 Metropolitan Avenue</td>\n",
              "      <td>2</td>\n",
              "      <td>0</td>\n",
              "      <td>0</td>\n",
              "      <td>0</td>\n",
              "      <td>0</td>\n",
              "      <td>0</td>\n",
              "      <td>0</td>\n",
              "      <td>0</td>\n",
              "      <td>0</td>\n",
              "      <td>0</td>\n",
              "      <td>0</td>\n",
              "      <td>0</td>\n",
              "      <td>0</td>\n",
              "      <td>0</td>\n",
              "      <td>0</td>\n",
              "      <td>0</td>\n",
              "      <td>0</td>\n",
              "      <td>0</td>\n",
              "      <td>0</td>\n",
              "      <td>0</td>\n",
              "      <td>0</td>\n",
              "      <td>0</td>\n",
              "      <td>0</td>\n",
              "      <td>0</td>\n",
              "      <td>0</td>\n",
              "      <td>4.5</td>\n",
              "      <td>0</td>\n",
              "      <td>2.0</td>\n",
              "    </tr>\n",
              "    <tr>\n",
              "      <th>1</th>\n",
              "      <td>1.0</td>\n",
              "      <td>2</td>\n",
              "      <td>2016-06-12 12:19:27</td>\n",
              "      <td></td>\n",
              "      <td>Columbus Avenue</td>\n",
              "      <td>40.7947</td>\n",
              "      <td>-73.9667</td>\n",
              "      <td>5465</td>\n",
              "      <td>808 Columbus Avenue</td>\n",
              "      <td>1</td>\n",
              "      <td>1</td>\n",
              "      <td>1</td>\n",
              "      <td>0</td>\n",
              "      <td>1</td>\n",
              "      <td>1</td>\n",
              "      <td>0</td>\n",
              "      <td>0</td>\n",
              "      <td>0</td>\n",
              "      <td>1</td>\n",
              "      <td>0</td>\n",
              "      <td>0</td>\n",
              "      <td>0</td>\n",
              "      <td>0</td>\n",
              "      <td>0</td>\n",
              "      <td>0</td>\n",
              "      <td>0</td>\n",
              "      <td>0</td>\n",
              "      <td>0</td>\n",
              "      <td>0</td>\n",
              "      <td>0</td>\n",
              "      <td>0</td>\n",
              "      <td>0</td>\n",
              "      <td>0</td>\n",
              "      <td>0</td>\n",
              "      <td>3.0</td>\n",
              "      <td>5</td>\n",
              "      <td>2.0</td>\n",
              "    </tr>\n",
              "    <tr>\n",
              "      <th>2</th>\n",
              "      <td>1.0</td>\n",
              "      <td>1</td>\n",
              "      <td>2016-04-17 03:26:41</td>\n",
              "      <td>Top Top West Village location, beautiful Pre-w...</td>\n",
              "      <td>W 13 Street</td>\n",
              "      <td>40.7388</td>\n",
              "      <td>-74.0018</td>\n",
              "      <td>2850</td>\n",
              "      <td>241 W 13 Street</td>\n",
              "      <td>3</td>\n",
              "      <td>0</td>\n",
              "      <td>0</td>\n",
              "      <td>1</td>\n",
              "      <td>0</td>\n",
              "      <td>0</td>\n",
              "      <td>1</td>\n",
              "      <td>0</td>\n",
              "      <td>1</td>\n",
              "      <td>0</td>\n",
              "      <td>0</td>\n",
              "      <td>0</td>\n",
              "      <td>0</td>\n",
              "      <td>0</td>\n",
              "      <td>0</td>\n",
              "      <td>0</td>\n",
              "      <td>0</td>\n",
              "      <td>0</td>\n",
              "      <td>0</td>\n",
              "      <td>0</td>\n",
              "      <td>0</td>\n",
              "      <td>0</td>\n",
              "      <td>0</td>\n",
              "      <td>0</td>\n",
              "      <td>0</td>\n",
              "      <td>2.0</td>\n",
              "      <td>3</td>\n",
              "      <td>1.0</td>\n",
              "    </tr>\n",
              "    <tr>\n",
              "      <th>3</th>\n",
              "      <td>1.0</td>\n",
              "      <td>1</td>\n",
              "      <td>2016-04-18 02:22:02</td>\n",
              "      <td>Building Amenities - Garage - Garden - fitness...</td>\n",
              "      <td>East 49th Street</td>\n",
              "      <td>40.7539</td>\n",
              "      <td>-73.9677</td>\n",
              "      <td>3275</td>\n",
              "      <td>333 East 49th Street</td>\n",
              "      <td>1</td>\n",
              "      <td>0</td>\n",
              "      <td>0</td>\n",
              "      <td>1</td>\n",
              "      <td>0</td>\n",
              "      <td>0</td>\n",
              "      <td>0</td>\n",
              "      <td>1</td>\n",
              "      <td>0</td>\n",
              "      <td>0</td>\n",
              "      <td>0</td>\n",
              "      <td>0</td>\n",
              "      <td>0</td>\n",
              "      <td>0</td>\n",
              "      <td>0</td>\n",
              "      <td>0</td>\n",
              "      <td>0</td>\n",
              "      <td>0</td>\n",
              "      <td>0</td>\n",
              "      <td>0</td>\n",
              "      <td>0</td>\n",
              "      <td>0</td>\n",
              "      <td>0</td>\n",
              "      <td>0</td>\n",
              "      <td>0</td>\n",
              "      <td>2.0</td>\n",
              "      <td>2</td>\n",
              "      <td>1.0</td>\n",
              "    </tr>\n",
              "    <tr>\n",
              "      <th>4</th>\n",
              "      <td>1.0</td>\n",
              "      <td>4</td>\n",
              "      <td>2016-04-28 01:32:41</td>\n",
              "      <td>Beautifully renovated 3 bedroom flex 4 bedroom...</td>\n",
              "      <td>West 143rd Street</td>\n",
              "      <td>40.8241</td>\n",
              "      <td>-73.9493</td>\n",
              "      <td>3350</td>\n",
              "      <td>500 West 143rd Street</td>\n",
              "      <td>1</td>\n",
              "      <td>0</td>\n",
              "      <td>0</td>\n",
              "      <td>0</td>\n",
              "      <td>0</td>\n",
              "      <td>0</td>\n",
              "      <td>0</td>\n",
              "      <td>0</td>\n",
              "      <td>0</td>\n",
              "      <td>0</td>\n",
              "      <td>1</td>\n",
              "      <td>0</td>\n",
              "      <td>0</td>\n",
              "      <td>0</td>\n",
              "      <td>0</td>\n",
              "      <td>0</td>\n",
              "      <td>0</td>\n",
              "      <td>0</td>\n",
              "      <td>0</td>\n",
              "      <td>0</td>\n",
              "      <td>0</td>\n",
              "      <td>0</td>\n",
              "      <td>0</td>\n",
              "      <td>0</td>\n",
              "      <td>0</td>\n",
              "      <td>5.0</td>\n",
              "      <td>1</td>\n",
              "      <td>4.0</td>\n",
              "    </tr>\n",
              "  </tbody>\n",
              "</table>\n",
              "</div>"
            ],
            "text/plain": [
              "   bathrooms  bedrooms  ... no_of_perks bed_per_bathrooms\n",
              "0        1.5         3  ...           0               2.0\n",
              "1        1.0         2  ...           5               2.0\n",
              "2        1.0         1  ...           3               1.0\n",
              "3        1.0         1  ...           2               1.0\n",
              "4        1.0         4  ...           1               4.0\n",
              "\n",
              "[5 rows x 37 columns]"
            ]
          },
          "metadata": {
            "tags": []
          },
          "execution_count": 30
        }
      ]
    },
    {
      "cell_type": "code",
      "metadata": {
        "id": "oR04ymA01FzL",
        "colab_type": "code",
        "colab": {
          "base_uri": "https://localhost:8080/",
          "height": 578
        },
        "outputId": "3899b591-b8af-4598-9770-b5181065abf2"
      },
      "source": [
        "#features are the columns which are either float or int\n",
        "features = [col for col in df if ((df[col].dtype=='float64') |(df[col].dtype=='int64'))]\n",
        "print(len(features))\n",
        "features\n",
        "#Removing price from the features as it is the target\n",
        "features.remove('price')\n",
        "features"
      ],
      "execution_count": 151,
      "outputs": [
        {
          "output_type": "stream",
          "text": [
            "33\n"
          ],
          "name": "stdout"
        },
        {
          "output_type": "execute_result",
          "data": {
            "text/plain": [
              "['bathrooms',\n",
              " 'bedrooms',\n",
              " 'latitude',\n",
              " 'longitude',\n",
              " 'interest_level',\n",
              " 'elevator',\n",
              " 'cats_allowed',\n",
              " 'hardwood_floors',\n",
              " 'dogs_allowed',\n",
              " 'doorman',\n",
              " 'dishwasher',\n",
              " 'no_fee',\n",
              " 'laundry_in_building',\n",
              " 'fitness_center',\n",
              " 'pre-war',\n",
              " 'laundry_in_unit',\n",
              " 'roof_deck',\n",
              " 'outdoor_space',\n",
              " 'dining_room',\n",
              " 'high_speed_internet',\n",
              " 'balcony',\n",
              " 'swimming_pool',\n",
              " 'new_construction',\n",
              " 'terrace',\n",
              " 'exclusive',\n",
              " 'loft',\n",
              " 'garden_patio',\n",
              " 'wheelchair_access',\n",
              " 'common_outdoor_space',\n",
              " 'bath_bed',\n",
              " 'openspaces',\n",
              " 'bed_per_bathrooms']"
            ]
          },
          "metadata": {
            "tags": []
          },
          "execution_count": 151
        }
      ]
    },
    {
      "cell_type": "code",
      "metadata": {
        "id": "mZxHYgRj0tZI",
        "colab_type": "code",
        "colab": {
          "base_uri": "https://localhost:8080/",
          "height": 34
        },
        "outputId": "1bfe7a04-7ce6-46e4-f553-c68d3708aaf4"
      },
      "source": [
        "train = df[df['created']<='2016-05-31']\n",
        "test= df[df['created']>'2016-05-31']\n",
        "train.shape,test.shape"
      ],
      "execution_count": 152,
      "outputs": [
        {
          "output_type": "execute_result",
          "data": {
            "text/plain": [
              "((31839, 37), (16978, 37))"
            ]
          },
          "metadata": {
            "tags": []
          },
          "execution_count": 152
        }
      ]
    },
    {
      "cell_type": "code",
      "metadata": {
        "id": "eDzKPwPaPIt8",
        "colab_type": "code",
        "colab": {
          "base_uri": "https://localhost:8080/",
          "height": 578
        },
        "outputId": "7db3a5ee-a6bf-4d7d-e721-26f24d58a8a7"
      },
      "source": [
        "features"
      ],
      "execution_count": 174,
      "outputs": [
        {
          "output_type": "execute_result",
          "data": {
            "text/plain": [
              "['bathrooms',\n",
              " 'bedrooms',\n",
              " 'latitude',\n",
              " 'longitude',\n",
              " 'interest_level',\n",
              " 'elevator',\n",
              " 'cats_allowed',\n",
              " 'hardwood_floors',\n",
              " 'dogs_allowed',\n",
              " 'doorman',\n",
              " 'dishwasher',\n",
              " 'no_fee',\n",
              " 'laundry_in_building',\n",
              " 'fitness_center',\n",
              " 'pre-war',\n",
              " 'laundry_in_unit',\n",
              " 'roof_deck',\n",
              " 'outdoor_space',\n",
              " 'dining_room',\n",
              " 'high_speed_internet',\n",
              " 'balcony',\n",
              " 'swimming_pool',\n",
              " 'new_construction',\n",
              " 'terrace',\n",
              " 'exclusive',\n",
              " 'loft',\n",
              " 'garden_patio',\n",
              " 'wheelchair_access',\n",
              " 'common_outdoor_space',\n",
              " 'bath_bed',\n",
              " 'openspaces',\n",
              " 'bed_per_bathrooms',\n",
              " 'no_of_perks']"
            ]
          },
          "metadata": {
            "tags": []
          },
          "execution_count": 174
        }
      ]
    },
    {
      "cell_type": "code",
      "metadata": {
        "id": "63APKKsVPK_o",
        "colab_type": "code",
        "colab": {}
      },
      "source": [
        "features = ['latitude', 'longitude','interest_level', 'elevator', 'cats_allowed',\n",
        " 'hardwood_floors', 'dogs_allowed', 'doorman', 'dishwasher', 'no_fee', 'laundry_in_building',\n",
        " 'fitness_center', 'pre-war', 'laundry_in_unit', 'dining_room', 'high_speed_internet',\n",
        " 'swimming_pool', 'new_construction', 'exclusive', 'wheelchair_access', 'common_outdoor_space',\n",
        " 'bath_bed', 'openspaces', 'bed_per_bathrooms', 'no_of_perks']"
      ],
      "execution_count": 0,
      "outputs": []
    },
    {
      "cell_type": "code",
      "metadata": {
        "id": "3IrDMbHtL6XL",
        "colab_type": "code",
        "colab": {}
      },
      "source": [
        "target = np.log(train['price'])"
      ],
      "execution_count": 0,
      "outputs": []
    },
    {
      "cell_type": "code",
      "metadata": {
        "id": "ftV28YPP2uSH",
        "colab_type": "code",
        "colab": {
          "base_uri": "https://localhost:8080/",
          "height": 34
        },
        "outputId": "c443169c-baa4-4e0e-9169-ef00fc80c072"
      },
      "source": [
        "#Now training the model on train data on Linear Regression model\n",
        "from sklearn.linear_model import LinearRegression\n",
        "model = LinearRegression()\n",
        "#Fitting the data on train data\n",
        "model.fit(train[features],target)"
      ],
      "execution_count": 177,
      "outputs": [
        {
          "output_type": "execute_result",
          "data": {
            "text/plain": [
              "LinearRegression(copy_X=True, fit_intercept=True, n_jobs=None, normalize=False)"
            ]
          },
          "metadata": {
            "tags": []
          },
          "execution_count": 177
        }
      ]
    },
    {
      "cell_type": "code",
      "metadata": {
        "id": "dS2SGJHKEhSy",
        "colab_type": "code",
        "colab": {
          "base_uri": "https://localhost:8080/",
          "height": 595
        },
        "outputId": "e0d9c1f5-55c9-4692-936f-d3029825ef87"
      },
      "source": [
        "coefficients.sort_values(ascending=False)"
      ],
      "execution_count": 178,
      "outputs": [
        {
          "output_type": "execute_result",
          "data": {
            "text/plain": [
              "openspaces              1.632372e+12\n",
              "bath_bed                4.111244e+11\n",
              "doorman                 4.361554e+10\n",
              "laundry_in_unit         4.361554e+10\n",
              "elevator                4.361554e+10\n",
              "dishwasher              4.361554e+10\n",
              "wheelchair_access       4.361554e+10\n",
              "fitness_center          4.361554e+10\n",
              "dining_room             4.361554e+10\n",
              "dogs_allowed            4.361554e+10\n",
              "exclusive               4.361554e+10\n",
              "swimming_pool           4.361554e+10\n",
              "cats_allowed            4.361554e+10\n",
              "no_fee                  4.361554e+10\n",
              "laundry_in_building     4.361554e+10\n",
              "pre-war                 4.361554e+10\n",
              "hardwood_floors         4.361554e+10\n",
              "new_construction        4.361554e+10\n",
              "common_outdoor_space    4.361554e+10\n",
              "high_speed_internet     4.361554e+10\n",
              "latitude                1.961060e-01\n",
              "bed_per_bathrooms       3.661015e-05\n",
              "interest_level         -1.230621e-01\n",
              "longitude              -4.133463e+00\n",
              "no_of_perks            -4.361554e+10\n",
              "bathrooms              -4.111244e+11\n",
              "bedrooms               -4.111244e+11\n",
              "terrace                -1.588756e+12\n",
              "garden_patio           -1.588756e+12\n",
              "outdoor_space          -1.588756e+12\n",
              "balcony                -1.588756e+12\n",
              "loft                   -1.588756e+12\n",
              "roof_deck              -1.588756e+12\n",
              "dtype: float64"
            ]
          },
          "metadata": {
            "tags": []
          },
          "execution_count": 178
        }
      ]
    },
    {
      "cell_type": "code",
      "metadata": {
        "id": "PJkiE8Jl7EMR",
        "colab_type": "code",
        "colab": {
          "base_uri": "https://localhost:8080/",
          "height": 68
        },
        "outputId": "f20966f0-f634-45eb-e816-3df22e05259e"
      },
      "source": [
        "from sklearn.metrics import r2_score,mean_squared_error,mean_absolute_error\n",
        "#Based on model predicting the price for both train  and test data\n",
        "y_train = np.exp(model.predict(train[features]))\n",
        "y_test = np.exp(model.predict(test[features]))\n",
        "train_price = train['price']\n",
        "test_price = test['price']\n",
        "rmse_train = np.sqrt(mean_squared_error(train_price,y_train))\n",
        "rmse_test = np.sqrt(mean_squared_error(test_price,y_test))\n",
        "#MAE for both train and test data\n",
        "print(f'The MAE for Train :{mean_absolute_error(train_price,y_train):.2f} and Test:{mean_absolute_error(test_price,y_test):.2f}')\n",
        "print(f'The R2 score for Train :{r2_score(train_price,y_train):.2f} and Test:{r2_score(test_price,y_test):.2f}')\n",
        "print(f'The RMSE score for Train :{rmse_train:.2f} and Test:{rmse_test:.2f}')\n"
      ],
      "execution_count": 179,
      "outputs": [
        {
          "output_type": "stream",
          "text": [
            "The MAE for Train :644.92 and Test:649.09\n",
            "The R2 score for Train :0.62 and Test:0.63\n",
            "The RMSE score for Train :1088.31 and Test:1071.46\n"
          ],
          "name": "stdout"
        }
      ]
    },
    {
      "cell_type": "code",
      "metadata": {
        "id": "sZzngpel94On",
        "colab_type": "code",
        "colab": {
          "base_uri": "https://localhost:8080/",
          "height": 680
        },
        "outputId": "b2d0cf9c-4637-4d68-8111-bae605912bcd"
      },
      "source": [
        "#Organising the code\n",
        "import numpy as np\n",
        "import pandas as pd\n",
        "from sklearn.linear_model import LinearRegression\n",
        "from sklearn.metrics import r2_score,mean_squared_error,mean_absolute_error\n",
        "# Read New York City apartment rental listing data\n",
        "df = pd.read_csv('../data/renthop-nyc.csv')\n",
        "assert df.shape == (49352, 34)\n",
        "\n",
        "# Remove the most extreme 1% prices,\n",
        "# the most extreme .1% latitudes, &\n",
        "# the most extreme .1% longitudes\n",
        "df = df[(df['price'] >= np.percentile(df['price'], 0.5)) & \n",
        "        (df['price'] <= np.percentile(df['price'], 99.5)) & \n",
        "        (df['latitude'] >= np.percentile(df['latitude'], 0.05)) & \n",
        "        (df['latitude'] < np.percentile(df['latitude'], 99.95)) &\n",
        "        (df['longitude'] >= np.percentile(df['longitude'], 0.05)) & \n",
        "        (df['longitude'] <= np.percentile(df['longitude'], 99.95))]\n",
        "df['bath_bed']=df['bathrooms']+df['bedrooms'] #Number of bathrooms plus bedrooms\n",
        "df['bathandbed']=df['bathrooms']*df['bedrooms']\n",
        "df['cats_dogs']=df['cats_allowed']+df['dogs_allowed']\n",
        "#Converting interest level into integer or rather cardinal\n",
        "df['interest_level'] = df['interest_level'].replace({'low':1,'medium':2,'high':3}).astype('int')\n",
        "df['openspaces']=df['roof_deck']+df['outdoor_space']+df['balcony']+df['terrace']+df['loft']+df['garden_patio']\n",
        "#Getting the bed to bath ratio\n",
        "df['bed_per_bathrooms']=df['bedrooms']/df['bathrooms']\n",
        "df['bed_per_bathrooms'] = df['bed_per_bathrooms'].fillna(0)\n",
        "df['bed_per_bathrooms'] = df['bed_per_bathrooms'].replace(np.inf,9999)\n",
        "#Getting the bath to bed ratio\n",
        "df['bath_per_bed']=df['bathrooms']/df['bedrooms']\n",
        "df['bath_per_bed'] = df['bath_per_bed'].fillna(0)\n",
        "df['bath_per_bed'] = df['bath_per_bed'].replace(np.inf,9999)\n",
        "#Chaging created feature datetime\n",
        "df['created'] = pd.to_datetime(df['created'],infer_datetime_format=True)\n",
        "#Getting the boolean columns and adding them to perk columns\n",
        "perks_columns = []\n",
        "for col in df:\n",
        "  if(df[col].nunique()==2):\n",
        "    perks_columns.append(col)\n",
        "#Getting the feature of number of perks for a place\n",
        "df['no_of_perks']=df[perks_columns].sum(axis=1)\n",
        "features = [col for col in df if ((df[col].dtype=='float64') |(df[col].dtype=='int64'))]\n",
        "#Removing price from the features as it is the target\n",
        "features.remove('price')\n",
        "#features.remove('latitude')\n",
        "#features.remove('longitude')\n",
        "train = df[df['created']<='2016-05-31']\n",
        "test= df[df['created']>'2016-05-31']\n",
        "model = LinearRegression(normalize=True)\n",
        "#Fitting the data on train data\n",
        "#Taking the log of the price\n",
        "model.fit(train[features],np.log(train['price']))\n",
        "#print(f'The intercept of the model is {model.intercept_:,.0f}')\n",
        "coefficients = pd.Series(model.coef_,features).sort_values(ascending=False)\n",
        "print(coefficients.to_string())\n",
        "#Based on model predicting the price for both train  and test data\n",
        "#Taking a exp of the prediction to bring the price back to scale\n",
        "y_train = np.exp(model.predict(train[features]))\n",
        "y_test = np.exp(model.predict(test[features]))\n",
        "train_price = train['price']\n",
        "test_price = test['price']\n",
        "rmse_train = np.sqrt(mean_squared_error(train_price,y_train))\n",
        "rmse_test = np.sqrt(mean_squared_error(test_price,y_test))\n",
        "#MAE for both train and test data\n",
        "print(f'The MAE for Train :{mean_absolute_error(train_price,y_train):.2f} and Test:{mean_absolute_error(test_price,y_test):.2f}')\n",
        "print(f'The R2 score for Train :{r2_score(train_price,y_train):.2f} and Test:{r2_score(test_price,y_test):.2f}')\n",
        "print(f'The RMSE score for Train :{rmse_train:.2f} and Test:{rmse_test:.2f}')\n"
      ],
      "execution_count": 203,
      "outputs": [
        {
          "output_type": "stream",
          "text": [
            "openspaces              1.716207e+12\n",
            "bath_bed                3.714533e+11\n",
            "dogs_allowed            6.864619e+10\n",
            "cats_allowed            6.864619e+10\n",
            "no_of_perks             1.682458e+10\n",
            "latitude                1.934127e-01\n",
            "bed_per_bathrooms       3.904966e-05\n",
            "bath_per_bed           -7.098636e-06\n",
            "bathandbed             -1.816089e-02\n",
            "interest_level         -1.208971e-01\n",
            "longitude              -4.165015e+00\n",
            "doorman                -1.682458e+10\n",
            "laundry_in_unit        -1.682458e+10\n",
            "elevator               -1.682458e+10\n",
            "dishwasher             -1.682458e+10\n",
            "wheelchair_access      -1.682458e+10\n",
            "dining_room            -1.682458e+10\n",
            "fitness_center         -1.682458e+10\n",
            "exclusive              -1.682458e+10\n",
            "swimming_pool          -1.682458e+10\n",
            "no_fee                 -1.682458e+10\n",
            "laundry_in_building    -1.682458e+10\n",
            "pre-war                -1.682458e+10\n",
            "hardwood_floors        -1.682458e+10\n",
            "new_construction       -1.682458e+10\n",
            "common_outdoor_space   -1.682458e+10\n",
            "high_speed_internet    -1.682458e+10\n",
            "cats_dogs              -8.547076e+10\n",
            "bathrooms              -3.714533e+11\n",
            "bedrooms               -3.714533e+11\n",
            "terrace                -1.733032e+12\n",
            "loft                   -1.733032e+12\n",
            "garden_patio           -1.733032e+12\n",
            "balcony                -1.733032e+12\n",
            "outdoor_space          -1.733032e+12\n",
            "roof_deck              -1.733032e+12\n",
            "The MAE for Train :623.38 and Test:625.87\n",
            "The R2 score for Train :0.61 and Test:0.67\n",
            "The RMSE score for Train :1094.84 and Test:1013.11\n"
          ],
          "name": "stdout"
        }
      ]
    },
    {
      "cell_type": "code",
      "metadata": {
        "id": "Z0g9kItX3Wm3",
        "colab_type": "code",
        "colab": {
          "base_uri": "https://localhost:8080/",
          "height": 561
        },
        "outputId": "a02cf671-e971-487a-b5e3-bf7135d426ad"
      },
      "source": [
        "# Do train/test split. Use data from April & May 2016 to train. Use data from June 2016 to test.\n",
        "# Engineer at least two new features. (See below for explanation & ideas.)\n",
        "# Fit a linear regression model with at least two features.\n",
        "# Get the model's coefficients and intercept.\n",
        "# Get regression metrics RMSE, MAE, and  R2 , for both the train and test data.\n",
        "# What's the best test MAE you can get? Share your score and features used with your cohort on Slack!\n",
        "# As always, commit your notebook to your fork of the GitHub repo.\n"
      ],
      "execution_count": 45,
      "outputs": [
        {
          "output_type": "execute_result",
          "data": {
            "text/plain": [
              "bathrooms               0\n",
              "bedrooms                0\n",
              "latitude                0\n",
              "longitude               0\n",
              "interest_level          0\n",
              "elevator                0\n",
              "cats_allowed            0\n",
              "hardwood_floors         0\n",
              "dogs_allowed            0\n",
              "doorman                 0\n",
              "dishwasher              0\n",
              "no_fee                  0\n",
              "laundry_in_building     0\n",
              "fitness_center          0\n",
              "pre-war                 0\n",
              "laundry_in_unit         0\n",
              "roof_deck               0\n",
              "outdoor_space           0\n",
              "dining_room             0\n",
              "high_speed_internet     0\n",
              "balcony                 0\n",
              "swimming_pool           0\n",
              "new_construction        0\n",
              "terrace                 0\n",
              "exclusive               0\n",
              "loft                    0\n",
              "garden_patio            0\n",
              "wheelchair_access       0\n",
              "common_outdoor_space    0\n",
              "bath_bed                0\n",
              "no_of_perks             0\n",
              "dtype: int64"
            ]
          },
          "metadata": {
            "tags": []
          },
          "execution_count": 45
        }
      ]
    },
    {
      "cell_type": "code",
      "metadata": {
        "id": "m8LSHQLq3724",
        "colab_type": "code",
        "colab": {}
      },
      "source": [
        ""
      ],
      "execution_count": 0,
      "outputs": []
    }
  ]
}