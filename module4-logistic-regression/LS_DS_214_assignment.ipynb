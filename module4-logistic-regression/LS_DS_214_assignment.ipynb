{
  "nbformat": 4,
  "nbformat_minor": 0,
  "metadata": {
    "kernelspec": {
      "display_name": "Python 3",
      "language": "python",
      "name": "python3"
    },
    "language_info": {
      "codemirror_mode": {
        "name": "ipython",
        "version": 3
      },
      "file_extension": ".py",
      "mimetype": "text/x-python",
      "name": "python",
      "nbconvert_exporter": "python",
      "pygments_lexer": "ipython3",
      "version": "3.7.3"
    },
    "colab": {
      "name": "LS_DS_214_assignment.ipynb",
      "provenance": []
    }
  },
  "cells": [
    {
      "cell_type": "markdown",
      "metadata": {
        "id": "b-G7jhYwrbBi",
        "colab_type": "text"
      },
      "source": [
        "Lambda School Data Science\n",
        "\n",
        "*Unit 2, Sprint 1, Module 4*\n",
        "\n",
        "---"
      ]
    },
    {
      "cell_type": "markdown",
      "metadata": {
        "colab_type": "text",
        "id": "7IXUfiQ2UKj6"
      },
      "source": [
        "# Logistic Regression\n",
        "\n",
        "\n",
        "## Assignment 🌯\n",
        "\n",
        "You'll use a [**dataset of 400+ burrito reviews**](https://srcole.github.io/100burritos/). How accurately can you predict whether a burrito is rated 'Great'?\n",
        "\n",
        "> We have developed a 10-dimensional system for rating the burritos in San Diego. ... Generate models for what makes a burrito great and investigate correlations in its dimensions.\n",
        "\n",
        "- [x] Do train/validate/test split. Train on reviews from 2016 & earlier. Validate on 2017. Test on 2018 & later.\n",
        "- [X] Begin with baselines for classification.\n",
        "- [x] Use scikit-learn for logistic regression.\n",
        "- [x] Get your model's validation accuracy. (Multiple times if you try multiple iterations.)\n",
        "- [x] Get your model's test accuracy. (One time, at the end.)\n",
        "- [x] Commit your notebook to your fork of the GitHub repo.\n",
        "\n",
        "\n",
        "## Stretch Goals\n",
        "\n",
        "- [ ] Add your own stretch goal(s) !\n",
        "- [ ] Make exploratory visualizations.\n",
        "- [ ] Do one-hot encoding.\n",
        "- [ ] Do [feature scaling](https://scikit-learn.org/stable/modules/preprocessing.html).\n",
        "- [ ] Get and plot your coefficients.\n",
        "- [ ] Try [scikit-learn pipelines](https://scikit-learn.org/stable/modules/compose.html)."
      ]
    },
    {
      "cell_type": "code",
      "metadata": {
        "colab_type": "code",
        "id": "o9eSnDYhUGD7",
        "colab": {}
      },
      "source": [
        "%%capture\n",
        "import sys\n",
        "\n",
        "# If you're on Colab:\n",
        "if 'google.colab' in sys.modules:\n",
        "    DATA_PATH = 'https://raw.githubusercontent.com/LambdaSchool/DS-Unit-2-Linear-Models/master/data/'\n",
        "    !pip install category_encoders==2.*\n",
        "\n",
        "# If you're working locally:\n",
        "else:\n",
        "    DATA_PATH = '../data/'"
      ],
      "execution_count": 0,
      "outputs": []
    },
    {
      "cell_type": "code",
      "metadata": {
        "id": "ouk7D_vcrbBs",
        "colab_type": "code",
        "colab": {}
      },
      "source": [
        "# Load data downloaded from https://srcole.github.io/100burritos/\n",
        "import pandas as pd\n",
        "import numpy as np\n",
        "df = pd.read_csv(DATA_PATH+'burritos/burritos.csv')"
      ],
      "execution_count": 0,
      "outputs": []
    },
    {
      "cell_type": "code",
      "metadata": {
        "id": "WG0sXqBGrbBw",
        "colab_type": "code",
        "colab": {}
      },
      "source": [
        "# Derive binary classification target:\n",
        "# We define a 'Great' burrito as having an\n",
        "# overall rating of 4 or higher, on a 5 point scale.\n",
        "# Drop unrated burritos.\n",
        "df = df.dropna(subset=['overall'])\n",
        "df['Great'] = df['overall'] >= 4"
      ],
      "execution_count": 0,
      "outputs": []
    },
    {
      "cell_type": "code",
      "metadata": {
        "id": "QFUG8Hz0rbB0",
        "colab_type": "code",
        "colab": {}
      },
      "source": [
        "# Clean/combine the Burrito categories\n",
        "df['Burrito'] = df['Burrito'].str.lower()\n",
        "\n",
        "california = df['Burrito'].str.contains('california')\n",
        "asada = df['Burrito'].str.contains('asada')\n",
        "surf = df['Burrito'].str.contains('surf')\n",
        "carnitas = df['Burrito'].str.contains('carnitas')\n",
        "\n",
        "df.loc[california, 'Burrito'] = 'California'\n",
        "df.loc[asada, 'Burrito'] = 'Asada'\n",
        "df.loc[surf, 'Burrito'] = 'Surf & Turf'\n",
        "df.loc[carnitas, 'Burrito'] = 'Carnitas'\n",
        "df.loc[~california & ~asada & ~surf & ~carnitas, 'Burrito'] = 'Other'"
      ],
      "execution_count": 0,
      "outputs": []
    },
    {
      "cell_type": "code",
      "metadata": {
        "id": "NBvQPEOxrbB3",
        "colab_type": "code",
        "colab": {}
      },
      "source": [
        "# Drop some high cardinality categoricals\n",
        "df = df.drop(columns=['Notes', 'Location', 'Reviewer', 'Address', 'URL', 'Neighborhood'])"
      ],
      "execution_count": 0,
      "outputs": []
    },
    {
      "cell_type": "code",
      "metadata": {
        "id": "Z3sDJ3t4rbB6",
        "colab_type": "code",
        "colab": {}
      },
      "source": [
        "# Drop some columns to prevent \"leakage\"\n",
        "df = df.drop(columns=['Rec', 'overall'])"
      ],
      "execution_count": 0,
      "outputs": []
    },
    {
      "cell_type": "markdown",
      "metadata": {
        "id": "_dwyUolYDe9W",
        "colab_type": "text"
      },
      "source": [
        "## select features"
      ]
    },
    {
      "cell_type": "code",
      "metadata": {
        "id": "jT4_zL0WDfWm",
        "colab_type": "code",
        "colab": {
          "base_uri": "https://localhost:8080/",
          "height": 1000
        },
        "outputId": "a5e5c590-7c1a-4c4b-ef3d-c20bb1e756ac"
      },
      "source": [
        "df.dtypes"
      ],
      "execution_count": 7,
      "outputs": [
        {
          "output_type": "execute_result",
          "data": {
            "text/plain": [
              "Burrito            object\n",
              "Date               object\n",
              "Yelp              float64\n",
              "Google            float64\n",
              "Chips              object\n",
              "Cost              float64\n",
              "Hunger            float64\n",
              "Mass (g)          float64\n",
              "Density (g/mL)    float64\n",
              "Length            float64\n",
              "Circum            float64\n",
              "Volume            float64\n",
              "Tortilla          float64\n",
              "Temp              float64\n",
              "Meat              float64\n",
              "Fillings          float64\n",
              "Meat:filling      float64\n",
              "Uniformity        float64\n",
              "Salsa             float64\n",
              "Synergy           float64\n",
              "Wrap              float64\n",
              "Unreliable         object\n",
              "NonSD              object\n",
              "Beef               object\n",
              "Pico               object\n",
              "Guac               object\n",
              "Cheese             object\n",
              "Fries              object\n",
              "Sour cream         object\n",
              "Pork               object\n",
              "Chicken            object\n",
              "Shrimp             object\n",
              "Fish               object\n",
              "Rice               object\n",
              "Beans              object\n",
              "Lettuce            object\n",
              "Tomato             object\n",
              "Bell peper         object\n",
              "Carrots            object\n",
              "Cabbage            object\n",
              "Sauce              object\n",
              "Salsa.1            object\n",
              "Cilantro           object\n",
              "Onion              object\n",
              "Taquito            object\n",
              "Pineapple          object\n",
              "Ham                object\n",
              "Chile relleno      object\n",
              "Nopales            object\n",
              "Lobster            object\n",
              "Queso             float64\n",
              "Egg                object\n",
              "Mushroom           object\n",
              "Bacon              object\n",
              "Sushi              object\n",
              "Avocado            object\n",
              "Corn               object\n",
              "Zucchini           object\n",
              "Great                bool\n",
              "dtype: object"
            ]
          },
          "metadata": {
            "tags": []
          },
          "execution_count": 7
        }
      ]
    },
    {
      "cell_type": "markdown",
      "metadata": {
        "id": "J4Vc6vHqI-LE",
        "colab_type": "text"
      },
      "source": [
        "# i think that covers the removal of features time to see if i need to impute or drop any"
      ]
    },
    {
      "cell_type": "code",
      "metadata": {
        "id": "GEA5nM-TI8_b",
        "colab_type": "code",
        "colab": {
          "base_uri": "https://localhost:8080/",
          "height": 1000
        },
        "outputId": "596fc48a-2547-444d-8be7-91a662dd6602"
      },
      "source": [
        "def print_missing():\n",
        "  for col in df.columns:\n",
        "    ratio=df[col].isnull().sum()*100/len(df[col])\n",
        "    if ratio>20:\n",
        "      print(f\"Column {col} is missing {round(ratio,4)}% of it's values and is a good canidate for imputing or dropping\")\n",
        "    else:\n",
        "      print(f\"Column {col} has a missing value ratio of {round(ratio,4)}\")\n",
        "  return None\n",
        "print_missing()"
      ],
      "execution_count": 8,
      "outputs": [
        {
          "output_type": "stream",
          "text": [
            "Column Burrito has a missing value ratio of 0.0\n",
            "Column Date has a missing value ratio of 0.0\n",
            "Column Yelp is missing 79.3349% of it's values and is a good canidate for imputing or dropping\n",
            "Column Google is missing 79.3349% of it's values and is a good canidate for imputing or dropping\n",
            "Column Chips is missing 93.8242% of it's values and is a good canidate for imputing or dropping\n",
            "Column Cost has a missing value ratio of 1.6627\n",
            "Column Hunger has a missing value ratio of 0.7126\n",
            "Column Mass (g) is missing 94.7743% of it's values and is a good canidate for imputing or dropping\n",
            "Column Density (g/mL) is missing 94.7743% of it's values and is a good canidate for imputing or dropping\n",
            "Column Length is missing 32.7791% of it's values and is a good canidate for imputing or dropping\n",
            "Column Circum is missing 33.2542% of it's values and is a good canidate for imputing or dropping\n",
            "Column Volume is missing 33.2542% of it's values and is a good canidate for imputing or dropping\n",
            "Column Tortilla has a missing value ratio of 0.0\n",
            "Column Temp has a missing value ratio of 4.7506\n",
            "Column Meat has a missing value ratio of 3.3254\n",
            "Column Fillings has a missing value ratio of 0.7126\n",
            "Column Meat:filling has a missing value ratio of 2.1378\n",
            "Column Uniformity has a missing value ratio of 0.4751\n",
            "Column Salsa has a missing value ratio of 5.9382\n",
            "Column Synergy has a missing value ratio of 0.4751\n",
            "Column Wrap has a missing value ratio of 0.7126\n",
            "Column Unreliable is missing 92.1615% of it's values and is a good canidate for imputing or dropping\n",
            "Column NonSD is missing 98.3373% of it's values and is a good canidate for imputing or dropping\n",
            "Column Beef is missing 57.4822% of it's values and is a good canidate for imputing or dropping\n",
            "Column Pico is missing 62.4703% of it's values and is a good canidate for imputing or dropping\n",
            "Column Guac is missing 63.4204% of it's values and is a good canidate for imputing or dropping\n",
            "Column Cheese is missing 62.2328% of it's values and is a good canidate for imputing or dropping\n",
            "Column Fries is missing 69.8337% of it's values and is a good canidate for imputing or dropping\n",
            "Column Sour cream is missing 78.1473% of it's values and is a good canidate for imputing or dropping\n",
            "Column Pork is missing 87.886% of it's values and is a good canidate for imputing or dropping\n",
            "Column Chicken is missing 95.0119% of it's values and is a good canidate for imputing or dropping\n",
            "Column Shrimp is missing 95.0119% of it's values and is a good canidate for imputing or dropping\n",
            "Column Fish is missing 98.5748% of it's values and is a good canidate for imputing or dropping\n",
            "Column Rice is missing 91.4489% of it's values and is a good canidate for imputing or dropping\n",
            "Column Beans is missing 91.6865% of it's values and is a good canidate for imputing or dropping\n",
            "Column Lettuce is missing 97.3872% of it's values and is a good canidate for imputing or dropping\n",
            "Column Tomato is missing 98.3373% of it's values and is a good canidate for imputing or dropping\n",
            "Column Bell peper is missing 98.3373% of it's values and is a good canidate for imputing or dropping\n",
            "Column Carrots is missing 99.7625% of it's values and is a good canidate for imputing or dropping\n",
            "Column Cabbage is missing 98.0998% of it's values and is a good canidate for imputing or dropping\n",
            "Column Sauce is missing 90.9739% of it's values and is a good canidate for imputing or dropping\n",
            "Column Salsa.1 is missing 98.3373% of it's values and is a good canidate for imputing or dropping\n",
            "Column Cilantro is missing 96.4371% of it's values and is a good canidate for imputing or dropping\n",
            "Column Onion is missing 95.962% of it's values and is a good canidate for imputing or dropping\n",
            "Column Taquito is missing 99.0499% of it's values and is a good canidate for imputing or dropping\n",
            "Column Pineapple is missing 98.3373% of it's values and is a good canidate for imputing or dropping\n",
            "Column Ham is missing 99.5249% of it's values and is a good canidate for imputing or dropping\n",
            "Column Chile relleno is missing 99.0499% of it's values and is a good canidate for imputing or dropping\n",
            "Column Nopales is missing 99.0499% of it's values and is a good canidate for imputing or dropping\n",
            "Column Lobster is missing 99.7625% of it's values and is a good canidate for imputing or dropping\n",
            "Column Queso is missing 100.0% of it's values and is a good canidate for imputing or dropping\n",
            "Column Egg is missing 98.8124% of it's values and is a good canidate for imputing or dropping\n",
            "Column Mushroom is missing 99.2874% of it's values and is a good canidate for imputing or dropping\n",
            "Column Bacon is missing 99.2874% of it's values and is a good canidate for imputing or dropping\n",
            "Column Sushi is missing 99.5249% of it's values and is a good canidate for imputing or dropping\n",
            "Column Avocado is missing 96.9121% of it's values and is a good canidate for imputing or dropping\n",
            "Column Corn is missing 99.2874% of it's values and is a good canidate for imputing or dropping\n",
            "Column Zucchini is missing 99.7625% of it's values and is a good canidate for imputing or dropping\n",
            "Column Great has a missing value ratio of 0.0\n"
          ],
          "name": "stdout"
        }
      ]
    },
    {
      "cell_type": "markdown",
      "metadata": {
        "id": "clK4xq3yXaMS",
        "colab_type": "text"
      },
      "source": [
        "### Ouch definattly have some work to do here"
      ]
    },
    {
      "cell_type": "code",
      "metadata": {
        "id": "cRmCZKd-NKL4",
        "colab_type": "code",
        "colab": {}
      },
      "source": [
        "# dropping columns that are not particularly usefull\n",
        "# queso has no values in it, just adds NaNs to the dataframe\n",
        "# mass and density and chips do not add enough explained varriance to the model and have too many NaN values to impute without adding a unnatural bias\n",
        "df=df.drop(['Mass (g)','Density (g/mL)','Queso','Chips'],axis=1)\n",
        "# subset the rest of the values that hav 'x','X',or nan for processing\n",
        "df_ingredients=df.drop(['Tortilla','Cost', 'Hunger','Length' ,'Circum', 'Volume', 'Temp', 'Meat', 'Fillings', 'Meat:filling' ,'Uniformity', 'Date','Wrap' ,'Burrito', 'Salsa', 'Great'],axis=1)"
      ],
      "execution_count": 0,
      "outputs": []
    },
    {
      "cell_type": "code",
      "metadata": {
        "id": "SWDImcVgPbQF",
        "colab_type": "code",
        "colab": {}
      },
      "source": [
        "# make a function that makes string into true and bools into false for my ingredent list\n",
        "def cast_ings(x) -> bool:\n",
        "  if isinstance(x,str):\n",
        "    return True\n",
        "  else:\n",
        "    return False\n",
        "# convert all of the ingrediencts to true or false\n",
        "for col in df_ingredients:\n",
        "  df_ingredients[col]=df_ingredients[col].apply(cast_ings)  \n",
        "# change the dataframe to reflect the true/false processesing\n",
        "df[df_ingredients.columns.to_list()]=df_ingredients[df_ingredients.columns.to_list()]\n"
      ],
      "execution_count": 0,
      "outputs": []
    },
    {
      "cell_type": "code",
      "metadata": {
        "id": "5G29FHXGXTXH",
        "colab_type": "code",
        "colab": {
          "base_uri": "https://localhost:8080/",
          "height": 952
        },
        "outputId": "f37ee666-8a06-4a4c-b967-c4ae7ac55087"
      },
      "source": [
        "print_missing()"
      ],
      "execution_count": 11,
      "outputs": [
        {
          "output_type": "stream",
          "text": [
            "Column Burrito has a missing value ratio of 0.0\n",
            "Column Date has a missing value ratio of 0.0\n",
            "Column Yelp has a missing value ratio of 0.0\n",
            "Column Google has a missing value ratio of 0.0\n",
            "Column Cost has a missing value ratio of 1.6627\n",
            "Column Hunger has a missing value ratio of 0.7126\n",
            "Column Length is missing 32.7791% of it's values and is a good canidate for imputing or dropping\n",
            "Column Circum is missing 33.2542% of it's values and is a good canidate for imputing or dropping\n",
            "Column Volume is missing 33.2542% of it's values and is a good canidate for imputing or dropping\n",
            "Column Tortilla has a missing value ratio of 0.0\n",
            "Column Temp has a missing value ratio of 4.7506\n",
            "Column Meat has a missing value ratio of 3.3254\n",
            "Column Fillings has a missing value ratio of 0.7126\n",
            "Column Meat:filling has a missing value ratio of 2.1378\n",
            "Column Uniformity has a missing value ratio of 0.4751\n",
            "Column Salsa has a missing value ratio of 5.9382\n",
            "Column Synergy has a missing value ratio of 0.0\n",
            "Column Wrap has a missing value ratio of 0.7126\n",
            "Column Unreliable has a missing value ratio of 0.0\n",
            "Column NonSD has a missing value ratio of 0.0\n",
            "Column Beef has a missing value ratio of 0.0\n",
            "Column Pico has a missing value ratio of 0.0\n",
            "Column Guac has a missing value ratio of 0.0\n",
            "Column Cheese has a missing value ratio of 0.0\n",
            "Column Fries has a missing value ratio of 0.0\n",
            "Column Sour cream has a missing value ratio of 0.0\n",
            "Column Pork has a missing value ratio of 0.0\n",
            "Column Chicken has a missing value ratio of 0.0\n",
            "Column Shrimp has a missing value ratio of 0.0\n",
            "Column Fish has a missing value ratio of 0.0\n",
            "Column Rice has a missing value ratio of 0.0\n",
            "Column Beans has a missing value ratio of 0.0\n",
            "Column Lettuce has a missing value ratio of 0.0\n",
            "Column Tomato has a missing value ratio of 0.0\n",
            "Column Bell peper has a missing value ratio of 0.0\n",
            "Column Carrots has a missing value ratio of 0.0\n",
            "Column Cabbage has a missing value ratio of 0.0\n",
            "Column Sauce has a missing value ratio of 0.0\n",
            "Column Salsa.1 has a missing value ratio of 0.0\n",
            "Column Cilantro has a missing value ratio of 0.0\n",
            "Column Onion has a missing value ratio of 0.0\n",
            "Column Taquito has a missing value ratio of 0.0\n",
            "Column Pineapple has a missing value ratio of 0.0\n",
            "Column Ham has a missing value ratio of 0.0\n",
            "Column Chile relleno has a missing value ratio of 0.0\n",
            "Column Nopales has a missing value ratio of 0.0\n",
            "Column Lobster has a missing value ratio of 0.0\n",
            "Column Egg has a missing value ratio of 0.0\n",
            "Column Mushroom has a missing value ratio of 0.0\n",
            "Column Bacon has a missing value ratio of 0.0\n",
            "Column Sushi has a missing value ratio of 0.0\n",
            "Column Avocado has a missing value ratio of 0.0\n",
            "Column Corn has a missing value ratio of 0.0\n",
            "Column Zucchini has a missing value ratio of 0.0\n",
            "Column Great has a missing value ratio of 0.0\n"
          ],
          "name": "stdout"
        }
      ]
    },
    {
      "cell_type": "markdown",
      "metadata": {
        "id": "IZdYvYIRXhXG",
        "colab_type": "text"
      },
      "source": [
        "### thats 'more better' lets go ahead and start the pipeline"
      ]
    },
    {
      "cell_type": "markdown",
      "metadata": {
        "id": "diG1YDqzBMyA",
        "colab_type": "text"
      },
      "source": [
        "## split diffrent dataframes up by date, set labels"
      ]
    },
    {
      "cell_type": "code",
      "metadata": {
        "id": "hMovqnHLBMFD",
        "colab_type": "code",
        "colab": {}
      },
      "source": [
        "# convert existing Date column into DateTime objects\n",
        "df['Date']=pd.to_datetime(df['Date'],infer_datetime_format=True)\n",
        "# make seperate dataframes based on year\n",
        "train=df[df['Date'].dt.year<=2016]\n",
        "validate=df[df['Date'].dt.year==2017]\n",
        "test=df[df['Date'].dt.year==2018]\n",
        "\n",
        "# seperate out my labels\n",
        "target='Great'\n",
        "y_train=train[target]\n",
        "y_validate=validate[target]\n",
        "y_test=test[target]"
      ],
      "execution_count": 0,
      "outputs": []
    },
    {
      "cell_type": "code",
      "metadata": {
        "id": "jSy_vV3NrbB-",
        "colab_type": "code",
        "colab": {
          "base_uri": "https://localhost:8080/",
          "height": 326
        },
        "outputId": "cf2d4570-4c51-4704-f32d-a556da11c7ce"
      },
      "source": [
        "# take a look at what we have\n",
        "train.head()"
      ],
      "execution_count": 13,
      "outputs": [
        {
          "output_type": "execute_result",
          "data": {
            "text/html": [
              "<div>\n",
              "<style scoped>\n",
              "    .dataframe tbody tr th:only-of-type {\n",
              "        vertical-align: middle;\n",
              "    }\n",
              "\n",
              "    .dataframe tbody tr th {\n",
              "        vertical-align: top;\n",
              "    }\n",
              "\n",
              "    .dataframe thead th {\n",
              "        text-align: right;\n",
              "    }\n",
              "</style>\n",
              "<table border=\"1\" class=\"dataframe\">\n",
              "  <thead>\n",
              "    <tr style=\"text-align: right;\">\n",
              "      <th></th>\n",
              "      <th>Burrito</th>\n",
              "      <th>Date</th>\n",
              "      <th>Yelp</th>\n",
              "      <th>Google</th>\n",
              "      <th>Cost</th>\n",
              "      <th>Hunger</th>\n",
              "      <th>Length</th>\n",
              "      <th>Circum</th>\n",
              "      <th>Volume</th>\n",
              "      <th>Tortilla</th>\n",
              "      <th>Temp</th>\n",
              "      <th>Meat</th>\n",
              "      <th>Fillings</th>\n",
              "      <th>Meat:filling</th>\n",
              "      <th>Uniformity</th>\n",
              "      <th>Salsa</th>\n",
              "      <th>Synergy</th>\n",
              "      <th>Wrap</th>\n",
              "      <th>Unreliable</th>\n",
              "      <th>NonSD</th>\n",
              "      <th>Beef</th>\n",
              "      <th>Pico</th>\n",
              "      <th>Guac</th>\n",
              "      <th>Cheese</th>\n",
              "      <th>Fries</th>\n",
              "      <th>Sour cream</th>\n",
              "      <th>Pork</th>\n",
              "      <th>Chicken</th>\n",
              "      <th>Shrimp</th>\n",
              "      <th>Fish</th>\n",
              "      <th>Rice</th>\n",
              "      <th>Beans</th>\n",
              "      <th>Lettuce</th>\n",
              "      <th>Tomato</th>\n",
              "      <th>Bell peper</th>\n",
              "      <th>Carrots</th>\n",
              "      <th>Cabbage</th>\n",
              "      <th>Sauce</th>\n",
              "      <th>Salsa.1</th>\n",
              "      <th>Cilantro</th>\n",
              "      <th>Onion</th>\n",
              "      <th>Taquito</th>\n",
              "      <th>Pineapple</th>\n",
              "      <th>Ham</th>\n",
              "      <th>Chile relleno</th>\n",
              "      <th>Nopales</th>\n",
              "      <th>Lobster</th>\n",
              "      <th>Egg</th>\n",
              "      <th>Mushroom</th>\n",
              "      <th>Bacon</th>\n",
              "      <th>Sushi</th>\n",
              "      <th>Avocado</th>\n",
              "      <th>Corn</th>\n",
              "      <th>Zucchini</th>\n",
              "      <th>Great</th>\n",
              "    </tr>\n",
              "  </thead>\n",
              "  <tbody>\n",
              "    <tr>\n",
              "      <th>0</th>\n",
              "      <td>California</td>\n",
              "      <td>2016-01-18</td>\n",
              "      <td>False</td>\n",
              "      <td>False</td>\n",
              "      <td>6.49</td>\n",
              "      <td>3.0</td>\n",
              "      <td>NaN</td>\n",
              "      <td>NaN</td>\n",
              "      <td>NaN</td>\n",
              "      <td>3.0</td>\n",
              "      <td>5.0</td>\n",
              "      <td>3.0</td>\n",
              "      <td>3.5</td>\n",
              "      <td>4.0</td>\n",
              "      <td>4.0</td>\n",
              "      <td>4.0</td>\n",
              "      <td>False</td>\n",
              "      <td>4.0</td>\n",
              "      <td>False</td>\n",
              "      <td>False</td>\n",
              "      <td>True</td>\n",
              "      <td>True</td>\n",
              "      <td>True</td>\n",
              "      <td>True</td>\n",
              "      <td>True</td>\n",
              "      <td>False</td>\n",
              "      <td>False</td>\n",
              "      <td>False</td>\n",
              "      <td>False</td>\n",
              "      <td>False</td>\n",
              "      <td>False</td>\n",
              "      <td>False</td>\n",
              "      <td>False</td>\n",
              "      <td>False</td>\n",
              "      <td>False</td>\n",
              "      <td>False</td>\n",
              "      <td>False</td>\n",
              "      <td>False</td>\n",
              "      <td>False</td>\n",
              "      <td>False</td>\n",
              "      <td>False</td>\n",
              "      <td>False</td>\n",
              "      <td>False</td>\n",
              "      <td>False</td>\n",
              "      <td>False</td>\n",
              "      <td>False</td>\n",
              "      <td>False</td>\n",
              "      <td>False</td>\n",
              "      <td>False</td>\n",
              "      <td>False</td>\n",
              "      <td>False</td>\n",
              "      <td>False</td>\n",
              "      <td>False</td>\n",
              "      <td>False</td>\n",
              "      <td>False</td>\n",
              "    </tr>\n",
              "    <tr>\n",
              "      <th>1</th>\n",
              "      <td>California</td>\n",
              "      <td>2016-01-24</td>\n",
              "      <td>False</td>\n",
              "      <td>False</td>\n",
              "      <td>5.45</td>\n",
              "      <td>3.5</td>\n",
              "      <td>NaN</td>\n",
              "      <td>NaN</td>\n",
              "      <td>NaN</td>\n",
              "      <td>2.0</td>\n",
              "      <td>3.5</td>\n",
              "      <td>2.5</td>\n",
              "      <td>2.5</td>\n",
              "      <td>2.0</td>\n",
              "      <td>4.0</td>\n",
              "      <td>3.5</td>\n",
              "      <td>False</td>\n",
              "      <td>5.0</td>\n",
              "      <td>False</td>\n",
              "      <td>False</td>\n",
              "      <td>True</td>\n",
              "      <td>True</td>\n",
              "      <td>True</td>\n",
              "      <td>True</td>\n",
              "      <td>True</td>\n",
              "      <td>False</td>\n",
              "      <td>False</td>\n",
              "      <td>False</td>\n",
              "      <td>False</td>\n",
              "      <td>False</td>\n",
              "      <td>False</td>\n",
              "      <td>False</td>\n",
              "      <td>False</td>\n",
              "      <td>False</td>\n",
              "      <td>False</td>\n",
              "      <td>False</td>\n",
              "      <td>False</td>\n",
              "      <td>False</td>\n",
              "      <td>False</td>\n",
              "      <td>False</td>\n",
              "      <td>False</td>\n",
              "      <td>False</td>\n",
              "      <td>False</td>\n",
              "      <td>False</td>\n",
              "      <td>False</td>\n",
              "      <td>False</td>\n",
              "      <td>False</td>\n",
              "      <td>False</td>\n",
              "      <td>False</td>\n",
              "      <td>False</td>\n",
              "      <td>False</td>\n",
              "      <td>False</td>\n",
              "      <td>False</td>\n",
              "      <td>False</td>\n",
              "      <td>False</td>\n",
              "    </tr>\n",
              "    <tr>\n",
              "      <th>2</th>\n",
              "      <td>Carnitas</td>\n",
              "      <td>2016-01-24</td>\n",
              "      <td>False</td>\n",
              "      <td>False</td>\n",
              "      <td>4.85</td>\n",
              "      <td>1.5</td>\n",
              "      <td>NaN</td>\n",
              "      <td>NaN</td>\n",
              "      <td>NaN</td>\n",
              "      <td>3.0</td>\n",
              "      <td>2.0</td>\n",
              "      <td>2.5</td>\n",
              "      <td>3.0</td>\n",
              "      <td>4.5</td>\n",
              "      <td>4.0</td>\n",
              "      <td>3.0</td>\n",
              "      <td>False</td>\n",
              "      <td>5.0</td>\n",
              "      <td>False</td>\n",
              "      <td>False</td>\n",
              "      <td>False</td>\n",
              "      <td>True</td>\n",
              "      <td>True</td>\n",
              "      <td>False</td>\n",
              "      <td>False</td>\n",
              "      <td>False</td>\n",
              "      <td>True</td>\n",
              "      <td>False</td>\n",
              "      <td>False</td>\n",
              "      <td>False</td>\n",
              "      <td>False</td>\n",
              "      <td>False</td>\n",
              "      <td>False</td>\n",
              "      <td>False</td>\n",
              "      <td>False</td>\n",
              "      <td>False</td>\n",
              "      <td>False</td>\n",
              "      <td>False</td>\n",
              "      <td>False</td>\n",
              "      <td>False</td>\n",
              "      <td>False</td>\n",
              "      <td>False</td>\n",
              "      <td>False</td>\n",
              "      <td>False</td>\n",
              "      <td>False</td>\n",
              "      <td>False</td>\n",
              "      <td>False</td>\n",
              "      <td>False</td>\n",
              "      <td>False</td>\n",
              "      <td>False</td>\n",
              "      <td>False</td>\n",
              "      <td>False</td>\n",
              "      <td>False</td>\n",
              "      <td>False</td>\n",
              "      <td>False</td>\n",
              "    </tr>\n",
              "    <tr>\n",
              "      <th>3</th>\n",
              "      <td>Asada</td>\n",
              "      <td>2016-01-24</td>\n",
              "      <td>False</td>\n",
              "      <td>False</td>\n",
              "      <td>5.25</td>\n",
              "      <td>2.0</td>\n",
              "      <td>NaN</td>\n",
              "      <td>NaN</td>\n",
              "      <td>NaN</td>\n",
              "      <td>3.0</td>\n",
              "      <td>2.0</td>\n",
              "      <td>3.5</td>\n",
              "      <td>3.0</td>\n",
              "      <td>4.0</td>\n",
              "      <td>5.0</td>\n",
              "      <td>4.0</td>\n",
              "      <td>False</td>\n",
              "      <td>5.0</td>\n",
              "      <td>False</td>\n",
              "      <td>False</td>\n",
              "      <td>True</td>\n",
              "      <td>True</td>\n",
              "      <td>True</td>\n",
              "      <td>False</td>\n",
              "      <td>False</td>\n",
              "      <td>False</td>\n",
              "      <td>False</td>\n",
              "      <td>False</td>\n",
              "      <td>False</td>\n",
              "      <td>False</td>\n",
              "      <td>False</td>\n",
              "      <td>False</td>\n",
              "      <td>False</td>\n",
              "      <td>False</td>\n",
              "      <td>False</td>\n",
              "      <td>False</td>\n",
              "      <td>False</td>\n",
              "      <td>False</td>\n",
              "      <td>False</td>\n",
              "      <td>False</td>\n",
              "      <td>False</td>\n",
              "      <td>False</td>\n",
              "      <td>False</td>\n",
              "      <td>False</td>\n",
              "      <td>False</td>\n",
              "      <td>False</td>\n",
              "      <td>False</td>\n",
              "      <td>False</td>\n",
              "      <td>False</td>\n",
              "      <td>False</td>\n",
              "      <td>False</td>\n",
              "      <td>False</td>\n",
              "      <td>False</td>\n",
              "      <td>False</td>\n",
              "      <td>False</td>\n",
              "    </tr>\n",
              "    <tr>\n",
              "      <th>4</th>\n",
              "      <td>California</td>\n",
              "      <td>2016-01-27</td>\n",
              "      <td>False</td>\n",
              "      <td>False</td>\n",
              "      <td>6.59</td>\n",
              "      <td>4.0</td>\n",
              "      <td>NaN</td>\n",
              "      <td>NaN</td>\n",
              "      <td>NaN</td>\n",
              "      <td>4.0</td>\n",
              "      <td>5.0</td>\n",
              "      <td>4.0</td>\n",
              "      <td>3.5</td>\n",
              "      <td>4.5</td>\n",
              "      <td>5.0</td>\n",
              "      <td>2.5</td>\n",
              "      <td>False</td>\n",
              "      <td>4.0</td>\n",
              "      <td>False</td>\n",
              "      <td>False</td>\n",
              "      <td>True</td>\n",
              "      <td>True</td>\n",
              "      <td>False</td>\n",
              "      <td>True</td>\n",
              "      <td>True</td>\n",
              "      <td>False</td>\n",
              "      <td>False</td>\n",
              "      <td>False</td>\n",
              "      <td>False</td>\n",
              "      <td>False</td>\n",
              "      <td>False</td>\n",
              "      <td>False</td>\n",
              "      <td>False</td>\n",
              "      <td>False</td>\n",
              "      <td>False</td>\n",
              "      <td>False</td>\n",
              "      <td>False</td>\n",
              "      <td>False</td>\n",
              "      <td>False</td>\n",
              "      <td>False</td>\n",
              "      <td>False</td>\n",
              "      <td>False</td>\n",
              "      <td>False</td>\n",
              "      <td>False</td>\n",
              "      <td>False</td>\n",
              "      <td>False</td>\n",
              "      <td>False</td>\n",
              "      <td>False</td>\n",
              "      <td>False</td>\n",
              "      <td>False</td>\n",
              "      <td>False</td>\n",
              "      <td>False</td>\n",
              "      <td>False</td>\n",
              "      <td>False</td>\n",
              "      <td>True</td>\n",
              "    </tr>\n",
              "  </tbody>\n",
              "</table>\n",
              "</div>"
            ],
            "text/plain": [
              "      Burrito       Date   Yelp  Google  ...  Avocado   Corn  Zucchini  Great\n",
              "0  California 2016-01-18  False   False  ...    False  False     False  False\n",
              "1  California 2016-01-24  False   False  ...    False  False     False  False\n",
              "2    Carnitas 2016-01-24  False   False  ...    False  False     False  False\n",
              "3       Asada 2016-01-24  False   False  ...    False  False     False  False\n",
              "4  California 2016-01-27  False   False  ...    False  False     False   True\n",
              "\n",
              "[5 rows x 55 columns]"
            ]
          },
          "metadata": {
            "tags": []
          },
          "execution_count": 13
        }
      ]
    },
    {
      "cell_type": "markdown",
      "metadata": {
        "id": "uB56Wyeu2mq-",
        "colab_type": "text"
      },
      "source": [
        "## Baseline Model: LinearReggression"
      ]
    },
    {
      "cell_type": "code",
      "metadata": {
        "id": "7-xO6zLdZs_u",
        "colab_type": "code",
        "colab": {}
      },
      "source": [
        "# lets make feature sets\n",
        "features=['Tortilla'\t,'Temp'\t,'Meat'\t,'Fillings'\t,'Meat:filling'\t,'Uniformity'\t,'Salsa','Wrap']\n",
        "target='Great'\n",
        "X_train=train[features]\n",
        "X_validate=validate[features]"
      ],
      "execution_count": 0,
      "outputs": []
    },
    {
      "cell_type": "code",
      "metadata": {
        "id": "Ppx_IQtkaLhx",
        "colab_type": "code",
        "colab": {}
      },
      "source": [
        "# impute NaN values\n",
        "from sklearn.impute import SimpleImputer\n",
        "imputer=SimpleImputer(strategy='mean')\n",
        "X_train_imputed=imputer.fit_transform(X_train)\n",
        "X_validate_imputed=imputer.transform(X_validate)"
      ],
      "execution_count": 0,
      "outputs": []
    },
    {
      "cell_type": "code",
      "metadata": {
        "id": "hcSJroJpsgNd",
        "colab_type": "code",
        "colab": {
          "base_uri": "https://localhost:8080/",
          "height": 642
        },
        "outputId": "6e52845b-73aa-4a66-c5f1-efa779def1e3"
      },
      "source": [
        "# time to establish a baseline\n",
        "from sklearn.linear_model import LinearRegression\n",
        "from sklearn.metrics import mean_absolute_error\n",
        "import matplotlib.pyplot as plt\n",
        "import math\n",
        "plt.rcParams['figure.figsize']=[12,9]\n",
        "\n",
        "model=LinearRegression(n_jobs=-1)\n",
        "# fit the model with the imputed values predict on \n",
        "# both sets and then print some scores\n",
        "model.fit(X_train_imputed,y_train)\n",
        "\n",
        "print(f\"Model Training R^2 score: {model.score(X_train_imputed,y_train)}\")\n",
        "y_pred=model.predict(X_train_imputed)\n",
        "print(f\"Model Training MAE: {mean_absolute_error(y_pred,y_train)}\\n\")\n",
        "\n",
        "print(f\"Model Validation R^2 score: {model.score(X_validate_imputed,y_validate)}\")\n",
        "y_pred=model.predict(X_validate_imputed)\n",
        "print(f\"Model Validation MAE: {mean_absolute_error(y_pred,y_validate)}\")\n",
        "\n",
        "plt.plot(np.linspace(0,len(y_validate),num=85),y_validate,label='true',lw=3)\n",
        "plt.plot(np.linspace(0,len(y_validate),num=85),y_pred,label='pred',lw=3)\n",
        "plt.title(\"True values vs Predicted Values from the validation set\",fontweight='bold',fontsize=18)\n",
        "plt.legend()\n",
        "plt.show()"
      ],
      "execution_count": 16,
      "outputs": [
        {
          "output_type": "stream",
          "text": [
            "Model Training R^2 score: 0.5037115216850532\n",
            "Model Training MAE: 0.2989525532051837\n",
            "\n",
            "Model Validation R^2 score: 0.44415344842224447\n",
            "Model Validation MAE: 0.3409326713307951\n"
          ],
          "name": "stdout"
        },
        {
          "output_type": "display_data",
          "data": {
            "image/png": "[encoded data removed]",
            "text/plain": [
              "<Figure size 864x648 with 1 Axes>"
            ]
          },
          "metadata": {
            "tags": []
          }
        }
      ]
    },
    {
      "cell_type": "markdown",
      "metadata": {
        "id": "K03NBr7Xrm4i",
        "colab_type": "text"
      },
      "source": [
        "### Well that is pretty Trash IMO but at the same time regression on a  clasification problem will always be Trash"
      ]
    },
    {
      "cell_type": "code",
      "metadata": {
        "id": "CB4JNrpby8KT",
        "colab_type": "code",
        "colab": {}
      },
      "source": [
        "from sklearn.metrics import accuracy_score\n",
        "from sklearn.linear_model import LogisticRegression\n",
        "\n",
        "# make feature sets\n",
        "X_train=train.drop(['Burrito','Great','Date'],axis=1)\n",
        "X_validate=validate.drop(['Burrito','Great','Date'],axis=1)\n",
        "X_train_imputed=imputer.fit_transform(X_train)\n",
        "X_validate_imputed=imputer.transform(X_validate)"
      ],
      "execution_count": 0,
      "outputs": []
    },
    {
      "cell_type": "code",
      "metadata": {
        "id": "S-YABqHwcURw",
        "colab_type": "code",
        "colab": {
          "base_uri": "https://localhost:8080/",
          "height": 51
        },
        "outputId": "cb823893-f2b1-48f1-f63d-e4f4ed0b5a2e"
      },
      "source": [
        "# init\n",
        "model=LogisticRegression(solver='lbfgs',max_iter=1000,random_state=42)\n",
        "# fit\n",
        "model.fit(X_train_imputed,y_train)\n",
        "# predict and score training and validation accuracy\n",
        "y_pred=model.predict(X_train_imputed)\n",
        "acc=accuracy_score(y_pred=y_pred,y_true=y_train)\n",
        "print(f\"TRAINING ACCURACY:{acc}\")\n",
        "y_pred=model.predict(X_validate_imputed)\n",
        "acc=accuracy_score(y_pred=y_pred,y_true=y_validate)\n",
        "print(f\"VALIDATION ACCURACY:{acc}\")"
      ],
      "execution_count": 18,
      "outputs": [
        {
          "output_type": "stream",
          "text": [
            "TRAINING ACCURACY:0.8993288590604027\n",
            "VALIDATION ACCURACY:0.8235294117647058\n"
          ],
          "name": "stdout"
        }
      ]
    },
    {
      "cell_type": "code",
      "metadata": {
        "id": "tOpSnKmf4kyN",
        "colab_type": "code",
        "colab": {
          "base_uri": "https://localhost:8080/",
          "height": 34
        },
        "outputId": "e01afaeb-54fc-4e97-f116-544d35f475f8"
      },
      "source": [
        "# test model\n",
        "X_test=test.drop(['Burrito','Great','Date'],axis=1)\n",
        "X_test_imputed=imputer.transform(X_test)\n",
        "y_pred=model.predict(X_test_imputed)\n",
        "acc=accuracy_score(y_true=y_test,y_pred=y_pred)\n",
        "print(f\"TESTING SCORE:{acc}\")"
      ],
      "execution_count": 19,
      "outputs": [
        {
          "output_type": "stream",
          "text": [
            "TESTING SCORE:0.7777777777777778\n"
          ],
          "name": "stdout"
        }
      ]
    },
    {
      "cell_type": "code",
      "metadata": {
        "id": "YVCAXoB1a_Z5",
        "colab_type": "code",
        "colab": {}
      },
      "source": [
        "# mock export results for kaggle\n",
        "export=pd.DataFrame(data=y_pred,index=test.index,columns=['Great'])\n",
        "export.reset_index(inplace=True)\n",
        "export.to_csv('submission.csv',index=False)"
      ],
      "execution_count": 0,
      "outputs": []
    },
    {
      "cell_type": "code",
      "metadata": {
        "id": "CyDXdGfy3OfR",
        "colab_type": "code",
        "colab": {}
      },
      "source": [
        ""
      ],
      "execution_count": 0,
      "outputs": []
    }
  ]
}