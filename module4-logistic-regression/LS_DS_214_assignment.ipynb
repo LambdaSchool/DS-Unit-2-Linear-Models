{
  "nbformat": 4,
  "nbformat_minor": 0,
  "metadata": {
    "kernelspec": {
      "display_name": "Python 3",
      "language": "python",
      "name": "python3"
    },
    "language_info": {
      "codemirror_mode": {
        "name": "ipython",
        "version": 3
      },
      "file_extension": ".py",
      "mimetype": "text/x-python",
      "name": "python",
      "nbconvert_exporter": "python",
      "pygments_lexer": "ipython3",
      "version": "3.7.3"
    },
    "colab": {
      "name": "LS_DS_214_assignment.ipynb",
      "provenance": [],
      "include_colab_link": true
    }
  },
  "cells": [
    {
      "cell_type": "markdown",
      "metadata": {
        "id": "view-in-github",
        "colab_type": "text"
      },
      "source": [
        "<a href=\"https://colab.research.google.com/github/austiezr/DS-Unit-2-Linear-Models/blob/master/module4-logistic-regression/LS_DS_214_assignment.ipynb\" target=\"_parent\"><img src=\"https://colab.research.google.com/assets/colab-badge.svg\" alt=\"Open In Colab\"/></a>"
      ]
    },
    {
      "cell_type": "markdown",
      "metadata": {
        "id": "3_0sKaJSSmyT",
        "colab_type": "text"
      },
      "source": [
        "Lambda School Data Science\n",
        "\n",
        "*Unit 2, Sprint 1, Module 4*\n",
        "\n",
        "---"
      ]
    },
    {
      "cell_type": "markdown",
      "metadata": {
        "colab_type": "text",
        "id": "7IXUfiQ2UKj6"
      },
      "source": [
        "# Logistic Regression\n",
        "\n",
        "\n",
        "## Assignment 🌯\n",
        "\n",
        "You'll use a [**dataset of 400+ burrito reviews**](https://srcole.github.io/100burritos/). How accurately can you predict whether a burrito is rated 'Great'?\n",
        "\n",
        "> We have developed a 10-dimensional system for rating the burritos in San Diego. ... Generate models for what makes a burrito great and investigate correlations in its dimensions.\n",
        "\n",
        "- [X] Do train/validate/test split. Train on reviews from 2016 & earlier. Validate on 2017. Test on 2018 & later.\n",
        "- [X] Begin with baselines for classification.\n",
        "- [X] Use scikit-learn for logistic regression.\n",
        "- [X] Get your model's validation accuracy. (Multiple times if you try multiple iterations.)\n",
        "- [X] Get your model's test accuracy. (One time, at the end.)\n",
        "- [X] Commit your notebook to your fork of the GitHub repo.\n",
        "\n",
        "\n",
        "## Stretch Goals\n",
        "\n",
        "- [ ] Add your own stretch goal(s) !\n",
        "- [ ] Make exploratory visualizations.\n",
        "- [X] Do one-hot encoding.\n",
        "- [X] Do [feature scaling](https://scikit-learn.org/stable/modules/preprocessing.html).\n",
        "- [ ] Get and plot your coefficients.\n",
        "- [X] Try [scikit-learn pipelines](https://scikit-learn.org/stable/modules/compose.html)."
      ]
    },
    {
      "cell_type": "code",
      "metadata": {
        "id": "roTKOn_DVZax",
        "colab_type": "code",
        "colab": {}
      },
      "source": [
        "from sklearn.linear_model import LogisticRegression, LogisticRegressionCV\n",
        "from sklearn.pipeline import make_pipeline\n",
        "from sklearn.preprocessing import StandardScaler\n",
        "from sklearn.decomposition import PCA\n",
        "from sklearn.metrics import accuracy_score\n",
        "import category_encoders as ce\n",
        "from sklearn.feature_selection import SelectKBest, f_regression\n",
        "import numpy as np"
      ],
      "execution_count": 0,
      "outputs": []
    },
    {
      "cell_type": "markdown",
      "metadata": {
        "id": "YFhyGA0fcYlG",
        "colab_type": "text"
      },
      "source": [
        "## Loading / Cleaning"
      ]
    },
    {
      "cell_type": "markdown",
      "metadata": {
        "id": "zxGtej7bcdnV",
        "colab_type": "text"
      },
      "source": [
        "### Given Code"
      ]
    },
    {
      "cell_type": "code",
      "metadata": {
        "colab_type": "code",
        "id": "o9eSnDYhUGD7",
        "colab": {}
      },
      "source": [
        "%%capture\n",
        "import sys\n",
        "\n",
        "# If you're on Colab:\n",
        "if 'google.colab' in sys.modules:\n",
        "    DATA_PATH = 'https://raw.githubusercontent.com/LambdaSchool/DS-Unit-2-Linear-Models/master/data/'\n",
        "    !pip install category_encoders==2.*\n",
        "\n",
        "# If you're working locally:\n",
        "else:\n",
        "    DATA_PATH = '../data/'"
      ],
      "execution_count": 0,
      "outputs": []
    },
    {
      "cell_type": "code",
      "metadata": {
        "id": "IxZXMIGOSmyd",
        "colab_type": "code",
        "colab": {}
      },
      "source": [
        "# Load data downloaded from https://srcole.github.io/100burritos/\n",
        "import pandas as pd\n",
        "df = pd.read_csv(DATA_PATH+'burritos/burritos.csv')"
      ],
      "execution_count": 0,
      "outputs": []
    },
    {
      "cell_type": "code",
      "metadata": {
        "id": "odsXgCX_Smyg",
        "colab_type": "code",
        "colab": {}
      },
      "source": [
        "# Derive binary classification target:\n",
        "# We define a 'Great' burrito as having an\n",
        "# overall rating of 4 or higher, on a 5 point scale.\n",
        "# Drop unrated burritos.\n",
        "df = df.dropna(subset=['overall'])\n",
        "df['Great'] = df['overall'] >= 4"
      ],
      "execution_count": 0,
      "outputs": []
    },
    {
      "cell_type": "code",
      "metadata": {
        "id": "WhVy8yauSmyk",
        "colab_type": "code",
        "colab": {}
      },
      "source": [
        "# Clean/combine the Burrito categories\n",
        "df['Burrito'] = df['Burrito'].str.lower()\n",
        "\n",
        "california = df['Burrito'].str.contains('california')\n",
        "asada = df['Burrito'].str.contains('asada')\n",
        "surf = df['Burrito'].str.contains('surf')\n",
        "carnitas = df['Burrito'].str.contains('carnitas')\n",
        "\n",
        "df.loc[california, 'Burrito'] = 'California'\n",
        "df.loc[asada, 'Burrito'] = 'Asada'\n",
        "df.loc[surf, 'Burrito'] = 'Surf & Turf'\n",
        "df.loc[carnitas, 'Burrito'] = 'Carnitas'\n",
        "df.loc[~california & ~asada & ~surf & ~carnitas, 'Burrito'] = 'Other'"
      ],
      "execution_count": 0,
      "outputs": []
    },
    {
      "cell_type": "code",
      "metadata": {
        "id": "hRLhPDrjSmyn",
        "colab_type": "code",
        "colab": {}
      },
      "source": [
        "# Drop some high cardinality categoricals\n",
        "df = df.drop(columns=['Notes', 'Location', 'Reviewer', 'Address', 'URL', 'Neighborhood'])"
      ],
      "execution_count": 0,
      "outputs": []
    },
    {
      "cell_type": "code",
      "metadata": {
        "id": "gXpsgXpkSmyq",
        "colab_type": "code",
        "colab": {}
      },
      "source": [
        "# Drop some columns to prevent \"leakage\"\n",
        "df = df.drop(columns=['Rec', 'overall'])"
      ],
      "execution_count": 0,
      "outputs": []
    },
    {
      "cell_type": "markdown",
      "metadata": {
        "id": "kQnVl4CDchHb",
        "colab_type": "text"
      },
      "source": [
        "### My Code"
      ]
    },
    {
      "cell_type": "code",
      "metadata": {
        "id": "0wDLr372Smyw",
        "colab_type": "code",
        "colab": {}
      },
      "source": [
        "df['Date'] = pd.to_datetime(df['Date'])"
      ],
      "execution_count": 0,
      "outputs": []
    },
    {
      "cell_type": "code",
      "metadata": {
        "id": "5g5l73ntbTDx",
        "colab_type": "code",
        "colab": {}
      },
      "source": [
        "df = df.replace([np.NaN, 'No', 'x', 'X', 'Yes'], [0, 0, 1, 1, 1])"
      ],
      "execution_count": 0,
      "outputs": []
    },
    {
      "cell_type": "markdown",
      "metadata": {
        "id": "sH1ijISycocm",
        "colab_type": "text"
      },
      "source": [
        "## Train/Validate/Test Split & One-Hot Encoding"
      ]
    },
    {
      "cell_type": "code",
      "metadata": {
        "id": "RvYtmgXoUsz2",
        "colab_type": "code",
        "colab": {}
      },
      "source": [
        "train = df[df['Date'] < '01/01/2017']\n",
        "validate = df[(df['Date'] >= '01/01/2017') & (df['Date'] < '01/01/2018')]\n",
        "test = df[df['Date'] >= '01/01/2018']\n",
        "target = 'Great'\n",
        "encoder = ce.OneHotEncoder(cols=['Burrito'])\n",
        "train = encoder.fit_transform(train)\n",
        "validate = encoder.transform(validate)\n",
        "test = encoder.transform(test)\n",
        "features = train.columns\n",
        "features = features.drop('Mass (g)').drop('Density (g/mL)').drop('Length').drop('Circum').drop('Volume').drop('Date').drop('Great')"
      ],
      "execution_count": 0,
      "outputs": []
    },
    {
      "cell_type": "code",
      "metadata": {
        "id": "5drnAAPGaKZ9",
        "colab_type": "code",
        "colab": {}
      },
      "source": [
        "X_train = train[features]\n",
        "X_validate = validate[features]\n",
        "y_train = train[target]\n",
        "y_validate = validate[target]\n",
        "X_test = test[features]\n",
        "y_test = test[target]"
      ],
      "execution_count": 0,
      "outputs": []
    },
    {
      "cell_type": "markdown",
      "metadata": {
        "id": "rWGsnoKje05Q",
        "colab_type": "text"
      },
      "source": [
        "# Baseline Measures"
      ]
    },
    {
      "cell_type": "code",
      "metadata": {
        "id": "_8A74usBjFL9",
        "colab_type": "code",
        "colab": {
          "base_uri": "https://localhost:8080/",
          "height": 102
        },
        "outputId": "7f2298ea-71e3-4c96-d63b-0caedd652171"
      },
      "source": [
        "majority_class = y_train.mode()[0]\n",
        "\n",
        "y_pred = [majority_class] * len(y_train)\n",
        "print(f'Train Baseline Accuracy: {accuracy_score(y_train, y_pred)}\\n')\n",
        "\n",
        "y_pred = [majority_class] * len(y_validate)\n",
        "print(f'Validation Baseline Accuracy: {accuracy_score(y_validate, y_pred)}\\n')\n",
        "\n",
        "y_pred = [majority_class] * len(y_test)\n",
        "print(f'Test Baseline Accuracy: {accuracy_score(y_test, y_pred)}')"
      ],
      "execution_count": 141,
      "outputs": [
        {
          "output_type": "stream",
          "text": [
            "Train Baseline Accuracy: 0.5906040268456376\n",
            "\n",
            "Validation Baseline Accuracy: 0.5529411764705883\n",
            "\n",
            "Test Baseline Accuracy: 0.42105263157894735\n"
          ],
          "name": "stdout"
        }
      ]
    },
    {
      "cell_type": "markdown",
      "metadata": {
        "id": "tAvsVc3fcuBD",
        "colab_type": "text"
      },
      "source": [
        "# Regression W/ Pipeline"
      ]
    },
    {
      "cell_type": "markdown",
      "metadata": {
        "id": "9Ad_ElLgc2Kw",
        "colab_type": "text"
      },
      "source": [
        "## Testing"
      ]
    },
    {
      "cell_type": "code",
      "metadata": {
        "id": "V3fsD4LmVXh1",
        "colab_type": "code",
        "colab": {}
      },
      "source": [
        "pipe = make_pipeline(StandardScaler(), SelectKBest(score_func=f_regression, k=10), LogisticRegression())"
      ],
      "execution_count": 0,
      "outputs": []
    },
    {
      "cell_type": "code",
      "metadata": {
        "id": "nvN1m2B9ZSrW",
        "colab_type": "code",
        "colab": {
          "base_uri": "https://localhost:8080/",
          "height": 408
        },
        "outputId": "9bcacf4e-0342-4e4e-c09f-c1e49b5f4c16"
      },
      "source": [
        "pipe.fit(X_train, y_train)"
      ],
      "execution_count": 13,
      "outputs": [
        {
          "output_type": "stream",
          "text": [
            "/usr/local/lib/python3.6/dist-packages/sklearn/feature_selection/_univariate_selection.py:299: RuntimeWarning: invalid value encountered in true_divide\n",
            "  corr /= X_norms\n",
            "/usr/local/lib/python3.6/dist-packages/scipy/stats/_distn_infrastructure.py:903: RuntimeWarning: invalid value encountered in greater\n",
            "  return (a < x) & (x < b)\n",
            "/usr/local/lib/python3.6/dist-packages/scipy/stats/_distn_infrastructure.py:903: RuntimeWarning: invalid value encountered in less\n",
            "  return (a < x) & (x < b)\n",
            "/usr/local/lib/python3.6/dist-packages/scipy/stats/_distn_infrastructure.py:1912: RuntimeWarning: invalid value encountered in less_equal\n",
            "  cond2 = cond0 & (x <= _a)\n"
          ],
          "name": "stderr"
        },
        {
          "output_type": "execute_result",
          "data": {
            "text/plain": [
              "Pipeline(memory=None,\n",
              "         steps=[('standardscaler',\n",
              "                 StandardScaler(copy=True, with_mean=True, with_std=True)),\n",
              "                ('selectkbest',\n",
              "                 SelectKBest(k=10,\n",
              "                             score_func=<function f_regression at 0x7f6443a22598>)),\n",
              "                ('logisticregression',\n",
              "                 LogisticRegression(C=1.0, class_weight=None, dual=False,\n",
              "                                    fit_intercept=True, intercept_scaling=1,\n",
              "                                    l1_ratio=None, max_iter=100,\n",
              "                                    multi_class='auto', n_jobs=None,\n",
              "                                    penalty='l2', random_state=None,\n",
              "                                    solver='lbfgs', tol=0.0001, verbose=0,\n",
              "                                    warm_start=False))],\n",
              "         verbose=False)"
            ]
          },
          "metadata": {
            "tags": []
          },
          "execution_count": 13
        }
      ]
    },
    {
      "cell_type": "code",
      "metadata": {
        "id": "sR3cXeGGhhZy",
        "colab_type": "code",
        "colab": {
          "base_uri": "https://localhost:8080/",
          "height": 34
        },
        "outputId": "f1650d37-8b0e-46e4-d8e0-d395710d7b4a"
      },
      "source": [
        "y_pred = pipe.predict(X_validate)\n",
        "f1_score(y_validate, y_pred)"
      ],
      "execution_count": 14,
      "outputs": [
        {
          "output_type": "execute_result",
          "data": {
            "text/plain": [
              "0.8"
            ]
          },
          "metadata": {
            "tags": []
          },
          "execution_count": 14
        }
      ]
    },
    {
      "cell_type": "markdown",
      "metadata": {
        "id": "Rvd2VSQl4ewC",
        "colab_type": "text"
      },
      "source": [
        "## Logistic Regression"
      ]
    },
    {
      "cell_type": "code",
      "metadata": {
        "id": "I_NcNPvilPQv",
        "colab_type": "code",
        "colab": {}
      },
      "source": [
        "def LogRegression(X_train=X_train, y_train=y_train, \n",
        "                    X_test=X_validate, y_test=y_validate, \n",
        "                    acc_ref=0):\n",
        "  \n",
        "  with np.errstate(divide='ignore',invalid='ignore'):\n",
        "\n",
        "    feature_list = []\n",
        "\n",
        "    for k in range(1, len(X_train.columns)+1):\n",
        "        pipe = make_pipeline(StandardScaler(), SelectKBest(score_func=f_regression, k=k), LogisticRegression())\n",
        "\n",
        "\n",
        "        pipe.fit(X_train, y_train)\n",
        "        y_pred = pipe.predict(X_test)\n",
        "        f1 = f1_score(y_test, y_pred)\n",
        "        accuracy = pipe.score(X_test, y_test)\n",
        "    \n",
        "\n",
        "        try:\n",
        "          if accuracy > acc_ref:\n",
        "            f1_ref = f1\n",
        "            final_k = k\n",
        "            acc_ref = accuracy\n",
        "        finally: \n",
        "          if k == len(X_train.columns):\n",
        "            print(f'{final_k} Features Used\\n')\n",
        "            print(f'Accuracy: {acc_ref}\\n')"
      ],
      "execution_count": 0,
      "outputs": []
    },
    {
      "cell_type": "markdown",
      "metadata": {
        "id": "K_L3v4fx5H-r",
        "colab_type": "text"
      },
      "source": [
        "### Validation"
      ]
    },
    {
      "cell_type": "code",
      "metadata": {
        "id": "Bic2pSRD4ZyV",
        "colab_type": "code",
        "colab": {
          "base_uri": "https://localhost:8080/",
          "height": 85
        },
        "outputId": "3c156354-b747-4626-be7c-d6a21eb002e5"
      },
      "source": [
        "LogRegression()"
      ],
      "execution_count": 68,
      "outputs": [
        {
          "output_type": "stream",
          "text": [
            "4 Features Used\n",
            "\n",
            "Accuracy: 0.8823529411764706\n",
            "\n"
          ],
          "name": "stdout"
        }
      ]
    },
    {
      "cell_type": "markdown",
      "metadata": {
        "id": "muR-F9V85Jve",
        "colab_type": "text"
      },
      "source": [
        "### Test"
      ]
    },
    {
      "cell_type": "code",
      "metadata": {
        "id": "fIzlfLEk5L_1",
        "colab_type": "code",
        "colab": {
          "base_uri": "https://localhost:8080/",
          "height": 85
        },
        "outputId": "8cc4c7fc-1eb0-4c47-b9d3-845d4613d6be"
      },
      "source": [
        "LogRegression(X_test=X_test, y_test=y_test)"
      ],
      "execution_count": 69,
      "outputs": [
        {
          "output_type": "stream",
          "text": [
            "5 Features Used\n",
            "\n",
            "Accuracy: 0.7631578947368421\n",
            "\n"
          ],
          "name": "stdout"
        }
      ]
    },
    {
      "cell_type": "markdown",
      "metadata": {
        "id": "o21j3gPv4uf2",
        "colab_type": "text"
      },
      "source": [
        "## Logisitc Regression CV\n"
      ]
    },
    {
      "cell_type": "code",
      "metadata": {
        "id": "kllSaxYdqtd0",
        "colab_type": "code",
        "colab": {}
      },
      "source": [
        "def LogCVRegression(X_train=X_train, y_train=y_train, \n",
        "                    X_test=X_validate, y_test=y_validate, \n",
        "                    acc_ref=0):\n",
        "  \n",
        "  with np.errstate(divide='ignore',invalid='ignore', ):\n",
        "\n",
        "    f1_list = []\n",
        "    acc_list = []\n",
        "\n",
        "    for k in range(1, len(X_train.columns)+1):\n",
        "        pipe = make_pipeline(StandardScaler(), SelectKBest(score_func=f_regression, k=k), LogisticRegressionCV(Cs=100, max_iter=10000))\n",
        "        selector = SelectKBest(score_func=f_regression, k=k)\n",
        "        \n",
        "\n",
        "        pipe.fit(X_train, y_train)\n",
        "        y_pred = pipe.predict(X_test)\n",
        "        f1 = f1_score(y_test, y_pred)\n",
        "        f1_list.append(f1)\n",
        "        accuracy = pipe.score(X_test, y_test)\n",
        "        acc_list.append(accuracy)\n",
        "\n",
        "\n",
        "        try:\n",
        "          if accuracy > acc_ref:\n",
        "            f1_ref = f1\n",
        "            final_k = k\n",
        "            acc_ref = accuracy\n",
        "        finally: \n",
        "          if k == len(X_train.columns):\n",
        "            print(f'{final_k} Features Used\\n')\n",
        "            print(f'Accuracy: {acc_ref}\\n')\n",
        "            print(f'Mean Accuracy: {np.mean(acc_list)}\\n')"
      ],
      "execution_count": 0,
      "outputs": []
    },
    {
      "cell_type": "markdown",
      "metadata": {
        "id": "AIthXPWm46mq",
        "colab_type": "text"
      },
      "source": [
        "### Validation"
      ]
    },
    {
      "cell_type": "code",
      "metadata": {
        "id": "WF3PRZNW44yG",
        "colab_type": "code",
        "colab": {
          "base_uri": "https://localhost:8080/",
          "height": 119
        },
        "outputId": "12285f64-f9e7-409c-c4f3-a682a24f3702"
      },
      "source": [
        "LogCVRegression()"
      ],
      "execution_count": 72,
      "outputs": [
        {
          "output_type": "stream",
          "text": [
            "4 Features Used\n",
            "\n",
            "Accuracy: 0.8941176470588236\n",
            "\n",
            "Mean Accuracy: 0.7894957983193277\n",
            "\n"
          ],
          "name": "stdout"
        }
      ]
    },
    {
      "cell_type": "markdown",
      "metadata": {
        "id": "pOrE9qJU48n6",
        "colab_type": "text"
      },
      "source": [
        "### Test"
      ]
    },
    {
      "cell_type": "code",
      "metadata": {
        "id": "E120vQFm45ST",
        "colab_type": "code",
        "colab": {
          "base_uri": "https://localhost:8080/",
          "height": 119
        },
        "outputId": "c0d9b4e4-365d-4512-dcba-285746d9c4d5"
      },
      "source": [
        "LogCVRegression(X_test=X_test, y_test=y_test)"
      ],
      "execution_count": 73,
      "outputs": [
        {
          "output_type": "stream",
          "text": [
            "8 Features Used\n",
            "\n",
            "Accuracy: 0.7894736842105263\n",
            "\n",
            "Mean Accuracy: 0.7396616541353384\n",
            "\n"
          ],
          "name": "stdout"
        }
      ]
    }
  ]
}