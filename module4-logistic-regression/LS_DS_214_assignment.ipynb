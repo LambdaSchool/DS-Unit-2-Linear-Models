{
  "nbformat": 4,
  "nbformat_minor": 0,
  "metadata": {
    "kernelspec": {
      "display_name": "Python 3",
      "language": "python",
      "name": "python3"
    },
    "language_info": {
      "codemirror_mode": {
        "name": "ipython",
        "version": 3
      },
      "file_extension": ".py",
      "mimetype": "text/x-python",
      "name": "python",
      "nbconvert_exporter": "python",
      "pygments_lexer": "ipython3",
      "version": "3.7.3"
    },
    "colab": {
      "name": "LS_DS_214_assignment.ipynb",
      "provenance": []
    }
  },
  "cells": [
    {
      "cell_type": "markdown",
      "metadata": {
        "id": "Q3-naZ-7AmS2",
        "colab_type": "text"
      },
      "source": [
        "Lambda School Data Science\n",
        "\n",
        "*Unit 2, Sprint 1, Module 4*\n",
        "\n",
        "---"
      ]
    },
    {
      "cell_type": "markdown",
      "metadata": {
        "colab_type": "text",
        "id": "7IXUfiQ2UKj6"
      },
      "source": [
        "# Logistic Regression\n",
        "\n",
        "\n",
        "## Assignment 🌯\n",
        "\n",
        "You'll use a [**dataset of 400+ burrito reviews**](https://srcole.github.io/100burritos/). How accurately can you predict whether a burrito is rated 'Great'?\n",
        "\n",
        "> We have developed a 10-dimensional system for rating the burritos in San Diego. ... Generate models for what makes a burrito great and investigate correlations in its dimensions.\n",
        "\n",
        "- [x] Do train/validate/test split. Train on reviews from 2016 & earlier. Validate on 2017. Test on 2018 & later.\n",
        "- [x] Begin with baselines for classification.\n",
        "- [x] Use scikit-learn for logistic regression.\n",
        "- [x] Get your model's validation accuracy. (Multiple times if you try multiple iterations.)\n",
        "- [x] Get your model's test accuracy. (One time, at the end.)\n",
        "- [x] Commit your notebook to your fork of the GitHub repo.\n",
        "\n",
        "\n",
        "## Stretch Goals\n",
        "\n",
        "- [ ] Add your own stretch goal(s) !\n",
        "- [ ] Make exploratory visualizations.\n",
        "- [x] Do one-hot encoding.\n",
        "- [x] Do [feature scaling](https://scikit-learn.org/stable/modules/preprocessing.html).\n",
        "- [x] Get and plot your coefficients.\n",
        "- [ ] Try [scikit-learn pipelines](https://scikit-learn.org/stable/modules/compose.html)."
      ]
    },
    {
      "cell_type": "code",
      "metadata": {
        "colab_type": "code",
        "id": "o9eSnDYhUGD7",
        "colab": {}
      },
      "source": [
        "%%capture\n",
        "import sys\n",
        "\n",
        "# If you're on Colab:\n",
        "if 'google.colab' in sys.modules:\n",
        "    DATA_PATH = 'https://raw.githubusercontent.com/LambdaSchool/DS-Unit-2-Linear-Models/master/data/'\n",
        "    !pip install category_encoders==2.*\n",
        "\n",
        "# If you're working locally:\n",
        "else:\n",
        "    DATA_PATH = '../data/'"
      ],
      "execution_count": 1389,
      "outputs": []
    },
    {
      "cell_type": "code",
      "metadata": {
        "id": "x-JTMQvRAmTE",
        "colab_type": "code",
        "colab": {
          "base_uri": "https://localhost:8080/",
          "height": 102
        },
        "outputId": "58fea0f1-5e87-4360-e51f-0c0184cff9de"
      },
      "source": [
        "# Load data downloaded from https://srcole.github.io/100burritos/\n",
        "import pandas as pd\n",
        "# for e,l in enumerate(range(100)):\n",
        "df = pd.read_csv(DATA_PATH+'burritos/burritos.csv')\n",
        "\n",
        "pd.options.mode.chained_assignment = None  # default='warn'\n",
        "\n",
        "# Derive binary classification target:\n",
        "# We define a 'Great' burrito as having an\n",
        "# overall rating of 4 or higher, on a 5 point scale.\n",
        "# Drop unrated burritos.\n",
        "df = df.dropna(subset=['overall'])\n",
        "df['Great'] = df['overall'] >= 4\n",
        "# Clean/combine the Burrito categories\n",
        "df['Burrito'] = df['Burrito'].str.lower()\n",
        "\n",
        "\n",
        "california = df['Burrito'].str.contains('california')\n",
        "asada = df['Burrito'].str.contains('asada')\n",
        "surf = df['Burrito'].str.contains('surf')\n",
        "carnitas = df['Burrito'].str.contains('carnitas')\n",
        "\n",
        "\n",
        "df.loc[california, 'Burrito'] = 'California'\n",
        "df.loc[asada, 'Burrito'] = 'Asada'\n",
        "df.loc[surf, 'Burrito'] = 'Surf & Turf'\n",
        "df.loc[carnitas, 'Burrito'] = 'Carnitas'\n",
        "df.loc[~california & ~asada & ~surf & ~carnitas, 'Burrito'] = 'Other'\n",
        "\n",
        "\n",
        "# Drop some high cardinality categoricals\n",
        "df = df.drop(columns=['Notes', 'Location', 'Reviewer', 'Address', 'URL', 'Neighborhood'])\n",
        "\n",
        "\n",
        "# Drop some columns to prevent \"leakage\"\n",
        "df = df.drop(columns=['Rec', 'overall'])\n",
        "\n",
        "\n",
        "def update_to_year():\n",
        "    df['Date'] = pd.to_datetime(df.Date)\n",
        "    up_date = []\n",
        "    for date in df['Date']:\n",
        "        up_date.append(date.year)\n",
        "    df['Date'] = up_date\n",
        "\n",
        "# convert 'Date' column to dtype datetime:    \n",
        "# change date column to just be the year \n",
        "update_to_year()\n",
        "\n",
        "# map values to replace nans as 0 and 'X or x' as 1:\n",
        "import numpy as np\n",
        "for i in df.iloc[:,21:-1].columns:\n",
        "    df[str(i)] = df[str(i)].map({'X':1,'x':1,np.nan:0})\n",
        "# fill na values with the average of all values in a given column:\n",
        "def fill_with_mean(df,columns):\n",
        "    for col in columns:\n",
        "        df[col] = df[col].fillna(df[col].mean())\n",
        "\n",
        "# call the fill function:\n",
        "fill_list = ['Length','Circum','Volume','Yelp','Google']\n",
        "fill_with_mean(df,fill_list)\n",
        "\n",
        "# instantiat a list of columns to drop:\n",
        "cols_to_drop = ['Chips','Mass (g)','Density (g/mL)']\n",
        "# drop columns from data that are useless\n",
        "df.drop(columns=cols_to_drop,inplace=True)\n",
        "\n",
        "\n",
        "# Split the data:\n",
        "\n",
        "# train = df.loc[(df['Date'] <= 2016)]   # before doing train_test_split\n",
        "# val = df.loc[(df['Date'] == 2017)]     # \" \"\n",
        "test = df.loc[(df['Date'] >= 2018)] \n",
        "\n",
        "# use model selection to randomly select samples for us:\n",
        "from sklearn.model_selection import train_test_split\n",
        "\n",
        "train,val = train_test_split(df, random_state=37)\n",
        "\n",
        "\n",
        "# instantiate target data:\n",
        "target = 'Great'\n",
        "y_train = train[target]\n",
        "y_val = val[target]\n",
        "y_test = test[target]\n",
        "\n",
        "# baseline:\n",
        "# Majority class of burritos are not great.\n",
        "import seaborn as sns\n",
        "import matplotlib.pyplot as plt\n",
        "# sns.countplot(y_train)\n",
        "\n",
        "# Guesses all burritos are not-great:\n",
        "majority_class = y_train.mode()[0]\n",
        "y_pred = [majority_class]*len(y_train)\n",
        "\n",
        "# now lets get an accuracy score for the baseline:\n",
        "from sklearn.metrics import accuracy_score\n",
        "print(\n",
        "    f\"The accuracy of the baseline model: {int(round(accuracy_score(y_train,y_pred),2)*100)}%\")\n",
        "# function to drop desired columns:\n",
        "def drop_cols_on_all_dfs(df_list,col_to_drop):\n",
        "    for i in df_list:\n",
        "        i.drop(columns=col_to_drop,inplace=True)\n",
        "\n",
        "# call drop function:\n",
        "drop_cols_on_all_dfs([train,val,test],['Date','Great','Queso','Lobster',\n",
        "                                    'Zucchini'])    \n",
        "\n",
        "'''\n",
        "Instantiate features:\n",
        "'''\n",
        "# features = list(train.columns[:19].drop(['Yelp','Google']))\n",
        "# features = list(train.columns.drop(['Yelp','Google','Unreliable','NonSD']))\n",
        "features = list(train.columns)\n",
        "\n",
        "# instantiate our train/val/test matracies:\n",
        "X_train = train[features]\n",
        "X_val = val[features]\n",
        "X_test = test[features]\n",
        "\n",
        "# Perform one hot encoding on the catagorical features:\n",
        "import category_encoders as ce \n",
        "# instantiate the encoder:\n",
        "encoder = ce.OneHotEncoder(use_cat_names=True)\n",
        "# use the encoder on all data:\n",
        "X_train_encoded = encoder.fit_transform(X_train)\n",
        "X_val_encoded = encoder.transform(X_val)\n",
        "X_test_encoded = encoder.transform(X_test)\n",
        "\n",
        "# Impute the data:\n",
        "from sklearn.impute import SimpleImputer\n",
        "# instantiate imputer:\n",
        "imputer = SimpleImputer(strategy='median') \n",
        "# impute the data:\n",
        "X_train_imputed = imputer.fit_transform(X_train_encoded)\n",
        "X_val_imputed = imputer.transform(X_val_encoded)\n",
        "X_test_imputed = imputer.transform(X_test_encoded)\n",
        "\n",
        "# Scale the data:\n",
        "from sklearn.preprocessing import StandardScaler\n",
        "# instantiate scaler:\n",
        "scaler = StandardScaler()\n",
        "# standardize data with the scaler:\n",
        "X_train_scaled = scaler.fit_transform(X_train_imputed) \n",
        "X_val_scaled = scaler.transform(X_val_imputed)\n",
        "X_test_scaled = scaler.transform(X_test_imputed)\n",
        "\n",
        "# Perform logistic regression:\n",
        "from sklearn.linear_model import LogisticRegression\n",
        "# instantiate logistic regression model:\n",
        "model = LogisticRegression()\n",
        "# fit the processed data to the model:\n",
        "model.fit(X_train_scaled,y_train)\n",
        "# predict on our validation data:\n",
        "y_pred = model.predict(X_val_scaled)\n",
        "\n",
        "# aquire validation accuracy score:\n",
        "validation_score = accuracy_score(y_val,y_pred)\n",
        "print(f\"\\nValidation accuracy score: {str(round(validation_score,2)*100)[:2]}%\")\n",
        "\n",
        "# predict on our test data:\n",
        "y_pred = model.predict(X_test_scaled)\n",
        "\n",
        "# aquire test accuracy score:\n",
        "test_score = accuracy_score(y_test,y_pred)\n",
        "print(f\"\\nTest accuracy score: {str(round(test_score,2)*100)[:2]}%\")\n",
        "# if test_score > .80:\n",
        "#     print(e,f\"\\nTest accuracy score: {str(round(test_score,2)*100)[:2]}%\")"
      ],
      "execution_count": 1408,
      "outputs": [
        {
          "output_type": "stream",
          "text": [
            "The accuracy of the baseline model: 56%\n",
            "\n",
            "Validation accuracy score: 83%\n",
            "\n",
            "Test accuracy score: 87%\n"
          ],
          "name": "stdout"
        }
      ]
    },
    {
      "cell_type": "code",
      "metadata": {
        "id": "k0eHpL41gIWj",
        "colab_type": "code",
        "colab": {
          "base_uri": "https://localhost:8080/",
          "height": 700
        },
        "outputId": "3e0e79a4-2818-4c22-ab80-e9c625ea8ed3"
      },
      "source": [
        "coefficients = pd.Series(model.coef_[0], X_train_encoded.columns)\n",
        "plt.figure(figsize=(12,12))\n",
        "coefficients.sort_values().plot.barh();"
      ],
      "execution_count": 1397,
      "outputs": [
        {
          "output_type": "display_data",
          "data": {
            "image/png": "[encoded data removed]",
            "text/plain": [
              "<Figure size 864x864 with 1 Axes>"
            ]
          },
          "metadata": {
            "tags": [],
            "needs_background": "light"
          }
        }
      ]
    },
    {
      "cell_type": "code",
      "metadata": {
        "id": "tE6ObGjEgIAs",
        "colab_type": "code",
        "colab": {}
      },
      "source": [
        "state_87 = 37"
      ],
      "execution_count": 1403,
      "outputs": []
    },
    {
      "cell_type": "code",
      "metadata": {
        "id": "3kgypeTGUOlY",
        "colab_type": "code",
        "colab": {}
      },
      "source": [
        ""
      ],
      "execution_count": null,
      "outputs": []
    }
  ]
}