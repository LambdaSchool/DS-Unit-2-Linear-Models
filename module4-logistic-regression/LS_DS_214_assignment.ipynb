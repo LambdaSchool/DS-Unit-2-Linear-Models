{
 "cells": [
  {
   "cell_type": "markdown",
   "metadata": {},
   "source": [
    "Lambda School Data Science\n",
    "\n",
    "*Unit 2, Sprint 1, Module 4*\n",
    "\n",
    "---"
   ]
  },
  {
   "cell_type": "markdown",
   "metadata": {
    "colab_type": "text",
    "id": "7IXUfiQ2UKj6"
   },
   "source": [
    "# Logistic Regression\n",
    "\n",
    "\n",
    "## Assignment 🌯\n",
    "\n",
    "You'll use a [**dataset of 400+ burrito reviews**](https://srcole.github.io/100burritos/). How accurately can you predict whether a burrito is rated 'Great'?\n",
    "\n",
    "> We have developed a 10-dimensional system for rating the burritos in San Diego. ... Generate models for what makes a burrito great and investigate correlations in its dimensions.\n",
    "\n",
    "- [ ] Do train/validate/test split. Train on reviews from 2016 & earlier. Validate on 2017. Test on 2018 & later.\n",
    "- [ ] Begin with baselines for classification.\n",
    "- [ ] Use scikit-learn for logistic regression.\n",
    "- [ ] Get your model's validation accuracy. (Multiple times if you try multiple iterations.)\n",
    "- [ ] Get your model's test accuracy. (One time, at the end.)\n",
    "- [ ] Commit your notebook to your fork of the GitHub repo.\n",
    "\n",
    "\n",
    "## Stretch Goals\n",
    "\n",
    "- [ ] Add your own stretch goal(s) !\n",
    "- [ ] Make exploratory visualizations.\n",
    "- [ ] Do one-hot encoding.\n",
    "- [ ] Do [feature scaling](https://scikit-learn.org/stable/modules/preprocessing.html).\n",
    "- [ ] Get and plot your coefficients.\n",
    "- [ ] Try [scikit-learn pipelines](https://scikit-learn.org/stable/modules/compose.html)."
   ]
  },
  {
   "cell_type": "code",
   "execution_count": 1,
   "metadata": {
    "colab": {},
    "colab_type": "code",
    "id": "o9eSnDYhUGD7"
   },
   "outputs": [],
   "source": [
    "%%capture\n",
    "import sys\n",
    "\n",
    "DATA_PATH = 'https://raw.githubusercontent.com/LambdaSchool/DS-Unit-2-Linear-Models/master/data/'"
   ]
  },
  {
   "cell_type": "code",
   "execution_count": 2,
   "metadata": {},
   "outputs": [],
   "source": [
    "# Load data downloaded from https://srcole.github.io/100burritos/\n",
    "import numpy as np\n",
    "import pandas as pd\n",
    "pd.options.display.max_columns = 60\n",
    "df = pd.read_csv(DATA_PATH+'burritos/burritos.csv', parse_dates=['Date'], index_col='Date')"
   ]
  },
  {
   "cell_type": "code",
   "execution_count": 3,
   "metadata": {},
   "outputs": [],
   "source": [
    "# Derive binary classification target:\n",
    "# We define a 'Great' burrito as having an\n",
    "# overall rating of 4 or higher, on a 5 point scale.\n",
    "# Drop unrated burritos.\n",
    "df = df.dropna(subset=['overall'])\n",
    "df['Great'] = df['overall'] >= 4"
   ]
  },
  {
   "cell_type": "code",
   "execution_count": 4,
   "metadata": {},
   "outputs": [],
   "source": [
    "# Clean/combine the Burrito categories\n",
    "df['Burrito'] = df['Burrito'].str.lower()\n",
    "\n",
    "california = df['Burrito'].str.contains('california')\n",
    "asada = df['Burrito'].str.contains('asada')\n",
    "surf = df['Burrito'].str.contains('surf')\n",
    "carnitas = df['Burrito'].str.contains('carnitas')\n",
    "\n",
    "df.loc[california, 'Burrito'] = 'California'\n",
    "df.loc[asada, 'Burrito'] = 'Asada'\n",
    "df.loc[surf, 'Burrito'] = 'Surf & Turf'\n",
    "df.loc[carnitas, 'Burrito'] = 'Carnitas'\n",
    "df.loc[~california & ~asada & ~surf & ~carnitas, 'Burrito'] = 'Other'"
   ]
  },
  {
   "cell_type": "code",
   "execution_count": 5,
   "metadata": {},
   "outputs": [],
   "source": [
    "# Drop some high cardinality categoricals\n",
    "df = df.drop(columns=['Notes', 'Location', 'Reviewer', 'Address', 'URL', 'Neighborhood'])"
   ]
  },
  {
   "cell_type": "code",
   "execution_count": 6,
   "metadata": {},
   "outputs": [],
   "source": [
    "# Drop some columns to prevent \"leakage\"\n",
    "df = df.drop(columns=['Rec', 'overall'])"
   ]
  },
  {
   "cell_type": "code",
   "execution_count": 7,
   "metadata": {},
   "outputs": [
    {
     "data": {
      "text/html": [
       "<div>\n",
       "<style scoped>\n",
       "    .dataframe tbody tr th:only-of-type {\n",
       "        vertical-align: middle;\n",
       "    }\n",
       "\n",
       "    .dataframe tbody tr th {\n",
       "        vertical-align: top;\n",
       "    }\n",
       "\n",
       "    .dataframe thead th {\n",
       "        text-align: right;\n",
       "    }\n",
       "</style>\n",
       "<table border=\"1\" class=\"dataframe\">\n",
       "  <thead>\n",
       "    <tr style=\"text-align: right;\">\n",
       "      <th></th>\n",
       "      <th>Burrito</th>\n",
       "      <th>Yelp</th>\n",
       "      <th>Google</th>\n",
       "      <th>Chips</th>\n",
       "      <th>Cost</th>\n",
       "      <th>Hunger</th>\n",
       "      <th>Mass (g)</th>\n",
       "      <th>Density (g/mL)</th>\n",
       "      <th>Length</th>\n",
       "      <th>Circum</th>\n",
       "      <th>Volume</th>\n",
       "      <th>Tortilla</th>\n",
       "      <th>Temp</th>\n",
       "      <th>Meat</th>\n",
       "      <th>Fillings</th>\n",
       "      <th>Meat:filling</th>\n",
       "      <th>Uniformity</th>\n",
       "      <th>Salsa</th>\n",
       "      <th>Synergy</th>\n",
       "      <th>Wrap</th>\n",
       "      <th>Unreliable</th>\n",
       "      <th>NonSD</th>\n",
       "      <th>Beef</th>\n",
       "      <th>Pico</th>\n",
       "      <th>Guac</th>\n",
       "      <th>Cheese</th>\n",
       "      <th>Fries</th>\n",
       "      <th>Sour cream</th>\n",
       "      <th>Pork</th>\n",
       "      <th>Chicken</th>\n",
       "      <th>Shrimp</th>\n",
       "      <th>Fish</th>\n",
       "      <th>Rice</th>\n",
       "      <th>Beans</th>\n",
       "      <th>Lettuce</th>\n",
       "      <th>Tomato</th>\n",
       "      <th>Bell peper</th>\n",
       "      <th>Carrots</th>\n",
       "      <th>Cabbage</th>\n",
       "      <th>Sauce</th>\n",
       "      <th>Salsa.1</th>\n",
       "      <th>Cilantro</th>\n",
       "      <th>Onion</th>\n",
       "      <th>Taquito</th>\n",
       "      <th>Pineapple</th>\n",
       "      <th>Ham</th>\n",
       "      <th>Chile relleno</th>\n",
       "      <th>Nopales</th>\n",
       "      <th>Lobster</th>\n",
       "      <th>Queso</th>\n",
       "      <th>Egg</th>\n",
       "      <th>Mushroom</th>\n",
       "      <th>Bacon</th>\n",
       "      <th>Sushi</th>\n",
       "      <th>Avocado</th>\n",
       "      <th>Corn</th>\n",
       "      <th>Zucchini</th>\n",
       "      <th>Great</th>\n",
       "    </tr>\n",
       "    <tr>\n",
       "      <th>Date</th>\n",
       "      <th></th>\n",
       "      <th></th>\n",
       "      <th></th>\n",
       "      <th></th>\n",
       "      <th></th>\n",
       "      <th></th>\n",
       "      <th></th>\n",
       "      <th></th>\n",
       "      <th></th>\n",
       "      <th></th>\n",
       "      <th></th>\n",
       "      <th></th>\n",
       "      <th></th>\n",
       "      <th></th>\n",
       "      <th></th>\n",
       "      <th></th>\n",
       "      <th></th>\n",
       "      <th></th>\n",
       "      <th></th>\n",
       "      <th></th>\n",
       "      <th></th>\n",
       "      <th></th>\n",
       "      <th></th>\n",
       "      <th></th>\n",
       "      <th></th>\n",
       "      <th></th>\n",
       "      <th></th>\n",
       "      <th></th>\n",
       "      <th></th>\n",
       "      <th></th>\n",
       "      <th></th>\n",
       "      <th></th>\n",
       "      <th></th>\n",
       "      <th></th>\n",
       "      <th></th>\n",
       "      <th></th>\n",
       "      <th></th>\n",
       "      <th></th>\n",
       "      <th></th>\n",
       "      <th></th>\n",
       "      <th></th>\n",
       "      <th></th>\n",
       "      <th></th>\n",
       "      <th></th>\n",
       "      <th></th>\n",
       "      <th></th>\n",
       "      <th></th>\n",
       "      <th></th>\n",
       "      <th></th>\n",
       "      <th></th>\n",
       "      <th></th>\n",
       "      <th></th>\n",
       "      <th></th>\n",
       "      <th></th>\n",
       "      <th></th>\n",
       "      <th></th>\n",
       "      <th></th>\n",
       "      <th></th>\n",
       "    </tr>\n",
       "  </thead>\n",
       "  <tbody>\n",
       "    <tr>\n",
       "      <th>2016-01-18</th>\n",
       "      <td>California</td>\n",
       "      <td>3.5</td>\n",
       "      <td>4.2</td>\n",
       "      <td>NaN</td>\n",
       "      <td>6.49</td>\n",
       "      <td>3.0</td>\n",
       "      <td>NaN</td>\n",
       "      <td>NaN</td>\n",
       "      <td>NaN</td>\n",
       "      <td>NaN</td>\n",
       "      <td>NaN</td>\n",
       "      <td>3.0</td>\n",
       "      <td>5.0</td>\n",
       "      <td>3.0</td>\n",
       "      <td>3.5</td>\n",
       "      <td>4.0</td>\n",
       "      <td>4.0</td>\n",
       "      <td>4.0</td>\n",
       "      <td>4.0</td>\n",
       "      <td>4.0</td>\n",
       "      <td>NaN</td>\n",
       "      <td>NaN</td>\n",
       "      <td>x</td>\n",
       "      <td>x</td>\n",
       "      <td>x</td>\n",
       "      <td>x</td>\n",
       "      <td>x</td>\n",
       "      <td>NaN</td>\n",
       "      <td>NaN</td>\n",
       "      <td>NaN</td>\n",
       "      <td>NaN</td>\n",
       "      <td>NaN</td>\n",
       "      <td>NaN</td>\n",
       "      <td>NaN</td>\n",
       "      <td>NaN</td>\n",
       "      <td>NaN</td>\n",
       "      <td>NaN</td>\n",
       "      <td>NaN</td>\n",
       "      <td>NaN</td>\n",
       "      <td>NaN</td>\n",
       "      <td>NaN</td>\n",
       "      <td>NaN</td>\n",
       "      <td>NaN</td>\n",
       "      <td>NaN</td>\n",
       "      <td>NaN</td>\n",
       "      <td>NaN</td>\n",
       "      <td>NaN</td>\n",
       "      <td>NaN</td>\n",
       "      <td>NaN</td>\n",
       "      <td>NaN</td>\n",
       "      <td>NaN</td>\n",
       "      <td>NaN</td>\n",
       "      <td>NaN</td>\n",
       "      <td>NaN</td>\n",
       "      <td>NaN</td>\n",
       "      <td>NaN</td>\n",
       "      <td>NaN</td>\n",
       "      <td>False</td>\n",
       "    </tr>\n",
       "    <tr>\n",
       "      <th>2016-01-24</th>\n",
       "      <td>California</td>\n",
       "      <td>3.5</td>\n",
       "      <td>3.3</td>\n",
       "      <td>NaN</td>\n",
       "      <td>5.45</td>\n",
       "      <td>3.5</td>\n",
       "      <td>NaN</td>\n",
       "      <td>NaN</td>\n",
       "      <td>NaN</td>\n",
       "      <td>NaN</td>\n",
       "      <td>NaN</td>\n",
       "      <td>2.0</td>\n",
       "      <td>3.5</td>\n",
       "      <td>2.5</td>\n",
       "      <td>2.5</td>\n",
       "      <td>2.0</td>\n",
       "      <td>4.0</td>\n",
       "      <td>3.5</td>\n",
       "      <td>2.5</td>\n",
       "      <td>5.0</td>\n",
       "      <td>NaN</td>\n",
       "      <td>NaN</td>\n",
       "      <td>x</td>\n",
       "      <td>x</td>\n",
       "      <td>x</td>\n",
       "      <td>x</td>\n",
       "      <td>x</td>\n",
       "      <td>NaN</td>\n",
       "      <td>NaN</td>\n",
       "      <td>NaN</td>\n",
       "      <td>NaN</td>\n",
       "      <td>NaN</td>\n",
       "      <td>NaN</td>\n",
       "      <td>NaN</td>\n",
       "      <td>NaN</td>\n",
       "      <td>NaN</td>\n",
       "      <td>NaN</td>\n",
       "      <td>NaN</td>\n",
       "      <td>NaN</td>\n",
       "      <td>NaN</td>\n",
       "      <td>NaN</td>\n",
       "      <td>NaN</td>\n",
       "      <td>NaN</td>\n",
       "      <td>NaN</td>\n",
       "      <td>NaN</td>\n",
       "      <td>NaN</td>\n",
       "      <td>NaN</td>\n",
       "      <td>NaN</td>\n",
       "      <td>NaN</td>\n",
       "      <td>NaN</td>\n",
       "      <td>NaN</td>\n",
       "      <td>NaN</td>\n",
       "      <td>NaN</td>\n",
       "      <td>NaN</td>\n",
       "      <td>NaN</td>\n",
       "      <td>NaN</td>\n",
       "      <td>NaN</td>\n",
       "      <td>False</td>\n",
       "    </tr>\n",
       "    <tr>\n",
       "      <th>2016-01-24</th>\n",
       "      <td>Carnitas</td>\n",
       "      <td>NaN</td>\n",
       "      <td>NaN</td>\n",
       "      <td>NaN</td>\n",
       "      <td>4.85</td>\n",
       "      <td>1.5</td>\n",
       "      <td>NaN</td>\n",
       "      <td>NaN</td>\n",
       "      <td>NaN</td>\n",
       "      <td>NaN</td>\n",
       "      <td>NaN</td>\n",
       "      <td>3.0</td>\n",
       "      <td>2.0</td>\n",
       "      <td>2.5</td>\n",
       "      <td>3.0</td>\n",
       "      <td>4.5</td>\n",
       "      <td>4.0</td>\n",
       "      <td>3.0</td>\n",
       "      <td>3.0</td>\n",
       "      <td>5.0</td>\n",
       "      <td>NaN</td>\n",
       "      <td>NaN</td>\n",
       "      <td>NaN</td>\n",
       "      <td>x</td>\n",
       "      <td>x</td>\n",
       "      <td>NaN</td>\n",
       "      <td>NaN</td>\n",
       "      <td>NaN</td>\n",
       "      <td>x</td>\n",
       "      <td>NaN</td>\n",
       "      <td>NaN</td>\n",
       "      <td>NaN</td>\n",
       "      <td>NaN</td>\n",
       "      <td>NaN</td>\n",
       "      <td>NaN</td>\n",
       "      <td>NaN</td>\n",
       "      <td>NaN</td>\n",
       "      <td>NaN</td>\n",
       "      <td>NaN</td>\n",
       "      <td>NaN</td>\n",
       "      <td>NaN</td>\n",
       "      <td>NaN</td>\n",
       "      <td>NaN</td>\n",
       "      <td>NaN</td>\n",
       "      <td>NaN</td>\n",
       "      <td>NaN</td>\n",
       "      <td>NaN</td>\n",
       "      <td>NaN</td>\n",
       "      <td>NaN</td>\n",
       "      <td>NaN</td>\n",
       "      <td>NaN</td>\n",
       "      <td>NaN</td>\n",
       "      <td>NaN</td>\n",
       "      <td>NaN</td>\n",
       "      <td>NaN</td>\n",
       "      <td>NaN</td>\n",
       "      <td>NaN</td>\n",
       "      <td>False</td>\n",
       "    </tr>\n",
       "    <tr>\n",
       "      <th>2016-01-24</th>\n",
       "      <td>Asada</td>\n",
       "      <td>NaN</td>\n",
       "      <td>NaN</td>\n",
       "      <td>NaN</td>\n",
       "      <td>5.25</td>\n",
       "      <td>2.0</td>\n",
       "      <td>NaN</td>\n",
       "      <td>NaN</td>\n",
       "      <td>NaN</td>\n",
       "      <td>NaN</td>\n",
       "      <td>NaN</td>\n",
       "      <td>3.0</td>\n",
       "      <td>2.0</td>\n",
       "      <td>3.5</td>\n",
       "      <td>3.0</td>\n",
       "      <td>4.0</td>\n",
       "      <td>5.0</td>\n",
       "      <td>4.0</td>\n",
       "      <td>4.0</td>\n",
       "      <td>5.0</td>\n",
       "      <td>NaN</td>\n",
       "      <td>NaN</td>\n",
       "      <td>x</td>\n",
       "      <td>x</td>\n",
       "      <td>x</td>\n",
       "      <td>NaN</td>\n",
       "      <td>NaN</td>\n",
       "      <td>NaN</td>\n",
       "      <td>NaN</td>\n",
       "      <td>NaN</td>\n",
       "      <td>NaN</td>\n",
       "      <td>NaN</td>\n",
       "      <td>NaN</td>\n",
       "      <td>NaN</td>\n",
       "      <td>NaN</td>\n",
       "      <td>NaN</td>\n",
       "      <td>NaN</td>\n",
       "      <td>NaN</td>\n",
       "      <td>NaN</td>\n",
       "      <td>NaN</td>\n",
       "      <td>NaN</td>\n",
       "      <td>NaN</td>\n",
       "      <td>NaN</td>\n",
       "      <td>NaN</td>\n",
       "      <td>NaN</td>\n",
       "      <td>NaN</td>\n",
       "      <td>NaN</td>\n",
       "      <td>NaN</td>\n",
       "      <td>NaN</td>\n",
       "      <td>NaN</td>\n",
       "      <td>NaN</td>\n",
       "      <td>NaN</td>\n",
       "      <td>NaN</td>\n",
       "      <td>NaN</td>\n",
       "      <td>NaN</td>\n",
       "      <td>NaN</td>\n",
       "      <td>NaN</td>\n",
       "      <td>False</td>\n",
       "    </tr>\n",
       "    <tr>\n",
       "      <th>2016-01-27</th>\n",
       "      <td>California</td>\n",
       "      <td>4.0</td>\n",
       "      <td>3.8</td>\n",
       "      <td>x</td>\n",
       "      <td>6.59</td>\n",
       "      <td>4.0</td>\n",
       "      <td>NaN</td>\n",
       "      <td>NaN</td>\n",
       "      <td>NaN</td>\n",
       "      <td>NaN</td>\n",
       "      <td>NaN</td>\n",
       "      <td>4.0</td>\n",
       "      <td>5.0</td>\n",
       "      <td>4.0</td>\n",
       "      <td>3.5</td>\n",
       "      <td>4.5</td>\n",
       "      <td>5.0</td>\n",
       "      <td>2.5</td>\n",
       "      <td>4.5</td>\n",
       "      <td>4.0</td>\n",
       "      <td>NaN</td>\n",
       "      <td>NaN</td>\n",
       "      <td>x</td>\n",
       "      <td>x</td>\n",
       "      <td>NaN</td>\n",
       "      <td>x</td>\n",
       "      <td>x</td>\n",
       "      <td>NaN</td>\n",
       "      <td>NaN</td>\n",
       "      <td>NaN</td>\n",
       "      <td>NaN</td>\n",
       "      <td>NaN</td>\n",
       "      <td>NaN</td>\n",
       "      <td>NaN</td>\n",
       "      <td>NaN</td>\n",
       "      <td>NaN</td>\n",
       "      <td>NaN</td>\n",
       "      <td>NaN</td>\n",
       "      <td>NaN</td>\n",
       "      <td>NaN</td>\n",
       "      <td>NaN</td>\n",
       "      <td>NaN</td>\n",
       "      <td>NaN</td>\n",
       "      <td>NaN</td>\n",
       "      <td>NaN</td>\n",
       "      <td>NaN</td>\n",
       "      <td>NaN</td>\n",
       "      <td>NaN</td>\n",
       "      <td>NaN</td>\n",
       "      <td>NaN</td>\n",
       "      <td>NaN</td>\n",
       "      <td>NaN</td>\n",
       "      <td>NaN</td>\n",
       "      <td>NaN</td>\n",
       "      <td>NaN</td>\n",
       "      <td>NaN</td>\n",
       "      <td>NaN</td>\n",
       "      <td>True</td>\n",
       "    </tr>\n",
       "  </tbody>\n",
       "</table>\n",
       "</div>"
      ],
      "text/plain": [
       "               Burrito  Yelp  Google Chips  Cost  Hunger  Mass (g)  \\\n",
       "Date                                                                 \n",
       "2016-01-18  California   3.5     4.2   NaN  6.49     3.0       NaN   \n",
       "2016-01-24  California   3.5     3.3   NaN  5.45     3.5       NaN   \n",
       "2016-01-24    Carnitas   NaN     NaN   NaN  4.85     1.5       NaN   \n",
       "2016-01-24       Asada   NaN     NaN   NaN  5.25     2.0       NaN   \n",
       "2016-01-27  California   4.0     3.8     x  6.59     4.0       NaN   \n",
       "\n",
       "            Density (g/mL)  Length  Circum  Volume  Tortilla  Temp  Meat  \\\n",
       "Date                                                                       \n",
       "2016-01-18             NaN     NaN     NaN     NaN       3.0   5.0   3.0   \n",
       "2016-01-24             NaN     NaN     NaN     NaN       2.0   3.5   2.5   \n",
       "2016-01-24             NaN     NaN     NaN     NaN       3.0   2.0   2.5   \n",
       "2016-01-24             NaN     NaN     NaN     NaN       3.0   2.0   3.5   \n",
       "2016-01-27             NaN     NaN     NaN     NaN       4.0   5.0   4.0   \n",
       "\n",
       "            Fillings  Meat:filling  Uniformity  Salsa  Synergy  Wrap  \\\n",
       "Date                                                                   \n",
       "2016-01-18       3.5           4.0         4.0    4.0      4.0   4.0   \n",
       "2016-01-24       2.5           2.0         4.0    3.5      2.5   5.0   \n",
       "2016-01-24       3.0           4.5         4.0    3.0      3.0   5.0   \n",
       "2016-01-24       3.0           4.0         5.0    4.0      4.0   5.0   \n",
       "2016-01-27       3.5           4.5         5.0    2.5      4.5   4.0   \n",
       "\n",
       "           Unreliable NonSD Beef Pico Guac Cheese Fries Sour cream Pork  \\\n",
       "Date                                                                      \n",
       "2016-01-18        NaN   NaN    x    x    x      x     x        NaN  NaN   \n",
       "2016-01-24        NaN   NaN    x    x    x      x     x        NaN  NaN   \n",
       "2016-01-24        NaN   NaN  NaN    x    x    NaN   NaN        NaN    x   \n",
       "2016-01-24        NaN   NaN    x    x    x    NaN   NaN        NaN  NaN   \n",
       "2016-01-27        NaN   NaN    x    x  NaN      x     x        NaN  NaN   \n",
       "\n",
       "           Chicken Shrimp Fish Rice Beans Lettuce Tomato Bell peper Carrots  \\\n",
       "Date                                                                          \n",
       "2016-01-18     NaN    NaN  NaN  NaN   NaN     NaN    NaN        NaN     NaN   \n",
       "2016-01-24     NaN    NaN  NaN  NaN   NaN     NaN    NaN        NaN     NaN   \n",
       "2016-01-24     NaN    NaN  NaN  NaN   NaN     NaN    NaN        NaN     NaN   \n",
       "2016-01-24     NaN    NaN  NaN  NaN   NaN     NaN    NaN        NaN     NaN   \n",
       "2016-01-27     NaN    NaN  NaN  NaN   NaN     NaN    NaN        NaN     NaN   \n",
       "\n",
       "           Cabbage Sauce Salsa.1 Cilantro Onion Taquito Pineapple  Ham  \\\n",
       "Date                                                                     \n",
       "2016-01-18     NaN   NaN     NaN      NaN   NaN     NaN       NaN  NaN   \n",
       "2016-01-24     NaN   NaN     NaN      NaN   NaN     NaN       NaN  NaN   \n",
       "2016-01-24     NaN   NaN     NaN      NaN   NaN     NaN       NaN  NaN   \n",
       "2016-01-24     NaN   NaN     NaN      NaN   NaN     NaN       NaN  NaN   \n",
       "2016-01-27     NaN   NaN     NaN      NaN   NaN     NaN       NaN  NaN   \n",
       "\n",
       "           Chile relleno Nopales Lobster  Queso  Egg Mushroom Bacon Sushi  \\\n",
       "Date                                                                        \n",
       "2016-01-18           NaN     NaN     NaN    NaN  NaN      NaN   NaN   NaN   \n",
       "2016-01-24           NaN     NaN     NaN    NaN  NaN      NaN   NaN   NaN   \n",
       "2016-01-24           NaN     NaN     NaN    NaN  NaN      NaN   NaN   NaN   \n",
       "2016-01-24           NaN     NaN     NaN    NaN  NaN      NaN   NaN   NaN   \n",
       "2016-01-27           NaN     NaN     NaN    NaN  NaN      NaN   NaN   NaN   \n",
       "\n",
       "           Avocado Corn Zucchini  Great  \n",
       "Date                                     \n",
       "2016-01-18     NaN  NaN      NaN  False  \n",
       "2016-01-24     NaN  NaN      NaN  False  \n",
       "2016-01-24     NaN  NaN      NaN  False  \n",
       "2016-01-24     NaN  NaN      NaN  False  \n",
       "2016-01-27     NaN  NaN      NaN   True  "
      ]
     },
     "execution_count": 7,
     "metadata": {},
     "output_type": "execute_result"
    }
   ],
   "source": [
    "df.head()"
   ]
  },
  {
   "cell_type": "code",
   "execution_count": 8,
   "metadata": {},
   "outputs": [
    {
     "name": "stdout",
     "output_type": "stream",
     "text": [
      "<class 'pandas.core.frame.DataFrame'>\n",
      "DatetimeIndex: 421 entries, 2016-01-18 to 2019-08-27\n",
      "Data columns (total 58 columns):\n",
      " #   Column          Non-Null Count  Dtype  \n",
      "---  ------          --------------  -----  \n",
      " 0   Burrito         421 non-null    object \n",
      " 1   Yelp            87 non-null     float64\n",
      " 2   Google          87 non-null     float64\n",
      " 3   Chips           26 non-null     object \n",
      " 4   Cost            414 non-null    float64\n",
      " 5   Hunger          418 non-null    float64\n",
      " 6   Mass (g)        22 non-null     float64\n",
      " 7   Density (g/mL)  22 non-null     float64\n",
      " 8   Length          283 non-null    float64\n",
      " 9   Circum          281 non-null    float64\n",
      " 10  Volume          281 non-null    float64\n",
      " 11  Tortilla        421 non-null    float64\n",
      " 12  Temp            401 non-null    float64\n",
      " 13  Meat            407 non-null    float64\n",
      " 14  Fillings        418 non-null    float64\n",
      " 15  Meat:filling    412 non-null    float64\n",
      " 16  Uniformity      419 non-null    float64\n",
      " 17  Salsa           396 non-null    float64\n",
      " 18  Synergy         419 non-null    float64\n",
      " 19  Wrap            418 non-null    float64\n",
      " 20  Unreliable      33 non-null     object \n",
      " 21  NonSD           7 non-null      object \n",
      " 22  Beef            179 non-null    object \n",
      " 23  Pico            158 non-null    object \n",
      " 24  Guac            154 non-null    object \n",
      " 25  Cheese          159 non-null    object \n",
      " 26  Fries           127 non-null    object \n",
      " 27  Sour cream      92 non-null     object \n",
      " 28  Pork            51 non-null     object \n",
      " 29  Chicken         21 non-null     object \n",
      " 30  Shrimp          21 non-null     object \n",
      " 31  Fish            6 non-null      object \n",
      " 32  Rice            36 non-null     object \n",
      " 33  Beans           35 non-null     object \n",
      " 34  Lettuce         11 non-null     object \n",
      " 35  Tomato          7 non-null      object \n",
      " 36  Bell peper      7 non-null      object \n",
      " 37  Carrots         1 non-null      object \n",
      " 38  Cabbage         8 non-null      object \n",
      " 39  Sauce           38 non-null     object \n",
      " 40  Salsa.1         7 non-null      object \n",
      " 41  Cilantro        15 non-null     object \n",
      " 42  Onion           17 non-null     object \n",
      " 43  Taquito         4 non-null      object \n",
      " 44  Pineapple       7 non-null      object \n",
      " 45  Ham             2 non-null      object \n",
      " 46  Chile relleno   4 non-null      object \n",
      " 47  Nopales         4 non-null      object \n",
      " 48  Lobster         1 non-null      object \n",
      " 49  Queso           0 non-null      float64\n",
      " 50  Egg             5 non-null      object \n",
      " 51  Mushroom        3 non-null      object \n",
      " 52  Bacon           3 non-null      object \n",
      " 53  Sushi           2 non-null      object \n",
      " 54  Avocado         13 non-null     object \n",
      " 55  Corn            3 non-null      object \n",
      " 56  Zucchini        1 non-null      object \n",
      " 57  Great           421 non-null    bool   \n",
      "dtypes: bool(1), float64(19), object(38)\n",
      "memory usage: 191.2+ KB\n"
     ]
    }
   ],
   "source": [
    "df.info()"
   ]
  },
  {
   "cell_type": "markdown",
   "metadata": {},
   "source": [
    "Gonna drop a few more things here. Google and Yelp columns are mostly null, and it seems we shouldn't be using them anyway, since we're basically trying to predict rating.\n",
    "\n",
    "I'll also drop Mass and Density, since those have even more NaNs. The rest of the numeric columns seem to have enough values that we can replace their remaining NaNs with the corresponding column means (with SimpleImputer).\n",
    "\n",
    "Drop Queso since it's 100% null.\n",
    "\n",
    "All these specific object columns seem intended to be boolean, with NaNs meaning False and x's meaning true. I could let OneHot take care of these, but that would result in doubling those columns for no reason. Let's make sure I'm right and then convert accordingly."
   ]
  },
  {
   "cell_type": "code",
   "execution_count": 9,
   "metadata": {},
   "outputs": [],
   "source": [
    "df = df.drop(columns=['Google', 'Yelp','Mass (g)','Density (g/mL)','Queso'])"
   ]
  },
  {
   "cell_type": "code",
   "execution_count": 10,
   "metadata": {
    "scrolled": false
   },
   "outputs": [
    {
     "name": "stdout",
     "output_type": "stream",
     "text": [
      "<class 'pandas.core.frame.DataFrame'>\n",
      "DatetimeIndex: 421 entries, 2016-01-18 to 2019-08-27\n",
      "Data columns (total 53 columns):\n",
      " #   Column         Non-Null Count  Dtype  \n",
      "---  ------         --------------  -----  \n",
      " 0   Burrito        421 non-null    object \n",
      " 1   Cost           414 non-null    float64\n",
      " 2   Hunger         418 non-null    float64\n",
      " 3   Length         283 non-null    float64\n",
      " 4   Circum         281 non-null    float64\n",
      " 5   Volume         281 non-null    float64\n",
      " 6   Tortilla       421 non-null    float64\n",
      " 7   Temp           401 non-null    float64\n",
      " 8   Meat           407 non-null    float64\n",
      " 9   Fillings       418 non-null    float64\n",
      " 10  Meat:filling   412 non-null    float64\n",
      " 11  Uniformity     419 non-null    float64\n",
      " 12  Salsa          396 non-null    float64\n",
      " 13  Synergy        419 non-null    float64\n",
      " 14  Wrap           418 non-null    float64\n",
      " 15  Unreliable     33 non-null     object \n",
      " 16  NonSD          7 non-null      object \n",
      " 17  Beef           179 non-null    object \n",
      " 18  Pico           158 non-null    object \n",
      " 19  Guac           154 non-null    object \n",
      " 20  Cheese         159 non-null    object \n",
      " 21  Fries          127 non-null    object \n",
      " 22  Sour cream     92 non-null     object \n",
      " 23  Pork           51 non-null     object \n",
      " 24  Chicken        21 non-null     object \n",
      " 25  Shrimp         21 non-null     object \n",
      " 26  Fish           6 non-null      object \n",
      " 27  Rice           36 non-null     object \n",
      " 28  Beans          35 non-null     object \n",
      " 29  Lettuce        11 non-null     object \n",
      " 30  Tomato         7 non-null      object \n",
      " 31  Bell peper     7 non-null      object \n",
      " 32  Carrots        1 non-null      object \n",
      " 33  Cabbage        8 non-null      object \n",
      " 34  Sauce          38 non-null     object \n",
      " 35  Salsa.1        7 non-null      object \n",
      " 36  Cilantro       15 non-null     object \n",
      " 37  Onion          17 non-null     object \n",
      " 38  Taquito        4 non-null      object \n",
      " 39  Pineapple      7 non-null      object \n",
      " 40  Ham            2 non-null      object \n",
      " 41  Chile relleno  4 non-null      object \n",
      " 42  Nopales        4 non-null      object \n",
      " 43  Lobster        1 non-null      object \n",
      " 44  Egg            5 non-null      object \n",
      " 45  Mushroom       3 non-null      object \n",
      " 46  Bacon          3 non-null      object \n",
      " 47  Sushi          2 non-null      object \n",
      " 48  Avocado        13 non-null     object \n",
      " 49  Corn           3 non-null      object \n",
      " 50  Zucchini       1 non-null      object \n",
      " 51  Chips          26 non-null     object \n",
      " 52  Great          421 non-null    bool   \n",
      "dtypes: bool(1), float64(14), object(38)\n",
      "memory usage: 174.7+ KB\n"
     ]
    }
   ],
   "source": [
    "move_to_end = ['Chips', 'Great']\n",
    "\n",
    "df = df[[col for col in df if col not in move_to_end] + move_to_end]\n",
    "df.info()"
   ]
  },
  {
   "cell_type": "code",
   "execution_count": 11,
   "metadata": {},
   "outputs": [
    {
     "data": {
      "text/plain": [
       "Unreliable       2\n",
       "NonSD            3\n",
       "Beef             3\n",
       "Pico             3\n",
       "Guac             3\n",
       "Cheese           3\n",
       "Fries            3\n",
       "Sour cream       3\n",
       "Pork             3\n",
       "Chicken          3\n",
       "Shrimp           3\n",
       "Fish             3\n",
       "Rice             3\n",
       "Beans            3\n",
       "Lettuce          3\n",
       "Tomato           3\n",
       "Bell peper       3\n",
       "Carrots          2\n",
       "Cabbage          3\n",
       "Sauce            3\n",
       "Salsa.1          3\n",
       "Cilantro         3\n",
       "Onion            3\n",
       "Taquito          3\n",
       "Pineapple        3\n",
       "Ham              2\n",
       "Chile relleno    2\n",
       "Nopales          2\n",
       "Lobster          2\n",
       "Egg              2\n",
       "Mushroom         2\n",
       "Bacon            2\n",
       "Sushi            2\n",
       "Avocado          2\n",
       "Corn             3\n",
       "Zucchini         2\n",
       "Chips            5\n",
       "dtype: int64"
      ]
     },
     "execution_count": 11,
     "metadata": {},
     "output_type": "execute_result"
    }
   ],
   "source": [
    "df.loc[:,'Unreliable':'Chips'].nunique(dropna=False)"
   ]
  },
  {
   "cell_type": "markdown",
   "metadata": {},
   "source": [
    "Sure seems I'm wrong that these are supposed to be bool, but let's clean things up and see what we get."
   ]
  },
  {
   "cell_type": "code",
   "execution_count": 12,
   "metadata": {},
   "outputs": [
    {
     "data": {
      "text/plain": [
       "Unreliable       2\n",
       "NonSD            2\n",
       "Beef             2\n",
       "Pico             2\n",
       "Guac             2\n",
       "Cheese           2\n",
       "Fries            2\n",
       "Sour cream       2\n",
       "Pork             2\n",
       "Chicken          2\n",
       "Shrimp           2\n",
       "Fish             2\n",
       "Rice             2\n",
       "Beans            2\n",
       "Lettuce          2\n",
       "Tomato           2\n",
       "Bell peper       2\n",
       "Carrots          2\n",
       "Cabbage          2\n",
       "Sauce            2\n",
       "Salsa.1          2\n",
       "Cilantro         2\n",
       "Onion            2\n",
       "Taquito          2\n",
       "Pineapple        2\n",
       "Ham              2\n",
       "Chile relleno    2\n",
       "Nopales          2\n",
       "Lobster          2\n",
       "Egg              2\n",
       "Mushroom         2\n",
       "Bacon            2\n",
       "Sushi            2\n",
       "Avocado          2\n",
       "Corn             2\n",
       "Zucchini         2\n",
       "Chips            2\n",
       "dtype: int64"
      ]
     },
     "execution_count": 12,
     "metadata": {},
     "output_type": "execute_result"
    }
   ],
   "source": [
    "df.loc[:,'Unreliable':'Chips'] = df.loc[:,'Unreliable':'Chips'].replace({'x':'1',\n",
    "                                                                         'X':'1',\n",
    "                                                                         'Yes':'1',\n",
    "                                                                         'yes':'1',\n",
    "                                                                         'No':'0',\n",
    "                                                                         'no':'0',\n",
    "                                                                         np.NaN:'0'}).astype(int)\n",
    "df.loc[:,'Unreliable':'Chips'].nunique()"
   ]
  },
  {
   "cell_type": "markdown",
   "metadata": {},
   "source": [
    "Now that's bool.\n",
    "\n",
    "What's our baseline?"
   ]
  },
  {
   "cell_type": "code",
   "execution_count": 13,
   "metadata": {},
   "outputs": [
    {
     "data": {
      "text/plain": [
       "False    0.567696\n",
       "True     0.432304\n",
       "Name: Great, dtype: float64"
      ]
     },
     "execution_count": 13,
     "metadata": {},
     "output_type": "execute_result"
    }
   ],
   "source": [
    "df['Great'].value_counts(normalize=True)"
   ]
  },
  {
   "cell_type": "markdown",
   "metadata": {},
   "source": [
    "Baseline accuracy: 0.568. Let's see what we can do."
   ]
  },
  {
   "cell_type": "code",
   "execution_count": 14,
   "metadata": {},
   "outputs": [],
   "source": [
    "y = df['Great']\n",
    "X = df.drop(columns='Great')"
   ]
  },
  {
   "cell_type": "code",
   "execution_count": 15,
   "metadata": {},
   "outputs": [],
   "source": [
    "train_mask = df.index.year < 2017\n",
    "val_mask = df.index.year == 2017\n",
    "test_mask = df.index.year > 2017\n",
    "\n",
    "y_train, X_train = y[train_mask], X[train_mask]\n",
    "y_val, X_val = y[val_mask], X[val_mask]\n",
    "y_test, X_test = y[test_mask], X[test_mask]\n",
    "\n",
    "assert y_train.shape[0] + y_val.shape[0] + y_test.shape[0] == y.shape[0]"
   ]
  },
  {
   "cell_type": "code",
   "execution_count": 16,
   "metadata": {},
   "outputs": [],
   "source": [
    "from category_encoders import OneHotEncoder\n",
    "from sklearn.impute import SimpleImputer\n",
    "from sklearn.linear_model import LogisticRegression\n",
    "from sklearn.preprocessing import StandardScaler\n",
    "from sklearn.pipeline import make_pipeline\n",
    "from sklearn.feature_selection import SelectKBest"
   ]
  },
  {
   "cell_type": "code",
   "execution_count": 17,
   "metadata": {},
   "outputs": [],
   "source": [
    "model_log = make_pipeline(\n",
    "    OneHotEncoder(use_cat_names=True),\n",
    "    SimpleImputer(),\n",
    "    StandardScaler(),\n",
    "    SelectKBest(k=10),\n",
    "    LogisticRegression()\n",
    ")"
   ]
  },
  {
   "cell_type": "code",
   "execution_count": 18,
   "metadata": {},
   "outputs": [
    {
     "name": "stderr",
     "output_type": "stream",
     "text": [
      "c:\\users\\benjs\\opencv\\lib\\site-packages\\category_encoders\\utils.py:21: FutureWarning: is_categorical is deprecated and will be removed in a future version.  Use is_categorical_dtype instead\n",
      "  elif pd.api.types.is_categorical(cols):\n"
     ]
    },
    {
     "data": {
      "text/plain": [
       "Pipeline(steps=[('onehotencoder',\n",
       "                 OneHotEncoder(cols=['Burrito'], use_cat_names=True)),\n",
       "                ('simpleimputer', SimpleImputer()),\n",
       "                ('standardscaler', StandardScaler()),\n",
       "                ('selectkbest', SelectKBest()),\n",
       "                ('logisticregression', LogisticRegression())])"
      ]
     },
     "execution_count": 18,
     "metadata": {},
     "output_type": "execute_result"
    }
   ],
   "source": [
    "model_log.fit(X_train, y_train)"
   ]
  },
  {
   "cell_type": "code",
   "execution_count": 19,
   "metadata": {},
   "outputs": [
    {
     "name": "stdout",
     "output_type": "stream",
     "text": [
      "--Train Accuracy--\n",
      "0.889261744966443\n"
     ]
    }
   ],
   "source": [
    "print('--Train Accuracy--')\n",
    "print(model_log.score(X_train, y_train))"
   ]
  },
  {
   "cell_type": "code",
   "execution_count": 20,
   "metadata": {},
   "outputs": [
    {
     "name": "stdout",
     "output_type": "stream",
     "text": [
      "--Validation Accuracy--\n",
      "0.8470588235294118\n"
     ]
    }
   ],
   "source": [
    "print('--Validation Accuracy--')\n",
    "print(model_log.score(X_val, y_val))"
   ]
  },
  {
   "cell_type": "markdown",
   "metadata": {},
   "source": [
    "Surprised by this inaccuracy of the validation set, I immediately wondered, since some of those specific object columns had so few positives, if maybe the validation set was small enough that some of them had **no** positives. If so, those should obviously be removed from the training set."
   ]
  },
  {
   "cell_type": "code",
   "execution_count": 21,
   "metadata": {
    "scrolled": false
   },
   "outputs": [
    {
     "data": {
      "text/plain": [
       "Unreliable       2\n",
       "NonSD            2\n",
       "Beef             2\n",
       "Pico             2\n",
       "Guac             2\n",
       "Cheese           2\n",
       "Fries            2\n",
       "Sour cream       2\n",
       "Pork             2\n",
       "Chicken          1\n",
       "Shrimp           2\n",
       "Fish             2\n",
       "Rice             2\n",
       "Beans            1\n",
       "Lettuce          1\n",
       "Tomato           1\n",
       "Bell peper       1\n",
       "Carrots          1\n",
       "Cabbage          2\n",
       "Sauce            2\n",
       "Salsa.1          1\n",
       "Cilantro         1\n",
       "Onion            1\n",
       "Taquito          1\n",
       "Pineapple        1\n",
       "Ham              1\n",
       "Chile relleno    1\n",
       "Nopales          1\n",
       "Lobster          1\n",
       "Egg              1\n",
       "Mushroom         1\n",
       "Bacon            1\n",
       "Sushi            1\n",
       "Avocado          1\n",
       "Corn             2\n",
       "Zucchini         1\n",
       "Chips            2\n",
       "dtype: int64"
      ]
     },
     "execution_count": 21,
     "metadata": {},
     "output_type": "execute_result"
    }
   ],
   "source": [
    "X_val.loc[:,'Unreliable':'Chips'].nunique()"
   ]
  },
  {
   "cell_type": "code",
   "execution_count": 22,
   "metadata": {},
   "outputs": [],
   "source": [
    "X_val = X_val[X_val.columns[X_val.nunique() > 1]]"
   ]
  },
  {
   "cell_type": "code",
   "execution_count": 23,
   "metadata": {
    "scrolled": false
   },
   "outputs": [
    {
     "data": {
      "text/plain": [
       "Burrito          5\n",
       "Cost            36\n",
       "Hunger          14\n",
       "Length          19\n",
       "Circum          19\n",
       "Volume          37\n",
       "Tortilla        12\n",
       "Temp             9\n",
       "Meat            17\n",
       "Fillings        12\n",
       "Meat:filling    13\n",
       "Uniformity      18\n",
       "Salsa           19\n",
       "Synergy         20\n",
       "Wrap            16\n",
       "Unreliable       2\n",
       "NonSD            2\n",
       "Beef             2\n",
       "Pico             2\n",
       "Guac             2\n",
       "Cheese           2\n",
       "Fries            2\n",
       "Sour cream       2\n",
       "Pork             2\n",
       "Shrimp           2\n",
       "Fish             2\n",
       "Rice             2\n",
       "Cabbage          2\n",
       "Sauce            2\n",
       "Corn             2\n",
       "Chips            2\n",
       "dtype: int64"
      ]
     },
     "execution_count": 23,
     "metadata": {},
     "output_type": "execute_result"
    }
   ],
   "source": [
    "X_val.nunique()"
   ]
  },
  {
   "cell_type": "markdown",
   "metadata": {},
   "source": [
    "Much better. Now let's make sure our Train and Test sets are narrowed to these same columns, and then refit the model. I'm actually going to totally redefine the model so I can play around with the k value."
   ]
  },
  {
   "cell_type": "code",
   "execution_count": 24,
   "metadata": {},
   "outputs": [],
   "source": [
    "X_train = X_train[X_val.columns]\n",
    "X_test = X_test[X_val.columns]"
   ]
  },
  {
   "cell_type": "code",
   "execution_count": 25,
   "metadata": {
    "collapsed": true
   },
   "outputs": [
    {
     "name": "stderr",
     "output_type": "stream",
     "text": [
      "c:\\users\\benjs\\opencv\\lib\\site-packages\\category_encoders\\utils.py:21: FutureWarning: is_categorical is deprecated and will be removed in a future version.  Use is_categorical_dtype instead\n",
      "  elif pd.api.types.is_categorical(cols):\n",
      "c:\\users\\benjs\\opencv\\lib\\site-packages\\category_encoders\\utils.py:21: FutureWarning: is_categorical is deprecated and will be removed in a future version.  Use is_categorical_dtype instead\n",
      "  elif pd.api.types.is_categorical(cols):\n",
      "c:\\users\\benjs\\opencv\\lib\\site-packages\\category_encoders\\utils.py:21: FutureWarning: is_categorical is deprecated and will be removed in a future version.  Use is_categorical_dtype instead\n",
      "  elif pd.api.types.is_categorical(cols):\n",
      "c:\\users\\benjs\\opencv\\lib\\site-packages\\category_encoders\\utils.py:21: FutureWarning: is_categorical is deprecated and will be removed in a future version.  Use is_categorical_dtype instead\n",
      "  elif pd.api.types.is_categorical(cols):\n",
      "c:\\users\\benjs\\opencv\\lib\\site-packages\\category_encoders\\utils.py:21: FutureWarning: is_categorical is deprecated and will be removed in a future version.  Use is_categorical_dtype instead\n",
      "  elif pd.api.types.is_categorical(cols):\n",
      "c:\\users\\benjs\\opencv\\lib\\site-packages\\category_encoders\\utils.py:21: FutureWarning: is_categorical is deprecated and will be removed in a future version.  Use is_categorical_dtype instead\n",
      "  elif pd.api.types.is_categorical(cols):\n",
      "c:\\users\\benjs\\opencv\\lib\\site-packages\\category_encoders\\utils.py:21: FutureWarning: is_categorical is deprecated and will be removed in a future version.  Use is_categorical_dtype instead\n",
      "  elif pd.api.types.is_categorical(cols):\n",
      "c:\\users\\benjs\\opencv\\lib\\site-packages\\category_encoders\\utils.py:21: FutureWarning: is_categorical is deprecated and will be removed in a future version.  Use is_categorical_dtype instead\n",
      "  elif pd.api.types.is_categorical(cols):\n",
      "c:\\users\\benjs\\opencv\\lib\\site-packages\\category_encoders\\utils.py:21: FutureWarning: is_categorical is deprecated and will be removed in a future version.  Use is_categorical_dtype instead\n",
      "  elif pd.api.types.is_categorical(cols):\n",
      "c:\\users\\benjs\\opencv\\lib\\site-packages\\category_encoders\\utils.py:21: FutureWarning: is_categorical is deprecated and will be removed in a future version.  Use is_categorical_dtype instead\n",
      "  elif pd.api.types.is_categorical(cols):\n",
      "c:\\users\\benjs\\opencv\\lib\\site-packages\\category_encoders\\utils.py:21: FutureWarning: is_categorical is deprecated and will be removed in a future version.  Use is_categorical_dtype instead\n",
      "  elif pd.api.types.is_categorical(cols):\n",
      "c:\\users\\benjs\\opencv\\lib\\site-packages\\category_encoders\\utils.py:21: FutureWarning: is_categorical is deprecated and will be removed in a future version.  Use is_categorical_dtype instead\n",
      "  elif pd.api.types.is_categorical(cols):\n",
      "c:\\users\\benjs\\opencv\\lib\\site-packages\\category_encoders\\utils.py:21: FutureWarning: is_categorical is deprecated and will be removed in a future version.  Use is_categorical_dtype instead\n",
      "  elif pd.api.types.is_categorical(cols):\n",
      "c:\\users\\benjs\\opencv\\lib\\site-packages\\category_encoders\\utils.py:21: FutureWarning: is_categorical is deprecated and will be removed in a future version.  Use is_categorical_dtype instead\n",
      "  elif pd.api.types.is_categorical(cols):\n",
      "c:\\users\\benjs\\opencv\\lib\\site-packages\\category_encoders\\utils.py:21: FutureWarning: is_categorical is deprecated and will be removed in a future version.  Use is_categorical_dtype instead\n",
      "  elif pd.api.types.is_categorical(cols):\n",
      "c:\\users\\benjs\\opencv\\lib\\site-packages\\category_encoders\\utils.py:21: FutureWarning: is_categorical is deprecated and will be removed in a future version.  Use is_categorical_dtype instead\n",
      "  elif pd.api.types.is_categorical(cols):\n",
      "c:\\users\\benjs\\opencv\\lib\\site-packages\\category_encoders\\utils.py:21: FutureWarning: is_categorical is deprecated and will be removed in a future version.  Use is_categorical_dtype instead\n",
      "  elif pd.api.types.is_categorical(cols):\n",
      "c:\\users\\benjs\\opencv\\lib\\site-packages\\category_encoders\\utils.py:21: FutureWarning: is_categorical is deprecated and will be removed in a future version.  Use is_categorical_dtype instead\n",
      "  elif pd.api.types.is_categorical(cols):\n"
     ]
    }
   ],
   "source": [
    "train_accuracies = []\n",
    "val_accuracies = []\n",
    "k_range = np.arange(2, 20)\n",
    "\n",
    "for k in k_range:\n",
    "    k_test_model = make_pipeline(\n",
    "        OneHotEncoder(use_cat_names=True),\n",
    "        SimpleImputer(),\n",
    "        StandardScaler(),\n",
    "        SelectKBest(k=k),\n",
    "        LogisticRegression()\n",
    "    )\n",
    "    k_test_model.fit(X_train, y_train)\n",
    "    \n",
    "    train_accuracies.append(k_test_model.score(X_train, y_train))\n",
    "    val_accuracies.append(k_test_model.score(X_val, y_val))"
   ]
  },
  {
   "cell_type": "code",
   "execution_count": 26,
   "metadata": {},
   "outputs": [],
   "source": [
    "import matplotlib.pyplot as plt"
   ]
  },
  {
   "cell_type": "code",
   "execution_count": 27,
   "metadata": {},
   "outputs": [
    {
     "data": {
      "image/png": "[encoded data removed]",
      "text/plain": [
       "<Figure size 720x360 with 1 Axes>"
      ]
     },
     "metadata": {
      "needs_background": "light"
     },
     "output_type": "display_data"
    }
   ],
   "source": [
    "fig, ax = plt.subplots(figsize=[10,5])\n",
    "\n",
    "w = .4\n",
    "\n",
    "train_ac = ax.bar(x=k_range, height=train_accuracies, width=w)\n",
    "val_ac = ax.bar(x=k_range+w, height=val_accuracies, width=w)\n",
    "\n",
    "ax.legend([train_ac, val_ac], ['Train Accuracy', 'Val Accuracy'])\n",
    "\n",
    "ax.set_xticks([3*n for n in range(7)])\n",
    "\n",
    "ax.set_title('Accuracies of Logistic Regression, Depending on k')\n",
    "ax.set_xlabel('# of best features used (k)')\n",
    "ax.set_ylabel('Validation accuracy')\n",
    "ax.set_ylim([.8,1])\n",
    "\n",
    "plt.show()"
   ]
  },
  {
   "cell_type": "markdown",
   "metadata": {},
   "source": [
    "Looks like we should use k=6! Validation accuracy is better at k=4, but training accuracy suffers a bit."
   ]
  },
  {
   "cell_type": "code",
   "execution_count": 28,
   "metadata": {},
   "outputs": [],
   "source": [
    "model_log = make_pipeline(\n",
    "    OneHotEncoder(use_cat_names=True),\n",
    "    SimpleImputer(),\n",
    "    StandardScaler(),\n",
    "    SelectKBest(k=6),\n",
    "    LogisticRegression()\n",
    ")"
   ]
  },
  {
   "cell_type": "code",
   "execution_count": 29,
   "metadata": {},
   "outputs": [
    {
     "name": "stderr",
     "output_type": "stream",
     "text": [
      "c:\\users\\benjs\\opencv\\lib\\site-packages\\category_encoders\\utils.py:21: FutureWarning: is_categorical is deprecated and will be removed in a future version.  Use is_categorical_dtype instead\n",
      "  elif pd.api.types.is_categorical(cols):\n"
     ]
    },
    {
     "data": {
      "text/plain": [
       "Pipeline(steps=[('onehotencoder',\n",
       "                 OneHotEncoder(cols=['Burrito'], use_cat_names=True)),\n",
       "                ('simpleimputer', SimpleImputer()),\n",
       "                ('standardscaler', StandardScaler()),\n",
       "                ('selectkbest', SelectKBest(k=6)),\n",
       "                ('logisticregression', LogisticRegression())])"
      ]
     },
     "execution_count": 29,
     "metadata": {},
     "output_type": "execute_result"
    }
   ],
   "source": [
    "model_log.fit(X_train, y_train)"
   ]
  },
  {
   "cell_type": "code",
   "execution_count": 30,
   "metadata": {},
   "outputs": [
    {
     "name": "stdout",
     "output_type": "stream",
     "text": [
      "--Train Accuracy--\n",
      "0.8825503355704698\n"
     ]
    }
   ],
   "source": [
    "print('--Train Accuracy--')\n",
    "print(model_log.score(X_train, y_train))"
   ]
  },
  {
   "cell_type": "code",
   "execution_count": 31,
   "metadata": {},
   "outputs": [
    {
     "name": "stdout",
     "output_type": "stream",
     "text": [
      "--Validation Accuracy--\n",
      "0.8941176470588236\n"
     ]
    }
   ],
   "source": [
    "print('--Validation Accuracy--')\n",
    "print(model_log.score(X_val, y_val))"
   ]
  },
  {
   "cell_type": "markdown",
   "metadata": {},
   "source": [
    "Now, at last, let us check the accuracy of our test set!"
   ]
  },
  {
   "cell_type": "code",
   "execution_count": 32,
   "metadata": {},
   "outputs": [
    {
     "name": "stdout",
     "output_type": "stream",
     "text": [
      "--TEST ACCURACY--\n",
      "0.7368421052631579\n"
     ]
    }
   ],
   "source": [
    "print('--TEST ACCURACY--')\n",
    "print(model_log.score(X_test, y_test))"
   ]
  },
  {
   "cell_type": "markdown",
   "metadata": {},
   "source": [
    "What a let down!! I was hoping for at least low 80s! "
   ]
  }
 ],
 "metadata": {
  "kernelspec": {
   "display_name": "Python 3",
   "language": "python",
   "name": "python3"
  },
  "language_info": {
   "codemirror_mode": {
    "name": "ipython",
    "version": 3
   },
   "file_extension": ".py",
   "mimetype": "text/x-python",
   "name": "python",
   "nbconvert_exporter": "python",
   "pygments_lexer": "ipython3",
   "version": "3.8.6rc1"
  }
 },
 "nbformat": 4,
 "nbformat_minor": 1
}
