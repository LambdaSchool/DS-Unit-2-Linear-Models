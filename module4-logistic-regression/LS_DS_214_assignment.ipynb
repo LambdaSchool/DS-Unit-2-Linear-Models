{
  "nbformat": 4,
  "nbformat_minor": 0,
  "metadata": {
    "kernelspec": {
      "display_name": "Python 3",
      "language": "python",
      "name": "python3"
    },
    "language_info": {
      "codemirror_mode": {
        "name": "ipython",
        "version": 3
      },
      "file_extension": ".py",
      "mimetype": "text/x-python",
      "name": "python",
      "nbconvert_exporter": "python",
      "pygments_lexer": "ipython3",
      "version": "3.7.3"
    },
    "colab": {
      "name": "LS_DS_214_assignment.ipynb",
      "provenance": []
    }
  },
  "cells": [
    {
      "cell_type": "markdown",
      "metadata": {
        "id": "Q3-naZ-7AmS2",
        "colab_type": "text"
      },
      "source": [
        "Lambda School Data Science\n",
        "\n",
        "*Unit 2, Sprint 1, Module 4*\n",
        "\n",
        "---"
      ]
    },
    {
      "cell_type": "markdown",
      "metadata": {
        "colab_type": "text",
        "id": "7IXUfiQ2UKj6"
      },
      "source": [
        "# Logistic Regression\n",
        "\n",
        "\n",
        "## Assignment 🌯\n",
        "\n",
        "You'll use a [**dataset of 400+ burrito reviews**](https://srcole.github.io/100burritos/). How accurately can you predict whether a burrito is rated 'Great'?\n",
        "\n",
        "> We have developed a 10-dimensional system for rating the burritos in San Diego. ... Generate models for what makes a burrito great and investigate correlations in its dimensions.\n",
        "\n",
        "- [x] Do train/validate/test split. Train on reviews from 2016 & earlier. Validate on 2017. Test on 2018 & later.\n",
        "- [x] Begin with baselines for classification.\n",
        "- [x] Use scikit-learn for logistic regression.\n",
        "- [x] Get your model's validation accuracy. (Multiple times if you try multiple iterations.)\n",
        "- [x] Get your model's test accuracy. (One time, at the end.)\n",
        "- [x] Commit your notebook to your fork of the GitHub repo.\n",
        "\n",
        "\n",
        "## Stretch Goals\n",
        "\n",
        "- [ ] Add your own stretch goal(s) !\n",
        "- [ ] Make exploratory visualizations.\n",
        "- [ ] Do one-hot encoding.\n",
        "- [ ] Do [feature scaling](https://scikit-learn.org/stable/modules/preprocessing.html).\n",
        "- [ ] Get and plot your coefficients.\n",
        "- [ ] Try [scikit-learn pipelines](https://scikit-learn.org/stable/modules/compose.html)."
      ]
    },
    {
      "cell_type": "code",
      "metadata": {
        "colab_type": "code",
        "id": "o9eSnDYhUGD7",
        "colab": {}
      },
      "source": [
        "%%capture\n",
        "import sys\n",
        "\n",
        "# If you're on Colab:\n",
        "if 'google.colab' in sys.modules:\n",
        "    DATA_PATH = 'https://raw.githubusercontent.com/LambdaSchool/DS-Unit-2-Linear-Models/master/data/'\n",
        "    !pip install category_encoders==2.*\n",
        "\n",
        "# If you're working locally:\n",
        "else:\n",
        "    DATA_PATH = '../data/'"
      ],
      "execution_count": 218,
      "outputs": []
    },
    {
      "cell_type": "code",
      "metadata": {
        "id": "x-JTMQvRAmTE",
        "colab_type": "code",
        "colab": {}
      },
      "source": [
        "# Load data downloaded from https://srcole.github.io/100burritos/\n",
        "import pandas as pd\n",
        "df = pd.read_csv(DATA_PATH+'burritos/burritos.csv')"
      ],
      "execution_count": 219,
      "outputs": []
    },
    {
      "cell_type": "code",
      "metadata": {
        "id": "H2zGShYdAmTK",
        "colab_type": "code",
        "colab": {}
      },
      "source": [
        "# Derive binary classification target:\n",
        "# We define a 'Great' burrito as having an\n",
        "# overall rating of 4 or higher, on a 5 point scale.\n",
        "# Drop unrated burritos.\n",
        "df = df.dropna(subset=['overall'])\n",
        "df['Great'] = df['overall'] >= 4"
      ],
      "execution_count": 220,
      "outputs": []
    },
    {
      "cell_type": "code",
      "metadata": {
        "id": "7LvKD8JEAmTS",
        "colab_type": "code",
        "colab": {}
      },
      "source": [
        "# Clean/combine the Burrito categories\n",
        "df['Burrito'] = df['Burrito'].str.lower()\n",
        "\n",
        "california = df['Burrito'].str.contains('california')\n",
        "asada = df['Burrito'].str.contains('asada')\n",
        "surf = df['Burrito'].str.contains('surf')\n",
        "carnitas = df['Burrito'].str.contains('carnitas')\n",
        "\n",
        "df.loc[california, 'Burrito'] = 'California'\n",
        "df.loc[asada, 'Burrito'] = 'Asada'\n",
        "df.loc[surf, 'Burrito'] = 'Surf & Turf'\n",
        "df.loc[carnitas, 'Burrito'] = 'Carnitas'\n",
        "df.loc[~california & ~asada & ~surf & ~carnitas, 'Burrito'] = 'Other'"
      ],
      "execution_count": 221,
      "outputs": []
    },
    {
      "cell_type": "code",
      "metadata": {
        "id": "w0BCfSXPAmTX",
        "colab_type": "code",
        "colab": {}
      },
      "source": [
        "# Drop some high cardinality categoricals\n",
        "df = df.drop(columns=['Notes', 'Location', 'Reviewer', 'Address', 'URL', 'Neighborhood'])"
      ],
      "execution_count": 222,
      "outputs": []
    },
    {
      "cell_type": "code",
      "metadata": {
        "id": "oiphqpBkAmTe",
        "colab_type": "code",
        "colab": {}
      },
      "source": [
        "# Drop some columns to prevent \"leakage\"\n",
        "df = df.drop(columns=['Rec', 'overall'])"
      ],
      "execution_count": 223,
      "outputs": []
    },
    {
      "cell_type": "code",
      "metadata": {
        "id": "awF5852yAmTk",
        "colab_type": "code",
        "colab": {}
      },
      "source": [
        "df['Date'] = pd.to_datetime(df.Date)"
      ],
      "execution_count": 224,
      "outputs": []
    },
    {
      "cell_type": "code",
      "metadata": {
        "id": "caunmxRGY3AI",
        "colab_type": "code",
        "colab": {}
      },
      "source": [
        "up_date = []\n",
        "for date in df['Date']:\n",
        "    up_date.append(date.year)\n",
        "df['Date'] = up_date"
      ],
      "execution_count": 225,
      "outputs": []
    },
    {
      "cell_type": "code",
      "metadata": {
        "id": "KRSxiGXQqILY",
        "colab_type": "code",
        "colab": {}
      },
      "source": [
        "import numpy as np\n",
        "for i in df.iloc[:,21:-1].columns:\n",
        "    df[str(i)] = df[str(i)].map({'X':1,'x':1,np.nan:0})"
      ],
      "execution_count": 226,
      "outputs": []
    },
    {
      "cell_type": "code",
      "metadata": {
        "id": "t9i4HA54qtlz",
        "colab_type": "code",
        "colab": {}
      },
      "source": [
        "def fill_with_mean(df,columns):\n",
        "    for col in columns:\n",
        "        df[col] = df[col].fillna(df[col].mean())\n",
        "\n",
        "fill_list = ['Length','Circum','Volume','Yelp','Google']\n",
        "fill_with_mean(df,fill_list)\n",
        "\n",
        "cols_to_drop = ['Chips','Mass (g)','Density (g/mL)']\n",
        "df.drop(columns=cols_to_drop,inplace=True)"
      ],
      "execution_count": 227,
      "outputs": []
    },
    {
      "cell_type": "code",
      "metadata": {
        "id": "Eq2S7sfmJjhT",
        "colab_type": "code",
        "colab": {}
      },
      "source": [
        "train = df.loc[(df['Date'] <= 2016)]\n",
        "val = df.loc[(df['Date'] == 2017)]\n",
        "test = df.loc[(df['Date'] >= 2018)]"
      ],
      "execution_count": 228,
      "outputs": []
    },
    {
      "cell_type": "code",
      "metadata": {
        "id": "gtUQzktTVHiC",
        "colab_type": "code",
        "colab": {}
      },
      "source": [
        "target = 'Great'\n",
        "y_train = train[target]\n",
        "y_val = val[target]\n",
        "y_test = test[target]"
      ],
      "execution_count": 229,
      "outputs": []
    },
    {
      "cell_type": "code",
      "metadata": {
        "id": "-2WtJKaeaBSM",
        "colab_type": "code",
        "colab": {}
      },
      "source": [
        "# baseline:\n",
        "# Majority class of burritos are not great.\n",
        "import seaborn as sns\n",
        "import matplotlib.pyplot as plt\n",
        "# sns.countplot(y_train)"
      ],
      "execution_count": 230,
      "outputs": []
    },
    {
      "cell_type": "code",
      "metadata": {
        "id": "_eQuLe2Jdy3M",
        "colab_type": "code",
        "colab": {}
      },
      "source": [
        "# Guesses all burritos are not-great:\n",
        "majority_class = y_train.mode()[0]\n",
        "y_pred = [majority_class]*len(y_train)\n",
        "# y_pred"
      ],
      "execution_count": 231,
      "outputs": []
    },
    {
      "cell_type": "code",
      "metadata": {
        "id": "1K0AAQnMed6I",
        "colab_type": "code",
        "colab": {
          "base_uri": "https://localhost:8080/",
          "height": 34
        },
        "outputId": "b29e7b79-8907-40ee-8f53-73ff19e85442"
      },
      "source": [
        "# now lets get an accuracy score for the baseline:\n",
        "from sklearn.metrics import accuracy_score\n",
        "print(\n",
        "    f\"The accuracy of the baseline model: {int(round(accuracy_score(y_train,y_pred),2)*100)}%\")"
      ],
      "execution_count": 232,
      "outputs": [
        {
          "output_type": "stream",
          "text": [
            "The accuracy of the baseline model: 59%\n"
          ],
          "name": "stdout"
        }
      ]
    },
    {
      "cell_type": "code",
      "metadata": {
        "id": "3rngal7prwl4",
        "colab_type": "code",
        "colab": {}
      },
      "source": [
        "def drop_cols_on_all_dfs(df_list,col_to_drop):\n",
        "    for i in df_list:\n",
        "        i.drop(columns=col_to_drop,inplace=True)\n",
        "\n",
        "drop_cols_on_all_dfs([train,val,test],'Date')    "
      ],
      "execution_count": null,
      "outputs": []
    },
    {
      "cell_type": "code",
      "metadata": {
        "id": "UIH2R9LztSWh",
        "colab_type": "code",
        "colab": {}
      },
      "source": [
        "features = train.columns\n",
        "\n",
        "X_train = train[features]\n",
        "X_val = val[features]\n",
        "X_test = test[features]"
      ],
      "execution_count": 240,
      "outputs": []
    },
    {
      "cell_type": "code",
      "metadata": {
        "id": "Wy1AeCDce7qW",
        "colab_type": "code",
        "colab": {}
      },
      "source": [
        "import category_encoders as ce \n",
        "encoder = ce.OneHotEncoder(use_cat_names=True)\n",
        "\n",
        "X_train_encoded = encoder.fit_transform(X_train)\n",
        "X_val_encoded = encoder.transform(X_val)\n",
        "X_test_encoded = encoder.transform(X_test)\n",
        "\n",
        "X_train_encoded"
      ],
      "execution_count": null,
      "outputs": []
    },
    {
      "cell_type": "code",
      "metadata": {
        "id": "Z4imQTxPgIS9",
        "colab_type": "code",
        "colab": {}
      },
      "source": [
        "from sklearn.impute import SimpleImputer\n",
        "imputer = SimpleImputer(strategy='mean') #try dif perams\n",
        "X_train_imputed = imputer.fit_transform(X_train_encoded)\n",
        "X_val_imputed = imputer.transform(X_val_encoded)\n",
        "X_test_imputed = imputer.transform(X_test_encoded)"
      ],
      "execution_count": null,
      "outputs": []
    },
    {
      "cell_type": "code",
      "metadata": {
        "id": "XtFa1MGTgIZj",
        "colab_type": "code",
        "colab": {}
      },
      "source": [
        "from sklearn.preprocessing import StandardScaler\n",
        "scaler = StandardScaler()\n",
        "X_train_scaled = scaler.fit_transform(X_train_imputed) \n",
        "X_val_scaled = scaler.transform(X_val_imputed)\n",
        "X_test_scaled = scaler.transform(X_test_imputed)"
      ],
      "execution_count": 243,
      "outputs": []
    },
    {
      "cell_type": "code",
      "metadata": {
        "id": "jZj34Im6gInX",
        "colab_type": "code",
        "colab": {
          "base_uri": "https://localhost:8080/",
          "height": 34
        },
        "outputId": "25844aa8-f654-40dd-e8ef-326f49269564"
      },
      "source": [
        "from sklearn.linear_model import LogisticRegression\n",
        "model = LogisticRegression()\n",
        "\n",
        "model.fit(X_train_scaled,y_train)\n",
        "y_pred = model.predict(X_val_scaled)\n",
        "\n",
        "validation_score = accuracy_score(y_val,y_pred)\n"
      ],
      "execution_count": 245,
      "outputs": [
        {
          "output_type": "execute_result",
          "data": {
            "text/plain": [
              "1.0"
            ]
          },
          "metadata": {
            "tags": []
          },
          "execution_count": 245
        }
      ]
    },
    {
      "cell_type": "code",
      "metadata": {
        "id": "gX_L3SJkgIlQ",
        "colab_type": "code",
        "colab": {
          "base_uri": "https://localhost:8080/",
          "height": 34
        },
        "outputId": "08424acc-b8fd-40a7-9871-b8fbd3e747c5"
      },
      "source": [
        "y_pred = model.predict(X_test_scaled)\n",
        "\n",
        "test_score = accuracy_score(y_test,y_pred)\n",
        "test_score"
      ],
      "execution_count": 247,
      "outputs": [
        {
          "output_type": "execute_result",
          "data": {
            "text/plain": [
              "1.0"
            ]
          },
          "metadata": {
            "tags": []
          },
          "execution_count": 247
        }
      ]
    },
    {
      "cell_type": "code",
      "metadata": {
        "id": "k0eHpL41gIWj",
        "colab_type": "code",
        "colab": {
          "base_uri": "https://localhost:8080/",
          "height": 1000
        },
        "outputId": "b496a874-f76e-458e-b3e7-73828d87cee1"
      },
      "source": [
        "pd.Series(model.coef_[0], X_train_encoded.columns)"
      ],
      "execution_count": 248,
      "outputs": [
        {
          "output_type": "execute_result",
          "data": {
            "text/plain": [
              "Burrito_California     0.138768\n",
              "Burrito_Carnitas      -0.003128\n",
              "Burrito_Asada         -0.020400\n",
              "Burrito_Other         -0.142864\n",
              "Burrito_Surf & Turf    0.032452\n",
              "Yelp                   0.055299\n",
              "Google                -0.000864\n",
              "Cost                   0.192120\n",
              "Hunger                 0.094560\n",
              "Length                 0.028574\n",
              "Circum                 0.034331\n",
              "Volume                 0.044090\n",
              "Tortilla               0.254914\n",
              "Temp                   0.228093\n",
              "Meat                   0.564108\n",
              "Fillings               0.467731\n",
              "Meat:filling           0.467215\n",
              "Uniformity             0.101787\n",
              "Salsa                  0.142057\n",
              "Synergy                0.628253\n",
              "Wrap                   0.076537\n",
              "Unreliable             0.125295\n",
              "NonSD                  0.028424\n",
              "Beef                  -0.120210\n",
              "Pico                  -0.095569\n",
              "Guac                   0.117085\n",
              "Cheese                 0.005002\n",
              "Fries                 -0.084506\n",
              "Sour cream             0.008035\n",
              "Pork                   0.040380\n",
              "Chicken               -0.072825\n",
              "Shrimp                -0.090178\n",
              "Fish                   0.000634\n",
              "Rice                   0.024448\n",
              "Beans                 -0.178969\n",
              "Lettuce               -0.083759\n",
              "Tomato                -0.079581\n",
              "Bell peper            -0.071576\n",
              "Carrots               -0.017082\n",
              "Cabbage                0.006526\n",
              "Sauce                 -0.001270\n",
              "Salsa.1                0.017415\n",
              "Cilantro               0.060807\n",
              "Onion                  0.022690\n",
              "Taquito               -0.002755\n",
              "Pineapple             -0.216796\n",
              "Ham                    0.139967\n",
              "Chile relleno          0.046188\n",
              "Nopales                0.049570\n",
              "Lobster               -0.054421\n",
              "Queso                  0.000000\n",
              "Egg                    0.024174\n",
              "Mushroom               0.000339\n",
              "Bacon                  0.059900\n",
              "Sushi                  0.087302\n",
              "Avocado               -0.112456\n",
              "Corn                  -0.021354\n",
              "Zucchini               0.093767\n",
              "Great                  3.391969\n",
              "dtype: float64"
            ]
          },
          "metadata": {
            "tags": []
          },
          "execution_count": 248
        }
      ]
    },
    {
      "cell_type": "code",
      "metadata": {
        "id": "tE6ObGjEgIAs",
        "colab_type": "code",
        "colab": {}
      },
      "source": [
        ""
      ],
      "execution_count": 237,
      "outputs": []
    }
  ]
}