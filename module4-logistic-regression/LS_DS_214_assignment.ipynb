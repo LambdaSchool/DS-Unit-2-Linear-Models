{
 "cells": [
  {
   "cell_type": "markdown",
   "metadata": {},
   "source": [
    "Lambda School Data Science\n",
    "\n",
    "*Unit 2, Sprint 1, Module 4*\n",
    "\n",
    "---"
   ]
  },
  {
   "cell_type": "markdown",
   "metadata": {
    "colab_type": "text",
    "id": "7IXUfiQ2UKj6"
   },
   "source": [
    "# Logistic Regression\n",
    "\n",
    "\n",
    "## Assignment 🌯\n",
    "\n",
    "You'll use a [**dataset of 400+ burrito reviews**](https://srcole.github.io/100burritos/). How accurately can you predict whether a burrito is rated 'Great'?\n",
    "\n",
    "> We have developed a 10-dimensional system for rating the burritos in San Diego. ... Generate models for what makes a burrito great and investigate correlations in its dimensions.\n",
    "\n",
    "- [ ] Do train/validate/test split. Train on reviews from 2016 & earlier. Validate on 2017. Test on 2018 & later.\n",
    "- [ ] Begin with baselines for classification.\n",
    "- [ ] Use scikit-learn for logistic regression.\n",
    "- [ ] Get your model's validation accuracy. (Multiple times if you try multiple iterations.)\n",
    "- [ ] Get your model's test accuracy. (One time, at the end.)\n",
    "- [ ] Commit your notebook to your fork of the GitHub repo.\n",
    "\n",
    "\n",
    "## Stretch Goals\n",
    "\n",
    "- [ ] Add your own stretch goal(s) !\n",
    "- [ ] Make exploratory visualizations.\n",
    "- [ ] Do one-hot encoding.\n",
    "- [ ] Do [feature scaling](https://scikit-learn.org/stable/modules/preprocessing.html).\n",
    "- [ ] Get and plot your coefficients.\n",
    "- [ ] Try [scikit-learn pipelines](https://scikit-learn.org/stable/modules/compose.html)."
   ]
  },
  {
   "cell_type": "code",
   "execution_count": 1,
   "metadata": {
    "colab": {},
    "colab_type": "code",
    "id": "o9eSnDYhUGD7"
   },
   "outputs": [],
   "source": [
    "%%capture\n",
    "import sys\n",
    "\n",
    "# If you're on Colab:\n",
    "if 'google.colab' in sys.modules:\n",
    "    DATA_PATH = 'https://raw.githubusercontent.com/LambdaSchool/DS-Unit-2-Linear-Models/master/data/'\n",
    "    !pip install category_encoders==2.*\n",
    "\n",
    "# If you're working locally:\n",
    "else:\n",
    "    DATA_PATH = '../data/'"
   ]
  },
  {
   "cell_type": "code",
   "execution_count": 46,
   "metadata": {},
   "outputs": [],
   "source": [
    "# Load data downloaded from https://srcole.github.io/100burritos/\n",
    "import pandas as pd\n",
    "pd.set_option('display.max_columns', 999)\n",
    "df = pd.read_csv(DATA_PATH+'burritos/burritos.csv')"
   ]
  },
  {
   "cell_type": "code",
   "execution_count": 47,
   "metadata": {},
   "outputs": [],
   "source": [
    "# Derive binary classification target:\n",
    "# We define a 'Great' burrito as having an\n",
    "# overall rating of 4 or higher, on a 5 point scale.\n",
    "# Drop unrated burritos.\n",
    "df = df.dropna(subset=['overall'])\n",
    "df['Great'] = df['overall'] >= 4"
   ]
  },
  {
   "cell_type": "code",
   "execution_count": 48,
   "metadata": {},
   "outputs": [],
   "source": [
    "# Clean/combine the Burrito categories\n",
    "df['Burrito'] = df['Burrito'].str.lower()\n",
    "\n",
    "california = df['Burrito'].str.contains('california')\n",
    "asada = df['Burrito'].str.contains('asada')\n",
    "surf = df['Burrito'].str.contains('surf')\n",
    "carnitas = df['Burrito'].str.contains('carnitas')\n",
    "\n",
    "df.loc[california, 'Burrito'] = 'California'\n",
    "df.loc[asada, 'Burrito'] = 'Asada'\n",
    "df.loc[surf, 'Burrito'] = 'Surf & Turf'\n",
    "df.loc[carnitas, 'Burrito'] = 'Carnitas'\n",
    "df.loc[~california & ~asada & ~surf & ~carnitas, 'Burrito'] = 'Other'"
   ]
  },
  {
   "cell_type": "code",
   "execution_count": 49,
   "metadata": {},
   "outputs": [],
   "source": [
    "# Drop some high cardinality categoricals\n",
    "df = df.drop(columns=['Notes', 'Location', 'Reviewer', 'Address', 'URL', 'Neighborhood'])"
   ]
  },
  {
   "cell_type": "code",
   "execution_count": 50,
   "metadata": {},
   "outputs": [],
   "source": [
    "# Drop some columns to prevent \"leakage\"\n",
    "df = df.drop(columns=['Rec', 'overall'])"
   ]
  },
  {
   "cell_type": "code",
   "execution_count": 51,
   "metadata": {},
   "outputs": [],
   "source": [
    "df['Date'] = pd.to_datetime(df['Date'])"
   ]
  },
  {
   "cell_type": "code",
   "execution_count": 52,
   "metadata": {},
   "outputs": [
    {
     "data": {
      "text/plain": [
       "Index(['Burrito', 'Date', 'Yelp', 'Google', 'Chips', 'Cost', 'Hunger',\n",
       "       'Mass (g)', 'Density (g/mL)', 'Length', 'Circum', 'Volume', 'Tortilla',\n",
       "       'Temp', 'Meat', 'Fillings', 'Meat:filling', 'Uniformity', 'Salsa',\n",
       "       'Synergy', 'Wrap', 'Unreliable', 'NonSD', 'Beef', 'Pico', 'Guac',\n",
       "       'Cheese', 'Fries', 'Sour cream', 'Pork', 'Chicken', 'Shrimp', 'Fish',\n",
       "       'Rice', 'Beans', 'Lettuce', 'Tomato', 'Bell peper', 'Carrots',\n",
       "       'Cabbage', 'Sauce', 'Salsa.1', 'Cilantro', 'Onion', 'Taquito',\n",
       "       'Pineapple', 'Ham', 'Chile relleno', 'Nopales', 'Lobster', 'Queso',\n",
       "       'Egg', 'Mushroom', 'Bacon', 'Sushi', 'Avocado', 'Corn', 'Zucchini',\n",
       "       'Great'],\n",
       "      dtype='object')"
      ]
     },
     "metadata": {},
     "output_type": "display_data"
    },
    {
     "data": {
      "text/html": [
       "<div>\n",
       "<style scoped>\n",
       "    .dataframe tbody tr th:only-of-type {\n",
       "        vertical-align: middle;\n",
       "    }\n",
       "\n",
       "    .dataframe tbody tr th {\n",
       "        vertical-align: top;\n",
       "    }\n",
       "\n",
       "    .dataframe thead th {\n",
       "        text-align: right;\n",
       "    }\n",
       "</style>\n",
       "<table border=\"1\" class=\"dataframe\">\n",
       "  <thead>\n",
       "    <tr style=\"text-align: right;\">\n",
       "      <th></th>\n",
       "      <th>Burrito</th>\n",
       "      <th>Date</th>\n",
       "      <th>Yelp</th>\n",
       "      <th>Google</th>\n",
       "      <th>Chips</th>\n",
       "      <th>Cost</th>\n",
       "      <th>Hunger</th>\n",
       "      <th>Mass (g)</th>\n",
       "      <th>Density (g/mL)</th>\n",
       "      <th>Length</th>\n",
       "      <th>Circum</th>\n",
       "      <th>Volume</th>\n",
       "      <th>Tortilla</th>\n",
       "      <th>Temp</th>\n",
       "      <th>Meat</th>\n",
       "      <th>Fillings</th>\n",
       "      <th>Meat:filling</th>\n",
       "      <th>Uniformity</th>\n",
       "      <th>Salsa</th>\n",
       "      <th>Synergy</th>\n",
       "      <th>Wrap</th>\n",
       "      <th>Unreliable</th>\n",
       "      <th>NonSD</th>\n",
       "      <th>Beef</th>\n",
       "      <th>Pico</th>\n",
       "      <th>Guac</th>\n",
       "      <th>Cheese</th>\n",
       "      <th>Fries</th>\n",
       "      <th>Sour cream</th>\n",
       "      <th>Pork</th>\n",
       "      <th>Chicken</th>\n",
       "      <th>Shrimp</th>\n",
       "      <th>Fish</th>\n",
       "      <th>Rice</th>\n",
       "      <th>Beans</th>\n",
       "      <th>Lettuce</th>\n",
       "      <th>Tomato</th>\n",
       "      <th>Bell peper</th>\n",
       "      <th>Carrots</th>\n",
       "      <th>Cabbage</th>\n",
       "      <th>Sauce</th>\n",
       "      <th>Salsa.1</th>\n",
       "      <th>Cilantro</th>\n",
       "      <th>Onion</th>\n",
       "      <th>Taquito</th>\n",
       "      <th>Pineapple</th>\n",
       "      <th>Ham</th>\n",
       "      <th>Chile relleno</th>\n",
       "      <th>Nopales</th>\n",
       "      <th>Lobster</th>\n",
       "      <th>Queso</th>\n",
       "      <th>Egg</th>\n",
       "      <th>Mushroom</th>\n",
       "      <th>Bacon</th>\n",
       "      <th>Sushi</th>\n",
       "      <th>Avocado</th>\n",
       "      <th>Corn</th>\n",
       "      <th>Zucchini</th>\n",
       "      <th>Great</th>\n",
       "    </tr>\n",
       "  </thead>\n",
       "  <tbody>\n",
       "    <tr>\n",
       "      <td>0</td>\n",
       "      <td>California</td>\n",
       "      <td>2016-01-18</td>\n",
       "      <td>3.5</td>\n",
       "      <td>4.2</td>\n",
       "      <td>NaN</td>\n",
       "      <td>6.49</td>\n",
       "      <td>3.0</td>\n",
       "      <td>NaN</td>\n",
       "      <td>NaN</td>\n",
       "      <td>NaN</td>\n",
       "      <td>NaN</td>\n",
       "      <td>NaN</td>\n",
       "      <td>3.0</td>\n",
       "      <td>5.0</td>\n",
       "      <td>3.0</td>\n",
       "      <td>3.5</td>\n",
       "      <td>4.0</td>\n",
       "      <td>4.0</td>\n",
       "      <td>4.0</td>\n",
       "      <td>4.0</td>\n",
       "      <td>4.0</td>\n",
       "      <td>NaN</td>\n",
       "      <td>NaN</td>\n",
       "      <td>x</td>\n",
       "      <td>x</td>\n",
       "      <td>x</td>\n",
       "      <td>x</td>\n",
       "      <td>x</td>\n",
       "      <td>NaN</td>\n",
       "      <td>NaN</td>\n",
       "      <td>NaN</td>\n",
       "      <td>NaN</td>\n",
       "      <td>NaN</td>\n",
       "      <td>NaN</td>\n",
       "      <td>NaN</td>\n",
       "      <td>NaN</td>\n",
       "      <td>NaN</td>\n",
       "      <td>NaN</td>\n",
       "      <td>NaN</td>\n",
       "      <td>NaN</td>\n",
       "      <td>NaN</td>\n",
       "      <td>NaN</td>\n",
       "      <td>NaN</td>\n",
       "      <td>NaN</td>\n",
       "      <td>NaN</td>\n",
       "      <td>NaN</td>\n",
       "      <td>NaN</td>\n",
       "      <td>NaN</td>\n",
       "      <td>NaN</td>\n",
       "      <td>NaN</td>\n",
       "      <td>NaN</td>\n",
       "      <td>NaN</td>\n",
       "      <td>NaN</td>\n",
       "      <td>NaN</td>\n",
       "      <td>NaN</td>\n",
       "      <td>NaN</td>\n",
       "      <td>NaN</td>\n",
       "      <td>NaN</td>\n",
       "      <td>False</td>\n",
       "    </tr>\n",
       "    <tr>\n",
       "      <td>1</td>\n",
       "      <td>California</td>\n",
       "      <td>2016-01-24</td>\n",
       "      <td>3.5</td>\n",
       "      <td>3.3</td>\n",
       "      <td>NaN</td>\n",
       "      <td>5.45</td>\n",
       "      <td>3.5</td>\n",
       "      <td>NaN</td>\n",
       "      <td>NaN</td>\n",
       "      <td>NaN</td>\n",
       "      <td>NaN</td>\n",
       "      <td>NaN</td>\n",
       "      <td>2.0</td>\n",
       "      <td>3.5</td>\n",
       "      <td>2.5</td>\n",
       "      <td>2.5</td>\n",
       "      <td>2.0</td>\n",
       "      <td>4.0</td>\n",
       "      <td>3.5</td>\n",
       "      <td>2.5</td>\n",
       "      <td>5.0</td>\n",
       "      <td>NaN</td>\n",
       "      <td>NaN</td>\n",
       "      <td>x</td>\n",
       "      <td>x</td>\n",
       "      <td>x</td>\n",
       "      <td>x</td>\n",
       "      <td>x</td>\n",
       "      <td>NaN</td>\n",
       "      <td>NaN</td>\n",
       "      <td>NaN</td>\n",
       "      <td>NaN</td>\n",
       "      <td>NaN</td>\n",
       "      <td>NaN</td>\n",
       "      <td>NaN</td>\n",
       "      <td>NaN</td>\n",
       "      <td>NaN</td>\n",
       "      <td>NaN</td>\n",
       "      <td>NaN</td>\n",
       "      <td>NaN</td>\n",
       "      <td>NaN</td>\n",
       "      <td>NaN</td>\n",
       "      <td>NaN</td>\n",
       "      <td>NaN</td>\n",
       "      <td>NaN</td>\n",
       "      <td>NaN</td>\n",
       "      <td>NaN</td>\n",
       "      <td>NaN</td>\n",
       "      <td>NaN</td>\n",
       "      <td>NaN</td>\n",
       "      <td>NaN</td>\n",
       "      <td>NaN</td>\n",
       "      <td>NaN</td>\n",
       "      <td>NaN</td>\n",
       "      <td>NaN</td>\n",
       "      <td>NaN</td>\n",
       "      <td>NaN</td>\n",
       "      <td>NaN</td>\n",
       "      <td>False</td>\n",
       "    </tr>\n",
       "    <tr>\n",
       "      <td>2</td>\n",
       "      <td>Carnitas</td>\n",
       "      <td>2016-01-24</td>\n",
       "      <td>NaN</td>\n",
       "      <td>NaN</td>\n",
       "      <td>NaN</td>\n",
       "      <td>4.85</td>\n",
       "      <td>1.5</td>\n",
       "      <td>NaN</td>\n",
       "      <td>NaN</td>\n",
       "      <td>NaN</td>\n",
       "      <td>NaN</td>\n",
       "      <td>NaN</td>\n",
       "      <td>3.0</td>\n",
       "      <td>2.0</td>\n",
       "      <td>2.5</td>\n",
       "      <td>3.0</td>\n",
       "      <td>4.5</td>\n",
       "      <td>4.0</td>\n",
       "      <td>3.0</td>\n",
       "      <td>3.0</td>\n",
       "      <td>5.0</td>\n",
       "      <td>NaN</td>\n",
       "      <td>NaN</td>\n",
       "      <td>NaN</td>\n",
       "      <td>x</td>\n",
       "      <td>x</td>\n",
       "      <td>NaN</td>\n",
       "      <td>NaN</td>\n",
       "      <td>NaN</td>\n",
       "      <td>x</td>\n",
       "      <td>NaN</td>\n",
       "      <td>NaN</td>\n",
       "      <td>NaN</td>\n",
       "      <td>NaN</td>\n",
       "      <td>NaN</td>\n",
       "      <td>NaN</td>\n",
       "      <td>NaN</td>\n",
       "      <td>NaN</td>\n",
       "      <td>NaN</td>\n",
       "      <td>NaN</td>\n",
       "      <td>NaN</td>\n",
       "      <td>NaN</td>\n",
       "      <td>NaN</td>\n",
       "      <td>NaN</td>\n",
       "      <td>NaN</td>\n",
       "      <td>NaN</td>\n",
       "      <td>NaN</td>\n",
       "      <td>NaN</td>\n",
       "      <td>NaN</td>\n",
       "      <td>NaN</td>\n",
       "      <td>NaN</td>\n",
       "      <td>NaN</td>\n",
       "      <td>NaN</td>\n",
       "      <td>NaN</td>\n",
       "      <td>NaN</td>\n",
       "      <td>NaN</td>\n",
       "      <td>NaN</td>\n",
       "      <td>NaN</td>\n",
       "      <td>False</td>\n",
       "    </tr>\n",
       "    <tr>\n",
       "      <td>3</td>\n",
       "      <td>Asada</td>\n",
       "      <td>2016-01-24</td>\n",
       "      <td>NaN</td>\n",
       "      <td>NaN</td>\n",
       "      <td>NaN</td>\n",
       "      <td>5.25</td>\n",
       "      <td>2.0</td>\n",
       "      <td>NaN</td>\n",
       "      <td>NaN</td>\n",
       "      <td>NaN</td>\n",
       "      <td>NaN</td>\n",
       "      <td>NaN</td>\n",
       "      <td>3.0</td>\n",
       "      <td>2.0</td>\n",
       "      <td>3.5</td>\n",
       "      <td>3.0</td>\n",
       "      <td>4.0</td>\n",
       "      <td>5.0</td>\n",
       "      <td>4.0</td>\n",
       "      <td>4.0</td>\n",
       "      <td>5.0</td>\n",
       "      <td>NaN</td>\n",
       "      <td>NaN</td>\n",
       "      <td>x</td>\n",
       "      <td>x</td>\n",
       "      <td>x</td>\n",
       "      <td>NaN</td>\n",
       "      <td>NaN</td>\n",
       "      <td>NaN</td>\n",
       "      <td>NaN</td>\n",
       "      <td>NaN</td>\n",
       "      <td>NaN</td>\n",
       "      <td>NaN</td>\n",
       "      <td>NaN</td>\n",
       "      <td>NaN</td>\n",
       "      <td>NaN</td>\n",
       "      <td>NaN</td>\n",
       "      <td>NaN</td>\n",
       "      <td>NaN</td>\n",
       "      <td>NaN</td>\n",
       "      <td>NaN</td>\n",
       "      <td>NaN</td>\n",
       "      <td>NaN</td>\n",
       "      <td>NaN</td>\n",
       "      <td>NaN</td>\n",
       "      <td>NaN</td>\n",
       "      <td>NaN</td>\n",
       "      <td>NaN</td>\n",
       "      <td>NaN</td>\n",
       "      <td>NaN</td>\n",
       "      <td>NaN</td>\n",
       "      <td>NaN</td>\n",
       "      <td>NaN</td>\n",
       "      <td>NaN</td>\n",
       "      <td>NaN</td>\n",
       "      <td>NaN</td>\n",
       "      <td>NaN</td>\n",
       "      <td>NaN</td>\n",
       "      <td>False</td>\n",
       "    </tr>\n",
       "    <tr>\n",
       "      <td>4</td>\n",
       "      <td>California</td>\n",
       "      <td>2016-01-27</td>\n",
       "      <td>4.0</td>\n",
       "      <td>3.8</td>\n",
       "      <td>x</td>\n",
       "      <td>6.59</td>\n",
       "      <td>4.0</td>\n",
       "      <td>NaN</td>\n",
       "      <td>NaN</td>\n",
       "      <td>NaN</td>\n",
       "      <td>NaN</td>\n",
       "      <td>NaN</td>\n",
       "      <td>4.0</td>\n",
       "      <td>5.0</td>\n",
       "      <td>4.0</td>\n",
       "      <td>3.5</td>\n",
       "      <td>4.5</td>\n",
       "      <td>5.0</td>\n",
       "      <td>2.5</td>\n",
       "      <td>4.5</td>\n",
       "      <td>4.0</td>\n",
       "      <td>NaN</td>\n",
       "      <td>NaN</td>\n",
       "      <td>x</td>\n",
       "      <td>x</td>\n",
       "      <td>NaN</td>\n",
       "      <td>x</td>\n",
       "      <td>x</td>\n",
       "      <td>NaN</td>\n",
       "      <td>NaN</td>\n",
       "      <td>NaN</td>\n",
       "      <td>NaN</td>\n",
       "      <td>NaN</td>\n",
       "      <td>NaN</td>\n",
       "      <td>NaN</td>\n",
       "      <td>NaN</td>\n",
       "      <td>NaN</td>\n",
       "      <td>NaN</td>\n",
       "      <td>NaN</td>\n",
       "      <td>NaN</td>\n",
       "      <td>NaN</td>\n",
       "      <td>NaN</td>\n",
       "      <td>NaN</td>\n",
       "      <td>NaN</td>\n",
       "      <td>NaN</td>\n",
       "      <td>NaN</td>\n",
       "      <td>NaN</td>\n",
       "      <td>NaN</td>\n",
       "      <td>NaN</td>\n",
       "      <td>NaN</td>\n",
       "      <td>NaN</td>\n",
       "      <td>NaN</td>\n",
       "      <td>NaN</td>\n",
       "      <td>NaN</td>\n",
       "      <td>NaN</td>\n",
       "      <td>NaN</td>\n",
       "      <td>NaN</td>\n",
       "      <td>NaN</td>\n",
       "      <td>True</td>\n",
       "    </tr>\n",
       "    <tr>\n",
       "      <td>...</td>\n",
       "      <td>...</td>\n",
       "      <td>...</td>\n",
       "      <td>...</td>\n",
       "      <td>...</td>\n",
       "      <td>...</td>\n",
       "      <td>...</td>\n",
       "      <td>...</td>\n",
       "      <td>...</td>\n",
       "      <td>...</td>\n",
       "      <td>...</td>\n",
       "      <td>...</td>\n",
       "      <td>...</td>\n",
       "      <td>...</td>\n",
       "      <td>...</td>\n",
       "      <td>...</td>\n",
       "      <td>...</td>\n",
       "      <td>...</td>\n",
       "      <td>...</td>\n",
       "      <td>...</td>\n",
       "      <td>...</td>\n",
       "      <td>...</td>\n",
       "      <td>...</td>\n",
       "      <td>...</td>\n",
       "      <td>...</td>\n",
       "      <td>...</td>\n",
       "      <td>...</td>\n",
       "      <td>...</td>\n",
       "      <td>...</td>\n",
       "      <td>...</td>\n",
       "      <td>...</td>\n",
       "      <td>...</td>\n",
       "      <td>...</td>\n",
       "      <td>...</td>\n",
       "      <td>...</td>\n",
       "      <td>...</td>\n",
       "      <td>...</td>\n",
       "      <td>...</td>\n",
       "      <td>...</td>\n",
       "      <td>...</td>\n",
       "      <td>...</td>\n",
       "      <td>...</td>\n",
       "      <td>...</td>\n",
       "      <td>...</td>\n",
       "      <td>...</td>\n",
       "      <td>...</td>\n",
       "      <td>...</td>\n",
       "      <td>...</td>\n",
       "      <td>...</td>\n",
       "      <td>...</td>\n",
       "      <td>...</td>\n",
       "      <td>...</td>\n",
       "      <td>...</td>\n",
       "      <td>...</td>\n",
       "      <td>...</td>\n",
       "      <td>...</td>\n",
       "      <td>...</td>\n",
       "      <td>...</td>\n",
       "      <td>...</td>\n",
       "      <td>...</td>\n",
       "    </tr>\n",
       "    <tr>\n",
       "      <td>418</td>\n",
       "      <td>Other</td>\n",
       "      <td>2019-08-27</td>\n",
       "      <td>NaN</td>\n",
       "      <td>NaN</td>\n",
       "      <td>NaN</td>\n",
       "      <td>6.00</td>\n",
       "      <td>1.0</td>\n",
       "      <td>NaN</td>\n",
       "      <td>NaN</td>\n",
       "      <td>17.0</td>\n",
       "      <td>20.5</td>\n",
       "      <td>0.57</td>\n",
       "      <td>5.0</td>\n",
       "      <td>4.0</td>\n",
       "      <td>3.5</td>\n",
       "      <td>NaN</td>\n",
       "      <td>4.0</td>\n",
       "      <td>4.0</td>\n",
       "      <td>2.0</td>\n",
       "      <td>2.0</td>\n",
       "      <td>5.0</td>\n",
       "      <td>NaN</td>\n",
       "      <td>NaN</td>\n",
       "      <td>NaN</td>\n",
       "      <td>NaN</td>\n",
       "      <td>NaN</td>\n",
       "      <td>NaN</td>\n",
       "      <td>NaN</td>\n",
       "      <td>NaN</td>\n",
       "      <td>NaN</td>\n",
       "      <td>NaN</td>\n",
       "      <td>NaN</td>\n",
       "      <td>NaN</td>\n",
       "      <td>NaN</td>\n",
       "      <td>NaN</td>\n",
       "      <td>NaN</td>\n",
       "      <td>NaN</td>\n",
       "      <td>NaN</td>\n",
       "      <td>NaN</td>\n",
       "      <td>NaN</td>\n",
       "      <td>NaN</td>\n",
       "      <td>NaN</td>\n",
       "      <td>NaN</td>\n",
       "      <td>NaN</td>\n",
       "      <td>NaN</td>\n",
       "      <td>NaN</td>\n",
       "      <td>NaN</td>\n",
       "      <td>NaN</td>\n",
       "      <td>NaN</td>\n",
       "      <td>NaN</td>\n",
       "      <td>NaN</td>\n",
       "      <td>NaN</td>\n",
       "      <td>NaN</td>\n",
       "      <td>NaN</td>\n",
       "      <td>NaN</td>\n",
       "      <td>NaN</td>\n",
       "      <td>NaN</td>\n",
       "      <td>NaN</td>\n",
       "      <td>False</td>\n",
       "    </tr>\n",
       "    <tr>\n",
       "      <td>419</td>\n",
       "      <td>Other</td>\n",
       "      <td>2019-08-27</td>\n",
       "      <td>NaN</td>\n",
       "      <td>NaN</td>\n",
       "      <td>NaN</td>\n",
       "      <td>6.00</td>\n",
       "      <td>4.0</td>\n",
       "      <td>NaN</td>\n",
       "      <td>NaN</td>\n",
       "      <td>19.0</td>\n",
       "      <td>26.0</td>\n",
       "      <td>1.02</td>\n",
       "      <td>4.0</td>\n",
       "      <td>5.0</td>\n",
       "      <td>NaN</td>\n",
       "      <td>3.5</td>\n",
       "      <td>4.0</td>\n",
       "      <td>4.0</td>\n",
       "      <td>5.0</td>\n",
       "      <td>4.0</td>\n",
       "      <td>3.0</td>\n",
       "      <td>NaN</td>\n",
       "      <td>NaN</td>\n",
       "      <td>NaN</td>\n",
       "      <td>NaN</td>\n",
       "      <td>NaN</td>\n",
       "      <td>NaN</td>\n",
       "      <td>NaN</td>\n",
       "      <td>NaN</td>\n",
       "      <td>NaN</td>\n",
       "      <td>NaN</td>\n",
       "      <td>NaN</td>\n",
       "      <td>NaN</td>\n",
       "      <td>NaN</td>\n",
       "      <td>NaN</td>\n",
       "      <td>NaN</td>\n",
       "      <td>NaN</td>\n",
       "      <td>NaN</td>\n",
       "      <td>NaN</td>\n",
       "      <td>NaN</td>\n",
       "      <td>NaN</td>\n",
       "      <td>NaN</td>\n",
       "      <td>NaN</td>\n",
       "      <td>NaN</td>\n",
       "      <td>NaN</td>\n",
       "      <td>NaN</td>\n",
       "      <td>NaN</td>\n",
       "      <td>NaN</td>\n",
       "      <td>NaN</td>\n",
       "      <td>NaN</td>\n",
       "      <td>NaN</td>\n",
       "      <td>NaN</td>\n",
       "      <td>NaN</td>\n",
       "      <td>NaN</td>\n",
       "      <td>NaN</td>\n",
       "      <td>NaN</td>\n",
       "      <td>NaN</td>\n",
       "      <td>NaN</td>\n",
       "      <td>True</td>\n",
       "    </tr>\n",
       "    <tr>\n",
       "      <td>420</td>\n",
       "      <td>California</td>\n",
       "      <td>2019-08-27</td>\n",
       "      <td>NaN</td>\n",
       "      <td>NaN</td>\n",
       "      <td>NaN</td>\n",
       "      <td>7.90</td>\n",
       "      <td>3.0</td>\n",
       "      <td>NaN</td>\n",
       "      <td>NaN</td>\n",
       "      <td>20.0</td>\n",
       "      <td>22.0</td>\n",
       "      <td>0.77</td>\n",
       "      <td>4.0</td>\n",
       "      <td>4.0</td>\n",
       "      <td>4.0</td>\n",
       "      <td>3.7</td>\n",
       "      <td>3.0</td>\n",
       "      <td>2.0</td>\n",
       "      <td>3.5</td>\n",
       "      <td>4.0</td>\n",
       "      <td>4.5</td>\n",
       "      <td>NaN</td>\n",
       "      <td>NaN</td>\n",
       "      <td>NaN</td>\n",
       "      <td>NaN</td>\n",
       "      <td>NaN</td>\n",
       "      <td>NaN</td>\n",
       "      <td>NaN</td>\n",
       "      <td>NaN</td>\n",
       "      <td>NaN</td>\n",
       "      <td>NaN</td>\n",
       "      <td>NaN</td>\n",
       "      <td>NaN</td>\n",
       "      <td>NaN</td>\n",
       "      <td>NaN</td>\n",
       "      <td>NaN</td>\n",
       "      <td>NaN</td>\n",
       "      <td>NaN</td>\n",
       "      <td>NaN</td>\n",
       "      <td>NaN</td>\n",
       "      <td>NaN</td>\n",
       "      <td>NaN</td>\n",
       "      <td>NaN</td>\n",
       "      <td>NaN</td>\n",
       "      <td>NaN</td>\n",
       "      <td>NaN</td>\n",
       "      <td>NaN</td>\n",
       "      <td>NaN</td>\n",
       "      <td>NaN</td>\n",
       "      <td>NaN</td>\n",
       "      <td>NaN</td>\n",
       "      <td>NaN</td>\n",
       "      <td>NaN</td>\n",
       "      <td>NaN</td>\n",
       "      <td>NaN</td>\n",
       "      <td>NaN</td>\n",
       "      <td>NaN</td>\n",
       "      <td>NaN</td>\n",
       "      <td>False</td>\n",
       "    </tr>\n",
       "    <tr>\n",
       "      <td>421</td>\n",
       "      <td>Other</td>\n",
       "      <td>2019-08-27</td>\n",
       "      <td>NaN</td>\n",
       "      <td>NaN</td>\n",
       "      <td>NaN</td>\n",
       "      <td>7.90</td>\n",
       "      <td>3.0</td>\n",
       "      <td>NaN</td>\n",
       "      <td>NaN</td>\n",
       "      <td>22.5</td>\n",
       "      <td>24.5</td>\n",
       "      <td>1.07</td>\n",
       "      <td>5.0</td>\n",
       "      <td>2.0</td>\n",
       "      <td>5.0</td>\n",
       "      <td>5.0</td>\n",
       "      <td>5.0</td>\n",
       "      <td>2.0</td>\n",
       "      <td>5.0</td>\n",
       "      <td>5.0</td>\n",
       "      <td>2.0</td>\n",
       "      <td>NaN</td>\n",
       "      <td>NaN</td>\n",
       "      <td>NaN</td>\n",
       "      <td>NaN</td>\n",
       "      <td>NaN</td>\n",
       "      <td>NaN</td>\n",
       "      <td>NaN</td>\n",
       "      <td>NaN</td>\n",
       "      <td>NaN</td>\n",
       "      <td>NaN</td>\n",
       "      <td>NaN</td>\n",
       "      <td>NaN</td>\n",
       "      <td>NaN</td>\n",
       "      <td>NaN</td>\n",
       "      <td>NaN</td>\n",
       "      <td>NaN</td>\n",
       "      <td>NaN</td>\n",
       "      <td>NaN</td>\n",
       "      <td>NaN</td>\n",
       "      <td>NaN</td>\n",
       "      <td>NaN</td>\n",
       "      <td>NaN</td>\n",
       "      <td>NaN</td>\n",
       "      <td>NaN</td>\n",
       "      <td>NaN</td>\n",
       "      <td>NaN</td>\n",
       "      <td>NaN</td>\n",
       "      <td>NaN</td>\n",
       "      <td>NaN</td>\n",
       "      <td>NaN</td>\n",
       "      <td>NaN</td>\n",
       "      <td>NaN</td>\n",
       "      <td>NaN</td>\n",
       "      <td>NaN</td>\n",
       "      <td>NaN</td>\n",
       "      <td>NaN</td>\n",
       "      <td>NaN</td>\n",
       "      <td>True</td>\n",
       "    </tr>\n",
       "    <tr>\n",
       "      <td>422</td>\n",
       "      <td>Other</td>\n",
       "      <td>2019-08-27</td>\n",
       "      <td>NaN</td>\n",
       "      <td>NaN</td>\n",
       "      <td>NaN</td>\n",
       "      <td>5.50</td>\n",
       "      <td>3.5</td>\n",
       "      <td>NaN</td>\n",
       "      <td>NaN</td>\n",
       "      <td>17.0</td>\n",
       "      <td>21.3</td>\n",
       "      <td>0.61</td>\n",
       "      <td>3.0</td>\n",
       "      <td>5.0</td>\n",
       "      <td>4.3</td>\n",
       "      <td>4.0</td>\n",
       "      <td>4.9</td>\n",
       "      <td>3.8</td>\n",
       "      <td>3.0</td>\n",
       "      <td>4.5</td>\n",
       "      <td>4.0</td>\n",
       "      <td>NaN</td>\n",
       "      <td>NaN</td>\n",
       "      <td>NaN</td>\n",
       "      <td>NaN</td>\n",
       "      <td>NaN</td>\n",
       "      <td>NaN</td>\n",
       "      <td>NaN</td>\n",
       "      <td>NaN</td>\n",
       "      <td>NaN</td>\n",
       "      <td>NaN</td>\n",
       "      <td>NaN</td>\n",
       "      <td>NaN</td>\n",
       "      <td>NaN</td>\n",
       "      <td>NaN</td>\n",
       "      <td>NaN</td>\n",
       "      <td>NaN</td>\n",
       "      <td>NaN</td>\n",
       "      <td>NaN</td>\n",
       "      <td>NaN</td>\n",
       "      <td>NaN</td>\n",
       "      <td>NaN</td>\n",
       "      <td>NaN</td>\n",
       "      <td>NaN</td>\n",
       "      <td>NaN</td>\n",
       "      <td>NaN</td>\n",
       "      <td>NaN</td>\n",
       "      <td>NaN</td>\n",
       "      <td>NaN</td>\n",
       "      <td>NaN</td>\n",
       "      <td>NaN</td>\n",
       "      <td>NaN</td>\n",
       "      <td>NaN</td>\n",
       "      <td>NaN</td>\n",
       "      <td>NaN</td>\n",
       "      <td>NaN</td>\n",
       "      <td>NaN</td>\n",
       "      <td>NaN</td>\n",
       "      <td>True</td>\n",
       "    </tr>\n",
       "  </tbody>\n",
       "</table>\n",
       "<p>421 rows × 59 columns</p>\n",
       "</div>"
      ],
      "text/plain": [
       "        Burrito       Date  Yelp  Google Chips  Cost  Hunger  Mass (g)  \\\n",
       "0    California 2016-01-18   3.5     4.2   NaN  6.49     3.0       NaN   \n",
       "1    California 2016-01-24   3.5     3.3   NaN  5.45     3.5       NaN   \n",
       "2      Carnitas 2016-01-24   NaN     NaN   NaN  4.85     1.5       NaN   \n",
       "3         Asada 2016-01-24   NaN     NaN   NaN  5.25     2.0       NaN   \n",
       "4    California 2016-01-27   4.0     3.8     x  6.59     4.0       NaN   \n",
       "..          ...        ...   ...     ...   ...   ...     ...       ...   \n",
       "418       Other 2019-08-27   NaN     NaN   NaN  6.00     1.0       NaN   \n",
       "419       Other 2019-08-27   NaN     NaN   NaN  6.00     4.0       NaN   \n",
       "420  California 2019-08-27   NaN     NaN   NaN  7.90     3.0       NaN   \n",
       "421       Other 2019-08-27   NaN     NaN   NaN  7.90     3.0       NaN   \n",
       "422       Other 2019-08-27   NaN     NaN   NaN  5.50     3.5       NaN   \n",
       "\n",
       "     Density (g/mL)  Length  Circum  Volume  Tortilla  Temp  Meat  Fillings  \\\n",
       "0               NaN     NaN     NaN     NaN       3.0   5.0   3.0       3.5   \n",
       "1               NaN     NaN     NaN     NaN       2.0   3.5   2.5       2.5   \n",
       "2               NaN     NaN     NaN     NaN       3.0   2.0   2.5       3.0   \n",
       "3               NaN     NaN     NaN     NaN       3.0   2.0   3.5       3.0   \n",
       "4               NaN     NaN     NaN     NaN       4.0   5.0   4.0       3.5   \n",
       "..              ...     ...     ...     ...       ...   ...   ...       ...   \n",
       "418             NaN    17.0    20.5    0.57       5.0   4.0   3.5       NaN   \n",
       "419             NaN    19.0    26.0    1.02       4.0   5.0   NaN       3.5   \n",
       "420             NaN    20.0    22.0    0.77       4.0   4.0   4.0       3.7   \n",
       "421             NaN    22.5    24.5    1.07       5.0   2.0   5.0       5.0   \n",
       "422             NaN    17.0    21.3    0.61       3.0   5.0   4.3       4.0   \n",
       "\n",
       "     Meat:filling  Uniformity  Salsa  Synergy  Wrap Unreliable NonSD Beef  \\\n",
       "0             4.0         4.0    4.0      4.0   4.0        NaN   NaN    x   \n",
       "1             2.0         4.0    3.5      2.5   5.0        NaN   NaN    x   \n",
       "2             4.5         4.0    3.0      3.0   5.0        NaN   NaN  NaN   \n",
       "3             4.0         5.0    4.0      4.0   5.0        NaN   NaN    x   \n",
       "4             4.5         5.0    2.5      4.5   4.0        NaN   NaN    x   \n",
       "..            ...         ...    ...      ...   ...        ...   ...  ...   \n",
       "418           4.0         4.0    2.0      2.0   5.0        NaN   NaN  NaN   \n",
       "419           4.0         4.0    5.0      4.0   3.0        NaN   NaN  NaN   \n",
       "420           3.0         2.0    3.5      4.0   4.5        NaN   NaN  NaN   \n",
       "421           5.0         2.0    5.0      5.0   2.0        NaN   NaN  NaN   \n",
       "422           4.9         3.8    3.0      4.5   4.0        NaN   NaN  NaN   \n",
       "\n",
       "    Pico Guac Cheese Fries Sour cream Pork Chicken Shrimp Fish Rice Beans  \\\n",
       "0      x    x      x     x        NaN  NaN     NaN    NaN  NaN  NaN   NaN   \n",
       "1      x    x      x     x        NaN  NaN     NaN    NaN  NaN  NaN   NaN   \n",
       "2      x    x    NaN   NaN        NaN    x     NaN    NaN  NaN  NaN   NaN   \n",
       "3      x    x    NaN   NaN        NaN  NaN     NaN    NaN  NaN  NaN   NaN   \n",
       "4      x  NaN      x     x        NaN  NaN     NaN    NaN  NaN  NaN   NaN   \n",
       "..   ...  ...    ...   ...        ...  ...     ...    ...  ...  ...   ...   \n",
       "418  NaN  NaN    NaN   NaN        NaN  NaN     NaN    NaN  NaN  NaN   NaN   \n",
       "419  NaN  NaN    NaN   NaN        NaN  NaN     NaN    NaN  NaN  NaN   NaN   \n",
       "420  NaN  NaN    NaN   NaN        NaN  NaN     NaN    NaN  NaN  NaN   NaN   \n",
       "421  NaN  NaN    NaN   NaN        NaN  NaN     NaN    NaN  NaN  NaN   NaN   \n",
       "422  NaN  NaN    NaN   NaN        NaN  NaN     NaN    NaN  NaN  NaN   NaN   \n",
       "\n",
       "    Lettuce Tomato Bell peper Carrots Cabbage Sauce Salsa.1 Cilantro Onion  \\\n",
       "0       NaN    NaN        NaN     NaN     NaN   NaN     NaN      NaN   NaN   \n",
       "1       NaN    NaN        NaN     NaN     NaN   NaN     NaN      NaN   NaN   \n",
       "2       NaN    NaN        NaN     NaN     NaN   NaN     NaN      NaN   NaN   \n",
       "3       NaN    NaN        NaN     NaN     NaN   NaN     NaN      NaN   NaN   \n",
       "4       NaN    NaN        NaN     NaN     NaN   NaN     NaN      NaN   NaN   \n",
       "..      ...    ...        ...     ...     ...   ...     ...      ...   ...   \n",
       "418     NaN    NaN        NaN     NaN     NaN   NaN     NaN      NaN   NaN   \n",
       "419     NaN    NaN        NaN     NaN     NaN   NaN     NaN      NaN   NaN   \n",
       "420     NaN    NaN        NaN     NaN     NaN   NaN     NaN      NaN   NaN   \n",
       "421     NaN    NaN        NaN     NaN     NaN   NaN     NaN      NaN   NaN   \n",
       "422     NaN    NaN        NaN     NaN     NaN   NaN     NaN      NaN   NaN   \n",
       "\n",
       "    Taquito Pineapple  Ham Chile relleno Nopales Lobster  Queso  Egg Mushroom  \\\n",
       "0       NaN       NaN  NaN           NaN     NaN     NaN    NaN  NaN      NaN   \n",
       "1       NaN       NaN  NaN           NaN     NaN     NaN    NaN  NaN      NaN   \n",
       "2       NaN       NaN  NaN           NaN     NaN     NaN    NaN  NaN      NaN   \n",
       "3       NaN       NaN  NaN           NaN     NaN     NaN    NaN  NaN      NaN   \n",
       "4       NaN       NaN  NaN           NaN     NaN     NaN    NaN  NaN      NaN   \n",
       "..      ...       ...  ...           ...     ...     ...    ...  ...      ...   \n",
       "418     NaN       NaN  NaN           NaN     NaN     NaN    NaN  NaN      NaN   \n",
       "419     NaN       NaN  NaN           NaN     NaN     NaN    NaN  NaN      NaN   \n",
       "420     NaN       NaN  NaN           NaN     NaN     NaN    NaN  NaN      NaN   \n",
       "421     NaN       NaN  NaN           NaN     NaN     NaN    NaN  NaN      NaN   \n",
       "422     NaN       NaN  NaN           NaN     NaN     NaN    NaN  NaN      NaN   \n",
       "\n",
       "    Bacon Sushi Avocado Corn Zucchini  Great  \n",
       "0     NaN   NaN     NaN  NaN      NaN  False  \n",
       "1     NaN   NaN     NaN  NaN      NaN  False  \n",
       "2     NaN   NaN     NaN  NaN      NaN  False  \n",
       "3     NaN   NaN     NaN  NaN      NaN  False  \n",
       "4     NaN   NaN     NaN  NaN      NaN   True  \n",
       "..    ...   ...     ...  ...      ...    ...  \n",
       "418   NaN   NaN     NaN  NaN      NaN  False  \n",
       "419   NaN   NaN     NaN  NaN      NaN   True  \n",
       "420   NaN   NaN     NaN  NaN      NaN  False  \n",
       "421   NaN   NaN     NaN  NaN      NaN   True  \n",
       "422   NaN   NaN     NaN  NaN      NaN   True  \n",
       "\n",
       "[421 rows x 59 columns]"
      ]
     },
     "metadata": {},
     "output_type": "display_data"
    }
   ],
   "source": [
    "from IPython.display import display\n",
    "display(df.columns)\n",
    "display(df)"
   ]
  },
  {
   "cell_type": "code",
   "execution_count": 53,
   "metadata": {},
   "outputs": [
    {
     "data": {
      "text/plain": [
       "((421, 59), (298, 59), (85, 59), (38, 59))"
      ]
     },
     "execution_count": 53,
     "metadata": {},
     "output_type": "execute_result"
    }
   ],
   "source": [
    "train = df[df['Date'].apply(lambda x : x.year < 2017)]\n",
    "val = df[df['Date'].apply(lambda x : x.year == 2017)]\n",
    "test = df[df['Date'].apply(lambda x : x.year > 2017)]\n",
    "df.shape, train.shape, val.shape, test.shape"
   ]
  },
  {
   "cell_type": "code",
   "execution_count": 59,
   "metadata": {},
   "outputs": [
    {
     "data": {
      "text/plain": [
       "California     118\n",
       "Other          110\n",
       "Asada           35\n",
       "Surf & Turf     21\n",
       "Carnitas        14\n",
       "Name: Burrito, dtype: int64"
      ]
     },
     "metadata": {},
     "output_type": "display_data"
    },
    {
     "data": {
      "text/plain": [
       "2016-08-30    29\n",
       "2016-06-24     9\n",
       "2016-05-13     7\n",
       "2016-05-06     7\n",
       "2016-04-15     7\n",
       "              ..\n",
       "2016-10-07     1\n",
       "2016-09-26     1\n",
       "2016-11-14     1\n",
       "2016-09-13     1\n",
       "2016-12-15     1\n",
       "Name: Date, Length: 110, dtype: int64"
      ]
     },
     "metadata": {},
     "output_type": "display_data"
    },
    {
     "data": {
      "text/plain": [
       "False    276\n",
       "True      22\n",
       "Name: Chips, dtype: int64"
      ]
     },
     "metadata": {},
     "output_type": "display_data"
    },
    {
     "data": {
      "text/plain": [
       "False    271\n",
       "True      27\n",
       "Name: Unreliable, dtype: int64"
      ]
     },
     "metadata": {},
     "output_type": "display_data"
    },
    {
     "data": {
      "text/plain": [
       "False    293\n",
       "True       5\n",
       "Name: NonSD, dtype: int64"
      ]
     },
     "metadata": {},
     "output_type": "display_data"
    },
    {
     "data": {
      "text/plain": [
       "True     168\n",
       "False    130\n",
       "Name: Beef, dtype: int64"
      ]
     },
     "metadata": {},
     "output_type": "display_data"
    },
    {
     "data": {
      "text/plain": [
       "False    155\n",
       "True     143\n",
       "Name: Pico, dtype: int64"
      ]
     },
     "metadata": {},
     "output_type": "display_data"
    },
    {
     "data": {
      "text/plain": [
       "False    159\n",
       "True     139\n",
       "Name: Guac, dtype: int64"
      ]
     },
     "metadata": {},
     "output_type": "display_data"
    },
    {
     "data": {
      "text/plain": [
       "True     149\n",
       "False    149\n",
       "Name: Cheese, dtype: int64"
      ]
     },
     "metadata": {},
     "output_type": "display_data"
    },
    {
     "data": {
      "text/plain": [
       "False    179\n",
       "True     119\n",
       "Name: Fries, dtype: int64"
      ]
     },
     "metadata": {},
     "output_type": "display_data"
    },
    {
     "data": {
      "text/plain": [
       "False    213\n",
       "True      85\n",
       "Name: Sour cream, dtype: int64"
      ]
     },
     "metadata": {},
     "output_type": "display_data"
    },
    {
     "data": {
      "text/plain": [
       "False    255\n",
       "True      43\n",
       "Name: Pork, dtype: int64"
      ]
     },
     "metadata": {},
     "output_type": "display_data"
    },
    {
     "data": {
      "text/plain": [
       "False    278\n",
       "True      20\n",
       "Name: Chicken, dtype: int64"
      ]
     },
     "metadata": {},
     "output_type": "display_data"
    },
    {
     "data": {
      "text/plain": [
       "False    278\n",
       "True      20\n",
       "Name: Shrimp, dtype: int64"
      ]
     },
     "metadata": {},
     "output_type": "display_data"
    },
    {
     "data": {
      "text/plain": [
       "False    293\n",
       "True       5\n",
       "Name: Fish, dtype: int64"
      ]
     },
     "metadata": {},
     "output_type": "display_data"
    },
    {
     "data": {
      "text/plain": [
       "False    265\n",
       "True      33\n",
       "Name: Rice, dtype: int64"
      ]
     },
     "metadata": {},
     "output_type": "display_data"
    },
    {
     "data": {
      "text/plain": [
       "False    266\n",
       "True      32\n",
       "Name: Beans, dtype: int64"
      ]
     },
     "metadata": {},
     "output_type": "display_data"
    },
    {
     "data": {
      "text/plain": [
       "False    287\n",
       "True      11\n",
       "Name: Lettuce, dtype: int64"
      ]
     },
     "metadata": {},
     "output_type": "display_data"
    },
    {
     "data": {
      "text/plain": [
       "False    291\n",
       "True       7\n",
       "Name: Tomato, dtype: int64"
      ]
     },
     "metadata": {},
     "output_type": "display_data"
    },
    {
     "data": {
      "text/plain": [
       "False    291\n",
       "True       7\n",
       "Name: Bell peper, dtype: int64"
      ]
     },
     "metadata": {},
     "output_type": "display_data"
    },
    {
     "data": {
      "text/plain": [
       "False    297\n",
       "True       1\n",
       "Name: Carrots, dtype: int64"
      ]
     },
     "metadata": {},
     "output_type": "display_data"
    },
    {
     "data": {
      "text/plain": [
       "False    291\n",
       "True       7\n",
       "Name: Cabbage, dtype: int64"
      ]
     },
     "metadata": {},
     "output_type": "display_data"
    },
    {
     "data": {
      "text/plain": [
       "False    261\n",
       "True      37\n",
       "Name: Sauce, dtype: int64"
      ]
     },
     "metadata": {},
     "output_type": "display_data"
    },
    {
     "data": {
      "text/plain": [
       "False    292\n",
       "True       6\n",
       "Name: Salsa.1, dtype: int64"
      ]
     },
     "metadata": {},
     "output_type": "display_data"
    },
    {
     "data": {
      "text/plain": [
       "False    283\n",
       "True      15\n",
       "Name: Cilantro, dtype: int64"
      ]
     },
     "metadata": {},
     "output_type": "display_data"
    },
    {
     "data": {
      "text/plain": [
       "False    281\n",
       "True      17\n",
       "Name: Onion, dtype: int64"
      ]
     },
     "metadata": {},
     "output_type": "display_data"
    },
    {
     "data": {
      "text/plain": [
       "False    294\n",
       "True       4\n",
       "Name: Taquito, dtype: int64"
      ]
     },
     "metadata": {},
     "output_type": "display_data"
    },
    {
     "data": {
      "text/plain": [
       "False    291\n",
       "True       7\n",
       "Name: Pineapple, dtype: int64"
      ]
     },
     "metadata": {},
     "output_type": "display_data"
    },
    {
     "data": {
      "text/plain": [
       "False    297\n",
       "True       1\n",
       "Name: Ham, dtype: int64"
      ]
     },
     "metadata": {},
     "output_type": "display_data"
    },
    {
     "data": {
      "text/plain": [
       "False    294\n",
       "True       4\n",
       "Name: Chile relleno, dtype: int64"
      ]
     },
     "metadata": {},
     "output_type": "display_data"
    },
    {
     "data": {
      "text/plain": [
       "False    294\n",
       "True       4\n",
       "Name: Nopales, dtype: int64"
      ]
     },
     "metadata": {},
     "output_type": "display_data"
    },
    {
     "data": {
      "text/plain": [
       "False    297\n",
       "True       1\n",
       "Name: Lobster, dtype: int64"
      ]
     },
     "metadata": {},
     "output_type": "display_data"
    },
    {
     "data": {
      "text/plain": [
       "False    294\n",
       "True       4\n",
       "Name: Egg, dtype: int64"
      ]
     },
     "metadata": {},
     "output_type": "display_data"
    },
    {
     "data": {
      "text/plain": [
       "False    295\n",
       "True       3\n",
       "Name: Mushroom, dtype: int64"
      ]
     },
     "metadata": {},
     "output_type": "display_data"
    },
    {
     "data": {
      "text/plain": [
       "False    295\n",
       "True       3\n",
       "Name: Bacon, dtype: int64"
      ]
     },
     "metadata": {},
     "output_type": "display_data"
    },
    {
     "data": {
      "text/plain": [
       "False    296\n",
       "True       2\n",
       "Name: Sushi, dtype: int64"
      ]
     },
     "metadata": {},
     "output_type": "display_data"
    },
    {
     "data": {
      "text/plain": [
       "False    285\n",
       "True      13\n",
       "Name: Avocado, dtype: int64"
      ]
     },
     "metadata": {},
     "output_type": "display_data"
    },
    {
     "data": {
      "text/plain": [
       "False    296\n",
       "True       2\n",
       "Name: Corn, dtype: int64"
      ]
     },
     "metadata": {},
     "output_type": "display_data"
    },
    {
     "data": {
      "text/plain": [
       "False    297\n",
       "True       1\n",
       "Name: Zucchini, dtype: int64"
      ]
     },
     "metadata": {},
     "output_type": "display_data"
    },
    {
     "data": {
      "text/plain": [
       "False    176\n",
       "True     122\n",
       "Name: Great, dtype: int64"
      ]
     },
     "metadata": {},
     "output_type": "display_data"
    }
   ],
   "source": [
    "for c in ['Burrito', 'Date', 'Chips', 'Unreliable', 'NonSD', 'Beef', 'Pico',\n",
    "          'Guac', 'Cheese', 'Fries', 'Sour cream', 'Pork', 'Chicken', 'Shrimp',\n",
    "          'Fish', 'Rice', 'Beans', 'Lettuce', 'Tomato', 'Bell peper', 'Carrots',\n",
    "          'Cabbage', 'Sauce', 'Salsa.1', 'Cilantro', 'Onion', 'Taquito',\n",
    "          'Pineapple', 'Ham', 'Chile relleno', 'Nopales', 'Lobster', 'Egg',\n",
    "          'Mushroom', 'Bacon', 'Sushi', 'Avocado', 'Corn', 'Zucchini', 'Great']:\n",
    "    display(train[c].value_counts(dropna=False))"
   ]
  },
  {
   "cell_type": "code",
   "execution_count": 58,
   "metadata": {},
   "outputs": [
    {
     "name": "stderr",
     "output_type": "stream",
     "text": [
      "C:\\ProgramData\\Anaconda3\\lib\\site-packages\\ipykernel_launcher.py:4: SettingWithCopyWarning: \n",
      "A value is trying to be set on a copy of a slice from a DataFrame.\n",
      "Try using .loc[row_indexer,col_indexer] = value instead\n",
      "\n",
      "See the caveats in the documentation: http://pandas.pydata.org/pandas-docs/stable/user_guide/indexing.html#returning-a-view-versus-a-copy\n",
      "  after removing the cwd from sys.path.\n"
     ]
    },
    {
     "data": {
      "text/html": [
       "<div>\n",
       "<style scoped>\n",
       "    .dataframe tbody tr th:only-of-type {\n",
       "        vertical-align: middle;\n",
       "    }\n",
       "\n",
       "    .dataframe tbody tr th {\n",
       "        vertical-align: top;\n",
       "    }\n",
       "\n",
       "    .dataframe thead th {\n",
       "        text-align: right;\n",
       "    }\n",
       "</style>\n",
       "<table border=\"1\" class=\"dataframe\">\n",
       "  <thead>\n",
       "    <tr style=\"text-align: right;\">\n",
       "      <th></th>\n",
       "      <th>Burrito</th>\n",
       "      <th>Date</th>\n",
       "      <th>Yelp</th>\n",
       "      <th>Google</th>\n",
       "      <th>Chips</th>\n",
       "      <th>Cost</th>\n",
       "      <th>Hunger</th>\n",
       "      <th>Mass (g)</th>\n",
       "      <th>Density (g/mL)</th>\n",
       "      <th>Length</th>\n",
       "      <th>Circum</th>\n",
       "      <th>Volume</th>\n",
       "      <th>Tortilla</th>\n",
       "      <th>Temp</th>\n",
       "      <th>Meat</th>\n",
       "      <th>Fillings</th>\n",
       "      <th>Meat:filling</th>\n",
       "      <th>Uniformity</th>\n",
       "      <th>Salsa</th>\n",
       "      <th>Synergy</th>\n",
       "      <th>Wrap</th>\n",
       "      <th>Unreliable</th>\n",
       "      <th>NonSD</th>\n",
       "      <th>Beef</th>\n",
       "      <th>Pico</th>\n",
       "      <th>Guac</th>\n",
       "      <th>Cheese</th>\n",
       "      <th>Fries</th>\n",
       "      <th>Sour cream</th>\n",
       "      <th>Pork</th>\n",
       "      <th>Chicken</th>\n",
       "      <th>Shrimp</th>\n",
       "      <th>Fish</th>\n",
       "      <th>Rice</th>\n",
       "      <th>Beans</th>\n",
       "      <th>Lettuce</th>\n",
       "      <th>Tomato</th>\n",
       "      <th>Bell peper</th>\n",
       "      <th>Carrots</th>\n",
       "      <th>Cabbage</th>\n",
       "      <th>Sauce</th>\n",
       "      <th>Salsa.1</th>\n",
       "      <th>Cilantro</th>\n",
       "      <th>Onion</th>\n",
       "      <th>Taquito</th>\n",
       "      <th>Pineapple</th>\n",
       "      <th>Ham</th>\n",
       "      <th>Chile relleno</th>\n",
       "      <th>Nopales</th>\n",
       "      <th>Lobster</th>\n",
       "      <th>Queso</th>\n",
       "      <th>Egg</th>\n",
       "      <th>Mushroom</th>\n",
       "      <th>Bacon</th>\n",
       "      <th>Sushi</th>\n",
       "      <th>Avocado</th>\n",
       "      <th>Corn</th>\n",
       "      <th>Zucchini</th>\n",
       "      <th>Great</th>\n",
       "    </tr>\n",
       "  </thead>\n",
       "  <tbody>\n",
       "    <tr>\n",
       "      <td>0</td>\n",
       "      <td>California</td>\n",
       "      <td>2016-01-18</td>\n",
       "      <td>3.5</td>\n",
       "      <td>4.2</td>\n",
       "      <td>False</td>\n",
       "      <td>6.49</td>\n",
       "      <td>3.0</td>\n",
       "      <td>NaN</td>\n",
       "      <td>NaN</td>\n",
       "      <td>NaN</td>\n",
       "      <td>NaN</td>\n",
       "      <td>NaN</td>\n",
       "      <td>3.0</td>\n",
       "      <td>5.0</td>\n",
       "      <td>3.0</td>\n",
       "      <td>3.5</td>\n",
       "      <td>4.0</td>\n",
       "      <td>4.0</td>\n",
       "      <td>4.0</td>\n",
       "      <td>4.0</td>\n",
       "      <td>4.0</td>\n",
       "      <td>False</td>\n",
       "      <td>False</td>\n",
       "      <td>True</td>\n",
       "      <td>True</td>\n",
       "      <td>True</td>\n",
       "      <td>True</td>\n",
       "      <td>True</td>\n",
       "      <td>False</td>\n",
       "      <td>False</td>\n",
       "      <td>False</td>\n",
       "      <td>False</td>\n",
       "      <td>False</td>\n",
       "      <td>False</td>\n",
       "      <td>False</td>\n",
       "      <td>False</td>\n",
       "      <td>False</td>\n",
       "      <td>False</td>\n",
       "      <td>False</td>\n",
       "      <td>False</td>\n",
       "      <td>False</td>\n",
       "      <td>False</td>\n",
       "      <td>False</td>\n",
       "      <td>False</td>\n",
       "      <td>False</td>\n",
       "      <td>False</td>\n",
       "      <td>False</td>\n",
       "      <td>False</td>\n",
       "      <td>False</td>\n",
       "      <td>False</td>\n",
       "      <td>NaN</td>\n",
       "      <td>False</td>\n",
       "      <td>False</td>\n",
       "      <td>False</td>\n",
       "      <td>False</td>\n",
       "      <td>False</td>\n",
       "      <td>False</td>\n",
       "      <td>False</td>\n",
       "      <td>False</td>\n",
       "    </tr>\n",
       "    <tr>\n",
       "      <td>1</td>\n",
       "      <td>California</td>\n",
       "      <td>2016-01-24</td>\n",
       "      <td>3.5</td>\n",
       "      <td>3.3</td>\n",
       "      <td>False</td>\n",
       "      <td>5.45</td>\n",
       "      <td>3.5</td>\n",
       "      <td>NaN</td>\n",
       "      <td>NaN</td>\n",
       "      <td>NaN</td>\n",
       "      <td>NaN</td>\n",
       "      <td>NaN</td>\n",
       "      <td>2.0</td>\n",
       "      <td>3.5</td>\n",
       "      <td>2.5</td>\n",
       "      <td>2.5</td>\n",
       "      <td>2.0</td>\n",
       "      <td>4.0</td>\n",
       "      <td>3.5</td>\n",
       "      <td>2.5</td>\n",
       "      <td>5.0</td>\n",
       "      <td>False</td>\n",
       "      <td>False</td>\n",
       "      <td>True</td>\n",
       "      <td>True</td>\n",
       "      <td>True</td>\n",
       "      <td>True</td>\n",
       "      <td>True</td>\n",
       "      <td>False</td>\n",
       "      <td>False</td>\n",
       "      <td>False</td>\n",
       "      <td>False</td>\n",
       "      <td>False</td>\n",
       "      <td>False</td>\n",
       "      <td>False</td>\n",
       "      <td>False</td>\n",
       "      <td>False</td>\n",
       "      <td>False</td>\n",
       "      <td>False</td>\n",
       "      <td>False</td>\n",
       "      <td>False</td>\n",
       "      <td>False</td>\n",
       "      <td>False</td>\n",
       "      <td>False</td>\n",
       "      <td>False</td>\n",
       "      <td>False</td>\n",
       "      <td>False</td>\n",
       "      <td>False</td>\n",
       "      <td>False</td>\n",
       "      <td>False</td>\n",
       "      <td>NaN</td>\n",
       "      <td>False</td>\n",
       "      <td>False</td>\n",
       "      <td>False</td>\n",
       "      <td>False</td>\n",
       "      <td>False</td>\n",
       "      <td>False</td>\n",
       "      <td>False</td>\n",
       "      <td>False</td>\n",
       "    </tr>\n",
       "    <tr>\n",
       "      <td>2</td>\n",
       "      <td>Carnitas</td>\n",
       "      <td>2016-01-24</td>\n",
       "      <td>NaN</td>\n",
       "      <td>NaN</td>\n",
       "      <td>False</td>\n",
       "      <td>4.85</td>\n",
       "      <td>1.5</td>\n",
       "      <td>NaN</td>\n",
       "      <td>NaN</td>\n",
       "      <td>NaN</td>\n",
       "      <td>NaN</td>\n",
       "      <td>NaN</td>\n",
       "      <td>3.0</td>\n",
       "      <td>2.0</td>\n",
       "      <td>2.5</td>\n",
       "      <td>3.0</td>\n",
       "      <td>4.5</td>\n",
       "      <td>4.0</td>\n",
       "      <td>3.0</td>\n",
       "      <td>3.0</td>\n",
       "      <td>5.0</td>\n",
       "      <td>False</td>\n",
       "      <td>False</td>\n",
       "      <td>False</td>\n",
       "      <td>True</td>\n",
       "      <td>True</td>\n",
       "      <td>False</td>\n",
       "      <td>False</td>\n",
       "      <td>False</td>\n",
       "      <td>True</td>\n",
       "      <td>False</td>\n",
       "      <td>False</td>\n",
       "      <td>False</td>\n",
       "      <td>False</td>\n",
       "      <td>False</td>\n",
       "      <td>False</td>\n",
       "      <td>False</td>\n",
       "      <td>False</td>\n",
       "      <td>False</td>\n",
       "      <td>False</td>\n",
       "      <td>False</td>\n",
       "      <td>False</td>\n",
       "      <td>False</td>\n",
       "      <td>False</td>\n",
       "      <td>False</td>\n",
       "      <td>False</td>\n",
       "      <td>False</td>\n",
       "      <td>False</td>\n",
       "      <td>False</td>\n",
       "      <td>False</td>\n",
       "      <td>NaN</td>\n",
       "      <td>False</td>\n",
       "      <td>False</td>\n",
       "      <td>False</td>\n",
       "      <td>False</td>\n",
       "      <td>False</td>\n",
       "      <td>False</td>\n",
       "      <td>False</td>\n",
       "      <td>False</td>\n",
       "    </tr>\n",
       "    <tr>\n",
       "      <td>3</td>\n",
       "      <td>Asada</td>\n",
       "      <td>2016-01-24</td>\n",
       "      <td>NaN</td>\n",
       "      <td>NaN</td>\n",
       "      <td>False</td>\n",
       "      <td>5.25</td>\n",
       "      <td>2.0</td>\n",
       "      <td>NaN</td>\n",
       "      <td>NaN</td>\n",
       "      <td>NaN</td>\n",
       "      <td>NaN</td>\n",
       "      <td>NaN</td>\n",
       "      <td>3.0</td>\n",
       "      <td>2.0</td>\n",
       "      <td>3.5</td>\n",
       "      <td>3.0</td>\n",
       "      <td>4.0</td>\n",
       "      <td>5.0</td>\n",
       "      <td>4.0</td>\n",
       "      <td>4.0</td>\n",
       "      <td>5.0</td>\n",
       "      <td>False</td>\n",
       "      <td>False</td>\n",
       "      <td>True</td>\n",
       "      <td>True</td>\n",
       "      <td>True</td>\n",
       "      <td>False</td>\n",
       "      <td>False</td>\n",
       "      <td>False</td>\n",
       "      <td>False</td>\n",
       "      <td>False</td>\n",
       "      <td>False</td>\n",
       "      <td>False</td>\n",
       "      <td>False</td>\n",
       "      <td>False</td>\n",
       "      <td>False</td>\n",
       "      <td>False</td>\n",
       "      <td>False</td>\n",
       "      <td>False</td>\n",
       "      <td>False</td>\n",
       "      <td>False</td>\n",
       "      <td>False</td>\n",
       "      <td>False</td>\n",
       "      <td>False</td>\n",
       "      <td>False</td>\n",
       "      <td>False</td>\n",
       "      <td>False</td>\n",
       "      <td>False</td>\n",
       "      <td>False</td>\n",
       "      <td>False</td>\n",
       "      <td>NaN</td>\n",
       "      <td>False</td>\n",
       "      <td>False</td>\n",
       "      <td>False</td>\n",
       "      <td>False</td>\n",
       "      <td>False</td>\n",
       "      <td>False</td>\n",
       "      <td>False</td>\n",
       "      <td>False</td>\n",
       "    </tr>\n",
       "    <tr>\n",
       "      <td>4</td>\n",
       "      <td>California</td>\n",
       "      <td>2016-01-27</td>\n",
       "      <td>4.0</td>\n",
       "      <td>3.8</td>\n",
       "      <td>True</td>\n",
       "      <td>6.59</td>\n",
       "      <td>4.0</td>\n",
       "      <td>NaN</td>\n",
       "      <td>NaN</td>\n",
       "      <td>NaN</td>\n",
       "      <td>NaN</td>\n",
       "      <td>NaN</td>\n",
       "      <td>4.0</td>\n",
       "      <td>5.0</td>\n",
       "      <td>4.0</td>\n",
       "      <td>3.5</td>\n",
       "      <td>4.5</td>\n",
       "      <td>5.0</td>\n",
       "      <td>2.5</td>\n",
       "      <td>4.5</td>\n",
       "      <td>4.0</td>\n",
       "      <td>False</td>\n",
       "      <td>False</td>\n",
       "      <td>True</td>\n",
       "      <td>True</td>\n",
       "      <td>False</td>\n",
       "      <td>True</td>\n",
       "      <td>True</td>\n",
       "      <td>False</td>\n",
       "      <td>False</td>\n",
       "      <td>False</td>\n",
       "      <td>False</td>\n",
       "      <td>False</td>\n",
       "      <td>False</td>\n",
       "      <td>False</td>\n",
       "      <td>False</td>\n",
       "      <td>False</td>\n",
       "      <td>False</td>\n",
       "      <td>False</td>\n",
       "      <td>False</td>\n",
       "      <td>False</td>\n",
       "      <td>False</td>\n",
       "      <td>False</td>\n",
       "      <td>False</td>\n",
       "      <td>False</td>\n",
       "      <td>False</td>\n",
       "      <td>False</td>\n",
       "      <td>False</td>\n",
       "      <td>False</td>\n",
       "      <td>False</td>\n",
       "      <td>NaN</td>\n",
       "      <td>False</td>\n",
       "      <td>False</td>\n",
       "      <td>False</td>\n",
       "      <td>False</td>\n",
       "      <td>False</td>\n",
       "      <td>False</td>\n",
       "      <td>False</td>\n",
       "      <td>True</td>\n",
       "    </tr>\n",
       "    <tr>\n",
       "      <td>...</td>\n",
       "      <td>...</td>\n",
       "      <td>...</td>\n",
       "      <td>...</td>\n",
       "      <td>...</td>\n",
       "      <td>...</td>\n",
       "      <td>...</td>\n",
       "      <td>...</td>\n",
       "      <td>...</td>\n",
       "      <td>...</td>\n",
       "      <td>...</td>\n",
       "      <td>...</td>\n",
       "      <td>...</td>\n",
       "      <td>...</td>\n",
       "      <td>...</td>\n",
       "      <td>...</td>\n",
       "      <td>...</td>\n",
       "      <td>...</td>\n",
       "      <td>...</td>\n",
       "      <td>...</td>\n",
       "      <td>...</td>\n",
       "      <td>...</td>\n",
       "      <td>...</td>\n",
       "      <td>...</td>\n",
       "      <td>...</td>\n",
       "      <td>...</td>\n",
       "      <td>...</td>\n",
       "      <td>...</td>\n",
       "      <td>...</td>\n",
       "      <td>...</td>\n",
       "      <td>...</td>\n",
       "      <td>...</td>\n",
       "      <td>...</td>\n",
       "      <td>...</td>\n",
       "      <td>...</td>\n",
       "      <td>...</td>\n",
       "      <td>...</td>\n",
       "      <td>...</td>\n",
       "      <td>...</td>\n",
       "      <td>...</td>\n",
       "      <td>...</td>\n",
       "      <td>...</td>\n",
       "      <td>...</td>\n",
       "      <td>...</td>\n",
       "      <td>...</td>\n",
       "      <td>...</td>\n",
       "      <td>...</td>\n",
       "      <td>...</td>\n",
       "      <td>...</td>\n",
       "      <td>...</td>\n",
       "      <td>...</td>\n",
       "      <td>...</td>\n",
       "      <td>...</td>\n",
       "      <td>...</td>\n",
       "      <td>...</td>\n",
       "      <td>...</td>\n",
       "      <td>...</td>\n",
       "      <td>...</td>\n",
       "      <td>...</td>\n",
       "      <td>...</td>\n",
       "    </tr>\n",
       "    <tr>\n",
       "      <td>296</td>\n",
       "      <td>California</td>\n",
       "      <td>2016-12-02</td>\n",
       "      <td>4.0</td>\n",
       "      <td>4.3</td>\n",
       "      <td>False</td>\n",
       "      <td>5.65</td>\n",
       "      <td>3.0</td>\n",
       "      <td>NaN</td>\n",
       "      <td>NaN</td>\n",
       "      <td>19.5</td>\n",
       "      <td>22.0</td>\n",
       "      <td>0.75</td>\n",
       "      <td>4.0</td>\n",
       "      <td>1.5</td>\n",
       "      <td>2.0</td>\n",
       "      <td>3.0</td>\n",
       "      <td>4.2</td>\n",
       "      <td>4.0</td>\n",
       "      <td>3.0</td>\n",
       "      <td>2.0</td>\n",
       "      <td>4.5</td>\n",
       "      <td>False</td>\n",
       "      <td>False</td>\n",
       "      <td>False</td>\n",
       "      <td>False</td>\n",
       "      <td>False</td>\n",
       "      <td>False</td>\n",
       "      <td>False</td>\n",
       "      <td>False</td>\n",
       "      <td>False</td>\n",
       "      <td>False</td>\n",
       "      <td>False</td>\n",
       "      <td>False</td>\n",
       "      <td>False</td>\n",
       "      <td>False</td>\n",
       "      <td>False</td>\n",
       "      <td>False</td>\n",
       "      <td>False</td>\n",
       "      <td>False</td>\n",
       "      <td>False</td>\n",
       "      <td>False</td>\n",
       "      <td>False</td>\n",
       "      <td>False</td>\n",
       "      <td>False</td>\n",
       "      <td>False</td>\n",
       "      <td>False</td>\n",
       "      <td>False</td>\n",
       "      <td>False</td>\n",
       "      <td>False</td>\n",
       "      <td>False</td>\n",
       "      <td>NaN</td>\n",
       "      <td>False</td>\n",
       "      <td>False</td>\n",
       "      <td>False</td>\n",
       "      <td>False</td>\n",
       "      <td>False</td>\n",
       "      <td>False</td>\n",
       "      <td>False</td>\n",
       "      <td>False</td>\n",
       "    </tr>\n",
       "    <tr>\n",
       "      <td>297</td>\n",
       "      <td>Other</td>\n",
       "      <td>2016-12-02</td>\n",
       "      <td>NaN</td>\n",
       "      <td>NaN</td>\n",
       "      <td>False</td>\n",
       "      <td>5.49</td>\n",
       "      <td>3.0</td>\n",
       "      <td>NaN</td>\n",
       "      <td>NaN</td>\n",
       "      <td>19.0</td>\n",
       "      <td>20.5</td>\n",
       "      <td>0.64</td>\n",
       "      <td>4.5</td>\n",
       "      <td>5.0</td>\n",
       "      <td>2.0</td>\n",
       "      <td>2.0</td>\n",
       "      <td>2.5</td>\n",
       "      <td>3.5</td>\n",
       "      <td>3.0</td>\n",
       "      <td>2.5</td>\n",
       "      <td>3.0</td>\n",
       "      <td>False</td>\n",
       "      <td>False</td>\n",
       "      <td>False</td>\n",
       "      <td>False</td>\n",
       "      <td>False</td>\n",
       "      <td>False</td>\n",
       "      <td>False</td>\n",
       "      <td>False</td>\n",
       "      <td>False</td>\n",
       "      <td>False</td>\n",
       "      <td>False</td>\n",
       "      <td>False</td>\n",
       "      <td>False</td>\n",
       "      <td>False</td>\n",
       "      <td>False</td>\n",
       "      <td>False</td>\n",
       "      <td>False</td>\n",
       "      <td>False</td>\n",
       "      <td>False</td>\n",
       "      <td>False</td>\n",
       "      <td>False</td>\n",
       "      <td>False</td>\n",
       "      <td>False</td>\n",
       "      <td>False</td>\n",
       "      <td>False</td>\n",
       "      <td>False</td>\n",
       "      <td>False</td>\n",
       "      <td>False</td>\n",
       "      <td>False</td>\n",
       "      <td>NaN</td>\n",
       "      <td>False</td>\n",
       "      <td>False</td>\n",
       "      <td>False</td>\n",
       "      <td>False</td>\n",
       "      <td>False</td>\n",
       "      <td>False</td>\n",
       "      <td>False</td>\n",
       "      <td>False</td>\n",
       "    </tr>\n",
       "    <tr>\n",
       "      <td>298</td>\n",
       "      <td>California</td>\n",
       "      <td>2016-12-10</td>\n",
       "      <td>3.5</td>\n",
       "      <td>3.7</td>\n",
       "      <td>False</td>\n",
       "      <td>7.75</td>\n",
       "      <td>4.0</td>\n",
       "      <td>NaN</td>\n",
       "      <td>NaN</td>\n",
       "      <td>20.0</td>\n",
       "      <td>21.0</td>\n",
       "      <td>0.70</td>\n",
       "      <td>3.5</td>\n",
       "      <td>2.5</td>\n",
       "      <td>3.0</td>\n",
       "      <td>3.3</td>\n",
       "      <td>1.4</td>\n",
       "      <td>2.3</td>\n",
       "      <td>2.2</td>\n",
       "      <td>3.3</td>\n",
       "      <td>4.5</td>\n",
       "      <td>False</td>\n",
       "      <td>False</td>\n",
       "      <td>True</td>\n",
       "      <td>True</td>\n",
       "      <td>False</td>\n",
       "      <td>True</td>\n",
       "      <td>True</td>\n",
       "      <td>True</td>\n",
       "      <td>False</td>\n",
       "      <td>False</td>\n",
       "      <td>False</td>\n",
       "      <td>False</td>\n",
       "      <td>False</td>\n",
       "      <td>False</td>\n",
       "      <td>False</td>\n",
       "      <td>False</td>\n",
       "      <td>False</td>\n",
       "      <td>False</td>\n",
       "      <td>False</td>\n",
       "      <td>False</td>\n",
       "      <td>False</td>\n",
       "      <td>False</td>\n",
       "      <td>False</td>\n",
       "      <td>False</td>\n",
       "      <td>False</td>\n",
       "      <td>False</td>\n",
       "      <td>False</td>\n",
       "      <td>False</td>\n",
       "      <td>False</td>\n",
       "      <td>NaN</td>\n",
       "      <td>False</td>\n",
       "      <td>False</td>\n",
       "      <td>False</td>\n",
       "      <td>False</td>\n",
       "      <td>False</td>\n",
       "      <td>False</td>\n",
       "      <td>False</td>\n",
       "      <td>False</td>\n",
       "    </tr>\n",
       "    <tr>\n",
       "      <td>299</td>\n",
       "      <td>Asada</td>\n",
       "      <td>2016-12-10</td>\n",
       "      <td>NaN</td>\n",
       "      <td>NaN</td>\n",
       "      <td>False</td>\n",
       "      <td>7.75</td>\n",
       "      <td>4.0</td>\n",
       "      <td>NaN</td>\n",
       "      <td>NaN</td>\n",
       "      <td>19.5</td>\n",
       "      <td>21.0</td>\n",
       "      <td>0.68</td>\n",
       "      <td>4.0</td>\n",
       "      <td>4.5</td>\n",
       "      <td>2.0</td>\n",
       "      <td>2.0</td>\n",
       "      <td>3.5</td>\n",
       "      <td>3.5</td>\n",
       "      <td>2.0</td>\n",
       "      <td>2.0</td>\n",
       "      <td>4.0</td>\n",
       "      <td>False</td>\n",
       "      <td>False</td>\n",
       "      <td>True</td>\n",
       "      <td>True</td>\n",
       "      <td>True</td>\n",
       "      <td>False</td>\n",
       "      <td>False</td>\n",
       "      <td>False</td>\n",
       "      <td>False</td>\n",
       "      <td>False</td>\n",
       "      <td>False</td>\n",
       "      <td>False</td>\n",
       "      <td>False</td>\n",
       "      <td>False</td>\n",
       "      <td>False</td>\n",
       "      <td>False</td>\n",
       "      <td>False</td>\n",
       "      <td>False</td>\n",
       "      <td>False</td>\n",
       "      <td>False</td>\n",
       "      <td>False</td>\n",
       "      <td>False</td>\n",
       "      <td>False</td>\n",
       "      <td>False</td>\n",
       "      <td>False</td>\n",
       "      <td>False</td>\n",
       "      <td>False</td>\n",
       "      <td>False</td>\n",
       "      <td>False</td>\n",
       "      <td>NaN</td>\n",
       "      <td>False</td>\n",
       "      <td>False</td>\n",
       "      <td>False</td>\n",
       "      <td>False</td>\n",
       "      <td>False</td>\n",
       "      <td>False</td>\n",
       "      <td>False</td>\n",
       "      <td>False</td>\n",
       "    </tr>\n",
       "    <tr>\n",
       "      <td>300</td>\n",
       "      <td>Other</td>\n",
       "      <td>2016-12-15</td>\n",
       "      <td>4.5</td>\n",
       "      <td>4.6</td>\n",
       "      <td>False</td>\n",
       "      <td>6.99</td>\n",
       "      <td>3.7</td>\n",
       "      <td>NaN</td>\n",
       "      <td>NaN</td>\n",
       "      <td>24.0</td>\n",
       "      <td>18.5</td>\n",
       "      <td>0.65</td>\n",
       "      <td>3.6</td>\n",
       "      <td>4.0</td>\n",
       "      <td>4.0</td>\n",
       "      <td>3.0</td>\n",
       "      <td>3.8</td>\n",
       "      <td>4.3</td>\n",
       "      <td>NaN</td>\n",
       "      <td>3.8</td>\n",
       "      <td>2.0</td>\n",
       "      <td>True</td>\n",
       "      <td>False</td>\n",
       "      <td>False</td>\n",
       "      <td>False</td>\n",
       "      <td>False</td>\n",
       "      <td>False</td>\n",
       "      <td>False</td>\n",
       "      <td>False</td>\n",
       "      <td>False</td>\n",
       "      <td>False</td>\n",
       "      <td>False</td>\n",
       "      <td>False</td>\n",
       "      <td>False</td>\n",
       "      <td>False</td>\n",
       "      <td>False</td>\n",
       "      <td>False</td>\n",
       "      <td>False</td>\n",
       "      <td>False</td>\n",
       "      <td>False</td>\n",
       "      <td>False</td>\n",
       "      <td>False</td>\n",
       "      <td>False</td>\n",
       "      <td>False</td>\n",
       "      <td>False</td>\n",
       "      <td>False</td>\n",
       "      <td>False</td>\n",
       "      <td>False</td>\n",
       "      <td>False</td>\n",
       "      <td>False</td>\n",
       "      <td>NaN</td>\n",
       "      <td>False</td>\n",
       "      <td>False</td>\n",
       "      <td>False</td>\n",
       "      <td>False</td>\n",
       "      <td>False</td>\n",
       "      <td>False</td>\n",
       "      <td>False</td>\n",
       "      <td>False</td>\n",
       "    </tr>\n",
       "  </tbody>\n",
       "</table>\n",
       "<p>298 rows × 59 columns</p>\n",
       "</div>"
      ],
      "text/plain": [
       "        Burrito       Date  Yelp  Google  Chips  Cost  Hunger  Mass (g)  \\\n",
       "0    California 2016-01-18   3.5     4.2  False  6.49     3.0       NaN   \n",
       "1    California 2016-01-24   3.5     3.3  False  5.45     3.5       NaN   \n",
       "2      Carnitas 2016-01-24   NaN     NaN  False  4.85     1.5       NaN   \n",
       "3         Asada 2016-01-24   NaN     NaN  False  5.25     2.0       NaN   \n",
       "4    California 2016-01-27   4.0     3.8   True  6.59     4.0       NaN   \n",
       "..          ...        ...   ...     ...    ...   ...     ...       ...   \n",
       "296  California 2016-12-02   4.0     4.3  False  5.65     3.0       NaN   \n",
       "297       Other 2016-12-02   NaN     NaN  False  5.49     3.0       NaN   \n",
       "298  California 2016-12-10   3.5     3.7  False  7.75     4.0       NaN   \n",
       "299       Asada 2016-12-10   NaN     NaN  False  7.75     4.0       NaN   \n",
       "300       Other 2016-12-15   4.5     4.6  False  6.99     3.7       NaN   \n",
       "\n",
       "     Density (g/mL)  Length  Circum  Volume  Tortilla  Temp  Meat  Fillings  \\\n",
       "0               NaN     NaN     NaN     NaN       3.0   5.0   3.0       3.5   \n",
       "1               NaN     NaN     NaN     NaN       2.0   3.5   2.5       2.5   \n",
       "2               NaN     NaN     NaN     NaN       3.0   2.0   2.5       3.0   \n",
       "3               NaN     NaN     NaN     NaN       3.0   2.0   3.5       3.0   \n",
       "4               NaN     NaN     NaN     NaN       4.0   5.0   4.0       3.5   \n",
       "..              ...     ...     ...     ...       ...   ...   ...       ...   \n",
       "296             NaN    19.5    22.0    0.75       4.0   1.5   2.0       3.0   \n",
       "297             NaN    19.0    20.5    0.64       4.5   5.0   2.0       2.0   \n",
       "298             NaN    20.0    21.0    0.70       3.5   2.5   3.0       3.3   \n",
       "299             NaN    19.5    21.0    0.68       4.0   4.5   2.0       2.0   \n",
       "300             NaN    24.0    18.5    0.65       3.6   4.0   4.0       3.0   \n",
       "\n",
       "     Meat:filling  Uniformity  Salsa  Synergy  Wrap  Unreliable  NonSD   Beef  \\\n",
       "0             4.0         4.0    4.0      4.0   4.0       False  False   True   \n",
       "1             2.0         4.0    3.5      2.5   5.0       False  False   True   \n",
       "2             4.5         4.0    3.0      3.0   5.0       False  False  False   \n",
       "3             4.0         5.0    4.0      4.0   5.0       False  False   True   \n",
       "4             4.5         5.0    2.5      4.5   4.0       False  False   True   \n",
       "..            ...         ...    ...      ...   ...         ...    ...    ...   \n",
       "296           4.2         4.0    3.0      2.0   4.5       False  False  False   \n",
       "297           2.5         3.5    3.0      2.5   3.0       False  False  False   \n",
       "298           1.4         2.3    2.2      3.3   4.5       False  False   True   \n",
       "299           3.5         3.5    2.0      2.0   4.0       False  False   True   \n",
       "300           3.8         4.3    NaN      3.8   2.0        True  False  False   \n",
       "\n",
       "      Pico   Guac  Cheese  Fries  Sour cream   Pork  Chicken  Shrimp   Fish  \\\n",
       "0     True   True    True   True       False  False    False   False  False   \n",
       "1     True   True    True   True       False  False    False   False  False   \n",
       "2     True   True   False  False       False   True    False   False  False   \n",
       "3     True   True   False  False       False  False    False   False  False   \n",
       "4     True  False    True   True       False  False    False   False  False   \n",
       "..     ...    ...     ...    ...         ...    ...      ...     ...    ...   \n",
       "296  False  False   False  False       False  False    False   False  False   \n",
       "297  False  False   False  False       False  False    False   False  False   \n",
       "298   True  False    True   True        True  False    False   False  False   \n",
       "299   True   True   False  False       False  False    False   False  False   \n",
       "300  False  False   False  False       False  False    False   False  False   \n",
       "\n",
       "      Rice  Beans  Lettuce  Tomato  Bell peper  Carrots  Cabbage  Sauce  \\\n",
       "0    False  False    False   False       False    False    False  False   \n",
       "1    False  False    False   False       False    False    False  False   \n",
       "2    False  False    False   False       False    False    False  False   \n",
       "3    False  False    False   False       False    False    False  False   \n",
       "4    False  False    False   False       False    False    False  False   \n",
       "..     ...    ...      ...     ...         ...      ...      ...    ...   \n",
       "296  False  False    False   False       False    False    False  False   \n",
       "297  False  False    False   False       False    False    False  False   \n",
       "298  False  False    False   False       False    False    False  False   \n",
       "299  False  False    False   False       False    False    False  False   \n",
       "300  False  False    False   False       False    False    False  False   \n",
       "\n",
       "     Salsa.1  Cilantro  Onion  Taquito  Pineapple    Ham  Chile relleno  \\\n",
       "0      False     False  False    False      False  False          False   \n",
       "1      False     False  False    False      False  False          False   \n",
       "2      False     False  False    False      False  False          False   \n",
       "3      False     False  False    False      False  False          False   \n",
       "4      False     False  False    False      False  False          False   \n",
       "..       ...       ...    ...      ...        ...    ...            ...   \n",
       "296    False     False  False    False      False  False          False   \n",
       "297    False     False  False    False      False  False          False   \n",
       "298    False     False  False    False      False  False          False   \n",
       "299    False     False  False    False      False  False          False   \n",
       "300    False     False  False    False      False  False          False   \n",
       "\n",
       "     Nopales  Lobster  Queso    Egg  Mushroom  Bacon  Sushi  Avocado   Corn  \\\n",
       "0      False    False    NaN  False     False  False  False    False  False   \n",
       "1      False    False    NaN  False     False  False  False    False  False   \n",
       "2      False    False    NaN  False     False  False  False    False  False   \n",
       "3      False    False    NaN  False     False  False  False    False  False   \n",
       "4      False    False    NaN  False     False  False  False    False  False   \n",
       "..       ...      ...    ...    ...       ...    ...    ...      ...    ...   \n",
       "296    False    False    NaN  False     False  False  False    False  False   \n",
       "297    False    False    NaN  False     False  False  False    False  False   \n",
       "298    False    False    NaN  False     False  False  False    False  False   \n",
       "299    False    False    NaN  False     False  False  False    False  False   \n",
       "300    False    False    NaN  False     False  False  False    False  False   \n",
       "\n",
       "     Zucchini  Great  \n",
       "0       False  False  \n",
       "1       False  False  \n",
       "2       False  False  \n",
       "3       False  False  \n",
       "4       False   True  \n",
       "..        ...    ...  \n",
       "296     False  False  \n",
       "297     False  False  \n",
       "298     False  False  \n",
       "299     False  False  \n",
       "300     False  False  \n",
       "\n",
       "[298 rows x 59 columns]"
      ]
     },
     "execution_count": 58,
     "metadata": {},
     "output_type": "execute_result"
    }
   ],
   "source": [
    "import numpy as np\n",
    "mp = {'x': True, 'X': True, np.nan: False, 'Yes': True, 'No': False}\n",
    "for c in train:\n",
    "    train[c] = train[c].map(lambda x : mp[x] if x in mp else x)\n",
    "train"
   ]
  },
  {
   "cell_type": "code",
   "execution_count": 60,
   "metadata": {},
   "outputs": [
    {
     "ename": "TypeError",
     "evalue": "DatetimeIndex cannot perform the operation sum",
     "output_type": "error",
     "traceback": [
      "\u001b[1;31m---------------------------------------------------------------------------\u001b[0m",
      "\u001b[1;31mTypeError\u001b[0m                                 Traceback (most recent call last)",
      "\u001b[1;32m<ipython-input-60-1415b81c610e>\u001b[0m in \u001b[0;36m<module>\u001b[1;34m\u001b[0m\n\u001b[0;32m      1\u001b[0m \u001b[1;32mfor\u001b[0m \u001b[0mc\u001b[0m \u001b[1;32min\u001b[0m \u001b[0mtrain\u001b[0m\u001b[1;33m:\u001b[0m\u001b[1;33m\u001b[0m\u001b[1;33m\u001b[0m\u001b[0m\n\u001b[1;32m----> 2\u001b[1;33m     \u001b[0mtrain\u001b[0m\u001b[1;33m[\u001b[0m\u001b[0mc\u001b[0m\u001b[1;33m]\u001b[0m\u001b[1;33m.\u001b[0m\u001b[0msum\u001b[0m\u001b[1;33m(\u001b[0m\u001b[1;33m)\u001b[0m\u001b[1;33m\u001b[0m\u001b[1;33m\u001b[0m\u001b[0m\n\u001b[0m",
      "\u001b[1;32mC:\\ProgramData\\Anaconda3\\lib\\site-packages\\pandas\\core\\generic.py\u001b[0m in \u001b[0;36mstat_func\u001b[1;34m(self, axis, skipna, level, numeric_only, min_count, **kwargs)\u001b[0m\n\u001b[0;32m  11583\u001b[0m             \u001b[0mskipna\u001b[0m\u001b[1;33m=\u001b[0m\u001b[0mskipna\u001b[0m\u001b[1;33m,\u001b[0m\u001b[1;33m\u001b[0m\u001b[1;33m\u001b[0m\u001b[0m\n\u001b[0;32m  11584\u001b[0m             \u001b[0mnumeric_only\u001b[0m\u001b[1;33m=\u001b[0m\u001b[0mnumeric_only\u001b[0m\u001b[1;33m,\u001b[0m\u001b[1;33m\u001b[0m\u001b[1;33m\u001b[0m\u001b[0m\n\u001b[1;32m> 11585\u001b[1;33m             \u001b[0mmin_count\u001b[0m\u001b[1;33m=\u001b[0m\u001b[0mmin_count\u001b[0m\u001b[1;33m,\u001b[0m\u001b[1;33m\u001b[0m\u001b[1;33m\u001b[0m\u001b[0m\n\u001b[0m\u001b[0;32m  11586\u001b[0m         )\n\u001b[0;32m  11587\u001b[0m \u001b[1;33m\u001b[0m\u001b[0m\n",
      "\u001b[1;32mC:\\ProgramData\\Anaconda3\\lib\\site-packages\\pandas\\core\\series.py\u001b[0m in \u001b[0;36m_reduce\u001b[1;34m(self, op, name, axis, skipna, numeric_only, filter_type, **kwds)\u001b[0m\n\u001b[0;32m   4097\u001b[0m             \u001b[0mnumeric_only\u001b[0m\u001b[1;33m=\u001b[0m\u001b[0mnumeric_only\u001b[0m\u001b[1;33m,\u001b[0m\u001b[1;33m\u001b[0m\u001b[1;33m\u001b[0m\u001b[0m\n\u001b[0;32m   4098\u001b[0m             \u001b[0mfilter_type\u001b[0m\u001b[1;33m=\u001b[0m\u001b[0mfilter_type\u001b[0m\u001b[1;33m,\u001b[0m\u001b[1;33m\u001b[0m\u001b[1;33m\u001b[0m\u001b[0m\n\u001b[1;32m-> 4099\u001b[1;33m             \u001b[1;33m**\u001b[0m\u001b[0mkwds\u001b[0m\u001b[1;33m\u001b[0m\u001b[1;33m\u001b[0m\u001b[0m\n\u001b[0m\u001b[0;32m   4100\u001b[0m         )\n\u001b[0;32m   4101\u001b[0m \u001b[1;33m\u001b[0m\u001b[0m\n",
      "\u001b[1;32mC:\\ProgramData\\Anaconda3\\lib\\site-packages\\pandas\\core\\base.py\u001b[0m in \u001b[0;36m_reduce\u001b[1;34m(self, op, name, axis, skipna, numeric_only, filter_type, **kwds)\u001b[0m\n\u001b[0;32m   1218\u001b[0m             raise TypeError(\n\u001b[0;32m   1219\u001b[0m                 \"{klass} cannot perform the operation {op}\".format(\n\u001b[1;32m-> 1220\u001b[1;33m                     \u001b[0mklass\u001b[0m\u001b[1;33m=\u001b[0m\u001b[0mself\u001b[0m\u001b[1;33m.\u001b[0m\u001b[0m__class__\u001b[0m\u001b[1;33m.\u001b[0m\u001b[0m__name__\u001b[0m\u001b[1;33m,\u001b[0m \u001b[0mop\u001b[0m\u001b[1;33m=\u001b[0m\u001b[0mname\u001b[0m\u001b[1;33m\u001b[0m\u001b[1;33m\u001b[0m\u001b[0m\n\u001b[0m\u001b[0;32m   1221\u001b[0m                 )\n\u001b[0;32m   1222\u001b[0m             )\n",
      "\u001b[1;31mTypeError\u001b[0m: DatetimeIndex cannot perform the operation sum"
     ]
    }
   ],
   "source": [
    "for c in train:\n",
    "    train[c].sum()"
   ]
  },
  {
   "cell_type": "code",
   "execution_count": 63,
   "metadata": {},
   "outputs": [],
   "source": [
    "train = train.drop(['Mass (g)', 'Density (g/mL)', 'Queso'], axis=1)"
   ]
  },
  {
   "cell_type": "code",
   "execution_count": 69,
   "metadata": {},
   "outputs": [
    {
     "data": {
      "text/plain": [
       "California     118\n",
       "Other          110\n",
       "Asada           35\n",
       "Surf & Turf     21\n",
       "Carnitas        14\n",
       "Name: Burrito, dtype: int64"
      ]
     },
     "metadata": {},
     "output_type": "display_data"
    },
    {
     "data": {
      "text/plain": [
       "2016-08-30    29\n",
       "2016-06-24     9\n",
       "2016-05-13     7\n",
       "2016-05-06     7\n",
       "2016-04-15     7\n",
       "              ..\n",
       "2016-10-07     1\n",
       "2016-09-26     1\n",
       "2016-11-14     1\n",
       "2016-09-13     1\n",
       "2016-12-15     1\n",
       "Name: Date, Length: 110, dtype: int64"
      ]
     },
     "metadata": {},
     "output_type": "display_data"
    },
    {
     "data": {
      "text/plain": [
       "4.0    34\n",
       "4.5    15\n",
       "3.5    14\n",
       "3.0     5\n",
       "2.5     2\n",
       "4.2     1\n",
       "Name: Yelp, dtype: int64"
      ]
     },
     "metadata": {},
     "output_type": "display_data"
    },
    {
     "data": {
      "text/plain": [
       "4.4    11\n",
       "4.1    11\n",
       "4.2     9\n",
       "4.0     8\n",
       "3.9     5\n",
       "4.3     5\n",
       "4.7     3\n",
       "4.6     3\n",
       "3.8     3\n",
       "4.5     3\n",
       "3.4     2\n",
       "4.9     2\n",
       "3.7     2\n",
       "3.3     2\n",
       "2.9     1\n",
       "3.5     1\n",
       "Name: Google, dtype: int64"
      ]
     },
     "metadata": {},
     "output_type": "display_data"
    },
    {
     "data": {
      "text/plain": [
       "False    276\n",
       "True      22\n",
       "Name: Chips, dtype: int64"
      ]
     },
     "metadata": {},
     "output_type": "display_data"
    },
    {
     "data": {
      "text/plain": [
       "6.25    38\n",
       "6.99    16\n",
       "7.50    15\n",
       "8.25    15\n",
       "7.49    13\n",
       "        ..\n",
       "6.02     1\n",
       "3.99     1\n",
       "6.70     1\n",
       "4.59     1\n",
       "6.30     1\n",
       "Name: Cost, Length: 80, dtype: int64"
      ]
     },
     "metadata": {},
     "output_type": "display_data"
    },
    {
     "data": {
      "text/plain": [
       "4.00    85\n",
       "3.00    59\n",
       "3.50    56\n",
       "2.00    21\n",
       "2.50    18\n",
       "4.50    16\n",
       "5.00    16\n",
       "1.00     6\n",
       "3.75     3\n",
       "4.30     2\n",
       "3.70     2\n",
       "3.20     2\n",
       "1.50     2\n",
       "2.80     1\n",
       "4.75     1\n",
       "4.25     1\n",
       "0.50     1\n",
       "3.80     1\n",
       "4.10     1\n",
       "2.30     1\n",
       "2.20     1\n",
       "3.90     1\n",
       "Name: Hunger, dtype: int64"
      ]
     },
     "metadata": {},
     "output_type": "display_data"
    },
    {
     "data": {
      "text/plain": [
       "20.00    20\n",
       "19.00    19\n",
       "18.50    16\n",
       "18.00    16\n",
       "19.50    13\n",
       "20.50    13\n",
       "22.00    10\n",
       "17.00     9\n",
       "22.50     9\n",
       "23.00     9\n",
       "21.00     8\n",
       "21.50     7\n",
       "17.50     7\n",
       "16.50     5\n",
       "23.50     3\n",
       "25.50     2\n",
       "24.00     1\n",
       "26.00     1\n",
       "25.00     1\n",
       "20.75     1\n",
       "15.00     1\n",
       "15.50     1\n",
       "17.78     1\n",
       "16.00     1\n",
       "17.70     1\n",
       "Name: Length, dtype: int64"
      ]
     },
     "metadata": {},
     "output_type": "display_data"
    },
    {
     "data": {
      "text/plain": [
       "22.000    29\n",
       "21.000    19\n",
       "21.500    17\n",
       "23.000    15\n",
       "23.500    15\n",
       "20.000    14\n",
       "20.500    13\n",
       "22.500    11\n",
       "24.000     7\n",
       "25.000     6\n",
       "24.500     5\n",
       "25.500     4\n",
       "19.500     4\n",
       "19.000     3\n",
       "22.125     1\n",
       "22.225     1\n",
       "20.800     1\n",
       "21.750     1\n",
       "26.000     1\n",
       "26.500     1\n",
       "18.000     1\n",
       "27.000     1\n",
       "17.000     1\n",
       "18.500     1\n",
       "21.200     1\n",
       "22.750     1\n",
       "Name: Circum, dtype: int64"
      ]
     },
     "metadata": {},
     "output_type": "display_data"
    },
    {
     "data": {
      "text/plain": [
       "0.65    14\n",
       "0.77    11\n",
       "0.75     9\n",
       "0.68     8\n",
       "0.85     8\n",
       "0.87     7\n",
       "0.70     6\n",
       "0.74     5\n",
       "0.83     5\n",
       "0.64     5\n",
       "0.93     5\n",
       "0.86     4\n",
       "0.73     4\n",
       "0.72     4\n",
       "0.88     4\n",
       "0.84     4\n",
       "0.60     4\n",
       "0.90     4\n",
       "0.79     3\n",
       "1.01     3\n",
       "0.57     3\n",
       "0.66     3\n",
       "0.94     3\n",
       "0.96     3\n",
       "0.69     3\n",
       "0.92     3\n",
       "0.67     3\n",
       "0.62     2\n",
       "0.82     2\n",
       "0.97     2\n",
       "0.71     2\n",
       "0.91     2\n",
       "0.63     2\n",
       "0.51     2\n",
       "0.95     2\n",
       "0.54     2\n",
       "0.59     1\n",
       "0.50     1\n",
       "1.00     1\n",
       "0.76     1\n",
       "0.78     1\n",
       "0.56     1\n",
       "0.58     1\n",
       "0.81     1\n",
       "0.40     1\n",
       "1.07     1\n",
       "1.24     1\n",
       "0.55     1\n",
       "0.61     1\n",
       "0.89     1\n",
       "1.16     1\n",
       "0.80     1\n",
       "1.17     1\n",
       "1.05     1\n",
       "Name: Volume, dtype: int64"
      ]
     },
     "metadata": {},
     "output_type": "display_data"
    },
    {
     "data": {
      "text/plain": [
       "4.00    92\n",
       "3.00    72\n",
       "3.50    45\n",
       "2.00    21\n",
       "4.50    19\n",
       "5.00    15\n",
       "2.50    15\n",
       "1.50     6\n",
       "3.80     5\n",
       "3.60     2\n",
       "1.40     1\n",
       "2.80     1\n",
       "3.20     1\n",
       "2.10     1\n",
       "4.80     1\n",
       "3.75     1\n",
       "Name: Tortilla, dtype: int64"
      ]
     },
     "metadata": {},
     "output_type": "display_data"
    },
    {
     "data": {
      "text/plain": [
       "4.0    70\n",
       "5.0    51\n",
       "3.0    40\n",
       "4.5    35\n",
       "2.5    25\n",
       "3.5    25\n",
       "2.0    20\n",
       "1.5     3\n",
       "1.0     3\n",
       "3.8     3\n",
       "4.7     2\n",
       "4.4     1\n",
       "1.3     1\n",
       "3.6     1\n",
       "3.2     1\n",
       "1.9     1\n",
       "3.7     1\n",
       "Name: Temp, dtype: int64"
      ]
     },
     "metadata": {},
     "output_type": "display_data"
    },
    {
     "data": {
      "text/plain": [
       "4.00    81\n",
       "3.00    51\n",
       "3.50    47\n",
       "5.00    25\n",
       "4.50    25\n",
       "2.00    19\n",
       "2.50    16\n",
       "1.50     5\n",
       "1.00     3\n",
       "3.70     2\n",
       "2.75     2\n",
       "3.80     2\n",
       "3.30     2\n",
       "4.20     2\n",
       "3.75     1\n",
       "2.60     1\n",
       "4.70     1\n",
       "2.70     1\n",
       "2.80     1\n",
       "3.20     1\n",
       "Name: Meat, dtype: int64"
      ]
     },
     "metadata": {},
     "output_type": "display_data"
    },
    {
     "data": {
      "text/plain": [
       "4.00    81\n",
       "3.00    66\n",
       "3.50    45\n",
       "5.00    25\n",
       "4.50    21\n",
       "2.00    20\n",
       "2.50    18\n",
       "2.80     4\n",
       "1.00     3\n",
       "4.20     2\n",
       "2.40     2\n",
       "4.70     2\n",
       "1.50     2\n",
       "3.40     1\n",
       "2.75     1\n",
       "4.30     1\n",
       "3.20     1\n",
       "3.30     1\n",
       "4.40     1\n",
       "Name: Fillings, dtype: int64"
      ]
     },
     "metadata": {},
     "output_type": "display_data"
    },
    {
     "data": {
      "text/plain": [
       "4.00    83\n",
       "3.00    39\n",
       "3.50    32\n",
       "5.00    32\n",
       "4.50    30\n",
       "2.00    21\n",
       "2.50    18\n",
       "1.50    10\n",
       "1.00     9\n",
       "3.75     3\n",
       "4.70     3\n",
       "2.90     1\n",
       "3.40     1\n",
       "3.60     1\n",
       "0.50     1\n",
       "4.80     1\n",
       "4.20     1\n",
       "2.80     1\n",
       "3.20     1\n",
       "1.40     1\n",
       "3.80     1\n",
       "3.70     1\n",
       "3.78     1\n",
       "Name: Meat:filling, dtype: int64"
      ]
     },
     "metadata": {},
     "output_type": "display_data"
    },
    {
     "data": {
      "text/plain": [
       "4.0    80\n",
       "3.0    38\n",
       "2.0    37\n",
       "3.5    33\n",
       "5.0    30\n",
       "4.5    30\n",
       "2.5    16\n",
       "1.0    12\n",
       "1.5    10\n",
       "2.4     2\n",
       "4.3     1\n",
       "4.2     1\n",
       "2.3     1\n",
       "1.6     1\n",
       "2.7     1\n",
       "3.2     1\n",
       "4.4     1\n",
       "2.2     1\n",
       "Name: Uniformity, dtype: int64"
      ]
     },
     "metadata": {},
     "output_type": "display_data"
    },
    {
     "data": {
      "text/plain": [
       "3.00    58\n",
       "4.00    56\n",
       "3.50    39\n",
       "2.00    29\n",
       "2.50    27\n",
       "4.50    25\n",
       "5.00    18\n",
       "1.50     7\n",
       "1.00     4\n",
       "4.30     2\n",
       "4.20     2\n",
       "3.80     2\n",
       "4.75     1\n",
       "0.00     1\n",
       "2.75     1\n",
       "2.20     1\n",
       "3.75     1\n",
       "0.50     1\n",
       "3.20     1\n",
       "3.70     1\n",
       "1.80     1\n",
       "Name: Salsa, dtype: int64"
      ]
     },
     "metadata": {},
     "output_type": "display_data"
    },
    {
     "data": {
      "text/plain": [
       "4.00    81\n",
       "3.00    49\n",
       "3.50    36\n",
       "4.50    33\n",
       "5.00    24\n",
       "2.00    23\n",
       "2.50    21\n",
       "1.50     6\n",
       "1.00     4\n",
       "3.80     3\n",
       "3.75     2\n",
       "4.70     2\n",
       "3.70     2\n",
       "3.40     1\n",
       "2.90     1\n",
       "4.30     1\n",
       "2.80     1\n",
       "2.30     1\n",
       "3.30     1\n",
       "4.90     1\n",
       "4.40     1\n",
       "2.70     1\n",
       "4.20     1\n",
       "Name: Synergy, dtype: int64"
      ]
     },
     "metadata": {},
     "output_type": "display_data"
    },
    {
     "data": {
      "text/plain": [
       "5.0    98\n",
       "4.0    64\n",
       "4.5    49\n",
       "3.0    30\n",
       "3.5    12\n",
       "2.0    12\n",
       "1.5     8\n",
       "1.0     8\n",
       "2.5     5\n",
       "0.5     4\n",
       "1.2     1\n",
       "2.2     1\n",
       "3.8     1\n",
       "2.6     1\n",
       "3.9     1\n",
       "0.0     1\n",
       "Name: Wrap, dtype: int64"
      ]
     },
     "metadata": {},
     "output_type": "display_data"
    },
    {
     "data": {
      "text/plain": [
       "False    271\n",
       "True      27\n",
       "Name: Unreliable, dtype: int64"
      ]
     },
     "metadata": {},
     "output_type": "display_data"
    },
    {
     "data": {
      "text/plain": [
       "False    293\n",
       "True       5\n",
       "Name: NonSD, dtype: int64"
      ]
     },
     "metadata": {},
     "output_type": "display_data"
    },
    {
     "data": {
      "text/plain": [
       "True     168\n",
       "False    130\n",
       "Name: Beef, dtype: int64"
      ]
     },
     "metadata": {},
     "output_type": "display_data"
    },
    {
     "data": {
      "text/plain": [
       "False    155\n",
       "True     143\n",
       "Name: Pico, dtype: int64"
      ]
     },
     "metadata": {},
     "output_type": "display_data"
    },
    {
     "data": {
      "text/plain": [
       "False    159\n",
       "True     139\n",
       "Name: Guac, dtype: int64"
      ]
     },
     "metadata": {},
     "output_type": "display_data"
    },
    {
     "data": {
      "text/plain": [
       "True     149\n",
       "False    149\n",
       "Name: Cheese, dtype: int64"
      ]
     },
     "metadata": {},
     "output_type": "display_data"
    },
    {
     "data": {
      "text/plain": [
       "False    179\n",
       "True     119\n",
       "Name: Fries, dtype: int64"
      ]
     },
     "metadata": {},
     "output_type": "display_data"
    },
    {
     "data": {
      "text/plain": [
       "False    213\n",
       "True      85\n",
       "Name: Sour cream, dtype: int64"
      ]
     },
     "metadata": {},
     "output_type": "display_data"
    },
    {
     "data": {
      "text/plain": [
       "False    255\n",
       "True      43\n",
       "Name: Pork, dtype: int64"
      ]
     },
     "metadata": {},
     "output_type": "display_data"
    },
    {
     "data": {
      "text/plain": [
       "False    278\n",
       "True      20\n",
       "Name: Chicken, dtype: int64"
      ]
     },
     "metadata": {},
     "output_type": "display_data"
    },
    {
     "data": {
      "text/plain": [
       "False    278\n",
       "True      20\n",
       "Name: Shrimp, dtype: int64"
      ]
     },
     "metadata": {},
     "output_type": "display_data"
    },
    {
     "data": {
      "text/plain": [
       "False    293\n",
       "True       5\n",
       "Name: Fish, dtype: int64"
      ]
     },
     "metadata": {},
     "output_type": "display_data"
    },
    {
     "data": {
      "text/plain": [
       "False    265\n",
       "True      33\n",
       "Name: Rice, dtype: int64"
      ]
     },
     "metadata": {},
     "output_type": "display_data"
    },
    {
     "data": {
      "text/plain": [
       "False    266\n",
       "True      32\n",
       "Name: Beans, dtype: int64"
      ]
     },
     "metadata": {},
     "output_type": "display_data"
    },
    {
     "data": {
      "text/plain": [
       "False    287\n",
       "True      11\n",
       "Name: Lettuce, dtype: int64"
      ]
     },
     "metadata": {},
     "output_type": "display_data"
    },
    {
     "data": {
      "text/plain": [
       "False    291\n",
       "True       7\n",
       "Name: Tomato, dtype: int64"
      ]
     },
     "metadata": {},
     "output_type": "display_data"
    },
    {
     "data": {
      "text/plain": [
       "False    291\n",
       "True       7\n",
       "Name: Bell peper, dtype: int64"
      ]
     },
     "metadata": {},
     "output_type": "display_data"
    },
    {
     "data": {
      "text/plain": [
       "False    297\n",
       "True       1\n",
       "Name: Carrots, dtype: int64"
      ]
     },
     "metadata": {},
     "output_type": "display_data"
    },
    {
     "data": {
      "text/plain": [
       "False    291\n",
       "True       7\n",
       "Name: Cabbage, dtype: int64"
      ]
     },
     "metadata": {},
     "output_type": "display_data"
    },
    {
     "data": {
      "text/plain": [
       "False    261\n",
       "True      37\n",
       "Name: Sauce, dtype: int64"
      ]
     },
     "metadata": {},
     "output_type": "display_data"
    },
    {
     "data": {
      "text/plain": [
       "False    292\n",
       "True       6\n",
       "Name: Salsa.1, dtype: int64"
      ]
     },
     "metadata": {},
     "output_type": "display_data"
    },
    {
     "data": {
      "text/plain": [
       "False    283\n",
       "True      15\n",
       "Name: Cilantro, dtype: int64"
      ]
     },
     "metadata": {},
     "output_type": "display_data"
    },
    {
     "data": {
      "text/plain": [
       "False    281\n",
       "True      17\n",
       "Name: Onion, dtype: int64"
      ]
     },
     "metadata": {},
     "output_type": "display_data"
    },
    {
     "data": {
      "text/plain": [
       "False    294\n",
       "True       4\n",
       "Name: Taquito, dtype: int64"
      ]
     },
     "metadata": {},
     "output_type": "display_data"
    },
    {
     "data": {
      "text/plain": [
       "False    291\n",
       "True       7\n",
       "Name: Pineapple, dtype: int64"
      ]
     },
     "metadata": {},
     "output_type": "display_data"
    },
    {
     "data": {
      "text/plain": [
       "False    297\n",
       "True       1\n",
       "Name: Ham, dtype: int64"
      ]
     },
     "metadata": {},
     "output_type": "display_data"
    },
    {
     "data": {
      "text/plain": [
       "False    294\n",
       "True       4\n",
       "Name: Chile relleno, dtype: int64"
      ]
     },
     "metadata": {},
     "output_type": "display_data"
    },
    {
     "data": {
      "text/plain": [
       "False    294\n",
       "True       4\n",
       "Name: Nopales, dtype: int64"
      ]
     },
     "metadata": {},
     "output_type": "display_data"
    },
    {
     "data": {
      "text/plain": [
       "False    297\n",
       "True       1\n",
       "Name: Lobster, dtype: int64"
      ]
     },
     "metadata": {},
     "output_type": "display_data"
    },
    {
     "data": {
      "text/plain": [
       "False    294\n",
       "True       4\n",
       "Name: Egg, dtype: int64"
      ]
     },
     "metadata": {},
     "output_type": "display_data"
    },
    {
     "data": {
      "text/plain": [
       "False    295\n",
       "True       3\n",
       "Name: Mushroom, dtype: int64"
      ]
     },
     "metadata": {},
     "output_type": "display_data"
    },
    {
     "data": {
      "text/plain": [
       "False    295\n",
       "True       3\n",
       "Name: Bacon, dtype: int64"
      ]
     },
     "metadata": {},
     "output_type": "display_data"
    },
    {
     "data": {
      "text/plain": [
       "False    296\n",
       "True       2\n",
       "Name: Sushi, dtype: int64"
      ]
     },
     "metadata": {},
     "output_type": "display_data"
    },
    {
     "data": {
      "text/plain": [
       "False    285\n",
       "True      13\n",
       "Name: Avocado, dtype: int64"
      ]
     },
     "metadata": {},
     "output_type": "display_data"
    },
    {
     "data": {
      "text/plain": [
       "False    296\n",
       "True       2\n",
       "Name: Corn, dtype: int64"
      ]
     },
     "metadata": {},
     "output_type": "display_data"
    },
    {
     "data": {
      "text/plain": [
       "False    297\n",
       "True       1\n",
       "Name: Zucchini, dtype: int64"
      ]
     },
     "metadata": {},
     "output_type": "display_data"
    },
    {
     "data": {
      "text/plain": [
       "False    176\n",
       "True     122\n",
       "Name: Great, dtype: int64"
      ]
     },
     "metadata": {},
     "output_type": "display_data"
    }
   ],
   "source": [
    "for c in train:\n",
    "    display(train[c].value_counts())"
   ]
  },
  {
   "cell_type": "code",
   "execution_count": null,
   "metadata": {},
   "outputs": [],
   "source": []
  }
 ],
 "metadata": {
  "kernelspec": {
   "display_name": "Python 3",
   "language": "python",
   "name": "python3"
  },
  "language_info": {
   "codemirror_mode": {
    "name": "ipython",
    "version": 3
   },
   "file_extension": ".py",
   "mimetype": "text/x-python",
   "name": "python",
   "nbconvert_exporter": "python",
   "pygments_lexer": "ipython3",
   "version": "3.7.4"
  }
 },
 "nbformat": 4,
 "nbformat_minor": 1
}
