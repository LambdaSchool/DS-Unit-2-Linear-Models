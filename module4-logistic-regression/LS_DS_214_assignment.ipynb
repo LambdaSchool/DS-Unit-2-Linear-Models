{
 "cells": [
  {
   "cell_type": "markdown",
   "metadata": {},
   "source": [
    "Lambda School Data Science\n",
    "\n",
    "*Unit 2, Sprint 1, Module 4*\n",
    "\n",
    "---"
   ]
  },
  {
   "cell_type": "markdown",
   "metadata": {
    "colab_type": "text",
    "id": "7IXUfiQ2UKj6"
   },
   "source": [
    "# Logistic Regression\n",
    "\n",
    "\n",
    "## Assignment 🌯\n",
    "\n",
    "You'll use a [**dataset of 400+ burrito reviews**](https://srcole.github.io/100burritos/). How accurately can you predict whether a burrito is rated 'Great'?\n",
    "\n",
    "> We have developed a 10-dimensional system for rating the burritos in San Diego. ... Generate models for what makes a burrito great and investigate correlations in its dimensions.\n",
    "\n",
    "- [ ] Do train/validate/test split. Train on reviews from 2016 & earlier. Validate on 2017. Test on 2018 & later.\n",
    "- [ ] Begin with baselines for classification.\n",
    "- [ ] Use scikit-learn for logistic regression.\n",
    "- [ ] Get your model's validation accuracy. (Multiple times if you try multiple iterations.)\n",
    "- [ ] Get your model's test accuracy. (One time, at the end.)\n",
    "- [ ] Commit your notebook to your fork of the GitHub repo.\n",
    "\n",
    "\n",
    "## Stretch Goals\n",
    "\n",
    "- [ ] Add your own stretch goal(s) !\n",
    "- [ ] Make exploratory visualizations.\n",
    "- [ ] Do one-hot encoding.\n",
    "- [ ] Do [feature scaling](https://scikit-learn.org/stable/modules/preprocessing.html).\n",
    "- [ ] Get and plot your coefficients.\n",
    "- [ ] Try [scikit-learn pipelines](https://scikit-learn.org/stable/modules/compose.html)."
   ]
  },
  {
   "cell_type": "code",
   "execution_count": 21,
   "metadata": {
    "colab": {},
    "colab_type": "code",
    "id": "o9eSnDYhUGD7"
   },
   "outputs": [],
   "source": [
    "%%capture\n",
    "import sys\n",
    "\n",
    "# If you're on Colab:\n",
    "if 'google.colab' in sys.modules:\n",
    "    DATA_PATH = 'https://raw.githubusercontent.com/LambdaSchool/DS-Unit-2-Linear-Models/master/data/'\n",
    "    !pip install category_encoders==2.*\n",
    "\n",
    "# If you're working locally:\n",
    "else:\n",
    "    DATA_PATH = '../data/'"
   ]
  },
  {
   "cell_type": "code",
   "execution_count": 22,
   "metadata": {},
   "outputs": [],
   "source": [
    "# Load data downloaded from https://srcole.github.io/100burritos/\n",
    "import pandas as pd\n",
    "df = pd.read_csv(DATA_PATH+'burritos/burritos.csv')"
   ]
  },
  {
   "cell_type": "code",
   "execution_count": 23,
   "metadata": {},
   "outputs": [],
   "source": [
    "# Derive binary classification target:\n",
    "# We define a 'Great' burrito as having an\n",
    "# overall rating of 4 or higher, on a 5 point scale.\n",
    "# Drop unrated burritos.\n",
    "df = df.dropna(subset=['overall'])\n",
    "df['Great'] = df['overall'] >= 4"
   ]
  },
  {
   "cell_type": "code",
   "execution_count": 24,
   "metadata": {},
   "outputs": [],
   "source": [
    "# Clean/combine the Burrito categories\n",
    "df['Burrito'] = df['Burrito'].str.lower()\n",
    "\n",
    "california = df['Burrito'].str.contains('california')\n",
    "asada = df['Burrito'].str.contains('asada')\n",
    "surf = df['Burrito'].str.contains('surf')\n",
    "carnitas = df['Burrito'].str.contains('carnitas')\n",
    "\n",
    "df.loc[california, 'Burrito'] = 'California'\n",
    "df.loc[asada, 'Burrito'] = 'Asada'\n",
    "df.loc[surf, 'Burrito'] = 'Surf & Turf'\n",
    "df.loc[carnitas, 'Burrito'] = 'Carnitas'\n",
    "df.loc[~california & ~asada & ~surf & ~carnitas, 'Burrito'] = 'Other'"
   ]
  },
  {
   "cell_type": "code",
   "execution_count": 25,
   "metadata": {},
   "outputs": [],
   "source": [
    "# Drop some high cardinality categoricals\n",
    "df = df.drop(columns=['Notes', 'Location', 'Reviewer', 'Address', 'URL', 'Neighborhood'])"
   ]
  },
  {
   "cell_type": "code",
   "execution_count": 26,
   "metadata": {},
   "outputs": [],
   "source": [
    "# Drop some columns to prevent \"leakage\"\n",
    "df = df.drop(columns=['Rec', 'overall'])"
   ]
  },
  {
   "cell_type": "code",
   "execution_count": 27,
   "metadata": {},
   "outputs": [
    {
     "data": {
      "text/plain": [
       "Burrito             0\n",
       "Date                0\n",
       "Yelp              334\n",
       "Google            334\n",
       "Chips             395\n",
       "Cost                7\n",
       "Hunger              3\n",
       "Mass (g)          399\n",
       "Density (g/mL)    399\n",
       "Length            138\n",
       "Circum            140\n",
       "Volume            140\n",
       "Tortilla            0\n",
       "Temp               20\n",
       "Meat               14\n",
       "Fillings            3\n",
       "Meat:filling        9\n",
       "Uniformity          2\n",
       "Salsa              25\n",
       "Synergy             2\n",
       "Wrap                3\n",
       "Unreliable        388\n",
       "NonSD             414\n",
       "Beef              242\n",
       "Pico              263\n",
       "Guac              267\n",
       "Cheese            262\n",
       "Fries             294\n",
       "Sour cream        329\n",
       "Pork              370\n",
       "Chicken           400\n",
       "Shrimp            400\n",
       "Fish              415\n",
       "Rice              385\n",
       "Beans             386\n",
       "Lettuce           410\n",
       "Tomato            414\n",
       "Bell peper        414\n",
       "Carrots           420\n",
       "Cabbage           413\n",
       "Sauce             383\n",
       "Salsa.1           414\n",
       "Cilantro          406\n",
       "Onion             404\n",
       "Taquito           417\n",
       "Pineapple         414\n",
       "Ham               419\n",
       "Chile relleno     417\n",
       "Nopales           417\n",
       "Lobster           420\n",
       "Queso             421\n",
       "Egg               416\n",
       "Mushroom          418\n",
       "Bacon             418\n",
       "Sushi             419\n",
       "Avocado           408\n",
       "Corn              418\n",
       "Zucchini          420\n",
       "Great               0\n",
       "dtype: int64"
      ]
     },
     "execution_count": 27,
     "metadata": {},
     "output_type": "execute_result"
    }
   ],
   "source": [
    "df.isnull().sum()"
   ]
  },
  {
   "cell_type": "code",
   "execution_count": 28,
   "metadata": {},
   "outputs": [
    {
     "data": {
      "text/plain": [
       "(421, 59)"
      ]
     },
     "execution_count": 28,
     "metadata": {},
     "output_type": "execute_result"
    }
   ],
   "source": [
    "df.shape"
   ]
  },
  {
   "cell_type": "markdown",
   "metadata": {},
   "source": [
    "With 421 observations, we can see that many of these variables simply do not contain much information (are 90+% missing values). It also looks like some may be partially encoded within other variables. I also drop date (in theory, this should not affect burrito quality, though there are arguments that it's worth checking this in a more formal analysis). For the time being, let's generate a subset with these features:"
   ]
  },
  {
   "cell_type": "code",
   "execution_count": 38,
   "metadata": {},
   "outputs": [],
   "source": [
    "features = [\"Burrito\", \"Cost\", \"Hunger\", \"Length\", \"Circum\", \n",
    "            \"Tortilla\", \"Temp\", \"Meat\", \"Fillings\", \"Uniformity\", \n",
    "            \"Salsa\",\"Synergy\", \"Wrap\"]\n",
    "target = \"Great\""
   ]
  },
  {
   "cell_type": "code",
   "execution_count": 39,
   "metadata": {},
   "outputs": [
    {
     "data": {
      "text/plain": [
       "Burrito                   object\n",
       "Date              datetime64[ns]\n",
       "Yelp                     float64\n",
       "Google                   float64\n",
       "Chips                     object\n",
       "Cost                     float64\n",
       "Hunger                   float64\n",
       "Mass (g)                 float64\n",
       "Density (g/mL)           float64\n",
       "Length                   float64\n",
       "Circum                   float64\n",
       "Volume                   float64\n",
       "Tortilla                 float64\n",
       "Temp                     float64\n",
       "Meat                     float64\n",
       "Fillings                 float64\n",
       "Meat:filling             float64\n",
       "Uniformity               float64\n",
       "Salsa                    float64\n",
       "Synergy                  float64\n",
       "Wrap                     float64\n",
       "Unreliable                object\n",
       "NonSD                     object\n",
       "Beef                      object\n",
       "Pico                      object\n",
       "Guac                      object\n",
       "Cheese                    object\n",
       "Fries                     object\n",
       "Sour cream                object\n",
       "Pork                      object\n",
       "Chicken                   object\n",
       "Shrimp                    object\n",
       "Fish                      object\n",
       "Rice                      object\n",
       "Beans                     object\n",
       "Lettuce                   object\n",
       "Tomato                    object\n",
       "Bell peper                object\n",
       "Carrots                   object\n",
       "Cabbage                   object\n",
       "Sauce                     object\n",
       "Salsa.1                   object\n",
       "Cilantro                  object\n",
       "Onion                     object\n",
       "Taquito                   object\n",
       "Pineapple                 object\n",
       "Ham                       object\n",
       "Chile relleno             object\n",
       "Nopales                   object\n",
       "Lobster                   object\n",
       "Queso                    float64\n",
       "Egg                       object\n",
       "Mushroom                  object\n",
       "Bacon                     object\n",
       "Sushi                     object\n",
       "Avocado                   object\n",
       "Corn                      object\n",
       "Zucchini                  object\n",
       "Great                       bool\n",
       "dtype: object"
      ]
     },
     "execution_count": 39,
     "metadata": {},
     "output_type": "execute_result"
    }
   ],
   "source": [
    "df.dtypes"
   ]
  },
  {
   "cell_type": "code",
   "execution_count": 40,
   "metadata": {},
   "outputs": [],
   "source": [
    "# Cast date as datetime\n",
    "df[\"Date\"] = pd.to_datetime(df[\"Date\"])"
   ]
  },
  {
   "cell_type": "code",
   "execution_count": 41,
   "metadata": {},
   "outputs": [],
   "source": [
    "train = df[df[\"Date\"].dt.year <= 2016]\n",
    "val = df[df[\"Date\"].dt.year == 2017]\n",
    "test = df[df[\"Date\"].dt.year == 2018]"
   ]
  },
  {
   "cell_type": "code",
   "execution_count": 50,
   "metadata": {},
   "outputs": [
    {
     "data": {
      "text/plain": [
       "0.40939597315436244"
      ]
     },
     "execution_count": 50,
     "metadata": {},
     "output_type": "execute_result"
    }
   ],
   "source": [
    "train[\"Great\"].mean()"
   ]
  },
  {
   "cell_type": "markdown",
   "metadata": {},
   "source": [
    "It looks like 40.9% of burritos in our training set were rated as \"Great\". Thus, a naive model simply predicting \"Not Great\" for every burrito would hit 59.1% accuracy. Let's see if we can beat that score!"
   ]
  },
  {
   "cell_type": "code",
   "execution_count": 58,
   "metadata": {},
   "outputs": [],
   "source": [
    "X_train = train[features]\n",
    "y_train = train[target]\n",
    "X_val = val[features]\n",
    "y_val = val[target]\n",
    "X_test = test[features]\n",
    "y_test = test[target]"
   ]
  },
  {
   "cell_type": "code",
   "execution_count": 59,
   "metadata": {},
   "outputs": [
    {
     "data": {
      "text/plain": [
       "((298, 13), (298,))"
      ]
     },
     "execution_count": 59,
     "metadata": {},
     "output_type": "execute_result"
    }
   ],
   "source": [
    "X_train.shape, y_train.shape"
   ]
  },
  {
   "cell_type": "code",
   "execution_count": 43,
   "metadata": {},
   "outputs": [
    {
     "data": {
      "text/html": [
       "<div>\n",
       "<style scoped>\n",
       "    .dataframe tbody tr th:only-of-type {\n",
       "        vertical-align: middle;\n",
       "    }\n",
       "\n",
       "    .dataframe tbody tr th {\n",
       "        vertical-align: top;\n",
       "    }\n",
       "\n",
       "    .dataframe thead th {\n",
       "        text-align: right;\n",
       "    }\n",
       "</style>\n",
       "<table border=\"1\" class=\"dataframe\">\n",
       "  <thead>\n",
       "    <tr style=\"text-align: right;\">\n",
       "      <th></th>\n",
       "      <th>Burrito</th>\n",
       "      <th>Cost</th>\n",
       "      <th>Hunger</th>\n",
       "      <th>Length</th>\n",
       "      <th>Circum</th>\n",
       "      <th>Tortilla</th>\n",
       "      <th>Temp</th>\n",
       "      <th>Meat</th>\n",
       "      <th>Fillings</th>\n",
       "      <th>Uniformity</th>\n",
       "      <th>Salsa</th>\n",
       "      <th>Synergy</th>\n",
       "      <th>Wrap</th>\n",
       "    </tr>\n",
       "  </thead>\n",
       "  <tbody>\n",
       "    <tr>\n",
       "      <th>0</th>\n",
       "      <td>California</td>\n",
       "      <td>6.49</td>\n",
       "      <td>3.0</td>\n",
       "      <td>NaN</td>\n",
       "      <td>NaN</td>\n",
       "      <td>3.0</td>\n",
       "      <td>5.0</td>\n",
       "      <td>3.0</td>\n",
       "      <td>3.5</td>\n",
       "      <td>4.0</td>\n",
       "      <td>4.0</td>\n",
       "      <td>4.0</td>\n",
       "      <td>4.0</td>\n",
       "    </tr>\n",
       "    <tr>\n",
       "      <th>1</th>\n",
       "      <td>California</td>\n",
       "      <td>5.45</td>\n",
       "      <td>3.5</td>\n",
       "      <td>NaN</td>\n",
       "      <td>NaN</td>\n",
       "      <td>2.0</td>\n",
       "      <td>3.5</td>\n",
       "      <td>2.5</td>\n",
       "      <td>2.5</td>\n",
       "      <td>4.0</td>\n",
       "      <td>3.5</td>\n",
       "      <td>2.5</td>\n",
       "      <td>5.0</td>\n",
       "    </tr>\n",
       "    <tr>\n",
       "      <th>2</th>\n",
       "      <td>Carnitas</td>\n",
       "      <td>4.85</td>\n",
       "      <td>1.5</td>\n",
       "      <td>NaN</td>\n",
       "      <td>NaN</td>\n",
       "      <td>3.0</td>\n",
       "      <td>2.0</td>\n",
       "      <td>2.5</td>\n",
       "      <td>3.0</td>\n",
       "      <td>4.0</td>\n",
       "      <td>3.0</td>\n",
       "      <td>3.0</td>\n",
       "      <td>5.0</td>\n",
       "    </tr>\n",
       "    <tr>\n",
       "      <th>3</th>\n",
       "      <td>Asada</td>\n",
       "      <td>5.25</td>\n",
       "      <td>2.0</td>\n",
       "      <td>NaN</td>\n",
       "      <td>NaN</td>\n",
       "      <td>3.0</td>\n",
       "      <td>2.0</td>\n",
       "      <td>3.5</td>\n",
       "      <td>3.0</td>\n",
       "      <td>5.0</td>\n",
       "      <td>4.0</td>\n",
       "      <td>4.0</td>\n",
       "      <td>5.0</td>\n",
       "    </tr>\n",
       "    <tr>\n",
       "      <th>4</th>\n",
       "      <td>California</td>\n",
       "      <td>6.59</td>\n",
       "      <td>4.0</td>\n",
       "      <td>NaN</td>\n",
       "      <td>NaN</td>\n",
       "      <td>4.0</td>\n",
       "      <td>5.0</td>\n",
       "      <td>4.0</td>\n",
       "      <td>3.5</td>\n",
       "      <td>5.0</td>\n",
       "      <td>2.5</td>\n",
       "      <td>4.5</td>\n",
       "      <td>4.0</td>\n",
       "    </tr>\n",
       "  </tbody>\n",
       "</table>\n",
       "</div>"
      ],
      "text/plain": [
       "      Burrito  Cost  Hunger  Length  Circum  Tortilla  Temp  Meat  Fillings  \\\n",
       "0  California  6.49     3.0     NaN     NaN       3.0   5.0   3.0       3.5   \n",
       "1  California  5.45     3.5     NaN     NaN       2.0   3.5   2.5       2.5   \n",
       "2    Carnitas  4.85     1.5     NaN     NaN       3.0   2.0   2.5       3.0   \n",
       "3       Asada  5.25     2.0     NaN     NaN       3.0   2.0   3.5       3.0   \n",
       "4  California  6.59     4.0     NaN     NaN       4.0   5.0   4.0       3.5   \n",
       "\n",
       "   Uniformity  Salsa  Synergy  Wrap  \n",
       "0         4.0    4.0      4.0   4.0  \n",
       "1         4.0    3.5      2.5   5.0  \n",
       "2         4.0    3.0      3.0   5.0  \n",
       "3         5.0    4.0      4.0   5.0  \n",
       "4         5.0    2.5      4.5   4.0  "
      ]
     },
     "execution_count": 43,
     "metadata": {},
     "output_type": "execute_result"
    }
   ],
   "source": [
    "X_train.head()"
   ]
  },
  {
   "cell_type": "code",
   "execution_count": 44,
   "metadata": {},
   "outputs": [
    {
     "data": {
      "text/html": [
       "<div>\n",
       "<style scoped>\n",
       "    .dataframe tbody tr th:only-of-type {\n",
       "        vertical-align: middle;\n",
       "    }\n",
       "\n",
       "    .dataframe tbody tr th {\n",
       "        vertical-align: top;\n",
       "    }\n",
       "\n",
       "    .dataframe thead th {\n",
       "        text-align: right;\n",
       "    }\n",
       "</style>\n",
       "<table border=\"1\" class=\"dataframe\">\n",
       "  <thead>\n",
       "    <tr style=\"text-align: right;\">\n",
       "      <th></th>\n",
       "      <th>Length</th>\n",
       "      <th>Circum</th>\n",
       "    </tr>\n",
       "  </thead>\n",
       "  <tbody>\n",
       "    <tr>\n",
       "      <th>count</th>\n",
       "      <td>175.000000</td>\n",
       "      <td>174.000000</td>\n",
       "    </tr>\n",
       "    <tr>\n",
       "      <th>mean</th>\n",
       "      <td>19.829886</td>\n",
       "      <td>22.042241</td>\n",
       "    </tr>\n",
       "    <tr>\n",
       "      <th>std</th>\n",
       "      <td>2.081275</td>\n",
       "      <td>1.685043</td>\n",
       "    </tr>\n",
       "    <tr>\n",
       "      <th>min</th>\n",
       "      <td>15.000000</td>\n",
       "      <td>17.000000</td>\n",
       "    </tr>\n",
       "    <tr>\n",
       "      <th>25%</th>\n",
       "      <td>18.500000</td>\n",
       "      <td>21.000000</td>\n",
       "    </tr>\n",
       "    <tr>\n",
       "      <th>50%</th>\n",
       "      <td>19.500000</td>\n",
       "      <td>22.000000</td>\n",
       "    </tr>\n",
       "    <tr>\n",
       "      <th>75%</th>\n",
       "      <td>21.000000</td>\n",
       "      <td>23.000000</td>\n",
       "    </tr>\n",
       "    <tr>\n",
       "      <th>max</th>\n",
       "      <td>26.000000</td>\n",
       "      <td>27.000000</td>\n",
       "    </tr>\n",
       "  </tbody>\n",
       "</table>\n",
       "</div>"
      ],
      "text/plain": [
       "           Length      Circum\n",
       "count  175.000000  174.000000\n",
       "mean    19.829886   22.042241\n",
       "std      2.081275    1.685043\n",
       "min     15.000000   17.000000\n",
       "25%     18.500000   21.000000\n",
       "50%     19.500000   22.000000\n",
       "75%     21.000000   23.000000\n",
       "max     26.000000   27.000000"
      ]
     },
     "execution_count": 44,
     "metadata": {},
     "output_type": "execute_result"
    }
   ],
   "source": [
    "X_train[[\"Length\", \"Circum\"]].describe()"
   ]
  },
  {
   "cell_type": "code",
   "execution_count": 46,
   "metadata": {},
   "outputs": [],
   "source": [
    "import category_encoders as ce\n",
    "\n",
    "encoder = ce.OneHotEncoder(use_cat_names = True)\n",
    "X_train_encoded = encoder.fit_transform(X_train)\n",
    "X_val_encoded = encoder.transform(X_val)"
   ]
  },
  {
   "cell_type": "markdown",
   "metadata": {},
   "source": [
    "It looks like we have a substantial number of null values in length and circumference. Let's impute those with the mean of the data so we can use the data from the rows where we do have values in order to explore any relationship. Mean seems like a fair imputation; I speculate that people not including these values did so out of laziness rather than due to any pattern."
   ]
  },
  {
   "cell_type": "code",
   "execution_count": 48,
   "metadata": {},
   "outputs": [],
   "source": [
    "from sklearn.impute import SimpleImputer\n",
    "\n",
    "imputer = SimpleImputer()\n",
    "X_train_imputed = imputer.fit_transform(X_train_encoded)\n",
    "X_val_imputed = imputer.transform(X_val_encoded)"
   ]
  },
  {
   "cell_type": "code",
   "execution_count": 52,
   "metadata": {},
   "outputs": [],
   "source": [
    "from sklearn.preprocessing import StandardScaler\n",
    "from sklearn.metrics import accuracy_score\n",
    "from sklearn.linear_model import LogisticRegressionCV\n",
    "\n",
    "scaler = StandardScaler()\n",
    "X_train_scaled = scaler.fit_transform(X_train_imputed)\n",
    "X_val_scaled = scaler.fit_transform(X_val_imputed)"
   ]
  },
  {
   "cell_type": "code",
   "execution_count": 55,
   "metadata": {},
   "outputs": [
    {
     "data": {
      "text/html": [
       "<div>\n",
       "<style scoped>\n",
       "    .dataframe tbody tr th:only-of-type {\n",
       "        vertical-align: middle;\n",
       "    }\n",
       "\n",
       "    .dataframe tbody tr th {\n",
       "        vertical-align: top;\n",
       "    }\n",
       "\n",
       "    .dataframe thead th {\n",
       "        text-align: right;\n",
       "    }\n",
       "</style>\n",
       "<table border=\"1\" class=\"dataframe\">\n",
       "  <thead>\n",
       "    <tr style=\"text-align: right;\">\n",
       "      <th></th>\n",
       "      <th>Burrito_California</th>\n",
       "      <th>Burrito_Carnitas</th>\n",
       "      <th>Burrito_Asada</th>\n",
       "      <th>Burrito_Other</th>\n",
       "      <th>Burrito_Surf &amp; Turf</th>\n",
       "      <th>Cost</th>\n",
       "      <th>Hunger</th>\n",
       "      <th>Length</th>\n",
       "      <th>Circum</th>\n",
       "      <th>Tortilla</th>\n",
       "      <th>Temp</th>\n",
       "      <th>Meat</th>\n",
       "      <th>Fillings</th>\n",
       "      <th>Uniformity</th>\n",
       "      <th>Salsa</th>\n",
       "      <th>Synergy</th>\n",
       "      <th>Wrap</th>\n",
       "    </tr>\n",
       "  </thead>\n",
       "  <tbody>\n",
       "    <tr>\n",
       "      <th>0</th>\n",
       "      <td>1.235080</td>\n",
       "      <td>-0.222027</td>\n",
       "      <td>-0.364801</td>\n",
       "      <td>-0.764922</td>\n",
       "      <td>-0.27534</td>\n",
       "      <td>-0.339805</td>\n",
       "      <td>-0.524307</td>\n",
       "      <td>0.0</td>\n",
       "      <td>0.0</td>\n",
       "      <td>-0.593162</td>\n",
       "      <td>1.340696</td>\n",
       "      <td>-0.645992</td>\n",
       "      <td>-0.022447</td>\n",
       "      <td>0.557478</td>\n",
       "      <td>0.721245</td>\n",
       "      <td>0.500993</td>\n",
       "      <td>0.038686</td>\n",
       "    </tr>\n",
       "    <tr>\n",
       "      <th>1</th>\n",
       "      <td>1.235080</td>\n",
       "      <td>-0.222027</td>\n",
       "      <td>-0.364801</td>\n",
       "      <td>-0.764922</td>\n",
       "      <td>-0.27534</td>\n",
       "      <td>-1.208571</td>\n",
       "      <td>0.064423</td>\n",
       "      <td>0.0</td>\n",
       "      <td>0.0</td>\n",
       "      <td>-1.849023</td>\n",
       "      <td>-0.213867</td>\n",
       "      <td>-1.231964</td>\n",
       "      <td>-1.202403</td>\n",
       "      <td>0.557478</td>\n",
       "      <td>0.187274</td>\n",
       "      <td>-1.133401</td>\n",
       "      <td>0.899679</td>\n",
       "    </tr>\n",
       "    <tr>\n",
       "      <th>2</th>\n",
       "      <td>-0.809664</td>\n",
       "      <td>4.503967</td>\n",
       "      <td>-0.364801</td>\n",
       "      <td>-0.764922</td>\n",
       "      <td>-0.27534</td>\n",
       "      <td>-1.709783</td>\n",
       "      <td>-2.290496</td>\n",
       "      <td>0.0</td>\n",
       "      <td>0.0</td>\n",
       "      <td>-0.593162</td>\n",
       "      <td>-1.768429</td>\n",
       "      <td>-1.231964</td>\n",
       "      <td>-0.612425</td>\n",
       "      <td>0.557478</td>\n",
       "      <td>-0.346697</td>\n",
       "      <td>-0.588603</td>\n",
       "      <td>0.899679</td>\n",
       "    </tr>\n",
       "    <tr>\n",
       "      <th>3</th>\n",
       "      <td>-0.809664</td>\n",
       "      <td>-0.222027</td>\n",
       "      <td>2.741220</td>\n",
       "      <td>-0.764922</td>\n",
       "      <td>-0.27534</td>\n",
       "      <td>-1.375642</td>\n",
       "      <td>-1.701766</td>\n",
       "      <td>0.0</td>\n",
       "      <td>0.0</td>\n",
       "      <td>-0.593162</td>\n",
       "      <td>-1.768429</td>\n",
       "      <td>-0.060021</td>\n",
       "      <td>-0.612425</td>\n",
       "      <td>1.480371</td>\n",
       "      <td>0.721245</td>\n",
       "      <td>0.500993</td>\n",
       "      <td>0.899679</td>\n",
       "    </tr>\n",
       "    <tr>\n",
       "      <th>4</th>\n",
       "      <td>1.235080</td>\n",
       "      <td>-0.222027</td>\n",
       "      <td>-0.364801</td>\n",
       "      <td>-0.764922</td>\n",
       "      <td>-0.27534</td>\n",
       "      <td>-0.256270</td>\n",
       "      <td>0.653153</td>\n",
       "      <td>0.0</td>\n",
       "      <td>0.0</td>\n",
       "      <td>0.662698</td>\n",
       "      <td>1.340696</td>\n",
       "      <td>0.525950</td>\n",
       "      <td>-0.022447</td>\n",
       "      <td>1.480371</td>\n",
       "      <td>-0.880668</td>\n",
       "      <td>1.045791</td>\n",
       "      <td>0.038686</td>\n",
       "    </tr>\n",
       "  </tbody>\n",
       "</table>\n",
       "</div>"
      ],
      "text/plain": [
       "   Burrito_California  Burrito_Carnitas  Burrito_Asada  Burrito_Other  \\\n",
       "0            1.235080         -0.222027      -0.364801      -0.764922   \n",
       "1            1.235080         -0.222027      -0.364801      -0.764922   \n",
       "2           -0.809664          4.503967      -0.364801      -0.764922   \n",
       "3           -0.809664         -0.222027       2.741220      -0.764922   \n",
       "4            1.235080         -0.222027      -0.364801      -0.764922   \n",
       "\n",
       "   Burrito_Surf & Turf      Cost    Hunger  Length  Circum  Tortilla  \\\n",
       "0             -0.27534 -0.339805 -0.524307     0.0     0.0 -0.593162   \n",
       "1             -0.27534 -1.208571  0.064423     0.0     0.0 -1.849023   \n",
       "2             -0.27534 -1.709783 -2.290496     0.0     0.0 -0.593162   \n",
       "3             -0.27534 -1.375642 -1.701766     0.0     0.0 -0.593162   \n",
       "4             -0.27534 -0.256270  0.653153     0.0     0.0  0.662698   \n",
       "\n",
       "       Temp      Meat  Fillings  Uniformity     Salsa   Synergy      Wrap  \n",
       "0  1.340696 -0.645992 -0.022447    0.557478  0.721245  0.500993  0.038686  \n",
       "1 -0.213867 -1.231964 -1.202403    0.557478  0.187274 -1.133401  0.899679  \n",
       "2 -1.768429 -1.231964 -0.612425    0.557478 -0.346697 -0.588603  0.899679  \n",
       "3 -1.768429 -0.060021 -0.612425    1.480371  0.721245  0.500993  0.899679  \n",
       "4  1.340696  0.525950 -0.022447    1.480371 -0.880668  1.045791  0.038686  "
      ]
     },
     "execution_count": 55,
     "metadata": {},
     "output_type": "execute_result"
    }
   ],
   "source": [
    "pd.DataFrame(X_train_scaled, columns = X_train_encoded.columns).head()"
   ]
  },
  {
   "cell_type": "code",
   "execution_count": 61,
   "metadata": {},
   "outputs": [
    {
     "name": "stdout",
     "output_type": "stream",
     "text": [
      "Training Accuracy 0.8859060402684564\n"
     ]
    }
   ],
   "source": [
    "model = LogisticRegressionCV()\n",
    "model.fit(X_train_scaled, y_train)\n",
    "print('Training Accuracy', model.score(X_train_scaled, y_train))"
   ]
  },
  {
   "cell_type": "markdown",
   "metadata": {},
   "source": [
    "88% accuracy on our training set. Not bad -- quite a bit better than guessing! Let's see if that accuracy holds up on our validation set."
   ]
  },
  {
   "cell_type": "code",
   "execution_count": 62,
   "metadata": {},
   "outputs": [
    {
     "name": "stdout",
     "output_type": "stream",
     "text": [
      "Validation Accuracy 0.8588235294117647\n"
     ]
    }
   ],
   "source": [
    "print(\"Validation Accuracy\", model.score(X_val_scaled, y_val))"
   ]
  },
  {
   "cell_type": "markdown",
   "metadata": {},
   "source": [
    "85% accuracy on the validation set -- still not bad!"
   ]
  },
  {
   "cell_type": "code",
   "execution_count": 63,
   "metadata": {},
   "outputs": [],
   "source": [
    "X_test_encoded = encoder.transform(X_test)\n",
    "X_test_imputed = imputer.transform(X_test_encoded)\n",
    "X_test_scaled = scaler.transform(X_test_imputed)\n",
    "y_test_pred = model.predict(X_test_scaled)"
   ]
  },
  {
   "cell_type": "code",
   "execution_count": 69,
   "metadata": {},
   "outputs": [
    {
     "data": {
      "text/plain": [
       "0.7037037037037037"
      ]
     },
     "execution_count": 69,
     "metadata": {},
     "output_type": "execute_result"
    }
   ],
   "source": [
    "model.score(X_test_scaled, y_test)"
   ]
  },
  {
   "cell_type": "code",
   "execution_count": 70,
   "metadata": {},
   "outputs": [
    {
     "data": {
      "text/plain": [
       "((298,), (85,), (27,))"
      ]
     },
     "execution_count": 70,
     "metadata": {},
     "output_type": "execute_result"
    }
   ],
   "source": [
    "y_train.shape, y_val.shape, y_test.shape"
   ]
  },
  {
   "cell_type": "markdown",
   "metadata": {},
   "source": [
    "Our model only scored 70.4% on the test set. That's fairly disappointing. However, this could be due to simple negative variance -- the test set only had 27 observations, making a precise estimate of model strength difficult. "
   ]
  }
 ],
 "metadata": {
  "kernelspec": {
   "display_name": "Python 3",
   "language": "python",
   "name": "python3"
  },
  "language_info": {
   "codemirror_mode": {
    "name": "ipython",
    "version": 3
   },
   "file_extension": ".py",
   "mimetype": "text/x-python",
   "name": "python",
   "nbconvert_exporter": "python",
   "pygments_lexer": "ipython3",
   "version": "3.7.6"
  }
 },
 "nbformat": 4,
 "nbformat_minor": 1
}
