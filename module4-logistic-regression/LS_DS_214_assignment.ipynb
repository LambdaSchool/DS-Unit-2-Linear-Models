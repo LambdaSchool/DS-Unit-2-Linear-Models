{
  "nbformat": 4,
  "nbformat_minor": 0,
  "metadata": {
    "kernelspec": {
      "display_name": "Python 3",
      "language": "python",
      "name": "python3"
    },
    "language_info": {
      "codemirror_mode": {
        "name": "ipython",
        "version": 3
      },
      "file_extension": ".py",
      "mimetype": "text/x-python",
      "name": "python",
      "nbconvert_exporter": "python",
      "pygments_lexer": "ipython3",
      "version": "3.7.3"
    },
    "colab": {
      "name": "LS_DS_214_assignment.ipynb",
      "provenance": [],
      "collapsed_sections": [],
      "include_colab_link": true
    }
  },
  "cells": [
    {
      "cell_type": "markdown",
      "metadata": {
        "id": "view-in-github",
        "colab_type": "text"
      },
      "source": [
        "<a href=\"https://colab.research.google.com/github/BrokenShell/DS-Unit-2-Linear-Models/blob/master/module4-logistic-regression/LS_DS_214_assignment.ipynb\" target=\"_parent\"><img src=\"https://colab.research.google.com/assets/colab-badge.svg\" alt=\"Open In Colab\"/></a>"
      ]
    },
    {
      "cell_type": "markdown",
      "metadata": {
        "id": "fBdDM6bH5SNE",
        "colab_type": "text"
      },
      "source": [
        "Lambda School Data Science\n",
        "\n",
        "*Unit 2, Sprint 1, Module 4*\n",
        "\n",
        "---"
      ]
    },
    {
      "cell_type": "markdown",
      "metadata": {
        "colab_type": "text",
        "id": "7IXUfiQ2UKj6"
      },
      "source": [
        "# Logistic Regression\n",
        "\n",
        "\n",
        "## Assignment 🌯\n",
        "\n",
        "You'll use a [**dataset of 400+ burrito reviews**](https://srcole.github.io/100burritos/). How accurately can you predict whether a burrito is rated 'Great'?\n",
        "\n",
        "> We have developed a 10-dimensional system for rating the burritos in San Diego. ... Generate models for what makes a burrito great and investigate correlations in its dimensions.\n",
        "\n",
        "- [x] Do train/validate/test split. Train on reviews from 2016 & earlier. Validate on 2017. Test on 2018 & later.\n",
        "- [x] Begin with baselines for classification.\n",
        "- [x] Use scikit-learn for logistic regression.\n",
        "- [x] Get your model's validation accuracy. (Multiple times if you try multiple iterations.)\n",
        "- [x] Get your model's test accuracy. (One time, at the end.)\n",
        "- [x] Commit your notebook to your fork of the GitHub repo.\n",
        "\n",
        "\n",
        "## Stretch Goals\n",
        "\n",
        "- [x] Add your own stretch goal(s) ! **Ingredient, Type, Cat Rating**\n",
        "- [x] Make exploratory visualizations.\n",
        "- [x] Do one-hot encoding.\n",
        "- [x] Do [feature scaling](https://scikit-learn.org/stable/modules/preprocessing.html).\n",
        "- [ ] Get and plot your coefficients.\n",
        "- [x] Try [scikit-learn pipelines](https://scikit-learn.org/stable/modules/compose.html)."
      ]
    },
    {
      "cell_type": "code",
      "metadata": {
        "colab_type": "code",
        "id": "o9eSnDYhUGD7",
        "colab": {}
      },
      "source": [
        "%%capture\n",
        "import sys\n",
        "\n",
        "# If you're on Colab:\n",
        "if 'google.colab' in sys.modules:\n",
        "    DATA_PATH = 'https://raw.githubusercontent.com/LambdaSchool/DS-Unit-2-Linear-Models/master/data/'\n",
        "    !pip install category_encoders==2.*\n",
        "\n",
        "# If you're working locally:\n",
        "else:\n",
        "    DATA_PATH = '../data/'"
      ],
      "execution_count": 0,
      "outputs": []
    },
    {
      "cell_type": "code",
      "metadata": {
        "id": "mThB_7m-5SNN",
        "colab_type": "code",
        "colab": {}
      },
      "source": [
        "# Load data downloaded from https://srcole.github.io/100burritos/\n",
        "import pandas as pd\n",
        "df = pd.read_csv(DATA_PATH+'burritos/burritos.csv')"
      ],
      "execution_count": 0,
      "outputs": []
    },
    {
      "cell_type": "code",
      "metadata": {
        "id": "wQ5CJUjb5SNR",
        "colab_type": "code",
        "colab": {}
      },
      "source": [
        "# Derive binary classification target:\n",
        "# We define a 'Great' burrito as having an\n",
        "# overall rating of 4 or higher, on a 5 point scale.\n",
        "# Drop unrated burritos.\n",
        "df = df.dropna(subset=['overall'])\n",
        "df['Great'] = df['overall'] >= 4"
      ],
      "execution_count": 0,
      "outputs": []
    },
    {
      "cell_type": "code",
      "metadata": {
        "id": "HqolZ5el5SNV",
        "colab_type": "code",
        "colab": {}
      },
      "source": [
        "# Clean/combine the Burrito categories\n",
        "df['Burrito'] = df['Burrito'].str.lower()\n",
        "\n",
        "california = df['Burrito'].str.contains('california', case=False)\n",
        "asada = df['Burrito'].str.contains('asada', case=False)\n",
        "surf = df['Burrito'].str.contains('surf &|and turf', case=False)\n",
        "carnitas = df['Burrito'].str.contains('carnitas', case=False)\n",
        "\n",
        "df.loc[california, 'Burrito'] = 'California'\n",
        "df.loc[asada, 'Burrito'] = 'Carne Asada'\n",
        "df.loc[surf, 'Burrito'] = 'Surf & Turf'\n",
        "df.loc[carnitas, 'Burrito'] = 'Carnitas'\n",
        "df.loc[~california & ~asada & ~surf & ~carnitas, 'Burrito'] = 'Other'"
      ],
      "execution_count": 0,
      "outputs": []
    },
    {
      "cell_type": "code",
      "metadata": {
        "id": "K2r2DBONaunm",
        "colab_type": "code",
        "outputId": "85903bd0-bae3-4bd9-8e6f-30cecaece52c",
        "colab": {
          "base_uri": "https://localhost:8080/",
          "height": 119
        }
      },
      "source": [
        "df['Burrito'].value_counts()"
      ],
      "execution_count": 0,
      "outputs": [
        {
          "output_type": "execute_result",
          "data": {
            "text/plain": [
              "California     179\n",
              "Other          156\n",
              "Carne Asada     43\n",
              "Carnitas        25\n",
              "Surf & Turf     18\n",
              "Name: Burrito, dtype: int64"
            ]
          },
          "metadata": {
            "tags": []
          },
          "execution_count": 7
        }
      ]
    },
    {
      "cell_type": "markdown",
      "metadata": {
        "id": "4Gf-nO3JJAGQ",
        "colab_type": "text"
      },
      "source": [
        "### Data Cleaning"
      ]
    },
    {
      "cell_type": "code",
      "metadata": {
        "id": "0fz_MFS65SNZ",
        "colab_type": "code",
        "colab": {}
      },
      "source": [
        "# Drop some high cardinality categoricals\n",
        "df = df.drop(columns=['Notes', 'Location', 'Reviewer', 'Address', 'URL', 'Neighborhood'])"
      ],
      "execution_count": 0,
      "outputs": []
    },
    {
      "cell_type": "code",
      "metadata": {
        "id": "hnM40CPL5SNc",
        "colab_type": "code",
        "colab": {}
      },
      "source": [
        "# Drop some columns to prevent \"leakage\"\n",
        "df = df.drop(columns=['Rec', 'overall', 'Yelp', 'Google', 'Hunger', 'Unreliable'])"
      ],
      "execution_count": 0,
      "outputs": []
    },
    {
      "cell_type": "code",
      "metadata": {
        "id": "fs8DnugeI_xT",
        "colab_type": "code",
        "colab": {}
      },
      "source": [
        "# removing more feature that don't seem interesting\n",
        "df = df.drop(columns=['Mass (g)', 'Density (g/mL)', 'Length', 'Circum', 'Volume', 'Cost', 'NonSD'])\n",
        "df = df.drop(columns=['Lobster', 'Queso', 'Zucchini', 'Carrots'])"
      ],
      "execution_count": 0,
      "outputs": []
    },
    {
      "cell_type": "code",
      "metadata": {
        "id": "_YpoGWNTj5z5",
        "colab_type": "code",
        "colab": {}
      },
      "source": [
        "df_ratings = df.copy() # will use this later\n",
        "\n",
        "df = df.drop(columns=[\n",
        "    'Tortilla', 'Temp', 'Meat', 'Fillings', 'Meat:filling', \n",
        "    'Uniformity', 'Salsa', 'Synergy', 'Wrap',\n",
        "])"
      ],
      "execution_count": 0,
      "outputs": []
    },
    {
      "cell_type": "code",
      "metadata": {
        "id": "bhC71Ay1MJNe",
        "colab_type": "code",
        "colab": {}
      },
      "source": [
        "def make_binary(item):\n",
        "    \"\"\" custom encoding \"\"\"\n",
        "    return 1 if item in ('x', 'X') else 0"
      ],
      "execution_count": 0,
      "outputs": []
    },
    {
      "cell_type": "code",
      "metadata": {
        "id": "gp0d2VkmMmbw",
        "colab_type": "code",
        "colab": {}
      },
      "source": [
        "fillings = [\n",
        "    'Chips', 'Beef', 'Pico', 'Guac', 'Cheese',\n",
        "    'Fries', 'Sour cream', 'Pork', 'Chicken', 'Shrimp', 'Fish', 'Rice',\n",
        "    'Beans', 'Lettuce', 'Tomato', 'Bell peper', 'Cabbage',\n",
        "    'Sauce', 'Salsa.1', 'Cilantro', 'Onion', 'Taquito', 'Pineapple',\n",
        "    'Ham', 'Chile relleno', 'Nopales', 'Egg',\n",
        "    'Mushroom', 'Bacon', 'Sushi', 'Avocado', 'Corn',\n",
        "]\n",
        "for col in fillings:\n",
        "    df[col] = df[col].apply(make_binary)"
      ],
      "execution_count": 0,
      "outputs": []
    },
    {
      "cell_type": "code",
      "metadata": {
        "id": "ZbWyZbZXhFoq",
        "colab_type": "code",
        "colab": {}
      },
      "source": [
        "df['Great'] = df['Great'].apply(int)"
      ],
      "execution_count": 0,
      "outputs": []
    },
    {
      "cell_type": "code",
      "metadata": {
        "id": "c6kmZv0y_uOY",
        "colab_type": "code",
        "outputId": "8ead6e84-6f53-45b3-dc48-934bff983929",
        "colab": {
          "base_uri": "https://localhost:8080/",
          "height": 430
        }
      },
      "source": [
        "df.head(10)"
      ],
      "execution_count": 0,
      "outputs": [
        {
          "output_type": "execute_result",
          "data": {
            "text/html": [
              "<div>\n",
              "<style scoped>\n",
              "    .dataframe tbody tr th:only-of-type {\n",
              "        vertical-align: middle;\n",
              "    }\n",
              "\n",
              "    .dataframe tbody tr th {\n",
              "        vertical-align: top;\n",
              "    }\n",
              "\n",
              "    .dataframe thead th {\n",
              "        text-align: right;\n",
              "    }\n",
              "</style>\n",
              "<table border=\"1\" class=\"dataframe\">\n",
              "  <thead>\n",
              "    <tr style=\"text-align: right;\">\n",
              "      <th></th>\n",
              "      <th>Burrito</th>\n",
              "      <th>Date</th>\n",
              "      <th>Chips</th>\n",
              "      <th>Beef</th>\n",
              "      <th>Pico</th>\n",
              "      <th>Guac</th>\n",
              "      <th>Cheese</th>\n",
              "      <th>Fries</th>\n",
              "      <th>Sour cream</th>\n",
              "      <th>Pork</th>\n",
              "      <th>Chicken</th>\n",
              "      <th>Shrimp</th>\n",
              "      <th>Fish</th>\n",
              "      <th>Rice</th>\n",
              "      <th>Beans</th>\n",
              "      <th>Lettuce</th>\n",
              "      <th>Tomato</th>\n",
              "      <th>Bell peper</th>\n",
              "      <th>Cabbage</th>\n",
              "      <th>Sauce</th>\n",
              "      <th>Salsa.1</th>\n",
              "      <th>Cilantro</th>\n",
              "      <th>Onion</th>\n",
              "      <th>Taquito</th>\n",
              "      <th>Pineapple</th>\n",
              "      <th>Ham</th>\n",
              "      <th>Chile relleno</th>\n",
              "      <th>Nopales</th>\n",
              "      <th>Egg</th>\n",
              "      <th>Mushroom</th>\n",
              "      <th>Bacon</th>\n",
              "      <th>Sushi</th>\n",
              "      <th>Avocado</th>\n",
              "      <th>Corn</th>\n",
              "      <th>Great</th>\n",
              "    </tr>\n",
              "  </thead>\n",
              "  <tbody>\n",
              "    <tr>\n",
              "      <th>0</th>\n",
              "      <td>California</td>\n",
              "      <td>1/18/2016</td>\n",
              "      <td>0</td>\n",
              "      <td>1</td>\n",
              "      <td>1</td>\n",
              "      <td>1</td>\n",
              "      <td>1</td>\n",
              "      <td>1</td>\n",
              "      <td>0</td>\n",
              "      <td>0</td>\n",
              "      <td>0</td>\n",
              "      <td>0</td>\n",
              "      <td>0</td>\n",
              "      <td>0</td>\n",
              "      <td>0</td>\n",
              "      <td>0</td>\n",
              "      <td>0</td>\n",
              "      <td>0</td>\n",
              "      <td>0</td>\n",
              "      <td>0</td>\n",
              "      <td>0</td>\n",
              "      <td>0</td>\n",
              "      <td>0</td>\n",
              "      <td>0</td>\n",
              "      <td>0</td>\n",
              "      <td>0</td>\n",
              "      <td>0</td>\n",
              "      <td>0</td>\n",
              "      <td>0</td>\n",
              "      <td>0</td>\n",
              "      <td>0</td>\n",
              "      <td>0</td>\n",
              "      <td>0</td>\n",
              "      <td>0</td>\n",
              "      <td>0</td>\n",
              "    </tr>\n",
              "    <tr>\n",
              "      <th>1</th>\n",
              "      <td>California</td>\n",
              "      <td>1/24/2016</td>\n",
              "      <td>0</td>\n",
              "      <td>1</td>\n",
              "      <td>1</td>\n",
              "      <td>1</td>\n",
              "      <td>1</td>\n",
              "      <td>1</td>\n",
              "      <td>0</td>\n",
              "      <td>0</td>\n",
              "      <td>0</td>\n",
              "      <td>0</td>\n",
              "      <td>0</td>\n",
              "      <td>0</td>\n",
              "      <td>0</td>\n",
              "      <td>0</td>\n",
              "      <td>0</td>\n",
              "      <td>0</td>\n",
              "      <td>0</td>\n",
              "      <td>0</td>\n",
              "      <td>0</td>\n",
              "      <td>0</td>\n",
              "      <td>0</td>\n",
              "      <td>0</td>\n",
              "      <td>0</td>\n",
              "      <td>0</td>\n",
              "      <td>0</td>\n",
              "      <td>0</td>\n",
              "      <td>0</td>\n",
              "      <td>0</td>\n",
              "      <td>0</td>\n",
              "      <td>0</td>\n",
              "      <td>0</td>\n",
              "      <td>0</td>\n",
              "      <td>0</td>\n",
              "    </tr>\n",
              "    <tr>\n",
              "      <th>2</th>\n",
              "      <td>Carnitas</td>\n",
              "      <td>1/24/2016</td>\n",
              "      <td>0</td>\n",
              "      <td>0</td>\n",
              "      <td>1</td>\n",
              "      <td>1</td>\n",
              "      <td>0</td>\n",
              "      <td>0</td>\n",
              "      <td>0</td>\n",
              "      <td>1</td>\n",
              "      <td>0</td>\n",
              "      <td>0</td>\n",
              "      <td>0</td>\n",
              "      <td>0</td>\n",
              "      <td>0</td>\n",
              "      <td>0</td>\n",
              "      <td>0</td>\n",
              "      <td>0</td>\n",
              "      <td>0</td>\n",
              "      <td>0</td>\n",
              "      <td>0</td>\n",
              "      <td>0</td>\n",
              "      <td>0</td>\n",
              "      <td>0</td>\n",
              "      <td>0</td>\n",
              "      <td>0</td>\n",
              "      <td>0</td>\n",
              "      <td>0</td>\n",
              "      <td>0</td>\n",
              "      <td>0</td>\n",
              "      <td>0</td>\n",
              "      <td>0</td>\n",
              "      <td>0</td>\n",
              "      <td>0</td>\n",
              "      <td>0</td>\n",
              "    </tr>\n",
              "    <tr>\n",
              "      <th>3</th>\n",
              "      <td>Carne Asada</td>\n",
              "      <td>1/24/2016</td>\n",
              "      <td>0</td>\n",
              "      <td>1</td>\n",
              "      <td>1</td>\n",
              "      <td>1</td>\n",
              "      <td>0</td>\n",
              "      <td>0</td>\n",
              "      <td>0</td>\n",
              "      <td>0</td>\n",
              "      <td>0</td>\n",
              "      <td>0</td>\n",
              "      <td>0</td>\n",
              "      <td>0</td>\n",
              "      <td>0</td>\n",
              "      <td>0</td>\n",
              "      <td>0</td>\n",
              "      <td>0</td>\n",
              "      <td>0</td>\n",
              "      <td>0</td>\n",
              "      <td>0</td>\n",
              "      <td>0</td>\n",
              "      <td>0</td>\n",
              "      <td>0</td>\n",
              "      <td>0</td>\n",
              "      <td>0</td>\n",
              "      <td>0</td>\n",
              "      <td>0</td>\n",
              "      <td>0</td>\n",
              "      <td>0</td>\n",
              "      <td>0</td>\n",
              "      <td>0</td>\n",
              "      <td>0</td>\n",
              "      <td>0</td>\n",
              "      <td>0</td>\n",
              "    </tr>\n",
              "    <tr>\n",
              "      <th>4</th>\n",
              "      <td>California</td>\n",
              "      <td>1/27/2016</td>\n",
              "      <td>1</td>\n",
              "      <td>1</td>\n",
              "      <td>1</td>\n",
              "      <td>0</td>\n",
              "      <td>1</td>\n",
              "      <td>1</td>\n",
              "      <td>0</td>\n",
              "      <td>0</td>\n",
              "      <td>0</td>\n",
              "      <td>0</td>\n",
              "      <td>0</td>\n",
              "      <td>0</td>\n",
              "      <td>0</td>\n",
              "      <td>0</td>\n",
              "      <td>0</td>\n",
              "      <td>0</td>\n",
              "      <td>0</td>\n",
              "      <td>0</td>\n",
              "      <td>0</td>\n",
              "      <td>0</td>\n",
              "      <td>0</td>\n",
              "      <td>0</td>\n",
              "      <td>0</td>\n",
              "      <td>0</td>\n",
              "      <td>0</td>\n",
              "      <td>0</td>\n",
              "      <td>0</td>\n",
              "      <td>0</td>\n",
              "      <td>0</td>\n",
              "      <td>0</td>\n",
              "      <td>0</td>\n",
              "      <td>0</td>\n",
              "      <td>1</td>\n",
              "    </tr>\n",
              "    <tr>\n",
              "      <th>5</th>\n",
              "      <td>Other</td>\n",
              "      <td>1/28/2016</td>\n",
              "      <td>0</td>\n",
              "      <td>0</td>\n",
              "      <td>0</td>\n",
              "      <td>1</td>\n",
              "      <td>1</td>\n",
              "      <td>0</td>\n",
              "      <td>1</td>\n",
              "      <td>0</td>\n",
              "      <td>1</td>\n",
              "      <td>0</td>\n",
              "      <td>0</td>\n",
              "      <td>1</td>\n",
              "      <td>1</td>\n",
              "      <td>1</td>\n",
              "      <td>1</td>\n",
              "      <td>0</td>\n",
              "      <td>0</td>\n",
              "      <td>0</td>\n",
              "      <td>0</td>\n",
              "      <td>0</td>\n",
              "      <td>0</td>\n",
              "      <td>0</td>\n",
              "      <td>0</td>\n",
              "      <td>0</td>\n",
              "      <td>0</td>\n",
              "      <td>0</td>\n",
              "      <td>0</td>\n",
              "      <td>0</td>\n",
              "      <td>0</td>\n",
              "      <td>0</td>\n",
              "      <td>0</td>\n",
              "      <td>0</td>\n",
              "      <td>0</td>\n",
              "    </tr>\n",
              "    <tr>\n",
              "      <th>6</th>\n",
              "      <td>California</td>\n",
              "      <td>1/30/2016</td>\n",
              "      <td>0</td>\n",
              "      <td>1</td>\n",
              "      <td>0</td>\n",
              "      <td>0</td>\n",
              "      <td>1</td>\n",
              "      <td>1</td>\n",
              "      <td>1</td>\n",
              "      <td>0</td>\n",
              "      <td>0</td>\n",
              "      <td>0</td>\n",
              "      <td>0</td>\n",
              "      <td>0</td>\n",
              "      <td>0</td>\n",
              "      <td>0</td>\n",
              "      <td>0</td>\n",
              "      <td>0</td>\n",
              "      <td>0</td>\n",
              "      <td>0</td>\n",
              "      <td>0</td>\n",
              "      <td>0</td>\n",
              "      <td>0</td>\n",
              "      <td>0</td>\n",
              "      <td>0</td>\n",
              "      <td>0</td>\n",
              "      <td>0</td>\n",
              "      <td>0</td>\n",
              "      <td>0</td>\n",
              "      <td>0</td>\n",
              "      <td>0</td>\n",
              "      <td>0</td>\n",
              "      <td>0</td>\n",
              "      <td>0</td>\n",
              "      <td>0</td>\n",
              "    </tr>\n",
              "    <tr>\n",
              "      <th>7</th>\n",
              "      <td>Carnitas</td>\n",
              "      <td>1/30/2016</td>\n",
              "      <td>0</td>\n",
              "      <td>0</td>\n",
              "      <td>1</td>\n",
              "      <td>1</td>\n",
              "      <td>0</td>\n",
              "      <td>0</td>\n",
              "      <td>0</td>\n",
              "      <td>1</td>\n",
              "      <td>0</td>\n",
              "      <td>0</td>\n",
              "      <td>0</td>\n",
              "      <td>0</td>\n",
              "      <td>0</td>\n",
              "      <td>0</td>\n",
              "      <td>0</td>\n",
              "      <td>0</td>\n",
              "      <td>0</td>\n",
              "      <td>0</td>\n",
              "      <td>0</td>\n",
              "      <td>0</td>\n",
              "      <td>0</td>\n",
              "      <td>0</td>\n",
              "      <td>0</td>\n",
              "      <td>0</td>\n",
              "      <td>0</td>\n",
              "      <td>0</td>\n",
              "      <td>0</td>\n",
              "      <td>0</td>\n",
              "      <td>0</td>\n",
              "      <td>0</td>\n",
              "      <td>0</td>\n",
              "      <td>0</td>\n",
              "      <td>0</td>\n",
              "    </tr>\n",
              "    <tr>\n",
              "      <th>8</th>\n",
              "      <td>California</td>\n",
              "      <td>2/1/2016</td>\n",
              "      <td>1</td>\n",
              "      <td>1</td>\n",
              "      <td>1</td>\n",
              "      <td>1</td>\n",
              "      <td>1</td>\n",
              "      <td>1</td>\n",
              "      <td>1</td>\n",
              "      <td>0</td>\n",
              "      <td>0</td>\n",
              "      <td>0</td>\n",
              "      <td>0</td>\n",
              "      <td>0</td>\n",
              "      <td>0</td>\n",
              "      <td>0</td>\n",
              "      <td>0</td>\n",
              "      <td>0</td>\n",
              "      <td>0</td>\n",
              "      <td>0</td>\n",
              "      <td>0</td>\n",
              "      <td>0</td>\n",
              "      <td>0</td>\n",
              "      <td>0</td>\n",
              "      <td>0</td>\n",
              "      <td>0</td>\n",
              "      <td>0</td>\n",
              "      <td>0</td>\n",
              "      <td>0</td>\n",
              "      <td>0</td>\n",
              "      <td>0</td>\n",
              "      <td>0</td>\n",
              "      <td>0</td>\n",
              "      <td>0</td>\n",
              "      <td>0</td>\n",
              "    </tr>\n",
              "    <tr>\n",
              "      <th>9</th>\n",
              "      <td>Carne Asada</td>\n",
              "      <td>2/6/2016</td>\n",
              "      <td>0</td>\n",
              "      <td>1</td>\n",
              "      <td>1</td>\n",
              "      <td>1</td>\n",
              "      <td>0</td>\n",
              "      <td>0</td>\n",
              "      <td>0</td>\n",
              "      <td>0</td>\n",
              "      <td>0</td>\n",
              "      <td>0</td>\n",
              "      <td>0</td>\n",
              "      <td>0</td>\n",
              "      <td>0</td>\n",
              "      <td>0</td>\n",
              "      <td>0</td>\n",
              "      <td>0</td>\n",
              "      <td>0</td>\n",
              "      <td>0</td>\n",
              "      <td>0</td>\n",
              "      <td>0</td>\n",
              "      <td>0</td>\n",
              "      <td>0</td>\n",
              "      <td>0</td>\n",
              "      <td>0</td>\n",
              "      <td>0</td>\n",
              "      <td>0</td>\n",
              "      <td>0</td>\n",
              "      <td>0</td>\n",
              "      <td>0</td>\n",
              "      <td>0</td>\n",
              "      <td>0</td>\n",
              "      <td>0</td>\n",
              "      <td>0</td>\n",
              "    </tr>\n",
              "  </tbody>\n",
              "</table>\n",
              "</div>"
            ],
            "text/plain": [
              "       Burrito       Date  Chips  Beef  ...  Sushi  Avocado  Corn  Great\n",
              "0   California  1/18/2016      0     1  ...      0        0     0      0\n",
              "1   California  1/24/2016      0     1  ...      0        0     0      0\n",
              "2     Carnitas  1/24/2016      0     0  ...      0        0     0      0\n",
              "3  Carne Asada  1/24/2016      0     1  ...      0        0     0      0\n",
              "4   California  1/27/2016      1     1  ...      0        0     0      1\n",
              "5        Other  1/28/2016      0     0  ...      0        0     0      0\n",
              "6   California  1/30/2016      0     1  ...      0        0     0      0\n",
              "7     Carnitas  1/30/2016      0     0  ...      0        0     0      0\n",
              "8   California   2/1/2016      1     1  ...      0        0     0      0\n",
              "9  Carne Asada   2/6/2016      0     1  ...      0        0     0      0\n",
              "\n",
              "[10 rows x 35 columns]"
            ]
          },
          "metadata": {
            "tags": []
          },
          "execution_count": 15
        }
      ]
    },
    {
      "cell_type": "code",
      "metadata": {
        "id": "-MVBtChmgfR-",
        "colab_type": "code",
        "colab": {}
      },
      "source": [
        "df = df.dropna()"
      ],
      "execution_count": 0,
      "outputs": []
    },
    {
      "cell_type": "markdown",
      "metadata": {
        "id": "1_UNBFyRHC84",
        "colab_type": "text"
      },
      "source": [
        "### Split: Train, Validate, Test"
      ]
    },
    {
      "cell_type": "code",
      "metadata": {
        "id": "iZ46RMK5FE1s",
        "colab_type": "code",
        "outputId": "bd110461-9f9b-4974-e15d-f81dda38d790",
        "colab": {
          "base_uri": "https://localhost:8080/",
          "height": 241
        }
      },
      "source": [
        "burrito = df.copy()\n",
        "burrito = burrito.drop(columns=['Burrito'])\n",
        "burrito['Date'] = burrito['Date'].apply(lambda date: int(date.split('/')[2]))\n",
        "\n",
        "burrito_train = burrito[burrito['Date'] < 2017].drop(columns=['Date'])\n",
        "burrito_validate = burrito[burrito['Date'] == 2017].drop(columns=['Date'])\n",
        "burrito_test = burrito[burrito['Date'] > 2017].drop(columns=['Date'])\n",
        "\n",
        "target_train = burrito_train['Great']\n",
        "target_validate = burrito_validate['Great']\n",
        "target_test = burrito_test['Great']\n",
        "\n",
        "burrito_train = burrito_train.drop(columns=['Great'])\n",
        "burrito_validate = burrito_validate.drop(columns=['Great'])\n",
        "burrito_test = burrito_test.drop(columns=['Great'])\n",
        "\n",
        "burrito_train.head()"
      ],
      "execution_count": 0,
      "outputs": [
        {
          "output_type": "execute_result",
          "data": {
            "text/html": [
              "<div>\n",
              "<style scoped>\n",
              "    .dataframe tbody tr th:only-of-type {\n",
              "        vertical-align: middle;\n",
              "    }\n",
              "\n",
              "    .dataframe tbody tr th {\n",
              "        vertical-align: top;\n",
              "    }\n",
              "\n",
              "    .dataframe thead th {\n",
              "        text-align: right;\n",
              "    }\n",
              "</style>\n",
              "<table border=\"1\" class=\"dataframe\">\n",
              "  <thead>\n",
              "    <tr style=\"text-align: right;\">\n",
              "      <th></th>\n",
              "      <th>Chips</th>\n",
              "      <th>Beef</th>\n",
              "      <th>Pico</th>\n",
              "      <th>Guac</th>\n",
              "      <th>Cheese</th>\n",
              "      <th>Fries</th>\n",
              "      <th>Sour cream</th>\n",
              "      <th>Pork</th>\n",
              "      <th>Chicken</th>\n",
              "      <th>Shrimp</th>\n",
              "      <th>Fish</th>\n",
              "      <th>Rice</th>\n",
              "      <th>Beans</th>\n",
              "      <th>Lettuce</th>\n",
              "      <th>Tomato</th>\n",
              "      <th>Bell peper</th>\n",
              "      <th>Cabbage</th>\n",
              "      <th>Sauce</th>\n",
              "      <th>Salsa.1</th>\n",
              "      <th>Cilantro</th>\n",
              "      <th>Onion</th>\n",
              "      <th>Taquito</th>\n",
              "      <th>Pineapple</th>\n",
              "      <th>Ham</th>\n",
              "      <th>Chile relleno</th>\n",
              "      <th>Nopales</th>\n",
              "      <th>Egg</th>\n",
              "      <th>Mushroom</th>\n",
              "      <th>Bacon</th>\n",
              "      <th>Sushi</th>\n",
              "      <th>Avocado</th>\n",
              "      <th>Corn</th>\n",
              "    </tr>\n",
              "  </thead>\n",
              "  <tbody>\n",
              "    <tr>\n",
              "      <th>0</th>\n",
              "      <td>0</td>\n",
              "      <td>1</td>\n",
              "      <td>1</td>\n",
              "      <td>1</td>\n",
              "      <td>1</td>\n",
              "      <td>1</td>\n",
              "      <td>0</td>\n",
              "      <td>0</td>\n",
              "      <td>0</td>\n",
              "      <td>0</td>\n",
              "      <td>0</td>\n",
              "      <td>0</td>\n",
              "      <td>0</td>\n",
              "      <td>0</td>\n",
              "      <td>0</td>\n",
              "      <td>0</td>\n",
              "      <td>0</td>\n",
              "      <td>0</td>\n",
              "      <td>0</td>\n",
              "      <td>0</td>\n",
              "      <td>0</td>\n",
              "      <td>0</td>\n",
              "      <td>0</td>\n",
              "      <td>0</td>\n",
              "      <td>0</td>\n",
              "      <td>0</td>\n",
              "      <td>0</td>\n",
              "      <td>0</td>\n",
              "      <td>0</td>\n",
              "      <td>0</td>\n",
              "      <td>0</td>\n",
              "      <td>0</td>\n",
              "    </tr>\n",
              "    <tr>\n",
              "      <th>1</th>\n",
              "      <td>0</td>\n",
              "      <td>1</td>\n",
              "      <td>1</td>\n",
              "      <td>1</td>\n",
              "      <td>1</td>\n",
              "      <td>1</td>\n",
              "      <td>0</td>\n",
              "      <td>0</td>\n",
              "      <td>0</td>\n",
              "      <td>0</td>\n",
              "      <td>0</td>\n",
              "      <td>0</td>\n",
              "      <td>0</td>\n",
              "      <td>0</td>\n",
              "      <td>0</td>\n",
              "      <td>0</td>\n",
              "      <td>0</td>\n",
              "      <td>0</td>\n",
              "      <td>0</td>\n",
              "      <td>0</td>\n",
              "      <td>0</td>\n",
              "      <td>0</td>\n",
              "      <td>0</td>\n",
              "      <td>0</td>\n",
              "      <td>0</td>\n",
              "      <td>0</td>\n",
              "      <td>0</td>\n",
              "      <td>0</td>\n",
              "      <td>0</td>\n",
              "      <td>0</td>\n",
              "      <td>0</td>\n",
              "      <td>0</td>\n",
              "    </tr>\n",
              "    <tr>\n",
              "      <th>2</th>\n",
              "      <td>0</td>\n",
              "      <td>0</td>\n",
              "      <td>1</td>\n",
              "      <td>1</td>\n",
              "      <td>0</td>\n",
              "      <td>0</td>\n",
              "      <td>0</td>\n",
              "      <td>1</td>\n",
              "      <td>0</td>\n",
              "      <td>0</td>\n",
              "      <td>0</td>\n",
              "      <td>0</td>\n",
              "      <td>0</td>\n",
              "      <td>0</td>\n",
              "      <td>0</td>\n",
              "      <td>0</td>\n",
              "      <td>0</td>\n",
              "      <td>0</td>\n",
              "      <td>0</td>\n",
              "      <td>0</td>\n",
              "      <td>0</td>\n",
              "      <td>0</td>\n",
              "      <td>0</td>\n",
              "      <td>0</td>\n",
              "      <td>0</td>\n",
              "      <td>0</td>\n",
              "      <td>0</td>\n",
              "      <td>0</td>\n",
              "      <td>0</td>\n",
              "      <td>0</td>\n",
              "      <td>0</td>\n",
              "      <td>0</td>\n",
              "    </tr>\n",
              "    <tr>\n",
              "      <th>3</th>\n",
              "      <td>0</td>\n",
              "      <td>1</td>\n",
              "      <td>1</td>\n",
              "      <td>1</td>\n",
              "      <td>0</td>\n",
              "      <td>0</td>\n",
              "      <td>0</td>\n",
              "      <td>0</td>\n",
              "      <td>0</td>\n",
              "      <td>0</td>\n",
              "      <td>0</td>\n",
              "      <td>0</td>\n",
              "      <td>0</td>\n",
              "      <td>0</td>\n",
              "      <td>0</td>\n",
              "      <td>0</td>\n",
              "      <td>0</td>\n",
              "      <td>0</td>\n",
              "      <td>0</td>\n",
              "      <td>0</td>\n",
              "      <td>0</td>\n",
              "      <td>0</td>\n",
              "      <td>0</td>\n",
              "      <td>0</td>\n",
              "      <td>0</td>\n",
              "      <td>0</td>\n",
              "      <td>0</td>\n",
              "      <td>0</td>\n",
              "      <td>0</td>\n",
              "      <td>0</td>\n",
              "      <td>0</td>\n",
              "      <td>0</td>\n",
              "    </tr>\n",
              "    <tr>\n",
              "      <th>4</th>\n",
              "      <td>1</td>\n",
              "      <td>1</td>\n",
              "      <td>1</td>\n",
              "      <td>0</td>\n",
              "      <td>1</td>\n",
              "      <td>1</td>\n",
              "      <td>0</td>\n",
              "      <td>0</td>\n",
              "      <td>0</td>\n",
              "      <td>0</td>\n",
              "      <td>0</td>\n",
              "      <td>0</td>\n",
              "      <td>0</td>\n",
              "      <td>0</td>\n",
              "      <td>0</td>\n",
              "      <td>0</td>\n",
              "      <td>0</td>\n",
              "      <td>0</td>\n",
              "      <td>0</td>\n",
              "      <td>0</td>\n",
              "      <td>0</td>\n",
              "      <td>0</td>\n",
              "      <td>0</td>\n",
              "      <td>0</td>\n",
              "      <td>0</td>\n",
              "      <td>0</td>\n",
              "      <td>0</td>\n",
              "      <td>0</td>\n",
              "      <td>0</td>\n",
              "      <td>0</td>\n",
              "      <td>0</td>\n",
              "      <td>0</td>\n",
              "    </tr>\n",
              "  </tbody>\n",
              "</table>\n",
              "</div>"
            ],
            "text/plain": [
              "   Chips  Beef  Pico  Guac  Cheese  ...  Mushroom  Bacon  Sushi  Avocado  Corn\n",
              "0      0     1     1     1       1  ...         0      0      0        0     0\n",
              "1      0     1     1     1       1  ...         0      0      0        0     0\n",
              "2      0     0     1     1       0  ...         0      0      0        0     0\n",
              "3      0     1     1     1       0  ...         0      0      0        0     0\n",
              "4      1     1     1     0       1  ...         0      0      0        0     0\n",
              "\n",
              "[5 rows x 32 columns]"
            ]
          },
          "metadata": {
            "tags": []
          },
          "execution_count": 17
        }
      ]
    },
    {
      "cell_type": "markdown",
      "metadata": {
        "id": "OCs9iwzVKl1b",
        "colab_type": "text"
      },
      "source": [
        "### Reality Check"
      ]
    },
    {
      "cell_type": "code",
      "metadata": {
        "id": "qhxKU6ZxHnAa",
        "colab_type": "code",
        "outputId": "cb2fadb6-610f-4abb-86e8-b125e2f97cb7",
        "colab": {
          "base_uri": "https://localhost:8080/",
          "height": 136
        }
      },
      "source": [
        "print(target_train.shape)\n",
        "print(target_validate.shape)\n",
        "print(target_test.shape)\n",
        "print()\n",
        "print(burrito_train.shape)\n",
        "print(burrito_validate.shape)\n",
        "print(burrito_test.shape)"
      ],
      "execution_count": 0,
      "outputs": [
        {
          "output_type": "stream",
          "text": [
            "(298,)\n",
            "(85,)\n",
            "(38,)\n",
            "\n",
            "(298, 32)\n",
            "(85, 32)\n",
            "(38, 32)\n"
          ],
          "name": "stdout"
        }
      ]
    },
    {
      "cell_type": "markdown",
      "metadata": {
        "id": "MIMWRIODKBtp",
        "colab_type": "text"
      },
      "source": [
        "### Baseline: Overall"
      ]
    },
    {
      "cell_type": "code",
      "metadata": {
        "id": "kO6AAq0gIQ5w",
        "colab_type": "code",
        "outputId": "7fefd158-47f1-4279-c81a-c6fcbee4a777",
        "colab": {
          "base_uri": "https://localhost:8080/",
          "height": 34
        }
      },
      "source": [
        "obv = burrito['Great'].mode()\n",
        "if not any(obv):\n",
        "    print(f\"Obvious Choice: Not Great\")\n",
        "else:\n",
        "    print(f\"Obvious Choice: Great\")"
      ],
      "execution_count": 0,
      "outputs": [
        {
          "output_type": "stream",
          "text": [
            "Obvious Choice: Not Great\n"
          ],
          "name": "stdout"
        }
      ]
    },
    {
      "cell_type": "code",
      "metadata": {
        "id": "ZrMadiFundZ7",
        "colab_type": "code",
        "outputId": "b2319698-6eb4-48a8-9a2a-6d476986aad0",
        "colab": {
          "base_uri": "https://localhost:8080/",
          "height": 34
        }
      },
      "source": [
        "greatness = burrito['Great'].mean()\n",
        "print(f\"Percentage Greatness: {greatness*100:.2f}%\")"
      ],
      "execution_count": 0,
      "outputs": [
        {
          "output_type": "stream",
          "text": [
            "Percentage Greatness: 43.23%\n"
          ],
          "name": "stdout"
        }
      ]
    },
    {
      "cell_type": "code",
      "metadata": {
        "id": "RSdAOpQeJ_3b",
        "colab_type": "code",
        "outputId": "606c08fa-a941-4ada-82b1-f85a40a57eee",
        "colab": {
          "base_uri": "https://localhost:8080/",
          "height": 102
        }
      },
      "source": [
        "from sklearn.linear_model import LogisticRegression\n",
        "from sklearn.metrics import mean_absolute_error\n",
        "\n",
        "model = LogisticRegression(solver='lbfgs')\n",
        "model.fit(burrito_train, target_train)\n",
        "target_v_pred = model.predict(burrito_validate)\n",
        "# MAE\n",
        "mae = mean_absolute_error(target_train, [0] * len(target_train))\n",
        "print(f\"Baseline MAE: {mae:.5f}\")\n",
        "\n",
        "mae = mean_absolute_error(target_validate, target_v_pred)\n",
        "print(f\"Validation MAE: {mae:.5f}\")\n",
        "\n",
        "target_t_pred = model.predict(burrito_test)\n",
        "mae = mean_absolute_error(target_test, target_t_pred)\n",
        "print(f\"Test MAE: {mae:.5f}\")\n",
        "\n",
        "print(\"\\n*lower is better\")"
      ],
      "execution_count": 0,
      "outputs": [
        {
          "output_type": "stream",
          "text": [
            "Baseline MAE: 0.40940\n",
            "Validation MAE: 0.45882\n",
            "Test MAE: 0.42105\n",
            "\n",
            "*lower is better\n"
          ],
          "name": "stdout"
        }
      ]
    },
    {
      "cell_type": "markdown",
      "metadata": {
        "id": "uFyMsJuMk7r7",
        "colab_type": "text"
      },
      "source": [
        "## Ingredients Summary\n",
        "Apparently ingredients alone is not enough to determine if a burrito is Great or Not. Obviously!"
      ]
    },
    {
      "cell_type": "markdown",
      "metadata": {
        "id": "xW36Ot5RJxQl",
        "colab_type": "text"
      },
      "source": [
        "# Take 2: Just Type"
      ]
    },
    {
      "cell_type": "code",
      "metadata": {
        "id": "FPnSJpF4KClj",
        "colab_type": "code",
        "outputId": "09fd8aa4-b542-4718-c26b-3d9c3d75c3f6",
        "colab": {
          "base_uri": "https://localhost:8080/",
          "height": 204
        }
      },
      "source": [
        "burrito = df.copy()\n",
        "burrito = burrito.drop(columns=fillings)\n",
        "\n",
        "burrito['Date'] = burrito['Date'].apply(lambda date: int(date.split('/')[2]))\n",
        "\n",
        "burrito_train = burrito[burrito['Date'] < 2017].drop(columns=['Date'])\n",
        "burrito_validate = burrito[burrito['Date'] == 2017].drop(columns=['Date'])\n",
        "burrito_test = burrito[burrito['Date'] > 2017].drop(columns=['Date'])\n",
        "\n",
        "target_train = burrito_train['Great']\n",
        "target_validate = burrito_validate['Great']\n",
        "target_test = burrito_test['Great']\n",
        "\n",
        "burrito_train = burrito_train.drop(columns=['Great'])\n",
        "burrito_validate = burrito_validate.drop(columns=['Great'])\n",
        "burrito_test = burrito_test.drop(columns=['Great'])\n",
        "\n",
        "burrito_train.head()"
      ],
      "execution_count": 0,
      "outputs": [
        {
          "output_type": "execute_result",
          "data": {
            "text/html": [
              "<div>\n",
              "<style scoped>\n",
              "    .dataframe tbody tr th:only-of-type {\n",
              "        vertical-align: middle;\n",
              "    }\n",
              "\n",
              "    .dataframe tbody tr th {\n",
              "        vertical-align: top;\n",
              "    }\n",
              "\n",
              "    .dataframe thead th {\n",
              "        text-align: right;\n",
              "    }\n",
              "</style>\n",
              "<table border=\"1\" class=\"dataframe\">\n",
              "  <thead>\n",
              "    <tr style=\"text-align: right;\">\n",
              "      <th></th>\n",
              "      <th>Burrito</th>\n",
              "    </tr>\n",
              "  </thead>\n",
              "  <tbody>\n",
              "    <tr>\n",
              "      <th>0</th>\n",
              "      <td>California</td>\n",
              "    </tr>\n",
              "    <tr>\n",
              "      <th>1</th>\n",
              "      <td>California</td>\n",
              "    </tr>\n",
              "    <tr>\n",
              "      <th>2</th>\n",
              "      <td>Carnitas</td>\n",
              "    </tr>\n",
              "    <tr>\n",
              "      <th>3</th>\n",
              "      <td>Carne Asada</td>\n",
              "    </tr>\n",
              "    <tr>\n",
              "      <th>4</th>\n",
              "      <td>California</td>\n",
              "    </tr>\n",
              "  </tbody>\n",
              "</table>\n",
              "</div>"
            ],
            "text/plain": [
              "       Burrito\n",
              "0   California\n",
              "1   California\n",
              "2     Carnitas\n",
              "3  Carne Asada\n",
              "4   California"
            ]
          },
          "metadata": {
            "tags": []
          },
          "execution_count": 22
        }
      ]
    },
    {
      "cell_type": "markdown",
      "metadata": {
        "id": "2ZNKiJrbiQUk",
        "colab_type": "text"
      },
      "source": [
        "### One-hot Encoding"
      ]
    },
    {
      "cell_type": "code",
      "metadata": {
        "id": "eJ5JlnqUeSNP",
        "colab_type": "code",
        "outputId": "b7214088-cf51-41e7-ebef-c071cd792d8a",
        "colab": {
          "base_uri": "https://localhost:8080/",
          "height": 204
        }
      },
      "source": [
        "import category_encoders as ce\n",
        "\n",
        "encoder = ce.OneHotEncoder(use_cat_names=True)\n",
        "burrito_train = encoder.fit_transform(burrito_train)\n",
        "burrito_validate = encoder.transform(burrito_validate)\n",
        "burrito_test = encoder.transform(burrito_test)\n",
        "burrito_train.head()"
      ],
      "execution_count": 0,
      "outputs": [
        {
          "output_type": "execute_result",
          "data": {
            "text/html": [
              "<div>\n",
              "<style scoped>\n",
              "    .dataframe tbody tr th:only-of-type {\n",
              "        vertical-align: middle;\n",
              "    }\n",
              "\n",
              "    .dataframe tbody tr th {\n",
              "        vertical-align: top;\n",
              "    }\n",
              "\n",
              "    .dataframe thead th {\n",
              "        text-align: right;\n",
              "    }\n",
              "</style>\n",
              "<table border=\"1\" class=\"dataframe\">\n",
              "  <thead>\n",
              "    <tr style=\"text-align: right;\">\n",
              "      <th></th>\n",
              "      <th>Burrito_California</th>\n",
              "      <th>Burrito_Carnitas</th>\n",
              "      <th>Burrito_Carne Asada</th>\n",
              "      <th>Burrito_Other</th>\n",
              "      <th>Burrito_Surf &amp; Turf</th>\n",
              "    </tr>\n",
              "  </thead>\n",
              "  <tbody>\n",
              "    <tr>\n",
              "      <th>0</th>\n",
              "      <td>1</td>\n",
              "      <td>0</td>\n",
              "      <td>0</td>\n",
              "      <td>0</td>\n",
              "      <td>0</td>\n",
              "    </tr>\n",
              "    <tr>\n",
              "      <th>1</th>\n",
              "      <td>1</td>\n",
              "      <td>0</td>\n",
              "      <td>0</td>\n",
              "      <td>0</td>\n",
              "      <td>0</td>\n",
              "    </tr>\n",
              "    <tr>\n",
              "      <th>2</th>\n",
              "      <td>0</td>\n",
              "      <td>1</td>\n",
              "      <td>0</td>\n",
              "      <td>0</td>\n",
              "      <td>0</td>\n",
              "    </tr>\n",
              "    <tr>\n",
              "      <th>3</th>\n",
              "      <td>0</td>\n",
              "      <td>0</td>\n",
              "      <td>1</td>\n",
              "      <td>0</td>\n",
              "      <td>0</td>\n",
              "    </tr>\n",
              "    <tr>\n",
              "      <th>4</th>\n",
              "      <td>1</td>\n",
              "      <td>0</td>\n",
              "      <td>0</td>\n",
              "      <td>0</td>\n",
              "      <td>0</td>\n",
              "    </tr>\n",
              "  </tbody>\n",
              "</table>\n",
              "</div>"
            ],
            "text/plain": [
              "   Burrito_California  Burrito_Carnitas  ...  Burrito_Other  Burrito_Surf & Turf\n",
              "0                   1                 0  ...              0                    0\n",
              "1                   1                 0  ...              0                    0\n",
              "2                   0                 1  ...              0                    0\n",
              "3                   0                 0  ...              0                    0\n",
              "4                   1                 0  ...              0                    0\n",
              "\n",
              "[5 rows x 5 columns]"
            ]
          },
          "metadata": {
            "tags": []
          },
          "execution_count": 23
        }
      ]
    },
    {
      "cell_type": "markdown",
      "metadata": {
        "id": "5CM-6q-uHnK-",
        "colab_type": "text"
      },
      "source": [
        "### Reality Check"
      ]
    },
    {
      "cell_type": "code",
      "metadata": {
        "id": "UiR3qazdjc0-",
        "colab_type": "code",
        "outputId": "a462e570-e747-4ab5-8b0b-006a29a051d7",
        "colab": {
          "base_uri": "https://localhost:8080/",
          "height": 136
        }
      },
      "source": [
        "print(target_train.shape)\n",
        "print(target_validate.shape)\n",
        "print(target_test.shape)\n",
        "print()\n",
        "print(burrito_train.shape)\n",
        "print(burrito_validate.shape)\n",
        "print(burrito_test.shape)"
      ],
      "execution_count": 0,
      "outputs": [
        {
          "output_type": "stream",
          "text": [
            "(298,)\n",
            "(85,)\n",
            "(38,)\n",
            "\n",
            "(298, 5)\n",
            "(85, 5)\n",
            "(38, 5)\n"
          ],
          "name": "stdout"
        }
      ]
    },
    {
      "cell_type": "code",
      "metadata": {
        "id": "kekg6oGYJ3nS",
        "colab_type": "code",
        "outputId": "b3770d60-605f-475d-e280-066898c5b073",
        "colab": {
          "base_uri": "https://localhost:8080/",
          "height": 102
        }
      },
      "source": [
        "model = LogisticRegression(solver='lbfgs')\n",
        "model.fit(burrito_train, target_train)\n",
        "target_v_pred = model.predict(burrito_validate)\n",
        "# MAE\n",
        "mae = mean_absolute_error(target_train, [0] * len(target_train))\n",
        "print(f\"Baseline MAE: {mae:.5f}\")\n",
        "\n",
        "mae = mean_absolute_error(target_validate, target_v_pred)\n",
        "print(f\"Validation MAE: {mae:.5f}\")\n",
        "\n",
        "target_t_pred = model.predict(burrito_test)\n",
        "mae = mean_absolute_error(target_test, target_t_pred)\n",
        "print(f\"Test MAE: {mae:.5f}\")\n",
        "\n",
        "print(\"\\n*lower is better\")"
      ],
      "execution_count": 0,
      "outputs": [
        {
          "output_type": "stream",
          "text": [
            "Baseline MAE: 0.40940\n",
            "Validation MAE: 0.44706\n",
            "Test MAE: 0.57895\n",
            "\n",
            "*lower is better\n"
          ],
          "name": "stdout"
        }
      ]
    },
    {
      "cell_type": "markdown",
      "metadata": {
        "colab_type": "text",
        "id": "gtLLMYGLL6dy"
      },
      "source": [
        "## Type Summary\n",
        "Apparently the type alone is not enough to determine if a burrito is Great or Not. Obviously!"
      ]
    },
    {
      "cell_type": "markdown",
      "metadata": {
        "id": "0g_MCG3QmLI3",
        "colab_type": "text"
      },
      "source": [
        "# Take 3: Ratings"
      ]
    },
    {
      "cell_type": "code",
      "metadata": {
        "id": "amY3wKZlmUDs",
        "colab_type": "code",
        "outputId": "d7d5dd18-bb2b-47e6-a219-2d36fca4be18",
        "colab": {
          "base_uri": "https://localhost:8080/",
          "height": 204
        }
      },
      "source": [
        "df2 = df_ratings.drop(columns=fillings)\n",
        "df2['Great'] = df2['Great'].apply(int)\n",
        "\n",
        "df2.head()"
      ],
      "execution_count": 0,
      "outputs": [
        {
          "output_type": "execute_result",
          "data": {
            "text/html": [
              "<div>\n",
              "<style scoped>\n",
              "    .dataframe tbody tr th:only-of-type {\n",
              "        vertical-align: middle;\n",
              "    }\n",
              "\n",
              "    .dataframe tbody tr th {\n",
              "        vertical-align: top;\n",
              "    }\n",
              "\n",
              "    .dataframe thead th {\n",
              "        text-align: right;\n",
              "    }\n",
              "</style>\n",
              "<table border=\"1\" class=\"dataframe\">\n",
              "  <thead>\n",
              "    <tr style=\"text-align: right;\">\n",
              "      <th></th>\n",
              "      <th>Burrito</th>\n",
              "      <th>Date</th>\n",
              "      <th>Tortilla</th>\n",
              "      <th>Temp</th>\n",
              "      <th>Meat</th>\n",
              "      <th>Fillings</th>\n",
              "      <th>Meat:filling</th>\n",
              "      <th>Uniformity</th>\n",
              "      <th>Salsa</th>\n",
              "      <th>Synergy</th>\n",
              "      <th>Wrap</th>\n",
              "      <th>Great</th>\n",
              "    </tr>\n",
              "  </thead>\n",
              "  <tbody>\n",
              "    <tr>\n",
              "      <th>0</th>\n",
              "      <td>California</td>\n",
              "      <td>1/18/2016</td>\n",
              "      <td>3.0</td>\n",
              "      <td>5.0</td>\n",
              "      <td>3.0</td>\n",
              "      <td>3.5</td>\n",
              "      <td>4.0</td>\n",
              "      <td>4.0</td>\n",
              "      <td>4.0</td>\n",
              "      <td>4.0</td>\n",
              "      <td>4.0</td>\n",
              "      <td>0</td>\n",
              "    </tr>\n",
              "    <tr>\n",
              "      <th>1</th>\n",
              "      <td>California</td>\n",
              "      <td>1/24/2016</td>\n",
              "      <td>2.0</td>\n",
              "      <td>3.5</td>\n",
              "      <td>2.5</td>\n",
              "      <td>2.5</td>\n",
              "      <td>2.0</td>\n",
              "      <td>4.0</td>\n",
              "      <td>3.5</td>\n",
              "      <td>2.5</td>\n",
              "      <td>5.0</td>\n",
              "      <td>0</td>\n",
              "    </tr>\n",
              "    <tr>\n",
              "      <th>2</th>\n",
              "      <td>Carnitas</td>\n",
              "      <td>1/24/2016</td>\n",
              "      <td>3.0</td>\n",
              "      <td>2.0</td>\n",
              "      <td>2.5</td>\n",
              "      <td>3.0</td>\n",
              "      <td>4.5</td>\n",
              "      <td>4.0</td>\n",
              "      <td>3.0</td>\n",
              "      <td>3.0</td>\n",
              "      <td>5.0</td>\n",
              "      <td>0</td>\n",
              "    </tr>\n",
              "    <tr>\n",
              "      <th>3</th>\n",
              "      <td>Carne Asada</td>\n",
              "      <td>1/24/2016</td>\n",
              "      <td>3.0</td>\n",
              "      <td>2.0</td>\n",
              "      <td>3.5</td>\n",
              "      <td>3.0</td>\n",
              "      <td>4.0</td>\n",
              "      <td>5.0</td>\n",
              "      <td>4.0</td>\n",
              "      <td>4.0</td>\n",
              "      <td>5.0</td>\n",
              "      <td>0</td>\n",
              "    </tr>\n",
              "    <tr>\n",
              "      <th>4</th>\n",
              "      <td>California</td>\n",
              "      <td>1/27/2016</td>\n",
              "      <td>4.0</td>\n",
              "      <td>5.0</td>\n",
              "      <td>4.0</td>\n",
              "      <td>3.5</td>\n",
              "      <td>4.5</td>\n",
              "      <td>5.0</td>\n",
              "      <td>2.5</td>\n",
              "      <td>4.5</td>\n",
              "      <td>4.0</td>\n",
              "      <td>1</td>\n",
              "    </tr>\n",
              "  </tbody>\n",
              "</table>\n",
              "</div>"
            ],
            "text/plain": [
              "       Burrito       Date  Tortilla  Temp  ...  Salsa  Synergy  Wrap  Great\n",
              "0   California  1/18/2016       3.0   5.0  ...    4.0      4.0   4.0      0\n",
              "1   California  1/24/2016       2.0   3.5  ...    3.5      2.5   5.0      0\n",
              "2     Carnitas  1/24/2016       3.0   2.0  ...    3.0      3.0   5.0      0\n",
              "3  Carne Asada  1/24/2016       3.0   2.0  ...    4.0      4.0   5.0      0\n",
              "4   California  1/27/2016       4.0   5.0  ...    2.5      4.5   4.0      1\n",
              "\n",
              "[5 rows x 12 columns]"
            ]
          },
          "metadata": {
            "tags": []
          },
          "execution_count": 26
        }
      ]
    },
    {
      "cell_type": "code",
      "metadata": {
        "id": "y5edAkU3mOSf",
        "colab_type": "code",
        "outputId": "907cc150-1bb3-4ba3-e8e3-d5b38130c168",
        "colab": {
          "base_uri": "https://localhost:8080/",
          "height": 204
        }
      },
      "source": [
        "burrito = df2.copy()\n",
        "burrito = burrito.dropna().drop(columns=['Burrito'])\n",
        "burrito['Date'] = burrito['Date'].apply(lambda date: int(date.split('/')[2]))\n",
        "\n",
        "burrito_train = burrito[burrito['Date'] < 2017].drop(columns=['Date'])\n",
        "burrito_validate = burrito[burrito['Date'] == 2017].drop(columns=['Date'])\n",
        "burrito_test = burrito[burrito['Date'] > 2017].drop(columns=['Date'])\n",
        "\n",
        "target_train = burrito_train['Great']\n",
        "target_validate = burrito_validate['Great']\n",
        "target_test = burrito_test['Great']\n",
        "\n",
        "burrito_train = burrito_train.drop(columns=['Great'])\n",
        "burrito_validate = burrito_validate.drop(columns=['Great'])\n",
        "burrito_test = burrito_test.drop(columns=['Great'])\n",
        "\n",
        "burrito_train.head()"
      ],
      "execution_count": 0,
      "outputs": [
        {
          "output_type": "execute_result",
          "data": {
            "text/html": [
              "<div>\n",
              "<style scoped>\n",
              "    .dataframe tbody tr th:only-of-type {\n",
              "        vertical-align: middle;\n",
              "    }\n",
              "\n",
              "    .dataframe tbody tr th {\n",
              "        vertical-align: top;\n",
              "    }\n",
              "\n",
              "    .dataframe thead th {\n",
              "        text-align: right;\n",
              "    }\n",
              "</style>\n",
              "<table border=\"1\" class=\"dataframe\">\n",
              "  <thead>\n",
              "    <tr style=\"text-align: right;\">\n",
              "      <th></th>\n",
              "      <th>Tortilla</th>\n",
              "      <th>Temp</th>\n",
              "      <th>Meat</th>\n",
              "      <th>Fillings</th>\n",
              "      <th>Meat:filling</th>\n",
              "      <th>Uniformity</th>\n",
              "      <th>Salsa</th>\n",
              "      <th>Synergy</th>\n",
              "      <th>Wrap</th>\n",
              "    </tr>\n",
              "  </thead>\n",
              "  <tbody>\n",
              "    <tr>\n",
              "      <th>0</th>\n",
              "      <td>3.0</td>\n",
              "      <td>5.0</td>\n",
              "      <td>3.0</td>\n",
              "      <td>3.5</td>\n",
              "      <td>4.0</td>\n",
              "      <td>4.0</td>\n",
              "      <td>4.0</td>\n",
              "      <td>4.0</td>\n",
              "      <td>4.0</td>\n",
              "    </tr>\n",
              "    <tr>\n",
              "      <th>1</th>\n",
              "      <td>2.0</td>\n",
              "      <td>3.5</td>\n",
              "      <td>2.5</td>\n",
              "      <td>2.5</td>\n",
              "      <td>2.0</td>\n",
              "      <td>4.0</td>\n",
              "      <td>3.5</td>\n",
              "      <td>2.5</td>\n",
              "      <td>5.0</td>\n",
              "    </tr>\n",
              "    <tr>\n",
              "      <th>2</th>\n",
              "      <td>3.0</td>\n",
              "      <td>2.0</td>\n",
              "      <td>2.5</td>\n",
              "      <td>3.0</td>\n",
              "      <td>4.5</td>\n",
              "      <td>4.0</td>\n",
              "      <td>3.0</td>\n",
              "      <td>3.0</td>\n",
              "      <td>5.0</td>\n",
              "    </tr>\n",
              "    <tr>\n",
              "      <th>3</th>\n",
              "      <td>3.0</td>\n",
              "      <td>2.0</td>\n",
              "      <td>3.5</td>\n",
              "      <td>3.0</td>\n",
              "      <td>4.0</td>\n",
              "      <td>5.0</td>\n",
              "      <td>4.0</td>\n",
              "      <td>4.0</td>\n",
              "      <td>5.0</td>\n",
              "    </tr>\n",
              "    <tr>\n",
              "      <th>4</th>\n",
              "      <td>4.0</td>\n",
              "      <td>5.0</td>\n",
              "      <td>4.0</td>\n",
              "      <td>3.5</td>\n",
              "      <td>4.5</td>\n",
              "      <td>5.0</td>\n",
              "      <td>2.5</td>\n",
              "      <td>4.5</td>\n",
              "      <td>4.0</td>\n",
              "    </tr>\n",
              "  </tbody>\n",
              "</table>\n",
              "</div>"
            ],
            "text/plain": [
              "   Tortilla  Temp  Meat  Fillings  ...  Uniformity  Salsa  Synergy  Wrap\n",
              "0       3.0   5.0   3.0       3.5  ...         4.0    4.0      4.0   4.0\n",
              "1       2.0   3.5   2.5       2.5  ...         4.0    3.5      2.5   5.0\n",
              "2       3.0   2.0   2.5       3.0  ...         4.0    3.0      3.0   5.0\n",
              "3       3.0   2.0   3.5       3.0  ...         5.0    4.0      4.0   5.0\n",
              "4       4.0   5.0   4.0       3.5  ...         5.0    2.5      4.5   4.0\n",
              "\n",
              "[5 rows x 9 columns]"
            ]
          },
          "metadata": {
            "tags": []
          },
          "execution_count": 27
        }
      ]
    },
    {
      "cell_type": "markdown",
      "metadata": {
        "colab_type": "text",
        "id": "0eIlHc41uFeN"
      },
      "source": [
        "### Reality Check"
      ]
    },
    {
      "cell_type": "code",
      "metadata": {
        "colab_type": "code",
        "outputId": "bf30b131-89e1-4173-acf0-b67c597f3598",
        "id": "hcPbaXr-uFeQ",
        "colab": {
          "base_uri": "https://localhost:8080/",
          "height": 136
        }
      },
      "source": [
        "print(target_train.shape)\n",
        "print(target_validate.shape)\n",
        "print(target_test.shape)\n",
        "print()\n",
        "print(burrito_train.shape)\n",
        "print(burrito_validate.shape)\n",
        "print(burrito_test.shape)"
      ],
      "execution_count": 0,
      "outputs": [
        {
          "output_type": "stream",
          "text": [
            "(254,)\n",
            "(76,)\n",
            "(32,)\n",
            "\n",
            "(254, 9)\n",
            "(76, 9)\n",
            "(32, 9)\n"
          ],
          "name": "stdout"
        }
      ]
    },
    {
      "cell_type": "markdown",
      "metadata": {
        "colab_type": "text",
        "id": "0JlPX9osyDM3"
      },
      "source": [
        "### Baseline: Ratings"
      ]
    },
    {
      "cell_type": "code",
      "metadata": {
        "colab_type": "code",
        "outputId": "66e3ef6b-68f5-4a95-8511-0dd0b0c03376",
        "id": "r07xqo9AyDM5",
        "colab": {
          "base_uri": "https://localhost:8080/",
          "height": 34
        }
      },
      "source": [
        "obv = burrito['Great'].mode()[0]\n",
        "if not obv:\n",
        "    print(f\"Obvious Choice: Not Great\")\n",
        "else:\n",
        "    print(f\"Obvious Choice: Great\")"
      ],
      "execution_count": 0,
      "outputs": [
        {
          "output_type": "stream",
          "text": [
            "Obvious Choice: Not Great\n"
          ],
          "name": "stdout"
        }
      ]
    },
    {
      "cell_type": "code",
      "metadata": {
        "colab_type": "code",
        "outputId": "97a78091-5db7-42a3-dc4f-4771cc6fa738",
        "id": "Ts4Uk2F0yDM9",
        "colab": {
          "base_uri": "https://localhost:8080/",
          "height": 34
        }
      },
      "source": [
        "greatness = burrito['Great'].mean()\n",
        "print(f\"Percentage Greatness: {greatness*100:.2f}%\")"
      ],
      "execution_count": 0,
      "outputs": [
        {
          "output_type": "stream",
          "text": [
            "Percentage Greatness: 41.99%\n"
          ],
          "name": "stdout"
        }
      ]
    },
    {
      "cell_type": "markdown",
      "metadata": {
        "id": "4sa2FKj4yMnD",
        "colab_type": "text"
      },
      "source": [
        "## Logistic Regression: Ratings"
      ]
    },
    {
      "cell_type": "code",
      "metadata": {
        "id": "qrt1_QChoftA",
        "colab_type": "code",
        "outputId": "067c3a66-38e0-4315-99f9-c57f24c6fe85",
        "colab": {
          "base_uri": "https://localhost:8080/",
          "height": 102
        }
      },
      "source": [
        "model = LogisticRegression(solver='lbfgs')\n",
        "model.fit(burrito_train, target_train)\n",
        "# MAE\n",
        "mae = mean_absolute_error(target_train, [0] * len(target_train))\n",
        "print(f\"Baseline MAE: {mae:.5f}\")\n",
        "\n",
        "target_v_pred = model.predict(burrito_validate)\n",
        "mae = mean_absolute_error(target_validate, target_v_pred)\n",
        "print(f\"Validation MAE: {mae:.5f}\")\n",
        "\n",
        "target_t_pred = model.predict(burrito_test)\n",
        "mae = mean_absolute_error(target_test, target_t_pred)\n",
        "print(f\"Test MAE: {mae:.5f}\")\n",
        "\n",
        "print(\"\\n*lower is better\")"
      ],
      "execution_count": 0,
      "outputs": [
        {
          "output_type": "stream",
          "text": [
            "Baseline MAE: 0.38976\n",
            "Validation MAE: 0.14474\n",
            "Test MAE: 0.28125\n",
            "\n",
            "*lower is better\n"
          ],
          "name": "stdout"
        }
      ]
    },
    {
      "cell_type": "markdown",
      "metadata": {
        "id": "MFy-YvAYtlsy",
        "colab_type": "text"
      },
      "source": [
        "## Ratings Summary\n",
        "Using the ratings of each filling category is far better than just an ingredient list or the type alone. Obviously!"
      ]
    },
    {
      "cell_type": "markdown",
      "metadata": {
        "id": "dSqvm6B-0fKZ",
        "colab_type": "text"
      },
      "source": [
        "# Visualizations"
      ]
    },
    {
      "cell_type": "markdown",
      "metadata": {
        "id": "_5LRb63U4a13",
        "colab_type": "text"
      },
      "source": [
        "#### Is one type of Burrito best?"
      ]
    },
    {
      "cell_type": "code",
      "metadata": {
        "id": "rEoplQZI0q7_",
        "colab_type": "code",
        "outputId": "7169233a-e9f1-4d0c-ec8a-822c5e1fbc08",
        "colab": {
          "base_uri": "https://localhost:8080/",
          "height": 34
        }
      },
      "source": [
        "import altair as alt\n",
        "alt.renderers.enable('colab')"
      ],
      "execution_count": 0,
      "outputs": [
        {
          "output_type": "execute_result",
          "data": {
            "text/plain": [
              "RendererRegistry.enable('colab')"
            ]
          },
          "metadata": {
            "tags": []
          },
          "execution_count": 32
        }
      ]
    },
    {
      "cell_type": "code",
      "metadata": {
        "id": "tKA68vwu59R8",
        "colab_type": "code",
        "colab": {}
      },
      "source": [
        "df2['Great'] = df2['Great'].apply(lambda itm: 'Great' if itm else 'Not')"
      ],
      "execution_count": 0,
      "outputs": []
    },
    {
      "cell_type": "code",
      "metadata": {
        "id": "RKRc7dLZ1Fby",
        "colab_type": "code",
        "outputId": "e63bbe3d-c164-4428-d847-351e67342cd9",
        "colab": {
          "base_uri": "https://localhost:8080/",
          "height": 398
        }
      },
      "source": [
        "burritos_types = alt.Chart(\n",
        "    df2, \n",
        "    title=\"Burritos by Greatness\", \n",
        "    width=120, \n",
        "    height=300\n",
        ").mark_circle(size=250).encode(\n",
        "    x=alt.X('Great:O', title=\"\"),\n",
        "    y=alt.Y('Burrito:N', title=\"\", sort='-color'),\n",
        "    color=alt.Color(\n",
        "        'count(Burrito):Q', \n",
        "        title='Count', \n",
        "        scale=alt.Scale(scheme='plasma')\n",
        "    )\n",
        ")\n",
        "print()\n",
        "burritos_types"
      ],
      "execution_count": 0,
      "outputs": [
        {
          "output_type": "stream",
          "text": [
            "\n"
          ],
          "name": "stdout"
        },
        {
          "output_type": "execute_result",
          "data": {
            "text/plain": [
              "alt.Chart(...)"
            ],
            "text/html": [
              "\n",
              "<div id=\"altair-viz-ea6a7b68b3414586921bda80ee6a46d7\"></div>\n",
              "<script type=\"text/javascript\">\n",
              "  (function(spec, embedOpt){\n",
              "    const outputDiv = document.getElementById(\"altair-viz-ea6a7b68b3414586921bda80ee6a46d7\");\n",
              "    const paths = {\n",
              "      \"vega\": \"https://cdn.jsdelivr.net/npm//vega@5?noext\",\n",
              "      \"vega-lib\": \"https://cdn.jsdelivr.net/npm//vega-lib?noext\",\n",
              "      \"vega-lite\": \"https://cdn.jsdelivr.net/npm//vega-lite@4.0.2?noext\",\n",
              "      \"vega-embed\": \"https://cdn.jsdelivr.net/npm//vega-embed@6?noext\",\n",
              "    };\n",
              "\n",
              "    function loadScript(lib) {\n",
              "      return new Promise(function(resolve, reject) {\n",
              "        var s = document.createElement('script');\n",
              "        s.src = paths[lib];\n",
              "        s.async = true;\n",
              "        s.onload = () => resolve(paths[lib]);\n",
              "        s.onerror = () => reject(`Error loading script: ${paths[lib]}`);\n",
              "        document.getElementsByTagName(\"head\")[0].appendChild(s);\n",
              "      });\n",
              "    }\n",
              "\n",
              "    function showError(err) {\n",
              "      outputDiv.innerHTML = `<div class=\"error\" style=\"color:red;\">${err}</div>`;\n",
              "      throw err;\n",
              "    }\n",
              "\n",
              "    function displayChart(vegaEmbed) {\n",
              "      vegaEmbed(outputDiv, spec, embedOpt)\n",
              "        .catch(err => showError(`Javascript Error: ${err.message}<br>This usually means there's a typo in your chart specification. See the javascript console for the full traceback.`));\n",
              "    }\n",
              "\n",
              "    if(typeof define === \"function\" && define.amd) {\n",
              "      requirejs.config({paths});\n",
              "      require([\"vega-embed\"], displayChart, err => showError(`Error loading script: ${err.message}`));\n",
              "    } else if (typeof vegaEmbed === \"function\") {\n",
              "      displayChart(vegaEmbed);\n",
              "    } else {\n",
              "      loadScript(\"vega\")\n",
              "        .then(() => loadScript(\"vega-lite\"))\n",
              "        .then(() => loadScript(\"vega-embed\"))\n",
              "        .catch(showError)\n",
              "        .then(() => displayChart(vegaEmbed));\n",
              "    }\n",
              "  })({\"config\": {\"view\": {\"continuousWidth\": 400, \"continuousHeight\": 300}}, \"data\": {\"name\": \"data-91f4e5da1536e92b657b3d71e884a81a\"}, \"mark\": {\"type\": \"circle\", \"size\": 250}, \"encoding\": {\"color\": {\"type\": \"quantitative\", \"aggregate\": \"count\", \"field\": \"Burrito\", \"scale\": {\"scheme\": \"plasma\"}, \"title\": \"Count\"}, \"x\": {\"type\": \"ordinal\", \"field\": \"Great\", \"title\": \"\"}, \"y\": {\"type\": \"nominal\", \"field\": \"Burrito\", \"sort\": \"-color\", \"title\": \"\"}}, \"height\": 300, \"title\": \"Burritos by Greatness\", \"width\": 120, \"$schema\": \"https://vega.github.io/schema/vega-lite/v4.0.2.json\", \"datasets\": {\"data-91f4e5da1536e92b657b3d71e884a81a\": [{\"Burrito\": \"California\", \"Date\": \"1/18/2016\", \"Tortilla\": 3.0, \"Temp\": 5.0, \"Meat\": 3.0, \"Fillings\": 3.5, \"Meat:filling\": 4.0, \"Uniformity\": 4.0, \"Salsa\": 4.0, \"Synergy\": 4.0, \"Wrap\": 4.0, \"Great\": \"Not\"}, {\"Burrito\": \"California\", \"Date\": \"1/24/2016\", \"Tortilla\": 2.0, \"Temp\": 3.5, \"Meat\": 2.5, \"Fillings\": 2.5, \"Meat:filling\": 2.0, \"Uniformity\": 4.0, \"Salsa\": 3.5, \"Synergy\": 2.5, \"Wrap\": 5.0, \"Great\": \"Not\"}, {\"Burrito\": \"Carnitas\", \"Date\": \"1/24/2016\", \"Tortilla\": 3.0, \"Temp\": 2.0, \"Meat\": 2.5, \"Fillings\": 3.0, \"Meat:filling\": 4.5, \"Uniformity\": 4.0, \"Salsa\": 3.0, \"Synergy\": 3.0, \"Wrap\": 5.0, \"Great\": \"Not\"}, {\"Burrito\": \"Carne Asada\", \"Date\": \"1/24/2016\", \"Tortilla\": 3.0, \"Temp\": 2.0, \"Meat\": 3.5, \"Fillings\": 3.0, \"Meat:filling\": 4.0, \"Uniformity\": 5.0, \"Salsa\": 4.0, \"Synergy\": 4.0, \"Wrap\": 5.0, \"Great\": \"Not\"}, {\"Burrito\": \"California\", \"Date\": \"1/27/2016\", \"Tortilla\": 4.0, \"Temp\": 5.0, \"Meat\": 4.0, \"Fillings\": 3.5, \"Meat:filling\": 4.5, \"Uniformity\": 5.0, \"Salsa\": 2.5, \"Synergy\": 4.5, \"Wrap\": 4.0, \"Great\": \"Great\"}, {\"Burrito\": \"Other\", \"Date\": \"1/28/2016\", \"Tortilla\": 3.0, \"Temp\": 4.0, \"Meat\": 5.0, \"Fillings\": 3.5, \"Meat:filling\": 2.5, \"Uniformity\": 2.5, \"Salsa\": 2.5, \"Synergy\": 4.0, \"Wrap\": 1.0, \"Great\": \"Not\"}, {\"Burrito\": \"California\", \"Date\": \"1/30/2016\", \"Tortilla\": 2.0, \"Temp\": 3.0, \"Meat\": 3.0, \"Fillings\": 2.0, \"Meat:filling\": 2.5, \"Uniformity\": 2.5, \"Salsa\": null, \"Synergy\": 2.0, \"Wrap\": 3.0, \"Great\": \"Not\"}, {\"Burrito\": \"Carnitas\", \"Date\": \"1/30/2016\", \"Tortilla\": 2.5, \"Temp\": 3.0, \"Meat\": 3.0, \"Fillings\": 2.5, \"Meat:filling\": 3.0, \"Uniformity\": 3.5, \"Salsa\": null, \"Synergy\": 2.5, \"Wrap\": 3.0, \"Great\": \"Not\"}, {\"Burrito\": \"California\", \"Date\": \"2/1/2016\", \"Tortilla\": 2.0, \"Temp\": 4.5, \"Meat\": 4.5, \"Fillings\": 3.5, \"Meat:filling\": 1.5, \"Uniformity\": 3.0, \"Salsa\": 3.5, \"Synergy\": 4.0, \"Wrap\": 2.0, \"Great\": \"Not\"}, {\"Burrito\": \"Carne Asada\", \"Date\": \"2/6/2016\", \"Tortilla\": 2.5, \"Temp\": 1.5, \"Meat\": 1.5, \"Fillings\": 3.0, \"Meat:filling\": 4.5, \"Uniformity\": 3.0, \"Salsa\": 1.5, \"Synergy\": 2.0, \"Wrap\": 4.5, \"Great\": \"Not\"}, {\"Burrito\": \"Surf & Turf\", \"Date\": \"2/6/2016\", \"Tortilla\": 2.5, \"Temp\": 2.5, \"Meat\": 2.75, \"Fillings\": 2.5, \"Meat:filling\": 2.5, \"Uniformity\": 2.0, \"Salsa\": 0.5, \"Synergy\": 3.0, \"Wrap\": 3.5, \"Great\": \"Not\"}, {\"Burrito\": \"Other\", \"Date\": \"2/11/2016\", \"Tortilla\": 3.0, \"Temp\": 4.0, \"Meat\": 4.0, \"Fillings\": 3.0, \"Meat:filling\": 4.0, \"Uniformity\": 4.0, \"Salsa\": 1.0, \"Synergy\": 2.0, \"Wrap\": 1.0, \"Great\": \"Not\"}, {\"Burrito\": \"California\", \"Date\": \"2/11/2016\", \"Tortilla\": 3.0, \"Temp\": 3.5, \"Meat\": 3.5, \"Fillings\": 4.0, \"Meat:filling\": 2.0, \"Uniformity\": 3.5, \"Salsa\": 1.0, \"Synergy\": 4.0, \"Wrap\": 4.0, \"Great\": \"Not\"}, {\"Burrito\": \"Other\", \"Date\": \"2/11/2016\", \"Tortilla\": 3.0, \"Temp\": 1.0, \"Meat\": 1.5, \"Fillings\": 2.5, \"Meat:filling\": 4.0, \"Uniformity\": 4.0, \"Salsa\": 3.0, \"Synergy\": 4.5, \"Wrap\": 5.0, \"Great\": \"Not\"}, {\"Burrito\": \"California\", \"Date\": \"2/11/2016\", \"Tortilla\": 4.0, \"Temp\": null, \"Meat\": 2.0, \"Fillings\": 2.0, \"Meat:filling\": 4.0, \"Uniformity\": 4.0, \"Salsa\": null, \"Synergy\": 3.0, \"Wrap\": 4.0, \"Great\": \"Not\"}, {\"Burrito\": \"California\", \"Date\": \"2/12/2016\", \"Tortilla\": 3.0, \"Temp\": 2.5, \"Meat\": 4.0, \"Fillings\": 4.0, \"Meat:filling\": 3.5, \"Uniformity\": 2.5, \"Salsa\": 3.5, \"Synergy\": 5.0, \"Wrap\": 4.5, \"Great\": \"Great\"}, {\"Burrito\": \"Surf & Turf\", \"Date\": \"2/12/2016\", \"Tortilla\": 4.0, \"Temp\": 4.0, \"Meat\": 4.5, \"Fillings\": 4.0, \"Meat:filling\": 5.0, \"Uniformity\": 4.5, \"Salsa\": 3.5, \"Synergy\": 4.0, \"Wrap\": 2.0, \"Great\": \"Great\"}, {\"Burrito\": \"Other\", \"Date\": \"2/14/2016\", \"Tortilla\": 4.0, \"Temp\": 4.0, \"Meat\": 3.0, \"Fillings\": 3.5, \"Meat:filling\": 4.0, \"Uniformity\": 4.5, \"Salsa\": 4.0, \"Synergy\": 4.0, \"Wrap\": 4.5, \"Great\": \"Great\"}, {\"Burrito\": \"Other\", \"Date\": \"2/14/2016\", \"Tortilla\": 3.5, \"Temp\": 4.0, \"Meat\": 3.5, \"Fillings\": null, \"Meat:filling\": 4.0, \"Uniformity\": null, \"Salsa\": 4.0, \"Synergy\": 4.0, \"Wrap\": 1.5, \"Great\": \"Great\"}, {\"Burrito\": \"California\", \"Date\": \"2/17/2016\", \"Tortilla\": 3.0, \"Temp\": 4.0, \"Meat\": 2.75, \"Fillings\": 3.0, \"Meat:filling\": 4.0, \"Uniformity\": 2.0, \"Salsa\": 2.0, \"Synergy\": null, \"Wrap\": 5.0, \"Great\": \"Not\"}, {\"Burrito\": \"California\", \"Date\": \"2/17/2016\", \"Tortilla\": 3.5, \"Temp\": 3.0, \"Meat\": 3.0, \"Fillings\": 3.0, \"Meat:filling\": 4.0, \"Uniformity\": 4.0, \"Salsa\": 1.5, \"Synergy\": null, \"Wrap\": 4.5, \"Great\": \"Not\"}, {\"Burrito\": \"Other\", \"Date\": \"2/24/2016\", \"Tortilla\": 1.5, \"Temp\": 2.0, \"Meat\": 3.0, \"Fillings\": 3.5, \"Meat:filling\": 4.0, \"Uniformity\": 1.0, \"Salsa\": 3.5, \"Synergy\": 4.5, \"Wrap\": 4.0, \"Great\": \"Great\"}, {\"Burrito\": \"Other\", \"Date\": \"2/24/2016\", \"Tortilla\": 1.5, \"Temp\": 2.5, \"Meat\": 3.5, \"Fillings\": 3.0, \"Meat:filling\": 4.0, \"Uniformity\": 1.5, \"Salsa\": 2.5, \"Synergy\": 3.5, \"Wrap\": 4.5, \"Great\": \"Not\"}, {\"Burrito\": \"California\", \"Date\": \"2/28/2016\", \"Tortilla\": 4.0, \"Temp\": 3.0, \"Meat\": 4.0, \"Fillings\": 4.0, \"Meat:filling\": 4.0, \"Uniformity\": 4.0, \"Salsa\": 4.0, \"Synergy\": 4.0, \"Wrap\": 3.0, \"Great\": \"Great\"}, {\"Burrito\": \"California\", \"Date\": \"2/28/2016\", \"Tortilla\": 3.0, \"Temp\": 2.0, \"Meat\": 4.5, \"Fillings\": 4.0, \"Meat:filling\": 4.0, \"Uniformity\": 3.5, \"Salsa\": 3.0, \"Synergy\": 4.5, \"Wrap\": 4.5, \"Great\": \"Great\"}, {\"Burrito\": \"Other\", \"Date\": \"2/29/2016\", \"Tortilla\": 2.5, \"Temp\": 2.5, \"Meat\": 3.0, \"Fillings\": 4.0, \"Meat:filling\": 4.0, \"Uniformity\": 4.0, \"Salsa\": 3.0, \"Synergy\": 3.5, \"Wrap\": 1.5, \"Great\": \"Not\"}, {\"Burrito\": \"Carne Asada\", \"Date\": \"2/29/2016\", \"Tortilla\": 2.5, \"Temp\": 3.0, \"Meat\": 3.0, \"Fillings\": 4.0, \"Meat:filling\": 2.0, \"Uniformity\": 2.0, \"Salsa\": 3.0, \"Synergy\": 3.5, \"Wrap\": 3.5, \"Great\": \"Not\"}, {\"Burrito\": \"Other\", \"Date\": \"3/3/2016\", \"Tortilla\": 3.5, \"Temp\": 5.0, \"Meat\": 4.0, \"Fillings\": 4.0, \"Meat:filling\": 3.5, \"Uniformity\": 4.5, \"Salsa\": 3.5, \"Synergy\": 3.5, \"Wrap\": 4.0, \"Great\": \"Great\"}, {\"Burrito\": \"Other\", \"Date\": \"3/3/2016\", \"Tortilla\": 3.0, \"Temp\": 5.0, \"Meat\": 4.0, \"Fillings\": 4.0, \"Meat:filling\": 5.0, \"Uniformity\": 4.0, \"Salsa\": 2.5, \"Synergy\": 4.5, \"Wrap\": 4.0, \"Great\": \"Great\"}, {\"Burrito\": \"Other\", \"Date\": \"3/3/2016\", \"Tortilla\": 3.0, \"Temp\": 4.5, \"Meat\": 3.5, \"Fillings\": 3.5, \"Meat:filling\": 3.5, \"Uniformity\": 3.0, \"Salsa\": 3.0, \"Synergy\": 3.0, \"Wrap\": 4.0, \"Great\": \"Not\"}, {\"Burrito\": \"Carne Asada\", \"Date\": \"3/8/2016\", \"Tortilla\": 4.0, \"Temp\": 2.0, \"Meat\": 4.0, \"Fillings\": 3.5, \"Meat:filling\": 4.5, \"Uniformity\": 4.0, \"Salsa\": 3.5, \"Synergy\": 4.0, \"Wrap\": 1.0, \"Great\": \"Great\"}, {\"Burrito\": \"Other\", \"Date\": \"3/8/2016\", \"Tortilla\": 3.0, \"Temp\": 1.5, \"Meat\": 3.0, \"Fillings\": 3.0, \"Meat:filling\": 2.5, \"Uniformity\": 3.0, \"Salsa\": 3.5, \"Synergy\": 2.5, \"Wrap\": 4.0, \"Great\": \"Not\"}, {\"Burrito\": \"Other\", \"Date\": \"3/11/2016\", \"Tortilla\": 2.0, \"Temp\": null, \"Meat\": 2.5, \"Fillings\": 2.0, \"Meat:filling\": 2.0, \"Uniformity\": 2.0, \"Salsa\": 2.0, \"Synergy\": 2.5, \"Wrap\": null, \"Great\": \"Not\"}, {\"Burrito\": \"Carne Asada\", \"Date\": \"3/11/2016\", \"Tortilla\": 2.0, \"Temp\": null, \"Meat\": 1.0, \"Fillings\": 1.0, \"Meat:filling\": 0.5, \"Uniformity\": 1.0, \"Salsa\": 1.5, \"Synergy\": 1.0, \"Wrap\": 4.0, \"Great\": \"Not\"}, {\"Burrito\": \"California\", \"Date\": \"3/14/2016\", \"Tortilla\": 3.0, \"Temp\": 5.0, \"Meat\": 4.0, \"Fillings\": 2.75, \"Meat:filling\": 4.0, \"Uniformity\": 1.6, \"Salsa\": 3.5, \"Synergy\": 3.4, \"Wrap\": 5.0, \"Great\": \"Not\"}, {\"Burrito\": \"California\", \"Date\": \"3/14/2016\", \"Tortilla\": 3.5, \"Temp\": 5.0, \"Meat\": 2.5, \"Fillings\": 2.5, \"Meat:filling\": 4.0, \"Uniformity\": 2.7, \"Salsa\": 3.5, \"Synergy\": 3.0, \"Wrap\": 5.0, \"Great\": \"Not\"}, {\"Burrito\": \"Other\", \"Date\": \"3/14/2016\", \"Tortilla\": 3.0, \"Temp\": 5.0, \"Meat\": 5.0, \"Fillings\": 4.5, \"Meat:filling\": 4.0, \"Uniformity\": 4.0, \"Salsa\": 1.5, \"Synergy\": 3.0, \"Wrap\": 5.0, \"Great\": \"Not\"}, {\"Burrito\": \"Other\", \"Date\": \"3/14/2016\", \"Tortilla\": 3.0, \"Temp\": 3.0, \"Meat\": 4.0, \"Fillings\": 3.0, \"Meat:filling\": 3.5, \"Uniformity\": 4.5, \"Salsa\": 3.5, \"Synergy\": 3.0, \"Wrap\": 3.5, \"Great\": \"Not\"}, {\"Burrito\": \"California\", \"Date\": \"3/17/2016\", \"Tortilla\": 4.0, \"Temp\": 4.0, \"Meat\": 3.5, \"Fillings\": 4.0, \"Meat:filling\": 4.5, \"Uniformity\": 4.0, \"Salsa\": 3.5, \"Synergy\": 3.5, \"Wrap\": 4.5, \"Great\": \"Great\"}, {\"Burrito\": \"Carne Asada\", \"Date\": \"3/18/2016\", \"Tortilla\": 3.0, \"Temp\": 3.5, \"Meat\": 4.5, \"Fillings\": 4.0, \"Meat:filling\": 5.0, \"Uniformity\": 5.0, \"Salsa\": 4.5, \"Synergy\": 3.5, \"Wrap\": 5.0, \"Great\": \"Great\"}, {\"Burrito\": \"Other\", \"Date\": \"3/18/2016\", \"Tortilla\": 4.0, \"Temp\": 3.0, \"Meat\": 3.5, \"Fillings\": 3.0, \"Meat:filling\": 4.0, \"Uniformity\": 5.0, \"Salsa\": 3.0, \"Synergy\": 3.5, \"Wrap\": 5.0, \"Great\": \"Not\"}, {\"Burrito\": \"Other\", \"Date\": \"3/19/2016\", \"Tortilla\": 3.0, \"Temp\": 3.0, \"Meat\": 3.5, \"Fillings\": 3.0, \"Meat:filling\": 4.0, \"Uniformity\": 1.0, \"Salsa\": 3.0, \"Synergy\": 2.5, \"Wrap\": 5.0, \"Great\": \"Not\"}, {\"Burrito\": \"California\", \"Date\": \"3/20/2016\", \"Tortilla\": 4.0, \"Temp\": 4.5, \"Meat\": 4.0, \"Fillings\": 3.5, \"Meat:filling\": 4.0, \"Uniformity\": 2.5, \"Salsa\": 2.0, \"Synergy\": 4.0, \"Wrap\": 4.0, \"Great\": \"Great\"}, {\"Burrito\": \"Other\", \"Date\": \"3/20/2016\", \"Tortilla\": 4.0, \"Temp\": 3.5, \"Meat\": 3.5, \"Fillings\": 4.0, \"Meat:filling\": 3.5, \"Uniformity\": 3.5, \"Salsa\": 2.0, \"Synergy\": 3.5, \"Wrap\": 0.5, \"Great\": \"Not\"}, {\"Burrito\": \"Other\", \"Date\": \"3/21/2016\", \"Tortilla\": 3.0, \"Temp\": 4.0, \"Meat\": 3.5, \"Fillings\": 4.0, \"Meat:filling\": 4.0, \"Uniformity\": 4.0, \"Salsa\": 3.5, \"Synergy\": 4.5, \"Wrap\": 4.5, \"Great\": \"Great\"}, {\"Burrito\": \"Other\", \"Date\": \"3/21/2016\", \"Tortilla\": 3.0, \"Temp\": 4.5, \"Meat\": 4.0, \"Fillings\": 3.0, \"Meat:filling\": 3.0, \"Uniformity\": 2.0, \"Salsa\": 4.0, \"Synergy\": 2.0, \"Wrap\": 4.5, \"Great\": \"Not\"}, {\"Burrito\": \"Carne Asada\", \"Date\": \"3/21/2016\", \"Tortilla\": 3.75, \"Temp\": 5.0, \"Meat\": 3.0, \"Fillings\": 3.0, \"Meat:filling\": 4.5, \"Uniformity\": 4.5, \"Salsa\": 3.5, \"Synergy\": 3.0, \"Wrap\": 4.5, \"Great\": \"Not\"}, {\"Burrito\": \"Other\", \"Date\": \"3/21/2016\", \"Tortilla\": 2.0, \"Temp\": 5.0, \"Meat\": 3.5, \"Fillings\": 4.0, \"Meat:filling\": 2.5, \"Uniformity\": 5.0, \"Salsa\": 3.5, \"Synergy\": 2.5, \"Wrap\": 4.0, \"Great\": \"Not\"}, {\"Burrito\": \"Surf & Turf\", \"Date\": \"3/21/2016\", \"Tortilla\": 2.0, \"Temp\": 4.0, \"Meat\": 3.0, \"Fillings\": 3.0, \"Meat:filling\": 4.0, \"Uniformity\": 2.0, \"Salsa\": 4.0, \"Synergy\": 2.0, \"Wrap\": 3.0, \"Great\": \"Not\"}, {\"Burrito\": \"Other\", \"Date\": \"3/21/2016\", \"Tortilla\": 3.0, \"Temp\": 4.5, \"Meat\": 3.5, \"Fillings\": 3.0, \"Meat:filling\": 3.0, \"Uniformity\": 2.0, \"Salsa\": 3.5, \"Synergy\": 2.5, \"Wrap\": 4.5, \"Great\": \"Not\"}, {\"Burrito\": \"California\", \"Date\": \"3/23/2016\", \"Tortilla\": 4.0, \"Temp\": 4.5, \"Meat\": 3.5, \"Fillings\": 5.0, \"Meat:filling\": 2.5, \"Uniformity\": 2.0, \"Salsa\": 4.0, \"Synergy\": 4.5, \"Wrap\": 4.0, \"Great\": \"Great\"}, {\"Burrito\": \"California\", \"Date\": \"3/23/2016\", \"Tortilla\": 4.5, \"Temp\": 4.5, \"Meat\": 4.0, \"Fillings\": 4.5, \"Meat:filling\": 4.0, \"Uniformity\": 4.0, \"Salsa\": 4.0, \"Synergy\": 4.5, \"Wrap\": 5.0, \"Great\": \"Great\"}, {\"Burrito\": \"Other\", \"Date\": \"3/30/2016\", \"Tortilla\": 4.0, \"Temp\": 4.0, \"Meat\": 2.0, \"Fillings\": 3.0, \"Meat:filling\": 1.5, \"Uniformity\": 3.0, \"Salsa\": 2.5, \"Synergy\": 1.0, \"Wrap\": 3.0, \"Great\": \"Not\"}, {\"Burrito\": \"California\", \"Date\": \"3/30/2016\", \"Tortilla\": 4.0, \"Temp\": 4.5, \"Meat\": 3.5, \"Fillings\": 4.0, \"Meat:filling\": 3.0, \"Uniformity\": 2.0, \"Salsa\": 2.5, \"Synergy\": 3.5, \"Wrap\": 4.0, \"Great\": \"Great\"}, {\"Burrito\": \"Other\", \"Date\": \"4/2/2016\", \"Tortilla\": 4.0, \"Temp\": 4.5, \"Meat\": 3.5, \"Fillings\": 2.5, \"Meat:filling\": 4.5, \"Uniformity\": 4.5, \"Salsa\": 4.0, \"Synergy\": 3.5, \"Wrap\": 5.0, \"Great\": \"Great\"}, {\"Burrito\": \"Other\", \"Date\": \"4/2/2016\", \"Tortilla\": 2.5, \"Temp\": 2.5, \"Meat\": 4.0, \"Fillings\": 3.5, \"Meat:filling\": 3.0, \"Uniformity\": 2.5, \"Salsa\": 3.0, \"Synergy\": 3.0, \"Wrap\": 5.0, \"Great\": \"Not\"}, {\"Burrito\": \"Other\", \"Date\": \"4/2/2016\", \"Tortilla\": 4.0, \"Temp\": 5.0, \"Meat\": 4.0, \"Fillings\": 4.0, \"Meat:filling\": 3.0, \"Uniformity\": 5.0, \"Salsa\": 3.0, \"Synergy\": 3.0, \"Wrap\": 5.0, \"Great\": \"Great\"}, {\"Burrito\": \"California\", \"Date\": \"4/2/2016\", \"Tortilla\": 4.0, \"Temp\": 5.0, \"Meat\": 3.0, \"Fillings\": 5.0, \"Meat:filling\": 3.0, \"Uniformity\": 2.0, \"Salsa\": 4.0, \"Synergy\": 3.0, \"Wrap\": 5.0, \"Great\": \"Great\"}, {\"Burrito\": \"California\", \"Date\": \"4/3/2016\", \"Tortilla\": 3.0, \"Temp\": 4.5, \"Meat\": 4.0, \"Fillings\": 4.5, \"Meat:filling\": 4.0, \"Uniformity\": 4.5, \"Salsa\": 4.5, \"Synergy\": 5.0, \"Wrap\": 4.5, \"Great\": \"Great\"}, {\"Burrito\": \"Other\", \"Date\": \"4/3/2016\", \"Tortilla\": 4.0, \"Temp\": 5.0, \"Meat\": 5.0, \"Fillings\": 5.0, \"Meat:filling\": 5.0, \"Uniformity\": 4.0, \"Salsa\": null, \"Synergy\": 4.5, \"Wrap\": 5.0, \"Great\": \"Great\"}, {\"Burrito\": \"California\", \"Date\": \"4/7/2016\", \"Tortilla\": 3.0, \"Temp\": 5.0, \"Meat\": 3.5, \"Fillings\": 3.0, \"Meat:filling\": 4.5, \"Uniformity\": 2.5, \"Salsa\": 3.0, \"Synergy\": 4.0, \"Wrap\": 4.0, \"Great\": \"Not\"}, {\"Burrito\": \"Surf & Turf\", \"Date\": \"4/7/2016\", \"Tortilla\": 3.0, \"Temp\": 5.0, \"Meat\": 3.5, \"Fillings\": 2.5, \"Meat:filling\": 3.0, \"Uniformity\": 2.5, \"Salsa\": 3.75, \"Synergy\": 3.0, \"Wrap\": 4.0, \"Great\": \"Not\"}, {\"Burrito\": \"Other\", \"Date\": \"4/9/2016\", \"Tortilla\": 3.5, \"Temp\": 3.0, \"Meat\": 4.0, \"Fillings\": 4.5, \"Meat:filling\": 3.0, \"Uniformity\": 1.0, \"Salsa\": 3.0, \"Synergy\": 4.0, \"Wrap\": 0.5, \"Great\": \"Not\"}, {\"Burrito\": \"Carnitas\", \"Date\": \"4/9/2016\", \"Tortilla\": 3.0, \"Temp\": 2.5, \"Meat\": 3.0, \"Fillings\": 4.0, \"Meat:filling\": 2.0, \"Uniformity\": 1.0, \"Salsa\": 3.0, \"Synergy\": 3.0, \"Wrap\": 5.0, \"Great\": \"Not\"}, {\"Burrito\": \"Carne Asada\", \"Date\": \"4/14/2016\", \"Tortilla\": 3.0, \"Temp\": 2.0, \"Meat\": 4.5, \"Fillings\": 4.0, \"Meat:filling\": 4.0, \"Uniformity\": 1.5, \"Salsa\": 4.5, \"Synergy\": 4.5, \"Wrap\": 4.5, \"Great\": \"Great\"}, {\"Burrito\": \"Carne Asada\", \"Date\": \"4/14/2016\", \"Tortilla\": 3.0, \"Temp\": 2.5, \"Meat\": 4.5, \"Fillings\": 3.5, \"Meat:filling\": 4.5, \"Uniformity\": 3.0, \"Salsa\": 4.0, \"Synergy\": 3.5, \"Wrap\": 5.0, \"Great\": \"Not\"}, {\"Burrito\": \"California\", \"Date\": \"4/15/2016\", \"Tortilla\": 4.5, \"Temp\": 4.5, \"Meat\": 2.5, \"Fillings\": 3.5, \"Meat:filling\": 3.5, \"Uniformity\": 3.5, \"Salsa\": 3.0, \"Synergy\": 4.0, \"Wrap\": 5.0, \"Great\": \"Great\"}, {\"Burrito\": \"California\", \"Date\": \"4/15/2016\", \"Tortilla\": 4.0, \"Temp\": 4.0, \"Meat\": 4.0, \"Fillings\": 2.5, \"Meat:filling\": 3.0, \"Uniformity\": 3.5, \"Salsa\": 4.0, \"Synergy\": 4.0, \"Wrap\": 5.0, \"Great\": \"Great\"}, {\"Burrito\": \"California\", \"Date\": \"4/15/2016\", \"Tortilla\": 4.0, \"Temp\": 4.5, \"Meat\": 4.5, \"Fillings\": 5.0, \"Meat:filling\": 5.0, \"Uniformity\": 5.0, \"Salsa\": 4.5, \"Synergy\": 5.0, \"Wrap\": 5.0, \"Great\": \"Great\"}, {\"Burrito\": \"Carnitas\", \"Date\": \"4/15/2016\", \"Tortilla\": 4.5, \"Temp\": 5.0, \"Meat\": 5.0, \"Fillings\": 5.0, \"Meat:filling\": 5.0, \"Uniformity\": 4.0, \"Salsa\": 4.0, \"Synergy\": 5.0, \"Wrap\": 5.0, \"Great\": \"Great\"}, {\"Burrito\": \"California\", \"Date\": \"4/15/2016\", \"Tortilla\": 5.0, \"Temp\": 5.0, \"Meat\": 5.0, \"Fillings\": 4.0, \"Meat:filling\": 4.0, \"Uniformity\": 2.0, \"Salsa\": null, \"Synergy\": 5.0, \"Wrap\": 5.0, \"Great\": \"Great\"}, {\"Burrito\": \"Other\", \"Date\": \"4/15/2016\", \"Tortilla\": 3.0, \"Temp\": null, \"Meat\": 3.5, \"Fillings\": 4.0, \"Meat:filling\": 4.0, \"Uniformity\": 3.0, \"Salsa\": null, \"Synergy\": 4.0, \"Wrap\": 1.5, \"Great\": \"Not\"}, {\"Burrito\": \"California\", \"Date\": \"4/15/2016\", \"Tortilla\": 3.5, \"Temp\": null, \"Meat\": 3.5, \"Fillings\": 3.5, \"Meat:filling\": 4.5, \"Uniformity\": 3.5, \"Salsa\": 3.5, \"Synergy\": 4.0, \"Wrap\": 4.0, \"Great\": \"Great\"}, {\"Burrito\": \"California\", \"Date\": \"4/24/2016\", \"Tortilla\": 2.5, \"Temp\": 2.5, \"Meat\": 3.5, \"Fillings\": 4.0, \"Meat:filling\": 3.0, \"Uniformity\": 4.5, \"Salsa\": 4.0, \"Synergy\": 4.5, \"Wrap\": 4.5, \"Great\": \"Not\"}, {\"Burrito\": \"Other\", \"Date\": \"4/24/2016\", \"Tortilla\": 2.0, \"Temp\": 4.0, \"Meat\": 3.0, \"Fillings\": 3.0, \"Meat:filling\": 3.0, \"Uniformity\": 4.0, \"Salsa\": 3.5, \"Synergy\": 3.5, \"Wrap\": null, \"Great\": \"Not\"}, {\"Burrito\": \"California\", \"Date\": \"4/24/2016\", \"Tortilla\": 2.0, \"Temp\": 3.5, \"Meat\": 3.0, \"Fillings\": 1.5, \"Meat:filling\": 1.0, \"Uniformity\": 1.0, \"Salsa\": 2.5, \"Synergy\": 1.5, \"Wrap\": 3.5, \"Great\": \"Not\"}, {\"Burrito\": \"Other\", \"Date\": \"4/24/2016\", \"Tortilla\": 2.5, \"Temp\": 2.5, \"Meat\": 1.5, \"Fillings\": 2.5, \"Meat:filling\": 1.0, \"Uniformity\": 2.0, \"Salsa\": 2.5, \"Synergy\": 2.0, \"Wrap\": 5.0, \"Great\": \"Not\"}, {\"Burrito\": \"California\", \"Date\": \"4/25/2026\", \"Tortilla\": 4.5, \"Temp\": 5.0, \"Meat\": 5.0, \"Fillings\": 5.0, \"Meat:filling\": 4.5, \"Uniformity\": 5.0, \"Salsa\": 3.0, \"Synergy\": 5.0, \"Wrap\": 5.0, \"Great\": \"Great\"}, {\"Burrito\": \"California\", \"Date\": \"4/27/2016\", \"Tortilla\": 3.0, \"Temp\": 2.5, \"Meat\": 3.0, \"Fillings\": 2.5, \"Meat:filling\": 2.5, \"Uniformity\": 2.0, \"Salsa\": 3.5, \"Synergy\": 3.0, \"Wrap\": 4.0, \"Great\": \"Not\"}, {\"Burrito\": \"Other\", \"Date\": \"4/27/2016\", \"Tortilla\": 4.0, \"Temp\": 3.0, \"Meat\": 2.5, \"Fillings\": 3.5, \"Meat:filling\": 3.0, \"Uniformity\": 3.0, \"Salsa\": 3.5, \"Synergy\": 4.0, \"Wrap\": 3.5, \"Great\": \"Not\"}, {\"Burrito\": \"California\", \"Date\": \"5/4/2016\", \"Tortilla\": 4.5, \"Temp\": 4.0, \"Meat\": 3.0, \"Fillings\": 4.0, \"Meat:filling\": 1.0, \"Uniformity\": 3.0, \"Salsa\": 4.5, \"Synergy\": 3.5, \"Wrap\": 4.5, \"Great\": \"Not\"}, {\"Burrito\": \"Other\", \"Date\": \"5/4/2016\", \"Tortilla\": 4.0, \"Temp\": 2.0, \"Meat\": 2.5, \"Fillings\": 4.0, \"Meat:filling\": 4.0, \"Uniformity\": 3.0, \"Salsa\": 3.5, \"Synergy\": 4.0, \"Wrap\": 5.0, \"Great\": \"Not\"}, {\"Burrito\": \"California\", \"Date\": \"5/6/2016\", \"Tortilla\": 3.5, \"Temp\": 4.0, \"Meat\": 4.0, \"Fillings\": 4.0, \"Meat:filling\": 3.5, \"Uniformity\": 3.0, \"Salsa\": 4.0, \"Synergy\": 4.5, \"Wrap\": 3.0, \"Great\": \"Great\"}, {\"Burrito\": \"California\", \"Date\": \"5/6/2016\", \"Tortilla\": 4.0, \"Temp\": 3.5, \"Meat\": 4.0, \"Fillings\": 4.0, \"Meat:filling\": 4.5, \"Uniformity\": 5.0, \"Salsa\": 4.5, \"Synergy\": 5.0, \"Wrap\": 4.5, \"Great\": \"Great\"}, {\"Burrito\": \"California\", \"Date\": \"5/6/2016\", \"Tortilla\": 3.0, \"Temp\": 3.0, \"Meat\": 4.0, \"Fillings\": 3.5, \"Meat:filling\": 3.5, \"Uniformity\": 4.0, \"Salsa\": 3.5, \"Synergy\": 4.0, \"Wrap\": 2.5, \"Great\": \"Not\"}, {\"Burrito\": \"California\", \"Date\": \"5/6/2016\", \"Tortilla\": 4.0, \"Temp\": 2.0, \"Meat\": 5.0, \"Fillings\": 5.0, \"Meat:filling\": 1.0, \"Uniformity\": 3.0, \"Salsa\": 5.0, \"Synergy\": 4.0, \"Wrap\": 3.0, \"Great\": \"Great\"}, {\"Burrito\": \"California\", \"Date\": \"5/6/2016\", \"Tortilla\": 4.0, \"Temp\": 3.0, \"Meat\": 4.0, \"Fillings\": 4.5, \"Meat:filling\": 5.0, \"Uniformity\": 4.5, \"Salsa\": 3.0, \"Synergy\": 4.5, \"Wrap\": 4.0, \"Great\": \"Great\"}, {\"Burrito\": \"Carne Asada\", \"Date\": \"5/6/2016\", \"Tortilla\": 4.0, \"Temp\": 2.0, \"Meat\": 4.0, \"Fillings\": 3.0, \"Meat:filling\": 4.0, \"Uniformity\": 4.0, \"Salsa\": 4.0, \"Synergy\": 3.5, \"Wrap\": 4.0, \"Great\": \"Not\"}, {\"Burrito\": \"Other\", \"Date\": \"5/6/2016\", \"Tortilla\": 4.0, \"Temp\": 4.0, \"Meat\": 5.0, \"Fillings\": 5.0, \"Meat:filling\": 5.0, \"Uniformity\": 4.0, \"Salsa\": 5.0, \"Synergy\": 5.0, \"Wrap\": 5.0, \"Great\": \"Great\"}, {\"Burrito\": \"California\", \"Date\": \"5/9/2016\", \"Tortilla\": 3.0, \"Temp\": 3.5, \"Meat\": 2.0, \"Fillings\": 3.5, \"Meat:filling\": 3.0, \"Uniformity\": 2.5, \"Salsa\": 2.5, \"Synergy\": 2.5, \"Wrap\": 2.0, \"Great\": \"Not\"}, {\"Burrito\": \"California\", \"Date\": \"5/12/2016\", \"Tortilla\": 3.0, \"Temp\": 5.0, \"Meat\": 3.0, \"Fillings\": 3.5, \"Meat:filling\": 3.0, \"Uniformity\": 1.5, \"Salsa\": 3.0, \"Synergy\": 3.0, \"Wrap\": 4.0, \"Great\": \"Not\"}, {\"Burrito\": \"Other\", \"Date\": \"5/12/2016\", \"Tortilla\": 3.0, \"Temp\": 4.0, \"Meat\": 2.7, \"Fillings\": 4.7, \"Meat:filling\": 3.0, \"Uniformity\": 2.4, \"Salsa\": 2.0, \"Synergy\": 3.7, \"Wrap\": 4.5, \"Great\": \"Not\"}, {\"Burrito\": \"Other\", \"Date\": \"5/12/2016\", \"Tortilla\": 4.5, \"Temp\": 3.8, \"Meat\": 3.8, \"Fillings\": 4.5, \"Meat:filling\": 3.4, \"Uniformity\": 1.5, \"Salsa\": 3.0, \"Synergy\": 3.8, \"Wrap\": 4.0, \"Great\": \"Not\"}, {\"Burrito\": \"Other\", \"Date\": \"5/13/2016\", \"Tortilla\": 3.0, \"Temp\": 4.5, \"Meat\": 2.5, \"Fillings\": 2.0, \"Meat:filling\": 3.5, \"Uniformity\": 5.0, \"Salsa\": 1.5, \"Synergy\": 2.0, \"Wrap\": 1.5, \"Great\": \"Not\"}, {\"Burrito\": \"Carne Asada\", \"Date\": \"5/13/2016\", \"Tortilla\": 4.0, \"Temp\": 3.5, \"Meat\": 4.0, \"Fillings\": 4.0, \"Meat:filling\": 3.5, \"Uniformity\": 4.0, \"Salsa\": 4.0, \"Synergy\": 4.5, \"Wrap\": 4.5, \"Great\": \"Great\"}, {\"Burrito\": \"Carne Asada\", \"Date\": \"5/13/2016\", \"Tortilla\": 4.0, \"Temp\": 3.0, \"Meat\": 3.0, \"Fillings\": 3.0, \"Meat:filling\": 3.5, \"Uniformity\": 3.0, \"Salsa\": null, \"Synergy\": 3.5, \"Wrap\": 4.5, \"Great\": \"Not\"}, {\"Burrito\": \"Carnitas\", \"Date\": \"5/13/2016\", \"Tortilla\": 4.0, \"Temp\": 5.0, \"Meat\": 4.0, \"Fillings\": 5.0, \"Meat:filling\": 5.0, \"Uniformity\": 4.0, \"Salsa\": 5.0, \"Synergy\": 4.0, \"Wrap\": 4.0, \"Great\": \"Great\"}, {\"Burrito\": \"Other\", \"Date\": \"5/13/2016\", \"Tortilla\": 4.0, \"Temp\": 3.5, \"Meat\": 4.0, \"Fillings\": 4.0, \"Meat:filling\": 5.0, \"Uniformity\": 5.0, \"Salsa\": null, \"Synergy\": 5.0, \"Wrap\": 4.5, \"Great\": \"Great\"}, {\"Burrito\": \"Other\", \"Date\": \"5/13/2016\", \"Tortilla\": 5.0, \"Temp\": 4.0, \"Meat\": null, \"Fillings\": 5.0, \"Meat:filling\": 5.0, \"Uniformity\": 4.0, \"Salsa\": null, \"Synergy\": 5.0, \"Wrap\": 3.0, \"Great\": \"Great\"}, {\"Burrito\": \"Other\", \"Date\": \"5/13/2016\", \"Tortilla\": 5.0, \"Temp\": 4.5, \"Meat\": 5.0, \"Fillings\": 5.0, \"Meat:filling\": 5.0, \"Uniformity\": 5.0, \"Salsa\": null, \"Synergy\": 5.0, \"Wrap\": 4.0, \"Great\": \"Great\"}, {\"Burrito\": \"Other\", \"Date\": \"5/15/2016\", \"Tortilla\": 4.0, \"Temp\": 4.0, \"Meat\": 4.0, \"Fillings\": 3.5, \"Meat:filling\": 2.5, \"Uniformity\": 3.5, \"Salsa\": 4.0, \"Synergy\": 3.5, \"Wrap\": 2.5, \"Great\": \"Not\"}, {\"Burrito\": \"California\", \"Date\": \"5/15/2016\", \"Tortilla\": 3.5, \"Temp\": 4.0, \"Meat\": 3.5, \"Fillings\": 3.5, \"Meat:filling\": 3.0, \"Uniformity\": 1.0, \"Salsa\": 4.0, \"Synergy\": 4.0, \"Wrap\": 4.5, \"Great\": \"Not\"}, {\"Burrito\": \"California\", \"Date\": \"5/18/2016\", \"Tortilla\": 4.0, \"Temp\": 4.5, \"Meat\": 3.0, \"Fillings\": 3.0, \"Meat:filling\": 5.0, \"Uniformity\": 3.0, \"Salsa\": 4.0, \"Synergy\": 3.0, \"Wrap\": 5.0, \"Great\": \"Not\"}, {\"Burrito\": \"Other\", \"Date\": \"5/18/2016\", \"Tortilla\": 4.5, \"Temp\": 4.0, \"Meat\": 3.5, \"Fillings\": 4.0, \"Meat:filling\": 3.5, \"Uniformity\": 4.0, \"Salsa\": 3.0, \"Synergy\": 4.0, \"Wrap\": 5.0, \"Great\": \"Not\"}, {\"Burrito\": \"Other\", \"Date\": \"5/20/2016\", \"Tortilla\": 1.5, \"Temp\": 1.0, \"Meat\": 2.0, \"Fillings\": 2.0, \"Meat:filling\": 2.0, \"Uniformity\": 2.0, \"Salsa\": 2.0, \"Synergy\": 2.0, \"Wrap\": 1.0, \"Great\": \"Not\"}, {\"Burrito\": \"California\", \"Date\": \"5/22/2016\", \"Tortilla\": 3.0, \"Temp\": null, \"Meat\": 4.0, \"Fillings\": 5.0, \"Meat:filling\": 4.0, \"Uniformity\": 4.0, \"Salsa\": null, \"Synergy\": 5.0, \"Wrap\": 5.0, \"Great\": \"Great\"}, {\"Burrito\": \"Other\", \"Date\": \"5/16/2016\", \"Tortilla\": 3.0, \"Temp\": null, \"Meat\": 4.0, \"Fillings\": 5.0, \"Meat:filling\": 4.0, \"Uniformity\": 4.0, \"Salsa\": 5.0, \"Synergy\": 4.0, \"Wrap\": 3.0, \"Great\": \"Great\"}, {\"Burrito\": \"Other\", \"Date\": \"5/20/2016\", \"Tortilla\": 3.0, \"Temp\": null, \"Meat\": 4.0, \"Fillings\": 4.0, \"Meat:filling\": 5.0, \"Uniformity\": 4.0, \"Salsa\": 4.0, \"Synergy\": 5.0, \"Wrap\": 4.0, \"Great\": \"Great\"}, {\"Burrito\": \"California\", \"Date\": \"5/16/2016\", \"Tortilla\": 4.0, \"Temp\": null, \"Meat\": 4.0, \"Fillings\": 4.0, \"Meat:filling\": 5.0, \"Uniformity\": 4.0, \"Salsa\": 4.0, \"Synergy\": 4.0, \"Wrap\": 5.0, \"Great\": \"Great\"}, {\"Burrito\": \"Other\", \"Date\": \"5/16/2011\", \"Tortilla\": 3.0, \"Temp\": null, \"Meat\": 2.0, \"Fillings\": 3.0, \"Meat:filling\": 2.0, \"Uniformity\": 3.0, \"Salsa\": 2.0, \"Synergy\": 3.0, \"Wrap\": 2.0, \"Great\": \"Not\"}, {\"Burrito\": \"Other\", \"Date\": \"5/20/2016\", \"Tortilla\": 3.0, \"Temp\": null, \"Meat\": 1.0, \"Fillings\": 2.0, \"Meat:filling\": 2.0, \"Uniformity\": 2.0, \"Salsa\": 2.0, \"Synergy\": 2.0, \"Wrap\": 1.0, \"Great\": \"Not\"}, {\"Burrito\": \"Other\", \"Date\": \"5/22/2016\", \"Tortilla\": 3.0, \"Temp\": null, \"Meat\": 5.0, \"Fillings\": 3.0, \"Meat:filling\": 3.0, \"Uniformity\": 4.0, \"Salsa\": 4.0, \"Synergy\": 4.0, \"Wrap\": 4.0, \"Great\": \"Great\"}, {\"Burrito\": \"Other\", \"Date\": \"4/20/2015\", \"Tortilla\": 5.0, \"Temp\": null, \"Meat\": 5.0, \"Fillings\": 5.0, \"Meat:filling\": 5.0, \"Uniformity\": 4.0, \"Salsa\": 5.0, \"Synergy\": 5.0, \"Wrap\": 5.0, \"Great\": \"Great\"}, {\"Burrito\": \"California\", \"Date\": \"5/23/2016\", \"Tortilla\": 4.0, \"Temp\": 2.0, \"Meat\": 4.0, \"Fillings\": 5.0, \"Meat:filling\": 4.0, \"Uniformity\": 2.0, \"Salsa\": 4.0, \"Synergy\": 4.5, \"Wrap\": 5.0, \"Great\": \"Great\"}, {\"Burrito\": \"California\", \"Date\": \"5/23/2016\", \"Tortilla\": 4.0, \"Temp\": 2.0, \"Meat\": 4.5, \"Fillings\": 4.0, \"Meat:filling\": 3.5, \"Uniformity\": 2.0, \"Salsa\": 3.0, \"Synergy\": 4.0, \"Wrap\": 4.0, \"Great\": \"Great\"}, {\"Burrito\": \"Carne Asada\", \"Date\": \"5/23/2016\", \"Tortilla\": 4.5, \"Temp\": 2.0, \"Meat\": 3.3, \"Fillings\": 3.4, \"Meat:filling\": 4.5, \"Uniformity\": 4.5, \"Salsa\": 3.8, \"Synergy\": 3.7, \"Wrap\": 5.0, \"Great\": \"Not\"}, {\"Burrito\": \"Carne Asada\", \"Date\": \"5/24/2016\", \"Tortilla\": 1.5, \"Temp\": 4.0, \"Meat\": 2.0, \"Fillings\": 2.0, \"Meat:filling\": 4.5, \"Uniformity\": 1.0, \"Salsa\": 1.0, \"Synergy\": 2.0, \"Wrap\": 5.0, \"Great\": \"Not\"}, {\"Burrito\": \"Carnitas\", \"Date\": \"5/24/2016\", \"Tortilla\": 2.0, \"Temp\": 3.5, \"Meat\": 4.0, \"Fillings\": 2.5, \"Meat:filling\": 3.5, \"Uniformity\": 1.5, \"Salsa\": 1.5, \"Synergy\": 3.0, \"Wrap\": 5.0, \"Great\": \"Not\"}, {\"Burrito\": \"California\", \"Date\": \"5/26/2016\", \"Tortilla\": 4.5, \"Temp\": 5.0, \"Meat\": 3.0, \"Fillings\": 4.0, \"Meat:filling\": 2.0, \"Uniformity\": 2.0, \"Salsa\": 2.0, \"Synergy\": 3.75, \"Wrap\": 4.0, \"Great\": \"Not\"}, {\"Burrito\": \"Other\", \"Date\": \"5/26/2016\", \"Tortilla\": 3.5, \"Temp\": 4.0, \"Meat\": 3.5, \"Fillings\": 3.0, \"Meat:filling\": 3.5, \"Uniformity\": 3.5, \"Salsa\": 2.5, \"Synergy\": 3.0, \"Wrap\": 2.5, \"Great\": \"Not\"}, {\"Burrito\": \"Carne Asada\", \"Date\": \"5/27/2016\", \"Tortilla\": 1.5, \"Temp\": 2.5, \"Meat\": 3.0, \"Fillings\": 4.5, \"Meat:filling\": 4.0, \"Uniformity\": 2.0, \"Salsa\": 2.75, \"Synergy\": 3.75, \"Wrap\": 3.0, \"Great\": \"Not\"}, {\"Burrito\": \"Other\", \"Date\": \"5/27/2016\", \"Tortilla\": 3.0, \"Temp\": 3.0, \"Meat\": 4.0, \"Fillings\": 4.0, \"Meat:filling\": 3.5, \"Uniformity\": 3.5, \"Salsa\": 2.5, \"Synergy\": 4.0, \"Wrap\": 0.5, \"Great\": \"Not\"}, {\"Burrito\": \"Other\", \"Date\": \"5/27/2016\", \"Tortilla\": 3.5, \"Temp\": 4.5, \"Meat\": null, \"Fillings\": 3.0, \"Meat:filling\": null, \"Uniformity\": 4.0, \"Salsa\": 3.0, \"Synergy\": 2.5, \"Wrap\": 4.0, \"Great\": \"Not\"}, {\"Burrito\": \"Other\", \"Date\": \"5/29/2016\", \"Tortilla\": 3.5, \"Temp\": 4.0, \"Meat\": 4.0, \"Fillings\": 4.5, \"Meat:filling\": 2.5, \"Uniformity\": 2.5, \"Salsa\": 3.0, \"Synergy\": 4.0, \"Wrap\": 2.0, \"Great\": \"Great\"}, {\"Burrito\": \"Other\", \"Date\": \"5/29/2016\", \"Tortilla\": 3.0, \"Temp\": 4.0, \"Meat\": 4.0, \"Fillings\": 4.0, \"Meat:filling\": 3.0, \"Uniformity\": 2.5, \"Salsa\": 4.5, \"Synergy\": 4.0, \"Wrap\": 1.5, \"Great\": \"Great\"}, {\"Burrito\": \"California\", \"Date\": \"5/29/2016\", \"Tortilla\": 3.0, \"Temp\": 5.0, \"Meat\": 3.5, \"Fillings\": 3.5, \"Meat:filling\": 4.0, \"Uniformity\": 4.0, \"Salsa\": 2.5, \"Synergy\": 3.0, \"Wrap\": 5.0, \"Great\": \"Not\"}, {\"Burrito\": \"Other\", \"Date\": \"6/1/2016\", \"Tortilla\": 3.0, \"Temp\": 4.0, \"Meat\": 1.5, \"Fillings\": 2.0, \"Meat:filling\": 3.0, \"Uniformity\": 5.0, \"Salsa\": 3.0, \"Synergy\": 2.5, \"Wrap\": 5.0, \"Great\": \"Not\"}, {\"Burrito\": \"Other\", \"Date\": \"6/1/2016\", \"Tortilla\": 3.5, \"Temp\": 3.0, \"Meat\": 2.5, \"Fillings\": 2.4, \"Meat:filling\": 3.5, \"Uniformity\": 4.5, \"Salsa\": 3.0, \"Synergy\": 3.0, \"Wrap\": 1.5, \"Great\": \"Not\"}, {\"Burrito\": \"Carne Asada\", \"Date\": \"5/21/2016\", \"Tortilla\": 3.5, \"Temp\": 3.0, \"Meat\": 2.0, \"Fillings\": 2.0, \"Meat:filling\": 2.5, \"Uniformity\": 3.0, \"Salsa\": 2.0, \"Synergy\": 1.5, \"Wrap\": 1.0, \"Great\": \"Not\"}, {\"Burrito\": \"Other\", \"Date\": \"6/20/2016\", \"Tortilla\": 4.0, \"Temp\": 5.0, \"Meat\": null, \"Fillings\": 5.0, \"Meat:filling\": 4.0, \"Uniformity\": 4.0, \"Salsa\": 5.0, \"Synergy\": 5.0, \"Wrap\": 5.0, \"Great\": \"Great\"}, {\"Burrito\": \"Other\", \"Date\": \"5/31/2016\", \"Tortilla\": 5.0, \"Temp\": 5.0, \"Meat\": 5.0, \"Fillings\": 5.0, \"Meat:filling\": 5.0, \"Uniformity\": 5.0, \"Salsa\": null, \"Synergy\": 5.0, \"Wrap\": 4.5, \"Great\": \"Great\"}, {\"Burrito\": \"Carne Asada\", \"Date\": \"5/5/2016\", \"Tortilla\": 4.0, \"Temp\": 4.0, \"Meat\": 5.0, \"Fillings\": 5.0, \"Meat:filling\": 5.0, \"Uniformity\": 5.0, \"Salsa\": 5.0, \"Synergy\": 5.0, \"Wrap\": 4.0, \"Great\": \"Great\"}, {\"Burrito\": \"Other\", \"Date\": \"5/20/2016\", \"Tortilla\": 4.5, \"Temp\": 3.5, \"Meat\": null, \"Fillings\": 4.5, \"Meat:filling\": null, \"Uniformity\": 3.5, \"Salsa\": 3.0, \"Synergy\": 4.0, \"Wrap\": 4.0, \"Great\": \"Great\"}, {\"Burrito\": \"Surf & Turf\", \"Date\": \"5/19/2016\", \"Tortilla\": 5.0, \"Temp\": 5.0, \"Meat\": 5.0, \"Fillings\": 5.0, \"Meat:filling\": 5.0, \"Uniformity\": 5.0, \"Salsa\": 5.0, \"Synergy\": 5.0, \"Wrap\": 5.0, \"Great\": \"Great\"}, {\"Burrito\": \"Other\", \"Date\": \"5/19/2016\", \"Tortilla\": 3.8, \"Temp\": 4.0, \"Meat\": null, \"Fillings\": 4.7, \"Meat:filling\": null, \"Uniformity\": 5.0, \"Salsa\": null, \"Synergy\": 4.7, \"Wrap\": 5.0, \"Great\": \"Great\"}, {\"Burrito\": \"California\", \"Date\": \"5/27/2016\", \"Tortilla\": 4.0, \"Temp\": 5.0, \"Meat\": 5.0, \"Fillings\": 5.0, \"Meat:filling\": 5.0, \"Uniformity\": 4.0, \"Salsa\": 5.0, \"Synergy\": 5.0, \"Wrap\": 5.0, \"Great\": \"Great\"}, {\"Burrito\": \"Surf & Turf\", \"Date\": \"5/28/2016\", \"Tortilla\": 4.0, \"Temp\": 5.0, \"Meat\": 5.0, \"Fillings\": 5.0, \"Meat:filling\": 5.0, \"Uniformity\": 5.0, \"Salsa\": 5.0, \"Synergy\": 5.0, \"Wrap\": 5.0, \"Great\": \"Great\"}, {\"Burrito\": \"California\", \"Date\": \"6/3/2016\", \"Tortilla\": 2.0, \"Temp\": 1.0, \"Meat\": 3.0, \"Fillings\": 3.0, \"Meat:filling\": 1.0, \"Uniformity\": null, \"Salsa\": 3.0, \"Synergy\": 2.0, \"Wrap\": 4.0, \"Great\": \"Not\"}, {\"Burrito\": \"California\", \"Date\": \"6/3/2016\", \"Tortilla\": 4.5, \"Temp\": 4.0, \"Meat\": 3.5, \"Fillings\": 4.0, \"Meat:filling\": 1.0, \"Uniformity\": 1.0, \"Salsa\": 2.0, \"Synergy\": 2.0, \"Wrap\": 4.0, \"Great\": \"Not\"}, {\"Burrito\": \"California\", \"Date\": \"6/3/2016\", \"Tortilla\": 3.0, \"Temp\": 4.0, \"Meat\": 3.0, \"Fillings\": 2.0, \"Meat:filling\": 1.5, \"Uniformity\": 1.0, \"Salsa\": 3.0, \"Synergy\": 1.5, \"Wrap\": 3.0, \"Great\": \"Not\"}, {\"Burrito\": \"Other\", \"Date\": \"6/3/2016\", \"Tortilla\": 3.0, \"Temp\": 3.0, \"Meat\": 1.0, \"Fillings\": 4.0, \"Meat:filling\": 2.0, \"Uniformity\": 2.0, \"Salsa\": 3.0, \"Synergy\": 2.0, \"Wrap\": 1.0, \"Great\": \"Not\"}, {\"Burrito\": \"Other\", \"Date\": \"6/3/2016\", \"Tortilla\": 4.0, \"Temp\": 3.5, \"Meat\": 4.0, \"Fillings\": 4.0, \"Meat:filling\": 2.0, \"Uniformity\": 4.0, \"Salsa\": 4.0, \"Synergy\": 4.0, \"Wrap\": 3.0, \"Great\": \"Not\"}, {\"Burrito\": \"Carnitas\", \"Date\": \"6/3/2016\", \"Tortilla\": 4.0, \"Temp\": 4.0, \"Meat\": 2.5, \"Fillings\": 2.0, \"Meat:filling\": 3.0, \"Uniformity\": 2.0, \"Salsa\": 2.0, \"Synergy\": 2.0, \"Wrap\": 3.0, \"Great\": \"Not\"}, {\"Burrito\": \"Other\", \"Date\": \"6/5/2016\", \"Tortilla\": 3.5, \"Temp\": 4.5, \"Meat\": 4.5, \"Fillings\": 4.0, \"Meat:filling\": 1.5, \"Uniformity\": 1.5, \"Salsa\": 3.0, \"Synergy\": 4.0, \"Wrap\": 5.0, \"Great\": \"Not\"}, {\"Burrito\": \"Other\", \"Date\": \"6/5/2016\", \"Tortilla\": 4.0, \"Temp\": 4.0, \"Meat\": 4.0, \"Fillings\": 3.5, \"Meat:filling\": 4.0, \"Uniformity\": 4.0, \"Salsa\": 4.0, \"Synergy\": 4.5, \"Wrap\": 4.5, \"Great\": \"Great\"}, {\"Burrito\": \"Other\", \"Date\": \"6/6/2016\", \"Tortilla\": 4.0, \"Temp\": 3.5, \"Meat\": 4.0, \"Fillings\": 3.5, \"Meat:filling\": 4.0, \"Uniformity\": 5.0, \"Salsa\": 2.5, \"Synergy\": 4.0, \"Wrap\": 4.5, \"Great\": \"Not\"}, {\"Burrito\": \"Other\", \"Date\": \"6/6/2016\", \"Tortilla\": 4.0, \"Temp\": 4.0, \"Meat\": 4.0, \"Fillings\": 4.0, \"Meat:filling\": 2.0, \"Uniformity\": 3.0, \"Salsa\": 3.0, \"Synergy\": 4.0, \"Wrap\": 3.0, \"Great\": \"Not\"}, {\"Burrito\": \"California\", \"Date\": \"6/8/2016\", \"Tortilla\": 3.5, \"Temp\": 3.0, \"Meat\": 3.0, \"Fillings\": 4.0, \"Meat:filling\": 1.5, \"Uniformity\": 4.0, \"Salsa\": 4.0, \"Synergy\": 4.0, \"Wrap\": 4.0, \"Great\": \"Not\"}, {\"Burrito\": \"Carne Asada\", \"Date\": \"6/8/2016\", \"Tortilla\": 3.5, \"Temp\": 3.0, \"Meat\": 2.8, \"Fillings\": 3.5, \"Meat:filling\": 4.0, \"Uniformity\": 4.0, \"Salsa\": 4.0, \"Synergy\": 3.5, \"Wrap\": 5.0, \"Great\": \"Not\"}, {\"Burrito\": \"California\", \"Date\": \"6/9/2016\", \"Tortilla\": 3.5, \"Temp\": 4.5, \"Meat\": 4.0, \"Fillings\": 3.5, \"Meat:filling\": 5.0, \"Uniformity\": 4.5, \"Salsa\": 3.0, \"Synergy\": 3.5, \"Wrap\": 5.0, \"Great\": \"Great\"}, {\"Burrito\": \"Carne Asada\", \"Date\": \"6/11/2016\", \"Tortilla\": 3.0, \"Temp\": 4.5, \"Meat\": 4.5, \"Fillings\": 3.5, \"Meat:filling\": 3.5, \"Uniformity\": 3.5, \"Salsa\": 1.0, \"Synergy\": 4.0, \"Wrap\": 1.0, \"Great\": \"Not\"}, {\"Burrito\": \"Other\", \"Date\": \"6/11/2016\", \"Tortilla\": 3.0, \"Temp\": 5.0, \"Meat\": 4.0, \"Fillings\": 3.0, \"Meat:filling\": 5.0, \"Uniformity\": 4.0, \"Salsa\": 3.0, \"Synergy\": 4.0, \"Wrap\": 3.0, \"Great\": \"Great\"}, {\"Burrito\": \"Carne Asada\", \"Date\": \"6/11/2016\", \"Tortilla\": 4.0, \"Temp\": 5.0, \"Meat\": 3.5, \"Fillings\": 3.0, \"Meat:filling\": 4.0, \"Uniformity\": 4.0, \"Salsa\": 3.0, \"Synergy\": 3.0, \"Wrap\": 3.0, \"Great\": \"Not\"}, {\"Burrito\": \"California\", \"Date\": \"6/16/2016\", \"Tortilla\": 4.0, \"Temp\": 4.0, \"Meat\": 4.0, \"Fillings\": 4.5, \"Meat:filling\": 3.2, \"Uniformity\": 3.0, \"Salsa\": 4.5, \"Synergy\": 4.5, \"Wrap\": 2.0, \"Great\": \"Great\"}, {\"Burrito\": \"Other\", \"Date\": \"6/16/2016\", \"Tortilla\": 3.5, \"Temp\": 3.5, \"Meat\": 3.5, \"Fillings\": 3.5, \"Meat:filling\": 4.0, \"Uniformity\": 4.0, \"Salsa\": 4.5, \"Synergy\": 3.5, \"Wrap\": 4.5, \"Great\": \"Not\"}, {\"Burrito\": \"California\", \"Date\": \"6/23/2016\", \"Tortilla\": 2.8, \"Temp\": 3.0, \"Meat\": 3.0, \"Fillings\": 2.0, \"Meat:filling\": 2.0, \"Uniformity\": 4.5, \"Salsa\": 2.0, \"Synergy\": 1.5, \"Wrap\": 4.5, \"Great\": \"Not\"}, {\"Burrito\": \"California\", \"Date\": \"6/23/2016\", \"Tortilla\": 4.0, \"Temp\": 4.0, \"Meat\": 4.0, \"Fillings\": 3.0, \"Meat:filling\": 4.0, \"Uniformity\": 5.0, \"Salsa\": 4.0, \"Synergy\": 4.0, \"Wrap\": 5.0, \"Great\": \"Great\"}, {\"Burrito\": \"California\", \"Date\": \"6/23/2016\", \"Tortilla\": 3.5, \"Temp\": 2.0, \"Meat\": 3.0, \"Fillings\": 4.0, \"Meat:filling\": 2.0, \"Uniformity\": 4.0, \"Salsa\": 3.0, \"Synergy\": 3.0, \"Wrap\": 4.0, \"Great\": \"Not\"}, {\"Burrito\": \"Other\", \"Date\": \"6/23/2016\", \"Tortilla\": 4.0, \"Temp\": 3.0, \"Meat\": 4.0, \"Fillings\": 4.0, \"Meat:filling\": 4.0, \"Uniformity\": 5.0, \"Salsa\": 3.0, \"Synergy\": 4.0, \"Wrap\": 5.0, \"Great\": \"Not\"}, {\"Burrito\": \"California\", \"Date\": \"6/24/2016\", \"Tortilla\": 3.8, \"Temp\": 1.3, \"Meat\": 3.5, \"Fillings\": 3.5, \"Meat:filling\": 4.5, \"Uniformity\": 4.5, \"Salsa\": 3.5, \"Synergy\": 4.0, \"Wrap\": 5.0, \"Great\": \"Not\"}, {\"Burrito\": \"California\", \"Date\": \"6/24/2016\", \"Tortilla\": 4.0, \"Temp\": 4.0, \"Meat\": 4.5, \"Fillings\": 4.0, \"Meat:filling\": 4.0, \"Uniformity\": 3.5, \"Salsa\": 4.0, \"Synergy\": 4.0, \"Wrap\": 4.5, \"Great\": \"Great\"}, {\"Burrito\": \"California\", \"Date\": \"6/24/2016\", \"Tortilla\": 3.0, \"Temp\": 2.5, \"Meat\": 4.0, \"Fillings\": 4.0, \"Meat:filling\": 4.0, \"Uniformity\": 2.0, \"Salsa\": 2.0, \"Synergy\": 3.0, \"Wrap\": 4.0, \"Great\": \"Great\"}, {\"Burrito\": \"California\", \"Date\": \"6/24/2016\", \"Tortilla\": 5.0, \"Temp\": 4.0, \"Meat\": 4.0, \"Fillings\": 4.5, \"Meat:filling\": 4.0, \"Uniformity\": 4.5, \"Salsa\": null, \"Synergy\": 4.0, \"Wrap\": 4.0, \"Great\": \"Great\"}, {\"Burrito\": \"California\", \"Date\": \"6/24/2016\", \"Tortilla\": 4.0, \"Temp\": 3.5, \"Meat\": 4.5, \"Fillings\": 4.0, \"Meat:filling\": 4.5, \"Uniformity\": 4.0, \"Salsa\": 4.5, \"Synergy\": 4.5, \"Wrap\": 5.0, \"Great\": \"Great\"}, {\"Burrito\": \"Carnitas\", \"Date\": \"6/24/2016\", \"Tortilla\": 5.0, \"Temp\": 4.0, \"Meat\": 5.0, \"Fillings\": 4.0, \"Meat:filling\": 4.5, \"Uniformity\": 4.0, \"Salsa\": 4.0, \"Synergy\": 4.5, \"Wrap\": 4.0, \"Great\": \"Great\"}, {\"Burrito\": \"Carne Asada\", \"Date\": \"6/24/2016\", \"Tortilla\": 4.0, \"Temp\": 3.0, \"Meat\": 4.0, \"Fillings\": 3.0, \"Meat:filling\": 4.0, \"Uniformity\": 3.0, \"Salsa\": 3.0, \"Synergy\": 4.0, \"Wrap\": 4.0, \"Great\": \"Great\"}, {\"Burrito\": \"Carne Asada\", \"Date\": \"6/24/2016\", \"Tortilla\": 4.0, \"Temp\": 5.0, \"Meat\": 4.5, \"Fillings\": 4.0, \"Meat:filling\": 4.5, \"Uniformity\": 4.0, \"Salsa\": 3.0, \"Synergy\": 4.0, \"Wrap\": 5.0, \"Great\": \"Great\"}, {\"Burrito\": \"Carne Asada\", \"Date\": \"6/24/2016\", \"Tortilla\": 4.0, \"Temp\": 3.0, \"Meat\": 5.0, \"Fillings\": 4.0, \"Meat:filling\": 4.0, \"Uniformity\": 4.0, \"Salsa\": 5.0, \"Synergy\": 5.0, \"Wrap\": 3.0, \"Great\": \"Great\"}, {\"Burrito\": \"California\", \"Date\": \"8/1/2016\", \"Tortilla\": 4.0, \"Temp\": 4.0, \"Meat\": 3.5, \"Fillings\": 4.0, \"Meat:filling\": 3.0, \"Uniformity\": 4.0, \"Salsa\": 4.0, \"Synergy\": 3.5, \"Wrap\": 4.5, \"Great\": \"Not\"}, {\"Burrito\": \"California\", \"Date\": \"8/1/2016\", \"Tortilla\": 3.0, \"Temp\": 2.0, \"Meat\": 4.0, \"Fillings\": 5.0, \"Meat:filling\": 4.0, \"Uniformity\": 4.0, \"Salsa\": 3.0, \"Synergy\": 4.0, \"Wrap\": 3.0, \"Great\": \"Great\"}, {\"Burrito\": \"California\", \"Date\": \"8/1/2016\", \"Tortilla\": 4.0, \"Temp\": 3.5, \"Meat\": 3.5, \"Fillings\": 4.0, \"Meat:filling\": 3.5, \"Uniformity\": 4.0, \"Salsa\": 3.5, \"Synergy\": 4.0, \"Wrap\": 4.5, \"Great\": \"Great\"}, {\"Burrito\": \"California\", \"Date\": \"8/1/2016\", \"Tortilla\": 3.5, \"Temp\": 2.0, \"Meat\": 3.0, \"Fillings\": 3.5, \"Meat:filling\": 3.5, \"Uniformity\": 2.5, \"Salsa\": 2.5, \"Synergy\": 3.5, \"Wrap\": 4.5, \"Great\": \"Not\"}, {\"Burrito\": \"Carne Asada\", \"Date\": \"8/1/2016\", \"Tortilla\": 4.5, \"Temp\": 4.0, \"Meat\": 4.0, \"Fillings\": 4.5, \"Meat:filling\": 4.0, \"Uniformity\": 4.0, \"Salsa\": 4.5, \"Synergy\": 4.5, \"Wrap\": 4.0, \"Great\": \"Great\"}, {\"Burrito\": \"Surf & Turf\", \"Date\": \"8/6/2016\", \"Tortilla\": 4.0, \"Temp\": 4.0, \"Meat\": 2.0, \"Fillings\": 3.0, \"Meat:filling\": 2.0, \"Uniformity\": 3.5, \"Salsa\": 3.0, \"Synergy\": 3.0, \"Wrap\": 4.5, \"Great\": \"Not\"}, {\"Burrito\": \"Other\", \"Date\": \"8/6/2016\", \"Tortilla\": 4.0, \"Temp\": 2.5, \"Meat\": 2.5, \"Fillings\": 3.0, \"Meat:filling\": 2.0, \"Uniformity\": 4.0, \"Salsa\": 3.5, \"Synergy\": 3.0, \"Wrap\": 4.5, \"Great\": \"Not\"}, {\"Burrito\": \"Carne Asada\", \"Date\": \"8/6/2016\", \"Tortilla\": 3.5, \"Temp\": 3.0, \"Meat\": 2.0, \"Fillings\": 2.0, \"Meat:filling\": 1.0, \"Uniformity\": 3.0, \"Salsa\": 3.5, \"Synergy\": 1.5, \"Wrap\": 4.0, \"Great\": \"Not\"}, {\"Burrito\": \"California\", \"Date\": \"8/9/2016\", \"Tortilla\": 3.5, \"Temp\": 3.5, \"Meat\": 2.5, \"Fillings\": 2.5, \"Meat:filling\": 2.5, \"Uniformity\": 4.0, \"Salsa\": 2.0, \"Synergy\": 1.5, \"Wrap\": 5.0, \"Great\": \"Not\"}, {\"Burrito\": \"California\", \"Date\": \"8/9/2016\", \"Tortilla\": 4.0, \"Temp\": 5.0, \"Meat\": 3.0, \"Fillings\": 3.0, \"Meat:filling\": 4.0, \"Uniformity\": 3.5, \"Salsa\": 4.0, \"Synergy\": 4.0, \"Wrap\": 5.0, \"Great\": \"Not\"}, {\"Burrito\": \"California\", \"Date\": \"8/10/2016\", \"Tortilla\": 4.5, \"Temp\": 4.5, \"Meat\": 3.5, \"Fillings\": 4.0, \"Meat:filling\": 4.5, \"Uniformity\": 5.0, \"Salsa\": 2.5, \"Synergy\": 4.5, \"Wrap\": 5.0, \"Great\": \"Great\"}, {\"Burrito\": \"California\", \"Date\": \"8/12/2016\", \"Tortilla\": 3.5, \"Temp\": 4.5, \"Meat\": 3.5, \"Fillings\": 3.5, \"Meat:filling\": 3.0, \"Uniformity\": 1.5, \"Salsa\": 2.5, \"Synergy\": 3.5, \"Wrap\": 5.0, \"Great\": \"Not\"}, {\"Burrito\": \"Carne Asada\", \"Date\": \"8/12/2016\", \"Tortilla\": 3.0, \"Temp\": 5.0, \"Meat\": 4.5, \"Fillings\": 4.5, \"Meat:filling\": 3.0, \"Uniformity\": 4.0, \"Salsa\": 4.5, \"Synergy\": 4.0, \"Wrap\": 4.5, \"Great\": \"Great\"}, {\"Burrito\": \"Other\", \"Date\": \"8/16/2016\", \"Tortilla\": 3.0, \"Temp\": 3.0, \"Meat\": 3.0, \"Fillings\": 3.0, \"Meat:filling\": 2.5, \"Uniformity\": 2.0, \"Salsa\": 2.5, \"Synergy\": 3.0, \"Wrap\": 4.0, \"Great\": \"Not\"}, {\"Burrito\": \"California\", \"Date\": \"8/16/2016\", \"Tortilla\": 2.5, \"Temp\": 4.5, \"Meat\": 2.0, \"Fillings\": 3.0, \"Meat:filling\": 2.5, \"Uniformity\": 1.5, \"Salsa\": 3.0, \"Synergy\": 2.0, \"Wrap\": 4.5, \"Great\": \"Not\"}, {\"Burrito\": \"California\", \"Date\": \"8/17/2016\", \"Tortilla\": 4.0, \"Temp\": 5.0, \"Meat\": 4.5, \"Fillings\": 3.5, \"Meat:filling\": 3.5, \"Uniformity\": 2.0, \"Salsa\": 3.5, \"Synergy\": 4.0, \"Wrap\": 5.0, \"Great\": \"Great\"}, {\"Burrito\": \"California\", \"Date\": \"8/17/2016\", \"Tortilla\": 3.5, \"Temp\": 5.0, \"Meat\": 4.0, \"Fillings\": 3.0, \"Meat:filling\": 4.0, \"Uniformity\": 4.5, \"Salsa\": 3.0, \"Synergy\": 3.5, \"Wrap\": 5.0, \"Great\": \"Great\"}, {\"Burrito\": \"Other\", \"Date\": \"8/19/2016\", \"Tortilla\": 2.5, \"Temp\": 4.0, \"Meat\": 3.5, \"Fillings\": 4.0, \"Meat:filling\": 4.0, \"Uniformity\": 3.0, \"Salsa\": 1.5, \"Synergy\": 3.5, \"Wrap\": 5.0, \"Great\": \"Not\"}, {\"Burrito\": \"Carne Asada\", \"Date\": \"8/19/2016\", \"Tortilla\": 4.5, \"Temp\": 4.5, \"Meat\": 3.5, \"Fillings\": 4.0, \"Meat:filling\": 4.0, \"Uniformity\": 3.5, \"Salsa\": 4.0, \"Synergy\": 4.0, \"Wrap\": 4.0, \"Great\": \"Great\"}, {\"Burrito\": \"Other\", \"Date\": \"8/21/2016\", \"Tortilla\": 2.5, \"Temp\": 3.5, \"Meat\": 3.0, \"Fillings\": 3.0, \"Meat:filling\": 5.0, \"Uniformity\": 4.5, \"Salsa\": 3.5, \"Synergy\": 2.0, \"Wrap\": 5.0, \"Great\": \"Not\"}, {\"Burrito\": \"California\", \"Date\": \"8/21/2016\", \"Tortilla\": 3.0, \"Temp\": 4.0, \"Meat\": 4.0, \"Fillings\": 3.0, \"Meat:filling\": 3.5, \"Uniformity\": 4.5, \"Salsa\": 4.0, \"Synergy\": 4.0, \"Wrap\": 5.0, \"Great\": \"Great\"}, {\"Burrito\": \"California\", \"Date\": \"8/27/2016\", \"Tortilla\": 4.0, \"Temp\": 4.5, \"Meat\": 2.5, \"Fillings\": 2.5, \"Meat:filling\": 2.5, \"Uniformity\": 1.5, \"Salsa\": 3.0, \"Synergy\": 4.0, \"Wrap\": 5.0, \"Great\": \"Not\"}, {\"Burrito\": \"Other\", \"Date\": \"8/27/2016\", \"Tortilla\": 4.0, \"Temp\": 4.5, \"Meat\": 3.0, \"Fillings\": 3.5, \"Meat:filling\": 4.0, \"Uniformity\": 3.5, \"Salsa\": 2.5, \"Synergy\": 4.0, \"Wrap\": 4.5, \"Great\": \"Great\"}, {\"Burrito\": \"Other\", \"Date\": \"8/30/2016\", \"Tortilla\": 1.5, \"Temp\": 4.0, \"Meat\": 3.0, \"Fillings\": 3.0, \"Meat:filling\": 1.5, \"Uniformity\": 4.5, \"Salsa\": 2.5, \"Synergy\": 3.0, \"Wrap\": 1.5, \"Great\": \"Not\"}, {\"Burrito\": \"Surf & Turf\", \"Date\": \"8/30/2016\", \"Tortilla\": 3.0, \"Temp\": 2.5, \"Meat\": 3.0, \"Fillings\": 3.0, \"Meat:filling\": 3.0, \"Uniformity\": 3.0, \"Salsa\": 3.5, \"Synergy\": 3.0, \"Wrap\": 3.0, \"Great\": \"Not\"}, {\"Burrito\": \"Surf & Turf\", \"Date\": \"8/30/2016\", \"Tortilla\": 5.0, \"Temp\": 3.0, \"Meat\": 5.0, \"Fillings\": 4.0, \"Meat:filling\": 2.0, \"Uniformity\": 2.0, \"Salsa\": 5.0, \"Synergy\": 2.0, \"Wrap\": 2.0, \"Great\": \"Not\"}, {\"Burrito\": \"Surf & Turf\", \"Date\": \"8/30/2016\", \"Tortilla\": 2.1, \"Temp\": 1.9, \"Meat\": 2.6, \"Fillings\": 2.4, \"Meat:filling\": 2.9, \"Uniformity\": 3.2, \"Salsa\": 4.0, \"Synergy\": 2.5, \"Wrap\": 3.0, \"Great\": \"Not\"}, {\"Burrito\": \"Surf & Turf\", \"Date\": \"8/30/2016\", \"Tortilla\": 3.0, \"Temp\": 2.5, \"Meat\": 2.0, \"Fillings\": 2.8, \"Meat:filling\": 3.5, \"Uniformity\": 3.5, \"Salsa\": 4.0, \"Synergy\": 3.0, \"Wrap\": 4.0, \"Great\": \"Not\"}, {\"Burrito\": \"Surf & Turf\", \"Date\": \"8/30/2016\", \"Tortilla\": 3.6, \"Temp\": 3.2, \"Meat\": 3.2, \"Fillings\": 3.5, \"Meat:filling\": 3.6, \"Uniformity\": 3.5, \"Salsa\": null, \"Synergy\": 3.8, \"Wrap\": 3.9, \"Great\": \"Not\"}, {\"Burrito\": \"California\", \"Date\": \"8/30/2016\", \"Tortilla\": 3.0, \"Temp\": 3.0, \"Meat\": 4.0, \"Fillings\": 3.5, \"Meat:filling\": 3.0, \"Uniformity\": 2.0, \"Salsa\": 3.5, \"Synergy\": 3.5, \"Wrap\": 4.0, \"Great\": \"Not\"}, {\"Burrito\": \"California\", \"Date\": \"8/30/2016\", \"Tortilla\": 3.5, \"Temp\": 2.0, \"Meat\": 4.0, \"Fillings\": 3.0, \"Meat:filling\": 5.0, \"Uniformity\": 5.0, \"Salsa\": 4.0, \"Synergy\": 4.0, \"Wrap\": 5.0, \"Great\": \"Not\"}, {\"Burrito\": \"California\", \"Date\": \"8/30/2016\", \"Tortilla\": 4.0, \"Temp\": 3.0, \"Meat\": 3.0, \"Fillings\": 3.0, \"Meat:filling\": 3.0, \"Uniformity\": 2.0, \"Salsa\": 3.0, \"Synergy\": 3.0, \"Wrap\": 4.0, \"Great\": \"Not\"}, {\"Burrito\": \"California\", \"Date\": \"8/30/2016\", \"Tortilla\": 3.0, \"Temp\": 2.0, \"Meat\": 4.0, \"Fillings\": 3.0, \"Meat:filling\": 5.0, \"Uniformity\": 5.0, \"Salsa\": 4.0, \"Synergy\": 3.5, \"Wrap\": 5.0, \"Great\": \"Not\"}, {\"Burrito\": \"California\", \"Date\": \"8/30/2016\", \"Tortilla\": 3.5, \"Temp\": 2.0, \"Meat\": 5.0, \"Fillings\": 3.5, \"Meat:filling\": 4.0, \"Uniformity\": 2.5, \"Salsa\": 3.5, \"Synergy\": 3.0, \"Wrap\": 3.5, \"Great\": \"Not\"}, {\"Burrito\": \"California\", \"Date\": \"8/30/2016\", \"Tortilla\": 5.0, \"Temp\": 4.0, \"Meat\": 4.0, \"Fillings\": 4.0, \"Meat:filling\": 3.0, \"Uniformity\": 3.0, \"Salsa\": 4.0, \"Synergy\": 4.0, \"Wrap\": 4.0, \"Great\": \"Great\"}, {\"Burrito\": \"California\", \"Date\": \"8/30/2016\", \"Tortilla\": 4.0, \"Temp\": 3.0, \"Meat\": 3.5, \"Fillings\": 3.0, \"Meat:filling\": 5.0, \"Uniformity\": 4.0, \"Salsa\": 2.0, \"Synergy\": 3.0, \"Wrap\": 4.0, \"Great\": \"Not\"}, {\"Burrito\": \"Other\", \"Date\": \"8/30/2016\", \"Tortilla\": 3.8, \"Temp\": 4.0, \"Meat\": 4.0, \"Fillings\": 4.0, \"Meat:filling\": 4.0, \"Uniformity\": 4.0, \"Salsa\": 4.5, \"Synergy\": 4.5, \"Wrap\": 4.5, \"Great\": \"Great\"}, {\"Burrito\": \"Other\", \"Date\": \"8/30/2016\", \"Tortilla\": 5.0, \"Temp\": 5.0, \"Meat\": null, \"Fillings\": 5.0, \"Meat:filling\": null, \"Uniformity\": 5.0, \"Salsa\": 4.5, \"Synergy\": 5.0, \"Wrap\": 3.0, \"Great\": \"Great\"}, {\"Burrito\": \"Other\", \"Date\": \"8/30/2016\", \"Tortilla\": 4.5, \"Temp\": 4.5, \"Meat\": null, \"Fillings\": 3.5, \"Meat:filling\": null, \"Uniformity\": 3.0, \"Salsa\": 4.0, \"Synergy\": 3.5, \"Wrap\": 5.0, \"Great\": \"Not\"}, {\"Burrito\": \"Other\", \"Date\": \"8/30/2016\", \"Tortilla\": 4.0, \"Temp\": 3.0, \"Meat\": null, \"Fillings\": 1.0, \"Meat:filling\": null, \"Uniformity\": 3.0, \"Salsa\": 3.0, \"Synergy\": 2.0, \"Wrap\": 3.0, \"Great\": \"Not\"}, {\"Burrito\": \"California\", \"Date\": \"8/30/2016\", \"Tortilla\": 3.0, \"Temp\": 3.0, \"Meat\": 5.0, \"Fillings\": 3.5, \"Meat:filling\": 3.0, \"Uniformity\": 3.5, \"Salsa\": 4.5, \"Synergy\": 4.0, \"Wrap\": 4.5, \"Great\": \"Not\"}, {\"Burrito\": \"California\", \"Date\": \"8/30/2016\", \"Tortilla\": 3.5, \"Temp\": 3.0, \"Meat\": 2.0, \"Fillings\": 3.0, \"Meat:filling\": 3.0, \"Uniformity\": 2.0, \"Salsa\": 4.0, \"Synergy\": 2.5, \"Wrap\": 5.0, \"Great\": \"Not\"}, {\"Burrito\": \"California\", \"Date\": \"8/30/2016\", \"Tortilla\": 2.0, \"Temp\": 3.0, \"Meat\": 3.0, \"Fillings\": 3.0, \"Meat:filling\": 4.0, \"Uniformity\": 3.0, \"Salsa\": 4.0, \"Synergy\": 3.0, \"Wrap\": 5.0, \"Great\": \"Not\"}, {\"Burrito\": \"California\", \"Date\": \"8/30/2016\", \"Tortilla\": 3.5, \"Temp\": 4.0, \"Meat\": 4.5, \"Fillings\": 4.0, \"Meat:filling\": 3.5, \"Uniformity\": 3.5, \"Salsa\": 4.0, \"Synergy\": 4.0, \"Wrap\": 4.5, \"Great\": \"Great\"}, {\"Burrito\": \"California\", \"Date\": \"8/30/2016\", \"Tortilla\": 4.0, \"Temp\": 5.0, \"Meat\": 5.0, \"Fillings\": 4.0, \"Meat:filling\": 4.5, \"Uniformity\": 4.5, \"Salsa\": 5.0, \"Synergy\": 4.5, \"Wrap\": 4.0, \"Great\": \"Great\"}, {\"Burrito\": \"California\", \"Date\": \"8/30/2016\", \"Tortilla\": 3.5, \"Temp\": 2.5, \"Meat\": 3.0, \"Fillings\": 4.5, \"Meat:filling\": 3.0, \"Uniformity\": 2.0, \"Salsa\": 5.0, \"Synergy\": 4.5, \"Wrap\": 3.5, \"Great\": \"Not\"}, {\"Burrito\": \"California\", \"Date\": \"8/30/2016\", \"Tortilla\": 3.5, \"Temp\": 5.0, \"Meat\": 3.5, \"Fillings\": 4.0, \"Meat:filling\": 3.0, \"Uniformity\": 3.0, \"Salsa\": 4.0, \"Synergy\": 2.5, \"Wrap\": 5.0, \"Great\": \"Not\"}, {\"Burrito\": \"Other\", \"Date\": \"8/30/2016\", \"Tortilla\": 3.5, \"Temp\": 2.0, \"Meat\": 3.5, \"Fillings\": 3.5, \"Meat:filling\": 3.0, \"Uniformity\": 4.0, \"Salsa\": 2.0, \"Synergy\": 2.0, \"Wrap\": 4.0, \"Great\": \"Not\"}, {\"Burrito\": \"Other\", \"Date\": \"8/30/2016\", \"Tortilla\": 2.5, \"Temp\": 2.5, \"Meat\": 3.0, \"Fillings\": 2.0, \"Meat:filling\": 2.0, \"Uniformity\": 1.0, \"Salsa\": 5.0, \"Synergy\": 1.0, \"Wrap\": 5.0, \"Great\": \"Not\"}, {\"Burrito\": \"Other\", \"Date\": \"8/30/2016\", \"Tortilla\": 5.0, \"Temp\": 3.0, \"Meat\": 5.0, \"Fillings\": 5.0, \"Meat:filling\": 3.0, \"Uniformity\": 2.0, \"Salsa\": 2.0, \"Synergy\": 3.0, \"Wrap\": 5.0, \"Great\": \"Great\"}, {\"Burrito\": \"Other\", \"Date\": \"8/30/2016\", \"Tortilla\": 5.0, \"Temp\": 4.0, \"Meat\": 2.0, \"Fillings\": 1.0, \"Meat:filling\": 4.0, \"Uniformity\": 3.0, \"Salsa\": 5.0, \"Synergy\": 4.0, \"Wrap\": 2.0, \"Great\": \"Not\"}, {\"Burrito\": \"Other\", \"Date\": \"8/30/2016\", \"Tortilla\": 4.0, \"Temp\": 4.0, \"Meat\": 3.5, \"Fillings\": 4.5, \"Meat:filling\": 4.0, \"Uniformity\": 4.0, \"Salsa\": 5.0, \"Synergy\": 4.5, \"Wrap\": 4.0, \"Great\": \"Great\"}, {\"Burrito\": \"Other\", \"Date\": \"9/5/2016\", \"Tortilla\": 2.5, \"Temp\": 2.5, \"Meat\": 4.0, \"Fillings\": 2.5, \"Meat:filling\": 1.0, \"Uniformity\": 1.0, \"Salsa\": 2.0, \"Synergy\": 4.0, \"Wrap\": 0.0, \"Great\": \"Not\"}, {\"Burrito\": \"Other\", \"Date\": \"9/5/2016\", \"Tortilla\": 2.0, \"Temp\": 2.5, \"Meat\": 3.5, \"Fillings\": 2.0, \"Meat:filling\": 3.0, \"Uniformity\": 2.5, \"Salsa\": 2.0, \"Synergy\": 2.5, \"Wrap\": 2.5, \"Great\": \"Not\"}, {\"Burrito\": \"Other\", \"Date\": \"9/9/2016\", \"Tortilla\": 4.0, \"Temp\": 5.0, \"Meat\": 3.5, \"Fillings\": 3.0, \"Meat:filling\": 3.5, \"Uniformity\": 3.5, \"Salsa\": 4.0, \"Synergy\": 2.5, \"Wrap\": 4.0, \"Great\": \"Not\"}, {\"Burrito\": \"California\", \"Date\": \"9/9/2016\", \"Tortilla\": 3.0, \"Temp\": 4.5, \"Meat\": 4.0, \"Fillings\": 4.0, \"Meat:filling\": 3.5, \"Uniformity\": 3.0, \"Salsa\": 4.0, \"Synergy\": 4.0, \"Wrap\": 5.0, \"Great\": \"Great\"}, {\"Burrito\": \"California\", \"Date\": \"9/11/2016\", \"Tortilla\": 3.0, \"Temp\": 4.5, \"Meat\": 4.0, \"Fillings\": 4.0, \"Meat:filling\": 4.0, \"Uniformity\": 5.0, \"Salsa\": 2.5, \"Synergy\": 3.0, \"Wrap\": 5.0, \"Great\": \"Not\"}, {\"Burrito\": \"California\", \"Date\": \"9/11/2016\", \"Tortilla\": 4.0, \"Temp\": 3.0, \"Meat\": 4.0, \"Fillings\": 2.5, \"Meat:filling\": 3.5, \"Uniformity\": 4.0, \"Salsa\": 2.0, \"Synergy\": 2.5, \"Wrap\": 5.0, \"Great\": \"Not\"}, {\"Burrito\": \"California\", \"Date\": \"9/11/2016\", \"Tortilla\": 3.8, \"Temp\": 4.7, \"Meat\": 4.0, \"Fillings\": 3.5, \"Meat:filling\": 4.5, \"Uniformity\": 4.0, \"Salsa\": 4.0, \"Synergy\": 4.5, \"Wrap\": 5.0, \"Great\": \"Great\"}, {\"Burrito\": \"Carne Asada\", \"Date\": \"9/11/2016\", \"Tortilla\": 4.0, \"Temp\": 3.0, \"Meat\": 1.5, \"Fillings\": 3.0, \"Meat:filling\": 4.0, \"Uniformity\": 4.5, \"Salsa\": 3.5, \"Synergy\": 2.0, \"Wrap\": 4.5, \"Great\": \"Not\"}, {\"Burrito\": \"Carnitas\", \"Date\": \"9/13/2016\", \"Tortilla\": 2.5, \"Temp\": 2.5, \"Meat\": 3.0, \"Fillings\": 2.8, \"Meat:filling\": 2.5, \"Uniformity\": 3.5, \"Salsa\": null, \"Synergy\": 3.0, \"Wrap\": 3.5, \"Great\": \"Not\"}, {\"Burrito\": \"Other\", \"Date\": \"9/16/2016\", \"Tortilla\": 4.5, \"Temp\": 4.0, \"Meat\": 4.5, \"Fillings\": 4.5, \"Meat:filling\": 4.5, \"Uniformity\": 4.5, \"Salsa\": 4.5, \"Synergy\": 5.0, \"Wrap\": 4.0, \"Great\": \"Great\"}, {\"Burrito\": \"California\", \"Date\": \"9/16/2016\", \"Tortilla\": 4.0, \"Temp\": 4.5, \"Meat\": 4.5, \"Fillings\": 4.5, \"Meat:filling\": 4.7, \"Uniformity\": 4.5, \"Salsa\": 4.2, \"Synergy\": 4.5, \"Wrap\": 5.0, \"Great\": \"Great\"}, {\"Burrito\": \"California\", \"Date\": \"9/18/2016\", \"Tortilla\": 4.0, \"Temp\": 5.0, \"Meat\": 4.0, \"Fillings\": 4.0, \"Meat:filling\": 3.0, \"Uniformity\": 4.0, \"Salsa\": 3.5, \"Synergy\": 4.0, \"Wrap\": 4.0, \"Great\": \"Great\"}, {\"Burrito\": \"Other\", \"Date\": \"9/18/2016\", \"Tortilla\": 4.0, \"Temp\": 3.5, \"Meat\": 4.5, \"Fillings\": 4.5, \"Meat:filling\": 3.5, \"Uniformity\": 3.5, \"Salsa\": 3.5, \"Synergy\": 4.0, \"Wrap\": 3.0, \"Great\": \"Great\"}, {\"Burrito\": \"California\", \"Date\": \"9/22/2016\", \"Tortilla\": 3.5, \"Temp\": 3.5, \"Meat\": 3.0, \"Fillings\": 4.0, \"Meat:filling\": 3.0, \"Uniformity\": 3.0, \"Salsa\": 4.5, \"Synergy\": 3.5, \"Wrap\": 2.0, \"Great\": \"Not\"}, {\"Burrito\": \"Other\", \"Date\": \"9/22/2016\", \"Tortilla\": 3.5, \"Temp\": 5.0, \"Meat\": 4.5, \"Fillings\": 3.5, \"Meat:filling\": 4.0, \"Uniformity\": 4.5, \"Salsa\": 4.5, \"Synergy\": 4.0, \"Wrap\": 5.0, \"Great\": \"Great\"}, {\"Burrito\": \"Carne Asada\", \"Date\": \"9/25/2016\", \"Tortilla\": 3.0, \"Temp\": 5.0, \"Meat\": 3.0, \"Fillings\": 3.0, \"Meat:filling\": 2.5, \"Uniformity\": 4.0, \"Salsa\": 3.5, \"Synergy\": 3.0, \"Wrap\": 5.0, \"Great\": \"Not\"}, {\"Burrito\": \"Other\", \"Date\": \"9/25/2016\", \"Tortilla\": 3.5, \"Temp\": 4.0, \"Meat\": 3.0, \"Fillings\": 2.5, \"Meat:filling\": 2.8, \"Uniformity\": 4.0, \"Salsa\": 2.5, \"Synergy\": 2.5, \"Wrap\": 5.0, \"Great\": \"Not\"}, {\"Burrito\": \"California\", \"Date\": \"9/22/2016\", \"Tortilla\": 4.0, \"Temp\": 2.5, \"Meat\": 4.0, \"Fillings\": 3.0, \"Meat:filling\": 4.5, \"Uniformity\": 2.0, \"Salsa\": 2.0, \"Synergy\": 3.0, \"Wrap\": 4.0, \"Great\": \"Not\"}, {\"Burrito\": \"Carnitas\", \"Date\": \"9/26/2016\", \"Tortilla\": 3.2, \"Temp\": 3.8, \"Meat\": 4.5, \"Fillings\": 2.8, \"Meat:filling\": 4.0, \"Uniformity\": 2.0, \"Salsa\": 1.8, \"Synergy\": 3.5, \"Wrap\": 5.0, \"Great\": \"Great\"}, {\"Burrito\": \"Other\", \"Date\": \"9/27/2016\", \"Tortilla\": 3.5, \"Temp\": 4.5, \"Meat\": 2.5, \"Fillings\": 2.5, \"Meat:filling\": 1.0, \"Uniformity\": 1.5, \"Salsa\": 3.0, \"Synergy\": 2.5, \"Wrap\": 3.0, \"Great\": \"Not\"}, {\"Burrito\": \"California\", \"Date\": \"9/27/2016\", \"Tortilla\": 4.0, \"Temp\": 4.5, \"Meat\": 4.0, \"Fillings\": 4.0, \"Meat:filling\": 4.5, \"Uniformity\": 5.0, \"Salsa\": 4.5, \"Synergy\": 4.5, \"Wrap\": 4.5, \"Great\": \"Great\"}, {\"Burrito\": \"Other\", \"Date\": \"9/27/2016\", \"Tortilla\": 4.0, \"Temp\": 3.6, \"Meat\": 4.0, \"Fillings\": 4.0, \"Meat:filling\": 4.0, \"Uniformity\": 4.0, \"Salsa\": null, \"Synergy\": 4.0, \"Wrap\": 4.0, \"Great\": \"Great\"}, {\"Burrito\": \"Carnitas\", \"Date\": \"9/27/2016\", \"Tortilla\": 4.0, \"Temp\": 4.0, \"Meat\": 5.0, \"Fillings\": 5.0, \"Meat:filling\": 4.5, \"Uniformity\": 3.0, \"Salsa\": 2.0, \"Synergy\": 4.0, \"Wrap\": 4.0, \"Great\": \"Great\"}, {\"Burrito\": \"Other\", \"Date\": \"9/29/2016\", \"Tortilla\": 3.5, \"Temp\": 3.5, \"Meat\": 2.0, \"Fillings\": 3.0, \"Meat:filling\": 4.5, \"Uniformity\": 4.5, \"Salsa\": 3.0, \"Synergy\": 3.0, \"Wrap\": 5.0, \"Great\": \"Not\"}, {\"Burrito\": \"California\", \"Date\": \"10/1/2016\", \"Tortilla\": 4.0, \"Temp\": 4.0, \"Meat\": 4.0, \"Fillings\": 4.0, \"Meat:filling\": 4.5, \"Uniformity\": 4.0, \"Salsa\": 4.0, \"Synergy\": 4.0, \"Wrap\": 2.5, \"Great\": \"Great\"}, {\"Burrito\": \"California\", \"Date\": \"10/1/2016\", \"Tortilla\": 4.0, \"Temp\": 4.0, \"Meat\": 3.5, \"Fillings\": 4.5, \"Meat:filling\": 4.0, \"Uniformity\": 3.5, \"Salsa\": 2.5, \"Synergy\": 4.0, \"Wrap\": 1.5, \"Great\": \"Great\"}, {\"Burrito\": \"Carnitas\", \"Date\": \"10/2/2016\", \"Tortilla\": 1.4, \"Temp\": 3.7, \"Meat\": 3.0, \"Fillings\": 3.2, \"Meat:filling\": 4.8, \"Uniformity\": 2.4, \"Salsa\": 3.0, \"Synergy\": 2.9, \"Wrap\": 3.0, \"Great\": \"Not\"}, {\"Burrito\": \"Carne Asada\", \"Date\": \"10/2/2016\", \"Tortilla\": 4.0, \"Temp\": 3.5, \"Meat\": 3.5, \"Fillings\": 3.5, \"Meat:filling\": 4.0, \"Uniformity\": 3.0, \"Salsa\": 3.5, \"Synergy\": 3.5, \"Wrap\": 4.5, \"Great\": \"Not\"}, {\"Burrito\": \"California\", \"Date\": \"10/5/2016\", \"Tortilla\": 3.5, \"Temp\": 3.5, \"Meat\": 2.0, \"Fillings\": 3.5, \"Meat:filling\": 4.5, \"Uniformity\": 3.5, \"Salsa\": 3.0, \"Synergy\": 3.5, \"Wrap\": 4.0, \"Great\": \"Not\"}, {\"Burrito\": \"California\", \"Date\": \"10/7/2016\", \"Tortilla\": 3.5, \"Temp\": 4.0, \"Meat\": 2.5, \"Fillings\": 3.0, \"Meat:filling\": 1.5, \"Uniformity\": 2.5, \"Salsa\": 2.5, \"Synergy\": 2.8, \"Wrap\": 5.0, \"Great\": \"Not\"}, {\"Burrito\": \"California\", \"Date\": \"10/12/2016\", \"Tortilla\": 3.0, \"Temp\": 2.5, \"Meat\": 2.5, \"Fillings\": 3.0, \"Meat:filling\": 4.0, \"Uniformity\": 3.5, \"Salsa\": 2.5, \"Synergy\": 3.0, \"Wrap\": 5.0, \"Great\": \"Not\"}, {\"Burrito\": \"California\", \"Date\": \"10/12/2016\", \"Tortilla\": 3.5, \"Temp\": 5.0, \"Meat\": 3.0, \"Fillings\": 3.0, \"Meat:filling\": 3.5, \"Uniformity\": 3.5, \"Salsa\": 2.0, \"Synergy\": 4.0, \"Wrap\": 5.0, \"Great\": \"Not\"}, {\"Burrito\": \"California\", \"Date\": \"10/12/2016\", \"Tortilla\": 3.0, \"Temp\": 5.0, \"Meat\": 3.0, \"Fillings\": 4.0, \"Meat:filling\": 2.0, \"Uniformity\": 2.0, \"Salsa\": 2.0, \"Synergy\": 4.5, \"Wrap\": 4.0, \"Great\": \"Not\"}, {\"Burrito\": \"Other\", \"Date\": \"10/12/2016\", \"Tortilla\": 3.5, \"Temp\": 5.0, \"Meat\": 4.0, \"Fillings\": 4.0, \"Meat:filling\": 3.78, \"Uniformity\": 5.0, \"Salsa\": null, \"Synergy\": 4.7, \"Wrap\": 5.0, \"Great\": \"Great\"}, {\"Burrito\": \"California\", \"Date\": \"10/17/2016\", \"Tortilla\": 3.0, \"Temp\": 3.0, \"Meat\": 3.0, \"Fillings\": 3.0, \"Meat:filling\": 3.7, \"Uniformity\": 3.5, \"Salsa\": 3.8, \"Synergy\": 3.0, \"Wrap\": 5.0, \"Great\": \"Not\"}, {\"Burrito\": \"Other\", \"Date\": \"10/17/2016\", \"Tortilla\": 4.0, \"Temp\": 5.0, \"Meat\": 4.5, \"Fillings\": 4.2, \"Meat:filling\": 4.7, \"Uniformity\": 4.4, \"Salsa\": 4.0, \"Synergy\": 4.9, \"Wrap\": 5.0, \"Great\": \"Great\"}, {\"Burrito\": \"Other\", \"Date\": \"10/18/2016\", \"Tortilla\": 3.0, \"Temp\": 4.5, \"Meat\": 3.5, \"Fillings\": 1.5, \"Meat:filling\": 1.5, \"Uniformity\": 2.0, \"Salsa\": 3.2, \"Synergy\": 2.0, \"Wrap\": 4.5, \"Great\": \"Not\"}, {\"Burrito\": \"California\", \"Date\": \"10/18/2016\", \"Tortilla\": 3.0, \"Temp\": 4.0, \"Meat\": 4.5, \"Fillings\": 3.0, \"Meat:filling\": 2.0, \"Uniformity\": 4.0, \"Salsa\": 4.5, \"Synergy\": 3.5, \"Wrap\": 4.5, \"Great\": \"Not\"}, {\"Burrito\": \"Other\", \"Date\": \"10/18/2016\", \"Tortilla\": 4.5, \"Temp\": 5.0, \"Meat\": 3.0, \"Fillings\": 3.0, \"Meat:filling\": 3.0, \"Uniformity\": 2.5, \"Salsa\": 0.0, \"Synergy\": 2.5, \"Wrap\": 5.0, \"Great\": \"Not\"}, {\"Burrito\": \"California\", \"Date\": \"10/17/2016\", \"Tortilla\": 4.0, \"Temp\": 2.0, \"Meat\": 4.0, \"Fillings\": 3.0, \"Meat:filling\": 4.0, \"Uniformity\": 5.0, \"Salsa\": 3.0, \"Synergy\": 3.0, \"Wrap\": 4.0, \"Great\": \"Great\"}, {\"Burrito\": \"Surf & Turf\", \"Date\": \"10/17/2016\", \"Tortilla\": 3.0, \"Temp\": 3.0, \"Meat\": 3.5, \"Fillings\": 4.0, \"Meat:filling\": 4.0, \"Uniformity\": 3.0, \"Salsa\": 3.0, \"Synergy\": 4.0, \"Wrap\": 3.5, \"Great\": \"Great\"}, {\"Burrito\": \"Carnitas\", \"Date\": \"10/27/2016\", \"Tortilla\": 4.0, \"Temp\": 3.0, \"Meat\": 4.0, \"Fillings\": 3.0, \"Meat:filling\": 4.0, \"Uniformity\": 2.0, \"Salsa\": 3.5, \"Synergy\": 3.0, \"Wrap\": 5.0, \"Great\": \"Not\"}, {\"Burrito\": \"Other\", \"Date\": \"10/27/2016\", \"Tortilla\": 2.0, \"Temp\": 5.0, \"Meat\": 4.2, \"Fillings\": 3.0, \"Meat:filling\": 4.7, \"Uniformity\": 5.0, \"Salsa\": 3.7, \"Synergy\": 4.2, \"Wrap\": 5.0, \"Great\": \"Great\"}, {\"Burrito\": \"Other\", \"Date\": \"10/27/2016\", \"Tortilla\": 3.0, \"Temp\": 4.0, \"Meat\": 4.0, \"Fillings\": 4.0, \"Meat:filling\": 4.0, \"Uniformity\": 4.0, \"Salsa\": 4.0, \"Synergy\": 4.0, \"Wrap\": 3.0, \"Great\": \"Great\"}, {\"Burrito\": \"Other\", \"Date\": \"10/27/2016\", \"Tortilla\": 2.0, \"Temp\": 4.0, \"Meat\": 3.0, \"Fillings\": 4.0, \"Meat:filling\": 4.0, \"Uniformity\": 4.0, \"Salsa\": 3.0, \"Synergy\": 4.0, \"Wrap\": 4.0, \"Great\": \"Not\"}, {\"Burrito\": \"Other\", \"Date\": \"10/27/2016\", \"Tortilla\": 5.0, \"Temp\": 5.0, \"Meat\": null, \"Fillings\": 3.0, \"Meat:filling\": 2.0, \"Uniformity\": 2.0, \"Salsa\": null, \"Synergy\": 1.0, \"Wrap\": 5.0, \"Great\": \"Not\"}, {\"Burrito\": \"California\", \"Date\": \"10/29/2016\", \"Tortilla\": 2.0, \"Temp\": 3.5, \"Meat\": 4.2, \"Fillings\": 4.3, \"Meat:filling\": 4.0, \"Uniformity\": 2.2, \"Salsa\": 4.5, \"Synergy\": 4.0, \"Wrap\": 2.2, \"Great\": \"Great\"}, {\"Burrito\": \"California\", \"Date\": \"10/29/2016\", \"Tortilla\": 3.8, \"Temp\": 3.8, \"Meat\": 4.0, \"Fillings\": 4.2, \"Meat:filling\": 3.75, \"Uniformity\": 4.0, \"Salsa\": 4.75, \"Synergy\": 4.4, \"Wrap\": 3.8, \"Great\": \"Great\"}, {\"Burrito\": \"Other\", \"Date\": \"11/1/2016\", \"Tortilla\": 3.0, \"Temp\": 4.5, \"Meat\": 3.7, \"Fillings\": 2.8, \"Meat:filling\": 5.0, \"Uniformity\": 4.5, \"Salsa\": 3.0, \"Synergy\": 2.3, \"Wrap\": 4.5, \"Great\": \"Not\"}, {\"Burrito\": \"Carne Asada\", \"Date\": \"11/1/2016\", \"Tortilla\": 2.0, \"Temp\": 4.0, \"Meat\": 4.5, \"Fillings\": 4.0, \"Meat:filling\": 4.0, \"Uniformity\": 3.0, \"Salsa\": 4.0, \"Synergy\": 4.0, \"Wrap\": 2.0, \"Great\": \"Great\"}, {\"Burrito\": \"California\", \"Date\": \"11/2/2016\", \"Tortilla\": 4.0, \"Temp\": 4.0, \"Meat\": 4.0, \"Fillings\": 4.0, \"Meat:filling\": 4.5, \"Uniformity\": 4.5, \"Salsa\": 4.2, \"Synergy\": 4.5, \"Wrap\": 4.5, \"Great\": \"Great\"}, {\"Burrito\": \"California\", \"Date\": \"11/2/2016\", \"Tortilla\": 2.0, \"Temp\": 4.0, \"Meat\": 3.7, \"Fillings\": 2.0, \"Meat:filling\": 4.0, \"Uniformity\": 4.5, \"Salsa\": 4.5, \"Synergy\": 2.7, \"Wrap\": 5.0, \"Great\": \"Not\"}, {\"Burrito\": \"California\", \"Date\": \"11/2/2016\", \"Tortilla\": 3.0, \"Temp\": 4.4, \"Meat\": 4.0, \"Fillings\": 4.0, \"Meat:filling\": 4.5, \"Uniformity\": 4.2, \"Salsa\": 4.3, \"Synergy\": 4.0, \"Wrap\": 5.0, \"Great\": \"Great\"}, {\"Burrito\": \"California\", \"Date\": \"11/2/2016\", \"Tortilla\": 2.0, \"Temp\": null, \"Meat\": 3.5, \"Fillings\": 3.0, \"Meat:filling\": 5.0, \"Uniformity\": 4.0, \"Salsa\": 2.0, \"Synergy\": 3.5, \"Wrap\": 3.5, \"Great\": \"Not\"}, {\"Burrito\": \"Other\", \"Date\": \"11/6/2016\", \"Tortilla\": 4.0, \"Temp\": 4.0, \"Meat\": 3.5, \"Fillings\": 2.0, \"Meat:filling\": 1.5, \"Uniformity\": 2.0, \"Salsa\": 2.0, \"Synergy\": 3.0, \"Wrap\": 1.2, \"Great\": \"Not\"}, {\"Burrito\": \"Carnitas\", \"Date\": \"11/6/2016\", \"Tortilla\": 3.5, \"Temp\": 4.0, \"Meat\": 4.0, \"Fillings\": 3.0, \"Meat:filling\": 3.75, \"Uniformity\": 4.0, \"Salsa\": 3.0, \"Synergy\": 3.5, \"Wrap\": 4.5, \"Great\": \"Not\"}, {\"Burrito\": \"California\", \"Date\": \"11/8/2016\", \"Tortilla\": 2.5, \"Temp\": 4.0, \"Meat\": 3.75, \"Fillings\": 4.0, \"Meat:filling\": 3.75, \"Uniformity\": 5.0, \"Salsa\": 4.0, \"Synergy\": 4.0, \"Wrap\": 5.0, \"Great\": \"Not\"}, {\"Burrito\": \"California\", \"Date\": \"11/8/2016\", \"Tortilla\": 3.0, \"Temp\": null, \"Meat\": 4.0, \"Fillings\": 4.0, \"Meat:filling\": 4.0, \"Uniformity\": 4.0, \"Salsa\": 2.0, \"Synergy\": 3.0, \"Wrap\": 5.0, \"Great\": \"Great\"}, {\"Burrito\": \"California\", \"Date\": \"11/8/2016\", \"Tortilla\": 4.0, \"Temp\": 4.0, \"Meat\": 2.0, \"Fillings\": 2.0, \"Meat:filling\": 4.0, \"Uniformity\": 3.0, \"Salsa\": 3.0, \"Synergy\": 3.0, \"Wrap\": 5.0, \"Great\": \"Not\"}, {\"Burrito\": \"Carne Asada\", \"Date\": \"11/8/2016\", \"Tortilla\": 4.0, \"Temp\": 4.0, \"Meat\": null, \"Fillings\": 3.5, \"Meat:filling\": 3.5, \"Uniformity\": 4.0, \"Salsa\": 4.0, \"Synergy\": 4.0, \"Wrap\": 4.0, \"Great\": \"Great\"}, {\"Burrito\": \"Other\", \"Date\": \"11/14/2016\", \"Tortilla\": 2.0, \"Temp\": 2.5, \"Meat\": 3.3, \"Fillings\": 3.5, \"Meat:filling\": 1.5, \"Uniformity\": 4.0, \"Salsa\": 2.5, \"Synergy\": 2.5, \"Wrap\": 3.0, \"Great\": \"Not\"}, {\"Burrito\": \"Carne Asada\", \"Date\": \"11/16/2016\", \"Tortilla\": 4.5, \"Temp\": 4.7, \"Meat\": 4.5, \"Fillings\": 3.5, \"Meat:filling\": 4.0, \"Uniformity\": 4.5, \"Salsa\": 4.5, \"Synergy\": 3.5, \"Wrap\": 5.0, \"Great\": \"Great\"}, {\"Burrito\": \"California\", \"Date\": \"11/16/2016\", \"Tortilla\": 5.0, \"Temp\": 5.0, \"Meat\": 4.0, \"Fillings\": 5.0, \"Meat:filling\": 5.0, \"Uniformity\": 3.0, \"Salsa\": 4.0, \"Synergy\": 5.0, \"Wrap\": 3.0, \"Great\": \"Great\"}, {\"Burrito\": \"California\", \"Date\": \"11/16/2016\", \"Tortilla\": 3.0, \"Temp\": 5.0, \"Meat\": 5.0, \"Fillings\": 4.0, \"Meat:filling\": 5.0, \"Uniformity\": 4.0, \"Salsa\": 3.0, \"Synergy\": 5.0, \"Wrap\": 2.0, \"Great\": \"Great\"}, {\"Burrito\": \"California\", \"Date\": \"11/16/2016\", \"Tortilla\": 4.0, \"Temp\": 4.0, \"Meat\": 3.0, \"Fillings\": 4.0, \"Meat:filling\": 4.0, \"Uniformity\": 4.0, \"Salsa\": 3.0, \"Synergy\": 3.0, \"Wrap\": 4.0, \"Great\": \"Great\"}, {\"Burrito\": \"California\", \"Date\": \"11/16/2016\", \"Tortilla\": 4.0, \"Temp\": 3.5, \"Meat\": 4.7, \"Fillings\": 4.0, \"Meat:filling\": 4.5, \"Uniformity\": 4.5, \"Salsa\": 4.5, \"Synergy\": 4.0, \"Wrap\": 3.5, \"Great\": \"Great\"}, {\"Burrito\": \"California\", \"Date\": \"11/17/2016\", \"Tortilla\": 4.8, \"Temp\": 5.0, \"Meat\": 4.0, \"Fillings\": 4.4, \"Meat:filling\": 5.0, \"Uniformity\": 4.0, \"Salsa\": 4.3, \"Synergy\": 4.3, \"Wrap\": 5.0, \"Great\": \"Great\"}, {\"Burrito\": \"California\", \"Date\": \"11/17/2016\", \"Tortilla\": 4.5, \"Temp\": 4.5, \"Meat\": 4.0, \"Fillings\": 4.5, \"Meat:filling\": 4.0, \"Uniformity\": 4.0, \"Salsa\": 3.5, \"Synergy\": 4.5, \"Wrap\": 5.0, \"Great\": \"Great\"}, {\"Burrito\": \"California\", \"Date\": \"11/23/2016\", \"Tortilla\": 3.5, \"Temp\": 5.0, \"Meat\": 4.0, \"Fillings\": 3.0, \"Meat:filling\": 4.0, \"Uniformity\": 3.0, \"Salsa\": 3.5, \"Synergy\": 3.5, \"Wrap\": 3.0, \"Great\": \"Not\"}, {\"Burrito\": \"California\", \"Date\": \"11/23/2016\", \"Tortilla\": 4.0, \"Temp\": 4.0, \"Meat\": 5.0, \"Fillings\": 4.5, \"Meat:filling\": 4.0, \"Uniformity\": 3.5, \"Salsa\": 5.0, \"Synergy\": 4.5, \"Wrap\": 5.0, \"Great\": \"Great\"}, {\"Burrito\": \"Other\", \"Date\": \"11/23/2016\", \"Tortilla\": 4.0, \"Temp\": 4.0, \"Meat\": 3.5, \"Fillings\": 4.0, \"Meat:filling\": 4.0, \"Uniformity\": 3.5, \"Salsa\": 4.5, \"Synergy\": 4.0, \"Wrap\": 3.5, \"Great\": \"Not\"}, {\"Burrito\": \"Other\", \"Date\": \"11/26/2016\", \"Tortilla\": 3.5, \"Temp\": 2.5, \"Meat\": 4.0, \"Fillings\": 3.5, \"Meat:filling\": 3.0, \"Uniformity\": 2.5, \"Salsa\": 2.5, \"Synergy\": 4.5, \"Wrap\": 0.5, \"Great\": \"Not\"}, {\"Burrito\": \"Carne Asada\", \"Date\": \"11/26/2016\", \"Tortilla\": 3.5, \"Temp\": 4.0, \"Meat\": 3.0, \"Fillings\": 4.0, \"Meat:filling\": 3.5, \"Uniformity\": 4.0, \"Salsa\": 3.0, \"Synergy\": 4.0, \"Wrap\": 4.5, \"Great\": \"Not\"}, {\"Burrito\": \"Other\", \"Date\": \"11/27/2016\", \"Tortilla\": 2.0, \"Temp\": 3.0, \"Meat\": 3.8, \"Fillings\": 2.5, \"Meat:filling\": 2.5, \"Uniformity\": 3.0, \"Salsa\": 2.5, \"Synergy\": 3.0, \"Wrap\": 2.6, \"Great\": \"Not\"}, {\"Burrito\": \"California\", \"Date\": \"12/2/2016\", \"Tortilla\": 4.0, \"Temp\": 1.5, \"Meat\": 2.0, \"Fillings\": 3.0, \"Meat:filling\": 4.2, \"Uniformity\": 4.0, \"Salsa\": 3.0, \"Synergy\": 2.0, \"Wrap\": 4.5, \"Great\": \"Not\"}, {\"Burrito\": \"Other\", \"Date\": \"12/2/2016\", \"Tortilla\": 4.5, \"Temp\": 5.0, \"Meat\": 2.0, \"Fillings\": 2.0, \"Meat:filling\": 2.5, \"Uniformity\": 3.5, \"Salsa\": 3.0, \"Synergy\": 2.5, \"Wrap\": 3.0, \"Great\": \"Not\"}, {\"Burrito\": \"California\", \"Date\": \"12/10/2016\", \"Tortilla\": 3.5, \"Temp\": 2.5, \"Meat\": 3.0, \"Fillings\": 3.3, \"Meat:filling\": 1.4, \"Uniformity\": 2.3, \"Salsa\": 2.2, \"Synergy\": 3.3, \"Wrap\": 4.5, \"Great\": \"Not\"}, {\"Burrito\": \"Carne Asada\", \"Date\": \"12/10/2016\", \"Tortilla\": 4.0, \"Temp\": 4.5, \"Meat\": 2.0, \"Fillings\": 2.0, \"Meat:filling\": 3.5, \"Uniformity\": 3.5, \"Salsa\": 2.0, \"Synergy\": 2.0, \"Wrap\": 4.0, \"Great\": \"Not\"}, {\"Burrito\": \"Other\", \"Date\": \"12/15/2016\", \"Tortilla\": 3.6, \"Temp\": 4.0, \"Meat\": 4.0, \"Fillings\": 3.0, \"Meat:filling\": 3.8, \"Uniformity\": 4.3, \"Salsa\": null, \"Synergy\": 3.8, \"Wrap\": 2.0, \"Great\": \"Not\"}, {\"Burrito\": \"California\", \"Date\": \"1/4/2017\", \"Tortilla\": 4.0, \"Temp\": 4.5, \"Meat\": 4.0, \"Fillings\": 3.5, \"Meat:filling\": 3.5, \"Uniformity\": 5.0, \"Salsa\": 1.5, \"Synergy\": 3.5, \"Wrap\": 4.5, \"Great\": \"Not\"}, {\"Burrito\": \"Other\", \"Date\": \"1/4/2017\", \"Tortilla\": 4.0, \"Temp\": 2.0, \"Meat\": null, \"Fillings\": 4.0, \"Meat:filling\": null, \"Uniformity\": 4.6, \"Salsa\": 4.2, \"Synergy\": 3.75, \"Wrap\": 5.0, \"Great\": \"Not\"}, {\"Burrito\": \"Other\", \"Date\": \"1/7/2017\", \"Tortilla\": 3.0, \"Temp\": 4.5, \"Meat\": 4.1, \"Fillings\": 3.0, \"Meat:filling\": 3.7, \"Uniformity\": 4.0, \"Salsa\": 4.3, \"Synergy\": 4.2, \"Wrap\": 5.0, \"Great\": \"Not\"}, {\"Burrito\": \"Other\", \"Date\": \"1/7/2017\", \"Tortilla\": 3.5, \"Temp\": 4.0, \"Meat\": 4.0, \"Fillings\": 3.0, \"Meat:filling\": 4.0, \"Uniformity\": 4.5, \"Salsa\": 4.0, \"Synergy\": 3.8, \"Wrap\": 4.8, \"Great\": \"Not\"}, {\"Burrito\": \"Other\", \"Date\": \"1/10/2017\", \"Tortilla\": 2.5, \"Temp\": 4.5, \"Meat\": 3.0, \"Fillings\": 2.5, \"Meat:filling\": 3.0, \"Uniformity\": 3.0, \"Salsa\": 2.0, \"Synergy\": 2.0, \"Wrap\": 4.0, \"Great\": \"Not\"}, {\"Burrito\": \"Other\", \"Date\": \"1/12/2017\", \"Tortilla\": 3.0, \"Temp\": 2.0, \"Meat\": 3.5, \"Fillings\": 3.5, \"Meat:filling\": 3.0, \"Uniformity\": 2.5, \"Salsa\": 3.7, \"Synergy\": 3.2, \"Wrap\": 4.2, \"Great\": \"Not\"}, {\"Burrito\": \"California\", \"Date\": \"1/12/2017\", \"Tortilla\": 4.0, \"Temp\": 5.0, \"Meat\": 4.5, \"Fillings\": 4.0, \"Meat:filling\": 4.5, \"Uniformity\": 3.5, \"Salsa\": 3.0, \"Synergy\": 4.5, \"Wrap\": 2.5, \"Great\": \"Great\"}, {\"Burrito\": \"California\", \"Date\": \"1/12/2017\", \"Tortilla\": 4.0, \"Temp\": 3.5, \"Meat\": 3.9, \"Fillings\": 4.0, \"Meat:filling\": 3.7, \"Uniformity\": 2.0, \"Salsa\": 3.5, \"Synergy\": 4.0, \"Wrap\": 4.0, \"Great\": \"Not\"}, {\"Burrito\": \"Other\", \"Date\": \"1/12/2017\", \"Tortilla\": 4.0, \"Temp\": 4.0, \"Meat\": 4.0, \"Fillings\": 2.0, \"Meat:filling\": 3.0, \"Uniformity\": 0.0, \"Salsa\": null, \"Synergy\": 1.0, \"Wrap\": 2.0, \"Great\": \"Not\"}, {\"Burrito\": \"Other\", \"Date\": \"1/15/2017\", \"Tortilla\": 4.5, \"Temp\": 5.0, \"Meat\": 4.0, \"Fillings\": 3.5, \"Meat:filling\": 4.0, \"Uniformity\": 2.8, \"Salsa\": 4.0, \"Synergy\": 4.5, \"Wrap\": 3.7, \"Great\": \"Great\"}, {\"Burrito\": \"Other\", \"Date\": \"1/15/2017\", \"Tortilla\": 4.2, \"Temp\": 4.0, \"Meat\": 4.2, \"Fillings\": 3.8, \"Meat:filling\": 4.0, \"Uniformity\": 3.0, \"Salsa\": 3.8, \"Synergy\": 4.5, \"Wrap\": 5.0, \"Great\": \"Great\"}, {\"Burrito\": \"Other\", \"Date\": \"1/20/2017\", \"Tortilla\": 2.0, \"Temp\": 4.0, \"Meat\": 2.5, \"Fillings\": 3.5, \"Meat:filling\": 4.5, \"Uniformity\": 3.0, \"Salsa\": 2.0, \"Synergy\": 1.5, \"Wrap\": 3.4, \"Great\": \"Not\"}, {\"Burrito\": \"Other\", \"Date\": \"1/20/2017\", \"Tortilla\": 2.5, \"Temp\": 4.5, \"Meat\": 4.0, \"Fillings\": 4.0, \"Meat:filling\": 2.0, \"Uniformity\": 3.0, \"Salsa\": 3.0, \"Synergy\": 3.0, \"Wrap\": 4.0, \"Great\": \"Not\"}, {\"Burrito\": \"California\", \"Date\": \"2/15/2017\", \"Tortilla\": 3.0, \"Temp\": 2.0, \"Meat\": 3.5, \"Fillings\": 3.5, \"Meat:filling\": 4.0, \"Uniformity\": 3.0, \"Salsa\": 3.5, \"Synergy\": 3.5, \"Wrap\": 4.5, \"Great\": \"Not\"}, {\"Burrito\": \"California\", \"Date\": \"2/15/2017\", \"Tortilla\": 5.0, \"Temp\": 5.0, \"Meat\": 4.5, \"Fillings\": 4.0, \"Meat:filling\": 5.0, \"Uniformity\": 4.0, \"Salsa\": 4.0, \"Synergy\": 5.0, \"Wrap\": 5.0, \"Great\": \"Great\"}, {\"Burrito\": \"California\", \"Date\": \"2/21/2017\", \"Tortilla\": 3.0, \"Temp\": 3.0, \"Meat\": 3.5, \"Fillings\": 4.0, \"Meat:filling\": 3.0, \"Uniformity\": 1.5, \"Salsa\": 3.8, \"Synergy\": 4.0, \"Wrap\": 5.0, \"Great\": \"Great\"}, {\"Burrito\": \"California\", \"Date\": \"2/23/2017\", \"Tortilla\": 4.0, \"Temp\": 2.0, \"Meat\": 3.0, \"Fillings\": 3.8, \"Meat:filling\": 3.5, \"Uniformity\": 2.0, \"Salsa\": 4.0, \"Synergy\": 4.0, \"Wrap\": 4.0, \"Great\": \"Not\"}, {\"Burrito\": \"Other\", \"Date\": \"2/25/2017\", \"Tortilla\": 3.0, \"Temp\": 4.5, \"Meat\": 4.3, \"Fillings\": 4.0, \"Meat:filling\": 3.0, \"Uniformity\": 3.1, \"Salsa\": 3.9, \"Synergy\": 4.2, \"Wrap\": 3.0, \"Great\": \"Great\"}, {\"Burrito\": \"Other\", \"Date\": \"2/25/2017\", \"Tortilla\": 3.0, \"Temp\": 3.5, \"Meat\": 4.5, \"Fillings\": 4.0, \"Meat:filling\": 4.0, \"Uniformity\": 4.0, \"Salsa\": 4.0, \"Synergy\": 4.0, \"Wrap\": 3.5, \"Great\": \"Great\"}, {\"Burrito\": \"Other\", \"Date\": \"2/25/2017\", \"Tortilla\": 5.0, \"Temp\": 5.0, \"Meat\": 5.0, \"Fillings\": 4.0, \"Meat:filling\": 5.0, \"Uniformity\": 4.0, \"Salsa\": 4.0, \"Synergy\": 5.0, \"Wrap\": 4.0, \"Great\": \"Great\"}, {\"Burrito\": \"Other\", \"Date\": \"2/25/2017\", \"Tortilla\": 3.5, \"Temp\": 4.0, \"Meat\": 4.0, \"Fillings\": 4.0, \"Meat:filling\": 4.5, \"Uniformity\": 3.5, \"Salsa\": 4.0, \"Synergy\": 3.5, \"Wrap\": 4.0, \"Great\": \"Great\"}, {\"Burrito\": \"Carnitas\", \"Date\": \"3/3/2017\", \"Tortilla\": 3.5, \"Temp\": 3.0, \"Meat\": 3.5, \"Fillings\": 3.0, \"Meat:filling\": 4.5, \"Uniformity\": 4.5, \"Salsa\": 4.0, \"Synergy\": 4.0, \"Wrap\": 5.0, \"Great\": \"Not\"}, {\"Burrito\": \"California\", \"Date\": \"3/3/2017\", \"Tortilla\": 4.0, \"Temp\": 3.0, \"Meat\": 3.0, \"Fillings\": 3.0, \"Meat:filling\": 2.5, \"Uniformity\": 3.0, \"Salsa\": 3.5, \"Synergy\": 2.8, \"Wrap\": 5.0, \"Great\": \"Not\"}, {\"Burrito\": \"California\", \"Date\": \"3/16/2017\", \"Tortilla\": 3.0, \"Temp\": null, \"Meat\": 4.0, \"Fillings\": 4.0, \"Meat:filling\": 3.0, \"Uniformity\": 5.0, \"Salsa\": 3.0, \"Synergy\": 4.0, \"Wrap\": 5.0, \"Great\": \"Great\"}, {\"Burrito\": \"California\", \"Date\": \"4/7/2017\", \"Tortilla\": 4.5, \"Temp\": 3.0, \"Meat\": 3.5, \"Fillings\": 4.5, \"Meat:filling\": 3.5, \"Uniformity\": 4.0, \"Salsa\": 3.5, \"Synergy\": 4.3, \"Wrap\": 4.3, \"Great\": \"Great\"}, {\"Burrito\": \"California\", \"Date\": \"4/7/2017\", \"Tortilla\": 4.0, \"Temp\": 3.5, \"Meat\": 4.5, \"Fillings\": 4.0, \"Meat:filling\": 3.5, \"Uniformity\": 4.5, \"Salsa\": 4.0, \"Synergy\": 4.0, \"Wrap\": 4.5, \"Great\": \"Great\"}, {\"Burrito\": \"California\", \"Date\": \"4/7/2017\", \"Tortilla\": 4.0, \"Temp\": 4.0, \"Meat\": 4.5, \"Fillings\": 4.3, \"Meat:filling\": 4.5, \"Uniformity\": 4.5, \"Salsa\": 4.8, \"Synergy\": 4.8, \"Wrap\": 5.0, \"Great\": \"Great\"}, {\"Burrito\": \"Surf & Turf\", \"Date\": \"4/7/2017\", \"Tortilla\": 4.0, \"Temp\": 4.0, \"Meat\": 4.0, \"Fillings\": 3.5, \"Meat:filling\": 3.5, \"Uniformity\": 3.0, \"Salsa\": 2.0, \"Synergy\": 3.5, \"Wrap\": 3.5, \"Great\": \"Not\"}, {\"Burrito\": \"California\", \"Date\": \"4/7/2017\", \"Tortilla\": 3.0, \"Temp\": 3.0, \"Meat\": 4.0, \"Fillings\": 4.0, \"Meat:filling\": 4.0, \"Uniformity\": 4.0, \"Salsa\": 3.0, \"Synergy\": 4.0, \"Wrap\": 4.0, \"Great\": \"Great\"}, {\"Burrito\": \"Surf & Turf\", \"Date\": \"4/7/2017\", \"Tortilla\": 3.0, \"Temp\": 5.0, \"Meat\": 5.0, \"Fillings\": null, \"Meat:filling\": null, \"Uniformity\": 5.0, \"Salsa\": null, \"Synergy\": 4.0, \"Wrap\": 5.0, \"Great\": \"Great\"}, {\"Burrito\": \"California\", \"Date\": \"4/23/2017\", \"Tortilla\": 4.5, \"Temp\": 5.0, \"Meat\": 3.8, \"Fillings\": 3.8, \"Meat:filling\": 4.0, \"Uniformity\": 4.0, \"Salsa\": 3.9, \"Synergy\": 4.3, \"Wrap\": 5.0, \"Great\": \"Great\"}, {\"Burrito\": \"Surf & Turf\", \"Date\": \"4/23/2017\", \"Tortilla\": 3.5, \"Temp\": 4.0, \"Meat\": 4.0, \"Fillings\": 3.0, \"Meat:filling\": 3.5, \"Uniformity\": 4.5, \"Salsa\": 3.5, \"Synergy\": 3.5, \"Wrap\": 5.0, \"Great\": \"Not\"}, {\"Burrito\": \"Carnitas\", \"Date\": \"4/25/2017\", \"Tortilla\": 2.0, \"Temp\": 4.5, \"Meat\": 4.5, \"Fillings\": 3.0, \"Meat:filling\": 3.8, \"Uniformity\": 4.4, \"Salsa\": 2.5, \"Synergy\": 3.5, \"Wrap\": 3.0, \"Great\": \"Great\"}, {\"Burrito\": \"Carnitas\", \"Date\": \"4/25/2017\", \"Tortilla\": 4.0, \"Temp\": 4.0, \"Meat\": 4.0, \"Fillings\": 3.0, \"Meat:filling\": 4.0, \"Uniformity\": 3.5, \"Salsa\": 2.5, \"Synergy\": 3.5, \"Wrap\": 5.0, \"Great\": \"Not\"}, {\"Burrito\": \"Other\", \"Date\": \"4/25/2017\", \"Tortilla\": 3.0, \"Temp\": 4.0, \"Meat\": 3.2, \"Fillings\": 3.5, \"Meat:filling\": 1.8, \"Uniformity\": 1.8, \"Salsa\": 3.5, \"Synergy\": 3.7, \"Wrap\": 3.5, \"Great\": \"Not\"}, {\"Burrito\": \"Other\", \"Date\": \"4/25/2017\", \"Tortilla\": 3.0, \"Temp\": 4.5, \"Meat\": 3.5, \"Fillings\": 3.5, \"Meat:filling\": 2.5, \"Uniformity\": 2.0, \"Salsa\": 3.0, \"Synergy\": 3.5, \"Wrap\": 4.5, \"Great\": \"Not\"}, {\"Burrito\": \"Other\", \"Date\": \"5/2/2017\", \"Tortilla\": 4.2, \"Temp\": 4.5, \"Meat\": 4.0, \"Fillings\": 3.0, \"Meat:filling\": 5.0, \"Uniformity\": 3.8, \"Salsa\": 2.5, \"Synergy\": 3.0, \"Wrap\": 5.0, \"Great\": \"Not\"}, {\"Burrito\": \"California\", \"Date\": \"5/2/2017\", \"Tortilla\": 4.5, \"Temp\": 4.5, \"Meat\": 3.7, \"Fillings\": 3.5, \"Meat:filling\": 4.0, \"Uniformity\": 3.5, \"Salsa\": 3.0, \"Synergy\": 4.0, \"Wrap\": 4.5, \"Great\": \"Great\"}, {\"Burrito\": \"California\", \"Date\": \"5/9/2017\", \"Tortilla\": 3.5, \"Temp\": 4.2, \"Meat\": 3.3, \"Fillings\": 3.7, \"Meat:filling\": 4.0, \"Uniformity\": 4.0, \"Salsa\": 2.9, \"Synergy\": 3.0, \"Wrap\": 5.0, \"Great\": \"Not\"}, {\"Burrito\": \"California\", \"Date\": \"5/9/2017\", \"Tortilla\": 4.0, \"Temp\": 4.0, \"Meat\": 2.6, \"Fillings\": 3.6, \"Meat:filling\": 4.0, \"Uniformity\": 4.0, \"Salsa\": 3.6, \"Synergy\": 4.0, \"Wrap\": 4.0, \"Great\": \"Not\"}, {\"Burrito\": \"Other\", \"Date\": \"5/13/2017\", \"Tortilla\": 4.0, \"Temp\": null, \"Meat\": 4.0, \"Fillings\": 3.0, \"Meat:filling\": 3.0, \"Uniformity\": 2.5, \"Salsa\": 4.0, \"Synergy\": 3.0, \"Wrap\": 5.0, \"Great\": \"Not\"}, {\"Burrito\": \"Other\", \"Date\": \"5/17/2017\", \"Tortilla\": 3.5, \"Temp\": 3.0, \"Meat\": 3.5, \"Fillings\": 3.5, \"Meat:filling\": 4.0, \"Uniformity\": 2.0, \"Salsa\": 4.0, \"Synergy\": 4.0, \"Wrap\": 4.0, \"Great\": \"Not\"}, {\"Burrito\": \"California\", \"Date\": \"5/17/2017\", \"Tortilla\": 3.5, \"Temp\": 5.0, \"Meat\": 3.3, \"Fillings\": 3.0, \"Meat:filling\": 5.0, \"Uniformity\": 2.0, \"Salsa\": 3.0, \"Synergy\": 3.8, \"Wrap\": 3.5, \"Great\": \"Not\"}, {\"Burrito\": \"California\", \"Date\": \"5/17/2017\", \"Tortilla\": 4.0, \"Temp\": 5.0, \"Meat\": 4.0, \"Fillings\": 4.0, \"Meat:filling\": 5.0, \"Uniformity\": 3.5, \"Salsa\": 2.0, \"Synergy\": 3.5, \"Wrap\": 4.0, \"Great\": \"Great\"}, {\"Burrito\": \"California\", \"Date\": \"5/26/2017\", \"Tortilla\": 5.0, \"Temp\": 4.0, \"Meat\": 4.2, \"Fillings\": 3.5, \"Meat:filling\": 2.9, \"Uniformity\": 3.0, \"Salsa\": 4.0, \"Synergy\": 4.0, \"Wrap\": 4.0, \"Great\": \"Great\"}, {\"Burrito\": \"California\", \"Date\": \"5/26/2017\", \"Tortilla\": 4.5, \"Temp\": 4.0, \"Meat\": 4.0, \"Fillings\": 3.5, \"Meat:filling\": 3.0, \"Uniformity\": 3.0, \"Salsa\": 2.5, \"Synergy\": 4.0, \"Wrap\": 3.8, \"Great\": \"Not\"}, {\"Burrito\": \"Other\", \"Date\": \"5/29/2017\", \"Tortilla\": 3.5, \"Temp\": 5.0, \"Meat\": 3.0, \"Fillings\": 1.5, \"Meat:filling\": 3.0, \"Uniformity\": 2.5, \"Salsa\": 3.0, \"Synergy\": 2.2, \"Wrap\": 2.5, \"Great\": \"Not\"}, {\"Burrito\": \"Carne Asada\", \"Date\": \"5/30/2017\", \"Tortilla\": 4.0, \"Temp\": 4.0, \"Meat\": 2.0, \"Fillings\": 2.5, \"Meat:filling\": 4.5, \"Uniformity\": 4.0, \"Salsa\": 3.0, \"Synergy\": 2.9, \"Wrap\": 4.5, \"Great\": \"Not\"}, {\"Burrito\": \"Surf & Turf\", \"Date\": \"5/30/2017\", \"Tortilla\": 3.5, \"Temp\": 4.0, \"Meat\": 4.0, \"Fillings\": 4.0, \"Meat:filling\": 4.5, \"Uniformity\": 4.5, \"Salsa\": 2.0, \"Synergy\": 3.5, \"Wrap\": 4.0, \"Great\": \"Great\"}, {\"Burrito\": \"California\", \"Date\": \"5/30/2017\", \"Tortilla\": 3.0, \"Temp\": 3.0, \"Meat\": 2.0, \"Fillings\": 2.0, \"Meat:filling\": 3.0, \"Uniformity\": 2.0, \"Salsa\": 3.0, \"Synergy\": 2.0, \"Wrap\": 3.0, \"Great\": \"Not\"}, {\"Burrito\": \"California\", \"Date\": \"6/4/2017\", \"Tortilla\": 3.0, \"Temp\": 4.0, \"Meat\": 4.0, \"Fillings\": 2.5, \"Meat:filling\": 2.5, \"Uniformity\": 3.0, \"Salsa\": 3.0, \"Synergy\": 3.0, \"Wrap\": 5.0, \"Great\": \"Not\"}, {\"Burrito\": \"California\", \"Date\": \"6/4/2017\", \"Tortilla\": 3.5, \"Temp\": 4.5, \"Meat\": 3.5, \"Fillings\": 3.5, \"Meat:filling\": 3.0, \"Uniformity\": 3.5, \"Salsa\": 4.0, \"Synergy\": 3.5, \"Wrap\": 5.0, \"Great\": \"Not\"}, {\"Burrito\": \"California\", \"Date\": \"6/10/2017\", \"Tortilla\": 3.0, \"Temp\": null, \"Meat\": 4.5, \"Fillings\": 4.0, \"Meat:filling\": 4.5, \"Uniformity\": 4.5, \"Salsa\": 4.5, \"Synergy\": 4.8, \"Wrap\": 3.3, \"Great\": \"Great\"}, {\"Burrito\": \"California\", \"Date\": \"6/10/2017\", \"Tortilla\": 3.0, \"Temp\": null, \"Meat\": 4.0, \"Fillings\": 4.0, \"Meat:filling\": 4.5, \"Uniformity\": 4.0, \"Salsa\": 4.5, \"Synergy\": 4.5, \"Wrap\": 5.0, \"Great\": \"Great\"}, {\"Burrito\": \"California\", \"Date\": \"6/16/2017\", \"Tortilla\": 3.0, \"Temp\": 3.0, \"Meat\": 3.5, \"Fillings\": 3.5, \"Meat:filling\": 3.5, \"Uniformity\": 3.5, \"Salsa\": 3.8, \"Synergy\": 4.0, \"Wrap\": 5.0, \"Great\": \"Not\"}, {\"Burrito\": \"Surf & Turf\", \"Date\": \"6/24/2017\", \"Tortilla\": 3.0, \"Temp\": 2.5, \"Meat\": 3.0, \"Fillings\": 3.0, \"Meat:filling\": 3.5, \"Uniformity\": 2.8, \"Salsa\": 3.5, \"Synergy\": 2.8, \"Wrap\": 1.5, \"Great\": \"Not\"}, {\"Burrito\": \"California\", \"Date\": \"6/24/2017\", \"Tortilla\": 3.0, \"Temp\": 2.0, \"Meat\": 3.5, \"Fillings\": 3.0, \"Meat:filling\": 3.0, \"Uniformity\": 4.0, \"Salsa\": 3.0, \"Synergy\": 3.8, \"Wrap\": 4.5, \"Great\": \"Not\"}, {\"Burrito\": \"Carne Asada\", \"Date\": \"7/6/2017\", \"Tortilla\": 2.5, \"Temp\": 3.0, \"Meat\": 2.5, \"Fillings\": 3.5, \"Meat:filling\": 4.5, \"Uniformity\": 4.5, \"Salsa\": 3.7, \"Synergy\": 3.3, \"Wrap\": 4.5, \"Great\": \"Not\"}, {\"Burrito\": \"Carne Asada\", \"Date\": \"7/6/2017\", \"Tortilla\": 4.0, \"Temp\": 4.0, \"Meat\": 4.0, \"Fillings\": 3.0, \"Meat:filling\": 4.0, \"Uniformity\": 2.0, \"Salsa\": 4.0, \"Synergy\": 3.0, \"Wrap\": 3.0, \"Great\": \"Great\"}, {\"Burrito\": \"Other\", \"Date\": \"7/6/2017\", \"Tortilla\": 3.5, \"Temp\": 3.0, \"Meat\": null, \"Fillings\": 3.5, \"Meat:filling\": 3.0, \"Uniformity\": 4.0, \"Salsa\": 4.5, \"Synergy\": 3.5, \"Wrap\": 4.0, \"Great\": \"Not\"}, {\"Burrito\": \"California\", \"Date\": \"7/6/2017\", \"Tortilla\": 1.0, \"Temp\": 2.0, \"Meat\": 2.0, \"Fillings\": 2.0, \"Meat:filling\": 3.0, \"Uniformity\": 3.0, \"Salsa\": 1.0, \"Synergy\": 2.0, \"Wrap\": 3.0, \"Great\": \"Not\"}, {\"Burrito\": \"Other\", \"Date\": \"7/13/2017\", \"Tortilla\": 3.2, \"Temp\": 3.0, \"Meat\": 3.5, \"Fillings\": 3.5, \"Meat:filling\": 3.0, \"Uniformity\": 3.3, \"Salsa\": 3.0, \"Synergy\": 3.8, \"Wrap\": 2.0, \"Great\": \"Not\"}, {\"Burrito\": \"Carne Asada\", \"Date\": \"7/12/2017\", \"Tortilla\": 3.0, \"Temp\": 4.5, \"Meat\": 2.0, \"Fillings\": 3.0, \"Meat:filling\": 2.5, \"Uniformity\": 4.0, \"Salsa\": 2.0, \"Synergy\": 2.0, \"Wrap\": 4.0, \"Great\": \"Not\"}, {\"Burrito\": \"California\", \"Date\": \"7/19/2017\", \"Tortilla\": 4.0, \"Temp\": null, \"Meat\": 3.5, \"Fillings\": 3.5, \"Meat:filling\": 3.5, \"Uniformity\": 3.5, \"Salsa\": 3.5, \"Synergy\": 3.5, \"Wrap\": 5.0, \"Great\": \"Not\"}, {\"Burrito\": \"Other\", \"Date\": \"7/22/2017\", \"Tortilla\": 4.0, \"Temp\": 4.5, \"Meat\": 3.0, \"Fillings\": 4.0, \"Meat:filling\": 3.0, \"Uniformity\": 2.5, \"Salsa\": 3.5, \"Synergy\": 3.5, \"Wrap\": 3.0, \"Great\": \"Great\"}, {\"Burrito\": \"Other\", \"Date\": \"7/22/2017\", \"Tortilla\": 4.0, \"Temp\": 4.0, \"Meat\": 3.75, \"Fillings\": 4.0, \"Meat:filling\": 3.5, \"Uniformity\": 3.5, \"Salsa\": 4.0, \"Synergy\": 5.0, \"Wrap\": 3.5, \"Great\": \"Great\"}, {\"Burrito\": \"Carne Asada\", \"Date\": \"8/7/2017\", \"Tortilla\": 4.0, \"Temp\": 4.5, \"Meat\": 3.5, \"Fillings\": 3.5, \"Meat:filling\": 4.5, \"Uniformity\": 4.5, \"Salsa\": 3.0, \"Synergy\": 3.5, \"Wrap\": 4.0, \"Great\": \"Not\"}, {\"Burrito\": \"California\", \"Date\": \"8/7/2017\", \"Tortilla\": 4.0, \"Temp\": 5.0, \"Meat\": 5.0, \"Fillings\": 5.0, \"Meat:filling\": 5.0, \"Uniformity\": 5.0, \"Salsa\": 5.0, \"Synergy\": 4.0, \"Wrap\": 3.5, \"Great\": \"Great\"}, {\"Burrito\": \"California\", \"Date\": \"8/9/2017\", \"Tortilla\": 3.0, \"Temp\": 3.0, \"Meat\": 4.0, \"Fillings\": 3.0, \"Meat:filling\": 4.0, \"Uniformity\": 2.5, \"Salsa\": 4.0, \"Synergy\": 4.5, \"Wrap\": 4.0, \"Great\": \"Great\"}, {\"Burrito\": \"California\", \"Date\": \"8/11/2017\", \"Tortilla\": 3.75, \"Temp\": 5.0, \"Meat\": 3.0, \"Fillings\": 3.5, \"Meat:filling\": 5.0, \"Uniformity\": 5.0, \"Salsa\": 2.0, \"Synergy\": 3.0, \"Wrap\": 2.8, \"Great\": \"Not\"}, {\"Burrito\": \"Other\", \"Date\": \"8/14/2017\", \"Tortilla\": 3.8, \"Temp\": 4.4, \"Meat\": 4.0, \"Fillings\": 3.8, \"Meat:filling\": 4.0, \"Uniformity\": 4.0, \"Salsa\": 4.0, \"Synergy\": 4.0, \"Wrap\": 5.0, \"Great\": \"Great\"}, {\"Burrito\": \"California\", \"Date\": \"8/14/2017\", \"Tortilla\": 4.5, \"Temp\": 5.0, \"Meat\": 4.0, \"Fillings\": 4.0, \"Meat:filling\": 4.0, \"Uniformity\": 3.7, \"Salsa\": 3.8, \"Synergy\": 4.6, \"Wrap\": 4.8, \"Great\": \"Great\"}, {\"Burrito\": \"California\", \"Date\": \"8/19/2017\", \"Tortilla\": 4.0, \"Temp\": 5.0, \"Meat\": 3.5, \"Fillings\": 3.8, \"Meat:filling\": 3.0, \"Uniformity\": 2.5, \"Salsa\": 3.3, \"Synergy\": 4.0, \"Wrap\": 5.0, \"Great\": \"Not\"}, {\"Burrito\": \"Other\", \"Date\": \"8/19/2017\", \"Tortilla\": 3.5, \"Temp\": 5.0, \"Meat\": 4.0, \"Fillings\": 4.0, \"Meat:filling\": 4.5, \"Uniformity\": 4.75, \"Salsa\": 3.75, \"Synergy\": 4.0, \"Wrap\": 5.0, \"Great\": \"Great\"}, {\"Burrito\": \"Other\", \"Date\": \"8/20/2017\", \"Tortilla\": 3.0, \"Temp\": 3.0, \"Meat\": 2.0, \"Fillings\": 2.5, \"Meat:filling\": 1.5, \"Uniformity\": 2.5, \"Salsa\": 2.5, \"Synergy\": 3.0, \"Wrap\": 5.0, \"Great\": \"Not\"}, {\"Burrito\": \"Other\", \"Date\": \"8/20/2017\", \"Tortilla\": 2.5, \"Temp\": 3.5, \"Meat\": 3.5, \"Fillings\": 3.5, \"Meat:filling\": 3.5, \"Uniformity\": 4.0, \"Salsa\": 3.0, \"Synergy\": 3.5, \"Wrap\": 4.5, \"Great\": \"Not\"}, {\"Burrito\": \"Carnitas\", \"Date\": \"8/25/2017\", \"Tortilla\": 2.0, \"Temp\": 2.5, \"Meat\": 4.0, \"Fillings\": 3.0, \"Meat:filling\": 4.0, \"Uniformity\": 3.5, \"Salsa\": 3.0, \"Synergy\": 3.0, \"Wrap\": 5.0, \"Great\": \"Not\"}, {\"Burrito\": \"Carne Asada\", \"Date\": \"8/25/2017\", \"Tortilla\": 4.0, \"Temp\": 4.0, \"Meat\": 4.0, \"Fillings\": 4.5, \"Meat:filling\": 4.0, \"Uniformity\": 3.5, \"Salsa\": 4.0, \"Synergy\": 4.0, \"Wrap\": 4.0, \"Great\": \"Great\"}, {\"Burrito\": \"Other\", \"Date\": \"9/4/2017\", \"Tortilla\": 3.5, \"Temp\": 4.0, \"Meat\": 4.5, \"Fillings\": 4.0, \"Meat:filling\": 3.0, \"Uniformity\": 4.0, \"Salsa\": 3.5, \"Synergy\": 4.5, \"Wrap\": 5.0, \"Great\": \"Great\"}, {\"Burrito\": \"Other\", \"Date\": \"9/4/2017\", \"Tortilla\": 4.0, \"Temp\": 4.0, \"Meat\": 4.0, \"Fillings\": 4.5, \"Meat:filling\": 4.2, \"Uniformity\": 4.5, \"Salsa\": 4.0, \"Synergy\": 4.5, \"Wrap\": 4.8, \"Great\": \"Great\"}, {\"Burrito\": \"California\", \"Date\": \"9/5/2017\", \"Tortilla\": 3.0, \"Temp\": 4.5, \"Meat\": 3.8, \"Fillings\": 3.8, \"Meat:filling\": 4.0, \"Uniformity\": 3.5, \"Salsa\": 3.5, \"Synergy\": 4.0, \"Wrap\": 3.0, \"Great\": \"Great\"}, {\"Burrito\": \"California\", \"Date\": \"9/5/2017\", \"Tortilla\": 3.0, \"Temp\": 4.5, \"Meat\": 4.0, \"Fillings\": 4.0, \"Meat:filling\": 4.5, \"Uniformity\": 3.0, \"Salsa\": 4.0, \"Synergy\": 4.0, \"Wrap\": 3.5, \"Great\": \"Great\"}, {\"Burrito\": \"Other\", \"Date\": \"12/16/2017\", \"Tortilla\": 2.0, \"Temp\": 2.0, \"Meat\": 4.0, \"Fillings\": 3.5, \"Meat:filling\": 3.0, \"Uniformity\": 4.5, \"Salsa\": 3.5, \"Synergy\": 4.0, \"Wrap\": 2.0, \"Great\": \"Not\"}, {\"Burrito\": \"California\", \"Date\": \"12/29/2017\", \"Tortilla\": 4.0, \"Temp\": 3.0, \"Meat\": 4.0, \"Fillings\": 4.0, \"Meat:filling\": 3.0, \"Uniformity\": 4.0, \"Salsa\": 3.5, \"Synergy\": 4.3, \"Wrap\": 4.5, \"Great\": \"Great\"}, {\"Burrito\": \"California\", \"Date\": \"12/29/2017\", \"Tortilla\": 5.0, \"Temp\": 5.0, \"Meat\": 5.0, \"Fillings\": 5.0, \"Meat:filling\": 4.0, \"Uniformity\": 4.0, \"Salsa\": 5.0, \"Synergy\": 5.0, \"Wrap\": 3.0, \"Great\": \"Great\"}, {\"Burrito\": \"California\", \"Date\": \"1/2/2018\", \"Tortilla\": 4.0, \"Temp\": 5.0, \"Meat\": 4.0, \"Fillings\": 5.0, \"Meat:filling\": 5.0, \"Uniformity\": 3.0, \"Salsa\": 3.0, \"Synergy\": 4.0, \"Wrap\": 5.0, \"Great\": \"Not\"}, {\"Burrito\": \"Other\", \"Date\": \"1/9/2018\", \"Tortilla\": 3.0, \"Temp\": 5.0, \"Meat\": 2.0, \"Fillings\": 2.0, \"Meat:filling\": 4.0, \"Uniformity\": 1.0, \"Salsa\": 4.0, \"Synergy\": 3.0, \"Wrap\": 4.0, \"Great\": \"Not\"}, {\"Burrito\": \"California\", \"Date\": \"1/12/2018\", \"Tortilla\": 5.0, \"Temp\": 5.0, \"Meat\": 5.0, \"Fillings\": 5.0, \"Meat:filling\": 5.0, \"Uniformity\": 5.0, \"Salsa\": 4.0, \"Synergy\": 5.0, \"Wrap\": 5.0, \"Great\": \"Great\"}, {\"Burrito\": \"Other\", \"Date\": \"1/12/2018\", \"Tortilla\": 4.0, \"Temp\": 4.0, \"Meat\": 3.0, \"Fillings\": 3.5, \"Meat:filling\": 1.0, \"Uniformity\": 2.0, \"Salsa\": 3.0, \"Synergy\": 3.0, \"Wrap\": 1.0, \"Great\": \"Not\"}, {\"Burrito\": \"Carne Asada\", \"Date\": \"4/4/2018\", \"Tortilla\": 4.0, \"Temp\": 5.0, \"Meat\": 4.0, \"Fillings\": 3.0, \"Meat:filling\": 3.0, \"Uniformity\": 3.0, \"Salsa\": 4.0, \"Synergy\": 3.0, \"Wrap\": 4.0, \"Great\": \"Great\"}, {\"Burrito\": \"Carnitas\", \"Date\": \"4/9/2018\", \"Tortilla\": 3.5, \"Temp\": 5.0, \"Meat\": 4.3, \"Fillings\": 3.5, \"Meat:filling\": 5.0, \"Uniformity\": 4.0, \"Salsa\": 3.0, \"Synergy\": 3.8, \"Wrap\": 2.0, \"Great\": \"Great\"}, {\"Burrito\": \"Carnitas\", \"Date\": \"4/9/2018\", \"Tortilla\": 4.0, \"Temp\": 4.5, \"Meat\": 5.0, \"Fillings\": 4.5, \"Meat:filling\": 5.0, \"Uniformity\": 4.0, \"Salsa\": 4.0, \"Synergy\": 4.5, \"Wrap\": 4.0, \"Great\": \"Great\"}, {\"Burrito\": \"Carnitas\", \"Date\": \"4/9/2018\", \"Tortilla\": 2.0, \"Temp\": 3.5, \"Meat\": 4.5, \"Fillings\": 4.0, \"Meat:filling\": 4.0, \"Uniformity\": 2.0, \"Salsa\": 3.0, \"Synergy\": 4.0, \"Wrap\": 2.0, \"Great\": \"Not\"}, {\"Burrito\": \"California\", \"Date\": \"4/14/2018\", \"Tortilla\": 4.5, \"Temp\": 4.5, \"Meat\": 4.0, \"Fillings\": 4.0, \"Meat:filling\": 3.0, \"Uniformity\": 4.0, \"Salsa\": 3.5, \"Synergy\": 4.0, \"Wrap\": 3.0, \"Great\": \"Great\"}, {\"Burrito\": \"California\", \"Date\": \"4/14/2018\", \"Tortilla\": 4.5, \"Temp\": 5.0, \"Meat\": 3.5, \"Fillings\": 4.0, \"Meat:filling\": 4.0, \"Uniformity\": 4.0, \"Salsa\": null, \"Synergy\": 2.5, \"Wrap\": 1.5, \"Great\": \"Not\"}, {\"Burrito\": \"Other\", \"Date\": \"4/16/2018\", \"Tortilla\": 4.0, \"Temp\": 4.5, \"Meat\": 3.5, \"Fillings\": 3.0, \"Meat:filling\": 4.5, \"Uniformity\": 3.0, \"Salsa\": 3.0, \"Synergy\": 2.5, \"Wrap\": 2.5, \"Great\": \"Not\"}, {\"Burrito\": \"Other\", \"Date\": \"4/16/2018\", \"Tortilla\": 4.0, \"Temp\": 4.0, \"Meat\": 3.5, \"Fillings\": 4.2, \"Meat:filling\": 4.5, \"Uniformity\": 4.3, \"Salsa\": 3.0, \"Synergy\": 4.0, \"Wrap\": 4.5, \"Great\": \"Not\"}, {\"Burrito\": \"Carnitas\", \"Date\": \"4/20/2018\", \"Tortilla\": 2.0, \"Temp\": 5.0, \"Meat\": 4.5, \"Fillings\": 3.5, \"Meat:filling\": 4.5, \"Uniformity\": 4.5, \"Salsa\": 2.5, \"Synergy\": 3.5, \"Wrap\": 1.5, \"Great\": \"Great\"}, {\"Burrito\": \"Carnitas\", \"Date\": \"4/20/2018\", \"Tortilla\": 4.0, \"Temp\": 4.5, \"Meat\": 3.5, \"Fillings\": 4.0, \"Meat:filling\": 4.0, \"Uniformity\": 3.5, \"Salsa\": 4.0, \"Synergy\": 4.0, \"Wrap\": 3.5, \"Great\": \"Great\"}, {\"Burrito\": \"California\", \"Date\": \"4/21/2018\", \"Tortilla\": 3.8, \"Temp\": 4.0, \"Meat\": 4.0, \"Fillings\": 4.0, \"Meat:filling\": 3.8, \"Uniformity\": 3.4, \"Salsa\": 4.3, \"Synergy\": 4.0, \"Wrap\": 5.0, \"Great\": \"Great\"}, {\"Burrito\": \"California\", \"Date\": \"4/21/2018\", \"Tortilla\": 3.5, \"Temp\": 3.0, \"Meat\": 3.8, \"Fillings\": 4.0, \"Meat:filling\": 3.8, \"Uniformity\": 4.5, \"Salsa\": 4.5, \"Synergy\": 4.0, \"Wrap\": 5.0, \"Great\": \"Not\"}, {\"Burrito\": \"California\", \"Date\": \"4/29/2018\", \"Tortilla\": 3.5, \"Temp\": 1.0, \"Meat\": 3.0, \"Fillings\": 3.0, \"Meat:filling\": 3.4, \"Uniformity\": 4.0, \"Salsa\": 4.5, \"Synergy\": 3.0, \"Wrap\": 4.0, \"Great\": \"Not\"}, {\"Burrito\": \"California\", \"Date\": \"4/29/2018\", \"Tortilla\": 3.0, \"Temp\": 2.5, \"Meat\": 3.5, \"Fillings\": 3.0, \"Meat:filling\": 1.0, \"Uniformity\": 1.0, \"Salsa\": 4.0, \"Synergy\": 3.5, \"Wrap\": 5.0, \"Great\": \"Not\"}, {\"Burrito\": \"California\", \"Date\": \"5/1/2018\", \"Tortilla\": 3.5, \"Temp\": 3.0, \"Meat\": 3.2, \"Fillings\": 3.2, \"Meat:filling\": 3.2, \"Uniformity\": 4.0, \"Salsa\": 3.0, \"Synergy\": 2.5, \"Wrap\": 4.5, \"Great\": \"Not\"}, {\"Burrito\": \"Carnitas\", \"Date\": \"5/7/2018\", \"Tortilla\": 2.5, \"Temp\": 3.0, \"Meat\": 4.0, \"Fillings\": 3.5, \"Meat:filling\": 2.5, \"Uniformity\": 2.5, \"Salsa\": 3.3, \"Synergy\": 3.0, \"Wrap\": 4.0, \"Great\": \"Not\"}, {\"Burrito\": \"Carnitas\", \"Date\": \"5/7/2018\", \"Tortilla\": 4.0, \"Temp\": 4.0, \"Meat\": 4.5, \"Fillings\": 4.0, \"Meat:filling\": 4.5, \"Uniformity\": 5.0, \"Salsa\": 4.0, \"Synergy\": 4.0, \"Wrap\": null, \"Great\": \"Great\"}, {\"Burrito\": \"Other\", \"Date\": \"5/22/2018\", \"Tortilla\": 4.0, \"Temp\": 4.0, \"Meat\": 3.0, \"Fillings\": 3.0, \"Meat:filling\": 5.0, \"Uniformity\": 3.5, \"Salsa\": null, \"Synergy\": 3.0, \"Wrap\": 4.5, \"Great\": \"Great\"}, {\"Burrito\": \"Other\", \"Date\": \"5/22/2018\", \"Tortilla\": 5.0, \"Temp\": 5.0, \"Meat\": 3.0, \"Fillings\": 3.0, \"Meat:filling\": 4.0, \"Uniformity\": 4.0, \"Salsa\": 2.0, \"Synergy\": 4.0, \"Wrap\": 3.0, \"Great\": \"Great\"}, {\"Burrito\": \"Other\", \"Date\": \"5/22/2018\", \"Tortilla\": 5.0, \"Temp\": 4.0, \"Meat\": 4.0, \"Fillings\": 3.0, \"Meat:filling\": 4.0, \"Uniformity\": 5.0, \"Salsa\": 4.0, \"Synergy\": 4.0, \"Wrap\": 5.0, \"Great\": \"Great\"}, {\"Burrito\": \"Other\", \"Date\": \"5/22/2018\", \"Tortilla\": 3.5, \"Temp\": 4.5, \"Meat\": 4.0, \"Fillings\": 3.5, \"Meat:filling\": 2.0, \"Uniformity\": 1.0, \"Salsa\": 3.5, \"Synergy\": 3.5, \"Wrap\": 4.0, \"Great\": \"Not\"}, {\"Burrito\": \"Other\", \"Date\": \"5/22/2018\", \"Tortilla\": 3.0, \"Temp\": 5.0, \"Meat\": null, \"Fillings\": 3.0, \"Meat:filling\": null, \"Uniformity\": 4.0, \"Salsa\": null, \"Synergy\": 3.0, \"Wrap\": 4.0, \"Great\": \"Not\"}, {\"Burrito\": \"California\", \"Date\": \"11/6/2018\", \"Tortilla\": 5.0, \"Temp\": 5.0, \"Meat\": 5.0, \"Fillings\": 4.5, \"Meat:filling\": 5.0, \"Uniformity\": 5.0, \"Salsa\": 5.0, \"Synergy\": 5.0, \"Wrap\": 5.0, \"Great\": \"Great\"}, {\"Burrito\": \"California\", \"Date\": \"8/24/2019\", \"Tortilla\": 4.0, \"Temp\": 4.5, \"Meat\": 3.5, \"Fillings\": 4.0, \"Meat:filling\": 4.0, \"Uniformity\": 5.0, \"Salsa\": 4.7, \"Synergy\": 4.0, \"Wrap\": 5.0, \"Great\": \"Great\"}, {\"Burrito\": \"Other\", \"Date\": \"8/27/2019\", \"Tortilla\": 4.5, \"Temp\": 5.0, \"Meat\": 5.0, \"Fillings\": 3.5, \"Meat:filling\": 4.0, \"Uniformity\": 4.5, \"Salsa\": 4.0, \"Synergy\": 4.9, \"Wrap\": 4.5, \"Great\": \"Great\"}, {\"Burrito\": \"Carne Asada\", \"Date\": \"8/27/2019\", \"Tortilla\": 3.0, \"Temp\": 4.0, \"Meat\": 4.0, \"Fillings\": 3.0, \"Meat:filling\": 4.0, \"Uniformity\": 4.0, \"Salsa\": 3.0, \"Synergy\": 3.0, \"Wrap\": 5.0, \"Great\": \"Great\"}, {\"Burrito\": \"Other\", \"Date\": \"8/27/2019\", \"Tortilla\": 4.0, \"Temp\": 4.0, \"Meat\": 4.5, \"Fillings\": 4.0, \"Meat:filling\": 3.0, \"Uniformity\": 3.0, \"Salsa\": 4.5, \"Synergy\": 4.0, \"Wrap\": 4.5, \"Great\": \"Great\"}, {\"Burrito\": \"California\", \"Date\": \"8/27/2019\", \"Tortilla\": 4.5, \"Temp\": 3.0, \"Meat\": 4.0, \"Fillings\": 4.5, \"Meat:filling\": 2.5, \"Uniformity\": 3.5, \"Salsa\": 4.0, \"Synergy\": 5.0, \"Wrap\": 5.0, \"Great\": \"Great\"}, {\"Burrito\": \"Other\", \"Date\": \"8/27/2019\", \"Tortilla\": 5.0, \"Temp\": 4.0, \"Meat\": 3.5, \"Fillings\": null, \"Meat:filling\": 4.0, \"Uniformity\": 4.0, \"Salsa\": 2.0, \"Synergy\": 2.0, \"Wrap\": 5.0, \"Great\": \"Not\"}, {\"Burrito\": \"Other\", \"Date\": \"8/27/2019\", \"Tortilla\": 4.0, \"Temp\": 5.0, \"Meat\": null, \"Fillings\": 3.5, \"Meat:filling\": 4.0, \"Uniformity\": 4.0, \"Salsa\": 5.0, \"Synergy\": 4.0, \"Wrap\": 3.0, \"Great\": \"Great\"}, {\"Burrito\": \"California\", \"Date\": \"8/27/2019\", \"Tortilla\": 4.0, \"Temp\": 4.0, \"Meat\": 4.0, \"Fillings\": 3.7, \"Meat:filling\": 3.0, \"Uniformity\": 2.0, \"Salsa\": 3.5, \"Synergy\": 4.0, \"Wrap\": 4.5, \"Great\": \"Not\"}, {\"Burrito\": \"Other\", \"Date\": \"8/27/2019\", \"Tortilla\": 5.0, \"Temp\": 2.0, \"Meat\": 5.0, \"Fillings\": 5.0, \"Meat:filling\": 5.0, \"Uniformity\": 2.0, \"Salsa\": 5.0, \"Synergy\": 5.0, \"Wrap\": 2.0, \"Great\": \"Great\"}, {\"Burrito\": \"Other\", \"Date\": \"8/27/2019\", \"Tortilla\": 3.0, \"Temp\": 5.0, \"Meat\": 4.3, \"Fillings\": 4.0, \"Meat:filling\": 4.9, \"Uniformity\": 3.8, \"Salsa\": 3.0, \"Synergy\": 4.5, \"Wrap\": 4.0, \"Great\": \"Great\"}]}}, {\"mode\": \"vega-lite\"});\n",
              "</script>"
            ]
          },
          "metadata": {
            "tags": []
          },
          "execution_count": 34
        }
      ]
    },
    {
      "cell_type": "markdown",
      "metadata": {
        "id": "XITeow75F892",
        "colab_type": "text"
      },
      "source": [
        "## Final Thoughts"
      ]
    },
    {
      "cell_type": "markdown",
      "metadata": {
        "id": "sfMItfCL5ccL",
        "colab_type": "text"
      },
      "source": [
        "Most of the data seems evenly split within each category, save one. The 'Other' category has significantly more 'Not Great' Burritos, as indicated in the graph above. This makes sense - the more popular burritos... are, wait for it... more popular. Maybe the people of San Deigo like to try new and rare things, but in the end, they still prefer the old favorites."
      ]
    },
    {
      "cell_type": "markdown",
      "metadata": {
        "id": "7cy906QfFDrh",
        "colab_type": "text"
      },
      "source": [
        "Further study could include taking a closer look at the 'Other' category and trying to see if there is more to the story. Are there certain ingredients that give high propability to score one way or another? Would could that mean to a Burrito chef? Also, why do Californians like fries in Burritos?"
      ]
    },
    {
      "cell_type": "markdown",
      "metadata": {
        "id": "Tc2MiRRc3wHC",
        "colab_type": "text"
      },
      "source": [
        "## Random Forest Pipeline\n"
      ]
    },
    {
      "cell_type": "code",
      "metadata": {
        "id": "4yv3WaQG0oFr",
        "colab_type": "code",
        "colab": {}
      },
      "source": [
        "from sklearn.pipeline import make_pipeline\n",
        "from sklearn.ensemble import RandomForestClassifier\n",
        "from sklearn.preprocessing import StandardScaler"
      ],
      "execution_count": 0,
      "outputs": []
    },
    {
      "cell_type": "code",
      "metadata": {
        "id": "MaevOvBb3yHY",
        "colab_type": "code",
        "outputId": "78a88981-ce07-47e2-ae58-7bc7f6244a64",
        "colab": {
          "base_uri": "https://localhost:8080/",
          "height": 34
        }
      },
      "source": [
        "pipline = make_pipeline(\n",
        "    ce.OrdinalEncoder(),\n",
        "    StandardScaler(),\n",
        "    RandomForestClassifier(n_jobs=-1, random_state=42)\n",
        ")\n",
        "pipline.fit(burrito_train, target_train)\n",
        "print(f\"Validation: {100*pipline.score(burrito_test, target_test):.2f}%\")"
      ],
      "execution_count": 0,
      "outputs": [
        {
          "output_type": "stream",
          "text": [
            "Validation: 78.12%\n"
          ],
          "name": "stdout"
        }
      ]
    }
  ]
}