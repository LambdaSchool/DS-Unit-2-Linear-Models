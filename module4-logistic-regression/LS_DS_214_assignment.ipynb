{
  "nbformat": 4,
  "nbformat_minor": 0,
  "metadata": {
    "kernelspec": {
      "display_name": "Python 3",
      "language": "python",
      "name": "python3"
    },
    "language_info": {
      "codemirror_mode": {
        "name": "ipython",
        "version": 3
      },
      "file_extension": ".py",
      "mimetype": "text/x-python",
      "name": "python",
      "nbconvert_exporter": "python",
      "pygments_lexer": "ipython3",
      "version": "3.7.3"
    },
    "colab": {
      "name": "LS_DS_214_assignment.ipynb",
      "provenance": [],
      "collapsed_sections": [],
      "include_colab_link": true
    }
  },
  "cells": [
    {
      "cell_type": "markdown",
      "metadata": {
        "id": "view-in-github",
        "colab_type": "text"
      },
      "source": [
        "<a href=\"https://colab.research.google.com/github/tigju/DS-Unit-2-Linear-Models/blob/master/module4-logistic-regression/LS_DS_214_assignment.ipynb\" target=\"_parent\"><img src=\"https://colab.research.google.com/assets/colab-badge.svg\" alt=\"Open In Colab\"/></a>"
      ]
    },
    {
      "cell_type": "markdown",
      "metadata": {
        "id": "X_YyEHp6eOvp",
        "colab_type": "text"
      },
      "source": [
        "Lambda School Data Science\n",
        "\n",
        "*Unit 2, Sprint 1, Module 4*\n",
        "\n",
        "---"
      ]
    },
    {
      "cell_type": "markdown",
      "metadata": {
        "colab_type": "text",
        "id": "7IXUfiQ2UKj6"
      },
      "source": [
        "# Logistic Regression\n",
        "\n",
        "\n",
        "## Assignment 🌯\n",
        "\n",
        "You'll use a [**dataset of 400+ burrito reviews**](https://srcole.github.io/100burritos/). How accurately can you predict whether a burrito is rated 'Great'?\n",
        "\n",
        "> We have developed a 10-dimensional system for rating the burritos in San Diego. ... Generate models for what makes a burrito great and investigate correlations in its dimensions.\n",
        "\n",
        "- [ ] Do train/validate/test split. Train on reviews from 2016 & earlier. Validate on 2017. Test on 2018 & later.\n",
        "- [ ] Begin with baselines for classification.\n",
        "- [ ] Use scikit-learn for logistic regression.\n",
        "- [ ] Get your model's validation accuracy. (Multiple times if you try multiple iterations.)\n",
        "- [ ] Get your model's test accuracy. (One time, at the end.)\n",
        "- [ ] Commit your notebook to your fork of the GitHub repo.\n",
        "\n",
        "\n",
        "## Stretch Goals\n",
        "\n",
        "- [ ] Add your own stretch goal(s) !\n",
        "- [ ] Make exploratory visualizations.\n",
        "- [ ] Do one-hot encoding.\n",
        "- [ ] Do [feature scaling](https://scikit-learn.org/stable/modules/preprocessing.html).\n",
        "- [ ] Get and plot your coefficients.\n",
        "- [ ] Try [scikit-learn pipelines](https://scikit-learn.org/stable/modules/compose.html)."
      ]
    },
    {
      "cell_type": "code",
      "metadata": {
        "colab_type": "code",
        "id": "o9eSnDYhUGD7",
        "colab": {}
      },
      "source": [
        "%%capture\n",
        "import sys\n",
        "\n",
        "# If you're on Colab:\n",
        "if 'google.colab' in sys.modules:\n",
        "    DATA_PATH = 'https://raw.githubusercontent.com/LambdaSchool/DS-Unit-2-Linear-Models/master/data/'\n",
        "    !pip install category_encoders==2.*\n",
        "\n",
        "# If you're working locally:\n",
        "else:\n",
        "    DATA_PATH = '../data/'"
      ],
      "execution_count": 0,
      "outputs": []
    },
    {
      "cell_type": "code",
      "metadata": {
        "id": "jAtAu0yLeOvx",
        "colab_type": "code",
        "colab": {}
      },
      "source": [
        "# Load data downloaded from https://srcole.github.io/100burritos/\n",
        "import pandas as pd\n",
        "df = pd.read_csv(DATA_PATH+'burritos/burritos.csv')"
      ],
      "execution_count": 0,
      "outputs": []
    },
    {
      "cell_type": "code",
      "metadata": {
        "id": "zTmZ3r-YeOv1",
        "colab_type": "code",
        "colab": {}
      },
      "source": [
        "# Derive binary classification target:\n",
        "# We define a 'Great' burrito as having an\n",
        "# overall rating of 4 or higher, on a 5 point scale.\n",
        "# Drop unrated burritos.\n",
        "df = df.dropna(subset=['overall'])\n",
        "df['Great'] = df['overall'] >= 4"
      ],
      "execution_count": 0,
      "outputs": []
    },
    {
      "cell_type": "code",
      "metadata": {
        "id": "cIma3wiceOv3",
        "colab_type": "code",
        "colab": {}
      },
      "source": [
        "# Clean/combine the Burrito categories\n",
        "df['Burrito'] = df['Burrito'].str.lower()\n",
        "\n",
        "california = df['Burrito'].str.contains('california')\n",
        "asada = df['Burrito'].str.contains('asada')\n",
        "surf = df['Burrito'].str.contains('surf')\n",
        "carnitas = df['Burrito'].str.contains('carnitas')\n",
        "\n",
        "df.loc[california, 'Burrito'] = 'California'\n",
        "df.loc[asada, 'Burrito'] = 'Asada'\n",
        "df.loc[surf, 'Burrito'] = 'Surf & Turf'\n",
        "df.loc[carnitas, 'Burrito'] = 'Carnitas'\n",
        "df.loc[~california & ~asada & ~surf & ~carnitas, 'Burrito'] = 'Other'"
      ],
      "execution_count": 0,
      "outputs": []
    },
    {
      "cell_type": "code",
      "metadata": {
        "id": "mKWy8TOueOv7",
        "colab_type": "code",
        "colab": {}
      },
      "source": [
        "# Drop some high cardinality categoricals\n",
        "df = df.drop(columns=['Notes', 'Location', 'Reviewer', 'Address', 'URL', 'Neighborhood'])"
      ],
      "execution_count": 0,
      "outputs": []
    },
    {
      "cell_type": "code",
      "metadata": {
        "id": "wDqp9znOeOwA",
        "colab_type": "code",
        "colab": {}
      },
      "source": [
        "# Drop some columns to prevent \"leakage\"\n",
        "df = df.drop(columns=['Rec', 'overall'])"
      ],
      "execution_count": 0,
      "outputs": []
    },
    {
      "cell_type": "code",
      "metadata": {
        "id": "MKM4we4TnHhQ",
        "colab_type": "code",
        "colab": {}
      },
      "source": [
        "import numpy as np\n",
        "pd.set_option(\"display.max_rows\", 130)"
      ],
      "execution_count": 0,
      "outputs": []
    },
    {
      "cell_type": "code",
      "metadata": {
        "id": "-NRuZ59reOwE",
        "colab_type": "code",
        "outputId": "dd55b474-1b9f-4fc2-9885-4f9f6d193fe0",
        "colab": {
          "base_uri": "https://localhost:8080/",
          "height": 240
        }
      },
      "source": [
        "df.head()"
      ],
      "execution_count": 7,
      "outputs": [
        {
          "output_type": "execute_result",
          "data": {
            "text/html": [
              "<div>\n",
              "<style scoped>\n",
              "    .dataframe tbody tr th:only-of-type {\n",
              "        vertical-align: middle;\n",
              "    }\n",
              "\n",
              "    .dataframe tbody tr th {\n",
              "        vertical-align: top;\n",
              "    }\n",
              "\n",
              "    .dataframe thead th {\n",
              "        text-align: right;\n",
              "    }\n",
              "</style>\n",
              "<table border=\"1\" class=\"dataframe\">\n",
              "  <thead>\n",
              "    <tr style=\"text-align: right;\">\n",
              "      <th></th>\n",
              "      <th>Burrito</th>\n",
              "      <th>Date</th>\n",
              "      <th>Yelp</th>\n",
              "      <th>Google</th>\n",
              "      <th>Chips</th>\n",
              "      <th>Cost</th>\n",
              "      <th>Hunger</th>\n",
              "      <th>Mass (g)</th>\n",
              "      <th>Density (g/mL)</th>\n",
              "      <th>Length</th>\n",
              "      <th>Circum</th>\n",
              "      <th>Volume</th>\n",
              "      <th>Tortilla</th>\n",
              "      <th>Temp</th>\n",
              "      <th>Meat</th>\n",
              "      <th>Fillings</th>\n",
              "      <th>Meat:filling</th>\n",
              "      <th>Uniformity</th>\n",
              "      <th>Salsa</th>\n",
              "      <th>Synergy</th>\n",
              "      <th>Wrap</th>\n",
              "      <th>Unreliable</th>\n",
              "      <th>NonSD</th>\n",
              "      <th>Beef</th>\n",
              "      <th>Pico</th>\n",
              "      <th>Guac</th>\n",
              "      <th>Cheese</th>\n",
              "      <th>Fries</th>\n",
              "      <th>Sour cream</th>\n",
              "      <th>Pork</th>\n",
              "      <th>Chicken</th>\n",
              "      <th>Shrimp</th>\n",
              "      <th>Fish</th>\n",
              "      <th>Rice</th>\n",
              "      <th>Beans</th>\n",
              "      <th>Lettuce</th>\n",
              "      <th>Tomato</th>\n",
              "      <th>Bell peper</th>\n",
              "      <th>Carrots</th>\n",
              "      <th>Cabbage</th>\n",
              "      <th>Sauce</th>\n",
              "      <th>Salsa.1</th>\n",
              "      <th>Cilantro</th>\n",
              "      <th>Onion</th>\n",
              "      <th>Taquito</th>\n",
              "      <th>Pineapple</th>\n",
              "      <th>Ham</th>\n",
              "      <th>Chile relleno</th>\n",
              "      <th>Nopales</th>\n",
              "      <th>Lobster</th>\n",
              "      <th>Queso</th>\n",
              "      <th>Egg</th>\n",
              "      <th>Mushroom</th>\n",
              "      <th>Bacon</th>\n",
              "      <th>Sushi</th>\n",
              "      <th>Avocado</th>\n",
              "      <th>Corn</th>\n",
              "      <th>Zucchini</th>\n",
              "      <th>Great</th>\n",
              "    </tr>\n",
              "  </thead>\n",
              "  <tbody>\n",
              "    <tr>\n",
              "      <th>0</th>\n",
              "      <td>California</td>\n",
              "      <td>1/18/2016</td>\n",
              "      <td>3.5</td>\n",
              "      <td>4.2</td>\n",
              "      <td>NaN</td>\n",
              "      <td>6.49</td>\n",
              "      <td>3.0</td>\n",
              "      <td>NaN</td>\n",
              "      <td>NaN</td>\n",
              "      <td>NaN</td>\n",
              "      <td>NaN</td>\n",
              "      <td>NaN</td>\n",
              "      <td>3.0</td>\n",
              "      <td>5.0</td>\n",
              "      <td>3.0</td>\n",
              "      <td>3.5</td>\n",
              "      <td>4.0</td>\n",
              "      <td>4.0</td>\n",
              "      <td>4.0</td>\n",
              "      <td>4.0</td>\n",
              "      <td>4.0</td>\n",
              "      <td>NaN</td>\n",
              "      <td>NaN</td>\n",
              "      <td>x</td>\n",
              "      <td>x</td>\n",
              "      <td>x</td>\n",
              "      <td>x</td>\n",
              "      <td>x</td>\n",
              "      <td>NaN</td>\n",
              "      <td>NaN</td>\n",
              "      <td>NaN</td>\n",
              "      <td>NaN</td>\n",
              "      <td>NaN</td>\n",
              "      <td>NaN</td>\n",
              "      <td>NaN</td>\n",
              "      <td>NaN</td>\n",
              "      <td>NaN</td>\n",
              "      <td>NaN</td>\n",
              "      <td>NaN</td>\n",
              "      <td>NaN</td>\n",
              "      <td>NaN</td>\n",
              "      <td>NaN</td>\n",
              "      <td>NaN</td>\n",
              "      <td>NaN</td>\n",
              "      <td>NaN</td>\n",
              "      <td>NaN</td>\n",
              "      <td>NaN</td>\n",
              "      <td>NaN</td>\n",
              "      <td>NaN</td>\n",
              "      <td>NaN</td>\n",
              "      <td>NaN</td>\n",
              "      <td>NaN</td>\n",
              "      <td>NaN</td>\n",
              "      <td>NaN</td>\n",
              "      <td>NaN</td>\n",
              "      <td>NaN</td>\n",
              "      <td>NaN</td>\n",
              "      <td>NaN</td>\n",
              "      <td>False</td>\n",
              "    </tr>\n",
              "    <tr>\n",
              "      <th>1</th>\n",
              "      <td>California</td>\n",
              "      <td>1/24/2016</td>\n",
              "      <td>3.5</td>\n",
              "      <td>3.3</td>\n",
              "      <td>NaN</td>\n",
              "      <td>5.45</td>\n",
              "      <td>3.5</td>\n",
              "      <td>NaN</td>\n",
              "      <td>NaN</td>\n",
              "      <td>NaN</td>\n",
              "      <td>NaN</td>\n",
              "      <td>NaN</td>\n",
              "      <td>2.0</td>\n",
              "      <td>3.5</td>\n",
              "      <td>2.5</td>\n",
              "      <td>2.5</td>\n",
              "      <td>2.0</td>\n",
              "      <td>4.0</td>\n",
              "      <td>3.5</td>\n",
              "      <td>2.5</td>\n",
              "      <td>5.0</td>\n",
              "      <td>NaN</td>\n",
              "      <td>NaN</td>\n",
              "      <td>x</td>\n",
              "      <td>x</td>\n",
              "      <td>x</td>\n",
              "      <td>x</td>\n",
              "      <td>x</td>\n",
              "      <td>NaN</td>\n",
              "      <td>NaN</td>\n",
              "      <td>NaN</td>\n",
              "      <td>NaN</td>\n",
              "      <td>NaN</td>\n",
              "      <td>NaN</td>\n",
              "      <td>NaN</td>\n",
              "      <td>NaN</td>\n",
              "      <td>NaN</td>\n",
              "      <td>NaN</td>\n",
              "      <td>NaN</td>\n",
              "      <td>NaN</td>\n",
              "      <td>NaN</td>\n",
              "      <td>NaN</td>\n",
              "      <td>NaN</td>\n",
              "      <td>NaN</td>\n",
              "      <td>NaN</td>\n",
              "      <td>NaN</td>\n",
              "      <td>NaN</td>\n",
              "      <td>NaN</td>\n",
              "      <td>NaN</td>\n",
              "      <td>NaN</td>\n",
              "      <td>NaN</td>\n",
              "      <td>NaN</td>\n",
              "      <td>NaN</td>\n",
              "      <td>NaN</td>\n",
              "      <td>NaN</td>\n",
              "      <td>NaN</td>\n",
              "      <td>NaN</td>\n",
              "      <td>NaN</td>\n",
              "      <td>False</td>\n",
              "    </tr>\n",
              "    <tr>\n",
              "      <th>2</th>\n",
              "      <td>Carnitas</td>\n",
              "      <td>1/24/2016</td>\n",
              "      <td>NaN</td>\n",
              "      <td>NaN</td>\n",
              "      <td>NaN</td>\n",
              "      <td>4.85</td>\n",
              "      <td>1.5</td>\n",
              "      <td>NaN</td>\n",
              "      <td>NaN</td>\n",
              "      <td>NaN</td>\n",
              "      <td>NaN</td>\n",
              "      <td>NaN</td>\n",
              "      <td>3.0</td>\n",
              "      <td>2.0</td>\n",
              "      <td>2.5</td>\n",
              "      <td>3.0</td>\n",
              "      <td>4.5</td>\n",
              "      <td>4.0</td>\n",
              "      <td>3.0</td>\n",
              "      <td>3.0</td>\n",
              "      <td>5.0</td>\n",
              "      <td>NaN</td>\n",
              "      <td>NaN</td>\n",
              "      <td>NaN</td>\n",
              "      <td>x</td>\n",
              "      <td>x</td>\n",
              "      <td>NaN</td>\n",
              "      <td>NaN</td>\n",
              "      <td>NaN</td>\n",
              "      <td>x</td>\n",
              "      <td>NaN</td>\n",
              "      <td>NaN</td>\n",
              "      <td>NaN</td>\n",
              "      <td>NaN</td>\n",
              "      <td>NaN</td>\n",
              "      <td>NaN</td>\n",
              "      <td>NaN</td>\n",
              "      <td>NaN</td>\n",
              "      <td>NaN</td>\n",
              "      <td>NaN</td>\n",
              "      <td>NaN</td>\n",
              "      <td>NaN</td>\n",
              "      <td>NaN</td>\n",
              "      <td>NaN</td>\n",
              "      <td>NaN</td>\n",
              "      <td>NaN</td>\n",
              "      <td>NaN</td>\n",
              "      <td>NaN</td>\n",
              "      <td>NaN</td>\n",
              "      <td>NaN</td>\n",
              "      <td>NaN</td>\n",
              "      <td>NaN</td>\n",
              "      <td>NaN</td>\n",
              "      <td>NaN</td>\n",
              "      <td>NaN</td>\n",
              "      <td>NaN</td>\n",
              "      <td>NaN</td>\n",
              "      <td>NaN</td>\n",
              "      <td>False</td>\n",
              "    </tr>\n",
              "    <tr>\n",
              "      <th>3</th>\n",
              "      <td>Asada</td>\n",
              "      <td>1/24/2016</td>\n",
              "      <td>NaN</td>\n",
              "      <td>NaN</td>\n",
              "      <td>NaN</td>\n",
              "      <td>5.25</td>\n",
              "      <td>2.0</td>\n",
              "      <td>NaN</td>\n",
              "      <td>NaN</td>\n",
              "      <td>NaN</td>\n",
              "      <td>NaN</td>\n",
              "      <td>NaN</td>\n",
              "      <td>3.0</td>\n",
              "      <td>2.0</td>\n",
              "      <td>3.5</td>\n",
              "      <td>3.0</td>\n",
              "      <td>4.0</td>\n",
              "      <td>5.0</td>\n",
              "      <td>4.0</td>\n",
              "      <td>4.0</td>\n",
              "      <td>5.0</td>\n",
              "      <td>NaN</td>\n",
              "      <td>NaN</td>\n",
              "      <td>x</td>\n",
              "      <td>x</td>\n",
              "      <td>x</td>\n",
              "      <td>NaN</td>\n",
              "      <td>NaN</td>\n",
              "      <td>NaN</td>\n",
              "      <td>NaN</td>\n",
              "      <td>NaN</td>\n",
              "      <td>NaN</td>\n",
              "      <td>NaN</td>\n",
              "      <td>NaN</td>\n",
              "      <td>NaN</td>\n",
              "      <td>NaN</td>\n",
              "      <td>NaN</td>\n",
              "      <td>NaN</td>\n",
              "      <td>NaN</td>\n",
              "      <td>NaN</td>\n",
              "      <td>NaN</td>\n",
              "      <td>NaN</td>\n",
              "      <td>NaN</td>\n",
              "      <td>NaN</td>\n",
              "      <td>NaN</td>\n",
              "      <td>NaN</td>\n",
              "      <td>NaN</td>\n",
              "      <td>NaN</td>\n",
              "      <td>NaN</td>\n",
              "      <td>NaN</td>\n",
              "      <td>NaN</td>\n",
              "      <td>NaN</td>\n",
              "      <td>NaN</td>\n",
              "      <td>NaN</td>\n",
              "      <td>NaN</td>\n",
              "      <td>NaN</td>\n",
              "      <td>NaN</td>\n",
              "      <td>NaN</td>\n",
              "      <td>False</td>\n",
              "    </tr>\n",
              "    <tr>\n",
              "      <th>4</th>\n",
              "      <td>California</td>\n",
              "      <td>1/27/2016</td>\n",
              "      <td>4.0</td>\n",
              "      <td>3.8</td>\n",
              "      <td>x</td>\n",
              "      <td>6.59</td>\n",
              "      <td>4.0</td>\n",
              "      <td>NaN</td>\n",
              "      <td>NaN</td>\n",
              "      <td>NaN</td>\n",
              "      <td>NaN</td>\n",
              "      <td>NaN</td>\n",
              "      <td>4.0</td>\n",
              "      <td>5.0</td>\n",
              "      <td>4.0</td>\n",
              "      <td>3.5</td>\n",
              "      <td>4.5</td>\n",
              "      <td>5.0</td>\n",
              "      <td>2.5</td>\n",
              "      <td>4.5</td>\n",
              "      <td>4.0</td>\n",
              "      <td>NaN</td>\n",
              "      <td>NaN</td>\n",
              "      <td>x</td>\n",
              "      <td>x</td>\n",
              "      <td>NaN</td>\n",
              "      <td>x</td>\n",
              "      <td>x</td>\n",
              "      <td>NaN</td>\n",
              "      <td>NaN</td>\n",
              "      <td>NaN</td>\n",
              "      <td>NaN</td>\n",
              "      <td>NaN</td>\n",
              "      <td>NaN</td>\n",
              "      <td>NaN</td>\n",
              "      <td>NaN</td>\n",
              "      <td>NaN</td>\n",
              "      <td>NaN</td>\n",
              "      <td>NaN</td>\n",
              "      <td>NaN</td>\n",
              "      <td>NaN</td>\n",
              "      <td>NaN</td>\n",
              "      <td>NaN</td>\n",
              "      <td>NaN</td>\n",
              "      <td>NaN</td>\n",
              "      <td>NaN</td>\n",
              "      <td>NaN</td>\n",
              "      <td>NaN</td>\n",
              "      <td>NaN</td>\n",
              "      <td>NaN</td>\n",
              "      <td>NaN</td>\n",
              "      <td>NaN</td>\n",
              "      <td>NaN</td>\n",
              "      <td>NaN</td>\n",
              "      <td>NaN</td>\n",
              "      <td>NaN</td>\n",
              "      <td>NaN</td>\n",
              "      <td>NaN</td>\n",
              "      <td>True</td>\n",
              "    </tr>\n",
              "  </tbody>\n",
              "</table>\n",
              "</div>"
            ],
            "text/plain": [
              "      Burrito       Date  Yelp  Google Chips  ...  Sushi  Avocado  Corn  Zucchini  Great\n",
              "0  California  1/18/2016   3.5     4.2   NaN  ...    NaN      NaN   NaN       NaN  False\n",
              "1  California  1/24/2016   3.5     3.3   NaN  ...    NaN      NaN   NaN       NaN  False\n",
              "2    Carnitas  1/24/2016   NaN     NaN   NaN  ...    NaN      NaN   NaN       NaN  False\n",
              "3       Asada  1/24/2016   NaN     NaN   NaN  ...    NaN      NaN   NaN       NaN  False\n",
              "4  California  1/27/2016   4.0     3.8     x  ...    NaN      NaN   NaN       NaN   True\n",
              "\n",
              "[5 rows x 59 columns]"
            ]
          },
          "metadata": {
            "tags": []
          },
          "execution_count": 7
        }
      ]
    },
    {
      "cell_type": "code",
      "metadata": {
        "id": "XyfKtZNMdb7f",
        "colab_type": "code",
        "colab": {
          "base_uri": "https://localhost:8080/",
          "height": 1000
        },
        "outputId": "fa4544bc-b264-4525-b86a-a545e4894887"
      },
      "source": [
        "df.isnull().sum()"
      ],
      "execution_count": 8,
      "outputs": [
        {
          "output_type": "execute_result",
          "data": {
            "text/plain": [
              "Burrito             0\n",
              "Date                0\n",
              "Yelp              334\n",
              "Google            334\n",
              "Chips             395\n",
              "Cost                7\n",
              "Hunger              3\n",
              "Mass (g)          399\n",
              "Density (g/mL)    399\n",
              "Length            138\n",
              "Circum            140\n",
              "Volume            140\n",
              "Tortilla            0\n",
              "Temp               20\n",
              "Meat               14\n",
              "Fillings            3\n",
              "Meat:filling        9\n",
              "Uniformity          2\n",
              "Salsa              25\n",
              "Synergy             2\n",
              "Wrap                3\n",
              "Unreliable        388\n",
              "NonSD             414\n",
              "Beef              242\n",
              "Pico              263\n",
              "Guac              267\n",
              "Cheese            262\n",
              "Fries             294\n",
              "Sour cream        329\n",
              "Pork              370\n",
              "Chicken           400\n",
              "Shrimp            400\n",
              "Fish              415\n",
              "Rice              385\n",
              "Beans             386\n",
              "Lettuce           410\n",
              "Tomato            414\n",
              "Bell peper        414\n",
              "Carrots           420\n",
              "Cabbage           413\n",
              "Sauce             383\n",
              "Salsa.1           414\n",
              "Cilantro          406\n",
              "Onion             404\n",
              "Taquito           417\n",
              "Pineapple         414\n",
              "Ham               419\n",
              "Chile relleno     417\n",
              "Nopales           417\n",
              "Lobster           420\n",
              "Queso             421\n",
              "Egg               416\n",
              "Mushroom          418\n",
              "Bacon             418\n",
              "Sushi             419\n",
              "Avocado           408\n",
              "Corn              418\n",
              "Zucchini          420\n",
              "Great               0\n",
              "dtype: int64"
            ]
          },
          "metadata": {
            "tags": []
          },
          "execution_count": 8
        }
      ]
    },
    {
      "cell_type": "code",
      "metadata": {
        "id": "F9UGhu55wZ_A",
        "colab_type": "code",
        "colab": {}
      },
      "source": [
        "df['Date'] = pd.to_datetime(df['Date'])\n",
        "\n",
        "train = df[df['Date'].dt.year <= 2016]\n",
        "validate = df[df['Date'].dt.year == 2017]\n",
        "test = df[df['Date'].dt.year >= 2018]"
      ],
      "execution_count": 0,
      "outputs": []
    },
    {
      "cell_type": "code",
      "metadata": {
        "id": "Dw9J-XyEwon4",
        "colab_type": "code",
        "outputId": "98c7cc0c-16c0-45bb-ce0f-3b3e6e7317e5",
        "colab": {
          "base_uri": "https://localhost:8080/",
          "height": 35
        }
      },
      "source": [
        "train.shape, validate.shape, test.shape"
      ],
      "execution_count": 10,
      "outputs": [
        {
          "output_type": "execute_result",
          "data": {
            "text/plain": [
              "((298, 59), (85, 59), (38, 59))"
            ]
          },
          "metadata": {
            "tags": []
          },
          "execution_count": 10
        }
      ]
    },
    {
      "cell_type": "code",
      "metadata": {
        "id": "Glt0EaZx0wtI",
        "colab_type": "code",
        "outputId": "6f3b9c86-30a7-44cf-9c5d-502a1abf03ca",
        "colab": {
          "base_uri": "https://localhost:8080/",
          "height": 70
        }
      },
      "source": [
        "target = 'Great'\n",
        "y_train = train[target]\n",
        "y_train.value_counts(normalize=True)"
      ],
      "execution_count": 11,
      "outputs": [
        {
          "output_type": "execute_result",
          "data": {
            "text/plain": [
              "False    0.590604\n",
              "True     0.409396\n",
              "Name: Great, dtype: float64"
            ]
          },
          "metadata": {
            "tags": []
          },
          "execution_count": 11
        }
      ]
    },
    {
      "cell_type": "code",
      "metadata": {
        "id": "Xo7O8PzE2ei5",
        "colab_type": "code",
        "colab": {}
      },
      "source": [
        "#baseline predictions\n",
        "majority_class = y_train.mode()[0]\n",
        "y_pred_train = [majority_class]*len(y_train)"
      ],
      "execution_count": 0,
      "outputs": []
    },
    {
      "cell_type": "code",
      "metadata": {
        "id": "vUwO4GWD3ZDW",
        "colab_type": "code",
        "outputId": "e28139a7-d331-4430-fe72-3f3e818355ca",
        "colab": {
          "base_uri": "https://localhost:8080/",
          "height": 35
        }
      },
      "source": [
        "#baseline predictions\n",
        "from sklearn.metrics import accuracy_score\n",
        "accuracy_score(y_train, y_pred_train)"
      ],
      "execution_count": 13,
      "outputs": [
        {
          "output_type": "execute_result",
          "data": {
            "text/plain": [
              "0.5906040268456376"
            ]
          },
          "metadata": {
            "tags": []
          },
          "execution_count": 13
        }
      ]
    },
    {
      "cell_type": "code",
      "metadata": {
        "id": "AyGdoHYD5JR8",
        "colab_type": "code",
        "outputId": "7c07cf8c-bb11-4809-bef8-a742587d9489",
        "colab": {
          "base_uri": "https://localhost:8080/",
          "height": 35
        }
      },
      "source": [
        "y_validate = validate[target]\n",
        "y_pred_val = [majority_class]*len(y_validate)\n",
        "accuracy_score(y_validate, y_pred_val)"
      ],
      "execution_count": 26,
      "outputs": [
        {
          "output_type": "execute_result",
          "data": {
            "text/plain": [
              "0.5529411764705883"
            ]
          },
          "metadata": {
            "tags": []
          },
          "execution_count": 26
        }
      ]
    },
    {
      "cell_type": "code",
      "metadata": {
        "id": "EJBkEF627qdp",
        "colab_type": "code",
        "outputId": "34507777-fe12-4efa-da71-5f2640bf1366",
        "colab": {
          "base_uri": "https://localhost:8080/",
          "height": 374
        }
      },
      "source": [
        "train.describe(exclude='number')"
      ],
      "execution_count": 27,
      "outputs": [
        {
          "output_type": "execute_result",
          "data": {
            "text/html": [
              "<div>\n",
              "<style scoped>\n",
              "    .dataframe tbody tr th:only-of-type {\n",
              "        vertical-align: middle;\n",
              "    }\n",
              "\n",
              "    .dataframe tbody tr th {\n",
              "        vertical-align: top;\n",
              "    }\n",
              "\n",
              "    .dataframe thead th {\n",
              "        text-align: right;\n",
              "    }\n",
              "</style>\n",
              "<table border=\"1\" class=\"dataframe\">\n",
              "  <thead>\n",
              "    <tr style=\"text-align: right;\">\n",
              "      <th></th>\n",
              "      <th>Burrito</th>\n",
              "      <th>Date</th>\n",
              "      <th>Chips</th>\n",
              "      <th>Unreliable</th>\n",
              "      <th>NonSD</th>\n",
              "      <th>Beef</th>\n",
              "      <th>Pico</th>\n",
              "      <th>Guac</th>\n",
              "      <th>Cheese</th>\n",
              "      <th>Fries</th>\n",
              "      <th>Sour cream</th>\n",
              "      <th>Pork</th>\n",
              "      <th>Chicken</th>\n",
              "      <th>Shrimp</th>\n",
              "      <th>Fish</th>\n",
              "      <th>Rice</th>\n",
              "      <th>Beans</th>\n",
              "      <th>Lettuce</th>\n",
              "      <th>Tomato</th>\n",
              "      <th>Bell peper</th>\n",
              "      <th>Carrots</th>\n",
              "      <th>Cabbage</th>\n",
              "      <th>Sauce</th>\n",
              "      <th>Salsa.1</th>\n",
              "      <th>Cilantro</th>\n",
              "      <th>Onion</th>\n",
              "      <th>Taquito</th>\n",
              "      <th>Pineapple</th>\n",
              "      <th>Ham</th>\n",
              "      <th>Chile relleno</th>\n",
              "      <th>Nopales</th>\n",
              "      <th>Lobster</th>\n",
              "      <th>Egg</th>\n",
              "      <th>Mushroom</th>\n",
              "      <th>Bacon</th>\n",
              "      <th>Sushi</th>\n",
              "      <th>Avocado</th>\n",
              "      <th>Corn</th>\n",
              "      <th>Zucchini</th>\n",
              "      <th>Great</th>\n",
              "    </tr>\n",
              "  </thead>\n",
              "  <tbody>\n",
              "    <tr>\n",
              "      <th>count</th>\n",
              "      <td>298</td>\n",
              "      <td>298</td>\n",
              "      <td>22</td>\n",
              "      <td>27</td>\n",
              "      <td>5</td>\n",
              "      <td>168</td>\n",
              "      <td>143</td>\n",
              "      <td>139</td>\n",
              "      <td>149</td>\n",
              "      <td>119</td>\n",
              "      <td>85</td>\n",
              "      <td>43</td>\n",
              "      <td>20</td>\n",
              "      <td>20</td>\n",
              "      <td>5</td>\n",
              "      <td>33</td>\n",
              "      <td>32</td>\n",
              "      <td>11</td>\n",
              "      <td>7</td>\n",
              "      <td>7</td>\n",
              "      <td>1</td>\n",
              "      <td>7</td>\n",
              "      <td>37</td>\n",
              "      <td>6</td>\n",
              "      <td>15</td>\n",
              "      <td>17</td>\n",
              "      <td>4</td>\n",
              "      <td>7</td>\n",
              "      <td>1</td>\n",
              "      <td>4</td>\n",
              "      <td>4</td>\n",
              "      <td>1</td>\n",
              "      <td>4</td>\n",
              "      <td>3</td>\n",
              "      <td>3</td>\n",
              "      <td>2</td>\n",
              "      <td>13</td>\n",
              "      <td>2</td>\n",
              "      <td>1</td>\n",
              "      <td>298</td>\n",
              "    </tr>\n",
              "    <tr>\n",
              "      <th>unique</th>\n",
              "      <td>5</td>\n",
              "      <td>110</td>\n",
              "      <td>2</td>\n",
              "      <td>1</td>\n",
              "      <td>2</td>\n",
              "      <td>2</td>\n",
              "      <td>2</td>\n",
              "      <td>2</td>\n",
              "      <td>2</td>\n",
              "      <td>2</td>\n",
              "      <td>2</td>\n",
              "      <td>2</td>\n",
              "      <td>2</td>\n",
              "      <td>2</td>\n",
              "      <td>2</td>\n",
              "      <td>2</td>\n",
              "      <td>2</td>\n",
              "      <td>2</td>\n",
              "      <td>2</td>\n",
              "      <td>2</td>\n",
              "      <td>1</td>\n",
              "      <td>2</td>\n",
              "      <td>2</td>\n",
              "      <td>2</td>\n",
              "      <td>2</td>\n",
              "      <td>2</td>\n",
              "      <td>2</td>\n",
              "      <td>2</td>\n",
              "      <td>1</td>\n",
              "      <td>1</td>\n",
              "      <td>1</td>\n",
              "      <td>1</td>\n",
              "      <td>1</td>\n",
              "      <td>1</td>\n",
              "      <td>1</td>\n",
              "      <td>1</td>\n",
              "      <td>1</td>\n",
              "      <td>2</td>\n",
              "      <td>1</td>\n",
              "      <td>2</td>\n",
              "    </tr>\n",
              "    <tr>\n",
              "      <th>top</th>\n",
              "      <td>California</td>\n",
              "      <td>2016-08-30 00:00:00</td>\n",
              "      <td>x</td>\n",
              "      <td>x</td>\n",
              "      <td>x</td>\n",
              "      <td>x</td>\n",
              "      <td>x</td>\n",
              "      <td>x</td>\n",
              "      <td>x</td>\n",
              "      <td>x</td>\n",
              "      <td>x</td>\n",
              "      <td>x</td>\n",
              "      <td>x</td>\n",
              "      <td>x</td>\n",
              "      <td>x</td>\n",
              "      <td>x</td>\n",
              "      <td>x</td>\n",
              "      <td>x</td>\n",
              "      <td>x</td>\n",
              "      <td>x</td>\n",
              "      <td>x</td>\n",
              "      <td>x</td>\n",
              "      <td>x</td>\n",
              "      <td>x</td>\n",
              "      <td>x</td>\n",
              "      <td>x</td>\n",
              "      <td>x</td>\n",
              "      <td>x</td>\n",
              "      <td>x</td>\n",
              "      <td>x</td>\n",
              "      <td>x</td>\n",
              "      <td>x</td>\n",
              "      <td>x</td>\n",
              "      <td>x</td>\n",
              "      <td>x</td>\n",
              "      <td>x</td>\n",
              "      <td>x</td>\n",
              "      <td>x</td>\n",
              "      <td>x</td>\n",
              "      <td>False</td>\n",
              "    </tr>\n",
              "    <tr>\n",
              "      <th>freq</th>\n",
              "      <td>118</td>\n",
              "      <td>29</td>\n",
              "      <td>19</td>\n",
              "      <td>27</td>\n",
              "      <td>3</td>\n",
              "      <td>130</td>\n",
              "      <td>115</td>\n",
              "      <td>101</td>\n",
              "      <td>121</td>\n",
              "      <td>97</td>\n",
              "      <td>63</td>\n",
              "      <td>29</td>\n",
              "      <td>19</td>\n",
              "      <td>17</td>\n",
              "      <td>3</td>\n",
              "      <td>24</td>\n",
              "      <td>24</td>\n",
              "      <td>9</td>\n",
              "      <td>5</td>\n",
              "      <td>4</td>\n",
              "      <td>1</td>\n",
              "      <td>5</td>\n",
              "      <td>33</td>\n",
              "      <td>5</td>\n",
              "      <td>9</td>\n",
              "      <td>9</td>\n",
              "      <td>3</td>\n",
              "      <td>5</td>\n",
              "      <td>1</td>\n",
              "      <td>4</td>\n",
              "      <td>4</td>\n",
              "      <td>1</td>\n",
              "      <td>4</td>\n",
              "      <td>3</td>\n",
              "      <td>3</td>\n",
              "      <td>2</td>\n",
              "      <td>13</td>\n",
              "      <td>1</td>\n",
              "      <td>1</td>\n",
              "      <td>176</td>\n",
              "    </tr>\n",
              "    <tr>\n",
              "      <th>first</th>\n",
              "      <td>NaN</td>\n",
              "      <td>2011-05-16 00:00:00</td>\n",
              "      <td>NaN</td>\n",
              "      <td>NaN</td>\n",
              "      <td>NaN</td>\n",
              "      <td>NaN</td>\n",
              "      <td>NaN</td>\n",
              "      <td>NaN</td>\n",
              "      <td>NaN</td>\n",
              "      <td>NaN</td>\n",
              "      <td>NaN</td>\n",
              "      <td>NaN</td>\n",
              "      <td>NaN</td>\n",
              "      <td>NaN</td>\n",
              "      <td>NaN</td>\n",
              "      <td>NaN</td>\n",
              "      <td>NaN</td>\n",
              "      <td>NaN</td>\n",
              "      <td>NaN</td>\n",
              "      <td>NaN</td>\n",
              "      <td>NaN</td>\n",
              "      <td>NaN</td>\n",
              "      <td>NaN</td>\n",
              "      <td>NaN</td>\n",
              "      <td>NaN</td>\n",
              "      <td>NaN</td>\n",
              "      <td>NaN</td>\n",
              "      <td>NaN</td>\n",
              "      <td>NaN</td>\n",
              "      <td>NaN</td>\n",
              "      <td>NaN</td>\n",
              "      <td>NaN</td>\n",
              "      <td>NaN</td>\n",
              "      <td>NaN</td>\n",
              "      <td>NaN</td>\n",
              "      <td>NaN</td>\n",
              "      <td>NaN</td>\n",
              "      <td>NaN</td>\n",
              "      <td>NaN</td>\n",
              "      <td>NaN</td>\n",
              "    </tr>\n",
              "    <tr>\n",
              "      <th>last</th>\n",
              "      <td>NaN</td>\n",
              "      <td>2016-12-15 00:00:00</td>\n",
              "      <td>NaN</td>\n",
              "      <td>NaN</td>\n",
              "      <td>NaN</td>\n",
              "      <td>NaN</td>\n",
              "      <td>NaN</td>\n",
              "      <td>NaN</td>\n",
              "      <td>NaN</td>\n",
              "      <td>NaN</td>\n",
              "      <td>NaN</td>\n",
              "      <td>NaN</td>\n",
              "      <td>NaN</td>\n",
              "      <td>NaN</td>\n",
              "      <td>NaN</td>\n",
              "      <td>NaN</td>\n",
              "      <td>NaN</td>\n",
              "      <td>NaN</td>\n",
              "      <td>NaN</td>\n",
              "      <td>NaN</td>\n",
              "      <td>NaN</td>\n",
              "      <td>NaN</td>\n",
              "      <td>NaN</td>\n",
              "      <td>NaN</td>\n",
              "      <td>NaN</td>\n",
              "      <td>NaN</td>\n",
              "      <td>NaN</td>\n",
              "      <td>NaN</td>\n",
              "      <td>NaN</td>\n",
              "      <td>NaN</td>\n",
              "      <td>NaN</td>\n",
              "      <td>NaN</td>\n",
              "      <td>NaN</td>\n",
              "      <td>NaN</td>\n",
              "      <td>NaN</td>\n",
              "      <td>NaN</td>\n",
              "      <td>NaN</td>\n",
              "      <td>NaN</td>\n",
              "      <td>NaN</td>\n",
              "      <td>NaN</td>\n",
              "    </tr>\n",
              "  </tbody>\n",
              "</table>\n",
              "</div>"
            ],
            "text/plain": [
              "           Burrito                 Date Chips  ... Corn Zucchini  Great\n",
              "count          298                  298    22  ...    2        1    298\n",
              "unique           5                  110     2  ...    2        1      2\n",
              "top     California  2016-08-30 00:00:00     x  ...    x        x  False\n",
              "freq           118                   29    19  ...    1        1    176\n",
              "first          NaN  2011-05-16 00:00:00   NaN  ...  NaN      NaN    NaN\n",
              "last           NaN  2016-12-15 00:00:00   NaN  ...  NaN      NaN    NaN\n",
              "\n",
              "[6 rows x 40 columns]"
            ]
          },
          "metadata": {
            "tags": []
          },
          "execution_count": 27
        }
      ]
    },
    {
      "cell_type": "code",
      "metadata": {
        "id": "IX5Kt5K_BhIl",
        "colab_type": "code",
        "outputId": "013aafac-2590-4ffa-d5e5-7dad48e8e46d",
        "colab": {
          "base_uri": "https://localhost:8080/",
          "height": 193
        }
      },
      "source": [
        "features = ['Tortilla', 'Meat', 'Cheese', 'Guac', 'Beans', 'Salsa', 'Wrap', 'Fries', 'Avocado', 'Chile relleno']\n",
        "features"
      ],
      "execution_count": 123,
      "outputs": [
        {
          "output_type": "execute_result",
          "data": {
            "text/plain": [
              "['Tortilla',\n",
              " 'Meat',\n",
              " 'Cheese',\n",
              " 'Guac',\n",
              " 'Beans',\n",
              " 'Salsa',\n",
              " 'Wrap',\n",
              " 'Fries',\n",
              " 'Avocado',\n",
              " 'Chile relleno']"
            ]
          },
          "metadata": {
            "tags": []
          },
          "execution_count": 123
        }
      ]
    },
    {
      "cell_type": "code",
      "metadata": {
        "id": "L0tGGWsGvwUM",
        "colab_type": "code",
        "colab": {
          "base_uri": "https://localhost:8080/",
          "height": 193
        },
        "outputId": "24cd2b86-a83c-414d-d2a0-d97cb0afab21"
      },
      "source": [
        "# features = train.columns.drop([target, 'Date', 'Burrito'])\n",
        "# features"
      ],
      "execution_count": 115,
      "outputs": [
        {
          "output_type": "execute_result",
          "data": {
            "text/plain": [
              "Index(['Yelp', 'Google', 'Chips', 'Cost', 'Hunger', 'Mass (g)',\n",
              "       'Density (g/mL)', 'Length', 'Circum', 'Volume', 'Tortilla', 'Temp',\n",
              "       'Meat', 'Fillings', 'Meat:filling', 'Uniformity', 'Salsa', 'Synergy',\n",
              "       'Wrap', 'Unreliable', 'NonSD', 'Beef', 'Pico', 'Guac', 'Cheese',\n",
              "       'Fries', 'Sour cream', 'Pork', 'Chicken', 'Shrimp', 'Fish', 'Rice',\n",
              "       'Beans', 'Lettuce', 'Tomato', 'Bell peper', 'Carrots', 'Cabbage',\n",
              "       'Sauce', 'Salsa.1', 'Cilantro', 'Onion', 'Taquito', 'Pineapple', 'Ham',\n",
              "       'Chile relleno', 'Nopales', 'Lobster', 'Queso', 'Egg', 'Mushroom',\n",
              "       'Bacon', 'Sushi', 'Avocado', 'Corn', 'Zucchini'],\n",
              "      dtype='object')"
            ]
          },
          "metadata": {
            "tags": []
          },
          "execution_count": 115
        }
      ]
    },
    {
      "cell_type": "code",
      "metadata": {
        "id": "qq2VVz3cCV1a",
        "colab_type": "code",
        "colab": {}
      },
      "source": [
        "# Arrange X feature matrices (already did y target vectors)\n",
        "X_train = train[features]\n",
        "X_val = validate[features]"
      ],
      "execution_count": 0,
      "outputs": []
    },
    {
      "cell_type": "code",
      "metadata": {
        "id": "2YqzXb7ApIJv",
        "colab_type": "code",
        "colab": {
          "base_uri": "https://localhost:8080/",
          "height": 417
        },
        "outputId": "844facfd-a284-43ea-922e-d76cf60c7091"
      },
      "source": [
        "X_train"
      ],
      "execution_count": 125,
      "outputs": [
        {
          "output_type": "execute_result",
          "data": {
            "text/html": [
              "<div>\n",
              "<style scoped>\n",
              "    .dataframe tbody tr th:only-of-type {\n",
              "        vertical-align: middle;\n",
              "    }\n",
              "\n",
              "    .dataframe tbody tr th {\n",
              "        vertical-align: top;\n",
              "    }\n",
              "\n",
              "    .dataframe thead th {\n",
              "        text-align: right;\n",
              "    }\n",
              "</style>\n",
              "<table border=\"1\" class=\"dataframe\">\n",
              "  <thead>\n",
              "    <tr style=\"text-align: right;\">\n",
              "      <th></th>\n",
              "      <th>Tortilla</th>\n",
              "      <th>Meat</th>\n",
              "      <th>Cheese</th>\n",
              "      <th>Guac</th>\n",
              "      <th>Beans</th>\n",
              "      <th>Salsa</th>\n",
              "      <th>Wrap</th>\n",
              "      <th>Fries</th>\n",
              "      <th>Avocado</th>\n",
              "      <th>Chile relleno</th>\n",
              "    </tr>\n",
              "  </thead>\n",
              "  <tbody>\n",
              "    <tr>\n",
              "      <th>0</th>\n",
              "      <td>3.0</td>\n",
              "      <td>3.0</td>\n",
              "      <td>x</td>\n",
              "      <td>x</td>\n",
              "      <td>NaN</td>\n",
              "      <td>4.0</td>\n",
              "      <td>4.0</td>\n",
              "      <td>x</td>\n",
              "      <td>NaN</td>\n",
              "      <td>NaN</td>\n",
              "    </tr>\n",
              "    <tr>\n",
              "      <th>1</th>\n",
              "      <td>2.0</td>\n",
              "      <td>2.5</td>\n",
              "      <td>x</td>\n",
              "      <td>x</td>\n",
              "      <td>NaN</td>\n",
              "      <td>3.5</td>\n",
              "      <td>5.0</td>\n",
              "      <td>x</td>\n",
              "      <td>NaN</td>\n",
              "      <td>NaN</td>\n",
              "    </tr>\n",
              "    <tr>\n",
              "      <th>2</th>\n",
              "      <td>3.0</td>\n",
              "      <td>2.5</td>\n",
              "      <td>NaN</td>\n",
              "      <td>x</td>\n",
              "      <td>NaN</td>\n",
              "      <td>3.0</td>\n",
              "      <td>5.0</td>\n",
              "      <td>NaN</td>\n",
              "      <td>NaN</td>\n",
              "      <td>NaN</td>\n",
              "    </tr>\n",
              "    <tr>\n",
              "      <th>3</th>\n",
              "      <td>3.0</td>\n",
              "      <td>3.5</td>\n",
              "      <td>NaN</td>\n",
              "      <td>x</td>\n",
              "      <td>NaN</td>\n",
              "      <td>4.0</td>\n",
              "      <td>5.0</td>\n",
              "      <td>NaN</td>\n",
              "      <td>NaN</td>\n",
              "      <td>NaN</td>\n",
              "    </tr>\n",
              "    <tr>\n",
              "      <th>4</th>\n",
              "      <td>4.0</td>\n",
              "      <td>4.0</td>\n",
              "      <td>x</td>\n",
              "      <td>NaN</td>\n",
              "      <td>NaN</td>\n",
              "      <td>2.5</td>\n",
              "      <td>4.0</td>\n",
              "      <td>x</td>\n",
              "      <td>NaN</td>\n",
              "      <td>NaN</td>\n",
              "    </tr>\n",
              "    <tr>\n",
              "      <th>...</th>\n",
              "      <td>...</td>\n",
              "      <td>...</td>\n",
              "      <td>...</td>\n",
              "      <td>...</td>\n",
              "      <td>...</td>\n",
              "      <td>...</td>\n",
              "      <td>...</td>\n",
              "      <td>...</td>\n",
              "      <td>...</td>\n",
              "      <td>...</td>\n",
              "    </tr>\n",
              "    <tr>\n",
              "      <th>296</th>\n",
              "      <td>4.0</td>\n",
              "      <td>2.0</td>\n",
              "      <td>NaN</td>\n",
              "      <td>NaN</td>\n",
              "      <td>NaN</td>\n",
              "      <td>3.0</td>\n",
              "      <td>4.5</td>\n",
              "      <td>NaN</td>\n",
              "      <td>NaN</td>\n",
              "      <td>NaN</td>\n",
              "    </tr>\n",
              "    <tr>\n",
              "      <th>297</th>\n",
              "      <td>4.5</td>\n",
              "      <td>2.0</td>\n",
              "      <td>NaN</td>\n",
              "      <td>NaN</td>\n",
              "      <td>NaN</td>\n",
              "      <td>3.0</td>\n",
              "      <td>3.0</td>\n",
              "      <td>NaN</td>\n",
              "      <td>NaN</td>\n",
              "      <td>NaN</td>\n",
              "    </tr>\n",
              "    <tr>\n",
              "      <th>298</th>\n",
              "      <td>3.5</td>\n",
              "      <td>3.0</td>\n",
              "      <td>X</td>\n",
              "      <td>NaN</td>\n",
              "      <td>NaN</td>\n",
              "      <td>2.2</td>\n",
              "      <td>4.5</td>\n",
              "      <td>X</td>\n",
              "      <td>NaN</td>\n",
              "      <td>NaN</td>\n",
              "    </tr>\n",
              "    <tr>\n",
              "      <th>299</th>\n",
              "      <td>4.0</td>\n",
              "      <td>2.0</td>\n",
              "      <td>NaN</td>\n",
              "      <td>X</td>\n",
              "      <td>NaN</td>\n",
              "      <td>2.0</td>\n",
              "      <td>4.0</td>\n",
              "      <td>NaN</td>\n",
              "      <td>NaN</td>\n",
              "      <td>NaN</td>\n",
              "    </tr>\n",
              "    <tr>\n",
              "      <th>300</th>\n",
              "      <td>3.6</td>\n",
              "      <td>4.0</td>\n",
              "      <td>NaN</td>\n",
              "      <td>NaN</td>\n",
              "      <td>NaN</td>\n",
              "      <td>NaN</td>\n",
              "      <td>2.0</td>\n",
              "      <td>NaN</td>\n",
              "      <td>NaN</td>\n",
              "      <td>NaN</td>\n",
              "    </tr>\n",
              "  </tbody>\n",
              "</table>\n",
              "<p>298 rows × 10 columns</p>\n",
              "</div>"
            ],
            "text/plain": [
              "     Tortilla  Meat Cheese Guac Beans  Salsa  Wrap Fries Avocado Chile relleno\n",
              "0         3.0   3.0      x    x   NaN    4.0   4.0     x     NaN           NaN\n",
              "1         2.0   2.5      x    x   NaN    3.5   5.0     x     NaN           NaN\n",
              "2         3.0   2.5    NaN    x   NaN    3.0   5.0   NaN     NaN           NaN\n",
              "3         3.0   3.5    NaN    x   NaN    4.0   5.0   NaN     NaN           NaN\n",
              "4         4.0   4.0      x  NaN   NaN    2.5   4.0     x     NaN           NaN\n",
              "..        ...   ...    ...  ...   ...    ...   ...   ...     ...           ...\n",
              "296       4.0   2.0    NaN  NaN   NaN    3.0   4.5   NaN     NaN           NaN\n",
              "297       4.5   2.0    NaN  NaN   NaN    3.0   3.0   NaN     NaN           NaN\n",
              "298       3.5   3.0      X  NaN   NaN    2.2   4.5     X     NaN           NaN\n",
              "299       4.0   2.0    NaN    X   NaN    2.0   4.0   NaN     NaN           NaN\n",
              "300       3.6   4.0    NaN  NaN   NaN    NaN   2.0   NaN     NaN           NaN\n",
              "\n",
              "[298 rows x 10 columns]"
            ]
          },
          "metadata": {
            "tags": []
          },
          "execution_count": 125
        }
      ]
    },
    {
      "cell_type": "code",
      "metadata": {
        "id": "xq127WMIorQM",
        "colab_type": "code",
        "colab": {}
      },
      "source": [
        "import category_encoders as ce \n",
        "from sklearn.feature_selection import SelectKBest, f_regression\n",
        "from sklearn.impute import SimpleImputer\n",
        "from sklearn.preprocessing import StandardScaler\n",
        "from sklearn.linear_model import LogisticRegressionCV\n"
      ],
      "execution_count": 0,
      "outputs": []
    },
    {
      "cell_type": "code",
      "metadata": {
        "id": "y_ixO8FAh460",
        "colab_type": "code",
        "colab": {
          "base_uri": "https://localhost:8080/",
          "height": 35
        },
        "outputId": "2c727c48-7ce7-4306-c99b-7f0118edef19"
      },
      "source": [
        "encoder = ce.one_hot.OneHotEncoder(use_cat_names=True)\n",
        "X_train_enc = encoder.fit_transform(X_train)\n",
        "X_val_enc = encoder.transform(X_val)\n",
        "X_train_enc.shape, X_val_enc.shape"
      ],
      "execution_count": 127,
      "outputs": [
        {
          "output_type": "execute_result",
          "data": {
            "text/plain": [
              "((298, 20), (85, 20))"
            ]
          },
          "metadata": {
            "tags": []
          },
          "execution_count": 127
        }
      ]
    },
    {
      "cell_type": "code",
      "metadata": {
        "id": "CEmoiby-v0Pm",
        "colab_type": "code",
        "colab": {}
      },
      "source": [
        "# # prevent dividing by zero\n",
        "# np.seterr(divide='ignore', invalid='ignore')\n",
        "\n",
        "# selector = SelectKBest(score_func=f_regression, k=15)\n",
        "# X_train_kbest = selector.fit_transform(X_train_enc, y_train)\n",
        "# X_test_kbest = selector.transform(X_val_enc)"
      ],
      "execution_count": 0,
      "outputs": []
    },
    {
      "cell_type": "code",
      "metadata": {
        "id": "YT_iSAtsh5CJ",
        "colab_type": "code",
        "colab": {
          "base_uri": "https://localhost:8080/",
          "height": 35
        },
        "outputId": "6e1e0ec7-f67f-4f51-f540-dd2b30d67b71"
      },
      "source": [
        "imputer = SimpleImputer(strategy='mean')\n",
        "X_train_imputed = imputer.fit_transform(X_train_enc)\n",
        "X_val_imputed = imputer.transform(X_val_enc)\n",
        "X_train_imputed.shape, X_val_imputed.shape"
      ],
      "execution_count": 128,
      "outputs": [
        {
          "output_type": "execute_result",
          "data": {
            "text/plain": [
              "((298, 20), (85, 20))"
            ]
          },
          "metadata": {
            "tags": []
          },
          "execution_count": 128
        }
      ]
    },
    {
      "cell_type": "code",
      "metadata": {
        "id": "6i3uuKqcnWPo",
        "colab_type": "code",
        "colab": {
          "base_uri": "https://localhost:8080/",
          "height": 140
        },
        "outputId": "6e0672cd-a995-47e9-b328-b98dedf8db35"
      },
      "source": [
        "X_train_imputed"
      ],
      "execution_count": 129,
      "outputs": [
        {
          "output_type": "execute_result",
          "data": {
            "text/plain": [
              "array([[3. , 3. , 1. , ..., 0. , 1. , 0. ],\n",
              "       [2. , 2.5, 1. , ..., 0. , 1. , 0. ],\n",
              "       [3. , 2.5, 0. , ..., 0. , 1. , 0. ],\n",
              "       ...,\n",
              "       [3.5, 3. , 0. , ..., 0. , 1. , 0. ],\n",
              "       [4. , 2. , 0. , ..., 0. , 1. , 0. ],\n",
              "       [3.6, 4. , 0. , ..., 0. , 1. , 0. ]])"
            ]
          },
          "metadata": {
            "tags": []
          },
          "execution_count": 129
        }
      ]
    },
    {
      "cell_type": "code",
      "metadata": {
        "id": "rlPd9qtCh49p",
        "colab_type": "code",
        "colab": {}
      },
      "source": [
        "X_train_imp = pd.DataFrame(X_train_imputed, columns=X_train_enc.columns)\n",
        "X_val_imp = pd.DataFrame(X_val_imputed, columns = X_val_enc.columns)"
      ],
      "execution_count": 0,
      "outputs": []
    },
    {
      "cell_type": "code",
      "metadata": {
        "id": "15Rq8pI-h44T",
        "colab_type": "code",
        "colab": {
          "base_uri": "https://localhost:8080/",
          "height": 240
        },
        "outputId": "ab2403af-2cb1-4e1b-c365-37228f507e7a"
      },
      "source": [
        "X_val_imp.head()"
      ],
      "execution_count": 131,
      "outputs": [
        {
          "output_type": "execute_result",
          "data": {
            "text/html": [
              "<div>\n",
              "<style scoped>\n",
              "    .dataframe tbody tr th:only-of-type {\n",
              "        vertical-align: middle;\n",
              "    }\n",
              "\n",
              "    .dataframe tbody tr th {\n",
              "        vertical-align: top;\n",
              "    }\n",
              "\n",
              "    .dataframe thead th {\n",
              "        text-align: right;\n",
              "    }\n",
              "</style>\n",
              "<table border=\"1\" class=\"dataframe\">\n",
              "  <thead>\n",
              "    <tr style=\"text-align: right;\">\n",
              "      <th></th>\n",
              "      <th>Tortilla</th>\n",
              "      <th>Meat</th>\n",
              "      <th>Cheese_x</th>\n",
              "      <th>Cheese_nan</th>\n",
              "      <th>Cheese_X</th>\n",
              "      <th>Guac_x</th>\n",
              "      <th>Guac_nan</th>\n",
              "      <th>Guac_X</th>\n",
              "      <th>Beans_nan</th>\n",
              "      <th>Beans_x</th>\n",
              "      <th>Beans_X</th>\n",
              "      <th>Salsa</th>\n",
              "      <th>Wrap</th>\n",
              "      <th>Fries_x</th>\n",
              "      <th>Fries_nan</th>\n",
              "      <th>Fries_X</th>\n",
              "      <th>Avocado_nan</th>\n",
              "      <th>Avocado_x</th>\n",
              "      <th>Chile relleno_nan</th>\n",
              "      <th>Chile relleno_x</th>\n",
              "    </tr>\n",
              "  </thead>\n",
              "  <tbody>\n",
              "    <tr>\n",
              "      <th>0</th>\n",
              "      <td>4.0</td>\n",
              "      <td>4.000000</td>\n",
              "      <td>0.0</td>\n",
              "      <td>1.0</td>\n",
              "      <td>0.0</td>\n",
              "      <td>0.0</td>\n",
              "      <td>1.0</td>\n",
              "      <td>0.0</td>\n",
              "      <td>1.0</td>\n",
              "      <td>0.0</td>\n",
              "      <td>0.0</td>\n",
              "      <td>1.5</td>\n",
              "      <td>4.5</td>\n",
              "      <td>0.0</td>\n",
              "      <td>1.0</td>\n",
              "      <td>0.0</td>\n",
              "      <td>1.0</td>\n",
              "      <td>0.0</td>\n",
              "      <td>1.0</td>\n",
              "      <td>0.0</td>\n",
              "    </tr>\n",
              "    <tr>\n",
              "      <th>1</th>\n",
              "      <td>4.0</td>\n",
              "      <td>3.551215</td>\n",
              "      <td>0.0</td>\n",
              "      <td>1.0</td>\n",
              "      <td>0.0</td>\n",
              "      <td>0.0</td>\n",
              "      <td>1.0</td>\n",
              "      <td>0.0</td>\n",
              "      <td>1.0</td>\n",
              "      <td>0.0</td>\n",
              "      <td>0.0</td>\n",
              "      <td>4.2</td>\n",
              "      <td>5.0</td>\n",
              "      <td>0.0</td>\n",
              "      <td>1.0</td>\n",
              "      <td>0.0</td>\n",
              "      <td>1.0</td>\n",
              "      <td>0.0</td>\n",
              "      <td>1.0</td>\n",
              "      <td>0.0</td>\n",
              "    </tr>\n",
              "    <tr>\n",
              "      <th>2</th>\n",
              "      <td>3.0</td>\n",
              "      <td>4.100000</td>\n",
              "      <td>0.0</td>\n",
              "      <td>1.0</td>\n",
              "      <td>0.0</td>\n",
              "      <td>0.0</td>\n",
              "      <td>1.0</td>\n",
              "      <td>0.0</td>\n",
              "      <td>1.0</td>\n",
              "      <td>0.0</td>\n",
              "      <td>0.0</td>\n",
              "      <td>4.3</td>\n",
              "      <td>5.0</td>\n",
              "      <td>0.0</td>\n",
              "      <td>1.0</td>\n",
              "      <td>0.0</td>\n",
              "      <td>1.0</td>\n",
              "      <td>0.0</td>\n",
              "      <td>1.0</td>\n",
              "      <td>0.0</td>\n",
              "    </tr>\n",
              "    <tr>\n",
              "      <th>3</th>\n",
              "      <td>3.5</td>\n",
              "      <td>4.000000</td>\n",
              "      <td>0.0</td>\n",
              "      <td>1.0</td>\n",
              "      <td>0.0</td>\n",
              "      <td>0.0</td>\n",
              "      <td>1.0</td>\n",
              "      <td>0.0</td>\n",
              "      <td>1.0</td>\n",
              "      <td>0.0</td>\n",
              "      <td>0.0</td>\n",
              "      <td>4.0</td>\n",
              "      <td>4.8</td>\n",
              "      <td>0.0</td>\n",
              "      <td>1.0</td>\n",
              "      <td>0.0</td>\n",
              "      <td>1.0</td>\n",
              "      <td>0.0</td>\n",
              "      <td>1.0</td>\n",
              "      <td>0.0</td>\n",
              "    </tr>\n",
              "    <tr>\n",
              "      <th>4</th>\n",
              "      <td>2.5</td>\n",
              "      <td>3.000000</td>\n",
              "      <td>0.0</td>\n",
              "      <td>1.0</td>\n",
              "      <td>0.0</td>\n",
              "      <td>0.0</td>\n",
              "      <td>1.0</td>\n",
              "      <td>0.0</td>\n",
              "      <td>1.0</td>\n",
              "      <td>0.0</td>\n",
              "      <td>0.0</td>\n",
              "      <td>2.0</td>\n",
              "      <td>4.0</td>\n",
              "      <td>0.0</td>\n",
              "      <td>1.0</td>\n",
              "      <td>0.0</td>\n",
              "      <td>1.0</td>\n",
              "      <td>0.0</td>\n",
              "      <td>1.0</td>\n",
              "      <td>0.0</td>\n",
              "    </tr>\n",
              "  </tbody>\n",
              "</table>\n",
              "</div>"
            ],
            "text/plain": [
              "   Tortilla      Meat  Cheese_x  ...  Avocado_x  Chile relleno_nan  Chile relleno_x\n",
              "0       4.0  4.000000       0.0  ...        0.0                1.0              0.0\n",
              "1       4.0  3.551215       0.0  ...        0.0                1.0              0.0\n",
              "2       3.0  4.100000       0.0  ...        0.0                1.0              0.0\n",
              "3       3.5  4.000000       0.0  ...        0.0                1.0              0.0\n",
              "4       2.5  3.000000       0.0  ...        0.0                1.0              0.0\n",
              "\n",
              "[5 rows x 20 columns]"
            ]
          },
          "metadata": {
            "tags": []
          },
          "execution_count": 131
        }
      ]
    },
    {
      "cell_type": "code",
      "metadata": {
        "id": "j--SVkYIr9u7",
        "colab_type": "code",
        "colab": {}
      },
      "source": [
        "scaler = StandardScaler()\n",
        "X_train_sc = scaler.fit_transform(X_train_imp)\n",
        "X_val_sc = scaler.transform(X_val_imp)"
      ],
      "execution_count": 0,
      "outputs": []
    },
    {
      "cell_type": "code",
      "metadata": {
        "id": "X40nZ8-4r9xS",
        "colab_type": "code",
        "colab": {}
      },
      "source": [
        "X_train_sc = pd.DataFrame(X_train_sc, columns=X_train_enc.columns)\n",
        "X_val_sc = pd.DataFrame(X_val_sc, columns = X_val_enc.columns)"
      ],
      "execution_count": 0,
      "outputs": []
    },
    {
      "cell_type": "code",
      "metadata": {
        "id": "BvQcsosrr9zi",
        "colab_type": "code",
        "colab": {
          "base_uri": "https://localhost:8080/",
          "height": 105
        },
        "outputId": "175fea5d-e45e-4b97-ee83-1467b764135f"
      },
      "source": [
        "model = LogisticRegressionCV()\n",
        "model.fit(X_train_sc, y_train)"
      ],
      "execution_count": 134,
      "outputs": [
        {
          "output_type": "execute_result",
          "data": {
            "text/plain": [
              "LogisticRegressionCV(Cs=10, class_weight=None, cv=None, dual=False,\n",
              "                     fit_intercept=True, intercept_scaling=1.0, l1_ratios=None,\n",
              "                     max_iter=100, multi_class='auto', n_jobs=None,\n",
              "                     penalty='l2', random_state=None, refit=True, scoring=None,\n",
              "                     solver='lbfgs', tol=0.0001, verbose=0)"
            ]
          },
          "metadata": {
            "tags": []
          },
          "execution_count": 134
        }
      ]
    },
    {
      "cell_type": "code",
      "metadata": {
        "id": "2ZFAto07r926",
        "colab_type": "code",
        "colab": {
          "base_uri": "https://localhost:8080/",
          "height": 35
        },
        "outputId": "9cf2214b-4523-418c-cdb7-6e4cf6099a84"
      },
      "source": [
        "print(f'Validation score: {model.score(X_val_sc, y_validate)}')"
      ],
      "execution_count": 135,
      "outputs": [
        {
          "output_type": "stream",
          "text": [
            "Validation score: 0.7529411764705882\n"
          ],
          "name": "stdout"
        }
      ]
    },
    {
      "cell_type": "code",
      "metadata": {
        "id": "JL02WuV9r-B-",
        "colab_type": "code",
        "colab": {
          "base_uri": "https://localhost:8080/",
          "height": 387
        },
        "outputId": "8d5a1c34-c21f-448d-a6fe-dafc09676785"
      },
      "source": [
        "coefs = pd.Series(model.coef_[0], X_train_sc.columns)\n",
        "coefs"
      ],
      "execution_count": 136,
      "outputs": [
        {
          "output_type": "execute_result",
          "data": {
            "text/plain": [
              "Tortilla             0.492019\n",
              "Meat                 0.896253\n",
              "Cheese_x             0.022474\n",
              "Cheese_nan           0.038242\n",
              "Cheese_X            -0.103359\n",
              "Guac_x               0.092623\n",
              "Guac_nan             0.002437\n",
              "Guac_X              -0.135087\n",
              "Beans_nan            0.143437\n",
              "Beans_x             -0.148383\n",
              "Beans_X             -0.024931\n",
              "Salsa                0.466966\n",
              "Wrap                 0.090086\n",
              "Fries_x              0.044730\n",
              "Fries_nan           -0.002054\n",
              "Fries_X             -0.076304\n",
              "Avocado_nan          0.170384\n",
              "Avocado_x           -0.170384\n",
              "Chile relleno_nan   -0.090499\n",
              "Chile relleno_x      0.090499\n",
              "dtype: float64"
            ]
          },
          "metadata": {
            "tags": []
          },
          "execution_count": 136
        }
      ]
    },
    {
      "cell_type": "code",
      "metadata": {
        "id": "xxeBIYdGr-FU",
        "colab_type": "code",
        "colab": {
          "base_uri": "https://localhost:8080/",
          "height": 265
        },
        "outputId": "b17f7ad5-4ac0-4f3c-cfe3-a87048548961"
      },
      "source": [
        "coefs.sort_values().plot.barh();"
      ],
      "execution_count": 137,
      "outputs": [
        {
          "output_type": "display_data",
          "data": {
            "image/png": "[encoded data removed]",
            "text/plain": [
              "<Figure size 432x288 with 1 Axes>"
            ]
          },
          "metadata": {
            "tags": []
          }
        }
      ]
    },
    {
      "cell_type": "code",
      "metadata": {
        "id": "qeR11izyEjeS",
        "colab_type": "code",
        "colab": {
          "base_uri": "https://localhost:8080/",
          "height": 1000
        },
        "outputId": "beed4f10-f500-4fa1-ba74-291e389bc2c9"
      },
      "source": [
        "X_test = test[features]\n",
        "X_test_enc = encoder.transform(X_test)\n",
        "X_test_imputed = imputer.transform(X_test_enc)\n",
        "X_test_scaled = scaler.transform(X_test_imputed)\n",
        "X_test_scaled"
      ],
      "execution_count": 138,
      "outputs": [
        {
          "output_type": "execute_result",
          "data": {
            "text/plain": [
              "array([[ 1.29062863e+00,  1.69789203e+00,  1.20946679e+00,\n",
              "        -1.00000000e+00, -3.22030594e-01,  1.39660125e+00,\n",
              "        -1.06952555e+00, -3.82300727e-01,  3.46843988e-01,\n",
              "        -2.95958174e-01, -1.66090960e-01, -3.46697110e-01,\n",
              "         8.99678662e-01,  1.43950163e+00, -1.22645900e+00,\n",
              "        -2.82329851e-01,  2.13574425e-01, -2.13574425e-01,\n",
              "         1.16642369e-01, -1.16642369e-01],\n",
              "       [ 6.62698293e-01,  5.25949777e-01, -8.26810631e-01,\n",
              "         1.00000000e+00, -3.22030594e-01, -7.16023991e-01,\n",
              "         9.34994030e-01, -3.82300727e-01,  3.46843988e-01,\n",
              "        -2.95958174e-01, -1.66090960e-01, -3.46697110e-01,\n",
              "         8.99678662e-01, -6.94684867e-01,  8.15355425e-01,\n",
              "        -2.82329851e-01,  2.13574425e-01, -2.13574425e-01,\n",
              "         1.16642369e-01, -1.16642369e-01],\n",
              "       [-5.93162383e-01, -1.81793472e+00,  1.20946679e+00,\n",
              "        -1.00000000e+00, -3.22030594e-01, -7.16023991e-01,\n",
              "         9.34994030e-01, -3.82300727e-01, -2.88314065e+00,\n",
              "         3.37885582e+00, -1.66090960e-01,  7.21245234e-01,\n",
              "         3.86864734e-02, -6.94684867e-01,  8.15355425e-01,\n",
              "        -2.82329851e-01,  2.13574425e-01, -2.13574425e-01,\n",
              "         1.16642369e-01, -1.16642369e-01],\n",
              "       [ 1.91855897e+00,  1.69789203e+00, -8.26810631e-01,\n",
              "         1.00000000e+00, -3.22030594e-01, -7.16023991e-01,\n",
              "         9.34994030e-01, -3.82300727e-01,  3.46843988e-01,\n",
              "        -2.95958174e-01, -1.66090960e-01,  7.21245234e-01,\n",
              "         8.99678662e-01, -6.94684867e-01,  8.15355425e-01,\n",
              "        -2.82329851e-01,  2.13574425e-01, -2.13574425e-01,\n",
              "         1.16642369e-01, -1.16642369e-01],\n",
              "       [ 6.62698293e-01, -6.45992473e-01, -8.26810631e-01,\n",
              "         1.00000000e+00, -3.22030594e-01, -7.16023991e-01,\n",
              "         9.34994030e-01, -3.82300727e-01,  3.46843988e-01,\n",
              "        -2.95958174e-01, -1.66090960e-01, -3.46697110e-01,\n",
              "        -2.54429009e+00, -6.94684867e-01,  8.15355425e-01,\n",
              "        -2.82329851e-01,  2.13574425e-01, -2.13574425e-01,\n",
              "         1.16642369e-01, -1.16642369e-01],\n",
              "       [ 6.62698293e-01,  5.25949777e-01, -8.26810631e-01,\n",
              "         1.00000000e+00, -3.22030594e-01,  1.39660125e+00,\n",
              "        -1.06952555e+00, -3.82300727e-01,  3.46843988e-01,\n",
              "        -2.95958174e-01, -1.66090960e-01,  7.21245234e-01,\n",
              "         3.86864734e-02, -6.94684867e-01,  8.15355425e-01,\n",
              "        -2.82329851e-01,  2.13574425e-01, -2.13574425e-01,\n",
              "         1.16642369e-01, -1.16642369e-01],\n",
              "       [ 3.47679550e-02,  8.77532452e-01, -8.26810631e-01,\n",
              "         1.00000000e+00, -3.22030594e-01,  1.39660125e+00,\n",
              "        -1.06952555e+00, -3.82300727e-01,  3.46843988e-01,\n",
              "        -2.95958174e-01, -1.66090960e-01, -3.46697110e-01,\n",
              "        -1.68329790e+00, -6.94684867e-01,  8.15355425e-01,\n",
              "        -2.82329851e-01,  2.13574425e-01, -2.13574425e-01,\n",
              "         1.16642369e-01, -1.16642369e-01],\n",
              "       [ 6.62698293e-01,  1.69789203e+00, -8.26810631e-01,\n",
              "         1.00000000e+00, -3.22030594e-01,  1.39660125e+00,\n",
              "        -1.06952555e+00, -3.82300727e-01,  3.46843988e-01,\n",
              "        -2.95958174e-01, -1.66090960e-01,  7.21245234e-01,\n",
              "         3.86864734e-02, -6.94684867e-01,  8.15355425e-01,\n",
              "        -2.82329851e-01,  2.13574425e-01, -2.13574425e-01,\n",
              "         1.16642369e-01, -1.16642369e-01],\n",
              "       [-1.84902306e+00,  1.11192090e+00, -8.26810631e-01,\n",
              "         1.00000000e+00, -3.22030594e-01,  1.39660125e+00,\n",
              "        -1.06952555e+00, -3.82300727e-01,  3.46843988e-01,\n",
              "        -2.95958174e-01, -1.66090960e-01, -3.46697110e-01,\n",
              "        -1.68329790e+00, -6.94684867e-01,  8.15355425e-01,\n",
              "        -2.82329851e-01,  2.13574425e-01, -2.13574425e-01,\n",
              "         1.16642369e-01, -1.16642369e-01],\n",
              "       [ 1.29062863e+00,  5.25949777e-01,  1.20946679e+00,\n",
              "        -1.00000000e+00, -3.22030594e-01,  1.39660125e+00,\n",
              "        -1.06952555e+00, -3.82300727e-01,  3.46843988e-01,\n",
              "        -2.95958174e-01, -1.66090960e-01,  1.87274062e-01,\n",
              "        -8.22305716e-01,  1.43950163e+00, -1.22645900e+00,\n",
              "        -2.82329851e-01,  2.13574425e-01, -2.13574425e-01,\n",
              "         1.16642369e-01, -1.16642369e-01],\n",
              "       [ 1.29062863e+00, -6.00213478e-02,  1.20946679e+00,\n",
              "        -1.00000000e+00, -3.22030594e-01,  1.39660125e+00,\n",
              "        -1.06952555e+00, -3.82300727e-01,  3.46843988e-01,\n",
              "        -2.95958174e-01, -1.66090960e-01,  0.00000000e+00,\n",
              "        -2.11379400e+00,  1.43950163e+00, -1.22645900e+00,\n",
              "        -2.82329851e-01,  2.13574425e-01, -2.13574425e-01,\n",
              "         1.16642369e-01, -1.16642369e-01],\n",
              "       [ 6.62698293e-01, -6.00213478e-02, -8.26810631e-01,\n",
              "         1.00000000e+00, -3.22030594e-01, -7.16023991e-01,\n",
              "         9.34994030e-01, -3.82300727e-01, -2.88314065e+00,\n",
              "         3.37885582e+00, -1.66090960e-01, -3.46697110e-01,\n",
              "        -1.25280181e+00, -6.94684867e-01,  8.15355425e-01,\n",
              "        -2.82329851e-01,  2.13574425e-01, -2.13574425e-01,\n",
              "         1.16642369e-01, -1.16642369e-01],\n",
              "       [ 6.62698293e-01, -6.00213478e-02,  1.20946679e+00,\n",
              "        -1.00000000e+00, -3.22030594e-01,  1.39660125e+00,\n",
              "        -1.06952555e+00, -3.82300727e-01, -2.88314065e+00,\n",
              "         3.37885582e+00, -1.66090960e-01, -3.46697110e-01,\n",
              "         4.69182568e-01, -6.94684867e-01,  8.15355425e-01,\n",
              "        -2.82329851e-01,  2.13574425e-01, -2.13574425e-01,\n",
              "         1.16642369e-01, -1.16642369e-01],\n",
              "       [-1.84902306e+00,  1.11192090e+00, -8.26810631e-01,\n",
              "         1.00000000e+00, -3.22030594e-01, -7.16023991e-01,\n",
              "         9.34994030e-01, -3.82300727e-01,  3.46843988e-01,\n",
              "        -2.95958174e-01, -1.66090960e-01, -8.80668281e-01,\n",
              "        -2.11379400e+00, -6.94684867e-01,  8.15355425e-01,\n",
              "        -2.82329851e-01,  2.13574425e-01, -2.13574425e-01,\n",
              "         1.16642369e-01, -1.16642369e-01],\n",
              "       [ 6.62698293e-01, -6.00213478e-02, -8.26810631e-01,\n",
              "         1.00000000e+00, -3.22030594e-01, -7.16023991e-01,\n",
              "         9.34994030e-01, -3.82300727e-01,  3.46843988e-01,\n",
              "        -2.95958174e-01, -1.66090960e-01,  7.21245234e-01,\n",
              "        -3.91809621e-01, -6.94684867e-01,  8.15355425e-01,\n",
              "        -2.82329851e-01,  2.13574425e-01, -2.13574425e-01,\n",
              "         1.16642369e-01, -1.16642369e-01],\n",
              "       [ 4.11526158e-01,  5.25949777e-01, -8.26810631e-01,\n",
              "         1.00000000e+00, -3.22030594e-01, -7.16023991e-01,\n",
              "         9.34994030e-01, -3.82300727e-01,  3.46843988e-01,\n",
              "        -2.95958174e-01, -1.66090960e-01,  1.04162794e+00,\n",
              "         8.99678662e-01, -6.94684867e-01,  8.15355425e-01,\n",
              "        -2.82329851e-01,  2.13574425e-01, -2.13574425e-01,\n",
              "         1.16642369e-01, -1.16642369e-01],\n",
              "       [ 3.47679550e-02,  2.91561327e-01, -8.26810631e-01,\n",
              "         1.00000000e+00, -3.22030594e-01, -7.16023991e-01,\n",
              "         9.34994030e-01, -3.82300727e-01,  3.46843988e-01,\n",
              "        -2.95958174e-01, -1.66090960e-01,  1.25521641e+00,\n",
              "         8.99678662e-01, -6.94684867e-01,  8.15355425e-01,\n",
              "        -2.82329851e-01,  2.13574425e-01, -2.13574425e-01,\n",
              "         1.16642369e-01, -1.16642369e-01],\n",
              "       [ 3.47679550e-02, -6.45992473e-01, -8.26810631e-01,\n",
              "         1.00000000e+00, -3.22030594e-01, -7.16023991e-01,\n",
              "         9.34994030e-01, -3.82300727e-01,  3.46843988e-01,\n",
              "        -2.95958174e-01, -1.66090960e-01,  1.25521641e+00,\n",
              "         3.86864734e-02, -6.94684867e-01,  8.15355425e-01,\n",
              "        -2.82329851e-01,  2.13574425e-01, -2.13574425e-01,\n",
              "         1.16642369e-01, -1.16642369e-01],\n",
              "       [-5.93162383e-01, -6.00213478e-02, -8.26810631e-01,\n",
              "         1.00000000e+00, -3.22030594e-01, -7.16023991e-01,\n",
              "         9.34994030e-01, -3.82300727e-01,  3.46843988e-01,\n",
              "        -2.95958174e-01, -1.66090960e-01,  7.21245234e-01,\n",
              "         8.99678662e-01, -6.94684867e-01,  8.15355425e-01,\n",
              "        -2.82329851e-01,  2.13574425e-01, -2.13574425e-01,\n",
              "         1.16642369e-01, -1.16642369e-01],\n",
              "       [ 3.47679550e-02, -4.11604023e-01, -8.26810631e-01,\n",
              "         1.00000000e+00, -3.22030594e-01, -7.16023991e-01,\n",
              "         9.34994030e-01, -3.82300727e-01,  3.46843988e-01,\n",
              "        -2.95958174e-01, -1.66090960e-01, -3.46697110e-01,\n",
              "         4.69182568e-01, -6.94684867e-01,  8.15355425e-01,\n",
              "        -2.82329851e-01,  2.13574425e-01, -2.13574425e-01,\n",
              "         1.16642369e-01, -1.16642369e-01],\n",
              "       [-1.22109272e+00,  5.25949777e-01, -8.26810631e-01,\n",
              "         1.00000000e+00, -3.22030594e-01, -7.16023991e-01,\n",
              "         9.34994030e-01, -3.82300727e-01,  3.46843988e-01,\n",
              "        -2.95958174e-01, -1.66090960e-01, -2.63144067e-02,\n",
              "         3.86864734e-02, -6.94684867e-01,  8.15355425e-01,\n",
              "        -2.82329851e-01,  2.13574425e-01, -2.13574425e-01,\n",
              "         1.16642369e-01, -1.16642369e-01],\n",
              "       [ 6.62698293e-01,  1.11192090e+00, -8.26810631e-01,\n",
              "         1.00000000e+00, -3.22030594e-01, -7.16023991e-01,\n",
              "         9.34994030e-01, -3.82300727e-01,  3.46843988e-01,\n",
              "        -2.95958174e-01, -1.66090960e-01,  7.21245234e-01,\n",
              "         0.00000000e+00, -6.94684867e-01,  8.15355425e-01,\n",
              "        -2.82329851e-01,  2.13574425e-01, -2.13574425e-01,\n",
              "         1.16642369e-01, -1.16642369e-01],\n",
              "       [ 6.62698293e-01, -6.45992473e-01, -8.26810631e-01,\n",
              "         1.00000000e+00, -3.22030594e-01, -7.16023991e-01,\n",
              "         9.34994030e-01, -3.82300727e-01,  3.46843988e-01,\n",
              "        -2.95958174e-01, -1.66090960e-01,  0.00000000e+00,\n",
              "         4.69182568e-01, -6.94684867e-01,  8.15355425e-01,\n",
              "        -2.82329851e-01,  2.13574425e-01, -2.13574425e-01,\n",
              "         1.16642369e-01, -1.16642369e-01],\n",
              "       [ 1.91855897e+00, -6.45992473e-01, -8.26810631e-01,\n",
              "         1.00000000e+00, -3.22030594e-01, -7.16023991e-01,\n",
              "         9.34994030e-01, -3.82300727e-01,  3.46843988e-01,\n",
              "        -2.95958174e-01, -1.66090960e-01, -1.41463945e+00,\n",
              "        -8.22305716e-01, -6.94684867e-01,  8.15355425e-01,\n",
              "        -2.82329851e-01,  2.13574425e-01, -2.13574425e-01,\n",
              "         1.16642369e-01, -1.16642369e-01],\n",
              "       [ 1.91855897e+00,  5.25949777e-01, -8.26810631e-01,\n",
              "         1.00000000e+00, -3.22030594e-01, -7.16023991e-01,\n",
              "         9.34994030e-01, -3.82300727e-01,  3.46843988e-01,\n",
              "        -2.95958174e-01, -1.66090960e-01,  7.21245234e-01,\n",
              "         8.99678662e-01, -6.94684867e-01,  8.15355425e-01,\n",
              "        -2.82329851e-01,  2.13574425e-01, -2.13574425e-01,\n",
              "         1.16642369e-01, -1.16642369e-01],\n",
              "       [ 3.47679550e-02,  5.25949777e-01, -8.26810631e-01,\n",
              "         1.00000000e+00, -3.22030594e-01, -7.16023991e-01,\n",
              "         9.34994030e-01, -3.82300727e-01,  3.46843988e-01,\n",
              "        -2.95958174e-01, -1.66090960e-01,  1.87274062e-01,\n",
              "         3.86864734e-02, -6.94684867e-01,  8.15355425e-01,\n",
              "        -2.82329851e-01,  2.13574425e-01, -2.13574425e-01,\n",
              "         1.16642369e-01, -1.16642369e-01],\n",
              "       [-5.93162383e-01, -5.20446908e-16, -8.26810631e-01,\n",
              "         1.00000000e+00, -3.22030594e-01, -7.16023991e-01,\n",
              "         9.34994030e-01, -3.82300727e-01,  3.46843988e-01,\n",
              "        -2.95958174e-01, -1.66090960e-01,  0.00000000e+00,\n",
              "         3.86864734e-02, -6.94684867e-01,  8.15355425e-01,\n",
              "        -2.82329851e-01,  2.13574425e-01, -2.13574425e-01,\n",
              "         1.16642369e-01, -1.16642369e-01],\n",
              "       [ 1.91855897e+00,  1.69789203e+00, -8.26810631e-01,\n",
              "         1.00000000e+00, -3.22030594e-01, -7.16023991e-01,\n",
              "         9.34994030e-01, -3.82300727e-01,  3.46843988e-01,\n",
              "        -2.95958174e-01, -1.66090960e-01,  1.78918758e+00,\n",
              "         8.99678662e-01, -6.94684867e-01,  8.15355425e-01,\n",
              "        -2.82329851e-01,  2.13574425e-01, -2.13574425e-01,\n",
              "         1.16642369e-01, -1.16642369e-01],\n",
              "       [ 6.62698293e-01, -6.00213478e-02, -8.26810631e-01,\n",
              "         1.00000000e+00, -3.22030594e-01, -7.16023991e-01,\n",
              "         9.34994030e-01, -3.82300727e-01,  3.46843988e-01,\n",
              "        -2.95958174e-01, -1.66090960e-01,  1.46880487e+00,\n",
              "         8.99678662e-01, -6.94684867e-01,  8.15355425e-01,\n",
              "        -2.82329851e-01,  2.13574425e-01, -2.13574425e-01,\n",
              "         1.16642369e-01, -1.16642369e-01],\n",
              "       [ 1.29062863e+00,  1.69789203e+00, -8.26810631e-01,\n",
              "         1.00000000e+00, -3.22030594e-01, -7.16023991e-01,\n",
              "         9.34994030e-01, -3.82300727e-01,  3.46843988e-01,\n",
              "        -2.95958174e-01, -1.66090960e-01,  7.21245234e-01,\n",
              "         4.69182568e-01, -6.94684867e-01,  8.15355425e-01,\n",
              "        -2.82329851e-01,  2.13574425e-01, -2.13574425e-01,\n",
              "         1.16642369e-01, -1.16642369e-01],\n",
              "       [-5.93162383e-01,  5.25949777e-01, -8.26810631e-01,\n",
              "         1.00000000e+00, -3.22030594e-01, -7.16023991e-01,\n",
              "         9.34994030e-01, -3.82300727e-01,  3.46843988e-01,\n",
              "        -2.95958174e-01, -1.66090960e-01, -3.46697110e-01,\n",
              "         8.99678662e-01, -6.94684867e-01,  8.15355425e-01,\n",
              "        -2.82329851e-01,  2.13574425e-01, -2.13574425e-01,\n",
              "         1.16642369e-01, -1.16642369e-01],\n",
              "       [ 6.62698293e-01,  1.11192090e+00, -8.26810631e-01,\n",
              "         1.00000000e+00, -3.22030594e-01, -7.16023991e-01,\n",
              "         9.34994030e-01, -3.82300727e-01,  3.46843988e-01,\n",
              "        -2.95958174e-01, -1.66090960e-01,  1.25521641e+00,\n",
              "         4.69182568e-01, -6.94684867e-01,  8.15355425e-01,\n",
              "        -2.82329851e-01,  2.13574425e-01, -2.13574425e-01,\n",
              "         1.16642369e-01, -1.16642369e-01],\n",
              "       [ 1.29062863e+00,  5.25949777e-01, -8.26810631e-01,\n",
              "         1.00000000e+00, -3.22030594e-01, -7.16023991e-01,\n",
              "         9.34994030e-01, -3.82300727e-01,  3.46843988e-01,\n",
              "        -2.95958174e-01, -1.66090960e-01,  7.21245234e-01,\n",
              "         8.99678662e-01, -6.94684867e-01,  8.15355425e-01,\n",
              "        -2.82329851e-01,  2.13574425e-01, -2.13574425e-01,\n",
              "         1.16642369e-01, -1.16642369e-01],\n",
              "       [ 1.91855897e+00, -6.00213478e-02, -8.26810631e-01,\n",
              "         1.00000000e+00, -3.22030594e-01, -7.16023991e-01,\n",
              "         9.34994030e-01, -3.82300727e-01,  3.46843988e-01,\n",
              "        -2.95958174e-01, -1.66090960e-01, -1.41463945e+00,\n",
              "         8.99678662e-01, -6.94684867e-01,  8.15355425e-01,\n",
              "        -2.82329851e-01,  2.13574425e-01, -2.13574425e-01,\n",
              "         1.16642369e-01, -1.16642369e-01],\n",
              "       [ 6.62698293e-01, -5.20446908e-16, -8.26810631e-01,\n",
              "         1.00000000e+00, -3.22030594e-01, -7.16023991e-01,\n",
              "         9.34994030e-01, -3.82300727e-01,  3.46843988e-01,\n",
              "        -2.95958174e-01, -1.66090960e-01,  1.78918758e+00,\n",
              "        -8.22305716e-01, -6.94684867e-01,  8.15355425e-01,\n",
              "        -2.82329851e-01,  2.13574425e-01, -2.13574425e-01,\n",
              "         1.16642369e-01, -1.16642369e-01],\n",
              "       [ 6.62698293e-01,  5.25949777e-01, -8.26810631e-01,\n",
              "         1.00000000e+00, -3.22030594e-01, -7.16023991e-01,\n",
              "         9.34994030e-01, -3.82300727e-01,  3.46843988e-01,\n",
              "        -2.95958174e-01, -1.66090960e-01,  1.87274062e-01,\n",
              "         4.69182568e-01, -6.94684867e-01,  8.15355425e-01,\n",
              "        -2.82329851e-01,  2.13574425e-01, -2.13574425e-01,\n",
              "         1.16642369e-01, -1.16642369e-01],\n",
              "       [ 1.91855897e+00,  1.69789203e+00, -8.26810631e-01,\n",
              "         1.00000000e+00, -3.22030594e-01, -7.16023991e-01,\n",
              "         9.34994030e-01, -3.82300727e-01,  3.46843988e-01,\n",
              "        -2.95958174e-01, -1.66090960e-01,  1.78918758e+00,\n",
              "        -1.68329790e+00, -6.94684867e-01,  8.15355425e-01,\n",
              "        -2.82329851e-01,  2.13574425e-01, -2.13574425e-01,\n",
              "         1.16642369e-01, -1.16642369e-01],\n",
              "       [-5.93162383e-01,  8.77532452e-01, -8.26810631e-01,\n",
              "         1.00000000e+00, -3.22030594e-01, -7.16023991e-01,\n",
              "         9.34994030e-01, -3.82300727e-01,  3.46843988e-01,\n",
              "        -2.95958174e-01, -1.66090960e-01, -3.46697110e-01,\n",
              "         3.86864734e-02, -6.94684867e-01,  8.15355425e-01,\n",
              "        -2.82329851e-01,  2.13574425e-01, -2.13574425e-01,\n",
              "         1.16642369e-01, -1.16642369e-01]])"
            ]
          },
          "metadata": {
            "tags": []
          },
          "execution_count": 138
        }
      ]
    },
    {
      "cell_type": "code",
      "metadata": {
        "id": "_sjMWErvs7HN",
        "colab_type": "code",
        "colab": {
          "base_uri": "https://localhost:8080/",
          "height": 105
        },
        "outputId": "8c6d9c4e-e677-4606-b0a2-d51e9de35dcc"
      },
      "source": [
        "y_pred = model.predict(X_test_scaled)\n",
        "y_pred"
      ],
      "execution_count": 158,
      "outputs": [
        {
          "output_type": "execute_result",
          "data": {
            "text/plain": [
              "array([ True,  True, False,  True, False,  True,  True,  True, False,\n",
              "        True,  True, False, False, False,  True,  True,  True, False,\n",
              "       False, False, False,  True, False, False,  True,  True, False,\n",
              "        True,  True,  True, False,  True,  True, False,  True,  True,\n",
              "        True, False])"
            ]
          },
          "metadata": {
            "tags": []
          },
          "execution_count": 158
        }
      ]
    },
    {
      "cell_type": "code",
      "metadata": {
        "id": "eQfn2mS0iHBB",
        "colab_type": "code",
        "colab": {}
      },
      "source": [
        ""
      ],
      "execution_count": 0,
      "outputs": []
    }
  ]
}