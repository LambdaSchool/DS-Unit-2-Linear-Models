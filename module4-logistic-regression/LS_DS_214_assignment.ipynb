{
 "cells": [
  {
   "cell_type": "markdown",
   "metadata": {},
   "source": [
    "Lambda School Data Science\n",
    "\n",
    "*Unit 2, Sprint 1, Module 4*\n",
    "\n",
    "---"
   ]
  },
  {
   "cell_type": "markdown",
   "metadata": {
    "colab_type": "text",
    "id": "7IXUfiQ2UKj6"
   },
   "source": [
    "# Logistic Regression\n",
    "\n",
    "\n",
    "## Assignment 🌯\n",
    "\n",
    "You'll use a [**dataset of 400+ burrito reviews**](https://srcole.github.io/100burritos/). How accurately can you predict whether a burrito is rated 'Great'?\n",
    "\n",
    "> We have developed a 10-dimensional system for rating the burritos in San Diego. ... Generate models for what makes a burrito great and investigate correlations in its dimensions.\n",
    "\n",
    "- [X] Do train/validate/test split. Train on reviews from 2016 & earlier. Validate on 2017. Test on 2018 & later.\n",
    "- [ ] Begin with baselines for classification.\n",
    "- [ ] Use scikit-learn for logistic regression.\n",
    "- [ ] Get your model's validation accuracy. (Multiple times if you try multiple iterations.)\n",
    "- [ ] Get your model's test accuracy. (One time, at the end.)\n",
    "- [ ] Commit your notebook to your fork of the GitHub repo.\n",
    "\n",
    "\n",
    "## Stretch Goals\n",
    "\n",
    "- [ ] Add your own stretch goal(s) !\n",
    "- [ ] Make exploratory visualizations.\n",
    "- [ ] Do one-hot encoding.\n",
    "- [ ] Do [feature scaling](https://scikit-learn.org/stable/modules/preprocessing.html).\n",
    "- [ ] Get and plot your coefficients.\n",
    "- [ ] Try [scikit-learn pipelines](https://scikit-learn.org/stable/modules/compose.html)."
   ]
  },
  {
   "cell_type": "code",
   "execution_count": 219,
   "metadata": {
    "colab": {},
    "colab_type": "code",
    "id": "o9eSnDYhUGD7"
   },
   "outputs": [],
   "source": [
    "%%capture\n",
    "import sys\n",
    "\n",
    "# If you're on Colab:\n",
    "if 'google.colab' in sys.modules:\n",
    "    DATA_PATH = 'https://raw.githubusercontent.com/LambdaSchool/DS-Unit-2-Linear-Models/master/data/'\n",
    "    !pip install category_encoders==2.*\n",
    "\n",
    "# If you're working locally:\n",
    "else:\n",
    "    DATA_PATH = '../data/'"
   ]
  },
  {
   "cell_type": "code",
   "execution_count": 220,
   "metadata": {},
   "outputs": [],
   "source": [
    "# Load data downloaded from https://srcole.github.io/100burritos/\n",
    "import pandas as pd\n",
    "df = pd.read_csv(DATA_PATH+'burritos/burritos.csv')"
   ]
  },
  {
   "cell_type": "code",
   "execution_count": 221,
   "metadata": {},
   "outputs": [],
   "source": [
    "# Derive binary classification target:\n",
    "# We define a 'Great' burrito as having an\n",
    "# overall rating of 4 or higher, on a 5 point scale.\n",
    "# Drop unrated burritos.\n",
    "df = df.dropna(subset=['overall'])\n",
    "df['Great'] = df['overall'] >= 4"
   ]
  },
  {
   "cell_type": "code",
   "execution_count": 222,
   "metadata": {},
   "outputs": [],
   "source": [
    "# Clean/combine the Burrito categories\n",
    "df['Burrito'] = df['Burrito'].str.lower()\n",
    "\n",
    "california = df['Burrito'].str.contains('california')\n",
    "asada = df['Burrito'].str.contains('asada')\n",
    "surf = df['Burrito'].str.contains('surf')\n",
    "carnitas = df['Burrito'].str.contains('carnitas')\n",
    "\n",
    "df.loc[california, 'Burrito'] = 'California'\n",
    "df.loc[asada, 'Burrito'] = 'Asada'\n",
    "df.loc[surf, 'Burrito'] = 'Surf & Turf'\n",
    "df.loc[carnitas, 'Burrito'] = 'Carnitas'\n",
    "df.loc[~california & ~asada & ~surf & ~carnitas, 'Burrito'] = 'Other'"
   ]
  },
  {
   "cell_type": "code",
   "execution_count": 223,
   "metadata": {},
   "outputs": [],
   "source": [
    "# Drop some high cardinality categoricals\n",
    "df = df.drop(columns=['Notes', 'Location', 'Reviewer', 'Address', 'URL', 'Neighborhood'])"
   ]
  },
  {
   "cell_type": "code",
   "execution_count": 224,
   "metadata": {},
   "outputs": [],
   "source": [
    "# Drop some columns to prevent \"leakage\"\n",
    "df = df.drop(columns=['Rec', 'overall'])"
   ]
  },
  {
   "cell_type": "code",
   "execution_count": 227,
   "metadata": {},
   "outputs": [],
   "source": [
    "df= df.drop(columns=['Mass (g)','Density (g/mL)','Queso'])"
   ]
  },
  {
   "cell_type": "markdown",
   "metadata": {},
   "source": [
    "# Train, Validate, Test Split\n",
    "\n"
   ]
  },
  {
   "cell_type": "code",
   "execution_count": 228,
   "metadata": {},
   "outputs": [
    {
     "data": {
      "text/plain": [
       "((298, 56), (85, 56), (38, 56))"
      ]
     },
     "execution_count": 228,
     "metadata": {},
     "output_type": "execute_result"
    }
   ],
   "source": [
    "# Convert to Datetime object\n",
    "df['Date'] = pd.to_datetime(df['Date'])\n",
    "\n",
    "# Split Data By Year\n",
    "train = df[df['Date'].dt.year < 2017]\n",
    "val = df[df['Date'].dt.year == 2017]\n",
    "test = df[df['Date'].dt.year > 2017]\n",
    "\n",
    "train.shape, val.shape, test.shape"
   ]
  },
  {
   "cell_type": "markdown",
   "metadata": {},
   "source": [
    "# Majority Classifier"
   ]
  },
  {
   "cell_type": "code",
   "execution_count": 229,
   "metadata": {},
   "outputs": [
    {
     "name": "stdout",
     "output_type": "stream",
     "text": [
      "Predicting False for every observation would result in 59% overall correct predictions\n"
     ]
    },
    {
     "data": {
      "text/plain": [
       "False    0.590604\n",
       "True     0.409396\n",
       "Name: Great, dtype: float64"
      ]
     },
     "execution_count": 229,
     "metadata": {},
     "output_type": "execute_result"
    }
   ],
   "source": [
    "print('Predicting False for every observation would result in 59% overall correct predictions')\n",
    "train['Great'].value_counts(normalize=True)\n"
   ]
  },
  {
   "cell_type": "markdown",
   "metadata": {},
   "source": [
    "# Logistic Regression"
   ]
  },
  {
   "cell_type": "code",
   "execution_count": 308,
   "metadata": {},
   "outputs": [],
   "source": [
    "import category_encoders as ce\n",
    "from sklearn.feature_selection import SelectKBest\n",
    "from sklearn.linear_model import LogisticRegression\n",
    "from sklearn.preprocessing import StandardScaler\n",
    "from sklearn.impute import SimpleImputer \n",
    "from sklearn.metrics import accuracy_score\n",
    "\n",
    "import matplotlib.pyplot as plt"
   ]
  },
  {
   "cell_type": "code",
   "execution_count": 231,
   "metadata": {},
   "outputs": [],
   "source": [
    "target = 'Great'\n",
    "features = train.columns.drop([target,'Date'])\n",
    "\n",
    "X_train = train[features]\n",
    "y_train = train[target]\n",
    "X_val = val[features]\n",
    "y_val = val[target]\n",
    "X_test = test[features]\n",
    "y_true = test[target]"
   ]
  },
  {
   "cell_type": "code",
   "execution_count": 232,
   "metadata": {},
   "outputs": [],
   "source": [
    "# Instantiate Encoder\n",
    "\n",
    "encoder = ce.OneHotEncoder(use_cat_names=True)\n",
    "X_train_encoded = encoder.fit_transform(X_train)\n",
    "X_val_encoded = encoder.transform(X_val)\n",
    "X_test_encoded = encoder.transform(X_test)"
   ]
  },
  {
   "cell_type": "code",
   "execution_count": 233,
   "metadata": {},
   "outputs": [],
   "source": [
    "# Instantiate Imputer\n",
    "\n",
    "imputer = SimpleImputer(strategy = 'mean')\n",
    "X_train_imputed = imputer.fit_transform(X_train_encoded)\n",
    "X_val_imputed = imputer.transform(X_val_encoded)\n",
    "X_test_imputed = imputer.transform(X_test_encoded)\n",
    "\n"
   ]
  },
  {
   "cell_type": "code",
   "execution_count": 234,
   "metadata": {},
   "outputs": [],
   "source": [
    "# Instantiate Scaler\n",
    "scaler = StandardScaler()\n",
    "X_train_scaled = scaler.fit_transform(X_train_imputed)\n",
    "X_val_scaled = scaler.transform(X_val_imputed)\n",
    "X_test_scaled = scaler.transform(X_test_imputed)"
   ]
  },
  {
   "cell_type": "code",
   "execution_count": 339,
   "metadata": {},
   "outputs": [
    {
     "name": "stdout",
     "output_type": "stream",
     "text": [
      "A Basic Logistic Regression Model results in accuracy of 0.7411764705882353 when validating\n",
      "A Basic Logistic Regression Model results in accuracy of 0.7894736842105263 in testing\n",
      "These Models consist of 72 features\n"
     ]
    }
   ],
   "source": [
    "scores = []\n",
    "feats = []\n",
    "for k in range(1,120):\n",
    "    selector = SelectKBest(k=k)\n",
    "    X_train_selected = selector.fit_transform(X_train_scaled, y_train)\n",
    "    X_val_selected = selector.transform(X_val_scaled)\n",
    "    \n",
    "  \n",
    "    model = LogisticRegression()\n",
    "    model.fit(X_train_selected,y_train)\n",
    "    y_pred = model.predict(X_val_selected)  \n",
    "    s = accuracy_score(y_val,y_pred)\n",
    "    feat = k\n",
    "    scores.append(s)\n",
    "    feats.append(feat) \n",
    "   \n",
    "# Dataframe of lists\n",
    "lowest_error = pd.DataFrame(scores,feats,columns=['score'])['score'].reset_index().nsmallest(1,columns=['score'])\n",
    "lowest_error = lowest_error.reset_index(drop=True)\n",
    "feat_nums = lowest_error.iloc[0,0]\n",
    "\n",
    "\n",
    "selector = SelectKBest(k=feat_nums)\n",
    "X_train_selected = selector.fit_transform(X_train_scaled, y_train)\n",
    "X_val_selected = selector.transform(X_val_scaled)\n",
    "X_test_selected = selector.transform(X_test_scaled)\n",
    "\n",
    "# Fit Model\n",
    "model = LogisticRegression()\n",
    "model.fit(X_train_selected,y_train)\n",
    "\n",
    "# Validation\n",
    "y_pred = model.predict(X_val_selected)\n",
    "score =  accuracy_score(y_val,y_pred)\n",
    "print(f'A Basic Logistic Regression Model results in accuracy of {score} when validating')\n",
    "\n",
    "#Final Prediction\n",
    "y_pred = model.predict(X_test_selected)\n",
    "score = accuracy_score(y_true,y_pred)\n",
    "print(f'A Basic Logistic Regression Model results in accuracy of {score} in testing')\n",
    "print(f'These Models consist of {feat_nums} features')\n",
    "\n",
    "\n",
    "colnames = X_train_encoded.columns\n",
    "selected_mask = selector.get_support()\n",
    "col_sel = colnames[selected_mask]\n",
    "col_unsel = colnames[~selected_mask]\n",
    "\n",
    "feats = col_sel.to_list()\n",
    "coef = model.coef_[0]\n",
    "\n",
    "coefs = pd.DataFrame(coef,feats,columns=['coefs'])\n",
    "coefs = coefs.reset_index()\n",
    "coefs.columns = ['Feature','Coefficients']\n",
    "coefs = coefs.sort_values(by='Coefficients',ascending=False)\n",
    "coefs = coefs.reset_index()\n",
    "plots1 = coefs.iloc[0:10,1]\n",
    "plots2 = coefs.iloc[0:10,2]\n",
    "\n",
    "plots3 = coefs.iloc[-10:-1,1]\n",
    "plots4 = coefs.iloc[-10:-1,2]"
   ]
  },
  {
   "cell_type": "code",
   "execution_count": 343,
   "metadata": {},
   "outputs": [
    {
     "data": {
      "image/png": "[encoded data removed]",
      "text/plain": [
       "<Figure size 432x288 with 1 Axes>"
      ]
     },
     "metadata": {
      "needs_background": "light"
     },
     "output_type": "display_data"
    }
   ],
   "source": [
    "plt.barh(plots1,plots2)\n",
    "plt.title('Largest Contributors to a Great Burrito')\n",
    "plt.xlabel('Coefficients')\n",
    "plt.ylabel('Feature')\n",
    "plt.show()"
   ]
  },
  {
   "cell_type": "code",
   "execution_count": 344,
   "metadata": {},
   "outputs": [
    {
     "data": {
      "image/png": "[encoded data removed]",
      "text/plain": [
       "<Figure size 432x288 with 1 Axes>"
      ]
     },
     "metadata": {
      "needs_background": "light"
     },
     "output_type": "display_data"
    }
   ],
   "source": [
    "plt.barh(plots3,plots4)\n",
    "plt.title('Largest Contributors to a not Great Burrito')\n",
    "plt.xlabel('Coefficients')\n",
    "plt.ylabel('Feature')\n",
    "plt.show()"
   ]
  },
  {
   "cell_type": "code",
   "execution_count": null,
   "metadata": {},
   "outputs": [],
   "source": []
  }
 ],
 "metadata": {
  "kernelspec": {
   "display_name": "Python 3",
   "language": "python",
   "name": "python3"
  },
  "language_info": {
   "codemirror_mode": {
    "name": "ipython",
    "version": 3
   },
   "file_extension": ".py",
   "mimetype": "text/x-python",
   "name": "python",
   "nbconvert_exporter": "python",
   "pygments_lexer": "ipython3",
   "version": "3.7.6"
  }
 },
 "nbformat": 4,
 "nbformat_minor": 4
}
