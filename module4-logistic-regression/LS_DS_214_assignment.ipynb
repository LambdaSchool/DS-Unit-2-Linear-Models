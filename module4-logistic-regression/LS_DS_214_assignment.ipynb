{
 "cells": [
  {
   "cell_type": "markdown",
   "metadata": {},
   "source": [
    "Lambda School Data Science\n",
    "\n",
    "*Unit 2, Sprint 1, Module 4*\n",
    "\n",
    "---"
   ]
  },
  {
   "cell_type": "markdown",
   "metadata": {
    "colab_type": "text",
    "id": "7IXUfiQ2UKj6"
   },
   "source": [
    "# Logistic Regression\n",
    "\n",
    "\n",
    "## Assignment 🌯\n",
    "\n",
    "You'll use a [**dataset of 400+ burrito reviews**](https://srcole.github.io/100burritos/). How accurately can you predict whether a burrito is rated 'Great'?\n",
    "\n",
    "> We have developed a 10-dimensional system for rating the burritos in San Diego. ... Generate models for what makes a burrito great and investigate correlations in its dimensions.\n",
    "\n",
    "- [ ] Do train/validate/test split. Train on reviews from 2016 & earlier. Validate on 2017. Test on 2018 & later.\n",
    "- [ ] Begin with baselines for classification.\n",
    "- [ ] Use scikit-learn for logistic regression.\n",
    "- [ ] Get your model's validation accuracy. (Multiple times if you try multiple iterations.)\n",
    "- [ ] Get your model's test accuracy. (One time, at the end.)\n",
    "- [ ] Commit your notebook to your fork of the GitHub repo.\n",
    "\n",
    "\n",
    "## Stretch Goals\n",
    "\n",
    "- [ ] Add your own stretch goal(s) !\n",
    "- [ ] Make exploratory visualizations.\n",
    "- [ ] Do one-hot encoding.\n",
    "- [ ] Do [feature scaling](https://scikit-learn.org/stable/modules/preprocessing.html).\n",
    "- [ ] Get and plot your coefficients.\n",
    "- [ ] Try [scikit-learn pipelines](https://scikit-learn.org/stable/modules/compose.html)."
   ]
  },
  {
   "cell_type": "code",
   "execution_count": 492,
   "metadata": {
    "colab": {},
    "colab_type": "code",
    "id": "o9eSnDYhUGD7"
   },
   "outputs": [],
   "source": [
    "%%capture\n",
    "import sys\n",
    "\n",
    "# If you're on Colab:\n",
    "if 'google.colab' in sys.modules:\n",
    "    DATA_PATH = 'https://raw.githubusercontent.com/LambdaSchool/DS-Unit-2-Linear-Models/master/data/'\n",
    "    !pip install category_encoders==2.*\n",
    "\n",
    "# If you're working locally:\n",
    "else:\n",
    "    DATA_PATH = '../data/'\n",
    "    import warnings\n",
    "warnings.filterwarnings(action='ignore', category=FutureWarning)"
   ]
  },
  {
   "cell_type": "code",
   "execution_count": 493,
   "metadata": {},
   "outputs": [],
   "source": [
    "# Load data downloaded from https://srcole.github.io/100burritos/\n",
    "import pandas as pd\n",
    "df = pd.read_csv(DATA_PATH+'burritos/burritos.csv')"
   ]
  },
  {
   "cell_type": "code",
   "execution_count": 494,
   "metadata": {},
   "outputs": [],
   "source": [
    "# Derive binary classification target:\n",
    "# We define a 'Great' burrito as having an\n",
    "# overall rating of 4 or higher, on a 5 point scale.\n",
    "# Drop unrated burritos.\n",
    "df = df.dropna(subset=['overall'])\n",
    "df['Great'] = df['overall'] >= 4"
   ]
  },
  {
   "cell_type": "code",
   "execution_count": 495,
   "metadata": {},
   "outputs": [],
   "source": [
    "# Clean/combine the Burrito categories\n",
    "df['Burrito'] = df['Burrito'].str.lower()\n",
    "\n",
    "california = df['Burrito'].str.contains('california')\n",
    "asada = df['Burrito'].str.contains('asada')\n",
    "surf = df['Burrito'].str.contains('surf')\n",
    "carnitas = df['Burrito'].str.contains('carnitas')\n",
    "\n",
    "df.loc[california, 'Burrito'] = 'California'\n",
    "df.loc[asada, 'Burrito'] = 'Asada'\n",
    "df.loc[surf, 'Burrito'] = 'Surf & Turf'\n",
    "df.loc[carnitas, 'Burrito'] = 'Carnitas'\n",
    "df.loc[~california & ~asada & ~surf & ~carnitas, 'Burrito'] = 'Other'"
   ]
  },
  {
   "cell_type": "code",
   "execution_count": 496,
   "metadata": {},
   "outputs": [],
   "source": [
    "# Drop some high cardinality categoricals\n",
    "df = df.drop(columns=['Notes', 'Location', 'Reviewer', 'Address', 'URL', 'Neighborhood'])"
   ]
  },
  {
   "cell_type": "code",
   "execution_count": 497,
   "metadata": {},
   "outputs": [],
   "source": [
    "# Drop some columns to prevent \"leakage\"\n",
    "df = df.drop(columns=['Rec', 'overall'])"
   ]
  },
  {
   "cell_type": "markdown",
   "metadata": {},
   "source": [
    " Do train/validate/test split. Train on reviews from 2016 & earlier. Validate on 2017. Test on 2018 & later.\n",
    " Use scikit-learn for logistic regression."
   ]
  },
  {
   "cell_type": "code",
   "execution_count": 498,
   "metadata": {},
   "outputs": [
    {
     "name": "stdout",
     "output_type": "stream",
     "text": [
      "0.4323040380047506 43% are rated great, or true\n",
      "thus the majority class baseline , is False, or not great, frequency of 58%\n",
      "Thus we will choose FALSE as our baseline by this method\n"
     ]
    },
    {
     "data": {
      "text/plain": [
       "0.5676959619952494"
      ]
     },
     "execution_count": 498,
     "metadata": {},
     "output_type": "execute_result"
    }
   ],
   "source": [
    "# Begin with baselines for classification.\n",
    "df.Great.sum()/ df.Great.shape[0]\n",
    "baseline = 1- df.Great.sum()/ df.Great.shape[0]\n",
    "print(df.Great.sum()/ df.Great.shape[0],'43% are rated great, or true')\n",
    "print('thus the majority class baseline , is False, or not great, frequency of 58%')\n",
    "print('Thus we will choose FALSE as our baseline by this method')\n",
    "\n",
    "baseline"
   ]
  },
  {
   "cell_type": "code",
   "execution_count": 499,
   "metadata": {},
   "outputs": [],
   "source": [
    "#3way split\n",
    "\n",
    "df['Date'] = pd.to_datetime(df['Date'], infer_datetime_format=True)\n",
    "lb = pd.to_datetime('2016-12-31')\n",
    "hp = pd.to_datetime('2018-01-01')\n",
    "\n",
    "train = df[df.Date <= lb]\n",
    "val  = df[df.Date.between(lb,hp, inclusive=False) ]\n",
    "test = df[df.Date >= hp]\n"
   ]
  },
  {
   "cell_type": "code",
   "execution_count": 500,
   "metadata": {},
   "outputs": [],
   "source": [
    "#clean up features: \n",
    "\n",
    "nnancols=df.columns[df.isnull().sum() < 300]     #all cols with not oto many nans\n",
    "numcols = df.describe(include='number').columns  #all numeric cols\n",
    "\n",
    "numcols = numcols.intersection(nnancols)         #all numeric excluding nans >300 \n",
    "catcols = df.describe(exclude='number').columns\n",
    "\n",
    "cats_hc = df[df.describe(exclude='number').columns].describe().loc['unique'] >= 15  # low cardinality will be includd\n",
    "hc  = df[df.describe(exclude='number').columns].describe().loc['unique'] >= 10\n",
    "hc_cols = df[catcols].columns[hc]\n",
    "catcols = catcols.drop(hc_cols)\n",
    "\n",
    "\n",
    "target = ['Great']\n",
    "\n",
    "features = numcols.append(catcols).drop(target)\n"
   ]
  },
  {
   "cell_type": "code",
   "execution_count": 501,
   "metadata": {},
   "outputs": [
    {
     "data": {
      "text/plain": [
       "<matplotlib.axes._subplots.AxesSubplot at 0x7f7427ff83d0>"
      ]
     },
     "execution_count": 501,
     "metadata": {},
     "output_type": "execute_result"
    },
    {
     "data": {
      "image/png": "[encoded data removed]",
      "text/plain": [
       "<Figure size 432x288 with 1 Axes>"
      ]
     },
     "metadata": {
      "needs_background": "light"
     },
     "output_type": "display_data"
    },
    {
     "data": {
      "image/png": "[encoded data removed]",
      "text/plain": [
       "<Figure size 720x360 with 1 Axes>"
      ]
     },
     "metadata": {
      "needs_background": "light"
     },
     "output_type": "display_data"
    },
    {
     "data": {
      "image/png": "[encoded data removed]",
      "text/plain": [
       "<Figure size 720x360 with 1 Axes>"
      ]
     },
     "metadata": {
      "needs_background": "light"
     },
     "output_type": "display_data"
    }
   ],
   "source": [
    "df[features] ##do we need to make it a list? nope indexes are cool\n",
    "##check ok to impute with mean \n",
    "df.Length.describe()\n",
    "df.Length.isnull().sum() #\n",
    "df.Length.plot(kind='hist')\n",
    "df.Circum.isnull().sum()\n",
    "df.Circum.plot(kind='hist')\n",
    "#yes i guess\n",
    "df.corr().reset_index().plot(x='index', y=target,figsize=(10,5), kind ='bar')\n",
    "df.corr().reset_index().sort_values(target).plot(x='index', y=target,figsize=(10,5), kind ='bar')"
   ]
  },
  {
   "cell_type": "code",
   "execution_count": 502,
   "metadata": {},
   "outputs": [],
   "source": [
    "import category_encoders as ce\n",
    "from sklearn.impute import SimpleImputer\n",
    "from sklearn.linear_model import LogisticRegressionCV \n",
    "from sklearn.preprocessing import StandardScaler\n",
    "\n",
    "#heres an evil spaghetti to test feature chosen below, plug here\n",
    "#features=['Meat', 'Fillings', 'Synergy']                                     # <<= better validation acccuracy\n",
    "#features=['Tortilla', 'Temp', 'Meat', 'Fillings', 'Meat:filling', 'Synergy']  #<<== better test accuracy\n",
    "x_train = train[features]\n",
    "y_train = train[target]\n",
    "x_val = val[features]\n",
    "y_val = val[target]\n",
    "\n",
    "x_test = test[features]\n",
    "y_test = test[target]\n"
   ]
  },
  {
   "cell_type": "code",
   "execution_count": 503,
   "metadata": {},
   "outputs": [
    {
     "data": {
      "text/html": [
       "<div>\n",
       "<style scoped>\n",
       "    .dataframe tbody tr th:only-of-type {\n",
       "        vertical-align: middle;\n",
       "    }\n",
       "\n",
       "    .dataframe tbody tr th {\n",
       "        vertical-align: top;\n",
       "    }\n",
       "\n",
       "    .dataframe thead th {\n",
       "        text-align: right;\n",
       "    }\n",
       "</style>\n",
       "<table border=\"1\" class=\"dataframe\">\n",
       "  <thead>\n",
       "    <tr style=\"text-align: right;\">\n",
       "      <th></th>\n",
       "      <th>Cost</th>\n",
       "      <th>Hunger</th>\n",
       "      <th>Length</th>\n",
       "      <th>Circum</th>\n",
       "      <th>Volume</th>\n",
       "      <th>Tortilla</th>\n",
       "      <th>Temp</th>\n",
       "      <th>Meat</th>\n",
       "      <th>Fillings</th>\n",
       "      <th>Meat:filling</th>\n",
       "      <th>...</th>\n",
       "      <th>Bacon_x</th>\n",
       "      <th>Sushi_nan</th>\n",
       "      <th>Sushi_x</th>\n",
       "      <th>Avocado_nan</th>\n",
       "      <th>Avocado_x</th>\n",
       "      <th>Corn_nan</th>\n",
       "      <th>Corn_x</th>\n",
       "      <th>Corn_X</th>\n",
       "      <th>Zucchini_nan</th>\n",
       "      <th>Zucchini_x</th>\n",
       "    </tr>\n",
       "  </thead>\n",
       "  <tbody>\n",
       "    <tr>\n",
       "      <th>0</th>\n",
       "      <td>6.49</td>\n",
       "      <td>3.0</td>\n",
       "      <td>NaN</td>\n",
       "      <td>NaN</td>\n",
       "      <td>NaN</td>\n",
       "      <td>3.0</td>\n",
       "      <td>5.0</td>\n",
       "      <td>3.0</td>\n",
       "      <td>3.5</td>\n",
       "      <td>4.0</td>\n",
       "      <td>...</td>\n",
       "      <td>0</td>\n",
       "      <td>1</td>\n",
       "      <td>0</td>\n",
       "      <td>1</td>\n",
       "      <td>0</td>\n",
       "      <td>1</td>\n",
       "      <td>0</td>\n",
       "      <td>0</td>\n",
       "      <td>1</td>\n",
       "      <td>0</td>\n",
       "    </tr>\n",
       "    <tr>\n",
       "      <th>1</th>\n",
       "      <td>5.45</td>\n",
       "      <td>3.5</td>\n",
       "      <td>NaN</td>\n",
       "      <td>NaN</td>\n",
       "      <td>NaN</td>\n",
       "      <td>2.0</td>\n",
       "      <td>3.5</td>\n",
       "      <td>2.5</td>\n",
       "      <td>2.5</td>\n",
       "      <td>2.0</td>\n",
       "      <td>...</td>\n",
       "      <td>0</td>\n",
       "      <td>1</td>\n",
       "      <td>0</td>\n",
       "      <td>1</td>\n",
       "      <td>0</td>\n",
       "      <td>1</td>\n",
       "      <td>0</td>\n",
       "      <td>0</td>\n",
       "      <td>1</td>\n",
       "      <td>0</td>\n",
       "    </tr>\n",
       "    <tr>\n",
       "      <th>2</th>\n",
       "      <td>4.85</td>\n",
       "      <td>1.5</td>\n",
       "      <td>NaN</td>\n",
       "      <td>NaN</td>\n",
       "      <td>NaN</td>\n",
       "      <td>3.0</td>\n",
       "      <td>2.0</td>\n",
       "      <td>2.5</td>\n",
       "      <td>3.0</td>\n",
       "      <td>4.5</td>\n",
       "      <td>...</td>\n",
       "      <td>0</td>\n",
       "      <td>1</td>\n",
       "      <td>0</td>\n",
       "      <td>1</td>\n",
       "      <td>0</td>\n",
       "      <td>1</td>\n",
       "      <td>0</td>\n",
       "      <td>0</td>\n",
       "      <td>1</td>\n",
       "      <td>0</td>\n",
       "    </tr>\n",
       "    <tr>\n",
       "      <th>3</th>\n",
       "      <td>5.25</td>\n",
       "      <td>2.0</td>\n",
       "      <td>NaN</td>\n",
       "      <td>NaN</td>\n",
       "      <td>NaN</td>\n",
       "      <td>3.0</td>\n",
       "      <td>2.0</td>\n",
       "      <td>3.5</td>\n",
       "      <td>3.0</td>\n",
       "      <td>4.0</td>\n",
       "      <td>...</td>\n",
       "      <td>0</td>\n",
       "      <td>1</td>\n",
       "      <td>0</td>\n",
       "      <td>1</td>\n",
       "      <td>0</td>\n",
       "      <td>1</td>\n",
       "      <td>0</td>\n",
       "      <td>0</td>\n",
       "      <td>1</td>\n",
       "      <td>0</td>\n",
       "    </tr>\n",
       "    <tr>\n",
       "      <th>4</th>\n",
       "      <td>6.59</td>\n",
       "      <td>4.0</td>\n",
       "      <td>NaN</td>\n",
       "      <td>NaN</td>\n",
       "      <td>NaN</td>\n",
       "      <td>4.0</td>\n",
       "      <td>5.0</td>\n",
       "      <td>4.0</td>\n",
       "      <td>3.5</td>\n",
       "      <td>4.5</td>\n",
       "      <td>...</td>\n",
       "      <td>0</td>\n",
       "      <td>1</td>\n",
       "      <td>0</td>\n",
       "      <td>1</td>\n",
       "      <td>0</td>\n",
       "      <td>1</td>\n",
       "      <td>0</td>\n",
       "      <td>0</td>\n",
       "      <td>1</td>\n",
       "      <td>0</td>\n",
       "    </tr>\n",
       "  </tbody>\n",
       "</table>\n",
       "<p>5 rows × 118 columns</p>\n",
       "</div>"
      ],
      "text/plain": [
       "   Cost  Hunger  Length  Circum  Volume  Tortilla  Temp  Meat  Fillings  \\\n",
       "0  6.49     3.0     NaN     NaN     NaN       3.0   5.0   3.0       3.5   \n",
       "1  5.45     3.5     NaN     NaN     NaN       2.0   3.5   2.5       2.5   \n",
       "2  4.85     1.5     NaN     NaN     NaN       3.0   2.0   2.5       3.0   \n",
       "3  5.25     2.0     NaN     NaN     NaN       3.0   2.0   3.5       3.0   \n",
       "4  6.59     4.0     NaN     NaN     NaN       4.0   5.0   4.0       3.5   \n",
       "\n",
       "   Meat:filling  ...  Bacon_x  Sushi_nan  Sushi_x  Avocado_nan  Avocado_x  \\\n",
       "0           4.0  ...        0          1        0            1          0   \n",
       "1           2.0  ...        0          1        0            1          0   \n",
       "2           4.5  ...        0          1        0            1          0   \n",
       "3           4.0  ...        0          1        0            1          0   \n",
       "4           4.5  ...        0          1        0            1          0   \n",
       "\n",
       "   Corn_nan  Corn_x  Corn_X  Zucchini_nan  Zucchini_x  \n",
       "0         1       0       0             1           0  \n",
       "1         1       0       0             1           0  \n",
       "2         1       0       0             1           0  \n",
       "3         1       0       0             1           0  \n",
       "4         1       0       0             1           0  \n",
       "\n",
       "[5 rows x 118 columns]"
      ]
     },
     "execution_count": 503,
     "metadata": {},
     "output_type": "execute_result"
    }
   ],
   "source": [
    "encoder = ce.OneHotEncoder(use_cat_names=True)\n",
    "\n",
    "x_train_encoded = encoder.fit_transform(x_train)\n",
    "x_val_encoded = encoder.transform(x_val)\n",
    "\n",
    "x_test_encoded = encoder.transform(x_test)\n",
    "#x_train_encoded = x_train_encoded[['Meat', 'Fillings', 'Synergy']]\n",
    "x_train_encoded.head()\n"
   ]
  },
  {
   "cell_type": "code",
   "execution_count": 504,
   "metadata": {},
   "outputs": [],
   "source": [
    "#impute some stuff with imputer then standardize \n",
    "imputer = SimpleImputer(strategy='mean')\n",
    "x_train_imputed = imputer.fit_transform(x_train_encoded)\n",
    "x_val_imputed =  imputer.transform(x_val_encoded)      #returns array\n",
    "x_test_imputed = imputer.transform(x_test_encoded)\n",
    "\n",
    "scaler = StandardScaler()\n",
    "x_train_scaled = scaler.fit_transform(x_train_imputed)\n",
    "x_val_scaled = scaler.transform(x_val_imputed)\n",
    "x_test_scaled = scaler.transform(x_test_imputed)"
   ]
  },
  {
   "cell_type": "code",
   "execution_count": 505,
   "metadata": {},
   "outputs": [
    {
     "name": "stdout",
     "output_type": "stream",
     "text": [
      "Num Features: 6\n",
      "Feature Ranking: [ 12  20  48 107  16   1   1   1   1   1  50  85   1  13   2  32  52  33\n",
      "   5 101  92  88  34  53 105  96 102  64   9  31  29  54  55   8  39  61\n",
      "  67  79  97  44   3  74  75  45  58  21  30  72  63  84  24  57   4  73\n",
      "  94  81 100  76  62 106  19   6 110  65  93  17  43  18 103  42  28 104\n",
      " 109 108  95  91  98  82  60  83  37   7  36  56  15  86  89  66  90  68\n",
      "  99  46  10  14  47  11  22  41  23  59  40  80  87  69  35  78  77  51\n",
      "  71  25  49  26  70 111 112 113  27  38]\n",
      "Index(['Tortilla', 'Temp', 'Meat', 'Fillings', 'Meat:filling', 'Synergy'], dtype='object')\n"
     ]
    },
    {
     "data": {
      "text/plain": [
       "['Tortilla', 'Temp', 'Meat', 'Fillings', 'Meat:filling', 'Synergy']"
      ]
     },
     "execution_count": 505,
     "metadata": {},
     "output_type": "execute_result"
    }
   ],
   "source": [
    "from sklearn.feature_selection import RFE\n",
    "X= x_train_scaled\n",
    "Y= y_train\n",
    "\n",
    "model = LogisticRegression(solver='lbfgs')\n",
    "rfe = RFE(model, 6)\n",
    "fit = rfe.fit(X, Y.values.ravel())      #reshape array from col to row\n",
    "print(\"Num Features: %d\" % fit.n_features_)\n",
    "print(\"Feature Ranking: %s\" % fit.ranking_)\n",
    "feat_selected= x_train_encoded.columns[fit.support_]\n",
    "#print(\"Selected Features: %s\" % fit.support_)\n",
    "print(feat_selected)\n",
    "feat_selected.tolist()\n",
    "\n",
    "#according to this, "
   ]
  },
  {
   "cell_type": "code",
   "execution_count": 506,
   "metadata": {},
   "outputs": [
    {
     "data": {
      "text/plain": [
       "Index(['Tortilla', 'Meat', 'Fillings', 'Meat:filling', 'Salsa', 'Synergy'], dtype='object')"
      ]
     },
     "execution_count": 506,
     "metadata": {},
     "output_type": "execute_result"
    }
   ],
   "source": [
    "from sklearn.feature_selection import SelectKBest\n",
    "from sklearn.feature_selection import f_classif\n",
    "\n",
    "kbsel = SelectKBest(score_func=f_classif, k=6)\n",
    "xtrain_kb = kbsel.fit_transform(X, Y.values.ravel())\n",
    "# summarize selected features\n",
    "kbsel.get_support()\n",
    "selected_names = x_train_encoded.columns[kbsel.get_support()]\n",
    "selected_names\n"
   ]
  },
  {
   "cell_type": "code",
   "execution_count": 507,
   "metadata": {},
   "outputs": [
    {
     "name": "stdout",
     "output_type": "stream",
     "text": [
      "Index(['Cost', 'Hunger', 'Length', 'Circum', 'Volume', 'Tortilla', 'Temp',\n",
      "       'Meat', 'Fillings', 'Meat:filling', 'Uniformity', 'Salsa', 'Synergy',\n",
      "       'Wrap', 'Burrito', 'Chips', 'Unreliable', 'NonSD', 'Beef', 'Pico',\n",
      "       'Guac', 'Cheese', 'Fries', 'Sour cream', 'Pork', 'Chicken', 'Shrimp',\n",
      "       'Fish', 'Rice', 'Beans', 'Lettuce', 'Tomato', 'Bell peper', 'Carrots',\n",
      "       'Cabbage', 'Sauce', 'Salsa.1', 'Cilantro', 'Onion', 'Taquito',\n",
      "       'Pineapple', 'Ham', 'Chile relleno', 'Nopales', 'Lobster', 'Egg',\n",
      "       'Mushroom', 'Bacon', 'Sushi', 'Avocado', 'Corn', 'Zucchini'],\n",
      "      dtype='object')\n",
      "baseline accuracy:  0.5676959619952494\n",
      "validation accuracy 0.7647058823529411\n",
      "test accuracy 0.7631578947368421\n"
     ]
    }
   ],
   "source": [
    "from sklearn.linear_model import LogisticRegression\n",
    "\n",
    "model = LogisticRegression(solver='lbfgs')\n",
    "model.fit(x_train_scaled, y_train.values.ravel())\n",
    "print(features)\n",
    "print('baseline accuracy: ', baseline)\n",
    "print('validation accuracy', accuracy_score(y_val, model.predict(x_val_scaled)))\n",
    "print('test accuracy', accuracy_score(y_test, model.predict(x_test_scaled)))\n",
    "\n"
   ]
  },
  {
   "cell_type": "code",
   "execution_count": null,
   "metadata": {},
   "outputs": [],
   "source": []
  },
  {
   "cell_type": "code",
   "execution_count": 508,
   "metadata": {},
   "outputs": [
    {
     "name": "stdout",
     "output_type": "stream",
     "text": [
      "train Accuracy 0.9362416107382551\n"
     ]
    },
    {
     "data": {
      "text/plain": [
       "0.9362416107382551"
      ]
     },
     "execution_count": 508,
     "metadata": {},
     "output_type": "execute_result"
    }
   ],
   "source": [
    "print('train Accuracy', model.score(x_train_scaled, y_train))  ##accuracy score\n",
    "#just checking same thign\n",
    "from sklearn.metrics import accuracy_score\n",
    "y_pred = model.predict(x_train_scaled)\n",
    "accuracy_score(y_train, y_pred)"
   ]
  },
  {
   "cell_type": "code",
   "execution_count": null,
   "metadata": {},
   "outputs": [],
   "source": []
  }
 ],
 "metadata": {
  "kernelspec": {
   "display_name": "Python 3",
   "language": "python",
   "name": "python3"
  },
  "language_info": {
   "codemirror_mode": {
    "name": "ipython",
    "version": 3
   },
   "file_extension": ".py",
   "mimetype": "text/x-python",
   "name": "python",
   "nbconvert_exporter": "python",
   "pygments_lexer": "ipython3",
   "version": "3.7.4"
  }
 },
 "nbformat": 4,
 "nbformat_minor": 4
}
