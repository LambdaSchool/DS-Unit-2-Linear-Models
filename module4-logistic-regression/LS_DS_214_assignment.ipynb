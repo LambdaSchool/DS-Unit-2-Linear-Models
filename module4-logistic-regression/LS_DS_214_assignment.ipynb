{
  "nbformat": 4,
  "nbformat_minor": 0,
  "metadata": {
    "kernelspec": {
      "display_name": "Python 3",
      "language": "python",
      "name": "python3"
    },
    "language_info": {
      "codemirror_mode": {
        "name": "ipython",
        "version": 3
      },
      "file_extension": ".py",
      "mimetype": "text/x-python",
      "name": "python",
      "nbconvert_exporter": "python",
      "pygments_lexer": "ipython3",
      "version": "3.7.3"
    },
    "colab": {
      "name": "LS_DS_214_assignment.ipynb",
      "provenance": []
    }
  },
  "cells": [
    {
      "cell_type": "markdown",
      "metadata": {
        "id": "kJoB4DiKw5tZ",
        "colab_type": "text"
      },
      "source": [
        "Lambda School Data Science\n",
        "\n",
        "*Unit 2, Sprint 1, Module 4*\n",
        "\n",
        "---"
      ]
    },
    {
      "cell_type": "markdown",
      "metadata": {
        "colab_type": "text",
        "id": "7IXUfiQ2UKj6"
      },
      "source": [
        "# Logistic Regression\n",
        "\n",
        "\n",
        "## Assignment 🌯\n",
        "\n",
        "You'll use a [**dataset of 400+ burrito reviews**](https://srcole.github.io/100burritos/). How accurately can you predict whether a burrito is rated 'Great'?\n",
        "\n",
        "> We have developed a 10-dimensional system for rating the burritos in San Diego. ... Generate models for what makes a burrito great and investigate correlations in its dimensions.\n",
        "\n",
        "- [ ] Do train/validate/test split. Train on reviews from 2016 & earlier. Validate on 2017. Test on 2018 & later.\n",
        "- [ ] Begin with baselines for classification.\n",
        "- [ ] Use scikit-learn for logistic regression.\n",
        "- [ ] Get your model's validation accuracy. (Multiple times if you try multiple iterations.)\n",
        "- [ ] Get your model's test accuracy. (One time, at the end.)\n",
        "- [ ] Commit your notebook to your fork of the GitHub repo.\n",
        "\n",
        "\n",
        "## Stretch Goals\n",
        "\n",
        "- [ ] Add your own stretch goal(s) !\n",
        "- [ ] Make exploratory visualizations.\n",
        "- [ ] Do one-hot encoding.\n",
        "- [ ] Do [feature scaling](https://scikit-learn.org/stable/modules/preprocessing.html).\n",
        "- [ ] Get and plot your coefficients.\n",
        "- [ ] Try [scikit-learn pipelines](https://scikit-learn.org/stable/modules/compose.html)."
      ]
    },
    {
      "cell_type": "code",
      "metadata": {
        "colab_type": "code",
        "id": "o9eSnDYhUGD7",
        "colab": {}
      },
      "source": [
        "%%capture\n",
        "import sys\n",
        "\n",
        "# If you're on Colab:\n",
        "if 'google.colab' in sys.modules:\n",
        "    DATA_PATH = 'https://raw.githubusercontent.com/LambdaSchool/DS-Unit-2-Linear-Models/master/data/'\n",
        "    !pip install category_encoders==2.*\n",
        "\n",
        "# If you're working locally:\n",
        "else:\n",
        "    DATA_PATH = '../data/'"
      ],
      "execution_count": 0,
      "outputs": []
    },
    {
      "cell_type": "code",
      "metadata": {
        "id": "-fNoRYvfw5tj",
        "colab_type": "code",
        "colab": {}
      },
      "source": [
        "# Load data downloaded from https://srcole.github.io/100burritos/\n",
        "import pandas as pd\n",
        "df = pd.read_csv(DATA_PATH+'burritos/burritos.csv')"
      ],
      "execution_count": 0,
      "outputs": []
    },
    {
      "cell_type": "code",
      "metadata": {
        "id": "R0aFJI-3w5tm",
        "colab_type": "code",
        "colab": {}
      },
      "source": [
        "# Derive binary classification target:\n",
        "# We define a 'Great' burrito as having an\n",
        "# overall rating of 4 or higher, on a 5 point scale.\n",
        "# Drop unrated burritos.\n",
        "df = df.dropna(subset=['overall'])\n",
        "df['Great'] = df['overall'] >= 4"
      ],
      "execution_count": 0,
      "outputs": []
    },
    {
      "cell_type": "code",
      "metadata": {
        "id": "2mJvyVQ_w5tq",
        "colab_type": "code",
        "colab": {}
      },
      "source": [
        "# Clean/combine the Burrito categories\n",
        "df['Burrito'] = df['Burrito'].str.lower()\n",
        "\n",
        "california = df['Burrito'].str.contains('california')\n",
        "asada = df['Burrito'].str.contains('asada')\n",
        "surf = df['Burrito'].str.contains('surf')\n",
        "carnitas = df['Burrito'].str.contains('carnitas')\n",
        "\n",
        "df.loc[california, 'Burrito'] = 'California'\n",
        "df.loc[asada, 'Burrito'] = 'Asada'\n",
        "df.loc[surf, 'Burrito'] = 'Surf & Turf'\n",
        "df.loc[carnitas, 'Burrito'] = 'Carnitas'\n",
        "df.loc[~california & ~asada & ~surf & ~carnitas, 'Burrito'] = 'Other'"
      ],
      "execution_count": 0,
      "outputs": []
    },
    {
      "cell_type": "code",
      "metadata": {
        "id": "c45vt9W_zPhZ",
        "colab_type": "code",
        "outputId": "125d17c4-6955-49a1-8ebc-197ccabf3bfb",
        "colab": {
          "base_uri": "https://localhost:8080/",
          "height": 259
        }
      },
      "source": [
        "print(df.shape)\n",
        "df.head(2)"
      ],
      "execution_count": 271,
      "outputs": [
        {
          "output_type": "stream",
          "text": [
            "(421, 67)\n"
          ],
          "name": "stdout"
        },
        {
          "output_type": "execute_result",
          "data": {
            "text/html": [
              "<div>\n",
              "<style scoped>\n",
              "    .dataframe tbody tr th:only-of-type {\n",
              "        vertical-align: middle;\n",
              "    }\n",
              "\n",
              "    .dataframe tbody tr th {\n",
              "        vertical-align: top;\n",
              "    }\n",
              "\n",
              "    .dataframe thead th {\n",
              "        text-align: right;\n",
              "    }\n",
              "</style>\n",
              "<table border=\"1\" class=\"dataframe\">\n",
              "  <thead>\n",
              "    <tr style=\"text-align: right;\">\n",
              "      <th></th>\n",
              "      <th>Location</th>\n",
              "      <th>Burrito</th>\n",
              "      <th>Date</th>\n",
              "      <th>Neighborhood</th>\n",
              "      <th>Address</th>\n",
              "      <th>URL</th>\n",
              "      <th>Yelp</th>\n",
              "      <th>Google</th>\n",
              "      <th>Chips</th>\n",
              "      <th>Cost</th>\n",
              "      <th>Hunger</th>\n",
              "      <th>Mass (g)</th>\n",
              "      <th>Density (g/mL)</th>\n",
              "      <th>Length</th>\n",
              "      <th>Circum</th>\n",
              "      <th>Volume</th>\n",
              "      <th>Tortilla</th>\n",
              "      <th>Temp</th>\n",
              "      <th>Meat</th>\n",
              "      <th>Fillings</th>\n",
              "      <th>Meat:filling</th>\n",
              "      <th>Uniformity</th>\n",
              "      <th>Salsa</th>\n",
              "      <th>Synergy</th>\n",
              "      <th>Wrap</th>\n",
              "      <th>overall</th>\n",
              "      <th>Rec</th>\n",
              "      <th>Reviewer</th>\n",
              "      <th>Notes</th>\n",
              "      <th>Unreliable</th>\n",
              "      <th>NonSD</th>\n",
              "      <th>Beef</th>\n",
              "      <th>Pico</th>\n",
              "      <th>Guac</th>\n",
              "      <th>Cheese</th>\n",
              "      <th>Fries</th>\n",
              "      <th>Sour cream</th>\n",
              "      <th>Pork</th>\n",
              "      <th>Chicken</th>\n",
              "      <th>Shrimp</th>\n",
              "      <th>Fish</th>\n",
              "      <th>Rice</th>\n",
              "      <th>Beans</th>\n",
              "      <th>Lettuce</th>\n",
              "      <th>Tomato</th>\n",
              "      <th>Bell peper</th>\n",
              "      <th>Carrots</th>\n",
              "      <th>Cabbage</th>\n",
              "      <th>Sauce</th>\n",
              "      <th>Salsa.1</th>\n",
              "      <th>Cilantro</th>\n",
              "      <th>Onion</th>\n",
              "      <th>Taquito</th>\n",
              "      <th>Pineapple</th>\n",
              "      <th>Ham</th>\n",
              "      <th>Chile relleno</th>\n",
              "      <th>Nopales</th>\n",
              "      <th>Lobster</th>\n",
              "      <th>Queso</th>\n",
              "      <th>Egg</th>\n",
              "      <th>Mushroom</th>\n",
              "      <th>Bacon</th>\n",
              "      <th>Sushi</th>\n",
              "      <th>Avocado</th>\n",
              "      <th>Corn</th>\n",
              "      <th>Zucchini</th>\n",
              "      <th>Great</th>\n",
              "    </tr>\n",
              "  </thead>\n",
              "  <tbody>\n",
              "    <tr>\n",
              "      <th>0</th>\n",
              "      <td>Donato's taco shop</td>\n",
              "      <td>California</td>\n",
              "      <td>1/18/2016</td>\n",
              "      <td>Miramar</td>\n",
              "      <td>6780 Miramar Rd</td>\n",
              "      <td>http://donatostacoshop.net/</td>\n",
              "      <td>3.5</td>\n",
              "      <td>4.2</td>\n",
              "      <td>NaN</td>\n",
              "      <td>6.49</td>\n",
              "      <td>3.0</td>\n",
              "      <td>NaN</td>\n",
              "      <td>NaN</td>\n",
              "      <td>NaN</td>\n",
              "      <td>NaN</td>\n",
              "      <td>NaN</td>\n",
              "      <td>3.0</td>\n",
              "      <td>5.0</td>\n",
              "      <td>3.0</td>\n",
              "      <td>3.5</td>\n",
              "      <td>4.0</td>\n",
              "      <td>4.0</td>\n",
              "      <td>4.0</td>\n",
              "      <td>4.0</td>\n",
              "      <td>4.0</td>\n",
              "      <td>3.8</td>\n",
              "      <td>NaN</td>\n",
              "      <td>Scott</td>\n",
              "      <td>good fries: 4/5</td>\n",
              "      <td>NaN</td>\n",
              "      <td>NaN</td>\n",
              "      <td>x</td>\n",
              "      <td>x</td>\n",
              "      <td>x</td>\n",
              "      <td>x</td>\n",
              "      <td>x</td>\n",
              "      <td>NaN</td>\n",
              "      <td>NaN</td>\n",
              "      <td>NaN</td>\n",
              "      <td>NaN</td>\n",
              "      <td>NaN</td>\n",
              "      <td>NaN</td>\n",
              "      <td>NaN</td>\n",
              "      <td>NaN</td>\n",
              "      <td>NaN</td>\n",
              "      <td>NaN</td>\n",
              "      <td>NaN</td>\n",
              "      <td>NaN</td>\n",
              "      <td>NaN</td>\n",
              "      <td>NaN</td>\n",
              "      <td>NaN</td>\n",
              "      <td>NaN</td>\n",
              "      <td>NaN</td>\n",
              "      <td>NaN</td>\n",
              "      <td>NaN</td>\n",
              "      <td>NaN</td>\n",
              "      <td>NaN</td>\n",
              "      <td>NaN</td>\n",
              "      <td>NaN</td>\n",
              "      <td>NaN</td>\n",
              "      <td>NaN</td>\n",
              "      <td>NaN</td>\n",
              "      <td>NaN</td>\n",
              "      <td>NaN</td>\n",
              "      <td>NaN</td>\n",
              "      <td>NaN</td>\n",
              "      <td>False</td>\n",
              "    </tr>\n",
              "    <tr>\n",
              "      <th>1</th>\n",
              "      <td>Oscar's Mexican food</td>\n",
              "      <td>California</td>\n",
              "      <td>1/24/2016</td>\n",
              "      <td>San Marcos</td>\n",
              "      <td>225 S Rancho Santa Fe Rd</td>\n",
              "      <td>http://www.yelp.com/biz/oscars-mexican-food-sa...</td>\n",
              "      <td>3.5</td>\n",
              "      <td>3.3</td>\n",
              "      <td>NaN</td>\n",
              "      <td>5.45</td>\n",
              "      <td>3.5</td>\n",
              "      <td>NaN</td>\n",
              "      <td>NaN</td>\n",
              "      <td>NaN</td>\n",
              "      <td>NaN</td>\n",
              "      <td>NaN</td>\n",
              "      <td>2.0</td>\n",
              "      <td>3.5</td>\n",
              "      <td>2.5</td>\n",
              "      <td>2.5</td>\n",
              "      <td>2.0</td>\n",
              "      <td>4.0</td>\n",
              "      <td>3.5</td>\n",
              "      <td>2.5</td>\n",
              "      <td>5.0</td>\n",
              "      <td>3.0</td>\n",
              "      <td>NaN</td>\n",
              "      <td>Scott</td>\n",
              "      <td>Fries: 3/5; too little meat</td>\n",
              "      <td>NaN</td>\n",
              "      <td>NaN</td>\n",
              "      <td>x</td>\n",
              "      <td>x</td>\n",
              "      <td>x</td>\n",
              "      <td>x</td>\n",
              "      <td>x</td>\n",
              "      <td>NaN</td>\n",
              "      <td>NaN</td>\n",
              "      <td>NaN</td>\n",
              "      <td>NaN</td>\n",
              "      <td>NaN</td>\n",
              "      <td>NaN</td>\n",
              "      <td>NaN</td>\n",
              "      <td>NaN</td>\n",
              "      <td>NaN</td>\n",
              "      <td>NaN</td>\n",
              "      <td>NaN</td>\n",
              "      <td>NaN</td>\n",
              "      <td>NaN</td>\n",
              "      <td>NaN</td>\n",
              "      <td>NaN</td>\n",
              "      <td>NaN</td>\n",
              "      <td>NaN</td>\n",
              "      <td>NaN</td>\n",
              "      <td>NaN</td>\n",
              "      <td>NaN</td>\n",
              "      <td>NaN</td>\n",
              "      <td>NaN</td>\n",
              "      <td>NaN</td>\n",
              "      <td>NaN</td>\n",
              "      <td>NaN</td>\n",
              "      <td>NaN</td>\n",
              "      <td>NaN</td>\n",
              "      <td>NaN</td>\n",
              "      <td>NaN</td>\n",
              "      <td>NaN</td>\n",
              "      <td>False</td>\n",
              "    </tr>\n",
              "  </tbody>\n",
              "</table>\n",
              "</div>"
            ],
            "text/plain": [
              "               Location     Burrito       Date  ... Corn Zucchini  Great\n",
              "0    Donato's taco shop  California  1/18/2016  ...  NaN      NaN  False\n",
              "1  Oscar's Mexican food  California  1/24/2016  ...  NaN      NaN  False\n",
              "\n",
              "[2 rows x 67 columns]"
            ]
          },
          "metadata": {
            "tags": []
          },
          "execution_count": 271
        }
      ]
    },
    {
      "cell_type": "code",
      "metadata": {
        "id": "s6TcTu09w5tu",
        "colab_type": "code",
        "colab": {}
      },
      "source": [
        "# Drop some high cardinality categoricals\n",
        "df = df.drop(columns=['Notes', 'Location', 'Reviewer', 'Address', 'URL', 'Neighborhood'])"
      ],
      "execution_count": 0,
      "outputs": []
    },
    {
      "cell_type": "code",
      "metadata": {
        "id": "na-mAmU3w5tx",
        "colab_type": "code",
        "colab": {}
      },
      "source": [
        "# Drop some columns to prevent \"leakage\"\n",
        "df = df.drop(columns=['Rec', 'overall'])"
      ],
      "execution_count": 0,
      "outputs": []
    },
    {
      "cell_type": "code",
      "metadata": {
        "id": "6I5TAvTeSkaL",
        "colab_type": "code",
        "outputId": "519177e6-56a4-4d7d-b875-27ce33ae6db0",
        "colab": {
          "base_uri": "https://localhost:8080/",
          "height": 33
        }
      },
      "source": [
        "df['Date'].dtype"
      ],
      "execution_count": 274,
      "outputs": [
        {
          "output_type": "execute_result",
          "data": {
            "text/plain": [
              "dtype('O')"
            ]
          },
          "metadata": {
            "tags": []
          },
          "execution_count": 274
        }
      ]
    },
    {
      "cell_type": "code",
      "metadata": {
        "id": "M2nEcUoRSuOJ",
        "colab_type": "code",
        "colab": {}
      },
      "source": [
        "# Changing the date to a dateTime object\n",
        "df['Date'] = pd.to_datetime(df['Date'], infer_datetime_format=True)"
      ],
      "execution_count": 0,
      "outputs": []
    },
    {
      "cell_type": "code",
      "metadata": {
        "id": "Ef41nLTjw5t2",
        "colab_type": "code",
        "colab": {}
      },
      "source": [
        "# Splitting the data into the train validate and test groups\n",
        "# Do train/validate/test split. Train on reviews from 2016 & earlier. \n",
        "# Validate on 2017. Test on 2018 & later\n",
        "train = df[df['Date'].dt.year <= 2016 ]\n",
        "val = df[df['Date'].dt.year == 2017]\n",
        "test = df[df['Date'].dt.year >= 2018]"
      ],
      "execution_count": 0,
      "outputs": []
    },
    {
      "cell_type": "code",
      "metadata": {
        "id": "iGucIU_pT9XL",
        "colab_type": "code",
        "outputId": "83509a10-0dd2-4758-c475-7c564c104a06",
        "colab": {
          "base_uri": "https://localhost:8080/",
          "height": 67
        }
      },
      "source": [
        "# show the shapes\n",
        "print(f\"Train shape {train.shape}\")\n",
        "print(f\"Validate shape {val.shape}\")\n",
        "print(f\"Test shape {test.shape}\")"
      ],
      "execution_count": 277,
      "outputs": [
        {
          "output_type": "stream",
          "text": [
            "Train shape (298, 59)\n",
            "Validate shape (85, 59)\n",
            "Test shape (38, 59)\n"
          ],
          "name": "stdout"
        }
      ]
    },
    {
      "cell_type": "code",
      "metadata": {
        "id": "Vvzm0HCuZjRM",
        "colab_type": "code",
        "colab": {}
      },
      "source": [
        "# Getting the target out of the train and the val and the test\n",
        "y_train = train['Great']\n",
        "y_val = val['Great']\n",
        "y_test = test['Great']\n",
        "\n",
        "# Dropping the colum from the dataFrames\n",
        "train = train.drop('Great', axis=1)\n",
        "val = val.drop(\"Great\", axis=1)\n",
        "test = test.drop(\"Great\", axis=1)\n"
      ],
      "execution_count": 0,
      "outputs": []
    },
    {
      "cell_type": "code",
      "metadata": {
        "id": "60FxsPMwa8oL",
        "colab_type": "code",
        "outputId": "c924ce7a-c2d2-4db1-ad6e-5ca14b1cb6d5",
        "colab": {
          "base_uri": "https://localhost:8080/",
          "height": 67
        }
      },
      "source": [
        "# New shape of the train, val and the test\n",
        "print(f\"Train: {train.shape}\")\n",
        "print(f\"Val:  {val.shape}\")\n",
        "print(f\"Test:  {test.shape}\")"
      ],
      "execution_count": 279,
      "outputs": [
        {
          "output_type": "stream",
          "text": [
            "Train: (298, 58)\n",
            "Val:  (85, 58)\n",
            "Test:  (38, 58)\n"
          ],
          "name": "stdout"
        }
      ]
    },
    {
      "cell_type": "code",
      "metadata": {
        "id": "e0nmjiG8VXNg",
        "colab_type": "code",
        "outputId": "28675138-2160-4809-b2b5-c325b4001239",
        "colab": {
          "base_uri": "https://localhost:8080/",
          "height": 67
        }
      },
      "source": [
        "# What is the baseLine -- Will find the majority class\n",
        "\n",
        "# Looking at what is the majority class for the \"Great\" column\n",
        "\n",
        "y_train.value_counts(normalize=True)\n",
        "# False is the majority 59 percent of the time"
      ],
      "execution_count": 280,
      "outputs": [
        {
          "output_type": "execute_result",
          "data": {
            "text/plain": [
              "False    0.590604\n",
              "True     0.409396\n",
              "Name: Great, dtype: float64"
            ]
          },
          "metadata": {
            "tags": []
          },
          "execution_count": 280
        }
      ]
    },
    {
      "cell_type": "code",
      "metadata": {
        "id": "3iVe3tieWuX0",
        "colab_type": "code",
        "colab": {}
      },
      "source": [
        "# importing some of the sklearn modules\n",
        "from sklearn.metrics import accuracy_score, mean_absolute_error\n",
        "from sklearn.linear_model import LogisticRegressionCV, LinearRegression\n",
        "from sklearn.dummy import DummyClassifier"
      ],
      "execution_count": 0,
      "outputs": []
    },
    {
      "cell_type": "code",
      "metadata": {
        "id": "w7yNFCjyYTn4",
        "colab_type": "code",
        "outputId": "8a444c8d-6256-42cc-f3b0-3695ca1283e3",
        "colab": {
          "base_uri": "https://localhost:8080/",
          "height": 67
        }
      },
      "source": [
        "# Will do two different baselines with the dummyClassifier\n",
        "# Will show the accuracy if we just choose the \"most common\" and if we \n",
        "# choose a choice being stratified \n",
        "t = 'prior'\n",
        "u = 'stratified'\n",
        "v = 'most_frequent'\n",
        "\n",
        "model = DummyClassifier(strategy=t, random_state=42)\n",
        "model.fit(train, y_train)\n",
        "y_pred = model.predict(train)\n",
        "acc = accuracy_score(y_train, y_pred)\n",
        "\n",
        "print(f\"Baseline for the {t} is {acc:.2f}\")\n",
        "\n",
        "model = DummyClassifier(strategy=u, random_state=42)\n",
        "model.fit(train, y_train)\n",
        "y_pred = model.predict(train)\n",
        "acc = accuracy_score(y_train, y_pred)\n",
        "\n",
        "print(f\"Baseline for the {u} is {acc:.2f}\")\n",
        "\n",
        "model = DummyClassifier(strategy=v, random_state=42)\n",
        "model.fit(train, y_train)\n",
        "y_pred = model.predict(train)\n",
        "acc = accuracy_score(y_train, y_pred)\n",
        "\n",
        "print(f\"Baseline for the {v} is {acc:.2f}\")\n",
        "\n",
        "\n",
        "# So our baseline is at around 59 percent"
      ],
      "execution_count": 282,
      "outputs": [
        {
          "output_type": "stream",
          "text": [
            "Baseline for the prior is 0.59\n",
            "Baseline for the stratified is 0.45\n",
            "Baseline for the most_frequent is 0.59\n"
          ],
          "name": "stdout"
        }
      ]
    },
    {
      "cell_type": "code",
      "metadata": {
        "id": "mwabvE4XZR7N",
        "colab_type": "code",
        "outputId": "c58153a0-7ace-424e-b6ff-4e98f60fe760",
        "colab": {
          "base_uri": "https://localhost:8080/",
          "height": 1000
        }
      },
      "source": [
        "# Want to look at the Null values to help to choose the features that I will use(keep)\n",
        "\n",
        "print(train.shape)\n",
        "train.isnull().sum()\n"
      ],
      "execution_count": 283,
      "outputs": [
        {
          "output_type": "stream",
          "text": [
            "(298, 58)\n"
          ],
          "name": "stdout"
        },
        {
          "output_type": "execute_result",
          "data": {
            "text/plain": [
              "Burrito             0\n",
              "Date                0\n",
              "Yelp              227\n",
              "Google            227\n",
              "Chips             276\n",
              "Cost                6\n",
              "Hunger              1\n",
              "Mass (g)          298\n",
              "Density (g/mL)    298\n",
              "Length            123\n",
              "Circum            124\n",
              "Volume            124\n",
              "Tortilla            0\n",
              "Temp               15\n",
              "Meat               10\n",
              "Fillings            1\n",
              "Meat:filling        6\n",
              "Uniformity          2\n",
              "Salsa              20\n",
              "Synergy             2\n",
              "Wrap                2\n",
              "Unreliable        271\n",
              "NonSD             293\n",
              "Beef              130\n",
              "Pico              155\n",
              "Guac              159\n",
              "Cheese            149\n",
              "Fries             179\n",
              "Sour cream        213\n",
              "Pork              255\n",
              "Chicken           278\n",
              "Shrimp            278\n",
              "Fish              293\n",
              "Rice              265\n",
              "Beans             266\n",
              "Lettuce           287\n",
              "Tomato            291\n",
              "Bell peper        291\n",
              "Carrots           297\n",
              "Cabbage           291\n",
              "Sauce             261\n",
              "Salsa.1           292\n",
              "Cilantro          283\n",
              "Onion             281\n",
              "Taquito           294\n",
              "Pineapple         291\n",
              "Ham               297\n",
              "Chile relleno     294\n",
              "Nopales           294\n",
              "Lobster           297\n",
              "Queso             298\n",
              "Egg               294\n",
              "Mushroom          295\n",
              "Bacon             295\n",
              "Sushi             296\n",
              "Avocado           285\n",
              "Corn              296\n",
              "Zucchini          297\n",
              "dtype: int64"
            ]
          },
          "metadata": {
            "tags": []
          },
          "execution_count": 283
        }
      ]
    },
    {
      "cell_type": "code",
      "metadata": {
        "id": "_u0WSR1_vnAJ",
        "colab_type": "code",
        "outputId": "b16ba6f3-b0df-4897-8602-2b203134116e",
        "colab": {
          "base_uri": "https://localhost:8080/",
          "height": 300
        }
      },
      "source": [
        "train['Tortilla'].value_counts()"
      ],
      "execution_count": 284,
      "outputs": [
        {
          "output_type": "execute_result",
          "data": {
            "text/plain": [
              "4.00    92\n",
              "3.00    72\n",
              "3.50    45\n",
              "2.00    21\n",
              "4.50    19\n",
              "5.00    15\n",
              "2.50    15\n",
              "1.50     6\n",
              "3.80     5\n",
              "3.60     2\n",
              "1.40     1\n",
              "2.80     1\n",
              "3.20     1\n",
              "2.10     1\n",
              "4.80     1\n",
              "3.75     1\n",
              "Name: Tortilla, dtype: int64"
            ]
          },
          "metadata": {
            "tags": []
          },
          "execution_count": 284
        }
      ]
    },
    {
      "cell_type": "code",
      "metadata": {
        "id": "SR2G8-lBrsl8",
        "colab_type": "code",
        "outputId": "c6dac3b7-cc64-4c20-b8b3-d8b6720eca61",
        "colab": {
          "base_uri": "https://localhost:8080/",
          "height": 67
        }
      },
      "source": [
        "train['Unreliable'].value_counts(dropna=False)"
      ],
      "execution_count": 285,
      "outputs": [
        {
          "output_type": "execute_result",
          "data": {
            "text/plain": [
              "NaN    271\n",
              "x       27\n",
              "Name: Unreliable, dtype: int64"
            ]
          },
          "metadata": {
            "tags": []
          },
          "execution_count": 285
        }
      ]
    },
    {
      "cell_type": "code",
      "metadata": {
        "id": "ZmEMFp13sJQr",
        "colab_type": "code",
        "outputId": "e5e931d4-02b6-43c2-d4a8-ec9d58aa4461",
        "colab": {
          "base_uri": "https://localhost:8080/",
          "height": 467
        }
      },
      "source": [
        "train['Length'].value_counts(dropna=False)"
      ],
      "execution_count": 286,
      "outputs": [
        {
          "output_type": "execute_result",
          "data": {
            "text/plain": [
              "NaN      123\n",
              "20.00     20\n",
              "19.00     19\n",
              "18.50     16\n",
              "18.00     16\n",
              "19.50     13\n",
              "20.50     13\n",
              "22.00     10\n",
              "23.00      9\n",
              "22.50      9\n",
              "17.00      9\n",
              "21.00      8\n",
              "17.50      7\n",
              "21.50      7\n",
              "16.50      5\n",
              "23.50      3\n",
              "25.50      2\n",
              "17.78      1\n",
              "20.75      1\n",
              "15.00      1\n",
              "16.00      1\n",
              "25.00      1\n",
              "15.50      1\n",
              "26.00      1\n",
              "24.00      1\n",
              "17.70      1\n",
              "Name: Length, dtype: int64"
            ]
          },
          "metadata": {
            "tags": []
          },
          "execution_count": 286
        }
      ]
    },
    {
      "cell_type": "code",
      "metadata": {
        "id": "eME6aX9qsqLi",
        "colab_type": "code",
        "outputId": "cb68c674-567a-4f10-aae1-1dc08ad2c281",
        "colab": {
          "base_uri": "https://localhost:8080/",
          "height": 433
        }
      },
      "source": [
        "train['Meat:filling'].value_counts(dropna=False)"
      ],
      "execution_count": 287,
      "outputs": [
        {
          "output_type": "execute_result",
          "data": {
            "text/plain": [
              "4.00    83\n",
              "3.00    39\n",
              "3.50    32\n",
              "5.00    32\n",
              "4.50    30\n",
              "2.00    21\n",
              "2.50    18\n",
              "1.50    10\n",
              "1.00     9\n",
              "NaN      6\n",
              "4.70     3\n",
              "3.75     3\n",
              "3.78     1\n",
              "2.90     1\n",
              "3.40     1\n",
              "3.60     1\n",
              "0.50     1\n",
              "4.80     1\n",
              "4.20     1\n",
              "2.80     1\n",
              "3.20     1\n",
              "1.40     1\n",
              "3.80     1\n",
              "3.70     1\n",
              "Name: Meat:filling, dtype: int64"
            ]
          },
          "metadata": {
            "tags": []
          },
          "execution_count": 287
        }
      ]
    },
    {
      "cell_type": "code",
      "metadata": {
        "id": "SxW-hLZjeqlS",
        "colab_type": "code",
        "outputId": "e47cd44d-0383-4f27-9733-022358110426",
        "colab": {
          "base_uri": "https://localhost:8080/",
          "height": 175
        }
      },
      "source": [
        "train.head(2)"
      ],
      "execution_count": 288,
      "outputs": [
        {
          "output_type": "execute_result",
          "data": {
            "text/html": [
              "<div>\n",
              "<style scoped>\n",
              "    .dataframe tbody tr th:only-of-type {\n",
              "        vertical-align: middle;\n",
              "    }\n",
              "\n",
              "    .dataframe tbody tr th {\n",
              "        vertical-align: top;\n",
              "    }\n",
              "\n",
              "    .dataframe thead th {\n",
              "        text-align: right;\n",
              "    }\n",
              "</style>\n",
              "<table border=\"1\" class=\"dataframe\">\n",
              "  <thead>\n",
              "    <tr style=\"text-align: right;\">\n",
              "      <th></th>\n",
              "      <th>Burrito</th>\n",
              "      <th>Date</th>\n",
              "      <th>Yelp</th>\n",
              "      <th>Google</th>\n",
              "      <th>Chips</th>\n",
              "      <th>Cost</th>\n",
              "      <th>Hunger</th>\n",
              "      <th>Mass (g)</th>\n",
              "      <th>Density (g/mL)</th>\n",
              "      <th>Length</th>\n",
              "      <th>Circum</th>\n",
              "      <th>Volume</th>\n",
              "      <th>Tortilla</th>\n",
              "      <th>Temp</th>\n",
              "      <th>Meat</th>\n",
              "      <th>Fillings</th>\n",
              "      <th>Meat:filling</th>\n",
              "      <th>Uniformity</th>\n",
              "      <th>Salsa</th>\n",
              "      <th>Synergy</th>\n",
              "      <th>Wrap</th>\n",
              "      <th>Unreliable</th>\n",
              "      <th>NonSD</th>\n",
              "      <th>Beef</th>\n",
              "      <th>Pico</th>\n",
              "      <th>Guac</th>\n",
              "      <th>Cheese</th>\n",
              "      <th>Fries</th>\n",
              "      <th>Sour cream</th>\n",
              "      <th>Pork</th>\n",
              "      <th>Chicken</th>\n",
              "      <th>Shrimp</th>\n",
              "      <th>Fish</th>\n",
              "      <th>Rice</th>\n",
              "      <th>Beans</th>\n",
              "      <th>Lettuce</th>\n",
              "      <th>Tomato</th>\n",
              "      <th>Bell peper</th>\n",
              "      <th>Carrots</th>\n",
              "      <th>Cabbage</th>\n",
              "      <th>Sauce</th>\n",
              "      <th>Salsa.1</th>\n",
              "      <th>Cilantro</th>\n",
              "      <th>Onion</th>\n",
              "      <th>Taquito</th>\n",
              "      <th>Pineapple</th>\n",
              "      <th>Ham</th>\n",
              "      <th>Chile relleno</th>\n",
              "      <th>Nopales</th>\n",
              "      <th>Lobster</th>\n",
              "      <th>Queso</th>\n",
              "      <th>Egg</th>\n",
              "      <th>Mushroom</th>\n",
              "      <th>Bacon</th>\n",
              "      <th>Sushi</th>\n",
              "      <th>Avocado</th>\n",
              "      <th>Corn</th>\n",
              "      <th>Zucchini</th>\n",
              "    </tr>\n",
              "  </thead>\n",
              "  <tbody>\n",
              "    <tr>\n",
              "      <th>0</th>\n",
              "      <td>California</td>\n",
              "      <td>2016-01-18</td>\n",
              "      <td>3.5</td>\n",
              "      <td>4.2</td>\n",
              "      <td>NaN</td>\n",
              "      <td>6.49</td>\n",
              "      <td>3.0</td>\n",
              "      <td>NaN</td>\n",
              "      <td>NaN</td>\n",
              "      <td>NaN</td>\n",
              "      <td>NaN</td>\n",
              "      <td>NaN</td>\n",
              "      <td>3.0</td>\n",
              "      <td>5.0</td>\n",
              "      <td>3.0</td>\n",
              "      <td>3.5</td>\n",
              "      <td>4.0</td>\n",
              "      <td>4.0</td>\n",
              "      <td>4.0</td>\n",
              "      <td>4.0</td>\n",
              "      <td>4.0</td>\n",
              "      <td>NaN</td>\n",
              "      <td>NaN</td>\n",
              "      <td>x</td>\n",
              "      <td>x</td>\n",
              "      <td>x</td>\n",
              "      <td>x</td>\n",
              "      <td>x</td>\n",
              "      <td>NaN</td>\n",
              "      <td>NaN</td>\n",
              "      <td>NaN</td>\n",
              "      <td>NaN</td>\n",
              "      <td>NaN</td>\n",
              "      <td>NaN</td>\n",
              "      <td>NaN</td>\n",
              "      <td>NaN</td>\n",
              "      <td>NaN</td>\n",
              "      <td>NaN</td>\n",
              "      <td>NaN</td>\n",
              "      <td>NaN</td>\n",
              "      <td>NaN</td>\n",
              "      <td>NaN</td>\n",
              "      <td>NaN</td>\n",
              "      <td>NaN</td>\n",
              "      <td>NaN</td>\n",
              "      <td>NaN</td>\n",
              "      <td>NaN</td>\n",
              "      <td>NaN</td>\n",
              "      <td>NaN</td>\n",
              "      <td>NaN</td>\n",
              "      <td>NaN</td>\n",
              "      <td>NaN</td>\n",
              "      <td>NaN</td>\n",
              "      <td>NaN</td>\n",
              "      <td>NaN</td>\n",
              "      <td>NaN</td>\n",
              "      <td>NaN</td>\n",
              "      <td>NaN</td>\n",
              "    </tr>\n",
              "    <tr>\n",
              "      <th>1</th>\n",
              "      <td>California</td>\n",
              "      <td>2016-01-24</td>\n",
              "      <td>3.5</td>\n",
              "      <td>3.3</td>\n",
              "      <td>NaN</td>\n",
              "      <td>5.45</td>\n",
              "      <td>3.5</td>\n",
              "      <td>NaN</td>\n",
              "      <td>NaN</td>\n",
              "      <td>NaN</td>\n",
              "      <td>NaN</td>\n",
              "      <td>NaN</td>\n",
              "      <td>2.0</td>\n",
              "      <td>3.5</td>\n",
              "      <td>2.5</td>\n",
              "      <td>2.5</td>\n",
              "      <td>2.0</td>\n",
              "      <td>4.0</td>\n",
              "      <td>3.5</td>\n",
              "      <td>2.5</td>\n",
              "      <td>5.0</td>\n",
              "      <td>NaN</td>\n",
              "      <td>NaN</td>\n",
              "      <td>x</td>\n",
              "      <td>x</td>\n",
              "      <td>x</td>\n",
              "      <td>x</td>\n",
              "      <td>x</td>\n",
              "      <td>NaN</td>\n",
              "      <td>NaN</td>\n",
              "      <td>NaN</td>\n",
              "      <td>NaN</td>\n",
              "      <td>NaN</td>\n",
              "      <td>NaN</td>\n",
              "      <td>NaN</td>\n",
              "      <td>NaN</td>\n",
              "      <td>NaN</td>\n",
              "      <td>NaN</td>\n",
              "      <td>NaN</td>\n",
              "      <td>NaN</td>\n",
              "      <td>NaN</td>\n",
              "      <td>NaN</td>\n",
              "      <td>NaN</td>\n",
              "      <td>NaN</td>\n",
              "      <td>NaN</td>\n",
              "      <td>NaN</td>\n",
              "      <td>NaN</td>\n",
              "      <td>NaN</td>\n",
              "      <td>NaN</td>\n",
              "      <td>NaN</td>\n",
              "      <td>NaN</td>\n",
              "      <td>NaN</td>\n",
              "      <td>NaN</td>\n",
              "      <td>NaN</td>\n",
              "      <td>NaN</td>\n",
              "      <td>NaN</td>\n",
              "      <td>NaN</td>\n",
              "      <td>NaN</td>\n",
              "    </tr>\n",
              "  </tbody>\n",
              "</table>\n",
              "</div>"
            ],
            "text/plain": [
              "      Burrito       Date  Yelp  Google Chips  ...  Bacon  Sushi  Avocado  Corn  Zucchini\n",
              "0  California 2016-01-18   3.5     4.2   NaN  ...    NaN    NaN      NaN   NaN       NaN\n",
              "1  California 2016-01-24   3.5     3.3   NaN  ...    NaN    NaN      NaN   NaN       NaN\n",
              "\n",
              "[2 rows x 58 columns]"
            ]
          },
          "metadata": {
            "tags": []
          },
          "execution_count": 288
        }
      ]
    },
    {
      "cell_type": "code",
      "metadata": {
        "id": "SxiaGksjq8Gt",
        "colab_type": "code",
        "colab": {}
      },
      "source": [
        "# These are the columsn that we will change the NAN to a 'N' so that these\n",
        "# colums can be then seen as categorical\n",
        "theBinaryCol = ['Chips','Unreliable', 'NonSD', 'Beef', 'Pico', 'Guac',\n",
        "       'Cheese', 'Fries', 'Sour cream', 'Pork', 'Chicken', 'Shrimp', 'Fish',\n",
        "       'Rice', 'Beans', 'Lettuce', 'Tomato', 'Bell peper', 'Carrots',\n",
        "       'Cabbage', 'Sauce', 'Salsa.1', 'Cilantro', 'Onion', 'Taquito',\n",
        "       'Pineapple', 'Ham', 'Chile relleno', 'Nopales', 'Lobster',\n",
        "       'Egg', 'Mushroom', 'Bacon', 'Sushi', 'Avocado', 'Corn', 'Zucchini']"
      ],
      "execution_count": 0,
      "outputs": []
    },
    {
      "cell_type": "code",
      "metadata": {
        "id": "teym9ms9woaH",
        "colab_type": "code",
        "outputId": "a6cc8c36-6987-4716-a37f-5d77ce4deb70",
        "colab": {
          "base_uri": "https://localhost:8080/",
          "height": 50
        }
      },
      "source": [
        "# Will drop this because they are all absent\n",
        "train['Queso'].value_counts(dropna=False)"
      ],
      "execution_count": 290,
      "outputs": [
        {
          "output_type": "execute_result",
          "data": {
            "text/plain": [
              "NaN    298\n",
              "Name: Queso, dtype: int64"
            ]
          },
          "metadata": {
            "tags": []
          },
          "execution_count": 290
        }
      ]
    },
    {
      "cell_type": "code",
      "metadata": {
        "id": "FJTXzBo6wTbC",
        "colab_type": "code",
        "outputId": "566de543-90f2-465b-c4a6-df7f5b21b64d",
        "colab": {
          "base_uri": "https://localhost:8080/",
          "height": 650
        }
      },
      "source": [
        "# Looking at the binary features to see the dtypes\n",
        "train[theBinaryCol].dtypes"
      ],
      "execution_count": 291,
      "outputs": [
        {
          "output_type": "execute_result",
          "data": {
            "text/plain": [
              "Chips            object\n",
              "Unreliable       object\n",
              "NonSD            object\n",
              "Beef             object\n",
              "Pico             object\n",
              "Guac             object\n",
              "Cheese           object\n",
              "Fries            object\n",
              "Sour cream       object\n",
              "Pork             object\n",
              "Chicken          object\n",
              "Shrimp           object\n",
              "Fish             object\n",
              "Rice             object\n",
              "Beans            object\n",
              "Lettuce          object\n",
              "Tomato           object\n",
              "Bell peper       object\n",
              "Carrots          object\n",
              "Cabbage          object\n",
              "Sauce            object\n",
              "Salsa.1          object\n",
              "Cilantro         object\n",
              "Onion            object\n",
              "Taquito          object\n",
              "Pineapple        object\n",
              "Ham              object\n",
              "Chile relleno    object\n",
              "Nopales          object\n",
              "Lobster          object\n",
              "Egg              object\n",
              "Mushroom         object\n",
              "Bacon            object\n",
              "Sushi            object\n",
              "Avocado          object\n",
              "Corn             object\n",
              "Zucchini         object\n",
              "dtype: object"
            ]
          },
          "metadata": {
            "tags": []
          },
          "execution_count": 291
        }
      ]
    },
    {
      "cell_type": "code",
      "metadata": {
        "id": "nLGV7hiXfC0G",
        "colab_type": "code",
        "colab": {}
      },
      "source": [
        "\n",
        "# These are the values that we will drop\n",
        "dropCols = ['Yelp', 'Google','Mass (g)', 'Density (g/mL)',\n",
        "        'Length', 'Circum', 'Volume',  'Queso', 'Date' ]\n"
      ],
      "execution_count": 0,
      "outputs": []
    },
    {
      "cell_type": "code",
      "metadata": {
        "id": "NvOg4S9Ex4VX",
        "colab_type": "code",
        "colab": {}
      },
      "source": [
        "# Creating a method that will apply on \n",
        "# all the binary colums where \"n\" is placed in the \n",
        "# place of NAN\n",
        "# It will then make sure the x is lower case\n",
        "\n",
        "# another inner function for the removeNan\n",
        "def fixString(theString):\n",
        "  aStr = str(theString)\n",
        "  aStr = aStr.lower()\n",
        "  aStr = aStr.strip()\n",
        "  return aStr\n",
        "\n",
        "def removeNAN(dataFrame):\n",
        "  theCopy = dataFrame.copy()\n",
        "  for col in theBinaryCol:\n",
        "     theCopy[col] = theCopy[col].fillna(value='n')\n",
        "     theCopy[col] = theCopy[col]\n",
        "     # Doing the apply of the fixString\n",
        "     theCopy[col] = theCopy[col].apply(fixString)\n",
        "  return theCopy"
      ],
      "execution_count": 0,
      "outputs": []
    },
    {
      "cell_type": "code",
      "metadata": {
        "id": "Scf-n4rU5m5Q",
        "colab_type": "code",
        "colab": {}
      },
      "source": [
        "# Creating the function to clean the data\n",
        "# Will still have some NAN that need to be imputed\n",
        "# and the some categorical features can be one hot encoded\n",
        "def prepareData(dataFrame):\n",
        "  dataFrame = removeNAN(dataFrame)\n",
        "  dataFrame = dataFrame.drop(labels=dropCols, axis=1)\n",
        "\n",
        "\n",
        "  return dataFrame"
      ],
      "execution_count": 0,
      "outputs": []
    },
    {
      "cell_type": "code",
      "metadata": {
        "id": "2nHjh9od4DkS",
        "colab_type": "code",
        "colab": {}
      },
      "source": [
        "# Fixing the train set\n",
        "X_train = prepareData(train)\n",
        "X_val = prepareData(val)\n",
        "X_test = prepareData(test)"
      ],
      "execution_count": 0,
      "outputs": []
    },
    {
      "cell_type": "code",
      "metadata": {
        "id": "wXnPPprY_-1a",
        "colab_type": "code",
        "colab": {}
      },
      "source": [
        "# importing the category encoder to do one hot encoding\n",
        "# importing for the imputer and scaler\n",
        "from sklearn.preprocessing import StandardScaler\n",
        "import category_encoders as ce\n",
        "from sklearn.impute import SimpleImputer"
      ],
      "execution_count": 0,
      "outputs": []
    },
    {
      "cell_type": "code",
      "metadata": {
        "id": "K6MNe1Udk1s6",
        "colab_type": "code",
        "outputId": "73b62c60-84b5-4af5-90dd-f55a86991afd",
        "colab": {
          "base_uri": "https://localhost:8080/",
          "height": 33
        }
      },
      "source": [
        "# Doing the encoding for the train and the val\n",
        "encoder = ce.OneHotEncoder(use_cat_names=True)\n",
        "x_train_encoded = encoder.fit_transform(X_train)\n",
        "x_val_encoded = encoder.transform(X_val)\n",
        "print(x_train_encoded.shape, x_val_encoded.shape)"
      ],
      "execution_count": 297,
      "outputs": [
        {
          "output_type": "stream",
          "text": [
            "(298, 90) (85, 90)\n"
          ],
          "name": "stdout"
        }
      ]
    },
    {
      "cell_type": "code",
      "metadata": {
        "id": "jIs50cLObutY",
        "colab_type": "code",
        "colab": {
          "base_uri": "https://localhost:8080/",
          "height": 383
        },
        "outputId": "8441c8c7-3404-4842-d836-4434c100fd8a"
      },
      "source": [
        "# Looking to see the types that are missing values\n",
        "theNulls =[]\n",
        "for col in x_train_encoded.columns:\n",
        "  if x_train_encoded[col].isnull().sum() >= 1:\n",
        "    theNulls.append(col)\n",
        "print(x_train_encoded[theNulls].dtypes)\n",
        "x_train_encoded[theNulls].isnull().sum()"
      ],
      "execution_count": 298,
      "outputs": [
        {
          "output_type": "stream",
          "text": [
            "Cost            float64\n",
            "Hunger          float64\n",
            "Temp            float64\n",
            "Meat            float64\n",
            "Fillings        float64\n",
            "Meat:filling    float64\n",
            "Uniformity      float64\n",
            "Salsa           float64\n",
            "Synergy         float64\n",
            "Wrap            float64\n",
            "dtype: object\n"
          ],
          "name": "stdout"
        },
        {
          "output_type": "execute_result",
          "data": {
            "text/plain": [
              "Cost             6\n",
              "Hunger           1\n",
              "Temp            15\n",
              "Meat            10\n",
              "Fillings         1\n",
              "Meat:filling     6\n",
              "Uniformity       2\n",
              "Salsa           20\n",
              "Synergy          2\n",
              "Wrap             2\n",
              "dtype: int64"
            ]
          },
          "metadata": {
            "tags": []
          },
          "execution_count": 298
        }
      ]
    },
    {
      "cell_type": "code",
      "metadata": {
        "id": "vwD7h3cRl1yQ",
        "colab_type": "code",
        "colab": {}
      },
      "source": [
        "# Will impute some of the missing data\n",
        "imputer = SimpleImputer(strategy='mean')\n",
        "x_train_imputed = imputer.fit_transform(x_train_encoded)\n",
        "x_val_imputed = imputer.transform(x_val_encoded)"
      ],
      "execution_count": 0,
      "outputs": []
    },
    {
      "cell_type": "code",
      "metadata": {
        "id": "84fIHF1tbiny",
        "colab_type": "code",
        "colab": {}
      },
      "source": [
        "# Doing the scaling\n",
        "scaler = StandardScaler()\n",
        "x_train_scaled = scaler.fit_transform(x_train_imputed)\n",
        "x_val_scaled = scaler.transform(x_val_imputed)"
      ],
      "execution_count": 0,
      "outputs": []
    },
    {
      "cell_type": "code",
      "metadata": {
        "id": "E5aB4E-i193e",
        "colab_type": "code",
        "colab": {
          "base_uri": "https://localhost:8080/",
          "height": 33
        },
        "outputId": "707faf81-5ab7-401f-8360-9e1d3da1af68"
      },
      "source": [
        "print(x_train_scaled.shape, y_train.shape)"
      ],
      "execution_count": 301,
      "outputs": [
        {
          "output_type": "stream",
          "text": [
            "(298, 90) (298,)\n"
          ],
          "name": "stdout"
        }
      ]
    },
    {
      "cell_type": "code",
      "metadata": {
        "id": "LiOBIB3pzqG2",
        "colab_type": "code",
        "colab": {
          "base_uri": "https://localhost:8080/",
          "height": 33
        },
        "outputId": "aec58742-6fc8-4183-d39b-a24841ad0f6b"
      },
      "source": [
        "# Doing the predicting on the validation set \n",
        "modelReg = LogisticRegressionCV(cv=5, n_jobs=None, random_state=42, max_iter=2000)\n",
        "modelReg.fit(x_train_scaled, y_train)\n",
        "print(f\"The Validation accuracy is: {model.score(x_val_scaled, y_val)}\")\n"
      ],
      "execution_count": 302,
      "outputs": [
        {
          "output_type": "stream",
          "text": [
            "The Validation accuracy is: 0.5529411764705883\n"
          ],
          "name": "stdout"
        }
      ]
    },
    {
      "cell_type": "code",
      "metadata": {
        "id": "6H6E16vG2e9U",
        "colab_type": "code",
        "colab": {}
      },
      "source": [
        "# Will be using the kbest to find the best number of features\n",
        "# and then will try it again\n",
        "from sklearn.feature_selection import SelectKBest\n",
        "from sklearn.feature_selection import f_classif"
      ],
      "execution_count": 0,
      "outputs": []
    },
    {
      "cell_type": "code",
      "metadata": {
        "id": "90rQx9xs3Qqx",
        "colab_type": "code",
        "colab": {
          "base_uri": "https://localhost:8080/",
          "height": 67
        },
        "outputId": "05b8cd24-e16c-4fa8-9b3e-bc1c9b81698a"
      },
      "source": [
        "theAcc = 0\n",
        "numFeatures  = 0\n",
        "theNewVal = 0\n",
        "for i in range(1, len(x_train_scaled[0]) + 1):\n",
        "  kBest = SelectKBest(score_func=f_classif, k=i)\n",
        "  trainNew = kBest.fit_transform(x_train_scaled, y_train)\n",
        "  valNew = kBest.transform(x_val_scaled)\n",
        "  model = LogisticRegressionCV(random_state=42, cv=5, max_iter=2000)\n",
        "  model.fit(trainNew, y_train)\n",
        "  score = model.score(valNew, y_val)\n",
        "  if theAcc < score:\n",
        "    numFeatures = i\n",
        "    theNewVal = valNew\n",
        "    theAcc = score\n",
        "print(f\"The best using kBest first is as follows:\")\n",
        "print(f\"The number of features is: {i}\")\n",
        "print(f\"The Accuracy is: {theAcc}\")"
      ],
      "execution_count": 304,
      "outputs": [
        {
          "output_type": "stream",
          "text": [
            "The best using kBest first is as follows:\n",
            "The number of features is: 90\n",
            "The Accuracy is: 0.9176470588235294\n"
          ],
          "name": "stdout"
        }
      ]
    },
    {
      "cell_type": "code",
      "metadata": {
        "id": "HhiQNQIj05oF",
        "colab_type": "code",
        "colab": {
          "base_uri": "https://localhost:8080/",
          "height": 50
        },
        "outputId": "f9621c47-e2b8-45c5-c553-2e7f432618e9"
      },
      "source": [
        "# Will try the model from the kBest on the test set to see the quality\n",
        "\n",
        "x_test_encoded = encoder.transform(X_test)\n",
        "\n",
        "x_test_imputed = imputer.transform(x_test_encoded)\n",
        "\n",
        "x_test_scaled = scaler.transform(x_test_imputed)\n",
        "\n",
        "y_pred = model.predict(x_test_scaled)\n",
        "\n",
        "acc = accuracy_score(y_test, y_pred)\n",
        "\n",
        "print(f\"This is using the kBest\")\n",
        "print(f\"The accuracy for the test is: {acc:.5f}\")\n",
        "\n"
      ],
      "execution_count": 305,
      "outputs": [
        {
          "output_type": "stream",
          "text": [
            "This is using the kBest\n",
            "The accuracy for the test is: 0.71053\n"
          ],
          "name": "stdout"
        }
      ]
    },
    {
      "cell_type": "code",
      "metadata": {
        "id": "Nx-3414dBI9i",
        "colab_type": "code",
        "colab": {}
      },
      "source": [
        ""
      ],
      "execution_count": 0,
      "outputs": []
    }
  ]
}