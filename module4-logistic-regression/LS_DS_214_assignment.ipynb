{
  "nbformat": 4,
  "nbformat_minor": 0,
  "metadata": {
    "kernelspec": {
      "display_name": "Python 3",
      "language": "python",
      "name": "python3"
    },
    "language_info": {
      "codemirror_mode": {
        "name": "ipython",
        "version": 3
      },
      "file_extension": ".py",
      "mimetype": "text/x-python",
      "name": "python",
      "nbconvert_exporter": "python",
      "pygments_lexer": "ipython3",
      "version": "3.7.3"
    },
    "colab": {
      "name": "Dan Anderson LS_DS_214_assignment.ipynb",
      "provenance": [],
      "collapsed_sections": []
    }
  },
  "cells": [
    {
      "cell_type": "markdown",
      "metadata": {
        "id": "4jJS_eORU44H",
        "colab_type": "text"
      },
      "source": [
        "Lambda School Data Science\n",
        "\n",
        "*Unit 2, Sprint 1, Module 4*\n",
        "\n",
        "---"
      ]
    },
    {
      "cell_type": "markdown",
      "metadata": {
        "colab_type": "text",
        "id": "7IXUfiQ2UKj6"
      },
      "source": [
        "# Logistic Regression\n",
        "\n",
        "\n",
        "## Assignment 🌯\n",
        "\n",
        "You'll use a [**dataset of 400+ burrito reviews**](https://srcole.github.io/100burritos/). How accurately can you predict whether a burrito is rated 'Great'?\n",
        "\n",
        "> We have developed a 10-dimensional system for rating the burritos in San Diego. ... Generate models for what makes a burrito great and investigate correlations in its dimensions.\n",
        "\n",
        "- [ ] Do train/validate/test split. Train on reviews from 2016 & earlier. Validate on 2017. Test on 2018 & later.\n",
        "- [ ] Begin with baselines for classification.\n",
        "- [ ] Use scikit-learn for logistic regression.\n",
        "- [ ] Get your model's validation accuracy. (Multiple times if you try multiple iterations.)\n",
        "- [ ] Get your model's test accuracy. (One time, at the end.)\n",
        "- [ ] Commit your notebook to your fork of the GitHub repo.\n",
        "\n",
        "\n",
        "## Stretch Goals\n",
        "\n",
        "- [ ] Add your own stretch goal(s) !\n",
        "- [ ] Make exploratory visualizations.\n",
        "- [ ] Do one-hot encoding.\n",
        "- [ ] Do [feature scaling](https://scikit-learn.org/stable/modules/preprocessing.html).\n",
        "- [ ] Get and plot your coefficients.\n",
        "- [ ] Try [scikit-learn pipelines](https://scikit-learn.org/stable/modules/compose.html)."
      ]
    },
    {
      "cell_type": "code",
      "metadata": {
        "colab_type": "code",
        "id": "o9eSnDYhUGD7",
        "colab": {}
      },
      "source": [
        "%%capture\n",
        "import sys\n",
        "\n",
        "# If you're on Colab:\n",
        "if 'google.colab' in sys.modules:\n",
        "    DATA_PATH = 'https://raw.githubusercontent.com/LambdaSchool/DS-Unit-2-Linear-Models/master/data/'\n",
        "    !pip install category_encoders==2.*\n",
        "\n",
        "# If you're working locally:\n",
        "else:\n",
        "    DATA_PATH = '../data/'"
      ],
      "execution_count": 0,
      "outputs": []
    },
    {
      "cell_type": "code",
      "metadata": {
        "id": "C7LzE8diU44X",
        "colab_type": "code",
        "colab": {}
      },
      "source": [
        "# Load data downloaded from https://srcole.github.io/100burritos/\n",
        "import pandas as pd\n",
        "df = pd.read_csv(DATA_PATH+'burritos/burritos.csv')"
      ],
      "execution_count": 0,
      "outputs": []
    },
    {
      "cell_type": "code",
      "metadata": {
        "id": "755PbUz3U44h",
        "colab_type": "code",
        "colab": {}
      },
      "source": [
        "# Derive binary classification target:\n",
        "# We define a 'Great' burrito as having an\n",
        "# overall rating of 4 or higher, on a 5 point scale.\n",
        "# Drop unrated burritos.\n",
        "df = df.dropna(subset=['overall'])\n",
        "df['Great'] = df['overall'] >= 4"
      ],
      "execution_count": 0,
      "outputs": []
    },
    {
      "cell_type": "code",
      "metadata": {
        "id": "6bpZYx81U44n",
        "colab_type": "code",
        "colab": {}
      },
      "source": [
        "# Clean/combine the Burrito categories\n",
        "df['Burrito'] = df['Burrito'].str.lower()\n",
        "\n",
        "california = df['Burrito'].str.contains('california')\n",
        "asada = df['Burrito'].str.contains('asada')\n",
        "surf = df['Burrito'].str.contains('surf')\n",
        "carnitas = df['Burrito'].str.contains('carnitas')\n",
        "\n",
        "df.loc[california, 'Burrito'] = 'California'\n",
        "df.loc[asada, 'Burrito'] = 'Asada'\n",
        "df.loc[surf, 'Burrito'] = 'Surf & Turf'\n",
        "df.loc[carnitas, 'Burrito'] = 'Carnitas'\n",
        "df.loc[~california & ~asada & ~surf & ~carnitas, 'Burrito'] = 'Other'"
      ],
      "execution_count": 0,
      "outputs": []
    },
    {
      "cell_type": "code",
      "metadata": {
        "id": "qB2c5_FSU44t",
        "colab_type": "code",
        "colab": {}
      },
      "source": [
        "# Drop some high cardinality categoricals\n",
        "df = df.drop(columns=['Notes', 'Location', 'Reviewer', 'Address', 'URL', 'Neighborhood'])"
      ],
      "execution_count": 0,
      "outputs": []
    },
    {
      "cell_type": "code",
      "metadata": {
        "id": "DUuKhArkU44z",
        "colab_type": "code",
        "colab": {}
      },
      "source": [
        "# Drop some columns to prevent \"leakage\"\n",
        "df = df.drop(columns=['Rec', 'overall'])\n",
        "df_sub = df.copy()"
      ],
      "execution_count": 0,
      "outputs": []
    },
    {
      "cell_type": "code",
      "metadata": {
        "id": "ScfJsgMjYUmx",
        "colab_type": "code",
        "colab": {}
      },
      "source": [
        "# Split the data in train, validate, and test datasets\n",
        "df_sub['Date'] = pd.to_datetime(df['Date'], infer_datetime_format=True)\n",
        "cutoff_trn   = pd.to_datetime('2017-01-01')\n",
        "cutoff_val_a = pd.to_datetime('2016-12-31')\n",
        "cutoff_val_b = pd.to_datetime('2018-01-01')\n",
        "cutoff_tst_a = pd.to_datetime('2017-12-31')\n",
        "cutoff_tst_b = pd.datetime.today()"
      ],
      "execution_count": 0,
      "outputs": []
    },
    {
      "cell_type": "code",
      "metadata": {
        "id": "ZI8ZJVE2ZSjv",
        "colab_type": "code",
        "colab": {}
      },
      "source": [
        "# Generate train, validate, and test dataframes by filtering on date\n",
        "df_train = df_sub[df_sub['Date'] < cutoff_trn]\n",
        "df_valdt = df_sub[((df_sub['Date'] > cutoff_val_a) & (df_sub['Date'] < cutoff_val_b))]\n",
        "df_test  = df_sub[((df_sub['Date'] > cutoff_tst_a) & (df_sub['Date'] < cutoff_tst_b))]"
      ],
      "execution_count": 0,
      "outputs": []
    },
    {
      "cell_type": "code",
      "metadata": {
        "id": "54noaH9Icns1",
        "colab_type": "code",
        "colab": {}
      },
      "source": [
        "# Construct dependent and outcome datasets for the train, validate, and test dataframes\n",
        "df_train_X = df_train.drop(columns=['Great'])\n",
        "df_train_y = df_train['Great']\n",
        "\n",
        "df_valdt_X = df_valdt.drop(columns=['Great'])\n",
        "df_valdt_y = df_valdt['Great']\n",
        "\n",
        "df_test_X  = df_test.drop(columns=['Great'])\n",
        "df_test_y  = df_test['Great']"
      ],
      "execution_count": 0,
      "outputs": []
    },
    {
      "cell_type": "code",
      "metadata": {
        "id": "OqOSF3XwgQ0a",
        "colab_type": "code",
        "colab": {
          "base_uri": "https://localhost:8080/",
          "height": 34
        },
        "outputId": "a3cac527-b8bd-44d0-cf42-78b60329754f"
      },
      "source": [
        "# Generate Baseline predictions\n",
        "from sklearn.dummy import DummyClassifier\n",
        "from sklearn.metrics import accuracy_score\n",
        "\n",
        "# \"Fit\" the DummyClassifier model\n",
        "bselne = DummyClassifier(strategy='most_frequent')\n",
        "bselne.fit(df_train_X, df_train_y)\n",
        "\n",
        "# Calculate predictions using the validate dataset\n",
        "tmp_pred_y = bselne.predict(df_valdt_X)\n",
        "# Score the accuracy of the prediction\n",
        "acc_valdt = accuracy_score(df_valdt_y, tmp_pred_y)\n",
        "\n",
        "print(f'The Dummy Classifier model yields an accuracy of: {round(acc_valdt, 4)}')"
      ],
      "execution_count": 233,
      "outputs": [
        {
          "output_type": "stream",
          "text": [
            "The Dummy Classifier model yields an accuracy of: 0.5529\n"
          ],
          "name": "stdout"
        }
      ]
    },
    {
      "cell_type": "code",
      "metadata": {
        "id": "sB86PPHM9thO",
        "colab_type": "code",
        "colab": {}
      },
      "source": [
        "# Define a set of simple, intuitive features that may predict the \"Great\" rating (more accurately than our baseline)\n",
        "features_intuitive = ['Burrito', 'Cost', 'Hunger', 'Temp', 'Meat', 'Fillings']\n",
        "target = ['Great']"
      ],
      "execution_count": 0,
      "outputs": []
    },
    {
      "cell_type": "code",
      "metadata": {
        "id": "6O62swRf_QDs",
        "colab_type": "code",
        "colab": {
          "base_uri": "https://localhost:8080/",
          "height": 34
        },
        "outputId": "59812b14-1fda-4bcf-fa3d-616755d27ff7"
      },
      "source": [
        "# Prepare a logistic regression modeling approach\n",
        "import category_encoders as ce\n",
        "from sklearn.linear_model import LogisticRegressionCV\n",
        "from sklearn.preprocessing import StandardScaler\n",
        "from sklearn.impute import SimpleImputer\n",
        "\n",
        "train_X = df_train_X[features_intuitive]\n",
        "train_y = df_train_y\n",
        "\n",
        "val_X   = df_valdt_X[features_intuitive]\n",
        "val_y   = df_valdt_y\n",
        "\n",
        "test_x  = df_test_X[features_intuitive]\n",
        "test_y  = df_test_y\n",
        "print(train_X.shape, val_X.shape, test_x.shape)"
      ],
      "execution_count": 235,
      "outputs": [
        {
          "output_type": "stream",
          "text": [
            "(298, 6) (85, 6) (37, 6)\n"
          ],
          "name": "stdout"
        }
      ]
    },
    {
      "cell_type": "code",
      "metadata": {
        "id": "LmmAuo-9F2IV",
        "colab_type": "code",
        "colab": {
          "base_uri": "https://localhost:8080/",
          "height": 34
        },
        "outputId": "615625d8-b22d-4489-b392-73321814e401"
      },
      "source": [
        "# Encode categorical data as binary data columns\n",
        "encdr = ce.OneHotEncoder(use_cat_names=True)\n",
        "train_X_encded = encdr.fit_transform(train_X)\n",
        "val_X_encded   = encdr.transform(val_X)\n",
        "test_X_encded  = encdr.transform(test_x)\n",
        "print(train_X_encded.shape, val_X_encded.shape, test_X_encded.shape)"
      ],
      "execution_count": 236,
      "outputs": [
        {
          "output_type": "stream",
          "text": [
            "(298, 10) (85, 10) (37, 10)\n"
          ],
          "name": "stdout"
        }
      ]
    },
    {
      "cell_type": "code",
      "metadata": {
        "id": "nbr6AINaG-zJ",
        "colab_type": "code",
        "colab": {}
      },
      "source": [
        "# Impute missing data values using the one hot encoded data as input\n",
        "imptr = SimpleImputer(strategy='mean')\n",
        "train_X_imptd = imptr.fit_transform(train_X_encded)\n",
        "val_X_imptd   = imptr.transform(val_X_encded)\n",
        "test_X_imptd  = imptr.transform(test_X_encded)"
      ],
      "execution_count": 0,
      "outputs": []
    },
    {
      "cell_type": "code",
      "metadata": {
        "id": "O6r0w-HdH7Fq",
        "colab_type": "code",
        "colab": {}
      },
      "source": [
        "# Scale the feature data values in using a standard method feeding the imputed data as input\n",
        "sclr = StandardScaler()\n",
        "train_X_scaled = sclr.fit_transform(train_X_imptd)\n",
        "val_X_scaled   = sclr.transform(val_X_imptd)\n",
        "test_X_scaled  = sclr.transform(test_X_imptd)"
      ],
      "execution_count": 0,
      "outputs": []
    },
    {
      "cell_type": "code",
      "metadata": {
        "id": "QtHTVE4PImee",
        "colab_type": "code",
        "colab": {
          "base_uri": "https://localhost:8080/",
          "height": 34
        },
        "outputId": "1b4065dc-7d67-480b-a19e-0b7eebf22850"
      },
      "source": [
        "# Stand up a logistic modeling object\n",
        "mdl = LogisticRegressionCV(cv=5, n_jobs=-1, random_state=42)\n",
        "# Fit the model using the scaled training independent variables and the training outcome value\n",
        "mdl.fit(train_X_scaled, train_y)\n",
        "\n",
        "# Calculate the accuracy using the validation data\n",
        "print(f'The Validation Accuracy is: {round(mdl.score(val_X_scaled, val_y), 4)}')"
      ],
      "execution_count": 239,
      "outputs": [
        {
          "output_type": "stream",
          "text": [
            "The Validation Accuracy is: 0.8824\n"
          ],
          "name": "stdout"
        }
      ]
    },
    {
      "cell_type": "code",
      "metadata": {
        "id": "Qk_Jo07hKaO2",
        "colab_type": "code",
        "colab": {
          "base_uri": "https://localhost:8080/",
          "height": 269
        },
        "outputId": "016559ed-d20b-4664-848a-42a329a2629e"
      },
      "source": [
        "# Render the regression expression terms (coefficients, variables, and intercept)\n",
        "%matplotlib inline\n",
        "coefficients = pd.Series(mdl.coef_[0], train_X_encded.columns)\n",
        "coefficients.sort_values()\n",
        "\n",
        "tmp_series = pd.Series([mdl.intercept_[0]], ['(y intercept)'])\n",
        "coefficients = coefficients.append(tmp_series)\n",
        "coefficients.plot.barh();"
      ],
      "execution_count": 240,
      "outputs": [
        {
          "output_type": "display_data",
          "data": {
            "image/png": "[encoded data removed]",
            "text/plain": [
              "<Figure size 432x288 with 1 Axes>"
            ]
          },
          "metadata": {
            "tags": []
          }
        }
      ]
    },
    {
      "cell_type": "code",
      "metadata": {
        "id": "EaUfZ52NQtuu",
        "colab_type": "code",
        "colab": {
          "base_uri": "https://localhost:8080/",
          "height": 34
        },
        "outputId": "64b6ca6f-4d0b-4198-d15b-7d887d8ce894"
      },
      "source": [
        "# Produce the score of the test data prediction\n",
        "print(f'The Test Accuracy is: {round(mdl.score(test_X_scaled, test_y), 4)}')"
      ],
      "execution_count": 241,
      "outputs": [
        {
          "output_type": "stream",
          "text": [
            "The Test Accuracy is: 0.6757\n"
          ],
          "name": "stdout"
        }
      ]
    }
  ]
}
