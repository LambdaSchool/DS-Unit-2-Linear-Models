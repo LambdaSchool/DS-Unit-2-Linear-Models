{
  "nbformat": 4,
  "nbformat_minor": 0,
  "metadata": {
    "kernelspec": {
      "display_name": "Python 3",
      "language": "python",
      "name": "python3"
    },
    "language_info": {
      "codemirror_mode": {
        "name": "ipython",
        "version": 3
      },
      "file_extension": ".py",
      "mimetype": "text/x-python",
      "name": "python",
      "nbconvert_exporter": "python",
      "pygments_lexer": "ipython3",
      "version": "3.7.3"
    },
    "colab": {
      "name": "Thursday.ipynb",
      "provenance": [],
      "collapsed_sections": [],
      "include_colab_link": true
    }
  },
  "cells": [
    {
      "cell_type": "markdown",
      "metadata": {
        "id": "view-in-github",
        "colab_type": "text"
      },
      "source": [
        "<a href=\"https://colab.research.google.com/github/repoocsov/DS-Unit-2-Linear-Models/blob/master/module4-logistic-regression/LS_DS_214_assignment.ipynb\" target=\"_parent\"><img src=\"https://colab.research.google.com/assets/colab-badge.svg\" alt=\"Open In Colab\"/></a>"
      ]
    },
    {
      "cell_type": "markdown",
      "metadata": {
        "id": "IbTSufQAbOpQ",
        "colab_type": "text"
      },
      "source": [
        "Lambda School Data Science\n",
        "\n",
        "*Unit 2, Sprint 1, Module 4*\n",
        "\n",
        "---"
      ]
    },
    {
      "cell_type": "markdown",
      "metadata": {
        "colab_type": "text",
        "id": "7IXUfiQ2UKj6"
      },
      "source": [
        "# Logistic Regression\n",
        "\n",
        "\n",
        "## Assignment 🌯\n",
        "\n",
        "You'll use a [**dataset of 400+ burrito reviews**](https://srcole.github.io/100burritos/). How accurately can you predict whether a burrito is rated 'Great'?\n",
        "\n",
        "> We have developed a 10-dimensional system for rating the burritos in San Diego. ... Generate models for what makes a burrito great and investigate correlations in its dimensions.\n",
        "\n",
        "- [x] Do train/validate/test split. Train on reviews from 2016 & earlier. Validate on 2017. Test on 2018 & later.\n",
        "- [x] Begin with baselines for classification.\n",
        "- [x] Use scikit-learn for logistic regression.\n",
        "- [x] Get your model's validation accuracy. (Multiple times if you try multiple iterations.)\n",
        "- [x] Get your model's test accuracy. (One time, at the end.)\n",
        "- [x] Commit your notebook to your fork of the GitHub repo.\n",
        "\n",
        "\n",
        "## Stretch Goals\n",
        "\n",
        "- [x] Add your own stretch goal(s) !\n",
        "- [ ] Make exploratory visualizations.\n",
        "- [x] Do one-hot encoding.\n",
        "- [ ] Do [feature scaling](https://scikit-learn.org/stable/modules/preprocessing.html).\n",
        "- [ ] Get and plot your coefficients.\n",
        "- [ ] Try [scikit-learn pipelines](https://scikit-learn.org/stable/modules/compose.html)."
      ]
    },
    {
      "cell_type": "code",
      "metadata": {
        "colab_type": "code",
        "id": "o9eSnDYhUGD7",
        "colab": {}
      },
      "source": [
        "%%capture\n",
        "import sys\n",
        "\n",
        "# If you're on Colab:\n",
        "if 'google.colab' in sys.modules:\n",
        "    DATA_PATH = 'https://raw.githubusercontent.com/LambdaSchool/DS-Unit-2-Linear-Models/master/data/'\n",
        "    !pip install category_encoders==2.*\n",
        "\n",
        "# If you're working locally:\n",
        "else:\n",
        "    DATA_PATH = '../data/'"
      ],
      "execution_count": 0,
      "outputs": []
    },
    {
      "cell_type": "code",
      "metadata": {
        "id": "17hsc1cEbOpz",
        "colab_type": "code",
        "colab": {}
      },
      "source": [
        "# Load data downloaded from https://srcole.github.io/100burritos/\n",
        "import pandas as pd\n",
        "df = pd.read_csv(DATA_PATH+'burritos/burritos.csv')"
      ],
      "execution_count": 0,
      "outputs": []
    },
    {
      "cell_type": "code",
      "metadata": {
        "id": "GxjXF3Y2bOp-",
        "colab_type": "code",
        "colab": {}
      },
      "source": [
        "# Derive binary classification target:\n",
        "# We define a 'Great' burrito as having an\n",
        "# overall rating of 4 or higher, on a 5 point scale.\n",
        "# Drop unrated burritos.\n",
        "df = df.dropna(subset=['overall'])\n",
        "df['Great'] = df['overall'] >= 4"
      ],
      "execution_count": 0,
      "outputs": []
    },
    {
      "cell_type": "code",
      "metadata": {
        "id": "eMkGkxPrbOqH",
        "colab_type": "code",
        "colab": {}
      },
      "source": [
        "# Clean/combine the Burrito categories\n",
        "df['Burrito'] = df['Burrito'].str.lower()\n",
        "\n",
        "california = df['Burrito'].str.contains('california')\n",
        "asada = df['Burrito'].str.contains('asada')\n",
        "surf = df['Burrito'].str.contains('surf')\n",
        "carnitas = df['Burrito'].str.contains('carnitas')\n",
        "\n",
        "df.loc[california, 'Burrito'] = 'California'\n",
        "df.loc[asada, 'Burrito'] = 'Asada'\n",
        "df.loc[surf, 'Burrito'] = 'Surf & Turf'\n",
        "df.loc[carnitas, 'Burrito'] = 'Carnitas'\n",
        "df.loc[~california & ~asada & ~surf & ~carnitas, 'Burrito'] = 'Other'"
      ],
      "execution_count": 0,
      "outputs": []
    },
    {
      "cell_type": "code",
      "metadata": {
        "id": "f9CklILzbOqS",
        "colab_type": "code",
        "colab": {}
      },
      "source": [
        "# Drop some high cardinality categoricals\n",
        "df = df.drop(columns=['Notes', 'Location', 'Reviewer', 'Address', 'URL', 'Neighborhood'])"
      ],
      "execution_count": 0,
      "outputs": []
    },
    {
      "cell_type": "code",
      "metadata": {
        "id": "6tFDgYtAbOqc",
        "colab_type": "code",
        "colab": {}
      },
      "source": [
        "# Drop some columns to prevent \"leakage\"\n",
        "df = df.drop(columns=['Rec', 'overall'])"
      ],
      "execution_count": 0,
      "outputs": []
    },
    {
      "cell_type": "code",
      "metadata": {
        "id": "WxS0uA5-bOqo",
        "colab_type": "code",
        "colab": {
          "base_uri": "https://localhost:8080/",
          "height": 174
        },
        "outputId": "db284ada-108d-4b22-e1d8-d1cbfb446ec9"
      },
      "source": [
        "\"\"\"\n",
        "    BEGIN ASSIGNMENT HERE\n",
        "\"\"\"\n",
        "df.head(3)"
      ],
      "execution_count": 7,
      "outputs": [
        {
          "output_type": "execute_result",
          "data": {
            "text/html": [
              "<div>\n",
              "<style scoped>\n",
              "    .dataframe tbody tr th:only-of-type {\n",
              "        vertical-align: middle;\n",
              "    }\n",
              "\n",
              "    .dataframe tbody tr th {\n",
              "        vertical-align: top;\n",
              "    }\n",
              "\n",
              "    .dataframe thead th {\n",
              "        text-align: right;\n",
              "    }\n",
              "</style>\n",
              "<table border=\"1\" class=\"dataframe\">\n",
              "  <thead>\n",
              "    <tr style=\"text-align: right;\">\n",
              "      <th></th>\n",
              "      <th>Burrito</th>\n",
              "      <th>Date</th>\n",
              "      <th>Yelp</th>\n",
              "      <th>Google</th>\n",
              "      <th>Chips</th>\n",
              "      <th>Cost</th>\n",
              "      <th>Hunger</th>\n",
              "      <th>Mass (g)</th>\n",
              "      <th>Density (g/mL)</th>\n",
              "      <th>Length</th>\n",
              "      <th>Circum</th>\n",
              "      <th>Volume</th>\n",
              "      <th>Tortilla</th>\n",
              "      <th>Temp</th>\n",
              "      <th>Meat</th>\n",
              "      <th>Fillings</th>\n",
              "      <th>Meat:filling</th>\n",
              "      <th>Uniformity</th>\n",
              "      <th>Salsa</th>\n",
              "      <th>Synergy</th>\n",
              "      <th>Wrap</th>\n",
              "      <th>Unreliable</th>\n",
              "      <th>NonSD</th>\n",
              "      <th>Beef</th>\n",
              "      <th>Pico</th>\n",
              "      <th>Guac</th>\n",
              "      <th>Cheese</th>\n",
              "      <th>Fries</th>\n",
              "      <th>Sour cream</th>\n",
              "      <th>Pork</th>\n",
              "      <th>Chicken</th>\n",
              "      <th>Shrimp</th>\n",
              "      <th>Fish</th>\n",
              "      <th>Rice</th>\n",
              "      <th>Beans</th>\n",
              "      <th>Lettuce</th>\n",
              "      <th>Tomato</th>\n",
              "      <th>Bell peper</th>\n",
              "      <th>Carrots</th>\n",
              "      <th>Cabbage</th>\n",
              "      <th>Sauce</th>\n",
              "      <th>Salsa.1</th>\n",
              "      <th>Cilantro</th>\n",
              "      <th>Onion</th>\n",
              "      <th>Taquito</th>\n",
              "      <th>Pineapple</th>\n",
              "      <th>Ham</th>\n",
              "      <th>Chile relleno</th>\n",
              "      <th>Nopales</th>\n",
              "      <th>Lobster</th>\n",
              "      <th>Queso</th>\n",
              "      <th>Egg</th>\n",
              "      <th>Mushroom</th>\n",
              "      <th>Bacon</th>\n",
              "      <th>Sushi</th>\n",
              "      <th>Avocado</th>\n",
              "      <th>Corn</th>\n",
              "      <th>Zucchini</th>\n",
              "      <th>Great</th>\n",
              "    </tr>\n",
              "  </thead>\n",
              "  <tbody>\n",
              "    <tr>\n",
              "      <th>0</th>\n",
              "      <td>California</td>\n",
              "      <td>1/18/2016</td>\n",
              "      <td>3.5</td>\n",
              "      <td>4.2</td>\n",
              "      <td>NaN</td>\n",
              "      <td>6.49</td>\n",
              "      <td>3.0</td>\n",
              "      <td>NaN</td>\n",
              "      <td>NaN</td>\n",
              "      <td>NaN</td>\n",
              "      <td>NaN</td>\n",
              "      <td>NaN</td>\n",
              "      <td>3.0</td>\n",
              "      <td>5.0</td>\n",
              "      <td>3.0</td>\n",
              "      <td>3.5</td>\n",
              "      <td>4.0</td>\n",
              "      <td>4.0</td>\n",
              "      <td>4.0</td>\n",
              "      <td>4.0</td>\n",
              "      <td>4.0</td>\n",
              "      <td>NaN</td>\n",
              "      <td>NaN</td>\n",
              "      <td>x</td>\n",
              "      <td>x</td>\n",
              "      <td>x</td>\n",
              "      <td>x</td>\n",
              "      <td>x</td>\n",
              "      <td>NaN</td>\n",
              "      <td>NaN</td>\n",
              "      <td>NaN</td>\n",
              "      <td>NaN</td>\n",
              "      <td>NaN</td>\n",
              "      <td>NaN</td>\n",
              "      <td>NaN</td>\n",
              "      <td>NaN</td>\n",
              "      <td>NaN</td>\n",
              "      <td>NaN</td>\n",
              "      <td>NaN</td>\n",
              "      <td>NaN</td>\n",
              "      <td>NaN</td>\n",
              "      <td>NaN</td>\n",
              "      <td>NaN</td>\n",
              "      <td>NaN</td>\n",
              "      <td>NaN</td>\n",
              "      <td>NaN</td>\n",
              "      <td>NaN</td>\n",
              "      <td>NaN</td>\n",
              "      <td>NaN</td>\n",
              "      <td>NaN</td>\n",
              "      <td>NaN</td>\n",
              "      <td>NaN</td>\n",
              "      <td>NaN</td>\n",
              "      <td>NaN</td>\n",
              "      <td>NaN</td>\n",
              "      <td>NaN</td>\n",
              "      <td>NaN</td>\n",
              "      <td>NaN</td>\n",
              "      <td>False</td>\n",
              "    </tr>\n",
              "    <tr>\n",
              "      <th>1</th>\n",
              "      <td>California</td>\n",
              "      <td>1/24/2016</td>\n",
              "      <td>3.5</td>\n",
              "      <td>3.3</td>\n",
              "      <td>NaN</td>\n",
              "      <td>5.45</td>\n",
              "      <td>3.5</td>\n",
              "      <td>NaN</td>\n",
              "      <td>NaN</td>\n",
              "      <td>NaN</td>\n",
              "      <td>NaN</td>\n",
              "      <td>NaN</td>\n",
              "      <td>2.0</td>\n",
              "      <td>3.5</td>\n",
              "      <td>2.5</td>\n",
              "      <td>2.5</td>\n",
              "      <td>2.0</td>\n",
              "      <td>4.0</td>\n",
              "      <td>3.5</td>\n",
              "      <td>2.5</td>\n",
              "      <td>5.0</td>\n",
              "      <td>NaN</td>\n",
              "      <td>NaN</td>\n",
              "      <td>x</td>\n",
              "      <td>x</td>\n",
              "      <td>x</td>\n",
              "      <td>x</td>\n",
              "      <td>x</td>\n",
              "      <td>NaN</td>\n",
              "      <td>NaN</td>\n",
              "      <td>NaN</td>\n",
              "      <td>NaN</td>\n",
              "      <td>NaN</td>\n",
              "      <td>NaN</td>\n",
              "      <td>NaN</td>\n",
              "      <td>NaN</td>\n",
              "      <td>NaN</td>\n",
              "      <td>NaN</td>\n",
              "      <td>NaN</td>\n",
              "      <td>NaN</td>\n",
              "      <td>NaN</td>\n",
              "      <td>NaN</td>\n",
              "      <td>NaN</td>\n",
              "      <td>NaN</td>\n",
              "      <td>NaN</td>\n",
              "      <td>NaN</td>\n",
              "      <td>NaN</td>\n",
              "      <td>NaN</td>\n",
              "      <td>NaN</td>\n",
              "      <td>NaN</td>\n",
              "      <td>NaN</td>\n",
              "      <td>NaN</td>\n",
              "      <td>NaN</td>\n",
              "      <td>NaN</td>\n",
              "      <td>NaN</td>\n",
              "      <td>NaN</td>\n",
              "      <td>NaN</td>\n",
              "      <td>NaN</td>\n",
              "      <td>False</td>\n",
              "    </tr>\n",
              "    <tr>\n",
              "      <th>2</th>\n",
              "      <td>Carnitas</td>\n",
              "      <td>1/24/2016</td>\n",
              "      <td>NaN</td>\n",
              "      <td>NaN</td>\n",
              "      <td>NaN</td>\n",
              "      <td>4.85</td>\n",
              "      <td>1.5</td>\n",
              "      <td>NaN</td>\n",
              "      <td>NaN</td>\n",
              "      <td>NaN</td>\n",
              "      <td>NaN</td>\n",
              "      <td>NaN</td>\n",
              "      <td>3.0</td>\n",
              "      <td>2.0</td>\n",
              "      <td>2.5</td>\n",
              "      <td>3.0</td>\n",
              "      <td>4.5</td>\n",
              "      <td>4.0</td>\n",
              "      <td>3.0</td>\n",
              "      <td>3.0</td>\n",
              "      <td>5.0</td>\n",
              "      <td>NaN</td>\n",
              "      <td>NaN</td>\n",
              "      <td>NaN</td>\n",
              "      <td>x</td>\n",
              "      <td>x</td>\n",
              "      <td>NaN</td>\n",
              "      <td>NaN</td>\n",
              "      <td>NaN</td>\n",
              "      <td>x</td>\n",
              "      <td>NaN</td>\n",
              "      <td>NaN</td>\n",
              "      <td>NaN</td>\n",
              "      <td>NaN</td>\n",
              "      <td>NaN</td>\n",
              "      <td>NaN</td>\n",
              "      <td>NaN</td>\n",
              "      <td>NaN</td>\n",
              "      <td>NaN</td>\n",
              "      <td>NaN</td>\n",
              "      <td>NaN</td>\n",
              "      <td>NaN</td>\n",
              "      <td>NaN</td>\n",
              "      <td>NaN</td>\n",
              "      <td>NaN</td>\n",
              "      <td>NaN</td>\n",
              "      <td>NaN</td>\n",
              "      <td>NaN</td>\n",
              "      <td>NaN</td>\n",
              "      <td>NaN</td>\n",
              "      <td>NaN</td>\n",
              "      <td>NaN</td>\n",
              "      <td>NaN</td>\n",
              "      <td>NaN</td>\n",
              "      <td>NaN</td>\n",
              "      <td>NaN</td>\n",
              "      <td>NaN</td>\n",
              "      <td>NaN</td>\n",
              "      <td>False</td>\n",
              "    </tr>\n",
              "  </tbody>\n",
              "</table>\n",
              "</div>"
            ],
            "text/plain": [
              "      Burrito       Date  Yelp  Google Chips  ...  Sushi  Avocado  Corn  Zucchini  Great\n",
              "0  California  1/18/2016   3.5     4.2   NaN  ...    NaN      NaN   NaN       NaN  False\n",
              "1  California  1/24/2016   3.5     3.3   NaN  ...    NaN      NaN   NaN       NaN  False\n",
              "2    Carnitas  1/24/2016   NaN     NaN   NaN  ...    NaN      NaN   NaN       NaN  False\n",
              "\n",
              "[3 rows x 59 columns]"
            ]
          },
          "metadata": {
            "tags": []
          },
          "execution_count": 7
        }
      ]
    },
    {
      "cell_type": "code",
      "metadata": {
        "id": "wvmqZZIYRQ5u",
        "colab_type": "code",
        "colab": {
          "base_uri": "https://localhost:8080/",
          "height": 34
        },
        "outputId": "81d250fa-4c65-4156-b71d-f7609214b9ac"
      },
      "source": [
        "\"\"\"Train/validation/test split\"\"\"\n",
        "\n",
        "# Convert to datetime and check for missing values\n",
        "df['Date'] = pd.to_datetime(df['Date'])\n",
        "df['Date'].isnull().sum()"
      ],
      "execution_count": 8,
      "outputs": [
        {
          "output_type": "execute_result",
          "data": {
            "text/plain": [
              "0"
            ]
          },
          "metadata": {
            "tags": []
          },
          "execution_count": 8
        }
      ]
    },
    {
      "cell_type": "code",
      "metadata": {
        "id": "0mGslOhgSphk",
        "colab_type": "code",
        "colab": {
          "base_uri": "https://localhost:8080/",
          "height": 52
        },
        "outputId": "7a304c4e-f4f0-45f2-b19c-4d521168cfe8"
      },
      "source": [
        "# Training data\n",
        "start_date = '01-01-1900'\n",
        "end_date = '01-01-2017'\n",
        "train = df[(df['Date'] > start_date) & (df['Date'] < end_date)]\n",
        "\n",
        "print(train['Date'].min())\n",
        "print(train['Date'].max())"
      ],
      "execution_count": 9,
      "outputs": [
        {
          "output_type": "stream",
          "text": [
            "2011-05-16 00:00:00\n",
            "2016-12-15 00:00:00\n"
          ],
          "name": "stdout"
        }
      ]
    },
    {
      "cell_type": "code",
      "metadata": {
        "id": "9BKhThYvTJhs",
        "colab_type": "code",
        "colab": {
          "base_uri": "https://localhost:8080/",
          "height": 52
        },
        "outputId": "2a5f74ef-8d8b-418c-9cf6-cd4618fc53df"
      },
      "source": [
        "# Validation data\n",
        "start_date = '01-01-2017'\n",
        "end_date = '01-01-2018'\n",
        "val = df[(df['Date'] >= start_date) & (df['Date'] < end_date)]\n",
        "\n",
        "print(val['Date'].min())\n",
        "print(val['Date'].max())"
      ],
      "execution_count": 10,
      "outputs": [
        {
          "output_type": "stream",
          "text": [
            "2017-01-04 00:00:00\n",
            "2017-12-29 00:00:00\n"
          ],
          "name": "stdout"
        }
      ]
    },
    {
      "cell_type": "code",
      "metadata": {
        "id": "6x1Ivka0TdFH",
        "colab_type": "code",
        "colab": {
          "base_uri": "https://localhost:8080/",
          "height": 52
        },
        "outputId": "fd9b1ace-c661-430c-fb5e-2b4a74d91eb3"
      },
      "source": [
        "# Testing data\n",
        "start_date = '01-01-2018'\n",
        "end_date = '01-01-2021'\n",
        "test = df[(df['Date'] >= start_date) & (df['Date'] < end_date)]\n",
        "\n",
        "print(test['Date'].min())\n",
        "print(test['Date'].max())"
      ],
      "execution_count": 11,
      "outputs": [
        {
          "output_type": "stream",
          "text": [
            "2018-01-02 00:00:00\n",
            "2019-08-27 00:00:00\n"
          ],
          "name": "stdout"
        }
      ]
    },
    {
      "cell_type": "code",
      "metadata": {
        "id": "YqyIMAnOV3o0",
        "colab_type": "code",
        "colab": {
          "base_uri": "https://localhost:8080/",
          "height": 87
        },
        "outputId": "5d208d0d-88f2-435e-8f7b-a66a85137fb4"
      },
      "source": [
        "# Numeric columns\n",
        "train.describe(include='number').columns"
      ],
      "execution_count": 12,
      "outputs": [
        {
          "output_type": "execute_result",
          "data": {
            "text/plain": [
              "Index(['Yelp', 'Google', 'Cost', 'Hunger', 'Mass (g)', 'Density (g/mL)',\n",
              "       'Length', 'Circum', 'Volume', 'Tortilla', 'Temp', 'Meat', 'Fillings',\n",
              "       'Meat:filling', 'Uniformity', 'Salsa', 'Synergy', 'Wrap', 'Queso'],\n",
              "      dtype='object')"
            ]
          },
          "metadata": {
            "tags": []
          },
          "execution_count": 12
        }
      ]
    },
    {
      "cell_type": "code",
      "metadata": {
        "id": "V2LgdsCaWWkT",
        "colab_type": "code",
        "colab": {
          "base_uri": "https://localhost:8080/",
          "height": 745
        },
        "outputId": "01384d87-efc3-4c9c-be36-be4cc1259368"
      },
      "source": [
        "# Categorical data\n",
        "print(train.describe(exclude='number').T)\n",
        "\n",
        "# Features with a good cardinality to be potential features for our model\n",
        "features = ['Burrito', 'Chips', 'NonSD', 'Beef', 'Pico', 'Guac', 'Cheese', 'Fries', 'Sour cream', 'Pork', 'Chicken', 'Shrimp', 'Fish', 'Rice', 'Beans', 'Lettuce',\n",
        "'Tomato', 'Bell peper', 'Cabbage', 'Sauce', 'Salsa.1', 'Cilantro', 'Onion', 'Taquito', 'Pineapple', 'Yelp', 'Google', 'Cost', 'Hunger', 'Mass (g)', 'Density (g/mL)',\n",
        "'Length', 'Circum', 'Volume', 'Tortilla', 'Temp', 'Meat', 'Fillings', 'Meat:filling', 'Uniformity', 'Salsa', 'Synergy', 'Wrap', 'Queso']\n",
        "\n",
        "target = 'Great'"
      ],
      "execution_count": 13,
      "outputs": [
        {
          "output_type": "stream",
          "text": [
            "              count unique                  top freq      first       last\n",
            "Burrito         298      5           California  118        NaT        NaT\n",
            "Date            298    110  2016-08-30 00:00:00   29 2011-05-16 2016-12-15\n",
            "Chips            22      2                    x   19        NaT        NaT\n",
            "Unreliable       27      1                    x   27        NaT        NaT\n",
            "NonSD             5      2                    x    3        NaT        NaT\n",
            "Beef            168      2                    x  130        NaT        NaT\n",
            "Pico            143      2                    x  115        NaT        NaT\n",
            "Guac            139      2                    x  101        NaT        NaT\n",
            "Cheese          149      2                    x  121        NaT        NaT\n",
            "Fries           119      2                    x   97        NaT        NaT\n",
            "Sour cream       85      2                    x   63        NaT        NaT\n",
            "Pork             43      2                    x   29        NaT        NaT\n",
            "Chicken          20      2                    x   19        NaT        NaT\n",
            "Shrimp           20      2                    x   17        NaT        NaT\n",
            "Fish              5      2                    x    3        NaT        NaT\n",
            "Rice             33      2                    x   24        NaT        NaT\n",
            "Beans            32      2                    x   24        NaT        NaT\n",
            "Lettuce          11      2                    x    9        NaT        NaT\n",
            "Tomato            7      2                    x    5        NaT        NaT\n",
            "Bell peper        7      2                    x    4        NaT        NaT\n",
            "Carrots           1      1                    x    1        NaT        NaT\n",
            "Cabbage           7      2                    x    5        NaT        NaT\n",
            "Sauce            37      2                    x   33        NaT        NaT\n",
            "Salsa.1           6      2                    x    5        NaT        NaT\n",
            "Cilantro         15      2                    x    9        NaT        NaT\n",
            "Onion            17      2                    x    9        NaT        NaT\n",
            "Taquito           4      2                    x    3        NaT        NaT\n",
            "Pineapple         7      2                    x    5        NaT        NaT\n",
            "Ham               1      1                    x    1        NaT        NaT\n",
            "Chile relleno     4      1                    x    4        NaT        NaT\n",
            "Nopales           4      1                    x    4        NaT        NaT\n",
            "Lobster           1      1                    x    1        NaT        NaT\n",
            "Egg               4      1                    x    4        NaT        NaT\n",
            "Mushroom          3      1                    x    3        NaT        NaT\n",
            "Bacon             3      1                    x    3        NaT        NaT\n",
            "Sushi             2      1                    x    2        NaT        NaT\n",
            "Avocado          13      1                    x   13        NaT        NaT\n",
            "Corn              2      2                    X    1        NaT        NaT\n",
            "Zucchini          1      1                    x    1        NaT        NaT\n",
            "Great           298      2                False  176        NaT        NaT\n"
          ],
          "name": "stdout"
        }
      ]
    },
    {
      "cell_type": "code",
      "metadata": {
        "id": "rgjyXN2lYHT3",
        "colab_type": "code",
        "colab": {}
      },
      "source": [
        "# Seperating features and target\n",
        "X_train = train[features]\n",
        "y_train = train[target]\n",
        "\n",
        "X_val = val[features]\n",
        "y_val = val[target]\n",
        "\n",
        "X_test = test[features]\n",
        "y_test = test[target]"
      ],
      "execution_count": 0,
      "outputs": []
    },
    {
      "cell_type": "code",
      "metadata": {
        "id": "rP466L-TYyw0",
        "colab_type": "code",
        "colab": {
          "base_uri": "https://localhost:8080/",
          "height": 203
        },
        "outputId": "03da96f1-acce-4119-a188-6daeab765332"
      },
      "source": [
        "# Encoding the catagorical features with one hot encoding\n",
        "import category_encoders as ce\n",
        "encoder = ce.OneHotEncoder(use_cat_names=True)\n",
        "\n",
        "# Using the encoder to transform X_train\n",
        "X_train = encoder.fit_transform(X_train)\n",
        "X_train.head(3)"
      ],
      "execution_count": 15,
      "outputs": [
        {
          "output_type": "execute_result",
          "data": {
            "text/html": [
              "<div>\n",
              "<style scoped>\n",
              "    .dataframe tbody tr th:only-of-type {\n",
              "        vertical-align: middle;\n",
              "    }\n",
              "\n",
              "    .dataframe tbody tr th {\n",
              "        vertical-align: top;\n",
              "    }\n",
              "\n",
              "    .dataframe thead th {\n",
              "        text-align: right;\n",
              "    }\n",
              "</style>\n",
              "<table border=\"1\" class=\"dataframe\">\n",
              "  <thead>\n",
              "    <tr style=\"text-align: right;\">\n",
              "      <th></th>\n",
              "      <th>Burrito_California</th>\n",
              "      <th>Burrito_Carnitas</th>\n",
              "      <th>Burrito_Asada</th>\n",
              "      <th>Burrito_Other</th>\n",
              "      <th>Burrito_Surf &amp; Turf</th>\n",
              "      <th>Chips_nan</th>\n",
              "      <th>Chips_x</th>\n",
              "      <th>Chips_X</th>\n",
              "      <th>NonSD_nan</th>\n",
              "      <th>NonSD_x</th>\n",
              "      <th>NonSD_X</th>\n",
              "      <th>Beef_x</th>\n",
              "      <th>Beef_nan</th>\n",
              "      <th>Beef_X</th>\n",
              "      <th>Pico_x</th>\n",
              "      <th>Pico_nan</th>\n",
              "      <th>Pico_X</th>\n",
              "      <th>Guac_x</th>\n",
              "      <th>Guac_nan</th>\n",
              "      <th>Guac_X</th>\n",
              "      <th>Cheese_x</th>\n",
              "      <th>Cheese_nan</th>\n",
              "      <th>Cheese_X</th>\n",
              "      <th>Fries_x</th>\n",
              "      <th>Fries_nan</th>\n",
              "      <th>Fries_X</th>\n",
              "      <th>Sour cream_nan</th>\n",
              "      <th>Sour cream_x</th>\n",
              "      <th>Sour cream_X</th>\n",
              "      <th>Pork_nan</th>\n",
              "      <th>Pork_x</th>\n",
              "      <th>Pork_X</th>\n",
              "      <th>Chicken_nan</th>\n",
              "      <th>Chicken_x</th>\n",
              "      <th>Chicken_X</th>\n",
              "      <th>Shrimp_nan</th>\n",
              "      <th>Shrimp_x</th>\n",
              "      <th>Shrimp_X</th>\n",
              "      <th>Fish_nan</th>\n",
              "      <th>Fish_x</th>\n",
              "      <th>...</th>\n",
              "      <th>Cabbage_nan</th>\n",
              "      <th>Cabbage_x</th>\n",
              "      <th>Cabbage_X</th>\n",
              "      <th>Sauce_nan</th>\n",
              "      <th>Sauce_x</th>\n",
              "      <th>Sauce_X</th>\n",
              "      <th>Salsa.1_nan</th>\n",
              "      <th>Salsa.1_x</th>\n",
              "      <th>Salsa.1_X</th>\n",
              "      <th>Cilantro_nan</th>\n",
              "      <th>Cilantro_x</th>\n",
              "      <th>Cilantro_X</th>\n",
              "      <th>Onion_nan</th>\n",
              "      <th>Onion_x</th>\n",
              "      <th>Onion_X</th>\n",
              "      <th>Taquito_nan</th>\n",
              "      <th>Taquito_x</th>\n",
              "      <th>Taquito_X</th>\n",
              "      <th>Pineapple_nan</th>\n",
              "      <th>Pineapple_x</th>\n",
              "      <th>Pineapple_X</th>\n",
              "      <th>Yelp</th>\n",
              "      <th>Google</th>\n",
              "      <th>Cost</th>\n",
              "      <th>Hunger</th>\n",
              "      <th>Mass (g)</th>\n",
              "      <th>Density (g/mL)</th>\n",
              "      <th>Length</th>\n",
              "      <th>Circum</th>\n",
              "      <th>Volume</th>\n",
              "      <th>Tortilla</th>\n",
              "      <th>Temp</th>\n",
              "      <th>Meat</th>\n",
              "      <th>Fillings</th>\n",
              "      <th>Meat:filling</th>\n",
              "      <th>Uniformity</th>\n",
              "      <th>Salsa</th>\n",
              "      <th>Synergy</th>\n",
              "      <th>Wrap</th>\n",
              "      <th>Queso</th>\n",
              "    </tr>\n",
              "  </thead>\n",
              "  <tbody>\n",
              "    <tr>\n",
              "      <th>0</th>\n",
              "      <td>1</td>\n",
              "      <td>0</td>\n",
              "      <td>0</td>\n",
              "      <td>0</td>\n",
              "      <td>0</td>\n",
              "      <td>1</td>\n",
              "      <td>0</td>\n",
              "      <td>0</td>\n",
              "      <td>1</td>\n",
              "      <td>0</td>\n",
              "      <td>0</td>\n",
              "      <td>1</td>\n",
              "      <td>0</td>\n",
              "      <td>0</td>\n",
              "      <td>1</td>\n",
              "      <td>0</td>\n",
              "      <td>0</td>\n",
              "      <td>1</td>\n",
              "      <td>0</td>\n",
              "      <td>0</td>\n",
              "      <td>1</td>\n",
              "      <td>0</td>\n",
              "      <td>0</td>\n",
              "      <td>1</td>\n",
              "      <td>0</td>\n",
              "      <td>0</td>\n",
              "      <td>1</td>\n",
              "      <td>0</td>\n",
              "      <td>0</td>\n",
              "      <td>1</td>\n",
              "      <td>0</td>\n",
              "      <td>0</td>\n",
              "      <td>1</td>\n",
              "      <td>0</td>\n",
              "      <td>0</td>\n",
              "      <td>1</td>\n",
              "      <td>0</td>\n",
              "      <td>0</td>\n",
              "      <td>1</td>\n",
              "      <td>0</td>\n",
              "      <td>...</td>\n",
              "      <td>1</td>\n",
              "      <td>0</td>\n",
              "      <td>0</td>\n",
              "      <td>1</td>\n",
              "      <td>0</td>\n",
              "      <td>0</td>\n",
              "      <td>1</td>\n",
              "      <td>0</td>\n",
              "      <td>0</td>\n",
              "      <td>1</td>\n",
              "      <td>0</td>\n",
              "      <td>0</td>\n",
              "      <td>1</td>\n",
              "      <td>0</td>\n",
              "      <td>0</td>\n",
              "      <td>1</td>\n",
              "      <td>0</td>\n",
              "      <td>0</td>\n",
              "      <td>1</td>\n",
              "      <td>0</td>\n",
              "      <td>0</td>\n",
              "      <td>3.5</td>\n",
              "      <td>4.2</td>\n",
              "      <td>6.49</td>\n",
              "      <td>3.0</td>\n",
              "      <td>NaN</td>\n",
              "      <td>NaN</td>\n",
              "      <td>NaN</td>\n",
              "      <td>NaN</td>\n",
              "      <td>NaN</td>\n",
              "      <td>3.0</td>\n",
              "      <td>5.0</td>\n",
              "      <td>3.0</td>\n",
              "      <td>3.5</td>\n",
              "      <td>4.0</td>\n",
              "      <td>4.0</td>\n",
              "      <td>4.0</td>\n",
              "      <td>4.0</td>\n",
              "      <td>4.0</td>\n",
              "      <td>NaN</td>\n",
              "    </tr>\n",
              "    <tr>\n",
              "      <th>1</th>\n",
              "      <td>1</td>\n",
              "      <td>0</td>\n",
              "      <td>0</td>\n",
              "      <td>0</td>\n",
              "      <td>0</td>\n",
              "      <td>1</td>\n",
              "      <td>0</td>\n",
              "      <td>0</td>\n",
              "      <td>1</td>\n",
              "      <td>0</td>\n",
              "      <td>0</td>\n",
              "      <td>1</td>\n",
              "      <td>0</td>\n",
              "      <td>0</td>\n",
              "      <td>1</td>\n",
              "      <td>0</td>\n",
              "      <td>0</td>\n",
              "      <td>1</td>\n",
              "      <td>0</td>\n",
              "      <td>0</td>\n",
              "      <td>1</td>\n",
              "      <td>0</td>\n",
              "      <td>0</td>\n",
              "      <td>1</td>\n",
              "      <td>0</td>\n",
              "      <td>0</td>\n",
              "      <td>1</td>\n",
              "      <td>0</td>\n",
              "      <td>0</td>\n",
              "      <td>1</td>\n",
              "      <td>0</td>\n",
              "      <td>0</td>\n",
              "      <td>1</td>\n",
              "      <td>0</td>\n",
              "      <td>0</td>\n",
              "      <td>1</td>\n",
              "      <td>0</td>\n",
              "      <td>0</td>\n",
              "      <td>1</td>\n",
              "      <td>0</td>\n",
              "      <td>...</td>\n",
              "      <td>1</td>\n",
              "      <td>0</td>\n",
              "      <td>0</td>\n",
              "      <td>1</td>\n",
              "      <td>0</td>\n",
              "      <td>0</td>\n",
              "      <td>1</td>\n",
              "      <td>0</td>\n",
              "      <td>0</td>\n",
              "      <td>1</td>\n",
              "      <td>0</td>\n",
              "      <td>0</td>\n",
              "      <td>1</td>\n",
              "      <td>0</td>\n",
              "      <td>0</td>\n",
              "      <td>1</td>\n",
              "      <td>0</td>\n",
              "      <td>0</td>\n",
              "      <td>1</td>\n",
              "      <td>0</td>\n",
              "      <td>0</td>\n",
              "      <td>3.5</td>\n",
              "      <td>3.3</td>\n",
              "      <td>5.45</td>\n",
              "      <td>3.5</td>\n",
              "      <td>NaN</td>\n",
              "      <td>NaN</td>\n",
              "      <td>NaN</td>\n",
              "      <td>NaN</td>\n",
              "      <td>NaN</td>\n",
              "      <td>2.0</td>\n",
              "      <td>3.5</td>\n",
              "      <td>2.5</td>\n",
              "      <td>2.5</td>\n",
              "      <td>2.0</td>\n",
              "      <td>4.0</td>\n",
              "      <td>3.5</td>\n",
              "      <td>2.5</td>\n",
              "      <td>5.0</td>\n",
              "      <td>NaN</td>\n",
              "    </tr>\n",
              "    <tr>\n",
              "      <th>2</th>\n",
              "      <td>0</td>\n",
              "      <td>1</td>\n",
              "      <td>0</td>\n",
              "      <td>0</td>\n",
              "      <td>0</td>\n",
              "      <td>1</td>\n",
              "      <td>0</td>\n",
              "      <td>0</td>\n",
              "      <td>1</td>\n",
              "      <td>0</td>\n",
              "      <td>0</td>\n",
              "      <td>0</td>\n",
              "      <td>1</td>\n",
              "      <td>0</td>\n",
              "      <td>1</td>\n",
              "      <td>0</td>\n",
              "      <td>0</td>\n",
              "      <td>1</td>\n",
              "      <td>0</td>\n",
              "      <td>0</td>\n",
              "      <td>0</td>\n",
              "      <td>1</td>\n",
              "      <td>0</td>\n",
              "      <td>0</td>\n",
              "      <td>1</td>\n",
              "      <td>0</td>\n",
              "      <td>1</td>\n",
              "      <td>0</td>\n",
              "      <td>0</td>\n",
              "      <td>0</td>\n",
              "      <td>1</td>\n",
              "      <td>0</td>\n",
              "      <td>1</td>\n",
              "      <td>0</td>\n",
              "      <td>0</td>\n",
              "      <td>1</td>\n",
              "      <td>0</td>\n",
              "      <td>0</td>\n",
              "      <td>1</td>\n",
              "      <td>0</td>\n",
              "      <td>...</td>\n",
              "      <td>1</td>\n",
              "      <td>0</td>\n",
              "      <td>0</td>\n",
              "      <td>1</td>\n",
              "      <td>0</td>\n",
              "      <td>0</td>\n",
              "      <td>1</td>\n",
              "      <td>0</td>\n",
              "      <td>0</td>\n",
              "      <td>1</td>\n",
              "      <td>0</td>\n",
              "      <td>0</td>\n",
              "      <td>1</td>\n",
              "      <td>0</td>\n",
              "      <td>0</td>\n",
              "      <td>1</td>\n",
              "      <td>0</td>\n",
              "      <td>0</td>\n",
              "      <td>1</td>\n",
              "      <td>0</td>\n",
              "      <td>0</td>\n",
              "      <td>NaN</td>\n",
              "      <td>NaN</td>\n",
              "      <td>4.85</td>\n",
              "      <td>1.5</td>\n",
              "      <td>NaN</td>\n",
              "      <td>NaN</td>\n",
              "      <td>NaN</td>\n",
              "      <td>NaN</td>\n",
              "      <td>NaN</td>\n",
              "      <td>3.0</td>\n",
              "      <td>2.0</td>\n",
              "      <td>2.5</td>\n",
              "      <td>3.0</td>\n",
              "      <td>4.5</td>\n",
              "      <td>4.0</td>\n",
              "      <td>3.0</td>\n",
              "      <td>3.0</td>\n",
              "      <td>5.0</td>\n",
              "      <td>NaN</td>\n",
              "    </tr>\n",
              "  </tbody>\n",
              "</table>\n",
              "<p>3 rows × 96 columns</p>\n",
              "</div>"
            ],
            "text/plain": [
              "   Burrito_California  Burrito_Carnitas  Burrito_Asada  ...  Synergy  Wrap  Queso\n",
              "0                   1                 0              0  ...      4.0   4.0    NaN\n",
              "1                   1                 0              0  ...      2.5   5.0    NaN\n",
              "2                   0                 1              0  ...      3.0   5.0    NaN\n",
              "\n",
              "[3 rows x 96 columns]"
            ]
          },
          "metadata": {
            "tags": []
          },
          "execution_count": 15
        }
      ]
    },
    {
      "cell_type": "code",
      "metadata": {
        "id": "bpncRw5cZlpj",
        "colab_type": "code",
        "colab": {
          "base_uri": "https://localhost:8080/",
          "height": 1000
        },
        "outputId": "0477c07e-a3c7-4527-f277-3ef674a874f9"
      },
      "source": [
        "# Checking for nans\n",
        "pd.options.display.max_rows = 999\n",
        "X_train.isnull().sum()"
      ],
      "execution_count": 16,
      "outputs": [
        {
          "output_type": "execute_result",
          "data": {
            "text/plain": [
              "Burrito_California       0\n",
              "Burrito_Carnitas         0\n",
              "Burrito_Asada            0\n",
              "Burrito_Other            0\n",
              "Burrito_Surf & Turf      0\n",
              "Chips_nan                0\n",
              "Chips_x                  0\n",
              "Chips_X                  0\n",
              "NonSD_nan                0\n",
              "NonSD_x                  0\n",
              "NonSD_X                  0\n",
              "Beef_x                   0\n",
              "Beef_nan                 0\n",
              "Beef_X                   0\n",
              "Pico_x                   0\n",
              "Pico_nan                 0\n",
              "Pico_X                   0\n",
              "Guac_x                   0\n",
              "Guac_nan                 0\n",
              "Guac_X                   0\n",
              "Cheese_x                 0\n",
              "Cheese_nan               0\n",
              "Cheese_X                 0\n",
              "Fries_x                  0\n",
              "Fries_nan                0\n",
              "Fries_X                  0\n",
              "Sour cream_nan           0\n",
              "Sour cream_x             0\n",
              "Sour cream_X             0\n",
              "Pork_nan                 0\n",
              "Pork_x                   0\n",
              "Pork_X                   0\n",
              "Chicken_nan              0\n",
              "Chicken_x                0\n",
              "Chicken_X                0\n",
              "Shrimp_nan               0\n",
              "Shrimp_x                 0\n",
              "Shrimp_X                 0\n",
              "Fish_nan                 0\n",
              "Fish_x                   0\n",
              "Fish_X                   0\n",
              "Rice_nan                 0\n",
              "Rice_x                   0\n",
              "Rice_X                   0\n",
              "Beans_nan                0\n",
              "Beans_x                  0\n",
              "Beans_X                  0\n",
              "Lettuce_nan              0\n",
              "Lettuce_x                0\n",
              "Lettuce_X                0\n",
              "Tomato_nan               0\n",
              "Tomato_x                 0\n",
              "Tomato_X                 0\n",
              "Bell peper_nan           0\n",
              "Bell peper_x             0\n",
              "Bell peper_X             0\n",
              "Cabbage_nan              0\n",
              "Cabbage_x                0\n",
              "Cabbage_X                0\n",
              "Sauce_nan                0\n",
              "Sauce_x                  0\n",
              "Sauce_X                  0\n",
              "Salsa.1_nan              0\n",
              "Salsa.1_x                0\n",
              "Salsa.1_X                0\n",
              "Cilantro_nan             0\n",
              "Cilantro_x               0\n",
              "Cilantro_X               0\n",
              "Onion_nan                0\n",
              "Onion_x                  0\n",
              "Onion_X                  0\n",
              "Taquito_nan              0\n",
              "Taquito_x                0\n",
              "Taquito_X                0\n",
              "Pineapple_nan            0\n",
              "Pineapple_x              0\n",
              "Pineapple_X              0\n",
              "Yelp                   227\n",
              "Google                 227\n",
              "Cost                     6\n",
              "Hunger                   1\n",
              "Mass (g)               298\n",
              "Density (g/mL)         298\n",
              "Length                 123\n",
              "Circum                 124\n",
              "Volume                 124\n",
              "Tortilla                 0\n",
              "Temp                    15\n",
              "Meat                    10\n",
              "Fillings                 1\n",
              "Meat:filling             6\n",
              "Uniformity               2\n",
              "Salsa                   20\n",
              "Synergy                  2\n",
              "Wrap                     2\n",
              "Queso                  298\n",
              "dtype: int64"
            ]
          },
          "metadata": {
            "tags": []
          },
          "execution_count": 16
        }
      ]
    },
    {
      "cell_type": "code",
      "metadata": {
        "id": "cgS7IB85Z9f8",
        "colab_type": "code",
        "colab": {
          "base_uri": "https://localhost:8080/",
          "height": 247
        },
        "outputId": "52bad391-e3e9-4eb4-8896-894cf8451589"
      },
      "source": [
        "# Need to impute the missing values before fitting our logistic regression\n",
        "from sklearn.impute import SimpleImputer\n",
        "imputer = SimpleImputer(strategy='mean')\n",
        "\n",
        "X_train_imputed = imputer.fit_transform(X_train)\n",
        "\n",
        "# Train data with imputed values\n",
        "X_train_imputed"
      ],
      "execution_count": 17,
      "outputs": [
        {
          "output_type": "execute_result",
          "data": {
            "text/plain": [
              "array([[1.        , 0.        , 0.        , ..., 4.        , 4.        ,\n",
              "        4.        ],\n",
              "       [1.        , 0.        , 0.        , ..., 3.5       , 2.5       ,\n",
              "        5.        ],\n",
              "       [0.        , 1.        , 0.        , ..., 3.        , 3.        ,\n",
              "        5.        ],\n",
              "       ...,\n",
              "       [1.        , 0.        , 0.        , ..., 2.2       , 3.3       ,\n",
              "        4.5       ],\n",
              "       [0.        , 0.        , 1.        , ..., 2.        , 2.        ,\n",
              "        4.        ],\n",
              "       [0.        , 0.        , 0.        , ..., 3.32464029, 3.8       ,\n",
              "        2.        ]])"
            ]
          },
          "metadata": {
            "tags": []
          },
          "execution_count": 17
        }
      ]
    },
    {
      "cell_type": "code",
      "metadata": {
        "id": "6DFBmDPFbKQJ",
        "colab_type": "code",
        "colab": {
          "base_uri": "https://localhost:8080/",
          "height": 141
        },
        "outputId": "0976dcd8-1670-423d-bb08-393b02852538"
      },
      "source": [
        "# The validation and test data need to be one hot encoded and imputed as well\n",
        "X_val = encoder.transform(X_val)\n",
        "X_val.head(3)\n",
        "\n",
        "# Using the same training data means (uses transform and not fit_transform)\n",
        "X_val_imputed = imputer.transform(X_val)\n",
        "\n",
        "# Train data with imputed values\n",
        "X_val_imputed"
      ],
      "execution_count": 18,
      "outputs": [
        {
          "output_type": "execute_result",
          "data": {
            "text/plain": [
              "array([[1.  , 0.  , 0.  , ..., 1.5 , 3.5 , 4.5 ],\n",
              "       [0.  , 0.  , 0.  , ..., 4.2 , 3.75, 5.  ],\n",
              "       [0.  , 0.  , 0.  , ..., 4.3 , 4.2 , 5.  ],\n",
              "       ...,\n",
              "       [0.  , 0.  , 0.  , ..., 3.5 , 4.  , 2.  ],\n",
              "       [1.  , 0.  , 0.  , ..., 3.5 , 4.3 , 4.5 ],\n",
              "       [1.  , 0.  , 0.  , ..., 5.  , 5.  , 3.  ]])"
            ]
          },
          "metadata": {
            "tags": []
          },
          "execution_count": 18
        }
      ]
    },
    {
      "cell_type": "code",
      "metadata": {
        "id": "QlMUnq6LcEzS",
        "colab_type": "code",
        "colab": {
          "base_uri": "https://localhost:8080/",
          "height": 141
        },
        "outputId": "78a3c84e-fc1d-4763-f51d-3423a5e3cb29"
      },
      "source": [
        "X_test = encoder.transform(X_test)\n",
        "X_test.head(3)\n",
        "\n",
        "# Using the same training data means (uses transform and not fit_transform)\n",
        "X_test_imputed = imputer.transform(X_test)\n",
        "\n",
        "# Train data with imputed values\n",
        "X_test_imputed"
      ],
      "execution_count": 19,
      "outputs": [
        {
          "output_type": "execute_result",
          "data": {
            "text/plain": [
              "array([[1. , 0. , 0. , ..., 3. , 4. , 5. ],\n",
              "       [0. , 0. , 0. , ..., 4. , 3. , 4. ],\n",
              "       [1. , 0. , 0. , ..., 4. , 5. , 5. ],\n",
              "       ...,\n",
              "       [1. , 0. , 0. , ..., 3.5, 4. , 4.5],\n",
              "       [0. , 0. , 0. , ..., 5. , 5. , 2. ],\n",
              "       [0. , 0. , 0. , ..., 3. , 4.5, 4. ]])"
            ]
          },
          "metadata": {
            "tags": []
          },
          "execution_count": 19
        }
      ]
    },
    {
      "cell_type": "code",
      "metadata": {
        "id": "W5U2cQzAcLto",
        "colab_type": "code",
        "colab": {
          "base_uri": "https://localhost:8080/",
          "height": 70
        },
        "outputId": "b0d0afec-74d2-4810-a821-0570def9b535"
      },
      "source": [
        "print('Train shape:', len(X_train_imputed), len(X_train_imputed[0]))\n",
        "print('Validation shape:', len(X_val_imputed), len(X_val_imputed[0]))\n",
        "print('Test shape:', len(X_test_imputed), len(X_test_imputed[0]))"
      ],
      "execution_count": 20,
      "outputs": [
        {
          "output_type": "stream",
          "text": [
            "Train shape: 298 93\n",
            "Validation shape: 85 93\n",
            "Test shape: 37 93\n"
          ],
          "name": "stdout"
        }
      ]
    },
    {
      "cell_type": "code",
      "metadata": {
        "id": "GRfnuhUlTrdH",
        "colab_type": "code",
        "colab": {
          "base_uri": "https://localhost:8080/",
          "height": 34
        },
        "outputId": "6f904b2b-b907-4084-fafd-5d603848598d"
      },
      "source": [
        "\"\"\" BASELINE ACCURACY \"\"\"\n",
        "# Target is 'Great'\n",
        "# Baseline accuracy is percentage correct if just guessing the most common 'Great' classification (True of False)\n",
        "baseline = train['Great'].value_counts(normalize=True).max()\n",
        "print(\"Train Accuracy:\", baseline)\n",
        "\n",
        "# Any model has to be better than 59% accurate"
      ],
      "execution_count": 21,
      "outputs": [
        {
          "output_type": "stream",
          "text": [
            "Train Accuracy: 0.5906040268456376\n"
          ],
          "name": "stdout"
        }
      ]
    },
    {
      "cell_type": "code",
      "metadata": {
        "id": "gmlW8pIwf7lc",
        "colab_type": "code",
        "colab": {}
      },
      "source": [
        "# Standardizing before fitting our logistic regression model\n",
        "from sklearn.preprocessing import StandardScaler\n",
        "scaler = StandardScaler()\n",
        "X_train_scaled = scaler.fit_transform(X_train_imputed)\n",
        "X_val_scaled = scaler.transform(X_val_imputed)\n",
        "X_test_scaled = scaler.transform(X_val_imputed)"
      ],
      "execution_count": 0,
      "outputs": []
    },
    {
      "cell_type": "code",
      "metadata": {
        "id": "T77hyszIgWS-",
        "colab_type": "code",
        "colab": {
          "base_uri": "https://localhost:8080/",
          "height": 34
        },
        "outputId": "4282407a-3cfd-488b-fc03-68f8caacb0e5"
      },
      "source": [
        "\"\"\" LOGISTIC REGRESSION \"\"\"\n",
        "from warnings import filterwarnings\n",
        "filterwarnings('ignore')\n",
        "from sklearn.linear_model import LogisticRegressionCV, LogisticRegression\n",
        "from sklearn.metrics import accuracy_score\n",
        "\n",
        "# Creating logistic regression model\n",
        "model = LogisticRegressionCV()\n",
        "\n",
        "# Fitting model onto data\n",
        "model.fit(X_train_scaled, y_train)\n",
        "\n",
        "# Getting predicted targets of the validation set\n",
        "y_pred = model.predict(X_val_scaled)\n",
        "\n",
        "# Checking the accuracy of the validation set\n",
        "log_reg = accuracy_score(y_val, y_pred)\n",
        "print(\"Validation Accuracy:\", log_reg)"
      ],
      "execution_count": 23,
      "outputs": [
        {
          "output_type": "stream",
          "text": [
            "Train Accuracy: 0.7647058823529411\n"
          ],
          "name": "stdout"
        }
      ]
    },
    {
      "cell_type": "code",
      "metadata": {
        "id": "ck9HJiyah9bX",
        "colab_type": "code",
        "colab": {
          "base_uri": "https://localhost:8080/",
          "height": 52
        },
        "outputId": "356e58e1-b5d9-4f15-f944-53d2232421a7"
      },
      "source": [
        "\"\"\"\n",
        "  BEFORE CHECKING THE MODEL ACCURACY ON THE TEST DATA, CAN THE MODEL BE IMPROVED?\n",
        "\"\"\"\n",
        "print('Train shape:', len(X_train_scaled), len(X_train_scaled[0]))\n",
        "print('Validation shape:', len(X_val_scaled), len(X_val_scaled[0]))"
      ],
      "execution_count": 24,
      "outputs": [
        {
          "output_type": "stream",
          "text": [
            "Train shape: 298 93\n",
            "Validation shape: 85 93\n"
          ],
          "name": "stdout"
        }
      ]
    },
    {
      "cell_type": "code",
      "metadata": {
        "id": "X4AR4f6XiO5K",
        "colab_type": "code",
        "colab": {}
      },
      "source": [
        "import numpy as np\n",
        "\n",
        "# Recombining training and validation features\n",
        "X_complete_train = np.concatenate([X_train_imputed, X_val_imputed])\n",
        "\n",
        "# Recombining training and validation targets\n",
        "y_complete_train = pd.concat([y_train, y_val], axis=0)"
      ],
      "execution_count": 0,
      "outputs": []
    },
    {
      "cell_type": "code",
      "metadata": {
        "id": "3T8lz9SFlvqa",
        "colab_type": "code",
        "colab": {
          "base_uri": "https://localhost:8080/",
          "height": 34
        },
        "outputId": "2711d68a-1c0d-4d58-afec-4b5c7d2a2048"
      },
      "source": [
        "\"\"\" CHECKING ACCURACY ON TESTING DATA \"\"\"\n",
        "\n",
        "# Creating model\n",
        "model = LogisticRegressionCV()\n",
        "\n",
        "# Fitting model onto data\n",
        "model.fit(X_complete_train, y_complete_train)\n",
        "\n",
        "# Getting predicted targets\n",
        "y_test_pred = model.predict(X_test_imputed)\n",
        "\n",
        "# Checking the accuracy of the validation set\n",
        "log_reg = accuracy_score(y_test, y_test_pred)\n",
        "print(\"Test Accuracy:\", log_reg)"
      ],
      "execution_count": 50,
      "outputs": [
        {
          "output_type": "stream",
          "text": [
            "Train Accuracy: 0.7837837837837838\n"
          ],
          "name": "stdout"
        }
      ]
    },
    {
      "cell_type": "code",
      "metadata": {
        "id": "UeeNJl3fpjWX",
        "colab_type": "code",
        "colab": {
          "base_uri": "https://localhost:8080/",
          "height": 34
        },
        "outputId": "07cb1795-1bc7-4cd5-c8cb-df7dab9f18f8"
      },
      "source": [
        "\"\"\"\n",
        "  Highest accuracy yet. Combining the validation set with the training set before testing the model improved the result.\n",
        "\"\"\""
      ],
      "execution_count": 46,
      "outputs": [
        {
          "output_type": "execute_result",
          "data": {
            "text/plain": [
              "(383, 93)"
            ]
          },
          "metadata": {
            "tags": []
          },
          "execution_count": 46
        }
      ]
    }
  ]
}