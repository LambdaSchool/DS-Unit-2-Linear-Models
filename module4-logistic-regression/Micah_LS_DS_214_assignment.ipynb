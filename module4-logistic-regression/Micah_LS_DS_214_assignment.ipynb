{
  "nbformat": 4,
  "nbformat_minor": 0,
  "metadata": {
    "kernelspec": {
      "display_name": "Python 3",
      "language": "python",
      "name": "python3"
    },
    "language_info": {
      "codemirror_mode": {
        "name": "ipython",
        "version": 3
      },
      "file_extension": ".py",
      "mimetype": "text/x-python",
      "name": "python",
      "nbconvert_exporter": "python",
      "pygments_lexer": "ipython3",
      "version": "3.7.3"
    },
    "colab": {
      "name": "Micah_LS_DS_214_assignment.ipynb",
      "provenance": [],
      "include_colab_link": true
    }
  },
  "cells": [
    {
      "cell_type": "markdown",
      "metadata": {
        "id": "view-in-github",
        "colab_type": "text"
      },
      "source": [
        "<a href=\"https://colab.research.google.com/github/micahks/DS-Unit-2-Linear-Models/blob/master/module4-logistic-regression/Micah_LS_DS_214_assignment.ipynb\" target=\"_parent\"><img src=\"https://colab.research.google.com/assets/colab-badge.svg\" alt=\"Open In Colab\"/></a>"
      ]
    },
    {
      "cell_type": "markdown",
      "metadata": {
        "id": "tgl1ygKLj-hZ"
      },
      "source": [
        "Lambda School Data Science\n",
        "\n",
        "*Unit 2, Sprint 1, Module 4*\n",
        "\n",
        "---"
      ]
    },
    {
      "cell_type": "markdown",
      "metadata": {
        "id": "7IXUfiQ2UKj6"
      },
      "source": [
        "# Logistic Regression\n",
        "\n",
        "\n",
        "## Assignment 🌯\n",
        "\n",
        "You'll use a [**dataset of 400+ burrito reviews**](https://srcole.github.io/100burritos/). How accurately can you predict whether a burrito is rated 'Great'?\n",
        "\n",
        "> We have developed a 10-dimensional system for rating the burritos in San Diego. ... Generate models for what makes a burrito great and investigate correlations in its dimensions.\n",
        "\n",
        "- [ ] Do train/validate/test split. Train on reviews from 2016 & earlier. Validate on 2017. Test on 2018 & later.\n",
        "- [ ] Begin with baselines for classification.\n",
        "- [ ] Use scikit-learn for logistic regression.\n",
        "- [ ] Get your model's validation accuracy. (Multiple times if you try multiple iterations.)\n",
        "- [ ] Get your model's test accuracy. (One time, at the end.)\n",
        "- [ ] Commit your notebook to your fork of the GitHub repo.\n",
        "\n",
        "\n",
        "## Stretch Goals\n",
        "\n",
        "- [ ] Add your own stretch goal(s) !\n",
        "- [ ] Make exploratory visualizations.\n",
        "- [ ] Do one-hot encoding.\n",
        "- [ ] Do [feature scaling](https://scikit-learn.org/stable/modules/preprocessing.html).\n",
        "- [ ] Get and plot your coefficients.\n",
        "- [ ] Try [scikit-learn pipelines](https://scikit-learn.org/stable/modules/compose.html)."
      ]
    },
    {
      "cell_type": "markdown",
      "metadata": {
        "id": "MxKf-FW5ppDB"
      },
      "source": [
        "#Data Import"
      ]
    },
    {
      "cell_type": "code",
      "metadata": {
        "id": "o9eSnDYhUGD7"
      },
      "source": [
        "%%capture\n",
        "import sys\n",
        "\n",
        "# If you're on Colab:\n",
        "if 'google.colab' in sys.modules:\n",
        "    DATA_PATH = 'https://raw.githubusercontent.com/LambdaSchool/DS-Unit-2-Linear-Models/master/data/'\n",
        "    !pip install category_encoders==2.*\n",
        "\n",
        "# If you're working locally:\n",
        "else:\n",
        "    DATA_PATH = '../data/'"
      ],
      "execution_count": 2,
      "outputs": []
    },
    {
      "cell_type": "code",
      "metadata": {
        "id": "E_gFA5y3j-he"
      },
      "source": [
        "# Load data downloaded from https://srcole.github.io/100burritos/\n",
        "import pandas as pd\n",
        "df = pd.read_csv(DATA_PATH+'burritos/burritos.csv')"
      ],
      "execution_count": 3,
      "outputs": []
    },
    {
      "cell_type": "code",
      "metadata": {
        "id": "tgY0s-VCj-hj"
      },
      "source": [
        "# Derive binary classification target:\n",
        "# We define a 'Great' burrito as having an\n",
        "# overall rating of 4 or higher, on a 5 point scale.\n",
        "# Drop unrated burritos.\n",
        "df = df.dropna(subset=['overall'])\n",
        "df['Great'] = df['overall'] >= 4"
      ],
      "execution_count": 4,
      "outputs": []
    },
    {
      "cell_type": "code",
      "metadata": {
        "id": "2XQj3J31j-hm"
      },
      "source": [
        "# Clean/combine the Burrito categories\n",
        "df['Burrito'] = df['Burrito'].str.lower()\n",
        "\n",
        "california = df['Burrito'].str.contains('california')\n",
        "asada = df['Burrito'].str.contains('asada')\n",
        "surf = df['Burrito'].str.contains('surf')\n",
        "carnitas = df['Burrito'].str.contains('carnitas')\n",
        "\n",
        "df.loc[california, 'Burrito'] = 'California'\n",
        "df.loc[asada, 'Burrito'] = 'Asada'\n",
        "df.loc[surf, 'Burrito'] = 'Surf & Turf'\n",
        "df.loc[carnitas, 'Burrito'] = 'Carnitas'\n",
        "df.loc[~california & ~asada & ~surf & ~carnitas, 'Burrito'] = 'Other'"
      ],
      "execution_count": 5,
      "outputs": []
    },
    {
      "cell_type": "code",
      "metadata": {
        "id": "YOtQMV3ij-hp"
      },
      "source": [
        "# Drop some high cardinality categoricals\n",
        "df = df.drop(columns=['Notes', 'Location', 'Reviewer', 'Address', 'URL', 'Neighborhood'])"
      ],
      "execution_count": 6,
      "outputs": []
    },
    {
      "cell_type": "code",
      "metadata": {
        "id": "0A7K3k7Tj-hr"
      },
      "source": [
        "# Drop some columns to prevent \"leakage\"\n",
        "df = df.drop(columns=['Rec', 'overall'])"
      ],
      "execution_count": 7,
      "outputs": []
    },
    {
      "cell_type": "code",
      "metadata": {
        "id": "_LYUlPRxrc77"
      },
      "source": [
        "df['Date']= pd.to_datetime(df['Date'])"
      ],
      "execution_count": 8,
      "outputs": []
    },
    {
      "cell_type": "code",
      "metadata": {
        "id": "B5f_jzRW2WTp"
      },
      "source": [
        "import numpy as np\n",
        "\n",
        "#Change x's to 1's\n",
        "\n",
        "df.replace(['x', 'X'], 1, inplace=True)\n",
        "\n",
        "#Change yes's to 1's\n",
        "\n",
        "df.replace(['Yes'], 1, inplace=True)\n",
        "\n",
        "#Change no's to 0's\n",
        "\n",
        "df.replace(['No'], 0, inplace=True)\n",
        "\n",
        "#Change Nan's to 0\n",
        "\n",
        "df.replace(np.NaN, 0, inplace=True)"
      ],
      "execution_count": 9,
      "outputs": []
    },
    {
      "cell_type": "markdown",
      "metadata": {
        "id": "UwZRN0B0muAq"
      },
      "source": [
        "#Split Data"
      ]
    },
    {
      "cell_type": "code",
      "metadata": {
        "id": "IydzS_57mQv-"
      },
      "source": [
        "#set index to the date\n",
        "\n",
        "df.set_index('Date', inplace=True)"
      ],
      "execution_count": 10,
      "outputs": []
    },
    {
      "cell_type": "code",
      "metadata": {
        "id": "9HBwqw9bSTWP"
      },
      "source": [
        "#take out the burrito columns\n",
        "\n",
        "df_nobur = df.drop(columns=['Burrito'])"
      ],
      "execution_count": 11,
      "outputs": []
    },
    {
      "cell_type": "code",
      "metadata": {
        "id": "scWDTDcJonL1"
      },
      "source": [
        "target = 'Great'\n",
        "y=df_nobur[target]\n",
        "X=df_nobur.drop(columns=target)"
      ],
      "execution_count": 12,
      "outputs": []
    },
    {
      "cell_type": "code",
      "metadata": {
        "id": "2HZE6EpHm-bB",
        "outputId": "42038573-159c-4dd1-d240-63615118e651",
        "colab": {
          "base_uri": "https://localhost:8080/",
          "height": 247
        }
      },
      "source": [
        "#separate the Training Set\n",
        "\n",
        "tr_cutoff = '12/31/2016'\n",
        "val_cutoff = '12/31/2017'\n",
        "\n",
        "tr_mask = X.index <= tr_cutoff\n",
        "val_mask = (X.index > tr_cutoff) & (X.index <= val_cutoff)\n",
        "test_mask = X.index > val_cutoff\n",
        "\n",
        "X_train, y_train = X[tr_mask], y[tr_mask]\n",
        "X_val, y_val = X[val_mask], y[val_mask]\n",
        "X_test, y_test = X[test_mask], y[test_mask]\n",
        "\n",
        "y_val"
      ],
      "execution_count": 13,
      "outputs": [
        {
          "output_type": "execute_result",
          "data": {
            "text/plain": [
              "Date\n",
              "2017-01-04    False\n",
              "2017-01-04    False\n",
              "2017-01-07    False\n",
              "2017-01-07    False\n",
              "2017-01-10    False\n",
              "              ...  \n",
              "2017-09-05     True\n",
              "2017-09-05     True\n",
              "2017-12-16    False\n",
              "2017-12-29     True\n",
              "2017-12-29     True\n",
              "Name: Great, Length: 85, dtype: bool"
            ]
          },
          "metadata": {
            "tags": []
          },
          "execution_count": 13
        }
      ]
    },
    {
      "cell_type": "code",
      "metadata": {
        "id": "7tgHX_NFqQD8"
      },
      "source": [
        "assert len(X) == len(X_train) + len(X_val) + len(X_test)"
      ],
      "execution_count": 14,
      "outputs": []
    },
    {
      "cell_type": "markdown",
      "metadata": {
        "id": "aDEU2IEOx3QP"
      },
      "source": [
        "#Establish Baseline"
      ]
    },
    {
      "cell_type": "code",
      "metadata": {
        "id": "6hxWpvpvtyAq",
        "outputId": "f5198754-4089-4ce1-e930-0e85a7acdfd0",
        "colab": {
          "base_uri": "https://localhost:8080/",
          "height": 34
        }
      },
      "source": [
        "print('Baseline accuracy:', y_train.value_counts(normalize=True).max())"
      ],
      "execution_count": 15,
      "outputs": [
        {
          "output_type": "stream",
          "text": [
            "Baseline accuracy: 0.5906040268456376\n"
          ],
          "name": "stdout"
        }
      ]
    },
    {
      "cell_type": "markdown",
      "metadata": {
        "id": "DOFIRiDn0FSj"
      },
      "source": [
        "#Logistic Regression"
      ]
    },
    {
      "cell_type": "code",
      "metadata": {
        "id": "TmNTxZ-C0BNI",
        "outputId": "87b8ce2b-6e36-4542-998e-48b48669a817",
        "colab": {
          "base_uri": "https://localhost:8080/",
          "height": 247
        }
      },
      "source": [
        "\n",
        "# Step 1: Import the predictor\n",
        "from sklearn.linear_model import LogisticRegression\n",
        "\n",
        "# Step 2: Instantiate the predictor\n",
        "model = LogisticRegression()\n",
        "\n",
        "# Step 3: Fit the model to the training data\n",
        "model.fit(X_train, y_train)\n",
        "\n",
        "# Step 4: Make predications... see below"
      ],
      "execution_count": 16,
      "outputs": [
        {
          "output_type": "stream",
          "text": [
            "/usr/local/lib/python3.6/dist-packages/sklearn/linear_model/_logistic.py:940: ConvergenceWarning: lbfgs failed to converge (status=1):\n",
            "STOP: TOTAL NO. of ITERATIONS REACHED LIMIT.\n",
            "\n",
            "Increase the number of iterations (max_iter) or scale the data as shown in:\n",
            "    https://scikit-learn.org/stable/modules/preprocessing.html\n",
            "Please also refer to the documentation for alternative solver options:\n",
            "    https://scikit-learn.org/stable/modules/linear_model.html#logistic-regression\n",
            "  extra_warning_msg=_LOGISTIC_SOLVER_CONVERGENCE_MSG)\n"
          ],
          "name": "stderr"
        },
        {
          "output_type": "execute_result",
          "data": {
            "text/plain": [
              "LogisticRegression(C=1.0, class_weight=None, dual=False, fit_intercept=True,\n",
              "                   intercept_scaling=1, l1_ratio=None, max_iter=100,\n",
              "                   multi_class='auto', n_jobs=None, penalty='l2',\n",
              "                   random_state=None, solver='lbfgs', tol=0.0001, verbose=0,\n",
              "                   warm_start=False)"
            ]
          },
          "metadata": {
            "tags": []
          },
          "execution_count": 16
        }
      ]
    },
    {
      "cell_type": "code",
      "metadata": {
        "id": "UejXrSHtx9Pq",
        "outputId": "4ba6de5a-cab2-4ed5-8fbd-fb837b78873a",
        "colab": {
          "base_uri": "https://localhost:8080/",
          "height": 52
        }
      },
      "source": [
        "print('Training Accuracy Score:', model.score(X_train, y_train))\n",
        "print('Validation Accuracy Score:', model.score(X_val, y_val))"
      ],
      "execution_count": 17,
      "outputs": [
        {
          "output_type": "stream",
          "text": [
            "Training Accuracy Score: 0.8791946308724832\n",
            "Validation Accuracy Score: 0.8117647058823529\n"
          ],
          "name": "stdout"
        }
      ]
    },
    {
      "cell_type": "code",
      "metadata": {
        "id": "MbDIaZ4P3pt9",
        "outputId": "aeb85427-3c89-4e80-d7b5-2b2a532264d2",
        "colab": {
          "base_uri": "https://localhost:8080/",
          "height": 34
        }
      },
      "source": [
        "print('Testing Accuracy Score:', model.score(X_test, y_test))"
      ],
      "execution_count": 18,
      "outputs": [
        {
          "output_type": "stream",
          "text": [
            "Testing Accuracy Score: 0.7894736842105263\n"
          ],
          "name": "stdout"
        }
      ]
    },
    {
      "cell_type": "code",
      "metadata": {
        "id": "HI6lyiJ75Pqp"
      },
      "source": [
        ""
      ],
      "execution_count": 18,
      "outputs": []
    },
    {
      "cell_type": "markdown",
      "metadata": {
        "id": "N3tgIZl5Pzdl"
      },
      "source": [
        "#Pipeline trying different transformers and logistic regression"
      ]
    },
    {
      "cell_type": "code",
      "metadata": {
        "id": "a3tgg3Y2Thjc"
      },
      "source": [
        "#Do again with Burrito Column\n",
        "\n",
        "target = 'Great'\n",
        "y=df[target]\n",
        "X=df.drop(columns=target)"
      ],
      "execution_count": 19,
      "outputs": []
    },
    {
      "cell_type": "code",
      "metadata": {
        "id": "_YUO--5DThjg",
        "outputId": "f586ef1b-acf4-46a4-de01-b23958d2e09a",
        "colab": {
          "base_uri": "https://localhost:8080/",
          "height": 247
        }
      },
      "source": [
        "#separate the Training Set\n",
        "\n",
        "tr_cutoff = '12/31/2016'\n",
        "val_cutoff = '12/31/2017'\n",
        "\n",
        "tr_mask = X.index <= tr_cutoff\n",
        "val_mask = (X.index > tr_cutoff) & (X.index <= val_cutoff)\n",
        "test_mask = X.index > val_cutoff\n",
        "\n",
        "X_train, y_train = X[tr_mask], y[tr_mask]\n",
        "X_val, y_val = X[val_mask], y[val_mask]\n",
        "X_test, y_test = X[test_mask], y[test_mask]\n",
        "\n",
        "y_val"
      ],
      "execution_count": 20,
      "outputs": [
        {
          "output_type": "execute_result",
          "data": {
            "text/plain": [
              "Date\n",
              "2017-01-04    False\n",
              "2017-01-04    False\n",
              "2017-01-07    False\n",
              "2017-01-07    False\n",
              "2017-01-10    False\n",
              "              ...  \n",
              "2017-09-05     True\n",
              "2017-09-05     True\n",
              "2017-12-16    False\n",
              "2017-12-29     True\n",
              "2017-12-29     True\n",
              "Name: Great, Length: 85, dtype: bool"
            ]
          },
          "metadata": {
            "tags": []
          },
          "execution_count": 20
        }
      ]
    },
    {
      "cell_type": "code",
      "metadata": {
        "id": "AgelI5N2Thji"
      },
      "source": [
        "assert len(X) == len(X_train) + len(X_val) + len(X_test)"
      ],
      "execution_count": 21,
      "outputs": []
    },
    {
      "cell_type": "markdown",
      "metadata": {
        "id": "090b8OzaThjl"
      },
      "source": [
        "##Establish Baseline"
      ]
    },
    {
      "cell_type": "code",
      "metadata": {
        "id": "C3Hhfu2JThjl",
        "outputId": "dbe61da6-5265-4437-82b5-4575675b1d1d",
        "colab": {
          "base_uri": "https://localhost:8080/",
          "height": 34
        }
      },
      "source": [
        "print('Baseline accuracy:', y_train.value_counts(normalize=True).max())"
      ],
      "execution_count": 22,
      "outputs": [
        {
          "output_type": "stream",
          "text": [
            "Baseline accuracy: 0.5906040268456376\n"
          ],
          "name": "stdout"
        }
      ]
    },
    {
      "cell_type": "markdown",
      "metadata": {
        "id": "8d0yAJjaTs1l"
      },
      "source": [
        "## Pipeline"
      ]
    },
    {
      "cell_type": "code",
      "metadata": {
        "id": "EUSAYDEfT15c",
        "outputId": "09f83b1d-00d1-4c81-e4f3-46c302ff1f24",
        "colab": {
          "base_uri": "https://localhost:8080/",
          "height": 72
        }
      },
      "source": [
        "from category_encoders import OneHotEncoder\n",
        "from sklearn.linear_model import LogisticRegression\n",
        "from sklearn.pipeline import make_pipeline\n",
        "from sklearn.preprocessing import StandardScaler"
      ],
      "execution_count": 23,
      "outputs": [
        {
          "output_type": "stream",
          "text": [
            "/usr/local/lib/python3.6/dist-packages/statsmodels/tools/_testing.py:19: FutureWarning: pandas.util.testing is deprecated. Use the functions in the public API at pandas.testing instead.\n",
            "  import pandas.util.testing as tm\n"
          ],
          "name": "stderr"
        }
      ]
    },
    {
      "cell_type": "code",
      "metadata": {
        "id": "ZeOreCH8TusH",
        "outputId": "54547038-b7f0-4ed5-ad90-e0ef4eb47f47",
        "colab": {
          "base_uri": "https://localhost:8080/",
          "height": 356
        }
      },
      "source": [
        "model = make_pipeline(\n",
        "       OneHotEncoder(use_cat_names=True),\n",
        "       StandardScaler(),\n",
        "       LogisticRegression()\n",
        ")\n",
        "\n",
        "model.fit(X_train, y_train)"
      ],
      "execution_count": 24,
      "outputs": [
        {
          "output_type": "stream",
          "text": [
            "/usr/local/lib/python3.6/dist-packages/category_encoders/utils.py:21: FutureWarning: is_categorical is deprecated and will be removed in a future version.  Use is_categorical_dtype instead\n",
            "  elif pd.api.types.is_categorical(cols):\n"
          ],
          "name": "stderr"
        },
        {
          "output_type": "execute_result",
          "data": {
            "text/plain": [
              "Pipeline(memory=None,\n",
              "         steps=[('onehotencoder',\n",
              "                 OneHotEncoder(cols=['Burrito'], drop_invariant=False,\n",
              "                               handle_missing='value', handle_unknown='value',\n",
              "                               return_df=True, use_cat_names=True, verbose=0)),\n",
              "                ('standardscaler',\n",
              "                 StandardScaler(copy=True, with_mean=True, with_std=True)),\n",
              "                ('logisticregression',\n",
              "                 LogisticRegression(C=1.0, class_weight=None, dual=False,\n",
              "                                    fit_intercept=True, intercept_scaling=1,\n",
              "                                    l1_ratio=None, max_iter=100,\n",
              "                                    multi_class='auto', n_jobs=None,\n",
              "                                    penalty='l2', random_state=None,\n",
              "                                    solver='lbfgs', tol=0.0001, verbose=0,\n",
              "                                    warm_start=False))],\n",
              "         verbose=False)"
            ]
          },
          "metadata": {
            "tags": []
          },
          "execution_count": 24
        }
      ]
    },
    {
      "cell_type": "code",
      "metadata": {
        "id": "3YcoZoADUQgj",
        "outputId": "3632813a-23cc-4b39-ae45-7f78c46d33ed",
        "colab": {
          "base_uri": "https://localhost:8080/",
          "height": 52
        }
      },
      "source": [
        "print('Training Accuracy Score:', model.score(X_train, y_train))\n",
        "print('Validations Accuracy Score:', model.score(X_val, y_val))"
      ],
      "execution_count": 25,
      "outputs": [
        {
          "output_type": "stream",
          "text": [
            "Training Accuracy Score: 0.9228187919463087\n",
            "Validations Accuracy Score: 0.7647058823529411\n"
          ],
          "name": "stdout"
        }
      ]
    },
    {
      "cell_type": "code",
      "metadata": {
        "id": "wFUJPf5TU3d8",
        "outputId": "40debbbc-0c6a-4743-b88e-ac1227ed22df",
        "colab": {
          "base_uri": "https://localhost:8080/",
          "height": 247
        }
      },
      "source": [
        "# Get coefficients from model\n",
        "coefficients = model.named_steps['logisticregression'].coef_\n",
        "features = model.named_steps['onehotencoder'].get_feature_names()\n",
        "\n",
        "coefficients = coefficients[0]\n",
        "\n",
        "coefficients"
      ],
      "execution_count": 26,
      "outputs": [
        {
          "output_type": "execute_result",
          "data": {
            "text/plain": [
              "array([ 0.36074574, -0.01944579, -0.03259583, -0.52758672,  0.36251075,\n",
              "       -0.02592913, -0.13638388, -0.04753679, -0.05058084,  0.28394226,\n",
              "        0.        ,  0.        , -0.70874534, -0.09214771,  0.25876146,\n",
              "        0.75355949,  0.42309362,  0.91067169,  0.85721987,  0.94439029,\n",
              "        0.02448929,  0.31873641,  2.03788619,  0.10926134,  0.93799262,\n",
              "        0.2015769 , -0.65357567, -0.14501707,  0.22328132,  0.06089903,\n",
              "       -0.26502112,  0.08174587, -0.07727624, -0.31660239, -0.05844871,\n",
              "       -0.15897536,  0.20469692, -0.58952242, -0.26737664, -0.15365283,\n",
              "       -0.28997244, -0.00570947, -0.05641498,  0.07113168, -0.03253595,\n",
              "        0.34916972,  0.11335333,  0.04930282, -0.83836489,  0.50013717,\n",
              "        0.13000681,  0.26345593, -0.08694831,  0.        ,  0.02533353,\n",
              "        0.09670418,  0.27493838,  0.18698667, -0.38227961, -0.00366292,\n",
              "        0.58748743])"
            ]
          },
          "metadata": {
            "tags": []
          },
          "execution_count": 26
        }
      ]
    },
    {
      "cell_type": "code",
      "metadata": {
        "id": "dyi5U02OnYZV",
        "outputId": "0b8467e0-c044-4108-95ef-391c58469b2c",
        "colab": {
          "base_uri": "https://localhost:8080/",
          "height": 230
        }
      },
      "source": [
        "feat_importances = pd.Series(coefficients, index=features).sort_values(key=lambda x: abs(x), ascending=False)\n",
        "\n",
        "feat_importances"
      ],
      "execution_count": 27,
      "outputs": [
        {
          "output_type": "execute_result",
          "data": {
            "text/plain": [
              "Synergy           2.037886\n",
              "Meat:filling      0.944390\n",
              "Unreliable        0.937993\n",
              "Meat              0.910672\n",
              "Fillings          0.857220\n",
              "                    ...   \n",
              "Carrots          -0.005709\n",
              "Corn             -0.003663\n",
              "Mass (g)          0.000000\n",
              "Density (g/mL)    0.000000\n",
              "Queso             0.000000\n",
              "Length: 61, dtype: float64"
            ]
          },
          "metadata": {
            "tags": []
          },
          "execution_count": 27
        }
      ]
    },
    {
      "cell_type": "code",
      "metadata": {
        "id": "RkptRUJSVq0t",
        "outputId": "59343084-e477-432c-fc49-717a5928f13a",
        "colab": {
          "base_uri": "https://localhost:8080/",
          "height": 264
        }
      },
      "source": [
        " # Plot feature importances\n",
        "feat_importances.head(10).plot(kind='barh');"
      ],
      "execution_count": 28,
      "outputs": [
        {
          "output_type": "display_data",
          "data": {
            "image/png": "[encoded data removed]",
            "text/plain": [
              "<Figure size 432x288 with 1 Axes>"
            ]
          },
          "metadata": {
            "tags": [],
            "needs_background": "light"
          }
        }
      ]
    },
    {
      "cell_type": "code",
      "metadata": {
        "id": "rHwRKUnZh7VR"
      },
      "source": [
        ""
      ],
      "execution_count": 28,
      "outputs": []
    }
  ]
}