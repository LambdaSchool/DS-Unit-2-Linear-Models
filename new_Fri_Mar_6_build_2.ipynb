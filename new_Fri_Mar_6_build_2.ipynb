{
  "nbformat": 4,
  "nbformat_minor": 0,
  "metadata": {
    "colab": {
      "name": "new Fri Mar 6 build 2.ipynb",
      "provenance": [],
      "collapsed_sections": [],
      "authorship_tag": "ABX9TyND5BGlmoZnqT6x2UIKbNSI",
      "include_colab_link": true
    },
    "kernelspec": {
      "name": "python3",
      "display_name": "Python 3"
    }
  },
  "cells": [
    {
      "cell_type": "markdown",
      "metadata": {
        "id": "view-in-github",
        "colab_type": "text"
      },
      "source": [
        "<a href=\"https://colab.research.google.com/github/LambdaTheda/DS-Unit-2-Linear-Models/blob/master/new_Fri_Mar_6_build_2.ipynb\" target=\"_parent\"><img src=\"https://colab.research.google.com/assets/colab-badge.svg\" alt=\"Open In Colab\"/></a>"
      ]
    },
    {
      "cell_type": "code",
      "metadata": {
        "id": "sugh27O6FWTw",
        "colab_type": "code",
        "colab": {}
      },
      "source": [
        "# read in dataset 1: pokemon Go character sightings\n",
        "\n",
        "import pandas as pd\n",
        "\n",
        "df = pd.read_csv('300k.csv')\n",
        "pd.set_option(\"display.max_rows\", 91835)\n",
        "df\n"
      ],
      "execution_count": 0,
      "outputs": []
    },
    {
      "cell_type": "code",
      "metadata": {
        "id": "UPpL0A0-O37g",
        "colab_type": "code",
        "colab": {}
      },
      "source": [
        "# read in dataset 2: encoded names and corresponding id#s\n",
        "df_Names = pd.read_csv('pokemonNumbers.csv', header= None)\n",
        "pd.set_option(\"display.max_rows\", 91835)\n",
        "df_Names"
      ],
      "execution_count": 0,
      "outputs": []
    },
    {
      "cell_type": "code",
      "metadata": {
        "id": "5D5tFb2ePIVQ",
        "colab_type": "code",
        "colab": {}
      },
      "source": [
        "#EXPLORATORY DATA ANALYSIS/DATA WRANGLING\n",
        "\n",
        "# change  df_Names column names\n",
        "df_Names.columns=['pokeID_num_From_df_Names', 'pokemonName']\n",
        "df_Names"
      ],
      "execution_count": 0,
      "outputs": []
    },
    {
      "cell_type": "code",
      "metadata": {
        "id": "eg8oC22WPeSi",
        "colab_type": "code",
        "colab": {}
      },
      "source": [
        "# check df_Names column datatypes\n",
        "print(df_Names.dtypes)"
      ],
      "execution_count": 0,
      "outputs": []
    }
  ]
}