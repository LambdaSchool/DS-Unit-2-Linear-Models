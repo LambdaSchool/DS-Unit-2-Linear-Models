{
  "nbformat": 4,
  "nbformat_minor": 0,
  "metadata": {
    "kernelspec": {
      "display_name": "Python 3",
      "language": "python",
      "name": "python3"
    },
    "language_info": {
      "codemirror_mode": {
        "name": "ipython",
        "version": 3
      },
      "file_extension": ".py",
      "mimetype": "text/x-python",
      "name": "python",
      "nbconvert_exporter": "python",
      "pygments_lexer": "ipython3",
      "version": "3.7.3"
    },
    "colab": {
      "name": "skhabiri_LS_DS_214_assignment.ipynb",
      "provenance": [],
      "collapsed_sections": [],
      "include_colab_link": true
    }
  },
  "cells": [
    {
      "cell_type": "markdown",
      "metadata": {
        "id": "view-in-github",
        "colab_type": "text"
      },
      "source": [
        "<a href=\"https://colab.research.google.com/github/skhabiri/DS-Unit-2-Linear-Models/blob/master/module4-logistic-regression/skhabiri_LS_DS_214_assignment.ipynb\" target=\"_parent\"><img src=\"https://colab.research.google.com/assets/colab-badge.svg\" alt=\"Open In Colab\"/></a>"
      ]
    },
    {
      "cell_type": "markdown",
      "metadata": {
        "id": "SSwf3ZxK2EeX",
        "colab_type": "text"
      },
      "source": [
        "Lambda School Data Science\n",
        "\n",
        "*Unit 2, Sprint 1, Module 4*\n",
        "\n",
        "---"
      ]
    },
    {
      "cell_type": "markdown",
      "metadata": {
        "colab_type": "text",
        "id": "7IXUfiQ2UKj6"
      },
      "source": [
        "# Logistic Regression\n",
        "\n",
        "\n",
        "## Assignment 🌯\n",
        "\n",
        "You'll use a [**dataset of 400+ burrito reviews**](https://srcole.github.io/100burritos/). How accurately can you predict whether a burrito is rated 'Great'?\n",
        "\n",
        "> We have developed a 10-dimensional system for rating the burritos in San Diego. ... Generate models for what makes a burrito great and investigate correlations in its dimensions.\n",
        "\n",
        "- [ ] Do train/validate/test split. Train on reviews from 2016 & earlier. Validate on 2017. Test on 2018 & later.\n",
        "- [ ] Begin with baselines for classification.\n",
        "- [ ] Use scikit-learn for logistic regression.\n",
        "- [ ] Get your model's validation accuracy. (Multiple times if you try multiple iterations.)\n",
        "- [ ] Get your model's test accuracy. (One time, at the end.)\n",
        "- [ ] Commit your notebook to your fork of the GitHub repo.\n",
        "\n",
        "\n",
        "## Stretch Goals\n",
        "\n",
        "- [ ] Add your own stretch goal(s) !\n",
        "- [ ] Make exploratory visualizations.\n",
        "- [ ] Do one-hot encoding.\n",
        "- [ ] Do [feature scaling](https://scikit-learn.org/stable/modules/preprocessing.html).\n",
        "- [ ] Get and plot your coefficients.\n",
        "- [ ] Try [scikit-learn pipelines](https://scikit-learn.org/stable/modules/compose.html)."
      ]
    },
    {
      "cell_type": "code",
      "metadata": {
        "colab_type": "code",
        "id": "o9eSnDYhUGD7",
        "colab": {}
      },
      "source": [
        "%%capture\n",
        "import sys\n",
        "\n",
        "# If you're on Colab:\n",
        "if 'google.colab' in sys.modules:\n",
        "    DATA_PATH = 'https://raw.githubusercontent.com/LambdaSchool/DS-Unit-2-Linear-Models/master/data/'\n",
        "    !pip install category_encoders==2.*\n",
        "\n",
        "# If you're working locally:\n",
        "else:\n",
        "    DATA_PATH = '../data/'"
      ],
      "execution_count": 106,
      "outputs": []
    },
    {
      "cell_type": "code",
      "metadata": {
        "id": "6oTgzjYd2Eee",
        "colab_type": "code",
        "colab": {}
      },
      "source": [
        "# Load data downloaded from https://srcole.github.io/100burritos/\n",
        "import pandas as pd\n",
        "df = pd.read_csv(DATA_PATH+'burritos/burritos.csv')"
      ],
      "execution_count": 107,
      "outputs": []
    },
    {
      "cell_type": "code",
      "metadata": {
        "id": "Pf-pcnKO4V4X",
        "colab_type": "code",
        "colab": {
          "base_uri": "https://localhost:8080/",
          "height": 485
        },
        "outputId": "30b03992-94bf-43a1-fd4b-71869a9a7f78"
      },
      "source": [
        "print(df.shape)\n",
        "df.head()"
      ],
      "execution_count": 108,
      "outputs": [
        {
          "output_type": "stream",
          "text": [
            "(423, 66)\n"
          ],
          "name": "stdout"
        },
        {
          "output_type": "execute_result",
          "data": {
            "text/html": [
              "<div>\n",
              "<style scoped>\n",
              "    .dataframe tbody tr th:only-of-type {\n",
              "        vertical-align: middle;\n",
              "    }\n",
              "\n",
              "    .dataframe tbody tr th {\n",
              "        vertical-align: top;\n",
              "    }\n",
              "\n",
              "    .dataframe thead th {\n",
              "        text-align: right;\n",
              "    }\n",
              "</style>\n",
              "<table border=\"1\" class=\"dataframe\">\n",
              "  <thead>\n",
              "    <tr style=\"text-align: right;\">\n",
              "      <th></th>\n",
              "      <th>Location</th>\n",
              "      <th>Burrito</th>\n",
              "      <th>Date</th>\n",
              "      <th>Neighborhood</th>\n",
              "      <th>Address</th>\n",
              "      <th>URL</th>\n",
              "      <th>Yelp</th>\n",
              "      <th>Google</th>\n",
              "      <th>Chips</th>\n",
              "      <th>Cost</th>\n",
              "      <th>Hunger</th>\n",
              "      <th>Mass (g)</th>\n",
              "      <th>Density (g/mL)</th>\n",
              "      <th>Length</th>\n",
              "      <th>Circum</th>\n",
              "      <th>Volume</th>\n",
              "      <th>Tortilla</th>\n",
              "      <th>Temp</th>\n",
              "      <th>Meat</th>\n",
              "      <th>Fillings</th>\n",
              "      <th>Meat:filling</th>\n",
              "      <th>Uniformity</th>\n",
              "      <th>Salsa</th>\n",
              "      <th>Synergy</th>\n",
              "      <th>Wrap</th>\n",
              "      <th>overall</th>\n",
              "      <th>Rec</th>\n",
              "      <th>Reviewer</th>\n",
              "      <th>Notes</th>\n",
              "      <th>Unreliable</th>\n",
              "      <th>NonSD</th>\n",
              "      <th>Beef</th>\n",
              "      <th>Pico</th>\n",
              "      <th>Guac</th>\n",
              "      <th>Cheese</th>\n",
              "      <th>Fries</th>\n",
              "      <th>Sour cream</th>\n",
              "      <th>Pork</th>\n",
              "      <th>Chicken</th>\n",
              "      <th>Shrimp</th>\n",
              "      <th>Fish</th>\n",
              "      <th>Rice</th>\n",
              "      <th>Beans</th>\n",
              "      <th>Lettuce</th>\n",
              "      <th>Tomato</th>\n",
              "      <th>Bell peper</th>\n",
              "      <th>Carrots</th>\n",
              "      <th>Cabbage</th>\n",
              "      <th>Sauce</th>\n",
              "      <th>Salsa.1</th>\n",
              "      <th>Cilantro</th>\n",
              "      <th>Onion</th>\n",
              "      <th>Taquito</th>\n",
              "      <th>Pineapple</th>\n",
              "      <th>Ham</th>\n",
              "      <th>Chile relleno</th>\n",
              "      <th>Nopales</th>\n",
              "      <th>Lobster</th>\n",
              "      <th>Queso</th>\n",
              "      <th>Egg</th>\n",
              "      <th>Mushroom</th>\n",
              "      <th>Bacon</th>\n",
              "      <th>Sushi</th>\n",
              "      <th>Avocado</th>\n",
              "      <th>Corn</th>\n",
              "      <th>Zucchini</th>\n",
              "    </tr>\n",
              "  </thead>\n",
              "  <tbody>\n",
              "    <tr>\n",
              "      <th>0</th>\n",
              "      <td>Donato's taco shop</td>\n",
              "      <td>California</td>\n",
              "      <td>1/18/2016</td>\n",
              "      <td>Miramar</td>\n",
              "      <td>6780 Miramar Rd</td>\n",
              "      <td>http://donatostacoshop.net/</td>\n",
              "      <td>3.5</td>\n",
              "      <td>4.2</td>\n",
              "      <td>NaN</td>\n",
              "      <td>6.49</td>\n",
              "      <td>3.0</td>\n",
              "      <td>NaN</td>\n",
              "      <td>NaN</td>\n",
              "      <td>NaN</td>\n",
              "      <td>NaN</td>\n",
              "      <td>NaN</td>\n",
              "      <td>3.0</td>\n",
              "      <td>5.0</td>\n",
              "      <td>3.0</td>\n",
              "      <td>3.5</td>\n",
              "      <td>4.0</td>\n",
              "      <td>4.0</td>\n",
              "      <td>4.0</td>\n",
              "      <td>4.0</td>\n",
              "      <td>4.0</td>\n",
              "      <td>3.80</td>\n",
              "      <td>NaN</td>\n",
              "      <td>Scott</td>\n",
              "      <td>good fries: 4/5</td>\n",
              "      <td>NaN</td>\n",
              "      <td>NaN</td>\n",
              "      <td>x</td>\n",
              "      <td>x</td>\n",
              "      <td>x</td>\n",
              "      <td>x</td>\n",
              "      <td>x</td>\n",
              "      <td>NaN</td>\n",
              "      <td>NaN</td>\n",
              "      <td>NaN</td>\n",
              "      <td>NaN</td>\n",
              "      <td>NaN</td>\n",
              "      <td>NaN</td>\n",
              "      <td>NaN</td>\n",
              "      <td>NaN</td>\n",
              "      <td>NaN</td>\n",
              "      <td>NaN</td>\n",
              "      <td>NaN</td>\n",
              "      <td>NaN</td>\n",
              "      <td>NaN</td>\n",
              "      <td>NaN</td>\n",
              "      <td>NaN</td>\n",
              "      <td>NaN</td>\n",
              "      <td>NaN</td>\n",
              "      <td>NaN</td>\n",
              "      <td>NaN</td>\n",
              "      <td>NaN</td>\n",
              "      <td>NaN</td>\n",
              "      <td>NaN</td>\n",
              "      <td>NaN</td>\n",
              "      <td>NaN</td>\n",
              "      <td>NaN</td>\n",
              "      <td>NaN</td>\n",
              "      <td>NaN</td>\n",
              "      <td>NaN</td>\n",
              "      <td>NaN</td>\n",
              "      <td>NaN</td>\n",
              "    </tr>\n",
              "    <tr>\n",
              "      <th>1</th>\n",
              "      <td>Oscar's Mexican food</td>\n",
              "      <td>California</td>\n",
              "      <td>1/24/2016</td>\n",
              "      <td>San Marcos</td>\n",
              "      <td>225 S Rancho Santa Fe Rd</td>\n",
              "      <td>http://www.yelp.com/biz/oscars-mexican-food-sa...</td>\n",
              "      <td>3.5</td>\n",
              "      <td>3.3</td>\n",
              "      <td>NaN</td>\n",
              "      <td>5.45</td>\n",
              "      <td>3.5</td>\n",
              "      <td>NaN</td>\n",
              "      <td>NaN</td>\n",
              "      <td>NaN</td>\n",
              "      <td>NaN</td>\n",
              "      <td>NaN</td>\n",
              "      <td>2.0</td>\n",
              "      <td>3.5</td>\n",
              "      <td>2.5</td>\n",
              "      <td>2.5</td>\n",
              "      <td>2.0</td>\n",
              "      <td>4.0</td>\n",
              "      <td>3.5</td>\n",
              "      <td>2.5</td>\n",
              "      <td>5.0</td>\n",
              "      <td>3.00</td>\n",
              "      <td>NaN</td>\n",
              "      <td>Scott</td>\n",
              "      <td>Fries: 3/5; too little meat</td>\n",
              "      <td>NaN</td>\n",
              "      <td>NaN</td>\n",
              "      <td>x</td>\n",
              "      <td>x</td>\n",
              "      <td>x</td>\n",
              "      <td>x</td>\n",
              "      <td>x</td>\n",
              "      <td>NaN</td>\n",
              "      <td>NaN</td>\n",
              "      <td>NaN</td>\n",
              "      <td>NaN</td>\n",
              "      <td>NaN</td>\n",
              "      <td>NaN</td>\n",
              "      <td>NaN</td>\n",
              "      <td>NaN</td>\n",
              "      <td>NaN</td>\n",
              "      <td>NaN</td>\n",
              "      <td>NaN</td>\n",
              "      <td>NaN</td>\n",
              "      <td>NaN</td>\n",
              "      <td>NaN</td>\n",
              "      <td>NaN</td>\n",
              "      <td>NaN</td>\n",
              "      <td>NaN</td>\n",
              "      <td>NaN</td>\n",
              "      <td>NaN</td>\n",
              "      <td>NaN</td>\n",
              "      <td>NaN</td>\n",
              "      <td>NaN</td>\n",
              "      <td>NaN</td>\n",
              "      <td>NaN</td>\n",
              "      <td>NaN</td>\n",
              "      <td>NaN</td>\n",
              "      <td>NaN</td>\n",
              "      <td>NaN</td>\n",
              "      <td>NaN</td>\n",
              "      <td>NaN</td>\n",
              "    </tr>\n",
              "    <tr>\n",
              "      <th>2</th>\n",
              "      <td>Oscar's Mexican food</td>\n",
              "      <td>Carnitas</td>\n",
              "      <td>1/24/2016</td>\n",
              "      <td>NaN</td>\n",
              "      <td>NaN</td>\n",
              "      <td>NaN</td>\n",
              "      <td>NaN</td>\n",
              "      <td>NaN</td>\n",
              "      <td>NaN</td>\n",
              "      <td>4.85</td>\n",
              "      <td>1.5</td>\n",
              "      <td>NaN</td>\n",
              "      <td>NaN</td>\n",
              "      <td>NaN</td>\n",
              "      <td>NaN</td>\n",
              "      <td>NaN</td>\n",
              "      <td>3.0</td>\n",
              "      <td>2.0</td>\n",
              "      <td>2.5</td>\n",
              "      <td>3.0</td>\n",
              "      <td>4.5</td>\n",
              "      <td>4.0</td>\n",
              "      <td>3.0</td>\n",
              "      <td>3.0</td>\n",
              "      <td>5.0</td>\n",
              "      <td>3.00</td>\n",
              "      <td>NaN</td>\n",
              "      <td>Emily</td>\n",
              "      <td>NaN</td>\n",
              "      <td>NaN</td>\n",
              "      <td>NaN</td>\n",
              "      <td>NaN</td>\n",
              "      <td>x</td>\n",
              "      <td>x</td>\n",
              "      <td>NaN</td>\n",
              "      <td>NaN</td>\n",
              "      <td>NaN</td>\n",
              "      <td>x</td>\n",
              "      <td>NaN</td>\n",
              "      <td>NaN</td>\n",
              "      <td>NaN</td>\n",
              "      <td>NaN</td>\n",
              "      <td>NaN</td>\n",
              "      <td>NaN</td>\n",
              "      <td>NaN</td>\n",
              "      <td>NaN</td>\n",
              "      <td>NaN</td>\n",
              "      <td>NaN</td>\n",
              "      <td>NaN</td>\n",
              "      <td>NaN</td>\n",
              "      <td>NaN</td>\n",
              "      <td>NaN</td>\n",
              "      <td>NaN</td>\n",
              "      <td>NaN</td>\n",
              "      <td>NaN</td>\n",
              "      <td>NaN</td>\n",
              "      <td>NaN</td>\n",
              "      <td>NaN</td>\n",
              "      <td>NaN</td>\n",
              "      <td>NaN</td>\n",
              "      <td>NaN</td>\n",
              "      <td>NaN</td>\n",
              "      <td>NaN</td>\n",
              "      <td>NaN</td>\n",
              "      <td>NaN</td>\n",
              "      <td>NaN</td>\n",
              "    </tr>\n",
              "    <tr>\n",
              "      <th>3</th>\n",
              "      <td>Oscar's Mexican food</td>\n",
              "      <td>Carne asada</td>\n",
              "      <td>1/24/2016</td>\n",
              "      <td>NaN</td>\n",
              "      <td>NaN</td>\n",
              "      <td>NaN</td>\n",
              "      <td>NaN</td>\n",
              "      <td>NaN</td>\n",
              "      <td>NaN</td>\n",
              "      <td>5.25</td>\n",
              "      <td>2.0</td>\n",
              "      <td>NaN</td>\n",
              "      <td>NaN</td>\n",
              "      <td>NaN</td>\n",
              "      <td>NaN</td>\n",
              "      <td>NaN</td>\n",
              "      <td>3.0</td>\n",
              "      <td>2.0</td>\n",
              "      <td>3.5</td>\n",
              "      <td>3.0</td>\n",
              "      <td>4.0</td>\n",
              "      <td>5.0</td>\n",
              "      <td>4.0</td>\n",
              "      <td>4.0</td>\n",
              "      <td>5.0</td>\n",
              "      <td>3.75</td>\n",
              "      <td>NaN</td>\n",
              "      <td>Ricardo</td>\n",
              "      <td>Go to average burrito place like Rigoberto's i...</td>\n",
              "      <td>NaN</td>\n",
              "      <td>NaN</td>\n",
              "      <td>x</td>\n",
              "      <td>x</td>\n",
              "      <td>x</td>\n",
              "      <td>NaN</td>\n",
              "      <td>NaN</td>\n",
              "      <td>NaN</td>\n",
              "      <td>NaN</td>\n",
              "      <td>NaN</td>\n",
              "      <td>NaN</td>\n",
              "      <td>NaN</td>\n",
              "      <td>NaN</td>\n",
              "      <td>NaN</td>\n",
              "      <td>NaN</td>\n",
              "      <td>NaN</td>\n",
              "      <td>NaN</td>\n",
              "      <td>NaN</td>\n",
              "      <td>NaN</td>\n",
              "      <td>NaN</td>\n",
              "      <td>NaN</td>\n",
              "      <td>NaN</td>\n",
              "      <td>NaN</td>\n",
              "      <td>NaN</td>\n",
              "      <td>NaN</td>\n",
              "      <td>NaN</td>\n",
              "      <td>NaN</td>\n",
              "      <td>NaN</td>\n",
              "      <td>NaN</td>\n",
              "      <td>NaN</td>\n",
              "      <td>NaN</td>\n",
              "      <td>NaN</td>\n",
              "      <td>NaN</td>\n",
              "      <td>NaN</td>\n",
              "      <td>NaN</td>\n",
              "      <td>NaN</td>\n",
              "      <td>NaN</td>\n",
              "    </tr>\n",
              "    <tr>\n",
              "      <th>4</th>\n",
              "      <td>Pollos Maria</td>\n",
              "      <td>California</td>\n",
              "      <td>1/27/2016</td>\n",
              "      <td>Carlsbad</td>\n",
              "      <td>3055 Harding St</td>\n",
              "      <td>http://pollosmaria.com/</td>\n",
              "      <td>4.0</td>\n",
              "      <td>3.8</td>\n",
              "      <td>x</td>\n",
              "      <td>6.59</td>\n",
              "      <td>4.0</td>\n",
              "      <td>NaN</td>\n",
              "      <td>NaN</td>\n",
              "      <td>NaN</td>\n",
              "      <td>NaN</td>\n",
              "      <td>NaN</td>\n",
              "      <td>4.0</td>\n",
              "      <td>5.0</td>\n",
              "      <td>4.0</td>\n",
              "      <td>3.5</td>\n",
              "      <td>4.5</td>\n",
              "      <td>5.0</td>\n",
              "      <td>2.5</td>\n",
              "      <td>4.5</td>\n",
              "      <td>4.0</td>\n",
              "      <td>4.20</td>\n",
              "      <td>NaN</td>\n",
              "      <td>Scott</td>\n",
              "      <td>NaN</td>\n",
              "      <td>NaN</td>\n",
              "      <td>NaN</td>\n",
              "      <td>x</td>\n",
              "      <td>x</td>\n",
              "      <td>NaN</td>\n",
              "      <td>x</td>\n",
              "      <td>x</td>\n",
              "      <td>NaN</td>\n",
              "      <td>NaN</td>\n",
              "      <td>NaN</td>\n",
              "      <td>NaN</td>\n",
              "      <td>NaN</td>\n",
              "      <td>NaN</td>\n",
              "      <td>NaN</td>\n",
              "      <td>NaN</td>\n",
              "      <td>NaN</td>\n",
              "      <td>NaN</td>\n",
              "      <td>NaN</td>\n",
              "      <td>NaN</td>\n",
              "      <td>NaN</td>\n",
              "      <td>NaN</td>\n",
              "      <td>NaN</td>\n",
              "      <td>NaN</td>\n",
              "      <td>NaN</td>\n",
              "      <td>NaN</td>\n",
              "      <td>NaN</td>\n",
              "      <td>NaN</td>\n",
              "      <td>NaN</td>\n",
              "      <td>NaN</td>\n",
              "      <td>NaN</td>\n",
              "      <td>NaN</td>\n",
              "      <td>NaN</td>\n",
              "      <td>NaN</td>\n",
              "      <td>NaN</td>\n",
              "      <td>NaN</td>\n",
              "      <td>NaN</td>\n",
              "      <td>NaN</td>\n",
              "    </tr>\n",
              "  </tbody>\n",
              "</table>\n",
              "</div>"
            ],
            "text/plain": [
              "               Location      Burrito       Date  ... Avocado Corn Zucchini\n",
              "0    Donato's taco shop  California   1/18/2016  ...     NaN  NaN      NaN\n",
              "1  Oscar's Mexican food  California   1/24/2016  ...     NaN  NaN      NaN\n",
              "2  Oscar's Mexican food     Carnitas  1/24/2016  ...     NaN  NaN      NaN\n",
              "3  Oscar's Mexican food  Carne asada  1/24/2016  ...     NaN  NaN      NaN\n",
              "4          Pollos Maria   California  1/27/2016  ...     NaN  NaN      NaN\n",
              "\n",
              "[5 rows x 66 columns]"
            ]
          },
          "metadata": {
            "tags": []
          },
          "execution_count": 108
        }
      ]
    },
    {
      "cell_type": "code",
      "metadata": {
        "id": "mrvaZtyM4xHC",
        "colab_type": "code",
        "colab": {
          "base_uri": "https://localhost:8080/",
          "height": 745
        },
        "outputId": "f7bc723c-d812-4873-eae6-64ebad48cffa"
      },
      "source": [
        "# check number of ns in class label\n",
        "df[\"overall\"].value_counts(dropna=False)"
      ],
      "execution_count": 109,
      "outputs": [
        {
          "output_type": "execute_result",
          "data": {
            "text/plain": [
              "4.00000    74\n",
              "3.50000    46\n",
              "3.00000    39\n",
              "4.50000    24\n",
              "4.20000    24\n",
              "2.00000    19\n",
              "3.90000    17\n",
              "3.70000    15\n",
              "3.80000    15\n",
              "4.10000    12\n",
              "5.00000    11\n",
              "3.20000    11\n",
              "2.50000     9\n",
              "3.60000     9\n",
              "4.25000     8\n",
              "4.80000     7\n",
              "4.30000     7\n",
              "3.10000     6\n",
              "3.75000     6\n",
              "2.60000     6\n",
              "2.80000     5\n",
              "4.60000     4\n",
              "4.70000     4\n",
              "2.70000     4\n",
              "2.90000     4\n",
              "3.30000     4\n",
              "2.20000     4\n",
              "4.40000     4\n",
              "1.50000     4\n",
              "3.40000     3\n",
              "4.90000     3\n",
              "NaN         2\n",
              "3.25000     2\n",
              "1.80000     2\n",
              "2.40000     2\n",
              "2.75000     2\n",
              "2.30000     2\n",
              "2.66000     1\n",
              "1.00000     1\n",
              "3.33333     1\n",
              "Name: overall, dtype: int64"
            ]
          },
          "metadata": {
            "tags": []
          },
          "execution_count": 109
        }
      ]
    },
    {
      "cell_type": "code",
      "metadata": {
        "id": "q8Wcju1H2Eeg",
        "colab_type": "code",
        "colab": {}
      },
      "source": [
        "# Derive binary classification target:\n",
        "# We define a 'Great' burrito as having an\n",
        "# overall rating of 4 or higher, on a 5 point scale.\n",
        "# Drop unrated burritos.\n",
        "df = df.dropna(subset=['overall'])\n",
        "df['Great'] = df['overall'] >= 4"
      ],
      "execution_count": 110,
      "outputs": []
    },
    {
      "cell_type": "code",
      "metadata": {
        "id": "lIFZGFvd6A0y",
        "colab_type": "code",
        "colab": {
          "base_uri": "https://localhost:8080/",
          "height": 34
        },
        "outputId": "207319bc-9a0e-4145-a720-9a38428936d4"
      },
      "source": [
        "df.shape"
      ],
      "execution_count": 111,
      "outputs": [
        {
          "output_type": "execute_result",
          "data": {
            "text/plain": [
              "(421, 67)"
            ]
          },
          "metadata": {
            "tags": []
          },
          "execution_count": 111
        }
      ]
    },
    {
      "cell_type": "code",
      "metadata": {
        "id": "HWgjnTb-6I6O",
        "colab_type": "code",
        "colab": {
          "base_uri": "https://localhost:8080/",
          "height": 1000
        },
        "outputId": "22f50d38-f019-4f6f-a33a-722de776f55e"
      },
      "source": [
        "df.info()"
      ],
      "execution_count": 112,
      "outputs": [
        {
          "output_type": "stream",
          "text": [
            "<class 'pandas.core.frame.DataFrame'>\n",
            "Int64Index: 421 entries, 0 to 422\n",
            "Data columns (total 67 columns):\n",
            " #   Column          Non-Null Count  Dtype  \n",
            "---  ------          --------------  -----  \n",
            " 0   Location        421 non-null    object \n",
            " 1   Burrito         421 non-null    object \n",
            " 2   Date            421 non-null    object \n",
            " 3   Neighborhood    92 non-null     object \n",
            " 4   Address         88 non-null     object \n",
            " 5   URL             87 non-null     object \n",
            " 6   Yelp            87 non-null     float64\n",
            " 7   Google          87 non-null     float64\n",
            " 8   Chips           26 non-null     object \n",
            " 9   Cost            414 non-null    float64\n",
            " 10  Hunger          418 non-null    float64\n",
            " 11  Mass (g)        22 non-null     float64\n",
            " 12  Density (g/mL)  22 non-null     float64\n",
            " 13  Length          283 non-null    float64\n",
            " 14  Circum          281 non-null    float64\n",
            " 15  Volume          281 non-null    float64\n",
            " 16  Tortilla        421 non-null    float64\n",
            " 17  Temp            401 non-null    float64\n",
            " 18  Meat            407 non-null    float64\n",
            " 19  Fillings        418 non-null    float64\n",
            " 20  Meat:filling    412 non-null    float64\n",
            " 21  Uniformity      419 non-null    float64\n",
            " 22  Salsa           396 non-null    float64\n",
            " 23  Synergy         419 non-null    float64\n",
            " 24  Wrap            418 non-null    float64\n",
            " 25  overall         421 non-null    float64\n",
            " 26  Rec             231 non-null    object \n",
            " 27  Reviewer        420 non-null    object \n",
            " 28  Notes           146 non-null    object \n",
            " 29  Unreliable      33 non-null     object \n",
            " 30  NonSD           7 non-null      object \n",
            " 31  Beef            179 non-null    object \n",
            " 32  Pico            158 non-null    object \n",
            " 33  Guac            154 non-null    object \n",
            " 34  Cheese          159 non-null    object \n",
            " 35  Fries           127 non-null    object \n",
            " 36  Sour cream      92 non-null     object \n",
            " 37  Pork            51 non-null     object \n",
            " 38  Chicken         21 non-null     object \n",
            " 39  Shrimp          21 non-null     object \n",
            " 40  Fish            6 non-null      object \n",
            " 41  Rice            36 non-null     object \n",
            " 42  Beans           35 non-null     object \n",
            " 43  Lettuce         11 non-null     object \n",
            " 44  Tomato          7 non-null      object \n",
            " 45  Bell peper      7 non-null      object \n",
            " 46  Carrots         1 non-null      object \n",
            " 47  Cabbage         8 non-null      object \n",
            " 48  Sauce           38 non-null     object \n",
            " 49  Salsa.1         7 non-null      object \n",
            " 50  Cilantro        15 non-null     object \n",
            " 51  Onion           17 non-null     object \n",
            " 52  Taquito         4 non-null      object \n",
            " 53  Pineapple       7 non-null      object \n",
            " 54  Ham             2 non-null      object \n",
            " 55  Chile relleno   4 non-null      object \n",
            " 56  Nopales         4 non-null      object \n",
            " 57  Lobster         1 non-null      object \n",
            " 58  Queso           0 non-null      float64\n",
            " 59  Egg             5 non-null      object \n",
            " 60  Mushroom        3 non-null      object \n",
            " 61  Bacon           3 non-null      object \n",
            " 62  Sushi           2 non-null      object \n",
            " 63  Avocado         13 non-null     object \n",
            " 64  Corn            3 non-null      object \n",
            " 65  Zucchini        1 non-null      object \n",
            " 66  Great           421 non-null    bool   \n",
            "dtypes: bool(1), float64(20), object(46)\n",
            "memory usage: 220.8+ KB\n"
          ],
          "name": "stdout"
        }
      ]
    },
    {
      "cell_type": "code",
      "metadata": {
        "id": "64lKGjQi7HIO",
        "colab_type": "code",
        "colab": {
          "base_uri": "https://localhost:8080/",
          "height": 230
        },
        "outputId": "f2a1c861-61e8-4b75-8f46-3fe0b71f52ec"
      },
      "source": [
        "df[\"Burrito\"].value_counts()"
      ],
      "execution_count": 113,
      "outputs": [
        {
          "output_type": "execute_result",
          "data": {
            "text/plain": [
              "California                  101\n",
              "Carne asada                  29\n",
              "California                   26\n",
              "Carnitas                     23\n",
              "Local                        14\n",
              "                           ... \n",
              "battered fish                 1\n",
              "Super                         1\n",
              "California (only cheese)      1\n",
              "Philly                        1\n",
              "Fajitas                       1\n",
              "Name: Burrito, Length: 132, dtype: int64"
            ]
          },
          "metadata": {
            "tags": []
          },
          "execution_count": 113
        }
      ]
    },
    {
      "cell_type": "code",
      "metadata": {
        "id": "SzE0Y9sU2Eej",
        "colab_type": "code",
        "colab": {}
      },
      "source": [
        "# Clean/combine the Burrito categories\n",
        "df['Burrito'] = df['Burrito'].str.lower()\n",
        "\n",
        "# california is a boolean pd.Series\n",
        "california = df['Burrito'].str.contains('california')\n",
        "asada = df['Burrito'].str.contains('asada')\n",
        "surf = df['Burrito'].str.contains('surf')\n",
        "carnitas = df['Burrito'].str.contains('carnitas')\n",
        "\n",
        "df.loc[california, 'Burrito'] = 'California'\n",
        "df.loc[asada, 'Burrito'] = 'Asada'\n",
        "df.loc[surf, 'Burrito'] = 'Surf & Turf'\n",
        "df.loc[carnitas, 'Burrito'] = 'Carnitas'\n",
        "df.loc[~california & ~asada & ~surf & ~carnitas, 'Burrito'] = 'Other'"
      ],
      "execution_count": 114,
      "outputs": []
    },
    {
      "cell_type": "code",
      "metadata": {
        "id": "Z0WSzos37TBU",
        "colab_type": "code",
        "colab": {
          "base_uri": "https://localhost:8080/",
          "height": 123
        },
        "outputId": "d8cdd9bf-e5f9-4eaf-d549-26fb8dbe1c5e"
      },
      "source": [
        "california.head()"
      ],
      "execution_count": 115,
      "outputs": [
        {
          "output_type": "execute_result",
          "data": {
            "text/plain": [
              "0     True\n",
              "1     True\n",
              "2    False\n",
              "3    False\n",
              "4     True\n",
              "Name: Burrito, dtype: bool"
            ]
          },
          "metadata": {
            "tags": []
          },
          "execution_count": 115
        }
      ]
    },
    {
      "cell_type": "code",
      "metadata": {
        "id": "7NUtlhxK8GBZ",
        "colab_type": "code",
        "colab": {
          "base_uri": "https://localhost:8080/",
          "height": 123
        },
        "outputId": "9bd4e089-dca6-4a22-f723-9b656812a4a2"
      },
      "source": [
        "df[\"Burrito\"].value_counts()"
      ],
      "execution_count": 116,
      "outputs": [
        {
          "output_type": "execute_result",
          "data": {
            "text/plain": [
              "California     169\n",
              "Other          156\n",
              "Asada           43\n",
              "Surf & Turf     28\n",
              "Carnitas        25\n",
              "Name: Burrito, dtype: int64"
            ]
          },
          "metadata": {
            "tags": []
          },
          "execution_count": 116
        }
      ]
    },
    {
      "cell_type": "code",
      "metadata": {
        "id": "X16s3-dy2Eel",
        "colab_type": "code",
        "colab": {}
      },
      "source": [
        "# Drop some high cardinality categoricals\n",
        "df = df.drop(columns=['Notes', 'Location', 'Reviewer', 'Address', 'URL', 'Neighborhood'])"
      ],
      "execution_count": 117,
      "outputs": []
    },
    {
      "cell_type": "code",
      "metadata": {
        "id": "F8V5BPgb2Eeo",
        "colab_type": "code",
        "colab": {}
      },
      "source": [
        "# Drop some columns to prevent \"leakage\"\n",
        "# Recommended and overal are derivatives of class label Great, causing leakage\n",
        "df = df.drop(columns=['Rec', 'overall'])"
      ],
      "execution_count": 118,
      "outputs": []
    },
    {
      "cell_type": "code",
      "metadata": {
        "id": "V7yxyeCL2Eeq",
        "colab_type": "code",
        "colab": {
          "base_uri": "https://localhost:8080/",
          "height": 34
        },
        "outputId": "7275fecd-48b8-469f-c00a-60cefb06679d"
      },
      "source": [
        "df.shape"
      ],
      "execution_count": 119,
      "outputs": [
        {
          "output_type": "execute_result",
          "data": {
            "text/plain": [
              "(421, 59)"
            ]
          },
          "metadata": {
            "tags": []
          },
          "execution_count": 119
        }
      ]
    },
    {
      "cell_type": "markdown",
      "metadata": {
        "id": "K5sydtAXRh7q",
        "colab_type": "text"
      },
      "source": [
        "* Convert \"Date\" column into datetime format"
      ]
    },
    {
      "cell_type": "code",
      "metadata": {
        "id": "ZBxBz66W98QL",
        "colab_type": "code",
        "colab": {}
      },
      "source": [
        "df['Date'] = pd.to_datetime(df['Date'], infer_datetime_format=True)"
      ],
      "execution_count": 120,
      "outputs": []
    },
    {
      "cell_type": "code",
      "metadata": {
        "id": "EEUhOm6OA1bm",
        "colab_type": "code",
        "colab": {
          "base_uri": "https://localhost:8080/",
          "height": 230
        },
        "outputId": "060ede55-3c91-4279-a0eb-b5f3a1a6e711"
      },
      "source": [
        "df[\"Date\"].value_counts()"
      ],
      "execution_count": 121,
      "outputs": [
        {
          "output_type": "execute_result",
          "data": {
            "text/plain": [
              "2016-08-30    29\n",
              "2016-06-24     9\n",
              "2019-08-27     9\n",
              "2016-05-13     7\n",
              "2016-04-15     7\n",
              "              ..\n",
              "2016-09-13     1\n",
              "2016-11-14     1\n",
              "2016-12-15     1\n",
              "2016-10-07     1\n",
              "2019-08-24     1\n",
              "Name: Date, Length: 169, dtype: int64"
            ]
          },
          "metadata": {
            "tags": []
          },
          "execution_count": 121
        }
      ]
    },
    {
      "cell_type": "markdown",
      "metadata": {
        "id": "yopjjZVlcLdV",
        "colab_type": "text"
      },
      "source": [
        "* Data Wrangling (keeping numerical and desired categorical columns and dropping NaN columns"
      ]
    },
    {
      "cell_type": "code",
      "metadata": {
        "id": "PxWOPkOdSyUC",
        "colab_type": "code",
        "colab": {}
      },
      "source": [
        "def wrangle(df, thd, cat_list, y_list):\n",
        "  #identify numeric columns\n",
        "  num_cols = df.select_dtypes(include='number').columns\n",
        "  \n",
        "  #Append one hot encoder categorical columns to the dataframe\n",
        "  df1 = df[cat_list + list(num_cols) + y_list]\n",
        "\n",
        "  #identify columns with thd ratio of NaNs\n",
        "  df1 = df1.drop(df1.columns[df1.isna().sum(axis=0) >= thd*len(df1)], axis=1)\n",
        "  return df1"
      ],
      "execution_count": 122,
      "outputs": []
    },
    {
      "cell_type": "code",
      "metadata": {
        "id": "sbMqYWAaYksS",
        "colab_type": "code",
        "colab": {
          "base_uri": "https://localhost:8080/",
          "height": 34
        },
        "outputId": "9e078fab-017e-49b2-f61c-1316a2414770"
      },
      "source": [
        "df1 =wrangle(df, 0.7, [\"Burrito\"], [\"Great\"])\n",
        "df1.shape"
      ],
      "execution_count": 123,
      "outputs": [
        {
          "output_type": "execute_result",
          "data": {
            "text/plain": [
              "(421, 16)"
            ]
          },
          "metadata": {
            "tags": []
          },
          "execution_count": 123
        }
      ]
    },
    {
      "cell_type": "markdown",
      "metadata": {
        "id": "xf31szuUdcT5",
        "colab_type": "text"
      },
      "source": [
        "* Convert categorical column into numerical columns with one hot encoder"
      ]
    },
    {
      "cell_type": "code",
      "metadata": {
        "id": "dbzZzTyedljP",
        "colab_type": "code",
        "colab": {}
      },
      "source": [
        "# For pipeline Onehotencoder should be imported from `category_encoders`, not `sklearn`\n",
        "\n",
        "# from sklearn.preprocessing import OneHotEncoder\n",
        "from category_encoders import OneHotEncoder "
      ],
      "execution_count": 124,
      "outputs": []
    },
    {
      "cell_type": "code",
      "metadata": {
        "id": "XPZXpUGNmaRz",
        "colab_type": "code",
        "colab": {
          "base_uri": "https://localhost:8080/",
          "height": 158
        },
        "outputId": "55f4978c-4a6d-454c-f2d6-4ac7907f67a4"
      },
      "source": [
        "ohe = OneHotEncoder()\n",
        "Burrito_num = ohe.fit_transform(df1[\"Burrito\"])\n",
        "print(type(Burrito_num))\n",
        "print(Burrito_num[:5])\n",
        "print(df1.shape, Burrito_num.shape)"
      ],
      "execution_count": 125,
      "outputs": [
        {
          "output_type": "stream",
          "text": [
            "<class 'pandas.core.frame.DataFrame'>\n",
            "   Burrito_1  Burrito_2  Burrito_3  Burrito_4  Burrito_5\n",
            "0          1          0          0          0          0\n",
            "1          1          0          0          0          0\n",
            "2          0          1          0          0          0\n",
            "3          0          0          1          0          0\n",
            "4          1          0          0          0          0\n",
            "(421, 16) (421, 5)\n"
          ],
          "name": "stdout"
        }
      ]
    },
    {
      "cell_type": "code",
      "metadata": {
        "id": "rG7uqFfjpQPV",
        "colab_type": "code",
        "colab": {
          "base_uri": "https://localhost:8080/",
          "height": 34
        },
        "outputId": "0173b1a5-90b1-4924-9943-e95261ec5571"
      },
      "source": [
        "df1 = pd.merge(df1, Burrito_num, left_index=True, right_index=True).drop(labels=[\"Burrito\"], axis=1)\n",
        "df1.shape"
      ],
      "execution_count": 126,
      "outputs": [
        {
          "output_type": "execute_result",
          "data": {
            "text/plain": [
              "(421, 20)"
            ]
          },
          "metadata": {
            "tags": []
          },
          "execution_count": 126
        }
      ]
    },
    {
      "cell_type": "markdown",
      "metadata": {
        "id": "aZIcScwGSAIe",
        "colab_type": "text"
      },
      "source": [
        "* Create training, validation and test data"
      ]
    },
    {
      "cell_type": "code",
      "metadata": {
        "id": "otK_zoDtA-Rn",
        "colab_type": "code",
        "colab": {}
      },
      "source": [
        "mask_2017 = pd.to_datetime('01-01-2017')\n",
        "mask_2018 = pd.to_datetime('01-01-2018')\n"
      ],
      "execution_count": 127,
      "outputs": []
    },
    {
      "cell_type": "code",
      "metadata": {
        "id": "nw66fd7yDSNI",
        "colab_type": "code",
        "colab": {}
      },
      "source": [
        "# split data into three categories\n",
        "train = df1[df[\"Date\"] < mask_2017]\n",
        "valid = df1[(df[\"Date\"] >= mask_2017) & (df[\"Date\"] < mask_2018)]\n",
        "test = df1[df[\"Date\"] >= mask_2018]"
      ],
      "execution_count": 128,
      "outputs": []
    },
    {
      "cell_type": "code",
      "metadata": {
        "id": "Dw5A3KE0EBt0",
        "colab_type": "code",
        "colab": {}
      },
      "source": [
        "# Chck if the split left anything out or overlaps\n",
        "assert len(df) == len(train) + len(valid) + len(test)"
      ],
      "execution_count": 129,
      "outputs": []
    },
    {
      "cell_type": "markdown",
      "metadata": {
        "id": "fnn4gIHBF50g",
        "colab_type": "text"
      },
      "source": [
        "* X and Y label"
      ]
    },
    {
      "cell_type": "code",
      "metadata": {
        "id": "lSJ8y1KvFqI9",
        "colab_type": "code",
        "colab": {}
      },
      "source": [
        "X_train = train\n",
        "y_train = X_train.pop(\"Great\")\n",
        "\n",
        "X_valid = valid\n",
        "y_valid = X_valid.pop(\"Great\")\n",
        "\n",
        "X_test = test\n",
        "y_test = X_test.pop(\"Great\")"
      ],
      "execution_count": 130,
      "outputs": []
    },
    {
      "cell_type": "markdown",
      "metadata": {
        "id": "XTU4IXghFkZz",
        "colab_type": "text"
      },
      "source": [
        "* Baseline model"
      ]
    },
    {
      "cell_type": "code",
      "metadata": {
        "id": "eIZCvcpZFjt4",
        "colab_type": "code",
        "colab": {
          "base_uri": "https://localhost:8080/",
          "height": 34
        },
        "outputId": "c259f9f0-2c09-4ff9-a7f7-d8e10758d762"
      },
      "source": [
        "y_train.unique()"
      ],
      "execution_count": 131,
      "outputs": [
        {
          "output_type": "execute_result",
          "data": {
            "text/plain": [
              "array([False,  True])"
            ]
          },
          "metadata": {
            "tags": []
          },
          "execution_count": 131
        }
      ]
    },
    {
      "cell_type": "code",
      "metadata": {
        "id": "vdP4N7XWFyBs",
        "colab_type": "code",
        "colab": {
          "base_uri": "https://localhost:8080/",
          "height": 70
        },
        "outputId": "ad135ddf-a40f-47ba-d6c6-ff221888385b"
      },
      "source": [
        "y_train.value_counts(normalize=True)"
      ],
      "execution_count": 132,
      "outputs": [
        {
          "output_type": "execute_result",
          "data": {
            "text/plain": [
              "False    0.590604\n",
              "True     0.409396\n",
              "Name: Great, dtype: float64"
            ]
          },
          "metadata": {
            "tags": []
          },
          "execution_count": 132
        }
      ]
    },
    {
      "cell_type": "markdown",
      "metadata": {
        "id": "Dcgc4OVEHF2j",
        "colab_type": "text"
      },
      "source": [
        "* Base line model: all the prediction is False (majority label)\n",
        "and that's 59% accurate"
      ]
    },
    {
      "cell_type": "code",
      "metadata": {
        "id": "qNuM7blHdQgk",
        "colab_type": "code",
        "colab": {
          "base_uri": "https://localhost:8080/",
          "height": 478
        },
        "outputId": "09a3ad8b-36e9-4a05-bffd-e858956caaa8"
      },
      "source": [
        "X_train.info()"
      ],
      "execution_count": 133,
      "outputs": [
        {
          "output_type": "stream",
          "text": [
            "<class 'pandas.core.frame.DataFrame'>\n",
            "Int64Index: 298 entries, 0 to 300\n",
            "Data columns (total 19 columns):\n",
            " #   Column        Non-Null Count  Dtype  \n",
            "---  ------        --------------  -----  \n",
            " 0   Cost          292 non-null    float64\n",
            " 1   Hunger        297 non-null    float64\n",
            " 2   Length        175 non-null    float64\n",
            " 3   Circum        174 non-null    float64\n",
            " 4   Volume        174 non-null    float64\n",
            " 5   Tortilla      298 non-null    float64\n",
            " 6   Temp          283 non-null    float64\n",
            " 7   Meat          288 non-null    float64\n",
            " 8   Fillings      297 non-null    float64\n",
            " 9   Meat:filling  292 non-null    float64\n",
            " 10  Uniformity    296 non-null    float64\n",
            " 11  Salsa         278 non-null    float64\n",
            " 12  Synergy       296 non-null    float64\n",
            " 13  Wrap          296 non-null    float64\n",
            " 14  Burrito_1     298 non-null    int64  \n",
            " 15  Burrito_2     298 non-null    int64  \n",
            " 16  Burrito_3     298 non-null    int64  \n",
            " 17  Burrito_4     298 non-null    int64  \n",
            " 18  Burrito_5     298 non-null    int64  \n",
            "dtypes: float64(14), int64(5)\n",
            "memory usage: 46.6 KB\n"
          ],
          "name": "stdout"
        }
      ]
    },
    {
      "cell_type": "markdown",
      "metadata": {
        "id": "xOnGdiEbPeeY",
        "colab_type": "text"
      },
      "source": [
        "* imputing NaN values as needed for SelectKBest and Regression models"
      ]
    },
    {
      "cell_type": "code",
      "metadata": {
        "id": "NlJMP9z8PnTq",
        "colab_type": "code",
        "colab": {}
      },
      "source": [
        "# Import SimpleImputer\n",
        "from sklearn.impute import SimpleImputer"
      ],
      "execution_count": 134,
      "outputs": []
    },
    {
      "cell_type": "code",
      "metadata": {
        "id": "k5ZTfPrCY7Wg",
        "colab_type": "code",
        "colab": {}
      },
      "source": [
        "# Fill na with SimpleImputer, we won't do that for y though\n",
        "si = SimpleImputer()\n",
        "X_train_imp = si.fit_transform(X_train)\n",
        "X_valid_imp = si.transform(X_valid)\n",
        "X_test_imp = si.transform(X_test)"
      ],
      "execution_count": 135,
      "outputs": []
    },
    {
      "cell_type": "code",
      "metadata": {
        "id": "L4TlVYRUeMG9",
        "colab_type": "code",
        "colab": {}
      },
      "source": [
        " X_train_imp_df = pd.DataFrame(X_train_imp, columns = X_train.columns)\n",
        " X_valid_imp_df = pd.DataFrame(X_valid_imp, columns = X_train.columns)\n",
        " X_test_imp_df = pd.DataFrame(X_test_imp, columns = X_train.columns)\n"
      ],
      "execution_count": 136,
      "outputs": []
    },
    {
      "cell_type": "markdown",
      "metadata": {
        "id": "C-Nd3Z2Vz8c9",
        "colab_type": "text"
      },
      "source": [
        "* Perform feature selection by SelectKBest"
      ]
    },
    {
      "cell_type": "code",
      "metadata": {
        "id": "dhqUV3vcwSDC",
        "colab_type": "code",
        "colab": {
          "base_uri": "https://localhost:8080/",
          "height": 34
        },
        "outputId": "ab694eb3-3a4d-44a1-bcce-5a1b702261bf"
      },
      "source": [
        "X_train_imp_df.shape"
      ],
      "execution_count": 137,
      "outputs": [
        {
          "output_type": "execute_result",
          "data": {
            "text/plain": [
              "(298, 19)"
            ]
          },
          "metadata": {
            "tags": []
          },
          "execution_count": 137
        }
      ]
    },
    {
      "cell_type": "code",
      "metadata": {
        "id": "FuC74JFsWNwy",
        "colab_type": "code",
        "colab": {
          "base_uri": "https://localhost:8080/",
          "height": 70
        },
        "outputId": "004cfeda-5962-4c23-cb82-8efb35bf4c68"
      },
      "source": [
        "from sklearn.feature_selection import SelectKBest\n",
        "Kbest = SelectKBest(k=8)\n",
        "X_train_Kbest = Kbest.fit_transform(X_train_imp, y_train)\n",
        "X_valid_Kbest = Kbest.transform(X_valid_imp)\n",
        "X_test_Kbest = Kbest.transform(X_test_imp)\n",
        "\n",
        "#Alternative way to create X_val_Kbest\n",
        "Kbest_cols = X_train_imp_df.columns[Kbest.get_support()]\n",
        "\n",
        "X_valid_Kbest_alt = X_valid_imp_df[Kbest_cols]\n",
        "assert (X_valid_Kbest == X_valid_Kbest_alt).all().all()\n",
        "Kbest_cols"
      ],
      "execution_count": 138,
      "outputs": [
        {
          "output_type": "execute_result",
          "data": {
            "text/plain": [
              "Index(['Tortilla', 'Temp', 'Meat', 'Fillings', 'Meat:filling', 'Uniformity',\n",
              "       'Salsa', 'Synergy'],\n",
              "      dtype='object')"
            ]
          },
          "metadata": {
            "tags": []
          },
          "execution_count": 138
        }
      ]
    },
    {
      "cell_type": "markdown",
      "metadata": {
        "id": "N6RvAGbXx3QG",
        "colab_type": "text"
      },
      "source": [
        "* Linear Regression"
      ]
    },
    {
      "cell_type": "code",
      "metadata": {
        "id": "BGkJi2ZPPzD2",
        "colab_type": "code",
        "colab": {}
      },
      "source": [
        "from sklearn.linear_model import LinearRegression, LogisticRegression\n",
        "\n",
        "lin_model = LinearRegression()"
      ],
      "execution_count": 139,
      "outputs": []
    },
    {
      "cell_type": "code",
      "metadata": {
        "id": "Wud8pXPHShIM",
        "colab_type": "code",
        "colab": {
          "base_uri": "https://localhost:8080/",
          "height": 34
        },
        "outputId": "42add215-6d1f-4a6d-d381-bf6111cb5525"
      },
      "source": [
        "lin_model.fit(X_train_Kbest, y_train)"
      ],
      "execution_count": 140,
      "outputs": [
        {
          "output_type": "execute_result",
          "data": {
            "text/plain": [
              "LinearRegression(copy_X=True, fit_intercept=True, n_jobs=None, normalize=False)"
            ]
          },
          "metadata": {
            "tags": []
          },
          "execution_count": 140
        }
      ]
    },
    {
      "cell_type": "code",
      "metadata": {
        "id": "dhhmRMRyaZ08",
        "colab_type": "code",
        "colab": {}
      },
      "source": [
        "# Apply our model to new data\n",
        "y_train_pred = lin_model.predict(X_train_Kbest)\n",
        "y_valid_pred = lin_model.predict(X_valid_Kbest)\n",
        "y_test_pred = lin_model.predict(X_test_Kbest)"
      ],
      "execution_count": 141,
      "outputs": []
    },
    {
      "cell_type": "code",
      "metadata": {
        "id": "aQXin_PG5TXS",
        "colab_type": "code",
        "colab": {}
      },
      "source": [
        "from sklearn.metrics import mean_absolute_error, mean_squared_error, r2_score\n",
        "import numpy as np"
      ],
      "execution_count": 142,
      "outputs": []
    },
    {
      "cell_type": "code",
      "metadata": {
        "id": "B0vTKeYU-h6e",
        "colab_type": "code",
        "colab": {
          "base_uri": "https://localhost:8080/",
          "height": 70
        },
        "outputId": "5cc13d62-4f35-4799-c845-ecb95006e1c6"
      },
      "source": [
        "mae_train = mean_absolute_error(y_train, y_train_pred)\n",
        "mae_valid = mean_absolute_error(y_valid, y_valid_pred)\n",
        "mae_test = mean_absolute_error(y_test, y_test_pred)\n",
        "\n",
        "rmse_train = np.sqrt(mean_squared_error(y_train, y_train_pred))\n",
        "rmse_valid = np.sqrt(mean_squared_error(y_valid, y_valid_pred))\n",
        "rmse_test = np.sqrt(mean_squared_error(y_test, y_test_pred))\n",
        "\n",
        "r2_train = r2_score(y_train, y_train_pred)\n",
        "r2_valid = r2_score(y_valid, y_valid_pred)\n",
        "r2_test = r2_score(y_test, y_test_pred)\n",
        "\n",
        "print(f'Mean Absolute Error(Train, Valid, Test):, {mae_train:.2e}, {mae_valid:.2e}, {mae_test:.2e}')\n",
        "print(f'Root Mean Squared Error(Train, Valid, Test):, {rmse_train:.2e}, {rmse_valid:.2e}, {rmse_test:.2e}')\n",
        "print(f'R^2(Train, Valid, Test):, {r2_train:.3f}, {r2_valid:.3f}, {r2_test:.3f}')"
      ],
      "execution_count": 143,
      "outputs": [
        {
          "output_type": "stream",
          "text": [
            "Mean Absolute Error(Train, Valid, Test):, 2.93e-01, 3.33e-01, 3.34e-01\n",
            "Root Mean Squared Error(Train, Valid, Test):, 3.39e-01, 3.65e-01, 3.87e-01\n",
            "R^2(Train, Valid, Test):, 0.525, 0.461, 0.386\n"
          ],
          "name": "stdout"
        }
      ]
    },
    {
      "cell_type": "code",
      "metadata": {
        "id": "TKcTdO-XXt8x",
        "colab_type": "code",
        "colab": {
          "base_uri": "https://localhost:8080/",
          "height": 296
        },
        "outputId": "03143b8f-1124-4608-b08c-be5431c30299"
      },
      "source": [
        "import seaborn as sns\n",
        "sns.regplot(x=X_train['Fillings'], y=y_train)"
      ],
      "execution_count": 144,
      "outputs": [
        {
          "output_type": "execute_result",
          "data": {
            "text/plain": [
              "<matplotlib.axes._subplots.AxesSubplot at 0x7f317e7abbe0>"
            ]
          },
          "metadata": {
            "tags": []
          },
          "execution_count": 144
        },
        {
          "output_type": "display_data",
          "data": {
            "image/png": "[encoded data removed]",
            "text/plain": [
              "<Figure size 432x288 with 1 Axes>"
            ]
          },
          "metadata": {
            "tags": [],
            "needs_background": "light"
          }
        }
      ]
    },
    {
      "cell_type": "markdown",
      "metadata": {
        "id": "QmpKcggiy_FH",
        "colab_type": "text"
      },
      "source": [
        "* Logistic Regression"
      ]
    },
    {
      "cell_type": "code",
      "metadata": {
        "id": "ONh34lEYy-L4",
        "colab_type": "code",
        "colab": {}
      },
      "source": [
        "log_model = LogisticRegression()"
      ],
      "execution_count": 145,
      "outputs": []
    },
    {
      "cell_type": "code",
      "metadata": {
        "id": "yF2AMEcbz7gJ",
        "colab_type": "code",
        "colab": {
          "base_uri": "https://localhost:8080/",
          "height": 105
        },
        "outputId": "fc1ec47d-2ea1-4f01-a225-0d827a3c17ae"
      },
      "source": [
        "log_model.fit(X_train_Kbest, y_train)\n",
        "y_test_pred = log_model.predict(X_test_Kbest)\n",
        "\n",
        "print('Training Accuracy:', log_model.score(X_train_Kbest, y_train))\n",
        "print('Validation Accuracy:', log_model.score(X_valid_Kbest, y_valid))\n",
        "print('Test Accuracy:', log_model.score(X_test_Kbest, y_test))\n",
        "\n",
        "y_test_pred[:10]\n"
      ],
      "execution_count": 146,
      "outputs": [
        {
          "output_type": "stream",
          "text": [
            "Training Accuracy: 0.8859060402684564\n",
            "Validation Accuracy: 0.8470588235294118\n",
            "Test Accuracy: 0.7894736842105263\n"
          ],
          "name": "stdout"
        },
        {
          "output_type": "execute_result",
          "data": {
            "text/plain": [
              "array([ True,  True, False,  True, False, False,  True,  True,  True,\n",
              "        True])"
            ]
          },
          "metadata": {
            "tags": []
          },
          "execution_count": 146
        }
      ]
    },
    {
      "cell_type": "markdown",
      "metadata": {
        "id": "P1zR3W8mECx-",
        "colab_type": "text"
      },
      "source": [
        "## Using pipeline"
      ]
    },
    {
      "cell_type": "code",
      "metadata": {
        "id": "3Yp-JG1dDxxU",
        "colab_type": "code",
        "colab": {}
      },
      "source": [
        "from sklearn.preprocessing import StandardScaler\n",
        "from sklearn.pipeline import Pipeline"
      ],
      "execution_count": 147,
      "outputs": []
    },
    {
      "cell_type": "markdown",
      "metadata": {
        "id": "zzCmPHZJ2YE6",
        "colab_type": "text"
      },
      "source": [
        "* start from begining and let the pipeline does the ohe "
      ]
    },
    {
      "cell_type": "code",
      "metadata": {
        "id": "ycxfmuq5H7G9",
        "colab_type": "code",
        "colab": {}
      },
      "source": [
        "df1 =wrangle(df, 0.7, [\"Burrito\"], [\"Great\"])\n",
        "train = df1[df[\"Date\"] < mask_2017]\n",
        "valid = df1[(df[\"Date\"] >= mask_2017) & (df[\"Date\"] < mask_2018)]\n",
        "test = df1[df[\"Date\"] >= mask_2018]"
      ],
      "execution_count": 152,
      "outputs": []
    },
    {
      "cell_type": "code",
      "metadata": {
        "id": "Kamq_AQL2QTz",
        "colab_type": "code",
        "colab": {}
      },
      "source": [
        "X_train = train\n",
        "y_train = X_train.pop(\"Great\")\n",
        "\n",
        "X_valid = valid\n",
        "y_valid = X_valid.pop(\"Great\")\n",
        "\n",
        "X_test = test\n",
        "y_test = X_test.pop(\"Great\")"
      ],
      "execution_count": 153,
      "outputs": []
    },
    {
      "cell_type": "code",
      "metadata": {
        "id": "0JDeTwU62-0U",
        "colab_type": "code",
        "colab": {
          "base_uri": "https://localhost:8080/",
          "height": 301
        },
        "outputId": "4eb92036-c12e-4b23-f118-30085730b450"
      },
      "source": [
        "X_train.nunique()"
      ],
      "execution_count": 154,
      "outputs": [
        {
          "output_type": "execute_result",
          "data": {
            "text/plain": [
              "Burrito          5\n",
              "Cost            80\n",
              "Hunger          22\n",
              "Length          25\n",
              "Circum          26\n",
              "Volume          54\n",
              "Tortilla        16\n",
              "Temp            17\n",
              "Meat            20\n",
              "Fillings        19\n",
              "Meat:filling    23\n",
              "Uniformity      18\n",
              "Salsa           21\n",
              "Synergy         23\n",
              "Wrap            16\n",
              "dtype: int64"
            ]
          },
          "metadata": {
            "tags": []
          },
          "execution_count": 154
        }
      ]
    },
    {
      "cell_type": "code",
      "metadata": {
        "id": "xUv6VPeXGKNf",
        "colab_type": "code",
        "colab": {
          "base_uri": "https://localhost:8080/",
          "height": 167
        },
        "outputId": "7f3f34ce-3a2d-4b4e-efd5-1edca45cc1e7"
      },
      "source": [
        "X_train.describe(exclude='number')"
      ],
      "execution_count": 155,
      "outputs": [
        {
          "output_type": "execute_result",
          "data": {
            "text/html": [
              "<div>\n",
              "<style scoped>\n",
              "    .dataframe tbody tr th:only-of-type {\n",
              "        vertical-align: middle;\n",
              "    }\n",
              "\n",
              "    .dataframe tbody tr th {\n",
              "        vertical-align: top;\n",
              "    }\n",
              "\n",
              "    .dataframe thead th {\n",
              "        text-align: right;\n",
              "    }\n",
              "</style>\n",
              "<table border=\"1\" class=\"dataframe\">\n",
              "  <thead>\n",
              "    <tr style=\"text-align: right;\">\n",
              "      <th></th>\n",
              "      <th>Burrito</th>\n",
              "    </tr>\n",
              "  </thead>\n",
              "  <tbody>\n",
              "    <tr>\n",
              "      <th>count</th>\n",
              "      <td>298</td>\n",
              "    </tr>\n",
              "    <tr>\n",
              "      <th>unique</th>\n",
              "      <td>5</td>\n",
              "    </tr>\n",
              "    <tr>\n",
              "      <th>top</th>\n",
              "      <td>California</td>\n",
              "    </tr>\n",
              "    <tr>\n",
              "      <th>freq</th>\n",
              "      <td>118</td>\n",
              "    </tr>\n",
              "  </tbody>\n",
              "</table>\n",
              "</div>"
            ],
            "text/plain": [
              "           Burrito\n",
              "count          298\n",
              "unique           5\n",
              "top     California\n",
              "freq           118"
            ]
          },
          "metadata": {
            "tags": []
          },
          "execution_count": 155
        }
      ]
    },
    {
      "cell_type": "code",
      "metadata": {
        "id": "a2HS3tWsEhp_",
        "colab_type": "code",
        "colab": {}
      },
      "source": [
        "# Instantiate pipeline with steps\n",
        "logR_pipe = Pipeline([\n",
        "                      ('ohe', OneHotEncoder(cols=[\"Burrito\"])),\n",
        "                      ('imputer', SimpleImputer()),\n",
        "                      ('logR', LogisticRegression())\n",
        "\n",
        "])"
      ],
      "execution_count": 156,
      "outputs": []
    },
    {
      "cell_type": "code",
      "metadata": {
        "id": "_5PELEK5MEvs",
        "colab_type": "code",
        "colab": {
          "base_uri": "https://localhost:8080/",
          "height": 496
        },
        "outputId": "5c5a037f-d3a7-40b4-c2f4-2bfdfadc25d3"
      },
      "source": [
        "# Fit model on training data\n",
        "logR_pipe.fit(X_train, y_train)"
      ],
      "execution_count": 157,
      "outputs": [
        {
          "output_type": "stream",
          "text": [
            "/usr/local/lib/python3.6/dist-packages/sklearn/linear_model/_logistic.py:940: ConvergenceWarning: lbfgs failed to converge (status=1):\n",
            "STOP: TOTAL NO. of ITERATIONS REACHED LIMIT.\n",
            "\n",
            "Increase the number of iterations (max_iter) or scale the data as shown in:\n",
            "    https://scikit-learn.org/stable/modules/preprocessing.html\n",
            "Please also refer to the documentation for alternative solver options:\n",
            "    https://scikit-learn.org/stable/modules/linear_model.html#logistic-regression\n",
            "  extra_warning_msg=_LOGISTIC_SOLVER_CONVERGENCE_MSG)\n"
          ],
          "name": "stderr"
        },
        {
          "output_type": "execute_result",
          "data": {
            "text/plain": [
              "Pipeline(memory=None,\n",
              "         steps=[('ohe',\n",
              "                 OneHotEncoder(cols=['Burrito'], drop_invariant=False,\n",
              "                               handle_missing='value', handle_unknown='value',\n",
              "                               return_df=True, use_cat_names=False,\n",
              "                               verbose=0)),\n",
              "                ('imputer',\n",
              "                 SimpleImputer(add_indicator=False, copy=True, fill_value=None,\n",
              "                               missing_values=nan, strategy='mean',\n",
              "                               verbose=0)),\n",
              "                ('logR',\n",
              "                 LogisticRegression(C=1.0, class_weight=None, dual=False,\n",
              "                                    fit_intercept=True, intercept_scaling=1,\n",
              "                                    l1_ratio=None, max_iter=100,\n",
              "                                    multi_class='auto', n_jobs=None,\n",
              "                                    penalty='l2', random_state=None,\n",
              "                                    solver='lbfgs', tol=0.0001, verbose=0,\n",
              "                                    warm_start=False))],\n",
              "         verbose=False)"
            ]
          },
          "metadata": {
            "tags": []
          },
          "execution_count": 157
        }
      ]
    },
    {
      "cell_type": "code",
      "metadata": {
        "id": "Zy7KA_r1PixU",
        "colab_type": "code",
        "colab": {
          "base_uri": "https://localhost:8080/",
          "height": 70
        },
        "outputId": "dbd29c25-2a91-4cb5-ea11-ec77af6f992f"
      },
      "source": [
        "#metric (accuracy) on test set\n",
        "print('Training Accuracy:', logR_pipe.score(X_train, y_train))\n",
        "print('Validation Accuracy:', logR_pipe.score(X_valid, y_valid))\n",
        "print('Test Accuracy:', logR_pipe.score(X_test, y_test))"
      ],
      "execution_count": 158,
      "outputs": [
        {
          "output_type": "stream",
          "text": [
            "Training Accuracy: 0.8825503355704698\n",
            "Validation Accuracy: 0.8117647058823529\n",
            "Test Accuracy: 0.7894736842105263\n"
          ],
          "name": "stdout"
        }
      ]
    },
    {
      "cell_type": "code",
      "metadata": {
        "id": "JYT3eVtOQQrM",
        "colab_type": "code",
        "colab": {
          "base_uri": "https://localhost:8080/",
          "height": 34
        },
        "outputId": "1a4db9f1-818d-4bbc-9754-b922b43c94cc"
      },
      "source": [
        "y_test_pred = logR_pipe.predict(X_test)\n",
        "print(y_test_pred[:10])"
      ],
      "execution_count": 159,
      "outputs": [
        {
          "output_type": "stream",
          "text": [
            "[ True  True False  True False False  True  True False  True]\n"
          ],
          "name": "stdout"
        }
      ]
    },
    {
      "cell_type": "code",
      "metadata": {
        "id": "FY0pnaPFXHa9",
        "colab_type": "code",
        "colab": {
          "base_uri": "https://localhost:8080/",
          "height": 194
        },
        "outputId": "2dcac1a9-f723-4ce8-df2a-3e1424420c01"
      },
      "source": [
        "logR_pipe.predict_proba(X_valid)[:10]"
      ],
      "execution_count": 160,
      "outputs": [
        {
          "output_type": "execute_result",
          "data": {
            "text/plain": [
              "array([[4.49549461e-01, 5.50450539e-01],\n",
              "       [6.37851282e-01, 3.62148718e-01],\n",
              "       [3.30591138e-01, 6.69408862e-01],\n",
              "       [4.40354384e-01, 5.59645616e-01],\n",
              "       [9.99747733e-01, 2.52267236e-04],\n",
              "       [9.68838775e-01, 3.11612249e-02],\n",
              "       [1.30149104e-01, 8.69850896e-01],\n",
              "       [3.71203774e-01, 6.28796226e-01],\n",
              "       [9.99028512e-01, 9.71488344e-04],\n",
              "       [9.65926792e-02, 9.03407321e-01]])"
            ]
          },
          "metadata": {
            "tags": []
          },
          "execution_count": 160
        }
      ]
    }
  ]
}