{
 "cells": [
  {
   "cell_type": "markdown",
   "metadata": {
    "colab_type": "text",
    "id": "view-in-github"
   },
   "source": [
    "<a href=\"https://colab.research.google.com/github/skhabiri/DS-Unit-2-Linear-Models/blob/master/module4-logistic-regression/skhabiri_LS_DS_214_assignment.ipynb\" target=\"_parent\"><img src=\"https://colab.research.google.com/assets/colab-badge.svg\" alt=\"Open In Colab\"/></a>"
   ]
  },
  {
   "cell_type": "markdown",
   "metadata": {
    "colab_type": "text",
    "id": "SSwf3ZxK2EeX"
   },
   "source": [
    "*Unit 2, Sprint 1, Module 4*\n",
    "\n",
    "---"
   ]
  },
  {
   "cell_type": "markdown",
   "metadata": {
    "colab_type": "text",
    "id": "7IXUfiQ2UKj6"
   },
   "source": [
    "# Logistic Regression\n",
    "\n",
    "\n",
    "## Assignment 🌯\n",
    "\n",
    "You'll use a [**dataset of 400+ burrito reviews**](https://srcole.github.io/100burritos/). How accurately can you predict whether a burrito is rated 'Great'?\n",
    "\n",
    "> We have developed a 10-dimensional system for rating the burritos in San Diego. ... Generate models for what makes a burrito great and investigate correlations in its dimensions.\n",
    "\n",
    "- [ ] Do train/validate/test split. Train on reviews from 2016 & earlier. Validate on 2017. Test on 2018 & later.\n",
    "- [ ] Begin with baselines for classification.\n",
    "- [ ] Use scikit-learn for logistic regression.\n",
    "- [ ] Get your model's validation accuracy. (Multiple times if you try multiple iterations.)\n",
    "- [ ] Get your model's test accuracy. (One time, at the end.)\n",
    "- [ ] Commit your notebook to your fork of the GitHub repo.\n",
    "\n",
    "\n",
    "## Stretch Goals\n",
    "\n",
    "- [ ] Add your own stretch goal(s) !\n",
    "- [ ] Make exploratory visualizations.\n",
    "- [ ] Do one-hot encoding.\n",
    "- [ ] Do [feature scaling](https://scikit-learn.org/stable/modules/preprocessing.html).\n",
    "- [ ] Get and plot your coefficients.\n",
    "- [ ] Try [scikit-learn pipelines](https://scikit-learn.org/stable/modules/compose.html)."
   ]
  },
  {
   "cell_type": "code",
   "execution_count": 158,
   "metadata": {
    "colab": {},
    "colab_type": "code",
    "id": "o9eSnDYhUGD7"
   },
   "outputs": [],
   "source": [
    "%%capture\n",
    "import sys\n",
    "\n",
    "# If you're on Colab:\n",
    "if 'google.colab' in sys.modules:\n",
    "    DATA_PATH = 'https://github.com/skhabiri/PredictiveModeling-LinearModels-u2s1/tree/master/data/'\n",
    "    !pip install category_encoders==2.*\n",
    "\n",
    "# If you're working locally:\n",
    "else:\n",
    "    DATA_PATH = '../data/'"
   ]
  },
  {
   "cell_type": "code",
   "execution_count": 159,
   "metadata": {
    "colab": {},
    "colab_type": "code",
    "id": "6oTgzjYd2Eee"
   },
   "outputs": [],
   "source": [
    "# Load data downloaded from https://srcole.github.io/100burritos/\n",
    "import pandas as pd\n",
    "df = pd.read_csv(DATA_PATH+'burritos/burritos.csv')"
   ]
  },
  {
   "cell_type": "code",
   "execution_count": 160,
   "metadata": {
    "colab": {
     "base_uri": "https://localhost:8080/",
     "height": 485
    },
    "colab_type": "code",
    "id": "Pf-pcnKO4V4X",
    "outputId": "30b03992-94bf-43a1-fd4b-71869a9a7f78"
   },
   "outputs": [
    {
     "name": "stdout",
     "output_type": "stream",
     "text": [
      "(423, 66)\n"
     ]
    },
    {
     "data": {
      "text/html": [
       "<div>\n",
       "<style scoped>\n",
       "    .dataframe tbody tr th:only-of-type {\n",
       "        vertical-align: middle;\n",
       "    }\n",
       "\n",
       "    .dataframe tbody tr th {\n",
       "        vertical-align: top;\n",
       "    }\n",
       "\n",
       "    .dataframe thead th {\n",
       "        text-align: right;\n",
       "    }\n",
       "</style>\n",
       "<table border=\"1\" class=\"dataframe\">\n",
       "  <thead>\n",
       "    <tr style=\"text-align: right;\">\n",
       "      <th></th>\n",
       "      <th>Location</th>\n",
       "      <th>Burrito</th>\n",
       "      <th>Date</th>\n",
       "      <th>Neighborhood</th>\n",
       "      <th>Address</th>\n",
       "      <th>URL</th>\n",
       "      <th>Yelp</th>\n",
       "      <th>Google</th>\n",
       "      <th>Chips</th>\n",
       "      <th>Cost</th>\n",
       "      <th>...</th>\n",
       "      <th>Nopales</th>\n",
       "      <th>Lobster</th>\n",
       "      <th>Queso</th>\n",
       "      <th>Egg</th>\n",
       "      <th>Mushroom</th>\n",
       "      <th>Bacon</th>\n",
       "      <th>Sushi</th>\n",
       "      <th>Avocado</th>\n",
       "      <th>Corn</th>\n",
       "      <th>Zucchini</th>\n",
       "    </tr>\n",
       "  </thead>\n",
       "  <tbody>\n",
       "    <tr>\n",
       "      <th>0</th>\n",
       "      <td>Donato's taco shop</td>\n",
       "      <td>California</td>\n",
       "      <td>1/18/2016</td>\n",
       "      <td>Miramar</td>\n",
       "      <td>6780 Miramar Rd</td>\n",
       "      <td>http://donatostacoshop.net/</td>\n",
       "      <td>3.5</td>\n",
       "      <td>4.2</td>\n",
       "      <td>NaN</td>\n",
       "      <td>6.49</td>\n",
       "      <td>...</td>\n",
       "      <td>NaN</td>\n",
       "      <td>NaN</td>\n",
       "      <td>NaN</td>\n",
       "      <td>NaN</td>\n",
       "      <td>NaN</td>\n",
       "      <td>NaN</td>\n",
       "      <td>NaN</td>\n",
       "      <td>NaN</td>\n",
       "      <td>NaN</td>\n",
       "      <td>NaN</td>\n",
       "    </tr>\n",
       "    <tr>\n",
       "      <th>1</th>\n",
       "      <td>Oscar's Mexican food</td>\n",
       "      <td>California</td>\n",
       "      <td>1/24/2016</td>\n",
       "      <td>San Marcos</td>\n",
       "      <td>225 S Rancho Santa Fe Rd</td>\n",
       "      <td>http://www.yelp.com/biz/oscars-mexican-food-sa...</td>\n",
       "      <td>3.5</td>\n",
       "      <td>3.3</td>\n",
       "      <td>NaN</td>\n",
       "      <td>5.45</td>\n",
       "      <td>...</td>\n",
       "      <td>NaN</td>\n",
       "      <td>NaN</td>\n",
       "      <td>NaN</td>\n",
       "      <td>NaN</td>\n",
       "      <td>NaN</td>\n",
       "      <td>NaN</td>\n",
       "      <td>NaN</td>\n",
       "      <td>NaN</td>\n",
       "      <td>NaN</td>\n",
       "      <td>NaN</td>\n",
       "    </tr>\n",
       "    <tr>\n",
       "      <th>2</th>\n",
       "      <td>Oscar's Mexican food</td>\n",
       "      <td>Carnitas</td>\n",
       "      <td>1/24/2016</td>\n",
       "      <td>NaN</td>\n",
       "      <td>NaN</td>\n",
       "      <td>NaN</td>\n",
       "      <td>NaN</td>\n",
       "      <td>NaN</td>\n",
       "      <td>NaN</td>\n",
       "      <td>4.85</td>\n",
       "      <td>...</td>\n",
       "      <td>NaN</td>\n",
       "      <td>NaN</td>\n",
       "      <td>NaN</td>\n",
       "      <td>NaN</td>\n",
       "      <td>NaN</td>\n",
       "      <td>NaN</td>\n",
       "      <td>NaN</td>\n",
       "      <td>NaN</td>\n",
       "      <td>NaN</td>\n",
       "      <td>NaN</td>\n",
       "    </tr>\n",
       "    <tr>\n",
       "      <th>3</th>\n",
       "      <td>Oscar's Mexican food</td>\n",
       "      <td>Carne asada</td>\n",
       "      <td>1/24/2016</td>\n",
       "      <td>NaN</td>\n",
       "      <td>NaN</td>\n",
       "      <td>NaN</td>\n",
       "      <td>NaN</td>\n",
       "      <td>NaN</td>\n",
       "      <td>NaN</td>\n",
       "      <td>5.25</td>\n",
       "      <td>...</td>\n",
       "      <td>NaN</td>\n",
       "      <td>NaN</td>\n",
       "      <td>NaN</td>\n",
       "      <td>NaN</td>\n",
       "      <td>NaN</td>\n",
       "      <td>NaN</td>\n",
       "      <td>NaN</td>\n",
       "      <td>NaN</td>\n",
       "      <td>NaN</td>\n",
       "      <td>NaN</td>\n",
       "    </tr>\n",
       "    <tr>\n",
       "      <th>4</th>\n",
       "      <td>Pollos Maria</td>\n",
       "      <td>California</td>\n",
       "      <td>1/27/2016</td>\n",
       "      <td>Carlsbad</td>\n",
       "      <td>3055 Harding St</td>\n",
       "      <td>http://pollosmaria.com/</td>\n",
       "      <td>4.0</td>\n",
       "      <td>3.8</td>\n",
       "      <td>x</td>\n",
       "      <td>6.59</td>\n",
       "      <td>...</td>\n",
       "      <td>NaN</td>\n",
       "      <td>NaN</td>\n",
       "      <td>NaN</td>\n",
       "      <td>NaN</td>\n",
       "      <td>NaN</td>\n",
       "      <td>NaN</td>\n",
       "      <td>NaN</td>\n",
       "      <td>NaN</td>\n",
       "      <td>NaN</td>\n",
       "      <td>NaN</td>\n",
       "    </tr>\n",
       "  </tbody>\n",
       "</table>\n",
       "<p>5 rows × 66 columns</p>\n",
       "</div>"
      ],
      "text/plain": [
       "               Location      Burrito       Date Neighborhood  \\\n",
       "0    Donato's taco shop  California   1/18/2016      Miramar   \n",
       "1  Oscar's Mexican food  California   1/24/2016   San Marcos   \n",
       "2  Oscar's Mexican food     Carnitas  1/24/2016          NaN   \n",
       "3  Oscar's Mexican food  Carne asada  1/24/2016          NaN   \n",
       "4          Pollos Maria   California  1/27/2016     Carlsbad   \n",
       "\n",
       "                    Address  \\\n",
       "0           6780 Miramar Rd   \n",
       "1  225 S Rancho Santa Fe Rd   \n",
       "2                       NaN   \n",
       "3                       NaN   \n",
       "4           3055 Harding St   \n",
       "\n",
       "                                                 URL  Yelp  Google Chips  \\\n",
       "0                        http://donatostacoshop.net/   3.5     4.2   NaN   \n",
       "1  http://www.yelp.com/biz/oscars-mexican-food-sa...   3.5     3.3   NaN   \n",
       "2                                                NaN   NaN     NaN   NaN   \n",
       "3                                                NaN   NaN     NaN   NaN   \n",
       "4                            http://pollosmaria.com/   4.0     3.8     x   \n",
       "\n",
       "   Cost  ...  Nopales  Lobster  Queso  Egg  Mushroom  Bacon  Sushi  Avocado  \\\n",
       "0  6.49  ...      NaN      NaN    NaN  NaN       NaN    NaN    NaN      NaN   \n",
       "1  5.45  ...      NaN      NaN    NaN  NaN       NaN    NaN    NaN      NaN   \n",
       "2  4.85  ...      NaN      NaN    NaN  NaN       NaN    NaN    NaN      NaN   \n",
       "3  5.25  ...      NaN      NaN    NaN  NaN       NaN    NaN    NaN      NaN   \n",
       "4  6.59  ...      NaN      NaN    NaN  NaN       NaN    NaN    NaN      NaN   \n",
       "\n",
       "   Corn  Zucchini  \n",
       "0   NaN       NaN  \n",
       "1   NaN       NaN  \n",
       "2   NaN       NaN  \n",
       "3   NaN       NaN  \n",
       "4   NaN       NaN  \n",
       "\n",
       "[5 rows x 66 columns]"
      ]
     },
     "execution_count": 160,
     "metadata": {},
     "output_type": "execute_result"
    }
   ],
   "source": [
    "print(df.shape)\n",
    "df.head()"
   ]
  },
  {
   "cell_type": "code",
   "execution_count": 161,
   "metadata": {
    "colab": {
     "base_uri": "https://localhost:8080/",
     "height": 745
    },
    "colab_type": "code",
    "id": "mrvaZtyM4xHC",
    "outputId": "f7bc723c-d812-4873-eae6-64ebad48cffa"
   },
   "outputs": [
    {
     "data": {
      "text/plain": [
       "4.00000    74\n",
       "3.50000    46\n",
       "3.00000    39\n",
       "4.50000    24\n",
       "4.20000    24\n",
       "2.00000    19\n",
       "3.90000    17\n",
       "3.70000    15\n",
       "3.80000    15\n",
       "4.10000    12\n",
       "5.00000    11\n",
       "3.20000    11\n",
       "2.50000     9\n",
       "3.60000     9\n",
       "4.25000     8\n",
       "4.80000     7\n",
       "4.30000     7\n",
       "3.10000     6\n",
       "3.75000     6\n",
       "2.60000     6\n",
       "2.80000     5\n",
       "4.60000     4\n",
       "4.70000     4\n",
       "2.70000     4\n",
       "2.90000     4\n",
       "3.30000     4\n",
       "2.20000     4\n",
       "4.40000     4\n",
       "1.50000     4\n",
       "3.40000     3\n",
       "4.90000     3\n",
       "NaN         2\n",
       "3.25000     2\n",
       "1.80000     2\n",
       "2.40000     2\n",
       "2.75000     2\n",
       "2.30000     2\n",
       "2.66000     1\n",
       "1.00000     1\n",
       "3.33333     1\n",
       "Name: overall, dtype: int64"
      ]
     },
     "execution_count": 161,
     "metadata": {},
     "output_type": "execute_result"
    }
   ],
   "source": [
    "# check number of classes in target\n",
    "df[\"overall\"].value_counts(dropna=False)"
   ]
  },
  {
   "cell_type": "code",
   "execution_count": 162,
   "metadata": {
    "colab": {},
    "colab_type": "code",
    "id": "q8Wcju1H2Eeg"
   },
   "outputs": [],
   "source": [
    "# Derive binary classification target:\n",
    "# We define a 'Great' burrito as having an\n",
    "# overall rating of 4 or higher, on a 5 point scale.\n",
    "# Drop unrated burritos.\n",
    "\"\"\"\n",
    "subset : array-like, optional\n",
    "    Labels along other axis to consider\n",
    "how: 'any' : If any NA values are present, drop that row or column.\n",
    "     'all' : If all values are NA, drop that row or column.\n",
    "\"\"\"\n",
    "df = df.dropna(axis=0, how='any', subset=['overall'], inplace=False)\n",
    "\n",
    "# df['overall'] >= 4 is a pd.Series with boolean values\n",
    "df['Great'] = df['overall'] >= 4"
   ]
  },
  {
   "cell_type": "code",
   "execution_count": 163,
   "metadata": {
    "colab": {
     "base_uri": "https://localhost:8080/",
     "height": 34
    },
    "colab_type": "code",
    "id": "lIFZGFvd6A0y",
    "outputId": "207319bc-9a0e-4145-a720-9a38428936d4"
   },
   "outputs": [
    {
     "data": {
      "text/plain": [
       "(421, 67)"
      ]
     },
     "execution_count": 163,
     "metadata": {},
     "output_type": "execute_result"
    }
   ],
   "source": [
    "# two rows with missing values are dropped, and 'Great' colun is added\n",
    "df.shape"
   ]
  },
  {
   "cell_type": "code",
   "execution_count": 164,
   "metadata": {
    "colab": {
     "base_uri": "https://localhost:8080/",
     "height": 1000
    },
    "colab_type": "code",
    "id": "HWgjnTb-6I6O",
    "outputId": "22f50d38-f019-4f6f-a33a-722de776f55e"
   },
   "outputs": [
    {
     "name": "stdout",
     "output_type": "stream",
     "text": [
      "<class 'pandas.core.frame.DataFrame'>\n",
      "Int64Index: 421 entries, 0 to 422\n",
      "Data columns (total 67 columns):\n",
      " #   Column          Non-Null Count  Dtype  \n",
      "---  ------          --------------  -----  \n",
      " 0   Location        421 non-null    object \n",
      " 1   Burrito         421 non-null    object \n",
      " 2   Date            421 non-null    object \n",
      " 3   Neighborhood    92 non-null     object \n",
      " 4   Address         88 non-null     object \n",
      " 5   URL             87 non-null     object \n",
      " 6   Yelp            87 non-null     float64\n",
      " 7   Google          87 non-null     float64\n",
      " 8   Chips           26 non-null     object \n",
      " 9   Cost            414 non-null    float64\n",
      " 10  Hunger          418 non-null    float64\n",
      " 11  Mass (g)        22 non-null     float64\n",
      " 12  Density (g/mL)  22 non-null     float64\n",
      " 13  Length          283 non-null    float64\n",
      " 14  Circum          281 non-null    float64\n",
      " 15  Volume          281 non-null    float64\n",
      " 16  Tortilla        421 non-null    float64\n",
      " 17  Temp            401 non-null    float64\n",
      " 18  Meat            407 non-null    float64\n",
      " 19  Fillings        418 non-null    float64\n",
      " 20  Meat:filling    412 non-null    float64\n",
      " 21  Uniformity      419 non-null    float64\n",
      " 22  Salsa           396 non-null    float64\n",
      " 23  Synergy         419 non-null    float64\n",
      " 24  Wrap            418 non-null    float64\n",
      " 25  overall         421 non-null    float64\n",
      " 26  Rec             231 non-null    object \n",
      " 27  Reviewer        420 non-null    object \n",
      " 28  Notes           146 non-null    object \n",
      " 29  Unreliable      33 non-null     object \n",
      " 30  NonSD           7 non-null      object \n",
      " 31  Beef            179 non-null    object \n",
      " 32  Pico            158 non-null    object \n",
      " 33  Guac            154 non-null    object \n",
      " 34  Cheese          159 non-null    object \n",
      " 35  Fries           127 non-null    object \n",
      " 36  Sour cream      92 non-null     object \n",
      " 37  Pork            51 non-null     object \n",
      " 38  Chicken         21 non-null     object \n",
      " 39  Shrimp          21 non-null     object \n",
      " 40  Fish            6 non-null      object \n",
      " 41  Rice            36 non-null     object \n",
      " 42  Beans           35 non-null     object \n",
      " 43  Lettuce         11 non-null     object \n",
      " 44  Tomato          7 non-null      object \n",
      " 45  Bell peper      7 non-null      object \n",
      " 46  Carrots         1 non-null      object \n",
      " 47  Cabbage         8 non-null      object \n",
      " 48  Sauce           38 non-null     object \n",
      " 49  Salsa.1         7 non-null      object \n",
      " 50  Cilantro        15 non-null     object \n",
      " 51  Onion           17 non-null     object \n",
      " 52  Taquito         4 non-null      object \n",
      " 53  Pineapple       7 non-null      object \n",
      " 54  Ham             2 non-null      object \n",
      " 55  Chile relleno   4 non-null      object \n",
      " 56  Nopales         4 non-null      object \n",
      " 57  Lobster         1 non-null      object \n",
      " 58  Queso           0 non-null      float64\n",
      " 59  Egg             5 non-null      object \n",
      " 60  Mushroom        3 non-null      object \n",
      " 61  Bacon           3 non-null      object \n",
      " 62  Sushi           2 non-null      object \n",
      " 63  Avocado         13 non-null     object \n",
      " 64  Corn            3 non-null      object \n",
      " 65  Zucchini        1 non-null      object \n",
      " 66  Great           421 non-null    bool   \n",
      "dtypes: bool(1), float64(20), object(46)\n",
      "memory usage: 220.8+ KB\n"
     ]
    }
   ],
   "source": [
    "df.info()"
   ]
  },
  {
   "cell_type": "markdown",
   "metadata": {},
   "source": [
    "**Data Wrangling**\n",
    "\n",
    "Let's perform some data wrangling to clean up redundant labels with different spelling"
   ]
  },
  {
   "cell_type": "code",
   "execution_count": 165,
   "metadata": {
    "colab": {
     "base_uri": "https://localhost:8080/",
     "height": 230
    },
    "colab_type": "code",
    "id": "64lKGjQi7HIO",
    "outputId": "f2a1c861-61e8-4b75-8f46-3fe0b71f52ec"
   },
   "outputs": [
    {
     "data": {
      "text/plain": [
       "California              101\n",
       "Carne asada              29\n",
       "California               26\n",
       "Carnitas                 23\n",
       "Surf & Turf              14\n",
       "                       ... \n",
       "Shredded beef             1\n",
       "Dave's California         1\n",
       "Especial                  1\n",
       "California breakfast      1\n",
       "Spicy a la Diabla         1\n",
       "Name: Burrito, Length: 132, dtype: int64"
      ]
     },
     "execution_count": 165,
     "metadata": {},
     "output_type": "execute_result"
    }
   ],
   "source": [
    "df[\"Burrito\"].value_counts()"
   ]
  },
  {
   "cell_type": "code",
   "execution_count": 166,
   "metadata": {
    "colab": {},
    "colab_type": "code",
    "id": "SzE0Y9sU2Eej"
   },
   "outputs": [],
   "source": [
    "# Clean/combine the Burrito categories\n",
    "\n",
    "# converting the labeling to lower case\n",
    "df['Burrito'] = df['Burrito'].str.lower()\n",
    "\n",
    "#processing white spaces and consolidating the labels to fewer categories\n",
    "# california variable is a boolean pd.Series\n",
    "california = df['Burrito'].str.contains('california')\n",
    "asada = df['Burrito'].str.contains('asada')\n",
    "surf = df['Burrito'].str.contains('surf')\n",
    "carnitas = df['Burrito'].str.contains('carnitas')\n",
    "\n",
    "# boolean indexing for .loc rows\n",
    "df.loc[california, 'Burrito'] = 'California'\n",
    "df.loc[asada, 'Burrito'] = 'Asada'\n",
    "df.loc[surf, 'Burrito'] = 'Surf & Turf'\n",
    "df.loc[carnitas, 'Burrito'] = 'Carnitas'\n",
    "df.loc[~california & ~asada & ~surf & ~carnitas, 'Burrito'] = 'Other'"
   ]
  },
  {
   "cell_type": "code",
   "execution_count": 167,
   "metadata": {
    "colab": {
     "base_uri": "https://localhost:8080/",
     "height": 123
    },
    "colab_type": "code",
    "id": "Z0WSzos37TBU",
    "outputId": "d8cdd9bf-e5f9-4eaf-d549-26fb8dbe1c5e"
   },
   "outputs": [
    {
     "data": {
      "text/plain": [
       "0     True\n",
       "1     True\n",
       "2    False\n",
       "3    False\n",
       "4     True\n",
       "Name: Burrito, dtype: bool"
      ]
     },
     "execution_count": 167,
     "metadata": {},
     "output_type": "execute_result"
    }
   ],
   "source": [
    "california.head()"
   ]
  },
  {
   "cell_type": "markdown",
   "metadata": {},
   "source": [
    "**Number of \"Burrito\" categories are reduced to 5**"
   ]
  },
  {
   "cell_type": "code",
   "execution_count": 168,
   "metadata": {
    "colab": {
     "base_uri": "https://localhost:8080/",
     "height": 123
    },
    "colab_type": "code",
    "id": "7NUtlhxK8GBZ",
    "outputId": "9bd4e089-dca6-4a22-f723-9b656812a4a2"
   },
   "outputs": [
    {
     "data": {
      "text/plain": [
       "California     169\n",
       "Other          156\n",
       "Asada           43\n",
       "Surf & Turf     28\n",
       "Carnitas        25\n",
       "Name: Burrito, dtype: int64"
      ]
     },
     "execution_count": 168,
     "metadata": {},
     "output_type": "execute_result"
    }
   ],
   "source": [
    "df[\"Burrito\"].value_counts()"
   ]
  },
  {
   "cell_type": "markdown",
   "metadata": {},
   "source": [
    "**Drop high cardinality columns**"
   ]
  },
  {
   "cell_type": "code",
   "execution_count": 169,
   "metadata": {
    "colab": {},
    "colab_type": "code",
    "id": "X16s3-dy2Eel"
   },
   "outputs": [],
   "source": [
    "# Drop some high cardinality categoricals\n",
    "df = df.drop(labels=['Notes', 'Location', 'Reviewer', 'Address', 'URL', 'Neighborhood'], axis=1)\n",
    "# Alternative\n",
    "# df = df.drop(columns=['Notes', 'Location', 'Reviewer', 'Address', 'URL', 'Neighborhood'])"
   ]
  },
  {
   "cell_type": "markdown",
   "metadata": {},
   "source": [
    "** Columns which causes leakage **"
   ]
  },
  {
   "cell_type": "code",
   "execution_count": 170,
   "metadata": {
    "colab": {},
    "colab_type": "code",
    "id": "F8V5BPgb2Eeo"
   },
   "outputs": [],
   "source": [
    "# Drop some columns to prevent \"leakage\"\n",
    "# Recommended and overal are derivatives of target column 'Great', causing leakage\n",
    "df = df.drop(columns=['Rec', 'overall'])"
   ]
  },
  {
   "cell_type": "code",
   "execution_count": 171,
   "metadata": {
    "colab": {
     "base_uri": "https://localhost:8080/",
     "height": 34
    },
    "colab_type": "code",
    "id": "V7yxyeCL2Eeq",
    "outputId": "7275fecd-48b8-469f-c00a-60cefb06679d"
   },
   "outputs": [
    {
     "data": {
      "text/plain": [
       "(421, 59)"
      ]
     },
     "execution_count": 171,
     "metadata": {},
     "output_type": "execute_result"
    }
   ],
   "source": [
    "df.shape"
   ]
  },
  {
   "cell_type": "markdown",
   "metadata": {
    "colab_type": "text",
    "id": "K5sydtAXRh7q"
   },
   "source": [
    "* Convert \"Date\" column into datetime format"
   ]
  },
  {
   "cell_type": "code",
   "execution_count": 172,
   "metadata": {
    "colab": {},
    "colab_type": "code",
    "id": "ZBxBz66W98QL"
   },
   "outputs": [],
   "source": [
    "df['Date'] = pd.to_datetime(df['Date'], infer_datetime_format=True)"
   ]
  },
  {
   "cell_type": "code",
   "execution_count": 173,
   "metadata": {
    "colab": {
     "base_uri": "https://localhost:8080/",
     "height": 230
    },
    "colab_type": "code",
    "id": "EEUhOm6OA1bm",
    "outputId": "060ede55-3c91-4279-a0eb-b5f3a1a6e711"
   },
   "outputs": [
    {
     "data": {
      "text/plain": [
       "2016-08-30    29\n",
       "2016-06-24     9\n",
       "2019-08-27     9\n",
       "2016-05-13     7\n",
       "2016-04-15     7\n",
       "              ..\n",
       "2016-09-13     1\n",
       "2016-11-14     1\n",
       "2016-12-15     1\n",
       "2016-10-07     1\n",
       "2019-08-24     1\n",
       "Name: Date, Length: 169, dtype: int64"
      ]
     },
     "execution_count": 173,
     "metadata": {},
     "output_type": "execute_result"
    }
   ],
   "source": [
    "df[\"Date\"].value_counts()"
   ]
  },
  {
   "cell_type": "markdown",
   "metadata": {
    "colab_type": "text",
    "id": "yopjjZVlcLdV"
   },
   "source": [
    "* Data Wrangling (keeping numerical and desired categorical columns and dropping NaN columns"
   ]
  },
  {
   "cell_type": "code",
   "execution_count": 174,
   "metadata": {},
   "outputs": [
    {
     "data": {
      "text/plain": [
       "Burrito           False\n",
       "Date              False\n",
       "Yelp               True\n",
       "Google             True\n",
       "Chips              True\n",
       "Cost              False\n",
       "Hunger            False\n",
       "Mass (g)           True\n",
       "Density (g/mL)     True\n",
       "Length             True\n",
       "Circum             True\n",
       "Volume             True\n",
       "Tortilla          False\n",
       "Temp              False\n",
       "Meat              False\n",
       "Fillings          False\n",
       "Meat:filling      False\n",
       "Uniformity        False\n",
       "Salsa             False\n",
       "Synergy           False\n",
       "Wrap              False\n",
       "Unreliable         True\n",
       "NonSD              True\n",
       "Beef               True\n",
       "Pico               True\n",
       "Guac               True\n",
       "Cheese             True\n",
       "Fries              True\n",
       "Sour cream         True\n",
       "Pork               True\n",
       "Chicken            True\n",
       "Shrimp             True\n",
       "Fish               True\n",
       "Rice               True\n",
       "Beans              True\n",
       "Lettuce            True\n",
       "Tomato             True\n",
       "Bell peper         True\n",
       "Carrots            True\n",
       "Cabbage            True\n",
       "Sauce              True\n",
       "Salsa.1            True\n",
       "Cilantro           True\n",
       "Onion              True\n",
       "Taquito            True\n",
       "Pineapple          True\n",
       "Ham                True\n",
       "Chile relleno      True\n",
       "Nopales            True\n",
       "Lobster            True\n",
       "Queso              True\n",
       "Egg                True\n",
       "Mushroom           True\n",
       "Bacon              True\n",
       "Sushi              True\n",
       "Avocado            True\n",
       "Corn               True\n",
       "Zucchini           True\n",
       "Great             False\n",
       "dtype: bool"
      ]
     },
     "execution_count": 174,
     "metadata": {},
     "output_type": "execute_result"
    }
   ],
   "source": [
    "df.isna().sum(axis=0) > 100"
   ]
  },
  {
   "cell_type": "code",
   "execution_count": 175,
   "metadata": {},
   "outputs": [
    {
     "data": {
      "text/plain": [
       "Index(['Carrots', 'Taquito', 'Ham', 'Chile relleno', 'Nopales', 'Lobster',\n",
       "       'Queso', 'Egg', 'Mushroom', 'Bacon', 'Sushi', 'Corn', 'Zucchini'],\n",
       "      dtype='object')"
      ]
     },
     "execution_count": 175,
     "metadata": {},
     "output_type": "execute_result"
    }
   ],
   "source": [
    "df.columns[df.isna().sum(axis=0)>415]"
   ]
  },
  {
   "cell_type": "code",
   "execution_count": 176,
   "metadata": {
    "colab": {},
    "colab_type": "code",
    "id": "PxWOPkOdSyUC"
   },
   "outputs": [],
   "source": [
    "def wrangle(df, thd, cat_list, y_list):\n",
    "    \"\"\"\n",
    "    thd: threshold level for nan data in a column to drop the column. float between [0,1]\n",
    "    cat_list: list of categorical features to include in the input matrics\n",
    "    list of target label(s)\n",
    "    \"\"\"\n",
    "    #identify numeric columns\n",
    "    num_cols = df.select_dtypes(include='number').columns\n",
    "\n",
    "    #Append one hot encoder categorical columns to the dataframe\n",
    "    df1 = df[cat_list + list(num_cols) + y_list]\n",
    "\n",
    "    #identify columns with thd ratio of NaNs\n",
    "\n",
    "    # argument of df1.columns is a boolean indexing for column labels\n",
    "    # return value of df1.columns[] is a pd.Index of the columns\n",
    "    df1 = df1.drop(df1.columns[df1.isna().sum(axis=0) >= thd*len(df1)], axis=1)\n",
    "    \n",
    "    return df1"
   ]
  },
  {
   "cell_type": "code",
   "execution_count": 177,
   "metadata": {
    "colab": {
     "base_uri": "https://localhost:8080/",
     "height": 34
    },
    "colab_type": "code",
    "id": "sbMqYWAaYksS",
    "outputId": "9e078fab-017e-49b2-f61c-1316a2414770"
   },
   "outputs": [
    {
     "data": {
      "text/plain": [
       "(421, 16)"
      ]
     },
     "execution_count": 177,
     "metadata": {},
     "output_type": "execute_result"
    }
   ],
   "source": [
    "df1 =wrangle(df, 0.7, [\"Burrito\"], [\"Great\"])\n",
    "df1.shape"
   ]
  },
  {
   "cell_type": "markdown",
   "metadata": {
    "colab_type": "text",
    "id": "xf31szuUdcT5"
   },
   "source": [
    "* Convert categorical column into numerical columns with one hot encoder"
   ]
  },
  {
   "cell_type": "code",
   "execution_count": 178,
   "metadata": {
    "colab": {},
    "colab_type": "code",
    "id": "dbzZzTyedljP"
   },
   "outputs": [],
   "source": [
    "# For pipeline Onehotencoder() should be imported from `category_encoders`, not `sklearn`\n",
    "# from sklearn.preprocessing import OneHotEncoder\n",
    "from category_encoders import OneHotEncoder "
   ]
  },
  {
   "cell_type": "markdown",
   "metadata": {},
   "source": [
    "*We can either encode the categorical features and merge the encoded dataframe with the rest of the features or let the OneHotEncoder takes care of it*"
   ]
  },
  {
   "cell_type": "code",
   "execution_count": 179,
   "metadata": {
    "colab": {
     "base_uri": "https://localhost:8080/",
     "height": 158
    },
    "colab_type": "code",
    "id": "XPZXpUGNmaRz",
    "outputId": "55f4978c-4a6d-454c-f2d6-4ac7907f67a4"
   },
   "outputs": [
    {
     "name": "stdout",
     "output_type": "stream",
     "text": [
      "<class 'pandas.core.frame.DataFrame'>\n",
      "   Burrito_1  Burrito_2  Burrito_3  Burrito_4  Burrito_5\n",
      "0          1          0          0          0          0\n",
      "1          1          0          0          0          0\n",
      "2          0          1          0          0          0\n",
      "3          0          0          1          0          0\n",
      "4          1          0          0          0          0\n",
      "(421, 16) (421, 5)\n"
     ]
    },
    {
     "name": "stderr",
     "output_type": "stream",
     "text": [
      "/Users/shahnam/.pyenv/versions/3.7.8/lib/python3.7/site-packages/category_encoders/utils.py:21: FutureWarning: is_categorical is deprecated and will be removed in a future version.  Use is_categorical_dtype instead\n",
      "  elif pd.api.types.is_categorical(cols):\n"
     ]
    }
   ],
   "source": [
    "ohe = OneHotEncoder()\n",
    "Burrito_num = ohe.fit_transform(df1[\"Burrito\"])\n",
    "print(type(Burrito_num))\n",
    "print(Burrito_num[:5])\n",
    "print(df1.shape, Burrito_num.shape)"
   ]
  },
  {
   "cell_type": "code",
   "execution_count": 180,
   "metadata": {
    "colab": {
     "base_uri": "https://localhost:8080/",
     "height": 34
    },
    "colab_type": "code",
    "id": "rG7uqFfjpQPV",
    "outputId": "0173b1a5-90b1-4924-9943-e95261ec5571"
   },
   "outputs": [
    {
     "data": {
      "text/plain": [
       "(421, 20)"
      ]
     },
     "execution_count": 180,
     "metadata": {},
     "output_type": "execute_result"
    }
   ],
   "source": [
    "df1c = df1.copy()\n",
    "df1 = pd.merge(df1, Burrito_num, left_index=True, right_index=True).drop(labels=[\"Burrito\"], axis=1)\n",
    "df1.shape"
   ]
  },
  {
   "cell_type": "markdown",
   "metadata": {},
   "source": [
    "*Here is the alternative way. The ohe can determine which features are categorical and only does the encoding on those.*"
   ]
  },
  {
   "cell_type": "code",
   "execution_count": 181,
   "metadata": {},
   "outputs": [
    {
     "name": "stdout",
     "output_type": "stream",
     "text": [
      "<class 'pandas.core.frame.DataFrame'> (421, 20)\n",
      "['Burrito_1', 'Burrito_2', 'Burrito_3', 'Burrito_4', 'Burrito_5', 'Cost', 'Hunger', 'Length', 'Circum', 'Volume', 'Tortilla', 'Temp', 'Meat', 'Fillings', 'Meat:filling', 'Uniformity', 'Salsa', 'Synergy', 'Wrap', 'Great']\n",
      "**********\n",
      "['Burrito_1', 'Burrito_2', 'Burrito_3', 'Burrito_4', 'Burrito_5', 'Cost', 'Hunger', 'Length', 'Circum', 'Volume', 'Tortilla', 'Temp', 'Meat', 'Fillings', 'Meat:filling', 'Uniformity', 'Salsa', 'Synergy', 'Wrap', 'Great']\n",
      "**********\n"
     ]
    },
    {
     "name": "stderr",
     "output_type": "stream",
     "text": [
      "/Users/shahnam/.pyenv/versions/3.7.8/lib/python3.7/site-packages/category_encoders/utils.py:21: FutureWarning: is_categorical is deprecated and will be removed in a future version.  Use is_categorical_dtype instead\n",
      "  elif pd.api.types.is_categorical(cols):\n"
     ]
    },
    {
     "data": {
      "text/plain": [
       "{'cols': ['Burrito'],\n",
       " 'drop_invariant': False,\n",
       " 'handle_missing': 'value',\n",
       " 'handle_unknown': 'value',\n",
       " 'return_df': True,\n",
       " 'use_cat_names': False,\n",
       " 'verbose': 0}"
      ]
     },
     "execution_count": 181,
     "metadata": {},
     "output_type": "execute_result"
    }
   ],
   "source": [
    "df_encoded = ohe.fit_transform(df1c)\n",
    "print(type(df_encoded), df_encoded.shape)\n",
    "print(ohe.feature_names)\n",
    "print(\"*\"*10)\n",
    "print(ohe.get_feature_names())\n",
    "print(\"*\"*10)\n",
    "ohe.get_params()"
   ]
  },
  {
   "cell_type": "markdown",
   "metadata": {
    "colab_type": "text",
    "id": "aZIcScwGSAIe"
   },
   "source": [
    "### Split training, validation and test data based on date"
   ]
  },
  {
   "cell_type": "code",
   "execution_count": 182,
   "metadata": {
    "colab": {},
    "colab_type": "code",
    "id": "otK_zoDtA-Rn"
   },
   "outputs": [
    {
     "name": "stdout",
     "output_type": "stream",
     "text": [
      "2018-08-18 00:00:00\n"
     ]
    },
    {
     "data": {
      "text/plain": [
       "Timestamp('2018-04-14 00:00:00')"
      ]
     },
     "execution_count": 182,
     "metadata": {},
     "output_type": "execute_result"
    }
   ],
   "source": [
    "#Y-M-D or M-D-Y\n",
    "mask_2017 = pd.to_datetime('01-01-2017')\n",
    "mask_2018 = pd.to_datetime('01-01-2018')\n",
    "print(pd.to_datetime('08-18-2018'))\n",
    "pd.to_datetime('2018-04-14')"
   ]
  },
  {
   "cell_type": "code",
   "execution_count": 183,
   "metadata": {},
   "outputs": [
    {
     "name": "stderr",
     "output_type": "stream",
     "text": [
      "/Users/shahnam/.pyenv/versions/3.7.8/lib/python3.7/site-packages/ipykernel_launcher.py:1: FutureWarning: Treating datetime data as categorical rather than numeric in `.describe` is deprecated and will be removed in a future version of pandas. Specify `datetime_is_numeric=True` to silence this warning and adopt the future behavior now.\n",
      "  \"\"\"Entry point for launching an IPython kernel.\n"
     ]
    },
    {
     "data": {
      "text/plain": [
       "count                     421\n",
       "unique                    169\n",
       "top       2016-08-30 00:00:00\n",
       "freq                       29\n",
       "first     2011-05-16 00:00:00\n",
       "last      2026-04-25 00:00:00\n",
       "Name: Date, dtype: object"
      ]
     },
     "execution_count": 183,
     "metadata": {},
     "output_type": "execute_result"
    }
   ],
   "source": [
    "df[\"Date\"].describe()"
   ]
  },
  {
   "cell_type": "code",
   "execution_count": 184,
   "metadata": {
    "colab": {},
    "colab_type": "code",
    "id": "nw66fd7yDSNI"
   },
   "outputs": [],
   "source": [
    "# split data into three categories\n",
    "train = df1[df[\"Date\"] < mask_2017]\n",
    "valid = df1[(df[\"Date\"] >= mask_2017) & (df[\"Date\"] < mask_2018)]\n",
    "test = df1[df[\"Date\"] >= mask_2018]"
   ]
  },
  {
   "cell_type": "code",
   "execution_count": 185,
   "metadata": {
    "colab": {},
    "colab_type": "code",
    "id": "Dw5A3KE0EBt0"
   },
   "outputs": [],
   "source": [
    "# Chck if the split left anything out or overlaps\n",
    "assert len(df) == len(train) + len(valid) + len(test)"
   ]
  },
  {
   "cell_type": "markdown",
   "metadata": {
    "colab_type": "text",
    "id": "fnn4gIHBF50g"
   },
   "source": [
    "**X and Y label**"
   ]
  },
  {
   "cell_type": "code",
   "execution_count": 186,
   "metadata": {
    "colab": {},
    "colab_type": "code",
    "id": "lSJ8y1KvFqI9"
   },
   "outputs": [],
   "source": [
    "# pop removes the target from X_train and assign it to y_train\n",
    "X_train = train\n",
    "y_train = X_train.pop(\"Great\")\n",
    "\n",
    "X_valid = valid\n",
    "y_valid = X_valid.pop(\"Great\")\n",
    "\n",
    "X_test = test\n",
    "y_test = X_test.pop(\"Great\")"
   ]
  },
  {
   "cell_type": "markdown",
   "metadata": {
    "colab_type": "text",
    "id": "XTU4IXghFkZz"
   },
   "source": [
    "**Baseline model**\n",
    "\n",
    "Based on majority class"
   ]
  },
  {
   "cell_type": "code",
   "execution_count": 187,
   "metadata": {
    "colab": {
     "base_uri": "https://localhost:8080/",
     "height": 34
    },
    "colab_type": "code",
    "id": "eIZCvcpZFjt4",
    "outputId": "c259f9f0-2c09-4ff9-a7f7-d8e10758d762"
   },
   "outputs": [
    {
     "data": {
      "text/plain": [
       "array([False,  True])"
      ]
     },
     "execution_count": 187,
     "metadata": {},
     "output_type": "execute_result"
    }
   ],
   "source": [
    "y_train.unique()"
   ]
  },
  {
   "cell_type": "code",
   "execution_count": 188,
   "metadata": {
    "colab": {
     "base_uri": "https://localhost:8080/",
     "height": 70
    },
    "colab_type": "code",
    "id": "vdP4N7XWFyBs",
    "outputId": "ad135ddf-a40f-47ba-d6c6-ff221888385b"
   },
   "outputs": [
    {
     "data": {
      "text/plain": [
       "False    0.590604\n",
       "True     0.409396\n",
       "Name: Great, dtype: float64"
      ]
     },
     "execution_count": 188,
     "metadata": {},
     "output_type": "execute_result"
    }
   ],
   "source": [
    "y_train.value_counts(normalize=True)"
   ]
  },
  {
   "cell_type": "markdown",
   "metadata": {
    "colab_type": "text",
    "id": "Dcgc4OVEHF2j"
   },
   "source": [
    "Base line model: all the prediction is False (majority label)\n",
    "and that's 59% prediction.\n",
    "Now let's check the missing values."
   ]
  },
  {
   "cell_type": "code",
   "execution_count": 189,
   "metadata": {
    "colab": {
     "base_uri": "https://localhost:8080/",
     "height": 478
    },
    "colab_type": "code",
    "id": "qNuM7blHdQgk",
    "outputId": "09a3ad8b-36e9-4a05-bffd-e858956caaa8"
   },
   "outputs": [
    {
     "name": "stdout",
     "output_type": "stream",
     "text": [
      "<class 'pandas.core.frame.DataFrame'>\n",
      "Int64Index: 298 entries, 0 to 300\n",
      "Data columns (total 19 columns):\n",
      " #   Column        Non-Null Count  Dtype  \n",
      "---  ------        --------------  -----  \n",
      " 0   Cost          292 non-null    float64\n",
      " 1   Hunger        297 non-null    float64\n",
      " 2   Length        175 non-null    float64\n",
      " 3   Circum        174 non-null    float64\n",
      " 4   Volume        174 non-null    float64\n",
      " 5   Tortilla      298 non-null    float64\n",
      " 6   Temp          283 non-null    float64\n",
      " 7   Meat          288 non-null    float64\n",
      " 8   Fillings      297 non-null    float64\n",
      " 9   Meat:filling  292 non-null    float64\n",
      " 10  Uniformity    296 non-null    float64\n",
      " 11  Salsa         278 non-null    float64\n",
      " 12  Synergy       296 non-null    float64\n",
      " 13  Wrap          296 non-null    float64\n",
      " 14  Burrito_1     298 non-null    int64  \n",
      " 15  Burrito_2     298 non-null    int64  \n",
      " 16  Burrito_3     298 non-null    int64  \n",
      " 17  Burrito_4     298 non-null    int64  \n",
      " 18  Burrito_5     298 non-null    int64  \n",
      "dtypes: float64(14), int64(5)\n",
      "memory usage: 46.6 KB\n"
     ]
    }
   ],
   "source": [
    "X_train.info()"
   ]
  },
  {
   "cell_type": "markdown",
   "metadata": {
    "colab_type": "text",
    "id": "xOnGdiEbPeeY"
   },
   "source": [
    "*Imputing NaN values as needed for SelectKBest and Regression models. The output of the imputer is numpy array*"
   ]
  },
  {
   "cell_type": "code",
   "execution_count": 190,
   "metadata": {
    "colab": {},
    "colab_type": "code",
    "id": "NlJMP9z8PnTq"
   },
   "outputs": [],
   "source": [
    "# Import SimpleImputer\n",
    "from sklearn.impute import SimpleImputer"
   ]
  },
  {
   "cell_type": "code",
   "execution_count": 191,
   "metadata": {
    "colab": {},
    "colab_type": "code",
    "id": "k5ZTfPrCY7Wg"
   },
   "outputs": [],
   "source": [
    "# Fill na with SimpleImputer, we won't do that for y though\n",
    "si = SimpleImputer(strategy='mean')\n",
    "X_train_imp = si.fit_transform(X_train)\n",
    "X_valid_imp = si.transform(X_valid)\n",
    "X_test_imp = si.transform(X_test)"
   ]
  },
  {
   "cell_type": "code",
   "execution_count": 192,
   "metadata": {
    "colab": {},
    "colab_type": "code",
    "id": "L4TlVYRUeMG9"
   },
   "outputs": [
    {
     "data": {
      "text/plain": [
       "Cost            False\n",
       "Hunger          False\n",
       "Length          False\n",
       "Circum          False\n",
       "Volume          False\n",
       "Tortilla        False\n",
       "Temp            False\n",
       "Meat            False\n",
       "Fillings        False\n",
       "Meat:filling    False\n",
       "Uniformity      False\n",
       "Salsa           False\n",
       "Synergy         False\n",
       "Wrap            False\n",
       "Burrito_1       False\n",
       "Burrito_2       False\n",
       "Burrito_3       False\n",
       "Burrito_4       False\n",
       "Burrito_5       False\n",
       "dtype: bool"
      ]
     },
     "execution_count": 192,
     "metadata": {},
     "output_type": "execute_result"
    }
   ],
   "source": [
    "# Casting imputer np.array back into DataFrame\n",
    "X_train_imp_df = pd.DataFrame(X_train_imp, columns = X_train.columns)\n",
    "X_valid_imp_df = pd.DataFrame(X_valid_imp, columns = X_train.columns)\n",
    "X_test_imp_df = pd.DataFrame(X_test_imp, columns = X_train.columns)\n",
    "\n",
    "# CHeck if there is any missing value left\n",
    "X_train_imp_df.isna().any()"
   ]
  },
  {
   "cell_type": "markdown",
   "metadata": {
    "colab_type": "text",
    "id": "C-Nd3Z2Vz8c9"
   },
   "source": [
    "### Perform feature selection by SelectKBest"
   ]
  },
  {
   "cell_type": "code",
   "execution_count": 193,
   "metadata": {
    "colab": {
     "base_uri": "https://localhost:8080/",
     "height": 34
    },
    "colab_type": "code",
    "id": "dhqUV3vcwSDC",
    "outputId": "ab694eb3-3a4d-44a1-bcce-5a1b702261bf"
   },
   "outputs": [
    {
     "data": {
      "text/plain": [
       "(298, 19)"
      ]
     },
     "execution_count": 193,
     "metadata": {},
     "output_type": "execute_result"
    }
   ],
   "source": [
    "X_train_imp_df.shape"
   ]
  },
  {
   "cell_type": "code",
   "execution_count": 194,
   "metadata": {
    "colab": {
     "base_uri": "https://localhost:8080/",
     "height": 70
    },
    "colab_type": "code",
    "id": "FuC74JFsWNwy",
    "outputId": "004cfeda-5962-4c23-cb82-8efb35bf4c68"
   },
   "outputs": [
    {
     "name": "stdout",
     "output_type": "stream",
     "text": [
      "Kbest.get_support():\n",
      " [False False False False False  True  True  True  True  True  True  True\n",
      "  True False False False False False False]\n",
      "<class 'numpy.ndarray'>\n"
     ]
    },
    {
     "data": {
      "text/plain": [
       "Index(['Tortilla', 'Temp', 'Meat', 'Fillings', 'Meat:filling', 'Uniformity',\n",
       "       'Salsa', 'Synergy'],\n",
       "      dtype='object')"
      ]
     },
     "execution_count": 194,
     "metadata": {},
     "output_type": "execute_result"
    }
   ],
   "source": [
    "from sklearn.feature_selection import SelectKBest\n",
    "Kbest = SelectKBest(k=8)\n",
    "\n",
    "# SelectKBest can take DataFrame or np.array as input\n",
    "X_train_Kbest = Kbest.fit_transform(X_train_imp, y_train)\n",
    "X_valid_Kbest = Kbest.transform(X_valid_imp)\n",
    "X_test_Kbest = Kbest.transform(X_test_imp)\n",
    "\n",
    "#Alternative way to create X_val_Kbest\n",
    "print(\"Kbest.get_support():\\n\", Kbest.get_support())\n",
    "print(type(Kbest.get_support()))\n",
    "\n",
    "# Kbest.get_support() provide np.array of boolean indexing for df.columns[] Series\n",
    "Kbest_cols = X_train_imp_df.columns[Kbest.get_support()]\n",
    "\n",
    "X_valid_Kbest_alt = X_valid_imp_df[Kbest_cols]\n",
    "assert (X_valid_Kbest == X_valid_Kbest_alt).all(axis=0).all()\n",
    "Kbest_cols"
   ]
  },
  {
   "cell_type": "code",
   "execution_count": 195,
   "metadata": {},
   "outputs": [
    {
     "data": {
      "text/html": [
       "<div>\n",
       "<style scoped>\n",
       "    .dataframe tbody tr th:only-of-type {\n",
       "        vertical-align: middle;\n",
       "    }\n",
       "\n",
       "    .dataframe tbody tr th {\n",
       "        vertical-align: top;\n",
       "    }\n",
       "\n",
       "    .dataframe thead th {\n",
       "        text-align: right;\n",
       "    }\n",
       "</style>\n",
       "<table border=\"1\" class=\"dataframe\">\n",
       "  <thead>\n",
       "    <tr style=\"text-align: right;\">\n",
       "      <th></th>\n",
       "      <th>Tortilla</th>\n",
       "      <th>Temp</th>\n",
       "      <th>Meat</th>\n",
       "      <th>Fillings</th>\n",
       "      <th>Meat:filling</th>\n",
       "      <th>Uniformity</th>\n",
       "      <th>Salsa</th>\n",
       "      <th>Synergy</th>\n",
       "    </tr>\n",
       "  </thead>\n",
       "  <tbody>\n",
       "    <tr>\n",
       "      <th>0</th>\n",
       "      <td>True</td>\n",
       "      <td>True</td>\n",
       "      <td>True</td>\n",
       "      <td>True</td>\n",
       "      <td>True</td>\n",
       "      <td>True</td>\n",
       "      <td>True</td>\n",
       "      <td>True</td>\n",
       "    </tr>\n",
       "    <tr>\n",
       "      <th>1</th>\n",
       "      <td>True</td>\n",
       "      <td>True</td>\n",
       "      <td>True</td>\n",
       "      <td>True</td>\n",
       "      <td>True</td>\n",
       "      <td>True</td>\n",
       "      <td>True</td>\n",
       "      <td>True</td>\n",
       "    </tr>\n",
       "  </tbody>\n",
       "</table>\n",
       "</div>"
      ],
      "text/plain": [
       "   Tortilla  Temp  Meat  Fillings  Meat:filling  Uniformity  Salsa  Synergy\n",
       "0      True  True  True      True          True        True   True     True\n",
       "1      True  True  True      True          True        True   True     True"
      ]
     },
     "execution_count": 195,
     "metadata": {},
     "output_type": "execute_result"
    }
   ],
   "source": [
    "(X_valid_Kbest == X_valid_Kbest_alt).head(2)"
   ]
  },
  {
   "cell_type": "markdown",
   "metadata": {
    "colab_type": "text",
    "id": "N6RvAGbXx3QG"
   },
   "source": [
    "### Linear Regression"
   ]
  },
  {
   "cell_type": "code",
   "execution_count": 196,
   "metadata": {
    "colab": {},
    "colab_type": "code",
    "id": "BGkJi2ZPPzD2"
   },
   "outputs": [],
   "source": [
    "from sklearn.linear_model import LinearRegression, LogisticRegression\n",
    "\n",
    "lin_model = LinearRegression()"
   ]
  },
  {
   "cell_type": "code",
   "execution_count": 197,
   "metadata": {
    "colab": {
     "base_uri": "https://localhost:8080/",
     "height": 34
    },
    "colab_type": "code",
    "id": "Wud8pXPHShIM",
    "outputId": "42add215-6d1f-4a6d-d381-bf6111cb5525"
   },
   "outputs": [
    {
     "data": {
      "text/plain": [
       "LinearRegression()"
      ]
     },
     "execution_count": 197,
     "metadata": {},
     "output_type": "execute_result"
    }
   ],
   "source": [
    "lin_model.fit(X_train_Kbest, y_train)"
   ]
  },
  {
   "cell_type": "code",
   "execution_count": 198,
   "metadata": {
    "colab": {},
    "colab_type": "code",
    "id": "dhhmRMRyaZ08"
   },
   "outputs": [
    {
     "data": {
      "text/plain": [
       "numpy.ndarray"
      ]
     },
     "execution_count": 198,
     "metadata": {},
     "output_type": "execute_result"
    }
   ],
   "source": [
    "# Apply our model to new data\n",
    "y_train_pred = lin_model.predict(X_train_Kbest)\n",
    "y_valid_pred = lin_model.predict(X_valid_Kbest)\n",
    "y_test_pred = lin_model.predict(X_test_Kbest)\n",
    "type(y_train_pred)"
   ]
  },
  {
   "cell_type": "code",
   "execution_count": 199,
   "metadata": {
    "colab": {},
    "colab_type": "code",
    "id": "aQXin_PG5TXS"
   },
   "outputs": [],
   "source": [
    "from sklearn.metrics import mean_absolute_error, mean_squared_error, r2_score\n",
    "import numpy as np"
   ]
  },
  {
   "cell_type": "code",
   "execution_count": 200,
   "metadata": {
    "colab": {
     "base_uri": "https://localhost:8080/",
     "height": 70
    },
    "colab_type": "code",
    "id": "B0vTKeYU-h6e",
    "outputId": "5cc13d62-4f35-4799-c845-ecb95006e1c6"
   },
   "outputs": [
    {
     "name": "stdout",
     "output_type": "stream",
     "text": [
      "Mean Absolute Error(Train, Valid, Test):, 2.93e-01, 3.33e-01, 3.34e-01\n",
      "Root Mean Squared Error(Train, Valid, Test):, 3.39e-01, 3.65e-01, 3.87e-01\n",
      "R^2(Train, Valid, Test):, 0.525, 0.461, 0.386\n"
     ]
    }
   ],
   "source": [
    "mae_train = mean_absolute_error(y_train, y_train_pred)\n",
    "mae_valid = mean_absolute_error(y_valid, y_valid_pred)\n",
    "mae_test = mean_absolute_error(y_test, y_test_pred)\n",
    "\n",
    "rmse_train = np.sqrt(mean_squared_error(y_train, y_train_pred))\n",
    "rmse_valid = np.sqrt(mean_squared_error(y_valid, y_valid_pred))\n",
    "rmse_test = np.sqrt(mean_squared_error(y_test, y_test_pred))\n",
    "\n",
    "r2_train = r2_score(y_train, y_train_pred)\n",
    "r2_valid = r2_score(y_valid, y_valid_pred)\n",
    "r2_test = r2_score(y_test, y_test_pred)\n",
    "\n",
    "print(f'Mean Absolute Error(Train, Valid, Test):, {mae_train:.2e}, {mae_valid:.2e}, {mae_test:.2e}')\n",
    "print(f'Root Mean Squared Error(Train, Valid, Test):, {rmse_train:.2e}, {rmse_valid:.2e}, {rmse_test:.2e}')\n",
    "print(f'R^2(Train, Valid, Test):, {r2_train:.3f}, {r2_valid:.3f}, {r2_test:.3f}')"
   ]
  },
  {
   "cell_type": "markdown",
   "metadata": {},
   "source": [
    "*R2 score shows some overfit. Do not confuse R2 score with accuracy, as linear regression does not have an accuracy score*"
   ]
  },
  {
   "cell_type": "markdown",
   "metadata": {},
   "source": [
    "Let's use sns.regplot to plot the regression line on a x,y scatter plot."
   ]
  },
  {
   "cell_type": "code",
   "execution_count": 201,
   "metadata": {
    "colab": {
     "base_uri": "https://localhost:8080/",
     "height": 296
    },
    "colab_type": "code",
    "id": "TKcTdO-XXt8x",
    "outputId": "03143b8f-1124-4608-b08c-be5431c30299"
   },
   "outputs": [
    {
     "data": {
      "text/plain": [
       "<AxesSubplot:xlabel='Fillings', ylabel='Great'>"
      ]
     },
     "execution_count": 201,
     "metadata": {},
     "output_type": "execute_result"
    },
    {
     "data": {
      "image/png": "[encoded data removed]",
      "text/plain": [
       "<Figure size 432x288 with 1 Axes>"
      ]
     },
     "metadata": {
      "needs_background": "light"
     },
     "output_type": "display_data"
    }
   ],
   "source": [
    "import seaborn as sns\n",
    "sns.regplot(x=X_train['Fillings'], y=y_train)"
   ]
  },
  {
   "cell_type": "markdown",
   "metadata": {
    "colab_type": "text",
    "id": "QmpKcggiy_FH"
   },
   "source": [
    "### Logistic Regression"
   ]
  },
  {
   "cell_type": "code",
   "execution_count": 202,
   "metadata": {
    "colab": {},
    "colab_type": "code",
    "id": "ONh34lEYy-L4"
   },
   "outputs": [],
   "source": [
    "log_model = LogisticRegression()"
   ]
  },
  {
   "cell_type": "code",
   "execution_count": 203,
   "metadata": {
    "colab": {
     "base_uri": "https://localhost:8080/",
     "height": 105
    },
    "colab_type": "code",
    "id": "yF2AMEcbz7gJ",
    "outputId": "fc1ec47d-2ea1-4f01-a225-0d827a3c17ae"
   },
   "outputs": [
    {
     "name": "stdout",
     "output_type": "stream",
     "text": [
      "Training Accuracy: 0.8859060402684564\n",
      "Validation Accuracy: 0.8470588235294118\n",
      "Test Accuracy: 0.7894736842105263\n"
     ]
    },
    {
     "data": {
      "text/plain": [
       "array([ True,  True, False,  True, False, False,  True,  True,  True,\n",
       "        True])"
      ]
     },
     "execution_count": 203,
     "metadata": {},
     "output_type": "execute_result"
    }
   ],
   "source": [
    "log_model.fit(X_train_Kbest, y_train)\n",
    "y_test_pred = log_model.predict(X_test_Kbest)\n",
    "\n",
    "# .score() method on trained model (log_model) yields accuracy score\n",
    "print('Training Accuracy:', log_model.score(X_train_Kbest, y_train))\n",
    "print('Validation Accuracy:', log_model.score(X_valid_Kbest, y_valid))\n",
    "print('Test Accuracy:', log_model.score(X_test_Kbest, y_test))\n",
    "\n",
    "y_test_pred[:10]"
   ]
  },
  {
   "cell_type": "markdown",
   "metadata": {},
   "source": [
    "~79% accuracy on unseen (test) data. Not bad!"
   ]
  },
  {
   "cell_type": "markdown",
   "metadata": {
    "colab_type": "text",
    "id": "P1zR3W8mECx-"
   },
   "source": [
    "## Put everything into a pipeline"
   ]
  },
  {
   "cell_type": "code",
   "execution_count": 204,
   "metadata": {
    "colab": {},
    "colab_type": "code",
    "id": "3Yp-JG1dDxxU"
   },
   "outputs": [],
   "source": [
    "from sklearn.preprocessing import StandardScaler\n",
    "from sklearn.pipeline import Pipeline"
   ]
  },
  {
   "cell_type": "markdown",
   "metadata": {
    "colab_type": "text",
    "id": "zzCmPHZJ2YE6"
   },
   "source": [
    "Split the wrangled data fresh before encodeing, or imputing, or SelectKBest feature selection "
   ]
  },
  {
   "cell_type": "code",
   "execution_count": 205,
   "metadata": {
    "colab": {},
    "colab_type": "code",
    "id": "ycxfmuq5H7G9"
   },
   "outputs": [],
   "source": [
    "df1 =wrangle(df, 0.7, [\"Burrito\"], [\"Great\"])\n",
    "train = df1[df[\"Date\"] < mask_2017]\n",
    "valid = df1[(df[\"Date\"] >= mask_2017) & (df[\"Date\"] < mask_2018)]\n",
    "test = df1[df[\"Date\"] >= mask_2018]"
   ]
  },
  {
   "cell_type": "code",
   "execution_count": 206,
   "metadata": {
    "colab": {},
    "colab_type": "code",
    "id": "Kamq_AQL2QTz"
   },
   "outputs": [],
   "source": [
    "X_train = train\n",
    "y_train = X_train.pop(\"Great\")\n",
    "\n",
    "X_valid = valid\n",
    "y_valid = X_valid.pop(\"Great\")\n",
    "\n",
    "X_test = test\n",
    "y_test = X_test.pop(\"Great\")"
   ]
  },
  {
   "cell_type": "code",
   "execution_count": 207,
   "metadata": {
    "colab": {
     "base_uri": "https://localhost:8080/",
     "height": 301
    },
    "colab_type": "code",
    "id": "0JDeTwU62-0U",
    "outputId": "4eb92036-c12e-4b23-f118-30085730b450"
   },
   "outputs": [
    {
     "data": {
      "text/plain": [
       "Burrito          5\n",
       "Cost            80\n",
       "Hunger          22\n",
       "Length          25\n",
       "Circum          26\n",
       "Volume          54\n",
       "Tortilla        16\n",
       "Temp            17\n",
       "Meat            20\n",
       "Fillings        19\n",
       "Meat:filling    23\n",
       "Uniformity      18\n",
       "Salsa           21\n",
       "Synergy         23\n",
       "Wrap            16\n",
       "dtype: int64"
      ]
     },
     "execution_count": 207,
     "metadata": {},
     "output_type": "execute_result"
    }
   ],
   "source": [
    "X_train.nunique()"
   ]
  },
  {
   "cell_type": "code",
   "execution_count": 208,
   "metadata": {
    "colab": {
     "base_uri": "https://localhost:8080/",
     "height": 167
    },
    "colab_type": "code",
    "id": "xUv6VPeXGKNf",
    "outputId": "7f3f34ce-3a2d-4b4e-efd5-1edca45cc1e7"
   },
   "outputs": [
    {
     "data": {
      "text/html": [
       "<div>\n",
       "<style scoped>\n",
       "    .dataframe tbody tr th:only-of-type {\n",
       "        vertical-align: middle;\n",
       "    }\n",
       "\n",
       "    .dataframe tbody tr th {\n",
       "        vertical-align: top;\n",
       "    }\n",
       "\n",
       "    .dataframe thead th {\n",
       "        text-align: right;\n",
       "    }\n",
       "</style>\n",
       "<table border=\"1\" class=\"dataframe\">\n",
       "  <thead>\n",
       "    <tr style=\"text-align: right;\">\n",
       "      <th></th>\n",
       "      <th>Burrito</th>\n",
       "    </tr>\n",
       "  </thead>\n",
       "  <tbody>\n",
       "    <tr>\n",
       "      <th>count</th>\n",
       "      <td>298</td>\n",
       "    </tr>\n",
       "    <tr>\n",
       "      <th>unique</th>\n",
       "      <td>5</td>\n",
       "    </tr>\n",
       "    <tr>\n",
       "      <th>top</th>\n",
       "      <td>California</td>\n",
       "    </tr>\n",
       "    <tr>\n",
       "      <th>freq</th>\n",
       "      <td>118</td>\n",
       "    </tr>\n",
       "  </tbody>\n",
       "</table>\n",
       "</div>"
      ],
      "text/plain": [
       "           Burrito\n",
       "count          298\n",
       "unique           5\n",
       "top     California\n",
       "freq           118"
      ]
     },
     "execution_count": 208,
     "metadata": {},
     "output_type": "execute_result"
    }
   ],
   "source": [
    "X_train.describe(exclude='number')"
   ]
  },
  {
   "cell_type": "markdown",
   "metadata": {},
   "source": [
    "*pipeline argument is a list of tuples, with first element the name string of the step and second the step object instance. Most of sklearn API methods work for pipeline aswell*"
   ]
  },
  {
   "cell_type": "code",
   "execution_count": 209,
   "metadata": {
    "colab": {},
    "colab_type": "code",
    "id": "a2HS3tWsEhp_"
   },
   "outputs": [],
   "source": [
    "# Instantiate pipeline with steps\n",
    "# \n",
    "logR_pipe = Pipeline([\n",
    "                      ('ohe', OneHotEncoder(cols=[\"Burrito\"])),  # Only encode the cols\n",
    "                      ('imputer', SimpleImputer()),\n",
    "                      ('selector', SelectKBest(k=8)),\n",
    "                      ('logR', LogisticRegression())\n",
    "\n",
    "])"
   ]
  },
  {
   "cell_type": "markdown",
   "metadata": {},
   "source": [
    "**Notice no fit_tranform for train set nor tranform() for validation/test sets in a pipeline**"
   ]
  },
  {
   "cell_type": "code",
   "execution_count": 210,
   "metadata": {
    "colab": {
     "base_uri": "https://localhost:8080/",
     "height": 496
    },
    "colab_type": "code",
    "id": "_5PELEK5MEvs",
    "outputId": "5c5a037f-d3a7-40b4-c2f4-2bfdfadc25d3"
   },
   "outputs": [
    {
     "name": "stderr",
     "output_type": "stream",
     "text": [
      "/Users/shahnam/.pyenv/versions/3.7.8/lib/python3.7/site-packages/category_encoders/utils.py:21: FutureWarning: is_categorical is deprecated and will be removed in a future version.  Use is_categorical_dtype instead\n",
      "  elif pd.api.types.is_categorical(cols):\n"
     ]
    },
    {
     "data": {
      "text/plain": [
       "Pipeline(steps=[('ohe', OneHotEncoder(cols=['Burrito'])),\n",
       "                ('imputer', SimpleImputer()), ('selector', SelectKBest(k=8)),\n",
       "                ('logR', LogisticRegression())])"
      ]
     },
     "execution_count": 210,
     "metadata": {},
     "output_type": "execute_result"
    }
   ],
   "source": [
    "# Fit model on training data\n",
    "logR_pipe.fit(X_train, y_train)"
   ]
  },
  {
   "cell_type": "code",
   "execution_count": 211,
   "metadata": {
    "colab": {
     "base_uri": "https://localhost:8080/",
     "height": 70
    },
    "colab_type": "code",
    "id": "Zy7KA_r1PixU",
    "outputId": "dbd29c25-2a91-4cb5-ea11-ec77af6f992f"
   },
   "outputs": [
    {
     "name": "stdout",
     "output_type": "stream",
     "text": [
      "Training Accuracy: 0.8859060402684564\n",
      "Validation Accuracy: 0.8470588235294118\n",
      "Test Accuracy: 0.7894736842105263\n"
     ]
    }
   ],
   "source": [
    "#metric (accuracy) on test set\n",
    "print('Training Accuracy:', logR_pipe.score(X_train, y_train))\n",
    "print('Validation Accuracy:', logR_pipe.score(X_valid, y_valid))\n",
    "print('Test Accuracy:', logR_pipe.score(X_test, y_test))"
   ]
  },
  {
   "cell_type": "code",
   "execution_count": 212,
   "metadata": {
    "colab": {
     "base_uri": "https://localhost:8080/",
     "height": 34
    },
    "colab_type": "code",
    "id": "JYT3eVtOQQrM",
    "outputId": "1a4db9f1-818d-4bbc-9754-b922b43c94cc"
   },
   "outputs": [
    {
     "name": "stdout",
     "output_type": "stream",
     "text": [
      "[ True  True False  True False False  True  True  True  True]\n"
     ]
    },
    {
     "data": {
      "text/plain": [
       "0.7894736842105263"
      ]
     },
     "execution_count": 212,
     "metadata": {},
     "output_type": "execute_result"
    }
   ],
   "source": [
    "y_test_pred = logR_pipe.predict(X_test)\n",
    "print(y_test_pred[:10])\n",
    "\n",
    "#alternative way to get the accuracy score without access to trained model\n",
    "from sklearn.metrics import accuracy_score\n",
    "accuracy_score(y_true=y_test, y_pred=y_test_pred, normalize=True) "
   ]
  },
  {
   "cell_type": "code",
   "execution_count": 213,
   "metadata": {
    "colab": {
     "base_uri": "https://localhost:8080/",
     "height": 194
    },
    "colab_type": "code",
    "id": "FY0pnaPFXHa9",
    "outputId": "2dcac1a9-f723-4ce8-df2a-3e1424420c01"
   },
   "outputs": [
    {
     "data": {
      "text/plain": [
       "array([[3.34542514e-04, 9.99665457e-01],\n",
       "       [6.23125467e-03, 9.93768745e-01],\n",
       "       [9.95203158e-01, 4.79684183e-03],\n",
       "       [7.97847500e-05, 9.99920215e-01],\n",
       "       [9.97128434e-01, 2.87156643e-03],\n",
       "       [8.21223660e-01, 1.78776340e-01],\n",
       "       [6.35509649e-02, 9.36449035e-01],\n",
       "       [1.17086851e-03, 9.98829131e-01],\n",
       "       [3.67367604e-01, 6.32632396e-01],\n",
       "       [1.89681571e-01, 8.10318429e-01]])"
      ]
     },
     "execution_count": 213,
     "metadata": {},
     "output_type": "execute_result"
    }
   ],
   "source": [
    "logR_pipe.predict_proba(X_test)[:10]"
   ]
  },
  {
   "cell_type": "code",
   "execution_count": null,
   "metadata": {},
   "outputs": [],
   "source": []
  }
 ],
 "metadata": {
  "colab": {
   "collapsed_sections": [],
   "include_colab_link": true,
   "name": "skhabiri_LS_DS_214_assignment.ipynb",
   "provenance": []
  },
  "kernelspec": {
   "display_name": "Python 3",
   "language": "python",
   "name": "python3"
  },
  "language_info": {
   "codemirror_mode": {
    "name": "ipython",
    "version": 3
   },
   "file_extension": ".py",
   "mimetype": "text/x-python",
   "name": "python",
   "nbconvert_exporter": "python",
   "pygments_lexer": "ipython3",
   "version": "3.7.8"
  }
 },
 "nbformat": 4,
 "nbformat_minor": 4
}
