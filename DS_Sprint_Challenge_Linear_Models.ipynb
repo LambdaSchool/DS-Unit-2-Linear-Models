{
  "nbformat": 4,
  "nbformat_minor": 0,
  "metadata": {
    "colab": {
      "name": "DS_Sprint_Challenge_Linear_Models.ipynb",
      "provenance": [],
      "collapsed_sections": [],
      "include_colab_link": true
    },
    "kernelspec": {
      "display_name": "Python 3",
      "language": "python",
      "name": "python3"
    },
    "language_info": {
      "codemirror_mode": {
        "name": "ipython",
        "version": 3
      },
      "file_extension": ".py",
      "mimetype": "text/x-python",
      "name": "python",
      "nbconvert_exporter": "python",
      "pygments_lexer": "ipython3",
      "version": "3.7.3"
    }
  },
  "cells": [
    {
      "cell_type": "markdown",
      "metadata": {
        "id": "view-in-github",
        "colab_type": "text"
      },
      "source": [
        "<a href=\"https://colab.research.google.com/github/BoWarburton/DS-Unit-2-Linear-Models/blob/master/DS_Sprint_Challenge_Linear_Models.ipynb\" target=\"_parent\"><img src=\"https://colab.research.google.com/assets/colab-badge.svg\" alt=\"Open In Colab\"/></a>"
      ]
    },
    {
      "cell_type": "markdown",
      "metadata": {
        "colab_type": "text",
        "id": "VZf2akBaMjq8"
      },
      "source": [
        "_Lambda School Data Science, Unit 2_\n",
        " \n",
        "# Linear Models Sprint Challenge\n",
        "\n",
        "To demonstrate mastery on your Sprint Challenge, do all the required, numbered instructions in this notebook.\n",
        "\n",
        "To earn a score of \"3\", also do all the stretch goals.\n",
        "\n",
        "You are permitted and encouraged to do as much data exploration as you want."
      ]
    },
    {
      "cell_type": "markdown",
      "metadata": {
        "colab_type": "text",
        "id": "20OITf58NLQh"
      },
      "source": [
        "### Part 1, Classification\n",
        "- 1.1. Do train/test split. Arrange data into X features matrix and y target vector\n",
        "- 1.2. Use scikit-learn to fit a logistic regression model\n",
        "- 1.3. Report classification metric: accuracy\n",
        "\n",
        "### Part 2, Regression\n",
        "- 2.1. Begin with baselines for regression\n",
        "- 2.2. Do train/validate/test split\n",
        "- 2.3. Arrange data into X features matrix and y target vector\n",
        "- 2.4. Do one-hot encoding\n",
        "- 2.5. Use scikit-learn to fit a linear regression or ridge regression model\n",
        "- 2.6. Report validation MAE and $R^2$\n",
        "\n",
        "### Stretch Goals, Regression\n",
        "- Make at least 2 visualizations to explore relationships between features and target. You may use any visualization library\n",
        "- Try at least 3 feature combinations. You may select features manually, or automatically\n",
        "- Report validation MAE and $R^2$ for each feature combination you try\n",
        "- Report test MAE and $R^2$ for your final model\n",
        "- Print or plot the coefficients for the features in your model"
      ]
    },
    {
      "cell_type": "code",
      "metadata": {
        "colab_type": "code",
        "id": "BxoFSeX5OX5k",
        "colab": {
          "base_uri": "https://localhost:8080/",
          "height": 1000
        },
        "outputId": "785724a0-7338-4a20-e642-f69dc4b436dd"
      },
      "source": [
        "# If you're in Colab...\n",
        "import sys\n",
        "if 'google.colab' in sys.modules:\n",
        "    !pip install category_encoders==2.*\n",
        "    !pip install pandas-profiling==2.*\n",
        "    !pip install plotly==4.*"
      ],
      "execution_count": 2,
      "outputs": [
        {
          "output_type": "stream",
          "text": [
            "Collecting category_encoders==2.*\n",
            "\u001b[?25l  Downloading https://files.pythonhosted.org/packages/a0/52/c54191ad3782de633ea3d6ee3bb2837bda0cf3bc97644bb6375cf14150a0/category_encoders-2.1.0-py2.py3-none-any.whl (100kB)\n",
            "\r\u001b[K     |███▎                            | 10kB 14.1MB/s eta 0:00:01\r\u001b[K     |██████▌                         | 20kB 1.7MB/s eta 0:00:01\r\u001b[K     |█████████▉                      | 30kB 2.6MB/s eta 0:00:01\r\u001b[K     |█████████████                   | 40kB 1.7MB/s eta 0:00:01\r\u001b[K     |████████████████▍               | 51kB 2.1MB/s eta 0:00:01\r\u001b[K     |███████████████████▋            | 61kB 2.5MB/s eta 0:00:01\r\u001b[K     |██████████████████████▉         | 71kB 2.9MB/s eta 0:00:01\r\u001b[K     |██████████████████████████▏     | 81kB 3.3MB/s eta 0:00:01\r\u001b[K     |█████████████████████████████▍  | 92kB 3.6MB/s eta 0:00:01\r\u001b[K     |████████████████████████████████| 102kB 2.3MB/s \n",
            "\u001b[?25hRequirement already satisfied: scikit-learn>=0.20.0 in /usr/local/lib/python3.6/dist-packages (from category_encoders==2.*) (0.22.1)\n",
            "Requirement already satisfied: pandas>=0.21.1 in /usr/local/lib/python3.6/dist-packages (from category_encoders==2.*) (0.25.3)\n",
            "Requirement already satisfied: statsmodels>=0.6.1 in /usr/local/lib/python3.6/dist-packages (from category_encoders==2.*) (0.10.2)\n",
            "Requirement already satisfied: numpy>=1.11.3 in /usr/local/lib/python3.6/dist-packages (from category_encoders==2.*) (1.17.5)\n",
            "Requirement already satisfied: patsy>=0.4.1 in /usr/local/lib/python3.6/dist-packages (from category_encoders==2.*) (0.5.1)\n",
            "Requirement already satisfied: scipy>=0.19.0 in /usr/local/lib/python3.6/dist-packages (from category_encoders==2.*) (1.4.1)\n",
            "Requirement already satisfied: joblib>=0.11 in /usr/local/lib/python3.6/dist-packages (from scikit-learn>=0.20.0->category_encoders==2.*) (0.14.1)\n",
            "Requirement already satisfied: pytz>=2017.2 in /usr/local/lib/python3.6/dist-packages (from pandas>=0.21.1->category_encoders==2.*) (2018.9)\n",
            "Requirement already satisfied: python-dateutil>=2.6.1 in /usr/local/lib/python3.6/dist-packages (from pandas>=0.21.1->category_encoders==2.*) (2.6.1)\n",
            "Requirement already satisfied: six in /usr/local/lib/python3.6/dist-packages (from patsy>=0.4.1->category_encoders==2.*) (1.12.0)\n",
            "Installing collected packages: category-encoders\n",
            "Successfully installed category-encoders-2.1.0\n",
            "Collecting pandas-profiling==2.*\n",
            "\u001b[?25l  Downloading https://files.pythonhosted.org/packages/e8/b0/bd5e3aaf37302fbe581b6947dc5ec1cda02a0ffe50fc823123def73e4d7a/pandas-profiling-2.5.0.tar.gz (192kB)\n",
            "\u001b[K     |████████████████████████████████| 194kB 2.7MB/s \n",
            "\u001b[?25hRequirement already satisfied: numpy>=1.16.0 in /usr/local/lib/python3.6/dist-packages (from pandas-profiling==2.*) (1.17.5)\n",
            "Requirement already satisfied: scipy>=1.4.1 in /usr/local/lib/python3.6/dist-packages (from pandas-profiling==2.*) (1.4.1)\n",
            "Requirement already satisfied: pandas==0.25.3 in /usr/local/lib/python3.6/dist-packages (from pandas-profiling==2.*) (0.25.3)\n",
            "Requirement already satisfied: matplotlib>=3.0.3 in /usr/local/lib/python3.6/dist-packages (from pandas-profiling==2.*) (3.1.3)\n",
            "Collecting confuse==1.0.0\n",
            "  Downloading https://files.pythonhosted.org/packages/4c/6f/90e860cba937c174d8b3775729ccc6377eb91f52ad4eeb008e7252a3646d/confuse-1.0.0.tar.gz\n",
            "Requirement already satisfied: jinja2==2.11.1 in /usr/local/lib/python3.6/dist-packages (from pandas-profiling==2.*) (2.11.1)\n",
            "Collecting visions==0.2.2\n",
            "  Downloading https://files.pythonhosted.org/packages/07/4a/ab37f8bafda516b66c4f475b221a6c170097c0db203750a4aafb01023339/visions-0.2.2.tar.gz\n",
            "Collecting htmlmin==0.1.12\n",
            "  Downloading https://files.pythonhosted.org/packages/b3/e7/fcd59e12169de19f0131ff2812077f964c6b960e7c09804d30a7bf2ab461/htmlmin-0.1.12.tar.gz\n",
            "Requirement already satisfied: missingno==0.4.2 in /usr/local/lib/python3.6/dist-packages (from pandas-profiling==2.*) (0.4.2)\n",
            "Collecting phik==0.9.9\n",
            "\u001b[?25l  Downloading https://files.pythonhosted.org/packages/03/cf/b8cef2778104dc5d319f36dd836efaceb07a037cbf63f27c966b5a193ce9/phik-0.9.9-py3-none-any.whl (607kB)\n",
            "\u001b[K     |████████████████████████████████| 614kB 42.6MB/s \n",
            "\u001b[?25hRequirement already satisfied: astropy>=3.2.3 in /usr/local/lib/python3.6/dist-packages (from pandas-profiling==2.*) (4.0)\n",
            "Collecting tangled-up-in-unicode==0.0.3\n",
            "\u001b[?25l  Downloading https://files.pythonhosted.org/packages/43/fc/e3c970c5007b405827a4623e70fc4eb966ee49bc1edbd56c33e85e1c6534/tangled_up_in_unicode-0.0.3.tar.gz (1.5MB)\n",
            "\u001b[K     |████████████████████████████████| 1.5MB 43.4MB/s \n",
            "\u001b[?25hCollecting tqdm==4.42.0\n",
            "\u001b[?25l  Downloading https://files.pythonhosted.org/packages/cc/2e/4307206db63f05ed37e21d4c0d843d0fbcacd62479f8ce99ba0f2c0875e0/tqdm-4.42.0-py2.py3-none-any.whl (59kB)\n",
            "\u001b[K     |████████████████████████████████| 61kB 7.9MB/s \n",
            "\u001b[?25hRequirement already satisfied: kaggle==1.5.6 in /usr/local/lib/python3.6/dist-packages (from pandas-profiling==2.*) (1.5.6)\n",
            "Requirement already satisfied: ipywidgets==7.5.1 in /usr/local/lib/python3.6/dist-packages (from pandas-profiling==2.*) (7.5.1)\n",
            "Collecting requests==2.22.0\n",
            "\u001b[?25l  Downloading https://files.pythonhosted.org/packages/51/bd/23c926cd341ea6b7dd0b2a00aba99ae0f828be89d72b2190f27c11d4b7fb/requests-2.22.0-py2.py3-none-any.whl (57kB)\n",
            "\u001b[K     |████████████████████████████████| 61kB 7.3MB/s \n",
            "\u001b[?25hRequirement already satisfied: python-dateutil>=2.6.1 in /usr/local/lib/python3.6/dist-packages (from pandas==0.25.3->pandas-profiling==2.*) (2.6.1)\n",
            "Requirement already satisfied: pytz>=2017.2 in /usr/local/lib/python3.6/dist-packages (from pandas==0.25.3->pandas-profiling==2.*) (2018.9)\n",
            "Requirement already satisfied: kiwisolver>=1.0.1 in /usr/local/lib/python3.6/dist-packages (from matplotlib>=3.0.3->pandas-profiling==2.*) (1.1.0)\n",
            "Requirement already satisfied: cycler>=0.10 in /usr/local/lib/python3.6/dist-packages (from matplotlib>=3.0.3->pandas-profiling==2.*) (0.10.0)\n",
            "Requirement already satisfied: pyparsing!=2.0.4,!=2.1.2,!=2.1.6,>=2.0.1 in /usr/local/lib/python3.6/dist-packages (from matplotlib>=3.0.3->pandas-profiling==2.*) (2.4.6)\n",
            "Requirement already satisfied: pyyaml in /usr/local/lib/python3.6/dist-packages (from confuse==1.0.0->pandas-profiling==2.*) (3.13)\n",
            "Requirement already satisfied: MarkupSafe>=0.23 in /usr/local/lib/python3.6/dist-packages (from jinja2==2.11.1->pandas-profiling==2.*) (1.1.1)\n",
            "Requirement already satisfied: networkx in /usr/local/lib/python3.6/dist-packages (from visions==0.2.2->pandas-profiling==2.*) (2.4)\n",
            "Collecting attr\n",
            "  Downloading https://files.pythonhosted.org/packages/de/be/ddc7f84d4e087144472a38a373d3e319f51a6faf6e5fc1ae897173675f21/attr-0.3.1.tar.gz\n",
            "Requirement already satisfied: seaborn in /usr/local/lib/python3.6/dist-packages (from missingno==0.4.2->pandas-profiling==2.*) (0.10.0)\n",
            "Requirement already satisfied: joblib>=0.14.1 in /usr/local/lib/python3.6/dist-packages (from phik==0.9.9->pandas-profiling==2.*) (0.14.1)\n",
            "Requirement already satisfied: nbconvert>=5.3.1 in /usr/local/lib/python3.6/dist-packages (from phik==0.9.9->pandas-profiling==2.*) (5.6.1)\n",
            "Requirement already satisfied: numba>=0.38.1 in /usr/local/lib/python3.6/dist-packages (from phik==0.9.9->pandas-profiling==2.*) (0.47.0)\n",
            "Requirement already satisfied: jupyter-client>=5.2.3 in /usr/local/lib/python3.6/dist-packages (from phik==0.9.9->pandas-profiling==2.*) (5.3.4)\n",
            "Collecting pytest>=4.0.2\n",
            "\u001b[?25l  Downloading https://files.pythonhosted.org/packages/a5/c0/34033b2df7718b91c667bd259d5ce632ec3720198b7068c0ba6f6104ff89/pytest-5.3.5-py3-none-any.whl (235kB)\n",
            "\u001b[K     |████████████████████████████████| 235kB 48.8MB/s \n",
            "\u001b[?25hCollecting pytest-pylint>=0.13.0\n",
            "  Downloading https://files.pythonhosted.org/packages/0f/2e/12d3e83e90341fc7aff0e42955ab560df4e7f07b847f98302e23eba96289/pytest_pylint-0.15.0-py3-none-any.whl\n",
            "Requirement already satisfied: certifi in /usr/local/lib/python3.6/dist-packages (from kaggle==1.5.6->pandas-profiling==2.*) (2019.11.28)\n",
            "Requirement already satisfied: python-slugify in /usr/local/lib/python3.6/dist-packages (from kaggle==1.5.6->pandas-profiling==2.*) (4.0.0)\n",
            "Requirement already satisfied: urllib3<1.25,>=1.21.1 in /usr/local/lib/python3.6/dist-packages (from kaggle==1.5.6->pandas-profiling==2.*) (1.24.3)\n",
            "Requirement already satisfied: six>=1.10 in /usr/local/lib/python3.6/dist-packages (from kaggle==1.5.6->pandas-profiling==2.*) (1.12.0)\n",
            "Requirement already satisfied: nbformat>=4.2.0 in /usr/local/lib/python3.6/dist-packages (from ipywidgets==7.5.1->pandas-profiling==2.*) (5.0.4)\n",
            "Requirement already satisfied: ipykernel>=4.5.1 in /usr/local/lib/python3.6/dist-packages (from ipywidgets==7.5.1->pandas-profiling==2.*) (4.6.1)\n",
            "Requirement already satisfied: widgetsnbextension~=3.5.0 in /usr/local/lib/python3.6/dist-packages (from ipywidgets==7.5.1->pandas-profiling==2.*) (3.5.1)\n",
            "Requirement already satisfied: traitlets>=4.3.1 in /usr/local/lib/python3.6/dist-packages (from ipywidgets==7.5.1->pandas-profiling==2.*) (4.3.3)\n",
            "Requirement already satisfied: ipython>=4.0.0; python_version >= \"3.3\" in /usr/local/lib/python3.6/dist-packages (from ipywidgets==7.5.1->pandas-profiling==2.*) (5.5.0)\n",
            "Requirement already satisfied: chardet<3.1.0,>=3.0.2 in /usr/local/lib/python3.6/dist-packages (from requests==2.22.0->pandas-profiling==2.*) (3.0.4)\n",
            "Requirement already satisfied: idna<2.9,>=2.5 in /usr/local/lib/python3.6/dist-packages (from requests==2.22.0->pandas-profiling==2.*) (2.8)\n",
            "Requirement already satisfied: setuptools in /usr/local/lib/python3.6/dist-packages (from kiwisolver>=1.0.1->matplotlib>=3.0.3->pandas-profiling==2.*) (45.1.0)\n",
            "Requirement already satisfied: decorator>=4.3.0 in /usr/local/lib/python3.6/dist-packages (from networkx->visions==0.2.2->pandas-profiling==2.*) (4.4.1)\n",
            "Requirement already satisfied: pygments in /usr/local/lib/python3.6/dist-packages (from nbconvert>=5.3.1->phik==0.9.9->pandas-profiling==2.*) (2.1.3)\n",
            "Requirement already satisfied: pandocfilters>=1.4.1 in /usr/local/lib/python3.6/dist-packages (from nbconvert>=5.3.1->phik==0.9.9->pandas-profiling==2.*) (1.4.2)\n",
            "Requirement already satisfied: mistune<2,>=0.8.1 in /usr/local/lib/python3.6/dist-packages (from nbconvert>=5.3.1->phik==0.9.9->pandas-profiling==2.*) (0.8.4)\n",
            "Requirement already satisfied: entrypoints>=0.2.2 in /usr/local/lib/python3.6/dist-packages (from nbconvert>=5.3.1->phik==0.9.9->pandas-profiling==2.*) (0.3)\n",
            "Requirement already satisfied: defusedxml in /usr/local/lib/python3.6/dist-packages (from nbconvert>=5.3.1->phik==0.9.9->pandas-profiling==2.*) (0.6.0)\n",
            "Requirement already satisfied: testpath in /usr/local/lib/python3.6/dist-packages (from nbconvert>=5.3.1->phik==0.9.9->pandas-profiling==2.*) (0.4.4)\n",
            "Requirement already satisfied: bleach in /usr/local/lib/python3.6/dist-packages (from nbconvert>=5.3.1->phik==0.9.9->pandas-profiling==2.*) (3.1.0)\n",
            "Requirement already satisfied: jupyter-core in /usr/local/lib/python3.6/dist-packages (from nbconvert>=5.3.1->phik==0.9.9->pandas-profiling==2.*) (4.6.2)\n",
            "Requirement already satisfied: llvmlite>=0.31.0dev0 in /usr/local/lib/python3.6/dist-packages (from numba>=0.38.1->phik==0.9.9->pandas-profiling==2.*) (0.31.0)\n",
            "Requirement already satisfied: pyzmq>=13 in /usr/local/lib/python3.6/dist-packages (from jupyter-client>=5.2.3->phik==0.9.9->pandas-profiling==2.*) (17.0.0)\n",
            "Requirement already satisfied: tornado>=4.1 in /usr/local/lib/python3.6/dist-packages (from jupyter-client>=5.2.3->phik==0.9.9->pandas-profiling==2.*) (4.5.3)\n",
            "Requirement already satisfied: more-itertools>=4.0.0 in /usr/local/lib/python3.6/dist-packages (from pytest>=4.0.2->phik==0.9.9->pandas-profiling==2.*) (8.2.0)\n",
            "Collecting pluggy<1.0,>=0.12\n",
            "  Downloading https://files.pythonhosted.org/packages/a0/28/85c7aa31b80d150b772fbe4a229487bc6644da9ccb7e427dd8cc60cb8a62/pluggy-0.13.1-py2.py3-none-any.whl\n",
            "Requirement already satisfied: packaging in /usr/local/lib/python3.6/dist-packages (from pytest>=4.0.2->phik==0.9.9->pandas-profiling==2.*) (20.1)\n",
            "Requirement already satisfied: wcwidth in /usr/local/lib/python3.6/dist-packages (from pytest>=4.0.2->phik==0.9.9->pandas-profiling==2.*) (0.1.8)\n",
            "Requirement already satisfied: py>=1.5.0 in /usr/local/lib/python3.6/dist-packages (from pytest>=4.0.2->phik==0.9.9->pandas-profiling==2.*) (1.8.1)\n",
            "Requirement already satisfied: importlib-metadata>=0.12; python_version < \"3.8\" in /usr/local/lib/python3.6/dist-packages (from pytest>=4.0.2->phik==0.9.9->pandas-profiling==2.*) (1.5.0)\n",
            "Requirement already satisfied: attrs>=17.4.0 in /usr/local/lib/python3.6/dist-packages (from pytest>=4.0.2->phik==0.9.9->pandas-profiling==2.*) (19.3.0)\n",
            "Collecting pylint>=2.0.0\n",
            "\u001b[?25l  Downloading https://files.pythonhosted.org/packages/e9/59/43fc36c5ee316bb9aeb7cf5329cdbdca89e5749c34d5602753827c0aa2dc/pylint-2.4.4-py3-none-any.whl (302kB)\n",
            "\u001b[K     |████████████████████████████████| 307kB 38.3MB/s \n",
            "\u001b[?25hRequirement already satisfied: text-unidecode>=1.3 in /usr/local/lib/python3.6/dist-packages (from python-slugify->kaggle==1.5.6->pandas-profiling==2.*) (1.3)\n",
            "Requirement already satisfied: ipython-genutils in /usr/local/lib/python3.6/dist-packages (from nbformat>=4.2.0->ipywidgets==7.5.1->pandas-profiling==2.*) (0.2.0)\n",
            "Requirement already satisfied: jsonschema!=2.5.0,>=2.4 in /usr/local/lib/python3.6/dist-packages (from nbformat>=4.2.0->ipywidgets==7.5.1->pandas-profiling==2.*) (2.6.0)\n",
            "Requirement already satisfied: notebook>=4.4.1 in /usr/local/lib/python3.6/dist-packages (from widgetsnbextension~=3.5.0->ipywidgets==7.5.1->pandas-profiling==2.*) (5.2.2)\n",
            "Requirement already satisfied: prompt-toolkit<2.0.0,>=1.0.4 in /usr/local/lib/python3.6/dist-packages (from ipython>=4.0.0; python_version >= \"3.3\"->ipywidgets==7.5.1->pandas-profiling==2.*) (1.0.18)\n",
            "Requirement already satisfied: pexpect; sys_platform != \"win32\" in /usr/local/lib/python3.6/dist-packages (from ipython>=4.0.0; python_version >= \"3.3\"->ipywidgets==7.5.1->pandas-profiling==2.*) (4.8.0)\n",
            "Requirement already satisfied: simplegeneric>0.8 in /usr/local/lib/python3.6/dist-packages (from ipython>=4.0.0; python_version >= \"3.3\"->ipywidgets==7.5.1->pandas-profiling==2.*) (0.8.1)\n",
            "Requirement already satisfied: pickleshare in /usr/local/lib/python3.6/dist-packages (from ipython>=4.0.0; python_version >= \"3.3\"->ipywidgets==7.5.1->pandas-profiling==2.*) (0.7.5)\n",
            "Requirement already satisfied: webencodings in /usr/local/lib/python3.6/dist-packages (from bleach->nbconvert>=5.3.1->phik==0.9.9->pandas-profiling==2.*) (0.5.1)\n",
            "Requirement already satisfied: zipp>=0.5 in /usr/local/lib/python3.6/dist-packages (from importlib-metadata>=0.12; python_version < \"3.8\"->pytest>=4.0.2->phik==0.9.9->pandas-profiling==2.*) (2.2.0)\n",
            "Collecting mccabe<0.7,>=0.6\n",
            "  Downloading https://files.pythonhosted.org/packages/87/89/479dc97e18549e21354893e4ee4ef36db1d237534982482c3681ee6e7b57/mccabe-0.6.1-py2.py3-none-any.whl\n",
            "Collecting astroid<2.4,>=2.3.0\n",
            "\u001b[?25l  Downloading https://files.pythonhosted.org/packages/ad/ae/86734823047962e7b8c8529186a1ac4a7ca19aaf1aa0c7713c022ef593fd/astroid-2.3.3-py3-none-any.whl (205kB)\n",
            "\u001b[K     |████████████████████████████████| 215kB 41.3MB/s \n",
            "\u001b[?25hCollecting isort<5,>=4.2.5\n",
            "\u001b[?25l  Downloading https://files.pythonhosted.org/packages/e5/b0/c121fd1fa3419ea9bfd55c7f9c4fedfec5143208d8c7ad3ce3db6c623c21/isort-4.3.21-py2.py3-none-any.whl (42kB)\n",
            "\u001b[K     |████████████████████████████████| 51kB 6.4MB/s \n",
            "\u001b[?25hRequirement already satisfied: terminado>=0.3.3; sys_platform != \"win32\" in /usr/local/lib/python3.6/dist-packages (from notebook>=4.4.1->widgetsnbextension~=3.5.0->ipywidgets==7.5.1->pandas-profiling==2.*) (0.8.3)\n",
            "Requirement already satisfied: ptyprocess>=0.5 in /usr/local/lib/python3.6/dist-packages (from pexpect; sys_platform != \"win32\"->ipython>=4.0.0; python_version >= \"3.3\"->ipywidgets==7.5.1->pandas-profiling==2.*) (0.6.0)\n",
            "Collecting lazy-object-proxy==1.4.*\n",
            "\u001b[?25l  Downloading https://files.pythonhosted.org/packages/0b/dd/b1e3407e9e6913cf178e506cd0dee818e58694d9a5cd1984e3f6a8b9a10f/lazy_object_proxy-1.4.3-cp36-cp36m-manylinux1_x86_64.whl (55kB)\n",
            "\u001b[K     |████████████████████████████████| 61kB 7.6MB/s \n",
            "\u001b[?25hCollecting typed-ast<1.5,>=1.4.0; implementation_name == \"cpython\" and python_version < \"3.8\"\n",
            "\u001b[?25l  Downloading https://files.pythonhosted.org/packages/90/ed/5459080d95eb87a02fe860d447197be63b6e2b5e9ff73c2b0a85622994f4/typed_ast-1.4.1-cp36-cp36m-manylinux1_x86_64.whl (737kB)\n",
            "\u001b[K     |████████████████████████████████| 747kB 51.1MB/s \n",
            "\u001b[?25hRequirement already satisfied: wrapt==1.11.* in /usr/local/lib/python3.6/dist-packages (from astroid<2.4,>=2.3.0->pylint>=2.0.0->pytest-pylint>=0.13.0->phik==0.9.9->pandas-profiling==2.*) (1.11.2)\n",
            "Building wheels for collected packages: pandas-profiling, confuse, visions, htmlmin, tangled-up-in-unicode, attr\n",
            "  Building wheel for pandas-profiling (setup.py) ... \u001b[?25l\u001b[?25hdone\n",
            "  Created wheel for pandas-profiling: filename=pandas_profiling-2.5.0-py2.py3-none-any.whl size=241329 sha256=5fcd228ded5f6645ff8b23fb76dc5579c3751e97d927ac12810297f02282b81c\n",
            "  Stored in directory: /root/.cache/pip/wheels/9b/c9/f1/4a2f30c760e017f3e2f46be999c4597a93d126ef5ea38e276f\n",
            "  Building wheel for confuse (setup.py) ... \u001b[?25l\u001b[?25hdone\n",
            "  Created wheel for confuse: filename=confuse-1.0.0-cp36-none-any.whl size=17487 sha256=c91cbb7e3a131566d22b27a4d8592299f37fd6c021fd94547a818c5ca1b7229b\n",
            "  Stored in directory: /root/.cache/pip/wheels/b0/b2/96/2074eee7dbf7b7df69d004c9b6ac4e32dad04fb7666cf943bd\n",
            "  Building wheel for visions (setup.py) ... \u001b[?25l\u001b[?25hdone\n",
            "  Created wheel for visions: filename=visions-0.2.2-cp36-none-any.whl size=53058 sha256=3b023c6fc066118911c574643d128e833714e92dcbfae7fffc527b82df252ba8\n",
            "  Stored in directory: /root/.cache/pip/wheels/53/87/68/294a9e88d82e395b38571df18f7cb71e9ab51cedae77dd6f31\n",
            "  Building wheel for htmlmin (setup.py) ... \u001b[?25l\u001b[?25hdone\n",
            "  Created wheel for htmlmin: filename=htmlmin-0.1.12-cp36-none-any.whl size=27084 sha256=1cd95b3ab29588b8f883686458af890eb682fe3951c3c1f2df1db960151eda0b\n",
            "  Stored in directory: /root/.cache/pip/wheels/43/07/ac/7c5a9d708d65247ac1f94066cf1db075540b85716c30255459\n",
            "  Building wheel for tangled-up-in-unicode (setup.py) ... \u001b[?25l\u001b[?25hdone\n",
            "  Created wheel for tangled-up-in-unicode: filename=tangled_up_in_unicode-0.0.3-cp36-none-any.whl size=1554154 sha256=79729297a7a025197a1dbd08bb86748eb9352dc3678fe8d91b2dad6329f86567\n",
            "  Stored in directory: /root/.cache/pip/wheels/c4/57/cc/5f58206efb00418d4dcae8d08a3cb40627778ea29622f664c6\n",
            "  Building wheel for attr (setup.py) ... \u001b[?25l\u001b[?25hdone\n",
            "  Created wheel for attr: filename=attr-0.3.1-cp36-none-any.whl size=2459 sha256=628f1b4c0739183653e72330915559b9bcf730c5c75b4940ddbcf2f0a80931d4\n",
            "  Stored in directory: /root/.cache/pip/wheels/f0/96/9b/1f8892a707d17095b5a6eab0275da9d39e68e03a26aee2e726\n",
            "Successfully built pandas-profiling confuse visions htmlmin tangled-up-in-unicode attr\n",
            "\u001b[31mERROR: google-colab 1.0.0 has requirement requests~=2.21.0, but you'll have requests 2.22.0 which is incompatible.\u001b[0m\n",
            "\u001b[31mERROR: datascience 0.10.6 has requirement folium==0.2.1, but you'll have folium 0.8.3 which is incompatible.\u001b[0m\n",
            "Installing collected packages: confuse, tangled-up-in-unicode, attr, visions, htmlmin, pluggy, pytest, mccabe, lazy-object-proxy, typed-ast, astroid, isort, pylint, pytest-pylint, phik, tqdm, requests, pandas-profiling\n",
            "  Found existing installation: pluggy 0.7.1\n",
            "    Uninstalling pluggy-0.7.1:\n",
            "      Successfully uninstalled pluggy-0.7.1\n",
            "  Found existing installation: pytest 3.6.4\n",
            "    Uninstalling pytest-3.6.4:\n",
            "      Successfully uninstalled pytest-3.6.4\n",
            "  Found existing installation: tqdm 4.28.1\n",
            "    Uninstalling tqdm-4.28.1:\n",
            "      Successfully uninstalled tqdm-4.28.1\n",
            "  Found existing installation: requests 2.21.0\n",
            "    Uninstalling requests-2.21.0:\n",
            "      Successfully uninstalled requests-2.21.0\n",
            "  Found existing installation: pandas-profiling 1.4.1\n",
            "    Uninstalling pandas-profiling-1.4.1:\n",
            "      Successfully uninstalled pandas-profiling-1.4.1\n",
            "Successfully installed astroid-2.3.3 attr-0.3.1 confuse-1.0.0 htmlmin-0.1.12 isort-4.3.21 lazy-object-proxy-1.4.3 mccabe-0.6.1 pandas-profiling-2.5.0 phik-0.9.9 pluggy-0.13.1 pylint-2.4.4 pytest-5.3.5 pytest-pylint-0.15.0 requests-2.22.0 tangled-up-in-unicode-0.0.3 tqdm-4.42.0 typed-ast-1.4.1 visions-0.2.2\n"
          ],
          "name": "stdout"
        },
        {
          "output_type": "display_data",
          "data": {
            "application/vnd.colab-display-data+json": {
              "pip_warning": {
                "packages": [
                  "requests",
                  "tqdm"
                ]
              }
            }
          },
          "metadata": {
            "tags": []
          }
        },
        {
          "output_type": "stream",
          "text": [
            "Requirement already satisfied: plotly==4.* in /usr/local/lib/python3.6/dist-packages (4.4.1)\n",
            "Requirement already satisfied: six in /usr/local/lib/python3.6/dist-packages (from plotly==4.*) (1.12.0)\n",
            "Requirement already satisfied: retrying>=1.3.3 in /usr/local/lib/python3.6/dist-packages (from plotly==4.*) (1.3.3)\n"
          ],
          "name": "stdout"
        }
      ]
    },
    {
      "cell_type": "markdown",
      "metadata": {
        "colab_type": "text",
        "id": "Q7u1KtsnOi78"
      },
      "source": [
        "# Part 1, Classification: Predict Blood Donations 🚑\n",
        "Our dataset is from a mobile blood donation vehicle in Taiwan. The Blood Transfusion Service Center drives to different universities and collects blood as part of a blood drive.\n",
        "\n",
        "The goal is to predict whether the donor made a donation in March 2007, using information about each donor's history.\n",
        "\n",
        "Good data-driven systems for tracking and predicting donations and supply needs can improve the entire supply chain, making sure that more patients get the blood transfusions they need."
      ]
    },
    {
      "cell_type": "code",
      "metadata": {
        "colab_type": "code",
        "id": "gJzpgv-fO4rh",
        "colab": {}
      },
      "source": [
        "import pandas as pd\n",
        "\n",
        "donors = pd.read_csv('https://archive.ics.uci.edu/ml/machine-learning-databases/blood-transfusion/transfusion.data')\n",
        "assert donors.shape == (748,5)\n",
        "\n",
        "donors = donors.rename(columns={\n",
        "    'Recency (months)': 'months_since_last_donation', \n",
        "    'Frequency (times)': 'number_of_donations', \n",
        "    'Monetary (c.c. blood)': 'total_volume_donated', \n",
        "    'Time (months)': 'months_since_first_donation', \n",
        "    'whether he/she donated blood in March 2007': 'made_donation_in_march_2007'\n",
        "})"
      ],
      "execution_count": 0,
      "outputs": []
    },
    {
      "cell_type": "markdown",
      "metadata": {
        "colab_type": "text",
        "id": "oU4oE0LJMG7X"
      },
      "source": [
        "Notice that the majority class (did not donate blood in March 2007) occurs about 3/4 of the time. \n",
        "\n",
        "This is the accuracy score for the \"majority class baseline\" (the accuracy score we'd get by just guessing the majority class every time)."
      ]
    },
    {
      "cell_type": "code",
      "metadata": {
        "colab_type": "code",
        "id": "TgRp5slvLzJs",
        "outputId": "8098c1d1-c754-4865-d271-123aea8dc3f0",
        "colab": {
          "base_uri": "https://localhost:8080/",
          "height": 68
        }
      },
      "source": [
        "donors['made_donation_in_march_2007'].value_counts(normalize=True)"
      ],
      "execution_count": 4,
      "outputs": [
        {
          "output_type": "execute_result",
          "data": {
            "text/plain": [
              "0    0.762032\n",
              "1    0.237968\n",
              "Name: made_donation_in_march_2007, dtype: float64"
            ]
          },
          "metadata": {
            "tags": []
          },
          "execution_count": 4
        }
      ]
    },
    {
      "cell_type": "markdown",
      "metadata": {
        "colab_type": "text",
        "id": "P66Fpcq1PYZl"
      },
      "source": [
        "## 1.1. Do train/test split. Arrange data into X features matrix and y target vector\n",
        "\n",
        "Do these steps in either order.\n",
        "\n",
        "Use scikit-learn's train/test split function to split randomly. (You can include 75% of the data in the train set, and hold out 25% for the test set, which is the default.)"
      ]
    },
    {
      "cell_type": "code",
      "metadata": {
        "id": "gTzLwIrYdvSW",
        "colab_type": "code",
        "outputId": "87a63fbb-3a5b-4703-8792-30bea3a899fa",
        "colab": {
          "base_uri": "https://localhost:8080/",
          "height": 204
        }
      },
      "source": [
        "# Data exploration\n",
        "donors.head()"
      ],
      "execution_count": 5,
      "outputs": [
        {
          "output_type": "execute_result",
          "data": {
            "text/html": [
              "<div>\n",
              "<style scoped>\n",
              "    .dataframe tbody tr th:only-of-type {\n",
              "        vertical-align: middle;\n",
              "    }\n",
              "\n",
              "    .dataframe tbody tr th {\n",
              "        vertical-align: top;\n",
              "    }\n",
              "\n",
              "    .dataframe thead th {\n",
              "        text-align: right;\n",
              "    }\n",
              "</style>\n",
              "<table border=\"1\" class=\"dataframe\">\n",
              "  <thead>\n",
              "    <tr style=\"text-align: right;\">\n",
              "      <th></th>\n",
              "      <th>months_since_last_donation</th>\n",
              "      <th>number_of_donations</th>\n",
              "      <th>total_volume_donated</th>\n",
              "      <th>months_since_first_donation</th>\n",
              "      <th>made_donation_in_march_2007</th>\n",
              "    </tr>\n",
              "  </thead>\n",
              "  <tbody>\n",
              "    <tr>\n",
              "      <th>0</th>\n",
              "      <td>2</td>\n",
              "      <td>50</td>\n",
              "      <td>12500</td>\n",
              "      <td>98</td>\n",
              "      <td>1</td>\n",
              "    </tr>\n",
              "    <tr>\n",
              "      <th>1</th>\n",
              "      <td>0</td>\n",
              "      <td>13</td>\n",
              "      <td>3250</td>\n",
              "      <td>28</td>\n",
              "      <td>1</td>\n",
              "    </tr>\n",
              "    <tr>\n",
              "      <th>2</th>\n",
              "      <td>1</td>\n",
              "      <td>16</td>\n",
              "      <td>4000</td>\n",
              "      <td>35</td>\n",
              "      <td>1</td>\n",
              "    </tr>\n",
              "    <tr>\n",
              "      <th>3</th>\n",
              "      <td>2</td>\n",
              "      <td>20</td>\n",
              "      <td>5000</td>\n",
              "      <td>45</td>\n",
              "      <td>1</td>\n",
              "    </tr>\n",
              "    <tr>\n",
              "      <th>4</th>\n",
              "      <td>1</td>\n",
              "      <td>24</td>\n",
              "      <td>6000</td>\n",
              "      <td>77</td>\n",
              "      <td>0</td>\n",
              "    </tr>\n",
              "  </tbody>\n",
              "</table>\n",
              "</div>"
            ],
            "text/plain": [
              "   months_since_last_donation  ...  made_donation_in_march_2007\n",
              "0                           2  ...                            1\n",
              "1                           0  ...                            1\n",
              "2                           1  ...                            1\n",
              "3                           2  ...                            1\n",
              "4                           1  ...                            0\n",
              "\n",
              "[5 rows x 5 columns]"
            ]
          },
          "metadata": {
            "tags": []
          },
          "execution_count": 5
        }
      ]
    },
    {
      "cell_type": "code",
      "metadata": {
        "colab_type": "code",
        "id": "InhicZeZPX8L",
        "outputId": "6274e169-b6c3-4c46-ec5f-978d510ed57c",
        "colab": {
          "base_uri": "https://localhost:8080/",
          "height": 297
        }
      },
      "source": [
        "# Data exploration\n",
        "donors.describe()"
      ],
      "execution_count": 6,
      "outputs": [
        {
          "output_type": "execute_result",
          "data": {
            "text/html": [
              "<div>\n",
              "<style scoped>\n",
              "    .dataframe tbody tr th:only-of-type {\n",
              "        vertical-align: middle;\n",
              "    }\n",
              "\n",
              "    .dataframe tbody tr th {\n",
              "        vertical-align: top;\n",
              "    }\n",
              "\n",
              "    .dataframe thead th {\n",
              "        text-align: right;\n",
              "    }\n",
              "</style>\n",
              "<table border=\"1\" class=\"dataframe\">\n",
              "  <thead>\n",
              "    <tr style=\"text-align: right;\">\n",
              "      <th></th>\n",
              "      <th>months_since_last_donation</th>\n",
              "      <th>number_of_donations</th>\n",
              "      <th>total_volume_donated</th>\n",
              "      <th>months_since_first_donation</th>\n",
              "      <th>made_donation_in_march_2007</th>\n",
              "    </tr>\n",
              "  </thead>\n",
              "  <tbody>\n",
              "    <tr>\n",
              "      <th>count</th>\n",
              "      <td>748.000000</td>\n",
              "      <td>748.000000</td>\n",
              "      <td>748.000000</td>\n",
              "      <td>748.000000</td>\n",
              "      <td>748.000000</td>\n",
              "    </tr>\n",
              "    <tr>\n",
              "      <th>mean</th>\n",
              "      <td>9.506684</td>\n",
              "      <td>5.514706</td>\n",
              "      <td>1378.676471</td>\n",
              "      <td>34.282086</td>\n",
              "      <td>0.237968</td>\n",
              "    </tr>\n",
              "    <tr>\n",
              "      <th>std</th>\n",
              "      <td>8.095396</td>\n",
              "      <td>5.839307</td>\n",
              "      <td>1459.826781</td>\n",
              "      <td>24.376714</td>\n",
              "      <td>0.426124</td>\n",
              "    </tr>\n",
              "    <tr>\n",
              "      <th>min</th>\n",
              "      <td>0.000000</td>\n",
              "      <td>1.000000</td>\n",
              "      <td>250.000000</td>\n",
              "      <td>2.000000</td>\n",
              "      <td>0.000000</td>\n",
              "    </tr>\n",
              "    <tr>\n",
              "      <th>25%</th>\n",
              "      <td>2.750000</td>\n",
              "      <td>2.000000</td>\n",
              "      <td>500.000000</td>\n",
              "      <td>16.000000</td>\n",
              "      <td>0.000000</td>\n",
              "    </tr>\n",
              "    <tr>\n",
              "      <th>50%</th>\n",
              "      <td>7.000000</td>\n",
              "      <td>4.000000</td>\n",
              "      <td>1000.000000</td>\n",
              "      <td>28.000000</td>\n",
              "      <td>0.000000</td>\n",
              "    </tr>\n",
              "    <tr>\n",
              "      <th>75%</th>\n",
              "      <td>14.000000</td>\n",
              "      <td>7.000000</td>\n",
              "      <td>1750.000000</td>\n",
              "      <td>50.000000</td>\n",
              "      <td>0.000000</td>\n",
              "    </tr>\n",
              "    <tr>\n",
              "      <th>max</th>\n",
              "      <td>74.000000</td>\n",
              "      <td>50.000000</td>\n",
              "      <td>12500.000000</td>\n",
              "      <td>98.000000</td>\n",
              "      <td>1.000000</td>\n",
              "    </tr>\n",
              "  </tbody>\n",
              "</table>\n",
              "</div>"
            ],
            "text/plain": [
              "       months_since_last_donation  ...  made_donation_in_march_2007\n",
              "count                  748.000000  ...                   748.000000\n",
              "mean                     9.506684  ...                     0.237968\n",
              "std                      8.095396  ...                     0.426124\n",
              "min                      0.000000  ...                     0.000000\n",
              "25%                      2.750000  ...                     0.000000\n",
              "50%                      7.000000  ...                     0.000000\n",
              "75%                     14.000000  ...                     0.000000\n",
              "max                     74.000000  ...                     1.000000\n",
              "\n",
              "[8 rows x 5 columns]"
            ]
          },
          "metadata": {
            "tags": []
          },
          "execution_count": 6
        }
      ]
    },
    {
      "cell_type": "code",
      "metadata": {
        "id": "qITgnN8Sfogz",
        "colab_type": "code",
        "outputId": "3e615ae2-7670-45cf-dc1c-5c5700f8fa3b",
        "colab": {
          "base_uri": "https://localhost:8080/",
          "height": 119
        }
      },
      "source": [
        "# Data exploration\n",
        "donors.dtypes"
      ],
      "execution_count": 7,
      "outputs": [
        {
          "output_type": "execute_result",
          "data": {
            "text/plain": [
              "months_since_last_donation     int64\n",
              "number_of_donations            int64\n",
              "total_volume_donated           int64\n",
              "months_since_first_donation    int64\n",
              "made_donation_in_march_2007    int64\n",
              "dtype: object"
            ]
          },
          "metadata": {
            "tags": []
          },
          "execution_count": 7
        }
      ]
    },
    {
      "cell_type": "code",
      "metadata": {
        "id": "TrtqyMIsd1BD",
        "colab_type": "code",
        "outputId": "f68deccf-096d-494e-d682-1f104311471b",
        "colab": {
          "base_uri": "https://localhost:8080/",
          "height": 34
        }
      },
      "source": [
        "# Data exploration\n",
        "donors.shape"
      ],
      "execution_count": 8,
      "outputs": [
        {
          "output_type": "execute_result",
          "data": {
            "text/plain": [
              "(748, 5)"
            ]
          },
          "metadata": {
            "tags": []
          },
          "execution_count": 8
        }
      ]
    },
    {
      "cell_type": "code",
      "metadata": {
        "id": "1JUaMdR3d2jB",
        "colab_type": "code",
        "outputId": "839e6a2c-73df-4e04-eb1d-28f5e64976e7",
        "colab": {
          "base_uri": "https://localhost:8080/",
          "height": 34
        }
      },
      "source": [
        "# Train/test split\n",
        "from sklearn.model_selection import train_test_split\n",
        "train, test = train_test_split(donors, random_state=42)\n",
        "train.shape, test.shape"
      ],
      "execution_count": 9,
      "outputs": [
        {
          "output_type": "execute_result",
          "data": {
            "text/plain": [
              "((561, 5), (187, 5))"
            ]
          },
          "metadata": {
            "tags": []
          },
          "execution_count": 9
        }
      ]
    },
    {
      "cell_type": "code",
      "metadata": {
        "id": "DEbJJvEWeedK",
        "colab_type": "code",
        "outputId": "38fba3c2-8561-409f-d708-1bb44652e660",
        "colab": {
          "base_uri": "https://localhost:8080/",
          "height": 34
        }
      },
      "source": [
        "# I know it's going to be 75%, but why not check?\n",
        "train.shape[0]/donors.shape[0]"
      ],
      "execution_count": 12,
      "outputs": [
        {
          "output_type": "execute_result",
          "data": {
            "text/plain": [
              "0.75"
            ]
          },
          "metadata": {
            "tags": []
          },
          "execution_count": 12
        }
      ]
    },
    {
      "cell_type": "code",
      "metadata": {
        "id": "L4HwCbMEe3bV",
        "colab_type": "code",
        "colab": {}
      },
      "source": [
        "# X features and y target matrices\n",
        "target = 'made_donation_in_march_2007'\n",
        "X_train = train.drop(target, axis=1)\n",
        "y_train = train[target]"
      ],
      "execution_count": 0,
      "outputs": []
    },
    {
      "cell_type": "code",
      "metadata": {
        "id": "ksl804Lufv5M",
        "colab_type": "code",
        "outputId": "1d7d89db-6457-4566-baf7-465e01c77b49",
        "colab": {
          "base_uri": "https://localhost:8080/",
          "height": 204
        }
      },
      "source": [
        "X_train.head()"
      ],
      "execution_count": 15,
      "outputs": [
        {
          "output_type": "execute_result",
          "data": {
            "text/html": [
              "<div>\n",
              "<style scoped>\n",
              "    .dataframe tbody tr th:only-of-type {\n",
              "        vertical-align: middle;\n",
              "    }\n",
              "\n",
              "    .dataframe tbody tr th {\n",
              "        vertical-align: top;\n",
              "    }\n",
              "\n",
              "    .dataframe thead th {\n",
              "        text-align: right;\n",
              "    }\n",
              "</style>\n",
              "<table border=\"1\" class=\"dataframe\">\n",
              "  <thead>\n",
              "    <tr style=\"text-align: right;\">\n",
              "      <th></th>\n",
              "      <th>months_since_last_donation</th>\n",
              "      <th>number_of_donations</th>\n",
              "      <th>total_volume_donated</th>\n",
              "      <th>months_since_first_donation</th>\n",
              "    </tr>\n",
              "  </thead>\n",
              "  <tbody>\n",
              "    <tr>\n",
              "      <th>24</th>\n",
              "      <td>9</td>\n",
              "      <td>9</td>\n",
              "      <td>2250</td>\n",
              "      <td>16</td>\n",
              "    </tr>\n",
              "    <tr>\n",
              "      <th>602</th>\n",
              "      <td>9</td>\n",
              "      <td>3</td>\n",
              "      <td>750</td>\n",
              "      <td>14</td>\n",
              "    </tr>\n",
              "    <tr>\n",
              "      <th>399</th>\n",
              "      <td>21</td>\n",
              "      <td>3</td>\n",
              "      <td>750</td>\n",
              "      <td>26</td>\n",
              "    </tr>\n",
              "    <tr>\n",
              "      <th>450</th>\n",
              "      <td>23</td>\n",
              "      <td>3</td>\n",
              "      <td>750</td>\n",
              "      <td>33</td>\n",
              "    </tr>\n",
              "    <tr>\n",
              "      <th>332</th>\n",
              "      <td>16</td>\n",
              "      <td>6</td>\n",
              "      <td>1500</td>\n",
              "      <td>35</td>\n",
              "    </tr>\n",
              "  </tbody>\n",
              "</table>\n",
              "</div>"
            ],
            "text/plain": [
              "     months_since_last_donation  ...  months_since_first_donation\n",
              "24                            9  ...                           16\n",
              "602                           9  ...                           14\n",
              "399                          21  ...                           26\n",
              "450                          23  ...                           33\n",
              "332                          16  ...                           35\n",
              "\n",
              "[5 rows x 4 columns]"
            ]
          },
          "metadata": {
            "tags": []
          },
          "execution_count": 15
        }
      ]
    },
    {
      "cell_type": "code",
      "metadata": {
        "id": "P_sO01qMe487",
        "colab_type": "code",
        "outputId": "21ddb34e-8ae6-472f-f016-de48a43bb661",
        "colab": {
          "base_uri": "https://localhost:8080/",
          "height": 34
        }
      },
      "source": [
        "X_train.shape"
      ],
      "execution_count": 16,
      "outputs": [
        {
          "output_type": "execute_result",
          "data": {
            "text/plain": [
              "(561, 4)"
            ]
          },
          "metadata": {
            "tags": []
          },
          "execution_count": 16
        }
      ]
    },
    {
      "cell_type": "code",
      "metadata": {
        "id": "y0YEq-YTewVq",
        "colab_type": "code",
        "outputId": "765f4cc1-443d-428a-f40c-0e941f6e1b42",
        "colab": {
          "base_uri": "https://localhost:8080/",
          "height": 34
        }
      },
      "source": [
        "type(y_train)"
      ],
      "execution_count": 17,
      "outputs": [
        {
          "output_type": "execute_result",
          "data": {
            "text/plain": [
              "pandas.core.series.Series"
            ]
          },
          "metadata": {
            "tags": []
          },
          "execution_count": 17
        }
      ]
    },
    {
      "cell_type": "markdown",
      "metadata": {
        "colab_type": "text",
        "id": "ln9fqAghRmQT"
      },
      "source": [
        "## 1.2. Use scikit-learn to fit a logistic regression model\n",
        "\n",
        "You may use any number of features\n",
        "\n",
        "The process:\n",
        "1.   Features\n",
        "2.   Impute\n",
        "3.   Scale\n",
        "4.   Fit"
      ]
    },
    {
      "cell_type": "code",
      "metadata": {
        "colab_type": "code",
        "id": "a2jf_deRRl64",
        "colab": {}
      },
      "source": [
        "# Impute\n",
        "import category_encoders as ce\n",
        "from sklearn.impute import SimpleImputer\n",
        "imputer = SimpleImputer()\n",
        "X_train_imputed = imputer.fit_transform(X_train)"
      ],
      "execution_count": 0,
      "outputs": []
    },
    {
      "cell_type": "code",
      "metadata": {
        "id": "C4RtnHLMiodX",
        "colab_type": "code",
        "colab": {}
      },
      "source": [
        "# Scale\n",
        "from sklearn.preprocessing import StandardScaler\n",
        "scaler = StandardScaler()\n",
        "X_train_scaled = scaler.fit_transform(X_train_imputed)"
      ],
      "execution_count": 0,
      "outputs": []
    },
    {
      "cell_type": "code",
      "metadata": {
        "id": "wre7O3HtilUc",
        "colab_type": "code",
        "outputId": "b80be501-ec9c-44ee-c972-8544869b4eaf",
        "colab": {
          "base_uri": "https://localhost:8080/",
          "height": 34
        }
      },
      "source": [
        "# Fit\n",
        "from sklearn.linear_model import LogisticRegressionCV\n",
        "model = LogisticRegressionCV(cv=5, n_jobs=-1, random_state=42)\n",
        "model.fit(X_train_scaled, y_train)\n",
        "accuracy = model.score(X_train_scaled, y_train)\n",
        "accuracy"
      ],
      "execution_count": 20,
      "outputs": [
        {
          "output_type": "execute_result",
          "data": {
            "text/plain": [
              "0.7807486631016043"
            ]
          },
          "metadata": {
            "tags": []
          },
          "execution_count": 20
        }
      ]
    },
    {
      "cell_type": "markdown",
      "metadata": {
        "colab_type": "text",
        "id": "Ah6EhiRVSusy"
      },
      "source": [
        "## 1.3. Report classification metric: accuracy\n",
        "\n",
        "What is your model's accuracy on the test set?\n",
        "\n",
        "Don't worry if your model doesn't beat the majority class baseline. That's okay!\n",
        "\n",
        "_\"The combination of some data and an aching desire for an answer does not ensure that a reasonable answer can be extracted from a given body of data.\"_ —[John Tukey](https://en.wikiquote.org/wiki/John_Tukey)\n",
        "\n",
        "(Also, if we used recall score instead of accuracy score, then your model would almost certainly beat the baseline. We'll discuss how to choose and interpret evaluation metrics throughout this unit.)\n"
      ]
    },
    {
      "cell_type": "markdown",
      "metadata": {
        "id": "aDkJ_NoRmURo",
        "colab_type": "text"
      },
      "source": [
        "### The 78.07% accuracy of my model is better than the 76.2% baseline, but not by much."
      ]
    },
    {
      "cell_type": "markdown",
      "metadata": {
        "colab_type": "text",
        "id": "xDmZn3ApOM7t"
      },
      "source": [
        "# Part 2, Regression: Predict home prices in Ames, Iowa 🏠\n",
        "\n",
        "You'll use historical housing data. ***There's a data dictionary at the bottom of the notebook.*** \n",
        "\n",
        "Run this code cell to load the dataset:\n",
        "\n",
        "\n",
        "\n"
      ]
    },
    {
      "cell_type": "code",
      "metadata": {
        "colab_type": "code",
        "id": "7ptoRG1lu7H4",
        "colab": {}
      },
      "source": [
        "import pandas as pd\n",
        "URL = 'https://drive.google.com/uc?export=download&id=1522WlEW6HFss36roD_Cd9nybqSuiVcCK'\n",
        "homes = pd.read_csv(URL)\n",
        "assert homes.shape == (2904, 47)"
      ],
      "execution_count": 0,
      "outputs": []
    },
    {
      "cell_type": "code",
      "metadata": {
        "id": "wjQHotAfm80a",
        "colab_type": "code",
        "colab": {}
      },
      "source": [
        "homes.head()"
      ],
      "execution_count": 0,
      "outputs": []
    },
    {
      "cell_type": "code",
      "metadata": {
        "id": "04CFqMgSm_vP",
        "colab_type": "code",
        "colab": {}
      },
      "source": [
        "homes.describe(include='number')"
      ],
      "execution_count": 0,
      "outputs": []
    },
    {
      "cell_type": "code",
      "metadata": {
        "id": "Tc7Y6detlwvc",
        "colab_type": "code",
        "colab": {}
      },
      "source": [
        "homes.describe(exclude='number')"
      ],
      "execution_count": 0,
      "outputs": []
    },
    {
      "cell_type": "code",
      "metadata": {
        "id": "IXukC7OInBAc",
        "colab_type": "code",
        "colab": {}
      },
      "source": [
        "homes.dtypes"
      ],
      "execution_count": 0,
      "outputs": []
    },
    {
      "cell_type": "code",
      "metadata": {
        "id": "pYTFmMBlpaJy",
        "colab_type": "code",
        "outputId": "da7998ad-9ec9-440a-eec9-a0077c068220",
        "colab": {
          "base_uri": "https://localhost:8080/",
          "height": 119
        }
      },
      "source": [
        "# Column names are not in uppercase check\n",
        "# Column names do not include underscores check\n",
        "# Target column SalePrice is not a string check\n",
        "homes['Yr_Sold'].value_counts()\n",
        "# <- DON'T CHANGE THIS TO DATETIME"
      ],
      "execution_count": 27,
      "outputs": [
        {
          "output_type": "execute_result",
          "data": {
            "text/plain": [
              "2007    686\n",
              "2009    644\n",
              "2006    621\n",
              "2008    613\n",
              "2010    340\n",
              "Name: Yr_Sold, dtype: int64"
            ]
          },
          "metadata": {
            "tags": []
          },
          "execution_count": 27
        }
      ]
    },
    {
      "cell_type": "code",
      "metadata": {
        "id": "g50IjVxQqLlY",
        "colab_type": "code",
        "colab": {}
      },
      "source": [
        "import pandas_profiling\n",
        "homes.profile_report()"
      ],
      "execution_count": 0,
      "outputs": []
    },
    {
      "cell_type": "markdown",
      "metadata": {
        "colab_type": "text",
        "id": "CowG-cgZ5ZrB"
      },
      "source": [
        "## 2.1. Begin with baselines\n",
        "\n",
        "What is the Mean Absolute Error and R^2 score for a mean baseline? (You can get these estimated scores using all your data, before splitting it.)"
      ]
    },
    {
      "cell_type": "code",
      "metadata": {
        "id": "P7azSZAWl-jF",
        "colab_type": "code",
        "colab": {
          "base_uri": "https://localhost:8080/",
          "height": 34
        },
        "outputId": "2f98ffc0-1567-4f11-c790-af9e7c5aa98b"
      },
      "source": [
        "# Simple mean sales price - if we knew nothing else, what would sales price be?\n",
        "simple_mean = homes['SalePrice'].mean()\n",
        "simple_mean"
      ],
      "execution_count": 40,
      "outputs": [
        {
          "output_type": "execute_result",
          "data": {
            "text/plain": [
              "180383.689738292"
            ]
          },
          "metadata": {
            "tags": []
          },
          "execution_count": 40
        }
      ]
    },
    {
      "cell_type": "code",
      "metadata": {
        "id": "kn84AneVpTrr",
        "colab_type": "code",
        "colab": {
          "base_uri": "https://localhost:8080/",
          "height": 34
        },
        "outputId": "e00cdc5e-0680-4c78-c9e2-636296eb4e85"
      },
      "source": [
        "type(simple_mean)"
      ],
      "execution_count": 45,
      "outputs": [
        {
          "output_type": "execute_result",
          "data": {
            "text/plain": [
              "float"
            ]
          },
          "metadata": {
            "tags": []
          },
          "execution_count": 45
        }
      ]
    },
    {
      "cell_type": "code",
      "metadata": {
        "id": "zMgOSMpkpXbQ",
        "colab_type": "code",
        "colab": {
          "base_uri": "https://localhost:8080/",
          "height": 34
        },
        "outputId": "987833b5-5220-4c38-ff92-9055094f40f6"
      },
      "source": [
        "type([simple_mean])"
      ],
      "execution_count": 47,
      "outputs": [
        {
          "output_type": "execute_result",
          "data": {
            "text/plain": [
              "list"
            ]
          },
          "metadata": {
            "tags": []
          },
          "execution_count": 47
        }
      ]
    },
    {
      "cell_type": "code",
      "metadata": {
        "id": "MyWO84Abpokq",
        "colab_type": "code",
        "colab": {
          "base_uri": "https://localhost:8080/",
          "height": 34
        },
        "outputId": "06eff6a1-d93c-45cc-e3a3-a205ea4bbcfa"
      },
      "source": [
        "simple_mean * 3"
      ],
      "execution_count": 48,
      "outputs": [
        {
          "output_type": "execute_result",
          "data": {
            "text/plain": [
              "541151.069214876"
            ]
          },
          "metadata": {
            "tags": []
          },
          "execution_count": 48
        }
      ]
    },
    {
      "cell_type": "code",
      "metadata": {
        "id": "Dfk1AFeYpqQL",
        "colab_type": "code",
        "colab": {
          "base_uri": "https://localhost:8080/",
          "height": 34
        },
        "outputId": "f27f6338-dae0-4453-f28b-606e7619c543"
      },
      "source": [
        "[simple_mean] * 3"
      ],
      "execution_count": 49,
      "outputs": [
        {
          "output_type": "execute_result",
          "data": {
            "text/plain": [
              "[180383.689738292, 180383.689738292, 180383.689738292]"
            ]
          },
          "metadata": {
            "tags": []
          },
          "execution_count": 49
        }
      ]
    },
    {
      "cell_type": "code",
      "metadata": {
        "id": "472M8HEomHYF",
        "colab_type": "code",
        "colab": {}
      },
      "source": [
        "# Arrange y target vectors\n",
        "target = 'SalePrice'\n",
        "y_train = homes[target]\n",
        "y_test = homes[target]"
      ],
      "execution_count": 0,
      "outputs": []
    },
    {
      "cell_type": "code",
      "metadata": {
        "id": "UXBY7d95nEFZ",
        "colab_type": "code",
        "colab": {
          "base_uri": "https://localhost:8080/",
          "height": 34
        },
        "outputId": "864c9116-8242-40c5-d549-a621183e4362"
      },
      "source": [
        "from sklearn.metrics import mean_absolute_error\n",
        "y_pred = [simple_mean] * len(y_train)\n",
        "mae = mean_absolute_error(y_train, y_pred)\n",
        "print(f'Baseline Mean Absolute Error: {mae:.2f}')"
      ],
      "execution_count": 44,
      "outputs": [
        {
          "output_type": "stream",
          "text": [
            "Baseline Mean Absolute Error: 58149.93\n"
          ],
          "name": "stdout"
        }
      ]
    },
    {
      "cell_type": "code",
      "metadata": {
        "id": "GZdLcwxk5bV_",
        "colab_type": "code",
        "outputId": "761a845c-2c6e-4b61-e849-f864248038ad",
        "colab": {
          "base_uri": "https://localhost:8080/",
          "height": 102
        }
      },
      "source": [
        "from sklearn.metrics import mean_squared_error\n",
        "from skleran.metrics import r2_score\n",
        "import numpy as np\n",
        "\n",
        "y_target = homes['SalePrice']\n",
        "print('Mean price:', y_target.mean())\n",
        "print('Number of homes:', len(y_target))\n",
        "print('Mean baseline MAE:', mean_absolute_error(y_target, y_pred_target))\n",
        "print('Mean baseline R^2 score:', r2_score(y_target, y_pred_target))\n",
        "print('Mean baseline:', np.sqrt(mean_squared_error(y_target, y_pred_target)))"
      ],
      "execution_count": 0,
      "outputs": [
        {
          "output_type": "stream",
          "text": [
            "Mean price: 180383.689738292\n",
            "Number of homes: 2904\n",
            "Mean baseline MAE: 58149.92774120811\n",
            "Mean baseline R^2 score: 0.0\n",
            "Mean baseline: 79789.08234498225\n"
          ],
          "name": "stdout"
        }
      ]
    },
    {
      "cell_type": "code",
      "metadata": {
        "id": "2p3R4GSGrLjk",
        "colab_type": "code",
        "colab": {}
      },
      "source": [
        "# Plot one feature against SalePrice\n",
        "import pandas as pd\n",
        "import plotly.express as px"
      ],
      "execution_count": 0,
      "outputs": []
    },
    {
      "cell_type": "code",
      "metadata": {
        "id": "4tbovgnPrVUL",
        "colab_type": "code",
        "colab": {
          "base_uri": "https://localhost:8080/",
          "height": 542
        },
        "outputId": "5bcb8d3a-00d8-44f6-a1c0-22d8d3cae47e"
      },
      "source": [
        "px.scatter(\n",
        "    homes,\n",
        "    x='Overall_Qual',\n",
        "    y='SalePrice',\n",
        "    title='Overall Quality Strongly Affects Price',\n",
        "    trendline='ols'\n",
        "    )"
      ],
      "execution_count": 61,
      "outputs": [
        {
          "output_type": "display_data",
          "data": {
            "text/html": [
              "<html>\n",
              "<head><meta charset=\"utf-8\" /></head>\n",
              "<body>\n",
              "    <div>\n",
              "            <script src=\"https://cdnjs.cloudflare.com/ajax/libs/mathjax/2.7.5/MathJax.js?config=TeX-AMS-MML_SVG\"></script><script type=\"text/javascript\">if (window.MathJax) {MathJax.Hub.Config({SVG: {font: \"STIX-Web\"}});}</script>\n",
              "                <script type=\"text/javascript\">window.PlotlyConfig = {MathJaxConfig: 'local'};</script>\n",
              "        <script src=\"https://cdn.plot.ly/plotly-latest.min.js\"></script>    \n",
              "            <div id=\"d10007e5-a050-490b-9b8c-80239ddc3219\" class=\"plotly-graph-div\" style=\"height:525px; width:100%;\"></div>\n",
              "            <script type=\"text/javascript\">\n",
              "                \n",
              "                    window.PLOTLYENV=window.PLOTLYENV || {};\n",
              "                    \n",
              "                if (document.getElementById(\"d10007e5-a050-490b-9b8c-80239ddc3219\")) {\n",
              "                    Plotly.newPlot(\n",
              "                        'd10007e5-a050-490b-9b8c-80239ddc3219',\n",
              "                        [{\"hoverlabel\": {\"namelength\": 0}, \"hovertemplate\": \"Overall_Qual=%{x}<br>SalePrice=%{y}\", \"legendgroup\": \"\", \"marker\": {\"color\": \"#636efa\", \"symbol\": \"circle\"}, \"mode\": \"markers\", \"name\": \"\", \"showlegend\": false, \"type\": \"scattergl\", \"x\": [6, 5, 6, 7, 5, 6, 8, 8, 8, 7, 6, 6, 6, 7, 8, 8, 8, 9, 4, 6, 6, 7, 7, 6, 5, 5, 4, 4, 7, 6, 5, 6, 6, 6, 7, 6, 9, 8, 9, 8, 7, 9, 8, 7, 9, 7, 9, 8, 9, 8, 7, 6, 7, 8, 7, 7, 7, 7, 9, 8, 7, 8, 8, 7, 8, 8, 7, 7, 8, 7, 6, 7, 7, 7, 6, 6, 6, 6, 7, 6, 6, 5, 6, 5, 5, 5, 5, 5, 6, 7, 8, 8, 7, 7, 7, 7, 7, 6, 7, 6, 6, 7, 7, 8, 8, 8, 8, 6, 7, 6, 6, 6, 6, 7, 6, 6, 5, 6, 4, 5, 5, 6, 5, 6, 5, 5, 5, 6, 5, 3, 5, 6, 5, 6, 5, 7, 6, 5, 7, 5, 5, 5, 6, 5, 5, 5, 6, 4, 5, 5, 5, 5, 4, 5, 5, 5, 6, 6, 5, 7, 6, 5, 5, 5, 6, 5, 6, 6, 4, 4, 5, 5, 5, 3, 4, 5, 5, 6, 5, 5, 2, 6, 8, 5, 8, 5, 6, 4, 4, 6, 5, 7, 4, 6, 6, 5, 6, 5, 5, 6, 7, 4, 6, 6, 5, 4, 5, 7, 5, 5, 5, 6, 4, 5, 5, 4, 4, 5, 5, 5, 5, 5, 6, 5, 5, 5, 6, 7, 7, 4, 4, 7, 6, 3, 5, 6, 5, 4, 5, 6, 7, 5, 4, 6, 7, 6, 7, 6, 8, 7, 7, 7, 7, 6, 6, 5, 7, 6, 5, 6, 5, 5, 8, 8, 7, 7, 7, 6, 6, 8, 7, 7, 3, 5, 5, 5, 4, 6, 6, 4, 4, 6, 4, 5, 5, 6, 3, 5, 6, 4, 5, 6, 7, 5, 7, 7, 7, 8, 8, 7, 4, 2, 6, 4, 4, 5, 4, 8, 8, 6, 7, 6, 6, 5, 7, 7, 5, 8, 7, 8, 9, 5, 5, 6, 5, 4, 5, 5, 4, 4, 4, 4, 5, 5, 5, 5, 5, 5, 8, 6, 6, 6, 8, 6, 8, 7, 9, 7, 8, 8, 8, 8, 7, 7, 6, 6, 6, 6, 6, 6, 6, 6, 7, 7, 8, 9, 8, 7, 5, 7, 6, 7, 6, 7, 6, 7, 7, 6, 8, 7, 7, 5, 7, 8, 8, 8, 5, 6, 7, 6, 6, 5, 5, 6, 5, 5, 4, 4, 4, 4, 4, 6, 5, 5, 6, 6, 5, 6, 6, 6, 7, 6, 6, 6, 6, 6, 7, 5, 5, 10, 9, 9, 10, 9, 8, 8, 9, 9, 9, 10, 10, 10, 9, 9, 8, 8, 8, 9, 8, 9, 9, 9, 8, 8, 7, 7, 10, 9, 8, 8, 6, 6, 6, 7, 7, 10, 8, 9, 9, 8, 8, 7, 7, 7, 6, 6, 6, 7, 7, 7, 7, 7, 7, 7, 6, 7, 7, 8, 7, 7, 7, 7, 7, 6, 7, 6, 6, 7, 7, 6, 7, 7, 8, 8, 8, 8, 8, 7, 8, 7, 7, 8, 8, 7, 8, 8, 8, 8, 8, 8, 7, 9, 7, 8, 6, 8, 7, 9, 9, 8, 10, 8, 8, 7, 8, 7, 7, 7, 7, 7, 7, 7, 6, 7, 8, 7, 5, 5, 7, 7, 8, 7, 6, 6, 6, 7, 6, 6, 4, 6, 5, 5, 5, 5, 5, 5, 5, 5, 5, 8, 7, 7, 6, 6, 6, 6, 6, 6, 7, 8, 8, 8, 7, 8, 4, 6, 6, 6, 7, 7, 6, 6, 6, 5, 6, 7, 6, 7, 8, 5, 5, 5, 7, 6, 6, 4, 5, 6, 4, 5, 5, 6, 5, 5, 5, 5, 6, 5, 6, 5, 4, 5, 6, 6, 6, 5, 6, 5, 5, 6, 6, 6, 7, 6, 6, 4, 5, 6, 7, 6, 6, 6, 5, 5, 4, 6, 5, 5, 6, 5, 5, 4, 5, 5, 5, 5, 3, 7, 5, 6, 3, 5, 5, 4, 5, 5, 4, 7, 2, 4, 5, 3, 6, 6, 6, 5, 6, 6, 5, 6, 6, 5, 3, 6, 4, 5, 5, 5, 5, 5, 5, 4, 6, 6, 5, 6, 5, 6, 5, 6, 6, 5, 5, 5, 5, 5, 4, 5, 7, 5, 4, 5, 5, 4, 2, 3, 5, 5, 4, 4, 5, 5, 7, 6, 6, 8, 4, 7, 5, 5, 6, 6, 4, 3, 5, 6, 7, 5, 6, 4, 6, 5, 6, 5, 6, 5, 5, 4, 2, 5, 5, 5, 5, 6, 7, 6, 7, 7, 6, 5, 6, 4, 6, 7, 6, 4, 6, 4, 5, 5, 5, 1, 6, 5, 5, 5, 6, 5, 5, 6, 5, 5, 5, 5, 6, 5, 2, 4, 5, 4, 4, 5, 3, 4, 6, 5, 5, 6, 4, 5, 4, 5, 5, 6, 4, 7, 6, 8, 7, 7, 7, 8, 5, 5, 5, 5, 5, 5, 5, 5, 5, 7, 7, 7, 9, 8, 8, 9, 8, 8, 8, 9, 7, 7, 8, 7, 8, 6, 7, 7, 5, 5, 5, 6, 7, 7, 5, 5, 7, 7, 7, 6, 7, 7, 7, 7, 7, 7, 5, 5, 5, 5, 5, 5, 5, 5, 5, 5, 7, 8, 8, 8, 9, 7, 8, 7, 8, 7, 7, 7, 7, 7, 6, 6, 8, 7, 7, 6, 6, 4, 5, 4, 7, 6, 4, 6, 9, 6, 5, 4, 5, 4, 5, 3, 5, 5, 4, 6, 5, 5, 5, 5, 2, 6, 7, 6, 4, 6, 6, 7, 6, 7, 7, 7, 5, 6, 5, 5, 5, 5, 7, 5, 7, 6, 5, 6, 6, 6, 6, 6, 6, 6, 7, 6, 5, 5, 5, 3, 4, 8, 2, 8, 7, 7, 6, 6, 6, 5, 7, 5, 6, 7, 9, 7, 9, 9, 8, 6, 6, 7, 8, 7, 9, 9, 5, 5, 6, 6, 4, 5, 4, 5, 4, 4, 4, 5, 6, 5, 5, 5, 5, 5, 6, 5, 6, 6, 6, 6, 6, 6, 6, 6, 5, 7, 8, 8, 8, 8, 6, 6, 6, 7, 6, 8, 8, 8, 9, 9, 6, 9, 6, 7, 7, 6, 7, 7, 7, 6, 6, 5, 7, 5, 7, 6, 6, 7, 5, 8, 5, 6, 4, 5, 4, 6, 6, 6, 6, 6, 6, 6, 5, 6, 6, 7, 5, 8, 10, 10, 9, 8, 8, 8, 9, 9, 10, 9, 8, 8, 10, 9, 7, 8, 8, 8, 9, 9, 7, 8, 9, 9, 8, 8, 7, 7, 7, 7, 7, 7, 7, 7, 6, 6, 7, 6, 7, 7, 7, 6, 7, 7, 7, 7, 8, 8, 8, 9, 8, 7, 8, 8, 7, 7, 7, 8, 8, 6, 8, 7, 9, 8, 7, 8, 8, 8, 7, 7, 8, 7, 8, 8, 7, 6, 7, 6, 7, 6, 5, 6, 6, 7, 6, 6, 6, 7, 6, 7, 6, 6, 6, 6, 5, 5, 5, 5, 5, 6, 6, 5, 6, 9, 7, 7, 7, 6, 7, 7, 7, 6, 9, 9, 9, 9, 9, 7, 7, 7, 8, 8, 10, 8, 8, 8, 6, 9, 8, 7, 6, 6, 6, 7, 5, 6, 5, 5, 5, 5, 5, 5, 7, 8, 6, 6, 7, 7, 5, 4, 4, 5, 6, 6, 6, 6, 5, 6, 5, 5, 6, 4, 5, 3, 3, 5, 4, 5, 6, 5, 6, 5, 7, 6, 5, 6, 6, 6, 5, 5, 5, 5, 5, 6, 6, 6, 6, 6, 5, 5, 5, 5, 6, 5, 5, 5, 5, 5, 4, 5, 5, 4, 5, 4, 6, 5, 7, 6, 6, 7, 5, 5, 5, 5, 5, 5, 5, 6, 6, 6, 6, 5, 5, 5, 6, 6, 5, 6, 5, 5, 5, 5, 6, 5, 6, 4, 7, 4, 5, 7, 6, 5, 5, 5, 5, 5, 2, 5, 4, 3, 7, 5, 5, 7, 5, 5, 5, 6, 5, 7, 6, 6, 8, 7, 10, 2, 7, 5, 5, 5, 4, 5, 7, 5, 5, 5, 5, 6, 6, 5, 6, 6, 6, 6, 5, 4, 5, 5, 7, 5, 7, 6, 4, 5, 6, 7, 6, 5, 6, 6, 8, 6, 6, 6, 6, 5, 6, 6, 6, 5, 6, 5, 3, 6, 5, 5, 5, 4, 5, 5, 5, 6, 5, 5, 5, 6, 5, 5, 4, 5, 5, 5, 5, 6, 5, 6, 5, 5, 5, 5, 5, 6, 7, 7, 7, 4, 6, 7, 6, 6, 5, 6, 6, 5, 5, 6, 5, 5, 5, 6, 5, 7, 6, 7, 7, 7, 7, 8, 9, 9, 7, 8, 6, 6, 5, 5, 5, 7, 6, 7, 7, 7, 7, 7, 7, 7, 7, 5, 5, 5, 6, 5, 5, 5, 5, 5, 8, 7, 7, 8, 7, 8, 9, 8, 8, 7, 7, 7, 8, 7, 6, 6, 6, 6, 7, 7, 7, 7, 7, 8, 7, 7, 7, 6, 6, 6, 6, 5, 5, 5, 5, 5, 6, 5, 4, 7, 6, 6, 4, 10, 6, 4, 4, 4, 4, 4, 5, 5, 4, 5, 4, 5, 4, 4, 5, 3, 5, 6, 5, 6, 7, 5, 5, 6, 6, 6, 6, 6, 6, 8, 6, 6, 7, 6, 5, 5, 6, 8, 8, 7, 7, 5, 6, 6, 6, 6, 6, 4, 6, 5, 5, 5, 5, 5, 1, 4, 4, 4, 3, 4, 8, 8, 7, 8, 7, 8, 7, 6, 6, 5, 4, 5, 7, 8, 8, 8, 8, 5, 7, 6, 6, 6, 6, 8, 6, 8, 8, 8, 7, 7, 5, 6, 4, 5, 5, 5, 4, 4, 5, 6, 4, 5, 5, 5, 5, 5, 5, 6, 5, 5, 5, 6, 7, 7, 8, 7, 6, 6, 6, 6, 8, 6, 6, 7, 7, 6, 7, 7, 7, 6, 6, 8, 7, 8, 8, 9, 8, 9, 5, 9, 8, 8, 10, 6, 6, 6, 7, 7, 7, 7, 6, 6, 6, 7, 6, 5, 6, 5, 6, 7, 7, 6, 5, 6, 7, 5, 5, 5, 4, 4, 4, 4, 7, 6, 6, 6, 6, 6, 5, 5, 6, 6, 7, 5, 9, 9, 8, 8, 8, 8, 9, 9, 8, 10, 7, 9, 8, 9, 8, 8, 9, 10, 8, 8, 8, 8, 9, 8, 8, 8, 8, 8, 7, 8, 8, 6, 6, 6, 6, 8, 8, 8, 9, 9, 9, 8, 7, 6, 6, 7, 6, 6, 6, 7, 7, 7, 6, 6, 7, 7, 7, 7, 8, 7, 7, 7, 7, 7, 7, 7, 7, 6, 7, 6, 7, 7, 6, 6, 10, 8, 8, 10, 9, 8, 7, 10, 7, 7, 7, 8, 8, 8, 8, 7, 8, 9, 8, 8, 10, 8, 8, 7, 7, 8, 8, 8, 7, 8, 7, 8, 8, 7, 8, 5, 8, 8, 8, 7, 8, 8, 6, 8, 6, 7, 5, 7, 6, 6, 7, 7, 6, 6, 5, 5, 5, 5, 5, 5, 4, 5, 5, 5, 5, 7, 7, 5, 5, 6, 8, 8, 8, 8, 8, 7, 7, 7, 6, 6, 6, 6, 6, 7, 8, 7, 7, 8, 8, 8, 7, 5, 5, 8, 6, 6, 8, 5, 7, 6, 6, 6, 6, 7, 7, 7, 5, 6, 7, 6, 5, 5, 5, 5, 5, 4, 5, 6, 5, 6, 5, 5, 5, 5, 5, 5, 7, 6, 6, 6, 6, 6, 6, 5, 4, 6, 5, 1, 3, 3, 5, 6, 5, 5, 5, 5, 5, 5, 6, 5, 5, 6, 6, 5, 5, 5, 6, 5, 6, 5, 6, 5, 5, 6, 5, 5, 5, 5, 6, 6, 5, 5, 5, 4, 5, 5, 4, 5, 4, 5, 5, 5, 5, 4, 4, 4, 5, 5, 7, 5, 6, 5, 5, 6, 6, 5, 5, 5, 5, 5, 5, 5, 5, 5, 5, 6, 5, 5, 5, 5, 5, 6, 5, 5, 5, 4, 5, 5, 3, 4, 4, 4, 4, 5, 5, 8, 6, 5, 5, 5, 6, 6, 5, 7, 6, 6, 5, 7, 5, 4, 4, 5, 5, 5, 6, 5, 6, 6, 5, 6, 5, 5, 5, 5, 7, 6, 6, 6, 6, 6, 5, 6, 7, 6, 5, 5, 7, 7, 6, 6, 6, 7, 6, 4, 5, 4, 5, 7, 5, 4, 7, 5, 5, 5, 5, 5, 4, 4, 5, 5, 6, 5, 5, 5, 5, 5, 5, 5, 6, 5, 5, 5, 5, 7, 6, 5, 4, 7, 6, 6, 5, 5, 4, 6, 6, 6, 5, 4, 4, 4, 5, 5, 5, 4, 5, 6, 7, 7, 7, 7, 7, 7, 7, 8, 8, 8, 7, 7, 8, 8, 7, 7, 7, 7, 7, 8, 7, 7, 6, 7, 7, 6, 6, 6, 8, 5, 5, 6, 6, 6, 5, 5, 4, 6, 7, 7, 7, 7, 7, 7, 5, 5, 5, 5, 5, 5, 5, 5, 5, 4, 8, 8, 7, 7, 7, 7, 8, 8, 8, 7, 9, 8, 6, 8, 7, 7, 7, 7, 7, 7, 6, 7, 5, 5, 5, 4, 4, 5, 6, 6, 6, 6, 5, 5, 5, 5, 10, 10, 6, 5, 4, 4, 5, 3, 6, 4, 4, 4, 4, 4, 6, 5, 6, 5, 5, 6, 5, 7, 6, 7, 6, 7, 5, 5, 5, 6, 5, 7, 5, 6, 8, 4, 6, 5, 8, 6, 6, 7, 6, 6, 6, 6, 4, 8, 7, 8, 5, 6, 5, 5, 4, 5, 5, 6, 5, 5, 2, 5, 4, 5, 8, 8, 6, 6, 6, 5, 7, 7, 7, 6, 7, 7, 5, 6, 7, 8, 8, 8, 7, 7, 6, 8, 7, 8, 6, 8, 7, 5, 8, 10, 8, 5, 3, 6, 4, 5, 4, 5, 5, 4, 4, 4, 4, 4, 4, 6, 5, 6, 5, 5, 5, 5, 4, 4, 5, 5, 5, 5, 5, 6, 6, 5, 6, 7, 6, 7, 6, 6, 6, 6, 7, 7, 8, 8, 7, 7, 8, 6, 6, 7, 8, 7, 8, 9, 10, 9, 9, 8, 10, 9, 10, 5, 5, 9, 8, 9, 7, 7, 7, 6, 6, 7, 7, 6, 7, 6, 7, 7, 6, 5, 7, 6, 6, 5, 4, 4, 4, 6, 6, 5, 6, 6, 6, 6, 6, 6, 6, 6, 5, 5, 7, 6, 9, 9, 9, 8, 7, 9, 9, 8, 8, 9, 8, 9, 9, 8, 8, 9, 8, 9, 9, 9, 9, 8, 8, 7, 9, 7, 7, 9, 9, 7, 6, 6, 7, 7, 7, 6, 6, 8, 7, 7, 7, 8, 7, 7, 7, 7, 7, 7, 8, 7, 5, 6, 8, 7, 8, 7, 6, 6, 7, 6, 7, 7, 8, 8, 8, 10, 9, 8, 8, 8, 9, 8, 8, 8, 8, 8, 8, 7, 8, 8, 9, 8, 8, 7, 6, 7, 6, 7, 7, 6, 7, 6, 6, 6, 7, 7, 6, 6, 6, 6, 6, 6, 4, 5, 5, 5, 6, 5, 6, 5, 5, 5, 5, 5, 5, 5, 5, 7, 8, 8, 8, 7, 8, 7, 8, 7, 7, 7, 7, 6, 7, 7, 7, 7, 8, 8, 6, 8, 8, 8, 8, 9, 5, 7, 7, 6, 6, 6, 7, 7, 5, 5, 5, 6, 5, 5, 5, 5, 5, 6, 5, 5, 5, 6, 6, 6, 5, 6, 5, 5, 6, 5, 5, 4, 4, 4, 5, 5, 5, 5, 5, 6, 5, 5, 5, 6, 5, 7, 5, 8, 6, 5, 5, 5, 6, 6, 5, 5, 6, 5, 5, 6, 6, 5, 6, 5, 5, 5, 5, 7, 5, 5, 6, 6, 3, 5, 5, 3, 4, 5, 6, 4, 3, 5, 5, 6, 5, 6, 6, 6, 5, 6, 6, 5, 6, 7, 7, 5, 4, 4, 5, 4, 5, 3, 3, 3, 5, 5, 5, 6, 5, 7, 5, 5, 5, 4, 5, 4, 6, 7, 7, 7, 6, 4, 6, 5, 5, 4, 6, 3, 5, 5, 3, 6, 3, 3, 6, 4, 7, 7, 5, 7, 6, 7, 6, 10, 5, 5, 3, 4, 6, 6, 6, 5, 6, 5, 3, 5, 4, 5, 5, 6, 5, 5, 5, 6, 4, 6, 4, 4, 5, 5, 6, 5, 3, 6, 6, 5, 6, 5, 5, 5, 5, 7, 4, 4, 6, 5, 5, 6, 5, 5, 6, 5, 5, 6, 5, 5, 5, 5, 5, 5, 4, 5, 7, 5, 7, 5, 5, 7, 7, 4, 5, 5, 6, 6, 6, 5, 5, 5, 6, 6, 5, 5, 5, 6, 6, 8, 6, 7, 7, 7, 7, 7, 7, 7, 6, 7, 8, 7, 7, 7, 8, 5, 6, 7, 6, 5, 5, 6, 7, 5, 7, 6, 7, 7, 7, 7, 7, 7, 5, 6, 6, 5, 5, 5, 5, 6, 8, 7, 6, 8, 8, 7, 7, 8, 7, 7, 7, 7, 7, 6, 6, 8, 7, 7, 6, 7, 7, 7, 7, 7, 6, 6, 7, 4, 5, 4, 6, 6, 5, 7, 7, 5, 6, 6, 7, 7, 6, 7, 7, 4, 6, 4, 5, 5, 5, 4, 5, 4, 4, 2, 4, 5, 6, 5, 6, 7, 5, 6, 5, 7, 7, 5, 5, 7, 6, 8, 5, 4, 7, 7, 6, 7, 6, 6, 5, 5, 5, 6, 5, 6, 4, 4, 4, 6, 4, 3, 2, 5, 3, 8, 8, 6, 6, 8, 6, 6, 7, 7, 7, 6, 8, 6, 7, 7, 6, 8, 8, 8, 9, 1, 7, 6, 6, 5, 5, 5, 6, 5, 5, 4, 4, 5, 5, 4, 4, 4, 4, 6, 5, 5, 5, 6, 5, 5, 5, 7], \"xaxis\": \"x\", \"y\": [215000, 105000, 172000, 244000, 189900, 195500, 213500, 191500, 236500, 189000, 175900, 185000, 180400, 171500, 212000, 538000, 164000, 394432, 141000, 210000, 190000, 170000, 216000, 149000, 149900, 142000, 126000, 115000, 184000, 96000, 105500, 88000, 127500, 149900, 120000, 146000, 376162, 306000, 395192, 290941, 220000, 275000, 259000, 214000, 611657, 224000, 500000, 320000, 319900, 205000, 175500, 199500, 160000, 192000, 184500, 185088, 180000, 222500, 333168, 355000, 260400, 325000, 290000, 221000, 410000, 221500, 204500, 215200, 262500, 254900, 271500, 233000, 181000, 205000, 143000, 189000, 99500, 125000, 194500, 152000, 171000, 67500, 112000, 148000, 138500, 122000, 133000, 127000, 169000, 190000, 362500, 285000, 260000, 190000, 155000, 151000, 149500, 152000, 222000, 177500, 177000, 155000, 147110, 267916, 254000, 155000, 206000, 130500, 230000, 218500, 243500, 205000, 212500, 196500, 197500, 171000, 142250, 143000, 128950, 159000, 178900, 136300, 180500, 137500, 84900, 142125, 197600, 172500, 116500, 76500, 128000, 153000, 132000, 178000, 154300, 180000, 190000, 135000, 214000, 136000, 165500, 145000, 148000, 142000, 167500, 108538, 159500, 108000, 135000, 122500, 119000, 109000, 105000, 107500, 144900, 129000, 97500, 144000, 162000, 242000, 132000, 154000, 166000, 134800, 160000, 148000, 192000, 155000, 80400, 96500, 109500, 115000, 143000, 107400, 80000, 119000, 130000, 119000, 129000, 100000, 12789, 105900, 150000, 139000, 240000, 76500, 149700, 125500, 122500, 140750, 128500, 209500, 87000, 134000, 128000, 132000, 139900, 123900, 138400, 109500, 140000, 149500, 159900, 122000, 110000, 55000, 140000, 244400, 173000, 107500, 100000, 95000, 93369, 114900, 94000, 136000, 136500, 131500, 121500, 125000, 154000, 137900, 158000, 137250, 160250, 163000, 158900, 328000, 270000, 85000, 128000, 260000, 230000, 124000, 83000, 144500, 129000, 127000, 128000, 186000, 308030, 114000, 84900, 178000, 270000, 218000, 236000, 147000, 245350, 206000, 198900, 187000, 320000, 138500, 155000, 159000, 191000, 200500, 150000, 161750, 128200, 127000, 318000, 272000, 237000, 240000, 224900, 143750, 143000, 232000, 213000, 185500, 84900, 155891, 100000, 144000, 64000, 125200, 107000, 90000, 140000, 113000, 80000, 144500, 104000, 128000, 58500, 127000, 126000, 160000, 100000, 169000, 257500, 215000, 266500, 335000, 203135, 185000, 162500, 289000, 125500, 82000, 110000, 68400, 102776, 55993, 50138, 246000, 254900, 190000, 201000, 169900, 170000, 160000, 220000, 179781, 174000, 269500, 214900, 202900, 378500, 169000, 173500, 139000, 166500, 83500, 119500, 85000, 76000, 75500, 88250, 85500, 130000, 157900, 149900, 159000, 136000, 161000, 285000, 231000, 124500, 157000, 345000, 189500, 270000, 189000, 377500, 168500, 375000, 278000, 240000, 239500, 177500, 185000, 191000, 178000, 185000, 181316, 166000, 178000, 174000, 173000, 225000, 180500, 187500, 501837, 372500, 260000, 185000, 260000, 181000, 82500, 215000, 154000, 200000, 249000, 187500, 184000, 278000, 157000, 152000, 197500, 240900, 263435, 220000, 235000, 213000, 167900, 158000, 165000, 158000, 136000, 148500, 156000, 128000, 143000, 76500, 120500, 124500, 97000, 130000, 111000, 125000, 112000, 97000, 118000, 119500, 143750, 146000, 148500, 123000, 147000, 137900, 147000, 148500, 138000, 128500, 100000, 148800, 337500, 462000, 485000, 555000, 325000, 256300, 253293, 398800, 335000, 404000, 402861, 451950, 610000, 582933, 360000, 296000, 409900, 255500, 335000, 274900, 300000, 324000, 350000, 280000, 284000, 269500, 233170, 386250, 445000, 290000, 255900, 213000, 196000, 184500, 212500, 230000, 552000, 382500, 320000, 248500, 286500, 254000, 173000, 173000, 184000, 167800, 174000, 174000, 174000, 175900, 192500, 181000, 180000, 160200, 188500, 200000, 170000, 189500, 184100, 195500, 192000, 178000, 207500, 236000, 244000, 167000, 179000, 190000, 156000, 245000, 181000, 214000, 168000, 337000, 403000, 327000, 340000, 336000, 265000, 315000, 260000, 260000, 263550, 402000, 248000, 244600, 275000, 257500, 287090, 275500, 245000, 253000, 468000, 252678, 210000, 208300, 229456, 229800, 250000, 370878, 238500, 310000, 270000, 252000, 241000, 264500, 291000, 263000, 185000, 234500, 209000, 159000, 152000, 143500, 193000, 203000, 159000, 142000, 153000, 224243, 220000, 257000, 189000, 171500, 120000, 145000, 184000, 162000, 160000, 82000, 76000, 110000, 135000, 141000, 122000, 124100, 129000, 131400, 62383, 123000, 275000, 235000, 280750, 164500, 173733, 222000, 195000, 172500, 180000, 156000, 172500, 318750, 211500, 241600, 180500, 150000, 154000, 185000, 185750, 200000, 206000, 162000, 256900, 197900, 163000, 113000, 230000, 167900, 213250, 227000, 130000, 143000, 117500, 168500, 172500, 161500, 141500, 118000, 127500, 140000, 177625, 110000, 167000, 153000, 145100, 154000, 177500, 158000, 124500, 174500, 122000, 82500, 110000, 149500, 175000, 167000, 128900, 140000, 147000, 124000, 187500, 159000, 256000, 205000, 193500, 110000, 104900, 150000, 156500, 176000, 149500, 139000, 155000, 120000, 153000, 144000, 176000, 153000, 135000, 131000, 123000, 126000, 115000, 164900, 113000, 145500, 102900, 95000, 152500, 129900, 132000, 99900, 135000, 149000, 114000, 109500, 125000, 142900, 156500, 59000, 105000, 106000, 78500, 190000, 154000, 163000, 200000, 143500, 135000, 153000, 157500, 113500, 133000, 92900, 128500, 90000, 138000, 128000, 139000, 118900, 138000, 132500, 133500, 135000, 144750, 145000, 127000, 109500, 115000, 110000, 128900, 103500, 66500, 130000, 129000, 150000, 107500, 94550, 124500, 135000, 103000, 93000, 129500, 93000, 80000, 45000, 37900, 91300, 99500, 113000, 87500, 110000, 106000, 265979, 160000, 119000, 168000, 58500, 143000, 85000, 124900, 119000, 146500, 34900, 44000, 223500, 149000, 205000, 137000, 121000, 128000, 134900, 117000, 132500, 93000, 119000, 100000, 141500, 133000, 60000, 105000, 115000, 150000, 126500, 214500, 167500, 155000, 155000, 179900, 104000, 62500, 149000, 103000, 123000, 97500, 135000, 70000, 116000, 88750, 179000, 179000, 159900, 61000, 103600, 63000, 175000, 139000, 172500, 113500, 130000, 149900, 134900, 137000, 139000, 165000, 148000, 165000, 63900, 161500, 143000, 135000, 82500, 190000, 139600, 122000, 127500, 121500, 60000, 154400, 113000, 125000, 84000, 139500, 131000, 105000, 108000, 162000, 156500, 316600, 271900, 213000, 239900, 239500, 131000, 118964, 153337, 147983, 118858, 118858, 142953, 148325, 113722, 269500, 269500, 269500, 323262, 297000, 295493, 332000, 239900, 212000, 272500, 239000, 220000, 200000, 221800, 194500, 237000, 173000, 275000, 233500, 185000, 152000, 143000, 231500, 212000, 207000, 145000, 138000, 197900, 204000, 192000, 200000, 195000, 227000, 230000, 187100, 203000, 201000, 124000, 140000, 134900, 150500, 136500, 143500, 133500, 123000, 133900, 133000, 250000, 254750, 236500, 261500, 313000, 211000, 220000, 203000, 279500, 210000, 219500, 191000, 178000, 213000, 144000, 140000, 293200, 190000, 190000, 173500, 170000, 108000, 167000, 100000, 198500, 159500, 127000, 125000, 320000, 145500, 118000, 85000, 120000, 98000, 99900, 82000, 119900, 103500, 112000, 110000, 122000, 117000, 160000, 159434, 60000, 139500, 197000, 105000, 135000, 147500, 137450, 155000, 177000, 145000, 137000, 234000, 205000, 177500, 160000, 155000, 163500, 154900, 205000, 144800, 174500, 193000, 158000, 158500, 224000, 115000, 137000, 121000, 124000, 208000, 315000, 222000, 147000, 123000, 78000, 85000, 75000, 230000, 57625, 251000, 239686, 240000, 215000, 156450, 173000, 126000, 173000, 152000, 137500, 375000, 315500, 224500, 410000, 316500, 201000, 175000, 204000, 213500, 220000, 170000, 315000, 425000, 139500, 115000, 162000, 165000, 91000, 130000, 86000, 160000, 80000, 97000, 88000, 131900, 131250, 165500, 112000, 149000, 143000, 130000, 196000, 173000, 176500, 237500, 206900, 187500, 165000, 195500, 192000, 173000, 177900, 175000, 286000, 247900, 180000, 180000, 181000, 183000, 188000, 194500, 185000, 189000, 188500, 355000, 325000, 387000, 115000, 334000, 133000, 215000, 226500, 175500, 181900, 235000, 220000, 272000, 161000, 175000, 185000, 146900, 292500, 180000, 159900, 205000, 157000, 306000, 133000, 151000, 111900, 123000, 111250, 181000, 103400, 100000, 100500, 106000, 85400, 89500, 111750, 140000, 143000, 148500, 110000, 394617, 426000, 385000, 446261, 317500, 372402, 417500, 383000, 390000, 460000, 379000, 250000, 316000, 615000, 412500, 284000, 284000, 421250, 370000, 336860, 367294, 192000, 274000, 266000, 370967, 234250, 219500, 155000, 154000, 207000, 195000, 219990, 191000, 159895, 187687, 179000, 193000, 190000, 176000, 188000, 213000, 217300, 186500, 226750, 184000, 225000, 185900, 284500, 315000, 250000, 291000, 350000, 279500, 290000, 350000, 341000, 287500, 271000, 301500, 235128, 214000, 232000, 240000, 264132, 245000, 227680, 257000, 297900, 212700, 250580, 226700, 250000, 250000, 339750, 256000, 230348, 207500, 141000, 188000, 192500, 146000, 159000, 155000, 173000, 170000, 182000, 163000, 193500, 189000, 190500, 175000, 179200, 187000, 193000, 153900, 128000, 144000, 135000, 115000, 119916, 142000, 192000, 140000, 290000, 372500, 196000, 171900, 178000, 165000, 146000, 146000, 179400, 172900, 300000, 285000, 290000, 305000, 328900, 160000, 170000, 223000, 170000, 200000, 345000, 245500, 217500, 324000, 162500, 150000, 290000, 174000, 183000, 150000, 145000, 215000, 140500, 240000, 141000, 147000, 135000, 145000, 142600, 135000, 170000, 299800, 185000, 173000, 178400, 176000, 98000, 109008, 135750, 155000, 180500, 174900, 140000, 145000, 179900, 168500, 140000, 145500, 142000, 141000, 153000, 72500, 52000, 118000, 87000, 141500, 119000, 141500, 165500, 112900, 201800, 163000, 139950, 174000, 165000, 227000, 135000, 124000, 140000, 136500, 185000, 163000, 166800, 139000, 166000, 136000, 133000, 116000, 137500, 130000, 180000, 139000, 110000, 100000, 118500, 146000, 89900, 114000, 140000, 86900, 139000, 106250, 171000, 139000, 186000, 157000, 148000, 242000, 116000, 94000, 98300, 127000, 159000, 125900, 155000, 138000, 112500, 105500, 127500, 130000, 150000, 109500, 140000, 167900, 136870, 143000, 73000, 157500, 122600, 111000, 256000, 64000, 139500, 118000, 200000, 119164, 122250, 120000, 155000, 78000, 95000, 115000, 147000, 140000, 46500, 112500, 107900, 65000, 295000, 139500, 153900, 132000, 98000, 114000, 130000, 129500, 129400, 161000, 163000, 128000, 122000, 116900, 325000, 55000, 184000, 110000, 131500, 97000, 115500, 138000, 108000, 79500, 153000, 109500, 124000, 106900, 164900, 119000, 120000, 157000, 105000, 113000, 115000, 123000, 81300, 162900, 150000, 123500, 129900, 128000, 68500, 127000, 207000, 184000, 162500, 145000, 130000, 160000, 161000, 127500, 93850, 136000, 141000, 120000, 127500, 127000, 89500, 125000, 79900, 85000, 82375, 135000, 124000, 134000, 135000, 134432, 127500, 148000, 129500, 157500, 109900, 145000, 130000, 153000, 120000, 152000, 108959, 95541, 80000, 149350, 144900, 185000, 165000, 235000, 140000, 108000, 145000, 152400, 144000, 173000, 192000, 245000, 241500, 256000, 177000, 125600, 155000, 240000, 260000, 185000, 235000, 159900, 99600, 134500, 119000, 107500, 125000, 79000, 95000, 262280, 260000, 226500, 225000, 229000, 177439, 248500, 475000, 395039, 228000, 225000, 195000, 200000, 155000, 144000, 145000, 226001, 215700, 207500, 193000, 188000, 191000, 221000, 231500, 235000, 223500, 130250, 149900, 158000, 147000, 143195, 163000, 110000, 127000, 124900, 230000, 235000, 230500, 230000, 222500, 287000, 274000, 300000, 255900, 224900, 240000, 183000, 207000, 210000, 136500, 145000, 208900, 185000, 214000, 208500, 186500, 210000, 185900, 179900, 218836, 193000, 189000, 149300, 141000, 149000, 144500, 85000, 145900, 123000, 147500, 165000, 135000, 108000, 137500, 165400, 147000, 160500, 176000, 160000, 148000, 82000, 82000, 118000, 82500, 91900, 120000, 96000, 99000, 130500, 135000, 135500, 100000, 108000, 98000, 67000, 135900, 140000, 179500, 136500, 168000, 130000, 189000, 161900, 145000, 191000, 177000, 147500, 91000, 231000, 115000, 138000, 149000, 188700, 198000, 110000, 104000, 257076, 381000, 311500, 263400, 236500, 224000, 116500, 151000, 126000, 120000, 55000, 120500, 120500, 119000, 126000, 99500, 165500, 13100, 89000, 40000, 80900, 81000, 65000, 392500, 294464, 250000, 275000, 300000, 271000, 213000, 171000, 171500, 100000, 228500, 228950, 241500, 287000, 294000, 293077, 264966, 172500, 218689, 150000, 184000, 180000, 175000, 232500, 195000, 305000, 298751, 370000, 209200, 206300, 146000, 160500, 173000, 124000, 115000, 129500, 105000, 94900, 152500, 98000, 81000, 113000, 128500, 119500, 130500, 138000, 134500, 160000, 137500, 172000, 103000, 167300, 167000, 244000, 268000, 225000, 168000, 177000, 169000, 161500, 251000, 160000, 180000, 178750, 176000, 204000, 160000, 160000, 163900, 168000, 154204, 170000, 207500, 182000, 212000, 377426, 349265, 591587, 155000, 319900, 392000, 441929, 455000, 182900, 174000, 178000, 176000, 213000, 192000, 190000, 195000, 148000, 151500, 197000, 192350, 152000, 170000, 175000, 175000, 197900, 174000, 178900, 139000, 143250, 184000, 155000, 133000, 119500, 123000, 110000, 128000, 120500, 133000, 155000, 177000, 113500, 113000, 113700, 106000, 122500, 128000, 155000, 142500, 129250, 356000, 314813, 318000, 322400, 318000, 345474, 415298, 492000, 338931, 450000, 280000, 479069, 395000, 380000, 250000, 440000, 418000, 500067, 260116, 317000, 319500, 325624, 372000, 342000, 354000, 350000, 285000, 281500, 245700, 232698, 250000, 194700, 204000, 200000, 207000, 209500, 209500, 202500, 280000, 277500, 318061, 221370, 200000, 176000, 178900, 168165, 171925, 198444, 203000, 179540, 176485, 181134, 156932, 166000, 177594, 173500, 172500, 194201, 226500, 185485, 259000, 188500, 175000, 215000, 206580, 183500, 211000, 181000, 219500, 175000, 170000, 162000, 187000, 185000, 745000, 384500, 248000, 466500, 410000, 322500, 252000, 755000, 269790, 315750, 290000, 290000, 430000, 263000, 330000, 213133, 260261, 320000, 282922, 215000, 419005, 255000, 147000, 311872, 248328, 227000, 260000, 225000, 249000, 307000, 250000, 221300, 208900, 210400, 255000, 212109, 270000, 303477, 249700, 227875, 261329, 253000, 265000, 340000, 146000, 147000, 149000, 181000, 201000, 191750, 179000, 215000, 179200, 128000, 144000, 144000, 120750, 132500, 132000, 132500, 129000, 143900, 145000, 128500, 125500, 300000, 294000, 129000, 171000, 147000, 302000, 285000, 214000, 166000, 193800, 208900, 194000, 164700, 176500, 176000, 168500, 177000, 177000, 148800, 174000, 239000, 204000, 301000, 312500, 279700, 255000, 194000, 218000, 213750, 187000, 181500, 373000, 190000, 226000, 143450, 240050, 162500, 164000, 185000, 188500, 255000, 136905, 158500, 175500, 127000, 127000, 143000, 156000, 144000, 119000, 103000, 139900, 151500, 126500, 145000, 120000, 124000, 106500, 140500, 137500, 117600, 163500, 161000, 158000, 224500, 147000, 200000, 181900, 150750, 101800, 124000, 138500, 39300, 64500, 64000, 112000, 165000, 144000, 137000, 105000, 146500, 126000, 175000, 158500, 114500, 144000, 129000, 141000, 131000, 142100, 139000, 157900, 139400, 150000, 120000, 174850, 116000, 135000, 163500, 130000, 129500, 142000, 128600, 125000, 136000, 134500, 127000, 130000, 115000, 116900, 132000, 153000, 112500, 138000, 135000, 156000, 301600, 109000, 103200, 128500, 64500, 148000, 86000, 172000, 120000, 128500, 135000, 122900, 119200, 143000, 119000, 102000, 129000, 135000, 152000, 140000, 152000, 156500, 141000, 99000, 187000, 169500, 125500, 130000, 103000, 132000, 127500, 89500, 140000, 99900, 100000, 130000, 135000, 120000, 89471, 85000, 108500, 137000, 110500, 100000, 184900, 145000, 125000, 114000, 90000, 144100, 117500, 124500, 185000, 133900, 152000, 153500, 159500, 87000, 104500, 110000, 136500, 128250, 144000, 210000, 135000, 128000, 131000, 113000, 126000, 132000, 131750, 132500, 137500, 132000, 127500, 102000, 200000, 180500, 165000, 90000, 153575, 140000, 136000, 113000, 117000, 169500, 139400, 202500, 127000, 141000, 212300, 161000, 99500, 101000, 109900, 128500, 122000, 87000, 50000, 219000, 200500, 126000, 108500, 130000, 158450, 115400, 118500, 165000, 123000, 129000, 125000, 108000, 119900, 115000, 134500, 127000, 129000, 143500, 129000, 187000, 158000, 112000, 165250, 150000, 137000, 89500, 302000, 182000, 211000, 216000, 130000, 109900, 255000, 243000, 154000, 118000, 80000, 150000, 86000, 130000, 125000, 136500, 96000, 120000, 228500, 179900, 225000, 301000, 238000, 228500, 220000, 383970, 424870, 250000, 360000, 279500, 200141, 246500, 276000, 203000, 155835, 194000, 195400, 217000, 212999, 175900, 191000, 176432, 277000, 207000, 277000, 240000, 187500, 279000, 139500, 126000, 177500, 175000, 211000, 146000, 147900, 123600, 204750, 235500, 217000, 190550, 217500, 226000, 180000, 131000, 153500, 160000, 134900, 130000, 120000, 112500, 122000, 127000, 117000, 305900, 228500, 270000, 192000, 213000, 200000, 267000, 228000, 275000, 211000, 285000, 240000, 131500, 246900, 219500, 185000, 179400, 213500, 179600, 173500, 167840, 168675, 167000, 140000, 118500, 110000, 94750, 122000, 110000, 118500, 133500, 148000, 141000, 155000, 157000, 171500, 183850, 184750, 140000, 131750, 61500, 111000, 98500, 79000, 108500, 110000, 112000, 125000, 79275, 119000, 200000, 150000, 165000, 96500, 136500, 146500, 175000, 148500, 141500, 189950, 135000, 164000, 90350, 139000, 119750, 145000, 145000, 238000, 153500, 239000, 359100, 188000, 220000, 140000, 315000, 259500, 257500, 219500, 217000, 201000, 215000, 123900, 170000, 200000, 198000, 315000, 115000, 141000, 87000, 129850, 100000, 150909, 75200, 118400, 67000, 152000, 68104, 119600, 140000, 124900, 375000, 235000, 183500, 156000, 134000, 215000, 245000, 210000, 148000, 143000, 244000, 330000, 170000, 257000, 231713, 265900, 239000, 248900, 174000, 187500, 204000, 180500, 187500, 282000, 178000, 270000, 279900, 186700, 283463, 392000, 281213, 147000, 130000, 140000, 132250, 143000, 168000, 129900, 134000, 85500, 106500, 93900, 75000, 84500, 75190, 146800, 153500, 188000, 196000, 157000, 138000, 129500, 80000, 129500, 135000, 124500, 139000, 93500, 124500, 149900, 157500, 169000, 252000, 192100, 183500, 222000, 170000, 187500, 202000, 185000, 320000, 240000, 250000, 239900, 309000, 274725, 270000, 183500, 165600, 176500, 130000, 239000, 275000, 457347, 545224, 356383, 556581, 361919, 535000, 401179, 438780, 169000, 145000, 318000, 319000, 470000, 202500, 229000, 235000, 190000, 169000, 241500, 188900, 207500, 250000, 179900, 172000, 294323, 184500, 153500, 162900, 181000, 155000, 138800, 116050, 88000, 97500, 190000, 105500, 125500, 83000, 116000, 91500, 118000, 89000, 108000, 94500, 146300, 145000, 123000, 137500, 144000, 315000, 412083, 342643, 252000, 293000, 415000, 326000, 325300, 309000, 300000, 275500, 338500, 345000, 298236, 329900, 360000, 281000, 372397, 378000, 374000, 437154, 275000, 279000, 185850, 282500, 202500, 202665, 332200, 310090, 171750, 169990, 170440, 169985, 179665, 219210, 174190, 172785, 258000, 185101, 210250, 234000, 215000, 246990, 178740, 225000, 167240, 156820, 213490, 264561, 246578, 192140, 183200, 178000, 201490, 230500, 180000, 172400, 215000, 199900, 173000, 287602, 230000, 348000, 286000, 300000, 625000, 405000, 280000, 258000, 350000, 584500, 321000, 290000, 315000, 252000, 423000, 290000, 232000, 199000, 198600, 405749, 232600, 266000, 186500, 200825, 197000, 185000, 176000, 187750, 139500, 186800, 132000, 142500, 158000, 184000, 184900, 187000, 175900, 248500, 172000, 151000, 150000, 107000, 119900, 129500, 125000, 119500, 144000, 151000, 126000, 116000, 133500, 120875, 137000, 124000, 135000, 129200, 260000, 260000, 334000, 310000, 268000, 262000, 176400, 197000, 151000, 147400, 149900, 144152, 166000, 183900, 165000, 139000, 200000, 221000, 270000, 165000, 214000, 188000, 190000, 170000, 385000, 146500, 170000, 262500, 179900, 250000, 165150, 164500, 140000, 135500, 142000, 155000, 157500, 138500, 140000, 124400, 158000, 146000, 190000, 136500, 129900, 145000, 185900, 160000, 167000, 157500, 140000, 150000, 151500, 129800, 137000, 137000, 121600, 85500, 79900, 127000, 161000, 146500, 135000, 137900, 133000, 137000, 121000, 119000, 172000, 98600, 226000, 118000, 235000, 135000, 132500, 143000, 132000, 145250, 162000, 148000, 141000, 153000, 134450, 135960, 156000, 140000, 139500, 155000, 127000, 133500, 125000, 142000, 167000, 159000, 180000, 127000, 112000, 99800, 117000, 108480, 68000, 86900, 120000, 155500, 80000, 105000, 160000, 170000, 160000, 159950, 165000, 159000, 147000, 115000, 159500, 120000, 129900, 183000, 157500, 277500, 207500, 147500, 135000, 109500, 109900, 133700, 81400, 87500, 93500, 119000, 141000, 146000, 155000, 134500, 120000, 105000, 124000, 169000, 107000, 135000, 111500, 156500, 178000, 139900, 105000, 110000, 111500, 108000, 111500, 124000, 105000, 116000, 96900, 135500, 139000, 61500, 120000, 126175, 64000, 137000, 87000, 163000, 155000, 79000, 144000, 114504, 157000, 125000, 475000, 93500, 125000, 64500, 100000, 140200, 202500, 159000, 119900, 114500, 115000, 75000, 88000, 80500, 149000, 110000, 110500, 89000, 113000, 109000, 220000, 129000, 117000, 52500, 107000, 116500, 72000, 119500, 125500, 91000, 84500, 90000, 137500, 150000, 131000, 130000, 125000, 80000, 157000, 148000, 90000, 154500, 153600, 164500, 132000, 142500, 158000, 149500, 165000, 180000, 160500, 156500, 157000, 172500, 155000, 170000, 105000, 145000, 168000, 278000, 164000, 225000, 130000, 142500, 148400, 190000, 146000, 128000, 225000, 274970, 235000, 415000, 182000, 135000, 137000, 136900, 149900, 123500, 93000, 91500, 180000, 209000, 215000, 224500, 229800, 183600, 194000, 193879, 221500, 204900, 239799, 233555, 260000, 294900, 209700, 225000, 181000, 220000, 190000, 180000, 280000, 158900, 148000, 145000, 187000, 193000, 156000, 235000, 217000, 214000, 196000, 217000, 200000, 192500, 205000, 132500, 157500, 174000, 128500, 128500, 149900, 119900, 137000, 255000, 222000, 214000, 220000, 275000, 197000, 230000, 268500, 210900, 227000, 237000, 274300, 216837, 133000, 155900, 233230, 207000, 195000, 200000, 203160, 195800, 212900, 196500, 198000, 173900, 163990, 164990, 98000, 149900, 102000, 127500, 127500, 119900, 196500, 229000, 145000, 140000, 142500, 134000, 130000, 130000, 137500, 130000, 97900, 92000, 107000, 81000, 104900, 115000, 125000, 116000, 83000, 118500, 35000, 121000, 160000, 140000, 137000, 128000, 160000, 138887, 149000, 102000, 167000, 200100, 131000, 112000, 140000, 195000, 230000, 194000, 137500, 250000, 218000, 239000, 199500, 210000, 230000, 217500, 257000, 157000, 223000, 102000, 145400, 72000, 85000, 106500, 139000, 108000, 51689, 35311, 115000, 78000, 375000, 300000, 242500, 145000, 209000, 135000, 148000, 171000, 335000, 230000, 250764, 228000, 176000, 180000, 250000, 202000, 312500, 320000, 369900, 359900, 81500, 215000, 164000, 153500, 84500, 104500, 127000, 151400, 126500, 146500, 73000, 79400, 140000, 92000, 87550, 79500, 90500, 71000, 150900, 188000, 160000, 131000, 142500, 131000, 132000, 170000, 188000], \"yaxis\": \"y\"}, {\"hoverlabel\": {\"namelength\": 0}, \"hovertemplate\": \"<b>OLS trendline</b><br>SalePrice = 45225.679648 * Overall_Qual + -94894.930601<br>R<sup>2</sup>=0.638591<br><br>Overall_Qual=%{x}<br>SalePrice=%{y} <b>(trend)</b>\", \"legendgroup\": \"\", \"marker\": {\"color\": \"#636efa\", \"symbol\": \"circle\"}, \"mode\": \"lines\", \"name\": \"\", \"showlegend\": false, \"type\": \"scattergl\", \"x\": [1, 1, 1, 1, 2, 2, 2, 2, 2, 2, 2, 2, 2, 2, 2, 2, 2, 3, 3, 3, 3, 3, 3, 3, 3, 3, 3, 3, 3, 3, 3, 3, 3, 3, 3, 3, 3, 3, 3, 3, 3, 3, 3, 3, 3, 3, 3, 3, 3, 3, 3, 3, 3, 3, 3, 3, 3, 4, 4, 4, 4, 4, 4, 4, 4, 4, 4, 4, 4, 4, 4, 4, 4, 4, 4, 4, 4, 4, 4, 4, 4, 4, 4, 4, 4, 4, 4, 4, 4, 4, 4, 4, 4, 4, 4, 4, 4, 4, 4, 4, 4, 4, 4, 4, 4, 4, 4, 4, 4, 4, 4, 4, 4, 4, 4, 4, 4, 4, 4, 4, 4, 4, 4, 4, 4, 4, 4, 4, 4, 4, 4, 4, 4, 4, 4, 4, 4, 4, 4, 4, 4, 4, 4, 4, 4, 4, 4, 4, 4, 4, 4, 4, 4, 4, 4, 4, 4, 4, 4, 4, 4, 4, 4, 4, 4, 4, 4, 4, 4, 4, 4, 4, 4, 4, 4, 4, 4, 4, 4, 4, 4, 4, 4, 4, 4, 4, 4, 4, 4, 4, 4, 4, 4, 4, 4, 4, 4, 4, 4, 4, 4, 4, 4, 4, 4, 4, 4, 4, 4, 4, 4, 4, 4, 4, 4, 4, 4, 4, 4, 4, 4, 4, 4, 4, 4, 4, 4, 4, 4, 4, 4, 4, 4, 4, 4, 4, 4, 4, 4, 4, 4, 4, 4, 4, 4, 4, 4, 4, 4, 4, 4, 4, 4, 4, 4, 4, 4, 4, 4, 4, 4, 4, 4, 4, 4, 4, 4, 4, 4, 4, 4, 4, 4, 4, 4, 4, 4, 4, 4, 4, 4, 4, 5, 5, 5, 5, 5, 5, 5, 5, 5, 5, 5, 5, 5, 5, 5, 5, 5, 5, 5, 5, 5, 5, 5, 5, 5, 5, 5, 5, 5, 5, 5, 5, 5, 5, 5, 5, 5, 5, 5, 5, 5, 5, 5, 5, 5, 5, 5, 5, 5, 5, 5, 5, 5, 5, 5, 5, 5, 5, 5, 5, 5, 5, 5, 5, 5, 5, 5, 5, 5, 5, 5, 5, 5, 5, 5, 5, 5, 5, 5, 5, 5, 5, 5, 5, 5, 5, 5, 5, 5, 5, 5, 5, 5, 5, 5, 5, 5, 5, 5, 5, 5, 5, 5, 5, 5, 5, 5, 5, 5, 5, 5, 5, 5, 5, 5, 5, 5, 5, 5, 5, 5, 5, 5, 5, 5, 5, 5, 5, 5, 5, 5, 5, 5, 5, 5, 5, 5, 5, 5, 5, 5, 5, 5, 5, 5, 5, 5, 5, 5, 5, 5, 5, 5, 5, 5, 5, 5, 5, 5, 5, 5, 5, 5, 5, 5, 5, 5, 5, 5, 5, 5, 5, 5, 5, 5, 5, 5, 5, 5, 5, 5, 5, 5, 5, 5, 5, 5, 5, 5, 5, 5, 5, 5, 5, 5, 5, 5, 5, 5, 5, 5, 5, 5, 5, 5, 5, 5, 5, 5, 5, 5, 5, 5, 5, 5, 5, 5, 5, 5, 5, 5, 5, 5, 5, 5, 5, 5, 5, 5, 5, 5, 5, 5, 5, 5, 5, 5, 5, 5, 5, 5, 5, 5, 5, 5, 5, 5, 5, 5, 5, 5, 5, 5, 5, 5, 5, 5, 5, 5, 5, 5, 5, 5, 5, 5, 5, 5, 5, 5, 5, 5, 5, 5, 5, 5, 5, 5, 5, 5, 5, 5, 5, 5, 5, 5, 5, 5, 5, 5, 5, 5, 5, 5, 5, 5, 5, 5, 5, 5, 5, 5, 5, 5, 5, 5, 5, 5, 5, 5, 5, 5, 5, 5, 5, 5, 5, 5, 5, 5, 5, 5, 5, 5, 5, 5, 5, 5, 5, 5, 5, 5, 5, 5, 5, 5, 5, 5, 5, 5, 5, 5, 5, 5, 5, 5, 5, 5, 5, 5, 5, 5, 5, 5, 5, 5, 5, 5, 5, 5, 5, 5, 5, 5, 5, 5, 5, 5, 5, 5, 5, 5, 5, 5, 5, 5, 5, 5, 5, 5, 5, 5, 5, 5, 5, 5, 5, 5, 5, 5, 5, 5, 5, 5, 5, 5, 5, 5, 5, 5, 5, 5, 5, 5, 5, 5, 5, 5, 5, 5, 5, 5, 5, 5, 5, 5, 5, 5, 5, 5, 5, 5, 5, 5, 5, 5, 5, 5, 5, 5, 5, 5, 5, 5, 5, 5, 5, 5, 5, 5, 5, 5, 5, 5, 5, 5, 5, 5, 5, 5, 5, 5, 5, 5, 5, 5, 5, 5, 5, 5, 5, 5, 5, 5, 5, 5, 5, 5, 5, 5, 5, 5, 5, 5, 5, 5, 5, 5, 5, 5, 5, 5, 5, 5, 5, 5, 5, 5, 5, 5, 5, 5, 5, 5, 5, 5, 5, 5, 5, 5, 5, 5, 5, 5, 5, 5, 5, 5, 5, 5, 5, 5, 5, 5, 5, 5, 5, 5, 5, 5, 5, 5, 5, 5, 5, 5, 5, 5, 5, 5, 5, 5, 5, 5, 5, 5, 5, 5, 5, 5, 5, 5, 5, 5, 5, 5, 5, 5, 5, 5, 5, 5, 5, 5, 5, 5, 5, 5, 5, 5, 5, 5, 5, 5, 5, 5, 5, 5, 5, 5, 5, 5, 5, 5, 5, 5, 5, 5, 5, 5, 5, 5, 5, 5, 5, 5, 5, 5, 5, 5, 5, 5, 5, 5, 5, 5, 5, 5, 5, 5, 5, 5, 5, 5, 5, 5, 5, 5, 5, 5, 5, 5, 5, 5, 5, 5, 5, 5, 5, 5, 5, 5, 5, 5, 5, 5, 5, 5, 5, 5, 5, 5, 5, 5, 5, 5, 5, 5, 5, 5, 5, 5, 5, 5, 5, 5, 5, 5, 5, 5, 5, 5, 5, 5, 5, 5, 5, 5, 5, 5, 5, 5, 5, 5, 5, 5, 5, 5, 5, 5, 5, 5, 5, 5, 5, 5, 5, 5, 5, 5, 5, 5, 5, 5, 5, 5, 5, 5, 5, 5, 5, 5, 5, 5, 5, 5, 5, 5, 5, 5, 5, 5, 5, 5, 5, 5, 5, 5, 5, 5, 5, 5, 5, 5, 5, 5, 5, 5, 5, 5, 5, 5, 5, 5, 5, 5, 5, 5, 5, 5, 5, 5, 5, 5, 5, 5, 5, 5, 5, 5, 5, 5, 5, 5, 5, 5, 5, 5, 5, 5, 5, 5, 5, 5, 5, 5, 5, 5, 5, 5, 5, 5, 5, 5, 5, 5, 5, 5, 5, 5, 5, 5, 5, 5, 5, 5, 5, 5, 5, 5, 5, 5, 5, 5, 5, 5, 5, 5, 5, 5, 5, 5, 5, 5, 5, 5, 5, 5, 5, 5, 5, 5, 5, 5, 5, 5, 5, 5, 5, 5, 5, 5, 5, 5, 5, 5, 5, 5, 5, 5, 5, 5, 5, 5, 6, 6, 6, 6, 6, 6, 6, 6, 6, 6, 6, 6, 6, 6, 6, 6, 6, 6, 6, 6, 6, 6, 6, 6, 6, 6, 6, 6, 6, 6, 6, 6, 6, 6, 6, 6, 6, 6, 6, 6, 6, 6, 6, 6, 6, 6, 6, 6, 6, 6, 6, 6, 6, 6, 6, 6, 6, 6, 6, 6, 6, 6, 6, 6, 6, 6, 6, 6, 6, 6, 6, 6, 6, 6, 6, 6, 6, 6, 6, 6, 6, 6, 6, 6, 6, 6, 6, 6, 6, 6, 6, 6, 6, 6, 6, 6, 6, 6, 6, 6, 6, 6, 6, 6, 6, 6, 6, 6, 6, 6, 6, 6, 6, 6, 6, 6, 6, 6, 6, 6, 6, 6, 6, 6, 6, 6, 6, 6, 6, 6, 6, 6, 6, 6, 6, 6, 6, 6, 6, 6, 6, 6, 6, 6, 6, 6, 6, 6, 6, 6, 6, 6, 6, 6, 6, 6, 6, 6, 6, 6, 6, 6, 6, 6, 6, 6, 6, 6, 6, 6, 6, 6, 6, 6, 6, 6, 6, 6, 6, 6, 6, 6, 6, 6, 6, 6, 6, 6, 6, 6, 6, 6, 6, 6, 6, 6, 6, 6, 6, 6, 6, 6, 6, 6, 6, 6, 6, 6, 6, 6, 6, 6, 6, 6, 6, 6, 6, 6, 6, 6, 6, 6, 6, 6, 6, 6, 6, 6, 6, 6, 6, 6, 6, 6, 6, 6, 6, 6, 6, 6, 6, 6, 6, 6, 6, 6, 6, 6, 6, 6, 6, 6, 6, 6, 6, 6, 6, 6, 6, 6, 6, 6, 6, 6, 6, 6, 6, 6, 6, 6, 6, 6, 6, 6, 6, 6, 6, 6, 6, 6, 6, 6, 6, 6, 6, 6, 6, 6, 6, 6, 6, 6, 6, 6, 6, 6, 6, 6, 6, 6, 6, 6, 6, 6, 6, 6, 6, 6, 6, 6, 6, 6, 6, 6, 6, 6, 6, 6, 6, 6, 6, 6, 6, 6, 6, 6, 6, 6, 6, 6, 6, 6, 6, 6, 6, 6, 6, 6, 6, 6, 6, 6, 6, 6, 6, 6, 6, 6, 6, 6, 6, 6, 6, 6, 6, 6, 6, 6, 6, 6, 6, 6, 6, 6, 6, 6, 6, 6, 6, 6, 6, 6, 6, 6, 6, 6, 6, 6, 6, 6, 6, 6, 6, 6, 6, 6, 6, 6, 6, 6, 6, 6, 6, 6, 6, 6, 6, 6, 6, 6, 6, 6, 6, 6, 6, 6, 6, 6, 6, 6, 6, 6, 6, 6, 6, 6, 6, 6, 6, 6, 6, 6, 6, 6, 6, 6, 6, 6, 6, 6, 6, 6, 6, 6, 6, 6, 6, 6, 6, 6, 6, 6, 6, 6, 6, 6, 6, 6, 6, 6, 6, 6, 6, 6, 6, 6, 6, 6, 6, 6, 6, 6, 6, 6, 6, 6, 6, 6, 6, 6, 6, 6, 6, 6, 6, 6, 6, 6, 6, 6, 6, 6, 6, 6, 6, 6, 6, 6, 6, 6, 6, 6, 6, 6, 6, 6, 6, 6, 6, 6, 6, 6, 6, 6, 6, 6, 6, 6, 6, 6, 6, 6, 6, 6, 6, 6, 6, 6, 6, 6, 6, 6, 6, 6, 6, 6, 6, 6, 6, 6, 6, 6, 6, 6, 6, 6, 6, 6, 6, 6, 6, 6, 6, 6, 6, 6, 6, 6, 6, 6, 6, 6, 6, 6, 6, 6, 6, 6, 6, 6, 6, 6, 6, 6, 6, 6, 6, 6, 6, 6, 6, 6, 6, 6, 6, 6, 6, 6, 6, 6, 6, 6, 6, 6, 6, 6, 6, 6, 6, 6, 6, 6, 6, 6, 6, 6, 6, 6, 6, 6, 6, 6, 6, 6, 6, 6, 6, 6, 6, 6, 6, 6, 6, 6, 6, 6, 6, 6, 6, 6, 6, 6, 6, 6, 6, 6, 6, 6, 6, 6, 6, 6, 6, 6, 6, 6, 6, 6, 6, 6, 6, 6, 6, 6, 6, 6, 6, 6, 6, 6, 6, 6, 6, 6, 6, 6, 6, 6, 6, 6, 6, 6, 6, 6, 6, 6, 6, 6, 6, 6, 6, 6, 6, 6, 6, 6, 6, 6, 6, 6, 6, 6, 6, 6, 6, 6, 6, 6, 6, 6, 6, 6, 6, 6, 6, 6, 6, 6, 6, 6, 6, 6, 6, 6, 6, 6, 6, 6, 6, 6, 6, 6, 6, 6, 6, 6, 6, 6, 6, 6, 6, 6, 6, 6, 6, 6, 6, 6, 7, 7, 7, 7, 7, 7, 7, 7, 7, 7, 7, 7, 7, 7, 7, 7, 7, 7, 7, 7, 7, 7, 7, 7, 7, 7, 7, 7, 7, 7, 7, 7, 7, 7, 7, 7, 7, 7, 7, 7, 7, 7, 7, 7, 7, 7, 7, 7, 7, 7, 7, 7, 7, 7, 7, 7, 7, 7, 7, 7, 7, 7, 7, 7, 7, 7, 7, 7, 7, 7, 7, 7, 7, 7, 7, 7, 7, 7, 7, 7, 7, 7, 7, 7, 7, 7, 7, 7, 7, 7, 7, 7, 7, 7, 7, 7, 7, 7, 7, 7, 7, 7, 7, 7, 7, 7, 7, 7, 7, 7, 7, 7, 7, 7, 7, 7, 7, 7, 7, 7, 7, 7, 7, 7, 7, 7, 7, 7, 7, 7, 7, 7, 7, 7, 7, 7, 7, 7, 7, 7, 7, 7, 7, 7, 7, 7, 7, 7, 7, 7, 7, 7, 7, 7, 7, 7, 7, 7, 7, 7, 7, 7, 7, 7, 7, 7, 7, 7, 7, 7, 7, 7, 7, 7, 7, 7, 7, 7, 7, 7, 7, 7, 7, 7, 7, 7, 7, 7, 7, 7, 7, 7, 7, 7, 7, 7, 7, 7, 7, 7, 7, 7, 7, 7, 7, 7, 7, 7, 7, 7, 7, 7, 7, 7, 7, 7, 7, 7, 7, 7, 7, 7, 7, 7, 7, 7, 7, 7, 7, 7, 7, 7, 7, 7, 7, 7, 7, 7, 7, 7, 7, 7, 7, 7, 7, 7, 7, 7, 7, 7, 7, 7, 7, 7, 7, 7, 7, 7, 7, 7, 7, 7, 7, 7, 7, 7, 7, 7, 7, 7, 7, 7, 7, 7, 7, 7, 7, 7, 7, 7, 7, 7, 7, 7, 7, 7, 7, 7, 7, 7, 7, 7, 7, 7, 7, 7, 7, 7, 7, 7, 7, 7, 7, 7, 7, 7, 7, 7, 7, 7, 7, 7, 7, 7, 7, 7, 7, 7, 7, 7, 7, 7, 7, 7, 7, 7, 7, 7, 7, 7, 7, 7, 7, 7, 7, 7, 7, 7, 7, 7, 7, 7, 7, 7, 7, 7, 7, 7, 7, 7, 7, 7, 7, 7, 7, 7, 7, 7, 7, 7, 7, 7, 7, 7, 7, 7, 7, 7, 7, 7, 7, 7, 7, 7, 7, 7, 7, 7, 7, 7, 7, 7, 7, 7, 7, 7, 7, 7, 7, 7, 7, 7, 7, 7, 7, 7, 7, 7, 7, 7, 7, 7, 7, 7, 7, 7, 7, 7, 7, 7, 7, 7, 7, 7, 7, 7, 7, 7, 7, 7, 7, 7, 7, 7, 7, 7, 7, 7, 7, 7, 7, 7, 7, 7, 7, 7, 7, 7, 7, 7, 7, 7, 7, 7, 7, 7, 7, 7, 7, 7, 7, 7, 7, 7, 7, 7, 7, 7, 7, 7, 7, 7, 7, 7, 7, 7, 7, 7, 7, 7, 7, 7, 7, 7, 7, 7, 7, 7, 7, 7, 7, 7, 7, 7, 7, 7, 7, 7, 7, 7, 7, 7, 7, 7, 7, 7, 7, 7, 7, 7, 7, 7, 7, 7, 7, 7, 7, 7, 7, 7, 7, 7, 7, 7, 7, 7, 7, 7, 7, 7, 7, 7, 7, 7, 7, 7, 7, 7, 7, 7, 7, 7, 7, 7, 7, 7, 7, 7, 7, 7, 7, 7, 7, 7, 7, 7, 7, 7, 7, 7, 7, 7, 7, 7, 7, 7, 7, 7, 7, 7, 7, 7, 7, 7, 7, 7, 7, 7, 7, 7, 7, 7, 7, 7, 7, 7, 7, 7, 7, 7, 7, 7, 7, 7, 7, 7, 7, 7, 7, 7, 7, 7, 8, 8, 8, 8, 8, 8, 8, 8, 8, 8, 8, 8, 8, 8, 8, 8, 8, 8, 8, 8, 8, 8, 8, 8, 8, 8, 8, 8, 8, 8, 8, 8, 8, 8, 8, 8, 8, 8, 8, 8, 8, 8, 8, 8, 8, 8, 8, 8, 8, 8, 8, 8, 8, 8, 8, 8, 8, 8, 8, 8, 8, 8, 8, 8, 8, 8, 8, 8, 8, 8, 8, 8, 8, 8, 8, 8, 8, 8, 8, 8, 8, 8, 8, 8, 8, 8, 8, 8, 8, 8, 8, 8, 8, 8, 8, 8, 8, 8, 8, 8, 8, 8, 8, 8, 8, 8, 8, 8, 8, 8, 8, 8, 8, 8, 8, 8, 8, 8, 8, 8, 8, 8, 8, 8, 8, 8, 8, 8, 8, 8, 8, 8, 8, 8, 8, 8, 8, 8, 8, 8, 8, 8, 8, 8, 8, 8, 8, 8, 8, 8, 8, 8, 8, 8, 8, 8, 8, 8, 8, 8, 8, 8, 8, 8, 8, 8, 8, 8, 8, 8, 8, 8, 8, 8, 8, 8, 8, 8, 8, 8, 8, 8, 8, 8, 8, 8, 8, 8, 8, 8, 8, 8, 8, 8, 8, 8, 8, 8, 8, 8, 8, 8, 8, 8, 8, 8, 8, 8, 8, 8, 8, 8, 8, 8, 8, 8, 8, 8, 8, 8, 8, 8, 8, 8, 8, 8, 8, 8, 8, 8, 8, 8, 8, 8, 8, 8, 8, 8, 8, 8, 8, 8, 8, 8, 8, 8, 8, 8, 8, 8, 8, 8, 8, 8, 8, 8, 8, 8, 8, 8, 8, 8, 8, 8, 8, 8, 8, 8, 8, 8, 8, 8, 8, 8, 8, 8, 8, 8, 8, 8, 8, 8, 8, 8, 8, 8, 8, 8, 8, 8, 8, 8, 8, 8, 8, 8, 8, 8, 8, 8, 8, 8, 8, 8, 8, 8, 8, 8, 8, 8, 8, 8, 8, 8, 8, 8, 8, 8, 8, 8, 8, 8, 8, 8, 8, 8, 8, 8, 8, 8, 8, 8, 8, 8, 8, 8, 8, 8, 8, 8, 8, 8, 9, 9, 9, 9, 9, 9, 9, 9, 9, 9, 9, 9, 9, 9, 9, 9, 9, 9, 9, 9, 9, 9, 9, 9, 9, 9, 9, 9, 9, 9, 9, 9, 9, 9, 9, 9, 9, 9, 9, 9, 9, 9, 9, 9, 9, 9, 9, 9, 9, 9, 9, 9, 9, 9, 9, 9, 9, 9, 9, 9, 9, 9, 9, 9, 9, 9, 9, 9, 9, 9, 9, 9, 9, 9, 9, 9, 9, 9, 9, 9, 9, 9, 9, 9, 9, 9, 9, 9, 9, 9, 9, 9, 9, 9, 9, 9, 9, 9, 9, 9, 9, 9, 9, 9, 9, 9, 9, 10, 10, 10, 10, 10, 10, 10, 10, 10, 10, 10, 10, 10, 10, 10, 10, 10, 10, 10, 10, 10, 10, 10, 10, 10, 10, 10, 10, 10, 10], \"xaxis\": \"x\", \"y\": [-49669.250952733986, -49669.250952733986, -49669.250952733986, -49669.250952733986, -4443.571304295008, -4443.571304295008, -4443.571304295008, -4443.571304295008, -4443.571304295008, -4443.571304295008, -4443.571304295008, -4443.571304295008, -4443.571304295008, -4443.571304295008, -4443.571304295008, -4443.571304295008, -4443.571304295008, 40782.108344143955, 40782.108344143955, 40782.108344143955, 40782.108344143955, 40782.108344143955, 40782.108344143955, 40782.108344143955, 40782.108344143955, 40782.108344143955, 40782.108344143955, 40782.108344143955, 40782.108344143955, 40782.108344143955, 40782.108344143955, 40782.108344143955, 40782.108344143955, 40782.108344143955, 40782.108344143955, 40782.108344143955, 40782.108344143955, 40782.108344143955, 40782.108344143955, 40782.108344143955, 40782.108344143955, 40782.108344143955, 40782.108344143955, 40782.108344143955, 40782.108344143955, 40782.108344143955, 40782.108344143955, 40782.108344143955, 40782.108344143955, 40782.108344143955, 40782.108344143955, 40782.108344143955, 40782.108344143955, 40782.108344143955, 40782.108344143955, 40782.108344143955, 40782.108344143955, 86007.78799258295, 86007.78799258295, 86007.78799258295, 86007.78799258295, 86007.78799258295, 86007.78799258295, 86007.78799258295, 86007.78799258295, 86007.78799258295, 86007.78799258295, 86007.78799258295, 86007.78799258295, 86007.78799258295, 86007.78799258295, 86007.78799258295, 86007.78799258295, 86007.78799258295, 86007.78799258295, 86007.78799258295, 86007.78799258295, 86007.78799258295, 86007.78799258295, 86007.78799258295, 86007.78799258295, 86007.78799258295, 86007.78799258295, 86007.78799258295, 86007.78799258295, 86007.78799258295, 86007.78799258295, 86007.78799258295, 86007.78799258295, 86007.78799258295, 86007.78799258295, 86007.78799258295, 86007.78799258295, 86007.78799258295, 86007.78799258295, 86007.78799258295, 86007.78799258295, 86007.78799258295, 86007.78799258295, 86007.78799258295, 86007.78799258295, 86007.78799258295, 86007.78799258295, 86007.78799258295, 86007.78799258295, 86007.78799258295, 86007.78799258295, 86007.78799258295, 86007.78799258295, 86007.78799258295, 86007.78799258295, 86007.78799258295, 86007.78799258295, 86007.78799258295, 86007.78799258295, 86007.78799258295, 86007.78799258295, 86007.78799258295, 86007.78799258295, 86007.78799258295, 86007.78799258295, 86007.78799258295, 86007.78799258295, 86007.78799258295, 86007.78799258295, 86007.78799258295, 86007.78799258295, 86007.78799258295, 86007.78799258295, 86007.78799258295, 86007.78799258295, 86007.78799258295, 86007.78799258295, 86007.78799258295, 86007.78799258295, 86007.78799258295, 86007.78799258295, 86007.78799258295, 86007.78799258295, 86007.78799258295, 86007.78799258295, 86007.78799258295, 86007.78799258295, 86007.78799258295, 86007.78799258295, 86007.78799258295, 86007.78799258295, 86007.78799258295, 86007.78799258295, 86007.78799258295, 86007.78799258295, 86007.78799258295, 86007.78799258295, 86007.78799258295, 86007.78799258295, 86007.78799258295, 86007.78799258295, 86007.78799258295, 86007.78799258295, 86007.78799258295, 86007.78799258295, 86007.78799258295, 86007.78799258295, 86007.78799258295, 86007.78799258295, 86007.78799258295, 86007.78799258295, 86007.78799258295, 86007.78799258295, 86007.78799258295, 86007.78799258295, 86007.78799258295, 86007.78799258295, 86007.78799258295, 86007.78799258295, 86007.78799258295, 86007.78799258295, 86007.78799258295, 86007.78799258295, 86007.78799258295, 86007.78799258295, 86007.78799258295, 86007.78799258295, 86007.78799258295, 86007.78799258295, 86007.78799258295, 86007.78799258295, 86007.78799258295, 86007.78799258295, 86007.78799258295, 86007.78799258295, 86007.78799258295, 86007.78799258295, 86007.78799258295, 86007.78799258295, 86007.78799258295, 86007.78799258295, 86007.78799258295, 86007.78799258295, 86007.78799258295, 86007.78799258295, 86007.78799258295, 86007.78799258295, 86007.78799258295, 86007.78799258295, 86007.78799258295, 86007.78799258295, 86007.78799258295, 86007.78799258295, 86007.78799258295, 86007.78799258295, 86007.78799258295, 86007.78799258295, 86007.78799258295, 86007.78799258295, 86007.78799258295, 86007.78799258295, 86007.78799258295, 86007.78799258295, 86007.78799258295, 86007.78799258295, 86007.78799258295, 86007.78799258295, 86007.78799258295, 86007.78799258295, 86007.78799258295, 86007.78799258295, 86007.78799258295, 86007.78799258295, 86007.78799258295, 86007.78799258295, 86007.78799258295, 86007.78799258295, 86007.78799258295, 86007.78799258295, 86007.78799258295, 86007.78799258295, 86007.78799258295, 86007.78799258295, 86007.78799258295, 86007.78799258295, 86007.78799258295, 86007.78799258295, 86007.78799258295, 86007.78799258295, 86007.78799258295, 86007.78799258295, 86007.78799258295, 86007.78799258295, 86007.78799258295, 86007.78799258295, 86007.78799258295, 86007.78799258295, 86007.78799258295, 86007.78799258295, 86007.78799258295, 86007.78799258295, 86007.78799258295, 86007.78799258295, 86007.78799258295, 86007.78799258295, 86007.78799258295, 86007.78799258295, 86007.78799258295, 86007.78799258295, 86007.78799258295, 86007.78799258295, 86007.78799258295, 86007.78799258295, 86007.78799258295, 86007.78799258295, 86007.78799258295, 86007.78799258295, 86007.78799258295, 86007.78799258295, 86007.78799258295, 86007.78799258295, 86007.78799258295, 86007.78799258295, 86007.78799258295, 86007.78799258295, 86007.78799258295, 131233.46764102194, 131233.46764102194, 131233.46764102194, 131233.46764102194, 131233.46764102194, 131233.46764102194, 131233.46764102194, 131233.46764102194, 131233.46764102194, 131233.46764102194, 131233.46764102194, 131233.46764102194, 131233.46764102194, 131233.46764102194, 131233.46764102194, 131233.46764102194, 131233.46764102194, 131233.46764102194, 131233.46764102194, 131233.46764102194, 131233.46764102194, 131233.46764102194, 131233.46764102194, 131233.46764102194, 131233.46764102194, 131233.46764102194, 131233.46764102194, 131233.46764102194, 131233.46764102194, 131233.46764102194, 131233.46764102194, 131233.46764102194, 131233.46764102194, 131233.46764102194, 131233.46764102194, 131233.46764102194, 131233.46764102194, 131233.46764102194, 131233.46764102194, 131233.46764102194, 131233.46764102194, 131233.46764102194, 131233.46764102194, 131233.46764102194, 131233.46764102194, 131233.46764102194, 131233.46764102194, 131233.46764102194, 131233.46764102194, 131233.46764102194, 131233.46764102194, 131233.46764102194, 131233.46764102194, 131233.46764102194, 131233.46764102194, 131233.46764102194, 131233.46764102194, 131233.46764102194, 131233.46764102194, 131233.46764102194, 131233.46764102194, 131233.46764102194, 131233.46764102194, 131233.46764102194, 131233.46764102194, 131233.46764102194, 131233.46764102194, 131233.46764102194, 131233.46764102194, 131233.46764102194, 131233.46764102194, 131233.46764102194, 131233.46764102194, 131233.46764102194, 131233.46764102194, 131233.46764102194, 131233.46764102194, 131233.46764102194, 131233.46764102194, 131233.46764102194, 131233.46764102194, 131233.46764102194, 131233.46764102194, 131233.46764102194, 131233.46764102194, 131233.46764102194, 131233.46764102194, 131233.46764102194, 131233.46764102194, 131233.46764102194, 131233.46764102194, 131233.46764102194, 131233.46764102194, 131233.46764102194, 131233.46764102194, 131233.46764102194, 131233.46764102194, 131233.46764102194, 131233.46764102194, 131233.46764102194, 131233.46764102194, 131233.46764102194, 131233.46764102194, 131233.46764102194, 131233.46764102194, 131233.46764102194, 131233.46764102194, 131233.46764102194, 131233.46764102194, 131233.46764102194, 131233.46764102194, 131233.46764102194, 131233.46764102194, 131233.46764102194, 131233.46764102194, 131233.46764102194, 131233.46764102194, 131233.46764102194, 131233.46764102194, 131233.46764102194, 131233.46764102194, 131233.46764102194, 131233.46764102194, 131233.46764102194, 131233.46764102194, 131233.46764102194, 131233.46764102194, 131233.46764102194, 131233.46764102194, 131233.46764102194, 131233.46764102194, 131233.46764102194, 131233.46764102194, 131233.46764102194, 131233.46764102194, 131233.46764102194, 131233.46764102194, 131233.46764102194, 131233.46764102194, 131233.46764102194, 131233.46764102194, 131233.46764102194, 131233.46764102194, 131233.46764102194, 131233.46764102194, 131233.46764102194, 131233.46764102194, 131233.46764102194, 131233.46764102194, 131233.46764102194, 131233.46764102194, 131233.46764102194, 131233.46764102194, 131233.46764102194, 131233.46764102194, 131233.46764102194, 131233.46764102194, 131233.46764102194, 131233.46764102194, 131233.46764102194, 131233.46764102194, 131233.46764102194, 131233.46764102194, 131233.46764102194, 131233.46764102194, 131233.46764102194, 131233.46764102194, 131233.46764102194, 131233.46764102194, 131233.46764102194, 131233.46764102194, 131233.46764102194, 131233.46764102194, 131233.46764102194, 131233.46764102194, 131233.46764102194, 131233.46764102194, 131233.46764102194, 131233.46764102194, 131233.46764102194, 131233.46764102194, 131233.46764102194, 131233.46764102194, 131233.46764102194, 131233.46764102194, 131233.46764102194, 131233.46764102194, 131233.46764102194, 131233.46764102194, 131233.46764102194, 131233.46764102194, 131233.46764102194, 131233.46764102194, 131233.46764102194, 131233.46764102194, 131233.46764102194, 131233.46764102194, 131233.46764102194, 131233.46764102194, 131233.46764102194, 131233.46764102194, 131233.46764102194, 131233.46764102194, 131233.46764102194, 131233.46764102194, 131233.46764102194, 131233.46764102194, 131233.46764102194, 131233.46764102194, 131233.46764102194, 131233.46764102194, 131233.46764102194, 131233.46764102194, 131233.46764102194, 131233.46764102194, 131233.46764102194, 131233.46764102194, 131233.46764102194, 131233.46764102194, 131233.46764102194, 131233.46764102194, 131233.46764102194, 131233.46764102194, 131233.46764102194, 131233.46764102194, 131233.46764102194, 131233.46764102194, 131233.46764102194, 131233.46764102194, 131233.46764102194, 131233.46764102194, 131233.46764102194, 131233.46764102194, 131233.46764102194, 131233.46764102194, 131233.46764102194, 131233.46764102194, 131233.46764102194, 131233.46764102194, 131233.46764102194, 131233.46764102194, 131233.46764102194, 131233.46764102194, 131233.46764102194, 131233.46764102194, 131233.46764102194, 131233.46764102194, 131233.46764102194, 131233.46764102194, 131233.46764102194, 131233.46764102194, 131233.46764102194, 131233.46764102194, 131233.46764102194, 131233.46764102194, 131233.46764102194, 131233.46764102194, 131233.46764102194, 131233.46764102194, 131233.46764102194, 131233.46764102194, 131233.46764102194, 131233.46764102194, 131233.46764102194, 131233.46764102194, 131233.46764102194, 131233.46764102194, 131233.46764102194, 131233.46764102194, 131233.46764102194, 131233.46764102194, 131233.46764102194, 131233.46764102194, 131233.46764102194, 131233.46764102194, 131233.46764102194, 131233.46764102194, 131233.46764102194, 131233.46764102194, 131233.46764102194, 131233.46764102194, 131233.46764102194, 131233.46764102194, 131233.46764102194, 131233.46764102194, 131233.46764102194, 131233.46764102194, 131233.46764102194, 131233.46764102194, 131233.46764102194, 131233.46764102194, 131233.46764102194, 131233.46764102194, 131233.46764102194, 131233.46764102194, 131233.46764102194, 131233.46764102194, 131233.46764102194, 131233.46764102194, 131233.46764102194, 131233.46764102194, 131233.46764102194, 131233.46764102194, 131233.46764102194, 131233.46764102194, 131233.46764102194, 131233.46764102194, 131233.46764102194, 131233.46764102194, 131233.46764102194, 131233.46764102194, 131233.46764102194, 131233.46764102194, 131233.46764102194, 131233.46764102194, 131233.46764102194, 131233.46764102194, 131233.46764102194, 131233.46764102194, 131233.46764102194, 131233.46764102194, 131233.46764102194, 131233.46764102194, 131233.46764102194, 131233.46764102194, 131233.46764102194, 131233.46764102194, 131233.46764102194, 131233.46764102194, 131233.46764102194, 131233.46764102194, 131233.46764102194, 131233.46764102194, 131233.46764102194, 131233.46764102194, 131233.46764102194, 131233.46764102194, 131233.46764102194, 131233.46764102194, 131233.46764102194, 131233.46764102194, 131233.46764102194, 131233.46764102194, 131233.46764102194, 131233.46764102194, 131233.46764102194, 131233.46764102194, 131233.46764102194, 131233.46764102194, 131233.46764102194, 131233.46764102194, 131233.46764102194, 131233.46764102194, 131233.46764102194, 131233.46764102194, 131233.46764102194, 131233.46764102194, 131233.46764102194, 131233.46764102194, 131233.46764102194, 131233.46764102194, 131233.46764102194, 131233.46764102194, 131233.46764102194, 131233.46764102194, 131233.46764102194, 131233.46764102194, 131233.46764102194, 131233.46764102194, 131233.46764102194, 131233.46764102194, 131233.46764102194, 131233.46764102194, 131233.46764102194, 131233.46764102194, 131233.46764102194, 131233.46764102194, 131233.46764102194, 131233.46764102194, 131233.46764102194, 131233.46764102194, 131233.46764102194, 131233.46764102194, 131233.46764102194, 131233.46764102194, 131233.46764102194, 131233.46764102194, 131233.46764102194, 131233.46764102194, 131233.46764102194, 131233.46764102194, 131233.46764102194, 131233.46764102194, 131233.46764102194, 131233.46764102194, 131233.46764102194, 131233.46764102194, 131233.46764102194, 131233.46764102194, 131233.46764102194, 131233.46764102194, 131233.46764102194, 131233.46764102194, 131233.46764102194, 131233.46764102194, 131233.46764102194, 131233.46764102194, 131233.46764102194, 131233.46764102194, 131233.46764102194, 131233.46764102194, 131233.46764102194, 131233.46764102194, 131233.46764102194, 131233.46764102194, 131233.46764102194, 131233.46764102194, 131233.46764102194, 131233.46764102194, 131233.46764102194, 131233.46764102194, 131233.46764102194, 131233.46764102194, 131233.46764102194, 131233.46764102194, 131233.46764102194, 131233.46764102194, 131233.46764102194, 131233.46764102194, 131233.46764102194, 131233.46764102194, 131233.46764102194, 131233.46764102194, 131233.46764102194, 131233.46764102194, 131233.46764102194, 131233.46764102194, 131233.46764102194, 131233.46764102194, 131233.46764102194, 131233.46764102194, 131233.46764102194, 131233.46764102194, 131233.46764102194, 131233.46764102194, 131233.46764102194, 131233.46764102194, 131233.46764102194, 131233.46764102194, 131233.46764102194, 131233.46764102194, 131233.46764102194, 131233.46764102194, 131233.46764102194, 131233.46764102194, 131233.46764102194, 131233.46764102194, 131233.46764102194, 131233.46764102194, 131233.46764102194, 131233.46764102194, 131233.46764102194, 131233.46764102194, 131233.46764102194, 131233.46764102194, 131233.46764102194, 131233.46764102194, 131233.46764102194, 131233.46764102194, 131233.46764102194, 131233.46764102194, 131233.46764102194, 131233.46764102194, 131233.46764102194, 131233.46764102194, 131233.46764102194, 131233.46764102194, 131233.46764102194, 131233.46764102194, 131233.46764102194, 131233.46764102194, 131233.46764102194, 131233.46764102194, 131233.46764102194, 131233.46764102194, 131233.46764102194, 131233.46764102194, 131233.46764102194, 131233.46764102194, 131233.46764102194, 131233.46764102194, 131233.46764102194, 131233.46764102194, 131233.46764102194, 131233.46764102194, 131233.46764102194, 131233.46764102194, 131233.46764102194, 131233.46764102194, 131233.46764102194, 131233.46764102194, 131233.46764102194, 131233.46764102194, 131233.46764102194, 131233.46764102194, 131233.46764102194, 131233.46764102194, 131233.46764102194, 131233.46764102194, 131233.46764102194, 131233.46764102194, 131233.46764102194, 131233.46764102194, 131233.46764102194, 131233.46764102194, 131233.46764102194, 131233.46764102194, 131233.46764102194, 131233.46764102194, 131233.46764102194, 131233.46764102194, 131233.46764102194, 131233.46764102194, 131233.46764102194, 131233.46764102194, 131233.46764102194, 131233.46764102194, 131233.46764102194, 131233.46764102194, 131233.46764102194, 131233.46764102194, 131233.46764102194, 131233.46764102194, 131233.46764102194, 131233.46764102194, 131233.46764102194, 131233.46764102194, 131233.46764102194, 131233.46764102194, 131233.46764102194, 131233.46764102194, 131233.46764102194, 131233.46764102194, 131233.46764102194, 131233.46764102194, 131233.46764102194, 131233.46764102194, 131233.46764102194, 131233.46764102194, 131233.46764102194, 131233.46764102194, 131233.46764102194, 131233.46764102194, 131233.46764102194, 131233.46764102194, 131233.46764102194, 131233.46764102194, 131233.46764102194, 131233.46764102194, 131233.46764102194, 131233.46764102194, 131233.46764102194, 131233.46764102194, 131233.46764102194, 131233.46764102194, 131233.46764102194, 131233.46764102194, 131233.46764102194, 131233.46764102194, 131233.46764102194, 131233.46764102194, 131233.46764102194, 131233.46764102194, 131233.46764102194, 131233.46764102194, 131233.46764102194, 131233.46764102194, 131233.46764102194, 131233.46764102194, 131233.46764102194, 131233.46764102194, 131233.46764102194, 131233.46764102194, 131233.46764102194, 131233.46764102194, 131233.46764102194, 131233.46764102194, 131233.46764102194, 131233.46764102194, 131233.46764102194, 131233.46764102194, 131233.46764102194, 131233.46764102194, 131233.46764102194, 131233.46764102194, 131233.46764102194, 131233.46764102194, 131233.46764102194, 131233.46764102194, 131233.46764102194, 131233.46764102194, 131233.46764102194, 131233.46764102194, 131233.46764102194, 131233.46764102194, 131233.46764102194, 131233.46764102194, 131233.46764102194, 131233.46764102194, 131233.46764102194, 131233.46764102194, 131233.46764102194, 131233.46764102194, 131233.46764102194, 131233.46764102194, 131233.46764102194, 131233.46764102194, 131233.46764102194, 131233.46764102194, 131233.46764102194, 131233.46764102194, 131233.46764102194, 131233.46764102194, 131233.46764102194, 131233.46764102194, 131233.46764102194, 131233.46764102194, 131233.46764102194, 131233.46764102194, 131233.46764102194, 131233.46764102194, 131233.46764102194, 131233.46764102194, 131233.46764102194, 131233.46764102194, 131233.46764102194, 131233.46764102194, 131233.46764102194, 131233.46764102194, 131233.46764102194, 131233.46764102194, 131233.46764102194, 131233.46764102194, 131233.46764102194, 131233.46764102194, 131233.46764102194, 131233.46764102194, 131233.46764102194, 131233.46764102194, 131233.46764102194, 131233.46764102194, 131233.46764102194, 131233.46764102194, 131233.46764102194, 131233.46764102194, 131233.46764102194, 131233.46764102194, 131233.46764102194, 131233.46764102194, 131233.46764102194, 131233.46764102194, 131233.46764102194, 131233.46764102194, 131233.46764102194, 131233.46764102194, 131233.46764102194, 131233.46764102194, 131233.46764102194, 131233.46764102194, 131233.46764102194, 131233.46764102194, 131233.46764102194, 131233.46764102194, 131233.46764102194, 131233.46764102194, 131233.46764102194, 131233.46764102194, 131233.46764102194, 131233.46764102194, 131233.46764102194, 131233.46764102194, 131233.46764102194, 131233.46764102194, 131233.46764102194, 131233.46764102194, 131233.46764102194, 131233.46764102194, 131233.46764102194, 131233.46764102194, 131233.46764102194, 131233.46764102194, 131233.46764102194, 131233.46764102194, 131233.46764102194, 131233.46764102194, 131233.46764102194, 131233.46764102194, 131233.46764102194, 131233.46764102194, 131233.46764102194, 131233.46764102194, 131233.46764102194, 131233.46764102194, 131233.46764102194, 131233.46764102194, 131233.46764102194, 131233.46764102194, 131233.46764102194, 131233.46764102194, 131233.46764102194, 131233.46764102194, 131233.46764102194, 131233.46764102194, 131233.46764102194, 131233.46764102194, 131233.46764102194, 131233.46764102194, 131233.46764102194, 131233.46764102194, 131233.46764102194, 131233.46764102194, 131233.46764102194, 131233.46764102194, 131233.46764102194, 131233.46764102194, 131233.46764102194, 131233.46764102194, 131233.46764102194, 131233.46764102194, 131233.46764102194, 131233.46764102194, 131233.46764102194, 131233.46764102194, 131233.46764102194, 131233.46764102194, 131233.46764102194, 131233.46764102194, 131233.46764102194, 131233.46764102194, 131233.46764102194, 131233.46764102194, 131233.46764102194, 131233.46764102194, 131233.46764102194, 131233.46764102194, 131233.46764102194, 131233.46764102194, 131233.46764102194, 131233.46764102194, 131233.46764102194, 131233.46764102194, 131233.46764102194, 131233.46764102194, 131233.46764102194, 131233.46764102194, 131233.46764102194, 131233.46764102194, 131233.46764102194, 131233.46764102194, 131233.46764102194, 131233.46764102194, 131233.46764102194, 131233.46764102194, 131233.46764102194, 131233.46764102194, 131233.46764102194, 131233.46764102194, 131233.46764102194, 131233.46764102194, 131233.46764102194, 131233.46764102194, 131233.46764102194, 131233.46764102194, 131233.46764102194, 131233.46764102194, 131233.46764102194, 131233.46764102194, 131233.46764102194, 131233.46764102194, 131233.46764102194, 131233.46764102194, 131233.46764102194, 131233.46764102194, 131233.46764102194, 131233.46764102194, 131233.46764102194, 131233.46764102194, 131233.46764102194, 131233.46764102194, 131233.46764102194, 131233.46764102194, 131233.46764102194, 131233.46764102194, 131233.46764102194, 131233.46764102194, 131233.46764102194, 131233.46764102194, 131233.46764102194, 131233.46764102194, 131233.46764102194, 131233.46764102194, 131233.46764102194, 131233.46764102194, 131233.46764102194, 131233.46764102194, 131233.46764102194, 131233.46764102194, 131233.46764102194, 131233.46764102194, 131233.46764102194, 131233.46764102194, 131233.46764102194, 131233.46764102194, 131233.46764102194, 131233.46764102194, 131233.46764102194, 131233.46764102194, 131233.46764102194, 131233.46764102194, 131233.46764102194, 131233.46764102194, 131233.46764102194, 131233.46764102194, 176459.14728946087, 176459.14728946087, 176459.14728946087, 176459.14728946087, 176459.14728946087, 176459.14728946087, 176459.14728946087, 176459.14728946087, 176459.14728946087, 176459.14728946087, 176459.14728946087, 176459.14728946087, 176459.14728946087, 176459.14728946087, 176459.14728946087, 176459.14728946087, 176459.14728946087, 176459.14728946087, 176459.14728946087, 176459.14728946087, 176459.14728946087, 176459.14728946087, 176459.14728946087, 176459.14728946087, 176459.14728946087, 176459.14728946087, 176459.14728946087, 176459.14728946087, 176459.14728946087, 176459.14728946087, 176459.14728946087, 176459.14728946087, 176459.14728946087, 176459.14728946087, 176459.14728946087, 176459.14728946087, 176459.14728946087, 176459.14728946087, 176459.14728946087, 176459.14728946087, 176459.14728946087, 176459.14728946087, 176459.14728946087, 176459.14728946087, 176459.14728946087, 176459.14728946087, 176459.14728946087, 176459.14728946087, 176459.14728946087, 176459.14728946087, 176459.14728946087, 176459.14728946087, 176459.14728946087, 176459.14728946087, 176459.14728946087, 176459.14728946087, 176459.14728946087, 176459.14728946087, 176459.14728946087, 176459.14728946087, 176459.14728946087, 176459.14728946087, 176459.14728946087, 176459.14728946087, 176459.14728946087, 176459.14728946087, 176459.14728946087, 176459.14728946087, 176459.14728946087, 176459.14728946087, 176459.14728946087, 176459.14728946087, 176459.14728946087, 176459.14728946087, 176459.14728946087, 176459.14728946087, 176459.14728946087, 176459.14728946087, 176459.14728946087, 176459.14728946087, 176459.14728946087, 176459.14728946087, 176459.14728946087, 176459.14728946087, 176459.14728946087, 176459.14728946087, 176459.14728946087, 176459.14728946087, 176459.14728946087, 176459.14728946087, 176459.14728946087, 176459.14728946087, 176459.14728946087, 176459.14728946087, 176459.14728946087, 176459.14728946087, 176459.14728946087, 176459.14728946087, 176459.14728946087, 176459.14728946087, 176459.14728946087, 176459.14728946087, 176459.14728946087, 176459.14728946087, 176459.14728946087, 176459.14728946087, 176459.14728946087, 176459.14728946087, 176459.14728946087, 176459.14728946087, 176459.14728946087, 176459.14728946087, 176459.14728946087, 176459.14728946087, 176459.14728946087, 176459.14728946087, 176459.14728946087, 176459.14728946087, 176459.14728946087, 176459.14728946087, 176459.14728946087, 176459.14728946087, 176459.14728946087, 176459.14728946087, 176459.14728946087, 176459.14728946087, 176459.14728946087, 176459.14728946087, 176459.14728946087, 176459.14728946087, 176459.14728946087, 176459.14728946087, 176459.14728946087, 176459.14728946087, 176459.14728946087, 176459.14728946087, 176459.14728946087, 176459.14728946087, 176459.14728946087, 176459.14728946087, 176459.14728946087, 176459.14728946087, 176459.14728946087, 176459.14728946087, 176459.14728946087, 176459.14728946087, 176459.14728946087, 176459.14728946087, 176459.14728946087, 176459.14728946087, 176459.14728946087, 176459.14728946087, 176459.14728946087, 176459.14728946087, 176459.14728946087, 176459.14728946087, 176459.14728946087, 176459.14728946087, 176459.14728946087, 176459.14728946087, 176459.14728946087, 176459.14728946087, 176459.14728946087, 176459.14728946087, 176459.14728946087, 176459.14728946087, 176459.14728946087, 176459.14728946087, 176459.14728946087, 176459.14728946087, 176459.14728946087, 176459.14728946087, 176459.14728946087, 176459.14728946087, 176459.14728946087, 176459.14728946087, 176459.14728946087, 176459.14728946087, 176459.14728946087, 176459.14728946087, 176459.14728946087, 176459.14728946087, 176459.14728946087, 176459.14728946087, 176459.14728946087, 176459.14728946087, 176459.14728946087, 176459.14728946087, 176459.14728946087, 176459.14728946087, 176459.14728946087, 176459.14728946087, 176459.14728946087, 176459.14728946087, 176459.14728946087, 176459.14728946087, 176459.14728946087, 176459.14728946087, 176459.14728946087, 176459.14728946087, 176459.14728946087, 176459.14728946087, 176459.14728946087, 176459.14728946087, 176459.14728946087, 176459.14728946087, 176459.14728946087, 176459.14728946087, 176459.14728946087, 176459.14728946087, 176459.14728946087, 176459.14728946087, 176459.14728946087, 176459.14728946087, 176459.14728946087, 176459.14728946087, 176459.14728946087, 176459.14728946087, 176459.14728946087, 176459.14728946087, 176459.14728946087, 176459.14728946087, 176459.14728946087, 176459.14728946087, 176459.14728946087, 176459.14728946087, 176459.14728946087, 176459.14728946087, 176459.14728946087, 176459.14728946087, 176459.14728946087, 176459.14728946087, 176459.14728946087, 176459.14728946087, 176459.14728946087, 176459.14728946087, 176459.14728946087, 176459.14728946087, 176459.14728946087, 176459.14728946087, 176459.14728946087, 176459.14728946087, 176459.14728946087, 176459.14728946087, 176459.14728946087, 176459.14728946087, 176459.14728946087, 176459.14728946087, 176459.14728946087, 176459.14728946087, 176459.14728946087, 176459.14728946087, 176459.14728946087, 176459.14728946087, 176459.14728946087, 176459.14728946087, 176459.14728946087, 176459.14728946087, 176459.14728946087, 176459.14728946087, 176459.14728946087, 176459.14728946087, 176459.14728946087, 176459.14728946087, 176459.14728946087, 176459.14728946087, 176459.14728946087, 176459.14728946087, 176459.14728946087, 176459.14728946087, 176459.14728946087, 176459.14728946087, 176459.14728946087, 176459.14728946087, 176459.14728946087, 176459.14728946087, 176459.14728946087, 176459.14728946087, 176459.14728946087, 176459.14728946087, 176459.14728946087, 176459.14728946087, 176459.14728946087, 176459.14728946087, 176459.14728946087, 176459.14728946087, 176459.14728946087, 176459.14728946087, 176459.14728946087, 176459.14728946087, 176459.14728946087, 176459.14728946087, 176459.14728946087, 176459.14728946087, 176459.14728946087, 176459.14728946087, 176459.14728946087, 176459.14728946087, 176459.14728946087, 176459.14728946087, 176459.14728946087, 176459.14728946087, 176459.14728946087, 176459.14728946087, 176459.14728946087, 176459.14728946087, 176459.14728946087, 176459.14728946087, 176459.14728946087, 176459.14728946087, 176459.14728946087, 176459.14728946087, 176459.14728946087, 176459.14728946087, 176459.14728946087, 176459.14728946087, 176459.14728946087, 176459.14728946087, 176459.14728946087, 176459.14728946087, 176459.14728946087, 176459.14728946087, 176459.14728946087, 176459.14728946087, 176459.14728946087, 176459.14728946087, 176459.14728946087, 176459.14728946087, 176459.14728946087, 176459.14728946087, 176459.14728946087, 176459.14728946087, 176459.14728946087, 176459.14728946087, 176459.14728946087, 176459.14728946087, 176459.14728946087, 176459.14728946087, 176459.14728946087, 176459.14728946087, 176459.14728946087, 176459.14728946087, 176459.14728946087, 176459.14728946087, 176459.14728946087, 176459.14728946087, 176459.14728946087, 176459.14728946087, 176459.14728946087, 176459.14728946087, 176459.14728946087, 176459.14728946087, 176459.14728946087, 176459.14728946087, 176459.14728946087, 176459.14728946087, 176459.14728946087, 176459.14728946087, 176459.14728946087, 176459.14728946087, 176459.14728946087, 176459.14728946087, 176459.14728946087, 176459.14728946087, 176459.14728946087, 176459.14728946087, 176459.14728946087, 176459.14728946087, 176459.14728946087, 176459.14728946087, 176459.14728946087, 176459.14728946087, 176459.14728946087, 176459.14728946087, 176459.14728946087, 176459.14728946087, 176459.14728946087, 176459.14728946087, 176459.14728946087, 176459.14728946087, 176459.14728946087, 176459.14728946087, 176459.14728946087, 176459.14728946087, 176459.14728946087, 176459.14728946087, 176459.14728946087, 176459.14728946087, 176459.14728946087, 176459.14728946087, 176459.14728946087, 176459.14728946087, 176459.14728946087, 176459.14728946087, 176459.14728946087, 176459.14728946087, 176459.14728946087, 176459.14728946087, 176459.14728946087, 176459.14728946087, 176459.14728946087, 176459.14728946087, 176459.14728946087, 176459.14728946087, 176459.14728946087, 176459.14728946087, 176459.14728946087, 176459.14728946087, 176459.14728946087, 176459.14728946087, 176459.14728946087, 176459.14728946087, 176459.14728946087, 176459.14728946087, 176459.14728946087, 176459.14728946087, 176459.14728946087, 176459.14728946087, 176459.14728946087, 176459.14728946087, 176459.14728946087, 176459.14728946087, 176459.14728946087, 176459.14728946087, 176459.14728946087, 176459.14728946087, 176459.14728946087, 176459.14728946087, 176459.14728946087, 176459.14728946087, 176459.14728946087, 176459.14728946087, 176459.14728946087, 176459.14728946087, 176459.14728946087, 176459.14728946087, 176459.14728946087, 176459.14728946087, 176459.14728946087, 176459.14728946087, 176459.14728946087, 176459.14728946087, 176459.14728946087, 176459.14728946087, 176459.14728946087, 176459.14728946087, 176459.14728946087, 176459.14728946087, 176459.14728946087, 176459.14728946087, 176459.14728946087, 176459.14728946087, 176459.14728946087, 176459.14728946087, 176459.14728946087, 176459.14728946087, 176459.14728946087, 176459.14728946087, 176459.14728946087, 176459.14728946087, 176459.14728946087, 176459.14728946087, 176459.14728946087, 176459.14728946087, 176459.14728946087, 176459.14728946087, 176459.14728946087, 176459.14728946087, 176459.14728946087, 176459.14728946087, 176459.14728946087, 176459.14728946087, 176459.14728946087, 176459.14728946087, 176459.14728946087, 176459.14728946087, 176459.14728946087, 176459.14728946087, 176459.14728946087, 176459.14728946087, 176459.14728946087, 176459.14728946087, 176459.14728946087, 176459.14728946087, 176459.14728946087, 176459.14728946087, 176459.14728946087, 176459.14728946087, 176459.14728946087, 176459.14728946087, 176459.14728946087, 176459.14728946087, 176459.14728946087, 176459.14728946087, 176459.14728946087, 176459.14728946087, 176459.14728946087, 176459.14728946087, 176459.14728946087, 176459.14728946087, 176459.14728946087, 176459.14728946087, 176459.14728946087, 176459.14728946087, 176459.14728946087, 176459.14728946087, 176459.14728946087, 176459.14728946087, 176459.14728946087, 176459.14728946087, 176459.14728946087, 176459.14728946087, 176459.14728946087, 176459.14728946087, 176459.14728946087, 176459.14728946087, 176459.14728946087, 176459.14728946087, 176459.14728946087, 176459.14728946087, 176459.14728946087, 176459.14728946087, 176459.14728946087, 176459.14728946087, 176459.14728946087, 176459.14728946087, 176459.14728946087, 176459.14728946087, 176459.14728946087, 176459.14728946087, 176459.14728946087, 176459.14728946087, 176459.14728946087, 176459.14728946087, 176459.14728946087, 176459.14728946087, 176459.14728946087, 176459.14728946087, 176459.14728946087, 176459.14728946087, 176459.14728946087, 176459.14728946087, 176459.14728946087, 176459.14728946087, 176459.14728946087, 176459.14728946087, 176459.14728946087, 176459.14728946087, 176459.14728946087, 176459.14728946087, 176459.14728946087, 176459.14728946087, 176459.14728946087, 176459.14728946087, 176459.14728946087, 176459.14728946087, 176459.14728946087, 176459.14728946087, 176459.14728946087, 176459.14728946087, 176459.14728946087, 176459.14728946087, 176459.14728946087, 176459.14728946087, 176459.14728946087, 176459.14728946087, 176459.14728946087, 176459.14728946087, 176459.14728946087, 176459.14728946087, 176459.14728946087, 176459.14728946087, 176459.14728946087, 176459.14728946087, 176459.14728946087, 176459.14728946087, 176459.14728946087, 176459.14728946087, 176459.14728946087, 176459.14728946087, 176459.14728946087, 176459.14728946087, 176459.14728946087, 176459.14728946087, 176459.14728946087, 176459.14728946087, 176459.14728946087, 176459.14728946087, 176459.14728946087, 176459.14728946087, 176459.14728946087, 176459.14728946087, 176459.14728946087, 176459.14728946087, 176459.14728946087, 176459.14728946087, 176459.14728946087, 176459.14728946087, 176459.14728946087, 176459.14728946087, 176459.14728946087, 176459.14728946087, 176459.14728946087, 176459.14728946087, 176459.14728946087, 176459.14728946087, 176459.14728946087, 176459.14728946087, 176459.14728946087, 176459.14728946087, 176459.14728946087, 176459.14728946087, 176459.14728946087, 176459.14728946087, 176459.14728946087, 176459.14728946087, 176459.14728946087, 176459.14728946087, 176459.14728946087, 176459.14728946087, 176459.14728946087, 176459.14728946087, 176459.14728946087, 176459.14728946087, 176459.14728946087, 176459.14728946087, 176459.14728946087, 176459.14728946087, 176459.14728946087, 176459.14728946087, 176459.14728946087, 176459.14728946087, 176459.14728946087, 176459.14728946087, 176459.14728946087, 176459.14728946087, 176459.14728946087, 176459.14728946087, 176459.14728946087, 176459.14728946087, 176459.14728946087, 176459.14728946087, 176459.14728946087, 176459.14728946087, 176459.14728946087, 176459.14728946087, 176459.14728946087, 176459.14728946087, 176459.14728946087, 176459.14728946087, 176459.14728946087, 176459.14728946087, 176459.14728946087, 176459.14728946087, 176459.14728946087, 176459.14728946087, 176459.14728946087, 176459.14728946087, 176459.14728946087, 176459.14728946087, 176459.14728946087, 176459.14728946087, 176459.14728946087, 176459.14728946087, 176459.14728946087, 176459.14728946087, 176459.14728946087, 176459.14728946087, 176459.14728946087, 176459.14728946087, 176459.14728946087, 176459.14728946087, 176459.14728946087, 176459.14728946087, 176459.14728946087, 176459.14728946087, 176459.14728946087, 176459.14728946087, 176459.14728946087, 176459.14728946087, 176459.14728946087, 176459.14728946087, 176459.14728946087, 176459.14728946087, 176459.14728946087, 176459.14728946087, 176459.14728946087, 176459.14728946087, 176459.14728946087, 176459.14728946087, 176459.14728946087, 176459.14728946087, 176459.14728946087, 176459.14728946087, 176459.14728946087, 176459.14728946087, 176459.14728946087, 176459.14728946087, 176459.14728946087, 176459.14728946087, 176459.14728946087, 176459.14728946087, 176459.14728946087, 176459.14728946087, 176459.14728946087, 176459.14728946087, 176459.14728946087, 176459.14728946087, 176459.14728946087, 176459.14728946087, 176459.14728946087, 176459.14728946087, 176459.14728946087, 176459.14728946087, 176459.14728946087, 176459.14728946087, 176459.14728946087, 176459.14728946087, 176459.14728946087, 176459.14728946087, 176459.14728946087, 176459.14728946087, 176459.14728946087, 176459.14728946087, 176459.14728946087, 176459.14728946087, 176459.14728946087, 176459.14728946087, 221684.82693789987, 221684.82693789987, 221684.82693789987, 221684.82693789987, 221684.82693789987, 221684.82693789987, 221684.82693789987, 221684.82693789987, 221684.82693789987, 221684.82693789987, 221684.82693789987, 221684.82693789987, 221684.82693789987, 221684.82693789987, 221684.82693789987, 221684.82693789987, 221684.82693789987, 221684.82693789987, 221684.82693789987, 221684.82693789987, 221684.82693789987, 221684.82693789987, 221684.82693789987, 221684.82693789987, 221684.82693789987, 221684.82693789987, 221684.82693789987, 221684.82693789987, 221684.82693789987, 221684.82693789987, 221684.82693789987, 221684.82693789987, 221684.82693789987, 221684.82693789987, 221684.82693789987, 221684.82693789987, 221684.82693789987, 221684.82693789987, 221684.82693789987, 221684.82693789987, 221684.82693789987, 221684.82693789987, 221684.82693789987, 221684.82693789987, 221684.82693789987, 221684.82693789987, 221684.82693789987, 221684.82693789987, 221684.82693789987, 221684.82693789987, 221684.82693789987, 221684.82693789987, 221684.82693789987, 221684.82693789987, 221684.82693789987, 221684.82693789987, 221684.82693789987, 221684.82693789987, 221684.82693789987, 221684.82693789987, 221684.82693789987, 221684.82693789987, 221684.82693789987, 221684.82693789987, 221684.82693789987, 221684.82693789987, 221684.82693789987, 221684.82693789987, 221684.82693789987, 221684.82693789987, 221684.82693789987, 221684.82693789987, 221684.82693789987, 221684.82693789987, 221684.82693789987, 221684.82693789987, 221684.82693789987, 221684.82693789987, 221684.82693789987, 221684.82693789987, 221684.82693789987, 221684.82693789987, 221684.82693789987, 221684.82693789987, 221684.82693789987, 221684.82693789987, 221684.82693789987, 221684.82693789987, 221684.82693789987, 221684.82693789987, 221684.82693789987, 221684.82693789987, 221684.82693789987, 221684.82693789987, 221684.82693789987, 221684.82693789987, 221684.82693789987, 221684.82693789987, 221684.82693789987, 221684.82693789987, 221684.82693789987, 221684.82693789987, 221684.82693789987, 221684.82693789987, 221684.82693789987, 221684.82693789987, 221684.82693789987, 221684.82693789987, 221684.82693789987, 221684.82693789987, 221684.82693789987, 221684.82693789987, 221684.82693789987, 221684.82693789987, 221684.82693789987, 221684.82693789987, 221684.82693789987, 221684.82693789987, 221684.82693789987, 221684.82693789987, 221684.82693789987, 221684.82693789987, 221684.82693789987, 221684.82693789987, 221684.82693789987, 221684.82693789987, 221684.82693789987, 221684.82693789987, 221684.82693789987, 221684.82693789987, 221684.82693789987, 221684.82693789987, 221684.82693789987, 221684.82693789987, 221684.82693789987, 221684.82693789987, 221684.82693789987, 221684.82693789987, 221684.82693789987, 221684.82693789987, 221684.82693789987, 221684.82693789987, 221684.82693789987, 221684.82693789987, 221684.82693789987, 221684.82693789987, 221684.82693789987, 221684.82693789987, 221684.82693789987, 221684.82693789987, 221684.82693789987, 221684.82693789987, 221684.82693789987, 221684.82693789987, 221684.82693789987, 221684.82693789987, 221684.82693789987, 221684.82693789987, 221684.82693789987, 221684.82693789987, 221684.82693789987, 221684.82693789987, 221684.82693789987, 221684.82693789987, 221684.82693789987, 221684.82693789987, 221684.82693789987, 221684.82693789987, 221684.82693789987, 221684.82693789987, 221684.82693789987, 221684.82693789987, 221684.82693789987, 221684.82693789987, 221684.82693789987, 221684.82693789987, 221684.82693789987, 221684.82693789987, 221684.82693789987, 221684.82693789987, 221684.82693789987, 221684.82693789987, 221684.82693789987, 221684.82693789987, 221684.82693789987, 221684.82693789987, 221684.82693789987, 221684.82693789987, 221684.82693789987, 221684.82693789987, 221684.82693789987, 221684.82693789987, 221684.82693789987, 221684.82693789987, 221684.82693789987, 221684.82693789987, 221684.82693789987, 221684.82693789987, 221684.82693789987, 221684.82693789987, 221684.82693789987, 221684.82693789987, 221684.82693789987, 221684.82693789987, 221684.82693789987, 221684.82693789987, 221684.82693789987, 221684.82693789987, 221684.82693789987, 221684.82693789987, 221684.82693789987, 221684.82693789987, 221684.82693789987, 221684.82693789987, 221684.82693789987, 221684.82693789987, 221684.82693789987, 221684.82693789987, 221684.82693789987, 221684.82693789987, 221684.82693789987, 221684.82693789987, 221684.82693789987, 221684.82693789987, 221684.82693789987, 221684.82693789987, 221684.82693789987, 221684.82693789987, 221684.82693789987, 221684.82693789987, 221684.82693789987, 221684.82693789987, 221684.82693789987, 221684.82693789987, 221684.82693789987, 221684.82693789987, 221684.82693789987, 221684.82693789987, 221684.82693789987, 221684.82693789987, 221684.82693789987, 221684.82693789987, 221684.82693789987, 221684.82693789987, 221684.82693789987, 221684.82693789987, 221684.82693789987, 221684.82693789987, 221684.82693789987, 221684.82693789987, 221684.82693789987, 221684.82693789987, 221684.82693789987, 221684.82693789987, 221684.82693789987, 221684.82693789987, 221684.82693789987, 221684.82693789987, 221684.82693789987, 221684.82693789987, 221684.82693789987, 221684.82693789987, 221684.82693789987, 221684.82693789987, 221684.82693789987, 221684.82693789987, 221684.82693789987, 221684.82693789987, 221684.82693789987, 221684.82693789987, 221684.82693789987, 221684.82693789987, 221684.82693789987, 221684.82693789987, 221684.82693789987, 221684.82693789987, 221684.82693789987, 221684.82693789987, 221684.82693789987, 221684.82693789987, 221684.82693789987, 221684.82693789987, 221684.82693789987, 221684.82693789987, 221684.82693789987, 221684.82693789987, 221684.82693789987, 221684.82693789987, 221684.82693789987, 221684.82693789987, 221684.82693789987, 221684.82693789987, 221684.82693789987, 221684.82693789987, 221684.82693789987, 221684.82693789987, 221684.82693789987, 221684.82693789987, 221684.82693789987, 221684.82693789987, 221684.82693789987, 221684.82693789987, 221684.82693789987, 221684.82693789987, 221684.82693789987, 221684.82693789987, 221684.82693789987, 221684.82693789987, 221684.82693789987, 221684.82693789987, 221684.82693789987, 221684.82693789987, 221684.82693789987, 221684.82693789987, 221684.82693789987, 221684.82693789987, 221684.82693789987, 221684.82693789987, 221684.82693789987, 221684.82693789987, 221684.82693789987, 221684.82693789987, 221684.82693789987, 221684.82693789987, 221684.82693789987, 221684.82693789987, 221684.82693789987, 221684.82693789987, 221684.82693789987, 221684.82693789987, 221684.82693789987, 221684.82693789987, 221684.82693789987, 221684.82693789987, 221684.82693789987, 221684.82693789987, 221684.82693789987, 221684.82693789987, 221684.82693789987, 221684.82693789987, 221684.82693789987, 221684.82693789987, 221684.82693789987, 221684.82693789987, 221684.82693789987, 221684.82693789987, 221684.82693789987, 221684.82693789987, 221684.82693789987, 221684.82693789987, 221684.82693789987, 221684.82693789987, 221684.82693789987, 221684.82693789987, 221684.82693789987, 221684.82693789987, 221684.82693789987, 221684.82693789987, 221684.82693789987, 221684.82693789987, 221684.82693789987, 221684.82693789987, 221684.82693789987, 221684.82693789987, 221684.82693789987, 221684.82693789987, 221684.82693789987, 221684.82693789987, 221684.82693789987, 221684.82693789987, 221684.82693789987, 221684.82693789987, 221684.82693789987, 221684.82693789987, 221684.82693789987, 221684.82693789987, 221684.82693789987, 221684.82693789987, 221684.82693789987, 221684.82693789987, 221684.82693789987, 221684.82693789987, 221684.82693789987, 221684.82693789987, 221684.82693789987, 221684.82693789987, 221684.82693789987, 221684.82693789987, 221684.82693789987, 221684.82693789987, 221684.82693789987, 221684.82693789987, 221684.82693789987, 221684.82693789987, 221684.82693789987, 221684.82693789987, 221684.82693789987, 221684.82693789987, 221684.82693789987, 221684.82693789987, 221684.82693789987, 221684.82693789987, 221684.82693789987, 221684.82693789987, 221684.82693789987, 221684.82693789987, 221684.82693789987, 221684.82693789987, 221684.82693789987, 221684.82693789987, 221684.82693789987, 221684.82693789987, 221684.82693789987, 221684.82693789987, 221684.82693789987, 221684.82693789987, 221684.82693789987, 221684.82693789987, 221684.82693789987, 221684.82693789987, 221684.82693789987, 221684.82693789987, 221684.82693789987, 221684.82693789987, 221684.82693789987, 221684.82693789987, 221684.82693789987, 221684.82693789987, 221684.82693789987, 221684.82693789987, 221684.82693789987, 221684.82693789987, 221684.82693789987, 221684.82693789987, 221684.82693789987, 221684.82693789987, 221684.82693789987, 221684.82693789987, 221684.82693789987, 221684.82693789987, 221684.82693789987, 221684.82693789987, 221684.82693789987, 221684.82693789987, 221684.82693789987, 221684.82693789987, 221684.82693789987, 221684.82693789987, 221684.82693789987, 221684.82693789987, 221684.82693789987, 221684.82693789987, 221684.82693789987, 221684.82693789987, 221684.82693789987, 221684.82693789987, 221684.82693789987, 221684.82693789987, 221684.82693789987, 221684.82693789987, 221684.82693789987, 221684.82693789987, 221684.82693789987, 221684.82693789987, 221684.82693789987, 221684.82693789987, 221684.82693789987, 221684.82693789987, 221684.82693789987, 221684.82693789987, 221684.82693789987, 221684.82693789987, 221684.82693789987, 221684.82693789987, 221684.82693789987, 221684.82693789987, 221684.82693789987, 221684.82693789987, 221684.82693789987, 221684.82693789987, 221684.82693789987, 221684.82693789987, 221684.82693789987, 221684.82693789987, 221684.82693789987, 221684.82693789987, 221684.82693789987, 221684.82693789987, 221684.82693789987, 221684.82693789987, 221684.82693789987, 221684.82693789987, 221684.82693789987, 221684.82693789987, 221684.82693789987, 221684.82693789987, 221684.82693789987, 221684.82693789987, 221684.82693789987, 221684.82693789987, 221684.82693789987, 221684.82693789987, 221684.82693789987, 221684.82693789987, 221684.82693789987, 221684.82693789987, 221684.82693789987, 221684.82693789987, 221684.82693789987, 221684.82693789987, 221684.82693789987, 221684.82693789987, 221684.82693789987, 221684.82693789987, 221684.82693789987, 221684.82693789987, 221684.82693789987, 221684.82693789987, 221684.82693789987, 221684.82693789987, 221684.82693789987, 221684.82693789987, 221684.82693789987, 221684.82693789987, 221684.82693789987, 221684.82693789987, 221684.82693789987, 221684.82693789987, 221684.82693789987, 221684.82693789987, 221684.82693789987, 221684.82693789987, 221684.82693789987, 221684.82693789987, 221684.82693789987, 221684.82693789987, 221684.82693789987, 221684.82693789987, 221684.82693789987, 221684.82693789987, 221684.82693789987, 221684.82693789987, 221684.82693789987, 221684.82693789987, 221684.82693789987, 221684.82693789987, 221684.82693789987, 221684.82693789987, 221684.82693789987, 221684.82693789987, 221684.82693789987, 221684.82693789987, 221684.82693789987, 221684.82693789987, 221684.82693789987, 221684.82693789987, 221684.82693789987, 221684.82693789987, 221684.82693789987, 221684.82693789987, 221684.82693789987, 221684.82693789987, 221684.82693789987, 221684.82693789987, 221684.82693789987, 221684.82693789987, 221684.82693789987, 221684.82693789987, 221684.82693789987, 221684.82693789987, 221684.82693789987, 221684.82693789987, 221684.82693789987, 221684.82693789987, 221684.82693789987, 221684.82693789987, 221684.82693789987, 221684.82693789987, 221684.82693789987, 221684.82693789987, 221684.82693789987, 221684.82693789987, 221684.82693789987, 221684.82693789987, 221684.82693789987, 221684.82693789987, 221684.82693789987, 221684.82693789987, 221684.82693789987, 221684.82693789987, 221684.82693789987, 221684.82693789987, 266910.50658633886, 266910.50658633886, 266910.50658633886, 266910.50658633886, 266910.50658633886, 266910.50658633886, 266910.50658633886, 266910.50658633886, 266910.50658633886, 266910.50658633886, 266910.50658633886, 266910.50658633886, 266910.50658633886, 266910.50658633886, 266910.50658633886, 266910.50658633886, 266910.50658633886, 266910.50658633886, 266910.50658633886, 266910.50658633886, 266910.50658633886, 266910.50658633886, 266910.50658633886, 266910.50658633886, 266910.50658633886, 266910.50658633886, 266910.50658633886, 266910.50658633886, 266910.50658633886, 266910.50658633886, 266910.50658633886, 266910.50658633886, 266910.50658633886, 266910.50658633886, 266910.50658633886, 266910.50658633886, 266910.50658633886, 266910.50658633886, 266910.50658633886, 266910.50658633886, 266910.50658633886, 266910.50658633886, 266910.50658633886, 266910.50658633886, 266910.50658633886, 266910.50658633886, 266910.50658633886, 266910.50658633886, 266910.50658633886, 266910.50658633886, 266910.50658633886, 266910.50658633886, 266910.50658633886, 266910.50658633886, 266910.50658633886, 266910.50658633886, 266910.50658633886, 266910.50658633886, 266910.50658633886, 266910.50658633886, 266910.50658633886, 266910.50658633886, 266910.50658633886, 266910.50658633886, 266910.50658633886, 266910.50658633886, 266910.50658633886, 266910.50658633886, 266910.50658633886, 266910.50658633886, 266910.50658633886, 266910.50658633886, 266910.50658633886, 266910.50658633886, 266910.50658633886, 266910.50658633886, 266910.50658633886, 266910.50658633886, 266910.50658633886, 266910.50658633886, 266910.50658633886, 266910.50658633886, 266910.50658633886, 266910.50658633886, 266910.50658633886, 266910.50658633886, 266910.50658633886, 266910.50658633886, 266910.50658633886, 266910.50658633886, 266910.50658633886, 266910.50658633886, 266910.50658633886, 266910.50658633886, 266910.50658633886, 266910.50658633886, 266910.50658633886, 266910.50658633886, 266910.50658633886, 266910.50658633886, 266910.50658633886, 266910.50658633886, 266910.50658633886, 266910.50658633886, 266910.50658633886, 266910.50658633886, 266910.50658633886, 266910.50658633886, 266910.50658633886, 266910.50658633886, 266910.50658633886, 266910.50658633886, 266910.50658633886, 266910.50658633886, 266910.50658633886, 266910.50658633886, 266910.50658633886, 266910.50658633886, 266910.50658633886, 266910.50658633886, 266910.50658633886, 266910.50658633886, 266910.50658633886, 266910.50658633886, 266910.50658633886, 266910.50658633886, 266910.50658633886, 266910.50658633886, 266910.50658633886, 266910.50658633886, 266910.50658633886, 266910.50658633886, 266910.50658633886, 266910.50658633886, 266910.50658633886, 266910.50658633886, 266910.50658633886, 266910.50658633886, 266910.50658633886, 266910.50658633886, 266910.50658633886, 266910.50658633886, 266910.50658633886, 266910.50658633886, 266910.50658633886, 266910.50658633886, 266910.50658633886, 266910.50658633886, 266910.50658633886, 266910.50658633886, 266910.50658633886, 266910.50658633886, 266910.50658633886, 266910.50658633886, 266910.50658633886, 266910.50658633886, 266910.50658633886, 266910.50658633886, 266910.50658633886, 266910.50658633886, 266910.50658633886, 266910.50658633886, 266910.50658633886, 266910.50658633886, 266910.50658633886, 266910.50658633886, 266910.50658633886, 266910.50658633886, 266910.50658633886, 266910.50658633886, 266910.50658633886, 266910.50658633886, 266910.50658633886, 266910.50658633886, 266910.50658633886, 266910.50658633886, 266910.50658633886, 266910.50658633886, 266910.50658633886, 266910.50658633886, 266910.50658633886, 266910.50658633886, 266910.50658633886, 266910.50658633886, 266910.50658633886, 266910.50658633886, 266910.50658633886, 266910.50658633886, 266910.50658633886, 266910.50658633886, 266910.50658633886, 266910.50658633886, 266910.50658633886, 266910.50658633886, 266910.50658633886, 266910.50658633886, 266910.50658633886, 266910.50658633886, 266910.50658633886, 266910.50658633886, 266910.50658633886, 266910.50658633886, 266910.50658633886, 266910.50658633886, 266910.50658633886, 266910.50658633886, 266910.50658633886, 266910.50658633886, 266910.50658633886, 266910.50658633886, 266910.50658633886, 266910.50658633886, 266910.50658633886, 266910.50658633886, 266910.50658633886, 266910.50658633886, 266910.50658633886, 266910.50658633886, 266910.50658633886, 266910.50658633886, 266910.50658633886, 266910.50658633886, 266910.50658633886, 266910.50658633886, 266910.50658633886, 266910.50658633886, 266910.50658633886, 266910.50658633886, 266910.50658633886, 266910.50658633886, 266910.50658633886, 266910.50658633886, 266910.50658633886, 266910.50658633886, 266910.50658633886, 266910.50658633886, 266910.50658633886, 266910.50658633886, 266910.50658633886, 266910.50658633886, 266910.50658633886, 266910.50658633886, 266910.50658633886, 266910.50658633886, 266910.50658633886, 266910.50658633886, 266910.50658633886, 266910.50658633886, 266910.50658633886, 266910.50658633886, 266910.50658633886, 266910.50658633886, 266910.50658633886, 266910.50658633886, 266910.50658633886, 266910.50658633886, 266910.50658633886, 266910.50658633886, 266910.50658633886, 266910.50658633886, 266910.50658633886, 266910.50658633886, 266910.50658633886, 266910.50658633886, 266910.50658633886, 266910.50658633886, 266910.50658633886, 266910.50658633886, 266910.50658633886, 266910.50658633886, 266910.50658633886, 266910.50658633886, 266910.50658633886, 266910.50658633886, 266910.50658633886, 266910.50658633886, 266910.50658633886, 266910.50658633886, 266910.50658633886, 266910.50658633886, 266910.50658633886, 266910.50658633886, 266910.50658633886, 266910.50658633886, 266910.50658633886, 266910.50658633886, 266910.50658633886, 266910.50658633886, 266910.50658633886, 266910.50658633886, 266910.50658633886, 266910.50658633886, 266910.50658633886, 266910.50658633886, 266910.50658633886, 266910.50658633886, 266910.50658633886, 266910.50658633886, 266910.50658633886, 266910.50658633886, 266910.50658633886, 266910.50658633886, 266910.50658633886, 266910.50658633886, 266910.50658633886, 266910.50658633886, 266910.50658633886, 266910.50658633886, 266910.50658633886, 266910.50658633886, 266910.50658633886, 266910.50658633886, 266910.50658633886, 266910.50658633886, 266910.50658633886, 266910.50658633886, 266910.50658633886, 266910.50658633886, 266910.50658633886, 266910.50658633886, 266910.50658633886, 266910.50658633886, 266910.50658633886, 266910.50658633886, 266910.50658633886, 266910.50658633886, 266910.50658633886, 266910.50658633886, 266910.50658633886, 266910.50658633886, 266910.50658633886, 266910.50658633886, 266910.50658633886, 266910.50658633886, 266910.50658633886, 266910.50658633886, 266910.50658633886, 266910.50658633886, 266910.50658633886, 266910.50658633886, 266910.50658633886, 266910.50658633886, 312136.18623477785, 312136.18623477785, 312136.18623477785, 312136.18623477785, 312136.18623477785, 312136.18623477785, 312136.18623477785, 312136.18623477785, 312136.18623477785, 312136.18623477785, 312136.18623477785, 312136.18623477785, 312136.18623477785, 312136.18623477785, 312136.18623477785, 312136.18623477785, 312136.18623477785, 312136.18623477785, 312136.18623477785, 312136.18623477785, 312136.18623477785, 312136.18623477785, 312136.18623477785, 312136.18623477785, 312136.18623477785, 312136.18623477785, 312136.18623477785, 312136.18623477785, 312136.18623477785, 312136.18623477785, 312136.18623477785, 312136.18623477785, 312136.18623477785, 312136.18623477785, 312136.18623477785, 312136.18623477785, 312136.18623477785, 312136.18623477785, 312136.18623477785, 312136.18623477785, 312136.18623477785, 312136.18623477785, 312136.18623477785, 312136.18623477785, 312136.18623477785, 312136.18623477785, 312136.18623477785, 312136.18623477785, 312136.18623477785, 312136.18623477785, 312136.18623477785, 312136.18623477785, 312136.18623477785, 312136.18623477785, 312136.18623477785, 312136.18623477785, 312136.18623477785, 312136.18623477785, 312136.18623477785, 312136.18623477785, 312136.18623477785, 312136.18623477785, 312136.18623477785, 312136.18623477785, 312136.18623477785, 312136.18623477785, 312136.18623477785, 312136.18623477785, 312136.18623477785, 312136.18623477785, 312136.18623477785, 312136.18623477785, 312136.18623477785, 312136.18623477785, 312136.18623477785, 312136.18623477785, 312136.18623477785, 312136.18623477785, 312136.18623477785, 312136.18623477785, 312136.18623477785, 312136.18623477785, 312136.18623477785, 312136.18623477785, 312136.18623477785, 312136.18623477785, 312136.18623477785, 312136.18623477785, 312136.18623477785, 312136.18623477785, 312136.18623477785, 312136.18623477785, 312136.18623477785, 312136.18623477785, 312136.18623477785, 312136.18623477785, 312136.18623477785, 312136.18623477785, 312136.18623477785, 312136.18623477785, 312136.18623477785, 312136.18623477785, 312136.18623477785, 312136.18623477785, 312136.18623477785, 312136.18623477785, 312136.18623477785, 357361.86588321684, 357361.86588321684, 357361.86588321684, 357361.86588321684, 357361.86588321684, 357361.86588321684, 357361.86588321684, 357361.86588321684, 357361.86588321684, 357361.86588321684, 357361.86588321684, 357361.86588321684, 357361.86588321684, 357361.86588321684, 357361.86588321684, 357361.86588321684, 357361.86588321684, 357361.86588321684, 357361.86588321684, 357361.86588321684, 357361.86588321684, 357361.86588321684, 357361.86588321684, 357361.86588321684, 357361.86588321684, 357361.86588321684, 357361.86588321684, 357361.86588321684, 357361.86588321684, 357361.86588321684], \"yaxis\": \"y\"}],\n",
              "                        {\"legend\": {\"tracegroupgap\": 0}, \"template\": {\"data\": {\"bar\": [{\"error_x\": {\"color\": \"#2a3f5f\"}, \"error_y\": {\"color\": \"#2a3f5f\"}, \"marker\": {\"line\": {\"color\": \"#E5ECF6\", \"width\": 0.5}}, \"type\": \"bar\"}], \"barpolar\": [{\"marker\": {\"line\": {\"color\": \"#E5ECF6\", \"width\": 0.5}}, \"type\": \"barpolar\"}], \"carpet\": [{\"aaxis\": {\"endlinecolor\": \"#2a3f5f\", \"gridcolor\": \"white\", \"linecolor\": \"white\", \"minorgridcolor\": \"white\", \"startlinecolor\": \"#2a3f5f\"}, \"baxis\": {\"endlinecolor\": \"#2a3f5f\", \"gridcolor\": \"white\", \"linecolor\": \"white\", \"minorgridcolor\": \"white\", \"startlinecolor\": \"#2a3f5f\"}, \"type\": \"carpet\"}], \"choropleth\": [{\"colorbar\": {\"outlinewidth\": 0, \"ticks\": \"\"}, \"type\": \"choropleth\"}], \"contour\": [{\"colorbar\": {\"outlinewidth\": 0, \"ticks\": \"\"}, \"colorscale\": [[0.0, \"#0d0887\"], [0.1111111111111111, \"#46039f\"], [0.2222222222222222, \"#7201a8\"], [0.3333333333333333, \"#9c179e\"], [0.4444444444444444, \"#bd3786\"], [0.5555555555555556, \"#d8576b\"], [0.6666666666666666, \"#ed7953\"], [0.7777777777777778, \"#fb9f3a\"], [0.8888888888888888, \"#fdca26\"], [1.0, \"#f0f921\"]], \"type\": \"contour\"}], \"contourcarpet\": [{\"colorbar\": {\"outlinewidth\": 0, \"ticks\": \"\"}, \"type\": \"contourcarpet\"}], \"heatmap\": [{\"colorbar\": {\"outlinewidth\": 0, \"ticks\": \"\"}, \"colorscale\": [[0.0, \"#0d0887\"], [0.1111111111111111, \"#46039f\"], [0.2222222222222222, \"#7201a8\"], [0.3333333333333333, \"#9c179e\"], [0.4444444444444444, \"#bd3786\"], [0.5555555555555556, \"#d8576b\"], [0.6666666666666666, \"#ed7953\"], [0.7777777777777778, \"#fb9f3a\"], [0.8888888888888888, \"#fdca26\"], [1.0, \"#f0f921\"]], \"type\": \"heatmap\"}], \"heatmapgl\": [{\"colorbar\": {\"outlinewidth\": 0, \"ticks\": \"\"}, \"colorscale\": [[0.0, \"#0d0887\"], [0.1111111111111111, \"#46039f\"], [0.2222222222222222, \"#7201a8\"], [0.3333333333333333, \"#9c179e\"], [0.4444444444444444, \"#bd3786\"], [0.5555555555555556, \"#d8576b\"], [0.6666666666666666, \"#ed7953\"], [0.7777777777777778, \"#fb9f3a\"], [0.8888888888888888, \"#fdca26\"], [1.0, \"#f0f921\"]], \"type\": \"heatmapgl\"}], \"histogram\": [{\"marker\": {\"colorbar\": {\"outlinewidth\": 0, \"ticks\": \"\"}}, \"type\": \"histogram\"}], \"histogram2d\": [{\"colorbar\": {\"outlinewidth\": 0, \"ticks\": \"\"}, \"colorscale\": [[0.0, \"#0d0887\"], [0.1111111111111111, \"#46039f\"], [0.2222222222222222, \"#7201a8\"], [0.3333333333333333, \"#9c179e\"], [0.4444444444444444, \"#bd3786\"], [0.5555555555555556, \"#d8576b\"], [0.6666666666666666, \"#ed7953\"], [0.7777777777777778, \"#fb9f3a\"], [0.8888888888888888, \"#fdca26\"], [1.0, \"#f0f921\"]], \"type\": \"histogram2d\"}], \"histogram2dcontour\": [{\"colorbar\": {\"outlinewidth\": 0, \"ticks\": \"\"}, \"colorscale\": [[0.0, \"#0d0887\"], [0.1111111111111111, \"#46039f\"], [0.2222222222222222, \"#7201a8\"], [0.3333333333333333, \"#9c179e\"], [0.4444444444444444, \"#bd3786\"], [0.5555555555555556, \"#d8576b\"], [0.6666666666666666, \"#ed7953\"], [0.7777777777777778, \"#fb9f3a\"], [0.8888888888888888, \"#fdca26\"], [1.0, \"#f0f921\"]], \"type\": \"histogram2dcontour\"}], \"mesh3d\": [{\"colorbar\": {\"outlinewidth\": 0, \"ticks\": \"\"}, \"type\": \"mesh3d\"}], \"parcoords\": [{\"line\": {\"colorbar\": {\"outlinewidth\": 0, \"ticks\": \"\"}}, \"type\": \"parcoords\"}], \"pie\": [{\"automargin\": true, \"type\": \"pie\"}], \"scatter\": [{\"marker\": {\"colorbar\": {\"outlinewidth\": 0, \"ticks\": \"\"}}, \"type\": \"scatter\"}], \"scatter3d\": [{\"line\": {\"colorbar\": {\"outlinewidth\": 0, \"ticks\": \"\"}}, \"marker\": {\"colorbar\": {\"outlinewidth\": 0, \"ticks\": \"\"}}, \"type\": \"scatter3d\"}], \"scattercarpet\": [{\"marker\": {\"colorbar\": {\"outlinewidth\": 0, \"ticks\": \"\"}}, \"type\": \"scattercarpet\"}], \"scattergeo\": [{\"marker\": {\"colorbar\": {\"outlinewidth\": 0, \"ticks\": \"\"}}, \"type\": \"scattergeo\"}], \"scattergl\": [{\"marker\": {\"colorbar\": {\"outlinewidth\": 0, \"ticks\": \"\"}}, \"type\": \"scattergl\"}], \"scattermapbox\": [{\"marker\": {\"colorbar\": {\"outlinewidth\": 0, \"ticks\": \"\"}}, \"type\": \"scattermapbox\"}], \"scatterpolar\": [{\"marker\": {\"colorbar\": {\"outlinewidth\": 0, \"ticks\": \"\"}}, \"type\": \"scatterpolar\"}], \"scatterpolargl\": [{\"marker\": {\"colorbar\": {\"outlinewidth\": 0, \"ticks\": \"\"}}, \"type\": \"scatterpolargl\"}], \"scatterternary\": [{\"marker\": {\"colorbar\": {\"outlinewidth\": 0, \"ticks\": \"\"}}, \"type\": \"scatterternary\"}], \"surface\": [{\"colorbar\": {\"outlinewidth\": 0, \"ticks\": \"\"}, \"colorscale\": [[0.0, \"#0d0887\"], [0.1111111111111111, \"#46039f\"], [0.2222222222222222, \"#7201a8\"], [0.3333333333333333, \"#9c179e\"], [0.4444444444444444, \"#bd3786\"], [0.5555555555555556, \"#d8576b\"], [0.6666666666666666, \"#ed7953\"], [0.7777777777777778, \"#fb9f3a\"], [0.8888888888888888, \"#fdca26\"], [1.0, \"#f0f921\"]], \"type\": \"surface\"}], \"table\": [{\"cells\": {\"fill\": {\"color\": \"#EBF0F8\"}, \"line\": {\"color\": \"white\"}}, \"header\": {\"fill\": {\"color\": \"#C8D4E3\"}, \"line\": {\"color\": \"white\"}}, \"type\": \"table\"}]}, \"layout\": {\"annotationdefaults\": {\"arrowcolor\": \"#2a3f5f\", \"arrowhead\": 0, \"arrowwidth\": 1}, \"coloraxis\": {\"colorbar\": {\"outlinewidth\": 0, \"ticks\": \"\"}}, \"colorscale\": {\"diverging\": [[0, \"#8e0152\"], [0.1, \"#c51b7d\"], [0.2, \"#de77ae\"], [0.3, \"#f1b6da\"], [0.4, \"#fde0ef\"], [0.5, \"#f7f7f7\"], [0.6, \"#e6f5d0\"], [0.7, \"#b8e186\"], [0.8, \"#7fbc41\"], [0.9, \"#4d9221\"], [1, \"#276419\"]], \"sequential\": [[0.0, \"#0d0887\"], [0.1111111111111111, \"#46039f\"], [0.2222222222222222, \"#7201a8\"], [0.3333333333333333, \"#9c179e\"], [0.4444444444444444, \"#bd3786\"], [0.5555555555555556, \"#d8576b\"], [0.6666666666666666, \"#ed7953\"], [0.7777777777777778, \"#fb9f3a\"], [0.8888888888888888, \"#fdca26\"], [1.0, \"#f0f921\"]], \"sequentialminus\": [[0.0, \"#0d0887\"], [0.1111111111111111, \"#46039f\"], [0.2222222222222222, \"#7201a8\"], [0.3333333333333333, \"#9c179e\"], [0.4444444444444444, \"#bd3786\"], [0.5555555555555556, \"#d8576b\"], [0.6666666666666666, \"#ed7953\"], [0.7777777777777778, \"#fb9f3a\"], [0.8888888888888888, \"#fdca26\"], [1.0, \"#f0f921\"]]}, \"colorway\": [\"#636efa\", \"#EF553B\", \"#00cc96\", \"#ab63fa\", \"#FFA15A\", \"#19d3f3\", \"#FF6692\", \"#B6E880\", \"#FF97FF\", \"#FECB52\"], \"font\": {\"color\": \"#2a3f5f\"}, \"geo\": {\"bgcolor\": \"white\", \"lakecolor\": \"white\", \"landcolor\": \"#E5ECF6\", \"showlakes\": true, \"showland\": true, \"subunitcolor\": \"white\"}, \"hoverlabel\": {\"align\": \"left\"}, \"hovermode\": \"closest\", \"mapbox\": {\"style\": \"light\"}, \"paper_bgcolor\": \"white\", \"plot_bgcolor\": \"#E5ECF6\", \"polar\": {\"angularaxis\": {\"gridcolor\": \"white\", \"linecolor\": \"white\", \"ticks\": \"\"}, \"bgcolor\": \"#E5ECF6\", \"radialaxis\": {\"gridcolor\": \"white\", \"linecolor\": \"white\", \"ticks\": \"\"}}, \"scene\": {\"xaxis\": {\"backgroundcolor\": \"#E5ECF6\", \"gridcolor\": \"white\", \"gridwidth\": 2, \"linecolor\": \"white\", \"showbackground\": true, \"ticks\": \"\", \"zerolinecolor\": \"white\"}, \"yaxis\": {\"backgroundcolor\": \"#E5ECF6\", \"gridcolor\": \"white\", \"gridwidth\": 2, \"linecolor\": \"white\", \"showbackground\": true, \"ticks\": \"\", \"zerolinecolor\": \"white\"}, \"zaxis\": {\"backgroundcolor\": \"#E5ECF6\", \"gridcolor\": \"white\", \"gridwidth\": 2, \"linecolor\": \"white\", \"showbackground\": true, \"ticks\": \"\", \"zerolinecolor\": \"white\"}}, \"shapedefaults\": {\"line\": {\"color\": \"#2a3f5f\"}}, \"ternary\": {\"aaxis\": {\"gridcolor\": \"white\", \"linecolor\": \"white\", \"ticks\": \"\"}, \"baxis\": {\"gridcolor\": \"white\", \"linecolor\": \"white\", \"ticks\": \"\"}, \"bgcolor\": \"#E5ECF6\", \"caxis\": {\"gridcolor\": \"white\", \"linecolor\": \"white\", \"ticks\": \"\"}}, \"title\": {\"x\": 0.05}, \"xaxis\": {\"automargin\": true, \"gridcolor\": \"white\", \"linecolor\": \"white\", \"ticks\": \"\", \"title\": {\"standoff\": 15}, \"zerolinecolor\": \"white\", \"zerolinewidth\": 2}, \"yaxis\": {\"automargin\": true, \"gridcolor\": \"white\", \"linecolor\": \"white\", \"ticks\": \"\", \"title\": {\"standoff\": 15}, \"zerolinecolor\": \"white\", \"zerolinewidth\": 2}}}, \"title\": {\"text\": \"Overall Quality Strongly Affects Price\"}, \"xaxis\": {\"anchor\": \"y\", \"domain\": [0.0, 1.0], \"title\": {\"text\": \"Overall_Qual\"}}, \"yaxis\": {\"anchor\": \"x\", \"domain\": [0.0, 1.0], \"title\": {\"text\": \"SalePrice\"}}},\n",
              "                        {\"responsive\": true}\n",
              "                    ).then(function(){\n",
              "                            \n",
              "var gd = document.getElementById('d10007e5-a050-490b-9b8c-80239ddc3219');\n",
              "var x = new MutationObserver(function (mutations, observer) {{\n",
              "        var display = window.getComputedStyle(gd).display;\n",
              "        if (!display || display === 'none') {{\n",
              "            console.log([gd, 'removed!']);\n",
              "            Plotly.purge(gd);\n",
              "            observer.disconnect();\n",
              "        }}\n",
              "}});\n",
              "\n",
              "// Listen for the removal of the full notebook cells\n",
              "var notebookContainer = gd.closest('#notebook-container');\n",
              "if (notebookContainer) {{\n",
              "    x.observe(notebookContainer, {childList: true});\n",
              "}}\n",
              "\n",
              "// Listen for the clearing of the current output cell\n",
              "var outputEl = gd.closest('.output');\n",
              "if (outputEl) {{\n",
              "    x.observe(outputEl, {childList: true});\n",
              "}}\n",
              "\n",
              "                        })\n",
              "                };\n",
              "                \n",
              "            </script>\n",
              "        </div>\n",
              "</body>\n",
              "</html>"
            ]
          },
          "metadata": {
            "tags": []
          }
        }
      ]
    },
    {
      "cell_type": "code",
      "metadata": {
        "id": "kuqP1ueStF8h",
        "colab_type": "code",
        "colab": {
          "base_uri": "https://localhost:8080/",
          "height": 296
        },
        "outputId": "7a3ff26f-4b95-4082-a0c1-366c516c95e9"
      },
      "source": [
        "sns.violinplot(x=homes['Neighborhood'], y=homes['SalePrice'], width=5, scale='count')"
      ],
      "execution_count": 84,
      "outputs": [
        {
          "output_type": "execute_result",
          "data": {
            "text/plain": [
              "<matplotlib.axes._subplots.AxesSubplot at 0x7f9cc82d0eb8>"
            ]
          },
          "metadata": {
            "tags": []
          },
          "execution_count": 84
        },
        {
          "output_type": "display_data",
          "data": {
            "image/png": "[encoded data removed]",
            "text/plain": [
              "<Figure size 432x288 with 1 Axes>"
            ]
          },
          "metadata": {
            "tags": []
          }
        }
      ]
    },
    {
      "cell_type": "code",
      "metadata": {
        "id": "WXfdjbiU-gI5",
        "colab_type": "code",
        "outputId": "4563aa03-dcb7-4408-a7b2-90012edd9ef5",
        "colab": {
          "base_uri": "https://localhost:8080/",
          "height": 279
        }
      },
      "source": [
        "%matplotlib inline\n",
        "import seaborn as sns\n",
        "sns.distplot(homes['SalePrice']);"
      ],
      "execution_count": 67,
      "outputs": [
        {
          "output_type": "display_data",
          "data": {
            "image/png": "[encoded data removed]",
            "text/plain": [
              "<Figure size 432x288 with 1 Axes>"
            ]
          },
          "metadata": {
            "tags": []
          }
        }
      ]
    },
    {
      "cell_type": "markdown",
      "metadata": {
        "colab_type": "text",
        "id": "yqeiq1wvyrTq"
      },
      "source": [
        "## 2.2. Do train/validate/test split\n",
        "\n",
        "Train on houses sold in the years 2006 - 2008. (1,920 rows)\n",
        "\n",
        "Validate on house sold in 2009. (644 rows)\n",
        "\n",
        "Test on houses sold in 2010. (340 rows)"
      ]
    },
    {
      "cell_type": "code",
      "metadata": {
        "id": "Bf_2l6WWvbdp",
        "colab_type": "code",
        "outputId": "a8751af2-33a7-4535-d680-3e39ace6c1eb",
        "colab": {
          "base_uri": "https://localhost:8080/",
          "height": 34
        }
      },
      "source": [
        "# This took longer than it should have:\n",
        "# Yr_Sold is alread an integer!\n",
        "train = homes[homes.Yr_Sold < 2009]\n",
        "val = homes[homes.Yr_Sold == 2009]\n",
        "test  = homes[homes.Yr_Sold == 2010]\n",
        "train.shape, val.shape, test.shape"
      ],
      "execution_count": 87,
      "outputs": [
        {
          "output_type": "execute_result",
          "data": {
            "text/plain": [
              "((1920, 47), (644, 47), (340, 47))"
            ]
          },
          "metadata": {
            "tags": []
          },
          "execution_count": 87
        }
      ]
    },
    {
      "cell_type": "markdown",
      "metadata": {
        "colab_type": "text",
        "id": "hk1bYDJy6txq"
      },
      "source": [
        "## 2.3. Arrange data into X features matrix and y target vector\n",
        "\n",
        "Select at least one numeric feature and at least one categorical feature.\n",
        "\n",
        "Otherwise, you may choose whichever features and however many you want."
      ]
    },
    {
      "cell_type": "code",
      "metadata": {
        "id": "J5NIyO1aoHHH",
        "colab_type": "code",
        "colab": {}
      },
      "source": [
        "# I like Overall_Quality and Neighborhood\n",
        "target = 'SalePrice'\n",
        "features = ['Overall_Qual', 'Neighborhood']\n",
        "X_features = homes[features]\n",
        "y_target = homes[target]"
      ],
      "execution_count": 0,
      "outputs": []
    },
    {
      "cell_type": "markdown",
      "metadata": {
        "colab_type": "text",
        "id": "zDT-gSl_-Gwh"
      },
      "source": [
        "## 2.4. Do one-hot encoding\n",
        "\n",
        "Encode your categorical feature(s)."
      ]
    },
    {
      "cell_type": "code",
      "metadata": {
        "id": "vyDO7LQIywNi",
        "colab_type": "code",
        "colab": {}
      },
      "source": [
        "# Set up data\n",
        "X_train = train[features]\n",
        "y_train = train[target]\n",
        "X_val = val[features]\n",
        "y_val = val[target]\n",
        "X_test = test[features]\n",
        "y_test = test[target]"
      ],
      "execution_count": 0,
      "outputs": []
    },
    {
      "cell_type": "code",
      "metadata": {
        "id": "8Nwx93c-yonL",
        "colab_type": "code",
        "outputId": "693ffe63-3c4b-4326-e323-ac4a01c04f0c",
        "colab": {
          "base_uri": "https://localhost:8080/",
          "height": 224
        }
      },
      "source": [
        "# Encode\n",
        "encoder = ce.OneHotEncoder(use_cat_names=True)\n",
        "X_train_encoded = encoder.fit_transform(X_train)\n",
        "X_test_encoded = encoder.transform(X_test)\n",
        "X_val_encoded = encoder.transform(X_val)\n",
        "\n",
        "X_train_encoded.head()"
      ],
      "execution_count": 90,
      "outputs": [
        {
          "output_type": "execute_result",
          "data": {
            "text/html": [
              "<div>\n",
              "<style scoped>\n",
              "    .dataframe tbody tr th:only-of-type {\n",
              "        vertical-align: middle;\n",
              "    }\n",
              "\n",
              "    .dataframe tbody tr th {\n",
              "        vertical-align: top;\n",
              "    }\n",
              "\n",
              "    .dataframe thead th {\n",
              "        text-align: right;\n",
              "    }\n",
              "</style>\n",
              "<table border=\"1\" class=\"dataframe\">\n",
              "  <thead>\n",
              "    <tr style=\"text-align: right;\">\n",
              "      <th></th>\n",
              "      <th>Overall_Qual</th>\n",
              "      <th>Neighborhood_NAmes</th>\n",
              "      <th>Neighborhood_Gilbert</th>\n",
              "      <th>Neighborhood_StoneBr</th>\n",
              "      <th>Neighborhood_NWAmes</th>\n",
              "      <th>Neighborhood_BrDale</th>\n",
              "      <th>Neighborhood_NPkVill</th>\n",
              "      <th>Neighborhood_NridgHt</th>\n",
              "      <th>Neighborhood_Blmngtn</th>\n",
              "      <th>Neighborhood_NoRidge</th>\n",
              "      <th>Neighborhood_Somerst</th>\n",
              "      <th>Neighborhood_SawyerW</th>\n",
              "      <th>Neighborhood_Sawyer</th>\n",
              "      <th>Neighborhood_Veenker</th>\n",
              "      <th>Neighborhood_BrkSide</th>\n",
              "      <th>Neighborhood_OldTown</th>\n",
              "      <th>Neighborhood_IDOTRR</th>\n",
              "      <th>Neighborhood_ClearCr</th>\n",
              "      <th>Neighborhood_Edwards</th>\n",
              "      <th>Neighborhood_CollgCr</th>\n",
              "      <th>Neighborhood_SWISU</th>\n",
              "      <th>Neighborhood_Crawfor</th>\n",
              "      <th>Neighborhood_Blueste</th>\n",
              "      <th>Neighborhood_Mitchel</th>\n",
              "      <th>Neighborhood_Timber</th>\n",
              "      <th>Neighborhood_MeadowV</th>\n",
              "      <th>Neighborhood_Greens</th>\n",
              "      <th>Neighborhood_GrnHill</th>\n",
              "      <th>Neighborhood_Landmrk</th>\n",
              "    </tr>\n",
              "  </thead>\n",
              "  <tbody>\n",
              "    <tr>\n",
              "      <th>984</th>\n",
              "      <td>6</td>\n",
              "      <td>1</td>\n",
              "      <td>0</td>\n",
              "      <td>0</td>\n",
              "      <td>0</td>\n",
              "      <td>0</td>\n",
              "      <td>0</td>\n",
              "      <td>0</td>\n",
              "      <td>0</td>\n",
              "      <td>0</td>\n",
              "      <td>0</td>\n",
              "      <td>0</td>\n",
              "      <td>0</td>\n",
              "      <td>0</td>\n",
              "      <td>0</td>\n",
              "      <td>0</td>\n",
              "      <td>0</td>\n",
              "      <td>0</td>\n",
              "      <td>0</td>\n",
              "      <td>0</td>\n",
              "      <td>0</td>\n",
              "      <td>0</td>\n",
              "      <td>0</td>\n",
              "      <td>0</td>\n",
              "      <td>0</td>\n",
              "      <td>0</td>\n",
              "      <td>0</td>\n",
              "      <td>0</td>\n",
              "      <td>0</td>\n",
              "    </tr>\n",
              "    <tr>\n",
              "      <th>985</th>\n",
              "      <td>6</td>\n",
              "      <td>1</td>\n",
              "      <td>0</td>\n",
              "      <td>0</td>\n",
              "      <td>0</td>\n",
              "      <td>0</td>\n",
              "      <td>0</td>\n",
              "      <td>0</td>\n",
              "      <td>0</td>\n",
              "      <td>0</td>\n",
              "      <td>0</td>\n",
              "      <td>0</td>\n",
              "      <td>0</td>\n",
              "      <td>0</td>\n",
              "      <td>0</td>\n",
              "      <td>0</td>\n",
              "      <td>0</td>\n",
              "      <td>0</td>\n",
              "      <td>0</td>\n",
              "      <td>0</td>\n",
              "      <td>0</td>\n",
              "      <td>0</td>\n",
              "      <td>0</td>\n",
              "      <td>0</td>\n",
              "      <td>0</td>\n",
              "      <td>0</td>\n",
              "      <td>0</td>\n",
              "      <td>0</td>\n",
              "      <td>0</td>\n",
              "    </tr>\n",
              "    <tr>\n",
              "      <th>986</th>\n",
              "      <td>6</td>\n",
              "      <td>1</td>\n",
              "      <td>0</td>\n",
              "      <td>0</td>\n",
              "      <td>0</td>\n",
              "      <td>0</td>\n",
              "      <td>0</td>\n",
              "      <td>0</td>\n",
              "      <td>0</td>\n",
              "      <td>0</td>\n",
              "      <td>0</td>\n",
              "      <td>0</td>\n",
              "      <td>0</td>\n",
              "      <td>0</td>\n",
              "      <td>0</td>\n",
              "      <td>0</td>\n",
              "      <td>0</td>\n",
              "      <td>0</td>\n",
              "      <td>0</td>\n",
              "      <td>0</td>\n",
              "      <td>0</td>\n",
              "      <td>0</td>\n",
              "      <td>0</td>\n",
              "      <td>0</td>\n",
              "      <td>0</td>\n",
              "      <td>0</td>\n",
              "      <td>0</td>\n",
              "      <td>0</td>\n",
              "      <td>0</td>\n",
              "    </tr>\n",
              "    <tr>\n",
              "      <th>987</th>\n",
              "      <td>6</td>\n",
              "      <td>0</td>\n",
              "      <td>1</td>\n",
              "      <td>0</td>\n",
              "      <td>0</td>\n",
              "      <td>0</td>\n",
              "      <td>0</td>\n",
              "      <td>0</td>\n",
              "      <td>0</td>\n",
              "      <td>0</td>\n",
              "      <td>0</td>\n",
              "      <td>0</td>\n",
              "      <td>0</td>\n",
              "      <td>0</td>\n",
              "      <td>0</td>\n",
              "      <td>0</td>\n",
              "      <td>0</td>\n",
              "      <td>0</td>\n",
              "      <td>0</td>\n",
              "      <td>0</td>\n",
              "      <td>0</td>\n",
              "      <td>0</td>\n",
              "      <td>0</td>\n",
              "      <td>0</td>\n",
              "      <td>0</td>\n",
              "      <td>0</td>\n",
              "      <td>0</td>\n",
              "      <td>0</td>\n",
              "      <td>0</td>\n",
              "    </tr>\n",
              "    <tr>\n",
              "      <th>988</th>\n",
              "      <td>6</td>\n",
              "      <td>0</td>\n",
              "      <td>1</td>\n",
              "      <td>0</td>\n",
              "      <td>0</td>\n",
              "      <td>0</td>\n",
              "      <td>0</td>\n",
              "      <td>0</td>\n",
              "      <td>0</td>\n",
              "      <td>0</td>\n",
              "      <td>0</td>\n",
              "      <td>0</td>\n",
              "      <td>0</td>\n",
              "      <td>0</td>\n",
              "      <td>0</td>\n",
              "      <td>0</td>\n",
              "      <td>0</td>\n",
              "      <td>0</td>\n",
              "      <td>0</td>\n",
              "      <td>0</td>\n",
              "      <td>0</td>\n",
              "      <td>0</td>\n",
              "      <td>0</td>\n",
              "      <td>0</td>\n",
              "      <td>0</td>\n",
              "      <td>0</td>\n",
              "      <td>0</td>\n",
              "      <td>0</td>\n",
              "      <td>0</td>\n",
              "    </tr>\n",
              "  </tbody>\n",
              "</table>\n",
              "</div>"
            ],
            "text/plain": [
              "     Overall_Qual  ...  Neighborhood_Landmrk\n",
              "984             6  ...                     0\n",
              "985             6  ...                     0\n",
              "986             6  ...                     0\n",
              "987             6  ...                     0\n",
              "988             6  ...                     0\n",
              "\n",
              "[5 rows x 29 columns]"
            ]
          },
          "metadata": {
            "tags": []
          },
          "execution_count": 90
        }
      ]
    },
    {
      "cell_type": "markdown",
      "metadata": {
        "colab_type": "text",
        "id": "2ZceruUx-Vs-"
      },
      "source": [
        "## 2.5. Use scikit-learn to fit a linear regression or ridge regression model\n",
        "Fit your model."
      ]
    },
    {
      "cell_type": "code",
      "metadata": {
        "colab_type": "code",
        "id": "WKFjWLI3w0P_",
        "outputId": "f6d72082-d1a2-42ac-ce9d-9063cf93b502",
        "colab": {
          "base_uri": "https://localhost:8080/",
          "height": 34
        }
      },
      "source": [
        "# Linear regression\n",
        "\n",
        "from sklearn.feature_selection import f_regression, SelectKBest\n",
        "from sklearn.linear_model import LinearRegression\n",
        "from sklearn.preprocessing import StandardScaler\n",
        "\n",
        "# Scale\n",
        "scaler = StandardScaler()\n",
        "X_train_scaled = scaler.fit_transform(X_train_encoded)\n",
        "X_test_scaled = scaler.transform(X_test_encoded)\n",
        "X_val_scaled = scaler.transform(X_val_encoded)\n",
        "\n",
        "# Select, fit\n",
        "selector = SelectKBest(score_func=f_regression, k=10)\n",
        "X_train_selected = selector.fit_transform(X_train_scaled, y_train)\n",
        "X_test_selected = selector.transform(X_test_scaled)\n",
        "model = LinearRegression()\n",
        "model.fit(X_train_selected, y_train)"
      ],
      "execution_count": 92,
      "outputs": [
        {
          "output_type": "execute_result",
          "data": {
            "text/plain": [
              "LinearRegression(copy_X=True, fit_intercept=True, n_jobs=None, normalize=False)"
            ]
          },
          "metadata": {
            "tags": []
          },
          "execution_count": 92
        }
      ]
    },
    {
      "cell_type": "markdown",
      "metadata": {
        "colab_type": "text",
        "id": "E9reASgw-i8T"
      },
      "source": [
        "## 2.6. Report validation MAE and $R^2$\n",
        "\n",
        "What is your model's Mean Absolute Error and $R^2$ score on the validation set? (You are not graded on how high or low your validation scores are.)"
      ]
    },
    {
      "cell_type": "code",
      "metadata": {
        "id": "AhKzSHsI1LxP",
        "colab_type": "code",
        "outputId": "41024c1e-085c-4526-ddbd-0d079096fc21",
        "colab": {
          "base_uri": "https://localhost:8080/",
          "height": 34
        }
      },
      "source": [
        "# Mean Absolute Error\n",
        "y_pred = model.predict(X_test_selected)\n",
        "mae = mean_absolute_error(y_test, y_pred)\n",
        "print('MAE', mae)"
      ],
      "execution_count": 93,
      "outputs": [
        {
          "output_type": "stream",
          "text": [
            "MAE 32473.72021378442\n"
          ],
          "name": "stdout"
        }
      ]
    },
    {
      "cell_type": "code",
      "metadata": {
        "colab_type": "code",
        "id": "q8GdnL4e7hyK",
        "outputId": "f39c6bae-4e2f-4fd9-db9c-8e19c6fa56ae",
        "colab": {
          "base_uri": "https://localhost:8080/",
          "height": 34
        }
      },
      "source": [
        "# R^2\n",
        "from sklearn.metrics import r2_score\n",
        "y_pred_train = model.predict(X_train_selected)\n",
        "print('Train R^2 Score:', r2_score(y_train, y_pred_train))"
      ],
      "execution_count": 96,
      "outputs": [
        {
          "output_type": "stream",
          "text": [
            "Train R^2 Score: 0.6997380583599564\n"
          ],
          "name": "stdout"
        }
      ]
    },
    {
      "cell_type": "markdown",
      "metadata": {
        "colab_type": "text",
        "id": "DidByDsrOa-o"
      },
      "source": [
        "# Stretch Goals, Regression\n",
        "- Make at least 2 visualizations to explore relationships between features and target. You may use any visualization library\n",
        "- Try at least 3 feature combinations. You may select features manually, or automatically\n",
        "- Report validation MAE and $R^2$ for each feature combination you try\n",
        "- Report test MAE and $R^2$ for your final model\n",
        "- Print or plot the coefficients for the features in your model"
      ]
    },
    {
      "cell_type": "code",
      "metadata": {
        "colab_type": "code",
        "id": "xOfSQIf3Y3OV",
        "colab": {}
      },
      "source": [
        "# Different features\n",
        "features2 = ['Overall_Qual', 'Functional', 'Heating']\n",
        "X_features2 = homes[features2]"
      ],
      "execution_count": 0,
      "outputs": []
    },
    {
      "cell_type": "code",
      "metadata": {
        "id": "JA8sKnrlz7nB",
        "colab_type": "code",
        "colab": {
          "base_uri": "https://localhost:8080/",
          "height": 215
        },
        "outputId": "346a2e13-3a8c-4303-e3e5-2a3e14f14b23"
      },
      "source": [
        "# Scale\n",
        "scaler = StandardScaler()\n",
        "X_train_scaled = scaler.fit_transform(X_train_encoded)\n",
        "X_test_scaled = scaler.transform(X_test_encoded)\n",
        "X_val_scaled = scaler.transform(X_val_encoded)"
      ],
      "execution_count": 86,
      "outputs": [
        {
          "output_type": "error",
          "ename": "NameError",
          "evalue": "ignored",
          "traceback": [
            "\u001b[0;31m---------------------------------------------------------------------------\u001b[0m",
            "\u001b[0;31mNameError\u001b[0m                                 Traceback (most recent call last)",
            "\u001b[0;32m<ipython-input-86-ff52a6432086>\u001b[0m in \u001b[0;36m<module>\u001b[0;34m()\u001b[0m\n\u001b[1;32m      1\u001b[0m \u001b[0mscaler\u001b[0m \u001b[0;34m=\u001b[0m \u001b[0mStandardScaler\u001b[0m\u001b[0;34m(\u001b[0m\u001b[0;34m)\u001b[0m\u001b[0;34m\u001b[0m\u001b[0;34m\u001b[0m\u001b[0m\n\u001b[0;32m----> 2\u001b[0;31m \u001b[0mX_train_scaled\u001b[0m \u001b[0;34m=\u001b[0m \u001b[0mscaler\u001b[0m\u001b[0;34m.\u001b[0m\u001b[0mfit_transform\u001b[0m\u001b[0;34m(\u001b[0m\u001b[0mX_train_encoded\u001b[0m\u001b[0;34m)\u001b[0m\u001b[0;34m\u001b[0m\u001b[0;34m\u001b[0m\u001b[0m\n\u001b[0m\u001b[1;32m      3\u001b[0m \u001b[0mX_test_scaled\u001b[0m \u001b[0;34m=\u001b[0m \u001b[0mscaler\u001b[0m\u001b[0;34m.\u001b[0m\u001b[0mtransform\u001b[0m\u001b[0;34m(\u001b[0m\u001b[0mX_test_encoded\u001b[0m\u001b[0;34m)\u001b[0m\u001b[0;34m\u001b[0m\u001b[0;34m\u001b[0m\u001b[0m\n\u001b[1;32m      4\u001b[0m \u001b[0mX_val_scaled\u001b[0m \u001b[0;34m=\u001b[0m \u001b[0mscaler\u001b[0m\u001b[0;34m.\u001b[0m\u001b[0mtransform\u001b[0m\u001b[0;34m(\u001b[0m\u001b[0mX_val_encoded\u001b[0m\u001b[0;34m)\u001b[0m\u001b[0;34m\u001b[0m\u001b[0;34m\u001b[0m\u001b[0m\n",
            "\u001b[0;31mNameError\u001b[0m: name 'X_train_encoded' is not defined"
          ]
        }
      ]
    },
    {
      "cell_type": "code",
      "metadata": {
        "id": "8NxdtOwv0FG_",
        "colab_type": "code",
        "colab": {}
      },
      "source": [
        "# Select, fit\n",
        "selector = SelectKBest(score_func=f_regression, k=k)\n",
        "X_train_selected = selector.fit_transform(X_train_scaled, y_train)\n",
        "X_test_selected = selector.transform(X_test_scaled)\n",
        "model = LinearRegression()\n",
        "model.fit(X_train_selected, y_train)"
      ],
      "execution_count": 0,
      "outputs": []
    },
    {
      "cell_type": "markdown",
      "metadata": {
        "colab_type": "text",
        "id": "PdkjBN1Dy_-A"
      },
      "source": [
        "# Data Dictionary \n",
        "\n",
        "Here's a description of the data fields:\n",
        "\n",
        "```\n",
        "1st_Flr_SF: First Floor square feet\n",
        "\n",
        "Bedroom_AbvGr: Bedrooms above grade (does NOT include basement bedrooms)\n",
        "\n",
        "Bldg_Type: Type of dwelling\n",
        "\t\t\n",
        "       1Fam\tSingle-family Detached\t\n",
        "       2FmCon\tTwo-family Conversion; originally built as one-family dwelling\n",
        "       Duplx\tDuplex\n",
        "       TwnhsE\tTownhouse End Unit\n",
        "       TwnhsI\tTownhouse Inside Unit\n",
        "       \n",
        "Bsmt_Half_Bath: Basement half bathrooms\n",
        "\n",
        "Bsmt_Full_Bath: Basement full bathrooms\n",
        "\n",
        "Central_Air: Central air conditioning\n",
        "\n",
        "       N\tNo\n",
        "       Y\tYes\n",
        "\t\t\n",
        "Condition_1: Proximity to various conditions\n",
        "\t\n",
        "       Artery\tAdjacent to arterial street\n",
        "       Feedr\tAdjacent to feeder street\t\n",
        "       Norm\tNormal\t\n",
        "       RRNn\tWithin 200' of North-South Railroad\n",
        "       RRAn\tAdjacent to North-South Railroad\n",
        "       PosN\tNear positive off-site feature--park, greenbelt, etc.\n",
        "       PosA\tAdjacent to postive off-site feature\n",
        "       RRNe\tWithin 200' of East-West Railroad\n",
        "       RRAe\tAdjacent to East-West Railroad\n",
        "\t\n",
        "Condition_2: Proximity to various conditions (if more than one is present)\n",
        "\t\t\n",
        "       Artery\tAdjacent to arterial street\n",
        "       Feedr\tAdjacent to feeder street\t\n",
        "       Norm\tNormal\t\n",
        "       RRNn\tWithin 200' of North-South Railroad\n",
        "       RRAn\tAdjacent to North-South Railroad\n",
        "       PosN\tNear positive off-site feature--park, greenbelt, etc.\n",
        "       PosA\tAdjacent to postive off-site feature\n",
        "       RRNe\tWithin 200' of East-West Railroad\n",
        "       RRAe\tAdjacent to East-West Railroad\n",
        "       \n",
        " Electrical: Electrical system\n",
        "\n",
        "       SBrkr\tStandard Circuit Breakers & Romex\n",
        "       FuseA\tFuse Box over 60 AMP and all Romex wiring (Average)\t\n",
        "       FuseF\t60 AMP Fuse Box and mostly Romex wiring (Fair)\n",
        "       FuseP\t60 AMP Fuse Box and mostly knob & tube wiring (poor)\n",
        "       Mix\tMixed\n",
        "       \n",
        " Exter_Cond: Evaluates the present condition of the material on the exterior\n",
        "\t\t\n",
        "       Ex\tExcellent\n",
        "       Gd\tGood\n",
        "       TA\tAverage/Typical\n",
        "       Fa\tFair\n",
        "       Po\tPoor\n",
        " \n",
        " Exter_Qual: Evaluates the quality of the material on the exterior \n",
        "\t\t\n",
        "       Ex\tExcellent\n",
        "       Gd\tGood\n",
        "       TA\tAverage/Typical\n",
        "       Fa\tFair\n",
        "       Po\tPoor\n",
        "\t\t\n",
        "Exterior_1st: Exterior covering on house\n",
        "\n",
        "       AsbShng\tAsbestos Shingles\n",
        "       AsphShn\tAsphalt Shingles\n",
        "       BrkComm\tBrick Common\n",
        "       BrkFace\tBrick Face\n",
        "       CBlock\tCinder Block\n",
        "       CemntBd\tCement Board\n",
        "       HdBoard\tHard Board\n",
        "       ImStucc\tImitation Stucco\n",
        "       MetalSd\tMetal Siding\n",
        "       Other\tOther\n",
        "       Plywood\tPlywood\n",
        "       PreCast\tPreCast\t\n",
        "       Stone\tStone\n",
        "       Stucco\tStucco\n",
        "       VinylSd\tVinyl Siding\n",
        "       Wd Sdng\tWood Siding\n",
        "       WdShing\tWood Shingles\n",
        "\t\n",
        "Exterior_2nd: Exterior covering on house (if more than one material)\n",
        "\n",
        "       AsbShng\tAsbestos Shingles\n",
        "       AsphShn\tAsphalt Shingles\n",
        "       BrkComm\tBrick Common\n",
        "       BrkFace\tBrick Face\n",
        "       CBlock\tCinder Block\n",
        "       CemntBd\tCement Board\n",
        "       HdBoard\tHard Board\n",
        "       ImStucc\tImitation Stucco\n",
        "       MetalSd\tMetal Siding\n",
        "       Other\tOther\n",
        "       Plywood\tPlywood\n",
        "       PreCast\tPreCast\n",
        "       Stone\tStone\n",
        "       Stucco\tStucco\n",
        "       VinylSd\tVinyl Siding\n",
        "       Wd Sdng\tWood Siding\n",
        "       WdShing\tWood Shingles\n",
        "       \n",
        "Foundation: Type of foundation\n",
        "\t\t\n",
        "       BrkTil\tBrick & Tile\n",
        "       CBlock\tCinder Block\n",
        "       PConc\tPoured Contrete\t\n",
        "       Slab\tSlab\n",
        "       Stone\tStone\n",
        "       Wood\tWood\n",
        "\t\t\n",
        "Full_Bath: Full bathrooms above grade\n",
        "\n",
        "Functional: Home functionality (Assume typical unless deductions are warranted)\n",
        "\n",
        "       Typ\tTypical Functionality\n",
        "       Min1\tMinor Deductions 1\n",
        "       Min2\tMinor Deductions 2\n",
        "       Mod\tModerate Deductions\n",
        "       Maj1\tMajor Deductions 1\n",
        "       Maj2\tMajor Deductions 2\n",
        "       Sev\tSeverely Damaged\n",
        "       Sal\tSalvage only\n",
        "\t\t\n",
        "Gr_Liv_Area: Above grade (ground) living area square feet\n",
        "        \n",
        "Half_Bath: Half baths above grade\n",
        "\n",
        "Heating: Type of heating\n",
        "\t\t\n",
        "       Floor\tFloor Furnace\n",
        "       GasA\tGas forced warm air furnace\n",
        "       GasW\tGas hot water or steam heat\n",
        "       Grav\tGravity furnace\t\n",
        "       OthW\tHot water or steam heat other than gas\n",
        "       Wall\tWall furnace\n",
        "\t\t\n",
        "Heating_QC: Heating quality and condition\n",
        "\n",
        "       Ex\tExcellent\n",
        "       Gd\tGood\n",
        "       TA\tAverage/Typical\n",
        "       Fa\tFair\n",
        "       Po\tPoor\n",
        "\n",
        "House_Style: Style of dwelling\n",
        "\t\n",
        "       1Story\tOne story\n",
        "       1.5Fin\tOne and one-half story: 2nd level finished\n",
        "       1.5Unf\tOne and one-half story: 2nd level unfinished\n",
        "       2Story\tTwo story\n",
        "       2.5Fin\tTwo and one-half story: 2nd level finished\n",
        "       2.5Unf\tTwo and one-half story: 2nd level unfinished\n",
        "       SFoyer\tSplit Foyer\n",
        "       SLvl\tSplit Level\n",
        "\n",
        "Kitchen_AbvGr: Kitchens above grade\n",
        "\n",
        "Kitchen_Qual: Kitchen quality\n",
        "\n",
        "       Ex\tExcellent\n",
        "       Gd\tGood\n",
        "       TA\tTypical/Average\n",
        "       Fa\tFair\n",
        "       Po\tPoor\n",
        "\n",
        "LandContour: Flatness of the property\n",
        "\n",
        "       Lvl\tNear Flat/Level\t\n",
        "       Bnk\tBanked - Quick and significant rise from street grade to building\n",
        "       HLS\tHillside - Significant slope from side to side\n",
        "       Low\tDepression\n",
        "\t\t\n",
        "Land_Slope: Slope of property\n",
        "\t\t\n",
        "       Gtl\tGentle slope\n",
        "       Mod\tModerate Slope\t\n",
        "       Sev\tSevere Slope\n",
        "\n",
        "Lot_Area: Lot size in square feet\n",
        "\n",
        "Lot_Config: Lot configuration\n",
        "\n",
        "       Inside\tInside lot\n",
        "       Corner\tCorner lot\n",
        "       CulDSac\tCul-de-sac\n",
        "       FR2\tFrontage on 2 sides of property\n",
        "       FR3\tFrontage on 3 sides of property\n",
        "\n",
        "Lot_Shape: General shape of property\n",
        "\n",
        "       Reg\tRegular\t\n",
        "       IR1\tSlightly irregular\n",
        "       IR2\tModerately Irregular\n",
        "       IR3\tIrregular\n",
        "\n",
        "MS_SubClass: Identifies the type of dwelling involved in the sale.\t\n",
        "\n",
        "        20\t1-STORY 1946 & NEWER ALL STYLES\n",
        "        30\t1-STORY 1945 & OLDER\n",
        "        40\t1-STORY W/FINISHED ATTIC ALL AGES\n",
        "        45\t1-1/2 STORY - UNFINISHED ALL AGES\n",
        "        50\t1-1/2 STORY FINISHED ALL AGES\n",
        "        60\t2-STORY 1946 & NEWER\n",
        "        70\t2-STORY 1945 & OLDER\n",
        "        75\t2-1/2 STORY ALL AGES\n",
        "        80\tSPLIT OR MULTI-LEVEL\n",
        "        85\tSPLIT FOYER\n",
        "        90\tDUPLEX - ALL STYLES AND AGES\n",
        "       120\t1-STORY PUD (Planned Unit Development) - 1946 & NEWER\n",
        "       150\t1-1/2 STORY PUD - ALL AGES\n",
        "       160\t2-STORY PUD - 1946 & NEWER\n",
        "       180\tPUD - MULTILEVEL - INCL SPLIT LEV/FOYER\n",
        "       190\t2 FAMILY CONVERSION - ALL STYLES AND AGES\n",
        "\n",
        "MS_Zoning: Identifies the general zoning classification of the sale.\n",
        "\t\t\n",
        "       A\tAgriculture\n",
        "       C\tCommercial\n",
        "       FV\tFloating Village Residential\n",
        "       I\tIndustrial\n",
        "       RH\tResidential High Density\n",
        "       RL\tResidential Low Density\n",
        "       RP\tResidential Low Density Park \n",
        "       RM\tResidential Medium Density\n",
        "\n",
        "Mas_Vnr_Type: Masonry veneer type\n",
        "\n",
        "       BrkCmn\tBrick Common\n",
        "       BrkFace\tBrick Face\n",
        "       CBlock\tCinder Block\n",
        "       None\tNone\n",
        "       Stone\tStone\n",
        "\n",
        "Mo_Sold: Month Sold (MM)\n",
        "\n",
        "Neighborhood: Physical locations within Ames city limits\n",
        "\n",
        "       Blmngtn\tBloomington Heights\n",
        "       Blueste\tBluestem\n",
        "       BrDale\tBriardale\n",
        "       BrkSide\tBrookside\n",
        "       ClearCr\tClear Creek\n",
        "       CollgCr\tCollege Creek\n",
        "       Crawfor\tCrawford\n",
        "       Edwards\tEdwards\n",
        "       Gilbert\tGilbert\n",
        "       IDOTRR\tIowa DOT and Rail Road\n",
        "       MeadowV\tMeadow Village\n",
        "       Mitchel\tMitchell\n",
        "       Names\tNorth Ames\n",
        "       NoRidge\tNorthridge\n",
        "       NPkVill\tNorthpark Villa\n",
        "       NridgHt\tNorthridge Heights\n",
        "       NWAmes\tNorthwest Ames\n",
        "       OldTown\tOld Town\n",
        "       SWISU\tSouth & West of Iowa State University\n",
        "       Sawyer\tSawyer\n",
        "       SawyerW\tSawyer West\n",
        "       Somerst\tSomerset\n",
        "       StoneBr\tStone Brook\n",
        "       Timber\tTimberland\n",
        "       Veenker\tVeenker\n",
        "\t\t\t\n",
        "Overall_Cond: Rates the overall condition of the house\n",
        "\n",
        "       10\tVery Excellent\n",
        "       9\tExcellent\n",
        "       8\tVery Good\n",
        "       7\tGood\n",
        "       6\tAbove Average\t\n",
        "       5\tAverage\n",
        "       4\tBelow Average\t\n",
        "       3\tFair\n",
        "       2\tPoor\n",
        "       1\tVery Poor\n",
        "\n",
        "Overall_Qual: Rates the overall material and finish of the house\n",
        "\n",
        "       10\tVery Excellent\n",
        "       9\tExcellent\n",
        "       8\tVery Good\n",
        "       7\tGood\n",
        "       6\tAbove Average\n",
        "       5\tAverage\n",
        "       4\tBelow Average\n",
        "       3\tFair\n",
        "       2\tPoor\n",
        "       1\tVery Poor\n",
        "\n",
        "Paved_Drive: Paved driveway\n",
        "\n",
        "       Y\tPaved \n",
        "       P\tPartial Pavement\n",
        "       N\tDirt/Gravel\n",
        "\n",
        "Roof_Matl: Roof material\n",
        "\n",
        "       ClyTile\tClay or Tile\n",
        "       CompShg\tStandard (Composite) Shingle\n",
        "       Membran\tMembrane\n",
        "       Metal\tMetal\n",
        "       Roll\tRoll\n",
        "       Tar&Grv\tGravel & Tar\n",
        "       WdShake\tWood Shakes\n",
        "       WdShngl\tWood Shingles\n",
        "\n",
        "Roof_Style: Type of roof\n",
        "\n",
        "       Flat\tFlat\n",
        "       Gable\tGable\n",
        "       Gambrel\tGabrel (Barn)\n",
        "       Hip\tHip\n",
        "       Mansard\tMansard\n",
        "       Shed\tShed\n",
        "\n",
        "SalePrice: the sales price for each house\n",
        "\n",
        "Sale_Condition: Condition of sale\n",
        "\n",
        "       Normal\tNormal Sale\n",
        "       Abnorml\tAbnormal Sale -  trade, foreclosure, short sale\n",
        "       AdjLand\tAdjoining Land Purchase\n",
        "       Alloca\tAllocation - two linked properties with separate deeds, typically condo with a garage unit\t\n",
        "       Family\tSale between family members\n",
        "       Partial\tHome was not completed when last assessed (associated with New Homes)\n",
        "\n",
        "Sale_Type: Type of sale\n",
        "\t\t\n",
        "       WD \tWarranty Deed - Conventional\n",
        "       CWD\tWarranty Deed - Cash\n",
        "       VWD\tWarranty Deed - VA Loan\n",
        "       New\tHome just constructed and sold\n",
        "       COD\tCourt Officer Deed/Estate\n",
        "       Con\tContract 15% Down payment regular terms\n",
        "       ConLw\tContract Low Down payment and low interest\n",
        "       ConLI\tContract Low Interest\n",
        "       ConLD\tContract Low Down\n",
        "       Oth\tOther\n",
        "\t\n",
        "Street: Type of road access to property\n",
        "\n",
        "       Grvl\tGravel\t\n",
        "       Pave\tPaved\n",
        "       \t\n",
        "TotRms_AbvGrd: Total rooms above grade (does not include bathrooms)\n",
        "\n",
        "Utilities: Type of utilities available\n",
        "\t\t\n",
        "       AllPub\tAll public Utilities (E,G,W,& S)\t\n",
        "       NoSewr\tElectricity, Gas, and Water (Septic Tank)\n",
        "       NoSeWa\tElectricity and Gas Only\n",
        "       ELO\tElectricity only\t\n",
        "\t\n",
        "Year_Built: Original construction date\n",
        "\n",
        "Year_Remod/Add: Remodel date (same as construction date if no remodeling or additions)\n",
        "\t\t\t\t\t\t\n",
        "Yr_Sold: Year Sold (YYYY)\t\n",
        "\n",
        "```"
      ]
    }
  ]
}