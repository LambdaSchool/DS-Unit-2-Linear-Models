{
  "nbformat": 4,
  "nbformat_minor": 0,
  "metadata": {
    "kernelspec": {
      "display_name": "Python 3",
      "language": "python",
      "name": "python3"
    },
    "language_info": {
      "codemirror_mode": {
        "name": "ipython",
        "version": 3
      },
      "file_extension": ".py",
      "mimetype": "text/x-python",
      "name": "python",
      "nbconvert_exporter": "python",
      "pygments_lexer": "ipython3",
      "version": "3.7.3"
    },
    "colab": {
      "name": "LS_DS_212_assignment.ipynb",
      "provenance": [],
      "collapsed_sections": [],
      "include_colab_link": true
    }
  },
  "cells": [
    {
      "cell_type": "markdown",
      "metadata": {
        "id": "view-in-github",
        "colab_type": "text"
      },
      "source": [
        "<a href=\"https://colab.research.google.com/github/worldwidekatie/DS-Unit-2-Linear-Models/blob/master/module2-regression-2/LS_DS_212_assignment.ipynb\" target=\"_parent\"><img src=\"https://colab.research.google.com/assets/colab-badge.svg\" alt=\"Open In Colab\"/></a>"
      ]
    },
    {
      "cell_type": "markdown",
      "metadata": {
        "id": "b2XzrpqxPrm4",
        "colab_type": "text"
      },
      "source": [
        "Lambda School Data Science\n",
        "\n",
        "*Unit 2, Sprint 1, Module 2*\n",
        "\n",
        "---"
      ]
    },
    {
      "cell_type": "markdown",
      "metadata": {
        "colab_type": "text",
        "id": "7IXUfiQ2UKj6"
      },
      "source": [
        "# Regression 2\n",
        "\n",
        "## Assignment\n",
        "\n",
        "You'll continue to **predict how much it costs to rent an apartment in NYC,** using the dataset from renthop.com.\n",
        "\n",
        "- [ ] Do train/test split. Use data from April & May 2016 to train. Use data from June 2016 to test.\n",
        "- [ ] Engineer at least two new features. (See below for explanation & ideas.)\n",
        "- [ ] Fit a linear regression model with at least two features.\n",
        "- [ ] Get the model's coefficients and intercept.\n",
        "- [ ] Get regression metrics RMSE, MAE, and $R^2$, for both the train and test data.\n",
        "- [ ] What's the best test MAE you can get? Share your score and features used with your cohort on Slack!\n",
        "- [ ] As always, commit your notebook to your fork of the GitHub repo.\n",
        "\n",
        "\n",
        "#### [Feature Engineering](https://en.wikipedia.org/wiki/Feature_engineering)\n",
        "\n",
        "> \"Some machine learning projects succeed and some fail. What makes the difference? Easily the most important factor is the features used.\" — Pedro Domingos, [\"A Few Useful Things to Know about Machine Learning\"](https://homes.cs.washington.edu/~pedrod/papers/cacm12.pdf)\n",
        "\n",
        "> \"Coming up with features is difficult, time-consuming, requires expert knowledge. 'Applied machine learning' is basically feature engineering.\" — Andrew Ng, [Machine Learning and AI via Brain simulations](https://forum.stanford.edu/events/2011/2011slides/plenary/2011plenaryNg.pdf) \n",
        "\n",
        "> Feature engineering is the process of using domain knowledge of the data to create features that make machine learning algorithms work. \n",
        "\n",
        "#### Feature Ideas\n",
        "- Does the apartment have a description?\n",
        "- How long is the description?\n",
        "- How many total perks does each apartment have?\n",
        "- Are cats _or_ dogs allowed?\n",
        "- Are cats _and_ dogs allowed?\n",
        "- Total number of rooms (beds + baths)\n",
        "- Ratio of beds to baths\n",
        "- What's the neighborhood, based on address or latitude & longitude?\n",
        "\n",
        "## Stretch Goals\n",
        "- [ ] If you want more math, skim [_An Introduction to Statistical Learning_](http://faculty.marshall.usc.edu/gareth-james/ISL/ISLR%20Seventh%20Printing.pdf),  Chapter 3.1, Simple Linear Regression, & Chapter 3.2, Multiple Linear Regression\n",
        "- [ ] If you want more introduction, watch [Brandon Foltz, Statistics 101: Simple Linear Regression](https://www.youtube.com/watch?v=ZkjP5RJLQF4)\n",
        "(20 minutes, over 1 million views)\n",
        "- [ ] Add your own stretch goal(s) !"
      ]
    },
    {
      "cell_type": "code",
      "metadata": {
        "colab_type": "code",
        "id": "o9eSnDYhUGD7",
        "colab": {}
      },
      "source": [
        "%%capture\n",
        "import sys\n",
        "\n",
        "# If you're on Colab:\n",
        "if 'google.colab' in sys.modules:\n",
        "    DATA_PATH = 'https://raw.githubusercontent.com/LambdaSchool/DS-Unit-2-Applied-Modeling/master/data/'\n",
        "    !pip install category_encoders==2.*\n",
        "\n",
        "# If you're working locally:\n",
        "else:\n",
        "    DATA_PATH = '../data/'\n",
        "    \n",
        "# Ignore this Numpy warning when using Plotly Express:\n",
        "# FutureWarning: Method .ptp is deprecated and will be removed in a future version. Use numpy.ptp instead.\n",
        "import warnings\n",
        "warnings.filterwarnings(action='ignore', category=FutureWarning, module='numpy')"
      ],
      "execution_count": 0,
      "outputs": []
    },
    {
      "cell_type": "code",
      "metadata": {
        "colab_type": "code",
        "id": "cvrw-T3bZOuW",
        "colab": {}
      },
      "source": [
        "import numpy as np\n",
        "import pandas as pd\n",
        "\n",
        "# Read New York City apartment rental listing data\n",
        "df = pd.read_csv(DATA_PATH+'apartments/renthop-nyc.csv')\n",
        "assert df.shape == (49352, 34)\n",
        "\n",
        "# Remove the most extreme 1% prices,\n",
        "# the most extreme .1% latitudes, &\n",
        "# the most extreme .1% longitudes\n",
        "df = df[(df['price'] >= np.percentile(df['price'], 0.5)) & \n",
        "        (df['price'] <= np.percentile(df['price'], 99.5)) & \n",
        "        (df['latitude'] >= np.percentile(df['latitude'], 0.05)) & \n",
        "        (df['latitude'] < np.percentile(df['latitude'], 99.95)) &\n",
        "        (df['longitude'] >= np.percentile(df['longitude'], 0.05)) & \n",
        "        (df['longitude'] <= np.percentile(df['longitude'], 99.95))]"
      ],
      "execution_count": 0,
      "outputs": []
    },
    {
      "cell_type": "markdown",
      "metadata": {
        "id": "dFMqjsZfxsWn",
        "colab_type": "text"
      },
      "source": [
        "#1. Do train/test split. Use data from April & May 2016 to train. Use data from June 2016 to test."
      ]
    },
    {
      "cell_type": "code",
      "metadata": {
        "id": "rCJYygEdxuN8",
        "colab_type": "code",
        "outputId": "b6b525c4-1e12-4aac-8b9b-1e6b9407769e",
        "colab": {
          "base_uri": "https://localhost:8080/",
          "height": 51
        }
      },
      "source": [
        "print(df['created'].min())\n",
        "print(df['created'].max())"
      ],
      "execution_count": 143,
      "outputs": [
        {
          "output_type": "stream",
          "text": [
            "2016-04-01 22:12:41\n",
            "2016-06-29 21:41:47\n"
          ],
          "name": "stdout"
        }
      ]
    },
    {
      "cell_type": "code",
      "metadata": {
        "id": "hYAFFF8Vy81t",
        "colab_type": "code",
        "outputId": "70bda81a-5ede-49a9-93c5-183bf9e8353b",
        "colab": {
          "base_uri": "https://localhost:8080/",
          "height": 34
        }
      },
      "source": [
        "train = df[df['created'] < '2016-06-01 00:00:01']\n",
        "test = df[df['created'] > '2016-06-01 00:00:01']\n",
        "train.shape, test.shape"
      ],
      "execution_count": 144,
      "outputs": [
        {
          "output_type": "execute_result",
          "data": {
            "text/plain": [
              "((31844, 34), (16973, 34))"
            ]
          },
          "metadata": {
            "tags": []
          },
          "execution_count": 144
        }
      ]
    },
    {
      "cell_type": "markdown",
      "metadata": {
        "id": "mbK0DJi-xvQ2",
        "colab_type": "text"
      },
      "source": [
        "#2. Engineer at least two new features. \n",
        "\n",
        "## I engineered interest level and total rooms\n",
        "\n",
        "###Then later engineered has description and description length"
      ]
    },
    {
      "cell_type": "code",
      "metadata": {
        "id": "7gJlgDDcxvjE",
        "colab_type": "code",
        "outputId": "0504f434-a907-417f-9953-460839cde71e",
        "colab": {
          "base_uri": "https://localhost:8080/",
          "height": 139
        }
      },
      "source": [
        "train['interest_level'] = train['interest_level'].replace({'low': 0, 'medium': 1, 'high': 2})"
      ],
      "execution_count": 145,
      "outputs": [
        {
          "output_type": "stream",
          "text": [
            "/usr/local/lib/python3.6/dist-packages/ipykernel_launcher.py:1: SettingWithCopyWarning: \n",
            "A value is trying to be set on a copy of a slice from a DataFrame.\n",
            "Try using .loc[row_indexer,col_indexer] = value instead\n",
            "\n",
            "See the caveats in the documentation: https://pandas.pydata.org/pandas-docs/stable/user_guide/indexing.html#returning-a-view-versus-a-copy\n",
            "  \"\"\"Entry point for launching an IPython kernel.\n"
          ],
          "name": "stderr"
        }
      ]
    },
    {
      "cell_type": "code",
      "metadata": {
        "id": "aaGu6B3JLocb",
        "colab_type": "code",
        "outputId": "b8cf3f74-e33c-4c96-ba07-e9d87a92f3c4",
        "colab": {
          "base_uri": "https://localhost:8080/",
          "height": 224
        }
      },
      "source": [
        "train['desirability'] = train['interest_level'] + train['exclusive']\n",
        "train['desirability'].value_counts()"
      ],
      "execution_count": 146,
      "outputs": [
        {
          "output_type": "stream",
          "text": [
            "/usr/local/lib/python3.6/dist-packages/ipykernel_launcher.py:1: SettingWithCopyWarning: \n",
            "A value is trying to be set on a copy of a slice from a DataFrame.\n",
            "Try using .loc[row_indexer,col_indexer] = value instead\n",
            "\n",
            "See the caveats in the documentation: https://pandas.pydata.org/pandas-docs/stable/user_guide/indexing.html#returning-a-view-versus-a-copy\n",
            "  \"\"\"Entry point for launching an IPython kernel.\n"
          ],
          "name": "stderr"
        },
        {
          "output_type": "execute_result",
          "data": {
            "text/plain": [
              "0    21117\n",
              "1     8059\n",
              "2     2516\n",
              "3      152\n",
              "Name: desirability, dtype: int64"
            ]
          },
          "metadata": {
            "tags": []
          },
          "execution_count": 146
        }
      ]
    },
    {
      "cell_type": "code",
      "metadata": {
        "id": "OAESm97uL6TV",
        "colab_type": "code",
        "outputId": "213925ed-4d8f-4a10-be70-c6a5e602d0a5",
        "colab": {
          "base_uri": "https://localhost:8080/",
          "height": 530
        }
      },
      "source": [
        "train.head()\n",
        "train['total_rooms'] = train['bathrooms'] + train['bedrooms']+ train['dining_room']\n",
        "train['total_rooms'].value_counts()"
      ],
      "execution_count": 147,
      "outputs": [
        {
          "output_type": "stream",
          "text": [
            "/usr/local/lib/python3.6/dist-packages/ipykernel_launcher.py:2: SettingWithCopyWarning: \n",
            "A value is trying to be set on a copy of a slice from a DataFrame.\n",
            "Try using .loc[row_indexer,col_indexer] = value instead\n",
            "\n",
            "See the caveats in the documentation: https://pandas.pydata.org/pandas-docs/stable/user_guide/indexing.html#returning-a-view-versus-a-copy\n",
            "  \n"
          ],
          "name": "stderr"
        },
        {
          "output_type": "execute_result",
          "data": {
            "text/plain": [
              "2.0     9630\n",
              "3.0     7053\n",
              "1.0     5833\n",
              "4.0     4607\n",
              "5.0     2140\n",
              "6.0     1241\n",
              "7.0      473\n",
              "4.5      166\n",
              "3.5      136\n",
              "5.5      127\n",
              "0.0       95\n",
              "8.0       91\n",
              "2.5       75\n",
              "6.5       70\n",
              "9.0       40\n",
              "7.5       30\n",
              "10.0      11\n",
              "8.5       10\n",
              "1.5        6\n",
              "9.5        5\n",
              "11.0       4\n",
              "12.0       1\n",
              "Name: total_rooms, dtype: int64"
            ]
          },
          "metadata": {
            "tags": []
          },
          "execution_count": 147
        }
      ]
    },
    {
      "cell_type": "code",
      "metadata": {
        "id": "Uy7gDs9ZM8y4",
        "colab_type": "code",
        "colab": {
          "base_uri": "https://localhost:8080/",
          "height": 343
        },
        "outputId": "41386549-5ced-49f7-ad05-70cb0210a81e"
      },
      "source": [
        "test['interest_level'] = test['interest_level'].replace({'low': 0, 'medium': 1, 'high': 2})\n",
        "test['desirability'] = test['interest_level'] + test['exclusive']\n",
        "test['total_rooms'] = test['bathrooms'] + test['bedrooms']+ test['dining_room']"
      ],
      "execution_count": 148,
      "outputs": [
        {
          "output_type": "stream",
          "text": [
            "/usr/local/lib/python3.6/dist-packages/ipykernel_launcher.py:1: SettingWithCopyWarning: \n",
            "A value is trying to be set on a copy of a slice from a DataFrame.\n",
            "Try using .loc[row_indexer,col_indexer] = value instead\n",
            "\n",
            "See the caveats in the documentation: https://pandas.pydata.org/pandas-docs/stable/user_guide/indexing.html#returning-a-view-versus-a-copy\n",
            "  \"\"\"Entry point for launching an IPython kernel.\n",
            "/usr/local/lib/python3.6/dist-packages/ipykernel_launcher.py:2: SettingWithCopyWarning: \n",
            "A value is trying to be set on a copy of a slice from a DataFrame.\n",
            "Try using .loc[row_indexer,col_indexer] = value instead\n",
            "\n",
            "See the caveats in the documentation: https://pandas.pydata.org/pandas-docs/stable/user_guide/indexing.html#returning-a-view-versus-a-copy\n",
            "  \n",
            "/usr/local/lib/python3.6/dist-packages/ipykernel_launcher.py:3: SettingWithCopyWarning: \n",
            "A value is trying to be set on a copy of a slice from a DataFrame.\n",
            "Try using .loc[row_indexer,col_indexer] = value instead\n",
            "\n",
            "See the caveats in the documentation: https://pandas.pydata.org/pandas-docs/stable/user_guide/indexing.html#returning-a-view-versus-a-copy\n",
            "  This is separate from the ipykernel package so we can avoid doing imports until\n"
          ],
          "name": "stderr"
        }
      ]
    },
    {
      "cell_type": "code",
      "metadata": {
        "id": "wnn3WJmVWglh",
        "colab_type": "code",
        "outputId": "fab2bfb0-e331-4df0-8d7c-5a2367a3f8c7",
        "colab": {
          "base_uri": "https://localhost:8080/",
          "height": 292
        }
      },
      "source": [
        "test['has_description'] = test['description'].isnull()\n",
        "test['has_description'] = test['has_description'].replace({False: 0, True: 1})\n",
        "test['has_description'].value_counts()"
      ],
      "execution_count": 149,
      "outputs": [
        {
          "output_type": "stream",
          "text": [
            "/usr/local/lib/python3.6/dist-packages/ipykernel_launcher.py:1: SettingWithCopyWarning: \n",
            "A value is trying to be set on a copy of a slice from a DataFrame.\n",
            "Try using .loc[row_indexer,col_indexer] = value instead\n",
            "\n",
            "See the caveats in the documentation: https://pandas.pydata.org/pandas-docs/stable/user_guide/indexing.html#returning-a-view-versus-a-copy\n",
            "  \"\"\"Entry point for launching an IPython kernel.\n",
            "/usr/local/lib/python3.6/dist-packages/ipykernel_launcher.py:2: SettingWithCopyWarning: \n",
            "A value is trying to be set on a copy of a slice from a DataFrame.\n",
            "Try using .loc[row_indexer,col_indexer] = value instead\n",
            "\n",
            "See the caveats in the documentation: https://pandas.pydata.org/pandas-docs/stable/user_guide/indexing.html#returning-a-view-versus-a-copy\n",
            "  \n"
          ],
          "name": "stderr"
        },
        {
          "output_type": "execute_result",
          "data": {
            "text/plain": [
              "0    16517\n",
              "1      456\n",
              "Name: has_description, dtype: int64"
            ]
          },
          "metadata": {
            "tags": []
          },
          "execution_count": 149
        }
      ]
    },
    {
      "cell_type": "code",
      "metadata": {
        "id": "I1PyuoIgXOvK",
        "colab_type": "code",
        "outputId": "ceb46c5f-b7c1-4009-c182-e534dd5596e7",
        "colab": {
          "base_uri": "https://localhost:8080/",
          "height": 292
        }
      },
      "source": [
        "train['has_description'] = train['description'].isnull()\n",
        "train['has_description'] = train['has_description'].replace({False: 0, True: 1})\n",
        "train['has_description'].value_counts()"
      ],
      "execution_count": 150,
      "outputs": [
        {
          "output_type": "stream",
          "text": [
            "/usr/local/lib/python3.6/dist-packages/ipykernel_launcher.py:1: SettingWithCopyWarning: \n",
            "A value is trying to be set on a copy of a slice from a DataFrame.\n",
            "Try using .loc[row_indexer,col_indexer] = value instead\n",
            "\n",
            "See the caveats in the documentation: https://pandas.pydata.org/pandas-docs/stable/user_guide/indexing.html#returning-a-view-versus-a-copy\n",
            "  \"\"\"Entry point for launching an IPython kernel.\n",
            "/usr/local/lib/python3.6/dist-packages/ipykernel_launcher.py:2: SettingWithCopyWarning: \n",
            "A value is trying to be set on a copy of a slice from a DataFrame.\n",
            "Try using .loc[row_indexer,col_indexer] = value instead\n",
            "\n",
            "See the caveats in the documentation: https://pandas.pydata.org/pandas-docs/stable/user_guide/indexing.html#returning-a-view-versus-a-copy\n",
            "  \n"
          ],
          "name": "stderr"
        },
        {
          "output_type": "execute_result",
          "data": {
            "text/plain": [
              "0    30875\n",
              "1      969\n",
              "Name: has_description, dtype: int64"
            ]
          },
          "metadata": {
            "tags": []
          },
          "execution_count": 150
        }
      ]
    },
    {
      "cell_type": "code",
      "metadata": {
        "id": "WOIEsO8UkPWw",
        "colab_type": "code",
        "colab": {
          "base_uri": "https://localhost:8080/",
          "height": 343
        },
        "outputId": "de273f57-2a43-4423-8929-8777fb6e2800"
      },
      "source": [
        "test['length'] = test[\"description\"].fillna('').str.split(\" \").apply(lambda x: len(x) if x != '' else 0)\n",
        "test['length']"
      ],
      "execution_count": 151,
      "outputs": [
        {
          "output_type": "stream",
          "text": [
            "/usr/local/lib/python3.6/dist-packages/ipykernel_launcher.py:1: SettingWithCopyWarning: \n",
            "A value is trying to be set on a copy of a slice from a DataFrame.\n",
            "Try using .loc[row_indexer,col_indexer] = value instead\n",
            "\n",
            "See the caveats in the documentation: https://pandas.pydata.org/pandas-docs/stable/user_guide/indexing.html#returning-a-view-versus-a-copy\n",
            "  \"\"\"Entry point for launching an IPython kernel.\n"
          ],
          "name": "stderr"
        },
        {
          "output_type": "execute_result",
          "data": {
            "text/plain": [
              "0         95\n",
              "1          9\n",
              "11       105\n",
              "14        86\n",
              "24       137\n",
              "        ... \n",
              "49305     52\n",
              "49310    349\n",
              "49320     44\n",
              "49332     84\n",
              "49347    115\n",
              "Name: length, Length: 16973, dtype: int64"
            ]
          },
          "metadata": {
            "tags": []
          },
          "execution_count": 151
        }
      ]
    },
    {
      "cell_type": "code",
      "metadata": {
        "id": "ttmwfyz2kgbT",
        "colab_type": "code",
        "colab": {
          "base_uri": "https://localhost:8080/",
          "height": 343
        },
        "outputId": "3a0c4723-3bfe-435e-c909-0f720fad9b6a"
      },
      "source": [
        "train['length'] = train[\"description\"].fillna('').str.split(\" \").apply(lambda x: len(x) if x != '' else 0)\n",
        "train['length']"
      ],
      "execution_count": 152,
      "outputs": [
        {
          "output_type": "stream",
          "text": [
            "/usr/local/lib/python3.6/dist-packages/ipykernel_launcher.py:1: SettingWithCopyWarning: \n",
            "A value is trying to be set on a copy of a slice from a DataFrame.\n",
            "Try using .loc[row_indexer,col_indexer] = value instead\n",
            "\n",
            "See the caveats in the documentation: https://pandas.pydata.org/pandas-docs/stable/user_guide/indexing.html#returning-a-view-versus-a-copy\n",
            "  \"\"\"Entry point for launching an IPython kernel.\n"
          ],
          "name": "stderr"
        },
        {
          "output_type": "execute_result",
          "data": {
            "text/plain": [
              "2         94\n",
              "3         80\n",
              "4         68\n",
              "5          9\n",
              "6         87\n",
              "        ... \n",
              "49346     45\n",
              "49348    191\n",
              "49349     84\n",
              "49350     99\n",
              "49351    133\n",
              "Name: length, Length: 31844, dtype: int64"
            ]
          },
          "metadata": {
            "tags": []
          },
          "execution_count": 152
        }
      ]
    },
    {
      "cell_type": "markdown",
      "metadata": {
        "id": "G6JvcUKbxv6P",
        "colab_type": "text"
      },
      "source": [
        "# 3. Fit a linear regression model with at least two features.\n",
        "\n",
        "##I'm using desirability and total rooms"
      ]
    },
    {
      "cell_type": "code",
      "metadata": {
        "id": "SNLXJ4oExwKU",
        "colab_type": "code",
        "outputId": "e35bdd69-bfc0-47d0-ec00-8beeba5069b4",
        "colab": {
          "base_uri": "https://localhost:8080/",
          "height": 34
        }
      },
      "source": [
        "features = ['desirability', 'total_rooms']\n",
        "target = ['price']\n",
        "\n",
        "X_train = train[features]\n",
        "X_test = test[features]\n",
        "\n",
        "y_train = train[target]\n",
        "y_test = test[target]\n",
        "\n",
        "from sklearn.linear_model import LinearRegression\n",
        "model = LinearRegression()\n",
        "\n",
        "model.fit(X_train, y_train)"
      ],
      "execution_count": 153,
      "outputs": [
        {
          "output_type": "execute_result",
          "data": {
            "text/plain": [
              "LinearRegression(copy_X=True, fit_intercept=True, n_jobs=None, normalize=False)"
            ]
          },
          "metadata": {
            "tags": []
          },
          "execution_count": 153
        }
      ]
    },
    {
      "cell_type": "markdown",
      "metadata": {
        "id": "x9e6q1Z5x9NW",
        "colab_type": "text"
      },
      "source": [
        "#4. Get the model's coefficients and intercept."
      ]
    },
    {
      "cell_type": "code",
      "metadata": {
        "id": "u5QRMtKTx9pq",
        "colab_type": "code",
        "outputId": "ea75d357-bd9b-48e5-a231-d24fb48ece2d",
        "colab": {
          "base_uri": "https://localhost:8080/",
          "height": 68
        }
      },
      "source": [
        "print('Intercept:', model.intercept_)\n",
        "print('Features:', features)\n",
        "print(\"Coefficient:\", model.coef_)"
      ],
      "execution_count": 154,
      "outputs": [
        {
          "output_type": "stream",
          "text": [
            "Intercept: [1631.34546662]\n",
            "Features: ['desirability', 'total_rooms']\n",
            "Coefficient: [[-531.15423833  765.13914658]]\n"
          ],
          "name": "stdout"
        }
      ]
    },
    {
      "cell_type": "markdown",
      "metadata": {
        "id": "IfxHc6Uex957",
        "colab_type": "text"
      },
      "source": [
        "#5. Get regression metrics RMSE, MAE, and  R2 , for both the train and test data.\n",
        "## **Self-Made Stretch Goal:** Make a function so it's easier later"
      ]
    },
    {
      "cell_type": "code",
      "metadata": {
        "id": "GFRHTcd7StmC",
        "colab_type": "code",
        "colab": {}
      },
      "source": [
        "from sklearn.metrics import mean_absolute_error, mean_squared_error, r2_score\n",
        "\n",
        "def lin_func(X_, y_):\n",
        "  y_pred = model.predict(X_)\n",
        "  mse = mean_squared_error(y_, y_pred)\n",
        "  rmse = np.sqrt(mse)\n",
        "  mae = mean_absolute_error(y_, y_pred)\n",
        "  r2 = r2_score(y_, y_pred)\n",
        "  print('Mean Squared Error:', mse)\n",
        "  print('Root Mean Squared Error:', rmse)\n",
        "  print('Mean Absolute Error:', mae)\n",
        "  print('R^2:', r2)"
      ],
      "execution_count": 0,
      "outputs": []
    },
    {
      "cell_type": "code",
      "metadata": {
        "id": "qvTBrVu9TybS",
        "colab_type": "code",
        "outputId": "01fff36f-a670-45ef-da03-47088fde3da5",
        "colab": {
          "base_uri": "https://localhost:8080/",
          "height": 204
        }
      },
      "source": [
        "print(\"Training Data Stats\")\n",
        "lin_func(X_train, y_train)\n",
        "print(\"\")\n",
        "print(\"Validation Data Stats\")\n",
        "lin_func(X_test, y_test)"
      ],
      "execution_count": 156,
      "outputs": [
        {
          "output_type": "stream",
          "text": [
            "Training Data Stats\n",
            "Mean Squared Error: 1651698.1471388913\n",
            "Root Mean Squared Error: 1285.184090758554\n",
            "Mean Absolute Error: 860.2693437827477\n",
            "R^2: 0.4680569607639088\n",
            "\n",
            "Validation Data Stats\n",
            "Mean Squared Error: 1629488.6022558818\n",
            "Root Mean Squared Error: 1276.5142389553992\n",
            "Mean Absolute Error: 865.2595762286496\n",
            "R^2: 0.475715105584927\n"
          ],
          "name": "stdout"
        }
      ]
    },
    {
      "cell_type": "markdown",
      "metadata": {
        "id": "vwMMH3tLyHLT",
        "colab_type": "text"
      },
      "source": [
        "#6. What's the best test MAE you can get? Share your score and features used with your cohort on Slack!\n",
        "\n",
        "##All numeric features"
      ]
    },
    {
      "cell_type": "code",
      "metadata": {
        "id": "9YNMKeLpUUC2",
        "colab_type": "code",
        "outputId": "ab89dfbb-2ea5-4a3b-863a-d4e5a53e8a5d",
        "colab": {
          "base_uri": "https://localhost:8080/",
          "height": 238
        }
      },
      "source": [
        "features = ['bathrooms', 'bedrooms', 'latitude', 'longitude', \n",
        "            'interest_level', 'elevator', 'cats_allowed', 'hardwood_floors', \n",
        "            'dogs_allowed', 'doorman', 'dishwasher', 'no_fee', 'laundry_in_building', \n",
        "            'fitness_center', 'pre-war', 'laundry_in_unit', 'roof_deck', 'outdoor_space',\n",
        "            'dining_room', 'high_speed_internet', 'balcony', 'swimming_pool', \n",
        "            'new_construction', 'terrace', 'exclusive', 'loft', 'garden_patio', \n",
        "            'wheelchair_access', 'common_outdoor_space', 'has_description']\n",
        "\n",
        "target = ['price']\n",
        "X_train = train[features]\n",
        "X_test = test[features]\n",
        "\n",
        "y_train = train[target]\n",
        "y_test = test[target]\n",
        "\n",
        "model = LinearRegression()\n",
        "model.fit(X_train, y_train)\n",
        "\n",
        "print(\"ALL NUMERIC FEATURES\")\n",
        "\n",
        "print(\"\")\n",
        "print(\"Training Data Stats\")\n",
        "lin_func(X_train, y_train)\n",
        "\n",
        "print(\" \")\n",
        "print(\"Validation Data Stats\")\n",
        "lin_func(X_test, y_test)"
      ],
      "execution_count": 157,
      "outputs": [
        {
          "output_type": "stream",
          "text": [
            "ALL NUMERIC FEATURES\n",
            "\n",
            "Training Data Stats\n",
            "Mean Squared Error: 1128130.693886775\n",
            "Root Mean Squared Error: 1062.1349697127832\n",
            "Mean Absolute Error: 673.1300421928227\n",
            "R^2: 0.6366761862625078\n",
            " \n",
            "Validation Data Stats\n",
            "Mean Squared Error: 1096955.8318152728\n",
            "Root Mean Squared Error: 1047.3565924818886\n",
            "Mean Absolute Error: 676.7836426562577\n",
            "R^2: 0.6470565233380152\n"
          ],
          "name": "stdout"
        }
      ]
    },
    {
      "cell_type": "markdown",
      "metadata": {
        "id": "EA_gmkr5XeCV",
        "colab_type": "text"
      },
      "source": [
        "##Adding a new feature, has_description"
      ]
    },
    {
      "cell_type": "code",
      "metadata": {
        "id": "qvl0vPssV-B4",
        "colab_type": "code",
        "outputId": "725c3602-6cb2-41cd-9daf-06ffe1517e45",
        "colab": {
          "base_uri": "https://localhost:8080/",
          "height": 238
        }
      },
      "source": [
        "features = ['bathrooms', 'bedrooms', 'latitude', 'longitude', \n",
        "            'interest_level', 'elevator', 'cats_allowed', 'hardwood_floors', \n",
        "            'dogs_allowed', 'doorman', 'dishwasher', 'no_fee', 'laundry_in_building', \n",
        "            'fitness_center', 'pre-war', 'laundry_in_unit', 'roof_deck', 'outdoor_space',\n",
        "            'dining_room', 'high_speed_internet', 'balcony', 'swimming_pool', \n",
        "            'new_construction', 'terrace', 'exclusive', 'loft', 'garden_patio', \n",
        "            'wheelchair_access', 'common_outdoor_space', 'has_description']\n",
        "\n",
        "target = ['price']\n",
        "X_train = train[features]\n",
        "X_test = test[features]\n",
        "\n",
        "y_train = train[target]\n",
        "y_test = test[target]\n",
        "\n",
        "model = LinearRegression()\n",
        "model.fit(X_train, y_train)\n",
        "\n",
        "print('ALL NUMERIC + HAS A DESCRIPTION')\n",
        "print(\"\")\n",
        "print(\"Training Data Stats\")\n",
        "lin_func(X_train, y_train)\n",
        "\n",
        "print(\" \")\n",
        "print(\"Validation Data Stats\")\n",
        "lin_func(X_test, y_test)"
      ],
      "execution_count": 135,
      "outputs": [
        {
          "output_type": "stream",
          "text": [
            "ALL NUMERIC + HAS A DESCRIPTION\n",
            "\n",
            "Training Data Stats\n",
            "Mean Squared Error: 1128209.340477661\n",
            "Root Mean Squared Error: 1062.1719919474722\n",
            "Mean Absolute Error: 673.2867749623326\n",
            "R^2: 0.6366508574779148\n",
            " \n",
            "Validation Data Stats\n",
            "Mean Squared Error: 1096846.776683801\n",
            "Root Mean Squared Error: 1047.3045291049787\n",
            "Mean Absolute Error: 676.889002309455\n",
            "R^2: 0.6470916116215479\n"
          ],
          "name": "stdout"
        }
      ]
    },
    {
      "cell_type": "markdown",
      "metadata": {
        "id": "wUDOZSgAlhqY",
        "colab_type": "text"
      },
      "source": [
        "##Adding a new feature, length of description"
      ]
    },
    {
      "cell_type": "code",
      "metadata": {
        "id": "nRtsl9ITXk-2",
        "colab_type": "code",
        "colab": {
          "base_uri": "https://localhost:8080/",
          "height": 238
        },
        "outputId": "5832116d-11ad-43ff-8d13-74a634127a62"
      },
      "source": [
        "features = ['bathrooms', 'bedrooms', 'latitude', 'longitude', \n",
        "            'interest_level', 'elevator', 'cats_allowed', 'hardwood_floors', \n",
        "            'dogs_allowed', 'doorman', 'dishwasher', 'no_fee', 'laundry_in_building', \n",
        "            'fitness_center', 'pre-war', 'laundry_in_unit', 'roof_deck', 'outdoor_space',\n",
        "            'dining_room', 'high_speed_internet', 'balcony', 'swimming_pool', \n",
        "            'new_construction', 'terrace', 'exclusive', 'loft', 'garden_patio', \n",
        "            'wheelchair_access', 'common_outdoor_space', 'has_description', 'length']\n",
        "\n",
        "target = ['price']\n",
        "X_train = train[features]\n",
        "X_test = test[features]\n",
        "\n",
        "y_train = train[target]\n",
        "y_test = test[target]\n",
        "\n",
        "model = LinearRegression()\n",
        "model.fit(X_train, y_train)\n",
        "\n",
        "print('ALL NUMERIC + HAS A DESCRIPTION + DESCRIPTION LENGTH')\n",
        "print(\"\")\n",
        "\n",
        "print(\"Training Data Stats\")\n",
        "lin_func(X_train, y_train)\n",
        "\n",
        "print(\" \")\n",
        "print(\"Validation Data Stats\")\n",
        "lin_func(X_test, y_test)"
      ],
      "execution_count": 158,
      "outputs": [
        {
          "output_type": "stream",
          "text": [
            "ALL NUMERIC + HAS A DESCRIPTION + DESCRIPTION LENGTH\n",
            "\n",
            "Training Data Stats\n",
            "Mean Squared Error: 1127768.8304615894\n",
            "Root Mean Squared Error: 1061.964608855488\n",
            "Mean Absolute Error: 673.118239540206\n",
            "R^2: 0.6367927273693166\n",
            " \n",
            "Validation Data Stats\n",
            "Mean Squared Error: 1097403.7877360764\n",
            "Root Mean Squared Error: 1047.5704213732251\n",
            "Mean Absolute Error: 676.8045073359533\n",
            "R^2: 0.6469123943626325\n"
          ],
          "name": "stdout"
        }
      ]
    },
    {
      "cell_type": "code",
      "metadata": {
        "id": "iXJRiAVklm2A",
        "colab_type": "code",
        "colab": {}
      },
      "source": [
        ""
      ],
      "execution_count": 0,
      "outputs": []
    }
  ]
}