{
 "cells": [
  {
   "cell_type": "markdown",
   "metadata": {},
   "source": [
    "Lambda School Data Science\n",
    "\n",
    "*Unit 2, Sprint 1, Module 2*\n",
    "\n",
    "---"
   ]
  },
  {
   "cell_type": "markdown",
   "metadata": {
    "colab_type": "text",
    "id": "7IXUfiQ2UKj6"
   },
   "source": [
    "# Regression 2\n",
    "\n",
    "## Assignment\n",
    "\n",
    "You'll continue to **predict how much it costs to rent an apartment in NYC,** using the dataset from renthop.com.\n",
    "\n",
    "- [x] Do train/test split. Use data from April & May 2016 to train. Use data from June 2016 to test.\n",
    "- [x] Engineer at least two new features. (See below for explanation & ideas.)\n",
    "- [x] Fit a linear regression model with at least two features.\n",
    "- [x] Get the model's coefficients and intercept.\n",
    "- [x] Get regression metrics RMSE, MAE, and $R^2$, for both the train and test data.\n",
    "- [ ] What's the best test MAE you can get? Share your score and features used with your cohort on Slack!\n",
    "- [ ] As always, commit your notebook to your fork of the GitHub repo.\n",
    "\n",
    "\n",
    "#### [Feature Engineering](https://en.wikipedia.org/wiki/Feature_engineering)\n",
    "\n",
    "> \"Some machine learning projects succeed and some fail. What makes the difference? Easily the most important factor is the features used.\" — Pedro Domingos, [\"A Few Useful Things to Know about Machine Learning\"](https://homes.cs.washington.edu/~pedrod/papers/cacm12.pdf)\n",
    "\n",
    "> \"Coming up with features is difficult, time-consuming, requires expert knowledge. 'Applied machine learning' is basically feature engineering.\" — Andrew Ng, [Machine Learning and AI via Brain simulations](https://forum.stanford.edu/events/2011/2011slides/plenary/2011plenaryNg.pdf) \n",
    "\n",
    "> Feature engineering is the process of using domain knowledge of the data to create features that make machine learning algorithms work. \n",
    "\n",
    "#### Feature Ideas\n",
    "- Does the apartment have a description?\n",
    "- How long is the description?\n",
    "- How many total perks does each apartment have?\n",
    "- Are cats _or_ dogs allowed?\n",
    "- Are cats _and_ dogs allowed?\n",
    "- Total number of rooms (beds + baths)\n",
    "- Ratio of beds to baths\n",
    "- What's the neighborhood, based on address or latitude & longitude?\n",
    "\n",
    "## Stretch Goals\n",
    "- [ ] If you want more math, skim [_An Introduction to Statistical Learning_](http://faculty.marshall.usc.edu/gareth-james/ISL/ISLR%20Seventh%20Printing.pdf),  Chapter 3.1, Simple Linear Regression, & Chapter 3.2, Multiple Linear Regression\n",
    "- [ ] If you want more introduction, watch [Brandon Foltz, Statistics 101: Simple Linear Regression](https://www.youtube.com/watch?v=ZkjP5RJLQF4)\n",
    "(20 minutes, over 1 million views)\n",
    "- [ ] Add your own stretch goal(s) !"
   ]
  },
  {
   "cell_type": "code",
   "execution_count": 103,
   "metadata": {
    "colab": {},
    "colab_type": "code",
    "id": "o9eSnDYhUGD7"
   },
   "outputs": [],
   "source": [
    "%%capture\n",
    "import sys\n",
    "\n",
    "# If you're on Colab:\n",
    "if 'google.colab' in sys.modules:\n",
    "    DATA_PATH = 'https://raw.githubusercontent.com/LambdaSchool/DS-Unit-2-Applied-Modeling/master/data/'\n",
    "    !pip install category_encoders==2.*\n",
    "\n",
    "# If you're working locally:\n",
    "else:\n",
    "    DATA_PATH = '../data/'\n",
    "    \n",
    "# Ignore this Numpy warning when using Plotly Express:\n",
    "# FutureWarning: Method .ptp is deprecated and will be removed in a future version. Use numpy.ptp instead.\n",
    "import warnings\n",
    "warnings.filterwarnings(action='ignore', category=FutureWarning, module='numpy')"
   ]
  },
  {
   "cell_type": "code",
   "execution_count": 104,
   "metadata": {
    "colab": {},
    "colab_type": "code",
    "id": "cvrw-T3bZOuW"
   },
   "outputs": [],
   "source": [
    "import numpy as np\n",
    "import pandas as pd\n",
    "\n",
    "# Read New York City apartment rental listing data\n",
    "df = pd.read_csv(DATA_PATH+'apartments/renthop-nyc.csv')\n",
    "assert df.shape == (49352, 34)\n",
    "\n",
    "# Remove the most extreme 1% prices,\n",
    "# the most extreme .1% latitudes, &\n",
    "# the most extreme .1% longitudes\n",
    "df = df[(df['price'] >= np.percentile(df['price'], 0.5)) & \n",
    "        (df['price'] <= np.percentile(df['price'], 99.5)) & \n",
    "        (df['latitude'] >= np.percentile(df['latitude'], 0.05)) & \n",
    "        (df['latitude'] < np.percentile(df['latitude'], 99.95)) &\n",
    "        (df['longitude'] >= np.percentile(df['longitude'], 0.05)) & \n",
    "        (df['longitude'] <= np.percentile(df['longitude'], 99.95))]"
   ]
  },
  {
   "cell_type": "code",
   "execution_count": 105,
   "metadata": {},
   "outputs": [
    {
     "data": {
      "text/plain": [
       "bathrooms                      float64\n",
       "bedrooms                         int64\n",
       "created                 datetime64[ns]\n",
       "description                     object\n",
       "display_address                 object\n",
       "latitude                       float64\n",
       "longitude                      float64\n",
       "price                            int64\n",
       "street_address                  object\n",
       "interest_level                  object\n",
       "elevator                         int64\n",
       "cats_allowed                     int64\n",
       "hardwood_floors                  int64\n",
       "dogs_allowed                     int64\n",
       "doorman                          int64\n",
       "dishwasher                       int64\n",
       "no_fee                           int64\n",
       "laundry_in_building              int64\n",
       "fitness_center                   int64\n",
       "pre-war                          int64\n",
       "laundry_in_unit                  int64\n",
       "roof_deck                        int64\n",
       "outdoor_space                    int64\n",
       "dining_room                      int64\n",
       "high_speed_internet              int64\n",
       "balcony                          int64\n",
       "swimming_pool                    int64\n",
       "new_construction                 int64\n",
       "terrace                          int64\n",
       "exclusive                        int64\n",
       "loft                             int64\n",
       "garden_patio                     int64\n",
       "wheelchair_access                int64\n",
       "common_outdoor_space             int64\n",
       "dtype: object"
      ]
     },
     "execution_count": 105,
     "metadata": {},
     "output_type": "execute_result"
    }
   ],
   "source": [
    "# Change the created column to datetime\n",
    "df['created'] = pd.to_datetime(df['created'])\n",
    "df.dtypes"
   ]
  },
  {
   "cell_type": "code",
   "execution_count": 106,
   "metadata": {},
   "outputs": [],
   "source": [
    "# Engineer at least 2 new features\n",
    "perks = df.columns[10:]\n",
    "\n",
    "df['total_perks'] = df[perks].sum(axis=1)\n",
    "df['total_rooms'] = df['bathrooms'] + df['bedrooms']"
   ]
  },
  {
   "cell_type": "code",
   "execution_count": 107,
   "metadata": {},
   "outputs": [],
   "source": [
    "# Do train/test split\n",
    "\n",
    "# Train (April & May)\n",
    "train_months = (df['created'].dt.month == 4) | (df['created'].dt.month == 5)\n",
    "train = df[train_months]\n",
    "\n",
    "# Test (June)\n",
    "test_month = df['created'].dt.month == 6\n",
    "test = df[test_month]"
   ]
  },
  {
   "cell_type": "markdown",
   "metadata": {},
   "source": [
    "### Fit a Linear Regression model with at least two features\n",
    ">I'm using 4, but first I want to start with a baseline"
   ]
  },
  {
   "cell_type": "code",
   "execution_count": 116,
   "metadata": {},
   "outputs": [],
   "source": [
    "# Choose a model class\n",
    "from sklearn.linear_model import LinearRegression\n",
    "\n",
    "# Instantiate the class\n",
    "model = LinearRegression()\n",
    "\n",
    "# Arrange the data into features matrix and target vector\n",
    "features = ['total_rooms', 'total_perks', 'latitude', 'longitude']\n",
    "target = 'price'\n",
    "X_train = train[features]\n",
    "y_train = train[target]\n",
    "\n",
    "# Fit the model\n",
    "model.fit(X_train, y_train);"
   ]
  },
  {
   "cell_type": "code",
   "execution_count": 117,
   "metadata": {},
   "outputs": [
    {
     "name": "stdout",
     "output_type": "stream",
     "text": [
      "Intercept: -1243678.4115042493\n",
      "total_rooms      792.945481\n",
      "total_perks       68.310265\n",
      "latitude        2260.008839\n",
      "longitude     -15582.319644\n"
     ]
    }
   ],
   "source": [
    "# Get the model's coefficient and intercept\n",
    "print(\"Intercept:\", model.intercept_)\n",
    "coefficients = pd.Series(model.coef_, features)\n",
    "print(coefficients.to_string())"
   ]
  },
  {
   "cell_type": "code",
   "execution_count": 120,
   "metadata": {},
   "outputs": [
    {
     "name": "stdout",
     "output_type": "stream",
     "text": [
      "Train Metrics: \n",
      "\tMAE:  789.60\n",
      "\tRMSE:  1227.74\n",
      "\tR^2:  0.51\n",
      "\n",
      "Test Metrics: \n",
      "\tMAE:  799.50\n",
      "\tRMSE:  1223.35\n",
      "\tR^2:  0.52\n",
      "\n"
     ]
    }
   ],
   "source": [
    "# Get regression metrics for the train and test data (MAE, RMSE, r2)\n",
    "from sklearn.metrics import mean_absolute_error, mean_squared_error, r2_score\n",
    "\n",
    "X_test = test[features]\n",
    "y_test = test[target]\n",
    "\n",
    "# Define a function that prints out the metrics\n",
    "def metrics(X, y):\n",
    "    y_pred = model.predict(X)\n",
    "    mae = mean_absolute_error(y, y_pred)\n",
    "    rmse  = np.sqrt(mean_squared_error(y, y_pred))\n",
    "    r2 = r2_score(y, y_pred)\n",
    "    output_string = f\"\\n\\tMAE: {mae: .2f}\\n\"\\\n",
    "                    f\"\\tRMSE: {rmse: .2f}\\n\"\\\n",
    "                    f\"\\tR^2: {r2: .2f}\\n\"\n",
    "    return output_string\n",
    "\n",
    "print(\"Train Metrics:\", metrics(X_train, y_train))\n",
    "print(\"Test Metrics:\", metrics(X_test, y_test))"
   ]
  }
 ],
 "metadata": {
  "kernelspec": {
   "display_name": "Python 3",
   "language": "python",
   "name": "python3"
  },
  "language_info": {
   "codemirror_mode": {
    "name": "ipython",
    "version": 3
   },
   "file_extension": ".py",
   "mimetype": "text/x-python",
   "name": "python",
   "nbconvert_exporter": "python",
   "pygments_lexer": "ipython3",
   "version": "3.7.4"
  }
 },
 "nbformat": 4,
 "nbformat_minor": 1
}
