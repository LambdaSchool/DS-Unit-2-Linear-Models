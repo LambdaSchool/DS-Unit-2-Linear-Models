{
  "nbformat": 4,
  "nbformat_minor": 0,
  "metadata": {
    "kernelspec": {
      "display_name": "Python 3",
      "language": "python",
      "name": "python3"
    },
    "language_info": {
      "codemirror_mode": {
        "name": "ipython",
        "version": 3
      },
      "file_extension": ".py",
      "mimetype": "text/x-python",
      "name": "python",
      "nbconvert_exporter": "python",
      "pygments_lexer": "ipython3",
      "version": "3.7.3"
    },
    "colab": {
      "name": "LS_DS_212_assignment.ipynb",
      "provenance": []
    }
  },
  "cells": [
    {
      "cell_type": "markdown",
      "metadata": {
        "id": "whAPMt-p4bHn",
        "colab_type": "text"
      },
      "source": [
        "Lambda School Data Science\n",
        "\n",
        "*Unit 2, Sprint 1, Module 2*\n",
        "\n",
        "---"
      ]
    },
    {
      "cell_type": "markdown",
      "metadata": {
        "colab_type": "text",
        "id": "7IXUfiQ2UKj6"
      },
      "source": [
        "# Regression 2\n",
        "\n",
        "## Assignment\n",
        "\n",
        "You'll continue to **predict how much it costs to rent an apartment in NYC,** using the dataset from renthop.com.\n",
        "\n",
        "- [ ] Do train/test split. Use data from April & May 2016 to train. Use data from June 2016 to test.\n",
        "- [ ] Engineer at least two new features. (See below for explanation & ideas.)\n",
        "- [ ] Fit a linear regression model with at least two features.\n",
        "- [ ] Get the model's coefficients and intercept.\n",
        "- [ ] Get regression metrics RMSE, MAE, and $R^2$, for both the train and test data.\n",
        "- [ ] What's the best test MAE you can get? Share your score and features used with your cohort on Slack!\n",
        "- [ ] As always, commit your notebook to your fork of the GitHub repo.\n",
        "\n",
        "\n",
        "#### [Feature Engineering](https://en.wikipedia.org/wiki/Feature_engineering)\n",
        "\n",
        "> \"Some machine learning projects succeed and some fail. What makes the difference? Easily the most important factor is the features used.\" — Pedro Domingos, [\"A Few Useful Things to Know about Machine Learning\"](https://homes.cs.washington.edu/~pedrod/papers/cacm12.pdf)\n",
        "\n",
        "> \"Coming up with features is difficult, time-consuming, requires expert knowledge. 'Applied machine learning' is basically feature engineering.\" — Andrew Ng, [Machine Learning and AI via Brain simulations](https://forum.stanford.edu/events/2011/2011slides/plenary/2011plenaryNg.pdf) \n",
        "\n",
        "> Feature engineering is the process of using domain knowledge of the data to create features that make machine learning algorithms work. \n",
        "\n",
        "#### Feature Ideas\n",
        "- Does the apartment have a description?\n",
        "- How long is the description?\n",
        "- How many total perks does each apartment have?\n",
        "- Are cats _or_ dogs allowed?\n",
        "- Are cats _and_ dogs allowed?\n",
        "- Total number of rooms (beds + baths)\n",
        "- Ratio of beds to baths\n",
        "- What's the neighborhood, based on address or latitude & longitude?\n",
        "\n",
        "## Stretch Goals\n",
        "- [ ] If you want more math, skim [_An Introduction to Statistical Learning_](http://faculty.marshall.usc.edu/gareth-james/ISL/ISLR%20Seventh%20Printing.pdf),  Chapter 3.1, Simple Linear Regression, & Chapter 3.2, Multiple Linear Regression\n",
        "- [ ] If you want more introduction, watch [Brandon Foltz, Statistics 101: Simple Linear Regression](https://www.youtube.com/watch?v=ZkjP5RJLQF4)\n",
        "(20 minutes, over 1 million views)\n",
        "- [ ] Add your own stretch goal(s) !"
      ]
    },
    {
      "cell_type": "code",
      "metadata": {
        "colab_type": "code",
        "id": "o9eSnDYhUGD7",
        "colab": {}
      },
      "source": [
        "%%capture\n",
        "import sys\n",
        "\n",
        "# If you're on Colab:\n",
        "if 'google.colab' in sys.modules:\n",
        "    DATA_PATH = 'https://raw.githubusercontent.com/LambdaSchool/DS-Unit-2-Applied-Modeling/master/data/'\n",
        "    !pip install category_encoders==2.*\n",
        "\n",
        "# If you're working locally:\n",
        "else:\n",
        "    DATA_PATH = '../data/'\n",
        "    \n",
        "# Ignore this Numpy warning when using Plotly Express:\n",
        "# FutureWarning: Method .ptp is deprecated and will be removed in a future version. Use numpy.ptp instead.\n",
        "import warnings\n",
        "warnings.filterwarnings(action='ignore', category=FutureWarning, module='numpy')"
      ],
      "execution_count": 0,
      "outputs": []
    },
    {
      "cell_type": "code",
      "metadata": {
        "colab_type": "code",
        "id": "cvrw-T3bZOuW",
        "colab": {}
      },
      "source": [
        "import numpy as np\n",
        "import pandas as pd\n",
        "\n",
        "# Read New York City apartment rental listing data\n",
        "df = pd.read_csv(DATA_PATH+'apartments/renthop-nyc.csv')\n",
        "assert df.shape == (49352, 34)\n",
        "\n",
        "# Remove the most extreme 1% prices,\n",
        "# the most extreme .1% latitudes, &\n",
        "# the most extreme .1% longitudes\n",
        "df = df[(df['price'] >= np.percentile(df['price'], 0.5)) & \n",
        "        (df['price'] <= np.percentile(df['price'], 99.5)) & \n",
        "        (df['latitude'] >= np.percentile(df['latitude'], 0.05)) & \n",
        "        (df['latitude'] < np.percentile(df['latitude'], 99.95)) &\n",
        "        (df['longitude'] >= np.percentile(df['longitude'], 0.05)) & \n",
        "        (df['longitude'] <= np.percentile(df['longitude'], 99.95))]"
      ],
      "execution_count": 0,
      "outputs": []
    },
    {
      "cell_type": "code",
      "metadata": {
        "id": "p1QVOASe6MYQ",
        "colab_type": "code",
        "colab": {}
      },
      "source": [
        "df['created'] = pd.to_datetime(df['created'], infer_datetime_format=True)"
      ],
      "execution_count": 0,
      "outputs": []
    },
    {
      "cell_type": "code",
      "metadata": {
        "id": "Ry4StYn16oS7",
        "colab_type": "code",
        "colab": {
          "base_uri": "https://localhost:8080/",
          "height": 51
        },
        "outputId": "188c90ac-b9ac-4923-eb6e-efa1fc6c43d3"
      },
      "source": [
        "#checking to see if 2016 is the only year\n",
        "test=pd.DataFrame()\n",
        "test['test'] = df['created']\n",
        "test['new'] = test['test'].apply(lambda x: x.year)\n",
        "test['new'].value_counts()"
      ],
      "execution_count": 31,
      "outputs": [
        {
          "output_type": "execute_result",
          "data": {
            "text/plain": [
              "2016    48817\n",
              "Name: new, dtype: int64"
            ]
          },
          "metadata": {
            "tags": []
          },
          "execution_count": 31
        }
      ]
    },
    {
      "cell_type": "code",
      "metadata": {
        "id": "FhU-dbFH-vQV",
        "colab_type": "code",
        "colab": {}
      },
      "source": [
        "#making a feature of month created in order to split into the test and train\n",
        "df['month'] = df['created'].apply(lambda x: x.month)"
      ],
      "execution_count": 0,
      "outputs": []
    },
    {
      "cell_type": "code",
      "metadata": {
        "id": "yAaNJyGd_kcn",
        "colab_type": "code",
        "colab": {}
      },
      "source": [
        "#splitting the data\n",
        "train = df[(df['month'] == 4) | (df['month'] == 5)]\n",
        "test = df[df['month'] == 6]"
      ],
      "execution_count": 0,
      "outputs": []
    },
    {
      "cell_type": "code",
      "metadata": {
        "id": "rQCJV7j8Apca",
        "colab_type": "code",
        "colab": {}
      },
      "source": [
        "#making two new features\n",
        "\n",
        "#making a new feature for total number of rooms\n",
        "train['total_rooms'] = train['bathrooms'] + train['bedrooms']\n",
        "test['total_rooms'] = test['bathrooms'] + test['bedrooms']\n",
        "\n",
        "#making a new feature for the if a description is present\n",
        "train['description_presence'] = train['description'].apply(\n",
        "        lambda x: str(x).strip()).apply(lambda x: 0 if x == '' else 1)\n",
        "test['description_presence'] = test['description'].apply(\n",
        "    lambda x: str(x).strip()).apply(lambda x: 0 if x == '' else 1)"
      ],
      "execution_count": 0,
      "outputs": []
    },
    {
      "cell_type": "code",
      "metadata": {
        "id": "UAYGHPCMBrZk",
        "colab_type": "code",
        "colab": {}
      },
      "source": [
        "from sklearn.linear_model import LinearRegression"
      ],
      "execution_count": 0,
      "outputs": []
    },
    {
      "cell_type": "code",
      "metadata": {
        "id": "ymyyv3_4C5Tm",
        "colab_type": "code",
        "colab": {
          "base_uri": "https://localhost:8080/",
          "height": 34
        },
        "outputId": "6303a9a7-3379-4470-d5bf-b17b68170f44"
      },
      "source": [
        "model = LinearRegression()\n",
        "\n",
        "features = ['total_rooms', 'description_presence']\n",
        "target = 'price'\n",
        "X_train = train[features]\n",
        "y_train = train[target]\n",
        "\n",
        "model.fit(X_train, y_train)"
      ],
      "execution_count": 77,
      "outputs": [
        {
          "output_type": "execute_result",
          "data": {
            "text/plain": [
              "LinearRegression(copy_X=True, fit_intercept=True, n_jobs=None, normalize=False)"
            ]
          },
          "metadata": {
            "tags": []
          },
          "execution_count": 77
        }
      ]
    },
    {
      "cell_type": "code",
      "metadata": {
        "id": "vpYVwx8FD87k",
        "colab_type": "code",
        "colab": {
          "base_uri": "https://localhost:8080/",
          "height": 34
        },
        "outputId": "09bf77fa-e6e2-4846-da09-30b1f89a186f"
      },
      "source": [
        "#the coefficient for number of total rooms\n",
        "model.coef_[0]"
      ],
      "execution_count": 78,
      "outputs": [
        {
          "output_type": "execute_result",
          "data": {
            "text/plain": [
              "810.1229041779217"
            ]
          },
          "metadata": {
            "tags": []
          },
          "execution_count": 78
        }
      ]
    },
    {
      "cell_type": "code",
      "metadata": {
        "id": "Y8w9LGhuIeGn",
        "colab_type": "code",
        "colab": {
          "base_uri": "https://localhost:8080/",
          "height": 34
        },
        "outputId": "93440980-1697-458e-f0ce-f0fa71ae1ffd"
      },
      "source": [
        "#coefficient for the presence of a description\n",
        "model.coef_[1]"
      ],
      "execution_count": 80,
      "outputs": [
        {
          "output_type": "execute_result",
          "data": {
            "text/plain": [
              "-215.7200904925805"
            ]
          },
          "metadata": {
            "tags": []
          },
          "execution_count": 80
        }
      ]
    },
    {
      "cell_type": "code",
      "metadata": {
        "id": "xE2HjPWdIgUd",
        "colab_type": "code",
        "colab": {
          "base_uri": "https://localhost:8080/",
          "height": 34
        },
        "outputId": "dca72b2e-7728-40b6-f361-8fdebc718e1b"
      },
      "source": [
        "#the intercept\n",
        "y_pred = model.predict([[0,0]])\n",
        "y_pred[0]"
      ],
      "execution_count": 85,
      "outputs": [
        {
          "output_type": "execute_result",
          "data": {
            "text/plain": [
              "1570.7920066709694"
            ]
          },
          "metadata": {
            "tags": []
          },
          "execution_count": 85
        }
      ]
    },
    {
      "cell_type": "code",
      "metadata": {
        "id": "sVeAr-okI3Mm",
        "colab_type": "code",
        "colab": {}
      },
      "source": [
        "from sklearn.metrics import mean_absolute_error, mean_squared_error, r2_score\n",
        "\n",
        "def errors(list_of_features):\n",
        "    '''\n",
        "    takes a list of features that we want to test and returns the three error\n",
        "    metrics that we are interested in for both the train and test\n",
        "\n",
        "    requires that the features used are numeric\n",
        "    '''\n",
        "    model = LinearRegression()\n",
        "\n",
        "    features = list_of_features\n",
        "    target = 'price'\n",
        "    \n",
        "    \n",
        "    X_train = train[features]\n",
        "    y_train = train[target]\n",
        "    X_test = test[features]\n",
        "    y_test = test[target]\n",
        "\n",
        "    model.fit(X_train, y_train)\n",
        "    y_pred_train = model.predict(X_train)\n",
        "    y_pred_test = model.predict(X_test)\n",
        "\n",
        "    rmse_train = np.sqrt(mean_squared_error(y_train, y_pred_train))\n",
        "    mae_train = mean_absolute_error(y_train, y_pred_train)\n",
        "    r2_train = r2_score(y_train, y_pred_train)\n",
        "\n",
        "    rmse_test =np.sqrt(mean_squared_error(y_test, y_pred_test))\n",
        "    mae_test = mean_absolute_error(y_test, y_pred_test)\n",
        "    r2_test = r2_score(y_test, y_pred_test)\n",
        "\n",
        "    print('The train data has the following errors:' \n",
        "          + f'\\n     Root Mean Squared Error: {rmse_train}'\n",
        "          + f'\\n     Mean Absolute Error: {mae_train}'\n",
        "          + f'\\n     R Squared: {r2_train}')\n",
        "    \n",
        "    print('\\nThe test data has the following errors:' \n",
        "          + f'\\n     Root Mean Squared Error: {rmse_test}'\n",
        "          + f'\\n     Mean Absolute Error: {mae_test}'\n",
        "          + f'\\n     R Squared: {r2_test}')\n",
        "    return"
      ],
      "execution_count": 0,
      "outputs": []
    },
    {
      "cell_type": "code",
      "metadata": {
        "id": "TwQciVvmTuu7",
        "colab_type": "code",
        "colab": {
          "base_uri": "https://localhost:8080/",
          "height": 170
        },
        "outputId": "6b0926cb-68b2-47ee-cee2-fc64cdac0b4f"
      },
      "source": [
        "errors(['total_rooms', 'description_presence'])"
      ],
      "execution_count": 97,
      "outputs": [
        {
          "output_type": "stream",
          "text": [
            "The train data has the following errors:\n",
            "     Root Mean Squared Error: 1340.345530608617\n",
            "     Mean Absolute Error: 893.0715474078747\n",
            "     R Squared: 0.421413908230891\n",
            "\n",
            "The test data has the following errors:\n",
            "     Root Mean Squared Error: 1338.3696776935487\n",
            "     Mean Absolute Error: 909.1474017082991\n",
            "     R Squared: 0.4236740228591944\n"
          ],
          "name": "stdout"
        }
      ]
    },
    {
      "cell_type": "code",
      "metadata": {
        "id": "iwT2JHLzVLPz",
        "colab_type": "code",
        "colab": {
          "base_uri": "https://localhost:8080/",
          "height": 170
        },
        "outputId": "21f5bb7a-87f8-4b81-a365-6aa1fe42b490"
      },
      "source": [
        "errors(['bedrooms', 'bathrooms', 'total_rooms', 'description_presence', 'latitude', 'longitude', \n",
        "        'elevator', 'cats_allowed', 'dogs_allowed', 'no_fee', 'swimming_pool', 'hardwood_floors',\n",
        "        'doorman', 'dishwasher', 'laundry_in_building'])"
      ],
      "execution_count": 111,
      "outputs": [
        {
          "output_type": "stream",
          "text": [
            "The train data has the following errors:\n",
            "     Root Mean Squared Error: 1109.248788833535\n",
            "     Mean Absolute Error: 702.9479729631745\n",
            "     R Squared: 0.6037289231579661\n",
            "\n",
            "The test data has the following errors:\n",
            "     Root Mean Squared Error: 1088.3920272885584\n",
            "     Mean Absolute Error: 706.0884703851164\n",
            "     R Squared: 0.6188580762564161\n"
          ],
          "name": "stdout"
        }
      ]
    },
    {
      "cell_type": "code",
      "metadata": {
        "id": "F4-j0oR7WXUU",
        "colab_type": "code",
        "colab": {
          "base_uri": "https://localhost:8080/",
          "height": 612
        },
        "outputId": "802d819d-5599-4666-cd7a-8bd099680769"
      },
      "source": [
        "df.columns.to_list()"
      ],
      "execution_count": 116,
      "outputs": [
        {
          "output_type": "execute_result",
          "data": {
            "text/plain": [
              "['bathrooms',\n",
              " 'bedrooms',\n",
              " 'created',\n",
              " 'description',\n",
              " 'display_address',\n",
              " 'latitude',\n",
              " 'longitude',\n",
              " 'price',\n",
              " 'street_address',\n",
              " 'interest_level',\n",
              " 'elevator',\n",
              " 'cats_allowed',\n",
              " 'hardwood_floors',\n",
              " 'dogs_allowed',\n",
              " 'doorman',\n",
              " 'dishwasher',\n",
              " 'no_fee',\n",
              " 'laundry_in_building',\n",
              " 'fitness_center',\n",
              " 'pre-war',\n",
              " 'laundry_in_unit',\n",
              " 'roof_deck',\n",
              " 'outdoor_space',\n",
              " 'dining_room',\n",
              " 'high_speed_internet',\n",
              " 'balcony',\n",
              " 'swimming_pool',\n",
              " 'new_construction',\n",
              " 'terrace',\n",
              " 'exclusive',\n",
              " 'loft',\n",
              " 'garden_patio',\n",
              " 'wheelchair_access',\n",
              " 'common_outdoor_space',\n",
              " 'month']"
            ]
          },
          "metadata": {
            "tags": []
          },
          "execution_count": 116
        }
      ]
    },
    {
      "cell_type": "code",
      "metadata": {
        "id": "NNv5ADWrWwh5",
        "colab_type": "code",
        "colab": {}
      },
      "source": [
        "#deleted the featuresthat are not numeric\n",
        "#could possibly encode interest level to a numeric value and add it back in\n",
        "all_possible_features =  ['bathrooms',\n",
        " 'bedrooms',\n",
        "\n",
        "\n",
        "\n",
        " 'latitude',\n",
        " 'longitude',\n",
        " \n",
        " \n",
        " \n",
        " 'elevator',\n",
        " 'cats_allowed',\n",
        " 'hardwood_floors',\n",
        " 'dogs_allowed',\n",
        " 'doorman',\n",
        " 'dishwasher',\n",
        " 'no_fee',\n",
        " 'laundry_in_building',\n",
        " 'fitness_center',\n",
        " 'pre-war',\n",
        " 'laundry_in_unit',\n",
        " 'roof_deck',\n",
        " 'outdoor_space',\n",
        " 'dining_room',\n",
        " 'high_speed_internet',\n",
        " 'balcony',\n",
        " 'swimming_pool',\n",
        " 'new_construction',\n",
        " 'terrace',\n",
        " 'exclusive',\n",
        " 'loft',\n",
        " 'garden_patio',\n",
        " 'wheelchair_access',\n",
        " 'common_outdoor_space']"
      ],
      "execution_count": 0,
      "outputs": []
    },
    {
      "cell_type": "code",
      "metadata": {
        "id": "9pSMP78fW5ZE",
        "colab_type": "code",
        "colab": {
          "base_uri": "https://localhost:8080/",
          "height": 170
        },
        "outputId": "d990f120-b430-40e5-dbd7-b787ee027713"
      },
      "source": [
        "errors(all_possible_features)"
      ],
      "execution_count": 123,
      "outputs": [
        {
          "output_type": "stream",
          "text": [
            "The train data has the following errors:\n",
            "     Root Mean Squared Error: 1090.1129619730764\n",
            "     Mean Absolute Error: 692.7740796618217\n",
            "     R Squared: 0.6172832623502627\n",
            "\n",
            "The test data has the following errors:\n",
            "     Root Mean Squared Error: 1078.6112459598567\n",
            "     Mean Absolute Error: 701.3000059272376\n",
            "     R Squared: 0.6256775228842276\n"
          ],
          "name": "stdout"
        }
      ]
    },
    {
      "cell_type": "code",
      "metadata": {
        "id": "t_BXZ_d3YRSp",
        "colab_type": "code",
        "colab": {}
      },
      "source": [
        ""
      ],
      "execution_count": 0,
      "outputs": []
    }
  ]
}