{
  "nbformat": 4,
  "nbformat_minor": 0,
  "metadata": {
    "kernelspec": {
      "display_name": "Python 3",
      "language": "python",
      "name": "python3"
    },
    "language_info": {
      "codemirror_mode": {
        "name": "ipython",
        "version": 3
      },
      "file_extension": ".py",
      "mimetype": "text/x-python",
      "name": "python",
      "nbconvert_exporter": "python",
      "pygments_lexer": "ipython3",
      "version": "3.7.3"
    },
    "colab": {
      "name": "LS_DS_212_assignment.ipynb",
      "provenance": []
    },
    "widgets": {
      "application/vnd.jupyter.widget-state+json": {
        "38551caddcbe431bb5b85a47c0b430d3": {
          "model_module": "@jupyter-widgets/controls",
          "model_name": "VBoxModel",
          "state": {
            "_view_name": "VBoxView",
            "_dom_classes": [
              "widget-interact"
            ],
            "_model_name": "VBoxModel",
            "_view_module": "@jupyter-widgets/controls",
            "_model_module_version": "1.5.0",
            "_view_count": null,
            "_view_module_version": "1.5.0",
            "box_style": "",
            "layout": "IPY_MODEL_a612b5cde0b24b9e908f2de6dad7f2d2",
            "_model_module": "@jupyter-widgets/controls",
            "children": [
              "IPY_MODEL_0e9c9ec260d446aa925a2e90d1ce4690",
              "IPY_MODEL_529a1bc008de4816b786422a731ee700",
              "IPY_MODEL_51d27b05495b40ef9bb02cc837b2172b",
              "IPY_MODEL_05bb7ba16d094a70a58f312e2c265fb1",
              "IPY_MODEL_9c740a0db4924664a76e542310cea06d"
            ]
          }
        },
        "a612b5cde0b24b9e908f2de6dad7f2d2": {
          "model_module": "@jupyter-widgets/base",
          "model_name": "LayoutModel",
          "state": {
            "_view_name": "LayoutView",
            "grid_template_rows": null,
            "right": null,
            "justify_content": null,
            "_view_module": "@jupyter-widgets/base",
            "overflow": null,
            "_model_module_version": "1.2.0",
            "_view_count": null,
            "flex_flow": null,
            "width": null,
            "min_width": null,
            "border": null,
            "align_items": null,
            "bottom": null,
            "_model_module": "@jupyter-widgets/base",
            "top": null,
            "grid_column": null,
            "overflow_y": null,
            "overflow_x": null,
            "grid_auto_flow": null,
            "grid_area": null,
            "grid_template_columns": null,
            "flex": null,
            "_model_name": "LayoutModel",
            "justify_items": null,
            "grid_row": null,
            "max_height": null,
            "align_content": null,
            "visibility": null,
            "align_self": null,
            "height": null,
            "min_height": null,
            "padding": null,
            "grid_auto_rows": null,
            "grid_gap": null,
            "max_width": null,
            "order": null,
            "_view_module_version": "1.2.0",
            "grid_template_areas": null,
            "object_position": null,
            "object_fit": null,
            "grid_auto_columns": null,
            "margin": null,
            "display": null,
            "left": null
          }
        },
        "0e9c9ec260d446aa925a2e90d1ce4690": {
          "model_module": "@jupyter-widgets/controls",
          "model_name": "IntSliderModel",
          "state": {
            "_view_name": "IntSliderView",
            "style": "IPY_MODEL_32a30e1958d64b37a552c2fdf3de575f",
            "_dom_classes": [],
            "description": "tBathrooms",
            "step": 1,
            "_model_name": "IntSliderModel",
            "orientation": "horizontal",
            "max": 5,
            "_view_module": "@jupyter-widgets/controls",
            "_model_module_version": "1.5.0",
            "value": 3,
            "_view_count": null,
            "disabled": false,
            "_view_module_version": "1.5.0",
            "min": 0,
            "continuous_update": true,
            "readout_format": "d",
            "description_tooltip": null,
            "readout": true,
            "_model_module": "@jupyter-widgets/controls",
            "layout": "IPY_MODEL_3fb6c6f9ecd14e2d89d7ecf8ef6f7bb5"
          }
        },
        "529a1bc008de4816b786422a731ee700": {
          "model_module": "@jupyter-widgets/controls",
          "model_name": "IntSliderModel",
          "state": {
            "_view_name": "IntSliderView",
            "style": "IPY_MODEL_17abcae8fffc4456932c989f0fc2339f",
            "_dom_classes": [],
            "description": "tBedrooms",
            "step": 1,
            "_model_name": "IntSliderModel",
            "orientation": "horizontal",
            "max": 10,
            "_view_module": "@jupyter-widgets/controls",
            "_model_module_version": "1.5.0",
            "value": 0,
            "_view_count": null,
            "disabled": false,
            "_view_module_version": "1.5.0",
            "min": 0,
            "continuous_update": true,
            "readout_format": "d",
            "description_tooltip": null,
            "readout": true,
            "_model_module": "@jupyter-widgets/controls",
            "layout": "IPY_MODEL_a41e31624ae144239603894d23f46cdc"
          }
        },
        "51d27b05495b40ef9bb02cc837b2172b": {
          "model_module": "@jupyter-widgets/controls",
          "model_name": "IntSliderModel",
          "state": {
            "_view_name": "IntSliderView",
            "style": "IPY_MODEL_b600631210934e0da1210959fcf9aa08",
            "_dom_classes": [],
            "description": "tNumPerks",
            "step": 1,
            "_model_name": "IntSliderModel",
            "orientation": "horizontal",
            "max": 8,
            "_view_module": "@jupyter-widgets/controls",
            "_model_module_version": "1.5.0",
            "value": 8,
            "_view_count": null,
            "disabled": false,
            "_view_module_version": "1.5.0",
            "min": 0,
            "continuous_update": true,
            "readout_format": "d",
            "description_tooltip": null,
            "readout": true,
            "_model_module": "@jupyter-widgets/controls",
            "layout": "IPY_MODEL_94fe76be6ada4c4bbfa5ffb9a9b10736"
          }
        },
        "05bb7ba16d094a70a58f312e2c265fb1": {
          "model_module": "@jupyter-widgets/controls",
          "model_name": "IntSliderModel",
          "state": {
            "_view_name": "IntSliderView",
            "style": "IPY_MODEL_75d1db4766fd4fe9a8c46337973feb8e",
            "_dom_classes": [],
            "description": "descriptionLen",
            "step": 1,
            "_model_name": "IntSliderModel",
            "orientation": "horizontal",
            "max": 4466,
            "_view_module": "@jupyter-widgets/controls",
            "_model_module_version": "1.5.0",
            "value": 4466,
            "_view_count": null,
            "disabled": false,
            "_view_module_version": "1.5.0",
            "min": 0,
            "continuous_update": true,
            "readout_format": "d",
            "description_tooltip": null,
            "readout": true,
            "_model_module": "@jupyter-widgets/controls",
            "layout": "IPY_MODEL_68e47c3200ce4520a5866709c8a8f166"
          }
        },
        "9c740a0db4924664a76e542310cea06d": {
          "model_module": "@jupyter-widgets/output",
          "model_name": "OutputModel",
          "state": {
            "_view_name": "OutputView",
            "msg_id": "",
            "_dom_classes": [],
            "_model_name": "OutputModel",
            "outputs": [
              {
                "output_type": "stream",
                "metadata": {
                  "tags": []
                },
                "text": "The predicted price for this type of apartment is: $6730\n",
                "stream": "stdout"
              }
            ],
            "_view_module": "@jupyter-widgets/output",
            "_model_module_version": "1.0.0",
            "_view_count": null,
            "_view_module_version": "1.0.0",
            "layout": "IPY_MODEL_45703fd178be4519bba97aa36e795c2e",
            "_model_module": "@jupyter-widgets/output"
          }
        },
        "32a30e1958d64b37a552c2fdf3de575f": {
          "model_module": "@jupyter-widgets/controls",
          "model_name": "SliderStyleModel",
          "state": {
            "_view_name": "StyleView",
            "handle_color": null,
            "_model_name": "SliderStyleModel",
            "description_width": "",
            "_view_module": "@jupyter-widgets/base",
            "_model_module_version": "1.5.0",
            "_view_count": null,
            "_view_module_version": "1.2.0",
            "_model_module": "@jupyter-widgets/controls"
          }
        },
        "3fb6c6f9ecd14e2d89d7ecf8ef6f7bb5": {
          "model_module": "@jupyter-widgets/base",
          "model_name": "LayoutModel",
          "state": {
            "_view_name": "LayoutView",
            "grid_template_rows": null,
            "right": null,
            "justify_content": null,
            "_view_module": "@jupyter-widgets/base",
            "overflow": null,
            "_model_module_version": "1.2.0",
            "_view_count": null,
            "flex_flow": null,
            "width": null,
            "min_width": null,
            "border": null,
            "align_items": null,
            "bottom": null,
            "_model_module": "@jupyter-widgets/base",
            "top": null,
            "grid_column": null,
            "overflow_y": null,
            "overflow_x": null,
            "grid_auto_flow": null,
            "grid_area": null,
            "grid_template_columns": null,
            "flex": null,
            "_model_name": "LayoutModel",
            "justify_items": null,
            "grid_row": null,
            "max_height": null,
            "align_content": null,
            "visibility": null,
            "align_self": null,
            "height": null,
            "min_height": null,
            "padding": null,
            "grid_auto_rows": null,
            "grid_gap": null,
            "max_width": null,
            "order": null,
            "_view_module_version": "1.2.0",
            "grid_template_areas": null,
            "object_position": null,
            "object_fit": null,
            "grid_auto_columns": null,
            "margin": null,
            "display": null,
            "left": null
          }
        },
        "17abcae8fffc4456932c989f0fc2339f": {
          "model_module": "@jupyter-widgets/controls",
          "model_name": "SliderStyleModel",
          "state": {
            "_view_name": "StyleView",
            "handle_color": null,
            "_model_name": "SliderStyleModel",
            "description_width": "",
            "_view_module": "@jupyter-widgets/base",
            "_model_module_version": "1.5.0",
            "_view_count": null,
            "_view_module_version": "1.2.0",
            "_model_module": "@jupyter-widgets/controls"
          }
        },
        "a41e31624ae144239603894d23f46cdc": {
          "model_module": "@jupyter-widgets/base",
          "model_name": "LayoutModel",
          "state": {
            "_view_name": "LayoutView",
            "grid_template_rows": null,
            "right": null,
            "justify_content": null,
            "_view_module": "@jupyter-widgets/base",
            "overflow": null,
            "_model_module_version": "1.2.0",
            "_view_count": null,
            "flex_flow": null,
            "width": null,
            "min_width": null,
            "border": null,
            "align_items": null,
            "bottom": null,
            "_model_module": "@jupyter-widgets/base",
            "top": null,
            "grid_column": null,
            "overflow_y": null,
            "overflow_x": null,
            "grid_auto_flow": null,
            "grid_area": null,
            "grid_template_columns": null,
            "flex": null,
            "_model_name": "LayoutModel",
            "justify_items": null,
            "grid_row": null,
            "max_height": null,
            "align_content": null,
            "visibility": null,
            "align_self": null,
            "height": null,
            "min_height": null,
            "padding": null,
            "grid_auto_rows": null,
            "grid_gap": null,
            "max_width": null,
            "order": null,
            "_view_module_version": "1.2.0",
            "grid_template_areas": null,
            "object_position": null,
            "object_fit": null,
            "grid_auto_columns": null,
            "margin": null,
            "display": null,
            "left": null
          }
        },
        "b600631210934e0da1210959fcf9aa08": {
          "model_module": "@jupyter-widgets/controls",
          "model_name": "SliderStyleModel",
          "state": {
            "_view_name": "StyleView",
            "handle_color": null,
            "_model_name": "SliderStyleModel",
            "description_width": "",
            "_view_module": "@jupyter-widgets/base",
            "_model_module_version": "1.5.0",
            "_view_count": null,
            "_view_module_version": "1.2.0",
            "_model_module": "@jupyter-widgets/controls"
          }
        },
        "94fe76be6ada4c4bbfa5ffb9a9b10736": {
          "model_module": "@jupyter-widgets/base",
          "model_name": "LayoutModel",
          "state": {
            "_view_name": "LayoutView",
            "grid_template_rows": null,
            "right": null,
            "justify_content": null,
            "_view_module": "@jupyter-widgets/base",
            "overflow": null,
            "_model_module_version": "1.2.0",
            "_view_count": null,
            "flex_flow": null,
            "width": null,
            "min_width": null,
            "border": null,
            "align_items": null,
            "bottom": null,
            "_model_module": "@jupyter-widgets/base",
            "top": null,
            "grid_column": null,
            "overflow_y": null,
            "overflow_x": null,
            "grid_auto_flow": null,
            "grid_area": null,
            "grid_template_columns": null,
            "flex": null,
            "_model_name": "LayoutModel",
            "justify_items": null,
            "grid_row": null,
            "max_height": null,
            "align_content": null,
            "visibility": null,
            "align_self": null,
            "height": null,
            "min_height": null,
            "padding": null,
            "grid_auto_rows": null,
            "grid_gap": null,
            "max_width": null,
            "order": null,
            "_view_module_version": "1.2.0",
            "grid_template_areas": null,
            "object_position": null,
            "object_fit": null,
            "grid_auto_columns": null,
            "margin": null,
            "display": null,
            "left": null
          }
        },
        "75d1db4766fd4fe9a8c46337973feb8e": {
          "model_module": "@jupyter-widgets/controls",
          "model_name": "SliderStyleModel",
          "state": {
            "_view_name": "StyleView",
            "handle_color": null,
            "_model_name": "SliderStyleModel",
            "description_width": "",
            "_view_module": "@jupyter-widgets/base",
            "_model_module_version": "1.5.0",
            "_view_count": null,
            "_view_module_version": "1.2.0",
            "_model_module": "@jupyter-widgets/controls"
          }
        },
        "68e47c3200ce4520a5866709c8a8f166": {
          "model_module": "@jupyter-widgets/base",
          "model_name": "LayoutModel",
          "state": {
            "_view_name": "LayoutView",
            "grid_template_rows": null,
            "right": null,
            "justify_content": null,
            "_view_module": "@jupyter-widgets/base",
            "overflow": null,
            "_model_module_version": "1.2.0",
            "_view_count": null,
            "flex_flow": null,
            "width": null,
            "min_width": null,
            "border": null,
            "align_items": null,
            "bottom": null,
            "_model_module": "@jupyter-widgets/base",
            "top": null,
            "grid_column": null,
            "overflow_y": null,
            "overflow_x": null,
            "grid_auto_flow": null,
            "grid_area": null,
            "grid_template_columns": null,
            "flex": null,
            "_model_name": "LayoutModel",
            "justify_items": null,
            "grid_row": null,
            "max_height": null,
            "align_content": null,
            "visibility": null,
            "align_self": null,
            "height": null,
            "min_height": null,
            "padding": null,
            "grid_auto_rows": null,
            "grid_gap": null,
            "max_width": null,
            "order": null,
            "_view_module_version": "1.2.0",
            "grid_template_areas": null,
            "object_position": null,
            "object_fit": null,
            "grid_auto_columns": null,
            "margin": null,
            "display": null,
            "left": null
          }
        }
      }
    }
  },
  "cells": [
    {
      "cell_type": "markdown",
      "metadata": {
        "id": "6mXztP79_9M9",
        "colab_type": "text"
      },
      "source": [
        "Lambda School Data Science\n",
        "\n",
        "*Unit 2, Sprint 1, Module 2*\n",
        "\n",
        "---"
      ]
    },
    {
      "cell_type": "markdown",
      "metadata": {
        "colab_type": "text",
        "id": "7IXUfiQ2UKj6"
      },
      "source": [
        "# Regression 2\n",
        "\n",
        "## Assignment\n",
        "\n",
        "You'll continue to **predict how much it costs to rent an apartment in NYC,** using the dataset from renthop.com.\n",
        "\n",
        "- [ ] Do train/test split. Use data from April & May 2016 to train. Use data from June 2016 to test.\n",
        "- [ ] Engineer at least two new features. (See below for explanation & ideas.)\n",
        "- [ ] Fit a linear regression model with at least two features.\n",
        "- [ ] Get the model's coefficients and intercept.\n",
        "- [ ] Get regression metrics RMSE, MAE, and $R^2$, for both the train and test data.\n",
        "- [ ] What's the best test MAE you can get? Share your score and features used with your cohort on Slack!\n",
        "- [ ] As always, commit your notebook to your fork of the GitHub repo.\n",
        "\n",
        "\n",
        "#### [Feature Engineering](https://en.wikipedia.org/wiki/Feature_engineering)\n",
        "\n",
        "> \"Some machine learning projects succeed and some fail. What makes the difference? Easily the most important factor is the features used.\" — Pedro Domingos, [\"A Few Useful Things to Know about Machine Learning\"](https://homes.cs.washington.edu/~pedrod/papers/cacm12.pdf)\n",
        "\n",
        "> \"Coming up with features is difficult, time-consuming, requires expert knowledge. 'Applied machine learning' is basically feature engineering.\" — Andrew Ng, [Machine Learning and AI via Brain simulations](https://forum.stanford.edu/events/2011/2011slides/plenary/2011plenaryNg.pdf) \n",
        "\n",
        "> Feature engineering is the process of using domain knowledge of the data to create features that make machine learning algorithms work. \n",
        "\n",
        "#### Feature Ideas\n",
        "- Does the apartment have a description?\n",
        "- How long is the description?\n",
        "- How many total perks does each apartment have?\n",
        "- Are cats _or_ dogs allowed?\n",
        "- Are cats _and_ dogs allowed?\n",
        "- Total number of rooms (beds + baths)\n",
        "- Ratio of beds to baths\n",
        "- What's the neighborhood, based on address or latitude & longitude?\n",
        "\n",
        "## Stretch Goals\n",
        "- [ ] If you want more math, skim [_An Introduction to Statistical Learning_](http://faculty.marshall.usc.edu/gareth-james/ISL/ISLR%20Seventh%20Printing.pdf),  Chapter 3.1, Simple Linear Regression, & Chapter 3.2, Multiple Linear Regression\n",
        "- [ ] If you want more introduction, watch [Brandon Foltz, Statistics 101: Simple Linear Regression](https://www.youtube.com/watch?v=ZkjP5RJLQF4)\n",
        "(20 minutes, over 1 million views)\n",
        "- [ ] Add your own stretch goal(s) !"
      ]
    },
    {
      "cell_type": "code",
      "metadata": {
        "colab_type": "code",
        "id": "o9eSnDYhUGD7",
        "colab": {}
      },
      "source": [
        "%%capture\n",
        "import sys\n",
        "\n",
        "# If you're on Colab:\n",
        "if 'google.colab' in sys.modules:\n",
        "    DATA_PATH = 'https://raw.githubusercontent.com/LambdaSchool/DS-Unit-2-Applied-Modeling/master/data/'\n",
        "    !pip install category_encoders==2.*\n",
        "\n",
        "# If you're working locally:\n",
        "else:\n",
        "    DATA_PATH = '../data/'\n",
        "    \n",
        "# Ignore this Numpy warning when using Plotly Express:\n",
        "# FutureWarning: Method .ptp is deprecated and will be removed in a future version. Use numpy.ptp instead.\n",
        "import warnings\n",
        "warnings.filterwarnings(action='ignore', category=FutureWarning, module='numpy')"
      ],
      "execution_count": 0,
      "outputs": []
    },
    {
      "cell_type": "code",
      "metadata": {
        "colab_type": "code",
        "id": "cvrw-T3bZOuW",
        "colab": {}
      },
      "source": [
        "import numpy as np\n",
        "import pandas as pd\n",
        "\n",
        "# Read New York City apartment rental listing data\n",
        "df = pd.read_csv(DATA_PATH+'apartments/renthop-nyc.csv')\n",
        "assert df.shape == (49352, 34)\n",
        "\n",
        "# Remove the most extreme 1% prices,\n",
        "# the most extreme .1% latitudes, &\n",
        "# the most extreme .1% longitudes\n",
        "df = df[(df['price'] >= np.percentile(df['price'], 0.5)) & \n",
        "        (df['price'] <= np.percentile(df['price'], 99.5)) & \n",
        "        (df['latitude'] >= np.percentile(df['latitude'], 0.05)) & \n",
        "        (df['latitude'] < np.percentile(df['latitude'], 99.95)) &\n",
        "        (df['longitude'] >= np.percentile(df['longitude'], 0.05)) & \n",
        "        (df['longitude'] <= np.percentile(df['longitude'], 99.95))]"
      ],
      "execution_count": 0,
      "outputs": []
    },
    {
      "cell_type": "code",
      "metadata": {
        "id": "5z1XerDVAr5b",
        "colab_type": "code",
        "outputId": "8b1b3dd1-7e92-4280-9758-df825463f67f",
        "colab": {
          "base_uri": "https://localhost:8080/",
          "height": 259
        }
      },
      "source": [
        "print(df.shape)\n",
        "df.head(2)"
      ],
      "execution_count": 0,
      "outputs": [
        {
          "output_type": "stream",
          "text": [
            "(48817, 34)\n"
          ],
          "name": "stdout"
        },
        {
          "output_type": "execute_result",
          "data": {
            "text/html": [
              "<div>\n",
              "<style scoped>\n",
              "    .dataframe tbody tr th:only-of-type {\n",
              "        vertical-align: middle;\n",
              "    }\n",
              "\n",
              "    .dataframe tbody tr th {\n",
              "        vertical-align: top;\n",
              "    }\n",
              "\n",
              "    .dataframe thead th {\n",
              "        text-align: right;\n",
              "    }\n",
              "</style>\n",
              "<table border=\"1\" class=\"dataframe\">\n",
              "  <thead>\n",
              "    <tr style=\"text-align: right;\">\n",
              "      <th></th>\n",
              "      <th>bathrooms</th>\n",
              "      <th>bedrooms</th>\n",
              "      <th>created</th>\n",
              "      <th>description</th>\n",
              "      <th>display_address</th>\n",
              "      <th>latitude</th>\n",
              "      <th>longitude</th>\n",
              "      <th>price</th>\n",
              "      <th>street_address</th>\n",
              "      <th>interest_level</th>\n",
              "      <th>elevator</th>\n",
              "      <th>cats_allowed</th>\n",
              "      <th>hardwood_floors</th>\n",
              "      <th>dogs_allowed</th>\n",
              "      <th>doorman</th>\n",
              "      <th>dishwasher</th>\n",
              "      <th>no_fee</th>\n",
              "      <th>laundry_in_building</th>\n",
              "      <th>fitness_center</th>\n",
              "      <th>pre-war</th>\n",
              "      <th>laundry_in_unit</th>\n",
              "      <th>roof_deck</th>\n",
              "      <th>outdoor_space</th>\n",
              "      <th>dining_room</th>\n",
              "      <th>high_speed_internet</th>\n",
              "      <th>balcony</th>\n",
              "      <th>swimming_pool</th>\n",
              "      <th>new_construction</th>\n",
              "      <th>terrace</th>\n",
              "      <th>exclusive</th>\n",
              "      <th>loft</th>\n",
              "      <th>garden_patio</th>\n",
              "      <th>wheelchair_access</th>\n",
              "      <th>common_outdoor_space</th>\n",
              "    </tr>\n",
              "  </thead>\n",
              "  <tbody>\n",
              "    <tr>\n",
              "      <th>0</th>\n",
              "      <td>1.5</td>\n",
              "      <td>3</td>\n",
              "      <td>2016-06-24 07:54:24</td>\n",
              "      <td>A Brand New 3 Bedroom 1.5 bath ApartmentEnjoy ...</td>\n",
              "      <td>Metropolitan Avenue</td>\n",
              "      <td>40.7145</td>\n",
              "      <td>-73.9425</td>\n",
              "      <td>3000</td>\n",
              "      <td>792 Metropolitan Avenue</td>\n",
              "      <td>medium</td>\n",
              "      <td>0</td>\n",
              "      <td>0</td>\n",
              "      <td>0</td>\n",
              "      <td>0</td>\n",
              "      <td>0</td>\n",
              "      <td>0</td>\n",
              "      <td>0</td>\n",
              "      <td>0</td>\n",
              "      <td>0</td>\n",
              "      <td>0</td>\n",
              "      <td>0</td>\n",
              "      <td>0</td>\n",
              "      <td>0</td>\n",
              "      <td>0</td>\n",
              "      <td>0</td>\n",
              "      <td>0</td>\n",
              "      <td>0</td>\n",
              "      <td>0</td>\n",
              "      <td>0</td>\n",
              "      <td>0</td>\n",
              "      <td>0</td>\n",
              "      <td>0</td>\n",
              "      <td>0</td>\n",
              "      <td>0</td>\n",
              "    </tr>\n",
              "    <tr>\n",
              "      <th>1</th>\n",
              "      <td>1.0</td>\n",
              "      <td>2</td>\n",
              "      <td>2016-06-12 12:19:27</td>\n",
              "      <td></td>\n",
              "      <td>Columbus Avenue</td>\n",
              "      <td>40.7947</td>\n",
              "      <td>-73.9667</td>\n",
              "      <td>5465</td>\n",
              "      <td>808 Columbus Avenue</td>\n",
              "      <td>low</td>\n",
              "      <td>1</td>\n",
              "      <td>1</td>\n",
              "      <td>0</td>\n",
              "      <td>1</td>\n",
              "      <td>1</td>\n",
              "      <td>0</td>\n",
              "      <td>0</td>\n",
              "      <td>0</td>\n",
              "      <td>1</td>\n",
              "      <td>0</td>\n",
              "      <td>0</td>\n",
              "      <td>0</td>\n",
              "      <td>0</td>\n",
              "      <td>0</td>\n",
              "      <td>0</td>\n",
              "      <td>0</td>\n",
              "      <td>0</td>\n",
              "      <td>0</td>\n",
              "      <td>0</td>\n",
              "      <td>0</td>\n",
              "      <td>0</td>\n",
              "      <td>0</td>\n",
              "      <td>0</td>\n",
              "      <td>0</td>\n",
              "    </tr>\n",
              "  </tbody>\n",
              "</table>\n",
              "</div>"
            ],
            "text/plain": [
              "   bathrooms  bedrooms  ... wheelchair_access common_outdoor_space\n",
              "0        1.5         3  ...                 0                    0\n",
              "1        1.0         2  ...                 0                    0\n",
              "\n",
              "[2 rows x 34 columns]"
            ]
          },
          "metadata": {
            "tags": []
          },
          "execution_count": 12
        }
      ]
    },
    {
      "cell_type": "code",
      "metadata": {
        "id": "c1JvOpNKD9_-",
        "colab_type": "code",
        "outputId": "312d6040-cc3e-4426-d219-32b408910100",
        "colab": {
          "base_uri": "https://localhost:8080/",
          "height": 33
        }
      },
      "source": [
        "# Looking at the type of data that is shown in the created\n",
        "df['created'].dtype"
      ],
      "execution_count": 0,
      "outputs": [
        {
          "output_type": "execute_result",
          "data": {
            "text/plain": [
              "dtype('O')"
            ]
          },
          "metadata": {
            "tags": []
          },
          "execution_count": 7
        }
      ]
    },
    {
      "cell_type": "code",
      "metadata": {
        "id": "_HIGD9YrBELx",
        "colab_type": "code",
        "colab": {}
      },
      "source": [
        "# Will change the  date that the apartments were made into a date time object\n",
        "import datetime"
      ],
      "execution_count": 0,
      "outputs": []
    },
    {
      "cell_type": "code",
      "metadata": {
        "id": "OaTtXqhFEmLL",
        "colab_type": "code",
        "outputId": "ba5af677-82d8-413c-df6b-ef8107e01376",
        "colab": {
          "base_uri": "https://localhost:8080/",
          "height": 50
        }
      },
      "source": [
        "df['created'] = pd.to_datetime(df['created'])\n",
        "# Looking at the year ranges of the  created info\n",
        "df['created'].dt.year.value_counts(dropna=False)"
      ],
      "execution_count": 0,
      "outputs": [
        {
          "output_type": "execute_result",
          "data": {
            "text/plain": [
              "2016    48817\n",
              "Name: created, dtype: int64"
            ]
          },
          "metadata": {
            "tags": []
          },
          "execution_count": 11
        }
      ]
    },
    {
      "cell_type": "code",
      "metadata": {
        "id": "dJWiF6nwF9QB",
        "colab_type": "code",
        "colab": {}
      },
      "source": [
        "# Won't use anything with the date (for feature engineering), \n",
        "# becuase they are all in the same year."
      ],
      "execution_count": 0,
      "outputs": []
    },
    {
      "cell_type": "code",
      "metadata": {
        "id": "uXBIhuESGvSR",
        "colab_type": "code",
        "colab": {}
      },
      "source": [
        "# I will make a new feature that will count the number of perks that each\n",
        "# apartment has. Bedrooms and bathrooms will not be condisdered perks.\n",
        "\n",
        "# Making my function to add up the perks\n",
        "def addPerks(row):\n",
        "  numPerks = 0\n",
        "  for i in range(10,len(df.columns)):\n",
        "    if row[i] == 1:\n",
        "      numPerks = numPerks + 1\n",
        "  return numPerks"
      ],
      "execution_count": 0,
      "outputs": []
    },
    {
      "cell_type": "code",
      "metadata": {
        "id": "PgitSO_JKepj",
        "colab_type": "code",
        "colab": {}
      },
      "source": [
        "# Using the function to make the new feature\n",
        "df['numPerks'] = df.apply(addPerks, axis=1)"
      ],
      "execution_count": 0,
      "outputs": []
    },
    {
      "cell_type": "code",
      "metadata": {
        "id": "TYNmohPoLC_w",
        "colab_type": "code",
        "outputId": "18ef35d6-a217-4352-bee5-c6dbab2b3617",
        "colab": {
          "base_uri": "https://localhost:8080/",
          "height": 350
        }
      },
      "source": [
        "# Checking to see what values are held in the numPerks column\n",
        "df['numPerks'].value_counts()"
      ],
      "execution_count": 0,
      "outputs": [
        {
          "output_type": "execute_result",
          "data": {
            "text/plain": [
              "2     10670\n",
              "3      7259\n",
              "4      5766\n",
              "5      4942\n",
              "6      3853\n",
              "0      3729\n",
              "7      2985\n",
              "8      2459\n",
              "9      2039\n",
              "10     1552\n",
              "11     1221\n",
              "12      893\n",
              "13      659\n",
              "14      393\n",
              "15      214\n",
              "16      107\n",
              "17       60\n",
              "18       12\n",
              "19        4\n",
              "Name: numPerks, dtype: int64"
            ]
          },
          "metadata": {
            "tags": []
          },
          "execution_count": 17
        }
      ]
    },
    {
      "cell_type": "code",
      "metadata": {
        "id": "TdS5Am7lLXO3",
        "colab_type": "code",
        "outputId": "9ed212f8-9e65-47fc-cb35-3a253c05daf4",
        "colab": {
          "base_uri": "https://localhost:8080/",
          "height": 253
        }
      },
      "source": [
        "# Going to create a second feature\n",
        "# Will try to use the descriptions\n",
        "print(df['description'].dtype)\n",
        "df['description'].isnull().sum()\n",
        "\n"
      ],
      "execution_count": 0,
      "outputs": [
        {
          "output_type": "stream",
          "text": [
            "object\n"
          ],
          "name": "stdout"
        },
        {
          "output_type": "execute_result",
          "data": {
            "text/plain": [
              "                                                                                                                                                                                                                                                                                                                                                                                                                                                                                                                                                                                                                                                                                                                                                                                                                                                                                                                                                                                                                                                                                                                                                                                                                                                                                                                                                                                                                                                                                                                                                                                                                                                                                                                                                      1627\n",
              "<p><a  website_redacted                                                                                                                                                                                                                                                                                                                                                                                                                                                                                                                                                                                                                                                                                                                                                                                                                                                                                                                                                                                                                                                                                                                                                                                                                                                                                                                                                                                                                                                                                                                                                                                                                                                                                                                                325\n",
              "                                                                                                                                                                                                                                                                                                                                                                                                                                                                                                                                                                                                                                                                                                                                                                                                                                                                                                                                                                                                                                                                                                                                                                                                                                                                                                                                                                                                                                                                                                                                                                                                                                                                                                                                                       235\n",
              "A detailed description is coming soon. Please contact your Highline Residential agent with any questions.                                                                                                                                                                                                                                                                                                                                                                                                                                                                                                                                                                                                                                                                                                                                                                                                                                                                                                                                                                                                                                                                                                                                                                                                                                                                                                                                                                                                                                                                                                                                                                                                                                              123\n",
              "These pictures are from a similarlisting.                                                                                                                                                                                                                                                                                                                                                                                                                                                                                                                                                                                                                                                                                                                                                                                                                                                                                                                                                                                                                                                                                                                                                                                                                                                                                                                                                                                                                                                                                                                                                                                                                                                                                                               64\n",
              "                                                                                                                                                                                                                                                                                                                                                                                                                                                                                                                                                                                                                                                                                                                                                                                                                                                                                                                                                                                                                                                                                                                                                                                                                                                                                                                                                                                                                                                                                                                                                                                                                                                                                                                                                      ... \n",
              "PRIME MURRAY HILL LOCATION. 30's AND 3rd Ave. 24 HOUR DOORMAN BUILDING WITH ELEVATORS AND A LAUNDRY ROOM. VALET SERVICE AVAILABLE. THE BUILDING IS SURROUND BY ALL OF MURRAY HILL'S BEST RESTAURANTS AND BARS. JUST STEPS FROM THE SUBWAY.<br /><br />RECENTLY RENOVATED AND SPACIOUS STUDIO WITH A DINING ROOM AREA, AS WELL AS A SEPARATE WINDOWED KITCHEN THAT WAS JUST UPDATED WITH NEW STAINLESS STEEL APPLIANCES. KITCHEN HAS A MICROWAVE AND A DISHWASHER. RENOVATED MARBLE BATHROOM. THIS UNIT HAS HIGH CEILINGS AND PLENTY OF NATURAL SUNLIGHT. HARDWOOD FLOOR THROUGHOUT. WALK-IN CLOSET WITH PLENTY OF STORAGE SPACE. GREAT DEAL!<br /><br />Contact: KSENIA BELOVA Email: kagglemanager@renthop.com Cell: 774-340-6664 CALL/TEXT ANYTIME!!!<br /><br /><p><a  website_redacted                                                                                                                                                                                                                                                                                                                                                                                                                                                                                                                                                                                                                                                                                                                                                                                                                                                                                                                                                               1\n",
              "This studio apartment is located in the UES. The apartment is located in a walk up building. The apartment features a spacious living area, hardwood floors, a separate kitchen with modern appliances and a renovated bathroom. Pets and Guarantors are allowed. Lets make this beauty your next home!                                                                                                                                                                                                                                                                                                                                                                                                                                                                                                                                                                                                                                                                                                                                                                                                                                                                                                                                                                                                                                                                                                                                                                                                                                                                                                                                                                                                                                                  1\n",
              "great apartment in a great building ..in a great neighborhood.                                                                                                                                                                                                                                                                                                                                                                                                                                                                                                                                                                                                                                                                                                                                                                                                                                                                                                                                                                                                                                                                                                                                                                                                                                                                                                                                                                                                                                                                                                                                                                                                                                                                                           1\n",
              "        Just Listed 4/12/16<br /> immediate available- 5/1/16<br /><br />Just steps away from historic Brooklyn Bridge Park and at the epicenter of Brooklyn’s flourishing arts and culture community,  is a new construction rental developed and managed by Two Trees Management and designed by LEESER Architecture. The modern yet reflective façade is inspired by the building’s views of both the Manhattan and Brooklyn bridges. Light-filled apartments offer floor-to-ceiling windows, which feature elegant island kitchens, stainless appliances, dozens of outlets, and well-appointed floor plans. On the upper floors, a shared roof deck designed by the architects behind the High Line offers Manhattan-facing vistas.<br />                                                                                                                                                                                                                                                                                                                                                                                                                                                                                                                                                                                                                                                                                                                                                                                                                                                                                                                                                                                                           1\n",
              "THIS BUILDING OFFER RESIDENCES AN AMAZING AMENITY PACKAGE...INCLUDED IN THE RENT*HEAT/HOT WATER/GAS*ACCESS TO THE WI-FI LOUNGE AND RESIDENCE LOUNGE*ACCESS TO THE STATE-OF-THE-ART GYM*ACCESS TO THE ROOF-TOP AREA WITH AMAZING SWEEPING VIEWS OF DOWNTOWN MANHATTAN AND BBQ GRILLSLife at this building promises stunning city and waterfront views that take your breath away. This 32-story Emory Roth & Sons-designed building is best known for its oversized residences and iconic 50' high digital clock created by Rudolph de Harak. Located across from the Seaport and steps from the chic eateries on quaint, cobblestoned Stone Street, this building puts residents in immediate proximity of fine dining and shopping. The address is also two blocks from the Fulton Street transit hub and adjacent to the Financial District. Standing elegant and high, this unique statement of modern living is also a mainstay in the neighborhood. Originally built in 1971 as an office building, 200 Water was inspired by the principles of International Style of design championed by Philip Johnson, and was deliberately set back to allow for enhanced light and views.<br /><br />CENTRALLY LOCATED IN THE HEART OF THE FIDISTEPS AWAY FROM SOUTH STREET SEAPORT, AND ALL OF THE MAJOR SUBWAYSPLEASE FEEL FREE TO CONTACT ME TO SCHEDULE AN APPT FOR THIS UNIT AND I WILL ALSO TAKE YOU OUT ON A TOUR OF EVERYTHING THAT IS ALSO AVAILABLE IN THE AREA...HUGE LOFT LIKE STUDIO WHICH YOU CAN FLEX INTO A TWO BR WITH A T-WALL...THE BUILDING IS PAYING $1000 TOWARDS THE BROKERS FEE. THE FEE IS JUST ONE MONTH MINUS $1000.IAN CHRISTIECHRISTIE PROPERTY kagglemanager@renthop.com<br /><br /><br /><br /><p><a  website_redacted        1\n",
              "Name: description, Length: 37853, dtype: int64"
            ]
          },
          "metadata": {
            "tags": []
          },
          "execution_count": 26
        }
      ]
    },
    {
      "cell_type": "code",
      "metadata": {
        "id": "ifLi1uDVMY83",
        "colab_type": "code",
        "colab": {}
      },
      "source": [
        "# I think that I will make the second feature be the length of the description\n",
        "# Here is my function that will find the length of the description string\n",
        "def descriptionLen(descriptionStr):\n",
        "  theString = str(descriptionStr)\n",
        "  if not theString.strip():\n",
        "    return 0\n",
        "  else:\n",
        "    return len(theString)"
      ],
      "execution_count": 0,
      "outputs": []
    },
    {
      "cell_type": "code",
      "metadata": {
        "id": "spfZCXC8Otqr",
        "colab_type": "code",
        "colab": {}
      },
      "source": [
        "df['descriptionLen'] = df['description'].apply(descriptionLen)"
      ],
      "execution_count": 0,
      "outputs": []
    },
    {
      "cell_type": "code",
      "metadata": {
        "id": "SsMpFGqHRwUv",
        "colab_type": "code",
        "outputId": "de37c3e8-01d4-4775-8627-4dce038d51f0",
        "colab": {
          "base_uri": "https://localhost:8080/",
          "height": 418
        }
      },
      "source": [
        "df.head(4)"
      ],
      "execution_count": 0,
      "outputs": [
        {
          "output_type": "execute_result",
          "data": {
            "text/html": [
              "<div>\n",
              "<style scoped>\n",
              "    .dataframe tbody tr th:only-of-type {\n",
              "        vertical-align: middle;\n",
              "    }\n",
              "\n",
              "    .dataframe tbody tr th {\n",
              "        vertical-align: top;\n",
              "    }\n",
              "\n",
              "    .dataframe thead th {\n",
              "        text-align: right;\n",
              "    }\n",
              "</style>\n",
              "<table border=\"1\" class=\"dataframe\">\n",
              "  <thead>\n",
              "    <tr style=\"text-align: right;\">\n",
              "      <th></th>\n",
              "      <th>bathrooms</th>\n",
              "      <th>bedrooms</th>\n",
              "      <th>created</th>\n",
              "      <th>description</th>\n",
              "      <th>display_address</th>\n",
              "      <th>latitude</th>\n",
              "      <th>longitude</th>\n",
              "      <th>price</th>\n",
              "      <th>street_address</th>\n",
              "      <th>interest_level</th>\n",
              "      <th>elevator</th>\n",
              "      <th>cats_allowed</th>\n",
              "      <th>hardwood_floors</th>\n",
              "      <th>dogs_allowed</th>\n",
              "      <th>doorman</th>\n",
              "      <th>dishwasher</th>\n",
              "      <th>no_fee</th>\n",
              "      <th>laundry_in_building</th>\n",
              "      <th>fitness_center</th>\n",
              "      <th>pre-war</th>\n",
              "      <th>laundry_in_unit</th>\n",
              "      <th>roof_deck</th>\n",
              "      <th>outdoor_space</th>\n",
              "      <th>dining_room</th>\n",
              "      <th>high_speed_internet</th>\n",
              "      <th>balcony</th>\n",
              "      <th>swimming_pool</th>\n",
              "      <th>new_construction</th>\n",
              "      <th>terrace</th>\n",
              "      <th>exclusive</th>\n",
              "      <th>loft</th>\n",
              "      <th>garden_patio</th>\n",
              "      <th>wheelchair_access</th>\n",
              "      <th>common_outdoor_space</th>\n",
              "      <th>numPerks</th>\n",
              "      <th>descriptionLen</th>\n",
              "    </tr>\n",
              "  </thead>\n",
              "  <tbody>\n",
              "    <tr>\n",
              "      <th>0</th>\n",
              "      <td>1.5</td>\n",
              "      <td>3</td>\n",
              "      <td>2016-06-24 07:54:24</td>\n",
              "      <td>A Brand New 3 Bedroom 1.5 bath ApartmentEnjoy ...</td>\n",
              "      <td>Metropolitan Avenue</td>\n",
              "      <td>40.7145</td>\n",
              "      <td>-73.9425</td>\n",
              "      <td>3000</td>\n",
              "      <td>792 Metropolitan Avenue</td>\n",
              "      <td>medium</td>\n",
              "      <td>0</td>\n",
              "      <td>0</td>\n",
              "      <td>0</td>\n",
              "      <td>0</td>\n",
              "      <td>0</td>\n",
              "      <td>0</td>\n",
              "      <td>0</td>\n",
              "      <td>0</td>\n",
              "      <td>0</td>\n",
              "      <td>0</td>\n",
              "      <td>0</td>\n",
              "      <td>0</td>\n",
              "      <td>0</td>\n",
              "      <td>0</td>\n",
              "      <td>0</td>\n",
              "      <td>0</td>\n",
              "      <td>0</td>\n",
              "      <td>0</td>\n",
              "      <td>0</td>\n",
              "      <td>0</td>\n",
              "      <td>0</td>\n",
              "      <td>0</td>\n",
              "      <td>0</td>\n",
              "      <td>0</td>\n",
              "      <td>0</td>\n",
              "      <td>588</td>\n",
              "    </tr>\n",
              "    <tr>\n",
              "      <th>1</th>\n",
              "      <td>1.0</td>\n",
              "      <td>2</td>\n",
              "      <td>2016-06-12 12:19:27</td>\n",
              "      <td></td>\n",
              "      <td>Columbus Avenue</td>\n",
              "      <td>40.7947</td>\n",
              "      <td>-73.9667</td>\n",
              "      <td>5465</td>\n",
              "      <td>808 Columbus Avenue</td>\n",
              "      <td>low</td>\n",
              "      <td>1</td>\n",
              "      <td>1</td>\n",
              "      <td>0</td>\n",
              "      <td>1</td>\n",
              "      <td>1</td>\n",
              "      <td>0</td>\n",
              "      <td>0</td>\n",
              "      <td>0</td>\n",
              "      <td>1</td>\n",
              "      <td>0</td>\n",
              "      <td>0</td>\n",
              "      <td>0</td>\n",
              "      <td>0</td>\n",
              "      <td>0</td>\n",
              "      <td>0</td>\n",
              "      <td>0</td>\n",
              "      <td>0</td>\n",
              "      <td>0</td>\n",
              "      <td>0</td>\n",
              "      <td>0</td>\n",
              "      <td>0</td>\n",
              "      <td>0</td>\n",
              "      <td>0</td>\n",
              "      <td>0</td>\n",
              "      <td>5</td>\n",
              "      <td>0</td>\n",
              "    </tr>\n",
              "    <tr>\n",
              "      <th>2</th>\n",
              "      <td>1.0</td>\n",
              "      <td>1</td>\n",
              "      <td>2016-04-17 03:26:41</td>\n",
              "      <td>Top Top West Village location, beautiful Pre-w...</td>\n",
              "      <td>W 13 Street</td>\n",
              "      <td>40.7388</td>\n",
              "      <td>-74.0018</td>\n",
              "      <td>2850</td>\n",
              "      <td>241 W 13 Street</td>\n",
              "      <td>high</td>\n",
              "      <td>0</td>\n",
              "      <td>0</td>\n",
              "      <td>1</td>\n",
              "      <td>0</td>\n",
              "      <td>0</td>\n",
              "      <td>1</td>\n",
              "      <td>0</td>\n",
              "      <td>1</td>\n",
              "      <td>0</td>\n",
              "      <td>0</td>\n",
              "      <td>0</td>\n",
              "      <td>0</td>\n",
              "      <td>0</td>\n",
              "      <td>0</td>\n",
              "      <td>0</td>\n",
              "      <td>0</td>\n",
              "      <td>0</td>\n",
              "      <td>0</td>\n",
              "      <td>0</td>\n",
              "      <td>0</td>\n",
              "      <td>0</td>\n",
              "      <td>0</td>\n",
              "      <td>0</td>\n",
              "      <td>0</td>\n",
              "      <td>3</td>\n",
              "      <td>691</td>\n",
              "    </tr>\n",
              "    <tr>\n",
              "      <th>3</th>\n",
              "      <td>1.0</td>\n",
              "      <td>1</td>\n",
              "      <td>2016-04-18 02:22:02</td>\n",
              "      <td>Building Amenities - Garage - Garden - fitness...</td>\n",
              "      <td>East 49th Street</td>\n",
              "      <td>40.7539</td>\n",
              "      <td>-73.9677</td>\n",
              "      <td>3275</td>\n",
              "      <td>333 East 49th Street</td>\n",
              "      <td>low</td>\n",
              "      <td>0</td>\n",
              "      <td>0</td>\n",
              "      <td>1</td>\n",
              "      <td>0</td>\n",
              "      <td>0</td>\n",
              "      <td>0</td>\n",
              "      <td>1</td>\n",
              "      <td>0</td>\n",
              "      <td>0</td>\n",
              "      <td>0</td>\n",
              "      <td>0</td>\n",
              "      <td>0</td>\n",
              "      <td>0</td>\n",
              "      <td>0</td>\n",
              "      <td>0</td>\n",
              "      <td>0</td>\n",
              "      <td>0</td>\n",
              "      <td>0</td>\n",
              "      <td>0</td>\n",
              "      <td>0</td>\n",
              "      <td>0</td>\n",
              "      <td>0</td>\n",
              "      <td>0</td>\n",
              "      <td>0</td>\n",
              "      <td>2</td>\n",
              "      <td>492</td>\n",
              "    </tr>\n",
              "  </tbody>\n",
              "</table>\n",
              "</div>"
            ],
            "text/plain": [
              "   bathrooms  bedrooms  ... numPerks descriptionLen\n",
              "0        1.5         3  ...        0            588\n",
              "1        1.0         2  ...        5              0\n",
              "2        1.0         1  ...        3            691\n",
              "3        1.0         1  ...        2            492\n",
              "\n",
              "[4 rows x 36 columns]"
            ]
          },
          "metadata": {
            "tags": []
          },
          "execution_count": 31
        }
      ]
    },
    {
      "cell_type": "code",
      "metadata": {
        "id": "4ZhNAQLHaBr2",
        "colab_type": "code",
        "colab": {
          "base_uri": "https://localhost:8080/",
          "height": 84
        },
        "outputId": "fe432399-90ad-454b-8f61-bb556194b3a1"
      },
      "source": [
        "df['created'].dt.month.value_counts()"
      ],
      "execution_count": 33,
      "outputs": [
        {
          "output_type": "execute_result",
          "data": {
            "text/plain": [
              "6    16973\n",
              "4    16217\n",
              "5    15627\n",
              "Name: created, dtype: int64"
            ]
          },
          "metadata": {
            "tags": []
          },
          "execution_count": 33
        }
      ]
    },
    {
      "cell_type": "code",
      "metadata": {
        "id": "qlXp9nr7aHhW",
        "colab_type": "code",
        "colab": {
          "base_uri": "https://localhost:8080/",
          "height": 34
        },
        "outputId": "ce23827d-076b-4940-9523-e2fbfcc699e2"
      },
      "source": [
        "# Splitting my data for a train and test groups\n",
        "train = df[df['created'].dt.month < 6 ]\n",
        "test = df[df['created'].dt.month == 6]\n",
        "print(train.shape, test.shape)"
      ],
      "execution_count": 34,
      "outputs": [
        {
          "output_type": "stream",
          "text": [
            "(31844, 36) (16973, 36)\n"
          ],
          "name": "stdout"
        }
      ]
    },
    {
      "cell_type": "code",
      "metadata": {
        "id": "IY-CkIYtbKQ9",
        "colab_type": "code",
        "colab": {}
      },
      "source": [
        "# doing the imports for sklearn\n",
        "from sklearn.linear_model import LinearRegression\n",
        "from sklearn.dummy import DummyRegressor\n",
        "from sklearn.metrics import mean_absolute_error , mean_squared_error, r2_score"
      ],
      "execution_count": 0,
      "outputs": []
    },
    {
      "cell_type": "code",
      "metadata": {
        "id": "kH1RG9YCb0yL",
        "colab_type": "code",
        "colab": {}
      },
      "source": [
        "# I will try using 3 different features\n",
        "# \"bedrooms\", 'numPerks', and 'descriptionLen'\n",
        "features = ['bedrooms', \"numPerks\",'descriptionLen']\n",
        "target = 'price'"
      ],
      "execution_count": 0,
      "outputs": []
    },
    {
      "cell_type": "code",
      "metadata": {
        "id": "AicXZSRSkVhn",
        "colab_type": "code",
        "colab": {}
      },
      "source": [
        "# showing what the baseline would be if we just used the mean of the price\n",
        "dummyModel = DummyRegressor()\n",
        "dummyModel.fit(train[features], train[target])\n",
        "dummyPred = dummyModel.predict(test[features])"
      ],
      "execution_count": 0,
      "outputs": []
    },
    {
      "cell_type": "code",
      "metadata": {
        "id": "hD921fVelmQy",
        "colab_type": "code",
        "colab": {
          "base_uri": "https://localhost:8080/",
          "height": 50
        },
        "outputId": "18bc59c2-3235-4445-d595-3685520490f8"
      },
      "source": [
        "# Printing out the mean absolute error for the dummy model(baseline)\n",
        "maeDummy = mean_absolute_error(test[target], dummyPred )\n",
        "first = \"The mean absolute error using the mean\"\n",
        "second = f\"as a baseline with the test group is: {maeDummy:.2f}\"\n",
        "print(first + \"\\n\" + second)"
      ],
      "execution_count": 65,
      "outputs": [
        {
          "output_type": "stream",
          "text": [
            "The mean absolute error using the mean\n",
            "as a baseline with the test group is: 1197.71\n"
          ],
          "name": "stdout"
        }
      ]
    },
    {
      "cell_type": "code",
      "metadata": {
        "id": "6__WsqnsbgcF",
        "colab_type": "code",
        "colab": {}
      },
      "source": [
        "myModel = LinearRegression()"
      ],
      "execution_count": 0,
      "outputs": []
    },
    {
      "cell_type": "code",
      "metadata": {
        "id": "zEYyDmZHc1CE",
        "colab_type": "code",
        "colab": {}
      },
      "source": [
        "# fitting my model\n",
        "myModel.fit(train[features], train[target])\n",
        "# predicting on the training set to show the error of the training set\n",
        "trainPred = myModel.predict(train[features])\n"
      ],
      "execution_count": 0,
      "outputs": []
    },
    {
      "cell_type": "code",
      "metadata": {
        "id": "TWn0hS6MziAk",
        "colab_type": "code",
        "colab": {
          "base_uri": "https://localhost:8080/",
          "height": 67
        },
        "outputId": "68051549-8619-4dbe-d121-172e21f5106a"
      },
      "source": [
        "# Getting all the scores for the train set\n",
        "mae = mean_absolute_error(train[target], trainPred)\n",
        "print(f\"Train mean absolute error is: {mae:.3f}\")\n",
        "\n",
        "# Getting the root mean squared error and R squared\n",
        "rmse = np.sqrt(mean_squared_error(train[target], trainPred))\n",
        "r_squared = r2_score(train[target], trainPred)\n",
        "\n",
        "print(f\"The Train RMSE is: {rmse:.3f}\")\n",
        "print(f\"The Train R squared score is: {r_squared:.3f}\")"
      ],
      "execution_count": 72,
      "outputs": [
        {
          "output_type": "stream",
          "text": [
            "Train mean absolute error is: 927.144\n",
            "The Train RMSE is: 1426.756\n",
            "The Train R squared score is: 0.344\n"
          ],
          "name": "stdout"
        }
      ]
    },
    {
      "cell_type": "code",
      "metadata": {
        "id": "Ohwe40uMdZV7",
        "colab_type": "code",
        "colab": {}
      },
      "source": [
        "# testing the model with the test group\n",
        "y_preds = myModel.predict(test[features])\n"
      ],
      "execution_count": 0,
      "outputs": []
    },
    {
      "cell_type": "code",
      "metadata": {
        "id": "u2gnkELy0R4B",
        "colab_type": "code",
        "colab": {
          "base_uri": "https://localhost:8080/",
          "height": 67
        },
        "outputId": "c53a904d-b479-4498-d139-2e099def9030"
      },
      "source": [
        "# getting the mean absolute error for the test group\n",
        "mae = mean_absolute_error(test[target], y_preds)\n",
        "print(f\"The mean absolute error for the test is {mae:.2f}\")\n",
        "\n",
        "# Getting the root mean squared error and R squared\n",
        "rmse = np.sqrt(mean_squared_error(test[target], y_preds))\n",
        "r_squared = r2_score(test[target], y_preds)\n",
        "\n",
        "print(f\"The Test RMSE is: {rmse:.3f}\")\n",
        "print(f\"The Test R squared score is: {r_squared:.3f}\")"
      ],
      "execution_count": 74,
      "outputs": [
        {
          "output_type": "stream",
          "text": [
            "The mean absolute error for the test is 936.18\n",
            "The Test RMSE is: 1426.310\n",
            "The Test R squared score is: 0.345\n"
          ],
          "name": "stdout"
        }
      ]
    },
    {
      "cell_type": "code",
      "metadata": {
        "id": "M-OZPUKKfU4S",
        "colab_type": "code",
        "colab": {
          "base_uri": "https://localhost:8080/",
          "height": 34
        },
        "outputId": "2d777b24-6302-4f29-a44b-9355be8fc98d"
      },
      "source": [
        "print(f\"The coeficient is: {myModel.coef_}, and the intercept is: {myModel.intercept_}\")"
      ],
      "execution_count": 57,
      "outputs": [
        {
          "output_type": "stream",
          "text": [
            "The coeficient is: [8.10806204e+02 1.24307779e+02 3.53696343e-02], and the intercept is: 1717.3220948264493\n"
          ],
          "name": "stdout"
        }
      ]
    },
    {
      "cell_type": "code",
      "metadata": {
        "id": "iS3Ngs3siyY-",
        "colab_type": "code",
        "colab": {
          "base_uri": "https://localhost:8080/",
          "height": 101
        },
        "outputId": "8f1f620f-57b1-47c7-fba9-209a231de8a0"
      },
      "source": [
        "# Showing it in a pandas dataFrame\n",
        "myCoef = pd.Series(myModel.coef_, features)\n",
        "print('Intercept', myModel.intercept_)\n",
        "print(myCoef)"
      ],
      "execution_count": 45,
      "outputs": [
        {
          "output_type": "stream",
          "text": [
            "Intercept 1717.3220948264493\n",
            "bedrooms          810.806204\n",
            "numPerks          124.307779\n",
            "descriptionLen      0.035370\n",
            "dtype: float64\n"
          ],
          "name": "stdout"
        }
      ]
    },
    {
      "cell_type": "code",
      "metadata": {
        "id": "RF8CJKGkgUB4",
        "colab_type": "code",
        "colab": {}
      },
      "source": [
        "# This is an inner function that will be used to show the scores such as \n",
        "# mean absolute error, rmse, r_squared\n",
        "def getScores(y_trues, y_preds):\n",
        "  mae = mean_absolute_error(y_trues, y_preds)\n",
        "  rmse = np.sqrt(mean_squared_error(y_trues, y_preds))\n",
        "  r = r2_score(y_trues, y_preds)\n",
        "  t= f\"The mean absolute error is: {mae:.2f}\"\n",
        "  u = f\"The RMSE is {rmse:.2f}\"\n",
        "  v = f\"The r_squared is {r:.2f}\"\n",
        "\n",
        "  return print(t + \"\\n\" + u + \"\\n\" + v)"
      ],
      "execution_count": 0,
      "outputs": []
    },
    {
      "cell_type": "code",
      "metadata": {
        "id": "2UngNy_pdv-m",
        "colab_type": "code",
        "colab": {}
      },
      "source": [
        "# creating a function to predict the  same thing \n",
        "def makePred(mfeatures=features, mTarget='price'):\n",
        "  model = LinearRegression()\n",
        "  y_test = test[mTarget]\n",
        "  y_train = train[mTarget]\n",
        "  model.fit(train[mfeatures], y_train)\n",
        "  y_pred = model.predict(test[mfeatures])\n",
        "\n",
        "  # returning the scores\n",
        "  return getScores(y_test, y_pred)"
      ],
      "execution_count": 0,
      "outputs": []
    },
    {
      "cell_type": "code",
      "metadata": {
        "id": "AT0aSE1B4Dae",
        "colab_type": "code",
        "colab": {
          "base_uri": "https://localhost:8080/",
          "height": 67
        },
        "outputId": "b2b17215-62e9-47be-d867-697a28bcabe8"
      },
      "source": [
        "# Trying the method with the same features and then maybe others\n",
        "makePred()"
      ],
      "execution_count": 81,
      "outputs": [
        {
          "output_type": "stream",
          "text": [
            "The mean absolute error is: 936.18\n",
            "The RMSE is 1426.31\n",
            "The r_squared is 0.35\n"
          ],
          "name": "stdout"
        }
      ]
    },
    {
      "cell_type": "code",
      "metadata": {
        "id": "I2gdxNMY4MUM",
        "colab_type": "code",
        "colab": {
          "base_uri": "https://localhost:8080/",
          "height": 67
        },
        "outputId": "aaa55a5f-71f6-4528-c114-f2d55219d9d7"
      },
      "source": [
        "# trying a new prediction with adding the bathrooms to the features\n",
        "myfeatures = ['bathrooms',\t'bedrooms', 'numPerks', 'descriptionLen']\n",
        "makePred(mfeatures=myfeatures)"
      ],
      "execution_count": 82,
      "outputs": [
        {
          "output_type": "stream",
          "text": [
            "The mean absolute error is: 800.84\n",
            "The RMSE is 1192.96\n",
            "The r_squared is 0.54\n"
          ],
          "name": "stdout"
        }
      ]
    },
    {
      "cell_type": "code",
      "metadata": {
        "id": "bdU0LBa5DsFy",
        "colab_type": "code",
        "colab": {}
      },
      "source": [
        ""
      ],
      "execution_count": 0,
      "outputs": []
    },
    {
      "cell_type": "code",
      "metadata": {
        "id": "aFEGOu185mkF",
        "colab_type": "code",
        "colab": {}
      },
      "source": [
        "# Creating the function that can be used with the ipwidget to show the price \n",
        "# will use same model as the one above using the 4 features\n",
        "def whatPrice(tBathrooms, tBedrooms, tNumPerks=df['numPerks'].max(), descriptionLen=df['descriptionLen'].max()):\n",
        "  \n",
        "  predictFeatures = [tBathrooms, tBedrooms, tNumPerks]\n",
        "  model = LinearRegression()\n",
        "  \n",
        "  model.fit(train[myfeatures], train[target])\n",
        "  y_pred = model.predict([[tBathrooms, tBedrooms, tNumPerks, descriptionLen]])\n",
        "\n",
        "  return print(f\"The predicted price for this type of apartment is: ${y_pred[0]:.0f}\")\n"
      ],
      "execution_count": 0,
      "outputs": []
    },
    {
      "cell_type": "code",
      "metadata": {
        "id": "OV7WDhcdAiZ9",
        "colab_type": "code",
        "colab": {
          "base_uri": "https://localhost:8080/",
          "height": 34
        },
        "outputId": "8a639d47-607a-4c31-a465-eda2146d47f2"
      },
      "source": [
        "whatPrice(2,3,5,100)"
      ],
      "execution_count": 110,
      "outputs": [
        {
          "output_type": "stream",
          "text": [
            "The predicted price for this type of apartment is: $5710\n"
          ],
          "name": "stdout"
        }
      ]
    },
    {
      "cell_type": "code",
      "metadata": {
        "id": "6sbf7nVR-10O",
        "colab_type": "code",
        "colab": {}
      },
      "source": [
        "# importing the ipwidget.interact\n",
        "from  ipywidgets import interact"
      ],
      "execution_count": 0,
      "outputs": []
    },
    {
      "cell_type": "code",
      "metadata": {
        "id": "8zRu3RoP_FMr",
        "colab_type": "code",
        "colab": {
          "base_uri": "https://localhost:8080/",
          "height": 162,
          "referenced_widgets": [
            "38551caddcbe431bb5b85a47c0b430d3",
            "a612b5cde0b24b9e908f2de6dad7f2d2",
            "0e9c9ec260d446aa925a2e90d1ce4690",
            "529a1bc008de4816b786422a731ee700",
            "51d27b05495b40ef9bb02cc837b2172b",
            "05bb7ba16d094a70a58f312e2c265fb1",
            "9c740a0db4924664a76e542310cea06d",
            "32a30e1958d64b37a552c2fdf3de575f",
            "3fb6c6f9ecd14e2d89d7ecf8ef6f7bb5",
            "17abcae8fffc4456932c989f0fc2339f",
            "a41e31624ae144239603894d23f46cdc",
            "b600631210934e0da1210959fcf9aa08",
            "94fe76be6ada4c4bbfa5ffb9a9b10736",
            "75d1db4766fd4fe9a8c46337973feb8e",
            "68e47c3200ce4520a5866709c8a8f166"
          ]
        },
        "outputId": "33c65cc6-c54e-40d0-a048-4d668581f683"
      },
      "source": [
        "interact(whatPrice, tBathrooms=(0,5), tBedrooms=(0,10), tNumPerks=(0,8), descriptionLen=(0,df['descriptionLen'].max()));"
      ],
      "execution_count": 115,
      "outputs": [
        {
          "output_type": "display_data",
          "data": {
            "application/vnd.jupyter.widget-view+json": {
              "model_id": "38551caddcbe431bb5b85a47c0b430d3",
              "version_minor": 0,
              "version_major": 2
            },
            "text/plain": [
              "interactive(children=(IntSlider(value=2, description='tBathrooms', max=5), IntSlider(value=5, description='tBe…"
            ]
          },
          "metadata": {
            "tags": []
          }
        }
      ]
    }
  ]
}