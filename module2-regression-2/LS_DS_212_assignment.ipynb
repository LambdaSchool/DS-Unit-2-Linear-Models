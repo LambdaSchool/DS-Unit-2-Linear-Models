{
  "nbformat": 4,
  "nbformat_minor": 0,
  "metadata": {
    "kernelspec": {
      "display_name": "Python 3",
      "language": "python",
      "name": "python3"
    },
    "language_info": {
      "codemirror_mode": {
        "name": "ipython",
        "version": 3
      },
      "file_extension": ".py",
      "mimetype": "text/x-python",
      "name": "python",
      "nbconvert_exporter": "python",
      "pygments_lexer": "ipython3",
      "version": "3.7.3"
    },
    "colab": {
      "name": "jcs-LS_DS_212_assignment.ipynb",
      "provenance": [],
      "collapsed_sections": [],
      "include_colab_link": true
    }
  },
  "cells": [
    {
      "cell_type": "markdown",
      "metadata": {
        "id": "view-in-github",
        "colab_type": "text"
      },
      "source": [
        "<a href=\"https://colab.research.google.com/github/jcs-lambda/DS-Unit-2-Linear-Models/blob/master/module2-regression-2/LS_DS_212_assignment.ipynb\" target=\"_parent\"><img src=\"https://colab.research.google.com/assets/colab-badge.svg\" alt=\"Open In Colab\"/></a>"
      ]
    },
    {
      "cell_type": "markdown",
      "metadata": {
        "id": "33p2j70xircF",
        "colab_type": "text"
      },
      "source": [
        "Lambda School Data Science\n",
        "\n",
        "*Unit 2, Sprint 1, Module 2*\n",
        "\n",
        "---"
      ]
    },
    {
      "cell_type": "markdown",
      "metadata": {
        "colab_type": "text",
        "id": "7IXUfiQ2UKj6"
      },
      "source": [
        "# Regression 2\n",
        "\n",
        "## Assignment\n",
        "\n",
        "You'll continue to **predict how much it costs to rent an apartment in NYC,** using the dataset from renthop.com.\n",
        "\n",
        "- [ ] Do train/test split. Use data from April & May 2016 to train. Use data from June 2016 to test.\n",
        "- [ ] Engineer at least two new features. (See below for explanation & ideas.)\n",
        "- [ ] Fit a linear regression model with at least two features.\n",
        "- [ ] Get the model's coefficients and intercept.\n",
        "- [ ] Get regression metrics RMSE, MAE, and $R^2$, for both the train and test data.\n",
        "- [ ] What's the best test MAE you can get? Share your score and features used with your cohort on Slack!\n",
        "- [ ] As always, commit your notebook to your fork of the GitHub repo.\n",
        "\n",
        "\n",
        "#### [Feature Engineering](https://en.wikipedia.org/wiki/Feature_engineering)\n",
        "\n",
        "> \"Some machine learning projects succeed and some fail. What makes the difference? Easily the most important factor is the features used.\" — Pedro Domingos, [\"A Few Useful Things to Know about Machine Learning\"](https://homes.cs.washington.edu/~pedrod/papers/cacm12.pdf)\n",
        "\n",
        "> \"Coming up with features is difficult, time-consuming, requires expert knowledge. 'Applied machine learning' is basically feature engineering.\" — Andrew Ng, [Machine Learning and AI via Brain simulations](https://forum.stanford.edu/events/2011/2011slides/plenary/2011plenaryNg.pdf) \n",
        "\n",
        "> Feature engineering is the process of using domain knowledge of the data to create features that make machine learning algorithms work. \n",
        "\n",
        "#### Feature Ideas\n",
        "- Does the apartment have a description?\n",
        "- How long is the description?\n",
        "- How many total perks does each apartment have?\n",
        "- Are cats _or_ dogs allowed?\n",
        "- Are cats _and_ dogs allowed?\n",
        "- Total number of rooms (beds + baths)\n",
        "- Ratio of beds to baths\n",
        "- What's the neighborhood, based on address or latitude & longitude?\n",
        "\n",
        "## Stretch Goals\n",
        "- [ ] If you want more math, skim [_An Introduction to Statistical Learning_](http://faculty.marshall.usc.edu/gareth-james/ISL/ISLR%20Seventh%20Printing.pdf),  Chapter 3.1, Simple Linear Regression, & Chapter 3.2, Multiple Linear Regression\n",
        "- [ ] If you want more introduction, watch [Brandon Foltz, Statistics 101: Simple Linear Regression](https://www.youtube.com/watch?v=ZkjP5RJLQF4)\n",
        "(20 minutes, over 1 million views)\n",
        "- [ ] Add your own stretch goal(s) !"
      ]
    },
    {
      "cell_type": "code",
      "metadata": {
        "colab_type": "code",
        "id": "o9eSnDYhUGD7",
        "colab": {}
      },
      "source": [
        "%%capture\n",
        "import sys\n",
        "\n",
        "# If you're on Colab:\n",
        "if 'google.colab' in sys.modules:\n",
        "    DATA_PATH = 'https://raw.githubusercontent.com/LambdaSchool/DS-Unit-2-Applied-Modeling/master/data/'\n",
        "    !pip install -U category_encoders pandas-profiling\n",
        "\n",
        "# If you're working locally:\n",
        "else:\n",
        "    DATA_PATH = '../data/'\n",
        "    \n",
        "# Ignore this Numpy warning when using Plotly Express:\n",
        "# FutureWarning: Method .ptp is deprecated and will be removed in a future version. Use numpy.ptp instead.\n",
        "import warnings\n",
        "warnings.filterwarnings(action='ignore', category=FutureWarning, module='numpy')"
      ],
      "execution_count": 0,
      "outputs": []
    },
    {
      "cell_type": "code",
      "metadata": {
        "colab_type": "code",
        "id": "cvrw-T3bZOuW",
        "colab": {}
      },
      "source": [
        "import numpy as np\n",
        "import pandas as pd\n",
        "\n",
        "# Read New York City apartment rental listing data\n",
        "df = pd.read_csv(DATA_PATH+'apartments/renthop-nyc.csv')\n",
        "assert df.shape == (49352, 34)\n",
        "\n",
        "# Remove the most extreme 1% prices,\n",
        "# the most extreme .1% latitudes, &\n",
        "# the most extreme .1% longitudes\n",
        "df = df[(df['price'] >= np.percentile(df['price'], 0.5)) & \n",
        "        (df['price'] <= np.percentile(df['price'], 99.5)) & \n",
        "        (df['latitude'] >= np.percentile(df['latitude'], 0.05)) & \n",
        "        (df['latitude'] < np.percentile(df['latitude'], 99.95)) &\n",
        "        (df['longitude'] >= np.percentile(df['longitude'], 0.05)) & \n",
        "        (df['longitude'] <= np.percentile(df['longitude'], 99.95))]"
      ],
      "execution_count": 0,
      "outputs": []
    },
    {
      "cell_type": "markdown",
      "metadata": {
        "id": "R4I_1HrpjeYu",
        "colab_type": "text"
      },
      "source": [
        "# my work"
      ]
    },
    {
      "cell_type": "code",
      "metadata": {
        "id": "wcCXDCAakTVf",
        "colab_type": "code",
        "colab": {
          "base_uri": "https://localhost:8080/",
          "height": 1000
        },
        "outputId": "ccc55836-1788-4110-d52e-9b0efc089396"
      },
      "source": [
        "df"
      ],
      "execution_count": 3,
      "outputs": [
        {
          "output_type": "execute_result",
          "data": {
            "text/html": [
              "<div>\n",
              "<style scoped>\n",
              "    .dataframe tbody tr th:only-of-type {\n",
              "        vertical-align: middle;\n",
              "    }\n",
              "\n",
              "    .dataframe tbody tr th {\n",
              "        vertical-align: top;\n",
              "    }\n",
              "\n",
              "    .dataframe thead th {\n",
              "        text-align: right;\n",
              "    }\n",
              "</style>\n",
              "<table border=\"1\" class=\"dataframe\">\n",
              "  <thead>\n",
              "    <tr style=\"text-align: right;\">\n",
              "      <th></th>\n",
              "      <th>bathrooms</th>\n",
              "      <th>bedrooms</th>\n",
              "      <th>created</th>\n",
              "      <th>description</th>\n",
              "      <th>display_address</th>\n",
              "      <th>latitude</th>\n",
              "      <th>longitude</th>\n",
              "      <th>price</th>\n",
              "      <th>street_address</th>\n",
              "      <th>interest_level</th>\n",
              "      <th>elevator</th>\n",
              "      <th>cats_allowed</th>\n",
              "      <th>hardwood_floors</th>\n",
              "      <th>dogs_allowed</th>\n",
              "      <th>doorman</th>\n",
              "      <th>dishwasher</th>\n",
              "      <th>no_fee</th>\n",
              "      <th>laundry_in_building</th>\n",
              "      <th>fitness_center</th>\n",
              "      <th>pre-war</th>\n",
              "      <th>laundry_in_unit</th>\n",
              "      <th>roof_deck</th>\n",
              "      <th>outdoor_space</th>\n",
              "      <th>dining_room</th>\n",
              "      <th>high_speed_internet</th>\n",
              "      <th>balcony</th>\n",
              "      <th>swimming_pool</th>\n",
              "      <th>new_construction</th>\n",
              "      <th>terrace</th>\n",
              "      <th>exclusive</th>\n",
              "      <th>loft</th>\n",
              "      <th>garden_patio</th>\n",
              "      <th>wheelchair_access</th>\n",
              "      <th>common_outdoor_space</th>\n",
              "    </tr>\n",
              "  </thead>\n",
              "  <tbody>\n",
              "    <tr>\n",
              "      <th>0</th>\n",
              "      <td>1.5</td>\n",
              "      <td>3</td>\n",
              "      <td>2016-06-24 07:54:24</td>\n",
              "      <td>A Brand New 3 Bedroom 1.5 bath ApartmentEnjoy ...</td>\n",
              "      <td>Metropolitan Avenue</td>\n",
              "      <td>40.7145</td>\n",
              "      <td>-73.9425</td>\n",
              "      <td>3000</td>\n",
              "      <td>792 Metropolitan Avenue</td>\n",
              "      <td>medium</td>\n",
              "      <td>0</td>\n",
              "      <td>0</td>\n",
              "      <td>0</td>\n",
              "      <td>0</td>\n",
              "      <td>0</td>\n",
              "      <td>0</td>\n",
              "      <td>0</td>\n",
              "      <td>0</td>\n",
              "      <td>0</td>\n",
              "      <td>0</td>\n",
              "      <td>0</td>\n",
              "      <td>0</td>\n",
              "      <td>0</td>\n",
              "      <td>0</td>\n",
              "      <td>0</td>\n",
              "      <td>0</td>\n",
              "      <td>0</td>\n",
              "      <td>0</td>\n",
              "      <td>0</td>\n",
              "      <td>0</td>\n",
              "      <td>0</td>\n",
              "      <td>0</td>\n",
              "      <td>0</td>\n",
              "      <td>0</td>\n",
              "    </tr>\n",
              "    <tr>\n",
              "      <th>1</th>\n",
              "      <td>1.0</td>\n",
              "      <td>2</td>\n",
              "      <td>2016-06-12 12:19:27</td>\n",
              "      <td></td>\n",
              "      <td>Columbus Avenue</td>\n",
              "      <td>40.7947</td>\n",
              "      <td>-73.9667</td>\n",
              "      <td>5465</td>\n",
              "      <td>808 Columbus Avenue</td>\n",
              "      <td>low</td>\n",
              "      <td>1</td>\n",
              "      <td>1</td>\n",
              "      <td>0</td>\n",
              "      <td>1</td>\n",
              "      <td>1</td>\n",
              "      <td>0</td>\n",
              "      <td>0</td>\n",
              "      <td>0</td>\n",
              "      <td>1</td>\n",
              "      <td>0</td>\n",
              "      <td>0</td>\n",
              "      <td>0</td>\n",
              "      <td>0</td>\n",
              "      <td>0</td>\n",
              "      <td>0</td>\n",
              "      <td>0</td>\n",
              "      <td>0</td>\n",
              "      <td>0</td>\n",
              "      <td>0</td>\n",
              "      <td>0</td>\n",
              "      <td>0</td>\n",
              "      <td>0</td>\n",
              "      <td>0</td>\n",
              "      <td>0</td>\n",
              "    </tr>\n",
              "    <tr>\n",
              "      <th>2</th>\n",
              "      <td>1.0</td>\n",
              "      <td>1</td>\n",
              "      <td>2016-04-17 03:26:41</td>\n",
              "      <td>Top Top West Village location, beautiful Pre-w...</td>\n",
              "      <td>W 13 Street</td>\n",
              "      <td>40.7388</td>\n",
              "      <td>-74.0018</td>\n",
              "      <td>2850</td>\n",
              "      <td>241 W 13 Street</td>\n",
              "      <td>high</td>\n",
              "      <td>0</td>\n",
              "      <td>0</td>\n",
              "      <td>1</td>\n",
              "      <td>0</td>\n",
              "      <td>0</td>\n",
              "      <td>1</td>\n",
              "      <td>0</td>\n",
              "      <td>1</td>\n",
              "      <td>0</td>\n",
              "      <td>0</td>\n",
              "      <td>0</td>\n",
              "      <td>0</td>\n",
              "      <td>0</td>\n",
              "      <td>0</td>\n",
              "      <td>0</td>\n",
              "      <td>0</td>\n",
              "      <td>0</td>\n",
              "      <td>0</td>\n",
              "      <td>0</td>\n",
              "      <td>0</td>\n",
              "      <td>0</td>\n",
              "      <td>0</td>\n",
              "      <td>0</td>\n",
              "      <td>0</td>\n",
              "    </tr>\n",
              "    <tr>\n",
              "      <th>3</th>\n",
              "      <td>1.0</td>\n",
              "      <td>1</td>\n",
              "      <td>2016-04-18 02:22:02</td>\n",
              "      <td>Building Amenities - Garage - Garden - fitness...</td>\n",
              "      <td>East 49th Street</td>\n",
              "      <td>40.7539</td>\n",
              "      <td>-73.9677</td>\n",
              "      <td>3275</td>\n",
              "      <td>333 East 49th Street</td>\n",
              "      <td>low</td>\n",
              "      <td>0</td>\n",
              "      <td>0</td>\n",
              "      <td>1</td>\n",
              "      <td>0</td>\n",
              "      <td>0</td>\n",
              "      <td>0</td>\n",
              "      <td>1</td>\n",
              "      <td>0</td>\n",
              "      <td>0</td>\n",
              "      <td>0</td>\n",
              "      <td>0</td>\n",
              "      <td>0</td>\n",
              "      <td>0</td>\n",
              "      <td>0</td>\n",
              "      <td>0</td>\n",
              "      <td>0</td>\n",
              "      <td>0</td>\n",
              "      <td>0</td>\n",
              "      <td>0</td>\n",
              "      <td>0</td>\n",
              "      <td>0</td>\n",
              "      <td>0</td>\n",
              "      <td>0</td>\n",
              "      <td>0</td>\n",
              "    </tr>\n",
              "    <tr>\n",
              "      <th>4</th>\n",
              "      <td>1.0</td>\n",
              "      <td>4</td>\n",
              "      <td>2016-04-28 01:32:41</td>\n",
              "      <td>Beautifully renovated 3 bedroom flex 4 bedroom...</td>\n",
              "      <td>West 143rd Street</td>\n",
              "      <td>40.8241</td>\n",
              "      <td>-73.9493</td>\n",
              "      <td>3350</td>\n",
              "      <td>500 West 143rd Street</td>\n",
              "      <td>low</td>\n",
              "      <td>0</td>\n",
              "      <td>0</td>\n",
              "      <td>0</td>\n",
              "      <td>0</td>\n",
              "      <td>0</td>\n",
              "      <td>0</td>\n",
              "      <td>0</td>\n",
              "      <td>0</td>\n",
              "      <td>0</td>\n",
              "      <td>1</td>\n",
              "      <td>0</td>\n",
              "      <td>0</td>\n",
              "      <td>0</td>\n",
              "      <td>0</td>\n",
              "      <td>0</td>\n",
              "      <td>0</td>\n",
              "      <td>0</td>\n",
              "      <td>0</td>\n",
              "      <td>0</td>\n",
              "      <td>0</td>\n",
              "      <td>0</td>\n",
              "      <td>0</td>\n",
              "      <td>0</td>\n",
              "      <td>0</td>\n",
              "    </tr>\n",
              "    <tr>\n",
              "      <th>...</th>\n",
              "      <td>...</td>\n",
              "      <td>...</td>\n",
              "      <td>...</td>\n",
              "      <td>...</td>\n",
              "      <td>...</td>\n",
              "      <td>...</td>\n",
              "      <td>...</td>\n",
              "      <td>...</td>\n",
              "      <td>...</td>\n",
              "      <td>...</td>\n",
              "      <td>...</td>\n",
              "      <td>...</td>\n",
              "      <td>...</td>\n",
              "      <td>...</td>\n",
              "      <td>...</td>\n",
              "      <td>...</td>\n",
              "      <td>...</td>\n",
              "      <td>...</td>\n",
              "      <td>...</td>\n",
              "      <td>...</td>\n",
              "      <td>...</td>\n",
              "      <td>...</td>\n",
              "      <td>...</td>\n",
              "      <td>...</td>\n",
              "      <td>...</td>\n",
              "      <td>...</td>\n",
              "      <td>...</td>\n",
              "      <td>...</td>\n",
              "      <td>...</td>\n",
              "      <td>...</td>\n",
              "      <td>...</td>\n",
              "      <td>...</td>\n",
              "      <td>...</td>\n",
              "      <td>...</td>\n",
              "    </tr>\n",
              "    <tr>\n",
              "      <th>49347</th>\n",
              "      <td>1.0</td>\n",
              "      <td>2</td>\n",
              "      <td>2016-06-02 05:41:05</td>\n",
              "      <td>30TH/3RD, MASSIVE CONV 2BR IN LUXURY FULL SERV...</td>\n",
              "      <td>E 30 St</td>\n",
              "      <td>40.7426</td>\n",
              "      <td>-73.9790</td>\n",
              "      <td>3200</td>\n",
              "      <td>230 E 30 St</td>\n",
              "      <td>medium</td>\n",
              "      <td>1</td>\n",
              "      <td>0</td>\n",
              "      <td>1</td>\n",
              "      <td>0</td>\n",
              "      <td>0</td>\n",
              "      <td>1</td>\n",
              "      <td>1</td>\n",
              "      <td>0</td>\n",
              "      <td>0</td>\n",
              "      <td>0</td>\n",
              "      <td>1</td>\n",
              "      <td>0</td>\n",
              "      <td>0</td>\n",
              "      <td>0</td>\n",
              "      <td>0</td>\n",
              "      <td>0</td>\n",
              "      <td>0</td>\n",
              "      <td>0</td>\n",
              "      <td>0</td>\n",
              "      <td>0</td>\n",
              "      <td>0</td>\n",
              "      <td>0</td>\n",
              "      <td>0</td>\n",
              "      <td>0</td>\n",
              "    </tr>\n",
              "    <tr>\n",
              "      <th>49348</th>\n",
              "      <td>1.0</td>\n",
              "      <td>1</td>\n",
              "      <td>2016-04-04 18:22:34</td>\n",
              "      <td>HIGH END condo finishes, swimming pool, and ki...</td>\n",
              "      <td>Rector Pl</td>\n",
              "      <td>40.7102</td>\n",
              "      <td>-74.0163</td>\n",
              "      <td>3950</td>\n",
              "      <td>225 Rector Place</td>\n",
              "      <td>low</td>\n",
              "      <td>1</td>\n",
              "      <td>1</td>\n",
              "      <td>0</td>\n",
              "      <td>1</td>\n",
              "      <td>1</td>\n",
              "      <td>0</td>\n",
              "      <td>0</td>\n",
              "      <td>1</td>\n",
              "      <td>1</td>\n",
              "      <td>0</td>\n",
              "      <td>0</td>\n",
              "      <td>0</td>\n",
              "      <td>1</td>\n",
              "      <td>0</td>\n",
              "      <td>0</td>\n",
              "      <td>0</td>\n",
              "      <td>0</td>\n",
              "      <td>0</td>\n",
              "      <td>0</td>\n",
              "      <td>1</td>\n",
              "      <td>0</td>\n",
              "      <td>0</td>\n",
              "      <td>0</td>\n",
              "      <td>1</td>\n",
              "    </tr>\n",
              "    <tr>\n",
              "      <th>49349</th>\n",
              "      <td>1.0</td>\n",
              "      <td>1</td>\n",
              "      <td>2016-04-16 02:13:40</td>\n",
              "      <td>Large Renovated One Bedroom Apartment with Sta...</td>\n",
              "      <td>West 45th Street</td>\n",
              "      <td>40.7601</td>\n",
              "      <td>-73.9900</td>\n",
              "      <td>2595</td>\n",
              "      <td>341 West 45th Street</td>\n",
              "      <td>low</td>\n",
              "      <td>1</td>\n",
              "      <td>1</td>\n",
              "      <td>0</td>\n",
              "      <td>1</td>\n",
              "      <td>1</td>\n",
              "      <td>0</td>\n",
              "      <td>0</td>\n",
              "      <td>0</td>\n",
              "      <td>0</td>\n",
              "      <td>1</td>\n",
              "      <td>0</td>\n",
              "      <td>0</td>\n",
              "      <td>0</td>\n",
              "      <td>0</td>\n",
              "      <td>0</td>\n",
              "      <td>0</td>\n",
              "      <td>0</td>\n",
              "      <td>0</td>\n",
              "      <td>0</td>\n",
              "      <td>0</td>\n",
              "      <td>0</td>\n",
              "      <td>0</td>\n",
              "      <td>0</td>\n",
              "      <td>0</td>\n",
              "    </tr>\n",
              "    <tr>\n",
              "      <th>49350</th>\n",
              "      <td>1.0</td>\n",
              "      <td>0</td>\n",
              "      <td>2016-04-08 02:13:33</td>\n",
              "      <td>Stylishly sleek studio apartment with unsurpas...</td>\n",
              "      <td>Wall Street</td>\n",
              "      <td>40.7066</td>\n",
              "      <td>-74.0101</td>\n",
              "      <td>3350</td>\n",
              "      <td>37 Wall Street</td>\n",
              "      <td>low</td>\n",
              "      <td>1</td>\n",
              "      <td>1</td>\n",
              "      <td>0</td>\n",
              "      <td>1</td>\n",
              "      <td>1</td>\n",
              "      <td>0</td>\n",
              "      <td>0</td>\n",
              "      <td>0</td>\n",
              "      <td>0</td>\n",
              "      <td>1</td>\n",
              "      <td>0</td>\n",
              "      <td>0</td>\n",
              "      <td>0</td>\n",
              "      <td>0</td>\n",
              "      <td>0</td>\n",
              "      <td>0</td>\n",
              "      <td>0</td>\n",
              "      <td>0</td>\n",
              "      <td>0</td>\n",
              "      <td>0</td>\n",
              "      <td>0</td>\n",
              "      <td>0</td>\n",
              "      <td>0</td>\n",
              "      <td>0</td>\n",
              "    </tr>\n",
              "    <tr>\n",
              "      <th>49351</th>\n",
              "      <td>1.0</td>\n",
              "      <td>2</td>\n",
              "      <td>2016-04-12 02:48:07</td>\n",
              "      <td>Look no further!!!  This giant 2 bedroom apart...</td>\n",
              "      <td>Park Terrace East</td>\n",
              "      <td>40.8699</td>\n",
              "      <td>-73.9172</td>\n",
              "      <td>2200</td>\n",
              "      <td>30 Park Terrace East</td>\n",
              "      <td>low</td>\n",
              "      <td>0</td>\n",
              "      <td>0</td>\n",
              "      <td>1</td>\n",
              "      <td>0</td>\n",
              "      <td>0</td>\n",
              "      <td>0</td>\n",
              "      <td>0</td>\n",
              "      <td>0</td>\n",
              "      <td>0</td>\n",
              "      <td>0</td>\n",
              "      <td>0</td>\n",
              "      <td>0</td>\n",
              "      <td>0</td>\n",
              "      <td>0</td>\n",
              "      <td>0</td>\n",
              "      <td>0</td>\n",
              "      <td>0</td>\n",
              "      <td>0</td>\n",
              "      <td>0</td>\n",
              "      <td>0</td>\n",
              "      <td>0</td>\n",
              "      <td>0</td>\n",
              "      <td>0</td>\n",
              "      <td>0</td>\n",
              "    </tr>\n",
              "  </tbody>\n",
              "</table>\n",
              "<p>48817 rows × 34 columns</p>\n",
              "</div>"
            ],
            "text/plain": [
              "       bathrooms  bedrooms  ... wheelchair_access common_outdoor_space\n",
              "0            1.5         3  ...                 0                    0\n",
              "1            1.0         2  ...                 0                    0\n",
              "2            1.0         1  ...                 0                    0\n",
              "3            1.0         1  ...                 0                    0\n",
              "4            1.0         4  ...                 0                    0\n",
              "...          ...       ...  ...               ...                  ...\n",
              "49347        1.0         2  ...                 0                    0\n",
              "49348        1.0         1  ...                 0                    1\n",
              "49349        1.0         1  ...                 0                    0\n",
              "49350        1.0         0  ...                 0                    0\n",
              "49351        1.0         2  ...                 0                    0\n",
              "\n",
              "[48817 rows x 34 columns]"
            ]
          },
          "metadata": {
            "tags": []
          },
          "execution_count": 3
        }
      ]
    },
    {
      "cell_type": "code",
      "metadata": {
        "id": "_6jXbfrOkhFW",
        "colab_type": "code",
        "colab": {
          "base_uri": "https://localhost:8080/",
          "height": 592
        },
        "outputId": "a2eb26c3-69bd-486a-9129-4ede255ee4e8"
      },
      "source": [
        "df.dtypes"
      ],
      "execution_count": 4,
      "outputs": [
        {
          "output_type": "execute_result",
          "data": {
            "text/plain": [
              "bathrooms               float64\n",
              "bedrooms                  int64\n",
              "created                  object\n",
              "description              object\n",
              "display_address          object\n",
              "latitude                float64\n",
              "longitude               float64\n",
              "price                     int64\n",
              "street_address           object\n",
              "interest_level           object\n",
              "elevator                  int64\n",
              "cats_allowed              int64\n",
              "hardwood_floors           int64\n",
              "dogs_allowed              int64\n",
              "doorman                   int64\n",
              "dishwasher                int64\n",
              "no_fee                    int64\n",
              "laundry_in_building       int64\n",
              "fitness_center            int64\n",
              "pre-war                   int64\n",
              "laundry_in_unit           int64\n",
              "roof_deck                 int64\n",
              "outdoor_space             int64\n",
              "dining_room               int64\n",
              "high_speed_internet       int64\n",
              "balcony                   int64\n",
              "swimming_pool             int64\n",
              "new_construction          int64\n",
              "terrace                   int64\n",
              "exclusive                 int64\n",
              "loft                      int64\n",
              "garden_patio              int64\n",
              "wheelchair_access         int64\n",
              "common_outdoor_space      int64\n",
              "dtype: object"
            ]
          },
          "metadata": {
            "tags": []
          },
          "execution_count": 4
        }
      ]
    },
    {
      "cell_type": "code",
      "metadata": {
        "id": "4iJoM7AgkUwG",
        "colab_type": "code",
        "colab": {
          "base_uri": "https://localhost:8080/",
          "height": 311
        },
        "outputId": "4a373bfd-8ec7-40f4-8036-c464080776a7"
      },
      "source": [
        "df.describe()"
      ],
      "execution_count": 5,
      "outputs": [
        {
          "output_type": "execute_result",
          "data": {
            "text/html": [
              "<div>\n",
              "<style scoped>\n",
              "    .dataframe tbody tr th:only-of-type {\n",
              "        vertical-align: middle;\n",
              "    }\n",
              "\n",
              "    .dataframe tbody tr th {\n",
              "        vertical-align: top;\n",
              "    }\n",
              "\n",
              "    .dataframe thead th {\n",
              "        text-align: right;\n",
              "    }\n",
              "</style>\n",
              "<table border=\"1\" class=\"dataframe\">\n",
              "  <thead>\n",
              "    <tr style=\"text-align: right;\">\n",
              "      <th></th>\n",
              "      <th>bathrooms</th>\n",
              "      <th>bedrooms</th>\n",
              "      <th>latitude</th>\n",
              "      <th>longitude</th>\n",
              "      <th>price</th>\n",
              "      <th>elevator</th>\n",
              "      <th>cats_allowed</th>\n",
              "      <th>hardwood_floors</th>\n",
              "      <th>dogs_allowed</th>\n",
              "      <th>doorman</th>\n",
              "      <th>dishwasher</th>\n",
              "      <th>no_fee</th>\n",
              "      <th>laundry_in_building</th>\n",
              "      <th>fitness_center</th>\n",
              "      <th>pre-war</th>\n",
              "      <th>laundry_in_unit</th>\n",
              "      <th>roof_deck</th>\n",
              "      <th>outdoor_space</th>\n",
              "      <th>dining_room</th>\n",
              "      <th>high_speed_internet</th>\n",
              "      <th>balcony</th>\n",
              "      <th>swimming_pool</th>\n",
              "      <th>new_construction</th>\n",
              "      <th>terrace</th>\n",
              "      <th>exclusive</th>\n",
              "      <th>loft</th>\n",
              "      <th>garden_patio</th>\n",
              "      <th>wheelchair_access</th>\n",
              "      <th>common_outdoor_space</th>\n",
              "    </tr>\n",
              "  </thead>\n",
              "  <tbody>\n",
              "    <tr>\n",
              "      <th>count</th>\n",
              "      <td>48817.000000</td>\n",
              "      <td>48817.000000</td>\n",
              "      <td>48817.000000</td>\n",
              "      <td>48817.000000</td>\n",
              "      <td>48817.000000</td>\n",
              "      <td>48817.000000</td>\n",
              "      <td>48817.000000</td>\n",
              "      <td>48817.000000</td>\n",
              "      <td>48817.000000</td>\n",
              "      <td>48817.000000</td>\n",
              "      <td>48817.000000</td>\n",
              "      <td>48817.000000</td>\n",
              "      <td>48817.000000</td>\n",
              "      <td>48817.000000</td>\n",
              "      <td>48817.000000</td>\n",
              "      <td>48817.000000</td>\n",
              "      <td>48817.000000</td>\n",
              "      <td>48817.000000</td>\n",
              "      <td>48817.000000</td>\n",
              "      <td>48817.000000</td>\n",
              "      <td>48817.000000</td>\n",
              "      <td>48817.000000</td>\n",
              "      <td>48817.000000</td>\n",
              "      <td>48817.000000</td>\n",
              "      <td>48817.000000</td>\n",
              "      <td>48817.000000</td>\n",
              "      <td>48817.000000</td>\n",
              "      <td>48817.000000</td>\n",
              "      <td>48817.000000</td>\n",
              "    </tr>\n",
              "    <tr>\n",
              "      <th>mean</th>\n",
              "      <td>1.201794</td>\n",
              "      <td>1.537149</td>\n",
              "      <td>40.750760</td>\n",
              "      <td>-73.972760</td>\n",
              "      <td>3579.585247</td>\n",
              "      <td>0.524838</td>\n",
              "      <td>0.478276</td>\n",
              "      <td>0.478276</td>\n",
              "      <td>0.447631</td>\n",
              "      <td>0.424852</td>\n",
              "      <td>0.415081</td>\n",
              "      <td>0.367085</td>\n",
              "      <td>0.052769</td>\n",
              "      <td>0.268452</td>\n",
              "      <td>0.185653</td>\n",
              "      <td>0.175902</td>\n",
              "      <td>0.132761</td>\n",
              "      <td>0.138394</td>\n",
              "      <td>0.102833</td>\n",
              "      <td>0.087203</td>\n",
              "      <td>0.060471</td>\n",
              "      <td>0.055206</td>\n",
              "      <td>0.051908</td>\n",
              "      <td>0.046193</td>\n",
              "      <td>0.043305</td>\n",
              "      <td>0.042711</td>\n",
              "      <td>0.039331</td>\n",
              "      <td>0.027224</td>\n",
              "      <td>0.026241</td>\n",
              "    </tr>\n",
              "    <tr>\n",
              "      <th>std</th>\n",
              "      <td>0.470711</td>\n",
              "      <td>1.106087</td>\n",
              "      <td>0.038954</td>\n",
              "      <td>0.028883</td>\n",
              "      <td>1762.430772</td>\n",
              "      <td>0.499388</td>\n",
              "      <td>0.499533</td>\n",
              "      <td>0.499533</td>\n",
              "      <td>0.497255</td>\n",
              "      <td>0.494326</td>\n",
              "      <td>0.492741</td>\n",
              "      <td>0.482015</td>\n",
              "      <td>0.223573</td>\n",
              "      <td>0.443158</td>\n",
              "      <td>0.388830</td>\n",
              "      <td>0.380741</td>\n",
              "      <td>0.339320</td>\n",
              "      <td>0.345317</td>\n",
              "      <td>0.303744</td>\n",
              "      <td>0.282136</td>\n",
              "      <td>0.238359</td>\n",
              "      <td>0.228385</td>\n",
              "      <td>0.221844</td>\n",
              "      <td>0.209905</td>\n",
              "      <td>0.203544</td>\n",
              "      <td>0.202206</td>\n",
              "      <td>0.194382</td>\n",
              "      <td>0.162738</td>\n",
              "      <td>0.159852</td>\n",
              "    </tr>\n",
              "    <tr>\n",
              "      <th>min</th>\n",
              "      <td>0.000000</td>\n",
              "      <td>0.000000</td>\n",
              "      <td>40.575700</td>\n",
              "      <td>-74.087300</td>\n",
              "      <td>1375.000000</td>\n",
              "      <td>0.000000</td>\n",
              "      <td>0.000000</td>\n",
              "      <td>0.000000</td>\n",
              "      <td>0.000000</td>\n",
              "      <td>0.000000</td>\n",
              "      <td>0.000000</td>\n",
              "      <td>0.000000</td>\n",
              "      <td>0.000000</td>\n",
              "      <td>0.000000</td>\n",
              "      <td>0.000000</td>\n",
              "      <td>0.000000</td>\n",
              "      <td>0.000000</td>\n",
              "      <td>0.000000</td>\n",
              "      <td>0.000000</td>\n",
              "      <td>0.000000</td>\n",
              "      <td>0.000000</td>\n",
              "      <td>0.000000</td>\n",
              "      <td>0.000000</td>\n",
              "      <td>0.000000</td>\n",
              "      <td>0.000000</td>\n",
              "      <td>0.000000</td>\n",
              "      <td>0.000000</td>\n",
              "      <td>0.000000</td>\n",
              "      <td>0.000000</td>\n",
              "    </tr>\n",
              "    <tr>\n",
              "      <th>25%</th>\n",
              "      <td>1.000000</td>\n",
              "      <td>1.000000</td>\n",
              "      <td>40.728300</td>\n",
              "      <td>-73.991800</td>\n",
              "      <td>2500.000000</td>\n",
              "      <td>0.000000</td>\n",
              "      <td>0.000000</td>\n",
              "      <td>0.000000</td>\n",
              "      <td>0.000000</td>\n",
              "      <td>0.000000</td>\n",
              "      <td>0.000000</td>\n",
              "      <td>0.000000</td>\n",
              "      <td>0.000000</td>\n",
              "      <td>0.000000</td>\n",
              "      <td>0.000000</td>\n",
              "      <td>0.000000</td>\n",
              "      <td>0.000000</td>\n",
              "      <td>0.000000</td>\n",
              "      <td>0.000000</td>\n",
              "      <td>0.000000</td>\n",
              "      <td>0.000000</td>\n",
              "      <td>0.000000</td>\n",
              "      <td>0.000000</td>\n",
              "      <td>0.000000</td>\n",
              "      <td>0.000000</td>\n",
              "      <td>0.000000</td>\n",
              "      <td>0.000000</td>\n",
              "      <td>0.000000</td>\n",
              "      <td>0.000000</td>\n",
              "    </tr>\n",
              "    <tr>\n",
              "      <th>50%</th>\n",
              "      <td>1.000000</td>\n",
              "      <td>1.000000</td>\n",
              "      <td>40.751700</td>\n",
              "      <td>-73.978000</td>\n",
              "      <td>3150.000000</td>\n",
              "      <td>1.000000</td>\n",
              "      <td>0.000000</td>\n",
              "      <td>0.000000</td>\n",
              "      <td>0.000000</td>\n",
              "      <td>0.000000</td>\n",
              "      <td>0.000000</td>\n",
              "      <td>0.000000</td>\n",
              "      <td>0.000000</td>\n",
              "      <td>0.000000</td>\n",
              "      <td>0.000000</td>\n",
              "      <td>0.000000</td>\n",
              "      <td>0.000000</td>\n",
              "      <td>0.000000</td>\n",
              "      <td>0.000000</td>\n",
              "      <td>0.000000</td>\n",
              "      <td>0.000000</td>\n",
              "      <td>0.000000</td>\n",
              "      <td>0.000000</td>\n",
              "      <td>0.000000</td>\n",
              "      <td>0.000000</td>\n",
              "      <td>0.000000</td>\n",
              "      <td>0.000000</td>\n",
              "      <td>0.000000</td>\n",
              "      <td>0.000000</td>\n",
              "    </tr>\n",
              "    <tr>\n",
              "      <th>75%</th>\n",
              "      <td>1.000000</td>\n",
              "      <td>2.000000</td>\n",
              "      <td>40.774000</td>\n",
              "      <td>-73.955000</td>\n",
              "      <td>4095.000000</td>\n",
              "      <td>1.000000</td>\n",
              "      <td>1.000000</td>\n",
              "      <td>1.000000</td>\n",
              "      <td>1.000000</td>\n",
              "      <td>1.000000</td>\n",
              "      <td>1.000000</td>\n",
              "      <td>1.000000</td>\n",
              "      <td>0.000000</td>\n",
              "      <td>1.000000</td>\n",
              "      <td>0.000000</td>\n",
              "      <td>0.000000</td>\n",
              "      <td>0.000000</td>\n",
              "      <td>0.000000</td>\n",
              "      <td>0.000000</td>\n",
              "      <td>0.000000</td>\n",
              "      <td>0.000000</td>\n",
              "      <td>0.000000</td>\n",
              "      <td>0.000000</td>\n",
              "      <td>0.000000</td>\n",
              "      <td>0.000000</td>\n",
              "      <td>0.000000</td>\n",
              "      <td>0.000000</td>\n",
              "      <td>0.000000</td>\n",
              "      <td>0.000000</td>\n",
              "    </tr>\n",
              "    <tr>\n",
              "      <th>max</th>\n",
              "      <td>10.000000</td>\n",
              "      <td>8.000000</td>\n",
              "      <td>40.989400</td>\n",
              "      <td>-73.700100</td>\n",
              "      <td>15500.000000</td>\n",
              "      <td>1.000000</td>\n",
              "      <td>1.000000</td>\n",
              "      <td>1.000000</td>\n",
              "      <td>1.000000</td>\n",
              "      <td>1.000000</td>\n",
              "      <td>1.000000</td>\n",
              "      <td>1.000000</td>\n",
              "      <td>1.000000</td>\n",
              "      <td>1.000000</td>\n",
              "      <td>1.000000</td>\n",
              "      <td>1.000000</td>\n",
              "      <td>1.000000</td>\n",
              "      <td>1.000000</td>\n",
              "      <td>1.000000</td>\n",
              "      <td>1.000000</td>\n",
              "      <td>1.000000</td>\n",
              "      <td>1.000000</td>\n",
              "      <td>1.000000</td>\n",
              "      <td>1.000000</td>\n",
              "      <td>1.000000</td>\n",
              "      <td>1.000000</td>\n",
              "      <td>1.000000</td>\n",
              "      <td>1.000000</td>\n",
              "      <td>1.000000</td>\n",
              "    </tr>\n",
              "  </tbody>\n",
              "</table>\n",
              "</div>"
            ],
            "text/plain": [
              "          bathrooms      bedrooms  ...  wheelchair_access  common_outdoor_space\n",
              "count  48817.000000  48817.000000  ...       48817.000000          48817.000000\n",
              "mean       1.201794      1.537149  ...           0.027224              0.026241\n",
              "std        0.470711      1.106087  ...           0.162738              0.159852\n",
              "min        0.000000      0.000000  ...           0.000000              0.000000\n",
              "25%        1.000000      1.000000  ...           0.000000              0.000000\n",
              "50%        1.000000      1.000000  ...           0.000000              0.000000\n",
              "75%        1.000000      2.000000  ...           0.000000              0.000000\n",
              "max       10.000000      8.000000  ...           1.000000              1.000000\n",
              "\n",
              "[8 rows x 29 columns]"
            ]
          },
          "metadata": {
            "tags": []
          },
          "execution_count": 5
        }
      ]
    },
    {
      "cell_type": "code",
      "metadata": {
        "id": "MEcrUKRJkbue",
        "colab_type": "code",
        "colab": {
          "base_uri": "https://localhost:8080/",
          "height": 170
        },
        "outputId": "48bf2007-9918-4611-9c17-375bbc078216"
      },
      "source": [
        "df.describe(exclude='number')"
      ],
      "execution_count": 6,
      "outputs": [
        {
          "output_type": "execute_result",
          "data": {
            "text/html": [
              "<div>\n",
              "<style scoped>\n",
              "    .dataframe tbody tr th:only-of-type {\n",
              "        vertical-align: middle;\n",
              "    }\n",
              "\n",
              "    .dataframe tbody tr th {\n",
              "        vertical-align: top;\n",
              "    }\n",
              "\n",
              "    .dataframe thead th {\n",
              "        text-align: right;\n",
              "    }\n",
              "</style>\n",
              "<table border=\"1\" class=\"dataframe\">\n",
              "  <thead>\n",
              "    <tr style=\"text-align: right;\">\n",
              "      <th></th>\n",
              "      <th>created</th>\n",
              "      <th>description</th>\n",
              "      <th>display_address</th>\n",
              "      <th>street_address</th>\n",
              "      <th>interest_level</th>\n",
              "    </tr>\n",
              "  </thead>\n",
              "  <tbody>\n",
              "    <tr>\n",
              "      <th>count</th>\n",
              "      <td>48817</td>\n",
              "      <td>47392</td>\n",
              "      <td>48684</td>\n",
              "      <td>48807</td>\n",
              "      <td>48817</td>\n",
              "    </tr>\n",
              "    <tr>\n",
              "      <th>unique</th>\n",
              "      <td>48148</td>\n",
              "      <td>37853</td>\n",
              "      <td>8674</td>\n",
              "      <td>15135</td>\n",
              "      <td>3</td>\n",
              "    </tr>\n",
              "    <tr>\n",
              "      <th>top</th>\n",
              "      <td>2016-04-08 01:14:27</td>\n",
              "      <td></td>\n",
              "      <td>Broadway</td>\n",
              "      <td>3333 Broadway</td>\n",
              "      <td>low</td>\n",
              "    </tr>\n",
              "    <tr>\n",
              "      <th>freq</th>\n",
              "      <td>3</td>\n",
              "      <td>1627</td>\n",
              "      <td>435</td>\n",
              "      <td>174</td>\n",
              "      <td>33946</td>\n",
              "    </tr>\n",
              "  </tbody>\n",
              "</table>\n",
              "</div>"
            ],
            "text/plain": [
              "                    created description  ... street_address interest_level\n",
              "count                 48817       47392  ...          48807          48817\n",
              "unique                48148       37853  ...          15135              3\n",
              "top     2016-04-08 01:14:27              ...  3333 Broadway            low\n",
              "freq                      3        1627  ...            174          33946\n",
              "\n",
              "[4 rows x 5 columns]"
            ]
          },
          "metadata": {
            "tags": []
          },
          "execution_count": 6
        }
      ]
    },
    {
      "cell_type": "code",
      "metadata": {
        "id": "D4CGNyyNkXau",
        "colab_type": "code",
        "colab": {
          "base_uri": "https://localhost:8080/",
          "height": 592
        },
        "outputId": "e1550a7f-37bd-484a-9f7d-a6ff3113afce"
      },
      "source": [
        "df.isnull().sum()"
      ],
      "execution_count": 7,
      "outputs": [
        {
          "output_type": "execute_result",
          "data": {
            "text/plain": [
              "bathrooms                  0\n",
              "bedrooms                   0\n",
              "created                    0\n",
              "description             1425\n",
              "display_address          133\n",
              "latitude                   0\n",
              "longitude                  0\n",
              "price                      0\n",
              "street_address            10\n",
              "interest_level             0\n",
              "elevator                   0\n",
              "cats_allowed               0\n",
              "hardwood_floors            0\n",
              "dogs_allowed               0\n",
              "doorman                    0\n",
              "dishwasher                 0\n",
              "no_fee                     0\n",
              "laundry_in_building        0\n",
              "fitness_center             0\n",
              "pre-war                    0\n",
              "laundry_in_unit            0\n",
              "roof_deck                  0\n",
              "outdoor_space              0\n",
              "dining_room                0\n",
              "high_speed_internet        0\n",
              "balcony                    0\n",
              "swimming_pool              0\n",
              "new_construction           0\n",
              "terrace                    0\n",
              "exclusive                  0\n",
              "loft                       0\n",
              "garden_patio               0\n",
              "wheelchair_access          0\n",
              "common_outdoor_space       0\n",
              "dtype: int64"
            ]
          },
          "metadata": {
            "tags": []
          },
          "execution_count": 7
        }
      ]
    },
    {
      "cell_type": "markdown",
      "metadata": {
        "id": "oQ1-wqEDjgio",
        "colab_type": "text"
      },
      "source": [
        "## Do train/test split. Use data from April & May 2016 to train. Use data from June 2016 to test.\n"
      ]
    },
    {
      "cell_type": "code",
      "metadata": {
        "id": "c5WS5hFtl4mO",
        "colab_type": "code",
        "colab": {
          "base_uri": "https://localhost:8080/",
          "height": 131
        },
        "outputId": "aee28dc1-11b0-4a17-e933-7400ad6644ca"
      },
      "source": [
        "created = pd.to_datetime(df['created'], errors='coerce', infer_datetime_format=True)\n",
        "created.describe()"
      ],
      "execution_count": 8,
      "outputs": [
        {
          "output_type": "execute_result",
          "data": {
            "text/plain": [
              "count                   48817\n",
              "unique                  48148\n",
              "top       2016-05-14 01:11:03\n",
              "freq                        3\n",
              "first     2016-04-01 22:12:41\n",
              "last      2016-06-29 21:41:47\n",
              "Name: created, dtype: object"
            ]
          },
          "metadata": {
            "tags": []
          },
          "execution_count": 8
        }
      ]
    },
    {
      "cell_type": "code",
      "metadata": {
        "id": "E_rJ-Lm1mYgk",
        "colab_type": "code",
        "colab": {
          "base_uri": "https://localhost:8080/",
          "height": 32
        },
        "outputId": "9a50acec-3912-4da6-e5ae-69852bb9bb2f"
      },
      "source": [
        "created.isnull().sum()"
      ],
      "execution_count": 9,
      "outputs": [
        {
          "output_type": "execute_result",
          "data": {
            "text/plain": [
              "0"
            ]
          },
          "metadata": {
            "tags": []
          },
          "execution_count": 9
        }
      ]
    },
    {
      "cell_type": "code",
      "metadata": {
        "id": "H7Xtz_9emhIW",
        "colab_type": "code",
        "colab": {
          "base_uri": "https://localhost:8080/",
          "height": 49
        },
        "outputId": "5b5592a2-51e6-4c73-87b0-5bb8bf936ce4"
      },
      "source": [
        "created.dt.year.value_counts()"
      ],
      "execution_count": 10,
      "outputs": [
        {
          "output_type": "execute_result",
          "data": {
            "text/plain": [
              "2016    48817\n",
              "Name: created, dtype: int64"
            ]
          },
          "metadata": {
            "tags": []
          },
          "execution_count": 10
        }
      ]
    },
    {
      "cell_type": "code",
      "metadata": {
        "id": "YjlbITjgnOA1",
        "colab_type": "code",
        "colab": {
          "base_uri": "https://localhost:8080/",
          "height": 82
        },
        "outputId": "b12eb836-13f5-4f73-e4f2-225e67fe08d6"
      },
      "source": [
        "created.dt.month.value_counts()"
      ],
      "execution_count": 11,
      "outputs": [
        {
          "output_type": "execute_result",
          "data": {
            "text/plain": [
              "6    16973\n",
              "4    16217\n",
              "5    15627\n",
              "Name: created, dtype: int64"
            ]
          },
          "metadata": {
            "tags": []
          },
          "execution_count": 11
        }
      ]
    },
    {
      "cell_type": "code",
      "metadata": {
        "id": "1GYoaLd7mbb7",
        "colab_type": "code",
        "colab": {}
      },
      "source": [
        "df['created'] = created"
      ],
      "execution_count": 0,
      "outputs": []
    },
    {
      "cell_type": "code",
      "metadata": {
        "id": "c0tBPEpCj0Is",
        "colab_type": "code",
        "colab": {
          "base_uri": "https://localhost:8080/",
          "height": 32
        },
        "outputId": "dce4c8a8-1383-42d2-a364-0aeea8c4cbbe"
      },
      "source": [
        "df_train = df[df['created'].dt.month != 6].copy()\n",
        "df_test = df[df['created'].dt.month == 6].copy()\n",
        "df_train.shape, df_test.shape, df_train.shape[0] + df_test.shape[0] == df.shape[0]"
      ],
      "execution_count": 13,
      "outputs": [
        {
          "output_type": "execute_result",
          "data": {
            "text/plain": [
              "((31844, 34), (16973, 34), True)"
            ]
          },
          "metadata": {
            "tags": []
          },
          "execution_count": 13
        }
      ]
    },
    {
      "cell_type": "markdown",
      "metadata": {
        "id": "FEya7ky3jw7b",
        "colab_type": "text"
      },
      "source": [
        "## Engineer at least two new features. (See below for explanation & ideas.)\n"
      ]
    },
    {
      "cell_type": "markdown",
      "metadata": {
        "id": "NAuoQywCoGMV",
        "colab_type": "text"
      },
      "source": [
        "### Does the apartment have a description?"
      ]
    },
    {
      "cell_type": "code",
      "metadata": {
        "id": "XXBoonuqj5EN",
        "colab_type": "code",
        "colab": {
          "base_uri": "https://localhost:8080/",
          "height": 98
        },
        "outputId": "d382d048-7054-4528-cff5-56f38346ebd6"
      },
      "source": [
        "df['description'].describe()"
      ],
      "execution_count": 14,
      "outputs": [
        {
          "output_type": "execute_result",
          "data": {
            "text/plain": [
              "count        47392\n",
              "unique       37853\n",
              "top               \n",
              "freq          1627\n",
              "Name: description, dtype: object"
            ]
          },
          "metadata": {
            "tags": []
          },
          "execution_count": 14
        }
      ]
    },
    {
      "cell_type": "code",
      "metadata": {
        "id": "BdpKSO3Zoyy2",
        "colab_type": "code",
        "colab": {
          "base_uri": "https://localhost:8080/",
          "height": 32
        },
        "outputId": "9b5731b8-bb92-4533-963d-0d7557f69021"
      },
      "source": [
        "df['description'].isnull().sum()"
      ],
      "execution_count": 15,
      "outputs": [
        {
          "output_type": "execute_result",
          "data": {
            "text/plain": [
              "1425"
            ]
          },
          "metadata": {
            "tags": []
          },
          "execution_count": 15
        }
      ]
    },
    {
      "cell_type": "code",
      "metadata": {
        "id": "a7SkFyz8o2tb",
        "colab_type": "code",
        "colab": {
          "base_uri": "https://localhost:8080/",
          "height": 32
        },
        "outputId": "6d73dfe2-3b49-47d1-84c0-264a217efd54"
      },
      "source": [
        "(df['description'] == '').sum()"
      ],
      "execution_count": 16,
      "outputs": [
        {
          "output_type": "execute_result",
          "data": {
            "text/plain": [
              "0"
            ]
          },
          "metadata": {
            "tags": []
          },
          "execution_count": 16
        }
      ]
    },
    {
      "cell_type": "code",
      "metadata": {
        "id": "e1hnNsispEsi",
        "colab_type": "code",
        "colab": {
          "base_uri": "https://localhost:8080/",
          "height": 214
        },
        "outputId": "797ad030-87f0-49db-ed3c-a24cd36889e4"
      },
      "source": [
        "df['description']"
      ],
      "execution_count": 17,
      "outputs": [
        {
          "output_type": "execute_result",
          "data": {
            "text/plain": [
              "0        A Brand New 3 Bedroom 1.5 bath ApartmentEnjoy ...\n",
              "1                                                         \n",
              "2        Top Top West Village location, beautiful Pre-w...\n",
              "3        Building Amenities - Garage - Garden - fitness...\n",
              "4        Beautifully renovated 3 bedroom flex 4 bedroom...\n",
              "                               ...                        \n",
              "49347    30TH/3RD, MASSIVE CONV 2BR IN LUXURY FULL SERV...\n",
              "49348    HIGH END condo finishes, swimming pool, and ki...\n",
              "49349    Large Renovated One Bedroom Apartment with Sta...\n",
              "49350    Stylishly sleek studio apartment with unsurpas...\n",
              "49351    Look no further!!!  This giant 2 bedroom apart...\n",
              "Name: description, Length: 48817, dtype: object"
            ]
          },
          "metadata": {
            "tags": []
          },
          "execution_count": 17
        }
      ]
    },
    {
      "cell_type": "code",
      "metadata": {
        "id": "NYrR5BjBpI9f",
        "colab_type": "code",
        "colab": {
          "base_uri": "https://localhost:8080/",
          "height": 32
        },
        "outputId": "bb4b7407-efbf-469f-fb32-6787515c89d4"
      },
      "source": [
        "df['description'][1]"
      ],
      "execution_count": 18,
      "outputs": [
        {
          "output_type": "execute_result",
          "data": {
            "text/plain": [
              "'        '"
            ]
          },
          "metadata": {
            "tags": []
          },
          "execution_count": 18
        }
      ]
    },
    {
      "cell_type": "code",
      "metadata": {
        "id": "MSZPiFv0pQCl",
        "colab_type": "code",
        "colab": {}
      },
      "source": [
        "description = df['description']"
      ],
      "execution_count": 0,
      "outputs": []
    },
    {
      "cell_type": "code",
      "metadata": {
        "id": "h2_7Oq1jpayj",
        "colab_type": "code",
        "colab": {
          "base_uri": "https://localhost:8080/",
          "height": 32
        },
        "outputId": "f186fc46-7665-4454-d90a-2bf2bcbcc2b8"
      },
      "source": [
        "description = description.str.lstrip().str.rstrip()\n",
        "(description == '').sum()"
      ],
      "execution_count": 20,
      "outputs": [
        {
          "output_type": "execute_result",
          "data": {
            "text/plain": [
              "1863"
            ]
          },
          "metadata": {
            "tags": []
          },
          "execution_count": 20
        }
      ]
    },
    {
      "cell_type": "code",
      "metadata": {
        "id": "oli90Jc8qMo3",
        "colab_type": "code",
        "colab": {
          "base_uri": "https://localhost:8080/",
          "height": 32
        },
        "outputId": "3c7bd42e-f45e-4cfb-fe30-3f42504ed4b7"
      },
      "source": [
        "((description == '') | (description.isnull())).sum()"
      ],
      "execution_count": 21,
      "outputs": [
        {
          "output_type": "execute_result",
          "data": {
            "text/plain": [
              "3288"
            ]
          },
          "metadata": {
            "tags": []
          },
          "execution_count": 21
        }
      ]
    },
    {
      "cell_type": "code",
      "metadata": {
        "id": "62eB9iWTqhMC",
        "colab_type": "code",
        "colab": {
          "base_uri": "https://localhost:8080/",
          "height": 32
        },
        "outputId": "60e07189-d4c2-443d-8b96-022f81312cd2"
      },
      "source": [
        "1863 + 1425"
      ],
      "execution_count": 22,
      "outputs": [
        {
          "output_type": "execute_result",
          "data": {
            "text/plain": [
              "3288"
            ]
          },
          "metadata": {
            "tags": []
          },
          "execution_count": 22
        }
      ]
    },
    {
      "cell_type": "code",
      "metadata": {
        "id": "Pqmmos0Rqkcz",
        "colab_type": "code",
        "colab": {
          "base_uri": "https://localhost:8080/",
          "height": 32
        },
        "outputId": "74659a89-9ab9-4e9b-b7dc-efd18d04fc04"
      },
      "source": [
        "(description.fillna('') == '').sum()"
      ],
      "execution_count": 23,
      "outputs": [
        {
          "output_type": "execute_result",
          "data": {
            "text/plain": [
              "3288"
            ]
          },
          "metadata": {
            "tags": []
          },
          "execution_count": 23
        }
      ]
    },
    {
      "cell_type": "code",
      "metadata": {
        "id": "f5rrs4cVrVqe",
        "colab_type": "code",
        "colab": {
          "base_uri": "https://localhost:8080/",
          "height": 32
        },
        "outputId": "9ed899fe-01c8-419e-b099-816ffc596646"
      },
      "source": [
        "(description.fillna('') != '').sum()"
      ],
      "execution_count": 24,
      "outputs": [
        {
          "output_type": "execute_result",
          "data": {
            "text/plain": [
              "45529"
            ]
          },
          "metadata": {
            "tags": []
          },
          "execution_count": 24
        }
      ]
    },
    {
      "cell_type": "code",
      "metadata": {
        "id": "pPAj5r9Xrbid",
        "colab_type": "code",
        "colab": {
          "base_uri": "https://localhost:8080/",
          "height": 32
        },
        "outputId": "b3f4a3a9-5766-4368-8380-d3f9b12712a5"
      },
      "source": [
        "3288 + 45529, len(df)"
      ],
      "execution_count": 25,
      "outputs": [
        {
          "output_type": "execute_result",
          "data": {
            "text/plain": [
              "(48817, 48817)"
            ]
          },
          "metadata": {
            "tags": []
          },
          "execution_count": 25
        }
      ]
    },
    {
      "cell_type": "markdown",
      "metadata": {
        "id": "L-SsZqmUoMG0",
        "colab_type": "text"
      },
      "source": [
        "### How long is the description?"
      ]
    },
    {
      "cell_type": "code",
      "metadata": {
        "id": "0TdGoBjEoMlm",
        "colab_type": "code",
        "colab": {
          "base_uri": "https://localhost:8080/",
          "height": 214
        },
        "outputId": "56384141-a8b3-4634-8786-b0dfd0c9f7e3"
      },
      "source": [
        "description = df['description'].fillna('').str.lstrip().str.rstrip()\n",
        "description.str.len()"
      ],
      "execution_count": 26,
      "outputs": [
        {
          "output_type": "execute_result",
          "data": {
            "text/plain": [
              "0         587\n",
              "1           0\n",
              "2         690\n",
              "3         491\n",
              "4         478\n",
              "         ... \n",
              "49347     786\n",
              "49348    1125\n",
              "49349     670\n",
              "49350     734\n",
              "49351     798\n",
              "Name: description, Length: 48817, dtype: int64"
            ]
          },
          "metadata": {
            "tags": []
          },
          "execution_count": 26
        }
      ]
    },
    {
      "cell_type": "markdown",
      "metadata": {
        "id": "jpjQqRwFoM6m",
        "colab_type": "text"
      },
      "source": [
        "### How many total perks does each apartment have?"
      ]
    },
    {
      "cell_type": "code",
      "metadata": {
        "id": "8wQUBERaoNez",
        "colab_type": "code",
        "colab": {
          "base_uri": "https://localhost:8080/",
          "height": 448
        },
        "outputId": "e97b3c46-76f9-4317-b5d0-d4f2758ae819"
      },
      "source": [
        "perk_features = ['elevator', 'cats_allowed', 'hardwood_floors', 'dogs_allowed', 'doorman', 'dishwasher',\n",
        "                 'no_fee', 'laundry_in_building', 'fitness_center', 'pre-war', 'laundry_in_unit',\n",
        "                 'roof_deck', 'outdoor_space', 'dining_room', 'high_speed_internet', 'balcony',\n",
        "                 'swimming_pool', 'new_construction', 'terrace', 'exclusive', 'loft', 'garden_patio',\n",
        "                 'wheelchair_access', 'common_outdoor_space'\n",
        "                ]\n",
        "\n",
        "df[perk_features]"
      ],
      "execution_count": 27,
      "outputs": [
        {
          "output_type": "execute_result",
          "data": {
            "text/html": [
              "<div>\n",
              "<style scoped>\n",
              "    .dataframe tbody tr th:only-of-type {\n",
              "        vertical-align: middle;\n",
              "    }\n",
              "\n",
              "    .dataframe tbody tr th {\n",
              "        vertical-align: top;\n",
              "    }\n",
              "\n",
              "    .dataframe thead th {\n",
              "        text-align: right;\n",
              "    }\n",
              "</style>\n",
              "<table border=\"1\" class=\"dataframe\">\n",
              "  <thead>\n",
              "    <tr style=\"text-align: right;\">\n",
              "      <th></th>\n",
              "      <th>elevator</th>\n",
              "      <th>cats_allowed</th>\n",
              "      <th>hardwood_floors</th>\n",
              "      <th>dogs_allowed</th>\n",
              "      <th>doorman</th>\n",
              "      <th>dishwasher</th>\n",
              "      <th>no_fee</th>\n",
              "      <th>laundry_in_building</th>\n",
              "      <th>fitness_center</th>\n",
              "      <th>pre-war</th>\n",
              "      <th>laundry_in_unit</th>\n",
              "      <th>roof_deck</th>\n",
              "      <th>outdoor_space</th>\n",
              "      <th>dining_room</th>\n",
              "      <th>high_speed_internet</th>\n",
              "      <th>balcony</th>\n",
              "      <th>swimming_pool</th>\n",
              "      <th>new_construction</th>\n",
              "      <th>terrace</th>\n",
              "      <th>exclusive</th>\n",
              "      <th>loft</th>\n",
              "      <th>garden_patio</th>\n",
              "      <th>wheelchair_access</th>\n",
              "      <th>common_outdoor_space</th>\n",
              "    </tr>\n",
              "  </thead>\n",
              "  <tbody>\n",
              "    <tr>\n",
              "      <th>0</th>\n",
              "      <td>0</td>\n",
              "      <td>0</td>\n",
              "      <td>0</td>\n",
              "      <td>0</td>\n",
              "      <td>0</td>\n",
              "      <td>0</td>\n",
              "      <td>0</td>\n",
              "      <td>0</td>\n",
              "      <td>0</td>\n",
              "      <td>0</td>\n",
              "      <td>0</td>\n",
              "      <td>0</td>\n",
              "      <td>0</td>\n",
              "      <td>0</td>\n",
              "      <td>0</td>\n",
              "      <td>0</td>\n",
              "      <td>0</td>\n",
              "      <td>0</td>\n",
              "      <td>0</td>\n",
              "      <td>0</td>\n",
              "      <td>0</td>\n",
              "      <td>0</td>\n",
              "      <td>0</td>\n",
              "      <td>0</td>\n",
              "    </tr>\n",
              "    <tr>\n",
              "      <th>1</th>\n",
              "      <td>1</td>\n",
              "      <td>1</td>\n",
              "      <td>0</td>\n",
              "      <td>1</td>\n",
              "      <td>1</td>\n",
              "      <td>0</td>\n",
              "      <td>0</td>\n",
              "      <td>0</td>\n",
              "      <td>1</td>\n",
              "      <td>0</td>\n",
              "      <td>0</td>\n",
              "      <td>0</td>\n",
              "      <td>0</td>\n",
              "      <td>0</td>\n",
              "      <td>0</td>\n",
              "      <td>0</td>\n",
              "      <td>0</td>\n",
              "      <td>0</td>\n",
              "      <td>0</td>\n",
              "      <td>0</td>\n",
              "      <td>0</td>\n",
              "      <td>0</td>\n",
              "      <td>0</td>\n",
              "      <td>0</td>\n",
              "    </tr>\n",
              "    <tr>\n",
              "      <th>2</th>\n",
              "      <td>0</td>\n",
              "      <td>0</td>\n",
              "      <td>1</td>\n",
              "      <td>0</td>\n",
              "      <td>0</td>\n",
              "      <td>1</td>\n",
              "      <td>0</td>\n",
              "      <td>1</td>\n",
              "      <td>0</td>\n",
              "      <td>0</td>\n",
              "      <td>0</td>\n",
              "      <td>0</td>\n",
              "      <td>0</td>\n",
              "      <td>0</td>\n",
              "      <td>0</td>\n",
              "      <td>0</td>\n",
              "      <td>0</td>\n",
              "      <td>0</td>\n",
              "      <td>0</td>\n",
              "      <td>0</td>\n",
              "      <td>0</td>\n",
              "      <td>0</td>\n",
              "      <td>0</td>\n",
              "      <td>0</td>\n",
              "    </tr>\n",
              "    <tr>\n",
              "      <th>3</th>\n",
              "      <td>0</td>\n",
              "      <td>0</td>\n",
              "      <td>1</td>\n",
              "      <td>0</td>\n",
              "      <td>0</td>\n",
              "      <td>0</td>\n",
              "      <td>1</td>\n",
              "      <td>0</td>\n",
              "      <td>0</td>\n",
              "      <td>0</td>\n",
              "      <td>0</td>\n",
              "      <td>0</td>\n",
              "      <td>0</td>\n",
              "      <td>0</td>\n",
              "      <td>0</td>\n",
              "      <td>0</td>\n",
              "      <td>0</td>\n",
              "      <td>0</td>\n",
              "      <td>0</td>\n",
              "      <td>0</td>\n",
              "      <td>0</td>\n",
              "      <td>0</td>\n",
              "      <td>0</td>\n",
              "      <td>0</td>\n",
              "    </tr>\n",
              "    <tr>\n",
              "      <th>4</th>\n",
              "      <td>0</td>\n",
              "      <td>0</td>\n",
              "      <td>0</td>\n",
              "      <td>0</td>\n",
              "      <td>0</td>\n",
              "      <td>0</td>\n",
              "      <td>0</td>\n",
              "      <td>0</td>\n",
              "      <td>0</td>\n",
              "      <td>1</td>\n",
              "      <td>0</td>\n",
              "      <td>0</td>\n",
              "      <td>0</td>\n",
              "      <td>0</td>\n",
              "      <td>0</td>\n",
              "      <td>0</td>\n",
              "      <td>0</td>\n",
              "      <td>0</td>\n",
              "      <td>0</td>\n",
              "      <td>0</td>\n",
              "      <td>0</td>\n",
              "      <td>0</td>\n",
              "      <td>0</td>\n",
              "      <td>0</td>\n",
              "    </tr>\n",
              "    <tr>\n",
              "      <th>...</th>\n",
              "      <td>...</td>\n",
              "      <td>...</td>\n",
              "      <td>...</td>\n",
              "      <td>...</td>\n",
              "      <td>...</td>\n",
              "      <td>...</td>\n",
              "      <td>...</td>\n",
              "      <td>...</td>\n",
              "      <td>...</td>\n",
              "      <td>...</td>\n",
              "      <td>...</td>\n",
              "      <td>...</td>\n",
              "      <td>...</td>\n",
              "      <td>...</td>\n",
              "      <td>...</td>\n",
              "      <td>...</td>\n",
              "      <td>...</td>\n",
              "      <td>...</td>\n",
              "      <td>...</td>\n",
              "      <td>...</td>\n",
              "      <td>...</td>\n",
              "      <td>...</td>\n",
              "      <td>...</td>\n",
              "      <td>...</td>\n",
              "    </tr>\n",
              "    <tr>\n",
              "      <th>49347</th>\n",
              "      <td>1</td>\n",
              "      <td>0</td>\n",
              "      <td>1</td>\n",
              "      <td>0</td>\n",
              "      <td>0</td>\n",
              "      <td>1</td>\n",
              "      <td>1</td>\n",
              "      <td>0</td>\n",
              "      <td>0</td>\n",
              "      <td>0</td>\n",
              "      <td>1</td>\n",
              "      <td>0</td>\n",
              "      <td>0</td>\n",
              "      <td>0</td>\n",
              "      <td>0</td>\n",
              "      <td>0</td>\n",
              "      <td>0</td>\n",
              "      <td>0</td>\n",
              "      <td>0</td>\n",
              "      <td>0</td>\n",
              "      <td>0</td>\n",
              "      <td>0</td>\n",
              "      <td>0</td>\n",
              "      <td>0</td>\n",
              "    </tr>\n",
              "    <tr>\n",
              "      <th>49348</th>\n",
              "      <td>1</td>\n",
              "      <td>1</td>\n",
              "      <td>0</td>\n",
              "      <td>1</td>\n",
              "      <td>1</td>\n",
              "      <td>0</td>\n",
              "      <td>0</td>\n",
              "      <td>1</td>\n",
              "      <td>1</td>\n",
              "      <td>0</td>\n",
              "      <td>0</td>\n",
              "      <td>0</td>\n",
              "      <td>1</td>\n",
              "      <td>0</td>\n",
              "      <td>0</td>\n",
              "      <td>0</td>\n",
              "      <td>0</td>\n",
              "      <td>0</td>\n",
              "      <td>0</td>\n",
              "      <td>1</td>\n",
              "      <td>0</td>\n",
              "      <td>0</td>\n",
              "      <td>0</td>\n",
              "      <td>1</td>\n",
              "    </tr>\n",
              "    <tr>\n",
              "      <th>49349</th>\n",
              "      <td>1</td>\n",
              "      <td>1</td>\n",
              "      <td>0</td>\n",
              "      <td>1</td>\n",
              "      <td>1</td>\n",
              "      <td>0</td>\n",
              "      <td>0</td>\n",
              "      <td>0</td>\n",
              "      <td>0</td>\n",
              "      <td>1</td>\n",
              "      <td>0</td>\n",
              "      <td>0</td>\n",
              "      <td>0</td>\n",
              "      <td>0</td>\n",
              "      <td>0</td>\n",
              "      <td>0</td>\n",
              "      <td>0</td>\n",
              "      <td>0</td>\n",
              "      <td>0</td>\n",
              "      <td>0</td>\n",
              "      <td>0</td>\n",
              "      <td>0</td>\n",
              "      <td>0</td>\n",
              "      <td>0</td>\n",
              "    </tr>\n",
              "    <tr>\n",
              "      <th>49350</th>\n",
              "      <td>1</td>\n",
              "      <td>1</td>\n",
              "      <td>0</td>\n",
              "      <td>1</td>\n",
              "      <td>1</td>\n",
              "      <td>0</td>\n",
              "      <td>0</td>\n",
              "      <td>0</td>\n",
              "      <td>0</td>\n",
              "      <td>1</td>\n",
              "      <td>0</td>\n",
              "      <td>0</td>\n",
              "      <td>0</td>\n",
              "      <td>0</td>\n",
              "      <td>0</td>\n",
              "      <td>0</td>\n",
              "      <td>0</td>\n",
              "      <td>0</td>\n",
              "      <td>0</td>\n",
              "      <td>0</td>\n",
              "      <td>0</td>\n",
              "      <td>0</td>\n",
              "      <td>0</td>\n",
              "      <td>0</td>\n",
              "    </tr>\n",
              "    <tr>\n",
              "      <th>49351</th>\n",
              "      <td>0</td>\n",
              "      <td>0</td>\n",
              "      <td>1</td>\n",
              "      <td>0</td>\n",
              "      <td>0</td>\n",
              "      <td>0</td>\n",
              "      <td>0</td>\n",
              "      <td>0</td>\n",
              "      <td>0</td>\n",
              "      <td>0</td>\n",
              "      <td>0</td>\n",
              "      <td>0</td>\n",
              "      <td>0</td>\n",
              "      <td>0</td>\n",
              "      <td>0</td>\n",
              "      <td>0</td>\n",
              "      <td>0</td>\n",
              "      <td>0</td>\n",
              "      <td>0</td>\n",
              "      <td>0</td>\n",
              "      <td>0</td>\n",
              "      <td>0</td>\n",
              "      <td>0</td>\n",
              "      <td>0</td>\n",
              "    </tr>\n",
              "  </tbody>\n",
              "</table>\n",
              "<p>48817 rows × 24 columns</p>\n",
              "</div>"
            ],
            "text/plain": [
              "       elevator  cats_allowed  ...  wheelchair_access  common_outdoor_space\n",
              "0             0             0  ...                  0                     0\n",
              "1             1             1  ...                  0                     0\n",
              "2             0             0  ...                  0                     0\n",
              "3             0             0  ...                  0                     0\n",
              "4             0             0  ...                  0                     0\n",
              "...         ...           ...  ...                ...                   ...\n",
              "49347         1             0  ...                  0                     0\n",
              "49348         1             1  ...                  0                     1\n",
              "49349         1             1  ...                  0                     0\n",
              "49350         1             1  ...                  0                     0\n",
              "49351         0             0  ...                  0                     0\n",
              "\n",
              "[48817 rows x 24 columns]"
            ]
          },
          "metadata": {
            "tags": []
          },
          "execution_count": 27
        }
      ]
    },
    {
      "cell_type": "code",
      "metadata": {
        "id": "Hrai1nBnuTcf",
        "colab_type": "code",
        "colab": {
          "base_uri": "https://localhost:8080/",
          "height": 32
        },
        "outputId": "c36cbe37-bce1-4df5-aade-efb96041f533"
      },
      "source": [
        "df[perk_features].isnull().any().any()"
      ],
      "execution_count": 28,
      "outputs": [
        {
          "output_type": "execute_result",
          "data": {
            "text/plain": [
              "False"
            ]
          },
          "metadata": {
            "tags": []
          },
          "execution_count": 28
        }
      ]
    },
    {
      "cell_type": "code",
      "metadata": {
        "id": "6tNFNffMuwXT",
        "colab_type": "code",
        "colab": {
          "base_uri": "https://localhost:8080/",
          "height": 214
        },
        "outputId": "09944e3d-253d-48f5-f1d0-35f94451ee59"
      },
      "source": [
        "df[perk_features].sum(axis=1)"
      ],
      "execution_count": 29,
      "outputs": [
        {
          "output_type": "execute_result",
          "data": {
            "text/plain": [
              "0        0\n",
              "1        5\n",
              "2        3\n",
              "3        2\n",
              "4        1\n",
              "        ..\n",
              "49347    5\n",
              "49348    9\n",
              "49349    5\n",
              "49350    5\n",
              "49351    1\n",
              "Length: 48817, dtype: int64"
            ]
          },
          "metadata": {
            "tags": []
          },
          "execution_count": 29
        }
      ]
    },
    {
      "cell_type": "markdown",
      "metadata": {
        "id": "kcmlbzvloODA",
        "colab_type": "text"
      },
      "source": [
        "### Are cats or dogs allowed?"
      ]
    },
    {
      "cell_type": "code",
      "metadata": {
        "id": "z6pwO1wFoOeb",
        "colab_type": "code",
        "colab": {
          "base_uri": "https://localhost:8080/",
          "height": 32
        },
        "outputId": "d823ae0f-ab82-4c81-fa7e-45b9880da7b6"
      },
      "source": [
        "pets_features = df.columns[(df.columns.str.contains('cat') | (df.columns.str.contains('dog')))].to_list()\n",
        "pets_features"
      ],
      "execution_count": 30,
      "outputs": [
        {
          "output_type": "execute_result",
          "data": {
            "text/plain": [
              "['cats_allowed', 'dogs_allowed']"
            ]
          },
          "metadata": {
            "tags": []
          },
          "execution_count": 30
        }
      ]
    },
    {
      "cell_type": "code",
      "metadata": {
        "id": "TyP194wlwdrl",
        "colab_type": "code",
        "colab": {
          "base_uri": "https://localhost:8080/",
          "height": 82
        },
        "outputId": "b23b134b-fd93-440d-ac31-5841746ceb27"
      },
      "source": [
        "df[pets_features].sum(axis=1).value_counts()"
      ],
      "execution_count": 31,
      "outputs": [
        {
          "output_type": "execute_result",
          "data": {
            "text/plain": [
              "0    25433\n",
              "2    21816\n",
              "1     1568\n",
              "dtype: int64"
            ]
          },
          "metadata": {
            "tags": []
          },
          "execution_count": 31
        }
      ]
    },
    {
      "cell_type": "code",
      "metadata": {
        "id": "SLtmr9_swzn5",
        "colab_type": "code",
        "colab": {
          "base_uri": "https://localhost:8080/",
          "height": 214
        },
        "outputId": "a730103b-026b-4e5e-ed28-658d61899899"
      },
      "source": [
        "df[pets_features].sum(axis=1) > 0"
      ],
      "execution_count": 32,
      "outputs": [
        {
          "output_type": "execute_result",
          "data": {
            "text/plain": [
              "0        False\n",
              "1         True\n",
              "2        False\n",
              "3        False\n",
              "4        False\n",
              "         ...  \n",
              "49347    False\n",
              "49348     True\n",
              "49349     True\n",
              "49350     True\n",
              "49351    False\n",
              "Length: 48817, dtype: bool"
            ]
          },
          "metadata": {
            "tags": []
          },
          "execution_count": 32
        }
      ]
    },
    {
      "cell_type": "code",
      "metadata": {
        "id": "aVLtqwF4w-TT",
        "colab_type": "code",
        "colab": {
          "base_uri": "https://localhost:8080/",
          "height": 32
        },
        "outputId": "c5ababdd-af2a-4fc8-8eb5-dbbd92869d13"
      },
      "source": [
        "(df[pets_features].sum(axis=1) > 0).sum()"
      ],
      "execution_count": 33,
      "outputs": [
        {
          "output_type": "execute_result",
          "data": {
            "text/plain": [
              "23384"
            ]
          },
          "metadata": {
            "tags": []
          },
          "execution_count": 33
        }
      ]
    },
    {
      "cell_type": "code",
      "metadata": {
        "id": "VyKj87flxAdj",
        "colab_type": "code",
        "colab": {
          "base_uri": "https://localhost:8080/",
          "height": 32
        },
        "outputId": "5445e6d6-9af3-444a-ea89-3017b5311741"
      },
      "source": [
        "23384 + 25433 == len(df)"
      ],
      "execution_count": 34,
      "outputs": [
        {
          "output_type": "execute_result",
          "data": {
            "text/plain": [
              "True"
            ]
          },
          "metadata": {
            "tags": []
          },
          "execution_count": 34
        }
      ]
    },
    {
      "cell_type": "markdown",
      "metadata": {
        "id": "6SkcJJZOoO2k",
        "colab_type": "text"
      },
      "source": [
        "### Are cats and dogs allowed?"
      ]
    },
    {
      "cell_type": "code",
      "metadata": {
        "id": "LLdDkg8doPfc",
        "colab_type": "code",
        "colab": {
          "base_uri": "https://localhost:8080/",
          "height": 214
        },
        "outputId": "e75d92ae-6cd4-4b4f-9935-ccf49b9d7de8"
      },
      "source": [
        "df[pets_features].sum(axis=1) == 2"
      ],
      "execution_count": 35,
      "outputs": [
        {
          "output_type": "execute_result",
          "data": {
            "text/plain": [
              "0        False\n",
              "1         True\n",
              "2        False\n",
              "3        False\n",
              "4        False\n",
              "         ...  \n",
              "49347    False\n",
              "49348     True\n",
              "49349     True\n",
              "49350     True\n",
              "49351    False\n",
              "Length: 48817, dtype: bool"
            ]
          },
          "metadata": {
            "tags": []
          },
          "execution_count": 35
        }
      ]
    },
    {
      "cell_type": "code",
      "metadata": {
        "id": "dahttdCMx2h2",
        "colab_type": "code",
        "colab": {
          "base_uri": "https://localhost:8080/",
          "height": 32
        },
        "outputId": "d182ab0f-7c1d-43ee-ee76-d4d0b5907562"
      },
      "source": [
        "(df[pets_features].sum(axis=1) == 2).sum()"
      ],
      "execution_count": 36,
      "outputs": [
        {
          "output_type": "execute_result",
          "data": {
            "text/plain": [
              "21816"
            ]
          },
          "metadata": {
            "tags": []
          },
          "execution_count": 36
        }
      ]
    },
    {
      "cell_type": "markdown",
      "metadata": {
        "id": "1aFD0VcNogu8",
        "colab_type": "text"
      },
      "source": [
        "### Total number of rooms (beds + baths)"
      ]
    },
    {
      "cell_type": "code",
      "metadata": {
        "id": "6C0zpuxmokCp",
        "colab_type": "code",
        "colab": {
          "base_uri": "https://localhost:8080/",
          "height": 65
        },
        "outputId": "ea42a8a3-5dac-481d-b1a1-b1fc44509ba3"
      },
      "source": [
        "rooms_features = ['bedrooms', 'bathrooms']\n",
        "df[rooms_features].isnull().sum()"
      ],
      "execution_count": 37,
      "outputs": [
        {
          "output_type": "execute_result",
          "data": {
            "text/plain": [
              "bedrooms     0\n",
              "bathrooms    0\n",
              "dtype: int64"
            ]
          },
          "metadata": {
            "tags": []
          },
          "execution_count": 37
        }
      ]
    },
    {
      "cell_type": "code",
      "metadata": {
        "id": "FZhgz-QwyPca",
        "colab_type": "code",
        "colab": {
          "base_uri": "https://localhost:8080/",
          "height": 65
        },
        "outputId": "a88603d2-6ca7-420c-ddf5-c275785aec61"
      },
      "source": [
        "df[rooms_features].dtypes"
      ],
      "execution_count": 38,
      "outputs": [
        {
          "output_type": "execute_result",
          "data": {
            "text/plain": [
              "bedrooms       int64\n",
              "bathrooms    float64\n",
              "dtype: object"
            ]
          },
          "metadata": {
            "tags": []
          },
          "execution_count": 38
        }
      ]
    },
    {
      "cell_type": "code",
      "metadata": {
        "id": "lO0ieoY4yZtF",
        "colab_type": "code",
        "colab": {
          "base_uri": "https://localhost:8080/",
          "height": 214
        },
        "outputId": "7307da74-5f71-4adb-920d-b83777ffdf6c"
      },
      "source": [
        "df[rooms_features].sum(axis=1)"
      ],
      "execution_count": 39,
      "outputs": [
        {
          "output_type": "execute_result",
          "data": {
            "text/plain": [
              "0        4.5\n",
              "1        3.0\n",
              "2        2.0\n",
              "3        2.0\n",
              "4        5.0\n",
              "        ... \n",
              "49347    3.0\n",
              "49348    2.0\n",
              "49349    2.0\n",
              "49350    1.0\n",
              "49351    3.0\n",
              "Length: 48817, dtype: float64"
            ]
          },
          "metadata": {
            "tags": []
          },
          "execution_count": 39
        }
      ]
    },
    {
      "cell_type": "markdown",
      "metadata": {
        "id": "KetU-FcQokeN",
        "colab_type": "text"
      },
      "source": [
        "### Ratio of beds to baths"
      ]
    },
    {
      "cell_type": "code",
      "metadata": {
        "id": "z50kkVRsooz8",
        "colab_type": "code",
        "colab": {
          "base_uri": "https://localhost:8080/",
          "height": 32
        },
        "outputId": "985cb80d-2344-4175-dd89-09147d8df0f9"
      },
      "source": [
        "bedrooms = df['bedrooms']\n",
        "bathrooms = df['bathrooms']\n",
        "(bedrooms == 0).sum(), (bathrooms == 0.0).sum()"
      ],
      "execution_count": 40,
      "outputs": [
        {
          "output_type": "execute_result",
          "data": {
            "text/plain": [
              "(9317, 304)"
            ]
          },
          "metadata": {
            "tags": []
          },
          "execution_count": 40
        }
      ]
    },
    {
      "cell_type": "code",
      "metadata": {
        "id": "5sSM_wXlzS32",
        "colab_type": "code",
        "colab": {
          "base_uri": "https://localhost:8080/",
          "height": 32
        },
        "outputId": "a8b46cdd-fea6-4b71-8a7a-8a53f81b9382"
      },
      "source": [
        "bed_bath_ratio = bedrooms / bathrooms\n",
        "bed_bath_ratio.isnull().sum()"
      ],
      "execution_count": 41,
      "outputs": [
        {
          "output_type": "execute_result",
          "data": {
            "text/plain": [
              "151"
            ]
          },
          "metadata": {
            "tags": []
          },
          "execution_count": 41
        }
      ]
    },
    {
      "cell_type": "code",
      "metadata": {
        "id": "otbcvrLZz88Z",
        "colab_type": "code",
        "colab": {
          "base_uri": "https://localhost:8080/",
          "height": 214
        },
        "outputId": "9235ad87-41a6-4db1-e65a-144b72452737"
      },
      "source": [
        "bed_bath_ratio"
      ],
      "execution_count": 42,
      "outputs": [
        {
          "output_type": "execute_result",
          "data": {
            "text/plain": [
              "0        2.0\n",
              "1        2.0\n",
              "2        1.0\n",
              "3        1.0\n",
              "4        4.0\n",
              "        ... \n",
              "49347    2.0\n",
              "49348    1.0\n",
              "49349    1.0\n",
              "49350    0.0\n",
              "49351    2.0\n",
              "Length: 48817, dtype: float64"
            ]
          },
          "metadata": {
            "tags": []
          },
          "execution_count": 42
        }
      ]
    },
    {
      "cell_type": "code",
      "metadata": {
        "id": "pMOzBJEv09uJ",
        "colab_type": "code",
        "colab": {
          "base_uri": "https://localhost:8080/",
          "height": 32
        },
        "outputId": "beebb422-b36d-4109-dc4f-bf8863637c7c"
      },
      "source": [
        "bed_bath_ratio.sum()"
      ],
      "execution_count": 43,
      "outputs": [
        {
          "output_type": "execute_result",
          "data": {
            "text/plain": [
              "inf"
            ]
          },
          "metadata": {
            "tags": []
          },
          "execution_count": 43
        }
      ]
    },
    {
      "cell_type": "code",
      "metadata": {
        "id": "9h0U-RZHz-cV",
        "colab_type": "code",
        "colab": {
          "base_uri": "https://localhost:8080/",
          "height": 560
        },
        "outputId": "bf74ef83-252d-4364-bc97-71b166281f09"
      },
      "source": [
        "bed_bath_ratio.fillna(0.0).value_counts()"
      ],
      "execution_count": 44,
      "outputs": [
        {
          "output_type": "execute_result",
          "data": {
            "text/plain": [
              "1.000000    19014\n",
              "2.000000    12240\n",
              "0.000000     9317\n",
              "3.000000     3603\n",
              "1.500000     2772\n",
              "4.000000      366\n",
              "1.333333      343\n",
              "0.500000      206\n",
              "0.666667      188\n",
              "inf           153\n",
              "2.500000      129\n",
              "1.200000      128\n",
              "0.800000       83\n",
              "2.666667       61\n",
              "1.600000       38\n",
              "1.666667       35\n",
              "1.250000       31\n",
              "1.142857       27\n",
              "0.857143       24\n",
              "0.333333       14\n",
              "0.750000       12\n",
              "5.000000       10\n",
              "0.888889        7\n",
              "3.333333        5\n",
              "1.428571        3\n",
              "0.400000        2\n",
              "2.400000        1\n",
              "0.222222        1\n",
              "6.000000        1\n",
              "0.200000        1\n",
              "2.333333        1\n",
              "0.571429        1\n",
              "dtype: int64"
            ]
          },
          "metadata": {
            "tags": []
          },
          "execution_count": 44
        }
      ]
    },
    {
      "cell_type": "code",
      "metadata": {
        "id": "qzKA5PQt2ss1",
        "colab_type": "code",
        "colab": {
          "base_uri": "https://localhost:8080/",
          "height": 32
        },
        "outputId": "e237414f-bdda-427b-d80d-1cc7a09ed5fc"
      },
      "source": [
        "(bed_bath_ratio == np.inf).sum()"
      ],
      "execution_count": 45,
      "outputs": [
        {
          "output_type": "execute_result",
          "data": {
            "text/plain": [
              "153"
            ]
          },
          "metadata": {
            "tags": []
          },
          "execution_count": 45
        }
      ]
    },
    {
      "cell_type": "code",
      "metadata": {
        "id": "gAZvEpit2sgV",
        "colab_type": "code",
        "colab": {}
      },
      "source": [
        "bed_bath_ratio.replace(np.inf, 0.0, inplace=True)"
      ],
      "execution_count": 0,
      "outputs": []
    },
    {
      "cell_type": "code",
      "metadata": {
        "id": "taW1kWwk234z",
        "colab_type": "code",
        "colab": {
          "base_uri": "https://localhost:8080/",
          "height": 32
        },
        "outputId": "5ec3faa0-44f1-4184-fa42-0137954d92da"
      },
      "source": [
        "bed_bath_ratio.sum()"
      ],
      "execution_count": 47,
      "outputs": [
        {
          "output_type": "execute_result",
          "data": {
            "text/plain": [
              "61628.513492063496"
            ]
          },
          "metadata": {
            "tags": []
          },
          "execution_count": 47
        }
      ]
    },
    {
      "cell_type": "code",
      "metadata": {
        "id": "HHm7bQZ_29ly",
        "colab_type": "code",
        "colab": {
          "base_uri": "https://localhost:8080/",
          "height": 32
        },
        "outputId": "79d4afea-09ff-4a84-d1b2-305c98e8bfd7"
      },
      "source": [
        "bed_bath_ratio.mean()"
      ],
      "execution_count": 48,
      "outputs": [
        {
          "output_type": "execute_result",
          "data": {
            "text/plain": [
              "1.266356665681656"
            ]
          },
          "metadata": {
            "tags": []
          },
          "execution_count": 48
        }
      ]
    },
    {
      "cell_type": "code",
      "metadata": {
        "id": "lxzqOQO63Ok6",
        "colab_type": "code",
        "colab": {
          "base_uri": "https://localhost:8080/",
          "height": 32
        },
        "outputId": "53f16601-b068-45ad-fb1d-33dedd7fae03"
      },
      "source": [
        "(bed_bath_ratio == np.nan).sum()"
      ],
      "execution_count": 49,
      "outputs": [
        {
          "output_type": "execute_result",
          "data": {
            "text/plain": [
              "0"
            ]
          },
          "metadata": {
            "tags": []
          },
          "execution_count": 49
        }
      ]
    },
    {
      "cell_type": "code",
      "metadata": {
        "id": "sXs6viYe3Uov",
        "colab_type": "code",
        "colab": {
          "base_uri": "https://localhost:8080/",
          "height": 32
        },
        "outputId": "60a94de1-4458-4109-8f32-a1f4ffb8466f"
      },
      "source": [
        "bed_bath_ratio.isnull().sum()"
      ],
      "execution_count": 50,
      "outputs": [
        {
          "output_type": "execute_result",
          "data": {
            "text/plain": [
              "151"
            ]
          },
          "metadata": {
            "tags": []
          },
          "execution_count": 50
        }
      ]
    },
    {
      "cell_type": "code",
      "metadata": {
        "id": "UQu03SBy32Op",
        "colab_type": "code",
        "colab": {
          "base_uri": "https://localhost:8080/",
          "height": 543
        },
        "outputId": "e304e3cc-33b2-4e4f-f22f-956d645f40fb"
      },
      "source": [
        "(df['bedrooms'] / df['bathrooms']).fillna(0.0).replace(np.inf, 0.0).value_counts()"
      ],
      "execution_count": 51,
      "outputs": [
        {
          "output_type": "execute_result",
          "data": {
            "text/plain": [
              "1.000000    19014\n",
              "2.000000    12240\n",
              "0.000000     9470\n",
              "3.000000     3603\n",
              "1.500000     2772\n",
              "4.000000      366\n",
              "1.333333      343\n",
              "0.500000      206\n",
              "0.666667      188\n",
              "2.500000      129\n",
              "1.200000      128\n",
              "0.800000       83\n",
              "2.666667       61\n",
              "1.600000       38\n",
              "1.666667       35\n",
              "1.250000       31\n",
              "1.142857       27\n",
              "0.857143       24\n",
              "0.333333       14\n",
              "0.750000       12\n",
              "5.000000       10\n",
              "0.888889        7\n",
              "3.333333        5\n",
              "1.428571        3\n",
              "0.400000        2\n",
              "2.400000        1\n",
              "0.222222        1\n",
              "6.000000        1\n",
              "2.333333        1\n",
              "0.571429        1\n",
              "0.200000        1\n",
              "dtype: int64"
            ]
          },
          "metadata": {
            "tags": []
          },
          "execution_count": 51
        }
      ]
    },
    {
      "cell_type": "markdown",
      "metadata": {
        "id": "4g7iV080opXB",
        "colab_type": "text"
      },
      "source": [
        "### What's the neighborhood, based on address or latitude & longitude?"
      ]
    },
    {
      "cell_type": "code",
      "metadata": {
        "id": "xTYNEV3soq8s",
        "colab_type": "code",
        "colab": {}
      },
      "source": [
        ""
      ],
      "execution_count": 0,
      "outputs": []
    },
    {
      "cell_type": "markdown",
      "metadata": {
        "id": "Ir1Rq_XvqvQB",
        "colab_type": "text"
      },
      "source": [
        "### **Wrangle function**"
      ]
    },
    {
      "cell_type": "code",
      "metadata": {
        "id": "NwPvL3gqqyjD",
        "colab_type": "code",
        "colab": {}
      },
      "source": [
        "def wrangle(dataframe):\n",
        "  df = dataframe.copy()\n",
        "\n",
        "  # fill nulls with empty strings and strip leading and trailing whitespace in feature 'description'\n",
        "  df['description'] = df['description'].fillna('').str.lstrip().str.rstrip()\n",
        "\n",
        "  # add feature: 'has_description'\n",
        "  df['has_description'] = df['description'] != ''\n",
        "\n",
        "  # add feature: 'description_length'\n",
        "  df['description_length'] = df['description'].str.len()\n",
        "\n",
        "  # add feature: 'total_perks'\n",
        "  perk_features = ['elevator', 'cats_allowed', 'hardwood_floors', 'dogs_allowed', 'doorman', 'dishwasher',\n",
        "                  'no_fee', 'laundry_in_building', 'fitness_center', 'pre-war', 'laundry_in_unit',\n",
        "                  'roof_deck', 'outdoor_space', 'dining_room', 'high_speed_internet', 'balcony',\n",
        "                  'swimming_pool', 'new_construction', 'terrace', 'exclusive', 'loft', 'garden_patio',\n",
        "                  'wheelchair_access', 'common_outdoor_space'\n",
        "                  ]\n",
        "  df['total_perks'] = df[perk_features].sum(axis=1)\n",
        "\n",
        "  # add feature: 'cats_or_dogs_allowed'\n",
        "  pets_features = ['cats_allowed', 'dogs_allowed']\n",
        "  df['cats_or_dogs_allowed'] = df[pets_features].sum(axis=1) > 0\n",
        "\n",
        "  # add feature: 'cats_and_dogs_allowed'\n",
        "  df['cats_and_dogs_allowed'] = df[pets_features].sum(axis=1) == 2\n",
        "\n",
        "  # add feature: 'total_rooms'\n",
        "  rooms_features = ['bedrooms', 'bathrooms']\n",
        "  df['total_rooms'] = df[rooms_features].sum(axis=1)\n",
        "\n",
        "  # add feature: 'bed_bath_ratio'\n",
        "  df['bed_bath_ratio'] = (df['bedrooms'] / df['bathrooms']).fillna(0.0).replace(np.inf, 0.0)\n",
        "\n",
        "  return df"
      ],
      "execution_count": 0,
      "outputs": []
    },
    {
      "cell_type": "code",
      "metadata": {
        "id": "moPEqK6U5cky",
        "colab_type": "code",
        "colab": {
          "base_uri": "https://localhost:8080/",
          "height": 32
        },
        "outputId": "a6d14ccc-6fc6-4388-e60d-76f6d9d123e1"
      },
      "source": [
        "df_train, df_test = map(wrangle, [df_train, df_test])\n",
        "df_train.shape, df_test.shape"
      ],
      "execution_count": 53,
      "outputs": [
        {
          "output_type": "execute_result",
          "data": {
            "text/plain": [
              "((31844, 41), (16973, 41))"
            ]
          },
          "metadata": {
            "tags": []
          },
          "execution_count": 53
        }
      ]
    },
    {
      "cell_type": "markdown",
      "metadata": {
        "id": "4ZEEQuBJj20H",
        "colab_type": "text"
      },
      "source": [
        "## Fit a linear regression model with at least two features.\n"
      ]
    },
    {
      "cell_type": "code",
      "metadata": {
        "id": "TOBELlxm7JlN",
        "colab_type": "code",
        "colab": {
          "base_uri": "https://localhost:8080/",
          "height": 214
        },
        "outputId": "fc10463c-7913-4365-f1af-0ca01bdd78aa"
      },
      "source": [
        "df_train.columns"
      ],
      "execution_count": 54,
      "outputs": [
        {
          "output_type": "execute_result",
          "data": {
            "text/plain": [
              "Index(['bathrooms', 'bedrooms', 'created', 'description', 'display_address',\n",
              "       'latitude', 'longitude', 'price', 'street_address', 'interest_level',\n",
              "       'elevator', 'cats_allowed', 'hardwood_floors', 'dogs_allowed',\n",
              "       'doorman', 'dishwasher', 'no_fee', 'laundry_in_building',\n",
              "       'fitness_center', 'pre-war', 'laundry_in_unit', 'roof_deck',\n",
              "       'outdoor_space', 'dining_room', 'high_speed_internet', 'balcony',\n",
              "       'swimming_pool', 'new_construction', 'terrace', 'exclusive', 'loft',\n",
              "       'garden_patio', 'wheelchair_access', 'common_outdoor_space',\n",
              "       'has_description', 'description_length', 'total_perks',\n",
              "       'cats_or_dogs_allowed', 'cats_and_dogs_allowed', 'total_rooms',\n",
              "       'bed_bath_ratio'],\n",
              "      dtype='object')"
            ]
          },
          "metadata": {
            "tags": []
          },
          "execution_count": 54
        }
      ]
    },
    {
      "cell_type": "code",
      "metadata": {
        "id": "4tN59LRL7FaS",
        "colab_type": "code",
        "colab": {}
      },
      "source": [
        "target = 'price'\n",
        "features = ['bathrooms', 'bedrooms', 'latitude', 'longitude', 'interest_level', 'has_description', \n",
        "            'description_length', 'total_perks', 'cats_or_dogs_allowed', 'cats_and_dogs_allowed',\n",
        "            'total_rooms', 'bed_bath_ratio'\n",
        "           ]\n",
        "\n",
        "X_train = df_train[features]\n",
        "X_test = df_test[features]\n",
        "\n",
        "y_train = df_train[target]\n",
        "y_test = df_test[target]"
      ],
      "execution_count": 0,
      "outputs": []
    },
    {
      "cell_type": "code",
      "metadata": {
        "id": "UCdbTfMU8dew",
        "colab_type": "code",
        "colab": {
          "base_uri": "https://localhost:8080/",
          "height": 431
        },
        "outputId": "d0631e5c-2434-4dd6-f40f-4eb2e8945546"
      },
      "source": [
        "X_train"
      ],
      "execution_count": 56,
      "outputs": [
        {
          "output_type": "execute_result",
          "data": {
            "text/html": [
              "<div>\n",
              "<style scoped>\n",
              "    .dataframe tbody tr th:only-of-type {\n",
              "        vertical-align: middle;\n",
              "    }\n",
              "\n",
              "    .dataframe tbody tr th {\n",
              "        vertical-align: top;\n",
              "    }\n",
              "\n",
              "    .dataframe thead th {\n",
              "        text-align: right;\n",
              "    }\n",
              "</style>\n",
              "<table border=\"1\" class=\"dataframe\">\n",
              "  <thead>\n",
              "    <tr style=\"text-align: right;\">\n",
              "      <th></th>\n",
              "      <th>bathrooms</th>\n",
              "      <th>bedrooms</th>\n",
              "      <th>latitude</th>\n",
              "      <th>longitude</th>\n",
              "      <th>interest_level</th>\n",
              "      <th>has_description</th>\n",
              "      <th>description_length</th>\n",
              "      <th>total_perks</th>\n",
              "      <th>cats_or_dogs_allowed</th>\n",
              "      <th>cats_and_dogs_allowed</th>\n",
              "      <th>total_rooms</th>\n",
              "      <th>bed_bath_ratio</th>\n",
              "    </tr>\n",
              "  </thead>\n",
              "  <tbody>\n",
              "    <tr>\n",
              "      <th>2</th>\n",
              "      <td>1.0</td>\n",
              "      <td>1</td>\n",
              "      <td>40.7388</td>\n",
              "      <td>-74.0018</td>\n",
              "      <td>high</td>\n",
              "      <td>True</td>\n",
              "      <td>690</td>\n",
              "      <td>3</td>\n",
              "      <td>False</td>\n",
              "      <td>False</td>\n",
              "      <td>2.0</td>\n",
              "      <td>1.0</td>\n",
              "    </tr>\n",
              "    <tr>\n",
              "      <th>3</th>\n",
              "      <td>1.0</td>\n",
              "      <td>1</td>\n",
              "      <td>40.7539</td>\n",
              "      <td>-73.9677</td>\n",
              "      <td>low</td>\n",
              "      <td>True</td>\n",
              "      <td>491</td>\n",
              "      <td>2</td>\n",
              "      <td>False</td>\n",
              "      <td>False</td>\n",
              "      <td>2.0</td>\n",
              "      <td>1.0</td>\n",
              "    </tr>\n",
              "    <tr>\n",
              "      <th>4</th>\n",
              "      <td>1.0</td>\n",
              "      <td>4</td>\n",
              "      <td>40.8241</td>\n",
              "      <td>-73.9493</td>\n",
              "      <td>low</td>\n",
              "      <td>True</td>\n",
              "      <td>478</td>\n",
              "      <td>1</td>\n",
              "      <td>False</td>\n",
              "      <td>False</td>\n",
              "      <td>5.0</td>\n",
              "      <td>4.0</td>\n",
              "    </tr>\n",
              "    <tr>\n",
              "      <th>5</th>\n",
              "      <td>2.0</td>\n",
              "      <td>4</td>\n",
              "      <td>40.7429</td>\n",
              "      <td>-74.0028</td>\n",
              "      <td>medium</td>\n",
              "      <td>False</td>\n",
              "      <td>0</td>\n",
              "      <td>0</td>\n",
              "      <td>False</td>\n",
              "      <td>False</td>\n",
              "      <td>6.0</td>\n",
              "      <td>2.0</td>\n",
              "    </tr>\n",
              "    <tr>\n",
              "      <th>6</th>\n",
              "      <td>1.0</td>\n",
              "      <td>2</td>\n",
              "      <td>40.8012</td>\n",
              "      <td>-73.9660</td>\n",
              "      <td>low</td>\n",
              "      <td>True</td>\n",
              "      <td>578</td>\n",
              "      <td>3</td>\n",
              "      <td>True</td>\n",
              "      <td>True</td>\n",
              "      <td>3.0</td>\n",
              "      <td>2.0</td>\n",
              "    </tr>\n",
              "    <tr>\n",
              "      <th>...</th>\n",
              "      <td>...</td>\n",
              "      <td>...</td>\n",
              "      <td>...</td>\n",
              "      <td>...</td>\n",
              "      <td>...</td>\n",
              "      <td>...</td>\n",
              "      <td>...</td>\n",
              "      <td>...</td>\n",
              "      <td>...</td>\n",
              "      <td>...</td>\n",
              "      <td>...</td>\n",
              "      <td>...</td>\n",
              "    </tr>\n",
              "    <tr>\n",
              "      <th>49346</th>\n",
              "      <td>1.0</td>\n",
              "      <td>1</td>\n",
              "      <td>40.7296</td>\n",
              "      <td>-73.9869</td>\n",
              "      <td>medium</td>\n",
              "      <td>True</td>\n",
              "      <td>394</td>\n",
              "      <td>5</td>\n",
              "      <td>True</td>\n",
              "      <td>False</td>\n",
              "      <td>2.0</td>\n",
              "      <td>1.0</td>\n",
              "    </tr>\n",
              "    <tr>\n",
              "      <th>49348</th>\n",
              "      <td>1.0</td>\n",
              "      <td>1</td>\n",
              "      <td>40.7102</td>\n",
              "      <td>-74.0163</td>\n",
              "      <td>low</td>\n",
              "      <td>True</td>\n",
              "      <td>1125</td>\n",
              "      <td>9</td>\n",
              "      <td>True</td>\n",
              "      <td>True</td>\n",
              "      <td>2.0</td>\n",
              "      <td>1.0</td>\n",
              "    </tr>\n",
              "    <tr>\n",
              "      <th>49349</th>\n",
              "      <td>1.0</td>\n",
              "      <td>1</td>\n",
              "      <td>40.7601</td>\n",
              "      <td>-73.9900</td>\n",
              "      <td>low</td>\n",
              "      <td>True</td>\n",
              "      <td>670</td>\n",
              "      <td>5</td>\n",
              "      <td>True</td>\n",
              "      <td>True</td>\n",
              "      <td>2.0</td>\n",
              "      <td>1.0</td>\n",
              "    </tr>\n",
              "    <tr>\n",
              "      <th>49350</th>\n",
              "      <td>1.0</td>\n",
              "      <td>0</td>\n",
              "      <td>40.7066</td>\n",
              "      <td>-74.0101</td>\n",
              "      <td>low</td>\n",
              "      <td>True</td>\n",
              "      <td>734</td>\n",
              "      <td>5</td>\n",
              "      <td>True</td>\n",
              "      <td>True</td>\n",
              "      <td>1.0</td>\n",
              "      <td>0.0</td>\n",
              "    </tr>\n",
              "    <tr>\n",
              "      <th>49351</th>\n",
              "      <td>1.0</td>\n",
              "      <td>2</td>\n",
              "      <td>40.8699</td>\n",
              "      <td>-73.9172</td>\n",
              "      <td>low</td>\n",
              "      <td>True</td>\n",
              "      <td>798</td>\n",
              "      <td>1</td>\n",
              "      <td>False</td>\n",
              "      <td>False</td>\n",
              "      <td>3.0</td>\n",
              "      <td>2.0</td>\n",
              "    </tr>\n",
              "  </tbody>\n",
              "</table>\n",
              "<p>31844 rows × 12 columns</p>\n",
              "</div>"
            ],
            "text/plain": [
              "       bathrooms  bedrooms  ...  total_rooms  bed_bath_ratio\n",
              "2            1.0         1  ...          2.0             1.0\n",
              "3            1.0         1  ...          2.0             1.0\n",
              "4            1.0         4  ...          5.0             4.0\n",
              "5            2.0         4  ...          6.0             2.0\n",
              "6            1.0         2  ...          3.0             2.0\n",
              "...          ...       ...  ...          ...             ...\n",
              "49346        1.0         1  ...          2.0             1.0\n",
              "49348        1.0         1  ...          2.0             1.0\n",
              "49349        1.0         1  ...          2.0             1.0\n",
              "49350        1.0         0  ...          1.0             0.0\n",
              "49351        1.0         2  ...          3.0             2.0\n",
              "\n",
              "[31844 rows x 12 columns]"
            ]
          },
          "metadata": {
            "tags": []
          },
          "execution_count": 56
        }
      ]
    },
    {
      "cell_type": "code",
      "metadata": {
        "id": "SCpt4Nrj8ieD",
        "colab_type": "code",
        "colab": {
          "base_uri": "https://localhost:8080/",
          "height": 230
        },
        "outputId": "91dd80fc-b34b-457c-b4e7-622751a78e21"
      },
      "source": [
        "X_train.dtypes"
      ],
      "execution_count": 57,
      "outputs": [
        {
          "output_type": "execute_result",
          "data": {
            "text/plain": [
              "bathrooms                float64\n",
              "bedrooms                   int64\n",
              "latitude                 float64\n",
              "longitude                float64\n",
              "interest_level            object\n",
              "has_description             bool\n",
              "description_length         int64\n",
              "total_perks                int64\n",
              "cats_or_dogs_allowed        bool\n",
              "cats_and_dogs_allowed       bool\n",
              "total_rooms              float64\n",
              "bed_bath_ratio           float64\n",
              "dtype: object"
            ]
          },
          "metadata": {
            "tags": []
          },
          "execution_count": 57
        }
      ]
    },
    {
      "cell_type": "code",
      "metadata": {
        "id": "rwtE9vf384FC",
        "colab_type": "code",
        "colab": {
          "base_uri": "https://localhost:8080/",
          "height": 82
        },
        "outputId": "abbb527c-5abc-4f02-fa44-60cd14ae738f"
      },
      "source": [
        "X_train['interest_level'].value_counts()"
      ],
      "execution_count": 58,
      "outputs": [
        {
          "output_type": "execute_result",
          "data": {
            "text/plain": [
              "low       22053\n",
              "medium     7381\n",
              "high       2410\n",
              "Name: interest_level, dtype: int64"
            ]
          },
          "metadata": {
            "tags": []
          },
          "execution_count": 58
        }
      ]
    },
    {
      "cell_type": "code",
      "metadata": {
        "id": "4U_S4jyk88XS",
        "colab_type": "code",
        "colab": {
          "base_uri": "https://localhost:8080/",
          "height": 32
        },
        "outputId": "07e51d5f-b3c5-4e23-b83e-e7b79bd6e8f6"
      },
      "source": [
        "X_train['interest_level'].isnull().sum()"
      ],
      "execution_count": 59,
      "outputs": [
        {
          "output_type": "execute_result",
          "data": {
            "text/plain": [
              "0"
            ]
          },
          "metadata": {
            "tags": []
          },
          "execution_count": 59
        }
      ]
    },
    {
      "cell_type": "code",
      "metadata": {
        "id": "9IEX5cr08lbL",
        "colab_type": "code",
        "colab": {}
      },
      "source": [
        "from category_encoders import OrdinalEncoder\n",
        "\n",
        "encoder = OrdinalEncoder()\n",
        "\n",
        "X_train_encoded = encoder.fit_transform(X_train)\n",
        "X_test_encoded = encoder.transform(X_test)"
      ],
      "execution_count": 0,
      "outputs": []
    },
    {
      "cell_type": "code",
      "metadata": {
        "id": "KPdi6S0M9cPq",
        "colab_type": "code",
        "colab": {
          "base_uri": "https://localhost:8080/",
          "height": 230
        },
        "outputId": "3ad229a0-f7a7-4cd5-8002-e03cf8599e69"
      },
      "source": [
        "X_train_encoded.dtypes"
      ],
      "execution_count": 61,
      "outputs": [
        {
          "output_type": "execute_result",
          "data": {
            "text/plain": [
              "bathrooms                float64\n",
              "bedrooms                   int64\n",
              "latitude                 float64\n",
              "longitude                float64\n",
              "interest_level             int64\n",
              "has_description             bool\n",
              "description_length         int64\n",
              "total_perks                int64\n",
              "cats_or_dogs_allowed        bool\n",
              "cats_and_dogs_allowed       bool\n",
              "total_rooms              float64\n",
              "bed_bath_ratio           float64\n",
              "dtype: object"
            ]
          },
          "metadata": {
            "tags": []
          },
          "execution_count": 61
        }
      ]
    },
    {
      "cell_type": "code",
      "metadata": {
        "id": "UstyHwa-j8W1",
        "colab_type": "code",
        "colab": {
          "base_uri": "https://localhost:8080/",
          "height": 32
        },
        "outputId": "2d685907-131d-4cf8-82f6-a2a42d1d2eec"
      },
      "source": [
        "from sklearn.linear_model import LinearRegression\n",
        "\n",
        "model = LinearRegression(n_jobs=-1)\n",
        "\n",
        "model.fit(X_train_encoded, y_train)"
      ],
      "execution_count": 62,
      "outputs": [
        {
          "output_type": "execute_result",
          "data": {
            "text/plain": [
              "LinearRegression(copy_X=True, fit_intercept=True, n_jobs=-1, normalize=False)"
            ]
          },
          "metadata": {
            "tags": []
          },
          "execution_count": 62
        }
      ]
    },
    {
      "cell_type": "markdown",
      "metadata": {
        "id": "Sb7s0L7Jj8mU",
        "colab_type": "text"
      },
      "source": [
        "## Get the model's coefficients and intercept.\n"
      ]
    },
    {
      "cell_type": "code",
      "metadata": {
        "id": "5GPAQtZQj_pB",
        "colab_type": "code",
        "colab": {
          "base_uri": "https://localhost:8080/",
          "height": 230
        },
        "outputId": "d5e17546-881c-4173-8213-471269fcd25e"
      },
      "source": [
        "print(f'Intercept: {model.intercept_}')\n",
        "coefficients = pd.Series(data=model.coef_, index=features)\n",
        "print(coefficients.to_string())"
      ],
      "execution_count": 63,
      "outputs": [
        {
          "output_type": "stream",
          "text": [
            "Intercept: -1170514.9809037691\n",
            "bathrooms                 1014.206125\n",
            "bedrooms                  -239.260640\n",
            "latitude                  1895.069951\n",
            "longitude               -14796.041656\n",
            "interest_level            -137.942036\n",
            "has_description           -494.382581\n",
            "description_length           0.135316\n",
            "total_perks                 48.727852\n",
            "cats_or_dogs_allowed      -110.156182\n",
            "cats_and_dogs_allowed       82.685499\n",
            "total_rooms                774.945486\n",
            "bed_bath_ratio            -118.410873\n"
          ],
          "name": "stdout"
        }
      ]
    },
    {
      "cell_type": "markdown",
      "metadata": {
        "id": "xTxBlkLlkANk",
        "colab_type": "text"
      },
      "source": [
        "## Get regression metrics RMSE, MAE, and  𝑅2 , for both the train and test data.\n"
      ]
    },
    {
      "cell_type": "code",
      "metadata": {
        "id": "REP-xVp0kGN-",
        "colab_type": "code",
        "colab": {
          "base_uri": "https://localhost:8080/",
          "height": 109
        },
        "outputId": "e8e1afd0-83e9-4d74-c06a-5bdbe3ee6a11"
      },
      "source": [
        "from sklearn.metrics import mean_absolute_error, mean_squared_error, r2_score\n",
        "\n",
        "y_pred = model.predict(X_train_encoded)\n",
        "rmse_train = np.sqrt(mean_squared_error(y_train, y_pred))\n",
        "mae_train = mean_absolute_error(y_train, y_pred)\n",
        "r2_train = r2_score(y_train, y_pred)\n",
        "\n",
        "y_pred = model.predict(X_test_encoded)\n",
        "rmse_test = np.sqrt(mean_squared_error(y_test, y_pred))\n",
        "mae_test = mean_absolute_error(y_test, y_pred)\n",
        "r2_test = r2_score(y_test, y_pred)\n",
        "\n",
        "data = {\n",
        "    'RMSE' : [rmse_train, rmse_test],\n",
        "    'MAE' : [mae_train, mae_test],\n",
        "    'R2' : [r2_train, r2_test]\n",
        "}\n",
        "\n",
        "pd.DataFrame(data=data, index=['Train', 'Test'],)"
      ],
      "execution_count": 64,
      "outputs": [
        {
          "output_type": "execute_result",
          "data": {
            "text/html": [
              "<div>\n",
              "<style scoped>\n",
              "    .dataframe tbody tr th:only-of-type {\n",
              "        vertical-align: middle;\n",
              "    }\n",
              "\n",
              "    .dataframe tbody tr th {\n",
              "        vertical-align: top;\n",
              "    }\n",
              "\n",
              "    .dataframe thead th {\n",
              "        text-align: right;\n",
              "    }\n",
              "</style>\n",
              "<table border=\"1\" class=\"dataframe\">\n",
              "  <thead>\n",
              "    <tr style=\"text-align: right;\">\n",
              "      <th></th>\n",
              "      <th>RMSE</th>\n",
              "      <th>MAE</th>\n",
              "      <th>R2</th>\n",
              "    </tr>\n",
              "  </thead>\n",
              "  <tbody>\n",
              "    <tr>\n",
              "      <th>Train</th>\n",
              "      <td>1127.581565</td>\n",
              "      <td>721.363429</td>\n",
              "      <td>0.590522</td>\n",
              "    </tr>\n",
              "    <tr>\n",
              "      <th>Test</th>\n",
              "      <td>1110.502704</td>\n",
              "      <td>724.099146</td>\n",
              "      <td>0.603215</td>\n",
              "    </tr>\n",
              "  </tbody>\n",
              "</table>\n",
              "</div>"
            ],
            "text/plain": [
              "              RMSE         MAE        R2\n",
              "Train  1127.581565  721.363429  0.590522\n",
              "Test   1110.502704  724.099146  0.603215"
            ]
          },
          "metadata": {
            "tags": []
          },
          "execution_count": 64
        }
      ]
    },
    {
      "cell_type": "code",
      "metadata": {
        "id": "qoYbI4BWb2CS",
        "colab_type": "code",
        "colab": {
          "base_uri": "https://localhost:8080/",
          "height": 214
        },
        "outputId": "de091a31-b7d0-4598-a363-70a8c0bc13ff"
      },
      "source": [
        "features"
      ],
      "execution_count": 65,
      "outputs": [
        {
          "output_type": "execute_result",
          "data": {
            "text/plain": [
              "['bathrooms',\n",
              " 'bedrooms',\n",
              " 'latitude',\n",
              " 'longitude',\n",
              " 'interest_level',\n",
              " 'has_description',\n",
              " 'description_length',\n",
              " 'total_perks',\n",
              " 'cats_or_dogs_allowed',\n",
              " 'cats_and_dogs_allowed',\n",
              " 'total_rooms',\n",
              " 'bed_bath_ratio']"
            ]
          },
          "metadata": {
            "tags": []
          },
          "execution_count": 65
        }
      ]
    },
    {
      "cell_type": "markdown",
      "metadata": {
        "id": "D0sc-7nXkGfz",
        "colab_type": "text"
      },
      "source": [
        "## What's the best test MAE you can get?"
      ]
    },
    {
      "cell_type": "code",
      "metadata": {
        "id": "8PAH7EdwkJTU",
        "colab_type": "code",
        "colab": {}
      },
      "source": [
        "df2 = df.copy()"
      ],
      "execution_count": 0,
      "outputs": []
    },
    {
      "cell_type": "markdown",
      "metadata": {
        "id": "BgNDul65Gg2X",
        "colab_type": "text"
      },
      "source": [
        "### feature engineering"
      ]
    },
    {
      "cell_type": "code",
      "metadata": {
        "id": "2cS3x6lhEXw1",
        "colab_type": "code",
        "colab": {
          "base_uri": "https://localhost:8080/",
          "height": 592
        },
        "outputId": "15489857-910f-4cee-ecd0-642f57862661"
      },
      "source": [
        "df2.dtypes"
      ],
      "execution_count": 67,
      "outputs": [
        {
          "output_type": "execute_result",
          "data": {
            "text/plain": [
              "bathrooms                      float64\n",
              "bedrooms                         int64\n",
              "created                 datetime64[ns]\n",
              "description                     object\n",
              "display_address                 object\n",
              "latitude                       float64\n",
              "longitude                      float64\n",
              "price                            int64\n",
              "street_address                  object\n",
              "interest_level                  object\n",
              "elevator                         int64\n",
              "cats_allowed                     int64\n",
              "hardwood_floors                  int64\n",
              "dogs_allowed                     int64\n",
              "doorman                          int64\n",
              "dishwasher                       int64\n",
              "no_fee                           int64\n",
              "laundry_in_building              int64\n",
              "fitness_center                   int64\n",
              "pre-war                          int64\n",
              "laundry_in_unit                  int64\n",
              "roof_deck                        int64\n",
              "outdoor_space                    int64\n",
              "dining_room                      int64\n",
              "high_speed_internet              int64\n",
              "balcony                          int64\n",
              "swimming_pool                    int64\n",
              "new_construction                 int64\n",
              "terrace                          int64\n",
              "exclusive                        int64\n",
              "loft                             int64\n",
              "garden_patio                     int64\n",
              "wheelchair_access                int64\n",
              "common_outdoor_space             int64\n",
              "dtype: object"
            ]
          },
          "metadata": {
            "tags": []
          },
          "execution_count": 67
        }
      ]
    },
    {
      "cell_type": "code",
      "metadata": {
        "id": "d0R09mCJEdM0",
        "colab_type": "code",
        "colab": {
          "base_uri": "https://localhost:8080/",
          "height": 592
        },
        "outputId": "572537a9-d8f5-4f82-dad4-bf1f4dae303c"
      },
      "source": [
        "df2.isnull().sum()"
      ],
      "execution_count": 68,
      "outputs": [
        {
          "output_type": "execute_result",
          "data": {
            "text/plain": [
              "bathrooms                  0\n",
              "bedrooms                   0\n",
              "created                    0\n",
              "description             1425\n",
              "display_address          133\n",
              "latitude                   0\n",
              "longitude                  0\n",
              "price                      0\n",
              "street_address            10\n",
              "interest_level             0\n",
              "elevator                   0\n",
              "cats_allowed               0\n",
              "hardwood_floors            0\n",
              "dogs_allowed               0\n",
              "doorman                    0\n",
              "dishwasher                 0\n",
              "no_fee                     0\n",
              "laundry_in_building        0\n",
              "fitness_center             0\n",
              "pre-war                    0\n",
              "laundry_in_unit            0\n",
              "roof_deck                  0\n",
              "outdoor_space              0\n",
              "dining_room                0\n",
              "high_speed_internet        0\n",
              "balcony                    0\n",
              "swimming_pool              0\n",
              "new_construction           0\n",
              "terrace                    0\n",
              "exclusive                  0\n",
              "loft                       0\n",
              "garden_patio               0\n",
              "wheelchair_access          0\n",
              "common_outdoor_space       0\n",
              "dtype: int64"
            ]
          },
          "metadata": {
            "tags": []
          },
          "execution_count": 68
        }
      ]
    },
    {
      "cell_type": "markdown",
      "metadata": {
        "id": "5woSD0C-Gtu1",
        "colab_type": "text"
      },
      "source": [
        "#### addresses"
      ]
    },
    {
      "cell_type": "code",
      "metadata": {
        "id": "AwDEKTbTd0Zb",
        "colab_type": "code",
        "colab": {}
      },
      "source": [
        "!pip install arcgis\n",
        "from arcgis.gis import GIS\n",
        "from arcgis.geocoding import reverse_geocode\n",
        "gis = GIS()"
      ],
      "execution_count": 0,
      "outputs": []
    },
    {
      "cell_type": "code",
      "metadata": {
        "id": "vN9qxzIbHgPA",
        "colab_type": "code",
        "colab": {
          "base_uri": "https://localhost:8080/",
          "height": 411
        },
        "outputId": "ab551cde-60f5-4094-fb24-c5a9176a40c3"
      },
      "source": [
        "address_features = ['display_address', 'street_address', 'longitude', 'latitude']\n",
        "address = df2[address_features].copy()\n",
        "address"
      ],
      "execution_count": 70,
      "outputs": [
        {
          "output_type": "execute_result",
          "data": {
            "text/html": [
              "<div>\n",
              "<style scoped>\n",
              "    .dataframe tbody tr th:only-of-type {\n",
              "        vertical-align: middle;\n",
              "    }\n",
              "\n",
              "    .dataframe tbody tr th {\n",
              "        vertical-align: top;\n",
              "    }\n",
              "\n",
              "    .dataframe thead th {\n",
              "        text-align: right;\n",
              "    }\n",
              "</style>\n",
              "<table border=\"1\" class=\"dataframe\">\n",
              "  <thead>\n",
              "    <tr style=\"text-align: right;\">\n",
              "      <th></th>\n",
              "      <th>display_address</th>\n",
              "      <th>street_address</th>\n",
              "      <th>longitude</th>\n",
              "      <th>latitude</th>\n",
              "    </tr>\n",
              "  </thead>\n",
              "  <tbody>\n",
              "    <tr>\n",
              "      <th>0</th>\n",
              "      <td>Metropolitan Avenue</td>\n",
              "      <td>792 Metropolitan Avenue</td>\n",
              "      <td>-73.9425</td>\n",
              "      <td>40.7145</td>\n",
              "    </tr>\n",
              "    <tr>\n",
              "      <th>1</th>\n",
              "      <td>Columbus Avenue</td>\n",
              "      <td>808 Columbus Avenue</td>\n",
              "      <td>-73.9667</td>\n",
              "      <td>40.7947</td>\n",
              "    </tr>\n",
              "    <tr>\n",
              "      <th>2</th>\n",
              "      <td>W 13 Street</td>\n",
              "      <td>241 W 13 Street</td>\n",
              "      <td>-74.0018</td>\n",
              "      <td>40.7388</td>\n",
              "    </tr>\n",
              "    <tr>\n",
              "      <th>3</th>\n",
              "      <td>East 49th Street</td>\n",
              "      <td>333 East 49th Street</td>\n",
              "      <td>-73.9677</td>\n",
              "      <td>40.7539</td>\n",
              "    </tr>\n",
              "    <tr>\n",
              "      <th>4</th>\n",
              "      <td>West 143rd Street</td>\n",
              "      <td>500 West 143rd Street</td>\n",
              "      <td>-73.9493</td>\n",
              "      <td>40.8241</td>\n",
              "    </tr>\n",
              "    <tr>\n",
              "      <th>...</th>\n",
              "      <td>...</td>\n",
              "      <td>...</td>\n",
              "      <td>...</td>\n",
              "      <td>...</td>\n",
              "    </tr>\n",
              "    <tr>\n",
              "      <th>49347</th>\n",
              "      <td>E 30 St</td>\n",
              "      <td>230 E 30 St</td>\n",
              "      <td>-73.9790</td>\n",
              "      <td>40.7426</td>\n",
              "    </tr>\n",
              "    <tr>\n",
              "      <th>49348</th>\n",
              "      <td>Rector Pl</td>\n",
              "      <td>225 Rector Place</td>\n",
              "      <td>-74.0163</td>\n",
              "      <td>40.7102</td>\n",
              "    </tr>\n",
              "    <tr>\n",
              "      <th>49349</th>\n",
              "      <td>West 45th Street</td>\n",
              "      <td>341 West 45th Street</td>\n",
              "      <td>-73.9900</td>\n",
              "      <td>40.7601</td>\n",
              "    </tr>\n",
              "    <tr>\n",
              "      <th>49350</th>\n",
              "      <td>Wall Street</td>\n",
              "      <td>37 Wall Street</td>\n",
              "      <td>-74.0101</td>\n",
              "      <td>40.7066</td>\n",
              "    </tr>\n",
              "    <tr>\n",
              "      <th>49351</th>\n",
              "      <td>Park Terrace East</td>\n",
              "      <td>30 Park Terrace East</td>\n",
              "      <td>-73.9172</td>\n",
              "      <td>40.8699</td>\n",
              "    </tr>\n",
              "  </tbody>\n",
              "</table>\n",
              "<p>48817 rows × 4 columns</p>\n",
              "</div>"
            ],
            "text/plain": [
              "           display_address           street_address  longitude  latitude\n",
              "0      Metropolitan Avenue  792 Metropolitan Avenue   -73.9425   40.7145\n",
              "1          Columbus Avenue      808 Columbus Avenue   -73.9667   40.7947\n",
              "2              W 13 Street          241 W 13 Street   -74.0018   40.7388\n",
              "3         East 49th Street     333 East 49th Street   -73.9677   40.7539\n",
              "4        West 143rd Street    500 West 143rd Street   -73.9493   40.8241\n",
              "...                    ...                      ...        ...       ...\n",
              "49347              E 30 St              230 E 30 St   -73.9790   40.7426\n",
              "49348            Rector Pl         225 Rector Place   -74.0163   40.7102\n",
              "49349     West 45th Street     341 West 45th Street   -73.9900   40.7601\n",
              "49350          Wall Street           37 Wall Street   -74.0101   40.7066\n",
              "49351    Park Terrace East     30 Park Terrace East   -73.9172   40.8699\n",
              "\n",
              "[48817 rows x 4 columns]"
            ]
          },
          "metadata": {
            "tags": []
          },
          "execution_count": 70
        }
      ]
    },
    {
      "cell_type": "code",
      "metadata": {
        "id": "krYlLpWCtJ20",
        "colab_type": "code",
        "colab": {}
      },
      "source": [
        "address['display_address'] = address['display_address'].str.lstrip().str.rstrip()\n",
        "address['street_address'] = address['street_address'].str.lstrip().str.rstrip()"
      ],
      "execution_count": 0,
      "outputs": []
    },
    {
      "cell_type": "code",
      "metadata": {
        "id": "mgP8W767IGA7",
        "colab_type": "code",
        "colab": {
          "base_uri": "https://localhost:8080/",
          "height": 98
        },
        "outputId": "40f31f81-d60e-470a-f2ef-2cca6347eb33"
      },
      "source": [
        "address.isnull().sum()"
      ],
      "execution_count": 72,
      "outputs": [
        {
          "output_type": "execute_result",
          "data": {
            "text/plain": [
              "display_address    133\n",
              "street_address      10\n",
              "longitude            0\n",
              "latitude             0\n",
              "dtype: int64"
            ]
          },
          "metadata": {
            "tags": []
          },
          "execution_count": 72
        }
      ]
    },
    {
      "cell_type": "code",
      "metadata": {
        "id": "EugpaVDeIT6H",
        "colab_type": "code",
        "colab": {
          "base_uri": "https://localhost:8080/",
          "height": 352
        },
        "outputId": "10766b90-4aed-4016-baf8-1606a8c02ca2"
      },
      "source": [
        "cond_null_sa = address['street_address'].isnull()\n",
        "address[cond_null_sa]"
      ],
      "execution_count": 73,
      "outputs": [
        {
          "output_type": "execute_result",
          "data": {
            "text/html": [
              "<div>\n",
              "<style scoped>\n",
              "    .dataframe tbody tr th:only-of-type {\n",
              "        vertical-align: middle;\n",
              "    }\n",
              "\n",
              "    .dataframe tbody tr th {\n",
              "        vertical-align: top;\n",
              "    }\n",
              "\n",
              "    .dataframe thead th {\n",
              "        text-align: right;\n",
              "    }\n",
              "</style>\n",
              "<table border=\"1\" class=\"dataframe\">\n",
              "  <thead>\n",
              "    <tr style=\"text-align: right;\">\n",
              "      <th></th>\n",
              "      <th>display_address</th>\n",
              "      <th>street_address</th>\n",
              "      <th>longitude</th>\n",
              "      <th>latitude</th>\n",
              "    </tr>\n",
              "  </thead>\n",
              "  <tbody>\n",
              "    <tr>\n",
              "      <th>18037</th>\n",
              "      <td>NaN</td>\n",
              "      <td>NaN</td>\n",
              "      <td>-74.0059</td>\n",
              "      <td>40.7128</td>\n",
              "    </tr>\n",
              "    <tr>\n",
              "      <th>18096</th>\n",
              "      <td>NaN</td>\n",
              "      <td>NaN</td>\n",
              "      <td>-74.0059</td>\n",
              "      <td>40.7128</td>\n",
              "    </tr>\n",
              "    <tr>\n",
              "      <th>24543</th>\n",
              "      <td>NaN</td>\n",
              "      <td>NaN</td>\n",
              "      <td>-74.0059</td>\n",
              "      <td>40.7128</td>\n",
              "    </tr>\n",
              "    <tr>\n",
              "      <th>26196</th>\n",
              "      <td>NaN</td>\n",
              "      <td>NaN</td>\n",
              "      <td>-74.0045</td>\n",
              "      <td>40.7411</td>\n",
              "    </tr>\n",
              "    <tr>\n",
              "      <th>34233</th>\n",
              "      <td>NaN</td>\n",
              "      <td>NaN</td>\n",
              "      <td>-74.0059</td>\n",
              "      <td>40.7128</td>\n",
              "    </tr>\n",
              "    <tr>\n",
              "      <th>42898</th>\n",
              "      <td>NaN</td>\n",
              "      <td>NaN</td>\n",
              "      <td>-73.9543</td>\n",
              "      <td>40.7447</td>\n",
              "    </tr>\n",
              "    <tr>\n",
              "      <th>42905</th>\n",
              "      <td>NaN</td>\n",
              "      <td>NaN</td>\n",
              "      <td>-73.9948</td>\n",
              "      <td>40.7589</td>\n",
              "    </tr>\n",
              "    <tr>\n",
              "      <th>43308</th>\n",
              "      <td>NaN</td>\n",
              "      <td>NaN</td>\n",
              "      <td>-74.0059</td>\n",
              "      <td>40.7128</td>\n",
              "    </tr>\n",
              "    <tr>\n",
              "      <th>46454</th>\n",
              "      <td>A FABULOUS 4BR IN GRAMERCY!!   PERFECT APARTME...</td>\n",
              "      <td>NaN</td>\n",
              "      <td>-74.0059</td>\n",
              "      <td>40.7128</td>\n",
              "    </tr>\n",
              "    <tr>\n",
              "      <th>47761</th>\n",
              "      <td>NaN</td>\n",
              "      <td>NaN</td>\n",
              "      <td>-73.9219</td>\n",
              "      <td>40.8500</td>\n",
              "    </tr>\n",
              "  </tbody>\n",
              "</table>\n",
              "</div>"
            ],
            "text/plain": [
              "                                         display_address  ... latitude\n",
              "18037                                                NaN  ...  40.7128\n",
              "18096                                                NaN  ...  40.7128\n",
              "24543                                                NaN  ...  40.7128\n",
              "26196                                                NaN  ...  40.7411\n",
              "34233                                                NaN  ...  40.7128\n",
              "42898                                                NaN  ...  40.7447\n",
              "42905                                                NaN  ...  40.7589\n",
              "43308                                                NaN  ...  40.7128\n",
              "46454  A FABULOUS 4BR IN GRAMERCY!!   PERFECT APARTME...  ...  40.7128\n",
              "47761                                                NaN  ...  40.8500\n",
              "\n",
              "[10 rows x 4 columns]"
            ]
          },
          "metadata": {
            "tags": []
          },
          "execution_count": 73
        }
      ]
    },
    {
      "cell_type": "code",
      "metadata": {
        "id": "8K8AV2r1exAe",
        "colab_type": "code",
        "colab": {}
      },
      "source": [
        "def long_lat_to_address(row):\n",
        "  results = reverse_geocode([row['longitude'], row['latitude']])\n",
        "  return results['address']['Address']"
      ],
      "execution_count": 0,
      "outputs": []
    },
    {
      "cell_type": "code",
      "metadata": {
        "id": "ed194M2UebX1",
        "colab_type": "code",
        "colab": {
          "base_uri": "https://localhost:8080/",
          "height": 352
        },
        "outputId": "01f415a8-6ca6-461b-afac-d929e18be1ef"
      },
      "source": [
        "new_street_addresses = pd.DataFrame(address[address['street_address'].isnull()].apply(long_lat_to_address, axis=1), columns=['street_address'])\n",
        "new_street_addresses"
      ],
      "execution_count": 75,
      "outputs": [
        {
          "output_type": "execute_result",
          "data": {
            "text/html": [
              "<div>\n",
              "<style scoped>\n",
              "    .dataframe tbody tr th:only-of-type {\n",
              "        vertical-align: middle;\n",
              "    }\n",
              "\n",
              "    .dataframe tbody tr th {\n",
              "        vertical-align: top;\n",
              "    }\n",
              "\n",
              "    .dataframe thead th {\n",
              "        text-align: right;\n",
              "    }\n",
              "</style>\n",
              "<table border=\"1\" class=\"dataframe\">\n",
              "  <thead>\n",
              "    <tr style=\"text-align: right;\">\n",
              "      <th></th>\n",
              "      <th>street_address</th>\n",
              "    </tr>\n",
              "  </thead>\n",
              "  <tbody>\n",
              "    <tr>\n",
              "      <th>18037</th>\n",
              "      <td>254 Broadway</td>\n",
              "    </tr>\n",
              "    <tr>\n",
              "      <th>18096</th>\n",
              "      <td>254 Broadway</td>\n",
              "    </tr>\n",
              "    <tr>\n",
              "      <th>24543</th>\n",
              "      <td>254 Broadway</td>\n",
              "    </tr>\n",
              "    <tr>\n",
              "      <th>26196</th>\n",
              "      <td>56 9th Ave</td>\n",
              "    </tr>\n",
              "    <tr>\n",
              "      <th>34233</th>\n",
              "      <td>254 Broadway</td>\n",
              "    </tr>\n",
              "    <tr>\n",
              "      <th>42898</th>\n",
              "      <td>546 47th Rd</td>\n",
              "    </tr>\n",
              "    <tr>\n",
              "      <th>42905</th>\n",
              "      <td>470 W 42nd St</td>\n",
              "    </tr>\n",
              "    <tr>\n",
              "      <th>43308</th>\n",
              "      <td>254 Broadway</td>\n",
              "    </tr>\n",
              "    <tr>\n",
              "      <th>46454</th>\n",
              "      <td>254 Broadway</td>\n",
              "    </tr>\n",
              "    <tr>\n",
              "      <th>47761</th>\n",
              "      <td>1655 Undercliff Ave</td>\n",
              "    </tr>\n",
              "  </tbody>\n",
              "</table>\n",
              "</div>"
            ],
            "text/plain": [
              "            street_address\n",
              "18037         254 Broadway\n",
              "18096         254 Broadway\n",
              "24543         254 Broadway\n",
              "26196           56 9th Ave\n",
              "34233         254 Broadway\n",
              "42898          546 47th Rd\n",
              "42905        470 W 42nd St\n",
              "43308         254 Broadway\n",
              "46454         254 Broadway\n",
              "47761  1655 Undercliff Ave"
            ]
          },
          "metadata": {
            "tags": []
          },
          "execution_count": 75
        }
      ]
    },
    {
      "cell_type": "code",
      "metadata": {
        "id": "mXF42Zbzgx4z",
        "colab_type": "code",
        "colab": {
          "base_uri": "https://localhost:8080/",
          "height": 352
        },
        "outputId": "f32c081a-bf11-4d3e-9ccc-001d9ae76bc8"
      },
      "source": [
        "address.update(new_street_addresses)\n",
        "address[cond_null_sa]"
      ],
      "execution_count": 76,
      "outputs": [
        {
          "output_type": "execute_result",
          "data": {
            "text/html": [
              "<div>\n",
              "<style scoped>\n",
              "    .dataframe tbody tr th:only-of-type {\n",
              "        vertical-align: middle;\n",
              "    }\n",
              "\n",
              "    .dataframe tbody tr th {\n",
              "        vertical-align: top;\n",
              "    }\n",
              "\n",
              "    .dataframe thead th {\n",
              "        text-align: right;\n",
              "    }\n",
              "</style>\n",
              "<table border=\"1\" class=\"dataframe\">\n",
              "  <thead>\n",
              "    <tr style=\"text-align: right;\">\n",
              "      <th></th>\n",
              "      <th>display_address</th>\n",
              "      <th>street_address</th>\n",
              "      <th>longitude</th>\n",
              "      <th>latitude</th>\n",
              "    </tr>\n",
              "  </thead>\n",
              "  <tbody>\n",
              "    <tr>\n",
              "      <th>18037</th>\n",
              "      <td>NaN</td>\n",
              "      <td>254 Broadway</td>\n",
              "      <td>-74.0059</td>\n",
              "      <td>40.7128</td>\n",
              "    </tr>\n",
              "    <tr>\n",
              "      <th>18096</th>\n",
              "      <td>NaN</td>\n",
              "      <td>254 Broadway</td>\n",
              "      <td>-74.0059</td>\n",
              "      <td>40.7128</td>\n",
              "    </tr>\n",
              "    <tr>\n",
              "      <th>24543</th>\n",
              "      <td>NaN</td>\n",
              "      <td>254 Broadway</td>\n",
              "      <td>-74.0059</td>\n",
              "      <td>40.7128</td>\n",
              "    </tr>\n",
              "    <tr>\n",
              "      <th>26196</th>\n",
              "      <td>NaN</td>\n",
              "      <td>56 9th Ave</td>\n",
              "      <td>-74.0045</td>\n",
              "      <td>40.7411</td>\n",
              "    </tr>\n",
              "    <tr>\n",
              "      <th>34233</th>\n",
              "      <td>NaN</td>\n",
              "      <td>254 Broadway</td>\n",
              "      <td>-74.0059</td>\n",
              "      <td>40.7128</td>\n",
              "    </tr>\n",
              "    <tr>\n",
              "      <th>42898</th>\n",
              "      <td>NaN</td>\n",
              "      <td>546 47th Rd</td>\n",
              "      <td>-73.9543</td>\n",
              "      <td>40.7447</td>\n",
              "    </tr>\n",
              "    <tr>\n",
              "      <th>42905</th>\n",
              "      <td>NaN</td>\n",
              "      <td>470 W 42nd St</td>\n",
              "      <td>-73.9948</td>\n",
              "      <td>40.7589</td>\n",
              "    </tr>\n",
              "    <tr>\n",
              "      <th>43308</th>\n",
              "      <td>NaN</td>\n",
              "      <td>254 Broadway</td>\n",
              "      <td>-74.0059</td>\n",
              "      <td>40.7128</td>\n",
              "    </tr>\n",
              "    <tr>\n",
              "      <th>46454</th>\n",
              "      <td>A FABULOUS 4BR IN GRAMERCY!!   PERFECT APARTME...</td>\n",
              "      <td>254 Broadway</td>\n",
              "      <td>-74.0059</td>\n",
              "      <td>40.7128</td>\n",
              "    </tr>\n",
              "    <tr>\n",
              "      <th>47761</th>\n",
              "      <td>NaN</td>\n",
              "      <td>1655 Undercliff Ave</td>\n",
              "      <td>-73.9219</td>\n",
              "      <td>40.8500</td>\n",
              "    </tr>\n",
              "  </tbody>\n",
              "</table>\n",
              "</div>"
            ],
            "text/plain": [
              "                                         display_address  ... latitude\n",
              "18037                                                NaN  ...  40.7128\n",
              "18096                                                NaN  ...  40.7128\n",
              "24543                                                NaN  ...  40.7128\n",
              "26196                                                NaN  ...  40.7411\n",
              "34233                                                NaN  ...  40.7128\n",
              "42898                                                NaN  ...  40.7447\n",
              "42905                                                NaN  ...  40.7589\n",
              "43308                                                NaN  ...  40.7128\n",
              "46454  A FABULOUS 4BR IN GRAMERCY!!   PERFECT APARTME...  ...  40.7128\n",
              "47761                                                NaN  ...  40.8500\n",
              "\n",
              "[10 rows x 4 columns]"
            ]
          },
          "metadata": {
            "tags": []
          },
          "execution_count": 76
        }
      ]
    },
    {
      "cell_type": "code",
      "metadata": {
        "id": "5uc1r6JOqvMX",
        "colab_type": "code",
        "colab": {
          "base_uri": "https://localhost:8080/",
          "height": 411
        },
        "outputId": "be0d1fbd-bc47-498c-80af-be20214a8655"
      },
      "source": [
        "condition_null_da = address['display_address'].isnull()\n",
        "address[condition_null_da]"
      ],
      "execution_count": 77,
      "outputs": [
        {
          "output_type": "execute_result",
          "data": {
            "text/html": [
              "<div>\n",
              "<style scoped>\n",
              "    .dataframe tbody tr th:only-of-type {\n",
              "        vertical-align: middle;\n",
              "    }\n",
              "\n",
              "    .dataframe tbody tr th {\n",
              "        vertical-align: top;\n",
              "    }\n",
              "\n",
              "    .dataframe thead th {\n",
              "        text-align: right;\n",
              "    }\n",
              "</style>\n",
              "<table border=\"1\" class=\"dataframe\">\n",
              "  <thead>\n",
              "    <tr style=\"text-align: right;\">\n",
              "      <th></th>\n",
              "      <th>display_address</th>\n",
              "      <th>street_address</th>\n",
              "      <th>longitude</th>\n",
              "      <th>latitude</th>\n",
              "    </tr>\n",
              "  </thead>\n",
              "  <tbody>\n",
              "    <tr>\n",
              "      <th>244</th>\n",
              "      <td>NaN</td>\n",
              "      <td>80 Madison Avenue</td>\n",
              "      <td>-73.9859</td>\n",
              "      <td>40.7443</td>\n",
              "    </tr>\n",
              "    <tr>\n",
              "      <th>1178</th>\n",
              "      <td>NaN</td>\n",
              "      <td>602 W 146 st</td>\n",
              "      <td>-73.9271</td>\n",
              "      <td>40.8390</td>\n",
              "    </tr>\n",
              "    <tr>\n",
              "      <th>2308</th>\n",
              "      <td>NaN</td>\n",
              "      <td>527 W 48th St #1RW</td>\n",
              "      <td>-73.9939</td>\n",
              "      <td>40.7642</td>\n",
              "    </tr>\n",
              "    <tr>\n",
              "      <th>2911</th>\n",
              "      <td>NaN</td>\n",
              "      <td>5313 6th Ave</td>\n",
              "      <td>-74.0100</td>\n",
              "      <td>40.6416</td>\n",
              "    </tr>\n",
              "    <tr>\n",
              "      <th>3401</th>\n",
              "      <td>NaN</td>\n",
              "      <td>3333 Broadway</td>\n",
              "      <td>-73.9569</td>\n",
              "      <td>40.8196</td>\n",
              "    </tr>\n",
              "    <tr>\n",
              "      <th>...</th>\n",
              "      <td>...</td>\n",
              "      <td>...</td>\n",
              "      <td>...</td>\n",
              "      <td>...</td>\n",
              "    </tr>\n",
              "    <tr>\n",
              "      <th>47761</th>\n",
              "      <td>NaN</td>\n",
              "      <td>1655 Undercliff Ave</td>\n",
              "      <td>-73.9219</td>\n",
              "      <td>40.8500</td>\n",
              "    </tr>\n",
              "    <tr>\n",
              "      <th>48030</th>\n",
              "      <td>NaN</td>\n",
              "      <td>185 E 3rd St</td>\n",
              "      <td>-73.9837</td>\n",
              "      <td>40.7231</td>\n",
              "    </tr>\n",
              "    <tr>\n",
              "      <th>48370</th>\n",
              "      <td>NaN</td>\n",
              "      <td>328 E 14th St</td>\n",
              "      <td>-73.9839</td>\n",
              "      <td>40.7316</td>\n",
              "    </tr>\n",
              "    <tr>\n",
              "      <th>49079</th>\n",
              "      <td>NaN</td>\n",
              "      <td>1073 1st avenue</td>\n",
              "      <td>-73.9627</td>\n",
              "      <td>40.7583</td>\n",
              "    </tr>\n",
              "    <tr>\n",
              "      <th>49086</th>\n",
              "      <td>NaN</td>\n",
              "      <td>163 E 36th St</td>\n",
              "      <td>-73.9775</td>\n",
              "      <td>40.7474</td>\n",
              "    </tr>\n",
              "  </tbody>\n",
              "</table>\n",
              "<p>133 rows × 4 columns</p>\n",
              "</div>"
            ],
            "text/plain": [
              "      display_address       street_address  longitude  latitude\n",
              "244               NaN    80 Madison Avenue   -73.9859   40.7443\n",
              "1178              NaN         602 W 146 st   -73.9271   40.8390\n",
              "2308              NaN   527 W 48th St #1RW   -73.9939   40.7642\n",
              "2911              NaN         5313 6th Ave   -74.0100   40.6416\n",
              "3401              NaN        3333 Broadway   -73.9569   40.8196\n",
              "...               ...                  ...        ...       ...\n",
              "47761             NaN  1655 Undercliff Ave   -73.9219   40.8500\n",
              "48030             NaN         185 E 3rd St   -73.9837   40.7231\n",
              "48370             NaN        328 E 14th St   -73.9839   40.7316\n",
              "49079             NaN      1073 1st avenue   -73.9627   40.7583\n",
              "49086             NaN        163 E 36th St   -73.9775   40.7474\n",
              "\n",
              "[133 rows x 4 columns]"
            ]
          },
          "metadata": {
            "tags": []
          },
          "execution_count": 77
        }
      ]
    },
    {
      "cell_type": "code",
      "metadata": {
        "id": "xACAn36PJwv9",
        "colab_type": "code",
        "colab": {
          "base_uri": "https://localhost:8080/",
          "height": 411
        },
        "outputId": "5d5a43ac-e4d5-42b2-e128-34f872439075"
      },
      "source": [
        "address[condition_null_da]['street_address'].str.extract('[0-9]+[0-9a-zA-Z]+ (.*)')"
      ],
      "execution_count": 78,
      "outputs": [
        {
          "output_type": "execute_result",
          "data": {
            "text/html": [
              "<div>\n",
              "<style scoped>\n",
              "    .dataframe tbody tr th:only-of-type {\n",
              "        vertical-align: middle;\n",
              "    }\n",
              "\n",
              "    .dataframe tbody tr th {\n",
              "        vertical-align: top;\n",
              "    }\n",
              "\n",
              "    .dataframe thead th {\n",
              "        text-align: right;\n",
              "    }\n",
              "</style>\n",
              "<table border=\"1\" class=\"dataframe\">\n",
              "  <thead>\n",
              "    <tr style=\"text-align: right;\">\n",
              "      <th></th>\n",
              "      <th>0</th>\n",
              "    </tr>\n",
              "  </thead>\n",
              "  <tbody>\n",
              "    <tr>\n",
              "      <th>244</th>\n",
              "      <td>Madison Avenue</td>\n",
              "    </tr>\n",
              "    <tr>\n",
              "      <th>1178</th>\n",
              "      <td>W 146 st</td>\n",
              "    </tr>\n",
              "    <tr>\n",
              "      <th>2308</th>\n",
              "      <td>W 48th St #1RW</td>\n",
              "    </tr>\n",
              "    <tr>\n",
              "      <th>2911</th>\n",
              "      <td>6th Ave</td>\n",
              "    </tr>\n",
              "    <tr>\n",
              "      <th>3401</th>\n",
              "      <td>Broadway</td>\n",
              "    </tr>\n",
              "    <tr>\n",
              "      <th>...</th>\n",
              "      <td>...</td>\n",
              "    </tr>\n",
              "    <tr>\n",
              "      <th>47761</th>\n",
              "      <td>Undercliff Ave</td>\n",
              "    </tr>\n",
              "    <tr>\n",
              "      <th>48030</th>\n",
              "      <td>E 3rd St</td>\n",
              "    </tr>\n",
              "    <tr>\n",
              "      <th>48370</th>\n",
              "      <td>E 14th St</td>\n",
              "    </tr>\n",
              "    <tr>\n",
              "      <th>49079</th>\n",
              "      <td>1st avenue</td>\n",
              "    </tr>\n",
              "    <tr>\n",
              "      <th>49086</th>\n",
              "      <td>E 36th St</td>\n",
              "    </tr>\n",
              "  </tbody>\n",
              "</table>\n",
              "<p>133 rows × 1 columns</p>\n",
              "</div>"
            ],
            "text/plain": [
              "                    0\n",
              "244    Madison Avenue\n",
              "1178         W 146 st\n",
              "2308   W 48th St #1RW\n",
              "2911          6th Ave\n",
              "3401         Broadway\n",
              "...               ...\n",
              "47761  Undercliff Ave\n",
              "48030        E 3rd St\n",
              "48370       E 14th St\n",
              "49079      1st avenue\n",
              "49086       E 36th St\n",
              "\n",
              "[133 rows x 1 columns]"
            ]
          },
          "metadata": {
            "tags": []
          },
          "execution_count": 78
        }
      ]
    },
    {
      "cell_type": "code",
      "metadata": {
        "id": "v8fk-fMbRQvB",
        "colab_type": "code",
        "colab": {
          "base_uri": "https://localhost:8080/",
          "height": 411
        },
        "outputId": "6ce0f8c6-3e61-4b85-f01e-3c869ae48ecc"
      },
      "source": [
        "fixed_display_address = address[condition_null_da]['street_address'].str.extract('[0-9]+[0-9a-zA-Z]+ (.*)')\n",
        "fixed_display_address.columns = ['display_address']\n",
        "fixed_display_address"
      ],
      "execution_count": 79,
      "outputs": [
        {
          "output_type": "execute_result",
          "data": {
            "text/html": [
              "<div>\n",
              "<style scoped>\n",
              "    .dataframe tbody tr th:only-of-type {\n",
              "        vertical-align: middle;\n",
              "    }\n",
              "\n",
              "    .dataframe tbody tr th {\n",
              "        vertical-align: top;\n",
              "    }\n",
              "\n",
              "    .dataframe thead th {\n",
              "        text-align: right;\n",
              "    }\n",
              "</style>\n",
              "<table border=\"1\" class=\"dataframe\">\n",
              "  <thead>\n",
              "    <tr style=\"text-align: right;\">\n",
              "      <th></th>\n",
              "      <th>display_address</th>\n",
              "    </tr>\n",
              "  </thead>\n",
              "  <tbody>\n",
              "    <tr>\n",
              "      <th>244</th>\n",
              "      <td>Madison Avenue</td>\n",
              "    </tr>\n",
              "    <tr>\n",
              "      <th>1178</th>\n",
              "      <td>W 146 st</td>\n",
              "    </tr>\n",
              "    <tr>\n",
              "      <th>2308</th>\n",
              "      <td>W 48th St #1RW</td>\n",
              "    </tr>\n",
              "    <tr>\n",
              "      <th>2911</th>\n",
              "      <td>6th Ave</td>\n",
              "    </tr>\n",
              "    <tr>\n",
              "      <th>3401</th>\n",
              "      <td>Broadway</td>\n",
              "    </tr>\n",
              "    <tr>\n",
              "      <th>...</th>\n",
              "      <td>...</td>\n",
              "    </tr>\n",
              "    <tr>\n",
              "      <th>47761</th>\n",
              "      <td>Undercliff Ave</td>\n",
              "    </tr>\n",
              "    <tr>\n",
              "      <th>48030</th>\n",
              "      <td>E 3rd St</td>\n",
              "    </tr>\n",
              "    <tr>\n",
              "      <th>48370</th>\n",
              "      <td>E 14th St</td>\n",
              "    </tr>\n",
              "    <tr>\n",
              "      <th>49079</th>\n",
              "      <td>1st avenue</td>\n",
              "    </tr>\n",
              "    <tr>\n",
              "      <th>49086</th>\n",
              "      <td>E 36th St</td>\n",
              "    </tr>\n",
              "  </tbody>\n",
              "</table>\n",
              "<p>133 rows × 1 columns</p>\n",
              "</div>"
            ],
            "text/plain": [
              "      display_address\n",
              "244    Madison Avenue\n",
              "1178         W 146 st\n",
              "2308   W 48th St #1RW\n",
              "2911          6th Ave\n",
              "3401         Broadway\n",
              "...               ...\n",
              "47761  Undercliff Ave\n",
              "48030        E 3rd St\n",
              "48370       E 14th St\n",
              "49079      1st avenue\n",
              "49086       E 36th St\n",
              "\n",
              "[133 rows x 1 columns]"
            ]
          },
          "metadata": {
            "tags": []
          },
          "execution_count": 79
        }
      ]
    },
    {
      "cell_type": "code",
      "metadata": {
        "id": "UlDz6mqmR2sU",
        "colab_type": "code",
        "colab": {
          "base_uri": "https://localhost:8080/",
          "height": 98
        },
        "outputId": "cf56361c-335a-43a9-f394-abc6a633e296"
      },
      "source": [
        "address.update(fixed_display_address)\n",
        "address.isnull().sum()"
      ],
      "execution_count": 80,
      "outputs": [
        {
          "output_type": "execute_result",
          "data": {
            "text/plain": [
              "display_address    3\n",
              "street_address     0\n",
              "longitude          0\n",
              "latitude           0\n",
              "dtype: int64"
            ]
          },
          "metadata": {
            "tags": []
          },
          "execution_count": 80
        }
      ]
    },
    {
      "cell_type": "markdown",
      "metadata": {
        "id": "AKFttNnOHavd",
        "colab_type": "text"
      },
      "source": [
        "#### **wrangle function**"
      ]
    },
    {
      "cell_type": "code",
      "metadata": {
        "id": "rcaHLfEADolT",
        "colab_type": "code",
        "colab": {}
      },
      "source": [
        "import sys\n",
        "if not 'arcgis' in sys.modules:\n",
        "  !pip install arcgis\n",
        "\n",
        "from arcgis.gis import GIS\n",
        "from arcgis.geocoding import reverse_geocode\n",
        "gis=GIS()\n",
        "\n",
        "# function to reverse geocode latitude and longitude into a street address\n",
        "# parameter 'row' = a pandas dataframe row with columns names 'latitude' and 'longitude'\n",
        "# https://developers.arcgis.com/python/guide/reverse-geocoding/\n",
        "def reverse_geocode_row(row):\n",
        "  location = [row['longitude'], row['latitude']]\n",
        "  results = reverse_geocode(location)\n",
        "  return results['address']['Address']\n",
        "\n",
        "def wrangle2(dataframe):\n",
        "  df = dataframe.copy()\n",
        "\n",
        "  # fill nulls with empty strings and strip leading and trailing whitespace in feature 'description'\n",
        "  df['description'] = df['description'].fillna('').str.lstrip().str.rstrip()\n",
        "\n",
        "  # add feature: 'has_description'\n",
        "  df['has_description'] = df['description'] != ''\n",
        "\n",
        "  # add feature: 'description_length'\n",
        "  df['description_length'] = df['description'].str.len()\n",
        "\n",
        "  # add feature: 'total_perks'\n",
        "  perk_features = ['elevator', 'cats_allowed', 'hardwood_floors', 'dogs_allowed', 'doorman', 'dishwasher',\n",
        "                  'no_fee', 'laundry_in_building', 'fitness_center', 'pre-war', 'laundry_in_unit',\n",
        "                  'roof_deck', 'outdoor_space', 'dining_room', 'high_speed_internet', 'balcony',\n",
        "                  'swimming_pool', 'new_construction', 'terrace', 'exclusive', 'loft', 'garden_patio',\n",
        "                  'wheelchair_access', 'common_outdoor_space'\n",
        "                  ]\n",
        "  df['total_perks'] = df[perk_features].sum(axis=1)\n",
        "\n",
        "  # add feature: 'cats_or_dogs_allowed'\n",
        "  pets_features = ['cats_allowed', 'dogs_allowed']\n",
        "  df['cats_or_dogs_allowed'] = df[pets_features].sum(axis=1) > 0\n",
        "\n",
        "  # add feature: 'cats_and_dogs_allowed'\n",
        "  df['cats_and_dogs_allowed'] = df[pets_features].sum(axis=1) == 2\n",
        "\n",
        "  # add feature: 'total_rooms'\n",
        "  rooms_features = ['bedrooms', 'bathrooms']\n",
        "  df['total_rooms'] = df[rooms_features].sum(axis=1)\n",
        "\n",
        "  # add feature: 'bed_bath_ratio'\n",
        "  df['bed_bath_ratio'] = (df['bedrooms'] / df['bathrooms']).fillna(0.0).replace(np.inf, 0.0)\n",
        "\n",
        "  # strip leading and trailing whitespace in features 'display_address' and 'street_address'\n",
        "  df['display_address'] = df['display_address'].str.lstrip().str.rstrip()\n",
        "  df['street_address'] = df['street_address'].str.lstrip().str.rstrip()\n",
        "\n",
        "  # fill in nulls in feature 'street_address'\n",
        "  new_street_addresses = pd.DataFrame(df[df['street_address'].isnull()].apply(reverse_geocode_row, axis=1), columns='street_address')\n",
        "  df.update(new_street_addresses)\n",
        "  assert df['street_address'].isnull().sum() == 0\n",
        "\n",
        "  # fill nulls in feature 'display address'\n",
        "  cond_null_da = df['display_address'].isnull()\n",
        "  new_display_addresses = df[cond_null_da]['street_address'].str.extract('[0-9]+[0-9a-zA-Z]+ (.*)')\n",
        "  new_display_addresses.columns = ['display_address']\n",
        "  df.upadte(new_display_addresses)\n",
        "  assert df['display_address'].isnull().sum() == 0\n",
        "\n",
        "  return df"
      ],
      "execution_count": 0,
      "outputs": []
    },
    {
      "cell_type": "markdown",
      "metadata": {
        "id": "CtFgWrOOHDKQ",
        "colab_type": "text"
      },
      "source": [
        "### train / test split"
      ]
    },
    {
      "cell_type": "code",
      "metadata": {
        "id": "fKu5hpxHEQ07",
        "colab_type": "code",
        "colab": {
          "base_uri": "https://localhost:8080/",
          "height": 32
        },
        "outputId": "390c2d33-80a3-4324-de7e-3d508ed9b1d1"
      },
      "source": [
        "df_train2 = wrangle(df2[df2['created'].dt.month != 6])\n",
        "df_test2 = wrangle(df2[df2['created'].dt.month == 6])\n",
        "df_train2.shape, df_test2.shape"
      ],
      "execution_count": 82,
      "outputs": [
        {
          "output_type": "execute_result",
          "data": {
            "text/plain": [
              "((31844, 41), (16973, 41))"
            ]
          },
          "metadata": {
            "tags": []
          },
          "execution_count": 82
        }
      ]
    },
    {
      "cell_type": "markdown",
      "metadata": {
        "id": "ruuC4CtggNvm",
        "colab_type": "text"
      },
      "source": [
        "### define target and features"
      ]
    },
    {
      "cell_type": "code",
      "metadata": {
        "id": "EuG3jrTNfYHC",
        "colab_type": "code",
        "colab": {}
      },
      "source": [
        "target = 'price'\n",
        "features = df_train2.columns.drop(['created', target])\n",
        "\n",
        "X_train2 = df_train2[features]\n",
        "X_test2 = df_test2[features]\n",
        "\n",
        "y_train2 = df_train2[target]\n",
        "y_test2 = df_test2[target]"
      ],
      "execution_count": 0,
      "outputs": []
    },
    {
      "cell_type": "markdown",
      "metadata": {
        "id": "sa0Jc5I4gVUN",
        "colab_type": "text"
      },
      "source": [
        "### encode, fit model, predict"
      ]
    },
    {
      "cell_type": "code",
      "metadata": {
        "id": "CPguAp_re_mD",
        "colab_type": "code",
        "colab": {
          "base_uri": "https://localhost:8080/",
          "height": 32
        },
        "outputId": "629fd1ed-7360-438d-c34d-dc5d94b24f71"
      },
      "source": [
        "encoder = OrdinalEncoder()\n",
        "\n",
        "X_train2_encoded = encoder.fit_transform(X_train2)\n",
        "X_test2_encoded = encoder.transform(X_test2)\n",
        "\n",
        "model = LinearRegression(n_jobs=-1)\n",
        "\n",
        "model.fit(X_train2_encoded, y_train2)\n",
        "\n",
        "y_pred2 = model.predict(X_test2_encoded)\n",
        "\n",
        "mae2 = mean_absolute_error(y_test2, y_pred2)\n",
        "\n",
        "print(f'Test2 MAE: {mae2:.2f} dollars')"
      ],
      "execution_count": 89,
      "outputs": [
        {
          "output_type": "stream",
          "text": [
            "Test2 MAE: 695.88 dollars\n"
          ],
          "name": "stdout"
        }
      ]
    },
    {
      "cell_type": "markdown",
      "metadata": {
        "id": "F_nO0EAejDaY",
        "colab_type": "text"
      },
      "source": [
        "### another quick try, no feature engineering"
      ]
    },
    {
      "cell_type": "code",
      "metadata": {
        "id": "cVNU0P-EjG_s",
        "colab_type": "code",
        "colab": {
          "base_uri": "https://localhost:8080/",
          "height": 32
        },
        "outputId": "112d363a-dae3-4df4-c7d6-a42ff17470e3"
      },
      "source": [
        "df3 = df.copy()\n",
        "\n",
        "df_train3 = df3[df3['created'].dt.month != 6]\n",
        "df_test3 = df3[df3['created'].dt.month == 6]\n",
        "\n",
        "target = 'price'\n",
        "features = df_train3.columns.drop([target, 'created'])\n",
        "\n",
        "X_train3 = df_train3[features]\n",
        "X_test3 = df_test3[features]\n",
        "\n",
        "y_train3 = df_train3[target]\n",
        "y_test3 = df_test3[target]\n",
        "\n",
        "encoder = OrdinalEncoder()\n",
        "\n",
        "X_train3_encoded = encoder.fit_transform(X_train3)\n",
        "X_test3_encoded = encoder.transform(X_test3)\n",
        "\n",
        "model = LinearRegression(n_jobs=-1)\n",
        "\n",
        "model.fit(X_train3_encoded, y_train3)\n",
        "y_pred3 = model.predict(X_test3_encoded)\n",
        "\n",
        "mae3 = mean_absolute_error(y_test3, y_pred3)\n",
        "\n",
        "print(f'Test3 MAE: {mae3:.2f} dollars')"
      ],
      "execution_count": 90,
      "outputs": [
        {
          "output_type": "stream",
          "text": [
            "Test3 MAE: 701.48 dollars\n"
          ],
          "name": "stdout"
        }
      ]
    }
  ]
}