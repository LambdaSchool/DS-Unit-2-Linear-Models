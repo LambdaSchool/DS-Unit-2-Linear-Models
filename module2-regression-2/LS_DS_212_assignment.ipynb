{
 "cells": [
  {
   "cell_type": "markdown",
   "metadata": {},
   "source": [
    "Lambda School Data Science\n",
    "\n",
    "*Unit 2, Sprint 1, Module 2*\n",
    "\n",
    "---"
   ]
  },
  {
   "cell_type": "markdown",
   "metadata": {
    "colab_type": "text",
    "id": "7IXUfiQ2UKj6"
   },
   "source": [
    "# Regression 2\n",
    "\n",
    "## Assignment\n",
    "\n",
    "You'll continue to **predict how much it costs to rent an apartment in NYC,** using the dataset from renthop.com.\n",
    "\n",
    "- [ ] Do train/test split. Use data from April & May 2016 to train. Use data from June 2016 to test.\n",
    "- [ ] Engineer at least two new features. (See below for explanation & ideas.)\n",
    "- [ ] Fit a linear regression model with at least two features.\n",
    "- [ ] Get the model's coefficients and intercept.\n",
    "- [ ] Get regression metrics RMSE, MAE, and $R^2$, for both the train and test data.\n",
    "- [ ] What's the best test MAE you can get? Share your score and features used with your cohort on Slack!\n",
    "- [ ] As always, commit your notebook to your fork of the GitHub repo.\n",
    "\n",
    "\n",
    "#### [Feature Engineering](https://en.wikipedia.org/wiki/Feature_engineering)\n",
    "\n",
    "> \"Some machine learning projects succeed and some fail. What makes the difference? Easily the most important factor is the features used.\" — Pedro Domingos, [\"A Few Useful Things to Know about Machine Learning\"](https://homes.cs.washington.edu/~pedrod/papers/cacm12.pdf)\n",
    "\n",
    "> \"Coming up with features is difficult, time-consuming, requires expert knowledge. 'Applied machine learning' is basically feature engineering.\" — Andrew Ng, [Machine Learning and AI via Brain simulations](https://forum.stanford.edu/events/2011/2011slides/plenary/2011plenaryNg.pdf) \n",
    "\n",
    "> Feature engineering is the process of using domain knowledge of the data to create features that make machine learning algorithms work. \n",
    "\n",
    "#### Feature Ideas\n",
    "- Does the apartment have a description?\n",
    "- How long is the description?\n",
    "- How many total perks does each apartment have?\n",
    "- Are cats _or_ dogs allowed?\n",
    "- Are cats _and_ dogs allowed?\n",
    "- Total number of rooms (beds + baths)\n",
    "- Ratio of beds to baths\n",
    "- What's the neighborhood, based on address or latitude & longitude?\n",
    "\n",
    "## Stretch Goals\n",
    "- [ ] If you want more math, skim [_An Introduction to Statistical Learning_](http://faculty.marshall.usc.edu/gareth-james/ISL/ISLR%20Seventh%20Printing.pdf),  Chapter 3.1, Simple Linear Regression, & Chapter 3.2, Multiple Linear Regression\n",
    "- [ ] If you want more introduction, watch [Brandon Foltz, Statistics 101: Simple Linear Regression](https://www.youtube.com/watch?v=ZkjP5RJLQF4)\n",
    "(20 minutes, over 1 million views)\n",
    "- [ ] Add your own stretch goal(s) !"
   ]
  },
  {
   "cell_type": "code",
   "execution_count": null,
   "metadata": {},
   "outputs": [],
   "source": []
  },
  {
   "cell_type": "code",
   "execution_count": 1,
   "metadata": {
    "colab": {},
    "colab_type": "code",
    "id": "o9eSnDYhUGD7"
   },
   "outputs": [],
   "source": [
    "%%capture\n",
    "import sys\n",
    "\n",
    "# If you're on Colab:\n",
    "if 'google.colab' in sys.modules:\n",
    "    DATA_PATH = 'https://raw.githubusercontent.com/LambdaSchool/DS-Unit-2-Applied-Modeling/master/data/'\n",
    "    !pip install category_encoders==2.*\n",
    "\n",
    "# If you're working locally:\n",
    "else:\n",
    "    DATA_PATH = '../data/'\n",
    "    \n",
    "# Ignore this Numpy warning when using Plotly Express:\n",
    "# FutureWarning: Method .ptp is deprecated and will be removed in a future version. Use numpy.ptp instead.\n",
    "import warnings\n",
    "warnings.filterwarnings(action='ignore', category=FutureWarning, module='numpy')"
   ]
  },
  {
   "cell_type": "code",
   "execution_count": 2,
   "metadata": {
    "colab": {},
    "colab_type": "code",
    "id": "cvrw-T3bZOuW"
   },
   "outputs": [],
   "source": [
    "import numpy as np\n",
    "import pandas as pd\n",
    "\n",
    "# Read New York City apartment rental listing data\n",
    "df = pd.read_csv(DATA_PATH+'apartments/renthop-nyc.csv')\n",
    "assert df.shape == (49352, 34)\n",
    "\n",
    "# Remove the most extreme 1% prices,\n",
    "# the most extreme .1% latitudes, &\n",
    "# the most extreme .1% longitudes\n",
    "df = df[(df['price'] >= np.percentile(df['price'], 0.5)) & \n",
    "        (df['price'] <= np.percentile(df['price'], 99.5)) & \n",
    "        (df['latitude'] >= np.percentile(df['latitude'], 0.05)) & \n",
    "        (df['latitude'] < np.percentile(df['latitude'], 99.95)) &\n",
    "        (df['longitude'] >= np.percentile(df['longitude'], 0.05)) & \n",
    "        (df['longitude'] <= np.percentile(df['longitude'], 99.95))]"
   ]
  },
  {
   "cell_type": "code",
   "execution_count": 3,
   "metadata": {},
   "outputs": [],
   "source": [
    "#- [ ] Do train/test split. Use data from April & May 2016 to train. Use data from June 2016 to test.\n",
    "\n",
    "df['created_month'] = pd.DatetimeIndex(df.created).month \n",
    "df['created_year'] = pd.DatetimeIndex(df.created).year \n",
    "df['amenities'] = df[['fitness_center','roof_deck','dining_room',\n",
    "                      'balcony','high_speed_internet','swimming_pool',\n",
    "                      'terrace','exclusive','hardwood_floors','outdoor_space']].sum(axis =1)\n",
    "\n",
    "\n",
    "testm = (df['created_month'] == 6) \n",
    "y2k16 = ( df['created_year'] == 2016)\n",
    "trainm = (4 <= df['created_month']) & (df['created_month'] <= 5)\n",
    "#bool filters\n",
    "train = trainm & y2k16\n",
    "test = testm & y2k16\n",
    "\n",
    "df_train = df[train]\n",
    "df_test  = df[test]"
   ]
  },
  {
   "cell_type": "code",
   "execution_count": 4,
   "metadata": {},
   "outputs": [
    {
     "data": {
      "text/html": [
       "<div>\n",
       "<style scoped>\n",
       "    .dataframe tbody tr th:only-of-type {\n",
       "        vertical-align: middle;\n",
       "    }\n",
       "\n",
       "    .dataframe tbody tr th {\n",
       "        vertical-align: top;\n",
       "    }\n",
       "\n",
       "    .dataframe thead th {\n",
       "        text-align: right;\n",
       "    }\n",
       "</style>\n",
       "<table border=\"1\" class=\"dataframe\">\n",
       "  <thead>\n",
       "    <tr style=\"text-align: right;\">\n",
       "      <th></th>\n",
       "      <th>bathrooms</th>\n",
       "      <th>bedrooms</th>\n",
       "      <th>created</th>\n",
       "      <th>description</th>\n",
       "      <th>display_address</th>\n",
       "      <th>latitude</th>\n",
       "      <th>longitude</th>\n",
       "      <th>price</th>\n",
       "      <th>street_address</th>\n",
       "      <th>interest_level</th>\n",
       "      <th>...</th>\n",
       "      <th>loft</th>\n",
       "      <th>garden_patio</th>\n",
       "      <th>wheelchair_access</th>\n",
       "      <th>common_outdoor_space</th>\n",
       "      <th>created_month</th>\n",
       "      <th>created_year</th>\n",
       "      <th>amenities</th>\n",
       "      <th>bedbath</th>\n",
       "      <th>l_offs</th>\n",
       "      <th>day</th>\n",
       "    </tr>\n",
       "  </thead>\n",
       "  <tbody>\n",
       "    <tr>\n",
       "      <td>0</td>\n",
       "      <td>1.5</td>\n",
       "      <td>3</td>\n",
       "      <td>2016-06-24 07:54:24</td>\n",
       "      <td>A Brand New 3 Bedroom 1.5 bath ApartmentEnjoy ...</td>\n",
       "      <td>Metropolitan Avenue</td>\n",
       "      <td>40.7145</td>\n",
       "      <td>-73.9425</td>\n",
       "      <td>3000</td>\n",
       "      <td>792 Metropolitan Avenue</td>\n",
       "      <td>medium</td>\n",
       "      <td>...</td>\n",
       "      <td>0</td>\n",
       "      <td>0</td>\n",
       "      <td>0</td>\n",
       "      <td>0</td>\n",
       "      <td>6</td>\n",
       "      <td>2016</td>\n",
       "      <td>0</td>\n",
       "      <td>4.5</td>\n",
       "      <td>0.0385</td>\n",
       "      <td>24</td>\n",
       "    </tr>\n",
       "    <tr>\n",
       "      <td>1</td>\n",
       "      <td>1.0</td>\n",
       "      <td>2</td>\n",
       "      <td>2016-06-12 12:19:27</td>\n",
       "      <td></td>\n",
       "      <td>Columbus Avenue</td>\n",
       "      <td>40.7947</td>\n",
       "      <td>-73.9667</td>\n",
       "      <td>5465</td>\n",
       "      <td>808 Columbus Avenue</td>\n",
       "      <td>low</td>\n",
       "      <td>...</td>\n",
       "      <td>0</td>\n",
       "      <td>0</td>\n",
       "      <td>0</td>\n",
       "      <td>0</td>\n",
       "      <td>6</td>\n",
       "      <td>2016</td>\n",
       "      <td>1</td>\n",
       "      <td>2.0</td>\n",
       "      <td>0.0417</td>\n",
       "      <td>12</td>\n",
       "    </tr>\n",
       "    <tr>\n",
       "      <td>2</td>\n",
       "      <td>1.0</td>\n",
       "      <td>1</td>\n",
       "      <td>2016-04-17 03:26:41</td>\n",
       "      <td>Top Top West Village location, beautiful Pre-w...</td>\n",
       "      <td>W 13 Street</td>\n",
       "      <td>40.7388</td>\n",
       "      <td>-74.0018</td>\n",
       "      <td>2850</td>\n",
       "      <td>241 W 13 Street</td>\n",
       "      <td>high</td>\n",
       "      <td>...</td>\n",
       "      <td>0</td>\n",
       "      <td>0</td>\n",
       "      <td>0</td>\n",
       "      <td>0</td>\n",
       "      <td>4</td>\n",
       "      <td>2016</td>\n",
       "      <td>1</td>\n",
       "      <td>1.0</td>\n",
       "      <td>0.0142</td>\n",
       "      <td>17</td>\n",
       "    </tr>\n",
       "    <tr>\n",
       "      <td>3</td>\n",
       "      <td>1.0</td>\n",
       "      <td>1</td>\n",
       "      <td>2016-04-18 02:22:02</td>\n",
       "      <td>Building Amenities - Garage - Garden - fitness...</td>\n",
       "      <td>East 49th Street</td>\n",
       "      <td>40.7539</td>\n",
       "      <td>-73.9677</td>\n",
       "      <td>3275</td>\n",
       "      <td>333 East 49th Street</td>\n",
       "      <td>low</td>\n",
       "      <td>...</td>\n",
       "      <td>0</td>\n",
       "      <td>0</td>\n",
       "      <td>0</td>\n",
       "      <td>0</td>\n",
       "      <td>4</td>\n",
       "      <td>2016</td>\n",
       "      <td>1</td>\n",
       "      <td>1.0</td>\n",
       "      <td>0.0009</td>\n",
       "      <td>18</td>\n",
       "    </tr>\n",
       "    <tr>\n",
       "      <td>4</td>\n",
       "      <td>1.0</td>\n",
       "      <td>4</td>\n",
       "      <td>2016-04-28 01:32:41</td>\n",
       "      <td>Beautifully renovated 3 bedroom flex 4 bedroom...</td>\n",
       "      <td>West 143rd Street</td>\n",
       "      <td>40.8241</td>\n",
       "      <td>-73.9493</td>\n",
       "      <td>3350</td>\n",
       "      <td>500 West 143rd Street</td>\n",
       "      <td>low</td>\n",
       "      <td>...</td>\n",
       "      <td>0</td>\n",
       "      <td>0</td>\n",
       "      <td>0</td>\n",
       "      <td>0</td>\n",
       "      <td>4</td>\n",
       "      <td>2016</td>\n",
       "      <td>0</td>\n",
       "      <td>4.0</td>\n",
       "      <td>0.0711</td>\n",
       "      <td>28</td>\n",
       "    </tr>\n",
       "  </tbody>\n",
       "</table>\n",
       "<p>5 rows × 40 columns</p>\n",
       "</div>"
      ],
      "text/plain": [
       "   bathrooms  bedrooms              created  \\\n",
       "0        1.5         3  2016-06-24 07:54:24   \n",
       "1        1.0         2  2016-06-12 12:19:27   \n",
       "2        1.0         1  2016-04-17 03:26:41   \n",
       "3        1.0         1  2016-04-18 02:22:02   \n",
       "4        1.0         4  2016-04-28 01:32:41   \n",
       "\n",
       "                                         description      display_address  \\\n",
       "0  A Brand New 3 Bedroom 1.5 bath ApartmentEnjoy ...  Metropolitan Avenue   \n",
       "1                                                         Columbus Avenue   \n",
       "2  Top Top West Village location, beautiful Pre-w...          W 13 Street   \n",
       "3  Building Amenities - Garage - Garden - fitness...     East 49th Street   \n",
       "4  Beautifully renovated 3 bedroom flex 4 bedroom...    West 143rd Street   \n",
       "\n",
       "   latitude  longitude  price           street_address interest_level  ...  \\\n",
       "0   40.7145   -73.9425   3000  792 Metropolitan Avenue         medium  ...   \n",
       "1   40.7947   -73.9667   5465      808 Columbus Avenue            low  ...   \n",
       "2   40.7388   -74.0018   2850          241 W 13 Street           high  ...   \n",
       "3   40.7539   -73.9677   3275     333 East 49th Street            low  ...   \n",
       "4   40.8241   -73.9493   3350    500 West 143rd Street            low  ...   \n",
       "\n",
       "   loft  garden_patio  wheelchair_access  common_outdoor_space  created_month  \\\n",
       "0     0             0                  0                     0              6   \n",
       "1     0             0                  0                     0              6   \n",
       "2     0             0                  0                     0              4   \n",
       "3     0             0                  0                     0              4   \n",
       "4     0             0                  0                     0              4   \n",
       "\n",
       "   created_year  amenities  bedbath  l_offs  day  \n",
       "0          2016          0      4.5  0.0385   24  \n",
       "1          2016          1      2.0  0.0417   12  \n",
       "2          2016          1      1.0  0.0142   17  \n",
       "3          2016          1      1.0  0.0009   18  \n",
       "4          2016          0      4.0  0.0711   28  \n",
       "\n",
       "[5 rows x 40 columns]"
      ]
     },
     "execution_count": 4,
     "metadata": {},
     "output_type": "execute_result"
    }
   ],
   "source": [
    "# Engineer at least two new features. (See below for explanation & ideas.)\n",
    "\n",
    "df['bedbath'] = df.bathrooms * df.bedrooms           #did this last HW bathrooms alone was just as good..\n",
    "df['l_offs'] = np.sqrt((40.753 - df.latitude)**2)    # how far is it off from the golden latitude  ##\n",
    "df['day'] =  pd.DatetimeIndex(df.created).day      #\n",
    "\n",
    "\n",
    "\n",
    "df[train].shape, df[test].shape\n",
    "df.head()\n",
    "\n"
   ]
  },
  {
   "cell_type": "code",
   "execution_count": 5,
   "metadata": {},
   "outputs": [
    {
     "data": {
      "text/plain": [
       "<matplotlib.collections.PathCollection at 0x7fd348d6fcd0>"
      ]
     },
     "execution_count": 5,
     "metadata": {},
     "output_type": "execute_result"
    }
   ],
   "source": [
    "#explore features\n",
    "import matplotlib.pyplot as plt\n",
    "\n",
    "x= df.interest_level  # need to be encoded\n",
    "x= df.description.str.len()  # \n",
    "x= df.wheelchair_access      # -\n",
    "x= df.common_outdoor_space   #common \n",
    "x=pd.DatetimeIndex(df.created).hour  \n",
    "x= df.loft              # - \n",
    "x0= df.bathrooms         #harder to manipulate bathrooms than bedrooms- need plumbing, permits etc etc\n",
    "x= df.bedbath\n",
    "y= df.price\n",
    "\n",
    "fig = plt.figure(figsize=(7,7))\n",
    "ax = plt.axes()\n",
    "ax.scatter(x, y, alpha= .01, color = 'red')  #bedbath\n",
    "ax.scatter(x0, y, alpha= .01)  # bathrooms alone\n"
   ]
  },
  {
   "cell_type": "code",
   "execution_count": 6,
   "metadata": {},
   "outputs": [
    {
     "data": {
      "text/plain": [
       "array([[519.94030452, 843.45209495]])"
      ]
     },
     "execution_count": 6,
     "metadata": {},
     "output_type": "execute_result"
    }
   ],
   "source": [
    "#Fit a linear regression model with at least two features.\n",
    "from sklearn.linear_model import LinearRegression\n",
    "model = LinearRegression()\n",
    "features = ['longitude','latitude','bedbath']\n",
    "features = ['bedbath','doorman']\n",
    "\n",
    "target = ['price']\n",
    "x_train = df[train][features]\n",
    "y_train = df[train][target]\n",
    "\n",
    "x_test = df[test][features]\n",
    "y_test = df[test][target]\n",
    "model.fit(x_train, y_train)        #crack! the model has been trained!\n",
    "y_train_pred = model.predict(x_train)  \n",
    "y_test_pred = model.predict(x_test)\n",
    "\n",
    "model.coef_"
   ]
  },
  {
   "cell_type": "code",
   "execution_count": 7,
   "metadata": {},
   "outputs": [
    {
     "name": "stdout",
     "output_type": "stream",
     "text": [
      "coef array  [[519.94030452 843.45209495]]\n",
      "intercept [2112.95391258]\n"
     ]
    }
   ],
   "source": [
    "#Get the model's coefficients and intercept.\n",
    "print('coef array ', model.coef_ )\n",
    "print('intercept', model.intercept_)"
   ]
  },
  {
   "cell_type": "code",
   "execution_count": 8,
   "metadata": {},
   "outputs": [
    {
     "name": "stdout",
     "output_type": "stream",
     "text": [
      "baseline price    3575.604007\n",
      "dtype: float64\n",
      "Baseline Mean abs  Error rental price: 1201.88 percentage points!\n",
      "\n",
      "\n",
      "for features  ['bedbath', 'doorman']\n",
      "training mae rental price: 785.99 percentage points!\n",
      "Mean Squared Error: 1456797.1538163163\n",
      "Root Mean Squared Error: 1206.978522516584\n",
      "Mean Absolute Error: 785.99075841082\n",
      "R^2: 0.530826436480603 \n",
      "\n",
      "\n",
      "Test MAE rental price: 787.38 percentage points!\n",
      "Mean Squared Error: 1427544.623915338\n",
      "Root Mean Squared Error: 1194.7989889162686\n",
      "Mean Absolute Error: 787.377895903015\n",
      "R^2: 0.5406902009709614\n"
     ]
    }
   ],
   "source": [
    "#Get regression metrics RMSE, MAE, and  𝑅2 , for both the train and test data.\n",
    "\n",
    "#train \n",
    "\n",
    "from sklearn.metrics import mean_absolute_error,  mean_squared_error, r2_score\n",
    "baseline = y_train.mean()\n",
    "print('baseline', baseline)\n",
    "mae = mean_absolute_error(y_train,  [baseline] * len(y_train))\n",
    "\n",
    "print(f'Baseline Mean abs  Error rental price: {mae:.2f} percentage points!\\n\\n')\n",
    "\n",
    "###train\n",
    "mae = mean_absolute_error(y_train, y_train_pred)\n",
    "print ('for features ',features)\n",
    "print(f'training mae rental price: {mae:.2f} percentage points!')\n",
    "y_pred = y_train_pred\n",
    "y = y_train \n",
    "mse = mean_squared_error(y, y_pred)\n",
    "rmse = np.sqrt(mse)\n",
    "mae = mean_absolute_error(y, y_pred)\n",
    "r2 = r2_score(y, y_pred)\n",
    "print('Mean Squared Error:', mse)\n",
    "print('Root Mean Squared Error:', rmse)\n",
    "print('Mean Absolute Error:', mae)\n",
    "print('R^2:', r2,'\\n\\n')\n",
    "\n",
    "###Test\n",
    "mae = mean_absolute_error(y_test, y_test_pred)\n",
    "print(f'Test MAE rental price: {mae:.2f} percentage points!')  \n",
    "y_pred = y_test_pred\n",
    "y = y_test \n",
    "\n",
    "mse = mean_squared_error(y, y_pred)\n",
    "rmse = np.sqrt(mse)\n",
    "mae = mean_absolute_error(y, y_pred)\n",
    "r2 = r2_score(y, y_pred)\n",
    "print('Mean Squared Error:', mse)\n",
    "print('Root Mean Squared Error:', rmse)\n",
    "print('Mean Absolute Error:', mae)\n",
    "print('R^2:', r2)"
   ]
  },
  {
   "cell_type": "code",
   "execution_count": 9,
   "metadata": {},
   "outputs": [
    {
     "data": {
      "text/plain": [
       "34"
      ]
     },
     "execution_count": 9,
     "metadata": {},
     "output_type": "execute_result"
    }
   ],
   "source": [
    "ncols = df.select_dtypes(include=np.number).columns.tolist()\n",
    "ncols.remove('price')\n",
    "len(ncols)"
   ]
  },
  {
   "cell_type": "code",
   "execution_count": 12,
   "metadata": {},
   "outputs": [
    {
     "name": "stdout",
     "output_type": "stream",
     "text": [
      "for features:  ['created_month' 'created_year' 'amenities' 'bedbath' 'l_offs' 'day']\n",
      "training mae rental price: 784.50 percentage points!\n",
      "best mae rental price: 684.45 percentage points!\n"
     ]
    }
   ],
   "source": [
    "##dont run, or change number of permutations to 2. \n",
    "\n",
    "ncols = df.select_dtypes(include=np.number).columns.tolist()\n",
    "ncols.remove('price')\n",
    "\n",
    "best_mae = mae \n",
    "target = ['price']\n",
    "y_test = df[test][target]\n",
    "y_train = df[train][target]\n",
    "\n",
    "from itertools import permutations, combinations\n",
    "fperms = combinations(ncols, 6)                                 \n",
    "results= [[]]\n",
    "for i in list(fperms):\n",
    "    features = np.array(i)\n",
    "    \n",
    "    x_train = df[train][features]\n",
    "    x_test = df[test][features]\n",
    "    model.fit(x_train, y_train)        #crack! the model has been trained!\n",
    "    y_train_pred = model.predict(x_train)  \n",
    "    y_test_pred = model.predict(x_test)\n",
    "    trainmae = mean_absolute_error(y_train, y_train_pred)\n",
    "    testmae = mean_absolute_error(y_test, y_test_pred)\n",
    "    \n",
    "    results.append([features, testmae])\n",
    "    if testmae < best_mae:\n",
    "        best_mae = testmae  \n",
    "\n",
    "###train\n",
    "print ('for features: ',features)\n",
    "print(f'training mae rental price: {trainmae:.2f} percentage points!')\n",
    "\n",
    "###Test\n",
    "print(f'best mae rental price: {best_mae:.2f} percentage points!')  #meh\n"
   ]
  },
  {
   "cell_type": "code",
   "execution_count": null,
   "metadata": {},
   "outputs": [],
   "source": [
    "res5 = pd.DataFrame(results,columns=['features', 'mean_abs_err'])\n"
   ]
  },
  {
   "cell_type": "code",
   "execution_count": null,
   "metadata": {},
   "outputs": [],
   "source": [
    "res5.shape"
   ]
  },
  {
   "attachments": {
    "Selection_068.png": {
     "image/png": "[encoded data removed]"
    }
   },
   "cell_type": "markdown",
   "metadata": {},
   "source": [
    "#What's the best test MAE you can get? Share your score and features used with your cohort on Slack!\n",
    "\n",
    "![Selection_068.png](attachment:Selection_068.png)\n",
    " #As always, commit your notebook to your fork of the GitHub repo.\n",
    "![Selection_072.png](Selection_072.png)\n",
    "    \n",
    "    "
   ]
  },
  {
   "cell_type": "code",
   "execution_count": null,
   "metadata": {},
   "outputs": [],
   "source": []
  }
 ],
 "metadata": {
  "kernelspec": {
   "display_name": "Python 3",
   "language": "python",
   "name": "python3"
  },
  "language_info": {
   "codemirror_mode": {
    "name": "ipython",
    "version": 3
   },
   "file_extension": ".py",
   "mimetype": "text/x-python",
   "name": "python",
   "nbconvert_exporter": "python",
   "pygments_lexer": "ipython3",
   "version": "3.7.4"
  }
 },
 "nbformat": 4,
 "nbformat_minor": 4
}
