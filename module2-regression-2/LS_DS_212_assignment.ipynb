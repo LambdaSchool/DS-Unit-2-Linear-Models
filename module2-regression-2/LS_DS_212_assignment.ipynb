{
  "nbformat": 4,
  "nbformat_minor": 0,
  "metadata": {
    "kernelspec": {
      "display_name": "Python 3",
      "language": "python",
      "name": "python3"
    },
    "language_info": {
      "codemirror_mode": {
        "name": "ipython",
        "version": 3
      },
      "file_extension": ".py",
      "mimetype": "text/x-python",
      "name": "python",
      "nbconvert_exporter": "python",
      "pygments_lexer": "ipython3",
      "version": "3.7.3"
    },
    "colab": {
      "name": "LS_DS_212_assignment.ipynb",
      "provenance": [],
      "collapsed_sections": [],
      "include_colab_link": true
    }
  },
  "cells": [
    {
      "cell_type": "markdown",
      "metadata": {
        "id": "view-in-github",
        "colab_type": "text"
      },
      "source": [
        "<a href=\"https://colab.research.google.com/github/shengjiyang/DS-Unit-2-Linear-Models/blob/master/module2-regression-2/LS_DS_212_assignment.ipynb\" target=\"_parent\"><img src=\"https://colab.research.google.com/assets/colab-badge.svg\" alt=\"Open In Colab\"/></a>"
      ]
    },
    {
      "cell_type": "markdown",
      "metadata": {
        "id": "CNtK9oINXOnx",
        "colab_type": "text"
      },
      "source": [
        "Lambda School Data Science\n",
        "\n",
        "*Unit 2, Sprint 1, Module 2*\n",
        "\n",
        "---"
      ]
    },
    {
      "cell_type": "markdown",
      "metadata": {
        "colab_type": "text",
        "id": "7IXUfiQ2UKj6"
      },
      "source": [
        "# Regression 2\n",
        "\n",
        "## Assignment\n",
        "\n",
        "You'll continue to **predict how much it costs to rent an apartment in NYC,** using the dataset from renthop.com.\n",
        "\n",
        "- [ ] Do train/test split. Use data from April & May 2016 to train. Use data from June 2016 to test.\n",
        "- [ ] Engineer at least two new features. (See below for explanation & ideas.)\n",
        "- [ ] Fit a linear regression model with at least two features.\n",
        "- [ ] Get the model's coefficients and intercept.\n",
        "- [ ] Get regression metrics RMSE, MAE, and $R^2$, for both the train and test data.\n",
        "- [ ] What's the best test MAE you can get? Share your score and features used with your cohort on Slack!\n",
        "- [ ] As always, commit your notebook to your fork of the GitHub repo.\n",
        "\n",
        "\n",
        "#### [Feature Engineering](https://en.wikipedia.org/wiki/Feature_engineering)\n",
        "\n",
        "> \"Some machine learning projects succeed and some fail. What makes the difference? Easily the most important factor is the features used.\" — Pedro Domingos, [\"A Few Useful Things to Know about Machine Learning\"](https://homes.cs.washington.edu/~pedrod/papers/cacm12.pdf)\n",
        "\n",
        "> \"Coming up with features is difficult, time-consuming, requires expert knowledge. 'Applied machine learning' is basically feature engineering.\" — Andrew Ng, [Machine Learning and AI via Brain simulations](https://forum.stanford.edu/events/2011/2011slides/plenary/2011plenaryNg.pdf) \n",
        "\n",
        "> Feature engineering is the process of using domain knowledge of the data to create features that make machine learning algorithms work. \n",
        "\n",
        "#### Feature Ideas\n",
        "- Does the apartment have a description?\n",
        "- How long is the description?\n",
        "- How many total perks does each apartment have?\n",
        "- Are cats _or_ dogs allowed?\n",
        "- Are cats _and_ dogs allowed?\n",
        "- Total number of rooms (beds + baths)\n",
        "- Ratio of beds to baths\n",
        "- What's the neighborhood, based on address or latitude & longitude?\n",
        "\n",
        "## Stretch Goals\n",
        "- [ ] If you want more math, skim [_An Introduction to Statistical Learning_](http://faculty.marshall.usc.edu/gareth-james/ISL/ISLR%20Seventh%20Printing.pdf),  Chapter 3.1, Simple Linear Regression, & Chapter 3.2, Multiple Linear Regression\n",
        "- [ ] If you want more introduction, watch [Brandon Foltz, Statistics 101: Simple Linear Regression](https://www.youtube.com/watch?v=ZkjP5RJLQF4)\n",
        "(20 minutes, over 1 million views)\n",
        "- [ ] Add your own stretch goal(s) !"
      ]
    },
    {
      "cell_type": "code",
      "metadata": {
        "colab_type": "code",
        "id": "o9eSnDYhUGD7",
        "colab": {}
      },
      "source": [
        "%%capture\n",
        "import sys\n",
        "\n",
        "# If you're on Colab:\n",
        "if 'google.colab' in sys.modules:\n",
        "    DATA_PATH = 'https://raw.githubusercontent.com/LambdaSchool/DS-Unit-2-Applied-Modeling/master/data/'\n",
        "    !pip install category_encoders==2.*\n",
        "\n",
        "# If you're working locally:\n",
        "else:\n",
        "    DATA_PATH = '../data/'\n",
        "    \n",
        "# Ignore this Numpy warning when using Plotly Express:\n",
        "# FutureWarning: Method .ptp is deprecated and will be removed in a future version. Use numpy.ptp instead.\n",
        "import warnings\n",
        "warnings.filterwarnings(action='ignore', category=FutureWarning, module='numpy')"
      ],
      "execution_count": 0,
      "outputs": []
    },
    {
      "cell_type": "code",
      "metadata": {
        "colab_type": "code",
        "id": "cvrw-T3bZOuW",
        "colab": {}
      },
      "source": [
        "import numpy as np\n",
        "import pandas as pd\n",
        "\n",
        "# Read New York City apartment rental listing data\n",
        "df = pd.read_csv(DATA_PATH+'apartments/renthop-nyc.csv')\n",
        "assert df.shape == (49352, 34)\n",
        "\n",
        "# Remove the most extreme 1% prices,\n",
        "# the most extreme .1% latitudes, &\n",
        "# the most extreme .1% longitudes\n",
        "df = df[(df['price'] >= np.percentile(df['price'], 0.5)) & \n",
        "        (df['price'] <= np.percentile(df['price'], 99.5)) & \n",
        "        (df['latitude'] >= np.percentile(df['latitude'], 0.05)) & \n",
        "        (df['latitude'] < np.percentile(df['latitude'], 99.95)) &\n",
        "        (df['longitude'] >= np.percentile(df['longitude'], 0.05)) & \n",
        "        (df['longitude'] <= np.percentile(df['longitude'], 99.95))]"
      ],
      "execution_count": 0,
      "outputs": []
    },
    {
      "cell_type": "code",
      "metadata": {
        "id": "nZefIR2_XdWz",
        "colab_type": "code",
        "colab": {
          "base_uri": "https://localhost:8080/",
          "height": 683
        },
        "outputId": "81e658ff-2ef1-4ae1-d771-417ae7c61ae2"
      },
      "source": [
        "print(df.shape)\n",
        "print(df.columns)\n",
        "df.head()"
      ],
      "execution_count": 39,
      "outputs": [
        {
          "output_type": "stream",
          "text": [
            "(48817, 34)\n",
            "Index(['bathrooms', 'bedrooms', 'created', 'description', 'display_address',\n",
            "       'latitude', 'longitude', 'price', 'street_address', 'interest_level',\n",
            "       'elevator', 'cats_allowed', 'hardwood_floors', 'dogs_allowed',\n",
            "       'doorman', 'dishwasher', 'no_fee', 'laundry_in_building',\n",
            "       'fitness_center', 'pre-war', 'laundry_in_unit', 'roof_deck',\n",
            "       'outdoor_space', 'dining_room', 'high_speed_internet', 'balcony',\n",
            "       'swimming_pool', 'new_construction', 'terrace', 'exclusive', 'loft',\n",
            "       'garden_patio', 'wheelchair_access', 'common_outdoor_space'],\n",
            "      dtype='object')\n"
          ],
          "name": "stdout"
        },
        {
          "output_type": "execute_result",
          "data": {
            "text/html": [
              "<div>\n",
              "<style scoped>\n",
              "    .dataframe tbody tr th:only-of-type {\n",
              "        vertical-align: middle;\n",
              "    }\n",
              "\n",
              "    .dataframe tbody tr th {\n",
              "        vertical-align: top;\n",
              "    }\n",
              "\n",
              "    .dataframe thead th {\n",
              "        text-align: right;\n",
              "    }\n",
              "</style>\n",
              "<table border=\"1\" class=\"dataframe\">\n",
              "  <thead>\n",
              "    <tr style=\"text-align: right;\">\n",
              "      <th></th>\n",
              "      <th>bathrooms</th>\n",
              "      <th>bedrooms</th>\n",
              "      <th>created</th>\n",
              "      <th>description</th>\n",
              "      <th>display_address</th>\n",
              "      <th>latitude</th>\n",
              "      <th>longitude</th>\n",
              "      <th>price</th>\n",
              "      <th>street_address</th>\n",
              "      <th>interest_level</th>\n",
              "      <th>elevator</th>\n",
              "      <th>cats_allowed</th>\n",
              "      <th>hardwood_floors</th>\n",
              "      <th>dogs_allowed</th>\n",
              "      <th>doorman</th>\n",
              "      <th>dishwasher</th>\n",
              "      <th>no_fee</th>\n",
              "      <th>laundry_in_building</th>\n",
              "      <th>fitness_center</th>\n",
              "      <th>pre-war</th>\n",
              "      <th>laundry_in_unit</th>\n",
              "      <th>roof_deck</th>\n",
              "      <th>outdoor_space</th>\n",
              "      <th>dining_room</th>\n",
              "      <th>high_speed_internet</th>\n",
              "      <th>balcony</th>\n",
              "      <th>swimming_pool</th>\n",
              "      <th>new_construction</th>\n",
              "      <th>terrace</th>\n",
              "      <th>exclusive</th>\n",
              "      <th>loft</th>\n",
              "      <th>garden_patio</th>\n",
              "      <th>wheelchair_access</th>\n",
              "      <th>common_outdoor_space</th>\n",
              "    </tr>\n",
              "  </thead>\n",
              "  <tbody>\n",
              "    <tr>\n",
              "      <th>0</th>\n",
              "      <td>1.5</td>\n",
              "      <td>3</td>\n",
              "      <td>2016-06-24 07:54:24</td>\n",
              "      <td>A Brand New 3 Bedroom 1.5 bath ApartmentEnjoy ...</td>\n",
              "      <td>Metropolitan Avenue</td>\n",
              "      <td>40.7145</td>\n",
              "      <td>-73.9425</td>\n",
              "      <td>3000</td>\n",
              "      <td>792 Metropolitan Avenue</td>\n",
              "      <td>medium</td>\n",
              "      <td>0</td>\n",
              "      <td>0</td>\n",
              "      <td>0</td>\n",
              "      <td>0</td>\n",
              "      <td>0</td>\n",
              "      <td>0</td>\n",
              "      <td>0</td>\n",
              "      <td>0</td>\n",
              "      <td>0</td>\n",
              "      <td>0</td>\n",
              "      <td>0</td>\n",
              "      <td>0</td>\n",
              "      <td>0</td>\n",
              "      <td>0</td>\n",
              "      <td>0</td>\n",
              "      <td>0</td>\n",
              "      <td>0</td>\n",
              "      <td>0</td>\n",
              "      <td>0</td>\n",
              "      <td>0</td>\n",
              "      <td>0</td>\n",
              "      <td>0</td>\n",
              "      <td>0</td>\n",
              "      <td>0</td>\n",
              "    </tr>\n",
              "    <tr>\n",
              "      <th>1</th>\n",
              "      <td>1.0</td>\n",
              "      <td>2</td>\n",
              "      <td>2016-06-12 12:19:27</td>\n",
              "      <td></td>\n",
              "      <td>Columbus Avenue</td>\n",
              "      <td>40.7947</td>\n",
              "      <td>-73.9667</td>\n",
              "      <td>5465</td>\n",
              "      <td>808 Columbus Avenue</td>\n",
              "      <td>low</td>\n",
              "      <td>1</td>\n",
              "      <td>1</td>\n",
              "      <td>0</td>\n",
              "      <td>1</td>\n",
              "      <td>1</td>\n",
              "      <td>0</td>\n",
              "      <td>0</td>\n",
              "      <td>0</td>\n",
              "      <td>1</td>\n",
              "      <td>0</td>\n",
              "      <td>0</td>\n",
              "      <td>0</td>\n",
              "      <td>0</td>\n",
              "      <td>0</td>\n",
              "      <td>0</td>\n",
              "      <td>0</td>\n",
              "      <td>0</td>\n",
              "      <td>0</td>\n",
              "      <td>0</td>\n",
              "      <td>0</td>\n",
              "      <td>0</td>\n",
              "      <td>0</td>\n",
              "      <td>0</td>\n",
              "      <td>0</td>\n",
              "    </tr>\n",
              "    <tr>\n",
              "      <th>2</th>\n",
              "      <td>1.0</td>\n",
              "      <td>1</td>\n",
              "      <td>2016-04-17 03:26:41</td>\n",
              "      <td>Top Top West Village location, beautiful Pre-w...</td>\n",
              "      <td>W 13 Street</td>\n",
              "      <td>40.7388</td>\n",
              "      <td>-74.0018</td>\n",
              "      <td>2850</td>\n",
              "      <td>241 W 13 Street</td>\n",
              "      <td>high</td>\n",
              "      <td>0</td>\n",
              "      <td>0</td>\n",
              "      <td>1</td>\n",
              "      <td>0</td>\n",
              "      <td>0</td>\n",
              "      <td>1</td>\n",
              "      <td>0</td>\n",
              "      <td>1</td>\n",
              "      <td>0</td>\n",
              "      <td>0</td>\n",
              "      <td>0</td>\n",
              "      <td>0</td>\n",
              "      <td>0</td>\n",
              "      <td>0</td>\n",
              "      <td>0</td>\n",
              "      <td>0</td>\n",
              "      <td>0</td>\n",
              "      <td>0</td>\n",
              "      <td>0</td>\n",
              "      <td>0</td>\n",
              "      <td>0</td>\n",
              "      <td>0</td>\n",
              "      <td>0</td>\n",
              "      <td>0</td>\n",
              "    </tr>\n",
              "    <tr>\n",
              "      <th>3</th>\n",
              "      <td>1.0</td>\n",
              "      <td>1</td>\n",
              "      <td>2016-04-18 02:22:02</td>\n",
              "      <td>Building Amenities - Garage - Garden - fitness...</td>\n",
              "      <td>East 49th Street</td>\n",
              "      <td>40.7539</td>\n",
              "      <td>-73.9677</td>\n",
              "      <td>3275</td>\n",
              "      <td>333 East 49th Street</td>\n",
              "      <td>low</td>\n",
              "      <td>0</td>\n",
              "      <td>0</td>\n",
              "      <td>1</td>\n",
              "      <td>0</td>\n",
              "      <td>0</td>\n",
              "      <td>0</td>\n",
              "      <td>1</td>\n",
              "      <td>0</td>\n",
              "      <td>0</td>\n",
              "      <td>0</td>\n",
              "      <td>0</td>\n",
              "      <td>0</td>\n",
              "      <td>0</td>\n",
              "      <td>0</td>\n",
              "      <td>0</td>\n",
              "      <td>0</td>\n",
              "      <td>0</td>\n",
              "      <td>0</td>\n",
              "      <td>0</td>\n",
              "      <td>0</td>\n",
              "      <td>0</td>\n",
              "      <td>0</td>\n",
              "      <td>0</td>\n",
              "      <td>0</td>\n",
              "    </tr>\n",
              "    <tr>\n",
              "      <th>4</th>\n",
              "      <td>1.0</td>\n",
              "      <td>4</td>\n",
              "      <td>2016-04-28 01:32:41</td>\n",
              "      <td>Beautifully renovated 3 bedroom flex 4 bedroom...</td>\n",
              "      <td>West 143rd Street</td>\n",
              "      <td>40.8241</td>\n",
              "      <td>-73.9493</td>\n",
              "      <td>3350</td>\n",
              "      <td>500 West 143rd Street</td>\n",
              "      <td>low</td>\n",
              "      <td>0</td>\n",
              "      <td>0</td>\n",
              "      <td>0</td>\n",
              "      <td>0</td>\n",
              "      <td>0</td>\n",
              "      <td>0</td>\n",
              "      <td>0</td>\n",
              "      <td>0</td>\n",
              "      <td>0</td>\n",
              "      <td>1</td>\n",
              "      <td>0</td>\n",
              "      <td>0</td>\n",
              "      <td>0</td>\n",
              "      <td>0</td>\n",
              "      <td>0</td>\n",
              "      <td>0</td>\n",
              "      <td>0</td>\n",
              "      <td>0</td>\n",
              "      <td>0</td>\n",
              "      <td>0</td>\n",
              "      <td>0</td>\n",
              "      <td>0</td>\n",
              "      <td>0</td>\n",
              "      <td>0</td>\n",
              "    </tr>\n",
              "  </tbody>\n",
              "</table>\n",
              "</div>"
            ],
            "text/plain": [
              "   bathrooms  bedrooms  ... wheelchair_access common_outdoor_space\n",
              "0        1.5         3  ...                 0                    0\n",
              "1        1.0         2  ...                 0                    0\n",
              "2        1.0         1  ...                 0                    0\n",
              "3        1.0         1  ...                 0                    0\n",
              "4        1.0         4  ...                 0                    0\n",
              "\n",
              "[5 rows x 34 columns]"
            ]
          },
          "metadata": {
            "tags": []
          },
          "execution_count": 39
        }
      ]
    },
    {
      "cell_type": "code",
      "metadata": {
        "id": "8hGj6-fJlGMO",
        "colab_type": "code",
        "colab": {
          "base_uri": "https://localhost:8080/",
          "height": 85
        },
        "outputId": "f475bf1d-ad5d-4c3b-9bd2-73d5d2acbd7f"
      },
      "source": [
        "print(df.bathrooms.isnull().value_counts())\n",
        "df.bedrooms.isnull().value_counts()"
      ],
      "execution_count": 40,
      "outputs": [
        {
          "output_type": "stream",
          "text": [
            "False    48817\n",
            "Name: bathrooms, dtype: int64\n"
          ],
          "name": "stdout"
        },
        {
          "output_type": "execute_result",
          "data": {
            "text/plain": [
              "False    48817\n",
              "Name: bedrooms, dtype: int64"
            ]
          },
          "metadata": {
            "tags": []
          },
          "execution_count": 40
        }
      ]
    },
    {
      "cell_type": "code",
      "metadata": {
        "id": "OlWzJWJ_Z831",
        "colab_type": "code",
        "colab": {
          "base_uri": "https://localhost:8080/",
          "height": 615
        },
        "outputId": "08e35372-66c7-4939-e878-ff6e21711515"
      },
      "source": [
        "# It seems far more rational to place the feature engineering step first\n",
        "\n",
        "# For my two new features,\n",
        "# I will calculate the total number of rooms\n",
        "# and the bed-to-bath-ratio\n",
        "\n",
        "df[\"total rooms\"] = df[\"bathrooms\"].values + df[\"bedrooms\"].values\n",
        "df[\"bed-to-bath-ratio\"] = df[\"bedrooms\"].values / df[\"bathrooms\"].values\n",
        "df.head()"
      ],
      "execution_count": 41,
      "outputs": [
        {
          "output_type": "stream",
          "text": [
            "/usr/local/lib/python3.6/dist-packages/ipykernel_launcher.py:3: RuntimeWarning: divide by zero encountered in true_divide\n",
            "  This is separate from the ipykernel package so we can avoid doing imports until\n",
            "/usr/local/lib/python3.6/dist-packages/ipykernel_launcher.py:3: RuntimeWarning: invalid value encountered in true_divide\n",
            "  This is separate from the ipykernel package so we can avoid doing imports until\n"
          ],
          "name": "stderr"
        },
        {
          "output_type": "execute_result",
          "data": {
            "text/html": [
              "<div>\n",
              "<style scoped>\n",
              "    .dataframe tbody tr th:only-of-type {\n",
              "        vertical-align: middle;\n",
              "    }\n",
              "\n",
              "    .dataframe tbody tr th {\n",
              "        vertical-align: top;\n",
              "    }\n",
              "\n",
              "    .dataframe thead th {\n",
              "        text-align: right;\n",
              "    }\n",
              "</style>\n",
              "<table border=\"1\" class=\"dataframe\">\n",
              "  <thead>\n",
              "    <tr style=\"text-align: right;\">\n",
              "      <th></th>\n",
              "      <th>bathrooms</th>\n",
              "      <th>bedrooms</th>\n",
              "      <th>created</th>\n",
              "      <th>description</th>\n",
              "      <th>display_address</th>\n",
              "      <th>latitude</th>\n",
              "      <th>longitude</th>\n",
              "      <th>price</th>\n",
              "      <th>street_address</th>\n",
              "      <th>interest_level</th>\n",
              "      <th>elevator</th>\n",
              "      <th>cats_allowed</th>\n",
              "      <th>hardwood_floors</th>\n",
              "      <th>dogs_allowed</th>\n",
              "      <th>doorman</th>\n",
              "      <th>dishwasher</th>\n",
              "      <th>no_fee</th>\n",
              "      <th>laundry_in_building</th>\n",
              "      <th>fitness_center</th>\n",
              "      <th>pre-war</th>\n",
              "      <th>laundry_in_unit</th>\n",
              "      <th>roof_deck</th>\n",
              "      <th>outdoor_space</th>\n",
              "      <th>dining_room</th>\n",
              "      <th>high_speed_internet</th>\n",
              "      <th>balcony</th>\n",
              "      <th>swimming_pool</th>\n",
              "      <th>new_construction</th>\n",
              "      <th>terrace</th>\n",
              "      <th>exclusive</th>\n",
              "      <th>loft</th>\n",
              "      <th>garden_patio</th>\n",
              "      <th>wheelchair_access</th>\n",
              "      <th>common_outdoor_space</th>\n",
              "      <th>total rooms</th>\n",
              "      <th>bed-to-bath-ratio</th>\n",
              "    </tr>\n",
              "  </thead>\n",
              "  <tbody>\n",
              "    <tr>\n",
              "      <th>0</th>\n",
              "      <td>1.5</td>\n",
              "      <td>3</td>\n",
              "      <td>2016-06-24 07:54:24</td>\n",
              "      <td>A Brand New 3 Bedroom 1.5 bath ApartmentEnjoy ...</td>\n",
              "      <td>Metropolitan Avenue</td>\n",
              "      <td>40.7145</td>\n",
              "      <td>-73.9425</td>\n",
              "      <td>3000</td>\n",
              "      <td>792 Metropolitan Avenue</td>\n",
              "      <td>medium</td>\n",
              "      <td>0</td>\n",
              "      <td>0</td>\n",
              "      <td>0</td>\n",
              "      <td>0</td>\n",
              "      <td>0</td>\n",
              "      <td>0</td>\n",
              "      <td>0</td>\n",
              "      <td>0</td>\n",
              "      <td>0</td>\n",
              "      <td>0</td>\n",
              "      <td>0</td>\n",
              "      <td>0</td>\n",
              "      <td>0</td>\n",
              "      <td>0</td>\n",
              "      <td>0</td>\n",
              "      <td>0</td>\n",
              "      <td>0</td>\n",
              "      <td>0</td>\n",
              "      <td>0</td>\n",
              "      <td>0</td>\n",
              "      <td>0</td>\n",
              "      <td>0</td>\n",
              "      <td>0</td>\n",
              "      <td>0</td>\n",
              "      <td>4.5</td>\n",
              "      <td>2.0</td>\n",
              "    </tr>\n",
              "    <tr>\n",
              "      <th>1</th>\n",
              "      <td>1.0</td>\n",
              "      <td>2</td>\n",
              "      <td>2016-06-12 12:19:27</td>\n",
              "      <td></td>\n",
              "      <td>Columbus Avenue</td>\n",
              "      <td>40.7947</td>\n",
              "      <td>-73.9667</td>\n",
              "      <td>5465</td>\n",
              "      <td>808 Columbus Avenue</td>\n",
              "      <td>low</td>\n",
              "      <td>1</td>\n",
              "      <td>1</td>\n",
              "      <td>0</td>\n",
              "      <td>1</td>\n",
              "      <td>1</td>\n",
              "      <td>0</td>\n",
              "      <td>0</td>\n",
              "      <td>0</td>\n",
              "      <td>1</td>\n",
              "      <td>0</td>\n",
              "      <td>0</td>\n",
              "      <td>0</td>\n",
              "      <td>0</td>\n",
              "      <td>0</td>\n",
              "      <td>0</td>\n",
              "      <td>0</td>\n",
              "      <td>0</td>\n",
              "      <td>0</td>\n",
              "      <td>0</td>\n",
              "      <td>0</td>\n",
              "      <td>0</td>\n",
              "      <td>0</td>\n",
              "      <td>0</td>\n",
              "      <td>0</td>\n",
              "      <td>3.0</td>\n",
              "      <td>2.0</td>\n",
              "    </tr>\n",
              "    <tr>\n",
              "      <th>2</th>\n",
              "      <td>1.0</td>\n",
              "      <td>1</td>\n",
              "      <td>2016-04-17 03:26:41</td>\n",
              "      <td>Top Top West Village location, beautiful Pre-w...</td>\n",
              "      <td>W 13 Street</td>\n",
              "      <td>40.7388</td>\n",
              "      <td>-74.0018</td>\n",
              "      <td>2850</td>\n",
              "      <td>241 W 13 Street</td>\n",
              "      <td>high</td>\n",
              "      <td>0</td>\n",
              "      <td>0</td>\n",
              "      <td>1</td>\n",
              "      <td>0</td>\n",
              "      <td>0</td>\n",
              "      <td>1</td>\n",
              "      <td>0</td>\n",
              "      <td>1</td>\n",
              "      <td>0</td>\n",
              "      <td>0</td>\n",
              "      <td>0</td>\n",
              "      <td>0</td>\n",
              "      <td>0</td>\n",
              "      <td>0</td>\n",
              "      <td>0</td>\n",
              "      <td>0</td>\n",
              "      <td>0</td>\n",
              "      <td>0</td>\n",
              "      <td>0</td>\n",
              "      <td>0</td>\n",
              "      <td>0</td>\n",
              "      <td>0</td>\n",
              "      <td>0</td>\n",
              "      <td>0</td>\n",
              "      <td>2.0</td>\n",
              "      <td>1.0</td>\n",
              "    </tr>\n",
              "    <tr>\n",
              "      <th>3</th>\n",
              "      <td>1.0</td>\n",
              "      <td>1</td>\n",
              "      <td>2016-04-18 02:22:02</td>\n",
              "      <td>Building Amenities - Garage - Garden - fitness...</td>\n",
              "      <td>East 49th Street</td>\n",
              "      <td>40.7539</td>\n",
              "      <td>-73.9677</td>\n",
              "      <td>3275</td>\n",
              "      <td>333 East 49th Street</td>\n",
              "      <td>low</td>\n",
              "      <td>0</td>\n",
              "      <td>0</td>\n",
              "      <td>1</td>\n",
              "      <td>0</td>\n",
              "      <td>0</td>\n",
              "      <td>0</td>\n",
              "      <td>1</td>\n",
              "      <td>0</td>\n",
              "      <td>0</td>\n",
              "      <td>0</td>\n",
              "      <td>0</td>\n",
              "      <td>0</td>\n",
              "      <td>0</td>\n",
              "      <td>0</td>\n",
              "      <td>0</td>\n",
              "      <td>0</td>\n",
              "      <td>0</td>\n",
              "      <td>0</td>\n",
              "      <td>0</td>\n",
              "      <td>0</td>\n",
              "      <td>0</td>\n",
              "      <td>0</td>\n",
              "      <td>0</td>\n",
              "      <td>0</td>\n",
              "      <td>2.0</td>\n",
              "      <td>1.0</td>\n",
              "    </tr>\n",
              "    <tr>\n",
              "      <th>4</th>\n",
              "      <td>1.0</td>\n",
              "      <td>4</td>\n",
              "      <td>2016-04-28 01:32:41</td>\n",
              "      <td>Beautifully renovated 3 bedroom flex 4 bedroom...</td>\n",
              "      <td>West 143rd Street</td>\n",
              "      <td>40.8241</td>\n",
              "      <td>-73.9493</td>\n",
              "      <td>3350</td>\n",
              "      <td>500 West 143rd Street</td>\n",
              "      <td>low</td>\n",
              "      <td>0</td>\n",
              "      <td>0</td>\n",
              "      <td>0</td>\n",
              "      <td>0</td>\n",
              "      <td>0</td>\n",
              "      <td>0</td>\n",
              "      <td>0</td>\n",
              "      <td>0</td>\n",
              "      <td>0</td>\n",
              "      <td>1</td>\n",
              "      <td>0</td>\n",
              "      <td>0</td>\n",
              "      <td>0</td>\n",
              "      <td>0</td>\n",
              "      <td>0</td>\n",
              "      <td>0</td>\n",
              "      <td>0</td>\n",
              "      <td>0</td>\n",
              "      <td>0</td>\n",
              "      <td>0</td>\n",
              "      <td>0</td>\n",
              "      <td>0</td>\n",
              "      <td>0</td>\n",
              "      <td>0</td>\n",
              "      <td>5.0</td>\n",
              "      <td>4.0</td>\n",
              "    </tr>\n",
              "  </tbody>\n",
              "</table>\n",
              "</div>"
            ],
            "text/plain": [
              "   bathrooms  bedrooms  ... total rooms bed-to-bath-ratio\n",
              "0        1.5         3  ...         4.5               2.0\n",
              "1        1.0         2  ...         3.0               2.0\n",
              "2        1.0         1  ...         2.0               1.0\n",
              "3        1.0         1  ...         2.0               1.0\n",
              "4        1.0         4  ...         5.0               4.0\n",
              "\n",
              "[5 rows x 36 columns]"
            ]
          },
          "metadata": {
            "tags": []
          },
          "execution_count": 41
        }
      ]
    },
    {
      "cell_type": "code",
      "metadata": {
        "id": "mQrRzQqWiuf2",
        "colab_type": "code",
        "colab": {
          "base_uri": "https://localhost:8080/",
          "height": 68
        },
        "outputId": "7b50132d-cb9d-45d3-bd78-5d08fb71aafa"
      },
      "source": [
        "df[\"bed-to-bath-ratio\"].isnull().value_counts()"
      ],
      "execution_count": 42,
      "outputs": [
        {
          "output_type": "execute_result",
          "data": {
            "text/plain": [
              "False    48666\n",
              "True       151\n",
              "Name: bed-to-bath-ratio, dtype: int64"
            ]
          },
          "metadata": {
            "tags": []
          },
          "execution_count": 42
        }
      ]
    },
    {
      "cell_type": "code",
      "metadata": {
        "id": "LgP9aEBJjI6L",
        "colab_type": "code",
        "colab": {
          "base_uri": "https://localhost:8080/",
          "height": 119
        },
        "outputId": "05b3eb0f-9ffc-4d5e-c3e8-061eac52443a"
      },
      "source": [
        "# Removing NaN values from df;\n",
        "# otherwise, they will cause problems when fitting the model\n",
        "\n",
        "df = df.dropna()\n",
        "\n",
        "print(df[\"bed-to-bath-ratio\"].isnull().value_counts())\n",
        "print(df[\"latitude\"].isnull().value_counts())\n",
        "print(df[\"longitude\"].isnull().value_counts())"
      ],
      "execution_count": 50,
      "outputs": [
        {
          "output_type": "stream",
          "text": [
            "False    47109\n",
            "Name: bed-to-bath-ratio, dtype: int64\n",
            "False    47109\n",
            "Name: latitude, dtype: int64\n",
            "False    47109\n",
            "Name: longitude, dtype: int64\n"
          ],
          "name": "stdout"
        }
      ]
    },
    {
      "cell_type": "code",
      "metadata": {
        "id": "0WjLdnWPCFfF",
        "colab_type": "code",
        "colab": {
          "base_uri": "https://localhost:8080/",
          "height": 578
        },
        "outputId": "65d1196d-9f0e-4059-8a64-66c9d53b0445"
      },
      "source": [
        "# Seems mighty strange the inf is a value in the bed-to-bath-ratio.\n",
        "# I'm too lazy to figure out why, so I'll just remove all columns containing it.\n",
        "\n",
        "df[\"bed-to-bath-ratio\"].value_counts()"
      ],
      "execution_count": 94,
      "outputs": [
        {
          "output_type": "execute_result",
          "data": {
            "text/plain": [
              "1.000000    18240\n",
              "2.000000    11954\n",
              "0.000000     8852\n",
              "3.000000     3517\n",
              "1.500000     2722\n",
              "4.000000      352\n",
              "1.333333      340\n",
              "0.500000      195\n",
              "0.666667      183\n",
              "inf           153\n",
              "1.200000      128\n",
              "2.500000      120\n",
              "0.800000       83\n",
              "2.666667       60\n",
              "1.600000       38\n",
              "1.666667       33\n",
              "1.250000       30\n",
              "1.142857       27\n",
              "0.857143       24\n",
              "0.333333       14\n",
              "0.750000       11\n",
              "5.000000       10\n",
              "0.888889        7\n",
              "3.333333        5\n",
              "1.428571        3\n",
              "0.400000        2\n",
              "2.400000        1\n",
              "0.222222        1\n",
              "6.000000        1\n",
              "0.200000        1\n",
              "2.333333        1\n",
              "0.571429        1\n",
              "Name: bed-to-bath-ratio, dtype: int64"
            ]
          },
          "metadata": {
            "tags": []
          },
          "execution_count": 94
        }
      ]
    },
    {
      "cell_type": "code",
      "metadata": {
        "id": "QNjT2ijCCmSr",
        "colab_type": "code",
        "colab": {
          "base_uri": "https://localhost:8080/",
          "height": 578
        },
        "outputId": "6fde6622-e840-4209-962c-14d956d65a6c"
      },
      "source": [
        "df = df[(df['bed-to-bath-ratio'] <= 6)]\n",
        "\n",
        "df[\"bed-to-bath-ratio\"].value_counts()"
      ],
      "execution_count": 99,
      "outputs": [
        {
          "output_type": "stream",
          "text": [
            "ERROR! Session/line number was not unique in database. History logging moved to new session 60\n"
          ],
          "name": "stdout"
        },
        {
          "output_type": "execute_result",
          "data": {
            "text/plain": [
              "1.000000    18240\n",
              "2.000000    11954\n",
              "0.000000     8852\n",
              "3.000000     3517\n",
              "1.500000     2722\n",
              "4.000000      352\n",
              "1.333333      340\n",
              "0.500000      195\n",
              "0.666667      183\n",
              "1.200000      128\n",
              "2.500000      120\n",
              "0.800000       83\n",
              "2.666667       60\n",
              "1.600000       38\n",
              "1.666667       33\n",
              "1.250000       30\n",
              "1.142857       27\n",
              "0.857143       24\n",
              "0.333333       14\n",
              "0.750000       11\n",
              "5.000000       10\n",
              "0.888889        7\n",
              "3.333333        5\n",
              "1.428571        3\n",
              "0.400000        2\n",
              "2.400000        1\n",
              "0.222222        1\n",
              "6.000000        1\n",
              "2.333333        1\n",
              "0.571429        1\n",
              "0.200000        1\n",
              "Name: bed-to-bath-ratio, dtype: int64"
            ]
          },
          "metadata": {
            "tags": []
          },
          "execution_count": 99
        }
      ]
    },
    {
      "cell_type": "code",
      "metadata": {
        "id": "rZyWyOjQX1hL",
        "colab_type": "code",
        "colab": {
          "base_uri": "https://localhost:8080/",
          "height": 221
        },
        "outputId": "4ce8c0d0-b499-41e1-ea4e-5adcfeeec4e6"
      },
      "source": [
        "# Selecting data based on date to form the training and test sets:\n",
        "\n",
        "train = df[df.created.str.contains(\"2016-04|2016-05\")]\n",
        "train.created.value_counts()"
      ],
      "execution_count": 100,
      "outputs": [
        {
          "output_type": "execute_result",
          "data": {
            "text/plain": [
              "2016-05-14 05:23:52    3\n",
              "2016-05-14 01:11:03    3\n",
              "2016-05-27 03:59:28    3\n",
              "2016-04-08 01:14:27    3\n",
              "2016-04-15 02:24:25    3\n",
              "                      ..\n",
              "2016-05-23 02:54:14    1\n",
              "2016-04-12 06:19:17    1\n",
              "2016-05-20 06:42:00    1\n",
              "2016-04-06 01:30:20    1\n",
              "2016-04-13 03:31:11    1\n",
              "Name: created, Length: 30251, dtype: int64"
            ]
          },
          "metadata": {
            "tags": []
          },
          "execution_count": 100
        }
      ]
    },
    {
      "cell_type": "code",
      "metadata": {
        "id": "lRpC5IoTZfb_",
        "colab_type": "code",
        "colab": {
          "base_uri": "https://localhost:8080/",
          "height": 221
        },
        "outputId": "f4787a13-5ef5-4dbb-b15b-4225222ecf64"
      },
      "source": [
        "test = df[df.created.str.contains(\"2016-06\")]\n",
        "test.created.value_counts()"
      ],
      "execution_count": 101,
      "outputs": [
        {
          "output_type": "execute_result",
          "data": {
            "text/plain": [
              "2016-06-11 01:20:36    3\n",
              "2016-06-12 13:20:45    3\n",
              "2016-06-16 04:08:35    3\n",
              "2016-06-12 12:30:28    3\n",
              "2016-06-21 04:44:43    3\n",
              "                      ..\n",
              "2016-06-28 02:44:04    1\n",
              "2016-06-15 02:11:36    1\n",
              "2016-06-16 05:50:16    1\n",
              "2016-06-21 02:24:49    1\n",
              "2016-06-22 05:34:10    1\n",
              "Name: created, Length: 16110, dtype: int64"
            ]
          },
          "metadata": {
            "tags": []
          },
          "execution_count": 101
        }
      ]
    },
    {
      "cell_type": "code",
      "metadata": {
        "id": "nMYboXybbu1V",
        "colab_type": "code",
        "colab": {}
      },
      "source": [
        "# Since we are expected to make two new features, it is only rational to use\n",
        "# at least one of them in the feature or target.\n",
        "\n",
        "features = ['latitude', 'longitude']\n",
        "target = ['bed-to-bath-ratio']\n",
        "\n",
        "\n",
        "X_train = train[features]\n",
        "y_train = train[target]\n",
        "\n",
        "X_test = test[features]\n",
        "y_test = test[target]"
      ],
      "execution_count": 0,
      "outputs": []
    },
    {
      "cell_type": "code",
      "metadata": {
        "id": "a2aHv9OleIPI",
        "colab_type": "code",
        "colab": {
          "base_uri": "https://localhost:8080/",
          "height": 153
        },
        "outputId": "2056e022-9736-46db-9c86-5e76e372b2b7"
      },
      "source": [
        "# LinearRegression().fit() will only take a 2D NumpyArray or Matrix,\n",
        "# so I have converted y_train and y_test to the correct format here below.\n",
        "\n",
        "y_train_col = train['bed-to-bath-ratio']\n",
        "y_train_matrix = []\n",
        "\n",
        "for i in y_train_col:\n",
        "    y_train_matrix.append([i])\n",
        "    \n",
        "y_train = np.array(y_train_matrix)\n",
        "print(len(y_train))\n",
        "y_train"
      ],
      "execution_count": 103,
      "outputs": [
        {
          "output_type": "stream",
          "text": [
            "30615\n"
          ],
          "name": "stdout"
        },
        {
          "output_type": "execute_result",
          "data": {
            "text/plain": [
              "array([[1.],\n",
              "       [1.],\n",
              "       [4.],\n",
              "       ...,\n",
              "       [1.],\n",
              "       [0.],\n",
              "       [2.]])"
            ]
          },
          "metadata": {
            "tags": []
          },
          "execution_count": 103
        }
      ]
    },
    {
      "cell_type": "code",
      "metadata": {
        "id": "PFiawJ-liNs7",
        "colab_type": "code",
        "colab": {
          "base_uri": "https://localhost:8080/",
          "height": 153
        },
        "outputId": "46544c8a-2d51-45f9-9da5-1dac85ad713d"
      },
      "source": [
        "y_test_col = test['bed-to-bath-ratio']\n",
        "y_test_matrix = []\n",
        "\n",
        "for i in y_test_col:\n",
        "    y_test_matrix.append([i])\n",
        "    \n",
        "y_test = np.array(y_test_matrix)\n",
        "print(len(y_test))\n",
        "y_test"
      ],
      "execution_count": 104,
      "outputs": [
        {
          "output_type": "stream",
          "text": [
            "16341\n"
          ],
          "name": "stdout"
        },
        {
          "output_type": "execute_result",
          "data": {
            "text/plain": [
              "array([[2.],\n",
              "       [2.],\n",
              "       [1.],\n",
              "       ...,\n",
              "       [1.],\n",
              "       [2.],\n",
              "       [2.]])"
            ]
          },
          "metadata": {
            "tags": []
          },
          "execution_count": 104
        }
      ]
    },
    {
      "cell_type": "code",
      "metadata": {
        "id": "orrGyCNncyUI",
        "colab_type": "code",
        "colab": {
          "base_uri": "https://localhost:8080/",
          "height": 34
        },
        "outputId": "1755246d-ef3d-450a-bc5f-af9c4c898bf7"
      },
      "source": [
        "from sklearn.linear_model import LinearRegression\n",
        "\n",
        "# Straight-Line Linear Regression\n",
        "model = LinearRegression()\n",
        "model.fit(X_train, y_train)"
      ],
      "execution_count": 109,
      "outputs": [
        {
          "output_type": "execute_result",
          "data": {
            "text/plain": [
              "LinearRegression(copy_X=True, fit_intercept=True, n_jobs=None, normalize=False)"
            ]
          },
          "metadata": {
            "tags": []
          },
          "execution_count": 109
        }
      ]
    },
    {
      "cell_type": "code",
      "metadata": {
        "id": "J9ua2pgHeF5A",
        "colab_type": "code",
        "colab": {
          "base_uri": "https://localhost:8080/",
          "height": 51
        },
        "outputId": "930f9515-3366-45c3-ba08-0e86fb71d22d"
      },
      "source": [
        "beta0 = model.intercept_[0]\n",
        "beta1, beta2 = model.coef_[0]\n",
        "\n",
        "print(f'Bed to Bath Ratio = {beta1:.2f}latitude + {beta2:.2f}longitude + {beta0:.2f}')"
      ],
      "execution_count": 115,
      "outputs": [
        {
          "output_type": "stream",
          "text": [
            "Bed to Bath Ratio = -0.80latitude + 2.68longitude + 231.86\n",
            "ERROR! Session/line number was not unique in database. History logging moved to new session 61\n"
          ],
          "name": "stdout"
        }
      ]
    },
    {
      "cell_type": "code",
      "metadata": {
        "id": "4vU4RaMZEKfF",
        "colab_type": "code",
        "colab": {
          "base_uri": "https://localhost:8080/",
          "height": 85
        },
        "outputId": "8384bf15-6953-43e2-9a3e-c339a3dcf09f"
      },
      "source": [
        "from sklearn.metrics import mean_absolute_error, mean_squared_error, r2_score\n",
        "\n",
        "train_mae = mean_absolute_error(y_train, model.predict(X_train))\n",
        "test_mae = mean_absolute_error(y_test, model.predict(X_test))\n",
        "\n",
        "print(\"Mean Absolute Error\")\n",
        "print(\"-\" * 35)\n",
        "print(\"Training Error: \", train_mae)\n",
        "print(\"Testing Error:  \", test_mae)"
      ],
      "execution_count": 126,
      "outputs": [
        {
          "output_type": "stream",
          "text": [
            "Mean Absolute Error\n",
            "-----------------------------------\n",
            "Training Error:  0.701518415556419\n",
            "Testing Error:   0.7056159999674124\n"
          ],
          "name": "stdout"
        }
      ]
    },
    {
      "cell_type": "code",
      "metadata": {
        "id": "gYvuv9zdF3mc",
        "colab_type": "code",
        "colab": {
          "base_uri": "https://localhost:8080/",
          "height": 85
        },
        "outputId": "ccdf9c47-0d8a-49b9-b4c2-584de5819538"
      },
      "source": [
        "train_mse = mean_squared_error(y_train, model.predict(X_train))\n",
        "test_mse = mean_squared_error(y_test, model.predict(X_test))\n",
        "\n",
        "print(\"Mean Squared Error\")\n",
        "print(\"-\" * 35)\n",
        "print(\"Training Error: \", train_mse)\n",
        "print(\"Testing Error:  \", test_mse)"
      ],
      "execution_count": 127,
      "outputs": [
        {
          "output_type": "stream",
          "text": [
            "Mean Squared Error\n",
            "-----------------------------------\n",
            "Training Error:  0.7589865898167637\n",
            "Testing Error:   0.7650216629347462\n"
          ],
          "name": "stdout"
        }
      ]
    },
    {
      "cell_type": "code",
      "metadata": {
        "id": "k4990LbVGjEg",
        "colab_type": "code",
        "colab": {
          "base_uri": "https://localhost:8080/",
          "height": 85
        },
        "outputId": "db56963b-cbe5-4ca6-a47b-3cb4cc269cf9"
      },
      "source": [
        "from math import sqrt\n",
        "\n",
        "print(\"Root Mean Squared Error\")\n",
        "print(\"-\" * 34)\n",
        "print(\"Training Error: \", sqrt(train_mse))\n",
        "print(\"Testing Error:  \", sqrt(test_mse))"
      ],
      "execution_count": 129,
      "outputs": [
        {
          "output_type": "stream",
          "text": [
            "Root Mean Squared Error\n",
            "----------------------------------\n",
            "Training Error:  0.87119836421837\n",
            "Testing Error:   0.874655168014656\n"
          ],
          "name": "stdout"
        }
      ]
    },
    {
      "cell_type": "code",
      "metadata": {
        "id": "cGIc3Gh7GzvQ",
        "colab_type": "code",
        "colab": {
          "base_uri": "https://localhost:8080/",
          "height": 187
        },
        "outputId": "b282d1f6-a755-4c85-d223-34228abec944"
      },
      "source": [
        "print(\"R^2 Score\")\n",
        "print(\"-\" * 37)\n",
        "print(\"Training Score: \", r2_score(y_train, model.predict(X_train)))\n",
        "print(\"Testing Score:  \", r2_score(y_test, model.predict(X_test)))\n",
        "\n",
        "print('\\nIf we take the R^2 Score as our main error statistic,')\n",
        "print('then this straight-line model is not accurate in the least.')\n",
        "print('\\nLess than 1 percent of the variation in the target can be')\n",
        "print('directly attributed to the changes in the chosen features.')"
      ],
      "execution_count": 135,
      "outputs": [
        {
          "output_type": "stream",
          "text": [
            "R^2 Score\n",
            "-------------------------------------\n",
            "Training Score:  0.007087137928739384\n",
            "Testing Score:   0.006330131635596703\n",
            "\n",
            "If we take the R^2 Score as our main error statistic,\n",
            "then this straight-line model is not accurate in the least.\n",
            "\n",
            "Less than 1 percent of the variation in the target can be\n",
            "directly attributed to the changes in the chosen features.\n"
          ],
          "name": "stdout"
        }
      ]
    },
    {
      "cell_type": "code",
      "metadata": {
        "id": "n2XPKA9BHJW4",
        "colab_type": "code",
        "colab": {
          "base_uri": "https://localhost:8080/",
          "height": 85
        },
        "outputId": "c36a2eb4-ee3d-442b-a26a-9001ba04667c"
      },
      "source": [
        "# I will repeat the model, but this time using PolynomialFeatures\n",
        "# in order to minimized the Mean Absolute Error\n",
        "\n",
        "from sklearn.pipeline import make_pipeline\n",
        "from sklearn.preprocessing import PolynomialFeatures\n",
        "\n",
        "# 4th Degree Polynomial Model\n",
        "\n",
        "model_2 = make_pipeline(PolynomialFeatures(degree = 4), LinearRegression())\n",
        "model_2.fit(X_train, y_train)\n",
        "\n",
        "train_mae_2 = mean_absolute_error(y_train, model_2.predict(X_train))\n",
        "test_mae_2 = mean_absolute_error(y_test, model_2.predict(X_test))\n",
        "\n",
        "print(\"Mean Absolute Error\")\n",
        "print(\"-\" * 35)\n",
        "print(\"Training Error: \", train_mae_2)\n",
        "print(\"Testing Error:  \", test_mae_2)"
      ],
      "execution_count": 145,
      "outputs": [
        {
          "output_type": "stream",
          "text": [
            "Mean Absolute Error\n",
            "-----------------------------------\n",
            "Training Error:  0.6847626959708843\n",
            "Testing Error:   0.6881887890841311\n"
          ],
          "name": "stdout"
        }
      ]
    },
    {
      "cell_type": "code",
      "metadata": {
        "id": "eBvc67WCKj8E",
        "colab_type": "code",
        "colab": {
          "base_uri": "https://localhost:8080/",
          "height": 85
        },
        "outputId": "1b289429-8b18-48cf-c060-36422ab70bd8"
      },
      "source": [
        "# 7th Degree Polynomial Model\n",
        "\n",
        "model_3 = make_pipeline(PolynomialFeatures(degree = 7), LinearRegression())\n",
        "model_3.fit(X_train, y_train)\n",
        "\n",
        "train_mae_3 = mean_absolute_error(y_train, model_3.predict(X_train))\n",
        "test_mae_3 = mean_absolute_error(y_test, model_3.predict(X_test))\n",
        "\n",
        "print(\"Mean Absolute Error\")\n",
        "print(\"-\" * 35)\n",
        "print(\"Training Error: \", train_mae_3)\n",
        "print(\"Testing Error:  \", test_mae_3)"
      ],
      "execution_count": 152,
      "outputs": [
        {
          "output_type": "stream",
          "text": [
            "Mean Absolute Error\n",
            "-----------------------------------\n",
            "Training Error:  0.6758782939090959\n",
            "Testing Error:   0.6824377049189707\n"
          ],
          "name": "stdout"
        }
      ]
    },
    {
      "cell_type": "code",
      "metadata": {
        "id": "3NS9vXN0LPUy",
        "colab_type": "code",
        "colab": {
          "base_uri": "https://localhost:8080/",
          "height": 85
        },
        "outputId": "53b775bf-7339-4292-8185-1d38bba8f59a"
      },
      "source": [
        "# 16th Degree Polynomial Model\n",
        "\n",
        "model_4 = make_pipeline(PolynomialFeatures(degree = 16), LinearRegression())\n",
        "model_4.fit(X_train, y_train)\n",
        "\n",
        "train_mae_4 = mean_absolute_error(y_train, model_4.predict(X_train))\n",
        "test_mae_4 = mean_absolute_error(y_test, model_4.predict(X_test))\n",
        "\n",
        "print(\"Mean Absolute Error\")\n",
        "print(\"-\" * 35)\n",
        "print(\"Training Error: \", train_mae_4)\n",
        "print(\"Testing Error:  \", test_mae_4)"
      ],
      "execution_count": 161,
      "outputs": [
        {
          "output_type": "stream",
          "text": [
            "Mean Absolute Error\n",
            "-----------------------------------\n",
            "Training Error:  0.6735421800208979\n",
            "Testing Error:   0.6792371109496452\n"
          ],
          "name": "stdout"
        }
      ]
    },
    {
      "cell_type": "code",
      "metadata": {
        "id": "CqrC3Ob_LfU8",
        "colab_type": "code",
        "colab": {
          "base_uri": "https://localhost:8080/",
          "height": 85
        },
        "outputId": "49a99332-5583-46cb-f803-0d7ea2670862"
      },
      "source": [
        "# 27th Degree Polynomial Model\n",
        "\n",
        "model_5 = make_pipeline(PolynomialFeatures(degree = 27), LinearRegression())\n",
        "model_5.fit(X_train, y_train)\n",
        "\n",
        "train_mae_5 = mean_absolute_error(y_train, model_5.predict(X_train))\n",
        "test_mae_5 = mean_absolute_error(y_test, model_5.predict(X_test))\n",
        "\n",
        "print(\"Mean Absolute Error\")\n",
        "print(\"-\" * 35)\n",
        "print(\"Training Error: \", train_mae_5)\n",
        "print(\"Testing Error:  \", test_mae_5)"
      ],
      "execution_count": 173,
      "outputs": [
        {
          "output_type": "stream",
          "text": [
            "Mean Absolute Error\n",
            "-----------------------------------\n",
            "Training Error:  0.6715238321799952\n",
            "Testing Error:   0.6775537655898127\n"
          ],
          "name": "stdout"
        }
      ]
    },
    {
      "cell_type": "code",
      "metadata": {
        "id": "cKzd94YjL32R",
        "colab_type": "code",
        "colab": {
          "base_uri": "https://localhost:8080/",
          "height": 85
        },
        "outputId": "9b857e45-41fb-4f8a-c65d-d1e1197571f3"
      },
      "source": [
        "# 50th Degree Polynomial Model\n",
        "\n",
        "model_6 = make_pipeline(PolynomialFeatures(degree = 50), LinearRegression())\n",
        "model_6.fit(X_train, y_train)\n",
        "\n",
        "train_mae_6 = mean_absolute_error(y_train, model_6.predict(X_train))\n",
        "test_mae_6 = mean_absolute_error(y_test, model_6.predict(X_test))\n",
        "\n",
        "print(\"Mean Absolute Error\")\n",
        "print(\"-\" * 35)\n",
        "print(\"Training Error: \", train_mae_6)\n",
        "print(\"Testing Error:  \", test_mae_6)"
      ],
      "execution_count": 197,
      "outputs": [
        {
          "output_type": "stream",
          "text": [
            "Mean Absolute Error\n",
            "-----------------------------------\n",
            "Training Error:  0.6790141634063459\n",
            "Testing Error:   0.6846041598034545\n"
          ],
          "name": "stdout"
        }
      ]
    },
    {
      "cell_type": "code",
      "metadata": {
        "id": "p2twHA8tMPwZ",
        "colab_type": "code",
        "colab": {}
      },
      "source": [
        "# I have decided to cap my search at 50 degrees above.\n",
        "\n",
        "# As my reader can see, the 27th degree polynomial model\n",
        "# produced to lowest test error of 0.6775537655898127,\n",
        "\n",
        "# Indicating that this model can predict the bed-to-bath ratio\n",
        "# of a house as a function of latitude and longitude\n",
        "# within 0.6776 of the actual ratio.\n",
        "\n",
        "# That's some pretty decent predictive power:)"
      ],
      "execution_count": 0,
      "outputs": []
    },
    {
      "cell_type": "code",
      "metadata": {
        "id": "K6MC4vULN185",
        "colab_type": "code",
        "colab": {
          "base_uri": "https://localhost:8080/",
          "height": 68
        },
        "outputId": "0db70f8c-2889-41ee-99e8-2a2133a94546"
      },
      "source": [
        "# Keri's stretch goal:\n",
        "# Compare the original data's coefficients with those of the standardized data's.\n",
        "\n",
        "from sklearn.preprocessing import StandardScaler\n",
        "\n",
        "scaler = StandardScaler()\n",
        "\n",
        "X_train_scaled = scaler.fit_transform(X_train)\n",
        "X_test_scaled = scaler.fit_transform(X_test)\n",
        "\n",
        "standard_model = LinearRegression()\n",
        "standard_model.fit(X_train_scaled, y_train)\n",
        "\n",
        "print('Intercept:  ', standard_model.intercept_[0])\n",
        "coefficients = pd.Series(standard_model.coef_[0], features)\n",
        "print(coefficients.to_string())"
      ],
      "execution_count": 203,
      "outputs": [
        {
          "output_type": "stream",
          "text": [
            "Intercept:   1.2653432931776962\n",
            "latitude    -0.030849\n",
            "longitude    0.077659\n"
          ],
          "name": "stdout"
        }
      ]
    },
    {
      "cell_type": "code",
      "metadata": {
        "id": "lfKNoA9EP3Vo",
        "colab_type": "code",
        "colab": {
          "base_uri": "https://localhost:8080/",
          "height": 68
        },
        "outputId": "3e15abcf-fbf3-46f4-e203-aec69eb61540"
      },
      "source": [
        "# In Equation Format\n",
        "\n",
        "beta0 = standard_model.intercept_[0]\n",
        "beta1, beta2 = standard_model.coef_[0]\n",
        "\n",
        "print('Standardized:')\n",
        "print('-' * 56)\n",
        "print(f'Bed to Bath Ratio = {beta1:.2f}latitude + {beta2:.2f}longitude + {beta0:.2f}')"
      ],
      "execution_count": 212,
      "outputs": [
        {
          "output_type": "stream",
          "text": [
            "Standardized:\n",
            "--------------------------------------------------------\n",
            "Bed to Bath Ratio = -0.03latitude + 0.08longitude + 1.27\n"
          ],
          "name": "stdout"
        }
      ]
    },
    {
      "cell_type": "code",
      "metadata": {
        "id": "n7380fLkOZ0c",
        "colab_type": "code",
        "colab": {
          "base_uri": "https://localhost:8080/",
          "height": 68
        },
        "outputId": "8c1dfda2-a1e3-4401-cb1a-d3ae3d738133"
      },
      "source": [
        "# The Equation of the Original Model from above for Reference\n",
        "\n",
        "beta0 = model.intercept_[0]\n",
        "beta1, beta2 = model.coef_[0]\n",
        "\n",
        "print('Original:')\n",
        "print('-' * 58)\n",
        "print(f'Bed to Bath Ratio = {beta1:.2f}latitude + {beta2:.2f}longitude + {beta0:.2f}')"
      ],
      "execution_count": 214,
      "outputs": [
        {
          "output_type": "stream",
          "text": [
            "Original:\n",
            "----------------------------------------------------------\n",
            "Bed to Bath Ratio = -0.80latitude + 2.68longitude + 231.86\n"
          ],
          "name": "stdout"
        }
      ]
    }
  ]
}