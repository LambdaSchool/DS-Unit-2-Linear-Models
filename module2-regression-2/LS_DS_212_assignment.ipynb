{
 "cells": [
  {
   "cell_type": "markdown",
   "metadata": {},
   "source": [
    "Lambda School Data Science\n",
    "\n",
    "*Unit 2, Sprint 1, Module 2*\n",
    "\n",
    "---"
   ]
  },
  {
   "cell_type": "markdown",
   "metadata": {
    "colab_type": "text",
    "id": "7IXUfiQ2UKj6"
   },
   "source": [
    "# Regression 2\n",
    "\n",
    "## Assignment\n",
    "\n",
    "You'll continue to **predict how much it costs to rent an apartment in NYC,** using the dataset from renthop.com.\n",
    "\n",
    "- [x] Do train/test split. Use data from April & May 2016 to train. Use data from June 2016 to test.\n",
    "- [x] Engineer at least two new features. (See below for explanation & ideas.)\n",
    "- [x] Fit a linear regression model with at least two features.\n",
    "- [x] Get the model's coefficients and intercept.\n",
    "- [x] Get regression metrics RMSE, MAE, and $R^2$, for both the train and test data.\n",
    "- [ ] What's the best test MAE you can get? Share your score and features used with your cohort on Slack!\n",
    "- [x] As always, commit your notebook to your fork of the GitHub repo.\n",
    "\n",
    "\n",
    "#### [Feature Engineering](https://en.wikipedia.org/wiki/Feature_engineering)\n",
    "\n",
    "> \"Some machine learning projects succeed and some fail. What makes the difference? Easily the most important factor is the features used.\" — Pedro Domingos, [\"A Few Useful Things to Know about Machine Learning\"](https://homes.cs.washington.edu/~pedrod/papers/cacm12.pdf)\n",
    "\n",
    "> \"Coming up with features is difficult, time-consuming, requires expert knowledge. 'Applied machine learning' is basically feature engineering.\" — Andrew Ng, [Machine Learning and AI via Brain simulations](https://forum.stanford.edu/events/2011/2011slides/plenary/2011plenaryNg.pdf) \n",
    "\n",
    "> Feature engineering is the process of using domain knowledge of the data to create features that make machine learning algorithms work. \n",
    "\n",
    "#### Feature Ideas\n",
    "- Does the apartment have a description?\n",
    "- How long is the description?\n",
    "- How many total perks does each apartment have?\n",
    "- Are cats _or_ dogs allowed?\n",
    "- Are cats _and_ dogs allowed?\n",
    "- Total number of rooms (beds + baths)\n",
    "- Ratio of beds to baths\n",
    "- What's the neighborhood, based on address or latitude & longitude?\n",
    "\n",
    "## Stretch Goals\n",
    "- [ ] If you want more math, skim [_An Introduction to Statistical Learning_](http://faculty.marshall.usc.edu/gareth-james/ISL/ISLR%20Seventh%20Printing.pdf),  Chapter 3.1, Simple Linear Regression, & Chapter 3.2, Multiple Linear Regression\n",
    "- [ ] If you want more introduction, watch [Brandon Foltz, Statistics 101: Simple Linear Regression](https://www.youtube.com/watch?v=ZkjP5RJLQF4)\n",
    "(20 minutes, over 1 million views)\n",
    "- [ ] Add your own stretch goal(s) !"
   ]
  },
  {
   "cell_type": "code",
   "execution_count": 53,
   "metadata": {
    "colab": {},
    "colab_type": "code",
    "id": "o9eSnDYhUGD7"
   },
   "outputs": [],
   "source": [
    "%%capture\n",
    "import sys\n",
    "\n",
    "# If you're on Colab:\n",
    "if 'google.colab' in sys.modules:\n",
    "    DATA_PATH = 'https://raw.githubusercontent.com/LambdaSchool/DS-Unit-2-Applied-Modeling/master/data/'\n",
    "    !pip install category_encoders==2.*\n",
    "\n",
    "# If you're working locally:\n",
    "else:\n",
    "    DATA_PATH = '../data/'\n",
    "    \n",
    "# Ignore this Numpy warning when using Plotly Express:\n",
    "# FutureWarning: Method .ptp is deprecated and will be removed in a future version. Use numpy.ptp instead.\n",
    "import warnings\n",
    "warnings.filterwarnings(action='ignore', category=FutureWarning, module='numpy')"
   ]
  },
  {
   "cell_type": "code",
   "execution_count": 54,
   "metadata": {
    "colab": {},
    "colab_type": "code",
    "id": "cvrw-T3bZOuW"
   },
   "outputs": [],
   "source": [
    "import numpy as np\n",
    "import pandas as pd\n",
    "pd.set_option('display.max_columns', 999)\n",
    "# Read New York City apartment rental listing data\n",
    "df = pd.read_csv(DATA_PATH+'apartments/renthop-nyc.csv')\n",
    "assert df.shape == (49352, 34)\n",
    "\n",
    "# Remove the most extreme 1% prices,\n",
    "# the most extreme .1% latitudes, &\n",
    "# the most extreme .1% longitudes\n",
    "df = df[(df['price'] >= np.percentile(df['price'], 0.5)) & \n",
    "        (df['price'] <= np.percentile(df['price'], 99.5)) & \n",
    "        (df['latitude'] >= np.percentile(df['latitude'], 0.05)) & \n",
    "        (df['latitude'] < np.percentile(df['latitude'], 99.95)) &\n",
    "        (df['longitude'] >= np.percentile(df['longitude'], 0.05)) & \n",
    "        (df['longitude'] <= np.percentile(df['longitude'], 99.95))]"
   ]
  },
  {
   "cell_type": "code",
   "execution_count": 55,
   "metadata": {},
   "outputs": [
    {
     "data": {
      "text/plain": [
       "Index(['bathrooms', 'bedrooms', 'created', 'description', 'display_address',\n",
       "       'latitude', 'longitude', 'price', 'street_address', 'interest_level',\n",
       "       'elevator', 'cats_allowed', 'hardwood_floors', 'dogs_allowed',\n",
       "       'doorman', 'dishwasher', 'no_fee', 'laundry_in_building',\n",
       "       'fitness_center', 'pre-war', 'laundry_in_unit', 'roof_deck',\n",
       "       'outdoor_space', 'dining_room', 'high_speed_internet', 'balcony',\n",
       "       'swimming_pool', 'new_construction', 'terrace', 'exclusive', 'loft',\n",
       "       'garden_patio', 'wheelchair_access', 'common_outdoor_space'],\n",
       "      dtype='object')"
      ]
     },
     "execution_count": 55,
     "metadata": {},
     "output_type": "execute_result"
    }
   ],
   "source": [
    "df.columns"
   ]
  },
  {
   "cell_type": "code",
   "execution_count": 56,
   "metadata": {},
   "outputs": [],
   "source": [
    "df.created = pd.to_datetime(df.created)"
   ]
  },
  {
   "cell_type": "code",
   "execution_count": 57,
   "metadata": {},
   "outputs": [],
   "source": [
    "df['building_benefits'] = df[['fitness_center', 'high_speed_internet', 'elevator', 'swimming_pool', 'common_outdoor_space', 'laundry_in_building', 'roof_deck', 'wheelchair_access']].apply(sum, axis=1)"
   ]
  },
  {
   "cell_type": "code",
   "execution_count": 58,
   "metadata": {},
   "outputs": [],
   "source": [
    "df['cool_rooms'] = df[['bathrooms', 'bedrooms', 'dining_room',\n",
    "                       'terrace', 'loft', 'garden_patio',\n",
    "                       'outdoor_space', 'balcony']].apply(sum, axis=1)"
   ]
  },
  {
   "cell_type": "code",
   "execution_count": 59,
   "metadata": {},
   "outputs": [
    {
     "data": {
      "text/plain": [
       "(0    20760\n",
       " 1    13559\n",
       " 2     6189\n",
       " 3     3708\n",
       " 4     3141\n",
       " 5     1064\n",
       " 6      377\n",
       " 7       14\n",
       " 8        5\n",
       " Name: building_benefits, dtype: int64, 2.0     14476\n",
       " 3.0     10659\n",
       " 4.0      7170\n",
       " 1.0      6766\n",
       " 5.0      3784\n",
       " 6.0      2280\n",
       " 7.0      1271\n",
       " 8.0       612\n",
       " 9.0       340\n",
       " 10.0      208\n",
       " 4.5       203\n",
       " 3.5       173\n",
       " 5.5       171\n",
       " 0.0       142\n",
       " 2.5       112\n",
       " 6.5       109\n",
       " 11.0       95\n",
       " 7.5        83\n",
       " 8.5        47\n",
       " 12.0       38\n",
       " 10.5       24\n",
       " 9.5        21\n",
       " 12.5        9\n",
       " 13.0        6\n",
       " 1.5         6\n",
       " 11.5        5\n",
       " 16.0        4\n",
       " 15.0        2\n",
       " 13.5        1\n",
       " Name: cool_rooms, dtype: int64)"
      ]
     },
     "execution_count": 59,
     "metadata": {},
     "output_type": "execute_result"
    }
   ],
   "source": [
    "df.building_benefits.value_counts(), df.cool_rooms.value_counts()"
   ]
  },
  {
   "cell_type": "code",
   "execution_count": 60,
   "metadata": {},
   "outputs": [],
   "source": [
    "train = df[df.created.apply(getattr, args=['month']) < 6]\n",
    "test  = df[df.created.apply(getattr, args=['month']) > 5]"
   ]
  },
  {
   "cell_type": "code",
   "execution_count": 61,
   "metadata": {},
   "outputs": [],
   "source": [
    "from sklearn.linear_model import LinearRegression"
   ]
  },
  {
   "cell_type": "code",
   "execution_count": 62,
   "metadata": {},
   "outputs": [],
   "source": [
    "model = LinearRegression()"
   ]
  },
  {
   "cell_type": "code",
   "execution_count": 63,
   "metadata": {},
   "outputs": [],
   "source": [
    "features = ['building_benefits', 'cool_rooms']\n",
    "target = 'price'\n",
    "X_train = train[features]\n",
    "y_train = train[target]\n",
    "X_test = test[features]\n",
    "y_test = test[target]"
   ]
  },
  {
   "cell_type": "code",
   "execution_count": 64,
   "metadata": {},
   "outputs": [
    {
     "data": {
      "text/plain": [
       "LinearRegression(copy_X=True, fit_intercept=True, n_jobs=None, normalize=False)"
      ]
     },
     "execution_count": 64,
     "metadata": {},
     "output_type": "execute_result"
    }
   ],
   "source": [
    "model.fit(X_train, y_train)"
   ]
  },
  {
   "cell_type": "code",
   "execution_count": 65,
   "metadata": {},
   "outputs": [
    {
     "data": {
      "text/plain": [
       "array([4198.21284373, 3568.31049025, 2774.05587018, ..., 2774.05587018,\n",
       "       3343.7186596 , 3456.01457492])"
      ]
     },
     "execution_count": 65,
     "metadata": {},
     "output_type": "execute_result"
    }
   ],
   "source": [
    "y_pred = model.predict(X_test)\n",
    "y_pred"
   ]
  },
  {
   "cell_type": "code",
   "execution_count": 66,
   "metadata": {},
   "outputs": [
    {
     "data": {
      "text/plain": [
       "array([112.29591532, 569.66278942])"
      ]
     },
     "execution_count": 66,
     "metadata": {},
     "output_type": "execute_result"
    }
   ],
   "source": [
    "model.coef_"
   ]
  },
  {
   "cell_type": "code",
   "execution_count": 67,
   "metadata": {},
   "outputs": [
    {
     "data": {
      "text/plain": [
       "1634.7302913292515"
      ]
     },
     "execution_count": 67,
     "metadata": {},
     "output_type": "execute_result"
    }
   ],
   "source": [
    "model.intercept_"
   ]
  },
  {
   "cell_type": "code",
   "execution_count": 68,
   "metadata": {},
   "outputs": [],
   "source": [
    "from sklearn.metrics import mean_absolute_error, mean_squared_error, r2_score"
   ]
  },
  {
   "cell_type": "code",
   "execution_count": 70,
   "metadata": {},
   "outputs": [
    {
     "data": {
      "text/plain": [
       "1862519.256353486"
      ]
     },
     "execution_count": 70,
     "metadata": {},
     "output_type": "execute_result"
    }
   ],
   "source": [
    "mean_squared_error(y_test, y_pred)"
   ]
  },
  {
   "cell_type": "code",
   "execution_count": 69,
   "metadata": {},
   "outputs": [
    {
     "data": {
      "text/plain": [
       "906.3228688885696"
      ]
     },
     "execution_count": 69,
     "metadata": {},
     "output_type": "execute_result"
    }
   ],
   "source": [
    "mean_absolute_error(y_test, y_pred)"
   ]
  },
  {
   "cell_type": "code",
   "execution_count": 71,
   "metadata": {},
   "outputs": [
    {
     "data": {
      "text/plain": [
       "0.4007379307155243"
      ]
     },
     "execution_count": 71,
     "metadata": {},
     "output_type": "execute_result"
    }
   ],
   "source": [
    "r2_score(y_test, y_pred)"
   ]
  },
  {
   "cell_type": "code",
   "execution_count": null,
   "metadata": {},
   "outputs": [],
   "source": []
  }
 ],
 "metadata": {
  "kernelspec": {
   "display_name": "Python 3",
   "language": "python",
   "name": "python3"
  },
  "language_info": {
   "codemirror_mode": {
    "name": "ipython",
    "version": 3
   },
   "file_extension": ".py",
   "mimetype": "text/x-python",
   "name": "python",
   "nbconvert_exporter": "python",
   "pygments_lexer": "ipython3",
   "version": "3.7.4"
  }
 },
 "nbformat": 4,
 "nbformat_minor": 1
}
