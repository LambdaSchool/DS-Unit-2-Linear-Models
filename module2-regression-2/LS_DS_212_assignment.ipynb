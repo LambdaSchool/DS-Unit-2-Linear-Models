{
  "nbformat": 4,
  "nbformat_minor": 0,
  "metadata": {
    "kernelspec": {
      "display_name": "Python 3",
      "language": "python",
      "name": "python3"
    },
    "language_info": {
      "codemirror_mode": {
        "name": "ipython",
        "version": 3
      },
      "file_extension": ".py",
      "mimetype": "text/x-python",
      "name": "python",
      "nbconvert_exporter": "python",
      "pygments_lexer": "ipython3",
      "version": "3.7.3"
    },
    "colab": {
      "name": "LS_DS_213_assignment.ipynb",
      "provenance": [],
      "collapsed_sections": [],
      "include_colab_link": true
    }
  },
  "cells": [
    {
      "cell_type": "markdown",
      "metadata": {
        "id": "view-in-github",
        "colab_type": "text"
      },
      "source": [
        "<a href=\"https://colab.research.google.com/github/worldwidekatie/DS-Unit-2-Linear-Models/blob/master/module2-regression-2/LS_DS_212_assignment.ipynb\" target=\"_parent\"><img src=\"https://colab.research.google.com/assets/colab-badge.svg\" alt=\"Open In Colab\"/></a>"
      ]
    },
    {
      "cell_type": "markdown",
      "metadata": {
        "id": "Y0F3GhnxQMA0",
        "colab_type": "text"
      },
      "source": [
        "Lambda School Data Science\n",
        "\n",
        "*Unit 2, Sprint 1, Module 3*\n",
        "\n",
        "---"
      ]
    },
    {
      "cell_type": "markdown",
      "metadata": {
        "colab_type": "text",
        "id": "7IXUfiQ2UKj6"
      },
      "source": [
        "# Ridge Regression\n",
        "\n",
        "## Assignment\n",
        "\n",
        "We're going back to our other **New York City** real estate dataset. Instead of predicting apartment rents, you'll predict property sales prices.\n",
        "\n",
        "But not just for condos in Tribeca...\n",
        "\n",
        "- [ ] Use a subset of the data where `BUILDING_CLASS_CATEGORY` == `'01 ONE FAMILY DWELLINGS'` and the sale price was more than 100 thousand and less than 2 million.\n",
        "- [ ] Do train/test split. Use data from January — March 2019 to train. Use data from April 2019 to test.\n",
        "- [ ] Do one-hot encoding of categorical features.\n",
        "- [ ] Do feature selection with `SelectKBest`.\n",
        "- [ ] Fit a ridge regression model with multiple features. Use the `normalize=True` parameter (or do [feature scaling](https://scikit-learn.org/stable/modules/preprocessing.html) beforehand — use the scaler's `fit_transform` method with the train set, and the scaler's `transform` method with the test set)\n",
        "- [ ] Get mean absolute error for the test set.\n",
        "- [ ] As always, commit your notebook to your fork of the GitHub repo.\n",
        "\n",
        "The [NYC Department of Finance](https://www1.nyc.gov/site/finance/taxes/property-rolling-sales-data.page) has a glossary of property sales terms and NYC Building Class Code Descriptions. The data comes from the [NYC OpenData](https://data.cityofnewyork.us/browse?q=NYC%20calendar%20sales) portal.\n",
        "\n",
        "\n",
        "## Stretch Goals\n",
        "\n",
        "Don't worry, you aren't expected to do all these stretch goals! These are just ideas to consider and choose from.\n",
        "\n",
        "- [ ] Add your own stretch goal(s) !\n",
        "- [ ] Instead of `Ridge`, try `LinearRegression`. Depending on how many features you select, your errors will probably blow up! 💥\n",
        "- [ ] Instead of `Ridge`, try [`RidgeCV`](https://scikit-learn.org/stable/modules/generated/sklearn.linear_model.RidgeCV.html).\n",
        "- [ ] Learn more about feature selection:\n",
        "    - [\"Permutation importance\"](https://www.kaggle.com/dansbecker/permutation-importance)\n",
        "    - [scikit-learn's User Guide for Feature Selection](https://scikit-learn.org/stable/modules/feature_selection.html)\n",
        "    - [mlxtend](http://rasbt.github.io/mlxtend/) library\n",
        "    - scikit-learn-contrib libraries: [boruta_py](https://github.com/scikit-learn-contrib/boruta_py) & [stability-selection](https://github.com/scikit-learn-contrib/stability-selection)\n",
        "    - [_Feature Engineering and Selection_](http://www.feat.engineering/) by Kuhn & Johnson.\n",
        "- [ ] Try [statsmodels](https://www.statsmodels.org/stable/index.html) if you’re interested in more inferential statistical approach to linear regression and feature selection, looking at p values and 95% confidence intervals for the coefficients.\n",
        "- [ ] Read [_An Introduction to Statistical Learning_](http://faculty.marshall.usc.edu/gareth-james/ISL/ISLR%20Seventh%20Printing.pdf), Chapters 1-3, for more math & theory, but in an accessible, readable way.\n",
        "- [ ] Try [scikit-learn pipelines](https://scikit-learn.org/stable/modules/compose.html)."
      ]
    },
    {
      "cell_type": "code",
      "metadata": {
        "colab_type": "code",
        "id": "o9eSnDYhUGD7",
        "colab": {}
      },
      "source": [
        "%%capture\n",
        "import sys\n",
        "\n",
        "# If you're on Colab:\n",
        "if 'google.colab' in sys.modules:\n",
        "    DATA_PATH = 'https://raw.githubusercontent.com/LambdaSchool/DS-Unit-2-Applied-Modeling/master/data/'\n",
        "    !pip install category_encoders==2.*\n",
        "\n",
        "# If you're working locally:\n",
        "else:\n",
        "    DATA_PATH = '../data/'\n",
        "    \n",
        "# Ignore this Numpy warning when using Plotly Express:\n",
        "# FutureWarning: Method .ptp is deprecated and will be removed in a future version. Use numpy.ptp instead.\n",
        "import warnings\n",
        "warnings.filterwarnings(action='ignore', category=FutureWarning, module='numpy')"
      ],
      "execution_count": 0,
      "outputs": []
    },
    {
      "cell_type": "code",
      "metadata": {
        "colab_type": "code",
        "id": "QJBD4ruICm1m",
        "colab": {}
      },
      "source": [
        "import pandas as pd\n",
        "import pandas_profiling\n",
        "\n",
        "# Read New York City property sales data\n",
        "df = pd.read_csv(DATA_PATH+'condos/NYC_Citywide_Rolling_Calendar_Sales.csv')\n",
        "\n",
        "# Change column names: replace spaces with underscores\n",
        "df.columns = [col.replace(' ', '_') for col in df]\n",
        "\n",
        "# SALE_PRICE was read as strings.\n",
        "# Remove symbols, convert to integer\n",
        "df['SALE_PRICE'] = (\n",
        "    df['SALE_PRICE']\n",
        "    .str.replace('$','')\n",
        "    .str.replace('-','')\n",
        "    .str.replace(',','')\n",
        "    .astype(int)\n",
        ")"
      ],
      "execution_count": 0,
      "outputs": []
    },
    {
      "cell_type": "code",
      "metadata": {
        "id": "3enyCMNXQMB9",
        "colab_type": "code",
        "colab": {}
      },
      "source": [
        "# BOROUGH is a numeric column, but arguably should be a categorical feature,\n",
        "# so convert it from a number to a string\n",
        "df['BOROUGH'] = df['BOROUGH'].astype(str)"
      ],
      "execution_count": 0,
      "outputs": []
    },
    {
      "cell_type": "code",
      "metadata": {
        "id": "4FCcPltOQMCH",
        "colab_type": "code",
        "colab": {}
      },
      "source": [
        "# Reduce cardinality for NEIGHBORHOOD feature\n",
        "\n",
        "# Get a list of the top 10 neighborhoods\n",
        "top10 = df['NEIGHBORHOOD'].value_counts()[:10].index\n",
        "\n",
        "# At locations where the neighborhood is NOT in the top 10, \n",
        "# replace the neighborhood with 'OTHER'\n",
        "df.loc[~df['NEIGHBORHOOD'].isin(top10), 'NEIGHBORHOOD'] = 'OTHER'"
      ],
      "execution_count": 0,
      "outputs": []
    },
    {
      "cell_type": "markdown",
      "metadata": {
        "id": "9naAiIYx8dei",
        "colab_type": "text"
      },
      "source": [
        "### Use a subset of the data where BUILDING_CLASS_CATEGORY == '01 ONE FAMILY DWELLINGS' and the sale price was more than 100 thousand and less than 2 million."
      ]
    },
    {
      "cell_type": "code",
      "metadata": {
        "id": "c6CTpu0OU2Lh",
        "colab_type": "code",
        "outputId": "c75981d9-7f11-4c19-88aa-c2dcb8f1528d",
        "colab": {
          "base_uri": "https://localhost:8080/",
          "height": 221
        }
      },
      "source": [
        "df['SALE_PRICE']"
      ],
      "execution_count": 0,
      "outputs": [
        {
          "output_type": "execute_result",
          "data": {
            "text/plain": [
              "0              0\n",
              "1              0\n",
              "2              0\n",
              "3              0\n",
              "4              0\n",
              "          ...   \n",
              "23035     510000\n",
              "23036     355000\n",
              "23037     375000\n",
              "23038    1100000\n",
              "23039     569202\n",
              "Name: SALE_PRICE, Length: 23040, dtype: int64"
            ]
          },
          "metadata": {
            "tags": []
          },
          "execution_count": 79
        }
      ]
    },
    {
      "cell_type": "code",
      "metadata": {
        "id": "eJ8WB15lQMCR",
        "colab_type": "code",
        "outputId": "1ab72583-598f-464c-bde7-ded1fddbaee6",
        "colab": {
          "base_uri": "https://localhost:8080/",
          "height": 326
        }
      },
      "source": [
        "df2 = df[(df['BUILDING_CLASS_CATEGORY'] == '01 ONE FAMILY DWELLINGS') & \n",
        "         (df['SALE_PRICE'] > 100000) & \n",
        "         (df['SALE_PRICE'] < 2000000)]\n",
        "df2.head()"
      ],
      "execution_count": 0,
      "outputs": [
        {
          "output_type": "execute_result",
          "data": {
            "text/html": [
              "<div>\n",
              "<style scoped>\n",
              "    .dataframe tbody tr th:only-of-type {\n",
              "        vertical-align: middle;\n",
              "    }\n",
              "\n",
              "    .dataframe tbody tr th {\n",
              "        vertical-align: top;\n",
              "    }\n",
              "\n",
              "    .dataframe thead th {\n",
              "        text-align: right;\n",
              "    }\n",
              "</style>\n",
              "<table border=\"1\" class=\"dataframe\">\n",
              "  <thead>\n",
              "    <tr style=\"text-align: right;\">\n",
              "      <th></th>\n",
              "      <th>BOROUGH</th>\n",
              "      <th>NEIGHBORHOOD</th>\n",
              "      <th>BUILDING_CLASS_CATEGORY</th>\n",
              "      <th>TAX_CLASS_AT_PRESENT</th>\n",
              "      <th>BLOCK</th>\n",
              "      <th>LOT</th>\n",
              "      <th>EASE-MENT</th>\n",
              "      <th>BUILDING_CLASS_AT_PRESENT</th>\n",
              "      <th>ADDRESS</th>\n",
              "      <th>APARTMENT_NUMBER</th>\n",
              "      <th>ZIP_CODE</th>\n",
              "      <th>RESIDENTIAL_UNITS</th>\n",
              "      <th>COMMERCIAL_UNITS</th>\n",
              "      <th>TOTAL_UNITS</th>\n",
              "      <th>LAND_SQUARE_FEET</th>\n",
              "      <th>GROSS_SQUARE_FEET</th>\n",
              "      <th>YEAR_BUILT</th>\n",
              "      <th>TAX_CLASS_AT_TIME_OF_SALE</th>\n",
              "      <th>BUILDING_CLASS_AT_TIME_OF_SALE</th>\n",
              "      <th>SALE_PRICE</th>\n",
              "      <th>SALE_DATE</th>\n",
              "    </tr>\n",
              "  </thead>\n",
              "  <tbody>\n",
              "    <tr>\n",
              "      <th>44</th>\n",
              "      <td>3</td>\n",
              "      <td>OTHER</td>\n",
              "      <td>01 ONE FAMILY DWELLINGS</td>\n",
              "      <td>1</td>\n",
              "      <td>5495</td>\n",
              "      <td>801</td>\n",
              "      <td>NaN</td>\n",
              "      <td>A9</td>\n",
              "      <td>4832 BAY PARKWAY</td>\n",
              "      <td>NaN</td>\n",
              "      <td>11230.0</td>\n",
              "      <td>1.0</td>\n",
              "      <td>0.0</td>\n",
              "      <td>1.0</td>\n",
              "      <td>6,800</td>\n",
              "      <td>1325.0</td>\n",
              "      <td>1930.0</td>\n",
              "      <td>1</td>\n",
              "      <td>A9</td>\n",
              "      <td>550000</td>\n",
              "      <td>01/01/2019</td>\n",
              "    </tr>\n",
              "    <tr>\n",
              "      <th>61</th>\n",
              "      <td>4</td>\n",
              "      <td>OTHER</td>\n",
              "      <td>01 ONE FAMILY DWELLINGS</td>\n",
              "      <td>1</td>\n",
              "      <td>7918</td>\n",
              "      <td>72</td>\n",
              "      <td>NaN</td>\n",
              "      <td>A1</td>\n",
              "      <td>80-23 232ND STREET</td>\n",
              "      <td>NaN</td>\n",
              "      <td>11427.0</td>\n",
              "      <td>1.0</td>\n",
              "      <td>0.0</td>\n",
              "      <td>1.0</td>\n",
              "      <td>4,000</td>\n",
              "      <td>2001.0</td>\n",
              "      <td>1940.0</td>\n",
              "      <td>1</td>\n",
              "      <td>A1</td>\n",
              "      <td>200000</td>\n",
              "      <td>01/01/2019</td>\n",
              "    </tr>\n",
              "    <tr>\n",
              "      <th>78</th>\n",
              "      <td>2</td>\n",
              "      <td>OTHER</td>\n",
              "      <td>01 ONE FAMILY DWELLINGS</td>\n",
              "      <td>1</td>\n",
              "      <td>4210</td>\n",
              "      <td>19</td>\n",
              "      <td>NaN</td>\n",
              "      <td>A1</td>\n",
              "      <td>1260 RHINELANDER AVE</td>\n",
              "      <td>NaN</td>\n",
              "      <td>10461.0</td>\n",
              "      <td>1.0</td>\n",
              "      <td>0.0</td>\n",
              "      <td>1.0</td>\n",
              "      <td>3,500</td>\n",
              "      <td>2043.0</td>\n",
              "      <td>1925.0</td>\n",
              "      <td>1</td>\n",
              "      <td>A1</td>\n",
              "      <td>810000</td>\n",
              "      <td>01/02/2019</td>\n",
              "    </tr>\n",
              "    <tr>\n",
              "      <th>108</th>\n",
              "      <td>3</td>\n",
              "      <td>OTHER</td>\n",
              "      <td>01 ONE FAMILY DWELLINGS</td>\n",
              "      <td>1</td>\n",
              "      <td>5212</td>\n",
              "      <td>69</td>\n",
              "      <td>NaN</td>\n",
              "      <td>A1</td>\n",
              "      <td>469 E 25TH ST</td>\n",
              "      <td>NaN</td>\n",
              "      <td>11226.0</td>\n",
              "      <td>1.0</td>\n",
              "      <td>0.0</td>\n",
              "      <td>1.0</td>\n",
              "      <td>4,000</td>\n",
              "      <td>2680.0</td>\n",
              "      <td>1899.0</td>\n",
              "      <td>1</td>\n",
              "      <td>A1</td>\n",
              "      <td>125000</td>\n",
              "      <td>01/02/2019</td>\n",
              "    </tr>\n",
              "    <tr>\n",
              "      <th>111</th>\n",
              "      <td>3</td>\n",
              "      <td>OTHER</td>\n",
              "      <td>01 ONE FAMILY DWELLINGS</td>\n",
              "      <td>1</td>\n",
              "      <td>7930</td>\n",
              "      <td>121</td>\n",
              "      <td>NaN</td>\n",
              "      <td>A5</td>\n",
              "      <td>5521 WHITTY LANE</td>\n",
              "      <td>NaN</td>\n",
              "      <td>11203.0</td>\n",
              "      <td>1.0</td>\n",
              "      <td>0.0</td>\n",
              "      <td>1.0</td>\n",
              "      <td>1,710</td>\n",
              "      <td>1872.0</td>\n",
              "      <td>1940.0</td>\n",
              "      <td>1</td>\n",
              "      <td>A5</td>\n",
              "      <td>620000</td>\n",
              "      <td>01/02/2019</td>\n",
              "    </tr>\n",
              "  </tbody>\n",
              "</table>\n",
              "</div>"
            ],
            "text/plain": [
              "    BOROUGH NEIGHBORHOOD  ... SALE_PRICE   SALE_DATE\n",
              "44        3        OTHER  ...     550000  01/01/2019\n",
              "61        4        OTHER  ...     200000  01/01/2019\n",
              "78        2        OTHER  ...     810000  01/02/2019\n",
              "108       3        OTHER  ...     125000  01/02/2019\n",
              "111       3        OTHER  ...     620000  01/02/2019\n",
              "\n",
              "[5 rows x 21 columns]"
            ]
          },
          "metadata": {
            "tags": []
          },
          "execution_count": 80
        }
      ]
    },
    {
      "cell_type": "markdown",
      "metadata": {
        "id": "yA7P-3SR8fek",
        "colab_type": "text"
      },
      "source": [
        "### Do train/test split. Use data from January — March 2019 to train. Use data from April 2019 to test."
      ]
    },
    {
      "cell_type": "code",
      "metadata": {
        "id": "noykU1xR8fxZ",
        "colab_type": "code",
        "outputId": "2debf28c-319c-4833-9ffa-a17cd08e97d2",
        "colab": {
          "base_uri": "https://localhost:8080/",
          "height": 136
        }
      },
      "source": [
        "print(df2['SALE_DATE'].min())\n",
        "print(df2['SALE_DATE'].max())\n",
        "df2['SALE_DATE'].describe()"
      ],
      "execution_count": 0,
      "outputs": [
        {
          "output_type": "stream",
          "text": [
            "01/01/2019\n",
            "04/30/2019\n"
          ],
          "name": "stdout"
        },
        {
          "output_type": "execute_result",
          "data": {
            "text/plain": [
              "count           3151\n",
              "unique            91\n",
              "top       01/31/2019\n",
              "freq              78\n",
              "Name: SALE_DATE, dtype: object"
            ]
          },
          "metadata": {
            "tags": []
          },
          "execution_count": 81
        }
      ]
    },
    {
      "cell_type": "code",
      "metadata": {
        "id": "d6h1VZDmZxMK",
        "colab_type": "code",
        "outputId": "1d4a45a1-616b-4741-dea4-c03cb8196162",
        "colab": {
          "base_uri": "https://localhost:8080/",
          "height": 514
        }
      },
      "source": [
        "#Can't get this to work so I'm giving up on it and going with the easier way.\n",
        "df2['SALE_DATE'] = pd.to_datetime(df2['SALE_DATE'], infer_datetime_format=True)\n",
        "cutoff = pd.to_datetime('04/01/2019')\n",
        "train = df[df.SALE_DATE < cutoff]\n",
        "test = df[df.SALE_DATE > cutoff]"
      ],
      "execution_count": 0,
      "outputs": [
        {
          "output_type": "stream",
          "text": [
            "/usr/local/lib/python3.6/dist-packages/ipykernel_launcher.py:1: SettingWithCopyWarning: \n",
            "A value is trying to be set on a copy of a slice from a DataFrame.\n",
            "Try using .loc[row_indexer,col_indexer] = value instead\n",
            "\n",
            "See the caveats in the documentation: https://pandas.pydata.org/pandas-docs/stable/user_guide/indexing.html#returning-a-view-versus-a-copy\n",
            "  \"\"\"Entry point for launching an IPython kernel.\n"
          ],
          "name": "stderr"
        },
        {
          "output_type": "error",
          "ename": "TypeError",
          "evalue": "ignored",
          "traceback": [
            "\u001b[0;31m---------------------------------------------------------------------------\u001b[0m",
            "\u001b[0;31mTypeError\u001b[0m                                 Traceback (most recent call last)",
            "\u001b[0;32m<ipython-input-82-aa0045f52770>\u001b[0m in \u001b[0;36m<module>\u001b[0;34m()\u001b[0m\n\u001b[1;32m      1\u001b[0m \u001b[0mdf2\u001b[0m\u001b[0;34m[\u001b[0m\u001b[0;34m'SALE_DATE'\u001b[0m\u001b[0;34m]\u001b[0m \u001b[0;34m=\u001b[0m \u001b[0mpd\u001b[0m\u001b[0;34m.\u001b[0m\u001b[0mto_datetime\u001b[0m\u001b[0;34m(\u001b[0m\u001b[0mdf2\u001b[0m\u001b[0;34m[\u001b[0m\u001b[0;34m'SALE_DATE'\u001b[0m\u001b[0;34m]\u001b[0m\u001b[0;34m,\u001b[0m \u001b[0minfer_datetime_format\u001b[0m\u001b[0;34m=\u001b[0m\u001b[0;32mTrue\u001b[0m\u001b[0;34m)\u001b[0m\u001b[0;34m\u001b[0m\u001b[0;34m\u001b[0m\u001b[0m\n\u001b[1;32m      2\u001b[0m \u001b[0mcutoff\u001b[0m \u001b[0;34m=\u001b[0m \u001b[0mpd\u001b[0m\u001b[0;34m.\u001b[0m\u001b[0mto_datetime\u001b[0m\u001b[0;34m(\u001b[0m\u001b[0;34m'04/01/2019'\u001b[0m\u001b[0;34m)\u001b[0m\u001b[0;34m\u001b[0m\u001b[0;34m\u001b[0m\u001b[0m\n\u001b[0;32m----> 3\u001b[0;31m \u001b[0mtrain\u001b[0m \u001b[0;34m=\u001b[0m \u001b[0mdf\u001b[0m\u001b[0;34m[\u001b[0m\u001b[0mdf\u001b[0m\u001b[0;34m.\u001b[0m\u001b[0mSALE_DATE\u001b[0m \u001b[0;34m<\u001b[0m \u001b[0mcutoff\u001b[0m\u001b[0;34m]\u001b[0m\u001b[0;34m\u001b[0m\u001b[0;34m\u001b[0m\u001b[0m\n\u001b[0m\u001b[1;32m      4\u001b[0m \u001b[0mtest\u001b[0m \u001b[0;34m=\u001b[0m \u001b[0mdf\u001b[0m\u001b[0;34m[\u001b[0m\u001b[0mdf\u001b[0m\u001b[0;34m.\u001b[0m\u001b[0mSALE_DATE\u001b[0m \u001b[0;34m>\u001b[0m \u001b[0mcutoff\u001b[0m\u001b[0;34m]\u001b[0m\u001b[0;34m\u001b[0m\u001b[0;34m\u001b[0m\u001b[0m\n",
            "\u001b[0;32m/usr/local/lib/python3.6/dist-packages/pandas/core/ops/common.py\u001b[0m in \u001b[0;36mnew_method\u001b[0;34m(self, other)\u001b[0m\n\u001b[1;32m     62\u001b[0m         \u001b[0mother\u001b[0m \u001b[0;34m=\u001b[0m \u001b[0mitem_from_zerodim\u001b[0m\u001b[0;34m(\u001b[0m\u001b[0mother\u001b[0m\u001b[0;34m)\u001b[0m\u001b[0;34m\u001b[0m\u001b[0;34m\u001b[0m\u001b[0m\n\u001b[1;32m     63\u001b[0m \u001b[0;34m\u001b[0m\u001b[0m\n\u001b[0;32m---> 64\u001b[0;31m         \u001b[0;32mreturn\u001b[0m \u001b[0mmethod\u001b[0m\u001b[0;34m(\u001b[0m\u001b[0mself\u001b[0m\u001b[0;34m,\u001b[0m \u001b[0mother\u001b[0m\u001b[0;34m)\u001b[0m\u001b[0;34m\u001b[0m\u001b[0;34m\u001b[0m\u001b[0m\n\u001b[0m\u001b[1;32m     65\u001b[0m \u001b[0;34m\u001b[0m\u001b[0m\n\u001b[1;32m     66\u001b[0m     \u001b[0;32mreturn\u001b[0m \u001b[0mnew_method\u001b[0m\u001b[0;34m\u001b[0m\u001b[0;34m\u001b[0m\u001b[0m\n",
            "\u001b[0;32m/usr/local/lib/python3.6/dist-packages/pandas/core/ops/__init__.py\u001b[0m in \u001b[0;36mwrapper\u001b[0;34m(self, other)\u001b[0m\n\u001b[1;32m    527\u001b[0m         \u001b[0mrvalues\u001b[0m \u001b[0;34m=\u001b[0m \u001b[0mextract_array\u001b[0m\u001b[0;34m(\u001b[0m\u001b[0mother\u001b[0m\u001b[0;34m,\u001b[0m \u001b[0mextract_numpy\u001b[0m\u001b[0;34m=\u001b[0m\u001b[0;32mTrue\u001b[0m\u001b[0;34m)\u001b[0m\u001b[0;34m\u001b[0m\u001b[0;34m\u001b[0m\u001b[0m\n\u001b[1;32m    528\u001b[0m \u001b[0;34m\u001b[0m\u001b[0m\n\u001b[0;32m--> 529\u001b[0;31m         \u001b[0mres_values\u001b[0m \u001b[0;34m=\u001b[0m \u001b[0mcomparison_op\u001b[0m\u001b[0;34m(\u001b[0m\u001b[0mlvalues\u001b[0m\u001b[0;34m,\u001b[0m \u001b[0mrvalues\u001b[0m\u001b[0;34m,\u001b[0m \u001b[0mop\u001b[0m\u001b[0;34m)\u001b[0m\u001b[0;34m\u001b[0m\u001b[0;34m\u001b[0m\u001b[0m\n\u001b[0m\u001b[1;32m    530\u001b[0m \u001b[0;34m\u001b[0m\u001b[0m\n\u001b[1;32m    531\u001b[0m         \u001b[0;32mreturn\u001b[0m \u001b[0m_construct_result\u001b[0m\u001b[0;34m(\u001b[0m\u001b[0mself\u001b[0m\u001b[0;34m,\u001b[0m \u001b[0mres_values\u001b[0m\u001b[0;34m,\u001b[0m \u001b[0mindex\u001b[0m\u001b[0;34m=\u001b[0m\u001b[0mself\u001b[0m\u001b[0;34m.\u001b[0m\u001b[0mindex\u001b[0m\u001b[0;34m,\u001b[0m \u001b[0mname\u001b[0m\u001b[0;34m=\u001b[0m\u001b[0mres_name\u001b[0m\u001b[0;34m)\u001b[0m\u001b[0;34m\u001b[0m\u001b[0;34m\u001b[0m\u001b[0m\n",
            "\u001b[0;32m/usr/local/lib/python3.6/dist-packages/pandas/core/ops/array_ops.py\u001b[0m in \u001b[0;36mcomparison_op\u001b[0;34m(left, right, op)\u001b[0m\n\u001b[1;32m    245\u001b[0m \u001b[0;34m\u001b[0m\u001b[0m\n\u001b[1;32m    246\u001b[0m     \u001b[0;32melif\u001b[0m \u001b[0mis_object_dtype\u001b[0m\u001b[0;34m(\u001b[0m\u001b[0mlvalues\u001b[0m\u001b[0;34m.\u001b[0m\u001b[0mdtype\u001b[0m\u001b[0;34m)\u001b[0m\u001b[0;34m:\u001b[0m\u001b[0;34m\u001b[0m\u001b[0;34m\u001b[0m\u001b[0m\n\u001b[0;32m--> 247\u001b[0;31m         \u001b[0mres_values\u001b[0m \u001b[0;34m=\u001b[0m \u001b[0mcomp_method_OBJECT_ARRAY\u001b[0m\u001b[0;34m(\u001b[0m\u001b[0mop\u001b[0m\u001b[0;34m,\u001b[0m \u001b[0mlvalues\u001b[0m\u001b[0;34m,\u001b[0m \u001b[0mrvalues\u001b[0m\u001b[0;34m)\u001b[0m\u001b[0;34m\u001b[0m\u001b[0;34m\u001b[0m\u001b[0m\n\u001b[0m\u001b[1;32m    248\u001b[0m \u001b[0;34m\u001b[0m\u001b[0m\n\u001b[1;32m    249\u001b[0m     \u001b[0;32melse\u001b[0m\u001b[0;34m:\u001b[0m\u001b[0;34m\u001b[0m\u001b[0;34m\u001b[0m\u001b[0m\n",
            "\u001b[0;32m/usr/local/lib/python3.6/dist-packages/pandas/core/ops/array_ops.py\u001b[0m in \u001b[0;36mcomp_method_OBJECT_ARRAY\u001b[0;34m(op, x, y)\u001b[0m\n\u001b[1;32m     55\u001b[0m         \u001b[0mresult\u001b[0m \u001b[0;34m=\u001b[0m \u001b[0mlibops\u001b[0m\u001b[0;34m.\u001b[0m\u001b[0mvec_compare\u001b[0m\u001b[0;34m(\u001b[0m\u001b[0mx\u001b[0m\u001b[0;34m.\u001b[0m\u001b[0mravel\u001b[0m\u001b[0;34m(\u001b[0m\u001b[0;34m)\u001b[0m\u001b[0;34m,\u001b[0m \u001b[0my\u001b[0m\u001b[0;34m,\u001b[0m \u001b[0mop\u001b[0m\u001b[0;34m)\u001b[0m\u001b[0;34m\u001b[0m\u001b[0;34m\u001b[0m\u001b[0m\n\u001b[1;32m     56\u001b[0m     \u001b[0;32melse\u001b[0m\u001b[0;34m:\u001b[0m\u001b[0;34m\u001b[0m\u001b[0;34m\u001b[0m\u001b[0m\n\u001b[0;32m---> 57\u001b[0;31m         \u001b[0mresult\u001b[0m \u001b[0;34m=\u001b[0m \u001b[0mlibops\u001b[0m\u001b[0;34m.\u001b[0m\u001b[0mscalar_compare\u001b[0m\u001b[0;34m(\u001b[0m\u001b[0mx\u001b[0m\u001b[0;34m.\u001b[0m\u001b[0mravel\u001b[0m\u001b[0;34m(\u001b[0m\u001b[0;34m)\u001b[0m\u001b[0;34m,\u001b[0m \u001b[0my\u001b[0m\u001b[0;34m,\u001b[0m \u001b[0mop\u001b[0m\u001b[0;34m)\u001b[0m\u001b[0;34m\u001b[0m\u001b[0;34m\u001b[0m\u001b[0m\n\u001b[0m\u001b[1;32m     58\u001b[0m     \u001b[0;32mreturn\u001b[0m \u001b[0mresult\u001b[0m\u001b[0;34m.\u001b[0m\u001b[0mreshape\u001b[0m\u001b[0;34m(\u001b[0m\u001b[0mx\u001b[0m\u001b[0;34m.\u001b[0m\u001b[0mshape\u001b[0m\u001b[0;34m)\u001b[0m\u001b[0;34m\u001b[0m\u001b[0;34m\u001b[0m\u001b[0m\n\u001b[1;32m     59\u001b[0m \u001b[0;34m\u001b[0m\u001b[0m\n",
            "\u001b[0;32mpandas/_libs/ops.pyx\u001b[0m in \u001b[0;36mpandas._libs.ops.scalar_compare\u001b[0;34m()\u001b[0m\n",
            "\u001b[0;31mTypeError\u001b[0m: '<' not supported between instances of 'str' and 'Timestamp'"
          ]
        }
      ]
    },
    {
      "cell_type": "code",
      "metadata": {
        "id": "s0OsK4ftbGhj",
        "colab_type": "code",
        "outputId": "ce847d2e-48c4-449d-f64e-721befabb2b5",
        "colab": {
          "base_uri": "https://localhost:8080/",
          "height": 34
        }
      },
      "source": [
        "train = df[df.SALE_DATE < '04/01/2019']\n",
        "test = df[df.SALE_DATE >= '04/01/2019']\n",
        "train.shape, test.shape"
      ],
      "execution_count": 0,
      "outputs": [
        {
          "output_type": "execute_result",
          "data": {
            "text/plain": [
              "((18167, 21), (4873, 21))"
            ]
          },
          "metadata": {
            "tags": []
          },
          "execution_count": 83
        }
      ]
    },
    {
      "cell_type": "code",
      "metadata": {
        "id": "VSQQGei4iSRN",
        "colab_type": "code",
        "colab": {}
      },
      "source": [
        "train = train.fillna(0)\n",
        "test = test.fillna(0)"
      ],
      "execution_count": 0,
      "outputs": []
    },
    {
      "cell_type": "markdown",
      "metadata": {
        "id": "CuCP16u88gBg",
        "colab_type": "text"
      },
      "source": [
        "### Do one-hot encoding of categorical features."
      ]
    },
    {
      "cell_type": "code",
      "metadata": {
        "id": "IUAI7XlvlMNP",
        "colab_type": "code",
        "colab": {}
      },
      "source": [
        "train.describe(exclude = 'number')"
      ],
      "execution_count": 0,
      "outputs": []
    },
    {
      "cell_type": "code",
      "metadata": {
        "id": "Drk_JpJB8gZS",
        "colab_type": "code",
        "colab": {}
      },
      "source": [
        "print(df2['BLOCK'].value_counts())\n",
        "print(df2['LOT'].value_counts())\n",
        "print(df2['ZIP_CODE'].value_counts())\n",
        "print(df2['RESIDENTIAL_UNITS'].value_counts())\n",
        "print(df2['COMMERCIAL_UNITS'].value_counts())\n",
        "print(df2['TOTAL_UNITS'].value_counts())\n",
        "print(df2['GROSS_SQUARE_FEET'].value_counts())\n",
        "print(df2['YEAR_BUILT'].value_counts())\n",
        "print(df2['TAX_CLASS_AT_TIME_OF_SALE'].value_counts())\n",
        "\n",
        "df2.describe()"
      ],
      "execution_count": 0,
      "outputs": []
    },
    {
      "cell_type": "code",
      "metadata": {
        "id": "I0wpNVWBcDqn",
        "colab_type": "code",
        "outputId": "d62a711c-d4ce-45dd-f2cb-56e549e04b19",
        "colab": {
          "base_uri": "https://localhost:8080/",
          "height": 119
        }
      },
      "source": [
        "target = 'SALE_PRICE'\n",
        "\n",
        "#First I should take away the ones with a ridiculous amount of categories\n",
        "high_cardinality = ['ADDRESS', 'APARTMENT_NUMBER','LAND_SQUARE_FEET', 'SALE_DATE', 'EASE-MENT']\n",
        "features = train.columns.drop([target] + high_cardinality)\n",
        "features"
      ],
      "execution_count": 0,
      "outputs": [
        {
          "output_type": "execute_result",
          "data": {
            "text/plain": [
              "Index(['BOROUGH', 'NEIGHBORHOOD', 'BUILDING_CLASS_CATEGORY',\n",
              "       'TAX_CLASS_AT_PRESENT', 'BLOCK', 'LOT', 'BUILDING_CLASS_AT_PRESENT',\n",
              "       'ZIP_CODE', 'RESIDENTIAL_UNITS', 'COMMERCIAL_UNITS', 'TOTAL_UNITS',\n",
              "       'GROSS_SQUARE_FEET', 'YEAR_BUILT', 'TAX_CLASS_AT_TIME_OF_SALE',\n",
              "       'BUILDING_CLASS_AT_TIME_OF_SALE'],\n",
              "      dtype='object')"
            ]
          },
          "metadata": {
            "tags": []
          },
          "execution_count": 85
        }
      ]
    },
    {
      "cell_type": "code",
      "metadata": {
        "id": "GH_w_RCvdRF8",
        "colab_type": "code",
        "outputId": "251ac9f8-8fd0-47d9-9b39-9e6d9e4c9022",
        "colab": {
          "base_uri": "https://localhost:8080/",
          "height": 34
        }
      },
      "source": [
        "X_train = train[features]\n",
        "y_train = train[target]\n",
        "\n",
        "X_test = test[features]\n",
        "y_test = test[target]\n",
        "\n",
        "X_train.shape, X_test.shape"
      ],
      "execution_count": 0,
      "outputs": [
        {
          "output_type": "execute_result",
          "data": {
            "text/plain": [
              "((18167, 15), (4873, 15))"
            ]
          },
          "metadata": {
            "tags": []
          },
          "execution_count": 86
        }
      ]
    },
    {
      "cell_type": "code",
      "metadata": {
        "id": "UV5IsPlEdcqs",
        "colab_type": "code",
        "outputId": "aba81753-029a-49c6-9629-1edb239bcc48",
        "colab": {
          "base_uri": "https://localhost:8080/",
          "height": 34
        }
      },
      "source": [
        "import category_encoders as ce\n",
        "encoder = ce.OneHotEncoder(use_cat_names=True)\n",
        "X_train = encoder.fit_transform(X_train)\n",
        "X_test = encoder.transform(X_test) #And we don't use fit here so the model doesn't \n",
        "                                     #Learn from the test data\n",
        "X_train.shape, X_test.shape #That's way too many columns but I took away the numeric\n",
        "                            #columns that had thousands of categories so idk what's \n",
        "                            #happening RN."
      ],
      "execution_count": 0,
      "outputs": [
        {
          "output_type": "execute_result",
          "data": {
            "text/plain": [
              "((18167, 358), (4873, 358))"
            ]
          },
          "metadata": {
            "tags": []
          },
          "execution_count": 87
        }
      ]
    },
    {
      "cell_type": "code",
      "metadata": {
        "id": "rKPVzPORdilL",
        "colab_type": "code",
        "colab": {}
      },
      "source": [
        "X_train.head()"
      ],
      "execution_count": 0,
      "outputs": []
    },
    {
      "cell_type": "markdown",
      "metadata": {
        "id": "NsS78G788gnm",
        "colab_type": "text"
      },
      "source": [
        "### Do feature selection with `SelectKBest`"
      ]
    },
    {
      "cell_type": "code",
      "metadata": {
        "id": "BVDzWeuwdiw_",
        "colab_type": "code",
        "outputId": "1539983c-38c3-4b70-86f0-346eb534d868",
        "colab": {
          "base_uri": "https://localhost:8080/",
          "height": 34
        }
      },
      "source": [
        "from sklearn.feature_selection import SelectKBest, f_regression\n",
        "\n",
        "selector = SelectKBest(score_func=f_regression, k=50)\n",
        "\n",
        "X_train_selected = selector.fit_transform(X_train, y_train)\n",
        "X_test_selected = selector.transform(X_test)\n",
        "\n",
        "X_train_selected.shape, X_test_selected.shape"
      ],
      "execution_count": 0,
      "outputs": [
        {
          "output_type": "execute_result",
          "data": {
            "text/plain": [
              "((18167, 50), (4873, 50))"
            ]
          },
          "metadata": {
            "tags": []
          },
          "execution_count": 88
        }
      ]
    },
    {
      "cell_type": "code",
      "metadata": {
        "id": "jGZdal848s-r",
        "colab_type": "code",
        "outputId": "12457066-81d3-4adf-f7df-56d3973b2a22",
        "colab": {
          "base_uri": "https://localhost:8080/",
          "height": 952
        }
      },
      "source": [
        "selected_mask = selector.get_support()\n",
        "all_names = X_train.columns\n",
        "selected_names = all_names[selected_mask]\n",
        "unselected_names = all_names[~selected_mask]\n",
        "\n",
        "print('Features Selected:')\n",
        "for name in selected_names:\n",
        "  print(name)\n",
        "\n",
        "print('\\n')\n",
        "print('Features not selected:')\n",
        "print('Too many Features Im not printing this')\n",
        "#for name in unselected_names:\n",
        "    #print(name)"
      ],
      "execution_count": 0,
      "outputs": [
        {
          "output_type": "stream",
          "text": [
            "Features Selected:\n",
            "BOROUGH_1\n",
            "BOROUGH_4\n",
            "BUILDING_CLASS_CATEGORY_21 OFFICE BUILDINGS\n",
            "BUILDING_CLASS_CATEGORY_01 ONE FAMILY DWELLINGS\n",
            "BUILDING_CLASS_CATEGORY_02 TWO FAMILY DWELLINGS\n",
            "BUILDING_CLASS_CATEGORY_32 HOSPITAL AND HEALTH FACILITIES\n",
            "BUILDING_CLASS_CATEGORY_33 EDUCATIONAL FACILITIES\n",
            "BUILDING_CLASS_CATEGORY_08 RENTALS - ELEVATOR APARTMENTS\n",
            "BUILDING_CLASS_CATEGORY_22 STORE BUILDINGS\n",
            "BUILDING_CLASS_CATEGORY_30 WAREHOUSES\n",
            "BUILDING_CLASS_CATEGORY_25 LUXURY HOTELS\n",
            "BUILDING_CLASS_CATEGORY_11A CONDO-RENTALS\n",
            "BUILDING_CLASS_CATEGORY_28 COMMERCIAL CONDOS\n",
            "TAX_CLASS_AT_PRESENT_4\n",
            "TAX_CLASS_AT_PRESENT_1\n",
            "BLOCK\n",
            "BUILDING_CLASS_AT_PRESENT_D6\n",
            "BUILDING_CLASS_AT_PRESENT_E1\n",
            "BUILDING_CLASS_AT_PRESENT_D1\n",
            "BUILDING_CLASS_AT_PRESENT_O4\n",
            "BUILDING_CLASS_AT_PRESENT_E9\n",
            "BUILDING_CLASS_AT_PRESENT_O6\n",
            "BUILDING_CLASS_AT_PRESENT_H1\n",
            "BUILDING_CLASS_AT_PRESENT_RR\n",
            "BUILDING_CLASS_AT_PRESENT_D8\n",
            "BUILDING_CLASS_AT_PRESENT_W8\n",
            "BUILDING_CLASS_AT_PRESENT_R5\n",
            "BUILDING_CLASS_AT_PRESENT_K3\n",
            "BUILDING_CLASS_AT_PRESENT_I4\n",
            "BUILDING_CLASS_AT_PRESENT_H2\n",
            "ZIP_CODE\n",
            "RESIDENTIAL_UNITS\n",
            "COMMERCIAL_UNITS\n",
            "TOTAL_UNITS\n",
            "GROSS_SQUARE_FEET\n",
            "TAX_CLASS_AT_TIME_OF_SALE\n",
            "BUILDING_CLASS_AT_TIME_OF_SALE_D6\n",
            "BUILDING_CLASS_AT_TIME_OF_SALE_E1\n",
            "BUILDING_CLASS_AT_TIME_OF_SALE_D1\n",
            "BUILDING_CLASS_AT_TIME_OF_SALE_O4\n",
            "BUILDING_CLASS_AT_TIME_OF_SALE_E9\n",
            "BUILDING_CLASS_AT_TIME_OF_SALE_O6\n",
            "BUILDING_CLASS_AT_TIME_OF_SALE_H1\n",
            "BUILDING_CLASS_AT_TIME_OF_SALE_RR\n",
            "BUILDING_CLASS_AT_TIME_OF_SALE_D8\n",
            "BUILDING_CLASS_AT_TIME_OF_SALE_W8\n",
            "BUILDING_CLASS_AT_TIME_OF_SALE_R5\n",
            "BUILDING_CLASS_AT_TIME_OF_SALE_K3\n",
            "BUILDING_CLASS_AT_TIME_OF_SALE_I4\n",
            "BUILDING_CLASS_AT_TIME_OF_SALE_H2\n",
            "\n",
            "\n",
            "Features not selected:\n",
            "Too many Features Im not printing this\n"
          ],
          "name": "stdout"
        }
      ]
    },
    {
      "cell_type": "code",
      "metadata": {
        "id": "WcJuDc32jvTe",
        "colab_type": "code",
        "outputId": "f54de6cd-4f5d-4d6c-a79b-4e38ae965f93",
        "colab": {
          "base_uri": "https://localhost:8080/",
          "height": 1000
        }
      },
      "source": [
        "from sklearn.linear_model import LinearRegression\n",
        "from sklearn.metrics import mean_absolute_error\n",
        "\n",
        "for k in range(1, len(X_train.columns)-308):\n",
        "    print(f'{k} features')\n",
        "    \n",
        "    selector = SelectKBest(score_func=f_regression, k=k)\n",
        "    X_train_selected = selector.fit_transform(X_train, y_train)\n",
        "    X_test_selected = selector.transform(X_test)\n",
        "\n",
        "    model = LinearRegression()\n",
        "    model.fit(X_train_selected, y_train)\n",
        "    y_pred = model.predict(X_test_selected)\n",
        "    mae = mean_absolute_error(y_test, y_pred)\n",
        "    print(f'Test Mean Absolute Error: ${mae:,.0f} \\n')"
      ],
      "execution_count": 0,
      "outputs": [
        {
          "output_type": "stream",
          "text": [
            "1 features\n",
            "Test Mean Absolute Error: $1,781,542 \n",
            "\n",
            "2 features\n",
            "Test Mean Absolute Error: $1,781,576 \n",
            "\n",
            "3 features\n",
            "Test Mean Absolute Error: $1,966,740 \n",
            "\n",
            "4 features\n",
            "Test Mean Absolute Error: $1,877,914 \n",
            "\n",
            "5 features\n",
            "Test Mean Absolute Error: $1,877,914 \n",
            "\n",
            "6 features\n",
            "Test Mean Absolute Error: $1,813,726 \n",
            "\n",
            "7 features\n",
            "Test Mean Absolute Error: $1,813,726 \n",
            "\n",
            "8 features\n",
            "Test Mean Absolute Error: $1,804,004 \n",
            "\n",
            "9 features\n",
            "Test Mean Absolute Error: $1,808,980 \n",
            "\n",
            "10 features\n",
            "Test Mean Absolute Error: $1,808,551 \n",
            "\n",
            "11 features\n",
            "Test Mean Absolute Error: $1,779,940 \n",
            "\n",
            "12 features\n",
            "Test Mean Absolute Error: $1,786,961 \n",
            "\n",
            "13 features\n",
            "Test Mean Absolute Error: $1,877,944 \n",
            "\n",
            "14 features\n",
            "Test Mean Absolute Error: $1,877,944 \n",
            "\n",
            "15 features\n",
            "Test Mean Absolute Error: $1,878,474 \n",
            "\n",
            "16 features\n",
            "Test Mean Absolute Error: $1,879,076 \n",
            "\n",
            "17 features\n",
            "Test Mean Absolute Error: $1,879,076 \n",
            "\n",
            "18 features\n",
            "Test Mean Absolute Error: $1,879,257 \n",
            "\n",
            "19 features\n",
            "Test Mean Absolute Error: $1,880,043 \n",
            "\n",
            "20 features\n",
            "Test Mean Absolute Error: $1,886,450 \n",
            "\n",
            "21 features\n",
            "Test Mean Absolute Error: $1,881,771 \n",
            "\n",
            "22 features\n",
            "Test Mean Absolute Error: $1,881,923 \n",
            "\n",
            "23 features\n",
            "Test Mean Absolute Error: $1,873,457 \n",
            "\n",
            "24 features\n",
            "Test Mean Absolute Error: $1,873,457 \n",
            "\n",
            "25 features\n",
            "Test Mean Absolute Error: $1,875,279 \n",
            "\n",
            "26 features\n",
            "Test Mean Absolute Error: $1,887,044 \n",
            "\n",
            "27 features\n",
            "Test Mean Absolute Error: $1,887,353 \n",
            "\n",
            "28 features\n",
            "Test Mean Absolute Error: $1,892,951 \n",
            "\n",
            "29 features\n",
            "Test Mean Absolute Error: $1,892,951 \n",
            "\n",
            "30 features\n",
            "Test Mean Absolute Error: $1,894,939 \n",
            "\n",
            "31 features\n",
            "Test Mean Absolute Error: $1,887,207 \n",
            "\n",
            "32 features\n",
            "Test Mean Absolute Error: $1,887,207 \n",
            "\n",
            "33 features\n",
            "Test Mean Absolute Error: $1,886,395 \n",
            "\n",
            "34 features\n",
            "Test Mean Absolute Error: $1,886,760 \n",
            "\n",
            "35 features\n",
            "Test Mean Absolute Error: $1,883,278 \n",
            "\n",
            "36 features\n",
            "Test Mean Absolute Error: $1,883,278 \n",
            "\n",
            "37 features\n",
            "Test Mean Absolute Error: $1,883,278 \n",
            "\n",
            "38 features\n",
            "Test Mean Absolute Error: $1,881,781 \n",
            "\n",
            "39 features\n",
            "Test Mean Absolute Error: $1,881,781 \n",
            "\n",
            "40 features\n",
            "Test Mean Absolute Error: $1,880,016 \n",
            "\n",
            "41 features\n",
            "Test Mean Absolute Error: $1,880,646 \n",
            "\n",
            "42 features\n",
            "Test Mean Absolute Error: $1,881,876 \n",
            "\n",
            "43 features\n",
            "Test Mean Absolute Error: $1,881,876 \n",
            "\n",
            "44 features\n",
            "Test Mean Absolute Error: $1,882,049 \n",
            "\n",
            "45 features\n",
            "Test Mean Absolute Error: $1,882,140 \n",
            "\n",
            "46 features\n",
            "Test Mean Absolute Error: $1,888,236 \n",
            "\n",
            "47 features\n",
            "Test Mean Absolute Error: $1,887,072 \n",
            "\n",
            "48 features\n",
            "Test Mean Absolute Error: $1,892,785 \n",
            "\n",
            "49 features\n",
            "Test Mean Absolute Error: $1,895,674 \n",
            "\n"
          ],
          "name": "stdout"
        }
      ]
    },
    {
      "cell_type": "markdown",
      "metadata": {
        "id": "vV68mL8M8uYD",
        "colab_type": "text"
      },
      "source": [
        "###  Fit a ridge regression model with multiple features. Use the `normalize=True` parameter (or do feature scaling beforehand — use the scaler's `fit_transform` method with the train set, and the scaler's transform method with the test set)"
      ]
    },
    {
      "cell_type": "code",
      "metadata": {
        "id": "5rOgZayP8uss",
        "colab_type": "code",
        "colab": {
          "base_uri": "https://localhost:8080/",
          "height": 34
        },
        "outputId": "ff6cbfb9-4aed-4869-bae2-3590f4231713"
      },
      "source": [
        "from sklearn.linear_model import RidgeCV\n",
        "alphas = [0.01, 0.1, 1.0, 10.0, 100.0]\n",
        "ridge = RidgeCV(alphas=alphas, normalize=True)\n",
        "ridge.fit(X_train, y_train)\n",
        "ridge.alpha_"
      ],
      "execution_count": 98,
      "outputs": [
        {
          "output_type": "execute_result",
          "data": {
            "text/plain": [
              "1.0"
            ]
          },
          "metadata": {
            "tags": []
          },
          "execution_count": 98
        }
      ]
    },
    {
      "cell_type": "code",
      "metadata": {
        "id": "6N2mnB-1B0kU",
        "colab_type": "code",
        "colab": {
          "base_uri": "https://localhost:8080/",
          "height": 51
        },
        "outputId": "aaf7668a-7c3f-421a-f2de-e365292d4eb8"
      },
      "source": [
        "from sklearn.linear_model import Ridge\n",
        "ridge = Ridge(alpha=1, normalize=True)\n",
        "ridge.fit(X_train, y_train)"
      ],
      "execution_count": 100,
      "outputs": [
        {
          "output_type": "execute_result",
          "data": {
            "text/plain": [
              "Ridge(alpha=1, copy_X=True, fit_intercept=True, max_iter=None, normalize=True,\n",
              "      random_state=None, solver='auto', tol=0.001)"
            ]
          },
          "metadata": {
            "tags": []
          },
          "execution_count": 100
        }
      ]
    },
    {
      "cell_type": "markdown",
      "metadata": {
        "id": "-smWOS1x8u6t",
        "colab_type": "text"
      },
      "source": [
        "### Get mean absolute error for the test set."
      ]
    },
    {
      "cell_type": "code",
      "metadata": {
        "id": "ROJScGqFBb2p",
        "colab_type": "code",
        "colab": {
          "base_uri": "https://localhost:8080/",
          "height": 34
        },
        "outputId": "18af63af-35eb-4898-9731-db00a1707209"
      },
      "source": [
        "y_pred = ridge.predict(X_test)\n",
        "mae = mean_absolute_error(y_test, y_pred)\n",
        "print(\"Test MAE:\", mae)\n"
      ],
      "execution_count": 101,
      "outputs": [
        {
          "output_type": "stream",
          "text": [
            "Test MAE: 1802862.4559406277\n"
          ],
          "name": "stdout"
        }
      ]
    },
    {
      "cell_type": "markdown",
      "metadata": {
        "id": "5oBRbpIF8vU3",
        "colab_type": "text"
      },
      "source": [
        "# Stretch Goals"
      ]
    },
    {
      "cell_type": "code",
      "metadata": {
        "id": "hmXghMoC87UI",
        "colab_type": "code",
        "colab": {}
      },
      "source": [
        "#....Not Today"
      ],
      "execution_count": 0,
      "outputs": []
    }
  ]
}