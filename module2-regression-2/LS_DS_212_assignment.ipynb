{
  "nbformat": 4,
  "nbformat_minor": 0,
  "metadata": {
    "kernelspec": {
      "display_name": "Python 3",
      "language": "python",
      "name": "python3"
    },
    "language_info": {
      "codemirror_mode": {
        "name": "ipython",
        "version": 3
      },
      "file_extension": ".py",
      "mimetype": "text/x-python",
      "name": "python",
      "nbconvert_exporter": "python",
      "pygments_lexer": "ipython3",
      "version": "3.7.3"
    },
    "colab": {
      "name": "Dan Anderson_LS_DS_212_assignment.ipynb",
      "provenance": [],
      "collapsed_sections": []
    }
  },
  "cells": [
    {
      "cell_type": "markdown",
      "metadata": {
        "id": "FBdgVFmqB5oo",
        "colab_type": "text"
      },
      "source": [
        "Lambda School Data Science\n",
        "\n",
        "*Unit 2, Sprint 1, Module 2*\n",
        "\n",
        "---"
      ]
    },
    {
      "cell_type": "markdown",
      "metadata": {
        "colab_type": "text",
        "id": "7IXUfiQ2UKj6"
      },
      "source": [
        "# Regression 2\n",
        "\n",
        "## Assignment\n",
        "\n",
        "You'll continue to **predict how much it costs to rent an apartment in NYC,** using the dataset from renthop.com.\n",
        "\n",
        "- [ ] Do train/test split. Use data from April & May 2016 to train. Use data from June 2016 to test.\n",
        "- [ ] Engineer at least two new features. (See below for explanation & ideas.)\n",
        "- [ ] Fit a linear regression model with at least two features.\n",
        "- [ ] Get the model's coefficients and intercept.\n",
        "- [ ] Get regression metrics RMSE, MAE, and $R^2$, for both the train and test data.\n",
        "- [ ] What's the best test MAE you can get? Share your score and features used with your cohort on Slack!\n",
        "- [ ] As always, commit your notebook to your fork of the GitHub repo.\n",
        "\n",
        "\n",
        "#### [Feature Engineering](https://en.wikipedia.org/wiki/Feature_engineering)\n",
        "\n",
        "> \"Some machine learning projects succeed and some fail. What makes the difference? Easily the most important factor is the features used.\" — Pedro Domingos, [\"A Few Useful Things to Know about Machine Learning\"](https://homes.cs.washington.edu/~pedrod/papers/cacm12.pdf)\n",
        "\n",
        "> \"Coming up with features is difficult, time-consuming, requires expert knowledge. 'Applied machine learning' is basically feature engineering.\" — Andrew Ng, [Machine Learning and AI via Brain simulations](https://forum.stanford.edu/events/2011/2011slides/plenary/2011plenaryNg.pdf) \n",
        "\n",
        "> Feature engineering is the process of using domain knowledge of the data to create features that make machine learning algorithms work. \n",
        "\n",
        "#### Feature Ideas\n",
        "- Does the apartment have a description?\n",
        "- How long is the description?\n",
        "- How many total perks does each apartment have?\n",
        "- Are cats _or_ dogs allowed?\n",
        "- Are cats _and_ dogs allowed?\n",
        "- Total number of rooms (beds + baths)\n",
        "- Ratio of beds to baths\n",
        "- What's the neighborhood, based on address or latitude & longitude?\n",
        "\n",
        "## Stretch Goals\n",
        "- [ ] If you want more math, skim [_An Introduction to Statistical Learning_](http://faculty.marshall.usc.edu/gareth-james/ISL/ISLR%20Seventh%20Printing.pdf),  Chapter 3.1, Simple Linear Regression, & Chapter 3.2, Multiple Linear Regression\n",
        "- [ ] If you want more introduction, watch [Brandon Foltz, Statistics 101: Simple Linear Regression](https://www.youtube.com/watch?v=ZkjP5RJLQF4)\n",
        "(20 minutes, over 1 million views)\n",
        "- [ ] Add your own stretch goal(s) !"
      ]
    },
    {
      "cell_type": "code",
      "metadata": {
        "colab_type": "code",
        "id": "o9eSnDYhUGD7",
        "colab": {}
      },
      "source": [
        "%%capture\n",
        "import sys\n",
        "\n",
        "# If you're on Colab:\n",
        "if 'google.colab' in sys.modules:\n",
        "    DATA_PATH = 'https://raw.githubusercontent.com/LambdaSchool/DS-Unit-2-Applied-Modeling/master/data/'\n",
        "    !pip install category_encoders==2.*\n",
        "\n",
        "# If you're working locally:\n",
        "else:\n",
        "    DATA_PATH = '../data/'\n",
        "    \n",
        "# Ignore this Numpy warning when using Plotly Express:\n",
        "# FutureWarning: Method .ptp is deprecated and will be removed in a future version. Use numpy.ptp instead.\n",
        "import warnings\n",
        "warnings.filterwarnings(action='ignore', category=FutureWarning, module='numpy')"
      ],
      "execution_count": 0,
      "outputs": []
    },
    {
      "cell_type": "code",
      "metadata": {
        "colab_type": "code",
        "id": "cvrw-T3bZOuW",
        "colab": {}
      },
      "source": [
        "import numpy as np\n",
        "import pandas as pd\n",
        "\n",
        "# Read New York City apartment rental listing data\n",
        "df = pd.read_csv(DATA_PATH+'apartments/renthop-nyc.csv')\n",
        "assert df.shape == (49352, 34)\n",
        "\n",
        "# Remove the most extreme 1% prices,\n",
        "# the most extreme .1% latitudes, &\n",
        "# the most extreme .1% longitudes\n",
        "df = df[(df['price'] >= np.percentile(df['price'], 0.5)) & \n",
        "        (df['price'] <= np.percentile(df['price'], 99.5)) & \n",
        "        (df['latitude'] >= np.percentile(df['latitude'], 0.05)) & \n",
        "        (df['latitude'] < np.percentile(df['latitude'], 99.95)) &\n",
        "        (df['longitude'] >= np.percentile(df['longitude'], 0.05)) & \n",
        "        (df['longitude'] <= np.percentile(df['longitude'], 99.95))]"
      ],
      "execution_count": 0,
      "outputs": []
    },
    {
      "cell_type": "code",
      "metadata": {
        "id": "R8055HFYNz9U",
        "colab_type": "code",
        "colab": {}
      },
      "source": [
        "# Generate two engineered attributes\n",
        "df_work = df.copy()\n",
        "\n",
        "# Create a \"building convenience\" feature factor that adds up all the instances of a building perk by unit\n",
        "df_work['convenience_building'] = (df_work['elevator'] \n",
        "+ df_work['doorman'] \n",
        "+ df_work['laundry_in_building'] \n",
        "+ df_work['fitness_center'] \n",
        "+ df_work['high_speed_internet']\n",
        "+ df_work['swimming_pool']\n",
        "+ df_work['wheelchair_access']\n",
        "+ df_work['common_outdoor_space']);\n",
        "\n",
        "# Create a \"unit convenience\" feature factor that adds up all the instances of a unit perk \n",
        "df_work['convenience_unit'] = df_work['dishwasher'] + df_work['laundry_in_unit'];\n",
        "\n",
        "# Create a \"pet convenience\" feature factor that adds up all the instances of dog and cat friendly unit\n",
        "df_work['convenience_pet'] = df_work['cats_allowed'] + df_work['dogs_allowed'];"
      ],
      "execution_count": 0,
      "outputs": []
    },
    {
      "cell_type": "code",
      "metadata": {
        "id": "de7dy0xcPeTh",
        "colab_type": "code",
        "colab": {}
      },
      "source": [
        "# Funnel the dataframe down to those attributes on which we want to conduct the regression analysis\n",
        "columns = ['created', 'price', 'bedrooms', 'bathrooms', 'convenience_building', 'convenience_unit', 'convenience_pet']\n",
        "df_analyze = df_work[columns]"
      ],
      "execution_count": 0,
      "outputs": []
    },
    {
      "cell_type": "code",
      "metadata": {
        "id": "lCjX0WnmkIjW",
        "colab_type": "code",
        "colab": {}
      },
      "source": [
        "# Construct training and testing dataframes\n",
        "df_train = df_analyze.query('created > \"2016-04-00\" and created < \"2016-06-00\"') # April and May 2016\n",
        "df_train_X = df_train[columns]\n",
        "df_train_X.drop(['created', 'price'], axis=1, inplace=True)\n",
        "df_train_X.reset_index(inplace=True, drop=True)\n",
        "df_train_y = pd.DataFrame(df_train['price'])\n",
        "df_train_y.reset_index(inplace=True, drop=True)\n",
        "\n",
        "df_test = df_analyze.query('created > \"2016-06-00\" and created < \"2016-07-00\"')  # June 2016 \n",
        "df_test_X = df_test[columns]\n",
        "df_test_X.drop(['created', 'price'], axis=1, inplace=True)\n",
        "df_test_X.reset_index(inplace=True, drop=True)\n",
        "df_test_y = pd.DataFrame(df_test['price'])\n",
        "df_test_y.reset_index(inplace=True, drop=True)\n"
      ],
      "execution_count": 0,
      "outputs": []
    },
    {
      "cell_type": "code",
      "metadata": {
        "id": "eg9xbZadylDv",
        "colab_type": "code",
        "colab": {
          "base_uri": "https://localhost:8080/",
          "height": 34
        },
        "outputId": "29bdfc25-bb04-4338-e751-9acfa71e34a0"
      },
      "source": [
        "# Let's create a baseline \"dummy\" estimate (regressor)\n",
        "from sklearn.dummy import DummyRegressor\n",
        "from sklearn.metrics import mean_absolute_error\n",
        "\n",
        "# Generate an instance of the dummy regressor model\n",
        "dummy_mean = DummyRegressor(strategy='mean')\n",
        "\n",
        "# \"Train\" the dummy regressor model\n",
        "dummy_mean.fit(df_train_X, df_train_y)\n",
        "\n",
        "# Generate the dummy model's R**2 score\n",
        "y_pred_dummy = dummy_mean.predict(df_test_X)\n",
        "\n",
        "# Generate the mean absolute error of the dummy regressor\n",
        "mae_dummy = mean_absolute_error(df_test_y, y_pred_dummy)\n",
        "\n",
        "print(f'The dummy model\\'s prediction error (mae) is: ${round(mae_dummy, 2)}')"
      ],
      "execution_count": 182,
      "outputs": [
        {
          "output_type": "stream",
          "text": [
            "The dummy model's prediction error (mae) is: $1197.71\n"
          ],
          "name": "stdout"
        }
      ]
    },
    {
      "cell_type": "code",
      "metadata": {
        "id": "RFRoRlY25yoF",
        "colab_type": "code",
        "colab": {
          "base_uri": "https://localhost:8080/",
          "height": 145
        },
        "outputId": "1473611c-3807-4612-c784-4024b3474ab0"
      },
      "source": [
        "from sklearn.linear_model import LinearRegression\n",
        "from sklearn.metrics import mean_squared_error, r2_score\n",
        "\n",
        "# Create a linear regression model\n",
        "mdl = LinearRegression()\n",
        "\n",
        "# Fit the model using the training data subset\n",
        "mdl.fit(df_train_X, df_train_y)\n",
        "\n",
        "# Print out the regression expression\n",
        "print(f'REGRESSION EQUATION: rent = {round(mdl.coef_[0][0], 2)}*(# bedrooms) + {round(mdl.coef_[0][1], 2)}*(# bathrooms) + {round(mdl.coef_[0][2], 2)}*(# building perks) + {round(mdl.coef_[0][3], 2)}*(# unit perks) + {round(mdl.coef_[0][4], 2)}*(# dog and/or cat perks) + {round(mdl.intercept_[0], 2)}\\n')\n",
        "\n",
        "# Generate model price predictions using the training data subset\n",
        "y_pred_train = mdl.predict(df_train_X)\n",
        "train_mae = mean_absolute_error(df_train_y, y_pred_train)\n",
        "train_r2  = r2_score(df_train_y, y_pred_train)\n",
        "train_mse = mean_squared_error(df_train_y, y_pred_train)\n",
        "train_rmse = np.sqrt(train_mse)\n",
        "\n",
        "# Generate model price predictions using the testing data subset\n",
        "y_pred_test = mdl.predict(df_test_X)\n",
        "test_mae = mean_absolute_error(df_test_y, y_pred_test)\n",
        "test_r2  = r2_score(df_test_y, y_pred_test)\n",
        "test_mse = mean_squared_error(df_test_y, y_pred_test)\n",
        "test_rmse = np.sqrt(test_mse)\n",
        "\n",
        "out_data = [{'data': 'training', 'MAE': round(train_mae, 2), 'R2': train_r2, 'RMSE': round(train_rmse, 2)}, {'data': 'test', 'MAE': round(test_mae, 2), 'R2': test_r2, 'RMSE': round(test_rmse, 2)}] \n",
        "df_output = pd.DataFrame(out_data)\n",
        "\n",
        "df_output\n",
        "\n"
      ],
      "execution_count": 183,
      "outputs": [
        {
          "output_type": "stream",
          "text": [
            "REGRESSION EQUATION: rent = 405.37*(# bedrooms) + 1888.92*(# bathrooms) + 152.96*(# building perks) + 215.01*(# unit perks) + 55.5*(# dog and/or cat perks) + 275.67\n",
            "\n"
          ],
          "name": "stdout"
        },
        {
          "output_type": "execute_result",
          "data": {
            "text/html": [
              "<div>\n",
              "<style scoped>\n",
              "    .dataframe tbody tr th:only-of-type {\n",
              "        vertical-align: middle;\n",
              "    }\n",
              "\n",
              "    .dataframe tbody tr th {\n",
              "        vertical-align: top;\n",
              "    }\n",
              "\n",
              "    .dataframe thead th {\n",
              "        text-align: right;\n",
              "    }\n",
              "</style>\n",
              "<table border=\"1\" class=\"dataframe\">\n",
              "  <thead>\n",
              "    <tr style=\"text-align: right;\">\n",
              "      <th></th>\n",
              "      <th>data</th>\n",
              "      <th>MAE</th>\n",
              "      <th>R2</th>\n",
              "      <th>RMSE</th>\n",
              "    </tr>\n",
              "  </thead>\n",
              "  <tbody>\n",
              "    <tr>\n",
              "      <th>0</th>\n",
              "      <td>training</td>\n",
              "      <td>777.87</td>\n",
              "      <td>0.546223</td>\n",
              "      <td>1187.01</td>\n",
              "    </tr>\n",
              "    <tr>\n",
              "      <th>1</th>\n",
              "      <td>test</td>\n",
              "      <td>784.94</td>\n",
              "      <td>0.554289</td>\n",
              "      <td>1176.98</td>\n",
              "    </tr>\n",
              "  </tbody>\n",
              "</table>\n",
              "</div>"
            ],
            "text/plain": [
              "       data     MAE        R2     RMSE\n",
              "0  training  777.87  0.546223  1187.01\n",
              "1      test  784.94  0.554289  1176.98"
            ]
          },
          "metadata": {
            "tags": []
          },
          "execution_count": 183
        }
      ]
    }
  ]
}
