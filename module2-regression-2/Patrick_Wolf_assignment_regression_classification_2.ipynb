{
  "nbformat": 4,
  "nbformat_minor": 0,
  "metadata": {
    "colab": {
      "name": "Patrick_Wolf_assignment_regression_classification_2.ipynb",
      "provenance": [],
      "collapsed_sections": [],
      "include_colab_link": true
    },
    "kernelspec": {
      "display_name": "Python 3",
      "language": "python",
      "name": "python3"
    },
    "language_info": {
      "codemirror_mode": {
        "name": "ipython",
        "version": 3
      },
      "file_extension": ".py",
      "mimetype": "text/x-python",
      "name": "python",
      "nbconvert_exporter": "python",
      "pygments_lexer": "ipython3",
      "version": "3.7.3"
    }
  },
  "cells": [
    {
      "cell_type": "markdown",
      "metadata": {
        "id": "view-in-github",
        "colab_type": "text"
      },
      "source": [
        "<a href=\"https://colab.research.google.com/github/patrickjwolf/DS-Unit-2-Linear-Models/blob/master/module2-regression-2/Patrick_Wolf_assignment_regression_classification_2.ipynb\" target=\"_parent\"><img src=\"https://colab.research.google.com/assets/colab-badge.svg\" alt=\"Open In Colab\"/></a>"
      ]
    },
    {
      "cell_type": "markdown",
      "metadata": {
        "id": "xD8b1am8Zlzs",
        "colab_type": "text"
      },
      "source": [
        "Lambda School Data Science\n",
        "\n",
        "*Unit 2, Sprint 1, Module 2*\n",
        "\n",
        "---"
      ]
    },
    {
      "cell_type": "markdown",
      "metadata": {
        "colab_type": "text",
        "id": "7IXUfiQ2UKj6"
      },
      "source": [
        "# Regression 2\n",
        "\n",
        "## Assignment\n",
        "\n",
        "You'll continue to **predict how much it costs to rent an apartment in NYC,** using the dataset from renthop.com.\n",
        "\n",
        "- [ ] Do train/test split. Use data from April & May 2016 to train. Use data from June 2016 to test.\n",
        "- [ ] Engineer at least two new features. (See below for explanation & ideas.)\n",
        "- [ ] Fit a linear regression model with at least two features.\n",
        "- [ ] Get the model's coefficients and intercept.\n",
        "- [ ] Get regression metrics RMSE, MAE, and $R^2$, for both the train and test data.\n",
        "- [ ] What's the best test MAE you can get? Share your score and features used with your cohort on Slack!\n",
        "- [ ] As always, commit your notebook to your fork of the GitHub repo.\n",
        "\n",
        "\n",
        "#### [Feature Engineering](https://en.wikipedia.org/wiki/Feature_engineering)\n",
        "\n",
        "> \"Some machine learning projects succeed and some fail. What makes the difference? Easily the most important factor is the features used.\" — Pedro Domingos, [\"A Few Useful Things to Know about Machine Learning\"](https://homes.cs.washington.edu/~pedrod/papers/cacm12.pdf)\n",
        "\n",
        "> \"Coming up with features is difficult, time-consuming, requires expert knowledge. 'Applied machine learning' is basically feature engineering.\" — Andrew Ng, [Machine Learning and AI via Brain simulations](https://forum.stanford.edu/events/2011/2011slides/plenary/2011plenaryNg.pdf) \n",
        "\n",
        "> Feature engineering is the process of using domain knowledge of the data to create features that make machine learning algorithms work. \n",
        "\n",
        "#### Feature Ideas\n",
        "- Does the apartment have a description?\n",
        "- How long is the description?\n",
        "- How many total perks does each apartment have?\n",
        "- Are cats _or_ dogs allowed?\n",
        "- Are cats _and_ dogs allowed?\n",
        "- Total number of rooms (beds + baths)\n",
        "- Ratio of beds to baths\n",
        "- What's the neighborhood, based on address or latitude & longitude?\n",
        "\n",
        "## Stretch Goals\n",
        "- [ ] If you want more math, skim [_An Introduction to Statistical Learning_](http://faculty.marshall.usc.edu/gareth-james/ISL/ISLR%20Seventh%20Printing.pdf),  Chapter 3.1, Simple Linear Regression, & Chapter 3.2, Multiple Linear Regression\n",
        "- [ ] If you want more introduction, watch [Brandon Foltz, Statistics 101: Simple Linear Regression](https://www.youtube.com/watch?v=ZkjP5RJLQF4)\n",
        "(20 minutes, over 1 million views)\n",
        "- [ ] Add your own stretch goal(s) !"
      ]
    },
    {
      "cell_type": "markdown",
      "metadata": {
        "id": "UFXRDFAb_52N",
        "colab_type": "text"
      },
      "source": [
        "**Do train/test split. Use data from April & May 2016 to train. Use data from June 2016 to test.**"
      ]
    },
    {
      "cell_type": "code",
      "metadata": {
        "colab_type": "code",
        "id": "o9eSnDYhUGD7",
        "colab": {}
      },
      "source": [
        "%%capture\n",
        "import sys\n",
        "\n",
        "# If you're on Colab:\n",
        "if 'google.colab' in sys.modules:\n",
        "    DATA_PATH = 'https://raw.githubusercontent.com/LambdaSchool/DS-Unit-2-Applied-Modeling/master/data/'\n",
        "    !pip install category_encoders==2.*\n",
        "\n",
        "# If you're working locally:\n",
        "else:\n",
        "    DATA_PATH = '../data/'\n",
        "    \n",
        "# Ignore this Numpy warning when using Plotly Express:\n",
        "# FutureWarning: Method .ptp is deprecated and will be removed in a future version. Use numpy.ptp instead.\n",
        "import warnings\n",
        "warnings.filterwarnings(action='ignore', category=FutureWarning, module='numpy')"
      ],
      "execution_count": 0,
      "outputs": []
    },
    {
      "cell_type": "code",
      "metadata": {
        "colab_type": "code",
        "id": "cvrw-T3bZOuW",
        "colab": {}
      },
      "source": [
        "import numpy as np\n",
        "import pandas as pd\n",
        "from sklearn.metrics import mean_absolute_error\n",
        "\n",
        "# Read New York City apartment rental listing data\n",
        "df = pd.read_csv(DATA_PATH+'apartments/renthop-nyc.csv')\n",
        "assert df.shape == (49352, 34)\n",
        "\n",
        "# Remove the most extreme 1% prices,\n",
        "# the most extreme .1% latitudes, &\n",
        "# the most extreme .1% longitudes\n",
        "df = df[(df['price'] >= np.percentile(df['price'], 0.5)) & \n",
        "        (df['price'] <= np.percentile(df['price'], 99.5)) & \n",
        "        (df['latitude'] >= np.percentile(df['latitude'], 0.05)) & \n",
        "        (df['latitude'] < np.percentile(df['latitude'], 99.95)) &\n",
        "        (df['longitude'] >= np.percentile(df['longitude'], 0.05)) & \n",
        "        (df['longitude'] <= np.percentile(df['longitude'], 99.95))]"
      ],
      "execution_count": 0,
      "outputs": []
    },
    {
      "cell_type": "code",
      "metadata": {
        "id": "yrSWUIk_HjT-",
        "colab_type": "code",
        "colab": {}
      },
      "source": [
        "import itertools\n",
        "import numpy as np\n",
        "import plotly.express as px\n",
        "import plotly.graph_objs as go\n",
        "from sklearn.linear_model import LinearRegression"
      ],
      "execution_count": 0,
      "outputs": []
    },
    {
      "cell_type": "markdown",
      "metadata": {
        "id": "6Sj_YwLsANdE",
        "colab_type": "text"
      },
      "source": [
        "**Engineer at least two new features. (See below for explanation & ideas.)**\n"
      ]
    },
    {
      "cell_type": "code",
      "metadata": {
        "id": "hwpIgd3Gz7jQ",
        "colab_type": "code",
        "outputId": "86cfcf90-11e3-4662-e88b-1be8d4dc4f06",
        "colab": {
          "base_uri": "https://localhost:8080/",
          "height": 513
        }
      },
      "source": [
        "# added month and year\n",
        "\n",
        "df['created'] = pd.to_datetime(df['created'])\n",
        "df['month'] = df['created'].dt.month\n",
        "df['year'] = df['created'].dt.year\n",
        "df['pets_allowed'] = df['cats_allowed'] + df['dogs_allowed']\n",
        "\n",
        "df.head()"
      ],
      "execution_count": 14,
      "outputs": [
        {
          "output_type": "execute_result",
          "data": {
            "text/html": [
              "<div>\n",
              "<style scoped>\n",
              "    .dataframe tbody tr th:only-of-type {\n",
              "        vertical-align: middle;\n",
              "    }\n",
              "\n",
              "    .dataframe tbody tr th {\n",
              "        vertical-align: top;\n",
              "    }\n",
              "\n",
              "    .dataframe thead th {\n",
              "        text-align: right;\n",
              "    }\n",
              "</style>\n",
              "<table border=\"1\" class=\"dataframe\">\n",
              "  <thead>\n",
              "    <tr style=\"text-align: right;\">\n",
              "      <th></th>\n",
              "      <th>bathrooms</th>\n",
              "      <th>bedrooms</th>\n",
              "      <th>created</th>\n",
              "      <th>description</th>\n",
              "      <th>display_address</th>\n",
              "      <th>latitude</th>\n",
              "      <th>longitude</th>\n",
              "      <th>price</th>\n",
              "      <th>street_address</th>\n",
              "      <th>interest_level</th>\n",
              "      <th>elevator</th>\n",
              "      <th>cats_allowed</th>\n",
              "      <th>hardwood_floors</th>\n",
              "      <th>dogs_allowed</th>\n",
              "      <th>doorman</th>\n",
              "      <th>dishwasher</th>\n",
              "      <th>no_fee</th>\n",
              "      <th>laundry_in_building</th>\n",
              "      <th>fitness_center</th>\n",
              "      <th>pre-war</th>\n",
              "      <th>laundry_in_unit</th>\n",
              "      <th>roof_deck</th>\n",
              "      <th>outdoor_space</th>\n",
              "      <th>dining_room</th>\n",
              "      <th>high_speed_internet</th>\n",
              "      <th>balcony</th>\n",
              "      <th>swimming_pool</th>\n",
              "      <th>new_construction</th>\n",
              "      <th>terrace</th>\n",
              "      <th>exclusive</th>\n",
              "      <th>loft</th>\n",
              "      <th>garden_patio</th>\n",
              "      <th>wheelchair_access</th>\n",
              "      <th>common_outdoor_space</th>\n",
              "      <th>month</th>\n",
              "      <th>year</th>\n",
              "      <th>pets_allowed</th>\n",
              "    </tr>\n",
              "  </thead>\n",
              "  <tbody>\n",
              "    <tr>\n",
              "      <th>0</th>\n",
              "      <td>1.5</td>\n",
              "      <td>3</td>\n",
              "      <td>2016-06-24 07:54:24</td>\n",
              "      <td>A Brand New 3 Bedroom 1.5 bath ApartmentEnjoy ...</td>\n",
              "      <td>Metropolitan Avenue</td>\n",
              "      <td>40.7145</td>\n",
              "      <td>-73.9425</td>\n",
              "      <td>3000</td>\n",
              "      <td>792 Metropolitan Avenue</td>\n",
              "      <td>medium</td>\n",
              "      <td>0</td>\n",
              "      <td>0</td>\n",
              "      <td>0</td>\n",
              "      <td>0</td>\n",
              "      <td>0</td>\n",
              "      <td>0</td>\n",
              "      <td>0</td>\n",
              "      <td>0</td>\n",
              "      <td>0</td>\n",
              "      <td>0</td>\n",
              "      <td>0</td>\n",
              "      <td>0</td>\n",
              "      <td>0</td>\n",
              "      <td>0</td>\n",
              "      <td>0</td>\n",
              "      <td>0</td>\n",
              "      <td>0</td>\n",
              "      <td>0</td>\n",
              "      <td>0</td>\n",
              "      <td>0</td>\n",
              "      <td>0</td>\n",
              "      <td>0</td>\n",
              "      <td>0</td>\n",
              "      <td>0</td>\n",
              "      <td>6</td>\n",
              "      <td>2016</td>\n",
              "      <td>0</td>\n",
              "    </tr>\n",
              "    <tr>\n",
              "      <th>1</th>\n",
              "      <td>1.0</td>\n",
              "      <td>2</td>\n",
              "      <td>2016-06-12 12:19:27</td>\n",
              "      <td></td>\n",
              "      <td>Columbus Avenue</td>\n",
              "      <td>40.7947</td>\n",
              "      <td>-73.9667</td>\n",
              "      <td>5465</td>\n",
              "      <td>808 Columbus Avenue</td>\n",
              "      <td>low</td>\n",
              "      <td>1</td>\n",
              "      <td>1</td>\n",
              "      <td>0</td>\n",
              "      <td>1</td>\n",
              "      <td>1</td>\n",
              "      <td>0</td>\n",
              "      <td>0</td>\n",
              "      <td>0</td>\n",
              "      <td>1</td>\n",
              "      <td>0</td>\n",
              "      <td>0</td>\n",
              "      <td>0</td>\n",
              "      <td>0</td>\n",
              "      <td>0</td>\n",
              "      <td>0</td>\n",
              "      <td>0</td>\n",
              "      <td>0</td>\n",
              "      <td>0</td>\n",
              "      <td>0</td>\n",
              "      <td>0</td>\n",
              "      <td>0</td>\n",
              "      <td>0</td>\n",
              "      <td>0</td>\n",
              "      <td>0</td>\n",
              "      <td>6</td>\n",
              "      <td>2016</td>\n",
              "      <td>2</td>\n",
              "    </tr>\n",
              "    <tr>\n",
              "      <th>2</th>\n",
              "      <td>1.0</td>\n",
              "      <td>1</td>\n",
              "      <td>2016-04-17 03:26:41</td>\n",
              "      <td>Top Top West Village location, beautiful Pre-w...</td>\n",
              "      <td>W 13 Street</td>\n",
              "      <td>40.7388</td>\n",
              "      <td>-74.0018</td>\n",
              "      <td>2850</td>\n",
              "      <td>241 W 13 Street</td>\n",
              "      <td>high</td>\n",
              "      <td>0</td>\n",
              "      <td>0</td>\n",
              "      <td>1</td>\n",
              "      <td>0</td>\n",
              "      <td>0</td>\n",
              "      <td>1</td>\n",
              "      <td>0</td>\n",
              "      <td>1</td>\n",
              "      <td>0</td>\n",
              "      <td>0</td>\n",
              "      <td>0</td>\n",
              "      <td>0</td>\n",
              "      <td>0</td>\n",
              "      <td>0</td>\n",
              "      <td>0</td>\n",
              "      <td>0</td>\n",
              "      <td>0</td>\n",
              "      <td>0</td>\n",
              "      <td>0</td>\n",
              "      <td>0</td>\n",
              "      <td>0</td>\n",
              "      <td>0</td>\n",
              "      <td>0</td>\n",
              "      <td>0</td>\n",
              "      <td>4</td>\n",
              "      <td>2016</td>\n",
              "      <td>0</td>\n",
              "    </tr>\n",
              "    <tr>\n",
              "      <th>3</th>\n",
              "      <td>1.0</td>\n",
              "      <td>1</td>\n",
              "      <td>2016-04-18 02:22:02</td>\n",
              "      <td>Building Amenities - Garage - Garden - fitness...</td>\n",
              "      <td>East 49th Street</td>\n",
              "      <td>40.7539</td>\n",
              "      <td>-73.9677</td>\n",
              "      <td>3275</td>\n",
              "      <td>333 East 49th Street</td>\n",
              "      <td>low</td>\n",
              "      <td>0</td>\n",
              "      <td>0</td>\n",
              "      <td>1</td>\n",
              "      <td>0</td>\n",
              "      <td>0</td>\n",
              "      <td>0</td>\n",
              "      <td>1</td>\n",
              "      <td>0</td>\n",
              "      <td>0</td>\n",
              "      <td>0</td>\n",
              "      <td>0</td>\n",
              "      <td>0</td>\n",
              "      <td>0</td>\n",
              "      <td>0</td>\n",
              "      <td>0</td>\n",
              "      <td>0</td>\n",
              "      <td>0</td>\n",
              "      <td>0</td>\n",
              "      <td>0</td>\n",
              "      <td>0</td>\n",
              "      <td>0</td>\n",
              "      <td>0</td>\n",
              "      <td>0</td>\n",
              "      <td>0</td>\n",
              "      <td>4</td>\n",
              "      <td>2016</td>\n",
              "      <td>0</td>\n",
              "    </tr>\n",
              "    <tr>\n",
              "      <th>4</th>\n",
              "      <td>1.0</td>\n",
              "      <td>4</td>\n",
              "      <td>2016-04-28 01:32:41</td>\n",
              "      <td>Beautifully renovated 3 bedroom flex 4 bedroom...</td>\n",
              "      <td>West 143rd Street</td>\n",
              "      <td>40.8241</td>\n",
              "      <td>-73.9493</td>\n",
              "      <td>3350</td>\n",
              "      <td>500 West 143rd Street</td>\n",
              "      <td>low</td>\n",
              "      <td>0</td>\n",
              "      <td>0</td>\n",
              "      <td>0</td>\n",
              "      <td>0</td>\n",
              "      <td>0</td>\n",
              "      <td>0</td>\n",
              "      <td>0</td>\n",
              "      <td>0</td>\n",
              "      <td>0</td>\n",
              "      <td>1</td>\n",
              "      <td>0</td>\n",
              "      <td>0</td>\n",
              "      <td>0</td>\n",
              "      <td>0</td>\n",
              "      <td>0</td>\n",
              "      <td>0</td>\n",
              "      <td>0</td>\n",
              "      <td>0</td>\n",
              "      <td>0</td>\n",
              "      <td>0</td>\n",
              "      <td>0</td>\n",
              "      <td>0</td>\n",
              "      <td>0</td>\n",
              "      <td>0</td>\n",
              "      <td>4</td>\n",
              "      <td>2016</td>\n",
              "      <td>0</td>\n",
              "    </tr>\n",
              "  </tbody>\n",
              "</table>\n",
              "</div>"
            ],
            "text/plain": [
              "   bathrooms  bedrooms             created  ... month  year  pets_allowed\n",
              "0        1.5         3 2016-06-24 07:54:24  ...     6  2016             0\n",
              "1        1.0         2 2016-06-12 12:19:27  ...     6  2016             2\n",
              "2        1.0         1 2016-04-17 03:26:41  ...     4  2016             0\n",
              "3        1.0         1 2016-04-18 02:22:02  ...     4  2016             0\n",
              "4        1.0         4 2016-04-28 01:32:41  ...     4  2016             0\n",
              "\n",
              "[5 rows x 37 columns]"
            ]
          },
          "metadata": {
            "tags": []
          },
          "execution_count": 14
        }
      ]
    },
    {
      "cell_type": "code",
      "metadata": {
        "id": "_fRn-P10vXWu",
        "colab_type": "code",
        "outputId": "01239af2-996d-48e9-e4b4-20cf18bdf0a9",
        "colab": {
          "base_uri": "https://localhost:8080/",
          "height": 34
        }
      },
      "source": [
        "df.shape"
      ],
      "execution_count": 15,
      "outputs": [
        {
          "output_type": "execute_result",
          "data": {
            "text/plain": [
              "(48817, 37)"
            ]
          },
          "metadata": {
            "tags": []
          },
          "execution_count": 15
        }
      ]
    },
    {
      "cell_type": "code",
      "metadata": {
        "id": "TcdLCUSr3spj",
        "colab_type": "code",
        "outputId": "3d97f6fe-6b18-425c-8afd-0ff9bb8f9f0e",
        "colab": {
          "base_uri": "https://localhost:8080/",
          "height": 34
        }
      },
      "source": [
        "train= df[(df['created'] > '2016-04-01 00:00:01')&(df['created'] < '2016-05-31 23:59:59')]\n",
        "train = df.sample(n=100)\n",
        "train.shape"
      ],
      "execution_count": 16,
      "outputs": [
        {
          "output_type": "execute_result",
          "data": {
            "text/plain": [
              "(100, 37)"
            ]
          },
          "metadata": {
            "tags": []
          },
          "execution_count": 16
        }
      ]
    },
    {
      "cell_type": "code",
      "metadata": {
        "id": "C9FHVzXx_HHg",
        "colab_type": "code",
        "outputId": "79834989-44ec-42af-f6da-b4604eae2ebe",
        "colab": {
          "base_uri": "https://localhost:8080/",
          "height": 34
        }
      },
      "source": [
        "test= df[(df['created'] >= '2016-06-01 00:00:01')&(df['created'] < '2016-07-01 00:00:00')]\n",
        "test.shape"
      ],
      "execution_count": 17,
      "outputs": [
        {
          "output_type": "execute_result",
          "data": {
            "text/plain": [
              "(16973, 37)"
            ]
          },
          "metadata": {
            "tags": []
          },
          "execution_count": 17
        }
      ]
    },
    {
      "cell_type": "code",
      "metadata": {
        "id": "4ChA1Yysc2Ax",
        "colab_type": "code",
        "outputId": "09a79014-05c1-43d7-f041-274f4f9ac2d3",
        "colab": {
          "base_uri": "https://localhost:8080/",
          "height": 317
        }
      },
      "source": [
        "df.describe()"
      ],
      "execution_count": 18,
      "outputs": [
        {
          "output_type": "execute_result",
          "data": {
            "text/html": [
              "<div>\n",
              "<style scoped>\n",
              "    .dataframe tbody tr th:only-of-type {\n",
              "        vertical-align: middle;\n",
              "    }\n",
              "\n",
              "    .dataframe tbody tr th {\n",
              "        vertical-align: top;\n",
              "    }\n",
              "\n",
              "    .dataframe thead th {\n",
              "        text-align: right;\n",
              "    }\n",
              "</style>\n",
              "<table border=\"1\" class=\"dataframe\">\n",
              "  <thead>\n",
              "    <tr style=\"text-align: right;\">\n",
              "      <th></th>\n",
              "      <th>bathrooms</th>\n",
              "      <th>bedrooms</th>\n",
              "      <th>latitude</th>\n",
              "      <th>longitude</th>\n",
              "      <th>price</th>\n",
              "      <th>elevator</th>\n",
              "      <th>cats_allowed</th>\n",
              "      <th>hardwood_floors</th>\n",
              "      <th>dogs_allowed</th>\n",
              "      <th>doorman</th>\n",
              "      <th>dishwasher</th>\n",
              "      <th>no_fee</th>\n",
              "      <th>laundry_in_building</th>\n",
              "      <th>fitness_center</th>\n",
              "      <th>pre-war</th>\n",
              "      <th>laundry_in_unit</th>\n",
              "      <th>roof_deck</th>\n",
              "      <th>outdoor_space</th>\n",
              "      <th>dining_room</th>\n",
              "      <th>high_speed_internet</th>\n",
              "      <th>balcony</th>\n",
              "      <th>swimming_pool</th>\n",
              "      <th>new_construction</th>\n",
              "      <th>terrace</th>\n",
              "      <th>exclusive</th>\n",
              "      <th>loft</th>\n",
              "      <th>garden_patio</th>\n",
              "      <th>wheelchair_access</th>\n",
              "      <th>common_outdoor_space</th>\n",
              "      <th>month</th>\n",
              "      <th>year</th>\n",
              "      <th>pets_allowed</th>\n",
              "    </tr>\n",
              "  </thead>\n",
              "  <tbody>\n",
              "    <tr>\n",
              "      <th>count</th>\n",
              "      <td>48817.000000</td>\n",
              "      <td>48817.000000</td>\n",
              "      <td>48817.000000</td>\n",
              "      <td>48817.000000</td>\n",
              "      <td>48817.000000</td>\n",
              "      <td>48817.000000</td>\n",
              "      <td>48817.000000</td>\n",
              "      <td>48817.000000</td>\n",
              "      <td>48817.000000</td>\n",
              "      <td>48817.000000</td>\n",
              "      <td>48817.000000</td>\n",
              "      <td>48817.000000</td>\n",
              "      <td>48817.000000</td>\n",
              "      <td>48817.000000</td>\n",
              "      <td>48817.000000</td>\n",
              "      <td>48817.000000</td>\n",
              "      <td>48817.000000</td>\n",
              "      <td>48817.000000</td>\n",
              "      <td>48817.000000</td>\n",
              "      <td>48817.000000</td>\n",
              "      <td>48817.000000</td>\n",
              "      <td>48817.000000</td>\n",
              "      <td>48817.000000</td>\n",
              "      <td>48817.000000</td>\n",
              "      <td>48817.000000</td>\n",
              "      <td>48817.000000</td>\n",
              "      <td>48817.000000</td>\n",
              "      <td>48817.000000</td>\n",
              "      <td>48817.000000</td>\n",
              "      <td>48817.000000</td>\n",
              "      <td>48817.0</td>\n",
              "      <td>48817.000000</td>\n",
              "    </tr>\n",
              "    <tr>\n",
              "      <th>mean</th>\n",
              "      <td>1.201794</td>\n",
              "      <td>1.537149</td>\n",
              "      <td>40.750760</td>\n",
              "      <td>-73.972760</td>\n",
              "      <td>3579.585247</td>\n",
              "      <td>0.524838</td>\n",
              "      <td>0.478276</td>\n",
              "      <td>0.478276</td>\n",
              "      <td>0.447631</td>\n",
              "      <td>0.424852</td>\n",
              "      <td>0.415081</td>\n",
              "      <td>0.367085</td>\n",
              "      <td>0.052769</td>\n",
              "      <td>0.268452</td>\n",
              "      <td>0.185653</td>\n",
              "      <td>0.175902</td>\n",
              "      <td>0.132761</td>\n",
              "      <td>0.138394</td>\n",
              "      <td>0.102833</td>\n",
              "      <td>0.087203</td>\n",
              "      <td>0.060471</td>\n",
              "      <td>0.055206</td>\n",
              "      <td>0.051908</td>\n",
              "      <td>0.046193</td>\n",
              "      <td>0.043305</td>\n",
              "      <td>0.042711</td>\n",
              "      <td>0.039331</td>\n",
              "      <td>0.027224</td>\n",
              "      <td>0.026241</td>\n",
              "      <td>5.015486</td>\n",
              "      <td>2016.0</td>\n",
              "      <td>0.925907</td>\n",
              "    </tr>\n",
              "    <tr>\n",
              "      <th>std</th>\n",
              "      <td>0.470711</td>\n",
              "      <td>1.106087</td>\n",
              "      <td>0.038954</td>\n",
              "      <td>0.028883</td>\n",
              "      <td>1762.430772</td>\n",
              "      <td>0.499388</td>\n",
              "      <td>0.499533</td>\n",
              "      <td>0.499533</td>\n",
              "      <td>0.497255</td>\n",
              "      <td>0.494326</td>\n",
              "      <td>0.492741</td>\n",
              "      <td>0.482015</td>\n",
              "      <td>0.223573</td>\n",
              "      <td>0.443158</td>\n",
              "      <td>0.388830</td>\n",
              "      <td>0.380741</td>\n",
              "      <td>0.339320</td>\n",
              "      <td>0.345317</td>\n",
              "      <td>0.303744</td>\n",
              "      <td>0.282136</td>\n",
              "      <td>0.238359</td>\n",
              "      <td>0.228385</td>\n",
              "      <td>0.221844</td>\n",
              "      <td>0.209905</td>\n",
              "      <td>0.203544</td>\n",
              "      <td>0.202206</td>\n",
              "      <td>0.194382</td>\n",
              "      <td>0.162738</td>\n",
              "      <td>0.159852</td>\n",
              "      <td>0.824415</td>\n",
              "      <td>0.0</td>\n",
              "      <td>0.981025</td>\n",
              "    </tr>\n",
              "    <tr>\n",
              "      <th>min</th>\n",
              "      <td>0.000000</td>\n",
              "      <td>0.000000</td>\n",
              "      <td>40.575700</td>\n",
              "      <td>-74.087300</td>\n",
              "      <td>1375.000000</td>\n",
              "      <td>0.000000</td>\n",
              "      <td>0.000000</td>\n",
              "      <td>0.000000</td>\n",
              "      <td>0.000000</td>\n",
              "      <td>0.000000</td>\n",
              "      <td>0.000000</td>\n",
              "      <td>0.000000</td>\n",
              "      <td>0.000000</td>\n",
              "      <td>0.000000</td>\n",
              "      <td>0.000000</td>\n",
              "      <td>0.000000</td>\n",
              "      <td>0.000000</td>\n",
              "      <td>0.000000</td>\n",
              "      <td>0.000000</td>\n",
              "      <td>0.000000</td>\n",
              "      <td>0.000000</td>\n",
              "      <td>0.000000</td>\n",
              "      <td>0.000000</td>\n",
              "      <td>0.000000</td>\n",
              "      <td>0.000000</td>\n",
              "      <td>0.000000</td>\n",
              "      <td>0.000000</td>\n",
              "      <td>0.000000</td>\n",
              "      <td>0.000000</td>\n",
              "      <td>4.000000</td>\n",
              "      <td>2016.0</td>\n",
              "      <td>0.000000</td>\n",
              "    </tr>\n",
              "    <tr>\n",
              "      <th>25%</th>\n",
              "      <td>1.000000</td>\n",
              "      <td>1.000000</td>\n",
              "      <td>40.728300</td>\n",
              "      <td>-73.991800</td>\n",
              "      <td>2500.000000</td>\n",
              "      <td>0.000000</td>\n",
              "      <td>0.000000</td>\n",
              "      <td>0.000000</td>\n",
              "      <td>0.000000</td>\n",
              "      <td>0.000000</td>\n",
              "      <td>0.000000</td>\n",
              "      <td>0.000000</td>\n",
              "      <td>0.000000</td>\n",
              "      <td>0.000000</td>\n",
              "      <td>0.000000</td>\n",
              "      <td>0.000000</td>\n",
              "      <td>0.000000</td>\n",
              "      <td>0.000000</td>\n",
              "      <td>0.000000</td>\n",
              "      <td>0.000000</td>\n",
              "      <td>0.000000</td>\n",
              "      <td>0.000000</td>\n",
              "      <td>0.000000</td>\n",
              "      <td>0.000000</td>\n",
              "      <td>0.000000</td>\n",
              "      <td>0.000000</td>\n",
              "      <td>0.000000</td>\n",
              "      <td>0.000000</td>\n",
              "      <td>0.000000</td>\n",
              "      <td>4.000000</td>\n",
              "      <td>2016.0</td>\n",
              "      <td>0.000000</td>\n",
              "    </tr>\n",
              "    <tr>\n",
              "      <th>50%</th>\n",
              "      <td>1.000000</td>\n",
              "      <td>1.000000</td>\n",
              "      <td>40.751700</td>\n",
              "      <td>-73.978000</td>\n",
              "      <td>3150.000000</td>\n",
              "      <td>1.000000</td>\n",
              "      <td>0.000000</td>\n",
              "      <td>0.000000</td>\n",
              "      <td>0.000000</td>\n",
              "      <td>0.000000</td>\n",
              "      <td>0.000000</td>\n",
              "      <td>0.000000</td>\n",
              "      <td>0.000000</td>\n",
              "      <td>0.000000</td>\n",
              "      <td>0.000000</td>\n",
              "      <td>0.000000</td>\n",
              "      <td>0.000000</td>\n",
              "      <td>0.000000</td>\n",
              "      <td>0.000000</td>\n",
              "      <td>0.000000</td>\n",
              "      <td>0.000000</td>\n",
              "      <td>0.000000</td>\n",
              "      <td>0.000000</td>\n",
              "      <td>0.000000</td>\n",
              "      <td>0.000000</td>\n",
              "      <td>0.000000</td>\n",
              "      <td>0.000000</td>\n",
              "      <td>0.000000</td>\n",
              "      <td>0.000000</td>\n",
              "      <td>5.000000</td>\n",
              "      <td>2016.0</td>\n",
              "      <td>0.000000</td>\n",
              "    </tr>\n",
              "    <tr>\n",
              "      <th>75%</th>\n",
              "      <td>1.000000</td>\n",
              "      <td>2.000000</td>\n",
              "      <td>40.774000</td>\n",
              "      <td>-73.955000</td>\n",
              "      <td>4095.000000</td>\n",
              "      <td>1.000000</td>\n",
              "      <td>1.000000</td>\n",
              "      <td>1.000000</td>\n",
              "      <td>1.000000</td>\n",
              "      <td>1.000000</td>\n",
              "      <td>1.000000</td>\n",
              "      <td>1.000000</td>\n",
              "      <td>0.000000</td>\n",
              "      <td>1.000000</td>\n",
              "      <td>0.000000</td>\n",
              "      <td>0.000000</td>\n",
              "      <td>0.000000</td>\n",
              "      <td>0.000000</td>\n",
              "      <td>0.000000</td>\n",
              "      <td>0.000000</td>\n",
              "      <td>0.000000</td>\n",
              "      <td>0.000000</td>\n",
              "      <td>0.000000</td>\n",
              "      <td>0.000000</td>\n",
              "      <td>0.000000</td>\n",
              "      <td>0.000000</td>\n",
              "      <td>0.000000</td>\n",
              "      <td>0.000000</td>\n",
              "      <td>0.000000</td>\n",
              "      <td>6.000000</td>\n",
              "      <td>2016.0</td>\n",
              "      <td>2.000000</td>\n",
              "    </tr>\n",
              "    <tr>\n",
              "      <th>max</th>\n",
              "      <td>10.000000</td>\n",
              "      <td>8.000000</td>\n",
              "      <td>40.989400</td>\n",
              "      <td>-73.700100</td>\n",
              "      <td>15500.000000</td>\n",
              "      <td>1.000000</td>\n",
              "      <td>1.000000</td>\n",
              "      <td>1.000000</td>\n",
              "      <td>1.000000</td>\n",
              "      <td>1.000000</td>\n",
              "      <td>1.000000</td>\n",
              "      <td>1.000000</td>\n",
              "      <td>1.000000</td>\n",
              "      <td>1.000000</td>\n",
              "      <td>1.000000</td>\n",
              "      <td>1.000000</td>\n",
              "      <td>1.000000</td>\n",
              "      <td>1.000000</td>\n",
              "      <td>1.000000</td>\n",
              "      <td>1.000000</td>\n",
              "      <td>1.000000</td>\n",
              "      <td>1.000000</td>\n",
              "      <td>1.000000</td>\n",
              "      <td>1.000000</td>\n",
              "      <td>1.000000</td>\n",
              "      <td>1.000000</td>\n",
              "      <td>1.000000</td>\n",
              "      <td>1.000000</td>\n",
              "      <td>1.000000</td>\n",
              "      <td>6.000000</td>\n",
              "      <td>2016.0</td>\n",
              "      <td>2.000000</td>\n",
              "    </tr>\n",
              "  </tbody>\n",
              "</table>\n",
              "</div>"
            ],
            "text/plain": [
              "          bathrooms      bedrooms  ...     year  pets_allowed\n",
              "count  48817.000000  48817.000000  ...  48817.0  48817.000000\n",
              "mean       1.201794      1.537149  ...   2016.0      0.925907\n",
              "std        0.470711      1.106087  ...      0.0      0.981025\n",
              "min        0.000000      0.000000  ...   2016.0      0.000000\n",
              "25%        1.000000      1.000000  ...   2016.0      0.000000\n",
              "50%        1.000000      1.000000  ...   2016.0      0.000000\n",
              "75%        1.000000      2.000000  ...   2016.0      2.000000\n",
              "max       10.000000      8.000000  ...   2016.0      2.000000\n",
              "\n",
              "[8 rows x 32 columns]"
            ]
          },
          "metadata": {
            "tags": []
          },
          "execution_count": 18
        }
      ]
    },
    {
      "cell_type": "markdown",
      "metadata": {
        "id": "VcIQp9Q9AXez",
        "colab_type": "text"
      },
      "source": [
        "**Fit a linear regression model with at least two features.**\n"
      ]
    },
    {
      "cell_type": "code",
      "metadata": {
        "id": "9xk6wWPPA_l7",
        "colab_type": "code",
        "colab": {}
      },
      "source": [
        "model = LinearRegression()"
      ],
      "execution_count": 0,
      "outputs": []
    },
    {
      "cell_type": "code",
      "metadata": {
        "id": "OKQ-RvzKOqvr",
        "colab_type": "code",
        "colab": {}
      },
      "source": [
        "def regression_3d(df, x, y, z, num=100, **kwargs):\n",
        "    \"\"\"\n",
        "    Visualize linear regression in 3D: 2 features + 1 target\n",
        "    \n",
        "    df : Pandas DataFrame\n",
        "    x : string, feature 1 column in df\n",
        "    y : string, feature 2 column in df\n",
        "    z : string, target column in df\n",
        "    num : integer, number of quantiles for each feature\n",
        "    \"\"\"\n",
        "    \n",
        "    # Plot data\n",
        "    fig = px.scatter_3d(df, x, y, z, **kwargs)\n",
        "    \n",
        "    # Fit Linear Regression\n",
        "    features = [x, y]\n",
        "    target = z\n",
        "    model = LinearRegression()\n",
        "    model.fit(df[features], df[target])    \n",
        "    \n",
        "    # Define grid of coordinates in the feature space\n",
        "    xmin, xmax = df[x].min(), df[x].max()\n",
        "    ymin, ymax = df[y].min(), df[y].max()\n",
        "    xcoords = np.linspace(xmin, xmax, num)\n",
        "    ycoords = np.linspace(ymin, ymax, num)\n",
        "    coords = list(itertools.product(xcoords, ycoords))\n",
        "    \n",
        "    # Make predictions for the grid\n",
        "    predictions = model.predict(coords)\n",
        "    Z = predictions.reshape(num, num).T\n",
        "    \n",
        "    # Plot predictions as a 3D surface (plane)\n",
        "    fig.add_trace(go.Surface(x=xcoords, y=ycoords, z=Z))\n",
        "    \n",
        "    return fig"
      ],
      "execution_count": 0,
      "outputs": []
    },
    {
      "cell_type": "code",
      "metadata": {
        "id": "IbnzRgaZIHxm",
        "colab_type": "code",
        "outputId": "94474112-b686-47c0-dce3-2907509ad64e",
        "colab": {
          "base_uri": "https://localhost:8080/",
          "height": 617
        }
      },
      "source": [
        "regression_3d(\n",
        "    train,\n",
        "    x='pets_allowed', \n",
        "    y='new_construction',\n",
        "    z='price',  \n",
        "    text='interest_level',\n",
        "    title='Rentals, April-June 2016')"
      ],
      "execution_count": 21,
      "outputs": [
        {
          "output_type": "display_data",
          "data": {
            "text/html": [
              "<html>\n",
              "<head><meta charset=\"utf-8\" /></head>\n",
              "<body>\n",
              "    <div>\n",
              "            <script src=\"https://cdnjs.cloudflare.com/ajax/libs/mathjax/2.7.5/MathJax.js?config=TeX-AMS-MML_SVG\"></script><script type=\"text/javascript\">if (window.MathJax) {MathJax.Hub.Config({SVG: {font: \"STIX-Web\"}});}</script>\n",
              "                <script type=\"text/javascript\">window.PlotlyConfig = {MathJaxConfig: 'local'};</script>\n",
              "        <script src=\"https://cdn.plot.ly/plotly-latest.min.js\"></script>    \n",
              "            <div id=\"d4f18e3c-146c-40e9-975d-ddb75c83d548\" class=\"plotly-graph-div\" style=\"height:600px; width:100%;\"></div>\n",
              "            <script type=\"text/javascript\">\n",
              "                \n",
              "                    window.PLOTLYENV=window.PLOTLYENV || {};\n",
              "                    \n",
              "                if (document.getElementById(\"d4f18e3c-146c-40e9-975d-ddb75c83d548\")) {\n",
              "                    Plotly.newPlot(\n",
              "                        'd4f18e3c-146c-40e9-975d-ddb75c83d548',\n",
              "                        [{\"hoverlabel\": {\"namelength\": 0}, \"hovertemplate\": \"pets_allowed=%{x}<br>new_construction=%{y}<br>price=%{z}<br>interest_level=%{text}\", \"legendgroup\": \"\", \"marker\": {\"color\": \"#636efa\", \"symbol\": \"circle\"}, \"mode\": \"markers+text\", \"name\": \"\", \"scene\": \"scene\", \"showlegend\": false, \"text\": [\"low\", \"low\", \"low\", \"medium\", \"low\", \"high\", \"high\", \"high\", \"low\", \"low\", \"medium\", \"low\", \"medium\", \"medium\", \"low\", \"low\", \"low\", \"low\", \"low\", \"medium\", \"low\", \"low\", \"low\", \"high\", \"low\", \"low\", \"low\", \"low\", \"low\", \"low\", \"medium\", \"low\", \"medium\", \"low\", \"low\", \"medium\", \"low\", \"low\", \"low\", \"medium\", \"high\", \"high\", \"low\", \"low\", \"low\", \"low\", \"low\", \"low\", \"medium\", \"low\", \"low\", \"low\", \"low\", \"low\", \"medium\", \"medium\", \"medium\", \"low\", \"low\", \"low\", \"low\", \"high\", \"low\", \"high\", \"low\", \"low\", \"medium\", \"medium\", \"medium\", \"low\", \"medium\", \"low\", \"medium\", \"low\", \"low\", \"high\", \"low\", \"high\", \"low\", \"low\", \"low\", \"low\", \"medium\", \"medium\", \"low\", \"low\", \"low\", \"low\", \"low\", \"low\", \"medium\", \"medium\", \"low\", \"medium\", \"low\", \"medium\", \"low\", \"low\", \"low\", \"low\"], \"type\": \"scatter3d\", \"x\": [0, 2, 0, 0, 0, 2, 2, 2, 0, 2, 2, 0, 1, 2, 2, 2, 2, 2, 2, 0, 2, 2, 2, 0, 0, 2, 2, 0, 0, 0, 0, 0, 1, 0, 0, 0, 0, 2, 2, 0, 0, 2, 0, 0, 2, 2, 0, 2, 0, 0, 0, 0, 0, 0, 0, 2, 2, 2, 0, 2, 2, 0, 1, 0, 0, 0, 0, 0, 2, 2, 0, 0, 0, 0, 2, 0, 2, 0, 2, 2, 0, 2, 2, 0, 1, 0, 2, 2, 2, 0, 0, 2, 2, 2, 0, 0, 0, 2, 0, 2], \"y\": [1, 1, 0, 0, 0, 0, 1, 0, 0, 0, 1, 0, 0, 0, 0, 0, 0, 0, 0, 0, 0, 1, 0, 0, 0, 0, 0, 0, 0, 0, 0, 0, 0, 0, 0, 0, 0, 0, 0, 0, 0, 0, 0, 1, 1, 0, 0, 0, 0, 0, 0, 0, 0, 0, 0, 0, 0, 0, 0, 0, 0, 0, 0, 0, 0, 0, 0, 0, 0, 0, 0, 0, 0, 0, 0, 0, 0, 0, 0, 0, 0, 0, 1, 0, 0, 0, 0, 0, 0, 0, 1, 0, 0, 0, 0, 0, 0, 0, 0, 0], \"z\": [2800, 3600, 4575, 2450, 2300, 2650, 4570, 2000, 3695, 3650, 4300, 10700, 3800, 2500, 2800, 2920, 3195, 2200, 2690, 1850, 7000, 5000, 2795, 3570, 14000, 5495, 7300, 3500, 2500, 2945, 1650, 3200, 1850, 11000, 4300, 2245, 3692, 2000, 1875, 2200, 3000, 2325, 3457, 11000, 3500, 4180, 2275, 2400, 3200, 1850, 5695, 2500, 2700, 2975, 2500, 2625, 5000, 2500, 10000, 2075, 4600, 4280, 5300, 2490, 4500, 1900, 3495, 1650, 2800, 2695, 2400, 3465, 3495, 4400, 4285, 1500, 2225, 1650, 3350, 3225, 2024, 2275, 2965, 2195, 3800, 7495, 2850, 4225, 3895, 2400, 5700, 1750, 2495, 3400, 4350, 3700, 8500, 3695, 4930, 5590]}, {\"type\": \"surface\", \"x\": [0.0, 0.020202020202020204, 0.04040404040404041, 0.06060606060606061, 0.08080808080808081, 0.10101010101010102, 0.12121212121212122, 0.14141414141414144, 0.16161616161616163, 0.18181818181818182, 0.20202020202020204, 0.22222222222222224, 0.24242424242424243, 0.26262626262626265, 0.2828282828282829, 0.30303030303030304, 0.32323232323232326, 0.3434343434343435, 0.36363636363636365, 0.38383838383838387, 0.4040404040404041, 0.42424242424242425, 0.4444444444444445, 0.4646464646464647, 0.48484848484848486, 0.5050505050505051, 0.5252525252525253, 0.5454545454545455, 0.5656565656565657, 0.5858585858585859, 0.6060606060606061, 0.6262626262626263, 0.6464646464646465, 0.6666666666666667, 0.686868686868687, 0.7070707070707072, 0.7272727272727273, 0.7474747474747475, 0.7676767676767677, 0.787878787878788, 0.8080808080808082, 0.8282828282828284, 0.8484848484848485, 0.8686868686868687, 0.888888888888889, 0.9090909090909092, 0.9292929292929294, 0.9494949494949496, 0.9696969696969697, 0.98989898989899, 1.0101010101010102, 1.0303030303030305, 1.0505050505050506, 1.0707070707070707, 1.090909090909091, 1.1111111111111112, 1.1313131313131315, 1.1515151515151516, 1.1717171717171717, 1.191919191919192, 1.2121212121212122, 1.2323232323232325, 1.2525252525252526, 1.272727272727273, 1.292929292929293, 1.3131313131313131, 1.3333333333333335, 1.3535353535353536, 1.373737373737374, 1.393939393939394, 1.4141414141414144, 1.4343434343434345, 1.4545454545454546, 1.474747474747475, 1.494949494949495, 1.5151515151515154, 1.5353535353535355, 1.5555555555555556, 1.575757575757576, 1.595959595959596, 1.6161616161616164, 1.6363636363636365, 1.6565656565656568, 1.676767676767677, 1.696969696969697, 1.7171717171717173, 1.7373737373737375, 1.7575757575757578, 1.777777777777778, 1.7979797979797982, 1.8181818181818183, 1.8383838383838385, 1.8585858585858588, 1.878787878787879, 1.8989898989898992, 1.9191919191919193, 1.9393939393939394, 1.9595959595959598, 1.97979797979798, 2.0], \"y\": [0.0, 0.010101010101010102, 0.020202020202020204, 0.030303030303030304, 0.04040404040404041, 0.05050505050505051, 0.06060606060606061, 0.07070707070707072, 0.08080808080808081, 0.09090909090909091, 0.10101010101010102, 0.11111111111111112, 0.12121212121212122, 0.13131313131313133, 0.14141414141414144, 0.15151515151515152, 0.16161616161616163, 0.17171717171717174, 0.18181818181818182, 0.19191919191919193, 0.20202020202020204, 0.21212121212121213, 0.22222222222222224, 0.23232323232323235, 0.24242424242424243, 0.25252525252525254, 0.26262626262626265, 0.27272727272727276, 0.2828282828282829, 0.29292929292929293, 0.30303030303030304, 0.31313131313131315, 0.32323232323232326, 0.33333333333333337, 0.3434343434343435, 0.3535353535353536, 0.36363636363636365, 0.37373737373737376, 0.38383838383838387, 0.393939393939394, 0.4040404040404041, 0.4141414141414142, 0.42424242424242425, 0.43434343434343436, 0.4444444444444445, 0.4545454545454546, 0.4646464646464647, 0.4747474747474748, 0.48484848484848486, 0.494949494949495, 0.5050505050505051, 0.5151515151515152, 0.5252525252525253, 0.5353535353535354, 0.5454545454545455, 0.5555555555555556, 0.5656565656565657, 0.5757575757575758, 0.5858585858585859, 0.595959595959596, 0.6060606060606061, 0.6161616161616162, 0.6262626262626263, 0.6363636363636365, 0.6464646464646465, 0.6565656565656566, 0.6666666666666667, 0.6767676767676768, 0.686868686868687, 0.696969696969697, 0.7070707070707072, 0.7171717171717172, 0.7272727272727273, 0.7373737373737375, 0.7474747474747475, 0.7575757575757577, 0.7676767676767677, 0.7777777777777778, 0.787878787878788, 0.797979797979798, 0.8080808080808082, 0.8181818181818182, 0.8282828282828284, 0.8383838383838385, 0.8484848484848485, 0.8585858585858587, 0.8686868686868687, 0.8787878787878789, 0.888888888888889, 0.8989898989898991, 0.9090909090909092, 0.9191919191919192, 0.9292929292929294, 0.9393939393939394, 0.9494949494949496, 0.9595959595959597, 0.9696969696969697, 0.9797979797979799, 0.98989898989899, 1.0], \"z\": [[3979.9200688252777, 3972.205491486111, 3964.4909141469443, 3956.7763368077776, 3949.061759468611, 3941.347182129444, 3933.632604790277, 3925.9180274511104, 3918.2034501119438, 3910.488872772777, 3902.7742954336104, 3895.0597180944437, 3887.345140755277, 3879.63056341611, 3871.915986076943, 3864.2014087377765, 3856.48683139861, 3848.772254059443, 3841.0576767202765, 3833.34309938111, 3825.628522041943, 3817.9139447027765, 3810.1993673636093, 3802.4847900244426, 3794.770212685276, 3787.0556353461093, 3779.3410580069426, 3771.626480667776, 3763.9119033286092, 3756.1973259894426, 3748.4827486502754, 3740.7681713111087, 3733.053593971942, 3725.3390166327754, 3717.6244392936087, 3709.909861954442, 3702.1952846152753, 3694.4807072761087, 3686.766129936942, 3679.051552597775, 3671.336975258608, 3663.6223979194415, 3655.907820580275, 3648.193243241108, 3640.4786659019414, 3632.7640885627748, 3625.049511223608, 3617.334933884441, 3609.6203565452743, 3601.9057792061076, 3594.191201866941, 3586.476624527774, 3578.7620471886075, 3571.047469849441, 3563.332892510274, 3555.6183151711075, 3547.9037378319404, 3540.1891604927737, 3532.474583153607, 3524.7600058144403, 3517.0454284752736, 3509.330851136107, 3501.6162737969403, 3493.901696457773, 3486.1871191186065, 3478.47254177944, 3470.757964440273, 3463.0433871011064, 3455.3288097619397, 3447.614232422773, 3439.8996550836064, 3432.1850777444397, 3424.470500405273, 3416.7559230661063, 3409.041345726939, 3401.3267683877725, 3393.612191048606, 3385.897613709439, 3378.1830363702725, 3370.468459031106, 3362.7538816919387, 3355.039304352772, 3347.3247270136053, 3339.6101496744386, 3331.895572335272, 3324.1809949961053, 3316.4664176569386, 3308.751840317772, 3301.037262978605, 3293.3226856394385, 3285.608108300272, 3277.8935309611047, 3270.178953621938, 3262.4643762827714, 3254.7497989436047, 3247.035221604438, 3239.3206442652713, 3231.606066926104, 3223.8914895869375, 3216.176912247771], [3993.6105046502357, 3985.895927311069, 3978.1813499719024, 3970.4667726327352, 3962.7521952935685, 3955.037617954402, 3947.323040615235, 3939.6084632760685, 3931.893885936902, 3924.179308597735, 3916.4647312585685, 3908.750153919402, 3901.0355765802346, 3893.320999241068, 3885.6064219019013, 3877.8918445627346, 3870.177267223568, 3862.4626898844012, 3854.7481125452346, 3847.0335352060674, 3839.3189578669007, 3831.604380527734, 3823.8898031885674, 3816.1752258494007, 3808.460648510234, 3800.7460711710673, 3793.0314938319007, 3785.316916492734, 3777.602339153567, 3769.8877618144, 3762.1731844752335, 3754.458607136067, 3746.7440297969, 3739.0294524577334, 3731.3148751185668, 3723.6002977794, 3715.885720440233, 3708.1711431010663, 3700.4565657618996, 3692.741988422733, 3685.027411083566, 3677.3128337443995, 3669.598256405233, 3661.883679066066, 3654.1691017268995, 3646.454524387733, 3638.7399470485657, 3631.025369709399, 3623.3107923702323, 3615.5962150310656, 3607.881637691899, 3600.1670603527323, 3592.4524830135656, 3584.737905674399, 3577.023328335232, 3569.308750996065, 3561.5941736568984, 3553.8795963177317, 3546.165018978565, 3538.4504416393984, 3530.7358643002317, 3523.021286961065, 3515.3067096218983, 3507.592132282731, 3499.8775549435645, 3492.162977604398, 3484.448400265231, 3476.7338229260645, 3469.019245586898, 3461.304668247731, 3453.590090908564, 3445.8755135693973, 3438.1609362302306, 3430.446358891064, 3422.7317815518973, 3415.0172042127306, 3407.302626873564, 3399.588049534397, 3391.8734721952305, 3384.158894856064, 3376.4443175168967, 3368.72974017773, 3361.0151628385634, 3353.3005854993967, 3345.58600816023, 3337.8714308210633, 3330.1568534818966, 3322.4422761427295, 3314.727698803563, 3307.013121464396, 3299.2985441252295, 3291.583966786063, 3283.869389446896, 3276.1548121077294, 3268.4402347685627, 3260.725657429396, 3253.0110800902294, 3245.2965027510622, 3237.5819254118956, 3229.867348072729], [4007.300940475194, 3999.5863631360266, 3991.87178579686, 3984.1572084576933, 3976.4426311185266, 3968.72805377936, 3961.0134764401932, 3953.2988991010266, 3945.58432176186, 3937.8697444226927, 3930.155167083526, 3922.4405897443594, 3914.7260124051927, 3907.011435066026, 3899.2968577268593, 3891.5822803876927, 3883.867703048526, 3876.1531257093593, 3868.438548370192, 3860.7239710310255, 3853.009393691859, 3845.294816352692, 3837.5802390135254, 3829.8656616743588, 3822.151084335192, 3814.4365069960254, 3806.7219296568583, 3799.0073523176916, 3791.292774978525, 3783.578197639358, 3775.8636203001915, 3768.149042961025, 3760.434465621858, 3752.7198882826915, 3745.005310943525, 3737.2907336043577, 3729.576156265191, 3721.8615789260243, 3714.1470015868576, 3706.432424247691, 3698.7178469085243, 3691.0032695693576, 3683.288692230191, 3675.574114891024, 3667.859537551857, 3660.1449602126904, 3652.4303828735237, 3644.715805534357, 3637.0012281951904, 3629.2866508560237, 3621.572073516857, 3613.85749617769, 3606.142918838523, 3598.4283414993565, 3590.71376416019, 3582.999186821023, 3575.2846094818565, 3567.57003214269, 3559.855454803523, 3552.140877464356, 3544.4263001251893, 3536.7117227860226, 3528.997145446856, 3521.2825681076893, 3513.5679907685226, 3505.853413429356, 3498.138836090189, 3490.4242587510225, 3482.709681411856, 3474.995104072689, 3467.280526733522, 3459.5659493943554, 3451.8513720551887, 3444.136794716022, 3436.4222173768553, 3428.707640037688, 3420.9930626985215, 3413.278485359355, 3405.563908020188, 3397.8493306810215, 3390.134753341855, 3382.420176002688, 3374.7055986635214, 3366.9910213243547, 3359.276443985188, 3351.5618666460214, 3343.8472893068547, 3336.1327119676876, 3328.418134628521, 3320.703557289354, 3312.9889799501875, 3305.274402611021, 3297.559825271854, 3289.845247932687, 3282.1306705935203, 3274.4160932543537, 3266.701515915187, 3258.9869385760203, 3251.2723612368536, 3243.557783897687], [4020.9913763001514, 4013.2767989609847, 4005.562221621818, 3997.8476442826513, 3990.1330669434847, 3982.418489604318, 3974.7039122651513, 3966.9893349259846, 3959.2747575868175, 3951.560180247651, 3943.845602908484, 3936.1310255693174, 3928.4164482301508, 3920.701870890984, 3912.9872935518174, 3905.2727162126507, 3897.5581388734836, 3889.843561534317, 3882.12898419515, 3874.4144068559835, 3866.699829516817, 3858.98525217765, 3851.2706748384835, 3843.556097499317, 3835.84152016015, 3828.126942820983, 3820.4123654818163, 3812.6977881426496, 3804.983210803483, 3797.2686334643163, 3789.5540561251496, 3781.839478785983, 3774.1249014468162, 3766.410324107649, 3758.6957467684824, 3750.9811694293157, 3743.266592090149, 3735.5520147509824, 3727.8374374118157, 3720.122860072649, 3712.4082827334823, 3704.6937053943157, 3696.979128055149, 3689.264550715982, 3681.549973376815, 3673.8353960376485, 3666.120818698482, 3658.406241359315, 3650.6916640201484, 3642.9770866809818, 3635.2625093418146, 3627.547932002648, 3619.8333546634813, 3612.1187773243146, 3604.404199985148, 3596.689622645981, 3588.9750453068145, 3581.260467967648, 3573.545890628481, 3565.831313289314, 3558.1167359501474, 3550.4021586109807, 3542.687581271814, 3534.9730039326473, 3527.2584265934806, 3519.543849254314, 3511.8292719151473, 3504.1146945759806, 3496.4001172368135, 3488.685539897647, 3480.97096255848, 3473.2563852193134, 3465.5418078801467, 3457.82723054098, 3450.1126532018134, 3442.3980758626462, 3434.6834985234796, 3426.968921184313, 3419.254343845146, 3411.5397665059795, 3403.825189166813, 3396.110611827646, 3388.396034488479, 3380.6814571493123, 3372.9668798101457, 3365.252302470979, 3357.5377251318123, 3349.8231477926456, 3342.108570453479, 3334.3939931143123, 3326.6794157751456, 3318.964838435979, 3311.250261096812, 3303.535683757645, 3295.8211064184784, 3288.1065290793117, 3280.391951740145, 3272.6773744009784, 3264.9627970618117, 3257.248219722645], [4034.6818121251094, 4026.9672347859428, 4019.252657446776, 4011.5380801076094, 4003.8235027684427, 3996.1089254292756, 3988.394348090109, 3980.679770750942, 3972.9651934117755, 3965.250616072609, 3957.536038733442, 3949.8214613942755, 3942.106884055109, 3934.392306715942, 3926.677729376775, 3918.9631520376083, 3911.2485746984416, 3903.533997359275, 3895.8194200201083, 3888.1048426809416, 3880.390265341775, 3872.6756880026082, 3864.9611106634416, 3857.2465333242744, 3849.5319559851077, 3841.817378645941, 3834.1028013067744, 3826.3882239676077, 3818.673646628441, 3810.9590692892743, 3803.2444919501077, 3795.529914610941, 3787.815337271774, 3780.100759932607, 3772.3861825934405, 3764.671605254274, 3756.957027915107, 3749.2424505759404, 3741.5278732367738, 3733.8132958976066, 3726.09871855844, 3718.3841412192733, 3710.6695638801066, 3702.95498654094, 3695.240409201773, 3687.5258318626065, 3679.81125452344, 3672.096677184273, 3664.3820998451065, 3656.6675225059394, 3648.9529451667727, 3641.238367827606, 3633.5237904884393, 3625.8092131492726, 3618.094635810106, 3610.3800584709393, 3602.665481131772, 3594.9509037926055, 3587.236326453439, 3579.521749114272, 3571.8071717751054, 3564.0925944359387, 3556.378017096772, 3548.6634397576054, 3540.9488624184387, 3533.234285079272, 3525.519707740105, 3517.805130400938, 3510.0905530617715, 3502.375975722605, 3494.661398383438, 3486.9468210442715, 3479.232243705105, 3471.517666365938, 3463.803089026771, 3456.0885116876043, 3448.3739343484376, 3440.659357009271, 3432.9447796701043, 3425.2302023309376, 3417.515624991771, 3409.801047652604, 3402.086470313437, 3394.3718929742704, 3386.6573156351037, 3378.942738295937, 3371.2281609567704, 3363.5135836176037, 3355.799006278437, 3348.08442893927, 3340.369851600103, 3332.6552742609365, 3324.94069692177, 3317.226119582603, 3309.5115422434365, 3301.7969649042698, 3294.082387565103, 3286.3678102259364, 3278.6532328867697, 3270.938655547603], [4048.3722479500675, 4040.657670610901, 4032.943093271734, 4025.2285159325675, 4017.5139385934003, 4009.7993612542336, 4002.084783915067, 3994.3702065759003, 3986.6556292367336, 3978.941051897567, 3971.2264745584002, 3963.5118972192336, 3955.7973198800664, 3948.0827425408997, 3940.368165201733, 3932.6535878625664, 3924.9390105233997, 3917.224433184233, 3909.5098558450663, 3901.7952785058997, 3894.080701166733, 3886.366123827566, 3878.651546488399, 3870.9369691492325, 3863.222391810066, 3855.507814470899, 3847.7932371317324, 3840.0786597925658, 3832.364082453399, 3824.649505114232, 3816.9349277750653, 3809.2203504358986, 3801.505773096732, 3793.791195757565, 3786.0766184183985, 3778.362041079232, 3770.647463740065, 3762.9328864008985, 3755.2183090617314, 3747.5037317225647, 3739.789154383398, 3732.0745770442313, 3724.3599997050646, 3716.645422365898, 3708.9308450267313, 3701.2162676875646, 3693.5016903483975, 3685.787113009231, 3678.072535670064, 3670.3579583308974, 3662.6433809917307, 3654.928803652564, 3647.2142263133974, 3639.4996489742307, 3631.785071635064, 3624.0704942958973, 3616.35591695673, 3608.6413396175635, 3600.926762278397, 3593.21218493923, 3585.4976076000635, 3577.783030260897, 3570.06845292173, 3562.353875582563, 3554.6392982433963, 3546.9247209042296, 3539.210143565063, 3531.4955662258963, 3523.7809888867296, 3516.066411547563, 3508.351834208396, 3500.6372568692295, 3492.9226795300624, 3485.2081021908957, 3477.493524851729, 3469.7789475125624, 3462.0643701733957, 3454.349792834229, 3446.635215495062, 3438.920638155895, 3431.2060608167285, 3423.491483477562, 3415.776906138395, 3408.0623287992285, 3400.3477514600618, 3392.633174120895, 3384.9185967817284, 3377.2040194425617, 3369.489442103395, 3361.7748647642284, 3354.0602874250617, 3346.3457100858946, 3338.631132746728, 3330.916555407561, 3323.2019780683945, 3315.4874007292274, 3307.7728233900607, 3300.058246050894, 3292.3436687117273, 3284.6290913725607], [4062.0626837750256, 4054.348106435859, 4046.6335290966917, 4038.918951757525, 4031.2043744183584, 4023.4897970791917, 4015.775219740025, 4008.0606424008583, 4000.3460650616917, 3992.631487722525, 3984.916910383358, 3977.202333044191, 3969.4877557050245, 3961.773178365858, 3954.058601026691, 3946.3440236875244, 3938.6294463483578, 3930.914869009191, 3923.2002916700244, 3915.4857143308573, 3907.7711369916906, 3900.056559652524, 3892.341982313357, 3884.6274049741905, 3876.912827635024, 3869.198250295857, 3861.4836729566905, 3853.7690956175234, 3846.0545182783567, 3838.33994093919, 3830.6253636000233, 3822.9107862608566, 3815.19620892169, 3807.4816315825233, 3799.7670542433566, 3792.0524769041895, 3784.337899565023, 3776.623322225856, 3768.9087448866894, 3761.1941675475227, 3753.479590208356, 3745.7650128691894, 3738.0504355300227, 3730.335858190856, 3722.6212808516893, 3714.906703512522, 3707.1921261733555, 3699.477548834189, 3691.762971495022, 3684.0483941558555, 3676.333816816689, 3668.6192394775217, 3660.904662138355, 3653.1900847991883, 3645.4755074600216, 3637.760930120855, 3630.0463527816883, 3622.3317754425216, 3614.617198103355, 3606.902620764188, 3599.1880434250215, 3591.4734660858544, 3583.7588887466877, 3576.044311407521, 3568.3297340683544, 3560.6151567291877, 3552.900579390021, 3545.1860020508543, 3537.4714247116876, 3529.756847372521, 3522.042270033354, 3514.327692694187, 3506.6131153550205, 3498.898538015854, 3491.183960676687, 3483.4693833375204, 3475.7548059983537, 3468.040228659187, 3460.3256513200204, 3452.6110739808537, 3444.8964966416866, 3437.18191930252, 3429.467341963353, 3421.7527646241865, 3414.03818728502, 3406.323609945853, 3398.6090326066865, 3390.8944552675193, 3383.1798779283527, 3375.465300589186, 3367.7507232500193, 3360.0361459108526, 3352.321568571686, 3344.6069912325192, 3336.8924138933526, 3329.177836554186, 3321.463259215019, 3313.748681875852, 3306.0341045366854, 3298.3195271975187], [4075.753119599983, 4068.0385422608165, 4060.32396492165, 4052.609387582483, 4044.8948102433164, 4037.1802329041498, 4029.465655564983, 4021.7510782258164, 4014.0365008866493, 4006.3219235474826, 3998.607346208316, 3990.892768869149, 3983.1781915299825, 3975.463614190816, 3967.749036851649, 3960.0344595124825, 3952.319882173316, 3944.6053048341487, 3936.890727494982, 3929.1761501558153, 3921.4615728166486, 3913.746995477482, 3906.0324181383153, 3898.3178407991486, 3890.603263459982, 3882.888686120815, 3875.174108781648, 3867.4595314424814, 3859.7449541033147, 3852.030376764148, 3844.3157994249814, 3836.6012220858147, 3828.886644746648, 3821.1720674074813, 3813.457490068314, 3805.7429127291475, 3798.028335389981, 3790.313758050814, 3782.5991807116475, 3774.884603372481, 3767.170026033314, 3759.4554486941474, 3751.7408713549808, 3744.0262940158136, 3736.311716676647, 3728.5971393374803, 3720.8825619983136, 3713.167984659147, 3705.45340731998, 3697.7388299808135, 3690.024252641647, 3682.3096753024797, 3674.595097963313, 3666.8805206241464, 3659.1659432849797, 3651.451365945813, 3643.7367886066463, 3636.0222112674796, 3628.307633928313, 3620.593056589146, 3612.878479249979, 3605.1639019108125, 3597.449324571646, 3589.734747232479, 3582.0201698933124, 3574.3055925541457, 3566.591015214979, 3558.8764378758124, 3551.1618605366457, 3543.447283197479, 3535.732705858312, 3528.018128519145, 3520.3035511799785, 3512.588973840812, 3504.874396501645, 3497.159819162478, 3489.4452418233113, 3481.7306644841447, 3474.016087144978, 3466.3015098058113, 3458.5869324666446, 3450.872355127478, 3443.1577777883113, 3435.4432004491446, 3427.728623109978, 3420.014045770811, 3412.2994684316445, 3404.5848910924774, 3396.8703137533107, 3389.155736414144, 3381.4411590749773, 3373.7265817358107, 3366.012004396644, 3358.297427057477, 3350.58284971831, 3342.8682723791435, 3335.153695039977, 3327.43911770081, 3319.7245403616434, 3312.0099630224768], [4089.443555424941, 4081.7289780857745, 4074.014400746608, 4066.299823407441, 4058.5852460682745, 4050.870668729108, 4043.1560913899407, 4035.441514050774, 4027.7269367116073, 4020.0123593724406, 4012.297782033274, 4004.5832046941073, 3996.8686273549406, 3989.154050015774, 3981.4394726766072, 3973.72489533744, 3966.0103179982734, 3958.2957406591067, 3950.58116331994, 3942.8665859807734, 3935.1520086416067, 3927.43743130244, 3919.7228539632733, 3912.0082766241067, 3904.2936992849395, 3896.579121945773, 3888.864544606606, 3881.1499672674395, 3873.435389928273, 3865.720812589106, 3858.0062352499394, 3850.2916579107728, 3842.5770805716056, 3834.862503232439, 3827.1479258932723, 3819.4333485541056, 3811.718771214939, 3804.004193875772, 3796.2896165366055, 3788.575039197439, 3780.8604618582717, 3773.145884519105, 3765.4313071799384, 3757.7167298407717, 3750.002152501605, 3742.2875751624383, 3734.5729978232716, 3726.858420484105, 3719.143843144938, 3711.429265805771, 3703.7146884666045, 3696.000111127438, 3688.285533788271, 3680.5709564491044, 3672.8563791099377, 3665.141801770771, 3657.4272244316044, 3649.7126470924377, 3641.998069753271, 3634.283492414104, 3626.568915074937, 3618.8543377357705, 3611.139760396604, 3603.425183057437, 3595.7106057182705, 3587.9960283791033, 3580.2814510399367, 3572.56687370077, 3564.8522963616033, 3557.1377190224366, 3549.42314168327, 3541.7085643441033, 3533.9939870049366, 3526.27940966577, 3518.564832326603, 3510.850254987436, 3503.1356776482694, 3495.4211003091027, 3487.706522969936, 3479.9919456307694, 3472.2773682916027, 3464.562790952436, 3456.848213613269, 3449.133636274102, 3441.4190589349355, 3433.704481595769, 3425.989904256602, 3418.2753269174355, 3410.5607495782688, 3402.846172239102, 3395.1315948999354, 3387.4170175607687, 3379.702440221602, 3371.987862882435, 3364.2732855432682, 3356.5587082041015, 3348.844130864935, 3341.129553525768, 3333.4149761866015, 3325.700398847435], [4103.133991249899, 4095.4194139107326, 4087.704836571566, 4079.9902592323992, 4072.275681893232, 4064.5611045540654, 4056.8465272148987, 4049.131949875732, 4041.4173725365654, 4033.7027951973987, 4025.988217858232, 4018.2736405190653, 4010.5590631798987, 4002.8444858407315, 3995.129908501565, 3987.415331162398, 3979.7007538232315, 3971.986176484065, 3964.271599144898, 3956.5570218057314, 3948.8424444665648, 3941.127867127398, 3933.413289788231, 3925.6987124490643, 3917.9841351098976, 3910.269557770731, 3902.554980431564, 3894.8404030923975, 3887.125825753231, 3879.411248414064, 3871.696671074897, 3863.9820937357304, 3856.2675163965637, 3848.552939057397, 3840.8383617182303, 3833.1237843790636, 3825.409207039897, 3817.6946297007303, 3809.980052361563, 3802.2654750223965, 3794.55089768323, 3786.836320344063, 3779.1217430048964, 3771.4071656657297, 3763.692588326563, 3755.9780109873964, 3748.2634336482297, 3740.548856309063, 3732.834278969896, 3725.119701630729, 3717.4051242915625, 3709.690546952396, 3701.975969613229, 3694.2613922740625, 3686.546814934896, 3678.832237595729, 3671.117660256562, 3663.4030829173953, 3655.6885055782286, 3647.973928239062, 3640.2593508998953, 3632.5447735607286, 3624.830196221562, 3617.115618882395, 3609.4010415432285, 3601.6864642040614, 3593.9718868648947, 3586.257309525728, 3578.5427321865614, 3570.8281548473947, 3563.113577508228, 3555.3990001690613, 3547.684422829894, 3539.9698454907275, 3532.255268151561, 3524.540690812394, 3516.8261134732275, 3509.1115361340608, 3501.396958794894, 3493.6823814557274, 3485.9678041165607, 3478.253226777394, 3470.538649438227, 3462.8240720990602, 3455.1094947598936, 3447.394917420727, 3439.68034008156, 3431.9657627423935, 3424.251185403227, 3416.5366080640597, 3408.822030724893, 3401.1074533857263, 3393.3928760465596, 3385.678298707393, 3377.9637213682263, 3370.2491440290596, 3362.534566689893, 3354.8199893507262, 3347.1054120115596, 3339.390834672393], [4116.824427074857, 4109.109849735691, 4101.395272396524, 4093.680695057357, 4085.96611771819, 4078.2515403790235, 4070.536963039857, 4062.82238570069, 4055.1078083615234, 4047.3932310223568, 4039.67865368319, 4031.964076344023, 4024.2494990048563, 4016.5349216656896, 4008.820344326523, 4001.105766987356, 3993.3911896481895, 3985.676612309023, 3977.962034969856, 3970.2474576306895, 3962.5328802915224, 3954.8183029523557, 3947.103725613189, 3939.3891482740223, 3931.6745709348556, 3923.959993595689, 3916.2454162565223, 3908.5308389173556, 3900.8162615781885, 3893.101684239022, 3885.387106899855, 3877.6725295606884, 3869.9579522215217, 3862.243374882355, 3854.5287975431884, 3846.8142202040217, 3839.099642864855, 3831.385065525688, 3823.670488186521, 3815.9559108473545, 3808.241333508188, 3800.526756169021, 3792.8121788298545, 3785.097601490688, 3777.383024151521, 3769.668446812354, 3761.9538694731873, 3754.2392921340206, 3746.524714794854, 3738.8101374556873, 3731.0955601165206, 3723.380982777354, 3715.666405438187, 3707.9518280990205, 3700.2372507598534, 3692.5226734206867, 3684.80809608152, 3677.0935187423534, 3669.3789414031867, 3661.66436406402, 3653.9497867248533, 3646.235209385686, 3638.5206320465195, 3630.806054707353, 3623.091477368186, 3615.3769000290195, 3607.6623226898528, 3599.947745350686, 3592.2331680115194, 3584.5185906723527, 3576.804013333186, 3569.0894359940194, 3561.3748586548522, 3553.6602813156856, 3545.945703976519, 3538.231126637352, 3530.5165492981855, 3522.801971959019, 3515.0873946198517, 3507.372817280685, 3499.6582399415183, 3491.9436626023517, 3484.229085263185, 3476.5145079240183, 3468.7999305848516, 3461.085353245685, 3453.3707759065182, 3445.6561985673516, 3437.941621228185, 3430.2270438890178, 3422.512466549851, 3414.7978892106844, 3407.0833118715177, 3399.368734532351, 3391.6541571931843, 3383.939579854017, 3376.2250025148505, 3368.510425175684, 3360.795847836517, 3353.0812704973505], [4130.514862899815, 4122.800285560648, 4115.085708221482, 4107.371130882315, 4099.656553543148, 4091.9419762039815, 4084.227398864815, 4076.512821525648, 4068.7982441864815, 4061.0836668473144, 4053.3690895081477, 4045.654512168981, 4037.9399348298143, 4030.2253574906476, 4022.510780151481, 4014.7962028123143, 4007.0816254731476, 3999.3670481339805, 3991.652470794814, 3983.937893455647, 3976.2233161164804, 3968.5087387773137, 3960.794161438147, 3953.0795840989804, 3945.3650067598137, 3937.650429420647, 3929.93585208148, 3922.221274742313, 3914.5066974031465, 3906.79212006398, 3899.077542724813, 3891.3629653856465, 3883.64838804648, 3875.933810707313, 3868.219233368146, 3860.5046560289793, 3852.7900786898126, 3845.075501350646, 3837.3609240114793, 3829.6463466723126, 3821.931769333146, 3814.217191993979, 3806.5026146548125, 3798.788037315646, 3791.0734599764787, 3783.358882637312, 3775.6443052981454, 3767.9297279589787, 3760.215150619812, 3752.5005732806453, 3744.7859959414786, 3737.0714186023115, 3729.356841263145, 3721.642263923978, 3713.9276865848115, 3706.213109245645, 3698.498531906478, 3690.7839545673114, 3683.0693772281447, 3675.354799888978, 3667.6402225498114, 3659.9256452106442, 3652.2110678714776, 3644.496490532311, 3636.781913193144, 3629.0673358539775, 3621.352758514811, 3613.638181175644, 3605.923603836477, 3598.2090264973103, 3590.4944491581437, 3582.779871818977, 3575.0652944798103, 3567.3507171406436, 3559.636139801477, 3551.9215624623102, 3544.2069851231436, 3536.492407783977, 3528.7778304448098, 3521.063253105643, 3513.3486757664764, 3505.6340984273097, 3497.919521088143, 3490.2049437489763, 3482.4903664098097, 3474.7757890706425, 3467.061211731476, 3459.346634392309, 3451.6320570531425, 3443.917479713976, 3436.202902374809, 3428.4883250356424, 3420.7737476964758, 3413.059170357309, 3405.3445930181424, 3397.6300156789753, 3389.9154383398086, 3382.200861000642, 3374.486283661475, 3366.7717063223085], [4144.2052987247735, 4136.490721385607, 4128.77614404644, 4121.0615667072725, 4113.346989368106, 4105.632412028939, 4097.9178346897725, 4090.203257350606, 4082.488680011439, 4074.7741026722724, 4067.0595253331057, 4059.344947993939, 4051.6303706547724, 4043.9157933156057, 4036.201215976439, 4028.4866386372723, 4020.772061298105, 4013.0574839589385, 4005.342906619772, 3997.628329280605, 3989.9137519414385, 3982.199174602272, 3974.484597263105, 3966.7700199239384, 3959.0554425847713, 3951.3408652456046, 3943.626287906438, 3935.9117105672713, 3928.1971332281046, 3920.482555888938, 3912.767978549771, 3905.0534012106045, 3897.338823871438, 3889.6242465322707, 3881.909669193104, 3874.1950918539374, 3866.4805145147707, 3858.765937175604, 3851.0513598364373, 3843.3367824972706, 3835.622205158104, 3827.907627818937, 3820.19305047977, 3812.4784731406035, 3804.763895801437, 3797.04931846227, 3789.3347411231034, 3781.6201637839367, 3773.90558644477, 3766.1910091056034, 3758.4764317664362, 3750.7618544272696, 3743.047277088103, 3735.332699748936, 3727.6181224097695, 3719.903545070603, 3712.188967731436, 3704.474390392269, 3696.7598130531023, 3689.0452357139357, 3681.330658374769, 3673.6160810356023, 3665.9015036964356, 3658.186926357269, 3650.4723490181022, 3642.7577716789356, 3635.043194339769, 3627.328617000602, 3619.614039661435, 3611.8994623222684, 3604.1848849831017, 3596.470307643935, 3588.7557303047683, 3581.0411529656017, 3573.3265756264345, 3565.611998287268, 3557.897420948101, 3550.1828436089345, 3542.468266269768, 3534.753688930601, 3527.0391115914344, 3519.3245342522678, 3511.609956913101, 3503.8953795739344, 3496.1808022347677, 3488.4662248956006, 3480.751647556434, 3473.0370702172672, 3465.3224928781005, 3457.607915538934, 3449.893338199767, 3442.1787608606, 3434.4641835214334, 3426.7496061822667, 3419.0350288431, 3411.3204515039333, 3403.6058741647666, 3395.8912968256, 3388.1767194864333, 3380.4621421472666], [4157.895734549731, 4150.181157210564, 4142.466579871398, 4134.752002532231, 4127.037425193064, 4119.322847853898, 4111.608270514731, 4103.893693175564, 4096.179115836398, 4088.4645384972305, 4080.749961158064, 4073.035383818897, 4065.3208064797304, 4057.6062291405638, 4049.8916518013966, 4042.17707446223, 4034.4624971230633, 4026.7479197838966, 4019.03334244473, 4011.318765105563, 4003.6041877663965, 3995.88961042723, 3988.175033088063, 3980.460455748896, 3972.7458784097294, 3965.0313010705627, 3957.316723731396, 3949.6021463922293, 3941.8875690530626, 3934.172991713896, 3926.4584143747293, 3918.743837035562, 3911.0292596963955, 3903.314682357229, 3895.600105018062, 3887.8855276788954, 3880.1709503397287, 3872.456373000562, 3864.7417956613954, 3857.0272183222282, 3849.3126409830616, 3841.598063643895, 3833.883486304728, 3826.1689089655615, 3818.454331626395, 3810.739754287228, 3803.0251769480615, 3795.310599608895, 3787.5960222697277, 3779.881444930561, 3772.1668675913943, 3764.4522902522276, 3756.737712913061, 3749.0231355738943, 3741.3085582347276, 3733.593980895561, 3725.8794035563938, 3718.164826217227, 3710.4502488780604, 3702.7356715388937, 3695.021094199727, 3687.3065168605604, 3679.5919395213937, 3671.8773621822265, 3664.16278484306, 3656.448207503893, 3648.7336301647265, 3641.01905282556, 3633.304475486393, 3625.5898981472264, 3617.8753208080598, 3610.160743468893, 3602.4461661297264, 3594.7315887905597, 3587.0170114513926, 3579.302434112226, 3571.5878567730592, 3563.8732794338925, 3556.158702094726, 3548.444124755559, 3540.729547416392, 3533.0149700772254, 3525.3003927380587, 3517.585815398892, 3509.8712380597253, 3502.1566607205586, 3494.442083381392, 3486.7275060422253, 3479.0129287030586, 3471.298351363892, 3463.5837740247252, 3455.869196685558, 3448.1546193463914, 3440.4400420072247, 3432.725464668058, 3425.0108873288914, 3417.2963099897247, 3409.5817326505576, 3401.867155311391, 3394.152577972224], [4171.586170374689, 4163.871593035522, 4156.157015696355, 4148.442438357189, 4140.727861018022, 4133.013283678855, 4125.298706339689, 4117.584129000522, 4109.869551661355, 4102.1549743221885, 4094.440396983022, 4086.725819643855, 4079.011242304688, 4071.2966649655214, 4063.5820876263547, 4055.867510287188, 4048.1529329480213, 4040.4383556088546, 4032.723778269688, 4025.0092009305213, 4017.294623591354, 4009.5800462521875, 4001.865468913021, 3994.150891573854, 3986.4363142346874, 3978.7217368955207, 3971.007159556354, 3963.2925822171874, 3955.5780048780207, 3947.863427538854, 3940.148850199687, 3932.43427286052, 3924.7196955213535, 3917.005118182187, 3909.29054084302, 3901.5759635038535, 3893.861386164687, 3886.1468088255197, 3878.432231486353, 3870.7176541471863, 3863.0030768080196, 3855.288499468853, 3847.5739221296863, 3839.8593447905196, 3832.144767451353, 3824.430190112186, 3816.7156127730195, 3809.0010354338524, 3801.2864580946857, 3793.571880755519, 3785.8573034163524, 3778.1427260771857, 3770.428148738019, 3762.7135713988523, 3754.998994059685, 3747.2844167205185, 3739.569839381352, 3731.855262042185, 3724.1406847030185, 3716.4261073638518, 3708.711530024685, 3700.9969526855184, 3693.2823753463517, 3685.5677980071846, 3677.853220668018, 3670.1386433288512, 3662.4240659896846, 3654.709488650518, 3646.994911311351, 3639.2803339721845, 3631.565756633018, 3623.851179293851, 3616.136601954684, 3608.4220246155173, 3600.7074472763506, 3592.992869937184, 3585.2782925980173, 3577.5637152588506, 3569.849137919684, 3562.1345605805172, 3554.41998324135, 3546.7054059021834, 3538.9908285630167, 3531.27625122385, 3523.5616738846834, 3515.8470965455167, 3508.13251920635, 3500.4179418671833, 3492.7033645280167, 3484.9887871888495, 3477.274209849683, 3469.559632510516, 3461.8450551713495, 3454.130477832183, 3446.415900493016, 3438.7013231538494, 3430.9867458146828, 3423.272168475516, 3415.5575911363494, 3407.8430137971827], [4185.276606199647, 4177.5620288604805, 4169.847451521314, 4162.132874182147, 4154.41829684298, 4146.703719503814, 4138.989142164646, 4131.2745648254795, 4123.559987486313, 4115.845410147146, 4108.1308328079795, 4100.416255468813, 4092.701678129646, 4084.9871007904794, 4077.2725234513127, 4069.557946112146, 4061.8433687729794, 4054.1287914338127, 4046.414214094646, 4038.699636755479, 4030.985059416312, 4023.2704820771455, 4015.555904737979, 4007.841327398812, 4000.1267500596455, 3992.412172720479, 3984.697595381312, 3976.983018042145, 3969.2684407029783, 3961.5538633638116, 3953.839286024645, 3946.1247086854783, 3938.4101313463116, 3930.695554007145, 3922.980976667978, 3915.2663993288115, 3907.5518219896444, 3899.8372446504777, 3892.122667311311, 3884.4080899721444, 3876.6935126329777, 3868.978935293811, 3861.2643579546443, 3853.5497806154776, 3845.8352032763105, 3838.120625937144, 3830.406048597977, 3822.6914712588105, 3814.9768939196438, 3807.262316580477, 3799.5477392413104, 3791.8331619021437, 3784.118584562977, 3776.4040072238104, 3768.6894298846432, 3760.9748525454766, 3753.26027520631, 3745.545697867143, 3737.8311205279765, 3730.11654318881, 3722.401965849643, 3714.687388510476, 3706.9728111713093, 3699.2582338321427, 3691.543656492976, 3683.8290791538093, 3676.1145018146426, 3668.399924475476, 3660.6853471363092, 3652.9707697971426, 3645.2561924579754, 3637.5416151188087, 3629.827037779642, 3622.1124604404754, 3614.3978831013087, 3606.683305762142, 3598.9687284229753, 3591.2541510838087, 3583.5395737446415, 3575.824996405475, 3568.110419066308, 3560.3958417271415, 3552.681264387975, 3544.966687048808, 3537.2521097096414, 3529.5375323704748, 3521.822955031308, 3514.108377692141, 3506.3938003529743, 3498.6792230138076, 3490.964645674641, 3483.250068335474, 3475.5354909963075, 3467.8209136571404, 3460.1063363179737, 3452.391758978807, 3444.6771816396404, 3436.9626043004737, 3429.248026961307, 3421.5334496221403], [4198.967042024605, 4191.252464685438, 4183.537887346271, 4175.823310007105, 4168.108732667938, 4160.394155328771, 4152.679577989605, 4144.965000650438, 4137.250423311271, 4129.535845972105, 4121.821268632938, 4114.106691293771, 4106.392113954604, 4098.677536615437, 4090.962959276271, 4083.248381937104, 4075.533804597937, 4067.8192272587703, 4060.1046499196036, 4052.390072580437, 4044.6754952412703, 4036.9609179021036, 4029.246340562937, 4021.53176322377, 4013.8171858846035, 4006.1026085454364, 3998.3880312062697, 3990.673453867103, 3982.9588765279364, 3975.2442991887697, 3967.529721849603, 3959.8151445104363, 3952.1005671712696, 3944.3859898321025, 3936.671412492936, 3928.956835153769, 3921.2422578146025, 3913.527680475436, 3905.813103136269, 3898.0985257971024, 3890.3839484579357, 3882.669371118769, 3874.9547937796024, 3867.2402164404352, 3859.5256391012686, 3851.811061762102, 3844.096484422935, 3836.3819070837685, 3828.667329744602, 3820.952752405435, 3813.238175066268, 3805.5235977271013, 3797.8090203879347, 3790.094443048768, 3782.3798657096013, 3774.6652883704346, 3766.950711031268, 3759.2361336921012, 3751.5215563529346, 3743.8069790137674, 3736.0924016746008, 3728.377824335434, 3720.6632469962674, 3712.9486696571007, 3705.234092317934, 3697.5195149787673, 3689.8049376396007, 3682.090360300434, 3674.375782961267, 3666.6612056221, 3658.9466282829335, 3651.232050943767, 3643.5174736046, 3635.8028962654334, 3628.0883189262668, 3620.3737415870996, 3612.659164247933, 3604.9445869087663, 3597.2300095695996, 3589.515432230433, 3581.800854891266, 3574.0862775520995, 3566.371700212933, 3558.657122873766, 3550.9425455345995, 3543.2279681954324, 3535.5133908562657, 3527.798813517099, 3520.0842361779323, 3512.3696588387656, 3504.655081499599, 3496.9405041604323, 3489.2259268212656, 3481.5113494820985, 3473.796772142932, 3466.082194803765, 3458.3676174645984, 3450.6530401254317, 3442.938462786265, 3435.2238854470984], [4212.657477849563, 4204.942900510397, 4197.228323171229, 4189.513745832062, 4181.799168492896, 4174.084591153729, 4166.370013814562, 4158.655436475396, 4150.940859136229, 4143.226281797062, 4135.511704457896, 4127.797127118729, 4120.082549779562, 4112.3679724403955, 4104.653395101229, 4096.938817762062, 4089.224240422895, 4081.5096630837284, 4073.7950857445617, 4066.080508405395, 4058.3659310662283, 4050.6513537270616, 4042.936776387895, 4035.222199048728, 4027.507621709561, 4019.7930443703945, 4012.078467031228, 4004.363889692061, 3996.6493123528944, 3988.9347350137277, 3981.220157674561, 3973.5055803353944, 3965.7910029962272, 3958.0764256570606, 3950.361848317894, 3942.647270978727, 3934.9326936395605, 3927.218116300394, 3919.503538961227, 3911.7889616220605, 3904.0743842828933, 3896.3598069437267, 3888.64522960456, 3880.9306522653933, 3873.2160749262266, 3865.50149758706, 3857.7869202478932, 3850.0723429087266, 3842.35776556956, 3834.6431882303928, 3826.928610891226, 3819.2140335520594, 3811.4994562128927, 3803.784878873726, 3796.0703015345593, 3788.3557241953927, 3780.641146856226, 3772.926569517059, 3765.211992177892, 3757.4974148387255, 3749.782837499559, 3742.068260160392, 3734.3536828212254, 3726.6391054820588, 3718.924528142892, 3711.2099508037254, 3703.4953734645587, 3695.780796125392, 3688.066218786225, 3680.3516414470582, 3672.6370641078915, 3664.922486768725, 3657.207909429558, 3649.4933320903915, 3641.7787547512244, 3634.0641774120577, 3626.349600072891, 3618.6350227337243, 3610.9204453945576, 3603.205868055391, 3595.4912907162243, 3587.7767133770576, 3580.062136037891, 3572.3475586987242, 3564.6329813595576, 3556.9184040203904, 3549.2038266812237, 3541.489249342057, 3533.7746720028904, 3526.0600946637237, 3518.345517324557, 3510.63093998539, 3502.916362646223, 3495.2017853070565, 3487.48720796789, 3479.772630628723, 3472.0580532895565, 3464.34347595039, 3456.628898611223, 3448.9143212720564], [4226.347913674521, 4218.633336335354, 4210.9187589961875, 4203.204181657021, 4195.489604317854, 4187.7750269786875, 4180.060449639521, 4172.345872300354, 4164.631294961187, 4156.91671762202, 4149.202140282853, 4141.4875629436865, 4133.77298560452, 4126.058408265353, 4118.3438309261865, 4110.62925358702, 4102.914676247853, 4095.2000989086864, 4087.4855215695197, 4079.770944230353, 4072.0563668911864, 4064.3417895520197, 4056.6272122128526, 4048.912634873686, 4041.198057534519, 4033.4834801953525, 4025.768902856186, 4018.054325517019, 4010.3397481778525, 4002.625170838686, 3994.9105934995187, 3987.196016160352, 3979.4814388211853, 3971.7668614820186, 3964.052284142852, 3956.3377068036853, 3948.6231294645186, 3940.908552125352, 3933.1939747861848, 3925.479397447018, 3917.7648201078514, 3910.0502427686847, 3902.335665429518, 3894.6210880903513, 3886.9065107511847, 3879.191933412018, 3871.4773560728513, 3863.762778733684, 3856.0482013945175, 3848.333624055351, 3840.619046716184, 3832.9044693770174, 3825.1898920378508, 3817.475314698684, 3809.7607373595174, 3802.0461600203507, 3794.3315826811836, 3786.617005342017, 3778.9024280028502, 3771.1878506636835, 3763.473273324517, 3755.75869598535, 3748.0441186461835, 3740.3295413070164, 3732.6149639678497, 3724.900386628683, 3717.1858092895163, 3709.4712319503496, 3701.756654611183, 3694.0420772720163, 3686.3274999328496, 3678.612922593683, 3670.8983452545162, 3663.1837679153496, 3655.4691905761824, 3647.7546132370157, 3640.040035897849, 3632.3254585586824, 3624.6108812195157, 3616.896303880349, 3609.181726541182, 3601.467149202015, 3593.7525718628485, 3586.037994523682, 3578.323417184515, 3570.6088398453485, 3562.894262506182, 3555.179685167015, 3547.4651078278484, 3539.7505304886818, 3532.035953149515, 3524.321375810348, 3516.6067984711813, 3508.8922211320146, 3501.177643792848, 3493.463066453681, 3485.7484891145145, 3478.0339117753474, 3470.3193344361807, 3462.604757097014], [4240.0383494994785, 4232.323772160312, 4224.609194821145, 4216.8946174819785, 4209.180040142812, 4201.465462803645, 4193.750885464478, 4186.036308125312, 4178.321730786145, 4170.607153446978, 4162.892576107812, 4155.177998768645, 4147.463421429478, 4139.748844090312, 4132.034266751145, 4124.319689411977, 4116.605112072811, 4108.890534733644, 4101.175957394477, 4093.4613800553107, 4085.746802716144, 4078.0322253769773, 4070.3176480378106, 4062.603070698644, 4054.8884933594773, 4047.1739160203106, 4039.459338681144, 4031.744761341977, 4024.03018400281, 4016.3156066636434, 4008.6010293244767, 4000.88645198531, 3993.1718746461434, 3985.4572973069767, 3977.74271996781, 3970.0281426286433, 3962.313565289476, 3954.5989879503095, 3946.884410611143, 3939.169833271976, 3931.4552559328095, 3923.7406785936428, 3916.026101254476, 3908.3115239153094, 3900.5969465761427, 3892.882369236976, 3885.167791897809, 3877.4532145586422, 3869.7386372194755, 3862.024059880309, 3854.309482541142, 3846.5949052019755, 3838.880327862809, 3831.165750523642, 3823.451173184475, 3815.7365958453083, 3808.0220185061416, 3800.307441166975, 3792.5928638278083, 3784.8782864886416, 3777.163709149475, 3769.4491318103082, 3761.7345544711416, 3754.0199771319744, 3746.3053997928077, 3738.590822453641, 3730.8762451144744, 3723.1616677753077, 3715.447090436141, 3707.7325130969743, 3700.017935757807, 3692.3033584186405, 3684.588781079474, 3676.874203740307, 3669.1596264011405, 3661.445049061974, 3653.730471722807, 3646.0158943836404, 3638.3013170444738, 3630.586739705307, 3622.87216236614, 3615.1575850269733, 3607.4430076878066, 3599.72843034864, 3592.013853009473, 3584.2992756703065, 3576.58469833114, 3568.8701209919727, 3561.155543652806, 3553.4409663136394, 3545.7263889744727, 3538.011811635306, 3530.2972342961393, 3522.5826569569726, 3514.868079617806, 3507.1535022786393, 3499.4389249394726, 3491.7243476003055, 3484.009770261139, 3476.295192921972], [4253.728785324437, 4246.01420798527, 4238.299630646104, 4230.585053306937, 4222.870475967769, 4215.155898628603, 4207.441321289436, 4199.726743950269, 4192.012166611103, 4184.297589271936, 4176.583011932769, 4168.868434593603, 4161.153857254436, 4153.439279915269, 4145.724702576103, 4138.010125236936, 4130.295547897769, 4122.5809705586025, 4114.866393219436, 4107.151815880269, 4099.4372385411025, 4091.7226612019354, 4084.0080838627687, 4076.293506523602, 4068.5789291844353, 4060.8643518452686, 4053.1497745061015, 4045.435197166935, 4037.720619827768, 4030.0060424886015, 4022.2914651494348, 4014.576887810268, 4006.8623104711014, 3999.1477331319347, 3991.433155792768, 3983.718578453601, 3976.0040011144342, 3968.2894237752676, 3960.574846436101, 3952.860269096934, 3945.1456917577675, 3937.431114418601, 3929.716537079434, 3922.001959740267, 3914.2873824011003, 3906.5728050619336, 3898.858227722767, 3891.1436503836003, 3883.4290730444336, 3875.714495705267, 3867.9999183661002, 3860.285341026933, 3852.5707636877664, 3844.8561863485997, 3837.141609009433, 3829.4270316702664, 3821.7124543310997, 3813.997876991933, 3806.2832996527663, 3798.568722313599, 3790.8541449744325, 3783.139567635266, 3775.424990296099, 3767.7104129569325, 3759.995835617766, 3752.281258278599, 3744.5666809394324, 3736.8521036002658, 3729.137526261099, 3721.4229489219324, 3713.7083715827653, 3705.9937942435986, 3698.279216904432, 3690.564639565265, 3682.8500622260985, 3675.1354848869314, 3667.4209075477647, 3659.706330208598, 3651.9917528694314, 3644.2771755302647, 3636.562598191098, 3628.8480208519313, 3621.1334435127646, 3613.418866173598, 3605.7042888344313, 3597.9897114952646, 3590.275134156098, 3582.560556816931, 3574.845979477764, 3567.1314021385974, 3559.4168247994307, 3551.702247460264, 3543.9876701210974, 3536.2730927819302, 3528.5585154427636, 3520.843938103597, 3513.12936076443, 3505.4147834252635, 3497.700206086097, 3489.98562874693], [4267.419221149395, 4259.704643810228, 4251.990066471061, 4244.275489131895, 4236.560911792728, 4228.846334453561, 4221.1317571143945, 4213.417179775228, 4205.702602436061, 4197.9880250968945, 4190.273447757728, 4182.558870418561, 4174.8442930793935, 4167.129715740227, 4159.41513840106, 4151.7005610618935, 4143.985983722727, 4136.27140638356, 4128.556829044393, 4120.842251705227, 4113.12767436606, 4105.413097026893, 4097.698519687727, 4089.98394234856, 4082.269365009393, 4074.5547876702262, 4066.8402103310596, 4059.125632991893, 4051.411055652726, 4043.6964783135595, 4035.981900974393, 4028.267323635226, 4020.552746296059, 4012.8381689568923, 4005.1235916177257, 3997.409014278559, 3989.6944369393923, 3981.9798596002256, 3974.265282261059, 3966.5507049218922, 3958.8361275827256, 3951.1215502435584, 3943.4069729043918, 3935.692395565225, 3927.9778182260584, 3920.2632408868917, 3912.548663547725, 3904.8340862085583, 3897.1195088693917, 3889.4049315302245, 3881.690354191058, 3873.975776851891, 3866.2611995127245, 3858.546622173558, 3850.832044834391, 3843.1174674952244, 3835.4028901560578, 3827.688312816891, 3819.9737354777244, 3812.2591581385573, 3804.5445807993906, 3796.830003460224, 3789.115426121057, 3781.4008487818905, 3773.686271442724, 3765.971694103557, 3758.25711676439, 3750.5425394252234, 3742.8279620860567, 3735.11338474689, 3727.3988074077233, 3719.6842300685566, 3711.96965272939, 3704.2550753902233, 3696.5404980510566, 3688.8259207118895, 3681.111343372723, 3673.396766033556, 3665.6821886943894, 3657.9676113552227, 3650.253034016056, 3642.5384566768894, 3634.8238793377222, 3627.1093019985556, 3619.394724659389, 3611.680147320222, 3603.9655699810555, 3596.250992641889, 3588.536415302722, 3580.8218379635555, 3573.107260624389, 3565.392683285222, 3557.6781059460554, 3549.9635286068883, 3542.2489512677216, 3534.534373928555, 3526.8197965893883, 3519.1052192502216, 3511.390641911055, 3503.676064571888], [4281.109656974353, 4273.3950796351855, 4265.680502296019, 4257.965924956852, 4250.2513476176855, 4242.536770278519, 4234.822192939352, 4227.107615600185, 4219.393038261019, 4211.678460921852, 4203.963883582685, 4196.249306243519, 4188.534728904352, 4180.820151565185, 4173.105574226019, 4165.390996886852, 4157.676419547685, 4149.961842208519, 4142.247264869351, 4134.532687530184, 4126.818110191018, 4119.103532851851, 4111.388955512684, 4103.674378173518, 4095.959800834351, 4088.2452234951843, 4080.5306461560176, 4072.816068816851, 4065.1014914776842, 4057.3869141385176, 4049.672336799351, 4041.9577594601838, 4034.243182121017, 4026.5286047818504, 4018.8140274426837, 4011.099450103517, 4003.3848727643503, 3995.6702954251837, 3987.9557180860165, 3980.24114074685, 3972.526563407683, 3964.8119860685165, 3957.09740872935, 3949.382831390183, 3941.6682540510164, 3933.9536767118498, 3926.239099372683, 3918.5245220335164, 3910.8099446943493, 3903.0953673551826, 3895.380790016016, 3887.666212676849, 3879.9516353376825, 3872.237057998516, 3864.522480659349, 3856.8079033201825, 3849.0933259810154, 3841.3787486418487, 3833.664171302682, 3825.9495939635153, 3818.2350166243486, 3810.520439285182, 3802.8058619460153, 3795.0912846068486, 3787.376707267682, 3779.662129928515, 3771.947552589348, 3764.2329752501814, 3756.5183979110147, 3748.803820571848, 3741.0892432326814, 3733.3746658935147, 3725.6600885543476, 3717.945511215181, 3710.230933876014, 3702.5163565368475, 3694.801779197681, 3687.087201858514, 3679.3726245193475, 3671.658047180181, 3663.943469841014, 3656.2288925018474, 3648.5143151626803, 3640.7997378235136, 3633.085160484347, 3625.3705831451803, 3617.6560058060136, 3609.941428466847, 3602.22685112768, 3594.512273788513, 3586.7976964493464, 3579.0831191101797, 3571.368541771013, 3563.6539644318464, 3555.9393870926797, 3548.224809753513, 3540.5102324143463, 3532.7956550751796, 3525.081077736013, 3517.3665003968463], [4294.800092799311, 4287.085515460144, 4279.370938120977, 4271.656360781811, 4263.941783442644, 4256.227206103477, 4248.512628764311, 4240.798051425143, 4233.083474085976, 4225.36889674681, 4217.654319407643, 4209.939742068476, 4202.22516472931, 4194.510587390143, 4186.796010050976, 4179.08143271181, 4171.366855372643, 4163.652278033476, 4155.93770069431, 4148.223123355143, 4140.508546015976, 4132.7939686768095, 4125.079391337643, 4117.364813998476, 4109.6502366593095, 4101.935659320142, 4094.2210819809757, 4086.506504641809, 4078.7919273026423, 4071.077349963475, 4063.3627726243085, 4055.648195285142, 4047.933617945975, 4040.2190406068084, 4032.5044632676418, 4024.789885928475, 4017.0753085893084, 4009.3607312501417, 4001.6461539109746, 3993.931576571808, 3986.2169992326412, 3978.5024218934745, 3970.787844554308, 3963.073267215141, 3955.3586898759745, 3947.644112536808, 3939.9295351976407, 3932.214957858474, 3924.5003805193073, 3916.7858031801406, 3909.071225840974, 3901.3566485018073, 3893.6420711626406, 3885.927493823474, 3878.2129164843072, 3870.4983391451406, 3862.7837618059734, 3855.0691844668067, 3847.35460712764, 3839.6400297884734, 3831.9254524493067, 3824.21087511014, 3816.4962977709733, 3808.781720431806, 3801.0671430926395, 3793.352565753473, 3785.637988414306, 3777.9234110751395, 3770.208833735973, 3762.494256396806, 3754.7796790576394, 3747.0651017184728, 3739.3505243793056, 3731.635947040139, 3723.9213697009723, 3716.2067923618056, 3708.492215022639, 3700.777637683472, 3693.0630603443055, 3685.348483005139, 3677.6339056659717, 3669.919328326805, 3662.2047509876384, 3654.4901736484717, 3646.775596309305, 3639.0610189701383, 3631.3464416309716, 3623.631864291805, 3615.9172869526383, 3608.202709613471, 3600.4881322743045, 3592.773554935138, 3585.058977595971, 3577.3444002568044, 3569.6298229176377, 3561.915245578471, 3554.2006682393044, 3546.4860909001372, 3538.7715135609706, 3531.056936221804], [4308.490528624268, 4300.775951285102, 4293.061373945935, 4285.346796606768, 4277.632219267602, 4269.917641928435, 4262.203064589268, 4254.488487250102, 4246.773909910935, 4239.059332571768, 4231.3447552326015, 4223.630177893435, 4215.915600554268, 4208.2010232151015, 4200.486445875935, 4192.771868536767, 4185.0572911976005, 4177.342713858434, 4169.628136519267, 4161.9135591801005, 4154.198981840934, 4146.484404501767, 4138.7698271626, 4131.055249823434, 4123.340672484267, 4115.6260951451, 4107.911517805934, 4100.196940466767, 4092.4823631276, 4084.7677857884332, 4077.0532084492665, 4069.3386311101, 4061.624053770933, 4053.9094764317665, 4046.1948990926, 4038.4803217534327, 4030.765744414266, 4023.0511670750993, 4015.3365897359326, 4007.622012396766, 3999.9074350575993, 3992.1928577184326, 3984.478280379266, 3976.7637030400992, 3969.0491257009326, 3961.3345483617654, 3953.6199710225987, 3945.905393683432, 3938.1908163442654, 3930.4762390050987, 3922.761661665932, 3915.047084326765, 3907.332506987598, 3899.6179296484315, 3891.903352309265, 3884.188774970098, 3876.4741976309315, 3868.759620291765, 3861.045042952598, 3853.3304656134314, 3845.6158882742648, 3837.9013109350976, 3830.186733595931, 3822.4721562567643, 3814.7575789175976, 3807.043001578431, 3799.328424239264, 3791.6138469000975, 3783.899269560931, 3776.184692221764, 3768.470114882597, 3760.7555375434304, 3753.0409602042637, 3745.326382865097, 3737.6118055259303, 3729.8972281867636, 3722.182650847597, 3714.4680735084303, 3706.753496169263, 3699.0389188300965, 3691.32434149093, 3683.609764151763, 3675.8951868125964, 3668.1806094734297, 3660.466032134263, 3652.7514547950964, 3645.0368774559297, 3637.3223001167626, 3629.607722777596, 3621.893145438429, 3614.1785680992625, 3606.463990760096, 3598.749413420929, 3591.0348360817625, 3583.320258742596, 3575.6056814034287, 3567.891104064262, 3560.1765267250953, 3552.4619493859286, 3544.747372046762], [4322.180964449227, 4314.46638711006, 4306.7518097708935, 4299.037232431727, 4291.322655092559, 4283.6080777533925, 4275.893500414226, 4268.178923075059, 4260.4643457358925, 4252.749768396726, 4245.035191057559, 4237.320613718392, 4229.606036379226, 4221.891459040059, 4214.176881700892, 4206.462304361726, 4198.747727022559, 4191.033149683392, 4183.318572344226, 4175.603995005059, 4167.889417665892, 4160.174840326725, 4152.460262987558, 4144.745685648391, 4137.031108309225, 4129.316530970058, 4121.601953630891, 4113.887376291725, 4106.172798952558, 4098.458221613391, 4090.7436442742246, 4083.029066935058, 4075.3144895958912, 4067.5999122567246, 4059.8853349175574, 4052.1707575783907, 4044.456180239224, 4036.7416029000574, 4029.0270255608907, 4021.312448221724, 4013.5978708825573, 4005.88329354339, 3998.1687162042235, 3990.454138865057, 3982.73956152589, 3975.0249841867235, 3967.310406847557, 3959.59582950839, 3951.8812521692234, 3944.1666748300568, 3936.45209749089, 3928.737520151723, 3921.0229428125563, 3913.3083654733896, 3905.593788134223, 3897.879210795056, 3890.1646334558895, 3882.450056116723, 3874.735478777556, 3867.020901438389, 3859.3063240992224, 3851.5917467600557, 3843.877169420889, 3836.1625920817223, 3828.4480147425556, 3820.733437403389, 3813.0188600642223, 3805.3042827250556, 3797.5897053858885, 3789.875128046722, 3782.160550707555, 3774.4459733683884, 3766.7313960292217, 3759.016818690055, 3751.3022413508884, 3743.5876640117212, 3735.8730866725546, 3728.158509333388, 3720.443931994221, 3712.7293546550545, 3705.014777315888, 3697.300199976721, 3689.5856226375545, 3681.871045298388, 3674.156467959221, 3666.441890620054, 3658.7273132808873, 3651.0127359417206, 3643.298158602554, 3635.5835812633873, 3627.8690039242206, 3620.154426585054, 3612.439849245887, 3604.72527190672, 3597.0106945675534, 3589.2961172283867, 3581.58153988922, 3573.8669625500534, 3566.1523852108867, 3558.43780787172], [4335.871400274184, 4328.156822935018, 4320.442245595851, 4312.727668256684, 4305.013090917518, 4297.298513578351, 4289.583936239184, 4281.869358900018, 4274.154781560851, 4266.440204221684, 4258.725626882517, 4251.01104954335, 4243.296472204183, 4235.581894865017, 4227.86731752585, 4220.152740186683, 4212.438162847517, 4204.72358550835, 4197.009008169183, 4189.294430830017, 4181.57985349085, 4173.865276151683, 4166.150698812517, 4158.43612147335, 4150.721544134183, 4143.0069667950165, 4135.29238945585, 4127.577812116682, 4119.863234777516, 4112.148657438349, 4104.434080099182, 4096.7195027600155, 4089.004925420849, 4081.290348081682, 4073.5757707425155, 4065.861193403349, 4058.146616064182, 4050.4320387250154, 4042.7174613858488, 4035.002884046682, 4027.288306707515, 4019.5737293683483, 4011.8591520291816, 4004.144574690015, 3996.429997350848, 3988.7154200116815, 3981.000842672515, 3973.286265333348, 3965.571687994181, 3957.8571106550144, 3950.1425333158477, 3942.427955976681, 3934.7133786375143, 3926.9988012983476, 3919.284223959181, 3911.5696466200143, 3903.8550692808476, 3896.1404919416805, 3888.425914602514, 3880.711337263347, 3872.9967599241804, 3865.2821825850137, 3857.567605245847, 3849.8530279066804, 3842.1384505675137, 3834.4238732283466, 3826.70929588918, 3818.994718550013, 3811.2801412108465, 3803.56556387168, 3795.850986532513, 3788.1364091933465, 3780.42183185418, 3772.707254515013, 3764.992677175846, 3757.2780998366793, 3749.5635224975126, 3741.848945158346, 3734.1343678191793, 3726.4197904800126, 3718.705213140846, 3710.990635801679, 3703.276058462512, 3695.5614811233454, 3687.8469037841787, 3680.132326445012, 3672.4177491058454, 3664.7031717666787, 3656.988594427512, 3649.2740170883453, 3641.5594397491786, 3633.8448624100115, 3626.130285070845, 3618.415707731678, 3610.7011303925115, 3602.986553053345, 3595.271975714178, 3587.5573983750114, 3579.8428210358447, 3572.128243696678], [4349.561836099143, 4341.847258759975, 4334.132681420809, 4326.418104081642, 4318.703526742475, 4310.988949403309, 4303.274372064142, 4295.559794724975, 4287.845217385809, 4280.130640046642, 4272.416062707475, 4264.701485368309, 4256.986908029142, 4249.272330689975, 4241.5577533508085, 4233.843176011642, 4226.128598672475, 4218.4140213333085, 4210.699443994141, 4202.984866654974, 4195.2702893158075, 4187.555711976641, 4179.841134637474, 4172.1265572983075, 4164.411979959141, 4156.697402619974, 4148.982825280807, 4141.268247941641, 4133.553670602474, 4125.839093263307, 4118.124515924141, 4110.409938584974, 4102.695361245807, 4094.98078390664, 4087.2662065674735, 4079.551629228307, 4071.83705188914, 4064.1224745499735, 4056.4078972108064, 4048.6933198716397, 4040.978742532473, 4033.2641651933063, 4025.5495878541396, 4017.835010514973, 4010.1204331758063, 4002.4058558366396, 3994.691278497473, 3986.9767011583062, 3979.262123819139, 3971.5475464799724, 3963.8329691408057, 3956.118391801639, 3948.4038144624724, 3940.6892371233057, 3932.974659784139, 3925.2600824449723, 3917.545505105805, 3909.8309277666385, 3902.116350427472, 3894.401773088305, 3886.6871957491385, 3878.972618409972, 3871.258041070805, 3863.5434637316384, 3855.8288863924718, 3848.1143090533046, 3840.399731714138, 3832.6851543749713, 3824.9705770358046, 3817.255999696638, 3809.541422357471, 3801.8268450183045, 3794.1122676791374, 3786.3976903399707, 3778.683113000804, 3770.9685356616374, 3763.2539583224707, 3755.539380983304, 3747.8248036441373, 3740.1102263049706, 3732.395648965804, 3724.6810716266373, 3716.96649428747, 3709.2519169483035, 3701.537339609137, 3693.82276226997, 3686.1081849308034, 3678.3936075916367, 3670.67903025247, 3662.964452913303, 3655.2498755741362, 3647.5352982349696, 3639.820720895803, 3632.106143556636, 3624.3915662174695, 3616.676988878303, 3608.962411539136, 3601.2478341999695, 3593.533256860803, 3585.818679521636], [4363.252271924101, 4355.537694584934, 4347.823117245767, 4340.1085399066005, 4332.393962567434, 4324.679385228267, 4316.9648078891005, 4309.250230549933, 4301.535653210766, 4293.8210758715995, 4286.106498532433, 4278.391921193266, 4270.6773438540995, 4262.962766514933, 4255.248189175766, 4247.533611836599, 4239.819034497433, 4232.104457158266, 4224.389879819099, 4216.675302479933, 4208.960725140766, 4201.246147801599, 4193.531570462433, 4185.816993123266, 4178.102415784098, 4170.387838444932, 4162.673261105765, 4154.958683766598, 4147.244106427432, 4139.529529088265, 4131.814951749098, 4124.100374409932, 4116.385797070765, 4108.671219731598, 4100.956642392432, 4093.242065053265, 4085.5274877140982, 4077.812910374931, 4070.0983330357644, 4062.3837556965977, 4054.669178357431, 4046.9546010182644, 4039.2400236790977, 4031.525446339931, 4023.8108690007643, 4016.096291661597, 4008.3817143224305, 4000.667136983264, 3992.952559644097, 3985.2379823049305, 3977.523404965764, 3969.808827626597, 3962.0942502874304, 3954.3796729482638, 3946.6650956090966, 3938.95051826993, 3931.2359409307633, 3923.5213635915966, 3915.80678625243, 3908.092208913263, 3900.3776315740965, 3892.6630542349294, 3884.9484768957627, 3877.233899556596, 3869.5193222174294, 3861.8047448782627, 3854.090167539096, 3846.3755901999293, 3838.6610128607626, 3830.946435521596, 3823.2318581824293, 3815.5172808432626, 3807.8027035040955, 3800.088126164929, 3792.373548825762, 3784.6589714865954, 3776.9443941474287, 3769.229816808262, 3761.515239469095, 3753.8006621299282, 3746.0860847907616, 3738.371507451595, 3730.656930112428, 3722.9423527732615, 3715.227775434095, 3707.513198094928, 3699.7986207557615, 3692.084043416595, 3684.369466077428, 3676.654888738261, 3668.9403113990943, 3661.2257340599276, 3653.511156720761, 3645.7965793815943, 3638.0820020424276, 3630.3674247032604, 3622.6528473640938, 3614.938270024927, 3607.2236926857604, 3599.5091153465937], [4376.942707749058, 4369.2281304098915, 4361.513553070725, 4353.798975731558, 4346.084398392391, 4338.369821053225, 4330.655243714058, 4322.940666374891, 4315.226089035725, 4307.511511696558, 4299.796934357391, 4292.082357018225, 4284.367779679058, 4276.65320233989, 4268.938625000724, 4261.224047661557, 4253.50947032239, 4245.794892983224, 4238.080315644057, 4230.36573830489, 4222.651160965724, 4214.936583626557, 4207.22200628739, 4199.507428948224, 4191.792851609057, 4184.07827426989, 4176.363696930724, 4168.649119591557, 4160.93454225239, 4153.2199649132235, 4145.505387574056, 4137.790810234889, 4130.076232895723, 4122.361655556556, 4114.647078217389, 4106.9325008782225, 4099.217923539056, 4091.503346199889, 4083.7887688607225, 4076.074191521556, 4068.359614182389, 4060.6450368432224, 4052.9304595040558, 4045.2158821648886, 4037.501304825722, 4029.7867274865553, 4022.0721501473886, 4014.357572808222, 4006.642995469055, 3998.9284181298885, 3991.2138407907214, 3983.4992634515547, 3975.784686112388, 3968.0701087732214, 3960.3555314340547, 3952.640954094888, 3944.9263767557213, 3937.2117994165546, 3929.497222077388, 3921.782644738221, 3914.068067399054, 3906.3534900598875, 3898.638912720721, 3890.924335381554, 3883.2097580423874, 3875.4951807032207, 3867.780603364054, 3860.0660260248874, 3852.3514486857202, 3844.6368713465536, 3836.922294007387, 3829.20771666822, 3821.4931393290535, 3813.778561989887, 3806.06398465072, 3798.349407311553, 3790.6348299723863, 3782.9202526332197, 3775.205675294053, 3767.4910979548863, 3759.7765206157196, 3752.061943276553, 3744.3473659373863, 3736.6327885982196, 3728.918211259053, 3721.2036339198858, 3713.489056580719, 3705.7744792415524, 3698.0599019023857, 3690.345324563219, 3682.6307472240524, 3674.9161698848857, 3667.201592545719, 3659.487015206552, 3651.772437867385, 3644.0578605282185, 3636.343283189052, 3628.628705849885, 3620.9141285107185, 3613.199551171552], [4390.633143574017, 4382.91856623485, 4375.203988895682, 4367.489411556516, 4359.774834217349, 4352.060256878182, 4344.345679539016, 4336.631102199849, 4328.916524860682, 4321.201947521516, 4313.487370182349, 4305.772792843182, 4298.058215504016, 4290.343638164849, 4282.629060825682, 4274.914483486516, 4267.199906147349, 4259.485328808182, 4251.7707514690155, 4244.056174129848, 4236.341596790681, 4228.627019451515, 4220.912442112348, 4213.197864773181, 4205.4832874340145, 4197.768710094848, 4190.054132755681, 4182.3395554165145, 4174.624978077348, 4166.910400738181, 4159.195823399014, 4151.481246059848, 4143.766668720681, 4136.052091381514, 4128.337514042348, 4120.622936703181, 4112.908359364013, 4105.193782024847, 4097.47920468568, 4089.764627346514, 4082.0500500073467, 4074.33547266818, 4066.6208953290134, 4058.9063179898467, 4051.19174065068, 4043.4771633115133, 4035.7625859723466, 4028.04800863318, 4020.3334312940133, 4012.6188539548466, 4004.9042766156795, 3997.189699276513, 3989.475121937346, 3981.7605445981794, 3974.0459672590127, 3966.331389919846, 3958.6168125806794, 3950.9022352415122, 3943.1876579023456, 3935.473080563179, 3927.758503224012, 3920.0439258848455, 3912.329348545679, 3904.614771206512, 3896.9001938673455, 3889.185616528179, 3881.471039189012, 3873.7564618498454, 3866.0418845106783, 3858.3273071715116, 3850.612729832345, 3842.8981524931783, 3835.1835751540116, 3827.468997814845, 3819.7544204756778, 3812.039843136511, 3804.3252657973444, 3796.6106884581777, 3788.896111119011, 3781.1815337798444, 3773.4669564406777, 3765.752379101511, 3758.0378017623443, 3750.3232244231776, 3742.608647084011, 3734.894069744844, 3727.179492405677, 3719.4649150665105, 3711.750337727344, 3704.035760388177, 3696.3211830490104, 3688.6066057098433, 3680.8920283706766, 3673.17745103151, 3665.4628736923432, 3657.7482963531766, 3650.03371901401, 3642.319141674843, 3634.6045643356765, 3626.88998699651], [4404.323579398974, 4396.609002059808, 4388.894424720641, 4381.179847381474, 4373.465270042308, 4365.750692703141, 4358.036115363974, 4350.3215380248075, 4342.60696068564, 4334.892383346474, 4327.177806007307, 4319.46322866814, 4311.748651328973, 4304.0340739898065, 4296.31949665064, 4288.604919311473, 4280.8903419723065, 4273.17576463314, 4265.461187293973, 4257.746609954806, 4250.03203261564, 4242.317455276473, 4234.602877937306, 4226.88830059814, 4219.173723258973, 4211.459145919806, 4203.744568580639, 4196.029991241472, 4188.315413902305, 4180.600836563139, 4172.886259223972, 4165.171681884805, 4157.457104545639, 4149.742527206472, 4142.027949867305, 4134.313372528139, 4126.598795188972, 4118.884217849805, 4111.169640510639, 4103.455063171472, 4095.740485832305, 4088.025908493138, 4080.3113311539714, 4072.5967538148047, 4064.882176475638, 4057.1675991364714, 4049.4530217973047, 4041.7384444581376, 4034.023867118971, 4026.309289779804, 4018.5947124406375, 4010.880135101471, 4003.165557762304, 3995.4509804231375, 3987.736403083971, 3980.021825744804, 3972.307248405637, 3964.5926710664703, 3956.8780937273036, 3949.163516388137, 3941.4489390489703, 3933.7343617098036, 3926.019784370637, 3918.3052070314698, 3910.590629692303, 3902.8760523531364, 3895.1614750139697, 3887.446897674803, 3879.7323203356364, 3872.0177429964697, 3864.303165657303, 3856.5885883181363, 3848.8740109789696, 3841.159433639803, 3833.444856300636, 3825.730278961469, 3818.0157016223025, 3810.301124283136, 3802.586546943969, 3794.8719696048024, 3787.1573922656353, 3779.4428149264686, 3771.728237587302, 3764.0136602481352, 3756.2990829089686, 3748.584505569802, 3740.869928230635, 3733.1553508914685, 3725.440773552302, 3717.726196213135, 3710.0116188739685, 3702.2970415348013, 3694.5824641956347, 3686.867886856468, 3679.1533095173013, 3671.4387321781346, 3663.724154838968, 3656.009577499801, 3648.295000160634, 3640.5804228214674], [4418.014015223932, 4410.299437884765, 4402.5848605455985, 4394.870283206432, 4387.155705867265, 4379.4411285280985, 4371.726551188932, 4364.011973849765, 4356.297396510598, 4348.582819171432, 4340.868241832265, 4333.153664493098, 4325.439087153932, 4317.724509814765, 4310.009932475598, 4302.295355136432, 4294.580777797264, 4286.866200458097, 4279.151623118931, 4271.437045779764, 4263.722468440597, 4256.007891101431, 4248.293313762264, 4240.578736423097, 4232.864159083931, 4225.149581744764, 4217.435004405597, 4209.720427066431, 4202.005849727264, 4194.291272388097, 4186.576695048931, 4178.862117709764, 4171.147540370597, 4163.43296303143, 4155.718385692263, 4148.003808353096, 4140.28923101393, 4132.574653674763, 4124.860076335596, 4117.1454989964295, 4109.430921657263, 4101.716344318096, 4094.0017669789295, 4086.287189639763, 4078.572612300596, 4070.8580349614294, 4063.1434576222623, 4055.4288802830956, 4047.714302943929, 4039.9997256047623, 4032.2851482655956, 4024.570570926429, 4016.855993587262, 4009.1414162480955, 4001.4268389089284, 3993.7122615697617, 3985.997684230595, 3978.2831068914284, 3970.5685295522617, 3962.853952213095, 3955.1393748739283, 3947.4247975347616, 3939.710220195595, 3931.995642856428, 3924.281065517261, 3916.5664881780945, 3908.851910838928, 3901.137333499761, 3893.4227561605944, 3885.7081788214277, 3877.9936014822606, 3870.279024143094, 3862.5644468039272, 3854.8498694647606, 3847.135292125594, 3839.420714786427, 3831.7061374472605, 3823.991560108094, 3816.276982768927, 3808.5624054297605, 3800.8478280905933, 3793.1332507514267, 3785.41867341226, 3777.7040960730933, 3769.9895187339266, 3762.27494139476, 3754.5603640555933, 3746.845786716426, 3739.1312093772594, 3731.4166320380928, 3723.702054698926, 3715.9874773597594, 3708.2729000205927, 3700.558322681426, 3692.8437453422594, 3685.1291680030927, 3677.414590663926, 3669.700013324759, 3661.985435985592, 3654.2708586464255], [4431.70445104889, 4423.989873709724, 4416.275296370557, 4408.56071903139, 4400.846141692224, 4393.131564353056, 4385.416987013889, 4377.702409674723, 4369.987832335556, 4362.273254996389, 4354.558677657223, 4346.844100318056, 4339.129522978889, 4331.414945639723, 4323.700368300556, 4315.985790961389, 4308.271213622223, 4300.556636283056, 4292.842058943889, 4285.127481604723, 4277.412904265556, 4269.698326926389, 4261.983749587222, 4254.269172248056, 4246.554594908888, 4238.840017569722, 4231.125440230555, 4223.410862891388, 4215.6962855522215, 4207.981708213055, 4200.267130873888, 4192.5525535347215, 4184.837976195555, 4177.123398856388, 4169.408821517221, 4161.694244178055, 4153.979666838888, 4146.265089499721, 4138.550512160555, 4130.835934821387, 4123.12135748222, 4115.406780143054, 4107.692202803887, 4099.97762546472, 4092.2630481255537, 4084.548470786387, 4076.8338934472204, 4069.1193161080537, 4061.404738768887, 4053.6901614297203, 4045.9755840905536, 4038.261006751387, 4030.5464294122203, 4022.8318520730536, 4015.1172747338865, 4007.40269739472, 3999.688120055553, 3991.9735427163864, 3984.2589653772197, 3976.544388038053, 3968.8298106988864, 3961.1152333597192, 3953.4006560205526, 3945.686078681386, 3937.971501342219, 3930.2569240030525, 3922.542346663886, 3914.827769324719, 3907.1131919855525, 3899.398614646386, 3891.6840373072187, 3883.969459968052, 3876.2548826288853, 3868.5403052897186, 3860.825727950552, 3853.1111506113853, 3845.3965732722186, 3837.681995933052, 3829.9674185938848, 3822.252841254718, 3814.5382639155514, 3806.8236865763847, 3799.109109237218, 3791.3945318980514, 3783.6799545588847, 3775.965377219718, 3768.2507998805513, 3760.536222541384, 3752.8216452022175, 3745.107067863051, 3737.392490523884, 3729.6779131847175, 3721.963335845551, 3714.248758506384, 3706.5341811672174, 3698.8196038280503, 3691.1050264888836, 3683.390449149717, 3675.6758718105502, 3667.9612944713836], [4445.394886873848, 4437.680309534681, 4429.965732195515, 4422.251154856348, 4414.536577517181, 4406.822000178015, 4399.107422838848, 4391.392845499681, 4383.678268160515, 4375.963690821348, 4368.249113482181, 4360.5345361430145, 4352.819958803848, 4345.10538146468, 4337.390804125514, 4329.676226786347, 4321.96164944718, 4314.2470721080135, 4306.532494768847, 4298.81791742968, 4291.1033400905135, 4283.388762751347, 4275.67418541218, 4267.959608073013, 4260.245030733847, 4252.53045339468, 4244.815876055513, 4237.101298716347, 4229.38672137718, 4221.672144038013, 4213.957566698846, 4206.242989359679, 4198.528412020512, 4190.813834681346, 4183.099257342179, 4175.384680003012, 4167.670102663846, 4159.955525324679, 4152.240947985512, 4144.526370646346, 4136.811793307179, 4129.097215968012, 4121.382638628846, 4113.668061289679, 4105.953483950512, 4098.238906611346, 4090.5243292721784, 4082.8097519330117, 4075.095174593845, 4067.3805972546784, 4059.6660199155112, 4051.9514425763446, 4044.236865237178, 4036.522287898011, 4028.8077105588445, 4021.093133219678, 4013.378555880511, 4005.6639785413445, 3997.949401202178, 3990.2348238630107, 3982.520246523844, 3974.8056691846773, 3967.0910918455106, 3959.376514506344, 3951.6619371671773, 3943.9473598280106, 3936.232782488844, 3928.518205149677, 3920.80362781051, 3913.0890504713434, 3905.3744731321767, 3897.65989579301, 3889.9453184538434, 3882.2307411146767, 3874.51616377551, 3866.801586436343, 3859.087009097176, 3851.3724317580095, 3843.657854418843, 3835.943277079676, 3828.2286997405095, 3820.514122401343, 3812.799545062176, 3805.0849677230094, 3797.3703903838427, 3789.6558130446756, 3781.941235705509, 3774.2266583663422, 3766.5120810271756, 3758.797503688009, 3751.082926348842, 3743.3683490096755, 3735.653771670509, 3727.9391943313417, 3720.224616992175, 3712.5100396530083, 3704.7954623138417, 3697.080884974675, 3689.3663076355083, 3681.6517302963416], [4459.0853226988065, 4451.37074535964, 4443.656168020472, 4435.941590681306, 4428.227013342139, 4420.512436002972, 4412.7978586638055, 4405.083281324639, 4397.368703985472, 4389.6541266463055, 4381.939549307139, 4374.224971967972, 4366.510394628805, 4358.795817289639, 4351.081239950472, 4343.366662611305, 4335.652085272139, 4327.937507932972, 4320.222930593805, 4312.508353254638, 4304.793775915471, 4297.079198576304, 4289.364621237138, 4281.650043897971, 4273.935466558804, 4266.220889219638, 4258.506311880471, 4250.791734541304, 4243.077157202138, 4235.362579862971, 4227.648002523804, 4219.933425184638, 4212.218847845471, 4204.504270506304, 4196.789693167138, 4189.075115827971, 4181.360538488803, 4173.645961149637, 4165.93138381047, 4158.216806471303, 4150.502229132137, 4142.78765179297, 4135.073074453803, 4127.3584971146365, 4119.64391977547, 4111.929342436303, 4104.2147650971365, 4096.50018775797, 4088.785610418803, 4081.0710330796364, 4073.3564557404693, 4065.6418784013026, 4057.927301062136, 4050.2127237229693, 4042.4981463838026, 4034.783569044636, 4027.068991705469, 4019.354414366302, 4011.6398370271354, 4003.9252596879687, 3996.210682348802, 3988.4961050096354, 3980.7815276704687, 3973.066950331302, 3965.3523729921353, 3957.6377956529686, 3949.923218313802, 3942.2086409746353, 3934.494063635468, 3926.7794862963015, 3919.064908957135, 3911.350331617968, 3903.6357542788014, 3895.9211769396347, 3888.2065996004676, 3880.492022261301, 3872.7774449221342, 3865.0628675829676, 3857.348290243801, 3849.633712904634, 3841.9191355654675, 3834.204558226301, 3826.489980887134, 3818.7754035479675, 3811.060826208801, 3803.3462488696337, 3795.631671530467, 3787.9170941913003, 3780.2025168521336, 3772.487939512967, 3764.7733621738003, 3757.058784834633, 3749.3442074954664, 3741.6296301562998, 3733.915052817133, 3726.2004754779664, 3718.4858981387997, 3710.771320799633, 3703.0567434604664, 3695.3421661212997], [4472.775758523764, 4465.061181184597, 4457.346603845431, 4449.632026506264, 4441.917449167097, 4434.202871827931, 4426.488294488764, 4418.773717149597, 4411.05913981043, 4403.344562471263, 4395.629985132096, 4387.91540779293, 4380.200830453763, 4372.486253114596, 4364.77167577543, 4357.057098436263, 4349.342521097096, 4341.62794375793, 4333.913366418763, 4326.198789079596, 4318.48421174043, 4310.769634401263, 4303.055057062096, 4295.34047972293, 4287.625902383763, 4279.911325044595, 4272.196747705429, 4264.482170366262, 4256.767593027095, 4249.053015687929, 4241.338438348762, 4233.623861009595, 4225.9092836704285, 4218.194706331262, 4210.480128992095, 4202.7655516529285, 4195.050974313762, 4187.336396974595, 4179.621819635428, 4171.907242296262, 4164.192664957095, 4156.478087617928, 4148.763510278761, 4141.048932939594, 4133.334355600427, 4125.619778261261, 4117.905200922094, 4110.190623582927, 4102.476046243761, 4094.761468904594, 4087.0468915654274, 4079.3323142262607, 4071.617736887094, 4063.9031595479273, 4056.1885822087606, 4048.474004869594, 4040.759427530427, 4033.04485019126, 4025.3302728520935, 4017.615695512927, 4009.90111817376, 4002.1865408345934, 3994.4719634954267, 3986.7573861562596, 3979.042808817093, 3971.3282314779262, 3963.6136541387596, 3955.899076799593, 3948.184499460426, 3940.4699221212595, 3932.755344782093, 3925.040767442926, 3917.326190103759, 3909.6116127645923, 3901.8970354254257, 3894.182458086259, 3886.4678807470923, 3878.7533034079256, 3871.038726068759, 3863.3241487295923, 3855.609571390425, 3847.8949940512584, 3840.1804167120918, 3832.465839372925, 3824.7512620337584, 3817.0366846945917, 3809.322107355425, 3801.6075300162584, 3793.8929526770917, 3786.1783753379245, 3778.463797998758, 3770.749220659591, 3763.0346433204245, 3755.320065981258, 3747.605488642091, 3739.8909113029245, 3732.1763339637578, 3724.4617566245906, 3716.747179285424, 3709.0326019462573], [4486.466194348722, 4478.751617009555, 4471.037039670388, 4463.322462331222, 4455.607884992055, 4447.893307652888, 4440.178730313722, 4432.464152974555, 4424.749575635388, 4417.034998296222, 4409.320420957055, 4401.605843617888, 4393.891266278722, 4386.176688939555, 4378.462111600387, 4370.747534261221, 4363.032956922054, 4355.318379582887, 4347.603802243721, 4339.889224904554, 4332.174647565387, 4324.4600702262205, 4316.745492887054, 4309.030915547887, 4301.3163382087205, 4293.601760869554, 4285.887183530387, 4278.17260619122, 4270.458028852054, 4262.743451512887, 4255.02887417372, 4247.314296834553, 4239.599719495386, 4231.885142156219, 4224.170564817053, 4216.455987477886, 4208.741410138719, 4201.026832799553, 4193.312255460386, 4185.597678121219, 4177.883100782053, 4170.168523442886, 4162.453946103719, 4154.739368764553, 4147.024791425386, 4139.310214086219, 4131.595636747053, 4123.881059407886, 4116.166482068718, 4108.451904729552, 4100.737327390385, 4093.0227500512183, 4085.3081727120516, 4077.593595372885, 4069.8790180337182, 4062.1644406945516, 4054.449863355385, 4046.735286016218, 4039.0207086770515, 4031.306131337885, 4023.591553998718, 4015.876976659551, 4008.1623993203843, 4000.4478219812177, 3992.733244642051, 3985.0186673028843, 3977.3040899637176, 3969.589512624551, 3961.8749352853843, 3954.1603579462176, 3946.4457806070504, 3938.7312032678838, 3931.016625928717, 3923.3020485895504, 3915.5874712503837, 3907.872893911217, 3900.1583165720504, 3892.4437392328837, 3884.7291618937165, 3877.01458455455, 3869.300007215383, 3861.5854298762165, 3853.87085253705, 3846.156275197883, 3838.4416978587165, 3830.7271205195498, 3823.012543180383, 3815.297965841216, 3807.5833885020493, 3799.8688111628826, 3792.154233823716, 3784.4396564845492, 3776.7250791453826, 3769.010501806216, 3761.295924467049, 3753.581347127882, 3745.8667697887154, 3738.1521924495487, 3730.437615110382, 3722.7230377712153], [4500.15663017368, 4492.442052834514, 4484.727475495347, 4477.01289815618, 4469.2983208170135, 4461.583743477846, 4453.869166138679, 4446.154588799513, 4438.440011460346, 4430.725434121179, 4423.0108567820125, 4415.296279442846, 4407.581702103679, 4399.8671247645125, 4392.152547425346, 4384.437970086179, 4376.723392747012, 4369.008815407846, 4361.294238068679, 4353.579660729512, 4345.865083390346, 4338.150506051179, 4330.435928712011, 4322.721351372845, 4315.006774033678, 4307.292196694511, 4299.577619355345, 4291.863042016178, 4284.148464677011, 4276.433887337845, 4268.719309998678, 4261.004732659511, 4253.290155320345, 4245.575577981178, 4237.861000642011, 4230.146423302845, 4222.431845963678, 4214.717268624511, 4207.002691285345, 4199.288113946177, 4191.57353660701, 4183.858959267844, 4176.144381928677, 4168.42980458951, 4160.715227250344, 4153.000649911177, 4145.28607257201, 4137.5714952328435, 4129.856917893677, 4122.14234055451, 4114.4277632153435, 4106.713185876177, 4098.99860853701, 4091.284031197843, 4083.5694538586763, 4075.8548765195096, 4068.140299180343, 4060.4257218411763, 4052.7111445020096, 4044.9965671628424, 4037.2819898236758, 4029.567412484509, 4021.8528351453424, 4014.1382578061757, 4006.423680467009, 3998.7091031278424, 3990.9945257886757, 3983.279948449509, 3975.5653711103423, 3967.8507937711756, 3960.1362164320085, 3952.421639092842, 3944.707061753675, 3936.9924844145085, 3929.277907075342, 3921.5633297361746, 3913.848752397008, 3906.1341750578413, 3898.4195977186746, 3890.705020379508, 3882.9904430403412, 3875.2758657011746, 3867.561288362008, 3859.846711022841, 3852.1321336836745, 3844.417556344508, 3836.702979005341, 3828.988401666174, 3821.2738243270073, 3813.5592469878407, 3805.844669648674, 3798.1300923095073, 3790.4155149703406, 3782.7009376311735, 3774.986360292007, 3767.27178295284, 3759.5572056136734, 3751.8426282745068, 3744.12805093534, 3736.4134735961734], [4513.847065998638, 4506.132488659471, 4498.4179113203045, 4490.703333981138, 4482.988756641971, 4475.274179302804, 4467.559601963638, 4459.845024624471, 4452.130447285304, 4444.415869946138, 4436.701292606971, 4428.986715267803, 4421.272137928637, 4413.55756058947, 4405.842983250303, 4398.128405911137, 4390.41382857197, 4382.699251232803, 4374.984673893637, 4367.27009655447, 4359.555519215303, 4351.840941876137, 4344.12636453697, 4336.411787197803, 4328.697209858637, 4320.98263251947, 4313.268055180303, 4305.553477841137, 4297.838900501969, 4290.124323162802, 4282.409745823636, 4274.695168484469, 4266.980591145302, 4259.266013806136, 4251.551436466969, 4243.836859127802, 4236.1222817886355, 4228.407704449469, 4220.693127110302, 4212.9785497711355, 4205.263972431969, 4197.549395092802, 4189.834817753635, 4182.120240414469, 4174.405663075302, 4166.6910857361345, 4158.976508396968, 4151.261931057801, 4143.547353718634, 4135.832776379468, 4128.118199040301, 4120.403621701134, 4112.689044361968, 4104.974467022801, 4097.259889683634, 4089.5453123444677, 4081.830735005301, 4074.1161576661343, 4066.4015803269676, 4058.6870029878005, 4050.972425648634, 4043.257848309467, 4035.5432709703005, 4027.828693631134, 4020.114116291967, 4012.3995389528004, 4004.6849616136333, 3996.9703842744666, 3989.2558069353, 3981.5412295961332, 3973.8266522569666, 3966.1120749178, 3958.397497578633, 3950.6829202394665, 3942.9683429003, 3935.2537655611327, 3927.539188221966, 3919.8246108827993, 3912.1100335436327, 3904.395456204466, 3896.6808788652993, 3888.9663015261326, 3881.2517241869655, 3873.537146847799, 3865.822569508632, 3858.1079921694654, 3850.3934148302988, 3842.678837491132, 3834.9642601519654, 3827.2496828127987, 3819.535105473632, 3811.8205281344653, 3804.1059507952987, 3796.3913734561315, 3788.676796116965, 3780.962218777798, 3773.2476414386315, 3765.533064099465, 3757.818486760298, 3750.1039094211314], [4527.537501823595, 4519.82292448443, 4512.108347145262, 4504.393769806095, 4496.679192466929, 4488.964615127762, 4481.250037788595, 4473.535460449429, 4465.820883110262, 4458.106305771095, 4450.391728431929, 4442.677151092762, 4434.962573753595, 4427.247996414429, 4419.533419075262, 4411.818841736095, 4404.104264396929, 4396.389687057761, 4388.675109718594, 4380.960532379428, 4373.245955040261, 4365.531377701094, 4357.816800361928, 4350.102223022761, 4342.387645683594, 4334.6730683444275, 4326.958491005261, 4319.243913666094, 4311.5293363269275, 4303.814758987761, 4296.100181648594, 4288.385604309427, 4280.671026970261, 4272.956449631094, 4265.2418722919265, 4257.52729495276, 4249.812717613593, 4242.098140274426, 4234.38356293526, 4226.668985596093, 4218.954408256926, 4211.23983091776, 4203.525253578593, 4195.810676239426, 4188.09609890026, 4180.381521561093, 4172.666944221926, 4164.95236688276, 4157.237789543593, 4149.523212204426, 4141.80863486526, 4134.094057526092, 4126.379480186925, 4118.664902847759, 4110.950325508592, 4103.235748169425, 4095.5211708302586, 4087.806593491092, 4080.0920161519252, 4072.3774388127586, 4064.662861473592, 4056.948284134425, 4049.2337067952585, 4041.519129456092, 4033.804552116925, 4026.089974777758, 4018.3753974385913, 4010.6608200994247, 4002.946242760258, 3995.2316654210913, 3987.5170880819246, 3979.802510742758, 3972.087933403591, 3964.373356064424, 3956.6587787252574, 3948.9442013860908, 3941.229624046924, 3933.5150467077574, 3925.8004693685907, 3918.085892029424, 3910.3713146902573, 3902.6567373510907, 3894.9421600119235, 3887.227582672757, 3879.51300533359, 3871.7984279944235, 3864.083850655257, 3856.36927331609, 3848.6546959769234, 3840.9401186377563, 3833.2255412985896, 3825.510963959423, 3817.7963866202563, 3810.0818092810896, 3802.367231941923, 3794.6526546027562, 3786.9380772635895, 3779.223499924423, 3771.508922585256, 3763.7943452460895], [4541.227937648554, 4533.513360309387, 4525.798782970221, 4518.084205631054, 4510.369628291887, 4502.655050952721, 4494.940473613553, 4487.225896274386, 4479.51131893522, 4471.796741596053, 4464.082164256886, 4456.36758691772, 4448.653009578553, 4440.938432239386, 4433.2238549002195, 4425.509277561053, 4417.794700221886, 4410.0801228827195, 4402.365545543553, 4394.650968204386, 4386.936390865219, 4379.221813526053, 4371.507236186886, 4363.7926588477185, 4356.078081508553, 4348.363504169385, 4340.648926830218, 4332.934349491052, 4325.219772151885, 4317.505194812718, 4309.790617473552, 4302.076040134385, 4294.361462795218, 4286.646885456052, 4278.932308116885, 4271.217730777718, 4263.503153438552, 4255.788576099385, 4248.073998760218, 4240.359421421052, 4232.644844081884, 4224.930266742717, 4217.215689403551, 4209.501112064384, 4201.786534725217, 4194.071957386051, 4186.357380046884, 4178.642802707717, 4170.928225368551, 4163.213648029384, 4155.499070690217, 4147.7844933510505, 4140.069916011884, 4132.355338672717, 4124.6407613335505, 4116.926183994384, 4109.211606655217, 4101.4970293160495, 4093.7824519768833, 4086.0678746377166, 4078.35329729855, 4070.638719959383, 4062.924142620216, 4055.2095652810494, 4047.4949879418828, 4039.780410602716, 4032.0658332635494, 4024.3512559243827, 4016.636678585216, 4008.9221012460494, 4001.2075239068827, 3993.492946567716, 3985.778369228549, 3978.063791889382, 3970.3492145502155, 3962.634637211049, 3954.920059871882, 3947.2054825327155, 3939.4909051935483, 3931.7763278543816, 3924.061750515215, 3916.3471731760483, 3908.6325958368816, 3900.918018497715, 3893.2034411585482, 3885.4888638193815, 3877.774286480215, 3870.059709141048, 3862.3451318018815, 3854.6305544627144, 3846.9159771235477, 3839.201399784381, 3831.4868224452143, 3823.7722451060476, 3816.057667766881, 3808.343090427714, 3800.628513088547, 3792.9139357493805, 3785.199358410214, 3777.484781071047], [4554.918373473512, 4547.203796134345, 4539.489218795178, 4531.7746414560115, 4524.060064116845, 4516.345486777678, 4508.6309094385115, 4500.916332099345, 4493.201754760178, 4485.487177421011, 4477.772600081845, 4470.058022742678, 4462.343445403511, 4454.628868064345, 4446.914290725177, 4439.19971338601, 4431.485136046844, 4423.770558707677, 4416.05598136851, 4408.341404029344, 4400.626826690177, 4392.91224935101, 4385.197672011844, 4377.483094672677, 4369.76851733351, 4362.053939994344, 4354.339362655177, 4346.62478531601, 4338.910207976844, 4331.195630637677, 4323.48105329851, 4315.766475959343, 4308.051898620176, 4300.337321281009, 4292.622743941843, 4284.908166602676, 4277.193589263509, 4269.479011924343, 4261.764434585176, 4254.049857246009, 4246.3352799068425, 4238.620702567676, 4230.906125228509, 4223.1915478893425, 4215.476970550176, 4207.762393211009, 4200.047815871842, 4192.333238532676, 4184.618661193508, 4176.9040838543415, 4169.189506515175, 4161.474929176008, 4153.760351836841, 4146.045774497675, 4138.331197158508, 4130.616619819341, 4122.902042480175, 4115.187465141008, 4107.472887801841, 4099.758310462675, 4092.043733123508, 4084.329155784341, 4076.614578445174, 4068.9000011060075, 4061.185423766841, 4053.470846427674, 4045.7562690885075, 4038.0416917493408, 4030.3271144101736, 4022.612537071007, 4014.8979597318403, 4007.1833823926736, 3999.468805053507, 3991.7542277143402, 3984.0396503751736, 3976.325073036007, 3968.61049569684, 3960.8959183576735, 3953.1813410185064, 3945.4667636793397, 3937.752186340173, 3930.0376090010063, 3922.3230316618397, 3914.608454322673, 3906.8938769835063, 3899.179299644339, 3891.4647223051725, 3883.750144966006, 3876.035567626839, 3868.3209902876724, 3860.6064129485057, 3852.891835609339, 3845.1772582701724, 3837.4626809310057, 3829.748103591839, 3822.033526252672, 3814.318948913505, 3806.6043715743385, 3798.889794235172, 3791.175216896005], [4568.60880929847, 4560.894231959303, 4553.179654620137, 4545.465077280969, 4537.750499941802, 4530.035922602636, 4522.321345263469, 4514.606767924302, 4506.892190585136, 4499.177613245969, 4491.463035906802, 4483.748458567636, 4476.033881228469, 4468.319303889302, 4460.604726550136, 4452.890149210969, 4445.175571871802, 4437.460994532636, 4429.746417193469, 4422.031839854302, 4414.317262515135, 4406.602685175968, 4398.888107836801, 4391.173530497635, 4383.458953158468, 4375.744375819301, 4368.029798480135, 4360.315221140968, 4352.600643801801, 4344.8860664626345, 4337.171489123468, 4329.456911784301, 4321.7423344451345, 4314.027757105968, 4306.313179766801, 4298.598602427634, 4290.884025088468, 4283.1694477493, 4275.4548704101335, 4267.740293070967, 4260.0257157318, 4252.311138392633, 4244.596561053467, 4236.8819837143, 4229.167406375133, 4221.452829035967, 4213.7382516968, 4206.023674357633, 4198.309097018467, 4190.5945196793, 4182.879942340133, 4175.165365000967, 4167.4507876618, 4159.736210322633, 4152.021632983466, 4144.307055644299, 4136.592478305132, 4128.877900965966, 4121.163323626799, 4113.448746287632, 4105.734168948466, 4098.019591609299, 4090.3050142701322, 4082.5904369309656, 4074.875859591799, 4067.161282252632, 4059.4467049134655, 4051.732127574299, 4044.0175502351317, 4036.302972895965, 4028.5883955567983, 4020.8738182176317, 4013.159240878465, 4005.4446635392983, 3997.730086200131, 3990.0155088609645, 3982.300931521798, 3974.586354182631, 3966.8717768434644, 3959.1571995042978, 3951.442622165131, 3943.7280448259644, 3936.0134674867977, 3928.298890147631, 3920.5843128084643, 3912.869735469297, 3905.1551581301305, 3897.440580790964, 3889.726003451797, 3882.0114261126305, 3874.296848773464, 3866.5822714342967, 3858.86769409513, 3851.1531167559633, 3843.4385394167966, 3835.72396207763, 3828.0093847384633, 3820.2948073992966, 3812.58023006013, 3804.865652720963], [4582.299245123428, 4574.584667784261, 4566.870090445094, 4559.155513105928, 4551.440935766761, 4543.726358427594, 4536.011781088428, 4528.297203749261, 4520.582626410094, 4512.868049070927, 4505.15347173176, 4497.438894392593, 4489.724317053427, 4482.00973971426, 4474.295162375093, 4466.580585035927, 4458.86600769676, 4451.151430357593, 4443.4368530184265, 4435.72227567926, 4428.007698340093, 4420.2931210009265, 4412.57854366176, 4404.863966322593, 4397.149388983426, 4389.43481164426, 4381.720234305092, 4374.0056569659255, 4366.291079626759, 4358.576502287592, 4350.861924948425, 4343.147347609259, 4335.432770270092, 4327.718192930925, 4320.003615591759, 4312.289038252592, 4304.574460913425, 4296.859883574259, 4289.145306235092, 4281.430728895925, 4273.716151556759, 4266.001574217592, 4258.286996878425, 4250.572419539258, 4242.857842200091, 4235.143264860924, 4227.428687521758, 4219.714110182591, 4211.999532843424, 4204.284955504258, 4196.570378165091, 4188.855800825924, 4181.141223486758, 4173.426646147591, 4165.712068808424, 4157.9974914692575, 4150.282914130091, 4142.568336790924, 4134.8537594517575, 4127.139182112591, 4119.424604773423, 4111.7100274342565, 4103.99545009509, 4096.280872755923, 4088.5662954167565, 4080.85171807759, 4073.137140738423, 4065.4225633992564, 4057.7079860600898, 4049.993408720923, 4042.2788313817564, 4034.5642540425897, 4026.849676703423, 4019.1350993642563, 4011.420522025089, 4003.7059446859225, 3995.991367346756, 3988.276790007589, 3980.5622126684225, 3972.847635329256, 3965.1330579900887, 3957.418480650922, 3949.7039033117553, 3941.9893259725886, 3934.274748633422, 3926.5601712942553, 3918.8455939550886, 3911.131016615922, 3903.416439276755, 3895.7018619375885, 3887.987284598422, 3880.2727072592547, 3872.558129920088, 3864.8435525809214, 3857.1289752417547, 3849.414397902588, 3841.6998205634213, 3833.985243224254, 3826.2706658850875, 3818.556088545921], [4595.989680948385, 4588.2751036092195, 4580.560526270052, 4572.845948930885, 4565.131371591719, 4557.416794252552, 4549.702216913385, 4541.9876395742185, 4534.273062235052, 4526.558484895885, 4518.8439075567185, 4511.129330217552, 4503.414752878385, 4495.700175539218, 4487.985598200052, 4480.271020860885, 4472.556443521718, 4464.841866182551, 4457.127288843384, 4449.412711504217, 4441.698134165051, 4433.983556825884, 4426.268979486717, 4418.554402147551, 4410.839824808384, 4403.125247469217, 4395.410670130051, 4387.696092790884, 4379.981515451717, 4372.266938112551, 4364.552360773384, 4356.837783434217, 4349.123206095051, 4341.408628755884, 4333.694051416716, 4325.97947407755, 4318.264896738383, 4310.550319399216, 4302.83574206005, 4295.121164720883, 4287.406587381716, 4279.69201004255, 4271.977432703383, 4264.262855364216, 4256.5482780250495, 4248.833700685883, 4241.119123346716, 4233.4045460075495, 4225.689968668383, 4217.975391329216, 4210.260813990049, 4202.546236650882, 4194.831659311715, 4187.1170819725485, 4179.402504633382, 4171.687927294215, 4163.973349955048, 4156.258772615882, 4148.544195276715, 4140.829617937548, 4133.115040598382, 4125.400463259215, 4117.685885920048, 4109.971308580882, 4102.256731241715, 4094.542153902548, 4086.827576563381, 4079.1129992242145, 4071.398421885048, 4063.683844545881, 4055.9692672067144, 4048.2546898675478, 4040.5401125283806, 4032.825535189214, 4025.1109578500473, 4017.3963805108806, 4009.681803171714, 4001.9672258325472, 3994.2526484933805, 3986.538071154214, 3978.823493815047, 3971.1089164758805, 3963.3943391367134, 3955.6797617975467, 3947.96518445838, 3940.2506071192133, 3932.5360297800466, 3924.82145244088, 3917.1068751017133, 3909.392297762546, 3901.6777204233795, 3893.963143084213, 3886.248565745046, 3878.5339884058794, 3870.8194110667127, 3863.104833727546, 3855.3902563883794, 3847.6756790492127, 3839.961101710046, 3832.2465243708793], [4609.680116773344, 4601.965539434177, 4594.25096209501, 4586.536384755844, 4578.821807416677, 4571.10723007751, 4563.392652738343, 4555.678075399177, 4547.963498060009, 4540.248920720843, 4532.534343381676, 4524.819766042509, 4517.105188703343, 4509.390611364176, 4501.676034025009, 4493.961456685843, 4486.246879346676, 4478.532302007509, 4470.817724668343, 4463.103147329176, 4455.388569990009, 4447.673992650843, 4439.959415311676, 4432.244837972508, 4424.530260633343, 4416.815683294175, 4409.101105955008, 4401.386528615842, 4393.671951276675, 4385.957373937508, 4378.242796598342, 4370.528219259175, 4362.813641920008, 4355.0990645808415, 4347.384487241675, 4339.669909902508, 4331.9553325633415, 4324.240755224175, 4316.526177885008, 4308.811600545841, 4301.097023206674, 4293.382445867507, 4285.6678685283405, 4277.953291189174, 4270.238713850007, 4262.52413651084, 4254.809559171674, 4247.094981832507, 4239.38040449334, 4231.665827154174, 4223.951249815007, 4216.23667247584, 4208.522095136674, 4200.807517797507, 4193.09294045834, 4185.378363119174, 4177.663785780007, 4169.949208440839, 4162.234631101674, 4154.520053762506, 4146.805476423339, 4139.090899084173, 4131.376321745006, 4123.661744405839, 4115.947167066673, 4108.232589727506, 4100.518012388339, 4092.8034350491725, 4085.088857710006, 4077.374280370839, 4069.6597030316725, 4061.945125692506, 4054.2305483533387, 4046.515971014172, 4038.8013936750053, 4031.0868163358386, 4023.372238996672, 4015.6576616575053, 4007.943084318338, 4000.2285069791715, 3992.513929640005, 3984.799352300838, 3977.0847749616714, 3969.3701976225047, 3961.655620283338, 3953.9410429441714, 3946.2264656050047, 3938.511888265838, 3930.7973109266713, 3923.082733587504, 3915.3681562483375, 3907.653578909171, 3899.939001570004, 3892.2244242308375, 3884.509846891671, 3876.7952695525037, 3869.080692213337, 3861.3661148741703, 3853.6515375350036, 3845.936960195837], [4623.370552598301, 4615.655975259135, 4607.941397919968, 4600.226820580801, 4592.512243241635, 4584.797665902468, 4577.083088563301, 4569.368511224135, 4561.653933884968, 4553.939356545801, 4546.224779206635, 4538.510201867468, 4530.7956245283, 4523.081047189135, 4515.366469849967, 4507.6518925108, 4499.937315171634, 4492.222737832467, 4484.5081604933, 4476.793583154134, 4469.079005814967, 4461.3644284758, 4453.6498511366335, 4445.935273797467, 4438.2206964583, 4430.5061191191335, 4422.791541779967, 4415.0769644408, 4407.362387101633, 4399.647809762467, 4391.9332324233, 4384.2186550841325, 4376.504077744966, 4368.789500405799, 4361.074923066632, 4353.360345727466, 4345.645768388299, 4337.931191049132, 4330.216613709966, 4322.502036370799, 4314.787459031632, 4307.072881692466, 4299.358304353299, 4291.643727014132, 4283.929149674966, 4276.214572335799, 4268.499994996632, 4260.785417657466, 4253.070840318298, 4245.356262979131, 4237.641685639965, 4229.927108300798, 4222.212530961631, 4214.497953622465, 4206.783376283298, 4199.068798944131, 4191.354221604965, 4183.639644265798, 4175.925066926631, 4168.2104895874645, 4160.495912248298, 4152.781334909131, 4145.0667575699645, 4137.352180230797, 4129.637602891631, 4121.9230255524635, 4114.208448213297, 4106.49387087413, 4098.7792935349635, 4091.064716195797, 4083.35013885663, 4075.6355615174634, 4067.9209841782967, 4060.20640683913, 4052.4918294999634, 4044.7772521607967, 4037.06267482163, 4029.3480974824633, 4021.633520143296, 4013.9189428041295, 4006.204365464963, 3998.489788125796, 3990.7752107866295, 3983.060633447463, 3975.346056108296, 3967.631478769129, 3959.9169014299623, 3952.2023240907956, 3944.487746751629, 3936.7731694124623, 3929.0585920732956, 3921.344014734129, 3913.629437394962, 3905.9148600557955, 3898.200282716629, 3890.4857053774617, 3882.771128038295, 3875.0565506991284, 3867.3419733599617, 3859.627396020795], [4637.06098842326, 4629.346411084093, 4621.631833744927, 4613.917256405759, 4606.202679066592, 4598.488101727426, 4590.773524388259, 4583.058947049092, 4575.344369709926, 4567.629792370759, 4559.915215031592, 4552.2006376924255, 4544.486060353259, 4536.771483014092, 4529.0569056749255, 4521.342328335759, 4513.627750996592, 4505.913173657425, 4498.198596318258, 4490.484018979092, 4482.7694416399245, 4475.054864300758, 4467.340286961591, 4459.625709622424, 4451.911132283258, 4444.196554944091, 4436.481977604924, 4428.767400265758, 4421.052822926591, 4413.338245587424, 4405.623668248258, 4397.909090909091, 4390.194513569924, 4382.479936230758, 4374.765358891591, 4367.050781552424, 4359.336204213258, 4351.62162687409, 4343.907049534923, 4336.192472195757, 4328.47789485659, 4320.763317517423, 4313.048740178257, 4305.33416283909, 4297.619585499923, 4289.905008160757, 4282.19043082159, 4274.475853482423, 4266.7612761432565, 4259.04669880409, 4251.332121464923, 4243.6175441257565, 4235.90296678659, 4228.188389447423, 4220.4738121082555, 4212.759234769089, 4205.044657429922, 4197.3300800907555, 4189.615502751589, 4181.900925412422, 4174.186348073255, 4166.471770734089, 4158.757193394922, 4151.042616055755, 4143.328038716589, 4135.613461377422, 4127.898884038255, 4120.184306699089, 4112.469729359922, 4104.755152020755, 4097.040574681589, 4089.3259973424215, 4081.611420003255, 4073.896842664088, 4066.182265324921, 4058.4676879857543, 4050.7531106465876, 4043.038533307421, 4035.3239559682543, 4027.6093786290876, 4019.894801289921, 4012.180223950754, 4004.4656466115875, 3996.751069272421, 3989.036491933254, 3981.321914594087, 3973.6073372549204, 3965.8927599157537, 3958.178182576587, 3950.4636052374203, 3942.7490278982536, 3935.0344505590865, 3927.31987321992, 3919.605295880753, 3911.8907185415865, 3904.17614120242, 3896.461563863253, 3888.7469865240864, 3881.0324091849197, 3873.317831845753], [4650.7514242482175, 4643.036846909051, 4635.322269569884, 4627.6076922307175, 4619.893114891551, 4612.178537552384, 4604.463960213217, 4596.749382874051, 4589.034805534884, 4581.3202281957165, 4573.60565085655, 4565.891073517383, 4558.176496178216, 4550.46191883905, 4542.747341499883, 4535.032764160716, 4527.31818682155, 4519.603609482383, 4511.889032143216, 4504.17445480405, 4496.459877464883, 4488.745300125716, 4481.03072278655, 4473.316145447383, 4465.601568108216, 4457.88699076905, 4450.172413429882, 4442.457836090715, 4434.743258751549, 4427.028681412382, 4419.314104073215, 4411.599526734049, 4403.884949394882, 4396.170372055715, 4388.455794716549, 4380.741217377382, 4373.026640038215, 4365.3120626990485, 4357.597485359882, 4349.882908020715, 4342.1683306815485, 4334.453753342382, 4326.739176003215, 4319.0245986640475, 4311.310021324881, 4303.595443985714, 4295.8808666465475, 4288.166289307381, 4280.451711968214, 4272.737134629047, 4265.022557289881, 4257.307979950714, 4249.593402611547, 4241.878825272381, 4234.164247933214, 4226.449670594047, 4218.735093254881, 4211.020515915714, 4203.305938576547, 4195.591361237381, 4187.876783898213, 4180.162206559046, 4172.44762921988, 4164.733051880713, 4157.018474541546, 4149.30389720238, 4141.589319863213, 4133.874742524046, 4126.16016518488, 4118.445587845713, 4110.731010506546, 4103.01643316738, 4095.301855828213, 4087.587278489046, 4079.872701149879, 4072.1581238107124, 4064.4435464715457, 4056.728969132379, 4049.0143917932123, 4041.2998144540456, 4033.5852371148785, 4025.870659775712, 4018.156082436545, 4010.4415050973785, 4002.726927758212, 3995.012350419045, 3987.2977730798784, 3979.5831957407117, 3971.868618401545, 3964.1540410623784, 3956.4394637232117, 3948.7248863840446, 3941.010309044878, 3933.295731705711, 3925.5811543665445, 3917.866577027378, 3910.151999688211, 3902.437422349044, 3894.7228450098773, 3887.0082676707107], [4664.441860073175, 4656.727282734008, 4649.012705394842, 4641.298128055675, 4633.583550716508, 4625.868973377342, 4618.154396038175, 4610.439818699008, 4602.725241359842, 4595.010664020675, 4587.296086681508, 4579.581509342342, 4571.866932003175, 4564.152354664008, 4556.437777324842, 4548.723199985674, 4541.008622646508, 4533.294045307341, 4525.579467968174, 4517.864890629007, 4510.150313289841, 4502.435735950674, 4494.721158611507, 4487.006581272341, 4479.292003933174, 4471.577426594007, 4463.8628492548405, 4456.148271915674, 4448.433694576507, 4440.7191172373405, 4433.004539898174, 4425.289962559007, 4417.5753852198395, 4409.860807880673, 4402.146230541506, 4394.4316532023395, 4386.717075863173, 4379.002498524006, 4371.287921184839, 4363.573343845673, 4355.858766506506, 4348.144189167339, 4340.429611828173, 4332.715034489006, 4325.000457149839, 4317.285879810673, 4309.571302471506, 4301.856725132339, 4294.142147793173, 4286.427570454005, 4278.712993114838, 4270.998415775672, 4263.283838436505, 4255.569261097338, 4247.854683758172, 4240.140106419005, 4232.425529079838, 4224.710951740672, 4216.996374401505, 4209.281797062338, 4201.567219723172, 4193.852642384005, 4186.138065044838, 4178.4234877056715, 4170.708910366505, 4162.994333027338, 4155.279755688171, 4147.565178349005, 4139.850601009837, 4132.1360236706705, 4124.421446331504, 4116.706868992337, 4108.9922916531705, 4101.277714314004, 4093.563136974837, 4085.8485596356704, 4078.1339822965037, 4070.419404957337, 4062.7048276181704, 4054.9902502790037, 4047.2756729398366, 4039.56109560067, 4031.846518261503, 4024.1319409223365, 4016.41736358317, 4008.702786244003, 4000.9882089048365, 3993.2736315656693, 3985.5590542265027, 3977.844476887336, 3970.1298995481693, 3962.4153222090026, 3954.700744869836, 3946.9861675306693, 3939.2715901915026, 3931.557012852336, 3923.842435513169, 3916.127858174002, 3908.4132808348354, 3900.6987034956687], [4678.132295898134, 4670.417718558967, 4662.7031412198, 4654.988563880634, 4647.273986541467, 4639.5594092023, 4631.844831863133, 4624.130254523967, 4616.415677184799, 4608.701099845633, 4600.986522506466, 4593.271945167299, 4585.557367828133, 4577.842790488966, 4570.128213149799, 4562.4136358106325, 4554.699058471466, 4546.984481132299, 4539.2699037931325, 4531.555326453966, 4523.840749114799, 4516.126171775632, 4508.411594436466, 4500.697017097298, 4492.982439758132, 4485.267862418965, 4477.553285079798, 4469.838707740631, 4462.124130401465, 4454.409553062298, 4446.694975723131, 4438.980398383965, 4431.265821044798, 4423.551243705631, 4415.836666366465, 4408.122089027298, 4400.407511688131, 4392.692934348965, 4384.978357009798, 4377.263779670631, 4369.549202331464, 4361.834624992297, 4354.12004765313, 4346.405470313964, 4338.690892974797, 4330.97631563563, 4323.261738296464, 4315.547160957297, 4307.83258361813, 4300.118006278964, 4292.403428939797, 4284.68885160063, 4276.9742742614635, 4269.259696922297, 4261.54511958313, 4253.8305422439635, 4246.115964904797, 4238.401387565629, 4230.686810226463, 4222.972232887296, 4215.257655548129, 4207.5430782089625, 4199.828500869796, 4192.113923530629, 4184.399346191462, 4176.684768852296, 4168.970191513129, 4161.255614173962, 4153.541036834796, 4145.826459495629, 4138.111882156462, 4130.397304817296, 4122.682727478129, 4114.968150138962, 4107.253572799795, 4099.538995460628, 4091.824418121462, 4084.109840782295, 4076.395263443128, 4068.6806861039613, 4060.9661087647946, 4053.251531425628, 4045.5369540864613, 4037.8223767472946, 4030.107799408128, 4022.393222068961, 4014.6786447297945, 4006.964067390628, 3999.249490051461, 3991.534912712294, 3983.8203353731274, 3976.1057580339607, 3968.391180694794, 3960.6766033556273, 3952.9620260164606, 3945.2474486772935, 3937.532871338127, 3929.81829399896, 3922.1037166597935, 3914.389139320627], [4691.822731723091, 4684.108154383925, 4676.393577044758, 4668.678999705591, 4660.9644223664245, 4653.249845027258, 4645.535267688091, 4637.8206903489245, 4630.106113009758, 4622.391535670591, 4614.6769583314235, 4606.962380992258, 4599.24780365309, 4591.5332263139235, 4583.818648974757, 4576.10407163559, 4568.389494296423, 4560.674916957257, 4552.96033961809, 4545.245762278923, 4537.531184939757, 4529.81660760059, 4522.102030261423, 4514.387452922257, 4506.67287558309, 4498.958298243923, 4491.243720904757, 4483.529143565589, 4475.814566226423, 4468.099988887256, 4460.385411548089, 4452.670834208922, 4444.956256869756, 4437.241679530589, 4429.527102191422, 4421.812524852256, 4414.097947513089, 4406.383370173922, 4398.668792834756, 4390.954215495589, 4383.239638156422, 4375.5250608172555, 4367.810483478089, 4360.095906138922, 4352.3813287997555, 4344.666751460589, 4336.952174121421, 4329.2375967822545, 4321.523019443088, 4313.808442103921, 4306.0938647647545, 4298.379287425588, 4290.664710086421, 4282.950132747254, 4275.235555408088, 4267.520978068921, 4259.806400729754, 4252.091823390588, 4244.377246051421, 4236.662668712254, 4228.948091373088, 4221.23351403392, 4213.518936694754, 4205.804359355587, 4198.08978201642, 4190.375204677253, 4182.660627338087, 4174.94604999892, 4167.231472659753, 4159.516895320587, 4151.80231798142, 4144.087740642253, 4136.373163303087, 4128.65858596392, 4120.944008624753, 4113.2294312855865, 4105.51485394642, 4097.800276607253, 4090.085699268086, 4082.3711219289194, 4074.6565445897527, 4066.941967250586, 4059.227389911419, 4051.512812572252, 4043.7982352330855, 4036.083657893919, 4028.369080554752, 4020.6545032155855, 4012.939925876419, 4005.225348537252, 3997.5107711980854, 3989.7961938589187, 3982.081616519752, 3974.367039180585, 3966.6524618414182, 3958.9378845022516, 3951.223307163085, 3943.508729823918, 3935.7941524847515, 3928.079575145585], [4705.51316754805, 4697.798590208882, 4690.0840128697155, 4682.369435530549, 4674.654858191382, 4666.940280852215, 4659.225703513049, 4651.511126173882, 4643.796548834715, 4636.081971495549, 4628.367394156382, 4620.652816817215, 4612.938239478049, 4605.223662138882, 4597.509084799715, 4589.794507460549, 4582.079930121381, 4574.365352782215, 4566.650775443048, 4558.936198103881, 4551.221620764714, 4543.507043425548, 4535.792466086381, 4528.077888747214, 4520.363311408048, 4512.648734068881, 4504.934156729714, 4497.219579390548, 4489.505002051381, 4481.790424712214, 4474.0758473730475, 4466.361270033881, 4458.646692694714, 4450.9321153555475, 4443.217538016381, 4435.502960677213, 4427.7883833380465, 4420.07380599888, 4412.359228659713, 4404.6446513205465, 4396.93007398138, 4389.215496642213, 4381.500919303046, 4373.78634196388, 4366.071764624713, 4358.357187285546, 4350.64260994638, 4342.928032607213, 4335.213455268046, 4327.49887792888, 4319.784300589713, 4312.069723250545, 4304.355145911379, 4296.640568572212, 4288.925991233045, 4281.211413893879, 4273.496836554712, 4265.782259215545, 4258.067681876379, 4250.353104537212, 4242.638527198045, 4234.923949858879, 4227.209372519712, 4219.494795180545, 4211.7802178413785, 4204.065640502212, 4196.351063163045, 4188.6364858238785, 4180.921908484712, 4173.207331145544, 4165.492753806378, 4157.778176467211, 4150.063599128044, 4142.3490217888775, 4134.634444449711, 4126.919867110544, 4119.2052897713775, 4111.490712432211, 4103.776135093044, 4096.061557753877, 4088.3469804147107, 4080.632403075544, 4072.917825736377, 4065.2032483972102, 4057.4886710580436, 4049.774093718877, 4042.05951637971, 4034.3449390405435, 4026.630361701377, 4018.9157843622097, 4011.201207023043, 4003.4866296838763, 3995.7720523447097, 3988.057475005543, 3980.3428976663763, 3972.6283203272096, 3964.913742988043, 3957.1991656488763, 3949.4845883097096, 3941.770010970543], [4719.203603373007, 4711.489026033841, 4703.774448694674, 4696.059871355507, 4688.345294016341, 4680.630716677174, 4672.916139338007, 4665.201561998841, 4657.486984659674, 4649.772407320506, 4642.05782998134, 4634.343252642173, 4626.628675303006, 4618.91409796384, 4611.199520624673, 4603.484943285506, 4595.77036594634, 4588.055788607173, 4580.341211268006, 4572.6266339288395, 4564.912056589673, 4557.197479250506, 4549.4829019113395, 4541.768324572173, 4534.053747233006, 4526.339169893839, 4518.624592554672, 4510.910015215505, 4503.1954378763385, 4495.480860537172, 4487.766283198005, 4480.051705858838, 4472.337128519672, 4464.622551180505, 4456.907973841338, 4449.193396502172, 4441.478819163005, 4433.764241823838, 4426.049664484672, 4418.335087145505, 4410.620509806338, 4402.905932467172, 4395.191355128005, 4387.476777788837, 4379.762200449671, 4372.047623110504, 4364.333045771337, 4356.618468432171, 4348.903891093004, 4341.189313753837, 4333.474736414671, 4325.760159075504, 4318.045581736337, 4310.331004397171, 4302.616427058004, 4294.901849718837, 4287.1872723796705, 4279.472695040504, 4271.758117701337, 4264.0435403621705, 4256.328963023003, 4248.614385683836, 4240.8998083446695, 4233.185231005503, 4225.470653666336, 4217.7560763271695, 4210.041498988003, 4202.326921648836, 4194.612344309669, 4186.897766970503, 4179.183189631336, 4171.468612292169, 4163.754034953003, 4156.039457613836, 4148.324880274669, 4140.610302935502, 4132.895725596336, 4125.181148257168, 4117.466570918002, 4109.751993578835, 4102.037416239668, 4094.3228389005017, 4086.608261561335, 4078.8936842221683, 4071.1791068830016, 4063.464529543835, 4055.7499522046683, 4048.0353748655016, 4040.320797526335, 4032.606220187168, 4024.8916428480015, 4017.1770655088344, 4009.4624881696677, 4001.747910830501, 3994.0333334913344, 3986.3187561521677, 3978.604178813001, 3970.889601473834, 3963.175024134667, 3955.4604467955005], [4732.894039197965, 4725.179461858798, 4717.464884519632, 4709.750307180465, 4702.035729841298, 4694.321152502132, 4686.606575162965, 4678.891997823798, 4671.1774204846315, 4663.462843145465, 4655.748265806298, 4648.0336884671315, 4640.319111127965, 4632.604533788797, 4624.8899564496305, 4617.175379110464, 4609.460801771297, 4601.7462244321305, 4594.031647092964, 4586.317069753797, 4578.60249241463, 4570.887915075464, 4563.173337736297, 4555.45876039713, 4547.744183057964, 4540.029605718797, 4532.31502837963, 4524.600451040464, 4516.885873701297, 4509.17129636213, 4501.456719022963, 4493.742141683797, 4486.027564344629, 4478.312987005463, 4470.598409666296, 4462.883832327129, 4455.169254987963, 4447.454677648796, 4439.740100309629, 4432.025522970463, 4424.310945631296, 4416.596368292129, 4408.881790952963, 4401.167213613796, 4393.452636274629, 4385.7380589354625, 4378.023481596296, 4370.308904257128, 4362.594326917962, 4354.879749578795, 4347.165172239628, 4339.4505949004615, 4331.736017561295, 4324.021440222128, 4316.3068628829615, 4308.592285543795, 4300.877708204628, 4293.163130865461, 4285.448553526295, 4277.733976187128, 4270.019398847961, 4262.304821508795, 4254.590244169628, 4246.875666830461, 4239.161089491294, 4231.446512152127, 4223.73193481296, 4216.017357473794, 4208.302780134627, 4200.58820279546, 4192.873625456294, 4185.159048117127, 4177.44447077796, 4169.729893438794, 4162.015316099627, 4154.30073876046, 4146.586161421294, 4138.871584082127, 4131.15700674296, 4123.4424294037935, 4115.727852064627, 4108.013274725459, 4100.298697386293, 4092.5841200471264, 4084.8695427079597, 4077.1549653687925, 4069.440388029626, 4061.725810690459, 4054.0112333512925, 4046.296656012126, 4038.582078672959, 4030.8675013337925, 4023.152923994626, 4015.438346655459, 4007.7237693162924, 4000.0091919771253, 3992.2946146379586, 3984.580037298792, 3976.8654599596252, 3969.1508826204586], [4746.5844750229235, 4738.869897683757, 4731.15532034459, 4723.440743005423, 4715.726165666256, 4708.01158832709, 4700.2970109879225, 4692.582433648756, 4684.867856309589, 4677.153278970422, 4669.438701631256, 4661.724124292089, 4654.009546952922, 4646.294969613756, 4638.580392274589, 4630.865814935422, 4623.151237596256, 4615.436660257089, 4607.722082917922, 4600.007505578756, 4592.292928239589, 4584.578350900421, 4576.863773561256, 4569.149196222088, 4561.434618882921, 4553.720041543755, 4546.005464204588, 4538.290886865421, 4530.576309526255, 4522.861732187088, 4515.147154847921, 4507.432577508755, 4499.718000169588, 4492.003422830421, 4484.2888454912545, 4476.574268152088, 4468.859690812921, 4461.1451134737545, 4453.430536134587, 4445.71595879542, 4438.0013814562535, 4430.286804117087, 4422.57222677792, 4414.8576494387535, 4407.143072099587, 4399.42849476042, 4391.713917421253, 4383.999340082087, 4376.28476274292, 4368.570185403753, 4360.855608064587, 4353.14103072542, 4345.426453386253, 4337.711876047087, 4329.99729870792, 4322.282721368753, 4314.568144029586, 4306.853566690419, 4299.138989351252, 4291.424412012086, 4283.709834672919, 4275.995257333752, 4268.280679994586, 4260.566102655419, 4252.851525316252, 4245.136947977086, 4237.422370637919, 4229.707793298752, 4221.9932159595855, 4214.278638620419, 4206.564061281252, 4198.8494839420855, 4191.134906602918, 4183.420329263752, 4175.705751924585, 4167.991174585418, 4160.276597246251, 4152.5620199070845, 4144.847442567918, 4137.132865228751, 4129.4182878895845, 4121.703710550418, 4113.989133211251, 4106.274555872084, 4098.559978532918, 4090.845401193751, 4083.1308238545844, 4075.4162465154172, 4067.7016691762506, 4059.987091837084, 4052.272514497917, 4044.5579371587505, 4036.843359819584, 4029.1287824804167, 4021.41420514125, 4013.6996278020833, 4005.9850504629167, 3998.27047312375, 3990.5558957845833, 3982.8413184454166], [4760.274910847881, 4752.560333508714, 4744.845756169548, 4737.131178830381, 4729.416601491214, 4721.702024152048, 4713.987446812881, 4706.272869473714, 4698.558292134548, 4690.843714795381, 4683.129137456213, 4675.414560117048, 4667.69998277788, 4659.985405438713, 4652.270828099547, 4644.55625076038, 4636.841673421213, 4629.127096082047, 4621.41251874288, 4613.697941403713, 4605.983364064547, 4598.26878672538, 4590.554209386213, 4582.8396320470465, 4575.12505470788, 4567.410477368713, 4559.6959000295465, 4551.981322690379, 4544.266745351213, 4536.5521680120455, 4528.837590672879, 4521.123013333712, 4513.4084359945455, 4505.693858655379, 4497.979281316212, 4490.264703977045, 4482.550126637879, 4474.835549298712, 4467.120971959545, 4459.406394620379, 4451.691817281212, 4443.977239942045, 4436.262662602879, 4428.548085263712, 4420.833507924545, 4413.118930585379, 4405.404353246211, 4397.689775907044, 4389.975198567878, 4382.260621228711, 4374.546043889544, 4366.831466550378, 4359.116889211211, 4351.402311872044, 4343.687734532878, 4335.973157193711, 4328.258579854544, 4320.5440025153775, 4312.829425176211, 4305.114847837044, 4297.4002704978775, 4289.68569315871, 4281.971115819544, 4274.256538480377, 4266.54196114121, 4258.827383802043, 4251.1128064628765, 4243.39822912371, 4235.683651784543, 4227.9690744453765, 4220.25449710621, 4212.539919767043, 4204.825342427876, 4197.11076508871, 4189.396187749543, 4181.681610410376, 4173.96703307121, 4166.252455732043, 4158.537878392875, 4150.82330105371, 4143.108723714542, 4135.394146375375, 4127.679569036209, 4119.964991697042, 4112.250414357875, 4104.535837018709, 4096.821259679542, 4089.1066823403753, 4081.3921050012086, 4073.677527662042, 4065.9629503228753, 4058.2483729837086, 4050.533795644542, 4042.8192183053748, 4035.104640966208, 4027.3900636270414, 4019.6754862878747, 4011.960908948708, 4004.2463316095414, 3996.5317542703747], [4773.965346672839, 4766.250769333672, 4758.536191994505, 4750.821614655339, 4743.107037316172, 4735.392459977005, 4727.677882637839, 4719.963305298672, 4712.248727959505, 4704.534150620339, 4696.819573281172, 4689.104995942005, 4681.3904186028385, 4673.675841263672, 4665.961263924504, 4658.2466865853385, 4650.532109246171, 4642.817531907004, 4635.1029545678375, 4627.388377228671, 4619.673799889504, 4611.9592225503375, 4604.244645211171, 4596.530067872004, 4588.815490532837, 4581.100913193671, 4573.386335854504, 4565.671758515337, 4557.957181176171, 4550.242603837004, 4542.528026497837, 4534.81344915867, 4527.098871819504, 4519.384294480336, 4511.66971714117, 4503.955139802003, 4496.240562462836, 4488.52598512367, 4480.811407784503, 4473.096830445336, 4465.38225310617, 4457.667675767003, 4449.953098427836, 4442.23852108867, 4434.523943749503, 4426.809366410336, 4419.0947890711695, 4411.380211732003, 4403.665634392836, 4395.9510570536695, 4388.236479714502, 4380.521902375335, 4372.807325036169, 4365.092747697002, 4357.378170357835, 4349.6635930186685, 4341.949015679502, 4334.234438340335, 4326.5198610011685, 4318.805283662002, 4311.090706322835, 4303.376128983668, 4295.661551644502, 4287.946974305335, 4280.232396966168, 4272.517819627002, 4264.803242287835, 4257.088664948667, 4249.374087609501, 4241.659510270334, 4233.944932931167, 4226.230355592001, 4218.515778252834, 4210.801200913667, 4203.086623574501, 4195.372046235334, 4187.657468896167, 4179.942891557001, 4172.228314217834, 4164.513736878667, 4156.799159539501, 4149.084582200334, 4141.370004861166, 4133.6554275220005, 4125.940850182833, 4118.226272843666, 4110.5116955045, 4102.797118165333, 4095.082540826166, 4087.3679634869995, 4079.653386147833, 4071.938808808666, 4064.2242314694995, 4056.509654130333, 4048.795076791166, 4041.0804994519995, 4033.365922112833, 4025.6513447736656, 4017.936767434499, 4010.2221900953323], [4787.655782497797, 4779.9412051586305, 4772.226627819464, 4764.512050480297, 4756.7974731411305, 4749.082895801964, 4741.368318462797, 4733.6537411236295, 4725.939163784463, 4718.224586445296, 4710.5100091061295, 4702.795431766963, 4695.080854427796, 4687.366277088629, 4679.651699749463, 4671.937122410296, 4664.222545071129, 4656.507967731963, 4648.793390392796, 4641.078813053629, 4633.364235714463, 4625.649658375296, 4617.935081036129, 4610.220503696963, 4602.505926357795, 4594.791349018628, 4587.076771679462, 4579.362194340295, 4571.647617001128, 4563.933039661962, 4556.218462322795, 4548.503884983628, 4540.789307644462, 4533.074730305295, 4525.360152966128, 4517.6455756269615, 4509.930998287795, 4502.216420948628, 4494.5018436094615, 4486.787266270295, 4479.072688931128, 4471.358111591961, 4463.643534252794, 4455.928956913627, 4448.2143795744605, 4440.499802235294, 4432.785224896127, 4425.0706475569605, 4417.356070217794, 4409.641492878627, 4401.92691553946, 4394.212338200294, 4386.497760861127, 4378.78318352196, 4371.068606182794, 4363.354028843627, 4355.63945150446, 4347.924874165294, 4340.210296826126, 4332.495719486959, 4324.781142147793, 4317.066564808626, 4309.351987469459, 4301.637410130293, 4293.922832791126, 4286.208255451959, 4278.493678112793, 4270.779100773626, 4263.064523434459, 4255.349946095293, 4247.635368756126, 4239.920791416959, 4232.2062140777925, 4224.491636738626, 4216.777059399459, 4209.062482060292, 4201.347904721125, 4193.633327381958, 4185.9187500427915, 4178.204172703625, 4170.489595364458, 4162.7750180252915, 4155.060440686125, 4147.345863346958, 4139.6312860077915, 4131.916708668625, 4124.202131329458, 4116.487553990291, 4108.772976651125, 4101.058399311958, 4093.343821972791, 4085.6292446336242, 4077.9146672944576, 4070.200089955291, 4062.485512616124, 4054.770935276957, 4047.0563579377904, 4039.3417805986237, 4031.627203259457, 4023.9126259202903], [4801.346218322755, 4793.631640983588, 4785.917063644421, 4778.202486305255, 4770.487908966088, 4762.773331626921, 4755.058754287755, 4747.344176948588, 4739.629599609421, 4731.915022270255, 4724.200444931088, 4716.485867591921, 4708.771290252755, 4701.056712913587, 4693.34213557442, 4685.627558235254, 4677.912980896087, 4670.19840355692, 4662.483826217754, 4654.769248878587, 4647.05467153942, 4639.340094200254, 4631.625516861087, 4623.91093952192, 4616.196362182754, 4608.481784843587, 4600.76720750442, 4593.0526301652535, 4585.338052826087, 4577.62347548692, 4569.908898147753, 4562.194320808587, 4554.479743469419, 4546.7651661302525, 4539.050588791086, 4531.336011451919, 4523.6214341127525, 4515.906856773586, 4508.192279434419, 4500.477702095252, 4492.763124756086, 4485.048547416919, 4477.333970077752, 4469.619392738586, 4461.904815399419, 4454.190238060252, 4446.475660721086, 4438.761083381918, 4431.046506042751, 4423.331928703585, 4415.617351364418, 4407.902774025251, 4400.188196686085, 4392.473619346918, 4384.759042007751, 4377.044464668585, 4369.329887329418, 4361.615309990251, 4353.900732651085, 4346.186155311918, 4338.471577972751, 4330.7570006335845, 4323.042423294418, 4315.327845955251, 4307.613268616084, 4299.898691276917, 4292.18411393775, 4284.4695365985835, 4276.754959259417, 4269.04038192025, 4261.3258045810835, 4253.611227241917, 4245.89664990275, 4238.1820725635835, 4230.467495224417, 4222.75291788525, 4215.038340546083, 4207.323763206917, 4199.60918586775, 4191.894608528583, 4184.180031189417, 4176.465453850249, 4168.750876511082, 4161.036299171916, 4153.321721832749, 4145.607144493582, 4137.892567154416, 4130.177989815249, 4122.463412476082, 4114.748835136916, 4107.034257797749, 4099.319680458582, 4091.6051031194156, 4083.890525780249, 4076.1759484410823, 4068.461371101915, 4060.7467937627484, 4053.0322164235818, 4045.317639084415, 4037.6030617452484], [4815.036654147713, 4807.322076808547, 4799.60749946938, 4791.892922130213, 4784.178344791046, 4776.46376745188, 4768.749190112712, 4761.034612773546, 4753.320035434379, 4745.605458095212, 4737.890880756046, 4730.176303416879, 4722.461726077712, 4714.747148738546, 4707.032571399379, 4699.317994060212, 4691.6034167210455, 4683.888839381879, 4676.174262042712, 4668.4596847035455, 4660.745107364379, 4653.030530025211, 4645.315952686045, 4637.601375346878, 4629.886798007711, 4622.1722206685445, 4614.457643329378, 4606.743065990211, 4599.028488651044, 4591.313911311878, 4583.599333972711, 4575.884756633544, 4568.170179294378, 4560.455601955211, 4552.741024616044, 4545.026447276878, 4537.311869937711, 4529.597292598544, 4521.882715259377, 4514.168137920211, 4506.453560581043, 4498.738983241877, 4491.02440590271, 4483.309828563543, 4475.595251224377, 4467.88067388521, 4460.166096546043, 4452.451519206877, 4444.73694186771, 4437.022364528543, 4429.3077871893765, 4421.59320985021, 4413.878632511043, 4406.1640551718765, 4398.44947783271, 4390.734900493543, 4383.020323154376, 4375.305745815209, 4367.591168476042, 4359.8765911368755, 4352.162013797709, 4344.447436458542, 4336.7328591193755, 4329.018281780209, 4321.303704441042, 4313.589127101875, 4305.874549762709, 4298.159972423542, 4290.445395084375, 4282.730817745209, 4275.016240406042, 4267.301663066875, 4259.587085727708, 4251.872508388542, 4244.157931049374, 4236.443353710208, 4228.728776371041, 4221.014199031874, 4213.299621692708, 4205.585044353541, 4197.870467014374, 4190.155889675208, 4182.441312336041, 4174.726734996874, 4167.012157657708, 4159.297580318541, 4151.583002979374, 4143.8684256402075, 4136.153848301041, 4128.439270961873, 4120.7246936227075, 4113.01011628354, 4105.295538944373, 4097.5809616052065, 4089.86638426604, 4082.151806926873, 4074.4372295877065, 4066.72265224854, 4059.008074909373, 4051.2934975702065], [4828.727089972671, 4821.012512633504, 4813.297935294338, 4805.583357955171, 4797.868780616004, 4790.1542032768375, 4782.439625937671, 4774.725048598504, 4767.010471259337, 4759.295893920171, 4751.581316581003, 4743.8667392418365, 4736.15216190267, 4728.437584563503, 4720.7230072243365, 4713.00842988517, 4705.293852546003, 4697.579275206836, 4689.86469786767, 4682.150120528503, 4674.435543189336, 4666.72096585017, 4659.006388511003, 4651.291811171836, 4643.57723383267, 4635.862656493502, 4628.148079154336, 4620.433501815169, 4612.718924476002, 4605.004347136835, 4597.289769797669, 4589.575192458502, 4581.860615119335, 4574.146037780169, 4566.431460441002, 4558.716883101835, 4551.002305762669, 4543.287728423502, 4535.573151084335, 4527.8585737451685, 4520.143996406002, 4512.429419066835, 4504.714841727668, 4497.000264388502, 4489.285687049334, 4481.571109710168, 4473.856532371001, 4466.141955031834, 4458.4273776926675, 4450.712800353501, 4442.998223014334, 4435.2836456751675, 4427.569068336001, 4419.854490996834, 4412.139913657667, 4404.425336318501, 4396.710758979334, 4388.996181640167, 4381.281604301001, 4373.567026961833, 4365.852449622667, 4358.1378722835, 4350.423294944333, 4342.708717605166, 4334.994140266, 4327.279562926833, 4319.564985587666, 4311.8504082485, 4304.135830909333, 4296.421253570166, 4288.706676231, 4280.992098891833, 4273.277521552666, 4265.5629442135, 4257.848366874333, 4250.133789535166, 4242.419212195999, 4234.704634856833, 4226.990057517665, 4219.275480178499, 4211.560902839332, 4203.846325500165, 4196.1317481609985, 4188.417170821832, 4180.702593482665, 4172.9880161434985, 4165.273438804332, 4157.558861465165, 4149.8442841259985, 4142.129706786832, 4134.415129447665, 4126.700552108498, 4118.985974769332, 4111.271397430164, 4103.556820090998, 4095.8422427518312, 4088.1276654126646, 4080.4130880734974, 4072.6985107343307, 4064.983933395164], [4842.417525797629, 4834.702948458462, 4826.988371119295, 4819.2737937801285, 4811.559216440962, 4803.844639101795, 4796.130061762628, 4788.415484423462, 4780.700907084295, 4772.986329745128, 4765.271752405962, 4757.557175066795, 4749.842597727628, 4742.128020388462, 4734.413443049295, 4726.698865710128, 4718.984288370961, 4711.269711031795, 4703.555133692627, 4695.840556353461, 4688.125979014294, 4680.411401675127, 4672.696824335961, 4664.982246996794, 4657.267669657627, 4649.553092318461, 4641.838514979294, 4634.123937640127, 4626.4093603009605, 4618.694782961794, 4610.980205622627, 4603.2656282834605, 4595.551050944294, 4587.836473605126, 4580.1218962659605, 4572.407318926793, 4564.692741587626, 4556.9781642484595, 4549.263586909293, 4541.549009570126, 4533.8344322309595, 4526.119854891793, 4518.405277552626, 4510.690700213459, 4502.976122874293, 4495.261545535126, 4487.546968195959, 4479.832390856793, 4472.117813517626, 4464.403236178459, 4456.688658839293, 4448.974081500125, 4441.259504160958, 4433.544926821792, 4425.830349482625, 4418.115772143458, 4410.401194804292, 4402.686617465125, 4394.972040125958, 4387.257462786792, 4379.542885447625, 4371.828308108458, 4364.113730769292, 4356.399153430125, 4348.684576090958, 4340.9699987517915, 4333.255421412625, 4325.540844073458, 4317.8262667342915, 4310.111689395124, 4302.397112055957, 4294.6825347167905, 4286.967957377624, 4279.253380038457, 4271.5388026992905, 4263.824225360124, 4256.109648020957, 4248.3950706817905, 4240.680493342624, 4232.965916003457, 4225.25133866429, 4217.536761325124, 4209.822183985957, 4202.10760664679, 4194.393029307624, 4186.678451968457, 4178.963874629289, 4171.249297290123, 4163.534719950956, 4155.820142611789, 4148.105565272623, 4140.390987933456, 4132.676410594289, 4124.961833255123, 4117.247255915956, 4109.532678576789, 4101.818101237623, 4094.103523898456, 4086.3889465592893, 4078.6743692201226], [4856.107961622587, 4848.39338428342, 4840.678806944254, 4832.964229605087, 4825.24965226592, 4817.535074926753, 4809.820497587586, 4802.105920248419, 4794.391342909253, 4786.676765570086, 4778.962188230919, 4771.247610891753, 4763.533033552586, 4755.818456213419, 4748.103878874253, 4740.389301535086, 4732.674724195919, 4724.9601468567525, 4717.245569517586, 4709.530992178419, 4701.816414839252, 4694.101837500086, 4686.387260160918, 4678.672682821752, 4670.958105482585, 4663.243528143418, 4655.5289508042515, 4647.814373465085, 4640.099796125918, 4632.3852187867515, 4624.670641447585, 4616.956064108418, 4609.241486769251, 4601.526909430085, 4593.812332090918, 4586.097754751751, 4578.383177412585, 4570.668600073417, 4562.954022734251, 4555.239445395084, 4547.524868055917, 4539.81029071675, 4532.095713377584, 4524.381136038417, 4516.66655869925, 4508.951981360084, 4501.237404020917, 4493.52282668175, 4485.808249342584, 4478.093672003417, 4470.37909466425, 4462.664517325084, 4454.949939985917, 4447.23536264675, 4439.5207853075835, 4431.806207968417, 4424.091630629249, 4416.377053290083, 4408.662475950916, 4400.947898611749, 4393.2333212725825, 4385.518743933416, 4377.804166594249, 4370.0895892550825, 4362.375011915916, 4354.660434576749, 4346.9458572375825, 4339.231279898416, 4331.516702559249, 4323.802125220082, 4316.087547880916, 4308.372970541749, 4300.658393202582, 4292.943815863415, 4285.229238524248, 4277.514661185081, 4269.800083845915, 4262.085506506748, 4254.370929167581, 4246.656351828415, 4238.941774489248, 4231.227197150081, 4223.512619810915, 4215.798042471748, 4208.083465132581, 4200.368887793415, 4192.654310454248, 4184.939733115081, 4177.225155775915, 4169.510578436748, 4161.79600109758, 4154.081423758414, 4146.366846419247, 4138.65226908008, 4130.937691740914, 4123.223114401747, 4115.50853706258, 4107.7939597234135, 4100.079382384247, 4092.36480504508], [4869.798397447545, 4862.083820108378, 4854.369242769211, 4846.654665430045, 4838.940088090878, 4831.225510751711, 4823.510933412545, 4815.796356073378, 4808.081778734211, 4800.3672013950445, 4792.652624055878, 4784.93804671671, 4777.223469377544, 4769.508892038377, 4761.79431469921, 4754.0797373600435, 4746.365160020877, 4738.65058268171, 4730.9360053425435, 4723.221428003377, 4715.50685066421, 4707.792273325043, 4700.077695985877, 4692.36311864671, 4684.648541307543, 4676.933963968377, 4669.21938662921, 4661.504809290043, 4653.790231950876, 4646.07565461171, 4638.361077272542, 4630.646499933376, 4622.931922594209, 4615.217345255042, 4607.502767915876, 4599.788190576709, 4592.073613237542, 4584.359035898376, 4576.644458559209, 4568.929881220042, 4561.215303880876, 4553.500726541709, 4545.786149202542, 4538.0715718633755, 4530.356994524209, 4522.642417185041, 4514.9278398458755, 4507.213262506708, 4499.498685167541, 4491.7841078283745, 4484.069530489208, 4476.354953150041, 4468.6403758108745, 4460.925798471708, 4453.211221132541, 4445.4966437933745, 4437.782066454208, 4430.067489115041, 4422.352911775874, 4414.638334436708, 4406.923757097541, 4399.209179758374, 4391.494602419207, 4383.78002508004, 4376.065447740873, 4368.350870401707, 4360.63629306254, 4352.921715723373, 4345.207138384207, 4337.49256104504, 4329.777983705873, 4322.063406366707, 4314.34882902754, 4306.634251688373, 4298.919674349207, 4291.20509701004, 4283.490519670873, 4275.775942331707, 4268.06136499254, 4260.346787653372, 4252.632210314206, 4244.917632975039, 4237.203055635872, 4229.488478296706, 4221.773900957539, 4214.059323618372, 4206.3447462792055, 4198.630168940039, 4190.915591600872, 4183.2010142617055, 4175.486436922539, 4167.771859583372, 4160.057282244205, 4152.342704905039, 4144.628127565872, 4136.913550226705, 4129.198972887538, 4121.484395548371, 4113.7698182092045, 4106.055240870038], [4883.488833272503, 4875.7742559333365, 4868.059678594169, 4860.345101255003, 4852.6305239158355, 4844.915946576669, 4837.201369237502, 4829.4867918983355, 4821.772214559169, 4814.057637220002, 4806.343059880835, 4798.628482541669, 4790.913905202502, 4783.199327863335, 4775.484750524169, 4767.770173185002, 4760.055595845835, 4752.341018506669, 4744.626441167502, 4736.911863828334, 4729.197286489169, 4721.482709150001, 4713.768131810834, 4706.053554471668, 4698.338977132501, 4690.624399793334, 4682.909822454168, 4675.195245115001, 4667.480667775834, 4659.766090436668, 4652.051513097501, 4644.336935758334, 4636.6223584191675, 4628.907781080001, 4621.193203740834, 4613.4786264016675, 4605.7640490625, 4598.049471723334, 4590.334894384167, 4582.620317045, 4574.905739705833, 4567.1911623666665, 4559.4765850275, 4551.762007688333, 4544.0474303491665, 4536.33285301, 4528.618275670833, 4520.903698331666, 4513.1891209925, 4505.474543653333, 4497.759966314166, 4490.045388975, 4482.330811635833, 4474.616234296666, 4466.901656957499, 4459.187079618332, 4451.472502279165, 4443.757924939999, 4436.043347600832, 4428.328770261665, 4420.614192922499, 4412.899615583332, 4405.185038244165, 4397.470460904999, 4389.755883565832, 4382.041306226665, 4374.326728887499, 4366.612151548332, 4358.897574209165, 4351.1829968699985, 4343.468419530831, 4335.753842191665, 4328.039264852498, 4320.324687513331, 4312.610110174164, 4304.8955328349975, 4297.180955495831, 4289.466378156664, 4281.7518008174975, 4274.037223478331, 4266.322646139164, 4258.608068799997, 4250.893491460831, 4243.178914121664, 4235.464336782497, 4227.749759443331, 4220.035182104164, 4212.3206047649965, 4204.606027425831, 4196.891450086663, 4189.176872747496, 4181.46229540833, 4173.747718069163, 4166.033140729996, 4158.31856339083, 4150.603986051663, 4142.889408712496, 4135.17483137333, 4127.460254034163, 4119.745676694996], [4897.179269097461, 4889.464691758294, 4881.750114419127, 4874.035537079961, 4866.320959740794, 4858.606382401627, 4850.89180506246, 4843.177227723294, 4835.462650384126, 4827.74807304496, 4820.033495705793, 4812.318918366626, 4804.60434102746, 4796.889763688293, 4789.175186349126, 4781.46060900996, 4773.746031670793, 4766.031454331626, 4758.31687699246, 4750.602299653293, 4742.887722314126, 4735.1731449749595, 4727.458567635793, 4719.743990296625, 4712.0294129574595, 4704.314835618292, 4696.600258279125, 4688.885680939959, 4681.171103600792, 4673.456526261625, 4665.7419489224585, 4658.027371583292, 4650.312794244125, 4642.5982169049585, 4634.883639565792, 4627.169062226625, 4619.454484887458, 4611.739907548292, 4604.025330209125, 4596.310752869958, 4588.596175530791, 4580.881598191625, 4573.167020852457, 4565.452443513291, 4557.737866174124, 4550.023288834957, 4542.308711495791, 4534.594134156624, 4526.879556817457, 4519.164979478291, 4511.450402139124, 4503.735824799957, 4496.021247460791, 4488.306670121624, 4480.592092782457, 4472.877515443291, 4465.162938104124, 4457.448360764956, 4449.7337834257905, 4442.019206086623, 4434.304628747456, 4426.59005140829, 4418.875474069123, 4411.160896729956, 4403.4463193907895, 4395.731742051623, 4388.017164712456, 4380.3025873732895, 4372.588010034123, 4364.873432694956, 4357.1588553557895, 4349.444278016623, 4341.729700677456, 4334.015123338289, 4326.300545999122, 4318.585968659955, 4310.8713913207885, 4303.156813981622, 4295.442236642455, 4287.727659303288, 4280.013081964122, 4272.298504624955, 4264.583927285788, 4256.869349946622, 4249.154772607455, 4241.440195268288, 4233.725617929122, 4226.011040589955, 4218.296463250788, 4210.581885911622, 4202.867308572455, 4195.152731233287, 4187.438153894122, 4179.723576554954, 4172.008999215787, 4164.294421876621, 4156.579844537454, 4148.865267198287, 4141.150689859121, 4133.436112519954], [4910.869704922418, 4903.155127583252, 4895.440550244085, 4887.725972904918, 4880.011395565752, 4872.296818226585, 4864.582240887418, 4856.867663548252, 4849.153086209085, 4841.438508869918, 4833.7239315307515, 4826.009354191585, 4818.294776852418, 4810.5801995132515, 4802.865622174084, 4795.151044834918, 4787.436467495751, 4779.721890156584, 4772.007312817417, 4764.2927354782505, 4756.578158139084, 4748.863580799917, 4741.1490034607505, 4733.434426121584, 4725.719848782417, 4718.00527144325, 4710.290694104084, 4702.576116764917, 4694.86153942575, 4687.146962086584, 4679.432384747417, 4671.717807408249, 4664.003230069084, 4656.288652729916, 4648.574075390749, 4640.859498051583, 4633.144920712416, 4625.430343373249, 4617.715766034083, 4610.001188694916, 4602.286611355749, 4594.572034016583, 4586.857456677416, 4579.142879338249, 4571.428301999083, 4563.713724659916, 4555.999147320749, 4548.2845699815825, 4540.569992642415, 4532.855415303249, 4525.140837964082, 4517.426260624915, 4509.711683285748, 4501.9971059465815, 4494.282528607415, 4486.567951268248, 4478.8533739290815, 4471.138796589915, 4463.424219250748, 4455.7096419115815, 4447.995064572415, 4440.280487233248, 4432.565909894081, 4424.851332554915, 4417.136755215748, 4409.422177876581, 4401.707600537415, 4393.993023198247, 4386.27844585908, 4378.563868519914, 4370.849291180747, 4363.13471384158, 4355.420136502414, 4347.705559163247, 4339.99098182408, 4332.276404484914, 4324.561827145747, 4316.84724980658, 4309.132672467414, 4301.418095128247, 4293.70351778908, 4285.988940449914, 4278.274363110746, 4270.55978577158, 4262.845208432413, 4255.130631093246, 4247.416053754079, 4239.701476414913, 4231.986899075746, 4224.272321736579, 4216.5577443974125, 4208.843167058246, 4201.128589719079, 4193.4140123799125, 4185.699435040746, 4177.984857701579, 4170.270280362412, 4162.555703023246, 4154.841125684079, 4147.126548344912], [4924.560140747377, 4916.84556340821, 4909.1309860690435, 4901.416408729877, 4893.70183139071, 4885.987254051543, 4878.272676712376, 4870.558099373209, 4862.8435220340425, 4855.128944694876, 4847.414367355709, 4839.6997900165425, 4831.985212677376, 4824.270635338209, 4816.556057999042, 4808.841480659876, 4801.126903320709, 4793.412325981542, 4785.697748642376, 4777.983171303209, 4770.268593964041, 4762.554016624876, 4754.839439285708, 4747.124861946541, 4739.410284607375, 4731.695707268208, 4723.981129929041, 4716.266552589875, 4708.551975250708, 4700.837397911541, 4693.122820572375, 4685.408243233208, 4677.693665894041, 4669.979088554875, 4662.264511215708, 4654.549933876541, 4646.8353565373745, 4639.120779198207, 4631.406201859041, 4623.691624519874, 4615.977047180707, 4608.26246984154, 4600.5478925023735, 4592.833315163207, 4585.11873782404, 4577.4041604848735, 4569.689583145707, 4561.97500580654, 4554.2604284673735, 4546.545851128207, 4538.83127378904, 4531.116696449873, 4523.402119110707, 4515.68754177154, 4507.9729644323725, 4500.258387093207, 4492.543809754039, 4484.829232414872, 4477.114655075706, 4469.400077736539, 4461.685500397372, 4453.970923058206, 4446.256345719039, 4438.541768379872, 4430.827191040706, 4423.112613701539, 4415.398036362372, 4407.683459023206, 4399.968881684039, 4392.254304344872, 4384.539727005706, 4376.825149666539, 4369.110572327372, 4361.395994988205, 4353.681417649038, 4345.966840309871, 4338.252262970705, 4330.537685631538, 4322.823108292371, 4315.1085309532045, 4307.393953614038, 4299.679376274871, 4291.9647989357045, 4284.250221596538, 4276.535644257371, 4268.821066918204, 4261.106489579038, 4253.391912239871, 4245.677334900704, 4237.962757561538, 4230.24818022237, 4222.5336028832035, 4214.819025544037, 4207.10444820487, 4199.389870865703, 4191.675293526537, 4183.96071618737, 4176.246138848203, 4168.531561509037, 4160.81698416987], [4938.2505765723345, 4930.535999233168, 4922.821421894001, 4915.106844554834, 4907.392267215668, 4899.677689876501, 4891.963112537334, 4884.248535198168, 4876.533957859001, 4868.819380519834, 4861.104803180668, 4853.390225841501, 4845.675648502334, 4837.961071163167, 4830.246493824, 4822.531916484833, 4814.817339145667, 4807.1027618065, 4799.388184467333, 4791.673607128167, 4783.959029789, 4776.244452449833, 4768.529875110667, 4760.8152977715, 4753.100720432333, 4745.3861430931665, 4737.671565754, 4729.956988414833, 4722.2424110756665, 4714.5278337365, 4706.813256397332, 4699.098679058166, 4691.384101718999, 4683.669524379832, 4675.9549470406655, 4668.240369701499, 4660.525792362332, 4652.8112150231655, 4645.096637683999, 4637.382060344832, 4629.667483005665, 4621.952905666499, 4614.238328327332, 4606.523750988165, 4598.809173648999, 4591.094596309832, 4583.380018970665, 4575.665441631498, 4567.950864292332, 4560.236286953164, 4552.521709613998, 4544.807132274831, 4537.092554935664, 4529.377977596498, 4521.663400257331, 4513.948822918164, 4506.234245578998, 4498.519668239831, 4490.805090900664, 4483.090513561498, 4475.375936222331, 4467.661358883164, 4459.9467815439975, 4452.232204204831, 4444.517626865663, 4436.803049526497, 4429.08847218733, 4421.373894848163, 4413.6593175089965, 4405.94474016983, 4398.230162830663, 4390.5155854914965, 4382.80100815233, 4375.086430813163, 4367.371853473996, 4359.65727613483, 4351.942698795663, 4344.228121456496, 4336.51354411733, 4328.798966778163, 4321.084389438996, 4313.369812099829, 4305.655234760662, 4297.940657421495, 4290.226080082329, 4282.511502743162, 4274.796925403995, 4267.082348064829, 4259.367770725662, 4251.653193386495, 4243.938616047329, 4236.224038708162, 4228.509461368995, 4220.794884029829, 4213.080306690662, 4205.365729351495, 4197.651152012329, 4189.936574673162, 4182.221997333994, 4174.5074199948285], [4951.941012397292, 4944.226435058126, 4936.511857718959, 4928.797280379792, 4921.082703040625, 4913.368125701459, 4905.653548362292, 4897.938971023125, 4890.224393683959, 4882.509816344792, 4874.795239005625, 4867.080661666459, 4859.366084327292, 4851.651506988125, 4843.9369296489585, 4836.222352309792, 4828.507774970625, 4820.793197631458, 4813.078620292292, 4805.364042953124, 4797.649465613958, 4789.934888274791, 4782.220310935624, 4774.5057335964575, 4766.791156257291, 4759.076578918124, 4751.3620015789575, 4743.647424239791, 4735.932846900624, 4728.218269561457, 4720.503692222291, 4712.789114883124, 4705.074537543957, 4697.359960204791, 4689.645382865623, 4681.930805526457, 4674.21622818729, 4666.501650848123, 4658.787073508956, 4651.07249616979, 4643.357918830623, 4635.643341491456, 4627.92876415229, 4620.214186813123, 4612.499609473956, 4604.78503213479, 4597.070454795623, 4589.355877456456, 4581.64130011729, 4573.926722778123, 4566.212145438956, 4558.497568099789, 4550.782990760623, 4543.068413421455, 4535.353836082289, 4527.639258743122, 4519.924681403955, 4512.2101040647885, 4504.495526725622, 4496.780949386455, 4489.0663720472885, 4481.351794708122, 4473.637217368955, 4465.922640029788, 4458.208062690622, 4450.493485351455, 4442.778908012288, 4435.064330673122, 4427.349753333954, 4419.635175994788, 4411.920598655621, 4404.206021316454, 4396.491443977287, 4388.776866638121, 4381.062289298954, 4373.347711959787, 4365.633134620621, 4357.918557281454, 4350.203979942287, 4342.489402603121, 4334.774825263954, 4327.060247924787, 4319.345670585621, 4311.631093246454, 4303.916515907287, 4296.20193856812, 4288.487361228954, 4280.772783889786, 4273.05820655062, 4265.343629211453, 4257.629051872286, 4249.91447453312, 4242.199897193953, 4234.485319854786, 4226.7707425156195, 4219.056165176453, 4211.341587837286, 4203.6270104981195, 4195.912433158953, 4188.197855819786], [4965.631448222251, 4957.916870883084, 4950.202293543917, 4942.4877162047505, 4934.773138865584, 4927.058561526417, 4919.34398418725, 4911.629406848084, 4903.914829508916, 4896.20025216975, 4888.485674830583, 4880.771097491416, 4873.0565201522495, 4865.341942813083, 4857.627365473916, 4849.9127881347495, 4842.198210795583, 4834.483633456416, 4826.769056117249, 4819.054478778083, 4811.339901438916, 4803.625324099749, 4795.910746760583, 4788.196169421415, 4780.481592082249, 4772.767014743082, 4765.052437403915, 4757.337860064748, 4749.623282725582, 4741.908705386415, 4734.194128047248, 4726.479550708082, 4718.764973368915, 4711.050396029748, 4703.335818690582, 4695.621241351415, 4687.906664012248, 4680.192086673082, 4672.477509333915, 4664.762931994748, 4657.048354655581, 4649.333777316415, 4641.619199977247, 4633.904622638081, 4626.190045298914, 4618.475467959747, 4610.7608906205805, 4603.046313281414, 4595.331735942247, 4587.6171586030805, 4579.902581263914, 4572.188003924747, 4564.4734265855805, 4556.758849246414, 4549.044271907247, 4541.32969456808, 4533.615117228914, 4525.900539889746, 4518.18596255058, 4510.471385211413, 4502.756807872246, 4495.042230533079, 4487.327653193913, 4479.613075854746, 4471.898498515579, 4464.183921176413, 4456.469343837246, 4448.754766498079, 4441.040189158913, 4433.325611819746, 4425.611034480579, 4417.896457141413, 4410.181879802246, 4402.467302463079, 4394.752725123912, 4387.038147784745, 4379.323570445578, 4371.608993106412, 4363.894415767245, 4356.179838428078, 4348.465261088912, 4340.750683749745, 4333.036106410578, 4325.3215290714115, 4317.606951732245, 4309.892374393078, 4302.1777970539115, 4294.463219714745, 4286.748642375578, 4279.034065036411, 4271.319487697245, 4263.604910358077, 4255.890333018911, 4248.175755679744, 4240.461178340577, 4232.74660100141, 4225.032023662244, 4217.317446323077, 4209.60286898391, 4201.888291644744], [4979.321884047208, 4971.6073067080415, 4963.892729368875, 4956.178152029708, 4948.4635746905415, 4940.748997351375, 4933.034420012208, 4925.319842673041, 4917.605265333875, 4909.890687994708, 4902.176110655541, 4894.461533316375, 4886.746955977208, 4879.032378638041, 4871.317801298874, 4863.603223959708, 4855.88864662054, 4848.174069281374, 4840.459491942207, 4832.74491460304, 4825.030337263874, 4817.315759924707, 4809.60118258554, 4801.886605246374, 4794.172027907207, 4786.45745056804, 4778.742873228874, 4771.028295889707, 4763.31371855054, 4755.5991412113735, 4747.884563872207, 4740.169986533039, 4732.4554091938735, 4724.740831854706, 4717.026254515539, 4709.3116771763725, 4701.597099837206, 4693.882522498039, 4686.1679451588725, 4678.453367819706, 4670.738790480539, 4663.0242131413725, 4655.309635802206, 4647.595058463039, 4639.880481123872, 4632.165903784706, 4624.451326445539, 4616.736749106372, 4609.022171767205, 4601.307594428039, 4593.593017088871, 4585.878439749705, 4578.163862410538, 4570.449285071371, 4562.734707732205, 4555.020130393038, 4547.305553053871, 4539.590975714705, 4531.876398375538, 4524.161821036371, 4516.447243697205, 4508.732666358038, 4501.018089018871, 4493.303511679705, 4485.588934340538, 4477.874357001371, 4470.1597796622045, 4462.445202323037, 4454.73062498387, 4447.016047644704, 4439.301470305537, 4431.58689296637, 4423.8723156272035, 4416.157738288037, 4408.44316094887, 4400.7285836097035, 4393.014006270537, 4385.29942893137, 4377.584851592203, 4369.870274253037, 4362.15569691387, 4354.441119574703, 4346.726542235536, 4339.01196489637, 4331.2973875572025, 4323.582810218036, 4315.868232878869, 4308.153655539702, 4300.439078200536, 4292.724500861369, 4285.009923522202, 4277.295346183036, 4269.580768843869, 4261.866191504702, 4254.151614165536, 4246.437036826369, 4238.722459487202, 4231.007882148036, 4223.293304808869, 4215.578727469702], [4993.012319872167, 4985.297742533, 4977.583165193833, 4969.868587854666, 4962.154010515499, 4954.439433176332, 4946.724855837166, 4939.010278497999, 4931.295701158832, 4923.581123819666, 4915.866546480499, 4908.151969141332, 4900.437391802166, 4892.722814462999, 4885.008237123832, 4877.293659784666, 4869.579082445499, 4861.864505106332, 4854.149927767165, 4846.435350427999, 4838.720773088831, 4831.006195749665, 4823.291618410498, 4815.577041071331, 4807.8624637321645, 4800.147886392998, 4792.433309053831, 4784.7187317146645, 4777.004154375498, 4769.289577036331, 4761.5749996971645, 4753.860422357998, 4746.145845018831, 4738.431267679664, 4730.716690340498, 4723.00211300133, 4715.287535662164, 4707.572958322997, 4699.85838098383, 4692.143803644663, 4684.429226305497, 4676.71464896633, 4669.000071627163, 4661.285494287997, 4653.57091694883, 4645.856339609663, 4638.141762270497, 4630.42718493133, 4622.712607592163, 4614.998030252997, 4607.28345291383, 4599.568875574663, 4591.854298235496, 4584.13972089633, 4576.425143557162, 4568.7105662179965, 4560.995988878829, 4553.281411539662, 4545.566834200496, 4537.852256861329, 4530.137679522162, 4522.4231021829955, 4514.708524843829, 4506.993947504662, 4499.2793701654955, 4491.564792826329, 4483.850215487162, 4476.135638147995, 4468.421060808829, 4460.706483469662, 4452.991906130495, 4445.277328791328, 4437.562751452161, 4429.8481741129945, 4422.133596773828, 4414.419019434661, 4406.704442095494, 4398.989864756328, 4391.275287417161, 4383.560710077994, 4375.846132738828, 4368.131555399661, 4360.416978060494, 4352.702400721328, 4344.987823382161, 4337.273246042994, 4329.558668703828, 4321.844091364661, 4314.129514025493, 4306.414936686327, 4298.70035934716, 4290.985782007993, 4283.271204668827, 4275.55662732966, 4267.842049990493, 4260.127472651327, 4252.41289531216, 4244.698317972993, 4236.9837406338265, 4229.26916329466], [5006.702755697124, 4998.988178357958, 4991.273601018791, 4983.559023679624, 4975.844446340458, 4968.129869001291, 4960.415291662124, 4952.7007143229575, 4944.986136983791, 4937.271559644624, 4929.5569823054575, 4921.842404966291, 4914.127827627124, 4906.4132502879565, 4898.69867294879, 4890.984095609623, 4883.2695182704565, 4875.55494093129, 4867.840363592123, 4860.1257862529565, 4852.41120891379, 4844.696631574623, 4836.982054235456, 4829.26747689629, 4821.552899557123, 4813.838322217956, 4806.12374487879, 4798.409167539623, 4790.694590200456, 4782.98001286129, 4775.265435522122, 4767.550858182956, 4759.836280843789, 4752.121703504622, 4744.407126165455, 4736.692548826289, 4728.977971487122, 4721.263394147955, 4713.548816808789, 4705.834239469622, 4698.119662130455, 4690.405084791289, 4682.690507452122, 4674.975930112955, 4667.2613527737885, 4659.546775434622, 4651.832198095455, 4644.117620756288, 4636.403043417122, 4628.688466077954, 4620.9738887387875, 4613.259311399621, 4605.544734060454, 4597.8301567212875, 4590.115579382121, 4582.401002042954, 4574.686424703787, 4566.971847364621, 4559.257270025454, 4551.542692686287, 4543.828115347121, 4536.113538007954, 4528.398960668787, 4520.684383329621, 4512.969805990453, 4505.255228651287, 4497.54065131212, 4489.826073972953, 4482.111496633786, 4474.39691929462, 4466.682341955453, 4458.967764616286, 4451.25318727712, 4443.538609937953, 4435.824032598786, 4428.10945525962, 4420.394877920453, 4412.680300581286, 4404.96572324212, 4397.251145902953, 4389.536568563786, 4381.821991224619, 4374.107413885452, 4366.392836546285, 4358.678259207119, 4350.963681867952, 4343.249104528785, 4335.5345271896185, 4327.819949850452, 4320.105372511285, 4312.3907951721185, 4304.676217832952, 4296.961640493785, 4289.247063154618, 4281.532485815452, 4273.817908476285, 4266.103331137118, 4258.388753797952, 4250.674176458784, 4242.959599119618], [5020.393191522082, 5012.678614182916, 5004.9640368437485, 4997.249459504582, 4989.534882165415, 4981.8203048262485, 4974.105727487082, 4966.391150147915, 4958.6765728087485, 4950.961995469582, 4943.247418130415, 4935.532840791248, 4927.818263452082, 4920.103686112915, 4912.389108773748, 4904.674531434582, 4896.959954095415, 4889.245376756247, 4881.530799417082, 4873.816222077914, 4866.101644738747, 4858.387067399581, 4850.672490060414, 4842.957912721247, 4835.243335382081, 4827.528758042914, 4819.814180703747, 4812.099603364581, 4804.385026025414, 4796.670448686247, 4788.955871347081, 4781.241294007914, 4773.526716668747, 4765.8121393295805, 4758.097561990413, 4750.382984651247, 4742.66840731208, 4734.953829972913, 4727.239252633746, 4719.5246752945795, 4711.810097955413, 4704.095520616246, 4696.3809432770795, 4688.666365937913, 4680.951788598746, 4673.237211259579, 4665.522633920413, 4657.808056581246, 4650.093479242079, 4642.378901902913, 4634.664324563746, 4626.9497472245785, 4619.235169885413, 4611.520592546245, 4603.806015207078, 4596.091437867912, 4588.376860528745, 4580.662283189578, 4572.947705850412, 4565.233128511245, 4557.518551172078, 4549.803973832912, 4542.089396493745, 4534.374819154578, 4526.660241815412, 4518.945664476245, 4511.231087137078, 4503.516509797912, 4495.801932458744, 4488.087355119578, 4480.372777780411, 4472.658200441244, 4464.943623102077, 4457.229045762911, 4449.514468423744, 4441.799891084577, 4434.0853137454105, 4426.370736406244, 4418.656159067077, 4410.9415817279105, 4403.227004388744, 4395.512427049577, 4387.79784971041, 4380.083272371244, 4372.368695032077, 4364.6541176929095, 4356.939540353744, 4349.224963014576, 4341.510385675409, 4333.795808336243, 4326.081230997076, 4318.366653657909, 4310.652076318743, 4302.937498979576, 4295.222921640409, 4287.508344301243, 4279.793766962076, 4272.079189622909, 4264.364612283743, 4256.650034944576], [5034.08362734704, 5026.369050007874, 5018.654472668707, 5010.93989532954, 5003.225317990373, 4995.510740651207, 4987.796163312039, 4980.081585972873, 4972.367008633706, 4964.652431294539, 4956.937853955373, 4949.223276616206, 4941.508699277039, 4933.794121937873, 4926.079544598706, 4918.364967259539, 4910.650389920373, 4902.935812581206, 4895.221235242039, 4887.506657902873, 4879.792080563706, 4872.077503224538, 4864.3629258853725, 4856.648348546205, 4848.933771207038, 4841.219193867872, 4833.504616528705, 4825.790039189538, 4818.0754618503715, 4810.360884511205, 4802.646307172038, 4794.9317298328715, 4787.217152493705, 4779.502575154538, 4771.787997815371, 4764.073420476205, 4756.358843137038, 4748.644265797871, 4740.929688458704, 4733.215111119538, 4725.5005337803705, 4717.785956441204, 4710.071379102037, 4702.35680176287, 4694.642224423704, 4686.927647084537, 4679.21306974537, 4671.498492406204, 4663.783915067037, 4656.06933772787, 4648.354760388704, 4640.640183049537, 4632.92560571037, 4625.211028371204, 4617.496451032037, 4609.781873692869, 4602.067296353704, 4594.352719014536, 4586.638141675369, 4578.923564336203, 4571.208986997036, 4563.494409657869, 4555.779832318703, 4548.065254979536, 4540.350677640369, 4532.6361003012025, 4524.921522962036, 4517.206945622869, 4509.4923682837025, 4501.777790944536, 4494.063213605369, 4486.348636266202, 4478.634058927035, 4470.919481587869, 4463.2049042487015, 4455.490326909535, 4447.775749570368, 4440.061172231201, 4432.346594892035, 4424.632017552868, 4416.917440213701, 4409.202862874535, 4401.488285535368, 4393.773708196201, 4386.059130857035, 4378.344553517868, 4370.629976178701, 4362.915398839535, 4355.200821500368, 4347.4862441612, 4339.771666822035, 4332.057089482867, 4324.3425121437, 4316.627934804534, 4308.913357465367, 4301.1987801262, 4293.484202787034, 4285.769625447867, 4278.0550481087, 4270.340470769534], [5047.774063171998, 5040.059485832831, 5032.344908493665, 5024.630331154498, 5016.915753815331, 5009.201176476165, 5001.486599136998, 4993.772021797831, 4986.057444458665, 4978.342867119498, 4970.628289780331, 4962.9137124411645, 4955.199135101997, 4947.484557762831, 4939.769980423664, 4932.055403084497, 4924.34082574533, 4916.6262484061635, 4908.911671066997, 4901.19709372783, 4893.4825163886635, 4885.767939049497, 4878.05336171033, 4870.3387843711635, 4862.624207031997, 4854.90962969283, 4847.195052353663, 4839.480475014497, 4831.76589767533, 4824.0513203361625, 4816.336742996997, 4808.622165657829, 4800.907588318662, 4793.193010979496, 4785.478433640329, 4777.763856301162, 4770.049278961996, 4762.334701622829, 4754.620124283662, 4746.905546944496, 4739.190969605329, 4731.476392266162, 4723.761814926996, 4716.047237587829, 4708.332660248662, 4700.618082909496, 4692.903505570328, 4685.188928231162, 4677.474350891995, 4669.759773552828, 4662.045196213661, 4654.330618874495, 4646.616041535328, 4638.901464196161, 4631.1868868569945, 4623.472309517828, 4615.757732178661, 4608.0431548394945, 4600.328577500328, 4592.614000161161, 4584.899422821994, 4577.184845482828, 4569.470268143661, 4561.7556908044935, 4554.041113465328, 4546.32653612616, 4538.6119587869935, 4530.897381447827, 4523.18280410866, 4515.468226769493, 4507.753649430327, 4500.03907209116, 4492.324494751993, 4484.609917412827, 4476.89534007366, 4469.180762734493, 4461.466185395327, 4453.75160805616, 4446.037030716993, 4438.322453377827, 4430.607876038659, 4422.893298699493, 4415.178721360326, 4407.464144021159, 4399.749566681992, 4392.034989342826, 4384.320412003659, 4376.605834664492, 4368.891257325326, 4361.176679986159, 4353.462102646992, 4345.7475253078255, 4338.032947968659, 4330.318370629492, 4322.6037932903255, 4314.889215951159, 4307.174638611992, 4299.4600612728245, 4291.745483933659, 4284.030906594491], [5061.4644989969565, 5053.749921657789, 5046.035344318623, 5038.320766979456, 5030.606189640289, 5022.891612301122, 5015.1770349619555, 5007.462457622789, 4999.747880283622, 4992.0333029444555, 4984.318725605289, 4976.604148266122, 4968.8895709269555, 4961.174993587789, 4953.460416248622, 4945.745838909455, 4938.031261570288, 4930.316684231122, 4922.6021068919545, 4914.887529552788, 4907.172952213621, 4899.458374874454, 4891.743797535288, 4884.029220196121, 4876.314642856954, 4868.600065517788, 4860.885488178621, 4853.170910839454, 4845.456333500288, 4837.741756161121, 4830.027178821954, 4822.312601482788, 4814.598024143621, 4806.883446804453, 4799.168869465288, 4791.45429212612, 4783.739714786953, 4776.025137447787, 4768.31056010862, 4760.595982769453, 4752.881405430287, 4745.16682809112, 4737.452250751953, 4729.7376734127865, 4722.02309607362, 4714.308518734453, 4706.5939413952865, 4698.87936405612, 4691.164786716953, 4683.450209377786, 4675.735632038619, 4668.021054699453, 4660.3064773602855, 4652.59190002112, 4644.877322681952, 4637.1627453427855, 4629.448168003619, 4621.733590664452, 4614.019013325285, 4606.304435986119, 4598.589858646952, 4590.875281307785, 4583.160703968619, 4575.446126629452, 4567.731549290285, 4560.016971951119, 4552.302394611952, 4544.587817272785, 4536.873239933619, 4529.158662594451, 4521.444085255284, 4513.729507916118, 4506.014930576951, 4498.300353237784, 4490.585775898618, 4482.871198559451, 4475.156621220284, 4467.442043881118, 4459.727466541951, 4452.012889202784, 4444.2983118636175, 4436.583734524451, 4428.869157185284, 4421.1545798461175, 4413.440002506951, 4405.725425167784, 4398.0108478286165, 4390.29627048945, 4382.581693150283, 4374.8671158111165, 4367.15253847195, 4359.437961132783, 4351.723383793616, 4344.00880645445, 4336.294229115283, 4328.579651776116, 4320.86507443695, 4313.150497097783, 4305.435919758616, 4297.72134241945], [5075.154934821914, 5067.4403574827475, 5059.725780143581, 5052.011202804414, 5044.296625465247, 5036.582048126081, 5028.867470786914, 5021.1528934477465, 5013.438316108581, 5005.723738769413, 4998.009161430246, 4990.29458409108, 4982.580006751913, 4974.865429412746, 4967.15085207358, 4959.436274734413, 4951.721697395246, 4944.00712005608, 4936.292542716913, 4928.577965377746, 4920.86338803858, 4913.148810699413, 4905.434233360246, 4897.71965602108, 4890.005078681913, 4882.290501342746, 4874.575924003579, 4866.861346664412, 4859.146769325245, 4851.432191986079, 4843.717614646912, 4836.003037307745, 4828.2884599685785, 4820.573882629412, 4812.859305290245, 4805.1447279510785, 4797.430150611912, 4789.715573272745, 4782.000995933578, 4774.286418594412, 4766.571841255245, 4758.8572639160775, 4751.142686576912, 4743.428109237744, 4735.713531898578, 4727.998954559411, 4720.284377220244, 4712.569799881077, 4704.855222541911, 4697.140645202744, 4689.426067863577, 4681.711490524411, 4673.996913185244, 4666.282335846077, 4658.567758506911, 4650.853181167744, 4643.138603828577, 4635.424026489411, 4627.709449150244, 4619.994871811077, 4612.28029447191, 4604.565717132743, 4596.851139793576, 4589.13656245441, 4581.421985115243, 4573.707407776076, 4565.99283043691, 4558.278253097743, 4550.563675758576, 4542.8490984194095, 4535.134521080243, 4527.419943741076, 4519.7053664019095, 4511.990789062743, 4504.276211723576, 4496.5616343844085, 4488.847057045243, 4481.132479706075, 4473.4179023669085, 4465.703325027742, 4457.988747688575, 4450.274170349408, 4442.559593010242, 4434.845015671075, 4427.130438331908, 4419.415860992742, 4411.701283653575, 4403.986706314408, 4396.272128975242, 4388.557551636075, 4380.842974296908, 4373.128396957742, 4365.413819618575, 4357.699242279408, 4349.984664940241, 4342.270087601074, 4334.555510261907, 4326.840932922741, 4319.126355583574, 4311.411778244407], [5088.845370646872, 5081.130793307705, 5073.416215968538, 5065.701638629372, 5057.987061290205, 5050.272483951038, 5042.557906611872, 5034.843329272705, 5027.128751933538, 5019.414174594372, 5011.699597255205, 5003.985019916037, 4996.270442576872, 4988.555865237704, 4980.841287898537, 4973.126710559371, 4965.412133220204, 4957.697555881037, 4949.982978541871, 4942.268401202704, 4934.553823863537, 4926.8392465243705, 4919.124669185204, 4911.410091846037, 4903.6955145068705, 4895.980937167704, 4888.266359828537, 4880.55178248937, 4872.837205150204, 4865.122627811037, 4857.4080504718695, 4849.693473132704, 4841.978895793536, 4834.2643184543695, 4826.549741115203, 4818.835163776036, 4811.120586436869, 4803.406009097703, 4795.691431758536, 4787.976854419369, 4780.262277080203, 4772.547699741036, 4764.833122401869, 4757.118545062703, 4749.403967723536, 4741.689390384369, 4733.974813045203, 4726.260235706035, 4718.545658366869, 4710.831081027702, 4703.116503688535, 4695.401926349368, 4687.687349010202, 4679.972771671035, 4672.258194331868, 4664.543616992702, 4656.829039653535, 4649.114462314368, 4641.3998849752015, 4633.685307636035, 4625.970730296868, 4618.2561529577015, 4610.541575618535, 4602.826998279368, 4595.1124209402005, 4587.397843601035, 4579.683266261867, 4571.9686889227005, 4564.254111583534, 4556.539534244367, 4548.8249569052, 4541.110379566034, 4533.395802226867, 4525.6812248877, 4517.966647548534, 4510.252070209367, 4502.5374928702, 4494.822915531034, 4487.108338191867, 4479.3937608527, 4471.679183513534, 4463.964606174366, 4456.250028835199, 4448.535451496033, 4440.820874156866, 4433.106296817699, 4425.391719478533, 4417.677142139366, 4409.962564800199, 4402.247987461033, 4394.533410121866, 4386.818832782699, 4379.104255443533, 4371.389678104366, 4363.675100765199, 4355.9605234260325, 4348.245946086866, 4340.531368747699, 4332.816791408532, 4325.102214069366], [5102.53580647183, 5094.821229132664, 5087.106651793497, 5079.39207445433, 5071.677497115163, 5063.962919775997, 5056.248342436829, 5048.533765097663, 5040.819187758496, 5033.104610419329, 5025.3900330801625, 5017.675455740996, 5009.960878401829, 5002.2463010626625, 4994.531723723496, 4986.817146384329, 4979.102569045162, 4971.387991705996, 4963.673414366829, 4955.958837027662, 4948.244259688496, 4940.529682349328, 4932.815105010162, 4925.100527670995, 4917.385950331828, 4909.671372992661, 4901.956795653495, 4894.242218314328, 4886.527640975161, 4878.813063635995, 4871.098486296828, 4863.383908957661, 4855.669331618495, 4847.954754279328, 4840.240176940161, 4832.525599600995, 4824.811022261828, 4817.096444922661, 4809.381867583494, 4801.667290244328, 4793.95271290516, 4786.238135565994, 4778.523558226827, 4770.80898088766, 4763.094403548494, 4755.379826209327, 4747.66524887016, 4739.9506715309935, 4732.236094191827, 4724.52151685266, 4716.8069395134935, 4709.092362174327, 4701.37778483516, 4693.663207495993, 4685.948630156827, 4678.234052817659, 4670.519475478493, 4662.804898139326, 4655.090320800159, 4647.375743460992, 4639.661166121826, 4631.946588782659, 4624.232011443492, 4616.517434104326, 4608.802856765159, 4601.088279425992, 4593.373702086826, 4585.659124747659, 4577.944547408492, 4570.229970069326, 4562.515392730159, 4554.800815390992, 4547.086238051825, 4539.371660712659, 4531.657083373491, 4523.942506034325, 4516.227928695158, 4508.513351355991, 4500.798774016825, 4493.084196677658, 4485.369619338491, 4477.655041999325, 4469.940464660158, 4462.225887320991, 4454.5113099818245, 4446.796732642658, 4439.082155303491, 4431.3675779643245, 4423.653000625158, 4415.93842328599, 4408.223845946824, 4400.509268607657, 4392.79469126849, 4385.0801139293235, 4377.365536590157, 4369.65095925099, 4361.936381911823, 4354.221804572657, 4346.50722723349, 4338.792649894323], [5116.226242296788, 5108.511664957621, 5100.7970876184545, 5093.082510279288, 5085.367932940121, 5077.6533556009545, 5069.938778261788, 5062.224200922621, 5054.509623583454, 5046.795046244288, 5039.080468905121, 5031.365891565954, 5023.651314226787, 5015.936736887621, 5008.222159548453, 5000.507582209287, 4992.79300487012, 4985.078427530953, 4977.363850191787, 4969.64927285262, 4961.934695513453, 4954.220118174287, 4946.50554083512, 4938.790963495953, 4931.076386156787, 4923.36180881762, 4915.647231478453, 4907.932654139287, 4900.21807680012, 4892.503499460952, 4884.7889221217865, 4877.074344782619, 4869.359767443452, 4861.645190104286, 4853.930612765119, 4846.216035425952, 4838.5014580867855, 4830.786880747619, 4823.072303408452, 4815.3577260692855, 4807.643148730119, 4799.928571390952, 4792.213994051785, 4784.499416712619, 4776.784839373452, 4769.070262034285, 4761.355684695118, 4753.641107355952, 4745.926530016784, 4738.211952677618, 4730.497375338451, 4722.782797999284, 4715.068220660118, 4707.353643320951, 4699.639065981784, 4691.924488642618, 4684.209911303451, 4676.495333964284, 4668.780756625118, 4661.066179285951, 4653.351601946784, 4645.637024607618, 4637.922447268451, 4630.207869929283, 4622.493292590118, 4614.77871525095, 4607.064137911783, 4599.349560572617, 4591.63498323345, 4583.920405894283, 4576.205828555117, 4568.49125121595, 4560.776673876783, 4553.0620965376165, 4545.34751919845, 4537.632941859283, 4529.9183645201165, 4522.20378718095, 4514.489209841783, 4506.774632502616, 4499.060055163449, 4491.345477824283, 4483.6309004851155, 4475.916323145949, 4468.201745806782, 4460.487168467615, 4452.772591128449, 4445.058013789282, 4437.343436450115, 4429.628859110949, 4421.914281771782, 4414.199704432615, 4406.485127093449, 4398.770549754282, 4391.055972415115, 4383.341395075949, 4375.626817736782, 4367.912240397614, 4360.197663058449, 4352.483085719281], [5129.916678121746, 5122.202100782579, 5114.487523443413, 5106.772946104245, 5099.058368765079, 5091.343791425912, 5083.629214086745, 5075.914636747579, 5068.200059408412, 5060.485482069245, 5052.770904730079, 5045.056327390912, 5037.341750051745, 5029.627172712579, 5021.912595373412, 5014.198018034245, 5006.483440695078, 4998.768863355912, 4991.054286016744, 4983.339708677578, 4975.625131338411, 4967.910553999244, 4960.195976660078, 4952.481399320911, 4944.766821981744, 4937.0522446425775, 4929.337667303411, 4921.623089964244, 4913.9085126250775, 4906.193935285911, 4898.479357946744, 4890.764780607577, 4883.050203268411, 4875.335625929243, 4867.621048590077, 4859.90647125091, 4852.191893911743, 4844.4773165725765, 4836.76273923341, 4829.048161894243, 4821.333584555076, 4813.61900721591, 4805.904429876743, 4798.189852537576, 4790.47527519841, 4782.760697859243, 4775.046120520076, 4767.33154318091, 4759.616965841743, 4751.902388502576, 4744.187811163409, 4736.473233824243, 4728.758656485075, 4721.04407914591, 4713.329501806742, 4705.614924467575, 4697.900347128409, 4690.185769789242, 4682.471192450075, 4674.756615110909, 4667.042037771742, 4659.327460432575, 4651.6128830934085, 4643.898305754242, 4636.183728415075, 4628.4691510759085, 4620.754573736742, 4613.039996397575, 4605.325419058408, 4597.610841719241, 4589.896264380074, 4582.1816870409075, 4574.467109701741, 4566.752532362574, 4559.037955023407, 4551.323377684241, 4543.608800345074, 4535.894223005907, 4528.179645666741, 4520.465068327574, 4512.750490988407, 4505.035913649241, 4497.321336310074, 4489.606758970907, 4481.892181631741, 4474.177604292574, 4466.463026953406, 4458.74844961424, 4451.033872275073, 4443.319294935906, 4435.60471759674, 4427.890140257573, 4420.175562918406, 4412.46098557924, 4404.746408240073, 4397.031830900906, 4389.31725356174, 4381.602676222573, 4373.888098883406, 4366.1735215442395], [5143.607113946704, 5135.892536607537, 5128.177959268371, 5120.463381929204, 5112.748804590037, 5105.034227250871, 5097.319649911704, 5089.605072572536, 5081.8904952333705, 5074.175917894203, 5066.461340555037, 5058.74676321587, 5051.032185876703, 5043.317608537536, 5035.6030311983695, 5027.888453859203, 5020.173876520036, 5012.4592991808695, 5004.744721841703, 4997.030144502536, 4989.315567163369, 4981.600989824203, 4973.886412485036, 4966.171835145869, 4958.457257806703, 4950.742680467536, 4943.0281031283685, 4935.313525789202, 4927.598948450035, 4919.884371110868, 4912.169793771702, 4904.455216432535, 4896.740639093368, 4889.026061754202, 4881.311484415035, 4873.596907075868, 4865.882329736702, 4858.167752397535, 4850.453175058368, 4842.738597719202, 4835.024020380035, 4827.309443040867, 4819.594865701702, 4811.880288362534, 4804.165711023368, 4796.451133684201, 4788.736556345034, 4781.021979005867, 4773.307401666701, 4765.592824327534, 4757.878246988367, 4750.1636696492005, 4742.449092310034, 4734.734514970867, 4727.0199376317005, 4719.305360292534, 4711.590782953367, 4703.8762056142, 4696.161628275034, 4688.447050935867, 4680.7324735966995, 4673.017896257533, 4665.303318918366, 4657.588741579199, 4649.874164240033, 4642.159586900866, 4634.445009561699, 4626.730432222533, 4619.015854883366, 4611.301277544199, 4603.586700205033, 4595.872122865866, 4588.157545526699, 4580.442968187533, 4572.728390848366, 4565.013813509198, 4557.299236170033, 4549.584658830865, 4541.870081491698, 4534.155504152532, 4526.440926813365, 4518.726349474198, 4511.011772135032, 4503.297194795865, 4495.582617456698, 4487.868040117532, 4480.153462778365, 4472.438885439198, 4464.7243081000315, 4457.009730760865, 4449.295153421698, 4441.5805760825315, 4433.865998743365, 4426.151421404198, 4418.4368440650305, 4410.722266725864, 4403.007689386697, 4395.2931120475305, 4387.578534708364, 4379.863957369197], [5157.297549771662, 5149.582972432495, 5141.868395093328, 5134.1538177541615, 5126.439240414995, 5118.724663075828, 5111.0100857366615, 5103.295508397495, 5095.580931058328, 5087.866353719161, 5080.151776379995, 5072.437199040827, 5064.722621701661, 5057.008044362494, 5049.293467023328, 5041.5788896841605, 5033.864312344994, 5026.149735005827, 5018.43515766666, 5010.720580327494, 5003.006002988327, 4995.29142564916, 4987.576848309994, 4979.862270970827, 4972.14769363166, 4964.433116292494, 4956.718538953327, 4949.00396161416, 4941.289384274994, 4933.574806935827, 4925.860229596659, 4918.145652257494, 4910.431074918326, 4902.716497579159, 4895.001920239993, 4887.287342900826, 4879.572765561659, 4871.858188222493, 4864.143610883326, 4856.429033544159, 4848.7144562049925, 4840.999878865826, 4833.285301526659, 4825.5707241874925, 4817.856146848326, 4810.141569509159, 4802.426992169992, 4794.712414830825, 4786.997837491659, 4779.2832601524915, 4771.568682813325, 4763.854105474158, 4756.139528134991, 4748.424950795825, 4740.710373456658, 4732.995796117491, 4725.281218778325, 4717.566641439158, 4709.852064099991, 4702.137486760825, 4694.422909421658, 4686.708332082491, 4678.993754743325, 4671.279177404158, 4663.56460006499, 4655.850022725825, 4648.135445386657, 4640.42086804749, 4632.706290708324, 4624.991713369157, 4617.27713602999, 4609.562558690824, 4601.847981351657, 4594.13340401249, 4586.418826673324, 4578.704249334157, 4570.98967199499, 4563.2750946558235, 4555.560517316657, 4547.84593997749, 4540.1313626383235, 4532.416785299156, 4524.702207959989, 4516.9876306208225, 4509.273053281656, 4501.558475942489, 4493.8438986033225, 4486.129321264156, 4478.414743924989, 4470.700166585822, 4462.985589246656, 4455.271011907489, 4447.556434568322, 4439.841857229156, 4432.127279889989, 4424.412702550822, 4416.698125211656, 4408.983547872489, 4401.268970533321, 4393.554393194156], [5170.98798559662, 5163.273408257453, 5155.558830918287, 5147.84425357912, 5140.1296762399525, 5132.415098900787, 5124.700521561619, 5116.985944222452, 5109.271366883286, 5101.556789544119, 5093.842212204952, 5086.127634865786, 5078.413057526619, 5070.698480187452, 5062.983902848286, 5055.269325509119, 5047.554748169952, 5039.840170830786, 5032.125593491619, 5024.411016152451, 5016.696438813286, 5008.981861474118, 5001.267284134952, 4993.552706795785, 4985.838129456618, 4978.123552117451, 4970.408974778285, 4962.694397439118, 4954.979820099951, 4947.2652427607845, 4939.550665421618, 4931.836088082451, 4924.1215107432845, 4916.406933404118, 4908.692356064951, 4900.977778725784, 4893.263201386618, 4885.548624047451, 4877.8340467082835, 4870.119469369118, 4862.40489202995, 4854.690314690783, 4846.975737351617, 4839.26116001245, 4831.546582673283, 4823.832005334117, 4816.11742799495, 4808.402850655783, 4800.688273316617, 4792.97369597745, 4785.259118638283, 4777.544541299117, 4769.82996395995, 4762.115386620783, 4754.400809281617, 4746.686231942449, 4738.971654603283, 4731.257077264116, 4723.542499924949, 4715.827922585782, 4708.113345246616, 4700.398767907449, 4692.684190568282, 4684.969613229116, 4677.255035889949, 4669.540458550782, 4661.8258812116155, 4654.111303872449, 4646.396726533282, 4638.6821491941155, 4630.967571854949, 4623.252994515782, 4615.5384171766145, 4607.823839837449, 4600.109262498281, 4592.3946851591145, 4584.680107819948, 4576.965530480781, 4569.250953141614, 4561.536375802448, 4553.821798463281, 4546.107221124114, 4538.392643784948, 4530.678066445781, 4522.963489106614, 4515.248911767448, 4507.534334428281, 4499.819757089114, 4492.105179749948, 4484.39060241078, 4476.676025071614, 4468.961447732447, 4461.24687039328, 4453.532293054113, 4445.817715714947, 4438.10313837578, 4430.388561036613, 4422.673983697447, 4414.95940635828, 4407.244829019113], [5184.678421421578, 5176.963844082411, 5169.249266743244, 5161.534689404078, 5153.820112064911, 5146.105534725744, 5138.390957386578, 5130.676380047411, 5122.961802708243, 5115.247225369078, 5107.53264802991, 5099.818070690743, 5092.103493351577, 5084.38891601241, 5076.674338673243, 5068.959761334077, 5061.24518399491, 5053.530606655743, 5045.8160293165765, 5038.10145197741, 5030.386874638243, 5022.6722972990765, 5014.95771995991, 5007.243142620743, 4999.528565281576, 4991.813987942409, 4984.099410603243, 4976.3848332640755, 4968.670255924909, 4960.955678585742, 4953.241101246575, 4945.526523907409, 4937.811946568242, 4930.097369229075, 4922.382791889909, 4914.668214550742, 4906.953637211575, 4899.239059872409, 4891.524482533242, 4883.809905194075, 4876.095327854909, 4868.380750515742, 4860.666173176574, 4852.951595837409, 4845.237018498241, 4837.522441159074, 4829.807863819908, 4822.093286480741, 4814.378709141574, 4806.664131802408, 4798.949554463241, 4791.234977124074, 4783.520399784908, 4775.805822445741, 4768.091245106574, 4760.3766677674075, 4752.662090428241, 4744.947513089074, 4737.2329357499075, 4729.51835841074, 4721.803781071574, 4714.0892037324065, 4706.37462639324, 4698.660049054073, 4690.9454717149065, 4683.23089437574, 4675.516317036573, 4667.801739697406, 4660.08716235824, 4652.372585019073, 4644.658007679906, 4636.94343034074, 4629.228853001573, 4621.514275662406, 4613.79969832324, 4606.085120984073, 4598.370543644905, 4590.65596630574, 4582.941388966572, 4575.226811627405, 4567.512234288239, 4559.797656949072, 4552.083079609905, 4544.368502270739, 4536.653924931572, 4528.939347592405, 4521.224770253239, 4513.510192914072, 4505.795615574905, 4498.081038235739, 4490.366460896572, 4482.651883557405, 4474.9373062182385, 4467.222728879071, 4459.508151539905, 4451.793574200738, 4444.078996861571, 4436.364419522404, 4428.6498421832375, 4420.935264844071], [5198.368857246536, 5190.654279907369, 5182.939702568203, 5175.225125229035, 5167.510547889869, 5159.795970550702, 5152.081393211535, 5144.3668158723685, 5136.652238533202, 5128.937661194035, 5121.2230838548685, 5113.508506515702, 5105.793929176535, 5098.079351837368, 5090.364774498202, 5082.650197159035, 5074.9356198198675, 5067.221042480702, 5059.506465141534, 5051.791887802368, 5044.077310463201, 5036.362733124034, 5028.648155784867, 5020.933578445701, 5013.219001106534, 5005.504423767367, 4997.789846428201, 4990.075269089034, 4982.360691749867, 4974.646114410701, 4966.931537071534, 4959.216959732367, 4951.502382393201, 4943.787805054033, 4936.073227714867, 4928.3586503757, 4920.644073036533, 4912.929495697366, 4905.2149183582, 4897.500341019033, 4889.785763679866, 4882.0711863407, 4874.356609001533, 4866.642031662366, 4858.9274543231995, 4851.212876984033, 4843.498299644866, 4835.7837223056995, 4828.069144966533, 4820.354567627366, 4812.6399902881985, 4804.925412949033, 4797.210835609865, 4789.496258270699, 4781.781680931532, 4774.067103592365, 4766.352526253198, 4758.637948914032, 4750.923371574865, 4743.208794235698, 4735.494216896532, 4727.779639557365, 4720.065062218198, 4712.350484879032, 4704.635907539865, 4696.921330200698, 4689.206752861532, 4681.492175522365, 4673.777598183198, 4666.063020844031, 4658.348443504864, 4650.633866165697, 4642.919288826531, 4635.204711487364, 4627.490134148197, 4619.775556809031, 4612.060979469864, 4604.346402130697, 4596.631824791531, 4588.917247452364, 4581.202670113197, 4573.4880927740305, 4565.773515434864, 4558.058938095697, 4550.3443607565305, 4542.629783417364, 4534.915206078196, 4527.2006287390295, 4519.486051399863, 4511.771474060696, 4504.0568967215295, 4496.342319382363, 4488.627742043196, 4480.913164704029, 4473.198587364863, 4465.484010025696, 4457.769432686529, 4450.054855347363, 4442.340278008196, 4434.625700669029], [5212.059293071494, 5204.344715732327, 5196.63013839316, 5188.915561053994, 5181.200983714827, 5173.48640637566, 5165.771829036494, 5158.057251697326, 5150.34267435816, 5142.628097018993, 5134.913519679827, 5127.198942340659, 5119.484365001493, 5111.769787662326, 5104.055210323159, 5096.340632983993, 5088.626055644826, 5080.911478305659, 5073.196900966493, 5065.482323627326, 5057.767746288159, 5050.053168948993, 5042.338591609826, 5034.624014270659, 5026.909436931492, 5019.194859592326, 5011.480282253158, 5003.765704913992, 4996.051127574825, 4988.336550235658, 4980.621972896492, 4972.907395557325, 4965.192818218158, 4957.4782408789915, 4949.763663539825, 4942.049086200658, 4934.3345088614915, 4926.619931522325, 4918.905354183158, 4911.190776843991, 4903.476199504825, 4895.761622165657, 4888.047044826491, 4880.332467487324, 4872.617890148158, 4864.90331280899, 4857.188735469824, 4849.474158130657, 4841.75958079149, 4834.045003452324, 4826.330426113157, 4818.61584877399, 4810.901271434824, 4803.186694095657, 4795.47211675649, 4787.757539417324, 4780.042962078157, 4772.32838473899, 4764.613807399824, 4756.899230060657, 4749.184652721489, 4741.470075382323, 4733.755498043156, 4726.040920703989, 4718.326343364823, 4710.611766025656, 4702.897188686489, 4695.182611347323, 4687.468034008156, 4679.753456668989, 4672.0388793298225, 4664.324301990656, 4656.609724651489, 4648.8951473123225, 4641.180569973156, 4633.465992633988, 4625.751415294822, 4618.036837955655, 4610.322260616488, 4602.6076832773215, 4594.893105938155, 4587.178528598988, 4579.463951259821, 4571.749373920655, 4564.034796581488, 4556.320219242321, 4548.605641903155, 4540.891064563988, 4533.176487224821, 4525.461909885655, 4517.747332546488, 4510.032755207321, 4502.318177868155, 4494.603600528988, 4486.88902318982, 4479.174445850654, 4471.459868511487, 4463.74529117232, 4456.030713833154, 4448.316136493987], [5225.749728896451, 5218.035151557285, 5210.320574218118, 5202.605996878951, 5194.891419539785, 5187.176842200618, 5179.462264861451, 5171.747687522285, 5164.033110183118, 5156.318532843951, 5148.603955504785, 5140.889378165617, 5133.174800826451, 5125.460223487284, 5117.745646148118, 5110.03106880895, 5102.316491469784, 5094.601914130617, 5086.88733679145, 5079.172759452284, 5071.458182113117, 5063.74360477395, 5056.0290274347835, 5048.314450095617, 5040.59987275645, 5032.8852954172835, 5025.170718078117, 5017.45614073895, 5009.7415633997825, 5002.026986060617, 4994.312408721449, 4986.597831382283, 4978.883254043116, 4971.168676703949, 4963.454099364782, 4955.739522025616, 4948.024944686449, 4940.310367347282, 4932.595790008116, 4924.881212668949, 4917.166635329782, 4909.452057990616, 4901.737480651449, 4894.022903312282, 4886.308325973116, 4878.593748633949, 4870.879171294782, 4863.164593955615, 4855.450016616449, 4847.735439277281, 4840.020861938115, 4832.306284598948, 4824.591707259781, 4816.877129920615, 4809.162552581448, 4801.447975242281, 4793.733397903115, 4786.018820563948, 4778.304243224781, 4770.5896658856145, 4762.875088546448, 4755.160511207281, 4747.4459338681145, 4739.731356528948, 4732.01677918978, 4724.302201850614, 4716.587624511447, 4708.87304717228, 4701.1584698331135, 4693.443892493947, 4685.72931515478, 4678.014737815613, 4670.300160476447, 4662.58558313728, 4654.871005798113, 4647.156428458947, 4639.44185111978, 4631.727273780613, 4624.012696441447, 4616.29811910228, 4608.583541763113, 4600.868964423946, 4593.154387084779, 4585.439809745612, 4577.725232406446, 4570.010655067279, 4562.296077728112, 4554.581500388946, 4546.866923049779, 4539.152345710612, 4531.437768371446, 4523.723191032279, 4516.008613693112, 4508.294036353946, 4500.579459014779, 4492.864881675612, 4485.1503043364455, 4477.435726997279, 4469.721149658111, 4462.0065723189455], [5239.44016472141, 5231.725587382243, 5224.011010043077, 5216.29643270391, 5208.581855364742, 5200.8672780255765, 5193.152700686409, 5185.438123347242, 5177.723546008076, 5170.008968668909, 5162.294391329742, 5154.5798139905755, 5146.865236651409, 5139.150659312242, 5131.4360819730755, 5123.721504633909, 5116.006927294742, 5108.292349955575, 5100.577772616409, 5092.863195277241, 5085.148617938075, 5077.434040598908, 5069.719463259742, 5062.004885920574, 5054.290308581408, 5046.575731242241, 5038.861153903074, 5031.146576563908, 5023.431999224741, 5015.717421885574, 5008.002844546408, 5000.288267207241, 4992.573689868074, 4984.859112528908, 4977.144535189741, 4969.429957850574, 4961.715380511408, 4954.000803172241, 4946.286225833073, 4938.571648493908, 4930.85707115474, 4923.142493815573, 4915.427916476407, 4907.71333913724, 4899.998761798073, 4892.284184458907, 4884.56960711974, 4876.855029780573, 4869.1404524414065, 4861.42587510224, 4853.711297763073, 4845.9967204239065, 4838.28214308474, 4830.567565745573, 4822.852988406406, 4815.138411067239, 4807.423833728073, 4799.7092563889055, 4791.994679049739, 4784.280101710572, 4776.565524371405, 4768.850947032239, 4761.136369693072, 4753.421792353905, 4745.707215014739, 4737.992637675572, 4730.278060336405, 4722.563482997239, 4714.848905658072, 4707.134328318905, 4699.419750979739, 4691.705173640572, 4683.990596301404, 4676.276018962239, 4668.561441623071, 4660.846864283904, 4653.132286944738, 4645.417709605571, 4637.703132266404, 4629.988554927238, 4622.273977588071, 4614.559400248904, 4606.844822909738, 4599.130245570571, 4591.415668231404, 4583.7010908922375, 4575.986513553071, 4568.271936213904, 4560.5573588747375, 4552.84278153557, 4545.128204196404, 4537.4136268572365, 4529.69904951807, 4521.984472178903, 4514.2698948397365, 4506.55531750057, 4498.840740161403, 4491.126162822236, 4483.41158548307, 4475.697008143903], [5253.1306005463675, 5245.416023207201, 5237.701445868034, 5229.9868685288675, 5222.272291189701, 5214.557713850534, 5206.843136511367, 5199.128559172201, 5191.413981833033, 5183.699404493867, 5175.9848271547, 5168.270249815533, 5160.555672476366, 5152.8410951372, 5145.126517798033, 5137.411940458866, 5129.6973631197, 5121.982785780533, 5114.268208441366, 5106.5536311022, 5098.839053763033, 5091.124476423866, 5083.4098990847, 5075.695321745533, 5067.980744406366, 5060.266167067199, 5052.551589728033, 5044.837012388865, 5037.122435049699, 5029.407857710532, 5021.693280371365, 5013.978703032199, 5006.264125693032, 4998.549548353865, 4990.834971014699, 4983.120393675532, 4975.405816336365, 4967.6912389971985, 4959.976661658032, 4952.262084318865, 4944.5475069796985, 4936.832929640532, 4929.118352301364, 4921.403774962198, 4913.689197623031, 4905.974620283864, 4898.2600429446975, 4890.545465605531, 4882.830888266364, 4875.116310927197, 4867.401733588031, 4859.687156248864, 4851.972578909697, 4844.258001570531, 4836.543424231364, 4828.828846892197, 4821.114269553031, 4813.399692213864, 4805.685114874697, 4797.97053753553, 4790.255960196364, 4782.541382857196, 4774.82680551803, 4767.112228178863, 4759.397650839696, 4751.68307350053, 4743.968496161363, 4736.253918822196, 4728.53934148303, 4720.824764143863, 4713.110186804696, 4705.39560946553, 4697.681032126363, 4689.966454787196, 4682.2518774480295, 4674.537300108863, 4666.822722769695, 4659.1081454305295, 4651.393568091362, 4643.678990752195, 4635.9644134130285, 4628.249836073862, 4620.535258734695, 4612.8206813955285, 4605.106104056362, 4597.391526717195, 4589.676949378028, 4581.962372038862, 4574.247794699695, 4566.533217360528, 4558.818640021362, 4551.104062682195, 4543.389485343028, 4535.674908003861, 4527.960330664695, 4520.245753325527, 4512.531175986361, 4504.816598647194, 4497.102021308027, 4489.387443968861], [5266.821036371326, 5259.106459032158, 5251.391881692993, 5243.677304353825, 5235.962727014658, 5228.248149675492, 5220.533572336325, 5212.818994997158, 5205.104417657992, 5197.389840318825, 5189.675262979658, 5181.960685640492, 5174.246108301325, 5166.531530962158, 5158.816953622992, 5151.102376283825, 5143.387798944657, 5135.673221605492, 5127.958644266324, 5120.244066927158, 5112.529489587991, 5104.814912248824, 5097.100334909657, 5089.385757570491, 5081.671180231324, 5073.956602892157, 5066.2420255529905, 5058.527448213824, 5050.812870874657, 5043.0982935354905, 5035.383716196324, 5027.669138857157, 5019.95456151799, 5012.239984178823, 5004.525406839657, 4996.8108295004895, 4989.096252161323, 4981.381674822156, 4973.667097482989, 4965.952520143823, 4958.237942804656, 4950.523365465489, 4942.808788126323, 4935.094210787156, 4927.379633447989, 4919.665056108823, 4911.950478769656, 4904.235901430489, 4896.521324091323, 4888.806746752156, 4881.092169412988, 4873.377592073823, 4865.663014734655, 4857.948437395489, 4850.233860056322, 4842.519282717155, 4834.804705377988, 4827.090128038822, 4819.375550699655, 4811.660973360488, 4803.946396021322, 4796.231818682155, 4788.517241342988, 4780.8026640038215, 4773.088086664655, 4765.373509325488, 4757.6589319863215, 4749.944354647155, 4742.229777307988, 4734.5151999688205, 4726.800622629654, 4719.086045290487, 4711.3714679513205, 4703.656890612154, 4695.942313272987, 4688.22773593382, 4680.513158594654, 4672.798581255487, 4665.08400391632, 4657.369426577154, 4649.654849237987, 4641.94027189882, 4634.225694559654, 4626.511117220487, 4618.79653988132, 4611.081962542154, 4603.367385202986, 4595.652807863819, 4587.938230524653, 4580.223653185486, 4572.509075846319, 4564.794498507153, 4557.079921167986, 4549.365343828819, 4541.650766489653, 4533.936189150486, 4526.221611811319, 4518.507034472153, 4510.792457132986, 4503.077879793819], [5280.511472196284, 5272.796894857117, 5265.08231751795, 5257.367740178783, 5249.653162839617, 5241.938585500449, 5234.224008161284, 5226.509430822116, 5218.794853482949, 5211.080276143783, 5203.365698804616, 5195.651121465449, 5187.936544126283, 5180.221966787116, 5172.507389447949, 5164.7928121087825, 5157.078234769616, 5149.363657430449, 5141.6490800912825, 5133.934502752116, 5126.219925412948, 5118.505348073782, 5110.790770734615, 5103.076193395449, 5095.3616160562815, 5087.647038717115, 5079.932461377948, 5072.217884038781, 5064.503306699615, 5056.788729360448, 5049.074152021281, 5041.359574682115, 5033.644997342948, 5025.930420003781, 5018.215842664615, 5010.501265325448, 5002.786687986281, 4995.072110647114, 4987.357533307948, 4979.64295596878, 4971.928378629614, 4964.213801290447, 4956.49922395128, 4948.784646612114, 4941.070069272947, 4933.35549193378, 4925.640914594614, 4917.926337255447, 4910.21175991628, 4902.497182577114, 4894.782605237947, 4887.06802789878, 4879.3534505596135, 4871.638873220447, 4863.924295881279, 4856.2097185421135, 4848.495141202946, 4840.780563863779, 4833.0659865246125, 4825.351409185446, 4817.636831846279, 4809.9222545071125, 4802.207677167946, 4794.493099828779, 4786.778522489612, 4779.063945150446, 4771.349367811279, 4763.634790472112, 4755.920213132946, 4748.205635793779, 4740.491058454612, 4732.776481115446, 4725.061903776279, 4717.347326437111, 4709.632749097945, 4701.918171758778, 4694.203594419611, 4686.489017080445, 4678.774439741278, 4671.059862402111, 4663.345285062945, 4655.630707723778, 4647.916130384611, 4640.201553045445, 4632.486975706278, 4624.772398367111, 4617.057821027945, 4609.343243688778, 4601.628666349611, 4593.9140890104445, 4586.199511671277, 4578.48493433211, 4570.770356992944, 4563.055779653777, 4555.34120231461, 4547.6266249754435, 4539.912047636277, 4532.19747029711, 4524.4828929579435, 4516.768315618777], [5294.201908021241, 5286.487330682075, 5278.772753342908, 5271.058176003741, 5263.3435986645745, 5255.629021325408, 5247.914443986241, 5240.1998666470745, 5232.485289307908, 5224.770711968741, 5217.056134629574, 5209.341557290407, 5201.626979951241, 5193.9124026120735, 5186.197825272908, 5178.48324793374, 5170.768670594573, 5163.054093255407, 5155.33951591624, 5147.624938577073, 5139.910361237907, 5132.19578389874, 5124.481206559573, 5116.766629220407, 5109.05205188124, 5101.337474542073, 5093.622897202907, 5085.90831986374, 5078.193742524572, 5070.479165185407, 5062.764587846239, 5055.050010507073, 5047.335433167906, 5039.620855828739, 5031.906278489572, 5024.191701150406, 5016.477123811239, 5008.762546472072, 5001.047969132906, 4993.333391793739, 4985.618814454572, 4977.9042371154055, 4970.189659776239, 4962.475082437072, 4954.7605050979055, 4947.045927758739, 4939.331350419572, 4931.6167730804045, 4923.902195741239, 4916.187618402071, 4908.4730410629045, 4900.758463723738, 4893.043886384571, 4885.329309045404, 4877.614731706238, 4869.900154367071, 4862.185577027904, 4854.470999688738, 4846.756422349571, 4839.041845010404, 4831.327267671238, 4823.612690332071, 4815.898112992904, 4808.183535653738, 4800.46895831457, 4792.754380975404, 4785.039803636237, 4777.32522629707, 4769.610648957903, 4761.896071618737, 4754.18149427957, 4746.466916940403, 4738.752339601237, 4731.03776226207, 4723.323184922903, 4715.608607583737, 4707.89403024457, 4700.179452905403, 4692.4648755662365, 4684.75029822707, 4677.035720887903, 4669.321143548736, 4661.606566209569, 4653.891988870402, 4646.1774115312355, 4638.462834192069, 4630.748256852902, 4623.0336795137355, 4615.319102174569, 4607.604524835402, 4599.889947496235, 4592.175370157069, 4584.460792817902, 4576.746215478735, 4569.031638139569, 4561.317060800402, 4553.602483461235, 4545.887906122069, 4538.173328782901, 4530.458751443735], [5307.892343846199, 5300.177766507033, 5292.4631891678655, 5284.748611828699, 5277.034034489532, 5269.319457150365, 5261.604879811199, 5253.890302472032, 5246.175725132865, 5238.461147793699, 5230.746570454532, 5223.031993115365, 5215.317415776199, 5207.602838437032, 5199.888261097865, 5192.173683758698, 5184.459106419532, 5176.744529080364, 5169.029951741199, 5161.315374402031, 5153.600797062864, 5145.886219723698, 5138.171642384531, 5130.457065045364, 5122.742487706198, 5115.027910367031, 5107.313333027864, 5099.598755688698, 5091.884178349531, 5084.169601010364, 5076.4550236711975, 5068.740446332031, 5061.025868992863, 5053.3112916536975, 5045.59671431453, 5037.882136975364, 5030.1675596361965, 5022.45298229703, 5014.738404957863, 5007.0238276186965, 4999.30925027953, 4991.594672940363, 4983.880095601196, 4976.16551826203, 4968.450940922863, 4960.736363583696, 4953.02178624453, 4945.307208905363, 4937.592631566196, 4929.87805422703, 4922.163476887863, 4914.448899548695, 4906.73432220953, 4899.019744870362, 4891.305167531195, 4883.590590192029, 4875.876012852862, 4868.161435513695, 4860.446858174529, 4852.732280835362, 4845.017703496195, 4837.303126157029, 4829.588548817862, 4821.873971478695, 4814.159394139529, 4806.444816800362, 4798.730239461195, 4791.0156621220285, 4783.301084782861, 4775.586507443695, 4767.871930104528, 4760.157352765361, 4752.442775426194, 4744.7281980870275, 4737.013620747861, 4729.299043408694, 4721.5844660695275, 4713.869888730361, 4706.155311391194, 4698.440734052027, 4690.726156712861, 4683.011579373694, 4675.297002034527, 4667.582424695361, 4659.867847356194, 4652.153270017026, 4644.438692677861, 4636.724115338693, 4629.009537999526, 4621.29496066036, 4613.580383321193, 4605.865805982026, 4598.15122864286, 4590.436651303693, 4582.722073964526, 4575.00749662536, 4567.292919286193, 4559.578341947026, 4551.86376460786, 4544.149187268693], [5321.582779671157, 5313.868202331991, 5306.153624992824, 5298.439047653657, 5290.724470314491, 5283.009892975324, 5275.295315636157, 5267.580738296991, 5259.866160957823, 5252.151583618657, 5244.43700627949, 5236.722428940323, 5229.007851601156, 5221.29327426199, 5213.578696922823, 5205.864119583656, 5198.14954224449, 5190.434964905323, 5182.720387566156, 5175.0058102269895, 5167.291232887823, 5159.576655548656, 5151.8620782094895, 5144.147500870323, 5136.432923531156, 5128.7183461919885, 5121.003768852823, 5113.289191513655, 5105.5746141744885, 5097.860036835322, 5090.145459496155, 5082.430882156988, 5074.716304817822, 5067.001727478655, 5059.287150139488, 5051.572572800322, 5043.857995461155, 5036.143418121988, 5028.428840782822, 5020.714263443655, 5012.999686104487, 5005.285108765322, 4997.570531426154, 4989.855954086988, 4982.141376747821, 4974.426799408654, 4966.712222069487, 4958.997644730321, 4951.283067391154, 4943.568490051987, 4935.853912712821, 4928.139335373654, 4920.424758034487, 4912.710180695321, 4904.995603356154, 4897.281026016987, 4889.5664486778205, 4881.851871338654, 4874.137293999487, 4866.42271666032, 4858.708139321154, 4850.993561981986, 4843.2789846428195, 4835.564407303653, 4827.849829964486, 4820.1352526253195, 4812.420675286153, 4804.706097946986, 4796.991520607819, 4789.276943268653, 4781.562365929486, 4773.847788590319, 4766.133211251153, 4758.418633911986, 4750.704056572819, 4742.989479233653, 4735.274901894485, 4727.560324555319, 4719.845747216152, 4712.131169876985, 4704.416592537818, 4696.702015198652, 4688.987437859485, 4681.272860520318, 4673.558283181152, 4665.843705841985, 4658.129128502818, 4650.414551163652, 4642.699973824485, 4634.985396485318, 4627.270819146152, 4619.556241806985, 4611.841664467818, 4604.127087128651, 4596.412509789485, 4588.697932450317, 4580.983355111151, 4573.268777771984, 4565.554200432817, 4557.8396230936505], [5335.273215496115, 5327.558638156948, 5319.844060817782, 5312.129483478615, 5304.414906139448, 5296.700328800282, 5288.985751461115, 5281.271174121948, 5273.5565967827815, 5265.842019443615, 5258.127442104448, 5250.4128647652815, 5242.698287426114, 5234.983710086948, 5227.2691327477805, 5219.554555408615, 5211.839978069447, 5204.1254007302805, 5196.410823391114, 5188.696246051947, 5180.98166871278, 5173.267091373614, 5165.552514034447, 5157.83793669528, 5150.123359356114, 5142.408782016947, 5134.69420467778, 5126.979627338614, 5119.265049999447, 5111.550472660279, 5103.835895321114, 5096.121317981946, 5088.40674064278, 5080.692163303613, 5072.977585964446, 5065.263008625279, 5057.548431286113, 5049.833853946946, 5042.119276607779, 5034.404699268613, 5026.690121929446, 5018.975544590279, 5011.260967251113, 5003.546389911946, 4995.831812572779, 4988.1172352336125, 4980.402657894445, 4972.688080555279, 4964.973503216112, 4957.258925876945, 4949.544348537778, 4941.8297711986115, 4934.115193859445, 4926.400616520278, 4918.6860391811115, 4910.971461841945, 4903.256884502778, 4895.542307163611, 4887.827729824445, 4880.113152485278, 4872.398575146111, 4864.683997806945, 4856.969420467778, 4849.25484312861, 4841.540265789445, 4833.825688450277, 4826.11111111111, 4818.396533771944, 4810.681956432777, 4802.96737909361, 4795.252801754444, 4787.538224415277, 4779.82364707611, 4772.109069736944, 4764.394492397777, 4756.67991505861, 4748.965337719444, 4741.250760380277, 4733.53618304111, 4725.821605701944, 4718.107028362776, 4710.39245102361, 4702.677873684443, 4694.963296345276, 4687.248719006109, 4679.534141666943, 4671.819564327776, 4664.104986988609, 4656.3904096494425, 4648.675832310276, 4640.961254971109, 4633.2466776319425, 4625.532100292776, 4617.817522953609, 4610.102945614442, 4602.388368275276, 4594.673790936109, 4586.9592135969415, 4579.244636257776, 4571.530058918608]]}],\n",
              "                        {\"height\": 600, \"legend\": {\"tracegroupgap\": 0}, \"scene\": {\"domain\": {\"x\": [0.0, 0.98], \"y\": [0.0, 1.0]}, \"xaxis\": {\"title\": {\"text\": \"pets_allowed\"}}, \"yaxis\": {\"title\": {\"text\": \"new_construction\"}}, \"zaxis\": {\"title\": {\"text\": \"price\"}}}, \"template\": {\"data\": {\"bar\": [{\"error_x\": {\"color\": \"#2a3f5f\"}, \"error_y\": {\"color\": \"#2a3f5f\"}, \"marker\": {\"line\": {\"color\": \"#E5ECF6\", \"width\": 0.5}}, \"type\": \"bar\"}], \"barpolar\": [{\"marker\": {\"line\": {\"color\": \"#E5ECF6\", \"width\": 0.5}}, \"type\": \"barpolar\"}], \"carpet\": [{\"aaxis\": {\"endlinecolor\": \"#2a3f5f\", \"gridcolor\": \"white\", \"linecolor\": \"white\", \"minorgridcolor\": \"white\", \"startlinecolor\": \"#2a3f5f\"}, \"baxis\": {\"endlinecolor\": \"#2a3f5f\", \"gridcolor\": \"white\", \"linecolor\": \"white\", \"minorgridcolor\": \"white\", \"startlinecolor\": \"#2a3f5f\"}, \"type\": \"carpet\"}], \"choropleth\": [{\"colorbar\": {\"outlinewidth\": 0, \"ticks\": \"\"}, \"type\": \"choropleth\"}], \"contour\": [{\"colorbar\": {\"outlinewidth\": 0, \"ticks\": \"\"}, \"colorscale\": [[0.0, \"#0d0887\"], [0.1111111111111111, \"#46039f\"], [0.2222222222222222, \"#7201a8\"], [0.3333333333333333, \"#9c179e\"], [0.4444444444444444, \"#bd3786\"], [0.5555555555555556, \"#d8576b\"], [0.6666666666666666, \"#ed7953\"], [0.7777777777777778, \"#fb9f3a\"], [0.8888888888888888, \"#fdca26\"], [1.0, \"#f0f921\"]], \"type\": \"contour\"}], \"contourcarpet\": [{\"colorbar\": {\"outlinewidth\": 0, \"ticks\": \"\"}, \"type\": \"contourcarpet\"}], \"heatmap\": [{\"colorbar\": {\"outlinewidth\": 0, \"ticks\": \"\"}, \"colorscale\": [[0.0, \"#0d0887\"], [0.1111111111111111, \"#46039f\"], [0.2222222222222222, \"#7201a8\"], [0.3333333333333333, \"#9c179e\"], [0.4444444444444444, \"#bd3786\"], [0.5555555555555556, \"#d8576b\"], [0.6666666666666666, \"#ed7953\"], [0.7777777777777778, \"#fb9f3a\"], [0.8888888888888888, \"#fdca26\"], [1.0, \"#f0f921\"]], \"type\": \"heatmap\"}], \"heatmapgl\": [{\"colorbar\": {\"outlinewidth\": 0, \"ticks\": \"\"}, \"colorscale\": [[0.0, \"#0d0887\"], [0.1111111111111111, \"#46039f\"], [0.2222222222222222, \"#7201a8\"], [0.3333333333333333, \"#9c179e\"], [0.4444444444444444, \"#bd3786\"], [0.5555555555555556, \"#d8576b\"], [0.6666666666666666, \"#ed7953\"], [0.7777777777777778, \"#fb9f3a\"], [0.8888888888888888, \"#fdca26\"], [1.0, \"#f0f921\"]], \"type\": \"heatmapgl\"}], \"histogram\": [{\"marker\": {\"colorbar\": {\"outlinewidth\": 0, \"ticks\": \"\"}}, \"type\": \"histogram\"}], \"histogram2d\": [{\"colorbar\": {\"outlinewidth\": 0, \"ticks\": \"\"}, \"colorscale\": [[0.0, \"#0d0887\"], [0.1111111111111111, \"#46039f\"], [0.2222222222222222, \"#7201a8\"], [0.3333333333333333, \"#9c179e\"], [0.4444444444444444, \"#bd3786\"], [0.5555555555555556, \"#d8576b\"], [0.6666666666666666, \"#ed7953\"], [0.7777777777777778, \"#fb9f3a\"], [0.8888888888888888, \"#fdca26\"], [1.0, \"#f0f921\"]], \"type\": \"histogram2d\"}], \"histogram2dcontour\": [{\"colorbar\": {\"outlinewidth\": 0, \"ticks\": \"\"}, \"colorscale\": [[0.0, \"#0d0887\"], [0.1111111111111111, \"#46039f\"], [0.2222222222222222, \"#7201a8\"], [0.3333333333333333, \"#9c179e\"], [0.4444444444444444, \"#bd3786\"], [0.5555555555555556, \"#d8576b\"], [0.6666666666666666, \"#ed7953\"], [0.7777777777777778, \"#fb9f3a\"], [0.8888888888888888, \"#fdca26\"], [1.0, \"#f0f921\"]], \"type\": \"histogram2dcontour\"}], \"mesh3d\": [{\"colorbar\": {\"outlinewidth\": 0, \"ticks\": \"\"}, \"type\": \"mesh3d\"}], \"parcoords\": [{\"line\": {\"colorbar\": {\"outlinewidth\": 0, \"ticks\": \"\"}}, \"type\": \"parcoords\"}], \"scatter\": [{\"marker\": {\"colorbar\": {\"outlinewidth\": 0, \"ticks\": \"\"}}, \"type\": \"scatter\"}], \"scatter3d\": [{\"line\": {\"colorbar\": {\"outlinewidth\": 0, \"ticks\": \"\"}}, \"marker\": {\"colorbar\": {\"outlinewidth\": 0, \"ticks\": \"\"}}, \"type\": \"scatter3d\"}], \"scattercarpet\": [{\"marker\": {\"colorbar\": {\"outlinewidth\": 0, \"ticks\": \"\"}}, \"type\": \"scattercarpet\"}], \"scattergeo\": [{\"marker\": {\"colorbar\": {\"outlinewidth\": 0, \"ticks\": \"\"}}, \"type\": \"scattergeo\"}], \"scattergl\": [{\"marker\": {\"colorbar\": {\"outlinewidth\": 0, \"ticks\": \"\"}}, \"type\": \"scattergl\"}], \"scattermapbox\": [{\"marker\": {\"colorbar\": {\"outlinewidth\": 0, \"ticks\": \"\"}}, \"type\": \"scattermapbox\"}], \"scatterpolar\": [{\"marker\": {\"colorbar\": {\"outlinewidth\": 0, \"ticks\": \"\"}}, \"type\": \"scatterpolar\"}], \"scatterpolargl\": [{\"marker\": {\"colorbar\": {\"outlinewidth\": 0, \"ticks\": \"\"}}, \"type\": \"scatterpolargl\"}], \"scatterternary\": [{\"marker\": {\"colorbar\": {\"outlinewidth\": 0, \"ticks\": \"\"}}, \"type\": \"scatterternary\"}], \"surface\": [{\"colorbar\": {\"outlinewidth\": 0, \"ticks\": \"\"}, \"colorscale\": [[0.0, \"#0d0887\"], [0.1111111111111111, \"#46039f\"], [0.2222222222222222, \"#7201a8\"], [0.3333333333333333, \"#9c179e\"], [0.4444444444444444, \"#bd3786\"], [0.5555555555555556, \"#d8576b\"], [0.6666666666666666, \"#ed7953\"], [0.7777777777777778, \"#fb9f3a\"], [0.8888888888888888, \"#fdca26\"], [1.0, \"#f0f921\"]], \"type\": \"surface\"}], \"table\": [{\"cells\": {\"fill\": {\"color\": \"#EBF0F8\"}, \"line\": {\"color\": \"white\"}}, \"header\": {\"fill\": {\"color\": \"#C8D4E3\"}, \"line\": {\"color\": \"white\"}}, \"type\": \"table\"}]}, \"layout\": {\"annotationdefaults\": {\"arrowcolor\": \"#2a3f5f\", \"arrowhead\": 0, \"arrowwidth\": 1}, \"colorscale\": {\"diverging\": [[0, \"#8e0152\"], [0.1, \"#c51b7d\"], [0.2, \"#de77ae\"], [0.3, \"#f1b6da\"], [0.4, \"#fde0ef\"], [0.5, \"#f7f7f7\"], [0.6, \"#e6f5d0\"], [0.7, \"#b8e186\"], [0.8, \"#7fbc41\"], [0.9, \"#4d9221\"], [1, \"#276419\"]], \"sequential\": [[0.0, \"#0d0887\"], [0.1111111111111111, \"#46039f\"], [0.2222222222222222, \"#7201a8\"], [0.3333333333333333, \"#9c179e\"], [0.4444444444444444, \"#bd3786\"], [0.5555555555555556, \"#d8576b\"], [0.6666666666666666, \"#ed7953\"], [0.7777777777777778, \"#fb9f3a\"], [0.8888888888888888, \"#fdca26\"], [1.0, \"#f0f921\"]], \"sequentialminus\": [[0.0, \"#0d0887\"], [0.1111111111111111, \"#46039f\"], [0.2222222222222222, \"#7201a8\"], [0.3333333333333333, \"#9c179e\"], [0.4444444444444444, \"#bd3786\"], [0.5555555555555556, \"#d8576b\"], [0.6666666666666666, \"#ed7953\"], [0.7777777777777778, \"#fb9f3a\"], [0.8888888888888888, \"#fdca26\"], [1.0, \"#f0f921\"]]}, \"colorway\": [\"#636efa\", \"#EF553B\", \"#00cc96\", \"#ab63fa\", \"#FFA15A\", \"#19d3f3\", \"#FF6692\", \"#B6E880\", \"#FF97FF\", \"#FECB52\"], \"font\": {\"color\": \"#2a3f5f\"}, \"geo\": {\"bgcolor\": \"white\", \"lakecolor\": \"white\", \"landcolor\": \"#E5ECF6\", \"showlakes\": true, \"showland\": true, \"subunitcolor\": \"white\"}, \"hoverlabel\": {\"align\": \"left\"}, \"hovermode\": \"closest\", \"mapbox\": {\"style\": \"light\"}, \"paper_bgcolor\": \"white\", \"plot_bgcolor\": \"#E5ECF6\", \"polar\": {\"angularaxis\": {\"gridcolor\": \"white\", \"linecolor\": \"white\", \"ticks\": \"\"}, \"bgcolor\": \"#E5ECF6\", \"radialaxis\": {\"gridcolor\": \"white\", \"linecolor\": \"white\", \"ticks\": \"\"}}, \"scene\": {\"xaxis\": {\"backgroundcolor\": \"#E5ECF6\", \"gridcolor\": \"white\", \"gridwidth\": 2, \"linecolor\": \"white\", \"showbackground\": true, \"ticks\": \"\", \"zerolinecolor\": \"white\"}, \"yaxis\": {\"backgroundcolor\": \"#E5ECF6\", \"gridcolor\": \"white\", \"gridwidth\": 2, \"linecolor\": \"white\", \"showbackground\": true, \"ticks\": \"\", \"zerolinecolor\": \"white\"}, \"zaxis\": {\"backgroundcolor\": \"#E5ECF6\", \"gridcolor\": \"white\", \"gridwidth\": 2, \"linecolor\": \"white\", \"showbackground\": true, \"ticks\": \"\", \"zerolinecolor\": \"white\"}}, \"shapedefaults\": {\"line\": {\"color\": \"#2a3f5f\"}}, \"ternary\": {\"aaxis\": {\"gridcolor\": \"white\", \"linecolor\": \"white\", \"ticks\": \"\"}, \"baxis\": {\"gridcolor\": \"white\", \"linecolor\": \"white\", \"ticks\": \"\"}, \"bgcolor\": \"#E5ECF6\", \"caxis\": {\"gridcolor\": \"white\", \"linecolor\": \"white\", \"ticks\": \"\"}}, \"title\": {\"x\": 0.05}, \"xaxis\": {\"automargin\": true, \"gridcolor\": \"white\", \"linecolor\": \"white\", \"ticks\": \"\", \"zerolinecolor\": \"white\", \"zerolinewidth\": 2}, \"yaxis\": {\"automargin\": true, \"gridcolor\": \"white\", \"linecolor\": \"white\", \"ticks\": \"\", \"zerolinecolor\": \"white\", \"zerolinewidth\": 2}}}, \"title\": {\"text\": \"Rentals, April-June 2016\"}},\n",
              "                        {\"responsive\": true}\n",
              "                    ).then(function(){\n",
              "                            \n",
              "var gd = document.getElementById('d4f18e3c-146c-40e9-975d-ddb75c83d548');\n",
              "var x = new MutationObserver(function (mutations, observer) {{\n",
              "        var display = window.getComputedStyle(gd).display;\n",
              "        if (!display || display === 'none') {{\n",
              "            console.log([gd, 'removed!']);\n",
              "            Plotly.purge(gd);\n",
              "            observer.disconnect();\n",
              "        }}\n",
              "}});\n",
              "\n",
              "// Listen for the removal of the full notebook cells\n",
              "var notebookContainer = gd.closest('#notebook-container');\n",
              "if (notebookContainer) {{\n",
              "    x.observe(notebookContainer, {childList: true});\n",
              "}}\n",
              "\n",
              "// Listen for the clearing of the current output cell\n",
              "var outputEl = gd.closest('.output');\n",
              "if (outputEl) {{\n",
              "    x.observe(outputEl, {childList: true});\n",
              "}}\n",
              "\n",
              "                        })\n",
              "                };\n",
              "                \n",
              "            </script>\n",
              "        </div>\n",
              "</body>\n",
              "</html>"
            ]
          },
          "metadata": {
            "tags": []
          }
        }
      ]
    },
    {
      "cell_type": "markdown",
      "metadata": {
        "id": "p4xndaHWAsR3",
        "colab_type": "text"
      },
      "source": [
        "**Get the model's coefficients and intercept.**\n"
      ]
    },
    {
      "cell_type": "code",
      "metadata": {
        "id": "G_2_sW03v-yj",
        "colab_type": "code",
        "colab": {}
      },
      "source": [
        "# Arrange y target vectors\n",
        "target = 'price'\n",
        "y_train = train[target]\n",
        "y_test = test[target]"
      ],
      "execution_count": 0,
      "outputs": []
    },
    {
      "cell_type": "code",
      "metadata": {
        "id": "d51CGTCNvKSB",
        "colab_type": "code",
        "colab": {}
      },
      "source": [
        "# 1. Import the appropriate estimator class from Scikit-Learn\n",
        "from sklearn.linear_model import LinearRegression"
      ],
      "execution_count": 0,
      "outputs": []
    },
    {
      "cell_type": "code",
      "metadata": {
        "id": "GlWqHeYavKf1",
        "colab_type": "code",
        "colab": {}
      },
      "source": [
        "# 2. Instantiate this class\n",
        "model = LinearRegression()"
      ],
      "execution_count": 0,
      "outputs": []
    },
    {
      "cell_type": "code",
      "metadata": {
        "id": "6F3kUEYtvKrx",
        "colab_type": "code",
        "outputId": "5f81ece2-01fc-44cf-f62e-07a34726977f",
        "colab": {
          "base_uri": "https://localhost:8080/",
          "height": 34
        }
      },
      "source": [
        "# 3. Arrange X features matrices (already did y target vectors)\n",
        "features = ['pets_allowed', 'new_construction']\n",
        "X_train = train[features]\n",
        "X_test = test[features]\n",
        "print(f'Linear Regression, dependent on: {features}')"
      ],
      "execution_count": 25,
      "outputs": [
        {
          "output_type": "stream",
          "text": [
            "Linear Regression, dependent on: ['pets_allowed', 'new_construction']\n"
          ],
          "name": "stdout"
        }
      ]
    },
    {
      "cell_type": "code",
      "metadata": {
        "id": "ZRaXm1AhvK3U",
        "colab_type": "code",
        "outputId": "813a7621-34dc-45cd-9dde-443f22e59274",
        "colab": {
          "base_uri": "https://localhost:8080/",
          "height": 34
        }
      },
      "source": [
        "# 4. Fit the model\n",
        "model.fit(X_train, y_train)\n",
        "y_pred = model.predict(X_train)\n",
        "mae = mean_absolute_error(y_train, y_pred)\n",
        "print(f'Train Error: {mae:.2f} percentage points')"
      ],
      "execution_count": 26,
      "outputs": [
        {
          "output_type": "stream",
          "text": [
            "Train Error: 1444.34 percentage points\n"
          ],
          "name": "stdout"
        }
      ]
    },
    {
      "cell_type": "code",
      "metadata": {
        "id": "GCM1dS0FvLBn",
        "colab_type": "code",
        "colab": {}
      },
      "source": [
        ""
      ],
      "execution_count": 0,
      "outputs": []
    },
    {
      "cell_type": "code",
      "metadata": {
        "id": "BEIADpzkBAFm",
        "colab_type": "code",
        "outputId": "4d85a74e-a017-401c-c24a-5dd8eef320a6",
        "colab": {
          "base_uri": "https://localhost:8080/",
          "height": 34
        }
      },
      "source": [
        "model.intercept_, model.coef_"
      ],
      "execution_count": 27,
      "outputs": [
        {
          "output_type": "execute_result",
          "data": {
            "text/plain": [
              "(3979.9200688252777, array([-381.87157829, 1355.35314667]))"
            ]
          },
          "metadata": {
            "tags": []
          },
          "execution_count": 27
        }
      ]
    },
    {
      "cell_type": "code",
      "metadata": {
        "id": "XTp_TsRQalS6",
        "colab_type": "code",
        "outputId": "73201be3-60fa-4e1d-a197-d814654bb23b",
        "colab": {
          "base_uri": "https://localhost:8080/",
          "height": 34
        }
      },
      "source": [
        "beta0 = model.intercept_\n",
        "beta1, beta2 = model.coef_\n",
        "print(f'y = {beta0} + {beta1}x1 + {beta2}x2')"
      ],
      "execution_count": 28,
      "outputs": [
        {
          "output_type": "stream",
          "text": [
            "y = 3979.9200688252777 + -381.8715782887533x1 + 1355.3531466708375x2\n"
          ],
          "name": "stdout"
        }
      ]
    },
    {
      "cell_type": "markdown",
      "metadata": {
        "id": "XeCJubVKAse1",
        "colab_type": "text"
      },
      "source": [
        "**Get regression metrics RMSE, MAE, and  R2 , for both the train and test data.**\n"
      ]
    },
    {
      "cell_type": "code",
      "metadata": {
        "id": "vHWy02WI2GMP",
        "colab_type": "code",
        "colab": {}
      },
      "source": [
        "from matplotlib.patches import Rectangle\n",
        "import matplotlib.pyplot as plt\n",
        "import numpy as np\n",
        "from sklearn.metrics import mean_absolute_error, mean_squared_error, r2_score\n",
        "\n",
        "def squared_errors(df, feature, target, m, b):\n",
        "    \"\"\"\n",
        "    Visualize linear regression, with squared errors,\n",
        "    in 2D: 1 feature + 1 target.\n",
        "    \n",
        "    Use the m & b parameters to \"fit the model\" manually.\n",
        "    \n",
        "    df : Pandas DataFrame\n",
        "    feature : string, feature column in df\n",
        "    target : string, target column in df\n",
        "    m : numeric, slope for linear equation\n",
        "    b : numeric, intercept for linear requation\n",
        "    \"\"\"\n",
        "   # Plot data\n",
        "    fig = plt.figure(figsize=(7,7))\n",
        "    ax = plt.axes()\n",
        "    df.plot.scatter(feature, target, ax=ax)\n",
        "    \n",
        "    # Make predictions\n",
        "    x = df[feature]\n",
        "    y = df[target]\n",
        "    y_pred = m*x + b\n",
        "    \n",
        "    # Plot predictions\n",
        "    ax.plot(x, y_pred)\n",
        "    \n",
        "    # Plot squared errors\n",
        "    xmin, xmax = ax.get_xlim()\n",
        "    ymin, ymax = ax.get_ylim()\n",
        "    scale = (xmax-xmin)/(ymax-ymin)\n",
        "    for x, y1, y2 in zip(x, y, y_pred):\n",
        "        bottom_left = (x, min(y1, y2))\n",
        "        height = abs(y1 - y2)\n",
        "        width = height * scale\n",
        "        ax.add_patch(Rectangle(xy=bottom_left, width=width, height=height, alpha=0.1))\n",
        "    \n",
        "    # Print regression metrics\n",
        "    mse = mean_squared_error(y, y_pred)\n",
        "    rmse = np.sqrt(mse)\n",
        "    mae = mean_absolute_error(y, y_pred)\n",
        "    r2 = r2_score(y, y_pred)\n",
        "    print('Mean Squared Error:', mse)\n",
        "    print('Root Mean Squared Error:', rmse)\n",
        "    print('Mean Absolute Error:', mae)\n",
        "    print('R^2:', r2)\n"
      ],
      "execution_count": 0,
      "outputs": []
    },
    {
      "cell_type": "code",
      "metadata": {
        "id": "zPoWH14Ed_eC",
        "colab_type": "code",
        "colab": {
          "base_uri": "https://localhost:8080/",
          "height": 511
        },
        "outputId": "cf5435ea-80df-4e91-93a9-deea3fd3af23"
      },
      "source": [
        "#Train regression metrics RMSE, MAE, and R2\n",
        "\n",
        "feature = 'pets_allowed'\n",
        "squared_errors(train, feature, target, m=0, b=y_train.mean())"
      ],
      "execution_count": 36,
      "outputs": [
        {
          "output_type": "stream",
          "text": [
            "Mean Squared Error: 4890018.8036\n",
            "Root Mean Squared Error: 2211.3386903864366\n",
            "Mean Absolute Error: 1474.9288000000004\n",
            "R^2: 0.0\n"
          ],
          "name": "stdout"
        },
        {
          "output_type": "display_data",
          "data": {
            "image/png": "[encoded data removed]",
            "text/plain": [
              "<Figure size 504x504 with 1 Axes>"
            ]
          },
          "metadata": {
            "tags": []
          }
        }
      ]
    },
    {
      "cell_type": "code",
      "metadata": {
        "id": "VyZefNDkfHwW",
        "colab_type": "code",
        "colab": {
          "base_uri": "https://localhost:8080/",
          "height": 511
        },
        "outputId": "04562171-c1b0-47dc-bcd3-2f8f7939e286"
      },
      "source": [
        "#Test regression metrics RMSE, MAE, and R2\n",
        "\n",
        "feature = 'pets_allowed'\n",
        "squared_errors(test, feature, target, m=0, b=y_test.mean())"
      ],
      "execution_count": 40,
      "outputs": [
        {
          "output_type": "stream",
          "text": [
            "Mean Squared Error: 3108021.267852562\n",
            "Root Mean Squared Error: 1762.9581015590138\n",
            "Mean Absolute Error: 1200.8695333832386\n",
            "R^2: 0.0\n"
          ],
          "name": "stdout"
        },
        {
          "output_type": "display_data",
          "data": {
            "image/png": "[encoded data removed]",
            "text/plain": [
              "<Figure size 504x504 with 1 Axes>"
            ]
          },
          "metadata": {
            "tags": []
          }
        }
      ]
    },
    {
      "cell_type": "markdown",
      "metadata": {
        "id": "Nynos37WAsvU",
        "colab_type": "text"
      },
      "source": [
        "**What's the best test MAE you can get? Share your score and features used with your cohort on Slack!**"
      ]
    },
    {
      "cell_type": "code",
      "metadata": {
        "id": "7JuysqdkBA1G",
        "colab_type": "code",
        "colab": {
          "base_uri": "https://localhost:8080/",
          "height": 1000
        },
        "outputId": "00bc2042-897b-4f60-b161-5a779d886722"
      },
      "source": [
        "# X is a matrix. Add column of constants for fitting the intercept.\n",
        "def add_constant(X):\n",
        "    constant = np.ones(shape=(len(X),1))\n",
        "    return np.hstack((constant, X))\n",
        "X = add_constant(train[features].values)\n",
        "print('X')\n",
        "print(X)\n",
        "\n",
        "# y is a column vector\n",
        "y = train[target].values[:, np.newaxis]\n",
        "print('y')\n",
        "print(y)\n",
        "\n",
        "# Least squares solution in code\n",
        "X_transpose = X.T\n",
        "X_transpose_X = X_transpose @ X\n",
        "X_transpose_X_inverse = np.linalg.inv(X_transpose_X)\n",
        "X_transpose_y = X_transpose @ y\n",
        "beta_hat = X_transpose_X_inverse @ X_transpose_y\n",
        "\n",
        "print('Beta Hat')\n",
        "print(beta_hat)"
      ],
      "execution_count": 41,
      "outputs": [
        {
          "output_type": "stream",
          "text": [
            "X\n",
            "[[1. 0. 1.]\n",
            " [1. 2. 1.]\n",
            " [1. 0. 0.]\n",
            " [1. 0. 0.]\n",
            " [1. 0. 0.]\n",
            " [1. 2. 0.]\n",
            " [1. 2. 1.]\n",
            " [1. 2. 0.]\n",
            " [1. 0. 0.]\n",
            " [1. 2. 0.]\n",
            " [1. 2. 1.]\n",
            " [1. 0. 0.]\n",
            " [1. 1. 0.]\n",
            " [1. 2. 0.]\n",
            " [1. 2. 0.]\n",
            " [1. 2. 0.]\n",
            " [1. 2. 0.]\n",
            " [1. 2. 0.]\n",
            " [1. 2. 0.]\n",
            " [1. 0. 0.]\n",
            " [1. 2. 0.]\n",
            " [1. 2. 1.]\n",
            " [1. 2. 0.]\n",
            " [1. 0. 0.]\n",
            " [1. 0. 0.]\n",
            " [1. 2. 0.]\n",
            " [1. 2. 0.]\n",
            " [1. 0. 0.]\n",
            " [1. 0. 0.]\n",
            " [1. 0. 0.]\n",
            " [1. 0. 0.]\n",
            " [1. 0. 0.]\n",
            " [1. 1. 0.]\n",
            " [1. 0. 0.]\n",
            " [1. 0. 0.]\n",
            " [1. 0. 0.]\n",
            " [1. 0. 0.]\n",
            " [1. 2. 0.]\n",
            " [1. 2. 0.]\n",
            " [1. 0. 0.]\n",
            " [1. 0. 0.]\n",
            " [1. 2. 0.]\n",
            " [1. 0. 0.]\n",
            " [1. 0. 1.]\n",
            " [1. 2. 1.]\n",
            " [1. 2. 0.]\n",
            " [1. 0. 0.]\n",
            " [1. 2. 0.]\n",
            " [1. 0. 0.]\n",
            " [1. 0. 0.]\n",
            " [1. 0. 0.]\n",
            " [1. 0. 0.]\n",
            " [1. 0. 0.]\n",
            " [1. 0. 0.]\n",
            " [1. 0. 0.]\n",
            " [1. 2. 0.]\n",
            " [1. 2. 0.]\n",
            " [1. 2. 0.]\n",
            " [1. 0. 0.]\n",
            " [1. 2. 0.]\n",
            " [1. 2. 0.]\n",
            " [1. 0. 0.]\n",
            " [1. 1. 0.]\n",
            " [1. 0. 0.]\n",
            " [1. 0. 0.]\n",
            " [1. 0. 0.]\n",
            " [1. 0. 0.]\n",
            " [1. 0. 0.]\n",
            " [1. 2. 0.]\n",
            " [1. 2. 0.]\n",
            " [1. 0. 0.]\n",
            " [1. 0. 0.]\n",
            " [1. 0. 0.]\n",
            " [1. 0. 0.]\n",
            " [1. 2. 0.]\n",
            " [1. 0. 0.]\n",
            " [1. 2. 0.]\n",
            " [1. 0. 0.]\n",
            " [1. 2. 0.]\n",
            " [1. 2. 0.]\n",
            " [1. 0. 0.]\n",
            " [1. 2. 0.]\n",
            " [1. 2. 1.]\n",
            " [1. 0. 0.]\n",
            " [1. 1. 0.]\n",
            " [1. 0. 0.]\n",
            " [1. 2. 0.]\n",
            " [1. 2. 0.]\n",
            " [1. 2. 0.]\n",
            " [1. 0. 0.]\n",
            " [1. 0. 1.]\n",
            " [1. 2. 0.]\n",
            " [1. 2. 0.]\n",
            " [1. 2. 0.]\n",
            " [1. 0. 0.]\n",
            " [1. 0. 0.]\n",
            " [1. 0. 0.]\n",
            " [1. 2. 0.]\n",
            " [1. 0. 0.]\n",
            " [1. 2. 0.]]\n",
            "y\n",
            "[[ 2800]\n",
            " [ 3600]\n",
            " [ 4575]\n",
            " [ 2450]\n",
            " [ 2300]\n",
            " [ 2650]\n",
            " [ 4570]\n",
            " [ 2000]\n",
            " [ 3695]\n",
            " [ 3650]\n",
            " [ 4300]\n",
            " [10700]\n",
            " [ 3800]\n",
            " [ 2500]\n",
            " [ 2800]\n",
            " [ 2920]\n",
            " [ 3195]\n",
            " [ 2200]\n",
            " [ 2690]\n",
            " [ 1850]\n",
            " [ 7000]\n",
            " [ 5000]\n",
            " [ 2795]\n",
            " [ 3570]\n",
            " [14000]\n",
            " [ 5495]\n",
            " [ 7300]\n",
            " [ 3500]\n",
            " [ 2500]\n",
            " [ 2945]\n",
            " [ 1650]\n",
            " [ 3200]\n",
            " [ 1850]\n",
            " [11000]\n",
            " [ 4300]\n",
            " [ 2245]\n",
            " [ 3692]\n",
            " [ 2000]\n",
            " [ 1875]\n",
            " [ 2200]\n",
            " [ 3000]\n",
            " [ 2325]\n",
            " [ 3457]\n",
            " [11000]\n",
            " [ 3500]\n",
            " [ 4180]\n",
            " [ 2275]\n",
            " [ 2400]\n",
            " [ 3200]\n",
            " [ 1850]\n",
            " [ 5695]\n",
            " [ 2500]\n",
            " [ 2700]\n",
            " [ 2975]\n",
            " [ 2500]\n",
            " [ 2625]\n",
            " [ 5000]\n",
            " [ 2500]\n",
            " [10000]\n",
            " [ 2075]\n",
            " [ 4600]\n",
            " [ 4280]\n",
            " [ 5300]\n",
            " [ 2490]\n",
            " [ 4500]\n",
            " [ 1900]\n",
            " [ 3495]\n",
            " [ 1650]\n",
            " [ 2800]\n",
            " [ 2695]\n",
            " [ 2400]\n",
            " [ 3465]\n",
            " [ 3495]\n",
            " [ 4400]\n",
            " [ 4285]\n",
            " [ 1500]\n",
            " [ 2225]\n",
            " [ 1650]\n",
            " [ 3350]\n",
            " [ 3225]\n",
            " [ 2024]\n",
            " [ 2275]\n",
            " [ 2965]\n",
            " [ 2195]\n",
            " [ 3800]\n",
            " [ 7495]\n",
            " [ 2850]\n",
            " [ 4225]\n",
            " [ 3895]\n",
            " [ 2400]\n",
            " [ 5700]\n",
            " [ 1750]\n",
            " [ 2495]\n",
            " [ 3400]\n",
            " [ 4350]\n",
            " [ 3700]\n",
            " [ 8500]\n",
            " [ 3695]\n",
            " [ 4930]\n",
            " [ 5590]]\n",
            "Beta Hat\n",
            "[[3979.92006883]\n",
            " [-381.87157829]\n",
            " [1355.35314667]]\n"
          ],
          "name": "stdout"
        }
      ]
    }
  ]
}