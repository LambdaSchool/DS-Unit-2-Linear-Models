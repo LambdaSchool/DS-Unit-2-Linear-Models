{
  "nbformat": 4,
  "nbformat_minor": 0,
  "metadata": {
    "kernelspec": {
      "display_name": "Python 3",
      "language": "python",
      "name": "python3"
    },
    "language_info": {
      "codemirror_mode": {
        "name": "ipython",
        "version": 3
      },
      "file_extension": ".py",
      "mimetype": "text/x-python",
      "name": "python",
      "nbconvert_exporter": "python",
      "pygments_lexer": "ipython3",
      "version": "3.7.3"
    },
    "colab": {
      "name": "Regression#2_LS_DS_212_assignment.ipynb",
      "provenance": [],
      "collapsed_sections": [],
      "include_colab_link": true
    }
  },
  "cells": [
    {
      "cell_type": "markdown",
      "metadata": {
        "id": "view-in-github",
        "colab_type": "text"
      },
      "source": [
        "<a href=\"https://colab.research.google.com/github/Lolo-17/DS-Unit-2-Linear-Models/blob/master/module2-regression-2/Regression_2_LS_DS_212_assignment.ipynb\" target=\"_parent\"><img src=\"https://colab.research.google.com/assets/colab-badge.svg\" alt=\"Open In Colab\"/></a>"
      ]
    },
    {
      "cell_type": "markdown",
      "metadata": {
        "id": "hj7ya9sXbW4z",
        "colab_type": "text"
      },
      "source": [
        "Lambda School Data Science\n",
        "\n",
        "*Unit 2, Sprint 1, Module 2*\n",
        "\n",
        "---"
      ]
    },
    {
      "cell_type": "markdown",
      "metadata": {
        "colab_type": "text",
        "id": "7IXUfiQ2UKj6"
      },
      "source": [
        "# Regression 2\n",
        "\n",
        "## Assignment\n",
        "\n",
        "You'll continue to **predict how much it costs to rent an apartment in NYC,** using the dataset from renthop.com.\n",
        "\n",
        "- [ ] Do train/test split. Use data from April & May 2016 to train. Use data from June 2016 to test.\n",
        "- [ ] Engineer at least two new features. (See below for explanation & ideas.)\n",
        "- [ ] Fit a linear regression model with at least two features.\n",
        "- [ ] Get the model's coefficients and intercept.\n",
        "- [ ] Get regression metrics RMSE, MAE, and $R^2$, for both the train and test data.\n",
        "- [ ] What's the best test MAE you can get? Share your score and features used with your cohort on Slack!\n",
        "- [ ] As always, commit your notebook to your fork of the GitHub repo.\n",
        "\n",
        "\n",
        "#### [Feature Engineering](https://en.wikipedia.org/wiki/Feature_engineering)\n",
        "\n",
        "> \"Some machine learning projects succeed and some fail. What makes the difference? Easily the most important factor is the features used.\" — Pedro Domingos, [\"A Few Useful Things to Know about Machine Learning\"](https://homes.cs.washington.edu/~pedrod/papers/cacm12.pdf)\n",
        "\n",
        "> \"Coming up with features is difficult, time-consuming, requires expert knowledge. 'Applied machine learning' is basically feature engineering.\" — Andrew Ng, [Machine Learning and AI via Brain simulations](https://forum.stanford.edu/events/2011/2011slides/plenary/2011plenaryNg.pdf) \n",
        "\n",
        "> Feature engineering is the process of using domain knowledge of the data to create features that make machine learning algorithms work. \n",
        "\n",
        "#### Feature Ideas\n",
        "- Does the apartment have a description?\n",
        "- How long is the description?\n",
        "- How many total perks does each apartment have?\n",
        "- Are cats _or_ dogs allowed?\n",
        "- Are cats _and_ dogs allowed?\n",
        "- Total number of rooms (beds + baths)\n",
        "- Ratio of beds to baths\n",
        "- What's the neighborhood, based on address or latitude & longitude?\n",
        "\n",
        "## Stretch Goals\n",
        "- [ ] If you want more math, skim [_An Introduction to Statistical Learning_](http://faculty.marshall.usc.edu/gareth-james/ISL/ISLR%20Seventh%20Printing.pdf),  Chapter 3.1, Simple Linear Regression, & Chapter 3.2, Multiple Linear Regression\n",
        "- [ ] If you want more introduction, watch [Brandon Foltz, Statistics 101: Simple Linear Regression](https://www.youtube.com/watch?v=ZkjP5RJLQF4)\n",
        "(20 minutes, over 1 million views)\n",
        "- [ ] Add your own stretch goal(s) !"
      ]
    },
    {
      "cell_type": "markdown",
      "metadata": {
        "id": "eUOfcdCTtsMb",
        "colab_type": "text"
      },
      "source": [
        "# Importing"
      ]
    },
    {
      "cell_type": "code",
      "metadata": {
        "colab_type": "code",
        "id": "o9eSnDYhUGD7",
        "colab": {}
      },
      "source": [
        "%%capture\n",
        "import sys\n",
        "\n",
        "# If you're on Colab:\n",
        "if 'google.colab' in sys.modules:\n",
        "    DATA_PATH = 'https://raw.githubusercontent.com/LambdaSchool/DS-Unit-2-Applied-Modeling/master/data/'\n",
        "    !pip install category_encoders==2.*\n",
        "\n",
        "# If you're working locally:\n",
        "else:\n",
        "    DATA_PATH = '../data/'\n",
        "    \n",
        "# Ignore this Numpy warning when using Plotly Express:\n",
        "# FutureWarning: Method .ptp is deprecated and will be removed in a future version. Use numpy.ptp instead.\n",
        "import warnings\n",
        "warnings.filterwarnings(action='ignore', category=FutureWarning, module='numpy')"
      ],
      "execution_count": 245,
      "outputs": []
    },
    {
      "cell_type": "code",
      "metadata": {
        "colab_type": "code",
        "id": "cvrw-T3bZOuW",
        "colab": {}
      },
      "source": [
        "import numpy as np\n",
        "import pandas as pd\n",
        "\n",
        "# Read New York City apartment rental listing data\n",
        "df = pd.read_csv(DATA_PATH+'apartments/renthop-nyc.csv', \n",
        "                 parse_dates=['created'],\n",
        "                 index_col='created')\n",
        "\n",
        "assert df.shape == (49352, 33)\n",
        "\n",
        "''' Renaming index to date and sorting by date '''\n",
        "df.index.names = ['date']\n",
        "df = df.sort_values(by='date')\n",
        "\n",
        "# Remove the most extreme 1% prices,\n",
        "# the most extreme .1% latitudes, &\n",
        "# the most extreme .1% longitudes\n",
        "df = df[(df['price'] >= np.percentile(df['price'], 0.5)) & \n",
        "        (df['price'] <= np.percentile(df['price'], 99.5)) & \n",
        "        (df['latitude'] >= np.percentile(df['latitude'], 0.05)) & \n",
        "        (df['latitude'] < np.percentile(df['latitude'], 99.95)) &\n",
        "        (df['longitude'] >= np.percentile(df['longitude'], 0.05)) & \n",
        "        (df['longitude'] <= np.percentile(df['longitude'], 99.95))]"
      ],
      "execution_count": 246,
      "outputs": []
    },
    {
      "cell_type": "code",
      "metadata": {
        "id": "xJAnnRM_3EcL",
        "colab_type": "code",
        "colab": {}
      },
      "source": [
        "import matplotlib.pyplot as plt\n",
        "from sklearn.linear_model import LinearRegression\n",
        "from sklearn.metrics import mean_absolute_error\n",
        "from sklearn.metrics import mean_squared_error\n",
        "from sklearn.metrics import r2_score"
      ],
      "execution_count": 247,
      "outputs": []
    },
    {
      "cell_type": "markdown",
      "metadata": {
        "id": "UspH8vS_tzB9",
        "colab_type": "text"
      },
      "source": [
        "# EDA"
      ]
    },
    {
      "cell_type": "code",
      "metadata": {
        "id": "jHjtFx2KhZAh",
        "colab_type": "code",
        "colab": {
          "base_uri": "https://localhost:8080/",
          "height": 646
        },
        "outputId": "977660d2-444b-4a9b-d264-87169a8939c9"
      },
      "source": [
        "print(df.shape)\n",
        "df.head()"
      ],
      "execution_count": 248,
      "outputs": [
        {
          "output_type": "stream",
          "text": [
            "(48817, 33)\n"
          ],
          "name": "stdout"
        },
        {
          "output_type": "execute_result",
          "data": {
            "text/html": [
              "<div>\n",
              "<style scoped>\n",
              "    .dataframe tbody tr th:only-of-type {\n",
              "        vertical-align: middle;\n",
              "    }\n",
              "\n",
              "    .dataframe tbody tr th {\n",
              "        vertical-align: top;\n",
              "    }\n",
              "\n",
              "    .dataframe thead th {\n",
              "        text-align: right;\n",
              "    }\n",
              "</style>\n",
              "<table border=\"1\" class=\"dataframe\">\n",
              "  <thead>\n",
              "    <tr style=\"text-align: right;\">\n",
              "      <th></th>\n",
              "      <th>bathrooms</th>\n",
              "      <th>bedrooms</th>\n",
              "      <th>description</th>\n",
              "      <th>display_address</th>\n",
              "      <th>latitude</th>\n",
              "      <th>longitude</th>\n",
              "      <th>price</th>\n",
              "      <th>street_address</th>\n",
              "      <th>interest_level</th>\n",
              "      <th>elevator</th>\n",
              "      <th>cats_allowed</th>\n",
              "      <th>hardwood_floors</th>\n",
              "      <th>dogs_allowed</th>\n",
              "      <th>doorman</th>\n",
              "      <th>dishwasher</th>\n",
              "      <th>no_fee</th>\n",
              "      <th>laundry_in_building</th>\n",
              "      <th>fitness_center</th>\n",
              "      <th>pre-war</th>\n",
              "      <th>laundry_in_unit</th>\n",
              "      <th>roof_deck</th>\n",
              "      <th>outdoor_space</th>\n",
              "      <th>dining_room</th>\n",
              "      <th>high_speed_internet</th>\n",
              "      <th>balcony</th>\n",
              "      <th>swimming_pool</th>\n",
              "      <th>new_construction</th>\n",
              "      <th>terrace</th>\n",
              "      <th>exclusive</th>\n",
              "      <th>loft</th>\n",
              "      <th>garden_patio</th>\n",
              "      <th>wheelchair_access</th>\n",
              "      <th>common_outdoor_space</th>\n",
              "    </tr>\n",
              "    <tr>\n",
              "      <th>date</th>\n",
              "      <th></th>\n",
              "      <th></th>\n",
              "      <th></th>\n",
              "      <th></th>\n",
              "      <th></th>\n",
              "      <th></th>\n",
              "      <th></th>\n",
              "      <th></th>\n",
              "      <th></th>\n",
              "      <th></th>\n",
              "      <th></th>\n",
              "      <th></th>\n",
              "      <th></th>\n",
              "      <th></th>\n",
              "      <th></th>\n",
              "      <th></th>\n",
              "      <th></th>\n",
              "      <th></th>\n",
              "      <th></th>\n",
              "      <th></th>\n",
              "      <th></th>\n",
              "      <th></th>\n",
              "      <th></th>\n",
              "      <th></th>\n",
              "      <th></th>\n",
              "      <th></th>\n",
              "      <th></th>\n",
              "      <th></th>\n",
              "      <th></th>\n",
              "      <th></th>\n",
              "      <th></th>\n",
              "      <th></th>\n",
              "      <th></th>\n",
              "    </tr>\n",
              "  </thead>\n",
              "  <tbody>\n",
              "    <tr>\n",
              "      <th>2016-04-01 22:12:41</th>\n",
              "      <td>1.0</td>\n",
              "      <td>1</td>\n",
              "      <td>X-LARGE Flex 1BR Loft! ~~ PRIME Greenwich Vill...</td>\n",
              "      <td>Astor Place</td>\n",
              "      <td>40.7302</td>\n",
              "      <td>-73.9924</td>\n",
              "      <td>3195</td>\n",
              "      <td>1 Astor Place</td>\n",
              "      <td>high</td>\n",
              "      <td>1</td>\n",
              "      <td>0</td>\n",
              "      <td>0</td>\n",
              "      <td>0</td>\n",
              "      <td>1</td>\n",
              "      <td>0</td>\n",
              "      <td>0</td>\n",
              "      <td>1</td>\n",
              "      <td>0</td>\n",
              "      <td>0</td>\n",
              "      <td>0</td>\n",
              "      <td>0</td>\n",
              "      <td>0</td>\n",
              "      <td>0</td>\n",
              "      <td>0</td>\n",
              "      <td>0</td>\n",
              "      <td>0</td>\n",
              "      <td>0</td>\n",
              "      <td>0</td>\n",
              "      <td>0</td>\n",
              "      <td>0</td>\n",
              "      <td>0</td>\n",
              "      <td>0</td>\n",
              "      <td>0</td>\n",
              "    </tr>\n",
              "    <tr>\n",
              "      <th>2016-04-01 22:56:00</th>\n",
              "      <td>1.0</td>\n",
              "      <td>0</td>\n",
              "      <td>This Enormous Studio Features: Harwood Floors,...</td>\n",
              "      <td>East 54th Street</td>\n",
              "      <td>40.7576</td>\n",
              "      <td>-73.9677</td>\n",
              "      <td>2000</td>\n",
              "      <td>230 East 54th Street</td>\n",
              "      <td>medium</td>\n",
              "      <td>0</td>\n",
              "      <td>1</td>\n",
              "      <td>0</td>\n",
              "      <td>1</td>\n",
              "      <td>0</td>\n",
              "      <td>0</td>\n",
              "      <td>1</td>\n",
              "      <td>1</td>\n",
              "      <td>0</td>\n",
              "      <td>0</td>\n",
              "      <td>0</td>\n",
              "      <td>0</td>\n",
              "      <td>0</td>\n",
              "      <td>0</td>\n",
              "      <td>0</td>\n",
              "      <td>0</td>\n",
              "      <td>0</td>\n",
              "      <td>0</td>\n",
              "      <td>0</td>\n",
              "      <td>0</td>\n",
              "      <td>0</td>\n",
              "      <td>0</td>\n",
              "      <td>0</td>\n",
              "      <td>0</td>\n",
              "    </tr>\n",
              "    <tr>\n",
              "      <th>2016-04-01 22:57:15</th>\n",
              "      <td>2.0</td>\n",
              "      <td>3</td>\n",
              "      <td>--- East 31st St &amp; Lexington Avenue --- This S...</td>\n",
              "      <td>East 31st St &amp; Lexington Avenue</td>\n",
              "      <td>40.7388</td>\n",
              "      <td>-73.9851</td>\n",
              "      <td>5850</td>\n",
              "      <td>105 Lexington Avenue</td>\n",
              "      <td>high</td>\n",
              "      <td>1</td>\n",
              "      <td>1</td>\n",
              "      <td>0</td>\n",
              "      <td>1</td>\n",
              "      <td>1</td>\n",
              "      <td>0</td>\n",
              "      <td>1</td>\n",
              "      <td>1</td>\n",
              "      <td>1</td>\n",
              "      <td>0</td>\n",
              "      <td>0</td>\n",
              "      <td>0</td>\n",
              "      <td>1</td>\n",
              "      <td>0</td>\n",
              "      <td>0</td>\n",
              "      <td>0</td>\n",
              "      <td>0</td>\n",
              "      <td>0</td>\n",
              "      <td>0</td>\n",
              "      <td>0</td>\n",
              "      <td>0</td>\n",
              "      <td>0</td>\n",
              "      <td>0</td>\n",
              "      <td>1</td>\n",
              "    </tr>\n",
              "    <tr>\n",
              "      <th>2016-04-01 23:26:07</th>\n",
              "      <td>1.0</td>\n",
              "      <td>1</td>\n",
              "      <td>Reduced Fee!! Priced To Rent!\\rLarge Newly Upd...</td>\n",
              "      <td>West End Ave</td>\n",
              "      <td>40.7939</td>\n",
              "      <td>-73.9738</td>\n",
              "      <td>2745</td>\n",
              "      <td>700 West End Ave</td>\n",
              "      <td>medium</td>\n",
              "      <td>1</td>\n",
              "      <td>1</td>\n",
              "      <td>0</td>\n",
              "      <td>1</td>\n",
              "      <td>1</td>\n",
              "      <td>0</td>\n",
              "      <td>0</td>\n",
              "      <td>1</td>\n",
              "      <td>1</td>\n",
              "      <td>0</td>\n",
              "      <td>0</td>\n",
              "      <td>0</td>\n",
              "      <td>1</td>\n",
              "      <td>0</td>\n",
              "      <td>0</td>\n",
              "      <td>0</td>\n",
              "      <td>0</td>\n",
              "      <td>0</td>\n",
              "      <td>0</td>\n",
              "      <td>0</td>\n",
              "      <td>0</td>\n",
              "      <td>0</td>\n",
              "      <td>0</td>\n",
              "      <td>1</td>\n",
              "    </tr>\n",
              "    <tr>\n",
              "      <th>2016-04-02 00:48:13</th>\n",
              "      <td>1.0</td>\n",
              "      <td>1</td>\n",
              "      <td>Phenomenal deal of the century!! This spacious...</td>\n",
              "      <td>E 88th street</td>\n",
              "      <td>40.7784</td>\n",
              "      <td>-73.9491</td>\n",
              "      <td>2400</td>\n",
              "      <td>401 E 88th street</td>\n",
              "      <td>medium</td>\n",
              "      <td>1</td>\n",
              "      <td>1</td>\n",
              "      <td>0</td>\n",
              "      <td>1</td>\n",
              "      <td>1</td>\n",
              "      <td>0</td>\n",
              "      <td>0</td>\n",
              "      <td>1</td>\n",
              "      <td>0</td>\n",
              "      <td>0</td>\n",
              "      <td>0</td>\n",
              "      <td>0</td>\n",
              "      <td>0</td>\n",
              "      <td>0</td>\n",
              "      <td>0</td>\n",
              "      <td>0</td>\n",
              "      <td>0</td>\n",
              "      <td>0</td>\n",
              "      <td>0</td>\n",
              "      <td>0</td>\n",
              "      <td>0</td>\n",
              "      <td>0</td>\n",
              "      <td>0</td>\n",
              "      <td>0</td>\n",
              "    </tr>\n",
              "  </tbody>\n",
              "</table>\n",
              "</div>"
            ],
            "text/plain": [
              "                     bathrooms  ...  common_outdoor_space\n",
              "date                            ...                      \n",
              "2016-04-01 22:12:41        1.0  ...                     0\n",
              "2016-04-01 22:56:00        1.0  ...                     0\n",
              "2016-04-01 22:57:15        2.0  ...                     1\n",
              "2016-04-01 23:26:07        1.0  ...                     1\n",
              "2016-04-02 00:48:13        1.0  ...                     0\n",
              "\n",
              "[5 rows x 33 columns]"
            ]
          },
          "metadata": {
            "tags": []
          },
          "execution_count": 248
        }
      ]
    },
    {
      "cell_type": "code",
      "metadata": {
        "id": "rB5fwa23IAe3",
        "colab_type": "code",
        "colab": {
          "base_uri": "https://localhost:8080/",
          "height": 697
        },
        "outputId": "0f28470c-11c7-472b-e214-bd6ceeb0a361"
      },
      "source": [
        "df.info()"
      ],
      "execution_count": 249,
      "outputs": [
        {
          "output_type": "stream",
          "text": [
            "<class 'pandas.core.frame.DataFrame'>\n",
            "DatetimeIndex: 48817 entries, 2016-04-01 22:12:41 to 2016-06-29 21:41:47\n",
            "Data columns (total 33 columns):\n",
            " #   Column                Non-Null Count  Dtype  \n",
            "---  ------                --------------  -----  \n",
            " 0   bathrooms             48817 non-null  float64\n",
            " 1   bedrooms              48817 non-null  int64  \n",
            " 2   description           47392 non-null  object \n",
            " 3   display_address       48684 non-null  object \n",
            " 4   latitude              48817 non-null  float64\n",
            " 5   longitude             48817 non-null  float64\n",
            " 6   price                 48817 non-null  int64  \n",
            " 7   street_address        48807 non-null  object \n",
            " 8   interest_level        48817 non-null  object \n",
            " 9   elevator              48817 non-null  int64  \n",
            " 10  cats_allowed          48817 non-null  int64  \n",
            " 11  hardwood_floors       48817 non-null  int64  \n",
            " 12  dogs_allowed          48817 non-null  int64  \n",
            " 13  doorman               48817 non-null  int64  \n",
            " 14  dishwasher            48817 non-null  int64  \n",
            " 15  no_fee                48817 non-null  int64  \n",
            " 16  laundry_in_building   48817 non-null  int64  \n",
            " 17  fitness_center        48817 non-null  int64  \n",
            " 18  pre-war               48817 non-null  int64  \n",
            " 19  laundry_in_unit       48817 non-null  int64  \n",
            " 20  roof_deck             48817 non-null  int64  \n",
            " 21  outdoor_space         48817 non-null  int64  \n",
            " 22  dining_room           48817 non-null  int64  \n",
            " 23  high_speed_internet   48817 non-null  int64  \n",
            " 24  balcony               48817 non-null  int64  \n",
            " 25  swimming_pool         48817 non-null  int64  \n",
            " 26  new_construction      48817 non-null  int64  \n",
            " 27  terrace               48817 non-null  int64  \n",
            " 28  exclusive             48817 non-null  int64  \n",
            " 29  loft                  48817 non-null  int64  \n",
            " 30  garden_patio          48817 non-null  int64  \n",
            " 31  wheelchair_access     48817 non-null  int64  \n",
            " 32  common_outdoor_space  48817 non-null  int64  \n",
            "dtypes: float64(3), int64(26), object(4)\n",
            "memory usage: 12.7+ MB\n"
          ],
          "name": "stdout"
        }
      ]
    },
    {
      "cell_type": "code",
      "metadata": {
        "id": "w495g9KYrdcu",
        "colab_type": "code",
        "colab": {
          "base_uri": "https://localhost:8080/",
          "height": 221
        },
        "outputId": "d4f94a3f-7f87-4791-b4aa-13b792d4d934"
      },
      "source": [
        "df.index"
      ],
      "execution_count": 250,
      "outputs": [
        {
          "output_type": "execute_result",
          "data": {
            "text/plain": [
              "DatetimeIndex(['2016-04-01 22:12:41', '2016-04-01 22:56:00',\n",
              "               '2016-04-01 22:57:15', '2016-04-01 23:26:07',\n",
              "               '2016-04-02 00:48:13', '2016-04-02 01:11:13',\n",
              "               '2016-04-02 01:11:30', '2016-04-02 01:11:31',\n",
              "               '2016-04-02 01:11:34', '2016-04-02 01:11:40',\n",
              "               ...\n",
              "               '2016-06-29 17:32:19', '2016-06-29 17:35:09',\n",
              "               '2016-06-29 17:37:20', '2016-06-29 17:38:02',\n",
              "               '2016-06-29 17:39:08', '2016-06-29 17:47:34',\n",
              "               '2016-06-29 17:56:12', '2016-06-29 18:14:48',\n",
              "               '2016-06-29 18:30:41', '2016-06-29 21:41:47'],\n",
              "              dtype='datetime64[ns]', name='date', length=48817, freq=None)"
            ]
          },
          "metadata": {
            "tags": []
          },
          "execution_count": 250
        }
      ]
    },
    {
      "cell_type": "code",
      "metadata": {
        "id": "9VZQS8YDCvVa",
        "colab_type": "code",
        "colab": {
          "base_uri": "https://localhost:8080/",
          "height": 52
        },
        "outputId": "5c5c836b-2dc5-4b10-a193-776364b21ccb"
      },
      "source": [
        "# Checking the lenght of description.\n",
        "df['description'].iloc[1]"
      ],
      "execution_count": 251,
      "outputs": [
        {
          "output_type": "execute_result",
          "data": {
            "application/vnd.google.colaboratory.intrinsic+json": {
              "type": "string"
            },
            "text/plain": [
              "'This Enormous Studio Features: Harwood Floors, HIGH Ceilings, LARGE Windows, Natural Light, FANTASTIC Closet Space, Updated Kitchen & Bathroom.\\r\\rGreat price! Laundry in Building and subway half a block away! Walk to work!\\r\\rEasy access to Murray Hill, Gramercy Park, Union Square Park, Midtown West, Chelsea, Meatpacking District, West Village & Much More...'"
            ]
          },
          "metadata": {
            "tags": []
          },
          "execution_count": 251
        }
      ]
    },
    {
      "cell_type": "markdown",
      "metadata": {
        "id": "x7z89Koqt5ZN",
        "colab_type": "text"
      },
      "source": [
        "# Split Data"
      ]
    },
    {
      "cell_type": "code",
      "metadata": {
        "id": "aFHBT63aA3LC",
        "colab_type": "code",
        "colab": {}
      },
      "source": [
        "# Creating two new columsn for\n",
        "# 1.) Bedroom + Bathrooms\n",
        "# 2.) Description Lenght\n",
        "df['bt_mas_bd'] = df['bathrooms'] + df['bedrooms']\n",
        "df['descr_len'] = df['description'].str.len()\n",
        "df['descr_len'] = df['descr_len'].replace(np.nan,0)"
      ],
      "execution_count": 252,
      "outputs": []
    },
    {
      "cell_type": "code",
      "metadata": {
        "id": "_YKA1LQksh22",
        "colab_type": "code",
        "colab": {
          "base_uri": "https://localhost:8080/",
          "height": 34
        },
        "outputId": "30d4921f-efd1-4f2c-a525-b9bf1bc2a04d"
      },
      "source": [
        "# Using price as my target.\n",
        "# Using 2 features, see below for X.\n",
        "y = df['price']\n",
        "X = df[['bt_mas_bd', 'descr_len']]\n",
        "\n",
        "# Using April and May of 2016 to train.\n",
        "# Using June of 2016 to test.\n",
        "am_spl = X.index < '2016-06'\n",
        "jn_spl = X.index > '2016-06'\n",
        "X_train, y_train = X.loc[am_spl], y.loc[am_spl]\n",
        "X_val, y_val = X.loc[jn_spl], y.loc[jn_spl]\n",
        "\n",
        "# An if statement to check if I got\n",
        "# all entries in the dataframe when splitting.\n",
        "if len(X_train) + len(X_val) == 48817:\n",
        "  print('Split succesful')\n",
        "else:\n",
        "  print('Check again')"
      ],
      "execution_count": 236,
      "outputs": [
        {
          "output_type": "stream",
          "text": [
            "Split succesful\n"
          ],
          "name": "stdout"
        }
      ]
    },
    {
      "cell_type": "markdown",
      "metadata": {
        "id": "hztDowAG2v53",
        "colab_type": "text"
      },
      "source": [
        "# Establishing Baseline"
      ]
    },
    {
      "cell_type": "code",
      "metadata": {
        "id": "crJRyH6j259M",
        "colab_type": "code",
        "colab": {
          "base_uri": "https://localhost:8080/",
          "height": 607
        },
        "outputId": "ed977fc6-b7b2-4990-f065-d4843b1bec9b"
      },
      "source": [
        "ft_1 = 'bt_mas_bd'\n",
        "ft_2 = 'descr_len'\n",
        "\n",
        "y_pred_0 = [y_train.mean()]*len(X_train)\n",
        "\n",
        "plt.scatter(X_train[ft_1], y_train, color='orange')\n",
        "plt.plot(X_train[ft_1], \n",
        "         y_pred_0, \n",
        "         color='black', \n",
        "         label='Baseline Model')\n",
        "plt.title('Bd+Bt | Rent Price')\n",
        "plt.xlabel('Rooms')\n",
        "plt.ylabel('Rent Price')\n",
        "plt.legend()\n",
        "plt.legend(loc=\"best\")\n",
        "plt.show()\n",
        "\n",
        "print('\\n')\n",
        "\n",
        "plt.scatter(X_train[ft_2], y_train, color='purple')\n",
        "plt.plot(X_train[ft_2], \n",
        "         y_pred_0, \n",
        "         color='black', \n",
        "         label='Baseline Model')\n",
        "plt.title('Description Length | Rent Price')\n",
        "plt.xlabel('Description Letters Count')\n",
        "plt.ylabel('Rent Price')\n",
        "plt.legend()\n",
        "plt.legend(loc=\"lower right\")\n",
        "plt.show()"
      ],
      "execution_count": 265,
      "outputs": [
        {
          "output_type": "display_data",
          "data": {
            "image/png": "[encoded data removed]",
            "text/plain": [
              "<Figure size 432x288 with 1 Axes>"
            ]
          },
          "metadata": {
            "tags": [],
            "needs_background": "light"
          }
        },
        {
          "output_type": "stream",
          "text": [
            "\n",
            "\n"
          ],
          "name": "stdout"
        },
        {
          "output_type": "display_data",
          "data": {
            "image/png": "[encoded data removed]",
            "text/plain": [
              "<Figure size 432x288 with 1 Axes>"
            ]
          },
          "metadata": {
            "tags": [],
            "needs_background": "light"
          }
        }
      ]
    },
    {
      "cell_type": "code",
      "metadata": {
        "id": "0WbyohNe3rcT",
        "colab_type": "code",
        "colab": {
          "base_uri": "https://localhost:8080/",
          "height": 51
        },
        "outputId": "fdca2ddb-69db-41e7-c460-fbe0b6752f53"
      },
      "source": [
        "print('y training mean:', round(y_train.mean()))\n",
        "print('Baseline MAE:', round(mean_absolute_error(y_train, y_pred)))"
      ],
      "execution_count": 272,
      "outputs": [
        {
          "output_type": "stream",
          "text": [
            "y training mean: 3576\n",
            "Baseline MAE: 1191.0\n"
          ],
          "name": "stdout"
        }
      ]
    },
    {
      "cell_type": "markdown",
      "metadata": {
        "id": "2qvT-7Pw3VIX",
        "colab_type": "text"
      },
      "source": [
        "# Build Model"
      ]
    },
    {
      "cell_type": "code",
      "metadata": {
        "id": "mIdCiZzK73MP",
        "colab_type": "code",
        "colab": {}
      },
      "source": [
        "# Building models for\n",
        "# bd+bt and description length.\n",
        "\n",
        "# 1. Instantiate your model\n",
        "# bedrooms + bathrooms\n",
        "model_ft1 = LinearRegression()\n",
        "# description length\n",
        "model_ft2 = LinearRegression()\n",
        "\n",
        "# 2. Fit model to data\n",
        "model_ft1.fit(X_train[[ft_1]], y_train)\n",
        "model_ft2.fit(X_train[[ft_2]], y_train)\n",
        "\n",
        "# 3. Make predictions\n",
        "y_pred_1 = model_ft1.predict(X_train[[ft_1]])\n",
        "y_pred_2 = model_ft2.predict(X_train[[ft_2]])"
      ],
      "execution_count": 270,
      "outputs": []
    },
    {
      "cell_type": "code",
      "metadata": {
        "id": "3fUP1Tlv8zCH",
        "colab_type": "code",
        "colab": {
          "base_uri": "https://localhost:8080/",
          "height": 641
        },
        "outputId": "2b7c8294-d219-492f-8836-c1123b71134b"
      },
      "source": [
        "print(\"FEATURE #1\")\n",
        "plt.scatter(X_train[ft_1], y_train, color='orange')\n",
        "plt.plot(X_train[ft_1], \n",
        "         y_pred_1, \n",
        "         color='red',\n",
        "         label='Regression Model')\n",
        "plt.axhline(y_train.mean(),\n",
        "         color='black', \n",
        "         label='Baseline Model',\n",
        "         linestyle='--')\n",
        "plt.title('Bd+Bt | Rent Price')\n",
        "plt.xlabel('Rooms')\n",
        "plt.ylabel('Rent Price')\n",
        "plt.legend()\n",
        "plt.legend(loc=\"best\")\n",
        "plt.show()\n",
        "\n",
        "print('\\n')\n",
        "\n",
        "print(\"FEATURE #2\")\n",
        "plt.scatter(X_train[ft_2], y_train, color='purple')\n",
        "plt.plot(X_train[ft_2], \n",
        "         y_pred_2, \n",
        "         color='red',\n",
        "         label='Regression Model')\n",
        "plt.axhline(y_train.mean(),\n",
        "         color='black', \n",
        "         label='Baseline Model',\n",
        "         linestyle='--')\n",
        "plt.title('Description Length | Rent Price')\n",
        "plt.xlabel('Description Letters Count')\n",
        "plt.ylabel('Rent Price')\n",
        "plt.legend()\n",
        "plt.legend(loc=\"lower right\")\n",
        "plt.show()"
      ],
      "execution_count": 271,
      "outputs": [
        {
          "output_type": "stream",
          "text": [
            "FEATURE #1\n"
          ],
          "name": "stdout"
        },
        {
          "output_type": "display_data",
          "data": {
            "image/png": "[encoded data removed]",
            "text/plain": [
              "<Figure size 432x288 with 1 Axes>"
            ]
          },
          "metadata": {
            "tags": [],
            "needs_background": "light"
          }
        },
        {
          "output_type": "stream",
          "text": [
            "\n",
            "\n",
            "FEATURE #2\n"
          ],
          "name": "stdout"
        },
        {
          "output_type": "display_data",
          "data": {
            "image/png": "[encoded data removed]",
            "text/plain": [
              "<Figure size 432x288 with 1 Axes>"
            ]
          },
          "metadata": {
            "tags": [],
            "needs_background": "light"
          }
        }
      ]
    },
    {
      "cell_type": "markdown",
      "metadata": {
        "id": "hvWTbBIYKQOv",
        "colab_type": "text"
      },
      "source": [
        "# Check Metrics"
      ]
    },
    {
      "cell_type": "code",
      "metadata": {
        "id": "76upcV7uKVtT",
        "colab_type": "code",
        "colab": {
          "base_uri": "https://localhost:8080/",
          "height": 102
        },
        "outputId": "5d7d5b7f-20e6-480a-f09e-b8870440396a"
      },
      "source": [
        "# Mean Absolute Errors for\n",
        "# both of my features.\n",
        "print('Feature #1 Training MAE:', round(mean_absolute_error(y_train, model_ft1.predict(X_train[[ft_1]]))))\n",
        "print(f'Feature #1 Validation MAE: {round(mean_absolute_error(y_val, model_ft1.predict(X_val[[ft_1]])))} \\n')\n",
        "print('Feature #2 Training MAE:', round(mean_absolute_error(y_train, model_ft2.predict(X_train[[ft_2]]))))\n",
        "print('Feature #2 Validation MAE:', round(mean_absolute_error(y_val, model_ft2.predict(X_val[[ft_2]]))))"
      ],
      "execution_count": 318,
      "outputs": [
        {
          "output_type": "stream",
          "text": [
            "Feature #1 Training MAE: 894.0\n",
            "Feature #1 Validation MAE: 911.0 \n",
            "\n",
            "Feature #2 Training MAE: 1191.0\n",
            "Feature #2 Validation MAE: 1179.0\n"
          ],
          "name": "stdout"
        }
      ]
    },
    {
      "cell_type": "code",
      "metadata": {
        "id": "FNRnTAlHKgo3",
        "colab_type": "code",
        "colab": {
          "base_uri": "https://localhost:8080/",
          "height": 102
        },
        "outputId": "d792d611-9a15-47db-aab8-a8991a668474"
      },
      "source": [
        "# Linear Regression Formulas\n",
        "# for both features.\n",
        "print('Bathrooms+Bedrooms')\n",
        "print(f'Rent Price = {round(model_ft1.intercept_)} + {round(model_ft1.coef_[0])} x Bt+Bd \\n')\n",
        "print('Description Lenght')\n",
        "print(f'Rent Price = {round(model_ft2.intercept_)} + {round(model_ft2.coef_[0])} x Descrip Len')"
      ],
      "execution_count": 311,
      "outputs": [
        {
          "output_type": "stream",
          "text": [
            "Bathrooms+Bedrooms\n",
            "Rent Price = 1363.0 + 810.0 x Bt+Bd \n",
            "\n",
            "Description Lenght\n",
            "Rent Price = 3147.0 + 1.0 x Descrip Len\n"
          ],
          "name": "stdout"
        }
      ]
    },
    {
      "cell_type": "code",
      "metadata": {
        "id": "6MB3nKpNLUL7",
        "colab_type": "code",
        "colab": {
          "base_uri": "https://localhost:8080/",
          "height": 51
        },
        "outputId": "7053fcff-f424-4f35-ce16-5f8b530c617d"
      },
      "source": [
        "# These two functions calculates the\n",
        "# predicted input number of Bt+Bd and\n",
        "# description length to get rent price.\n",
        "\n",
        "# Calculates Bt+Bd to get rent price.\n",
        "def Bt_Bd(number):\n",
        "  print(f'You selected {number} Bt+Bd room(s), so your rent price is, {round(model_ft1.intercept_)+round(model_ft1.coef_[0])*number}')\n",
        "\n",
        "# Calculates description length to get rent price.\n",
        "def des_len(number):\n",
        "  print(f'You selected {number} description letters len, so your rent price is, {round(model_ft2.intercept_)+round(model_ft2.coef_[0])*number}')\n",
        "\n",
        "# Testing and showing functions\n",
        "Bt_Bd(5)\n",
        "des_len(6000)"
      ],
      "execution_count": 290,
      "outputs": [
        {
          "output_type": "stream",
          "text": [
            "You selected 5 Bt+Bd room(s), so your rent price is, 5413.0\n",
            "You selected 6000 description letters len, so your rent price is, 9147.0\n"
          ],
          "name": "stdout"
        }
      ]
    },
    {
      "cell_type": "markdown",
      "metadata": {
        "id": "-2OpOaEyOCae",
        "colab_type": "text"
      },
      "source": [
        "# Root Mean Squared Error"
      ]
    },
    {
      "cell_type": "code",
      "metadata": {
        "id": "YrFYECdVOJhZ",
        "colab_type": "code",
        "colab": {
          "base_uri": "https://localhost:8080/",
          "height": 102
        },
        "outputId": "14d9126a-f6b8-4fc8-aa14-b53f6325d40c"
      },
      "source": [
        "# Root Mean Squared Error for\n",
        "# both of my features.\n",
        "print('Feature #1 Training RMSE:', round(mean_squared_error(y_train, model_ft1.predict(X_train[[ft_1]]), squared=False)))\n",
        "print(f'Feature #1 Validation RMSE: {round(mean_squared_error(y_val, model_ft1.predict(X_val[[ft_1]]), squared=False))} \\n')\n",
        "print('Feature #2 Training RMSE:', round(mean_squared_error(y_train, model_ft2.predict(X_train[[ft_2]]), squared=False)))\n",
        "print('Feature #2 Validation RMSE:', round(mean_squared_error(y_val, model_ft2.predict(X_val[[ft_2]]), squared=False)))"
      ],
      "execution_count": 314,
      "outputs": [
        {
          "output_type": "stream",
          "text": [
            "Feature #1 Training RMSE: 1341.0\n",
            "Feature #1 Validation RMSE: 1340.0 \n",
            "\n",
            "Feature #2 Training RMSE: 1740.0\n",
            "Feature #2 Validation RMSE: 1737.0\n"
          ],
          "name": "stdout"
        }
      ]
    },
    {
      "cell_type": "markdown",
      "metadata": {
        "id": "MQjUJn1HOnei",
        "colab_type": "text"
      },
      "source": [
        "# $R^2$"
      ]
    },
    {
      "cell_type": "code",
      "metadata": {
        "id": "LKW82gmpOoHg",
        "colab_type": "code",
        "colab": {
          "base_uri": "https://localhost:8080/",
          "height": 102
        },
        "outputId": "224c6eca-ca3b-4244-e4b0-5a9fc0c0a961"
      },
      "source": [
        "# R square for both of my features.\n",
        "print('Feature #1 Training R2:', model_ft1.score(X_train[[ft_1]], y_train))\n",
        "print(f'Feature #1 Validation R2: {model_ft1.score(X_val[[ft_1]], y_val)} \\n')\n",
        "print('Feature #2 Training R2:', model_ft2.score(X_train[[ft_2]], y_train))\n",
        "print('Feature #2 Validation R2:', model_ft2.score(X_val[[ft_2]], y_val))"
      ],
      "execution_count": 315,
      "outputs": [
        {
          "output_type": "stream",
          "text": [
            "Feature #1 Training R2: 0.42093000521396107\n",
            "Feature #1 Validation R2: 0.4220517161864744 \n",
            "\n",
            "Feature #2 Training R2: 0.024774646065977124\n",
            "Feature #2 Validation R2: 0.02879125690693851\n"
          ],
          "name": "stdout"
        }
      ]
    }
  ]
}