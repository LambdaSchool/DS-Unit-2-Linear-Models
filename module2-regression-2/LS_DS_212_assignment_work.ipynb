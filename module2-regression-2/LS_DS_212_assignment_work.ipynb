{
  "nbformat": 4,
  "nbformat_minor": 0,
  "metadata": {
    "colab": {
      "name": "Copy of LS_DS_212_assignment.work.ipynb",
      "provenance": [],
      "collapsed_sections": []
    },
    "kernelspec": {
      "display_name": "Python 3",
      "language": "python",
      "name": "python3"
    },
    "language_info": {
      "codemirror_mode": {
        "name": "ipython",
        "version": 3
      },
      "file_extension": ".py",
      "mimetype": "text/x-python",
      "name": "python",
      "nbconvert_exporter": "python",
      "pygments_lexer": "ipython3",
      "version": "3.8.5"
    }
  },
  "cells": [
    {
      "cell_type": "markdown",
      "metadata": {
        "id": "bn95EAVVPd0z"
      },
      "source": [
        "# Lambda School Data Science\n",
        "\n",
        "*Unit 2, Sprint 1, Module 2*\n",
        "\n",
        "---"
      ]
    },
    {
      "cell_type": "code",
      "metadata": {
        "id": "VNmSFcKjPd0_"
      },
      "source": [
        "%%capture\n",
        "import sys\n",
        "\n",
        "# If you're on Colab:\n",
        "if 'google.colab' in sys.modules:\n",
        "    DATA_PATH = 'https://raw.githubusercontent.com/LambdaSchool/DS-Unit-2-Applied-Modeling/master/data/'\n",
        "\n",
        "# If you're working locally:\n",
        "else:\n",
        "    DATA_PATH = '../data/'"
      ],
      "execution_count": null,
      "outputs": []
    },
    {
      "cell_type": "markdown",
      "metadata": {
        "id": "zKqnwgbKPd1D"
      },
      "source": [
        "# Module Project: Regression II\n",
        "\n",
        "In this project, you'll continue working with the New York City rent dataset you used in the last module project.\n",
        "\n",
        "## Directions\n",
        "\n",
        "The tasks for this project are as follows:\n",
        "\n",
        "- **Task 1:** Import `csv` file using `wrangle` function.\n",
        "- **Task 2:** Conduct exploratory data analysis (EDA), and modify `wrangle` function to engineer two new features.\n",
        "- **Task 3:** Split data into feature matrix `X` and target vector `y`.\n",
        "- **Task 4:** Split feature matrix `X` and target vector `y` into training and test sets.\n",
        "- **Task 5:** Establish the baseline mean absolute error for your dataset.\n",
        "- **Task 6:** Build and train a `Linearregression` model.\n",
        "- **Task 7:** Calculate the training and test mean absolute error for your model.\n",
        "- **Task 8:** Calculate the training and test $R^2$ score for your model.\n",
        "- **Stretch Goal:** Determine the three most important features for your linear regression model.\n",
        "\n",
        "**Note**\n",
        "\n",
        "You should limit yourself to the following libraries for this project:\n",
        "\n",
        "- `matplotlib`\n",
        "- `numpy`\n",
        "- `pandas`\n",
        "- `sklearn`"
      ]
    },
    {
      "cell_type": "markdown",
      "metadata": {
        "id": "gbLxF35NPd1F"
      },
      "source": [
        "# I. Wrangle Data"
      ]
    },
    {
      "cell_type": "code",
      "metadata": {
        "id": "8K3aMuOwvbJp"
      },
      "source": [
        ""
      ],
      "execution_count": null,
      "outputs": []
    },
    {
      "cell_type": "code",
      "metadata": {
        "id": "_1d1cMIXvkmk"
      },
      "source": [
        ""
      ],
      "execution_count": null,
      "outputs": []
    },
    {
      "cell_type": "code",
      "metadata": {
        "id": "zQaGIQc0Pd1G"
      },
      "source": [
        "def wrangle(filepath):\n",
        "    #df = pd.read_csv(filepath)\n",
        "    #df = pd.read_csv(filepath, parse_dates=['created'], index_col='created')\n",
        "    #making an index 'created' as datetime, either order...\n",
        "    df = pd.read_csv(filepath, index_col = 'created', parse_dates = ['created'])\n",
        "\n",
        "    # Remove the most extreme 1% prices,\n",
        "    # the most extreme .1% latitudes, &\n",
        "    # the most extreme .1% longitudes\n",
        "    df = df[(df['price'] >= np.percentile(df['price'], 0.5)) & \n",
        "            (df['price'] <= np.percentile(df['price'], 99.5)) & \n",
        "            (df['latitude'] >= np.percentile(df['latitude'], 0.05)) & \n",
        "            (df['latitude'] < np.percentile(df['latitude'], 99.95)) &\n",
        "            (df['longitude'] >= np.percentile(df['longitude'], 0.05)) & \n",
        "            (df['longitude'] <= np.percentile(df['longitude'], 99.95)) &\n",
        "            (df['bathrooms'] >= np.percentile(df['bathrooms'], 0.0)) & \n",
        "            (df['bathrooms'] <= np.percentile(df['bathrooms'], 99.99))]\n",
        "    # Task 2: Conduct exploratory data analysis (EDA), and modify wrangle function to engineer two new features.\n",
        "    # BLOCKER: cant use dot method to create this feature\n",
        "    df['petBias'] = (df['cats_allowed'] != df['dogs_allowed']).astype(int)\n",
        "    # This is supposed to say if neither true then 1\n",
        "    df['inaccessible'] = abs((df['wheelchair_access']  + df['elevator'])-1).astype(int)\n",
        "    # Task 1b.1: The 'created' column will parsed as a DateTime object and set as the index of the DataFrame.\n",
        "    #df.set_index(['created'], inplace=True)        \n",
        "    # Task 1b.2 \n",
        "    df.dropna(inplace=True)\n",
        "    df['number_of_perks'] = df[['elevator', 'cats_allowed', 'hardwood_floors', 'dogs_allowed',\n",
        "       'doorman', 'dishwasher', 'no_fee', 'laundry_in_building',\n",
        "       'fitness_center', 'pre-war', 'laundry_in_unit', 'roof_deck',\n",
        "       'outdoor_space', 'dining_room', 'high_speed_internet', 'balcony',\n",
        "       'swimming_pool', 'new_construction', 'terrace', 'exclusive', 'loft',\n",
        "       'garden_patio', 'wheelchair_access', 'common_outdoor_space']].sum(axis = 1)\n",
        "\n",
        "    df['number_of_beds_and_baths'] = df[['bathrooms','bedrooms']].sum(axis = 1)\n",
        "\n",
        "    df.drop(columns = df.select_dtypes('object').columns, inplace = True)\n",
        "    return df \n",
        "\n",
        "filepath = DATA_PATH + 'apartments/renthop-nyc.csv'"
      ],
      "execution_count": null,
      "outputs": []
    },
    {
      "cell_type": "markdown",
      "metadata": {
        "id": "qMyYR44cPd1I"
      },
      "source": [
        "**Task 1:** Add the following functionality to the above `wrangle` function.\n",
        "\n",
        "- The `'created'` column will parsed as a `DateTime` object and set as the `index` of the DataFrame. \n",
        "- Rows with `NaN` values will be dropped.\n",
        "\n",
        "Then use your modified function to import the `renthop-nyc.csv` file into a DataFrame named `df`."
      ]
    },
    {
      "cell_type": "code",
      "metadata": {
        "id": "XtL8hElWPd1L",
        "colab": {
          "base_uri": "https://localhost:8080/"
        },
        "outputId": "7e37c1d3-e194-4522-ca91-f01c918c4d52"
      },
      "source": [
        "\n",
        "# Task 1: Import csv file using wrangle function.\n",
        "# BLOCKER: generic \"name\" error without imports first\n",
        "df = wrangle(filepath)\n",
        "df['bathrooms'].value_counts(ascending=False,sort=True)\n",
        "#df.head()"
      ],
      "execution_count": null,
      "outputs": [
        {
          "output_type": "execute_result",
          "data": {
            "text/plain": [
              "1.0    37816\n",
              "2.0     7421\n",
              "3.0      663\n",
              "1.5      641\n",
              "0.0      304\n",
              "2.5      256\n",
              "4.0       91\n",
              "3.5       55\n",
              "4.5        8\n",
              "5.0        4\n",
              "Name: bathrooms, dtype: int64"
            ]
          },
          "metadata": {
            "tags": []
          },
          "execution_count": 190
        }
      ]
    },
    {
      "cell_type": "markdown",
      "metadata": {
        "id": "lijwyNHsPd1P"
      },
      "source": [
        "**Task 2:** Using your `pandas` and dataviz skills decide on two features that you want to engineer for your dataset. Next, modify your `wrangle` function to add those features. \n",
        "\n",
        "**Note:** You can learn more about feature engineering [here](https://en.wikipedia.org/wiki/Feature_engineering). Here are some ideas for new features:\n",
        "\n",
        "- Does the apartment have a description?\n",
        "- Length of description.\n",
        "- Total number of perks that apartment has.\n",
        "- Are cats _or_ dogs allowed?\n",
        "- Are cats _and_ dogs allowed?\n",
        "- Total number of rooms (beds + baths)."
      ]
    },
    {
      "cell_type": "code",
      "metadata": {
        "id": "DB-vlNf0Pd1S",
        "colab": {
          "base_uri": "https://localhost:8080/",
          "height": 946
        },
        "outputId": "077287bd-cf27-420a-e03a-a9b160cfb4ed"
      },
      "source": [
        "# Conduct your exploratory data analysis here, \n",
        "# and then modify the function above.\n",
        "# Theory: predict price based on whether accessible.\n",
        "#plt.scatter(x='bedrooms', y='price', data=df)\n",
        "plt.scatter(x='bathrooms', y='price', data=df)\n",
        "#plt.scatter(x='inaccessible', y='price', data=df)\n",
        "#plt.scatter(x='Outdoor_perks', y='price', data=df)\n",
        "df.info()\n",
        "#sns.regplot(x='bedrooms', y='price', data=df, fit_reg=True)\n",
        "#df['wheelchair_access'].value_counts()\n",
        "#df['inaccessible'].sort_values(ascending=True)\n"
      ],
      "execution_count": null,
      "outputs": [
        {
          "output_type": "stream",
          "text": [
            "<class 'pandas.core.frame.DataFrame'>\n",
            "DatetimeIndex: 47259 entries, 2016-06-24 07:54:24 to 2016-04-12 02:48:07\n",
            "Data columns (total 33 columns):\n",
            " #   Column                    Non-Null Count  Dtype  \n",
            "---  ------                    --------------  -----  \n",
            " 0   bathrooms                 47259 non-null  float64\n",
            " 1   bedrooms                  47259 non-null  int64  \n",
            " 2   latitude                  47259 non-null  float64\n",
            " 3   longitude                 47259 non-null  float64\n",
            " 4   price                     47259 non-null  int64  \n",
            " 5   elevator                  47259 non-null  int64  \n",
            " 6   cats_allowed              47259 non-null  int64  \n",
            " 7   hardwood_floors           47259 non-null  int64  \n",
            " 8   dogs_allowed              47259 non-null  int64  \n",
            " 9   doorman                   47259 non-null  int64  \n",
            " 10  dishwasher                47259 non-null  int64  \n",
            " 11  no_fee                    47259 non-null  int64  \n",
            " 12  laundry_in_building       47259 non-null  int64  \n",
            " 13  fitness_center            47259 non-null  int64  \n",
            " 14  pre-war                   47259 non-null  int64  \n",
            " 15  laundry_in_unit           47259 non-null  int64  \n",
            " 16  roof_deck                 47259 non-null  int64  \n",
            " 17  outdoor_space             47259 non-null  int64  \n",
            " 18  dining_room               47259 non-null  int64  \n",
            " 19  high_speed_internet       47259 non-null  int64  \n",
            " 20  balcony                   47259 non-null  int64  \n",
            " 21  swimming_pool             47259 non-null  int64  \n",
            " 22  new_construction          47259 non-null  int64  \n",
            " 23  terrace                   47259 non-null  int64  \n",
            " 24  exclusive                 47259 non-null  int64  \n",
            " 25  loft                      47259 non-null  int64  \n",
            " 26  garden_patio              47259 non-null  int64  \n",
            " 27  wheelchair_access         47259 non-null  int64  \n",
            " 28  common_outdoor_space      47259 non-null  int64  \n",
            " 29  petBias                   47259 non-null  int64  \n",
            " 30  inaccessible              47259 non-null  int64  \n",
            " 31  number_of_perks           47259 non-null  int64  \n",
            " 32  number_of_beds_and_baths  47259 non-null  float64\n",
            "dtypes: float64(4), int64(29)\n",
            "memory usage: 12.3 MB\n"
          ],
          "name": "stdout"
        },
        {
          "output_type": "display_data",
          "data": {
            "image/png": "[encoded data removed]",
            "text/plain": [
              "<Figure size 432x288 with 1 Axes>"
            ]
          },
          "metadata": {
            "tags": [],
            "needs_background": "light"
          }
        }
      ]
    },
    {
      "cell_type": "code",
      "metadata": {
        "id": "Ueh0iBtjvW3a"
      },
      "source": [
        ""
      ],
      "execution_count": null,
      "outputs": []
    },
    {
      "cell_type": "markdown",
      "metadata": {
        "id": "eDEuLhd7Pd1T"
      },
      "source": [
        "# II. Split Data\n",
        "\n",
        "**Task 3:** Split your DataFrame `df` into a feature matrix `X` and the target vector `y`. You want to predict `'price'`.\n",
        "\n",
        "**Note:** In contrast to the last module project, this time you should include _all_ the numerical features in your dataset."
      ]
    },
    {
      "cell_type": "code",
      "metadata": {
        "id": "BPGawcn6Pd1U",
        "colab": {
          "base_uri": "https://localhost:8080/"
        },
        "outputId": "8dc7433f-8608-4a5d-b925-0e050e3c2341"
      },
      "source": [
        "target = 'price'\n",
        "\n",
        "#X = df.select_dtypes('number').drop(columns=target)\n",
        "# is the same as saying...\n",
        "X = df.drop(columns=target)\n",
        "y = df[target]\n",
        "\n",
        "print(f'Feature matrix (X) shape: {X.shape}\\nTarget vector (y) shape: {y.shape}')\n",
        "# show target (price) is missing\n",
        "X.index"
      ],
      "execution_count": null,
      "outputs": [
        {
          "output_type": "stream",
          "text": [
            "Feature matrix (X) shape: (47259, 32)\n",
            "Target vector (y) shape: (47259,)\n"
          ],
          "name": "stdout"
        },
        {
          "output_type": "execute_result",
          "data": {
            "text/plain": [
              "DatetimeIndex(['2016-06-24 07:54:24', '2016-06-12 12:19:27',\n",
              "               '2016-04-17 03:26:41', '2016-04-18 02:22:02',\n",
              "               '2016-04-28 01:32:41', '2016-04-19 04:24:47',\n",
              "               '2016-04-27 03:19:56', '2016-04-13 06:01:42',\n",
              "               '2016-04-20 02:36:35', '2016-04-02 02:58:15',\n",
              "               ...\n",
              "               '2016-04-07 02:29:00', '2016-04-02 03:17:03',\n",
              "               '2016-04-14 03:39:42', '2016-04-11 03:29:05',\n",
              "               '2016-04-22 15:44:11', '2016-06-02 05:41:05',\n",
              "               '2016-04-04 18:22:34', '2016-04-16 02:13:40',\n",
              "               '2016-04-08 02:13:33', '2016-04-12 02:48:07'],\n",
              "              dtype='datetime64[ns]', name='created', length=47259, freq=None)"
            ]
          },
          "metadata": {
            "tags": []
          },
          "execution_count": 192
        }
      ]
    },
    {
      "cell_type": "markdown",
      "metadata": {
        "id": "ywpeP8UaPd1V"
      },
      "source": [
        "**Task 4:** Split `X` and `y` into a training set (`X_train`, `y_train`) and a test set (`X_test`, `y_test`).\n",
        "\n",
        "- Your training set should include data from April and May 2016. \n",
        "- Your test set should include data from June 2016."
      ]
    },
    {
      "cell_type": "code",
      "metadata": {
        "id": "hqWNlFVwPd1W",
        "colab": {
          "base_uri": "https://localhost:8080/",
          "height": 442
        },
        "outputId": "45f01b57-ce83-4a47-f322-a7e699a144c5"
      },
      "source": [
        "# X_train, y_train = ..., ...\n",
        "# X_test, y_test = ..., ...\n",
        "#df=df.sort_index()\n",
        "\n",
        "#X_train, y_train = X.loc['2016-04-01' : '2016-05-31'], y.loc['2016-04-01' : '2016-05-31']\n",
        "#X_test, y_test = X.loc['2016-06-01' : '2016-06-30'], y.loc['2016-06-01' : '2016-06-30']\n",
        "\n",
        "# Creating the cutoff for training and test data sets\n",
        "\n",
        "cutoff = '2016-06-01'\n",
        "mask = X.index < cutoff\n",
        "X_train, y_train = X.loc[mask], y.loc[mask]\n",
        "X_test, y_test = X.loc[~mask], y.loc[~mask]\n",
        "\n",
        "# can be shorter with...\n",
        "#cutoff = X.index <'2016-06-01'\n",
        "\n",
        "# Creating the training data set\n",
        "#X_train, y_train = X.loc[cutoff], y.loc[cutoff]\n",
        "\n",
        "# Creating the test data set\n",
        "#X_test, y_test = X.loc[~cutoff], y.loc[~cutoff]\n",
        "\n",
        "\n",
        "X_train.head()\n"
      ],
      "execution_count": null,
      "outputs": [
        {
          "output_type": "execute_result",
          "data": {
            "text/html": [
              "<div>\n",
              "<style scoped>\n",
              "    .dataframe tbody tr th:only-of-type {\n",
              "        vertical-align: middle;\n",
              "    }\n",
              "\n",
              "    .dataframe tbody tr th {\n",
              "        vertical-align: top;\n",
              "    }\n",
              "\n",
              "    .dataframe thead th {\n",
              "        text-align: right;\n",
              "    }\n",
              "</style>\n",
              "<table border=\"1\" class=\"dataframe\">\n",
              "  <thead>\n",
              "    <tr style=\"text-align: right;\">\n",
              "      <th></th>\n",
              "      <th>bathrooms</th>\n",
              "      <th>bedrooms</th>\n",
              "      <th>latitude</th>\n",
              "      <th>longitude</th>\n",
              "      <th>elevator</th>\n",
              "      <th>cats_allowed</th>\n",
              "      <th>hardwood_floors</th>\n",
              "      <th>dogs_allowed</th>\n",
              "      <th>doorman</th>\n",
              "      <th>dishwasher</th>\n",
              "      <th>no_fee</th>\n",
              "      <th>laundry_in_building</th>\n",
              "      <th>fitness_center</th>\n",
              "      <th>pre-war</th>\n",
              "      <th>laundry_in_unit</th>\n",
              "      <th>roof_deck</th>\n",
              "      <th>outdoor_space</th>\n",
              "      <th>dining_room</th>\n",
              "      <th>high_speed_internet</th>\n",
              "      <th>balcony</th>\n",
              "      <th>swimming_pool</th>\n",
              "      <th>new_construction</th>\n",
              "      <th>terrace</th>\n",
              "      <th>exclusive</th>\n",
              "      <th>loft</th>\n",
              "      <th>garden_patio</th>\n",
              "      <th>wheelchair_access</th>\n",
              "      <th>common_outdoor_space</th>\n",
              "      <th>petBias</th>\n",
              "      <th>inaccessible</th>\n",
              "      <th>number_of_perks</th>\n",
              "      <th>number_of_beds_and_baths</th>\n",
              "    </tr>\n",
              "    <tr>\n",
              "      <th>created</th>\n",
              "      <th></th>\n",
              "      <th></th>\n",
              "      <th></th>\n",
              "      <th></th>\n",
              "      <th></th>\n",
              "      <th></th>\n",
              "      <th></th>\n",
              "      <th></th>\n",
              "      <th></th>\n",
              "      <th></th>\n",
              "      <th></th>\n",
              "      <th></th>\n",
              "      <th></th>\n",
              "      <th></th>\n",
              "      <th></th>\n",
              "      <th></th>\n",
              "      <th></th>\n",
              "      <th></th>\n",
              "      <th></th>\n",
              "      <th></th>\n",
              "      <th></th>\n",
              "      <th></th>\n",
              "      <th></th>\n",
              "      <th></th>\n",
              "      <th></th>\n",
              "      <th></th>\n",
              "      <th></th>\n",
              "      <th></th>\n",
              "      <th></th>\n",
              "      <th></th>\n",
              "      <th></th>\n",
              "      <th></th>\n",
              "    </tr>\n",
              "  </thead>\n",
              "  <tbody>\n",
              "    <tr>\n",
              "      <th>2016-04-17 03:26:41</th>\n",
              "      <td>1.0</td>\n",
              "      <td>1</td>\n",
              "      <td>40.7388</td>\n",
              "      <td>-74.0018</td>\n",
              "      <td>0</td>\n",
              "      <td>0</td>\n",
              "      <td>1</td>\n",
              "      <td>0</td>\n",
              "      <td>0</td>\n",
              "      <td>1</td>\n",
              "      <td>0</td>\n",
              "      <td>1</td>\n",
              "      <td>0</td>\n",
              "      <td>0</td>\n",
              "      <td>0</td>\n",
              "      <td>0</td>\n",
              "      <td>0</td>\n",
              "      <td>0</td>\n",
              "      <td>0</td>\n",
              "      <td>0</td>\n",
              "      <td>0</td>\n",
              "      <td>0</td>\n",
              "      <td>0</td>\n",
              "      <td>0</td>\n",
              "      <td>0</td>\n",
              "      <td>0</td>\n",
              "      <td>0</td>\n",
              "      <td>0</td>\n",
              "      <td>0</td>\n",
              "      <td>1</td>\n",
              "      <td>3</td>\n",
              "      <td>2.0</td>\n",
              "    </tr>\n",
              "    <tr>\n",
              "      <th>2016-04-18 02:22:02</th>\n",
              "      <td>1.0</td>\n",
              "      <td>1</td>\n",
              "      <td>40.7539</td>\n",
              "      <td>-73.9677</td>\n",
              "      <td>0</td>\n",
              "      <td>0</td>\n",
              "      <td>1</td>\n",
              "      <td>0</td>\n",
              "      <td>0</td>\n",
              "      <td>0</td>\n",
              "      <td>1</td>\n",
              "      <td>0</td>\n",
              "      <td>0</td>\n",
              "      <td>0</td>\n",
              "      <td>0</td>\n",
              "      <td>0</td>\n",
              "      <td>0</td>\n",
              "      <td>0</td>\n",
              "      <td>0</td>\n",
              "      <td>0</td>\n",
              "      <td>0</td>\n",
              "      <td>0</td>\n",
              "      <td>0</td>\n",
              "      <td>0</td>\n",
              "      <td>0</td>\n",
              "      <td>0</td>\n",
              "      <td>0</td>\n",
              "      <td>0</td>\n",
              "      <td>0</td>\n",
              "      <td>1</td>\n",
              "      <td>2</td>\n",
              "      <td>2.0</td>\n",
              "    </tr>\n",
              "    <tr>\n",
              "      <th>2016-04-28 01:32:41</th>\n",
              "      <td>1.0</td>\n",
              "      <td>4</td>\n",
              "      <td>40.8241</td>\n",
              "      <td>-73.9493</td>\n",
              "      <td>0</td>\n",
              "      <td>0</td>\n",
              "      <td>0</td>\n",
              "      <td>0</td>\n",
              "      <td>0</td>\n",
              "      <td>0</td>\n",
              "      <td>0</td>\n",
              "      <td>0</td>\n",
              "      <td>0</td>\n",
              "      <td>1</td>\n",
              "      <td>0</td>\n",
              "      <td>0</td>\n",
              "      <td>0</td>\n",
              "      <td>0</td>\n",
              "      <td>0</td>\n",
              "      <td>0</td>\n",
              "      <td>0</td>\n",
              "      <td>0</td>\n",
              "      <td>0</td>\n",
              "      <td>0</td>\n",
              "      <td>0</td>\n",
              "      <td>0</td>\n",
              "      <td>0</td>\n",
              "      <td>0</td>\n",
              "      <td>0</td>\n",
              "      <td>1</td>\n",
              "      <td>1</td>\n",
              "      <td>5.0</td>\n",
              "    </tr>\n",
              "    <tr>\n",
              "      <th>2016-04-19 04:24:47</th>\n",
              "      <td>2.0</td>\n",
              "      <td>4</td>\n",
              "      <td>40.7429</td>\n",
              "      <td>-74.0028</td>\n",
              "      <td>0</td>\n",
              "      <td>0</td>\n",
              "      <td>0</td>\n",
              "      <td>0</td>\n",
              "      <td>0</td>\n",
              "      <td>0</td>\n",
              "      <td>0</td>\n",
              "      <td>0</td>\n",
              "      <td>0</td>\n",
              "      <td>0</td>\n",
              "      <td>0</td>\n",
              "      <td>0</td>\n",
              "      <td>0</td>\n",
              "      <td>0</td>\n",
              "      <td>0</td>\n",
              "      <td>0</td>\n",
              "      <td>0</td>\n",
              "      <td>0</td>\n",
              "      <td>0</td>\n",
              "      <td>0</td>\n",
              "      <td>0</td>\n",
              "      <td>0</td>\n",
              "      <td>0</td>\n",
              "      <td>0</td>\n",
              "      <td>0</td>\n",
              "      <td>1</td>\n",
              "      <td>0</td>\n",
              "      <td>6.0</td>\n",
              "    </tr>\n",
              "    <tr>\n",
              "      <th>2016-04-27 03:19:56</th>\n",
              "      <td>1.0</td>\n",
              "      <td>2</td>\n",
              "      <td>40.8012</td>\n",
              "      <td>-73.9660</td>\n",
              "      <td>0</td>\n",
              "      <td>1</td>\n",
              "      <td>0</td>\n",
              "      <td>1</td>\n",
              "      <td>0</td>\n",
              "      <td>0</td>\n",
              "      <td>1</td>\n",
              "      <td>0</td>\n",
              "      <td>0</td>\n",
              "      <td>0</td>\n",
              "      <td>0</td>\n",
              "      <td>0</td>\n",
              "      <td>0</td>\n",
              "      <td>0</td>\n",
              "      <td>0</td>\n",
              "      <td>0</td>\n",
              "      <td>0</td>\n",
              "      <td>0</td>\n",
              "      <td>0</td>\n",
              "      <td>0</td>\n",
              "      <td>0</td>\n",
              "      <td>0</td>\n",
              "      <td>0</td>\n",
              "      <td>0</td>\n",
              "      <td>0</td>\n",
              "      <td>1</td>\n",
              "      <td>3</td>\n",
              "      <td>3.0</td>\n",
              "    </tr>\n",
              "  </tbody>\n",
              "</table>\n",
              "</div>"
            ],
            "text/plain": [
              "                     bathrooms  ...  number_of_beds_and_baths\n",
              "created                         ...                          \n",
              "2016-04-17 03:26:41        1.0  ...                       2.0\n",
              "2016-04-18 02:22:02        1.0  ...                       2.0\n",
              "2016-04-28 01:32:41        1.0  ...                       5.0\n",
              "2016-04-19 04:24:47        2.0  ...                       6.0\n",
              "2016-04-27 03:19:56        1.0  ...                       3.0\n",
              "\n",
              "[5 rows x 32 columns]"
            ]
          },
          "metadata": {
            "tags": []
          },
          "execution_count": 193
        }
      ]
    },
    {
      "cell_type": "markdown",
      "metadata": {
        "id": "hZ6gUKD9Pd1X"
      },
      "source": [
        "# III. Establish Baseline"
      ]
    },
    {
      "cell_type": "markdown",
      "metadata": {
        "id": "x5BuXPDXPd1Y"
      },
      "source": [
        "**Task 5:** Since this is a **regression** problem, you need to calculate the baseline mean absolute error for your model. First, calculate the mean of `y_train`. Next, create a list `y_pred` that has the same length as `y_train` and where every item in the list is the mean. Finally, use `mean_absolute_error` to calculate your baseline."
      ]
    },
    {
      "cell_type": "code",
      "metadata": {
        "id": "Kn-60SiAPd1Y",
        "colab": {
          "base_uri": "https://localhost:8080/"
        },
        "outputId": "a1fd6fed-b48c-4bb9-92a6-90b69be22373"
      },
      "source": [
        "from sklearn.metrics import mean_absolute_error\n",
        "\n",
        "y_pred = [y_train.mean()] * len(y_train)\n",
        "baseline_mae = mean_absolute_error(y_train, y_pred) \n",
        "\n",
        "print('Baseline MAE:', baseline_mae)\n",
        "print('Mean Apartment rent', y_train.mean())"
      ],
      "execution_count": null,
      "outputs": [
        {
          "output_type": "stream",
          "text": [
            "Baseline MAE: 1202.4362220470398\n",
            "Mean Apartment rent 3573.240188281123\n"
          ],
          "name": "stdout"
        }
      ]
    },
    {
      "cell_type": "markdown",
      "metadata": {
        "id": "K5WYK_ZGPd1Z"
      },
      "source": [
        "# IV. Build Model\n",
        "\n",
        "**Task 6:** Build and train a `LinearRegression` model named `model` using your feature matrix `X_train` and your target vector `y_train`."
      ]
    },
    {
      "cell_type": "code",
      "metadata": {
        "id": "1Gp7rIz0Pd1a",
        "colab": {
          "base_uri": "https://localhost:8080/"
        },
        "outputId": "f4965d1e-b4c1-4b92-8d01-cc5fb211fc6e"
      },
      "source": [
        "# Step 1: Import predictor class\n",
        "from sklearn.linear_model import LinearRegression\n",
        "\n",
        "# Step 2: Instantiate predictor\n",
        "model = LinearRegression()\n",
        "\n",
        "# Step 3: Fit predictor on the (training) data\n",
        "model.fit(X_train, y_train)\n"
      ],
      "execution_count": null,
      "outputs": [
        {
          "output_type": "execute_result",
          "data": {
            "text/plain": [
              "LinearRegression(copy_X=True, fit_intercept=True, n_jobs=None, normalize=False)"
            ]
          },
          "metadata": {
            "tags": []
          },
          "execution_count": 195
        }
      ]
    },
    {
      "cell_type": "markdown",
      "metadata": {
        "id": "OhBepsBNPd1a"
      },
      "source": [
        "# V. Check Metrics\n",
        "\n",
        "**Task 7:** Calculate the training and test mean absolute error for your model."
      ]
    },
    {
      "cell_type": "code",
      "metadata": {
        "id": "KH0TQtskPd1b",
        "colab": {
          "base_uri": "https://localhost:8080/"
        },
        "outputId": "b80aa2d0-3bb3-4199-ad90-36b61a3fa5b5"
      },
      "source": [
        "#In two steps...\n",
        "#y_pred_train = model.predict(X_train)\n",
        "#y_pred_test = model.predict(X_test)\n",
        "##NotFittedError: This LinearRegression instance is not fitted yet. Call 'fit' with appropriate arguments before using this estimator.\n",
        "#training_mae = mean_absolute_error(y_pred_train,y_train)\n",
        "#test_mae = mean_absolute_error(y_pred_test,y_test)\n",
        "\n",
        "#In one...\n",
        "training_mae = mean_absolute_error(y_train, model.predict(X_train))\n",
        "test_mae = mean_absolute_error(y_test, model.predict(X_test))\n",
        "\n",
        "print('Training MAE:', training_mae)\n",
        "print('Test MAE:', test_mae)"
      ],
      "execution_count": null,
      "outputs": [
        {
          "output_type": "stream",
          "text": [
            "Training MAE: 692.4038540791548\n",
            "Test MAE: 701.4105774909184\n"
          ],
          "name": "stdout"
        }
      ]
    },
    {
      "cell_type": "markdown",
      "metadata": {
        "id": "I3ArwXFMPd1c"
      },
      "source": [
        "**Task 8:** Calculate the training and test $R^2$ score for your model."
      ]
    },
    {
      "cell_type": "code",
      "metadata": {
        "id": "JBdt2XUQPd1e",
        "colab": {
          "base_uri": "https://localhost:8080/"
        },
        "outputId": "5dbbaf61-5554-4c37-9ef8-0f297a123c7c"
      },
      "source": [
        "training_r2 = model.score(X_train,y_train)\n",
        "test_r2 = model.score(X_test,y_test)\n",
        "\n",
        "print('Training MAE:', training_r2)\n",
        "print('Test MAE:', test_r2)"
      ],
      "execution_count": null,
      "outputs": [
        {
          "output_type": "stream",
          "text": [
            "Training MAE: 0.6192421458225952\n",
            "Test MAE: 0.6263726149800508\n"
          ],
          "name": "stdout"
        }
      ]
    },
    {
      "cell_type": "markdown",
      "metadata": {
        "id": "JdgVaO94Pd1g"
      },
      "source": [
        "# VI. Communicate Results\n",
        "\n",
        "**Stretch Goal:** What are the three most influential coefficients in your linear model? You should consider the _absolute value_ of each coefficient, so that it doesn't matter if it's positive or negative."
      ]
    },
    {
      "cell_type": "code",
      "metadata": {
        "id": "TsHYFYMU5Cwl"
      },
      "source": [
        ""
      ],
      "execution_count": null,
      "outputs": []
    },
    {
      "cell_type": "code",
      "metadata": {
        "id": "V-uY9NjfIBGO",
        "colab": {
          "base_uri": "https://localhost:8080/"
        },
        "outputId": "ec885ed5-a2e3-4414-dd9f-7aef59af16b6"
      },
      "source": [
        "# Lets look at the coefficients and what they are associated with\n",
        "feature_importance = abs(pd.Series(model.coef_, index = X_train.columns)).sort_values()\n",
        "feature_importance.head()\n"
      ],
      "execution_count": null,
      "outputs": [
        {
          "output_type": "execute_result",
          "data": {
            "text/plain": [
              "number_of_perks      27.187500\n",
              "dishwasher           29.743381\n",
              "wheelchair_access    30.675781\n",
              "swimming_pool        30.967773\n",
              "garden_patio         71.931641\n",
              "dtype: float64"
            ]
          },
          "metadata": {
            "tags": []
          },
          "execution_count": 205
        }
      ]
    },
    {
      "cell_type": "code",
      "metadata": {
        "id": "6Xhu9GGvPd1h",
        "colab": {
          "base_uri": "https://localhost:8080/"
        },
        "outputId": "5598f048-0564-42c3-b19f-96b7245fea9d"
      },
      "source": [
        "feature_importance = abs(pd.Series(model.coef_, index = X_train.columns)).sort_values()\n",
        "feature_importance.head()"
      ],
      "execution_count": null,
      "outputs": [
        {
          "output_type": "execute_result",
          "data": {
            "text/plain": [
              "number_of_perks      27.187500\n",
              "dishwasher           29.743381\n",
              "wheelchair_access    30.675781\n",
              "swimming_pool        30.967773\n",
              "garden_patio         71.931641\n",
              "dtype: float64"
            ]
          },
          "metadata": {
            "tags": []
          },
          "execution_count": 202
        }
      ]
    },
    {
      "cell_type": "code",
      "metadata": {
        "id": "QJFn986_zdWq",
        "colab": {
          "base_uri": "https://localhost:8080/",
          "height": 278
        },
        "outputId": "74ec426a-8da2-4dad-917f-b4df4f023c69"
      },
      "source": [
        "feature_importance.tail(10).plot(kind = 'barh')\n",
        "plt.show()"
      ],
      "execution_count": null,
      "outputs": [
        {
          "output_type": "display_data",
          "data": {
            "image/png": "[encoded data removed]",
            "text/plain": [
              "<Figure size 432x288 with 1 Axes>"
            ]
          },
          "metadata": {
            "tags": [],
            "needs_background": "light"
          }
        }
      ]
    },
    {
      "cell_type": "code",
      "metadata": {
        "colab": {
          "base_uri": "https://localhost:8080/"
        },
        "id": "AuA1R1Ooz97F",
        "outputId": "23156d78-4dd3-4f19-a51d-4f3f16059bf7"
      },
      "source": [
        "feature_importance = abs(pd.Series(model.coef_, index=X_train.columns)).sort_values(key=abs).tail(10)\n",
        "feature_importance.head()"
      ],
      "execution_count": null,
      "outputs": [
        {
          "output_type": "execute_result",
          "data": {
            "text/plain": [
              "laundry_in_building    282.940013\n",
              "elevator               299.212218\n",
              "high_speed_internet    362.820312\n",
              "doorman                450.875771\n",
              "laundry_in_unit        470.463549\n",
              "dtype: float64"
            ]
          },
          "metadata": {
            "tags": []
          },
          "execution_count": 206
        }
      ]
    },
    {
      "cell_type": "code",
      "metadata": {
        "colab": {
          "base_uri": "https://localhost:8080/",
          "height": 278
        },
        "id": "bOVReOpMzprF",
        "outputId": "a1c7711a-0ea8-468e-c3cd-ec758f337462"
      },
      "source": [
        "feature_importance = abs(pd.Series(model.coef_, index=X_train.columns)).sort_values(key=abs).tail(10)\n",
        "feature_importance.head()\n",
        "\n",
        "feature_importance.tail(10).plot(kind = 'barh')\n",
        "plt.show()"
      ],
      "execution_count": null,
      "outputs": [
        {
          "output_type": "display_data",
          "data": {
            "image/png": "[encoded data removed]",
            "text/plain": [
              "<Figure size 432x288 with 1 Axes>"
            ]
          },
          "metadata": {
            "tags": [],
            "needs_background": "light"
          }
        }
      ]
    }
  ]
}