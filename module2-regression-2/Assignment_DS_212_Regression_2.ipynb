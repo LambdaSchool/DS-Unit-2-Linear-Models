{
  "nbformat": 4,
  "nbformat_minor": 0,
  "metadata": {
    "colab": {
      "name": "Assignment - DS 212 - Regression 2.ipynb",
      "provenance": [],
      "collapsed_sections": [],
      "include_colab_link": true
    },
    "kernelspec": {
      "display_name": "Python 3",
      "language": "python",
      "name": "python3"
    },
    "language_info": {
      "codemirror_mode": {
        "name": "ipython",
        "version": 3
      },
      "file_extension": ".py",
      "mimetype": "text/x-python",
      "name": "python",
      "nbconvert_exporter": "python",
      "pygments_lexer": "ipython3",
      "version": "3.7.3"
    }
  },
  "cells": [
    {
      "cell_type": "markdown",
      "metadata": {
        "id": "view-in-github",
        "colab_type": "text"
      },
      "source": [
        "<a href=\"https://colab.research.google.com/github/chrishuskey/DS-Unit-2-Linear-Models/blob/master/module2-regression-2/Assignment_DS_212_Regression_2.ipynb\" target=\"_parent\"><img src=\"https://colab.research.google.com/assets/colab-badge.svg\" alt=\"Open In Colab\"/></a>"
      ]
    },
    {
      "cell_type": "markdown",
      "metadata": {
        "id": "cScljW0znyhn",
        "colab_type": "text"
      },
      "source": [
        "Lambda School Data Science\n",
        "\n",
        "*Unit 2, Sprint 1, Module 2*\n",
        "\n",
        "---"
      ]
    },
    {
      "cell_type": "markdown",
      "metadata": {
        "colab_type": "text",
        "id": "7IXUfiQ2UKj6"
      },
      "source": [
        "# Regression 2\n",
        "\n",
        "## Assignment\n",
        "\n",
        "You'll continue to **predict how much it costs to rent an apartment in NYC,** using the dataset from renthop.com.\n",
        "\n",
        "- [✓] Do train/test split. Use data from April & May 2016 to train. Use data from June 2016 to test.\n",
        "- [✓] Engineer at least two new features. (See below for explanation & ideas.)\n",
        "- [✓] Fit a linear regression model with at least two features.\n",
        "- [✓] Get the model's coefficients and intercept.\n",
        "- [✓] Get regression metrics RMSE, MAE, and $R^2$, for both the train and test data.\n",
        "- [✓] What's the best test MAE you can get? Share your score and features used with your cohort on Slack!\n",
        "- [✓] As always, commit your notebook to your fork of the GitHub repo.\n",
        "\n",
        "\n",
        "#### [Feature Engineering](https://en.wikipedia.org/wiki/Feature_engineering)\n",
        "\n",
        "> \"Some machine learning projects succeed and some fail. What makes the difference? Easily the most important factor is the features used.\" — Pedro Domingos, [\"A Few Useful Things to Know about Machine Learning\"](https://homes.cs.washington.edu/~pedrod/papers/cacm12.pdf)\n",
        "\n",
        "> \"Coming up with features is difficult, time-consuming, requires expert knowledge. 'Applied machine learning' is basically feature engineering.\" — Andrew Ng, [Machine Learning and AI via Brain simulations](https://forum.stanford.edu/events/2011/2011slides/plenary/2011plenaryNg.pdf) \n",
        "\n",
        "> Feature engineering is the process of using domain knowledge of the data to create features that make machine learning algorithms work. \n",
        "\n",
        "#### Feature Ideas\n",
        "- Does the apartment have a description?\n",
        "- How long is the description?\n",
        "- How many total perks does each apartment have?\n",
        "- Are cats _or_ dogs allowed?\n",
        "- Are cats _and_ dogs allowed?\n",
        "- Total number of rooms (beds + baths)\n",
        "- Ratio of beds to baths\n",
        "- What's the neighborhood, based on address or latitude & longitude?\n",
        "\n",
        "## Stretch Goals\n",
        "- [ ] If you want more math, skim [_An Introduction to Statistical Learning_](http://faculty.marshall.usc.edu/gareth-james/ISL/ISLR%20Seventh%20Printing.pdf),  Chapter 3.1, Simple Linear Regression, & Chapter 3.2, Multiple Linear Regression\n",
        "- [ ] If you want more introduction, watch [Brandon Foltz, Statistics 101: Simple Linear Regression](https://www.youtube.com/watch?v=ZkjP5RJLQF4)\n",
        "(20 minutes, over 1 million views)\n",
        "- [ ] Add your own stretch goal(s) !"
      ]
    },
    {
      "cell_type": "code",
      "metadata": {
        "id": "Esmzis4XdOVz",
        "colab_type": "code",
        "colab": {}
      },
      "source": [
        "# Import libraries:\n",
        "import sys\n",
        "import numpy as np\n",
        "import pandas as pd\n",
        "import matplotlib.pyplot as plt\n",
        "import seaborn as sns\n",
        "import datetime\n",
        "from math import sqrt\n",
        "from sklearn.model_selection import train_test_split\n",
        "from sklearn.metrics import mean_absolute_error, mean_squared_error, r2_score"
      ],
      "execution_count": 0,
      "outputs": []
    },
    {
      "cell_type": "code",
      "metadata": {
        "colab_type": "code",
        "id": "o9eSnDYhUGD7",
        "colab": {}
      },
      "source": [
        "%%capture\n",
        "import sys\n",
        "\n",
        "# If you're on Colab:\n",
        "if 'google.colab' in sys.modules:\n",
        "    DATA_PATH = 'https://raw.githubusercontent.com/LambdaSchool/DS-Unit-2-Applied-Modeling/master/data/'\n",
        "    !pip install category_encoders==2.*\n",
        "\n",
        "# If you're working locally:\n",
        "else:\n",
        "    DATA_PATH = '../data/'\n",
        "    \n",
        "# Ignore this Numpy warning when using Plotly Express:\n",
        "# FutureWarning: Method .ptp is deprecated and will be removed in a future version. Use numpy.ptp instead.\n",
        "import warnings\n",
        "warnings.filterwarnings(action='ignore', category=FutureWarning, module='numpy')"
      ],
      "execution_count": 0,
      "outputs": []
    },
    {
      "cell_type": "code",
      "metadata": {
        "colab_type": "code",
        "id": "cvrw-T3bZOuW",
        "colab": {}
      },
      "source": [
        "# Read New York City apartment rental listing data\n",
        "rent_data = pd.read_csv(DATA_PATH+'apartments/renthop-nyc.csv')\n",
        "assert rent_data.shape == (49352, 34)"
      ],
      "execution_count": 0,
      "outputs": []
    },
    {
      "cell_type": "code",
      "metadata": {
        "id": "b0pBg92ic_w-",
        "colab_type": "code",
        "colab": {}
      },
      "source": [
        "# Remove the most extreme 0.1% of prices,\n",
        "# the most extreme 0.1% of latitudes, &\n",
        "# the most extreme 0.1% of longitudes:\n",
        "rent_data = rent_data[(rent_data['price'] >= rent_data['price'].quantile(0.001)) & \n",
        "        (rent_data['price'] <= rent_data['price'].quantile(0.999)) & \n",
        "        (rent_data['latitude'] >= rent_data['latitude'].quantile(0.001)) & \n",
        "        (rent_data['latitude'] < rent_data['latitude'].quantile(0.999)) &\n",
        "        (rent_data['longitude'] >= rent_data['longitude'].quantile(0.001)) & \n",
        "        (rent_data['longitude'] <= rent_data['longitude'].quantile(0.999))]"
      ],
      "execution_count": 0,
      "outputs": []
    },
    {
      "cell_type": "code",
      "metadata": {
        "id": "3nvVBP64fvyM",
        "colab_type": "code",
        "colab": {}
      },
      "source": [
        "# Change to the right data types:\n",
        "rent_data['created'] = pd.to_datetime(rent_data['created'], infer_datetime_format=True)  # infer_datetime_format can be up to 5-10x faster w.r.t. processing time"
      ],
      "execution_count": 0,
      "outputs": []
    },
    {
      "cell_type": "code",
      "metadata": {
        "id": "pPYr1ajPevIv",
        "colab_type": "code",
        "colab": {}
      },
      "source": [
        "# Split into training and test data:\n",
        "# Training data: listings from April and May 2016\n",
        "# Test data: listings from June 2016\n",
        "train = rent_data[(rent_data['created'].dt.month <= 5)]\n",
        "test = rent_data[rent_data['created'].dt.month == 6]\n",
        "\n",
        "# Check to make sure the resulting datasets have the right numbers of \n",
        "# observations (and that we got all of them) and features:\n",
        "assert (train.shape[0] + test.shape[0] == rent_data.shape[0]) & (train.shape[1] == rent_data.shape[1]) &  (test.shape[1] == rent_data.shape[1])"
      ],
      "execution_count": 0,
      "outputs": []
    },
    {
      "cell_type": "code",
      "metadata": {
        "id": "SqUT-nRlXxd8",
        "colab_type": "code",
        "outputId": "372f18b7-9966-43e1-b3a9-7ef3f3052bd3",
        "colab": {
          "base_uri": "https://localhost:8080/",
          "height": 952
        }
      },
      "source": [
        "# Add new feature:  Total # of bedrooms and bathrooms:\n",
        "train['bedrooms+bathrooms'] = train['bedrooms'] + train['bathrooms']\n",
        "test['bedrooms+bathrooms'] = test['bedrooms'] + test['bathrooms']\n",
        "\n",
        "# Add new feature:  Perks by price tiers:\n",
        "# The current features for amenities are all binary 0/1 \n",
        "# variables better suited to classification approaches.  But since we're \n",
        "# required to use linear regression here instead, one way to improve \n",
        "# price-predicting power would be to group perks by corresponding \n",
        "# price level (based on rarity in the data set, with some manual adjustments \n",
        "# based on intuition / \"domain knowledge\"):\n",
        "# (1) Level 1 perks: slight price-boosters\n",
        "# (2) Level 2 perks: higher end perks indicative of higher-rent apartments\n",
        "# (3) Level 3 perks: luxury perks indicative of very expensive apartments\n",
        "train['L1_price_boost_perks'] = train['elevator'] + (train['cats_allowed'] & train['dogs_allowed']) + train['laundry_in_building']\n",
        "train['L2_high_end_perks'] = train['hardwood_floors'] + train['doorman'] + train['dishwasher'] + train['fitness_center'] + train['pre-war'] + train['roof_deck'] + train['high_speed_internet']\n",
        "train['L3_luxury_perks'] = train['swimming_pool'] + train['laundry_in_unit'] + train['terrace'] + train['balcony'] + train['new_construction'] + train['loft']\n",
        "\n",
        "test['L1_price_boost_perks'] = test['elevator'] + (test['cats_allowed'] & test['dogs_allowed']) + test['laundry_in_building']\n",
        "test['L2_high_end_perks'] = test['hardwood_floors'] + test['doorman'] + test['dishwasher'] + test['fitness_center'] + test['pre-war'] + test['roof_deck'] + test['high_speed_internet']\n",
        "test['L3_luxury_perks'] = test['swimming_pool'] + test['laundry_in_unit'] + test['terrace'] + test['balcony'] + test['new_construction'] + test['loft']\n",
        "\n",
        "# Convert \"interest_level\" to simple 1/2/3 numerical representation of this \n",
        "# categorical variable, so we can work with this feature (given required to \n",
        "# use linear regression model here):\n",
        "train['interest_level'] = train['interest_level'].replace({'low': 1, 'medium': 2, 'high': 3})\n",
        "test['interest_level'] = test['interest_level'].replace({'low': 1, 'medium': 2, 'high': 3})\n",
        "\n",
        "# ------------------------------------------------------------------------------\n",
        "\n",
        "# [?? TO DO all below just for practice with aspects of Pandas/Python -- these \n",
        "# are all things I'm not 100% sure how to do, but should know how to do! ??]]\n",
        "\n",
        "# [?? What to do about the warnings below?  I'm getting the same warning x2 \n",
        "# when I use .loc instead to do the same as the above... ??]\n",
        "\n",
        "# [?? Luxury:\n",
        "# contains \"luxury\" in description (but this would be a 0/1 binary feature... \n",
        "# only useful for classification, or can we use with regression too?) ??]\n",
        "\n",
        "# [?? For the perks feature above, what is a better way to do this?  How would \n",
        "# a top tier data scientist frame this problem, if constrained to only using a \n",
        "# linear regression model and this starter dataset ??]\n",
        "\n",
        "# [?? Column selection based on conditions/criteria:  Sort perks into medium/price-boost, high-end/premium perks and luxury \n",
        "# perks automatically, by sorting the column names based on conditions: \n",
        "# median as 1 or 0, 75% percentile as 1 or 0, 90% quantile as 1 or 0.  \n",
        "# Not sure how to work with columns this way, only rows!!... --> need to learn ??]\n",
        "\n",
        "# df_a = train.copy()\n",
        "# a = df_a.median() == 0\n",
        "# a = pd.DataFrame(a)\n",
        "# a = a.reset_index()\n",
        "# a.columns = ['index', 'criterion']\n",
        "\n",
        "# b = a[a['criterion'] == True]\n",
        "# b\n",
        "\n",
        "# # for i in a:\n",
        "# #   if a.loc[i, criterion] == True:\n",
        "# #     print(a[i].index)\n",
        "\n",
        "# # # pd.DataFrame(data=train, column=list)"
      ],
      "execution_count": 0,
      "outputs": [
        {
          "output_type": "stream",
          "text": [
            "/usr/local/lib/python3.6/dist-packages/ipykernel_launcher.py:1: SettingWithCopyWarning: \n",
            "A value is trying to be set on a copy of a slice from a DataFrame.\n",
            "Try using .loc[row_indexer,col_indexer] = value instead\n",
            "\n",
            "See the caveats in the documentation: http://pandas.pydata.org/pandas-docs/stable/user_guide/indexing.html#returning-a-view-versus-a-copy\n",
            "  \"\"\"Entry point for launching an IPython kernel.\n",
            "/usr/local/lib/python3.6/dist-packages/ipykernel_launcher.py:2: SettingWithCopyWarning: \n",
            "A value is trying to be set on a copy of a slice from a DataFrame.\n",
            "Try using .loc[row_indexer,col_indexer] = value instead\n",
            "\n",
            "See the caveats in the documentation: http://pandas.pydata.org/pandas-docs/stable/user_guide/indexing.html#returning-a-view-versus-a-copy\n",
            "  \n",
            "/usr/local/lib/python3.6/dist-packages/ipykernel_launcher.py:14: SettingWithCopyWarning: \n",
            "A value is trying to be set on a copy of a slice from a DataFrame.\n",
            "Try using .loc[row_indexer,col_indexer] = value instead\n",
            "\n",
            "See the caveats in the documentation: http://pandas.pydata.org/pandas-docs/stable/user_guide/indexing.html#returning-a-view-versus-a-copy\n",
            "  \n",
            "/usr/local/lib/python3.6/dist-packages/ipykernel_launcher.py:15: SettingWithCopyWarning: \n",
            "A value is trying to be set on a copy of a slice from a DataFrame.\n",
            "Try using .loc[row_indexer,col_indexer] = value instead\n",
            "\n",
            "See the caveats in the documentation: http://pandas.pydata.org/pandas-docs/stable/user_guide/indexing.html#returning-a-view-versus-a-copy\n",
            "  from ipykernel import kernelapp as app\n",
            "/usr/local/lib/python3.6/dist-packages/ipykernel_launcher.py:16: SettingWithCopyWarning: \n",
            "A value is trying to be set on a copy of a slice from a DataFrame.\n",
            "Try using .loc[row_indexer,col_indexer] = value instead\n",
            "\n",
            "See the caveats in the documentation: http://pandas.pydata.org/pandas-docs/stable/user_guide/indexing.html#returning-a-view-versus-a-copy\n",
            "  app.launch_new_instance()\n",
            "/usr/local/lib/python3.6/dist-packages/ipykernel_launcher.py:18: SettingWithCopyWarning: \n",
            "A value is trying to be set on a copy of a slice from a DataFrame.\n",
            "Try using .loc[row_indexer,col_indexer] = value instead\n",
            "\n",
            "See the caveats in the documentation: http://pandas.pydata.org/pandas-docs/stable/user_guide/indexing.html#returning-a-view-versus-a-copy\n",
            "/usr/local/lib/python3.6/dist-packages/ipykernel_launcher.py:19: SettingWithCopyWarning: \n",
            "A value is trying to be set on a copy of a slice from a DataFrame.\n",
            "Try using .loc[row_indexer,col_indexer] = value instead\n",
            "\n",
            "See the caveats in the documentation: http://pandas.pydata.org/pandas-docs/stable/user_guide/indexing.html#returning-a-view-versus-a-copy\n",
            "/usr/local/lib/python3.6/dist-packages/ipykernel_launcher.py:20: SettingWithCopyWarning: \n",
            "A value is trying to be set on a copy of a slice from a DataFrame.\n",
            "Try using .loc[row_indexer,col_indexer] = value instead\n",
            "\n",
            "See the caveats in the documentation: http://pandas.pydata.org/pandas-docs/stable/user_guide/indexing.html#returning-a-view-versus-a-copy\n",
            "/usr/local/lib/python3.6/dist-packages/ipykernel_launcher.py:25: SettingWithCopyWarning: \n",
            "A value is trying to be set on a copy of a slice from a DataFrame.\n",
            "Try using .loc[row_indexer,col_indexer] = value instead\n",
            "\n",
            "See the caveats in the documentation: http://pandas.pydata.org/pandas-docs/stable/user_guide/indexing.html#returning-a-view-versus-a-copy\n",
            "/usr/local/lib/python3.6/dist-packages/ipykernel_launcher.py:26: SettingWithCopyWarning: \n",
            "A value is trying to be set on a copy of a slice from a DataFrame.\n",
            "Try using .loc[row_indexer,col_indexer] = value instead\n",
            "\n",
            "See the caveats in the documentation: http://pandas.pydata.org/pandas-docs/stable/user_guide/indexing.html#returning-a-view-versus-a-copy\n"
          ],
          "name": "stderr"
        }
      ]
    },
    {
      "cell_type": "code",
      "metadata": {
        "id": "-_54KfXjlR5M",
        "colab_type": "code",
        "colab": {}
      },
      "source": [
        "# # [?? To Do:  Improve new feature #2 by first weighting the following features \n",
        "# # by rarity and likely level of demand, rather than just adding up all of the \n",
        "# # 1's (has/doesn't have x amenity) ??]\n",
        "\n",
        "# # Categorize as:  Price premium features:\n",
        "# # Median and up:\n",
        "# 'elevator', \n",
        "# ('cats_allowed' & 'dogs_allowed', )\n",
        "# ('laundry_in_building' or 'laundry_in_unit')\n",
        "\n",
        "# # Categorize as:  High-end perks:\n",
        "# # 75% and up:\n",
        "# 'hardwood_floors', \n",
        "# 'doorman', \n",
        "# 'dishwasher', \n",
        "# 'fitness_center', \n",
        "# 'roof_deck'\n",
        "# 'high_speed_internet', \n",
        "# 'pre-war', \n",
        "\n",
        "# # Categorize as:  Luxury perks:\n",
        "# # Higher %s only (not even 75% has):\n",
        "# 'swimming_pool'\n",
        "# 'laundry_in_unit',  # means it's more likely to be a larger apt. --> higher price\n",
        "# 'balcony', \n",
        "# 'terrace', \n",
        "# 'new_construction', \n",
        "# 'loft',"
      ],
      "execution_count": 0,
      "outputs": []
    },
    {
      "cell_type": "code",
      "metadata": {
        "id": "YpAOfdoUSA4m",
        "colab_type": "code",
        "outputId": "7ceed417-76e8-4468-8021-13bc10420103",
        "colab": {
          "base_uri": "https://localhost:8080/",
          "height": 204
        }
      },
      "source": [
        "# Multiple Linear Regression Model for the above NYC apartment rent data:\n",
        "\n",
        "# Import model class:\n",
        "from sklearn.linear_model import LinearRegression\n",
        "\n",
        "# Initiate model:\n",
        "model = LinearRegression()\n",
        "\n",
        "# Features matrix and target vector:\n",
        "features = ['bedrooms+bathrooms', 'interest_level', 'L1_price_boost_perks', 'L2_high_end_perks', 'L3_luxury_perks']\n",
        "target = 'price'\n",
        "\n",
        "# Fit the model to our training data:\n",
        "model.fit(train[features], train[target])\n",
        "\n",
        "# Error on training set:\n",
        "y_true_train = train[target]\n",
        "y_pred_train = model.predict(train[features])\n",
        "print('Training Set: Model Error:')\n",
        "print(f'MAE: {mean_absolute_error(y_true_train, y_pred_train):.1f}')\n",
        "mse_train = mean_squared_error(y_true_train, y_pred_train)\n",
        "print(f'MSE: {mse_train:.1f}')\n",
        "print(f'RMSE: {sqrt(mse_train):.1f}')\n",
        "print(f'R^2 score: {r2_score(y_true_train, y_pred_train):.2f}\\n')\n",
        "\n",
        "# Error on new data: our test set:\n",
        "y_true_test = test[target]\n",
        "y_pred_test = model.predict(test[features])\n",
        "print('Test Data (New):  Model Error:')\n",
        "print(f'MAE: {mean_absolute_error(y_true_test, y_pred_test):.1f}')\n",
        "mse_test = mean_squared_error(y_true_test, y_pred_test)\n",
        "print(f'MSE: {mse_test:.1f}')\n",
        "print(f'RMSE: {sqrt(mse_test):.1f}')\n",
        "print(f'R^2 score: {r2_score(y_true_test, y_pred_test):.2f}')"
      ],
      "execution_count": 0,
      "outputs": [
        {
          "output_type": "stream",
          "text": [
            "Training Set: Model Error:\n",
            "MAE: 893.6\n",
            "MSE: 2253903.8\n",
            "RMSE: 1501.3\n",
            "R^2 score: 0.48\n",
            "\n",
            "Test Data (New):  Model Error:\n",
            "MAE: 900.4\n",
            "MSE: 2320432.3\n",
            "RMSE: 1523.3\n",
            "R^2 score: 0.48\n"
          ],
          "name": "stdout"
        }
      ]
    }
  ]
}