{
  "nbformat": 4,
  "nbformat_minor": 0,
  "metadata": {
    "colab": {
      "name": "Assignment - DS 212 - Regression 2.ipynb",
      "provenance": [],
      "collapsed_sections": [
        "qstF4eOqJrvJ",
        "Ezr-z58xgbXd",
        "ibSbmTC11BVG"
      ],
      "include_colab_link": true
    },
    "kernelspec": {
      "display_name": "Python 3",
      "language": "python",
      "name": "python3"
    },
    "language_info": {
      "codemirror_mode": {
        "name": "ipython",
        "version": 3
      },
      "file_extension": ".py",
      "mimetype": "text/x-python",
      "name": "python",
      "nbconvert_exporter": "python",
      "pygments_lexer": "ipython3",
      "version": "3.7.3"
    }
  },
  "cells": [
    {
      "cell_type": "markdown",
      "metadata": {
        "id": "view-in-github",
        "colab_type": "text"
      },
      "source": [
        "<a href=\"https://colab.research.google.com/github/chrishuskey/DS-Unit-2-Linear-Models/blob/master/module2-regression-2/Assignment_DS_212_Regression_2.ipynb\" target=\"_parent\"><img src=\"https://colab.research.google.com/assets/colab-badge.svg\" alt=\"Open In Colab\"/></a>"
      ]
    },
    {
      "cell_type": "markdown",
      "metadata": {
        "id": "cScljW0znyhn",
        "colab_type": "text"
      },
      "source": [
        "Lambda School Data Science\n",
        "\n",
        "*Unit 2, Sprint 1, Module 2*\n",
        "\n",
        "---"
      ]
    },
    {
      "cell_type": "markdown",
      "metadata": {
        "colab_type": "text",
        "id": "7IXUfiQ2UKj6"
      },
      "source": [
        "# Regression 2\n",
        "\n",
        "## Assignment\n",
        "\n",
        "You'll continue to **predict how much it costs to rent an apartment in NYC,** using the dataset from renthop.com.\n",
        "\n",
        "- [✓] Do train/test split. Use data from April & May 2016 to train. Use data from June 2016 to test.\n",
        "- [✓] Engineer at least two new features. (See below for explanation & ideas.)\n",
        "- [✓] Fit a linear regression model with at least two features.\n",
        "- [✓] Get the model's coefficients and intercept.\n",
        "- [✓] Get regression metrics RMSE, MAE, and $R^2$, for both the train and test data.\n",
        "- [✓] What's the best test MAE you can get? Share your score and features used with your cohort on Slack!\n",
        "- [✓] As always, commit your notebook to your fork of the GitHub repo.\n",
        "\n",
        "\n",
        "#### [Feature Engineering](https://en.wikipedia.org/wiki/Feature_engineering)\n",
        "\n",
        "> \"Some machine learning projects succeed and some fail. What makes the difference? Easily the most important factor is the features used.\" — Pedro Domingos, [\"A Few Useful Things to Know about Machine Learning\"](https://homes.cs.washington.edu/~pedrod/papers/cacm12.pdf)\n",
        "\n",
        "> \"Coming up with features is difficult, time-consuming, requires expert knowledge. 'Applied machine learning' is basically feature engineering.\" — Andrew Ng, [Machine Learning and AI via Brain simulations](https://forum.stanford.edu/events/2011/2011slides/plenary/2011plenaryNg.pdf) \n",
        "\n",
        "> Feature engineering is the process of using domain knowledge of the data to create features that make machine learning algorithms work. \n",
        "\n",
        "#### Feature Ideas\n",
        "- Does the apartment have a description?\n",
        "- How long is the description?\n",
        "- How many total perks does each apartment have?\n",
        "- Are cats _or_ dogs allowed?\n",
        "- Are cats _and_ dogs allowed?\n",
        "- Total number of rooms (beds + baths)\n",
        "- Ratio of beds to baths\n",
        "- What's the neighborhood, based on address or latitude & longitude?\n",
        "\n",
        "## Stretch Goals\n",
        "- [ ] If you want more math, skim [_An Introduction to Statistical Learning_](http://faculty.marshall.usc.edu/gareth-james/ISL/ISLR%20Seventh%20Printing.pdf),  Chapter 3.1, Simple Linear Regression, & Chapter 3.2, Multiple Linear Regression\n",
        "- [ ] If you want more introduction, watch [Brandon Foltz, Statistics 101: Simple Linear Regression](https://www.youtube.com/watch?v=ZkjP5RJLQF4)\n",
        "(20 minutes, over 1 million views)\n",
        "- [✓] Add your own stretch goal(s) !:  Experiment with better feature selection using the model coefficients (LinReg coeffs + SelectFromModel), Recursive Feature Elimination, etc."
      ]
    },
    {
      "cell_type": "code",
      "metadata": {
        "id": "Esmzis4XdOVz",
        "colab_type": "code",
        "colab": {}
      },
      "source": [
        "# Import libraries:\n",
        "import sys\n",
        "import numpy as np\n",
        "import pandas as pd\n",
        "import matplotlib.pyplot as plt\n",
        "import seaborn as sns\n",
        "import datetime\n",
        "from math import sqrt\n",
        "from sklearn.model_selection import train_test_split\n",
        "from sklearn.metrics import mean_absolute_error, mean_squared_error, r2_score"
      ],
      "execution_count": 0,
      "outputs": []
    },
    {
      "cell_type": "code",
      "metadata": {
        "colab_type": "code",
        "id": "o9eSnDYhUGD7",
        "colab": {}
      },
      "source": [
        "%%capture\n",
        "import sys\n",
        "\n",
        "# If you're on Colab:\n",
        "if 'google.colab' in sys.modules:\n",
        "    DATA_PATH = 'https://raw.githubusercontent.com/LambdaSchool/DS-Unit-2-Applied-Modeling/master/data/'\n",
        "    !pip install category_encoders==2.*\n",
        "\n",
        "# If you're working locally:\n",
        "else:\n",
        "    DATA_PATH = '../data/'\n",
        "    \n",
        "# Ignore this Numpy warning when using Plotly Express:\n",
        "# FutureWarning: Method .ptp is deprecated and will be removed in a future version. Use numpy.ptp instead.\n",
        "import warnings\n",
        "warnings.filterwarnings(action='ignore', category=FutureWarning, module='numpy')"
      ],
      "execution_count": 0,
      "outputs": []
    },
    {
      "cell_type": "code",
      "metadata": {
        "colab_type": "code",
        "id": "cvrw-T3bZOuW",
        "colab": {}
      },
      "source": [
        "# Read New York City apartment rental listing data\n",
        "rent_data = pd.read_csv(DATA_PATH+'apartments/renthop-nyc.csv')\n",
        "assert rent_data.shape == (49352, 34)"
      ],
      "execution_count": 0,
      "outputs": []
    },
    {
      "cell_type": "code",
      "metadata": {
        "id": "b0pBg92ic_w-",
        "colab_type": "code",
        "colab": {}
      },
      "source": [
        "# Remove the most extreme 0.1% of prices,\n",
        "# the most extreme 0.1% of latitudes, &\n",
        "# the most extreme 0.1% of longitudes:\n",
        "rent_data = rent_data[(rent_data['price'] >= rent_data['price'].quantile(0.001)) & \n",
        "        (rent_data['price'] <= rent_data['price'].quantile(0.999)) & \n",
        "        (rent_data['latitude'] >= rent_data['latitude'].quantile(0.001)) & \n",
        "        (rent_data['latitude'] <= rent_data['latitude'].quantile(0.999)) &\n",
        "        (rent_data['longitude'] >= rent_data['longitude'].quantile(0.001)) & \n",
        "        (rent_data['longitude'] <= rent_data['longitude'].quantile(0.999))]"
      ],
      "execution_count": 0,
      "outputs": []
    },
    {
      "cell_type": "code",
      "metadata": {
        "id": "3nvVBP64fvyM",
        "colab_type": "code",
        "colab": {}
      },
      "source": [
        "# Change to the right data types:\n",
        "rent_data['created'] = pd.to_datetime(rent_data['created'], infer_datetime_format=True)  # Note: Using infer_datetime_format can supposedly be up to 5-10x faster w.r.t. processing time"
      ],
      "execution_count": 0,
      "outputs": []
    },
    {
      "cell_type": "code",
      "metadata": {
        "id": "pPYr1ajPevIv",
        "colab_type": "code",
        "colab": {}
      },
      "source": [
        "# Split into training and test data:\n",
        "# Training data: listings from April and May 2016\n",
        "# Test data: listings from June 2016\n",
        "working_data = rent_data[(rent_data['created'].dt.month <= 5)]\n",
        "test = rent_data[rent_data['created'].dt.month == 6]\n",
        "\n",
        "# Split working_data into train and val sets:\n",
        "train, val = train_test_split(working_data, train_size=0.75, shuffle=True, random_state=42)\n",
        "\n",
        "\n",
        "\n",
        "# Check to make sure the resulting datasets have the right numbers of \n",
        "# observations (and that we got all of them) and features:\n",
        "assert (working_data.shape[0] + test.shape[0] == rent_data.shape[0]) & (\n",
        "    working_data.shape[1] == test.shape[1] == rent_data.shape[1])\n",
        "\n",
        "assert (train.shape[0] + val.shape[0] + test.shape[0] == rent_data.shape[0]) & (\n",
        "    train.shape[1] == val.shape[1] == test.shape[1] == rent_data.shape[1])"
      ],
      "execution_count": 0,
      "outputs": []
    },
    {
      "cell_type": "code",
      "metadata": {
        "id": "blqkYvjlEwZO",
        "colab_type": "code",
        "colab": {}
      },
      "source": [
        "# Function that implements all data prep. on input train/val/test datasets \n",
        "# in the same way:\n",
        "def data_prep(dataframe):\n",
        "  # Make copy to work with:\n",
        "  df = dataframe.copy()\n",
        "\n",
        "  # Add new feature:  Total # of bedrooms and bathrooms:\n",
        "  df['bedrooms+bathrooms'] = df['bedrooms'] + df['bathrooms']\n",
        "\n",
        "  # Add new feature:  Perks by price tiers:\n",
        "  # The current features for amenities are all binary 0/1 \n",
        "  # variables better suited to classification approaches.  But since we're \n",
        "  # required to use linear regression to predict price here instead, \n",
        "  # one way to improve price-predicting power would be to group perks by \n",
        "  # corresponding price level (based on rarity in the data set, with some \n",
        "  # manual adjustments based on intuition / \"domain knowledge\"):\n",
        "  # (1) Level 1 perks: slight price-boosters\n",
        "  # (2) Level 2 perks: higher end perks indicative of higher-rent apartments\n",
        "  # (3) Level 3 perks: luxury perks indicative of very expensive apartments\n",
        "  df['L1_price_boost_perks'] = df['elevator'] + (df['cats_allowed'] & df['dogs_allowed']) + df['laundry_in_building']\n",
        "  df['L2_high_end_perks'] = df['hardwood_floors'] + df['doorman'] + df['dishwasher'] + df['fitness_center'] + df['pre-war'] + df['roof_deck'] + df['high_speed_internet']\n",
        "  df['L3_luxury_perks'] = df['swimming_pool'] + df['laundry_in_unit'] + df['terrace'] + df['balcony'] + df['new_construction'] + df['loft']\n",
        "\n",
        "  # Pull info from datetime, bc we can't feed type datetime into sklearn models:\n",
        "  df['created_year'] = df['created'].dt.year\n",
        "  df['created_month'] = df['created'].dt.month\n",
        "\n",
        "  # Convert \"interest_level\" to ordinal (1/2/3 numerical representation), \n",
        "  # so we can work with this feature more easily:\n",
        "  df['interest_level'] = df['interest_level'].replace({'low': 1, 'medium': 2, 'high': 3})\n",
        "\n",
        "  # ------------------------------------------------------------------------------\n",
        "\n",
        "  # [?? TO DO all below just for practice with aspects of Pandas/Python -- these \n",
        "  # are all things I'm not 100% sure how to do, but should know how to do! ??]]\n",
        "\n",
        "  # [?? What to do about the warnings below?  I'm getting the same warning x2 \n",
        "  # when I use .loc instead to do the same as the above... ??]\n",
        "\n",
        "  # [?? Luxury:\n",
        "  # contains \"luxury\" in description (but this would be a 0/1 binary feature... \n",
        "  # only useful for classification, or can we use with regression too?) ??]\n",
        "\n",
        "  # [?? For the perks feature above, what is a better way to do this?  How would \n",
        "  # a top tier data scientist frame this problem, if constrained to only using a \n",
        "  # linear regression model and this starter dataset ??]\n",
        "\n",
        "  # [?? Column selection based on conditions/criteria:  Sort perks into medium/price-boost, high-end/premium perks and luxury \n",
        "  # perks automatically, by sorting the column names based on conditions: \n",
        "  # median as 1 or 0, 75% percentile as 1 or 0, 90% quantile as 1 or 0.  \n",
        "  # Not sure how to work with columns this way, only rows!!... --> need to learn ??]\n",
        "\n",
        "  # df_a = train.copy()\n",
        "  # a = df_a.median() == 0\n",
        "  # a = pd.DataFrame(a)\n",
        "  # a = a.reset_index()\n",
        "  # a.columns = ['index', 'criterion']\n",
        "\n",
        "  # b = a[a['criterion'] == True]\n",
        "  # b\n",
        "\n",
        "  # # for i in a:\n",
        "  # #   if a.loc[i, criterion] == True:\n",
        "  # #     print(a[i].index)\n",
        "\n",
        "  # # # pd.DataFrame(data=train, column=list)\n",
        "  \n",
        "  return df"
      ],
      "execution_count": 0,
      "outputs": []
    },
    {
      "cell_type": "code",
      "metadata": {
        "id": "xC2ev3fHEyz5",
        "colab_type": "code",
        "colab": {}
      },
      "source": [
        "# Implement data prep on each of train, val, test:\n",
        "train = data_prep(train)\n",
        "val = data_prep(val)\n",
        "test = data_prep(test)"
      ],
      "execution_count": 0,
      "outputs": []
    },
    {
      "cell_type": "code",
      "metadata": {
        "id": "-_54KfXjlR5M",
        "colab_type": "code",
        "colab": {}
      },
      "source": [
        "# # [?? To Do:  Improve new feature #2 by first weighting the following features \n",
        "# # by rarity and likely level of demand, rather than just adding up all of the \n",
        "# # 1's (has/doesn't have x amenity) ??]\n",
        "\n",
        "# # Categorize as:  Price premium features:\n",
        "# # Median and up:\n",
        "# 'elevator', \n",
        "# ('cats_allowed' & 'dogs_allowed', )\n",
        "# ('laundry_in_building' or 'laundry_in_unit')\n",
        "\n",
        "# # Categorize as:  High-end perks:\n",
        "# # 75% and up:\n",
        "# 'hardwood_floors', \n",
        "# 'doorman', \n",
        "# 'dishwasher', \n",
        "# 'fitness_center', \n",
        "# 'roof_deck'\n",
        "# 'high_speed_internet', \n",
        "# 'pre-war', \n",
        "\n",
        "# # Categorize as:  Luxury perks:\n",
        "# # Higher %s only (not even 75% has):\n",
        "# 'swimming_pool'\n",
        "# 'laundry_in_unit',  # means it's more likely to be a larger apt. --> higher price\n",
        "# 'balcony', \n",
        "# 'terrace', \n",
        "# 'new_construction', \n",
        "# 'loft',"
      ],
      "execution_count": 0,
      "outputs": []
    },
    {
      "cell_type": "markdown",
      "metadata": {
        "id": "ttZRcBnnSbzo",
        "colab_type": "text"
      },
      "source": [
        "# **Baselines:**"
      ]
    },
    {
      "cell_type": "code",
      "metadata": {
        "id": "0FbJAC80SfUY",
        "colab_type": "code",
        "colab": {
          "base_uri": "https://localhost:8080/",
          "height": 255
        },
        "outputId": "4667c0a8-5bbd-4000-f1a8-9dd6d7783c60"
      },
      "source": [
        "# DummyRegressor (mean) model to start with:\n",
        "mean_price = train[target].mean()\n",
        "\n",
        "# Performance of our dummy regression model:\n",
        "print('Performance: Baseline #1, Dummy Regression (Mean) Model:\\n')\n",
        "\n",
        "# Performance on Training Set:\n",
        "print('On Training Set:')\n",
        "y_true_train = y_train\n",
        "y_pred_train = [mean_price] * len(y_train)\n",
        "\n",
        "print(f'MAE: {mean_absolute_error(y_true_train, y_pred_train):.2f}')\n",
        "mse_train = mean_squared_error(y_true_train, y_pred_train)\n",
        "print(f'MSE: {mse_train:.2f}')\n",
        "print(f'RMSE: {sqrt(mse_train):.2f}')\n",
        "print(f'R^2 score: {r2_score(y_true_train, y_pred_train):.2f}\\n')\n",
        "\n",
        "# Performance on Validation Set:\n",
        "print('On Validation Set:')\n",
        "y_true_val = y_val\n",
        "y_pred_val = [mean_price] * len(y_val)\n",
        "\n",
        "print(f'MAE: {mean_absolute_error(y_true_val, y_pred_val):.2f}')\n",
        "mse_val = mean_squared_error(y_true_val, y_pred_val)\n",
        "print(f'MSE: {mse_val:.2f}')\n",
        "print(f'RMSE: {sqrt(mse_val):.2f}')\n",
        "print(f'R^2 score: {r2_score(y_true_val, y_pred_val):.2f}\\n')"
      ],
      "execution_count": 380,
      "outputs": [
        {
          "output_type": "stream",
          "text": [
            "Performance: Baseline #1, Dummy Regression (Mean) Model:\n",
            "\n",
            "On Training Set:\n",
            "MAE: 1280.13\n",
            "MSE: 4290590.36\n",
            "RMSE: 2071.37\n",
            "R^2 score: 0.00\n",
            "\n",
            "On Validation Set:\n",
            "MAE: 1299.49\n",
            "MSE: 4552541.37\n",
            "RMSE: 2133.67\n",
            "R^2 score: -0.00\n",
            "\n"
          ],
          "name": "stdout"
        }
      ]
    },
    {
      "cell_type": "code",
      "metadata": {
        "id": "YpAOfdoUSA4m",
        "colab_type": "code",
        "outputId": "b924b785-d02e-4dd7-b5b7-1e24ad764cc6",
        "colab": {
          "base_uri": "https://localhost:8080/",
          "height": 238
        }
      },
      "source": [
        "# Multiple Linear Regression Model for the above NYC apartment rent data:\n",
        "\n",
        "# Import model class:\n",
        "from sklearn.linear_model import LinearRegression\n",
        "\n",
        "# Initiate model:\n",
        "model = LinearRegression()\n",
        "\n",
        "# Features matrix and target vector:\n",
        "features = ['bedrooms+bathrooms', 'interest_level', 'L1_price_boost_perks', 'L2_high_end_perks', 'L3_luxury_perks']\n",
        "target = 'price'\n",
        "\n",
        "X_train = train[features]\n",
        "y_train = train[target]\n",
        "\n",
        "X_val = val[features]\n",
        "y_val = val[target]\n",
        "\n",
        "# Fit the model to our training data:\n",
        "model.fit(X_train, y_train)\n",
        "\n",
        "# Model Performance:\n",
        "print('Model Performance: Model #1, LinearRegression\\n')\n",
        "\n",
        "# Error on training set:\n",
        "print('On Training Set:')\n",
        "y_true_train = y_train\n",
        "y_pred_train = model.predict(X_train)\n",
        "\n",
        "print(f'MAE: {mean_absolute_error(y_true_train, y_pred_train):.1f}')\n",
        "mse_train = mean_squared_error(y_true_train, y_pred_train)\n",
        "print(f'MSE: {mse_train:.1f}')\n",
        "print(f'RMSE: {sqrt(mse_train):.1f}')\n",
        "print(f'R^2 score: {r2_score(y_true_train, y_pred_train):.2f}\\n')\n",
        "\n",
        "# Error on new data: our test set:\n",
        "print('On Validation Set:')\n",
        "y_true_val = y_val\n",
        "y_pred_val = model.predict(X_val)\n",
        "\n",
        "print(f'MAE: {mean_absolute_error(y_true_val, y_pred_val):.2f}')\n",
        "mse_test = mean_squared_error(y_true_val, y_pred_val)\n",
        "print(f'MSE: {mse_test:.2f}')\n",
        "print(f'RMSE: {sqrt(mse_test):.2f}')\n",
        "print(f'R^2 score: {r2_score(y_true_val, y_pred_val):.2f}')"
      ],
      "execution_count": 381,
      "outputs": [
        {
          "output_type": "stream",
          "text": [
            "Model Performance: Model #1, LinearRegression\n",
            "\n",
            "On Training Set:\n",
            "MAE: 888.6\n",
            "MSE: 2239107.8\n",
            "RMSE: 1496.4\n",
            "R^2 score: 0.48\n",
            "\n",
            "On Validation Set:\n",
            "MAE: 890.81\n",
            "MSE: 2300156.57\n",
            "RMSE: 1516.63\n",
            "R^2 score: 0.49\n"
          ],
          "name": "stdout"
        }
      ]
    },
    {
      "cell_type": "markdown",
      "metadata": {
        "id": "qstF4eOqJrvJ",
        "colab_type": "text"
      },
      "source": [
        "# **Feature Selection:**"
      ]
    },
    {
      "cell_type": "markdown",
      "metadata": {
        "id": "Eruf0gYTg13d",
        "colab_type": "text"
      },
      "source": [
        "Method 1: By LinearRegression Model Coefficients:"
      ]
    },
    {
      "cell_type": "code",
      "metadata": {
        "id": "RGmABqVsePM9",
        "colab_type": "code",
        "colab": {
          "base_uri": "https://localhost:8080/",
          "height": 255
        },
        "cellView": "both",
        "outputId": "816d59cf-b4bf-443a-ea0c-35d77137332a"
      },
      "source": [
        "# Run linear regression model using all features, so we can then check which \n",
        "# are most important for our predictions:\n",
        "# Multiple Linear Regression Model for the above NYC apartment rent data:\n",
        "\n",
        "# (1) Import model class:\n",
        "from sklearn.linear_model import LinearRegression\n",
        "\n",
        "# (2) Initiate model:\n",
        "fs1_linreg = LinearRegression()\n",
        "\n",
        "# (3) Define features matrix and target vector:\n",
        "\n",
        "# Features and target:\n",
        "target = 'price'\n",
        "features = train.columns.tolist()\n",
        "\n",
        "# Also need to remove the target feature, as well as features with types that \n",
        "# we can't input into sklearn models (e.g., datetime, strings):\n",
        "features_to_remove = [target, 'created', 'description', \n",
        "                      'display_address', 'street_address']\n",
        "for feature in features_to_remove:\n",
        "  features.remove(feature)\n",
        "\n",
        "# The resulting matrices & vectors:\n",
        "X_train = train[features]\n",
        "y_train = train[target]\n",
        "\n",
        "X_val = val[features]\n",
        "y_val = val[target]\n",
        "\n",
        "X_test = test[features]\n",
        "y_test = test[target]\n",
        "\n",
        "# (4) Fit the model to our training data:\n",
        "fs1_linreg.fit(X_train, y_train)\n",
        "\n",
        "# Performance on training data:\n",
        "print('Model Performance:\\n')\n",
        "\n",
        "y_true_train = y_train\n",
        "y_pred_train = fs1_linreg.predict(X_train)\n",
        "\n",
        "print('On Training Set:')\n",
        "print(f'Train MAE: {mean_absolute_error(y_true_train, y_pred_train):.1f}')\n",
        "mse_train = mean_squared_error(y_true_train, y_pred_train)\n",
        "print(f'Train MSE: {mse_train:.1f}')\n",
        "print(f'Train RMSE: {sqrt(mse_train):.1f}')\n",
        "print(f'Train R^2 score: {r2_score(y_true_train, y_pred_train):.2f}\\n')\n",
        "\n",
        "# Performance on validation set:\n",
        "y_true_val = y_val\n",
        "y_pred_val = fs1_linreg.predict(X_val)\n",
        "\n",
        "print('On Validation Set:')\n",
        "print(f'Train MAE: {mean_absolute_error(y_true_val, y_pred_val):.1f}')\n",
        "mse_val = mean_squared_error(y_true_val, y_pred_val)\n",
        "print(f'Train MSE: {mse_val:.1f}')\n",
        "print(f'Train RMSE: {sqrt(mse_val):.1f}')\n",
        "print(f'Train R^2 score: {r2_score(y_true_val, y_pred_val):.2f}\\n')"
      ],
      "execution_count": 382,
      "outputs": [
        {
          "output_type": "stream",
          "text": [
            "Model Performance:\n",
            "\n",
            "On Training Set:\n",
            "Train MAE: 738.6\n",
            "Train MSE: 1674763.4\n",
            "Train RMSE: 1294.1\n",
            "Train R^2 score: 0.61\n",
            "\n",
            "On Validation Set:\n",
            "Train MAE: 753.9\n",
            "Train MSE: 1716120.9\n",
            "Train RMSE: 1310.0\n",
            "Train R^2 score: 0.62\n",
            "\n"
          ],
          "name": "stdout"
        }
      ]
    },
    {
      "cell_type": "code",
      "metadata": {
        "id": "LG-KOTfoeP7U",
        "colab_type": "code",
        "colab": {
          "base_uri": "https://localhost:8080/",
          "height": 1000
        },
        "outputId": "54afaee4-2aa1-4078-d8a8-b93f42cb4a57"
      },
      "source": [
        "# Check linear regression coefficients to get a sense of feature importances:\n",
        "fs1_linreg_coeffs = pd.Series(fs1_linreg.coef_, X_val.columns)\n",
        "\n",
        "# Plot coefficients on chart:\n",
        "n = len(X_val.columns)\n",
        "plt.figure(figsize=(10, n/2))\n",
        "fs1_linreg_coeffs.sort_values().plot.barh(color='darkorange')\n",
        "plt.title('Relative Importance of Features: Coefficients in LinearRegression Model')\n",
        "plt.show()"
      ],
      "execution_count": 383,
      "outputs": [
        {
          "output_type": "display_data",
          "data": {
            "image/png": "[encoded data removed]",
            "text/plain": [
              "<Figure size 720x1260 with 1 Axes>"
            ]
          },
          "metadata": {
            "tags": []
          }
        }
      ]
    },
    {
      "cell_type": "code",
      "metadata": {
        "id": "YkvlxawheP4W",
        "colab_type": "code",
        "colab": {
          "base_uri": "https://localhost:8080/",
          "height": 34
        },
        "outputId": "3e42ebde-e811-451f-e44a-5f6005166362"
      },
      "source": [
        "# [?? What?? -- how to work with coefficients in a linear regression model... these make no sense ??]\n",
        "fs1_linreg_coeffs.loc['bathrooms']"
      ],
      "execution_count": 384,
      "outputs": [
        {
          "output_type": "execute_result",
          "data": {
            "text/plain": [
              "6017692779066412.0"
            ]
          },
          "metadata": {
            "tags": []
          },
          "execution_count": 384
        }
      ]
    },
    {
      "cell_type": "code",
      "metadata": {
        "id": "IeNPkFPYpHEf",
        "colab_type": "code",
        "colab": {
          "base_uri": "https://localhost:8080/",
          "height": 85
        },
        "outputId": "4b18979b-6706-477d-9bd8-6f5c4959d3aa"
      },
      "source": [
        "from sklearn.feature_selection import SelectFromModel\n",
        "\n",
        "# Initiate SelectFromModel feature selector:\n",
        "feature_selector_coeffs_raw = SelectFromModel(estimator=fs1_linreg, threshold='mean')\n",
        "\n",
        "# Fit feature selector:\n",
        "feature_selector_coeffs_raw.fit(X_train, y_train)"
      ],
      "execution_count": 385,
      "outputs": [
        {
          "output_type": "execute_result",
          "data": {
            "text/plain": [
              "SelectFromModel(estimator=LinearRegression(copy_X=True, fit_intercept=True,\n",
              "                                           n_jobs=None, normalize=False),\n",
              "                max_features=None, norm_order=1, prefit=False,\n",
              "                threshold='mean')"
            ]
          },
          "metadata": {
            "tags": []
          },
          "execution_count": 385
        }
      ]
    },
    {
      "cell_type": "code",
      "metadata": {
        "id": "XnFHaS9wrLb4",
        "colab_type": "code",
        "colab": {
          "base_uri": "https://localhost:8080/",
          "height": 1000
        },
        "outputId": "855b6af1-26a3-4645-dd6f-7e6afdbbf348"
      },
      "source": [
        "# See which features are supported based on raw coefficients:\n",
        "feature_names = X_train.columns\n",
        "pd.DataFrame(feature_selector_coeffs_raw.get_support(), \n",
        "             index=feature_names, \n",
        "             columns=['include']).sort_values(by='include', ascending=False)"
      ],
      "execution_count": 386,
      "outputs": [
        {
          "output_type": "execute_result",
          "data": {
            "text/html": [
              "<div>\n",
              "<style scoped>\n",
              "    .dataframe tbody tr th:only-of-type {\n",
              "        vertical-align: middle;\n",
              "    }\n",
              "\n",
              "    .dataframe tbody tr th {\n",
              "        vertical-align: top;\n",
              "    }\n",
              "\n",
              "    .dataframe thead th {\n",
              "        text-align: right;\n",
              "    }\n",
              "</style>\n",
              "<table border=\"1\" class=\"dataframe\">\n",
              "  <thead>\n",
              "    <tr style=\"text-align: right;\">\n",
              "      <th></th>\n",
              "      <th>include</th>\n",
              "    </tr>\n",
              "  </thead>\n",
              "  <tbody>\n",
              "    <tr>\n",
              "      <th>bathrooms</th>\n",
              "      <td>True</td>\n",
              "    </tr>\n",
              "    <tr>\n",
              "      <th>bedrooms+bathrooms</th>\n",
              "      <td>True</td>\n",
              "    </tr>\n",
              "    <tr>\n",
              "      <th>bedrooms</th>\n",
              "      <td>True</td>\n",
              "    </tr>\n",
              "    <tr>\n",
              "      <th>L3_luxury_perks</th>\n",
              "      <td>False</td>\n",
              "    </tr>\n",
              "    <tr>\n",
              "      <th>L2_high_end_perks</th>\n",
              "      <td>False</td>\n",
              "    </tr>\n",
              "    <tr>\n",
              "      <th>L1_price_boost_perks</th>\n",
              "      <td>False</td>\n",
              "    </tr>\n",
              "    <tr>\n",
              "      <th>created_year</th>\n",
              "      <td>False</td>\n",
              "    </tr>\n",
              "    <tr>\n",
              "      <th>common_outdoor_space</th>\n",
              "      <td>False</td>\n",
              "    </tr>\n",
              "    <tr>\n",
              "      <th>wheelchair_access</th>\n",
              "      <td>False</td>\n",
              "    </tr>\n",
              "    <tr>\n",
              "      <th>dining_room</th>\n",
              "      <td>False</td>\n",
              "    </tr>\n",
              "    <tr>\n",
              "      <th>loft</th>\n",
              "      <td>False</td>\n",
              "    </tr>\n",
              "    <tr>\n",
              "      <th>exclusive</th>\n",
              "      <td>False</td>\n",
              "    </tr>\n",
              "    <tr>\n",
              "      <th>terrace</th>\n",
              "      <td>False</td>\n",
              "    </tr>\n",
              "    <tr>\n",
              "      <th>new_construction</th>\n",
              "      <td>False</td>\n",
              "    </tr>\n",
              "    <tr>\n",
              "      <th>swimming_pool</th>\n",
              "      <td>False</td>\n",
              "    </tr>\n",
              "    <tr>\n",
              "      <th>balcony</th>\n",
              "      <td>False</td>\n",
              "    </tr>\n",
              "    <tr>\n",
              "      <th>high_speed_internet</th>\n",
              "      <td>False</td>\n",
              "    </tr>\n",
              "    <tr>\n",
              "      <th>garden_patio</th>\n",
              "      <td>False</td>\n",
              "    </tr>\n",
              "    <tr>\n",
              "      <th>outdoor_space</th>\n",
              "      <td>False</td>\n",
              "    </tr>\n",
              "    <tr>\n",
              "      <th>roof_deck</th>\n",
              "      <td>False</td>\n",
              "    </tr>\n",
              "    <tr>\n",
              "      <th>laundry_in_unit</th>\n",
              "      <td>False</td>\n",
              "    </tr>\n",
              "    <tr>\n",
              "      <th>pre-war</th>\n",
              "      <td>False</td>\n",
              "    </tr>\n",
              "    <tr>\n",
              "      <th>fitness_center</th>\n",
              "      <td>False</td>\n",
              "    </tr>\n",
              "    <tr>\n",
              "      <th>laundry_in_building</th>\n",
              "      <td>False</td>\n",
              "    </tr>\n",
              "    <tr>\n",
              "      <th>no_fee</th>\n",
              "      <td>False</td>\n",
              "    </tr>\n",
              "    <tr>\n",
              "      <th>dishwasher</th>\n",
              "      <td>False</td>\n",
              "    </tr>\n",
              "    <tr>\n",
              "      <th>doorman</th>\n",
              "      <td>False</td>\n",
              "    </tr>\n",
              "    <tr>\n",
              "      <th>dogs_allowed</th>\n",
              "      <td>False</td>\n",
              "    </tr>\n",
              "    <tr>\n",
              "      <th>hardwood_floors</th>\n",
              "      <td>False</td>\n",
              "    </tr>\n",
              "    <tr>\n",
              "      <th>cats_allowed</th>\n",
              "      <td>False</td>\n",
              "    </tr>\n",
              "    <tr>\n",
              "      <th>elevator</th>\n",
              "      <td>False</td>\n",
              "    </tr>\n",
              "    <tr>\n",
              "      <th>interest_level</th>\n",
              "      <td>False</td>\n",
              "    </tr>\n",
              "    <tr>\n",
              "      <th>longitude</th>\n",
              "      <td>False</td>\n",
              "    </tr>\n",
              "    <tr>\n",
              "      <th>latitude</th>\n",
              "      <td>False</td>\n",
              "    </tr>\n",
              "    <tr>\n",
              "      <th>created_month</th>\n",
              "      <td>False</td>\n",
              "    </tr>\n",
              "  </tbody>\n",
              "</table>\n",
              "</div>"
            ],
            "text/plain": [
              "                      include\n",
              "bathrooms                True\n",
              "bedrooms+bathrooms       True\n",
              "bedrooms                 True\n",
              "L3_luxury_perks         False\n",
              "L2_high_end_perks       False\n",
              "L1_price_boost_perks    False\n",
              "created_year            False\n",
              "common_outdoor_space    False\n",
              "wheelchair_access       False\n",
              "dining_room             False\n",
              "loft                    False\n",
              "exclusive               False\n",
              "terrace                 False\n",
              "new_construction        False\n",
              "swimming_pool           False\n",
              "balcony                 False\n",
              "high_speed_internet     False\n",
              "garden_patio            False\n",
              "outdoor_space           False\n",
              "roof_deck               False\n",
              "laundry_in_unit         False\n",
              "pre-war                 False\n",
              "fitness_center          False\n",
              "laundry_in_building     False\n",
              "no_fee                  False\n",
              "dishwasher              False\n",
              "doorman                 False\n",
              "dogs_allowed            False\n",
              "hardwood_floors         False\n",
              "cats_allowed            False\n",
              "elevator                False\n",
              "interest_level          False\n",
              "longitude               False\n",
              "latitude                False\n",
              "created_month           False"
            ]
          },
          "metadata": {
            "tags": []
          },
          "execution_count": 386
        }
      ]
    },
    {
      "cell_type": "code",
      "metadata": {
        "id": "UX5R13PLrQVz",
        "colab_type": "code",
        "colab": {
          "base_uri": "https://localhost:8080/",
          "height": 34
        },
        "outputId": "a728a857-1024-4298-854c-48053e201d39"
      },
      "source": [
        "selected_features_coeffs_raw = feature_names[feature_selector_coeffs_raw.get_support()].tolist()\n",
        "selected_features_coeffs_raw"
      ],
      "execution_count": 387,
      "outputs": [
        {
          "output_type": "execute_result",
          "data": {
            "text/plain": [
              "['bathrooms', 'bedrooms', 'bedrooms+bathrooms']"
            ]
          },
          "metadata": {
            "tags": []
          },
          "execution_count": 387
        }
      ]
    },
    {
      "cell_type": "markdown",
      "metadata": {
        "id": "BANN2FPmt5jA",
        "colab_type": "text"
      },
      "source": [
        "Coeffs w/ Normalized Feature Matrices:"
      ]
    },
    {
      "cell_type": "code",
      "metadata": {
        "id": "PiBr2AcWhuwJ",
        "colab_type": "code",
        "colab": {
          "base_uri": "https://localhost:8080/",
          "height": 255
        },
        "outputId": "32ceee70-e4df-4665-90f7-4459b325e6a2"
      },
      "source": [
        "# Cross-check with normalized features going into linear regression model:\n",
        "\n",
        "# Run linear regression model using all features, so we can then check which \n",
        "# are most important for our predictions:\n",
        "# Multiple Linear Regression Model for the above NYC apartment rent data:\n",
        "\n",
        "# (1) Import model class:\n",
        "from sklearn.linear_model import LinearRegression\n",
        "\n",
        "# (2) Initiate model:\n",
        "fs1_linreg_normalized = LinearRegression(normalize=True)\n",
        "\n",
        "# (3) Define features matrix and target vector:\n",
        "# Already defined above.\n",
        "\n",
        "# (4) Fit the model to our training data:\n",
        "fs1_linreg_normalized.fit(X_train, y_train)\n",
        "\n",
        "# Performance on training data:\n",
        "print('Model Performance: LinearRegression w/ Normalized Inputs\\n')\n",
        "\n",
        "y_true_train = y_train\n",
        "y_pred_train = fs1_linreg_normalized.predict(X_train)\n",
        "\n",
        "print('On Training Set:')\n",
        "print(f'Train MAE: {mean_absolute_error(y_true_train, y_pred_train):.1f}')\n",
        "mse_train = mean_squared_error(y_true_train, y_pred_train)\n",
        "print(f'Train MSE: {mse_train:.1f}')\n",
        "print(f'Train RMSE: {sqrt(mse_train):.1f}')\n",
        "print(f'Train R^2 score: {r2_score(y_true_train, y_pred_train):.2f}\\n')\n",
        "\n",
        "# Performance on validation set:\n",
        "y_true_val = y_val\n",
        "y_pred_val = fs1_linreg_normalized.predict(X_val)\n",
        "\n",
        "print('On Validation Set:')\n",
        "print(f'Train MAE: {mean_absolute_error(y_true_val, y_pred_val):.1f}')\n",
        "mse_val = mean_squared_error(y_true_val, y_pred_val)\n",
        "print(f'Train MSE: {mse_val:.1f}')\n",
        "print(f'Train RMSE: {sqrt(mse_val):.1f}')\n",
        "print(f'Train R^2 score: {r2_score(y_true_val, y_pred_val):.2f}\\n')"
      ],
      "execution_count": 388,
      "outputs": [
        {
          "output_type": "stream",
          "text": [
            "Model Performance: LinearRegression w/ Normalized Inputs\n",
            "\n",
            "On Training Set:\n",
            "Train MAE: 738.2\n",
            "Train MSE: 1674559.8\n",
            "Train RMSE: 1294.0\n",
            "Train R^2 score: 0.61\n",
            "\n",
            "On Validation Set:\n",
            "Train MAE: 753.4\n",
            "Train MSE: 1716393.3\n",
            "Train RMSE: 1310.1\n",
            "Train R^2 score: 0.62\n",
            "\n"
          ],
          "name": "stdout"
        }
      ]
    },
    {
      "cell_type": "code",
      "metadata": {
        "id": "7pC9US_6hutP",
        "colab_type": "code",
        "colab": {
          "base_uri": "https://localhost:8080/",
          "height": 1000
        },
        "outputId": "b873465b-f70c-4ddb-ade2-53d7b61f85bc"
      },
      "source": [
        "# Check linear regression coefficients to get a sense of feature importances:\n",
        "fs1_linreg_normalized_coeffs = pd.Series(fs1_linreg_normalized.coef_, X_val.columns)\n",
        "\n",
        "# Plot coefficients on chart:\n",
        "n = len(X_val.columns)\n",
        "plt.figure(figsize=(10, n/2))\n",
        "fs1_linreg_normalized_coeffs.sort_values().plot.barh(color='darkorange')\n",
        "plt.title('Relative Importance of Features: Coefficients in LinearRegression Model w/ Normalized Inputs')\n",
        "plt.show()"
      ],
      "execution_count": 389,
      "outputs": [
        {
          "output_type": "display_data",
          "data": {
            "image/png": "[encoded data removed]",
            "text/plain": [
              "<Figure size 720x1260 with 1 Axes>"
            ]
          },
          "metadata": {
            "tags": []
          }
        }
      ]
    },
    {
      "cell_type": "code",
      "metadata": {
        "id": "PrjdYIW8uIjU",
        "colab_type": "code",
        "colab": {
          "base_uri": "https://localhost:8080/",
          "height": 85
        },
        "outputId": "640b6d61-a5df-4b75-af68-d348e042156a"
      },
      "source": [
        "from sklearn.feature_selection import SelectFromModel\n",
        "\n",
        "# Initiate SelectFromModel feature selector:\n",
        "feature_selector_coeffs_normalized = SelectFromModel(estimator=fs1_linreg_normalized, threshold='mean')\n",
        "\n",
        "# Fit feature selector:\n",
        "feature_selector_coeffs_normalized.fit(X_train, y_train)"
      ],
      "execution_count": 390,
      "outputs": [
        {
          "output_type": "execute_result",
          "data": {
            "text/plain": [
              "SelectFromModel(estimator=LinearRegression(copy_X=True, fit_intercept=True,\n",
              "                                           n_jobs=None, normalize=True),\n",
              "                max_features=None, norm_order=1, prefit=False,\n",
              "                threshold='mean')"
            ]
          },
          "metadata": {
            "tags": []
          },
          "execution_count": 390
        }
      ]
    },
    {
      "cell_type": "code",
      "metadata": {
        "id": "rjX4m2WEuIhQ",
        "colab_type": "code",
        "colab": {
          "base_uri": "https://localhost:8080/",
          "height": 1000
        },
        "outputId": "f5da629c-a6df-4b6c-ceee-2e712c752fcc"
      },
      "source": [
        "# See which features are supported based on raw coefficients:\n",
        "feature_names = X_train.columns\n",
        "pd.DataFrame(feature_selector_coeffs_normalized.get_support(), \n",
        "             index=feature_names, \n",
        "             columns=['include']).sort_values(by='include', ascending=False)"
      ],
      "execution_count": 391,
      "outputs": [
        {
          "output_type": "execute_result",
          "data": {
            "text/html": [
              "<div>\n",
              "<style scoped>\n",
              "    .dataframe tbody tr th:only-of-type {\n",
              "        vertical-align: middle;\n",
              "    }\n",
              "\n",
              "    .dataframe tbody tr th {\n",
              "        vertical-align: top;\n",
              "    }\n",
              "\n",
              "    .dataframe thead th {\n",
              "        text-align: right;\n",
              "    }\n",
              "</style>\n",
              "<table border=\"1\" class=\"dataframe\">\n",
              "  <thead>\n",
              "    <tr style=\"text-align: right;\">\n",
              "      <th></th>\n",
              "      <th>include</th>\n",
              "    </tr>\n",
              "  </thead>\n",
              "  <tbody>\n",
              "    <tr>\n",
              "      <th>loft</th>\n",
              "      <td>True</td>\n",
              "    </tr>\n",
              "    <tr>\n",
              "      <th>balcony</th>\n",
              "      <td>True</td>\n",
              "    </tr>\n",
              "    <tr>\n",
              "      <th>L3_luxury_perks</th>\n",
              "      <td>True</td>\n",
              "    </tr>\n",
              "    <tr>\n",
              "      <th>laundry_in_unit</th>\n",
              "      <td>True</td>\n",
              "    </tr>\n",
              "    <tr>\n",
              "      <th>swimming_pool</th>\n",
              "      <td>True</td>\n",
              "    </tr>\n",
              "    <tr>\n",
              "      <th>new_construction</th>\n",
              "      <td>True</td>\n",
              "    </tr>\n",
              "    <tr>\n",
              "      <th>terrace</th>\n",
              "      <td>True</td>\n",
              "    </tr>\n",
              "    <tr>\n",
              "      <th>bathrooms</th>\n",
              "      <td>False</td>\n",
              "    </tr>\n",
              "    <tr>\n",
              "      <th>exclusive</th>\n",
              "      <td>False</td>\n",
              "    </tr>\n",
              "    <tr>\n",
              "      <th>garden_patio</th>\n",
              "      <td>False</td>\n",
              "    </tr>\n",
              "    <tr>\n",
              "      <th>dining_room</th>\n",
              "      <td>False</td>\n",
              "    </tr>\n",
              "    <tr>\n",
              "      <th>wheelchair_access</th>\n",
              "      <td>False</td>\n",
              "    </tr>\n",
              "    <tr>\n",
              "      <th>common_outdoor_space</th>\n",
              "      <td>False</td>\n",
              "    </tr>\n",
              "    <tr>\n",
              "      <th>bedrooms+bathrooms</th>\n",
              "      <td>False</td>\n",
              "    </tr>\n",
              "    <tr>\n",
              "      <th>L1_price_boost_perks</th>\n",
              "      <td>False</td>\n",
              "    </tr>\n",
              "    <tr>\n",
              "      <th>L2_high_end_perks</th>\n",
              "      <td>False</td>\n",
              "    </tr>\n",
              "    <tr>\n",
              "      <th>created_year</th>\n",
              "      <td>False</td>\n",
              "    </tr>\n",
              "    <tr>\n",
              "      <th>high_speed_internet</th>\n",
              "      <td>False</td>\n",
              "    </tr>\n",
              "    <tr>\n",
              "      <th>outdoor_space</th>\n",
              "      <td>False</td>\n",
              "    </tr>\n",
              "    <tr>\n",
              "      <th>bedrooms</th>\n",
              "      <td>False</td>\n",
              "    </tr>\n",
              "    <tr>\n",
              "      <th>roof_deck</th>\n",
              "      <td>False</td>\n",
              "    </tr>\n",
              "    <tr>\n",
              "      <th>pre-war</th>\n",
              "      <td>False</td>\n",
              "    </tr>\n",
              "    <tr>\n",
              "      <th>fitness_center</th>\n",
              "      <td>False</td>\n",
              "    </tr>\n",
              "    <tr>\n",
              "      <th>laundry_in_building</th>\n",
              "      <td>False</td>\n",
              "    </tr>\n",
              "    <tr>\n",
              "      <th>no_fee</th>\n",
              "      <td>False</td>\n",
              "    </tr>\n",
              "    <tr>\n",
              "      <th>dishwasher</th>\n",
              "      <td>False</td>\n",
              "    </tr>\n",
              "    <tr>\n",
              "      <th>doorman</th>\n",
              "      <td>False</td>\n",
              "    </tr>\n",
              "    <tr>\n",
              "      <th>dogs_allowed</th>\n",
              "      <td>False</td>\n",
              "    </tr>\n",
              "    <tr>\n",
              "      <th>hardwood_floors</th>\n",
              "      <td>False</td>\n",
              "    </tr>\n",
              "    <tr>\n",
              "      <th>cats_allowed</th>\n",
              "      <td>False</td>\n",
              "    </tr>\n",
              "    <tr>\n",
              "      <th>elevator</th>\n",
              "      <td>False</td>\n",
              "    </tr>\n",
              "    <tr>\n",
              "      <th>interest_level</th>\n",
              "      <td>False</td>\n",
              "    </tr>\n",
              "    <tr>\n",
              "      <th>longitude</th>\n",
              "      <td>False</td>\n",
              "    </tr>\n",
              "    <tr>\n",
              "      <th>latitude</th>\n",
              "      <td>False</td>\n",
              "    </tr>\n",
              "    <tr>\n",
              "      <th>created_month</th>\n",
              "      <td>False</td>\n",
              "    </tr>\n",
              "  </tbody>\n",
              "</table>\n",
              "</div>"
            ],
            "text/plain": [
              "                      include\n",
              "loft                     True\n",
              "balcony                  True\n",
              "L3_luxury_perks          True\n",
              "laundry_in_unit          True\n",
              "swimming_pool            True\n",
              "new_construction         True\n",
              "terrace                  True\n",
              "bathrooms               False\n",
              "exclusive               False\n",
              "garden_patio            False\n",
              "dining_room             False\n",
              "wheelchair_access       False\n",
              "common_outdoor_space    False\n",
              "bedrooms+bathrooms      False\n",
              "L1_price_boost_perks    False\n",
              "L2_high_end_perks       False\n",
              "created_year            False\n",
              "high_speed_internet     False\n",
              "outdoor_space           False\n",
              "bedrooms                False\n",
              "roof_deck               False\n",
              "pre-war                 False\n",
              "fitness_center          False\n",
              "laundry_in_building     False\n",
              "no_fee                  False\n",
              "dishwasher              False\n",
              "doorman                 False\n",
              "dogs_allowed            False\n",
              "hardwood_floors         False\n",
              "cats_allowed            False\n",
              "elevator                False\n",
              "interest_level          False\n",
              "longitude               False\n",
              "latitude                False\n",
              "created_month           False"
            ]
          },
          "metadata": {
            "tags": []
          },
          "execution_count": 391
        }
      ]
    },
    {
      "cell_type": "code",
      "metadata": {
        "id": "KylRQVOHuIeC",
        "colab_type": "code",
        "colab": {
          "base_uri": "https://localhost:8080/",
          "height": 136
        },
        "outputId": "655693c1-853a-4bd5-9f67-9261e0ceeb99"
      },
      "source": [
        "selected_features_coeffs_normalized = feature_names[feature_selector_coeffs_normalized.get_support()].tolist()\n",
        "selected_features_coeffs_normalized"
      ],
      "execution_count": 392,
      "outputs": [
        {
          "output_type": "execute_result",
          "data": {
            "text/plain": [
              "['laundry_in_unit',\n",
              " 'balcony',\n",
              " 'swimming_pool',\n",
              " 'new_construction',\n",
              " 'terrace',\n",
              " 'loft',\n",
              " 'L3_luxury_perks']"
            ]
          },
          "metadata": {
            "tags": []
          },
          "execution_count": 392
        }
      ]
    },
    {
      "cell_type": "markdown",
      "metadata": {
        "id": "zXBt4T50uJD0",
        "colab_type": "text"
      },
      "source": [
        "Coeffs w/ Standardized Feature Matrices:"
      ]
    },
    {
      "cell_type": "code",
      "metadata": {
        "id": "Mj4Rj1h3J1ir",
        "colab_type": "code",
        "colab": {
          "base_uri": "https://localhost:8080/",
          "height": 255
        },
        "outputId": "1931abe5-eb3f-4edf-a653-cac22be1a4ec"
      },
      "source": [
        "# Cross-check with standardized feature values fed into linear regression model:\n",
        "\n",
        "# (1) Import model class:\n",
        "from sklearn.linear_model import LinearRegression\n",
        "from sklearn.preprocessing import StandardScaler\n",
        "\n",
        "# (2) Initiate model:\n",
        "fs1_linreg_standardized = LinearRegression()\n",
        "\n",
        "# (3a) Define features matrix and target vector:\n",
        "# Already defined above.\n",
        "\n",
        "# (3b) Standardize our data, so we can better interpret the coefficients \n",
        "# w.r.t. what they mean about various features' importances:\n",
        "scaler = StandardScaler()\n",
        "X_train_standardized = scaler.fit_transform(X_train)\n",
        "X_val_standardized = scaler.transform(X_val)\n",
        "\n",
        "# (4) Fit the model to our training data:\n",
        "fs1_linreg_standardized.fit(X_train_standardized, y_train)\n",
        "\n",
        "# Performance on training data:\n",
        "print('Model Performance: LinearRegression w/ Standardized Inputs\\n')\n",
        "\n",
        "y_true_train = y_train\n",
        "y_pred_train = fs1_linreg_standardized.predict(X_train_standardized)\n",
        "\n",
        "print('On Training Set:')\n",
        "print(f'Train MAE: {mean_absolute_error(y_true_train, y_pred_train):.1f}')\n",
        "mse_train = mean_squared_error(y_true_train, y_pred_train)\n",
        "print(f'Train MSE: {mse_train:.1f}')\n",
        "print(f'Train RMSE: {sqrt(mse_train):.1f}')\n",
        "print(f'Train R^2 score: {r2_score(y_true_train, y_pred_train):.2f}\\n')\n",
        "\n",
        "# Performance on validation set:\n",
        "y_true_val = y_val\n",
        "y_pred_val = fs1_linreg_standardized.predict(X_val_standardized)\n",
        "\n",
        "print('On Validation Set:')\n",
        "print(f'Train MAE: {mean_absolute_error(y_true_val, y_pred_val):.1f}')\n",
        "mse_val = mean_squared_error(y_true_val, y_pred_val)\n",
        "print(f'Train MSE: {mse_val:.1f}')\n",
        "print(f'Train RMSE: {sqrt(mse_val):.1f}')\n",
        "print(f'Train R^2 score: {r2_score(y_true_val, y_pred_val):.2f}\\n')"
      ],
      "execution_count": 393,
      "outputs": [
        {
          "output_type": "stream",
          "text": [
            "Model Performance: LinearRegression w/ Standardized Inputs\n",
            "\n",
            "On Training Set:\n",
            "Train MAE: 738.0\n",
            "Train MSE: 1674551.5\n",
            "Train RMSE: 1294.0\n",
            "Train R^2 score: 0.61\n",
            "\n",
            "On Validation Set:\n",
            "Train MAE: 753.2\n",
            "Train MSE: 1716556.5\n",
            "Train RMSE: 1310.2\n",
            "Train R^2 score: 0.62\n",
            "\n"
          ],
          "name": "stdout"
        }
      ]
    },
    {
      "cell_type": "code",
      "metadata": {
        "id": "tV4RIr7rJuto",
        "colab_type": "code",
        "colab": {
          "base_uri": "https://localhost:8080/",
          "height": 1000
        },
        "outputId": "6a447783-4fb2-4505-a9e8-3092c722b899"
      },
      "source": [
        "# Check linear regression coefficients to get a sense of feature importances:\n",
        "fs1_linreg_standardized_coeffs = pd.Series(fs1_linreg_standardized.coef_, X_val.columns)\n",
        "\n",
        "# Plot coefficients on chart:\n",
        "n = len(X_val.columns)\n",
        "plt.figure(figsize=(10, n/2))\n",
        "fs1_linreg_standardized_coeffs.sort_values().plot.barh(color='darkorange')\n",
        "plt.title('Relative Importance of Features: Coefficients in LinearRegression Model')\n",
        "plt.show()"
      ],
      "execution_count": 394,
      "outputs": [
        {
          "output_type": "display_data",
          "data": {
            "image/png": "[encoded data removed]",
            "text/plain": [
              "<Figure size 720x1260 with 1 Axes>"
            ]
          },
          "metadata": {
            "tags": []
          }
        }
      ]
    },
    {
      "cell_type": "code",
      "metadata": {
        "id": "sEIYFibHvqNk",
        "colab_type": "code",
        "colab": {
          "base_uri": "https://localhost:8080/",
          "height": 85
        },
        "outputId": "0c6c379f-9529-45bc-854e-b5de714fd845"
      },
      "source": [
        "from sklearn.feature_selection import SelectFromModel\n",
        "\n",
        "# Initiate SelectFromModel feature selector:\n",
        "feature_selector_coeffs_standardized = SelectFromModel(estimator=fs1_linreg_standardized, threshold='median')\n",
        "\n",
        "# Fit feature selector:\n",
        "feature_selector_coeffs_standardized.fit(X_train, y_train)"
      ],
      "execution_count": 395,
      "outputs": [
        {
          "output_type": "execute_result",
          "data": {
            "text/plain": [
              "SelectFromModel(estimator=LinearRegression(copy_X=True, fit_intercept=True,\n",
              "                                           n_jobs=None, normalize=False),\n",
              "                max_features=None, norm_order=1, prefit=False,\n",
              "                threshold='median')"
            ]
          },
          "metadata": {
            "tags": []
          },
          "execution_count": 395
        }
      ]
    },
    {
      "cell_type": "code",
      "metadata": {
        "id": "AABBZzG2vqKj",
        "colab_type": "code",
        "colab": {
          "base_uri": "https://localhost:8080/",
          "height": 1000
        },
        "outputId": "705fabc3-03b5-4c75-8a4b-670fefdd9bac"
      },
      "source": [
        "# See which features are supported based on raw coefficients:\n",
        "feature_names = X_train.columns\n",
        "pd.DataFrame(feature_selector_coeffs_standardized.get_support(), \n",
        "             index=feature_names, \n",
        "             columns=['include']).sort_values(by='include', ascending=False)"
      ],
      "execution_count": 396,
      "outputs": [
        {
          "output_type": "execute_result",
          "data": {
            "text/html": [
              "<div>\n",
              "<style scoped>\n",
              "    .dataframe tbody tr th:only-of-type {\n",
              "        vertical-align: middle;\n",
              "    }\n",
              "\n",
              "    .dataframe tbody tr th {\n",
              "        vertical-align: top;\n",
              "    }\n",
              "\n",
              "    .dataframe thead th {\n",
              "        text-align: right;\n",
              "    }\n",
              "</style>\n",
              "<table border=\"1\" class=\"dataframe\">\n",
              "  <thead>\n",
              "    <tr style=\"text-align: right;\">\n",
              "      <th></th>\n",
              "      <th>include</th>\n",
              "    </tr>\n",
              "  </thead>\n",
              "  <tbody>\n",
              "    <tr>\n",
              "      <th>bathrooms</th>\n",
              "      <td>True</td>\n",
              "    </tr>\n",
              "    <tr>\n",
              "      <th>laundry_in_building</th>\n",
              "      <td>True</td>\n",
              "    </tr>\n",
              "    <tr>\n",
              "      <th>L1_price_boost_perks</th>\n",
              "      <td>True</td>\n",
              "    </tr>\n",
              "    <tr>\n",
              "      <th>bedrooms+bathrooms</th>\n",
              "      <td>True</td>\n",
              "    </tr>\n",
              "    <tr>\n",
              "      <th>wheelchair_access</th>\n",
              "      <td>True</td>\n",
              "    </tr>\n",
              "    <tr>\n",
              "      <th>exclusive</th>\n",
              "      <td>True</td>\n",
              "    </tr>\n",
              "    <tr>\n",
              "      <th>new_construction</th>\n",
              "      <td>True</td>\n",
              "    </tr>\n",
              "    <tr>\n",
              "      <th>high_speed_internet</th>\n",
              "      <td>True</td>\n",
              "    </tr>\n",
              "    <tr>\n",
              "      <th>dining_room</th>\n",
              "      <td>True</td>\n",
              "    </tr>\n",
              "    <tr>\n",
              "      <th>bedrooms</th>\n",
              "      <td>True</td>\n",
              "    </tr>\n",
              "    <tr>\n",
              "      <th>laundry_in_unit</th>\n",
              "      <td>True</td>\n",
              "    </tr>\n",
              "    <tr>\n",
              "      <th>outdoor_space</th>\n",
              "      <td>True</td>\n",
              "    </tr>\n",
              "    <tr>\n",
              "      <th>doorman</th>\n",
              "      <td>True</td>\n",
              "    </tr>\n",
              "    <tr>\n",
              "      <th>dogs_allowed</th>\n",
              "      <td>True</td>\n",
              "    </tr>\n",
              "    <tr>\n",
              "      <th>latitude</th>\n",
              "      <td>True</td>\n",
              "    </tr>\n",
              "    <tr>\n",
              "      <th>longitude</th>\n",
              "      <td>True</td>\n",
              "    </tr>\n",
              "    <tr>\n",
              "      <th>interest_level</th>\n",
              "      <td>True</td>\n",
              "    </tr>\n",
              "    <tr>\n",
              "      <th>elevator</th>\n",
              "      <td>True</td>\n",
              "    </tr>\n",
              "    <tr>\n",
              "      <th>no_fee</th>\n",
              "      <td>False</td>\n",
              "    </tr>\n",
              "    <tr>\n",
              "      <th>loft</th>\n",
              "      <td>False</td>\n",
              "    </tr>\n",
              "    <tr>\n",
              "      <th>created_year</th>\n",
              "      <td>False</td>\n",
              "    </tr>\n",
              "    <tr>\n",
              "      <th>L3_luxury_perks</th>\n",
              "      <td>False</td>\n",
              "    </tr>\n",
              "    <tr>\n",
              "      <th>L2_high_end_perks</th>\n",
              "      <td>False</td>\n",
              "    </tr>\n",
              "    <tr>\n",
              "      <th>common_outdoor_space</th>\n",
              "      <td>False</td>\n",
              "    </tr>\n",
              "    <tr>\n",
              "      <th>garden_patio</th>\n",
              "      <td>False</td>\n",
              "    </tr>\n",
              "    <tr>\n",
              "      <th>terrace</th>\n",
              "      <td>False</td>\n",
              "    </tr>\n",
              "    <tr>\n",
              "      <th>fitness_center</th>\n",
              "      <td>False</td>\n",
              "    </tr>\n",
              "    <tr>\n",
              "      <th>cats_allowed</th>\n",
              "      <td>False</td>\n",
              "    </tr>\n",
              "    <tr>\n",
              "      <th>swimming_pool</th>\n",
              "      <td>False</td>\n",
              "    </tr>\n",
              "    <tr>\n",
              "      <th>balcony</th>\n",
              "      <td>False</td>\n",
              "    </tr>\n",
              "    <tr>\n",
              "      <th>hardwood_floors</th>\n",
              "      <td>False</td>\n",
              "    </tr>\n",
              "    <tr>\n",
              "      <th>roof_deck</th>\n",
              "      <td>False</td>\n",
              "    </tr>\n",
              "    <tr>\n",
              "      <th>dishwasher</th>\n",
              "      <td>False</td>\n",
              "    </tr>\n",
              "    <tr>\n",
              "      <th>pre-war</th>\n",
              "      <td>False</td>\n",
              "    </tr>\n",
              "    <tr>\n",
              "      <th>created_month</th>\n",
              "      <td>False</td>\n",
              "    </tr>\n",
              "  </tbody>\n",
              "</table>\n",
              "</div>"
            ],
            "text/plain": [
              "                      include\n",
              "bathrooms                True\n",
              "laundry_in_building      True\n",
              "L1_price_boost_perks     True\n",
              "bedrooms+bathrooms       True\n",
              "wheelchair_access        True\n",
              "exclusive                True\n",
              "new_construction         True\n",
              "high_speed_internet      True\n",
              "dining_room              True\n",
              "bedrooms                 True\n",
              "laundry_in_unit          True\n",
              "outdoor_space            True\n",
              "doorman                  True\n",
              "dogs_allowed             True\n",
              "latitude                 True\n",
              "longitude                True\n",
              "interest_level           True\n",
              "elevator                 True\n",
              "no_fee                  False\n",
              "loft                    False\n",
              "created_year            False\n",
              "L3_luxury_perks         False\n",
              "L2_high_end_perks       False\n",
              "common_outdoor_space    False\n",
              "garden_patio            False\n",
              "terrace                 False\n",
              "fitness_center          False\n",
              "cats_allowed            False\n",
              "swimming_pool           False\n",
              "balcony                 False\n",
              "hardwood_floors         False\n",
              "roof_deck               False\n",
              "dishwasher              False\n",
              "pre-war                 False\n",
              "created_month           False"
            ]
          },
          "metadata": {
            "tags": []
          },
          "execution_count": 396
        }
      ]
    },
    {
      "cell_type": "code",
      "metadata": {
        "id": "WyPZuUkQvqH4",
        "colab_type": "code",
        "colab": {
          "base_uri": "https://localhost:8080/",
          "height": 323
        },
        "outputId": "1c66ea75-cc61-47c6-a91b-0c6cd0e3726f"
      },
      "source": [
        "selected_features_coeffs_standardized = feature_names[feature_selector_coeffs_standardized.get_support()].tolist()\n",
        "selected_features_coeffs_standardized"
      ],
      "execution_count": 397,
      "outputs": [
        {
          "output_type": "execute_result",
          "data": {
            "text/plain": [
              "['bathrooms',\n",
              " 'bedrooms',\n",
              " 'latitude',\n",
              " 'longitude',\n",
              " 'interest_level',\n",
              " 'elevator',\n",
              " 'dogs_allowed',\n",
              " 'doorman',\n",
              " 'laundry_in_building',\n",
              " 'laundry_in_unit',\n",
              " 'outdoor_space',\n",
              " 'dining_room',\n",
              " 'high_speed_internet',\n",
              " 'new_construction',\n",
              " 'exclusive',\n",
              " 'wheelchair_access',\n",
              " 'bedrooms+bathrooms',\n",
              " 'L1_price_boost_perks']"
            ]
          },
          "metadata": {
            "tags": []
          },
          "execution_count": 397
        }
      ]
    },
    {
      "cell_type": "markdown",
      "metadata": {
        "id": "Ezr-z58xgbXd",
        "colab_type": "text"
      },
      "source": [
        "### Method 2: Recursive Feature Elimination:"
      ]
    },
    {
      "cell_type": "code",
      "metadata": {
        "id": "nHVHiY9BLhIH",
        "colab_type": "code",
        "colab": {
          "base_uri": "https://localhost:8080/",
          "height": 0
        },
        "outputId": "67b8318c-e7c6-47c3-b5ce-2afdb119a665"
      },
      "source": [
        "from sklearn.pipeline import make_pipeline\n",
        "from sklearn.preprocessing import StandardScaler\n",
        "\n",
        "from sklearn.feature_selection import RFECV\n",
        "from sklearn.model_selection import StratifiedKFold\n",
        "\n",
        "# Initiate feature selector:\n",
        "feature_selector_rfe = RFECV(estimator=fs1_linreg, step=1, cv=StratifiedKFold(n_splits=5, random_state=42), scoring=\"neg_mean_absolute_error\")  # Alternative scoring options:  ‘neg_mean_squared_log_error’, ‘neg_root_mean_squared_error’, ‘neg_mean_squared_error’\n",
        "\n",
        "# Fit feature selector:\n",
        "feature_selector_rfe.fit(X_train, y_train)\n",
        "\n",
        "# Performance on training data:\n",
        "print('Model Performance: LinearRegression with RFECV for Feature Selection:\\n')\n",
        "\n",
        "y_true_train = y_train\n",
        "y_pred_train = feature_selector_rfe.predict(X_train)\n",
        "\n",
        "print('On Training Set:')\n",
        "print(f'Train MAE: {mean_absolute_error(y_true_train, y_pred_train):.1f}')\n",
        "mse_train = mean_squared_error(y_true_train, y_pred_train)\n",
        "print(f'Train MSE: {mse_train:.1f}')\n",
        "print(f'Train RMSE: {sqrt(mse_train):.1f}')\n",
        "print(f'Train R^2 score: {r2_score(y_true_train, y_pred_train):.2f}\\n')\n",
        "\n",
        "# Performance on validation set:\n",
        "y_true_val = y_val\n",
        "y_pred_val = feature_selector_rfe.predict(X_val)\n",
        "\n",
        "print('On Validation Set:')\n",
        "print(f'Train MAE: {mean_absolute_error(y_true_val, y_pred_val):.1f}')\n",
        "mse_val = mean_squared_error(y_true_val, y_pred_val)\n",
        "print(f'Train MSE: {mse_val:.1f}')\n",
        "print(f'Train RMSE: {sqrt(mse_val):.1f}')\n",
        "print(f'Train R^2 score: {r2_score(y_true_val, y_pred_val):.2f}\\n')"
      ],
      "execution_count": 398,
      "outputs": [
        {
          "output_type": "stream",
          "text": [
            "/usr/local/lib/python3.6/dist-packages/sklearn/model_selection/_split.py:657: Warning: The least populated class in y has only 1 members, which is too few. The minimum number of members in any class cannot be less than n_splits=5.\n",
            "  % (min_groups, self.n_splits)), Warning)\n"
          ],
          "name": "stderr"
        },
        {
          "output_type": "stream",
          "text": [
            "Model Performance: LinearRegression with RFECV for Feature Selection:\n",
            "\n",
            "On Training Set:\n",
            "Train MAE: 739.3\n",
            "Train MSE: 1674986.9\n",
            "Train RMSE: 1294.2\n",
            "Train R^2 score: 0.61\n",
            "\n",
            "On Validation Set:\n",
            "Train MAE: 754.7\n",
            "Train MSE: 1714820.6\n",
            "Train RMSE: 1309.5\n",
            "Train R^2 score: 0.62\n",
            "\n"
          ],
          "name": "stdout"
        }
      ]
    },
    {
      "cell_type": "code",
      "metadata": {
        "id": "ZSAYexcpnNH_",
        "colab_type": "code",
        "colab": {
          "base_uri": "https://localhost:8080/",
          "height": 0
        },
        "outputId": "2e772348-7e4a-4194-d49d-7f0148edef77"
      },
      "source": [
        "print(\"Optimal number of features : %d\" % feature_selector_rfe.n_features_)\n",
        "num_features_baseline = next(x for x, value in enumerate(feature_selector_rfe.grid_scores_) if value > -750)\n",
        "print(f'Capture bulk of accuracy with: {num_features_baseline}')\n",
        "\n",
        "# Plot number of features VS. cross-validation scores\n",
        "plt.figure()\n",
        "plt.xlabel(\"Number of features selected\")\n",
        "plt.ylabel(\"Negative Mean Absolute Error (MAE)\")\n",
        "plt.plot(range(1, len(feature_selector_rfe.grid_scores_) + 1), \n",
        "         feature_selector_rfe.grid_scores_)\n",
        "plt.show()"
      ],
      "execution_count": 399,
      "outputs": [
        {
          "output_type": "stream",
          "text": [
            "Optimal number of features : 29\n",
            "Capture bulk of accuracy with: 18\n"
          ],
          "name": "stdout"
        },
        {
          "output_type": "display_data",
          "data": {
            "image/png": "[encoded data removed]",
            "text/plain": [
              "<Figure size 432x288 with 1 Axes>"
            ]
          },
          "metadata": {
            "tags": []
          }
        }
      ]
    },
    {
      "cell_type": "code",
      "metadata": {
        "id": "qIKfBLl3oM_o",
        "colab_type": "code",
        "colab": {
          "base_uri": "https://localhost:8080/",
          "height": 0
        },
        "outputId": "e20084a8-f757-4b65-b380-d8f6365d4f32"
      },
      "source": [
        "ranks_rfecv = pd.DataFrame(data=feature_selector_rfe.ranking_, index=feature_names, columns=['ranking'])\n",
        "ranks_rfecv['include'] = feature_selector_rfe.support_\n",
        "ranks_rfecv['MAE_score'] = feature_selector_rfe.grid_scores_\n",
        "ranks_rfecv.sort_values(by='include', ascending=False)"
      ],
      "execution_count": 400,
      "outputs": [
        {
          "output_type": "execute_result",
          "data": {
            "text/html": [
              "<div>\n",
              "<style scoped>\n",
              "    .dataframe tbody tr th:only-of-type {\n",
              "        vertical-align: middle;\n",
              "    }\n",
              "\n",
              "    .dataframe tbody tr th {\n",
              "        vertical-align: top;\n",
              "    }\n",
              "\n",
              "    .dataframe thead th {\n",
              "        text-align: right;\n",
              "    }\n",
              "</style>\n",
              "<table border=\"1\" class=\"dataframe\">\n",
              "  <thead>\n",
              "    <tr style=\"text-align: right;\">\n",
              "      <th></th>\n",
              "      <th>ranking</th>\n",
              "      <th>include</th>\n",
              "      <th>MAE_score</th>\n",
              "    </tr>\n",
              "  </thead>\n",
              "  <tbody>\n",
              "    <tr>\n",
              "      <th>bathrooms</th>\n",
              "      <td>1</td>\n",
              "      <td>True</td>\n",
              "      <td>-1089.025401</td>\n",
              "    </tr>\n",
              "    <tr>\n",
              "      <th>roof_deck</th>\n",
              "      <td>1</td>\n",
              "      <td>True</td>\n",
              "      <td>-763.661558</td>\n",
              "    </tr>\n",
              "    <tr>\n",
              "      <th>L3_luxury_perks</th>\n",
              "      <td>1</td>\n",
              "      <td>True</td>\n",
              "      <td>-734.025815</td>\n",
              "    </tr>\n",
              "    <tr>\n",
              "      <th>L1_price_boost_perks</th>\n",
              "      <td>1</td>\n",
              "      <td>True</td>\n",
              "      <td>-734.139392</td>\n",
              "    </tr>\n",
              "    <tr>\n",
              "      <th>bedrooms+bathrooms</th>\n",
              "      <td>1</td>\n",
              "      <td>True</td>\n",
              "      <td>-734.210700</td>\n",
              "    </tr>\n",
              "    <tr>\n",
              "      <th>common_outdoor_space</th>\n",
              "      <td>1</td>\n",
              "      <td>True</td>\n",
              "      <td>-733.817337</td>\n",
              "    </tr>\n",
              "    <tr>\n",
              "      <th>wheelchair_access</th>\n",
              "      <td>1</td>\n",
              "      <td>True</td>\n",
              "      <td>-733.860267</td>\n",
              "    </tr>\n",
              "    <tr>\n",
              "      <th>loft</th>\n",
              "      <td>1</td>\n",
              "      <td>True</td>\n",
              "      <td>-734.655883</td>\n",
              "    </tr>\n",
              "    <tr>\n",
              "      <th>exclusive</th>\n",
              "      <td>1</td>\n",
              "      <td>True</td>\n",
              "      <td>-735.149919</td>\n",
              "    </tr>\n",
              "    <tr>\n",
              "      <th>terrace</th>\n",
              "      <td>1</td>\n",
              "      <td>True</td>\n",
              "      <td>-735.739139</td>\n",
              "    </tr>\n",
              "    <tr>\n",
              "      <th>new_construction</th>\n",
              "      <td>1</td>\n",
              "      <td>True</td>\n",
              "      <td>-735.330878</td>\n",
              "    </tr>\n",
              "    <tr>\n",
              "      <th>swimming_pool</th>\n",
              "      <td>1</td>\n",
              "      <td>True</td>\n",
              "      <td>-734.655005</td>\n",
              "    </tr>\n",
              "    <tr>\n",
              "      <th>balcony</th>\n",
              "      <td>1</td>\n",
              "      <td>True</td>\n",
              "      <td>-734.988702</td>\n",
              "    </tr>\n",
              "    <tr>\n",
              "      <th>high_speed_internet</th>\n",
              "      <td>1</td>\n",
              "      <td>True</td>\n",
              "      <td>-742.237728</td>\n",
              "    </tr>\n",
              "    <tr>\n",
              "      <th>dining_room</th>\n",
              "      <td>1</td>\n",
              "      <td>True</td>\n",
              "      <td>-740.385872</td>\n",
              "    </tr>\n",
              "    <tr>\n",
              "      <th>bedrooms</th>\n",
              "      <td>1</td>\n",
              "      <td>True</td>\n",
              "      <td>-1032.704357</td>\n",
              "    </tr>\n",
              "    <tr>\n",
              "      <th>outdoor_space</th>\n",
              "      <td>1</td>\n",
              "      <td>True</td>\n",
              "      <td>-763.147271</td>\n",
              "    </tr>\n",
              "    <tr>\n",
              "      <th>laundry_in_unit</th>\n",
              "      <td>1</td>\n",
              "      <td>True</td>\n",
              "      <td>-777.812073</td>\n",
              "    </tr>\n",
              "    <tr>\n",
              "      <th>fitness_center</th>\n",
              "      <td>1</td>\n",
              "      <td>True</td>\n",
              "      <td>-846.535265</td>\n",
              "    </tr>\n",
              "    <tr>\n",
              "      <th>laundry_in_building</th>\n",
              "      <td>1</td>\n",
              "      <td>True</td>\n",
              "      <td>-851.228383</td>\n",
              "    </tr>\n",
              "    <tr>\n",
              "      <th>no_fee</th>\n",
              "      <td>1</td>\n",
              "      <td>True</td>\n",
              "      <td>-855.716145</td>\n",
              "    </tr>\n",
              "    <tr>\n",
              "      <th>doorman</th>\n",
              "      <td>1</td>\n",
              "      <td>True</td>\n",
              "      <td>-873.793324</td>\n",
              "    </tr>\n",
              "    <tr>\n",
              "      <th>dogs_allowed</th>\n",
              "      <td>1</td>\n",
              "      <td>True</td>\n",
              "      <td>-874.945025</td>\n",
              "    </tr>\n",
              "    <tr>\n",
              "      <th>hardwood_floors</th>\n",
              "      <td>1</td>\n",
              "      <td>True</td>\n",
              "      <td>-898.865937</td>\n",
              "    </tr>\n",
              "    <tr>\n",
              "      <th>pre-war</th>\n",
              "      <td>1</td>\n",
              "      <td>True</td>\n",
              "      <td>-846.301741</td>\n",
              "    </tr>\n",
              "    <tr>\n",
              "      <th>latitude</th>\n",
              "      <td>1</td>\n",
              "      <td>True</td>\n",
              "      <td>-1031.731089</td>\n",
              "    </tr>\n",
              "    <tr>\n",
              "      <th>elevator</th>\n",
              "      <td>1</td>\n",
              "      <td>True</td>\n",
              "      <td>-970.639159</td>\n",
              "    </tr>\n",
              "    <tr>\n",
              "      <th>interest_level</th>\n",
              "      <td>1</td>\n",
              "      <td>True</td>\n",
              "      <td>-982.136139</td>\n",
              "    </tr>\n",
              "    <tr>\n",
              "      <th>longitude</th>\n",
              "      <td>1</td>\n",
              "      <td>True</td>\n",
              "      <td>-995.474425</td>\n",
              "    </tr>\n",
              "    <tr>\n",
              "      <th>L2_high_end_perks</th>\n",
              "      <td>5</td>\n",
              "      <td>False</td>\n",
              "      <td>-734.122419</td>\n",
              "    </tr>\n",
              "    <tr>\n",
              "      <th>created_year</th>\n",
              "      <td>7</td>\n",
              "      <td>False</td>\n",
              "      <td>-733.985464</td>\n",
              "    </tr>\n",
              "    <tr>\n",
              "      <th>garden_patio</th>\n",
              "      <td>4</td>\n",
              "      <td>False</td>\n",
              "      <td>-734.580325</td>\n",
              "    </tr>\n",
              "    <tr>\n",
              "      <th>cats_allowed</th>\n",
              "      <td>2</td>\n",
              "      <td>False</td>\n",
              "      <td>-963.761407</td>\n",
              "    </tr>\n",
              "    <tr>\n",
              "      <th>dishwasher</th>\n",
              "      <td>6</td>\n",
              "      <td>False</td>\n",
              "      <td>-857.384031</td>\n",
              "    </tr>\n",
              "    <tr>\n",
              "      <th>created_month</th>\n",
              "      <td>3</td>\n",
              "      <td>False</td>\n",
              "      <td>-733.989757</td>\n",
              "    </tr>\n",
              "  </tbody>\n",
              "</table>\n",
              "</div>"
            ],
            "text/plain": [
              "                      ranking  include    MAE_score\n",
              "bathrooms                   1     True -1089.025401\n",
              "roof_deck                   1     True  -763.661558\n",
              "L3_luxury_perks             1     True  -734.025815\n",
              "L1_price_boost_perks        1     True  -734.139392\n",
              "bedrooms+bathrooms          1     True  -734.210700\n",
              "common_outdoor_space        1     True  -733.817337\n",
              "wheelchair_access           1     True  -733.860267\n",
              "loft                        1     True  -734.655883\n",
              "exclusive                   1     True  -735.149919\n",
              "terrace                     1     True  -735.739139\n",
              "new_construction            1     True  -735.330878\n",
              "swimming_pool               1     True  -734.655005\n",
              "balcony                     1     True  -734.988702\n",
              "high_speed_internet         1     True  -742.237728\n",
              "dining_room                 1     True  -740.385872\n",
              "bedrooms                    1     True -1032.704357\n",
              "outdoor_space               1     True  -763.147271\n",
              "laundry_in_unit             1     True  -777.812073\n",
              "fitness_center              1     True  -846.535265\n",
              "laundry_in_building         1     True  -851.228383\n",
              "no_fee                      1     True  -855.716145\n",
              "doorman                     1     True  -873.793324\n",
              "dogs_allowed                1     True  -874.945025\n",
              "hardwood_floors             1     True  -898.865937\n",
              "pre-war                     1     True  -846.301741\n",
              "latitude                    1     True -1031.731089\n",
              "elevator                    1     True  -970.639159\n",
              "interest_level              1     True  -982.136139\n",
              "longitude                   1     True  -995.474425\n",
              "L2_high_end_perks           5    False  -734.122419\n",
              "created_year                7    False  -733.985464\n",
              "garden_patio                4    False  -734.580325\n",
              "cats_allowed                2    False  -963.761407\n",
              "dishwasher                  6    False  -857.384031\n",
              "created_month               3    False  -733.989757"
            ]
          },
          "metadata": {
            "tags": []
          },
          "execution_count": 400
        }
      ]
    },
    {
      "cell_type": "code",
      "metadata": {
        "id": "6zS8wSi4oM8w",
        "colab_type": "code",
        "colab": {
          "base_uri": "https://localhost:8080/",
          "height": 0
        },
        "outputId": "c75ee99c-f802-4736-870d-1078b8183eb2"
      },
      "source": [
        "ranks_rfecv.sort_values(by=['MAE_score'], ascending=True)"
      ],
      "execution_count": 401,
      "outputs": [
        {
          "output_type": "execute_result",
          "data": {
            "text/html": [
              "<div>\n",
              "<style scoped>\n",
              "    .dataframe tbody tr th:only-of-type {\n",
              "        vertical-align: middle;\n",
              "    }\n",
              "\n",
              "    .dataframe tbody tr th {\n",
              "        vertical-align: top;\n",
              "    }\n",
              "\n",
              "    .dataframe thead th {\n",
              "        text-align: right;\n",
              "    }\n",
              "</style>\n",
              "<table border=\"1\" class=\"dataframe\">\n",
              "  <thead>\n",
              "    <tr style=\"text-align: right;\">\n",
              "      <th></th>\n",
              "      <th>ranking</th>\n",
              "      <th>include</th>\n",
              "      <th>MAE_score</th>\n",
              "    </tr>\n",
              "  </thead>\n",
              "  <tbody>\n",
              "    <tr>\n",
              "      <th>bathrooms</th>\n",
              "      <td>1</td>\n",
              "      <td>True</td>\n",
              "      <td>-1089.025401</td>\n",
              "    </tr>\n",
              "    <tr>\n",
              "      <th>bedrooms</th>\n",
              "      <td>1</td>\n",
              "      <td>True</td>\n",
              "      <td>-1032.704357</td>\n",
              "    </tr>\n",
              "    <tr>\n",
              "      <th>latitude</th>\n",
              "      <td>1</td>\n",
              "      <td>True</td>\n",
              "      <td>-1031.731089</td>\n",
              "    </tr>\n",
              "    <tr>\n",
              "      <th>longitude</th>\n",
              "      <td>1</td>\n",
              "      <td>True</td>\n",
              "      <td>-995.474425</td>\n",
              "    </tr>\n",
              "    <tr>\n",
              "      <th>interest_level</th>\n",
              "      <td>1</td>\n",
              "      <td>True</td>\n",
              "      <td>-982.136139</td>\n",
              "    </tr>\n",
              "    <tr>\n",
              "      <th>elevator</th>\n",
              "      <td>1</td>\n",
              "      <td>True</td>\n",
              "      <td>-970.639159</td>\n",
              "    </tr>\n",
              "    <tr>\n",
              "      <th>cats_allowed</th>\n",
              "      <td>2</td>\n",
              "      <td>False</td>\n",
              "      <td>-963.761407</td>\n",
              "    </tr>\n",
              "    <tr>\n",
              "      <th>hardwood_floors</th>\n",
              "      <td>1</td>\n",
              "      <td>True</td>\n",
              "      <td>-898.865937</td>\n",
              "    </tr>\n",
              "    <tr>\n",
              "      <th>dogs_allowed</th>\n",
              "      <td>1</td>\n",
              "      <td>True</td>\n",
              "      <td>-874.945025</td>\n",
              "    </tr>\n",
              "    <tr>\n",
              "      <th>doorman</th>\n",
              "      <td>1</td>\n",
              "      <td>True</td>\n",
              "      <td>-873.793324</td>\n",
              "    </tr>\n",
              "    <tr>\n",
              "      <th>dishwasher</th>\n",
              "      <td>6</td>\n",
              "      <td>False</td>\n",
              "      <td>-857.384031</td>\n",
              "    </tr>\n",
              "    <tr>\n",
              "      <th>no_fee</th>\n",
              "      <td>1</td>\n",
              "      <td>True</td>\n",
              "      <td>-855.716145</td>\n",
              "    </tr>\n",
              "    <tr>\n",
              "      <th>laundry_in_building</th>\n",
              "      <td>1</td>\n",
              "      <td>True</td>\n",
              "      <td>-851.228383</td>\n",
              "    </tr>\n",
              "    <tr>\n",
              "      <th>fitness_center</th>\n",
              "      <td>1</td>\n",
              "      <td>True</td>\n",
              "      <td>-846.535265</td>\n",
              "    </tr>\n",
              "    <tr>\n",
              "      <th>pre-war</th>\n",
              "      <td>1</td>\n",
              "      <td>True</td>\n",
              "      <td>-846.301741</td>\n",
              "    </tr>\n",
              "    <tr>\n",
              "      <th>laundry_in_unit</th>\n",
              "      <td>1</td>\n",
              "      <td>True</td>\n",
              "      <td>-777.812073</td>\n",
              "    </tr>\n",
              "    <tr>\n",
              "      <th>roof_deck</th>\n",
              "      <td>1</td>\n",
              "      <td>True</td>\n",
              "      <td>-763.661558</td>\n",
              "    </tr>\n",
              "    <tr>\n",
              "      <th>outdoor_space</th>\n",
              "      <td>1</td>\n",
              "      <td>True</td>\n",
              "      <td>-763.147271</td>\n",
              "    </tr>\n",
              "    <tr>\n",
              "      <th>high_speed_internet</th>\n",
              "      <td>1</td>\n",
              "      <td>True</td>\n",
              "      <td>-742.237728</td>\n",
              "    </tr>\n",
              "    <tr>\n",
              "      <th>dining_room</th>\n",
              "      <td>1</td>\n",
              "      <td>True</td>\n",
              "      <td>-740.385872</td>\n",
              "    </tr>\n",
              "    <tr>\n",
              "      <th>terrace</th>\n",
              "      <td>1</td>\n",
              "      <td>True</td>\n",
              "      <td>-735.739139</td>\n",
              "    </tr>\n",
              "    <tr>\n",
              "      <th>new_construction</th>\n",
              "      <td>1</td>\n",
              "      <td>True</td>\n",
              "      <td>-735.330878</td>\n",
              "    </tr>\n",
              "    <tr>\n",
              "      <th>exclusive</th>\n",
              "      <td>1</td>\n",
              "      <td>True</td>\n",
              "      <td>-735.149919</td>\n",
              "    </tr>\n",
              "    <tr>\n",
              "      <th>balcony</th>\n",
              "      <td>1</td>\n",
              "      <td>True</td>\n",
              "      <td>-734.988702</td>\n",
              "    </tr>\n",
              "    <tr>\n",
              "      <th>loft</th>\n",
              "      <td>1</td>\n",
              "      <td>True</td>\n",
              "      <td>-734.655883</td>\n",
              "    </tr>\n",
              "    <tr>\n",
              "      <th>swimming_pool</th>\n",
              "      <td>1</td>\n",
              "      <td>True</td>\n",
              "      <td>-734.655005</td>\n",
              "    </tr>\n",
              "    <tr>\n",
              "      <th>garden_patio</th>\n",
              "      <td>4</td>\n",
              "      <td>False</td>\n",
              "      <td>-734.580325</td>\n",
              "    </tr>\n",
              "    <tr>\n",
              "      <th>bedrooms+bathrooms</th>\n",
              "      <td>1</td>\n",
              "      <td>True</td>\n",
              "      <td>-734.210700</td>\n",
              "    </tr>\n",
              "    <tr>\n",
              "      <th>L1_price_boost_perks</th>\n",
              "      <td>1</td>\n",
              "      <td>True</td>\n",
              "      <td>-734.139392</td>\n",
              "    </tr>\n",
              "    <tr>\n",
              "      <th>L2_high_end_perks</th>\n",
              "      <td>5</td>\n",
              "      <td>False</td>\n",
              "      <td>-734.122419</td>\n",
              "    </tr>\n",
              "    <tr>\n",
              "      <th>L3_luxury_perks</th>\n",
              "      <td>1</td>\n",
              "      <td>True</td>\n",
              "      <td>-734.025815</td>\n",
              "    </tr>\n",
              "    <tr>\n",
              "      <th>created_month</th>\n",
              "      <td>3</td>\n",
              "      <td>False</td>\n",
              "      <td>-733.989757</td>\n",
              "    </tr>\n",
              "    <tr>\n",
              "      <th>created_year</th>\n",
              "      <td>7</td>\n",
              "      <td>False</td>\n",
              "      <td>-733.985464</td>\n",
              "    </tr>\n",
              "    <tr>\n",
              "      <th>wheelchair_access</th>\n",
              "      <td>1</td>\n",
              "      <td>True</td>\n",
              "      <td>-733.860267</td>\n",
              "    </tr>\n",
              "    <tr>\n",
              "      <th>common_outdoor_space</th>\n",
              "      <td>1</td>\n",
              "      <td>True</td>\n",
              "      <td>-733.817337</td>\n",
              "    </tr>\n",
              "  </tbody>\n",
              "</table>\n",
              "</div>"
            ],
            "text/plain": [
              "                      ranking  include    MAE_score\n",
              "bathrooms                   1     True -1089.025401\n",
              "bedrooms                    1     True -1032.704357\n",
              "latitude                    1     True -1031.731089\n",
              "longitude                   1     True  -995.474425\n",
              "interest_level              1     True  -982.136139\n",
              "elevator                    1     True  -970.639159\n",
              "cats_allowed                2    False  -963.761407\n",
              "hardwood_floors             1     True  -898.865937\n",
              "dogs_allowed                1     True  -874.945025\n",
              "doorman                     1     True  -873.793324\n",
              "dishwasher                  6    False  -857.384031\n",
              "no_fee                      1     True  -855.716145\n",
              "laundry_in_building         1     True  -851.228383\n",
              "fitness_center              1     True  -846.535265\n",
              "pre-war                     1     True  -846.301741\n",
              "laundry_in_unit             1     True  -777.812073\n",
              "roof_deck                   1     True  -763.661558\n",
              "outdoor_space               1     True  -763.147271\n",
              "high_speed_internet         1     True  -742.237728\n",
              "dining_room                 1     True  -740.385872\n",
              "terrace                     1     True  -735.739139\n",
              "new_construction            1     True  -735.330878\n",
              "exclusive                   1     True  -735.149919\n",
              "balcony                     1     True  -734.988702\n",
              "loft                        1     True  -734.655883\n",
              "swimming_pool               1     True  -734.655005\n",
              "garden_patio                4    False  -734.580325\n",
              "bedrooms+bathrooms          1     True  -734.210700\n",
              "L1_price_boost_perks        1     True  -734.139392\n",
              "L2_high_end_perks           5    False  -734.122419\n",
              "L3_luxury_perks             1     True  -734.025815\n",
              "created_month               3    False  -733.989757\n",
              "created_year                7    False  -733.985464\n",
              "wheelchair_access           1     True  -733.860267\n",
              "common_outdoor_space        1     True  -733.817337"
            ]
          },
          "metadata": {
            "tags": []
          },
          "execution_count": 401
        }
      ]
    },
    {
      "cell_type": "code",
      "metadata": {
        "id": "d4t6WVcgoM5s",
        "colab_type": "code",
        "colab": {
          "base_uri": "https://localhost:8080/",
          "height": 0
        },
        "outputId": "07ae1e0e-507d-457f-f538-1407b1e2c08e"
      },
      "source": [
        "feature_names = X_train.columns\n",
        "selected_features_rfe = feature_names[feature_selector_rfe.support_].tolist()\n",
        "selected_features_rfe"
      ],
      "execution_count": 402,
      "outputs": [
        {
          "output_type": "execute_result",
          "data": {
            "text/plain": [
              "['bathrooms',\n",
              " 'bedrooms',\n",
              " 'latitude',\n",
              " 'longitude',\n",
              " 'interest_level',\n",
              " 'elevator',\n",
              " 'hardwood_floors',\n",
              " 'dogs_allowed',\n",
              " 'doorman',\n",
              " 'no_fee',\n",
              " 'laundry_in_building',\n",
              " 'fitness_center',\n",
              " 'pre-war',\n",
              " 'laundry_in_unit',\n",
              " 'roof_deck',\n",
              " 'outdoor_space',\n",
              " 'dining_room',\n",
              " 'high_speed_internet',\n",
              " 'balcony',\n",
              " 'swimming_pool',\n",
              " 'new_construction',\n",
              " 'terrace',\n",
              " 'exclusive',\n",
              " 'loft',\n",
              " 'wheelchair_access',\n",
              " 'common_outdoor_space',\n",
              " 'bedrooms+bathrooms',\n",
              " 'L1_price_boost_perks',\n",
              " 'L3_luxury_perks']"
            ]
          },
          "metadata": {
            "tags": []
          },
          "execution_count": 402
        }
      ]
    },
    {
      "cell_type": "code",
      "metadata": {
        "id": "mX56ckx8yeBJ",
        "colab_type": "code",
        "colab": {
          "base_uri": "https://localhost:8080/",
          "height": 0
        },
        "outputId": "106d6661-4e74-4e17-c87e-9ff41fc82a11"
      },
      "source": [
        "# Check if RFECV recommended features also include those recommended by the \n",
        "# model coeffs above --> if so, we will use the RFECV recommended top features:\n",
        "condition_1 = all(elem in selected_features_rfe for elem in selected_features_coeffs_raw)\n",
        "condition_2 = all(elem in selected_features_rfe for elem in selected_features_coeffs_normalized)\n",
        "condition_3 = all(elem in selected_features_rfe for elem in selected_features_coeffs_standardized)\n",
        "\n",
        "(condition_1 & condition_2 & condition_3)"
      ],
      "execution_count": 403,
      "outputs": [
        {
          "output_type": "execute_result",
          "data": {
            "text/plain": [
              "True"
            ]
          },
          "metadata": {
            "tags": []
          },
          "execution_count": 403
        }
      ]
    },
    {
      "cell_type": "markdown",
      "metadata": {
        "id": "ibSbmTC11BVG",
        "colab_type": "text"
      },
      "source": [
        "### Final Selected Features:"
      ]
    },
    {
      "cell_type": "code",
      "metadata": {
        "id": "SEg8Yn64yvyA",
        "colab_type": "code",
        "colab": {}
      },
      "source": [
        "# --> OK, let's use the RFECV recommended features then:\n",
        "features = selected_features_rfe"
      ],
      "execution_count": 0,
      "outputs": []
    },
    {
      "cell_type": "markdown",
      "metadata": {
        "id": "tq6mQ-Q61oLH",
        "colab_type": "text"
      },
      "source": [
        "# **Final Model:**"
      ]
    },
    {
      "cell_type": "code",
      "metadata": {
        "id": "59IGJ5qr1nzv",
        "colab_type": "code",
        "colab": {
          "base_uri": "https://localhost:8080/",
          "height": 255
        },
        "outputId": "77359167-18ec-4517-a951-652436a00d40"
      },
      "source": [
        "# (1) Import model class:\n",
        "from sklearn.linear_model import LinearRegression\n",
        "\n",
        "# (2) Initiate model:\n",
        "m_final = LinearRegression()\n",
        "\n",
        "# (3) Define features matrix and target vector:\n",
        "\n",
        "# Features and target:\n",
        "target = 'price'\n",
        "features = selected_features_rfe  # Same as above.\n",
        "\n",
        "# The resulting new final matrices & vectors:\n",
        "X_train = train[features]\n",
        "y_train = train[target]\n",
        "\n",
        "X_val = val[features]\n",
        "y_val = val[target]\n",
        "\n",
        "X_test = test[features]\n",
        "y_test = test[target]\n",
        "\n",
        "# (4) Fit the model to our training data:\n",
        "m_final.fit(X_train, y_train)\n",
        "\n",
        "# Performance on training data:\n",
        "print('Model Performance:\\n')\n",
        "\n",
        "y_true_train = y_train\n",
        "y_pred_train = m_final.predict(X_train)\n",
        "\n",
        "print('On Training Set:')\n",
        "print(f'Train MAE: {mean_absolute_error(y_true_train, y_pred_train):.1f}')\n",
        "mse_train = mean_squared_error(y_true_train, y_pred_train)\n",
        "print(f'Train MSE: {mse_train:.1f}')\n",
        "print(f'Train RMSE: {sqrt(mse_train):.1f}')\n",
        "print(f'Train R^2 score: {r2_score(y_true_train, y_pred_train):.2f}\\n')\n",
        "\n",
        "# Performance on validation set:\n",
        "y_true_val = y_val\n",
        "y_pred_val = m_final.predict(X_val)\n",
        "\n",
        "print('On Validation Set:')\n",
        "print(f'Train MAE: {mean_absolute_error(y_true_val, y_pred_val):.1f}')\n",
        "mse_val = mean_squared_error(y_true_val, y_pred_val)\n",
        "print(f'Train MSE: {mse_val:.1f}')\n",
        "print(f'Train RMSE: {sqrt(mse_val):.1f}')\n",
        "print(f'Train R^2 score: {r2_score(y_true_val, y_pred_val):.2f}\\n')"
      ],
      "execution_count": 405,
      "outputs": [
        {
          "output_type": "stream",
          "text": [
            "Model Performance:\n",
            "\n",
            "On Training Set:\n",
            "Train MAE: 739.3\n",
            "Train MSE: 1674986.9\n",
            "Train RMSE: 1294.2\n",
            "Train R^2 score: 0.61\n",
            "\n",
            "On Validation Set:\n",
            "Train MAE: 754.7\n",
            "Train MSE: 1714820.6\n",
            "Train RMSE: 1309.5\n",
            "Train R^2 score: 0.62\n",
            "\n"
          ],
          "name": "stdout"
        }
      ]
    },
    {
      "cell_type": "markdown",
      "metadata": {
        "id": "9tLgNe9P2hm7",
        "colab_type": "text"
      },
      "source": [
        "### Final Results: Performance on New Data (Our Holdout Test Set)"
      ]
    },
    {
      "cell_type": "code",
      "metadata": {
        "id": "Ghwl5IRoLhDP",
        "colab_type": "code",
        "colab": {
          "base_uri": "https://localhost:8080/",
          "height": 153
        },
        "outputId": "0db4d406-1907-46fe-85a9-ae8f4234b85a"
      },
      "source": [
        "# Performance on new data: our test set:\n",
        "print('Final Model Performance on Test (Holdout) Set:\\n')\n",
        "\n",
        "y_true_test = y_test\n",
        "y_pred_test = m_final.predict(X_test)\n",
        "\n",
        "print('On Validation Set:')\n",
        "print(f'Train MAE: {mean_absolute_error(y_true_test, y_pred_test):.2f}')\n",
        "mse_val = mean_squared_error(y_true_test, y_pred_test)\n",
        "print(f'Train MSE: {mse_val:.2f}')\n",
        "print(f'Train RMSE: {sqrt(mse_val):.2f}')\n",
        "print(f'Train R^2 score: {r2_score(y_true_test, y_pred_test):.2f}\\n')"
      ],
      "execution_count": 406,
      "outputs": [
        {
          "output_type": "stream",
          "text": [
            "Final Model Performance on Test (Holdout) Set:\n",
            "\n",
            "On Validation Set:\n",
            "Train MAE: 746.94\n",
            "Train MSE: 1711052.54\n",
            "Train RMSE: 1308.07\n",
            "Train R^2 score: 0.62\n",
            "\n"
          ],
          "name": "stdout"
        }
      ]
    }
  ]
}