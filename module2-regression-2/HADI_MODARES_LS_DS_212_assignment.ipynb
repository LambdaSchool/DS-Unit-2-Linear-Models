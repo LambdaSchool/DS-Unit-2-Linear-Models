{
  "nbformat": 4,
  "nbformat_minor": 0,
  "metadata": {
    "kernelspec": {
      "display_name": "Python 3",
      "language": "python",
      "name": "python3"
    },
    "language_info": {
      "codemirror_mode": {
        "name": "ipython",
        "version": 3
      },
      "file_extension": ".py",
      "mimetype": "text/x-python",
      "name": "python",
      "nbconvert_exporter": "python",
      "pygments_lexer": "ipython3",
      "version": "3.7.3"
    },
    "colab": {
      "name": "HADI_MODARES_LS_DS_212_assignment.ipynb",
      "provenance": [],
      "collapsed_sections": [],
      "machine_shape": "hm",
      "include_colab_link": true
    }
  },
  "cells": [
    {
      "cell_type": "markdown",
      "metadata": {
        "id": "view-in-github",
        "colab_type": "text"
      },
      "source": [
        "<a href=\"https://colab.research.google.com/github/hadi-M/DS-Unit-2-Linear-Models/blob/master/module2-regression-2/HADI_MODARES_LS_DS_212_assignment.ipynb\" target=\"_parent\"><img src=\"https://colab.research.google.com/assets/colab-badge.svg\" alt=\"Open In Colab\"/></a>"
      ]
    },
    {
      "cell_type": "markdown",
      "metadata": {
        "id": "ef4fGhy-GGmt",
        "colab_type": "text"
      },
      "source": [
        "Lambda School Data Science\n",
        "\n",
        "*Unit 2, Sprint 1, Module 2*\n",
        "\n",
        "---"
      ]
    },
    {
      "cell_type": "code",
      "metadata": {
        "colab_type": "code",
        "id": "o9eSnDYhUGD7",
        "colab": {}
      },
      "source": [
        "%%capture\n",
        "import sys\n",
        "\n",
        "# If you're on Colab:\n",
        "if 'google.colab' in sys.modules:\n",
        "    DATA_PATH = 'https://raw.githubusercontent.com/LambdaSchool/DS-Unit-2-Applied-Modeling/master/data/'\n",
        "    !pip install category_encoders==2.*\n",
        "\n",
        "# If you're working locally:\n",
        "else:\n",
        "    DATA_PATH = '../data/'\n",
        "    \n",
        "# Ignore this Numpy warning when using Plotly Express:\n",
        "# FutureWarning: Method .ptp is deprecated and will be removed in a future version. Use numpy.ptp instead.\n",
        "import warnings\n",
        "warnings.filterwarnings(action='ignore', category=FutureWarning, module='numpy')"
      ],
      "execution_count": 0,
      "outputs": []
    },
    {
      "cell_type": "code",
      "metadata": {
        "colab_type": "code",
        "id": "cvrw-T3bZOuW",
        "colab": {}
      },
      "source": [
        "import numpy as np\n",
        "import pandas as pd\n",
        "\n",
        "# Read New York City apartment rental listing data\n",
        "df = pd.read_csv(DATA_PATH+'apartments/renthop-nyc.csv')\n",
        "assert df.shape == (49352, 34)\n",
        "\n",
        "# Remove the most extreme 1% prices,\n",
        "# the most extreme .1% latitudes, &\n",
        "# the most extreme .1% longitudes\n",
        "df = df[(df['price'] >= np.percentile(df['price'], 0.5)) & \n",
        "        (df['price'] <= np.percentile(df['price'], 99.5)) & \n",
        "        (df['latitude'] >= np.percentile(df['latitude'], 0.05)) & \n",
        "        (df['latitude'] < np.percentile(df['latitude'], 99.95)) &\n",
        "        (df['longitude'] >= np.percentile(df['longitude'], 0.05)) & \n",
        "        (df['longitude'] <= np.percentile(df['longitude'], 99.95))]"
      ],
      "execution_count": 0,
      "outputs": []
    },
    {
      "cell_type": "markdown",
      "metadata": {
        "colab_type": "text",
        "id": "7IXUfiQ2UKj6"
      },
      "source": [
        "# Regression 2\n",
        "\n",
        "## Assignment\n",
        "\n",
        "You'll continue to **predict how much it costs to rent an apartment in NYC,** using the dataset from renthop.com.\n",
        "\n",
        "- [ ] Do train/test split. Use data from April & May 2016 to train. Use data from June 2016 to test."
      ]
    },
    {
      "cell_type": "code",
      "metadata": {
        "id": "NIJHx5nPUUOC",
        "colab_type": "code",
        "colab": {}
      },
      "source": [
        "def create_train_and_test(df):\n",
        "    \n",
        "    # converting string datetime to a datetime object\n",
        "    df[\"created\"] = pd.to_datetime(df[\"created\"])\n",
        "\n",
        "    # creating train and test dataframes\n",
        "    df_train = df[ df[\"created\"].dt.month_name().isin([\"April\", \"May\"]) ]\n",
        "    df_test = df[ df[\"created\"].dt.month_name().isin([\"June\"]) ]\n",
        "\n",
        "    # checking if all of the rows of df is indeed in train and test dataframes\n",
        "    assert df_train.shape[0] + df_test.shape[0] == df.shape[0]\n",
        "\n",
        "    X_train = df_train.drop(\"price\", axis=1)\n",
        "    y_train = df_train[\"price\"]\n",
        "    X_test = df_test.drop(\"price\", axis=1)\n",
        "    y_test = df_test[\"price\"]\n",
        "\n",
        "    return X_train, y_train, X_test, y_test\n",
        "\n",
        "\n",
        "# i will do the splitting after creating features"
      ],
      "execution_count": 0,
      "outputs": []
    },
    {
      "cell_type": "markdown",
      "metadata": {
        "id": "V5zsUNdEUS8s",
        "colab_type": "text"
      },
      "source": [
        "\n",
        "- [ ] Engineer at least two new features. (See below for explanation & ideas.)\n"
      ]
    },
    {
      "cell_type": "code",
      "metadata": {
        "id": "pcYioa9VWbTX",
        "colab_type": "code",
        "colab": {}
      },
      "source": [
        "# i will try to add all of the features:"
      ],
      "execution_count": 0,
      "outputs": []
    },
    {
      "cell_type": "markdown",
      "metadata": {
        "id": "iOkchiDtW8Bs",
        "colab_type": "text"
      },
      "source": [
        "\n",
        "> Feature engineering is the process of using domain knowledge of the data to create features that make machine learning algorithms work. \n",
        "\n",
        "#### Feature Ideas\n",
        "- Does the apartment have a description?\n"
      ]
    },
    {
      "cell_type": "code",
      "metadata": {
        "id": "fP8FSrDNW2__",
        "colab_type": "code",
        "outputId": "e71adf12-6dce-4795-a00c-fae4ccd2bf6a",
        "colab": {
          "base_uri": "https://localhost:8080/",
          "height": 228
        }
      },
      "source": [
        "assert df[\"description\"].isna().sum() > 0\n",
        "# so the columns with no description, probably are set to np.nan\n",
        "\n",
        "df[\"has_description\"] = (~df[\"description\"].isna()).astype(int)\n",
        "df[\"has_description\"]"
      ],
      "execution_count": 71,
      "outputs": [
        {
          "output_type": "execute_result",
          "data": {
            "text/plain": [
              "0        1\n",
              "1        1\n",
              "2        1\n",
              "3        1\n",
              "4        1\n",
              "        ..\n",
              "49347    1\n",
              "49348    1\n",
              "49349    1\n",
              "49350    1\n",
              "49351    1\n",
              "Name: has_description, Length: 48817, dtype: int64"
            ]
          },
          "metadata": {
            "tags": []
          },
          "execution_count": 71
        }
      ]
    },
    {
      "cell_type": "markdown",
      "metadata": {
        "id": "aVtTVS-SXBh9",
        "colab_type": "text"
      },
      "source": [
        "- How long is the description?\n"
      ]
    },
    {
      "cell_type": "code",
      "metadata": {
        "id": "_nHmEvuhZCMP",
        "colab_type": "code",
        "colab": {}
      },
      "source": [
        "# filling np.nan values with empty strings and the getting the length of them\n",
        "df[\"description_length\"] = df[\"description\"].fillna('').str.len()\n",
        "\n",
        "df[\"description_length\"] = df[\"description_length\"].astype(int)"
      ],
      "execution_count": 0,
      "outputs": []
    },
    {
      "cell_type": "markdown",
      "metadata": {
        "id": "i-Kc3UErY99p",
        "colab_type": "text"
      },
      "source": [
        "- How many total perks does each apartment have?"
      ]
    },
    {
      "cell_type": "code",
      "metadata": {
        "id": "GVaoUWQSZ9oD",
        "colab_type": "code",
        "colab": {}
      },
      "source": [
        "perk_columns = df.columns.to_series().loc[\"elevator\": \"common_outdoor_space\"]\n",
        "df[\"perk_count\"] = df[perk_columns].sum(axis=1)\n",
        "# df[\"perk_count\"]"
      ],
      "execution_count": 0,
      "outputs": []
    },
    {
      "cell_type": "markdown",
      "metadata": {
        "id": "iDKBqd9pY_Hr",
        "colab_type": "text"
      },
      "source": [
        "\n",
        "- Are cats _or_ dogs allowed?\n"
      ]
    },
    {
      "cell_type": "code",
      "metadata": {
        "id": "JpKQyLFObTQ1",
        "colab_type": "code",
        "colab": {}
      },
      "source": [
        "df[\"cats_or_dogs\"] = df[\"cats_allowed\"] | df[\"dogs_allowed\"]"
      ],
      "execution_count": 0,
      "outputs": []
    },
    {
      "cell_type": "markdown",
      "metadata": {
        "id": "USmoJXaMbSYo",
        "colab_type": "text"
      },
      "source": [
        "- Are cats _and_ dogs allowed?\n"
      ]
    },
    {
      "cell_type": "code",
      "metadata": {
        "id": "L8ezJxbs5hhp",
        "colab_type": "code",
        "colab": {}
      },
      "source": [
        "df[\"cats_and_dogs\"] = df[\"cats_allowed\"] & df[\"dogs_allowed\"]"
      ],
      "execution_count": 0,
      "outputs": []
    },
    {
      "cell_type": "markdown",
      "metadata": {
        "id": "SoFGANmYcjcI",
        "colab_type": "text"
      },
      "source": [
        "- Total number of rooms (beds + baths)\n"
      ]
    },
    {
      "cell_type": "code",
      "metadata": {
        "id": "06PnXGPV5yFT",
        "colab_type": "code",
        "colab": {}
      },
      "source": [
        "df[\"total_rooms\"] = df[\"bedrooms\"] + df[\"bathrooms\"]\n",
        "# df[\"total_rooms\"].value_counts(dropna=False)"
      ],
      "execution_count": 0,
      "outputs": []
    },
    {
      "cell_type": "markdown",
      "metadata": {
        "id": "21Srxk9W5tny",
        "colab_type": "text"
      },
      "source": [
        "- Ratio of beds to baths\n"
      ]
    },
    {
      "cell_type": "code",
      "metadata": {
        "id": "qewH-T7v57wk",
        "colab_type": "code",
        "colab": {}
      },
      "source": [
        "df[\"beds_to_baths_ratio\"] = df[\"bedrooms\"] / df[\"bathrooms\"].replace(0, 1)\n",
        "df[\"beds_to_baths_ratio\"].replace(np.inf, np.nan, inplace=True)\n",
        "# df[\"beds_to_baths_ratio\"].value_counts(dropna=False)"
      ],
      "execution_count": 0,
      "outputs": []
    },
    {
      "cell_type": "markdown",
      "metadata": {
        "id": "L0LIeY6z5vU9",
        "colab_type": "text"
      },
      "source": [
        "- What's the neighborhood, based on address or latitude & longitude"
      ]
    },
    {
      "cell_type": "code",
      "metadata": {
        "id": "GbtieHAi8uix",
        "colab_type": "code",
        "colab": {}
      },
      "source": [
        "# ?"
      ],
      "execution_count": 0,
      "outputs": []
    },
    {
      "cell_type": "markdown",
      "metadata": {
        "id": "NIFI-nMv_LQu",
        "colab_type": "text"
      },
      "source": [
        "- [ ] Fit a linear regression model with at least two features.\n",
        "- [ ] Get the model's coefficients and intercept.\n",
        "- [ ] Get regression metrics RMSE, MAE, and $R^2$, for both the train and test data.\n",
        "- [ ] What's the best test MAE you can get? Share your score and features used with your cohort on Slack!\n",
        "- [ ] As always, commit your notebook to your fork of the GitHub repo."
      ]
    },
    {
      "cell_type": "code",
      "metadata": {
        "id": "UUii7pjo_NyK",
        "colab_type": "code",
        "colab": {}
      },
      "source": [
        "# ok, I'm gonna do some stuff\n",
        "# first I'm gonna sort the features by their correlation with price\n",
        "# then abs() them and sort them\n",
        "# then I will add them one by one to regression and see how much do the errors change\n",
        "# good stuff right?"
      ],
      "execution_count": 0,
      "outputs": []
    },
    {
      "cell_type": "code",
      "metadata": {
        "id": "-OYA5E8cGDD4",
        "colab_type": "code",
        "colab": {
          "base_uri": "https://localhost:8080/",
          "height": 651
        },
        "outputId": "f07ef02b-4847-4332-f5c7-a8ccc0c7b95c"
      },
      "source": [
        "# choosing only numeric columns\n",
        "numerics_df = df.select_dtypes(np.number)\n",
        "\n",
        "price_corr = numerics_df.corr()[\"price\"]\n",
        "sorted_abs_corrs_with_price = price_corr.abs().sort_values().iloc[:-1]\n",
        "sorted_abs_corrs_with_price"
      ],
      "execution_count": 80,
      "outputs": [
        {
          "output_type": "execute_result",
          "data": {
            "text/plain": [
              "loft                    0.007100\n",
              "has_description         0.008946\n",
              "common_outdoor_space    0.011517\n",
              "exclusive               0.013251\n",
              "laundry_in_building     0.019417\n",
              "pre-war                 0.029122\n",
              "latitude                0.036286\n",
              "cats_or_dogs            0.050989\n",
              "cats_allowed            0.051453\n",
              "dogs_allowed            0.060401\n",
              "cats_and_dogs           0.060873\n",
              "new_construction        0.071431\n",
              "wheelchair_access       0.072517\n",
              "high_speed_internet     0.090269\n",
              "hardwood_floors         0.101503\n",
              "garden_patio            0.103672\n",
              "roof_deck               0.122929\n",
              "no_fee                  0.132240\n",
              "swimming_pool           0.134513\n",
              "balcony                 0.139140\n",
              "outdoor_space           0.142146\n",
              "terrace                 0.145973\n",
              "description_length      0.161948\n",
              "elevator                0.207169\n",
              "beds_to_baths_ratio     0.215605\n",
              "dishwasher              0.223899\n",
              "fitness_center          0.228775\n",
              "dining_room             0.242911\n",
              "longitude               0.251004\n",
              "laundry_in_unit         0.271195\n",
              "doorman                 0.276215\n",
              "perk_count              0.305263\n",
              "bedrooms                0.535503\n",
              "total_rooms             0.649097\n",
              "bathrooms               0.687296\n",
              "Name: price, dtype: float64"
            ]
          },
          "metadata": {
            "tags": []
          },
          "execution_count": 80
        }
      ]
    },
    {
      "cell_type": "code",
      "metadata": {
        "id": "wWMFArl3HbOX",
        "colab_type": "code",
        "colab": {}
      },
      "source": [
        "X_train, y_train, X_test, y_test = create_train_and_test(df)\n",
        "\n",
        "X_train = X_train.select_dtypes(np.number)\n",
        "X_test = X_test.select_dtypes(np.number)"
      ],
      "execution_count": 0,
      "outputs": []
    },
    {
      "cell_type": "code",
      "metadata": {
        "id": "8HMbqA03HNG0",
        "colab_type": "code",
        "colab": {}
      },
      "source": [
        "from sklearn.linear_model import LinearRegression\n",
        "from sklearn.metrics import mean_absolute_error, mean_squared_error, r2_score\n",
        "from pdb import set_trace as st\n",
        "\n",
        "def root_mean_squared_error(x1, x2):\n",
        "    return np.sqrt(mean_squared_error(x1, x2))"
      ],
      "execution_count": 0,
      "outputs": []
    },
    {
      "cell_type": "code",
      "metadata": {
        "id": "JNLiyPRQQeLf",
        "colab_type": "code",
        "colab": {}
      },
      "source": [
        "# X_train.isna().sum()"
      ],
      "execution_count": 0,
      "outputs": []
    },
    {
      "cell_type": "code",
      "metadata": {
        "id": "6NCFhvxBHMq9",
        "colab_type": "code",
        "colab": {
          "base_uri": "https://localhost:8080/",
          "height": 203
        },
        "outputId": "ec07035f-a48c-471c-aacf-59524cf49f02"
      },
      "source": [
        "def score_calculator(X_train, y_train, X_test, y_test):\n",
        "    model = LinearRegression()\n",
        "    model.fit(X_train, y_train)\n",
        "    y_pred_train = model.predict(X_train)\n",
        "    train_errors = (\n",
        "        mean_absolute_error(y_train, y_pred_train),\n",
        "        mean_squared_error(y_train, y_pred_train),\n",
        "        root_mean_squared_error(y_train, y_pred_train),\n",
        "        r2_score(y_train, y_pred_train)\n",
        "    )\n",
        "\n",
        "    y_pred_test = model.predict(X_test)\n",
        "    test_errors = (\n",
        "        mean_absolute_error(y_test, y_pred_test),\n",
        "        mean_squared_error(y_test, y_pred_test),\n",
        "        root_mean_squared_error(y_test, y_pred_test),\n",
        "        r2_score(y_test, y_pred_test)\n",
        "    )\n",
        "    return train_errors, test_errors\n",
        "\n",
        "\n",
        "def model_score_vs_number_of_features_graph(sorted_features):\n",
        "    \n",
        "    graph_col_names = [\n",
        "        \"train_mae\",\n",
        "        \"train_mse\",\n",
        "        \"train_rmse\",\n",
        "        \"train_r2\",\n",
        "        \"test_mae\",\n",
        "        \"test_mse\",\n",
        "        \"test_rmse\",\n",
        "        \"test_r2\"\n",
        "    ]\n",
        "    graph_df = pd.DataFrame(columns=graph_col_names)\n",
        "\n",
        "    for feature_count in range(1, len(sorted_features)):\n",
        "        features = sorted_features[0:feature_count]\n",
        "        train_errors, test_errors = score_calculator(X_train[features], y_train, X_test[features], y_test)\n",
        "        graph_df.loc[feature_count] = train_errors + test_errors\n",
        "    \n",
        "    return graph_df\n",
        "\n",
        "\n",
        "graph_df = model_score_vs_number_of_features_graph(sorted_abs_corrs_with_price.index)\n",
        "\n",
        "display(graph_df.head())"
      ],
      "execution_count": 148,
      "outputs": [
        {
          "output_type": "display_data",
          "data": {
            "text/html": [
              "<div>\n",
              "<style scoped>\n",
              "    .dataframe tbody tr th:only-of-type {\n",
              "        vertical-align: middle;\n",
              "    }\n",
              "\n",
              "    .dataframe tbody tr th {\n",
              "        vertical-align: top;\n",
              "    }\n",
              "\n",
              "    .dataframe thead th {\n",
              "        text-align: right;\n",
              "    }\n",
              "</style>\n",
              "<table border=\"1\" class=\"dataframe\">\n",
              "  <thead>\n",
              "    <tr style=\"text-align: right;\">\n",
              "      <th></th>\n",
              "      <th>train_mae</th>\n",
              "      <th>train_mse</th>\n",
              "      <th>train_rmse</th>\n",
              "      <th>train_r2</th>\n",
              "      <th>test_mae</th>\n",
              "      <th>test_mse</th>\n",
              "      <th>test_rmse</th>\n",
              "      <th>test_r2</th>\n",
              "    </tr>\n",
              "  </thead>\n",
              "  <tbody>\n",
              "    <tr>\n",
              "      <th>1</th>\n",
              "      <td>1201.890936</td>\n",
              "      <td>3.105028e+06</td>\n",
              "      <td>1762.108996</td>\n",
              "      <td>3.408185e-08</td>\n",
              "      <td>1197.712262</td>\n",
              "      <td>3.108130e+06</td>\n",
              "      <td>1762.988911</td>\n",
              "      <td>-0.000035</td>\n",
              "    </tr>\n",
              "    <tr>\n",
              "      <th>2</th>\n",
              "      <td>1201.609904</td>\n",
              "      <td>3.104545e+06</td>\n",
              "      <td>1761.971951</td>\n",
              "      <td>1.555746e-04</td>\n",
              "      <td>1197.442971</td>\n",
              "      <td>3.108365e+06</td>\n",
              "      <td>1763.055457</td>\n",
              "      <td>-0.000110</td>\n",
              "    </tr>\n",
              "    <tr>\n",
              "      <th>3</th>\n",
              "      <td>1201.584680</td>\n",
              "      <td>3.104408e+06</td>\n",
              "      <td>1761.932975</td>\n",
              "      <td>1.998080e-04</td>\n",
              "      <td>1197.029497</td>\n",
              "      <td>3.107631e+06</td>\n",
              "      <td>1762.847538</td>\n",
              "      <td>0.000125</td>\n",
              "    </tr>\n",
              "    <tr>\n",
              "      <th>4</th>\n",
              "      <td>1201.283423</td>\n",
              "      <td>3.103659e+06</td>\n",
              "      <td>1761.720382</td>\n",
              "      <td>4.410628e-04</td>\n",
              "      <td>1196.419580</td>\n",
              "      <td>3.106454e+06</td>\n",
              "      <td>1762.513668</td>\n",
              "      <td>0.000504</td>\n",
              "    </tr>\n",
              "    <tr>\n",
              "      <th>5</th>\n",
              "      <td>1200.451606</td>\n",
              "      <td>3.100856e+06</td>\n",
              "      <td>1760.924649</td>\n",
              "      <td>1.343820e-03</td>\n",
              "      <td>1196.213061</td>\n",
              "      <td>3.102650e+06</td>\n",
              "      <td>1761.434211</td>\n",
              "      <td>0.001728</td>\n",
              "    </tr>\n",
              "  </tbody>\n",
              "</table>\n",
              "</div>"
            ],
            "text/plain": [
              "     train_mae     train_mse   train_rmse  ...      test_mse    test_rmse   test_r2\n",
              "1  1201.890936  3.105028e+06  1762.108996  ...  3.108130e+06  1762.988911 -0.000035\n",
              "2  1201.609904  3.104545e+06  1761.971951  ...  3.108365e+06  1763.055457 -0.000110\n",
              "3  1201.584680  3.104408e+06  1761.932975  ...  3.107631e+06  1762.847538  0.000125\n",
              "4  1201.283423  3.103659e+06  1761.720382  ...  3.106454e+06  1762.513668  0.000504\n",
              "5  1200.451606  3.100856e+06  1760.924649  ...  3.102650e+06  1761.434211  0.001728\n",
              "\n",
              "[5 rows x 8 columns]"
            ]
          },
          "metadata": {
            "tags": []
          }
        }
      ]
    },
    {
      "cell_type": "code",
      "metadata": {
        "id": "SPTSoj9uak4Z",
        "colab_type": "code",
        "colab": {}
      },
      "source": [
        "from bokeh.io import output_notebook, show\n",
        "from bokeh.plotting import figure\n",
        "from bokeh.models import ColumnDataSource\n",
        "from bokeh.layouts import row, column"
      ],
      "execution_count": 0,
      "outputs": []
    },
    {
      "cell_type": "code",
      "metadata": {
        "id": "-bsggxtOajBh",
        "colab_type": "code",
        "colab": {}
      },
      "source": [
        "\n",
        "\n",
        "def drawer(width, height, source, legend_pos):\n",
        "    p1 = figure(plot_width=width, plot_height=height, title=\"R squared VS #features\", x_axis_label=\"number of features\", y_axis_label=\"R squared\", toolbar_location=None)\n",
        "    p1.line(\"index\", \"train_r2\", source=source, color=\"red\", legend_label=\"train_r2\")\n",
        "    p1.line(\"index\", \"test_r2\", source=source, color=\"blue\", legend_label=\"test_r2\")\n",
        "    p1.legend.location = legend_pos\n",
        "\n",
        "    p2 = figure(plot_width=width, plot_height=height, title=\"MSE VS #features\", x_axis_label=\"number of features\", y_axis_label=\"MSE\", toolbar_location=None)\n",
        "    p2.line(\"index\", \"train_mse\", source=source, color=\"red\", legend_label=\"train_mse\")\n",
        "    p2.line(\"index\", \"test_mse\", source=source, color=\"blue\", legend_label=\"test_mse\")\n",
        "    p2.legend.location = legend_pos\n",
        "\n",
        "    p3 = figure(plot_width=width, plot_height=height, title=\"MAE VS #features\", x_axis_label=\"number of features\", y_axis_label=\"MAE\", toolbar_location=None)\n",
        "    p3.line(\"index\", \"train_mae\", source=source, color=\"red\", legend_label=\"train_mae\")\n",
        "    p3.line(\"index\", \"test_mae\", source=source, color=\"blue\", legend_label=\"test_mae\")\n",
        "    p3.legend.location = legend_pos\n",
        "\n",
        "    p4 = figure(plot_width=width, plot_height=height, title=\"RMSE VS #features\", x_axis_label=\"number of features\", y_axis_label=\"RMSE\", toolbar_location=None)\n",
        "    p4.line(\"index\", \"train_rmse\", source=source, color=\"red\", legend_label=\"train_rmse\")\n",
        "    p4.line(\"index\", \"test_rmse\", source=source, color=\"blue\", legend_label=\"test_rmse\")\n",
        "    p4.legend.location = legend_pos\n",
        "\n",
        "    output_notebook()\n",
        "    # show(column(row(p1, p2), row(p3, p4)))\n",
        "    show(row(p1, p2, p3, p4))\n",
        "\n"
      ],
      "execution_count": 0,
      "outputs": []
    },
    {
      "cell_type": "code",
      "metadata": {
        "id": "5zINvFO3lTVV",
        "colab_type": "code",
        "colab": {
          "base_uri": "https://localhost:8080/",
          "height": 317
        },
        "outputId": "63cdbcb3-c435-4006-90ea-6b55afd46e43"
      },
      "source": [
        "graph_df = model_score_vs_number_of_features_graph(sorted_abs_corrs_with_price.index)\n",
        "source = ColumnDataSource(data=graph_df)\n",
        "drawer(300, 300, source, \"top_left\")"
      ],
      "execution_count": 162,
      "outputs": [
        {
          "output_type": "display_data",
          "data": {
            "application/javascript": [
              "\n",
              "(function(root) {\n",
              "  function now() {\n",
              "    return new Date();\n",
              "  }\n",
              "\n",
              "  var force = true;\n",
              "\n",
              "  if (typeof root._bokeh_onload_callbacks === \"undefined\" || force === true) {\n",
              "    root._bokeh_onload_callbacks = [];\n",
              "    root._bokeh_is_loading = undefined;\n",
              "  }\n",
              "\n",
              "  var JS_MIME_TYPE = 'application/javascript';\n",
              "  var HTML_MIME_TYPE = 'text/html';\n",
              "  var EXEC_MIME_TYPE = 'application/vnd.bokehjs_exec.v0+json';\n",
              "  var CLASS_NAME = 'output_bokeh rendered_html';\n",
              "\n",
              "  /**\n",
              "   * Render data to the DOM node\n",
              "   */\n",
              "  function render(props, node) {\n",
              "    var script = document.createElement(\"script\");\n",
              "    node.appendChild(script);\n",
              "  }\n",
              "\n",
              "  /**\n",
              "   * Handle when an output is cleared or removed\n",
              "   */\n",
              "  function handleClearOutput(event, handle) {\n",
              "    var cell = handle.cell;\n",
              "\n",
              "    var id = cell.output_area._bokeh_element_id;\n",
              "    var server_id = cell.output_area._bokeh_server_id;\n",
              "    // Clean up Bokeh references\n",
              "    if (id != null && id in Bokeh.index) {\n",
              "      Bokeh.index[id].model.document.clear();\n",
              "      delete Bokeh.index[id];\n",
              "    }\n",
              "\n",
              "    if (server_id !== undefined) {\n",
              "      // Clean up Bokeh references\n",
              "      var cmd = \"from bokeh.io.state import curstate; print(curstate().uuid_to_server['\" + server_id + \"'].get_sessions()[0].document.roots[0]._id)\";\n",
              "      cell.notebook.kernel.execute(cmd, {\n",
              "        iopub: {\n",
              "          output: function(msg) {\n",
              "            var id = msg.content.text.trim();\n",
              "            if (id in Bokeh.index) {\n",
              "              Bokeh.index[id].model.document.clear();\n",
              "              delete Bokeh.index[id];\n",
              "            }\n",
              "          }\n",
              "        }\n",
              "      });\n",
              "      // Destroy server and session\n",
              "      var cmd = \"import bokeh.io.notebook as ion; ion.destroy_server('\" + server_id + \"')\";\n",
              "      cell.notebook.kernel.execute(cmd);\n",
              "    }\n",
              "  }\n",
              "\n",
              "  /**\n",
              "   * Handle when a new output is added\n",
              "   */\n",
              "  function handleAddOutput(event, handle) {\n",
              "    var output_area = handle.output_area;\n",
              "    var output = handle.output;\n",
              "\n",
              "    // limit handleAddOutput to display_data with EXEC_MIME_TYPE content only\n",
              "    if ((output.output_type != \"display_data\") || (!output.data.hasOwnProperty(EXEC_MIME_TYPE))) {\n",
              "      return\n",
              "    }\n",
              "\n",
              "    var toinsert = output_area.element.find(\".\" + CLASS_NAME.split(' ')[0]);\n",
              "\n",
              "    if (output.metadata[EXEC_MIME_TYPE][\"id\"] !== undefined) {\n",
              "      toinsert[toinsert.length - 1].firstChild.textContent = output.data[JS_MIME_TYPE];\n",
              "      // store reference to embed id on output_area\n",
              "      output_area._bokeh_element_id = output.metadata[EXEC_MIME_TYPE][\"id\"];\n",
              "    }\n",
              "    if (output.metadata[EXEC_MIME_TYPE][\"server_id\"] !== undefined) {\n",
              "      var bk_div = document.createElement(\"div\");\n",
              "      bk_div.innerHTML = output.data[HTML_MIME_TYPE];\n",
              "      var script_attrs = bk_div.children[0].attributes;\n",
              "      for (var i = 0; i < script_attrs.length; i++) {\n",
              "        toinsert[toinsert.length - 1].firstChild.setAttribute(script_attrs[i].name, script_attrs[i].value);\n",
              "      }\n",
              "      // store reference to server id on output_area\n",
              "      output_area._bokeh_server_id = output.metadata[EXEC_MIME_TYPE][\"server_id\"];\n",
              "    }\n",
              "  }\n",
              "\n",
              "  function register_renderer(events, OutputArea) {\n",
              "\n",
              "    function append_mime(data, metadata, element) {\n",
              "      // create a DOM node to render to\n",
              "      var toinsert = this.create_output_subarea(\n",
              "        metadata,\n",
              "        CLASS_NAME,\n",
              "        EXEC_MIME_TYPE\n",
              "      );\n",
              "      this.keyboard_manager.register_events(toinsert);\n",
              "      // Render to node\n",
              "      var props = {data: data, metadata: metadata[EXEC_MIME_TYPE]};\n",
              "      render(props, toinsert[toinsert.length - 1]);\n",
              "      element.append(toinsert);\n",
              "      return toinsert\n",
              "    }\n",
              "\n",
              "    /* Handle when an output is cleared or removed */\n",
              "    events.on('clear_output.CodeCell', handleClearOutput);\n",
              "    events.on('delete.Cell', handleClearOutput);\n",
              "\n",
              "    /* Handle when a new output is added */\n",
              "    events.on('output_added.OutputArea', handleAddOutput);\n",
              "\n",
              "    /**\n",
              "     * Register the mime type and append_mime function with output_area\n",
              "     */\n",
              "    OutputArea.prototype.register_mime_type(EXEC_MIME_TYPE, append_mime, {\n",
              "      /* Is output safe? */\n",
              "      safe: true,\n",
              "      /* Index of renderer in `output_area.display_order` */\n",
              "      index: 0\n",
              "    });\n",
              "  }\n",
              "\n",
              "  // register the mime type if in Jupyter Notebook environment and previously unregistered\n",
              "  if (root.Jupyter !== undefined) {\n",
              "    var events = require('base/js/events');\n",
              "    var OutputArea = require('notebook/js/outputarea').OutputArea;\n",
              "\n",
              "    if (OutputArea.prototype.mime_types().indexOf(EXEC_MIME_TYPE) == -1) {\n",
              "      register_renderer(events, OutputArea);\n",
              "    }\n",
              "  }\n",
              "\n",
              "  \n",
              "  if (typeof (root._bokeh_timeout) === \"undefined\" || force === true) {\n",
              "    root._bokeh_timeout = Date.now() + 5000;\n",
              "    root._bokeh_failed_load = false;\n",
              "  }\n",
              "\n",
              "  var NB_LOAD_WARNING = {'data': {'text/html':\n",
              "     \"<div style='background-color: #fdd'>\\n\"+\n",
              "     \"<p>\\n\"+\n",
              "     \"BokehJS does not appear to have successfully loaded. If loading BokehJS from CDN, this \\n\"+\n",
              "     \"may be due to a slow or bad network connection. Possible fixes:\\n\"+\n",
              "     \"</p>\\n\"+\n",
              "     \"<ul>\\n\"+\n",
              "     \"<li>re-rerun `output_notebook()` to attempt to load from CDN again, or</li>\\n\"+\n",
              "     \"<li>use INLINE resources instead, as so:</li>\\n\"+\n",
              "     \"</ul>\\n\"+\n",
              "     \"<code>\\n\"+\n",
              "     \"from bokeh.resources import INLINE\\n\"+\n",
              "     \"output_notebook(resources=INLINE)\\n\"+\n",
              "     \"</code>\\n\"+\n",
              "     \"</div>\"}};\n",
              "\n",
              "  function display_loaded() {\n",
              "    var el = document.getElementById(null);\n",
              "    if (el != null) {\n",
              "      el.textContent = \"BokehJS is loading...\";\n",
              "    }\n",
              "    if (root.Bokeh !== undefined) {\n",
              "      if (el != null) {\n",
              "        el.textContent = \"BokehJS \" + root.Bokeh.version + \" successfully loaded.\";\n",
              "      }\n",
              "    } else if (Date.now() < root._bokeh_timeout) {\n",
              "      setTimeout(display_loaded, 100)\n",
              "    }\n",
              "  }\n",
              "\n",
              "\n",
              "  function run_callbacks() {\n",
              "    try {\n",
              "      root._bokeh_onload_callbacks.forEach(function(callback) {\n",
              "        if (callback != null)\n",
              "          callback();\n",
              "      });\n",
              "    } finally {\n",
              "      delete root._bokeh_onload_callbacks\n",
              "    }\n",
              "    console.debug(\"Bokeh: all callbacks have finished\");\n",
              "  }\n",
              "\n",
              "  function load_libs(css_urls, js_urls, callback) {\n",
              "    if (css_urls == null) css_urls = [];\n",
              "    if (js_urls == null) js_urls = [];\n",
              "\n",
              "    root._bokeh_onload_callbacks.push(callback);\n",
              "    if (root._bokeh_is_loading > 0) {\n",
              "      console.debug(\"Bokeh: BokehJS is being loaded, scheduling callback at\", now());\n",
              "      return null;\n",
              "    }\n",
              "    if (js_urls == null || js_urls.length === 0) {\n",
              "      run_callbacks();\n",
              "      return null;\n",
              "    }\n",
              "    console.debug(\"Bokeh: BokehJS not loaded, scheduling load and callback at\", now());\n",
              "    root._bokeh_is_loading = css_urls.length + js_urls.length;\n",
              "\n",
              "    function on_load() {\n",
              "      root._bokeh_is_loading--;\n",
              "      if (root._bokeh_is_loading === 0) {\n",
              "        console.debug(\"Bokeh: all BokehJS libraries/stylesheets loaded\");\n",
              "        run_callbacks()\n",
              "      }\n",
              "    }\n",
              "\n",
              "    function on_error() {\n",
              "      console.error(\"failed to load \" + url);\n",
              "    }\n",
              "\n",
              "    for (var i = 0; i < css_urls.length; i++) {\n",
              "      var url = css_urls[i];\n",
              "      const element = document.createElement(\"link\");\n",
              "      element.onload = on_load;\n",
              "      element.onerror = on_error;\n",
              "      element.rel = \"stylesheet\";\n",
              "      element.type = \"text/css\";\n",
              "      element.href = url;\n",
              "      console.debug(\"Bokeh: injecting link tag for BokehJS stylesheet: \", url);\n",
              "      document.body.appendChild(element);\n",
              "    }\n",
              "\n",
              "    for (var i = 0; i < js_urls.length; i++) {\n",
              "      var url = js_urls[i];\n",
              "      var element = document.createElement('script');\n",
              "      element.onload = on_load;\n",
              "      element.onerror = on_error;\n",
              "      element.async = false;\n",
              "      element.src = url;\n",
              "      console.debug(\"Bokeh: injecting script tag for BokehJS library: \", url);\n",
              "      document.head.appendChild(element);\n",
              "    }\n",
              "  };\n",
              "\n",
              "  function inject_raw_css(css) {\n",
              "    const element = document.createElement(\"style\");\n",
              "    element.appendChild(document.createTextNode(css));\n",
              "    document.body.appendChild(element);\n",
              "  }\n",
              "\n",
              "  \n",
              "  var js_urls = [\"https://cdn.pydata.org/bokeh/release/bokeh-1.4.0.min.js\", \"https://cdn.pydata.org/bokeh/release/bokeh-widgets-1.4.0.min.js\", \"https://cdn.pydata.org/bokeh/release/bokeh-tables-1.4.0.min.js\", \"https://cdn.pydata.org/bokeh/release/bokeh-gl-1.4.0.min.js\"];\n",
              "  var css_urls = [];\n",
              "  \n",
              "\n",
              "  var inline_js = [\n",
              "    function(Bokeh) {\n",
              "      Bokeh.set_log_level(\"info\");\n",
              "    },\n",
              "    function(Bokeh) {\n",
              "    \n",
              "    \n",
              "    }\n",
              "  ];\n",
              "\n",
              "  function run_inline_js() {\n",
              "    \n",
              "    if (root.Bokeh !== undefined || force === true) {\n",
              "      \n",
              "    for (var i = 0; i < inline_js.length; i++) {\n",
              "      inline_js[i].call(root, root.Bokeh);\n",
              "    }\n",
              "    } else if (Date.now() < root._bokeh_timeout) {\n",
              "      setTimeout(run_inline_js, 100);\n",
              "    } else if (!root._bokeh_failed_load) {\n",
              "      console.log(\"Bokeh: BokehJS failed to load within specified timeout.\");\n",
              "      root._bokeh_failed_load = true;\n",
              "    } else if (force !== true) {\n",
              "      var cell = $(document.getElementById(null)).parents('.cell').data().cell;\n",
              "      cell.output_area.append_execute_result(NB_LOAD_WARNING)\n",
              "    }\n",
              "\n",
              "  }\n",
              "\n",
              "  if (root._bokeh_is_loading === 0) {\n",
              "    console.debug(\"Bokeh: BokehJS loaded, going straight to plotting\");\n",
              "    run_inline_js();\n",
              "  } else {\n",
              "    load_libs(css_urls, js_urls, function() {\n",
              "      console.debug(\"Bokeh: BokehJS plotting callback run at\", now());\n",
              "      run_inline_js();\n",
              "    });\n",
              "  }\n",
              "}(window));"
            ],
            "application/vnd.bokehjs_load.v0+json": "\n(function(root) {\n  function now() {\n    return new Date();\n  }\n\n  var force = true;\n\n  if (typeof root._bokeh_onload_callbacks === \"undefined\" || force === true) {\n    root._bokeh_onload_callbacks = [];\n    root._bokeh_is_loading = undefined;\n  }\n\n  \n\n  \n  if (typeof (root._bokeh_timeout) === \"undefined\" || force === true) {\n    root._bokeh_timeout = Date.now() + 5000;\n    root._bokeh_failed_load = false;\n  }\n\n  var NB_LOAD_WARNING = {'data': {'text/html':\n     \"<div style='background-color: #fdd'>\\n\"+\n     \"<p>\\n\"+\n     \"BokehJS does not appear to have successfully loaded. If loading BokehJS from CDN, this \\n\"+\n     \"may be due to a slow or bad network connection. Possible fixes:\\n\"+\n     \"</p>\\n\"+\n     \"<ul>\\n\"+\n     \"<li>re-rerun `output_notebook()` to attempt to load from CDN again, or</li>\\n\"+\n     \"<li>use INLINE resources instead, as so:</li>\\n\"+\n     \"</ul>\\n\"+\n     \"<code>\\n\"+\n     \"from bokeh.resources import INLINE\\n\"+\n     \"output_notebook(resources=INLINE)\\n\"+\n     \"</code>\\n\"+\n     \"</div>\"}};\n\n  function display_loaded() {\n    var el = document.getElementById(null);\n    if (el != null) {\n      el.textContent = \"BokehJS is loading...\";\n    }\n    if (root.Bokeh !== undefined) {\n      if (el != null) {\n        el.textContent = \"BokehJS \" + root.Bokeh.version + \" successfully loaded.\";\n      }\n    } else if (Date.now() < root._bokeh_timeout) {\n      setTimeout(display_loaded, 100)\n    }\n  }\n\n\n  function run_callbacks() {\n    try {\n      root._bokeh_onload_callbacks.forEach(function(callback) {\n        if (callback != null)\n          callback();\n      });\n    } finally {\n      delete root._bokeh_onload_callbacks\n    }\n    console.debug(\"Bokeh: all callbacks have finished\");\n  }\n\n  function load_libs(css_urls, js_urls, callback) {\n    if (css_urls == null) css_urls = [];\n    if (js_urls == null) js_urls = [];\n\n    root._bokeh_onload_callbacks.push(callback);\n    if (root._bokeh_is_loading > 0) {\n      console.debug(\"Bokeh: BokehJS is being loaded, scheduling callback at\", now());\n      return null;\n    }\n    if (js_urls == null || js_urls.length === 0) {\n      run_callbacks();\n      return null;\n    }\n    console.debug(\"Bokeh: BokehJS not loaded, scheduling load and callback at\", now());\n    root._bokeh_is_loading = css_urls.length + js_urls.length;\n\n    function on_load() {\n      root._bokeh_is_loading--;\n      if (root._bokeh_is_loading === 0) {\n        console.debug(\"Bokeh: all BokehJS libraries/stylesheets loaded\");\n        run_callbacks()\n      }\n    }\n\n    function on_error() {\n      console.error(\"failed to load \" + url);\n    }\n\n    for (var i = 0; i < css_urls.length; i++) {\n      var url = css_urls[i];\n      const element = document.createElement(\"link\");\n      element.onload = on_load;\n      element.onerror = on_error;\n      element.rel = \"stylesheet\";\n      element.type = \"text/css\";\n      element.href = url;\n      console.debug(\"Bokeh: injecting link tag for BokehJS stylesheet: \", url);\n      document.body.appendChild(element);\n    }\n\n    for (var i = 0; i < js_urls.length; i++) {\n      var url = js_urls[i];\n      var element = document.createElement('script');\n      element.onload = on_load;\n      element.onerror = on_error;\n      element.async = false;\n      element.src = url;\n      console.debug(\"Bokeh: injecting script tag for BokehJS library: \", url);\n      document.head.appendChild(element);\n    }\n  };\n\n  function inject_raw_css(css) {\n    const element = document.createElement(\"style\");\n    element.appendChild(document.createTextNode(css));\n    document.body.appendChild(element);\n  }\n\n  \n  var js_urls = [\"https://cdn.pydata.org/bokeh/release/bokeh-1.4.0.min.js\", \"https://cdn.pydata.org/bokeh/release/bokeh-widgets-1.4.0.min.js\", \"https://cdn.pydata.org/bokeh/release/bokeh-tables-1.4.0.min.js\", \"https://cdn.pydata.org/bokeh/release/bokeh-gl-1.4.0.min.js\"];\n  var css_urls = [];\n  \n\n  var inline_js = [\n    function(Bokeh) {\n      Bokeh.set_log_level(\"info\");\n    },\n    function(Bokeh) {\n    \n    \n    }\n  ];\n\n  function run_inline_js() {\n    \n    if (root.Bokeh !== undefined || force === true) {\n      \n    for (var i = 0; i < inline_js.length; i++) {\n      inline_js[i].call(root, root.Bokeh);\n    }\n    } else if (Date.now() < root._bokeh_timeout) {\n      setTimeout(run_inline_js, 100);\n    } else if (!root._bokeh_failed_load) {\n      console.log(\"Bokeh: BokehJS failed to load within specified timeout.\");\n      root._bokeh_failed_load = true;\n    } else if (force !== true) {\n      var cell = $(document.getElementById(null)).parents('.cell').data().cell;\n      cell.output_area.append_execute_result(NB_LOAD_WARNING)\n    }\n\n  }\n\n  if (root._bokeh_is_loading === 0) {\n    console.debug(\"Bokeh: BokehJS loaded, going straight to plotting\");\n    run_inline_js();\n  } else {\n    load_libs(css_urls, js_urls, function() {\n      console.debug(\"Bokeh: BokehJS plotting callback run at\", now());\n      run_inline_js();\n    });\n  }\n}(window));"
          },
          "metadata": {
            "tags": []
          }
        },
        {
          "output_type": "display_data",
          "data": {
            "text/html": [
              "\n",
              "\n",
              "\n",
              "\n",
              "\n",
              "\n",
              "  <div class=\"bk-root\" id=\"a7ce00f7-baf6-46cb-ac3b-6b804c904a81\" data-root-id=\"14174\"></div>\n"
            ]
          },
          "metadata": {
            "tags": []
          }
        },
        {
          "output_type": "display_data",
          "data": {
            "application/javascript": [
              "(function(root) {\n",
              "  function embed_document(root) {\n",
              "    \n",
              "  var docs_json = {\"c250c82a-7faa-4452-8339-c93122165786\":{\"roots\":{\"references\":[{\"attributes\":{\"children\":[{\"id\":\"13930\",\"subtype\":\"Figure\",\"type\":\"Plot\"},{\"id\":\"13991\",\"subtype\":\"Figure\",\"type\":\"Plot\"},{\"id\":\"14052\",\"subtype\":\"Figure\",\"type\":\"Plot\"},{\"id\":\"14113\",\"subtype\":\"Figure\",\"type\":\"Plot\"}]},\"id\":\"14174\",\"type\":\"Row\"},{\"attributes\":{\"callback\":null,\"data\":{\"index\":[1,2,3,4,5,6,7,8,9,10,11,12,13,14,15,16,17,18,19,20,21,22,23,24,25,26,27,28,29,30,31,32,33,34],\"test_mae\":{\"__ndarray__\":\"+8xWW9m2kkDFkhyaxbWSQOgAdzQetJJAyUZYpq2xkkBBfsgs2rCSQE1ROvMArpJAaE0Jl2WmkkBCEnoqupySQKxjF3nnnJJAzm4h4O6bkkDWTDxRwZuSQDCtz80amZJAyv15A1iSkkBNJLpI1IOSQNC/3mtPc5JAz/goDSNZkkA5ks0hWU6SQGJfLRcZP5JATgs7L1kukkCso06MexWSQOCiYXBpCpJAO2vxxBkDkkD8w2qJdN2RQOeky/k8npFAn6IKV1GKkEB/QA2O5WmQQJ0ivP0QP5BAbFSLXm0ZkEDXRSkwUqmOQPZjPDoXbI5AaR4etycHjkCmHR63JweOQORkZ1hIkYZA9g8gcEbnhUA=\",\"dtype\":\"float64\",\"shape\":[34]},\"test_mse\":{\"__ndarray__\":\"1YNu85C2R0GFMZlFBrdHQWNytbiXtUdBs6raNkuzR0F/LXA93atHQZ1l2PLIpkdBS5wHHuWiR0E/wRGGzZFHQd10/HCSkkdBUiM/qoqKR0FJZnlPl4pHQb5jRF6NcUdBRi9hv/RjR0Fu4OM+SFRHQZgxk2dLKkdBvUHrkxHtRkHu5IOpHdZGQVzwPOwjs0ZBbqAlEySERkE+RDajU1FGQUKTO47EQ0ZBRu9/b480RkFfwe5ZjvdFQRhUb0+0iUVBHhC5VtpWREG0Mrk4CBxEQVvX0p42xUNB1Fcg2NleQ0Hweu2BFV5CQbjXWS+66EFB+zL1lX6aQUGLMvWVfppBQXsUWBOIazNB/0Yg3nnCMUE=\",\"dtype\":\"float64\",\"shape\":[34]},\"test_r2\":{\"__ndarray__\":\"AICdFkhTAr8AQESPEPQcvwCwof6TcCA/AERfx+2EQD8AtoHJ7U9cPwCYbku4AmU/ANpRiJpCaj+A3c8Uwal4PwDn2xPiJHg/gK09IweQfT8AO5fNfod9PwBNdShRNoc/QNKtgJnMiz/AzyTYKYuQP4ATMApfoJc/sLLfJi/6oD9AGQHPyOmiP2AGqUz73KU/QJ3IxszTqT8g12Pq/ByuP+DQZArBQa8/0K0e8A5FsD9IMkIoqteyP4h9MtWhebc/XOSANzY1wj9Yj02AunLDP5jDZiJhR8U/eHkUge9vxz+Yvusi+dnMPwDm3R94U88/mh8Y7uJ80D/IIBju4nzQP0htNIdv5eI/CoaEbT4E5D8=\",\"dtype\":\"float64\",\"shape\":[34]},\"test_rmse\":{\"__ndarray__\":\"8GAypfSLm0DrkarJOIybQF6xD+Fji5tA7nfi/g2Km0AtwNShvIWbQIaid47IgptAtgy4TIWAm0CQuEnjkXabQMcsrpsEd5tAy7zpl1Zym0BemAz3XXKbQOl4NmvBY5tAjvYqBc9bm0DNtl3folKbQLPB8VYBOptArQXIi+4Vm0BhOJ0iXAibQLsg0qyg85pApoOTZ6vXmkDZ6RhLULmaQOXBW94wsZpATTYLqxGomkAtKuCQWoOaQIUChum7QJpAtJkwUwuDmUCtQvOsDF6ZQGxt/68OJ5lAfEc+NpzlmEB7Ib7eZz6YQBoNehh38JdAG+xo7PO7l0DQ62js87uXQGE+deeUoJFAAFrHKl3bkEA=\",\"dtype\":\"float64\",\"shape\":[34]},\"train_mae\":{\"__ndarray__\":\"vwiJUZDHkkAuaqiKcMaSQD+3QrZWxpJA/ZrCOSLFkkC/TcZxzsGSQDD0JguavpJAvxD0SM+ykkD8Qz7hJaaSQHF15DGkpZJABs4E+QOjkkAq7FmDxaKSQOWew11nnpJA3/A7bpOakkA51A707o6SQLroLLhEfZJAns0CmmdqkkCJDcHUfV6SQORt506DS5JAz4TuIKE+kkBERnGkFCiSQIE0jyAvHZJAyoZBi5wXkkBxRKVeJwWSQF+Km/f+05FAQ+Pd/O2YkECVpB8jh3SQQHIELPvfR5BAFgAELzQqkEDHJYA3csKOQBABUlABTY5Amw+5XiMGjkDjDrleIwaOQJyaba4iXYZAZ847mrOehUA=\",\"dtype\":\"float64\",\"shape\":[34]},\"train_mse\":{\"__ndarray__\":\"zC5YDoKwR0GgGMaTkK9HQUsleOdLr0dBIDxIWtWtR0EBo0PPW6hHQYm+ODhUokdBEADWZHiZR0GC7muCC4hHQZzDCCfrhkdBsMGkKY5/R0GAS7ZujX9HQWjprMDPaEdB+qwSzFlaR0Fkn8K2XklHQXQeTV6REEdBNmY6KIvxRkE08oyrvdlGQcgZnL4UsEZBrt20p+OGRkH4hgzzh2NGQRL2DctdU0ZBXgH6jqpBRkFqz617bQxGQWBZfJE6qkVBGIvG3lNmREEYQUi2OxpEQb/CIdfpyENBfoxtOdlnQ0HHXkqNLV5CQdBBPjZLtUFBgmSUvUpqQUF5ZJS9SmpBQZ1DhveauTNBms9u77McMkE=\",\"dtype\":\"float64\",\"shape\":[34]},\"train_r2\":{\"__ndarray__\":\"AAAAnCxMYj4AICtSN2QkPwDQctBxMCo/AJBceM7nPD8A6kGbYwRWPwAXDbJKJ2M/AJ+mrbEebz8AaZZTQFR7PwDH2lECF3w/wEiKBxKIgD+AXh0oUYiAP0CmnTBQNog/wLu9HXkYjT8g3rBEP2qRP6CAqm6SAZs/QCWX8U8foD8wStlCwiGiP1B0jeompqU/MCftjm0gqT/gOxDAnxysP4DkspL9ea0/4MaC/Ir4rj+Iylval7uxP8DOTBbH4LU/fJ4/QoHGwT/g3uI/qWHDP1ixlzoNGcU/pPinSoQlxz+QG+LA/8DMPzRzWqjCKNA/bgOaC2Pz0D+EA5oLY/PQP345Gnt4reI/1mHi2VjE4z8=\",\"dtype\":\"float64\",\"shape\":[34]},\"train_rmse\":{\"__ndarray__\":\"qAaFnG+Im0BKeQBH44ebQD6py127h5tAgD3kq+GGm0AwGSzXsoObQFBc9f8wgJtAACYUFwl7m0BHFp314XCbQPCxttE5cJtAYi1/TO5rm0C8+mzf7WubQIiQGdClXptApcxgYzBWm0BfFYZBPkybQFC1ycbeKptAsCC2IZMYm0D31/9QgQqbQGK8D63P8ZpAcFr2vE7ZmkCvOl5GNMSaQLWBWeOIuppAShpLWe6vmkBgHgQH8I+aQCAc8fKGVJpAS7Zp/b2MmUD7fkQx6lyZQPuL+x5pKZlAT7fazmPrmEDZNQm9dz6YQLjRvwr+zZdAXEXe3F6bl0BWRd7cXpuXQEbLjnbgw5FA0OvdRfkFkUA=\",\"dtype\":\"float64\",\"shape\":[34]}},\"selected\":{\"id\":\"13988\",\"type\":\"Selection\"},\"selection_policy\":{\"id\":\"13987\",\"type\":\"UnionRenderers\"}},\"id\":\"13929\",\"type\":\"ColumnDataSource\"},{\"attributes\":{\"dimension\":1,\"ticker\":{\"id\":\"14069\",\"type\":\"BasicTicker\"}},\"id\":\"14072\",\"type\":\"Grid\"},{\"attributes\":{\"label\":{\"value\":\"test_mae\"},\"renderers\":[{\"id\":\"14102\",\"type\":\"GlyphRenderer\"}]},\"id\":\"14112\",\"type\":\"LegendItem\"},{\"attributes\":{\"line_alpha\":0.1,\"line_color\":\"#1f77b4\",\"x\":{\"field\":\"index\"},\"y\":{\"field\":\"train_mae\"}},\"id\":\"14088\",\"type\":\"Line\"},{\"attributes\":{\"active_drag\":\"auto\",\"active_inspect\":\"auto\",\"active_multi\":null,\"active_scroll\":\"auto\",\"active_tap\":\"auto\",\"tools\":[{\"id\":\"14073\",\"type\":\"PanTool\"},{\"id\":\"14074\",\"type\":\"WheelZoomTool\"},{\"id\":\"14075\",\"type\":\"BoxZoomTool\"},{\"id\":\"14076\",\"type\":\"SaveTool\"},{\"id\":\"14077\",\"type\":\"ResetTool\"},{\"id\":\"14078\",\"type\":\"HelpTool\"}]},\"id\":\"14079\",\"type\":\"Toolbar\"},{\"attributes\":{},\"id\":\"14077\",\"type\":\"ResetTool\"},{\"attributes\":{\"line_color\":\"red\",\"x\":{\"field\":\"index\"},\"y\":{\"field\":\"train_mae\"}},\"id\":\"14087\",\"type\":\"Line\"},{\"attributes\":{},\"id\":\"14073\",\"type\":\"PanTool\"},{\"attributes\":{\"ticker\":{\"id\":\"13942\",\"type\":\"BasicTicker\"}},\"id\":\"13945\",\"type\":\"Grid\"},{\"attributes\":{},\"id\":\"14074\",\"type\":\"WheelZoomTool\"},{\"attributes\":{\"overlay\":{\"id\":\"14096\",\"type\":\"BoxAnnotation\"}},\"id\":\"14075\",\"type\":\"BoxZoomTool\"},{\"attributes\":{},\"id\":\"14076\",\"type\":\"SaveTool\"},{\"attributes\":{\"below\":[{\"id\":\"13941\",\"type\":\"LinearAxis\"}],\"center\":[{\"id\":\"13945\",\"type\":\"Grid\"},{\"id\":\"13950\",\"type\":\"Grid\"},{\"id\":\"13975\",\"type\":\"Legend\"}],\"left\":[{\"id\":\"13946\",\"type\":\"LinearAxis\"}],\"plot_height\":300,\"plot_width\":300,\"renderers\":[{\"id\":\"13967\",\"type\":\"GlyphRenderer\"},{\"id\":\"13980\",\"type\":\"GlyphRenderer\"}],\"title\":{\"id\":\"13931\",\"type\":\"Title\"},\"toolbar\":{\"id\":\"13957\",\"type\":\"Toolbar\"},\"toolbar_location\":null,\"x_range\":{\"id\":\"13933\",\"type\":\"DataRange1d\"},\"x_scale\":{\"id\":\"13937\",\"type\":\"LinearScale\"},\"y_range\":{\"id\":\"13935\",\"type\":\"DataRange1d\"},\"y_scale\":{\"id\":\"13939\",\"type\":\"LinearScale\"}},\"id\":\"13930\",\"subtype\":\"Figure\",\"type\":\"Plot\"},{\"attributes\":{},\"id\":\"14078\",\"type\":\"HelpTool\"},{\"attributes\":{},\"id\":\"13942\",\"type\":\"BasicTicker\"},{\"attributes\":{\"data_source\":{\"id\":\"13929\",\"type\":\"ColumnDataSource\"},\"glyph\":{\"id\":\"14087\",\"type\":\"Line\"},\"hover_glyph\":null,\"muted_glyph\":null,\"nonselection_glyph\":{\"id\":\"14088\",\"type\":\"Line\"},\"selection_glyph\":null,\"view\":{\"id\":\"14090\",\"type\":\"CDSView\"}},\"id\":\"14089\",\"type\":\"GlyphRenderer\"},{\"attributes\":{\"source\":{\"id\":\"13929\",\"type\":\"ColumnDataSource\"}},\"id\":\"14090\",\"type\":\"CDSView\"},{\"attributes\":{},\"id\":\"14093\",\"type\":\"BasicTickFormatter\"},{\"attributes\":{},\"id\":\"14095\",\"type\":\"BasicTickFormatter\"},{\"attributes\":{\"bottom_units\":\"screen\",\"fill_alpha\":{\"value\":0.5},\"fill_color\":{\"value\":\"lightgrey\"},\"left_units\":\"screen\",\"level\":\"overlay\",\"line_alpha\":{\"value\":1.0},\"line_color\":{\"value\":\"black\"},\"line_dash\":[4,4],\"line_width\":{\"value\":2},\"render_mode\":\"css\",\"right_units\":\"screen\",\"top_units\":\"screen\"},\"id\":\"14096\",\"type\":\"BoxAnnotation\"},{\"attributes\":{\"items\":[{\"id\":\"14098\",\"type\":\"LegendItem\"},{\"id\":\"14112\",\"type\":\"LegendItem\"}],\"location\":\"top_left\"},\"id\":\"14097\",\"type\":\"Legend\"},{\"attributes\":{\"label\":{\"value\":\"train_mae\"},\"renderers\":[{\"id\":\"14089\",\"type\":\"GlyphRenderer\"}]},\"id\":\"14098\",\"type\":\"LegendItem\"},{\"attributes\":{\"source\":{\"id\":\"13929\",\"type\":\"ColumnDataSource\"}},\"id\":\"14103\",\"type\":\"CDSView\"},{\"attributes\":{\"line_color\":\"blue\",\"x\":{\"field\":\"index\"},\"y\":{\"field\":\"test_mae\"}},\"id\":\"14100\",\"type\":\"Line\"},{\"attributes\":{\"below\":[{\"id\":\"14124\",\"type\":\"LinearAxis\"}],\"center\":[{\"id\":\"14128\",\"type\":\"Grid\"},{\"id\":\"14133\",\"type\":\"Grid\"},{\"id\":\"14158\",\"type\":\"Legend\"}],\"left\":[{\"id\":\"14129\",\"type\":\"LinearAxis\"}],\"plot_height\":300,\"plot_width\":300,\"renderers\":[{\"id\":\"14150\",\"type\":\"GlyphRenderer\"},{\"id\":\"14163\",\"type\":\"GlyphRenderer\"}],\"title\":{\"id\":\"14114\",\"type\":\"Title\"},\"toolbar\":{\"id\":\"14140\",\"type\":\"Toolbar\"},\"toolbar_location\":null,\"x_range\":{\"id\":\"14116\",\"type\":\"DataRange1d\"},\"x_scale\":{\"id\":\"14120\",\"type\":\"LinearScale\"},\"y_range\":{\"id\":\"14118\",\"type\":\"DataRange1d\"},\"y_scale\":{\"id\":\"14122\",\"type\":\"LinearScale\"}},\"id\":\"14113\",\"subtype\":\"Figure\",\"type\":\"Plot\"},{\"attributes\":{\"dimension\":1,\"ticker\":{\"id\":\"13947\",\"type\":\"BasicTicker\"}},\"id\":\"13950\",\"type\":\"Grid\"},{\"attributes\":{},\"id\":\"13947\",\"type\":\"BasicTicker\"},{\"attributes\":{\"text\":\"RMSE VS #features\"},\"id\":\"14114\",\"type\":\"Title\"},{\"attributes\":{\"callback\":null},\"id\":\"14116\",\"type\":\"DataRange1d\"},{\"attributes\":{\"callback\":null},\"id\":\"14118\",\"type\":\"DataRange1d\"},{\"attributes\":{\"axis_label\":\"R squared\",\"formatter\":{\"id\":\"13971\",\"type\":\"BasicTickFormatter\"},\"ticker\":{\"id\":\"13947\",\"type\":\"BasicTicker\"}},\"id\":\"13946\",\"type\":\"LinearAxis\"},{\"attributes\":{},\"id\":\"14120\",\"type\":\"LinearScale\"},{\"attributes\":{},\"id\":\"14122\",\"type\":\"LinearScale\"},{\"attributes\":{\"axis_label\":\"number of features\",\"formatter\":{\"id\":\"14156\",\"type\":\"BasicTickFormatter\"},\"ticker\":{\"id\":\"14125\",\"type\":\"BasicTicker\"}},\"id\":\"14124\",\"type\":\"LinearAxis\"},{\"attributes\":{},\"id\":\"13956\",\"type\":\"HelpTool\"},{\"attributes\":{\"callback\":null},\"id\":\"14055\",\"type\":\"DataRange1d\"},{\"attributes\":{\"line_alpha\":0.1,\"line_color\":\"#1f77b4\",\"x\":{\"field\":\"index\"},\"y\":{\"field\":\"train_r2\"}},\"id\":\"13966\",\"type\":\"Line\"},{\"attributes\":{},\"id\":\"14125\",\"type\":\"BasicTicker\"},{\"attributes\":{\"ticker\":{\"id\":\"14125\",\"type\":\"BasicTicker\"}},\"id\":\"14128\",\"type\":\"Grid\"},{\"attributes\":{\"axis_label\":\"MAE\",\"formatter\":{\"id\":\"14093\",\"type\":\"BasicTickFormatter\"},\"ticker\":{\"id\":\"14069\",\"type\":\"BasicTicker\"}},\"id\":\"14068\",\"type\":\"LinearAxis\"},{\"attributes\":{\"line_color\":\"red\",\"x\":{\"field\":\"index\"},\"y\":{\"field\":\"train_r2\"}},\"id\":\"13965\",\"type\":\"Line\"},{\"attributes\":{\"active_drag\":\"auto\",\"active_inspect\":\"auto\",\"active_multi\":null,\"active_scroll\":\"auto\",\"active_tap\":\"auto\",\"tools\":[{\"id\":\"13951\",\"type\":\"PanTool\"},{\"id\":\"13952\",\"type\":\"WheelZoomTool\"},{\"id\":\"13953\",\"type\":\"BoxZoomTool\"},{\"id\":\"13954\",\"type\":\"SaveTool\"},{\"id\":\"13955\",\"type\":\"ResetTool\"},{\"id\":\"13956\",\"type\":\"HelpTool\"}]},\"id\":\"13957\",\"type\":\"Toolbar\"},{\"attributes\":{\"axis_label\":\"RMSE\",\"formatter\":{\"id\":\"14154\",\"type\":\"BasicTickFormatter\"},\"ticker\":{\"id\":\"14130\",\"type\":\"BasicTicker\"}},\"id\":\"14129\",\"type\":\"LinearAxis\"},{\"attributes\":{},\"id\":\"14064\",\"type\":\"BasicTicker\"},{\"attributes\":{},\"id\":\"13951\",\"type\":\"PanTool\"},{\"attributes\":{},\"id\":\"14130\",\"type\":\"BasicTicker\"},{\"attributes\":{},\"id\":\"13952\",\"type\":\"WheelZoomTool\"},{\"attributes\":{},\"id\":\"13998\",\"type\":\"LinearScale\"},{\"attributes\":{},\"id\":\"14061\",\"type\":\"LinearScale\"},{\"attributes\":{\"dimension\":1,\"ticker\":{\"id\":\"14130\",\"type\":\"BasicTicker\"}},\"id\":\"14133\",\"type\":\"Grid\"},{\"attributes\":{\"axis_label\":\"number of features\",\"formatter\":{\"id\":\"14095\",\"type\":\"BasicTickFormatter\"},\"ticker\":{\"id\":\"14064\",\"type\":\"BasicTicker\"}},\"id\":\"14063\",\"type\":\"LinearAxis\"},{\"attributes\":{\"overlay\":{\"id\":\"13974\",\"type\":\"BoxAnnotation\"}},\"id\":\"13953\",\"type\":\"BoxZoomTool\"},{\"attributes\":{\"line_alpha\":0.1,\"line_color\":\"#1f77b4\",\"x\":{\"field\":\"index\"},\"y\":{\"field\":\"train_rmse\"}},\"id\":\"14149\",\"type\":\"Line\"},{\"attributes\":{\"below\":[{\"id\":\"14063\",\"type\":\"LinearAxis\"}],\"center\":[{\"id\":\"14067\",\"type\":\"Grid\"},{\"id\":\"14072\",\"type\":\"Grid\"},{\"id\":\"14097\",\"type\":\"Legend\"}],\"left\":[{\"id\":\"14068\",\"type\":\"LinearAxis\"}],\"plot_height\":300,\"plot_width\":300,\"renderers\":[{\"id\":\"14089\",\"type\":\"GlyphRenderer\"},{\"id\":\"14102\",\"type\":\"GlyphRenderer\"}],\"title\":{\"id\":\"14053\",\"type\":\"Title\"},\"toolbar\":{\"id\":\"14079\",\"type\":\"Toolbar\"},\"toolbar_location\":null,\"x_range\":{\"id\":\"14055\",\"type\":\"DataRange1d\"},\"x_scale\":{\"id\":\"14059\",\"type\":\"LinearScale\"},\"y_range\":{\"id\":\"14057\",\"type\":\"DataRange1d\"},\"y_scale\":{\"id\":\"14061\",\"type\":\"LinearScale\"}},\"id\":\"14052\",\"subtype\":\"Figure\",\"type\":\"Plot\"},{\"attributes\":{},\"id\":\"13954\",\"type\":\"SaveTool\"},{\"attributes\":{\"line_color\":\"red\",\"x\":{\"field\":\"index\"},\"y\":{\"field\":\"train_rmse\"}},\"id\":\"14148\",\"type\":\"Line\"},{\"attributes\":{},\"id\":\"13955\",\"type\":\"ResetTool\"},{\"attributes\":{\"active_drag\":\"auto\",\"active_inspect\":\"auto\",\"active_multi\":null,\"active_scroll\":\"auto\",\"active_tap\":\"auto\",\"tools\":[{\"id\":\"14134\",\"type\":\"PanTool\"},{\"id\":\"14135\",\"type\":\"WheelZoomTool\"},{\"id\":\"14136\",\"type\":\"BoxZoomTool\"},{\"id\":\"14137\",\"type\":\"SaveTool\"},{\"id\":\"14138\",\"type\":\"ResetTool\"},{\"id\":\"14139\",\"type\":\"HelpTool\"}]},\"id\":\"14140\",\"type\":\"Toolbar\"},{\"attributes\":{\"line_alpha\":0.1,\"line_color\":\"#1f77b4\",\"x\":{\"field\":\"index\"},\"y\":{\"field\":\"test_mse\"}},\"id\":\"14040\",\"type\":\"Line\"},{\"attributes\":{},\"id\":\"14134\",\"type\":\"PanTool\"},{\"attributes\":{},\"id\":\"14135\",\"type\":\"WheelZoomTool\"},{\"attributes\":{\"bottom_units\":\"screen\",\"fill_alpha\":{\"value\":0.5},\"fill_color\":{\"value\":\"lightgrey\"},\"left_units\":\"screen\",\"level\":\"overlay\",\"line_alpha\":{\"value\":1.0},\"line_color\":{\"value\":\"black\"},\"line_dash\":[4,4],\"line_width\":{\"value\":2},\"render_mode\":\"css\",\"right_units\":\"screen\",\"top_units\":\"screen\"},\"id\":\"13974\",\"type\":\"BoxAnnotation\"},{\"attributes\":{},\"id\":\"13973\",\"type\":\"BasicTickFormatter\"},{\"attributes\":{\"source\":{\"id\":\"13929\",\"type\":\"ColumnDataSource\"}},\"id\":\"14042\",\"type\":\"CDSView\"},{\"attributes\":{\"overlay\":{\"id\":\"14157\",\"type\":\"BoxAnnotation\"}},\"id\":\"14136\",\"type\":\"BoxZoomTool\"},{\"attributes\":{},\"id\":\"14137\",\"type\":\"SaveTool\"},{\"attributes\":{\"data_source\":{\"id\":\"13929\",\"type\":\"ColumnDataSource\"},\"glyph\":{\"id\":\"13965\",\"type\":\"Line\"},\"hover_glyph\":null,\"muted_glyph\":null,\"nonselection_glyph\":{\"id\":\"13966\",\"type\":\"Line\"},\"selection_glyph\":null,\"view\":{\"id\":\"13968\",\"type\":\"CDSView\"}},\"id\":\"13967\",\"type\":\"GlyphRenderer\"},{\"attributes\":{\"data_source\":{\"id\":\"13929\",\"type\":\"ColumnDataSource\"},\"glyph\":{\"id\":\"14100\",\"type\":\"Line\"},\"hover_glyph\":null,\"muted_glyph\":null,\"nonselection_glyph\":{\"id\":\"14101\",\"type\":\"Line\"},\"selection_glyph\":null,\"view\":{\"id\":\"14103\",\"type\":\"CDSView\"}},\"id\":\"14102\",\"type\":\"GlyphRenderer\"},{\"attributes\":{\"source\":{\"id\":\"13929\",\"type\":\"ColumnDataSource\"}},\"id\":\"13968\",\"type\":\"CDSView\"},{\"attributes\":{},\"id\":\"14138\",\"type\":\"ResetTool\"},{\"attributes\":{\"label\":{\"value\":\"test_mse\"},\"renderers\":[{\"id\":\"14041\",\"type\":\"GlyphRenderer\"}]},\"id\":\"14051\",\"type\":\"LegendItem\"},{\"attributes\":{},\"id\":\"13971\",\"type\":\"BasicTickFormatter\"},{\"attributes\":{\"line_color\":\"blue\",\"x\":{\"field\":\"index\"},\"y\":{\"field\":\"test_mse\"}},\"id\":\"14039\",\"type\":\"Line\"},{\"attributes\":{},\"id\":\"14139\",\"type\":\"HelpTool\"},{\"attributes\":{\"items\":[{\"id\":\"13976\",\"type\":\"LegendItem\"},{\"id\":\"13990\",\"type\":\"LegendItem\"}],\"location\":\"top_left\"},\"id\":\"13975\",\"type\":\"Legend\"},{\"attributes\":{\"line_color\":\"red\",\"x\":{\"field\":\"index\"},\"y\":{\"field\":\"train_mse\"}},\"id\":\"14026\",\"type\":\"Line\"},{\"attributes\":{\"data_source\":{\"id\":\"13929\",\"type\":\"ColumnDataSource\"},\"glyph\":{\"id\":\"13978\",\"type\":\"Line\"},\"hover_glyph\":null,\"muted_glyph\":null,\"nonselection_glyph\":{\"id\":\"13979\",\"type\":\"Line\"},\"selection_glyph\":null,\"view\":{\"id\":\"13981\",\"type\":\"CDSView\"}},\"id\":\"13980\",\"type\":\"GlyphRenderer\"},{\"attributes\":{\"axis_label\":\"MSE\",\"formatter\":{\"id\":\"14032\",\"type\":\"BasicTickFormatter\"},\"ticker\":{\"id\":\"14008\",\"type\":\"BasicTicker\"}},\"id\":\"14007\",\"type\":\"LinearAxis\"},{\"attributes\":{\"data_source\":{\"id\":\"13929\",\"type\":\"ColumnDataSource\"},\"glyph\":{\"id\":\"14148\",\"type\":\"Line\"},\"hover_glyph\":null,\"muted_glyph\":null,\"nonselection_glyph\":{\"id\":\"14149\",\"type\":\"Line\"},\"selection_glyph\":null,\"view\":{\"id\":\"14151\",\"type\":\"CDSView\"}},\"id\":\"14150\",\"type\":\"GlyphRenderer\"},{\"attributes\":{\"line_alpha\":0.1,\"line_color\":\"#1f77b4\",\"x\":{\"field\":\"index\"},\"y\":{\"field\":\"train_mse\"}},\"id\":\"14027\",\"type\":\"Line\"},{\"attributes\":{\"line_alpha\":0.1,\"line_color\":\"#1f77b4\",\"x\":{\"field\":\"index\"},\"y\":{\"field\":\"test_r2\"}},\"id\":\"13979\",\"type\":\"Line\"},{\"attributes\":{\"source\":{\"id\":\"13929\",\"type\":\"ColumnDataSource\"}},\"id\":\"14151\",\"type\":\"CDSView\"},{\"attributes\":{\"label\":{\"value\":\"train_r2\"},\"renderers\":[{\"id\":\"13967\",\"type\":\"GlyphRenderer\"}]},\"id\":\"13976\",\"type\":\"LegendItem\"},{\"attributes\":{\"text\":\"MAE VS #features\"},\"id\":\"14053\",\"type\":\"Title\"},{\"attributes\":{},\"id\":\"14154\",\"type\":\"BasicTickFormatter\"},{\"attributes\":{\"callback\":null},\"id\":\"13933\",\"type\":\"DataRange1d\"},{\"attributes\":{},\"id\":\"14000\",\"type\":\"LinearScale\"},{\"attributes\":{},\"id\":\"14156\",\"type\":\"BasicTickFormatter\"},{\"attributes\":{\"data_source\":{\"id\":\"13929\",\"type\":\"ColumnDataSource\"},\"glyph\":{\"id\":\"14039\",\"type\":\"Line\"},\"hover_glyph\":null,\"muted_glyph\":null,\"nonselection_glyph\":{\"id\":\"14040\",\"type\":\"Line\"},\"selection_glyph\":null,\"view\":{\"id\":\"14042\",\"type\":\"CDSView\"}},\"id\":\"14041\",\"type\":\"GlyphRenderer\"},{\"attributes\":{\"ticker\":{\"id\":\"14064\",\"type\":\"BasicTicker\"}},\"id\":\"14067\",\"type\":\"Grid\"},{\"attributes\":{\"source\":{\"id\":\"13929\",\"type\":\"ColumnDataSource\"}},\"id\":\"14029\",\"type\":\"CDSView\"},{\"attributes\":{\"line_color\":\"blue\",\"x\":{\"field\":\"index\"},\"y\":{\"field\":\"test_r2\"}},\"id\":\"13978\",\"type\":\"Line\"},{\"attributes\":{\"bottom_units\":\"screen\",\"fill_alpha\":{\"value\":0.5},\"fill_color\":{\"value\":\"lightgrey\"},\"left_units\":\"screen\",\"level\":\"overlay\",\"line_alpha\":{\"value\":1.0},\"line_color\":{\"value\":\"black\"},\"line_dash\":[4,4],\"line_width\":{\"value\":2},\"render_mode\":\"css\",\"right_units\":\"screen\",\"top_units\":\"screen\"},\"id\":\"14157\",\"type\":\"BoxAnnotation\"},{\"attributes\":{\"axis_label\":\"number of features\",\"formatter\":{\"id\":\"14034\",\"type\":\"BasicTickFormatter\"},\"ticker\":{\"id\":\"14003\",\"type\":\"BasicTicker\"}},\"id\":\"14002\",\"type\":\"LinearAxis\"},{\"attributes\":{\"items\":[{\"id\":\"14159\",\"type\":\"LegendItem\"},{\"id\":\"14173\",\"type\":\"LegendItem\"}],\"location\":\"top_left\"},\"id\":\"14158\",\"type\":\"Legend\"},{\"attributes\":{\"ticker\":{\"id\":\"14003\",\"type\":\"BasicTicker\"}},\"id\":\"14006\",\"type\":\"Grid\"},{\"attributes\":{},\"id\":\"13987\",\"type\":\"UnionRenderers\"},{\"attributes\":{\"line_alpha\":0.1,\"line_color\":\"#1f77b4\",\"x\":{\"field\":\"index\"},\"y\":{\"field\":\"test_mae\"}},\"id\":\"14101\",\"type\":\"Line\"},{\"attributes\":{\"label\":{\"value\":\"train_rmse\"},\"renderers\":[{\"id\":\"14150\",\"type\":\"GlyphRenderer\"}]},\"id\":\"14159\",\"type\":\"LegendItem\"},{\"attributes\":{\"source\":{\"id\":\"13929\",\"type\":\"ColumnDataSource\"}},\"id\":\"13981\",\"type\":\"CDSView\"},{\"attributes\":{},\"id\":\"14003\",\"type\":\"BasicTicker\"},{\"attributes\":{},\"id\":\"13988\",\"type\":\"Selection\"},{\"attributes\":{\"label\":{\"value\":\"test_r2\"},\"renderers\":[{\"id\":\"13980\",\"type\":\"GlyphRenderer\"}]},\"id\":\"13990\",\"type\":\"LegendItem\"},{\"attributes\":{},\"id\":\"14008\",\"type\":\"BasicTicker\"},{\"attributes\":{\"line_color\":\"blue\",\"x\":{\"field\":\"index\"},\"y\":{\"field\":\"test_rmse\"}},\"id\":\"14161\",\"type\":\"Line\"},{\"attributes\":{\"callback\":null},\"id\":\"14057\",\"type\":\"DataRange1d\"},{\"attributes\":{\"below\":[{\"id\":\"14002\",\"type\":\"LinearAxis\"}],\"center\":[{\"id\":\"14006\",\"type\":\"Grid\"},{\"id\":\"14011\",\"type\":\"Grid\"},{\"id\":\"14036\",\"type\":\"Legend\"}],\"left\":[{\"id\":\"14007\",\"type\":\"LinearAxis\"}],\"plot_height\":300,\"plot_width\":300,\"renderers\":[{\"id\":\"14028\",\"type\":\"GlyphRenderer\"},{\"id\":\"14041\",\"type\":\"GlyphRenderer\"}],\"title\":{\"id\":\"13992\",\"type\":\"Title\"},\"toolbar\":{\"id\":\"14018\",\"type\":\"Toolbar\"},\"toolbar_location\":null,\"x_range\":{\"id\":\"13994\",\"type\":\"DataRange1d\"},\"x_scale\":{\"id\":\"13998\",\"type\":\"LinearScale\"},\"y_range\":{\"id\":\"13996\",\"type\":\"DataRange1d\"},\"y_scale\":{\"id\":\"14000\",\"type\":\"LinearScale\"}},\"id\":\"13991\",\"subtype\":\"Figure\",\"type\":\"Plot\"},{\"attributes\":{\"dimension\":1,\"ticker\":{\"id\":\"14008\",\"type\":\"BasicTicker\"}},\"id\":\"14011\",\"type\":\"Grid\"},{\"attributes\":{\"line_alpha\":0.1,\"line_color\":\"#1f77b4\",\"x\":{\"field\":\"index\"},\"y\":{\"field\":\"test_rmse\"}},\"id\":\"14162\",\"type\":\"Line\"},{\"attributes\":{\"callback\":null},\"id\":\"13996\",\"type\":\"DataRange1d\"},{\"attributes\":{},\"id\":\"14015\",\"type\":\"SaveTool\"},{\"attributes\":{\"active_drag\":\"auto\",\"active_inspect\":\"auto\",\"active_multi\":null,\"active_scroll\":\"auto\",\"active_tap\":\"auto\",\"tools\":[{\"id\":\"14012\",\"type\":\"PanTool\"},{\"id\":\"14013\",\"type\":\"WheelZoomTool\"},{\"id\":\"14014\",\"type\":\"BoxZoomTool\"},{\"id\":\"14015\",\"type\":\"SaveTool\"},{\"id\":\"14016\",\"type\":\"ResetTool\"},{\"id\":\"14017\",\"type\":\"HelpTool\"}]},\"id\":\"14018\",\"type\":\"Toolbar\"},{\"attributes\":{\"data_source\":{\"id\":\"13929\",\"type\":\"ColumnDataSource\"},\"glyph\":{\"id\":\"14161\",\"type\":\"Line\"},\"hover_glyph\":null,\"muted_glyph\":null,\"nonselection_glyph\":{\"id\":\"14162\",\"type\":\"Line\"},\"selection_glyph\":null,\"view\":{\"id\":\"14164\",\"type\":\"CDSView\"}},\"id\":\"14163\",\"type\":\"GlyphRenderer\"},{\"attributes\":{},\"id\":\"14069\",\"type\":\"BasicTicker\"},{\"attributes\":{\"data_source\":{\"id\":\"13929\",\"type\":\"ColumnDataSource\"},\"glyph\":{\"id\":\"14026\",\"type\":\"Line\"},\"hover_glyph\":null,\"muted_glyph\":null,\"nonselection_glyph\":{\"id\":\"14027\",\"type\":\"Line\"},\"selection_glyph\":null,\"view\":{\"id\":\"14029\",\"type\":\"CDSView\"}},\"id\":\"14028\",\"type\":\"GlyphRenderer\"},{\"attributes\":{},\"id\":\"14034\",\"type\":\"BasicTickFormatter\"},{\"attributes\":{\"source\":{\"id\":\"13929\",\"type\":\"ColumnDataSource\"}},\"id\":\"14164\",\"type\":\"CDSView\"},{\"attributes\":{\"text\":\"MSE VS #features\"},\"id\":\"13992\",\"type\":\"Title\"},{\"attributes\":{\"overlay\":{\"id\":\"14035\",\"type\":\"BoxAnnotation\"}},\"id\":\"14014\",\"type\":\"BoxZoomTool\"},{\"attributes\":{},\"id\":\"14012\",\"type\":\"PanTool\"},{\"attributes\":{\"label\":{\"value\":\"test_rmse\"},\"renderers\":[{\"id\":\"14163\",\"type\":\"GlyphRenderer\"}]},\"id\":\"14173\",\"type\":\"LegendItem\"},{\"attributes\":{\"callback\":null},\"id\":\"13994\",\"type\":\"DataRange1d\"},{\"attributes\":{},\"id\":\"14059\",\"type\":\"LinearScale\"},{\"attributes\":{},\"id\":\"14013\",\"type\":\"WheelZoomTool\"},{\"attributes\":{},\"id\":\"13937\",\"type\":\"LinearScale\"},{\"attributes\":{},\"id\":\"14016\",\"type\":\"ResetTool\"},{\"attributes\":{\"text\":\"R squared VS #features\"},\"id\":\"13931\",\"type\":\"Title\"},{\"attributes\":{},\"id\":\"13939\",\"type\":\"LinearScale\"},{\"attributes\":{\"items\":[{\"id\":\"14037\",\"type\":\"LegendItem\"},{\"id\":\"14051\",\"type\":\"LegendItem\"}],\"location\":\"top_left\"},\"id\":\"14036\",\"type\":\"Legend\"},{\"attributes\":{},\"id\":\"14032\",\"type\":\"BasicTickFormatter\"},{\"attributes\":{},\"id\":\"14017\",\"type\":\"HelpTool\"},{\"attributes\":{\"bottom_units\":\"screen\",\"fill_alpha\":{\"value\":0.5},\"fill_color\":{\"value\":\"lightgrey\"},\"left_units\":\"screen\",\"level\":\"overlay\",\"line_alpha\":{\"value\":1.0},\"line_color\":{\"value\":\"black\"},\"line_dash\":[4,4],\"line_width\":{\"value\":2},\"render_mode\":\"css\",\"right_units\":\"screen\",\"top_units\":\"screen\"},\"id\":\"14035\",\"type\":\"BoxAnnotation\"},{\"attributes\":{\"callback\":null},\"id\":\"13935\",\"type\":\"DataRange1d\"},{\"attributes\":{\"axis_label\":\"number of features\",\"formatter\":{\"id\":\"13973\",\"type\":\"BasicTickFormatter\"},\"ticker\":{\"id\":\"13942\",\"type\":\"BasicTicker\"}},\"id\":\"13941\",\"type\":\"LinearAxis\"},{\"attributes\":{\"label\":{\"value\":\"train_mse\"},\"renderers\":[{\"id\":\"14028\",\"type\":\"GlyphRenderer\"}]},\"id\":\"14037\",\"type\":\"LegendItem\"}],\"root_ids\":[\"14174\"]},\"title\":\"Bokeh Application\",\"version\":\"1.4.0\"}};\n",
              "  var render_items = [{\"docid\":\"c250c82a-7faa-4452-8339-c93122165786\",\"roots\":{\"14174\":\"a7ce00f7-baf6-46cb-ac3b-6b804c904a81\"}}];\n",
              "  root.Bokeh.embed.embed_items_notebook(docs_json, render_items);\n",
              "\n",
              "  }\n",
              "  if (root.Bokeh !== undefined) {\n",
              "    embed_document(root);\n",
              "  } else {\n",
              "    var attempts = 0;\n",
              "    var timer = setInterval(function(root) {\n",
              "      if (root.Bokeh !== undefined) {\n",
              "        clearInterval(timer);\n",
              "        embed_document(root);\n",
              "      } else {\n",
              "        attempts++;\n",
              "        if (attempts > 100) {\n",
              "          clearInterval(timer);\n",
              "          console.log(\"Bokeh: ERROR: Unable to run BokehJS code because BokehJS library is missing\");\n",
              "        }\n",
              "      }\n",
              "    }, 10, root)\n",
              "  }\n",
              "})(window);"
            ],
            "application/vnd.bokehjs_exec.v0+json": ""
          },
          "metadata": {
            "tags": [],
            "application/vnd.bokehjs_exec.v0+json": {
              "id": "14174"
            }
          }
        }
      ]
    },
    {
      "cell_type": "code",
      "metadata": {
        "id": "wDz6Nl8zYaOs",
        "colab_type": "code",
        "colab": {
          "base_uri": "https://localhost:8080/",
          "height": 317
        },
        "outputId": "f636bf13-6aad-4f35-a1f8-32e7937f72df"
      },
      "source": [
        "graph_df = model_score_vs_number_of_features_graph(sorted_abs_corrs_with_price.index[::-1])\n",
        "source = ColumnDataSource(data=graph_df)\n",
        "drawer(300, 300, source, \"top_right\")"
      ],
      "execution_count": 170,
      "outputs": [
        {
          "output_type": "display_data",
          "data": {
            "application/javascript": [
              "\n",
              "(function(root) {\n",
              "  function now() {\n",
              "    return new Date();\n",
              "  }\n",
              "\n",
              "  var force = true;\n",
              "\n",
              "  if (typeof root._bokeh_onload_callbacks === \"undefined\" || force === true) {\n",
              "    root._bokeh_onload_callbacks = [];\n",
              "    root._bokeh_is_loading = undefined;\n",
              "  }\n",
              "\n",
              "  var JS_MIME_TYPE = 'application/javascript';\n",
              "  var HTML_MIME_TYPE = 'text/html';\n",
              "  var EXEC_MIME_TYPE = 'application/vnd.bokehjs_exec.v0+json';\n",
              "  var CLASS_NAME = 'output_bokeh rendered_html';\n",
              "\n",
              "  /**\n",
              "   * Render data to the DOM node\n",
              "   */\n",
              "  function render(props, node) {\n",
              "    var script = document.createElement(\"script\");\n",
              "    node.appendChild(script);\n",
              "  }\n",
              "\n",
              "  /**\n",
              "   * Handle when an output is cleared or removed\n",
              "   */\n",
              "  function handleClearOutput(event, handle) {\n",
              "    var cell = handle.cell;\n",
              "\n",
              "    var id = cell.output_area._bokeh_element_id;\n",
              "    var server_id = cell.output_area._bokeh_server_id;\n",
              "    // Clean up Bokeh references\n",
              "    if (id != null && id in Bokeh.index) {\n",
              "      Bokeh.index[id].model.document.clear();\n",
              "      delete Bokeh.index[id];\n",
              "    }\n",
              "\n",
              "    if (server_id !== undefined) {\n",
              "      // Clean up Bokeh references\n",
              "      var cmd = \"from bokeh.io.state import curstate; print(curstate().uuid_to_server['\" + server_id + \"'].get_sessions()[0].document.roots[0]._id)\";\n",
              "      cell.notebook.kernel.execute(cmd, {\n",
              "        iopub: {\n",
              "          output: function(msg) {\n",
              "            var id = msg.content.text.trim();\n",
              "            if (id in Bokeh.index) {\n",
              "              Bokeh.index[id].model.document.clear();\n",
              "              delete Bokeh.index[id];\n",
              "            }\n",
              "          }\n",
              "        }\n",
              "      });\n",
              "      // Destroy server and session\n",
              "      var cmd = \"import bokeh.io.notebook as ion; ion.destroy_server('\" + server_id + \"')\";\n",
              "      cell.notebook.kernel.execute(cmd);\n",
              "    }\n",
              "  }\n",
              "\n",
              "  /**\n",
              "   * Handle when a new output is added\n",
              "   */\n",
              "  function handleAddOutput(event, handle) {\n",
              "    var output_area = handle.output_area;\n",
              "    var output = handle.output;\n",
              "\n",
              "    // limit handleAddOutput to display_data with EXEC_MIME_TYPE content only\n",
              "    if ((output.output_type != \"display_data\") || (!output.data.hasOwnProperty(EXEC_MIME_TYPE))) {\n",
              "      return\n",
              "    }\n",
              "\n",
              "    var toinsert = output_area.element.find(\".\" + CLASS_NAME.split(' ')[0]);\n",
              "\n",
              "    if (output.metadata[EXEC_MIME_TYPE][\"id\"] !== undefined) {\n",
              "      toinsert[toinsert.length - 1].firstChild.textContent = output.data[JS_MIME_TYPE];\n",
              "      // store reference to embed id on output_area\n",
              "      output_area._bokeh_element_id = output.metadata[EXEC_MIME_TYPE][\"id\"];\n",
              "    }\n",
              "    if (output.metadata[EXEC_MIME_TYPE][\"server_id\"] !== undefined) {\n",
              "      var bk_div = document.createElement(\"div\");\n",
              "      bk_div.innerHTML = output.data[HTML_MIME_TYPE];\n",
              "      var script_attrs = bk_div.children[0].attributes;\n",
              "      for (var i = 0; i < script_attrs.length; i++) {\n",
              "        toinsert[toinsert.length - 1].firstChild.setAttribute(script_attrs[i].name, script_attrs[i].value);\n",
              "      }\n",
              "      // store reference to server id on output_area\n",
              "      output_area._bokeh_server_id = output.metadata[EXEC_MIME_TYPE][\"server_id\"];\n",
              "    }\n",
              "  }\n",
              "\n",
              "  function register_renderer(events, OutputArea) {\n",
              "\n",
              "    function append_mime(data, metadata, element) {\n",
              "      // create a DOM node to render to\n",
              "      var toinsert = this.create_output_subarea(\n",
              "        metadata,\n",
              "        CLASS_NAME,\n",
              "        EXEC_MIME_TYPE\n",
              "      );\n",
              "      this.keyboard_manager.register_events(toinsert);\n",
              "      // Render to node\n",
              "      var props = {data: data, metadata: metadata[EXEC_MIME_TYPE]};\n",
              "      render(props, toinsert[toinsert.length - 1]);\n",
              "      element.append(toinsert);\n",
              "      return toinsert\n",
              "    }\n",
              "\n",
              "    /* Handle when an output is cleared or removed */\n",
              "    events.on('clear_output.CodeCell', handleClearOutput);\n",
              "    events.on('delete.Cell', handleClearOutput);\n",
              "\n",
              "    /* Handle when a new output is added */\n",
              "    events.on('output_added.OutputArea', handleAddOutput);\n",
              "\n",
              "    /**\n",
              "     * Register the mime type and append_mime function with output_area\n",
              "     */\n",
              "    OutputArea.prototype.register_mime_type(EXEC_MIME_TYPE, append_mime, {\n",
              "      /* Is output safe? */\n",
              "      safe: true,\n",
              "      /* Index of renderer in `output_area.display_order` */\n",
              "      index: 0\n",
              "    });\n",
              "  }\n",
              "\n",
              "  // register the mime type if in Jupyter Notebook environment and previously unregistered\n",
              "  if (root.Jupyter !== undefined) {\n",
              "    var events = require('base/js/events');\n",
              "    var OutputArea = require('notebook/js/outputarea').OutputArea;\n",
              "\n",
              "    if (OutputArea.prototype.mime_types().indexOf(EXEC_MIME_TYPE) == -1) {\n",
              "      register_renderer(events, OutputArea);\n",
              "    }\n",
              "  }\n",
              "\n",
              "  \n",
              "  if (typeof (root._bokeh_timeout) === \"undefined\" || force === true) {\n",
              "    root._bokeh_timeout = Date.now() + 5000;\n",
              "    root._bokeh_failed_load = false;\n",
              "  }\n",
              "\n",
              "  var NB_LOAD_WARNING = {'data': {'text/html':\n",
              "     \"<div style='background-color: #fdd'>\\n\"+\n",
              "     \"<p>\\n\"+\n",
              "     \"BokehJS does not appear to have successfully loaded. If loading BokehJS from CDN, this \\n\"+\n",
              "     \"may be due to a slow or bad network connection. Possible fixes:\\n\"+\n",
              "     \"</p>\\n\"+\n",
              "     \"<ul>\\n\"+\n",
              "     \"<li>re-rerun `output_notebook()` to attempt to load from CDN again, or</li>\\n\"+\n",
              "     \"<li>use INLINE resources instead, as so:</li>\\n\"+\n",
              "     \"</ul>\\n\"+\n",
              "     \"<code>\\n\"+\n",
              "     \"from bokeh.resources import INLINE\\n\"+\n",
              "     \"output_notebook(resources=INLINE)\\n\"+\n",
              "     \"</code>\\n\"+\n",
              "     \"</div>\"}};\n",
              "\n",
              "  function display_loaded() {\n",
              "    var el = document.getElementById(null);\n",
              "    if (el != null) {\n",
              "      el.textContent = \"BokehJS is loading...\";\n",
              "    }\n",
              "    if (root.Bokeh !== undefined) {\n",
              "      if (el != null) {\n",
              "        el.textContent = \"BokehJS \" + root.Bokeh.version + \" successfully loaded.\";\n",
              "      }\n",
              "    } else if (Date.now() < root._bokeh_timeout) {\n",
              "      setTimeout(display_loaded, 100)\n",
              "    }\n",
              "  }\n",
              "\n",
              "\n",
              "  function run_callbacks() {\n",
              "    try {\n",
              "      root._bokeh_onload_callbacks.forEach(function(callback) {\n",
              "        if (callback != null)\n",
              "          callback();\n",
              "      });\n",
              "    } finally {\n",
              "      delete root._bokeh_onload_callbacks\n",
              "    }\n",
              "    console.debug(\"Bokeh: all callbacks have finished\");\n",
              "  }\n",
              "\n",
              "  function load_libs(css_urls, js_urls, callback) {\n",
              "    if (css_urls == null) css_urls = [];\n",
              "    if (js_urls == null) js_urls = [];\n",
              "\n",
              "    root._bokeh_onload_callbacks.push(callback);\n",
              "    if (root._bokeh_is_loading > 0) {\n",
              "      console.debug(\"Bokeh: BokehJS is being loaded, scheduling callback at\", now());\n",
              "      return null;\n",
              "    }\n",
              "    if (js_urls == null || js_urls.length === 0) {\n",
              "      run_callbacks();\n",
              "      return null;\n",
              "    }\n",
              "    console.debug(\"Bokeh: BokehJS not loaded, scheduling load and callback at\", now());\n",
              "    root._bokeh_is_loading = css_urls.length + js_urls.length;\n",
              "\n",
              "    function on_load() {\n",
              "      root._bokeh_is_loading--;\n",
              "      if (root._bokeh_is_loading === 0) {\n",
              "        console.debug(\"Bokeh: all BokehJS libraries/stylesheets loaded\");\n",
              "        run_callbacks()\n",
              "      }\n",
              "    }\n",
              "\n",
              "    function on_error() {\n",
              "      console.error(\"failed to load \" + url);\n",
              "    }\n",
              "\n",
              "    for (var i = 0; i < css_urls.length; i++) {\n",
              "      var url = css_urls[i];\n",
              "      const element = document.createElement(\"link\");\n",
              "      element.onload = on_load;\n",
              "      element.onerror = on_error;\n",
              "      element.rel = \"stylesheet\";\n",
              "      element.type = \"text/css\";\n",
              "      element.href = url;\n",
              "      console.debug(\"Bokeh: injecting link tag for BokehJS stylesheet: \", url);\n",
              "      document.body.appendChild(element);\n",
              "    }\n",
              "\n",
              "    for (var i = 0; i < js_urls.length; i++) {\n",
              "      var url = js_urls[i];\n",
              "      var element = document.createElement('script');\n",
              "      element.onload = on_load;\n",
              "      element.onerror = on_error;\n",
              "      element.async = false;\n",
              "      element.src = url;\n",
              "      console.debug(\"Bokeh: injecting script tag for BokehJS library: \", url);\n",
              "      document.head.appendChild(element);\n",
              "    }\n",
              "  };\n",
              "\n",
              "  function inject_raw_css(css) {\n",
              "    const element = document.createElement(\"style\");\n",
              "    element.appendChild(document.createTextNode(css));\n",
              "    document.body.appendChild(element);\n",
              "  }\n",
              "\n",
              "  \n",
              "  var js_urls = [\"https://cdn.pydata.org/bokeh/release/bokeh-1.4.0.min.js\", \"https://cdn.pydata.org/bokeh/release/bokeh-widgets-1.4.0.min.js\", \"https://cdn.pydata.org/bokeh/release/bokeh-tables-1.4.0.min.js\", \"https://cdn.pydata.org/bokeh/release/bokeh-gl-1.4.0.min.js\"];\n",
              "  var css_urls = [];\n",
              "  \n",
              "\n",
              "  var inline_js = [\n",
              "    function(Bokeh) {\n",
              "      Bokeh.set_log_level(\"info\");\n",
              "    },\n",
              "    function(Bokeh) {\n",
              "    \n",
              "    \n",
              "    }\n",
              "  ];\n",
              "\n",
              "  function run_inline_js() {\n",
              "    \n",
              "    if (root.Bokeh !== undefined || force === true) {\n",
              "      \n",
              "    for (var i = 0; i < inline_js.length; i++) {\n",
              "      inline_js[i].call(root, root.Bokeh);\n",
              "    }\n",
              "    } else if (Date.now() < root._bokeh_timeout) {\n",
              "      setTimeout(run_inline_js, 100);\n",
              "    } else if (!root._bokeh_failed_load) {\n",
              "      console.log(\"Bokeh: BokehJS failed to load within specified timeout.\");\n",
              "      root._bokeh_failed_load = true;\n",
              "    } else if (force !== true) {\n",
              "      var cell = $(document.getElementById(null)).parents('.cell').data().cell;\n",
              "      cell.output_area.append_execute_result(NB_LOAD_WARNING)\n",
              "    }\n",
              "\n",
              "  }\n",
              "\n",
              "  if (root._bokeh_is_loading === 0) {\n",
              "    console.debug(\"Bokeh: BokehJS loaded, going straight to plotting\");\n",
              "    run_inline_js();\n",
              "  } else {\n",
              "    load_libs(css_urls, js_urls, function() {\n",
              "      console.debug(\"Bokeh: BokehJS plotting callback run at\", now());\n",
              "      run_inline_js();\n",
              "    });\n",
              "  }\n",
              "}(window));"
            ],
            "application/vnd.bokehjs_load.v0+json": "\n(function(root) {\n  function now() {\n    return new Date();\n  }\n\n  var force = true;\n\n  if (typeof root._bokeh_onload_callbacks === \"undefined\" || force === true) {\n    root._bokeh_onload_callbacks = [];\n    root._bokeh_is_loading = undefined;\n  }\n\n  \n\n  \n  if (typeof (root._bokeh_timeout) === \"undefined\" || force === true) {\n    root._bokeh_timeout = Date.now() + 5000;\n    root._bokeh_failed_load = false;\n  }\n\n  var NB_LOAD_WARNING = {'data': {'text/html':\n     \"<div style='background-color: #fdd'>\\n\"+\n     \"<p>\\n\"+\n     \"BokehJS does not appear to have successfully loaded. If loading BokehJS from CDN, this \\n\"+\n     \"may be due to a slow or bad network connection. Possible fixes:\\n\"+\n     \"</p>\\n\"+\n     \"<ul>\\n\"+\n     \"<li>re-rerun `output_notebook()` to attempt to load from CDN again, or</li>\\n\"+\n     \"<li>use INLINE resources instead, as so:</li>\\n\"+\n     \"</ul>\\n\"+\n     \"<code>\\n\"+\n     \"from bokeh.resources import INLINE\\n\"+\n     \"output_notebook(resources=INLINE)\\n\"+\n     \"</code>\\n\"+\n     \"</div>\"}};\n\n  function display_loaded() {\n    var el = document.getElementById(null);\n    if (el != null) {\n      el.textContent = \"BokehJS is loading...\";\n    }\n    if (root.Bokeh !== undefined) {\n      if (el != null) {\n        el.textContent = \"BokehJS \" + root.Bokeh.version + \" successfully loaded.\";\n      }\n    } else if (Date.now() < root._bokeh_timeout) {\n      setTimeout(display_loaded, 100)\n    }\n  }\n\n\n  function run_callbacks() {\n    try {\n      root._bokeh_onload_callbacks.forEach(function(callback) {\n        if (callback != null)\n          callback();\n      });\n    } finally {\n      delete root._bokeh_onload_callbacks\n    }\n    console.debug(\"Bokeh: all callbacks have finished\");\n  }\n\n  function load_libs(css_urls, js_urls, callback) {\n    if (css_urls == null) css_urls = [];\n    if (js_urls == null) js_urls = [];\n\n    root._bokeh_onload_callbacks.push(callback);\n    if (root._bokeh_is_loading > 0) {\n      console.debug(\"Bokeh: BokehJS is being loaded, scheduling callback at\", now());\n      return null;\n    }\n    if (js_urls == null || js_urls.length === 0) {\n      run_callbacks();\n      return null;\n    }\n    console.debug(\"Bokeh: BokehJS not loaded, scheduling load and callback at\", now());\n    root._bokeh_is_loading = css_urls.length + js_urls.length;\n\n    function on_load() {\n      root._bokeh_is_loading--;\n      if (root._bokeh_is_loading === 0) {\n        console.debug(\"Bokeh: all BokehJS libraries/stylesheets loaded\");\n        run_callbacks()\n      }\n    }\n\n    function on_error() {\n      console.error(\"failed to load \" + url);\n    }\n\n    for (var i = 0; i < css_urls.length; i++) {\n      var url = css_urls[i];\n      const element = document.createElement(\"link\");\n      element.onload = on_load;\n      element.onerror = on_error;\n      element.rel = \"stylesheet\";\n      element.type = \"text/css\";\n      element.href = url;\n      console.debug(\"Bokeh: injecting link tag for BokehJS stylesheet: \", url);\n      document.body.appendChild(element);\n    }\n\n    for (var i = 0; i < js_urls.length; i++) {\n      var url = js_urls[i];\n      var element = document.createElement('script');\n      element.onload = on_load;\n      element.onerror = on_error;\n      element.async = false;\n      element.src = url;\n      console.debug(\"Bokeh: injecting script tag for BokehJS library: \", url);\n      document.head.appendChild(element);\n    }\n  };\n\n  function inject_raw_css(css) {\n    const element = document.createElement(\"style\");\n    element.appendChild(document.createTextNode(css));\n    document.body.appendChild(element);\n  }\n\n  \n  var js_urls = [\"https://cdn.pydata.org/bokeh/release/bokeh-1.4.0.min.js\", \"https://cdn.pydata.org/bokeh/release/bokeh-widgets-1.4.0.min.js\", \"https://cdn.pydata.org/bokeh/release/bokeh-tables-1.4.0.min.js\", \"https://cdn.pydata.org/bokeh/release/bokeh-gl-1.4.0.min.js\"];\n  var css_urls = [];\n  \n\n  var inline_js = [\n    function(Bokeh) {\n      Bokeh.set_log_level(\"info\");\n    },\n    function(Bokeh) {\n    \n    \n    }\n  ];\n\n  function run_inline_js() {\n    \n    if (root.Bokeh !== undefined || force === true) {\n      \n    for (var i = 0; i < inline_js.length; i++) {\n      inline_js[i].call(root, root.Bokeh);\n    }\n    } else if (Date.now() < root._bokeh_timeout) {\n      setTimeout(run_inline_js, 100);\n    } else if (!root._bokeh_failed_load) {\n      console.log(\"Bokeh: BokehJS failed to load within specified timeout.\");\n      root._bokeh_failed_load = true;\n    } else if (force !== true) {\n      var cell = $(document.getElementById(null)).parents('.cell').data().cell;\n      cell.output_area.append_execute_result(NB_LOAD_WARNING)\n    }\n\n  }\n\n  if (root._bokeh_is_loading === 0) {\n    console.debug(\"Bokeh: BokehJS loaded, going straight to plotting\");\n    run_inline_js();\n  } else {\n    load_libs(css_urls, js_urls, function() {\n      console.debug(\"Bokeh: BokehJS plotting callback run at\", now());\n      run_inline_js();\n    });\n  }\n}(window));"
          },
          "metadata": {
            "tags": []
          }
        },
        {
          "output_type": "display_data",
          "data": {
            "text/html": [
              "\n",
              "\n",
              "\n",
              "\n",
              "\n",
              "\n",
              "  <div class=\"bk-root\" id=\"f802de99-6985-4926-a520-346a4d7b30af\" data-root-id=\"18194\"></div>\n"
            ]
          },
          "metadata": {
            "tags": []
          }
        },
        {
          "output_type": "display_data",
          "data": {
            "application/javascript": [
              "(function(root) {\n",
              "  function embed_document(root) {\n",
              "    \n",
              "  var docs_json = {\"5b77eb0e-ee29-4e3c-982d-d851ec7ef8d7\":{\"roots\":{\"references\":[{\"attributes\":{\"children\":[{\"id\":\"17950\",\"subtype\":\"Figure\",\"type\":\"Plot\"},{\"id\":\"18011\",\"subtype\":\"Figure\",\"type\":\"Plot\"},{\"id\":\"18072\",\"subtype\":\"Figure\",\"type\":\"Plot\"},{\"id\":\"18133\",\"subtype\":\"Figure\",\"type\":\"Plot\"}]},\"id\":\"18194\",\"type\":\"Row\"},{\"attributes\":{\"items\":[{\"id\":\"17996\",\"type\":\"LegendItem\"},{\"id\":\"18010\",\"type\":\"LegendItem\"}]},\"id\":\"17995\",\"type\":\"Legend\"},{\"attributes\":{\"line_color\":\"blue\",\"x\":{\"field\":\"index\"},\"y\":{\"field\":\"test_mae\"}},\"id\":\"18120\",\"type\":\"Line\"},{\"attributes\":{\"label\":{\"value\":\"test_rmse\"},\"renderers\":[{\"id\":\"18183\",\"type\":\"GlyphRenderer\"}]},\"id\":\"18193\",\"type\":\"LegendItem\"},{\"attributes\":{\"bottom_units\":\"screen\",\"fill_alpha\":{\"value\":0.5},\"fill_color\":{\"value\":\"lightgrey\"},\"left_units\":\"screen\",\"level\":\"overlay\",\"line_alpha\":{\"value\":1.0},\"line_color\":{\"value\":\"black\"},\"line_dash\":[4,4],\"line_width\":{\"value\":2},\"render_mode\":\"css\",\"right_units\":\"screen\",\"top_units\":\"screen\"},\"id\":\"18055\",\"type\":\"BoxAnnotation\"},{\"attributes\":{\"items\":[{\"id\":\"18057\",\"type\":\"LegendItem\"},{\"id\":\"18071\",\"type\":\"LegendItem\"}]},\"id\":\"18056\",\"type\":\"Legend\"},{\"attributes\":{\"label\":{\"value\":\"train_r2\"},\"renderers\":[{\"id\":\"17987\",\"type\":\"GlyphRenderer\"}]},\"id\":\"17996\",\"type\":\"LegendItem\"},{\"attributes\":{\"line_alpha\":0.1,\"line_color\":\"#1f77b4\",\"x\":{\"field\":\"index\"},\"y\":{\"field\":\"test_mae\"}},\"id\":\"18121\",\"type\":\"Line\"},{\"attributes\":{\"below\":[{\"id\":\"18083\",\"type\":\"LinearAxis\"}],\"center\":[{\"id\":\"18087\",\"type\":\"Grid\"},{\"id\":\"18092\",\"type\":\"Grid\"},{\"id\":\"18117\",\"type\":\"Legend\"}],\"left\":[{\"id\":\"18088\",\"type\":\"LinearAxis\"}],\"plot_height\":300,\"plot_width\":300,\"renderers\":[{\"id\":\"18109\",\"type\":\"GlyphRenderer\"},{\"id\":\"18122\",\"type\":\"GlyphRenderer\"}],\"title\":{\"id\":\"18073\",\"type\":\"Title\"},\"toolbar\":{\"id\":\"18099\",\"type\":\"Toolbar\"},\"toolbar_location\":null,\"x_range\":{\"id\":\"18075\",\"type\":\"DataRange1d\"},\"x_scale\":{\"id\":\"18079\",\"type\":\"LinearScale\"},\"y_range\":{\"id\":\"18077\",\"type\":\"DataRange1d\"},\"y_scale\":{\"id\":\"18081\",\"type\":\"LinearScale\"}},\"id\":\"18072\",\"subtype\":\"Figure\",\"type\":\"Plot\"},{\"attributes\":{\"data_source\":{\"id\":\"17949\",\"type\":\"ColumnDataSource\"},\"glyph\":{\"id\":\"18120\",\"type\":\"Line\"},\"hover_glyph\":null,\"muted_glyph\":null,\"nonselection_glyph\":{\"id\":\"18121\",\"type\":\"Line\"},\"selection_glyph\":null,\"view\":{\"id\":\"18123\",\"type\":\"CDSView\"}},\"id\":\"18122\",\"type\":\"GlyphRenderer\"},{\"attributes\":{\"label\":{\"value\":\"train_mse\"},\"renderers\":[{\"id\":\"18048\",\"type\":\"GlyphRenderer\"}]},\"id\":\"18057\",\"type\":\"LegendItem\"},{\"attributes\":{\"line_color\":\"blue\",\"x\":{\"field\":\"index\"},\"y\":{\"field\":\"test_r2\"}},\"id\":\"17998\",\"type\":\"Line\"},{\"attributes\":{\"source\":{\"id\":\"17949\",\"type\":\"ColumnDataSource\"}},\"id\":\"18123\",\"type\":\"CDSView\"},{\"attributes\":{\"callback\":null},\"id\":\"18075\",\"type\":\"DataRange1d\"},{\"attributes\":{\"line_alpha\":0.1,\"line_color\":\"#1f77b4\",\"x\":{\"field\":\"index\"},\"y\":{\"field\":\"test_r2\"}},\"id\":\"17999\",\"type\":\"Line\"},{\"attributes\":{\"line_color\":\"blue\",\"x\":{\"field\":\"index\"},\"y\":{\"field\":\"test_mse\"}},\"id\":\"18059\",\"type\":\"Line\"},{\"attributes\":{\"label\":{\"value\":\"test_mae\"},\"renderers\":[{\"id\":\"18122\",\"type\":\"GlyphRenderer\"}]},\"id\":\"18132\",\"type\":\"LegendItem\"},{\"attributes\":{\"below\":[{\"id\":\"18144\",\"type\":\"LinearAxis\"}],\"center\":[{\"id\":\"18148\",\"type\":\"Grid\"},{\"id\":\"18153\",\"type\":\"Grid\"},{\"id\":\"18178\",\"type\":\"Legend\"}],\"left\":[{\"id\":\"18149\",\"type\":\"LinearAxis\"}],\"plot_height\":300,\"plot_width\":300,\"renderers\":[{\"id\":\"18170\",\"type\":\"GlyphRenderer\"},{\"id\":\"18183\",\"type\":\"GlyphRenderer\"}],\"title\":{\"id\":\"18134\",\"type\":\"Title\"},\"toolbar\":{\"id\":\"18160\",\"type\":\"Toolbar\"},\"toolbar_location\":null,\"x_range\":{\"id\":\"18136\",\"type\":\"DataRange1d\"},\"x_scale\":{\"id\":\"18140\",\"type\":\"LinearScale\"},\"y_range\":{\"id\":\"18138\",\"type\":\"DataRange1d\"},\"y_scale\":{\"id\":\"18142\",\"type\":\"LinearScale\"}},\"id\":\"18133\",\"subtype\":\"Figure\",\"type\":\"Plot\"},{\"attributes\":{\"data_source\":{\"id\":\"17949\",\"type\":\"ColumnDataSource\"},\"glyph\":{\"id\":\"17998\",\"type\":\"Line\"},\"hover_glyph\":null,\"muted_glyph\":null,\"nonselection_glyph\":{\"id\":\"17999\",\"type\":\"Line\"},\"selection_glyph\":null,\"view\":{\"id\":\"18001\",\"type\":\"CDSView\"}},\"id\":\"18000\",\"type\":\"GlyphRenderer\"},{\"attributes\":{\"line_alpha\":0.1,\"line_color\":\"#1f77b4\",\"x\":{\"field\":\"index\"},\"y\":{\"field\":\"test_mse\"}},\"id\":\"18060\",\"type\":\"Line\"},{\"attributes\":{\"data_source\":{\"id\":\"17949\",\"type\":\"ColumnDataSource\"},\"glyph\":{\"id\":\"18059\",\"type\":\"Line\"},\"hover_glyph\":null,\"muted_glyph\":null,\"nonselection_glyph\":{\"id\":\"18060\",\"type\":\"Line\"},\"selection_glyph\":null,\"view\":{\"id\":\"18062\",\"type\":\"CDSView\"}},\"id\":\"18061\",\"type\":\"GlyphRenderer\"},{\"attributes\":{\"source\":{\"id\":\"17949\",\"type\":\"ColumnDataSource\"}},\"id\":\"18001\",\"type\":\"CDSView\"},{\"attributes\":{\"line_alpha\":0.1,\"line_color\":\"#1f77b4\",\"x\":{\"field\":\"index\"},\"y\":{\"field\":\"train_rmse\"}},\"id\":\"18169\",\"type\":\"Line\"},{\"attributes\":{\"text\":\"RMSE VS #features\"},\"id\":\"18134\",\"type\":\"Title\"},{\"attributes\":{\"source\":{\"id\":\"17949\",\"type\":\"ColumnDataSource\"}},\"id\":\"18062\",\"type\":\"CDSView\"},{\"attributes\":{},\"id\":\"18007\",\"type\":\"UnionRenderers\"},{\"attributes\":{\"callback\":null},\"id\":\"18136\",\"type\":\"DataRange1d\"},{\"attributes\":{\"line_alpha\":0.1,\"line_color\":\"#1f77b4\",\"x\":{\"field\":\"index\"},\"y\":{\"field\":\"train_mae\"}},\"id\":\"18108\",\"type\":\"Line\"},{\"attributes\":{},\"id\":\"18008\",\"type\":\"Selection\"},{\"attributes\":{\"text\":\"MAE VS #features\"},\"id\":\"18073\",\"type\":\"Title\"},{\"attributes\":{\"callback\":null},\"id\":\"18138\",\"type\":\"DataRange1d\"},{\"attributes\":{\"label\":{\"value\":\"test_r2\"},\"renderers\":[{\"id\":\"18000\",\"type\":\"GlyphRenderer\"}]},\"id\":\"18010\",\"type\":\"LegendItem\"},{\"attributes\":{\"callback\":null,\"data\":{\"index\":[1,2,3,4,5,6,7,8,9,10,11,12,13,14,15,16,17,18,19,20,21,22,23,24,25,26,27,28,29,30,31,32,33,34],\"test_mae\":{\"__ndarray__\":\"IFDkh7DTi0BSRL60MM+JQJjO7dssz4lAaFPO1ev9iECPPF2zdD6IQGXnIN2iJYhATRSUEztJhkDnclkSSUyGQEml6L2QSIZAc4gnQ1dIhkDRsU6yj0WGQPjQksrjNIZAFYaTzS4zhkC8ZQnQhC+GQE0NMgU7MYZAAD5lnHUvhkASJvawMy+GQA5FKCAzLIZAF5K/EUAdhkC0gITVuByGQJ+GFepB/oVALbdTD+LohUBYyZIdIumFQNQ2Dw4I5oVAJ2kXo+TghUBwny19DOGFQApcyob/4IVAuVvKhv/ghUD+BeRQDu6FQIwWeF+q7oVATYoWFeXnhUAxQIaqq+eFQKmNAvWm6YVA6RAgcEbnhUA=\",\"dtype\":\"float64\",\"shape\":[34]},\"test_mse\":{\"__ndarray__\":\"gh5y1melOEGNFndPY7M2QYFys1NvszZBF05UuvGuNUGuEIUnnqY0QdDaPuOpcTRBrdj/1+aGMkFQB+YXsHMyQcuPrm+0bTJBjWgILfFtMkEWvWKdw2wyQQqDyLxfYzJBoC+6w7thMkF06xBHzVkyQUS6PM59VzJB8/yoXnJVMkGhRiJHk1MyQWMjfEGHPDJBlMblzBspMkHwvyF70ScyQfFS7FBsAjJBrVrtzInuMUHa0qVLmuwxQb08iB2C6DFBfzs8hm3jMUGmyxwZ5uMxQWTmI4Dn4zFBeuYjgOfjMUGmTA+EsdIxQV8d7GSn0jFBm4Sl4ZrBMUEjSu2myMIxQV5jQPZ3wTFB9UYg3nnCMUE=\",\"dtype\":\"float64\",\"shape\":[34]},\"test_r2\":{\"__ndarray__\":\"tE3wy2W93j+0ZP8Uva7gP6EES/m0ruA/LAdoZXle4T9gXgdp1BDiP3ihq5CPNOI/hi83Z7R/4z9/Nmtaq4zjP0BQlti0kOM/5dyW3IuQ4z/cQ2pXV5HjP8xmeV6tl+M/rl1qv8iY4z+uig/UIp7jP8KZR+2xn+M/3z0gHhOh4z+aUh9jVqLjP8YGdHTjseM/nXvG9/2+4z/wrjna3L/jPw4s/GMY2eM/tohuPYPm4z+quZSV0efjP+dLStmU6uM/Q0W/bQLu4z8SIC0Sse3jP6Cs6x+w7eM/kazrH7Dt4z8VimgVTfnjPwFiyulT+eM/ZA+K49QE5D/9NIZECQTkPyowcHPsBOQ/EIaEbT4E5D8=\",\"dtype\":\"float64\",\"shape\":[34]},\"test_rmse\":{\"__ndarray__\":\"Obk+EqLbk0CkxS6f4A6TQCvRfKrlDpNAbKNLVkygkkDqkbZoYi2SQH2J0CUFFpJAph10Ppk3kUDFDLRqqS6RQLnSpA7gK5FA6incWvwrkUCCJeDabyuRQH9NYT0PJ5FAki6uWEsmkUDInhrClyKRQM2+WZSDIZFAZvnNHI8gkUBJAzRPrx+RQDXuxYDnFJFA0OuHwMwLkUDLq5u3MQuRQN3ZgS6b+ZBAlSMkhznwkECD9eB5T++QQDfZlzRg7ZBAe4KcXPnqkECDClhgMuuQQNsOHAoz65BA5g4cCjPrkEDQtWe3DeOQQEEJ4esI45BAjcMiVvPakECm92SOgtuQQAWONcPi2pBA+1nHKl3bkEA=\",\"dtype\":\"float64\",\"shape\":[34]},\"train_mae\":{\"__ndarray__\":\"R+LQZyq7i0BwDRyIP5SJQHjjfyo5lIlAKDY60j/biEDOwqaSexeIQF22U9l9zIdAV2HuRdT1hUDsMuT7F/yFQJpEpjty+YVAmeS56w35hUBJU8ZIrPKFQNHDZI+414VAw7S4HRfWhUCYndlDzdiFQGOzn6kK14VAca6pGR3WhUCUQc2tPdeFQJ1Eq93m2oVAiZqhwILIhUDQcY76dMiFQAbeGp+muoVAJ9cbN++lhUAwGzqFA6WFQG2Ps196o4VA63l4cT2ZhUDXnKB2NpmFQNe7WqklmYVAW7taqSWZhUDDU17u1qeFQDM07SNUqIVAXlbDUdWjhUCuCH+YFaKFQNZIhQ9kooVA/887mrOehUA=\",\"dtype\":\"float64\",\"shape\":[34]},\"train_mse\":{\"__ndarray__\":\"O19y9Rs0OUGUraCqNyk3QcENGEg4KTdB7XJkAhQeNkH1uMRcLiw1QXaaIPgDtTRBCIwAEL3LMkG87b49DbkyQYy2DkpytTJB3ksKBni1MkGyNvZCv7IyQZm8tXntojJB+S8yM4yiMkGU/NBj2psyQR4gHDzolzJBTTIb7piXMkHNyztAe5YyQWKAafo+hTJBazVQJZF0MkFuiK4NhnQyQQJxhxgiXjJBuVqVtZRJMkEhGeqIz0cyQVG3QAjKRTJBHW8I0f09MkFeoPND3z0yQT2kcdPePTJBNqRx0949MkGrTIhhETEyQURCehEBMTJBpfYT02whMkGjX9XJHCEyQR8n9FwdHzJBjc9u77McMkE=\",\"dtype\":\"float64\",\"shape\":[34]},\"train_r2\":{\"__ndarray__\":\"1PwCtGz03T8ljb1HYFvgP48KY91fW+A/2gyup80P4T9atg2OLrPhP8CXvLqqA+I/z91ZiSBO4z8YLtONv1rjP2hNo+suXeM//qEnDCtd4z+HoOWkAV/jP0p/9uOwaeM/CqQ/l/Jp4z+tZmAbeG7jPxAu8l4iceM/EAQG71dx4z8MPgTiGHLjP6CsXPS8feM/kB0/0gCJ4z8G9SVQCInjPxyc6bQnmOM/i5wuRgmm4z+Y/LtZO6fjP7x22t+YqOM/7YT2IN2t4z/MhVzD8a3jP/aHWQ/yreM/+4dZD/Kt4z/6DcKpl7bjP+RySa6ituM/pNdxXCjB4z+mUfxqXsHjP45UUta3wuM/32Hi2VjE4z8=\",\"dtype\":\"float64\",\"shape\":[34]},\"train_rmse\":{\"__ndarray__\":\"84SAKs0UlECW0kgiF0CTQBBLuWMXQJNAvHueRcvPkkDf9ZbezGeSQCRRIXi3M5JAYqTY8ndXkUBqFjvy1k6RQEFJjEMsTZFAoHRT6i5NkUBa0AGy7EuRQBdSngqaRJFA7kBr+WxEkUAuLUquUkGRQC1+Ej9+P5FAJpBqdlk/kUDoq0Xy1D6RQDD810bUNpFANCIKMhIvkUA9vQkIDS+RQPdFI1KdJJFA1KerVwMbkUBxIR9hLxqRQHwbdEc9GZFAYwYZ6ZYVkUAb1ruaiBWRQKmxDGaIFZFAprEMZogVkUBpGKCciA+RQKfmZ/aAD5FA+KTSPDEIkUAMlsekCwiRQNCIJGQbB5FAyuvdRfkFkUA=\",\"dtype\":\"float64\",\"shape\":[34]}},\"selected\":{\"id\":\"18008\",\"type\":\"Selection\"},\"selection_policy\":{\"id\":\"18007\",\"type\":\"UnionRenderers\"}},\"id\":\"17949\",\"type\":\"ColumnDataSource\"},{\"attributes\":{\"callback\":null},\"id\":\"18077\",\"type\":\"DataRange1d\"},{\"attributes\":{},\"id\":\"18140\",\"type\":\"LinearScale\"},{\"attributes\":{\"below\":[{\"id\":\"18022\",\"type\":\"LinearAxis\"}],\"center\":[{\"id\":\"18026\",\"type\":\"Grid\"},{\"id\":\"18031\",\"type\":\"Grid\"},{\"id\":\"18056\",\"type\":\"Legend\"}],\"left\":[{\"id\":\"18027\",\"type\":\"LinearAxis\"}],\"plot_height\":300,\"plot_width\":300,\"renderers\":[{\"id\":\"18048\",\"type\":\"GlyphRenderer\"},{\"id\":\"18061\",\"type\":\"GlyphRenderer\"}],\"title\":{\"id\":\"18012\",\"type\":\"Title\"},\"toolbar\":{\"id\":\"18038\",\"type\":\"Toolbar\"},\"toolbar_location\":null,\"x_range\":{\"id\":\"18014\",\"type\":\"DataRange1d\"},\"x_scale\":{\"id\":\"18018\",\"type\":\"LinearScale\"},\"y_range\":{\"id\":\"18016\",\"type\":\"DataRange1d\"},\"y_scale\":{\"id\":\"18020\",\"type\":\"LinearScale\"}},\"id\":\"18011\",\"subtype\":\"Figure\",\"type\":\"Plot\"},{\"attributes\":{},\"id\":\"18079\",\"type\":\"LinearScale\"},{\"attributes\":{},\"id\":\"18142\",\"type\":\"LinearScale\"},{\"attributes\":{\"line_alpha\":0.1,\"line_color\":\"#1f77b4\",\"x\":{\"field\":\"index\"},\"y\":{\"field\":\"train_mse\"}},\"id\":\"18047\",\"type\":\"Line\"},{\"attributes\":{\"text\":\"MSE VS #features\"},\"id\":\"18012\",\"type\":\"Title\"},{\"attributes\":{},\"id\":\"18081\",\"type\":\"LinearScale\"},{\"attributes\":{\"axis_label\":\"number of features\",\"formatter\":{\"id\":\"18176\",\"type\":\"BasicTickFormatter\"},\"ticker\":{\"id\":\"18145\",\"type\":\"BasicTicker\"}},\"id\":\"18144\",\"type\":\"LinearAxis\"},{\"attributes\":{\"callback\":null},\"id\":\"18014\",\"type\":\"DataRange1d\"},{\"attributes\":{\"axis_label\":\"number of features\",\"formatter\":{\"id\":\"18115\",\"type\":\"BasicTickFormatter\"},\"ticker\":{\"id\":\"18084\",\"type\":\"BasicTicker\"}},\"id\":\"18083\",\"type\":\"LinearAxis\"},{\"attributes\":{},\"id\":\"18145\",\"type\":\"BasicTicker\"},{\"attributes\":{\"callback\":null},\"id\":\"18016\",\"type\":\"DataRange1d\"},{\"attributes\":{\"ticker\":{\"id\":\"18145\",\"type\":\"BasicTicker\"}},\"id\":\"18148\",\"type\":\"Grid\"},{\"attributes\":{},\"id\":\"18084\",\"type\":\"BasicTicker\"},{\"attributes\":{},\"id\":\"18018\",\"type\":\"LinearScale\"},{\"attributes\":{\"ticker\":{\"id\":\"18084\",\"type\":\"BasicTicker\"}},\"id\":\"18087\",\"type\":\"Grid\"},{\"attributes\":{\"axis_label\":\"RMSE\",\"formatter\":{\"id\":\"18174\",\"type\":\"BasicTickFormatter\"},\"ticker\":{\"id\":\"18150\",\"type\":\"BasicTicker\"}},\"id\":\"18149\",\"type\":\"LinearAxis\"},{\"attributes\":{},\"id\":\"18020\",\"type\":\"LinearScale\"},{\"attributes\":{\"axis_label\":\"MAE\",\"formatter\":{\"id\":\"18113\",\"type\":\"BasicTickFormatter\"},\"ticker\":{\"id\":\"18089\",\"type\":\"BasicTicker\"}},\"id\":\"18088\",\"type\":\"LinearAxis\"},{\"attributes\":{},\"id\":\"18150\",\"type\":\"BasicTicker\"},{\"attributes\":{\"dimension\":1,\"ticker\":{\"id\":\"18150\",\"type\":\"BasicTicker\"}},\"id\":\"18153\",\"type\":\"Grid\"},{\"attributes\":{\"axis_label\":\"number of features\",\"formatter\":{\"id\":\"18054\",\"type\":\"BasicTickFormatter\"},\"ticker\":{\"id\":\"18023\",\"type\":\"BasicTicker\"}},\"id\":\"18022\",\"type\":\"LinearAxis\"},{\"attributes\":{},\"id\":\"18089\",\"type\":\"BasicTicker\"},{\"attributes\":{},\"id\":\"18023\",\"type\":\"BasicTicker\"},{\"attributes\":{\"dimension\":1,\"ticker\":{\"id\":\"18089\",\"type\":\"BasicTicker\"}},\"id\":\"18092\",\"type\":\"Grid\"},{\"attributes\":{\"line_color\":\"red\",\"x\":{\"field\":\"index\"},\"y\":{\"field\":\"train_rmse\"}},\"id\":\"18168\",\"type\":\"Line\"},{\"attributes\":{\"ticker\":{\"id\":\"18023\",\"type\":\"BasicTicker\"}},\"id\":\"18026\",\"type\":\"Grid\"},{\"attributes\":{\"items\":[{\"id\":\"18179\",\"type\":\"LegendItem\"},{\"id\":\"18193\",\"type\":\"LegendItem\"}]},\"id\":\"18178\",\"type\":\"Legend\"},{\"attributes\":{\"line_color\":\"red\",\"x\":{\"field\":\"index\"},\"y\":{\"field\":\"train_mae\"}},\"id\":\"18107\",\"type\":\"Line\"},{\"attributes\":{\"axis_label\":\"MSE\",\"formatter\":{\"id\":\"18052\",\"type\":\"BasicTickFormatter\"},\"ticker\":{\"id\":\"18028\",\"type\":\"BasicTicker\"}},\"id\":\"18027\",\"type\":\"LinearAxis\"},{\"attributes\":{\"active_drag\":\"auto\",\"active_inspect\":\"auto\",\"active_multi\":null,\"active_scroll\":\"auto\",\"active_tap\":\"auto\",\"tools\":[{\"id\":\"18154\",\"type\":\"PanTool\"},{\"id\":\"18155\",\"type\":\"WheelZoomTool\"},{\"id\":\"18156\",\"type\":\"BoxZoomTool\"},{\"id\":\"18157\",\"type\":\"SaveTool\"},{\"id\":\"18158\",\"type\":\"ResetTool\"},{\"id\":\"18159\",\"type\":\"HelpTool\"}]},\"id\":\"18160\",\"type\":\"Toolbar\"},{\"attributes\":{},\"id\":\"18154\",\"type\":\"PanTool\"},{\"attributes\":{},\"id\":\"18176\",\"type\":\"BasicTickFormatter\"},{\"attributes\":{\"active_drag\":\"auto\",\"active_inspect\":\"auto\",\"active_multi\":null,\"active_scroll\":\"auto\",\"active_tap\":\"auto\",\"tools\":[{\"id\":\"18093\",\"type\":\"PanTool\"},{\"id\":\"18094\",\"type\":\"WheelZoomTool\"},{\"id\":\"18095\",\"type\":\"BoxZoomTool\"},{\"id\":\"18096\",\"type\":\"SaveTool\"},{\"id\":\"18097\",\"type\":\"ResetTool\"},{\"id\":\"18098\",\"type\":\"HelpTool\"}]},\"id\":\"18099\",\"type\":\"Toolbar\"},{\"attributes\":{},\"id\":\"18028\",\"type\":\"BasicTicker\"},{\"attributes\":{},\"id\":\"18093\",\"type\":\"PanTool\"},{\"attributes\":{},\"id\":\"18155\",\"type\":\"WheelZoomTool\"},{\"attributes\":{\"dimension\":1,\"ticker\":{\"id\":\"18028\",\"type\":\"BasicTicker\"}},\"id\":\"18031\",\"type\":\"Grid\"},{\"attributes\":{},\"id\":\"18094\",\"type\":\"WheelZoomTool\"},{\"attributes\":{\"overlay\":{\"id\":\"18177\",\"type\":\"BoxAnnotation\"}},\"id\":\"18156\",\"type\":\"BoxZoomTool\"},{\"attributes\":{\"line_color\":\"red\",\"x\":{\"field\":\"index\"},\"y\":{\"field\":\"train_mse\"}},\"id\":\"18046\",\"type\":\"Line\"},{\"attributes\":{\"overlay\":{\"id\":\"18116\",\"type\":\"BoxAnnotation\"}},\"id\":\"18095\",\"type\":\"BoxZoomTool\"},{\"attributes\":{},\"id\":\"18157\",\"type\":\"SaveTool\"},{\"attributes\":{\"label\":{\"value\":\"test_mse\"},\"renderers\":[{\"id\":\"18061\",\"type\":\"GlyphRenderer\"}]},\"id\":\"18071\",\"type\":\"LegendItem\"},{\"attributes\":{},\"id\":\"18096\",\"type\":\"SaveTool\"},{\"attributes\":{},\"id\":\"18158\",\"type\":\"ResetTool\"},{\"attributes\":{\"active_drag\":\"auto\",\"active_inspect\":\"auto\",\"active_multi\":null,\"active_scroll\":\"auto\",\"active_tap\":\"auto\",\"tools\":[{\"id\":\"18032\",\"type\":\"PanTool\"},{\"id\":\"18033\",\"type\":\"WheelZoomTool\"},{\"id\":\"18034\",\"type\":\"BoxZoomTool\"},{\"id\":\"18035\",\"type\":\"SaveTool\"},{\"id\":\"18036\",\"type\":\"ResetTool\"},{\"id\":\"18037\",\"type\":\"HelpTool\"}]},\"id\":\"18038\",\"type\":\"Toolbar\"},{\"attributes\":{},\"id\":\"18032\",\"type\":\"PanTool\"},{\"attributes\":{},\"id\":\"18097\",\"type\":\"ResetTool\"},{\"attributes\":{},\"id\":\"18159\",\"type\":\"HelpTool\"},{\"attributes\":{},\"id\":\"18033\",\"type\":\"WheelZoomTool\"},{\"attributes\":{},\"id\":\"18098\",\"type\":\"HelpTool\"},{\"attributes\":{\"overlay\":{\"id\":\"18055\",\"type\":\"BoxAnnotation\"}},\"id\":\"18034\",\"type\":\"BoxZoomTool\"},{\"attributes\":{\"data_source\":{\"id\":\"17949\",\"type\":\"ColumnDataSource\"},\"glyph\":{\"id\":\"18168\",\"type\":\"Line\"},\"hover_glyph\":null,\"muted_glyph\":null,\"nonselection_glyph\":{\"id\":\"18169\",\"type\":\"Line\"},\"selection_glyph\":null,\"view\":{\"id\":\"18171\",\"type\":\"CDSView\"}},\"id\":\"18170\",\"type\":\"GlyphRenderer\"},{\"attributes\":{},\"id\":\"18035\",\"type\":\"SaveTool\"},{\"attributes\":{\"source\":{\"id\":\"17949\",\"type\":\"ColumnDataSource\"}},\"id\":\"18171\",\"type\":\"CDSView\"},{\"attributes\":{\"data_source\":{\"id\":\"17949\",\"type\":\"ColumnDataSource\"},\"glyph\":{\"id\":\"18107\",\"type\":\"Line\"},\"hover_glyph\":null,\"muted_glyph\":null,\"nonselection_glyph\":{\"id\":\"18108\",\"type\":\"Line\"},\"selection_glyph\":null,\"view\":{\"id\":\"18110\",\"type\":\"CDSView\"}},\"id\":\"18109\",\"type\":\"GlyphRenderer\"},{\"attributes\":{},\"id\":\"18036\",\"type\":\"ResetTool\"},{\"attributes\":{\"source\":{\"id\":\"17949\",\"type\":\"ColumnDataSource\"}},\"id\":\"18110\",\"type\":\"CDSView\"},{\"attributes\":{\"bottom_units\":\"screen\",\"fill_alpha\":{\"value\":0.5},\"fill_color\":{\"value\":\"lightgrey\"},\"left_units\":\"screen\",\"level\":\"overlay\",\"line_alpha\":{\"value\":1.0},\"line_color\":{\"value\":\"black\"},\"line_dash\":[4,4],\"line_width\":{\"value\":2},\"render_mode\":\"css\",\"right_units\":\"screen\",\"top_units\":\"screen\"},\"id\":\"18177\",\"type\":\"BoxAnnotation\"},{\"attributes\":{},\"id\":\"18037\",\"type\":\"HelpTool\"},{\"attributes\":{},\"id\":\"18113\",\"type\":\"BasicTickFormatter\"},{\"attributes\":{\"label\":{\"value\":\"train_rmse\"},\"renderers\":[{\"id\":\"18170\",\"type\":\"GlyphRenderer\"}]},\"id\":\"18179\",\"type\":\"LegendItem\"},{\"attributes\":{},\"id\":\"18115\",\"type\":\"BasicTickFormatter\"},{\"attributes\":{\"line_color\":\"blue\",\"x\":{\"field\":\"index\"},\"y\":{\"field\":\"test_rmse\"}},\"id\":\"18181\",\"type\":\"Line\"},{\"attributes\":{\"bottom_units\":\"screen\",\"fill_alpha\":{\"value\":0.5},\"fill_color\":{\"value\":\"lightgrey\"},\"left_units\":\"screen\",\"level\":\"overlay\",\"line_alpha\":{\"value\":1.0},\"line_color\":{\"value\":\"black\"},\"line_dash\":[4,4],\"line_width\":{\"value\":2},\"render_mode\":\"css\",\"right_units\":\"screen\",\"top_units\":\"screen\"},\"id\":\"18116\",\"type\":\"BoxAnnotation\"},{\"attributes\":{\"data_source\":{\"id\":\"17949\",\"type\":\"ColumnDataSource\"},\"glyph\":{\"id\":\"18046\",\"type\":\"Line\"},\"hover_glyph\":null,\"muted_glyph\":null,\"nonselection_glyph\":{\"id\":\"18047\",\"type\":\"Line\"},\"selection_glyph\":null,\"view\":{\"id\":\"18049\",\"type\":\"CDSView\"}},\"id\":\"18048\",\"type\":\"GlyphRenderer\"},{\"attributes\":{\"items\":[{\"id\":\"18118\",\"type\":\"LegendItem\"},{\"id\":\"18132\",\"type\":\"LegendItem\"}]},\"id\":\"18117\",\"type\":\"Legend\"},{\"attributes\":{\"source\":{\"id\":\"17949\",\"type\":\"ColumnDataSource\"}},\"id\":\"18049\",\"type\":\"CDSView\"},{\"attributes\":{\"line_alpha\":0.1,\"line_color\":\"#1f77b4\",\"x\":{\"field\":\"index\"},\"y\":{\"field\":\"test_rmse\"}},\"id\":\"18182\",\"type\":\"Line\"},{\"attributes\":{\"data_source\":{\"id\":\"17949\",\"type\":\"ColumnDataSource\"},\"glyph\":{\"id\":\"18181\",\"type\":\"Line\"},\"hover_glyph\":null,\"muted_glyph\":null,\"nonselection_glyph\":{\"id\":\"18182\",\"type\":\"Line\"},\"selection_glyph\":null,\"view\":{\"id\":\"18184\",\"type\":\"CDSView\"}},\"id\":\"18183\",\"type\":\"GlyphRenderer\"},{\"attributes\":{},\"id\":\"18052\",\"type\":\"BasicTickFormatter\"},{\"attributes\":{\"label\":{\"value\":\"train_mae\"},\"renderers\":[{\"id\":\"18109\",\"type\":\"GlyphRenderer\"}]},\"id\":\"18118\",\"type\":\"LegendItem\"},{\"attributes\":{},\"id\":\"18054\",\"type\":\"BasicTickFormatter\"},{\"attributes\":{\"source\":{\"id\":\"17949\",\"type\":\"ColumnDataSource\"}},\"id\":\"18184\",\"type\":\"CDSView\"},{\"attributes\":{},\"id\":\"18174\",\"type\":\"BasicTickFormatter\"},{\"attributes\":{\"below\":[{\"id\":\"17961\",\"type\":\"LinearAxis\"}],\"center\":[{\"id\":\"17965\",\"type\":\"Grid\"},{\"id\":\"17970\",\"type\":\"Grid\"},{\"id\":\"17995\",\"type\":\"Legend\"}],\"left\":[{\"id\":\"17966\",\"type\":\"LinearAxis\"}],\"plot_height\":300,\"plot_width\":300,\"renderers\":[{\"id\":\"17987\",\"type\":\"GlyphRenderer\"},{\"id\":\"18000\",\"type\":\"GlyphRenderer\"}],\"title\":{\"id\":\"17951\",\"type\":\"Title\"},\"toolbar\":{\"id\":\"17977\",\"type\":\"Toolbar\"},\"toolbar_location\":null,\"x_range\":{\"id\":\"17953\",\"type\":\"DataRange1d\"},\"x_scale\":{\"id\":\"17957\",\"type\":\"LinearScale\"},\"y_range\":{\"id\":\"17955\",\"type\":\"DataRange1d\"},\"y_scale\":{\"id\":\"17959\",\"type\":\"LinearScale\"}},\"id\":\"17950\",\"subtype\":\"Figure\",\"type\":\"Plot\"},{\"attributes\":{\"axis_label\":\"number of features\",\"formatter\":{\"id\":\"17993\",\"type\":\"BasicTickFormatter\"},\"ticker\":{\"id\":\"17962\",\"type\":\"BasicTicker\"}},\"id\":\"17961\",\"type\":\"LinearAxis\"},{\"attributes\":{\"text\":\"R squared VS #features\"},\"id\":\"17951\",\"type\":\"Title\"},{\"attributes\":{},\"id\":\"17974\",\"type\":\"SaveTool\"},{\"attributes\":{\"bottom_units\":\"screen\",\"fill_alpha\":{\"value\":0.5},\"fill_color\":{\"value\":\"lightgrey\"},\"left_units\":\"screen\",\"level\":\"overlay\",\"line_alpha\":{\"value\":1.0},\"line_color\":{\"value\":\"black\"},\"line_dash\":[4,4],\"line_width\":{\"value\":2},\"render_mode\":\"css\",\"right_units\":\"screen\",\"top_units\":\"screen\"},\"id\":\"17994\",\"type\":\"BoxAnnotation\"},{\"attributes\":{},\"id\":\"17967\",\"type\":\"BasicTicker\"},{\"attributes\":{\"ticker\":{\"id\":\"17962\",\"type\":\"BasicTicker\"}},\"id\":\"17965\",\"type\":\"Grid\"},{\"attributes\":{},\"id\":\"17993\",\"type\":\"BasicTickFormatter\"},{\"attributes\":{\"line_alpha\":0.1,\"line_color\":\"#1f77b4\",\"x\":{\"field\":\"index\"},\"y\":{\"field\":\"train_r2\"}},\"id\":\"17986\",\"type\":\"Line\"},{\"attributes\":{\"callback\":null},\"id\":\"17953\",\"type\":\"DataRange1d\"},{\"attributes\":{},\"id\":\"17957\",\"type\":\"LinearScale\"},{\"attributes\":{\"callback\":null},\"id\":\"17955\",\"type\":\"DataRange1d\"},{\"attributes\":{},\"id\":\"17962\",\"type\":\"BasicTicker\"},{\"attributes\":{},\"id\":\"17959\",\"type\":\"LinearScale\"},{\"attributes\":{},\"id\":\"17972\",\"type\":\"WheelZoomTool\"},{\"attributes\":{},\"id\":\"17971\",\"type\":\"PanTool\"},{\"attributes\":{\"active_drag\":\"auto\",\"active_inspect\":\"auto\",\"active_multi\":null,\"active_scroll\":\"auto\",\"active_tap\":\"auto\",\"tools\":[{\"id\":\"17971\",\"type\":\"PanTool\"},{\"id\":\"17972\",\"type\":\"WheelZoomTool\"},{\"id\":\"17973\",\"type\":\"BoxZoomTool\"},{\"id\":\"17974\",\"type\":\"SaveTool\"},{\"id\":\"17975\",\"type\":\"ResetTool\"},{\"id\":\"17976\",\"type\":\"HelpTool\"}]},\"id\":\"17977\",\"type\":\"Toolbar\"},{\"attributes\":{\"dimension\":1,\"ticker\":{\"id\":\"17967\",\"type\":\"BasicTicker\"}},\"id\":\"17970\",\"type\":\"Grid\"},{\"attributes\":{\"line_color\":\"red\",\"x\":{\"field\":\"index\"},\"y\":{\"field\":\"train_r2\"}},\"id\":\"17985\",\"type\":\"Line\"},{\"attributes\":{\"axis_label\":\"R squared\",\"formatter\":{\"id\":\"17991\",\"type\":\"BasicTickFormatter\"},\"ticker\":{\"id\":\"17967\",\"type\":\"BasicTicker\"}},\"id\":\"17966\",\"type\":\"LinearAxis\"},{\"attributes\":{\"overlay\":{\"id\":\"17994\",\"type\":\"BoxAnnotation\"}},\"id\":\"17973\",\"type\":\"BoxZoomTool\"},{\"attributes\":{},\"id\":\"17991\",\"type\":\"BasicTickFormatter\"},{\"attributes\":{\"source\":{\"id\":\"17949\",\"type\":\"ColumnDataSource\"}},\"id\":\"17988\",\"type\":\"CDSView\"},{\"attributes\":{\"data_source\":{\"id\":\"17949\",\"type\":\"ColumnDataSource\"},\"glyph\":{\"id\":\"17985\",\"type\":\"Line\"},\"hover_glyph\":null,\"muted_glyph\":null,\"nonselection_glyph\":{\"id\":\"17986\",\"type\":\"Line\"},\"selection_glyph\":null,\"view\":{\"id\":\"17988\",\"type\":\"CDSView\"}},\"id\":\"17987\",\"type\":\"GlyphRenderer\"},{\"attributes\":{},\"id\":\"17975\",\"type\":\"ResetTool\"},{\"attributes\":{},\"id\":\"17976\",\"type\":\"HelpTool\"}],\"root_ids\":[\"18194\"]},\"title\":\"Bokeh Application\",\"version\":\"1.4.0\"}};\n",
              "  var render_items = [{\"docid\":\"5b77eb0e-ee29-4e3c-982d-d851ec7ef8d7\",\"roots\":{\"18194\":\"f802de99-6985-4926-a520-346a4d7b30af\"}}];\n",
              "  root.Bokeh.embed.embed_items_notebook(docs_json, render_items);\n",
              "\n",
              "  }\n",
              "  if (root.Bokeh !== undefined) {\n",
              "    embed_document(root);\n",
              "  } else {\n",
              "    var attempts = 0;\n",
              "    var timer = setInterval(function(root) {\n",
              "      if (root.Bokeh !== undefined) {\n",
              "        clearInterval(timer);\n",
              "        embed_document(root);\n",
              "      } else {\n",
              "        attempts++;\n",
              "        if (attempts > 100) {\n",
              "          clearInterval(timer);\n",
              "          console.log(\"Bokeh: ERROR: Unable to run BokehJS code because BokehJS library is missing\");\n",
              "        }\n",
              "      }\n",
              "    }, 10, root)\n",
              "  }\n",
              "})(window);"
            ],
            "application/vnd.bokehjs_exec.v0+json": ""
          },
          "metadata": {
            "tags": [],
            "application/vnd.bokehjs_exec.v0+json": {
              "id": "18194"
            }
          }
        }
      ]
    },
    {
      "cell_type": "code",
      "metadata": {
        "id": "TMnziWqHaOnU",
        "colab_type": "code",
        "colab": {}
      },
      "source": [
        ""
      ],
      "execution_count": 0,
      "outputs": []
    },
    {
      "cell_type": "markdown",
      "metadata": {
        "colab_type": "text",
        "id": "WWmgsY9CmptQ"
      },
      "source": [
        "\n",
        "\n",
        "\n",
        "#### [Feature Engineering](https://en.wikipedia.org/wiki/Feature_engineering)\n",
        "\n",
        "> \"Some machine learning projects succeed and some fail. What makes the difference? Easily the most important factor is the features used.\" — Pedro Domingos, [\"A Few Useful Things to Know about Machine Learning\"](https://homes.cs.washington.edu/~pedrod/papers/cacm12.pdf)\n",
        "\n",
        "> \"Coming up with features is difficult, time-consuming, requires expert knowledge. 'Applied machine learning' is basically feature engineering.\" — Andrew Ng, [Machine Learning and AI via Brain simulations](https://forum.stanford.edu/events/2011/2011slides/plenary/2011plenaryNg.pdf) \n",
        "\n",
        "\n",
        "## Stretch Goals\n",
        "- [ ] If you want more math, skim [_An Introduction to Statistical Learning_](http://faculty.marshall.usc.edu/gareth-james/ISL/ISLR%20Seventh%20Printing.pdf),  Chapter 3.1, Simple Linear Regression, & Chapter 3.2, Multiple Linear Regression\n",
        "- [ ] If you want more introduction, watch [Brandon Foltz, Statistics 101: Simple Linear Regression](https://www.youtube.com/watch?v=ZkjP5RJLQF4)\n",
        "(20 minutes, over 1 million views)\n",
        "- [ ] Add your own stretch goal(s) !"
      ]
    }
  ]
}