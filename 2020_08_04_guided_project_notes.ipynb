{
  "nbformat": 4,
  "nbformat_minor": 0,
  "metadata": {
    "colab": {
      "name": "2020-08-04_guided-project_notes.ipynb",
      "provenance": [],
      "include_colab_link": true
    },
    "kernelspec": {
      "name": "python3",
      "display_name": "Python 3"
    }
  },
  "cells": [
    {
      "cell_type": "markdown",
      "metadata": {
        "id": "view-in-github",
        "colab_type": "text"
      },
      "source": [
        "<a href=\"https://colab.research.google.com/github/navroz-lamba/DS-Unit-2-Linear-Models/blob/master/2020_08_04_guided_project_notes.ipynb\" target=\"_parent\"><img src=\"https://colab.research.google.com/assets/colab-badge.svg\" alt=\"Open In Colab\"/></a>"
      ]
    },
    {
      "cell_type": "markdown",
      "metadata": {
        "id": "szhWSwvQLEmN",
        "colab_type": "text"
      },
      "source": [
        "# Regression 2\n",
        "- Do train/test split\n",
        "- Use scikit-learn to fit a multiple regression\n",
        "- Understand how ordinary least squares regression minimizes the sum of squared errors"
      ]
    },
    {
      "cell_type": "code",
      "metadata": {
        "id": "Ft8zVjgSLGCT",
        "colab_type": "code",
        "colab": {}
      },
      "source": [
        "import sys\n",
        "\n",
        "# If you're on Colab:\n",
        "if 'google.colab' in sys.modules:\n",
        "    DATA_PATH = 'https://raw.githubusercontent.com/LambdaSchool/DS-Unit-2-Applied-Modeling/master/data/'\n",
        "\n",
        "# If you're working locally:\n",
        "else:\n",
        "    DATA_PATH = '../data/'\n",
        "    \n",
        "# Ignore this Numpy warning when using Plotly Express:\n",
        "# FutureWarning: Method .ptp is deprecated and will be removed in a future version. Use numpy.ptp instead.\n",
        "import warnings\n",
        "warnings.filterwarnings(action='ignore', category=FutureWarning, module='numpy')"
      ],
      "execution_count": null,
      "outputs": []
    },
    {
      "cell_type": "markdown",
      "metadata": {
        "id": "oGngkKuwLPIq",
        "colab_type": "text"
      },
      "source": [
        "# Wrangle Data"
      ]
    },
    {
      "cell_type": "code",
      "metadata": {
        "id": "_yS_XW6yLRF_",
        "colab_type": "code",
        "colab": {
          "base_uri": "https://localhost:8080/",
          "height": 621
        },
        "outputId": "8f6ec19d-426e-482f-b58a-5efcae2e83b6"
      },
      "source": [
        "# Import data into df\n",
        "import pandas as pd\n",
        "df = pd.read_csv(DATA_PATH+'elections/bread_peace_voting.csv', index_col='Year')\n",
        "df"
      ],
      "execution_count": null,
      "outputs": [
        {
          "output_type": "execute_result",
          "data": {
            "text/html": [
              "<div>\n",
              "<style scoped>\n",
              "    .dataframe tbody tr th:only-of-type {\n",
              "        vertical-align: middle;\n",
              "    }\n",
              "\n",
              "    .dataframe tbody tr th {\n",
              "        vertical-align: top;\n",
              "    }\n",
              "\n",
              "    .dataframe thead th {\n",
              "        text-align: right;\n",
              "    }\n",
              "</style>\n",
              "<table border=\"1\" class=\"dataframe\">\n",
              "  <thead>\n",
              "    <tr style=\"text-align: right;\">\n",
              "      <th></th>\n",
              "      <th>Incumbent Party Candidate</th>\n",
              "      <th>Other Candidate</th>\n",
              "      <th>Average Recent Growth in Personal Incomes</th>\n",
              "      <th>US Military Fatalities per Million</th>\n",
              "      <th>Incumbent Party Vote Share</th>\n",
              "    </tr>\n",
              "    <tr>\n",
              "      <th>Year</th>\n",
              "      <th></th>\n",
              "      <th></th>\n",
              "      <th></th>\n",
              "      <th></th>\n",
              "      <th></th>\n",
              "    </tr>\n",
              "  </thead>\n",
              "  <tbody>\n",
              "    <tr>\n",
              "      <th>1952</th>\n",
              "      <td>Stevenson</td>\n",
              "      <td>Eisenhower</td>\n",
              "      <td>2.40</td>\n",
              "      <td>190</td>\n",
              "      <td>44.60</td>\n",
              "    </tr>\n",
              "    <tr>\n",
              "      <th>1956</th>\n",
              "      <td>Eisenhower</td>\n",
              "      <td>Stevenson</td>\n",
              "      <td>2.89</td>\n",
              "      <td>0</td>\n",
              "      <td>57.76</td>\n",
              "    </tr>\n",
              "    <tr>\n",
              "      <th>1960</th>\n",
              "      <td>Nixon</td>\n",
              "      <td>Kennedy</td>\n",
              "      <td>0.85</td>\n",
              "      <td>0</td>\n",
              "      <td>49.91</td>\n",
              "    </tr>\n",
              "    <tr>\n",
              "      <th>1964</th>\n",
              "      <td>Johnson</td>\n",
              "      <td>Goldwater</td>\n",
              "      <td>4.21</td>\n",
              "      <td>1</td>\n",
              "      <td>61.34</td>\n",
              "    </tr>\n",
              "    <tr>\n",
              "      <th>1968</th>\n",
              "      <td>Humphrey</td>\n",
              "      <td>Nixon</td>\n",
              "      <td>3.02</td>\n",
              "      <td>146</td>\n",
              "      <td>49.60</td>\n",
              "    </tr>\n",
              "    <tr>\n",
              "      <th>1972</th>\n",
              "      <td>Nixon</td>\n",
              "      <td>McGovern</td>\n",
              "      <td>3.62</td>\n",
              "      <td>0</td>\n",
              "      <td>61.79</td>\n",
              "    </tr>\n",
              "    <tr>\n",
              "      <th>1976</th>\n",
              "      <td>Ford</td>\n",
              "      <td>Carter</td>\n",
              "      <td>1.08</td>\n",
              "      <td>2</td>\n",
              "      <td>48.95</td>\n",
              "    </tr>\n",
              "    <tr>\n",
              "      <th>1980</th>\n",
              "      <td>Carter</td>\n",
              "      <td>Reagan</td>\n",
              "      <td>-0.39</td>\n",
              "      <td>0</td>\n",
              "      <td>44.70</td>\n",
              "    </tr>\n",
              "    <tr>\n",
              "      <th>1984</th>\n",
              "      <td>Reagan</td>\n",
              "      <td>Mondale</td>\n",
              "      <td>3.86</td>\n",
              "      <td>0</td>\n",
              "      <td>59.17</td>\n",
              "    </tr>\n",
              "    <tr>\n",
              "      <th>1988</th>\n",
              "      <td>Bush, Sr.</td>\n",
              "      <td>Dukakis</td>\n",
              "      <td>2.27</td>\n",
              "      <td>0</td>\n",
              "      <td>53.94</td>\n",
              "    </tr>\n",
              "    <tr>\n",
              "      <th>1992</th>\n",
              "      <td>Bush, Sr.</td>\n",
              "      <td>Clinton</td>\n",
              "      <td>0.38</td>\n",
              "      <td>0</td>\n",
              "      <td>46.55</td>\n",
              "    </tr>\n",
              "    <tr>\n",
              "      <th>1996</th>\n",
              "      <td>Clinton</td>\n",
              "      <td>Dole</td>\n",
              "      <td>1.04</td>\n",
              "      <td>0</td>\n",
              "      <td>54.74</td>\n",
              "    </tr>\n",
              "    <tr>\n",
              "      <th>2000</th>\n",
              "      <td>Gore</td>\n",
              "      <td>Bush, Jr.</td>\n",
              "      <td>2.36</td>\n",
              "      <td>0</td>\n",
              "      <td>50.27</td>\n",
              "    </tr>\n",
              "    <tr>\n",
              "      <th>2004</th>\n",
              "      <td>Bush, Jr.</td>\n",
              "      <td>Kerry</td>\n",
              "      <td>1.72</td>\n",
              "      <td>4</td>\n",
              "      <td>51.24</td>\n",
              "    </tr>\n",
              "    <tr>\n",
              "      <th>2008</th>\n",
              "      <td>McCain</td>\n",
              "      <td>Obama</td>\n",
              "      <td>0.10</td>\n",
              "      <td>14</td>\n",
              "      <td>46.32</td>\n",
              "    </tr>\n",
              "    <tr>\n",
              "      <th>2012</th>\n",
              "      <td>Obama</td>\n",
              "      <td>Romney</td>\n",
              "      <td>0.95</td>\n",
              "      <td>5</td>\n",
              "      <td>52.00</td>\n",
              "    </tr>\n",
              "    <tr>\n",
              "      <th>2016</th>\n",
              "      <td>Clinton</td>\n",
              "      <td>Trump</td>\n",
              "      <td>0.10</td>\n",
              "      <td>5</td>\n",
              "      <td>48.20</td>\n",
              "    </tr>\n",
              "  </tbody>\n",
              "</table>\n",
              "</div>"
            ],
            "text/plain": [
              "     Incumbent Party Candidate  ... Incumbent Party Vote Share\n",
              "Year                            ...                           \n",
              "1952                 Stevenson  ...                      44.60\n",
              "1956                Eisenhower  ...                      57.76\n",
              "1960                     Nixon  ...                      49.91\n",
              "1964                   Johnson  ...                      61.34\n",
              "1968                  Humphrey  ...                      49.60\n",
              "1972                     Nixon  ...                      61.79\n",
              "1976                      Ford  ...                      48.95\n",
              "1980                    Carter  ...                      44.70\n",
              "1984                    Reagan  ...                      59.17\n",
              "1988                 Bush, Sr.  ...                      53.94\n",
              "1992                 Bush, Sr.  ...                      46.55\n",
              "1996                   Clinton  ...                      54.74\n",
              "2000                      Gore  ...                      50.27\n",
              "2004                 Bush, Jr.  ...                      51.24\n",
              "2008                    McCain  ...                      46.32\n",
              "2012                     Obama  ...                      52.00\n",
              "2016                   Clinton  ...                      48.20\n",
              "\n",
              "[17 rows x 5 columns]"
            ]
          },
          "metadata": {
            "tags": []
          },
          "execution_count": 7
        }
      ]
    },
    {
      "cell_type": "code",
      "metadata": {
        "id": "c8G67MdKLSyD",
        "colab_type": "code",
        "colab": {
          "base_uri": "https://localhost:8080/",
          "height": 282
        },
        "outputId": "ae79d1ab-1ad0-46e4-e55c-42566bb3ead3"
      },
      "source": [
        "# EDA\n",
        "import matplotlib.pyplot as plt\n",
        "plt.scatter(df['US Military Fatalities per Million'],\n",
        "            df['Incumbent Party Vote Share'])\n",
        "plt.xlabel('US Military Fatalities')\n",
        "plt.ylabel('Vote Share')\n",
        "plt.show();"
      ],
      "execution_count": null,
      "outputs": [
        {
          "output_type": "display_data",
          "data": {
            "image/png": "[encoded data removed]",
            "text/plain": [
              "<Figure size 432x288 with 1 Axes>"
            ]
          },
          "metadata": {
            "tags": [],
            "needs_background": "light"
          }
        }
      ]
    },
    {
      "cell_type": "markdown",
      "metadata": {
        "id": "dnGdNLg7Rqxc",
        "colab_type": "text"
      },
      "source": [
        "# Split the Data"
      ]
    },
    {
      "cell_type": "code",
      "metadata": {
        "id": "ycCsPWGPQ57q",
        "colab_type": "code",
        "colab": {}
      },
      "source": [
        "# Split my feature matrix from the target vector\n",
        "y = df['Incumbent Party Vote Share']\n",
        "X = df[['Average Recent Growth in Personal Incomes',\n",
        "        'US Military Fatalities per Million']]"
      ],
      "execution_count": null,
      "outputs": []
    },
    {
      "cell_type": "code",
      "metadata": {
        "id": "zfZBPURjSj40",
        "colab_type": "code",
        "colab": {}
      },
      "source": [
        "# Split our dataset into training and validation sets\n",
        "# Train on elections before 2008. Validation on 2008 and after.\n",
        "\n",
        "cutoff = 2008\n",
        "mask = X.index < 2008\n",
        "X_train, y_train = X.loc[mask], y.loc[mask]\n",
        "X_val, y_val = X.loc[~mask], y.loc[~mask]"
      ],
      "execution_count": null,
      "outputs": []
    },
    {
      "cell_type": "markdown",
      "metadata": {
        "id": "mzO6ylLZURhZ",
        "colab_type": "text"
      },
      "source": [
        "# Baseline"
      ]
    },
    {
      "cell_type": "code",
      "metadata": {
        "id": "1OAFLCXsT_nS",
        "colab_type": "code",
        "colab": {
          "base_uri": "https://localhost:8080/",
          "height": 34
        },
        "outputId": "0257c250-2c62-4926-9d72-4749c2c1ebc4"
      },
      "source": [
        "def baseline_predict(X=None):\n",
        "  return y_train.mean()\n",
        "\n",
        "baseline_predict()"
      ],
      "execution_count": null,
      "outputs": [
        {
          "output_type": "execute_result",
          "data": {
            "text/plain": [
              "52.46857142857142"
            ]
          },
          "metadata": {
            "tags": []
          },
          "execution_count": 20
        }
      ]
    },
    {
      "cell_type": "code",
      "metadata": {
        "id": "6-OLKJBjUl2J",
        "colab_type": "code",
        "colab": {
          "base_uri": "https://localhost:8080/",
          "height": 282
        },
        "outputId": "2763a67b-7a58-45c6-bece-54e5a2a3fffc"
      },
      "source": [
        "import numpy as np\n",
        "\n",
        "col = 'Average Recent Growth in Personal Incomes'\n",
        "x_min, x_max = X_train[col].min(), X_train[col].max()\n",
        "x_coords = np.linspace(x_min, x_max, 50)\n",
        "y_pred = [baseline_predict(x) for x in x_coords]\n",
        "plt.plot(x_coords, y_pred, color='red', label='basline model')\n",
        "\n",
        "plt.scatter(X_train[col], y_train)\n",
        "plt.xlabel('Recent Growth in Personal Incomes')\n",
        "plt.ylabel('INCUMBENT Vote Share')\n",
        "plt.legend()\n",
        "plt.show();"
      ],
      "execution_count": null,
      "outputs": [
        {
          "output_type": "display_data",
          "data": {
            "image/png": "[encoded data removed]",
            "text/plain": [
              "<Figure size 432x288 with 1 Axes>"
            ]
          },
          "metadata": {
            "tags": [],
            "needs_background": "light"
          }
        }
      ]
    },
    {
      "cell_type": "code",
      "metadata": {
        "id": "uWllznh0V7hv",
        "colab_type": "code",
        "colab": {
          "base_uri": "https://localhost:8080/",
          "height": 51
        },
        "outputId": "5f778522-06f4-4f6f-c5a9-6942c957e9a0"
      },
      "source": [
        "from sklearn.metrics import mean_absolute_error, mean_squared_error, r2_score\n",
        "\n",
        "baseline_mae = mean_absolute_error(y_train, [y_train.mean()]*len(y_train))\n",
        "baseline_rmse = mean_squared_error(y_train, [y_train.mean()]*len(y_train), squared=False)\n",
        "\n",
        "print('Baseline MAE:', baseline_mae)\n",
        "print('Baseline RMSE:', baseline_rmse)"
      ],
      "execution_count": null,
      "outputs": [
        {
          "output_type": "stream",
          "text": [
            "Baseline MAE: 4.846938775510204\n",
            "Baseline RMSE: 5.584526910699467\n"
          ],
          "name": "stdout"
        }
      ]
    },
    {
      "cell_type": "markdown",
      "metadata": {
        "id": "jyX0mVbjc4is",
        "colab_type": "text"
      },
      "source": [
        "# Build Model"
      ]
    },
    {
      "cell_type": "code",
      "metadata": {
        "id": "1WB8xUAYc3su",
        "colab_type": "code",
        "colab": {
          "base_uri": "https://localhost:8080/",
          "height": 34
        },
        "outputId": "64be23b8-b3ba-4748-8514-1cb78d29e8f2"
      },
      "source": [
        "# Start with one feature\n",
        "# Import our predictor\n",
        "from sklearn.linear_model import LinearRegression\n",
        "\n",
        "# Instantiate our prediction\n",
        "model = LinearRegression()\n",
        "\n",
        "# Fit our model to the training data\n",
        "model.fit(X_train[[col]], y_train)"
      ],
      "execution_count": null,
      "outputs": [
        {
          "output_type": "execute_result",
          "data": {
            "text/plain": [
              "LinearRegression(copy_X=True, fit_intercept=True, n_jobs=None, normalize=False)"
            ]
          },
          "metadata": {
            "tags": []
          },
          "execution_count": 40
        }
      ]
    },
    {
      "cell_type": "code",
      "metadata": {
        "id": "NhQSWQc7dncN",
        "colab_type": "code",
        "colab": {
          "base_uri": "https://localhost:8080/",
          "height": 68
        },
        "outputId": "562552ee-1553-489a-f059-f788ba0387ba"
      },
      "source": [
        "y_pred = model.predict(X_train[[col]])\n",
        "y_pred"
      ],
      "execution_count": null,
      "outputs": [
        {
          "output_type": "execute_result",
          "data": {
            "text/plain": [
              "array([53.44120214, 54.9965044 , 48.52136847, 59.18629823, 55.40913561,\n",
              "       57.31358735, 49.2514083 , 44.58550153, 58.07536805, 53.02857093,\n",
              "       47.02954794, 49.12444486, 53.31423869, 51.2828235 ])"
            ]
          },
          "metadata": {
            "tags": []
          },
          "execution_count": 44
        }
      ]
    },
    {
      "cell_type": "markdown",
      "metadata": {
        "id": "f4eskY9-elbm",
        "colab_type": "text"
      },
      "source": [
        "# Check Metrics"
      ]
    },
    {
      "cell_type": "code",
      "metadata": {
        "id": "VrS9ncE_dWZD",
        "colab_type": "code",
        "colab": {
          "base_uri": "https://localhost:8080/",
          "height": 282
        },
        "outputId": "86cff921-f5e7-4e40-fe29-7b60d1511512"
      },
      "source": [
        "col = 'Average Recent Growth in Personal Incomes'\n",
        "x_min, x_max = X_train[col].min(), X_train[col].max()\n",
        "x_coords = np.linspace(x_min, x_max, 50)\n",
        "y_pred = [baseline_predict(x) for x in x_coords]\n",
        "plt.plot(x_coords, y_pred, color='gray', label='baseline model', linestyle='--')\n",
        "\n",
        "y_pred = model.predict(X_train[[col]])\n",
        "plt.plot(X_train[[col]], y_pred, color='red', label='linear regression')\n",
        "\n",
        "plt.scatter(X_train[col], y_train)\n",
        "plt.xlabel('Recent Growth in Personal Incomes')\n",
        "plt.ylabel('INCUMBENT Vote Share')\n",
        "plt.legend()\n",
        "plt.show();"
      ],
      "execution_count": null,
      "outputs": [
        {
          "output_type": "display_data",
          "data": {
            "image/png": "[encoded data removed]",
            "text/plain": [
              "<Figure size 432x288 with 1 Axes>"
            ]
          },
          "metadata": {
            "tags": [],
            "needs_background": "light"
          }
        }
      ]
    },
    {
      "cell_type": "code",
      "metadata": {
        "id": "F-3u-rcqdf7j",
        "colab_type": "code",
        "colab": {
          "base_uri": "https://localhost:8080/",
          "height": 68
        },
        "outputId": "7a815c87-0cc0-4da3-b7d7-842baf766df7"
      },
      "source": [
        "# Checking our metrics for the TRAINING DATA\n",
        "model_mae = mean_absolute_error(y_train, y_pred)\n",
        "model_rmse = mean_squared_error(y_train, y_pred, squared=False)\n",
        "model_r2 = r2_score(y_train, y_pred)\n",
        "\n",
        "print('Model MAE (training data):', model_mae)\n",
        "print('Model RMSE (training data):', model_rmse)\n",
        "print('Model R^2 (training data):', model_r2)"
      ],
      "execution_count": null,
      "outputs": [
        {
          "output_type": "stream",
          "text": [
            "Model MAE (training data): 2.645479454315596\n",
            "Model RMSE (training data): 3.6773568396257406\n",
            "Model R^2 (training data): 0.5663905156461234\n"
          ],
          "name": "stdout"
        }
      ]
    },
    {
      "cell_type": "code",
      "metadata": {
        "id": "xAMXMX4MeolK",
        "colab_type": "code",
        "colab": {
          "base_uri": "https://localhost:8080/",
          "height": 68
        },
        "outputId": "8a71b196-5394-45b0-f8cb-8ed5410e6e79"
      },
      "source": [
        "# Checking our metrics for the VALIDATION DATA\n",
        "y_pred = model.predict(X_val[[col]])\n",
        "\n",
        "model_mae = mean_absolute_error(y_val, y_pred)\n",
        "model_rmse = mean_squared_error(y_val, y_pred, squared=False)\n",
        "model_r2 = r2_score(y_val, y_pred)\n",
        "\n",
        "print('Model MAE (validation data):', model_mae)\n",
        "print('Model RMSE (validation data):', model_rmse)\n",
        "print('Model R^2 (validation data):', model_r2)"
      ],
      "execution_count": null,
      "outputs": [
        {
          "output_type": "stream",
          "text": [
            "Model MAE (validation data): 1.7998717748375863\n",
            "Model RMSE (validation data): 2.180652086836372\n",
            "Model R^2 (validation data): 0.14809080764669635\n"
          ],
          "name": "stdout"
        }
      ]
    },
    {
      "cell_type": "markdown",
      "metadata": {
        "id": "Naa2AHp2kvbX",
        "colab_type": "text"
      },
      "source": [
        "## Multiple Linear Regression"
      ]
    },
    {
      "cell_type": "code",
      "metadata": {
        "id": "9WX5Zab9j82g",
        "colab_type": "code",
        "colab": {}
      },
      "source": [
        "# Instantiate our prediction\n",
        "model2 = LinearRegression()\n",
        "\n",
        "# Fit our model to the training data\n",
        "model2.fit(X_train, y_train);"
      ],
      "execution_count": null,
      "outputs": []
    },
    {
      "cell_type": "code",
      "metadata": {
        "id": "UiwtIIook2q9",
        "colab_type": "code",
        "colab": {
          "base_uri": "https://localhost:8080/",
          "height": 34
        },
        "outputId": "1fb70748-21cb-456e-8354-a5f9730a3fb8"
      },
      "source": [
        "model2.coef_"
      ],
      "execution_count": null,
      "outputs": [
        {
          "output_type": "execute_result",
          "data": {
            "text/plain": [
              "array([ 3.59004735, -0.05315709])"
            ]
          },
          "metadata": {
            "tags": []
          },
          "execution_count": 57
        }
      ]
    },
    {
      "cell_type": "code",
      "metadata": {
        "id": "YaJiWAlSlEmO",
        "colab_type": "code",
        "colab": {
          "base_uri": "https://localhost:8080/",
          "height": 68
        },
        "outputId": "7356ebd7-90fa-4160-ddf8-a29cd349cb91"
      },
      "source": [
        "y_pred = model2.predict(X_train)\n",
        "\n",
        "model_mae = mean_absolute_error(y_train, y_pred)\n",
        "model_rmse = mean_squared_error(y_train, y_pred, squared=False)\n",
        "model_r2 = r2_score(y_train, y_pred)\n",
        "\n",
        "print('Model MAE (training data):', model_mae)\n",
        "print('Model RMSE (training data):', model_rmse)\n",
        "print('Model R^2 (training data):', model_r2)"
      ],
      "execution_count": null,
      "outputs": [
        {
          "output_type": "stream",
          "text": [
            "Model MAE (training data): 1.3303221006874268\n",
            "Model RMSE (training data): 1.9823427386821593\n",
            "Model R^2 (training data): 0.8739958896016927\n"
          ],
          "name": "stdout"
        }
      ]
    },
    {
      "cell_type": "code",
      "metadata": {
        "id": "JjkQTsTLmSX0",
        "colab_type": "code",
        "colab": {
          "base_uri": "https://localhost:8080/",
          "height": 68
        },
        "outputId": "a8e5f7e3-523d-42c7-c38e-5a113ac8b4da"
      },
      "source": [
        "y_pred = model2.predict(X_val)\n",
        "\n",
        "model_mae = mean_absolute_error(y_val, y_pred)\n",
        "model_rmse = mean_squared_error(y_val, y_pred, squared=False)\n",
        "model_r2 = r2_score(y_val, y_pred)\n",
        "\n",
        "print('Model MAE (validation data):', model_mae)\n",
        "print('Model RMSE (validation data):', model_rmse)\n",
        "print('Model R^2 (validation data):', model_r2)"
      ],
      "execution_count": null,
      "outputs": [
        {
          "output_type": "stream",
          "text": [
            "Model MAE (validation data): 1.6341722692537293\n",
            "Model RMSE (validation data): 1.8613616351898397\n",
            "Model R^2 (validation data): 0.3792995526663848\n"
          ],
          "name": "stdout"
        }
      ]
    },
    {
      "cell_type": "code",
      "metadata": {
        "id": "dx8o70Lbmde2",
        "colab_type": "code",
        "colab": {}
      },
      "source": [
        ""
      ],
      "execution_count": null,
      "outputs": []
    }
  ]
}