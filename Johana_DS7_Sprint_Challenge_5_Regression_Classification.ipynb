{
  "nbformat": 4,
  "nbformat_minor": 0,
  "metadata": {
    "colab": {
      "name": "Johana DS7_Sprint_Challenge_5_Regression_Classification.ipynb",
      "version": "0.3.2",
      "provenance": [],
      "collapsed_sections": [],
      "include_colab_link": true
    },
    "kernelspec": {
      "name": "python3",
      "display_name": "Python 3"
    }
  },
  "cells": [
    {
      "cell_type": "markdown",
      "metadata": {
        "id": "view-in-github",
        "colab_type": "text"
      },
      "source": [
        "<a href=\"https://colab.research.google.com/github/johanaluna/DS-Unit-2-Regression-Classification/blob/master/Johana_DS7_Sprint_Challenge_5_Regression_Classification.ipynb\" target=\"_parent\"><img src=\"https://colab.research.google.com/assets/colab-badge.svg\" alt=\"Open In Colab\"/></a>"
      ]
    },
    {
      "cell_type": "markdown",
      "metadata": {
        "id": "VZf2akBaMjq8",
        "colab_type": "text"
      },
      "source": [
        "_Lambda School Data Science, Unit 2_\n",
        " \n",
        "# Regression & Classification Sprint Challenge\n",
        "\n",
        "To demonstrate mastery on your Sprint Challenge, do all the required, numbered instructions in this notebook.\n",
        "\n",
        "To earn a score of \"3\", also do all the stretch goals.\n",
        "\n",
        "You are permitted and encouraged to do as much data exploration as you want."
      ]
    },
    {
      "cell_type": "markdown",
      "metadata": {
        "id": "20OITf58NLQh",
        "colab_type": "text"
      },
      "source": [
        "### Part 1, Classification\n",
        "- 1.1. Begin with baselines for classification\n",
        "- 1.2. Do train/test split. Arrange data into X features matrix and y target vector\n",
        "- 1.3. Use scikit-learn to fit a logistic regression model\n",
        "- 1.4. Report classification metric: accuracy\n",
        "\n",
        "### Part 2, Regression\n",
        "- 2.1. Begin with baselines for regression\n",
        "- 2.2. Do train/validate/test split. \n",
        "- 2.3. Arrange data into X features matrix and y target vector\n",
        "- 2.4. Do one-hot encoding\n",
        "- 2.5. Use scikit-learn to fit a linear regression (or ridge regression) model\n",
        "- 2.6. Report validation MAE and $R^2$\n",
        "\n",
        "### Stretch Goals, Regression\n",
        "- Make visualizations to explore relationships between features and target\n",
        "- Try at least 3 feature combinations. You may select features manually, or automatically\n",
        "- Report validation MAE and $R^2$ for each feature combination you try\n",
        "- Report test MAE and $R^2$ for your final model\n",
        "- Print or plot the coefficients for the features in your model"
      ]
    },
    {
      "cell_type": "code",
      "metadata": {
        "id": "BxoFSeX5OX5k",
        "colab_type": "code",
        "colab": {
          "base_uri": "https://localhost:8080/",
          "height": 1000
        },
        "outputId": "a0ccda55-42ac-4418-b472-3af33b8c0585"
      },
      "source": [
        "# If you're in Colab...\n",
        "import sys\n",
        "in_colab = 'google.colab' in sys.modules\n",
        "\n",
        "if in_colab:\n",
        "    !pip install category_encoders==2.0.0\n",
        "    !pip install pandas-profiling==2.3.0\n",
        "    !pip install plotly==4.1.1"
      ],
      "execution_count": 1,
      "outputs": [
        {
          "output_type": "stream",
          "text": [
            "Collecting category_encoders==2.0.0\n",
            "\u001b[?25l  Downloading https://files.pythonhosted.org/packages/6e/a1/f7a22f144f33be78afeb06bfa78478e8284a64263a3c09b1ef54e673841e/category_encoders-2.0.0-py2.py3-none-any.whl (87kB)\n",
            "\r\u001b[K     |███▊                            | 10kB 13.5MB/s eta 0:00:01\r\u001b[K     |███████▌                        | 20kB 3.2MB/s eta 0:00:01\r\u001b[K     |███████████▏                    | 30kB 4.5MB/s eta 0:00:01\r\u001b[K     |███████████████                 | 40kB 2.9MB/s eta 0:00:01\r\u001b[K     |██████████████████▋             | 51kB 3.5MB/s eta 0:00:01\r\u001b[K     |██████████████████████▍         | 61kB 4.2MB/s eta 0:00:01\r\u001b[K     |██████████████████████████▏     | 71kB 4.8MB/s eta 0:00:01\r\u001b[K     |█████████████████████████████▉  | 81kB 5.4MB/s eta 0:00:01\r\u001b[K     |████████████████████████████████| 92kB 5.5MB/s \n",
            "\u001b[?25hRequirement already satisfied: numpy>=1.11.3 in /usr/local/lib/python3.6/dist-packages (from category_encoders==2.0.0) (1.16.4)\n",
            "Requirement already satisfied: scipy>=0.19.0 in /usr/local/lib/python3.6/dist-packages (from category_encoders==2.0.0) (1.3.1)\n",
            "Requirement already satisfied: scikit-learn>=0.20.0 in /usr/local/lib/python3.6/dist-packages (from category_encoders==2.0.0) (0.21.3)\n",
            "Requirement already satisfied: patsy>=0.4.1 in /usr/local/lib/python3.6/dist-packages (from category_encoders==2.0.0) (0.5.1)\n",
            "Requirement already satisfied: statsmodels>=0.6.1 in /usr/local/lib/python3.6/dist-packages (from category_encoders==2.0.0) (0.10.1)\n",
            "Requirement already satisfied: pandas>=0.21.1 in /usr/local/lib/python3.6/dist-packages (from category_encoders==2.0.0) (0.24.2)\n",
            "Requirement already satisfied: joblib>=0.11 in /usr/local/lib/python3.6/dist-packages (from scikit-learn>=0.20.0->category_encoders==2.0.0) (0.13.2)\n",
            "Requirement already satisfied: six in /usr/local/lib/python3.6/dist-packages (from patsy>=0.4.1->category_encoders==2.0.0) (1.12.0)\n",
            "Requirement already satisfied: pytz>=2011k in /usr/local/lib/python3.6/dist-packages (from pandas>=0.21.1->category_encoders==2.0.0) (2018.9)\n",
            "Requirement already satisfied: python-dateutil>=2.5.0 in /usr/local/lib/python3.6/dist-packages (from pandas>=0.21.1->category_encoders==2.0.0) (2.5.3)\n",
            "Installing collected packages: category-encoders\n",
            "Successfully installed category-encoders-2.0.0\n",
            "Collecting pandas-profiling==2.3.0\n",
            "\u001b[?25l  Downloading https://files.pythonhosted.org/packages/2c/2f/aae19e2173c10a9bb7fee5f5cad35dbe53a393960fc91abc477dcc4661e8/pandas-profiling-2.3.0.tar.gz (127kB)\n",
            "\u001b[K     |████████████████████████████████| 133kB 4.7MB/s \n",
            "\u001b[?25hRequirement already satisfied: pandas>=0.19 in /usr/local/lib/python3.6/dist-packages (from pandas-profiling==2.3.0) (0.24.2)\n",
            "Requirement already satisfied: matplotlib>=1.4 in /usr/local/lib/python3.6/dist-packages (from pandas-profiling==2.3.0) (3.0.3)\n",
            "Requirement already satisfied: jinja2>=2.8 in /usr/local/lib/python3.6/dist-packages (from pandas-profiling==2.3.0) (2.10.1)\n",
            "Requirement already satisfied: missingno>=0.4.2 in /usr/local/lib/python3.6/dist-packages (from pandas-profiling==2.3.0) (0.4.2)\n",
            "Collecting htmlmin>=0.1.12 (from pandas-profiling==2.3.0)\n",
            "  Downloading https://files.pythonhosted.org/packages/b3/e7/fcd59e12169de19f0131ff2812077f964c6b960e7c09804d30a7bf2ab461/htmlmin-0.1.12.tar.gz\n",
            "Collecting phik>=0.9.8 (from pandas-profiling==2.3.0)\n",
            "\u001b[?25l  Downloading https://files.pythonhosted.org/packages/45/ad/24a16fa4ba612fb96a3c4bb115a5b9741483f53b66d3d3afd987f20fa227/phik-0.9.8-py3-none-any.whl (606kB)\n",
            "\u001b[K     |████████████████████████████████| 614kB 39.6MB/s \n",
            "\u001b[?25hCollecting confuse>=1.0.0 (from pandas-profiling==2.3.0)\n",
            "  Downloading https://files.pythonhosted.org/packages/4c/6f/90e860cba937c174d8b3775729ccc6377eb91f52ad4eeb008e7252a3646d/confuse-1.0.0.tar.gz\n",
            "Requirement already satisfied: astropy in /usr/local/lib/python3.6/dist-packages (from pandas-profiling==2.3.0) (3.0.5)\n",
            "Requirement already satisfied: python-dateutil>=2.5.0 in /usr/local/lib/python3.6/dist-packages (from pandas>=0.19->pandas-profiling==2.3.0) (2.5.3)\n",
            "Requirement already satisfied: pytz>=2011k in /usr/local/lib/python3.6/dist-packages (from pandas>=0.19->pandas-profiling==2.3.0) (2018.9)\n",
            "Requirement already satisfied: numpy>=1.12.0 in /usr/local/lib/python3.6/dist-packages (from pandas>=0.19->pandas-profiling==2.3.0) (1.16.4)\n",
            "Requirement already satisfied: kiwisolver>=1.0.1 in /usr/local/lib/python3.6/dist-packages (from matplotlib>=1.4->pandas-profiling==2.3.0) (1.1.0)\n",
            "Requirement already satisfied: pyparsing!=2.0.4,!=2.1.2,!=2.1.6,>=2.0.1 in /usr/local/lib/python3.6/dist-packages (from matplotlib>=1.4->pandas-profiling==2.3.0) (2.4.2)\n",
            "Requirement already satisfied: cycler>=0.10 in /usr/local/lib/python3.6/dist-packages (from matplotlib>=1.4->pandas-profiling==2.3.0) (0.10.0)\n",
            "Requirement already satisfied: MarkupSafe>=0.23 in /usr/local/lib/python3.6/dist-packages (from jinja2>=2.8->pandas-profiling==2.3.0) (1.1.1)\n",
            "Requirement already satisfied: seaborn in /usr/local/lib/python3.6/dist-packages (from missingno>=0.4.2->pandas-profiling==2.3.0) (0.9.0)\n",
            "Requirement already satisfied: scipy in /usr/local/lib/python3.6/dist-packages (from missingno>=0.4.2->pandas-profiling==2.3.0) (1.3.1)\n",
            "Requirement already satisfied: nbconvert>=5.3.1 in /usr/local/lib/python3.6/dist-packages (from phik>=0.9.8->pandas-profiling==2.3.0) (5.6.0)\n",
            "Collecting pytest>=4.0.2 (from phik>=0.9.8->pandas-profiling==2.3.0)\n",
            "\u001b[?25l  Downloading https://files.pythonhosted.org/packages/2f/19/d5f71752f71451ccc5ed5f6739e9da4a235f38783fdaf3629cae41b2ca7b/pytest-5.1.2-py3-none-any.whl (224kB)\n",
            "\u001b[K     |████████████████████████████████| 225kB 46.2MB/s \n",
            "\u001b[?25hCollecting pytest-pylint>=0.13.0 (from phik>=0.9.8->pandas-profiling==2.3.0)\n",
            "  Downloading https://files.pythonhosted.org/packages/64/dc/6f35f114844fb12e38d60c4f3d2441a55baff7043ad4e013777dff55746c/pytest_pylint-0.14.1-py3-none-any.whl\n",
            "Requirement already satisfied: jupyter-client>=5.2.3 in /usr/local/lib/python3.6/dist-packages (from phik>=0.9.8->pandas-profiling==2.3.0) (5.3.1)\n",
            "Requirement already satisfied: numba>=0.38.1 in /usr/local/lib/python3.6/dist-packages (from phik>=0.9.8->pandas-profiling==2.3.0) (0.40.1)\n",
            "Requirement already satisfied: pyyaml in /usr/local/lib/python3.6/dist-packages (from confuse>=1.0.0->pandas-profiling==2.3.0) (3.13)\n",
            "Requirement already satisfied: six>=1.5 in /usr/local/lib/python3.6/dist-packages (from python-dateutil>=2.5.0->pandas>=0.19->pandas-profiling==2.3.0) (1.12.0)\n",
            "Requirement already satisfied: setuptools in /usr/local/lib/python3.6/dist-packages (from kiwisolver>=1.0.1->matplotlib>=1.4->pandas-profiling==2.3.0) (41.2.0)\n",
            "Requirement already satisfied: nbformat>=4.4 in /usr/local/lib/python3.6/dist-packages (from nbconvert>=5.3.1->phik>=0.9.8->pandas-profiling==2.3.0) (4.4.0)\n",
            "Requirement already satisfied: pygments in /usr/local/lib/python3.6/dist-packages (from nbconvert>=5.3.1->phik>=0.9.8->pandas-profiling==2.3.0) (2.1.3)\n",
            "Requirement already satisfied: jupyter-core in /usr/local/lib/python3.6/dist-packages (from nbconvert>=5.3.1->phik>=0.9.8->pandas-profiling==2.3.0) (4.5.0)\n",
            "Requirement already satisfied: mistune<2,>=0.8.1 in /usr/local/lib/python3.6/dist-packages (from nbconvert>=5.3.1->phik>=0.9.8->pandas-profiling==2.3.0) (0.8.4)\n",
            "Requirement already satisfied: pandocfilters>=1.4.1 in /usr/local/lib/python3.6/dist-packages (from nbconvert>=5.3.1->phik>=0.9.8->pandas-profiling==2.3.0) (1.4.2)\n",
            "Requirement already satisfied: defusedxml in /usr/local/lib/python3.6/dist-packages (from nbconvert>=5.3.1->phik>=0.9.8->pandas-profiling==2.3.0) (0.6.0)\n",
            "Requirement already satisfied: bleach in /usr/local/lib/python3.6/dist-packages (from nbconvert>=5.3.1->phik>=0.9.8->pandas-profiling==2.3.0) (3.1.0)\n",
            "Requirement already satisfied: testpath in /usr/local/lib/python3.6/dist-packages (from nbconvert>=5.3.1->phik>=0.9.8->pandas-profiling==2.3.0) (0.4.2)\n",
            "Requirement already satisfied: traitlets>=4.2 in /usr/local/lib/python3.6/dist-packages (from nbconvert>=5.3.1->phik>=0.9.8->pandas-profiling==2.3.0) (4.3.2)\n",
            "Requirement already satisfied: entrypoints>=0.2.2 in /usr/local/lib/python3.6/dist-packages (from nbconvert>=5.3.1->phik>=0.9.8->pandas-profiling==2.3.0) (0.3)\n",
            "Requirement already satisfied: importlib-metadata>=0.12; python_version < \"3.8\" in /usr/local/lib/python3.6/dist-packages (from pytest>=4.0.2->phik>=0.9.8->pandas-profiling==2.3.0) (0.19)\n",
            "Requirement already satisfied: more-itertools>=4.0.0 in /usr/local/lib/python3.6/dist-packages (from pytest>=4.0.2->phik>=0.9.8->pandas-profiling==2.3.0) (7.2.0)\n",
            "Requirement already satisfied: wcwidth in /usr/local/lib/python3.6/dist-packages (from pytest>=4.0.2->phik>=0.9.8->pandas-profiling==2.3.0) (0.1.7)\n",
            "Requirement already satisfied: atomicwrites>=1.0 in /usr/local/lib/python3.6/dist-packages (from pytest>=4.0.2->phik>=0.9.8->pandas-profiling==2.3.0) (1.3.0)\n",
            "Requirement already satisfied: attrs>=17.4.0 in /usr/local/lib/python3.6/dist-packages (from pytest>=4.0.2->phik>=0.9.8->pandas-profiling==2.3.0) (19.1.0)\n",
            "Collecting pluggy<1.0,>=0.12 (from pytest>=4.0.2->phik>=0.9.8->pandas-profiling==2.3.0)\n",
            "  Downloading https://files.pythonhosted.org/packages/06/ee/de89e0582276e3551df3110088bf20844de2b0e7df2748406876cc78e021/pluggy-0.12.0-py2.py3-none-any.whl\n",
            "Requirement already satisfied: py>=1.5.0 in /usr/local/lib/python3.6/dist-packages (from pytest>=4.0.2->phik>=0.9.8->pandas-profiling==2.3.0) (1.8.0)\n",
            "Requirement already satisfied: packaging in /usr/local/lib/python3.6/dist-packages (from pytest>=4.0.2->phik>=0.9.8->pandas-profiling==2.3.0) (19.1)\n",
            "Collecting pylint>=1.4.5 (from pytest-pylint>=0.13.0->phik>=0.9.8->pandas-profiling==2.3.0)\n",
            "\u001b[?25l  Downloading https://files.pythonhosted.org/packages/60/c2/b3f73f4ac008bef6e75bca4992f3963b3f85942e0277237721ef1c151f0d/pylint-2.3.1-py3-none-any.whl (765kB)\n",
            "\u001b[K     |████████████████████████████████| 768kB 53.0MB/s \n",
            "\u001b[?25hRequirement already satisfied: pyzmq>=13 in /usr/local/lib/python3.6/dist-packages (from jupyter-client>=5.2.3->phik>=0.9.8->pandas-profiling==2.3.0) (17.0.0)\n",
            "Requirement already satisfied: tornado>=4.1 in /usr/local/lib/python3.6/dist-packages (from jupyter-client>=5.2.3->phik>=0.9.8->pandas-profiling==2.3.0) (4.5.3)\n",
            "Requirement already satisfied: llvmlite>=0.25.0dev0 in /usr/local/lib/python3.6/dist-packages (from numba>=0.38.1->phik>=0.9.8->pandas-profiling==2.3.0) (0.29.0)\n",
            "Requirement already satisfied: jsonschema!=2.5.0,>=2.4 in /usr/local/lib/python3.6/dist-packages (from nbformat>=4.4->nbconvert>=5.3.1->phik>=0.9.8->pandas-profiling==2.3.0) (2.6.0)\n",
            "Requirement already satisfied: ipython-genutils in /usr/local/lib/python3.6/dist-packages (from nbformat>=4.4->nbconvert>=5.3.1->phik>=0.9.8->pandas-profiling==2.3.0) (0.2.0)\n",
            "Requirement already satisfied: webencodings in /usr/local/lib/python3.6/dist-packages (from bleach->nbconvert>=5.3.1->phik>=0.9.8->pandas-profiling==2.3.0) (0.5.1)\n",
            "Requirement already satisfied: decorator in /usr/local/lib/python3.6/dist-packages (from traitlets>=4.2->nbconvert>=5.3.1->phik>=0.9.8->pandas-profiling==2.3.0) (4.4.0)\n",
            "Requirement already satisfied: zipp>=0.5 in /usr/local/lib/python3.6/dist-packages (from importlib-metadata>=0.12; python_version < \"3.8\"->pytest>=4.0.2->phik>=0.9.8->pandas-profiling==2.3.0) (0.6.0)\n",
            "Collecting mccabe<0.7,>=0.6 (from pylint>=1.4.5->pytest-pylint>=0.13.0->phik>=0.9.8->pandas-profiling==2.3.0)\n",
            "  Downloading https://files.pythonhosted.org/packages/87/89/479dc97e18549e21354893e4ee4ef36db1d237534982482c3681ee6e7b57/mccabe-0.6.1-py2.py3-none-any.whl\n",
            "Collecting isort<5,>=4.2.5 (from pylint>=1.4.5->pytest-pylint>=0.13.0->phik>=0.9.8->pandas-profiling==2.3.0)\n",
            "\u001b[?25l  Downloading https://files.pythonhosted.org/packages/e5/b0/c121fd1fa3419ea9bfd55c7f9c4fedfec5143208d8c7ad3ce3db6c623c21/isort-4.3.21-py2.py3-none-any.whl (42kB)\n",
            "\u001b[K     |████████████████████████████████| 51kB 24.0MB/s \n",
            "\u001b[?25hCollecting astroid<3,>=2.2.0 (from pylint>=1.4.5->pytest-pylint>=0.13.0->phik>=0.9.8->pandas-profiling==2.3.0)\n",
            "\u001b[?25l  Downloading https://files.pythonhosted.org/packages/d5/ad/7221a62a2dbce5c3b8c57fd18e1052c7331adc19b3f27f1561aa6e620db2/astroid-2.2.5-py3-none-any.whl (193kB)\n",
            "\u001b[K     |████████████████████████████████| 194kB 59.0MB/s \n",
            "\u001b[?25hCollecting typed-ast>=1.3.0; implementation_name == \"cpython\" (from astroid<3,>=2.2.0->pylint>=1.4.5->pytest-pylint>=0.13.0->phik>=0.9.8->pandas-profiling==2.3.0)\n",
            "\u001b[?25l  Downloading https://files.pythonhosted.org/packages/31/d3/9d1802c161626d0278bafb1ffb32f76b9d01e123881bbf9d91e8ccf28e18/typed_ast-1.4.0-cp36-cp36m-manylinux1_x86_64.whl (736kB)\n",
            "\u001b[K     |████████████████████████████████| 737kB 45.1MB/s \n",
            "\u001b[?25hCollecting lazy-object-proxy (from astroid<3,>=2.2.0->pylint>=1.4.5->pytest-pylint>=0.13.0->phik>=0.9.8->pandas-profiling==2.3.0)\n",
            "\u001b[?25l  Downloading https://files.pythonhosted.org/packages/0e/26/534a6d32572a9dbca11619321535c0a7ab34688545d9d67c2c204b9e3a3d/lazy_object_proxy-1.4.2-cp36-cp36m-manylinux1_x86_64.whl (49kB)\n",
            "\u001b[K     |████████████████████████████████| 51kB 22.7MB/s \n",
            "\u001b[?25hRequirement already satisfied: wrapt in /usr/local/lib/python3.6/dist-packages (from astroid<3,>=2.2.0->pylint>=1.4.5->pytest-pylint>=0.13.0->phik>=0.9.8->pandas-profiling==2.3.0) (1.11.2)\n",
            "Building wheels for collected packages: pandas-profiling, htmlmin, confuse\n",
            "  Building wheel for pandas-profiling (setup.py) ... \u001b[?25l\u001b[?25hdone\n",
            "  Created wheel for pandas-profiling: filename=pandas_profiling-2.3.0-py2.py3-none-any.whl size=145035 sha256=1915abb356e5651ffe2e782b5e9df5c890a49f70d08d1700de45d5cbfeaaa5c9\n",
            "  Stored in directory: /root/.cache/pip/wheels/ce/c7/f1/dbfef4848ebb048cb1d4a22d1ed0c62d8ff2523747235e19fe\n",
            "  Building wheel for htmlmin (setup.py) ... \u001b[?25l\u001b[?25hdone\n",
            "  Created wheel for htmlmin: filename=htmlmin-0.1.12-cp36-none-any.whl size=27084 sha256=da51992bfce3a730a3f4509e5f9ed06e22ecd44c54c0a4011149ef03280e6951\n",
            "  Stored in directory: /root/.cache/pip/wheels/43/07/ac/7c5a9d708d65247ac1f94066cf1db075540b85716c30255459\n",
            "  Building wheel for confuse (setup.py) ... \u001b[?25l\u001b[?25hdone\n",
            "  Created wheel for confuse: filename=confuse-1.0.0-cp36-none-any.whl size=17486 sha256=d13307651b40a89d7c73360d6e30f174c65dc5d3231c1760cedf0eabee19c67f\n",
            "  Stored in directory: /root/.cache/pip/wheels/b0/b2/96/2074eee7dbf7b7df69d004c9b6ac4e32dad04fb7666cf943bd\n",
            "Successfully built pandas-profiling htmlmin confuse\n",
            "\u001b[31mERROR: datascience 0.10.6 has requirement folium==0.2.1, but you'll have folium 0.8.3 which is incompatible.\u001b[0m\n",
            "Installing collected packages: htmlmin, pluggy, pytest, mccabe, isort, typed-ast, lazy-object-proxy, astroid, pylint, pytest-pylint, phik, confuse, pandas-profiling\n",
            "  Found existing installation: pluggy 0.7.1\n",
            "    Uninstalling pluggy-0.7.1:\n",
            "      Successfully uninstalled pluggy-0.7.1\n",
            "  Found existing installation: pytest 3.6.4\n",
            "    Uninstalling pytest-3.6.4:\n",
            "      Successfully uninstalled pytest-3.6.4\n",
            "  Found existing installation: pandas-profiling 1.4.1\n",
            "    Uninstalling pandas-profiling-1.4.1:\n",
            "      Successfully uninstalled pandas-profiling-1.4.1\n",
            "Successfully installed astroid-2.2.5 confuse-1.0.0 htmlmin-0.1.12 isort-4.3.21 lazy-object-proxy-1.4.2 mccabe-0.6.1 pandas-profiling-2.3.0 phik-0.9.8 pluggy-0.12.0 pylint-2.3.1 pytest-5.1.2 pytest-pylint-0.14.1 typed-ast-1.4.0\n",
            "Collecting plotly==4.1.1\n",
            "\u001b[?25l  Downloading https://files.pythonhosted.org/packages/70/19/8437e22c84083a6d5d8a3c80f4edc73c9dcbb89261d07e6bd13b48752bbd/plotly-4.1.1-py2.py3-none-any.whl (7.1MB)\n",
            "\u001b[K     |████████████████████████████████| 7.1MB 5.0MB/s \n",
            "\u001b[?25hRequirement already satisfied: six in /usr/local/lib/python3.6/dist-packages (from plotly==4.1.1) (1.12.0)\n",
            "Requirement already satisfied: retrying>=1.3.3 in /usr/local/lib/python3.6/dist-packages (from plotly==4.1.1) (1.3.3)\n",
            "Installing collected packages: plotly\n",
            "  Found existing installation: plotly 3.6.1\n",
            "    Uninstalling plotly-3.6.1:\n",
            "      Successfully uninstalled plotly-3.6.1\n",
            "Successfully installed plotly-4.1.1\n"
          ],
          "name": "stdout"
        }
      ]
    },
    {
      "cell_type": "markdown",
      "metadata": {
        "id": "Q7u1KtsnOi78",
        "colab_type": "text"
      },
      "source": [
        "# Part 1, Classification: Predict Blood Donations 🚑\n",
        "Our dataset is from a mobile blood donation vehicle in Taiwan. The Blood Transfusion Service Center drives to different universities and collects blood as part of a blood drive.\n",
        "\n",
        "The goal is to predict whether the donor made a donation in March 2007, using information about each donor's history.\n",
        "\n",
        "Good data-driven systems for tracking and predicting donations and supply needs can improve the entire supply chain, making sure that more patients get the blood transfusions they need."
      ]
    },
    {
      "cell_type": "code",
      "metadata": {
        "id": "gJzpgv-fO4rh",
        "colab_type": "code",
        "colab": {}
      },
      "source": [
        "import pandas as pd\n",
        "\n",
        "donors = pd.read_csv('https://archive.ics.uci.edu/ml/machine-learning-databases/blood-transfusion/transfusion.data')\n",
        "assert donors.shape == (748,5)\n",
        "\n",
        "donors = donors.rename(columns={\n",
        "    'Recency (months)': 'months_since_last_donation', \n",
        "    'Frequency (times)': 'number_of_donations', \n",
        "    'Monetary (c.c. blood)': 'total_volume_donated', \n",
        "    'Time (months)': 'months_since_first_donation', \n",
        "    'whether he/she donated blood in March 2007': 'made_donation_in_march_2007'\n",
        "})"
      ],
      "execution_count": 0,
      "outputs": []
    },
    {
      "cell_type": "markdown",
      "metadata": {
        "id": "vwCnmFU7IURL",
        "colab_type": "text"
      },
      "source": [
        "\n"
      ]
    },
    {
      "cell_type": "markdown",
      "metadata": {
        "id": "uKluR3_kPKzM",
        "colab_type": "text"
      },
      "source": [
        "## 1.1. Begin with baselines\n",
        "\n",
        "What accuracy score would you get here with a \"majority class baseline\"?\n",
        " \n",
        "(You don't need to split the data into train and test sets yet. You can answer this question either with a scikit-learn function or with a pandas function.)"
      ]
    },
    {
      "cell_type": "code",
      "metadata": {
        "id": "Fyx1MnZnPXeP",
        "colab_type": "code",
        "colab": {
          "base_uri": "https://localhost:8080/",
          "height": 259
        },
        "outputId": "4e2280d5-04d2-4da0-c0b4-a7a79f917a50"
      },
      "source": [
        "print(donors.shape)\n",
        "donors.head()"
      ],
      "execution_count": 5,
      "outputs": [
        {
          "output_type": "stream",
          "text": [
            "(748, 5)\n"
          ],
          "name": "stdout"
        },
        {
          "output_type": "execute_result",
          "data": {
            "text/html": [
              "<div>\n",
              "<style scoped>\n",
              "    .dataframe tbody tr th:only-of-type {\n",
              "        vertical-align: middle;\n",
              "    }\n",
              "\n",
              "    .dataframe tbody tr th {\n",
              "        vertical-align: top;\n",
              "    }\n",
              "\n",
              "    .dataframe thead th {\n",
              "        text-align: right;\n",
              "    }\n",
              "</style>\n",
              "<table border=\"1\" class=\"dataframe\">\n",
              "  <thead>\n",
              "    <tr style=\"text-align: right;\">\n",
              "      <th></th>\n",
              "      <th>months_since_last_donation</th>\n",
              "      <th>number_of_donations</th>\n",
              "      <th>total_volume_donated</th>\n",
              "      <th>months_since_first_donation</th>\n",
              "      <th>made_donation_in_march_2007</th>\n",
              "    </tr>\n",
              "  </thead>\n",
              "  <tbody>\n",
              "    <tr>\n",
              "      <th>0</th>\n",
              "      <td>2</td>\n",
              "      <td>50</td>\n",
              "      <td>12500</td>\n",
              "      <td>98</td>\n",
              "      <td>1</td>\n",
              "    </tr>\n",
              "    <tr>\n",
              "      <th>1</th>\n",
              "      <td>0</td>\n",
              "      <td>13</td>\n",
              "      <td>3250</td>\n",
              "      <td>28</td>\n",
              "      <td>1</td>\n",
              "    </tr>\n",
              "    <tr>\n",
              "      <th>2</th>\n",
              "      <td>1</td>\n",
              "      <td>16</td>\n",
              "      <td>4000</td>\n",
              "      <td>35</td>\n",
              "      <td>1</td>\n",
              "    </tr>\n",
              "    <tr>\n",
              "      <th>3</th>\n",
              "      <td>2</td>\n",
              "      <td>20</td>\n",
              "      <td>5000</td>\n",
              "      <td>45</td>\n",
              "      <td>1</td>\n",
              "    </tr>\n",
              "    <tr>\n",
              "      <th>4</th>\n",
              "      <td>1</td>\n",
              "      <td>24</td>\n",
              "      <td>6000</td>\n",
              "      <td>77</td>\n",
              "      <td>0</td>\n",
              "    </tr>\n",
              "  </tbody>\n",
              "</table>\n",
              "</div>"
            ],
            "text/plain": [
              "   months_since_last_donation  ...  made_donation_in_march_2007\n",
              "0                           2  ...                            1\n",
              "1                           0  ...                            1\n",
              "2                           1  ...                            1\n",
              "3                           2  ...                            1\n",
              "4                           1  ...                            0\n",
              "\n",
              "[5 rows x 5 columns]"
            ]
          },
          "metadata": {
            "tags": []
          },
          "execution_count": 5
        }
      ]
    },
    {
      "cell_type": "code",
      "metadata": {
        "id": "ZRNXYQZVJ6YH",
        "colab_type": "code",
        "colab": {
          "base_uri": "https://localhost:8080/",
          "height": 87
        },
        "outputId": "94501e73-ab01-4d07-d593-f413974952c5"
      },
      "source": [
        "donors['made_donation_in_march_2007'].value_counts()"
      ],
      "execution_count": 8,
      "outputs": [
        {
          "output_type": "execute_result",
          "data": {
            "text/plain": [
              "0    570\n",
              "1    178\n",
              "Name: made_donation_in_march_2007, dtype: int64"
            ]
          },
          "metadata": {
            "tags": []
          },
          "execution_count": 8
        }
      ]
    },
    {
      "cell_type": "code",
      "metadata": {
        "id": "_QjPWKdqKClN",
        "colab_type": "code",
        "colab": {
          "base_uri": "https://localhost:8080/",
          "height": 158
        },
        "outputId": "8387075d-ee0d-408c-c8f8-f95f5329bae8"
      },
      "source": [
        "donors.dtypes"
      ],
      "execution_count": 11,
      "outputs": [
        {
          "output_type": "execute_result",
          "data": {
            "text/plain": [
              "months_since_last_donation     int64\n",
              "number_of_donations            int64\n",
              "total_volume_donated           int64\n",
              "months_since_first_donation    int64\n",
              "made_donation_in_march_2007    int64\n",
              "dtype: object"
            ]
          },
          "metadata": {
            "tags": []
          },
          "execution_count": 11
        }
      ]
    },
    {
      "cell_type": "code",
      "metadata": {
        "id": "6BAVQwAvKS-P",
        "colab_type": "code",
        "colab": {
          "base_uri": "https://localhost:8080/",
          "height": 87
        },
        "outputId": "f011aa58-1807-4b11-a6de-a87094a8f5e1"
      },
      "source": [
        "donors['made_donation_in_march_2007'].value_counts(normalize=True)"
      ],
      "execution_count": 12,
      "outputs": [
        {
          "output_type": "execute_result",
          "data": {
            "text/plain": [
              "0    0.762032\n",
              "1    0.237968\n",
              "Name: made_donation_in_march_2007, dtype: float64"
            ]
          },
          "metadata": {
            "tags": []
          },
          "execution_count": 12
        }
      ]
    },
    {
      "cell_type": "code",
      "metadata": {
        "id": "K5xWmCycJLZs",
        "colab_type": "code",
        "colab": {}
      },
      "source": [
        "#majority class\n",
        "#target= 'made_donation_in_march_2007' # Categorical data 1,0 \n",
        "y_train=donors['made_donation_in_march_2007']\n"
      ],
      "execution_count": 0,
      "outputs": []
    },
    {
      "cell_type": "code",
      "metadata": {
        "id": "EeAsIXpLKehR",
        "colab_type": "code",
        "colab": {
          "base_uri": "https://localhost:8080/",
          "height": 74
        },
        "outputId": "7cb8f8f1-70b4-412a-cdd0-a88a75046de4"
      },
      "source": [
        "majority_class = y_train.mode()[0]\n",
        "y_pred = [majority_class] * len(y_train)\n",
        "print(len(y_pred))"
      ],
      "execution_count": 16,
      "outputs": [
        {
          "output_type": "stream",
          "text": [
            "748\n"
          ],
          "name": "stdout"
        }
      ]
    },
    {
      "cell_type": "code",
      "metadata": {
        "id": "aTzSUXyKKqPK",
        "colab_type": "code",
        "colab": {
          "base_uri": "https://localhost:8080/",
          "height": 74
        },
        "outputId": "9ce34036-c13a-43cc-d366-ff69ebb97e78"
      },
      "source": [
        "# Accuracy of majority class baseline = \n",
        "# frequency of majority class\n",
        "from sklearn.metrics import accuracy_score\n",
        "print('Acuracy: ',accuracy_score(y_train, y_pred))"
      ],
      "execution_count": 19,
      "outputs": [
        {
          "output_type": "stream",
          "text": [
            "Acuracy:  0.7620320855614974\n"
          ],
          "name": "stdout"
        }
      ]
    },
    {
      "cell_type": "markdown",
      "metadata": {
        "id": "P66Fpcq1PYZl",
        "colab_type": "text"
      },
      "source": [
        "## 1.2. Do train/test split. Arrange data into X features matrix and y target vector\n",
        "\n",
        "Do these steps in either order.\n",
        "\n",
        "Split randomly. Use scikit-learn's train/test split function. Include 75% of the data in the train set, and hold out 25% for the test set."
      ]
    },
    {
      "cell_type": "code",
      "metadata": {
        "id": "Ma-Xz2iJLO_2",
        "colab_type": "code",
        "colab": {
          "base_uri": "https://localhost:8080/",
          "height": 74
        },
        "outputId": "796cfae4-a734-49a0-a51c-2a9b24210d03"
      },
      "source": [
        "from sklearn.model_selection import train_test_split\n",
        "features=list(donors.columns)\n",
        "X_train = donors[features].drop('made_donation_in_march_2007',axis=1)\n",
        "y_train = donors['made_donation_in_march_2007']\n",
        "X_train.shape, y_train.shape"
      ],
      "execution_count": 31,
      "outputs": [
        {
          "output_type": "execute_result",
          "data": {
            "text/plain": [
              "((748, 4), (748,))"
            ]
          },
          "metadata": {
            "tags": []
          },
          "execution_count": 31
        }
      ]
    },
    {
      "cell_type": "code",
      "metadata": {
        "id": "InhicZeZPX8L",
        "colab_type": "code",
        "colab": {}
      },
      "source": [
        "X_train, X_val, y_train, y_val = train_test_split(\n",
        "    X_train, y_train, train_size=0.75, test_size=0.25, random_state=42\n",
        ")"
      ],
      "execution_count": 0,
      "outputs": []
    },
    {
      "cell_type": "code",
      "metadata": {
        "id": "ilgdgYqrN4H3",
        "colab_type": "code",
        "colab": {
          "base_uri": "https://localhost:8080/",
          "height": 54
        },
        "outputId": "78888533-fe5e-446d-f441-57a0e6d94eab"
      },
      "source": [
        "X_train.shape, X_val.shape, y_train.shape, y_val.shape"
      ],
      "execution_count": 33,
      "outputs": [
        {
          "output_type": "execute_result",
          "data": {
            "text/plain": [
              "((561, 4), (187, 4), (561,), (187,))"
            ]
          },
          "metadata": {
            "tags": []
          },
          "execution_count": 33
        }
      ]
    },
    {
      "cell_type": "markdown",
      "metadata": {
        "id": "ln9fqAghRmQT",
        "colab_type": "text"
      },
      "source": [
        "## 1.3. Use scikit-learn to fit a logistic regression model\n",
        "\n",
        "You may use any number of features"
      ]
    },
    {
      "cell_type": "code",
      "metadata": {
        "id": "a2jf_deRRl64",
        "colab_type": "code",
        "colab": {
          "base_uri": "https://localhost:8080/",
          "height": 140
        },
        "outputId": "7754e415-2f63-4919-ea75-5b52fee820a3"
      },
      "source": [
        "# 1. Import the class\n",
        "from sklearn.linear_model import LogisticRegressionCV\n",
        "\n",
        "# 2. Instantiate it\n",
        "model = LogisticRegressionCV(n_jobs=-1, cv=3)\n",
        "\n",
        "# 3. Fit it\n",
        "model.fit(X_train, y_train)"
      ],
      "execution_count": 36,
      "outputs": [
        {
          "output_type": "execute_result",
          "data": {
            "text/plain": [
              "LogisticRegressionCV(Cs=10, class_weight=None, cv=3, dual=False,\n",
              "                     fit_intercept=True, intercept_scaling=1.0, l1_ratios=None,\n",
              "                     max_iter=100, multi_class='warn', n_jobs=-1, penalty='l2',\n",
              "                     random_state=None, refit=True, scoring=None,\n",
              "                     solver='lbfgs', tol=0.0001, verbose=0)"
            ]
          },
          "metadata": {
            "tags": []
          },
          "execution_count": 36
        }
      ]
    },
    {
      "cell_type": "markdown",
      "metadata": {
        "id": "Ah6EhiRVSusy",
        "colab_type": "text"
      },
      "source": [
        "## 1.4. Report classification metric: accuracy\n",
        "\n",
        "What is your model's accuracy on the test set?\n",
        "\n",
        "Don't worry if your model doesn't beat the mean baseline. That's okay!\n",
        "\n",
        "_\"The combination of some data and an aching desire for an answer does not ensure that a reasonable answer can be extracted from a given body of data.\"_ —[John Tukey](https://en.wikiquote.org/wiki/John_Tukey)\n",
        "\n"
      ]
    },
    {
      "cell_type": "code",
      "metadata": {
        "id": "ZfJ2NFsASt9_",
        "colab_type": "code",
        "colab": {
          "base_uri": "https://localhost:8080/",
          "height": 74
        },
        "outputId": "cec69c25-946d-44e3-b2ca-72b4d6bb8582"
      },
      "source": [
        "from sklearn.metrics import accuracy_score\n",
        "y_pred = model.predict(X_val)\n",
        "accuracy_score(y_val, y_pred)"
      ],
      "execution_count": 38,
      "outputs": [
        {
          "output_type": "execute_result",
          "data": {
            "text/plain": [
              "0.7540106951871658"
            ]
          },
          "metadata": {
            "tags": []
          },
          "execution_count": 38
        }
      ]
    },
    {
      "cell_type": "markdown",
      "metadata": {
        "id": "xDmZn3ApOM7t",
        "colab_type": "text"
      },
      "source": [
        "# Part 2, Regression: Predict home prices in Ames, Iowa 🏠\n",
        "\n",
        "You'll use historical housing data. There's a data dictionary at the bottom of the notebook. \n",
        "\n",
        "Run this code cell to load the dataset:\n",
        "\n",
        "\n",
        "\n"
      ]
    },
    {
      "cell_type": "code",
      "metadata": {
        "id": "7ptoRG1lu7H4",
        "colab_type": "code",
        "colab": {}
      },
      "source": [
        "import pandas as pd\n",
        "URL = 'https://drive.google.com/uc?export=download&id=1522WlEW6HFss36roD_Cd9nybqSuiVcCK'\n",
        "homes = pd.read_csv(URL)\n",
        "assert homes.shape == (2904, 47)"
      ],
      "execution_count": 0,
      "outputs": []
    },
    {
      "cell_type": "markdown",
      "metadata": {
        "id": "CowG-cgZ5ZrB",
        "colab_type": "text"
      },
      "source": [
        "## 2.1. Begin with baselines\n",
        "\n",
        "What is the Mean Absolute Error and R^2 score for a mean baseline?"
      ]
    },
    {
      "cell_type": "code",
      "metadata": {
        "id": "TbahVr-j5ZLs",
        "colab_type": "code",
        "colab": {
          "base_uri": "https://localhost:8080/",
          "height": 221
        },
        "outputId": "da699c4d-cdd0-4074-c289-606a4f73da0b"
      },
      "source": [
        "homes.head()"
      ],
      "execution_count": 7,
      "outputs": [
        {
          "output_type": "execute_result",
          "data": {
            "text/html": [
              "<div>\n",
              "<style scoped>\n",
              "    .dataframe tbody tr th:only-of-type {\n",
              "        vertical-align: middle;\n",
              "    }\n",
              "\n",
              "    .dataframe tbody tr th {\n",
              "        vertical-align: top;\n",
              "    }\n",
              "\n",
              "    .dataframe thead th {\n",
              "        text-align: right;\n",
              "    }\n",
              "</style>\n",
              "<table border=\"1\" class=\"dataframe\">\n",
              "  <thead>\n",
              "    <tr style=\"text-align: right;\">\n",
              "      <th></th>\n",
              "      <th>1st_Flr_SF</th>\n",
              "      <th>Bedroom_AbvGr</th>\n",
              "      <th>Bldg_Type</th>\n",
              "      <th>Bsmt_Full_Bath</th>\n",
              "      <th>Bsmt_Half_Bath</th>\n",
              "      <th>Central_Air</th>\n",
              "      <th>Condition_1</th>\n",
              "      <th>Condition_2</th>\n",
              "      <th>Electrical</th>\n",
              "      <th>Exter_Cond</th>\n",
              "      <th>Exter_Qual</th>\n",
              "      <th>Exterior_1st</th>\n",
              "      <th>Exterior_2nd</th>\n",
              "      <th>Foundation</th>\n",
              "      <th>Full_Bath</th>\n",
              "      <th>Functional</th>\n",
              "      <th>Gr_Liv_Area</th>\n",
              "      <th>Half_Bath</th>\n",
              "      <th>Heating</th>\n",
              "      <th>Heating_QC</th>\n",
              "      <th>House_Style</th>\n",
              "      <th>Kitchen_AbvGr</th>\n",
              "      <th>Kitchen_Qual</th>\n",
              "      <th>Land_Contour</th>\n",
              "      <th>Land_Slope</th>\n",
              "      <th>Lot_Area</th>\n",
              "      <th>Lot_Config</th>\n",
              "      <th>Lot_Shape</th>\n",
              "      <th>MS_SubClass</th>\n",
              "      <th>MS_Zoning</th>\n",
              "      <th>Mas_Vnr_Type</th>\n",
              "      <th>Mo_Sold</th>\n",
              "      <th>Neighborhood</th>\n",
              "      <th>Overall_Cond</th>\n",
              "      <th>Overall_Qual</th>\n",
              "      <th>Paved_Drive</th>\n",
              "      <th>Roof_Matl</th>\n",
              "      <th>Roof_Style</th>\n",
              "      <th>SalePrice</th>\n",
              "      <th>Sale_Condition</th>\n",
              "      <th>Sale_Type</th>\n",
              "      <th>Street</th>\n",
              "      <th>TotRms_AbvGrd</th>\n",
              "      <th>Utilities</th>\n",
              "      <th>Year_Built</th>\n",
              "      <th>Year_Remod/Add</th>\n",
              "      <th>Yr_Sold</th>\n",
              "    </tr>\n",
              "  </thead>\n",
              "  <tbody>\n",
              "    <tr>\n",
              "      <th>0</th>\n",
              "      <td>1656</td>\n",
              "      <td>3</td>\n",
              "      <td>1Fam</td>\n",
              "      <td>1.0</td>\n",
              "      <td>0.0</td>\n",
              "      <td>Y</td>\n",
              "      <td>Norm</td>\n",
              "      <td>Norm</td>\n",
              "      <td>SBrkr</td>\n",
              "      <td>TA</td>\n",
              "      <td>TA</td>\n",
              "      <td>BrkFace</td>\n",
              "      <td>Plywood</td>\n",
              "      <td>CBlock</td>\n",
              "      <td>1</td>\n",
              "      <td>Typ</td>\n",
              "      <td>1656</td>\n",
              "      <td>0</td>\n",
              "      <td>GasA</td>\n",
              "      <td>Fa</td>\n",
              "      <td>1Story</td>\n",
              "      <td>1</td>\n",
              "      <td>TA</td>\n",
              "      <td>Lvl</td>\n",
              "      <td>Gtl</td>\n",
              "      <td>31770</td>\n",
              "      <td>Corner</td>\n",
              "      <td>IR1</td>\n",
              "      <td>20</td>\n",
              "      <td>RL</td>\n",
              "      <td>Stone</td>\n",
              "      <td>5</td>\n",
              "      <td>NAmes</td>\n",
              "      <td>5</td>\n",
              "      <td>6</td>\n",
              "      <td>P</td>\n",
              "      <td>CompShg</td>\n",
              "      <td>Hip</td>\n",
              "      <td>215000</td>\n",
              "      <td>Normal</td>\n",
              "      <td>WD</td>\n",
              "      <td>Pave</td>\n",
              "      <td>7</td>\n",
              "      <td>AllPub</td>\n",
              "      <td>1960</td>\n",
              "      <td>1960</td>\n",
              "      <td>2010</td>\n",
              "    </tr>\n",
              "    <tr>\n",
              "      <th>1</th>\n",
              "      <td>896</td>\n",
              "      <td>2</td>\n",
              "      <td>1Fam</td>\n",
              "      <td>0.0</td>\n",
              "      <td>0.0</td>\n",
              "      <td>Y</td>\n",
              "      <td>Feedr</td>\n",
              "      <td>Norm</td>\n",
              "      <td>SBrkr</td>\n",
              "      <td>TA</td>\n",
              "      <td>TA</td>\n",
              "      <td>VinylSd</td>\n",
              "      <td>VinylSd</td>\n",
              "      <td>CBlock</td>\n",
              "      <td>1</td>\n",
              "      <td>Typ</td>\n",
              "      <td>896</td>\n",
              "      <td>0</td>\n",
              "      <td>GasA</td>\n",
              "      <td>TA</td>\n",
              "      <td>1Story</td>\n",
              "      <td>1</td>\n",
              "      <td>TA</td>\n",
              "      <td>Lvl</td>\n",
              "      <td>Gtl</td>\n",
              "      <td>11622</td>\n",
              "      <td>Inside</td>\n",
              "      <td>Reg</td>\n",
              "      <td>20</td>\n",
              "      <td>RH</td>\n",
              "      <td>None</td>\n",
              "      <td>6</td>\n",
              "      <td>NAmes</td>\n",
              "      <td>6</td>\n",
              "      <td>5</td>\n",
              "      <td>Y</td>\n",
              "      <td>CompShg</td>\n",
              "      <td>Gable</td>\n",
              "      <td>105000</td>\n",
              "      <td>Normal</td>\n",
              "      <td>WD</td>\n",
              "      <td>Pave</td>\n",
              "      <td>5</td>\n",
              "      <td>AllPub</td>\n",
              "      <td>1961</td>\n",
              "      <td>1961</td>\n",
              "      <td>2010</td>\n",
              "    </tr>\n",
              "    <tr>\n",
              "      <th>2</th>\n",
              "      <td>1329</td>\n",
              "      <td>3</td>\n",
              "      <td>1Fam</td>\n",
              "      <td>0.0</td>\n",
              "      <td>0.0</td>\n",
              "      <td>Y</td>\n",
              "      <td>Norm</td>\n",
              "      <td>Norm</td>\n",
              "      <td>SBrkr</td>\n",
              "      <td>TA</td>\n",
              "      <td>TA</td>\n",
              "      <td>Wd Sdng</td>\n",
              "      <td>Wd Sdng</td>\n",
              "      <td>CBlock</td>\n",
              "      <td>1</td>\n",
              "      <td>Typ</td>\n",
              "      <td>1329</td>\n",
              "      <td>1</td>\n",
              "      <td>GasA</td>\n",
              "      <td>TA</td>\n",
              "      <td>1Story</td>\n",
              "      <td>1</td>\n",
              "      <td>Gd</td>\n",
              "      <td>Lvl</td>\n",
              "      <td>Gtl</td>\n",
              "      <td>14267</td>\n",
              "      <td>Corner</td>\n",
              "      <td>IR1</td>\n",
              "      <td>20</td>\n",
              "      <td>RL</td>\n",
              "      <td>BrkFace</td>\n",
              "      <td>6</td>\n",
              "      <td>NAmes</td>\n",
              "      <td>6</td>\n",
              "      <td>6</td>\n",
              "      <td>Y</td>\n",
              "      <td>CompShg</td>\n",
              "      <td>Hip</td>\n",
              "      <td>172000</td>\n",
              "      <td>Normal</td>\n",
              "      <td>WD</td>\n",
              "      <td>Pave</td>\n",
              "      <td>6</td>\n",
              "      <td>AllPub</td>\n",
              "      <td>1958</td>\n",
              "      <td>1958</td>\n",
              "      <td>2010</td>\n",
              "    </tr>\n",
              "    <tr>\n",
              "      <th>3</th>\n",
              "      <td>2110</td>\n",
              "      <td>3</td>\n",
              "      <td>1Fam</td>\n",
              "      <td>1.0</td>\n",
              "      <td>0.0</td>\n",
              "      <td>Y</td>\n",
              "      <td>Norm</td>\n",
              "      <td>Norm</td>\n",
              "      <td>SBrkr</td>\n",
              "      <td>TA</td>\n",
              "      <td>Gd</td>\n",
              "      <td>BrkFace</td>\n",
              "      <td>BrkFace</td>\n",
              "      <td>CBlock</td>\n",
              "      <td>2</td>\n",
              "      <td>Typ</td>\n",
              "      <td>2110</td>\n",
              "      <td>1</td>\n",
              "      <td>GasA</td>\n",
              "      <td>Ex</td>\n",
              "      <td>1Story</td>\n",
              "      <td>1</td>\n",
              "      <td>Ex</td>\n",
              "      <td>Lvl</td>\n",
              "      <td>Gtl</td>\n",
              "      <td>11160</td>\n",
              "      <td>Corner</td>\n",
              "      <td>Reg</td>\n",
              "      <td>20</td>\n",
              "      <td>RL</td>\n",
              "      <td>None</td>\n",
              "      <td>4</td>\n",
              "      <td>NAmes</td>\n",
              "      <td>5</td>\n",
              "      <td>7</td>\n",
              "      <td>Y</td>\n",
              "      <td>CompShg</td>\n",
              "      <td>Hip</td>\n",
              "      <td>244000</td>\n",
              "      <td>Normal</td>\n",
              "      <td>WD</td>\n",
              "      <td>Pave</td>\n",
              "      <td>8</td>\n",
              "      <td>AllPub</td>\n",
              "      <td>1968</td>\n",
              "      <td>1968</td>\n",
              "      <td>2010</td>\n",
              "    </tr>\n",
              "    <tr>\n",
              "      <th>4</th>\n",
              "      <td>928</td>\n",
              "      <td>3</td>\n",
              "      <td>1Fam</td>\n",
              "      <td>0.0</td>\n",
              "      <td>0.0</td>\n",
              "      <td>Y</td>\n",
              "      <td>Norm</td>\n",
              "      <td>Norm</td>\n",
              "      <td>SBrkr</td>\n",
              "      <td>TA</td>\n",
              "      <td>TA</td>\n",
              "      <td>VinylSd</td>\n",
              "      <td>VinylSd</td>\n",
              "      <td>PConc</td>\n",
              "      <td>2</td>\n",
              "      <td>Typ</td>\n",
              "      <td>1629</td>\n",
              "      <td>1</td>\n",
              "      <td>GasA</td>\n",
              "      <td>Gd</td>\n",
              "      <td>2Story</td>\n",
              "      <td>1</td>\n",
              "      <td>TA</td>\n",
              "      <td>Lvl</td>\n",
              "      <td>Gtl</td>\n",
              "      <td>13830</td>\n",
              "      <td>Inside</td>\n",
              "      <td>IR1</td>\n",
              "      <td>60</td>\n",
              "      <td>RL</td>\n",
              "      <td>None</td>\n",
              "      <td>3</td>\n",
              "      <td>Gilbert</td>\n",
              "      <td>5</td>\n",
              "      <td>5</td>\n",
              "      <td>Y</td>\n",
              "      <td>CompShg</td>\n",
              "      <td>Gable</td>\n",
              "      <td>189900</td>\n",
              "      <td>Normal</td>\n",
              "      <td>WD</td>\n",
              "      <td>Pave</td>\n",
              "      <td>6</td>\n",
              "      <td>AllPub</td>\n",
              "      <td>1997</td>\n",
              "      <td>1998</td>\n",
              "      <td>2010</td>\n",
              "    </tr>\n",
              "  </tbody>\n",
              "</table>\n",
              "</div>"
            ],
            "text/plain": [
              "   1st_Flr_SF  Bedroom_AbvGr Bldg_Type  ...  Year_Built  Year_Remod/Add Yr_Sold\n",
              "0        1656              3      1Fam  ...        1960            1960    2010\n",
              "1         896              2      1Fam  ...        1961            1961    2010\n",
              "2        1329              3      1Fam  ...        1958            1958    2010\n",
              "3        2110              3      1Fam  ...        1968            1968    2010\n",
              "4         928              3      1Fam  ...        1997            1998    2010\n",
              "\n",
              "[5 rows x 47 columns]"
            ]
          },
          "metadata": {
            "tags": []
          },
          "execution_count": 7
        }
      ]
    },
    {
      "cell_type": "code",
      "metadata": {
        "id": "TqCfQZv7OhYJ",
        "colab_type": "code",
        "colab": {
          "base_uri": "https://localhost:8080/",
          "height": 1000
        },
        "outputId": "eac291b2-e9db-4ddf-c595-32148512e8f1"
      },
      "source": [
        "homes['SalePrice'].value_counts(normalize=True)"
      ],
      "execution_count": 42,
      "outputs": [
        {
          "output_type": "execute_result",
          "data": {
            "text/plain": [
              "135000    0.011708\n",
              "140000    0.011364\n",
              "130000    0.009986\n",
              "155000    0.009642\n",
              "145000    0.008953\n",
              "160000    0.007920\n",
              "110000    0.007231\n",
              "185000    0.007231\n",
              "115000    0.006887\n",
              "170000    0.006887\n",
              "120000    0.006887\n",
              "127000    0.006887\n",
              "125000    0.006543\n",
              "200000    0.006543\n",
              "190000    0.006543\n",
              "150000    0.006198\n",
              "180000    0.005854\n",
              "165000    0.005854\n",
              "139000    0.005854\n",
              "143000    0.005854\n",
              "128000    0.005854\n",
              "144000    0.005510\n",
              "250000    0.005510\n",
              "100000    0.005165\n",
              "147000    0.005165\n",
              "148000    0.005165\n",
              "215000    0.005165\n",
              "137000    0.005165\n",
              "119000    0.005165\n",
              "173000    0.004821\n",
              "            ...   \n",
              "194700    0.000344\n",
              "293000    0.000344\n",
              "290941    0.000344\n",
              "200825    0.000344\n",
              "379000    0.000344\n",
              "168165    0.000344\n",
              "137450    0.000344\n",
              "129400    0.000344\n",
              "145400    0.000344\n",
              "303477    0.000344\n",
              "326000    0.000344\n",
              "176485    0.000344\n",
              "500067    0.000344\n",
              "227680    0.000344\n",
              "199000    0.000344\n",
              "293200    0.000344\n",
              "186700    0.000344\n",
              "144750    0.000344\n",
              "264500    0.000344\n",
              "155891    0.000344\n",
              "260400    0.000344\n",
              "256300    0.000344\n",
              "274725    0.000344\n",
              "332200    0.000344\n",
              "57625     0.000344\n",
              "125200    0.000344\n",
              "112900    0.000344\n",
              "178400    0.000344\n",
              "405749    0.000344\n",
              "169985    0.000344\n",
              "Name: SalePrice, Length: 1019, dtype: float64"
            ]
          },
          "metadata": {
            "tags": []
          },
          "execution_count": 42
        }
      ]
    },
    {
      "cell_type": "code",
      "metadata": {
        "id": "DVSEUg8vQQdk",
        "colab_type": "code",
        "colab": {
          "base_uri": "https://localhost:8080/",
          "height": 54
        },
        "outputId": "c4db7e10-b497-47e5-f5e3-08beedd1459f"
      },
      "source": [
        "y_train=homes['SalePrice']\n",
        "X_train= homes.drop('SalePrice',axis=1)\n",
        "y_train.shape,X_train.shape"
      ],
      "execution_count": 45,
      "outputs": [
        {
          "output_type": "execute_result",
          "data": {
            "text/plain": [
              "((2904,), (2904, 46))"
            ]
          },
          "metadata": {
            "tags": []
          },
          "execution_count": 45
        }
      ]
    },
    {
      "cell_type": "code",
      "metadata": {
        "id": "pRiEAmNnQnnp",
        "colab_type": "code",
        "colab": {}
      },
      "source": [
        "X_train_numeric = X_train.select_dtypes('number')"
      ],
      "execution_count": 0,
      "outputs": []
    },
    {
      "cell_type": "code",
      "metadata": {
        "id": "Sc8tH4WfRAFa",
        "colab_type": "code",
        "colab": {
          "base_uri": "https://localhost:8080/",
          "height": 54
        },
        "outputId": "da423ae1-3d5a-452b-ef18-1854b7ea68b5"
      },
      "source": [
        "y_pred_train = [y_train.mean()] * len(y_train)\n",
        "len(y_pred_train)"
      ],
      "execution_count": 47,
      "outputs": [
        {
          "output_type": "execute_result",
          "data": {
            "text/plain": [
              "2904"
            ]
          },
          "metadata": {
            "tags": []
          },
          "execution_count": 47
        }
      ]
    },
    {
      "cell_type": "code",
      "metadata": {
        "id": "7cT77nHZQyde",
        "colab_type": "code",
        "colab": {
          "base_uri": "https://localhost:8080/",
          "height": 71
        },
        "outputId": "be332bb0-af4f-463d-9b19-3dfac0688d6d"
      },
      "source": [
        "from sklearn.metrics import mean_absolute_error, mean_squared_error, r2_score\n",
        "train_mae= mean_absolute_error(y_train, y_pred_train)\n",
        "train_r2score=r2_score(y_train, y_pred_train)\n",
        "print('MAE:',train_mae)\n",
        "train_r2score=r2_score(y_train, y_pred_train)\n",
        "print('R^2 score: ',train_r2score)"
      ],
      "execution_count": 50,
      "outputs": [
        {
          "output_type": "stream",
          "text": [
            "MAE: 58149.92774120811\n",
            "R^2 score:  0.0\n"
          ],
          "name": "stdout"
        }
      ]
    },
    {
      "cell_type": "markdown",
      "metadata": {
        "id": "yqeiq1wvyrTq",
        "colab_type": "text"
      },
      "source": [
        "## 2.2. Do train/test split\n",
        "\n",
        "Train on houses sold in the years 2006 - 2008. (1,920 rows)\n",
        "\n",
        "Validate on house sold in 2009. (644 rows)\n",
        "\n",
        "Test on houses sold in 2010. (340 rows)"
      ]
    },
    {
      "cell_type": "code",
      "metadata": {
        "id": "WKFjWLI3w0P_",
        "colab_type": "code",
        "colab": {
          "base_uri": "https://localhost:8080/",
          "height": 137
        },
        "outputId": "1572f642-d68d-4466-dd64-6ad562f77eba"
      },
      "source": [
        "homes['Yr_Sold'].value_counts(normalize=True)"
      ],
      "execution_count": 51,
      "outputs": [
        {
          "output_type": "execute_result",
          "data": {
            "text/plain": [
              "2007    0.236226\n",
              "2009    0.221763\n",
              "2006    0.213843\n",
              "2008    0.211088\n",
              "2010    0.117080\n",
              "Name: Yr_Sold, dtype: float64"
            ]
          },
          "metadata": {
            "tags": []
          },
          "execution_count": 51
        }
      ]
    },
    {
      "cell_type": "code",
      "metadata": {
        "id": "T65_12mGSYPl",
        "colab_type": "code",
        "colab": {
          "base_uri": "https://localhost:8080/",
          "height": 74
        },
        "outputId": "e70c998d-744b-4d00-f7dc-d4ada9509806"
      },
      "source": [
        "# \n",
        "train=homes[(homes['Yr_Sold']>= 2006)&(homes['Yr_Sold']< 2009)] \n",
        "test=homes[(homes['Yr_Sold']==2010)] \n",
        "validate=homes[(homes['Yr_Sold']==2009)] \n",
        "train.shape,test.shape,validate.shape"
      ],
      "execution_count": 120,
      "outputs": [
        {
          "output_type": "execute_result",
          "data": {
            "text/plain": [
              "((1920, 47), (340, 47), (644, 47))"
            ]
          },
          "metadata": {
            "tags": []
          },
          "execution_count": 120
        }
      ]
    },
    {
      "cell_type": "code",
      "metadata": {
        "id": "F3nvDD4SSYL5",
        "colab_type": "code",
        "colab": {
          "base_uri": "https://localhost:8080/",
          "height": 241
        },
        "outputId": "56e33070-43ac-4c50-9cbc-ad4762e6dc03"
      },
      "source": [
        "train.head()"
      ],
      "execution_count": 121,
      "outputs": [
        {
          "output_type": "execute_result",
          "data": {
            "text/html": [
              "<div>\n",
              "<style scoped>\n",
              "    .dataframe tbody tr th:only-of-type {\n",
              "        vertical-align: middle;\n",
              "    }\n",
              "\n",
              "    .dataframe tbody tr th {\n",
              "        vertical-align: top;\n",
              "    }\n",
              "\n",
              "    .dataframe thead th {\n",
              "        text-align: right;\n",
              "    }\n",
              "</style>\n",
              "<table border=\"1\" class=\"dataframe\">\n",
              "  <thead>\n",
              "    <tr style=\"text-align: right;\">\n",
              "      <th></th>\n",
              "      <th>1st_Flr_SF</th>\n",
              "      <th>Bedroom_AbvGr</th>\n",
              "      <th>Bldg_Type</th>\n",
              "      <th>Bsmt_Full_Bath</th>\n",
              "      <th>Bsmt_Half_Bath</th>\n",
              "      <th>Central_Air</th>\n",
              "      <th>Condition_1</th>\n",
              "      <th>Condition_2</th>\n",
              "      <th>Electrical</th>\n",
              "      <th>Exter_Cond</th>\n",
              "      <th>Exter_Qual</th>\n",
              "      <th>Exterior_1st</th>\n",
              "      <th>Exterior_2nd</th>\n",
              "      <th>Foundation</th>\n",
              "      <th>Full_Bath</th>\n",
              "      <th>Functional</th>\n",
              "      <th>Gr_Liv_Area</th>\n",
              "      <th>Half_Bath</th>\n",
              "      <th>Heating</th>\n",
              "      <th>Heating_QC</th>\n",
              "      <th>House_Style</th>\n",
              "      <th>Kitchen_AbvGr</th>\n",
              "      <th>Kitchen_Qual</th>\n",
              "      <th>Land_Contour</th>\n",
              "      <th>Land_Slope</th>\n",
              "      <th>Lot_Area</th>\n",
              "      <th>Lot_Config</th>\n",
              "      <th>Lot_Shape</th>\n",
              "      <th>MS_SubClass</th>\n",
              "      <th>MS_Zoning</th>\n",
              "      <th>Mas_Vnr_Type</th>\n",
              "      <th>Mo_Sold</th>\n",
              "      <th>Neighborhood</th>\n",
              "      <th>Overall_Cond</th>\n",
              "      <th>Overall_Qual</th>\n",
              "      <th>Paved_Drive</th>\n",
              "      <th>Roof_Matl</th>\n",
              "      <th>Roof_Style</th>\n",
              "      <th>SalePrice</th>\n",
              "      <th>Sale_Condition</th>\n",
              "      <th>Sale_Type</th>\n",
              "      <th>Street</th>\n",
              "      <th>TotRms_AbvGrd</th>\n",
              "      <th>Utilities</th>\n",
              "      <th>Year_Built</th>\n",
              "      <th>Year_Remod/Add</th>\n",
              "      <th>Yr_Sold</th>\n",
              "    </tr>\n",
              "  </thead>\n",
              "  <tbody>\n",
              "    <tr>\n",
              "      <th>984</th>\n",
              "      <td>1414</td>\n",
              "      <td>3</td>\n",
              "      <td>1Fam</td>\n",
              "      <td>1.0</td>\n",
              "      <td>0.0</td>\n",
              "      <td>Y</td>\n",
              "      <td>Norm</td>\n",
              "      <td>Norm</td>\n",
              "      <td>SBrkr</td>\n",
              "      <td>TA</td>\n",
              "      <td>Ex</td>\n",
              "      <td>MetalSd</td>\n",
              "      <td>MetalSd</td>\n",
              "      <td>CBlock</td>\n",
              "      <td>1</td>\n",
              "      <td>Min1</td>\n",
              "      <td>1414</td>\n",
              "      <td>0</td>\n",
              "      <td>GasA</td>\n",
              "      <td>Ex</td>\n",
              "      <td>1Story</td>\n",
              "      <td>1</td>\n",
              "      <td>TA</td>\n",
              "      <td>Lvl</td>\n",
              "      <td>Gtl</td>\n",
              "      <td>11029</td>\n",
              "      <td>Corner</td>\n",
              "      <td>IR1</td>\n",
              "      <td>20</td>\n",
              "      <td>RL</td>\n",
              "      <td>None</td>\n",
              "      <td>5</td>\n",
              "      <td>NAmes</td>\n",
              "      <td>8</td>\n",
              "      <td>6</td>\n",
              "      <td>Y</td>\n",
              "      <td>CompShg</td>\n",
              "      <td>Hip</td>\n",
              "      <td>176500</td>\n",
              "      <td>Normal</td>\n",
              "      <td>WD</td>\n",
              "      <td>Pave</td>\n",
              "      <td>6</td>\n",
              "      <td>AllPub</td>\n",
              "      <td>1958</td>\n",
              "      <td>2002</td>\n",
              "      <td>2008</td>\n",
              "    </tr>\n",
              "    <tr>\n",
              "      <th>985</th>\n",
              "      <td>2117</td>\n",
              "      <td>4</td>\n",
              "      <td>1Fam</td>\n",
              "      <td>0.0</td>\n",
              "      <td>0.0</td>\n",
              "      <td>Y</td>\n",
              "      <td>Norm</td>\n",
              "      <td>Norm</td>\n",
              "      <td>SBrkr</td>\n",
              "      <td>TA</td>\n",
              "      <td>TA</td>\n",
              "      <td>BrkFace</td>\n",
              "      <td>Plywood</td>\n",
              "      <td>CBlock</td>\n",
              "      <td>2</td>\n",
              "      <td>Typ</td>\n",
              "      <td>2117</td>\n",
              "      <td>1</td>\n",
              "      <td>GasA</td>\n",
              "      <td>Ex</td>\n",
              "      <td>1Story</td>\n",
              "      <td>1</td>\n",
              "      <td>TA</td>\n",
              "      <td>Lvl</td>\n",
              "      <td>Gtl</td>\n",
              "      <td>12925</td>\n",
              "      <td>Corner</td>\n",
              "      <td>IR1</td>\n",
              "      <td>20</td>\n",
              "      <td>RL</td>\n",
              "      <td>None</td>\n",
              "      <td>5</td>\n",
              "      <td>NAmes</td>\n",
              "      <td>7</td>\n",
              "      <td>6</td>\n",
              "      <td>Y</td>\n",
              "      <td>CompShg</td>\n",
              "      <td>Gable</td>\n",
              "      <td>237500</td>\n",
              "      <td>Normal</td>\n",
              "      <td>WD</td>\n",
              "      <td>Pave</td>\n",
              "      <td>7</td>\n",
              "      <td>AllPub</td>\n",
              "      <td>1970</td>\n",
              "      <td>1970</td>\n",
              "      <td>2008</td>\n",
              "    </tr>\n",
              "    <tr>\n",
              "      <th>986</th>\n",
              "      <td>1092</td>\n",
              "      <td>4</td>\n",
              "      <td>1Fam</td>\n",
              "      <td>0.0</td>\n",
              "      <td>0.0</td>\n",
              "      <td>Y</td>\n",
              "      <td>Norm</td>\n",
              "      <td>Norm</td>\n",
              "      <td>SBrkr</td>\n",
              "      <td>TA</td>\n",
              "      <td>TA</td>\n",
              "      <td>HdBoard</td>\n",
              "      <td>HdBoard</td>\n",
              "      <td>CBlock</td>\n",
              "      <td>2</td>\n",
              "      <td>Typ</td>\n",
              "      <td>2112</td>\n",
              "      <td>1</td>\n",
              "      <td>GasA</td>\n",
              "      <td>TA</td>\n",
              "      <td>2Story</td>\n",
              "      <td>1</td>\n",
              "      <td>TA</td>\n",
              "      <td>Lvl</td>\n",
              "      <td>Gtl</td>\n",
              "      <td>11075</td>\n",
              "      <td>Inside</td>\n",
              "      <td>Reg</td>\n",
              "      <td>60</td>\n",
              "      <td>RL</td>\n",
              "      <td>None</td>\n",
              "      <td>6</td>\n",
              "      <td>NAmes</td>\n",
              "      <td>5</td>\n",
              "      <td>6</td>\n",
              "      <td>Y</td>\n",
              "      <td>CompShg</td>\n",
              "      <td>Gable</td>\n",
              "      <td>206900</td>\n",
              "      <td>Normal</td>\n",
              "      <td>WD</td>\n",
              "      <td>Pave</td>\n",
              "      <td>9</td>\n",
              "      <td>AllPub</td>\n",
              "      <td>1969</td>\n",
              "      <td>1969</td>\n",
              "      <td>2008</td>\n",
              "    </tr>\n",
              "    <tr>\n",
              "      <th>987</th>\n",
              "      <td>926</td>\n",
              "      <td>3</td>\n",
              "      <td>1Fam</td>\n",
              "      <td>0.0</td>\n",
              "      <td>0.0</td>\n",
              "      <td>Y</td>\n",
              "      <td>Norm</td>\n",
              "      <td>Norm</td>\n",
              "      <td>SBrkr</td>\n",
              "      <td>TA</td>\n",
              "      <td>TA</td>\n",
              "      <td>VinylSd</td>\n",
              "      <td>VinylSd</td>\n",
              "      <td>PConc</td>\n",
              "      <td>2</td>\n",
              "      <td>Typ</td>\n",
              "      <td>1604</td>\n",
              "      <td>1</td>\n",
              "      <td>GasA</td>\n",
              "      <td>Ex</td>\n",
              "      <td>2Story</td>\n",
              "      <td>1</td>\n",
              "      <td>TA</td>\n",
              "      <td>Lvl</td>\n",
              "      <td>Gtl</td>\n",
              "      <td>8702</td>\n",
              "      <td>Inside</td>\n",
              "      <td>IR1</td>\n",
              "      <td>60</td>\n",
              "      <td>RL</td>\n",
              "      <td>None</td>\n",
              "      <td>4</td>\n",
              "      <td>Gilbert</td>\n",
              "      <td>5</td>\n",
              "      <td>6</td>\n",
              "      <td>Y</td>\n",
              "      <td>CompShg</td>\n",
              "      <td>Gable</td>\n",
              "      <td>187500</td>\n",
              "      <td>Normal</td>\n",
              "      <td>WD</td>\n",
              "      <td>Pave</td>\n",
              "      <td>7</td>\n",
              "      <td>AllPub</td>\n",
              "      <td>1997</td>\n",
              "      <td>1998</td>\n",
              "      <td>2008</td>\n",
              "    </tr>\n",
              "    <tr>\n",
              "      <th>988</th>\n",
              "      <td>680</td>\n",
              "      <td>3</td>\n",
              "      <td>1Fam</td>\n",
              "      <td>0.0</td>\n",
              "      <td>0.0</td>\n",
              "      <td>Y</td>\n",
              "      <td>Norm</td>\n",
              "      <td>Norm</td>\n",
              "      <td>SBrkr</td>\n",
              "      <td>TA</td>\n",
              "      <td>TA</td>\n",
              "      <td>VinylSd</td>\n",
              "      <td>VinylSd</td>\n",
              "      <td>PConc</td>\n",
              "      <td>2</td>\n",
              "      <td>Typ</td>\n",
              "      <td>1470</td>\n",
              "      <td>1</td>\n",
              "      <td>GasA</td>\n",
              "      <td>Gd</td>\n",
              "      <td>2Story</td>\n",
              "      <td>1</td>\n",
              "      <td>TA</td>\n",
              "      <td>Lvl</td>\n",
              "      <td>Gtl</td>\n",
              "      <td>8139</td>\n",
              "      <td>Inside</td>\n",
              "      <td>Reg</td>\n",
              "      <td>60</td>\n",
              "      <td>RL</td>\n",
              "      <td>BrkFace</td>\n",
              "      <td>10</td>\n",
              "      <td>Gilbert</td>\n",
              "      <td>5</td>\n",
              "      <td>6</td>\n",
              "      <td>Y</td>\n",
              "      <td>CompShg</td>\n",
              "      <td>Gable</td>\n",
              "      <td>165000</td>\n",
              "      <td>Normal</td>\n",
              "      <td>WD</td>\n",
              "      <td>Pave</td>\n",
              "      <td>7</td>\n",
              "      <td>AllPub</td>\n",
              "      <td>1995</td>\n",
              "      <td>1996</td>\n",
              "      <td>2008</td>\n",
              "    </tr>\n",
              "  </tbody>\n",
              "</table>\n",
              "</div>"
            ],
            "text/plain": [
              "     1st_Flr_SF  Bedroom_AbvGr Bldg_Type  ...  Year_Built  Year_Remod/Add Yr_Sold\n",
              "984        1414              3      1Fam  ...        1958            2002    2008\n",
              "985        2117              4      1Fam  ...        1970            1970    2008\n",
              "986        1092              4      1Fam  ...        1969            1969    2008\n",
              "987         926              3      1Fam  ...        1997            1998    2008\n",
              "988         680              3      1Fam  ...        1995            1996    2008\n",
              "\n",
              "[5 rows x 47 columns]"
            ]
          },
          "metadata": {
            "tags": []
          },
          "execution_count": 121
        }
      ]
    },
    {
      "cell_type": "code",
      "metadata": {
        "id": "WSEx5fd2SYHN",
        "colab_type": "code",
        "colab": {
          "base_uri": "https://localhost:8080/",
          "height": 241
        },
        "outputId": "5e9d03a8-9374-4c9d-c4fa-0fafaedaecef"
      },
      "source": [
        "test.head()"
      ],
      "execution_count": 122,
      "outputs": [
        {
          "output_type": "execute_result",
          "data": {
            "text/html": [
              "<div>\n",
              "<style scoped>\n",
              "    .dataframe tbody tr th:only-of-type {\n",
              "        vertical-align: middle;\n",
              "    }\n",
              "\n",
              "    .dataframe tbody tr th {\n",
              "        vertical-align: top;\n",
              "    }\n",
              "\n",
              "    .dataframe thead th {\n",
              "        text-align: right;\n",
              "    }\n",
              "</style>\n",
              "<table border=\"1\" class=\"dataframe\">\n",
              "  <thead>\n",
              "    <tr style=\"text-align: right;\">\n",
              "      <th></th>\n",
              "      <th>1st_Flr_SF</th>\n",
              "      <th>Bedroom_AbvGr</th>\n",
              "      <th>Bldg_Type</th>\n",
              "      <th>Bsmt_Full_Bath</th>\n",
              "      <th>Bsmt_Half_Bath</th>\n",
              "      <th>Central_Air</th>\n",
              "      <th>Condition_1</th>\n",
              "      <th>Condition_2</th>\n",
              "      <th>Electrical</th>\n",
              "      <th>Exter_Cond</th>\n",
              "      <th>Exter_Qual</th>\n",
              "      <th>Exterior_1st</th>\n",
              "      <th>Exterior_2nd</th>\n",
              "      <th>Foundation</th>\n",
              "      <th>Full_Bath</th>\n",
              "      <th>Functional</th>\n",
              "      <th>Gr_Liv_Area</th>\n",
              "      <th>Half_Bath</th>\n",
              "      <th>Heating</th>\n",
              "      <th>Heating_QC</th>\n",
              "      <th>House_Style</th>\n",
              "      <th>Kitchen_AbvGr</th>\n",
              "      <th>Kitchen_Qual</th>\n",
              "      <th>Land_Contour</th>\n",
              "      <th>Land_Slope</th>\n",
              "      <th>Lot_Area</th>\n",
              "      <th>Lot_Config</th>\n",
              "      <th>Lot_Shape</th>\n",
              "      <th>MS_SubClass</th>\n",
              "      <th>MS_Zoning</th>\n",
              "      <th>Mas_Vnr_Type</th>\n",
              "      <th>Mo_Sold</th>\n",
              "      <th>Neighborhood</th>\n",
              "      <th>Overall_Cond</th>\n",
              "      <th>Overall_Qual</th>\n",
              "      <th>Paved_Drive</th>\n",
              "      <th>Roof_Matl</th>\n",
              "      <th>Roof_Style</th>\n",
              "      <th>SalePrice</th>\n",
              "      <th>Sale_Condition</th>\n",
              "      <th>Sale_Type</th>\n",
              "      <th>Street</th>\n",
              "      <th>TotRms_AbvGrd</th>\n",
              "      <th>Utilities</th>\n",
              "      <th>Year_Built</th>\n",
              "      <th>Year_Remod/Add</th>\n",
              "      <th>Yr_Sold</th>\n",
              "    </tr>\n",
              "  </thead>\n",
              "  <tbody>\n",
              "    <tr>\n",
              "      <th>0</th>\n",
              "      <td>1656</td>\n",
              "      <td>3</td>\n",
              "      <td>1Fam</td>\n",
              "      <td>1.0</td>\n",
              "      <td>0.0</td>\n",
              "      <td>Y</td>\n",
              "      <td>Norm</td>\n",
              "      <td>Norm</td>\n",
              "      <td>SBrkr</td>\n",
              "      <td>TA</td>\n",
              "      <td>TA</td>\n",
              "      <td>BrkFace</td>\n",
              "      <td>Plywood</td>\n",
              "      <td>CBlock</td>\n",
              "      <td>1</td>\n",
              "      <td>Typ</td>\n",
              "      <td>1656</td>\n",
              "      <td>0</td>\n",
              "      <td>GasA</td>\n",
              "      <td>Fa</td>\n",
              "      <td>1Story</td>\n",
              "      <td>1</td>\n",
              "      <td>TA</td>\n",
              "      <td>Lvl</td>\n",
              "      <td>Gtl</td>\n",
              "      <td>31770</td>\n",
              "      <td>Corner</td>\n",
              "      <td>IR1</td>\n",
              "      <td>20</td>\n",
              "      <td>RL</td>\n",
              "      <td>Stone</td>\n",
              "      <td>5</td>\n",
              "      <td>NAmes</td>\n",
              "      <td>5</td>\n",
              "      <td>6</td>\n",
              "      <td>P</td>\n",
              "      <td>CompShg</td>\n",
              "      <td>Hip</td>\n",
              "      <td>215000</td>\n",
              "      <td>Normal</td>\n",
              "      <td>WD</td>\n",
              "      <td>Pave</td>\n",
              "      <td>7</td>\n",
              "      <td>AllPub</td>\n",
              "      <td>1960</td>\n",
              "      <td>1960</td>\n",
              "      <td>2010</td>\n",
              "    </tr>\n",
              "    <tr>\n",
              "      <th>1</th>\n",
              "      <td>896</td>\n",
              "      <td>2</td>\n",
              "      <td>1Fam</td>\n",
              "      <td>0.0</td>\n",
              "      <td>0.0</td>\n",
              "      <td>Y</td>\n",
              "      <td>Feedr</td>\n",
              "      <td>Norm</td>\n",
              "      <td>SBrkr</td>\n",
              "      <td>TA</td>\n",
              "      <td>TA</td>\n",
              "      <td>VinylSd</td>\n",
              "      <td>VinylSd</td>\n",
              "      <td>CBlock</td>\n",
              "      <td>1</td>\n",
              "      <td>Typ</td>\n",
              "      <td>896</td>\n",
              "      <td>0</td>\n",
              "      <td>GasA</td>\n",
              "      <td>TA</td>\n",
              "      <td>1Story</td>\n",
              "      <td>1</td>\n",
              "      <td>TA</td>\n",
              "      <td>Lvl</td>\n",
              "      <td>Gtl</td>\n",
              "      <td>11622</td>\n",
              "      <td>Inside</td>\n",
              "      <td>Reg</td>\n",
              "      <td>20</td>\n",
              "      <td>RH</td>\n",
              "      <td>None</td>\n",
              "      <td>6</td>\n",
              "      <td>NAmes</td>\n",
              "      <td>6</td>\n",
              "      <td>5</td>\n",
              "      <td>Y</td>\n",
              "      <td>CompShg</td>\n",
              "      <td>Gable</td>\n",
              "      <td>105000</td>\n",
              "      <td>Normal</td>\n",
              "      <td>WD</td>\n",
              "      <td>Pave</td>\n",
              "      <td>5</td>\n",
              "      <td>AllPub</td>\n",
              "      <td>1961</td>\n",
              "      <td>1961</td>\n",
              "      <td>2010</td>\n",
              "    </tr>\n",
              "    <tr>\n",
              "      <th>2</th>\n",
              "      <td>1329</td>\n",
              "      <td>3</td>\n",
              "      <td>1Fam</td>\n",
              "      <td>0.0</td>\n",
              "      <td>0.0</td>\n",
              "      <td>Y</td>\n",
              "      <td>Norm</td>\n",
              "      <td>Norm</td>\n",
              "      <td>SBrkr</td>\n",
              "      <td>TA</td>\n",
              "      <td>TA</td>\n",
              "      <td>Wd Sdng</td>\n",
              "      <td>Wd Sdng</td>\n",
              "      <td>CBlock</td>\n",
              "      <td>1</td>\n",
              "      <td>Typ</td>\n",
              "      <td>1329</td>\n",
              "      <td>1</td>\n",
              "      <td>GasA</td>\n",
              "      <td>TA</td>\n",
              "      <td>1Story</td>\n",
              "      <td>1</td>\n",
              "      <td>Gd</td>\n",
              "      <td>Lvl</td>\n",
              "      <td>Gtl</td>\n",
              "      <td>14267</td>\n",
              "      <td>Corner</td>\n",
              "      <td>IR1</td>\n",
              "      <td>20</td>\n",
              "      <td>RL</td>\n",
              "      <td>BrkFace</td>\n",
              "      <td>6</td>\n",
              "      <td>NAmes</td>\n",
              "      <td>6</td>\n",
              "      <td>6</td>\n",
              "      <td>Y</td>\n",
              "      <td>CompShg</td>\n",
              "      <td>Hip</td>\n",
              "      <td>172000</td>\n",
              "      <td>Normal</td>\n",
              "      <td>WD</td>\n",
              "      <td>Pave</td>\n",
              "      <td>6</td>\n",
              "      <td>AllPub</td>\n",
              "      <td>1958</td>\n",
              "      <td>1958</td>\n",
              "      <td>2010</td>\n",
              "    </tr>\n",
              "    <tr>\n",
              "      <th>3</th>\n",
              "      <td>2110</td>\n",
              "      <td>3</td>\n",
              "      <td>1Fam</td>\n",
              "      <td>1.0</td>\n",
              "      <td>0.0</td>\n",
              "      <td>Y</td>\n",
              "      <td>Norm</td>\n",
              "      <td>Norm</td>\n",
              "      <td>SBrkr</td>\n",
              "      <td>TA</td>\n",
              "      <td>Gd</td>\n",
              "      <td>BrkFace</td>\n",
              "      <td>BrkFace</td>\n",
              "      <td>CBlock</td>\n",
              "      <td>2</td>\n",
              "      <td>Typ</td>\n",
              "      <td>2110</td>\n",
              "      <td>1</td>\n",
              "      <td>GasA</td>\n",
              "      <td>Ex</td>\n",
              "      <td>1Story</td>\n",
              "      <td>1</td>\n",
              "      <td>Ex</td>\n",
              "      <td>Lvl</td>\n",
              "      <td>Gtl</td>\n",
              "      <td>11160</td>\n",
              "      <td>Corner</td>\n",
              "      <td>Reg</td>\n",
              "      <td>20</td>\n",
              "      <td>RL</td>\n",
              "      <td>None</td>\n",
              "      <td>4</td>\n",
              "      <td>NAmes</td>\n",
              "      <td>5</td>\n",
              "      <td>7</td>\n",
              "      <td>Y</td>\n",
              "      <td>CompShg</td>\n",
              "      <td>Hip</td>\n",
              "      <td>244000</td>\n",
              "      <td>Normal</td>\n",
              "      <td>WD</td>\n",
              "      <td>Pave</td>\n",
              "      <td>8</td>\n",
              "      <td>AllPub</td>\n",
              "      <td>1968</td>\n",
              "      <td>1968</td>\n",
              "      <td>2010</td>\n",
              "    </tr>\n",
              "    <tr>\n",
              "      <th>4</th>\n",
              "      <td>928</td>\n",
              "      <td>3</td>\n",
              "      <td>1Fam</td>\n",
              "      <td>0.0</td>\n",
              "      <td>0.0</td>\n",
              "      <td>Y</td>\n",
              "      <td>Norm</td>\n",
              "      <td>Norm</td>\n",
              "      <td>SBrkr</td>\n",
              "      <td>TA</td>\n",
              "      <td>TA</td>\n",
              "      <td>VinylSd</td>\n",
              "      <td>VinylSd</td>\n",
              "      <td>PConc</td>\n",
              "      <td>2</td>\n",
              "      <td>Typ</td>\n",
              "      <td>1629</td>\n",
              "      <td>1</td>\n",
              "      <td>GasA</td>\n",
              "      <td>Gd</td>\n",
              "      <td>2Story</td>\n",
              "      <td>1</td>\n",
              "      <td>TA</td>\n",
              "      <td>Lvl</td>\n",
              "      <td>Gtl</td>\n",
              "      <td>13830</td>\n",
              "      <td>Inside</td>\n",
              "      <td>IR1</td>\n",
              "      <td>60</td>\n",
              "      <td>RL</td>\n",
              "      <td>None</td>\n",
              "      <td>3</td>\n",
              "      <td>Gilbert</td>\n",
              "      <td>5</td>\n",
              "      <td>5</td>\n",
              "      <td>Y</td>\n",
              "      <td>CompShg</td>\n",
              "      <td>Gable</td>\n",
              "      <td>189900</td>\n",
              "      <td>Normal</td>\n",
              "      <td>WD</td>\n",
              "      <td>Pave</td>\n",
              "      <td>6</td>\n",
              "      <td>AllPub</td>\n",
              "      <td>1997</td>\n",
              "      <td>1998</td>\n",
              "      <td>2010</td>\n",
              "    </tr>\n",
              "  </tbody>\n",
              "</table>\n",
              "</div>"
            ],
            "text/plain": [
              "   1st_Flr_SF  Bedroom_AbvGr Bldg_Type  ...  Year_Built  Year_Remod/Add Yr_Sold\n",
              "0        1656              3      1Fam  ...        1960            1960    2010\n",
              "1         896              2      1Fam  ...        1961            1961    2010\n",
              "2        1329              3      1Fam  ...        1958            1958    2010\n",
              "3        2110              3      1Fam  ...        1968            1968    2010\n",
              "4         928              3      1Fam  ...        1997            1998    2010\n",
              "\n",
              "[5 rows x 47 columns]"
            ]
          },
          "metadata": {
            "tags": []
          },
          "execution_count": 122
        }
      ]
    },
    {
      "cell_type": "code",
      "metadata": {
        "id": "2w-TMqdCTXpr",
        "colab_type": "code",
        "colab": {
          "base_uri": "https://localhost:8080/",
          "height": 241
        },
        "outputId": "f9fa733e-bdfd-443f-c202-e9a253e9c0e1"
      },
      "source": [
        "validate.head()"
      ],
      "execution_count": 123,
      "outputs": [
        {
          "output_type": "execute_result",
          "data": {
            "text/html": [
              "<div>\n",
              "<style scoped>\n",
              "    .dataframe tbody tr th:only-of-type {\n",
              "        vertical-align: middle;\n",
              "    }\n",
              "\n",
              "    .dataframe tbody tr th {\n",
              "        vertical-align: top;\n",
              "    }\n",
              "\n",
              "    .dataframe thead th {\n",
              "        text-align: right;\n",
              "    }\n",
              "</style>\n",
              "<table border=\"1\" class=\"dataframe\">\n",
              "  <thead>\n",
              "    <tr style=\"text-align: right;\">\n",
              "      <th></th>\n",
              "      <th>1st_Flr_SF</th>\n",
              "      <th>Bedroom_AbvGr</th>\n",
              "      <th>Bldg_Type</th>\n",
              "      <th>Bsmt_Full_Bath</th>\n",
              "      <th>Bsmt_Half_Bath</th>\n",
              "      <th>Central_Air</th>\n",
              "      <th>Condition_1</th>\n",
              "      <th>Condition_2</th>\n",
              "      <th>Electrical</th>\n",
              "      <th>Exter_Cond</th>\n",
              "      <th>Exter_Qual</th>\n",
              "      <th>Exterior_1st</th>\n",
              "      <th>Exterior_2nd</th>\n",
              "      <th>Foundation</th>\n",
              "      <th>Full_Bath</th>\n",
              "      <th>Functional</th>\n",
              "      <th>Gr_Liv_Area</th>\n",
              "      <th>Half_Bath</th>\n",
              "      <th>Heating</th>\n",
              "      <th>Heating_QC</th>\n",
              "      <th>House_Style</th>\n",
              "      <th>Kitchen_AbvGr</th>\n",
              "      <th>Kitchen_Qual</th>\n",
              "      <th>Land_Contour</th>\n",
              "      <th>Land_Slope</th>\n",
              "      <th>Lot_Area</th>\n",
              "      <th>Lot_Config</th>\n",
              "      <th>Lot_Shape</th>\n",
              "      <th>MS_SubClass</th>\n",
              "      <th>MS_Zoning</th>\n",
              "      <th>Mas_Vnr_Type</th>\n",
              "      <th>Mo_Sold</th>\n",
              "      <th>Neighborhood</th>\n",
              "      <th>Overall_Cond</th>\n",
              "      <th>Overall_Qual</th>\n",
              "      <th>Paved_Drive</th>\n",
              "      <th>Roof_Matl</th>\n",
              "      <th>Roof_Style</th>\n",
              "      <th>SalePrice</th>\n",
              "      <th>Sale_Condition</th>\n",
              "      <th>Sale_Type</th>\n",
              "      <th>Street</th>\n",
              "      <th>TotRms_AbvGrd</th>\n",
              "      <th>Utilities</th>\n",
              "      <th>Year_Built</th>\n",
              "      <th>Year_Remod/Add</th>\n",
              "      <th>Yr_Sold</th>\n",
              "    </tr>\n",
              "  </thead>\n",
              "  <tbody>\n",
              "    <tr>\n",
              "      <th>340</th>\n",
              "      <td>882</td>\n",
              "      <td>2</td>\n",
              "      <td>1Fam</td>\n",
              "      <td>0.0</td>\n",
              "      <td>0.0</td>\n",
              "      <td>Y</td>\n",
              "      <td>Norm</td>\n",
              "      <td>Norm</td>\n",
              "      <td>SBrkr</td>\n",
              "      <td>TA</td>\n",
              "      <td>TA</td>\n",
              "      <td>MetalSd</td>\n",
              "      <td>MetalSd</td>\n",
              "      <td>CBlock</td>\n",
              "      <td>1</td>\n",
              "      <td>Typ</td>\n",
              "      <td>882</td>\n",
              "      <td>0</td>\n",
              "      <td>GasA</td>\n",
              "      <td>TA</td>\n",
              "      <td>1Story</td>\n",
              "      <td>1</td>\n",
              "      <td>TA</td>\n",
              "      <td>Lvl</td>\n",
              "      <td>Gtl</td>\n",
              "      <td>13008</td>\n",
              "      <td>Inside</td>\n",
              "      <td>IR1</td>\n",
              "      <td>20</td>\n",
              "      <td>RL</td>\n",
              "      <td>None</td>\n",
              "      <td>10</td>\n",
              "      <td>NAmes</td>\n",
              "      <td>5</td>\n",
              "      <td>6</td>\n",
              "      <td>Y</td>\n",
              "      <td>CompShg</td>\n",
              "      <td>Gable</td>\n",
              "      <td>124500</td>\n",
              "      <td>Normal</td>\n",
              "      <td>WD</td>\n",
              "      <td>Pave</td>\n",
              "      <td>5</td>\n",
              "      <td>AllPub</td>\n",
              "      <td>1956</td>\n",
              "      <td>1956</td>\n",
              "      <td>2009</td>\n",
              "    </tr>\n",
              "    <tr>\n",
              "      <th>341</th>\n",
              "      <td>1434</td>\n",
              "      <td>4</td>\n",
              "      <td>1Fam</td>\n",
              "      <td>1.0</td>\n",
              "      <td>0.0</td>\n",
              "      <td>Y</td>\n",
              "      <td>Norm</td>\n",
              "      <td>Norm</td>\n",
              "      <td>SBrkr</td>\n",
              "      <td>TA</td>\n",
              "      <td>TA</td>\n",
              "      <td>Plywood</td>\n",
              "      <td>Plywood</td>\n",
              "      <td>CBlock</td>\n",
              "      <td>2</td>\n",
              "      <td>Typ</td>\n",
              "      <td>1434</td>\n",
              "      <td>0</td>\n",
              "      <td>GasA</td>\n",
              "      <td>TA</td>\n",
              "      <td>1Story</td>\n",
              "      <td>1</td>\n",
              "      <td>TA</td>\n",
              "      <td>Lvl</td>\n",
              "      <td>Gtl</td>\n",
              "      <td>10200</td>\n",
              "      <td>Inside</td>\n",
              "      <td>Reg</td>\n",
              "      <td>20</td>\n",
              "      <td>RL</td>\n",
              "      <td>BrkFace</td>\n",
              "      <td>6</td>\n",
              "      <td>NAmes</td>\n",
              "      <td>5</td>\n",
              "      <td>6</td>\n",
              "      <td>Y</td>\n",
              "      <td>CompShg</td>\n",
              "      <td>Hip</td>\n",
              "      <td>157000</td>\n",
              "      <td>Normal</td>\n",
              "      <td>WD</td>\n",
              "      <td>Pave</td>\n",
              "      <td>7</td>\n",
              "      <td>AllPub</td>\n",
              "      <td>1974</td>\n",
              "      <td>1974</td>\n",
              "      <td>2009</td>\n",
              "    </tr>\n",
              "    <tr>\n",
              "      <th>342</th>\n",
              "      <td>2000</td>\n",
              "      <td>4</td>\n",
              "      <td>1Fam</td>\n",
              "      <td>1.0</td>\n",
              "      <td>0.0</td>\n",
              "      <td>Y</td>\n",
              "      <td>Norm</td>\n",
              "      <td>Norm</td>\n",
              "      <td>SBrkr</td>\n",
              "      <td>TA</td>\n",
              "      <td>Gd</td>\n",
              "      <td>Plywood</td>\n",
              "      <td>Wd Sdng</td>\n",
              "      <td>CBlock</td>\n",
              "      <td>2</td>\n",
              "      <td>Typ</td>\n",
              "      <td>2704</td>\n",
              "      <td>1</td>\n",
              "      <td>GasA</td>\n",
              "      <td>Gd</td>\n",
              "      <td>SLvl</td>\n",
              "      <td>1</td>\n",
              "      <td>Ex</td>\n",
              "      <td>Lvl</td>\n",
              "      <td>Gtl</td>\n",
              "      <td>13860</td>\n",
              "      <td>Inside</td>\n",
              "      <td>Reg</td>\n",
              "      <td>80</td>\n",
              "      <td>RL</td>\n",
              "      <td>None</td>\n",
              "      <td>7</td>\n",
              "      <td>NAmes</td>\n",
              "      <td>7</td>\n",
              "      <td>8</td>\n",
              "      <td>Y</td>\n",
              "      <td>CompShg</td>\n",
              "      <td>Gable</td>\n",
              "      <td>345000</td>\n",
              "      <td>Normal</td>\n",
              "      <td>WD</td>\n",
              "      <td>Pave</td>\n",
              "      <td>9</td>\n",
              "      <td>AllPub</td>\n",
              "      <td>1972</td>\n",
              "      <td>1995</td>\n",
              "      <td>2009</td>\n",
              "    </tr>\n",
              "    <tr>\n",
              "      <th>343</th>\n",
              "      <td>945</td>\n",
              "      <td>3</td>\n",
              "      <td>1Fam</td>\n",
              "      <td>0.0</td>\n",
              "      <td>0.0</td>\n",
              "      <td>Y</td>\n",
              "      <td>Norm</td>\n",
              "      <td>Norm</td>\n",
              "      <td>SBrkr</td>\n",
              "      <td>TA</td>\n",
              "      <td>TA</td>\n",
              "      <td>VinylSd</td>\n",
              "      <td>VinylSd</td>\n",
              "      <td>PConc</td>\n",
              "      <td>2</td>\n",
              "      <td>Typ</td>\n",
              "      <td>1608</td>\n",
              "      <td>1</td>\n",
              "      <td>GasA</td>\n",
              "      <td>Ex</td>\n",
              "      <td>2Story</td>\n",
              "      <td>1</td>\n",
              "      <td>TA</td>\n",
              "      <td>Lvl</td>\n",
              "      <td>Gtl</td>\n",
              "      <td>10179</td>\n",
              "      <td>Corner</td>\n",
              "      <td>IR1</td>\n",
              "      <td>60</td>\n",
              "      <td>RL</td>\n",
              "      <td>None</td>\n",
              "      <td>7</td>\n",
              "      <td>Gilbert</td>\n",
              "      <td>5</td>\n",
              "      <td>6</td>\n",
              "      <td>Y</td>\n",
              "      <td>CompShg</td>\n",
              "      <td>Gable</td>\n",
              "      <td>189500</td>\n",
              "      <td>Normal</td>\n",
              "      <td>WD</td>\n",
              "      <td>Pave</td>\n",
              "      <td>7</td>\n",
              "      <td>AllPub</td>\n",
              "      <td>1997</td>\n",
              "      <td>1997</td>\n",
              "      <td>2009</td>\n",
              "    </tr>\n",
              "    <tr>\n",
              "      <th>344</th>\n",
              "      <td>1008</td>\n",
              "      <td>4</td>\n",
              "      <td>1Fam</td>\n",
              "      <td>0.0</td>\n",
              "      <td>0.0</td>\n",
              "      <td>Y</td>\n",
              "      <td>Norm</td>\n",
              "      <td>Norm</td>\n",
              "      <td>SBrkr</td>\n",
              "      <td>TA</td>\n",
              "      <td>Gd</td>\n",
              "      <td>VinylSd</td>\n",
              "      <td>VinylSd</td>\n",
              "      <td>PConc</td>\n",
              "      <td>2</td>\n",
              "      <td>Typ</td>\n",
              "      <td>2283</td>\n",
              "      <td>1</td>\n",
              "      <td>GasA</td>\n",
              "      <td>Ex</td>\n",
              "      <td>2Story</td>\n",
              "      <td>1</td>\n",
              "      <td>Gd</td>\n",
              "      <td>Lvl</td>\n",
              "      <td>Gtl</td>\n",
              "      <td>11792</td>\n",
              "      <td>Inside</td>\n",
              "      <td>IR1</td>\n",
              "      <td>60</td>\n",
              "      <td>RL</td>\n",
              "      <td>BrkFace</td>\n",
              "      <td>8</td>\n",
              "      <td>Gilbert</td>\n",
              "      <td>5</td>\n",
              "      <td>8</td>\n",
              "      <td>Y</td>\n",
              "      <td>CompShg</td>\n",
              "      <td>Gable</td>\n",
              "      <td>270000</td>\n",
              "      <td>Normal</td>\n",
              "      <td>WD</td>\n",
              "      <td>Pave</td>\n",
              "      <td>9</td>\n",
              "      <td>AllPub</td>\n",
              "      <td>2003</td>\n",
              "      <td>2003</td>\n",
              "      <td>2009</td>\n",
              "    </tr>\n",
              "  </tbody>\n",
              "</table>\n",
              "</div>"
            ],
            "text/plain": [
              "     1st_Flr_SF  Bedroom_AbvGr Bldg_Type  ...  Year_Built  Year_Remod/Add Yr_Sold\n",
              "340         882              2      1Fam  ...        1956            1956    2009\n",
              "341        1434              4      1Fam  ...        1974            1974    2009\n",
              "342        2000              4      1Fam  ...        1972            1995    2009\n",
              "343         945              3      1Fam  ...        1997            1997    2009\n",
              "344        1008              4      1Fam  ...        2003            2003    2009\n",
              "\n",
              "[5 rows x 47 columns]"
            ]
          },
          "metadata": {
            "tags": []
          },
          "execution_count": 123
        }
      ]
    },
    {
      "cell_type": "code",
      "metadata": {
        "id": "uTuTv--7V-sm",
        "colab_type": "code",
        "colab": {}
      },
      "source": [
        "train_subset = train.select_dtypes('number').dropna(axis='columns')\n",
        "test_subset = test.select_dtypes('number').dropna(axis='columns')\n",
        "validate_subset = validate.select_dtypes('number').dropna(axis='columns')\n",
        "assert all(train_subset.columns == test_subset.columns)\n",
        "assert all(train_subset.columns == validate_subset.columns)"
      ],
      "execution_count": 0,
      "outputs": []
    },
    {
      "cell_type": "markdown",
      "metadata": {
        "id": "hk1bYDJy6txq",
        "colab_type": "text"
      },
      "source": [
        "## 2.3. Arrange data into X features matrix and y target vector\n",
        "\n",
        "Select at least one numeric feature and at least one categorical feature.\n",
        "\n",
        "Otherwise, you many choose whichever features and however many you want."
      ]
    },
    {
      "cell_type": "code",
      "metadata": {
        "id": "gmzU1XnSWLk9",
        "colab_type": "code",
        "colab": {
          "base_uri": "https://localhost:8080/",
          "height": 74
        },
        "outputId": "74a650f8-40a3-42fa-ef5f-414a5de4da5f"
      },
      "source": [
        "target = 'SalePrice'\n",
        "features = train_subset.columns.drop(target)\n",
        "\n",
        "X_train = train_subset[features]\n",
        "y_train = train_subset[target]\n",
        "\n",
        "X_test = test_subset[features]\n",
        "y_test = test_subset[target]\n",
        "\n",
        "X_validate = validate_subset[features]\n",
        "y_validate = validate_subset[target]\n",
        "\n",
        "X_train.shape, y_train.shape, X_test.shape, y_test.shape"
      ],
      "execution_count": 127,
      "outputs": [
        {
          "output_type": "execute_result",
          "data": {
            "text/plain": [
              "((1920, 17), (1920,), (340, 17), (340,))"
            ]
          },
          "metadata": {
            "tags": []
          },
          "execution_count": 127
        }
      ]
    },
    {
      "cell_type": "code",
      "metadata": {
        "id": "IXyEBWnpVLXZ",
        "colab_type": "code",
        "colab": {}
      },
      "source": [
        "# from sklearn.linear_model import LinearRegression\n",
        "# from sklearn.metrics import mean_absolute_error\n",
        "# from sklearn.feature_selection import f_regression, SelectKBest\n",
        "# for k in range(1, len(X_train.columns)+1):\n",
        "    \n",
        "#     print(f'{k} features')\n",
        "    \n",
        "#     selector = SelectKBest(score_func=f_regression, k=k)\n",
        "#     X_train_selected = selector.fit_transform(X_train, y_train)\n",
        "#     X_test_selected = selector.transform(X_test)\n",
        "    \n",
        "#     model = LinearRegression()\n",
        "#     model.fit(X_train_selected, y_train)\n",
        "#     y_pred = model.predict(X_test_selected)\n",
        "    \n",
        "#     mae = mean_absolute_error(y_test, y_pred)\n",
        "#     print(f'Test MAE: ${mae:,.0f} \\n')"
      ],
      "execution_count": 0,
      "outputs": []
    },
    {
      "cell_type": "markdown",
      "metadata": {
        "id": "1ZnDLJ-BYViB",
        "colab_type": "text"
      },
      "source": [
        "# Check \"cardinality\" of non-numeric features"
      ]
    },
    {
      "cell_type": "code",
      "metadata": {
        "id": "xQXP3_VLXvaF",
        "colab_type": "code",
        "colab": {
          "base_uri": "https://localhost:8080/",
          "height": 973
        },
        "outputId": "d4e3be3e-1b6f-4401-d68d-7ae4be206541"
      },
      "source": [
        "train.describe(exclude='number').T.sort_values(by='unique')\n"
      ],
      "execution_count": 72,
      "outputs": [
        {
          "output_type": "execute_result",
          "data": {
            "text/html": [
              "<div>\n",
              "<style scoped>\n",
              "    .dataframe tbody tr th:only-of-type {\n",
              "        vertical-align: middle;\n",
              "    }\n",
              "\n",
              "    .dataframe tbody tr th {\n",
              "        vertical-align: top;\n",
              "    }\n",
              "\n",
              "    .dataframe thead th {\n",
              "        text-align: right;\n",
              "    }\n",
              "</style>\n",
              "<table border=\"1\" class=\"dataframe\">\n",
              "  <thead>\n",
              "    <tr style=\"text-align: right;\">\n",
              "      <th></th>\n",
              "      <th>count</th>\n",
              "      <th>unique</th>\n",
              "      <th>top</th>\n",
              "      <th>freq</th>\n",
              "    </tr>\n",
              "  </thead>\n",
              "  <tbody>\n",
              "    <tr>\n",
              "      <th>Utilities</th>\n",
              "      <td>1920</td>\n",
              "      <td>2</td>\n",
              "      <td>AllPub</td>\n",
              "      <td>1919</td>\n",
              "    </tr>\n",
              "    <tr>\n",
              "      <th>Central_Air</th>\n",
              "      <td>1920</td>\n",
              "      <td>2</td>\n",
              "      <td>Y</td>\n",
              "      <td>1791</td>\n",
              "    </tr>\n",
              "    <tr>\n",
              "      <th>Street</th>\n",
              "      <td>1920</td>\n",
              "      <td>2</td>\n",
              "      <td>Pave</td>\n",
              "      <td>1912</td>\n",
              "    </tr>\n",
              "    <tr>\n",
              "      <th>Paved_Drive</th>\n",
              "      <td>1920</td>\n",
              "      <td>3</td>\n",
              "      <td>Y</td>\n",
              "      <td>1731</td>\n",
              "    </tr>\n",
              "    <tr>\n",
              "      <th>Land_Slope</th>\n",
              "      <td>1920</td>\n",
              "      <td>3</td>\n",
              "      <td>Gtl</td>\n",
              "      <td>1829</td>\n",
              "    </tr>\n",
              "    <tr>\n",
              "      <th>Lot_Shape</th>\n",
              "      <td>1920</td>\n",
              "      <td>4</td>\n",
              "      <td>Reg</td>\n",
              "      <td>1203</td>\n",
              "    </tr>\n",
              "    <tr>\n",
              "      <th>Land_Contour</th>\n",
              "      <td>1920</td>\n",
              "      <td>4</td>\n",
              "      <td>Lvl</td>\n",
              "      <td>1716</td>\n",
              "    </tr>\n",
              "    <tr>\n",
              "      <th>Kitchen_Qual</th>\n",
              "      <td>1920</td>\n",
              "      <td>4</td>\n",
              "      <td>TA</td>\n",
              "      <td>991</td>\n",
              "    </tr>\n",
              "    <tr>\n",
              "      <th>Exter_Qual</th>\n",
              "      <td>1920</td>\n",
              "      <td>4</td>\n",
              "      <td>TA</td>\n",
              "      <td>1197</td>\n",
              "    </tr>\n",
              "    <tr>\n",
              "      <th>Bldg_Type</th>\n",
              "      <td>1920</td>\n",
              "      <td>5</td>\n",
              "      <td>1Fam</td>\n",
              "      <td>1588</td>\n",
              "    </tr>\n",
              "    <tr>\n",
              "      <th>Heating_QC</th>\n",
              "      <td>1920</td>\n",
              "      <td>5</td>\n",
              "      <td>Ex</td>\n",
              "      <td>976</td>\n",
              "    </tr>\n",
              "    <tr>\n",
              "      <th>Exter_Cond</th>\n",
              "      <td>1920</td>\n",
              "      <td>5</td>\n",
              "      <td>TA</td>\n",
              "      <td>1683</td>\n",
              "    </tr>\n",
              "    <tr>\n",
              "      <th>Electrical</th>\n",
              "      <td>1920</td>\n",
              "      <td>5</td>\n",
              "      <td>SBrkr</td>\n",
              "      <td>1752</td>\n",
              "    </tr>\n",
              "    <tr>\n",
              "      <th>Lot_Config</th>\n",
              "      <td>1920</td>\n",
              "      <td>5</td>\n",
              "      <td>Inside</td>\n",
              "      <td>1418</td>\n",
              "    </tr>\n",
              "    <tr>\n",
              "      <th>Mas_Vnr_Type</th>\n",
              "      <td>1920</td>\n",
              "      <td>5</td>\n",
              "      <td>None</td>\n",
              "      <td>1151</td>\n",
              "    </tr>\n",
              "    <tr>\n",
              "      <th>Foundation</th>\n",
              "      <td>1920</td>\n",
              "      <td>6</td>\n",
              "      <td>PConc</td>\n",
              "      <td>863</td>\n",
              "    </tr>\n",
              "    <tr>\n",
              "      <th>Sale_Condition</th>\n",
              "      <td>1920</td>\n",
              "      <td>6</td>\n",
              "      <td>Normal</td>\n",
              "      <td>1542</td>\n",
              "    </tr>\n",
              "    <tr>\n",
              "      <th>Heating</th>\n",
              "      <td>1920</td>\n",
              "      <td>6</td>\n",
              "      <td>GasA</td>\n",
              "      <td>1892</td>\n",
              "    </tr>\n",
              "    <tr>\n",
              "      <th>Roof_Style</th>\n",
              "      <td>1920</td>\n",
              "      <td>6</td>\n",
              "      <td>Gable</td>\n",
              "      <td>1526</td>\n",
              "    </tr>\n",
              "    <tr>\n",
              "      <th>MS_Zoning</th>\n",
              "      <td>1920</td>\n",
              "      <td>7</td>\n",
              "      <td>RL</td>\n",
              "      <td>1485</td>\n",
              "    </tr>\n",
              "    <tr>\n",
              "      <th>Roof_Matl</th>\n",
              "      <td>1920</td>\n",
              "      <td>8</td>\n",
              "      <td>CompShg</td>\n",
              "      <td>1887</td>\n",
              "    </tr>\n",
              "    <tr>\n",
              "      <th>Condition_2</th>\n",
              "      <td>1920</td>\n",
              "      <td>8</td>\n",
              "      <td>Norm</td>\n",
              "      <td>1897</td>\n",
              "    </tr>\n",
              "    <tr>\n",
              "      <th>House_Style</th>\n",
              "      <td>1920</td>\n",
              "      <td>8</td>\n",
              "      <td>1Story</td>\n",
              "      <td>956</td>\n",
              "    </tr>\n",
              "    <tr>\n",
              "      <th>Functional</th>\n",
              "      <td>1920</td>\n",
              "      <td>8</td>\n",
              "      <td>Typ</td>\n",
              "      <td>1793</td>\n",
              "    </tr>\n",
              "    <tr>\n",
              "      <th>Condition_1</th>\n",
              "      <td>1920</td>\n",
              "      <td>9</td>\n",
              "      <td>Norm</td>\n",
              "      <td>1659</td>\n",
              "    </tr>\n",
              "    <tr>\n",
              "      <th>Sale_Type</th>\n",
              "      <td>1920</td>\n",
              "      <td>10</td>\n",
              "      <td>WD</td>\n",
              "      <td>1637</td>\n",
              "    </tr>\n",
              "    <tr>\n",
              "      <th>Exterior_1st</th>\n",
              "      <td>1920</td>\n",
              "      <td>16</td>\n",
              "      <td>VinylSd</td>\n",
              "      <td>656</td>\n",
              "    </tr>\n",
              "    <tr>\n",
              "      <th>Exterior_2nd</th>\n",
              "      <td>1920</td>\n",
              "      <td>16</td>\n",
              "      <td>VinylSd</td>\n",
              "      <td>652</td>\n",
              "    </tr>\n",
              "    <tr>\n",
              "      <th>Neighborhood</th>\n",
              "      <td>1920</td>\n",
              "      <td>28</td>\n",
              "      <td>NAmes</td>\n",
              "      <td>290</td>\n",
              "    </tr>\n",
              "  </tbody>\n",
              "</table>\n",
              "</div>"
            ],
            "text/plain": [
              "               count unique      top  freq\n",
              "Utilities       1920      2   AllPub  1919\n",
              "Central_Air     1920      2        Y  1791\n",
              "Street          1920      2     Pave  1912\n",
              "Paved_Drive     1920      3        Y  1731\n",
              "Land_Slope      1920      3      Gtl  1829\n",
              "Lot_Shape       1920      4      Reg  1203\n",
              "Land_Contour    1920      4      Lvl  1716\n",
              "Kitchen_Qual    1920      4       TA   991\n",
              "Exter_Qual      1920      4       TA  1197\n",
              "Bldg_Type       1920      5     1Fam  1588\n",
              "Heating_QC      1920      5       Ex   976\n",
              "Exter_Cond      1920      5       TA  1683\n",
              "Electrical      1920      5    SBrkr  1752\n",
              "Lot_Config      1920      5   Inside  1418\n",
              "Mas_Vnr_Type    1920      5     None  1151\n",
              "Foundation      1920      6    PConc   863\n",
              "Sale_Condition  1920      6   Normal  1542\n",
              "Heating         1920      6     GasA  1892\n",
              "Roof_Style      1920      6    Gable  1526\n",
              "MS_Zoning       1920      7       RL  1485\n",
              "Roof_Matl       1920      8  CompShg  1887\n",
              "Condition_2     1920      8     Norm  1897\n",
              "House_Style     1920      8   1Story   956\n",
              "Functional      1920      8      Typ  1793\n",
              "Condition_1     1920      9     Norm  1659\n",
              "Sale_Type       1920     10      WD   1637\n",
              "Exterior_1st    1920     16  VinylSd   656\n",
              "Exterior_2nd    1920     16  VinylSd   652\n",
              "Neighborhood    1920     28    NAmes   290"
            ]
          },
          "metadata": {
            "tags": []
          },
          "execution_count": 72
        }
      ]
    },
    {
      "cell_type": "markdown",
      "metadata": {
        "id": "pLUgWbhqYYof",
        "colab_type": "text"
      },
      "source": [
        "# Explore Land_Slope feature"
      ]
    },
    {
      "cell_type": "code",
      "metadata": {
        "id": "dUIlWuckVLOv",
        "colab_type": "code",
        "colab": {
          "base_uri": "https://localhost:8080/",
          "height": 125
        },
        "outputId": "b31e1dcb-7e7e-4764-ce3d-14312db64bf0"
      },
      "source": [
        "train['Land_Slope'].value_counts(normalize=True)"
      ],
      "execution_count": 78,
      "outputs": [
        {
          "output_type": "execute_result",
          "data": {
            "text/plain": [
              "Gtl    0.952604\n",
              "Mod    0.042188\n",
              "Sev    0.005208\n",
              "Name: Land_Slope, dtype: float64"
            ]
          },
          "metadata": {
            "tags": []
          },
          "execution_count": 78
        }
      ]
    },
    {
      "cell_type": "code",
      "metadata": {
        "id": "-ZQl1GaQVLK9",
        "colab_type": "code",
        "colab": {
          "base_uri": "https://localhost:8080/",
          "height": 140
        },
        "outputId": "fc3ae5af-5f15-44b6-d3da-cc9820b3efce"
      },
      "source": [
        "train.groupby('Land_Slope')['SalePrice'].mean()"
      ],
      "execution_count": 79,
      "outputs": [
        {
          "output_type": "execute_result",
          "data": {
            "text/plain": [
              "Land_Slope\n",
              "Gtl    180204.926189\n",
              "Mod    207184.617284\n",
              "Sev    213393.000000\n",
              "Name: SalePrice, dtype: float64"
            ]
          },
          "metadata": {
            "tags": []
          },
          "execution_count": 79
        }
      ]
    },
    {
      "cell_type": "code",
      "metadata": {
        "id": "BQOogYVrVLGr",
        "colab_type": "code",
        "colab": {
          "base_uri": "https://localhost:8080/",
          "height": 137
        },
        "outputId": "d3d0439a-3587-4606-f518-5c26c5f4fdaa"
      },
      "source": [
        "train['Land_Slope'].head()"
      ],
      "execution_count": 80,
      "outputs": [
        {
          "output_type": "execute_result",
          "data": {
            "text/plain": [
              "984    Gtl\n",
              "985    Gtl\n",
              "986    Gtl\n",
              "987    Gtl\n",
              "988    Gtl\n",
              "Name: Land_Slope, dtype: object"
            ]
          },
          "metadata": {
            "tags": []
          },
          "execution_count": 80
        }
      ]
    },
    {
      "cell_type": "code",
      "metadata": {
        "id": "Rst0VF9yVLDE",
        "colab_type": "code",
        "colab": {}
      },
      "source": [
        ""
      ],
      "execution_count": 0,
      "outputs": []
    },
    {
      "cell_type": "markdown",
      "metadata": {
        "id": "zDT-gSl_-Gwh",
        "colab_type": "text"
      },
      "source": [
        "## 2.4. Do one-hot encoding\n",
        "\n",
        "Encode your categorical feature(s)."
      ]
    },
    {
      "cell_type": "code",
      "metadata": {
        "id": "iqRywy6M7Jcr",
        "colab_type": "code",
        "colab": {
          "base_uri": "https://localhost:8080/",
          "height": 241
        },
        "outputId": "7a9b5186-2075-4847-a1d6-6f93d32d031f"
      },
      "source": [
        "import category_encoders as ce\n",
        "encoder = ce.OneHotEncoder(use_cat_names=True)\n",
        "encoded = encoder.fit_transform(train['Land_Slope'])\n",
        "encoded.head()"
      ],
      "execution_count": 82,
      "outputs": [
        {
          "output_type": "execute_result",
          "data": {
            "text/html": [
              "<div>\n",
              "<style scoped>\n",
              "    .dataframe tbody tr th:only-of-type {\n",
              "        vertical-align: middle;\n",
              "    }\n",
              "\n",
              "    .dataframe tbody tr th {\n",
              "        vertical-align: top;\n",
              "    }\n",
              "\n",
              "    .dataframe thead th {\n",
              "        text-align: right;\n",
              "    }\n",
              "</style>\n",
              "<table border=\"1\" class=\"dataframe\">\n",
              "  <thead>\n",
              "    <tr style=\"text-align: right;\">\n",
              "      <th></th>\n",
              "      <th>Land_Slope_Gtl</th>\n",
              "      <th>Land_Slope_Mod</th>\n",
              "      <th>Land_Slope_Sev</th>\n",
              "    </tr>\n",
              "  </thead>\n",
              "  <tbody>\n",
              "    <tr>\n",
              "      <th>984</th>\n",
              "      <td>1</td>\n",
              "      <td>0</td>\n",
              "      <td>0</td>\n",
              "    </tr>\n",
              "    <tr>\n",
              "      <th>985</th>\n",
              "      <td>1</td>\n",
              "      <td>0</td>\n",
              "      <td>0</td>\n",
              "    </tr>\n",
              "    <tr>\n",
              "      <th>986</th>\n",
              "      <td>1</td>\n",
              "      <td>0</td>\n",
              "      <td>0</td>\n",
              "    </tr>\n",
              "    <tr>\n",
              "      <th>987</th>\n",
              "      <td>1</td>\n",
              "      <td>0</td>\n",
              "      <td>0</td>\n",
              "    </tr>\n",
              "    <tr>\n",
              "      <th>988</th>\n",
              "      <td>1</td>\n",
              "      <td>0</td>\n",
              "      <td>0</td>\n",
              "    </tr>\n",
              "  </tbody>\n",
              "</table>\n",
              "</div>"
            ],
            "text/plain": [
              "     Land_Slope_Gtl  Land_Slope_Mod  Land_Slope_Sev\n",
              "984               1               0               0\n",
              "985               1               0               0\n",
              "986               1               0               0\n",
              "987               1               0               0\n",
              "988               1               0               0"
            ]
          },
          "metadata": {
            "tags": []
          },
          "execution_count": 82
        }
      ]
    },
    {
      "cell_type": "markdown",
      "metadata": {
        "id": "2ZceruUx-Vs-",
        "colab_type": "text"
      },
      "source": [
        "## 2.5. Use scikit-learn to fit a linear regression (or ridge regression) model\n",
        "Fit your model."
      ]
    },
    {
      "cell_type": "code",
      "metadata": {
        "id": "Kvy4Z0xv7eJF",
        "colab_type": "code",
        "colab": {}
      },
      "source": [
        "from sklearn.preprocessing import StandardScaler\n",
        "\n",
        "target = 'SalePrice'\n",
        "high_cardinality = ['Exterior_1st', 'Exterior_2nd', 'Neighborhood']\n",
        "features = train.columns.drop([target] + high_cardinality)\n",
        "\n",
        "X_train = train[features]\n",
        "y_train = train[target]\n",
        "\n",
        "X_test = test[features]\n",
        "y_test = test[target]\n",
        "\n",
        "X_validate = validate[features]\n",
        "y_validate = validate[target]\n",
        "\n",
        "encoder = ce.OneHotEncoder(use_cat_names=True)\n",
        "X_train_encoded = encoder.fit_transform(X_train)\n",
        "X_test_encoded = encoder.transform(X_test)\n",
        "X_validate_encoded = encoder.transform(X_validate)\n",
        "\n",
        "scaler = StandardScaler()\n",
        "X_train_scaled = scaler.fit_transform(X_train_encoded)\n",
        "X_test_scaled = scaler.transform(X_test_encoded)\n",
        "X_validate_scaled = scaler.transform(X_validate_encoded)\n"
      ],
      "execution_count": 0,
      "outputs": []
    },
    {
      "cell_type": "markdown",
      "metadata": {
        "id": "E9reASgw-i8T",
        "colab_type": "text"
      },
      "source": [
        "## 2.6. Report validation MAE and $R^2$\n",
        "\n",
        "What is your model's Mean Absolute Error and $R^2$ score on the validation set?"
      ]
    },
    {
      "cell_type": "code",
      "metadata": {
        "id": "q8GdnL4e7hyK",
        "colab_type": "code",
        "colab": {
          "base_uri": "https://localhost:8080/",
          "height": 1000
        },
        "outputId": "b59d1dc5-8b75-43e1-a4f3-eb1c045f58ea"
      },
      "source": [
        "import numpy as np\n",
        "# for k in range(1, len(X_train_encoded.columns)+1):\n",
        "#     print(f'{k} features')\n",
        "    \n",
        "#     selector = SelectKBest(score_func=f_regression, k=k)\n",
        "#     X_train_selected = selector.fit_transform(X_train_scaled, y_train)\n",
        "#     X_test_selected = selector.transform(X_test_scaled)\n",
        "    \n",
        "#     model = LinearRegression()\n",
        "#     model.fit(X_train_selected, y_train)\n",
        "#     #   model.fit(X_train, y_train)\n",
        "#     # y_pred_train = model.predict(X_train)\n",
        "#     # y_pred_test = model.predict(X_test)\n",
        "\n",
        "#     y_pred_test = model.predict(X_test_selected)\n",
        "#     mae = mean_absolute_error(y_test, y_pred)\n",
        "#     rmse= r2_score(y_test, y_test)\n",
        "#     print(f'Test R^2: ${rmse:,.0f} \\n')    \n",
        "#     print(f'Test MAE: ${mae:,.0f} \\n')\n",
        "for k in range(1, len(X_train_encoded.columns)+1):\n",
        "    print(f'\\n{k} features')\n",
        "    \n",
        "    selector = SelectKBest(score_func=f_regression, k=k)\n",
        "    X_train_selected = selector.fit_transform(X_train_scaled, y_train)\n",
        "    X_test_selected = selector.transform(X_test_scaled)\n",
        "    X_validate_selected = selector.transform(X_validate_scaled)\n",
        "\n",
        "\n",
        "    model = LinearRegression()\n",
        "    model.fit(X_train_selected, y_train)\n",
        "    y_pred_train = model.predict(X_train_selected)\n",
        "    y_pred_test = model.predict(X_test_selected)\n",
        "    y_pred_validate = model.predict(X_validate_selected)\n",
        "\n",
        "    train_rmse=np.sqrt(mean_squared_error(y_train, y_pred_train)) #standard deviation of prediction errors of train data. means how spread out are my prediction errors\n",
        "    test_rmse=np.sqrt(mean_squared_error(y_test, y_pred_test))#standard deviation of prediction errors of test data\n",
        "    \n",
        "    train_mae= mean_absolute_error(y_train, y_pred_train)#the exact amount of my measure, not negative numbers\n",
        "    test_mae=mean_absolute_error(y_test, y_pred_test)\n",
        "    val_mae=mean_absolute_error(y_validate, y_pred_validate)####################\n",
        "\n",
        "    train_r2score=r2_score(y_train, y_pred_train)#coeficient of determination. how well the regression predictions approximate the real data points\n",
        "    test_r2score=r2_score(y_test, y_pred_test)\n",
        "    validate_r2score=r2_score(y_validate, y_pred_validate)\n",
        "\n",
        "    # print('Train_RMSE:', train_rmse)\n",
        "    # print('Test Root Mean Square Error:', test_rmse)\n",
        "    # print(f'Train MAE: ${train_mae:,.0f}')\n",
        "    # print(f'Test MAE: ${test_mae:,.0f} ')\n",
        "    print(f'Validate MAE: ${val_mae:,.0f}')\n",
        "\n",
        "\n",
        "    # print('Train R^2 Score:',train_r2score)\n",
        "    # print('Test R^2 Score:',test_r2score)\n",
        "    print('Validate R^2 Score:',validate_r2score)\n"
      ],
      "execution_count": 142,
      "outputs": [
        {
          "output_type": "stream",
          "text": [
            "\n",
            "1 features\n",
            "Validate MAE: $33,203\n",
            "Validate R^2 Score: 0.6725057846034581\n",
            "\n",
            "2 features\n",
            "Validate MAE: $29,410\n",
            "Validate R^2 Score: 0.7428505249356503\n",
            "\n",
            "3 features\n",
            "Validate MAE: $26,847\n",
            "Validate R^2 Score: 0.783979225886022\n",
            "\n",
            "4 features\n",
            "Validate MAE: $25,911\n",
            "Validate R^2 Score: 0.7947894236650834\n",
            "\n",
            "5 features\n",
            "Validate MAE: $25,928\n",
            "Validate R^2 Score: 0.7947048757251786\n",
            "\n",
            "6 features\n",
            "Validate MAE: $24,681\n",
            "Validate R^2 Score: 0.8083014621050855\n",
            "\n",
            "7 features\n",
            "Validate MAE: $24,561\n",
            "Validate R^2 Score: 0.8104354644378484\n",
            "\n",
            "8 features\n",
            "Validate MAE: $24,455\n",
            "Validate R^2 Score: 0.8118919425156428\n",
            "\n",
            "9 features\n",
            "Validate MAE: $24,472\n",
            "Validate R^2 Score: 0.8118493354379854\n",
            "\n",
            "10 features\n",
            "Validate MAE: $22,310\n",
            "Validate R^2 Score: 0.8448393210391256\n",
            "\n",
            "11 features\n",
            "Validate MAE: $22,152\n",
            "Validate R^2 Score: 0.8451327127999266\n",
            "\n",
            "12 features\n",
            "Validate MAE: $21,936\n",
            "Validate R^2 Score: 0.8504841712628327\n",
            "\n",
            "13 features\n",
            "Validate MAE: $21,946\n",
            "Validate R^2 Score: 0.8509144550702231\n",
            "\n",
            "14 features\n",
            "Validate MAE: $21,853\n",
            "Validate R^2 Score: 0.8535165627096344\n",
            "\n",
            "15 features\n",
            "Validate MAE: $21,778\n",
            "Validate R^2 Score: 0.8537774738844187\n",
            "\n",
            "16 features\n",
            "Validate MAE: $21,669\n",
            "Validate R^2 Score: 0.8540469243897368\n",
            "\n",
            "17 features\n",
            "Validate MAE: $21,662\n",
            "Validate R^2 Score: 0.8542085383145301\n",
            "\n",
            "18 features\n",
            "Validate MAE: $21,619\n",
            "Validate R^2 Score: 0.8542288557317965\n",
            "\n",
            "19 features\n",
            "Validate MAE: $21,643\n",
            "Validate R^2 Score: 0.8540037039021737\n",
            "\n",
            "20 features\n",
            "Validate MAE: $21,588\n",
            "Validate R^2 Score: 0.8543353972500242\n",
            "\n",
            "21 features\n",
            "Validate MAE: $21,233\n",
            "Validate R^2 Score: 0.8568353978771188\n",
            "\n",
            "22 features\n",
            "Validate MAE: $21,220\n",
            "Validate R^2 Score: 0.8566577631071324\n",
            "\n",
            "23 features\n",
            "Validate MAE: $21,376\n",
            "Validate R^2 Score: 0.8552914426364115\n",
            "\n",
            "24 features\n",
            "Validate MAE: $21,634\n",
            "Validate R^2 Score: 0.850847730210839\n",
            "\n",
            "25 features\n",
            "Validate MAE: $21,480\n",
            "Validate R^2 Score: 0.8524334884921706\n",
            "\n",
            "26 features\n",
            "Validate MAE: $21,478\n",
            "Validate R^2 Score: 0.8522788391310229\n",
            "\n",
            "27 features\n",
            "Validate MAE: $21,483\n",
            "Validate R^2 Score: 0.8519598195778062\n",
            "\n",
            "28 features\n",
            "Validate MAE: $21,492\n",
            "Validate R^2 Score: 0.851844274259341\n",
            "\n",
            "29 features\n",
            "Validate MAE: $21,064\n",
            "Validate R^2 Score: 0.8584174761415051\n",
            "\n",
            "30 features\n",
            "Validate MAE: $21,072\n",
            "Validate R^2 Score: 0.8586346581771569\n",
            "\n",
            "31 features\n",
            "Validate MAE: $21,072\n",
            "Validate R^2 Score: 0.8586346581771571\n",
            "\n",
            "32 features\n",
            "Validate MAE: $21,111\n",
            "Validate R^2 Score: 0.8584031712939744\n",
            "\n",
            "33 features\n",
            "Validate MAE: $20,710\n",
            "Validate R^2 Score: 0.8636271001316255\n",
            "\n",
            "34 features\n",
            "Validate MAE: $20,907\n",
            "Validate R^2 Score: 0.8615132478493513\n",
            "\n",
            "35 features\n",
            "Validate MAE: $21,107\n",
            "Validate R^2 Score: 0.8601068672277629\n",
            "\n",
            "36 features\n",
            "Validate MAE: $21,032\n",
            "Validate R^2 Score: 0.8606646949516858\n",
            "\n",
            "37 features\n",
            "Validate MAE: $20,910\n",
            "Validate R^2 Score: 0.862172351382503\n",
            "\n",
            "38 features\n",
            "Validate MAE: $20,909\n",
            "Validate R^2 Score: 0.8621479658767204\n",
            "\n",
            "39 features\n",
            "Validate MAE: $20,915\n",
            "Validate R^2 Score: 0.8621021006776399\n",
            "\n",
            "40 features\n",
            "Validate MAE: $20,952\n",
            "Validate R^2 Score: 0.8616440995630732\n",
            "\n",
            "41 features\n",
            "Validate MAE: $20,964\n",
            "Validate R^2 Score: 0.8615968059339194\n",
            "\n",
            "42 features\n",
            "Validate MAE: $20,999\n",
            "Validate R^2 Score: 0.8589301259497227\n",
            "\n",
            "43 features\n",
            "Validate MAE: $20,891\n",
            "Validate R^2 Score: 0.8605458106413083\n",
            "\n",
            "44 features\n",
            "Validate MAE: $20,816\n",
            "Validate R^2 Score: 0.8616107082651943\n",
            "\n",
            "45 features\n",
            "Validate MAE: $20,892\n",
            "Validate R^2 Score: 0.8627794533838559\n",
            "\n",
            "46 features\n",
            "Validate MAE: $21,111\n",
            "Validate R^2 Score: 0.8597434456652826\n",
            "\n",
            "47 features\n",
            "Validate MAE: $21,111\n",
            "Validate R^2 Score: 0.8597434456652826\n",
            "\n",
            "48 features\n",
            "Validate MAE: $21,167\n",
            "Validate R^2 Score: 0.8593586718441524\n",
            "\n",
            "49 features\n",
            "Validate MAE: $21,193\n",
            "Validate R^2 Score: 0.8591553171943915\n",
            "\n",
            "50 features\n",
            "Validate MAE: $21,192\n",
            "Validate R^2 Score: 0.8591601018788457\n",
            "\n",
            "51 features\n",
            "Validate MAE: $21,186\n",
            "Validate R^2 Score: 0.8592593292707303\n",
            "\n",
            "52 features\n",
            "Validate MAE: $21,031\n",
            "Validate R^2 Score: 0.862364659825587\n",
            "\n",
            "53 features\n",
            "Validate MAE: $21,035\n",
            "Validate R^2 Score: 0.862435178569924\n",
            "\n",
            "54 features\n",
            "Validate MAE: $20,899\n",
            "Validate R^2 Score: 0.8636116203307739\n",
            "\n",
            "55 features\n",
            "Validate MAE: $20,713\n",
            "Validate R^2 Score: 0.8673727680525812\n",
            "\n",
            "56 features\n",
            "Validate MAE: $20,580\n",
            "Validate R^2 Score: 0.8686344482416268\n",
            "\n",
            "57 features\n",
            "Validate MAE: $20,432\n",
            "Validate R^2 Score: 0.869116547586478\n",
            "\n",
            "58 features\n",
            "Validate MAE: $20,425\n",
            "Validate R^2 Score: 0.8693259627941212\n",
            "\n",
            "59 features\n",
            "Validate MAE: $20,019\n",
            "Validate R^2 Score: 0.873359005026269\n",
            "\n",
            "60 features\n",
            "Validate MAE: $20,082\n",
            "Validate R^2 Score: 0.8728242974317761\n",
            "\n",
            "61 features\n",
            "Validate MAE: $20,174\n",
            "Validate R^2 Score: 0.8721427287879039\n",
            "\n",
            "62 features\n",
            "Validate MAE: $20,097\n",
            "Validate R^2 Score: 0.8728610327484342\n",
            "\n",
            "63 features\n",
            "Validate MAE: $20,081\n",
            "Validate R^2 Score: 0.8731871374824083\n",
            "\n",
            "64 features\n",
            "Validate MAE: $20,025\n",
            "Validate R^2 Score: 0.8752935006818462\n",
            "\n",
            "65 features\n",
            "Validate MAE: $20,034\n",
            "Validate R^2 Score: 0.8751755244105337\n",
            "\n",
            "66 features\n",
            "Validate MAE: $20,020\n",
            "Validate R^2 Score: 0.8739442248593536\n",
            "\n",
            "67 features\n",
            "Validate MAE: $19,952\n",
            "Validate R^2 Score: 0.8753474577701306\n",
            "\n",
            "68 features\n",
            "Validate MAE: $20,138\n",
            "Validate R^2 Score: 0.8748223421611845\n",
            "\n",
            "69 features\n",
            "Validate MAE: $20,102\n",
            "Validate R^2 Score: 0.8744930454778612\n",
            "\n",
            "70 features\n",
            "Validate MAE: $20,183\n",
            "Validate R^2 Score: 0.8737645776142628\n",
            "\n",
            "71 features\n",
            "Validate MAE: $20,211\n",
            "Validate R^2 Score: 0.8754109904798268\n",
            "\n",
            "72 features\n",
            "Validate MAE: $20,218\n",
            "Validate R^2 Score: 0.8752927429564423\n",
            "\n",
            "73 features\n",
            "Validate MAE: $20,220\n",
            "Validate R^2 Score: 0.8752657321997983\n",
            "\n",
            "74 features\n",
            "Validate MAE: $20,211\n",
            "Validate R^2 Score: 0.8754903275151564\n",
            "\n",
            "75 features\n",
            "Validate MAE: $20,528\n",
            "Validate R^2 Score: 0.8723183752220927\n",
            "\n",
            "76 features\n",
            "Validate MAE: $20,521\n",
            "Validate R^2 Score: 0.8723378777513828\n",
            "\n",
            "77 features\n",
            "Validate MAE: $20,541\n",
            "Validate R^2 Score: 0.8722803787798045\n",
            "\n",
            "78 features\n",
            "Validate MAE: $20,516\n",
            "Validate R^2 Score: 0.8723943220852717\n",
            "\n",
            "79 features\n",
            "Validate MAE: $20,585\n",
            "Validate R^2 Score: 0.8713135148777346\n",
            "\n",
            "80 features\n",
            "Validate MAE: $20,763\n",
            "Validate R^2 Score: 0.8689903299218904\n",
            "\n",
            "81 features\n",
            "Validate MAE: $20,764\n",
            "Validate R^2 Score: 0.8689863718119872\n",
            "\n",
            "82 features\n",
            "Validate MAE: $20,773\n",
            "Validate R^2 Score: 0.8688435130202387\n",
            "\n",
            "83 features\n",
            "Validate MAE: $20,769\n",
            "Validate R^2 Score: 0.8688686042579084\n",
            "\n",
            "84 features\n",
            "Validate MAE: $20,769\n",
            "Validate R^2 Score: 0.8688773376685571\n",
            "\n",
            "85 features\n",
            "Validate MAE: $20,803\n",
            "Validate R^2 Score: 0.869361440668939\n",
            "\n",
            "86 features\n",
            "Validate MAE: $20,801\n",
            "Validate R^2 Score: 0.8693473917683983\n",
            "\n",
            "87 features\n",
            "Validate MAE: $20,782\n",
            "Validate R^2 Score: 0.8692998279541008\n",
            "\n",
            "88 features\n",
            "Validate MAE: $21,066\n",
            "Validate R^2 Score: 0.8602070481437711\n",
            "\n",
            "89 features\n",
            "Validate MAE: $21,022\n",
            "Validate R^2 Score: 0.8606188367736785\n",
            "\n",
            "90 features\n",
            "Validate MAE: $21,040\n",
            "Validate R^2 Score: 0.8604524759045133\n",
            "\n",
            "91 features\n",
            "Validate MAE: $21,075\n",
            "Validate R^2 Score: 0.859983806824933\n",
            "\n",
            "92 features\n",
            "Validate MAE: $21,099\n",
            "Validate R^2 Score: 0.8597747588747031\n",
            "\n",
            "93 features\n",
            "Validate MAE: $20,976\n",
            "Validate R^2 Score: 0.8606945593667688\n",
            "\n",
            "94 features\n",
            "Validate MAE: $20,981\n",
            "Validate R^2 Score: 0.8606476954071544\n",
            "\n",
            "95 features\n",
            "Validate MAE: $20,984\n",
            "Validate R^2 Score: 0.8607013831384488\n",
            "\n",
            "96 features\n",
            "Validate MAE: $20,991\n",
            "Validate R^2 Score: 0.8605896697937354\n",
            "\n",
            "97 features\n",
            "Validate MAE: $20,989\n",
            "Validate R^2 Score: 0.860561866570845\n",
            "\n",
            "98 features\n",
            "Validate MAE: $20,982\n",
            "Validate R^2 Score: 0.8603664905098868\n",
            "\n",
            "99 features\n",
            "Validate MAE: $20,986\n",
            "Validate R^2 Score: 0.8603754364903731\n",
            "\n",
            "100 features\n",
            "Validate MAE: $21,045\n",
            "Validate R^2 Score: 0.8602050561669011\n",
            "\n",
            "101 features\n",
            "Validate MAE: $21,066\n",
            "Validate R^2 Score: 0.8601541240381285\n",
            "\n",
            "102 features\n",
            "Validate MAE: $21,062\n",
            "Validate R^2 Score: 0.8601472152990464\n",
            "\n",
            "103 features\n",
            "Validate MAE: $21,093\n",
            "Validate R^2 Score: 0.8599781790112336\n",
            "\n",
            "104 features\n",
            "Validate MAE: $21,113\n",
            "Validate R^2 Score: 0.8597468276554443\n",
            "\n",
            "105 features\n",
            "Validate MAE: $21,126\n",
            "Validate R^2 Score: 0.8597122540363675\n",
            "\n",
            "106 features\n",
            "Validate MAE: $21,141\n",
            "Validate R^2 Score: 0.8597444917798076\n",
            "\n",
            "107 features\n",
            "Validate MAE: $21,131\n",
            "Validate R^2 Score: 0.859789566993588\n",
            "\n",
            "108 features\n",
            "Validate MAE: $21,135\n",
            "Validate R^2 Score: 0.8597751596042242\n",
            "\n",
            "109 features\n",
            "Validate MAE: $21,142\n",
            "Validate R^2 Score: 0.8597215011447419\n",
            "\n",
            "110 features\n",
            "Validate MAE: $21,082\n",
            "Validate R^2 Score: 0.8602844948262431\n",
            "\n",
            "111 features\n",
            "Validate MAE: $21,349\n",
            "Validate R^2 Score: 0.8582681350317918\n",
            "\n",
            "112 features\n",
            "Validate MAE: $21,104\n",
            "Validate R^2 Score: 0.8597445309446194\n",
            "\n",
            "113 features\n",
            "Validate MAE: $21,104\n",
            "Validate R^2 Score: 0.8597455664770471\n",
            "\n",
            "114 features\n",
            "Validate MAE: $20,997\n",
            "Validate R^2 Score: 0.860727440433531\n",
            "\n",
            "115 features\n",
            "Validate MAE: $20,929\n",
            "Validate R^2 Score: 0.8605948234434362\n",
            "\n",
            "116 features\n",
            "Validate MAE: $20,936\n",
            "Validate R^2 Score: 0.8605802891080072\n",
            "\n",
            "117 features\n",
            "Validate MAE: $20,929\n",
            "Validate R^2 Score: 0.8608194019231545\n",
            "\n",
            "118 features\n",
            "Validate MAE: $20,981\n",
            "Validate R^2 Score: 0.8604315044833761\n",
            "\n",
            "119 features\n",
            "Validate MAE: $20,969\n",
            "Validate R^2 Score: 0.8605433292703589\n",
            "\n",
            "120 features\n",
            "Validate MAE: $20,975\n",
            "Validate R^2 Score: 0.860463619852289\n",
            "\n",
            "121 features\n",
            "Validate MAE: $20,966\n",
            "Validate R^2 Score: 0.8604898376135112\n",
            "\n",
            "122 features\n",
            "Validate MAE: $20,973\n",
            "Validate R^2 Score: 0.8603556398461609\n",
            "\n",
            "123 features\n",
            "Validate MAE: $20,985\n",
            "Validate R^2 Score: 0.860246147185\n",
            "\n",
            "124 features\n",
            "Validate MAE: $20,973\n",
            "Validate R^2 Score: 0.8604082473653134\n",
            "\n",
            "125 features\n",
            "Validate MAE: $20,981\n",
            "Validate R^2 Score: 0.8603220546516839\n",
            "\n",
            "126 features\n",
            "Validate MAE: $21,063\n",
            "Validate R^2 Score: 0.8594899236479432\n",
            "\n",
            "127 features\n",
            "Validate MAE: $20,986\n",
            "Validate R^2 Score: 0.8602775127188907\n",
            "\n",
            "128 features\n",
            "Validate MAE: $20,955\n",
            "Validate R^2 Score: 0.8604563462728763\n",
            "\n",
            "129 features\n",
            "Validate MAE: $20,956\n",
            "Validate R^2 Score: 0.8599835818091419\n",
            "\n",
            "130 features\n",
            "Validate MAE: $20,963\n",
            "Validate R^2 Score: 0.8599522071746268\n",
            "\n",
            "131 features\n",
            "Validate MAE: $21,077\n",
            "Validate R^2 Score: 0.8599705200429415\n",
            "\n",
            "132 features\n",
            "Validate MAE: $20,950\n",
            "Validate R^2 Score: 0.8581713319139661\n",
            "\n",
            "133 features\n",
            "Validate MAE: $20,798\n",
            "Validate R^2 Score: 0.8586619919358063\n",
            "\n",
            "134 features\n",
            "Validate MAE: $20,912\n",
            "Validate R^2 Score: 0.8585309146956579\n",
            "\n",
            "135 features\n",
            "Validate MAE: $2,474,562,610,246,076\n",
            "Validate R^2 Score: -6.0152825401201764e+23\n",
            "\n",
            "136 features\n",
            "Validate MAE: $11,821,527,268,677\n",
            "Validate R^2 Score: -1.3727969736295838e+19\n",
            "\n",
            "137 features\n",
            "Validate MAE: $218,586,377,309,691\n",
            "Validate R^2 Score: -4.6935918679581015e+21\n",
            "\n",
            "138 features\n",
            "Validate MAE: $42,604,268,029,138,936\n",
            "Validate R^2 Score: -1.7830575240604763e+26\n",
            "\n",
            "139 features\n",
            "Validate MAE: $685,865,977,833,854\n",
            "Validate R^2 Score: -4.621017982977256e+22\n",
            "\n",
            "140 features\n",
            "Validate MAE: $64,787,181,658,415,408\n",
            "Validate R^2 Score: -4.1232276512764706e+26\n",
            "\n",
            "141 features\n",
            "Validate MAE: $1,209,933,170,964,103\n",
            "Validate R^2 Score: -1.4380762189033351e+23\n",
            "\n",
            "142 features\n",
            "Validate MAE: $7,806,515,799,242,183\n",
            "Validate R^2 Score: -5.986508781743399e+24\n",
            "\n",
            "143 features\n",
            "Validate MAE: $29,490,474,231,811,576\n",
            "Validate R^2 Score: -8.543240863341512e+25\n",
            "\n",
            "144 features\n",
            "Validate MAE: $17,920,461,421,752,100\n",
            "Validate R^2 Score: -3.1546959887472424e+25\n",
            "\n",
            "145 features\n",
            "Validate MAE: $194,379,276,587,765\n",
            "Validate R^2 Score: -3.7115820082845885e+21\n",
            "\n",
            "146 features\n",
            "Validate MAE: $8,501,020,271,563,409\n",
            "Validate R^2 Score: -7.099066452738671e+24\n",
            "\n",
            "147 features\n",
            "Validate MAE: $10,469,744,237,942\n",
            "Validate R^2 Score: -1.076790663714106e+19\n",
            "\n",
            "148 features\n",
            "Validate MAE: $30,427,673,961,170,676\n",
            "Validate R^2 Score: -9.094873147455962e+25\n",
            "\n",
            "149 features\n",
            "Validate MAE: $34,986,190,379,992,648\n",
            "Validate R^2 Score: -1.2024096361500673e+26\n",
            "\n",
            "150 features\n",
            "Validate MAE: $2,175,340,489,280,485\n",
            "Validate R^2 Score: -4.6485084492337706e+23\n",
            "\n",
            "151 features\n",
            "Validate MAE: $173,280,485,367,806\n",
            "Validate R^2 Score: -2.949568247322044e+21\n",
            "\n",
            "152 features\n",
            "Validate MAE: $18,184,324,217,804\n",
            "Validate R^2 Score: -3.2482800818130153e+19\n",
            "\n",
            "153 features\n",
            "Validate MAE: $254,956,954,621,015\n",
            "Validate R^2 Score: -6.385469926306821e+21\n",
            "\n",
            "154 features\n",
            "Validate MAE: $1,417,634,011,078,854\n",
            "Validate R^2 Score: -1.974182900635279e+23\n",
            "\n",
            "155 features\n",
            "Validate MAE: $13,137,255,374,859,518\n",
            "Validate R^2 Score: -1.695385335734652e+25\n",
            "\n",
            "156 features\n",
            "Validate MAE: $1,066,362,080,305,622\n",
            "Validate R^2 Score: -1.117039483919542e+23\n",
            "\n",
            "157 features\n",
            "Validate MAE: $6,792,275,113,120,370\n",
            "Validate R^2 Score: -4.5319976321688223e+24\n"
          ],
          "name": "stdout"
        }
      ]
    },
    {
      "cell_type": "markdown",
      "metadata": {
        "id": "DidByDsrOa-o",
        "colab_type": "text"
      },
      "source": [
        "# Stretch Goals, Regression\n",
        "- Make visualizations to explore relationships between features and target\n",
        "- Try at least 3 feature combinations. You may select features manually, or automatically\n",
        "- Report validation MAE and $R^2$ for each feature combination you try\n",
        "- Report test MAE and $R^2$ for your final model\n",
        "- Print or plot the coefficients for the features in your model"
      ]
    },
    {
      "cell_type": "code",
      "metadata": {
        "id": "xOfSQIf3Y3OV",
        "colab_type": "code",
        "colab": {}
      },
      "source": [
        "# Make visualizations to explore relationships between features and target\n",
        "%matplotlib inline\n",
        "import matplotlib.pyplot as plt\n",
        "import seaborn as sns"
      ],
      "execution_count": 0,
      "outputs": []
    },
    {
      "cell_type": "code",
      "metadata": {
        "id": "qf0Y7pmJcXlh",
        "colab_type": "code",
        "colab": {}
      },
      "source": [
        "import plotly.express as px"
      ],
      "execution_count": 0,
      "outputs": []
    },
    {
      "cell_type": "code",
      "metadata": {
        "id": "QIONlOcagkWi",
        "colab_type": "code",
        "colab": {
          "base_uri": "https://localhost:8080/",
          "height": 1000
        },
        "outputId": "fa82df50-d693-42fd-f2d6-f30b4818b011"
      },
      "source": [
        "from sklearn.cluster import KMeans\n",
        "kmeans = KMeans(n_clusters=20, n_jobs=-1)\n",
        "train['cluster'] = kmeans.fit_predict(train[['Gr_Liv_Area', 'Lot_Area']])\n",
        "test['cluster'] = kmeans.predict(test[['Gr_Liv_Area', 'Lot_Area']])\n",
        "px.scatter(train,  x='Gr_Liv_Area', y='Lot_Area', color='cluster')"
      ],
      "execution_count": 110,
      "outputs": [
        {
          "output_type": "stream",
          "text": [
            "/usr/local/lib/python3.6/dist-packages/ipykernel_launcher.py:3: SettingWithCopyWarning:\n",
            "\n",
            "\n",
            "A value is trying to be set on a copy of a slice from a DataFrame.\n",
            "Try using .loc[row_indexer,col_indexer] = value instead\n",
            "\n",
            "See the caveats in the documentation: http://pandas.pydata.org/pandas-docs/stable/indexing.html#indexing-view-versus-copy\n",
            "\n",
            "/usr/local/lib/python3.6/dist-packages/ipykernel_launcher.py:4: SettingWithCopyWarning:\n",
            "\n",
            "\n",
            "A value is trying to be set on a copy of a slice from a DataFrame.\n",
            "Try using .loc[row_indexer,col_indexer] = value instead\n",
            "\n",
            "See the caveats in the documentation: http://pandas.pydata.org/pandas-docs/stable/indexing.html#indexing-view-versus-copy\n",
            "\n"
          ],
          "name": "stderr"
        },
        {
          "output_type": "display_data",
          "data": {
            "text/html": [
              "<html>\n",
              "<head><meta charset=\"utf-8\" /></head>\n",
              "<body>\n",
              "    <div>\n",
              "            <script src=\"https://cdnjs.cloudflare.com/ajax/libs/mathjax/2.7.5/MathJax.js?config=TeX-AMS-MML_SVG\"></script><script type=\"text/javascript\">if (window.MathJax) {MathJax.Hub.Config({SVG: {font: \"STIX-Web\"}});}</script>\n",
              "                <script type=\"text/javascript\">window.PlotlyConfig = {MathJaxConfig: 'local'};</script>\n",
              "        <script src=\"https://cdn.plot.ly/plotly-latest.min.js\"></script>    \n",
              "            <div id=\"9579a1a7-bbb2-4ce6-bd1c-3f1b3e15889a\" class=\"plotly-graph-div\" style=\"height:600px; width:100%;\"></div>\n",
              "            <script type=\"text/javascript\">\n",
              "                \n",
              "                    window.PLOTLYENV=window.PLOTLYENV || {};\n",
              "                    \n",
              "                if (document.getElementById(\"9579a1a7-bbb2-4ce6-bd1c-3f1b3e15889a\")) {\n",
              "                    Plotly.newPlot(\n",
              "                        '9579a1a7-bbb2-4ce6-bd1c-3f1b3e15889a',\n",
              "                        [{\"hoverlabel\": {\"namelength\": 0}, \"hovertemplate\": \"Gr_Liv_Area=%{x}<br>Lot_Area=%{y}<br>cluster=%{marker.color}\", \"legendgroup\": \"\", \"marker\": {\"color\": [12, 6, 12, 15, 15, 5, 5, 18, 6, 7, 13, 13, 13, 13, 12, 12, 15, 12, 6, 0, 13, 6, 12, 18, 4, 15, 8, 7, 1, 1, 12, 11, 6, 1, 6, 18, 12, 16, 1, 12, 16, 12, 16, 6, 5, 16, 16, 10, 1, 0, 19, 19, 19, 19, 19, 19, 19, 0, 19, 19, 16, 1, 1, 18, 18, 1, 6, 6, 6, 6, 1, 1, 5, 12, 1, 6, 12, 12, 11, 18, 16, 15, 1, 1, 5, 15, 13, 13, 19, 19, 15, 0, 0, 0, 0, 0, 5, 10, 16, 15, 15, 15, 10, 16, 15, 18, 1, 15, 5, 5, 6, 12, 1, 12, 1, 12, 12, 5, 12, 6, 1, 6, 1, 6, 6, 16, 1, 5, 5, 15, 15, 5, 5, 12, 12, 12, 10, 5, 10, 16, 1, 6, 6, 6, 15, 5, 15, 15, 15, 6, 15, 15, 10, 5, 15, 15, 5, 6, 15, 15, 13, 10, 7, 12, 5, 12, 0, 0, 0, 0, 0, 0, 19, 19, 0, 0, 0, 0, 13, 19, 19, 12, 19, 19, 0, 18, 12, 12, 12, 17, 18, 16, 12, 12, 12, 18, 5, 12, 15, 15, 15, 12, 6, 5, 6, 5, 5, 5, 1, 5, 10, 15, 15, 15, 16, 5, 5, 15, 5, 5, 16, 16, 12, 1, 12, 10, 0, 10, 0, 5, 16, 5, 5, 10, 6, 16, 15, 15, 5, 18, 10, 5, 10, 15, 16, 5, 6, 5, 1, 5, 16, 1, 5, 1, 6, 10, 10, 5, 15, 1, 16, 10, 12, 13, 12, 12, 5, 16, 12, 12, 1, 17, 15, 10, 10, 15, 15, 15, 15, 15, 13, 10, 10, 15, 10, 10, 10, 5, 10, 16, 13, 16, 5, 0, 12, 0, 13, 12, 12, 10, 10, 13, 12, 10, 13, 13, 1, 5, 10, 13, 13, 1, 11, 5, 1, 13, 0, 5, 5, 5, 13, 5, 12, 13, 13, 13, 6, 12, 12, 16, 1, 1, 15, 10, 10, 5, 10, 13, 13, 13, 13, 13, 13, 13, 13, 13, 13, 13, 13, 13, 13, 13, 13, 13, 13, 15, 6, 5, 5, 5, 16, 15, 13, 0, 13, 16, 10, 16, 10, 10, 15, 15, 13, 16, 16, 16, 16, 15, 7, 11, 16, 12, 12, 6, 10, 16, 16, 10, 16, 10, 1, 1, 15, 15, 5, 6, 6, 6, 6, 16, 12, 15, 16, 19, 5, 7, 14, 8, 12, 13, 16, 14, 7, 7, 6, 5, 5, 5, 15, 10, 12, 16, 5, 1, 5, 16, 6, 12, 12, 5, 1, 1, 12, 12, 12, 1, 16, 16, 5, 15, 6, 5, 5, 5, 5, 1, 1, 1, 12, 5, 15, 1, 12, 5, 6, 15, 10, 10, 5, 12, 12, 5, 12, 5, 5, 18, 12, 15, 12, 10, 1, 5, 0, 0, 6, 16, 5, 15, 16, 15, 15, 12, 12, 5, 15, 0, 0, 0, 0, 15, 5, 16, 16, 1, 13, 6, 16, 10, 16, 10, 10, 3, 0, 13, 13, 1, 10, 10, 1, 15, 16, 1, 15, 18, 10, 13, 13, 15, 13, 1, 15, 15, 10, 15, 5, 15, 5, 12, 18, 18, 13, 10, 12, 5, 10, 1, 1, 5, 10, 5, 6, 18, 1, 17, 18, 19, 19, 10, 13, 0, 13, 10, 15, 13, 10, 5, 6, 13, 15, 13, 11, 15, 13, 0, 0, 0, 17, 6, 12, 16, 16, 16, 16, 2, 0, 18, 1, 5, 1, 16, 1, 1, 1, 11, 16, 12, 15, 1, 12, 12, 5, 10, 5, 0, 6, 0, 19, 19, 19, 19, 11, 19, 19, 7, 13, 10, 10, 10, 10, 1, 1, 12, 8, 12, 16, 6, 18, 1, 16, 6, 15, 15, 13, 16, 15, 15, 15, 10, 16, 12, 5, 10, 11, 0, 13, 0, 13, 6, 1, 8, 14, 15, 15, 6, 6, 1, 12, 1, 1, 1, 12, 1, 1, 16, 1, 1, 16, 12, 6, 1, 1, 1, 5, 15, 16, 16, 10, 5, 15, 16, 15, 10, 11, 15, 0, 0, 12, 19, 19, 19, 19, 19, 13, 19, 19, 10, 1, 1, 1, 1, 1, 6, 6, 6, 6, 18, 6, 6, 6, 6, 12, 18, 6, 11, 11, 5, 5, 12, 6, 6, 1, 6, 1, 1, 16, 5, 12, 10, 0, 0, 13, 0, 0, 13, 15, 10, 15, 13, 0, 16, 16, 6, 5, 5, 1, 5, 5, 15, 15, 15, 10, 10, 0, 0, 0, 0, 6, 18, 12, 1, 12, 15, 15, 15, 5, 15, 16, 10, 5, 5, 18, 1, 12, 12, 12, 12, 12, 7, 5, 1, 5, 1, 1, 1, 5, 16, 1, 1, 18, 12, 1, 6, 16, 5, 16, 16, 5, 5, 15, 16, 5, 5, 15, 5, 15, 16, 5, 5, 12, 16, 16, 1, 12, 12, 10, 10, 1, 10, 15, 1, 15, 18, 15, 15, 5, 15, 13, 15, 10, 10, 10, 6, 10, 16, 13, 7, 11, 16, 11, 1, 5, 12, 0, 0, 0, 0, 0, 0, 19, 0, 19, 19, 19, 13, 19, 10, 10, 15, 15, 5, 1, 18, 12, 0, 5, 16, 11, 11, 10, 1, 15, 15, 1, 12, 5, 12, 12, 16, 16, 12, 15, 16, 16, 5, 12, 12, 1, 1, 15, 16, 10, 10, 15, 6, 15, 15, 15, 5, 5, 5, 12, 7, 6, 10, 16, 15, 1, 13, 13, 0, 13, 5, 16, 12, 5, 5, 15, 16, 16, 16, 12, 11, 15, 10, 15, 15, 16, 5, 1, 5, 5, 16, 16, 1, 1, 16, 1, 15, 12, 15, 15, 15, 10, 10, 15, 6, 5, 18, 6, 16, 1, 7, 16, 13, 16, 16, 12, 13, 16, 15, 15, 1, 15, 1, 12, 10, 10, 10, 10, 10, 10, 15, 15, 15, 10, 5, 10, 10, 10, 10, 5, 13, 0, 10, 0, 12, 10, 5, 13, 13, 13, 13, 5, 0, 15, 16, 16, 5, 0, 6, 15, 5, 0, 6, 10, 13, 15, 12, 5, 15, 1, 10, 15, 15, 15, 13, 13, 13, 13, 13, 13, 13, 13, 13, 13, 13, 13, 15, 6, 15, 15, 15, 13, 5, 13, 13, 10, 10, 6, 10, 5, 5, 12, 0, 10, 0, 1, 16, 0, 16, 1, 11, 15, 0, 12, 12, 6, 15, 6, 1, 15, 10, 15, 15, 15, 15, 10, 15, 15, 15, 6, 11, 17, 10, 12, 6, 15, 9, 12, 5, 11, 7, 11, 1, 1, 12, 13, 12, 10, 15, 0, 5, 12, 10, 5, 17, 16, 6, 12, 6, 12, 5, 5, 5, 5, 12, 12, 12, 16, 5, 15, 12, 15, 10, 1, 15, 10, 5, 5, 6, 5, 2, 8, 1, 7, 6, 15, 12, 16, 5, 15, 18, 15, 5, 12, 1, 5, 5, 12, 12, 1, 15, 16, 15, 18, 16, 10, 16, 10, 10, 12, 5, 12, 15, 5, 15, 18, 1, 1, 18, 12, 5, 0, 11, 15, 15, 15, 5, 15, 15, 15, 15, 5, 5, 16, 15, 12, 18, 15, 1, 13, 15, 5, 15, 10, 10, 14, 14, 0, 13, 10, 16, 15, 0, 16, 16, 1, 15, 15, 15, 12, 12, 12, 16, 10, 10, 10, 0, 10, 10, 10, 10, 0, 13, 13, 10, 13, 10, 6, 7, 1, 15, 12, 13, 12, 10, 6, 6, 7, 17, 7, 19, 11, 0, 7, 11, 15, 10, 13, 10, 13, 5, 0, 15, 15, 6, 12, 15, 10, 13, 13, 0, 1, 10, 5, 16, 1, 16, 15, 15, 0, 16, 11, 7, 15, 5, 12, 12, 16, 6, 5, 10, 16, 12, 10, 6, 1, 4, 18, 1, 1, 15, 14, 10, 17, 17, 4, 0, 0, 19, 19, 19, 19, 19, 19, 12, 5, 18, 4, 15, 10, 10, 17, 10, 12, 15, 1, 16, 16, 12, 16, 1, 14, 1, 15, 6, 6, 6, 5, 12, 7, 18, 6, 12, 6, 17, 6, 15, 10, 5, 0, 13, 10, 18, 11, 1, 18, 1, 18, 18, 6, 18, 4, 15, 12, 11, 6, 6, 11, 11, 16, 12, 12, 16, 11, 12, 16, 5, 12, 16, 16, 16, 16, 18, 16, 15, 10, 15, 19, 19, 19, 19, 19, 19, 19, 19, 19, 0, 10, 10, 19, 19, 11, 18, 18, 18, 1, 18, 18, 6, 6, 6, 12, 5, 1, 12, 1, 1, 12, 6, 18, 1, 7, 12, 6, 10, 13, 10, 10, 10, 13, 0, 16, 16, 16, 11, 6, 1, 18, 1, 5, 0, 0, 0, 19, 0, 0, 19, 19, 19, 0, 0, 7, 15, 5, 5, 12, 15, 15, 15, 12, 12, 1, 5, 5, 5, 5, 4, 5, 1, 1, 5, 11, 12, 12, 1, 1, 7, 16, 15, 12, 15, 6, 12, 12, 15, 15, 15, 10, 10, 10, 10, 12, 6, 6, 6, 15, 10, 15, 10, 5, 10, 10, 5, 15, 10, 5, 5, 5, 5, 15, 5, 15, 15, 6, 6, 15, 10, 15, 6, 18, 12, 6, 6, 1, 0, 0, 0, 19, 19, 0, 19, 0, 19, 0, 15, 10, 5, 12, 0, 0, 0, 0, 8, 6, 16, 7, 1, 12, 12, 16, 16, 16, 16, 15, 5, 15, 15, 16, 16, 5, 18, 16, 5, 15, 15, 15, 16, 5, 16, 15, 12, 15, 12, 16, 0, 13, 13, 10, 5, 12, 16, 12, 5, 5, 16, 5, 1, 15, 6, 5, 17, 16, 10, 15, 15, 1, 5, 16, 18, 16, 16, 10, 15, 12, 1, 16, 10, 12, 6, 18, 7, 6, 7, 10, 10, 16, 13, 13, 16, 10, 12, 10, 12, 16, 12, 12, 15, 6, 16, 5, 5, 10, 15, 10, 10, 12, 1, 11, 18, 1, 12, 10, 10, 10, 15, 15, 15, 15, 15, 10, 10, 16, 10, 10, 10, 5, 16, 5, 13, 5, 5, 13, 0, 13, 10, 10, 13, 5, 10, 0, 10, 13, 13, 10, 16, 13, 13, 5, 5, 12, 13, 13, 5, 0, 10, 12, 7, 13, 16, 0, 10, 13, 1, 13, 10, 13, 13, 13, 13, 13, 13, 13, 13, 13, 13, 1, 4, 16, 13, 0, 16, 10, 15, 15, 10, 16, 10, 10, 1, 12, 7, 10, 15, 13, 13, 12, 12, 15, 12, 1, 16, 15, 1, 15, 5, 16, 10, 5, 15, 6, 6, 11, 11, 16, 6, 7, 6, 18, 16, 6, 19, 13, 5, 13, 15, 7, 7, 7, 1, 1, 16, 5, 5, 13, 15, 10, 12, 1, 5, 5, 12, 10, 10, 10, 12, 5, 5, 6, 1, 1, 12, 5, 5, 16, 4, 7, 3, 1, 15, 6, 1, 15, 6, 5, 5, 16, 5, 6, 6, 6, 6, 16, 15, 16, 16, 16, 16, 10, 0, 12, 16, 5, 12, 18, 5, 15, 12, 7, 12, 12, 5, 5, 0, 0, 18, 15, 1, 5, 15, 15, 16, 1, 15, 15, 15, 15, 15, 11, 15, 10, 5, 18, 10, 12, 0, 0, 0, 19, 19, 19, 19, 0, 10, 15, 15, 15, 16, 15, 18, 15, 15, 13, 15, 12, 10, 15, 12, 13, 10, 6, 0, 13, 5, 10, 16, 13, 5, 7, 12, 1, 1, 12, 15, 18, 1, 6, 6, 6, 18, 18, 18, 10, 10, 15, 10, 15, 5, 12, 1, 15, 5, 15, 13, 0, 17, 15, 5, 16, 12, 12, 17, 15, 8, 11, 6, 15, 12, 15, 6, 6, 12, 1, 4, 10, 0, 0, 11, 19, 19, 0, 16, 1, 19, 19, 6, 19, 19, 19, 19, 19, 1, 5, 11, 7, 15, 15, 16, 16, 5], \"coloraxis\": \"coloraxis\", \"symbol\": \"circle\"}, \"mode\": \"markers\", \"name\": \"\", \"showlegend\": false, \"type\": \"scattergl\", \"x\": [1414, 2117, 2112, 1604, 1470, 1604, 1638, 1636, 1384, 1446, 1593, 1682, 1337, 1280, 1604, 1633, 1658, 1895, 1709, 1228, 1337, 2500, 2504, 1884, 1474, 1710, 1488, 2093, 1688, 1422, 1260, 2064, 1782, 2872, 1211, 1126, 2044, 1308, 2840, 1523, 1444, 1964, 1178, 2340, 1792, 1054, 936, 864, 864, 1337, 987, 987, 987, 987, 987, 987, 1302, 1069, 1456, 1055, 892, 1932, 2332, 2084, 2713, 1582, 1710, 2464, 1950, 2748, 2790, 2331, 2088, 2332, 2470, 2668, 2046, 1575, 2649, 2690, 1866, 1702, 1367, 1518, 1684, 1800, 1342, 1342, 1626, 1626, 1358, 1455, 1576, 1504, 1266, 1246, 1515, 1593, 1166, 1456, 1720, 1986, 1358, 1792, 1892, 1490, 2322, 1651, 2199, 2630, 2198, 2172, 2006, 2125, 2501, 2113, 2418, 2197, 2127, 1987, 1580, 1933, 1574, 1578, 1506, 1563, 1428, 1861, 1874, 1372, 1372, 1768, 1992, 1958, 2078, 1660, 1218, 1728, 1080, 1696, 1663, 1175, 1114, 1114, 1640, 1162, 1609, 1680, 1679, 1657, 1677, 1737, 1294, 1710, 1617, 1199, 984, 912, 864, 890, 864, 912, 1430, 1641, 2683, 2786, 1391, 1250, 1245, 1200, 1392, 1392, 1501, 1549, 1638, 1310, 1419, 1557, 1709, 1252, 1404, 1789, 1586, 1607, 2393, 1288, 1239, 1719, 1232, 2944, 1671, 1682, 1427, 1740, 1258, 1620, 1625, 2614, 1464, 912, 925, 1728, 1728, 1656, 1670, 2715, 1876, 1632, 999, 1978, 1014, 907, 952, 1128, 1425, 1165, 1136, 1092, 1265, 1350, 1114, 1053, 1252, 1100, 1118, 720, 729, 1077, 906, 1496, 1252, 1337, 1661, 1036, 1820, 1362, 1144, 1537, 1431, 1988, 1098, 1144, 1283, 1176, 1440, 1261, 1570, 1196, 1392, 1080, 1104, 882, 1152, 950, 1790, 952, 773, 1764, 1216, 1824, 869, 1159, 1558, 672, 1436, 1294, 1716, 1044, 1312, 1253, 1081, 2069, 910, 876, 1048, 1507, 1256, 1027, 1269, 1320, 984, 832, 1278, 1800, 1588, 825, 1796, 1611, 1117, 1133, 764, 1539, 1323, 1360, 2792, 672, 1456, 1594, 2082, 1656, 1740, 1027, 1436, 899, 1080, 789, 1122, 1499, 407, 928, 901, 1588, 3493, 1627, 1416, 1450, 1344, 1017, 2350, 2058, 1540, 1378, 1912, 1484, 2358, 1111, 2775, 1086, 2495, 984, 1795, 882, 1093, 1143, 1668, 935, 1738, 784, 1210, 1290, 1672, 949, 1158, 1497, 1342, 1013, 1216, 1136, 808, 1573, 2009, 1902, 1774, 1362, 520, 1285, 1848, 1820, 1716, 1505, 838, 1984, 1666, 1609, 768, 1536, 1969, 1308, 1040, 1236, 1406, 825, 1198, 759, 1344, 1469, 1054, 1211, 1271, 1588, 1355, 1075, 1040, 1096, 904, 992, 894, 1034, 1073, 1126, 1258, 1140, 1006, 1228, 960, 1188, 1383, 1252, 1601, 672, 1721, 1350, 904, 1291, 2022, 1524, 1363, 1663, 1357, 1079, 1094, 2358, 1518, 1674, 2108, 1509, 864, 1269, 1367, 1347, 1164, 1096, 1111, 2329, 2814, 1626, 2200, 2037, 1356, 1615, 2276, 1766, 2097, 1511, 1643, 1688, 990, 1099, 990, 1418, 1771, 1652, 1790, 1724, 1479, 1494, 1792, 1823, 1786, 938, 985, 1174, 1026, 1076, 1558, 924, 864, 780, 1795, 1865, 2161, 1852, 2031, 2263, 1947, 1786, 2290, 1768, 2327, 1640, 1764, 1908, 848, 848, 1493, 1838, 1536, 1710, 1445, 1436, 1582, 1234, 1564, 1361, 1456, 848, 848, 848, 848, 796, 2200, 1092, 1256, 1033, 1127, 996, 1181, 1656, 1117, 1398, 1132, 5642, 1072, 1152, 1152, 1440, 1152, 784, 1053, 1137, 930, 1200, 1470, 1393, 1204, 1292, 864, 864, 1716, 1482, 2192, 1694, 1424, 1964, 2601, 1920, 1316, 2555, 1680, 1264, 790, 1512, 1639, 1603, 1502, 1660, 1938, 1374, 1091, 1873, 3447, 1954, 2161, 1898, 1640, 1032, 1556, 919, 1090, 796, 816, 778, 1200, 1656, 912, 1955, 733, 1361, 1317, 1049, 894, 864, 1652, 1648, 1646, 1646, 2032, 1689, 1820, 1118, 1279, 1872, 1689, 1786, 1501, 2898, 1537, 1646, 1780, 1442, 1612, 1495, 1651, 1256, 1509, 1440, 1675, 2262, 1728, 1964, 1344, 1344, 1092, 1189, 1200, 1040, 1304, 1475, 988, 988, 1160, 1092, 630, 988, 816, 923, 816, 816, 845, 1750, 889, 1968, 1836, 1587, 1277, 2223, 2217, 1733, 1572, 1470, 1600, 1384, 1652, 1694, 1714, 1553, 1253, 2299, 1187, 1472, 1482, 1642, 1128, 1088, 2090, 1179, 1321, 1922, 2541, 2338, 1424, 1612, 1419, 2234, 2042, 1440, 1284, 1868, 1479, 1664, 1930, 1969, 2030, 1032, 1177, 1725, 1353, 1620, 1220, 1484, 1743, 1935, 1324, 1877, 1109, 981, 1479, 1422, 914, 950, 872, 858, 914, 864, 767, 1337, 1337, 1092, 1218, 1218, 1302, 1365, 958, 1548, 1055, 988, 1816, 1828, 1694, 1694, 1734, 2122, 2121, 2656, 2550, 2046, 2172, 2552, 1973, 2643, 1634, 1976, 2758, 2290, 2152, 2473, 2100, 2161, 1802, 2956, 2468, 2385, 2374, 1818, 1614, 1721, 1828, 1362, 1302, 1302, 1362, 1554, 1554, 1370, 1577, 1561, 1869, 1324, 1405, 1536, 1484, 1458, 1495, 1746, 1326, 1456, 1302, 1340, 1412, 1504, 1456, 1258, 1258, 1402, 1589, 1266, 1530, 1119, 1374, 1959, 1525, 1720, 1948, 1690, 1995, 1647, 1430, 1320, 1690, 1644, 4476, 2551, 2285, 2633, 3078, 2582, 2385, 4316, 2013, 2398, 2520, 2531, 3228, 2202, 2538, 1369, 1542, 1905, 1464, 1534, 1966, 1636, 1795, 1726, 1689, 1588, 1538, 1496, 1506, 1694, 1977, 1830, 1338, 1335, 1792, 1588, 1959, 2610, 1656, 1761, 1584, 1685, 2443, 2466, 1100, 1143, 1094, 1486, 1721, 1820, 1349, 1494, 1575, 1266, 884, 2020, 894, 970, 1057, 999, 1120, 1696, 1040, 988, 902, 2503, 2167, 1037, 1701, 1055, 2810, 2872, 1378, 1151, 1565, 1352, 1352, 1250, 1501, 1458, 1512, 1573, 1525, 1102, 1441, 1950, 1358, 2048, 2362, 1494, 2362, 1432, 1437, 1295, 1855, 1262, 2497, 2620, 1929, 1152, 2411, 1082, 1295, 1610, 1594, 2075, 1680, 1093, 1242, 1052, 1107, 1214, 1073, 1344, 1728, 1224, 1422, 958, 1065, 1138, 912, 1074, 882, 1187, 964, 894, 1200, 1042, 1302, 2154, 1374, 1652, 1429, 1327, 1224, 932, 908, 334, 666, 670, 808, 1977, 1150, 1920, 1376, 1644, 1560, 1280, 1254, 912, 1524, 2380, 936, 1008, 1053, 1056, 1442, 1056, 1244, 1144, 1721, 922, 1048, 1657, 1411, 1216, 1154, 1560, 948, 1040, 1008, 925, 1360, 1540, 925, 928, 1647, 924, 1544, 893, 1728, 3086, 1034, 882, 1281, 968, 1534, 691, 1651, 888, 952, 2080, 924, 1082, 1846, 988, 1238, 864, 1134, 1040, 1170, 1242, 1377, 1800, 925, 1851, 1812, 864, 936, 960, 1432, 1296, 1022, 936, 967, 1047, 1072, 1174, 1183, 1131, 1141, 960, 1798, 866, 968, 1772, 1642, 1472, 1232, 2337, 1650, 2210, 1358, 2454, 2291, 1616, 1559, 2554, 1248, 968, 1382, 1060, 1435, 1167, 1635, 1274, 1232, 1218, 884, 1409, 1322, 1426, 1281, 1513, 854, 1367, 986, 2264, 1824, 1376, 1316, 1396, 1344, 2526, 1173, 1214, 1818, 1108, 2294, 1355, 1375, 1952, 2180, 1315, 1111, 1196, 1382, 1889, 840, 1484, 2267, 3086, 1134, 1282, 999, 1452, 1005, 1029, 1020, 1040, 913, 894, 948, 868, 897, 943, 955, 894, 1285, 912, 1375, 2654, 1416, 1302, 1299, 1176, 998, 1824, 1522, 2060, 1325, 1630, 1242, 2422, 2158, 1626, 864, 943, 1440, 605, 1038, 1342, 1480, 1362, 1340, 1822, 1442, 2243, 2730, 2127, 1982, 1958, 2696, 2828, 1651, 2140, 1494, 1316, 1651, 2574, 1274, 1456, 1240, 1208, 1546, 1500, 1270, 1795, 1314, 2062, 1873, 2144, 1953, 2087, 1743, 1022, 990, 1200, 1308, 1796, 990, 1097, 990, 1786, 1873, 1753, 1690, 1842, 1479, 1668, 894, 1025, 1009, 1040, 907, 879, 882, 969, 864, 875, 2000, 2169, 1673, 1459, 1932, 1729, 2452, 1592, 2439, 1992, 1668, 2090, 848, 1341, 1928, 1337, 1476, 1797, 1422, 1190, 1330, 1491, 1536, 1214, 936, 1088, 960, 1351, 1179, 816, 1044, 1113, 2233, 1125, 1090, 1408, 5095, 4676, 1072, 960, 1152, 948, 1195, 774, 865, 894, 1346, 768, 864, 948, 3395, 2592, 1502, 789, 1422, 1298, 1768, 1098, 1436, 1426, 1461, 1646, 694, 1250, 954, 1958, 2002, 1718, 1226, 2624, 3194, 1755, 1991, 1355, 2727, 2320, 1839, 1740, 2259, 1560, 1488, 1045, 1680, 1020, 1696, 2726, 1517, 1215, 803, 1601, 1123, 1828, 816, 1012, 1077, 1558, 845, 1991, 1073, 1001, 1625, 1625, 1299, 912, 1080, 1392, 1409, 1478, 918, 1026, 1501, 1502, 1328, 2279, 1689, 1484, 1571, 1646, 1240, 1717, 1756, 1312, 1146, 1922, 1491, 1629, 2486, 1572, 1776, 1824, 2482, 1120, 2034, 936, 1040, 1632, 1622, 1060, 1142, 1092, 992, 1092, 1092, 630, 1092, 1062, 1008, 1356, 1676, 1432, 796, 768, 1608, 845, 1178, 816, 816, 974, 887, 1293, 1024, 1797, 1390, 1851, 1525, 2236, 1671, 1498, 1776, 1511, 2462, 1670, 2064, 1801, 2212, 2021, 2687, 1169, 1501, 1632, 1204, 1767, 1742, 2798, 3390, 2473, 2868, 2576, 2698, 2795, 2945, 2320, 1056, 1714, 1826, 2000, 1621, 2183, 2263, 1574, 1102, 1872, 1857, 1686, 2784, 1552, 1083, 2318, 1875, 1074, 1664, 1309, 1103, 1096, 864, 858, 874, 1419, 1092, 1365, 987, 1030, 1218, 1218, 948, 1092, 987, 1069, 1387, 900, 1055, 1456, 1980, 2589, 2596, 1618, 1740, 1868, 1850, 2376, 2452, 2206, 2098, 2091, 2324, 2389, 2358, 1944, 1970, 1792, 1780, 1792, 2728, 1904, 1914, 1364, 1565, 1368, 1368, 1686, 1666, 1405, 1316, 1456, 1492, 1496, 1863, 1326, 1456, 2373, 1492, 1364, 1557, 1456, 1511, 1414, 1548, 1248, 1142, 1506, 1567, 1500, 1838, 1509, 1414, 1598, 1936, 1509, 1664, 1889, 1886, 1671, 2322, 2291, 2392, 1976, 2234, 3627, 2855, 1924, 2263, 2726, 3500, 2494, 2526, 2799, 1964, 2097, 1660, 1616, 1504, 1278, 2640, 1489, 1939, 1553, 1716, 1576, 1262, 1266, 1301, 1142, 1400, 1131, 1141, 1158, 1686, 1585, 1837, 1603, 1731, 1398, 1217, 1320, 1056, 965, 988, 1728, 1654, 1211, 1212, 984, 909, 925, 1024, 935, 912, 1236, 941, 2646, 2417, 2826, 2520, 2295, 1624, 1143, 1247, 1200, 1223, 1223, 1200, 1524, 1452, 1382, 1080, 1694, 1568, 1494, 1208, 1235, 1036, 1226, 1226, 1842, 1193, 1920, 2156, 1416, 2654, 1790, 1334, 1164, 980, 1051, 1770, 976, 1052, 898, 1051, 1141, 1200, 1993, 1050, 864, 1712, 1565, 1251, 1488, 1440, 1095, 1053, 1248, 816, 1008, 1043, 1230, 869, 747, 1252, 1433, 1624, 1216, 2136, 1578, 1728, 936, 1584, 1246, 1235, 2157, 1128, 3112, 1008, 1190, 1144, 1364, 1383, 1336, 1370, 1092, 1124, 1236, 943, 1050, 1375, 1008, 1575, 1145, 1005, 1056, 884, 2039, 1384, 2640, 1312, 1310, 713, 833, 1073, 715, 720, 1130, 1595, 1760, 1214, 2414, 1466, 1324, 1086, 1146, 1734, 1207, 912, 1194, 864, 816, 1773, 1472, 2448, 1600, 1521, 1192, 1040, 1040, 1040, 1040, 1040, 1040, 1556, 1150, 1150, 1348, 999, 1045, 864, 1025, 2014, 1328, 1668, 1657, 1416, 1641, 1428, 1004, 813, 1951, 1032, 844, 1750, 864, 1118, 1376, 960, 1566, 492, 1182, 1163, 840, 1928, 1774, 1768, 2104, 1440, 1690, 1368, 1762, 1200, 3608, 1248, 960, 1020, 788, 1577, 1827, 1664, 1118, 1176, 1344, 1162, 1015, 912, 1576, 1324, 1103, 616, 1048, 816, 2486, 960, 1635, 693, 1430, 1330, 819, 1376, 1360, 1077, 754, 984, 1422, 1921, 1640, 1352, 1032, 879, 1073, 1382, 1296, 1068, 1064, 1320, 934, 1059, 1159, 1400, 1458, 1721, 1040, 1967, 1949, 1920, 1803, 1779, 872, 960, 1437, 1830, 1000, 2287, 810, 894, 1700, 1453, 1350, 1150, 2008, 2201, 2009, 3672, 1560, 1488, 1057, 1855, 1609, 1148, 1124, 1456, 1298, 2559, 1911, 1440, 1876, 1208, 1220, 1294, 1614, 1498, 1962, 1846, 1734, 1590, 1809, 1614, 1596, 1915, 1582, 988, 1533, 1388, 914, 1100, 1499, 1425, 990, 1525, 1494, 1588, 1749, 1779, 1861, 1776, 1541, 954, 1388, 1282, 971, 864, 894, 864, 1320, 1989, 1762, 1755, 1358, 1787, 1909, 1654, 2214, 2049, 1939, 1995, 2097, 1836, 848, 848, 1919, 1390, 1948, 1700, 1737, 1611, 1552, 1720, 1336, 1500, 1456, 1310, 1436, 1466, 1220, 1012, 980, 1176, 1724, 2314, 1072, 1072, 1072, 1709, 1709, 1709, 1709, 1708, 936, 1338, 1669, 1184, 1221, 864, 1482, 1250, 1414, 2230, 498, 1273, 1928, 1595, 1551, 1340, 1479, 1784, 1510, 1522, 1636, 1802, 1465, 1288, 1717, 1550, 1517, 1717, 1180, 2057, 1671, 2345, 1609, 1801, 1811, 1647, 2315, 1336, 1844, 976, 1285, 672, 641, 951, 1638, 1336, 729, 480, 1396, 936, 1778, 1646, 1625, 1664, 1491, 1004, 1210, 1959, 2519, 1295, 1650, 1707, 1137, 1339, 2514, 1403, 1800, 1960, 2028, 1838, 1600, 1368, 1216, 1337, 1140, 1304, 1475, 2521, 874, 1652, 630, 1092, 1360, 630, 1092, 1092, 1092, 1092, 1728, 1728, 1126, 1224, 1003, 902, 970, 1389, 2000], \"xaxis\": \"x\", \"y\": [11029, 12925, 11075, 8702, 8139, 9535, 9042, 15038, 14137, 21872, 4923, 6264, 5395, 5070, 10839, 11184, 8000, 10832, 14067, 4671, 5950, 13543, 11198, 15401, 31220, 8118, 47280, 20544, 12680, 12090, 10825, 18559, 14450, 12227, 13068, 15611, 10400, 9743, 12511, 11361, 10400, 10480, 10000, 14311, 9000, 9750, 10295, 7560, 12735, 4060, 1680, 1680, 1890, 1869, 1680, 1680, 1680, 4043, 2308, 2529, 9477, 12444, 12474, 14803, 14948, 12704, 13891, 13693, 14418, 13418, 12539, 12151, 8899, 10574, 12720, 13688, 10625, 10845, 16900, 16451, 10110, 8769, 12304, 12677, 8849, 8232, 6240, 6240, 2448, 2448, 8198, 3940, 3940, 3182, 3182, 3710, 9024, 7415, 9587, 8029, 8010, 8396, 7301, 10261, 8220, 15384, 12460, 8390, 9660, 9200, 14260, 11000, 11675, 10990, 11929, 10437, 10542, 10010, 10944, 14303, 11932, 14598, 11957, 13253, 14587, 10206, 12274, 9801, 9428, 8640, 8640, 9803, 9375, 10625, 10800, 10625, 7500, 8791, 7500, 10110, 12774, 13072, 13695, 13695, 8366, 9260, 8453, 8480, 8125, 14565, 8450, 8285, 7153, 9291, 8012, 7892, 9100, 12968, 8100, 8450, 6360, 6768, 19508, 10759, 9205, 11025, 4282, 4017, 3435, 3180, 3180, 3604, 2280, 2280, 4765, 4538, 4385, 4109, 5119, 2160, 2160, 10646, 2645, 2645, 3951, 14963, 11064, 10846, 11120, 24572, 16280, 10400, 11104, 11050, 11040, 15387, 9750, 10800, 8814, 8872, 8125, 11072, 13101, 9246, 13355, 8963, 9120, 9130, 12122, 9900, 7785, 8593, 8475, 8700, 10175, 9020, 9200, 8250, 9350, 9020, 9900, 10007, 10721, 12493, 11332, 6627, 4130, 7420, 4882, 9600, 9600, 9600, 9600, 7584, 13700, 10197, 7875, 8400, 9150, 14670, 7390, 9204, 7763, 8856, 9840, 9120, 13200, 9000, 11900, 9464, 10425, 11556, 9373, 12774, 14250, 7350, 7677, 8838, 8480, 12436, 10122, 7506, 10930, 5400, 10836, 10800, 9247, 10180, 11355, 10920, 12929, 27650, 8892, 7200, 7200, 7910, 8000, 8000, 7931, 8064, 6390, 7227, 7200, 8513, 7200, 7200, 7056, 9760, 7590, 9836, 5232, 10440, 9184, 4800, 10440, 4800, 6000, 11426, 11426, 7628, 7308, 5400, 10800, 6756, 5914, 6000, 12000, 9000, 7311, 6000, 6000, 12205, 18386, 9142, 12665, 5350, 4571, 9143, 9600, 9600, 6000, 9600, 10800, 6300, 5250, 5700, 13500, 11340, 10800, 9750, 12150, 12702, 8516, 7111, 7425, 9100, 7010, 6130, 5000, 5870, 6000, 6000, 6000, 6000, 6000, 5000, 5520, 6240, 6120, 6240, 6240, 6120, 6120, 6155, 6324, 8635, 13053, 9120, 9144, 9144, 10267, 8094, 5100, 4347, 6291, 10266, 6876, 10320, 7200, 7006, 7920, 8235, 5586, 10320, 10320, 10320, 9488, 8250, 21286, 17120, 10106, 11235, 11200, 13014, 7162, 10265, 9764, 7703, 9981, 7400, 12900, 12900, 9000, 8544, 9239, 14175, 13284, 13500, 13825, 10200, 10532, 8375, 10200, 2887, 10005, 20270, 39104, 53227, 11512, 5190, 10452, 45600, 19550, 21780, 13728, 9571, 9350, 9360, 8405, 7000, 10880, 9600, 9084, 11839, 9771, 9938, 14171, 10541, 10616, 9345, 11778, 11778, 11228, 11454, 11500, 12798, 9750, 9525, 9245, 8696, 13142, 8998, 9179, 8924, 9382, 12803, 12435, 12192, 11250, 9200, 8385, 12250, 10970, 9216, 14330, 7990, 7180, 7200, 9742, 10316, 10400, 9066, 11404, 9240, 9720, 14860, 11250, 8158, 10905, 7226, 11690, 8750, 4435, 4426, 13125, 10126, 9135, 8450, 9750, 8450, 8320, 11049, 11058, 9627, 8199, 4426, 4426, 4438, 4438, 8777, 8777, 9825, 9937, 12102, 6500, 13907, 10012, 6931, 9638, 7200, 7024, 63887, 3675, 6040, 6012, 12108, 6845, 6931, 12180, 8050, 9520, 11767, 8172, 16466, 7692, 5142, 5604, 8248, 5687, 12155, 8400, 8400, 7290, 8525, 9842, 7804, 8969, 11526, 15576, 15564, 6292, 7609, 10480, 9650, 7200, 11988, 11700, 9260, 7801, 9670, 14100, 15660, 12392, 26073, 14778, 1879, 1950, 7000, 6000, 3636, 5890, 6900, 8155, 6000, 7392, 9000, 14584, 5280, 8500, 5150, 18000, 9000, 5587, 3843, 3811, 3842, 23730, 13265, 11050, 9880, 10125, 10260, 9990, 164660, 4084, 15498, 11563, 9520, 12852, 9802, 12018, 12890, 12416, 18265, 10200, 11202, 7915, 12244, 11449, 11447, 8940, 7060, 9278, 4500, 14137, 4224, 2665, 2665, 1974, 1596, 17979, 1477, 1890, 21750, 6490, 6951, 6600, 6600, 6600, 12508, 12395, 11075, 56600, 10667, 10628, 13651, 15865, 12394, 10364, 13869, 8773, 8872, 5330, 10147, 8637, 7875, 7875, 7500, 9556, 10784, 9125, 7655, 18160, 3696, 5062, 4740, 5118, 14157, 12328, 51974, 41600, 8035, 8089, 14082, 13870, 12546, 10960, 12090, 12090, 12299, 11339, 11952, 12046, 10395, 11850, 11584, 10400, 10793, 13001, 12243, 11700, 12384, 8991, 8000, 10500, 10530, 7472, 9457, 7920, 9758, 8294, 7340, 17199, 9000, 4058, 4113, 10943, 2205, 1890, 2058, 2016, 1920, 4928, 2308, 2304, 7150, 12469, 11694, 12030, 11825, 12085, 14333, 14450, 13641, 13440, 15431, 14154, 13891, 14226, 13693, 11428, 14977, 13654, 17169, 16659, 9591, 9709, 10562, 13615, 13069, 12099, 14277, 11999, 12568, 9926, 9254, 10732, 7577, 3901, 3903, 6289, 4590, 4590, 6442, 7841, 7313, 7820, 6240, 3242, 10237, 10237, 13204, 8857, 9729, 12216, 9018, 8993, 8899, 8499, 8229, 7713, 7697, 3922, 3922, 3621, 3710, 14572, 16219, 11084, 11796, 10936, 8244, 7875, 8063, 8740, 7917, 9967, 7750, 9487, 9649, 15623, 12191, 11000, 11400, 10557, 11002, 10790, 21535, 9920, 11787, 9950, 12257, 12692, 11762, 9044, 9910, 11830, 11670, 15256, 10612, 12291, 13501, 9986, 9416, 9849, 10000, 8847, 9158, 8251, 10084, 9605, 8778, 8640, 9000, 8640, 10411, 9000, 9000, 11096, 10207, 10440, 11824, 10625, 11143, 7500, 7500, 12450, 7441, 8462, 11613, 8450, 16196, 8012, 8012, 9180, 8400, 6285, 8480, 7420, 7758, 6970, 13673, 7476, 9945, 6173, 19522, 17542, 10751, 16647, 12712, 9572, 10678, 4379, 3523, 3784, 4230, 3606, 4251, 2280, 3230, 2117, 2117, 2117, 5105, 2645, 7399, 7321, 8010, 8413, 9466, 12000, 16157, 10768, 3840, 9600, 9600, 17778, 18890, 7050, 11700, 8000, 8723, 11700, 11358, 9547, 10530, 11500, 10738, 9600, 10800, 8050, 10355, 10289, 9503, 10624, 10899, 12342, 12772, 8892, 10482, 7535, 7450, 8339, 14357, 8243, 8680, 8800, 9200, 9350, 8800, 11382, 22002, 14585, 7388, 9842, 8280, 12172, 5000, 5000, 3500, 5175, 9500, 9600, 11345, 9492, 9480, 8668, 10050, 9600, 10150, 11344, 18450, 8760, 6860, 8250, 8176, 9750, 9250, 11988, 9100, 9736, 9770, 10152, 12155, 12198, 10050, 11556, 8078, 10950, 7942, 8923, 8540, 7134, 7150, 8400, 13300, 9532, 15783, 14190, 9600, 12099, 21281, 10134, 5500, 10284, 10800, 10800, 5400, 10090, 8700, 8300, 11606, 8064, 11664, 10496, 7200, 7200, 7200, 7000, 7500, 7315, 7903, 8000, 8000, 7000, 9760, 7590, 6600, 6760, 6978, 9600, 6000, 4480, 7200, 3153, 10800, 7200, 9000, 6000, 5925, 5925, 6000, 9639, 3880, 8520, 10337, 9863, 9600, 4571, 13600, 8398, 9900, 3600, 13500, 7200, 5400, 8100, 10800, 9439, 8626, 11800, 6854, 8674, 8731, 8737, 6125, 6000, 6000, 6120, 6240, 6240, 6240, 6120, 6120, 6120, 6240, 6180, 7755, 13515, 8850, 8550, 8730, 5700, 8520, 5680, 5680, 7758, 7449, 13200, 6882, 9000, 9780, 10320, 4330, 7200, 4800, 12358, 10120, 4388, 10320, 12888, 18030, 8160, 4484, 11235, 11235, 14299, 7943, 14149, 11677, 8400, 7094, 8978, 8425, 8665, 8398, 7742, 8724, 8197, 8169, 14175, 16779, 25339, 6960, 11375, 13770, 9000, 115149, 11075, 10029, 17541, 22692, 17808, 12671, 12615, 10512, 5400, 11515, 7711, 9098, 3869, 9280, 11100, 7550, 9060, 23920, 10357, 13474, 10380, 13125, 11287, 9317, 9965, 9965, 9178, 10481, 10652, 11175, 10235, 9588, 8814, 11103, 8556, 6762, 11750, 8760, 7242, 9316, 9317, 14364, 8883, 159000, 53107, 12205, 20064, 14217, 8775, 11249, 10021, 9531, 8428, 16561, 8070, 9337, 10820, 12352, 9543, 8826, 10665, 11317, 11800, 8660, 9720, 8982, 16300, 9675, 7700, 10356, 7200, 7200, 10386, 9375, 11354, 8749, 8749, 8158, 16226, 11927, 12728, 15295, 11248, 10000, 4435, 17227, 8200, 8450, 8145, 9245, 8500, 8769, 8334, 8333, 9045, 9170, 9825, 8308, 10921, 16287, 8240, 11841, 6285, 7917, 9555, 8536, 7024, 7023, 39290, 40094, 3675, 6400, 6882, 10215, 8741, 4270, 10042, 9450, 11767, 8172, 8172, 8190, 10896, 10890, 10592, 10594, 7223, 6821, 7200, 4000, 6720, 7642, 7155, 7128, 4280, 5362, 6305, 7136, 6270, 7230, 13108, 22420, 12168, 7810, 11275, 6221, 10570, 7259, 14442, 13125, 21000, 25485, 21579, 1782, 17871, 3907, 20693, 18044, 8500, 7000, 5000, 7288, 6060, 9060, 3672, 8263, 8967, 13710, 11067, 8250, 6565, 6060, 5568, 4750, 12150, 7540, 9187, 10000, 12864, 9928, 8750, 8410, 4054, 9763, 16905, 19958, 8368, 9037, 10991, 10656, 10331, 13758, 9303, 6718, 9590, 11305, 7777, 14536, 11800, 35133, 15306, 12633, 12665, 8402, 43500, 6710, 25286, 25000, 32463, 4224, 4224, 1504, 1533, 1495, 2001, 1936, 1890, 11333, 9129, 15957, 33983, 8286, 6723, 7244, 27697, 7599, 11000, 8314, 11625, 10712, 10447, 11027, 10533, 11765, 39384, 11727, 8238, 13006, 13041, 13031, 9783, 11207, 19378, 14859, 13128, 10463, 13751, 23257, 13108, 8076, 7685, 9084, 3701, 5306, 6563, 16023, 18062, 12292, 16056, 12438, 16052, 15922, 13682, 14762, 34650, 8147, 11302, 18261, 14145, 13837, 16659, 18800, 10464, 10400, 10530, 10240, 16692, 11475, 9927, 9512, 10530, 10140, 10140, 10140, 10000, 15870, 9353, 8125, 7200, 8773, 2760, 2160, 1953, 1890, 1680, 1680, 1680, 1680, 1680, 4043, 7514, 7838, 2280, 2179, 16737, 16387, 16259, 16163, 12228, 14780, 16033, 14215, 13418, 13975, 10240, 9942, 11924, 10672, 11643, 12378, 11065, 13758, 14828, 11846, 20431, 10927, 13215, 7052, 5911, 6955, 6792, 7740, 6373, 3136, 10237, 10237, 10237, 17104, 14054, 11660, 15578, 11631, 9073, 3087, 3196, 3196, 2938, 3072, 3072, 3010, 3010, 3013, 3982, 4045, 21930, 7861, 9056, 9171, 11194, 7875, 8121, 8658, 11214, 10852, 12104, 8738, 9452, 9660, 9545, 35760, 9233, 12011, 12090, 10019, 17242, 10236, 10120, 12585, 12447, 20896, 10182, 8688, 10936, 8640, 13162, 11216, 10728, 8125, 8125, 8125, 7200, 7500, 7200, 7733, 11024, 13072, 13072, 13072, 7800, 7632, 8304, 7153, 9370, 7175, 7175, 9019, 8900, 7800, 9100, 9100, 8927, 9240, 8471, 9308, 8450, 8638, 13052, 13526, 8020, 6993, 8789, 14330, 16059, 11025, 14541, 13346, 12461, 3628, 3316, 3180, 2544, 2544, 3180, 2998, 3735, 2651, 4447, 8314, 7180, 9549, 11250, 3760, 3640, 3874, 3876, 50271, 13110, 10192, 20781, 11700, 11029, 10400, 10140, 9600, 9750, 9600, 8640, 9360, 8400, 8400, 9759, 9600, 9230, 14803, 10659, 9100, 8393, 8800, 8800, 10368, 9350, 10382, 8973, 10800, 8550, 11425, 9724, 4712, 5900, 5825, 7438, 9600, 10858, 9600, 10680, 9490, 9462, 9888, 8917, 12700, 8500, 14200, 9000, 25419, 9723, 7728, 8163, 8400, 11600, 9610, 10000, 14850, 10152, 10011, 7032, 8092, 11310, 12778, 10170, 7700, 11050, 13600, 15428, 21299, 13300, 22136, 7500, 7000, 10410, 5400, 5400, 10914, 7008, 10800, 7200, 10818, 10410, 10800, 10800, 8658, 13400, 10184, 9786, 9510, 7800, 8910, 7332, 7100, 10800, 11650, 18275, 16321, 12144, 10800, 7200, 7200, 7560, 8544, 8544, 8544, 8512, 7945, 7000, 7590, 10205, 7400, 7000, 7000, 9856, 9906, 9600, 5520, 9600, 9600, 6451, 3960, 5684, 7745, 7741, 5633, 9000, 7200, 4400, 7614, 6000, 6000, 7830, 9576, 5820, 5747, 9142, 9600, 10800, 6300, 5000, 8850, 3600, 7200, 11340, 22950, 5976, 9750, 4761, 7446, 6435, 11737, 5000, 7800, 6240, 6240, 6120, 6120, 6240, 6240, 6120, 6000, 6000, 6380, 11672, 33120, 9873, 5310, 4118, 10320, 7518, 9000, 8600, 7200, 9786, 6780, 7200, 12375, 11136, 21370, 6930, 8250, 5220, 5500, 11235, 10791, 8414, 11327, 11777, 10366, 9000, 11553, 7844, 9535, 10335, 7176, 9662, 8235, 13650, 13125, 17920, 17529, 10246, 14175, 20355, 13050, 15593, 10820, 13350, 1700, 5271, 9375, 6488, 7800, 19690, 19950, 19800, 11679, 12048, 10519, 9525, 9525, 6420, 8335, 7585, 11200, 12128, 9554, 9069, 11003, 7488, 7406, 6762, 11210, 8990, 8760, 13377, 11645, 11645, 10984, 9316, 9316, 10041, 36500, 21453, 70761, 12000, 8846, 13015, 12438, 8685, 13568, 9100, 9236, 10264, 9272, 13426, 13450, 14006, 13704, 10780, 8340, 10385, 9920, 9560, 9800, 7200, 3612, 11367, 9930, 9468, 11088, 14781, 8726, 8125, 10566, 21533, 11250, 11250, 9750, 9100, 4435, 4435, 15611, 8810, 12393, 9135, 8581, 8400, 10084, 11645, 8772, 8846, 8461, 8767, 8777, 17755, 8877, 7840, 9400, 16133, 7162, 11060, 3675, 3675, 3675, 2522, 2522, 2522, 2522, 3363, 6956, 7822, 8707, 8410, 9738, 8172, 16012, 8248, 8248, 6204, 8088, 11388, 7082, 8400, 10890, 6430, 7000, 13132, 4899, 6000, 9399, 7588, 10164, 6191, 9550, 21780, 11435, 12400, 11600, 11500, 8170, 16560, 12320, 14210, 14115, 12984, 15600, 15750, 16381, 7288, 7000, 8534, 7030, 8765, 9060, 11040, 12366, 9000, 9000, 8520, 5748, 3842, 23580, 8385, 9116, 10530, 11080, 11070, 26178, 8239, 50102, 16669, 13811, 8049, 11170, 8098, 14331, 13618, 11443, 11577, 31250, 7020, 4500, 4500, 17217, 2665, 2665, 3964, 10172, 11836, 1470, 1484, 13384, 1533, 1533, 1526, 1936, 1894, 12640, 9297, 17400, 20000, 7937, 8885, 10441, 10010, 9627], \"yaxis\": \"y\"}],\n",
              "                        {\"coloraxis\": {\"colorbar\": {\"title\": {\"text\": \"cluster\"}}, \"colorscale\": [[0.0, \"#0d0887\"], [0.1111111111111111, \"#46039f\"], [0.2222222222222222, \"#7201a8\"], [0.3333333333333333, \"#9c179e\"], [0.4444444444444444, \"#bd3786\"], [0.5555555555555556, \"#d8576b\"], [0.6666666666666666, \"#ed7953\"], [0.7777777777777778, \"#fb9f3a\"], [0.8888888888888888, \"#fdca26\"], [1.0, \"#f0f921\"]]}, \"height\": 600, \"legend\": {\"tracegroupgap\": 0}, \"margin\": {\"t\": 60}, \"template\": {\"data\": {\"bar\": [{\"error_x\": {\"color\": \"#2a3f5f\"}, \"error_y\": {\"color\": \"#2a3f5f\"}, \"marker\": {\"line\": {\"color\": \"#E5ECF6\", \"width\": 0.5}}, \"type\": \"bar\"}], \"barpolar\": [{\"marker\": {\"line\": {\"color\": \"#E5ECF6\", \"width\": 0.5}}, \"type\": \"barpolar\"}], \"carpet\": [{\"aaxis\": {\"endlinecolor\": \"#2a3f5f\", \"gridcolor\": \"white\", \"linecolor\": \"white\", \"minorgridcolor\": \"white\", \"startlinecolor\": \"#2a3f5f\"}, \"baxis\": {\"endlinecolor\": \"#2a3f5f\", \"gridcolor\": \"white\", \"linecolor\": \"white\", \"minorgridcolor\": \"white\", \"startlinecolor\": \"#2a3f5f\"}, \"type\": \"carpet\"}], \"choropleth\": [{\"colorbar\": {\"outlinewidth\": 0, \"ticks\": \"\"}, \"type\": \"choropleth\"}], \"contour\": [{\"colorbar\": {\"outlinewidth\": 0, \"ticks\": \"\"}, \"colorscale\": [[0.0, \"#0d0887\"], [0.1111111111111111, \"#46039f\"], [0.2222222222222222, \"#7201a8\"], [0.3333333333333333, \"#9c179e\"], [0.4444444444444444, \"#bd3786\"], [0.5555555555555556, \"#d8576b\"], [0.6666666666666666, \"#ed7953\"], [0.7777777777777778, \"#fb9f3a\"], [0.8888888888888888, \"#fdca26\"], [1.0, \"#f0f921\"]], \"type\": \"contour\"}], \"contourcarpet\": [{\"colorbar\": {\"outlinewidth\": 0, \"ticks\": \"\"}, \"type\": \"contourcarpet\"}], \"heatmap\": [{\"colorbar\": {\"outlinewidth\": 0, \"ticks\": \"\"}, \"colorscale\": [[0.0, \"#0d0887\"], [0.1111111111111111, \"#46039f\"], [0.2222222222222222, \"#7201a8\"], [0.3333333333333333, \"#9c179e\"], [0.4444444444444444, \"#bd3786\"], [0.5555555555555556, \"#d8576b\"], [0.6666666666666666, \"#ed7953\"], [0.7777777777777778, \"#fb9f3a\"], [0.8888888888888888, \"#fdca26\"], [1.0, \"#f0f921\"]], \"type\": \"heatmap\"}], \"heatmapgl\": [{\"colorbar\": {\"outlinewidth\": 0, \"ticks\": \"\"}, \"colorscale\": [[0.0, \"#0d0887\"], [0.1111111111111111, \"#46039f\"], [0.2222222222222222, \"#7201a8\"], [0.3333333333333333, \"#9c179e\"], [0.4444444444444444, \"#bd3786\"], [0.5555555555555556, \"#d8576b\"], [0.6666666666666666, \"#ed7953\"], [0.7777777777777778, \"#fb9f3a\"], [0.8888888888888888, \"#fdca26\"], [1.0, \"#f0f921\"]], \"type\": \"heatmapgl\"}], \"histogram\": [{\"marker\": {\"colorbar\": {\"outlinewidth\": 0, \"ticks\": \"\"}}, \"type\": \"histogram\"}], \"histogram2d\": [{\"colorbar\": {\"outlinewidth\": 0, \"ticks\": \"\"}, \"colorscale\": [[0.0, \"#0d0887\"], [0.1111111111111111, \"#46039f\"], [0.2222222222222222, \"#7201a8\"], [0.3333333333333333, \"#9c179e\"], [0.4444444444444444, \"#bd3786\"], [0.5555555555555556, \"#d8576b\"], [0.6666666666666666, \"#ed7953\"], [0.7777777777777778, \"#fb9f3a\"], [0.8888888888888888, \"#fdca26\"], [1.0, \"#f0f921\"]], \"type\": \"histogram2d\"}], \"histogram2dcontour\": [{\"colorbar\": {\"outlinewidth\": 0, \"ticks\": \"\"}, \"colorscale\": [[0.0, \"#0d0887\"], [0.1111111111111111, \"#46039f\"], [0.2222222222222222, \"#7201a8\"], [0.3333333333333333, \"#9c179e\"], [0.4444444444444444, \"#bd3786\"], [0.5555555555555556, \"#d8576b\"], [0.6666666666666666, \"#ed7953\"], [0.7777777777777778, \"#fb9f3a\"], [0.8888888888888888, \"#fdca26\"], [1.0, \"#f0f921\"]], \"type\": \"histogram2dcontour\"}], \"mesh3d\": [{\"colorbar\": {\"outlinewidth\": 0, \"ticks\": \"\"}, \"type\": \"mesh3d\"}], \"parcoords\": [{\"line\": {\"colorbar\": {\"outlinewidth\": 0, \"ticks\": \"\"}}, \"type\": \"parcoords\"}], \"scatter\": [{\"marker\": {\"colorbar\": {\"outlinewidth\": 0, \"ticks\": \"\"}}, \"type\": \"scatter\"}], \"scatter3d\": [{\"line\": {\"colorbar\": {\"outlinewidth\": 0, \"ticks\": \"\"}}, \"marker\": {\"colorbar\": {\"outlinewidth\": 0, \"ticks\": \"\"}}, \"type\": \"scatter3d\"}], \"scattercarpet\": [{\"marker\": {\"colorbar\": {\"outlinewidth\": 0, \"ticks\": \"\"}}, \"type\": \"scattercarpet\"}], \"scattergeo\": [{\"marker\": {\"colorbar\": {\"outlinewidth\": 0, \"ticks\": \"\"}}, \"type\": \"scattergeo\"}], \"scattergl\": [{\"marker\": {\"colorbar\": {\"outlinewidth\": 0, \"ticks\": \"\"}}, \"type\": \"scattergl\"}], \"scattermapbox\": [{\"marker\": {\"colorbar\": {\"outlinewidth\": 0, \"ticks\": \"\"}}, \"type\": \"scattermapbox\"}], \"scatterpolar\": [{\"marker\": {\"colorbar\": {\"outlinewidth\": 0, \"ticks\": \"\"}}, \"type\": \"scatterpolar\"}], \"scatterpolargl\": [{\"marker\": {\"colorbar\": {\"outlinewidth\": 0, \"ticks\": \"\"}}, \"type\": \"scatterpolargl\"}], \"scatterternary\": [{\"marker\": {\"colorbar\": {\"outlinewidth\": 0, \"ticks\": \"\"}}, \"type\": \"scatterternary\"}], \"surface\": [{\"colorbar\": {\"outlinewidth\": 0, \"ticks\": \"\"}, \"colorscale\": [[0.0, \"#0d0887\"], [0.1111111111111111, \"#46039f\"], [0.2222222222222222, \"#7201a8\"], [0.3333333333333333, \"#9c179e\"], [0.4444444444444444, \"#bd3786\"], [0.5555555555555556, \"#d8576b\"], [0.6666666666666666, \"#ed7953\"], [0.7777777777777778, \"#fb9f3a\"], [0.8888888888888888, \"#fdca26\"], [1.0, \"#f0f921\"]], \"type\": \"surface\"}], \"table\": [{\"cells\": {\"fill\": {\"color\": \"#EBF0F8\"}, \"line\": {\"color\": \"white\"}}, \"header\": {\"fill\": {\"color\": \"#C8D4E3\"}, \"line\": {\"color\": \"white\"}}, \"type\": \"table\"}]}, \"layout\": {\"annotationdefaults\": {\"arrowcolor\": \"#2a3f5f\", \"arrowhead\": 0, \"arrowwidth\": 1}, \"colorscale\": {\"diverging\": [[0, \"#8e0152\"], [0.1, \"#c51b7d\"], [0.2, \"#de77ae\"], [0.3, \"#f1b6da\"], [0.4, \"#fde0ef\"], [0.5, \"#f7f7f7\"], [0.6, \"#e6f5d0\"], [0.7, \"#b8e186\"], [0.8, \"#7fbc41\"], [0.9, \"#4d9221\"], [1, \"#276419\"]], \"sequential\": [[0.0, \"#0d0887\"], [0.1111111111111111, \"#46039f\"], [0.2222222222222222, \"#7201a8\"], [0.3333333333333333, \"#9c179e\"], [0.4444444444444444, \"#bd3786\"], [0.5555555555555556, \"#d8576b\"], [0.6666666666666666, \"#ed7953\"], [0.7777777777777778, \"#fb9f3a\"], [0.8888888888888888, \"#fdca26\"], [1.0, \"#f0f921\"]], \"sequentialminus\": [[0.0, \"#0d0887\"], [0.1111111111111111, \"#46039f\"], [0.2222222222222222, \"#7201a8\"], [0.3333333333333333, \"#9c179e\"], [0.4444444444444444, \"#bd3786\"], [0.5555555555555556, \"#d8576b\"], [0.6666666666666666, \"#ed7953\"], [0.7777777777777778, \"#fb9f3a\"], [0.8888888888888888, \"#fdca26\"], [1.0, \"#f0f921\"]]}, \"colorway\": [\"#636efa\", \"#EF553B\", \"#00cc96\", \"#ab63fa\", \"#FFA15A\", \"#19d3f3\", \"#FF6692\", \"#B6E880\", \"#FF97FF\", \"#FECB52\"], \"font\": {\"color\": \"#2a3f5f\"}, \"geo\": {\"bgcolor\": \"white\", \"lakecolor\": \"white\", \"landcolor\": \"#E5ECF6\", \"showlakes\": true, \"showland\": true, \"subunitcolor\": \"white\"}, \"hoverlabel\": {\"align\": \"left\"}, \"hovermode\": \"closest\", \"mapbox\": {\"style\": \"light\"}, \"paper_bgcolor\": \"white\", \"plot_bgcolor\": \"#E5ECF6\", \"polar\": {\"angularaxis\": {\"gridcolor\": \"white\", \"linecolor\": \"white\", \"ticks\": \"\"}, \"bgcolor\": \"#E5ECF6\", \"radialaxis\": {\"gridcolor\": \"white\", \"linecolor\": \"white\", \"ticks\": \"\"}}, \"scene\": {\"xaxis\": {\"backgroundcolor\": \"#E5ECF6\", \"gridcolor\": \"white\", \"gridwidth\": 2, \"linecolor\": \"white\", \"showbackground\": true, \"ticks\": \"\", \"zerolinecolor\": \"white\"}, \"yaxis\": {\"backgroundcolor\": \"#E5ECF6\", \"gridcolor\": \"white\", \"gridwidth\": 2, \"linecolor\": \"white\", \"showbackground\": true, \"ticks\": \"\", \"zerolinecolor\": \"white\"}, \"zaxis\": {\"backgroundcolor\": \"#E5ECF6\", \"gridcolor\": \"white\", \"gridwidth\": 2, \"linecolor\": \"white\", \"showbackground\": true, \"ticks\": \"\", \"zerolinecolor\": \"white\"}}, \"shapedefaults\": {\"line\": {\"color\": \"#2a3f5f\"}}, \"ternary\": {\"aaxis\": {\"gridcolor\": \"white\", \"linecolor\": \"white\", \"ticks\": \"\"}, \"baxis\": {\"gridcolor\": \"white\", \"linecolor\": \"white\", \"ticks\": \"\"}, \"bgcolor\": \"#E5ECF6\", \"caxis\": {\"gridcolor\": \"white\", \"linecolor\": \"white\", \"ticks\": \"\"}}, \"title\": {\"x\": 0.05}, \"xaxis\": {\"automargin\": true, \"gridcolor\": \"white\", \"linecolor\": \"white\", \"ticks\": \"\", \"zerolinecolor\": \"white\", \"zerolinewidth\": 2}, \"yaxis\": {\"automargin\": true, \"gridcolor\": \"white\", \"linecolor\": \"white\", \"ticks\": \"\", \"zerolinecolor\": \"white\", \"zerolinewidth\": 2}}}, \"xaxis\": {\"anchor\": \"y\", \"domain\": [0.0, 0.98], \"title\": {\"text\": \"Gr_Liv_Area\"}}, \"yaxis\": {\"anchor\": \"x\", \"domain\": [0.0, 1.0], \"title\": {\"text\": \"Lot_Area\"}}},\n",
              "                        {\"responsive\": true}\n",
              "                    ).then(function(){\n",
              "                            \n",
              "var gd = document.getElementById('9579a1a7-bbb2-4ce6-bd1c-3f1b3e15889a');\n",
              "var x = new MutationObserver(function (mutations, observer) {{\n",
              "        var display = window.getComputedStyle(gd).display;\n",
              "        if (!display || display === 'none') {{\n",
              "            console.log([gd, 'removed!']);\n",
              "            Plotly.purge(gd);\n",
              "            observer.disconnect();\n",
              "        }}\n",
              "}});\n",
              "\n",
              "// Listen for the removal of the full notebook cells\n",
              "var notebookContainer = gd.closest('#notebook-container');\n",
              "if (notebookContainer) {{\n",
              "    x.observe(notebookContainer, {childList: true});\n",
              "}}\n",
              "\n",
              "// Listen for the clearing of the current output cell\n",
              "var outputEl = gd.closest('.output');\n",
              "if (outputEl) {{\n",
              "    x.observe(outputEl, {childList: true});\n",
              "}}\n",
              "\n",
              "                        })\n",
              "                };\n",
              "                \n",
              "            </script>\n",
              "        </div>\n",
              "</body>\n",
              "</html>"
            ]
          },
          "metadata": {
            "tags": []
          }
        }
      ]
    },
    {
      "cell_type": "code",
      "metadata": {
        "id": "npGGtMosdiYS",
        "colab_type": "code",
        "colab": {
          "base_uri": "https://localhost:8080/",
          "height": 1000
        },
        "outputId": "f084125c-b0f2-4dcb-c09c-25fc9e8477a6"
      },
      "source": [
        "#Gr_Liv_Area: Above grade (ground) living area square feet\n",
        "#Lot_Area: Lot size in square feet\n",
        "px.scatter(train, x='Gr_Liv_Area', y='Lot_Area', color='SalePrice')"
      ],
      "execution_count": 106,
      "outputs": [
        {
          "output_type": "display_data",
          "data": {
            "text/html": [
              "<html>\n",
              "<head><meta charset=\"utf-8\" /></head>\n",
              "<body>\n",
              "    <div>\n",
              "            <script src=\"https://cdnjs.cloudflare.com/ajax/libs/mathjax/2.7.5/MathJax.js?config=TeX-AMS-MML_SVG\"></script><script type=\"text/javascript\">if (window.MathJax) {MathJax.Hub.Config({SVG: {font: \"STIX-Web\"}});}</script>\n",
              "                <script type=\"text/javascript\">window.PlotlyConfig = {MathJaxConfig: 'local'};</script>\n",
              "        <script src=\"https://cdn.plot.ly/plotly-latest.min.js\"></script>    \n",
              "            <div id=\"efaa6717-daf8-4159-aa7f-e80bd32a6f3a\" class=\"plotly-graph-div\" style=\"height:600px; width:100%;\"></div>\n",
              "            <script type=\"text/javascript\">\n",
              "                \n",
              "                    window.PLOTLYENV=window.PLOTLYENV || {};\n",
              "                    \n",
              "                if (document.getElementById(\"efaa6717-daf8-4159-aa7f-e80bd32a6f3a\")) {\n",
              "                    Plotly.newPlot(\n",
              "                        'efaa6717-daf8-4159-aa7f-e80bd32a6f3a',\n",
              "                        [{\"hoverlabel\": {\"namelength\": 0}, \"hovertemplate\": \"Gr_Liv_Area=%{x}<br>Lot_Area=%{y}<br>SalePrice=%{marker.color}\", \"legendgroup\": \"\", \"marker\": {\"color\": [176500, 237500, 206900, 187500, 165000, 195500, 192000, 173000, 177900, 175000, 286000, 247900, 180000, 180000, 181000, 183000, 188000, 194500, 185000, 189000, 188500, 355000, 325000, 387000, 115000, 334000, 133000, 215000, 226500, 175500, 181900, 235000, 220000, 272000, 161000, 175000, 185000, 146900, 292500, 180000, 159900, 205000, 157000, 306000, 133000, 151000, 111900, 123000, 111250, 181000, 103400, 100000, 100500, 106000, 85400, 89500, 111750, 140000, 143000, 148500, 110000, 394617, 426000, 385000, 446261, 317500, 372402, 417500, 383000, 390000, 460000, 379000, 250000, 316000, 615000, 412500, 284000, 284000, 421250, 370000, 336860, 367294, 192000, 274000, 266000, 370967, 234250, 219500, 155000, 154000, 207000, 195000, 219990, 191000, 159895, 187687, 179000, 193000, 190000, 176000, 188000, 213000, 217300, 186500, 226750, 184000, 225000, 185900, 284500, 315000, 250000, 291000, 350000, 279500, 290000, 350000, 341000, 287500, 271000, 301500, 235128, 214000, 232000, 240000, 264132, 245000, 227680, 257000, 297900, 212700, 250580, 226700, 250000, 250000, 339750, 256000, 230348, 207500, 141000, 188000, 192500, 146000, 159000, 155000, 173000, 170000, 182000, 163000, 193500, 189000, 190500, 175000, 179200, 187000, 193000, 153900, 128000, 144000, 135000, 115000, 119916, 142000, 192000, 140000, 290000, 372500, 196000, 171900, 178000, 165000, 146000, 146000, 179400, 172900, 300000, 285000, 290000, 305000, 328900, 160000, 170000, 223000, 170000, 200000, 345000, 245500, 217500, 324000, 162500, 150000, 290000, 174000, 183000, 150000, 145000, 215000, 140500, 240000, 141000, 147000, 135000, 145000, 142600, 135000, 170000, 299800, 185000, 173000, 178400, 176000, 98000, 109008, 135750, 155000, 180500, 174900, 140000, 145000, 179900, 168500, 140000, 145500, 142000, 141000, 153000, 72500, 52000, 118000, 87000, 141500, 119000, 141500, 165500, 112900, 201800, 163000, 139950, 174000, 165000, 227000, 135000, 124000, 140000, 136500, 185000, 163000, 166800, 139000, 166000, 136000, 133000, 116000, 137500, 130000, 180000, 139000, 110000, 100000, 118500, 146000, 89900, 114000, 140000, 86900, 139000, 106250, 171000, 139000, 186000, 157000, 148000, 242000, 116000, 94000, 98300, 127000, 159000, 125900, 155000, 138000, 112500, 105500, 127500, 130000, 150000, 109500, 140000, 167900, 136870, 143000, 73000, 157500, 122600, 111000, 256000, 64000, 139500, 118000, 200000, 119164, 122250, 120000, 155000, 78000, 95000, 115000, 147000, 140000, 46500, 112500, 107900, 65000, 295000, 139500, 153900, 132000, 98000, 114000, 130000, 129500, 129400, 161000, 163000, 128000, 122000, 116900, 325000, 55000, 184000, 110000, 131500, 97000, 115500, 138000, 108000, 79500, 153000, 109500, 124000, 106900, 164900, 119000, 120000, 157000, 105000, 113000, 115000, 123000, 81300, 162900, 150000, 123500, 129900, 128000, 68500, 127000, 207000, 184000, 162500, 145000, 130000, 160000, 161000, 127500, 93850, 136000, 141000, 120000, 127500, 127000, 89500, 125000, 79900, 85000, 82375, 135000, 124000, 134000, 135000, 134432, 127500, 148000, 129500, 157500, 109900, 145000, 130000, 153000, 120000, 152000, 108959, 95541, 80000, 149350, 144900, 185000, 165000, 235000, 140000, 108000, 145000, 152400, 144000, 173000, 192000, 245000, 241500, 256000, 177000, 125600, 155000, 240000, 260000, 185000, 235000, 159900, 99600, 134500, 119000, 107500, 125000, 79000, 95000, 262280, 260000, 226500, 225000, 229000, 177439, 248500, 475000, 395039, 228000, 225000, 195000, 200000, 155000, 144000, 145000, 226001, 215700, 207500, 193000, 188000, 191000, 221000, 231500, 235000, 223500, 130250, 149900, 158000, 147000, 143195, 163000, 110000, 127000, 124900, 230000, 235000, 230500, 230000, 222500, 287000, 274000, 300000, 255900, 224900, 240000, 183000, 207000, 210000, 136500, 145000, 208900, 185000, 214000, 208500, 186500, 210000, 185900, 179900, 218836, 193000, 189000, 149300, 141000, 149000, 144500, 85000, 145900, 123000, 147500, 165000, 135000, 108000, 137500, 165400, 147000, 160500, 176000, 160000, 148000, 82000, 82000, 118000, 82500, 91900, 120000, 96000, 99000, 130500, 135000, 135500, 100000, 108000, 98000, 67000, 135900, 140000, 179500, 136500, 168000, 130000, 189000, 161900, 145000, 191000, 177000, 147500, 91000, 231000, 115000, 138000, 149000, 188700, 198000, 110000, 104000, 257076, 381000, 311500, 263400, 236500, 224000, 116500, 151000, 126000, 120000, 55000, 120500, 120500, 119000, 126000, 99500, 165500, 13100, 89000, 40000, 80900, 81000, 65000, 392500, 294464, 250000, 275000, 300000, 271000, 213000, 171000, 171500, 100000, 228500, 228950, 241500, 287000, 294000, 293077, 264966, 172500, 218689, 150000, 184000, 180000, 175000, 232500, 195000, 305000, 298751, 370000, 209200, 206300, 146000, 160500, 173000, 124000, 115000, 129500, 105000, 94900, 152500, 98000, 81000, 113000, 128500, 119500, 130500, 138000, 134500, 160000, 137500, 172000, 103000, 167300, 167000, 244000, 268000, 225000, 168000, 177000, 169000, 161500, 251000, 160000, 180000, 178750, 176000, 204000, 160000, 160000, 163900, 168000, 154204, 170000, 207500, 182000, 212000, 377426, 349265, 591587, 155000, 319900, 392000, 441929, 455000, 182900, 174000, 178000, 176000, 213000, 192000, 190000, 195000, 148000, 151500, 197000, 192350, 152000, 170000, 175000, 175000, 197900, 174000, 178900, 139000, 143250, 184000, 155000, 133000, 119500, 123000, 110000, 128000, 120500, 133000, 155000, 177000, 113500, 113000, 113700, 106000, 122500, 128000, 155000, 142500, 129250, 356000, 314813, 318000, 322400, 318000, 345474, 415298, 492000, 338931, 450000, 280000, 479069, 395000, 380000, 250000, 440000, 418000, 500067, 260116, 317000, 319500, 325624, 372000, 342000, 354000, 350000, 285000, 281500, 245700, 232698, 250000, 194700, 204000, 200000, 207000, 209500, 209500, 202500, 280000, 277500, 318061, 221370, 200000, 176000, 178900, 168165, 171925, 198444, 203000, 179540, 176485, 181134, 156932, 166000, 177594, 173500, 172500, 194201, 226500, 185485, 259000, 188500, 175000, 215000, 206580, 183500, 211000, 181000, 219500, 175000, 170000, 162000, 187000, 185000, 745000, 384500, 248000, 466500, 410000, 322500, 252000, 755000, 269790, 315750, 290000, 290000, 430000, 263000, 330000, 213133, 260261, 320000, 282922, 215000, 419005, 255000, 147000, 311872, 248328, 227000, 260000, 225000, 249000, 307000, 250000, 221300, 208900, 210400, 255000, 212109, 270000, 303477, 249700, 227875, 261329, 253000, 265000, 340000, 146000, 147000, 149000, 181000, 201000, 191750, 179000, 215000, 179200, 128000, 144000, 144000, 120750, 132500, 132000, 132500, 129000, 143900, 145000, 128500, 125500, 300000, 294000, 129000, 171000, 147000, 302000, 285000, 214000, 166000, 193800, 208900, 194000, 164700, 176500, 176000, 168500, 177000, 177000, 148800, 174000, 239000, 204000, 301000, 312500, 279700, 255000, 194000, 218000, 213750, 187000, 181500, 373000, 190000, 226000, 143450, 240050, 162500, 164000, 185000, 188500, 255000, 136905, 158500, 175500, 127000, 127000, 143000, 156000, 144000, 119000, 103000, 139900, 151500, 126500, 145000, 120000, 124000, 106500, 140500, 137500, 117600, 163500, 161000, 158000, 224500, 147000, 200000, 181900, 150750, 101800, 124000, 138500, 39300, 64500, 64000, 112000, 165000, 144000, 137000, 105000, 146500, 126000, 175000, 158500, 114500, 144000, 129000, 141000, 131000, 142100, 139000, 157900, 139400, 150000, 120000, 174850, 116000, 135000, 163500, 130000, 129500, 142000, 128600, 125000, 136000, 134500, 127000, 130000, 115000, 116900, 132000, 153000, 112500, 138000, 135000, 156000, 301600, 109000, 103200, 128500, 64500, 148000, 86000, 172000, 120000, 128500, 135000, 122900, 119200, 143000, 119000, 102000, 129000, 135000, 152000, 140000, 152000, 156500, 141000, 99000, 187000, 169500, 125500, 130000, 103000, 132000, 127500, 89500, 140000, 99900, 100000, 130000, 135000, 120000, 89471, 85000, 108500, 137000, 110500, 100000, 184900, 145000, 125000, 114000, 90000, 144100, 117500, 124500, 185000, 133900, 152000, 153500, 159500, 87000, 104500, 110000, 136500, 128250, 144000, 210000, 135000, 128000, 131000, 113000, 126000, 132000, 131750, 132500, 137500, 132000, 127500, 102000, 200000, 180500, 165000, 90000, 153575, 140000, 136000, 113000, 117000, 169500, 139400, 202500, 127000, 141000, 212300, 161000, 99500, 101000, 109900, 128500, 122000, 87000, 50000, 219000, 200500, 126000, 108500, 130000, 158450, 115400, 118500, 165000, 123000, 129000, 125000, 108000, 119900, 115000, 134500, 127000, 129000, 143500, 129000, 187000, 158000, 112000, 165250, 150000, 137000, 89500, 302000, 182000, 211000, 216000, 130000, 109900, 255000, 243000, 154000, 118000, 80000, 150000, 86000, 130000, 125000, 136500, 96000, 120000, 228500, 179900, 225000, 301000, 238000, 228500, 220000, 383970, 424870, 250000, 360000, 279500, 200141, 246500, 276000, 203000, 155835, 194000, 195400, 217000, 212999, 175900, 191000, 176432, 277000, 207000, 277000, 240000, 187500, 279000, 139500, 126000, 177500, 175000, 211000, 146000, 147900, 123600, 204750, 235500, 217000, 190550, 217500, 226000, 180000, 131000, 153500, 160000, 134900, 130000, 120000, 112500, 122000, 127000, 117000, 305900, 228500, 270000, 192000, 213000, 200000, 267000, 228000, 275000, 211000, 285000, 240000, 131500, 246900, 219500, 185000, 179400, 213500, 179600, 173500, 167840, 168675, 167000, 140000, 118500, 110000, 94750, 122000, 110000, 118500, 133500, 148000, 141000, 155000, 157000, 171500, 183850, 184750, 140000, 131750, 61500, 111000, 98500, 79000, 108500, 110000, 112000, 125000, 79275, 119000, 200000, 150000, 165000, 96500, 136500, 146500, 175000, 148500, 141500, 189950, 135000, 164000, 90350, 139000, 119750, 145000, 145000, 238000, 153500, 239000, 359100, 188000, 220000, 140000, 315000, 259500, 257500, 219500, 217000, 201000, 215000, 123900, 170000, 200000, 198000, 315000, 115000, 141000, 87000, 129850, 100000, 150909, 75200, 118400, 67000, 152000, 68104, 119600, 140000, 124900, 375000, 235000, 183500, 156000, 134000, 215000, 245000, 210000, 148000, 143000, 244000, 330000, 170000, 257000, 231713, 265900, 239000, 248900, 174000, 187500, 204000, 180500, 187500, 282000, 178000, 270000, 279900, 186700, 283463, 392000, 281213, 147000, 130000, 140000, 132250, 143000, 168000, 129900, 134000, 85500, 106500, 93900, 75000, 84500, 75190, 146800, 153500, 188000, 196000, 157000, 138000, 129500, 80000, 129500, 135000, 124500, 139000, 93500, 124500, 149900, 157500, 169000, 252000, 192100, 183500, 222000, 170000, 187500, 202000, 185000, 320000, 240000, 250000, 239900, 309000, 274725, 270000, 183500, 165600, 176500, 130000, 239000, 275000, 457347, 545224, 356383, 556581, 361919, 535000, 401179, 438780, 169000, 145000, 318000, 319000, 470000, 202500, 229000, 235000, 190000, 169000, 241500, 188900, 207500, 250000, 179900, 172000, 294323, 184500, 153500, 162900, 181000, 155000, 138800, 116050, 88000, 97500, 190000, 105500, 125500, 83000, 116000, 91500, 118000, 89000, 108000, 94500, 146300, 145000, 123000, 137500, 144000, 315000, 412083, 342643, 252000, 293000, 415000, 326000, 325300, 309000, 300000, 275500, 338500, 345000, 298236, 329900, 360000, 281000, 372397, 378000, 374000, 437154, 275000, 279000, 185850, 282500, 202500, 202665, 332200, 310090, 171750, 169990, 170440, 169985, 179665, 219210, 174190, 172785, 258000, 185101, 210250, 234000, 215000, 246990, 178740, 225000, 167240, 156820, 213490, 264561, 246578, 192140, 183200, 178000, 201490, 230500, 180000, 172400, 215000, 199900, 173000, 287602, 230000, 348000, 286000, 300000, 625000, 405000, 280000, 258000, 350000, 584500, 321000, 290000, 315000, 252000, 423000, 290000, 232000, 199000, 198600, 405749, 232600, 266000, 186500, 200825, 197000, 185000, 176000, 187750, 139500, 186800, 132000, 142500, 158000, 184000, 184900, 187000, 175900, 248500, 172000, 151000, 150000, 107000, 119900, 129500, 125000, 119500, 144000, 151000, 126000, 116000, 133500, 120875, 137000, 124000, 135000, 129200, 260000, 260000, 334000, 310000, 268000, 262000, 176400, 197000, 151000, 147400, 149900, 144152, 166000, 183900, 165000, 139000, 200000, 221000, 270000, 165000, 214000, 188000, 190000, 170000, 385000, 146500, 170000, 262500, 179900, 250000, 165150, 164500, 140000, 135500, 142000, 155000, 157500, 138500, 140000, 124400, 158000, 146000, 190000, 136500, 129900, 145000, 185900, 160000, 167000, 157500, 140000, 150000, 151500, 129800, 137000, 137000, 121600, 85500, 79900, 127000, 161000, 146500, 135000, 137900, 133000, 137000, 121000, 119000, 172000, 98600, 226000, 118000, 235000, 135000, 132500, 143000, 132000, 145250, 162000, 148000, 141000, 153000, 134450, 135960, 156000, 140000, 139500, 155000, 127000, 133500, 125000, 142000, 167000, 159000, 180000, 127000, 112000, 99800, 117000, 108480, 68000, 86900, 120000, 155500, 80000, 105000, 160000, 170000, 160000, 159950, 165000, 159000, 147000, 115000, 159500, 120000, 129900, 183000, 157500, 277500, 207500, 147500, 135000, 109500, 109900, 133700, 81400, 87500, 93500, 119000, 141000, 146000, 155000, 134500, 120000, 105000, 124000, 169000, 107000, 135000, 111500, 156500, 178000, 139900, 105000, 110000, 111500, 108000, 111500, 124000, 105000, 116000, 96900, 135500, 139000, 61500, 120000, 126175, 64000, 137000, 87000, 163000, 155000, 79000, 144000, 114504, 157000, 125000, 475000, 93500, 125000, 64500, 100000, 140200, 202500, 159000, 119900, 114500, 115000, 75000, 88000, 80500, 149000, 110000, 110500, 89000, 113000, 109000, 220000, 129000, 117000, 52500, 107000, 116500, 72000, 119500, 125500, 91000, 84500, 90000, 137500, 150000, 131000, 130000, 125000, 80000, 157000, 148000, 90000, 154500, 153600, 164500, 132000, 142500, 158000, 149500, 165000, 180000, 160500, 156500, 157000, 172500, 155000, 170000, 105000, 145000, 168000, 278000, 164000, 225000, 130000, 142500, 148400, 190000, 146000, 128000, 225000, 274970, 235000, 415000, 182000, 135000, 137000, 136900, 149900, 123500, 93000, 91500, 180000, 209000, 215000, 224500, 229800, 183600, 194000, 193879, 221500, 204900, 239799, 233555, 260000, 294900, 209700, 225000, 181000, 220000, 190000, 180000, 280000, 158900, 148000, 145000, 187000, 193000, 156000, 235000, 217000, 214000, 196000, 217000, 200000, 192500, 205000, 132500, 157500, 174000, 128500, 128500, 149900, 119900, 137000, 255000, 222000, 214000, 220000, 275000, 197000, 230000, 268500, 210900, 227000, 237000, 274300, 216837, 133000, 155900, 233230, 207000, 195000, 200000, 203160, 195800, 212900, 196500, 198000, 173900, 163990, 164990, 98000, 149900, 102000, 127500, 127500, 119900, 196500, 229000, 145000, 140000, 142500, 134000, 130000, 130000, 137500, 130000, 97900, 92000, 107000, 81000, 104900, 115000, 125000, 116000, 83000, 118500, 35000, 121000, 160000, 140000, 137000, 128000, 160000, 138887, 149000, 102000, 167000, 200100, 131000, 112000, 140000, 195000, 230000, 194000, 137500, 250000, 218000, 239000, 199500, 210000, 230000, 217500, 257000, 157000, 223000, 102000, 145400, 72000, 85000, 106500, 139000, 108000, 51689, 35311, 115000, 78000, 375000, 300000, 242500, 145000, 209000, 135000, 148000, 171000, 335000, 230000, 250764, 228000, 176000, 180000, 250000, 202000, 312500, 320000, 369900, 359900, 81500, 215000, 164000, 153500, 84500, 104500, 127000, 151400, 126500, 146500, 73000, 79400, 140000, 92000, 87550, 79500, 90500, 71000, 150900, 188000, 160000, 131000, 142500, 131000, 132000, 170000, 188000], \"coloraxis\": \"coloraxis\", \"symbol\": \"circle\"}, \"mode\": \"markers\", \"name\": \"\", \"showlegend\": false, \"type\": \"scattergl\", \"x\": [1414, 2117, 2112, 1604, 1470, 1604, 1638, 1636, 1384, 1446, 1593, 1682, 1337, 1280, 1604, 1633, 1658, 1895, 1709, 1228, 1337, 2500, 2504, 1884, 1474, 1710, 1488, 2093, 1688, 1422, 1260, 2064, 1782, 2872, 1211, 1126, 2044, 1308, 2840, 1523, 1444, 1964, 1178, 2340, 1792, 1054, 936, 864, 864, 1337, 987, 987, 987, 987, 987, 987, 1302, 1069, 1456, 1055, 892, 1932, 2332, 2084, 2713, 1582, 1710, 2464, 1950, 2748, 2790, 2331, 2088, 2332, 2470, 2668, 2046, 1575, 2649, 2690, 1866, 1702, 1367, 1518, 1684, 1800, 1342, 1342, 1626, 1626, 1358, 1455, 1576, 1504, 1266, 1246, 1515, 1593, 1166, 1456, 1720, 1986, 1358, 1792, 1892, 1490, 2322, 1651, 2199, 2630, 2198, 2172, 2006, 2125, 2501, 2113, 2418, 2197, 2127, 1987, 1580, 1933, 1574, 1578, 1506, 1563, 1428, 1861, 1874, 1372, 1372, 1768, 1992, 1958, 2078, 1660, 1218, 1728, 1080, 1696, 1663, 1175, 1114, 1114, 1640, 1162, 1609, 1680, 1679, 1657, 1677, 1737, 1294, 1710, 1617, 1199, 984, 912, 864, 890, 864, 912, 1430, 1641, 2683, 2786, 1391, 1250, 1245, 1200, 1392, 1392, 1501, 1549, 1638, 1310, 1419, 1557, 1709, 1252, 1404, 1789, 1586, 1607, 2393, 1288, 1239, 1719, 1232, 2944, 1671, 1682, 1427, 1740, 1258, 1620, 1625, 2614, 1464, 912, 925, 1728, 1728, 1656, 1670, 2715, 1876, 1632, 999, 1978, 1014, 907, 952, 1128, 1425, 1165, 1136, 1092, 1265, 1350, 1114, 1053, 1252, 1100, 1118, 720, 729, 1077, 906, 1496, 1252, 1337, 1661, 1036, 1820, 1362, 1144, 1537, 1431, 1988, 1098, 1144, 1283, 1176, 1440, 1261, 1570, 1196, 1392, 1080, 1104, 882, 1152, 950, 1790, 952, 773, 1764, 1216, 1824, 869, 1159, 1558, 672, 1436, 1294, 1716, 1044, 1312, 1253, 1081, 2069, 910, 876, 1048, 1507, 1256, 1027, 1269, 1320, 984, 832, 1278, 1800, 1588, 825, 1796, 1611, 1117, 1133, 764, 1539, 1323, 1360, 2792, 672, 1456, 1594, 2082, 1656, 1740, 1027, 1436, 899, 1080, 789, 1122, 1499, 407, 928, 901, 1588, 3493, 1627, 1416, 1450, 1344, 1017, 2350, 2058, 1540, 1378, 1912, 1484, 2358, 1111, 2775, 1086, 2495, 984, 1795, 882, 1093, 1143, 1668, 935, 1738, 784, 1210, 1290, 1672, 949, 1158, 1497, 1342, 1013, 1216, 1136, 808, 1573, 2009, 1902, 1774, 1362, 520, 1285, 1848, 1820, 1716, 1505, 838, 1984, 1666, 1609, 768, 1536, 1969, 1308, 1040, 1236, 1406, 825, 1198, 759, 1344, 1469, 1054, 1211, 1271, 1588, 1355, 1075, 1040, 1096, 904, 992, 894, 1034, 1073, 1126, 1258, 1140, 1006, 1228, 960, 1188, 1383, 1252, 1601, 672, 1721, 1350, 904, 1291, 2022, 1524, 1363, 1663, 1357, 1079, 1094, 2358, 1518, 1674, 2108, 1509, 864, 1269, 1367, 1347, 1164, 1096, 1111, 2329, 2814, 1626, 2200, 2037, 1356, 1615, 2276, 1766, 2097, 1511, 1643, 1688, 990, 1099, 990, 1418, 1771, 1652, 1790, 1724, 1479, 1494, 1792, 1823, 1786, 938, 985, 1174, 1026, 1076, 1558, 924, 864, 780, 1795, 1865, 2161, 1852, 2031, 2263, 1947, 1786, 2290, 1768, 2327, 1640, 1764, 1908, 848, 848, 1493, 1838, 1536, 1710, 1445, 1436, 1582, 1234, 1564, 1361, 1456, 848, 848, 848, 848, 796, 2200, 1092, 1256, 1033, 1127, 996, 1181, 1656, 1117, 1398, 1132, 5642, 1072, 1152, 1152, 1440, 1152, 784, 1053, 1137, 930, 1200, 1470, 1393, 1204, 1292, 864, 864, 1716, 1482, 2192, 1694, 1424, 1964, 2601, 1920, 1316, 2555, 1680, 1264, 790, 1512, 1639, 1603, 1502, 1660, 1938, 1374, 1091, 1873, 3447, 1954, 2161, 1898, 1640, 1032, 1556, 919, 1090, 796, 816, 778, 1200, 1656, 912, 1955, 733, 1361, 1317, 1049, 894, 864, 1652, 1648, 1646, 1646, 2032, 1689, 1820, 1118, 1279, 1872, 1689, 1786, 1501, 2898, 1537, 1646, 1780, 1442, 1612, 1495, 1651, 1256, 1509, 1440, 1675, 2262, 1728, 1964, 1344, 1344, 1092, 1189, 1200, 1040, 1304, 1475, 988, 988, 1160, 1092, 630, 988, 816, 923, 816, 816, 845, 1750, 889, 1968, 1836, 1587, 1277, 2223, 2217, 1733, 1572, 1470, 1600, 1384, 1652, 1694, 1714, 1553, 1253, 2299, 1187, 1472, 1482, 1642, 1128, 1088, 2090, 1179, 1321, 1922, 2541, 2338, 1424, 1612, 1419, 2234, 2042, 1440, 1284, 1868, 1479, 1664, 1930, 1969, 2030, 1032, 1177, 1725, 1353, 1620, 1220, 1484, 1743, 1935, 1324, 1877, 1109, 981, 1479, 1422, 914, 950, 872, 858, 914, 864, 767, 1337, 1337, 1092, 1218, 1218, 1302, 1365, 958, 1548, 1055, 988, 1816, 1828, 1694, 1694, 1734, 2122, 2121, 2656, 2550, 2046, 2172, 2552, 1973, 2643, 1634, 1976, 2758, 2290, 2152, 2473, 2100, 2161, 1802, 2956, 2468, 2385, 2374, 1818, 1614, 1721, 1828, 1362, 1302, 1302, 1362, 1554, 1554, 1370, 1577, 1561, 1869, 1324, 1405, 1536, 1484, 1458, 1495, 1746, 1326, 1456, 1302, 1340, 1412, 1504, 1456, 1258, 1258, 1402, 1589, 1266, 1530, 1119, 1374, 1959, 1525, 1720, 1948, 1690, 1995, 1647, 1430, 1320, 1690, 1644, 4476, 2551, 2285, 2633, 3078, 2582, 2385, 4316, 2013, 2398, 2520, 2531, 3228, 2202, 2538, 1369, 1542, 1905, 1464, 1534, 1966, 1636, 1795, 1726, 1689, 1588, 1538, 1496, 1506, 1694, 1977, 1830, 1338, 1335, 1792, 1588, 1959, 2610, 1656, 1761, 1584, 1685, 2443, 2466, 1100, 1143, 1094, 1486, 1721, 1820, 1349, 1494, 1575, 1266, 884, 2020, 894, 970, 1057, 999, 1120, 1696, 1040, 988, 902, 2503, 2167, 1037, 1701, 1055, 2810, 2872, 1378, 1151, 1565, 1352, 1352, 1250, 1501, 1458, 1512, 1573, 1525, 1102, 1441, 1950, 1358, 2048, 2362, 1494, 2362, 1432, 1437, 1295, 1855, 1262, 2497, 2620, 1929, 1152, 2411, 1082, 1295, 1610, 1594, 2075, 1680, 1093, 1242, 1052, 1107, 1214, 1073, 1344, 1728, 1224, 1422, 958, 1065, 1138, 912, 1074, 882, 1187, 964, 894, 1200, 1042, 1302, 2154, 1374, 1652, 1429, 1327, 1224, 932, 908, 334, 666, 670, 808, 1977, 1150, 1920, 1376, 1644, 1560, 1280, 1254, 912, 1524, 2380, 936, 1008, 1053, 1056, 1442, 1056, 1244, 1144, 1721, 922, 1048, 1657, 1411, 1216, 1154, 1560, 948, 1040, 1008, 925, 1360, 1540, 925, 928, 1647, 924, 1544, 893, 1728, 3086, 1034, 882, 1281, 968, 1534, 691, 1651, 888, 952, 2080, 924, 1082, 1846, 988, 1238, 864, 1134, 1040, 1170, 1242, 1377, 1800, 925, 1851, 1812, 864, 936, 960, 1432, 1296, 1022, 936, 967, 1047, 1072, 1174, 1183, 1131, 1141, 960, 1798, 866, 968, 1772, 1642, 1472, 1232, 2337, 1650, 2210, 1358, 2454, 2291, 1616, 1559, 2554, 1248, 968, 1382, 1060, 1435, 1167, 1635, 1274, 1232, 1218, 884, 1409, 1322, 1426, 1281, 1513, 854, 1367, 986, 2264, 1824, 1376, 1316, 1396, 1344, 2526, 1173, 1214, 1818, 1108, 2294, 1355, 1375, 1952, 2180, 1315, 1111, 1196, 1382, 1889, 840, 1484, 2267, 3086, 1134, 1282, 999, 1452, 1005, 1029, 1020, 1040, 913, 894, 948, 868, 897, 943, 955, 894, 1285, 912, 1375, 2654, 1416, 1302, 1299, 1176, 998, 1824, 1522, 2060, 1325, 1630, 1242, 2422, 2158, 1626, 864, 943, 1440, 605, 1038, 1342, 1480, 1362, 1340, 1822, 1442, 2243, 2730, 2127, 1982, 1958, 2696, 2828, 1651, 2140, 1494, 1316, 1651, 2574, 1274, 1456, 1240, 1208, 1546, 1500, 1270, 1795, 1314, 2062, 1873, 2144, 1953, 2087, 1743, 1022, 990, 1200, 1308, 1796, 990, 1097, 990, 1786, 1873, 1753, 1690, 1842, 1479, 1668, 894, 1025, 1009, 1040, 907, 879, 882, 969, 864, 875, 2000, 2169, 1673, 1459, 1932, 1729, 2452, 1592, 2439, 1992, 1668, 2090, 848, 1341, 1928, 1337, 1476, 1797, 1422, 1190, 1330, 1491, 1536, 1214, 936, 1088, 960, 1351, 1179, 816, 1044, 1113, 2233, 1125, 1090, 1408, 5095, 4676, 1072, 960, 1152, 948, 1195, 774, 865, 894, 1346, 768, 864, 948, 3395, 2592, 1502, 789, 1422, 1298, 1768, 1098, 1436, 1426, 1461, 1646, 694, 1250, 954, 1958, 2002, 1718, 1226, 2624, 3194, 1755, 1991, 1355, 2727, 2320, 1839, 1740, 2259, 1560, 1488, 1045, 1680, 1020, 1696, 2726, 1517, 1215, 803, 1601, 1123, 1828, 816, 1012, 1077, 1558, 845, 1991, 1073, 1001, 1625, 1625, 1299, 912, 1080, 1392, 1409, 1478, 918, 1026, 1501, 1502, 1328, 2279, 1689, 1484, 1571, 1646, 1240, 1717, 1756, 1312, 1146, 1922, 1491, 1629, 2486, 1572, 1776, 1824, 2482, 1120, 2034, 936, 1040, 1632, 1622, 1060, 1142, 1092, 992, 1092, 1092, 630, 1092, 1062, 1008, 1356, 1676, 1432, 796, 768, 1608, 845, 1178, 816, 816, 974, 887, 1293, 1024, 1797, 1390, 1851, 1525, 2236, 1671, 1498, 1776, 1511, 2462, 1670, 2064, 1801, 2212, 2021, 2687, 1169, 1501, 1632, 1204, 1767, 1742, 2798, 3390, 2473, 2868, 2576, 2698, 2795, 2945, 2320, 1056, 1714, 1826, 2000, 1621, 2183, 2263, 1574, 1102, 1872, 1857, 1686, 2784, 1552, 1083, 2318, 1875, 1074, 1664, 1309, 1103, 1096, 864, 858, 874, 1419, 1092, 1365, 987, 1030, 1218, 1218, 948, 1092, 987, 1069, 1387, 900, 1055, 1456, 1980, 2589, 2596, 1618, 1740, 1868, 1850, 2376, 2452, 2206, 2098, 2091, 2324, 2389, 2358, 1944, 1970, 1792, 1780, 1792, 2728, 1904, 1914, 1364, 1565, 1368, 1368, 1686, 1666, 1405, 1316, 1456, 1492, 1496, 1863, 1326, 1456, 2373, 1492, 1364, 1557, 1456, 1511, 1414, 1548, 1248, 1142, 1506, 1567, 1500, 1838, 1509, 1414, 1598, 1936, 1509, 1664, 1889, 1886, 1671, 2322, 2291, 2392, 1976, 2234, 3627, 2855, 1924, 2263, 2726, 3500, 2494, 2526, 2799, 1964, 2097, 1660, 1616, 1504, 1278, 2640, 1489, 1939, 1553, 1716, 1576, 1262, 1266, 1301, 1142, 1400, 1131, 1141, 1158, 1686, 1585, 1837, 1603, 1731, 1398, 1217, 1320, 1056, 965, 988, 1728, 1654, 1211, 1212, 984, 909, 925, 1024, 935, 912, 1236, 941, 2646, 2417, 2826, 2520, 2295, 1624, 1143, 1247, 1200, 1223, 1223, 1200, 1524, 1452, 1382, 1080, 1694, 1568, 1494, 1208, 1235, 1036, 1226, 1226, 1842, 1193, 1920, 2156, 1416, 2654, 1790, 1334, 1164, 980, 1051, 1770, 976, 1052, 898, 1051, 1141, 1200, 1993, 1050, 864, 1712, 1565, 1251, 1488, 1440, 1095, 1053, 1248, 816, 1008, 1043, 1230, 869, 747, 1252, 1433, 1624, 1216, 2136, 1578, 1728, 936, 1584, 1246, 1235, 2157, 1128, 3112, 1008, 1190, 1144, 1364, 1383, 1336, 1370, 1092, 1124, 1236, 943, 1050, 1375, 1008, 1575, 1145, 1005, 1056, 884, 2039, 1384, 2640, 1312, 1310, 713, 833, 1073, 715, 720, 1130, 1595, 1760, 1214, 2414, 1466, 1324, 1086, 1146, 1734, 1207, 912, 1194, 864, 816, 1773, 1472, 2448, 1600, 1521, 1192, 1040, 1040, 1040, 1040, 1040, 1040, 1556, 1150, 1150, 1348, 999, 1045, 864, 1025, 2014, 1328, 1668, 1657, 1416, 1641, 1428, 1004, 813, 1951, 1032, 844, 1750, 864, 1118, 1376, 960, 1566, 492, 1182, 1163, 840, 1928, 1774, 1768, 2104, 1440, 1690, 1368, 1762, 1200, 3608, 1248, 960, 1020, 788, 1577, 1827, 1664, 1118, 1176, 1344, 1162, 1015, 912, 1576, 1324, 1103, 616, 1048, 816, 2486, 960, 1635, 693, 1430, 1330, 819, 1376, 1360, 1077, 754, 984, 1422, 1921, 1640, 1352, 1032, 879, 1073, 1382, 1296, 1068, 1064, 1320, 934, 1059, 1159, 1400, 1458, 1721, 1040, 1967, 1949, 1920, 1803, 1779, 872, 960, 1437, 1830, 1000, 2287, 810, 894, 1700, 1453, 1350, 1150, 2008, 2201, 2009, 3672, 1560, 1488, 1057, 1855, 1609, 1148, 1124, 1456, 1298, 2559, 1911, 1440, 1876, 1208, 1220, 1294, 1614, 1498, 1962, 1846, 1734, 1590, 1809, 1614, 1596, 1915, 1582, 988, 1533, 1388, 914, 1100, 1499, 1425, 990, 1525, 1494, 1588, 1749, 1779, 1861, 1776, 1541, 954, 1388, 1282, 971, 864, 894, 864, 1320, 1989, 1762, 1755, 1358, 1787, 1909, 1654, 2214, 2049, 1939, 1995, 2097, 1836, 848, 848, 1919, 1390, 1948, 1700, 1737, 1611, 1552, 1720, 1336, 1500, 1456, 1310, 1436, 1466, 1220, 1012, 980, 1176, 1724, 2314, 1072, 1072, 1072, 1709, 1709, 1709, 1709, 1708, 936, 1338, 1669, 1184, 1221, 864, 1482, 1250, 1414, 2230, 498, 1273, 1928, 1595, 1551, 1340, 1479, 1784, 1510, 1522, 1636, 1802, 1465, 1288, 1717, 1550, 1517, 1717, 1180, 2057, 1671, 2345, 1609, 1801, 1811, 1647, 2315, 1336, 1844, 976, 1285, 672, 641, 951, 1638, 1336, 729, 480, 1396, 936, 1778, 1646, 1625, 1664, 1491, 1004, 1210, 1959, 2519, 1295, 1650, 1707, 1137, 1339, 2514, 1403, 1800, 1960, 2028, 1838, 1600, 1368, 1216, 1337, 1140, 1304, 1475, 2521, 874, 1652, 630, 1092, 1360, 630, 1092, 1092, 1092, 1092, 1728, 1728, 1126, 1224, 1003, 902, 970, 1389, 2000], \"xaxis\": \"x\", \"y\": [11029, 12925, 11075, 8702, 8139, 9535, 9042, 15038, 14137, 21872, 4923, 6264, 5395, 5070, 10839, 11184, 8000, 10832, 14067, 4671, 5950, 13543, 11198, 15401, 31220, 8118, 47280, 20544, 12680, 12090, 10825, 18559, 14450, 12227, 13068, 15611, 10400, 9743, 12511, 11361, 10400, 10480, 10000, 14311, 9000, 9750, 10295, 7560, 12735, 4060, 1680, 1680, 1890, 1869, 1680, 1680, 1680, 4043, 2308, 2529, 9477, 12444, 12474, 14803, 14948, 12704, 13891, 13693, 14418, 13418, 12539, 12151, 8899, 10574, 12720, 13688, 10625, 10845, 16900, 16451, 10110, 8769, 12304, 12677, 8849, 8232, 6240, 6240, 2448, 2448, 8198, 3940, 3940, 3182, 3182, 3710, 9024, 7415, 9587, 8029, 8010, 8396, 7301, 10261, 8220, 15384, 12460, 8390, 9660, 9200, 14260, 11000, 11675, 10990, 11929, 10437, 10542, 10010, 10944, 14303, 11932, 14598, 11957, 13253, 14587, 10206, 12274, 9801, 9428, 8640, 8640, 9803, 9375, 10625, 10800, 10625, 7500, 8791, 7500, 10110, 12774, 13072, 13695, 13695, 8366, 9260, 8453, 8480, 8125, 14565, 8450, 8285, 7153, 9291, 8012, 7892, 9100, 12968, 8100, 8450, 6360, 6768, 19508, 10759, 9205, 11025, 4282, 4017, 3435, 3180, 3180, 3604, 2280, 2280, 4765, 4538, 4385, 4109, 5119, 2160, 2160, 10646, 2645, 2645, 3951, 14963, 11064, 10846, 11120, 24572, 16280, 10400, 11104, 11050, 11040, 15387, 9750, 10800, 8814, 8872, 8125, 11072, 13101, 9246, 13355, 8963, 9120, 9130, 12122, 9900, 7785, 8593, 8475, 8700, 10175, 9020, 9200, 8250, 9350, 9020, 9900, 10007, 10721, 12493, 11332, 6627, 4130, 7420, 4882, 9600, 9600, 9600, 9600, 7584, 13700, 10197, 7875, 8400, 9150, 14670, 7390, 9204, 7763, 8856, 9840, 9120, 13200, 9000, 11900, 9464, 10425, 11556, 9373, 12774, 14250, 7350, 7677, 8838, 8480, 12436, 10122, 7506, 10930, 5400, 10836, 10800, 9247, 10180, 11355, 10920, 12929, 27650, 8892, 7200, 7200, 7910, 8000, 8000, 7931, 8064, 6390, 7227, 7200, 8513, 7200, 7200, 7056, 9760, 7590, 9836, 5232, 10440, 9184, 4800, 10440, 4800, 6000, 11426, 11426, 7628, 7308, 5400, 10800, 6756, 5914, 6000, 12000, 9000, 7311, 6000, 6000, 12205, 18386, 9142, 12665, 5350, 4571, 9143, 9600, 9600, 6000, 9600, 10800, 6300, 5250, 5700, 13500, 11340, 10800, 9750, 12150, 12702, 8516, 7111, 7425, 9100, 7010, 6130, 5000, 5870, 6000, 6000, 6000, 6000, 6000, 5000, 5520, 6240, 6120, 6240, 6240, 6120, 6120, 6155, 6324, 8635, 13053, 9120, 9144, 9144, 10267, 8094, 5100, 4347, 6291, 10266, 6876, 10320, 7200, 7006, 7920, 8235, 5586, 10320, 10320, 10320, 9488, 8250, 21286, 17120, 10106, 11235, 11200, 13014, 7162, 10265, 9764, 7703, 9981, 7400, 12900, 12900, 9000, 8544, 9239, 14175, 13284, 13500, 13825, 10200, 10532, 8375, 10200, 2887, 10005, 20270, 39104, 53227, 11512, 5190, 10452, 45600, 19550, 21780, 13728, 9571, 9350, 9360, 8405, 7000, 10880, 9600, 9084, 11839, 9771, 9938, 14171, 10541, 10616, 9345, 11778, 11778, 11228, 11454, 11500, 12798, 9750, 9525, 9245, 8696, 13142, 8998, 9179, 8924, 9382, 12803, 12435, 12192, 11250, 9200, 8385, 12250, 10970, 9216, 14330, 7990, 7180, 7200, 9742, 10316, 10400, 9066, 11404, 9240, 9720, 14860, 11250, 8158, 10905, 7226, 11690, 8750, 4435, 4426, 13125, 10126, 9135, 8450, 9750, 8450, 8320, 11049, 11058, 9627, 8199, 4426, 4426, 4438, 4438, 8777, 8777, 9825, 9937, 12102, 6500, 13907, 10012, 6931, 9638, 7200, 7024, 63887, 3675, 6040, 6012, 12108, 6845, 6931, 12180, 8050, 9520, 11767, 8172, 16466, 7692, 5142, 5604, 8248, 5687, 12155, 8400, 8400, 7290, 8525, 9842, 7804, 8969, 11526, 15576, 15564, 6292, 7609, 10480, 9650, 7200, 11988, 11700, 9260, 7801, 9670, 14100, 15660, 12392, 26073, 14778, 1879, 1950, 7000, 6000, 3636, 5890, 6900, 8155, 6000, 7392, 9000, 14584, 5280, 8500, 5150, 18000, 9000, 5587, 3843, 3811, 3842, 23730, 13265, 11050, 9880, 10125, 10260, 9990, 164660, 4084, 15498, 11563, 9520, 12852, 9802, 12018, 12890, 12416, 18265, 10200, 11202, 7915, 12244, 11449, 11447, 8940, 7060, 9278, 4500, 14137, 4224, 2665, 2665, 1974, 1596, 17979, 1477, 1890, 21750, 6490, 6951, 6600, 6600, 6600, 12508, 12395, 11075, 56600, 10667, 10628, 13651, 15865, 12394, 10364, 13869, 8773, 8872, 5330, 10147, 8637, 7875, 7875, 7500, 9556, 10784, 9125, 7655, 18160, 3696, 5062, 4740, 5118, 14157, 12328, 51974, 41600, 8035, 8089, 14082, 13870, 12546, 10960, 12090, 12090, 12299, 11339, 11952, 12046, 10395, 11850, 11584, 10400, 10793, 13001, 12243, 11700, 12384, 8991, 8000, 10500, 10530, 7472, 9457, 7920, 9758, 8294, 7340, 17199, 9000, 4058, 4113, 10943, 2205, 1890, 2058, 2016, 1920, 4928, 2308, 2304, 7150, 12469, 11694, 12030, 11825, 12085, 14333, 14450, 13641, 13440, 15431, 14154, 13891, 14226, 13693, 11428, 14977, 13654, 17169, 16659, 9591, 9709, 10562, 13615, 13069, 12099, 14277, 11999, 12568, 9926, 9254, 10732, 7577, 3901, 3903, 6289, 4590, 4590, 6442, 7841, 7313, 7820, 6240, 3242, 10237, 10237, 13204, 8857, 9729, 12216, 9018, 8993, 8899, 8499, 8229, 7713, 7697, 3922, 3922, 3621, 3710, 14572, 16219, 11084, 11796, 10936, 8244, 7875, 8063, 8740, 7917, 9967, 7750, 9487, 9649, 15623, 12191, 11000, 11400, 10557, 11002, 10790, 21535, 9920, 11787, 9950, 12257, 12692, 11762, 9044, 9910, 11830, 11670, 15256, 10612, 12291, 13501, 9986, 9416, 9849, 10000, 8847, 9158, 8251, 10084, 9605, 8778, 8640, 9000, 8640, 10411, 9000, 9000, 11096, 10207, 10440, 11824, 10625, 11143, 7500, 7500, 12450, 7441, 8462, 11613, 8450, 16196, 8012, 8012, 9180, 8400, 6285, 8480, 7420, 7758, 6970, 13673, 7476, 9945, 6173, 19522, 17542, 10751, 16647, 12712, 9572, 10678, 4379, 3523, 3784, 4230, 3606, 4251, 2280, 3230, 2117, 2117, 2117, 5105, 2645, 7399, 7321, 8010, 8413, 9466, 12000, 16157, 10768, 3840, 9600, 9600, 17778, 18890, 7050, 11700, 8000, 8723, 11700, 11358, 9547, 10530, 11500, 10738, 9600, 10800, 8050, 10355, 10289, 9503, 10624, 10899, 12342, 12772, 8892, 10482, 7535, 7450, 8339, 14357, 8243, 8680, 8800, 9200, 9350, 8800, 11382, 22002, 14585, 7388, 9842, 8280, 12172, 5000, 5000, 3500, 5175, 9500, 9600, 11345, 9492, 9480, 8668, 10050, 9600, 10150, 11344, 18450, 8760, 6860, 8250, 8176, 9750, 9250, 11988, 9100, 9736, 9770, 10152, 12155, 12198, 10050, 11556, 8078, 10950, 7942, 8923, 8540, 7134, 7150, 8400, 13300, 9532, 15783, 14190, 9600, 12099, 21281, 10134, 5500, 10284, 10800, 10800, 5400, 10090, 8700, 8300, 11606, 8064, 11664, 10496, 7200, 7200, 7200, 7000, 7500, 7315, 7903, 8000, 8000, 7000, 9760, 7590, 6600, 6760, 6978, 9600, 6000, 4480, 7200, 3153, 10800, 7200, 9000, 6000, 5925, 5925, 6000, 9639, 3880, 8520, 10337, 9863, 9600, 4571, 13600, 8398, 9900, 3600, 13500, 7200, 5400, 8100, 10800, 9439, 8626, 11800, 6854, 8674, 8731, 8737, 6125, 6000, 6000, 6120, 6240, 6240, 6240, 6120, 6120, 6120, 6240, 6180, 7755, 13515, 8850, 8550, 8730, 5700, 8520, 5680, 5680, 7758, 7449, 13200, 6882, 9000, 9780, 10320, 4330, 7200, 4800, 12358, 10120, 4388, 10320, 12888, 18030, 8160, 4484, 11235, 11235, 14299, 7943, 14149, 11677, 8400, 7094, 8978, 8425, 8665, 8398, 7742, 8724, 8197, 8169, 14175, 16779, 25339, 6960, 11375, 13770, 9000, 115149, 11075, 10029, 17541, 22692, 17808, 12671, 12615, 10512, 5400, 11515, 7711, 9098, 3869, 9280, 11100, 7550, 9060, 23920, 10357, 13474, 10380, 13125, 11287, 9317, 9965, 9965, 9178, 10481, 10652, 11175, 10235, 9588, 8814, 11103, 8556, 6762, 11750, 8760, 7242, 9316, 9317, 14364, 8883, 159000, 53107, 12205, 20064, 14217, 8775, 11249, 10021, 9531, 8428, 16561, 8070, 9337, 10820, 12352, 9543, 8826, 10665, 11317, 11800, 8660, 9720, 8982, 16300, 9675, 7700, 10356, 7200, 7200, 10386, 9375, 11354, 8749, 8749, 8158, 16226, 11927, 12728, 15295, 11248, 10000, 4435, 17227, 8200, 8450, 8145, 9245, 8500, 8769, 8334, 8333, 9045, 9170, 9825, 8308, 10921, 16287, 8240, 11841, 6285, 7917, 9555, 8536, 7024, 7023, 39290, 40094, 3675, 6400, 6882, 10215, 8741, 4270, 10042, 9450, 11767, 8172, 8172, 8190, 10896, 10890, 10592, 10594, 7223, 6821, 7200, 4000, 6720, 7642, 7155, 7128, 4280, 5362, 6305, 7136, 6270, 7230, 13108, 22420, 12168, 7810, 11275, 6221, 10570, 7259, 14442, 13125, 21000, 25485, 21579, 1782, 17871, 3907, 20693, 18044, 8500, 7000, 5000, 7288, 6060, 9060, 3672, 8263, 8967, 13710, 11067, 8250, 6565, 6060, 5568, 4750, 12150, 7540, 9187, 10000, 12864, 9928, 8750, 8410, 4054, 9763, 16905, 19958, 8368, 9037, 10991, 10656, 10331, 13758, 9303, 6718, 9590, 11305, 7777, 14536, 11800, 35133, 15306, 12633, 12665, 8402, 43500, 6710, 25286, 25000, 32463, 4224, 4224, 1504, 1533, 1495, 2001, 1936, 1890, 11333, 9129, 15957, 33983, 8286, 6723, 7244, 27697, 7599, 11000, 8314, 11625, 10712, 10447, 11027, 10533, 11765, 39384, 11727, 8238, 13006, 13041, 13031, 9783, 11207, 19378, 14859, 13128, 10463, 13751, 23257, 13108, 8076, 7685, 9084, 3701, 5306, 6563, 16023, 18062, 12292, 16056, 12438, 16052, 15922, 13682, 14762, 34650, 8147, 11302, 18261, 14145, 13837, 16659, 18800, 10464, 10400, 10530, 10240, 16692, 11475, 9927, 9512, 10530, 10140, 10140, 10140, 10000, 15870, 9353, 8125, 7200, 8773, 2760, 2160, 1953, 1890, 1680, 1680, 1680, 1680, 1680, 4043, 7514, 7838, 2280, 2179, 16737, 16387, 16259, 16163, 12228, 14780, 16033, 14215, 13418, 13975, 10240, 9942, 11924, 10672, 11643, 12378, 11065, 13758, 14828, 11846, 20431, 10927, 13215, 7052, 5911, 6955, 6792, 7740, 6373, 3136, 10237, 10237, 10237, 17104, 14054, 11660, 15578, 11631, 9073, 3087, 3196, 3196, 2938, 3072, 3072, 3010, 3010, 3013, 3982, 4045, 21930, 7861, 9056, 9171, 11194, 7875, 8121, 8658, 11214, 10852, 12104, 8738, 9452, 9660, 9545, 35760, 9233, 12011, 12090, 10019, 17242, 10236, 10120, 12585, 12447, 20896, 10182, 8688, 10936, 8640, 13162, 11216, 10728, 8125, 8125, 8125, 7200, 7500, 7200, 7733, 11024, 13072, 13072, 13072, 7800, 7632, 8304, 7153, 9370, 7175, 7175, 9019, 8900, 7800, 9100, 9100, 8927, 9240, 8471, 9308, 8450, 8638, 13052, 13526, 8020, 6993, 8789, 14330, 16059, 11025, 14541, 13346, 12461, 3628, 3316, 3180, 2544, 2544, 3180, 2998, 3735, 2651, 4447, 8314, 7180, 9549, 11250, 3760, 3640, 3874, 3876, 50271, 13110, 10192, 20781, 11700, 11029, 10400, 10140, 9600, 9750, 9600, 8640, 9360, 8400, 8400, 9759, 9600, 9230, 14803, 10659, 9100, 8393, 8800, 8800, 10368, 9350, 10382, 8973, 10800, 8550, 11425, 9724, 4712, 5900, 5825, 7438, 9600, 10858, 9600, 10680, 9490, 9462, 9888, 8917, 12700, 8500, 14200, 9000, 25419, 9723, 7728, 8163, 8400, 11600, 9610, 10000, 14850, 10152, 10011, 7032, 8092, 11310, 12778, 10170, 7700, 11050, 13600, 15428, 21299, 13300, 22136, 7500, 7000, 10410, 5400, 5400, 10914, 7008, 10800, 7200, 10818, 10410, 10800, 10800, 8658, 13400, 10184, 9786, 9510, 7800, 8910, 7332, 7100, 10800, 11650, 18275, 16321, 12144, 10800, 7200, 7200, 7560, 8544, 8544, 8544, 8512, 7945, 7000, 7590, 10205, 7400, 7000, 7000, 9856, 9906, 9600, 5520, 9600, 9600, 6451, 3960, 5684, 7745, 7741, 5633, 9000, 7200, 4400, 7614, 6000, 6000, 7830, 9576, 5820, 5747, 9142, 9600, 10800, 6300, 5000, 8850, 3600, 7200, 11340, 22950, 5976, 9750, 4761, 7446, 6435, 11737, 5000, 7800, 6240, 6240, 6120, 6120, 6240, 6240, 6120, 6000, 6000, 6380, 11672, 33120, 9873, 5310, 4118, 10320, 7518, 9000, 8600, 7200, 9786, 6780, 7200, 12375, 11136, 21370, 6930, 8250, 5220, 5500, 11235, 10791, 8414, 11327, 11777, 10366, 9000, 11553, 7844, 9535, 10335, 7176, 9662, 8235, 13650, 13125, 17920, 17529, 10246, 14175, 20355, 13050, 15593, 10820, 13350, 1700, 5271, 9375, 6488, 7800, 19690, 19950, 19800, 11679, 12048, 10519, 9525, 9525, 6420, 8335, 7585, 11200, 12128, 9554, 9069, 11003, 7488, 7406, 6762, 11210, 8990, 8760, 13377, 11645, 11645, 10984, 9316, 9316, 10041, 36500, 21453, 70761, 12000, 8846, 13015, 12438, 8685, 13568, 9100, 9236, 10264, 9272, 13426, 13450, 14006, 13704, 10780, 8340, 10385, 9920, 9560, 9800, 7200, 3612, 11367, 9930, 9468, 11088, 14781, 8726, 8125, 10566, 21533, 11250, 11250, 9750, 9100, 4435, 4435, 15611, 8810, 12393, 9135, 8581, 8400, 10084, 11645, 8772, 8846, 8461, 8767, 8777, 17755, 8877, 7840, 9400, 16133, 7162, 11060, 3675, 3675, 3675, 2522, 2522, 2522, 2522, 3363, 6956, 7822, 8707, 8410, 9738, 8172, 16012, 8248, 8248, 6204, 8088, 11388, 7082, 8400, 10890, 6430, 7000, 13132, 4899, 6000, 9399, 7588, 10164, 6191, 9550, 21780, 11435, 12400, 11600, 11500, 8170, 16560, 12320, 14210, 14115, 12984, 15600, 15750, 16381, 7288, 7000, 8534, 7030, 8765, 9060, 11040, 12366, 9000, 9000, 8520, 5748, 3842, 23580, 8385, 9116, 10530, 11080, 11070, 26178, 8239, 50102, 16669, 13811, 8049, 11170, 8098, 14331, 13618, 11443, 11577, 31250, 7020, 4500, 4500, 17217, 2665, 2665, 3964, 10172, 11836, 1470, 1484, 13384, 1533, 1533, 1526, 1936, 1894, 12640, 9297, 17400, 20000, 7937, 8885, 10441, 10010, 9627], \"yaxis\": \"y\"}],\n",
              "                        {\"coloraxis\": {\"colorbar\": {\"title\": {\"text\": \"SalePrice\"}}, \"colorscale\": [[0.0, \"#0d0887\"], [0.1111111111111111, \"#46039f\"], [0.2222222222222222, \"#7201a8\"], [0.3333333333333333, \"#9c179e\"], [0.4444444444444444, \"#bd3786\"], [0.5555555555555556, \"#d8576b\"], [0.6666666666666666, \"#ed7953\"], [0.7777777777777778, \"#fb9f3a\"], [0.8888888888888888, \"#fdca26\"], [1.0, \"#f0f921\"]]}, \"height\": 600, \"legend\": {\"tracegroupgap\": 0}, \"margin\": {\"t\": 60}, \"template\": {\"data\": {\"bar\": [{\"error_x\": {\"color\": \"#2a3f5f\"}, \"error_y\": {\"color\": \"#2a3f5f\"}, \"marker\": {\"line\": {\"color\": \"#E5ECF6\", \"width\": 0.5}}, \"type\": \"bar\"}], \"barpolar\": [{\"marker\": {\"line\": {\"color\": \"#E5ECF6\", \"width\": 0.5}}, \"type\": \"barpolar\"}], \"carpet\": [{\"aaxis\": {\"endlinecolor\": \"#2a3f5f\", \"gridcolor\": \"white\", \"linecolor\": \"white\", \"minorgridcolor\": \"white\", \"startlinecolor\": \"#2a3f5f\"}, \"baxis\": {\"endlinecolor\": \"#2a3f5f\", \"gridcolor\": \"white\", \"linecolor\": \"white\", \"minorgridcolor\": \"white\", \"startlinecolor\": \"#2a3f5f\"}, \"type\": \"carpet\"}], \"choropleth\": [{\"colorbar\": {\"outlinewidth\": 0, \"ticks\": \"\"}, \"type\": \"choropleth\"}], \"contour\": [{\"colorbar\": {\"outlinewidth\": 0, \"ticks\": \"\"}, \"colorscale\": [[0.0, \"#0d0887\"], [0.1111111111111111, \"#46039f\"], [0.2222222222222222, \"#7201a8\"], [0.3333333333333333, \"#9c179e\"], [0.4444444444444444, \"#bd3786\"], [0.5555555555555556, \"#d8576b\"], [0.6666666666666666, \"#ed7953\"], [0.7777777777777778, \"#fb9f3a\"], [0.8888888888888888, \"#fdca26\"], [1.0, \"#f0f921\"]], \"type\": \"contour\"}], \"contourcarpet\": [{\"colorbar\": {\"outlinewidth\": 0, \"ticks\": \"\"}, \"type\": \"contourcarpet\"}], \"heatmap\": [{\"colorbar\": {\"outlinewidth\": 0, \"ticks\": \"\"}, \"colorscale\": [[0.0, \"#0d0887\"], [0.1111111111111111, \"#46039f\"], [0.2222222222222222, \"#7201a8\"], [0.3333333333333333, \"#9c179e\"], [0.4444444444444444, \"#bd3786\"], [0.5555555555555556, \"#d8576b\"], [0.6666666666666666, \"#ed7953\"], [0.7777777777777778, \"#fb9f3a\"], [0.8888888888888888, \"#fdca26\"], [1.0, \"#f0f921\"]], \"type\": \"heatmap\"}], \"heatmapgl\": [{\"colorbar\": {\"outlinewidth\": 0, \"ticks\": \"\"}, \"colorscale\": [[0.0, \"#0d0887\"], [0.1111111111111111, \"#46039f\"], [0.2222222222222222, \"#7201a8\"], [0.3333333333333333, \"#9c179e\"], [0.4444444444444444, \"#bd3786\"], [0.5555555555555556, \"#d8576b\"], [0.6666666666666666, \"#ed7953\"], [0.7777777777777778, \"#fb9f3a\"], [0.8888888888888888, \"#fdca26\"], [1.0, \"#f0f921\"]], \"type\": \"heatmapgl\"}], \"histogram\": [{\"marker\": {\"colorbar\": {\"outlinewidth\": 0, \"ticks\": \"\"}}, \"type\": \"histogram\"}], \"histogram2d\": [{\"colorbar\": {\"outlinewidth\": 0, \"ticks\": \"\"}, \"colorscale\": [[0.0, \"#0d0887\"], [0.1111111111111111, \"#46039f\"], [0.2222222222222222, \"#7201a8\"], [0.3333333333333333, \"#9c179e\"], [0.4444444444444444, \"#bd3786\"], [0.5555555555555556, \"#d8576b\"], [0.6666666666666666, \"#ed7953\"], [0.7777777777777778, \"#fb9f3a\"], [0.8888888888888888, \"#fdca26\"], [1.0, \"#f0f921\"]], \"type\": \"histogram2d\"}], \"histogram2dcontour\": [{\"colorbar\": {\"outlinewidth\": 0, \"ticks\": \"\"}, \"colorscale\": [[0.0, \"#0d0887\"], [0.1111111111111111, \"#46039f\"], [0.2222222222222222, \"#7201a8\"], [0.3333333333333333, \"#9c179e\"], [0.4444444444444444, \"#bd3786\"], [0.5555555555555556, \"#d8576b\"], [0.6666666666666666, \"#ed7953\"], [0.7777777777777778, \"#fb9f3a\"], [0.8888888888888888, \"#fdca26\"], [1.0, \"#f0f921\"]], \"type\": \"histogram2dcontour\"}], \"mesh3d\": [{\"colorbar\": {\"outlinewidth\": 0, \"ticks\": \"\"}, \"type\": \"mesh3d\"}], \"parcoords\": [{\"line\": {\"colorbar\": {\"outlinewidth\": 0, \"ticks\": \"\"}}, \"type\": \"parcoords\"}], \"scatter\": [{\"marker\": {\"colorbar\": {\"outlinewidth\": 0, \"ticks\": \"\"}}, \"type\": \"scatter\"}], \"scatter3d\": [{\"line\": {\"colorbar\": {\"outlinewidth\": 0, \"ticks\": \"\"}}, \"marker\": {\"colorbar\": {\"outlinewidth\": 0, \"ticks\": \"\"}}, \"type\": \"scatter3d\"}], \"scattercarpet\": [{\"marker\": {\"colorbar\": {\"outlinewidth\": 0, \"ticks\": \"\"}}, \"type\": \"scattercarpet\"}], \"scattergeo\": [{\"marker\": {\"colorbar\": {\"outlinewidth\": 0, \"ticks\": \"\"}}, \"type\": \"scattergeo\"}], \"scattergl\": [{\"marker\": {\"colorbar\": {\"outlinewidth\": 0, \"ticks\": \"\"}}, \"type\": \"scattergl\"}], \"scattermapbox\": [{\"marker\": {\"colorbar\": {\"outlinewidth\": 0, \"ticks\": \"\"}}, \"type\": \"scattermapbox\"}], \"scatterpolar\": [{\"marker\": {\"colorbar\": {\"outlinewidth\": 0, \"ticks\": \"\"}}, \"type\": \"scatterpolar\"}], \"scatterpolargl\": [{\"marker\": {\"colorbar\": {\"outlinewidth\": 0, \"ticks\": \"\"}}, \"type\": \"scatterpolargl\"}], \"scatterternary\": [{\"marker\": {\"colorbar\": {\"outlinewidth\": 0, \"ticks\": \"\"}}, \"type\": \"scatterternary\"}], \"surface\": [{\"colorbar\": {\"outlinewidth\": 0, \"ticks\": \"\"}, \"colorscale\": [[0.0, \"#0d0887\"], [0.1111111111111111, \"#46039f\"], [0.2222222222222222, \"#7201a8\"], [0.3333333333333333, \"#9c179e\"], [0.4444444444444444, \"#bd3786\"], [0.5555555555555556, \"#d8576b\"], [0.6666666666666666, \"#ed7953\"], [0.7777777777777778, \"#fb9f3a\"], [0.8888888888888888, \"#fdca26\"], [1.0, \"#f0f921\"]], \"type\": \"surface\"}], \"table\": [{\"cells\": {\"fill\": {\"color\": \"#EBF0F8\"}, \"line\": {\"color\": \"white\"}}, \"header\": {\"fill\": {\"color\": \"#C8D4E3\"}, \"line\": {\"color\": \"white\"}}, \"type\": \"table\"}]}, \"layout\": {\"annotationdefaults\": {\"arrowcolor\": \"#2a3f5f\", \"arrowhead\": 0, \"arrowwidth\": 1}, \"colorscale\": {\"diverging\": [[0, \"#8e0152\"], [0.1, \"#c51b7d\"], [0.2, \"#de77ae\"], [0.3, \"#f1b6da\"], [0.4, \"#fde0ef\"], [0.5, \"#f7f7f7\"], [0.6, \"#e6f5d0\"], [0.7, \"#b8e186\"], [0.8, \"#7fbc41\"], [0.9, \"#4d9221\"], [1, \"#276419\"]], \"sequential\": [[0.0, \"#0d0887\"], [0.1111111111111111, \"#46039f\"], [0.2222222222222222, \"#7201a8\"], [0.3333333333333333, \"#9c179e\"], [0.4444444444444444, \"#bd3786\"], [0.5555555555555556, \"#d8576b\"], [0.6666666666666666, \"#ed7953\"], [0.7777777777777778, \"#fb9f3a\"], [0.8888888888888888, \"#fdca26\"], [1.0, \"#f0f921\"]], \"sequentialminus\": [[0.0, \"#0d0887\"], [0.1111111111111111, \"#46039f\"], [0.2222222222222222, \"#7201a8\"], [0.3333333333333333, \"#9c179e\"], [0.4444444444444444, \"#bd3786\"], [0.5555555555555556, \"#d8576b\"], [0.6666666666666666, \"#ed7953\"], [0.7777777777777778, \"#fb9f3a\"], [0.8888888888888888, \"#fdca26\"], [1.0, \"#f0f921\"]]}, \"colorway\": [\"#636efa\", \"#EF553B\", \"#00cc96\", \"#ab63fa\", \"#FFA15A\", \"#19d3f3\", \"#FF6692\", \"#B6E880\", \"#FF97FF\", \"#FECB52\"], \"font\": {\"color\": \"#2a3f5f\"}, \"geo\": {\"bgcolor\": \"white\", \"lakecolor\": \"white\", \"landcolor\": \"#E5ECF6\", \"showlakes\": true, \"showland\": true, \"subunitcolor\": \"white\"}, \"hoverlabel\": {\"align\": \"left\"}, \"hovermode\": \"closest\", \"mapbox\": {\"style\": \"light\"}, \"paper_bgcolor\": \"white\", \"plot_bgcolor\": \"#E5ECF6\", \"polar\": {\"angularaxis\": {\"gridcolor\": \"white\", \"linecolor\": \"white\", \"ticks\": \"\"}, \"bgcolor\": \"#E5ECF6\", \"radialaxis\": {\"gridcolor\": \"white\", \"linecolor\": \"white\", \"ticks\": \"\"}}, \"scene\": {\"xaxis\": {\"backgroundcolor\": \"#E5ECF6\", \"gridcolor\": \"white\", \"gridwidth\": 2, \"linecolor\": \"white\", \"showbackground\": true, \"ticks\": \"\", \"zerolinecolor\": \"white\"}, \"yaxis\": {\"backgroundcolor\": \"#E5ECF6\", \"gridcolor\": \"white\", \"gridwidth\": 2, \"linecolor\": \"white\", \"showbackground\": true, \"ticks\": \"\", \"zerolinecolor\": \"white\"}, \"zaxis\": {\"backgroundcolor\": \"#E5ECF6\", \"gridcolor\": \"white\", \"gridwidth\": 2, \"linecolor\": \"white\", \"showbackground\": true, \"ticks\": \"\", \"zerolinecolor\": \"white\"}}, \"shapedefaults\": {\"line\": {\"color\": \"#2a3f5f\"}}, \"ternary\": {\"aaxis\": {\"gridcolor\": \"white\", \"linecolor\": \"white\", \"ticks\": \"\"}, \"baxis\": {\"gridcolor\": \"white\", \"linecolor\": \"white\", \"ticks\": \"\"}, \"bgcolor\": \"#E5ECF6\", \"caxis\": {\"gridcolor\": \"white\", \"linecolor\": \"white\", \"ticks\": \"\"}}, \"title\": {\"x\": 0.05}, \"xaxis\": {\"automargin\": true, \"gridcolor\": \"white\", \"linecolor\": \"white\", \"ticks\": \"\", \"zerolinecolor\": \"white\", \"zerolinewidth\": 2}, \"yaxis\": {\"automargin\": true, \"gridcolor\": \"white\", \"linecolor\": \"white\", \"ticks\": \"\", \"zerolinecolor\": \"white\", \"zerolinewidth\": 2}}}, \"xaxis\": {\"anchor\": \"y\", \"domain\": [0.0, 0.98], \"title\": {\"text\": \"Gr_Liv_Area\"}}, \"yaxis\": {\"anchor\": \"x\", \"domain\": [0.0, 1.0], \"title\": {\"text\": \"Lot_Area\"}}},\n",
              "                        {\"responsive\": true}\n",
              "                    ).then(function(){\n",
              "                            \n",
              "var gd = document.getElementById('efaa6717-daf8-4159-aa7f-e80bd32a6f3a');\n",
              "var x = new MutationObserver(function (mutations, observer) {{\n",
              "        var display = window.getComputedStyle(gd).display;\n",
              "        if (!display || display === 'none') {{\n",
              "            console.log([gd, 'removed!']);\n",
              "            Plotly.purge(gd);\n",
              "            observer.disconnect();\n",
              "        }}\n",
              "}});\n",
              "\n",
              "// Listen for the removal of the full notebook cells\n",
              "var notebookContainer = gd.closest('#notebook-container');\n",
              "if (notebookContainer) {{\n",
              "    x.observe(notebookContainer, {childList: true});\n",
              "}}\n",
              "\n",
              "// Listen for the clearing of the current output cell\n",
              "var outputEl = gd.closest('.output');\n",
              "if (outputEl) {{\n",
              "    x.observe(outputEl, {childList: true});\n",
              "}}\n",
              "\n",
              "                        })\n",
              "                };\n",
              "                \n",
              "            </script>\n",
              "        </div>\n",
              "</body>\n",
              "</html>"
            ]
          },
          "metadata": {
            "tags": []
          }
        }
      ]
    },
    {
      "cell_type": "code",
      "metadata": {
        "id": "7v0xLIvPaalk",
        "colab_type": "code",
        "colab": {
          "base_uri": "https://localhost:8080/",
          "height": 1000
        },
        "outputId": "e25ffc95-f9e6-4b6a-ed81-f01893e87bfd"
      },
      "source": [
        "for col in sorted(train.columns):\n",
        "    # Check how many unique values the column has first ...\n",
        "    if train[col].nunique() <= 16:\n",
        "        target = 'SalePrice'\n",
        "        ax=sns.catplot(x=col, y='SalePrice', data=train, kind='bar', color='#6182ad')\n",
        "        ax.set_xticklabels( rotation=90)\n",
        "        plt.show()"
      ],
      "execution_count": 95,
      "outputs": [
        {
          "output_type": "display_data",
          "data": {
            "image/png": "[encoded data removed]",
            "text/plain": [
              "<Figure size 360x360 with 1 Axes>"
            ]
          },
          "metadata": {
            "tags": []
          }
        },
        {
          "output_type": "display_data",
          "data": {
            "image/png": "[encoded data removed]",
            "text/plain": [
              "<Figure size 360x360 with 1 Axes>"
            ]
          },
          "metadata": {
            "tags": []
          }
        },
        {
          "output_type": "display_data",
          "data": {
            "image/png": "[encoded data removed]",
            "text/plain": [
              "<Figure size 360x360 with 1 Axes>"
            ]
          },
          "metadata": {
            "tags": []
          }
        },
        {
          "output_type": "display_data",
          "data": {
            "image/png": "[encoded data removed]",
            "text/plain": [
              "<Figure size 360x360 with 1 Axes>"
            ]
          },
          "metadata": {
            "tags": []
          }
        },
        {
          "output_type": "display_data",
          "data": {
            "image/png": "[encoded data removed]",
            "text/plain": [
              "<Figure size 360x360 with 1 Axes>"
            ]
          },
          "metadata": {
            "tags": []
          }
        },
        {
          "output_type": "display_data",
          "data": {
            "image/png": "[encoded data removed]",
            "text/plain": [
              "<Figure size 360x360 with 1 Axes>"
            ]
          },
          "metadata": {
            "tags": []
          }
        },
        {
          "output_type": "display_data",
          "data": {
            "image/png": "[encoded data removed]",
            "text/plain": [
              "<Figure size 360x360 with 1 Axes>"
            ]
          },
          "metadata": {
            "tags": []
          }
        },
        {
          "output_type": "display_data",
          "data": {
            "image/png": "[encoded data removed]",
            "text/plain": [
              "<Figure size 360x360 with 1 Axes>"
            ]
          },
          "metadata": {
            "tags": []
          }
        },
        {
          "output_type": "display_data",
          "data": {
            "image/png": "[encoded data removed]",
            "text/plain": [
              "<Figure size 360x360 with 1 Axes>"
            ]
          },
          "metadata": {
            "tags": []
          }
        },
        {
          "output_type": "display_data",
          "data": {
            "image/png": "[encoded data removed]",
            "text/plain": [
              "<Figure size 360x360 with 1 Axes>"
            ]
          },
          "metadata": {
            "tags": []
          }
        },
        {
          "output_type": "display_data",
          "data": {
            "image/png": "[encoded data removed]",
            "text/plain": [
              "<Figure size 360x360 with 1 Axes>"
            ]
          },
          "metadata": {
            "tags": []
          }
        },
        {
          "output_type": "display_data",
          "data": {
            "image/png": "[encoded data removed]",
            "text/plain": [
              "<Figure size 360x360 with 1 Axes>"
            ]
          },
          "metadata": {
            "tags": []
          }
        },
        {
          "output_type": "display_data",
          "data": {
            "image/png": "[encoded data removed]",
            "text/plain": [
              "<Figure size 360x360 with 1 Axes>"
            ]
          },
          "metadata": {
            "tags": []
          }
        },
        {
          "output_type": "display_data",
          "data": {
            "image/png": "[encoded data removed]",
            "text/plain": [
              "<Figure size 360x360 with 1 Axes>"
            ]
          },
          "metadata": {
            "tags": []
          }
        },
        {
          "output_type": "display_data",
          "data": {
            "image/png": "[encoded data removed]",
            "text/plain": [
              "<Figure size 360x360 with 1 Axes>"
            ]
          },
          "metadata": {
            "tags": []
          }
        },
        {
          "output_type": "display_data",
          "data": {
            "image/png": "[encoded data removed]",
            "text/plain": [
              "<Figure size 360x360 with 1 Axes>"
            ]
          },
          "metadata": {
            "tags": []
          }
        },
        {
          "output_type": "display_data",
          "data": {
            "image/png": "[encoded data removed]",
            "text/plain": [
              "<Figure size 360x360 with 1 Axes>"
            ]
          },
          "metadata": {
            "tags": []
          }
        },
        {
          "output_type": "display_data",
          "data": {
            "image/png": "[encoded data removed]",
            "text/plain": [
              "<Figure size 360x360 with 1 Axes>"
            ]
          },
          "metadata": {
            "tags": []
          }
        },
        {
          "output_type": "display_data",
          "data": {
            "image/png": "[encoded data removed]",
            "text/plain": [
              "<Figure size 360x360 with 1 Axes>"
            ]
          },
          "metadata": {
            "tags": []
          }
        },
        {
          "output_type": "display_data",
          "data": {
            "image/png": "[encoded data removed]",
            "text/plain": [
              "<Figure size 360x360 with 1 Axes>"
            ]
          },
          "metadata": {
            "tags": []
          }
        },
        {
          "output_type": "display_data",
          "data": {
            "image/png": "[encoded data removed]",
            "text/plain": [
              "<Figure size 360x360 with 1 Axes>"
            ]
          },
          "metadata": {
            "tags": []
          }
        },
        {
          "output_type": "display_data",
          "data": {
            "image/png": "[encoded data removed]",
            "text/plain": [
              "<Figure size 360x360 with 1 Axes>"
            ]
          },
          "metadata": {
            "tags": []
          }
        },
        {
          "output_type": "display_data",
          "data": {
            "image/png": "[encoded data removed]",
            "text/plain": [
              "<Figure size 360x360 with 1 Axes>"
            ]
          },
          "metadata": {
            "tags": []
          }
        },
        {
          "output_type": "display_data",
          "data": {
            "image/png": "[encoded data removed]",
            "text/plain": [
              "<Figure size 360x360 with 1 Axes>"
            ]
          },
          "metadata": {
            "tags": []
          }
        },
        {
          "output_type": "display_data",
          "data": {
            "image/png": "[encoded data removed]",
            "text/plain": [
              "<Figure size 360x360 with 1 Axes>"
            ]
          },
          "metadata": {
            "tags": []
          }
        },
        {
          "output_type": "display_data",
          "data": {
            "image/png": "[encoded data removed]",
            "text/plain": [
              "<Figure size 360x360 with 1 Axes>"
            ]
          },
          "metadata": {
            "tags": []
          }
        },
        {
          "output_type": "display_data",
          "data": {
            "image/png": "[encoded data removed]",
            "text/plain": [
              "<Figure size 360x360 with 1 Axes>"
            ]
          },
          "metadata": {
            "tags": []
          }
        },
        {
          "output_type": "display_data",
          "data": {
            "image/png": "[encoded data removed]",
            "text/plain": [
              "<Figure size 360x360 with 1 Axes>"
            ]
          },
          "metadata": {
            "tags": []
          }
        },
        {
          "output_type": "display_data",
          "data": {
            "image/png": "[encoded data removed]",
            "text/plain": [
              "<Figure size 360x360 with 1 Axes>"
            ]
          },
          "metadata": {
            "tags": []
          }
        },
        {
          "output_type": "display_data",
          "data": {
            "image/png": "[encoded data removed]",
            "text/plain": [
              "<Figure size 360x360 with 1 Axes>"
            ]
          },
          "metadata": {
            "tags": []
          }
        },
        {
          "output_type": "display_data",
          "data": {
            "image/png": "[encoded data removed]",
            "text/plain": [
              "<Figure size 360x360 with 1 Axes>"
            ]
          },
          "metadata": {
            "tags": []
          }
        },
        {
          "output_type": "display_data",
          "data": {
            "image/png": "[encoded data removed]",
            "text/plain": [
              "<Figure size 360x360 with 1 Axes>"
            ]
          },
          "metadata": {
            "tags": []
          }
        },
        {
          "output_type": "display_data",
          "data": {
            "image/png": "[encoded data removed]",
            "text/plain": [
              "<Figure size 360x360 with 1 Axes>"
            ]
          },
          "metadata": {
            "tags": []
          }
        },
        {
          "output_type": "display_data",
          "data": {
            "image/png": "[encoded data removed]",
            "text/plain": [
              "<Figure size 360x360 with 1 Axes>"
            ]
          },
          "metadata": {
            "tags": []
          }
        },
        {
          "output_type": "display_data",
          "data": {
            "image/png": "[encoded data removed]",
            "text/plain": [
              "<Figure size 360x360 with 1 Axes>"
            ]
          },
          "metadata": {
            "tags": []
          }
        },
        {
          "output_type": "display_data",
          "data": {
            "image/png": "[encoded data removed]",
            "text/plain": [
              "<Figure size 360x360 with 1 Axes>"
            ]
          },
          "metadata": {
            "tags": []
          }
        },
        {
          "output_type": "display_data",
          "data": {
            "image/png": "[encoded data removed]",
            "text/plain": [
              "<Figure size 360x360 with 1 Axes>"
            ]
          },
          "metadata": {
            "tags": []
          }
        },
        {
          "output_type": "display_data",
          "data": {
            "image/png": "[encoded data removed]",
            "text/plain": [
              "<Figure size 360x360 with 1 Axes>"
            ]
          },
          "metadata": {
            "tags": []
          }
        },
        {
          "output_type": "display_data",
          "data": {
            "image/png": "[encoded data removed]",
            "text/plain": [
              "<Figure size 360x360 with 1 Axes>"
            ]
          },
          "metadata": {
            "tags": []
          }
        },
        {
          "output_type": "display_data",
          "data": {
            "image/png": "[encoded data removed]",
            "text/plain": [
              "<Figure size 360x360 with 1 Axes>"
            ]
          },
          "metadata": {
            "tags": []
          }
        }
      ]
    },
    {
      "cell_type": "code",
      "metadata": {
        "id": "c4EI_OptccrF",
        "colab_type": "code",
        "colab": {
          "base_uri": "https://localhost:8080/",
          "height": 221
        },
        "outputId": "48b63dd0-3825-4b1b-c540-83ca80b95aec"
      },
      "source": [
        "train.head()"
      ],
      "execution_count": 96,
      "outputs": [
        {
          "output_type": "execute_result",
          "data": {
            "text/html": [
              "<div>\n",
              "<style scoped>\n",
              "    .dataframe tbody tr th:only-of-type {\n",
              "        vertical-align: middle;\n",
              "    }\n",
              "\n",
              "    .dataframe tbody tr th {\n",
              "        vertical-align: top;\n",
              "    }\n",
              "\n",
              "    .dataframe thead th {\n",
              "        text-align: right;\n",
              "    }\n",
              "</style>\n",
              "<table border=\"1\" class=\"dataframe\">\n",
              "  <thead>\n",
              "    <tr style=\"text-align: right;\">\n",
              "      <th></th>\n",
              "      <th>1st_Flr_SF</th>\n",
              "      <th>Bedroom_AbvGr</th>\n",
              "      <th>Bldg_Type</th>\n",
              "      <th>Bsmt_Full_Bath</th>\n",
              "      <th>Bsmt_Half_Bath</th>\n",
              "      <th>Central_Air</th>\n",
              "      <th>Condition_1</th>\n",
              "      <th>Condition_2</th>\n",
              "      <th>Electrical</th>\n",
              "      <th>Exter_Cond</th>\n",
              "      <th>Exter_Qual</th>\n",
              "      <th>Exterior_1st</th>\n",
              "      <th>Exterior_2nd</th>\n",
              "      <th>Foundation</th>\n",
              "      <th>Full_Bath</th>\n",
              "      <th>Functional</th>\n",
              "      <th>Gr_Liv_Area</th>\n",
              "      <th>Half_Bath</th>\n",
              "      <th>Heating</th>\n",
              "      <th>Heating_QC</th>\n",
              "      <th>House_Style</th>\n",
              "      <th>Kitchen_AbvGr</th>\n",
              "      <th>Kitchen_Qual</th>\n",
              "      <th>Land_Contour</th>\n",
              "      <th>Land_Slope</th>\n",
              "      <th>Lot_Area</th>\n",
              "      <th>Lot_Config</th>\n",
              "      <th>Lot_Shape</th>\n",
              "      <th>MS_SubClass</th>\n",
              "      <th>MS_Zoning</th>\n",
              "      <th>Mas_Vnr_Type</th>\n",
              "      <th>Mo_Sold</th>\n",
              "      <th>Neighborhood</th>\n",
              "      <th>Overall_Cond</th>\n",
              "      <th>Overall_Qual</th>\n",
              "      <th>Paved_Drive</th>\n",
              "      <th>Roof_Matl</th>\n",
              "      <th>Roof_Style</th>\n",
              "      <th>SalePrice</th>\n",
              "      <th>Sale_Condition</th>\n",
              "      <th>Sale_Type</th>\n",
              "      <th>Street</th>\n",
              "      <th>TotRms_AbvGrd</th>\n",
              "      <th>Utilities</th>\n",
              "      <th>Year_Built</th>\n",
              "      <th>Year_Remod/Add</th>\n",
              "      <th>Yr_Sold</th>\n",
              "    </tr>\n",
              "  </thead>\n",
              "  <tbody>\n",
              "    <tr>\n",
              "      <th>984</th>\n",
              "      <td>1414</td>\n",
              "      <td>3</td>\n",
              "      <td>1Fam</td>\n",
              "      <td>1.0</td>\n",
              "      <td>0.0</td>\n",
              "      <td>Y</td>\n",
              "      <td>Norm</td>\n",
              "      <td>Norm</td>\n",
              "      <td>SBrkr</td>\n",
              "      <td>TA</td>\n",
              "      <td>Ex</td>\n",
              "      <td>MetalSd</td>\n",
              "      <td>MetalSd</td>\n",
              "      <td>CBlock</td>\n",
              "      <td>1</td>\n",
              "      <td>Min1</td>\n",
              "      <td>1414</td>\n",
              "      <td>0</td>\n",
              "      <td>GasA</td>\n",
              "      <td>Ex</td>\n",
              "      <td>1Story</td>\n",
              "      <td>1</td>\n",
              "      <td>TA</td>\n",
              "      <td>Lvl</td>\n",
              "      <td>Gtl</td>\n",
              "      <td>11029</td>\n",
              "      <td>Corner</td>\n",
              "      <td>IR1</td>\n",
              "      <td>20</td>\n",
              "      <td>RL</td>\n",
              "      <td>None</td>\n",
              "      <td>5</td>\n",
              "      <td>NAmes</td>\n",
              "      <td>8</td>\n",
              "      <td>6</td>\n",
              "      <td>Y</td>\n",
              "      <td>CompShg</td>\n",
              "      <td>Hip</td>\n",
              "      <td>176500</td>\n",
              "      <td>Normal</td>\n",
              "      <td>WD</td>\n",
              "      <td>Pave</td>\n",
              "      <td>6</td>\n",
              "      <td>AllPub</td>\n",
              "      <td>1958</td>\n",
              "      <td>2002</td>\n",
              "      <td>2008</td>\n",
              "    </tr>\n",
              "    <tr>\n",
              "      <th>985</th>\n",
              "      <td>2117</td>\n",
              "      <td>4</td>\n",
              "      <td>1Fam</td>\n",
              "      <td>0.0</td>\n",
              "      <td>0.0</td>\n",
              "      <td>Y</td>\n",
              "      <td>Norm</td>\n",
              "      <td>Norm</td>\n",
              "      <td>SBrkr</td>\n",
              "      <td>TA</td>\n",
              "      <td>TA</td>\n",
              "      <td>BrkFace</td>\n",
              "      <td>Plywood</td>\n",
              "      <td>CBlock</td>\n",
              "      <td>2</td>\n",
              "      <td>Typ</td>\n",
              "      <td>2117</td>\n",
              "      <td>1</td>\n",
              "      <td>GasA</td>\n",
              "      <td>Ex</td>\n",
              "      <td>1Story</td>\n",
              "      <td>1</td>\n",
              "      <td>TA</td>\n",
              "      <td>Lvl</td>\n",
              "      <td>Gtl</td>\n",
              "      <td>12925</td>\n",
              "      <td>Corner</td>\n",
              "      <td>IR1</td>\n",
              "      <td>20</td>\n",
              "      <td>RL</td>\n",
              "      <td>None</td>\n",
              "      <td>5</td>\n",
              "      <td>NAmes</td>\n",
              "      <td>7</td>\n",
              "      <td>6</td>\n",
              "      <td>Y</td>\n",
              "      <td>CompShg</td>\n",
              "      <td>Gable</td>\n",
              "      <td>237500</td>\n",
              "      <td>Normal</td>\n",
              "      <td>WD</td>\n",
              "      <td>Pave</td>\n",
              "      <td>7</td>\n",
              "      <td>AllPub</td>\n",
              "      <td>1970</td>\n",
              "      <td>1970</td>\n",
              "      <td>2008</td>\n",
              "    </tr>\n",
              "    <tr>\n",
              "      <th>986</th>\n",
              "      <td>1092</td>\n",
              "      <td>4</td>\n",
              "      <td>1Fam</td>\n",
              "      <td>0.0</td>\n",
              "      <td>0.0</td>\n",
              "      <td>Y</td>\n",
              "      <td>Norm</td>\n",
              "      <td>Norm</td>\n",
              "      <td>SBrkr</td>\n",
              "      <td>TA</td>\n",
              "      <td>TA</td>\n",
              "      <td>HdBoard</td>\n",
              "      <td>HdBoard</td>\n",
              "      <td>CBlock</td>\n",
              "      <td>2</td>\n",
              "      <td>Typ</td>\n",
              "      <td>2112</td>\n",
              "      <td>1</td>\n",
              "      <td>GasA</td>\n",
              "      <td>TA</td>\n",
              "      <td>2Story</td>\n",
              "      <td>1</td>\n",
              "      <td>TA</td>\n",
              "      <td>Lvl</td>\n",
              "      <td>Gtl</td>\n",
              "      <td>11075</td>\n",
              "      <td>Inside</td>\n",
              "      <td>Reg</td>\n",
              "      <td>60</td>\n",
              "      <td>RL</td>\n",
              "      <td>None</td>\n",
              "      <td>6</td>\n",
              "      <td>NAmes</td>\n",
              "      <td>5</td>\n",
              "      <td>6</td>\n",
              "      <td>Y</td>\n",
              "      <td>CompShg</td>\n",
              "      <td>Gable</td>\n",
              "      <td>206900</td>\n",
              "      <td>Normal</td>\n",
              "      <td>WD</td>\n",
              "      <td>Pave</td>\n",
              "      <td>9</td>\n",
              "      <td>AllPub</td>\n",
              "      <td>1969</td>\n",
              "      <td>1969</td>\n",
              "      <td>2008</td>\n",
              "    </tr>\n",
              "    <tr>\n",
              "      <th>987</th>\n",
              "      <td>926</td>\n",
              "      <td>3</td>\n",
              "      <td>1Fam</td>\n",
              "      <td>0.0</td>\n",
              "      <td>0.0</td>\n",
              "      <td>Y</td>\n",
              "      <td>Norm</td>\n",
              "      <td>Norm</td>\n",
              "      <td>SBrkr</td>\n",
              "      <td>TA</td>\n",
              "      <td>TA</td>\n",
              "      <td>VinylSd</td>\n",
              "      <td>VinylSd</td>\n",
              "      <td>PConc</td>\n",
              "      <td>2</td>\n",
              "      <td>Typ</td>\n",
              "      <td>1604</td>\n",
              "      <td>1</td>\n",
              "      <td>GasA</td>\n",
              "      <td>Ex</td>\n",
              "      <td>2Story</td>\n",
              "      <td>1</td>\n",
              "      <td>TA</td>\n",
              "      <td>Lvl</td>\n",
              "      <td>Gtl</td>\n",
              "      <td>8702</td>\n",
              "      <td>Inside</td>\n",
              "      <td>IR1</td>\n",
              "      <td>60</td>\n",
              "      <td>RL</td>\n",
              "      <td>None</td>\n",
              "      <td>4</td>\n",
              "      <td>Gilbert</td>\n",
              "      <td>5</td>\n",
              "      <td>6</td>\n",
              "      <td>Y</td>\n",
              "      <td>CompShg</td>\n",
              "      <td>Gable</td>\n",
              "      <td>187500</td>\n",
              "      <td>Normal</td>\n",
              "      <td>WD</td>\n",
              "      <td>Pave</td>\n",
              "      <td>7</td>\n",
              "      <td>AllPub</td>\n",
              "      <td>1997</td>\n",
              "      <td>1998</td>\n",
              "      <td>2008</td>\n",
              "    </tr>\n",
              "    <tr>\n",
              "      <th>988</th>\n",
              "      <td>680</td>\n",
              "      <td>3</td>\n",
              "      <td>1Fam</td>\n",
              "      <td>0.0</td>\n",
              "      <td>0.0</td>\n",
              "      <td>Y</td>\n",
              "      <td>Norm</td>\n",
              "      <td>Norm</td>\n",
              "      <td>SBrkr</td>\n",
              "      <td>TA</td>\n",
              "      <td>TA</td>\n",
              "      <td>VinylSd</td>\n",
              "      <td>VinylSd</td>\n",
              "      <td>PConc</td>\n",
              "      <td>2</td>\n",
              "      <td>Typ</td>\n",
              "      <td>1470</td>\n",
              "      <td>1</td>\n",
              "      <td>GasA</td>\n",
              "      <td>Gd</td>\n",
              "      <td>2Story</td>\n",
              "      <td>1</td>\n",
              "      <td>TA</td>\n",
              "      <td>Lvl</td>\n",
              "      <td>Gtl</td>\n",
              "      <td>8139</td>\n",
              "      <td>Inside</td>\n",
              "      <td>Reg</td>\n",
              "      <td>60</td>\n",
              "      <td>RL</td>\n",
              "      <td>BrkFace</td>\n",
              "      <td>10</td>\n",
              "      <td>Gilbert</td>\n",
              "      <td>5</td>\n",
              "      <td>6</td>\n",
              "      <td>Y</td>\n",
              "      <td>CompShg</td>\n",
              "      <td>Gable</td>\n",
              "      <td>165000</td>\n",
              "      <td>Normal</td>\n",
              "      <td>WD</td>\n",
              "      <td>Pave</td>\n",
              "      <td>7</td>\n",
              "      <td>AllPub</td>\n",
              "      <td>1995</td>\n",
              "      <td>1996</td>\n",
              "      <td>2008</td>\n",
              "    </tr>\n",
              "  </tbody>\n",
              "</table>\n",
              "</div>"
            ],
            "text/plain": [
              "     1st_Flr_SF  Bedroom_AbvGr Bldg_Type  ...  Year_Built  Year_Remod/Add Yr_Sold\n",
              "984        1414              3      1Fam  ...        1958            2002    2008\n",
              "985        2117              4      1Fam  ...        1970            1970    2008\n",
              "986        1092              4      1Fam  ...        1969            1969    2008\n",
              "987         926              3      1Fam  ...        1997            1998    2008\n",
              "988         680              3      1Fam  ...        1995            1996    2008\n",
              "\n",
              "[5 rows x 47 columns]"
            ]
          },
          "metadata": {
            "tags": []
          },
          "execution_count": 96
        }
      ]
    },
    {
      "cell_type": "code",
      "metadata": {
        "id": "sPHMcYKscXhV",
        "colab_type": "code",
        "colab": {
          "base_uri": "https://localhost:8080/",
          "height": 725
        },
        "outputId": "906e3281-2ff6-4957-ef11-07600bde66b5"
      },
      "source": [
        "px.scatter(train, x='Lot_Area', y='SalePrice', trendline='ols', opacity=0.1)"
      ],
      "execution_count": 102,
      "outputs": [
        {
          "output_type": "stream",
          "text": [
            "/usr/local/lib/python3.6/dist-packages/numpy/core/fromnumeric.py:2389: FutureWarning:\n",
            "\n",
            "Method .ptp is deprecated and will be removed in a future version. Use numpy.ptp instead.\n",
            "\n"
          ],
          "name": "stderr"
        },
        {
          "output_type": "display_data",
          "data": {
            "text/html": [
              "<html>\n",
              "<head><meta charset=\"utf-8\" /></head>\n",
              "<body>\n",
              "    <div>\n",
              "            <script src=\"https://cdnjs.cloudflare.com/ajax/libs/mathjax/2.7.5/MathJax.js?config=TeX-AMS-MML_SVG\"></script><script type=\"text/javascript\">if (window.MathJax) {MathJax.Hub.Config({SVG: {font: \"STIX-Web\"}});}</script>\n",
              "                <script type=\"text/javascript\">window.PlotlyConfig = {MathJaxConfig: 'local'};</script>\n",
              "        <script src=\"https://cdn.plot.ly/plotly-latest.min.js\"></script>    \n",
              "            <div id=\"0168d4ea-66ac-4f8e-aa97-23fd0bdf4c8c\" class=\"plotly-graph-div\" style=\"height:600px; width:100%;\"></div>\n",
              "            <script type=\"text/javascript\">\n",
              "                \n",
              "                    window.PLOTLYENV=window.PLOTLYENV || {};\n",
              "                    \n",
              "                if (document.getElementById(\"0168d4ea-66ac-4f8e-aa97-23fd0bdf4c8c\")) {\n",
              "                    Plotly.newPlot(\n",
              "                        '0168d4ea-66ac-4f8e-aa97-23fd0bdf4c8c',\n",
              "                        [{\"hoverlabel\": {\"namelength\": 0}, \"hovertemplate\": \"Year_Built=%{x}<br>SalePrice=%{y}\", \"legendgroup\": \"\", \"marker\": {\"color\": \"#636efa\", \"opacity\": 0.1, \"symbol\": \"circle\"}, \"mode\": \"markers\", \"name\": \"\", \"showlegend\": false, \"type\": \"scattergl\", \"x\": [1958, 1970, 1969, 1997, 1995, 1998, 1998, 1996, 1996, 1996, 2001, 1997, 1993, 1992, 1997, 1998, 1995, 1994, 1991, 1988, 1989, 2005, 2005, 2004, 1952, 2007, 1950, 1986, 1988, 1981, 1983, 1978, 1979, 1977, 1976, 1977, 1980, 1969, 1978, 1976, 1976, 1976, 1973, 1996, 1974, 1969, 1969, 1971, 1972, 1998, 1973, 1973, 1972, 1970, 1971, 1971, 1972, 1977, 1975, 1977, 1966, 2008, 2007, 2007, 2008, 2007, 2007, 2007, 2007, 2006, 2005, 2005, 2007, 2004, 2003, 2003, 2003, 2003, 2001, 2003, 2008, 2008, 2005, 2003, 2005, 2007, 2006, 2006, 2003, 2003, 2004, 2003, 2004, 2005, 2007, 2007, 2004, 2004, 2005, 2005, 2002, 2003, 2007, 2000, 2000, 2004, 1999, 1999, 1997, 1998, 2000, 2000, 1998, 1996, 1995, 1995, 1993, 1993, 1994, 1994, 2007, 2007, 2006, 2006, 2008, 2007, 2008, 2007, 2007, 2007, 2007, 2005, 2003, 2005, 2007, 2007, 2007, 2003, 2004, 2003, 2003, 2005, 2004, 2003, 2004, 2007, 1995, 1993, 1994, 1994, 2001, 1992, 1991, 1993, 1993, 1993, 1963, 1962, 1961, 1968, 1963, 1961, 1974, 1972, 1990, 1993, 2004, 2006, 2004, 2005, 2007, 2007, 1999, 1999, 2000, 2001, 2001, 1999, 1999, 1999, 1999, 2001, 1999, 1999, 1998, 1996, 1995, 1993, 1984, 1977, 1976, 1970, 1969, 1968, 1971, 1967, 1965, 1974, 1968, 1965, 1965, 1965, 1965, 1973, 1971, 1976, 1974, 1966, 1961, 1968, 1956, 1957, 1956, 1963, 1964, 1966, 1965, 1964, 1965, 1964, 1961, 1959, 1959, 1960, 1960, 1949, 1935, 1939, 1937, 1960, 1950, 1950, 1955, 1953, 1965, 1961, 1961, 1962, 1962, 1966, 1955, 1963, 1962, 1957, 1959, 1958, 1958, 1956, 1957, 1958, 1956, 1952, 1953, 1953, 1957, 1951, 1953, 1957, 1947, 1957, 1948, 1925, 1945, 1940, 1922, 1900, 1962, 1968, 1958, 1960, 1960, 1960, 1953, 1951, 1950, 1960, 1959, 1962, 1960, 1948, 1954, 1954, 1954, 1961, 1955, 1954, 1963, 1964, 1963, 2008, 1925, 1904, 1948, 1910, 1920, 1940, 1915, 1910, 2003, 1940, 1920, 1920, 1940, 1910, 1890, 1948, 1948, 1946, 1946, 1957, 1954, 1949, 1880, 1900, 1915, 1920, 1916, 1900, 1920, 1917, 1905, 1928, 1905, 1914, 1872, 1926, 1893, 1920, 1890, 1959, 1954, 1956, 1958, 1928, 1945, 1930, 1935, 1924, 1941, 1900, 1940, 1924, 1929, 1937, 1939, 1926, 1920, 1929, 1945, 1930, 1939, 1923, 1931, 1920, 1927, 1948, 1923, 1925, 1915, 1940, 1918, 1910, 1925, 1910, 1930, 1952, 1938, 1915, 1925, 1925, 1920, 1955, 1920, 1912, 1915, 1906, 1947, 1968, 1948, 1959, 1940, 1963, 1965, 1978, 1966, 1967, 1967, 1978, 1967, 1984, 1969, 1920, 1959, 1966, 1963, 1956, 1954, 1960, 1958, 1940, 1960, 1941, 1970, 1996, 1977, 1979, 1954, 1954, 1959, 1948, 1953, 1908, 1940, 1918, 1935, 1956, 1975, 1962, 1900, 1910, 1950, 1924, 1941, 1990, 1995, 1994, 1993, 1996, 2007, 2007, 2008, 2008, 1993, 1995, 1966, 1997, 1994, 1995, 1994, 1997, 1997, 2000, 1999, 1998, 1999, 2002, 2001, 2000, 2001, 1975, 1977, 1978, 1978, 1975, 1975, 1975, 1972, 1972, 2002, 2000, 2001, 1999, 1998, 2001, 2001, 2002, 2002, 2003, 2003, 2003, 1999, 1994, 2003, 2004, 1997, 1997, 2002, 2003, 2004, 2004, 2004, 2007, 2007, 2007, 2005, 2004, 2004, 2004, 2004, 1910, 1900, 1966, 1965, 1976, 1976, 1940, 1972, 2003, 1977, 1976, 2005, 2008, 2005, 1955, 1955, 1955, 1955, 1955, 1938, 1947, 1953, 1946, 1954, 1955, 1954, 1923, 1925, 1914, 1912, 1925, 1939, 1925, 1921, 1911, 1921, 1930, 1926, 1922, 1915, 1914, 1930, 1925, 1936, 1923, 1931, 1934, 1937, 1938, 1951, 1935, 1935, 1939, 1950, 1956, 1954, 1980, 1980, 1926, 1940, 1922, 1930, 1940, 1930, 1967, 1930, 1958, 1952, 1895, 1920, 1910, 1935, 1920, 2008, 2007, 2004, 2004, 1996, 2002, 1996, 1977, 1977, 1976, 1991, 1965, 1986, 1976, 2006, 2007, 2007, 2006, 2008, 1989, 1986, 1986, 1988, 2003, 1999, 2003, 2007, 2005, 1997, 1997, 2007, 1997, 1964, 1975, 1976, 1976, 1973, 1973, 1968, 1970, 1972, 1954, 1983, 1984, 1982, 1982, 1982, 1940, 1984, 1969, 1900, 1971, 1970, 1973, 1970, 2003, 1995, 1997, 1997, 1997, 2000, 1994, 1999, 1996, 1995, 1999, 1992, 1991, 1992, 1993, 1964, 1986, 1984, 1988, 1990, 2005, 2005, 2006, 1969, 2006, 2007, 2006, 2006, 1981, 1984, 1984, 1981, 1978, 1979, 1977, 1976, 1978, 1984, 1979, 1979, 1969, 1971, 1971, 1968, 1976, 1976, 1974, 1971, 1971, 1972, 1970, 1970, 1971, 1971, 1971, 1961, 1971, 1998, 2001, 1997, 1973, 1973, 1973, 1970, 1971, 1976, 1976, 1978, 1966, 2006, 2007, 2007, 2006, 2007, 2007, 2006, 2007, 2006, 2005, 2006, 2007, 2006, 2006, 2006, 2006, 2005, 2007, 2007, 2004, 2007, 2007, 2006, 2004, 2004, 2003, 2003, 2007, 2005, 2005, 2006, 2005, 2005, 2005, 2005, 2006, 2006, 2006, 2005, 2005, 2007, 2006, 2003, 2005, 2005, 2006, 2006, 2006, 2005, 2007, 2007, 2007, 2006, 2007, 2007, 2007, 2006, 2006, 2003, 2007, 2004, 2004, 2004, 2004, 2006, 2004, 2003, 2000, 2002, 1999, 2000, 2003, 2000, 1999, 1996, 1997, 2000, 2001, 1998, 1998, 1998, 1994, 1996, 1996, 1995, 1995, 1992, 1992, 1996, 2007, 2007, 2006, 2007, 2006, 2007, 2006, 2006, 2007, 2007, 2006, 2005, 2007, 2005, 2004, 2006, 2006, 2007, 2006, 2007, 2007, 2006, 2007, 2006, 2007, 2007, 2006, 2004, 2004, 2006, 2006, 2003, 2006, 1994, 1993, 2000, 1998, 1992, 1980, 1983, 1977, 1977, 1963, 1962, 1962, 1961, 1962, 1968, 1961, 1967, 1990, 1974, 1974, 1975, 1973, 1990, 1992, 2004, 2006, 2006, 2006, 2006, 2006, 1999, 1999, 2000, 2000, 2000, 2004, 1999, 1997, 1999, 2003, 1998, 1994, 1980, 1978, 1976, 1978, 1976, 1976, 1981, 1977, 2001, 1968, 1970, 1969, 1968, 1972, 1993, 1993, 1976, 1966, 1973, 1963, 1967, 1967, 1965, 1958, 1964, 1964, 1960, 1960, 1960, 1958, 1958, 1956, 1959, 1961, 1961, 1960, 1966, 1965, 1964, 1964, 1964, 1959, 1960, 1959, 1962, 1950, 1940, 1946, 1946, 1945, 1958, 1964, 1955, 1948, 1941, 1942, 1968, 1966, 1961, 1958, 1958, 1965, 1957, 1956, 1963, 1958, 1958, 1954, 1957, 1960, 1957, 1957, 1956, 1970, 1955, 1955, 1953, 1958, 1952, 1953, 1953, 1956, 1955, 1955, 1955, 1956, 1953, 1952, 1890, 1949, 1953, 1935, 1940, 1956, 1925, 1927, 1895, 1920, 1963, 1961, 1968, 1969, 1949, 1948, 1949, 1950, 1950, 1950, 1960, 1959, 1958, 1960, 1960, 1961, 1961, 1964, 1962, 1962, 1962, 1926, 1910, 1927, 1922, 1980, 1920, 1885, 1940, 1900, 1948, 1937, 1900, 1920, 1900, 1945, 1923, 1910, 1927, 1925, 1910, 1900, 1910, 1880, 1930, 1879, 1910, 1926, 1948, 1890, 1930, 1956, 1949, 1925, 1950, 1920, 1923, 1939, 1939, 1941, 1939, 1938, 1939, 1930, 1926, 1920, 1929, 1931, 1926, 1918, 1919, 1920, 1926, 1915, 1929, 1916, 1901, 1901, 1931, 1930, 1963, 1914, 1937, 1950, 1915, 1958, 1920, 1916, 1941, 1910, 1930, 1910, 1937, 1946, 1940, 1942, 1963, 1964, 1964, 1961, 1964, 1966, 1966, 1966, 1968, 1971, 1968, 1967, 1966, 1968, 1977, 1966, 1956, 1920, 1918, 1940, 1954, 1958, 1945, 1971, 1984, 1988, 1948, 1953, 1946, 1954, 1950, 1954, 1958, 1958, 1977, 1920, 1984, 1951, 1951, 1920, 1957, 1984, 1990, 1990, 1986, 1991, 1989, 1994, 2007, 2006, 2007, 2006, 2006, 2007, 2007, 2007, 2005, 2006, 2006, 2007, 2005, 2006, 2005, 2005, 2006, 1988, 1988, 1958, 1992, 1966, 1976, 1994, 1994, 1995, 1997, 1998, 1994, 1996, 1994, 1997, 1999, 1998, 2001, 2000, 2003, 2003, 1974, 1976, 1977, 1977, 1977, 1975, 1972, 1975, 1972, 1972, 2004, 2002, 2000, 2002, 2003, 2002, 1998, 1994, 2001, 1996, 2002, 1995, 2003, 1999, 2003, 2003, 2007, 2006, 2004, 2005, 2006, 2006, 2005, 1965, 1967, 1963, 1965, 1925, 1960, 1990, 1976, 1976, 1979, 2006, 2005, 2005, 2008, 2007, 2005, 1959, 1955, 1954, 1946, 1931, 1920, 1954, 1910, 1955, 1955, 1954, 1914, 1923, 1923, 1926, 1926, 1921, 1937, 1930, 1921, 1918, 1926, 1941, 1913, 1910, 1938, 1946, 1949, 1927, 1951, 1918, 1934, 1930, 1932, 1941, 1932, 1945, 1957, 1940, 1953, 1960, 1968, 1980, 1995, 1988, 1971, 1986, 1919, 1940, 1941, 1925, 1939, 1923, 1922, 1920, 1920, 1950, 1939, 1895, 1957, 1930, 2006, 2006, 1979, 1978, 1983, 2002, 2002, 1991, 1975, 1974, 1987, 1998, 1959, 1958, 2006, 2006, 2007, 2006, 1985, 1990, 1996, 2001, 2003, 2002, 1996, 2002, 2003, 1963, 2006, 2006, 2005, 2007, 1953, 1996, 1963, 1967, 1961, 1976, 1976, 1972, 1970, 1970, 1970, 1970, 1976, 1976, 1977, 1977, 1977, 1977, 1971, 1970, 1961, 1982, 1976, 1982, 1983, 1991, 1984, 1954, 1956, 1957, 1957, 1969, 1997, 1997, 1995, 1995, 1996, 1997, 2005, 2006, 2005, 2005, 2005, 2006, 1994, 1993, 1993, 1998, 1987, 1987, 1985, 2005, 2006, 2006, 2005, 2006, 2006, 2005, 2006, 1948, 1955, 2005, 2005, 2005, 1984, 1988, 1977, 1976, 1980, 1988, 1978, 1980, 1978, 1975, 1976, 2005, 1975, 1975, 1976, 1974, 1974, 1969, 1970, 1971, 1971, 2002, 1973, 1973, 1973, 1972, 1971, 1972, 1972, 1972, 1972, 1975, 1967, 1967, 1976, 1976, 2004, 2006, 2006, 2004, 2006, 2005, 2004, 2005, 2004, 2005, 2005, 2005, 2005, 2006, 2005, 2003, 2006, 2005, 2004, 2003, 2005, 2005, 2004, 2005, 2005, 2005, 2005, 2006, 2006, 2003, 2005, 2005, 2006, 2006, 2006, 2006, 2006, 2004, 2006, 2006, 2003, 2003, 2002, 2004, 2004, 2005, 2005, 2005, 2006, 2006, 2005, 2002, 2004, 2004, 2000, 2003, 2000, 2000, 1998, 2000, 2006, 1999, 1997, 1998, 2000, 1995, 2000, 1998, 1998, 1995, 1993, 1994, 1994, 1993, 2005, 2005, 2006, 2005, 2006, 2006, 2006, 2006, 2006, 2005, 2005, 2006, 2006, 2005, 2006, 2005, 2005, 2005, 2005, 2004, 2005, 2005, 1997, 1992, 1992, 1990, 1991, 1994, 1966, 1965, 1962, 1963, 1977, 1962, 1977, 1965, 1968, 1963, 1965, 1965, 1964, 1961, 1967, 1974, 1991, 1992, 1993, 1992, 1994, 2004, 2005, 2005, 2005, 2005, 2005, 2000, 1999, 2000, 2003, 1997, 2001, 1995, 1977, 1980, 1980, 1980, 1978, 1981, 1972, 1968, 1968, 1968, 1968, 1972, 1967, 1969, 1967, 1968, 1968, 1968, 1968, 1968, 1966, 1967, 1965, 1971, 1961, 1958, 1959, 1965, 1964, 1964, 1964, 1958, 1958, 1960, 1934, 1954, 1947, 1946, 1923, 1926, 1908, 1961, 1952, 1951, 1951, 1941, 1949, 1954, 1967, 1964, 1961, 1966, 1954, 1918, 1963, 1962, 1959, 1957, 1960, 1958, 1956, 1957, 1956, 1957, 1979, 1954, 1954, 1952, 1951, 1956, 1956, 1955, 1951, 1941, 1956, 1925, 1947, 1924, 1930, 1954, 1921, 1929, 1900, 1920, 1915, 1910, 1915, 1900, 1936, 1965, 1966, 1963, 1962, 1962, 1964, 1959, 1959, 1957, 1961, 1959, 1962, 1957, 1950, 1949, 1950, 1950, 1959, 1950, 1949, 1950, 1960, 1959, 1961, 1966, 1962, 1962, 1962, 1962, 1900, 1925, 1948, 1920, 1900, 1925, 1900, 1930, 1930, 1900, 1924, 1925, 1880, 1950, 1920, 1905, 1955, 1924, 1921, 1945, 1955, 1920, 1910, 1900, 1914, 1910, 1900, 1916, 1910, 1920, 1923, 1892, 1920, 1958, 1918, 1941, 1939, 1924, 1947, 1939, 1934, 1936, 1930, 1925, 1947, 1928, 1930, 1925, 1921, 1922, 1925, 1962, 1970, 1910, 1941, 1924, 1910, 1919, 1937, 1938, 1922, 1935, 1930, 1951, 1964, 1950, 1958, 1935, 1936, 2004, 1963, 1967, 1963, 1967, 1966, 1964, 1966, 1968, 1978, 1967, 1968, 1978, 1977, 1977, 1958, 1957, 1955, 1924, 1965, 1956, 1967, 1963, 1953, 1971, 1974, 1980, 1986, 1954, 1942, 1948, 1966, 1928, 1935, 1962, 1952, 1955, 1954, 1953, 1952, 1954, 1948, 1985, 1989, 1993, 1993, 2005, 2005, 2006, 2006, 2005, 2006, 2006, 2006, 2005, 2005, 2005, 2005, 2005, 1992, 1964, 1969, 1975, 1968, 1996, 1996, 1995, 1998, 1995, 2000, 1997, 1999, 1999, 1999, 2002, 2002, 2001, 1976, 1977, 1978, 1969, 1972, 1972, 1972, 1993, 2002, 2002, 1999, 2002, 2001, 2002, 2002, 1999, 1996, 1998, 1995, 1998, 2004, 2003, 2004, 2006, 2003, 2004, 2003, 2006, 2005, 2005, 2004, 2005, 2005, 2005, 2005, 1910, 1959, 1951, 1975, 1975, 1969, 2003, 2003, 2005, 2005, 2005, 2004, 2004, 2004, 2004, 2004, 1948, 1915, 1924, 1910, 1924, 1955, 1954, 1918, 1922, 1912, 1922, 1910, 1916, 1940, 1938, 1945, 1926, 1914, 1920, 1926, 1919, 1920, 1939, 1941, 1915, 1920, 1929, 1940, 1922, 1936, 1929, 1932, 1932, 1930, 1956, 1977, 1950, 1953, 1969, 1942, 1926, 1925, 1925, 1936, 1957, 1920, 1945, 1949, 1951, 1916, 2005, 2004, 1979, 1978, 2001, 1977, 1975, 1988, 1989, 1986, 1958, 1981, 1987, 1990, 1990, 2000, 2002, 2005, 2005, 2005, 1951, 1997, 1998, 1998, 2006, 1977, 1977, 1973, 1968, 1970, 1970, 1972, 1969, 1970, 1970, 1970, 1970, 1970, 1976, 1976, 1977, 1960, 1984, 1983, 1992, 1974, 1993], \"xaxis\": \"x\", \"y\": [176500, 237500, 206900, 187500, 165000, 195500, 192000, 173000, 177900, 175000, 286000, 247900, 180000, 180000, 181000, 183000, 188000, 194500, 185000, 189000, 188500, 355000, 325000, 387000, 115000, 334000, 133000, 215000, 226500, 175500, 181900, 235000, 220000, 272000, 161000, 175000, 185000, 146900, 292500, 180000, 159900, 205000, 157000, 306000, 133000, 151000, 111900, 123000, 111250, 181000, 103400, 100000, 100500, 106000, 85400, 89500, 111750, 140000, 143000, 148500, 110000, 394617, 426000, 385000, 446261, 317500, 372402, 417500, 383000, 390000, 460000, 379000, 250000, 316000, 615000, 412500, 284000, 284000, 421250, 370000, 336860, 367294, 192000, 274000, 266000, 370967, 234250, 219500, 155000, 154000, 207000, 195000, 219990, 191000, 159895, 187687, 179000, 193000, 190000, 176000, 188000, 213000, 217300, 186500, 226750, 184000, 225000, 185900, 284500, 315000, 250000, 291000, 350000, 279500, 290000, 350000, 341000, 287500, 271000, 301500, 235128, 214000, 232000, 240000, 264132, 245000, 227680, 257000, 297900, 212700, 250580, 226700, 250000, 250000, 339750, 256000, 230348, 207500, 141000, 188000, 192500, 146000, 159000, 155000, 173000, 170000, 182000, 163000, 193500, 189000, 190500, 175000, 179200, 187000, 193000, 153900, 128000, 144000, 135000, 115000, 119916, 142000, 192000, 140000, 290000, 372500, 196000, 171900, 178000, 165000, 146000, 146000, 179400, 172900, 300000, 285000, 290000, 305000, 328900, 160000, 170000, 223000, 170000, 200000, 345000, 245500, 217500, 324000, 162500, 150000, 290000, 174000, 183000, 150000, 145000, 215000, 140500, 240000, 141000, 147000, 135000, 145000, 142600, 135000, 170000, 299800, 185000, 173000, 178400, 176000, 98000, 109008, 135750, 155000, 180500, 174900, 140000, 145000, 179900, 168500, 140000, 145500, 142000, 141000, 153000, 72500, 52000, 118000, 87000, 141500, 119000, 141500, 165500, 112900, 201800, 163000, 139950, 174000, 165000, 227000, 135000, 124000, 140000, 136500, 185000, 163000, 166800, 139000, 166000, 136000, 133000, 116000, 137500, 130000, 180000, 139000, 110000, 100000, 118500, 146000, 89900, 114000, 140000, 86900, 139000, 106250, 171000, 139000, 186000, 157000, 148000, 242000, 116000, 94000, 98300, 127000, 159000, 125900, 155000, 138000, 112500, 105500, 127500, 130000, 150000, 109500, 140000, 167900, 136870, 143000, 73000, 157500, 122600, 111000, 256000, 64000, 139500, 118000, 200000, 119164, 122250, 120000, 155000, 78000, 95000, 115000, 147000, 140000, 46500, 112500, 107900, 65000, 295000, 139500, 153900, 132000, 98000, 114000, 130000, 129500, 129400, 161000, 163000, 128000, 122000, 116900, 325000, 55000, 184000, 110000, 131500, 97000, 115500, 138000, 108000, 79500, 153000, 109500, 124000, 106900, 164900, 119000, 120000, 157000, 105000, 113000, 115000, 123000, 81300, 162900, 150000, 123500, 129900, 128000, 68500, 127000, 207000, 184000, 162500, 145000, 130000, 160000, 161000, 127500, 93850, 136000, 141000, 120000, 127500, 127000, 89500, 125000, 79900, 85000, 82375, 135000, 124000, 134000, 135000, 134432, 127500, 148000, 129500, 157500, 109900, 145000, 130000, 153000, 120000, 152000, 108959, 95541, 80000, 149350, 144900, 185000, 165000, 235000, 140000, 108000, 145000, 152400, 144000, 173000, 192000, 245000, 241500, 256000, 177000, 125600, 155000, 240000, 260000, 185000, 235000, 159900, 99600, 134500, 119000, 107500, 125000, 79000, 95000, 262280, 260000, 226500, 225000, 229000, 177439, 248500, 475000, 395039, 228000, 225000, 195000, 200000, 155000, 144000, 145000, 226001, 215700, 207500, 193000, 188000, 191000, 221000, 231500, 235000, 223500, 130250, 149900, 158000, 147000, 143195, 163000, 110000, 127000, 124900, 230000, 235000, 230500, 230000, 222500, 287000, 274000, 300000, 255900, 224900, 240000, 183000, 207000, 210000, 136500, 145000, 208900, 185000, 214000, 208500, 186500, 210000, 185900, 179900, 218836, 193000, 189000, 149300, 141000, 149000, 144500, 85000, 145900, 123000, 147500, 165000, 135000, 108000, 137500, 165400, 147000, 160500, 176000, 160000, 148000, 82000, 82000, 118000, 82500, 91900, 120000, 96000, 99000, 130500, 135000, 135500, 100000, 108000, 98000, 67000, 135900, 140000, 179500, 136500, 168000, 130000, 189000, 161900, 145000, 191000, 177000, 147500, 91000, 231000, 115000, 138000, 149000, 188700, 198000, 110000, 104000, 257076, 381000, 311500, 263400, 236500, 224000, 116500, 151000, 126000, 120000, 55000, 120500, 120500, 119000, 126000, 99500, 165500, 13100, 89000, 40000, 80900, 81000, 65000, 392500, 294464, 250000, 275000, 300000, 271000, 213000, 171000, 171500, 100000, 228500, 228950, 241500, 287000, 294000, 293077, 264966, 172500, 218689, 150000, 184000, 180000, 175000, 232500, 195000, 305000, 298751, 370000, 209200, 206300, 146000, 160500, 173000, 124000, 115000, 129500, 105000, 94900, 152500, 98000, 81000, 113000, 128500, 119500, 130500, 138000, 134500, 160000, 137500, 172000, 103000, 167300, 167000, 244000, 268000, 225000, 168000, 177000, 169000, 161500, 251000, 160000, 180000, 178750, 176000, 204000, 160000, 160000, 163900, 168000, 154204, 170000, 207500, 182000, 212000, 377426, 349265, 591587, 155000, 319900, 392000, 441929, 455000, 182900, 174000, 178000, 176000, 213000, 192000, 190000, 195000, 148000, 151500, 197000, 192350, 152000, 170000, 175000, 175000, 197900, 174000, 178900, 139000, 143250, 184000, 155000, 133000, 119500, 123000, 110000, 128000, 120500, 133000, 155000, 177000, 113500, 113000, 113700, 106000, 122500, 128000, 155000, 142500, 129250, 356000, 314813, 318000, 322400, 318000, 345474, 415298, 492000, 338931, 450000, 280000, 479069, 395000, 380000, 250000, 440000, 418000, 500067, 260116, 317000, 319500, 325624, 372000, 342000, 354000, 350000, 285000, 281500, 245700, 232698, 250000, 194700, 204000, 200000, 207000, 209500, 209500, 202500, 280000, 277500, 318061, 221370, 200000, 176000, 178900, 168165, 171925, 198444, 203000, 179540, 176485, 181134, 156932, 166000, 177594, 173500, 172500, 194201, 226500, 185485, 259000, 188500, 175000, 215000, 206580, 183500, 211000, 181000, 219500, 175000, 170000, 162000, 187000, 185000, 745000, 384500, 248000, 466500, 410000, 322500, 252000, 755000, 269790, 315750, 290000, 290000, 430000, 263000, 330000, 213133, 260261, 320000, 282922, 215000, 419005, 255000, 147000, 311872, 248328, 227000, 260000, 225000, 249000, 307000, 250000, 221300, 208900, 210400, 255000, 212109, 270000, 303477, 249700, 227875, 261329, 253000, 265000, 340000, 146000, 147000, 149000, 181000, 201000, 191750, 179000, 215000, 179200, 128000, 144000, 144000, 120750, 132500, 132000, 132500, 129000, 143900, 145000, 128500, 125500, 300000, 294000, 129000, 171000, 147000, 302000, 285000, 214000, 166000, 193800, 208900, 194000, 164700, 176500, 176000, 168500, 177000, 177000, 148800, 174000, 239000, 204000, 301000, 312500, 279700, 255000, 194000, 218000, 213750, 187000, 181500, 373000, 190000, 226000, 143450, 240050, 162500, 164000, 185000, 188500, 255000, 136905, 158500, 175500, 127000, 127000, 143000, 156000, 144000, 119000, 103000, 139900, 151500, 126500, 145000, 120000, 124000, 106500, 140500, 137500, 117600, 163500, 161000, 158000, 224500, 147000, 200000, 181900, 150750, 101800, 124000, 138500, 39300, 64500, 64000, 112000, 165000, 144000, 137000, 105000, 146500, 126000, 175000, 158500, 114500, 144000, 129000, 141000, 131000, 142100, 139000, 157900, 139400, 150000, 120000, 174850, 116000, 135000, 163500, 130000, 129500, 142000, 128600, 125000, 136000, 134500, 127000, 130000, 115000, 116900, 132000, 153000, 112500, 138000, 135000, 156000, 301600, 109000, 103200, 128500, 64500, 148000, 86000, 172000, 120000, 128500, 135000, 122900, 119200, 143000, 119000, 102000, 129000, 135000, 152000, 140000, 152000, 156500, 141000, 99000, 187000, 169500, 125500, 130000, 103000, 132000, 127500, 89500, 140000, 99900, 100000, 130000, 135000, 120000, 89471, 85000, 108500, 137000, 110500, 100000, 184900, 145000, 125000, 114000, 90000, 144100, 117500, 124500, 185000, 133900, 152000, 153500, 159500, 87000, 104500, 110000, 136500, 128250, 144000, 210000, 135000, 128000, 131000, 113000, 126000, 132000, 131750, 132500, 137500, 132000, 127500, 102000, 200000, 180500, 165000, 90000, 153575, 140000, 136000, 113000, 117000, 169500, 139400, 202500, 127000, 141000, 212300, 161000, 99500, 101000, 109900, 128500, 122000, 87000, 50000, 219000, 200500, 126000, 108500, 130000, 158450, 115400, 118500, 165000, 123000, 129000, 125000, 108000, 119900, 115000, 134500, 127000, 129000, 143500, 129000, 187000, 158000, 112000, 165250, 150000, 137000, 89500, 302000, 182000, 211000, 216000, 130000, 109900, 255000, 243000, 154000, 118000, 80000, 150000, 86000, 130000, 125000, 136500, 96000, 120000, 228500, 179900, 225000, 301000, 238000, 228500, 220000, 383970, 424870, 250000, 360000, 279500, 200141, 246500, 276000, 203000, 155835, 194000, 195400, 217000, 212999, 175900, 191000, 176432, 277000, 207000, 277000, 240000, 187500, 279000, 139500, 126000, 177500, 175000, 211000, 146000, 147900, 123600, 204750, 235500, 217000, 190550, 217500, 226000, 180000, 131000, 153500, 160000, 134900, 130000, 120000, 112500, 122000, 127000, 117000, 305900, 228500, 270000, 192000, 213000, 200000, 267000, 228000, 275000, 211000, 285000, 240000, 131500, 246900, 219500, 185000, 179400, 213500, 179600, 173500, 167840, 168675, 167000, 140000, 118500, 110000, 94750, 122000, 110000, 118500, 133500, 148000, 141000, 155000, 157000, 171500, 183850, 184750, 140000, 131750, 61500, 111000, 98500, 79000, 108500, 110000, 112000, 125000, 79275, 119000, 200000, 150000, 165000, 96500, 136500, 146500, 175000, 148500, 141500, 189950, 135000, 164000, 90350, 139000, 119750, 145000, 145000, 238000, 153500, 239000, 359100, 188000, 220000, 140000, 315000, 259500, 257500, 219500, 217000, 201000, 215000, 123900, 170000, 200000, 198000, 315000, 115000, 141000, 87000, 129850, 100000, 150909, 75200, 118400, 67000, 152000, 68104, 119600, 140000, 124900, 375000, 235000, 183500, 156000, 134000, 215000, 245000, 210000, 148000, 143000, 244000, 330000, 170000, 257000, 231713, 265900, 239000, 248900, 174000, 187500, 204000, 180500, 187500, 282000, 178000, 270000, 279900, 186700, 283463, 392000, 281213, 147000, 130000, 140000, 132250, 143000, 168000, 129900, 134000, 85500, 106500, 93900, 75000, 84500, 75190, 146800, 153500, 188000, 196000, 157000, 138000, 129500, 80000, 129500, 135000, 124500, 139000, 93500, 124500, 149900, 157500, 169000, 252000, 192100, 183500, 222000, 170000, 187500, 202000, 185000, 320000, 240000, 250000, 239900, 309000, 274725, 270000, 183500, 165600, 176500, 130000, 239000, 275000, 457347, 545224, 356383, 556581, 361919, 535000, 401179, 438780, 169000, 145000, 318000, 319000, 470000, 202500, 229000, 235000, 190000, 169000, 241500, 188900, 207500, 250000, 179900, 172000, 294323, 184500, 153500, 162900, 181000, 155000, 138800, 116050, 88000, 97500, 190000, 105500, 125500, 83000, 116000, 91500, 118000, 89000, 108000, 94500, 146300, 145000, 123000, 137500, 144000, 315000, 412083, 342643, 252000, 293000, 415000, 326000, 325300, 309000, 300000, 275500, 338500, 345000, 298236, 329900, 360000, 281000, 372397, 378000, 374000, 437154, 275000, 279000, 185850, 282500, 202500, 202665, 332200, 310090, 171750, 169990, 170440, 169985, 179665, 219210, 174190, 172785, 258000, 185101, 210250, 234000, 215000, 246990, 178740, 225000, 167240, 156820, 213490, 264561, 246578, 192140, 183200, 178000, 201490, 230500, 180000, 172400, 215000, 199900, 173000, 287602, 230000, 348000, 286000, 300000, 625000, 405000, 280000, 258000, 350000, 584500, 321000, 290000, 315000, 252000, 423000, 290000, 232000, 199000, 198600, 405749, 232600, 266000, 186500, 200825, 197000, 185000, 176000, 187750, 139500, 186800, 132000, 142500, 158000, 184000, 184900, 187000, 175900, 248500, 172000, 151000, 150000, 107000, 119900, 129500, 125000, 119500, 144000, 151000, 126000, 116000, 133500, 120875, 137000, 124000, 135000, 129200, 260000, 260000, 334000, 310000, 268000, 262000, 176400, 197000, 151000, 147400, 149900, 144152, 166000, 183900, 165000, 139000, 200000, 221000, 270000, 165000, 214000, 188000, 190000, 170000, 385000, 146500, 170000, 262500, 179900, 250000, 165150, 164500, 140000, 135500, 142000, 155000, 157500, 138500, 140000, 124400, 158000, 146000, 190000, 136500, 129900, 145000, 185900, 160000, 167000, 157500, 140000, 150000, 151500, 129800, 137000, 137000, 121600, 85500, 79900, 127000, 161000, 146500, 135000, 137900, 133000, 137000, 121000, 119000, 172000, 98600, 226000, 118000, 235000, 135000, 132500, 143000, 132000, 145250, 162000, 148000, 141000, 153000, 134450, 135960, 156000, 140000, 139500, 155000, 127000, 133500, 125000, 142000, 167000, 159000, 180000, 127000, 112000, 99800, 117000, 108480, 68000, 86900, 120000, 155500, 80000, 105000, 160000, 170000, 160000, 159950, 165000, 159000, 147000, 115000, 159500, 120000, 129900, 183000, 157500, 277500, 207500, 147500, 135000, 109500, 109900, 133700, 81400, 87500, 93500, 119000, 141000, 146000, 155000, 134500, 120000, 105000, 124000, 169000, 107000, 135000, 111500, 156500, 178000, 139900, 105000, 110000, 111500, 108000, 111500, 124000, 105000, 116000, 96900, 135500, 139000, 61500, 120000, 126175, 64000, 137000, 87000, 163000, 155000, 79000, 144000, 114504, 157000, 125000, 475000, 93500, 125000, 64500, 100000, 140200, 202500, 159000, 119900, 114500, 115000, 75000, 88000, 80500, 149000, 110000, 110500, 89000, 113000, 109000, 220000, 129000, 117000, 52500, 107000, 116500, 72000, 119500, 125500, 91000, 84500, 90000, 137500, 150000, 131000, 130000, 125000, 80000, 157000, 148000, 90000, 154500, 153600, 164500, 132000, 142500, 158000, 149500, 165000, 180000, 160500, 156500, 157000, 172500, 155000, 170000, 105000, 145000, 168000, 278000, 164000, 225000, 130000, 142500, 148400, 190000, 146000, 128000, 225000, 274970, 235000, 415000, 182000, 135000, 137000, 136900, 149900, 123500, 93000, 91500, 180000, 209000, 215000, 224500, 229800, 183600, 194000, 193879, 221500, 204900, 239799, 233555, 260000, 294900, 209700, 225000, 181000, 220000, 190000, 180000, 280000, 158900, 148000, 145000, 187000, 193000, 156000, 235000, 217000, 214000, 196000, 217000, 200000, 192500, 205000, 132500, 157500, 174000, 128500, 128500, 149900, 119900, 137000, 255000, 222000, 214000, 220000, 275000, 197000, 230000, 268500, 210900, 227000, 237000, 274300, 216837, 133000, 155900, 233230, 207000, 195000, 200000, 203160, 195800, 212900, 196500, 198000, 173900, 163990, 164990, 98000, 149900, 102000, 127500, 127500, 119900, 196500, 229000, 145000, 140000, 142500, 134000, 130000, 130000, 137500, 130000, 97900, 92000, 107000, 81000, 104900, 115000, 125000, 116000, 83000, 118500, 35000, 121000, 160000, 140000, 137000, 128000, 160000, 138887, 149000, 102000, 167000, 200100, 131000, 112000, 140000, 195000, 230000, 194000, 137500, 250000, 218000, 239000, 199500, 210000, 230000, 217500, 257000, 157000, 223000, 102000, 145400, 72000, 85000, 106500, 139000, 108000, 51689, 35311, 115000, 78000, 375000, 300000, 242500, 145000, 209000, 135000, 148000, 171000, 335000, 230000, 250764, 228000, 176000, 180000, 250000, 202000, 312500, 320000, 369900, 359900, 81500, 215000, 164000, 153500, 84500, 104500, 127000, 151400, 126500, 146500, 73000, 79400, 140000, 92000, 87550, 79500, 90500, 71000, 150900, 188000, 160000, 131000, 142500, 131000, 132000, 170000, 188000], \"yaxis\": \"y\"}, {\"hoverlabel\": {\"namelength\": 0}, \"hovertemplate\": \"<b>OLS trendline</b><br>SalePrice = 1431.126214 * Year_Built + -2639279.250092<br>R<sup>2</sup>=0.290005<br><br>Year_Built=%{x}<br>SalePrice=%{y} <b>(trend)</b>\", \"legendgroup\": \"\", \"marker\": {\"color\": \"#636efa\", \"symbol\": \"circle\"}, \"mode\": \"lines\", \"name\": \"\", \"showlegend\": false, \"type\": \"scattergl\", \"x\": [1872, 1879, 1880, 1880, 1880, 1885, 1890, 1890, 1890, 1890, 1892, 1893, 1895, 1895, 1895, 1900, 1900, 1900, 1900, 1900, 1900, 1900, 1900, 1900, 1900, 1900, 1900, 1900, 1900, 1900, 1900, 1900, 1900, 1900, 1901, 1901, 1904, 1905, 1905, 1905, 1906, 1908, 1908, 1910, 1910, 1910, 1910, 1910, 1910, 1910, 1910, 1910, 1910, 1910, 1910, 1910, 1910, 1910, 1910, 1910, 1910, 1910, 1910, 1910, 1910, 1910, 1910, 1910, 1910, 1911, 1912, 1912, 1912, 1913, 1914, 1914, 1914, 1914, 1914, 1914, 1914, 1915, 1915, 1915, 1915, 1915, 1915, 1915, 1915, 1915, 1915, 1915, 1915, 1916, 1916, 1916, 1916, 1916, 1916, 1917, 1918, 1918, 1918, 1918, 1918, 1918, 1918, 1918, 1918, 1919, 1919, 1919, 1919, 1920, 1920, 1920, 1920, 1920, 1920, 1920, 1920, 1920, 1920, 1920, 1920, 1920, 1920, 1920, 1920, 1920, 1920, 1920, 1920, 1920, 1920, 1920, 1920, 1920, 1920, 1920, 1920, 1920, 1920, 1920, 1920, 1920, 1920, 1920, 1920, 1921, 1921, 1921, 1921, 1921, 1921, 1921, 1922, 1922, 1922, 1922, 1922, 1922, 1922, 1922, 1922, 1922, 1923, 1923, 1923, 1923, 1923, 1923, 1923, 1923, 1923, 1923, 1923, 1924, 1924, 1924, 1924, 1924, 1924, 1924, 1924, 1924, 1924, 1924, 1925, 1925, 1925, 1925, 1925, 1925, 1925, 1925, 1925, 1925, 1925, 1925, 1925, 1925, 1925, 1925, 1925, 1925, 1925, 1925, 1925, 1925, 1925, 1925, 1926, 1926, 1926, 1926, 1926, 1926, 1926, 1926, 1926, 1926, 1926, 1926, 1926, 1926, 1926, 1926, 1927, 1927, 1927, 1927, 1927, 1928, 1928, 1928, 1928, 1929, 1929, 1929, 1929, 1929, 1929, 1929, 1930, 1930, 1930, 1930, 1930, 1930, 1930, 1930, 1930, 1930, 1930, 1930, 1930, 1930, 1930, 1930, 1930, 1930, 1930, 1930, 1930, 1930, 1930, 1931, 1931, 1931, 1931, 1931, 1932, 1932, 1932, 1932, 1934, 1934, 1934, 1934, 1935, 1935, 1935, 1935, 1935, 1935, 1935, 1935, 1935, 1935, 1936, 1936, 1936, 1936, 1936, 1936, 1937, 1937, 1937, 1937, 1937, 1937, 1937, 1937, 1938, 1938, 1938, 1938, 1938, 1938, 1938, 1939, 1939, 1939, 1939, 1939, 1939, 1939, 1939, 1939, 1939, 1939, 1939, 1939, 1939, 1940, 1940, 1940, 1940, 1940, 1940, 1940, 1940, 1940, 1940, 1940, 1940, 1940, 1940, 1940, 1940, 1940, 1940, 1940, 1940, 1940, 1940, 1941, 1941, 1941, 1941, 1941, 1941, 1941, 1941, 1941, 1941, 1941, 1941, 1941, 1941, 1942, 1942, 1942, 1942, 1945, 1945, 1945, 1945, 1945, 1945, 1945, 1945, 1945, 1945, 1946, 1946, 1946, 1946, 1946, 1946, 1946, 1946, 1946, 1946, 1947, 1947, 1947, 1947, 1947, 1947, 1947, 1948, 1948, 1948, 1948, 1948, 1948, 1948, 1948, 1948, 1948, 1948, 1948, 1948, 1948, 1948, 1948, 1948, 1948, 1949, 1949, 1949, 1949, 1949, 1949, 1949, 1949, 1949, 1949, 1949, 1950, 1950, 1950, 1950, 1950, 1950, 1950, 1950, 1950, 1950, 1950, 1950, 1950, 1950, 1950, 1950, 1950, 1950, 1950, 1950, 1950, 1950, 1951, 1951, 1951, 1951, 1951, 1951, 1951, 1951, 1951, 1951, 1951, 1951, 1951, 1951, 1952, 1952, 1952, 1952, 1952, 1952, 1952, 1952, 1952, 1952, 1953, 1953, 1953, 1953, 1953, 1953, 1953, 1953, 1953, 1953, 1953, 1953, 1953, 1953, 1953, 1953, 1953, 1953, 1954, 1954, 1954, 1954, 1954, 1954, 1954, 1954, 1954, 1954, 1954, 1954, 1954, 1954, 1954, 1954, 1954, 1954, 1954, 1954, 1954, 1954, 1954, 1954, 1954, 1954, 1954, 1954, 1954, 1954, 1954, 1955, 1955, 1955, 1955, 1955, 1955, 1955, 1955, 1955, 1955, 1955, 1955, 1955, 1955, 1955, 1955, 1955, 1955, 1955, 1955, 1955, 1955, 1955, 1955, 1955, 1955, 1956, 1956, 1956, 1956, 1956, 1956, 1956, 1956, 1956, 1956, 1956, 1956, 1956, 1956, 1956, 1956, 1956, 1956, 1956, 1956, 1956, 1956, 1956, 1956, 1957, 1957, 1957, 1957, 1957, 1957, 1957, 1957, 1957, 1957, 1957, 1957, 1957, 1957, 1957, 1957, 1957, 1957, 1957, 1957, 1957, 1957, 1957, 1958, 1958, 1958, 1958, 1958, 1958, 1958, 1958, 1958, 1958, 1958, 1958, 1958, 1958, 1958, 1958, 1958, 1958, 1958, 1958, 1958, 1958, 1958, 1958, 1958, 1958, 1958, 1958, 1958, 1958, 1958, 1958, 1959, 1959, 1959, 1959, 1959, 1959, 1959, 1959, 1959, 1959, 1959, 1959, 1959, 1959, 1959, 1959, 1959, 1959, 1959, 1959, 1959, 1959, 1960, 1960, 1960, 1960, 1960, 1960, 1960, 1960, 1960, 1960, 1960, 1960, 1960, 1960, 1960, 1960, 1960, 1960, 1960, 1960, 1960, 1960, 1960, 1960, 1960, 1961, 1961, 1961, 1961, 1961, 1961, 1961, 1961, 1961, 1961, 1961, 1961, 1961, 1961, 1961, 1961, 1961, 1961, 1961, 1961, 1961, 1961, 1961, 1961, 1961, 1962, 1962, 1962, 1962, 1962, 1962, 1962, 1962, 1962, 1962, 1962, 1962, 1962, 1962, 1962, 1962, 1962, 1962, 1962, 1962, 1962, 1962, 1962, 1962, 1962, 1962, 1963, 1963, 1963, 1963, 1963, 1963, 1963, 1963, 1963, 1963, 1963, 1963, 1963, 1963, 1963, 1963, 1963, 1963, 1963, 1963, 1963, 1963, 1963, 1963, 1964, 1964, 1964, 1964, 1964, 1964, 1964, 1964, 1964, 1964, 1964, 1964, 1964, 1964, 1964, 1964, 1964, 1964, 1964, 1964, 1964, 1964, 1964, 1964, 1964, 1965, 1965, 1965, 1965, 1965, 1965, 1965, 1965, 1965, 1965, 1965, 1965, 1965, 1965, 1965, 1965, 1965, 1965, 1965, 1965, 1965, 1965, 1965, 1965, 1966, 1966, 1966, 1966, 1966, 1966, 1966, 1966, 1966, 1966, 1966, 1966, 1966, 1966, 1966, 1966, 1966, 1966, 1966, 1966, 1966, 1966, 1966, 1966, 1966, 1966, 1967, 1967, 1967, 1967, 1967, 1967, 1967, 1967, 1967, 1967, 1967, 1967, 1967, 1967, 1967, 1967, 1967, 1967, 1967, 1967, 1967, 1967, 1968, 1968, 1968, 1968, 1968, 1968, 1968, 1968, 1968, 1968, 1968, 1968, 1968, 1968, 1968, 1968, 1968, 1968, 1968, 1968, 1968, 1968, 1968, 1968, 1968, 1968, 1968, 1968, 1968, 1968, 1968, 1969, 1969, 1969, 1969, 1969, 1969, 1969, 1969, 1969, 1969, 1969, 1969, 1969, 1969, 1969, 1969, 1969, 1969, 1969, 1970, 1970, 1970, 1970, 1970, 1970, 1970, 1970, 1970, 1970, 1970, 1970, 1970, 1970, 1970, 1970, 1970, 1970, 1970, 1970, 1970, 1970, 1970, 1970, 1970, 1970, 1971, 1971, 1971, 1971, 1971, 1971, 1971, 1971, 1971, 1971, 1971, 1971, 1971, 1971, 1971, 1971, 1971, 1971, 1971, 1971, 1971, 1971, 1971, 1971, 1972, 1972, 1972, 1972, 1972, 1972, 1972, 1972, 1972, 1972, 1972, 1972, 1972, 1972, 1972, 1972, 1972, 1972, 1972, 1972, 1972, 1972, 1972, 1972, 1972, 1973, 1973, 1973, 1973, 1973, 1973, 1973, 1973, 1973, 1973, 1973, 1973, 1973, 1973, 1973, 1973, 1974, 1974, 1974, 1974, 1974, 1974, 1974, 1974, 1974, 1974, 1974, 1974, 1974, 1974, 1975, 1975, 1975, 1975, 1975, 1975, 1975, 1975, 1975, 1975, 1975, 1975, 1975, 1975, 1975, 1975, 1975, 1975, 1975, 1976, 1976, 1976, 1976, 1976, 1976, 1976, 1976, 1976, 1976, 1976, 1976, 1976, 1976, 1976, 1976, 1976, 1976, 1976, 1976, 1976, 1976, 1976, 1976, 1976, 1976, 1976, 1976, 1976, 1976, 1976, 1976, 1976, 1976, 1976, 1976, 1976, 1976, 1976, 1977, 1977, 1977, 1977, 1977, 1977, 1977, 1977, 1977, 1977, 1977, 1977, 1977, 1977, 1977, 1977, 1977, 1977, 1977, 1977, 1977, 1977, 1977, 1977, 1977, 1977, 1977, 1977, 1977, 1977, 1977, 1977, 1977, 1977, 1977, 1978, 1978, 1978, 1978, 1978, 1978, 1978, 1978, 1978, 1978, 1978, 1978, 1978, 1978, 1978, 1978, 1978, 1978, 1978, 1979, 1979, 1979, 1979, 1979, 1979, 1979, 1979, 1979, 1980, 1980, 1980, 1980, 1980, 1980, 1980, 1980, 1980, 1980, 1980, 1980, 1980, 1981, 1981, 1981, 1981, 1981, 1981, 1982, 1982, 1982, 1982, 1982, 1983, 1983, 1983, 1983, 1983, 1983, 1984, 1984, 1984, 1984, 1984, 1984, 1984, 1984, 1984, 1984, 1984, 1984, 1984, 1984, 1985, 1985, 1985, 1986, 1986, 1986, 1986, 1986, 1986, 1986, 1986, 1986, 1987, 1987, 1987, 1987, 1988, 1988, 1988, 1988, 1988, 1988, 1988, 1988, 1988, 1988, 1988, 1989, 1989, 1989, 1989, 1989, 1990, 1990, 1990, 1990, 1990, 1990, 1990, 1990, 1990, 1990, 1990, 1990, 1991, 1991, 1991, 1991, 1991, 1991, 1991, 1991, 1991, 1992, 1992, 1992, 1992, 1992, 1992, 1992, 1992, 1992, 1992, 1992, 1992, 1992, 1992, 1992, 1993, 1993, 1993, 1993, 1993, 1993, 1993, 1993, 1993, 1993, 1993, 1993, 1993, 1993, 1993, 1993, 1993, 1993, 1993, 1993, 1993, 1993, 1993, 1993, 1994, 1994, 1994, 1994, 1994, 1994, 1994, 1994, 1994, 1994, 1994, 1994, 1994, 1994, 1994, 1994, 1994, 1994, 1994, 1994, 1994, 1994, 1994, 1994, 1995, 1995, 1995, 1995, 1995, 1995, 1995, 1995, 1995, 1995, 1995, 1995, 1995, 1995, 1995, 1995, 1995, 1995, 1995, 1995, 1995, 1995, 1995, 1995, 1996, 1996, 1996, 1996, 1996, 1996, 1996, 1996, 1996, 1996, 1996, 1996, 1996, 1996, 1996, 1996, 1996, 1996, 1996, 1996, 1996, 1996, 1996, 1996, 1997, 1997, 1997, 1997, 1997, 1997, 1997, 1997, 1997, 1997, 1997, 1997, 1997, 1997, 1997, 1997, 1997, 1997, 1997, 1997, 1997, 1997, 1997, 1997, 1997, 1997, 1997, 1997, 1998, 1998, 1998, 1998, 1998, 1998, 1998, 1998, 1998, 1998, 1998, 1998, 1998, 1998, 1998, 1998, 1998, 1998, 1998, 1998, 1998, 1998, 1998, 1998, 1998, 1998, 1998, 1998, 1998, 1999, 1999, 1999, 1999, 1999, 1999, 1999, 1999, 1999, 1999, 1999, 1999, 1999, 1999, 1999, 1999, 1999, 1999, 1999, 1999, 1999, 1999, 1999, 1999, 1999, 1999, 1999, 1999, 1999, 1999, 1999, 1999, 2000, 2000, 2000, 2000, 2000, 2000, 2000, 2000, 2000, 2000, 2000, 2000, 2000, 2000, 2000, 2000, 2000, 2000, 2000, 2000, 2000, 2000, 2000, 2000, 2000, 2000, 2000, 2000, 2000, 2001, 2001, 2001, 2001, 2001, 2001, 2001, 2001, 2001, 2001, 2001, 2001, 2001, 2001, 2001, 2001, 2001, 2001, 2001, 2001, 2001, 2002, 2002, 2002, 2002, 2002, 2002, 2002, 2002, 2002, 2002, 2002, 2002, 2002, 2002, 2002, 2002, 2002, 2002, 2002, 2002, 2002, 2002, 2002, 2002, 2002, 2002, 2002, 2003, 2003, 2003, 2003, 2003, 2003, 2003, 2003, 2003, 2003, 2003, 2003, 2003, 2003, 2003, 2003, 2003, 2003, 2003, 2003, 2003, 2003, 2003, 2003, 2003, 2003, 2003, 2003, 2003, 2003, 2003, 2003, 2003, 2003, 2003, 2003, 2003, 2003, 2003, 2003, 2003, 2003, 2003, 2003, 2003, 2003, 2003, 2003, 2003, 2003, 2003, 2003, 2003, 2004, 2004, 2004, 2004, 2004, 2004, 2004, 2004, 2004, 2004, 2004, 2004, 2004, 2004, 2004, 2004, 2004, 2004, 2004, 2004, 2004, 2004, 2004, 2004, 2004, 2004, 2004, 2004, 2004, 2004, 2004, 2004, 2004, 2004, 2004, 2004, 2004, 2004, 2004, 2004, 2004, 2004, 2004, 2004, 2004, 2004, 2004, 2004, 2004, 2004, 2004, 2004, 2004, 2004, 2004, 2004, 2004, 2004, 2004, 2004, 2004, 2005, 2005, 2005, 2005, 2005, 2005, 2005, 2005, 2005, 2005, 2005, 2005, 2005, 2005, 2005, 2005, 2005, 2005, 2005, 2005, 2005, 2005, 2005, 2005, 2005, 2005, 2005, 2005, 2005, 2005, 2005, 2005, 2005, 2005, 2005, 2005, 2005, 2005, 2005, 2005, 2005, 2005, 2005, 2005, 2005, 2005, 2005, 2005, 2005, 2005, 2005, 2005, 2005, 2005, 2005, 2005, 2005, 2005, 2005, 2005, 2005, 2005, 2005, 2005, 2005, 2005, 2005, 2005, 2005, 2005, 2005, 2005, 2005, 2005, 2005, 2005, 2005, 2005, 2005, 2005, 2005, 2005, 2005, 2005, 2005, 2005, 2005, 2005, 2005, 2005, 2005, 2005, 2005, 2005, 2005, 2005, 2005, 2005, 2005, 2005, 2005, 2005, 2005, 2005, 2005, 2005, 2005, 2005, 2005, 2005, 2005, 2005, 2005, 2006, 2006, 2006, 2006, 2006, 2006, 2006, 2006, 2006, 2006, 2006, 2006, 2006, 2006, 2006, 2006, 2006, 2006, 2006, 2006, 2006, 2006, 2006, 2006, 2006, 2006, 2006, 2006, 2006, 2006, 2006, 2006, 2006, 2006, 2006, 2006, 2006, 2006, 2006, 2006, 2006, 2006, 2006, 2006, 2006, 2006, 2006, 2006, 2006, 2006, 2006, 2006, 2006, 2006, 2006, 2006, 2006, 2006, 2006, 2006, 2006, 2006, 2006, 2006, 2006, 2006, 2006, 2006, 2006, 2006, 2006, 2006, 2006, 2006, 2006, 2006, 2006, 2006, 2006, 2006, 2006, 2006, 2006, 2006, 2006, 2006, 2006, 2006, 2006, 2006, 2006, 2006, 2006, 2006, 2006, 2006, 2006, 2006, 2006, 2006, 2006, 2006, 2006, 2006, 2006, 2006, 2006, 2006, 2006, 2006, 2006, 2006, 2007, 2007, 2007, 2007, 2007, 2007, 2007, 2007, 2007, 2007, 2007, 2007, 2007, 2007, 2007, 2007, 2007, 2007, 2007, 2007, 2007, 2007, 2007, 2007, 2007, 2007, 2007, 2007, 2007, 2007, 2007, 2007, 2007, 2007, 2007, 2007, 2007, 2007, 2007, 2007, 2007, 2007, 2007, 2007, 2007, 2007, 2007, 2007, 2007, 2007, 2007, 2007, 2007, 2007, 2007, 2007, 2007, 2007, 2007, 2007, 2007, 2007, 2007, 2007, 2007, 2007, 2007, 2007, 2007, 2007, 2007, 2007, 2007, 2007, 2007, 2007, 2007, 2007, 2008, 2008, 2008, 2008, 2008, 2008, 2008, 2008, 2008, 2008, 2008, 2008, 2008], \"xaxis\": \"x\", \"y\": [39789.02316552447, 49806.906665955205, 51238.03288030252, 51238.03288030252, 51238.03288030252, 58393.66395203862, 65549.29502377473, 65549.29502377473, 65549.29502377473, 65549.29502377473, 68411.54745246889, 69842.6736668162, 72704.92609551083, 72704.92609551083, 72704.92609551083, 79860.55716724694, 79860.55716724694, 79860.55716724694, 79860.55716724694, 79860.55716724694, 79860.55716724694, 79860.55716724694, 79860.55716724694, 79860.55716724694, 79860.55716724694, 79860.55716724694, 79860.55716724694, 79860.55716724694, 79860.55716724694, 79860.55716724694, 79860.55716724694, 79860.55716724694, 79860.55716724694, 79860.55716724694, 81291.68338159425, 81291.68338159425, 85585.06202463573, 87016.18823898304, 87016.18823898304, 87016.18823898304, 88447.31445333036, 91309.56688202452, 91309.56688202452, 94171.81931071915, 94171.81931071915, 94171.81931071915, 94171.81931071915, 94171.81931071915, 94171.81931071915, 94171.81931071915, 94171.81931071915, 94171.81931071915, 94171.81931071915, 94171.81931071915, 94171.81931071915, 94171.81931071915, 94171.81931071915, 94171.81931071915, 94171.81931071915, 94171.81931071915, 94171.81931071915, 94171.81931071915, 94171.81931071915, 94171.81931071915, 94171.81931071915, 94171.81931071915, 94171.81931071915, 94171.81931071915, 94171.81931071915, 95602.94552506646, 97034.07173941331, 97034.07173941331, 97034.07173941331, 98465.19795376062, 99896.32416810794, 99896.32416810794, 99896.32416810794, 99896.32416810794, 99896.32416810794, 99896.32416810794, 99896.32416810794, 101327.45038245525, 101327.45038245525, 101327.45038245525, 101327.45038245525, 101327.45038245525, 101327.45038245525, 101327.45038245525, 101327.45038245525, 101327.45038245525, 101327.45038245525, 101327.45038245525, 101327.45038245525, 102758.57659680257, 102758.57659680257, 102758.57659680257, 102758.57659680257, 102758.57659680257, 102758.57659680257, 104189.70281114941, 105620.82902549673, 105620.82902549673, 105620.82902549673, 105620.82902549673, 105620.82902549673, 105620.82902549673, 105620.82902549673, 105620.82902549673, 105620.82902549673, 107051.95523984404, 107051.95523984404, 107051.95523984404, 107051.95523984404, 108483.08145419136, 108483.08145419136, 108483.08145419136, 108483.08145419136, 108483.08145419136, 108483.08145419136, 108483.08145419136, 108483.08145419136, 108483.08145419136, 108483.08145419136, 108483.08145419136, 108483.08145419136, 108483.08145419136, 108483.08145419136, 108483.08145419136, 108483.08145419136, 108483.08145419136, 108483.08145419136, 108483.08145419136, 108483.08145419136, 108483.08145419136, 108483.08145419136, 108483.08145419136, 108483.08145419136, 108483.08145419136, 108483.08145419136, 108483.08145419136, 108483.08145419136, 108483.08145419136, 108483.08145419136, 108483.08145419136, 108483.08145419136, 108483.08145419136, 108483.08145419136, 108483.08145419136, 108483.08145419136, 109914.20766853867, 109914.20766853867, 109914.20766853867, 109914.20766853867, 109914.20766853867, 109914.20766853867, 109914.20766853867, 111345.33388288552, 111345.33388288552, 111345.33388288552, 111345.33388288552, 111345.33388288552, 111345.33388288552, 111345.33388288552, 111345.33388288552, 111345.33388288552, 111345.33388288552, 112776.46009723283, 112776.46009723283, 112776.46009723283, 112776.46009723283, 112776.46009723283, 112776.46009723283, 112776.46009723283, 112776.46009723283, 112776.46009723283, 112776.46009723283, 112776.46009723283, 114207.58631158015, 114207.58631158015, 114207.58631158015, 114207.58631158015, 114207.58631158015, 114207.58631158015, 114207.58631158015, 114207.58631158015, 114207.58631158015, 114207.58631158015, 114207.58631158015, 115638.71252592746, 115638.71252592746, 115638.71252592746, 115638.71252592746, 115638.71252592746, 115638.71252592746, 115638.71252592746, 115638.71252592746, 115638.71252592746, 115638.71252592746, 115638.71252592746, 115638.71252592746, 115638.71252592746, 115638.71252592746, 115638.71252592746, 115638.71252592746, 115638.71252592746, 115638.71252592746, 115638.71252592746, 115638.71252592746, 115638.71252592746, 115638.71252592746, 115638.71252592746, 115638.71252592746, 117069.83874027478, 117069.83874027478, 117069.83874027478, 117069.83874027478, 117069.83874027478, 117069.83874027478, 117069.83874027478, 117069.83874027478, 117069.83874027478, 117069.83874027478, 117069.83874027478, 117069.83874027478, 117069.83874027478, 117069.83874027478, 117069.83874027478, 117069.83874027478, 118500.96495462162, 118500.96495462162, 118500.96495462162, 118500.96495462162, 118500.96495462162, 119932.09116896894, 119932.09116896894, 119932.09116896894, 119932.09116896894, 121363.21738331625, 121363.21738331625, 121363.21738331625, 121363.21738331625, 121363.21738331625, 121363.21738331625, 121363.21738331625, 122794.34359766357, 122794.34359766357, 122794.34359766357, 122794.34359766357, 122794.34359766357, 122794.34359766357, 122794.34359766357, 122794.34359766357, 122794.34359766357, 122794.34359766357, 122794.34359766357, 122794.34359766357, 122794.34359766357, 122794.34359766357, 122794.34359766357, 122794.34359766357, 122794.34359766357, 122794.34359766357, 122794.34359766357, 122794.34359766357, 122794.34359766357, 122794.34359766357, 122794.34359766357, 124225.46981201088, 124225.46981201088, 124225.46981201088, 124225.46981201088, 124225.46981201088, 125656.59602635773, 125656.59602635773, 125656.59602635773, 125656.59602635773, 128518.84845505236, 128518.84845505236, 128518.84845505236, 128518.84845505236, 129949.97466939967, 129949.97466939967, 129949.97466939967, 129949.97466939967, 129949.97466939967, 129949.97466939967, 129949.97466939967, 129949.97466939967, 129949.97466939967, 129949.97466939967, 131381.10088374699, 131381.10088374699, 131381.10088374699, 131381.10088374699, 131381.10088374699, 131381.10088374699, 132812.22709809383, 132812.22709809383, 132812.22709809383, 132812.22709809383, 132812.22709809383, 132812.22709809383, 132812.22709809383, 132812.22709809383, 134243.35331244115, 134243.35331244115, 134243.35331244115, 134243.35331244115, 134243.35331244115, 134243.35331244115, 134243.35331244115, 135674.47952678846, 135674.47952678846, 135674.47952678846, 135674.47952678846, 135674.47952678846, 135674.47952678846, 135674.47952678846, 135674.47952678846, 135674.47952678846, 135674.47952678846, 135674.47952678846, 135674.47952678846, 135674.47952678846, 135674.47952678846, 137105.60574113578, 137105.60574113578, 137105.60574113578, 137105.60574113578, 137105.60574113578, 137105.60574113578, 137105.60574113578, 137105.60574113578, 137105.60574113578, 137105.60574113578, 137105.60574113578, 137105.60574113578, 137105.60574113578, 137105.60574113578, 137105.60574113578, 137105.60574113578, 137105.60574113578, 137105.60574113578, 137105.60574113578, 137105.60574113578, 137105.60574113578, 137105.60574113578, 138536.7319554831, 138536.7319554831, 138536.7319554831, 138536.7319554831, 138536.7319554831, 138536.7319554831, 138536.7319554831, 138536.7319554831, 138536.7319554831, 138536.7319554831, 138536.7319554831, 138536.7319554831, 138536.7319554831, 138536.7319554831, 139967.85816982994, 139967.85816982994, 139967.85816982994, 139967.85816982994, 144261.23681287188, 144261.23681287188, 144261.23681287188, 144261.23681287188, 144261.23681287188, 144261.23681287188, 144261.23681287188, 144261.23681287188, 144261.23681287188, 144261.23681287188, 145692.3630272192, 145692.3630272192, 145692.3630272192, 145692.3630272192, 145692.3630272192, 145692.3630272192, 145692.3630272192, 145692.3630272192, 145692.3630272192, 145692.3630272192, 147123.48924156604, 147123.48924156604, 147123.48924156604, 147123.48924156604, 147123.48924156604, 147123.48924156604, 147123.48924156604, 148554.61545591336, 148554.61545591336, 148554.61545591336, 148554.61545591336, 148554.61545591336, 148554.61545591336, 148554.61545591336, 148554.61545591336, 148554.61545591336, 148554.61545591336, 148554.61545591336, 148554.61545591336, 148554.61545591336, 148554.61545591336, 148554.61545591336, 148554.61545591336, 148554.61545591336, 148554.61545591336, 149985.74167026067, 149985.74167026067, 149985.74167026067, 149985.74167026067, 149985.74167026067, 149985.74167026067, 149985.74167026067, 149985.74167026067, 149985.74167026067, 149985.74167026067, 149985.74167026067, 151416.867884608, 151416.867884608, 151416.867884608, 151416.867884608, 151416.867884608, 151416.867884608, 151416.867884608, 151416.867884608, 151416.867884608, 151416.867884608, 151416.867884608, 151416.867884608, 151416.867884608, 151416.867884608, 151416.867884608, 151416.867884608, 151416.867884608, 151416.867884608, 151416.867884608, 151416.867884608, 151416.867884608, 151416.867884608, 152847.9940989553, 152847.9940989553, 152847.9940989553, 152847.9940989553, 152847.9940989553, 152847.9940989553, 152847.9940989553, 152847.9940989553, 152847.9940989553, 152847.9940989553, 152847.9940989553, 152847.9940989553, 152847.9940989553, 152847.9940989553, 154279.12031330215, 154279.12031330215, 154279.12031330215, 154279.12031330215, 154279.12031330215, 154279.12031330215, 154279.12031330215, 154279.12031330215, 154279.12031330215, 154279.12031330215, 155710.24652764946, 155710.24652764946, 155710.24652764946, 155710.24652764946, 155710.24652764946, 155710.24652764946, 155710.24652764946, 155710.24652764946, 155710.24652764946, 155710.24652764946, 155710.24652764946, 155710.24652764946, 155710.24652764946, 155710.24652764946, 155710.24652764946, 155710.24652764946, 155710.24652764946, 155710.24652764946, 157141.37274199678, 157141.37274199678, 157141.37274199678, 157141.37274199678, 157141.37274199678, 157141.37274199678, 157141.37274199678, 157141.37274199678, 157141.37274199678, 157141.37274199678, 157141.37274199678, 157141.37274199678, 157141.37274199678, 157141.37274199678, 157141.37274199678, 157141.37274199678, 157141.37274199678, 157141.37274199678, 157141.37274199678, 157141.37274199678, 157141.37274199678, 157141.37274199678, 157141.37274199678, 157141.37274199678, 157141.37274199678, 157141.37274199678, 157141.37274199678, 157141.37274199678, 157141.37274199678, 157141.37274199678, 157141.37274199678, 158572.4989563441, 158572.4989563441, 158572.4989563441, 158572.4989563441, 158572.4989563441, 158572.4989563441, 158572.4989563441, 158572.4989563441, 158572.4989563441, 158572.4989563441, 158572.4989563441, 158572.4989563441, 158572.4989563441, 158572.4989563441, 158572.4989563441, 158572.4989563441, 158572.4989563441, 158572.4989563441, 158572.4989563441, 158572.4989563441, 158572.4989563441, 158572.4989563441, 158572.4989563441, 158572.4989563441, 158572.4989563441, 158572.4989563441, 160003.6251706914, 160003.6251706914, 160003.6251706914, 160003.6251706914, 160003.6251706914, 160003.6251706914, 160003.6251706914, 160003.6251706914, 160003.6251706914, 160003.6251706914, 160003.6251706914, 160003.6251706914, 160003.6251706914, 160003.6251706914, 160003.6251706914, 160003.6251706914, 160003.6251706914, 160003.6251706914, 160003.6251706914, 160003.6251706914, 160003.6251706914, 160003.6251706914, 160003.6251706914, 160003.6251706914, 161434.75138503825, 161434.75138503825, 161434.75138503825, 161434.75138503825, 161434.75138503825, 161434.75138503825, 161434.75138503825, 161434.75138503825, 161434.75138503825, 161434.75138503825, 161434.75138503825, 161434.75138503825, 161434.75138503825, 161434.75138503825, 161434.75138503825, 161434.75138503825, 161434.75138503825, 161434.75138503825, 161434.75138503825, 161434.75138503825, 161434.75138503825, 161434.75138503825, 161434.75138503825, 162865.87759938557, 162865.87759938557, 162865.87759938557, 162865.87759938557, 162865.87759938557, 162865.87759938557, 162865.87759938557, 162865.87759938557, 162865.87759938557, 162865.87759938557, 162865.87759938557, 162865.87759938557, 162865.87759938557, 162865.87759938557, 162865.87759938557, 162865.87759938557, 162865.87759938557, 162865.87759938557, 162865.87759938557, 162865.87759938557, 162865.87759938557, 162865.87759938557, 162865.87759938557, 162865.87759938557, 162865.87759938557, 162865.87759938557, 162865.87759938557, 162865.87759938557, 162865.87759938557, 162865.87759938557, 162865.87759938557, 162865.87759938557, 164297.00381373288, 164297.00381373288, 164297.00381373288, 164297.00381373288, 164297.00381373288, 164297.00381373288, 164297.00381373288, 164297.00381373288, 164297.00381373288, 164297.00381373288, 164297.00381373288, 164297.00381373288, 164297.00381373288, 164297.00381373288, 164297.00381373288, 164297.00381373288, 164297.00381373288, 164297.00381373288, 164297.00381373288, 164297.00381373288, 164297.00381373288, 164297.00381373288, 165728.1300280802, 165728.1300280802, 165728.1300280802, 165728.1300280802, 165728.1300280802, 165728.1300280802, 165728.1300280802, 165728.1300280802, 165728.1300280802, 165728.1300280802, 165728.1300280802, 165728.1300280802, 165728.1300280802, 165728.1300280802, 165728.1300280802, 165728.1300280802, 165728.1300280802, 165728.1300280802, 165728.1300280802, 165728.1300280802, 165728.1300280802, 165728.1300280802, 165728.1300280802, 165728.1300280802, 165728.1300280802, 167159.2562424275, 167159.2562424275, 167159.2562424275, 167159.2562424275, 167159.2562424275, 167159.2562424275, 167159.2562424275, 167159.2562424275, 167159.2562424275, 167159.2562424275, 167159.2562424275, 167159.2562424275, 167159.2562424275, 167159.2562424275, 167159.2562424275, 167159.2562424275, 167159.2562424275, 167159.2562424275, 167159.2562424275, 167159.2562424275, 167159.2562424275, 167159.2562424275, 167159.2562424275, 167159.2562424275, 167159.2562424275, 168590.38245677436, 168590.38245677436, 168590.38245677436, 168590.38245677436, 168590.38245677436, 168590.38245677436, 168590.38245677436, 168590.38245677436, 168590.38245677436, 168590.38245677436, 168590.38245677436, 168590.38245677436, 168590.38245677436, 168590.38245677436, 168590.38245677436, 168590.38245677436, 168590.38245677436, 168590.38245677436, 168590.38245677436, 168590.38245677436, 168590.38245677436, 168590.38245677436, 168590.38245677436, 168590.38245677436, 168590.38245677436, 168590.38245677436, 170021.50867112167, 170021.50867112167, 170021.50867112167, 170021.50867112167, 170021.50867112167, 170021.50867112167, 170021.50867112167, 170021.50867112167, 170021.50867112167, 170021.50867112167, 170021.50867112167, 170021.50867112167, 170021.50867112167, 170021.50867112167, 170021.50867112167, 170021.50867112167, 170021.50867112167, 170021.50867112167, 170021.50867112167, 170021.50867112167, 170021.50867112167, 170021.50867112167, 170021.50867112167, 170021.50867112167, 171452.634885469, 171452.634885469, 171452.634885469, 171452.634885469, 171452.634885469, 171452.634885469, 171452.634885469, 171452.634885469, 171452.634885469, 171452.634885469, 171452.634885469, 171452.634885469, 171452.634885469, 171452.634885469, 171452.634885469, 171452.634885469, 171452.634885469, 171452.634885469, 171452.634885469, 171452.634885469, 171452.634885469, 171452.634885469, 171452.634885469, 171452.634885469, 171452.634885469, 172883.7610998163, 172883.7610998163, 172883.7610998163, 172883.7610998163, 172883.7610998163, 172883.7610998163, 172883.7610998163, 172883.7610998163, 172883.7610998163, 172883.7610998163, 172883.7610998163, 172883.7610998163, 172883.7610998163, 172883.7610998163, 172883.7610998163, 172883.7610998163, 172883.7610998163, 172883.7610998163, 172883.7610998163, 172883.7610998163, 172883.7610998163, 172883.7610998163, 172883.7610998163, 172883.7610998163, 174314.88731416315, 174314.88731416315, 174314.88731416315, 174314.88731416315, 174314.88731416315, 174314.88731416315, 174314.88731416315, 174314.88731416315, 174314.88731416315, 174314.88731416315, 174314.88731416315, 174314.88731416315, 174314.88731416315, 174314.88731416315, 174314.88731416315, 174314.88731416315, 174314.88731416315, 174314.88731416315, 174314.88731416315, 174314.88731416315, 174314.88731416315, 174314.88731416315, 174314.88731416315, 174314.88731416315, 174314.88731416315, 174314.88731416315, 175746.01352851046, 175746.01352851046, 175746.01352851046, 175746.01352851046, 175746.01352851046, 175746.01352851046, 175746.01352851046, 175746.01352851046, 175746.01352851046, 175746.01352851046, 175746.01352851046, 175746.01352851046, 175746.01352851046, 175746.01352851046, 175746.01352851046, 175746.01352851046, 175746.01352851046, 175746.01352851046, 175746.01352851046, 175746.01352851046, 175746.01352851046, 175746.01352851046, 177177.13974285778, 177177.13974285778, 177177.13974285778, 177177.13974285778, 177177.13974285778, 177177.13974285778, 177177.13974285778, 177177.13974285778, 177177.13974285778, 177177.13974285778, 177177.13974285778, 177177.13974285778, 177177.13974285778, 177177.13974285778, 177177.13974285778, 177177.13974285778, 177177.13974285778, 177177.13974285778, 177177.13974285778, 177177.13974285778, 177177.13974285778, 177177.13974285778, 177177.13974285778, 177177.13974285778, 177177.13974285778, 177177.13974285778, 177177.13974285778, 177177.13974285778, 177177.13974285778, 177177.13974285778, 177177.13974285778, 178608.2659572051, 178608.2659572051, 178608.2659572051, 178608.2659572051, 178608.2659572051, 178608.2659572051, 178608.2659572051, 178608.2659572051, 178608.2659572051, 178608.2659572051, 178608.2659572051, 178608.2659572051, 178608.2659572051, 178608.2659572051, 178608.2659572051, 178608.2659572051, 178608.2659572051, 178608.2659572051, 178608.2659572051, 180039.3921715524, 180039.3921715524, 180039.3921715524, 180039.3921715524, 180039.3921715524, 180039.3921715524, 180039.3921715524, 180039.3921715524, 180039.3921715524, 180039.3921715524, 180039.3921715524, 180039.3921715524, 180039.3921715524, 180039.3921715524, 180039.3921715524, 180039.3921715524, 180039.3921715524, 180039.3921715524, 180039.3921715524, 180039.3921715524, 180039.3921715524, 180039.3921715524, 180039.3921715524, 180039.3921715524, 180039.3921715524, 180039.3921715524, 181470.51838589925, 181470.51838589925, 181470.51838589925, 181470.51838589925, 181470.51838589925, 181470.51838589925, 181470.51838589925, 181470.51838589925, 181470.51838589925, 181470.51838589925, 181470.51838589925, 181470.51838589925, 181470.51838589925, 181470.51838589925, 181470.51838589925, 181470.51838589925, 181470.51838589925, 181470.51838589925, 181470.51838589925, 181470.51838589925, 181470.51838589925, 181470.51838589925, 181470.51838589925, 181470.51838589925, 182901.64460024657, 182901.64460024657, 182901.64460024657, 182901.64460024657, 182901.64460024657, 182901.64460024657, 182901.64460024657, 182901.64460024657, 182901.64460024657, 182901.64460024657, 182901.64460024657, 182901.64460024657, 182901.64460024657, 182901.64460024657, 182901.64460024657, 182901.64460024657, 182901.64460024657, 182901.64460024657, 182901.64460024657, 182901.64460024657, 182901.64460024657, 182901.64460024657, 182901.64460024657, 182901.64460024657, 182901.64460024657, 184332.77081459388, 184332.77081459388, 184332.77081459388, 184332.77081459388, 184332.77081459388, 184332.77081459388, 184332.77081459388, 184332.77081459388, 184332.77081459388, 184332.77081459388, 184332.77081459388, 184332.77081459388, 184332.77081459388, 184332.77081459388, 184332.77081459388, 184332.77081459388, 185763.8970289412, 185763.8970289412, 185763.8970289412, 185763.8970289412, 185763.8970289412, 185763.8970289412, 185763.8970289412, 185763.8970289412, 185763.8970289412, 185763.8970289412, 185763.8970289412, 185763.8970289412, 185763.8970289412, 185763.8970289412, 187195.0232432885, 187195.0232432885, 187195.0232432885, 187195.0232432885, 187195.0232432885, 187195.0232432885, 187195.0232432885, 187195.0232432885, 187195.0232432885, 187195.0232432885, 187195.0232432885, 187195.0232432885, 187195.0232432885, 187195.0232432885, 187195.0232432885, 187195.0232432885, 187195.0232432885, 187195.0232432885, 187195.0232432885, 188626.14945763536, 188626.14945763536, 188626.14945763536, 188626.14945763536, 188626.14945763536, 188626.14945763536, 188626.14945763536, 188626.14945763536, 188626.14945763536, 188626.14945763536, 188626.14945763536, 188626.14945763536, 188626.14945763536, 188626.14945763536, 188626.14945763536, 188626.14945763536, 188626.14945763536, 188626.14945763536, 188626.14945763536, 188626.14945763536, 188626.14945763536, 188626.14945763536, 188626.14945763536, 188626.14945763536, 188626.14945763536, 188626.14945763536, 188626.14945763536, 188626.14945763536, 188626.14945763536, 188626.14945763536, 188626.14945763536, 188626.14945763536, 188626.14945763536, 188626.14945763536, 188626.14945763536, 188626.14945763536, 188626.14945763536, 188626.14945763536, 188626.14945763536, 190057.27567198267, 190057.27567198267, 190057.27567198267, 190057.27567198267, 190057.27567198267, 190057.27567198267, 190057.27567198267, 190057.27567198267, 190057.27567198267, 190057.27567198267, 190057.27567198267, 190057.27567198267, 190057.27567198267, 190057.27567198267, 190057.27567198267, 190057.27567198267, 190057.27567198267, 190057.27567198267, 190057.27567198267, 190057.27567198267, 190057.27567198267, 190057.27567198267, 190057.27567198267, 190057.27567198267, 190057.27567198267, 190057.27567198267, 190057.27567198267, 190057.27567198267, 190057.27567198267, 190057.27567198267, 190057.27567198267, 190057.27567198267, 190057.27567198267, 190057.27567198267, 190057.27567198267, 191488.40188633, 191488.40188633, 191488.40188633, 191488.40188633, 191488.40188633, 191488.40188633, 191488.40188633, 191488.40188633, 191488.40188633, 191488.40188633, 191488.40188633, 191488.40188633, 191488.40188633, 191488.40188633, 191488.40188633, 191488.40188633, 191488.40188633, 191488.40188633, 191488.40188633, 192919.5281006773, 192919.5281006773, 192919.5281006773, 192919.5281006773, 192919.5281006773, 192919.5281006773, 192919.5281006773, 192919.5281006773, 192919.5281006773, 194350.6543150246, 194350.6543150246, 194350.6543150246, 194350.6543150246, 194350.6543150246, 194350.6543150246, 194350.6543150246, 194350.6543150246, 194350.6543150246, 194350.6543150246, 194350.6543150246, 194350.6543150246, 194350.6543150246, 195781.78052937146, 195781.78052937146, 195781.78052937146, 195781.78052937146, 195781.78052937146, 195781.78052937146, 197212.90674371878, 197212.90674371878, 197212.90674371878, 197212.90674371878, 197212.90674371878, 198644.0329580661, 198644.0329580661, 198644.0329580661, 198644.0329580661, 198644.0329580661, 198644.0329580661, 200075.1591724134, 200075.1591724134, 200075.1591724134, 200075.1591724134, 200075.1591724134, 200075.1591724134, 200075.1591724134, 200075.1591724134, 200075.1591724134, 200075.1591724134, 200075.1591724134, 200075.1591724134, 200075.1591724134, 200075.1591724134, 201506.28538676072, 201506.28538676072, 201506.28538676072, 202937.41160110757, 202937.41160110757, 202937.41160110757, 202937.41160110757, 202937.41160110757, 202937.41160110757, 202937.41160110757, 202937.41160110757, 202937.41160110757, 204368.53781545488, 204368.53781545488, 204368.53781545488, 204368.53781545488, 205799.6640298022, 205799.6640298022, 205799.6640298022, 205799.6640298022, 205799.6640298022, 205799.6640298022, 205799.6640298022, 205799.6640298022, 205799.6640298022, 205799.6640298022, 205799.6640298022, 207230.7902441495, 207230.7902441495, 207230.7902441495, 207230.7902441495, 207230.7902441495, 208661.91645849682, 208661.91645849682, 208661.91645849682, 208661.91645849682, 208661.91645849682, 208661.91645849682, 208661.91645849682, 208661.91645849682, 208661.91645849682, 208661.91645849682, 208661.91645849682, 208661.91645849682, 210093.04267284367, 210093.04267284367, 210093.04267284367, 210093.04267284367, 210093.04267284367, 210093.04267284367, 210093.04267284367, 210093.04267284367, 210093.04267284367, 211524.168887191, 211524.168887191, 211524.168887191, 211524.168887191, 211524.168887191, 211524.168887191, 211524.168887191, 211524.168887191, 211524.168887191, 211524.168887191, 211524.168887191, 211524.168887191, 211524.168887191, 211524.168887191, 211524.168887191, 212955.2951015383, 212955.2951015383, 212955.2951015383, 212955.2951015383, 212955.2951015383, 212955.2951015383, 212955.2951015383, 212955.2951015383, 212955.2951015383, 212955.2951015383, 212955.2951015383, 212955.2951015383, 212955.2951015383, 212955.2951015383, 212955.2951015383, 212955.2951015383, 212955.2951015383, 212955.2951015383, 212955.2951015383, 212955.2951015383, 212955.2951015383, 212955.2951015383, 212955.2951015383, 212955.2951015383, 214386.42131588561, 214386.42131588561, 214386.42131588561, 214386.42131588561, 214386.42131588561, 214386.42131588561, 214386.42131588561, 214386.42131588561, 214386.42131588561, 214386.42131588561, 214386.42131588561, 214386.42131588561, 214386.42131588561, 214386.42131588561, 214386.42131588561, 214386.42131588561, 214386.42131588561, 214386.42131588561, 214386.42131588561, 214386.42131588561, 214386.42131588561, 214386.42131588561, 214386.42131588561, 214386.42131588561, 215817.54753023293, 215817.54753023293, 215817.54753023293, 215817.54753023293, 215817.54753023293, 215817.54753023293, 215817.54753023293, 215817.54753023293, 215817.54753023293, 215817.54753023293, 215817.54753023293, 215817.54753023293, 215817.54753023293, 215817.54753023293, 215817.54753023293, 215817.54753023293, 215817.54753023293, 215817.54753023293, 215817.54753023293, 215817.54753023293, 215817.54753023293, 215817.54753023293, 215817.54753023293, 215817.54753023293, 217248.67374457978, 217248.67374457978, 217248.67374457978, 217248.67374457978, 217248.67374457978, 217248.67374457978, 217248.67374457978, 217248.67374457978, 217248.67374457978, 217248.67374457978, 217248.67374457978, 217248.67374457978, 217248.67374457978, 217248.67374457978, 217248.67374457978, 217248.67374457978, 217248.67374457978, 217248.67374457978, 217248.67374457978, 217248.67374457978, 217248.67374457978, 217248.67374457978, 217248.67374457978, 217248.67374457978, 218679.7999589271, 218679.7999589271, 218679.7999589271, 218679.7999589271, 218679.7999589271, 218679.7999589271, 218679.7999589271, 218679.7999589271, 218679.7999589271, 218679.7999589271, 218679.7999589271, 218679.7999589271, 218679.7999589271, 218679.7999589271, 218679.7999589271, 218679.7999589271, 218679.7999589271, 218679.7999589271, 218679.7999589271, 218679.7999589271, 218679.7999589271, 218679.7999589271, 218679.7999589271, 218679.7999589271, 218679.7999589271, 218679.7999589271, 218679.7999589271, 218679.7999589271, 220110.9261732744, 220110.9261732744, 220110.9261732744, 220110.9261732744, 220110.9261732744, 220110.9261732744, 220110.9261732744, 220110.9261732744, 220110.9261732744, 220110.9261732744, 220110.9261732744, 220110.9261732744, 220110.9261732744, 220110.9261732744, 220110.9261732744, 220110.9261732744, 220110.9261732744, 220110.9261732744, 220110.9261732744, 220110.9261732744, 220110.9261732744, 220110.9261732744, 220110.9261732744, 220110.9261732744, 220110.9261732744, 220110.9261732744, 220110.9261732744, 220110.9261732744, 220110.9261732744, 221542.05238762172, 221542.05238762172, 221542.05238762172, 221542.05238762172, 221542.05238762172, 221542.05238762172, 221542.05238762172, 221542.05238762172, 221542.05238762172, 221542.05238762172, 221542.05238762172, 221542.05238762172, 221542.05238762172, 221542.05238762172, 221542.05238762172, 221542.05238762172, 221542.05238762172, 221542.05238762172, 221542.05238762172, 221542.05238762172, 221542.05238762172, 221542.05238762172, 221542.05238762172, 221542.05238762172, 221542.05238762172, 221542.05238762172, 221542.05238762172, 221542.05238762172, 221542.05238762172, 221542.05238762172, 221542.05238762172, 221542.05238762172, 222973.17860196903, 222973.17860196903, 222973.17860196903, 222973.17860196903, 222973.17860196903, 222973.17860196903, 222973.17860196903, 222973.17860196903, 222973.17860196903, 222973.17860196903, 222973.17860196903, 222973.17860196903, 222973.17860196903, 222973.17860196903, 222973.17860196903, 222973.17860196903, 222973.17860196903, 222973.17860196903, 222973.17860196903, 222973.17860196903, 222973.17860196903, 222973.17860196903, 222973.17860196903, 222973.17860196903, 222973.17860196903, 222973.17860196903, 222973.17860196903, 222973.17860196903, 222973.17860196903, 224404.30481631588, 224404.30481631588, 224404.30481631588, 224404.30481631588, 224404.30481631588, 224404.30481631588, 224404.30481631588, 224404.30481631588, 224404.30481631588, 224404.30481631588, 224404.30481631588, 224404.30481631588, 224404.30481631588, 224404.30481631588, 224404.30481631588, 224404.30481631588, 224404.30481631588, 224404.30481631588, 224404.30481631588, 224404.30481631588, 224404.30481631588, 225835.4310306632, 225835.4310306632, 225835.4310306632, 225835.4310306632, 225835.4310306632, 225835.4310306632, 225835.4310306632, 225835.4310306632, 225835.4310306632, 225835.4310306632, 225835.4310306632, 225835.4310306632, 225835.4310306632, 225835.4310306632, 225835.4310306632, 225835.4310306632, 225835.4310306632, 225835.4310306632, 225835.4310306632, 225835.4310306632, 225835.4310306632, 225835.4310306632, 225835.4310306632, 225835.4310306632, 225835.4310306632, 225835.4310306632, 225835.4310306632, 227266.5572450105, 227266.5572450105, 227266.5572450105, 227266.5572450105, 227266.5572450105, 227266.5572450105, 227266.5572450105, 227266.5572450105, 227266.5572450105, 227266.5572450105, 227266.5572450105, 227266.5572450105, 227266.5572450105, 227266.5572450105, 227266.5572450105, 227266.5572450105, 227266.5572450105, 227266.5572450105, 227266.5572450105, 227266.5572450105, 227266.5572450105, 227266.5572450105, 227266.5572450105, 227266.5572450105, 227266.5572450105, 227266.5572450105, 227266.5572450105, 227266.5572450105, 227266.5572450105, 227266.5572450105, 227266.5572450105, 227266.5572450105, 227266.5572450105, 227266.5572450105, 227266.5572450105, 227266.5572450105, 227266.5572450105, 227266.5572450105, 227266.5572450105, 227266.5572450105, 227266.5572450105, 227266.5572450105, 227266.5572450105, 227266.5572450105, 227266.5572450105, 227266.5572450105, 227266.5572450105, 227266.5572450105, 227266.5572450105, 227266.5572450105, 227266.5572450105, 227266.5572450105, 227266.5572450105, 228697.68345935782, 228697.68345935782, 228697.68345935782, 228697.68345935782, 228697.68345935782, 228697.68345935782, 228697.68345935782, 228697.68345935782, 228697.68345935782, 228697.68345935782, 228697.68345935782, 228697.68345935782, 228697.68345935782, 228697.68345935782, 228697.68345935782, 228697.68345935782, 228697.68345935782, 228697.68345935782, 228697.68345935782, 228697.68345935782, 228697.68345935782, 228697.68345935782, 228697.68345935782, 228697.68345935782, 228697.68345935782, 228697.68345935782, 228697.68345935782, 228697.68345935782, 228697.68345935782, 228697.68345935782, 228697.68345935782, 228697.68345935782, 228697.68345935782, 228697.68345935782, 228697.68345935782, 228697.68345935782, 228697.68345935782, 228697.68345935782, 228697.68345935782, 228697.68345935782, 228697.68345935782, 228697.68345935782, 228697.68345935782, 228697.68345935782, 228697.68345935782, 228697.68345935782, 228697.68345935782, 228697.68345935782, 228697.68345935782, 228697.68345935782, 228697.68345935782, 228697.68345935782, 228697.68345935782, 228697.68345935782, 228697.68345935782, 228697.68345935782, 228697.68345935782, 228697.68345935782, 228697.68345935782, 228697.68345935782, 228697.68345935782, 230128.80967370514, 230128.80967370514, 230128.80967370514, 230128.80967370514, 230128.80967370514, 230128.80967370514, 230128.80967370514, 230128.80967370514, 230128.80967370514, 230128.80967370514, 230128.80967370514, 230128.80967370514, 230128.80967370514, 230128.80967370514, 230128.80967370514, 230128.80967370514, 230128.80967370514, 230128.80967370514, 230128.80967370514, 230128.80967370514, 230128.80967370514, 230128.80967370514, 230128.80967370514, 230128.80967370514, 230128.80967370514, 230128.80967370514, 230128.80967370514, 230128.80967370514, 230128.80967370514, 230128.80967370514, 230128.80967370514, 230128.80967370514, 230128.80967370514, 230128.80967370514, 230128.80967370514, 230128.80967370514, 230128.80967370514, 230128.80967370514, 230128.80967370514, 230128.80967370514, 230128.80967370514, 230128.80967370514, 230128.80967370514, 230128.80967370514, 230128.80967370514, 230128.80967370514, 230128.80967370514, 230128.80967370514, 230128.80967370514, 230128.80967370514, 230128.80967370514, 230128.80967370514, 230128.80967370514, 230128.80967370514, 230128.80967370514, 230128.80967370514, 230128.80967370514, 230128.80967370514, 230128.80967370514, 230128.80967370514, 230128.80967370514, 230128.80967370514, 230128.80967370514, 230128.80967370514, 230128.80967370514, 230128.80967370514, 230128.80967370514, 230128.80967370514, 230128.80967370514, 230128.80967370514, 230128.80967370514, 230128.80967370514, 230128.80967370514, 230128.80967370514, 230128.80967370514, 230128.80967370514, 230128.80967370514, 230128.80967370514, 230128.80967370514, 230128.80967370514, 230128.80967370514, 230128.80967370514, 230128.80967370514, 230128.80967370514, 230128.80967370514, 230128.80967370514, 230128.80967370514, 230128.80967370514, 230128.80967370514, 230128.80967370514, 230128.80967370514, 230128.80967370514, 230128.80967370514, 230128.80967370514, 230128.80967370514, 230128.80967370514, 230128.80967370514, 230128.80967370514, 230128.80967370514, 230128.80967370514, 230128.80967370514, 230128.80967370514, 230128.80967370514, 230128.80967370514, 230128.80967370514, 230128.80967370514, 230128.80967370514, 230128.80967370514, 230128.80967370514, 230128.80967370514, 230128.80967370514, 230128.80967370514, 230128.80967370514, 231559.935888052, 231559.935888052, 231559.935888052, 231559.935888052, 231559.935888052, 231559.935888052, 231559.935888052, 231559.935888052, 231559.935888052, 231559.935888052, 231559.935888052, 231559.935888052, 231559.935888052, 231559.935888052, 231559.935888052, 231559.935888052, 231559.935888052, 231559.935888052, 231559.935888052, 231559.935888052, 231559.935888052, 231559.935888052, 231559.935888052, 231559.935888052, 231559.935888052, 231559.935888052, 231559.935888052, 231559.935888052, 231559.935888052, 231559.935888052, 231559.935888052, 231559.935888052, 231559.935888052, 231559.935888052, 231559.935888052, 231559.935888052, 231559.935888052, 231559.935888052, 231559.935888052, 231559.935888052, 231559.935888052, 231559.935888052, 231559.935888052, 231559.935888052, 231559.935888052, 231559.935888052, 231559.935888052, 231559.935888052, 231559.935888052, 231559.935888052, 231559.935888052, 231559.935888052, 231559.935888052, 231559.935888052, 231559.935888052, 231559.935888052, 231559.935888052, 231559.935888052, 231559.935888052, 231559.935888052, 231559.935888052, 231559.935888052, 231559.935888052, 231559.935888052, 231559.935888052, 231559.935888052, 231559.935888052, 231559.935888052, 231559.935888052, 231559.935888052, 231559.935888052, 231559.935888052, 231559.935888052, 231559.935888052, 231559.935888052, 231559.935888052, 231559.935888052, 231559.935888052, 231559.935888052, 231559.935888052, 231559.935888052, 231559.935888052, 231559.935888052, 231559.935888052, 231559.935888052, 231559.935888052, 231559.935888052, 231559.935888052, 231559.935888052, 231559.935888052, 231559.935888052, 231559.935888052, 231559.935888052, 231559.935888052, 231559.935888052, 231559.935888052, 231559.935888052, 231559.935888052, 231559.935888052, 231559.935888052, 231559.935888052, 231559.935888052, 231559.935888052, 231559.935888052, 231559.935888052, 231559.935888052, 231559.935888052, 231559.935888052, 231559.935888052, 231559.935888052, 231559.935888052, 231559.935888052, 232991.0621023993, 232991.0621023993, 232991.0621023993, 232991.0621023993, 232991.0621023993, 232991.0621023993, 232991.0621023993, 232991.0621023993, 232991.0621023993, 232991.0621023993, 232991.0621023993, 232991.0621023993, 232991.0621023993, 232991.0621023993, 232991.0621023993, 232991.0621023993, 232991.0621023993, 232991.0621023993, 232991.0621023993, 232991.0621023993, 232991.0621023993, 232991.0621023993, 232991.0621023993, 232991.0621023993, 232991.0621023993, 232991.0621023993, 232991.0621023993, 232991.0621023993, 232991.0621023993, 232991.0621023993, 232991.0621023993, 232991.0621023993, 232991.0621023993, 232991.0621023993, 232991.0621023993, 232991.0621023993, 232991.0621023993, 232991.0621023993, 232991.0621023993, 232991.0621023993, 232991.0621023993, 232991.0621023993, 232991.0621023993, 232991.0621023993, 232991.0621023993, 232991.0621023993, 232991.0621023993, 232991.0621023993, 232991.0621023993, 232991.0621023993, 232991.0621023993, 232991.0621023993, 232991.0621023993, 232991.0621023993, 232991.0621023993, 232991.0621023993, 232991.0621023993, 232991.0621023993, 232991.0621023993, 232991.0621023993, 232991.0621023993, 232991.0621023993, 232991.0621023993, 232991.0621023993, 232991.0621023993, 232991.0621023993, 232991.0621023993, 232991.0621023993, 232991.0621023993, 232991.0621023993, 232991.0621023993, 232991.0621023993, 232991.0621023993, 232991.0621023993, 232991.0621023993, 232991.0621023993, 232991.0621023993, 232991.0621023993, 234422.18831674661, 234422.18831674661, 234422.18831674661, 234422.18831674661, 234422.18831674661, 234422.18831674661, 234422.18831674661, 234422.18831674661, 234422.18831674661, 234422.18831674661, 234422.18831674661, 234422.18831674661, 234422.18831674661], \"yaxis\": \"y\"}],\n",
              "                        {\"height\": 600, \"legend\": {\"tracegroupgap\": 0}, \"margin\": {\"t\": 60}, \"template\": {\"data\": {\"bar\": [{\"error_x\": {\"color\": \"#2a3f5f\"}, \"error_y\": {\"color\": \"#2a3f5f\"}, \"marker\": {\"line\": {\"color\": \"#E5ECF6\", \"width\": 0.5}}, \"type\": \"bar\"}], \"barpolar\": [{\"marker\": {\"line\": {\"color\": \"#E5ECF6\", \"width\": 0.5}}, \"type\": \"barpolar\"}], \"carpet\": [{\"aaxis\": {\"endlinecolor\": \"#2a3f5f\", \"gridcolor\": \"white\", \"linecolor\": \"white\", \"minorgridcolor\": \"white\", \"startlinecolor\": \"#2a3f5f\"}, \"baxis\": {\"endlinecolor\": \"#2a3f5f\", \"gridcolor\": \"white\", \"linecolor\": \"white\", \"minorgridcolor\": \"white\", \"startlinecolor\": \"#2a3f5f\"}, \"type\": \"carpet\"}], \"choropleth\": [{\"colorbar\": {\"outlinewidth\": 0, \"ticks\": \"\"}, \"type\": \"choropleth\"}], \"contour\": [{\"colorbar\": {\"outlinewidth\": 0, \"ticks\": \"\"}, \"colorscale\": [[0.0, \"#0d0887\"], [0.1111111111111111, \"#46039f\"], [0.2222222222222222, \"#7201a8\"], [0.3333333333333333, \"#9c179e\"], [0.4444444444444444, \"#bd3786\"], [0.5555555555555556, \"#d8576b\"], [0.6666666666666666, \"#ed7953\"], [0.7777777777777778, \"#fb9f3a\"], [0.8888888888888888, \"#fdca26\"], [1.0, \"#f0f921\"]], \"type\": \"contour\"}], \"contourcarpet\": [{\"colorbar\": {\"outlinewidth\": 0, \"ticks\": \"\"}, \"type\": \"contourcarpet\"}], \"heatmap\": [{\"colorbar\": {\"outlinewidth\": 0, \"ticks\": \"\"}, \"colorscale\": [[0.0, \"#0d0887\"], [0.1111111111111111, \"#46039f\"], [0.2222222222222222, \"#7201a8\"], [0.3333333333333333, \"#9c179e\"], [0.4444444444444444, \"#bd3786\"], [0.5555555555555556, \"#d8576b\"], [0.6666666666666666, \"#ed7953\"], [0.7777777777777778, \"#fb9f3a\"], [0.8888888888888888, \"#fdca26\"], [1.0, \"#f0f921\"]], \"type\": \"heatmap\"}], \"heatmapgl\": [{\"colorbar\": {\"outlinewidth\": 0, \"ticks\": \"\"}, \"colorscale\": [[0.0, \"#0d0887\"], [0.1111111111111111, \"#46039f\"], [0.2222222222222222, \"#7201a8\"], [0.3333333333333333, \"#9c179e\"], [0.4444444444444444, \"#bd3786\"], [0.5555555555555556, \"#d8576b\"], [0.6666666666666666, \"#ed7953\"], [0.7777777777777778, \"#fb9f3a\"], [0.8888888888888888, \"#fdca26\"], [1.0, \"#f0f921\"]], \"type\": \"heatmapgl\"}], \"histogram\": [{\"marker\": {\"colorbar\": {\"outlinewidth\": 0, \"ticks\": \"\"}}, \"type\": \"histogram\"}], \"histogram2d\": [{\"colorbar\": {\"outlinewidth\": 0, \"ticks\": \"\"}, \"colorscale\": [[0.0, \"#0d0887\"], [0.1111111111111111, \"#46039f\"], [0.2222222222222222, \"#7201a8\"], [0.3333333333333333, \"#9c179e\"], [0.4444444444444444, \"#bd3786\"], [0.5555555555555556, \"#d8576b\"], [0.6666666666666666, \"#ed7953\"], [0.7777777777777778, \"#fb9f3a\"], [0.8888888888888888, \"#fdca26\"], [1.0, \"#f0f921\"]], \"type\": \"histogram2d\"}], \"histogram2dcontour\": [{\"colorbar\": {\"outlinewidth\": 0, \"ticks\": \"\"}, \"colorscale\": [[0.0, \"#0d0887\"], [0.1111111111111111, \"#46039f\"], [0.2222222222222222, \"#7201a8\"], [0.3333333333333333, \"#9c179e\"], [0.4444444444444444, \"#bd3786\"], [0.5555555555555556, \"#d8576b\"], [0.6666666666666666, \"#ed7953\"], [0.7777777777777778, \"#fb9f3a\"], [0.8888888888888888, \"#fdca26\"], [1.0, \"#f0f921\"]], \"type\": \"histogram2dcontour\"}], \"mesh3d\": [{\"colorbar\": {\"outlinewidth\": 0, \"ticks\": \"\"}, \"type\": \"mesh3d\"}], \"parcoords\": [{\"line\": {\"colorbar\": {\"outlinewidth\": 0, \"ticks\": \"\"}}, \"type\": \"parcoords\"}], \"scatter\": [{\"marker\": {\"colorbar\": {\"outlinewidth\": 0, \"ticks\": \"\"}}, \"type\": \"scatter\"}], \"scatter3d\": [{\"line\": {\"colorbar\": {\"outlinewidth\": 0, \"ticks\": \"\"}}, \"marker\": {\"colorbar\": {\"outlinewidth\": 0, \"ticks\": \"\"}}, \"type\": \"scatter3d\"}], \"scattercarpet\": [{\"marker\": {\"colorbar\": {\"outlinewidth\": 0, \"ticks\": \"\"}}, \"type\": \"scattercarpet\"}], \"scattergeo\": [{\"marker\": {\"colorbar\": {\"outlinewidth\": 0, \"ticks\": \"\"}}, \"type\": \"scattergeo\"}], \"scattergl\": [{\"marker\": {\"colorbar\": {\"outlinewidth\": 0, \"ticks\": \"\"}}, \"type\": \"scattergl\"}], \"scattermapbox\": [{\"marker\": {\"colorbar\": {\"outlinewidth\": 0, \"ticks\": \"\"}}, \"type\": \"scattermapbox\"}], \"scatterpolar\": [{\"marker\": {\"colorbar\": {\"outlinewidth\": 0, \"ticks\": \"\"}}, \"type\": \"scatterpolar\"}], \"scatterpolargl\": [{\"marker\": {\"colorbar\": {\"outlinewidth\": 0, \"ticks\": \"\"}}, \"type\": \"scatterpolargl\"}], \"scatterternary\": [{\"marker\": {\"colorbar\": {\"outlinewidth\": 0, \"ticks\": \"\"}}, \"type\": \"scatterternary\"}], \"surface\": [{\"colorbar\": {\"outlinewidth\": 0, \"ticks\": \"\"}, \"colorscale\": [[0.0, \"#0d0887\"], [0.1111111111111111, \"#46039f\"], [0.2222222222222222, \"#7201a8\"], [0.3333333333333333, \"#9c179e\"], [0.4444444444444444, \"#bd3786\"], [0.5555555555555556, \"#d8576b\"], [0.6666666666666666, \"#ed7953\"], [0.7777777777777778, \"#fb9f3a\"], [0.8888888888888888, \"#fdca26\"], [1.0, \"#f0f921\"]], \"type\": \"surface\"}], \"table\": [{\"cells\": {\"fill\": {\"color\": \"#EBF0F8\"}, \"line\": {\"color\": \"white\"}}, \"header\": {\"fill\": {\"color\": \"#C8D4E3\"}, \"line\": {\"color\": \"white\"}}, \"type\": \"table\"}]}, \"layout\": {\"annotationdefaults\": {\"arrowcolor\": \"#2a3f5f\", \"arrowhead\": 0, \"arrowwidth\": 1}, \"colorscale\": {\"diverging\": [[0, \"#8e0152\"], [0.1, \"#c51b7d\"], [0.2, \"#de77ae\"], [0.3, \"#f1b6da\"], [0.4, \"#fde0ef\"], [0.5, \"#f7f7f7\"], [0.6, \"#e6f5d0\"], [0.7, \"#b8e186\"], [0.8, \"#7fbc41\"], [0.9, \"#4d9221\"], [1, \"#276419\"]], \"sequential\": [[0.0, \"#0d0887\"], [0.1111111111111111, \"#46039f\"], [0.2222222222222222, \"#7201a8\"], [0.3333333333333333, \"#9c179e\"], [0.4444444444444444, \"#bd3786\"], [0.5555555555555556, \"#d8576b\"], [0.6666666666666666, \"#ed7953\"], [0.7777777777777778, \"#fb9f3a\"], [0.8888888888888888, \"#fdca26\"], [1.0, \"#f0f921\"]], \"sequentialminus\": [[0.0, \"#0d0887\"], [0.1111111111111111, \"#46039f\"], [0.2222222222222222, \"#7201a8\"], [0.3333333333333333, \"#9c179e\"], [0.4444444444444444, \"#bd3786\"], [0.5555555555555556, \"#d8576b\"], [0.6666666666666666, \"#ed7953\"], [0.7777777777777778, \"#fb9f3a\"], [0.8888888888888888, \"#fdca26\"], [1.0, \"#f0f921\"]]}, \"colorway\": [\"#636efa\", \"#EF553B\", \"#00cc96\", \"#ab63fa\", \"#FFA15A\", \"#19d3f3\", \"#FF6692\", \"#B6E880\", \"#FF97FF\", \"#FECB52\"], \"font\": {\"color\": \"#2a3f5f\"}, \"geo\": {\"bgcolor\": \"white\", \"lakecolor\": \"white\", \"landcolor\": \"#E5ECF6\", \"showlakes\": true, \"showland\": true, \"subunitcolor\": \"white\"}, \"hoverlabel\": {\"align\": \"left\"}, \"hovermode\": \"closest\", \"mapbox\": {\"style\": \"light\"}, \"paper_bgcolor\": \"white\", \"plot_bgcolor\": \"#E5ECF6\", \"polar\": {\"angularaxis\": {\"gridcolor\": \"white\", \"linecolor\": \"white\", \"ticks\": \"\"}, \"bgcolor\": \"#E5ECF6\", \"radialaxis\": {\"gridcolor\": \"white\", \"linecolor\": \"white\", \"ticks\": \"\"}}, \"scene\": {\"xaxis\": {\"backgroundcolor\": \"#E5ECF6\", \"gridcolor\": \"white\", \"gridwidth\": 2, \"linecolor\": \"white\", \"showbackground\": true, \"ticks\": \"\", \"zerolinecolor\": \"white\"}, \"yaxis\": {\"backgroundcolor\": \"#E5ECF6\", \"gridcolor\": \"white\", \"gridwidth\": 2, \"linecolor\": \"white\", \"showbackground\": true, \"ticks\": \"\", \"zerolinecolor\": \"white\"}, \"zaxis\": {\"backgroundcolor\": \"#E5ECF6\", \"gridcolor\": \"white\", \"gridwidth\": 2, \"linecolor\": \"white\", \"showbackground\": true, \"ticks\": \"\", \"zerolinecolor\": \"white\"}}, \"shapedefaults\": {\"line\": {\"color\": \"#2a3f5f\"}}, \"ternary\": {\"aaxis\": {\"gridcolor\": \"white\", \"linecolor\": \"white\", \"ticks\": \"\"}, \"baxis\": {\"gridcolor\": \"white\", \"linecolor\": \"white\", \"ticks\": \"\"}, \"bgcolor\": \"#E5ECF6\", \"caxis\": {\"gridcolor\": \"white\", \"linecolor\": \"white\", \"ticks\": \"\"}}, \"title\": {\"x\": 0.05}, \"xaxis\": {\"automargin\": true, \"gridcolor\": \"white\", \"linecolor\": \"white\", \"ticks\": \"\", \"zerolinecolor\": \"white\", \"zerolinewidth\": 2}, \"yaxis\": {\"automargin\": true, \"gridcolor\": \"white\", \"linecolor\": \"white\", \"ticks\": \"\", \"zerolinecolor\": \"white\", \"zerolinewidth\": 2}}}, \"xaxis\": {\"anchor\": \"y\", \"domain\": [0.0, 0.98], \"title\": {\"text\": \"Year_Built\"}}, \"yaxis\": {\"anchor\": \"x\", \"domain\": [0.0, 1.0], \"title\": {\"text\": \"SalePrice\"}}},\n",
              "                        {\"responsive\": true}\n",
              "                    ).then(function(){\n",
              "                            \n",
              "var gd = document.getElementById('0168d4ea-66ac-4f8e-aa97-23fd0bdf4c8c');\n",
              "var x = new MutationObserver(function (mutations, observer) {{\n",
              "        var display = window.getComputedStyle(gd).display;\n",
              "        if (!display || display === 'none') {{\n",
              "            console.log([gd, 'removed!']);\n",
              "            Plotly.purge(gd);\n",
              "            observer.disconnect();\n",
              "        }}\n",
              "}});\n",
              "\n",
              "// Listen for the removal of the full notebook cells\n",
              "var notebookContainer = gd.closest('#notebook-container');\n",
              "if (notebookContainer) {{\n",
              "    x.observe(notebookContainer, {childList: true});\n",
              "}}\n",
              "\n",
              "// Listen for the clearing of the current output cell\n",
              "var outputEl = gd.closest('.output');\n",
              "if (outputEl) {{\n",
              "    x.observe(outputEl, {childList: true});\n",
              "}}\n",
              "\n",
              "                        })\n",
              "                };\n",
              "                \n",
              "            </script>\n",
              "        </div>\n",
              "</body>\n",
              "</html>"
            ]
          },
          "metadata": {
            "tags": []
          }
        }
      ]
    },
    {
      "cell_type": "code",
      "metadata": {
        "id": "dzZWQUpodXi4",
        "colab_type": "code",
        "colab": {
          "base_uri": "https://localhost:8080/",
          "height": 725
        },
        "outputId": "c40cbd2f-4bfb-4e3a-f3c4-3ae2088fb359"
      },
      "source": [
        "px.scatter(train, x='Bedroom_AbvGr', y='SalePrice', trendline='ols', opacity=0.1)"
      ],
      "execution_count": 103,
      "outputs": [
        {
          "output_type": "stream",
          "text": [
            "/usr/local/lib/python3.6/dist-packages/numpy/core/fromnumeric.py:2389: FutureWarning:\n",
            "\n",
            "Method .ptp is deprecated and will be removed in a future version. Use numpy.ptp instead.\n",
            "\n"
          ],
          "name": "stderr"
        },
        {
          "output_type": "display_data",
          "data": {
            "text/html": [
              "<html>\n",
              "<head><meta charset=\"utf-8\" /></head>\n",
              "<body>\n",
              "    <div>\n",
              "            <script src=\"https://cdnjs.cloudflare.com/ajax/libs/mathjax/2.7.5/MathJax.js?config=TeX-AMS-MML_SVG\"></script><script type=\"text/javascript\">if (window.MathJax) {MathJax.Hub.Config({SVG: {font: \"STIX-Web\"}});}</script>\n",
              "                <script type=\"text/javascript\">window.PlotlyConfig = {MathJaxConfig: 'local'};</script>\n",
              "        <script src=\"https://cdn.plot.ly/plotly-latest.min.js\"></script>    \n",
              "            <div id=\"75af646a-fa9f-48f1-9418-127b103f965f\" class=\"plotly-graph-div\" style=\"height:600px; width:100%;\"></div>\n",
              "            <script type=\"text/javascript\">\n",
              "                \n",
              "                    window.PLOTLYENV=window.PLOTLYENV || {};\n",
              "                    \n",
              "                if (document.getElementById(\"75af646a-fa9f-48f1-9418-127b103f965f\")) {\n",
              "                    Plotly.newPlot(\n",
              "                        '75af646a-fa9f-48f1-9418-127b103f965f',\n",
              "                        [{\"hoverlabel\": {\"namelength\": 0}, \"hovertemplate\": \"Bedroom_AbvGr=%{x}<br>SalePrice=%{y}\", \"legendgroup\": \"\", \"marker\": {\"color\": \"#636efa\", \"opacity\": 0.1, \"symbol\": \"circle\"}, \"mode\": \"markers\", \"name\": \"\", \"showlegend\": false, \"type\": \"scattergl\", \"x\": [3, 4, 4, 3, 3, 3, 3, 3, 3, 3, 0, 1, 2, 2, 3, 3, 3, 3, 3, 2, 2, 5, 4, 2, 3, 2, 3, 3, 2, 3, 3, 3, 3, 4, 3, 3, 3, 3, 4, 3, 2, 4, 3, 4, 4, 3, 2, 3, 3, 2, 2, 2, 2, 2, 2, 2, 3, 2, 4, 2, 3, 2, 3, 2, 3, 3, 2, 4, 2, 4, 4, 3, 4, 4, 1, 3, 3, 2, 4, 4, 2, 1, 2, 1, 2, 2, 2, 2, 2, 2, 2, 2, 2, 2, 2, 2, 3, 3, 2, 3, 3, 4, 2, 3, 3, 3, 4, 3, 3, 4, 4, 4, 2, 4, 4, 2, 3, 4, 3, 2, 3, 4, 3, 3, 2, 3, 3, 3, 3, 3, 3, 3, 3, 3, 3, 3, 2, 3, 3, 3, 3, 3, 3, 3, 3, 3, 3, 3, 3, 3, 3, 3, 3, 3, 2, 2, 3, 2, 3, 3, 3, 3, 3, 4, 4, 4, 2, 2, 1, 2, 2, 2, 3, 3, 2, 1, 2, 2, 2, 2, 3, 3, 3, 3, 2, 1, 1, 1, 3, 3, 3, 3, 4, 4, 3, 4, 4, 4, 4, 2, 3, 6, 6, 4, 4, 4, 4, 4, 3, 4, 2, 3, 2, 3, 3, 3, 3, 3, 3, 3, 3, 3, 3, 3, 3, 2, 2, 2, 2, 3, 3, 3, 3, 3, 4, 3, 3, 3, 3, 4, 3, 3, 3, 3, 2, 3, 3, 2, 3, 3, 3, 2, 3, 2, 3, 2, 2, 4, 2, 5, 1, 3, 3, 2, 3, 3, 4, 3, 3, 2, 3, 4, 3, 2, 3, 4, 3, 3, 3, 3, 2, 2, 4, 6, 3, 2, 4, 4, 3, 3, 2, 3, 3, 2, 5, 2, 4, 3, 3, 2, 2, 2, 3, 2, 3, 2, 2, 3, 1, 3, 2, 5, 3, 4, 4, 3, 4, 2, 4, 3, 3, 3, 3, 3, 4, 2, 3, 2, 5, 2, 4, 2, 2, 2, 3, 2, 3, 2, 3, 3, 3, 2, 3, 3, 2, 3, 3, 2, 1, 3, 4, 4, 2, 3, 1, 2, 4, 4, 4, 3, 2, 5, 3, 3, 1, 4, 4, 2, 2, 3, 3, 2, 4, 1, 3, 3, 3, 3, 4, 4, 4, 3, 3, 3, 3, 3, 3, 3, 3, 2, 0, 3, 3, 3, 3, 1, 3, 1, 3, 2, 3, 2, 3, 2, 4, 3, 2, 2, 2, 2, 3, 5, 2, 4, 4, 3, 2, 3, 4, 3, 3, 2, 3, 4, 4, 3, 4, 3, 3, 3, 3, 3, 3, 3, 2, 4, 3, 3, 3, 3, 3, 3, 3, 3, 3, 3, 3, 3, 3, 3, 3, 3, 3, 3, 2, 3, 3, 2, 3, 3, 3, 3, 3, 3, 3, 3, 4, 3, 4, 3, 3, 4, 1, 1, 3, 2, 3, 3, 3, 3, 3, 3, 3, 3, 3, 1, 1, 1, 1, 2, 4, 3, 3, 3, 3, 3, 3, 3, 3, 3, 2, 3, 2, 2, 2, 4, 2, 2, 2, 4, 2, 3, 4, 3, 3, 3, 2, 2, 6, 4, 4, 4, 2, 4, 4, 4, 2, 3, 4, 3, 2, 3, 3, 4, 3, 3, 4, 3, 2, 4, 4, 3, 3, 3, 3, 2, 3, 2, 3, 2, 2, 2, 4, 3, 2, 4, 2, 2, 3, 2, 2, 3, 2, 2, 2, 2, 3, 3, 3, 3, 3, 4, 3, 3, 2, 2, 3, 3, 3, 3, 3, 3, 3, 3, 3, 3, 3, 4, 3, 3, 2, 2, 2, 2, 3, 3, 3, 4, 2, 1, 3, 3, 1, 2, 2, 3, 3, 2, 3, 4, 3, 4, 4, 3, 2, 3, 4, 3, 3, 3, 3, 3, 2, 3, 3, 3, 3, 5, 3, 3, 3, 3, 3, 2, 3, 2, 1, 3, 4, 4, 3, 2, 2, 1, 3, 3, 3, 3, 3, 3, 4, 3, 4, 3, 3, 3, 2, 4, 2, 3, 3, 3, 3, 4, 3, 3, 4, 3, 3, 3, 3, 2, 2, 3, 1, 2, 2, 3, 3, 4, 3, 2, 2, 3, 2, 3, 3, 3, 3, 3, 3, 2, 3, 3, 4, 2, 3, 3, 3, 3, 3, 2, 4, 2, 3, 4, 3, 3, 3, 5, 4, 3, 4, 3, 3, 3, 3, 2, 1, 1, 2, 2, 2, 2, 2, 2, 2, 2, 2, 3, 3, 3, 3, 3, 3, 3, 3, 3, 3, 3, 3, 3, 2, 2, 2, 2, 3, 2, 3, 4, 3, 3, 4, 3, 4, 3, 3, 3, 3, 3, 4, 4, 4, 2, 4, 4, 4, 4, 3, 3, 4, 4, 4, 4, 4, 3, 3, 3, 3, 3, 1, 3, 2, 3, 3, 3, 3, 3, 3, 3, 3, 3, 3, 3, 3, 3, 3, 4, 3, 3, 2, 2, 4, 4, 3, 3, 3, 3, 3, 3, 3, 3, 2, 2, 2, 4, 2, 2, 3, 3, 3, 3, 3, 3, 3, 3, 3, 2, 3, 2, 4, 4, 2, 2, 2, 2, 2, 2, 3, 2, 2, 3, 3, 2, 2, 3, 3, 3, 3, 1, 3, 2, 3, 1, 3, 3, 2, 4, 3, 3, 4, 3, 3, 3, 2, 3, 4, 3, 3, 3, 3, 3, 3, 2, 6, 2, 3, 2, 3, 3, 2, 2, 3, 2, 3, 3, 3, 3, 3, 5, 3, 3, 3, 3, 2, 2, 2, 1, 2, 2, 2, 4, 2, 4, 3, 3, 4, 3, 3, 2, 3, 3, 2, 3, 3, 3, 4, 3, 3, 3, 4, 2, 3, 3, 3, 3, 3, 4, 2, 3, 2, 3, 3, 4, 3, 2, 3, 2, 3, 2, 3, 4, 2, 1, 1, 4, 3, 2, 4, 3, 3, 5, 3, 2, 3, 3, 3, 3, 2, 3, 3, 3, 3, 6, 3, 3, 4, 2, 3, 2, 2, 3, 2, 2, 2, 2, 2, 2, 2, 2, 3, 2, 4, 2, 2, 3, 4, 3, 3, 5, 3, 5, 3, 3, 4, 3, 2, 3, 2, 2, 1, 1, 3, 3, 3, 3, 3, 3, 2, 3, 4, 3, 2, 4, 2, 3, 2, 4, 3, 3, 4, 3, 3, 5, 3, 2, 4, 3, 5, 3, 3, 4, 3, 3, 3, 2, 2, 4, 3, 3, 3, 3, 3, 2, 3, 2, 3, 3, 3, 3, 3, 3, 3, 2, 3, 2, 3, 3, 3, 3, 3, 4, 3, 2, 3, 3, 3, 2, 3, 4, 3, 3, 2, 4, 4, 3, 3, 3, 4, 2, 2, 4, 4, 4, 3, 4, 3, 4, 4, 4, 3, 3, 4, 4, 3, 3, 3, 3, 3, 3, 3, 3, 2, 2, 3, 3, 2, 3, 3, 3, 3, 4, 3, 5, 0, 3, 3, 3, 3, 3, 3, 3, 3, 3, 3, 3, 3, 3, 3, 3, 3, 3, 3, 3, 3, 3, 3, 3, 3, 3, 3, 3, 3, 3, 3, 3, 4, 3, 4, 3, 3, 3, 1, 1, 4, 3, 3, 3, 3, 2, 3, 3, 3, 2, 2, 2, 3, 3, 2, 3, 3, 3, 5, 2, 2, 3, 2, 3, 2, 2, 2, 3, 4, 3, 2, 3, 2, 2, 3, 3, 8, 6, 3, 2, 3, 2, 3, 2, 3, 3, 3, 4, 2, 3, 2, 4, 4, 4, 2, 4, 4, 4, 3, 3, 3, 3, 3, 3, 3, 3, 3, 2, 4, 1, 3, 2, 3, 3, 2, 3, 3, 3, 2, 2, 2, 4, 1, 4, 3, 2, 2, 2, 2, 2, 3, 3, 1, 3, 3, 2, 2, 1, 2, 4, 3, 2, 3, 3, 3, 3, 3, 2, 3, 2, 3, 3, 5, 3, 3, 3, 4, 3, 2, 0, 3, 4, 3, 3, 3, 3, 2, 3, 3, 1, 3, 3, 1, 3, 3, 3, 2, 2, 3, 2, 3, 2, 2, 3, 3, 2, 2, 3, 1, 3, 3, 4, 3, 3, 3, 3, 4, 3, 4, 3, 3, 3, 4, 3, 3, 3, 2, 2, 2, 3, 5, 4, 4, 4, 4, 4, 3, 2, 3, 2, 3, 3, 3, 4, 3, 3, 2, 3, 4, 3, 5, 3, 2, 3, 3, 3, 4, 3, 3, 3, 3, 3, 3, 2, 3, 3, 2, 3, 3, 3, 2, 3, 2, 2, 3, 3, 2, 3, 3, 4, 4, 2, 4, 2, 3, 4, 4, 4, 3, 3, 4, 4, 4, 3, 3, 2, 2, 2, 4, 3, 3, 2, 2, 2, 2, 1, 2, 2, 3, 3, 3, 3, 4, 3, 3, 4, 3, 2, 2, 2, 2, 2, 2, 2, 2, 2, 1, 2, 4, 3, 3, 3, 3, 3, 3, 3, 4, 3, 4, 4, 3, 3, 3, 4, 4, 3, 4, 4, 4, 4, 4, 3, 3, 1, 3, 3, 3, 2, 3, 3, 3, 3, 3, 3, 2, 3, 2, 3, 3, 3, 3, 3, 3, 3, 3, 3, 3, 2, 2, 3, 2, 3, 3, 6, 4, 2, 3, 3, 3, 2, 3, 3, 3, 3, 3, 3, 4, 3, 5, 4, 2, 1, 1, 2, 2, 2, 2, 2, 3, 3, 2, 3, 3, 2, 3, 1, 1, 1, 1, 0, 2, 4, 3, 3, 4, 4, 3, 3, 3, 3, 4, 2, 3, 3, 3, 3, 1, 4, 3, 3, 4, 3, 3, 3, 4, 2, 3, 3, 2, 2, 2, 3, 2, 1, 3, 3, 2, 3, 4, 3, 3, 2, 4, 3, 2, 4, 2, 4, 2, 3, 3, 3, 3, 3, 3, 2, 3, 2, 2, 3, 2, 2, 2, 3, 2, 3, 2, 3, 2, 5, 3, 2, 2, 2, 2, 2, 1, 2, 3, 4, 3, 3, 3, 3, 3, 3, 3, 3, 2, 3, 2, 2, 3, 2, 3, 2, 3, 4, 2, 2, 3, 2, 2, 2, 4, 3, 3, 3, 3, 3, 3, 3, 5, 3, 3, 4, 3, 3, 4, 2, 2, 4, 2, 2, 3, 2, 2, 2, 3, 5, 1, 3, 3, 2, 4, 4, 2, 5, 3, 3, 3, 4, 4, 4, 2, 3, 2, 2, 3, 2, 3, 3, 3, 3, 3, 3, 2, 3, 3, 2, 2, 2, 2, 5, 3, 2, 2, 3, 3, 2, 3, 2, 3, 2, 3, 3, 4, 3, 3, 2, 2, 2, 3, 2, 3, 3, 3, 2, 3, 3, 3, 3, 3, 3, 6, 6, 4, 3, 3, 2, 0, 3, 2, 1, 3, 2, 3, 2, 2, 3, 3, 3, 4, 4, 5, 3, 3, 3, 4, 5, 2, 3, 4, 3, 4, 3, 2, 3, 2, 2, 2, 3, 2, 3, 3, 3, 2, 3, 3, 3, 3, 4, 1, 2, 3, 2, 3, 3, 3, 3, 3, 3, 3, 3, 3, 3, 3, 3, 3, 3, 3, 3, 3, 3, 3, 3, 3, 3, 3, 1, 3, 4, 3, 3, 4, 3, 4, 3, 3, 1, 1, 3, 3, 4, 3, 3, 3, 3, 3, 3, 3, 3, 3, 3, 3, 2, 4, 4, 2, 3, 3, 2, 2, 2, 3, 3, 3, 3, 3, 3, 3, 4, 5, 4, 2, 3, 3, 3, 5, 1, 3, 5, 2, 3, 3, 3, 4, 3, 4, 4, 4, 3, 4, 3, 3, 3, 2, 2, 3, 4, 4, 3, 3, 2, 3, 4, 2, 3, 2, 3, 2, 2, 2, 4, 3, 2, 1, 4, 2, 2, 2, 3, 4, 3, 2, 3, 5, 4, 2, 2, 2, 2, 2, 4, 2, 3, 3, 2, 3, 3, 2, 2, 2, 3, 3, 4, 5, 3, 4, 1, 3, 3, 1, 3, 3, 3, 3, 4, 4, 3, 4, 3, 2, 3, 2, 3], \"xaxis\": \"x\", \"y\": [176500, 237500, 206900, 187500, 165000, 195500, 192000, 173000, 177900, 175000, 286000, 247900, 180000, 180000, 181000, 183000, 188000, 194500, 185000, 189000, 188500, 355000, 325000, 387000, 115000, 334000, 133000, 215000, 226500, 175500, 181900, 235000, 220000, 272000, 161000, 175000, 185000, 146900, 292500, 180000, 159900, 205000, 157000, 306000, 133000, 151000, 111900, 123000, 111250, 181000, 103400, 100000, 100500, 106000, 85400, 89500, 111750, 140000, 143000, 148500, 110000, 394617, 426000, 385000, 446261, 317500, 372402, 417500, 383000, 390000, 460000, 379000, 250000, 316000, 615000, 412500, 284000, 284000, 421250, 370000, 336860, 367294, 192000, 274000, 266000, 370967, 234250, 219500, 155000, 154000, 207000, 195000, 219990, 191000, 159895, 187687, 179000, 193000, 190000, 176000, 188000, 213000, 217300, 186500, 226750, 184000, 225000, 185900, 284500, 315000, 250000, 291000, 350000, 279500, 290000, 350000, 341000, 287500, 271000, 301500, 235128, 214000, 232000, 240000, 264132, 245000, 227680, 257000, 297900, 212700, 250580, 226700, 250000, 250000, 339750, 256000, 230348, 207500, 141000, 188000, 192500, 146000, 159000, 155000, 173000, 170000, 182000, 163000, 193500, 189000, 190500, 175000, 179200, 187000, 193000, 153900, 128000, 144000, 135000, 115000, 119916, 142000, 192000, 140000, 290000, 372500, 196000, 171900, 178000, 165000, 146000, 146000, 179400, 172900, 300000, 285000, 290000, 305000, 328900, 160000, 170000, 223000, 170000, 200000, 345000, 245500, 217500, 324000, 162500, 150000, 290000, 174000, 183000, 150000, 145000, 215000, 140500, 240000, 141000, 147000, 135000, 145000, 142600, 135000, 170000, 299800, 185000, 173000, 178400, 176000, 98000, 109008, 135750, 155000, 180500, 174900, 140000, 145000, 179900, 168500, 140000, 145500, 142000, 141000, 153000, 72500, 52000, 118000, 87000, 141500, 119000, 141500, 165500, 112900, 201800, 163000, 139950, 174000, 165000, 227000, 135000, 124000, 140000, 136500, 185000, 163000, 166800, 139000, 166000, 136000, 133000, 116000, 137500, 130000, 180000, 139000, 110000, 100000, 118500, 146000, 89900, 114000, 140000, 86900, 139000, 106250, 171000, 139000, 186000, 157000, 148000, 242000, 116000, 94000, 98300, 127000, 159000, 125900, 155000, 138000, 112500, 105500, 127500, 130000, 150000, 109500, 140000, 167900, 136870, 143000, 73000, 157500, 122600, 111000, 256000, 64000, 139500, 118000, 200000, 119164, 122250, 120000, 155000, 78000, 95000, 115000, 147000, 140000, 46500, 112500, 107900, 65000, 295000, 139500, 153900, 132000, 98000, 114000, 130000, 129500, 129400, 161000, 163000, 128000, 122000, 116900, 325000, 55000, 184000, 110000, 131500, 97000, 115500, 138000, 108000, 79500, 153000, 109500, 124000, 106900, 164900, 119000, 120000, 157000, 105000, 113000, 115000, 123000, 81300, 162900, 150000, 123500, 129900, 128000, 68500, 127000, 207000, 184000, 162500, 145000, 130000, 160000, 161000, 127500, 93850, 136000, 141000, 120000, 127500, 127000, 89500, 125000, 79900, 85000, 82375, 135000, 124000, 134000, 135000, 134432, 127500, 148000, 129500, 157500, 109900, 145000, 130000, 153000, 120000, 152000, 108959, 95541, 80000, 149350, 144900, 185000, 165000, 235000, 140000, 108000, 145000, 152400, 144000, 173000, 192000, 245000, 241500, 256000, 177000, 125600, 155000, 240000, 260000, 185000, 235000, 159900, 99600, 134500, 119000, 107500, 125000, 79000, 95000, 262280, 260000, 226500, 225000, 229000, 177439, 248500, 475000, 395039, 228000, 225000, 195000, 200000, 155000, 144000, 145000, 226001, 215700, 207500, 193000, 188000, 191000, 221000, 231500, 235000, 223500, 130250, 149900, 158000, 147000, 143195, 163000, 110000, 127000, 124900, 230000, 235000, 230500, 230000, 222500, 287000, 274000, 300000, 255900, 224900, 240000, 183000, 207000, 210000, 136500, 145000, 208900, 185000, 214000, 208500, 186500, 210000, 185900, 179900, 218836, 193000, 189000, 149300, 141000, 149000, 144500, 85000, 145900, 123000, 147500, 165000, 135000, 108000, 137500, 165400, 147000, 160500, 176000, 160000, 148000, 82000, 82000, 118000, 82500, 91900, 120000, 96000, 99000, 130500, 135000, 135500, 100000, 108000, 98000, 67000, 135900, 140000, 179500, 136500, 168000, 130000, 189000, 161900, 145000, 191000, 177000, 147500, 91000, 231000, 115000, 138000, 149000, 188700, 198000, 110000, 104000, 257076, 381000, 311500, 263400, 236500, 224000, 116500, 151000, 126000, 120000, 55000, 120500, 120500, 119000, 126000, 99500, 165500, 13100, 89000, 40000, 80900, 81000, 65000, 392500, 294464, 250000, 275000, 300000, 271000, 213000, 171000, 171500, 100000, 228500, 228950, 241500, 287000, 294000, 293077, 264966, 172500, 218689, 150000, 184000, 180000, 175000, 232500, 195000, 305000, 298751, 370000, 209200, 206300, 146000, 160500, 173000, 124000, 115000, 129500, 105000, 94900, 152500, 98000, 81000, 113000, 128500, 119500, 130500, 138000, 134500, 160000, 137500, 172000, 103000, 167300, 167000, 244000, 268000, 225000, 168000, 177000, 169000, 161500, 251000, 160000, 180000, 178750, 176000, 204000, 160000, 160000, 163900, 168000, 154204, 170000, 207500, 182000, 212000, 377426, 349265, 591587, 155000, 319900, 392000, 441929, 455000, 182900, 174000, 178000, 176000, 213000, 192000, 190000, 195000, 148000, 151500, 197000, 192350, 152000, 170000, 175000, 175000, 197900, 174000, 178900, 139000, 143250, 184000, 155000, 133000, 119500, 123000, 110000, 128000, 120500, 133000, 155000, 177000, 113500, 113000, 113700, 106000, 122500, 128000, 155000, 142500, 129250, 356000, 314813, 318000, 322400, 318000, 345474, 415298, 492000, 338931, 450000, 280000, 479069, 395000, 380000, 250000, 440000, 418000, 500067, 260116, 317000, 319500, 325624, 372000, 342000, 354000, 350000, 285000, 281500, 245700, 232698, 250000, 194700, 204000, 200000, 207000, 209500, 209500, 202500, 280000, 277500, 318061, 221370, 200000, 176000, 178900, 168165, 171925, 198444, 203000, 179540, 176485, 181134, 156932, 166000, 177594, 173500, 172500, 194201, 226500, 185485, 259000, 188500, 175000, 215000, 206580, 183500, 211000, 181000, 219500, 175000, 170000, 162000, 187000, 185000, 745000, 384500, 248000, 466500, 410000, 322500, 252000, 755000, 269790, 315750, 290000, 290000, 430000, 263000, 330000, 213133, 260261, 320000, 282922, 215000, 419005, 255000, 147000, 311872, 248328, 227000, 260000, 225000, 249000, 307000, 250000, 221300, 208900, 210400, 255000, 212109, 270000, 303477, 249700, 227875, 261329, 253000, 265000, 340000, 146000, 147000, 149000, 181000, 201000, 191750, 179000, 215000, 179200, 128000, 144000, 144000, 120750, 132500, 132000, 132500, 129000, 143900, 145000, 128500, 125500, 300000, 294000, 129000, 171000, 147000, 302000, 285000, 214000, 166000, 193800, 208900, 194000, 164700, 176500, 176000, 168500, 177000, 177000, 148800, 174000, 239000, 204000, 301000, 312500, 279700, 255000, 194000, 218000, 213750, 187000, 181500, 373000, 190000, 226000, 143450, 240050, 162500, 164000, 185000, 188500, 255000, 136905, 158500, 175500, 127000, 127000, 143000, 156000, 144000, 119000, 103000, 139900, 151500, 126500, 145000, 120000, 124000, 106500, 140500, 137500, 117600, 163500, 161000, 158000, 224500, 147000, 200000, 181900, 150750, 101800, 124000, 138500, 39300, 64500, 64000, 112000, 165000, 144000, 137000, 105000, 146500, 126000, 175000, 158500, 114500, 144000, 129000, 141000, 131000, 142100, 139000, 157900, 139400, 150000, 120000, 174850, 116000, 135000, 163500, 130000, 129500, 142000, 128600, 125000, 136000, 134500, 127000, 130000, 115000, 116900, 132000, 153000, 112500, 138000, 135000, 156000, 301600, 109000, 103200, 128500, 64500, 148000, 86000, 172000, 120000, 128500, 135000, 122900, 119200, 143000, 119000, 102000, 129000, 135000, 152000, 140000, 152000, 156500, 141000, 99000, 187000, 169500, 125500, 130000, 103000, 132000, 127500, 89500, 140000, 99900, 100000, 130000, 135000, 120000, 89471, 85000, 108500, 137000, 110500, 100000, 184900, 145000, 125000, 114000, 90000, 144100, 117500, 124500, 185000, 133900, 152000, 153500, 159500, 87000, 104500, 110000, 136500, 128250, 144000, 210000, 135000, 128000, 131000, 113000, 126000, 132000, 131750, 132500, 137500, 132000, 127500, 102000, 200000, 180500, 165000, 90000, 153575, 140000, 136000, 113000, 117000, 169500, 139400, 202500, 127000, 141000, 212300, 161000, 99500, 101000, 109900, 128500, 122000, 87000, 50000, 219000, 200500, 126000, 108500, 130000, 158450, 115400, 118500, 165000, 123000, 129000, 125000, 108000, 119900, 115000, 134500, 127000, 129000, 143500, 129000, 187000, 158000, 112000, 165250, 150000, 137000, 89500, 302000, 182000, 211000, 216000, 130000, 109900, 255000, 243000, 154000, 118000, 80000, 150000, 86000, 130000, 125000, 136500, 96000, 120000, 228500, 179900, 225000, 301000, 238000, 228500, 220000, 383970, 424870, 250000, 360000, 279500, 200141, 246500, 276000, 203000, 155835, 194000, 195400, 217000, 212999, 175900, 191000, 176432, 277000, 207000, 277000, 240000, 187500, 279000, 139500, 126000, 177500, 175000, 211000, 146000, 147900, 123600, 204750, 235500, 217000, 190550, 217500, 226000, 180000, 131000, 153500, 160000, 134900, 130000, 120000, 112500, 122000, 127000, 117000, 305900, 228500, 270000, 192000, 213000, 200000, 267000, 228000, 275000, 211000, 285000, 240000, 131500, 246900, 219500, 185000, 179400, 213500, 179600, 173500, 167840, 168675, 167000, 140000, 118500, 110000, 94750, 122000, 110000, 118500, 133500, 148000, 141000, 155000, 157000, 171500, 183850, 184750, 140000, 131750, 61500, 111000, 98500, 79000, 108500, 110000, 112000, 125000, 79275, 119000, 200000, 150000, 165000, 96500, 136500, 146500, 175000, 148500, 141500, 189950, 135000, 164000, 90350, 139000, 119750, 145000, 145000, 238000, 153500, 239000, 359100, 188000, 220000, 140000, 315000, 259500, 257500, 219500, 217000, 201000, 215000, 123900, 170000, 200000, 198000, 315000, 115000, 141000, 87000, 129850, 100000, 150909, 75200, 118400, 67000, 152000, 68104, 119600, 140000, 124900, 375000, 235000, 183500, 156000, 134000, 215000, 245000, 210000, 148000, 143000, 244000, 330000, 170000, 257000, 231713, 265900, 239000, 248900, 174000, 187500, 204000, 180500, 187500, 282000, 178000, 270000, 279900, 186700, 283463, 392000, 281213, 147000, 130000, 140000, 132250, 143000, 168000, 129900, 134000, 85500, 106500, 93900, 75000, 84500, 75190, 146800, 153500, 188000, 196000, 157000, 138000, 129500, 80000, 129500, 135000, 124500, 139000, 93500, 124500, 149900, 157500, 169000, 252000, 192100, 183500, 222000, 170000, 187500, 202000, 185000, 320000, 240000, 250000, 239900, 309000, 274725, 270000, 183500, 165600, 176500, 130000, 239000, 275000, 457347, 545224, 356383, 556581, 361919, 535000, 401179, 438780, 169000, 145000, 318000, 319000, 470000, 202500, 229000, 235000, 190000, 169000, 241500, 188900, 207500, 250000, 179900, 172000, 294323, 184500, 153500, 162900, 181000, 155000, 138800, 116050, 88000, 97500, 190000, 105500, 125500, 83000, 116000, 91500, 118000, 89000, 108000, 94500, 146300, 145000, 123000, 137500, 144000, 315000, 412083, 342643, 252000, 293000, 415000, 326000, 325300, 309000, 300000, 275500, 338500, 345000, 298236, 329900, 360000, 281000, 372397, 378000, 374000, 437154, 275000, 279000, 185850, 282500, 202500, 202665, 332200, 310090, 171750, 169990, 170440, 169985, 179665, 219210, 174190, 172785, 258000, 185101, 210250, 234000, 215000, 246990, 178740, 225000, 167240, 156820, 213490, 264561, 246578, 192140, 183200, 178000, 201490, 230500, 180000, 172400, 215000, 199900, 173000, 287602, 230000, 348000, 286000, 300000, 625000, 405000, 280000, 258000, 350000, 584500, 321000, 290000, 315000, 252000, 423000, 290000, 232000, 199000, 198600, 405749, 232600, 266000, 186500, 200825, 197000, 185000, 176000, 187750, 139500, 186800, 132000, 142500, 158000, 184000, 184900, 187000, 175900, 248500, 172000, 151000, 150000, 107000, 119900, 129500, 125000, 119500, 144000, 151000, 126000, 116000, 133500, 120875, 137000, 124000, 135000, 129200, 260000, 260000, 334000, 310000, 268000, 262000, 176400, 197000, 151000, 147400, 149900, 144152, 166000, 183900, 165000, 139000, 200000, 221000, 270000, 165000, 214000, 188000, 190000, 170000, 385000, 146500, 170000, 262500, 179900, 250000, 165150, 164500, 140000, 135500, 142000, 155000, 157500, 138500, 140000, 124400, 158000, 146000, 190000, 136500, 129900, 145000, 185900, 160000, 167000, 157500, 140000, 150000, 151500, 129800, 137000, 137000, 121600, 85500, 79900, 127000, 161000, 146500, 135000, 137900, 133000, 137000, 121000, 119000, 172000, 98600, 226000, 118000, 235000, 135000, 132500, 143000, 132000, 145250, 162000, 148000, 141000, 153000, 134450, 135960, 156000, 140000, 139500, 155000, 127000, 133500, 125000, 142000, 167000, 159000, 180000, 127000, 112000, 99800, 117000, 108480, 68000, 86900, 120000, 155500, 80000, 105000, 160000, 170000, 160000, 159950, 165000, 159000, 147000, 115000, 159500, 120000, 129900, 183000, 157500, 277500, 207500, 147500, 135000, 109500, 109900, 133700, 81400, 87500, 93500, 119000, 141000, 146000, 155000, 134500, 120000, 105000, 124000, 169000, 107000, 135000, 111500, 156500, 178000, 139900, 105000, 110000, 111500, 108000, 111500, 124000, 105000, 116000, 96900, 135500, 139000, 61500, 120000, 126175, 64000, 137000, 87000, 163000, 155000, 79000, 144000, 114504, 157000, 125000, 475000, 93500, 125000, 64500, 100000, 140200, 202500, 159000, 119900, 114500, 115000, 75000, 88000, 80500, 149000, 110000, 110500, 89000, 113000, 109000, 220000, 129000, 117000, 52500, 107000, 116500, 72000, 119500, 125500, 91000, 84500, 90000, 137500, 150000, 131000, 130000, 125000, 80000, 157000, 148000, 90000, 154500, 153600, 164500, 132000, 142500, 158000, 149500, 165000, 180000, 160500, 156500, 157000, 172500, 155000, 170000, 105000, 145000, 168000, 278000, 164000, 225000, 130000, 142500, 148400, 190000, 146000, 128000, 225000, 274970, 235000, 415000, 182000, 135000, 137000, 136900, 149900, 123500, 93000, 91500, 180000, 209000, 215000, 224500, 229800, 183600, 194000, 193879, 221500, 204900, 239799, 233555, 260000, 294900, 209700, 225000, 181000, 220000, 190000, 180000, 280000, 158900, 148000, 145000, 187000, 193000, 156000, 235000, 217000, 214000, 196000, 217000, 200000, 192500, 205000, 132500, 157500, 174000, 128500, 128500, 149900, 119900, 137000, 255000, 222000, 214000, 220000, 275000, 197000, 230000, 268500, 210900, 227000, 237000, 274300, 216837, 133000, 155900, 233230, 207000, 195000, 200000, 203160, 195800, 212900, 196500, 198000, 173900, 163990, 164990, 98000, 149900, 102000, 127500, 127500, 119900, 196500, 229000, 145000, 140000, 142500, 134000, 130000, 130000, 137500, 130000, 97900, 92000, 107000, 81000, 104900, 115000, 125000, 116000, 83000, 118500, 35000, 121000, 160000, 140000, 137000, 128000, 160000, 138887, 149000, 102000, 167000, 200100, 131000, 112000, 140000, 195000, 230000, 194000, 137500, 250000, 218000, 239000, 199500, 210000, 230000, 217500, 257000, 157000, 223000, 102000, 145400, 72000, 85000, 106500, 139000, 108000, 51689, 35311, 115000, 78000, 375000, 300000, 242500, 145000, 209000, 135000, 148000, 171000, 335000, 230000, 250764, 228000, 176000, 180000, 250000, 202000, 312500, 320000, 369900, 359900, 81500, 215000, 164000, 153500, 84500, 104500, 127000, 151400, 126500, 146500, 73000, 79400, 140000, 92000, 87550, 79500, 90500, 71000, 150900, 188000, 160000, 131000, 142500, 131000, 132000, 170000, 188000], \"yaxis\": \"y\"}, {\"hoverlabel\": {\"namelength\": 0}, \"hovertemplate\": \"<b>OLS trendline</b><br>SalePrice = 15172.014839 * Bedroom_AbvGr + 138014.975161<br>R<sup>2</sup>=0.024513<br><br>Bedroom_AbvGr=%{x}<br>SalePrice=%{y} <b>(trend)</b>\", \"legendgroup\": \"\", \"marker\": {\"color\": \"#636efa\", \"symbol\": \"circle\"}, \"mode\": \"lines\", \"name\": \"\", \"showlegend\": false, \"type\": \"scattergl\", \"x\": [0, 0, 0, 0, 0, 0, 1, 1, 1, 1, 1, 1, 1, 1, 1, 1, 1, 1, 1, 1, 1, 1, 1, 1, 1, 1, 1, 1, 1, 1, 1, 1, 1, 1, 1, 1, 1, 1, 1, 1, 1, 1, 1, 1, 1, 1, 1, 1, 1, 1, 1, 1, 1, 1, 1, 1, 1, 1, 1, 1, 1, 1, 1, 1, 1, 1, 1, 1, 1, 1, 1, 1, 1, 1, 1, 2, 2, 2, 2, 2, 2, 2, 2, 2, 2, 2, 2, 2, 2, 2, 2, 2, 2, 2, 2, 2, 2, 2, 2, 2, 2, 2, 2, 2, 2, 2, 2, 2, 2, 2, 2, 2, 2, 2, 2, 2, 2, 2, 2, 2, 2, 2, 2, 2, 2, 2, 2, 2, 2, 2, 2, 2, 2, 2, 2, 2, 2, 2, 2, 2, 2, 2, 2, 2, 2, 2, 2, 2, 2, 2, 2, 2, 2, 2, 2, 2, 2, 2, 2, 2, 2, 2, 2, 2, 2, 2, 2, 2, 2, 2, 2, 2, 2, 2, 2, 2, 2, 2, 2, 2, 2, 2, 2, 2, 2, 2, 2, 2, 2, 2, 2, 2, 2, 2, 2, 2, 2, 2, 2, 2, 2, 2, 2, 2, 2, 2, 2, 2, 2, 2, 2, 2, 2, 2, 2, 2, 2, 2, 2, 2, 2, 2, 2, 2, 2, 2, 2, 2, 2, 2, 2, 2, 2, 2, 2, 2, 2, 2, 2, 2, 2, 2, 2, 2, 2, 2, 2, 2, 2, 2, 2, 2, 2, 2, 2, 2, 2, 2, 2, 2, 2, 2, 2, 2, 2, 2, 2, 2, 2, 2, 2, 2, 2, 2, 2, 2, 2, 2, 2, 2, 2, 2, 2, 2, 2, 2, 2, 2, 2, 2, 2, 2, 2, 2, 2, 2, 2, 2, 2, 2, 2, 2, 2, 2, 2, 2, 2, 2, 2, 2, 2, 2, 2, 2, 2, 2, 2, 2, 2, 2, 2, 2, 2, 2, 2, 2, 2, 2, 2, 2, 2, 2, 2, 2, 2, 2, 2, 2, 2, 2, 2, 2, 2, 2, 2, 2, 2, 2, 2, 2, 2, 2, 2, 2, 2, 2, 2, 2, 2, 2, 2, 2, 2, 2, 2, 2, 2, 2, 2, 2, 2, 2, 2, 2, 2, 2, 2, 2, 2, 2, 2, 2, 2, 2, 2, 2, 2, 2, 2, 2, 2, 2, 2, 2, 2, 2, 2, 2, 2, 2, 2, 2, 2, 2, 2, 2, 2, 2, 2, 2, 2, 2, 2, 2, 2, 2, 2, 2, 2, 2, 2, 2, 2, 2, 2, 2, 2, 2, 2, 2, 2, 2, 2, 2, 2, 2, 2, 2, 2, 2, 2, 2, 2, 2, 2, 2, 2, 2, 2, 2, 2, 2, 2, 2, 2, 2, 2, 2, 2, 2, 2, 2, 2, 2, 2, 2, 2, 2, 2, 2, 2, 2, 2, 2, 2, 2, 2, 2, 2, 2, 2, 2, 2, 2, 2, 2, 2, 2, 2, 2, 2, 2, 2, 2, 2, 2, 2, 2, 2, 2, 2, 2, 2, 2, 2, 2, 2, 2, 2, 2, 2, 2, 2, 2, 2, 2, 2, 2, 2, 2, 2, 2, 2, 2, 2, 2, 2, 2, 2, 2, 2, 2, 2, 2, 2, 2, 2, 2, 2, 2, 2, 2, 2, 2, 2, 2, 2, 2, 2, 2, 2, 2, 2, 2, 2, 2, 2, 2, 2, 2, 2, 3, 3, 3, 3, 3, 3, 3, 3, 3, 3, 3, 3, 3, 3, 3, 3, 3, 3, 3, 3, 3, 3, 3, 3, 3, 3, 3, 3, 3, 3, 3, 3, 3, 3, 3, 3, 3, 3, 3, 3, 3, 3, 3, 3, 3, 3, 3, 3, 3, 3, 3, 3, 3, 3, 3, 3, 3, 3, 3, 3, 3, 3, 3, 3, 3, 3, 3, 3, 3, 3, 3, 3, 3, 3, 3, 3, 3, 3, 3, 3, 3, 3, 3, 3, 3, 3, 3, 3, 3, 3, 3, 3, 3, 3, 3, 3, 3, 3, 3, 3, 3, 3, 3, 3, 3, 3, 3, 3, 3, 3, 3, 3, 3, 3, 3, 3, 3, 3, 3, 3, 3, 3, 3, 3, 3, 3, 3, 3, 3, 3, 3, 3, 3, 3, 3, 3, 3, 3, 3, 3, 3, 3, 3, 3, 3, 3, 3, 3, 3, 3, 3, 3, 3, 3, 3, 3, 3, 3, 3, 3, 3, 3, 3, 3, 3, 3, 3, 3, 3, 3, 3, 3, 3, 3, 3, 3, 3, 3, 3, 3, 3, 3, 3, 3, 3, 3, 3, 3, 3, 3, 3, 3, 3, 3, 3, 3, 3, 3, 3, 3, 3, 3, 3, 3, 3, 3, 3, 3, 3, 3, 3, 3, 3, 3, 3, 3, 3, 3, 3, 3, 3, 3, 3, 3, 3, 3, 3, 3, 3, 3, 3, 3, 3, 3, 3, 3, 3, 3, 3, 3, 3, 3, 3, 3, 3, 3, 3, 3, 3, 3, 3, 3, 3, 3, 3, 3, 3, 3, 3, 3, 3, 3, 3, 3, 3, 3, 3, 3, 3, 3, 3, 3, 3, 3, 3, 3, 3, 3, 3, 3, 3, 3, 3, 3, 3, 3, 3, 3, 3, 3, 3, 3, 3, 3, 3, 3, 3, 3, 3, 3, 3, 3, 3, 3, 3, 3, 3, 3, 3, 3, 3, 3, 3, 3, 3, 3, 3, 3, 3, 3, 3, 3, 3, 3, 3, 3, 3, 3, 3, 3, 3, 3, 3, 3, 3, 3, 3, 3, 3, 3, 3, 3, 3, 3, 3, 3, 3, 3, 3, 3, 3, 3, 3, 3, 3, 3, 3, 3, 3, 3, 3, 3, 3, 3, 3, 3, 3, 3, 3, 3, 3, 3, 3, 3, 3, 3, 3, 3, 3, 3, 3, 3, 3, 3, 3, 3, 3, 3, 3, 3, 3, 3, 3, 3, 3, 3, 3, 3, 3, 3, 3, 3, 3, 3, 3, 3, 3, 3, 3, 3, 3, 3, 3, 3, 3, 3, 3, 3, 3, 3, 3, 3, 3, 3, 3, 3, 3, 3, 3, 3, 3, 3, 3, 3, 3, 3, 3, 3, 3, 3, 3, 3, 3, 3, 3, 3, 3, 3, 3, 3, 3, 3, 3, 3, 3, 3, 3, 3, 3, 3, 3, 3, 3, 3, 3, 3, 3, 3, 3, 3, 3, 3, 3, 3, 3, 3, 3, 3, 3, 3, 3, 3, 3, 3, 3, 3, 3, 3, 3, 3, 3, 3, 3, 3, 3, 3, 3, 3, 3, 3, 3, 3, 3, 3, 3, 3, 3, 3, 3, 3, 3, 3, 3, 3, 3, 3, 3, 3, 3, 3, 3, 3, 3, 3, 3, 3, 3, 3, 3, 3, 3, 3, 3, 3, 3, 3, 3, 3, 3, 3, 3, 3, 3, 3, 3, 3, 3, 3, 3, 3, 3, 3, 3, 3, 3, 3, 3, 3, 3, 3, 3, 3, 3, 3, 3, 3, 3, 3, 3, 3, 3, 3, 3, 3, 3, 3, 3, 3, 3, 3, 3, 3, 3, 3, 3, 3, 3, 3, 3, 3, 3, 3, 3, 3, 3, 3, 3, 3, 3, 3, 3, 3, 3, 3, 3, 3, 3, 3, 3, 3, 3, 3, 3, 3, 3, 3, 3, 3, 3, 3, 3, 3, 3, 3, 3, 3, 3, 3, 3, 3, 3, 3, 3, 3, 3, 3, 3, 3, 3, 3, 3, 3, 3, 3, 3, 3, 3, 3, 3, 3, 3, 3, 3, 3, 3, 3, 3, 3, 3, 3, 3, 3, 3, 3, 3, 3, 3, 3, 3, 3, 3, 3, 3, 3, 3, 3, 3, 3, 3, 3, 3, 3, 3, 3, 3, 3, 3, 3, 3, 3, 3, 3, 3, 3, 3, 3, 3, 3, 3, 3, 3, 3, 3, 3, 3, 3, 3, 3, 3, 3, 3, 3, 3, 3, 3, 3, 3, 3, 3, 3, 3, 3, 3, 3, 3, 3, 3, 3, 3, 3, 3, 3, 3, 3, 3, 3, 3, 3, 3, 3, 3, 3, 3, 3, 3, 3, 3, 3, 3, 3, 3, 3, 3, 3, 3, 3, 3, 3, 3, 3, 3, 3, 3, 3, 3, 3, 3, 3, 3, 3, 3, 3, 3, 3, 3, 3, 3, 3, 3, 3, 3, 3, 3, 3, 3, 3, 3, 3, 3, 3, 3, 3, 3, 3, 3, 3, 3, 3, 3, 3, 3, 3, 3, 3, 3, 3, 3, 3, 3, 3, 3, 3, 3, 3, 3, 3, 3, 3, 3, 3, 3, 3, 3, 3, 3, 3, 3, 3, 3, 3, 3, 3, 3, 3, 3, 3, 3, 3, 3, 3, 3, 3, 3, 3, 3, 3, 3, 3, 3, 3, 3, 3, 3, 3, 3, 3, 3, 3, 3, 3, 3, 3, 3, 3, 3, 3, 3, 3, 3, 3, 3, 3, 3, 3, 3, 3, 3, 3, 3, 3, 3, 3, 3, 3, 3, 3, 3, 3, 3, 3, 3, 3, 3, 3, 3, 3, 3, 3, 3, 3, 3, 3, 3, 3, 3, 3, 3, 3, 3, 3, 3, 3, 3, 3, 3, 3, 3, 3, 3, 3, 3, 3, 3, 3, 3, 3, 3, 3, 3, 3, 3, 3, 3, 3, 3, 3, 3, 3, 3, 3, 3, 3, 3, 3, 3, 3, 3, 3, 3, 3, 3, 3, 3, 3, 3, 3, 3, 3, 3, 3, 3, 3, 3, 3, 3, 3, 3, 3, 3, 3, 3, 3, 3, 3, 3, 3, 3, 3, 3, 3, 3, 3, 3, 3, 3, 3, 3, 3, 3, 3, 3, 3, 3, 3, 3, 3, 3, 3, 3, 3, 3, 3, 3, 3, 3, 3, 3, 3, 3, 3, 3, 3, 3, 3, 3, 3, 3, 3, 3, 3, 3, 3, 3, 3, 3, 3, 3, 3, 3, 4, 4, 4, 4, 4, 4, 4, 4, 4, 4, 4, 4, 4, 4, 4, 4, 4, 4, 4, 4, 4, 4, 4, 4, 4, 4, 4, 4, 4, 4, 4, 4, 4, 4, 4, 4, 4, 4, 4, 4, 4, 4, 4, 4, 4, 4, 4, 4, 4, 4, 4, 4, 4, 4, 4, 4, 4, 4, 4, 4, 4, 4, 4, 4, 4, 4, 4, 4, 4, 4, 4, 4, 4, 4, 4, 4, 4, 4, 4, 4, 4, 4, 4, 4, 4, 4, 4, 4, 4, 4, 4, 4, 4, 4, 4, 4, 4, 4, 4, 4, 4, 4, 4, 4, 4, 4, 4, 4, 4, 4, 4, 4, 4, 4, 4, 4, 4, 4, 4, 4, 4, 4, 4, 4, 4, 4, 4, 4, 4, 4, 4, 4, 4, 4, 4, 4, 4, 4, 4, 4, 4, 4, 4, 4, 4, 4, 4, 4, 4, 4, 4, 4, 4, 4, 4, 4, 4, 4, 4, 4, 4, 4, 4, 4, 4, 4, 4, 4, 4, 4, 4, 4, 4, 4, 4, 4, 4, 4, 4, 4, 4, 4, 4, 4, 4, 4, 4, 4, 4, 4, 4, 4, 4, 4, 4, 4, 4, 4, 4, 4, 4, 4, 4, 4, 4, 4, 4, 4, 4, 4, 4, 4, 4, 4, 4, 4, 4, 4, 4, 4, 4, 4, 4, 4, 4, 4, 4, 4, 4, 4, 4, 4, 4, 4, 4, 4, 4, 4, 4, 4, 4, 4, 4, 4, 4, 4, 4, 4, 4, 4, 4, 4, 4, 4, 4, 4, 4, 4, 4, 4, 4, 4, 4, 4, 4, 4, 4, 4, 4, 4, 4, 4, 4, 4, 4, 4, 4, 4, 4, 4, 4, 4, 4, 4, 4, 4, 5, 5, 5, 5, 5, 5, 5, 5, 5, 5, 5, 5, 5, 5, 5, 5, 5, 5, 5, 5, 5, 5, 5, 5, 5, 5, 5, 5, 5, 5, 5, 5, 5, 6, 6, 6, 6, 6, 6, 6, 6, 6, 6, 8], \"xaxis\": \"x\", \"y\": [138014.97516133153, 138014.97516133153, 138014.97516133153, 138014.97516133153, 138014.97516133153, 138014.97516133153, 153186.99000061268, 153186.99000061268, 153186.99000061268, 153186.99000061268, 153186.99000061268, 153186.99000061268, 153186.99000061268, 153186.99000061268, 153186.99000061268, 153186.99000061268, 153186.99000061268, 153186.99000061268, 153186.99000061268, 153186.99000061268, 153186.99000061268, 153186.99000061268, 153186.99000061268, 153186.99000061268, 153186.99000061268, 153186.99000061268, 153186.99000061268, 153186.99000061268, 153186.99000061268, 153186.99000061268, 153186.99000061268, 153186.99000061268, 153186.99000061268, 153186.99000061268, 153186.99000061268, 153186.99000061268, 153186.99000061268, 153186.99000061268, 153186.99000061268, 153186.99000061268, 153186.99000061268, 153186.99000061268, 153186.99000061268, 153186.99000061268, 153186.99000061268, 153186.99000061268, 153186.99000061268, 153186.99000061268, 153186.99000061268, 153186.99000061268, 153186.99000061268, 153186.99000061268, 153186.99000061268, 153186.99000061268, 153186.99000061268, 153186.99000061268, 153186.99000061268, 153186.99000061268, 153186.99000061268, 153186.99000061268, 153186.99000061268, 153186.99000061268, 153186.99000061268, 153186.99000061268, 153186.99000061268, 153186.99000061268, 153186.99000061268, 153186.99000061268, 153186.99000061268, 153186.99000061268, 153186.99000061268, 153186.99000061268, 153186.99000061268, 153186.99000061268, 153186.99000061268, 168359.00483989384, 168359.00483989384, 168359.00483989384, 168359.00483989384, 168359.00483989384, 168359.00483989384, 168359.00483989384, 168359.00483989384, 168359.00483989384, 168359.00483989384, 168359.00483989384, 168359.00483989384, 168359.00483989384, 168359.00483989384, 168359.00483989384, 168359.00483989384, 168359.00483989384, 168359.00483989384, 168359.00483989384, 168359.00483989384, 168359.00483989384, 168359.00483989384, 168359.00483989384, 168359.00483989384, 168359.00483989384, 168359.00483989384, 168359.00483989384, 168359.00483989384, 168359.00483989384, 168359.00483989384, 168359.00483989384, 168359.00483989384, 168359.00483989384, 168359.00483989384, 168359.00483989384, 168359.00483989384, 168359.00483989384, 168359.00483989384, 168359.00483989384, 168359.00483989384, 168359.00483989384, 168359.00483989384, 168359.00483989384, 168359.00483989384, 168359.00483989384, 168359.00483989384, 168359.00483989384, 168359.00483989384, 168359.00483989384, 168359.00483989384, 168359.00483989384, 168359.00483989384, 168359.00483989384, 168359.00483989384, 168359.00483989384, 168359.00483989384, 168359.00483989384, 168359.00483989384, 168359.00483989384, 168359.00483989384, 168359.00483989384, 168359.00483989384, 168359.00483989384, 168359.00483989384, 168359.00483989384, 168359.00483989384, 168359.00483989384, 168359.00483989384, 168359.00483989384, 168359.00483989384, 168359.00483989384, 168359.00483989384, 168359.00483989384, 168359.00483989384, 168359.00483989384, 168359.00483989384, 168359.00483989384, 168359.00483989384, 168359.00483989384, 168359.00483989384, 168359.00483989384, 168359.00483989384, 168359.00483989384, 168359.00483989384, 168359.00483989384, 168359.00483989384, 168359.00483989384, 168359.00483989384, 168359.00483989384, 168359.00483989384, 168359.00483989384, 168359.00483989384, 168359.00483989384, 168359.00483989384, 168359.00483989384, 168359.00483989384, 168359.00483989384, 168359.00483989384, 168359.00483989384, 168359.00483989384, 168359.00483989384, 168359.00483989384, 168359.00483989384, 168359.00483989384, 168359.00483989384, 168359.00483989384, 168359.00483989384, 168359.00483989384, 168359.00483989384, 168359.00483989384, 168359.00483989384, 168359.00483989384, 168359.00483989384, 168359.00483989384, 168359.00483989384, 168359.00483989384, 168359.00483989384, 168359.00483989384, 168359.00483989384, 168359.00483989384, 168359.00483989384, 168359.00483989384, 168359.00483989384, 168359.00483989384, 168359.00483989384, 168359.00483989384, 168359.00483989384, 168359.00483989384, 168359.00483989384, 168359.00483989384, 168359.00483989384, 168359.00483989384, 168359.00483989384, 168359.00483989384, 168359.00483989384, 168359.00483989384, 168359.00483989384, 168359.00483989384, 168359.00483989384, 168359.00483989384, 168359.00483989384, 168359.00483989384, 168359.00483989384, 168359.00483989384, 168359.00483989384, 168359.00483989384, 168359.00483989384, 168359.00483989384, 168359.00483989384, 168359.00483989384, 168359.00483989384, 168359.00483989384, 168359.00483989384, 168359.00483989384, 168359.00483989384, 168359.00483989384, 168359.00483989384, 168359.00483989384, 168359.00483989384, 168359.00483989384, 168359.00483989384, 168359.00483989384, 168359.00483989384, 168359.00483989384, 168359.00483989384, 168359.00483989384, 168359.00483989384, 168359.00483989384, 168359.00483989384, 168359.00483989384, 168359.00483989384, 168359.00483989384, 168359.00483989384, 168359.00483989384, 168359.00483989384, 168359.00483989384, 168359.00483989384, 168359.00483989384, 168359.00483989384, 168359.00483989384, 168359.00483989384, 168359.00483989384, 168359.00483989384, 168359.00483989384, 168359.00483989384, 168359.00483989384, 168359.00483989384, 168359.00483989384, 168359.00483989384, 168359.00483989384, 168359.00483989384, 168359.00483989384, 168359.00483989384, 168359.00483989384, 168359.00483989384, 168359.00483989384, 168359.00483989384, 168359.00483989384, 168359.00483989384, 168359.00483989384, 168359.00483989384, 168359.00483989384, 168359.00483989384, 168359.00483989384, 168359.00483989384, 168359.00483989384, 168359.00483989384, 168359.00483989384, 168359.00483989384, 168359.00483989384, 168359.00483989384, 168359.00483989384, 168359.00483989384, 168359.00483989384, 168359.00483989384, 168359.00483989384, 168359.00483989384, 168359.00483989384, 168359.00483989384, 168359.00483989384, 168359.00483989384, 168359.00483989384, 168359.00483989384, 168359.00483989384, 168359.00483989384, 168359.00483989384, 168359.00483989384, 168359.00483989384, 168359.00483989384, 168359.00483989384, 168359.00483989384, 168359.00483989384, 168359.00483989384, 168359.00483989384, 168359.00483989384, 168359.00483989384, 168359.00483989384, 168359.00483989384, 168359.00483989384, 168359.00483989384, 168359.00483989384, 168359.00483989384, 168359.00483989384, 168359.00483989384, 168359.00483989384, 168359.00483989384, 168359.00483989384, 168359.00483989384, 168359.00483989384, 168359.00483989384, 168359.00483989384, 168359.00483989384, 168359.00483989384, 168359.00483989384, 168359.00483989384, 168359.00483989384, 168359.00483989384, 168359.00483989384, 168359.00483989384, 168359.00483989384, 168359.00483989384, 168359.00483989384, 168359.00483989384, 168359.00483989384, 168359.00483989384, 168359.00483989384, 168359.00483989384, 168359.00483989384, 168359.00483989384, 168359.00483989384, 168359.00483989384, 168359.00483989384, 168359.00483989384, 168359.00483989384, 168359.00483989384, 168359.00483989384, 168359.00483989384, 168359.00483989384, 168359.00483989384, 168359.00483989384, 168359.00483989384, 168359.00483989384, 168359.00483989384, 168359.00483989384, 168359.00483989384, 168359.00483989384, 168359.00483989384, 168359.00483989384, 168359.00483989384, 168359.00483989384, 168359.00483989384, 168359.00483989384, 168359.00483989384, 168359.00483989384, 168359.00483989384, 168359.00483989384, 168359.00483989384, 168359.00483989384, 168359.00483989384, 168359.00483989384, 168359.00483989384, 168359.00483989384, 168359.00483989384, 168359.00483989384, 168359.00483989384, 168359.00483989384, 168359.00483989384, 168359.00483989384, 168359.00483989384, 168359.00483989384, 168359.00483989384, 168359.00483989384, 168359.00483989384, 168359.00483989384, 168359.00483989384, 168359.00483989384, 168359.00483989384, 168359.00483989384, 168359.00483989384, 168359.00483989384, 168359.00483989384, 168359.00483989384, 168359.00483989384, 168359.00483989384, 168359.00483989384, 168359.00483989384, 168359.00483989384, 168359.00483989384, 168359.00483989384, 168359.00483989384, 168359.00483989384, 168359.00483989384, 168359.00483989384, 168359.00483989384, 168359.00483989384, 168359.00483989384, 168359.00483989384, 168359.00483989384, 168359.00483989384, 168359.00483989384, 168359.00483989384, 168359.00483989384, 168359.00483989384, 168359.00483989384, 168359.00483989384, 168359.00483989384, 168359.00483989384, 168359.00483989384, 168359.00483989384, 168359.00483989384, 168359.00483989384, 168359.00483989384, 168359.00483989384, 168359.00483989384, 168359.00483989384, 168359.00483989384, 168359.00483989384, 168359.00483989384, 168359.00483989384, 168359.00483989384, 168359.00483989384, 168359.00483989384, 168359.00483989384, 168359.00483989384, 168359.00483989384, 168359.00483989384, 168359.00483989384, 168359.00483989384, 168359.00483989384, 168359.00483989384, 168359.00483989384, 168359.00483989384, 168359.00483989384, 168359.00483989384, 168359.00483989384, 168359.00483989384, 168359.00483989384, 168359.00483989384, 168359.00483989384, 168359.00483989384, 168359.00483989384, 168359.00483989384, 168359.00483989384, 168359.00483989384, 168359.00483989384, 168359.00483989384, 168359.00483989384, 168359.00483989384, 168359.00483989384, 168359.00483989384, 168359.00483989384, 168359.00483989384, 168359.00483989384, 168359.00483989384, 168359.00483989384, 168359.00483989384, 168359.00483989384, 168359.00483989384, 168359.00483989384, 168359.00483989384, 168359.00483989384, 168359.00483989384, 168359.00483989384, 168359.00483989384, 168359.00483989384, 168359.00483989384, 168359.00483989384, 168359.00483989384, 168359.00483989384, 168359.00483989384, 168359.00483989384, 168359.00483989384, 168359.00483989384, 168359.00483989384, 168359.00483989384, 168359.00483989384, 168359.00483989384, 168359.00483989384, 168359.00483989384, 168359.00483989384, 168359.00483989384, 168359.00483989384, 168359.00483989384, 168359.00483989384, 168359.00483989384, 168359.00483989384, 168359.00483989384, 168359.00483989384, 168359.00483989384, 168359.00483989384, 168359.00483989384, 168359.00483989384, 168359.00483989384, 168359.00483989384, 168359.00483989384, 168359.00483989384, 168359.00483989384, 168359.00483989384, 168359.00483989384, 168359.00483989384, 168359.00483989384, 168359.00483989384, 168359.00483989384, 168359.00483989384, 168359.00483989384, 168359.00483989384, 168359.00483989384, 168359.00483989384, 168359.00483989384, 168359.00483989384, 168359.00483989384, 168359.00483989384, 168359.00483989384, 168359.00483989384, 168359.00483989384, 168359.00483989384, 168359.00483989384, 168359.00483989384, 168359.00483989384, 168359.00483989384, 168359.00483989384, 168359.00483989384, 168359.00483989384, 168359.00483989384, 168359.00483989384, 168359.00483989384, 168359.00483989384, 168359.00483989384, 168359.00483989384, 168359.00483989384, 168359.00483989384, 168359.00483989384, 168359.00483989384, 168359.00483989384, 168359.00483989384, 168359.00483989384, 168359.00483989384, 168359.00483989384, 168359.00483989384, 168359.00483989384, 168359.00483989384, 168359.00483989384, 168359.00483989384, 168359.00483989384, 168359.00483989384, 168359.00483989384, 183531.01967917496, 183531.01967917496, 183531.01967917496, 183531.01967917496, 183531.01967917496, 183531.01967917496, 183531.01967917496, 183531.01967917496, 183531.01967917496, 183531.01967917496, 183531.01967917496, 183531.01967917496, 183531.01967917496, 183531.01967917496, 183531.01967917496, 183531.01967917496, 183531.01967917496, 183531.01967917496, 183531.01967917496, 183531.01967917496, 183531.01967917496, 183531.01967917496, 183531.01967917496, 183531.01967917496, 183531.01967917496, 183531.01967917496, 183531.01967917496, 183531.01967917496, 183531.01967917496, 183531.01967917496, 183531.01967917496, 183531.01967917496, 183531.01967917496, 183531.01967917496, 183531.01967917496, 183531.01967917496, 183531.01967917496, 183531.01967917496, 183531.01967917496, 183531.01967917496, 183531.01967917496, 183531.01967917496, 183531.01967917496, 183531.01967917496, 183531.01967917496, 183531.01967917496, 183531.01967917496, 183531.01967917496, 183531.01967917496, 183531.01967917496, 183531.01967917496, 183531.01967917496, 183531.01967917496, 183531.01967917496, 183531.01967917496, 183531.01967917496, 183531.01967917496, 183531.01967917496, 183531.01967917496, 183531.01967917496, 183531.01967917496, 183531.01967917496, 183531.01967917496, 183531.01967917496, 183531.01967917496, 183531.01967917496, 183531.01967917496, 183531.01967917496, 183531.01967917496, 183531.01967917496, 183531.01967917496, 183531.01967917496, 183531.01967917496, 183531.01967917496, 183531.01967917496, 183531.01967917496, 183531.01967917496, 183531.01967917496, 183531.01967917496, 183531.01967917496, 183531.01967917496, 183531.01967917496, 183531.01967917496, 183531.01967917496, 183531.01967917496, 183531.01967917496, 183531.01967917496, 183531.01967917496, 183531.01967917496, 183531.01967917496, 183531.01967917496, 183531.01967917496, 183531.01967917496, 183531.01967917496, 183531.01967917496, 183531.01967917496, 183531.01967917496, 183531.01967917496, 183531.01967917496, 183531.01967917496, 183531.01967917496, 183531.01967917496, 183531.01967917496, 183531.01967917496, 183531.01967917496, 183531.01967917496, 183531.01967917496, 183531.01967917496, 183531.01967917496, 183531.01967917496, 183531.01967917496, 183531.01967917496, 183531.01967917496, 183531.01967917496, 183531.01967917496, 183531.01967917496, 183531.01967917496, 183531.01967917496, 183531.01967917496, 183531.01967917496, 183531.01967917496, 183531.01967917496, 183531.01967917496, 183531.01967917496, 183531.01967917496, 183531.01967917496, 183531.01967917496, 183531.01967917496, 183531.01967917496, 183531.01967917496, 183531.01967917496, 183531.01967917496, 183531.01967917496, 183531.01967917496, 183531.01967917496, 183531.01967917496, 183531.01967917496, 183531.01967917496, 183531.01967917496, 183531.01967917496, 183531.01967917496, 183531.01967917496, 183531.01967917496, 183531.01967917496, 183531.01967917496, 183531.01967917496, 183531.01967917496, 183531.01967917496, 183531.01967917496, 183531.01967917496, 183531.01967917496, 183531.01967917496, 183531.01967917496, 183531.01967917496, 183531.01967917496, 183531.01967917496, 183531.01967917496, 183531.01967917496, 183531.01967917496, 183531.01967917496, 183531.01967917496, 183531.01967917496, 183531.01967917496, 183531.01967917496, 183531.01967917496, 183531.01967917496, 183531.01967917496, 183531.01967917496, 183531.01967917496, 183531.01967917496, 183531.01967917496, 183531.01967917496, 183531.01967917496, 183531.01967917496, 183531.01967917496, 183531.01967917496, 183531.01967917496, 183531.01967917496, 183531.01967917496, 183531.01967917496, 183531.01967917496, 183531.01967917496, 183531.01967917496, 183531.01967917496, 183531.01967917496, 183531.01967917496, 183531.01967917496, 183531.01967917496, 183531.01967917496, 183531.01967917496, 183531.01967917496, 183531.01967917496, 183531.01967917496, 183531.01967917496, 183531.01967917496, 183531.01967917496, 183531.01967917496, 183531.01967917496, 183531.01967917496, 183531.01967917496, 183531.01967917496, 183531.01967917496, 183531.01967917496, 183531.01967917496, 183531.01967917496, 183531.01967917496, 183531.01967917496, 183531.01967917496, 183531.01967917496, 183531.01967917496, 183531.01967917496, 183531.01967917496, 183531.01967917496, 183531.01967917496, 183531.01967917496, 183531.01967917496, 183531.01967917496, 183531.01967917496, 183531.01967917496, 183531.01967917496, 183531.01967917496, 183531.01967917496, 183531.01967917496, 183531.01967917496, 183531.01967917496, 183531.01967917496, 183531.01967917496, 183531.01967917496, 183531.01967917496, 183531.01967917496, 183531.01967917496, 183531.01967917496, 183531.01967917496, 183531.01967917496, 183531.01967917496, 183531.01967917496, 183531.01967917496, 183531.01967917496, 183531.01967917496, 183531.01967917496, 183531.01967917496, 183531.01967917496, 183531.01967917496, 183531.01967917496, 183531.01967917496, 183531.01967917496, 183531.01967917496, 183531.01967917496, 183531.01967917496, 183531.01967917496, 183531.01967917496, 183531.01967917496, 183531.01967917496, 183531.01967917496, 183531.01967917496, 183531.01967917496, 183531.01967917496, 183531.01967917496, 183531.01967917496, 183531.01967917496, 183531.01967917496, 183531.01967917496, 183531.01967917496, 183531.01967917496, 183531.01967917496, 183531.01967917496, 183531.01967917496, 183531.01967917496, 183531.01967917496, 183531.01967917496, 183531.01967917496, 183531.01967917496, 183531.01967917496, 183531.01967917496, 183531.01967917496, 183531.01967917496, 183531.01967917496, 183531.01967917496, 183531.01967917496, 183531.01967917496, 183531.01967917496, 183531.01967917496, 183531.01967917496, 183531.01967917496, 183531.01967917496, 183531.01967917496, 183531.01967917496, 183531.01967917496, 183531.01967917496, 183531.01967917496, 183531.01967917496, 183531.01967917496, 183531.01967917496, 183531.01967917496, 183531.01967917496, 183531.01967917496, 183531.01967917496, 183531.01967917496, 183531.01967917496, 183531.01967917496, 183531.01967917496, 183531.01967917496, 183531.01967917496, 183531.01967917496, 183531.01967917496, 183531.01967917496, 183531.01967917496, 183531.01967917496, 183531.01967917496, 183531.01967917496, 183531.01967917496, 183531.01967917496, 183531.01967917496, 183531.01967917496, 183531.01967917496, 183531.01967917496, 183531.01967917496, 183531.01967917496, 183531.01967917496, 183531.01967917496, 183531.01967917496, 183531.01967917496, 183531.01967917496, 183531.01967917496, 183531.01967917496, 183531.01967917496, 183531.01967917496, 183531.01967917496, 183531.01967917496, 183531.01967917496, 183531.01967917496, 183531.01967917496, 183531.01967917496, 183531.01967917496, 183531.01967917496, 183531.01967917496, 183531.01967917496, 183531.01967917496, 183531.01967917496, 183531.01967917496, 183531.01967917496, 183531.01967917496, 183531.01967917496, 183531.01967917496, 183531.01967917496, 183531.01967917496, 183531.01967917496, 183531.01967917496, 183531.01967917496, 183531.01967917496, 183531.01967917496, 183531.01967917496, 183531.01967917496, 183531.01967917496, 183531.01967917496, 183531.01967917496, 183531.01967917496, 183531.01967917496, 183531.01967917496, 183531.01967917496, 183531.01967917496, 183531.01967917496, 183531.01967917496, 183531.01967917496, 183531.01967917496, 183531.01967917496, 183531.01967917496, 183531.01967917496, 183531.01967917496, 183531.01967917496, 183531.01967917496, 183531.01967917496, 183531.01967917496, 183531.01967917496, 183531.01967917496, 183531.01967917496, 183531.01967917496, 183531.01967917496, 183531.01967917496, 183531.01967917496, 183531.01967917496, 183531.01967917496, 183531.01967917496, 183531.01967917496, 183531.01967917496, 183531.01967917496, 183531.01967917496, 183531.01967917496, 183531.01967917496, 183531.01967917496, 183531.01967917496, 183531.01967917496, 183531.01967917496, 183531.01967917496, 183531.01967917496, 183531.01967917496, 183531.01967917496, 183531.01967917496, 183531.01967917496, 183531.01967917496, 183531.01967917496, 183531.01967917496, 183531.01967917496, 183531.01967917496, 183531.01967917496, 183531.01967917496, 183531.01967917496, 183531.01967917496, 183531.01967917496, 183531.01967917496, 183531.01967917496, 183531.01967917496, 183531.01967917496, 183531.01967917496, 183531.01967917496, 183531.01967917496, 183531.01967917496, 183531.01967917496, 183531.01967917496, 183531.01967917496, 183531.01967917496, 183531.01967917496, 183531.01967917496, 183531.01967917496, 183531.01967917496, 183531.01967917496, 183531.01967917496, 183531.01967917496, 183531.01967917496, 183531.01967917496, 183531.01967917496, 183531.01967917496, 183531.01967917496, 183531.01967917496, 183531.01967917496, 183531.01967917496, 183531.01967917496, 183531.01967917496, 183531.01967917496, 183531.01967917496, 183531.01967917496, 183531.01967917496, 183531.01967917496, 183531.01967917496, 183531.01967917496, 183531.01967917496, 183531.01967917496, 183531.01967917496, 183531.01967917496, 183531.01967917496, 183531.01967917496, 183531.01967917496, 183531.01967917496, 183531.01967917496, 183531.01967917496, 183531.01967917496, 183531.01967917496, 183531.01967917496, 183531.01967917496, 183531.01967917496, 183531.01967917496, 183531.01967917496, 183531.01967917496, 183531.01967917496, 183531.01967917496, 183531.01967917496, 183531.01967917496, 183531.01967917496, 183531.01967917496, 183531.01967917496, 183531.01967917496, 183531.01967917496, 183531.01967917496, 183531.01967917496, 183531.01967917496, 183531.01967917496, 183531.01967917496, 183531.01967917496, 183531.01967917496, 183531.01967917496, 183531.01967917496, 183531.01967917496, 183531.01967917496, 183531.01967917496, 183531.01967917496, 183531.01967917496, 183531.01967917496, 183531.01967917496, 183531.01967917496, 183531.01967917496, 183531.01967917496, 183531.01967917496, 183531.01967917496, 183531.01967917496, 183531.01967917496, 183531.01967917496, 183531.01967917496, 183531.01967917496, 183531.01967917496, 183531.01967917496, 183531.01967917496, 183531.01967917496, 183531.01967917496, 183531.01967917496, 183531.01967917496, 183531.01967917496, 183531.01967917496, 183531.01967917496, 183531.01967917496, 183531.01967917496, 183531.01967917496, 183531.01967917496, 183531.01967917496, 183531.01967917496, 183531.01967917496, 183531.01967917496, 183531.01967917496, 183531.01967917496, 183531.01967917496, 183531.01967917496, 183531.01967917496, 183531.01967917496, 183531.01967917496, 183531.01967917496, 183531.01967917496, 183531.01967917496, 183531.01967917496, 183531.01967917496, 183531.01967917496, 183531.01967917496, 183531.01967917496, 183531.01967917496, 183531.01967917496, 183531.01967917496, 183531.01967917496, 183531.01967917496, 183531.01967917496, 183531.01967917496, 183531.01967917496, 183531.01967917496, 183531.01967917496, 183531.01967917496, 183531.01967917496, 183531.01967917496, 183531.01967917496, 183531.01967917496, 183531.01967917496, 183531.01967917496, 183531.01967917496, 183531.01967917496, 183531.01967917496, 183531.01967917496, 183531.01967917496, 183531.01967917496, 183531.01967917496, 183531.01967917496, 183531.01967917496, 183531.01967917496, 183531.01967917496, 183531.01967917496, 183531.01967917496, 183531.01967917496, 183531.01967917496, 183531.01967917496, 183531.01967917496, 183531.01967917496, 183531.01967917496, 183531.01967917496, 183531.01967917496, 183531.01967917496, 183531.01967917496, 183531.01967917496, 183531.01967917496, 183531.01967917496, 183531.01967917496, 183531.01967917496, 183531.01967917496, 183531.01967917496, 183531.01967917496, 183531.01967917496, 183531.01967917496, 183531.01967917496, 183531.01967917496, 183531.01967917496, 183531.01967917496, 183531.01967917496, 183531.01967917496, 183531.01967917496, 183531.01967917496, 183531.01967917496, 183531.01967917496, 183531.01967917496, 183531.01967917496, 183531.01967917496, 183531.01967917496, 183531.01967917496, 183531.01967917496, 183531.01967917496, 183531.01967917496, 183531.01967917496, 183531.01967917496, 183531.01967917496, 183531.01967917496, 183531.01967917496, 183531.01967917496, 183531.01967917496, 183531.01967917496, 183531.01967917496, 183531.01967917496, 183531.01967917496, 183531.01967917496, 183531.01967917496, 183531.01967917496, 183531.01967917496, 183531.01967917496, 183531.01967917496, 183531.01967917496, 183531.01967917496, 183531.01967917496, 183531.01967917496, 183531.01967917496, 183531.01967917496, 183531.01967917496, 183531.01967917496, 183531.01967917496, 183531.01967917496, 183531.01967917496, 183531.01967917496, 183531.01967917496, 183531.01967917496, 183531.01967917496, 183531.01967917496, 183531.01967917496, 183531.01967917496, 183531.01967917496, 183531.01967917496, 183531.01967917496, 183531.01967917496, 183531.01967917496, 183531.01967917496, 183531.01967917496, 183531.01967917496, 183531.01967917496, 183531.01967917496, 183531.01967917496, 183531.01967917496, 183531.01967917496, 183531.01967917496, 183531.01967917496, 183531.01967917496, 183531.01967917496, 183531.01967917496, 183531.01967917496, 183531.01967917496, 183531.01967917496, 183531.01967917496, 183531.01967917496, 183531.01967917496, 183531.01967917496, 183531.01967917496, 183531.01967917496, 183531.01967917496, 183531.01967917496, 183531.01967917496, 183531.01967917496, 183531.01967917496, 183531.01967917496, 183531.01967917496, 183531.01967917496, 183531.01967917496, 183531.01967917496, 183531.01967917496, 183531.01967917496, 183531.01967917496, 183531.01967917496, 183531.01967917496, 183531.01967917496, 183531.01967917496, 183531.01967917496, 183531.01967917496, 183531.01967917496, 183531.01967917496, 183531.01967917496, 183531.01967917496, 183531.01967917496, 183531.01967917496, 183531.01967917496, 183531.01967917496, 183531.01967917496, 183531.01967917496, 183531.01967917496, 183531.01967917496, 183531.01967917496, 183531.01967917496, 183531.01967917496, 183531.01967917496, 183531.01967917496, 183531.01967917496, 183531.01967917496, 183531.01967917496, 183531.01967917496, 183531.01967917496, 183531.01967917496, 183531.01967917496, 183531.01967917496, 183531.01967917496, 183531.01967917496, 183531.01967917496, 183531.01967917496, 183531.01967917496, 183531.01967917496, 183531.01967917496, 183531.01967917496, 183531.01967917496, 183531.01967917496, 183531.01967917496, 183531.01967917496, 183531.01967917496, 183531.01967917496, 183531.01967917496, 183531.01967917496, 183531.01967917496, 183531.01967917496, 183531.01967917496, 183531.01967917496, 183531.01967917496, 183531.01967917496, 183531.01967917496, 183531.01967917496, 183531.01967917496, 183531.01967917496, 183531.01967917496, 183531.01967917496, 183531.01967917496, 183531.01967917496, 183531.01967917496, 183531.01967917496, 183531.01967917496, 183531.01967917496, 183531.01967917496, 183531.01967917496, 183531.01967917496, 183531.01967917496, 183531.01967917496, 183531.01967917496, 183531.01967917496, 183531.01967917496, 183531.01967917496, 183531.01967917496, 183531.01967917496, 183531.01967917496, 183531.01967917496, 183531.01967917496, 183531.01967917496, 183531.01967917496, 183531.01967917496, 183531.01967917496, 183531.01967917496, 183531.01967917496, 183531.01967917496, 183531.01967917496, 183531.01967917496, 183531.01967917496, 183531.01967917496, 183531.01967917496, 183531.01967917496, 183531.01967917496, 183531.01967917496, 183531.01967917496, 183531.01967917496, 183531.01967917496, 183531.01967917496, 183531.01967917496, 183531.01967917496, 183531.01967917496, 183531.01967917496, 183531.01967917496, 183531.01967917496, 183531.01967917496, 183531.01967917496, 183531.01967917496, 183531.01967917496, 183531.01967917496, 183531.01967917496, 183531.01967917496, 183531.01967917496, 183531.01967917496, 183531.01967917496, 183531.01967917496, 183531.01967917496, 183531.01967917496, 183531.01967917496, 183531.01967917496, 183531.01967917496, 183531.01967917496, 183531.01967917496, 183531.01967917496, 183531.01967917496, 183531.01967917496, 183531.01967917496, 183531.01967917496, 183531.01967917496, 183531.01967917496, 183531.01967917496, 183531.01967917496, 183531.01967917496, 183531.01967917496, 183531.01967917496, 183531.01967917496, 183531.01967917496, 183531.01967917496, 183531.01967917496, 183531.01967917496, 183531.01967917496, 183531.01967917496, 183531.01967917496, 183531.01967917496, 183531.01967917496, 183531.01967917496, 183531.01967917496, 183531.01967917496, 183531.01967917496, 183531.01967917496, 183531.01967917496, 183531.01967917496, 183531.01967917496, 183531.01967917496, 183531.01967917496, 183531.01967917496, 183531.01967917496, 183531.01967917496, 183531.01967917496, 183531.01967917496, 183531.01967917496, 183531.01967917496, 183531.01967917496, 183531.01967917496, 183531.01967917496, 183531.01967917496, 183531.01967917496, 183531.01967917496, 183531.01967917496, 183531.01967917496, 183531.01967917496, 183531.01967917496, 183531.01967917496, 183531.01967917496, 183531.01967917496, 183531.01967917496, 183531.01967917496, 183531.01967917496, 183531.01967917496, 183531.01967917496, 183531.01967917496, 183531.01967917496, 183531.01967917496, 183531.01967917496, 183531.01967917496, 183531.01967917496, 183531.01967917496, 183531.01967917496, 183531.01967917496, 183531.01967917496, 183531.01967917496, 183531.01967917496, 183531.01967917496, 183531.01967917496, 183531.01967917496, 183531.01967917496, 183531.01967917496, 183531.01967917496, 183531.01967917496, 183531.01967917496, 183531.01967917496, 183531.01967917496, 183531.01967917496, 183531.01967917496, 183531.01967917496, 183531.01967917496, 183531.01967917496, 183531.01967917496, 183531.01967917496, 183531.01967917496, 183531.01967917496, 183531.01967917496, 183531.01967917496, 183531.01967917496, 183531.01967917496, 183531.01967917496, 183531.01967917496, 183531.01967917496, 183531.01967917496, 183531.01967917496, 183531.01967917496, 183531.01967917496, 183531.01967917496, 183531.01967917496, 183531.01967917496, 183531.01967917496, 183531.01967917496, 183531.01967917496, 183531.01967917496, 183531.01967917496, 183531.01967917496, 183531.01967917496, 183531.01967917496, 183531.01967917496, 183531.01967917496, 183531.01967917496, 183531.01967917496, 183531.01967917496, 183531.01967917496, 183531.01967917496, 183531.01967917496, 183531.01967917496, 183531.01967917496, 183531.01967917496, 183531.01967917496, 183531.01967917496, 183531.01967917496, 183531.01967917496, 183531.01967917496, 183531.01967917496, 183531.01967917496, 183531.01967917496, 183531.01967917496, 183531.01967917496, 183531.01967917496, 183531.01967917496, 183531.01967917496, 183531.01967917496, 183531.01967917496, 183531.01967917496, 183531.01967917496, 183531.01967917496, 183531.01967917496, 183531.01967917496, 183531.01967917496, 183531.01967917496, 183531.01967917496, 183531.01967917496, 183531.01967917496, 183531.01967917496, 183531.01967917496, 183531.01967917496, 183531.01967917496, 183531.01967917496, 183531.01967917496, 183531.01967917496, 183531.01967917496, 183531.01967917496, 183531.01967917496, 183531.01967917496, 183531.01967917496, 183531.01967917496, 183531.01967917496, 183531.01967917496, 183531.01967917496, 183531.01967917496, 183531.01967917496, 183531.01967917496, 183531.01967917496, 183531.01967917496, 183531.01967917496, 183531.01967917496, 183531.01967917496, 183531.01967917496, 183531.01967917496, 183531.01967917496, 183531.01967917496, 183531.01967917496, 183531.01967917496, 183531.01967917496, 183531.01967917496, 183531.01967917496, 183531.01967917496, 183531.01967917496, 183531.01967917496, 183531.01967917496, 183531.01967917496, 183531.01967917496, 183531.01967917496, 183531.01967917496, 183531.01967917496, 183531.01967917496, 183531.01967917496, 183531.01967917496, 183531.01967917496, 183531.01967917496, 183531.01967917496, 183531.01967917496, 183531.01967917496, 183531.01967917496, 183531.01967917496, 183531.01967917496, 183531.01967917496, 183531.01967917496, 183531.01967917496, 183531.01967917496, 183531.01967917496, 183531.01967917496, 183531.01967917496, 183531.01967917496, 183531.01967917496, 183531.01967917496, 183531.01967917496, 183531.01967917496, 183531.01967917496, 183531.01967917496, 183531.01967917496, 183531.01967917496, 183531.01967917496, 183531.01967917496, 183531.01967917496, 183531.01967917496, 183531.01967917496, 183531.01967917496, 183531.01967917496, 183531.01967917496, 183531.01967917496, 183531.01967917496, 183531.01967917496, 183531.01967917496, 183531.01967917496, 183531.01967917496, 183531.01967917496, 183531.01967917496, 183531.01967917496, 183531.01967917496, 198703.03451845612, 198703.03451845612, 198703.03451845612, 198703.03451845612, 198703.03451845612, 198703.03451845612, 198703.03451845612, 198703.03451845612, 198703.03451845612, 198703.03451845612, 198703.03451845612, 198703.03451845612, 198703.03451845612, 198703.03451845612, 198703.03451845612, 198703.03451845612, 198703.03451845612, 198703.03451845612, 198703.03451845612, 198703.03451845612, 198703.03451845612, 198703.03451845612, 198703.03451845612, 198703.03451845612, 198703.03451845612, 198703.03451845612, 198703.03451845612, 198703.03451845612, 198703.03451845612, 198703.03451845612, 198703.03451845612, 198703.03451845612, 198703.03451845612, 198703.03451845612, 198703.03451845612, 198703.03451845612, 198703.03451845612, 198703.03451845612, 198703.03451845612, 198703.03451845612, 198703.03451845612, 198703.03451845612, 198703.03451845612, 198703.03451845612, 198703.03451845612, 198703.03451845612, 198703.03451845612, 198703.03451845612, 198703.03451845612, 198703.03451845612, 198703.03451845612, 198703.03451845612, 198703.03451845612, 198703.03451845612, 198703.03451845612, 198703.03451845612, 198703.03451845612, 198703.03451845612, 198703.03451845612, 198703.03451845612, 198703.03451845612, 198703.03451845612, 198703.03451845612, 198703.03451845612, 198703.03451845612, 198703.03451845612, 198703.03451845612, 198703.03451845612, 198703.03451845612, 198703.03451845612, 198703.03451845612, 198703.03451845612, 198703.03451845612, 198703.03451845612, 198703.03451845612, 198703.03451845612, 198703.03451845612, 198703.03451845612, 198703.03451845612, 198703.03451845612, 198703.03451845612, 198703.03451845612, 198703.03451845612, 198703.03451845612, 198703.03451845612, 198703.03451845612, 198703.03451845612, 198703.03451845612, 198703.03451845612, 198703.03451845612, 198703.03451845612, 198703.03451845612, 198703.03451845612, 198703.03451845612, 198703.03451845612, 198703.03451845612, 198703.03451845612, 198703.03451845612, 198703.03451845612, 198703.03451845612, 198703.03451845612, 198703.03451845612, 198703.03451845612, 198703.03451845612, 198703.03451845612, 198703.03451845612, 198703.03451845612, 198703.03451845612, 198703.03451845612, 198703.03451845612, 198703.03451845612, 198703.03451845612, 198703.03451845612, 198703.03451845612, 198703.03451845612, 198703.03451845612, 198703.03451845612, 198703.03451845612, 198703.03451845612, 198703.03451845612, 198703.03451845612, 198703.03451845612, 198703.03451845612, 198703.03451845612, 198703.03451845612, 198703.03451845612, 198703.03451845612, 198703.03451845612, 198703.03451845612, 198703.03451845612, 198703.03451845612, 198703.03451845612, 198703.03451845612, 198703.03451845612, 198703.03451845612, 198703.03451845612, 198703.03451845612, 198703.03451845612, 198703.03451845612, 198703.03451845612, 198703.03451845612, 198703.03451845612, 198703.03451845612, 198703.03451845612, 198703.03451845612, 198703.03451845612, 198703.03451845612, 198703.03451845612, 198703.03451845612, 198703.03451845612, 198703.03451845612, 198703.03451845612, 198703.03451845612, 198703.03451845612, 198703.03451845612, 198703.03451845612, 198703.03451845612, 198703.03451845612, 198703.03451845612, 198703.03451845612, 198703.03451845612, 198703.03451845612, 198703.03451845612, 198703.03451845612, 198703.03451845612, 198703.03451845612, 198703.03451845612, 198703.03451845612, 198703.03451845612, 198703.03451845612, 198703.03451845612, 198703.03451845612, 198703.03451845612, 198703.03451845612, 198703.03451845612, 198703.03451845612, 198703.03451845612, 198703.03451845612, 198703.03451845612, 198703.03451845612, 198703.03451845612, 198703.03451845612, 198703.03451845612, 198703.03451845612, 198703.03451845612, 198703.03451845612, 198703.03451845612, 198703.03451845612, 198703.03451845612, 198703.03451845612, 198703.03451845612, 198703.03451845612, 198703.03451845612, 198703.03451845612, 198703.03451845612, 198703.03451845612, 198703.03451845612, 198703.03451845612, 198703.03451845612, 198703.03451845612, 198703.03451845612, 198703.03451845612, 198703.03451845612, 198703.03451845612, 198703.03451845612, 198703.03451845612, 198703.03451845612, 198703.03451845612, 198703.03451845612, 198703.03451845612, 198703.03451845612, 198703.03451845612, 198703.03451845612, 198703.03451845612, 198703.03451845612, 198703.03451845612, 198703.03451845612, 198703.03451845612, 198703.03451845612, 198703.03451845612, 198703.03451845612, 198703.03451845612, 198703.03451845612, 198703.03451845612, 198703.03451845612, 198703.03451845612, 198703.03451845612, 198703.03451845612, 198703.03451845612, 198703.03451845612, 198703.03451845612, 198703.03451845612, 198703.03451845612, 198703.03451845612, 198703.03451845612, 198703.03451845612, 198703.03451845612, 198703.03451845612, 198703.03451845612, 198703.03451845612, 198703.03451845612, 198703.03451845612, 198703.03451845612, 198703.03451845612, 198703.03451845612, 198703.03451845612, 198703.03451845612, 198703.03451845612, 198703.03451845612, 198703.03451845612, 198703.03451845612, 198703.03451845612, 198703.03451845612, 198703.03451845612, 198703.03451845612, 198703.03451845612, 198703.03451845612, 198703.03451845612, 198703.03451845612, 198703.03451845612, 198703.03451845612, 198703.03451845612, 198703.03451845612, 198703.03451845612, 198703.03451845612, 198703.03451845612, 198703.03451845612, 198703.03451845612, 198703.03451845612, 198703.03451845612, 198703.03451845612, 198703.03451845612, 198703.03451845612, 198703.03451845612, 198703.03451845612, 198703.03451845612, 198703.03451845612, 198703.03451845612, 198703.03451845612, 198703.03451845612, 198703.03451845612, 198703.03451845612, 198703.03451845612, 198703.03451845612, 198703.03451845612, 198703.03451845612, 213875.04935773727, 213875.04935773727, 213875.04935773727, 213875.04935773727, 213875.04935773727, 213875.04935773727, 213875.04935773727, 213875.04935773727, 213875.04935773727, 213875.04935773727, 213875.04935773727, 213875.04935773727, 213875.04935773727, 213875.04935773727, 213875.04935773727, 213875.04935773727, 213875.04935773727, 213875.04935773727, 213875.04935773727, 213875.04935773727, 213875.04935773727, 213875.04935773727, 213875.04935773727, 213875.04935773727, 213875.04935773727, 213875.04935773727, 213875.04935773727, 213875.04935773727, 213875.04935773727, 213875.04935773727, 213875.04935773727, 213875.04935773727, 213875.04935773727, 229047.0641970184, 229047.0641970184, 229047.0641970184, 229047.0641970184, 229047.0641970184, 229047.0641970184, 229047.0641970184, 229047.0641970184, 229047.0641970184, 229047.0641970184, 259391.0938755807], \"yaxis\": \"y\"}],\n",
              "                        {\"height\": 600, \"legend\": {\"tracegroupgap\": 0}, \"margin\": {\"t\": 60}, \"template\": {\"data\": {\"bar\": [{\"error_x\": {\"color\": \"#2a3f5f\"}, \"error_y\": {\"color\": \"#2a3f5f\"}, \"marker\": {\"line\": {\"color\": \"#E5ECF6\", \"width\": 0.5}}, \"type\": \"bar\"}], \"barpolar\": [{\"marker\": {\"line\": {\"color\": \"#E5ECF6\", \"width\": 0.5}}, \"type\": \"barpolar\"}], \"carpet\": [{\"aaxis\": {\"endlinecolor\": \"#2a3f5f\", \"gridcolor\": \"white\", \"linecolor\": \"white\", \"minorgridcolor\": \"white\", \"startlinecolor\": \"#2a3f5f\"}, \"baxis\": {\"endlinecolor\": \"#2a3f5f\", \"gridcolor\": \"white\", \"linecolor\": \"white\", \"minorgridcolor\": \"white\", \"startlinecolor\": \"#2a3f5f\"}, \"type\": \"carpet\"}], \"choropleth\": [{\"colorbar\": {\"outlinewidth\": 0, \"ticks\": \"\"}, \"type\": \"choropleth\"}], \"contour\": [{\"colorbar\": {\"outlinewidth\": 0, \"ticks\": \"\"}, \"colorscale\": [[0.0, \"#0d0887\"], [0.1111111111111111, \"#46039f\"], [0.2222222222222222, \"#7201a8\"], [0.3333333333333333, \"#9c179e\"], [0.4444444444444444, \"#bd3786\"], [0.5555555555555556, \"#d8576b\"], [0.6666666666666666, \"#ed7953\"], [0.7777777777777778, \"#fb9f3a\"], [0.8888888888888888, \"#fdca26\"], [1.0, \"#f0f921\"]], \"type\": \"contour\"}], \"contourcarpet\": [{\"colorbar\": {\"outlinewidth\": 0, \"ticks\": \"\"}, \"type\": \"contourcarpet\"}], \"heatmap\": [{\"colorbar\": {\"outlinewidth\": 0, \"ticks\": \"\"}, \"colorscale\": [[0.0, \"#0d0887\"], [0.1111111111111111, \"#46039f\"], [0.2222222222222222, \"#7201a8\"], [0.3333333333333333, \"#9c179e\"], [0.4444444444444444, \"#bd3786\"], [0.5555555555555556, \"#d8576b\"], [0.6666666666666666, \"#ed7953\"], [0.7777777777777778, \"#fb9f3a\"], [0.8888888888888888, \"#fdca26\"], [1.0, \"#f0f921\"]], \"type\": \"heatmap\"}], \"heatmapgl\": [{\"colorbar\": {\"outlinewidth\": 0, \"ticks\": \"\"}, \"colorscale\": [[0.0, \"#0d0887\"], [0.1111111111111111, \"#46039f\"], [0.2222222222222222, \"#7201a8\"], [0.3333333333333333, \"#9c179e\"], [0.4444444444444444, \"#bd3786\"], [0.5555555555555556, \"#d8576b\"], [0.6666666666666666, \"#ed7953\"], [0.7777777777777778, \"#fb9f3a\"], [0.8888888888888888, \"#fdca26\"], [1.0, \"#f0f921\"]], \"type\": \"heatmapgl\"}], \"histogram\": [{\"marker\": {\"colorbar\": {\"outlinewidth\": 0, \"ticks\": \"\"}}, \"type\": \"histogram\"}], \"histogram2d\": [{\"colorbar\": {\"outlinewidth\": 0, \"ticks\": \"\"}, \"colorscale\": [[0.0, \"#0d0887\"], [0.1111111111111111, \"#46039f\"], [0.2222222222222222, \"#7201a8\"], [0.3333333333333333, \"#9c179e\"], [0.4444444444444444, \"#bd3786\"], [0.5555555555555556, \"#d8576b\"], [0.6666666666666666, \"#ed7953\"], [0.7777777777777778, \"#fb9f3a\"], [0.8888888888888888, \"#fdca26\"], [1.0, \"#f0f921\"]], \"type\": \"histogram2d\"}], \"histogram2dcontour\": [{\"colorbar\": {\"outlinewidth\": 0, \"ticks\": \"\"}, \"colorscale\": [[0.0, \"#0d0887\"], [0.1111111111111111, \"#46039f\"], [0.2222222222222222, \"#7201a8\"], [0.3333333333333333, \"#9c179e\"], [0.4444444444444444, \"#bd3786\"], [0.5555555555555556, \"#d8576b\"], [0.6666666666666666, \"#ed7953\"], [0.7777777777777778, \"#fb9f3a\"], [0.8888888888888888, \"#fdca26\"], [1.0, \"#f0f921\"]], \"type\": \"histogram2dcontour\"}], \"mesh3d\": [{\"colorbar\": {\"outlinewidth\": 0, \"ticks\": \"\"}, \"type\": \"mesh3d\"}], \"parcoords\": [{\"line\": {\"colorbar\": {\"outlinewidth\": 0, \"ticks\": \"\"}}, \"type\": \"parcoords\"}], \"scatter\": [{\"marker\": {\"colorbar\": {\"outlinewidth\": 0, \"ticks\": \"\"}}, \"type\": \"scatter\"}], \"scatter3d\": [{\"line\": {\"colorbar\": {\"outlinewidth\": 0, \"ticks\": \"\"}}, \"marker\": {\"colorbar\": {\"outlinewidth\": 0, \"ticks\": \"\"}}, \"type\": \"scatter3d\"}], \"scattercarpet\": [{\"marker\": {\"colorbar\": {\"outlinewidth\": 0, \"ticks\": \"\"}}, \"type\": \"scattercarpet\"}], \"scattergeo\": [{\"marker\": {\"colorbar\": {\"outlinewidth\": 0, \"ticks\": \"\"}}, \"type\": \"scattergeo\"}], \"scattergl\": [{\"marker\": {\"colorbar\": {\"outlinewidth\": 0, \"ticks\": \"\"}}, \"type\": \"scattergl\"}], \"scattermapbox\": [{\"marker\": {\"colorbar\": {\"outlinewidth\": 0, \"ticks\": \"\"}}, \"type\": \"scattermapbox\"}], \"scatterpolar\": [{\"marker\": {\"colorbar\": {\"outlinewidth\": 0, \"ticks\": \"\"}}, \"type\": \"scatterpolar\"}], \"scatterpolargl\": [{\"marker\": {\"colorbar\": {\"outlinewidth\": 0, \"ticks\": \"\"}}, \"type\": \"scatterpolargl\"}], \"scatterternary\": [{\"marker\": {\"colorbar\": {\"outlinewidth\": 0, \"ticks\": \"\"}}, \"type\": \"scatterternary\"}], \"surface\": [{\"colorbar\": {\"outlinewidth\": 0, \"ticks\": \"\"}, \"colorscale\": [[0.0, \"#0d0887\"], [0.1111111111111111, \"#46039f\"], [0.2222222222222222, \"#7201a8\"], [0.3333333333333333, \"#9c179e\"], [0.4444444444444444, \"#bd3786\"], [0.5555555555555556, \"#d8576b\"], [0.6666666666666666, \"#ed7953\"], [0.7777777777777778, \"#fb9f3a\"], [0.8888888888888888, \"#fdca26\"], [1.0, \"#f0f921\"]], \"type\": \"surface\"}], \"table\": [{\"cells\": {\"fill\": {\"color\": \"#EBF0F8\"}, \"line\": {\"color\": \"white\"}}, \"header\": {\"fill\": {\"color\": \"#C8D4E3\"}, \"line\": {\"color\": \"white\"}}, \"type\": \"table\"}]}, \"layout\": {\"annotationdefaults\": {\"arrowcolor\": \"#2a3f5f\", \"arrowhead\": 0, \"arrowwidth\": 1}, \"colorscale\": {\"diverging\": [[0, \"#8e0152\"], [0.1, \"#c51b7d\"], [0.2, \"#de77ae\"], [0.3, \"#f1b6da\"], [0.4, \"#fde0ef\"], [0.5, \"#f7f7f7\"], [0.6, \"#e6f5d0\"], [0.7, \"#b8e186\"], [0.8, \"#7fbc41\"], [0.9, \"#4d9221\"], [1, \"#276419\"]], \"sequential\": [[0.0, \"#0d0887\"], [0.1111111111111111, \"#46039f\"], [0.2222222222222222, \"#7201a8\"], [0.3333333333333333, \"#9c179e\"], [0.4444444444444444, \"#bd3786\"], [0.5555555555555556, \"#d8576b\"], [0.6666666666666666, \"#ed7953\"], [0.7777777777777778, \"#fb9f3a\"], [0.8888888888888888, \"#fdca26\"], [1.0, \"#f0f921\"]], \"sequentialminus\": [[0.0, \"#0d0887\"], [0.1111111111111111, \"#46039f\"], [0.2222222222222222, \"#7201a8\"], [0.3333333333333333, \"#9c179e\"], [0.4444444444444444, \"#bd3786\"], [0.5555555555555556, \"#d8576b\"], [0.6666666666666666, \"#ed7953\"], [0.7777777777777778, \"#fb9f3a\"], [0.8888888888888888, \"#fdca26\"], [1.0, \"#f0f921\"]]}, \"colorway\": [\"#636efa\", \"#EF553B\", \"#00cc96\", \"#ab63fa\", \"#FFA15A\", \"#19d3f3\", \"#FF6692\", \"#B6E880\", \"#FF97FF\", \"#FECB52\"], \"font\": {\"color\": \"#2a3f5f\"}, \"geo\": {\"bgcolor\": \"white\", \"lakecolor\": \"white\", \"landcolor\": \"#E5ECF6\", \"showlakes\": true, \"showland\": true, \"subunitcolor\": \"white\"}, \"hoverlabel\": {\"align\": \"left\"}, \"hovermode\": \"closest\", \"mapbox\": {\"style\": \"light\"}, \"paper_bgcolor\": \"white\", \"plot_bgcolor\": \"#E5ECF6\", \"polar\": {\"angularaxis\": {\"gridcolor\": \"white\", \"linecolor\": \"white\", \"ticks\": \"\"}, \"bgcolor\": \"#E5ECF6\", \"radialaxis\": {\"gridcolor\": \"white\", \"linecolor\": \"white\", \"ticks\": \"\"}}, \"scene\": {\"xaxis\": {\"backgroundcolor\": \"#E5ECF6\", \"gridcolor\": \"white\", \"gridwidth\": 2, \"linecolor\": \"white\", \"showbackground\": true, \"ticks\": \"\", \"zerolinecolor\": \"white\"}, \"yaxis\": {\"backgroundcolor\": \"#E5ECF6\", \"gridcolor\": \"white\", \"gridwidth\": 2, \"linecolor\": \"white\", \"showbackground\": true, \"ticks\": \"\", \"zerolinecolor\": \"white\"}, \"zaxis\": {\"backgroundcolor\": \"#E5ECF6\", \"gridcolor\": \"white\", \"gridwidth\": 2, \"linecolor\": \"white\", \"showbackground\": true, \"ticks\": \"\", \"zerolinecolor\": \"white\"}}, \"shapedefaults\": {\"line\": {\"color\": \"#2a3f5f\"}}, \"ternary\": {\"aaxis\": {\"gridcolor\": \"white\", \"linecolor\": \"white\", \"ticks\": \"\"}, \"baxis\": {\"gridcolor\": \"white\", \"linecolor\": \"white\", \"ticks\": \"\"}, \"bgcolor\": \"#E5ECF6\", \"caxis\": {\"gridcolor\": \"white\", \"linecolor\": \"white\", \"ticks\": \"\"}}, \"title\": {\"x\": 0.05}, \"xaxis\": {\"automargin\": true, \"gridcolor\": \"white\", \"linecolor\": \"white\", \"ticks\": \"\", \"zerolinecolor\": \"white\", \"zerolinewidth\": 2}, \"yaxis\": {\"automargin\": true, \"gridcolor\": \"white\", \"linecolor\": \"white\", \"ticks\": \"\", \"zerolinecolor\": \"white\", \"zerolinewidth\": 2}}}, \"xaxis\": {\"anchor\": \"y\", \"domain\": [0.0, 0.98], \"title\": {\"text\": \"Bedroom_AbvGr\"}}, \"yaxis\": {\"anchor\": \"x\", \"domain\": [0.0, 1.0], \"title\": {\"text\": \"SalePrice\"}}},\n",
              "                        {\"responsive\": true}\n",
              "                    ).then(function(){\n",
              "                            \n",
              "var gd = document.getElementById('75af646a-fa9f-48f1-9418-127b103f965f');\n",
              "var x = new MutationObserver(function (mutations, observer) {{\n",
              "        var display = window.getComputedStyle(gd).display;\n",
              "        if (!display || display === 'none') {{\n",
              "            console.log([gd, 'removed!']);\n",
              "            Plotly.purge(gd);\n",
              "            observer.disconnect();\n",
              "        }}\n",
              "}});\n",
              "\n",
              "// Listen for the removal of the full notebook cells\n",
              "var notebookContainer = gd.closest('#notebook-container');\n",
              "if (notebookContainer) {{\n",
              "    x.observe(notebookContainer, {childList: true});\n",
              "}}\n",
              "\n",
              "// Listen for the clearing of the current output cell\n",
              "var outputEl = gd.closest('.output');\n",
              "if (outputEl) {{\n",
              "    x.observe(outputEl, {childList: true});\n",
              "}}\n",
              "\n",
              "                        })\n",
              "                };\n",
              "                \n",
              "            </script>\n",
              "        </div>\n",
              "</body>\n",
              "</html>"
            ]
          },
          "metadata": {
            "tags": []
          }
        }
      ]
    },
    {
      "cell_type": "markdown",
      "metadata": {
        "id": "PdkjBN1Dy_-A",
        "colab_type": "text"
      },
      "source": [
        "# Data Dictionary \n",
        "\n",
        "Here's a description of the data fields:\n",
        "\n",
        "```\n",
        "1st_Flr_SF: First Floor square feet\n",
        "\n",
        "Bedroom_AbvGr: Bedrooms above grade (does NOT include basement bedrooms)\n",
        "\n",
        "Bldg_Type: Type of dwelling\n",
        "\t\t\n",
        "       1Fam\tSingle-family Detached\t\n",
        "       2FmCon\tTwo-family Conversion; originally built as one-family dwelling\n",
        "       Duplx\tDuplex\n",
        "       TwnhsE\tTownhouse End Unit\n",
        "       TwnhsI\tTownhouse Inside Unit\n",
        "       \n",
        "Bsmt_Half_Bath: Basement half bathrooms\n",
        "\n",
        "Bsmt_Full_Bath: Basement full bathrooms\n",
        "\n",
        "Central_Air: Central air conditioning\n",
        "\n",
        "       N\tNo\n",
        "       Y\tYes\n",
        "\t\t\n",
        "Condition_1: Proximity to various conditions\n",
        "\t\n",
        "       Artery\tAdjacent to arterial street\n",
        "       Feedr\tAdjacent to feeder street\t\n",
        "       Norm\tNormal\t\n",
        "       RRNn\tWithin 200' of North-South Railroad\n",
        "       RRAn\tAdjacent to North-South Railroad\n",
        "       PosN\tNear positive off-site feature--park, greenbelt, etc.\n",
        "       PosA\tAdjacent to postive off-site feature\n",
        "       RRNe\tWithin 200' of East-West Railroad\n",
        "       RRAe\tAdjacent to East-West Railroad\n",
        "\t\n",
        "Condition_2: Proximity to various conditions (if more than one is present)\n",
        "\t\t\n",
        "       Artery\tAdjacent to arterial street\n",
        "       Feedr\tAdjacent to feeder street\t\n",
        "       Norm\tNormal\t\n",
        "       RRNn\tWithin 200' of North-South Railroad\n",
        "       RRAn\tAdjacent to North-South Railroad\n",
        "       PosN\tNear positive off-site feature--park, greenbelt, etc.\n",
        "       PosA\tAdjacent to postive off-site feature\n",
        "       RRNe\tWithin 200' of East-West Railroad\n",
        "       RRAe\tAdjacent to East-West Railroad\n",
        "       \n",
        " Electrical: Electrical system\n",
        "\n",
        "       SBrkr\tStandard Circuit Breakers & Romex\n",
        "       FuseA\tFuse Box over 60 AMP and all Romex wiring (Average)\t\n",
        "       FuseF\t60 AMP Fuse Box and mostly Romex wiring (Fair)\n",
        "       FuseP\t60 AMP Fuse Box and mostly knob & tube wiring (poor)\n",
        "       Mix\tMixed\n",
        "       \n",
        " Exter_Cond: Evaluates the present condition of the material on the exterior\n",
        "\t\t\n",
        "       Ex\tExcellent\n",
        "       Gd\tGood\n",
        "       TA\tAverage/Typical\n",
        "       Fa\tFair\n",
        "       Po\tPoor\n",
        " \n",
        " Exter_Qual: Evaluates the quality of the material on the exterior \n",
        "\t\t\n",
        "       Ex\tExcellent\n",
        "       Gd\tGood\n",
        "       TA\tAverage/Typical\n",
        "       Fa\tFair\n",
        "       Po\tPoor\n",
        "\t\t\n",
        "Exterior_1st: Exterior covering on house\n",
        "\n",
        "       AsbShng\tAsbestos Shingles\n",
        "       AsphShn\tAsphalt Shingles\n",
        "       BrkComm\tBrick Common\n",
        "       BrkFace\tBrick Face\n",
        "       CBlock\tCinder Block\n",
        "       CemntBd\tCement Board\n",
        "       HdBoard\tHard Board\n",
        "       ImStucc\tImitation Stucco\n",
        "       MetalSd\tMetal Siding\n",
        "       Other\tOther\n",
        "       Plywood\tPlywood\n",
        "       PreCast\tPreCast\t\n",
        "       Stone\tStone\n",
        "       Stucco\tStucco\n",
        "       VinylSd\tVinyl Siding\n",
        "       Wd Sdng\tWood Siding\n",
        "       WdShing\tWood Shingles\n",
        "\t\n",
        "Exterior_2nd: Exterior covering on house (if more than one material)\n",
        "\n",
        "       AsbShng\tAsbestos Shingles\n",
        "       AsphShn\tAsphalt Shingles\n",
        "       BrkComm\tBrick Common\n",
        "       BrkFace\tBrick Face\n",
        "       CBlock\tCinder Block\n",
        "       CemntBd\tCement Board\n",
        "       HdBoard\tHard Board\n",
        "       ImStucc\tImitation Stucco\n",
        "       MetalSd\tMetal Siding\n",
        "       Other\tOther\n",
        "       Plywood\tPlywood\n",
        "       PreCast\tPreCast\n",
        "       Stone\tStone\n",
        "       Stucco\tStucco\n",
        "       VinylSd\tVinyl Siding\n",
        "       Wd Sdng\tWood Siding\n",
        "       WdShing\tWood Shingles\n",
        "       \n",
        "Foundation: Type of foundation\n",
        "\t\t\n",
        "       BrkTil\tBrick & Tile\n",
        "       CBlock\tCinder Block\n",
        "       PConc\tPoured Contrete\t\n",
        "       Slab\tSlab\n",
        "       Stone\tStone\n",
        "       Wood\tWood\n",
        "\t\t\n",
        "Full_Bath: Full bathrooms above grade\n",
        "\n",
        "Functional: Home functionality (Assume typical unless deductions are warranted)\n",
        "\n",
        "       Typ\tTypical Functionality\n",
        "       Min1\tMinor Deductions 1\n",
        "       Min2\tMinor Deductions 2\n",
        "       Mod\tModerate Deductions\n",
        "       Maj1\tMajor Deductions 1\n",
        "       Maj2\tMajor Deductions 2\n",
        "       Sev\tSeverely Damaged\n",
        "       Sal\tSalvage only\n",
        "\t\t\n",
        "Gr_Liv_Area: Above grade (ground) living area square feet\n",
        "        \n",
        "Half_Bath: Half baths above grade\n",
        "\n",
        "Heating: Type of heating\n",
        "\t\t\n",
        "       Floor\tFloor Furnace\n",
        "       GasA\tGas forced warm air furnace\n",
        "       GasW\tGas hot water or steam heat\n",
        "       Grav\tGravity furnace\t\n",
        "       OthW\tHot water or steam heat other than gas\n",
        "       Wall\tWall furnace\n",
        "\t\t\n",
        "Heating_QC: Heating quality and condition\n",
        "\n",
        "       Ex\tExcellent\n",
        "       Gd\tGood\n",
        "       TA\tAverage/Typical\n",
        "       Fa\tFair\n",
        "       Po\tPoor\n",
        "\n",
        "House_Style: Style of dwelling\n",
        "\t\n",
        "       1Story\tOne story\n",
        "       1.5Fin\tOne and one-half story: 2nd level finished\n",
        "       1.5Unf\tOne and one-half story: 2nd level unfinished\n",
        "       2Story\tTwo story\n",
        "       2.5Fin\tTwo and one-half story: 2nd level finished\n",
        "       2.5Unf\tTwo and one-half story: 2nd level unfinished\n",
        "       SFoyer\tSplit Foyer\n",
        "       SLvl\tSplit Level\n",
        "\n",
        "Kitchen_AbvGr: Kitchens above grade\n",
        "\n",
        "Kitchen_Qual: Kitchen quality\n",
        "\n",
        "       Ex\tExcellent\n",
        "       Gd\tGood\n",
        "       TA\tTypical/Average\n",
        "       Fa\tFair\n",
        "       Po\tPoor\n",
        "\n",
        "LandContour: Flatness of the property\n",
        "\n",
        "       Lvl\tNear Flat/Level\t\n",
        "       Bnk\tBanked - Quick and significant rise from street grade to building\n",
        "       HLS\tHillside - Significant slope from side to side\n",
        "       Low\tDepression\n",
        "\t\t\n",
        "Land_Slope: Slope of property\n",
        "\t\t\n",
        "       Gtl\tGentle slope\n",
        "       Mod\tModerate Slope\t\n",
        "       Sev\tSevere Slope\n",
        "\n",
        "Lot_Area: Lot size in square feet\n",
        "\n",
        "Lot_Config: Lot configuration\n",
        "\n",
        "       Inside\tInside lot\n",
        "       Corner\tCorner lot\n",
        "       CulDSac\tCul-de-sac\n",
        "       FR2\tFrontage on 2 sides of property\n",
        "       FR3\tFrontage on 3 sides of property\n",
        "\n",
        "Lot_Shape: General shape of property\n",
        "\n",
        "       Reg\tRegular\t\n",
        "       IR1\tSlightly irregular\n",
        "       IR2\tModerately Irregular\n",
        "       IR3\tIrregular\n",
        "\n",
        "MS_SubClass: Identifies the type of dwelling involved in the sale.\t\n",
        "\n",
        "        20\t1-STORY 1946 & NEWER ALL STYLES\n",
        "        30\t1-STORY 1945 & OLDER\n",
        "        40\t1-STORY W/FINISHED ATTIC ALL AGES\n",
        "        45\t1-1/2 STORY - UNFINISHED ALL AGES\n",
        "        50\t1-1/2 STORY FINISHED ALL AGES\n",
        "        60\t2-STORY 1946 & NEWER\n",
        "        70\t2-STORY 1945 & OLDER\n",
        "        75\t2-1/2 STORY ALL AGES\n",
        "        80\tSPLIT OR MULTI-LEVEL\n",
        "        85\tSPLIT FOYER\n",
        "        90\tDUPLEX - ALL STYLES AND AGES\n",
        "       120\t1-STORY PUD (Planned Unit Development) - 1946 & NEWER\n",
        "       150\t1-1/2 STORY PUD - ALL AGES\n",
        "       160\t2-STORY PUD - 1946 & NEWER\n",
        "       180\tPUD - MULTILEVEL - INCL SPLIT LEV/FOYER\n",
        "       190\t2 FAMILY CONVERSION - ALL STYLES AND AGES\n",
        "\n",
        "MS_Zoning: Identifies the general zoning classification of the sale.\n",
        "\t\t\n",
        "       A\tAgriculture\n",
        "       C\tCommercial\n",
        "       FV\tFloating Village Residential\n",
        "       I\tIndustrial\n",
        "       RH\tResidential High Density\n",
        "       RL\tResidential Low Density\n",
        "       RP\tResidential Low Density Park \n",
        "       RM\tResidential Medium Density\n",
        "\n",
        "Mas_Vnr_Type: Masonry veneer type\n",
        "\n",
        "       BrkCmn\tBrick Common\n",
        "       BrkFace\tBrick Face\n",
        "       CBlock\tCinder Block\n",
        "       None\tNone\n",
        "       Stone\tStone\n",
        "\n",
        "Mo_Sold: Month Sold (MM)\n",
        "\n",
        "Neighborhood: Physical locations within Ames city limits\n",
        "\n",
        "       Blmngtn\tBloomington Heights\n",
        "       Blueste\tBluestem\n",
        "       BrDale\tBriardale\n",
        "       BrkSide\tBrookside\n",
        "       ClearCr\tClear Creek\n",
        "       CollgCr\tCollege Creek\n",
        "       Crawfor\tCrawford\n",
        "       Edwards\tEdwards\n",
        "       Gilbert\tGilbert\n",
        "       IDOTRR\tIowa DOT and Rail Road\n",
        "       MeadowV\tMeadow Village\n",
        "       Mitchel\tMitchell\n",
        "       Names\tNorth Ames\n",
        "       NoRidge\tNorthridge\n",
        "       NPkVill\tNorthpark Villa\n",
        "       NridgHt\tNorthridge Heights\n",
        "       NWAmes\tNorthwest Ames\n",
        "       OldTown\tOld Town\n",
        "       SWISU\tSouth & West of Iowa State University\n",
        "       Sawyer\tSawyer\n",
        "       SawyerW\tSawyer West\n",
        "       Somerst\tSomerset\n",
        "       StoneBr\tStone Brook\n",
        "       Timber\tTimberland\n",
        "       Veenker\tVeenker\n",
        "\t\t\t\n",
        "Overall_Cond: Rates the overall condition of the house\n",
        "\n",
        "       10\tVery Excellent\n",
        "       9\tExcellent\n",
        "       8\tVery Good\n",
        "       7\tGood\n",
        "       6\tAbove Average\t\n",
        "       5\tAverage\n",
        "       4\tBelow Average\t\n",
        "       3\tFair\n",
        "       2\tPoor\n",
        "       1\tVery Poor\n",
        "\n",
        "Overall_Qual: Rates the overall material and finish of the house\n",
        "\n",
        "       10\tVery Excellent\n",
        "       9\tExcellent\n",
        "       8\tVery Good\n",
        "       7\tGood\n",
        "       6\tAbove Average\n",
        "       5\tAverage\n",
        "       4\tBelow Average\n",
        "       3\tFair\n",
        "       2\tPoor\n",
        "       1\tVery Poor\n",
        "\n",
        "Paved_Drive: Paved driveway\n",
        "\n",
        "       Y\tPaved \n",
        "       P\tPartial Pavement\n",
        "       N\tDirt/Gravel\n",
        "\n",
        "Roof_Matl: Roof material\n",
        "\n",
        "       ClyTile\tClay or Tile\n",
        "       CompShg\tStandard (Composite) Shingle\n",
        "       Membran\tMembrane\n",
        "       Metal\tMetal\n",
        "       Roll\tRoll\n",
        "       Tar&Grv\tGravel & Tar\n",
        "       WdShake\tWood Shakes\n",
        "       WdShngl\tWood Shingles\n",
        "\n",
        "Roof_Style: Type of roof\n",
        "\n",
        "       Flat\tFlat\n",
        "       Gable\tGable\n",
        "       Gambrel\tGabrel (Barn)\n",
        "       Hip\tHip\n",
        "       Mansard\tMansard\n",
        "       Shed\tShed\n",
        "\n",
        "SalePrice: the sales price for each house\n",
        "\n",
        "Sale_Condition: Condition of sale\n",
        "\n",
        "       Normal\tNormal Sale\n",
        "       Abnorml\tAbnormal Sale -  trade, foreclosure, short sale\n",
        "       AdjLand\tAdjoining Land Purchase\n",
        "       Alloca\tAllocation - two linked properties with separate deeds, typically condo with a garage unit\t\n",
        "       Family\tSale between family members\n",
        "       Partial\tHome was not completed when last assessed (associated with New Homes)\n",
        "\n",
        "Sale_Type: Type of sale\n",
        "\t\t\n",
        "       WD \tWarranty Deed - Conventional\n",
        "       CWD\tWarranty Deed - Cash\n",
        "       VWD\tWarranty Deed - VA Loan\n",
        "       New\tHome just constructed and sold\n",
        "       COD\tCourt Officer Deed/Estate\n",
        "       Con\tContract 15% Down payment regular terms\n",
        "       ConLw\tContract Low Down payment and low interest\n",
        "       ConLI\tContract Low Interest\n",
        "       ConLD\tContract Low Down\n",
        "       Oth\tOther\n",
        "\t\n",
        "Street: Type of road access to property\n",
        "\n",
        "       Grvl\tGravel\t\n",
        "       Pave\tPaved\n",
        "       \t\n",
        "TotRms_AbvGrd: Total rooms above grade (does not include bathrooms)\n",
        "\n",
        "Utilities: Type of utilities available\n",
        "\t\t\n",
        "       AllPub\tAll public Utilities (E,G,W,& S)\t\n",
        "       NoSewr\tElectricity, Gas, and Water (Septic Tank)\n",
        "       NoSeWa\tElectricity and Gas Only\n",
        "       ELO\tElectricity only\t\n",
        "\t\n",
        "Year_Built: Original construction date\n",
        "\n",
        "Year_Remod/Add: Remodel date (same as construction date if no remodeling or additions)\n",
        "\t\t\t\t\t\t\n",
        "Yr_Sold: Year Sold (YYYY)\t\n",
        "\n",
        "```"
      ]
    },
    {
      "cell_type": "code",
      "metadata": {
        "id": "yAgllGMmY8Iu",
        "colab_type": "code",
        "colab": {}
      },
      "source": [
        ""
      ],
      "execution_count": 0,
      "outputs": []
    }
  ]
}