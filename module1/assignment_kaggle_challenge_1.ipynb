{
  "nbformat": 4,
  "nbformat_minor": 0,
  "metadata": {
    "colab": {
      "name": "assignment_kaggle_challenge_1.ipynb",
      "provenance": [],
      "collapsed_sections": [],
      "toc_visible": true,
      "include_colab_link": true
    },
    "kernelspec": {
      "display_name": "Python 3",
      "language": "python",
      "name": "python3"
    },
    "language_info": {
      "codemirror_mode": {
        "name": "ipython",
        "version": 3
      },
      "file_extension": ".py",
      "mimetype": "text/x-python",
      "name": "python",
      "nbconvert_exporter": "python",
      "pygments_lexer": "ipython3",
      "version": "3.7.3"
    }
  },
  "cells": [
    {
      "cell_type": "markdown",
      "metadata": {
        "id": "view-in-github",
        "colab_type": "text"
      },
      "source": [
        "<a href=\"https://colab.research.google.com/github/Nckflannery/DS-Unit-2-Regression-Classification/blob/master/module1/assignment_kaggle_challenge_1.ipynb\" target=\"_parent\"><img src=\"https://colab.research.google.com/assets/colab-badge.svg\" alt=\"Open In Colab\"/></a>"
      ]
    },
    {
      "cell_type": "markdown",
      "metadata": {
        "colab_type": "text",
        "id": "7IXUfiQ2UKj6"
      },
      "source": [
        "Lambda School Data Science, Unit 2: Predictive Modeling\n",
        "\n",
        "# Kaggle Challenge, Module 1\n",
        "\n",
        "## Assignment\n",
        "- [ ] Do train/validate/test split with the Tanzania Waterpumps data.\n",
        "- [ ] Define a function to wrangle train, validate, and test sets in the same way. Clean outliers and engineer features. (For example, [what other columns have zeros and shouldn't?](https://github.com/Quartz/bad-data-guide#zeros-replace-missing-values) What other columns are duplicates, or nearly duplicates? Can you extract the year from date_recorded? Can you engineer new features, such as the number of years from waterpump construction to waterpump inspection?)\n",
        "- [ ] Select features. Use a scikit-learn pipeline to encode categoricals, impute missing values, and fit a decision tree classifier.\n",
        "- [ ] Get your validation accuracy score.\n",
        "- [ ] Get and plot your feature importances.\n",
        "- [ ] Submit your predictions to our Kaggle competition. (Go to our Kaggle InClass competition webpage. Use the blue **Submit Predictions** button to upload your CSV file. Or you can use the Kaggle API to submit your predictions.)\n",
        "- [ ] Commit your notebook to your fork of the GitHub repo.\n",
        "\n",
        "\n",
        "## Stretch Goals\n",
        "\n",
        "### Reading\n",
        "\n",
        "- A Visual Introduction to Machine Learning\n",
        "  - [Part 1: A Decision Tree](http://www.r2d3.us/visual-intro-to-machine-learning-part-1/)\n",
        "  - [Part 2: Bias and Variance](http://www.r2d3.us/visual-intro-to-machine-learning-part-2/)\n",
        "- [Decision Trees: Advantages & Disadvantages](https://christophm.github.io/interpretable-ml-book/tree.html#advantages-2)\n",
        "- [How a Russian mathematician constructed a decision tree — by hand — to solve a medical problem](http://fastml.com/how-a-russian-mathematician-constructed-a-decision-tree-by-hand-to-solve-a-medical-problem/)\n",
        "- [How decision trees work](https://brohrer.github.io/how_decision_trees_work.html)\n",
        "- [Let’s Write a Decision Tree Classifier from Scratch](https://www.youtube.com/watch?v=LDRbO9a6XPU) — _Don’t worry about understanding the code, just get introduced to the concepts. This 10 minute video has excellent diagrams and explanations._\n",
        "- [Random Forests for Complete Beginners: The definitive guide to Random Forests and Decision Trees](https://victorzhou.com/blog/intro-to-random-forests/)\n",
        "\n",
        "\n",
        "### Doing\n",
        "- [ ] Add your own stretch goal(s) !\n",
        "- [ ] Try other [scikit-learn imputers](https://scikit-learn.org/stable/modules/impute.html).\n",
        "- [ ] Make exploratory visualizations and share on Slack.\n",
        "\n",
        "\n",
        "#### Exploratory visualizations\n",
        "\n",
        "Visualize the relationships between feature(s) and target. I recommend you do this with your training set, after splitting your data. \n",
        "\n",
        "For this problem, you may want to create a new column to represent the target as a number, 0 or 1. For example:\n",
        "\n",
        "```python\n",
        "train['functional'] = (train['status_group']=='functional').astype(int)\n",
        "```\n",
        "\n",
        "\n",
        "\n",
        "You can try [Seaborn \"Categorical estimate\" plots](https://seaborn.pydata.org/tutorial/categorical.html) for features with reasonably few unique values. (With too many unique values, the plot is unreadable.)\n",
        "\n",
        "- Categorical features. (If there are too many unique values, you can replace less frequent values with \"OTHER.\")\n",
        "- Numeric features. (If there are too many unique values, you can [bin with pandas cut / qcut functions](https://pandas.pydata.org/pandas-docs/stable/getting_started/basics.html?highlight=qcut#discretization-and-quantiling).)\n",
        "\n",
        "You can try [Seaborn linear model plots](https://seaborn.pydata.org/tutorial/regression.html) with numeric features. For this classification problem, you may want to use the parameter `logistic=True`, but it can be slow.\n",
        "\n",
        "You do _not_ need to use Seaborn, but it's nice because it includes confidence intervals to visualize uncertainty.\n",
        "\n",
        "#### High-cardinality categoricals\n",
        "\n",
        "This code from a previous assignment demonstrates how to replace less frequent values with 'OTHER'\n",
        "\n",
        "```python\n",
        "# Reduce cardinality for NEIGHBORHOOD feature ...\n",
        "\n",
        "# Get a list of the top 10 neighborhoods\n",
        "top10 = train['NEIGHBORHOOD'].value_counts()[:10].index\n",
        "\n",
        "# At locations where the neighborhood is NOT in the top 10,\n",
        "# replace the neighborhood with 'OTHER'\n",
        "train.loc[~train['NEIGHBORHOOD'].isin(top10), 'NEIGHBORHOOD'] = 'OTHER'\n",
        "test.loc[~test['NEIGHBORHOOD'].isin(top10), 'NEIGHBORHOOD'] = 'OTHER'\n",
        "```\n"
      ]
    },
    {
      "cell_type": "markdown",
      "metadata": {
        "id": "bYMaB6CJopI0",
        "colab_type": "text"
      },
      "source": [
        "#Import"
      ]
    },
    {
      "cell_type": "code",
      "metadata": {
        "colab_type": "code",
        "id": "o9eSnDYhUGD7",
        "colab": {
          "base_uri": "https://localhost:8080/",
          "height": 269
        },
        "outputId": "920527b0-3dcd-4d4f-b8d4-ccc11b68b427"
      },
      "source": [
        "import sys\n",
        "\n",
        "# If you're on Colab:\n",
        "if 'google.colab' in sys.modules:\n",
        "    DATA_PATH = 'https://raw.githubusercontent.com/LambdaSchool/DS-Unit-2-Kaggle-Challenge/master/data/'\n",
        "    !pip install category_encoders==2.*\n",
        "\n",
        "# If you're working locally:\n",
        "else:\n",
        "    DATA_PATH = '../data/'"
      ],
      "execution_count": 1,
      "outputs": [
        {
          "output_type": "stream",
          "text": [
            "Collecting category_encoders==2.*\n",
            "\u001b[?25l  Downloading https://files.pythonhosted.org/packages/a0/52/c54191ad3782de633ea3d6ee3bb2837bda0cf3bc97644bb6375cf14150a0/category_encoders-2.1.0-py2.py3-none-any.whl (100kB)\n",
            "\r\u001b[K     |███▎                            | 10kB 14.8MB/s eta 0:00:01\r\u001b[K     |██████▌                         | 20kB 3.2MB/s eta 0:00:01\r\u001b[K     |█████████▉                      | 30kB 4.5MB/s eta 0:00:01\r\u001b[K     |█████████████                   | 40kB 3.0MB/s eta 0:00:01\r\u001b[K     |████████████████▍               | 51kB 3.6MB/s eta 0:00:01\r\u001b[K     |███████████████████▋            | 61kB 4.3MB/s eta 0:00:01\r\u001b[K     |██████████████████████▉         | 71kB 4.9MB/s eta 0:00:01\r\u001b[K     |██████████████████████████▏     | 81kB 5.5MB/s eta 0:00:01\r\u001b[K     |█████████████████████████████▍  | 92kB 6.1MB/s eta 0:00:01\r\u001b[K     |████████████████████████████████| 102kB 4.6MB/s \n",
            "\u001b[?25hRequirement already satisfied: pandas>=0.21.1 in /usr/local/lib/python3.6/dist-packages (from category_encoders==2.*) (0.24.2)\n",
            "Requirement already satisfied: statsmodels>=0.6.1 in /usr/local/lib/python3.6/dist-packages (from category_encoders==2.*) (0.10.1)\n",
            "Requirement already satisfied: patsy>=0.4.1 in /usr/local/lib/python3.6/dist-packages (from category_encoders==2.*) (0.5.1)\n",
            "Requirement already satisfied: scikit-learn>=0.20.0 in /usr/local/lib/python3.6/dist-packages (from category_encoders==2.*) (0.21.3)\n",
            "Requirement already satisfied: scipy>=0.19.0 in /usr/local/lib/python3.6/dist-packages (from category_encoders==2.*) (1.3.1)\n",
            "Requirement already satisfied: numpy>=1.11.3 in /usr/local/lib/python3.6/dist-packages (from category_encoders==2.*) (1.16.5)\n",
            "Requirement already satisfied: pytz>=2011k in /usr/local/lib/python3.6/dist-packages (from pandas>=0.21.1->category_encoders==2.*) (2018.9)\n",
            "Requirement already satisfied: python-dateutil>=2.5.0 in /usr/local/lib/python3.6/dist-packages (from pandas>=0.21.1->category_encoders==2.*) (2.5.3)\n",
            "Requirement already satisfied: six in /usr/local/lib/python3.6/dist-packages (from patsy>=0.4.1->category_encoders==2.*) (1.12.0)\n",
            "Requirement already satisfied: joblib>=0.11 in /usr/local/lib/python3.6/dist-packages (from scikit-learn>=0.20.0->category_encoders==2.*) (0.13.2)\n",
            "Installing collected packages: category-encoders\n",
            "Successfully installed category-encoders-2.1.0\n"
          ],
          "name": "stdout"
        }
      ]
    },
    {
      "cell_type": "code",
      "metadata": {
        "colab_type": "code",
        "id": "QJBD4ruICm1m",
        "colab": {
          "base_uri": "https://localhost:8080/",
          "height": 34
        },
        "outputId": "8638ca48-cf78-4d5d-c0f3-b1f5de417c52"
      },
      "source": [
        "import pandas as pd\n",
        "from sklearn.model_selection import train_test_split\n",
        "\n",
        "train = pd.merge(pd.read_csv(DATA_PATH+'waterpumps/train_features.csv'), \n",
        "                 pd.read_csv(DATA_PATH+'waterpumps/train_labels.csv'))\n",
        "test = pd.read_csv(DATA_PATH+'waterpumps/test_features.csv')\n",
        "sample_submission = pd.read_csv(DATA_PATH+'waterpumps/sample_submission.csv')\n",
        "\n",
        "train.shape, test.shape"
      ],
      "execution_count": 2,
      "outputs": [
        {
          "output_type": "execute_result",
          "data": {
            "text/plain": [
              "((59400, 41), (14358, 40))"
            ]
          },
          "metadata": {
            "tags": []
          },
          "execution_count": 2
        }
      ]
    },
    {
      "cell_type": "code",
      "metadata": {
        "id": "xev-H1iyzFfn",
        "colab_type": "code",
        "colab": {}
      },
      "source": [
        "import numpy as np\n",
        "import category_encoders as ce\n",
        "from sklearn.pipeline import make_pipeline\n",
        "from sklearn.linear_model import LinearRegression, LogisticRegression\n",
        "from sklearn.tree import DecisionTreeClassifier\n",
        "from sklearn.impute import SimpleImputer\n",
        "from sklearn.preprocessing import StandardScaler"
      ],
      "execution_count": 0,
      "outputs": []
    },
    {
      "cell_type": "markdown",
      "metadata": {
        "id": "ZJ6n58WgoruU",
        "colab_type": "text"
      },
      "source": [
        "# Train/val/test split"
      ]
    },
    {
      "cell_type": "code",
      "metadata": {
        "colab_type": "code",
        "id": "2Amxyx3xphbb",
        "colab": {
          "base_uri": "https://localhost:8080/",
          "height": 34
        },
        "outputId": "60fb96f3-43dd-4ce8-ca65-507c4b55f969"
      },
      "source": [
        "my_train, my_val = train_test_split(train)\n",
        "my_train.shape, my_val.shape"
      ],
      "execution_count": 4,
      "outputs": [
        {
          "output_type": "execute_result",
          "data": {
            "text/plain": [
              "((44550, 41), (14850, 41))"
            ]
          },
          "metadata": {
            "tags": []
          },
          "execution_count": 4
        }
      ]
    },
    {
      "cell_type": "markdown",
      "metadata": {
        "id": "xcAVP8OcovZN",
        "colab_type": "text"
      },
      "source": [
        "# Feature engineering"
      ]
    },
    {
      "cell_type": "markdown",
      "metadata": {
        "id": "3IeIJwCm2cGV",
        "colab_type": "text"
      },
      "source": [
        "## Copy"
      ]
    },
    {
      "cell_type": "code",
      "metadata": {
        "id": "lCC3lmg6n8CH",
        "colab_type": "code",
        "colab": {}
      },
      "source": [
        "# Let's create a copy of the train data set to do some feature engineering tests\n",
        "# to explore and build code for our function later (we'll name it x to match up\n",
        "# with our function so we can easily copy paste bits we like)\n",
        "x = train.copy()"
      ],
      "execution_count": 0,
      "outputs": []
    },
    {
      "cell_type": "code",
      "metadata": {
        "id": "zudCmhA3pSEm",
        "colab_type": "code",
        "colab": {}
      },
      "source": [
        "# Let's cat code the status_group so we can use .corr() to look at some of the\n",
        "# numeric features' correlations\n",
        "x['functionality'] = x['status_group'].astype('category').cat.codes"
      ],
      "execution_count": 0,
      "outputs": []
    },
    {
      "cell_type": "code",
      "metadata": {
        "id": "1LWY1OJ0pdNO",
        "colab_type": "code",
        "colab": {
          "base_uri": "https://localhost:8080/",
          "height": 0
        },
        "outputId": "3dcaee03-c1ae-4c11-cee4-306bf2b735a8"
      },
      "source": [
        "x['functionality'].value_counts()"
      ],
      "execution_count": 257,
      "outputs": [
        {
          "output_type": "execute_result",
          "data": {
            "text/plain": [
              "0    32259\n",
              "2    22824\n",
              "1     4317\n",
              "Name: functionality, dtype: int64"
            ]
          },
          "metadata": {
            "tags": []
          },
          "execution_count": 257
        }
      ]
    },
    {
      "cell_type": "code",
      "metadata": {
        "id": "teh0H0mHpjG7",
        "colab_type": "code",
        "colab": {
          "base_uri": "https://localhost:8080/",
          "height": 0
        },
        "outputId": "c3eb7dde-31a1-4c75-a064-640c9131bc69"
      },
      "source": [
        "x['status_group'].value_counts()"
      ],
      "execution_count": 258,
      "outputs": [
        {
          "output_type": "execute_result",
          "data": {
            "text/plain": [
              "functional                 32259\n",
              "non functional             22824\n",
              "functional needs repair     4317\n",
              "Name: status_group, dtype: int64"
            ]
          },
          "metadata": {
            "tags": []
          },
          "execution_count": 258
        }
      ]
    },
    {
      "cell_type": "code",
      "metadata": {
        "id": "eN0VJ0ChusYB",
        "colab_type": "code",
        "colab": {
          "base_uri": "https://localhost:8080/",
          "height": 0
        },
        "outputId": "127257a1-ea76-4377-bf7f-2b23e180b273"
      },
      "source": [
        "# This will be more usefull later when we cat code some of the other features\n",
        "x.corr()"
      ],
      "execution_count": 259,
      "outputs": [
        {
          "output_type": "execute_result",
          "data": {
            "text/html": [
              "<div>\n",
              "<style scoped>\n",
              "    .dataframe tbody tr th:only-of-type {\n",
              "        vertical-align: middle;\n",
              "    }\n",
              "\n",
              "    .dataframe tbody tr th {\n",
              "        vertical-align: top;\n",
              "    }\n",
              "\n",
              "    .dataframe thead th {\n",
              "        text-align: right;\n",
              "    }\n",
              "</style>\n",
              "<table border=\"1\" class=\"dataframe\">\n",
              "  <thead>\n",
              "    <tr style=\"text-align: right;\">\n",
              "      <th></th>\n",
              "      <th>id</th>\n",
              "      <th>amount_tsh</th>\n",
              "      <th>gps_height</th>\n",
              "      <th>longitude</th>\n",
              "      <th>latitude</th>\n",
              "      <th>num_private</th>\n",
              "      <th>region_code</th>\n",
              "      <th>district_code</th>\n",
              "      <th>population</th>\n",
              "      <th>construction_year</th>\n",
              "      <th>functionality</th>\n",
              "    </tr>\n",
              "  </thead>\n",
              "  <tbody>\n",
              "    <tr>\n",
              "      <th>id</th>\n",
              "      <td>1.000000</td>\n",
              "      <td>-0.005321</td>\n",
              "      <td>-0.004692</td>\n",
              "      <td>-0.001348</td>\n",
              "      <td>0.001718</td>\n",
              "      <td>-0.002629</td>\n",
              "      <td>-0.003028</td>\n",
              "      <td>-0.003044</td>\n",
              "      <td>-0.002813</td>\n",
              "      <td>-0.002082</td>\n",
              "      <td>0.004049</td>\n",
              "    </tr>\n",
              "    <tr>\n",
              "      <th>amount_tsh</th>\n",
              "      <td>-0.005321</td>\n",
              "      <td>1.000000</td>\n",
              "      <td>0.076650</td>\n",
              "      <td>0.022134</td>\n",
              "      <td>-0.052670</td>\n",
              "      <td>0.002944</td>\n",
              "      <td>-0.026813</td>\n",
              "      <td>-0.023599</td>\n",
              "      <td>0.016288</td>\n",
              "      <td>0.067915</td>\n",
              "      <td>-0.053702</td>\n",
              "    </tr>\n",
              "    <tr>\n",
              "      <th>gps_height</th>\n",
              "      <td>-0.004692</td>\n",
              "      <td>0.076650</td>\n",
              "      <td>1.000000</td>\n",
              "      <td>0.149155</td>\n",
              "      <td>-0.035751</td>\n",
              "      <td>0.007237</td>\n",
              "      <td>-0.183521</td>\n",
              "      <td>-0.171233</td>\n",
              "      <td>0.135003</td>\n",
              "      <td>0.658727</td>\n",
              "      <td>-0.114029</td>\n",
              "    </tr>\n",
              "    <tr>\n",
              "      <th>longitude</th>\n",
              "      <td>-0.001348</td>\n",
              "      <td>0.022134</td>\n",
              "      <td>0.149155</td>\n",
              "      <td>1.000000</td>\n",
              "      <td>-0.425802</td>\n",
              "      <td>0.023873</td>\n",
              "      <td>0.034197</td>\n",
              "      <td>0.151398</td>\n",
              "      <td>0.086590</td>\n",
              "      <td>0.396732</td>\n",
              "      <td>0.004366</td>\n",
              "    </tr>\n",
              "    <tr>\n",
              "      <th>latitude</th>\n",
              "      <td>0.001718</td>\n",
              "      <td>-0.052670</td>\n",
              "      <td>-0.035751</td>\n",
              "      <td>-0.425802</td>\n",
              "      <td>1.000000</td>\n",
              "      <td>0.006837</td>\n",
              "      <td>-0.221018</td>\n",
              "      <td>-0.201020</td>\n",
              "      <td>-0.022152</td>\n",
              "      <td>-0.245278</td>\n",
              "      <td>-0.014547</td>\n",
              "    </tr>\n",
              "    <tr>\n",
              "      <th>num_private</th>\n",
              "      <td>-0.002629</td>\n",
              "      <td>0.002944</td>\n",
              "      <td>0.007237</td>\n",
              "      <td>0.023873</td>\n",
              "      <td>0.006837</td>\n",
              "      <td>1.000000</td>\n",
              "      <td>-0.020377</td>\n",
              "      <td>-0.004478</td>\n",
              "      <td>0.003818</td>\n",
              "      <td>0.026056</td>\n",
              "      <td>-0.005021</td>\n",
              "    </tr>\n",
              "    <tr>\n",
              "      <th>region_code</th>\n",
              "      <td>-0.003028</td>\n",
              "      <td>-0.026813</td>\n",
              "      <td>-0.183521</td>\n",
              "      <td>0.034197</td>\n",
              "      <td>-0.221018</td>\n",
              "      <td>-0.020377</td>\n",
              "      <td>1.000000</td>\n",
              "      <td>0.678602</td>\n",
              "      <td>0.094088</td>\n",
              "      <td>0.031724</td>\n",
              "      <td>0.108640</td>\n",
              "    </tr>\n",
              "    <tr>\n",
              "      <th>district_code</th>\n",
              "      <td>-0.003044</td>\n",
              "      <td>-0.023599</td>\n",
              "      <td>-0.171233</td>\n",
              "      <td>0.151398</td>\n",
              "      <td>-0.201020</td>\n",
              "      <td>-0.004478</td>\n",
              "      <td>0.678602</td>\n",
              "      <td>1.000000</td>\n",
              "      <td>0.061831</td>\n",
              "      <td>0.048315</td>\n",
              "      <td>0.065687</td>\n",
              "    </tr>\n",
              "    <tr>\n",
              "      <th>population</th>\n",
              "      <td>-0.002813</td>\n",
              "      <td>0.016288</td>\n",
              "      <td>0.135003</td>\n",
              "      <td>0.086590</td>\n",
              "      <td>-0.022152</td>\n",
              "      <td>0.003818</td>\n",
              "      <td>0.094088</td>\n",
              "      <td>0.061831</td>\n",
              "      <td>1.000000</td>\n",
              "      <td>0.260910</td>\n",
              "      <td>-0.017759</td>\n",
              "    </tr>\n",
              "    <tr>\n",
              "      <th>construction_year</th>\n",
              "      <td>-0.002082</td>\n",
              "      <td>0.067915</td>\n",
              "      <td>0.658727</td>\n",
              "      <td>0.396732</td>\n",
              "      <td>-0.245278</td>\n",
              "      <td>0.026056</td>\n",
              "      <td>0.031724</td>\n",
              "      <td>0.048315</td>\n",
              "      <td>0.260910</td>\n",
              "      <td>1.000000</td>\n",
              "      <td>-0.043342</td>\n",
              "    </tr>\n",
              "    <tr>\n",
              "      <th>functionality</th>\n",
              "      <td>0.004049</td>\n",
              "      <td>-0.053702</td>\n",
              "      <td>-0.114029</td>\n",
              "      <td>0.004366</td>\n",
              "      <td>-0.014547</td>\n",
              "      <td>-0.005021</td>\n",
              "      <td>0.108640</td>\n",
              "      <td>0.065687</td>\n",
              "      <td>-0.017759</td>\n",
              "      <td>-0.043342</td>\n",
              "      <td>1.000000</td>\n",
              "    </tr>\n",
              "  </tbody>\n",
              "</table>\n",
              "</div>"
            ],
            "text/plain": [
              "                         id  amount_tsh  ...  construction_year  functionality\n",
              "id                 1.000000   -0.005321  ...          -0.002082       0.004049\n",
              "amount_tsh        -0.005321    1.000000  ...           0.067915      -0.053702\n",
              "gps_height        -0.004692    0.076650  ...           0.658727      -0.114029\n",
              "longitude         -0.001348    0.022134  ...           0.396732       0.004366\n",
              "latitude           0.001718   -0.052670  ...          -0.245278      -0.014547\n",
              "num_private       -0.002629    0.002944  ...           0.026056      -0.005021\n",
              "region_code       -0.003028   -0.026813  ...           0.031724       0.108640\n",
              "district_code     -0.003044   -0.023599  ...           0.048315       0.065687\n",
              "population        -0.002813    0.016288  ...           0.260910      -0.017759\n",
              "construction_year -0.002082    0.067915  ...           1.000000      -0.043342\n",
              "functionality      0.004049   -0.053702  ...          -0.043342       1.000000\n",
              "\n",
              "[11 rows x 11 columns]"
            ]
          },
          "metadata": {
            "tags": []
          },
          "execution_count": 259
        }
      ]
    },
    {
      "cell_type": "markdown",
      "metadata": {
        "id": "hnze6jgaBPhy",
        "colab_type": "text"
      },
      "source": [
        "## Time from construction to inspection"
      ]
    },
    {
      "cell_type": "code",
      "metadata": {
        "id": "ONJoDzlwBSKd",
        "colab_type": "code",
        "colab": {
          "base_uri": "https://localhost:8080/",
          "height": 0
        },
        "outputId": "04350791-d182-4d3b-d2cf-d706f6ec2571"
      },
      "source": [
        "# Replace date_recorded with an int of just the year\n",
        "x['date_recorded'] = x['date_recorded'].str[:4].astype(int)\n",
        "x['date_recorded'].value_counts()"
      ],
      "execution_count": 377,
      "outputs": [
        {
          "output_type": "execute_result",
          "data": {
            "text/plain": [
              "2011    28674\n",
              "2013    24271\n",
              "2012     6424\n",
              "2004       30\n",
              "2002        1\n",
              "Name: date_recorded, dtype: int64"
            ]
          },
          "metadata": {
            "tags": []
          },
          "execution_count": 377
        }
      ]
    },
    {
      "cell_type": "code",
      "metadata": {
        "id": "hJ8X-4wHD5i0",
        "colab_type": "code",
        "colab": {
          "base_uri": "https://localhost:8080/",
          "height": 0
        },
        "outputId": "157704c4-8f70-4a63-f60b-0af4abc0895d"
      },
      "source": [
        "# May have an issue with having many 0's in construction_year we can deal with \n",
        "# it later in the new feature\n",
        "x['construction_year'].value_counts()[:5]"
      ],
      "execution_count": 378,
      "outputs": [
        {
          "output_type": "execute_result",
          "data": {
            "text/plain": [
              "0       20709\n",
              "2010     2645\n",
              "2008     2613\n",
              "2009     2533\n",
              "2000     2091\n",
              "Name: construction_year, dtype: int64"
            ]
          },
          "metadata": {
            "tags": []
          },
          "execution_count": 378
        }
      ]
    },
    {
      "cell_type": "code",
      "metadata": {
        "id": "bbvYVqS7ETtB",
        "colab_type": "code",
        "colab": {
          "base_uri": "https://localhost:8080/",
          "height": 0
        },
        "outputId": "57b1769b-995e-4654-91dc-9094b67922e7"
      },
      "source": [
        "x['years_before_service'] = x['date_recorded'] - x['construction_year']\n",
        "x['years_before_service'].value_counts()"
      ],
      "execution_count": 379,
      "outputs": [
        {
          "output_type": "execute_result",
          "data": {
            "text/plain": [
              " 2011    13343\n",
              " 2012     5142\n",
              " 3        2740\n",
              " 1        2303\n",
              " 2013     2210\n",
              " 2        2129\n",
              " 5        1980\n",
              " 4        1890\n",
              " 13       1869\n",
              " 7        1404\n",
              " 6        1381\n",
              " 11       1352\n",
              " 8        1160\n",
              " 14       1160\n",
              " 33       1120\n",
              " 15        993\n",
              " 23        905\n",
              " 10        868\n",
              " 16        826\n",
              " 9         814\n",
              " 19        766\n",
              " 27        762\n",
              " 18        754\n",
              " 31        709\n",
              " 28        709\n",
              " 35        647\n",
              " 17        636\n",
              " 39        601\n",
              " 37        600\n",
              " 26        589\n",
              "         ...  \n",
              " 20        541\n",
              " 41        488\n",
              " 30        359\n",
              " 43        356\n",
              " 38        351\n",
              " 36        325\n",
              " 22        323\n",
              " 24        261\n",
              " 40        233\n",
              " 34        184\n",
              " 32        174\n",
              " 53         91\n",
              " 42         90\n",
              " 50         84\n",
              " 45         66\n",
              " 46         48\n",
              " 44         47\n",
              " 48         41\n",
              " 51         31\n",
              " 49         25\n",
              " 47         14\n",
              " 2004       13\n",
              " 52         11\n",
              "-5           3\n",
              "-4           2\n",
              "-1           1\n",
              "-3           1\n",
              "-2           1\n",
              " 2002        1\n",
              "-7           1\n",
              "Name: years_before_service, Length: 65, dtype: int64"
            ]
          },
          "metadata": {
            "tags": []
          },
          "execution_count": 379
        }
      ]
    },
    {
      "cell_type": "code",
      "metadata": {
        "id": "umYynDd4FEgx",
        "colab_type": "code",
        "colab": {
          "base_uri": "https://localhost:8080/",
          "height": 0
        },
        "outputId": "af9b12b7-4f47-436b-8ef7-008acc8be51c"
      },
      "source": [
        "# Negatives???? Something isn't right!\n",
        "x[['date_recorded', 'construction_year', 'years_before_service']][x['years_before_service']<0]"
      ],
      "execution_count": 380,
      "outputs": [
        {
          "output_type": "execute_result",
          "data": {
            "text/html": [
              "<div>\n",
              "<style scoped>\n",
              "    .dataframe tbody tr th:only-of-type {\n",
              "        vertical-align: middle;\n",
              "    }\n",
              "\n",
              "    .dataframe tbody tr th {\n",
              "        vertical-align: top;\n",
              "    }\n",
              "\n",
              "    .dataframe thead th {\n",
              "        text-align: right;\n",
              "    }\n",
              "</style>\n",
              "<table border=\"1\" class=\"dataframe\">\n",
              "  <thead>\n",
              "    <tr style=\"text-align: right;\">\n",
              "      <th></th>\n",
              "      <th>date_recorded</th>\n",
              "      <th>construction_year</th>\n",
              "      <th>years_before_service</th>\n",
              "    </tr>\n",
              "  </thead>\n",
              "  <tbody>\n",
              "    <tr>\n",
              "      <th>8729</th>\n",
              "      <td>2004</td>\n",
              "      <td>2008</td>\n",
              "      <td>-4</td>\n",
              "    </tr>\n",
              "    <tr>\n",
              "      <th>10441</th>\n",
              "      <td>2004</td>\n",
              "      <td>2006</td>\n",
              "      <td>-2</td>\n",
              "    </tr>\n",
              "    <tr>\n",
              "      <th>13366</th>\n",
              "      <td>2004</td>\n",
              "      <td>2011</td>\n",
              "      <td>-7</td>\n",
              "    </tr>\n",
              "    <tr>\n",
              "      <th>23373</th>\n",
              "      <td>2004</td>\n",
              "      <td>2009</td>\n",
              "      <td>-5</td>\n",
              "    </tr>\n",
              "    <tr>\n",
              "      <th>27501</th>\n",
              "      <td>2004</td>\n",
              "      <td>2009</td>\n",
              "      <td>-5</td>\n",
              "    </tr>\n",
              "    <tr>\n",
              "      <th>32619</th>\n",
              "      <td>2004</td>\n",
              "      <td>2005</td>\n",
              "      <td>-1</td>\n",
              "    </tr>\n",
              "    <tr>\n",
              "      <th>33942</th>\n",
              "      <td>2004</td>\n",
              "      <td>2007</td>\n",
              "      <td>-3</td>\n",
              "    </tr>\n",
              "    <tr>\n",
              "      <th>39559</th>\n",
              "      <td>2004</td>\n",
              "      <td>2009</td>\n",
              "      <td>-5</td>\n",
              "    </tr>\n",
              "    <tr>\n",
              "      <th>48555</th>\n",
              "      <td>2004</td>\n",
              "      <td>2008</td>\n",
              "      <td>-4</td>\n",
              "    </tr>\n",
              "  </tbody>\n",
              "</table>\n",
              "</div>"
            ],
            "text/plain": [
              "       date_recorded  construction_year  years_before_service\n",
              "8729            2004               2008                    -4\n",
              "10441           2004               2006                    -2\n",
              "13366           2004               2011                    -7\n",
              "23373           2004               2009                    -5\n",
              "27501           2004               2009                    -5\n",
              "32619           2004               2005                    -1\n",
              "33942           2004               2007                    -3\n",
              "39559           2004               2009                    -5\n",
              "48555           2004               2008                    -4"
            ]
          },
          "metadata": {
            "tags": []
          },
          "execution_count": 380
        }
      ]
    },
    {
      "cell_type": "code",
      "metadata": {
        "id": "DndO3-pgJhXJ",
        "colab_type": "code",
        "colab": {
          "base_uri": "https://localhost:8080/",
          "height": 0
        },
        "outputId": "13dba15a-7560-400d-827f-f4c8f2138b60"
      },
      "source": [
        "# Dealing with our 0s from earlier\n",
        "x[['date_recorded', 'construction_year', 'years_before_service']][x['years_before_service']>100]"
      ],
      "execution_count": 381,
      "outputs": [
        {
          "output_type": "execute_result",
          "data": {
            "text/html": [
              "<div>\n",
              "<style scoped>\n",
              "    .dataframe tbody tr th:only-of-type {\n",
              "        vertical-align: middle;\n",
              "    }\n",
              "\n",
              "    .dataframe tbody tr th {\n",
              "        vertical-align: top;\n",
              "    }\n",
              "\n",
              "    .dataframe thead th {\n",
              "        text-align: right;\n",
              "    }\n",
              "</style>\n",
              "<table border=\"1\" class=\"dataframe\">\n",
              "  <thead>\n",
              "    <tr style=\"text-align: right;\">\n",
              "      <th></th>\n",
              "      <th>date_recorded</th>\n",
              "      <th>construction_year</th>\n",
              "      <th>years_before_service</th>\n",
              "    </tr>\n",
              "  </thead>\n",
              "  <tbody>\n",
              "    <tr>\n",
              "      <th>4</th>\n",
              "      <td>2011</td>\n",
              "      <td>0</td>\n",
              "      <td>2011</td>\n",
              "    </tr>\n",
              "    <tr>\n",
              "      <th>6</th>\n",
              "      <td>2012</td>\n",
              "      <td>0</td>\n",
              "      <td>2012</td>\n",
              "    </tr>\n",
              "    <tr>\n",
              "      <th>7</th>\n",
              "      <td>2012</td>\n",
              "      <td>0</td>\n",
              "      <td>2012</td>\n",
              "    </tr>\n",
              "    <tr>\n",
              "      <th>8</th>\n",
              "      <td>2012</td>\n",
              "      <td>0</td>\n",
              "      <td>2012</td>\n",
              "    </tr>\n",
              "    <tr>\n",
              "      <th>9</th>\n",
              "      <td>2011</td>\n",
              "      <td>0</td>\n",
              "      <td>2011</td>\n",
              "    </tr>\n",
              "    <tr>\n",
              "      <th>12</th>\n",
              "      <td>2012</td>\n",
              "      <td>0</td>\n",
              "      <td>2012</td>\n",
              "    </tr>\n",
              "    <tr>\n",
              "      <th>14</th>\n",
              "      <td>2012</td>\n",
              "      <td>0</td>\n",
              "      <td>2012</td>\n",
              "    </tr>\n",
              "    <tr>\n",
              "      <th>21</th>\n",
              "      <td>2013</td>\n",
              "      <td>0</td>\n",
              "      <td>2013</td>\n",
              "    </tr>\n",
              "    <tr>\n",
              "      <th>27</th>\n",
              "      <td>2011</td>\n",
              "      <td>0</td>\n",
              "      <td>2011</td>\n",
              "    </tr>\n",
              "    <tr>\n",
              "      <th>30</th>\n",
              "      <td>2011</td>\n",
              "      <td>0</td>\n",
              "      <td>2011</td>\n",
              "    </tr>\n",
              "    <tr>\n",
              "      <th>34</th>\n",
              "      <td>2011</td>\n",
              "      <td>0</td>\n",
              "      <td>2011</td>\n",
              "    </tr>\n",
              "    <tr>\n",
              "      <th>36</th>\n",
              "      <td>2011</td>\n",
              "      <td>0</td>\n",
              "      <td>2011</td>\n",
              "    </tr>\n",
              "    <tr>\n",
              "      <th>37</th>\n",
              "      <td>2011</td>\n",
              "      <td>0</td>\n",
              "      <td>2011</td>\n",
              "    </tr>\n",
              "    <tr>\n",
              "      <th>45</th>\n",
              "      <td>2012</td>\n",
              "      <td>0</td>\n",
              "      <td>2012</td>\n",
              "    </tr>\n",
              "    <tr>\n",
              "      <th>47</th>\n",
              "      <td>2011</td>\n",
              "      <td>0</td>\n",
              "      <td>2011</td>\n",
              "    </tr>\n",
              "    <tr>\n",
              "      <th>52</th>\n",
              "      <td>2011</td>\n",
              "      <td>0</td>\n",
              "      <td>2011</td>\n",
              "    </tr>\n",
              "    <tr>\n",
              "      <th>53</th>\n",
              "      <td>2011</td>\n",
              "      <td>0</td>\n",
              "      <td>2011</td>\n",
              "    </tr>\n",
              "    <tr>\n",
              "      <th>54</th>\n",
              "      <td>2011</td>\n",
              "      <td>0</td>\n",
              "      <td>2011</td>\n",
              "    </tr>\n",
              "    <tr>\n",
              "      <th>59</th>\n",
              "      <td>2011</td>\n",
              "      <td>0</td>\n",
              "      <td>2011</td>\n",
              "    </tr>\n",
              "    <tr>\n",
              "      <th>67</th>\n",
              "      <td>2011</td>\n",
              "      <td>0</td>\n",
              "      <td>2011</td>\n",
              "    </tr>\n",
              "    <tr>\n",
              "      <th>71</th>\n",
              "      <td>2011</td>\n",
              "      <td>0</td>\n",
              "      <td>2011</td>\n",
              "    </tr>\n",
              "    <tr>\n",
              "      <th>72</th>\n",
              "      <td>2011</td>\n",
              "      <td>0</td>\n",
              "      <td>2011</td>\n",
              "    </tr>\n",
              "    <tr>\n",
              "      <th>75</th>\n",
              "      <td>2011</td>\n",
              "      <td>0</td>\n",
              "      <td>2011</td>\n",
              "    </tr>\n",
              "    <tr>\n",
              "      <th>79</th>\n",
              "      <td>2012</td>\n",
              "      <td>0</td>\n",
              "      <td>2012</td>\n",
              "    </tr>\n",
              "    <tr>\n",
              "      <th>83</th>\n",
              "      <td>2012</td>\n",
              "      <td>0</td>\n",
              "      <td>2012</td>\n",
              "    </tr>\n",
              "    <tr>\n",
              "      <th>85</th>\n",
              "      <td>2011</td>\n",
              "      <td>0</td>\n",
              "      <td>2011</td>\n",
              "    </tr>\n",
              "    <tr>\n",
              "      <th>87</th>\n",
              "      <td>2011</td>\n",
              "      <td>0</td>\n",
              "      <td>2011</td>\n",
              "    </tr>\n",
              "    <tr>\n",
              "      <th>89</th>\n",
              "      <td>2011</td>\n",
              "      <td>0</td>\n",
              "      <td>2011</td>\n",
              "    </tr>\n",
              "    <tr>\n",
              "      <th>94</th>\n",
              "      <td>2011</td>\n",
              "      <td>0</td>\n",
              "      <td>2011</td>\n",
              "    </tr>\n",
              "    <tr>\n",
              "      <th>97</th>\n",
              "      <td>2011</td>\n",
              "      <td>0</td>\n",
              "      <td>2011</td>\n",
              "    </tr>\n",
              "    <tr>\n",
              "      <th>...</th>\n",
              "      <td>...</td>\n",
              "      <td>...</td>\n",
              "      <td>...</td>\n",
              "    </tr>\n",
              "    <tr>\n",
              "      <th>59310</th>\n",
              "      <td>2013</td>\n",
              "      <td>0</td>\n",
              "      <td>2013</td>\n",
              "    </tr>\n",
              "    <tr>\n",
              "      <th>59312</th>\n",
              "      <td>2011</td>\n",
              "      <td>0</td>\n",
              "      <td>2011</td>\n",
              "    </tr>\n",
              "    <tr>\n",
              "      <th>59324</th>\n",
              "      <td>2013</td>\n",
              "      <td>0</td>\n",
              "      <td>2013</td>\n",
              "    </tr>\n",
              "    <tr>\n",
              "      <th>59329</th>\n",
              "      <td>2013</td>\n",
              "      <td>0</td>\n",
              "      <td>2013</td>\n",
              "    </tr>\n",
              "    <tr>\n",
              "      <th>59334</th>\n",
              "      <td>2011</td>\n",
              "      <td>0</td>\n",
              "      <td>2011</td>\n",
              "    </tr>\n",
              "    <tr>\n",
              "      <th>59335</th>\n",
              "      <td>2011</td>\n",
              "      <td>0</td>\n",
              "      <td>2011</td>\n",
              "    </tr>\n",
              "    <tr>\n",
              "      <th>59339</th>\n",
              "      <td>2011</td>\n",
              "      <td>0</td>\n",
              "      <td>2011</td>\n",
              "    </tr>\n",
              "    <tr>\n",
              "      <th>59342</th>\n",
              "      <td>2011</td>\n",
              "      <td>0</td>\n",
              "      <td>2011</td>\n",
              "    </tr>\n",
              "    <tr>\n",
              "      <th>59344</th>\n",
              "      <td>2013</td>\n",
              "      <td>0</td>\n",
              "      <td>2013</td>\n",
              "    </tr>\n",
              "    <tr>\n",
              "      <th>59349</th>\n",
              "      <td>2012</td>\n",
              "      <td>0</td>\n",
              "      <td>2012</td>\n",
              "    </tr>\n",
              "    <tr>\n",
              "      <th>59350</th>\n",
              "      <td>2013</td>\n",
              "      <td>0</td>\n",
              "      <td>2013</td>\n",
              "    </tr>\n",
              "    <tr>\n",
              "      <th>59352</th>\n",
              "      <td>2011</td>\n",
              "      <td>0</td>\n",
              "      <td>2011</td>\n",
              "    </tr>\n",
              "    <tr>\n",
              "      <th>59354</th>\n",
              "      <td>2011</td>\n",
              "      <td>0</td>\n",
              "      <td>2011</td>\n",
              "    </tr>\n",
              "    <tr>\n",
              "      <th>59359</th>\n",
              "      <td>2011</td>\n",
              "      <td>0</td>\n",
              "      <td>2011</td>\n",
              "    </tr>\n",
              "    <tr>\n",
              "      <th>59360</th>\n",
              "      <td>2011</td>\n",
              "      <td>0</td>\n",
              "      <td>2011</td>\n",
              "    </tr>\n",
              "    <tr>\n",
              "      <th>59361</th>\n",
              "      <td>2012</td>\n",
              "      <td>0</td>\n",
              "      <td>2012</td>\n",
              "    </tr>\n",
              "    <tr>\n",
              "      <th>59364</th>\n",
              "      <td>2011</td>\n",
              "      <td>0</td>\n",
              "      <td>2011</td>\n",
              "    </tr>\n",
              "    <tr>\n",
              "      <th>59368</th>\n",
              "      <td>2011</td>\n",
              "      <td>0</td>\n",
              "      <td>2011</td>\n",
              "    </tr>\n",
              "    <tr>\n",
              "      <th>59369</th>\n",
              "      <td>2011</td>\n",
              "      <td>0</td>\n",
              "      <td>2011</td>\n",
              "    </tr>\n",
              "    <tr>\n",
              "      <th>59370</th>\n",
              "      <td>2013</td>\n",
              "      <td>0</td>\n",
              "      <td>2013</td>\n",
              "    </tr>\n",
              "    <tr>\n",
              "      <th>59371</th>\n",
              "      <td>2012</td>\n",
              "      <td>0</td>\n",
              "      <td>2012</td>\n",
              "    </tr>\n",
              "    <tr>\n",
              "      <th>59372</th>\n",
              "      <td>2012</td>\n",
              "      <td>0</td>\n",
              "      <td>2012</td>\n",
              "    </tr>\n",
              "    <tr>\n",
              "      <th>59374</th>\n",
              "      <td>2012</td>\n",
              "      <td>0</td>\n",
              "      <td>2012</td>\n",
              "    </tr>\n",
              "    <tr>\n",
              "      <th>59377</th>\n",
              "      <td>2012</td>\n",
              "      <td>0</td>\n",
              "      <td>2012</td>\n",
              "    </tr>\n",
              "    <tr>\n",
              "      <th>59379</th>\n",
              "      <td>2011</td>\n",
              "      <td>0</td>\n",
              "      <td>2011</td>\n",
              "    </tr>\n",
              "    <tr>\n",
              "      <th>59384</th>\n",
              "      <td>2011</td>\n",
              "      <td>0</td>\n",
              "      <td>2011</td>\n",
              "    </tr>\n",
              "    <tr>\n",
              "      <th>59392</th>\n",
              "      <td>2011</td>\n",
              "      <td>0</td>\n",
              "      <td>2011</td>\n",
              "    </tr>\n",
              "    <tr>\n",
              "      <th>59393</th>\n",
              "      <td>2012</td>\n",
              "      <td>0</td>\n",
              "      <td>2012</td>\n",
              "    </tr>\n",
              "    <tr>\n",
              "      <th>59397</th>\n",
              "      <td>2011</td>\n",
              "      <td>0</td>\n",
              "      <td>2011</td>\n",
              "    </tr>\n",
              "    <tr>\n",
              "      <th>59398</th>\n",
              "      <td>2011</td>\n",
              "      <td>0</td>\n",
              "      <td>2011</td>\n",
              "    </tr>\n",
              "  </tbody>\n",
              "</table>\n",
              "<p>20709 rows × 3 columns</p>\n",
              "</div>"
            ],
            "text/plain": [
              "       date_recorded  construction_year  years_before_service\n",
              "4               2011                  0                  2011\n",
              "6               2012                  0                  2012\n",
              "7               2012                  0                  2012\n",
              "8               2012                  0                  2012\n",
              "9               2011                  0                  2011\n",
              "12              2012                  0                  2012\n",
              "14              2012                  0                  2012\n",
              "21              2013                  0                  2013\n",
              "27              2011                  0                  2011\n",
              "30              2011                  0                  2011\n",
              "34              2011                  0                  2011\n",
              "36              2011                  0                  2011\n",
              "37              2011                  0                  2011\n",
              "45              2012                  0                  2012\n",
              "47              2011                  0                  2011\n",
              "52              2011                  0                  2011\n",
              "53              2011                  0                  2011\n",
              "54              2011                  0                  2011\n",
              "59              2011                  0                  2011\n",
              "67              2011                  0                  2011\n",
              "71              2011                  0                  2011\n",
              "72              2011                  0                  2011\n",
              "75              2011                  0                  2011\n",
              "79              2012                  0                  2012\n",
              "83              2012                  0                  2012\n",
              "85              2011                  0                  2011\n",
              "87              2011                  0                  2011\n",
              "89              2011                  0                  2011\n",
              "94              2011                  0                  2011\n",
              "97              2011                  0                  2011\n",
              "...              ...                ...                   ...\n",
              "59310           2013                  0                  2013\n",
              "59312           2011                  0                  2011\n",
              "59324           2013                  0                  2013\n",
              "59329           2013                  0                  2013\n",
              "59334           2011                  0                  2011\n",
              "59335           2011                  0                  2011\n",
              "59339           2011                  0                  2011\n",
              "59342           2011                  0                  2011\n",
              "59344           2013                  0                  2013\n",
              "59349           2012                  0                  2012\n",
              "59350           2013                  0                  2013\n",
              "59352           2011                  0                  2011\n",
              "59354           2011                  0                  2011\n",
              "59359           2011                  0                  2011\n",
              "59360           2011                  0                  2011\n",
              "59361           2012                  0                  2012\n",
              "59364           2011                  0                  2011\n",
              "59368           2011                  0                  2011\n",
              "59369           2011                  0                  2011\n",
              "59370           2013                  0                  2013\n",
              "59371           2012                  0                  2012\n",
              "59372           2012                  0                  2012\n",
              "59374           2012                  0                  2012\n",
              "59377           2012                  0                  2012\n",
              "59379           2011                  0                  2011\n",
              "59384           2011                  0                  2011\n",
              "59392           2011                  0                  2011\n",
              "59393           2012                  0                  2012\n",
              "59397           2011                  0                  2011\n",
              "59398           2011                  0                  2011\n",
              "\n",
              "[20709 rows x 3 columns]"
            ]
          },
          "metadata": {
            "tags": []
          },
          "execution_count": 381
        }
      ]
    },
    {
      "cell_type": "code",
      "metadata": {
        "id": "ZXT1uH03IKOT",
        "colab_type": "code",
        "colab": {}
      },
      "source": [
        "# Either someone is collecting data poorly or someone is trying to look good!\n",
        "# Let's replace all values that are missing with 0\n",
        "x.loc[(x['years_before_service']<0) | (x['years_before_service']>100), 'years_before_service'] = 0"
      ],
      "execution_count": 0,
      "outputs": []
    },
    {
      "cell_type": "code",
      "metadata": {
        "id": "edTped0uI0yu",
        "colab_type": "code",
        "colab": {
          "base_uri": "https://localhost:8080/",
          "height": 0
        },
        "outputId": "d5446f39-fcfa-4be0-83a2-442fa656109b"
      },
      "source": [
        "x['years_before_service'].value_counts()"
      ],
      "execution_count": 383,
      "outputs": [
        {
          "output_type": "execute_result",
          "data": {
            "text/plain": [
              "0     21306\n",
              "3      2740\n",
              "1      2303\n",
              "2      2129\n",
              "5      1980\n",
              "4      1890\n",
              "13     1869\n",
              "7      1404\n",
              "6      1381\n",
              "11     1352\n",
              "8      1160\n",
              "14     1160\n",
              "33     1120\n",
              "15      993\n",
              "23      905\n",
              "10      868\n",
              "16      826\n",
              "9       814\n",
              "19      766\n",
              "27      762\n",
              "18      754\n",
              "31      709\n",
              "28      709\n",
              "35      647\n",
              "17      636\n",
              "39      601\n",
              "37      600\n",
              "26      589\n",
              "25      583\n",
              "21      578\n",
              "29      564\n",
              "12      559\n",
              "20      541\n",
              "41      488\n",
              "30      359\n",
              "43      356\n",
              "38      351\n",
              "36      325\n",
              "22      323\n",
              "24      261\n",
              "40      233\n",
              "34      184\n",
              "32      174\n",
              "53       91\n",
              "42       90\n",
              "50       84\n",
              "45       66\n",
              "46       48\n",
              "44       47\n",
              "48       41\n",
              "51       31\n",
              "49       25\n",
              "47       14\n",
              "52       11\n",
              "Name: years_before_service, dtype: int64"
            ]
          },
          "metadata": {
            "tags": []
          },
          "execution_count": 383
        }
      ]
    },
    {
      "cell_type": "markdown",
      "metadata": {
        "id": "y9wJpsVi1eIs",
        "colab_type": "text"
      },
      "source": [
        "## Deal with None, none, 0   (RUN AFTER HIGH CARDINALITY)"
      ]
    },
    {
      "cell_type": "code",
      "metadata": {
        "id": "9MBGPrtY1uIB",
        "colab_type": "code",
        "colab": {
          "base_uri": "https://localhost:8080/",
          "height": 0
        },
        "outputId": "c92246c6-9ec4-497e-dcfd-9edb4fd89916"
      },
      "source": [
        "x.describe(exclude='number').T.sort_values(by='unique', ascending=False)[:10]"
      ],
      "execution_count": 360,
      "outputs": [
        {
          "output_type": "execute_result",
          "data": {
            "text/html": [
              "<div>\n",
              "<style scoped>\n",
              "    .dataframe tbody tr th:only-of-type {\n",
              "        vertical-align: middle;\n",
              "    }\n",
              "\n",
              "    .dataframe tbody tr th {\n",
              "        vertical-align: top;\n",
              "    }\n",
              "\n",
              "    .dataframe thead th {\n",
              "        text-align: right;\n",
              "    }\n",
              "</style>\n",
              "<table border=\"1\" class=\"dataframe\">\n",
              "  <thead>\n",
              "    <tr style=\"text-align: right;\">\n",
              "      <th></th>\n",
              "      <th>count</th>\n",
              "      <th>unique</th>\n",
              "      <th>top</th>\n",
              "      <th>freq</th>\n",
              "    </tr>\n",
              "  </thead>\n",
              "  <tbody>\n",
              "    <tr>\n",
              "      <th>region</th>\n",
              "      <td>59400</td>\n",
              "      <td>21</td>\n",
              "      <td>Iringa</td>\n",
              "      <td>5294</td>\n",
              "    </tr>\n",
              "    <tr>\n",
              "      <th>extraction_type</th>\n",
              "      <td>59400</td>\n",
              "      <td>18</td>\n",
              "      <td>gravity</td>\n",
              "      <td>26780</td>\n",
              "    </tr>\n",
              "    <tr>\n",
              "      <th>extraction_type_group</th>\n",
              "      <td>59400</td>\n",
              "      <td>13</td>\n",
              "      <td>gravity</td>\n",
              "      <td>26780</td>\n",
              "    </tr>\n",
              "    <tr>\n",
              "      <th>management</th>\n",
              "      <td>59400</td>\n",
              "      <td>12</td>\n",
              "      <td>vwc</td>\n",
              "      <td>40507</td>\n",
              "    </tr>\n",
              "    <tr>\n",
              "      <th>scheme_management</th>\n",
              "      <td>55523</td>\n",
              "      <td>12</td>\n",
              "      <td>VWC</td>\n",
              "      <td>36793</td>\n",
              "    </tr>\n",
              "    <tr>\n",
              "      <th>funder</th>\n",
              "      <td>59400</td>\n",
              "      <td>11</td>\n",
              "      <td>Other</td>\n",
              "      <td>36967</td>\n",
              "    </tr>\n",
              "    <tr>\n",
              "      <th>wpt_name</th>\n",
              "      <td>59400</td>\n",
              "      <td>11</td>\n",
              "      <td>Other</td>\n",
              "      <td>51209</td>\n",
              "    </tr>\n",
              "    <tr>\n",
              "      <th>subvillage</th>\n",
              "      <td>59400</td>\n",
              "      <td>11</td>\n",
              "      <td>Other</td>\n",
              "      <td>56342</td>\n",
              "    </tr>\n",
              "    <tr>\n",
              "      <th>lga</th>\n",
              "      <td>59400</td>\n",
              "      <td>11</td>\n",
              "      <td>Other</td>\n",
              "      <td>46930</td>\n",
              "    </tr>\n",
              "    <tr>\n",
              "      <th>ward</th>\n",
              "      <td>59400</td>\n",
              "      <td>11</td>\n",
              "      <td>Other</td>\n",
              "      <td>57168</td>\n",
              "    </tr>\n",
              "  </tbody>\n",
              "</table>\n",
              "</div>"
            ],
            "text/plain": [
              "                       count unique      top   freq\n",
              "region                 59400     21   Iringa   5294\n",
              "extraction_type        59400     18  gravity  26780\n",
              "extraction_type_group  59400     13  gravity  26780\n",
              "management             59400     12      vwc  40507\n",
              "scheme_management      55523     12      VWC  36793\n",
              "funder                 59400     11    Other  36967\n",
              "wpt_name               59400     11    Other  51209\n",
              "subvillage             59400     11    Other  56342\n",
              "lga                    59400     11    Other  46930\n",
              "ward                   59400     11    Other  57168"
            ]
          },
          "metadata": {
            "tags": []
          },
          "execution_count": 360
        }
      ]
    },
    {
      "cell_type": "code",
      "metadata": {
        "id": "gN0Vc9-dybD2",
        "colab_type": "code",
        "colab": {
          "base_uri": "https://localhost:8080/",
          "height": 0
        },
        "outputId": "f663765f-38fc-4d66-cab6-4796b2cbfada"
      },
      "source": [
        "# Let's look at some of these features\n",
        "x['scheme_name'].value_counts()[:10]"
      ],
      "execution_count": 60,
      "outputs": [
        {
          "output_type": "execute_result",
          "data": {
            "text/plain": [
              "K                              682\n",
              "None                           644\n",
              "Borehole                       546\n",
              "Chalinze wate                  405\n",
              "M                              400\n",
              "DANIDA                         379\n",
              "Government                     320\n",
              "Ngana water supplied scheme    270\n",
              "wanging'ombe water supply s    261\n",
              "wanging'ombe supply scheme     234\n",
              "Name: scheme_name, dtype: int64"
            ]
          },
          "metadata": {
            "tags": []
          },
          "execution_count": 60
        }
      ]
    },
    {
      "cell_type": "code",
      "metadata": {
        "id": "qagVlPNly4FG",
        "colab_type": "code",
        "colab": {
          "base_uri": "https://localhost:8080/",
          "height": 0
        },
        "outputId": "dfc65fe1-4cba-4b2d-a635-c7f6ff2013c1"
      },
      "source": [
        "x['installer'].value_counts()[:10]"
      ],
      "execution_count": 61,
      "outputs": [
        {
          "output_type": "execute_result",
          "data": {
            "text/plain": [
              "DWE                   17402\n",
              "Government             1825\n",
              "RWE                    1206\n",
              "Commu                  1060\n",
              "DANIDA                 1050\n",
              "KKKT                    898\n",
              "Hesawa                  840\n",
              "0                       777\n",
              "TCRS                    707\n",
              "Central government      622\n",
              "Name: installer, dtype: int64"
            ]
          },
          "metadata": {
            "tags": []
          },
          "execution_count": 61
        }
      ]
    },
    {
      "cell_type": "code",
      "metadata": {
        "id": "pB3TE-0b0AFP",
        "colab_type": "code",
        "colab": {
          "base_uri": "https://localhost:8080/",
          "height": 0
        },
        "outputId": "59546129-9f88-4ef1-ad32-7094a73f3b53"
      },
      "source": [
        "x['funder'].value_counts()[:15]"
      ],
      "execution_count": 68,
      "outputs": [
        {
          "output_type": "execute_result",
          "data": {
            "text/plain": [
              "Government Of Tanzania    9084\n",
              "Danida                    3114\n",
              "Hesawa                    2202\n",
              "Rwssp                     1374\n",
              "World Bank                1349\n",
              "Kkkt                      1287\n",
              "World Vision              1246\n",
              "Unicef                    1057\n",
              "Tasaf                      877\n",
              "District Council           843\n",
              "Dhv                        829\n",
              "Private Individual         826\n",
              "Dwsp                       811\n",
              "0                          777\n",
              "Norad                      765\n",
              "Name: funder, dtype: int64"
            ]
          },
          "metadata": {
            "tags": []
          },
          "execution_count": 68
        }
      ]
    },
    {
      "cell_type": "code",
      "metadata": {
        "id": "2LwaSodg0mjc",
        "colab_type": "code",
        "colab": {
          "base_uri": "https://localhost:8080/",
          "height": 0
        },
        "outputId": "c595c842-ab9e-465f-e018-63a6d912a449"
      },
      "source": [
        "x['wpt_name'].value_counts()[:5]"
      ],
      "execution_count": 70,
      "outputs": [
        {
          "output_type": "execute_result",
          "data": {
            "text/plain": [
              "none         3563\n",
              "Shuleni      1748\n",
              "Zahanati      830\n",
              "Msikitini     535\n",
              "Kanisani      323\n",
              "Name: wpt_name, dtype: int64"
            ]
          },
          "metadata": {
            "tags": []
          },
          "execution_count": 70
        }
      ]
    },
    {
      "cell_type": "code",
      "metadata": {
        "id": "6bDYP2CU0uWQ",
        "colab_type": "code",
        "colab": {}
      },
      "source": [
        "# Replace None, none, 0 with NaN values, and fix long/lat columns\n",
        "features_replace = ['scheme_name', 'installer', 'funder', 'wpt_name', 'longitude', 'latitude']\n",
        "x[features_replace] = x[features_replace].replace({'None':np.nan, 'none':np.nan, '0':np.nan, -2e-8:np.nan})"
      ],
      "execution_count": 0,
      "outputs": []
    },
    {
      "cell_type": "code",
      "metadata": {
        "id": "hw9G2HtXKE8Y",
        "colab_type": "code",
        "colab": {
          "base_uri": "https://localhost:8080/",
          "height": 0
        },
        "outputId": "6a7e7cd5-1b62-4893-f37f-c935b84d6537"
      },
      "source": [
        "x['latitude'].isnull().sum()"
      ],
      "execution_count": 362,
      "outputs": [
        {
          "output_type": "execute_result",
          "data": {
            "text/plain": [
              "1812"
            ]
          },
          "metadata": {
            "tags": []
          },
          "execution_count": 362
        }
      ]
    },
    {
      "cell_type": "markdown",
      "metadata": {
        "id": "2nTXV0B11nTM",
        "colab_type": "text"
      },
      "source": [
        "## High Cardinality"
      ]
    },
    {
      "cell_type": "code",
      "metadata": {
        "id": "7ymPxyy6u7wP",
        "colab_type": "code",
        "colab": {
          "base_uri": "https://localhost:8080/",
          "height": 0
        },
        "outputId": "636839ed-ff4f-48d2-8bff-03de35a5e60f"
      },
      "source": [
        "# Creat a dataframe from our top 10 features by unique values\n",
        "df = x.describe(exclude='number').T.sort_values(by='unique', ascending=False)[:10]\n",
        "high_card = 50\n",
        "# Use this to create a list of features that are of high cardinality\n",
        "high_card_features = df[df['unique'] >= high_card].T.columns.tolist()\n",
        "# List of high cardinality features\n",
        "high_card_features"
      ],
      "execution_count": 384,
      "outputs": [
        {
          "output_type": "execute_result",
          "data": {
            "text/plain": [
              "['wpt_name', 'subvillage', 'scheme_name', 'installer', 'ward', 'funder', 'lga']"
            ]
          },
          "metadata": {
            "tags": []
          },
          "execution_count": 384
        }
      ]
    },
    {
      "cell_type": "markdown",
      "metadata": {
        "id": "tAmgIVte_skz",
        "colab_type": "text"
      },
      "source": [
        "#### Let's make sure this will work in our function for the test or val since they will have different levels of cardinality!"
      ]
    },
    {
      "cell_type": "code",
      "metadata": {
        "id": "WTpQWLtA_YbT",
        "colab_type": "code",
        "colab": {
          "base_uri": "https://localhost:8080/",
          "height": 0
        },
        "outputId": "058cf793-d4e5-4b11-d98c-6825999ef737"
      },
      "source": [
        "test.describe(exclude='number').T.sort_values(by='unique', ascending=False)[:10]"
      ],
      "execution_count": 198,
      "outputs": [
        {
          "output_type": "execute_result",
          "data": {
            "text/html": [
              "<div>\n",
              "<style scoped>\n",
              "    .dataframe tbody tr th:only-of-type {\n",
              "        vertical-align: middle;\n",
              "    }\n",
              "\n",
              "    .dataframe tbody tr th {\n",
              "        vertical-align: top;\n",
              "    }\n",
              "\n",
              "    .dataframe thead th {\n",
              "        text-align: right;\n",
              "    }\n",
              "</style>\n",
              "<table border=\"1\" class=\"dataframe\">\n",
              "  <thead>\n",
              "    <tr style=\"text-align: right;\">\n",
              "      <th></th>\n",
              "      <th>count</th>\n",
              "      <th>unique</th>\n",
              "      <th>top</th>\n",
              "      <th>freq</th>\n",
              "    </tr>\n",
              "  </thead>\n",
              "  <tbody>\n",
              "    <tr>\n",
              "      <th>wpt_name</th>\n",
              "      <td>14358</td>\n",
              "      <td>10615</td>\n",
              "      <td>none</td>\n",
              "      <td>822</td>\n",
              "    </tr>\n",
              "    <tr>\n",
              "      <th>subvillage</th>\n",
              "      <td>14264</td>\n",
              "      <td>8253</td>\n",
              "      <td>Shuleni</td>\n",
              "      <td>136</td>\n",
              "    </tr>\n",
              "    <tr>\n",
              "      <th>ward</th>\n",
              "      <td>14358</td>\n",
              "      <td>1934</td>\n",
              "      <td>Igosi</td>\n",
              "      <td>79</td>\n",
              "    </tr>\n",
              "    <tr>\n",
              "      <th>scheme_name</th>\n",
              "      <td>7519</td>\n",
              "      <td>1772</td>\n",
              "      <td>Borehole</td>\n",
              "      <td>158</td>\n",
              "    </tr>\n",
              "    <tr>\n",
              "      <th>installer</th>\n",
              "      <td>13570</td>\n",
              "      <td>1075</td>\n",
              "      <td>DWE</td>\n",
              "      <td>4162</td>\n",
              "    </tr>\n",
              "    <tr>\n",
              "      <th>funder</th>\n",
              "      <td>13575</td>\n",
              "      <td>960</td>\n",
              "      <td>Government Of Tanzania</td>\n",
              "      <td>2117</td>\n",
              "    </tr>\n",
              "    <tr>\n",
              "      <th>date_recorded</th>\n",
              "      <td>14358</td>\n",
              "      <td>331</td>\n",
              "      <td>2011-03-16</td>\n",
              "      <td>137</td>\n",
              "    </tr>\n",
              "    <tr>\n",
              "      <th>lga</th>\n",
              "      <td>14358</td>\n",
              "      <td>124</td>\n",
              "      <td>Njombe</td>\n",
              "      <td>611</td>\n",
              "    </tr>\n",
              "    <tr>\n",
              "      <th>region</th>\n",
              "      <td>14358</td>\n",
              "      <td>21</td>\n",
              "      <td>Shinyanga</td>\n",
              "      <td>1258</td>\n",
              "    </tr>\n",
              "    <tr>\n",
              "      <th>extraction_type</th>\n",
              "      <td>14358</td>\n",
              "      <td>17</td>\n",
              "      <td>gravity</td>\n",
              "      <td>6168</td>\n",
              "    </tr>\n",
              "  </tbody>\n",
              "</table>\n",
              "</div>"
            ],
            "text/plain": [
              "                 count unique                     top  freq\n",
              "wpt_name         14358  10615                    none   822\n",
              "subvillage       14264   8253                 Shuleni   136\n",
              "ward             14358   1934                   Igosi    79\n",
              "scheme_name       7519   1772                Borehole   158\n",
              "installer        13570   1075                     DWE  4162\n",
              "funder           13575    960  Government Of Tanzania  2117\n",
              "date_recorded    14358    331              2011-03-16   137\n",
              "lga              14358    124                  Njombe   611\n",
              "region           14358     21               Shinyanga  1258\n",
              "extraction_type  14358     17                 gravity  6168"
            ]
          },
          "metadata": {
            "tags": []
          },
          "execution_count": 198
        }
      ]
    },
    {
      "cell_type": "code",
      "metadata": {
        "id": "g_YSJo4b_otU",
        "colab_type": "code",
        "colab": {
          "base_uri": "https://localhost:8080/",
          "height": 0
        },
        "outputId": "ce907e6a-176b-409c-c586-8412f7d0bfbf"
      },
      "source": [
        "my_val.describe(exclude='number').T.sort_values(by='unique', ascending=False)[:10]"
      ],
      "execution_count": 199,
      "outputs": [
        {
          "output_type": "execute_result",
          "data": {
            "text/html": [
              "<div>\n",
              "<style scoped>\n",
              "    .dataframe tbody tr th:only-of-type {\n",
              "        vertical-align: middle;\n",
              "    }\n",
              "\n",
              "    .dataframe tbody tr th {\n",
              "        vertical-align: top;\n",
              "    }\n",
              "\n",
              "    .dataframe thead th {\n",
              "        text-align: right;\n",
              "    }\n",
              "</style>\n",
              "<table border=\"1\" class=\"dataframe\">\n",
              "  <thead>\n",
              "    <tr style=\"text-align: right;\">\n",
              "      <th></th>\n",
              "      <th>count</th>\n",
              "      <th>unique</th>\n",
              "      <th>top</th>\n",
              "      <th>freq</th>\n",
              "    </tr>\n",
              "  </thead>\n",
              "  <tbody>\n",
              "    <tr>\n",
              "      <th>wpt_name</th>\n",
              "      <td>14850</td>\n",
              "      <td>10757</td>\n",
              "      <td>none</td>\n",
              "      <td>882</td>\n",
              "    </tr>\n",
              "    <tr>\n",
              "      <th>subvillage</th>\n",
              "      <td>14756</td>\n",
              "      <td>8360</td>\n",
              "      <td>Majengo</td>\n",
              "      <td>134</td>\n",
              "    </tr>\n",
              "    <tr>\n",
              "      <th>ward</th>\n",
              "      <td>14850</td>\n",
              "      <td>1939</td>\n",
              "      <td>Igosi</td>\n",
              "      <td>68</td>\n",
              "    </tr>\n",
              "    <tr>\n",
              "      <th>scheme_name</th>\n",
              "      <td>7789</td>\n",
              "      <td>1767</td>\n",
              "      <td>K</td>\n",
              "      <td>176</td>\n",
              "    </tr>\n",
              "    <tr>\n",
              "      <th>installer</th>\n",
              "      <td>13957</td>\n",
              "      <td>1087</td>\n",
              "      <td>DWE</td>\n",
              "      <td>4349</td>\n",
              "    </tr>\n",
              "    <tr>\n",
              "      <th>funder</th>\n",
              "      <td>13965</td>\n",
              "      <td>989</td>\n",
              "      <td>Government Of Tanzania</td>\n",
              "      <td>2205</td>\n",
              "    </tr>\n",
              "    <tr>\n",
              "      <th>date_recorded</th>\n",
              "      <td>14850</td>\n",
              "      <td>324</td>\n",
              "      <td>2011-03-15</td>\n",
              "      <td>141</td>\n",
              "    </tr>\n",
              "    <tr>\n",
              "      <th>lga</th>\n",
              "      <td>14850</td>\n",
              "      <td>124</td>\n",
              "      <td>Njombe</td>\n",
              "      <td>608</td>\n",
              "    </tr>\n",
              "    <tr>\n",
              "      <th>region</th>\n",
              "      <td>14850</td>\n",
              "      <td>21</td>\n",
              "      <td>Iringa</td>\n",
              "      <td>1300</td>\n",
              "    </tr>\n",
              "    <tr>\n",
              "      <th>extraction_type</th>\n",
              "      <td>14850</td>\n",
              "      <td>17</td>\n",
              "      <td>gravity</td>\n",
              "      <td>6669</td>\n",
              "    </tr>\n",
              "  </tbody>\n",
              "</table>\n",
              "</div>"
            ],
            "text/plain": [
              "                 count unique                     top  freq\n",
              "wpt_name         14850  10757                    none   882\n",
              "subvillage       14756   8360                 Majengo   134\n",
              "ward             14850   1939                   Igosi    68\n",
              "scheme_name       7789   1767                       K   176\n",
              "installer        13957   1087                     DWE  4349\n",
              "funder           13965    989  Government Of Tanzania  2205\n",
              "date_recorded    14850    324              2011-03-15   141\n",
              "lga              14850    124                  Njombe   608\n",
              "region           14850     21                  Iringa  1300\n",
              "extraction_type  14850     17                 gravity  6669"
            ]
          },
          "metadata": {
            "tags": []
          },
          "execution_count": 199
        }
      ]
    },
    {
      "cell_type": "markdown",
      "metadata": {
        "id": "x5AldcvO_27P",
        "colab_type": "text"
      },
      "source": [
        "Should be fine"
      ]
    },
    {
      "cell_type": "markdown",
      "metadata": {
        "id": "vU8s477F_ze4",
        "colab_type": "text"
      },
      "source": [
        "#### Continuing"
      ]
    },
    {
      "cell_type": "code",
      "metadata": {
        "id": "6Xpmf5iy7k-W",
        "colab_type": "code",
        "colab": {
          "base_uri": "https://localhost:8080/",
          "height": 0
        },
        "outputId": "19a6287d-3d89-4ef2-f5b2-adc5b8ee6f66"
      },
      "source": [
        "x.describe(exclude='number').T.sort_values(by='unique', ascending=False)[:10]"
      ],
      "execution_count": 385,
      "outputs": [
        {
          "output_type": "execute_result",
          "data": {
            "text/html": [
              "<div>\n",
              "<style scoped>\n",
              "    .dataframe tbody tr th:only-of-type {\n",
              "        vertical-align: middle;\n",
              "    }\n",
              "\n",
              "    .dataframe tbody tr th {\n",
              "        vertical-align: top;\n",
              "    }\n",
              "\n",
              "    .dataframe thead th {\n",
              "        text-align: right;\n",
              "    }\n",
              "</style>\n",
              "<table border=\"1\" class=\"dataframe\">\n",
              "  <thead>\n",
              "    <tr style=\"text-align: right;\">\n",
              "      <th></th>\n",
              "      <th>count</th>\n",
              "      <th>unique</th>\n",
              "      <th>top</th>\n",
              "      <th>freq</th>\n",
              "    </tr>\n",
              "  </thead>\n",
              "  <tbody>\n",
              "    <tr>\n",
              "      <th>wpt_name</th>\n",
              "      <td>59400</td>\n",
              "      <td>37400</td>\n",
              "      <td>none</td>\n",
              "      <td>3563</td>\n",
              "    </tr>\n",
              "    <tr>\n",
              "      <th>subvillage</th>\n",
              "      <td>59029</td>\n",
              "      <td>19287</td>\n",
              "      <td>Madukani</td>\n",
              "      <td>508</td>\n",
              "    </tr>\n",
              "    <tr>\n",
              "      <th>scheme_name</th>\n",
              "      <td>31234</td>\n",
              "      <td>2696</td>\n",
              "      <td>K</td>\n",
              "      <td>682</td>\n",
              "    </tr>\n",
              "    <tr>\n",
              "      <th>installer</th>\n",
              "      <td>55745</td>\n",
              "      <td>2145</td>\n",
              "      <td>DWE</td>\n",
              "      <td>17402</td>\n",
              "    </tr>\n",
              "    <tr>\n",
              "      <th>ward</th>\n",
              "      <td>59400</td>\n",
              "      <td>2092</td>\n",
              "      <td>Igosi</td>\n",
              "      <td>307</td>\n",
              "    </tr>\n",
              "    <tr>\n",
              "      <th>funder</th>\n",
              "      <td>55765</td>\n",
              "      <td>1897</td>\n",
              "      <td>Government Of Tanzania</td>\n",
              "      <td>9084</td>\n",
              "    </tr>\n",
              "    <tr>\n",
              "      <th>lga</th>\n",
              "      <td>59400</td>\n",
              "      <td>125</td>\n",
              "      <td>Njombe</td>\n",
              "      <td>2503</td>\n",
              "    </tr>\n",
              "    <tr>\n",
              "      <th>region</th>\n",
              "      <td>59400</td>\n",
              "      <td>21</td>\n",
              "      <td>Iringa</td>\n",
              "      <td>5294</td>\n",
              "    </tr>\n",
              "    <tr>\n",
              "      <th>extraction_type</th>\n",
              "      <td>59400</td>\n",
              "      <td>18</td>\n",
              "      <td>gravity</td>\n",
              "      <td>26780</td>\n",
              "    </tr>\n",
              "    <tr>\n",
              "      <th>extraction_type_group</th>\n",
              "      <td>59400</td>\n",
              "      <td>13</td>\n",
              "      <td>gravity</td>\n",
              "      <td>26780</td>\n",
              "    </tr>\n",
              "  </tbody>\n",
              "</table>\n",
              "</div>"
            ],
            "text/plain": [
              "                       count unique                     top   freq\n",
              "wpt_name               59400  37400                    none   3563\n",
              "subvillage             59029  19287                Madukani    508\n",
              "scheme_name            31234   2696                       K    682\n",
              "installer              55745   2145                     DWE  17402\n",
              "ward                   59400   2092                   Igosi    307\n",
              "funder                 55765   1897  Government Of Tanzania   9084\n",
              "lga                    59400    125                  Njombe   2503\n",
              "region                 59400     21                  Iringa   5294\n",
              "extraction_type        59400     18                 gravity  26780\n",
              "extraction_type_group  59400     13                 gravity  26780"
            ]
          },
          "metadata": {
            "tags": []
          },
          "execution_count": 385
        }
      ]
    },
    {
      "cell_type": "code",
      "metadata": {
        "id": "9GCK2zdFvl0k",
        "colab_type": "code",
        "colab": {}
      },
      "source": [
        "# If something isn't in the top 10 we will change it to Other with a for loop\n",
        "# We will only do this for high cardinality features to enable better one-hot\n",
        "for i in high_card_features:\n",
        "  top15 = x[i].value_counts()[:10].index\n",
        "  x.loc[~x[i].isin(top15), i] = 'Other'"
      ],
      "execution_count": 0,
      "outputs": []
    },
    {
      "cell_type": "code",
      "metadata": {
        "id": "c6wGDruCP4qd",
        "colab_type": "code",
        "colab": {
          "base_uri": "https://localhost:8080/",
          "height": 0
        },
        "outputId": "f8749b56-bed0-4077-bfa4-5b9dd292cb19"
      },
      "source": [
        "x.describe(exclude='number').T.sort_values(by='unique', ascending=False)[:10]"
      ],
      "execution_count": 387,
      "outputs": [
        {
          "output_type": "execute_result",
          "data": {
            "text/html": [
              "<div>\n",
              "<style scoped>\n",
              "    .dataframe tbody tr th:only-of-type {\n",
              "        vertical-align: middle;\n",
              "    }\n",
              "\n",
              "    .dataframe tbody tr th {\n",
              "        vertical-align: top;\n",
              "    }\n",
              "\n",
              "    .dataframe thead th {\n",
              "        text-align: right;\n",
              "    }\n",
              "</style>\n",
              "<table border=\"1\" class=\"dataframe\">\n",
              "  <thead>\n",
              "    <tr style=\"text-align: right;\">\n",
              "      <th></th>\n",
              "      <th>count</th>\n",
              "      <th>unique</th>\n",
              "      <th>top</th>\n",
              "      <th>freq</th>\n",
              "    </tr>\n",
              "  </thead>\n",
              "  <tbody>\n",
              "    <tr>\n",
              "      <th>region</th>\n",
              "      <td>59400</td>\n",
              "      <td>21</td>\n",
              "      <td>Iringa</td>\n",
              "      <td>5294</td>\n",
              "    </tr>\n",
              "    <tr>\n",
              "      <th>extraction_type</th>\n",
              "      <td>59400</td>\n",
              "      <td>18</td>\n",
              "      <td>gravity</td>\n",
              "      <td>26780</td>\n",
              "    </tr>\n",
              "    <tr>\n",
              "      <th>extraction_type_group</th>\n",
              "      <td>59400</td>\n",
              "      <td>13</td>\n",
              "      <td>gravity</td>\n",
              "      <td>26780</td>\n",
              "    </tr>\n",
              "    <tr>\n",
              "      <th>management</th>\n",
              "      <td>59400</td>\n",
              "      <td>12</td>\n",
              "      <td>vwc</td>\n",
              "      <td>40507</td>\n",
              "    </tr>\n",
              "    <tr>\n",
              "      <th>scheme_management</th>\n",
              "      <td>55523</td>\n",
              "      <td>12</td>\n",
              "      <td>VWC</td>\n",
              "      <td>36793</td>\n",
              "    </tr>\n",
              "    <tr>\n",
              "      <th>funder</th>\n",
              "      <td>59400</td>\n",
              "      <td>11</td>\n",
              "      <td>Other</td>\n",
              "      <td>36967</td>\n",
              "    </tr>\n",
              "    <tr>\n",
              "      <th>wpt_name</th>\n",
              "      <td>59400</td>\n",
              "      <td>11</td>\n",
              "      <td>Other</td>\n",
              "      <td>51209</td>\n",
              "    </tr>\n",
              "    <tr>\n",
              "      <th>subvillage</th>\n",
              "      <td>59400</td>\n",
              "      <td>11</td>\n",
              "      <td>Other</td>\n",
              "      <td>56342</td>\n",
              "    </tr>\n",
              "    <tr>\n",
              "      <th>lga</th>\n",
              "      <td>59400</td>\n",
              "      <td>11</td>\n",
              "      <td>Other</td>\n",
              "      <td>46930</td>\n",
              "    </tr>\n",
              "    <tr>\n",
              "      <th>ward</th>\n",
              "      <td>59400</td>\n",
              "      <td>11</td>\n",
              "      <td>Other</td>\n",
              "      <td>57168</td>\n",
              "    </tr>\n",
              "  </tbody>\n",
              "</table>\n",
              "</div>"
            ],
            "text/plain": [
              "                       count unique      top   freq\n",
              "region                 59400     21   Iringa   5294\n",
              "extraction_type        59400     18  gravity  26780\n",
              "extraction_type_group  59400     13  gravity  26780\n",
              "management             59400     12      vwc  40507\n",
              "scheme_management      55523     12      VWC  36793\n",
              "funder                 59400     11    Other  36967\n",
              "wpt_name               59400     11    Other  51209\n",
              "subvillage             59400     11    Other  56342\n",
              "lga                    59400     11    Other  46930\n",
              "ward                   59400     11    Other  57168"
            ]
          },
          "metadata": {
            "tags": []
          },
          "execution_count": 387
        }
      ]
    },
    {
      "cell_type": "code",
      "metadata": {
        "id": "dfc82s4f7tNt",
        "colab_type": "code",
        "colab": {
          "base_uri": "https://localhost:8080/",
          "height": 0
        },
        "outputId": "e2648c52-0a4b-4284-c8cc-a253cc2c70e7"
      },
      "source": [
        "# Let's see how this interacts with our NaN replacements where the replaced item\n",
        "# was in the top10\n",
        "x['installer'].value_counts(), x['installer'].isnull().sum()"
      ],
      "execution_count": 363,
      "outputs": [
        {
          "output_type": "execute_result",
          "data": {
            "text/plain": [
              "(Other                 33013\n",
              " DWE                   17402\n",
              " Government             1825\n",
              " RWE                    1206\n",
              " Commu                  1060\n",
              " DANIDA                 1050\n",
              " KKKT                    898\n",
              " Hesawa                  840\n",
              " TCRS                    707\n",
              " Central government      622\n",
              " Name: installer, dtype: int64, 777)"
            ]
          },
          "metadata": {
            "tags": []
          },
          "execution_count": 363
        }
      ]
    },
    {
      "cell_type": "markdown",
      "metadata": {
        "id": "Su6wE7Cy-HBZ",
        "colab_type": "text"
      },
      "source": [
        "The choice of putting this before or after (in the function later) the 'replace with nan' section will basically be deciding whether I'd rather let the imputer decide where they are or if I would like to lump the NaN's into the \"Other\" section"
      ]
    },
    {
      "cell_type": "markdown",
      "metadata": {
        "id": "ROs_3YsvK3uR",
        "colab_type": "text"
      },
      "source": [
        "## Duplicate columns"
      ]
    },
    {
      "cell_type": "code",
      "metadata": {
        "id": "_R1hL0VlK6lQ",
        "colab_type": "code",
        "colab": {
          "base_uri": "https://localhost:8080/",
          "height": 0
        },
        "outputId": "ee0f1714-6c7a-4e45-b6b9-3a3f2dbd1c25"
      },
      "source": [
        "print(x.describe(exclude='number').shape)\n",
        "x.describe(exclude='number')"
      ],
      "execution_count": 389,
      "outputs": [
        {
          "output_type": "stream",
          "text": [
            "(4, 30)\n"
          ],
          "name": "stdout"
        },
        {
          "output_type": "execute_result",
          "data": {
            "text/html": [
              "<div>\n",
              "<style scoped>\n",
              "    .dataframe tbody tr th:only-of-type {\n",
              "        vertical-align: middle;\n",
              "    }\n",
              "\n",
              "    .dataframe tbody tr th {\n",
              "        vertical-align: top;\n",
              "    }\n",
              "\n",
              "    .dataframe thead th {\n",
              "        text-align: right;\n",
              "    }\n",
              "</style>\n",
              "<table border=\"1\" class=\"dataframe\">\n",
              "  <thead>\n",
              "    <tr style=\"text-align: right;\">\n",
              "      <th></th>\n",
              "      <th>funder</th>\n",
              "      <th>installer</th>\n",
              "      <th>wpt_name</th>\n",
              "      <th>basin</th>\n",
              "      <th>subvillage</th>\n",
              "      <th>region</th>\n",
              "      <th>lga</th>\n",
              "      <th>ward</th>\n",
              "      <th>public_meeting</th>\n",
              "      <th>recorded_by</th>\n",
              "      <th>scheme_management</th>\n",
              "      <th>scheme_name</th>\n",
              "      <th>permit</th>\n",
              "      <th>extraction_type</th>\n",
              "      <th>extraction_type_group</th>\n",
              "      <th>extraction_type_class</th>\n",
              "      <th>management</th>\n",
              "      <th>management_group</th>\n",
              "      <th>payment</th>\n",
              "      <th>payment_type</th>\n",
              "      <th>water_quality</th>\n",
              "      <th>quality_group</th>\n",
              "      <th>quantity</th>\n",
              "      <th>quantity_group</th>\n",
              "      <th>source</th>\n",
              "      <th>source_type</th>\n",
              "      <th>source_class</th>\n",
              "      <th>waterpoint_type</th>\n",
              "      <th>waterpoint_type_group</th>\n",
              "      <th>status_group</th>\n",
              "    </tr>\n",
              "  </thead>\n",
              "  <tbody>\n",
              "    <tr>\n",
              "      <th>count</th>\n",
              "      <td>59400</td>\n",
              "      <td>58623</td>\n",
              "      <td>55837</td>\n",
              "      <td>59400</td>\n",
              "      <td>59400</td>\n",
              "      <td>59400</td>\n",
              "      <td>59400</td>\n",
              "      <td>59400</td>\n",
              "      <td>56066</td>\n",
              "      <td>59400</td>\n",
              "      <td>55523</td>\n",
              "      <td>58756</td>\n",
              "      <td>56344</td>\n",
              "      <td>59400</td>\n",
              "      <td>59400</td>\n",
              "      <td>59400</td>\n",
              "      <td>59400</td>\n",
              "      <td>59400</td>\n",
              "      <td>59400</td>\n",
              "      <td>59400</td>\n",
              "      <td>59400</td>\n",
              "      <td>59400</td>\n",
              "      <td>59400</td>\n",
              "      <td>59400</td>\n",
              "      <td>59400</td>\n",
              "      <td>59400</td>\n",
              "      <td>59400</td>\n",
              "      <td>59400</td>\n",
              "      <td>59400</td>\n",
              "      <td>59400</td>\n",
              "    </tr>\n",
              "    <tr>\n",
              "      <th>unique</th>\n",
              "      <td>11</td>\n",
              "      <td>10</td>\n",
              "      <td>10</td>\n",
              "      <td>9</td>\n",
              "      <td>11</td>\n",
              "      <td>21</td>\n",
              "      <td>11</td>\n",
              "      <td>11</td>\n",
              "      <td>2</td>\n",
              "      <td>1</td>\n",
              "      <td>12</td>\n",
              "      <td>10</td>\n",
              "      <td>2</td>\n",
              "      <td>18</td>\n",
              "      <td>13</td>\n",
              "      <td>7</td>\n",
              "      <td>12</td>\n",
              "      <td>5</td>\n",
              "      <td>7</td>\n",
              "      <td>7</td>\n",
              "      <td>8</td>\n",
              "      <td>6</td>\n",
              "      <td>5</td>\n",
              "      <td>5</td>\n",
              "      <td>10</td>\n",
              "      <td>7</td>\n",
              "      <td>3</td>\n",
              "      <td>7</td>\n",
              "      <td>6</td>\n",
              "      <td>3</td>\n",
              "    </tr>\n",
              "    <tr>\n",
              "      <th>top</th>\n",
              "      <td>Other</td>\n",
              "      <td>Other</td>\n",
              "      <td>Other</td>\n",
              "      <td>Lake Victoria</td>\n",
              "      <td>Other</td>\n",
              "      <td>Iringa</td>\n",
              "      <td>Other</td>\n",
              "      <td>Other</td>\n",
              "      <td>True</td>\n",
              "      <td>GeoData Consultants Ltd</td>\n",
              "      <td>VWC</td>\n",
              "      <td>Other</td>\n",
              "      <td>True</td>\n",
              "      <td>gravity</td>\n",
              "      <td>gravity</td>\n",
              "      <td>gravity</td>\n",
              "      <td>vwc</td>\n",
              "      <td>user-group</td>\n",
              "      <td>never pay</td>\n",
              "      <td>never pay</td>\n",
              "      <td>soft</td>\n",
              "      <td>good</td>\n",
              "      <td>enough</td>\n",
              "      <td>enough</td>\n",
              "      <td>spring</td>\n",
              "      <td>spring</td>\n",
              "      <td>groundwater</td>\n",
              "      <td>communal standpipe</td>\n",
              "      <td>communal standpipe</td>\n",
              "      <td>functional</td>\n",
              "    </tr>\n",
              "    <tr>\n",
              "      <th>freq</th>\n",
              "      <td>36967</td>\n",
              "      <td>33013</td>\n",
              "      <td>51209</td>\n",
              "      <td>10248</td>\n",
              "      <td>56342</td>\n",
              "      <td>5294</td>\n",
              "      <td>46930</td>\n",
              "      <td>57168</td>\n",
              "      <td>51011</td>\n",
              "      <td>59400</td>\n",
              "      <td>36793</td>\n",
              "      <td>55259</td>\n",
              "      <td>38852</td>\n",
              "      <td>26780</td>\n",
              "      <td>26780</td>\n",
              "      <td>26780</td>\n",
              "      <td>40507</td>\n",
              "      <td>52490</td>\n",
              "      <td>25348</td>\n",
              "      <td>25348</td>\n",
              "      <td>50818</td>\n",
              "      <td>50818</td>\n",
              "      <td>33186</td>\n",
              "      <td>33186</td>\n",
              "      <td>17021</td>\n",
              "      <td>17021</td>\n",
              "      <td>45794</td>\n",
              "      <td>28522</td>\n",
              "      <td>34625</td>\n",
              "      <td>32259</td>\n",
              "    </tr>\n",
              "  </tbody>\n",
              "</table>\n",
              "</div>"
            ],
            "text/plain": [
              "       funder installer  ... waterpoint_type_group status_group\n",
              "count   59400     58623  ...                 59400        59400\n",
              "unique     11        10  ...                     6            3\n",
              "top     Other     Other  ...    communal standpipe   functional\n",
              "freq    36967     33013  ...                 34625        32259\n",
              "\n",
              "[4 rows x 30 columns]"
            ]
          },
          "metadata": {
            "tags": []
          },
          "execution_count": 389
        }
      ]
    },
    {
      "cell_type": "markdown",
      "metadata": {
        "id": "eJemYOaoM5JZ",
        "colab_type": "text"
      },
      "source": [
        "### Let's look at correlation of some columns to see what we can drop"
      ]
    },
    {
      "cell_type": "code",
      "metadata": {
        "id": "mAKI0TdEMqLJ",
        "colab_type": "code",
        "colab": {
          "base_uri": "https://localhost:8080/",
          "height": 0
        },
        "outputId": "383c1738-f524-4b8d-dcd2-6ddf6fe15987"
      },
      "source": [
        "extraction_features = ['quantity', 'quantity_group']\n",
        "testing = pd.DataFrame()\n",
        "for i in extraction_features:\n",
        "  testing[i] = x[i].astype('category').cat.codes\n",
        "testing.corr()"
      ],
      "execution_count": 365,
      "outputs": [
        {
          "output_type": "execute_result",
          "data": {
            "text/html": [
              "<div>\n",
              "<style scoped>\n",
              "    .dataframe tbody tr th:only-of-type {\n",
              "        vertical-align: middle;\n",
              "    }\n",
              "\n",
              "    .dataframe tbody tr th {\n",
              "        vertical-align: top;\n",
              "    }\n",
              "\n",
              "    .dataframe thead th {\n",
              "        text-align: right;\n",
              "    }\n",
              "</style>\n",
              "<table border=\"1\" class=\"dataframe\">\n",
              "  <thead>\n",
              "    <tr style=\"text-align: right;\">\n",
              "      <th></th>\n",
              "      <th>quantity</th>\n",
              "      <th>quantity_group</th>\n",
              "    </tr>\n",
              "  </thead>\n",
              "  <tbody>\n",
              "    <tr>\n",
              "      <th>quantity</th>\n",
              "      <td>1.0</td>\n",
              "      <td>1.0</td>\n",
              "    </tr>\n",
              "    <tr>\n",
              "      <th>quantity_group</th>\n",
              "      <td>1.0</td>\n",
              "      <td>1.0</td>\n",
              "    </tr>\n",
              "  </tbody>\n",
              "</table>\n",
              "</div>"
            ],
            "text/plain": [
              "                quantity  quantity_group\n",
              "quantity             1.0             1.0\n",
              "quantity_group       1.0             1.0"
            ]
          },
          "metadata": {
            "tags": []
          },
          "execution_count": 365
        }
      ]
    },
    {
      "cell_type": "code",
      "metadata": {
        "id": "1JnBpd_DLSwo",
        "colab_type": "code",
        "colab": {
          "base_uri": "https://localhost:8080/",
          "height": 0
        },
        "outputId": "1004222e-5b5c-4dcc-e08c-4d79a8ef7696"
      },
      "source": [
        "extraction_features = ['extraction_type', 'extraction_type_group', 'extraction_type_class']\n",
        "testing = pd.DataFrame()\n",
        "for i in extraction_features:\n",
        "  testing[i] = x[i].astype('category').cat.codes\n",
        "testing.corr()\n",
        "# Let's drop extraction_type_group"
      ],
      "execution_count": 366,
      "outputs": [
        {
          "output_type": "execute_result",
          "data": {
            "text/html": [
              "<div>\n",
              "<style scoped>\n",
              "    .dataframe tbody tr th:only-of-type {\n",
              "        vertical-align: middle;\n",
              "    }\n",
              "\n",
              "    .dataframe tbody tr th {\n",
              "        vertical-align: top;\n",
              "    }\n",
              "\n",
              "    .dataframe thead th {\n",
              "        text-align: right;\n",
              "    }\n",
              "</style>\n",
              "<table border=\"1\" class=\"dataframe\">\n",
              "  <thead>\n",
              "    <tr style=\"text-align: right;\">\n",
              "      <th></th>\n",
              "      <th>extraction_type</th>\n",
              "      <th>extraction_type_group</th>\n",
              "      <th>extraction_type_class</th>\n",
              "    </tr>\n",
              "  </thead>\n",
              "  <tbody>\n",
              "    <tr>\n",
              "      <th>extraction_type</th>\n",
              "      <td>1.000000</td>\n",
              "      <td>0.949524</td>\n",
              "      <td>0.695052</td>\n",
              "    </tr>\n",
              "    <tr>\n",
              "      <th>extraction_type_group</th>\n",
              "      <td>0.949524</td>\n",
              "      <td>1.000000</td>\n",
              "      <td>0.784300</td>\n",
              "    </tr>\n",
              "    <tr>\n",
              "      <th>extraction_type_class</th>\n",
              "      <td>0.695052</td>\n",
              "      <td>0.784300</td>\n",
              "      <td>1.000000</td>\n",
              "    </tr>\n",
              "  </tbody>\n",
              "</table>\n",
              "</div>"
            ],
            "text/plain": [
              "                       extraction_type  ...  extraction_type_class\n",
              "extraction_type               1.000000  ...               0.695052\n",
              "extraction_type_group         0.949524  ...               0.784300\n",
              "extraction_type_class         0.695052  ...               1.000000\n",
              "\n",
              "[3 rows x 3 columns]"
            ]
          },
          "metadata": {
            "tags": []
          },
          "execution_count": 366
        }
      ]
    },
    {
      "cell_type": "code",
      "metadata": {
        "id": "BGGoM0pZNHKJ",
        "colab_type": "code",
        "colab": {
          "base_uri": "https://localhost:8080/",
          "height": 0
        },
        "outputId": "73808826-a850-4604-a090-b56a61fe037f"
      },
      "source": [
        "extraction_features = ['management', 'management_group']\n",
        "testing = pd.DataFrame()\n",
        "for i in extraction_features:\n",
        "  testing[i] = x[i].astype('category').cat.codes\n",
        "testing.corr()\n",
        "# They can stay...."
      ],
      "execution_count": 367,
      "outputs": [
        {
          "output_type": "execute_result",
          "data": {
            "text/html": [
              "<div>\n",
              "<style scoped>\n",
              "    .dataframe tbody tr th:only-of-type {\n",
              "        vertical-align: middle;\n",
              "    }\n",
              "\n",
              "    .dataframe tbody tr th {\n",
              "        vertical-align: top;\n",
              "    }\n",
              "\n",
              "    .dataframe thead th {\n",
              "        text-align: right;\n",
              "    }\n",
              "</style>\n",
              "<table border=\"1\" class=\"dataframe\">\n",
              "  <thead>\n",
              "    <tr style=\"text-align: right;\">\n",
              "      <th></th>\n",
              "      <th>management</th>\n",
              "      <th>management_group</th>\n",
              "    </tr>\n",
              "  </thead>\n",
              "  <tbody>\n",
              "    <tr>\n",
              "      <th>management</th>\n",
              "      <td>1.000000</td>\n",
              "      <td>0.599831</td>\n",
              "    </tr>\n",
              "    <tr>\n",
              "      <th>management_group</th>\n",
              "      <td>0.599831</td>\n",
              "      <td>1.000000</td>\n",
              "    </tr>\n",
              "  </tbody>\n",
              "</table>\n",
              "</div>"
            ],
            "text/plain": [
              "                  management  management_group\n",
              "management          1.000000          0.599831\n",
              "management_group    0.599831          1.000000"
            ]
          },
          "metadata": {
            "tags": []
          },
          "execution_count": 367
        }
      ]
    },
    {
      "cell_type": "code",
      "metadata": {
        "id": "pRBbQBKSNTti",
        "colab_type": "code",
        "colab": {
          "base_uri": "https://localhost:8080/",
          "height": 0
        },
        "outputId": "a385a54d-1585-4fd3-cb97-5471d1c5bc85"
      },
      "source": [
        "extraction_features = ['payment', 'payment_type']\n",
        "testing = pd.DataFrame()\n",
        "for i in extraction_features:\n",
        "  testing[i] = x[i].astype('category').cat.codes\n",
        "testing.corr()\n",
        "# Pretty correlated, but they can stay..."
      ],
      "execution_count": 368,
      "outputs": [
        {
          "output_type": "execute_result",
          "data": {
            "text/html": [
              "<div>\n",
              "<style scoped>\n",
              "    .dataframe tbody tr th:only-of-type {\n",
              "        vertical-align: middle;\n",
              "    }\n",
              "\n",
              "    .dataframe tbody tr th {\n",
              "        vertical-align: top;\n",
              "    }\n",
              "\n",
              "    .dataframe thead th {\n",
              "        text-align: right;\n",
              "    }\n",
              "</style>\n",
              "<table border=\"1\" class=\"dataframe\">\n",
              "  <thead>\n",
              "    <tr style=\"text-align: right;\">\n",
              "      <th></th>\n",
              "      <th>payment</th>\n",
              "      <th>payment_type</th>\n",
              "    </tr>\n",
              "  </thead>\n",
              "  <tbody>\n",
              "    <tr>\n",
              "      <th>payment</th>\n",
              "      <td>1.000000</td>\n",
              "      <td>0.685673</td>\n",
              "    </tr>\n",
              "    <tr>\n",
              "      <th>payment_type</th>\n",
              "      <td>0.685673</td>\n",
              "      <td>1.000000</td>\n",
              "    </tr>\n",
              "  </tbody>\n",
              "</table>\n",
              "</div>"
            ],
            "text/plain": [
              "               payment  payment_type\n",
              "payment       1.000000      0.685673\n",
              "payment_type  0.685673      1.000000"
            ]
          },
          "metadata": {
            "tags": []
          },
          "execution_count": 368
        }
      ]
    },
    {
      "cell_type": "code",
      "metadata": {
        "id": "NT7NBm4bNfIE",
        "colab_type": "code",
        "colab": {
          "base_uri": "https://localhost:8080/",
          "height": 0
        },
        "outputId": "d7ca3003-9b17-44bd-bf48-0dee596d7ab4"
      },
      "source": [
        "extraction_features = ['waterpoint_type', 'waterpoint_type_group']\n",
        "testing = pd.DataFrame()\n",
        "for i in extraction_features:\n",
        "  testing[i] = x[i].astype('category').cat.codes\n",
        "testing.corr()\n",
        "# Drop waterpoint_type_group"
      ],
      "execution_count": 369,
      "outputs": [
        {
          "output_type": "execute_result",
          "data": {
            "text/html": [
              "<div>\n",
              "<style scoped>\n",
              "    .dataframe tbody tr th:only-of-type {\n",
              "        vertical-align: middle;\n",
              "    }\n",
              "\n",
              "    .dataframe tbody tr th {\n",
              "        vertical-align: top;\n",
              "    }\n",
              "\n",
              "    .dataframe thead th {\n",
              "        text-align: right;\n",
              "    }\n",
              "</style>\n",
              "<table border=\"1\" class=\"dataframe\">\n",
              "  <thead>\n",
              "    <tr style=\"text-align: right;\">\n",
              "      <th></th>\n",
              "      <th>waterpoint_type</th>\n",
              "      <th>waterpoint_type_group</th>\n",
              "    </tr>\n",
              "  </thead>\n",
              "  <tbody>\n",
              "    <tr>\n",
              "      <th>waterpoint_type</th>\n",
              "      <td>1.000000</td>\n",
              "      <td>0.982154</td>\n",
              "    </tr>\n",
              "    <tr>\n",
              "      <th>waterpoint_type_group</th>\n",
              "      <td>0.982154</td>\n",
              "      <td>1.000000</td>\n",
              "    </tr>\n",
              "  </tbody>\n",
              "</table>\n",
              "</div>"
            ],
            "text/plain": [
              "                       waterpoint_type  waterpoint_type_group\n",
              "waterpoint_type               1.000000               0.982154\n",
              "waterpoint_type_group         0.982154               1.000000"
            ]
          },
          "metadata": {
            "tags": []
          },
          "execution_count": 369
        }
      ]
    },
    {
      "cell_type": "code",
      "metadata": {
        "id": "GnVaLbtDN3ZT",
        "colab_type": "code",
        "colab": {
          "base_uri": "https://localhost:8080/",
          "height": 0
        },
        "outputId": "b31850c7-29f7-40a2-abf5-db844f42a662"
      },
      "source": [
        "extraction_features = ['source', 'source_type', 'source_class']\n",
        "testing = pd.DataFrame()\n",
        "for i in extraction_features:\n",
        "  testing[i] = x[i].astype('category').cat.codes\n",
        "testing.corr()\n",
        "# We'll drop source"
      ],
      "execution_count": 370,
      "outputs": [
        {
          "output_type": "execute_result",
          "data": {
            "text/html": [
              "<div>\n",
              "<style scoped>\n",
              "    .dataframe tbody tr th:only-of-type {\n",
              "        vertical-align: middle;\n",
              "    }\n",
              "\n",
              "    .dataframe tbody tr th {\n",
              "        vertical-align: top;\n",
              "    }\n",
              "\n",
              "    .dataframe thead th {\n",
              "        text-align: right;\n",
              "    }\n",
              "</style>\n",
              "<table border=\"1\" class=\"dataframe\">\n",
              "  <thead>\n",
              "    <tr style=\"text-align: right;\">\n",
              "      <th></th>\n",
              "      <th>source</th>\n",
              "      <th>source_type</th>\n",
              "      <th>source_class</th>\n",
              "    </tr>\n",
              "  </thead>\n",
              "  <tbody>\n",
              "    <tr>\n",
              "      <th>source</th>\n",
              "      <td>1.000000</td>\n",
              "      <td>0.943818</td>\n",
              "      <td>-0.202467</td>\n",
              "    </tr>\n",
              "    <tr>\n",
              "      <th>source_type</th>\n",
              "      <td>0.943818</td>\n",
              "      <td>1.000000</td>\n",
              "      <td>-0.087867</td>\n",
              "    </tr>\n",
              "    <tr>\n",
              "      <th>source_class</th>\n",
              "      <td>-0.202467</td>\n",
              "      <td>-0.087867</td>\n",
              "      <td>1.000000</td>\n",
              "    </tr>\n",
              "  </tbody>\n",
              "</table>\n",
              "</div>"
            ],
            "text/plain": [
              "                source  source_type  source_class\n",
              "source        1.000000     0.943818     -0.202467\n",
              "source_type   0.943818     1.000000     -0.087867\n",
              "source_class -0.202467    -0.087867      1.000000"
            ]
          },
          "metadata": {
            "tags": []
          },
          "execution_count": 370
        }
      ]
    },
    {
      "cell_type": "code",
      "metadata": {
        "id": "M6xkSkTNOLdf",
        "colab_type": "code",
        "colab": {}
      },
      "source": [
        "drops = ['extraction_type_group', 'waterpoint_type_group', 'source', 'quantity_group']\n",
        "x = x.drop(drops, axis=1)"
      ],
      "execution_count": 0,
      "outputs": []
    },
    {
      "cell_type": "code",
      "metadata": {
        "id": "AKcdYJMAOhA5",
        "colab_type": "code",
        "colab": {
          "base_uri": "https://localhost:8080/",
          "height": 0
        },
        "outputId": "de6f8997-5648-400d-9ab6-1b7e022f59b6"
      },
      "source": [
        "print(x.describe(exclude='number').shape)\n",
        "x.describe(exclude='number')"
      ],
      "execution_count": 391,
      "outputs": [
        {
          "output_type": "stream",
          "text": [
            "(4, 26)\n"
          ],
          "name": "stdout"
        },
        {
          "output_type": "execute_result",
          "data": {
            "text/html": [
              "<div>\n",
              "<style scoped>\n",
              "    .dataframe tbody tr th:only-of-type {\n",
              "        vertical-align: middle;\n",
              "    }\n",
              "\n",
              "    .dataframe tbody tr th {\n",
              "        vertical-align: top;\n",
              "    }\n",
              "\n",
              "    .dataframe thead th {\n",
              "        text-align: right;\n",
              "    }\n",
              "</style>\n",
              "<table border=\"1\" class=\"dataframe\">\n",
              "  <thead>\n",
              "    <tr style=\"text-align: right;\">\n",
              "      <th></th>\n",
              "      <th>funder</th>\n",
              "      <th>installer</th>\n",
              "      <th>wpt_name</th>\n",
              "      <th>basin</th>\n",
              "      <th>subvillage</th>\n",
              "      <th>region</th>\n",
              "      <th>lga</th>\n",
              "      <th>ward</th>\n",
              "      <th>public_meeting</th>\n",
              "      <th>recorded_by</th>\n",
              "      <th>scheme_management</th>\n",
              "      <th>scheme_name</th>\n",
              "      <th>permit</th>\n",
              "      <th>extraction_type</th>\n",
              "      <th>extraction_type_class</th>\n",
              "      <th>management</th>\n",
              "      <th>management_group</th>\n",
              "      <th>payment</th>\n",
              "      <th>payment_type</th>\n",
              "      <th>water_quality</th>\n",
              "      <th>quality_group</th>\n",
              "      <th>quantity</th>\n",
              "      <th>source_type</th>\n",
              "      <th>source_class</th>\n",
              "      <th>waterpoint_type</th>\n",
              "      <th>status_group</th>\n",
              "    </tr>\n",
              "  </thead>\n",
              "  <tbody>\n",
              "    <tr>\n",
              "      <th>count</th>\n",
              "      <td>59400</td>\n",
              "      <td>58623</td>\n",
              "      <td>55837</td>\n",
              "      <td>59400</td>\n",
              "      <td>59400</td>\n",
              "      <td>59400</td>\n",
              "      <td>59400</td>\n",
              "      <td>59400</td>\n",
              "      <td>56066</td>\n",
              "      <td>59400</td>\n",
              "      <td>55523</td>\n",
              "      <td>58756</td>\n",
              "      <td>56344</td>\n",
              "      <td>59400</td>\n",
              "      <td>59400</td>\n",
              "      <td>59400</td>\n",
              "      <td>59400</td>\n",
              "      <td>59400</td>\n",
              "      <td>59400</td>\n",
              "      <td>59400</td>\n",
              "      <td>59400</td>\n",
              "      <td>59400</td>\n",
              "      <td>59400</td>\n",
              "      <td>59400</td>\n",
              "      <td>59400</td>\n",
              "      <td>59400</td>\n",
              "    </tr>\n",
              "    <tr>\n",
              "      <th>unique</th>\n",
              "      <td>11</td>\n",
              "      <td>10</td>\n",
              "      <td>10</td>\n",
              "      <td>9</td>\n",
              "      <td>11</td>\n",
              "      <td>21</td>\n",
              "      <td>11</td>\n",
              "      <td>11</td>\n",
              "      <td>2</td>\n",
              "      <td>1</td>\n",
              "      <td>12</td>\n",
              "      <td>10</td>\n",
              "      <td>2</td>\n",
              "      <td>18</td>\n",
              "      <td>7</td>\n",
              "      <td>12</td>\n",
              "      <td>5</td>\n",
              "      <td>7</td>\n",
              "      <td>7</td>\n",
              "      <td>8</td>\n",
              "      <td>6</td>\n",
              "      <td>5</td>\n",
              "      <td>7</td>\n",
              "      <td>3</td>\n",
              "      <td>7</td>\n",
              "      <td>3</td>\n",
              "    </tr>\n",
              "    <tr>\n",
              "      <th>top</th>\n",
              "      <td>Other</td>\n",
              "      <td>Other</td>\n",
              "      <td>Other</td>\n",
              "      <td>Lake Victoria</td>\n",
              "      <td>Other</td>\n",
              "      <td>Iringa</td>\n",
              "      <td>Other</td>\n",
              "      <td>Other</td>\n",
              "      <td>True</td>\n",
              "      <td>GeoData Consultants Ltd</td>\n",
              "      <td>VWC</td>\n",
              "      <td>Other</td>\n",
              "      <td>True</td>\n",
              "      <td>gravity</td>\n",
              "      <td>gravity</td>\n",
              "      <td>vwc</td>\n",
              "      <td>user-group</td>\n",
              "      <td>never pay</td>\n",
              "      <td>never pay</td>\n",
              "      <td>soft</td>\n",
              "      <td>good</td>\n",
              "      <td>enough</td>\n",
              "      <td>spring</td>\n",
              "      <td>groundwater</td>\n",
              "      <td>communal standpipe</td>\n",
              "      <td>functional</td>\n",
              "    </tr>\n",
              "    <tr>\n",
              "      <th>freq</th>\n",
              "      <td>36967</td>\n",
              "      <td>33013</td>\n",
              "      <td>51209</td>\n",
              "      <td>10248</td>\n",
              "      <td>56342</td>\n",
              "      <td>5294</td>\n",
              "      <td>46930</td>\n",
              "      <td>57168</td>\n",
              "      <td>51011</td>\n",
              "      <td>59400</td>\n",
              "      <td>36793</td>\n",
              "      <td>55259</td>\n",
              "      <td>38852</td>\n",
              "      <td>26780</td>\n",
              "      <td>26780</td>\n",
              "      <td>40507</td>\n",
              "      <td>52490</td>\n",
              "      <td>25348</td>\n",
              "      <td>25348</td>\n",
              "      <td>50818</td>\n",
              "      <td>50818</td>\n",
              "      <td>33186</td>\n",
              "      <td>17021</td>\n",
              "      <td>45794</td>\n",
              "      <td>28522</td>\n",
              "      <td>32259</td>\n",
              "    </tr>\n",
              "  </tbody>\n",
              "</table>\n",
              "</div>"
            ],
            "text/plain": [
              "       funder installer wpt_name  ... source_class     waterpoint_type status_group\n",
              "count   59400     58623    55837  ...        59400               59400        59400\n",
              "unique     11        10       10  ...            3                   7            3\n",
              "top     Other     Other    Other  ...  groundwater  communal standpipe   functional\n",
              "freq    36967     33013    51209  ...        45794               28522        32259\n",
              "\n",
              "[4 rows x 26 columns]"
            ]
          },
          "metadata": {
            "tags": []
          },
          "execution_count": 391
        }
      ]
    },
    {
      "cell_type": "markdown",
      "metadata": {
        "id": "p9oSYS3J2TpR",
        "colab_type": "text"
      },
      "source": [
        "# Function and pipeline"
      ]
    },
    {
      "cell_type": "code",
      "metadata": {
        "id": "RPDSU1UcngUR",
        "colab_type": "code",
        "colab": {}
      },
      "source": [
        "# Built from code from above, comments for each piece are above\n",
        "def wrangler(dataframe):\n",
        "\n",
        "  x = dataframe.copy()\n",
        "  \n",
        "  # New Feature\n",
        "  x['date_recorded'] = x['date_recorded'].str[:4].astype(int)\n",
        "  x['years_before_service'] = x['date_recorded'] - x['construction_year']\n",
        "  x.loc[(x['years_before_service']<0) | (x['years_before_service']>100), 'years_before_service'] = 0\n",
        "  \n",
        "  # Use code from earlier to reduce cardinality of some features\n",
        "  df = x.describe(exclude='number').T.sort_values(by='unique', ascending=False)[:10]\n",
        "  high_card = 50\n",
        "  high_card_features = df[df['unique'] >= high_card].T.columns.tolist()\n",
        "  for i in high_card_features:\n",
        "    top15 = x[i].value_counts()[:10].index\n",
        "    x.loc[~x[i].isin(top15), i] = 'Other'\n",
        "\n",
        "  # Replace None, none, 0 with NaN values, and fix long/lat columns\n",
        "  features_replace = ['scheme_name', 'installer', 'funder', 'wpt_name', 'longitude', 'latitude']\n",
        "  x[features_replace] = x[features_replace].replace({'None':np.nan, 'none':np.nan, '0':np.nan, -2e-8:np.nan})\n",
        "  \n",
        "  # Drop duplicate and highly correlated features\n",
        "  drops = ['extraction_type_group', 'waterpoint_type_group', 'source', 'id']\n",
        "  x = x.drop(drops, axis=1)\n",
        "\n",
        "  return x"
      ],
      "execution_count": 0,
      "outputs": []
    },
    {
      "cell_type": "markdown",
      "metadata": {
        "id": "roH6ckLTS9Ch",
        "colab_type": "text"
      },
      "source": [
        "### Apply to my_train, my_val "
      ]
    },
    {
      "cell_type": "code",
      "metadata": {
        "id": "9WuCWzRTSz7F",
        "colab_type": "code",
        "colab": {}
      },
      "source": [
        "wrangled_train = wrangler(my_train)\n",
        "wrangled_val = wrangler(my_val)"
      ],
      "execution_count": 0,
      "outputs": []
    },
    {
      "cell_type": "markdown",
      "metadata": {
        "id": "HJ7ed-CfVDG8",
        "colab_type": "text"
      },
      "source": [
        "### All features"
      ]
    },
    {
      "cell_type": "code",
      "metadata": {
        "id": "axuBVQENTXmv",
        "colab_type": "code",
        "colab": {}
      },
      "source": [
        "# With ALL features\n",
        "target = 'status_group'\n",
        "\n",
        "X_train = wrangled_train.drop(target, axis=1)\n",
        "X_val = wrangled_val.drop(target, axis=1)\n",
        "\n",
        "y_train = wrangled_train[target]\n",
        "y_val = wrangled_val[target]"
      ],
      "execution_count": 0,
      "outputs": []
    },
    {
      "cell_type": "code",
      "metadata": {
        "id": "qwjVJGlhUEnG",
        "colab_type": "code",
        "colab": {
          "base_uri": "https://localhost:8080/",
          "height": 0
        },
        "outputId": "095b4e52-a9c4-40f6-b20c-16db8e031776"
      },
      "source": [
        "pipeline = make_pipeline(\n",
        "    ce.OneHotEncoder(use_cat_names=True),\n",
        "    SimpleImputer(),\n",
        "    StandardScaler(),\n",
        "    DecisionTreeClassifier(random_state=42)\n",
        ")\n",
        "\n",
        "pipeline.fit(X_train, y_train)\n",
        "print(f'Train Accuracy: {pipeline.score(X_train, y_train)}')\n",
        "print(f'Validation Accuracy: {pipeline.score(X_val, y_val)}')"
      ],
      "execution_count": 506,
      "outputs": [
        {
          "output_type": "stream",
          "text": [
            "Train Accuracy: 0.9973063973063973\n",
            "Validation Accuracy: 0.7503030303030302\n"
          ],
          "name": "stdout"
        }
      ]
    },
    {
      "cell_type": "code",
      "metadata": {
        "id": "LWsNHm-LUYLy",
        "colab_type": "code",
        "colab": {
          "base_uri": "https://localhost:8080/",
          "height": 0
        },
        "outputId": "d427ea28-1373-42a0-8355-e467fc126e15"
      },
      "source": [
        "pipeline = make_pipeline(\n",
        "    ce.OneHotEncoder(use_cat_names=True),\n",
        "    SimpleImputer(),\n",
        "    StandardScaler(),\n",
        "    DecisionTreeClassifier(max_depth=12, random_state=42)\n",
        ")\n",
        "\n",
        "pipeline.fit(X_train, y_train)\n",
        "print(f'Train Accuracy: {pipeline.score(X_train, y_train)}')\n",
        "print(f'Validation Accuracy: {pipeline.score(X_val, y_val)}')"
      ],
      "execution_count": 421,
      "outputs": [
        {
          "output_type": "stream",
          "text": [
            "Train Accuracy: 0.7826711560044893\n",
            "Validation Accuracy: 0.7464646464646465\n"
          ],
          "name": "stdout"
        }
      ]
    },
    {
      "cell_type": "code",
      "metadata": {
        "id": "z61Lg3euVK21",
        "colab_type": "code",
        "colab": {
          "base_uri": "https://localhost:8080/",
          "height": 0
        },
        "outputId": "91f72973-0a36-4b65-875b-01b1bf11d020"
      },
      "source": [
        "for max_depth in range(1,20):\n",
        "  pipeline = make_pipeline(\n",
        "    ce.OneHotEncoder(use_cat_names=True),\n",
        "    SimpleImputer(),\n",
        "    DecisionTreeClassifier(max_depth=max_depth, random_state=42)\n",
        "  )\n",
        "\n",
        "  pipeline.fit(X_train, y_train)\n",
        "  print(f'For max_depth of {max_depth}:')\n",
        "  print(f'Train Accuracy: {pipeline.score(X_train, y_train)}')\n",
        "  print(f'Validation Accuracy: {pipeline.score(X_val, y_val)}')"
      ],
      "execution_count": 420,
      "outputs": [
        {
          "output_type": "stream",
          "text": [
            "For max_depth of 1:\n",
            "Train Accuracy: 0.6410998877665545\n",
            "Validation Accuracy: 0.645993265993266\n",
            "For max_depth of 2:\n",
            "Train Accuracy: 0.6925028058361392\n",
            "Validation Accuracy: 0.695959595959596\n",
            "For max_depth of 3:\n",
            "Train Accuracy: 0.6957575757575758\n",
            "Validation Accuracy: 0.6957575757575758\n",
            "For max_depth of 4:\n",
            "Train Accuracy: 0.7059034792368126\n",
            "Validation Accuracy: 0.7082154882154882\n",
            "For max_depth of 5:\n",
            "Train Accuracy: 0.7101907968574636\n",
            "Validation Accuracy: 0.7124579124579125\n",
            "For max_depth of 6:\n",
            "Train Accuracy: 0.7248035914702582\n",
            "Validation Accuracy: 0.7226936026936027\n",
            "For max_depth of 7:\n",
            "Train Accuracy: 0.7302356902356902\n",
            "Validation Accuracy: 0.7243771043771043\n",
            "For max_depth of 8:\n",
            "Train Accuracy: 0.7412570145903479\n",
            "Validation Accuracy: 0.7320538720538721\n",
            "For max_depth of 9:\n",
            "Train Accuracy: 0.7507744107744108\n",
            "Validation Accuracy: 0.736026936026936\n",
            "For max_depth of 10:\n",
            "Train Accuracy: 0.7605611672278338\n",
            "Validation Accuracy: 0.7411447811447811\n",
            "For max_depth of 11:\n",
            "Train Accuracy: 0.7694276094276095\n",
            "Validation Accuracy: 0.7420875420875421\n",
            "For max_depth of 12:\n",
            "Train Accuracy: 0.7826711560044893\n",
            "Validation Accuracy: 0.7463973063973064\n",
            "For max_depth of 13:\n",
            "Train Accuracy: 0.7955555555555556\n",
            "Validation Accuracy: 0.7479461279461279\n",
            "For max_depth of 14:\n",
            "Train Accuracy: 0.8124130190796858\n",
            "Validation Accuracy: 0.7589225589225589\n",
            "For max_depth of 15:\n",
            "Train Accuracy: 0.8281257014590347\n",
            "Validation Accuracy: 0.7637710437710438\n",
            "For max_depth of 16:\n",
            "Train Accuracy: 0.8438383838383838\n",
            "Validation Accuracy: 0.7648484848484849\n",
            "For max_depth of 17:\n",
            "Train Accuracy: 0.8596632996632997\n",
            "Validation Accuracy: 0.7696969696969697\n",
            "For max_depth of 18:\n",
            "Train Accuracy: 0.8761391694725028\n",
            "Validation Accuracy: 0.7721212121212121\n",
            "For max_depth of 19:\n",
            "Train Accuracy: 0.8895173961840629\n",
            "Validation Accuracy: 0.7717171717171717\n"
          ],
          "name": "stdout"
        }
      ]
    },
    {
      "cell_type": "code",
      "metadata": {
        "id": "d7UEGtF4VoFW",
        "colab_type": "code",
        "colab": {
          "base_uri": "https://localhost:8080/",
          "height": 0
        },
        "outputId": "5b86e9fc-b21a-46dc-db59-1227769169c1"
      },
      "source": [
        "pipeline = make_pipeline(\n",
        "    ce.OneHotEncoder(use_cat_names=True),\n",
        "    SimpleImputer(),\n",
        "    StandardScaler(),\n",
        "    DecisionTreeClassifier(min_samples_leaf=10, random_state=42)\n",
        ")\n",
        "\n",
        "pipeline.fit(X_train, y_train)\n",
        "print(f'Train Accuracy: {pipeline.score(X_train, y_train)}')\n",
        "print(f'Validation Accuracy: {pipeline.score(X_val, y_val)}')"
      ],
      "execution_count": 428,
      "outputs": [
        {
          "output_type": "stream",
          "text": [
            "Train Accuracy: 0.8382716049382716\n",
            "Validation Accuracy: 0.767003367003367\n"
          ],
          "name": "stdout"
        }
      ]
    },
    {
      "cell_type": "markdown",
      "metadata": {
        "id": "ydTOmoP9XTZQ",
        "colab_type": "text"
      },
      "source": [
        "### Selected features"
      ]
    },
    {
      "cell_type": "code",
      "metadata": {
        "id": "OByDjjDKXOT9",
        "colab_type": "code",
        "colab": {
          "base_uri": "https://localhost:8080/",
          "height": 353
        },
        "outputId": "cc55bf23-eaf5-468d-ee17-a9ea8b3cae6a"
      },
      "source": [
        "pipeline.named_steps"
      ],
      "execution_count": 429,
      "outputs": [
        {
          "output_type": "execute_result",
          "data": {
            "text/plain": [
              "{'decisiontreeclassifier': DecisionTreeClassifier(class_weight=None, criterion='gini', max_depth=None,\n",
              "                        max_features=None, max_leaf_nodes=None,\n",
              "                        min_impurity_decrease=0.0, min_impurity_split=None,\n",
              "                        min_samples_leaf=10, min_samples_split=2,\n",
              "                        min_weight_fraction_leaf=0.0, presort=False,\n",
              "                        random_state=42, splitter='best'),\n",
              " 'onehotencoder': OneHotEncoder(cols=['funder', 'installer', 'wpt_name', 'basin', 'subvillage',\n",
              "                     'region', 'lga', 'ward', 'public_meeting', 'recorded_by',\n",
              "                     'scheme_management', 'scheme_name', 'permit',\n",
              "                     'extraction_type', 'extraction_type_class', 'management',\n",
              "                     'management_group', 'payment', 'payment_type',\n",
              "                     'water_quality', 'quality_group', 'quantity',\n",
              "                     'quantity_group', 'source_type', 'source_class',\n",
              "                     'waterpoint_type'],\n",
              "               drop_invariant=False, handle_missing='value',\n",
              "               handle_unknown='value', return_df=True, use_cat_names=True,\n",
              "               verbose=0),\n",
              " 'simpleimputer': SimpleImputer(add_indicator=False, copy=True, fill_value=None,\n",
              "               missing_values=nan, strategy='mean', verbose=0),\n",
              " 'standardscaler': StandardScaler(copy=True, with_mean=True, with_std=True)}"
            ]
          },
          "metadata": {
            "tags": []
          },
          "execution_count": 429
        }
      ]
    },
    {
      "cell_type": "code",
      "metadata": {
        "id": "98iBA8p9d8_K",
        "colab_type": "code",
        "colab": {
          "base_uri": "https://localhost:8080/",
          "height": 1000
        },
        "outputId": "b9aa3e46-4a91-4038-ca6e-495ab9743a4d"
      },
      "source": [
        "plt.figure(figsize=(10,30))\n",
        "importances.sort_values().plot.barh()"
      ],
      "execution_count": 480,
      "outputs": [
        {
          "output_type": "execute_result",
          "data": {
            "text/plain": [
              "<matplotlib.axes._subplots.AxesSubplot at 0x7fa3ffc710f0>"
            ]
          },
          "metadata": {
            "tags": []
          },
          "execution_count": 480
        },
        {
          "output_type": "display_data",
          "data": {
            "image/png": "[encoded data removed]",
            "text/plain": [
              "<Figure size 720x2160 with 1 Axes>"
            ]
          },
          "metadata": {
            "tags": []
          }
        }
      ]
    },
    {
      "cell_type": "code",
      "metadata": {
        "id": "EadB8bjoXYxC",
        "colab_type": "code",
        "colab": {
          "base_uri": "https://localhost:8080/",
          "height": 353
        },
        "outputId": "8fbdae9f-be61-4077-d444-165935a6e69e"
      },
      "source": [
        "%matplotlib inline\n",
        "import matplotlib.pyplot as plt\n",
        "\n",
        "model = pipeline.named_steps['decisiontreeclassifier']\n",
        "encoder = pipeline.named_steps['onehotencoder']\n",
        "encoded_columns = encoder.transform(X_val).columns\n",
        "importances = pd.Series(model.feature_importances_, encoded_columns)\n",
        "importances.sort_values(ascending=False)[:20].index.tolist()"
      ],
      "execution_count": 443,
      "outputs": [
        {
          "output_type": "execute_result",
          "data": {
            "text/plain": [
              "['quantity_group_dry',\n",
              " 'waterpoint_type_other',\n",
              " 'longitude',\n",
              " 'latitude',\n",
              " 'years_before_service',\n",
              " 'gps_height',\n",
              " 'amount_tsh',\n",
              " 'waterpoint_type_communal standpipe multiple',\n",
              " 'population',\n",
              " 'construction_year',\n",
              " 'district_code',\n",
              " 'source_type_borehole',\n",
              " 'date_recorded',\n",
              " 'region_Kigoma',\n",
              " 'quantity_group_enough',\n",
              " 'management_vwc',\n",
              " 'region_Shinyanga',\n",
              " 'extraction_type_other',\n",
              " 'lga_Bariadi',\n",
              " 'region_Iringa']"
            ]
          },
          "metadata": {
            "tags": []
          },
          "execution_count": 443
        }
      ]
    },
    {
      "cell_type": "code",
      "metadata": {
        "id": "_s1Xqf1dcwHm",
        "colab_type": "code",
        "colab": {
          "base_uri": "https://localhost:8080/",
          "height": 185
        },
        "outputId": "c9a3cbb9-6080-4eef-b502-2d3422ebac2d"
      },
      "source": [
        "wrangled_train.columns"
      ],
      "execution_count": 464,
      "outputs": [
        {
          "output_type": "execute_result",
          "data": {
            "text/plain": [
              "Index(['amount_tsh', 'date_recorded', 'funder', 'gps_height', 'installer',\n",
              "       'longitude', 'latitude', 'wpt_name', 'num_private', 'basin',\n",
              "       'subvillage', 'region', 'region_code', 'district_code', 'lga', 'ward',\n",
              "       'population', 'public_meeting', 'recorded_by', 'scheme_management',\n",
              "       'scheme_name', 'permit', 'construction_year', 'extraction_type',\n",
              "       'extraction_type_class', 'management', 'management_group', 'payment',\n",
              "       'payment_type', 'water_quality', 'quality_group', 'quantity',\n",
              "       'quantity_group', 'source_type', 'source_class', 'waterpoint_type',\n",
              "       'status_group', 'years_before_service'],\n",
              "      dtype='object')"
            ]
          },
          "metadata": {
            "tags": []
          },
          "execution_count": 464
        }
      ]
    },
    {
      "cell_type": "code",
      "metadata": {
        "id": "-Hm6h0fkY-uz",
        "colab_type": "code",
        "colab": {}
      },
      "source": [
        "new_features = ['quantity_group', 'waterpoint_type', 'longitude', 'latitude', 'years_before_service', 'wpt_name', 'gps_height', 'amount_tsh']"
      ],
      "execution_count": 0,
      "outputs": []
    },
    {
      "cell_type": "code",
      "metadata": {
        "id": "sx-XpuV6Zwvo",
        "colab_type": "code",
        "colab": {}
      },
      "source": [
        "X_train1 = wrangled_train[new_features]\n",
        "X_val1 = wrangled_val[new_features]\n",
        "\n",
        "y_train1 = wrangled_train[target]\n",
        "y_val1 = wrangled_val[target]"
      ],
      "execution_count": 0,
      "outputs": []
    },
    {
      "cell_type": "code",
      "metadata": {
        "id": "z5GO3yReZ9Tn",
        "colab_type": "code",
        "colab": {
          "base_uri": "https://localhost:8080/",
          "height": 935
        },
        "outputId": "fed2b5c2-8904-42a7-ef55-4161ad8d5eb2"
      },
      "source": [
        "index = range(0, 30)\n",
        "isitgood = pd.DataFrame(index=index,columns=['Max Depth', 'Train Accuracy', 'Validation Accuracy'])\n",
        "\n",
        "for i in range(1,30):\n",
        "  pipeline = make_pipeline(\n",
        "      ce.OneHotEncoder(use_cat_names=True),\n",
        "      SimpleImputer(),\n",
        "      StandardScaler(),\n",
        "      DecisionTreeClassifier(max_depth=i, random_state=42)\n",
        "  )\n",
        "\n",
        "  pipeline.fit(X_train1, y_train)\n",
        "  isitgood['Max Depth'][i] = i\n",
        "  isitgood['Train Accuracy'][i] = pipeline.score(X_train1, y_train)\n",
        "  isitgood['Validation Accuracy'][i] = pipeline.score(X_val1, y_val)\n",
        "  \n",
        "isitgood"
      ],
      "execution_count": 503,
      "outputs": [
        {
          "output_type": "execute_result",
          "data": {
            "text/html": [
              "<div>\n",
              "<style scoped>\n",
              "    .dataframe tbody tr th:only-of-type {\n",
              "        vertical-align: middle;\n",
              "    }\n",
              "\n",
              "    .dataframe tbody tr th {\n",
              "        vertical-align: top;\n",
              "    }\n",
              "\n",
              "    .dataframe thead th {\n",
              "        text-align: right;\n",
              "    }\n",
              "</style>\n",
              "<table border=\"1\" class=\"dataframe\">\n",
              "  <thead>\n",
              "    <tr style=\"text-align: right;\">\n",
              "      <th></th>\n",
              "      <th>Max Depth</th>\n",
              "      <th>Train Accuracy</th>\n",
              "      <th>Validation Accuracy</th>\n",
              "    </tr>\n",
              "  </thead>\n",
              "  <tbody>\n",
              "    <tr>\n",
              "      <th>0</th>\n",
              "      <td>NaN</td>\n",
              "      <td>NaN</td>\n",
              "      <td>NaN</td>\n",
              "    </tr>\n",
              "    <tr>\n",
              "      <th>1</th>\n",
              "      <td>1</td>\n",
              "      <td>0.6411</td>\n",
              "      <td>0.645993</td>\n",
              "    </tr>\n",
              "    <tr>\n",
              "      <th>2</th>\n",
              "      <td>2</td>\n",
              "      <td>0.692503</td>\n",
              "      <td>0.69596</td>\n",
              "    </tr>\n",
              "    <tr>\n",
              "      <th>3</th>\n",
              "      <td>3</td>\n",
              "      <td>0.695758</td>\n",
              "      <td>0.695758</td>\n",
              "    </tr>\n",
              "    <tr>\n",
              "      <th>4</th>\n",
              "      <td>4</td>\n",
              "      <td>0.704242</td>\n",
              "      <td>0.706801</td>\n",
              "    </tr>\n",
              "    <tr>\n",
              "      <th>5</th>\n",
              "      <td>5</td>\n",
              "      <td>0.707901</td>\n",
              "      <td>0.709899</td>\n",
              "    </tr>\n",
              "    <tr>\n",
              "      <th>6</th>\n",
              "      <td>6</td>\n",
              "      <td>0.722222</td>\n",
              "      <td>0.720337</td>\n",
              "    </tr>\n",
              "    <tr>\n",
              "      <th>7</th>\n",
              "      <td>7</td>\n",
              "      <td>0.72716</td>\n",
              "      <td>0.724916</td>\n",
              "    </tr>\n",
              "    <tr>\n",
              "      <th>8</th>\n",
              "      <td>8</td>\n",
              "      <td>0.733423</td>\n",
              "      <td>0.726397</td>\n",
              "    </tr>\n",
              "    <tr>\n",
              "      <th>9</th>\n",
              "      <td>9</td>\n",
              "      <td>0.74092</td>\n",
              "      <td>0.73138</td>\n",
              "    </tr>\n",
              "    <tr>\n",
              "      <th>10</th>\n",
              "      <td>10</td>\n",
              "      <td>0.751291</td>\n",
              "      <td>0.732323</td>\n",
              "    </tr>\n",
              "    <tr>\n",
              "      <th>11</th>\n",
              "      <td>11</td>\n",
              "      <td>0.762065</td>\n",
              "      <td>0.739192</td>\n",
              "    </tr>\n",
              "    <tr>\n",
              "      <th>12</th>\n",
              "      <td>12</td>\n",
              "      <td>0.776139</td>\n",
              "      <td>0.74101</td>\n",
              "    </tr>\n",
              "    <tr>\n",
              "      <th>13</th>\n",
              "      <td>13</td>\n",
              "      <td>0.793558</td>\n",
              "      <td>0.746465</td>\n",
              "    </tr>\n",
              "    <tr>\n",
              "      <th>14</th>\n",
              "      <td>14</td>\n",
              "      <td>0.811627</td>\n",
              "      <td>0.751178</td>\n",
              "    </tr>\n",
              "    <tr>\n",
              "      <th>15</th>\n",
              "      <td>15</td>\n",
              "      <td>0.829675</td>\n",
              "      <td>0.750707</td>\n",
              "    </tr>\n",
              "    <tr>\n",
              "      <th>16</th>\n",
              "      <td>16</td>\n",
              "      <td>0.848126</td>\n",
              "      <td>0.74963</td>\n",
              "    </tr>\n",
              "    <tr>\n",
              "      <th>17</th>\n",
              "      <td>17</td>\n",
              "      <td>0.86734</td>\n",
              "      <td>0.751178</td>\n",
              "    </tr>\n",
              "    <tr>\n",
              "      <th>18</th>\n",
              "      <td>18</td>\n",
              "      <td>0.886375</td>\n",
              "      <td>0.75064</td>\n",
              "    </tr>\n",
              "    <tr>\n",
              "      <th>19</th>\n",
              "      <td>19</td>\n",
              "      <td>0.902896</td>\n",
              "      <td>0.750236</td>\n",
              "    </tr>\n",
              "    <tr>\n",
              "      <th>20</th>\n",
              "      <td>20</td>\n",
              "      <td>0.918159</td>\n",
              "      <td>0.749226</td>\n",
              "    </tr>\n",
              "    <tr>\n",
              "      <th>21</th>\n",
              "      <td>21</td>\n",
              "      <td>0.931538</td>\n",
              "      <td>0.746532</td>\n",
              "    </tr>\n",
              "    <tr>\n",
              "      <th>22</th>\n",
              "      <td>22</td>\n",
              "      <td>0.942626</td>\n",
              "      <td>0.741481</td>\n",
              "    </tr>\n",
              "    <tr>\n",
              "      <th>23</th>\n",
              "      <td>23</td>\n",
              "      <td>0.952278</td>\n",
              "      <td>0.743569</td>\n",
              "    </tr>\n",
              "    <tr>\n",
              "      <th>24</th>\n",
              "      <td>24</td>\n",
              "      <td>0.960898</td>\n",
              "      <td>0.740741</td>\n",
              "    </tr>\n",
              "    <tr>\n",
              "      <th>25</th>\n",
              "      <td>25</td>\n",
              "      <td>0.967699</td>\n",
              "      <td>0.737441</td>\n",
              "    </tr>\n",
              "    <tr>\n",
              "      <th>26</th>\n",
              "      <td>26</td>\n",
              "      <td>0.973423</td>\n",
              "      <td>0.736027</td>\n",
              "    </tr>\n",
              "    <tr>\n",
              "      <th>27</th>\n",
              "      <td>27</td>\n",
              "      <td>0.9778</td>\n",
              "      <td>0.738586</td>\n",
              "    </tr>\n",
              "    <tr>\n",
              "      <th>28</th>\n",
              "      <td>28</td>\n",
              "      <td>0.981077</td>\n",
              "      <td>0.735758</td>\n",
              "    </tr>\n",
              "    <tr>\n",
              "      <th>29</th>\n",
              "      <td>29</td>\n",
              "      <td>0.984198</td>\n",
              "      <td>0.734343</td>\n",
              "    </tr>\n",
              "  </tbody>\n",
              "</table>\n",
              "</div>"
            ],
            "text/plain": [
              "   Max Depth Train Accuracy Validation Accuracy\n",
              "0        NaN            NaN                 NaN\n",
              "1          1         0.6411            0.645993\n",
              "2          2       0.692503             0.69596\n",
              "3          3       0.695758            0.695758\n",
              "4          4       0.704242            0.706801\n",
              "5          5       0.707901            0.709899\n",
              "6          6       0.722222            0.720337\n",
              "7          7        0.72716            0.724916\n",
              "8          8       0.733423            0.726397\n",
              "9          9        0.74092             0.73138\n",
              "10        10       0.751291            0.732323\n",
              "11        11       0.762065            0.739192\n",
              "12        12       0.776139             0.74101\n",
              "13        13       0.793558            0.746465\n",
              "14        14       0.811627            0.751178\n",
              "15        15       0.829675            0.750707\n",
              "16        16       0.848126             0.74963\n",
              "17        17        0.86734            0.751178\n",
              "18        18       0.886375             0.75064\n",
              "19        19       0.902896            0.750236\n",
              "20        20       0.918159            0.749226\n",
              "21        21       0.931538            0.746532\n",
              "22        22       0.942626            0.741481\n",
              "23        23       0.952278            0.743569\n",
              "24        24       0.960898            0.740741\n",
              "25        25       0.967699            0.737441\n",
              "26        26       0.973423            0.736027\n",
              "27        27         0.9778            0.738586\n",
              "28        28       0.981077            0.735758\n",
              "29        29       0.984198            0.734343"
            ]
          },
          "metadata": {
            "tags": []
          },
          "execution_count": 503
        }
      ]
    },
    {
      "cell_type": "code",
      "metadata": {
        "id": "4UXDFIfZfYzV",
        "colab_type": "code",
        "colab": {
          "base_uri": "https://localhost:8080/",
          "height": 935
        },
        "outputId": "4adbcca8-4906-4d58-9416-6c65524834a0"
      },
      "source": [
        "index = range(0, 30)\n",
        "isitgood1 = pd.DataFrame(index=index,columns=['Min Sample', 'Train Accuracy', 'Validation Accuracy'])\n",
        "\n",
        "for i in range(1,30):\n",
        "  pipeline = make_pipeline(\n",
        "      ce.OneHotEncoder(use_cat_names=True),\n",
        "      SimpleImputer(),\n",
        "      StandardScaler(),\n",
        "      DecisionTreeClassifier(min_samples_leaf=i, random_state=42)\n",
        "  )\n",
        "\n",
        "  pipeline.fit(X_train1, y_train)\n",
        "  isitgood1['Min Sample'][i] = i\n",
        "  isitgood1['Train Accuracy'][i] = pipeline.score(X_train1, y_train)\n",
        "  isitgood1['Validation Accuracy'][i] = pipeline.score(X_val1, y_val)\n",
        "  \n",
        "isitgood1"
      ],
      "execution_count": 504,
      "outputs": [
        {
          "output_type": "execute_result",
          "data": {
            "text/html": [
              "<div>\n",
              "<style scoped>\n",
              "    .dataframe tbody tr th:only-of-type {\n",
              "        vertical-align: middle;\n",
              "    }\n",
              "\n",
              "    .dataframe tbody tr th {\n",
              "        vertical-align: top;\n",
              "    }\n",
              "\n",
              "    .dataframe thead th {\n",
              "        text-align: right;\n",
              "    }\n",
              "</style>\n",
              "<table border=\"1\" class=\"dataframe\">\n",
              "  <thead>\n",
              "    <tr style=\"text-align: right;\">\n",
              "      <th></th>\n",
              "      <th>Min Sample</th>\n",
              "      <th>Train Accuracy</th>\n",
              "      <th>Validation Accuracy</th>\n",
              "    </tr>\n",
              "  </thead>\n",
              "  <tbody>\n",
              "    <tr>\n",
              "      <th>0</th>\n",
              "      <td>NaN</td>\n",
              "      <td>NaN</td>\n",
              "      <td>NaN</td>\n",
              "    </tr>\n",
              "    <tr>\n",
              "      <th>1</th>\n",
              "      <td>1</td>\n",
              "      <td>0.991246</td>\n",
              "      <td>0.734074</td>\n",
              "    </tr>\n",
              "    <tr>\n",
              "      <th>2</th>\n",
              "      <td>2</td>\n",
              "      <td>0.925679</td>\n",
              "      <td>0.745589</td>\n",
              "    </tr>\n",
              "    <tr>\n",
              "      <th>3</th>\n",
              "      <td>3</td>\n",
              "      <td>0.900673</td>\n",
              "      <td>0.744916</td>\n",
              "    </tr>\n",
              "    <tr>\n",
              "      <th>4</th>\n",
              "      <td>4</td>\n",
              "      <td>0.878339</td>\n",
              "      <td>0.746397</td>\n",
              "    </tr>\n",
              "    <tr>\n",
              "      <th>5</th>\n",
              "      <td>5</td>\n",
              "      <td>0.865814</td>\n",
              "      <td>0.748215</td>\n",
              "    </tr>\n",
              "    <tr>\n",
              "      <th>6</th>\n",
              "      <td>6</td>\n",
              "      <td>0.85349</td>\n",
              "      <td>0.748889</td>\n",
              "    </tr>\n",
              "    <tr>\n",
              "      <th>7</th>\n",
              "      <td>7</td>\n",
              "      <td>0.84431</td>\n",
              "      <td>0.746936</td>\n",
              "    </tr>\n",
              "    <tr>\n",
              "      <th>8</th>\n",
              "      <td>8</td>\n",
              "      <td>0.836251</td>\n",
              "      <td>0.751785</td>\n",
              "    </tr>\n",
              "    <tr>\n",
              "      <th>9</th>\n",
              "      <td>9</td>\n",
              "      <td>0.829585</td>\n",
              "      <td>0.754074</td>\n",
              "    </tr>\n",
              "    <tr>\n",
              "      <th>10</th>\n",
              "      <td>10</td>\n",
              "      <td>0.824848</td>\n",
              "      <td>0.756364</td>\n",
              "    </tr>\n",
              "    <tr>\n",
              "      <th>11</th>\n",
              "      <td>11</td>\n",
              "      <td>0.82092</td>\n",
              "      <td>0.757441</td>\n",
              "    </tr>\n",
              "    <tr>\n",
              "      <th>12</th>\n",
              "      <td>12</td>\n",
              "      <td>0.817217</td>\n",
              "      <td>0.758923</td>\n",
              "    </tr>\n",
              "    <tr>\n",
              "      <th>13</th>\n",
              "      <td>13</td>\n",
              "      <td>0.812974</td>\n",
              "      <td>0.758316</td>\n",
              "    </tr>\n",
              "    <tr>\n",
              "      <th>14</th>\n",
              "      <td>14</td>\n",
              "      <td>0.809585</td>\n",
              "      <td>0.759461</td>\n",
              "    </tr>\n",
              "    <tr>\n",
              "      <th>15</th>\n",
              "      <td>15</td>\n",
              "      <td>0.806532</td>\n",
              "      <td>0.760404</td>\n",
              "    </tr>\n",
              "    <tr>\n",
              "      <th>16</th>\n",
              "      <td>16</td>\n",
              "      <td>0.803906</td>\n",
              "      <td>0.758316</td>\n",
              "    </tr>\n",
              "    <tr>\n",
              "      <th>17</th>\n",
              "      <td>17</td>\n",
              "      <td>0.801796</td>\n",
              "      <td>0.756498</td>\n",
              "    </tr>\n",
              "    <tr>\n",
              "      <th>18</th>\n",
              "      <td>18</td>\n",
              "      <td>0.799371</td>\n",
              "      <td>0.755623</td>\n",
              "    </tr>\n",
              "    <tr>\n",
              "      <th>19</th>\n",
              "      <td>19</td>\n",
              "      <td>0.797733</td>\n",
              "      <td>0.755825</td>\n",
              "    </tr>\n",
              "    <tr>\n",
              "      <th>20</th>\n",
              "      <td>20</td>\n",
              "      <td>0.79596</td>\n",
              "      <td>0.752727</td>\n",
              "    </tr>\n",
              "    <tr>\n",
              "      <th>21</th>\n",
              "      <td>21</td>\n",
              "      <td>0.794792</td>\n",
              "      <td>0.750505</td>\n",
              "    </tr>\n",
              "    <tr>\n",
              "      <th>22</th>\n",
              "      <td>22</td>\n",
              "      <td>0.793311</td>\n",
              "      <td>0.75138</td>\n",
              "    </tr>\n",
              "    <tr>\n",
              "      <th>23</th>\n",
              "      <td>23</td>\n",
              "      <td>0.792278</td>\n",
              "      <td>0.749158</td>\n",
              "    </tr>\n",
              "    <tr>\n",
              "      <th>24</th>\n",
              "      <td>24</td>\n",
              "      <td>0.789764</td>\n",
              "      <td>0.750438</td>\n",
              "    </tr>\n",
              "    <tr>\n",
              "      <th>25</th>\n",
              "      <td>25</td>\n",
              "      <td>0.788283</td>\n",
              "      <td>0.751582</td>\n",
              "    </tr>\n",
              "    <tr>\n",
              "      <th>26</th>\n",
              "      <td>26</td>\n",
              "      <td>0.786801</td>\n",
              "      <td>0.749226</td>\n",
              "    </tr>\n",
              "    <tr>\n",
              "      <th>27</th>\n",
              "      <td>27</td>\n",
              "      <td>0.785679</td>\n",
              "      <td>0.750168</td>\n",
              "    </tr>\n",
              "    <tr>\n",
              "      <th>28</th>\n",
              "      <td>28</td>\n",
              "      <td>0.784804</td>\n",
              "      <td>0.750842</td>\n",
              "    </tr>\n",
              "    <tr>\n",
              "      <th>29</th>\n",
              "      <td>29</td>\n",
              "      <td>0.783143</td>\n",
              "      <td>0.749428</td>\n",
              "    </tr>\n",
              "  </tbody>\n",
              "</table>\n",
              "</div>"
            ],
            "text/plain": [
              "   Min Sample Train Accuracy Validation Accuracy\n",
              "0         NaN            NaN                 NaN\n",
              "1           1       0.991246            0.734074\n",
              "2           2       0.925679            0.745589\n",
              "3           3       0.900673            0.744916\n",
              "4           4       0.878339            0.746397\n",
              "5           5       0.865814            0.748215\n",
              "6           6        0.85349            0.748889\n",
              "7           7        0.84431            0.746936\n",
              "8           8       0.836251            0.751785\n",
              "9           9       0.829585            0.754074\n",
              "10         10       0.824848            0.756364\n",
              "11         11        0.82092            0.757441\n",
              "12         12       0.817217            0.758923\n",
              "13         13       0.812974            0.758316\n",
              "14         14       0.809585            0.759461\n",
              "15         15       0.806532            0.760404\n",
              "16         16       0.803906            0.758316\n",
              "17         17       0.801796            0.756498\n",
              "18         18       0.799371            0.755623\n",
              "19         19       0.797733            0.755825\n",
              "20         20        0.79596            0.752727\n",
              "21         21       0.794792            0.750505\n",
              "22         22       0.793311             0.75138\n",
              "23         23       0.792278            0.749158\n",
              "24         24       0.789764            0.750438\n",
              "25         25       0.788283            0.751582\n",
              "26         26       0.786801            0.749226\n",
              "27         27       0.785679            0.750168\n",
              "28         28       0.784804            0.750842\n",
              "29         29       0.783143            0.749428"
            ]
          },
          "metadata": {
            "tags": []
          },
          "execution_count": 504
        }
      ]
    },
    {
      "cell_type": "markdown",
      "metadata": {
        "id": "k_LwSidhh-Oa",
        "colab_type": "text"
      },
      "source": [
        "# I DON'T LIKE THIS FUNCTION LET'S DO IT AGAIN"
      ]
    },
    {
      "cell_type": "code",
      "metadata": {
        "id": "6Q6hrkfJiAy2",
        "colab_type": "code",
        "colab": {}
      },
      "source": [
        "# Built from code from above, comments for each piece are above\n",
        "def wrangler1(dataframe):\n",
        "\n",
        "  x = dataframe.copy()\n",
        "  \n",
        "  # New Feature\n",
        "  x['date_recorded'] = x['date_recorded'].str[:4].astype(int)\n",
        "  x['years_before_service'] = x['date_recorded'] - x['construction_year']\n",
        "  x.loc[(x['years_before_service']<0) | (x['years_before_service']>100), 'years_before_service'] = 0\n",
        "  \n",
        "  # Use code from earlier to reduce cardinality of some features\n",
        "  # df = x.describe(exclude='number').T.sort_values(by='unique', ascending=False)[:10]\n",
        "  # high_card = 50\n",
        "  # high_card_features = df[df['unique'] >= high_card].T.columns.tolist()\n",
        "  # for i in high_card_features:\n",
        "  #   top15 = x[i].value_counts()[:10].index\n",
        "  #   x.loc[~x[i].isin(top15), i] = 'Other'\n",
        "\n",
        "  # Replace None, none, 0 with NaN values, and fix long/lat columns\n",
        "  features_replace = ['scheme_name', 'installer', 'funder', 'wpt_name', 'longitude', 'latitude']\n",
        "  x[features_replace] = x[features_replace].replace({'None':np.nan, 'none':np.nan, '0':np.nan, -2e-8:np.nan})\n",
        "  \n",
        "  # Drop duplicate and highly correlated features\n",
        "  drops = ['extraction_type_group', 'waterpoint_type_group', 'source', 'quantity_group', 'id']\n",
        "  x = x.drop(drops, axis=1)\n",
        "\n",
        "  return x"
      ],
      "execution_count": 0,
      "outputs": []
    },
    {
      "cell_type": "code",
      "metadata": {
        "id": "3Del0YhojDW1",
        "colab_type": "code",
        "colab": {}
      },
      "source": [
        "wrangled_train1 = wrangler1(my_train)\n",
        "wrangled_val1 = wrangler(my_val)"
      ],
      "execution_count": 0,
      "outputs": []
    },
    {
      "cell_type": "code",
      "metadata": {
        "id": "EIfyBRDyj74h",
        "colab_type": "code",
        "colab": {
          "base_uri": "https://localhost:8080/",
          "height": 504
        },
        "outputId": "c88f8962-7982-45c5-f822-8900f331984e"
      },
      "source": [
        "train_features = wrangled_train1.drop(target, axis=1)\n",
        "numeric = train_features.select_dtypes(include='number').columns.tolist()\n",
        "card = train_features.select_dtypes(exclude='number').nunique()\n",
        "categorical = card[card <= 50].index.tolist()\n",
        "feats = numeric + categorical\n",
        "feats"
      ],
      "execution_count": 530,
      "outputs": [
        {
          "output_type": "execute_result",
          "data": {
            "text/plain": [
              "['amount_tsh',\n",
              " 'date_recorded',\n",
              " 'gps_height',\n",
              " 'longitude',\n",
              " 'latitude',\n",
              " 'num_private',\n",
              " 'region_code',\n",
              " 'district_code',\n",
              " 'population',\n",
              " 'construction_year',\n",
              " 'years_before_service',\n",
              " 'basin',\n",
              " 'region',\n",
              " 'public_meeting',\n",
              " 'recorded_by',\n",
              " 'scheme_management',\n",
              " 'permit',\n",
              " 'extraction_type',\n",
              " 'extraction_type_class',\n",
              " 'management',\n",
              " 'management_group',\n",
              " 'payment',\n",
              " 'payment_type',\n",
              " 'water_quality',\n",
              " 'quality_group',\n",
              " 'quantity',\n",
              " 'source_type',\n",
              " 'source_class',\n",
              " 'waterpoint_type']"
            ]
          },
          "metadata": {
            "tags": []
          },
          "execution_count": 530
        }
      ]
    },
    {
      "cell_type": "code",
      "metadata": {
        "id": "nGqTeZwljRj1",
        "colab_type": "code",
        "colab": {}
      },
      "source": [
        "X_train_new = wrangled_train1[feats]\n",
        "X_val_new = wrangled_val1[feats]\n",
        "\n",
        "y_train_new = wrangled_train1[target]\n",
        "y_val_new = wrangled_val1[target]"
      ],
      "execution_count": 0,
      "outputs": []
    },
    {
      "cell_type": "code",
      "metadata": {
        "id": "JIDyi_8Bjo8b",
        "colab_type": "code",
        "colab": {
          "base_uri": "https://localhost:8080/",
          "height": 50
        },
        "outputId": "15428b49-7318-4f73-8e4e-8767f82bed77"
      },
      "source": [
        "pipeline = make_pipeline(\n",
        "    ce.OneHotEncoder(use_cat_names=True),\n",
        "    SimpleImputer(),\n",
        "    StandardScaler(),\n",
        "    DecisionTreeClassifier(random_state=42)\n",
        ")\n",
        "\n",
        "pipeline.fit(X_train_new, y_train_new)\n",
        "print(f'Train Accuracy: {pipeline.score(X_train_new, y_train_new)}')\n",
        "print(f'Validation Accuracy: {pipeline.score(X_val_new, y_val_new)}')"
      ],
      "execution_count": 532,
      "outputs": [
        {
          "output_type": "stream",
          "text": [
            "Train Accuracy: 0.9960718294051627\n",
            "Validation Accuracy: 0.7492929292929293\n"
          ],
          "name": "stdout"
        }
      ]
    },
    {
      "cell_type": "code",
      "metadata": {
        "id": "3-upcUnmlxpR",
        "colab_type": "code",
        "colab": {
          "base_uri": "https://localhost:8080/",
          "height": 935
        },
        "outputId": "52f5c24f-9ca4-4cc0-9f10-2ac510d8046b"
      },
      "source": [
        "index = range(1, 30)\n",
        "isitgood = pd.DataFrame(index=index,columns=['Max Depth', 'Train Accuracy', 'Validation Accuracy'])\n",
        "\n",
        "for i in range(1,30):\n",
        "  pipeline = make_pipeline(\n",
        "      ce.OneHotEncoder(use_cat_names=True),\n",
        "      SimpleImputer(),\n",
        "      StandardScaler(),\n",
        "      DecisionTreeClassifier(max_depth=i, random_state=42)\n",
        "  )\n",
        "\n",
        "  pipeline.fit(X_train_new, y_train_new)\n",
        "  isitgood['Max Depth'][i] = i\n",
        "  isitgood['Train Accuracy'][i] = pipeline.score(X_train_new, y_train_new)\n",
        "  isitgood['Validation Accuracy'][i] = pipeline.score(X_val_new, y_val_new)\n",
        "  \n",
        "isitgood"
      ],
      "execution_count": 533,
      "outputs": [
        {
          "output_type": "execute_result",
          "data": {
            "text/html": [
              "<div>\n",
              "<style scoped>\n",
              "    .dataframe tbody tr th:only-of-type {\n",
              "        vertical-align: middle;\n",
              "    }\n",
              "\n",
              "    .dataframe tbody tr th {\n",
              "        vertical-align: top;\n",
              "    }\n",
              "\n",
              "    .dataframe thead th {\n",
              "        text-align: right;\n",
              "    }\n",
              "</style>\n",
              "<table border=\"1\" class=\"dataframe\">\n",
              "  <thead>\n",
              "    <tr style=\"text-align: right;\">\n",
              "      <th></th>\n",
              "      <th>Max Depth</th>\n",
              "      <th>Train Accuracy</th>\n",
              "      <th>Validation Accuracy</th>\n",
              "    </tr>\n",
              "  </thead>\n",
              "  <tbody>\n",
              "    <tr>\n",
              "      <th>0</th>\n",
              "      <td>NaN</td>\n",
              "      <td>NaN</td>\n",
              "      <td>NaN</td>\n",
              "    </tr>\n",
              "    <tr>\n",
              "      <th>1</th>\n",
              "      <td>1</td>\n",
              "      <td>0.6411</td>\n",
              "      <td>0.645993</td>\n",
              "    </tr>\n",
              "    <tr>\n",
              "      <th>2</th>\n",
              "      <td>2</td>\n",
              "      <td>0.692503</td>\n",
              "      <td>0.69596</td>\n",
              "    </tr>\n",
              "    <tr>\n",
              "      <th>3</th>\n",
              "      <td>3</td>\n",
              "      <td>0.695758</td>\n",
              "      <td>0.695758</td>\n",
              "    </tr>\n",
              "    <tr>\n",
              "      <th>4</th>\n",
              "      <td>4</td>\n",
              "      <td>0.705926</td>\n",
              "      <td>0.708148</td>\n",
              "    </tr>\n",
              "    <tr>\n",
              "      <th>5</th>\n",
              "      <td>5</td>\n",
              "      <td>0.709428</td>\n",
              "      <td>0.712256</td>\n",
              "    </tr>\n",
              "    <tr>\n",
              "      <th>6</th>\n",
              "      <td>6</td>\n",
              "      <td>0.724242</td>\n",
              "      <td>0.721886</td>\n",
              "    </tr>\n",
              "    <tr>\n",
              "      <th>7</th>\n",
              "      <td>7</td>\n",
              "      <td>0.731111</td>\n",
              "      <td>0.725993</td>\n",
              "    </tr>\n",
              "    <tr>\n",
              "      <th>8</th>\n",
              "      <td>8</td>\n",
              "      <td>0.739798</td>\n",
              "      <td>0.732189</td>\n",
              "    </tr>\n",
              "    <tr>\n",
              "      <th>9</th>\n",
              "      <td>9</td>\n",
              "      <td>0.750079</td>\n",
              "      <td>0.735219</td>\n",
              "    </tr>\n",
              "    <tr>\n",
              "      <th>10</th>\n",
              "      <td>10</td>\n",
              "      <td>0.760673</td>\n",
              "      <td>0.740875</td>\n",
              "    </tr>\n",
              "    <tr>\n",
              "      <th>11</th>\n",
              "      <td>11</td>\n",
              "      <td>0.772323</td>\n",
              "      <td>0.740673</td>\n",
              "    </tr>\n",
              "    <tr>\n",
              "      <th>12</th>\n",
              "      <td>12</td>\n",
              "      <td>0.785118</td>\n",
              "      <td>0.747542</td>\n",
              "    </tr>\n",
              "    <tr>\n",
              "      <th>13</th>\n",
              "      <td>13</td>\n",
              "      <td>0.797374</td>\n",
              "      <td>0.754545</td>\n",
              "    </tr>\n",
              "    <tr>\n",
              "      <th>14</th>\n",
              "      <td>14</td>\n",
              "      <td>0.815107</td>\n",
              "      <td>0.759596</td>\n",
              "    </tr>\n",
              "    <tr>\n",
              "      <th>15</th>\n",
              "      <td>15</td>\n",
              "      <td>0.829046</td>\n",
              "      <td>0.763098</td>\n",
              "    </tr>\n",
              "    <tr>\n",
              "      <th>16</th>\n",
              "      <td>16</td>\n",
              "      <td>0.845432</td>\n",
              "      <td>0.766532</td>\n",
              "    </tr>\n",
              "    <tr>\n",
              "      <th>17</th>\n",
              "      <td>17</td>\n",
              "      <td>0.861773</td>\n",
              "      <td>0.770842</td>\n",
              "    </tr>\n",
              "    <tr>\n",
              "      <th>18</th>\n",
              "      <td>18</td>\n",
              "      <td>0.877374</td>\n",
              "      <td>0.769293</td>\n",
              "    </tr>\n",
              "    <tr>\n",
              "      <th>19</th>\n",
              "      <td>19</td>\n",
              "      <td>0.89367</td>\n",
              "      <td>0.768283</td>\n",
              "    </tr>\n",
              "    <tr>\n",
              "      <th>20</th>\n",
              "      <td>20</td>\n",
              "      <td>0.907565</td>\n",
              "      <td>0.766465</td>\n",
              "    </tr>\n",
              "    <tr>\n",
              "      <th>21</th>\n",
              "      <td>21</td>\n",
              "      <td>0.921392</td>\n",
              "      <td>0.76431</td>\n",
              "    </tr>\n",
              "    <tr>\n",
              "      <th>22</th>\n",
              "      <td>22</td>\n",
              "      <td>0.933917</td>\n",
              "      <td>0.766128</td>\n",
              "    </tr>\n",
              "    <tr>\n",
              "      <th>23</th>\n",
              "      <td>23</td>\n",
              "      <td>0.943659</td>\n",
              "      <td>0.763973</td>\n",
              "    </tr>\n",
              "    <tr>\n",
              "      <th>24</th>\n",
              "      <td>24</td>\n",
              "      <td>0.954029</td>\n",
              "      <td>0.763165</td>\n",
              "    </tr>\n",
              "    <tr>\n",
              "      <th>25</th>\n",
              "      <td>25</td>\n",
              "      <td>0.962806</td>\n",
              "      <td>0.761684</td>\n",
              "    </tr>\n",
              "    <tr>\n",
              "      <th>26</th>\n",
              "      <td>26</td>\n",
              "      <td>0.969877</td>\n",
              "      <td>0.758451</td>\n",
              "    </tr>\n",
              "    <tr>\n",
              "      <th>27</th>\n",
              "      <td>27</td>\n",
              "      <td>0.975264</td>\n",
              "      <td>0.757912</td>\n",
              "    </tr>\n",
              "    <tr>\n",
              "      <th>28</th>\n",
              "      <td>28</td>\n",
              "      <td>0.979439</td>\n",
              "      <td>0.756768</td>\n",
              "    </tr>\n",
              "    <tr>\n",
              "      <th>29</th>\n",
              "      <td>29</td>\n",
              "      <td>0.982941</td>\n",
              "      <td>0.755421</td>\n",
              "    </tr>\n",
              "  </tbody>\n",
              "</table>\n",
              "</div>"
            ],
            "text/plain": [
              "   Max Depth Train Accuracy Validation Accuracy\n",
              "0        NaN            NaN                 NaN\n",
              "1          1         0.6411            0.645993\n",
              "2          2       0.692503             0.69596\n",
              "3          3       0.695758            0.695758\n",
              "4          4       0.705926            0.708148\n",
              "5          5       0.709428            0.712256\n",
              "6          6       0.724242            0.721886\n",
              "7          7       0.731111            0.725993\n",
              "8          8       0.739798            0.732189\n",
              "9          9       0.750079            0.735219\n",
              "10        10       0.760673            0.740875\n",
              "11        11       0.772323            0.740673\n",
              "12        12       0.785118            0.747542\n",
              "13        13       0.797374            0.754545\n",
              "14        14       0.815107            0.759596\n",
              "15        15       0.829046            0.763098\n",
              "16        16       0.845432            0.766532\n",
              "17        17       0.861773            0.770842\n",
              "18        18       0.877374            0.769293\n",
              "19        19        0.89367            0.768283\n",
              "20        20       0.907565            0.766465\n",
              "21        21       0.921392             0.76431\n",
              "22        22       0.933917            0.766128\n",
              "23        23       0.943659            0.763973\n",
              "24        24       0.954029            0.763165\n",
              "25        25       0.962806            0.761684\n",
              "26        26       0.969877            0.758451\n",
              "27        27       0.975264            0.757912\n",
              "28        28       0.979439            0.756768\n",
              "29        29       0.982941            0.755421"
            ]
          },
          "metadata": {
            "tags": []
          },
          "execution_count": 533
        }
      ]
    },
    {
      "cell_type": "code",
      "metadata": {
        "id": "SBzCJ33nmKxv",
        "colab_type": "code",
        "colab": {
          "base_uri": "https://localhost:8080/",
          "height": 906
        },
        "outputId": "8355d423-516a-4cf4-d675-e3640987ef14"
      },
      "source": [
        "index = range(1, 30)\n",
        "isitgood1 = pd.DataFrame(index=index,columns=['Min Sample', 'Train Accuracy', 'Validation Accuracy'])\n",
        "\n",
        "for i in range(1,30):\n",
        "  pipeline = make_pipeline(\n",
        "      ce.OneHotEncoder(use_cat_names=True),\n",
        "      SimpleImputer(),\n",
        "      StandardScaler(),\n",
        "      DecisionTreeClassifier(min_samples_leaf=i, random_state=42)\n",
        "  )\n",
        "\n",
        "  pipeline.fit(X_train_new, y_train_new)\n",
        "  isitgood1['Min Sample'][i] = i\n",
        "  isitgood1['Train Accuracy'][i] = pipeline.score(X_train_new, y_train_new)\n",
        "  isitgood1['Validation Accuracy'][i] = pipeline.score(X_val_new, y_val_new)\n",
        "  \n",
        "isitgood1"
      ],
      "execution_count": 536,
      "outputs": [
        {
          "output_type": "execute_result",
          "data": {
            "text/html": [
              "<div>\n",
              "<style scoped>\n",
              "    .dataframe tbody tr th:only-of-type {\n",
              "        vertical-align: middle;\n",
              "    }\n",
              "\n",
              "    .dataframe tbody tr th {\n",
              "        vertical-align: top;\n",
              "    }\n",
              "\n",
              "    .dataframe thead th {\n",
              "        text-align: right;\n",
              "    }\n",
              "</style>\n",
              "<table border=\"1\" class=\"dataframe\">\n",
              "  <thead>\n",
              "    <tr style=\"text-align: right;\">\n",
              "      <th></th>\n",
              "      <th>Min Sample</th>\n",
              "      <th>Train Accuracy</th>\n",
              "      <th>Validation Accuracy</th>\n",
              "    </tr>\n",
              "  </thead>\n",
              "  <tbody>\n",
              "    <tr>\n",
              "      <th>1</th>\n",
              "      <td>1</td>\n",
              "      <td>0.996072</td>\n",
              "      <td>0.749293</td>\n",
              "    </tr>\n",
              "    <tr>\n",
              "      <th>2</th>\n",
              "      <td>2</td>\n",
              "      <td>0.934658</td>\n",
              "      <td>0.758249</td>\n",
              "    </tr>\n",
              "    <tr>\n",
              "      <th>3</th>\n",
              "      <td>3</td>\n",
              "      <td>0.910101</td>\n",
              "      <td>0.755152</td>\n",
              "    </tr>\n",
              "    <tr>\n",
              "      <th>4</th>\n",
              "      <td>4</td>\n",
              "      <td>0.889136</td>\n",
              "      <td>0.757912</td>\n",
              "    </tr>\n",
              "    <tr>\n",
              "      <th>5</th>\n",
              "      <td>5</td>\n",
              "      <td>0.874411</td>\n",
              "      <td>0.757643</td>\n",
              "    </tr>\n",
              "    <tr>\n",
              "      <th>6</th>\n",
              "      <td>6</td>\n",
              "      <td>0.864108</td>\n",
              "      <td>0.759192</td>\n",
              "    </tr>\n",
              "    <tr>\n",
              "      <th>7</th>\n",
              "      <td>7</td>\n",
              "      <td>0.854523</td>\n",
              "      <td>0.762357</td>\n",
              "    </tr>\n",
              "    <tr>\n",
              "      <th>8</th>\n",
              "      <td>8</td>\n",
              "      <td>0.848126</td>\n",
              "      <td>0.76229</td>\n",
              "    </tr>\n",
              "    <tr>\n",
              "      <th>9</th>\n",
              "      <td>9</td>\n",
              "      <td>0.841706</td>\n",
              "      <td>0.765455</td>\n",
              "    </tr>\n",
              "    <tr>\n",
              "      <th>10</th>\n",
              "      <td>10</td>\n",
              "      <td>0.836902</td>\n",
              "      <td>0.766263</td>\n",
              "    </tr>\n",
              "    <tr>\n",
              "      <th>11</th>\n",
              "      <td>11</td>\n",
              "      <td>0.833109</td>\n",
              "      <td>0.764781</td>\n",
              "    </tr>\n",
              "    <tr>\n",
              "      <th>12</th>\n",
              "      <td>12</td>\n",
              "      <td>0.829136</td>\n",
              "      <td>0.766061</td>\n",
              "    </tr>\n",
              "    <tr>\n",
              "      <th>13</th>\n",
              "      <td>13</td>\n",
              "      <td>0.82541</td>\n",
              "      <td>0.76633</td>\n",
              "    </tr>\n",
              "    <tr>\n",
              "      <th>14</th>\n",
              "      <td>14</td>\n",
              "      <td>0.822649</td>\n",
              "      <td>0.766128</td>\n",
              "    </tr>\n",
              "    <tr>\n",
              "      <th>15</th>\n",
              "      <td>15</td>\n",
              "      <td>0.820269</td>\n",
              "      <td>0.767744</td>\n",
              "    </tr>\n",
              "    <tr>\n",
              "      <th>16</th>\n",
              "      <td>16</td>\n",
              "      <td>0.816745</td>\n",
              "      <td>0.766397</td>\n",
              "    </tr>\n",
              "    <tr>\n",
              "      <th>17</th>\n",
              "      <td>17</td>\n",
              "      <td>0.813782</td>\n",
              "      <td>0.764512</td>\n",
              "    </tr>\n",
              "    <tr>\n",
              "      <th>18</th>\n",
              "      <td>18</td>\n",
              "      <td>0.811672</td>\n",
              "      <td>0.761953</td>\n",
              "    </tr>\n",
              "    <tr>\n",
              "      <th>19</th>\n",
              "      <td>19</td>\n",
              "      <td>0.808889</td>\n",
              "      <td>0.763098</td>\n",
              "    </tr>\n",
              "    <tr>\n",
              "      <th>20</th>\n",
              "      <td>20</td>\n",
              "      <td>0.807318</td>\n",
              "      <td>0.763165</td>\n",
              "    </tr>\n",
              "    <tr>\n",
              "      <th>21</th>\n",
              "      <td>21</td>\n",
              "      <td>0.804781</td>\n",
              "      <td>0.762694</td>\n",
              "    </tr>\n",
              "    <tr>\n",
              "      <th>22</th>\n",
              "      <td>22</td>\n",
              "      <td>0.803861</td>\n",
              "      <td>0.764108</td>\n",
              "    </tr>\n",
              "    <tr>\n",
              "      <th>23</th>\n",
              "      <td>23</td>\n",
              "      <td>0.802783</td>\n",
              "      <td>0.763502</td>\n",
              "    </tr>\n",
              "    <tr>\n",
              "      <th>24</th>\n",
              "      <td>24</td>\n",
              "      <td>0.801571</td>\n",
              "      <td>0.763704</td>\n",
              "    </tr>\n",
              "    <tr>\n",
              "      <th>25</th>\n",
              "      <td>25</td>\n",
              "      <td>0.799574</td>\n",
              "      <td>0.764916</td>\n",
              "    </tr>\n",
              "    <tr>\n",
              "      <th>26</th>\n",
              "      <td>26</td>\n",
              "      <td>0.798182</td>\n",
              "      <td>0.764377</td>\n",
              "    </tr>\n",
              "    <tr>\n",
              "      <th>27</th>\n",
              "      <td>27</td>\n",
              "      <td>0.797598</td>\n",
              "      <td>0.764444</td>\n",
              "    </tr>\n",
              "    <tr>\n",
              "      <th>28</th>\n",
              "      <td>28</td>\n",
              "      <td>0.796049</td>\n",
              "      <td>0.764175</td>\n",
              "    </tr>\n",
              "    <tr>\n",
              "      <th>29</th>\n",
              "      <td>29</td>\n",
              "      <td>0.794927</td>\n",
              "      <td>0.763434</td>\n",
              "    </tr>\n",
              "  </tbody>\n",
              "</table>\n",
              "</div>"
            ],
            "text/plain": [
              "   Min Sample Train Accuracy Validation Accuracy\n",
              "1           1       0.996072            0.749293\n",
              "2           2       0.934658            0.758249\n",
              "3           3       0.910101            0.755152\n",
              "4           4       0.889136            0.757912\n",
              "5           5       0.874411            0.757643\n",
              "6           6       0.864108            0.759192\n",
              "7           7       0.854523            0.762357\n",
              "8           8       0.848126             0.76229\n",
              "9           9       0.841706            0.765455\n",
              "10         10       0.836902            0.766263\n",
              "11         11       0.833109            0.764781\n",
              "12         12       0.829136            0.766061\n",
              "13         13        0.82541             0.76633\n",
              "14         14       0.822649            0.766128\n",
              "15         15       0.820269            0.767744\n",
              "16         16       0.816745            0.766397\n",
              "17         17       0.813782            0.764512\n",
              "18         18       0.811672            0.761953\n",
              "19         19       0.808889            0.763098\n",
              "20         20       0.807318            0.763165\n",
              "21         21       0.804781            0.762694\n",
              "22         22       0.803861            0.764108\n",
              "23         23       0.802783            0.763502\n",
              "24         24       0.801571            0.763704\n",
              "25         25       0.799574            0.764916\n",
              "26         26       0.798182            0.764377\n",
              "27         27       0.797598            0.764444\n",
              "28         28       0.796049            0.764175\n",
              "29         29       0.794927            0.763434"
            ]
          },
          "metadata": {
            "tags": []
          },
          "execution_count": 536
        }
      ]
    },
    {
      "cell_type": "markdown",
      "metadata": {
        "id": "2WDI1c_CoAsz",
        "colab_type": "text"
      },
      "source": [
        "# Submission"
      ]
    },
    {
      "cell_type": "code",
      "metadata": {
        "id": "POWZgTpEoLOS",
        "colab_type": "code",
        "colab": {
          "base_uri": "https://localhost:8080/",
          "height": 50
        },
        "outputId": "c61ee18a-e51c-49bc-ede4-75086eeed099"
      },
      "source": [
        "  pipeline = make_pipeline(\n",
        "      ce.OneHotEncoder(use_cat_names=True),\n",
        "      SimpleImputer(),\n",
        "      StandardScaler(),\n",
        "      DecisionTreeClassifier(max_depth=17, random_state=42)\n",
        "  )\n",
        "\n",
        "  pipeline.fit(X_train_new, y_train_new)\n",
        "  print(f'Train Accuracy: {pipeline.score(X_train_new, y_train_new)}')\n",
        "print(f'Validation Accuracy: {pipeline.score(X_val_new, y_val_new)}')"
      ],
      "execution_count": 538,
      "outputs": [
        {
          "output_type": "stream",
          "text": [
            "Train Accuracy: 0.8617732884399552\n",
            "Validation Accuracy: 0.7708417508417509\n"
          ],
          "name": "stdout"
        }
      ]
    },
    {
      "cell_type": "code",
      "metadata": {
        "id": "f84CmjFqng3P",
        "colab_type": "code",
        "colab": {}
      },
      "source": [
        "wrangled_X_test = wrangler1(test)\n",
        "X_test = wrangled_X_test[feats]"
      ],
      "execution_count": 0,
      "outputs": []
    },
    {
      "cell_type": "code",
      "metadata": {
        "id": "ZkaR2R6rot0u",
        "colab_type": "code",
        "colab": {}
      },
      "source": [
        "y_pred = pipeline.predict(X_test)\n",
        "submission = sample_submission.copy()\n",
        "submission['status_group'] = y_pred\n",
        "submission.to_csv('decision.csv', index=False)"
      ],
      "execution_count": 0,
      "outputs": []
    },
    {
      "cell_type": "code",
      "metadata": {
        "id": "mgZEkn6Co-OU",
        "colab_type": "code",
        "colab": {}
      },
      "source": [
        ""
      ],
      "execution_count": 0,
      "outputs": []
    }
  ]
}