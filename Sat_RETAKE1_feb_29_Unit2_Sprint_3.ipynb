{
  "nbformat": 4,
  "nbformat_minor": 0,
  "metadata": {
    "kernelspec": {
      "display_name": "Python 3",
      "language": "python",
      "name": "python3"
    },
    "language_info": {
      "codemirror_mode": {
        "name": "ipython",
        "version": 3
      },
      "file_extension": ".py",
      "mimetype": "text/x-python",
      "name": "python",
      "nbconvert_exporter": "python",
      "pygments_lexer": "ipython3",
      "version": "3.7.2"
    },
    "colab": {
      "name": "Sat-RETAKE1_feb_29_Unit2_Sprint_3.ipynb",
      "provenance": [],
      "collapsed_sections": [],
      "include_colab_link": true
    }
  },
  "cells": [
    {
      "cell_type": "markdown",
      "metadata": {
        "id": "view-in-github",
        "colab_type": "text"
      },
      "source": [
        "<a href=\"https://colab.research.google.com/github/LambdaTheda/DS-Unit-2-Linear-Models/blob/master/Sat_RETAKE1_feb_29_Unit2_Sprint_3.ipynb\" target=\"_parent\"><img src=\"https://colab.research.google.com/assets/colab-badge.svg\" alt=\"Open In Colab\"/></a>"
      ]
    },
    {
      "cell_type": "markdown",
      "metadata": {
        "colab_type": "text",
        "id": "Kz9V5lVFMo86"
      },
      "source": [
        "_Lambda School Data Science, Unit 2_\n",
        "\n",
        "# Applied Modeling Sprint Challenge: Predict Chicago food inspections 🍕"
      ]
    },
    {
      "cell_type": "markdown",
      "metadata": {
        "colab_type": "text",
        "id": "yWOjtM9iMo87"
      },
      "source": [
        "For this Sprint Challenge, you'll use a dataset with information from inspections of restaurants and other food establishments in Chicago from January 2010 to March 2019. \n",
        "\n",
        "[See this PDF](https://data.cityofchicago.org/api/assets/BAD5301B-681A-4202-9D25-51B2CAE672FF) for descriptions of the data elements included in this dataset.\n",
        "\n",
        "According to [Chicago Department of Public Health — Food Protection Services](https://www.chicago.gov/city/en/depts/cdph/provdrs/healthy_restaurants/svcs/food-protection-services.html), \"Chicago is home to 16,000 food establishments like restaurants, grocery stores, bakeries, wholesalers, lunchrooms, mobile food vendors and more. Our business is food safety and sanitation with one goal, to prevent the spread of food-borne disease. We do this by inspecting food businesses, responding to complaints and food recalls.\" "
      ]
    },
    {
      "cell_type": "markdown",
      "metadata": {
        "colab_type": "text",
        "id": "VvBYdx2xMo88"
      },
      "source": [
        "#### Your challenge: Predict whether inspections failed\n",
        "\n",
        "The target is the `Fail` column.\n",
        "\n",
        "- When the food establishment failed the inspection, the target is `1`.\n",
        "- When the establishment passed, the target is `0`."
      ]
    },
    {
      "cell_type": "markdown",
      "metadata": {
        "colab_type": "text",
        "id": "3YMtu4LaF8Jq"
      },
      "source": [
        "#### Run this cell to install packages in Colab:"
      ]
    },
    {
      "cell_type": "code",
      "metadata": {
        "colab_type": "code",
        "id": "vWyiJKQgF6ax",
        "colab": {}
      },
      "source": [
        "%%capture\n",
        "import sys\n",
        "\n",
        "if 'google.colab' in sys.modules:\n",
        "    # Install packages in Colab\n",
        "    !pip install category_encoders==2.*\n",
        "    !pip install eli5\n",
        "    !pip install pandas-profiling==2.*\n",
        "    !pip install pdpbox\n",
        "    !pip install shap"
      ],
      "execution_count": 0,
      "outputs": []
    },
    {
      "cell_type": "markdown",
      "metadata": {
        "colab_type": "text",
        "id": "Na5IvRq1Mo89"
      },
      "source": [
        "#### Run this cell to load the data:"
      ]
    },
    {
      "cell_type": "code",
      "metadata": {
        "colab_type": "code",
        "id": "Yyc7zftTMo89",
        "colab": {}
      },
      "source": [
        "import pandas as pd\n",
        "\n",
        "train_url = 'https://drive.google.com/uc?export=download&id=13_tP9JpLcZHSPVpWcua4t2rY44K_s4H5'\n",
        "test_url  = 'https://drive.google.com/uc?export=download&id=1GkDHjsiGrzOXoF_xcYjdzBTSjOIi3g5a'\n",
        "\n",
        "train = pd.read_csv(train_url)\n",
        "test  = pd.read_csv(test_url)\n",
        "\n",
        "assert train.shape == (51916, 17)\n",
        "assert test.shape  == (17306, 17)"
      ],
      "execution_count": 0,
      "outputs": []
    },
    {
      "cell_type": "markdown",
      "metadata": {
        "colab_type": "text",
        "id": "8EhbzqgfMo9A"
      },
      "source": [
        "### Part 1: Preprocessing\n",
        "\n",
        "You may choose which features you want to use, and whether/how you will preprocess them. If you use categorical features, you may use any tools and techniques for encoding.\n",
        "\n",
        "_To earn a score of 3 for this part, find and explain leakage. The dataset has a feature that will give you an ROC AUC score > 0.90 if you process and use the feature. Find the leakage and explain why the feature shouldn't be used in a real-world model to predict the results of future inspections._\n",
        "\n",
        "### Part 2: Modeling\n",
        "\n",
        "**Fit a model** with the train set. (You may use scikit-learn, xgboost, or any other library.) Use cross-validation or do a three-way split (train/validate/test) and **estimate your ROC AUC** validation score.\n",
        "\n",
        "Use your model to **predict probabilities** for the test set. **Get an ROC AUC test score >= 0.60.**\n",
        "\n",
        "_To earn a score of 3 for this part, get an ROC AUC test score >= 0.70 (without using the feature with leakage)._\n",
        "\n",
        "\n",
        "### Part 3: Visualization\n",
        "\n",
        "Make visualizations for model interpretation. (You may use any libraries.) Choose two of these types:\n",
        "\n",
        "- Confusion Matrix\n",
        "- Permutation Importances\n",
        "- Partial Dependence Plot, 1 feature isolation\n",
        "- Partial Dependence Plot, 2 features interaction\n",
        "- Shapley Values\n",
        "\n",
        "_To earn a score of 3 for this part, make four of these visualization types._"
      ]
    },
    {
      "cell_type": "markdown",
      "metadata": {
        "colab_type": "text",
        "id": "muEIQ4EPGVH_"
      },
      "source": [
        "## Part 1: Preprocessing\n",
        "\n",
        "> You may choose which features you want to use, and whether/how you will preprocess them. If you use categorical features, you may use any tools and techniques for encoding."
      ]
    },
    {
      "cell_type": "code",
      "metadata": {
        "id": "9f6Jf-9klFrI",
        "colab_type": "code",
        "colab": {}
      },
      "source": [
        "# Exploratory Data Analyses"
      ],
      "execution_count": 0,
      "outputs": []
    },
    {
      "cell_type": "code",
      "metadata": {
        "colab_type": "code",
        "id": "Ao1PDJtpIWwp",
        "outputId": "69c0b217-8e30-4039-aae8-615b9f2fa46c",
        "colab": {
          "base_uri": "https://localhost:8080/",
          "height": 297
        }
      },
      "source": [
        "train.describe()"
      ],
      "execution_count": 0,
      "outputs": [
        {
          "output_type": "execute_result",
          "data": {
            "text/html": [
              "<div>\n",
              "<style scoped>\n",
              "    .dataframe tbody tr th:only-of-type {\n",
              "        vertical-align: middle;\n",
              "    }\n",
              "\n",
              "    .dataframe tbody tr th {\n",
              "        vertical-align: top;\n",
              "    }\n",
              "\n",
              "    .dataframe thead th {\n",
              "        text-align: right;\n",
              "    }\n",
              "</style>\n",
              "<table border=\"1\" class=\"dataframe\">\n",
              "  <thead>\n",
              "    <tr style=\"text-align: right;\">\n",
              "      <th></th>\n",
              "      <th>Inspection ID</th>\n",
              "      <th>License #</th>\n",
              "      <th>Zip</th>\n",
              "      <th>Latitude</th>\n",
              "      <th>Longitude</th>\n",
              "      <th>Fail</th>\n",
              "    </tr>\n",
              "  </thead>\n",
              "  <tbody>\n",
              "    <tr>\n",
              "      <th>count</th>\n",
              "      <td>5.191600e+04</td>\n",
              "      <td>5.191100e+04</td>\n",
              "      <td>51890.000000</td>\n",
              "      <td>51718.000000</td>\n",
              "      <td>51718.000000</td>\n",
              "      <td>51916.000000</td>\n",
              "    </tr>\n",
              "    <tr>\n",
              "      <th>mean</th>\n",
              "      <td>1.330265e+06</td>\n",
              "      <td>1.549491e+06</td>\n",
              "      <td>60628.834669</td>\n",
              "      <td>41.879568</td>\n",
              "      <td>-87.676663</td>\n",
              "      <td>0.258610</td>\n",
              "    </tr>\n",
              "    <tr>\n",
              "      <th>std</th>\n",
              "      <td>6.202664e+05</td>\n",
              "      <td>9.018283e+05</td>\n",
              "      <td>22.736963</td>\n",
              "      <td>0.081126</td>\n",
              "      <td>0.059509</td>\n",
              "      <td>0.437875</td>\n",
              "    </tr>\n",
              "    <tr>\n",
              "      <th>min</th>\n",
              "      <td>4.425000e+04</td>\n",
              "      <td>0.000000e+00</td>\n",
              "      <td>60007.000000</td>\n",
              "      <td>41.644670</td>\n",
              "      <td>-87.914428</td>\n",
              "      <td>0.000000</td>\n",
              "    </tr>\n",
              "    <tr>\n",
              "      <th>25%</th>\n",
              "      <td>6.796205e+05</td>\n",
              "      <td>1.140745e+06</td>\n",
              "      <td>60614.000000</td>\n",
              "      <td>41.830296</td>\n",
              "      <td>-87.707857</td>\n",
              "      <td>0.000000</td>\n",
              "    </tr>\n",
              "    <tr>\n",
              "      <th>50%</th>\n",
              "      <td>1.424226e+06</td>\n",
              "      <td>1.958619e+06</td>\n",
              "      <td>60625.000000</td>\n",
              "      <td>41.890166</td>\n",
              "      <td>-87.666524</td>\n",
              "      <td>0.000000</td>\n",
              "    </tr>\n",
              "    <tr>\n",
              "      <th>75%</th>\n",
              "      <td>1.946952e+06</td>\n",
              "      <td>2.215507e+06</td>\n",
              "      <td>60643.000000</td>\n",
              "      <td>41.939167</td>\n",
              "      <td>-87.634461</td>\n",
              "      <td>1.000000</td>\n",
              "    </tr>\n",
              "    <tr>\n",
              "      <th>max</th>\n",
              "      <td>2.279709e+06</td>\n",
              "      <td>8.700606e+06</td>\n",
              "      <td>60827.000000</td>\n",
              "      <td>42.021064</td>\n",
              "      <td>-87.525094</td>\n",
              "      <td>1.000000</td>\n",
              "    </tr>\n",
              "  </tbody>\n",
              "</table>\n",
              "</div>"
            ],
            "text/plain": [
              "       Inspection ID     License #  ...     Longitude          Fail\n",
              "count   5.191600e+04  5.191100e+04  ...  51718.000000  51916.000000\n",
              "mean    1.330265e+06  1.549491e+06  ...    -87.676663      0.258610\n",
              "std     6.202664e+05  9.018283e+05  ...      0.059509      0.437875\n",
              "min     4.425000e+04  0.000000e+00  ...    -87.914428      0.000000\n",
              "25%     6.796205e+05  1.140745e+06  ...    -87.707857      0.000000\n",
              "50%     1.424226e+06  1.958619e+06  ...    -87.666524      0.000000\n",
              "75%     1.946952e+06  2.215507e+06  ...    -87.634461      1.000000\n",
              "max     2.279709e+06  8.700606e+06  ...    -87.525094      1.000000\n",
              "\n",
              "[8 rows x 6 columns]"
            ]
          },
          "metadata": {
            "tags": []
          },
          "execution_count": 50
        }
      ]
    },
    {
      "cell_type": "code",
      "metadata": {
        "id": "C_WqAiBt_g4V",
        "colab_type": "code",
        "outputId": "2832ef41-7cba-43bd-be6d-e631fc51746b",
        "colab": {
          "base_uri": "https://localhost:8080/",
          "height": 297
        }
      },
      "source": [
        "test.describe()"
      ],
      "execution_count": 0,
      "outputs": [
        {
          "output_type": "execute_result",
          "data": {
            "text/html": [
              "<div>\n",
              "<style scoped>\n",
              "    .dataframe tbody tr th:only-of-type {\n",
              "        vertical-align: middle;\n",
              "    }\n",
              "\n",
              "    .dataframe tbody tr th {\n",
              "        vertical-align: top;\n",
              "    }\n",
              "\n",
              "    .dataframe thead th {\n",
              "        text-align: right;\n",
              "    }\n",
              "</style>\n",
              "<table border=\"1\" class=\"dataframe\">\n",
              "  <thead>\n",
              "    <tr style=\"text-align: right;\">\n",
              "      <th></th>\n",
              "      <th>Inspection ID</th>\n",
              "      <th>License #</th>\n",
              "      <th>Zip</th>\n",
              "      <th>Latitude</th>\n",
              "      <th>Longitude</th>\n",
              "      <th>Fail</th>\n",
              "    </tr>\n",
              "  </thead>\n",
              "  <tbody>\n",
              "    <tr>\n",
              "      <th>count</th>\n",
              "      <td>1.730600e+04</td>\n",
              "      <td>1.730400e+04</td>\n",
              "      <td>17298.000000</td>\n",
              "      <td>17245.000000</td>\n",
              "      <td>17245.000000</td>\n",
              "      <td>17306.000000</td>\n",
              "    </tr>\n",
              "    <tr>\n",
              "      <th>mean</th>\n",
              "      <td>1.323403e+06</td>\n",
              "      <td>1.562543e+06</td>\n",
              "      <td>60628.920338</td>\n",
              "      <td>41.879518</td>\n",
              "      <td>-87.676646</td>\n",
              "      <td>0.258581</td>\n",
              "    </tr>\n",
              "    <tr>\n",
              "      <th>std</th>\n",
              "      <td>6.240521e+05</td>\n",
              "      <td>8.947393e+05</td>\n",
              "      <td>23.462366</td>\n",
              "      <td>0.080895</td>\n",
              "      <td>0.059617</td>\n",
              "      <td>0.437867</td>\n",
              "    </tr>\n",
              "    <tr>\n",
              "      <th>min</th>\n",
              "      <td>4.426100e+04</td>\n",
              "      <td>0.000000e+00</td>\n",
              "      <td>60007.000000</td>\n",
              "      <td>41.644670</td>\n",
              "      <td>-87.914428</td>\n",
              "      <td>0.000000</td>\n",
              "    </tr>\n",
              "    <tr>\n",
              "      <th>25%</th>\n",
              "      <td>6.709562e+05</td>\n",
              "      <td>1.145506e+06</td>\n",
              "      <td>60614.000000</td>\n",
              "      <td>41.830619</td>\n",
              "      <td>-87.708016</td>\n",
              "      <td>0.000000</td>\n",
              "    </tr>\n",
              "    <tr>\n",
              "      <th>50%</th>\n",
              "      <td>1.418794e+06</td>\n",
              "      <td>1.964748e+06</td>\n",
              "      <td>60625.000000</td>\n",
              "      <td>41.890300</td>\n",
              "      <td>-87.666898</td>\n",
              "      <td>0.000000</td>\n",
              "    </tr>\n",
              "    <tr>\n",
              "      <th>75%</th>\n",
              "      <td>1.946488e+06</td>\n",
              "      <td>2.208688e+06</td>\n",
              "      <td>60643.000000</td>\n",
              "      <td>41.938989</td>\n",
              "      <td>-87.634501</td>\n",
              "      <td>1.000000</td>\n",
              "    </tr>\n",
              "    <tr>\n",
              "      <th>max</th>\n",
              "      <td>2.279564e+06</td>\n",
              "      <td>3.759896e+06</td>\n",
              "      <td>60827.000000</td>\n",
              "      <td>42.021064</td>\n",
              "      <td>-87.525872</td>\n",
              "      <td>1.000000</td>\n",
              "    </tr>\n",
              "  </tbody>\n",
              "</table>\n",
              "</div>"
            ],
            "text/plain": [
              "       Inspection ID     License #  ...     Longitude          Fail\n",
              "count   1.730600e+04  1.730400e+04  ...  17245.000000  17306.000000\n",
              "mean    1.323403e+06  1.562543e+06  ...    -87.676646      0.258581\n",
              "std     6.240521e+05  8.947393e+05  ...      0.059617      0.437867\n",
              "min     4.426100e+04  0.000000e+00  ...    -87.914428      0.000000\n",
              "25%     6.709562e+05  1.145506e+06  ...    -87.708016      0.000000\n",
              "50%     1.418794e+06  1.964748e+06  ...    -87.666898      0.000000\n",
              "75%     1.946488e+06  2.208688e+06  ...    -87.634501      1.000000\n",
              "max     2.279564e+06  3.759896e+06  ...    -87.525872      1.000000\n",
              "\n",
              "[8 rows x 6 columns]"
            ]
          },
          "metadata": {
            "tags": []
          },
          "execution_count": 51
        }
      ]
    },
    {
      "cell_type": "code",
      "metadata": {
        "id": "HndYgkx5_qU9",
        "colab_type": "code",
        "outputId": "585b48b6-cad9-44b2-9b08-63858835d44f",
        "colab": {
          "base_uri": "https://localhost:8080/",
          "height": 581
        }
      },
      "source": [
        "train.head()"
      ],
      "execution_count": 0,
      "outputs": [
        {
          "output_type": "execute_result",
          "data": {
            "text/html": [
              "<div>\n",
              "<style scoped>\n",
              "    .dataframe tbody tr th:only-of-type {\n",
              "        vertical-align: middle;\n",
              "    }\n",
              "\n",
              "    .dataframe tbody tr th {\n",
              "        vertical-align: top;\n",
              "    }\n",
              "\n",
              "    .dataframe thead th {\n",
              "        text-align: right;\n",
              "    }\n",
              "</style>\n",
              "<table border=\"1\" class=\"dataframe\">\n",
              "  <thead>\n",
              "    <tr style=\"text-align: right;\">\n",
              "      <th></th>\n",
              "      <th>Inspection ID</th>\n",
              "      <th>DBA Name</th>\n",
              "      <th>AKA Name</th>\n",
              "      <th>License #</th>\n",
              "      <th>Facility Type</th>\n",
              "      <th>Risk</th>\n",
              "      <th>Address</th>\n",
              "      <th>City</th>\n",
              "      <th>State</th>\n",
              "      <th>Zip</th>\n",
              "      <th>Inspection Date</th>\n",
              "      <th>Inspection Type</th>\n",
              "      <th>Violations</th>\n",
              "      <th>Latitude</th>\n",
              "      <th>Longitude</th>\n",
              "      <th>Location</th>\n",
              "      <th>Fail</th>\n",
              "    </tr>\n",
              "  </thead>\n",
              "  <tbody>\n",
              "    <tr>\n",
              "      <th>0</th>\n",
              "      <td>2088270</td>\n",
              "      <td>TOM YUM RICE &amp; NOODLE, INC.</td>\n",
              "      <td>TOM YUM CAFE</td>\n",
              "      <td>2354911.0</td>\n",
              "      <td>Restaurant</td>\n",
              "      <td>Risk 1 (High)</td>\n",
              "      <td>608 W BARRY</td>\n",
              "      <td>CHICAGO</td>\n",
              "      <td>IL</td>\n",
              "      <td>60657.0</td>\n",
              "      <td>2017-09-15T00:00:00</td>\n",
              "      <td>Canvass</td>\n",
              "      <td>3. POTENTIALLY HAZARDOUS FOOD MEETS TEMPERATUR...</td>\n",
              "      <td>41.938007</td>\n",
              "      <td>-87.644755</td>\n",
              "      <td>{'longitude': '-87.6447545707008', 'latitude':...</td>\n",
              "      <td>1</td>\n",
              "    </tr>\n",
              "    <tr>\n",
              "      <th>1</th>\n",
              "      <td>555268</td>\n",
              "      <td>FILLING STATION  &amp; CONVENIENCE  STORE</td>\n",
              "      <td>FILLING STATION  &amp; CONVENIENCE  STORE</td>\n",
              "      <td>1044901.0</td>\n",
              "      <td>Grocery Store</td>\n",
              "      <td>Risk 3 (Low)</td>\n",
              "      <td>6646-6658 S WESTERN AVE</td>\n",
              "      <td>CHICAGO</td>\n",
              "      <td>IL</td>\n",
              "      <td>60636.0</td>\n",
              "      <td>2011-10-20T00:00:00</td>\n",
              "      <td>Complaint Re-Inspection</td>\n",
              "      <td>32. FOOD AND NON-FOOD CONTACT SURFACES PROPERL...</td>\n",
              "      <td>41.772402</td>\n",
              "      <td>-87.683603</td>\n",
              "      <td>{'longitude': '-87.68360273081268', 'latitude'...</td>\n",
              "      <td>0</td>\n",
              "    </tr>\n",
              "    <tr>\n",
              "      <th>2</th>\n",
              "      <td>1751394</td>\n",
              "      <td>A P DELI</td>\n",
              "      <td>A P DELI</td>\n",
              "      <td>47405.0</td>\n",
              "      <td>Restaurant</td>\n",
              "      <td>Risk 1 (High)</td>\n",
              "      <td>2025 E 75TH ST</td>\n",
              "      <td>CHICAGO</td>\n",
              "      <td>IL</td>\n",
              "      <td>60649.0</td>\n",
              "      <td>2016-04-05T00:00:00</td>\n",
              "      <td>Canvass Re-Inspection</td>\n",
              "      <td>35. WALLS, CEILINGS, ATTACHED EQUIPMENT CONSTR...</td>\n",
              "      <td>41.758779</td>\n",
              "      <td>-87.575054</td>\n",
              "      <td>{'longitude': '-87.57505446746121', 'latitude'...</td>\n",
              "      <td>0</td>\n",
              "    </tr>\n",
              "    <tr>\n",
              "      <th>3</th>\n",
              "      <td>1763905</td>\n",
              "      <td>FRANK'S CHICAGO SHRIMP HOUSE</td>\n",
              "      <td>FRANK'S CHICAGO SHRIMP HOUSE</td>\n",
              "      <td>6414.0</td>\n",
              "      <td>Restaurant</td>\n",
              "      <td>Risk 2 (Medium)</td>\n",
              "      <td>4459 S ARCHER AVE</td>\n",
              "      <td>CHICAGO</td>\n",
              "      <td>IL</td>\n",
              "      <td>60632.0</td>\n",
              "      <td>2016-04-29T00:00:00</td>\n",
              "      <td>Canvass</td>\n",
              "      <td>38. VENTILATION: ROOMS AND EQUIPMENT VENTED AS...</td>\n",
              "      <td>41.812181</td>\n",
              "      <td>-87.707125</td>\n",
              "      <td>{'longitude': '-87.70712481334274', 'latitude'...</td>\n",
              "      <td>0</td>\n",
              "    </tr>\n",
              "    <tr>\n",
              "      <th>4</th>\n",
              "      <td>453326</td>\n",
              "      <td>MORRILL</td>\n",
              "      <td>MORRILL</td>\n",
              "      <td>24571.0</td>\n",
              "      <td>School</td>\n",
              "      <td>Risk 1 (High)</td>\n",
              "      <td>6011 S Rockwell (2600W) AVE</td>\n",
              "      <td>CHICAGO</td>\n",
              "      <td>IL</td>\n",
              "      <td>60629.0</td>\n",
              "      <td>2011-01-10T00:00:00</td>\n",
              "      <td>Canvass</td>\n",
              "      <td>34. FLOORS: CONSTRUCTED PER CODE, CLEANED, GOO...</td>\n",
              "      <td>NaN</td>\n",
              "      <td>NaN</td>\n",
              "      <td>NaN</td>\n",
              "      <td>0</td>\n",
              "    </tr>\n",
              "  </tbody>\n",
              "</table>\n",
              "</div>"
            ],
            "text/plain": [
              "   Inspection ID  ... Fail\n",
              "0        2088270  ...    1\n",
              "1         555268  ...    0\n",
              "2        1751394  ...    0\n",
              "3        1763905  ...    0\n",
              "4         453326  ...    0\n",
              "\n",
              "[5 rows x 17 columns]"
            ]
          },
          "metadata": {
            "tags": []
          },
          "execution_count": 52
        }
      ]
    },
    {
      "cell_type": "code",
      "metadata": {
        "id": "h4yC9NEw_vof",
        "colab_type": "code",
        "outputId": "7e9b806f-5700-4aaa-c0bd-6df22a7d7ba5",
        "colab": {
          "base_uri": "https://localhost:8080/",
          "height": 581
        }
      },
      "source": [
        "test.head()"
      ],
      "execution_count": 0,
      "outputs": [
        {
          "output_type": "execute_result",
          "data": {
            "text/html": [
              "<div>\n",
              "<style scoped>\n",
              "    .dataframe tbody tr th:only-of-type {\n",
              "        vertical-align: middle;\n",
              "    }\n",
              "\n",
              "    .dataframe tbody tr th {\n",
              "        vertical-align: top;\n",
              "    }\n",
              "\n",
              "    .dataframe thead th {\n",
              "        text-align: right;\n",
              "    }\n",
              "</style>\n",
              "<table border=\"1\" class=\"dataframe\">\n",
              "  <thead>\n",
              "    <tr style=\"text-align: right;\">\n",
              "      <th></th>\n",
              "      <th>Inspection ID</th>\n",
              "      <th>DBA Name</th>\n",
              "      <th>AKA Name</th>\n",
              "      <th>License #</th>\n",
              "      <th>Facility Type</th>\n",
              "      <th>Risk</th>\n",
              "      <th>Address</th>\n",
              "      <th>City</th>\n",
              "      <th>State</th>\n",
              "      <th>Zip</th>\n",
              "      <th>Inspection Date</th>\n",
              "      <th>Inspection Type</th>\n",
              "      <th>Violations</th>\n",
              "      <th>Latitude</th>\n",
              "      <th>Longitude</th>\n",
              "      <th>Location</th>\n",
              "      <th>Fail</th>\n",
              "    </tr>\n",
              "  </thead>\n",
              "  <tbody>\n",
              "    <tr>\n",
              "      <th>0</th>\n",
              "      <td>114835</td>\n",
              "      <td>7 - ELEVEN</td>\n",
              "      <td>7 - ELEVEN</td>\n",
              "      <td>46907.0</td>\n",
              "      <td>Grocery Store</td>\n",
              "      <td>Risk 2 (Medium)</td>\n",
              "      <td>600 S DEARBORN</td>\n",
              "      <td>CHICAGO</td>\n",
              "      <td>IL</td>\n",
              "      <td>60605.0</td>\n",
              "      <td>2011-03-22T00:00:00</td>\n",
              "      <td>Canvass</td>\n",
              "      <td>33. FOOD AND NON-FOOD CONTACT EQUIPMENT UTENSI...</td>\n",
              "      <td>41.874481</td>\n",
              "      <td>-87.629357</td>\n",
              "      <td>{'longitude': '-87.62935653990546', 'latitude'...</td>\n",
              "      <td>0</td>\n",
              "    </tr>\n",
              "    <tr>\n",
              "      <th>1</th>\n",
              "      <td>1575555</td>\n",
              "      <td>TAQUERIA LOS GALLOS INC</td>\n",
              "      <td>TAQUERIA LOS GALLOS</td>\n",
              "      <td>1044860.0</td>\n",
              "      <td>Restaurant</td>\n",
              "      <td>Risk 1 (High)</td>\n",
              "      <td>4209-4211 W 26TH ST</td>\n",
              "      <td>CHICAGO</td>\n",
              "      <td>IL</td>\n",
              "      <td>60623.0</td>\n",
              "      <td>2015-09-15T00:00:00</td>\n",
              "      <td>Canvass</td>\n",
              "      <td>30. FOOD IN ORIGINAL CONTAINER, PROPERLY LABEL...</td>\n",
              "      <td>41.844070</td>\n",
              "      <td>-87.729807</td>\n",
              "      <td>{'longitude': '-87.72980747367433', 'latitude'...</td>\n",
              "      <td>0</td>\n",
              "    </tr>\n",
              "    <tr>\n",
              "      <th>2</th>\n",
              "      <td>671061</td>\n",
              "      <td>TROTTER'S TO GO</td>\n",
              "      <td>TROTTER'S TO GO</td>\n",
              "      <td>1092634.0</td>\n",
              "      <td>Restaurant</td>\n",
              "      <td>Risk 1 (High)</td>\n",
              "      <td>1337 W FULLERTON AVE</td>\n",
              "      <td>CHICAGO</td>\n",
              "      <td>IL</td>\n",
              "      <td>60614.0</td>\n",
              "      <td>2012-03-02T00:00:00</td>\n",
              "      <td>Canvass</td>\n",
              "      <td>34. FLOORS: CONSTRUCTED PER CODE, CLEANED, GOO...</td>\n",
              "      <td>41.925128</td>\n",
              "      <td>-87.662041</td>\n",
              "      <td>{'longitude': '-87.66204067083224', 'latitude'...</td>\n",
              "      <td>0</td>\n",
              "    </tr>\n",
              "    <tr>\n",
              "      <th>3</th>\n",
              "      <td>1965844</td>\n",
              "      <td>BIG G'S PIZZA</td>\n",
              "      <td>BIG G'S PIZZA</td>\n",
              "      <td>2334691.0</td>\n",
              "      <td>Restaurant</td>\n",
              "      <td>Risk 1 (High)</td>\n",
              "      <td>1132 W TAYLOR ST</td>\n",
              "      <td>CHICAGO</td>\n",
              "      <td>IL</td>\n",
              "      <td>60607.0</td>\n",
              "      <td>2016-10-04T00:00:00</td>\n",
              "      <td>Canvass Re-Inspection</td>\n",
              "      <td>14. PREVIOUS SERIOUS VIOLATION CORRECTED, 7-42...</td>\n",
              "      <td>41.869546</td>\n",
              "      <td>-87.655501</td>\n",
              "      <td>{'longitude': '-87.65550098867566', 'latitude'...</td>\n",
              "      <td>1</td>\n",
              "    </tr>\n",
              "    <tr>\n",
              "      <th>4</th>\n",
              "      <td>1751669</td>\n",
              "      <td>SOUTH CENTRAL COMMUNITY SERVICES ELEMENTARY</td>\n",
              "      <td>SOUTH CENTRAL COMMUNITY SERVICES ELEMENTARY</td>\n",
              "      <td>3491970.0</td>\n",
              "      <td>School</td>\n",
              "      <td>Risk 2 (Medium)</td>\n",
              "      <td>1021 E 83RD</td>\n",
              "      <td>CHICAGO</td>\n",
              "      <td>IL</td>\n",
              "      <td>60619.0</td>\n",
              "      <td>2016-04-08T00:00:00</td>\n",
              "      <td>Canvass</td>\n",
              "      <td>18. NO EVIDENCE OF RODENT OR INSECT OUTER OPEN...</td>\n",
              "      <td>41.743933</td>\n",
              "      <td>-87.599291</td>\n",
              "      <td>{'longitude': '-87.59929083361996', 'latitude'...</td>\n",
              "      <td>1</td>\n",
              "    </tr>\n",
              "  </tbody>\n",
              "</table>\n",
              "</div>"
            ],
            "text/plain": [
              "   Inspection ID  ... Fail\n",
              "0         114835  ...    0\n",
              "1        1575555  ...    0\n",
              "2         671061  ...    0\n",
              "3        1965844  ...    1\n",
              "4        1751669  ...    1\n",
              "\n",
              "[5 rows x 17 columns]"
            ]
          },
          "metadata": {
            "tags": []
          },
          "execution_count": 53
        }
      ]
    },
    {
      "cell_type": "code",
      "metadata": {
        "id": "3FOPqsdaABHT",
        "colab_type": "code",
        "outputId": "9a7c97e5-c32e-4e1a-9605-c4a5366b45cf",
        "colab": {
          "base_uri": "https://localhost:8080/",
          "height": 323
        }
      },
      "source": [
        "# check Nulls\n",
        "train.isnull().sum()"
      ],
      "execution_count": 0,
      "outputs": [
        {
          "output_type": "execute_result",
          "data": {
            "text/plain": [
              "Inspection ID         0\n",
              "DBA Name              0\n",
              "AKA Name            623\n",
              "License #             5\n",
              "Facility Type       224\n",
              "Risk                 12\n",
              "Address               0\n",
              "City                 53\n",
              "State                10\n",
              "Zip                  26\n",
              "Inspection Date       0\n",
              "Inspection Type       1\n",
              "Violations         9655\n",
              "Latitude            198\n",
              "Longitude           198\n",
              "Location            198\n",
              "Fail                  0\n",
              "dtype: int64"
            ]
          },
          "metadata": {
            "tags": []
          },
          "execution_count": 54
        }
      ]
    },
    {
      "cell_type": "code",
      "metadata": {
        "id": "TwbwbzXcAWe3",
        "colab_type": "code",
        "outputId": "3c5d5555-a03a-44b0-db79-38634d8d0950",
        "colab": {
          "base_uri": "https://localhost:8080/",
          "height": 323
        }
      },
      "source": [
        "test.isnull().sum()"
      ],
      "execution_count": 0,
      "outputs": [
        {
          "output_type": "execute_result",
          "data": {
            "text/plain": [
              "Inspection ID         0\n",
              "DBA Name              0\n",
              "AKA Name            222\n",
              "License #             2\n",
              "Facility Type        87\n",
              "Risk                  7\n",
              "Address               0\n",
              "City                 18\n",
              "State                 2\n",
              "Zip                   8\n",
              "Inspection Date       0\n",
              "Inspection Type       0\n",
              "Violations         3280\n",
              "Latitude             61\n",
              "Longitude            61\n",
              "Location             61\n",
              "Fail                  0\n",
              "dtype: int64"
            ]
          },
          "metadata": {
            "tags": []
          },
          "execution_count": 55
        }
      ]
    },
    {
      "cell_type": "code",
      "metadata": {
        "id": "ico0KzmzLws2",
        "colab_type": "code",
        "outputId": "21be32ac-6fcd-466b-eedd-74dd22fae6cc",
        "colab": {
          "base_uri": "https://localhost:8080/",
          "height": 378
        }
      },
      "source": [
        "# check 'Fail' class imbalance via a Plot: Pass Vs Fail\n",
        "(train['Fail'].map({0: 'Passed', 1: 'Failed'}).value_counts(normalize=True) * 100)\\\n",
        "  .plot.bar(title='Percentages of Inspection Results', figsize=(10, 5))"
      ],
      "execution_count": 0,
      "outputs": [
        {
          "output_type": "execute_result",
          "data": {
            "text/plain": [
              "<matplotlib.axes._subplots.AxesSubplot at 0x7f2c782149e8>"
            ]
          },
          "metadata": {
            "tags": []
          },
          "execution_count": 56
        },
        {
          "output_type": "display_data",
          "data": {
            "image/png": "[encoded data removed]",
            "text/plain": [
              "<Figure size 720x360 with 1 Axes>"
            ]
          },
          "metadata": {
            "tags": []
          }
        }
      ]
    },
    {
      "cell_type": "code",
      "metadata": {
        "id": "qmaEH4DtEUzz",
        "colab_type": "code",
        "outputId": "ef83c83b-e5f3-4da2-d2a5-35d6c960d8bb",
        "colab": {
          "base_uri": "https://localhost:8080/",
          "height": 1000
        }
      },
      "source": [
        "# Drop 'AKA Name' column in train set since I will use the \"DBA Name\" column and the former has nulls while the latter does not,\n",
        "# and both serve similar enough functions as a business identifier for my purposes\n",
        "train = train.drop(columns=['AKA Name'])\n",
        "train"
      ],
      "execution_count": 0,
      "outputs": [
        {
          "output_type": "execute_result",
          "data": {
            "text/html": [
              "<div>\n",
              "<style scoped>\n",
              "    .dataframe tbody tr th:only-of-type {\n",
              "        vertical-align: middle;\n",
              "    }\n",
              "\n",
              "    .dataframe tbody tr th {\n",
              "        vertical-align: top;\n",
              "    }\n",
              "\n",
              "    .dataframe thead th {\n",
              "        text-align: right;\n",
              "    }\n",
              "</style>\n",
              "<table border=\"1\" class=\"dataframe\">\n",
              "  <thead>\n",
              "    <tr style=\"text-align: right;\">\n",
              "      <th></th>\n",
              "      <th>Inspection ID</th>\n",
              "      <th>DBA Name</th>\n",
              "      <th>License #</th>\n",
              "      <th>Facility Type</th>\n",
              "      <th>Risk</th>\n",
              "      <th>Address</th>\n",
              "      <th>City</th>\n",
              "      <th>State</th>\n",
              "      <th>Zip</th>\n",
              "      <th>Inspection Date</th>\n",
              "      <th>Inspection Type</th>\n",
              "      <th>Violations</th>\n",
              "      <th>Latitude</th>\n",
              "      <th>Longitude</th>\n",
              "      <th>Location</th>\n",
              "      <th>Fail</th>\n",
              "    </tr>\n",
              "  </thead>\n",
              "  <tbody>\n",
              "    <tr>\n",
              "      <th>0</th>\n",
              "      <td>2088270</td>\n",
              "      <td>TOM YUM RICE &amp; NOODLE, INC.</td>\n",
              "      <td>2354911.0</td>\n",
              "      <td>Restaurant</td>\n",
              "      <td>Risk 1 (High)</td>\n",
              "      <td>608 W BARRY</td>\n",
              "      <td>CHICAGO</td>\n",
              "      <td>IL</td>\n",
              "      <td>60657.0</td>\n",
              "      <td>2017-09-15T00:00:00</td>\n",
              "      <td>Canvass</td>\n",
              "      <td>3. POTENTIALLY HAZARDOUS FOOD MEETS TEMPERATUR...</td>\n",
              "      <td>41.938007</td>\n",
              "      <td>-87.644755</td>\n",
              "      <td>{'longitude': '-87.6447545707008', 'latitude':...</td>\n",
              "      <td>1</td>\n",
              "    </tr>\n",
              "    <tr>\n",
              "      <th>1</th>\n",
              "      <td>555268</td>\n",
              "      <td>FILLING STATION  &amp; CONVENIENCE  STORE</td>\n",
              "      <td>1044901.0</td>\n",
              "      <td>Grocery Store</td>\n",
              "      <td>Risk 3 (Low)</td>\n",
              "      <td>6646-6658 S WESTERN AVE</td>\n",
              "      <td>CHICAGO</td>\n",
              "      <td>IL</td>\n",
              "      <td>60636.0</td>\n",
              "      <td>2011-10-20T00:00:00</td>\n",
              "      <td>Complaint Re-Inspection</td>\n",
              "      <td>32. FOOD AND NON-FOOD CONTACT SURFACES PROPERL...</td>\n",
              "      <td>41.772402</td>\n",
              "      <td>-87.683603</td>\n",
              "      <td>{'longitude': '-87.68360273081268', 'latitude'...</td>\n",
              "      <td>0</td>\n",
              "    </tr>\n",
              "    <tr>\n",
              "      <th>2</th>\n",
              "      <td>1751394</td>\n",
              "      <td>A P DELI</td>\n",
              "      <td>47405.0</td>\n",
              "      <td>Restaurant</td>\n",
              "      <td>Risk 1 (High)</td>\n",
              "      <td>2025 E 75TH ST</td>\n",
              "      <td>CHICAGO</td>\n",
              "      <td>IL</td>\n",
              "      <td>60649.0</td>\n",
              "      <td>2016-04-05T00:00:00</td>\n",
              "      <td>Canvass Re-Inspection</td>\n",
              "      <td>35. WALLS, CEILINGS, ATTACHED EQUIPMENT CONSTR...</td>\n",
              "      <td>41.758779</td>\n",
              "      <td>-87.575054</td>\n",
              "      <td>{'longitude': '-87.57505446746121', 'latitude'...</td>\n",
              "      <td>0</td>\n",
              "    </tr>\n",
              "    <tr>\n",
              "      <th>3</th>\n",
              "      <td>1763905</td>\n",
              "      <td>FRANK'S CHICAGO SHRIMP HOUSE</td>\n",
              "      <td>6414.0</td>\n",
              "      <td>Restaurant</td>\n",
              "      <td>Risk 2 (Medium)</td>\n",
              "      <td>4459 S ARCHER AVE</td>\n",
              "      <td>CHICAGO</td>\n",
              "      <td>IL</td>\n",
              "      <td>60632.0</td>\n",
              "      <td>2016-04-29T00:00:00</td>\n",
              "      <td>Canvass</td>\n",
              "      <td>38. VENTILATION: ROOMS AND EQUIPMENT VENTED AS...</td>\n",
              "      <td>41.812181</td>\n",
              "      <td>-87.707125</td>\n",
              "      <td>{'longitude': '-87.70712481334274', 'latitude'...</td>\n",
              "      <td>0</td>\n",
              "    </tr>\n",
              "    <tr>\n",
              "      <th>4</th>\n",
              "      <td>453326</td>\n",
              "      <td>MORRILL</td>\n",
              "      <td>24571.0</td>\n",
              "      <td>School</td>\n",
              "      <td>Risk 1 (High)</td>\n",
              "      <td>6011 S Rockwell (2600W) AVE</td>\n",
              "      <td>CHICAGO</td>\n",
              "      <td>IL</td>\n",
              "      <td>60629.0</td>\n",
              "      <td>2011-01-10T00:00:00</td>\n",
              "      <td>Canvass</td>\n",
              "      <td>34. FLOORS: CONSTRUCTED PER CODE, CLEANED, GOO...</td>\n",
              "      <td>NaN</td>\n",
              "      <td>NaN</td>\n",
              "      <td>NaN</td>\n",
              "      <td>0</td>\n",
              "    </tr>\n",
              "    <tr>\n",
              "      <th>...</th>\n",
              "      <td>...</td>\n",
              "      <td>...</td>\n",
              "      <td>...</td>\n",
              "      <td>...</td>\n",
              "      <td>...</td>\n",
              "      <td>...</td>\n",
              "      <td>...</td>\n",
              "      <td>...</td>\n",
              "      <td>...</td>\n",
              "      <td>...</td>\n",
              "      <td>...</td>\n",
              "      <td>...</td>\n",
              "      <td>...</td>\n",
              "      <td>...</td>\n",
              "      <td>...</td>\n",
              "      <td>...</td>\n",
              "    </tr>\n",
              "    <tr>\n",
              "      <th>51911</th>\n",
              "      <td>1370030</td>\n",
              "      <td>VANILLE PATTISSERIE</td>\n",
              "      <td>2129404.0</td>\n",
              "      <td>Grocery Store</td>\n",
              "      <td>Risk 2 (Medium)</td>\n",
              "      <td>131 N CLINTON ST</td>\n",
              "      <td>CHICAGO</td>\n",
              "      <td>IL</td>\n",
              "      <td>60661.0</td>\n",
              "      <td>2013-10-29T00:00:00</td>\n",
              "      <td>Canvass</td>\n",
              "      <td>NaN</td>\n",
              "      <td>41.884188</td>\n",
              "      <td>-87.641120</td>\n",
              "      <td>{'longitude': '-87.64111966683218', 'latitude'...</td>\n",
              "      <td>0</td>\n",
              "    </tr>\n",
              "    <tr>\n",
              "      <th>51912</th>\n",
              "      <td>579387</td>\n",
              "      <td>CHICAGO STEAK HOUSE</td>\n",
              "      <td>2079910.0</td>\n",
              "      <td>Restaurant</td>\n",
              "      <td>Risk 2 (Medium)</td>\n",
              "      <td>219 E 47TH ST</td>\n",
              "      <td>CHICAGO</td>\n",
              "      <td>IL</td>\n",
              "      <td>60653.0</td>\n",
              "      <td>2011-02-25T00:00:00</td>\n",
              "      <td>License Re-Inspection</td>\n",
              "      <td>NaN</td>\n",
              "      <td>41.809214</td>\n",
              "      <td>-87.620308</td>\n",
              "      <td>{'longitude': '-87.62030817634384', 'latitude'...</td>\n",
              "      <td>0</td>\n",
              "    </tr>\n",
              "    <tr>\n",
              "      <th>51913</th>\n",
              "      <td>2169678</td>\n",
              "      <td>JEWEL FOOD STORE #3043</td>\n",
              "      <td>1144384.0</td>\n",
              "      <td>Grocery Store</td>\n",
              "      <td>Risk 1 (High)</td>\n",
              "      <td>443 E 34TH ST</td>\n",
              "      <td>CHICAGO</td>\n",
              "      <td>IL</td>\n",
              "      <td>60616.0</td>\n",
              "      <td>2018-05-14T00:00:00</td>\n",
              "      <td>Canvass Re-Inspection</td>\n",
              "      <td>33. FOOD AND NON-FOOD CONTACT EQUIPMENT UTENSI...</td>\n",
              "      <td>41.833045</td>\n",
              "      <td>-87.614611</td>\n",
              "      <td>{'longitude': '-87.61461136443168', 'latitude'...</td>\n",
              "      <td>0</td>\n",
              "    </tr>\n",
              "    <tr>\n",
              "      <th>51914</th>\n",
              "      <td>1588969</td>\n",
              "      <td>RESTAURANTE SALVADORENO OLOCUILTA INC.</td>\n",
              "      <td>2308079.0</td>\n",
              "      <td>Restaurant</td>\n",
              "      <td>Risk 1 (High)</td>\n",
              "      <td>3040 N LARAMIE AVE</td>\n",
              "      <td>CHICAGO</td>\n",
              "      <td>IL</td>\n",
              "      <td>60641.0</td>\n",
              "      <td>2015-11-30T00:00:00</td>\n",
              "      <td>Canvass Re-Inspection</td>\n",
              "      <td>NaN</td>\n",
              "      <td>41.936300</td>\n",
              "      <td>-87.756750</td>\n",
              "      <td>{'longitude': '-87.75674980489909', 'latitude'...</td>\n",
              "      <td>0</td>\n",
              "    </tr>\n",
              "    <tr>\n",
              "      <th>51915</th>\n",
              "      <td>114560</td>\n",
              "      <td>BURRITO BEACH # 8</td>\n",
              "      <td>1491413.0</td>\n",
              "      <td>Restaurant</td>\n",
              "      <td>Risk 1 (High)</td>\n",
              "      <td>200 E OHIO ST</td>\n",
              "      <td>CHICAGO</td>\n",
              "      <td>IL</td>\n",
              "      <td>60611.0</td>\n",
              "      <td>2010-09-29T00:00:00</td>\n",
              "      <td>Canvass</td>\n",
              "      <td>33. FOOD AND NON-FOOD CONTACT EQUIPMENT UTENSI...</td>\n",
              "      <td>41.892671</td>\n",
              "      <td>-87.622572</td>\n",
              "      <td>{'longitude': '-87.62257220248128', 'latitude'...</td>\n",
              "      <td>0</td>\n",
              "    </tr>\n",
              "  </tbody>\n",
              "</table>\n",
              "<p>51916 rows × 16 columns</p>\n",
              "</div>"
            ],
            "text/plain": [
              "       Inspection ID  ... Fail\n",
              "0            2088270  ...    1\n",
              "1             555268  ...    0\n",
              "2            1751394  ...    0\n",
              "3            1763905  ...    0\n",
              "4             453326  ...    0\n",
              "...              ...  ...  ...\n",
              "51911        1370030  ...    0\n",
              "51912         579387  ...    0\n",
              "51913        2169678  ...    0\n",
              "51914        1588969  ...    0\n",
              "51915         114560  ...    0\n",
              "\n",
              "[51916 rows x 16 columns]"
            ]
          },
          "metadata": {
            "tags": []
          },
          "execution_count": 57
        }
      ]
    },
    {
      "cell_type": "code",
      "metadata": {
        "id": "3TAzd6EivQv3",
        "colab_type": "code",
        "outputId": "80960f99-5436-4081-87a1-535e70327285",
        "colab": {
          "base_uri": "https://localhost:8080/",
          "height": 34
        }
      },
      "source": [
        "y = train['Fail']\n",
        "y.unique()"
      ],
      "execution_count": 0,
      "outputs": [
        {
          "output_type": "execute_result",
          "data": {
            "text/plain": [
              "array([1, 0])"
            ]
          },
          "metadata": {
            "tags": []
          },
          "execution_count": 58
        }
      ]
    },
    {
      "cell_type": "code",
      "metadata": {
        "id": "lFQqIdTJBSDb",
        "colab_type": "code",
        "outputId": "7fad94b3-3ec7-4a0e-c9dd-8b4b7a3248a0",
        "colab": {
          "base_uri": "https://localhost:8080/",
          "height": 68
        }
      },
      "source": [
        "'''\n",
        "Which evaluation measure is appropriate to use for a classification model with imbalanced classes?\n",
        "Precision metric tells us how many predicted samples are relevant i.e. our mistakes into classifying sample as a correct one if it's not true. this metric is a good choice for the imbalanced classification scenario.May 9, 2019\n",
        "\n",
        "Metrics for Imbalanced Classification - Towards Data Science\n",
        "'''\n",
        "# May use PRECISION METRIC? (instead of Accuracy in ntbk) for validation because our 2 class ratio is about 3:1; ~significant imbalance\n",
        "\n",
        "# TEST INSTRUCTION: estimate your ROC AUC validation score\n",
        "\n",
        "# find how many of Pass and Failed in our train['Fail']\n",
        "y.value_counts(normalize=True)"
      ],
      "execution_count": 0,
      "outputs": [
        {
          "output_type": "execute_result",
          "data": {
            "text/plain": [
              "0    0.74139\n",
              "1    0.25861\n",
              "Name: Fail, dtype: float64"
            ]
          },
          "metadata": {
            "tags": []
          },
          "execution_count": 59
        }
      ]
    },
    {
      "cell_type": "code",
      "metadata": {
        "id": "yaM_C67MHNb2",
        "colab_type": "code",
        "colab": {}
      },
      "source": [
        "import pandas as pd \n",
        "# from LS_DSPT4_231.ipynb (Mod 1)\n",
        "\n",
        "'''\n",
        "Next, do a time-based split:\n",
        "Brief Description: This dataset contains information from inspections of restaurants and other\n",
        "food establishments in Chicago from January 1, 2010 to the present. \n",
        "'''\n",
        "\n",
        "train['Inspection Date'] = pd.to_datetime(train['Inspection Date'])"
      ],
      "execution_count": 0,
      "outputs": []
    },
    {
      "cell_type": "code",
      "metadata": {
        "id": "DbjOKVHbMCZA",
        "colab_type": "code",
        "colab": {}
      },
      "source": [
        "# TRIED to split val from train, but got AttributeError: Can only use .dt accessor with datetimelike values..\n",
        "# may have to feature engineer Inspection Date to parse out only date!\n",
        "\n",
        "# Attempt 2: Parsing out only YEAR from train['Inspection Date'] - works!\n",
        "train['Inspection Date'] = pd.to_datetime(train['Inspection Date'])\n",
        "train['Inspection Year'] = train['Inspection Date'].dt.year\n",
        "\n",
        "test['Inspection Date'] = pd.to_datetime(test['Inspection Date'])\n",
        "test['Inspection Year'] = test['Inspection Date'].dt.year\n"
      ],
      "execution_count": 0,
      "outputs": []
    },
    {
      "cell_type": "code",
      "metadata": {
        "id": "EBKYL3wzS7Eo",
        "colab_type": "code",
        "outputId": "872d61f6-1c31-4b7f-9062-e437740814f6",
        "colab": {
          "base_uri": "https://localhost:8080/",
          "height": 34
        }
      },
      "source": [
        " split_train = train[train['Inspection Date'].dt.year <= 2016]\n",
        " val = train[train['Inspection Date'].dt.year > 2017]\n",
        "\n",
        "# Check if ~80 % train; 20% val split was chosen\n",
        "split_train.shape, val.shape"
      ],
      "execution_count": 5,
      "outputs": [
        {
          "output_type": "execute_result",
          "data": {
            "text/plain": [
              "((41827, 18), (4058, 18))"
            ]
          },
          "metadata": {
            "tags": []
          },
          "execution_count": 5
        }
      ]
    },
    {
      "cell_type": "code",
      "metadata": {
        "id": "j2RnKnCwP4dH",
        "colab_type": "code",
        "colab": {}
      },
      "source": [
        "\n",
        "# May fine tune split using months additionally\n",
        "'''\n",
        "val.value_counts(normalize=True) (gives err df obj has no val_cnts attrib..)\n",
        "\n",
        "# check 'Fail' class imbalance via a Plot: Pass Vs Fail\n",
        "# ?!?!\n",
        "# (train_split['Inspection Year'].map({ ('Inspection Year'<= 2016): 'train_split', 1: 'Failed'}).value_counts(normalize=True) * 100)\\\n",
        "# .plot.bar(title='Percentages of Inspection Results', figsize=(10, 5))\n",
        "'''"
      ],
      "execution_count": 0,
      "outputs": []
    },
    {
      "cell_type": "code",
      "metadata": {
        "id": "jpKIYoprIZZO",
        "colab_type": "code",
        "colab": {}
      },
      "source": [
        "# Feature Engineer 'Any Failed' col to try to get >= .6 Validation Score\n",
        "# Failed business converted to a \"1\"; Passed = \"0\"\n",
        "\n",
        "train['Any Failed'] = train.groupby('Address')['Fail'].transform(lambda x: int((x == 1).any()))\n",
        "test['Any Failed'] = test.groupby('Address')['Fail'].transform(lambda x: int((x == 1).any()))"
      ],
      "execution_count": 0,
      "outputs": []
    },
    {
      "cell_type": "code",
      "metadata": {
        "id": "mQ-1d46dJnaz",
        "colab_type": "code",
        "outputId": "902f9e42-47dc-4ec2-bd17-10d00da9bdfd",
        "colab": {
          "base_uri": "https://localhost:8080/",
          "height": 476
        }
      },
      "source": [
        "train, test"
      ],
      "execution_count": 0,
      "outputs": [
        {
          "output_type": "execute_result",
          "data": {
            "text/plain": [
              "(       Inspection ID  ... Any Failed\n",
              " 0            2088270  ...          1\n",
              " 1             555268  ...          1\n",
              " 2            1751394  ...          1\n",
              " 3            1763905  ...          1\n",
              " 4             453326  ...          1\n",
              " ...              ...  ...        ...\n",
              " 51911        1370030  ...          1\n",
              " 51912         579387  ...          0\n",
              " 51913        2169678  ...          1\n",
              " 51914        1588969  ...          1\n",
              " 51915         114560  ...          0\n",
              " \n",
              " [51916 rows x 18 columns],        Inspection ID  ... Any Failed\n",
              " 0             114835  ...          0\n",
              " 1            1575555  ...          0\n",
              " 2             671061  ...          0\n",
              " 3            1965844  ...          1\n",
              " 4            1751669  ...          1\n",
              " ...              ...  ...        ...\n",
              " 17301        1325282  ...          0\n",
              " 17302        2200402  ...          1\n",
              " 17303          80338  ...          1\n",
              " 17304        1229608  ...          0\n",
              " 17305         277731  ...          1\n",
              " \n",
              " [17306 rows x 19 columns])"
            ]
          },
          "metadata": {
            "tags": []
          },
          "execution_count": 65
        }
      ]
    },
    {
      "cell_type": "code",
      "metadata": {
        "id": "6oDkKAQ5puep",
        "colab_type": "code",
        "colab": {}
      },
      "source": [
        ""
      ],
      "execution_count": 0,
      "outputs": []
    },
    {
      "cell_type": "code",
      "metadata": {
        "id": "MV1UJYb2vyn6",
        "colab_type": "code",
        "colab": {}
      },
      "source": [
        ""
      ],
      "execution_count": 0,
      "outputs": []
    },
    {
      "cell_type": "code",
      "metadata": {
        "id": "JZTIJzrWmU9m",
        "colab_type": "code",
        "colab": {}
      },
      "source": [
        "#*************************** FROM INITIAL TEST ATTEMPT *************************************"
      ],
      "execution_count": 0,
      "outputs": []
    },
    {
      "cell_type": "code",
      "metadata": {
        "id": "jTEnTbQy58XJ",
        "colab_type": "code",
        "outputId": "f8f996ee-20de-4f71-c585-bb9cd917e204",
        "colab": {
          "base_uri": "https://localhost:8080/",
          "height": 34
        }
      },
      "source": [
        "'''\n",
        "import re\n",
        "train[train['Violations'].fillna('').str.contains('serious', flags=re.I)]['Fail'].value_counts()\n",
        "'''"
      ],
      "execution_count": 0,
      "outputs": [
        {
          "output_type": "execute_result",
          "data": {
            "text/plain": [
              "\"\\nimport re\\ntrain[train['Violations'].fillna('').str.contains('serious', flags=re.I)]['Fail'].value_counts()\\n\""
            ]
          },
          "metadata": {
            "tags": []
          },
          "execution_count": 67
        }
      ]
    },
    {
      "cell_type": "code",
      "metadata": {
        "id": "_XlYuX-N3Kq2",
        "colab_type": "code",
        "outputId": "4527394f-ce0e-42ef-fffa-356687cd086f",
        "colab": {
          "base_uri": "https://localhost:8080/",
          "height": 54
        }
      },
      "source": [
        "'''\n",
        "train['Inspection Date'] = pd.to_datetime(train['Inspection Date'])\n",
        "train['Inspection Year'] = train['Inspection Date'].dt.year\n",
        "train['Inspection Month'] = train['Inspection Date'].dt.month\n",
        "train['Inspection Day'] = train['Inspection Date'].dt.day\n",
        "'''"
      ],
      "execution_count": 0,
      "outputs": [
        {
          "output_type": "execute_result",
          "data": {
            "text/plain": [
              "\"\\ntrain['Inspection Date'] = pd.to_datetime(train['Inspection Date'])\\ntrain['Inspection Year'] = train['Inspection Date'].dt.year\\ntrain['Inspection Month'] = train['Inspection Date'].dt.month\\ntrain['Inspection Day'] = train['Inspection Date'].dt.day\\n\""
            ]
          },
          "metadata": {
            "tags": []
          },
          "execution_count": 68
        }
      ]
    },
    {
      "cell_type": "code",
      "metadata": {
        "id": "EWZPoIi74omB",
        "colab_type": "code",
        "outputId": "42b4234a-851d-4f31-c3b0-a64be718e918",
        "colab": {
          "base_uri": "https://localhost:8080/",
          "height": 54
        }
      },
      "source": [
        "'''\n",
        "test['Inspection Date'] = pd.to_datetime(test['Inspection Date'])\n",
        "test['Inspection Year'] = test['Inspection Date'].dt.year\n",
        "test['Inspection Month'] = test['Inspection Date'].dt.month\n",
        "test['Inspection Day'] = test['Inspection Date'].dt.day\n",
        "'''"
      ],
      "execution_count": 0,
      "outputs": [
        {
          "output_type": "execute_result",
          "data": {
            "text/plain": [
              "\"\\ntest['Inspection Date'] = pd.to_datetime(test['Inspection Date'])\\ntest['Inspection Year'] = test['Inspection Date'].dt.year\\ntest['Inspection Month'] = test['Inspection Date'].dt.month\\ntest['Inspection Day'] = test['Inspection Date'].dt.day\\n\""
            ]
          },
          "metadata": {
            "tags": []
          },
          "execution_count": 69
        }
      ]
    },
    {
      "cell_type": "code",
      "metadata": {
        "id": "0SAFObM-FrUs",
        "colab_type": "code",
        "colab": {}
      },
      "source": [
        "#test\n"
      ],
      "execution_count": 0,
      "outputs": []
    },
    {
      "cell_type": "code",
      "metadata": {
        "id": "jTV0PLyVH-R4",
        "colab_type": "code",
        "colab": {}
      },
      "source": [
        "'''\n",
        "#check distribution of train\n",
        "\n",
        "import seaborn as sns\n",
        "sns.distplot(train)\n",
        "'''"
      ],
      "execution_count": 0,
      "outputs": []
    },
    {
      "cell_type": "markdown",
      "metadata": {
        "colab_type": "text",
        "id": "nB8CQnExGqzr"
      },
      "source": [
        "## Part 2: Modeling\n",
        "\n",
        "> **Fit a model** with the train set. (You may use scikit-learn, xgboost, or any other library.) Use cross-validation or do a three-way split (train/validate/test) and **estimate your ROC AUC** validation score.\n",
        ">\n",
        "> Use your model to **predict probabilities** for the test set. **Get an ROC AUC test score >= 0.60.**"
      ]
    },
    {
      "cell_type": "code",
      "metadata": {
        "colab_type": "code",
        "id": "YQ3hD2G1IbVH",
        "outputId": "c2370b5f-a535-4024-f722-3f7c62797a91",
        "colab": {
          "base_uri": "https://localhost:8080/",
          "height": 102
        }
      },
      "source": [
        "#ATTEMPT 2: getting invalid type promotion err\n",
        "\n",
        "# Try a shallow decision tree as a fast, first model\n",
        "\n",
        "import category_encoders as ce\n",
        "from sklearn.pipeline import make_pipeline\n",
        "from sklearn.impute import SimpleImputer\n",
        "from sklearn.tree import DecisionTreeClassifier\n",
        "from sklearn.ensemble import RandomForestClassifier\n",
        "from sklearn.metrics import roc_auc_score\n",
        "from sklearn.model_selection import train_test_split\n",
        "\n",
        "target = 'Fail'\n",
        "# features = ['Inspection Type', 'Any Failed', 'Facility Type', 'Latitude', 'Longitude']\n",
        "features = ['Inspection Type', 'Zip', 'Any Failed', 'License #', 'Facility Type', 'Latitude', 'Longitude']\n",
        "\n",
        "X_train, X_test, y_train, y_test = train_test_split(train[features], train[target])\n",
        "\n",
        "pipeline = make_pipeline(\n",
        "    ce.OrdinalEncoder(),\n",
        "    SimpleImputer(strategy='most_frequent'),\n",
        "    RandomForestClassifier()\n",
        ")\n",
        "\n",
        "pipeline.fit(X_train, y_train)\n",
        "print(f'Test Accuracy: {pipeline.score(X_test, y_test)}')\n",
        "print(f'Test ROC AUC: {roc_auc_score(y_test, pipeline.predict(X_test))}\\n')\n",
        "\n",
        "print(f'Val Accuracy: {pipeline.score(test[features], test[target])}')\n",
        "print(f'Val ROC AUC: {roc_auc_score(test[target], pipeline.predict(test[features]))}')"
      ],
      "execution_count": 0,
      "outputs": [
        {
          "output_type": "stream",
          "text": [
            "Test Accuracy: 0.7502889282687418\n",
            "Test ROC AUC: 0.6553510237914922\n",
            "\n",
            "Val Accuracy: 0.815786432451173\n",
            "Val ROC AUC: 0.7100866311468951\n"
          ],
          "name": "stdout"
        }
      ]
    },
    {
      "cell_type": "markdown",
      "metadata": {
        "colab_type": "text",
        "id": "u98nLGBTMo9s"
      },
      "source": [
        "## Part 3: Visualization\n",
        "\n",
        "> Make visualizations for model interpretation. (You may use any libraries.) Choose two of these types:\n",
        ">\n",
        "> - Permutation Importances\n",
        "> - Partial Dependence Plot, 1 feature isolation\n",
        "> - Partial Dependence Plot, 2 features interaction\n",
        "> - Shapley Values"
      ]
    },
    {
      "cell_type": "code",
      "metadata": {
        "id": "AJNt9gmxpl5c",
        "colab_type": "code",
        "colab": {}
      },
      "source": [
        "#Perm Impt: https://colab.research.google.com/drive/1z1R0m3XsaZMjukynx2Ub-531Sh32xPln#scrollTo=QxhmJFxvKDbM (u2s3m3) "
      ],
      "execution_count": 0,
      "outputs": []
    },
    {
      "cell_type": "code",
      "metadata": {
        "id": "B9KGDfS6pzxj",
        "colab_type": "code",
        "outputId": "af04a0e1-8f6e-44e1-b8f6-eb8743196f1a",
        "colab": {
          "base_uri": "https://localhost:8080/",
          "height": 607
        }
      },
      "source": [
        "# Get feature importances\n",
        "rf = pipeline.named_steps['randomforestclassifier']\n",
        "importances = pd.Series(rf.feature_importances_, X_train.columns)\n",
        "\n",
        "# Plot feature importances\n",
        "%matplotlib inline\n",
        "import matplotlib.pyplot as plt\n",
        "\n",
        "n = 20\n",
        "plt.figure(figsize=(10,n/2))\n",
        "plt.title(f'Top {n} features')\n",
        "importances.sort_values()[-n:].plot.barh(color='grey');"
      ],
      "execution_count": 0,
      "outputs": [
        {
          "output_type": "display_data",
          "data": {
            "image/png": "[encoded data removed]",
            "text/plain": [
              "<Figure size 720x720 with 1 Axes>"
            ]
          },
          "metadata": {
            "tags": []
          }
        }
      ]
    },
    {
      "cell_type": "code",
      "metadata": {
        "id": "cphh6LVSqaLU",
        "colab_type": "code",
        "outputId": "a480e6f6-d60c-4fb3-d6a1-9f32580a884e",
        "colab": {
          "base_uri": "https://localhost:8080/",
          "height": 119
        }
      },
      "source": [
        "# BEFORE: Sequence of the feature to be permuted\n",
        "feature = 'Latitude'\n",
        "#X_train[feature].head()"
      ],
      "execution_count": 0,
      "outputs": [
        {
          "output_type": "execute_result",
          "data": {
            "text/plain": [
              "16818    41.910949\n",
              "30045    41.858076\n",
              "46804    41.915437\n",
              "14169    41.947317\n",
              "35794    41.878026\n",
              "Name: Latitude, dtype: float64"
            ]
          },
          "metadata": {
            "tags": []
          },
          "execution_count": 74
        }
      ]
    },
    {
      "cell_type": "code",
      "metadata": {
        "id": "sMQXpycPqnJU",
        "colab_type": "code",
        "colab": {}
      },
      "source": [
        "# PERMUTE\n",
        "import numpy as np\n",
        "\n",
        "X_train_permuted = X_train.copy()\n",
        "X_train_permuted[feature] = np.random.permutation(X_train[feature])"
      ],
      "execution_count": 0,
      "outputs": []
    },
    {
      "cell_type": "code",
      "metadata": {
        "id": "Cqv5KjZNqyRS",
        "colab_type": "code",
        "outputId": "c391a660-e20e-47fb-db71-ea2a93a90b27",
        "colab": {
          "base_uri": "https://localhost:8080/",
          "height": 119
        }
      },
      "source": [
        "#AFTER: Sequence has changed\n",
        "X_train_permuted[feature].head()\n"
      ],
      "execution_count": 0,
      "outputs": [
        {
          "output_type": "execute_result",
          "data": {
            "text/plain": [
              "16818    41.881835\n",
              "30045    41.737067\n",
              "46804    41.953104\n",
              "14169    41.954083\n",
              "35794    41.965170\n",
              "Name: Latitude, dtype: float64"
            ]
          },
          "metadata": {
            "tags": []
          },
          "execution_count": 76
        }
      ]
    },
    {
      "cell_type": "code",
      "metadata": {
        "id": "XGAxrO6ysivB",
        "colab_type": "code",
        "outputId": "5850de7c-9f68-4c2d-994f-7cd6e1685852",
        "colab": {
          "base_uri": "https://localhost:8080/",
          "height": 232
        }
      },
      "source": [
        "X_train = X_train[features]\n",
        "\n",
        "pipeline = make_pipeline(\n",
        "    ce.OrdinalEncoder(), \n",
        "    SimpleImputer(strategy='median'), \n",
        "    RandomForestClassifier(n_estimators=100, random_state=42, n_jobs=-1)\n",
        ")\n",
        "pipeline.fit(X_train, y_train)\n",
        "score_with = pipeline.score(X_test, y_test)\n",
        "print(f'Validation Accuracy: {score_with}')\n"
      ],
      "execution_count": 10,
      "outputs": [
        {
          "output_type": "error",
          "ename": "NameError",
          "evalue": "ignored",
          "traceback": [
            "\u001b[0;31m---------------------------------------------------------------------------\u001b[0m",
            "\u001b[0;31mNameError\u001b[0m                                 Traceback (most recent call last)",
            "\u001b[0;32m<ipython-input-10-1f610c4aae97>\u001b[0m in \u001b[0;36m<module>\u001b[0;34m()\u001b[0m\n\u001b[0;32m----> 1\u001b[0;31m \u001b[0mX_train\u001b[0m \u001b[0;34m=\u001b[0m \u001b[0mX_train\u001b[0m\u001b[0;34m[\u001b[0m\u001b[0mfeatures\u001b[0m\u001b[0;34m]\u001b[0m\u001b[0;34m\u001b[0m\u001b[0;34m\u001b[0m\u001b[0m\n\u001b[0m\u001b[1;32m      2\u001b[0m \u001b[0;34m\u001b[0m\u001b[0m\n\u001b[1;32m      3\u001b[0m pipeline = make_pipeline(\n\u001b[1;32m      4\u001b[0m     \u001b[0mce\u001b[0m\u001b[0;34m.\u001b[0m\u001b[0mOrdinalEncoder\u001b[0m\u001b[0;34m(\u001b[0m\u001b[0;34m)\u001b[0m\u001b[0;34m,\u001b[0m\u001b[0;34m\u001b[0m\u001b[0;34m\u001b[0m\u001b[0m\n\u001b[1;32m      5\u001b[0m     \u001b[0mSimpleImputer\u001b[0m\u001b[0;34m(\u001b[0m\u001b[0mstrategy\u001b[0m\u001b[0;34m=\u001b[0m\u001b[0;34m'median'\u001b[0m\u001b[0;34m)\u001b[0m\u001b[0;34m,\u001b[0m\u001b[0;34m\u001b[0m\u001b[0;34m\u001b[0m\u001b[0m\n",
            "\u001b[0;31mNameError\u001b[0m: name 'X_train' is not defined"
          ]
        }
      ]
    },
    {
      "cell_type": "code",
      "metadata": {
        "id": "Kpj9FGrgq3E8",
        "colab_type": "code",
        "outputId": "9b41170f-ae2a-4377-840a-7153217c8207",
        "colab": {
          "base_uri": "https://localhost:8080/",
          "height": 232
        }
      },
      "source": [
        "# 1) PERMUTATION IMPORTANCE\n",
        "# Notice we don't have to rerun the model\n",
        "\n",
        "score_permuted = pipeline.score(X_val_permuted, y_val) #Calc. accuracy on the permuted val dataset\n",
        "\n",
        "print(f'Validation accuracy with {feature}: {score_with}')\n",
        "print(f'Validation accuracy with {feature} permuted: {score_permuted}')\n",
        "print(f'Permutation importance: {score_with - score_permuted}')"
      ],
      "execution_count": 0,
      "outputs": [
        {
          "output_type": "error",
          "ename": "NameError",
          "evalue": "ignored",
          "traceback": [
            "\u001b[0;31m---------------------------------------------------------------------------\u001b[0m",
            "\u001b[0;31mNameError\u001b[0m                                 Traceback (most recent call last)",
            "\u001b[0;32m<ipython-input-79-158ba418c669>\u001b[0m in \u001b[0;36m<module>\u001b[0;34m()\u001b[0m\n\u001b[1;32m      1\u001b[0m \u001b[0;34m\u001b[0m\u001b[0m\n\u001b[0;32m----> 2\u001b[0;31m \u001b[0mscore_permuted\u001b[0m \u001b[0;34m=\u001b[0m \u001b[0mpipeline\u001b[0m\u001b[0;34m.\u001b[0m\u001b[0mscore\u001b[0m\u001b[0;34m(\u001b[0m\u001b[0mX_val_permuted\u001b[0m\u001b[0;34m,\u001b[0m \u001b[0my_val\u001b[0m\u001b[0;34m)\u001b[0m \u001b[0;31m#Calc. accuracy on the permuted val dataset\u001b[0m\u001b[0;34m\u001b[0m\u001b[0;34m\u001b[0m\u001b[0m\n\u001b[0m\u001b[1;32m      3\u001b[0m \u001b[0;34m\u001b[0m\u001b[0m\n\u001b[1;32m      4\u001b[0m \u001b[0mprint\u001b[0m\u001b[0;34m(\u001b[0m\u001b[0;34mf'Validation accuracy with {feature}: {score_with}'\u001b[0m\u001b[0;34m)\u001b[0m\u001b[0;34m\u001b[0m\u001b[0;34m\u001b[0m\u001b[0m\n\u001b[1;32m      5\u001b[0m \u001b[0mprint\u001b[0m\u001b[0;34m(\u001b[0m\u001b[0;34mf'Validation accuracy with {feature} permuted: {score_permuted}'\u001b[0m\u001b[0;34m)\u001b[0m\u001b[0;34m\u001b[0m\u001b[0;34m\u001b[0m\u001b[0m\n",
            "\u001b[0;31mNameError\u001b[0m: name 'X_val_permuted' is not defined"
          ]
        }
      ]
    },
    {
      "cell_type": "code",
      "metadata": {
        "id": "dIer8G5Xs5a_",
        "colab_type": "code",
        "colab": {}
      },
      "source": [
        "# RERUN for a different feature\n",
        "\n",
        "feature = 'Inspection Type'\n",
        "X_val_permuted = X_val.copy()\n",
        "X_val_permuted[feature] = np.random.permutation(X_val[feature])\n",
        "\n",
        "score_permuted = pipeline.score(X_val_permuted, y_val) #Calc. accuracy on the permuted val dataset\n",
        "\n",
        "print(f'Validation accuracy with {feature}: {score_with}')\n",
        "print(f'Validation accuracy with {feature} permuted: {score_permuted}')\n",
        "print(f'Permutation importance: {score_with - score_permuted}')"
      ],
      "execution_count": 0,
      "outputs": []
    },
    {
      "cell_type": "code",
      "metadata": {
        "id": "nzED-5mZwuM-",
        "colab_type": "code",
        "colab": {}
      },
      "source": [
        "# 2) CONFUSION MATRIX -NM"
      ],
      "execution_count": 0,
      "outputs": []
    },
    {
      "cell_type": "code",
      "metadata": {
        "id": "3QDU3onRxtdP",
        "colab_type": "code",
        "colab": {}
      },
      "source": [
        "#2) #Partial Dependence Plot, 1 feature interaction\n",
        "\n",
        "'''\n",
        "Later, when you save matplotlib images to include in blog posts or web apps,\n",
        "increase the dots per inch (double it), so the text isn't so fuzzy\n",
        "'''\n",
        "\n",
        "import matplotlib.pyplot as plt\n",
        "plt.rcParams['figure.dpi'] = 72"
      ],
      "execution_count": 0,
      "outputs": []
    },
    {
      "cell_type": "code",
      "metadata": {
        "id": "UF45bW4DyVKk",
        "colab_type": "code",
        "colab": {
          "base_uri": "https://localhost:8080/",
          "height": 252
        },
        "outputId": "f5988924-8a89-436c-8d81-7f36238b97c6"
      },
      "source": [
        "from sklearn.metrics import r2_score\n",
        "from xgboost import XGBRegressor\n",
        "\n",
        "gb = make_pipeline(\n",
        "    ce.OrdinalEncoder(), \n",
        "    XGBRegressor(n_estimators=200, objective='reg:squarederror', n_jobs=-1)\n",
        ")\n",
        "\n",
        "gb.fit(X_train, y_train)\n",
        "y_pred = gb.predict(X_val)\n",
        "print('Gradient Boosting R^2', r2_score(y_val, y_pred))"
      ],
      "execution_count": 6,
      "outputs": [
        {
          "output_type": "error",
          "ename": "NameError",
          "evalue": "ignored",
          "traceback": [
            "\u001b[0;31m---------------------------------------------------------------------------\u001b[0m",
            "\u001b[0;31mNameError\u001b[0m                                 Traceback (most recent call last)",
            "\u001b[0;32m<ipython-input-6-304bc741b8a5>\u001b[0m in \u001b[0;36m<module>\u001b[0;34m()\u001b[0m\n\u001b[1;32m      2\u001b[0m \u001b[0;32mfrom\u001b[0m \u001b[0mxgboost\u001b[0m \u001b[0;32mimport\u001b[0m \u001b[0mXGBRegressor\u001b[0m\u001b[0;34m\u001b[0m\u001b[0;34m\u001b[0m\u001b[0m\n\u001b[1;32m      3\u001b[0m \u001b[0;34m\u001b[0m\u001b[0m\n\u001b[0;32m----> 4\u001b[0;31m gb = make_pipeline(\n\u001b[0m\u001b[1;32m      5\u001b[0m     \u001b[0mce\u001b[0m\u001b[0;34m.\u001b[0m\u001b[0mOrdinalEncoder\u001b[0m\u001b[0;34m(\u001b[0m\u001b[0;34m)\u001b[0m\u001b[0;34m,\u001b[0m\u001b[0;34m\u001b[0m\u001b[0;34m\u001b[0m\u001b[0m\n\u001b[1;32m      6\u001b[0m     \u001b[0mXGBRegressor\u001b[0m\u001b[0;34m(\u001b[0m\u001b[0mn_estimators\u001b[0m\u001b[0;34m=\u001b[0m\u001b[0;36m200\u001b[0m\u001b[0;34m,\u001b[0m \u001b[0mobjective\u001b[0m\u001b[0;34m=\u001b[0m\u001b[0;34m'reg:squarederror'\u001b[0m\u001b[0;34m,\u001b[0m \u001b[0mn_jobs\u001b[0m\u001b[0;34m=\u001b[0m\u001b[0;34m-\u001b[0m\u001b[0;36m1\u001b[0m\u001b[0;34m)\u001b[0m\u001b[0;34m\u001b[0m\u001b[0;34m\u001b[0m\u001b[0m\n",
            "\u001b[0;31mNameError\u001b[0m: name 'make_pipeline' is not defined"
          ]
        }
      ]
    },
    {
      "cell_type": "code",
      "metadata": {
        "id": "LUIhrgc6xym0",
        "colab_type": "code",
        "colab": {}
      },
      "source": [
        "from pdpbox.pdp import pdp_isolate, pdp_plot\n",
        "\n",
        "feature = 'DBA'\n",
        "\n",
        "isolated = pdp_isolate(\n",
        "    model = gb,\n",
        "    dataset=X_val,\n",
        "    model_features=X_val.columns,\n",
        "    feature=feature\n",
        ")"
      ],
      "execution_count": 0,
      "outputs": []
    },
    {
      "cell_type": "code",
      "metadata": {
        "id": "g0dDreRUygXk",
        "colab_type": "code",
        "colab": {
          "base_uri": "https://localhost:8080/",
          "height": 164
        },
        "outputId": "f3af805c-87f1-4e19-fb42-2e68d06a6f0b"
      },
      "source": [
        "pdp_plot(isolated, feature_name=feature);"
      ],
      "execution_count": 7,
      "outputs": [
        {
          "output_type": "error",
          "ename": "NameError",
          "evalue": "ignored",
          "traceback": [
            "\u001b[0;31m---------------------------------------------------------------------------\u001b[0m",
            "\u001b[0;31mNameError\u001b[0m                                 Traceback (most recent call last)",
            "\u001b[0;32m<ipython-input-7-101263edddc6>\u001b[0m in \u001b[0;36m<module>\u001b[0;34m()\u001b[0m\n\u001b[0;32m----> 1\u001b[0;31m \u001b[0mpdp_plot\u001b[0m\u001b[0;34m(\u001b[0m\u001b[0misolated\u001b[0m\u001b[0;34m,\u001b[0m \u001b[0mfeature_name\u001b[0m\u001b[0;34m=\u001b[0m\u001b[0mfeature\u001b[0m\u001b[0;34m)\u001b[0m\u001b[0;34m;\u001b[0m\u001b[0;34m\u001b[0m\u001b[0;34m\u001b[0m\u001b[0m\n\u001b[0m",
            "\u001b[0;31mNameError\u001b[0m: name 'pdp_plot' is not defined"
          ]
        }
      ]
    },
    {
      "cell_type": "code",
      "metadata": {
        "id": "HabgzdNryE5I",
        "colab_type": "code",
        "colab": {
          "base_uri": "https://localhost:8080/",
          "height": 164
        },
        "outputId": "0190694b-d653-487d-9635-fc93925e42e6"
      },
      "source": [
        "pdp_plot(isolated, feature_name=feature);"
      ],
      "execution_count": 8,
      "outputs": [
        {
          "output_type": "error",
          "ename": "NameError",
          "evalue": "ignored",
          "traceback": [
            "\u001b[0;31m---------------------------------------------------------------------------\u001b[0m",
            "\u001b[0;31mNameError\u001b[0m                                 Traceback (most recent call last)",
            "\u001b[0;32m<ipython-input-8-101263edddc6>\u001b[0m in \u001b[0;36m<module>\u001b[0;34m()\u001b[0m\n\u001b[0;32m----> 1\u001b[0;31m \u001b[0mpdp_plot\u001b[0m\u001b[0;34m(\u001b[0m\u001b[0misolated\u001b[0m\u001b[0;34m,\u001b[0m \u001b[0mfeature_name\u001b[0m\u001b[0;34m=\u001b[0m\u001b[0mfeature\u001b[0m\u001b[0;34m)\u001b[0m\u001b[0;34m;\u001b[0m\u001b[0;34m\u001b[0m\u001b[0;34m\u001b[0m\u001b[0m\n\u001b[0m",
            "\u001b[0;31mNameError\u001b[0m: name 'pdp_plot' is not defined"
          ]
        }
      ]
    },
    {
      "cell_type": "code",
      "metadata": {
        "colab_type": "code",
        "id": "_Q379i5CIeKY",
        "colab": {}
      },
      "source": [
        "#**********************************************"
      ],
      "execution_count": 0,
      "outputs": []
    },
    {
      "cell_type": "code",
      "metadata": {
        "id": "87yw88Q9Ii5T",
        "colab_type": "code",
        "colab": {}
      },
      "source": [
        "from pdpbox.pdp import pdp_interact, pdp_interact_plot\n",
        "import category_encoders as ce\n",
        "import seaborn as sns\n",
        "from sklearn.ensemble import RandomForestClassifier\n",
        "\n",
        "target = 'Fail'\n",
        "features = df.columns.drop(['Fail'])\n",
        "\n",
        "X = train[features]\n",
        "y = train[target]\n",
        "\n",
        "# Use Ordinal Encoder, outside of a pipeline\n",
        "encoder = ce.OrdinalEncoder()\n",
        "X_encoded = encoder.fit_transform(X)\n",
        "\n",
        "model = RandomForestClassifier(n_estimators=100, random_state=42, n_jobs=-1)\n",
        "model.fit(X_encoded, y)"
      ],
      "execution_count": 0,
      "outputs": []
    },
    {
      "cell_type": "code",
      "metadata": {
        "id": "OSJoEfsWKLwF",
        "colab_type": "code",
        "colab": {}
      },
      "source": [
        "# Use Pdpbox\n",
        "%matplotlib inline\n",
        "import matplotlib.pyplot as plt\n",
        "from pdpbox import pdp\n",
        "feature = 'Violation'\n",
        "pdp_dist = pdp.pdp_isolate(model=model, dataset=X_encoded, model_features=features, feature=feature)\n",
        "pdp.pdp_plot(pdp_dist, feature);"
      ],
      "execution_count": 0,
      "outputs": []
    },
    {
      "cell_type": "code",
      "metadata": {
        "id": "W19AFf2dKk5z",
        "colab_type": "code",
        "colab": {}
      },
      "source": [
        "# Look at the encoder's mappings\n",
        "encoder.mapping"
      ],
      "execution_count": 0,
      "outputs": []
    },
    {
      "cell_type": "code",
      "metadata": {
        "id": "5QpveoTZKl5O",
        "colab_type": "code",
        "colab": {}
      },
      "source": [
        "pdp.pdp_plot(pdp_dist, feature)\n",
        "\n",
        "# Manually change the xticks labels\n",
        "plt.xticks([1, 2], ['Violations', 'Fail']);"
      ],
      "execution_count": 0,
      "outputs": []
    },
    {
      "cell_type": "code",
      "metadata": {
        "id": "FHZ6ZZJKK31T",
        "colab_type": "code",
        "colab": {}
      },
      "source": [
        "# Let's automate it\n",
        "\n",
        "feature = 'Violation'\n",
        "for item in encoder.mapping:\n",
        "    if item['col'] == feature:\n",
        "        feature_mapping = item['mapping']\n",
        "        \n",
        "feature_mapping = feature_mapping[feature_mapping.index.dropna()]\n",
        "category_names = feature_mapping.index.tolist()\n",
        "category_codes = feature_mapping.values.tolist()"
      ],
      "execution_count": 0,
      "outputs": []
    },
    {
      "cell_type": "code",
      "metadata": {
        "id": "hnXNgLO_LF4c",
        "colab_type": "code",
        "colab": {}
      },
      "source": [
        "pdp.pdp_plot(pdp_dist, feature)\n",
        "\n",
        "# Automatically change the xticks labels\n",
        "plt.xticks(category_codes, category_names);"
      ],
      "execution_count": 0,
      "outputs": []
    },
    {
      "cell_type": "code",
      "metadata": {
        "id": "vag71On9LKNZ",
        "colab_type": "code",
        "colab": {}
      },
      "source": [
        "pdp.pdp_plot(pdp_dist, feature)\n",
        "\n",
        "# Automatically change the xticks labels\n",
        "plt.xticks(category_codes, category_names);"
      ],
      "execution_count": 0,
      "outputs": []
    },
    {
      "cell_type": "code",
      "metadata": {
        "id": "L9QOeMGPLN0L",
        "colab_type": "code",
        "colab": {}
      },
      "source": [
        "pdp = interaction.pdp.pivot_table(\n",
        "    values='preds', \n",
        "    columns=features[0], # First feature on x axis\n",
        "    index=features[1]    # Next feature on y axis\n",
        ")[::-1]  # Reverse the index order so y axis is ascending\n",
        "\n",
        "pdp = pdp.rename(columns=dict(zip(category_codes, category_names)))\n",
        "plt.figure(figsize=(10,8))\n",
        "sns.heatmap(pdp, annot=True, fmt='.2f', cmap='viridis')\n",
        "plt.title('Partial Dependence of Inspection Failure, on Violation & Fails');"
      ],
      "execution_count": 0,
      "outputs": []
    },
    {
      "cell_type": "code",
      "metadata": {
        "id": "7Oa1ZrTKMlKa",
        "colab_type": "code",
        "colab": {}
      },
      "source": [
        "#Shapley\n",
        "# Assign to X, y\n",
        "features = ['Risk', 'Violations', 'Inspection Type']\n",
        "target = 'Fail'\n",
        "X_train = train[features]\n",
        "y_train = train[target]\n",
        "X_test = test[features]\n",
        "y_test = test[target]"
      ],
      "execution_count": 0,
      "outputs": []
    },
    {
      "cell_type": "code",
      "metadata": {
        "id": "5UTeI_ONMsZJ",
        "colab_type": "code",
        "colab": {}
      },
      "source": [
        "from scipy.stats import randint, uniform\n",
        "from sklearn.ensemble import RandomForestRegressor\n",
        "from sklearn.model_selection import RandomizedSearchCV\n",
        "\n",
        "param_distributions = { \n",
        "    'n_estimators': randint(50, 500), \n",
        "    'max_depth': [5, 10, 15, 20, None], \n",
        "    'max_features': uniform(0, 1), \n",
        "}\n",
        "\n",
        "search = RandomizedSearchCV(\n",
        "    RandomForestRegressor(random_state=42), #want CLassifier though?\n",
        "    param_distributions=param_distributions, \n",
        "    n_iter=5, \n",
        "    cv=2, \n",
        "    scoring='neg_mean_absolute_error', \n",
        "    verbose=10, \n",
        "    return_train_score=True, \n",
        "    n_jobs=-1, \n",
        "    random_state=42\n",
        ")\n",
        "\n",
        "search.fit(X_train, y_train);"
      ],
      "execution_count": 0,
      "outputs": []
    },
    {
      "cell_type": "code",
      "metadata": {
        "id": "e8QAfW3yNiW1",
        "colab_type": "code",
        "colab": {}
      },
      "source": [
        "print('Best hyperparameters', search.best_params_)\n",
        "print('Cross-validation MAE', -search.best_score_)\n",
        "model = search.best_estimator_"
      ],
      "execution_count": 0,
      "outputs": []
    }
  ]
}