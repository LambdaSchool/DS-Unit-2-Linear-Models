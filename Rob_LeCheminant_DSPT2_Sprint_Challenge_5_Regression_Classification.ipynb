{
  "nbformat": 4,
  "nbformat_minor": 0,
  "metadata": {
    "colab": {
      "name": "Rob LeCheminant DSPT2_Sprint_Challenge_5_Regression_Classification.ipynb",
      "version": "0.3.2",
      "provenance": [],
      "collapsed_sections": [
        "DVLBw1MXI5wy",
        "Q7u1KtsnOi78",
        "uKluR3_kPKzM",
        "P66Fpcq1PYZl",
        "ln9fqAghRmQT",
        "xDmZn3ApOM7t",
        "o0um7RMgvZ8N",
        "CowG-cgZ5ZrB",
        "f2gKuWARzFL9",
        "LRpyMWghzHvU",
        "yqeiq1wvyrTq",
        "hk1bYDJy6txq",
        "tMgRIt4C2IHP",
        "zDT-gSl_-Gwh",
        "RAlquI1l_Daf",
        "2ZceruUx-Vs-",
        "E9reASgw-i8T",
        "DidByDsrOa-o",
        "bYASM0DxCNLC",
        "a5H0nivFF1Yd",
        "GhBCiJ4_F4JI",
        "8DtWoOb_GP7m",
        "0Cy5L-HaIfk9"
      ],
      "include_colab_link": true
    },
    "kernelspec": {
      "name": "python3",
      "display_name": "Python 3"
    }
  },
  "cells": [
    {
      "cell_type": "markdown",
      "metadata": {
        "id": "view-in-github",
        "colab_type": "text"
      },
      "source": [
        "<a href=\"https://colab.research.google.com/github/lechemrc/DS-Unit-2-Regression-Classification/blob/master/Rob_LeCheminant_DSPT2_Sprint_Challenge_5_Regression_Classification.ipynb\" target=\"_parent\"><img src=\"https://colab.research.google.com/assets/colab-badge.svg\" alt=\"Open In Colab\"/></a>"
      ]
    },
    {
      "cell_type": "markdown",
      "metadata": {
        "id": "VZf2akBaMjq8",
        "colab_type": "text"
      },
      "source": [
        "_Lambda School Data Science, Unit 2_\n",
        " \n",
        "# Regression & Classification Sprint Challenge\n",
        "\n",
        "To demonstrate mastery on your Sprint Challenge, do all the required, numbered instructions in this notebook.\n",
        "\n",
        "To earn a score of \"3\", also do all the stretch goals.\n",
        "\n",
        "You are permitted and encouraged to do as much data exploration as you want."
      ]
    },
    {
      "cell_type": "markdown",
      "metadata": {
        "id": "20OITf58NLQh",
        "colab_type": "text"
      },
      "source": [
        "### Part 1, Classification\n",
        "- 1.1. Begin with baselines for classification\n",
        "- 1.2. Do train/test split. Arrange data into X features matrix and y target vector\n",
        "- 1.3. Use scikit-learn to fit a logistic regression model\n",
        "- 1.4. Report classification metric: accuracy\n",
        "\n",
        "### Part 2, Regression\n",
        "- 2.1. Begin with baselines for regression\n",
        "- 2.2. Do train/validate/test split. \n",
        "- 2.3. Arrange data into X features matrix and y target vector\n",
        "- 2.4. Do one-hot encoding\n",
        "- 2.5. Use scikit-learn to fit a linear regression (or ridge regression) model\n",
        "- 2.6. Report validation MAE and $R^2$\n",
        "\n",
        "### Stretch Goals, Regression\n",
        "- Make visualizations to explore relationships between features and target\n",
        "- Try at least 3 feature combinations. You may select features manually, or automatically\n",
        "- Report validation MAE and $R^2$ for each feature combination you try\n",
        "- Report test MAE and $R^2$ for your final model\n",
        "- Print or plot the coefficients for the features in your model"
      ]
    },
    {
      "cell_type": "markdown",
      "metadata": {
        "id": "DVLBw1MXI5wy",
        "colab_type": "text"
      },
      "source": [
        "##### Colab Code"
      ]
    },
    {
      "cell_type": "code",
      "metadata": {
        "id": "BxoFSeX5OX5k",
        "colab_type": "code",
        "colab": {}
      },
      "source": [
        "# If you're in Colab...\n",
        "import sys\n",
        "in_colab = 'google.colab' in sys.modules\n",
        "\n",
        "if in_colab:\n",
        "    !pip install category_encoders==2.0.0\n",
        "    !pip install pandas-profiling==2.3.0\n",
        "    !pip install plotly==4.1.1"
      ],
      "execution_count": 0,
      "outputs": []
    },
    {
      "cell_type": "markdown",
      "metadata": {
        "id": "Q7u1KtsnOi78",
        "colab_type": "text"
      },
      "source": [
        "# Part 1, Classification: Predict Blood Donations 🚑\n",
        "Our dataset is from a mobile blood donation vehicle in Taiwan. The Blood Transfusion Service Center drives to different universities and collects blood as part of a blood drive.\n",
        "\n",
        "The goal is to predict whether the donor made a donation in March 2007, using information about each donor's history.\n",
        "\n",
        "Good data-driven systems for tracking and predicting donations and supply needs can improve the entire supply chain, making sure that more patients get the blood transfusions they need."
      ]
    },
    {
      "cell_type": "code",
      "metadata": {
        "id": "gJzpgv-fO4rh",
        "colab_type": "code",
        "colab": {}
      },
      "source": [
        "import pandas as pd\n",
        "\n",
        "donors = pd.read_csv('https://archive.ics.uci.edu/ml/machine-learning-databases/blood-transfusion/transfusion.data')\n",
        "assert donors.shape == (748,5)\n",
        "\n",
        "donors = donors.rename(columns={\n",
        "    'Recency (months)': 'months_since_last_donation', \n",
        "    'Frequency (times)': 'number_of_donations', \n",
        "    'Monetary (c.c. blood)': 'total_volume_donated', \n",
        "    'Time (months)': 'months_since_first_donation', \n",
        "    'whether he/she donated blood in March 2007': 'made_donation_in_march_2007'\n",
        "})"
      ],
      "execution_count": 0,
      "outputs": []
    },
    {
      "cell_type": "markdown",
      "metadata": {
        "id": "uKluR3_kPKzM",
        "colab_type": "text"
      },
      "source": [
        "## 1.1. Begin with baselines\n",
        "\n",
        "What accuracy score would you get here with a \"majority class baseline\"?\n",
        " \n",
        "(You don't need to split the data into train and test sets yet. You can answer this question either with a scikit-learn function or with a pandas function.)"
      ]
    },
    {
      "cell_type": "code",
      "metadata": {
        "id": "FExShAJanyHi",
        "colab_type": "code",
        "colab": {
          "base_uri": "https://localhost:8080/",
          "height": 215
        },
        "outputId": "c1ed9a96-4185-48be-9cee-77717e5bcc66"
      },
      "source": [
        "print(donors.shape)\n",
        "donors.head()"
      ],
      "execution_count": 5,
      "outputs": [
        {
          "output_type": "stream",
          "text": [
            "(748, 5)\n"
          ],
          "name": "stdout"
        },
        {
          "output_type": "execute_result",
          "data": {
            "text/html": [
              "<div>\n",
              "<style scoped>\n",
              "    .dataframe tbody tr th:only-of-type {\n",
              "        vertical-align: middle;\n",
              "    }\n",
              "\n",
              "    .dataframe tbody tr th {\n",
              "        vertical-align: top;\n",
              "    }\n",
              "\n",
              "    .dataframe thead th {\n",
              "        text-align: right;\n",
              "    }\n",
              "</style>\n",
              "<table border=\"1\" class=\"dataframe\">\n",
              "  <thead>\n",
              "    <tr style=\"text-align: right;\">\n",
              "      <th></th>\n",
              "      <th>months_since_last_donation</th>\n",
              "      <th>number_of_donations</th>\n",
              "      <th>total_volume_donated</th>\n",
              "      <th>months_since_first_donation</th>\n",
              "      <th>made_donation_in_march_2007</th>\n",
              "    </tr>\n",
              "  </thead>\n",
              "  <tbody>\n",
              "    <tr>\n",
              "      <th>0</th>\n",
              "      <td>2</td>\n",
              "      <td>50</td>\n",
              "      <td>12500</td>\n",
              "      <td>98</td>\n",
              "      <td>1</td>\n",
              "    </tr>\n",
              "    <tr>\n",
              "      <th>1</th>\n",
              "      <td>0</td>\n",
              "      <td>13</td>\n",
              "      <td>3250</td>\n",
              "      <td>28</td>\n",
              "      <td>1</td>\n",
              "    </tr>\n",
              "    <tr>\n",
              "      <th>2</th>\n",
              "      <td>1</td>\n",
              "      <td>16</td>\n",
              "      <td>4000</td>\n",
              "      <td>35</td>\n",
              "      <td>1</td>\n",
              "    </tr>\n",
              "    <tr>\n",
              "      <th>3</th>\n",
              "      <td>2</td>\n",
              "      <td>20</td>\n",
              "      <td>5000</td>\n",
              "      <td>45</td>\n",
              "      <td>1</td>\n",
              "    </tr>\n",
              "    <tr>\n",
              "      <th>4</th>\n",
              "      <td>1</td>\n",
              "      <td>24</td>\n",
              "      <td>6000</td>\n",
              "      <td>77</td>\n",
              "      <td>0</td>\n",
              "    </tr>\n",
              "  </tbody>\n",
              "</table>\n",
              "</div>"
            ],
            "text/plain": [
              "   months_since_last_donation  ...  made_donation_in_march_2007\n",
              "0                           2  ...                            1\n",
              "1                           0  ...                            1\n",
              "2                           1  ...                            1\n",
              "3                           2  ...                            1\n",
              "4                           1  ...                            0\n",
              "\n",
              "[5 rows x 5 columns]"
            ]
          },
          "metadata": {
            "tags": []
          },
          "execution_count": 5
        }
      ]
    },
    {
      "cell_type": "code",
      "metadata": {
        "id": "Fyx1MnZnPXeP",
        "colab_type": "code",
        "colab": {
          "base_uri": "https://localhost:8080/",
          "height": 70
        },
        "outputId": "5e522fb8-a070-458f-94f4-981b9f3cfb61"
      },
      "source": [
        "import pandas as pd\n",
        "import numpy as np\n",
        "\n",
        "# Using y_train to signify our majority class in our target outcome\n",
        "y_train = donors['made_donation_in_march_2007']\n",
        "y_train.value_counts(normalize=True)"
      ],
      "execution_count": 6,
      "outputs": [
        {
          "output_type": "execute_result",
          "data": {
            "text/plain": [
              "0    0.762032\n",
              "1    0.237968\n",
              "Name: made_donation_in_march_2007, dtype: float64"
            ]
          },
          "metadata": {
            "tags": []
          },
          "execution_count": 6
        }
      ]
    },
    {
      "cell_type": "code",
      "metadata": {
        "id": "TkjtBlF4pPjB",
        "colab_type": "code",
        "colab": {
          "base_uri": "https://localhost:8080/",
          "height": 34
        },
        "outputId": "68bb8160-9d17-4f60-c20f-ce0abefaf360"
      },
      "source": [
        "# setting the majority class\n",
        "majority_class = y_train.mode()[0]\n",
        "y_pred = [majority_class] * len(y_train)\n",
        "print(len(y_pred))"
      ],
      "execution_count": 8,
      "outputs": [
        {
          "output_type": "stream",
          "text": [
            "748\n"
          ],
          "name": "stdout"
        }
      ]
    },
    {
      "cell_type": "code",
      "metadata": {
        "id": "FeqJuyxDpcpV",
        "colab_type": "code",
        "colab": {
          "base_uri": "https://localhost:8080/",
          "height": 34
        },
        "outputId": "8635e415-3d2e-4059-d73c-0a560eff8cbe"
      },
      "source": [
        "from sklearn.metrics import accuracy_score\n",
        "\n",
        "# finding the accuracy of our training and prediction baseline... 76%\n",
        "accuracy_score(y_train, y_pred)"
      ],
      "execution_count": 9,
      "outputs": [
        {
          "output_type": "execute_result",
          "data": {
            "text/plain": [
              "0.7620320855614974"
            ]
          },
          "metadata": {
            "tags": []
          },
          "execution_count": 9
        }
      ]
    },
    {
      "cell_type": "markdown",
      "metadata": {
        "id": "P66Fpcq1PYZl",
        "colab_type": "text"
      },
      "source": [
        "## 1.2. Do train/test split. Arrange data into X features matrix and y target vector\n",
        "\n",
        "Do these steps in either order.\n",
        "\n",
        "Split randomly. Use scikit-learn's train/test split function. Include 75% of the data in the train set, and hold out 25% for the test set."
      ]
    },
    {
      "cell_type": "code",
      "metadata": {
        "id": "InhicZeZPX8L",
        "colab_type": "code",
        "colab": {
          "base_uri": "https://localhost:8080/",
          "height": 34
        },
        "outputId": "3aa7e452-d777-48c6-d98f-6d3951a27ede"
      },
      "source": [
        "# setting features, target, X, and y ... features being all but target\n",
        "target = 'made_donation_in_march_2007'\n",
        "features = list(donors.columns.drop(target))\n",
        "\n",
        "X = donors[features]\n",
        "y = donors[target]\n",
        "\n",
        "from sklearn.model_selection import train_test_split\n",
        "\n",
        "# doing train test split (without validation)\n",
        "X_train, X_test, y_train, y_test = train_test_split(\n",
        "    X, y, random_state=11)\n",
        "\n",
        "X_train.shape, X_test.shape, y_train.shape, y_test.shape"
      ],
      "execution_count": 19,
      "outputs": [
        {
          "output_type": "execute_result",
          "data": {
            "text/plain": [
              "((561, 4), (187, 4), (561,), (187,))"
            ]
          },
          "metadata": {
            "tags": []
          },
          "execution_count": 19
        }
      ]
    },
    {
      "cell_type": "markdown",
      "metadata": {
        "id": "ln9fqAghRmQT",
        "colab_type": "text"
      },
      "source": [
        "## 1.3. Use scikit-learn to fit a logistic regression model\n",
        "\n",
        "You may use any number of features"
      ]
    },
    {
      "cell_type": "code",
      "metadata": {
        "id": "a2jf_deRRl64",
        "colab_type": "code",
        "colab": {
          "base_uri": "https://localhost:8080/",
          "height": 141
        },
        "outputId": "b7465a3a-5b97-4fba-f117-be89a194823f"
      },
      "source": [
        "from sklearn.linear_model import LinearRegression, LogisticRegressionCV\n",
        "\n",
        "# instantiate model\n",
        "model = LogisticRegressionCV(n_jobs = -1)\n",
        "\n",
        "# Fit model\n",
        "model.fit(X_train, y_train)"
      ],
      "execution_count": 16,
      "outputs": [
        {
          "output_type": "stream",
          "text": [
            "/usr/local/lib/python3.6/dist-packages/sklearn/model_selection/_split.py:1978: FutureWarning: The default value of cv will change from 3 to 5 in version 0.22. Specify it explicitly to silence this warning.\n",
            "  warnings.warn(CV_WARNING, FutureWarning)\n"
          ],
          "name": "stderr"
        },
        {
          "output_type": "execute_result",
          "data": {
            "text/plain": [
              "LogisticRegressionCV(Cs=10, class_weight=None, cv='warn', dual=False,\n",
              "                     fit_intercept=True, intercept_scaling=1.0, l1_ratios=None,\n",
              "                     max_iter=100, multi_class='warn', n_jobs=-1, penalty='l2',\n",
              "                     random_state=None, refit=True, scoring=None,\n",
              "                     solver='lbfgs', tol=0.0001, verbose=0)"
            ]
          },
          "metadata": {
            "tags": []
          },
          "execution_count": 16
        }
      ]
    },
    {
      "cell_type": "markdown",
      "metadata": {
        "id": "Ah6EhiRVSusy",
        "colab_type": "text"
      },
      "source": [
        "## 1.4. Report classification metric: accuracy\n",
        "\n",
        "What is your model's accuracy on the test set?\n",
        "\n",
        "Don't worry if your model doesn't beat the mean baseline. That's okay!\n",
        "\n",
        "_\"The combination of some data and an aching desire for an answer does not ensure that a reasonable answer can be extracted from a given body of data.\"_ —[John Tukey](https://en.wikiquote.org/wiki/John_Tukey)\n",
        "\n"
      ]
    },
    {
      "cell_type": "markdown",
      "metadata": {
        "id": "ABvQgJgdtD1g",
        "colab_type": "text"
      },
      "source": [
        "Here we are finding accuracy of Logistic Regression ... 2% better than baseline. Better! \n",
        "Interestingly I used all of the features... BUT there may be more accuracy in using specific ones "
      ]
    },
    {
      "cell_type": "code",
      "metadata": {
        "id": "ZfJ2NFsASt9_",
        "colab_type": "code",
        "colab": {
          "base_uri": "https://localhost:8080/",
          "height": 34
        },
        "outputId": "b465b608-38e0-4e57-b546-eedde5a95ff2"
      },
      "source": [
        "model.score(X_test, y_test)"
      ],
      "execution_count": 21,
      "outputs": [
        {
          "output_type": "execute_result",
          "data": {
            "text/plain": [
              "0.7807486631016043"
            ]
          },
          "metadata": {
            "tags": []
          },
          "execution_count": 21
        }
      ]
    },
    {
      "cell_type": "markdown",
      "metadata": {
        "id": "xDmZn3ApOM7t",
        "colab_type": "text"
      },
      "source": [
        "# Part 2, Regression: Predict home prices in Ames, Iowa 🏠\n",
        "\n",
        "You'll use historical housing data. There's a data dictionary at the bottom of the notebook. \n",
        "\n",
        "Run this code cell to load the dataset:\n",
        "\n",
        "\n",
        "\n"
      ]
    },
    {
      "cell_type": "markdown",
      "metadata": {
        "id": "o0um7RMgvZ8N",
        "colab_type": "text"
      },
      "source": [
        "#### Importing Data"
      ]
    },
    {
      "cell_type": "code",
      "metadata": {
        "id": "7ptoRG1lu7H4",
        "colab_type": "code",
        "colab": {}
      },
      "source": [
        "import pandas as pd\n",
        "URL = 'https://drive.google.com/uc?export=download&id=1522WlEW6HFss36roD_Cd9nybqSuiVcCK'\n",
        "homes = pd.read_csv(URL)\n",
        "assert homes.shape == (2904, 47)"
      ],
      "execution_count": 0,
      "outputs": []
    },
    {
      "cell_type": "code",
      "metadata": {
        "id": "NKTjrA_0tXuc",
        "colab_type": "code",
        "colab": {
          "base_uri": "https://localhost:8080/",
          "height": 235
        },
        "outputId": "de229fb3-8cad-4f70-bbc8-4b8a2022c7af"
      },
      "source": [
        "print(homes.shape)\n",
        "homes.head()"
      ],
      "execution_count": 24,
      "outputs": [
        {
          "output_type": "stream",
          "text": [
            "(2904, 47)\n"
          ],
          "name": "stdout"
        },
        {
          "output_type": "execute_result",
          "data": {
            "text/html": [
              "<div>\n",
              "<style scoped>\n",
              "    .dataframe tbody tr th:only-of-type {\n",
              "        vertical-align: middle;\n",
              "    }\n",
              "\n",
              "    .dataframe tbody tr th {\n",
              "        vertical-align: top;\n",
              "    }\n",
              "\n",
              "    .dataframe thead th {\n",
              "        text-align: right;\n",
              "    }\n",
              "</style>\n",
              "<table border=\"1\" class=\"dataframe\">\n",
              "  <thead>\n",
              "    <tr style=\"text-align: right;\">\n",
              "      <th></th>\n",
              "      <th>1st_Flr_SF</th>\n",
              "      <th>Bedroom_AbvGr</th>\n",
              "      <th>Bldg_Type</th>\n",
              "      <th>Bsmt_Full_Bath</th>\n",
              "      <th>Bsmt_Half_Bath</th>\n",
              "      <th>Central_Air</th>\n",
              "      <th>Condition_1</th>\n",
              "      <th>Condition_2</th>\n",
              "      <th>Electrical</th>\n",
              "      <th>Exter_Cond</th>\n",
              "      <th>Exter_Qual</th>\n",
              "      <th>Exterior_1st</th>\n",
              "      <th>Exterior_2nd</th>\n",
              "      <th>Foundation</th>\n",
              "      <th>Full_Bath</th>\n",
              "      <th>Functional</th>\n",
              "      <th>Gr_Liv_Area</th>\n",
              "      <th>Half_Bath</th>\n",
              "      <th>Heating</th>\n",
              "      <th>Heating_QC</th>\n",
              "      <th>House_Style</th>\n",
              "      <th>Kitchen_AbvGr</th>\n",
              "      <th>Kitchen_Qual</th>\n",
              "      <th>Land_Contour</th>\n",
              "      <th>Land_Slope</th>\n",
              "      <th>Lot_Area</th>\n",
              "      <th>Lot_Config</th>\n",
              "      <th>Lot_Shape</th>\n",
              "      <th>MS_SubClass</th>\n",
              "      <th>MS_Zoning</th>\n",
              "      <th>Mas_Vnr_Type</th>\n",
              "      <th>Mo_Sold</th>\n",
              "      <th>Neighborhood</th>\n",
              "      <th>Overall_Cond</th>\n",
              "      <th>Overall_Qual</th>\n",
              "      <th>Paved_Drive</th>\n",
              "      <th>Roof_Matl</th>\n",
              "      <th>Roof_Style</th>\n",
              "      <th>SalePrice</th>\n",
              "      <th>Sale_Condition</th>\n",
              "      <th>Sale_Type</th>\n",
              "      <th>Street</th>\n",
              "      <th>TotRms_AbvGrd</th>\n",
              "      <th>Utilities</th>\n",
              "      <th>Year_Built</th>\n",
              "      <th>Year_Remod/Add</th>\n",
              "      <th>Yr_Sold</th>\n",
              "    </tr>\n",
              "  </thead>\n",
              "  <tbody>\n",
              "    <tr>\n",
              "      <th>0</th>\n",
              "      <td>1656</td>\n",
              "      <td>3</td>\n",
              "      <td>1Fam</td>\n",
              "      <td>1.0</td>\n",
              "      <td>0.0</td>\n",
              "      <td>Y</td>\n",
              "      <td>Norm</td>\n",
              "      <td>Norm</td>\n",
              "      <td>SBrkr</td>\n",
              "      <td>TA</td>\n",
              "      <td>TA</td>\n",
              "      <td>BrkFace</td>\n",
              "      <td>Plywood</td>\n",
              "      <td>CBlock</td>\n",
              "      <td>1</td>\n",
              "      <td>Typ</td>\n",
              "      <td>1656</td>\n",
              "      <td>0</td>\n",
              "      <td>GasA</td>\n",
              "      <td>Fa</td>\n",
              "      <td>1Story</td>\n",
              "      <td>1</td>\n",
              "      <td>TA</td>\n",
              "      <td>Lvl</td>\n",
              "      <td>Gtl</td>\n",
              "      <td>31770</td>\n",
              "      <td>Corner</td>\n",
              "      <td>IR1</td>\n",
              "      <td>20</td>\n",
              "      <td>RL</td>\n",
              "      <td>Stone</td>\n",
              "      <td>5</td>\n",
              "      <td>NAmes</td>\n",
              "      <td>5</td>\n",
              "      <td>6</td>\n",
              "      <td>P</td>\n",
              "      <td>CompShg</td>\n",
              "      <td>Hip</td>\n",
              "      <td>215000</td>\n",
              "      <td>Normal</td>\n",
              "      <td>WD</td>\n",
              "      <td>Pave</td>\n",
              "      <td>7</td>\n",
              "      <td>AllPub</td>\n",
              "      <td>1960</td>\n",
              "      <td>1960</td>\n",
              "      <td>2010</td>\n",
              "    </tr>\n",
              "    <tr>\n",
              "      <th>1</th>\n",
              "      <td>896</td>\n",
              "      <td>2</td>\n",
              "      <td>1Fam</td>\n",
              "      <td>0.0</td>\n",
              "      <td>0.0</td>\n",
              "      <td>Y</td>\n",
              "      <td>Feedr</td>\n",
              "      <td>Norm</td>\n",
              "      <td>SBrkr</td>\n",
              "      <td>TA</td>\n",
              "      <td>TA</td>\n",
              "      <td>VinylSd</td>\n",
              "      <td>VinylSd</td>\n",
              "      <td>CBlock</td>\n",
              "      <td>1</td>\n",
              "      <td>Typ</td>\n",
              "      <td>896</td>\n",
              "      <td>0</td>\n",
              "      <td>GasA</td>\n",
              "      <td>TA</td>\n",
              "      <td>1Story</td>\n",
              "      <td>1</td>\n",
              "      <td>TA</td>\n",
              "      <td>Lvl</td>\n",
              "      <td>Gtl</td>\n",
              "      <td>11622</td>\n",
              "      <td>Inside</td>\n",
              "      <td>Reg</td>\n",
              "      <td>20</td>\n",
              "      <td>RH</td>\n",
              "      <td>None</td>\n",
              "      <td>6</td>\n",
              "      <td>NAmes</td>\n",
              "      <td>6</td>\n",
              "      <td>5</td>\n",
              "      <td>Y</td>\n",
              "      <td>CompShg</td>\n",
              "      <td>Gable</td>\n",
              "      <td>105000</td>\n",
              "      <td>Normal</td>\n",
              "      <td>WD</td>\n",
              "      <td>Pave</td>\n",
              "      <td>5</td>\n",
              "      <td>AllPub</td>\n",
              "      <td>1961</td>\n",
              "      <td>1961</td>\n",
              "      <td>2010</td>\n",
              "    </tr>\n",
              "    <tr>\n",
              "      <th>2</th>\n",
              "      <td>1329</td>\n",
              "      <td>3</td>\n",
              "      <td>1Fam</td>\n",
              "      <td>0.0</td>\n",
              "      <td>0.0</td>\n",
              "      <td>Y</td>\n",
              "      <td>Norm</td>\n",
              "      <td>Norm</td>\n",
              "      <td>SBrkr</td>\n",
              "      <td>TA</td>\n",
              "      <td>TA</td>\n",
              "      <td>Wd Sdng</td>\n",
              "      <td>Wd Sdng</td>\n",
              "      <td>CBlock</td>\n",
              "      <td>1</td>\n",
              "      <td>Typ</td>\n",
              "      <td>1329</td>\n",
              "      <td>1</td>\n",
              "      <td>GasA</td>\n",
              "      <td>TA</td>\n",
              "      <td>1Story</td>\n",
              "      <td>1</td>\n",
              "      <td>Gd</td>\n",
              "      <td>Lvl</td>\n",
              "      <td>Gtl</td>\n",
              "      <td>14267</td>\n",
              "      <td>Corner</td>\n",
              "      <td>IR1</td>\n",
              "      <td>20</td>\n",
              "      <td>RL</td>\n",
              "      <td>BrkFace</td>\n",
              "      <td>6</td>\n",
              "      <td>NAmes</td>\n",
              "      <td>6</td>\n",
              "      <td>6</td>\n",
              "      <td>Y</td>\n",
              "      <td>CompShg</td>\n",
              "      <td>Hip</td>\n",
              "      <td>172000</td>\n",
              "      <td>Normal</td>\n",
              "      <td>WD</td>\n",
              "      <td>Pave</td>\n",
              "      <td>6</td>\n",
              "      <td>AllPub</td>\n",
              "      <td>1958</td>\n",
              "      <td>1958</td>\n",
              "      <td>2010</td>\n",
              "    </tr>\n",
              "    <tr>\n",
              "      <th>3</th>\n",
              "      <td>2110</td>\n",
              "      <td>3</td>\n",
              "      <td>1Fam</td>\n",
              "      <td>1.0</td>\n",
              "      <td>0.0</td>\n",
              "      <td>Y</td>\n",
              "      <td>Norm</td>\n",
              "      <td>Norm</td>\n",
              "      <td>SBrkr</td>\n",
              "      <td>TA</td>\n",
              "      <td>Gd</td>\n",
              "      <td>BrkFace</td>\n",
              "      <td>BrkFace</td>\n",
              "      <td>CBlock</td>\n",
              "      <td>2</td>\n",
              "      <td>Typ</td>\n",
              "      <td>2110</td>\n",
              "      <td>1</td>\n",
              "      <td>GasA</td>\n",
              "      <td>Ex</td>\n",
              "      <td>1Story</td>\n",
              "      <td>1</td>\n",
              "      <td>Ex</td>\n",
              "      <td>Lvl</td>\n",
              "      <td>Gtl</td>\n",
              "      <td>11160</td>\n",
              "      <td>Corner</td>\n",
              "      <td>Reg</td>\n",
              "      <td>20</td>\n",
              "      <td>RL</td>\n",
              "      <td>None</td>\n",
              "      <td>4</td>\n",
              "      <td>NAmes</td>\n",
              "      <td>5</td>\n",
              "      <td>7</td>\n",
              "      <td>Y</td>\n",
              "      <td>CompShg</td>\n",
              "      <td>Hip</td>\n",
              "      <td>244000</td>\n",
              "      <td>Normal</td>\n",
              "      <td>WD</td>\n",
              "      <td>Pave</td>\n",
              "      <td>8</td>\n",
              "      <td>AllPub</td>\n",
              "      <td>1968</td>\n",
              "      <td>1968</td>\n",
              "      <td>2010</td>\n",
              "    </tr>\n",
              "    <tr>\n",
              "      <th>4</th>\n",
              "      <td>928</td>\n",
              "      <td>3</td>\n",
              "      <td>1Fam</td>\n",
              "      <td>0.0</td>\n",
              "      <td>0.0</td>\n",
              "      <td>Y</td>\n",
              "      <td>Norm</td>\n",
              "      <td>Norm</td>\n",
              "      <td>SBrkr</td>\n",
              "      <td>TA</td>\n",
              "      <td>TA</td>\n",
              "      <td>VinylSd</td>\n",
              "      <td>VinylSd</td>\n",
              "      <td>PConc</td>\n",
              "      <td>2</td>\n",
              "      <td>Typ</td>\n",
              "      <td>1629</td>\n",
              "      <td>1</td>\n",
              "      <td>GasA</td>\n",
              "      <td>Gd</td>\n",
              "      <td>2Story</td>\n",
              "      <td>1</td>\n",
              "      <td>TA</td>\n",
              "      <td>Lvl</td>\n",
              "      <td>Gtl</td>\n",
              "      <td>13830</td>\n",
              "      <td>Inside</td>\n",
              "      <td>IR1</td>\n",
              "      <td>60</td>\n",
              "      <td>RL</td>\n",
              "      <td>None</td>\n",
              "      <td>3</td>\n",
              "      <td>Gilbert</td>\n",
              "      <td>5</td>\n",
              "      <td>5</td>\n",
              "      <td>Y</td>\n",
              "      <td>CompShg</td>\n",
              "      <td>Gable</td>\n",
              "      <td>189900</td>\n",
              "      <td>Normal</td>\n",
              "      <td>WD</td>\n",
              "      <td>Pave</td>\n",
              "      <td>6</td>\n",
              "      <td>AllPub</td>\n",
              "      <td>1997</td>\n",
              "      <td>1998</td>\n",
              "      <td>2010</td>\n",
              "    </tr>\n",
              "  </tbody>\n",
              "</table>\n",
              "</div>"
            ],
            "text/plain": [
              "   1st_Flr_SF  Bedroom_AbvGr Bldg_Type  ...  Year_Built  Year_Remod/Add Yr_Sold\n",
              "0        1656              3      1Fam  ...        1960            1960    2010\n",
              "1         896              2      1Fam  ...        1961            1961    2010\n",
              "2        1329              3      1Fam  ...        1958            1958    2010\n",
              "3        2110              3      1Fam  ...        1968            1968    2010\n",
              "4         928              3      1Fam  ...        1997            1998    2010\n",
              "\n",
              "[5 rows x 47 columns]"
            ]
          },
          "metadata": {
            "tags": []
          },
          "execution_count": 24
        }
      ]
    },
    {
      "cell_type": "code",
      "metadata": {
        "id": "SahzcmMStzxd",
        "colab_type": "code",
        "colab": {
          "base_uri": "https://localhost:8080/",
          "height": 230
        },
        "outputId": "2bc185ec-3272-47d4-83c2-52ea77f1e64b"
      },
      "source": [
        "homes.columns"
      ],
      "execution_count": 26,
      "outputs": [
        {
          "output_type": "execute_result",
          "data": {
            "text/plain": [
              "Index(['1st_Flr_SF', 'Bedroom_AbvGr', 'Bldg_Type', 'Bsmt_Full_Bath',\n",
              "       'Bsmt_Half_Bath', 'Central_Air', 'Condition_1', 'Condition_2',\n",
              "       'Electrical', 'Exter_Cond', 'Exter_Qual', 'Exterior_1st',\n",
              "       'Exterior_2nd', 'Foundation', 'Full_Bath', 'Functional', 'Gr_Liv_Area',\n",
              "       'Half_Bath', 'Heating', 'Heating_QC', 'House_Style', 'Kitchen_AbvGr',\n",
              "       'Kitchen_Qual', 'Land_Contour', 'Land_Slope', 'Lot_Area', 'Lot_Config',\n",
              "       'Lot_Shape', 'MS_SubClass', 'MS_Zoning', 'Mas_Vnr_Type', 'Mo_Sold',\n",
              "       'Neighborhood', 'Overall_Cond', 'Overall_Qual', 'Paved_Drive',\n",
              "       'Roof_Matl', 'Roof_Style', 'SalePrice', 'Sale_Condition', 'Sale_Type',\n",
              "       'Street', 'TotRms_AbvGrd', 'Utilities', 'Year_Built', 'Year_Remod/Add',\n",
              "       'Yr_Sold'],\n",
              "      dtype='object')"
            ]
          },
          "metadata": {
            "tags": []
          },
          "execution_count": 26
        }
      ]
    },
    {
      "cell_type": "markdown",
      "metadata": {
        "id": "CowG-cgZ5ZrB",
        "colab_type": "text"
      },
      "source": [
        "## 2.1. Begin with baselines\n",
        "\n",
        "What is the Mean Absolute Error and R^2 score for a mean baseline?"
      ]
    },
    {
      "cell_type": "code",
      "metadata": {
        "id": "TbahVr-j5ZLs",
        "colab_type": "code",
        "colab": {}
      },
      "source": [
        "import numpy as np\n",
        "from sklearn.linear_model import LinearRegression, LogisticRegressionCV\n",
        "from sklearn.metrics import mean_absolute_error, mean_squared_error, r2_score\n",
        "import plotly.express as px"
      ],
      "execution_count": 0,
      "outputs": []
    },
    {
      "cell_type": "code",
      "metadata": {
        "colab_type": "code",
        "outputId": "4f074a43-3f3c-47d4-da3e-332336caa7c2",
        "id": "WGqQNdqttuhM",
        "colab": {
          "base_uri": "https://localhost:8080/",
          "height": 176
        }
      },
      "source": [
        "homes['SalePrice'].describe()\n",
        "# The mean is ~$180,384, giving us a baseline price for prediction"
      ],
      "execution_count": 32,
      "outputs": [
        {
          "output_type": "execute_result",
          "data": {
            "text/plain": [
              "count      2904.000000\n",
              "mean     180383.689738\n",
              "std       79802.823684\n",
              "min       12789.000000\n",
              "25%      129150.000000\n",
              "50%      160000.000000\n",
              "75%      213000.000000\n",
              "max      755000.000000\n",
              "Name: SalePrice, dtype: float64"
            ]
          },
          "metadata": {
            "tags": []
          },
          "execution_count": 32
        }
      ]
    },
    {
      "cell_type": "code",
      "metadata": {
        "id": "TmX8xcLguFqD",
        "colab_type": "code",
        "colab": {
          "base_uri": "https://localhost:8080/",
          "height": 217
        },
        "outputId": "b5cb943e-f200-489c-9d63-8f5c92363012"
      },
      "source": [
        "# set features and target - simple baseline using 'Lot Area' for regression\n",
        "features = ['Lot_Area']\n",
        "target = 'SalePrice'\n",
        "\n",
        "# set X and y\n",
        "X = homes[features]\n",
        "y = homes[target]\n",
        "\n",
        "# instantiate and fit model\n",
        "model = LinearRegression().fit(X, y)\n",
        "\n",
        "# set prediction\n",
        "y_pred = model.predict(X)\n",
        "\n",
        "homes['Predicted'] = y_pred\n",
        "homes['error'] = y_pred - y\n",
        "homes.head()"
      ],
      "execution_count": 35,
      "outputs": [
        {
          "output_type": "execute_result",
          "data": {
            "text/html": [
              "<div>\n",
              "<style scoped>\n",
              "    .dataframe tbody tr th:only-of-type {\n",
              "        vertical-align: middle;\n",
              "    }\n",
              "\n",
              "    .dataframe tbody tr th {\n",
              "        vertical-align: top;\n",
              "    }\n",
              "\n",
              "    .dataframe thead th {\n",
              "        text-align: right;\n",
              "    }\n",
              "</style>\n",
              "<table border=\"1\" class=\"dataframe\">\n",
              "  <thead>\n",
              "    <tr style=\"text-align: right;\">\n",
              "      <th></th>\n",
              "      <th>1st_Flr_SF</th>\n",
              "      <th>Bedroom_AbvGr</th>\n",
              "      <th>Bldg_Type</th>\n",
              "      <th>Bsmt_Full_Bath</th>\n",
              "      <th>Bsmt_Half_Bath</th>\n",
              "      <th>Central_Air</th>\n",
              "      <th>Condition_1</th>\n",
              "      <th>Condition_2</th>\n",
              "      <th>Electrical</th>\n",
              "      <th>Exter_Cond</th>\n",
              "      <th>Exter_Qual</th>\n",
              "      <th>Exterior_1st</th>\n",
              "      <th>Exterior_2nd</th>\n",
              "      <th>Foundation</th>\n",
              "      <th>Full_Bath</th>\n",
              "      <th>Functional</th>\n",
              "      <th>Gr_Liv_Area</th>\n",
              "      <th>Half_Bath</th>\n",
              "      <th>Heating</th>\n",
              "      <th>Heating_QC</th>\n",
              "      <th>House_Style</th>\n",
              "      <th>Kitchen_AbvGr</th>\n",
              "      <th>Kitchen_Qual</th>\n",
              "      <th>Land_Contour</th>\n",
              "      <th>Land_Slope</th>\n",
              "      <th>Lot_Area</th>\n",
              "      <th>Lot_Config</th>\n",
              "      <th>Lot_Shape</th>\n",
              "      <th>MS_SubClass</th>\n",
              "      <th>MS_Zoning</th>\n",
              "      <th>Mas_Vnr_Type</th>\n",
              "      <th>Mo_Sold</th>\n",
              "      <th>Neighborhood</th>\n",
              "      <th>Overall_Cond</th>\n",
              "      <th>Overall_Qual</th>\n",
              "      <th>Paved_Drive</th>\n",
              "      <th>Roof_Matl</th>\n",
              "      <th>Roof_Style</th>\n",
              "      <th>SalePrice</th>\n",
              "      <th>Sale_Condition</th>\n",
              "      <th>Sale_Type</th>\n",
              "      <th>Street</th>\n",
              "      <th>TotRms_AbvGrd</th>\n",
              "      <th>Utilities</th>\n",
              "      <th>Year_Built</th>\n",
              "      <th>Year_Remod/Add</th>\n",
              "      <th>Yr_Sold</th>\n",
              "      <th>Predicted</th>\n",
              "      <th>error</th>\n",
              "    </tr>\n",
              "  </thead>\n",
              "  <tbody>\n",
              "    <tr>\n",
              "      <th>0</th>\n",
              "      <td>1656</td>\n",
              "      <td>3</td>\n",
              "      <td>1Fam</td>\n",
              "      <td>1.0</td>\n",
              "      <td>0.0</td>\n",
              "      <td>Y</td>\n",
              "      <td>Norm</td>\n",
              "      <td>Norm</td>\n",
              "      <td>SBrkr</td>\n",
              "      <td>TA</td>\n",
              "      <td>TA</td>\n",
              "      <td>BrkFace</td>\n",
              "      <td>Plywood</td>\n",
              "      <td>CBlock</td>\n",
              "      <td>1</td>\n",
              "      <td>Typ</td>\n",
              "      <td>1656</td>\n",
              "      <td>0</td>\n",
              "      <td>GasA</td>\n",
              "      <td>Fa</td>\n",
              "      <td>1Story</td>\n",
              "      <td>1</td>\n",
              "      <td>TA</td>\n",
              "      <td>Lvl</td>\n",
              "      <td>Gtl</td>\n",
              "      <td>31770</td>\n",
              "      <td>Corner</td>\n",
              "      <td>IR1</td>\n",
              "      <td>20</td>\n",
              "      <td>RL</td>\n",
              "      <td>Stone</td>\n",
              "      <td>5</td>\n",
              "      <td>NAmes</td>\n",
              "      <td>5</td>\n",
              "      <td>6</td>\n",
              "      <td>P</td>\n",
              "      <td>CompShg</td>\n",
              "      <td>Hip</td>\n",
              "      <td>215000</td>\n",
              "      <td>Normal</td>\n",
              "      <td>WD</td>\n",
              "      <td>Pave</td>\n",
              "      <td>7</td>\n",
              "      <td>AllPub</td>\n",
              "      <td>1960</td>\n",
              "      <td>1960</td>\n",
              "      <td>2010</td>\n",
              "      <td>238709.292732</td>\n",
              "      <td>23709.292732</td>\n",
              "    </tr>\n",
              "    <tr>\n",
              "      <th>1</th>\n",
              "      <td>896</td>\n",
              "      <td>2</td>\n",
              "      <td>1Fam</td>\n",
              "      <td>0.0</td>\n",
              "      <td>0.0</td>\n",
              "      <td>Y</td>\n",
              "      <td>Feedr</td>\n",
              "      <td>Norm</td>\n",
              "      <td>SBrkr</td>\n",
              "      <td>TA</td>\n",
              "      <td>TA</td>\n",
              "      <td>VinylSd</td>\n",
              "      <td>VinylSd</td>\n",
              "      <td>CBlock</td>\n",
              "      <td>1</td>\n",
              "      <td>Typ</td>\n",
              "      <td>896</td>\n",
              "      <td>0</td>\n",
              "      <td>GasA</td>\n",
              "      <td>TA</td>\n",
              "      <td>1Story</td>\n",
              "      <td>1</td>\n",
              "      <td>TA</td>\n",
              "      <td>Lvl</td>\n",
              "      <td>Gtl</td>\n",
              "      <td>11622</td>\n",
              "      <td>Inside</td>\n",
              "      <td>Reg</td>\n",
              "      <td>20</td>\n",
              "      <td>RH</td>\n",
              "      <td>None</td>\n",
              "      <td>6</td>\n",
              "      <td>NAmes</td>\n",
              "      <td>6</td>\n",
              "      <td>5</td>\n",
              "      <td>Y</td>\n",
              "      <td>CompShg</td>\n",
              "      <td>Gable</td>\n",
              "      <td>105000</td>\n",
              "      <td>Normal</td>\n",
              "      <td>WD</td>\n",
              "      <td>Pave</td>\n",
              "      <td>5</td>\n",
              "      <td>AllPub</td>\n",
              "      <td>1961</td>\n",
              "      <td>1961</td>\n",
              "      <td>2010</td>\n",
              "      <td>184404.528633</td>\n",
              "      <td>79404.528633</td>\n",
              "    </tr>\n",
              "    <tr>\n",
              "      <th>2</th>\n",
              "      <td>1329</td>\n",
              "      <td>3</td>\n",
              "      <td>1Fam</td>\n",
              "      <td>0.0</td>\n",
              "      <td>0.0</td>\n",
              "      <td>Y</td>\n",
              "      <td>Norm</td>\n",
              "      <td>Norm</td>\n",
              "      <td>SBrkr</td>\n",
              "      <td>TA</td>\n",
              "      <td>TA</td>\n",
              "      <td>Wd Sdng</td>\n",
              "      <td>Wd Sdng</td>\n",
              "      <td>CBlock</td>\n",
              "      <td>1</td>\n",
              "      <td>Typ</td>\n",
              "      <td>1329</td>\n",
              "      <td>1</td>\n",
              "      <td>GasA</td>\n",
              "      <td>TA</td>\n",
              "      <td>1Story</td>\n",
              "      <td>1</td>\n",
              "      <td>Gd</td>\n",
              "      <td>Lvl</td>\n",
              "      <td>Gtl</td>\n",
              "      <td>14267</td>\n",
              "      <td>Corner</td>\n",
              "      <td>IR1</td>\n",
              "      <td>20</td>\n",
              "      <td>RL</td>\n",
              "      <td>BrkFace</td>\n",
              "      <td>6</td>\n",
              "      <td>NAmes</td>\n",
              "      <td>6</td>\n",
              "      <td>6</td>\n",
              "      <td>Y</td>\n",
              "      <td>CompShg</td>\n",
              "      <td>Hip</td>\n",
              "      <td>172000</td>\n",
              "      <td>Normal</td>\n",
              "      <td>WD</td>\n",
              "      <td>Pave</td>\n",
              "      <td>6</td>\n",
              "      <td>AllPub</td>\n",
              "      <td>1958</td>\n",
              "      <td>1958</td>\n",
              "      <td>2010</td>\n",
              "      <td>191533.578714</td>\n",
              "      <td>19533.578714</td>\n",
              "    </tr>\n",
              "    <tr>\n",
              "      <th>3</th>\n",
              "      <td>2110</td>\n",
              "      <td>3</td>\n",
              "      <td>1Fam</td>\n",
              "      <td>1.0</td>\n",
              "      <td>0.0</td>\n",
              "      <td>Y</td>\n",
              "      <td>Norm</td>\n",
              "      <td>Norm</td>\n",
              "      <td>SBrkr</td>\n",
              "      <td>TA</td>\n",
              "      <td>Gd</td>\n",
              "      <td>BrkFace</td>\n",
              "      <td>BrkFace</td>\n",
              "      <td>CBlock</td>\n",
              "      <td>2</td>\n",
              "      <td>Typ</td>\n",
              "      <td>2110</td>\n",
              "      <td>1</td>\n",
              "      <td>GasA</td>\n",
              "      <td>Ex</td>\n",
              "      <td>1Story</td>\n",
              "      <td>1</td>\n",
              "      <td>Ex</td>\n",
              "      <td>Lvl</td>\n",
              "      <td>Gtl</td>\n",
              "      <td>11160</td>\n",
              "      <td>Corner</td>\n",
              "      <td>Reg</td>\n",
              "      <td>20</td>\n",
              "      <td>RL</td>\n",
              "      <td>None</td>\n",
              "      <td>4</td>\n",
              "      <td>NAmes</td>\n",
              "      <td>5</td>\n",
              "      <td>7</td>\n",
              "      <td>Y</td>\n",
              "      <td>CompShg</td>\n",
              "      <td>Hip</td>\n",
              "      <td>244000</td>\n",
              "      <td>Normal</td>\n",
              "      <td>WD</td>\n",
              "      <td>Pave</td>\n",
              "      <td>8</td>\n",
              "      <td>AllPub</td>\n",
              "      <td>1968</td>\n",
              "      <td>1968</td>\n",
              "      <td>2010</td>\n",
              "      <td>183159.303250</td>\n",
              "      <td>-60840.696750</td>\n",
              "    </tr>\n",
              "    <tr>\n",
              "      <th>4</th>\n",
              "      <td>928</td>\n",
              "      <td>3</td>\n",
              "      <td>1Fam</td>\n",
              "      <td>0.0</td>\n",
              "      <td>0.0</td>\n",
              "      <td>Y</td>\n",
              "      <td>Norm</td>\n",
              "      <td>Norm</td>\n",
              "      <td>SBrkr</td>\n",
              "      <td>TA</td>\n",
              "      <td>TA</td>\n",
              "      <td>VinylSd</td>\n",
              "      <td>VinylSd</td>\n",
              "      <td>PConc</td>\n",
              "      <td>2</td>\n",
              "      <td>Typ</td>\n",
              "      <td>1629</td>\n",
              "      <td>1</td>\n",
              "      <td>GasA</td>\n",
              "      <td>Gd</td>\n",
              "      <td>2Story</td>\n",
              "      <td>1</td>\n",
              "      <td>TA</td>\n",
              "      <td>Lvl</td>\n",
              "      <td>Gtl</td>\n",
              "      <td>13830</td>\n",
              "      <td>Inside</td>\n",
              "      <td>IR1</td>\n",
              "      <td>60</td>\n",
              "      <td>RL</td>\n",
              "      <td>None</td>\n",
              "      <td>3</td>\n",
              "      <td>Gilbert</td>\n",
              "      <td>5</td>\n",
              "      <td>5</td>\n",
              "      <td>Y</td>\n",
              "      <td>CompShg</td>\n",
              "      <td>Gable</td>\n",
              "      <td>189900</td>\n",
              "      <td>Normal</td>\n",
              "      <td>WD</td>\n",
              "      <td>Pave</td>\n",
              "      <td>6</td>\n",
              "      <td>AllPub</td>\n",
              "      <td>1997</td>\n",
              "      <td>1998</td>\n",
              "      <td>2010</td>\n",
              "      <td>190355.735657</td>\n",
              "      <td>455.735657</td>\n",
              "    </tr>\n",
              "  </tbody>\n",
              "</table>\n",
              "</div>"
            ],
            "text/plain": [
              "   1st_Flr_SF  Bedroom_AbvGr Bldg_Type  ...  Yr_Sold      Predicted         error\n",
              "0        1656              3      1Fam  ...     2010  238709.292732  23709.292732\n",
              "1         896              2      1Fam  ...     2010  184404.528633  79404.528633\n",
              "2        1329              3      1Fam  ...     2010  191533.578714  19533.578714\n",
              "3        2110              3      1Fam  ...     2010  183159.303250 -60840.696750\n",
              "4         928              3      1Fam  ...     2010  190355.735657    455.735657\n",
              "\n",
              "[5 rows x 49 columns]"
            ]
          },
          "metadata": {
            "tags": []
          },
          "execution_count": 35
        }
      ]
    },
    {
      "cell_type": "markdown",
      "metadata": {
        "id": "f2gKuWARzFL9",
        "colab_type": "text"
      },
      "source": [
        "#### Mean Absolute Error"
      ]
    },
    {
      "cell_type": "code",
      "metadata": {
        "id": "f7lqLjnwyzbX",
        "colab_type": "code",
        "colab": {
          "base_uri": "https://localhost:8080/",
          "height": 34
        },
        "outputId": "264d0bc0-9816-437a-9ceb-12eb4ee91480"
      },
      "source": [
        "mean_absolute_error(y, y_pred)"
      ],
      "execution_count": 41,
      "outputs": [
        {
          "output_type": "execute_result",
          "data": {
            "text/plain": [
              "55718.34574951948"
            ]
          },
          "metadata": {
            "tags": []
          },
          "execution_count": 41
        }
      ]
    },
    {
      "cell_type": "code",
      "metadata": {
        "id": "Me3LIwVOzA8q",
        "colab_type": "code",
        "colab": {
          "base_uri": "https://localhost:8080/",
          "height": 34
        },
        "outputId": "3cc41bee-e133-4f97-c12a-bf9b072dbd58"
      },
      "source": [
        "homes['error'].abs().mean()"
      ],
      "execution_count": 42,
      "outputs": [
        {
          "output_type": "execute_result",
          "data": {
            "text/plain": [
              "55718.345749519496"
            ]
          },
          "metadata": {
            "tags": []
          },
          "execution_count": 42
        }
      ]
    },
    {
      "cell_type": "markdown",
      "metadata": {
        "id": "651TID4xzPhX",
        "colab_type": "text"
      },
      "source": [
        "Both give me the same value, the latter is just manually done using the column created"
      ]
    },
    {
      "cell_type": "markdown",
      "metadata": {
        "id": "LRpyMWghzHvU",
        "colab_type": "text"
      },
      "source": [
        "#### R Squared "
      ]
    },
    {
      "cell_type": "code",
      "metadata": {
        "id": "6MsutiXCzJym",
        "colab_type": "code",
        "colab": {
          "base_uri": "https://localhost:8080/",
          "height": 34
        },
        "outputId": "30bf5036-2d28-48a0-bf16-1b2a89f470c2"
      },
      "source": [
        "r2_score(y, y_pred) # this score is quite low for the baseline"
      ],
      "execution_count": 43,
      "outputs": [
        {
          "output_type": "execute_result",
          "data": {
            "text/plain": [
              "0.07065079571583166"
            ]
          },
          "metadata": {
            "tags": []
          },
          "execution_count": 43
        }
      ]
    },
    {
      "cell_type": "markdown",
      "metadata": {
        "id": "yqeiq1wvyrTq",
        "colab_type": "text"
      },
      "source": [
        "## 2.2. Do train/test split\n",
        "\n",
        "Train on houses sold in the years 2006 - 2008. (1,920 rows)\n",
        "\n",
        "Validate on house sold in 2009. (644 rows)\n",
        "\n",
        "Test on houses sold in 2010. (340 rows)"
      ]
    },
    {
      "cell_type": "code",
      "metadata": {
        "id": "WKFjWLI3w0P_",
        "colab_type": "code",
        "colab": {
          "base_uri": "https://localhost:8080/",
          "height": 123
        },
        "outputId": "c8befcac-3fb9-4704-f7d4-3999c2fddce1"
      },
      "source": [
        "homes['Yr_Sold'].value_counts()"
      ],
      "execution_count": 44,
      "outputs": [
        {
          "output_type": "execute_result",
          "data": {
            "text/plain": [
              "2007    686\n",
              "2009    644\n",
              "2006    621\n",
              "2008    613\n",
              "2010    340\n",
              "Name: Yr_Sold, dtype: int64"
            ]
          },
          "metadata": {
            "tags": []
          },
          "execution_count": 44
        }
      ]
    },
    {
      "cell_type": "code",
      "metadata": {
        "id": "Bo49uO17vIiY",
        "colab_type": "code",
        "colab": {
          "base_uri": "https://localhost:8080/",
          "height": 34
        },
        "outputId": "51aef309-9c9e-4912-93e7-d32a0d7db5f3"
      },
      "source": [
        "# setting cut points and then creating new train, validate, and test datasets\n",
        "cut1 = 2008\n",
        "cut2 = 2009\n",
        "train = homes[homes['Yr_Sold'] <= cut1]\n",
        "validate = homes[homes['Yr_Sold'] == cut2]\n",
        "test = homes[homes['Yr_Sold'] > cut2]\n",
        "\n",
        "# checking the shape\n",
        "train.shape, validate.shape, test.shape"
      ],
      "execution_count": 46,
      "outputs": [
        {
          "output_type": "execute_result",
          "data": {
            "text/plain": [
              "((1920, 49), (644, 49), (340, 49))"
            ]
          },
          "metadata": {
            "tags": []
          },
          "execution_count": 46
        }
      ]
    },
    {
      "cell_type": "code",
      "metadata": {
        "id": "OJgA09uY0Pgo",
        "colab_type": "code",
        "colab": {
          "base_uri": "https://localhost:8080/",
          "height": 194
        },
        "outputId": "9ce238ac-56fb-4552-f5ae-4162ef6cd771"
      },
      "source": [
        "# verifying cut was done properly \n",
        "print(train['Yr_Sold'].value_counts(), '\\n')\n",
        "print(validate['Yr_Sold'].value_counts(), '\\n')\n",
        "print(test['Yr_Sold'].value_counts())"
      ],
      "execution_count": 49,
      "outputs": [
        {
          "output_type": "stream",
          "text": [
            "2007    686\n",
            "2006    621\n",
            "2008    613\n",
            "Name: Yr_Sold, dtype: int64 \n",
            "\n",
            "2009    644\n",
            "Name: Yr_Sold, dtype: int64 \n",
            "\n",
            "2010    340\n",
            "Name: Yr_Sold, dtype: int64\n"
          ],
          "name": "stdout"
        }
      ]
    },
    {
      "cell_type": "markdown",
      "metadata": {
        "id": "hk1bYDJy6txq",
        "colab_type": "text"
      },
      "source": [
        "## 2.3. Arrange data into X features matrix and y target vector\n",
        "\n",
        "Select at least one numeric feature and at least one categorical feature.\n",
        "\n",
        "Otherwise, you many choose whichever features and however many you want."
      ]
    },
    {
      "cell_type": "code",
      "metadata": {
        "id": "8Ej1cXka1I6k",
        "colab_type": "code",
        "colab": {
          "base_uri": "https://localhost:8080/",
          "height": 230
        },
        "outputId": "5d3b0acc-2d27-4d10-eaa8-6e9f24c4324c"
      },
      "source": [
        "homes.columns"
      ],
      "execution_count": 50,
      "outputs": [
        {
          "output_type": "execute_result",
          "data": {
            "text/plain": [
              "Index(['1st_Flr_SF', 'Bedroom_AbvGr', 'Bldg_Type', 'Bsmt_Full_Bath',\n",
              "       'Bsmt_Half_Bath', 'Central_Air', 'Condition_1', 'Condition_2',\n",
              "       'Electrical', 'Exter_Cond', 'Exter_Qual', 'Exterior_1st',\n",
              "       'Exterior_2nd', 'Foundation', 'Full_Bath', 'Functional', 'Gr_Liv_Area',\n",
              "       'Half_Bath', 'Heating', 'Heating_QC', 'House_Style', 'Kitchen_AbvGr',\n",
              "       'Kitchen_Qual', 'Land_Contour', 'Land_Slope', 'Lot_Area', 'Lot_Config',\n",
              "       'Lot_Shape', 'MS_SubClass', 'MS_Zoning', 'Mas_Vnr_Type', 'Mo_Sold',\n",
              "       'Neighborhood', 'Overall_Cond', 'Overall_Qual', 'Paved_Drive',\n",
              "       'Roof_Matl', 'Roof_Style', 'SalePrice', 'Sale_Condition', 'Sale_Type',\n",
              "       'Street', 'TotRms_AbvGrd', 'Utilities', 'Year_Built', 'Year_Remod/Add',\n",
              "       'Yr_Sold', 'Predicted', 'error'],\n",
              "      dtype='object')"
            ]
          },
          "metadata": {
            "tags": []
          },
          "execution_count": 50
        }
      ]
    },
    {
      "cell_type": "code",
      "metadata": {
        "id": "B7ZFrob-1oaO",
        "colab_type": "code",
        "colab": {
          "base_uri": "https://localhost:8080/",
          "height": 532
        },
        "outputId": "860d2168-47d2-42fb-eacc-364706d7c876"
      },
      "source": [
        "homes['Neighborhood'].value_counts()"
      ],
      "execution_count": 54,
      "outputs": [
        {
          "output_type": "execute_result",
          "data": {
            "text/plain": [
              "NAmes      443\n",
              "CollgCr    265\n",
              "OldTown    239\n",
              "Edwards    192\n",
              "Somerst    172\n",
              "NridgHt    164\n",
              "Gilbert    160\n",
              "Sawyer     151\n",
              "NWAmes     131\n",
              "SawyerW    124\n",
              "Mitchel    114\n",
              "BrkSide    107\n",
              "Crawfor    102\n",
              "IDOTRR      93\n",
              "NoRidge     71\n",
              "Timber      70\n",
              "StoneBr     51\n",
              "SWISU       48\n",
              "ClearCr     44\n",
              "MeadowV     37\n",
              "BrDale      30\n",
              "Blmngtn     28\n",
              "Veenker     24\n",
              "NPkVill     23\n",
              "Blueste     10\n",
              "Greens       8\n",
              "GrnHill      2\n",
              "Landmrk      1\n",
              "Name: Neighborhood, dtype: int64"
            ]
          },
          "metadata": {
            "tags": []
          },
          "execution_count": 54
        }
      ]
    },
    {
      "cell_type": "code",
      "metadata": {
        "id": "bU4Fgr5C1R_M",
        "colab_type": "code",
        "colab": {
          "base_uri": "https://localhost:8080/",
          "height": 616
        },
        "outputId": "17d4a62c-b3d8-43a7-dc14-021118726433"
      },
      "source": [
        "# viewing some data to see if there's correlation\n",
        "import plotly.express as px\n",
        "px.scatter(homes, x='Neighborhood', y='SalePrice', size='Lot_Area', \n",
        "           color='Lot_Area')\n",
        "\n",
        "# it looks like neighborhood might have some correlation here\n",
        "# Lot Area might possibly have some correlation as well but it's not clear"
      ],
      "execution_count": 64,
      "outputs": [
        {
          "output_type": "display_data",
          "data": {
            "text/html": [
              "<html>\n",
              "<head><meta charset=\"utf-8\" /></head>\n",
              "<body>\n",
              "    <div>\n",
              "            <script src=\"https://cdnjs.cloudflare.com/ajax/libs/mathjax/2.7.5/MathJax.js?config=TeX-AMS-MML_SVG\"></script><script type=\"text/javascript\">if (window.MathJax) {MathJax.Hub.Config({SVG: {font: \"STIX-Web\"}});}</script>\n",
              "                <script type=\"text/javascript\">window.PlotlyConfig = {MathJaxConfig: 'local'};</script>\n",
              "        <script src=\"https://cdn.plot.ly/plotly-latest.min.js\"></script>    \n",
              "            <div id=\"168ee6ad-b51d-47a1-b608-e53e63ac0e6b\" class=\"plotly-graph-div\" style=\"height:600px; width:100%;\"></div>\n",
              "            <script type=\"text/javascript\">\n",
              "                \n",
              "                    window.PLOTLYENV=window.PLOTLYENV || {};\n",
              "                    \n",
              "                if (document.getElementById(\"168ee6ad-b51d-47a1-b608-e53e63ac0e6b\")) {\n",
              "                    Plotly.newPlot(\n",
              "                        '168ee6ad-b51d-47a1-b608-e53e63ac0e6b',\n",
              "                        [{\"hoverlabel\": {\"namelength\": 0}, \"hovertemplate\": \"Neighborhood=%{x}<br>SalePrice=%{y}<br>Lot_Area=%{marker.color}\", \"legendgroup\": \"\", \"marker\": {\"color\": [31770, 11622, 14267, 11160, 13830, 9978, 4920, 5005, 5389, 7500, 10000, 7980, 8402, 10176, 6820, 53504, 12134, 11394, 19138, 13175, 11751, 10625, 7500, 11241, 12537, 8450, 8400, 10500, 5858, 1680, 1680, 1680, 4043, 2280, 2280, 2280, 12858, 11478, 10159, 12883, 12182, 11520, 14122, 10171, 12919, 6371, 14300, 13650, 7658, 7132, 2628, 18494, 3203, 3182, 13300, 8577, 7750, 9505, 14774, 17433, 10593, 12256, 11764, 16770, 14720, 8987, 9215, 8640, 9000, 12552, 10440, 10142, 11920, 8880, 8012, 11218, 7892, 7175, 9453, 9672, 8400, 9800, 8930, 11782, 8450, 9819, 7500, 6897, 15410, 10186, 13143, 11134, 4835, 3515, 3215, 3182, 2544, 2544, 4403, 2117, 2980, 2572, 2403, 12853, 7379, 4420, 3880, 13517, 8000, 10456, 10791, 10603, 18837, 10421, 9360, 9600, 9600, 9790, 9320, 9900, 9680, 10600, 14112, 8800, 13260, 9717, 9724, 17360, 7207, 5350, 9920, 9600, 7800, 11380, 11600, 19900, 16492, 8267, 8197, 8050, 10552, 8400, 8760, 12160, 9300, 10725, 10032, 8382, 10950, 10895, 13587, 7922, 7898, 7200, 10200, 5868, 17503, 6979, 9830, 11275, 8064, 7500, 8520, 7200, 10000, 7635, 9760, 7700, 4800, 8800, 4485, 8960, 5805, 5790, 4608, 7200, 5500, 6900, 11851, 8239, 9656, 8520, 9600, 10800, 9000, 9045, 7407, 7740, 11340, 10560, 5830, 7793, 5000, 6000, 6000, 6360, 6000, 6240, 6240, 6120, 10300, 8094, 12900, 3068, 8472, 5600, 7630, 24090, 15263, 10632, 9900, 6001, 6449, 6048, 6342, 10773, 10778, 11625, 11341, 8521, 8246, 7800, 9364, 7832, 7424, 11227, 11616, 14000, 20062, 9259, 9600, 23595, 17082, 18600, 10625, 11479, 9571, 9350, 9525, 10420, 17485, 11200, 11100, 9206, 11980, 12361, 9938, 9069, 10475, 6762, 10402, 7360, 12376, 14235, 8816, 11105, 9337, 8750, 15240, 10900, 10650, 7480, 10389, 11423, 9548, 9375, 12137, 4435, 4426, 10635, 8400, 8773, 8777, 8842, 9825, 10044, 11792, 6305, 7819, 6410, 8546, 8741, 12180, 8562, 4853, 6858, 8212, 5000, 7890, 7200, 9839, 9638, 10452, 15600, 9042, 17500, 19645, 3907, 3907, 15602, 5436, 8154, 9140, 7500, 8712, 8712, 8712, 3811, 11050, 9620, 9196, 12328, 12760, 57200, 11896, 9803, 9802, 12003, 11316, 14191, 13214, 15300, 10114, 9400, 11875, 1974, 2394, 2592, 1476, 1491, 1900, 1890, 6953, 26142, 12887, 7700, 10475, 10544, 9892, 12961, 13008, 10200, 13860, 10179, 11792, 8400, 14892, 8530, 7296, 5664, 7380, 8013, 8923, 10141, 7500, 7837, 9765, 8803, 7250, 9636, 8125, 9248, 10762, 11851, 5814, 17423, 11844, 16158, 11900, 13005, 17043, 11900, 16635, 13250, 10928, 12388, 14115, 11088, 9600, 11880, 10400, 10304, 7000, 8004, 7500, 8470, 9373, 10140, 11050, 10140, 10448, 9000, 8750, 7930, 7830, 8510, 7038, 6960, 8120, 10500, 9000, 1680, 2368, 1680, 1680, 1680, 1680, 4928, 2308, 2280, 2280, 2308, 2349, 2364, 2289, 2364, 2104, 7150, 10710, 12456, 14257, 13518, 15431, 13173, 14230, 12704, 12350, 11308, 12350, 12220, 13478, 13693, 13891, 11578, 16870, 23303, 11146, 10367, 9591, 10872, 13514, 8834, 11362, 10655, 12878, 9541, 13472, 15274, 13262, 9658, 6904, 5381, 5122, 10307, 5001, 14836, 15262, 7390, 6472, 16770, 6240, 3480, 2268, 10928, 8918, 12589, 11911, 3684, 3635, 3182, 3182, 3182, 3182, 7795, 8068, 9434, 7984, 7750, 10125, 8965, 8174, 5063, 8795, 12224, 9734, 8123, 8433, 7750, 15896, 24682, 8755, 7848, 9430, 15138, 12720, 16545, 12203, 10208, 10750, 9900, 9085, 11692, 46589, 29959, 9612, 11194, 10206, 9262, 10130, 9139, 9675, 11128, 8640, 9000, 7862, 8640, 8640, 12606, 9187, 7500, 11003, 10603, 10574, 8125, 8125, 10625, 9375, 7500, 8736, 8127, 9605, 7500, 7500, 10628, 10141, 13072, 13072, 12450, 7328, 11492, 10994, 8529, 7703, 10762, 7175, 9109, 10274, 8250, 8400, 9000, 9750, 7064, 8499, 9079, 9316, 7791, 10000, 8281, 7150, 15676, 11949, 2880, 3951, 3000, 3830, 4217, 3230, 2998, 3768, 2645, 14694, 3782, 15417, 9600, 9991, 11700, 11717, 9156, 10382, 12732, 12936, 10400, 17871, 9600, 9000, 13774, 9650, 10140, 8400, 7130, 9600, 9100, 9600, 16500, 9790, 7436, 8125, 9100, 9450, 13495, 11475, 10004, 9350, 10500, 11000, 8970, 12095, 9600, 11475, 9768, 5330, 7015, 12160, 9900, 9600, 9600, 9600, 9600, 8944, 10573, 9500, 14695, 13600, 13000, 13560, 12513, 8760, 8400, 12285, 9240, 9600, 12400, 8750, 8750, 10400, 19296, 8532, 9482, 8128, 10634, 13070, 10434, 14559, 8480, 7626, 9533, 10615, 11419, 9600, 8000, 5470, 10410, 10800, 8146, 9022, 10230, 10410, 7200, 5400, 5400, 10800, 10800, 9671, 10143, 11500, 11643, 8010, 10454, 8712, 17600, 9000, 12144, 8544, 8064, 7200, 7200, 7350, 7560, 7200, 8000, 7931, 10800, 8064, 7570, 8604, 7936, 6600, 3950, 10440, 4080, 10307, 5720, 15660, 9900, 6406, 6600, 7627, 7596, 3378, 10134, 6000, 6000, 6000, 7404, 5925, 5925, 5784, 8520, 4456, 9600, 3500, 8100, 11700, 8400, 3600, 17671, 3300, 9000, 7200, 8820, 5400, 9720, 7879, 9392, 21384, 6615, 7264, 4960, 8854, 6000, 6000, 6000, 6000, 6000, 6000, 6911, 6120, 6120, 6120, 6120, 6120, 6120, 8635, 11888, 11414, 8094, 2500, 9928, 5520, 3000, 6876, 6240, 5775, 5852, 5160, 5160, 10320, 4280, 10800, 10800, 10547, 10020, 6629, 9780, 12886, 8816, 11184, 11625, 7800, 8014, 7252, 8740, 11616, 15400, 15312, 15584, 9000, 11250, 25095, 17140, 12342, 10708, 13680, 15635, 9855, 9571, 9571, 9350, 9340, 7440, 11500, 4235, 11409, 9060, 9084, 10778, 19255, 12327, 14684, 9317, 10560, 9828, 26400, 7018, 7018, 7018, 7018, 7018, 7018, 7040, 7007, 11855, 7939, 7976, 10933, 10637, 10226, 10816, 9178, 10769, 11422, 11923, 8814, 6762, 10324, 7314, 11645, 11646, 12800, 16698, 28698, 12464, 9757, 15426, 10667, 14753, 10859, 8072, 10400, 10335, 9017, 8750, 8935, 9808, 12420, 16285, 10739, 11166, 8430, 16269, 6950, 8800, 7000, 9286, 15523, 7200, 7200, 8445, 11664, 12334, 11838, 11885, 11050, 11250, 15750, 11883, 12782, 8750, 9375, 8750, 9100, 9750, 4435, 4435, 10200, 9313, 8487, 8633, 11069, 8777, 9937, 8877, 7301, 7950, 10682, 7200, 13286, 3675, 9405, 6410, 11767, 8405, 4060, 10206, 10926, 11767, 8926, 12354, 8212, 10998, 6300, 4500, 8400, 9900, 15863, 5707, 7804, 8574, 6171, 7200, 7558, 6292, 7155, 10918, 13680, 7500, 9600, 14680, 13360, 7681, 8145, 9100, 12000, 13339, 15600, 14000, 17500, 1733, 1488, 1612, 1300, 13607, 17597, 21695, 10690, 8660, 6402, 8470, 10200, 3843, 21780, 10125, 12822, 12118, 12209, 9750, 9360, 10125, 9947, 11070, 14375, 215245, 12898, 13159, 13438, 14463, 8925, 11457, 9839, 14419, 6853, 9157, 14601, 12633, 12518, 21750, 4500, 4500, 1596, 9858, 1526, 13383, 1477, 1533, 2217, 7689, 7706, 9101, 8780, 7669, 14115, 10429, 9819, 10457, 11029, 12925, 11075, 8702, 8139, 9535, 9042, 15038, 14137, 21872, 4923, 6264, 5395, 5070, 10839, 11184, 8000, 10832, 14067, 4671, 5950, 13543, 11198, 15401, 31220, 8118, 47280, 20544, 12680, 12090, 10825, 18559, 14450, 12227, 13068, 15611, 10400, 9743, 12511, 11361, 10400, 10480, 10000, 14311, 9000, 9750, 10295, 7560, 12735, 4060, 1680, 1680, 1890, 1869, 1680, 1680, 1680, 4043, 2308, 2529, 9477, 12444, 12474, 14803, 14948, 12704, 13891, 13693, 14418, 13418, 12539, 12151, 8899, 10574, 12720, 13688, 10625, 10845, 16900, 16451, 10110, 8769, 12304, 12677, 8849, 8232, 6240, 6240, 2448, 2448, 8198, 3940, 3940, 3182, 3182, 3710, 9024, 7415, 9587, 8029, 8010, 8396, 7301, 10261, 8220, 15384, 12460, 8390, 9660, 9200, 14260, 11000, 11675, 10990, 11929, 10437, 10542, 10010, 10944, 14303, 11932, 14598, 11957, 13253, 14587, 10206, 12274, 9801, 9428, 8640, 8640, 9803, 9375, 10625, 10800, 10625, 7500, 8791, 7500, 10110, 12774, 13072, 13695, 13695, 8366, 9260, 8453, 8480, 8125, 14565, 8450, 8285, 7153, 9291, 8012, 7892, 9100, 12968, 8100, 8450, 6360, 6768, 19508, 10759, 9205, 11025, 4282, 4017, 3435, 3180, 3180, 3604, 2280, 2280, 4765, 4538, 4385, 4109, 5119, 2160, 2160, 10646, 2645, 2645, 3951, 14963, 11064, 10846, 11120, 24572, 16280, 10400, 11104, 11050, 11040, 15387, 9750, 10800, 8814, 8872, 8125, 11072, 13101, 9246, 13355, 8963, 9120, 9130, 12122, 9900, 7785, 8593, 8475, 8700, 10175, 9020, 9200, 8250, 9350, 9020, 9900, 10007, 10721, 12493, 11332, 6627, 4130, 7420, 4882, 9600, 9600, 9600, 9600, 7584, 13700, 10197, 7875, 8400, 9150, 14670, 7390, 9204, 7763, 8856, 9840, 9120, 13200, 9000, 11900, 9464, 10425, 11556, 9373, 12774, 14250, 7350, 7677, 8838, 8480, 12436, 10122, 7506, 10930, 5400, 10836, 10800, 9247, 10180, 11355, 10920, 12929, 27650, 8892, 7200, 7200, 7910, 8000, 8000, 7931, 8064, 6390, 7227, 7200, 8513, 7200, 7200, 7056, 9760, 7590, 9836, 5232, 10440, 9184, 4800, 10440, 4800, 6000, 11426, 11426, 7628, 7308, 5400, 10800, 6756, 5914, 6000, 12000, 9000, 7311, 6000, 6000, 12205, 18386, 9142, 12665, 5350, 4571, 9143, 9600, 9600, 6000, 9600, 10800, 6300, 5250, 5700, 13500, 11340, 10800, 9750, 12150, 12702, 8516, 7111, 7425, 9100, 7010, 6130, 5000, 5870, 6000, 6000, 6000, 6000, 6000, 5000, 5520, 6240, 6120, 6240, 6240, 6120, 6120, 6155, 6324, 8635, 13053, 9120, 9144, 9144, 10267, 8094, 5100, 4347, 6291, 10266, 6876, 10320, 7200, 7006, 7920, 8235, 5586, 10320, 10320, 10320, 9488, 8250, 21286, 17120, 10106, 11235, 11200, 13014, 7162, 10265, 9764, 7703, 9981, 7400, 12900, 12900, 9000, 8544, 9239, 14175, 13284, 13500, 13825, 10200, 10532, 8375, 10200, 2887, 10005, 20270, 39104, 53227, 11512, 5190, 10452, 45600, 19550, 21780, 13728, 9571, 9350, 9360, 8405, 7000, 10880, 9600, 9084, 11839, 9771, 9938, 14171, 10541, 10616, 9345, 11778, 11778, 11228, 11454, 11500, 12798, 9750, 9525, 9245, 8696, 13142, 8998, 9179, 8924, 9382, 12803, 12435, 12192, 11250, 9200, 8385, 12250, 10970, 9216, 14330, 7990, 7180, 7200, 9742, 10316, 10400, 9066, 11404, 9240, 9720, 14860, 11250, 8158, 10905, 7226, 11690, 8750, 4435, 4426, 13125, 10126, 9135, 8450, 9750, 8450, 8320, 11049, 11058, 9627, 8199, 4426, 4426, 4438, 4438, 8777, 8777, 9825, 9937, 12102, 6500, 13907, 10012, 6931, 9638, 7200, 7024, 63887, 3675, 6040, 6012, 12108, 6845, 6931, 12180, 8050, 9520, 11767, 8172, 16466, 7692, 5142, 5604, 8248, 5687, 12155, 8400, 8400, 7290, 8525, 9842, 7804, 8969, 11526, 15576, 15564, 6292, 7609, 10480, 9650, 7200, 11988, 11700, 9260, 7801, 9670, 14100, 15660, 12392, 26073, 14778, 1879, 1950, 7000, 6000, 3636, 5890, 6900, 8155, 6000, 7392, 9000, 14584, 5280, 8500, 5150, 18000, 9000, 5587, 3843, 3811, 3842, 23730, 13265, 11050, 9880, 10125, 10260, 9990, 164660, 4084, 15498, 11563, 9520, 12852, 9802, 12018, 12890, 12416, 18265, 10200, 11202, 7915, 12244, 11449, 11447, 8940, 7060, 9278, 4500, 14137, 4224, 2665, 2665, 1974, 1596, 17979, 1477, 1890, 21750, 6490, 6951, 6600, 6600, 6600, 12508, 12395, 11075, 56600, 10667, 10628, 13651, 15865, 12394, 10364, 13869, 8773, 8872, 5330, 10147, 8637, 7875, 7875, 7500, 9556, 10784, 9125, 7655, 18160, 3696, 5062, 4740, 5118, 14157, 12328, 51974, 41600, 8035, 8089, 14082, 13870, 12546, 10960, 12090, 12090, 12299, 11339, 11952, 12046, 10395, 11850, 11584, 10400, 10793, 13001, 12243, 11700, 12384, 8991, 8000, 10500, 10530, 7472, 9457, 7920, 9758, 8294, 7340, 17199, 9000, 4058, 4113, 10943, 2205, 1890, 2058, 2016, 1920, 4928, 2308, 2304, 7150, 12469, 11694, 12030, 11825, 12085, 14333, 14450, 13641, 13440, 15431, 14154, 13891, 14226, 13693, 11428, 14977, 13654, 17169, 16659, 9591, 9709, 10562, 13615, 13069, 12099, 14277, 11999, 12568, 9926, 9254, 10732, 7577, 3901, 3903, 6289, 4590, 4590, 6442, 7841, 7313, 7820, 6240, 3242, 10237, 10237, 13204, 8857, 9729, 12216, 9018, 8993, 8899, 8499, 8229, 7713, 7697, 3922, 3922, 3621, 3710, 14572, 16219, 11084, 11796, 10936, 8244, 7875, 8063, 8740, 7917, 9967, 7750, 9487, 9649, 15623, 12191, 11000, 11400, 10557, 11002, 10790, 21535, 9920, 11787, 9950, 12257, 12692, 11762, 9044, 9910, 11830, 11670, 15256, 10612, 12291, 13501, 9986, 9416, 9849, 10000, 8847, 9158, 8251, 10084, 9605, 8778, 8640, 9000, 8640, 10411, 9000, 9000, 11096, 10207, 10440, 11824, 10625, 11143, 7500, 7500, 12450, 7441, 8462, 11613, 8450, 16196, 8012, 8012, 9180, 8400, 6285, 8480, 7420, 7758, 6970, 13673, 7476, 9945, 6173, 19522, 17542, 10751, 16647, 12712, 9572, 10678, 4379, 3523, 3784, 4230, 3606, 4251, 2280, 3230, 2117, 2117, 2117, 5105, 2645, 7399, 7321, 8010, 8413, 9466, 12000, 16157, 10768, 3840, 9600, 9600, 17778, 18890, 7050, 11700, 8000, 8723, 11700, 11358, 9547, 10530, 11500, 10738, 9600, 10800, 8050, 10355, 10289, 9503, 10624, 10899, 12342, 12772, 8892, 10482, 7535, 7450, 8339, 14357, 8243, 8680, 8800, 9200, 9350, 8800, 11382, 22002, 14585, 7388, 9842, 8280, 12172, 5000, 5000, 3500, 5175, 9500, 9600, 11345, 9492, 9480, 8668, 10050, 9600, 10150, 11344, 18450, 8760, 6860, 8250, 8176, 9750, 9250, 11988, 9100, 9736, 9770, 10152, 12155, 12198, 10050, 11556, 8078, 10950, 7942, 8923, 8540, 7134, 7150, 8400, 13300, 9532, 15783, 14190, 9600, 12099, 21281, 10134, 5500, 10284, 10800, 10800, 5400, 10090, 8700, 8300, 11606, 8064, 11664, 10496, 7200, 7200, 7200, 7000, 7500, 7315, 7903, 8000, 8000, 7000, 9760, 7590, 6600, 6760, 6978, 9600, 6000, 4480, 7200, 3153, 10800, 7200, 9000, 6000, 5925, 5925, 6000, 9639, 3880, 8520, 10337, 9863, 9600, 4571, 13600, 8398, 9900, 3600, 13500, 7200, 5400, 8100, 10800, 9439, 8626, 11800, 6854, 8674, 8731, 8737, 6125, 6000, 6000, 6120, 6240, 6240, 6240, 6120, 6120, 6120, 6240, 6180, 7755, 13515, 8850, 8550, 8730, 5700, 8520, 5680, 5680, 7758, 7449, 13200, 6882, 9000, 9780, 10320, 4330, 7200, 4800, 12358, 10120, 4388, 10320, 12888, 18030, 8160, 4484, 11235, 11235, 14299, 7943, 14149, 11677, 8400, 7094, 8978, 8425, 8665, 8398, 7742, 8724, 8197, 8169, 14175, 16779, 25339, 6960, 11375, 13770, 9000, 115149, 11075, 10029, 17541, 22692, 17808, 12671, 12615, 10512, 5400, 11515, 7711, 9098, 3869, 9280, 11100, 7550, 9060, 23920, 10357, 13474, 10380, 13125, 11287, 9317, 9965, 9965, 9178, 10481, 10652, 11175, 10235, 9588, 8814, 11103, 8556, 6762, 11750, 8760, 7242, 9316, 9317, 14364, 8883, 159000, 53107, 12205, 20064, 14217, 8775, 11249, 10021, 9531, 8428, 16561, 8070, 9337, 10820, 12352, 9543, 8826, 10665, 11317, 11800, 8660, 9720, 8982, 16300, 9675, 7700, 10356, 7200, 7200, 10386, 9375, 11354, 8749, 8749, 8158, 16226, 11927, 12728, 15295, 11248, 10000, 4435, 17227, 8200, 8450, 8145, 9245, 8500, 8769, 8334, 8333, 9045, 9170, 9825, 8308, 10921, 16287, 8240, 11841, 6285, 7917, 9555, 8536, 7024, 7023, 39290, 40094, 3675, 6400, 6882, 10215, 8741, 4270, 10042, 9450, 11767, 8172, 8172, 8190, 10896, 10890, 10592, 10594, 7223, 6821, 7200, 4000, 6720, 7642, 7155, 7128, 4280, 5362, 6305, 7136, 6270, 7230, 13108, 22420, 12168, 7810, 11275, 6221, 10570, 7259, 14442, 13125, 21000, 25485, 21579, 1782, 17871, 3907, 20693, 18044, 8500, 7000, 5000, 7288, 6060, 9060, 3672, 8263, 8967, 13710, 11067, 8250, 6565, 6060, 5568, 4750, 12150, 7540, 9187, 10000, 12864, 9928, 8750, 8410, 4054, 9763, 16905, 19958, 8368, 9037, 10991, 10656, 10331, 13758, 9303, 6718, 9590, 11305, 7777, 14536, 11800, 35133, 15306, 12633, 12665, 8402, 43500, 6710, 25286, 25000, 32463, 4224, 4224, 1504, 1533, 1495, 2001, 1936, 1890, 11333, 9129, 15957, 33983, 8286, 6723, 7244, 27697, 7599, 11000, 8314, 11625, 10712, 10447, 11027, 10533, 11765, 39384, 11727, 8238, 13006, 13041, 13031, 9783, 11207, 19378, 14859, 13128, 10463, 13751, 23257, 13108, 8076, 7685, 9084, 3701, 5306, 6563, 16023, 18062, 12292, 16056, 12438, 16052, 15922, 13682, 14762, 34650, 8147, 11302, 18261, 14145, 13837, 16659, 18800, 10464, 10400, 10530, 10240, 16692, 11475, 9927, 9512, 10530, 10140, 10140, 10140, 10000, 15870, 9353, 8125, 7200, 8773, 2760, 2160, 1953, 1890, 1680, 1680, 1680, 1680, 1680, 4043, 7514, 7838, 2280, 2179, 16737, 16387, 16259, 16163, 12228, 14780, 16033, 14215, 13418, 13975, 10240, 9942, 11924, 10672, 11643, 12378, 11065, 13758, 14828, 11846, 20431, 10927, 13215, 7052, 5911, 6955, 6792, 7740, 6373, 3136, 10237, 10237, 10237, 17104, 14054, 11660, 15578, 11631, 9073, 3087, 3196, 3196, 2938, 3072, 3072, 3010, 3010, 3013, 3982, 4045, 21930, 7861, 9056, 9171, 11194, 7875, 8121, 8658, 11214, 10852, 12104, 8738, 9452, 9660, 9545, 35760, 9233, 12011, 12090, 10019, 17242, 10236, 10120, 12585, 12447, 20896, 10182, 8688, 10936, 8640, 13162, 11216, 10728, 8125, 8125, 8125, 7200, 7500, 7200, 7733, 11024, 13072, 13072, 13072, 7800, 7632, 8304, 7153, 9370, 7175, 7175, 9019, 8900, 7800, 9100, 9100, 8927, 9240, 8471, 9308, 8450, 8638, 13052, 13526, 8020, 6993, 8789, 14330, 16059, 11025, 14541, 13346, 12461, 3628, 3316, 3180, 2544, 2544, 3180, 2998, 3735, 2651, 4447, 8314, 7180, 9549, 11250, 3760, 3640, 3874, 3876, 50271, 13110, 10192, 20781, 11700, 11029, 10400, 10140, 9600, 9750, 9600, 8640, 9360, 8400, 8400, 9759, 9600, 9230, 14803, 10659, 9100, 8393, 8800, 8800, 10368, 9350, 10382, 8973, 10800, 8550, 11425, 9724, 4712, 5900, 5825, 7438, 9600, 10858, 9600, 10680, 9490, 9462, 9888, 8917, 12700, 8500, 14200, 9000, 25419, 9723, 7728, 8163, 8400, 11600, 9610, 10000, 14850, 10152, 10011, 7032, 8092, 11310, 12778, 10170, 7700, 11050, 13600, 15428, 21299, 13300, 22136, 7500, 7000, 10410, 5400, 5400, 10914, 7008, 10800, 7200, 10818, 10410, 10800, 10800, 8658, 13400, 10184, 9786, 9510, 7800, 8910, 7332, 7100, 10800, 11650, 18275, 16321, 12144, 10800, 7200, 7200, 7560, 8544, 8544, 8544, 8512, 7945, 7000, 7590, 10205, 7400, 7000, 7000, 9856, 9906, 9600, 5520, 9600, 9600, 6451, 3960, 5684, 7745, 7741, 5633, 9000, 7200, 4400, 7614, 6000, 6000, 7830, 9576, 5820, 5747, 9142, 9600, 10800, 6300, 5000, 8850, 3600, 7200, 11340, 22950, 5976, 9750, 4761, 7446, 6435, 11737, 5000, 7800, 6240, 6240, 6120, 6120, 6240, 6240, 6120, 6000, 6000, 6380, 11672, 33120, 9873, 5310, 4118, 10320, 7518, 9000, 8600, 7200, 9786, 6780, 7200, 12375, 11136, 21370, 6930, 8250, 5220, 5500, 11235, 10791, 8414, 11327, 11777, 10366, 9000, 11553, 7844, 9535, 10335, 7176, 9662, 8235, 13650, 13125, 17920, 17529, 10246, 14175, 20355, 13050, 15593, 10820, 13350, 1700, 5271, 9375, 6488, 7800, 19690, 19950, 19800, 11679, 12048, 10519, 9525, 9525, 6420, 8335, 7585, 11200, 12128, 9554, 9069, 11003, 7488, 7406, 6762, 11210, 8990, 8760, 13377, 11645, 11645, 10984, 9316, 9316, 10041, 36500, 21453, 70761, 12000, 8846, 13015, 12438, 8685, 13568, 9100, 9236, 10264, 9272, 13426, 13450, 14006, 13704, 10780, 8340, 10385, 9920, 9560, 9800, 7200, 3612, 11367, 9930, 9468, 11088, 14781, 8726, 8125, 10566, 21533, 11250, 11250, 9750, 9100, 4435, 4435, 15611, 8810, 12393, 9135, 8581, 8400, 10084, 11645, 8772, 8846, 8461, 8767, 8777, 17755, 8877, 7840, 9400, 16133, 7162, 11060, 3675, 3675, 3675, 2522, 2522, 2522, 2522, 3363, 6956, 7822, 8707, 8410, 9738, 8172, 16012, 8248, 8248, 6204, 8088, 11388, 7082, 8400, 10890, 6430, 7000, 13132, 4899, 6000, 9399, 7588, 10164, 6191, 9550, 21780, 11435, 12400, 11600, 11500, 8170, 16560, 12320, 14210, 14115, 12984, 15600, 15750, 16381, 7288, 7000, 8534, 7030, 8765, 9060, 11040, 12366, 9000, 9000, 8520, 5748, 3842, 23580, 8385, 9116, 10530, 11080, 11070, 26178, 8239, 50102, 16669, 13811, 8049, 11170, 8098, 14331, 13618, 11443, 11577, 31250, 7020, 4500, 4500, 17217, 2665, 2665, 3964, 10172, 11836, 1470, 1484, 13384, 1533, 1533, 1526, 1936, 1894, 12640, 9297, 17400, 20000, 7937, 8885, 10441, 10010, 9627], \"coloraxis\": \"coloraxis\", \"size\": [31770, 11622, 14267, 11160, 13830, 9978, 4920, 5005, 5389, 7500, 10000, 7980, 8402, 10176, 6820, 53504, 12134, 11394, 19138, 13175, 11751, 10625, 7500, 11241, 12537, 8450, 8400, 10500, 5858, 1680, 1680, 1680, 4043, 2280, 2280, 2280, 12858, 11478, 10159, 12883, 12182, 11520, 14122, 10171, 12919, 6371, 14300, 13650, 7658, 7132, 2628, 18494, 3203, 3182, 13300, 8577, 7750, 9505, 14774, 17433, 10593, 12256, 11764, 16770, 14720, 8987, 9215, 8640, 9000, 12552, 10440, 10142, 11920, 8880, 8012, 11218, 7892, 7175, 9453, 9672, 8400, 9800, 8930, 11782, 8450, 9819, 7500, 6897, 15410, 10186, 13143, 11134, 4835, 3515, 3215, 3182, 2544, 2544, 4403, 2117, 2980, 2572, 2403, 12853, 7379, 4420, 3880, 13517, 8000, 10456, 10791, 10603, 18837, 10421, 9360, 9600, 9600, 9790, 9320, 9900, 9680, 10600, 14112, 8800, 13260, 9717, 9724, 17360, 7207, 5350, 9920, 9600, 7800, 11380, 11600, 19900, 16492, 8267, 8197, 8050, 10552, 8400, 8760, 12160, 9300, 10725, 10032, 8382, 10950, 10895, 13587, 7922, 7898, 7200, 10200, 5868, 17503, 6979, 9830, 11275, 8064, 7500, 8520, 7200, 10000, 7635, 9760, 7700, 4800, 8800, 4485, 8960, 5805, 5790, 4608, 7200, 5500, 6900, 11851, 8239, 9656, 8520, 9600, 10800, 9000, 9045, 7407, 7740, 11340, 10560, 5830, 7793, 5000, 6000, 6000, 6360, 6000, 6240, 6240, 6120, 10300, 8094, 12900, 3068, 8472, 5600, 7630, 24090, 15263, 10632, 9900, 6001, 6449, 6048, 6342, 10773, 10778, 11625, 11341, 8521, 8246, 7800, 9364, 7832, 7424, 11227, 11616, 14000, 20062, 9259, 9600, 23595, 17082, 18600, 10625, 11479, 9571, 9350, 9525, 10420, 17485, 11200, 11100, 9206, 11980, 12361, 9938, 9069, 10475, 6762, 10402, 7360, 12376, 14235, 8816, 11105, 9337, 8750, 15240, 10900, 10650, 7480, 10389, 11423, 9548, 9375, 12137, 4435, 4426, 10635, 8400, 8773, 8777, 8842, 9825, 10044, 11792, 6305, 7819, 6410, 8546, 8741, 12180, 8562, 4853, 6858, 8212, 5000, 7890, 7200, 9839, 9638, 10452, 15600, 9042, 17500, 19645, 3907, 3907, 15602, 5436, 8154, 9140, 7500, 8712, 8712, 8712, 3811, 11050, 9620, 9196, 12328, 12760, 57200, 11896, 9803, 9802, 12003, 11316, 14191, 13214, 15300, 10114, 9400, 11875, 1974, 2394, 2592, 1476, 1491, 1900, 1890, 6953, 26142, 12887, 7700, 10475, 10544, 9892, 12961, 13008, 10200, 13860, 10179, 11792, 8400, 14892, 8530, 7296, 5664, 7380, 8013, 8923, 10141, 7500, 7837, 9765, 8803, 7250, 9636, 8125, 9248, 10762, 11851, 5814, 17423, 11844, 16158, 11900, 13005, 17043, 11900, 16635, 13250, 10928, 12388, 14115, 11088, 9600, 11880, 10400, 10304, 7000, 8004, 7500, 8470, 9373, 10140, 11050, 10140, 10448, 9000, 8750, 7930, 7830, 8510, 7038, 6960, 8120, 10500, 9000, 1680, 2368, 1680, 1680, 1680, 1680, 4928, 2308, 2280, 2280, 2308, 2349, 2364, 2289, 2364, 2104, 7150, 10710, 12456, 14257, 13518, 15431, 13173, 14230, 12704, 12350, 11308, 12350, 12220, 13478, 13693, 13891, 11578, 16870, 23303, 11146, 10367, 9591, 10872, 13514, 8834, 11362, 10655, 12878, 9541, 13472, 15274, 13262, 9658, 6904, 5381, 5122, 10307, 5001, 14836, 15262, 7390, 6472, 16770, 6240, 3480, 2268, 10928, 8918, 12589, 11911, 3684, 3635, 3182, 3182, 3182, 3182, 7795, 8068, 9434, 7984, 7750, 10125, 8965, 8174, 5063, 8795, 12224, 9734, 8123, 8433, 7750, 15896, 24682, 8755, 7848, 9430, 15138, 12720, 16545, 12203, 10208, 10750, 9900, 9085, 11692, 46589, 29959, 9612, 11194, 10206, 9262, 10130, 9139, 9675, 11128, 8640, 9000, 7862, 8640, 8640, 12606, 9187, 7500, 11003, 10603, 10574, 8125, 8125, 10625, 9375, 7500, 8736, 8127, 9605, 7500, 7500, 10628, 10141, 13072, 13072, 12450, 7328, 11492, 10994, 8529, 7703, 10762, 7175, 9109, 10274, 8250, 8400, 9000, 9750, 7064, 8499, 9079, 9316, 7791, 10000, 8281, 7150, 15676, 11949, 2880, 3951, 3000, 3830, 4217, 3230, 2998, 3768, 2645, 14694, 3782, 15417, 9600, 9991, 11700, 11717, 9156, 10382, 12732, 12936, 10400, 17871, 9600, 9000, 13774, 9650, 10140, 8400, 7130, 9600, 9100, 9600, 16500, 9790, 7436, 8125, 9100, 9450, 13495, 11475, 10004, 9350, 10500, 11000, 8970, 12095, 9600, 11475, 9768, 5330, 7015, 12160, 9900, 9600, 9600, 9600, 9600, 8944, 10573, 9500, 14695, 13600, 13000, 13560, 12513, 8760, 8400, 12285, 9240, 9600, 12400, 8750, 8750, 10400, 19296, 8532, 9482, 8128, 10634, 13070, 10434, 14559, 8480, 7626, 9533, 10615, 11419, 9600, 8000, 5470, 10410, 10800, 8146, 9022, 10230, 10410, 7200, 5400, 5400, 10800, 10800, 9671, 10143, 11500, 11643, 8010, 10454, 8712, 17600, 9000, 12144, 8544, 8064, 7200, 7200, 7350, 7560, 7200, 8000, 7931, 10800, 8064, 7570, 8604, 7936, 6600, 3950, 10440, 4080, 10307, 5720, 15660, 9900, 6406, 6600, 7627, 7596, 3378, 10134, 6000, 6000, 6000, 7404, 5925, 5925, 5784, 8520, 4456, 9600, 3500, 8100, 11700, 8400, 3600, 17671, 3300, 9000, 7200, 8820, 5400, 9720, 7879, 9392, 21384, 6615, 7264, 4960, 8854, 6000, 6000, 6000, 6000, 6000, 6000, 6911, 6120, 6120, 6120, 6120, 6120, 6120, 8635, 11888, 11414, 8094, 2500, 9928, 5520, 3000, 6876, 6240, 5775, 5852, 5160, 5160, 10320, 4280, 10800, 10800, 10547, 10020, 6629, 9780, 12886, 8816, 11184, 11625, 7800, 8014, 7252, 8740, 11616, 15400, 15312, 15584, 9000, 11250, 25095, 17140, 12342, 10708, 13680, 15635, 9855, 9571, 9571, 9350, 9340, 7440, 11500, 4235, 11409, 9060, 9084, 10778, 19255, 12327, 14684, 9317, 10560, 9828, 26400, 7018, 7018, 7018, 7018, 7018, 7018, 7040, 7007, 11855, 7939, 7976, 10933, 10637, 10226, 10816, 9178, 10769, 11422, 11923, 8814, 6762, 10324, 7314, 11645, 11646, 12800, 16698, 28698, 12464, 9757, 15426, 10667, 14753, 10859, 8072, 10400, 10335, 9017, 8750, 8935, 9808, 12420, 16285, 10739, 11166, 8430, 16269, 6950, 8800, 7000, 9286, 15523, 7200, 7200, 8445, 11664, 12334, 11838, 11885, 11050, 11250, 15750, 11883, 12782, 8750, 9375, 8750, 9100, 9750, 4435, 4435, 10200, 9313, 8487, 8633, 11069, 8777, 9937, 8877, 7301, 7950, 10682, 7200, 13286, 3675, 9405, 6410, 11767, 8405, 4060, 10206, 10926, 11767, 8926, 12354, 8212, 10998, 6300, 4500, 8400, 9900, 15863, 5707, 7804, 8574, 6171, 7200, 7558, 6292, 7155, 10918, 13680, 7500, 9600, 14680, 13360, 7681, 8145, 9100, 12000, 13339, 15600, 14000, 17500, 1733, 1488, 1612, 1300, 13607, 17597, 21695, 10690, 8660, 6402, 8470, 10200, 3843, 21780, 10125, 12822, 12118, 12209, 9750, 9360, 10125, 9947, 11070, 14375, 215245, 12898, 13159, 13438, 14463, 8925, 11457, 9839, 14419, 6853, 9157, 14601, 12633, 12518, 21750, 4500, 4500, 1596, 9858, 1526, 13383, 1477, 1533, 2217, 7689, 7706, 9101, 8780, 7669, 14115, 10429, 9819, 10457, 11029, 12925, 11075, 8702, 8139, 9535, 9042, 15038, 14137, 21872, 4923, 6264, 5395, 5070, 10839, 11184, 8000, 10832, 14067, 4671, 5950, 13543, 11198, 15401, 31220, 8118, 47280, 20544, 12680, 12090, 10825, 18559, 14450, 12227, 13068, 15611, 10400, 9743, 12511, 11361, 10400, 10480, 10000, 14311, 9000, 9750, 10295, 7560, 12735, 4060, 1680, 1680, 1890, 1869, 1680, 1680, 1680, 4043, 2308, 2529, 9477, 12444, 12474, 14803, 14948, 12704, 13891, 13693, 14418, 13418, 12539, 12151, 8899, 10574, 12720, 13688, 10625, 10845, 16900, 16451, 10110, 8769, 12304, 12677, 8849, 8232, 6240, 6240, 2448, 2448, 8198, 3940, 3940, 3182, 3182, 3710, 9024, 7415, 9587, 8029, 8010, 8396, 7301, 10261, 8220, 15384, 12460, 8390, 9660, 9200, 14260, 11000, 11675, 10990, 11929, 10437, 10542, 10010, 10944, 14303, 11932, 14598, 11957, 13253, 14587, 10206, 12274, 9801, 9428, 8640, 8640, 9803, 9375, 10625, 10800, 10625, 7500, 8791, 7500, 10110, 12774, 13072, 13695, 13695, 8366, 9260, 8453, 8480, 8125, 14565, 8450, 8285, 7153, 9291, 8012, 7892, 9100, 12968, 8100, 8450, 6360, 6768, 19508, 10759, 9205, 11025, 4282, 4017, 3435, 3180, 3180, 3604, 2280, 2280, 4765, 4538, 4385, 4109, 5119, 2160, 2160, 10646, 2645, 2645, 3951, 14963, 11064, 10846, 11120, 24572, 16280, 10400, 11104, 11050, 11040, 15387, 9750, 10800, 8814, 8872, 8125, 11072, 13101, 9246, 13355, 8963, 9120, 9130, 12122, 9900, 7785, 8593, 8475, 8700, 10175, 9020, 9200, 8250, 9350, 9020, 9900, 10007, 10721, 12493, 11332, 6627, 4130, 7420, 4882, 9600, 9600, 9600, 9600, 7584, 13700, 10197, 7875, 8400, 9150, 14670, 7390, 9204, 7763, 8856, 9840, 9120, 13200, 9000, 11900, 9464, 10425, 11556, 9373, 12774, 14250, 7350, 7677, 8838, 8480, 12436, 10122, 7506, 10930, 5400, 10836, 10800, 9247, 10180, 11355, 10920, 12929, 27650, 8892, 7200, 7200, 7910, 8000, 8000, 7931, 8064, 6390, 7227, 7200, 8513, 7200, 7200, 7056, 9760, 7590, 9836, 5232, 10440, 9184, 4800, 10440, 4800, 6000, 11426, 11426, 7628, 7308, 5400, 10800, 6756, 5914, 6000, 12000, 9000, 7311, 6000, 6000, 12205, 18386, 9142, 12665, 5350, 4571, 9143, 9600, 9600, 6000, 9600, 10800, 6300, 5250, 5700, 13500, 11340, 10800, 9750, 12150, 12702, 8516, 7111, 7425, 9100, 7010, 6130, 5000, 5870, 6000, 6000, 6000, 6000, 6000, 5000, 5520, 6240, 6120, 6240, 6240, 6120, 6120, 6155, 6324, 8635, 13053, 9120, 9144, 9144, 10267, 8094, 5100, 4347, 6291, 10266, 6876, 10320, 7200, 7006, 7920, 8235, 5586, 10320, 10320, 10320, 9488, 8250, 21286, 17120, 10106, 11235, 11200, 13014, 7162, 10265, 9764, 7703, 9981, 7400, 12900, 12900, 9000, 8544, 9239, 14175, 13284, 13500, 13825, 10200, 10532, 8375, 10200, 2887, 10005, 20270, 39104, 53227, 11512, 5190, 10452, 45600, 19550, 21780, 13728, 9571, 9350, 9360, 8405, 7000, 10880, 9600, 9084, 11839, 9771, 9938, 14171, 10541, 10616, 9345, 11778, 11778, 11228, 11454, 11500, 12798, 9750, 9525, 9245, 8696, 13142, 8998, 9179, 8924, 9382, 12803, 12435, 12192, 11250, 9200, 8385, 12250, 10970, 9216, 14330, 7990, 7180, 7200, 9742, 10316, 10400, 9066, 11404, 9240, 9720, 14860, 11250, 8158, 10905, 7226, 11690, 8750, 4435, 4426, 13125, 10126, 9135, 8450, 9750, 8450, 8320, 11049, 11058, 9627, 8199, 4426, 4426, 4438, 4438, 8777, 8777, 9825, 9937, 12102, 6500, 13907, 10012, 6931, 9638, 7200, 7024, 63887, 3675, 6040, 6012, 12108, 6845, 6931, 12180, 8050, 9520, 11767, 8172, 16466, 7692, 5142, 5604, 8248, 5687, 12155, 8400, 8400, 7290, 8525, 9842, 7804, 8969, 11526, 15576, 15564, 6292, 7609, 10480, 9650, 7200, 11988, 11700, 9260, 7801, 9670, 14100, 15660, 12392, 26073, 14778, 1879, 1950, 7000, 6000, 3636, 5890, 6900, 8155, 6000, 7392, 9000, 14584, 5280, 8500, 5150, 18000, 9000, 5587, 3843, 3811, 3842, 23730, 13265, 11050, 9880, 10125, 10260, 9990, 164660, 4084, 15498, 11563, 9520, 12852, 9802, 12018, 12890, 12416, 18265, 10200, 11202, 7915, 12244, 11449, 11447, 8940, 7060, 9278, 4500, 14137, 4224, 2665, 2665, 1974, 1596, 17979, 1477, 1890, 21750, 6490, 6951, 6600, 6600, 6600, 12508, 12395, 11075, 56600, 10667, 10628, 13651, 15865, 12394, 10364, 13869, 8773, 8872, 5330, 10147, 8637, 7875, 7875, 7500, 9556, 10784, 9125, 7655, 18160, 3696, 5062, 4740, 5118, 14157, 12328, 51974, 41600, 8035, 8089, 14082, 13870, 12546, 10960, 12090, 12090, 12299, 11339, 11952, 12046, 10395, 11850, 11584, 10400, 10793, 13001, 12243, 11700, 12384, 8991, 8000, 10500, 10530, 7472, 9457, 7920, 9758, 8294, 7340, 17199, 9000, 4058, 4113, 10943, 2205, 1890, 2058, 2016, 1920, 4928, 2308, 2304, 7150, 12469, 11694, 12030, 11825, 12085, 14333, 14450, 13641, 13440, 15431, 14154, 13891, 14226, 13693, 11428, 14977, 13654, 17169, 16659, 9591, 9709, 10562, 13615, 13069, 12099, 14277, 11999, 12568, 9926, 9254, 10732, 7577, 3901, 3903, 6289, 4590, 4590, 6442, 7841, 7313, 7820, 6240, 3242, 10237, 10237, 13204, 8857, 9729, 12216, 9018, 8993, 8899, 8499, 8229, 7713, 7697, 3922, 3922, 3621, 3710, 14572, 16219, 11084, 11796, 10936, 8244, 7875, 8063, 8740, 7917, 9967, 7750, 9487, 9649, 15623, 12191, 11000, 11400, 10557, 11002, 10790, 21535, 9920, 11787, 9950, 12257, 12692, 11762, 9044, 9910, 11830, 11670, 15256, 10612, 12291, 13501, 9986, 9416, 9849, 10000, 8847, 9158, 8251, 10084, 9605, 8778, 8640, 9000, 8640, 10411, 9000, 9000, 11096, 10207, 10440, 11824, 10625, 11143, 7500, 7500, 12450, 7441, 8462, 11613, 8450, 16196, 8012, 8012, 9180, 8400, 6285, 8480, 7420, 7758, 6970, 13673, 7476, 9945, 6173, 19522, 17542, 10751, 16647, 12712, 9572, 10678, 4379, 3523, 3784, 4230, 3606, 4251, 2280, 3230, 2117, 2117, 2117, 5105, 2645, 7399, 7321, 8010, 8413, 9466, 12000, 16157, 10768, 3840, 9600, 9600, 17778, 18890, 7050, 11700, 8000, 8723, 11700, 11358, 9547, 10530, 11500, 10738, 9600, 10800, 8050, 10355, 10289, 9503, 10624, 10899, 12342, 12772, 8892, 10482, 7535, 7450, 8339, 14357, 8243, 8680, 8800, 9200, 9350, 8800, 11382, 22002, 14585, 7388, 9842, 8280, 12172, 5000, 5000, 3500, 5175, 9500, 9600, 11345, 9492, 9480, 8668, 10050, 9600, 10150, 11344, 18450, 8760, 6860, 8250, 8176, 9750, 9250, 11988, 9100, 9736, 9770, 10152, 12155, 12198, 10050, 11556, 8078, 10950, 7942, 8923, 8540, 7134, 7150, 8400, 13300, 9532, 15783, 14190, 9600, 12099, 21281, 10134, 5500, 10284, 10800, 10800, 5400, 10090, 8700, 8300, 11606, 8064, 11664, 10496, 7200, 7200, 7200, 7000, 7500, 7315, 7903, 8000, 8000, 7000, 9760, 7590, 6600, 6760, 6978, 9600, 6000, 4480, 7200, 3153, 10800, 7200, 9000, 6000, 5925, 5925, 6000, 9639, 3880, 8520, 10337, 9863, 9600, 4571, 13600, 8398, 9900, 3600, 13500, 7200, 5400, 8100, 10800, 9439, 8626, 11800, 6854, 8674, 8731, 8737, 6125, 6000, 6000, 6120, 6240, 6240, 6240, 6120, 6120, 6120, 6240, 6180, 7755, 13515, 8850, 8550, 8730, 5700, 8520, 5680, 5680, 7758, 7449, 13200, 6882, 9000, 9780, 10320, 4330, 7200, 4800, 12358, 10120, 4388, 10320, 12888, 18030, 8160, 4484, 11235, 11235, 14299, 7943, 14149, 11677, 8400, 7094, 8978, 8425, 8665, 8398, 7742, 8724, 8197, 8169, 14175, 16779, 25339, 6960, 11375, 13770, 9000, 115149, 11075, 10029, 17541, 22692, 17808, 12671, 12615, 10512, 5400, 11515, 7711, 9098, 3869, 9280, 11100, 7550, 9060, 23920, 10357, 13474, 10380, 13125, 11287, 9317, 9965, 9965, 9178, 10481, 10652, 11175, 10235, 9588, 8814, 11103, 8556, 6762, 11750, 8760, 7242, 9316, 9317, 14364, 8883, 159000, 53107, 12205, 20064, 14217, 8775, 11249, 10021, 9531, 8428, 16561, 8070, 9337, 10820, 12352, 9543, 8826, 10665, 11317, 11800, 8660, 9720, 8982, 16300, 9675, 7700, 10356, 7200, 7200, 10386, 9375, 11354, 8749, 8749, 8158, 16226, 11927, 12728, 15295, 11248, 10000, 4435, 17227, 8200, 8450, 8145, 9245, 8500, 8769, 8334, 8333, 9045, 9170, 9825, 8308, 10921, 16287, 8240, 11841, 6285, 7917, 9555, 8536, 7024, 7023, 39290, 40094, 3675, 6400, 6882, 10215, 8741, 4270, 10042, 9450, 11767, 8172, 8172, 8190, 10896, 10890, 10592, 10594, 7223, 6821, 7200, 4000, 6720, 7642, 7155, 7128, 4280, 5362, 6305, 7136, 6270, 7230, 13108, 22420, 12168, 7810, 11275, 6221, 10570, 7259, 14442, 13125, 21000, 25485, 21579, 1782, 17871, 3907, 20693, 18044, 8500, 7000, 5000, 7288, 6060, 9060, 3672, 8263, 8967, 13710, 11067, 8250, 6565, 6060, 5568, 4750, 12150, 7540, 9187, 10000, 12864, 9928, 8750, 8410, 4054, 9763, 16905, 19958, 8368, 9037, 10991, 10656, 10331, 13758, 9303, 6718, 9590, 11305, 7777, 14536, 11800, 35133, 15306, 12633, 12665, 8402, 43500, 6710, 25286, 25000, 32463, 4224, 4224, 1504, 1533, 1495, 2001, 1936, 1890, 11333, 9129, 15957, 33983, 8286, 6723, 7244, 27697, 7599, 11000, 8314, 11625, 10712, 10447, 11027, 10533, 11765, 39384, 11727, 8238, 13006, 13041, 13031, 9783, 11207, 19378, 14859, 13128, 10463, 13751, 23257, 13108, 8076, 7685, 9084, 3701, 5306, 6563, 16023, 18062, 12292, 16056, 12438, 16052, 15922, 13682, 14762, 34650, 8147, 11302, 18261, 14145, 13837, 16659, 18800, 10464, 10400, 10530, 10240, 16692, 11475, 9927, 9512, 10530, 10140, 10140, 10140, 10000, 15870, 9353, 8125, 7200, 8773, 2760, 2160, 1953, 1890, 1680, 1680, 1680, 1680, 1680, 4043, 7514, 7838, 2280, 2179, 16737, 16387, 16259, 16163, 12228, 14780, 16033, 14215, 13418, 13975, 10240, 9942, 11924, 10672, 11643, 12378, 11065, 13758, 14828, 11846, 20431, 10927, 13215, 7052, 5911, 6955, 6792, 7740, 6373, 3136, 10237, 10237, 10237, 17104, 14054, 11660, 15578, 11631, 9073, 3087, 3196, 3196, 2938, 3072, 3072, 3010, 3010, 3013, 3982, 4045, 21930, 7861, 9056, 9171, 11194, 7875, 8121, 8658, 11214, 10852, 12104, 8738, 9452, 9660, 9545, 35760, 9233, 12011, 12090, 10019, 17242, 10236, 10120, 12585, 12447, 20896, 10182, 8688, 10936, 8640, 13162, 11216, 10728, 8125, 8125, 8125, 7200, 7500, 7200, 7733, 11024, 13072, 13072, 13072, 7800, 7632, 8304, 7153, 9370, 7175, 7175, 9019, 8900, 7800, 9100, 9100, 8927, 9240, 8471, 9308, 8450, 8638, 13052, 13526, 8020, 6993, 8789, 14330, 16059, 11025, 14541, 13346, 12461, 3628, 3316, 3180, 2544, 2544, 3180, 2998, 3735, 2651, 4447, 8314, 7180, 9549, 11250, 3760, 3640, 3874, 3876, 50271, 13110, 10192, 20781, 11700, 11029, 10400, 10140, 9600, 9750, 9600, 8640, 9360, 8400, 8400, 9759, 9600, 9230, 14803, 10659, 9100, 8393, 8800, 8800, 10368, 9350, 10382, 8973, 10800, 8550, 11425, 9724, 4712, 5900, 5825, 7438, 9600, 10858, 9600, 10680, 9490, 9462, 9888, 8917, 12700, 8500, 14200, 9000, 25419, 9723, 7728, 8163, 8400, 11600, 9610, 10000, 14850, 10152, 10011, 7032, 8092, 11310, 12778, 10170, 7700, 11050, 13600, 15428, 21299, 13300, 22136, 7500, 7000, 10410, 5400, 5400, 10914, 7008, 10800, 7200, 10818, 10410, 10800, 10800, 8658, 13400, 10184, 9786, 9510, 7800, 8910, 7332, 7100, 10800, 11650, 18275, 16321, 12144, 10800, 7200, 7200, 7560, 8544, 8544, 8544, 8512, 7945, 7000, 7590, 10205, 7400, 7000, 7000, 9856, 9906, 9600, 5520, 9600, 9600, 6451, 3960, 5684, 7745, 7741, 5633, 9000, 7200, 4400, 7614, 6000, 6000, 7830, 9576, 5820, 5747, 9142, 9600, 10800, 6300, 5000, 8850, 3600, 7200, 11340, 22950, 5976, 9750, 4761, 7446, 6435, 11737, 5000, 7800, 6240, 6240, 6120, 6120, 6240, 6240, 6120, 6000, 6000, 6380, 11672, 33120, 9873, 5310, 4118, 10320, 7518, 9000, 8600, 7200, 9786, 6780, 7200, 12375, 11136, 21370, 6930, 8250, 5220, 5500, 11235, 10791, 8414, 11327, 11777, 10366, 9000, 11553, 7844, 9535, 10335, 7176, 9662, 8235, 13650, 13125, 17920, 17529, 10246, 14175, 20355, 13050, 15593, 10820, 13350, 1700, 5271, 9375, 6488, 7800, 19690, 19950, 19800, 11679, 12048, 10519, 9525, 9525, 6420, 8335, 7585, 11200, 12128, 9554, 9069, 11003, 7488, 7406, 6762, 11210, 8990, 8760, 13377, 11645, 11645, 10984, 9316, 9316, 10041, 36500, 21453, 70761, 12000, 8846, 13015, 12438, 8685, 13568, 9100, 9236, 10264, 9272, 13426, 13450, 14006, 13704, 10780, 8340, 10385, 9920, 9560, 9800, 7200, 3612, 11367, 9930, 9468, 11088, 14781, 8726, 8125, 10566, 21533, 11250, 11250, 9750, 9100, 4435, 4435, 15611, 8810, 12393, 9135, 8581, 8400, 10084, 11645, 8772, 8846, 8461, 8767, 8777, 17755, 8877, 7840, 9400, 16133, 7162, 11060, 3675, 3675, 3675, 2522, 2522, 2522, 2522, 3363, 6956, 7822, 8707, 8410, 9738, 8172, 16012, 8248, 8248, 6204, 8088, 11388, 7082, 8400, 10890, 6430, 7000, 13132, 4899, 6000, 9399, 7588, 10164, 6191, 9550, 21780, 11435, 12400, 11600, 11500, 8170, 16560, 12320, 14210, 14115, 12984, 15600, 15750, 16381, 7288, 7000, 8534, 7030, 8765, 9060, 11040, 12366, 9000, 9000, 8520, 5748, 3842, 23580, 8385, 9116, 10530, 11080, 11070, 26178, 8239, 50102, 16669, 13811, 8049, 11170, 8098, 14331, 13618, 11443, 11577, 31250, 7020, 4500, 4500, 17217, 2665, 2665, 3964, 10172, 11836, 1470, 1484, 13384, 1533, 1533, 1526, 1936, 1894, 12640, 9297, 17400, 20000, 7937, 8885, 10441, 10010, 9627], \"sizemode\": \"area\", \"sizeref\": 538.1125, \"symbol\": \"circle\"}, \"mode\": \"markers\", \"name\": \"\", \"showlegend\": false, \"type\": \"scattergl\", \"x\": [\"NAmes\", \"NAmes\", \"NAmes\", \"NAmes\", \"Gilbert\", \"Gilbert\", \"StoneBr\", \"StoneBr\", \"StoneBr\", \"Gilbert\", \"Gilbert\", \"Gilbert\", \"Gilbert\", \"Gilbert\", \"StoneBr\", \"StoneBr\", \"Gilbert\", \"StoneBr\", \"Gilbert\", \"NWAmes\", \"NWAmes\", \"NWAmes\", \"Somerst\", \"NAmes\", \"NAmes\", \"NAmes\", \"NAmes\", \"NAmes\", \"NAmes\", \"BrDale\", \"BrDale\", \"BrDale\", \"NPkVill\", \"NPkVill\", \"NPkVill\", \"NPkVill\", \"NridgHt\", \"NridgHt\", \"NridgHt\", \"NridgHt\", \"NridgHt\", \"NridgHt\", \"NridgHt\", \"NridgHt\", \"NridgHt\", \"NridgHt\", \"NridgHt\", \"NridgHt\", \"NridgHt\", \"NridgHt\", \"NridgHt\", \"Gilbert\", \"Blmngtn\", \"Blmngtn\", \"Gilbert\", \"Gilbert\", \"Gilbert\", \"Gilbert\", \"NoRidge\", \"NoRidge\", \"NoRidge\", \"NoRidge\", \"NoRidge\", \"NoRidge\", \"NoRidge\", \"Somerst\", \"Somerst\", \"Somerst\", \"Somerst\", \"Somerst\", \"Somerst\", \"SawyerW\", \"SawyerW\", \"SawyerW\", \"SawyerW\", \"SawyerW\", \"SawyerW\", \"SawyerW\", \"SawyerW\", \"SawyerW\", \"SawyerW\", \"SawyerW\", \"Sawyer\", \"Sawyer\", \"Sawyer\", \"Sawyer\", \"Sawyer\", \"Sawyer\", \"Sawyer\", \"NoRidge\", \"NoRidge\", \"NoRidge\", \"Somerst\", \"Somerst\", \"Somerst\", \"Somerst\", \"Somerst\", \"Somerst\", \"Somerst\", \"Somerst\", \"Somerst\", \"Somerst\", \"Somerst\", \"Somerst\", \"Somerst\", \"Greens\", \"Greens\", \"Sawyer\", \"Somerst\", \"NWAmes\", \"NWAmes\", \"NWAmes\", \"NWAmes\", \"NWAmes\", \"NWAmes\", \"NWAmes\", \"NAmes\", \"NWAmes\", \"NAmes\", \"NAmes\", \"NAmes\", \"NAmes\", \"NAmes\", \"NAmes\", \"NAmes\", \"NAmes\", \"NAmes\", \"NAmes\", \"BrkSide\", \"BrkSide\", \"NAmes\", \"NAmes\", \"NAmes\", \"NAmes\", \"NAmes\", \"NAmes\", \"NAmes\", \"NAmes\", \"NAmes\", \"NAmes\", \"NAmes\", \"NAmes\", \"NAmes\", \"NAmes\", \"NAmes\", \"NAmes\", \"NAmes\", \"NAmes\", \"NAmes\", \"NAmes\", \"NAmes\", \"NAmes\", \"NAmes\", \"NAmes\", \"NAmes\", \"NAmes\", \"NAmes\", \"OldTown\", \"NAmes\", \"NAmes\", \"NAmes\", \"NAmes\", \"NAmes\", \"NAmes\", \"NAmes\", \"NAmes\", \"NAmes\", \"NAmes\", \"OldTown\", \"OldTown\", \"OldTown\", \"OldTown\", \"OldTown\", \"OldTown\", \"OldTown\", \"OldTown\", \"OldTown\", \"OldTown\", \"OldTown\", \"OldTown\", \"OldTown\", \"OldTown\", \"OldTown\", \"OldTown\", \"OldTown\", \"OldTown\", \"OldTown\", \"OldTown\", \"OldTown\", \"OldTown\", \"BrkSide\", \"BrkSide\", \"BrkSide\", \"BrkSide\", \"BrkSide\", \"BrkSide\", \"BrkSide\", \"BrkSide\", \"BrkSide\", \"OldTown\", \"OldTown\", \"OldTown\", \"OldTown\", \"OldTown\", \"IDOTRR\", \"IDOTRR\", \"OldTown\", \"ClearCr\", \"ClearCr\", \"ClearCr\", \"SWISU\", \"SWISU\", \"SWISU\", \"SWISU\", \"Sawyer\", \"Sawyer\", \"Sawyer\", \"Sawyer\", \"Sawyer\", \"Sawyer\", \"Sawyer\", \"Sawyer\", \"Sawyer\", \"Sawyer\", \"Sawyer\", \"Sawyer\", \"Sawyer\", \"ClearCr\", \"ClearCr\", \"Sawyer\", \"Sawyer\", \"ClearCr\", \"ClearCr\", \"Edwards\", \"Edwards\", \"Edwards\", \"Edwards\", \"Edwards\", \"Edwards\", \"Edwards\", \"Edwards\", \"Edwards\", \"Edwards\", \"SawyerW\", \"SawyerW\", \"SawyerW\", \"SawyerW\", \"SawyerW\", \"CollgCr\", \"CollgCr\", \"CollgCr\", \"CollgCr\", \"SawyerW\", \"SawyerW\", \"ClearCr\", \"CollgCr\", \"CollgCr\", \"CollgCr\", \"CollgCr\", \"CollgCr\", \"CollgCr\", \"CollgCr\", \"CollgCr\", \"CollgCr\", \"CollgCr\", \"CollgCr\", \"CollgCr\", \"CollgCr\", \"CollgCr\", \"CollgCr\", \"CollgCr\", \"CollgCr\", \"Edwards\", \"Edwards\", \"Edwards\", \"Edwards\", \"Edwards\", \"Edwards\", \"Edwards\", \"Edwards\", \"Edwards\", \"Edwards\", \"Edwards\", \"Edwards\", \"SWISU\", \"SWISU\", \"Edwards\", \"SWISU\", \"SWISU\", \"SWISU\", \"SWISU\", \"SWISU\", \"Crawfor\", \"Crawfor\", \"Crawfor\", \"Crawfor\", \"Crawfor\", \"Blueste\", \"Blueste\", \"Crawfor\", \"IDOTRR\", \"IDOTRR\", \"IDOTRR\", \"IDOTRR\", \"IDOTRR\", \"IDOTRR\", \"IDOTRR\", \"Crawfor\", \"Mitchel\", \"Mitchel\", \"Mitchel\", \"Mitchel\", \"Mitchel\", \"Timber\", \"Timber\", \"Timber\", \"Timber\", \"Timber\", \"Timber\", \"Timber\", \"Timber\", \"Mitchel\", \"Mitchel\", \"Mitchel\", \"Mitchel\", \"MeadowV\", \"MeadowV\", \"MeadowV\", \"MeadowV\", \"MeadowV\", \"MeadowV\", \"MeadowV\", \"Mitchel\", \"Mitchel\", \"Mitchel\", \"Mitchel\", \"Mitchel\", \"Mitchel\", \"Mitchel\", \"Mitchel\", \"NAmes\", \"NAmes\", \"NAmes\", \"Gilbert\", \"Gilbert\", \"Gilbert\", \"Gilbert\", \"Gilbert\", \"StoneBr\", \"StoneBr\", \"StoneBr\", \"StoneBr\", \"Gilbert\", \"Gilbert\", \"Gilbert\", \"Gilbert\", \"Gilbert\", \"Gilbert\", \"Gilbert\", \"Gilbert\", \"Gilbert\", \"Gilbert\", \"Gilbert\", \"Gilbert\", \"StoneBr\", \"StoneBr\", \"StoneBr\", \"StoneBr\", \"Gilbert\", \"NWAmes\", \"NWAmes\", \"NWAmes\", \"NWAmes\", \"NWAmes\", \"NWAmes\", \"NWAmes\", \"NWAmes\", \"NWAmes\", \"NWAmes\", \"NWAmes\", \"NWAmes\", \"NWAmes\", \"Somerst\", \"Somerst\", \"Somerst\", \"Somerst\", \"NWAmes\", \"NWAmes\", \"NWAmes\", \"NWAmes\", \"NWAmes\", \"NAmes\", \"NAmes\", \"NAmes\", \"NAmes\", \"NAmes\", \"NAmes\", \"NAmes\", \"NAmes\", \"NAmes\", \"NAmes\", \"BrDale\", \"BrDale\", \"BrDale\", \"BrDale\", \"BrDale\", \"BrDale\", \"NPkVill\", \"NPkVill\", \"NPkVill\", \"NPkVill\", \"NPkVill\", \"NPkVill\", \"NPkVill\", \"NPkVill\", \"NPkVill\", \"NPkVill\", \"NAmes\", \"NAmes\", \"NridgHt\", \"NridgHt\", \"NridgHt\", \"NridgHt\", \"NridgHt\", \"NridgHt\", \"NridgHt\", \"NridgHt\", \"NridgHt\", \"NridgHt\", \"NridgHt\", \"NridgHt\", \"NridgHt\", \"NridgHt\", \"NridgHt\", \"NridgHt\", \"NridgHt\", \"NridgHt\", \"NridgHt\", \"NridgHt\", \"NridgHt\", \"NridgHt\", \"NridgHt\", \"NridgHt\", \"NridgHt\", \"NridgHt\", \"NridgHt\", \"NridgHt\", \"NridgHt\", \"NridgHt\", \"NridgHt\", \"NridgHt\", \"NridgHt\", \"NridgHt\", \"NridgHt\", \"NridgHt\", \"NridgHt\", \"NridgHt\", \"NridgHt\", \"NridgHt\", \"NridgHt\", \"NridgHt\", \"NridgHt\", \"NridgHt\", \"Gilbert\", \"Gilbert\", \"Gilbert\", \"Gilbert\", \"Blmngtn\", \"Blmngtn\", \"Blmngtn\", \"Blmngtn\", \"Blmngtn\", \"Blmngtn\", \"Gilbert\", \"Gilbert\", \"Gilbert\", \"Gilbert\", \"Gilbert\", \"Gilbert\", \"Gilbert\", \"Gilbert\", \"NridgHt\", \"Gilbert\", \"Gilbert\", \"Gilbert\", \"Gilbert\", \"Gilbert\", \"Gilbert\", \"Gilbert\", \"Gilbert\", \"Gilbert\", \"Gilbert\", \"NoRidge\", \"NoRidge\", \"NoRidge\", \"NoRidge\", \"NoRidge\", \"NoRidge\", \"NoRidge\", \"NoRidge\", \"NoRidge\", \"NoRidge\", \"NoRidge\", \"NoRidge\", \"Somerst\", \"Somerst\", \"Somerst\", \"Somerst\", \"Somerst\", \"Somerst\", \"Somerst\", \"Somerst\", \"Somerst\", \"Somerst\", \"Somerst\", \"Somerst\", \"Somerst\", \"Somerst\", \"Somerst\", \"Somerst\", \"Somerst\", \"Somerst\", \"Somerst\", \"Somerst\", \"Somerst\", \"Somerst\", \"Somerst\", \"Somerst\", \"Somerst\", \"Somerst\", \"SawyerW\", \"SawyerW\", \"SawyerW\", \"SawyerW\", \"SawyerW\", \"SawyerW\", \"SawyerW\", \"SawyerW\", \"SawyerW\", \"SawyerW\", \"SawyerW\", \"SawyerW\", \"SawyerW\", \"SawyerW\", \"SawyerW\", \"SawyerW\", \"SawyerW\", \"SawyerW\", \"SawyerW\", \"SawyerW\", \"Sawyer\", \"Sawyer\", \"Sawyer\", \"Sawyer\", \"Sawyer\", \"Sawyer\", \"Sawyer\", \"Sawyer\", \"Sawyer\", \"Veenker\", \"NoRidge\", \"Somerst\", \"Somerst\", \"Somerst\", \"Somerst\", \"Somerst\", \"Somerst\", \"Somerst\", \"Somerst\", \"Somerst\", \"Veenker\", \"Greens\", \"Veenker\", \"Veenker\", \"Sawyer\", \"NWAmes\", \"NWAmes\", \"NWAmes\", \"NWAmes\", \"NWAmes\", \"NWAmes\", \"NWAmes\", \"NWAmes\", \"NWAmes\", \"NWAmes\", \"NWAmes\", \"NWAmes\", \"NWAmes\", \"NWAmes\", \"NAmes\", \"NAmes\", \"NAmes\", \"NWAmes\", \"NWAmes\", \"NWAmes\", \"NAmes\", \"NAmes\", \"NAmes\", \"NAmes\", \"NAmes\", \"NAmes\", \"NAmes\", \"NAmes\", \"NAmes\", \"NAmes\", \"NAmes\", \"NAmes\", \"NAmes\", \"NAmes\", \"NAmes\", \"BrkSide\", \"BrkSide\", \"NAmes\", \"NAmes\", \"NAmes\", \"NAmes\", \"NAmes\", \"NAmes\", \"NAmes\", \"NAmes\", \"NAmes\", \"NAmes\", \"NAmes\", \"NAmes\", \"NAmes\", \"NAmes\", \"NAmes\", \"NAmes\", \"NAmes\", \"NAmes\", \"NAmes\", \"NAmes\", \"NAmes\", \"NAmes\", \"NAmes\", \"NAmes\", \"NAmes\", \"NAmes\", \"NAmes\", \"NAmes\", \"NAmes\", \"NAmes\", \"NAmes\", \"NAmes\", \"NAmes\", \"NAmes\", \"OldTown\", \"NAmes\", \"NAmes\", \"NAmes\", \"OldTown\", \"OldTown\", \"OldTown\", \"OldTown\", \"OldTown\", \"OldTown\", \"OldTown\", \"OldTown\", \"OldTown\", \"OldTown\", \"OldTown\", \"OldTown\", \"NAmes\", \"NAmes\", \"NAmes\", \"NAmes\", \"NAmes\", \"NAmes\", \"NAmes\", \"NAmes\", \"NAmes\", \"NAmes\", \"NAmes\", \"NAmes\", \"NAmes\", \"NAmes\", \"NAmes\", \"NAmes\", \"NAmes\", \"NAmes\", \"NAmes\", \"NAmes\", \"NAmes\", \"NAmes\", \"NAmes\", \"NAmes\", \"NAmes\", \"OldTown\", \"OldTown\", \"OldTown\", \"OldTown\", \"OldTown\", \"OldTown\", \"OldTown\", \"OldTown\", \"OldTown\", \"OldTown\", \"OldTown\", \"OldTown\", \"OldTown\", \"OldTown\", \"OldTown\", \"OldTown\", \"OldTown\", \"OldTown\", \"OldTown\", \"OldTown\", \"OldTown\", \"OldTown\", \"OldTown\", \"OldTown\", \"OldTown\", \"OldTown\", \"OldTown\", \"OldTown\", \"OldTown\", \"OldTown\", \"OldTown\", \"OldTown\", \"OldTown\", \"OldTown\", \"OldTown\", \"IDOTRR\", \"IDOTRR\", \"BrkSide\", \"BrkSide\", \"BrkSide\", \"BrkSide\", \"BrkSide\", \"BrkSide\", \"BrkSide\", \"BrkSide\", \"BrkSide\", \"BrkSide\", \"BrkSide\", \"BrkSide\", \"BrkSide\", \"BrkSide\", \"BrkSide\", \"BrkSide\", \"BrkSide\", \"BrkSide\", \"BrkSide\", \"BrkSide\", \"BrkSide\", \"OldTown\", \"OldTown\", \"OldTown\", \"OldTown\", \"OldTown\", \"IDOTRR\", \"IDOTRR\", \"OldTown\", \"OldTown\", \"IDOTRR\", \"IDOTRR\", \"IDOTRR\", \"Sawyer\", \"Edwards\", \"Edwards\", \"Edwards\", \"Edwards\", \"Edwards\", \"Edwards\", \"Sawyer\", \"Sawyer\", \"Sawyer\", \"Sawyer\", \"Sawyer\", \"Sawyer\", \"Sawyer\", \"Sawyer\", \"Sawyer\", \"Sawyer\", \"Sawyer\", \"ClearCr\", \"Sawyer\", \"ClearCr\", \"ClearCr\", \"Edwards\", \"Edwards\", \"ClearCr\", \"Edwards\", \"Edwards\", \"Edwards\", \"Edwards\", \"Edwards\", \"Edwards\", \"Edwards\", \"Edwards\", \"Edwards\", \"Edwards\", \"Edwards\", \"Edwards\", \"Edwards\", \"SawyerW\", \"SawyerW\", \"SawyerW\", \"SawyerW\", \"SawyerW\", \"SawyerW\", \"SawyerW\", \"SawyerW\", \"SawyerW\", \"SawyerW\", \"SawyerW\", \"SawyerW\", \"SawyerW\", \"SawyerW\", \"SawyerW\", \"SawyerW\", \"SawyerW\", \"SawyerW\", \"SawyerW\", \"CollgCr\", \"CollgCr\", \"CollgCr\", \"CollgCr\", \"CollgCr\", \"CollgCr\", \"CollgCr\", \"CollgCr\", \"CollgCr\", \"CollgCr\", \"CollgCr\", \"CollgCr\", \"CollgCr\", \"CollgCr\", \"SawyerW\", \"ClearCr\", \"ClearCr\", \"CollgCr\", \"CollgCr\", \"CollgCr\", \"CollgCr\", \"CollgCr\", \"CollgCr\", \"CollgCr\", \"CollgCr\", \"CollgCr\", \"CollgCr\", \"CollgCr\", \"CollgCr\", \"CollgCr\", \"CollgCr\", \"CollgCr\", \"CollgCr\", \"CollgCr\", \"CollgCr\", \"CollgCr\", \"CollgCr\", \"CollgCr\", \"CollgCr\", \"CollgCr\", \"CollgCr\", \"CollgCr\", \"CollgCr\", \"CollgCr\", \"CollgCr\", \"CollgCr\", \"CollgCr\", \"CollgCr\", \"CollgCr\", \"CollgCr\", \"CollgCr\", \"CollgCr\", \"CollgCr\", \"CollgCr\", \"CollgCr\", \"CollgCr\", \"CollgCr\", \"CollgCr\", \"CollgCr\", \"CollgCr\", \"CollgCr\", \"CollgCr\", \"CollgCr\", \"CollgCr\", \"CollgCr\", \"Edwards\", \"Edwards\", \"Edwards\", \"Edwards\", \"Edwards\", \"Edwards\", \"Edwards\", \"Edwards\", \"Edwards\", \"Edwards\", \"Edwards\", \"Edwards\", \"Edwards\", \"Edwards\", \"Edwards\", \"Edwards\", \"Edwards\", \"Edwards\", \"Edwards\", \"Edwards\", \"Edwards\", \"SWISU\", \"SWISU\", \"SWISU\", \"SWISU\", \"SWISU\", \"SWISU\", \"SWISU\", \"Crawfor\", \"SWISU\", \"SWISU\", \"Crawfor\", \"SWISU\", \"Crawfor\", \"Crawfor\", \"Crawfor\", \"Crawfor\", \"Crawfor\", \"Crawfor\", \"Crawfor\", \"Crawfor\", \"Crawfor\", \"Crawfor\", \"Crawfor\", \"Crawfor\", \"Crawfor\", \"Crawfor\", \"Crawfor\", \"Blueste\", \"Blueste\", \"Blueste\", \"Blueste\", \"Crawfor\", \"Crawfor\", \"Crawfor\", \"IDOTRR\", \"IDOTRR\", \"IDOTRR\", \"IDOTRR\", \"IDOTRR\", \"Crawfor\", \"IDOTRR\", \"Mitchel\", \"Mitchel\", \"Mitchel\", \"Mitchel\", \"Mitchel\", \"Mitchel\", \"Mitchel\", \"Mitchel\", \"Mitchel\", \"Timber\", \"Timber\", \"Timber\", \"Timber\", \"Timber\", \"Timber\", \"Timber\", \"Timber\", \"Timber\", \"Timber\", \"Timber\", \"Timber\", \"Timber\", \"Timber\", \"Mitchel\", \"Mitchel\", \"Mitchel\", \"Mitchel\", \"MeadowV\", \"Mitchel\", \"MeadowV\", \"Mitchel\", \"MeadowV\", \"MeadowV\", \"MeadowV\", \"Mitchel\", \"Mitchel\", \"Mitchel\", \"Mitchel\", \"Mitchel\", \"Mitchel\", \"Mitchel\", \"Mitchel\", \"Mitchel\", \"NAmes\", \"NAmes\", \"NAmes\", \"Gilbert\", \"Gilbert\", \"Gilbert\", \"Gilbert\", \"Gilbert\", \"Gilbert\", \"Gilbert\", \"StoneBr\", \"StoneBr\", \"StoneBr\", \"StoneBr\", \"Gilbert\", \"Gilbert\", \"Gilbert\", \"Gilbert\", \"Gilbert\", \"StoneBr\", \"StoneBr\", \"StoneBr\", \"StoneBr\", \"StoneBr\", \"Gilbert\", \"StoneBr\", \"Gilbert\", \"NWAmes\", \"NWAmes\", \"NWAmes\", \"NWAmes\", \"NWAmes\", \"NWAmes\", \"NWAmes\", \"NWAmes\", \"NWAmes\", \"NWAmes\", \"NWAmes\", \"NWAmes\", \"NWAmes\", \"NWAmes\", \"NWAmes\", \"NWAmes\", \"NWAmes\", \"NAmes\", \"NAmes\", \"NAmes\", \"NAmes\", \"NAmes\", \"NAmes\", \"BrDale\", \"BrDale\", \"BrDale\", \"BrDale\", \"BrDale\", \"BrDale\", \"BrDale\", \"NPkVill\", \"NPkVill\", \"NPkVill\", \"NAmes\", \"NridgHt\", \"NridgHt\", \"NridgHt\", \"NridgHt\", \"NridgHt\", \"NridgHt\", \"NridgHt\", \"NridgHt\", \"NridgHt\", \"NridgHt\", \"NridgHt\", \"NridgHt\", \"NridgHt\", \"NridgHt\", \"NridgHt\", \"NridgHt\", \"NridgHt\", \"NridgHt\", \"NridgHt\", \"NridgHt\", \"NridgHt\", \"NridgHt\", \"NridgHt\", \"NridgHt\", \"NridgHt\", \"NridgHt\", \"NridgHt\", \"NridgHt\", \"NridgHt\", \"NridgHt\", \"Blmngtn\", \"Blmngtn\", \"Blmngtn\", \"Blmngtn\", \"Blmngtn\", \"Gilbert\", \"Gilbert\", \"Gilbert\", \"Gilbert\", \"Gilbert\", \"Gilbert\", \"NridgHt\", \"Gilbert\", \"Gilbert\", \"Gilbert\", \"Gilbert\", \"Gilbert\", \"NoRidge\", \"NoRidge\", \"NoRidge\", \"NoRidge\", \"NoRidge\", \"NoRidge\", \"NoRidge\", \"NoRidge\", \"NoRidge\", \"NoRidge\", \"NoRidge\", \"NoRidge\", \"Somerst\", \"Somerst\", \"Somerst\", \"Somerst\", \"Somerst\", \"Somerst\", \"Somerst\", \"Somerst\", \"Somerst\", \"Somerst\", \"Somerst\", \"Somerst\", \"Somerst\", \"Somerst\", \"Somerst\", \"Somerst\", \"Somerst\", \"Somerst\", \"SawyerW\", \"SawyerW\", \"SawyerW\", \"SawyerW\", \"SawyerW\", \"SawyerW\", \"SawyerW\", \"SawyerW\", \"SawyerW\", \"SawyerW\", \"SawyerW\", \"SawyerW\", \"SawyerW\", \"SawyerW\", \"SawyerW\", \"SawyerW\", \"SawyerW\", \"SawyerW\", \"Sawyer\", \"Sawyer\", \"Sawyer\", \"Sawyer\", \"Sawyer\", \"Sawyer\", \"Veenker\", \"Sawyer\", \"NoRidge\", \"NoRidge\", \"Somerst\", \"Somerst\", \"Somerst\", \"Somerst\", \"Somerst\", \"Somerst\", \"Somerst\", \"Somerst\", \"Somerst\", \"Somerst\", \"Somerst\", \"Somerst\", \"Somerst\", \"Somerst\", \"Somerst\", \"Somerst\", \"Somerst\", \"Somerst\", \"Somerst\", \"Veenker\", \"Veenker\", \"Veenker\", \"Veenker\", \"Veenker\", \"Veenker\", \"NWAmes\", \"NWAmes\", \"NWAmes\", \"NWAmes\", \"NWAmes\", \"NWAmes\", \"NWAmes\", \"NAmes\", \"NAmes\", \"NAmes\", \"NAmes\", \"NAmes\", \"NWAmes\", \"NWAmes\", \"NWAmes\", \"NWAmes\", \"NWAmes\", \"NAmes\", \"NWAmes\", \"NAmes\", \"NAmes\", \"NAmes\", \"NAmes\", \"NAmes\", \"NAmes\", \"NAmes\", \"NAmes\", \"NAmes\", \"NAmes\", \"NAmes\", \"NAmes\", \"NAmes\", \"NAmes\", \"NAmes\", \"BrkSide\", \"BrkSide\", \"BrkSide\", \"BrkSide\", \"NAmes\", \"NAmes\", \"NAmes\", \"NAmes\", \"NAmes\", \"NAmes\", \"NAmes\", \"NAmes\", \"NAmes\", \"NAmes\", \"NAmes\", \"NAmes\", \"NAmes\", \"NAmes\", \"NAmes\", \"NAmes\", \"NAmes\", \"NAmes\", \"NAmes\", \"NAmes\", \"NAmes\", \"NAmes\", \"NAmes\", \"NAmes\", \"NAmes\", \"NAmes\", \"NAmes\", \"NAmes\", \"NAmes\", \"NAmes\", \"NAmes\", \"OldTown\", \"OldTown\", \"NAmes\", \"OldTown\", \"OldTown\", \"OldTown\", \"NAmes\", \"NAmes\", \"NAmes\", \"NAmes\", \"NAmes\", \"NAmes\", \"NAmes\", \"NAmes\", \"NAmes\", \"NAmes\", \"NAmes\", \"NAmes\", \"NAmes\", \"NAmes\", \"NAmes\", \"NAmes\", \"NAmes\", \"NAmes\", \"NAmes\", \"NAmes\", \"NAmes\", \"NAmes\", \"NAmes\", \"OldTown\", \"OldTown\", \"OldTown\", \"OldTown\", \"OldTown\", \"OldTown\", \"OldTown\", \"OldTown\", \"OldTown\", \"OldTown\", \"OldTown\", \"OldTown\", \"OldTown\", \"OldTown\", \"OldTown\", \"OldTown\", \"OldTown\", \"OldTown\", \"OldTown\", \"OldTown\", \"OldTown\", \"OldTown\", \"OldTown\", \"OldTown\", \"OldTown\", \"OldTown\", \"OldTown\", \"OldTown\", \"OldTown\", \"OldTown\", \"OldTown\", \"OldTown\", \"OldTown\", \"OldTown\", \"OldTown\", \"OldTown\", \"OldTown\", \"OldTown\", \"OldTown\", \"OldTown\", \"OldTown\", \"OldTown\", \"OldTown\", \"OldTown\", \"BrkSide\", \"BrkSide\", \"BrkSide\", \"BrkSide\", \"BrkSide\", \"BrkSide\", \"BrkSide\", \"BrkSide\", \"BrkSide\", \"BrkSide\", \"BrkSide\", \"BrkSide\", \"BrkSide\", \"BrkSide\", \"BrkSide\", \"BrkSide\", \"BrkSide\", \"BrkSide\", \"OldTown\", \"OldTown\", \"BrkSide\", \"BrkSide\", \"BrkSide\", \"BrkSide\", \"BrkSide\", \"BrkSide\", \"BrkSide\", \"BrkSide\", \"OldTown\", \"OldTown\", \"OldTown\", \"IDOTRR\", \"IDOTRR\", \"IDOTRR\", \"IDOTRR\", \"IDOTRR\", \"IDOTRR\", \"IDOTRR\", \"OldTown\", \"OldTown\", \"IDOTRR\", \"IDOTRR\", \"IDOTRR\", \"Sawyer\", \"Sawyer\", \"Sawyer\", \"ClearCr\", \"Edwards\", \"Sawyer\", \"Sawyer\", \"Sawyer\", \"Sawyer\", \"Sawyer\", \"Sawyer\", \"Sawyer\", \"Sawyer\", \"Sawyer\", \"Sawyer\", \"Sawyer\", \"Sawyer\", \"Sawyer\", \"Sawyer\", \"Sawyer\", \"Sawyer\", \"ClearCr\", \"Sawyer\", \"Sawyer\", \"ClearCr\", \"Sawyer\", \"Sawyer\", \"ClearCr\", \"ClearCr\", \"ClearCr\", \"ClearCr\", \"ClearCr\", \"Edwards\", \"Edwards\", \"Edwards\", \"ClearCr\", \"Edwards\", \"Edwards\", \"Edwards\", \"Edwards\", \"Edwards\", \"Edwards\", \"Edwards\", \"Edwards\", \"Edwards\", \"Edwards\", \"Edwards\", \"SawyerW\", \"SawyerW\", \"SawyerW\", \"SawyerW\", \"SawyerW\", \"CollgCr\", \"CollgCr\", \"CollgCr\", \"CollgCr\", \"SawyerW\", \"SawyerW\", \"ClearCr\", \"ClearCr\", \"CollgCr\", \"CollgCr\", \"CollgCr\", \"CollgCr\", \"CollgCr\", \"CollgCr\", \"CollgCr\", \"CollgCr\", \"CollgCr\", \"CollgCr\", \"CollgCr\", \"CollgCr\", \"CollgCr\", \"CollgCr\", \"CollgCr\", \"CollgCr\", \"CollgCr\", \"CollgCr\", \"CollgCr\", \"CollgCr\", \"CollgCr\", \"CollgCr\", \"CollgCr\", \"CollgCr\", \"CollgCr\", \"CollgCr\", \"CollgCr\", \"CollgCr\", \"CollgCr\", \"CollgCr\", \"CollgCr\", \"CollgCr\", \"CollgCr\", \"CollgCr\", \"CollgCr\", \"CollgCr\", \"CollgCr\", \"CollgCr\", \"CollgCr\", \"CollgCr\", \"CollgCr\", \"CollgCr\", \"CollgCr\", \"CollgCr\", \"CollgCr\", \"CollgCr\", \"CollgCr\", \"CollgCr\", \"CollgCr\", \"CollgCr\", \"CollgCr\", \"CollgCr\", \"CollgCr\", \"Edwards\", \"Edwards\", \"Edwards\", \"Edwards\", \"Edwards\", \"Edwards\", \"Edwards\", \"Edwards\", \"Edwards\", \"Edwards\", \"Edwards\", \"Edwards\", \"Edwards\", \"Edwards\", \"Edwards\", \"Edwards\", \"Edwards\", \"Edwards\", \"Edwards\", \"Edwards\", \"Edwards\", \"Edwards\", \"Edwards\", \"Edwards\", \"Edwards\", \"Edwards\", \"Edwards\", \"Edwards\", \"Edwards\", \"SWISU\", \"SWISU\", \"SWISU\", \"SWISU\", \"SWISU\", \"SWISU\", \"SWISU\", \"SWISU\", \"Crawfor\", \"Crawfor\", \"Crawfor\", \"Crawfor\", \"SWISU\", \"Crawfor\", \"SWISU\", \"Crawfor\", \"Crawfor\", \"Crawfor\", \"Crawfor\", \"Crawfor\", \"Crawfor\", \"Crawfor\", \"Crawfor\", \"Crawfor\", \"Crawfor\", \"Crawfor\", \"Crawfor\", \"Blueste\", \"Blueste\", \"IDOTRR\", \"IDOTRR\", \"IDOTRR\", \"IDOTRR\", \"IDOTRR\", \"IDOTRR\", \"IDOTRR\", \"IDOTRR\", \"IDOTRR\", \"IDOTRR\", \"IDOTRR\", \"IDOTRR\", \"IDOTRR\", \"IDOTRR\", \"IDOTRR\", \"Crawfor\", \"Crawfor\", \"Crawfor\", \"Crawfor\", \"Mitchel\", \"Mitchel\", \"Mitchel\", \"Mitchel\", \"Mitchel\", \"Mitchel\", \"Mitchel\", \"Timber\", \"Timber\", \"Timber\", \"Timber\", \"Timber\", \"Timber\", \"Timber\", \"Timber\", \"Timber\", \"Timber\", \"Timber\", \"Timber\", \"Timber\", \"Timber\", \"Timber\", \"Timber\", \"Timber\", \"Mitchel\", \"Mitchel\", \"Mitchel\", \"Mitchel\", \"Mitchel\", \"MeadowV\", \"MeadowV\", \"MeadowV\", \"MeadowV\", \"MeadowV\", \"Mitchel\", \"MeadowV\", \"MeadowV\", \"Mitchel\", \"Mitchel\", \"Mitchel\", \"Mitchel\", \"Mitchel\", \"Mitchel\", \"Mitchel\", \"Mitchel\", \"Mitchel\", \"IDOTRR\", \"NAmes\", \"NAmes\", \"NAmes\", \"NAmes\", \"Gilbert\", \"Gilbert\", \"Gilbert\", \"Gilbert\", \"Gilbert\", \"StoneBr\", \"Gilbert\", \"Gilbert\", \"Gilbert\", \"Gilbert\", \"Gilbert\", \"Gilbert\", \"Gilbert\", \"Gilbert\", \"Gilbert\", \"Gilbert\", \"StoneBr\", \"StoneBr\", \"StoneBr\", \"StoneBr\", \"StoneBr\", \"StoneBr\", \"StoneBr\", \"Gilbert\", \"StoneBr\", \"StoneBr\", \"StoneBr\", \"StoneBr\", \"NWAmes\", \"NWAmes\", \"NWAmes\", \"NWAmes\", \"NWAmes\", \"NWAmes\", \"NWAmes\", \"NWAmes\", \"NWAmes\", \"NWAmes\", \"NWAmes\", \"NWAmes\", \"NWAmes\", \"NWAmes\", \"NWAmes\", \"NWAmes\", \"NWAmes\", \"NWAmes\", \"NWAmes\", \"NAmes\", \"NAmes\", \"NAmes\", \"NAmes\", \"NAmes\", \"NAmes\", \"NAmes\", \"NAmes\", \"NAmes\", \"NAmes\", \"NAmes\", \"NAmes\", \"NAmes\", \"BrDale\", \"BrDale\", \"BrDale\", \"BrDale\", \"BrDale\", \"NPkVill\", \"NPkVill\", \"NPkVill\", \"NAmes\", \"NridgHt\", \"NridgHt\", \"NridgHt\", \"NridgHt\", \"NridgHt\", \"NridgHt\", \"NridgHt\", \"NridgHt\", \"NridgHt\", \"NridgHt\", \"NridgHt\", \"NridgHt\", \"NridgHt\", \"NridgHt\", \"NridgHt\", \"NridgHt\", \"NridgHt\", \"NridgHt\", \"NridgHt\", \"NridgHt\", \"NridgHt\", \"NridgHt\", \"NridgHt\", \"NridgHt\", \"NridgHt\", \"NridgHt\", \"NridgHt\", \"NridgHt\", \"NridgHt\", \"NridgHt\", \"NridgHt\", \"NridgHt\", \"NridgHt\", \"NridgHt\", \"NridgHt\", \"NridgHt\", \"NridgHt\", \"NridgHt\", \"NridgHt\", \"NridgHt\", \"NridgHt\", \"NridgHt\", \"NridgHt\", \"Gilbert\", \"Gilbert\", \"Gilbert\", \"Gilbert\", \"Gilbert\", \"Gilbert\", \"Gilbert\", \"Gilbert\", \"Gilbert\", \"Gilbert\", \"Gilbert\", \"Gilbert\", \"Gilbert\", \"Blmngtn\", \"Blmngtn\", \"Blmngtn\", \"Blmngtn\", \"Gilbert\", \"Gilbert\", \"Gilbert\", \"Gilbert\", \"Gilbert\", \"Gilbert\", \"Gilbert\", \"Gilbert\", \"Gilbert\", \"Gilbert\", \"Gilbert\", \"Gilbert\", \"Gilbert\", \"Gilbert\", \"NoRidge\", \"NoRidge\", \"NoRidge\", \"NoRidge\", \"NoRidge\", \"NoRidge\", \"NoRidge\", \"NoRidge\", \"NoRidge\", \"NoRidge\", \"NoRidge\", \"NoRidge\", \"NoRidge\", \"NoRidge\", \"NoRidge\", \"Somerst\", \"Somerst\", \"Somerst\", \"Somerst\", \"Somerst\", \"Somerst\", \"Somerst\", \"Somerst\", \"Somerst\", \"Somerst\", \"Somerst\", \"Somerst\", \"Somerst\", \"Somerst\", \"Somerst\", \"Somerst\", \"Somerst\", \"Somerst\", \"Somerst\", \"Somerst\", \"Somerst\", \"Somerst\", \"Somerst\", \"Somerst\", \"Somerst\", \"Somerst\", \"Somerst\", \"Somerst\", \"Somerst\", \"SawyerW\", \"SawyerW\", \"SawyerW\", \"SawyerW\", \"SawyerW\", \"SawyerW\", \"SawyerW\", \"SawyerW\", \"SawyerW\", \"SawyerW\", \"SawyerW\", \"SawyerW\", \"Sawyer\", \"Sawyer\", \"Sawyer\", \"Sawyer\", \"Sawyer\", \"Sawyer\", \"Sawyer\", \"Sawyer\", \"Sawyer\", \"Veenker\", \"Veenker\", \"Sawyer\", \"Sawyer\", \"Sawyer\", \"NoRidge\", \"NoRidge\", \"Somerst\", \"Somerst\", \"Somerst\", \"Somerst\", \"Somerst\", \"Somerst\", \"Somerst\", \"Somerst\", \"Somerst\", \"Somerst\", \"Somerst\", \"Somerst\", \"Somerst\", \"Somerst\", \"Somerst\", \"Somerst\", \"Somerst\", \"Veenker\", \"Veenker\", \"Veenker\", \"Veenker\", \"Greens\", \"Veenker\", \"Veenker\", \"Veenker\", \"Sawyer\", \"Somerst\", \"NWAmes\", \"NWAmes\", \"NWAmes\", \"NWAmes\", \"NWAmes\", \"NWAmes\", \"NWAmes\", \"NWAmes\", \"NWAmes\", \"NWAmes\", \"NWAmes\", \"NAmes\", \"NAmes\", \"NAmes\", \"NAmes\", \"NAmes\", \"NAmes\", \"NAmes\", \"NAmes\", \"NAmes\", \"NAmes\", \"NAmes\", \"NAmes\", \"NAmes\", \"NAmes\", \"NAmes\", \"NAmes\", \"NAmes\", \"NAmes\", \"NAmes\", \"NAmes\", \"NAmes\", \"NAmes\", \"NAmes\", \"NAmes\", \"NAmes\", \"NAmes\", \"NAmes\", \"BrkSide\", \"BrkSide\", \"BrkSide\", \"BrkSide\", \"NAmes\", \"NAmes\", \"NAmes\", \"NAmes\", \"NAmes\", \"NAmes\", \"NAmes\", \"NAmes\", \"NAmes\", \"NAmes\", \"NAmes\", \"NAmes\", \"NAmes\", \"NAmes\", \"NAmes\", \"NAmes\", \"NAmes\", \"NAmes\", \"NAmes\", \"NAmes\", \"NAmes\", \"NAmes\", \"NAmes\", \"NAmes\", \"NAmes\", \"NAmes\", \"NAmes\", \"NAmes\", \"NAmes\", \"NAmes\", \"NAmes\", \"NAmes\", \"NAmes\", \"NAmes\", \"NAmes\", \"NAmes\", \"OldTown\", \"OldTown\", \"NAmes\", \"NAmes\", \"NAmes\", \"OldTown\", \"OldTown\", \"OldTown\", \"OldTown\", \"OldTown\", \"OldTown\", \"NAmes\", \"NAmes\", \"NAmes\", \"NAmes\", \"NAmes\", \"NAmes\", \"NAmes\", \"NAmes\", \"NAmes\", \"NAmes\", \"NAmes\", \"NAmes\", \"NAmes\", \"NAmes\", \"NAmes\", \"NAmes\", \"NAmes\", \"NAmes\", \"NAmes\", \"NAmes\", \"NAmes\", \"OldTown\", \"OldTown\", \"OldTown\", \"OldTown\", \"OldTown\", \"OldTown\", \"OldTown\", \"OldTown\", \"OldTown\", \"OldTown\", \"OldTown\", \"OldTown\", \"OldTown\", \"OldTown\", \"OldTown\", \"OldTown\", \"OldTown\", \"OldTown\", \"OldTown\", \"OldTown\", \"OldTown\", \"OldTown\", \"OldTown\", \"OldTown\", \"OldTown\", \"OldTown\", \"OldTown\", \"OldTown\", \"OldTown\", \"OldTown\", \"OldTown\", \"OldTown\", \"BrkSide\", \"BrkSide\", \"BrkSide\", \"BrkSide\", \"BrkSide\", \"BrkSide\", \"BrkSide\", \"BrkSide\", \"BrkSide\", \"BrkSide\", \"BrkSide\", \"BrkSide\", \"BrkSide\", \"BrkSide\", \"BrkSide\", \"BrkSide\", \"OldTown\", \"BrkSide\", \"BrkSide\", \"BrkSide\", \"BrkSide\", \"OldTown\", \"OldTown\", \"OldTown\", \"OldTown\", \"IDOTRR\", \"IDOTRR\", \"IDOTRR\", \"IDOTRR\", \"IDOTRR\", \"IDOTRR\", \"IDOTRR\", \"IDOTRR\", \"IDOTRR\", \"IDOTRR\", \"OldTown\", \"OldTown\", \"OldTown\", \"IDOTRR\", \"Sawyer\", \"ClearCr\", \"Edwards\", \"SWISU\", \"Sawyer\", \"Sawyer\", \"Sawyer\", \"Sawyer\", \"Sawyer\", \"Sawyer\", \"Sawyer\", \"Sawyer\", \"Sawyer\", \"Sawyer\", \"Sawyer\", \"Sawyer\", \"Sawyer\", \"Sawyer\", \"Sawyer\", \"Sawyer\", \"Sawyer\", \"Sawyer\", \"Sawyer\", \"Sawyer\", \"Sawyer\", \"Sawyer\", \"Sawyer\", \"ClearCr\", \"ClearCr\", \"ClearCr\", \"Edwards\", \"Edwards\", \"Edwards\", \"ClearCr\", \"Edwards\", \"Edwards\", \"SWISU\", \"Edwards\", \"Edwards\", \"Edwards\", \"Edwards\", \"Edwards\", \"Edwards\", \"Edwards\", \"Edwards\", \"SawyerW\", \"SawyerW\", \"SawyerW\", \"SawyerW\", \"SawyerW\", \"SawyerW\", \"SawyerW\", \"CollgCr\", \"CollgCr\", \"CollgCr\", \"CollgCr\", \"CollgCr\", \"CollgCr\", \"CollgCr\", \"CollgCr\", \"CollgCr\", \"CollgCr\", \"CollgCr\", \"CollgCr\", \"CollgCr\", \"CollgCr\", \"CollgCr\", \"CollgCr\", \"CollgCr\", \"SawyerW\", \"SawyerW\", \"ClearCr\", \"ClearCr\", \"ClearCr\", \"ClearCr\", \"CollgCr\", \"CollgCr\", \"CollgCr\", \"CollgCr\", \"CollgCr\", \"CollgCr\", \"CollgCr\", \"CollgCr\", \"CollgCr\", \"CollgCr\", \"CollgCr\", \"CollgCr\", \"CollgCr\", \"CollgCr\", \"CollgCr\", \"CollgCr\", \"CollgCr\", \"CollgCr\", \"CollgCr\", \"CollgCr\", \"CollgCr\", \"CollgCr\", \"CollgCr\", \"CollgCr\", \"CollgCr\", \"CollgCr\", \"CollgCr\", \"CollgCr\", \"CollgCr\", \"CollgCr\", \"CollgCr\", \"CollgCr\", \"CollgCr\", \"CollgCr\", \"CollgCr\", \"CollgCr\", \"CollgCr\", \"CollgCr\", \"CollgCr\", \"CollgCr\", \"CollgCr\", \"CollgCr\", \"CollgCr\", \"CollgCr\", \"CollgCr\", \"CollgCr\", \"CollgCr\", \"CollgCr\", \"Edwards\", \"Edwards\", \"Edwards\", \"Edwards\", \"Edwards\", \"Edwards\", \"Edwards\", \"Edwards\", \"Edwards\", \"Edwards\", \"Edwards\", \"Edwards\", \"Edwards\", \"Edwards\", \"Edwards\", \"Edwards\", \"Edwards\", \"Edwards\", \"Edwards\", \"Edwards\", \"Edwards\", \"Edwards\", \"Edwards\", \"Edwards\", \"Edwards\", \"Edwards\", \"Edwards\", \"SWISU\", \"SWISU\", \"Crawfor\", \"Crawfor\", \"Crawfor\", \"Crawfor\", \"SWISU\", \"Crawfor\", \"Crawfor\", \"Crawfor\", \"Crawfor\", \"Crawfor\", \"Crawfor\", \"Crawfor\", \"Crawfor\", \"Crawfor\", \"Crawfor\", \"Crawfor\", \"Crawfor\", \"Crawfor\", \"Crawfor\", \"Crawfor\", \"Crawfor\", \"Crawfor\", \"Crawfor\", \"Crawfor\", \"Crawfor\", \"Crawfor\", \"Crawfor\", \"Crawfor\", \"Crawfor\", \"Blueste\", \"Crawfor\", \"Blueste\", \"Crawfor\", \"Crawfor\", \"IDOTRR\", \"IDOTRR\", \"IDOTRR\", \"IDOTRR\", \"IDOTRR\", \"IDOTRR\", \"IDOTRR\", \"IDOTRR\", \"IDOTRR\", \"IDOTRR\", \"IDOTRR\", \"IDOTRR\", \"IDOTRR\", \"IDOTRR\", \"Crawfor\", \"Crawfor\", \"Mitchel\", \"Mitchel\", \"Mitchel\", \"Mitchel\", \"Mitchel\", \"Mitchel\", \"Mitchel\", \"Mitchel\", \"Timber\", \"GrnHill\", \"Timber\", \"Timber\", \"Timber\", \"Timber\", \"Timber\", \"Timber\", \"Timber\", \"Timber\", \"Timber\", \"Timber\", \"Timber\", \"Timber\", \"Timber\", \"Timber\", \"Timber\", \"Timber\", \"Timber\", \"Timber\", \"Timber\", \"Mitchel\", \"Mitchel\", \"Mitchel\", \"Mitchel\", \"Mitchel\", \"Mitchel\", \"MeadowV\", \"MeadowV\", \"MeadowV\", \"MeadowV\", \"MeadowV\", \"MeadowV\", \"MeadowV\", \"MeadowV\", \"Mitchel\", \"Mitchel\", \"Mitchel\", \"Mitchel\", \"Mitchel\", \"Mitchel\", \"Mitchel\", \"Mitchel\", \"Mitchel\", \"Mitchel\", \"Mitchel\", \"Mitchel\", \"Mitchel\", \"Mitchel\", \"NAmes\", \"NAmes\", \"NAmes\", \"NAmes\", \"NAmes\", \"Gilbert\", \"Gilbert\", \"Gilbert\", \"Gilbert\", \"Gilbert\", \"Gilbert\", \"Gilbert\", \"Gilbert\", \"Gilbert\", \"Gilbert\", \"Gilbert\", \"Gilbert\", \"StoneBr\", \"Gilbert\", \"Gilbert\", \"Gilbert\", \"StoneBr\", \"StoneBr\", \"StoneBr\", \"StoneBr\", \"StoneBr\", \"StoneBr\", \"StoneBr\", \"StoneBr\", \"StoneBr\", \"StoneBr\", \"StoneBr\", \"Gilbert\", \"Gilbert\", \"StoneBr\", \"StoneBr\", \"StoneBr\", \"NWAmes\", \"NWAmes\", \"NWAmes\", \"NWAmes\", \"NWAmes\", \"NWAmes\", \"NWAmes\", \"NWAmes\", \"NWAmes\", \"NWAmes\", \"NWAmes\", \"Somerst\", \"NWAmes\", \"NWAmes\", \"NWAmes\", \"NWAmes\", \"NWAmes\", \"NAmes\", \"NAmes\", \"NAmes\", \"NAmes\", \"NAmes\", \"BrDale\", \"BrDale\", \"BrDale\", \"BrDale\", \"BrDale\", \"BrDale\", \"BrDale\", \"BrDale\", \"BrDale\", \"NPkVill\", \"NAmes\", \"NAmes\", \"NPkVill\", \"NPkVill\", \"NridgHt\", \"NridgHt\", \"NridgHt\", \"NridgHt\", \"NridgHt\", \"NridgHt\", \"NridgHt\", \"NridgHt\", \"NridgHt\", \"NridgHt\", \"NridgHt\", \"NridgHt\", \"NridgHt\", \"NridgHt\", \"NridgHt\", \"NridgHt\", \"NridgHt\", \"NridgHt\", \"NridgHt\", \"NridgHt\", \"NridgHt\", \"NridgHt\", \"NridgHt\", \"NridgHt\", \"NridgHt\", \"NridgHt\", \"NridgHt\", \"NridgHt\", \"NridgHt\", \"NridgHt\", \"Gilbert\", \"Gilbert\", \"Gilbert\", \"Gilbert\", \"Gilbert\", \"Gilbert\", \"Gilbert\", \"Gilbert\", \"Gilbert\", \"Blmngtn\", \"Blmngtn\", \"Blmngtn\", \"Blmngtn\", \"Blmngtn\", \"Blmngtn\", \"Blmngtn\", \"Blmngtn\", \"Blmngtn\", \"Blmngtn\", \"Blmngtn\", \"Gilbert\", \"Gilbert\", \"Gilbert\", \"Gilbert\", \"Gilbert\", \"Gilbert\", \"Gilbert\", \"Gilbert\", \"Gilbert\", \"Gilbert\", \"Gilbert\", \"Gilbert\", \"NoRidge\", \"NoRidge\", \"NoRidge\", \"NoRidge\", \"NoRidge\", \"NoRidge\", \"NoRidge\", \"NoRidge\", \"NoRidge\", \"NoRidge\", \"NoRidge\", \"NoRidge\", \"Somerst\", \"Somerst\", \"Somerst\", \"Somerst\", \"Somerst\", \"Somerst\", \"Somerst\", \"Somerst\", \"Somerst\", \"Somerst\", \"Somerst\", \"Somerst\", \"Somerst\", \"Somerst\", \"Somerst\", \"SawyerW\", \"SawyerW\", \"SawyerW\", \"SawyerW\", \"SawyerW\", \"SawyerW\", \"SawyerW\", \"SawyerW\", \"SawyerW\", \"SawyerW\", \"SawyerW\", \"SawyerW\", \"SawyerW\", \"SawyerW\", \"SawyerW\", \"Sawyer\", \"Sawyer\", \"Sawyer\", \"Sawyer\", \"Sawyer\", \"Sawyer\", \"Sawyer\", \"Sawyer\", \"Sawyer\", \"Sawyer\", \"Sawyer\", \"Sawyer\", \"Sawyer\", \"Veenker\", \"NoRidge\", \"NoRidge\", \"NoRidge\", \"NoRidge\", \"NoRidge\", \"Somerst\", \"Somerst\", \"Somerst\", \"Somerst\", \"Somerst\", \"Somerst\", \"Somerst\", \"Somerst\", \"Somerst\", \"Somerst\", \"Somerst\", \"Somerst\", \"Veenker\", \"Veenker\", \"Greens\", \"Greens\", \"Greens\", \"Greens\", \"Veenker\", \"NWAmes\", \"NWAmes\", \"NWAmes\", \"NWAmes\", \"NWAmes\", \"NWAmes\", \"NWAmes\", \"NWAmes\", \"NAmes\", \"NAmes\", \"NAmes\", \"NAmes\", \"NAmes\", \"NAmes\", \"NAmes\", \"NAmes\", \"NAmes\", \"NWAmes\", \"NAmes\", \"NAmes\", \"NAmes\", \"NAmes\", \"NAmes\", \"NAmes\", \"NAmes\", \"NAmes\", \"NAmes\", \"NAmes\", \"NAmes\", \"NAmes\", \"NAmes\", \"BrkSide\", \"BrkSide\", \"BrkSide\", \"BrkSide\", \"NAmes\", \"NAmes\", \"NAmes\", \"NAmes\", \"NAmes\", \"NAmes\", \"NAmes\", \"NAmes\", \"NAmes\", \"NAmes\", \"NAmes\", \"NAmes\", \"NAmes\", \"NAmes\", \"NAmes\", \"NAmes\", \"NAmes\", \"NAmes\", \"NAmes\", \"NAmes\", \"NAmes\", \"NAmes\", \"NAmes\", \"NAmes\", \"NAmes\", \"NAmes\", \"NAmes\", \"NAmes\", \"NAmes\", \"NAmes\", \"NAmes\", \"NAmes\", \"NAmes\", \"NAmes\", \"OldTown\", \"NAmes\", \"OldTown\", \"OldTown\", \"OldTown\", \"OldTown\", \"NAmes\", \"OldTown\", \"OldTown\", \"OldTown\", \"OldTown\", \"OldTown\", \"OldTown\", \"OldTown\", \"NAmes\", \"NAmes\", \"NAmes\", \"NAmes\", \"NAmes\", \"NAmes\", \"NAmes\", \"NAmes\", \"NAmes\", \"NAmes\", \"NAmes\", \"NAmes\", \"NAmes\", \"NAmes\", \"NAmes\", \"NAmes\", \"NAmes\", \"NAmes\", \"NAmes\", \"NAmes\", \"NAmes\", \"NAmes\", \"NAmes\", \"NAmes\", \"NAmes\", \"NAmes\", \"NAmes\", \"NAmes\", \"NAmes\", \"OldTown\", \"OldTown\", \"OldTown\", \"OldTown\", \"OldTown\", \"OldTown\", \"OldTown\", \"OldTown\", \"OldTown\", \"OldTown\", \"OldTown\", \"OldTown\", \"OldTown\", \"OldTown\", \"OldTown\", \"OldTown\", \"OldTown\", \"OldTown\", \"OldTown\", \"OldTown\", \"OldTown\", \"OldTown\", \"OldTown\", \"OldTown\", \"OldTown\", \"OldTown\", \"OldTown\", \"OldTown\", \"OldTown\", \"OldTown\", \"OldTown\", \"OldTown\", \"OldTown\", \"OldTown\", \"IDOTRR\", \"BrkSide\", \"BrkSide\", \"BrkSide\", \"BrkSide\", \"OldTown\", \"BrkSide\", \"BrkSide\", \"BrkSide\", \"BrkSide\", \"BrkSide\", \"BrkSide\", \"BrkSide\", \"OldTown\", \"BrkSide\", \"BrkSide\", \"BrkSide\", \"OldTown\", \"BrkSide\", \"OldTown\", \"OldTown\", \"IDOTRR\", \"IDOTRR\", \"IDOTRR\", \"IDOTRR\", \"IDOTRR\", \"IDOTRR\", \"IDOTRR\", \"IDOTRR\", \"Sawyer\", \"Sawyer\", \"Sawyer\", \"ClearCr\", \"Edwards\", \"SWISU\", \"SWISU\", \"Sawyer\", \"Sawyer\", \"Sawyer\", \"Sawyer\", \"Sawyer\", \"Sawyer\", \"Sawyer\", \"Sawyer\", \"Sawyer\", \"Sawyer\", \"Sawyer\", \"Sawyer\", \"Sawyer\", \"Sawyer\", \"Sawyer\", \"Sawyer\", \"Sawyer\", \"Sawyer\", \"Sawyer\", \"Sawyer\", \"ClearCr\", \"ClearCr\", \"ClearCr\", \"Sawyer\", \"Sawyer\", \"ClearCr\", \"ClearCr\", \"Edwards\", \"Edwards\", \"Edwards\", \"Edwards\", \"Edwards\", \"Edwards\", \"Edwards\", \"Edwards\", \"Edwards\", \"Edwards\", \"Edwards\", \"Edwards\", \"Edwards\", \"Edwards\", \"SawyerW\", \"SawyerW\", \"SawyerW\", \"SawyerW\", \"CollgCr\", \"CollgCr\", \"CollgCr\", \"CollgCr\", \"CollgCr\", \"CollgCr\", \"CollgCr\", \"CollgCr\", \"CollgCr\", \"CollgCr\", \"CollgCr\", \"CollgCr\", \"CollgCr\", \"SawyerW\", \"ClearCr\", \"ClearCr\", \"ClearCr\", \"ClearCr\", \"CollgCr\", \"CollgCr\", \"CollgCr\", \"CollgCr\", \"CollgCr\", \"CollgCr\", \"CollgCr\", \"CollgCr\", \"CollgCr\", \"CollgCr\", \"CollgCr\", \"CollgCr\", \"CollgCr\", \"CollgCr\", \"CollgCr\", \"CollgCr\", \"CollgCr\", \"CollgCr\", \"CollgCr\", \"CollgCr\", \"Landmrk\", \"CollgCr\", \"CollgCr\", \"CollgCr\", \"CollgCr\", \"CollgCr\", \"CollgCr\", \"CollgCr\", \"CollgCr\", \"CollgCr\", \"CollgCr\", \"CollgCr\", \"CollgCr\", \"CollgCr\", \"CollgCr\", \"CollgCr\", \"CollgCr\", \"CollgCr\", \"CollgCr\", \"CollgCr\", \"CollgCr\", \"CollgCr\", \"CollgCr\", \"CollgCr\", \"CollgCr\", \"CollgCr\", \"CollgCr\", \"CollgCr\", \"Edwards\", \"Edwards\", \"Edwards\", \"Edwards\", \"Edwards\", \"Edwards\", \"Edwards\", \"Edwards\", \"Edwards\", \"Edwards\", \"Edwards\", \"Edwards\", \"Edwards\", \"Edwards\", \"Edwards\", \"Edwards\", \"Edwards\", \"Edwards\", \"Edwards\", \"Edwards\", \"Edwards\", \"Edwards\", \"Edwards\", \"Edwards\", \"Edwards\", \"SWISU\", \"Edwards\", \"Edwards\", \"SWISU\", \"SWISU\", \"SWISU\", \"SWISU\", \"SWISU\", \"Crawfor\", \"SWISU\", \"SWISU\", \"Crawfor\", \"Crawfor\", \"SWISU\", \"SWISU\", \"Crawfor\", \"Crawfor\", \"Crawfor\", \"Crawfor\", \"Crawfor\", \"Crawfor\", \"Crawfor\", \"Crawfor\", \"Crawfor\", \"Crawfor\", \"Crawfor\", \"Crawfor\", \"Crawfor\", \"Crawfor\", \"Crawfor\", \"IDOTRR\", \"IDOTRR\", \"IDOTRR\", \"IDOTRR\", \"IDOTRR\", \"IDOTRR\", \"IDOTRR\", \"IDOTRR\", \"IDOTRR\", \"IDOTRR\", \"IDOTRR\", \"Crawfor\", \"Crawfor\", \"Mitchel\", \"Mitchel\", \"Mitchel\", \"Mitchel\", \"Mitchel\", \"Mitchel\", \"Timber\", \"GrnHill\", \"Timber\", \"Timber\", \"Timber\", \"Timber\", \"Timber\", \"Timber\", \"Timber\", \"Timber\", \"Timber\", \"Timber\", \"Mitchel\", \"Mitchel\", \"Mitchel\", \"Mitchel\", \"Mitchel\", \"MeadowV\", \"MeadowV\", \"MeadowV\", \"Mitchel\", \"Mitchel\", \"MeadowV\", \"MeadowV\", \"Mitchel\", \"MeadowV\", \"MeadowV\", \"MeadowV\", \"MeadowV\", \"MeadowV\", \"Mitchel\", \"Mitchel\", \"Mitchel\", \"Mitchel\", \"Mitchel\", \"Mitchel\", \"Mitchel\", \"Mitchel\", \"Mitchel\"], \"xaxis\": \"x\", \"y\": [215000, 105000, 172000, 244000, 189900, 195500, 213500, 191500, 236500, 189000, 175900, 185000, 180400, 171500, 212000, 538000, 164000, 394432, 141000, 210000, 190000, 170000, 216000, 149000, 149900, 142000, 126000, 115000, 184000, 96000, 105500, 88000, 127500, 149900, 120000, 146000, 376162, 306000, 395192, 290941, 220000, 275000, 259000, 214000, 611657, 224000, 500000, 320000, 319900, 205000, 175500, 199500, 160000, 192000, 184500, 185088, 180000, 222500, 333168, 355000, 260400, 325000, 290000, 221000, 410000, 221500, 204500, 215200, 262500, 254900, 271500, 233000, 181000, 205000, 143000, 189000, 99500, 125000, 194500, 152000, 171000, 67500, 112000, 148000, 138500, 122000, 133000, 127000, 169000, 190000, 362500, 285000, 260000, 190000, 155000, 151000, 149500, 152000, 222000, 177500, 177000, 155000, 147110, 267916, 254000, 155000, 206000, 130500, 230000, 218500, 243500, 205000, 212500, 196500, 197500, 171000, 142250, 143000, 128950, 159000, 178900, 136300, 180500, 137500, 84900, 142125, 197600, 172500, 116500, 76500, 128000, 153000, 132000, 178000, 154300, 180000, 190000, 135000, 214000, 136000, 165500, 145000, 148000, 142000, 167500, 108538, 159500, 108000, 135000, 122500, 119000, 109000, 105000, 107500, 144900, 129000, 97500, 144000, 162000, 242000, 132000, 154000, 166000, 134800, 160000, 148000, 192000, 155000, 80400, 96500, 109500, 115000, 143000, 107400, 80000, 119000, 130000, 119000, 129000, 100000, 12789, 105900, 150000, 139000, 240000, 76500, 149700, 125500, 122500, 140750, 128500, 209500, 87000, 134000, 128000, 132000, 139900, 123900, 138400, 109500, 140000, 149500, 159900, 122000, 110000, 55000, 140000, 244400, 173000, 107500, 100000, 95000, 93369, 114900, 94000, 136000, 136500, 131500, 121500, 125000, 154000, 137900, 158000, 137250, 160250, 163000, 158900, 328000, 270000, 85000, 128000, 260000, 230000, 124000, 83000, 144500, 129000, 127000, 128000, 186000, 308030, 114000, 84900, 178000, 270000, 218000, 236000, 147000, 245350, 206000, 198900, 187000, 320000, 138500, 155000, 159000, 191000, 200500, 150000, 161750, 128200, 127000, 318000, 272000, 237000, 240000, 224900, 143750, 143000, 232000, 213000, 185500, 84900, 155891, 100000, 144000, 64000, 125200, 107000, 90000, 140000, 113000, 80000, 144500, 104000, 128000, 58500, 127000, 126000, 160000, 100000, 169000, 257500, 215000, 266500, 335000, 203135, 185000, 162500, 289000, 125500, 82000, 110000, 68400, 102776, 55993, 50138, 246000, 254900, 190000, 201000, 169900, 170000, 160000, 220000, 179781, 174000, 269500, 214900, 202900, 378500, 169000, 173500, 139000, 166500, 83500, 119500, 85000, 76000, 75500, 88250, 85500, 130000, 157900, 149900, 159000, 136000, 161000, 285000, 231000, 124500, 157000, 345000, 189500, 270000, 189000, 377500, 168500, 375000, 278000, 240000, 239500, 177500, 185000, 191000, 178000, 185000, 181316, 166000, 178000, 174000, 173000, 225000, 180500, 187500, 501837, 372500, 260000, 185000, 260000, 181000, 82500, 215000, 154000, 200000, 249000, 187500, 184000, 278000, 157000, 152000, 197500, 240900, 263435, 220000, 235000, 213000, 167900, 158000, 165000, 158000, 136000, 148500, 156000, 128000, 143000, 76500, 120500, 124500, 97000, 130000, 111000, 125000, 112000, 97000, 118000, 119500, 143750, 146000, 148500, 123000, 147000, 137900, 147000, 148500, 138000, 128500, 100000, 148800, 337500, 462000, 485000, 555000, 325000, 256300, 253293, 398800, 335000, 404000, 402861, 451950, 610000, 582933, 360000, 296000, 409900, 255500, 335000, 274900, 300000, 324000, 350000, 280000, 284000, 269500, 233170, 386250, 445000, 290000, 255900, 213000, 196000, 184500, 212500, 230000, 552000, 382500, 320000, 248500, 286500, 254000, 173000, 173000, 184000, 167800, 174000, 174000, 174000, 175900, 192500, 181000, 180000, 160200, 188500, 200000, 170000, 189500, 184100, 195500, 192000, 178000, 207500, 236000, 244000, 167000, 179000, 190000, 156000, 245000, 181000, 214000, 168000, 337000, 403000, 327000, 340000, 336000, 265000, 315000, 260000, 260000, 263550, 402000, 248000, 244600, 275000, 257500, 287090, 275500, 245000, 253000, 468000, 252678, 210000, 208300, 229456, 229800, 250000, 370878, 238500, 310000, 270000, 252000, 241000, 264500, 291000, 263000, 185000, 234500, 209000, 159000, 152000, 143500, 193000, 203000, 159000, 142000, 153000, 224243, 220000, 257000, 189000, 171500, 120000, 145000, 184000, 162000, 160000, 82000, 76000, 110000, 135000, 141000, 122000, 124100, 129000, 131400, 62383, 123000, 275000, 235000, 280750, 164500, 173733, 222000, 195000, 172500, 180000, 156000, 172500, 318750, 211500, 241600, 180500, 150000, 154000, 185000, 185750, 200000, 206000, 162000, 256900, 197900, 163000, 113000, 230000, 167900, 213250, 227000, 130000, 143000, 117500, 168500, 172500, 161500, 141500, 118000, 127500, 140000, 177625, 110000, 167000, 153000, 145100, 154000, 177500, 158000, 124500, 174500, 122000, 82500, 110000, 149500, 175000, 167000, 128900, 140000, 147000, 124000, 187500, 159000, 256000, 205000, 193500, 110000, 104900, 150000, 156500, 176000, 149500, 139000, 155000, 120000, 153000, 144000, 176000, 153000, 135000, 131000, 123000, 126000, 115000, 164900, 113000, 145500, 102900, 95000, 152500, 129900, 132000, 99900, 135000, 149000, 114000, 109500, 125000, 142900, 156500, 59000, 105000, 106000, 78500, 190000, 154000, 163000, 200000, 143500, 135000, 153000, 157500, 113500, 133000, 92900, 128500, 90000, 138000, 128000, 139000, 118900, 138000, 132500, 133500, 135000, 144750, 145000, 127000, 109500, 115000, 110000, 128900, 103500, 66500, 130000, 129000, 150000, 107500, 94550, 124500, 135000, 103000, 93000, 129500, 93000, 80000, 45000, 37900, 91300, 99500, 113000, 87500, 110000, 106000, 265979, 160000, 119000, 168000, 58500, 143000, 85000, 124900, 119000, 146500, 34900, 44000, 223500, 149000, 205000, 137000, 121000, 128000, 134900, 117000, 132500, 93000, 119000, 100000, 141500, 133000, 60000, 105000, 115000, 150000, 126500, 214500, 167500, 155000, 155000, 179900, 104000, 62500, 149000, 103000, 123000, 97500, 135000, 70000, 116000, 88750, 179000, 179000, 159900, 61000, 103600, 63000, 175000, 139000, 172500, 113500, 130000, 149900, 134900, 137000, 139000, 165000, 148000, 165000, 63900, 161500, 143000, 135000, 82500, 190000, 139600, 122000, 127500, 121500, 60000, 154400, 113000, 125000, 84000, 139500, 131000, 105000, 108000, 162000, 156500, 316600, 271900, 213000, 239900, 239500, 131000, 118964, 153337, 147983, 118858, 118858, 142953, 148325, 113722, 269500, 269500, 269500, 323262, 297000, 295493, 332000, 239900, 212000, 272500, 239000, 220000, 200000, 221800, 194500, 237000, 173000, 275000, 233500, 185000, 152000, 143000, 231500, 212000, 207000, 145000, 138000, 197900, 204000, 192000, 200000, 195000, 227000, 230000, 187100, 203000, 201000, 124000, 140000, 134900, 150500, 136500, 143500, 133500, 123000, 133900, 133000, 250000, 254750, 236500, 261500, 313000, 211000, 220000, 203000, 279500, 210000, 219500, 191000, 178000, 213000, 144000, 140000, 293200, 190000, 190000, 173500, 170000, 108000, 167000, 100000, 198500, 159500, 127000, 125000, 320000, 145500, 118000, 85000, 120000, 98000, 99900, 82000, 119900, 103500, 112000, 110000, 122000, 117000, 160000, 159434, 60000, 139500, 197000, 105000, 135000, 147500, 137450, 155000, 177000, 145000, 137000, 234000, 205000, 177500, 160000, 155000, 163500, 154900, 205000, 144800, 174500, 193000, 158000, 158500, 224000, 115000, 137000, 121000, 124000, 208000, 315000, 222000, 147000, 123000, 78000, 85000, 75000, 230000, 57625, 251000, 239686, 240000, 215000, 156450, 173000, 126000, 173000, 152000, 137500, 375000, 315500, 224500, 410000, 316500, 201000, 175000, 204000, 213500, 220000, 170000, 315000, 425000, 139500, 115000, 162000, 165000, 91000, 130000, 86000, 160000, 80000, 97000, 88000, 131900, 131250, 165500, 112000, 149000, 143000, 130000, 196000, 173000, 176500, 237500, 206900, 187500, 165000, 195500, 192000, 173000, 177900, 175000, 286000, 247900, 180000, 180000, 181000, 183000, 188000, 194500, 185000, 189000, 188500, 355000, 325000, 387000, 115000, 334000, 133000, 215000, 226500, 175500, 181900, 235000, 220000, 272000, 161000, 175000, 185000, 146900, 292500, 180000, 159900, 205000, 157000, 306000, 133000, 151000, 111900, 123000, 111250, 181000, 103400, 100000, 100500, 106000, 85400, 89500, 111750, 140000, 143000, 148500, 110000, 394617, 426000, 385000, 446261, 317500, 372402, 417500, 383000, 390000, 460000, 379000, 250000, 316000, 615000, 412500, 284000, 284000, 421250, 370000, 336860, 367294, 192000, 274000, 266000, 370967, 234250, 219500, 155000, 154000, 207000, 195000, 219990, 191000, 159895, 187687, 179000, 193000, 190000, 176000, 188000, 213000, 217300, 186500, 226750, 184000, 225000, 185900, 284500, 315000, 250000, 291000, 350000, 279500, 290000, 350000, 341000, 287500, 271000, 301500, 235128, 214000, 232000, 240000, 264132, 245000, 227680, 257000, 297900, 212700, 250580, 226700, 250000, 250000, 339750, 256000, 230348, 207500, 141000, 188000, 192500, 146000, 159000, 155000, 173000, 170000, 182000, 163000, 193500, 189000, 190500, 175000, 179200, 187000, 193000, 153900, 128000, 144000, 135000, 115000, 119916, 142000, 192000, 140000, 290000, 372500, 196000, 171900, 178000, 165000, 146000, 146000, 179400, 172900, 300000, 285000, 290000, 305000, 328900, 160000, 170000, 223000, 170000, 200000, 345000, 245500, 217500, 324000, 162500, 150000, 290000, 174000, 183000, 150000, 145000, 215000, 140500, 240000, 141000, 147000, 135000, 145000, 142600, 135000, 170000, 299800, 185000, 173000, 178400, 176000, 98000, 109008, 135750, 155000, 180500, 174900, 140000, 145000, 179900, 168500, 140000, 145500, 142000, 141000, 153000, 72500, 52000, 118000, 87000, 141500, 119000, 141500, 165500, 112900, 201800, 163000, 139950, 174000, 165000, 227000, 135000, 124000, 140000, 136500, 185000, 163000, 166800, 139000, 166000, 136000, 133000, 116000, 137500, 130000, 180000, 139000, 110000, 100000, 118500, 146000, 89900, 114000, 140000, 86900, 139000, 106250, 171000, 139000, 186000, 157000, 148000, 242000, 116000, 94000, 98300, 127000, 159000, 125900, 155000, 138000, 112500, 105500, 127500, 130000, 150000, 109500, 140000, 167900, 136870, 143000, 73000, 157500, 122600, 111000, 256000, 64000, 139500, 118000, 200000, 119164, 122250, 120000, 155000, 78000, 95000, 115000, 147000, 140000, 46500, 112500, 107900, 65000, 295000, 139500, 153900, 132000, 98000, 114000, 130000, 129500, 129400, 161000, 163000, 128000, 122000, 116900, 325000, 55000, 184000, 110000, 131500, 97000, 115500, 138000, 108000, 79500, 153000, 109500, 124000, 106900, 164900, 119000, 120000, 157000, 105000, 113000, 115000, 123000, 81300, 162900, 150000, 123500, 129900, 128000, 68500, 127000, 207000, 184000, 162500, 145000, 130000, 160000, 161000, 127500, 93850, 136000, 141000, 120000, 127500, 127000, 89500, 125000, 79900, 85000, 82375, 135000, 124000, 134000, 135000, 134432, 127500, 148000, 129500, 157500, 109900, 145000, 130000, 153000, 120000, 152000, 108959, 95541, 80000, 149350, 144900, 185000, 165000, 235000, 140000, 108000, 145000, 152400, 144000, 173000, 192000, 245000, 241500, 256000, 177000, 125600, 155000, 240000, 260000, 185000, 235000, 159900, 99600, 134500, 119000, 107500, 125000, 79000, 95000, 262280, 260000, 226500, 225000, 229000, 177439, 248500, 475000, 395039, 228000, 225000, 195000, 200000, 155000, 144000, 145000, 226001, 215700, 207500, 193000, 188000, 191000, 221000, 231500, 235000, 223500, 130250, 149900, 158000, 147000, 143195, 163000, 110000, 127000, 124900, 230000, 235000, 230500, 230000, 222500, 287000, 274000, 300000, 255900, 224900, 240000, 183000, 207000, 210000, 136500, 145000, 208900, 185000, 214000, 208500, 186500, 210000, 185900, 179900, 218836, 193000, 189000, 149300, 141000, 149000, 144500, 85000, 145900, 123000, 147500, 165000, 135000, 108000, 137500, 165400, 147000, 160500, 176000, 160000, 148000, 82000, 82000, 118000, 82500, 91900, 120000, 96000, 99000, 130500, 135000, 135500, 100000, 108000, 98000, 67000, 135900, 140000, 179500, 136500, 168000, 130000, 189000, 161900, 145000, 191000, 177000, 147500, 91000, 231000, 115000, 138000, 149000, 188700, 198000, 110000, 104000, 257076, 381000, 311500, 263400, 236500, 224000, 116500, 151000, 126000, 120000, 55000, 120500, 120500, 119000, 126000, 99500, 165500, 13100, 89000, 40000, 80900, 81000, 65000, 392500, 294464, 250000, 275000, 300000, 271000, 213000, 171000, 171500, 100000, 228500, 228950, 241500, 287000, 294000, 293077, 264966, 172500, 218689, 150000, 184000, 180000, 175000, 232500, 195000, 305000, 298751, 370000, 209200, 206300, 146000, 160500, 173000, 124000, 115000, 129500, 105000, 94900, 152500, 98000, 81000, 113000, 128500, 119500, 130500, 138000, 134500, 160000, 137500, 172000, 103000, 167300, 167000, 244000, 268000, 225000, 168000, 177000, 169000, 161500, 251000, 160000, 180000, 178750, 176000, 204000, 160000, 160000, 163900, 168000, 154204, 170000, 207500, 182000, 212000, 377426, 349265, 591587, 155000, 319900, 392000, 441929, 455000, 182900, 174000, 178000, 176000, 213000, 192000, 190000, 195000, 148000, 151500, 197000, 192350, 152000, 170000, 175000, 175000, 197900, 174000, 178900, 139000, 143250, 184000, 155000, 133000, 119500, 123000, 110000, 128000, 120500, 133000, 155000, 177000, 113500, 113000, 113700, 106000, 122500, 128000, 155000, 142500, 129250, 356000, 314813, 318000, 322400, 318000, 345474, 415298, 492000, 338931, 450000, 280000, 479069, 395000, 380000, 250000, 440000, 418000, 500067, 260116, 317000, 319500, 325624, 372000, 342000, 354000, 350000, 285000, 281500, 245700, 232698, 250000, 194700, 204000, 200000, 207000, 209500, 209500, 202500, 280000, 277500, 318061, 221370, 200000, 176000, 178900, 168165, 171925, 198444, 203000, 179540, 176485, 181134, 156932, 166000, 177594, 173500, 172500, 194201, 226500, 185485, 259000, 188500, 175000, 215000, 206580, 183500, 211000, 181000, 219500, 175000, 170000, 162000, 187000, 185000, 745000, 384500, 248000, 466500, 410000, 322500, 252000, 755000, 269790, 315750, 290000, 290000, 430000, 263000, 330000, 213133, 260261, 320000, 282922, 215000, 419005, 255000, 147000, 311872, 248328, 227000, 260000, 225000, 249000, 307000, 250000, 221300, 208900, 210400, 255000, 212109, 270000, 303477, 249700, 227875, 261329, 253000, 265000, 340000, 146000, 147000, 149000, 181000, 201000, 191750, 179000, 215000, 179200, 128000, 144000, 144000, 120750, 132500, 132000, 132500, 129000, 143900, 145000, 128500, 125500, 300000, 294000, 129000, 171000, 147000, 302000, 285000, 214000, 166000, 193800, 208900, 194000, 164700, 176500, 176000, 168500, 177000, 177000, 148800, 174000, 239000, 204000, 301000, 312500, 279700, 255000, 194000, 218000, 213750, 187000, 181500, 373000, 190000, 226000, 143450, 240050, 162500, 164000, 185000, 188500, 255000, 136905, 158500, 175500, 127000, 127000, 143000, 156000, 144000, 119000, 103000, 139900, 151500, 126500, 145000, 120000, 124000, 106500, 140500, 137500, 117600, 163500, 161000, 158000, 224500, 147000, 200000, 181900, 150750, 101800, 124000, 138500, 39300, 64500, 64000, 112000, 165000, 144000, 137000, 105000, 146500, 126000, 175000, 158500, 114500, 144000, 129000, 141000, 131000, 142100, 139000, 157900, 139400, 150000, 120000, 174850, 116000, 135000, 163500, 130000, 129500, 142000, 128600, 125000, 136000, 134500, 127000, 130000, 115000, 116900, 132000, 153000, 112500, 138000, 135000, 156000, 301600, 109000, 103200, 128500, 64500, 148000, 86000, 172000, 120000, 128500, 135000, 122900, 119200, 143000, 119000, 102000, 129000, 135000, 152000, 140000, 152000, 156500, 141000, 99000, 187000, 169500, 125500, 130000, 103000, 132000, 127500, 89500, 140000, 99900, 100000, 130000, 135000, 120000, 89471, 85000, 108500, 137000, 110500, 100000, 184900, 145000, 125000, 114000, 90000, 144100, 117500, 124500, 185000, 133900, 152000, 153500, 159500, 87000, 104500, 110000, 136500, 128250, 144000, 210000, 135000, 128000, 131000, 113000, 126000, 132000, 131750, 132500, 137500, 132000, 127500, 102000, 200000, 180500, 165000, 90000, 153575, 140000, 136000, 113000, 117000, 169500, 139400, 202500, 127000, 141000, 212300, 161000, 99500, 101000, 109900, 128500, 122000, 87000, 50000, 219000, 200500, 126000, 108500, 130000, 158450, 115400, 118500, 165000, 123000, 129000, 125000, 108000, 119900, 115000, 134500, 127000, 129000, 143500, 129000, 187000, 158000, 112000, 165250, 150000, 137000, 89500, 302000, 182000, 211000, 216000, 130000, 109900, 255000, 243000, 154000, 118000, 80000, 150000, 86000, 130000, 125000, 136500, 96000, 120000, 228500, 179900, 225000, 301000, 238000, 228500, 220000, 383970, 424870, 250000, 360000, 279500, 200141, 246500, 276000, 203000, 155835, 194000, 195400, 217000, 212999, 175900, 191000, 176432, 277000, 207000, 277000, 240000, 187500, 279000, 139500, 126000, 177500, 175000, 211000, 146000, 147900, 123600, 204750, 235500, 217000, 190550, 217500, 226000, 180000, 131000, 153500, 160000, 134900, 130000, 120000, 112500, 122000, 127000, 117000, 305900, 228500, 270000, 192000, 213000, 200000, 267000, 228000, 275000, 211000, 285000, 240000, 131500, 246900, 219500, 185000, 179400, 213500, 179600, 173500, 167840, 168675, 167000, 140000, 118500, 110000, 94750, 122000, 110000, 118500, 133500, 148000, 141000, 155000, 157000, 171500, 183850, 184750, 140000, 131750, 61500, 111000, 98500, 79000, 108500, 110000, 112000, 125000, 79275, 119000, 200000, 150000, 165000, 96500, 136500, 146500, 175000, 148500, 141500, 189950, 135000, 164000, 90350, 139000, 119750, 145000, 145000, 238000, 153500, 239000, 359100, 188000, 220000, 140000, 315000, 259500, 257500, 219500, 217000, 201000, 215000, 123900, 170000, 200000, 198000, 315000, 115000, 141000, 87000, 129850, 100000, 150909, 75200, 118400, 67000, 152000, 68104, 119600, 140000, 124900, 375000, 235000, 183500, 156000, 134000, 215000, 245000, 210000, 148000, 143000, 244000, 330000, 170000, 257000, 231713, 265900, 239000, 248900, 174000, 187500, 204000, 180500, 187500, 282000, 178000, 270000, 279900, 186700, 283463, 392000, 281213, 147000, 130000, 140000, 132250, 143000, 168000, 129900, 134000, 85500, 106500, 93900, 75000, 84500, 75190, 146800, 153500, 188000, 196000, 157000, 138000, 129500, 80000, 129500, 135000, 124500, 139000, 93500, 124500, 149900, 157500, 169000, 252000, 192100, 183500, 222000, 170000, 187500, 202000, 185000, 320000, 240000, 250000, 239900, 309000, 274725, 270000, 183500, 165600, 176500, 130000, 239000, 275000, 457347, 545224, 356383, 556581, 361919, 535000, 401179, 438780, 169000, 145000, 318000, 319000, 470000, 202500, 229000, 235000, 190000, 169000, 241500, 188900, 207500, 250000, 179900, 172000, 294323, 184500, 153500, 162900, 181000, 155000, 138800, 116050, 88000, 97500, 190000, 105500, 125500, 83000, 116000, 91500, 118000, 89000, 108000, 94500, 146300, 145000, 123000, 137500, 144000, 315000, 412083, 342643, 252000, 293000, 415000, 326000, 325300, 309000, 300000, 275500, 338500, 345000, 298236, 329900, 360000, 281000, 372397, 378000, 374000, 437154, 275000, 279000, 185850, 282500, 202500, 202665, 332200, 310090, 171750, 169990, 170440, 169985, 179665, 219210, 174190, 172785, 258000, 185101, 210250, 234000, 215000, 246990, 178740, 225000, 167240, 156820, 213490, 264561, 246578, 192140, 183200, 178000, 201490, 230500, 180000, 172400, 215000, 199900, 173000, 287602, 230000, 348000, 286000, 300000, 625000, 405000, 280000, 258000, 350000, 584500, 321000, 290000, 315000, 252000, 423000, 290000, 232000, 199000, 198600, 405749, 232600, 266000, 186500, 200825, 197000, 185000, 176000, 187750, 139500, 186800, 132000, 142500, 158000, 184000, 184900, 187000, 175900, 248500, 172000, 151000, 150000, 107000, 119900, 129500, 125000, 119500, 144000, 151000, 126000, 116000, 133500, 120875, 137000, 124000, 135000, 129200, 260000, 260000, 334000, 310000, 268000, 262000, 176400, 197000, 151000, 147400, 149900, 144152, 166000, 183900, 165000, 139000, 200000, 221000, 270000, 165000, 214000, 188000, 190000, 170000, 385000, 146500, 170000, 262500, 179900, 250000, 165150, 164500, 140000, 135500, 142000, 155000, 157500, 138500, 140000, 124400, 158000, 146000, 190000, 136500, 129900, 145000, 185900, 160000, 167000, 157500, 140000, 150000, 151500, 129800, 137000, 137000, 121600, 85500, 79900, 127000, 161000, 146500, 135000, 137900, 133000, 137000, 121000, 119000, 172000, 98600, 226000, 118000, 235000, 135000, 132500, 143000, 132000, 145250, 162000, 148000, 141000, 153000, 134450, 135960, 156000, 140000, 139500, 155000, 127000, 133500, 125000, 142000, 167000, 159000, 180000, 127000, 112000, 99800, 117000, 108480, 68000, 86900, 120000, 155500, 80000, 105000, 160000, 170000, 160000, 159950, 165000, 159000, 147000, 115000, 159500, 120000, 129900, 183000, 157500, 277500, 207500, 147500, 135000, 109500, 109900, 133700, 81400, 87500, 93500, 119000, 141000, 146000, 155000, 134500, 120000, 105000, 124000, 169000, 107000, 135000, 111500, 156500, 178000, 139900, 105000, 110000, 111500, 108000, 111500, 124000, 105000, 116000, 96900, 135500, 139000, 61500, 120000, 126175, 64000, 137000, 87000, 163000, 155000, 79000, 144000, 114504, 157000, 125000, 475000, 93500, 125000, 64500, 100000, 140200, 202500, 159000, 119900, 114500, 115000, 75000, 88000, 80500, 149000, 110000, 110500, 89000, 113000, 109000, 220000, 129000, 117000, 52500, 107000, 116500, 72000, 119500, 125500, 91000, 84500, 90000, 137500, 150000, 131000, 130000, 125000, 80000, 157000, 148000, 90000, 154500, 153600, 164500, 132000, 142500, 158000, 149500, 165000, 180000, 160500, 156500, 157000, 172500, 155000, 170000, 105000, 145000, 168000, 278000, 164000, 225000, 130000, 142500, 148400, 190000, 146000, 128000, 225000, 274970, 235000, 415000, 182000, 135000, 137000, 136900, 149900, 123500, 93000, 91500, 180000, 209000, 215000, 224500, 229800, 183600, 194000, 193879, 221500, 204900, 239799, 233555, 260000, 294900, 209700, 225000, 181000, 220000, 190000, 180000, 280000, 158900, 148000, 145000, 187000, 193000, 156000, 235000, 217000, 214000, 196000, 217000, 200000, 192500, 205000, 132500, 157500, 174000, 128500, 128500, 149900, 119900, 137000, 255000, 222000, 214000, 220000, 275000, 197000, 230000, 268500, 210900, 227000, 237000, 274300, 216837, 133000, 155900, 233230, 207000, 195000, 200000, 203160, 195800, 212900, 196500, 198000, 173900, 163990, 164990, 98000, 149900, 102000, 127500, 127500, 119900, 196500, 229000, 145000, 140000, 142500, 134000, 130000, 130000, 137500, 130000, 97900, 92000, 107000, 81000, 104900, 115000, 125000, 116000, 83000, 118500, 35000, 121000, 160000, 140000, 137000, 128000, 160000, 138887, 149000, 102000, 167000, 200100, 131000, 112000, 140000, 195000, 230000, 194000, 137500, 250000, 218000, 239000, 199500, 210000, 230000, 217500, 257000, 157000, 223000, 102000, 145400, 72000, 85000, 106500, 139000, 108000, 51689, 35311, 115000, 78000, 375000, 300000, 242500, 145000, 209000, 135000, 148000, 171000, 335000, 230000, 250764, 228000, 176000, 180000, 250000, 202000, 312500, 320000, 369900, 359900, 81500, 215000, 164000, 153500, 84500, 104500, 127000, 151400, 126500, 146500, 73000, 79400, 140000, 92000, 87550, 79500, 90500, 71000, 150900, 188000, 160000, 131000, 142500, 131000, 132000, 170000, 188000], \"yaxis\": \"y\"}],\n",
              "                        {\"coloraxis\": {\"colorbar\": {\"title\": {\"text\": \"Lot_Area\"}}, \"colorscale\": [[0.0, \"#0d0887\"], [0.1111111111111111, \"#46039f\"], [0.2222222222222222, \"#7201a8\"], [0.3333333333333333, \"#9c179e\"], [0.4444444444444444, \"#bd3786\"], [0.5555555555555556, \"#d8576b\"], [0.6666666666666666, \"#ed7953\"], [0.7777777777777778, \"#fb9f3a\"], [0.8888888888888888, \"#fdca26\"], [1.0, \"#f0f921\"]]}, \"height\": 600, \"legend\": {\"itemsizing\": \"constant\", \"tracegroupgap\": 0}, \"margin\": {\"t\": 60}, \"template\": {\"data\": {\"bar\": [{\"error_x\": {\"color\": \"#2a3f5f\"}, \"error_y\": {\"color\": \"#2a3f5f\"}, \"marker\": {\"line\": {\"color\": \"#E5ECF6\", \"width\": 0.5}}, \"type\": \"bar\"}], \"barpolar\": [{\"marker\": {\"line\": {\"color\": \"#E5ECF6\", \"width\": 0.5}}, \"type\": \"barpolar\"}], \"carpet\": [{\"aaxis\": {\"endlinecolor\": \"#2a3f5f\", \"gridcolor\": \"white\", \"linecolor\": \"white\", \"minorgridcolor\": \"white\", \"startlinecolor\": \"#2a3f5f\"}, \"baxis\": {\"endlinecolor\": \"#2a3f5f\", \"gridcolor\": \"white\", \"linecolor\": \"white\", \"minorgridcolor\": \"white\", \"startlinecolor\": \"#2a3f5f\"}, \"type\": \"carpet\"}], \"choropleth\": [{\"colorbar\": {\"outlinewidth\": 0, \"ticks\": \"\"}, \"type\": \"choropleth\"}], \"contour\": [{\"colorbar\": {\"outlinewidth\": 0, \"ticks\": \"\"}, \"colorscale\": [[0.0, \"#0d0887\"], [0.1111111111111111, \"#46039f\"], [0.2222222222222222, \"#7201a8\"], [0.3333333333333333, \"#9c179e\"], [0.4444444444444444, \"#bd3786\"], [0.5555555555555556, \"#d8576b\"], [0.6666666666666666, \"#ed7953\"], [0.7777777777777778, \"#fb9f3a\"], [0.8888888888888888, \"#fdca26\"], [1.0, \"#f0f921\"]], \"type\": \"contour\"}], \"contourcarpet\": [{\"colorbar\": {\"outlinewidth\": 0, \"ticks\": \"\"}, \"type\": \"contourcarpet\"}], \"heatmap\": [{\"colorbar\": {\"outlinewidth\": 0, \"ticks\": \"\"}, \"colorscale\": [[0.0, \"#0d0887\"], [0.1111111111111111, \"#46039f\"], [0.2222222222222222, \"#7201a8\"], [0.3333333333333333, \"#9c179e\"], [0.4444444444444444, \"#bd3786\"], [0.5555555555555556, \"#d8576b\"], [0.6666666666666666, \"#ed7953\"], [0.7777777777777778, \"#fb9f3a\"], [0.8888888888888888, \"#fdca26\"], [1.0, \"#f0f921\"]], \"type\": \"heatmap\"}], \"heatmapgl\": [{\"colorbar\": {\"outlinewidth\": 0, \"ticks\": \"\"}, \"colorscale\": [[0.0, \"#0d0887\"], [0.1111111111111111, \"#46039f\"], [0.2222222222222222, \"#7201a8\"], [0.3333333333333333, \"#9c179e\"], [0.4444444444444444, \"#bd3786\"], [0.5555555555555556, \"#d8576b\"], [0.6666666666666666, \"#ed7953\"], [0.7777777777777778, \"#fb9f3a\"], [0.8888888888888888, \"#fdca26\"], [1.0, \"#f0f921\"]], \"type\": \"heatmapgl\"}], \"histogram\": [{\"marker\": {\"colorbar\": {\"outlinewidth\": 0, \"ticks\": \"\"}}, \"type\": \"histogram\"}], \"histogram2d\": [{\"colorbar\": {\"outlinewidth\": 0, \"ticks\": \"\"}, \"colorscale\": [[0.0, \"#0d0887\"], [0.1111111111111111, \"#46039f\"], [0.2222222222222222, \"#7201a8\"], [0.3333333333333333, \"#9c179e\"], [0.4444444444444444, \"#bd3786\"], [0.5555555555555556, \"#d8576b\"], [0.6666666666666666, \"#ed7953\"], [0.7777777777777778, \"#fb9f3a\"], [0.8888888888888888, \"#fdca26\"], [1.0, \"#f0f921\"]], \"type\": \"histogram2d\"}], \"histogram2dcontour\": [{\"colorbar\": {\"outlinewidth\": 0, \"ticks\": \"\"}, \"colorscale\": [[0.0, \"#0d0887\"], [0.1111111111111111, \"#46039f\"], [0.2222222222222222, \"#7201a8\"], [0.3333333333333333, \"#9c179e\"], [0.4444444444444444, \"#bd3786\"], [0.5555555555555556, \"#d8576b\"], [0.6666666666666666, \"#ed7953\"], [0.7777777777777778, \"#fb9f3a\"], [0.8888888888888888, \"#fdca26\"], [1.0, \"#f0f921\"]], \"type\": \"histogram2dcontour\"}], \"mesh3d\": [{\"colorbar\": {\"outlinewidth\": 0, \"ticks\": \"\"}, \"type\": \"mesh3d\"}], \"parcoords\": [{\"line\": {\"colorbar\": {\"outlinewidth\": 0, \"ticks\": \"\"}}, \"type\": \"parcoords\"}], \"scatter\": [{\"marker\": {\"colorbar\": {\"outlinewidth\": 0, \"ticks\": \"\"}}, \"type\": \"scatter\"}], \"scatter3d\": [{\"line\": {\"colorbar\": {\"outlinewidth\": 0, \"ticks\": \"\"}}, \"marker\": {\"colorbar\": {\"outlinewidth\": 0, \"ticks\": \"\"}}, \"type\": \"scatter3d\"}], \"scattercarpet\": [{\"marker\": {\"colorbar\": {\"outlinewidth\": 0, \"ticks\": \"\"}}, \"type\": \"scattercarpet\"}], \"scattergeo\": [{\"marker\": {\"colorbar\": {\"outlinewidth\": 0, \"ticks\": \"\"}}, \"type\": \"scattergeo\"}], \"scattergl\": [{\"marker\": {\"colorbar\": {\"outlinewidth\": 0, \"ticks\": \"\"}}, \"type\": \"scattergl\"}], \"scattermapbox\": [{\"marker\": {\"colorbar\": {\"outlinewidth\": 0, \"ticks\": \"\"}}, \"type\": \"scattermapbox\"}], \"scatterpolar\": [{\"marker\": {\"colorbar\": {\"outlinewidth\": 0, \"ticks\": \"\"}}, \"type\": \"scatterpolar\"}], \"scatterpolargl\": [{\"marker\": {\"colorbar\": {\"outlinewidth\": 0, \"ticks\": \"\"}}, \"type\": \"scatterpolargl\"}], \"scatterternary\": [{\"marker\": {\"colorbar\": {\"outlinewidth\": 0, \"ticks\": \"\"}}, \"type\": \"scatterternary\"}], \"surface\": [{\"colorbar\": {\"outlinewidth\": 0, \"ticks\": \"\"}, \"colorscale\": [[0.0, \"#0d0887\"], [0.1111111111111111, \"#46039f\"], [0.2222222222222222, \"#7201a8\"], [0.3333333333333333, \"#9c179e\"], [0.4444444444444444, \"#bd3786\"], [0.5555555555555556, \"#d8576b\"], [0.6666666666666666, \"#ed7953\"], [0.7777777777777778, \"#fb9f3a\"], [0.8888888888888888, \"#fdca26\"], [1.0, \"#f0f921\"]], \"type\": \"surface\"}], \"table\": [{\"cells\": {\"fill\": {\"color\": \"#EBF0F8\"}, \"line\": {\"color\": \"white\"}}, \"header\": {\"fill\": {\"color\": \"#C8D4E3\"}, \"line\": {\"color\": \"white\"}}, \"type\": \"table\"}]}, \"layout\": {\"annotationdefaults\": {\"arrowcolor\": \"#2a3f5f\", \"arrowhead\": 0, \"arrowwidth\": 1}, \"colorscale\": {\"diverging\": [[0, \"#8e0152\"], [0.1, \"#c51b7d\"], [0.2, \"#de77ae\"], [0.3, \"#f1b6da\"], [0.4, \"#fde0ef\"], [0.5, \"#f7f7f7\"], [0.6, \"#e6f5d0\"], [0.7, \"#b8e186\"], [0.8, \"#7fbc41\"], [0.9, \"#4d9221\"], [1, \"#276419\"]], \"sequential\": [[0.0, \"#0d0887\"], [0.1111111111111111, \"#46039f\"], [0.2222222222222222, \"#7201a8\"], [0.3333333333333333, \"#9c179e\"], [0.4444444444444444, \"#bd3786\"], [0.5555555555555556, \"#d8576b\"], [0.6666666666666666, \"#ed7953\"], [0.7777777777777778, \"#fb9f3a\"], [0.8888888888888888, \"#fdca26\"], [1.0, \"#f0f921\"]], \"sequentialminus\": [[0.0, \"#0d0887\"], [0.1111111111111111, \"#46039f\"], [0.2222222222222222, \"#7201a8\"], [0.3333333333333333, \"#9c179e\"], [0.4444444444444444, \"#bd3786\"], [0.5555555555555556, \"#d8576b\"], [0.6666666666666666, \"#ed7953\"], [0.7777777777777778, \"#fb9f3a\"], [0.8888888888888888, \"#fdca26\"], [1.0, \"#f0f921\"]]}, \"colorway\": [\"#636efa\", \"#EF553B\", \"#00cc96\", \"#ab63fa\", \"#FFA15A\", \"#19d3f3\", \"#FF6692\", \"#B6E880\", \"#FF97FF\", \"#FECB52\"], \"font\": {\"color\": \"#2a3f5f\"}, \"geo\": {\"bgcolor\": \"white\", \"lakecolor\": \"white\", \"landcolor\": \"#E5ECF6\", \"showlakes\": true, \"showland\": true, \"subunitcolor\": \"white\"}, \"hoverlabel\": {\"align\": \"left\"}, \"hovermode\": \"closest\", \"mapbox\": {\"style\": \"light\"}, \"paper_bgcolor\": \"white\", \"plot_bgcolor\": \"#E5ECF6\", \"polar\": {\"angularaxis\": {\"gridcolor\": \"white\", \"linecolor\": \"white\", \"ticks\": \"\"}, \"bgcolor\": \"#E5ECF6\", \"radialaxis\": {\"gridcolor\": \"white\", \"linecolor\": \"white\", \"ticks\": \"\"}}, \"scene\": {\"xaxis\": {\"backgroundcolor\": \"#E5ECF6\", \"gridcolor\": \"white\", \"gridwidth\": 2, \"linecolor\": \"white\", \"showbackground\": true, \"ticks\": \"\", \"zerolinecolor\": \"white\"}, \"yaxis\": {\"backgroundcolor\": \"#E5ECF6\", \"gridcolor\": \"white\", \"gridwidth\": 2, \"linecolor\": \"white\", \"showbackground\": true, \"ticks\": \"\", \"zerolinecolor\": \"white\"}, \"zaxis\": {\"backgroundcolor\": \"#E5ECF6\", \"gridcolor\": \"white\", \"gridwidth\": 2, \"linecolor\": \"white\", \"showbackground\": true, \"ticks\": \"\", \"zerolinecolor\": \"white\"}}, \"shapedefaults\": {\"line\": {\"color\": \"#2a3f5f\"}}, \"ternary\": {\"aaxis\": {\"gridcolor\": \"white\", \"linecolor\": \"white\", \"ticks\": \"\"}, \"baxis\": {\"gridcolor\": \"white\", \"linecolor\": \"white\", \"ticks\": \"\"}, \"bgcolor\": \"#E5ECF6\", \"caxis\": {\"gridcolor\": \"white\", \"linecolor\": \"white\", \"ticks\": \"\"}}, \"title\": {\"x\": 0.05}, \"xaxis\": {\"automargin\": true, \"gridcolor\": \"white\", \"linecolor\": \"white\", \"ticks\": \"\", \"zerolinecolor\": \"white\", \"zerolinewidth\": 2}, \"yaxis\": {\"automargin\": true, \"gridcolor\": \"white\", \"linecolor\": \"white\", \"ticks\": \"\", \"zerolinecolor\": \"white\", \"zerolinewidth\": 2}}}, \"xaxis\": {\"anchor\": \"y\", \"domain\": [0.0, 0.98], \"title\": {\"text\": \"Neighborhood\"}}, \"yaxis\": {\"anchor\": \"x\", \"domain\": [0.0, 1.0], \"title\": {\"text\": \"SalePrice\"}}},\n",
              "                        {\"responsive\": true}\n",
              "                    ).then(function(){\n",
              "                            \n",
              "var gd = document.getElementById('168ee6ad-b51d-47a1-b608-e53e63ac0e6b');\n",
              "var x = new MutationObserver(function (mutations, observer) {{\n",
              "        var display = window.getComputedStyle(gd).display;\n",
              "        if (!display || display === 'none') {{\n",
              "            console.log([gd, 'removed!']);\n",
              "            Plotly.purge(gd);\n",
              "            observer.disconnect();\n",
              "        }}\n",
              "}});\n",
              "\n",
              "// Listen for the removal of the full notebook cells\n",
              "var notebookContainer = gd.closest('#notebook-container');\n",
              "if (notebookContainer) {{\n",
              "    x.observe(notebookContainer, {childList: true});\n",
              "}}\n",
              "\n",
              "// Listen for the clearing of the current output cell\n",
              "var outputEl = gd.closest('.output');\n",
              "if (outputEl) {{\n",
              "    x.observe(outputEl, {childList: true});\n",
              "}}\n",
              "\n",
              "                        })\n",
              "                };\n",
              "                \n",
              "            </script>\n",
              "        </div>\n",
              "</body>\n",
              "</html>"
            ]
          },
          "metadata": {
            "tags": []
          }
        }
      ]
    },
    {
      "cell_type": "markdown",
      "metadata": {
        "id": "tMgRIt4C2IHP",
        "colab_type": "text"
      },
      "source": [
        "#### Finding numeric and non-numeric columns"
      ]
    },
    {
      "cell_type": "code",
      "metadata": {
        "id": "3IBmxT4z2Ld_",
        "colab_type": "code",
        "colab": {
          "base_uri": "https://localhost:8080/",
          "height": 217
        },
        "outputId": "b0abfe75-9d51-4c12-9db6-4a2aca807367"
      },
      "source": [
        "train_nums = train.select_dtypes('number')\n",
        "train_nums.head()"
      ],
      "execution_count": 110,
      "outputs": [
        {
          "output_type": "execute_result",
          "data": {
            "text/html": [
              "<div>\n",
              "<style scoped>\n",
              "    .dataframe tbody tr th:only-of-type {\n",
              "        vertical-align: middle;\n",
              "    }\n",
              "\n",
              "    .dataframe tbody tr th {\n",
              "        vertical-align: top;\n",
              "    }\n",
              "\n",
              "    .dataframe thead th {\n",
              "        text-align: right;\n",
              "    }\n",
              "</style>\n",
              "<table border=\"1\" class=\"dataframe\">\n",
              "  <thead>\n",
              "    <tr style=\"text-align: right;\">\n",
              "      <th></th>\n",
              "      <th>1st_Flr_SF</th>\n",
              "      <th>Bedroom_AbvGr</th>\n",
              "      <th>Bsmt_Full_Bath</th>\n",
              "      <th>Bsmt_Half_Bath</th>\n",
              "      <th>Full_Bath</th>\n",
              "      <th>Gr_Liv_Area</th>\n",
              "      <th>Half_Bath</th>\n",
              "      <th>Kitchen_AbvGr</th>\n",
              "      <th>Lot_Area</th>\n",
              "      <th>MS_SubClass</th>\n",
              "      <th>Mo_Sold</th>\n",
              "      <th>Overall_Cond</th>\n",
              "      <th>Overall_Qual</th>\n",
              "      <th>SalePrice</th>\n",
              "      <th>TotRms_AbvGrd</th>\n",
              "      <th>Year_Built</th>\n",
              "      <th>Year_Remod/Add</th>\n",
              "      <th>Yr_Sold</th>\n",
              "      <th>Predicted</th>\n",
              "      <th>error</th>\n",
              "      <th>Neighborhood_encoded</th>\n",
              "    </tr>\n",
              "  </thead>\n",
              "  <tbody>\n",
              "    <tr>\n",
              "      <th>984</th>\n",
              "      <td>1414</td>\n",
              "      <td>3</td>\n",
              "      <td>1.0</td>\n",
              "      <td>0.0</td>\n",
              "      <td>1</td>\n",
              "      <td>1414</td>\n",
              "      <td>0</td>\n",
              "      <td>1</td>\n",
              "      <td>11029</td>\n",
              "      <td>20</td>\n",
              "      <td>5</td>\n",
              "      <td>8</td>\n",
              "      <td>6</td>\n",
              "      <td>176500</td>\n",
              "      <td>6</td>\n",
              "      <td>1958</td>\n",
              "      <td>2002</td>\n",
              "      <td>2008</td>\n",
              "      <td>182806.219862</td>\n",
              "      <td>6306.219862</td>\n",
              "      <td>15</td>\n",
              "    </tr>\n",
              "    <tr>\n",
              "      <th>985</th>\n",
              "      <td>2117</td>\n",
              "      <td>4</td>\n",
              "      <td>0.0</td>\n",
              "      <td>0.0</td>\n",
              "      <td>2</td>\n",
              "      <td>2117</td>\n",
              "      <td>1</td>\n",
              "      <td>1</td>\n",
              "      <td>12925</td>\n",
              "      <td>20</td>\n",
              "      <td>5</td>\n",
              "      <td>7</td>\n",
              "      <td>6</td>\n",
              "      <td>237500</td>\n",
              "      <td>7</td>\n",
              "      <td>1970</td>\n",
              "      <td>1970</td>\n",
              "      <td>2008</td>\n",
              "      <td>187916.495459</td>\n",
              "      <td>-49583.504541</td>\n",
              "      <td>15</td>\n",
              "    </tr>\n",
              "    <tr>\n",
              "      <th>986</th>\n",
              "      <td>1092</td>\n",
              "      <td>4</td>\n",
              "      <td>0.0</td>\n",
              "      <td>0.0</td>\n",
              "      <td>2</td>\n",
              "      <td>2112</td>\n",
              "      <td>1</td>\n",
              "      <td>1</td>\n",
              "      <td>11075</td>\n",
              "      <td>60</td>\n",
              "      <td>6</td>\n",
              "      <td>5</td>\n",
              "      <td>6</td>\n",
              "      <td>206900</td>\n",
              "      <td>9</td>\n",
              "      <td>1969</td>\n",
              "      <td>1969</td>\n",
              "      <td>2008</td>\n",
              "      <td>182930.203342</td>\n",
              "      <td>-23969.796658</td>\n",
              "      <td>15</td>\n",
              "    </tr>\n",
              "    <tr>\n",
              "      <th>987</th>\n",
              "      <td>926</td>\n",
              "      <td>3</td>\n",
              "      <td>0.0</td>\n",
              "      <td>0.0</td>\n",
              "      <td>2</td>\n",
              "      <td>1604</td>\n",
              "      <td>1</td>\n",
              "      <td>1</td>\n",
              "      <td>8702</td>\n",
              "      <td>60</td>\n",
              "      <td>4</td>\n",
              "      <td>5</td>\n",
              "      <td>6</td>\n",
              "      <td>187500</td>\n",
              "      <td>7</td>\n",
              "      <td>1997</td>\n",
              "      <td>1998</td>\n",
              "      <td>2008</td>\n",
              "      <td>176534.272966</td>\n",
              "      <td>-10965.727034</td>\n",
              "      <td>8</td>\n",
              "    </tr>\n",
              "    <tr>\n",
              "      <th>988</th>\n",
              "      <td>680</td>\n",
              "      <td>3</td>\n",
              "      <td>0.0</td>\n",
              "      <td>0.0</td>\n",
              "      <td>2</td>\n",
              "      <td>1470</td>\n",
              "      <td>1</td>\n",
              "      <td>1</td>\n",
              "      <td>8139</td>\n",
              "      <td>60</td>\n",
              "      <td>10</td>\n",
              "      <td>5</td>\n",
              "      <td>6</td>\n",
              "      <td>165000</td>\n",
              "      <td>7</td>\n",
              "      <td>1995</td>\n",
              "      <td>1996</td>\n",
              "      <td>2008</td>\n",
              "      <td>175016.822987</td>\n",
              "      <td>10016.822987</td>\n",
              "      <td>8</td>\n",
              "    </tr>\n",
              "  </tbody>\n",
              "</table>\n",
              "</div>"
            ],
            "text/plain": [
              "     1st_Flr_SF  Bedroom_AbvGr  ...         error  Neighborhood_encoded\n",
              "984        1414              3  ...   6306.219862                    15\n",
              "985        2117              4  ... -49583.504541                    15\n",
              "986        1092              4  ... -23969.796658                    15\n",
              "987         926              3  ... -10965.727034                     8\n",
              "988         680              3  ...  10016.822987                     8\n",
              "\n",
              "[5 rows x 21 columns]"
            ]
          },
          "metadata": {
            "tags": []
          },
          "execution_count": 110
        }
      ]
    },
    {
      "cell_type": "code",
      "metadata": {
        "id": "Ywzfo0Jm2eHV",
        "colab_type": "code",
        "colab": {
          "base_uri": "https://localhost:8080/",
          "height": 217
        },
        "outputId": "bb283902-7ad9-440e-d0bf-5a3b475ef383"
      },
      "source": [
        "train_cat = train.select_dtypes('object')\n",
        "train_cat.head()"
      ],
      "execution_count": 122,
      "outputs": [
        {
          "output_type": "execute_result",
          "data": {
            "text/html": [
              "<div>\n",
              "<style scoped>\n",
              "    .dataframe tbody tr th:only-of-type {\n",
              "        vertical-align: middle;\n",
              "    }\n",
              "\n",
              "    .dataframe tbody tr th {\n",
              "        vertical-align: top;\n",
              "    }\n",
              "\n",
              "    .dataframe thead th {\n",
              "        text-align: right;\n",
              "    }\n",
              "</style>\n",
              "<table border=\"1\" class=\"dataframe\">\n",
              "  <thead>\n",
              "    <tr style=\"text-align: right;\">\n",
              "      <th></th>\n",
              "      <th>Bldg_Type</th>\n",
              "      <th>Central_Air</th>\n",
              "      <th>Condition_1</th>\n",
              "      <th>Condition_2</th>\n",
              "      <th>Electrical</th>\n",
              "      <th>Exter_Cond</th>\n",
              "      <th>Exter_Qual</th>\n",
              "      <th>Exterior_1st</th>\n",
              "      <th>Exterior_2nd</th>\n",
              "      <th>Foundation</th>\n",
              "      <th>Functional</th>\n",
              "      <th>Heating</th>\n",
              "      <th>Heating_QC</th>\n",
              "      <th>House_Style</th>\n",
              "      <th>Kitchen_Qual</th>\n",
              "      <th>Land_Contour</th>\n",
              "      <th>Land_Slope</th>\n",
              "      <th>Lot_Config</th>\n",
              "      <th>Lot_Shape</th>\n",
              "      <th>MS_Zoning</th>\n",
              "      <th>Mas_Vnr_Type</th>\n",
              "      <th>Neighborhood</th>\n",
              "      <th>Paved_Drive</th>\n",
              "      <th>Roof_Matl</th>\n",
              "      <th>Roof_Style</th>\n",
              "      <th>Sale_Condition</th>\n",
              "      <th>Sale_Type</th>\n",
              "      <th>Street</th>\n",
              "      <th>Utilities</th>\n",
              "    </tr>\n",
              "  </thead>\n",
              "  <tbody>\n",
              "    <tr>\n",
              "      <th>984</th>\n",
              "      <td>1Fam</td>\n",
              "      <td>Y</td>\n",
              "      <td>Norm</td>\n",
              "      <td>Norm</td>\n",
              "      <td>SBrkr</td>\n",
              "      <td>TA</td>\n",
              "      <td>Ex</td>\n",
              "      <td>MetalSd</td>\n",
              "      <td>MetalSd</td>\n",
              "      <td>CBlock</td>\n",
              "      <td>Min1</td>\n",
              "      <td>GasA</td>\n",
              "      <td>Ex</td>\n",
              "      <td>1Story</td>\n",
              "      <td>TA</td>\n",
              "      <td>Lvl</td>\n",
              "      <td>Gtl</td>\n",
              "      <td>Corner</td>\n",
              "      <td>IR1</td>\n",
              "      <td>RL</td>\n",
              "      <td>None</td>\n",
              "      <td>NAmes</td>\n",
              "      <td>Y</td>\n",
              "      <td>CompShg</td>\n",
              "      <td>Hip</td>\n",
              "      <td>Normal</td>\n",
              "      <td>WD</td>\n",
              "      <td>Pave</td>\n",
              "      <td>AllPub</td>\n",
              "    </tr>\n",
              "    <tr>\n",
              "      <th>985</th>\n",
              "      <td>1Fam</td>\n",
              "      <td>Y</td>\n",
              "      <td>Norm</td>\n",
              "      <td>Norm</td>\n",
              "      <td>SBrkr</td>\n",
              "      <td>TA</td>\n",
              "      <td>TA</td>\n",
              "      <td>BrkFace</td>\n",
              "      <td>Plywood</td>\n",
              "      <td>CBlock</td>\n",
              "      <td>Typ</td>\n",
              "      <td>GasA</td>\n",
              "      <td>Ex</td>\n",
              "      <td>1Story</td>\n",
              "      <td>TA</td>\n",
              "      <td>Lvl</td>\n",
              "      <td>Gtl</td>\n",
              "      <td>Corner</td>\n",
              "      <td>IR1</td>\n",
              "      <td>RL</td>\n",
              "      <td>None</td>\n",
              "      <td>NAmes</td>\n",
              "      <td>Y</td>\n",
              "      <td>CompShg</td>\n",
              "      <td>Gable</td>\n",
              "      <td>Normal</td>\n",
              "      <td>WD</td>\n",
              "      <td>Pave</td>\n",
              "      <td>AllPub</td>\n",
              "    </tr>\n",
              "    <tr>\n",
              "      <th>986</th>\n",
              "      <td>1Fam</td>\n",
              "      <td>Y</td>\n",
              "      <td>Norm</td>\n",
              "      <td>Norm</td>\n",
              "      <td>SBrkr</td>\n",
              "      <td>TA</td>\n",
              "      <td>TA</td>\n",
              "      <td>HdBoard</td>\n",
              "      <td>HdBoard</td>\n",
              "      <td>CBlock</td>\n",
              "      <td>Typ</td>\n",
              "      <td>GasA</td>\n",
              "      <td>TA</td>\n",
              "      <td>2Story</td>\n",
              "      <td>TA</td>\n",
              "      <td>Lvl</td>\n",
              "      <td>Gtl</td>\n",
              "      <td>Inside</td>\n",
              "      <td>Reg</td>\n",
              "      <td>RL</td>\n",
              "      <td>None</td>\n",
              "      <td>NAmes</td>\n",
              "      <td>Y</td>\n",
              "      <td>CompShg</td>\n",
              "      <td>Gable</td>\n",
              "      <td>Normal</td>\n",
              "      <td>WD</td>\n",
              "      <td>Pave</td>\n",
              "      <td>AllPub</td>\n",
              "    </tr>\n",
              "    <tr>\n",
              "      <th>987</th>\n",
              "      <td>1Fam</td>\n",
              "      <td>Y</td>\n",
              "      <td>Norm</td>\n",
              "      <td>Norm</td>\n",
              "      <td>SBrkr</td>\n",
              "      <td>TA</td>\n",
              "      <td>TA</td>\n",
              "      <td>VinylSd</td>\n",
              "      <td>VinylSd</td>\n",
              "      <td>PConc</td>\n",
              "      <td>Typ</td>\n",
              "      <td>GasA</td>\n",
              "      <td>Ex</td>\n",
              "      <td>2Story</td>\n",
              "      <td>TA</td>\n",
              "      <td>Lvl</td>\n",
              "      <td>Gtl</td>\n",
              "      <td>Inside</td>\n",
              "      <td>IR1</td>\n",
              "      <td>RL</td>\n",
              "      <td>None</td>\n",
              "      <td>Gilbert</td>\n",
              "      <td>Y</td>\n",
              "      <td>CompShg</td>\n",
              "      <td>Gable</td>\n",
              "      <td>Normal</td>\n",
              "      <td>WD</td>\n",
              "      <td>Pave</td>\n",
              "      <td>AllPub</td>\n",
              "    </tr>\n",
              "    <tr>\n",
              "      <th>988</th>\n",
              "      <td>1Fam</td>\n",
              "      <td>Y</td>\n",
              "      <td>Norm</td>\n",
              "      <td>Norm</td>\n",
              "      <td>SBrkr</td>\n",
              "      <td>TA</td>\n",
              "      <td>TA</td>\n",
              "      <td>VinylSd</td>\n",
              "      <td>VinylSd</td>\n",
              "      <td>PConc</td>\n",
              "      <td>Typ</td>\n",
              "      <td>GasA</td>\n",
              "      <td>Gd</td>\n",
              "      <td>2Story</td>\n",
              "      <td>TA</td>\n",
              "      <td>Lvl</td>\n",
              "      <td>Gtl</td>\n",
              "      <td>Inside</td>\n",
              "      <td>Reg</td>\n",
              "      <td>RL</td>\n",
              "      <td>BrkFace</td>\n",
              "      <td>Gilbert</td>\n",
              "      <td>Y</td>\n",
              "      <td>CompShg</td>\n",
              "      <td>Gable</td>\n",
              "      <td>Normal</td>\n",
              "      <td>WD</td>\n",
              "      <td>Pave</td>\n",
              "      <td>AllPub</td>\n",
              "    </tr>\n",
              "  </tbody>\n",
              "</table>\n",
              "</div>"
            ],
            "text/plain": [
              "    Bldg_Type Central_Air Condition_1  ... Sale_Type Street Utilities\n",
              "984      1Fam           Y        Norm  ...       WD    Pave    AllPub\n",
              "985      1Fam           Y        Norm  ...       WD    Pave    AllPub\n",
              "986      1Fam           Y        Norm  ...       WD    Pave    AllPub\n",
              "987      1Fam           Y        Norm  ...       WD    Pave    AllPub\n",
              "988      1Fam           Y        Norm  ...       WD    Pave    AllPub\n",
              "\n",
              "[5 rows x 29 columns]"
            ]
          },
          "metadata": {
            "tags": []
          },
          "execution_count": 122
        }
      ]
    },
    {
      "cell_type": "code",
      "metadata": {
        "colab_type": "code",
        "outputId": "4b2aca53-fa62-4205-d3dc-fd111b8cfd7b",
        "id": "u_DmJhMr6PZf",
        "colab": {
          "base_uri": "https://localhost:8080/",
          "height": 360
        }
      },
      "source": [
        "from sklearn.preprocessing import LabelEncoder\n",
        "le = LabelEncoder()\n",
        "\n",
        "train['Neighborhood_encoded'] = le.fit_transform(train['Neighborhood']).astype(int)\n",
        "train.head()"
      ],
      "execution_count": 123,
      "outputs": [
        {
          "output_type": "stream",
          "text": [
            "/usr/local/lib/python3.6/dist-packages/ipykernel_launcher.py:4: SettingWithCopyWarning:\n",
            "\n",
            "\n",
            "A value is trying to be set on a copy of a slice from a DataFrame.\n",
            "Try using .loc[row_indexer,col_indexer] = value instead\n",
            "\n",
            "See the caveats in the documentation: http://pandas.pydata.org/pandas-docs/stable/indexing.html#indexing-view-versus-copy\n",
            "\n"
          ],
          "name": "stderr"
        },
        {
          "output_type": "execute_result",
          "data": {
            "text/html": [
              "<div>\n",
              "<style scoped>\n",
              "    .dataframe tbody tr th:only-of-type {\n",
              "        vertical-align: middle;\n",
              "    }\n",
              "\n",
              "    .dataframe tbody tr th {\n",
              "        vertical-align: top;\n",
              "    }\n",
              "\n",
              "    .dataframe thead th {\n",
              "        text-align: right;\n",
              "    }\n",
              "</style>\n",
              "<table border=\"1\" class=\"dataframe\">\n",
              "  <thead>\n",
              "    <tr style=\"text-align: right;\">\n",
              "      <th></th>\n",
              "      <th>1st_Flr_SF</th>\n",
              "      <th>Bedroom_AbvGr</th>\n",
              "      <th>Bldg_Type</th>\n",
              "      <th>Bsmt_Full_Bath</th>\n",
              "      <th>Bsmt_Half_Bath</th>\n",
              "      <th>Central_Air</th>\n",
              "      <th>Condition_1</th>\n",
              "      <th>Condition_2</th>\n",
              "      <th>Electrical</th>\n",
              "      <th>Exter_Cond</th>\n",
              "      <th>Exter_Qual</th>\n",
              "      <th>Exterior_1st</th>\n",
              "      <th>Exterior_2nd</th>\n",
              "      <th>Foundation</th>\n",
              "      <th>Full_Bath</th>\n",
              "      <th>Functional</th>\n",
              "      <th>Gr_Liv_Area</th>\n",
              "      <th>Half_Bath</th>\n",
              "      <th>Heating</th>\n",
              "      <th>Heating_QC</th>\n",
              "      <th>House_Style</th>\n",
              "      <th>Kitchen_AbvGr</th>\n",
              "      <th>Kitchen_Qual</th>\n",
              "      <th>Land_Contour</th>\n",
              "      <th>Land_Slope</th>\n",
              "      <th>Lot_Area</th>\n",
              "      <th>Lot_Config</th>\n",
              "      <th>Lot_Shape</th>\n",
              "      <th>MS_SubClass</th>\n",
              "      <th>MS_Zoning</th>\n",
              "      <th>Mas_Vnr_Type</th>\n",
              "      <th>Mo_Sold</th>\n",
              "      <th>Neighborhood</th>\n",
              "      <th>Overall_Cond</th>\n",
              "      <th>Overall_Qual</th>\n",
              "      <th>Paved_Drive</th>\n",
              "      <th>Roof_Matl</th>\n",
              "      <th>Roof_Style</th>\n",
              "      <th>SalePrice</th>\n",
              "      <th>Sale_Condition</th>\n",
              "      <th>Sale_Type</th>\n",
              "      <th>Street</th>\n",
              "      <th>TotRms_AbvGrd</th>\n",
              "      <th>Utilities</th>\n",
              "      <th>Year_Built</th>\n",
              "      <th>Year_Remod/Add</th>\n",
              "      <th>Yr_Sold</th>\n",
              "      <th>Predicted</th>\n",
              "      <th>error</th>\n",
              "      <th>Neighborhood_encoded</th>\n",
              "    </tr>\n",
              "  </thead>\n",
              "  <tbody>\n",
              "    <tr>\n",
              "      <th>984</th>\n",
              "      <td>1414</td>\n",
              "      <td>3</td>\n",
              "      <td>1Fam</td>\n",
              "      <td>1.0</td>\n",
              "      <td>0.0</td>\n",
              "      <td>Y</td>\n",
              "      <td>Norm</td>\n",
              "      <td>Norm</td>\n",
              "      <td>SBrkr</td>\n",
              "      <td>TA</td>\n",
              "      <td>Ex</td>\n",
              "      <td>MetalSd</td>\n",
              "      <td>MetalSd</td>\n",
              "      <td>CBlock</td>\n",
              "      <td>1</td>\n",
              "      <td>Min1</td>\n",
              "      <td>1414</td>\n",
              "      <td>0</td>\n",
              "      <td>GasA</td>\n",
              "      <td>Ex</td>\n",
              "      <td>1Story</td>\n",
              "      <td>1</td>\n",
              "      <td>TA</td>\n",
              "      <td>Lvl</td>\n",
              "      <td>Gtl</td>\n",
              "      <td>11029</td>\n",
              "      <td>Corner</td>\n",
              "      <td>IR1</td>\n",
              "      <td>20</td>\n",
              "      <td>RL</td>\n",
              "      <td>None</td>\n",
              "      <td>5</td>\n",
              "      <td>NAmes</td>\n",
              "      <td>8</td>\n",
              "      <td>6</td>\n",
              "      <td>Y</td>\n",
              "      <td>CompShg</td>\n",
              "      <td>Hip</td>\n",
              "      <td>176500</td>\n",
              "      <td>Normal</td>\n",
              "      <td>WD</td>\n",
              "      <td>Pave</td>\n",
              "      <td>6</td>\n",
              "      <td>AllPub</td>\n",
              "      <td>1958</td>\n",
              "      <td>2002</td>\n",
              "      <td>2008</td>\n",
              "      <td>182806.219862</td>\n",
              "      <td>6306.219862</td>\n",
              "      <td>15</td>\n",
              "    </tr>\n",
              "    <tr>\n",
              "      <th>985</th>\n",
              "      <td>2117</td>\n",
              "      <td>4</td>\n",
              "      <td>1Fam</td>\n",
              "      <td>0.0</td>\n",
              "      <td>0.0</td>\n",
              "      <td>Y</td>\n",
              "      <td>Norm</td>\n",
              "      <td>Norm</td>\n",
              "      <td>SBrkr</td>\n",
              "      <td>TA</td>\n",
              "      <td>TA</td>\n",
              "      <td>BrkFace</td>\n",
              "      <td>Plywood</td>\n",
              "      <td>CBlock</td>\n",
              "      <td>2</td>\n",
              "      <td>Typ</td>\n",
              "      <td>2117</td>\n",
              "      <td>1</td>\n",
              "      <td>GasA</td>\n",
              "      <td>Ex</td>\n",
              "      <td>1Story</td>\n",
              "      <td>1</td>\n",
              "      <td>TA</td>\n",
              "      <td>Lvl</td>\n",
              "      <td>Gtl</td>\n",
              "      <td>12925</td>\n",
              "      <td>Corner</td>\n",
              "      <td>IR1</td>\n",
              "      <td>20</td>\n",
              "      <td>RL</td>\n",
              "      <td>None</td>\n",
              "      <td>5</td>\n",
              "      <td>NAmes</td>\n",
              "      <td>7</td>\n",
              "      <td>6</td>\n",
              "      <td>Y</td>\n",
              "      <td>CompShg</td>\n",
              "      <td>Gable</td>\n",
              "      <td>237500</td>\n",
              "      <td>Normal</td>\n",
              "      <td>WD</td>\n",
              "      <td>Pave</td>\n",
              "      <td>7</td>\n",
              "      <td>AllPub</td>\n",
              "      <td>1970</td>\n",
              "      <td>1970</td>\n",
              "      <td>2008</td>\n",
              "      <td>187916.495459</td>\n",
              "      <td>-49583.504541</td>\n",
              "      <td>15</td>\n",
              "    </tr>\n",
              "    <tr>\n",
              "      <th>986</th>\n",
              "      <td>1092</td>\n",
              "      <td>4</td>\n",
              "      <td>1Fam</td>\n",
              "      <td>0.0</td>\n",
              "      <td>0.0</td>\n",
              "      <td>Y</td>\n",
              "      <td>Norm</td>\n",
              "      <td>Norm</td>\n",
              "      <td>SBrkr</td>\n",
              "      <td>TA</td>\n",
              "      <td>TA</td>\n",
              "      <td>HdBoard</td>\n",
              "      <td>HdBoard</td>\n",
              "      <td>CBlock</td>\n",
              "      <td>2</td>\n",
              "      <td>Typ</td>\n",
              "      <td>2112</td>\n",
              "      <td>1</td>\n",
              "      <td>GasA</td>\n",
              "      <td>TA</td>\n",
              "      <td>2Story</td>\n",
              "      <td>1</td>\n",
              "      <td>TA</td>\n",
              "      <td>Lvl</td>\n",
              "      <td>Gtl</td>\n",
              "      <td>11075</td>\n",
              "      <td>Inside</td>\n",
              "      <td>Reg</td>\n",
              "      <td>60</td>\n",
              "      <td>RL</td>\n",
              "      <td>None</td>\n",
              "      <td>6</td>\n",
              "      <td>NAmes</td>\n",
              "      <td>5</td>\n",
              "      <td>6</td>\n",
              "      <td>Y</td>\n",
              "      <td>CompShg</td>\n",
              "      <td>Gable</td>\n",
              "      <td>206900</td>\n",
              "      <td>Normal</td>\n",
              "      <td>WD</td>\n",
              "      <td>Pave</td>\n",
              "      <td>9</td>\n",
              "      <td>AllPub</td>\n",
              "      <td>1969</td>\n",
              "      <td>1969</td>\n",
              "      <td>2008</td>\n",
              "      <td>182930.203342</td>\n",
              "      <td>-23969.796658</td>\n",
              "      <td>15</td>\n",
              "    </tr>\n",
              "    <tr>\n",
              "      <th>987</th>\n",
              "      <td>926</td>\n",
              "      <td>3</td>\n",
              "      <td>1Fam</td>\n",
              "      <td>0.0</td>\n",
              "      <td>0.0</td>\n",
              "      <td>Y</td>\n",
              "      <td>Norm</td>\n",
              "      <td>Norm</td>\n",
              "      <td>SBrkr</td>\n",
              "      <td>TA</td>\n",
              "      <td>TA</td>\n",
              "      <td>VinylSd</td>\n",
              "      <td>VinylSd</td>\n",
              "      <td>PConc</td>\n",
              "      <td>2</td>\n",
              "      <td>Typ</td>\n",
              "      <td>1604</td>\n",
              "      <td>1</td>\n",
              "      <td>GasA</td>\n",
              "      <td>Ex</td>\n",
              "      <td>2Story</td>\n",
              "      <td>1</td>\n",
              "      <td>TA</td>\n",
              "      <td>Lvl</td>\n",
              "      <td>Gtl</td>\n",
              "      <td>8702</td>\n",
              "      <td>Inside</td>\n",
              "      <td>IR1</td>\n",
              "      <td>60</td>\n",
              "      <td>RL</td>\n",
              "      <td>None</td>\n",
              "      <td>4</td>\n",
              "      <td>Gilbert</td>\n",
              "      <td>5</td>\n",
              "      <td>6</td>\n",
              "      <td>Y</td>\n",
              "      <td>CompShg</td>\n",
              "      <td>Gable</td>\n",
              "      <td>187500</td>\n",
              "      <td>Normal</td>\n",
              "      <td>WD</td>\n",
              "      <td>Pave</td>\n",
              "      <td>7</td>\n",
              "      <td>AllPub</td>\n",
              "      <td>1997</td>\n",
              "      <td>1998</td>\n",
              "      <td>2008</td>\n",
              "      <td>176534.272966</td>\n",
              "      <td>-10965.727034</td>\n",
              "      <td>8</td>\n",
              "    </tr>\n",
              "    <tr>\n",
              "      <th>988</th>\n",
              "      <td>680</td>\n",
              "      <td>3</td>\n",
              "      <td>1Fam</td>\n",
              "      <td>0.0</td>\n",
              "      <td>0.0</td>\n",
              "      <td>Y</td>\n",
              "      <td>Norm</td>\n",
              "      <td>Norm</td>\n",
              "      <td>SBrkr</td>\n",
              "      <td>TA</td>\n",
              "      <td>TA</td>\n",
              "      <td>VinylSd</td>\n",
              "      <td>VinylSd</td>\n",
              "      <td>PConc</td>\n",
              "      <td>2</td>\n",
              "      <td>Typ</td>\n",
              "      <td>1470</td>\n",
              "      <td>1</td>\n",
              "      <td>GasA</td>\n",
              "      <td>Gd</td>\n",
              "      <td>2Story</td>\n",
              "      <td>1</td>\n",
              "      <td>TA</td>\n",
              "      <td>Lvl</td>\n",
              "      <td>Gtl</td>\n",
              "      <td>8139</td>\n",
              "      <td>Inside</td>\n",
              "      <td>Reg</td>\n",
              "      <td>60</td>\n",
              "      <td>RL</td>\n",
              "      <td>BrkFace</td>\n",
              "      <td>10</td>\n",
              "      <td>Gilbert</td>\n",
              "      <td>5</td>\n",
              "      <td>6</td>\n",
              "      <td>Y</td>\n",
              "      <td>CompShg</td>\n",
              "      <td>Gable</td>\n",
              "      <td>165000</td>\n",
              "      <td>Normal</td>\n",
              "      <td>WD</td>\n",
              "      <td>Pave</td>\n",
              "      <td>7</td>\n",
              "      <td>AllPub</td>\n",
              "      <td>1995</td>\n",
              "      <td>1996</td>\n",
              "      <td>2008</td>\n",
              "      <td>175016.822987</td>\n",
              "      <td>10016.822987</td>\n",
              "      <td>8</td>\n",
              "    </tr>\n",
              "  </tbody>\n",
              "</table>\n",
              "</div>"
            ],
            "text/plain": [
              "     1st_Flr_SF  Bedroom_AbvGr  ...         error  Neighborhood_encoded\n",
              "984        1414              3  ...   6306.219862                    15\n",
              "985        2117              4  ... -49583.504541                    15\n",
              "986        1092              4  ... -23969.796658                    15\n",
              "987         926              3  ... -10965.727034                     8\n",
              "988         680              3  ...  10016.822987                     8\n",
              "\n",
              "[5 rows x 50 columns]"
            ]
          },
          "metadata": {
            "tags": []
          },
          "execution_count": 123
        }
      ]
    },
    {
      "cell_type": "code",
      "metadata": {
        "id": "JQf9iwzf_uWh",
        "colab_type": "code",
        "colab": {}
      },
      "source": [
        "# set features matrix and target vector\n",
        "features = ['Lot_Area', 'TotRms_AbvGrd', 'Lot_Area', 'Neighborhood_encoded']\n",
        "target = 'SalePrice'\n",
        "\n",
        "# set X and y\n",
        "X = train[features]\n",
        "y = train[target]"
      ],
      "execution_count": 0,
      "outputs": []
    },
    {
      "cell_type": "markdown",
      "metadata": {
        "id": "zDT-gSl_-Gwh",
        "colab_type": "text"
      },
      "source": [
        "## 2.4. Do one-hot encoding\n",
        "\n",
        "Encode your categorical feature(s)."
      ]
    },
    {
      "cell_type": "code",
      "metadata": {
        "id": "Rrj698Q49Ckr",
        "colab_type": "code",
        "colab": {
          "base_uri": "https://localhost:8080/",
          "height": 532
        },
        "outputId": "753c6ce4-79a9-4b95-b38b-dcfa02799b1c"
      },
      "source": [
        "train_cat_mask = train_cat.dtypes == object\n",
        "categorical_cols = train_cat.columns[train_cat_mask].tolist()\n",
        "categorical_cols"
      ],
      "execution_count": 125,
      "outputs": [
        {
          "output_type": "execute_result",
          "data": {
            "text/plain": [
              "['Bldg_Type',\n",
              " 'Central_Air',\n",
              " 'Condition_1',\n",
              " 'Condition_2',\n",
              " 'Electrical',\n",
              " 'Exter_Cond',\n",
              " 'Exter_Qual',\n",
              " 'Exterior_1st',\n",
              " 'Exterior_2nd',\n",
              " 'Foundation',\n",
              " 'Functional',\n",
              " 'Heating',\n",
              " 'Heating_QC',\n",
              " 'House_Style',\n",
              " 'Kitchen_Qual',\n",
              " 'Land_Contour',\n",
              " 'Land_Slope',\n",
              " 'Lot_Config',\n",
              " 'Lot_Shape',\n",
              " 'MS_Zoning',\n",
              " 'Mas_Vnr_Type',\n",
              " 'Neighborhood',\n",
              " 'Paved_Drive',\n",
              " 'Roof_Matl',\n",
              " 'Roof_Style',\n",
              " 'Sale_Condition',\n",
              " 'Sale_Type',\n",
              " 'Street',\n",
              " 'Utilities']"
            ]
          },
          "metadata": {
            "tags": []
          },
          "execution_count": 125
        }
      ]
    },
    {
      "cell_type": "code",
      "metadata": {
        "id": "iqRywy6M7Jcr",
        "colab_type": "code",
        "colab": {
          "base_uri": "https://localhost:8080/",
          "height": 360
        },
        "outputId": "146b4271-06dd-4aaa-e6ce-70266752ca3f"
      },
      "source": [
        "from sklearn.preprocessing import OneHotEncoder\n",
        "\n",
        "train_cat_cols = train_cat.columns.to_list()\n",
        "train_cat[categorical_cols] = train_cat[categorical_cols].apply(lambda col: le.fit_transform(col))\n",
        "train_cat[categorical_cols].head()\n"
      ],
      "execution_count": 126,
      "outputs": [
        {
          "output_type": "stream",
          "text": [
            "/usr/local/lib/python3.6/dist-packages/pandas/core/frame.py:3391: SettingWithCopyWarning:\n",
            "\n",
            "\n",
            "A value is trying to be set on a copy of a slice from a DataFrame.\n",
            "Try using .loc[row_indexer,col_indexer] = value instead\n",
            "\n",
            "See the caveats in the documentation: http://pandas.pydata.org/pandas-docs/stable/indexing.html#indexing-view-versus-copy\n",
            "\n"
          ],
          "name": "stderr"
        },
        {
          "output_type": "execute_result",
          "data": {
            "text/html": [
              "<div>\n",
              "<style scoped>\n",
              "    .dataframe tbody tr th:only-of-type {\n",
              "        vertical-align: middle;\n",
              "    }\n",
              "\n",
              "    .dataframe tbody tr th {\n",
              "        vertical-align: top;\n",
              "    }\n",
              "\n",
              "    .dataframe thead th {\n",
              "        text-align: right;\n",
              "    }\n",
              "</style>\n",
              "<table border=\"1\" class=\"dataframe\">\n",
              "  <thead>\n",
              "    <tr style=\"text-align: right;\">\n",
              "      <th></th>\n",
              "      <th>Bldg_Type</th>\n",
              "      <th>Central_Air</th>\n",
              "      <th>Condition_1</th>\n",
              "      <th>Condition_2</th>\n",
              "      <th>Electrical</th>\n",
              "      <th>Exter_Cond</th>\n",
              "      <th>Exter_Qual</th>\n",
              "      <th>Exterior_1st</th>\n",
              "      <th>Exterior_2nd</th>\n",
              "      <th>Foundation</th>\n",
              "      <th>Functional</th>\n",
              "      <th>Heating</th>\n",
              "      <th>Heating_QC</th>\n",
              "      <th>House_Style</th>\n",
              "      <th>Kitchen_Qual</th>\n",
              "      <th>Land_Contour</th>\n",
              "      <th>Land_Slope</th>\n",
              "      <th>Lot_Config</th>\n",
              "      <th>Lot_Shape</th>\n",
              "      <th>MS_Zoning</th>\n",
              "      <th>Mas_Vnr_Type</th>\n",
              "      <th>Neighborhood</th>\n",
              "      <th>Paved_Drive</th>\n",
              "      <th>Roof_Matl</th>\n",
              "      <th>Roof_Style</th>\n",
              "      <th>Sale_Condition</th>\n",
              "      <th>Sale_Type</th>\n",
              "      <th>Street</th>\n",
              "      <th>Utilities</th>\n",
              "    </tr>\n",
              "  </thead>\n",
              "  <tbody>\n",
              "    <tr>\n",
              "      <th>984</th>\n",
              "      <td>0</td>\n",
              "      <td>1</td>\n",
              "      <td>2</td>\n",
              "      <td>2</td>\n",
              "      <td>4</td>\n",
              "      <td>4</td>\n",
              "      <td>0</td>\n",
              "      <td>8</td>\n",
              "      <td>7</td>\n",
              "      <td>1</td>\n",
              "      <td>2</td>\n",
              "      <td>1</td>\n",
              "      <td>0</td>\n",
              "      <td>2</td>\n",
              "      <td>3</td>\n",
              "      <td>3</td>\n",
              "      <td>0</td>\n",
              "      <td>0</td>\n",
              "      <td>0</td>\n",
              "      <td>5</td>\n",
              "      <td>3</td>\n",
              "      <td>15</td>\n",
              "      <td>2</td>\n",
              "      <td>1</td>\n",
              "      <td>3</td>\n",
              "      <td>4</td>\n",
              "      <td>9</td>\n",
              "      <td>1</td>\n",
              "      <td>0</td>\n",
              "    </tr>\n",
              "    <tr>\n",
              "      <th>985</th>\n",
              "      <td>0</td>\n",
              "      <td>1</td>\n",
              "      <td>2</td>\n",
              "      <td>2</td>\n",
              "      <td>4</td>\n",
              "      <td>4</td>\n",
              "      <td>3</td>\n",
              "      <td>3</td>\n",
              "      <td>9</td>\n",
              "      <td>1</td>\n",
              "      <td>7</td>\n",
              "      <td>1</td>\n",
              "      <td>0</td>\n",
              "      <td>2</td>\n",
              "      <td>3</td>\n",
              "      <td>3</td>\n",
              "      <td>0</td>\n",
              "      <td>0</td>\n",
              "      <td>0</td>\n",
              "      <td>5</td>\n",
              "      <td>3</td>\n",
              "      <td>15</td>\n",
              "      <td>2</td>\n",
              "      <td>1</td>\n",
              "      <td>1</td>\n",
              "      <td>4</td>\n",
              "      <td>9</td>\n",
              "      <td>1</td>\n",
              "      <td>0</td>\n",
              "    </tr>\n",
              "    <tr>\n",
              "      <th>986</th>\n",
              "      <td>0</td>\n",
              "      <td>1</td>\n",
              "      <td>2</td>\n",
              "      <td>2</td>\n",
              "      <td>4</td>\n",
              "      <td>4</td>\n",
              "      <td>3</td>\n",
              "      <td>6</td>\n",
              "      <td>5</td>\n",
              "      <td>1</td>\n",
              "      <td>7</td>\n",
              "      <td>1</td>\n",
              "      <td>4</td>\n",
              "      <td>5</td>\n",
              "      <td>3</td>\n",
              "      <td>3</td>\n",
              "      <td>0</td>\n",
              "      <td>4</td>\n",
              "      <td>3</td>\n",
              "      <td>5</td>\n",
              "      <td>3</td>\n",
              "      <td>15</td>\n",
              "      <td>2</td>\n",
              "      <td>1</td>\n",
              "      <td>1</td>\n",
              "      <td>4</td>\n",
              "      <td>9</td>\n",
              "      <td>1</td>\n",
              "      <td>0</td>\n",
              "    </tr>\n",
              "    <tr>\n",
              "      <th>987</th>\n",
              "      <td>0</td>\n",
              "      <td>1</td>\n",
              "      <td>2</td>\n",
              "      <td>2</td>\n",
              "      <td>4</td>\n",
              "      <td>4</td>\n",
              "      <td>3</td>\n",
              "      <td>13</td>\n",
              "      <td>13</td>\n",
              "      <td>2</td>\n",
              "      <td>7</td>\n",
              "      <td>1</td>\n",
              "      <td>0</td>\n",
              "      <td>5</td>\n",
              "      <td>3</td>\n",
              "      <td>3</td>\n",
              "      <td>0</td>\n",
              "      <td>4</td>\n",
              "      <td>0</td>\n",
              "      <td>5</td>\n",
              "      <td>3</td>\n",
              "      <td>8</td>\n",
              "      <td>2</td>\n",
              "      <td>1</td>\n",
              "      <td>1</td>\n",
              "      <td>4</td>\n",
              "      <td>9</td>\n",
              "      <td>1</td>\n",
              "      <td>0</td>\n",
              "    </tr>\n",
              "    <tr>\n",
              "      <th>988</th>\n",
              "      <td>0</td>\n",
              "      <td>1</td>\n",
              "      <td>2</td>\n",
              "      <td>2</td>\n",
              "      <td>4</td>\n",
              "      <td>4</td>\n",
              "      <td>3</td>\n",
              "      <td>13</td>\n",
              "      <td>13</td>\n",
              "      <td>2</td>\n",
              "      <td>7</td>\n",
              "      <td>1</td>\n",
              "      <td>2</td>\n",
              "      <td>5</td>\n",
              "      <td>3</td>\n",
              "      <td>3</td>\n",
              "      <td>0</td>\n",
              "      <td>4</td>\n",
              "      <td>3</td>\n",
              "      <td>5</td>\n",
              "      <td>1</td>\n",
              "      <td>8</td>\n",
              "      <td>2</td>\n",
              "      <td>1</td>\n",
              "      <td>1</td>\n",
              "      <td>4</td>\n",
              "      <td>9</td>\n",
              "      <td>1</td>\n",
              "      <td>0</td>\n",
              "    </tr>\n",
              "  </tbody>\n",
              "</table>\n",
              "</div>"
            ],
            "text/plain": [
              "     Bldg_Type  Central_Air  Condition_1  ...  Sale_Type  Street  Utilities\n",
              "984          0            1            2  ...          9       1          0\n",
              "985          0            1            2  ...          9       1          0\n",
              "986          0            1            2  ...          9       1          0\n",
              "987          0            1            2  ...          9       1          0\n",
              "988          0            1            2  ...          9       1          0\n",
              "\n",
              "[5 rows x 29 columns]"
            ]
          },
          "metadata": {
            "tags": []
          },
          "execution_count": 126
        }
      ]
    },
    {
      "cell_type": "code",
      "metadata": {
        "id": "mqvGhczG9ZyP",
        "colab_type": "code",
        "colab": {
          "base_uri": "https://localhost:8080/",
          "height": 336
        },
        "outputId": "57db454d-1bfd-49f0-868c-afc073187b5f"
      },
      "source": [
        "from sklearn.preprocessing import OneHotEncoder\n",
        "\n",
        "# instantiate OneHotEncoder\n",
        "ohe = OneHotEncoder(categorical_features = train_cat_mask, sparse=False) \n",
        "\n",
        "train_cat_ohe = ohe.fit_transform(train_cat)\n",
        "print(train_cat.shape, train_cat_ohe.shape)\n",
        "train_cat_ohe # this adds 131 features to the dataset."
      ],
      "execution_count": 134,
      "outputs": [
        {
          "output_type": "stream",
          "text": [
            "(1920, 29) (1920, 200)\n"
          ],
          "name": "stdout"
        },
        {
          "output_type": "stream",
          "text": [
            "/usr/local/lib/python3.6/dist-packages/sklearn/preprocessing/_encoders.py:415: FutureWarning:\n",
            "\n",
            "The handling of integer data will change in version 0.22. Currently, the categories are determined based on the range [0, max(values)], while in the future they will be determined based on the unique values.\n",
            "If you want the future behaviour and silence this warning, you can specify \"categories='auto'\".\n",
            "In case you used a LabelEncoder before this OneHotEncoder to convert the categories to integers, then you can now use the OneHotEncoder directly.\n",
            "\n",
            "/usr/local/lib/python3.6/dist-packages/sklearn/preprocessing/_encoders.py:451: DeprecationWarning:\n",
            "\n",
            "The 'categorical_features' keyword is deprecated in version 0.20 and will be removed in 0.22. You can use the ColumnTransformer instead.\n",
            "\n"
          ],
          "name": "stderr"
        },
        {
          "output_type": "execute_result",
          "data": {
            "text/plain": [
              "array([[1., 0., 0., ..., 1., 1., 0.],\n",
              "       [1., 0., 0., ..., 1., 1., 0.],\n",
              "       [1., 0., 0., ..., 1., 1., 0.],\n",
              "       ...,\n",
              "       [1., 0., 0., ..., 1., 1., 0.],\n",
              "       [1., 0., 0., ..., 1., 1., 0.],\n",
              "       [1., 0., 0., ..., 1., 1., 0.]])"
            ]
          },
          "metadata": {
            "tags": []
          },
          "execution_count": 134
        }
      ]
    },
    {
      "cell_type": "markdown",
      "metadata": {
        "id": "RAlquI1l_Daf",
        "colab_type": "text"
      },
      "source": [
        "#### concatenating the one hot encoded data to training data"
      ]
    },
    {
      "cell_type": "code",
      "metadata": {
        "id": "WQq1cWzE_sZv",
        "colab_type": "code",
        "colab": {
          "base_uri": "https://localhost:8080/",
          "height": 246
        },
        "outputId": "947bf3a1-4c96-48ed-be6f-14f86480b04d"
      },
      "source": [
        "# this unfortunately is all unlabeled data. not sure if it will be of use to us! \n",
        "train_cat_ohe = pd.DataFrame(train_cat_ohe)\n",
        "train_cat_ohe.head()"
      ],
      "execution_count": 135,
      "outputs": [
        {
          "output_type": "execute_result",
          "data": {
            "text/html": [
              "<div>\n",
              "<style scoped>\n",
              "    .dataframe tbody tr th:only-of-type {\n",
              "        vertical-align: middle;\n",
              "    }\n",
              "\n",
              "    .dataframe tbody tr th {\n",
              "        vertical-align: top;\n",
              "    }\n",
              "\n",
              "    .dataframe thead th {\n",
              "        text-align: right;\n",
              "    }\n",
              "</style>\n",
              "<table border=\"1\" class=\"dataframe\">\n",
              "  <thead>\n",
              "    <tr style=\"text-align: right;\">\n",
              "      <th></th>\n",
              "      <th>0</th>\n",
              "      <th>1</th>\n",
              "      <th>2</th>\n",
              "      <th>3</th>\n",
              "      <th>4</th>\n",
              "      <th>5</th>\n",
              "      <th>6</th>\n",
              "      <th>7</th>\n",
              "      <th>8</th>\n",
              "      <th>9</th>\n",
              "      <th>10</th>\n",
              "      <th>11</th>\n",
              "      <th>12</th>\n",
              "      <th>13</th>\n",
              "      <th>14</th>\n",
              "      <th>15</th>\n",
              "      <th>16</th>\n",
              "      <th>17</th>\n",
              "      <th>18</th>\n",
              "      <th>19</th>\n",
              "      <th>20</th>\n",
              "      <th>21</th>\n",
              "      <th>22</th>\n",
              "      <th>23</th>\n",
              "      <th>24</th>\n",
              "      <th>25</th>\n",
              "      <th>26</th>\n",
              "      <th>27</th>\n",
              "      <th>28</th>\n",
              "      <th>29</th>\n",
              "      <th>30</th>\n",
              "      <th>31</th>\n",
              "      <th>32</th>\n",
              "      <th>33</th>\n",
              "      <th>34</th>\n",
              "      <th>35</th>\n",
              "      <th>36</th>\n",
              "      <th>37</th>\n",
              "      <th>38</th>\n",
              "      <th>39</th>\n",
              "      <th>...</th>\n",
              "      <th>160</th>\n",
              "      <th>161</th>\n",
              "      <th>162</th>\n",
              "      <th>163</th>\n",
              "      <th>164</th>\n",
              "      <th>165</th>\n",
              "      <th>166</th>\n",
              "      <th>167</th>\n",
              "      <th>168</th>\n",
              "      <th>169</th>\n",
              "      <th>170</th>\n",
              "      <th>171</th>\n",
              "      <th>172</th>\n",
              "      <th>173</th>\n",
              "      <th>174</th>\n",
              "      <th>175</th>\n",
              "      <th>176</th>\n",
              "      <th>177</th>\n",
              "      <th>178</th>\n",
              "      <th>179</th>\n",
              "      <th>180</th>\n",
              "      <th>181</th>\n",
              "      <th>182</th>\n",
              "      <th>183</th>\n",
              "      <th>184</th>\n",
              "      <th>185</th>\n",
              "      <th>186</th>\n",
              "      <th>187</th>\n",
              "      <th>188</th>\n",
              "      <th>189</th>\n",
              "      <th>190</th>\n",
              "      <th>191</th>\n",
              "      <th>192</th>\n",
              "      <th>193</th>\n",
              "      <th>194</th>\n",
              "      <th>195</th>\n",
              "      <th>196</th>\n",
              "      <th>197</th>\n",
              "      <th>198</th>\n",
              "      <th>199</th>\n",
              "    </tr>\n",
              "  </thead>\n",
              "  <tbody>\n",
              "    <tr>\n",
              "      <th>0</th>\n",
              "      <td>1.0</td>\n",
              "      <td>0.0</td>\n",
              "      <td>0.0</td>\n",
              "      <td>0.0</td>\n",
              "      <td>0.0</td>\n",
              "      <td>0.0</td>\n",
              "      <td>1.0</td>\n",
              "      <td>0.0</td>\n",
              "      <td>0.0</td>\n",
              "      <td>1.0</td>\n",
              "      <td>0.0</td>\n",
              "      <td>0.0</td>\n",
              "      <td>0.0</td>\n",
              "      <td>0.0</td>\n",
              "      <td>0.0</td>\n",
              "      <td>0.0</td>\n",
              "      <td>0.0</td>\n",
              "      <td>0.0</td>\n",
              "      <td>1.0</td>\n",
              "      <td>0.0</td>\n",
              "      <td>0.0</td>\n",
              "      <td>0.0</td>\n",
              "      <td>0.0</td>\n",
              "      <td>0.0</td>\n",
              "      <td>0.0</td>\n",
              "      <td>0.0</td>\n",
              "      <td>0.0</td>\n",
              "      <td>0.0</td>\n",
              "      <td>1.0</td>\n",
              "      <td>0.0</td>\n",
              "      <td>0.0</td>\n",
              "      <td>0.0</td>\n",
              "      <td>0.0</td>\n",
              "      <td>1.0</td>\n",
              "      <td>1.0</td>\n",
              "      <td>0.0</td>\n",
              "      <td>0.0</td>\n",
              "      <td>0.0</td>\n",
              "      <td>0.0</td>\n",
              "      <td>0.0</td>\n",
              "      <td>...</td>\n",
              "      <td>0.0</td>\n",
              "      <td>0.0</td>\n",
              "      <td>0.0</td>\n",
              "      <td>0.0</td>\n",
              "      <td>0.0</td>\n",
              "      <td>1.0</td>\n",
              "      <td>0.0</td>\n",
              "      <td>1.0</td>\n",
              "      <td>0.0</td>\n",
              "      <td>0.0</td>\n",
              "      <td>0.0</td>\n",
              "      <td>0.0</td>\n",
              "      <td>0.0</td>\n",
              "      <td>0.0</td>\n",
              "      <td>0.0</td>\n",
              "      <td>0.0</td>\n",
              "      <td>0.0</td>\n",
              "      <td>1.0</td>\n",
              "      <td>0.0</td>\n",
              "      <td>0.0</td>\n",
              "      <td>0.0</td>\n",
              "      <td>0.0</td>\n",
              "      <td>0.0</td>\n",
              "      <td>0.0</td>\n",
              "      <td>1.0</td>\n",
              "      <td>0.0</td>\n",
              "      <td>0.0</td>\n",
              "      <td>0.0</td>\n",
              "      <td>0.0</td>\n",
              "      <td>0.0</td>\n",
              "      <td>0.0</td>\n",
              "      <td>0.0</td>\n",
              "      <td>0.0</td>\n",
              "      <td>0.0</td>\n",
              "      <td>0.0</td>\n",
              "      <td>1.0</td>\n",
              "      <td>0.0</td>\n",
              "      <td>1.0</td>\n",
              "      <td>1.0</td>\n",
              "      <td>0.0</td>\n",
              "    </tr>\n",
              "    <tr>\n",
              "      <th>1</th>\n",
              "      <td>1.0</td>\n",
              "      <td>0.0</td>\n",
              "      <td>0.0</td>\n",
              "      <td>0.0</td>\n",
              "      <td>0.0</td>\n",
              "      <td>0.0</td>\n",
              "      <td>1.0</td>\n",
              "      <td>0.0</td>\n",
              "      <td>0.0</td>\n",
              "      <td>1.0</td>\n",
              "      <td>0.0</td>\n",
              "      <td>0.0</td>\n",
              "      <td>0.0</td>\n",
              "      <td>0.0</td>\n",
              "      <td>0.0</td>\n",
              "      <td>0.0</td>\n",
              "      <td>0.0</td>\n",
              "      <td>0.0</td>\n",
              "      <td>1.0</td>\n",
              "      <td>0.0</td>\n",
              "      <td>0.0</td>\n",
              "      <td>0.0</td>\n",
              "      <td>0.0</td>\n",
              "      <td>0.0</td>\n",
              "      <td>0.0</td>\n",
              "      <td>0.0</td>\n",
              "      <td>0.0</td>\n",
              "      <td>0.0</td>\n",
              "      <td>1.0</td>\n",
              "      <td>0.0</td>\n",
              "      <td>0.0</td>\n",
              "      <td>0.0</td>\n",
              "      <td>0.0</td>\n",
              "      <td>1.0</td>\n",
              "      <td>0.0</td>\n",
              "      <td>0.0</td>\n",
              "      <td>0.0</td>\n",
              "      <td>1.0</td>\n",
              "      <td>0.0</td>\n",
              "      <td>0.0</td>\n",
              "      <td>...</td>\n",
              "      <td>0.0</td>\n",
              "      <td>0.0</td>\n",
              "      <td>0.0</td>\n",
              "      <td>0.0</td>\n",
              "      <td>0.0</td>\n",
              "      <td>1.0</td>\n",
              "      <td>0.0</td>\n",
              "      <td>1.0</td>\n",
              "      <td>0.0</td>\n",
              "      <td>0.0</td>\n",
              "      <td>0.0</td>\n",
              "      <td>0.0</td>\n",
              "      <td>0.0</td>\n",
              "      <td>0.0</td>\n",
              "      <td>0.0</td>\n",
              "      <td>1.0</td>\n",
              "      <td>0.0</td>\n",
              "      <td>0.0</td>\n",
              "      <td>0.0</td>\n",
              "      <td>0.0</td>\n",
              "      <td>0.0</td>\n",
              "      <td>0.0</td>\n",
              "      <td>0.0</td>\n",
              "      <td>0.0</td>\n",
              "      <td>1.0</td>\n",
              "      <td>0.0</td>\n",
              "      <td>0.0</td>\n",
              "      <td>0.0</td>\n",
              "      <td>0.0</td>\n",
              "      <td>0.0</td>\n",
              "      <td>0.0</td>\n",
              "      <td>0.0</td>\n",
              "      <td>0.0</td>\n",
              "      <td>0.0</td>\n",
              "      <td>0.0</td>\n",
              "      <td>1.0</td>\n",
              "      <td>0.0</td>\n",
              "      <td>1.0</td>\n",
              "      <td>1.0</td>\n",
              "      <td>0.0</td>\n",
              "    </tr>\n",
              "    <tr>\n",
              "      <th>2</th>\n",
              "      <td>1.0</td>\n",
              "      <td>0.0</td>\n",
              "      <td>0.0</td>\n",
              "      <td>0.0</td>\n",
              "      <td>0.0</td>\n",
              "      <td>0.0</td>\n",
              "      <td>1.0</td>\n",
              "      <td>0.0</td>\n",
              "      <td>0.0</td>\n",
              "      <td>1.0</td>\n",
              "      <td>0.0</td>\n",
              "      <td>0.0</td>\n",
              "      <td>0.0</td>\n",
              "      <td>0.0</td>\n",
              "      <td>0.0</td>\n",
              "      <td>0.0</td>\n",
              "      <td>0.0</td>\n",
              "      <td>0.0</td>\n",
              "      <td>1.0</td>\n",
              "      <td>0.0</td>\n",
              "      <td>0.0</td>\n",
              "      <td>0.0</td>\n",
              "      <td>0.0</td>\n",
              "      <td>0.0</td>\n",
              "      <td>0.0</td>\n",
              "      <td>0.0</td>\n",
              "      <td>0.0</td>\n",
              "      <td>0.0</td>\n",
              "      <td>1.0</td>\n",
              "      <td>0.0</td>\n",
              "      <td>0.0</td>\n",
              "      <td>0.0</td>\n",
              "      <td>0.0</td>\n",
              "      <td>1.0</td>\n",
              "      <td>0.0</td>\n",
              "      <td>0.0</td>\n",
              "      <td>0.0</td>\n",
              "      <td>1.0</td>\n",
              "      <td>0.0</td>\n",
              "      <td>0.0</td>\n",
              "      <td>...</td>\n",
              "      <td>0.0</td>\n",
              "      <td>0.0</td>\n",
              "      <td>0.0</td>\n",
              "      <td>0.0</td>\n",
              "      <td>0.0</td>\n",
              "      <td>1.0</td>\n",
              "      <td>0.0</td>\n",
              "      <td>1.0</td>\n",
              "      <td>0.0</td>\n",
              "      <td>0.0</td>\n",
              "      <td>0.0</td>\n",
              "      <td>0.0</td>\n",
              "      <td>0.0</td>\n",
              "      <td>0.0</td>\n",
              "      <td>0.0</td>\n",
              "      <td>1.0</td>\n",
              "      <td>0.0</td>\n",
              "      <td>0.0</td>\n",
              "      <td>0.0</td>\n",
              "      <td>0.0</td>\n",
              "      <td>0.0</td>\n",
              "      <td>0.0</td>\n",
              "      <td>0.0</td>\n",
              "      <td>0.0</td>\n",
              "      <td>1.0</td>\n",
              "      <td>0.0</td>\n",
              "      <td>0.0</td>\n",
              "      <td>0.0</td>\n",
              "      <td>0.0</td>\n",
              "      <td>0.0</td>\n",
              "      <td>0.0</td>\n",
              "      <td>0.0</td>\n",
              "      <td>0.0</td>\n",
              "      <td>0.0</td>\n",
              "      <td>0.0</td>\n",
              "      <td>1.0</td>\n",
              "      <td>0.0</td>\n",
              "      <td>1.0</td>\n",
              "      <td>1.0</td>\n",
              "      <td>0.0</td>\n",
              "    </tr>\n",
              "    <tr>\n",
              "      <th>3</th>\n",
              "      <td>1.0</td>\n",
              "      <td>0.0</td>\n",
              "      <td>0.0</td>\n",
              "      <td>0.0</td>\n",
              "      <td>0.0</td>\n",
              "      <td>0.0</td>\n",
              "      <td>1.0</td>\n",
              "      <td>0.0</td>\n",
              "      <td>0.0</td>\n",
              "      <td>1.0</td>\n",
              "      <td>0.0</td>\n",
              "      <td>0.0</td>\n",
              "      <td>0.0</td>\n",
              "      <td>0.0</td>\n",
              "      <td>0.0</td>\n",
              "      <td>0.0</td>\n",
              "      <td>0.0</td>\n",
              "      <td>0.0</td>\n",
              "      <td>1.0</td>\n",
              "      <td>0.0</td>\n",
              "      <td>0.0</td>\n",
              "      <td>0.0</td>\n",
              "      <td>0.0</td>\n",
              "      <td>0.0</td>\n",
              "      <td>0.0</td>\n",
              "      <td>0.0</td>\n",
              "      <td>0.0</td>\n",
              "      <td>0.0</td>\n",
              "      <td>1.0</td>\n",
              "      <td>0.0</td>\n",
              "      <td>0.0</td>\n",
              "      <td>0.0</td>\n",
              "      <td>0.0</td>\n",
              "      <td>1.0</td>\n",
              "      <td>0.0</td>\n",
              "      <td>0.0</td>\n",
              "      <td>0.0</td>\n",
              "      <td>1.0</td>\n",
              "      <td>0.0</td>\n",
              "      <td>0.0</td>\n",
              "      <td>...</td>\n",
              "      <td>0.0</td>\n",
              "      <td>0.0</td>\n",
              "      <td>0.0</td>\n",
              "      <td>0.0</td>\n",
              "      <td>0.0</td>\n",
              "      <td>1.0</td>\n",
              "      <td>0.0</td>\n",
              "      <td>1.0</td>\n",
              "      <td>0.0</td>\n",
              "      <td>0.0</td>\n",
              "      <td>0.0</td>\n",
              "      <td>0.0</td>\n",
              "      <td>0.0</td>\n",
              "      <td>0.0</td>\n",
              "      <td>0.0</td>\n",
              "      <td>1.0</td>\n",
              "      <td>0.0</td>\n",
              "      <td>0.0</td>\n",
              "      <td>0.0</td>\n",
              "      <td>0.0</td>\n",
              "      <td>0.0</td>\n",
              "      <td>0.0</td>\n",
              "      <td>0.0</td>\n",
              "      <td>0.0</td>\n",
              "      <td>1.0</td>\n",
              "      <td>0.0</td>\n",
              "      <td>0.0</td>\n",
              "      <td>0.0</td>\n",
              "      <td>0.0</td>\n",
              "      <td>0.0</td>\n",
              "      <td>0.0</td>\n",
              "      <td>0.0</td>\n",
              "      <td>0.0</td>\n",
              "      <td>0.0</td>\n",
              "      <td>0.0</td>\n",
              "      <td>1.0</td>\n",
              "      <td>0.0</td>\n",
              "      <td>1.0</td>\n",
              "      <td>1.0</td>\n",
              "      <td>0.0</td>\n",
              "    </tr>\n",
              "    <tr>\n",
              "      <th>4</th>\n",
              "      <td>1.0</td>\n",
              "      <td>0.0</td>\n",
              "      <td>0.0</td>\n",
              "      <td>0.0</td>\n",
              "      <td>0.0</td>\n",
              "      <td>0.0</td>\n",
              "      <td>1.0</td>\n",
              "      <td>0.0</td>\n",
              "      <td>0.0</td>\n",
              "      <td>1.0</td>\n",
              "      <td>0.0</td>\n",
              "      <td>0.0</td>\n",
              "      <td>0.0</td>\n",
              "      <td>0.0</td>\n",
              "      <td>0.0</td>\n",
              "      <td>0.0</td>\n",
              "      <td>0.0</td>\n",
              "      <td>0.0</td>\n",
              "      <td>1.0</td>\n",
              "      <td>0.0</td>\n",
              "      <td>0.0</td>\n",
              "      <td>0.0</td>\n",
              "      <td>0.0</td>\n",
              "      <td>0.0</td>\n",
              "      <td>0.0</td>\n",
              "      <td>0.0</td>\n",
              "      <td>0.0</td>\n",
              "      <td>0.0</td>\n",
              "      <td>1.0</td>\n",
              "      <td>0.0</td>\n",
              "      <td>0.0</td>\n",
              "      <td>0.0</td>\n",
              "      <td>0.0</td>\n",
              "      <td>1.0</td>\n",
              "      <td>0.0</td>\n",
              "      <td>0.0</td>\n",
              "      <td>0.0</td>\n",
              "      <td>1.0</td>\n",
              "      <td>0.0</td>\n",
              "      <td>0.0</td>\n",
              "      <td>...</td>\n",
              "      <td>0.0</td>\n",
              "      <td>0.0</td>\n",
              "      <td>0.0</td>\n",
              "      <td>0.0</td>\n",
              "      <td>0.0</td>\n",
              "      <td>1.0</td>\n",
              "      <td>0.0</td>\n",
              "      <td>1.0</td>\n",
              "      <td>0.0</td>\n",
              "      <td>0.0</td>\n",
              "      <td>0.0</td>\n",
              "      <td>0.0</td>\n",
              "      <td>0.0</td>\n",
              "      <td>0.0</td>\n",
              "      <td>0.0</td>\n",
              "      <td>1.0</td>\n",
              "      <td>0.0</td>\n",
              "      <td>0.0</td>\n",
              "      <td>0.0</td>\n",
              "      <td>0.0</td>\n",
              "      <td>0.0</td>\n",
              "      <td>0.0</td>\n",
              "      <td>0.0</td>\n",
              "      <td>0.0</td>\n",
              "      <td>1.0</td>\n",
              "      <td>0.0</td>\n",
              "      <td>0.0</td>\n",
              "      <td>0.0</td>\n",
              "      <td>0.0</td>\n",
              "      <td>0.0</td>\n",
              "      <td>0.0</td>\n",
              "      <td>0.0</td>\n",
              "      <td>0.0</td>\n",
              "      <td>0.0</td>\n",
              "      <td>0.0</td>\n",
              "      <td>1.0</td>\n",
              "      <td>0.0</td>\n",
              "      <td>1.0</td>\n",
              "      <td>1.0</td>\n",
              "      <td>0.0</td>\n",
              "    </tr>\n",
              "  </tbody>\n",
              "</table>\n",
              "<p>5 rows × 200 columns</p>\n",
              "</div>"
            ],
            "text/plain": [
              "   0    1    2    3    4    5    6    ...  193  194  195  196  197  198  199\n",
              "0  1.0  0.0  0.0  0.0  0.0  0.0  1.0  ...  0.0  0.0  1.0  0.0  1.0  1.0  0.0\n",
              "1  1.0  0.0  0.0  0.0  0.0  0.0  1.0  ...  0.0  0.0  1.0  0.0  1.0  1.0  0.0\n",
              "2  1.0  0.0  0.0  0.0  0.0  0.0  1.0  ...  0.0  0.0  1.0  0.0  1.0  1.0  0.0\n",
              "3  1.0  0.0  0.0  0.0  0.0  0.0  1.0  ...  0.0  0.0  1.0  0.0  1.0  1.0  0.0\n",
              "4  1.0  0.0  0.0  0.0  0.0  0.0  1.0  ...  0.0  0.0  1.0  0.0  1.0  1.0  0.0\n",
              "\n",
              "[5 rows x 200 columns]"
            ]
          },
          "metadata": {
            "tags": []
          },
          "execution_count": 135
        }
      ]
    },
    {
      "cell_type": "markdown",
      "metadata": {
        "id": "2ZceruUx-Vs-",
        "colab_type": "text"
      },
      "source": [
        "## 2.5. Use scikit-learn to fit a linear regression (or ridge regression) model\n",
        "Fit your model."
      ]
    },
    {
      "cell_type": "code",
      "metadata": {
        "id": "Kvy4Z0xv7eJF",
        "colab_type": "code",
        "colab": {}
      },
      "source": [
        "# instantiate and fit model\n",
        "model = LinearRegression().fit(X, y)\n",
        "\n",
        "# set prediction\n",
        "y_pred = model.predict(X)"
      ],
      "execution_count": 0,
      "outputs": []
    },
    {
      "cell_type": "markdown",
      "metadata": {
        "id": "E9reASgw-i8T",
        "colab_type": "text"
      },
      "source": [
        "## 2.6. Report validation MAE and $R^2$\n",
        "\n",
        "What is your model's Mean Absolute Error and $R^2$ score on the validation set?"
      ]
    },
    {
      "cell_type": "code",
      "metadata": {
        "colab_type": "code",
        "outputId": "7835dd2a-10ef-43ce-8867-99b51f5fd330",
        "id": "sX1Vz9MO-CD0",
        "colab": {
          "base_uri": "https://localhost:8080/",
          "height": 34
        }
      },
      "source": [
        "mean_absolute_error(y, y_pred)"
      ],
      "execution_count": 137,
      "outputs": [
        {
          "output_type": "execute_result",
          "data": {
            "text/plain": [
              "47742.1457444256"
            ]
          },
          "metadata": {
            "tags": []
          },
          "execution_count": 137
        }
      ]
    },
    {
      "cell_type": "code",
      "metadata": {
        "colab_type": "code",
        "outputId": "5ebc3364-79fb-4a10-f281-6b3e341843dd",
        "id": "uenSC6oP-CD5",
        "colab": {
          "base_uri": "https://localhost:8080/",
          "height": 34
        }
      },
      "source": [
        "r2_score(y, y_pred) # this now jumped up to 30%, so that's improvement! "
      ],
      "execution_count": 138,
      "outputs": [
        {
          "output_type": "execute_result",
          "data": {
            "text/plain": [
              "0.3018336367316634"
            ]
          },
          "metadata": {
            "tags": []
          },
          "execution_count": 138
        }
      ]
    },
    {
      "cell_type": "markdown",
      "metadata": {
        "id": "DidByDsrOa-o",
        "colab_type": "text"
      },
      "source": [
        "# Stretch Goals, Regression\n",
        "- Make visualizations to explore relationships between features and target\n",
        "- Try at least 3 feature combinations. You may select features manually, or automatically\n",
        "- Report validation MAE and $R^2$ for each feature combination you try\n",
        "- Report test MAE and $R^2$ for your final model\n",
        "- Print or plot the coefficients for the features in your model"
      ]
    },
    {
      "cell_type": "markdown",
      "metadata": {
        "id": "bYASM0DxCNLC",
        "colab_type": "text"
      },
      "source": [
        "#### Using different features for different scores"
      ]
    },
    {
      "cell_type": "code",
      "metadata": {
        "id": "xOfSQIf3Y3OV",
        "colab_type": "code",
        "colab": {}
      },
      "source": [
        "import matplotlib.pyplot as plt\n",
        "%matplotlib inline\n",
        "import seaborn as sns\n",
        "import plotly.express as px\n",
        "from sklearn.linear_model import LinearRegression, LogisticRegressionCV\n",
        "\n",
        "def feature_tests(df, features_list):\n",
        "  ''' runs a Linear Regression for a set of selected features\n",
        "  and plots them individually against the target'''\n",
        "  \n",
        "  # set features matrix and target vector\n",
        "  features = features_list\n",
        "  target = 'SalePrice'\n",
        "\n",
        "  # set X and y\n",
        "  X = df[features]\n",
        "  y = df[target]\n",
        "\n",
        "  # instantiate and fit model\n",
        "  model = LinearRegression().fit(X, y)\n",
        "\n",
        "  # set prediction\n",
        "  y_pred = model.predict(X)\n",
        "  mae = mean_absolute_error(y, y_pred)\n",
        "  r2 = r2_score(y, y_pred)\n",
        "  print('The Mean Absolute Error is: ', mae)\n",
        "  print('The R Squared is: ', r2)\n",
        "\n",
        "  for i in features_list:\n",
        "    plt.bar(x=i, height=target, data=df)\n",
        "    plt.title(f'{i} and {target}')\n",
        "    plt.xlabel(f'{i}')\n",
        "    plt.ylabel(f'{target}')\n",
        "    plt.show();\n"
      ],
      "execution_count": 0,
      "outputs": []
    },
    {
      "cell_type": "code",
      "metadata": {
        "id": "zuN4gAF4EGyx",
        "colab_type": "code",
        "colab": {
          "base_uri": "https://localhost:8080/",
          "height": 123
        },
        "outputId": "a1d42990-ba19-43cf-9e15-8c6a37141692"
      },
      "source": [
        "train.select_dtypes('number').columns"
      ],
      "execution_count": 155,
      "outputs": [
        {
          "output_type": "execute_result",
          "data": {
            "text/plain": [
              "Index(['1st_Flr_SF', 'Bedroom_AbvGr', 'Bsmt_Full_Bath', 'Bsmt_Half_Bath',\n",
              "       'Full_Bath', 'Gr_Liv_Area', 'Half_Bath', 'Kitchen_AbvGr', 'Lot_Area',\n",
              "       'MS_SubClass', 'Mo_Sold', 'Overall_Cond', 'Overall_Qual', 'SalePrice',\n",
              "       'TotRms_AbvGrd', 'Year_Built', 'Year_Remod/Add', 'Yr_Sold', 'Predicted',\n",
              "       'error', 'Neighborhood_encoded'],\n",
              "      dtype='object')"
            ]
          },
          "metadata": {
            "tags": []
          },
          "execution_count": 155
        }
      ]
    },
    {
      "cell_type": "markdown",
      "metadata": {
        "id": "a5H0nivFF1Yd",
        "colab_type": "text"
      },
      "source": [
        "##### Take 1"
      ]
    },
    {
      "cell_type": "code",
      "metadata": {
        "id": "80VHI3juDd0L",
        "colab_type": "code",
        "colab": {
          "base_uri": "https://localhost:8080/",
          "height": 1000
        },
        "outputId": "0805c7b7-e129-4cc4-c0dc-ad70c689ce9c"
      },
      "source": [
        "features_list = ['Neighborhood_encoded', 'Bedroom_AbvGr', 'Kitchen_AbvGr', \n",
        "                      'Lot_Area', 'Year_Remod/Add']\n",
        "feature_tests(train, features_list)\n",
        "# obviously not all graphs are super helpful, but this does help to visualize \n",
        "# how each variable relates to sales_price"
      ],
      "execution_count": 160,
      "outputs": [
        {
          "output_type": "stream",
          "text": [
            "The Mean Absolute Error is:  43356.09792479896\n",
            "The R Squared is:  0.380966735881786\n"
          ],
          "name": "stdout"
        },
        {
          "output_type": "display_data",
          "data": {
            "image/png": "[encoded data removed]",
            "text/plain": [
              "<Figure size 432x288 with 1 Axes>"
            ]
          },
          "metadata": {
            "tags": []
          }
        },
        {
          "output_type": "display_data",
          "data": {
            "image/png": "[encoded data removed]",
            "text/plain": [
              "<Figure size 432x288 with 1 Axes>"
            ]
          },
          "metadata": {
            "tags": []
          }
        },
        {
          "output_type": "display_data",
          "data": {
            "image/png": "[encoded data removed]",
            "text/plain": [
              "<Figure size 432x288 with 1 Axes>"
            ]
          },
          "metadata": {
            "tags": []
          }
        },
        {
          "output_type": "display_data",
          "data": {
            "image/png": "[encoded data removed]",
            "text/plain": [
              "<Figure size 432x288 with 1 Axes>"
            ]
          },
          "metadata": {
            "tags": []
          }
        },
        {
          "output_type": "display_data",
          "data": {
            "image/png": "[encoded data removed]",
            "text/plain": [
              "<Figure size 432x288 with 1 Axes>"
            ]
          },
          "metadata": {
            "tags": []
          }
        }
      ]
    },
    {
      "cell_type": "markdown",
      "metadata": {
        "id": "GhBCiJ4_F4JI",
        "colab_type": "text"
      },
      "source": [
        "##### Take 2"
      ]
    },
    {
      "cell_type": "code",
      "metadata": {
        "id": "GxK2SEFgF5Vr",
        "colab_type": "code",
        "colab": {
          "base_uri": "https://localhost:8080/",
          "height": 890
        },
        "outputId": "16755c17-b6ee-4f15-b188-727b54c625ea"
      },
      "source": [
        "features_list = ['Neighborhood_encoded', 'Bedroom_AbvGr', 'Lot_Area']\n",
        "feature_tests(train, features_list)"
      ],
      "execution_count": 161,
      "outputs": [
        {
          "output_type": "stream",
          "text": [
            "The Mean Absolute Error is:  55584.03276550704\n",
            "The R Squared is:  0.11976827284835911\n"
          ],
          "name": "stdout"
        },
        {
          "output_type": "display_data",
          "data": {
            "image/png": "[encoded data removed]",
            "text/plain": [
              "<Figure size 432x288 with 1 Axes>"
            ]
          },
          "metadata": {
            "tags": []
          }
        },
        {
          "output_type": "display_data",
          "data": {
            "image/png": "[encoded data removed]",
            "text/plain": [
              "<Figure size 432x288 with 1 Axes>"
            ]
          },
          "metadata": {
            "tags": []
          }
        },
        {
          "output_type": "display_data",
          "data": {
            "image/png": "[encoded data removed]",
            "text/plain": [
              "<Figure size 432x288 with 1 Axes>"
            ]
          },
          "metadata": {
            "tags": []
          }
        }
      ]
    },
    {
      "cell_type": "markdown",
      "metadata": {
        "id": "8DtWoOb_GP7m",
        "colab_type": "text"
      },
      "source": [
        "##### Take 3 with KBest"
      ]
    },
    {
      "cell_type": "code",
      "metadata": {
        "id": "k9UXLlApGlo7",
        "colab_type": "code",
        "colab": {
          "base_uri": "https://localhost:8080/",
          "height": 158
        },
        "outputId": "b007822f-9dfe-4342-f858-e78b162c3e5b"
      },
      "source": [
        "# Making sure the train and test lenghts are the same\n",
        "test['Neighborhood_encoded'] = le.fit_transform(test['Neighborhood'])"
      ],
      "execution_count": 163,
      "outputs": [
        {
          "output_type": "stream",
          "text": [
            "/usr/local/lib/python3.6/dist-packages/ipykernel_launcher.py:1: SettingWithCopyWarning:\n",
            "\n",
            "\n",
            "A value is trying to be set on a copy of a slice from a DataFrame.\n",
            "Try using .loc[row_indexer,col_indexer] = value instead\n",
            "\n",
            "See the caveats in the documentation: http://pandas.pydata.org/pandas-docs/stable/indexing.html#indexing-view-versus-copy\n",
            "\n"
          ],
          "name": "stderr"
        }
      ]
    },
    {
      "cell_type": "code",
      "metadata": {
        "id": "2soKcpSvGeGv",
        "colab_type": "code",
        "colab": {
          "base_uri": "https://localhost:8080/",
          "height": 34
        },
        "outputId": "03afa41f-8b4c-4559-df36-77f343d5dc41"
      },
      "source": [
        "# Creating subsets for the KBest selector\n",
        "train_subset = train.select_dtypes('number').dropna(axis='columns')\n",
        "test_subset = test.select_dtypes('number').dropna(axis='columns')\n",
        "assert all(train_subset.columns == test_subset.columns)\n",
        "\n",
        "target = 'SalePrice'\n",
        "features = train_subset.columns.drop([target, 'Predicted', 'error'])\n",
        "# Had to make sure that my added Prediction and error columns were not selected\n",
        "\n",
        "X_train = train_subset[features]\n",
        "y_train = train_subset[target]\n",
        "X_test = test_subset[features]\n",
        "y_test = test_subset[target]\n",
        "X_train.shape, y_train.shape, X_test.shape, y_test.shape"
      ],
      "execution_count": 179,
      "outputs": [
        {
          "output_type": "execute_result",
          "data": {
            "text/plain": [
              "((1920, 18), (1920,), (340, 18), (340,))"
            ]
          },
          "metadata": {
            "tags": []
          },
          "execution_count": 179
        }
      ]
    },
    {
      "cell_type": "code",
      "metadata": {
        "id": "gKA3uS7jGSJ4",
        "colab_type": "code",
        "colab": {
          "base_uri": "https://localhost:8080/",
          "height": 390
        },
        "outputId": "c0b01008-c668-4fab-ebbe-3018ad027a71"
      },
      "source": [
        "from sklearn.feature_selection import f_regression, SelectKBest\n",
        "\n",
        "selector = SelectKBest(score_func = f_regression, k = 10)\n",
        "X_train_selected = selector.fit_transform(X_train, y_train)\n",
        "X_test_selected = selector.fit_transform(X_test, y_test)\n",
        "\n",
        "X_train_selected.shape, X_test_selected.shape"
      ],
      "execution_count": 180,
      "outputs": [
        {
          "output_type": "stream",
          "text": [
            "/usr/local/lib/python3.6/dist-packages/sklearn/feature_selection/univariate_selection.py:299: RuntimeWarning:\n",
            "\n",
            "divide by zero encountered in true_divide\n",
            "\n",
            "/usr/local/lib/python3.6/dist-packages/sklearn/feature_selection/univariate_selection.py:304: RuntimeWarning:\n",
            "\n",
            "invalid value encountered in true_divide\n",
            "\n",
            "/usr/local/lib/python3.6/dist-packages/scipy/stats/_distn_infrastructure.py:901: RuntimeWarning:\n",
            "\n",
            "invalid value encountered in greater\n",
            "\n",
            "/usr/local/lib/python3.6/dist-packages/scipy/stats/_distn_infrastructure.py:901: RuntimeWarning:\n",
            "\n",
            "invalid value encountered in less\n",
            "\n",
            "/usr/local/lib/python3.6/dist-packages/scipy/stats/_distn_infrastructure.py:1892: RuntimeWarning:\n",
            "\n",
            "invalid value encountered in less_equal\n",
            "\n"
          ],
          "name": "stderr"
        },
        {
          "output_type": "execute_result",
          "data": {
            "text/plain": [
              "((1920, 10), (340, 10))"
            ]
          },
          "metadata": {
            "tags": []
          },
          "execution_count": 180
        }
      ]
    },
    {
      "cell_type": "code",
      "metadata": {
        "id": "ErbcVCuuG7jD",
        "colab_type": "code",
        "colab": {
          "base_uri": "https://localhost:8080/",
          "height": 212
        },
        "outputId": "dc93ec4b-ebb5-45a9-c9eb-1f0698efb0d0"
      },
      "source": [
        "\n",
        "# viewing which features were selected\n",
        "\n",
        "features_list = []\n",
        "\n",
        "all_names = X_train.columns\n",
        "selected_mask = selector.get_support()\n",
        "selected_names = all_names[selected_mask]\n",
        "unselected_names = all_names[~selected_mask]\n",
        "\n",
        "print('Features selected:')\n",
        "for name in selected_names:\n",
        "  features_list.append(name)\n",
        "\n",
        "features_list"
      ],
      "execution_count": 182,
      "outputs": [
        {
          "output_type": "stream",
          "text": [
            "Features selected:\n"
          ],
          "name": "stdout"
        },
        {
          "output_type": "execute_result",
          "data": {
            "text/plain": [
              "['1st_Flr_SF',\n",
              " 'Bsmt_Full_Bath',\n",
              " 'Full_Bath',\n",
              " 'Gr_Liv_Area',\n",
              " 'Half_Bath',\n",
              " 'Lot_Area',\n",
              " 'Overall_Qual',\n",
              " 'TotRms_AbvGrd',\n",
              " 'Year_Built',\n",
              " 'Year_Remod/Add']"
            ]
          },
          "metadata": {
            "tags": []
          },
          "execution_count": 182
        }
      ]
    },
    {
      "cell_type": "markdown",
      "metadata": {
        "id": "P4yRD8XEIqw0",
        "colab_type": "text"
      },
      "source": [
        "###### Running the test"
      ]
    },
    {
      "cell_type": "code",
      "metadata": {
        "id": "cyYGS58AHPQY",
        "colab_type": "code",
        "colab": {
          "base_uri": "https://localhost:8080/",
          "height": 1000
        },
        "outputId": "886409da-9c55-4e03-b791-c0678d1712eb"
      },
      "source": [
        "feature_tests(train, features_list)"
      ],
      "execution_count": 183,
      "outputs": [
        {
          "output_type": "stream",
          "text": [
            "The Mean Absolute Error is:  23598.992672819102\n",
            "The R Squared is:  0.784325091517065\n"
          ],
          "name": "stdout"
        },
        {
          "output_type": "display_data",
          "data": {
            "image/png": "[encoded data removed]",
            "text/plain": [
              "<Figure size 432x288 with 1 Axes>"
            ]
          },
          "metadata": {
            "tags": []
          }
        },
        {
          "output_type": "display_data",
          "data": {
            "image/png": "[encoded data removed]",
            "text/plain": [
              "<Figure size 432x288 with 1 Axes>"
            ]
          },
          "metadata": {
            "tags": []
          }
        },
        {
          "output_type": "display_data",
          "data": {
            "image/png": "[encoded data removed]",
            "text/plain": [
              "<Figure size 432x288 with 1 Axes>"
            ]
          },
          "metadata": {
            "tags": []
          }
        },
        {
          "output_type": "display_data",
          "data": {
            "image/png": "[encoded data removed]",
            "text/plain": [
              "<Figure size 432x288 with 1 Axes>"
            ]
          },
          "metadata": {
            "tags": []
          }
        },
        {
          "output_type": "display_data",
          "data": {
            "image/png": "[encoded data removed]",
            "text/plain": [
              "<Figure size 432x288 with 1 Axes>"
            ]
          },
          "metadata": {
            "tags": []
          }
        },
        {
          "output_type": "display_data",
          "data": {
            "image/png": "[encoded data removed]",
            "text/plain": [
              "<Figure size 432x288 with 1 Axes>"
            ]
          },
          "metadata": {
            "tags": []
          }
        },
        {
          "output_type": "display_data",
          "data": {
            "image/png": "[encoded data removed]",
            "text/plain": [
              "<Figure size 432x288 with 1 Axes>"
            ]
          },
          "metadata": {
            "tags": []
          }
        },
        {
          "output_type": "display_data",
          "data": {
            "image/png": "[encoded data removed]",
            "text/plain": [
              "<Figure size 432x288 with 1 Axes>"
            ]
          },
          "metadata": {
            "tags": []
          }
        },
        {
          "output_type": "display_data",
          "data": {
            "image/png": "[encoded data removed]",
            "text/plain": [
              "<Figure size 432x288 with 1 Axes>"
            ]
          },
          "metadata": {
            "tags": []
          }
        },
        {
          "output_type": "display_data",
          "data": {
            "image/png": "[encoded data removed]",
            "text/plain": [
              "<Figure size 432x288 with 1 Axes>"
            ]
          },
          "metadata": {
            "tags": []
          }
        }
      ]
    },
    {
      "cell_type": "markdown",
      "metadata": {
        "id": "kXw0--lLIR07",
        "colab_type": "text"
      },
      "source": [
        "*Using SelecKBest drastically improved the R Squared to 0.78!*"
      ]
    },
    {
      "cell_type": "markdown",
      "metadata": {
        "id": "0Cy5L-HaIfk9",
        "colab_type": "text"
      },
      "source": [
        "# Data Dictionary"
      ]
    },
    {
      "cell_type": "markdown",
      "metadata": {
        "id": "PdkjBN1Dy_-A",
        "colab_type": "text"
      },
      "source": [
        "Data Dictionary \n",
        "\n",
        "Here's a description of the data fields:\n",
        "\n",
        "```\n",
        "1st_Flr_SF: First Floor square feet\n",
        "\n",
        "Bedroom_AbvGr: Bedrooms above grade (does NOT include basement bedrooms)\n",
        "\n",
        "Bldg_Type: Type of dwelling\n",
        "\t\t\n",
        "       1Fam\tSingle-family Detached\t\n",
        "       2FmCon\tTwo-family Conversion; originally built as one-family dwelling\n",
        "       Duplx\tDuplex\n",
        "       TwnhsE\tTownhouse End Unit\n",
        "       TwnhsI\tTownhouse Inside Unit\n",
        "       \n",
        "Bsmt_Half_Bath: Basement half bathrooms\n",
        "\n",
        "Bsmt_Full_Bath: Basement full bathrooms\n",
        "\n",
        "Central_Air: Central air conditioning\n",
        "\n",
        "       N\tNo\n",
        "       Y\tYes\n",
        "\t\t\n",
        "Condition_1: Proximity to various conditions\n",
        "\t\n",
        "       Artery\tAdjacent to arterial street\n",
        "       Feedr\tAdjacent to feeder street\t\n",
        "       Norm\tNormal\t\n",
        "       RRNn\tWithin 200' of North-South Railroad\n",
        "       RRAn\tAdjacent to North-South Railroad\n",
        "       PosN\tNear positive off-site feature--park, greenbelt, etc.\n",
        "       PosA\tAdjacent to postive off-site feature\n",
        "       RRNe\tWithin 200' of East-West Railroad\n",
        "       RRAe\tAdjacent to East-West Railroad\n",
        "\t\n",
        "Condition_2: Proximity to various conditions (if more than one is present)\n",
        "\t\t\n",
        "       Artery\tAdjacent to arterial street\n",
        "       Feedr\tAdjacent to feeder street\t\n",
        "       Norm\tNormal\t\n",
        "       RRNn\tWithin 200' of North-South Railroad\n",
        "       RRAn\tAdjacent to North-South Railroad\n",
        "       PosN\tNear positive off-site feature--park, greenbelt, etc.\n",
        "       PosA\tAdjacent to postive off-site feature\n",
        "       RRNe\tWithin 200' of East-West Railroad\n",
        "       RRAe\tAdjacent to East-West Railroad\n",
        "       \n",
        " Electrical: Electrical system\n",
        "\n",
        "       SBrkr\tStandard Circuit Breakers & Romex\n",
        "       FuseA\tFuse Box over 60 AMP and all Romex wiring (Average)\t\n",
        "       FuseF\t60 AMP Fuse Box and mostly Romex wiring (Fair)\n",
        "       FuseP\t60 AMP Fuse Box and mostly knob & tube wiring (poor)\n",
        "       Mix\tMixed\n",
        "       \n",
        " Exter_Cond: Evaluates the present condition of the material on the exterior\n",
        "\t\t\n",
        "       Ex\tExcellent\n",
        "       Gd\tGood\n",
        "       TA\tAverage/Typical\n",
        "       Fa\tFair\n",
        "       Po\tPoor\n",
        " \n",
        " Exter_Qual: Evaluates the quality of the material on the exterior \n",
        "\t\t\n",
        "       Ex\tExcellent\n",
        "       Gd\tGood\n",
        "       TA\tAverage/Typical\n",
        "       Fa\tFair\n",
        "       Po\tPoor\n",
        "\t\t\n",
        "Exterior_1st: Exterior covering on house\n",
        "\n",
        "       AsbShng\tAsbestos Shingles\n",
        "       AsphShn\tAsphalt Shingles\n",
        "       BrkComm\tBrick Common\n",
        "       BrkFace\tBrick Face\n",
        "       CBlock\tCinder Block\n",
        "       CemntBd\tCement Board\n",
        "       HdBoard\tHard Board\n",
        "       ImStucc\tImitation Stucco\n",
        "       MetalSd\tMetal Siding\n",
        "       Other\tOther\n",
        "       Plywood\tPlywood\n",
        "       PreCast\tPreCast\t\n",
        "       Stone\tStone\n",
        "       Stucco\tStucco\n",
        "       VinylSd\tVinyl Siding\n",
        "       Wd Sdng\tWood Siding\n",
        "       WdShing\tWood Shingles\n",
        "\t\n",
        "Exterior_2nd: Exterior covering on house (if more than one material)\n",
        "\n",
        "       AsbShng\tAsbestos Shingles\n",
        "       AsphShn\tAsphalt Shingles\n",
        "       BrkComm\tBrick Common\n",
        "       BrkFace\tBrick Face\n",
        "       CBlock\tCinder Block\n",
        "       CemntBd\tCement Board\n",
        "       HdBoard\tHard Board\n",
        "       ImStucc\tImitation Stucco\n",
        "       MetalSd\tMetal Siding\n",
        "       Other\tOther\n",
        "       Plywood\tPlywood\n",
        "       PreCast\tPreCast\n",
        "       Stone\tStone\n",
        "       Stucco\tStucco\n",
        "       VinylSd\tVinyl Siding\n",
        "       Wd Sdng\tWood Siding\n",
        "       WdShing\tWood Shingles\n",
        "       \n",
        "Foundation: Type of foundation\n",
        "\t\t\n",
        "       BrkTil\tBrick & Tile\n",
        "       CBlock\tCinder Block\n",
        "       PConc\tPoured Contrete\t\n",
        "       Slab\tSlab\n",
        "       Stone\tStone\n",
        "       Wood\tWood\n",
        "\t\t\n",
        "Full_Bath: Full bathrooms above grade\n",
        "\n",
        "Functional: Home functionality (Assume typical unless deductions are warranted)\n",
        "\n",
        "       Typ\tTypical Functionality\n",
        "       Min1\tMinor Deductions 1\n",
        "       Min2\tMinor Deductions 2\n",
        "       Mod\tModerate Deductions\n",
        "       Maj1\tMajor Deductions 1\n",
        "       Maj2\tMajor Deductions 2\n",
        "       Sev\tSeverely Damaged\n",
        "       Sal\tSalvage only\n",
        "\t\t\n",
        "Gr_Liv_Area: Above grade (ground) living area square feet\n",
        "        \n",
        "Half_Bath: Half baths above grade\n",
        "\n",
        "Heating: Type of heating\n",
        "\t\t\n",
        "       Floor\tFloor Furnace\n",
        "       GasA\tGas forced warm air furnace\n",
        "       GasW\tGas hot water or steam heat\n",
        "       Grav\tGravity furnace\t\n",
        "       OthW\tHot water or steam heat other than gas\n",
        "       Wall\tWall furnace\n",
        "\t\t\n",
        "Heating_QC: Heating quality and condition\n",
        "\n",
        "       Ex\tExcellent\n",
        "       Gd\tGood\n",
        "       TA\tAverage/Typical\n",
        "       Fa\tFair\n",
        "       Po\tPoor\n",
        "\n",
        "House_Style: Style of dwelling\n",
        "\t\n",
        "       1Story\tOne story\n",
        "       1.5Fin\tOne and one-half story: 2nd level finished\n",
        "       1.5Unf\tOne and one-half story: 2nd level unfinished\n",
        "       2Story\tTwo story\n",
        "       2.5Fin\tTwo and one-half story: 2nd level finished\n",
        "       2.5Unf\tTwo and one-half story: 2nd level unfinished\n",
        "       SFoyer\tSplit Foyer\n",
        "       SLvl\tSplit Level\n",
        "\n",
        "Kitchen_AbvGr: Kitchens above grade\n",
        "\n",
        "Kitchen_Qual: Kitchen quality\n",
        "\n",
        "       Ex\tExcellent\n",
        "       Gd\tGood\n",
        "       TA\tTypical/Average\n",
        "       Fa\tFair\n",
        "       Po\tPoor\n",
        "\n",
        "LandContour: Flatness of the property\n",
        "\n",
        "       Lvl\tNear Flat/Level\t\n",
        "       Bnk\tBanked - Quick and significant rise from street grade to building\n",
        "       HLS\tHillside - Significant slope from side to side\n",
        "       Low\tDepression\n",
        "\t\t\n",
        "Land_Slope: Slope of property\n",
        "\t\t\n",
        "       Gtl\tGentle slope\n",
        "       Mod\tModerate Slope\t\n",
        "       Sev\tSevere Slope\n",
        "\n",
        "Lot_Area: Lot size in square feet\n",
        "\n",
        "Lot_Config: Lot configuration\n",
        "\n",
        "       Inside\tInside lot\n",
        "       Corner\tCorner lot\n",
        "       CulDSac\tCul-de-sac\n",
        "       FR2\tFrontage on 2 sides of property\n",
        "       FR3\tFrontage on 3 sides of property\n",
        "\n",
        "Lot_Shape: General shape of property\n",
        "\n",
        "       Reg\tRegular\t\n",
        "       IR1\tSlightly irregular\n",
        "       IR2\tModerately Irregular\n",
        "       IR3\tIrregular\n",
        "\n",
        "MS_SubClass: Identifies the type of dwelling involved in the sale.\t\n",
        "\n",
        "        20\t1-STORY 1946 & NEWER ALL STYLES\n",
        "        30\t1-STORY 1945 & OLDER\n",
        "        40\t1-STORY W/FINISHED ATTIC ALL AGES\n",
        "        45\t1-1/2 STORY - UNFINISHED ALL AGES\n",
        "        50\t1-1/2 STORY FINISHED ALL AGES\n",
        "        60\t2-STORY 1946 & NEWER\n",
        "        70\t2-STORY 1945 & OLDER\n",
        "        75\t2-1/2 STORY ALL AGES\n",
        "        80\tSPLIT OR MULTI-LEVEL\n",
        "        85\tSPLIT FOYER\n",
        "        90\tDUPLEX - ALL STYLES AND AGES\n",
        "       120\t1-STORY PUD (Planned Unit Development) - 1946 & NEWER\n",
        "       150\t1-1/2 STORY PUD - ALL AGES\n",
        "       160\t2-STORY PUD - 1946 & NEWER\n",
        "       180\tPUD - MULTILEVEL - INCL SPLIT LEV/FOYER\n",
        "       190\t2 FAMILY CONVERSION - ALL STYLES AND AGES\n",
        "\n",
        "MS_Zoning: Identifies the general zoning classification of the sale.\n",
        "\t\t\n",
        "       A\tAgriculture\n",
        "       C\tCommercial\n",
        "       FV\tFloating Village Residential\n",
        "       I\tIndustrial\n",
        "       RH\tResidential High Density\n",
        "       RL\tResidential Low Density\n",
        "       RP\tResidential Low Density Park \n",
        "       RM\tResidential Medium Density\n",
        "\n",
        "Mas_Vnr_Type: Masonry veneer type\n",
        "\n",
        "       BrkCmn\tBrick Common\n",
        "       BrkFace\tBrick Face\n",
        "       CBlock\tCinder Block\n",
        "       None\tNone\n",
        "       Stone\tStone\n",
        "\n",
        "Mo_Sold: Month Sold (MM)\n",
        "\n",
        "Neighborhood: Physical locations within Ames city limits\n",
        "\n",
        "       Blmngtn\tBloomington Heights\n",
        "       Blueste\tBluestem\n",
        "       BrDale\tBriardale\n",
        "       BrkSide\tBrookside\n",
        "       ClearCr\tClear Creek\n",
        "       CollgCr\tCollege Creek\n",
        "       Crawfor\tCrawford\n",
        "       Edwards\tEdwards\n",
        "       Gilbert\tGilbert\n",
        "       IDOTRR\tIowa DOT and Rail Road\n",
        "       MeadowV\tMeadow Village\n",
        "       Mitchel\tMitchell\n",
        "       Names\tNorth Ames\n",
        "       NoRidge\tNorthridge\n",
        "       NPkVill\tNorthpark Villa\n",
        "       NridgHt\tNorthridge Heights\n",
        "       NWAmes\tNorthwest Ames\n",
        "       OldTown\tOld Town\n",
        "       SWISU\tSouth & West of Iowa State University\n",
        "       Sawyer\tSawyer\n",
        "       SawyerW\tSawyer West\n",
        "       Somerst\tSomerset\n",
        "       StoneBr\tStone Brook\n",
        "       Timber\tTimberland\n",
        "       Veenker\tVeenker\n",
        "\t\t\t\n",
        "Overall_Cond: Rates the overall condition of the house\n",
        "\n",
        "       10\tVery Excellent\n",
        "       9\tExcellent\n",
        "       8\tVery Good\n",
        "       7\tGood\n",
        "       6\tAbove Average\t\n",
        "       5\tAverage\n",
        "       4\tBelow Average\t\n",
        "       3\tFair\n",
        "       2\tPoor\n",
        "       1\tVery Poor\n",
        "\n",
        "Overall_Qual: Rates the overall material and finish of the house\n",
        "\n",
        "       10\tVery Excellent\n",
        "       9\tExcellent\n",
        "       8\tVery Good\n",
        "       7\tGood\n",
        "       6\tAbove Average\n",
        "       5\tAverage\n",
        "       4\tBelow Average\n",
        "       3\tFair\n",
        "       2\tPoor\n",
        "       1\tVery Poor\n",
        "\n",
        "Paved_Drive: Paved driveway\n",
        "\n",
        "       Y\tPaved \n",
        "       P\tPartial Pavement\n",
        "       N\tDirt/Gravel\n",
        "\n",
        "Roof_Matl: Roof material\n",
        "\n",
        "       ClyTile\tClay or Tile\n",
        "       CompShg\tStandard (Composite) Shingle\n",
        "       Membran\tMembrane\n",
        "       Metal\tMetal\n",
        "       Roll\tRoll\n",
        "       Tar&Grv\tGravel & Tar\n",
        "       WdShake\tWood Shakes\n",
        "       WdShngl\tWood Shingles\n",
        "\n",
        "Roof_Style: Type of roof\n",
        "\n",
        "       Flat\tFlat\n",
        "       Gable\tGable\n",
        "       Gambrel\tGabrel (Barn)\n",
        "       Hip\tHip\n",
        "       Mansard\tMansard\n",
        "       Shed\tShed\n",
        "\n",
        "SalePrice: the sales price for each house\n",
        "\n",
        "Sale_Condition: Condition of sale\n",
        "\n",
        "       Normal\tNormal Sale\n",
        "       Abnorml\tAbnormal Sale -  trade, foreclosure, short sale\n",
        "       AdjLand\tAdjoining Land Purchase\n",
        "       Alloca\tAllocation - two linked properties with separate deeds, typically condo with a garage unit\t\n",
        "       Family\tSale between family members\n",
        "       Partial\tHome was not completed when last assessed (associated with New Homes)\n",
        "\n",
        "Sale_Type: Type of sale\n",
        "\t\t\n",
        "       WD \tWarranty Deed - Conventional\n",
        "       CWD\tWarranty Deed - Cash\n",
        "       VWD\tWarranty Deed - VA Loan\n",
        "       New\tHome just constructed and sold\n",
        "       COD\tCourt Officer Deed/Estate\n",
        "       Con\tContract 15% Down payment regular terms\n",
        "       ConLw\tContract Low Down payment and low interest\n",
        "       ConLI\tContract Low Interest\n",
        "       ConLD\tContract Low Down\n",
        "       Oth\tOther\n",
        "\t\n",
        "Street: Type of road access to property\n",
        "\n",
        "       Grvl\tGravel\t\n",
        "       Pave\tPaved\n",
        "       \t\n",
        "TotRms_AbvGrd: Total rooms above grade (does not include bathrooms)\n",
        "\n",
        "Utilities: Type of utilities available\n",
        "\t\t\n",
        "       AllPub\tAll public Utilities (E,G,W,& S)\t\n",
        "       NoSewr\tElectricity, Gas, and Water (Septic Tank)\n",
        "       NoSeWa\tElectricity and Gas Only\n",
        "       ELO\tElectricity only\t\n",
        "\t\n",
        "Year_Built: Original construction date\n",
        "\n",
        "Year_Remod/Add: Remodel date (same as construction date if no remodeling or additions)\n",
        "\t\t\t\t\t\t\n",
        "Yr_Sold: Year Sold (YYYY)\t\n",
        "\n",
        "```"
      ]
    }
  ]
}