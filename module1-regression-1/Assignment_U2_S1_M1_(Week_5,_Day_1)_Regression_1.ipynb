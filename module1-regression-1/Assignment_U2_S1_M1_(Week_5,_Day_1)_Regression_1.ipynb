{
  "nbformat": 4,
  "nbformat_minor": 0,
  "metadata": {
    "colab": {
      "name": "Assignment - U2-S1-M1 (Week 5, Day 1) - Regression 1.ipynb",
      "provenance": [],
      "collapsed_sections": [],
      "include_colab_link": true
    },
    "kernelspec": {
      "display_name": "Python 3",
      "language": "python",
      "name": "python3"
    },
    "language_info": {
      "codemirror_mode": {
        "name": "ipython",
        "version": 3
      },
      "file_extension": ".py",
      "mimetype": "text/x-python",
      "name": "python",
      "nbconvert_exporter": "python",
      "pygments_lexer": "ipython3",
      "version": "3.7.3"
    }
  },
  "cells": [
    {
      "cell_type": "markdown",
      "metadata": {
        "id": "view-in-github",
        "colab_type": "text"
      },
      "source": [
        "<a href=\"https://colab.research.google.com/github/chrishuskey/DS-Unit-2-Linear-Models/blob/master/module1-regression-1/Assignment_U2_S1_M1_(Week_5%2C_Day_1)_Regression_1.ipynb\" target=\"_parent\"><img src=\"https://colab.research.google.com/assets/colab-badge.svg\" alt=\"Open In Colab\"/></a>"
      ]
    },
    {
      "cell_type": "markdown",
      "metadata": {
        "id": "GMVT6sEUvx4l",
        "colab_type": "text"
      },
      "source": [
        "Lambda School Data Science\n",
        "\n",
        "*Unit 2, Sprint 1, Module 1*\n",
        "\n",
        "---"
      ]
    },
    {
      "cell_type": "markdown",
      "metadata": {
        "colab_type": "text",
        "id": "7IXUfiQ2UKj6"
      },
      "source": [
        "# Regression 1\n",
        "\n",
        "## Assignment\n",
        "\n",
        "You'll use another **New York City** real estate dataset. \n",
        "\n",
        "But now you'll **predict how much it costs to rent an apartment**, instead of how much it costs to buy a condo.\n",
        "\n",
        "The data comes from renthop.com, an apartment listing website.\n",
        "\n",
        "- [✓] Look at the data. Choose a feature, and plot its relationship with the target.\n",
        "- [✓] Use scikit-learn for linear regression with one feature. You can follow the [5-step process from Jake VanderPlas](https://jakevdp.github.io/PythonDataScienceHandbook/05.02-introducing-scikit-learn.html#Basics-of-the-API).\n",
        "- [✓] Define a function to make new predictions and explain the model coefficient.\n",
        "- [✓] Organize and comment your code.\n",
        "\n",
        "> [✓] Do Not Copy-Paste.](https://docs.google.com/document/d/1ubOw9B3Hfip27hF2ZFnW3a3z9xAgrUDRReOEo-FHCVs/edit) You must type each of these exercises in, manually. If you copy and paste, you might as well not even do them. The point of these exercises is to train your hands, your brain, and your mind in how to read, write, and see code. If you copy-paste, you are cheating yourself out of the effectiveness of the lessons.\n",
        "\n",
        "## Stretch Goals\n",
        "- [ ] Do linear regression with two or more features.\n",
        "- [ ] Read [The Discovery of Statistical Regression](https://priceonomics.com/the-discovery-of-statistical-regression/)\n",
        "- [ ] Read [_An Introduction to Statistical Learning_](http://faculty.marshall.usc.edu/gareth-james/ISL/ISLR%20Seventh%20Printing.pdf), Chapter 2.1: What Is Statistical Learning?"
      ]
    },
    {
      "cell_type": "markdown",
      "metadata": {
        "id": "J0tj77eZuFmx",
        "colab_type": "text"
      },
      "source": [
        "**Setup and get data:**"
      ]
    },
    {
      "cell_type": "code",
      "metadata": {
        "id": "CBC9H4EPTx0H",
        "colab_type": "code",
        "colab": {}
      },
      "source": [
        "# Import libraries:\n",
        "import sys\n",
        "import numpy as np\n",
        "import pandas as pd\n",
        "import matplotlib.pyplot as plt\n",
        "import seaborn as sns\n",
        "import datetime\n",
        "from sklearn.model_selection import train_test_split\n",
        "from sklearn.metrics import mean_absolute_error"
      ],
      "execution_count": 0,
      "outputs": []
    },
    {
      "cell_type": "code",
      "metadata": {
        "id": "nyEPA3jiU-zw",
        "colab_type": "code",
        "colab": {}
      },
      "source": [
        "# Ignore this Numpy warning when using Plotly Express:\n",
        "# FutureWarning: Method .ptp is deprecated and will be removed in a future version. Use numpy.ptp instead.\n",
        "import warnings\n",
        "warnings.filterwarnings(action='ignore', category=FutureWarning, module='numpy')"
      ],
      "execution_count": 0,
      "outputs": []
    },
    {
      "cell_type": "code",
      "metadata": {
        "colab_type": "code",
        "id": "o9eSnDYhUGD7",
        "colab": {}
      },
      "source": [
        "# Checks if you're in Google CoLab:\n",
        "if 'google.colab' in sys.modules:\n",
        "  # --> Fills URL for data file (in GitHub repo for this unit):\n",
        "  DATA_PATH = 'https://raw.githubusercontent.com/LambdaSchool/DS-Unit-2-Applied-Modeling/master/data/'"
      ],
      "execution_count": 0,
      "outputs": []
    },
    {
      "cell_type": "code",
      "metadata": {
        "colab_type": "code",
        "id": "4S2wXSrFV_g4",
        "colab": {}
      },
      "source": [
        "# Read New York City apartment rental listing data into dataframe:\n",
        "import pandas as pd\n",
        "housing_data = pd.read_csv(DATA_PATH+'apartments/renthop-nyc.csv')\n",
        "assert housing_data.shape == (49352, 34)"
      ],
      "execution_count": 0,
      "outputs": []
    },
    {
      "cell_type": "markdown",
      "metadata": {
        "id": "Z5K0c-aRuL29",
        "colab_type": "text"
      },
      "source": [
        "**Data Prep.:**"
      ]
    },
    {
      "cell_type": "code",
      "metadata": {
        "id": "aDAPW-QXvx4v",
        "colab_type": "code",
        "colab": {}
      },
      "source": [
        "# Remove outliers: \n",
        "# the most extreme 0.1% prices,\n",
        "# the most extreme 0.1% of latitudes (farther from the zone considered)\n",
        "# the most extreme 0.1% of longitudes (farther from the zone considered)\n",
        "housing_data = housing_data[(housing_data['price'] >= housing_data['price'].quantile(0.001)) & (housing_data['price'] <= housing_data['price'].quantile(0.999)) & \n",
        "        (housing_data['latitude'] >= housing_data['latitude'].quantile(0.001)) & (housing_data['latitude'] <= housing_data['latitude'].quantile(0.999)) &\n",
        "        (housing_data['longitude'] >= housing_data['longitude'].quantile(0.001)) & (housing_data['longitude'] <= housing_data['longitude'].quantile(0.999))]"
      ],
      "execution_count": 0,
      "outputs": []
    },
    {
      "cell_type": "code",
      "metadata": {
        "id": "XOljJE0bk4-g",
        "colab_type": "code",
        "colab": {}
      },
      "source": [
        "# Change to right data types:\n",
        "housing_data['created'] = pd.to_datetime(housing_data['created'])"
      ],
      "execution_count": 0,
      "outputs": []
    },
    {
      "cell_type": "code",
      "metadata": {
        "id": "YpIOOrTDtuPh",
        "colab_type": "code",
        "colab": {}
      },
      "source": [
        "# Drop text columns we don't need that have lots of NaN values:\n",
        "housing_data = housing_data.drop(columns=['description', 'display_address', 'street_address'])"
      ],
      "execution_count": 0,
      "outputs": []
    },
    {
      "cell_type": "code",
      "metadata": {
        "id": "9HQbqRzdrFXC",
        "colab_type": "code",
        "colab": {}
      },
      "source": [
        "# Separate into training and test datasets:\n",
        "training, test = train_test_split(housing_data, train_size=0.50, test_size=0.50, random_state=27)"
      ],
      "execution_count": 0,
      "outputs": []
    },
    {
      "cell_type": "markdown",
      "metadata": {
        "id": "eVh-yNcfnvfK",
        "colab_type": "text"
      },
      "source": [
        "**Baseline:  Dummy Mean:  Predict price will is always the mean**"
      ]
    },
    {
      "cell_type": "code",
      "metadata": {
        "id": "2XF_MFHBoN5X",
        "colab_type": "code",
        "colab": {
          "base_uri": "https://localhost:8080/",
          "height": 34
        },
        "outputId": "0c670849-682b-4dd9-ef9e-08f2e1eb4378"
      },
      "source": [
        "# Train Dummy Baseline (mean) model:\n",
        "from sklearn.dummy import DummyRegressor\n",
        "model = DummyRegressor(strategy='mean')\n",
        "\n",
        "features = ['bedrooms']\n",
        "target = 'price'\n",
        "\n",
        "# Train (fit) the model:\n",
        "model.fit(training[features], training[target])"
      ],
      "execution_count": 447,
      "outputs": [
        {
          "output_type": "execute_result",
          "data": {
            "text/plain": [
              "DummyRegressor(constant=None, quantile=None, strategy='mean')"
            ]
          },
          "metadata": {
            "tags": []
          },
          "execution_count": 447
        }
      ]
    },
    {
      "cell_type": "code",
      "metadata": {
        "id": "G03A6jsU5wau",
        "colab_type": "code",
        "colab": {
          "base_uri": "https://localhost:8080/",
          "height": 494
        },
        "outputId": "0f7a4fe7-07e5-478c-d3bb-83ed538fad4f"
      },
      "source": [
        "# Plot scatter plot of training and test sets, to visualize better:\n",
        "ax = sns.jointplot(data=training, x=features, y=target, color='lightsteelblue', kind='reg', dropna=False, label='Training')\n",
        "plt.scatter(x=test[features], y=test[target], color='navy', label='Test')\n",
        "\n",
        "axes = plt.gca()\n",
        "x_values = [i/100 for i in range(int(axes.get_xlim()[0] * 100), int(axes.get_xlim()[1] * 100))]\n",
        "\n",
        "# Get model predictions, and plot them as a line on top:\n",
        "predictions = model.predict(x_values)\n",
        "plt.plot(x_values, predictions, linewidth=3.5, linestyle='--', color='goldenrod', label='Baseline (Mean)')\n",
        "\n",
        "# Format chart:\n",
        "ax.fig.suptitle('Dummy Baseline (Mean) Model Predictions', fontweight='bold')\n",
        "ax.fig.subplots_adjust(top=0.94)\n",
        "plt.legend(loc='upper right')\n",
        "plt.show()\n",
        "\n",
        "# Calculate and print error (MAE) for training data:\n",
        "y_pred = model.predict(training[features])\n",
        "y_true = training[target]\n",
        "training_error = mean_absolute_error(y_true, y_pred)\n",
        "print('Mean absolute error (MAE) of this model:')\n",
        "print('Training set error:', round(training_error, 1))\n",
        "\n",
        "# Calculate and print error (MAE) for test data:\n",
        "y_pred = model.predict(test[features])\n",
        "y_true = test[target]\n",
        "test_error = mean_absolute_error(y_true, y_pred)\n",
        "print('Test set error:', round(test_error, 1))"
      ],
      "execution_count": 448,
      "outputs": [
        {
          "output_type": "display_data",
          "data": {
            "image/png": "[encoded data removed]",
            "text/plain": [
              "<Figure size 432x432 with 3 Axes>"
            ]
          },
          "metadata": {
            "tags": []
          }
        },
        {
          "output_type": "stream",
          "text": [
            "Mean absolute error (MAE) of this model:\n",
            "Training set error: 1306.0\n",
            "Test set error: 1291.7\n"
          ],
          "name": "stdout"
        }
      ]
    },
    {
      "cell_type": "code",
      "metadata": {
        "id": "2CmE_J_NvOxa",
        "colab_type": "code",
        "colab": {}
      },
      "source": [
        "# # Backup in matplotlib (only):\n",
        "\n",
        "# # Plot scatter plot of training and test sets:\n",
        "# plt.scatter(x=training[features], y=training[target], color='lightsteelblue')\n",
        "# plt.scatter(x=test[features], y=test[target], color='navy')\n",
        "\n",
        "# axes = plt.gca()\n",
        "# x_values = [i/100 for i in range(int(axes.get_xlim()[0] * 100), int(axes.get_xlim()[1] * 100))]\n",
        "\n",
        "# # Get model predictions, and plot them as a line on top:\n",
        "# predictions = model.predict(x_values)\n",
        "# plt.plot(x_values, predictions)\n",
        "\n",
        "# plt.show()"
      ],
      "execution_count": 0,
      "outputs": []
    },
    {
      "cell_type": "markdown",
      "metadata": {
        "id": "btJX3I_UDtns",
        "colab_type": "text"
      },
      "source": [
        "**Linear Regression Model:  1 Feature**"
      ]
    },
    {
      "cell_type": "code",
      "metadata": {
        "id": "RSlH-f8l2SzY",
        "colab_type": "code",
        "colab": {
          "base_uri": "https://localhost:8080/",
          "height": 34
        },
        "outputId": "9ea4e45b-0d11-40cd-826c-479333689689"
      },
      "source": [
        "# Train linear regression model:\n",
        "from sklearn.linear_model import LinearRegression\n",
        "model = LinearRegression()\n",
        "\n",
        "# Train (fit) the model:\n",
        "model.fit(training[features], training[target])"
      ],
      "execution_count": 450,
      "outputs": [
        {
          "output_type": "execute_result",
          "data": {
            "text/plain": [
              "LinearRegression(copy_X=True, fit_intercept=True, n_jobs=None, normalize=False)"
            ]
          },
          "metadata": {
            "tags": []
          },
          "execution_count": 450
        }
      ]
    },
    {
      "cell_type": "code",
      "metadata": {
        "id": "qJfpgn09npQA",
        "colab_type": "code",
        "colab": {
          "base_uri": "https://localhost:8080/",
          "height": 545
        },
        "outputId": "f5e09a4f-e469-4730-ebd2-9cc57df1d834"
      },
      "source": [
        "# Plot scatter plot of training and test sets, to visualize better:\n",
        "ax = sns.jointplot(data=training, x=features, y=target, color='lightsteelblue', kind='reg', dropna=False, label='Training')\n",
        "plt.scatter(x=test[features], y=test[target], color='navy', label='Test')\n",
        "\n",
        "axes = plt.gca()\n",
        "x_values = [[i/100] for i in range(int(axes.get_xlim()[0] * 100), int(axes.get_xlim()[1] * 100))]  # Need to put [i/100] in brackets to put it in 2 dimensions instead of 1, otherwise sklearn model won't work (returns error due to mismatched dimensions) because differeent # of dimensions from the training data (which had 2 dims).\n",
        "\n",
        "# Get model predictions, and plot them as a line on top:\n",
        "predictions = model.predict(x_values)\n",
        "plt.plot(x_values, predictions, linewidth=3.5, linestyle='--', color='goldenrod', label='Linear Regression')\n",
        "\n",
        "# Format chart:\n",
        "ax.fig.suptitle('Linear Regression Model Predictions', fontweight='bold')\n",
        "ax.fig.subplots_adjust(top=0.94)\n",
        "plt.legend(loc='upper right')\n",
        "plt.show()\n",
        "\n",
        "# Get the coefficients, and print the equation for the line:\n",
        "m_value = model.coef_[0]\n",
        "b_value = model.intercept_\n",
        "print('The equation for our regression line is\\n: y = ', m_value, '* x + ', b_value, '\\n')\n",
        "\n",
        "# Calculate and print error (MAE) for training data:\n",
        "y_pred = model.predict(training[features])\n",
        "y_true = training[target]\n",
        "training_error = mean_absolute_error(y_true, y_pred)\n",
        "print('Mean absolute error (MAE) of this model:')\n",
        "print('Training set error:', round(training_error, 1))\n",
        "\n",
        "# Calculate and print error (MAE) for test data:\n",
        "y_pred = model.predict(test[features])\n",
        "y_true = test[target]\n",
        "test_error = mean_absolute_error(y_true, y_pred)\n",
        "print('Test set error:', round(test_error, 1))"
      ],
      "execution_count": 451,
      "outputs": [
        {
          "output_type": "display_data",
          "data": {
            "image/png": "[encoded data removed]",
            "text/plain": [
              "<Figure size 432x432 with 3 Axes>"
            ]
          },
          "metadata": {
            "tags": []
          }
        },
        {
          "output_type": "stream",
          "text": [
            "The equation for our regression line is\n",
            ": y =  979.8087778401455 * x +  2150.7905607200446 \n",
            "\n",
            "Mean absolute error (MAE) of this model:\n",
            "Training set error: 1082.4\n",
            "Test set error: 1059.3\n"
          ],
          "name": "stdout"
        }
      ]
    },
    {
      "cell_type": "code",
      "metadata": {
        "id": "j-Y0dO8KnR27",
        "colab_type": "code",
        "colab": {}
      },
      "source": [
        "# Check:  Our linear regression model above looks like it matches Seaborn's \n",
        "# linear (from jointplot kind='reg') regression line exactly, so it looks like \n",
        "# our model checks out."
      ],
      "execution_count": 0,
      "outputs": []
    },
    {
      "cell_type": "markdown",
      "metadata": {
        "id": "Tjt34bj-HASV",
        "colab_type": "text"
      },
      "source": [
        "**\"Define a function to make new predictions and tell us the model coefficients\":**"
      ]
    },
    {
      "cell_type": "code",
      "metadata": {
        "id": "_La791V_GMBE",
        "colab_type": "code",
        "colab": {}
      },
      "source": [
        "# Define new function that returns our linear regression model's predicted \n",
        "# rent(s) for apartment(s) with the number of bedrooms fed in as an input. \n",
        "# Accepts ints, floats (returns 1 price) or lists, arrays or series (returns \n",
        "# array of corresponding prices).  Returns list of [price(s), slope, intercept].\n",
        "\n",
        "def predict_price(bedrooms):\n",
        "  # bedrooms = round(bedrooms, 0)  # Technically should only predict price values at whole number intervals for bedrooms...\n",
        "  slope = model.coef_[0]\n",
        "  intercept = model.intercept_\n",
        "  if isinstance(bedrooms, (int, float)):\n",
        "    predicted_price = model.predict([[bedrooms]])  # Put the input number (bedrooms) in 2D, because we trained the sklearn linear regressor on with features as a dataframe (2D).\n",
        "    print('Predicted monthly rent for a house with ', bedrooms, 'bedrooms in this neighborhood: \\n$', round(predicted_price[0], 2))\n",
        "    print('Each additional bedroom you want will increase your rent by an avg. of approx.: \\n$', round(slope, 2), '\\n')\n",
        "    return [predicted_price[0], slope, intercept]\n",
        "  elif isinstance(bedrooms, (list, np.ndarray, pd.core.series.Series)):\n",
        "    predicted_price = model.predict(pd.DataFrame(bedrooms))  # Put the input (bedrooms) in 2D, because we trained the sklearn linear regressor on with features as a dataframe (2D).\n",
        "    print('Predicted monthly rent (in USD) for a house with the input numbers of bedrooms in this neighborhood:\\n', predicted_price, '\\n')\n",
        "    print('Each additional bedroom you want will increase your rent by an avg. of approx.: \\n$', round(slope, 2), '\\n')\n",
        "    return [predicted_price, slope, intercept]\n",
        "  elif isinstance(bedrooms, (pd.core.frame.DataFrame)):\n",
        "    return \"Error:  Expected <=2 dimensions, but received 3.\""
      ],
      "execution_count": 0,
      "outputs": []
    },
    {
      "cell_type": "code",
      "metadata": {
        "id": "zL6RYTceOiGB",
        "colab_type": "code",
        "colab": {
          "base_uri": "https://localhost:8080/",
          "height": 119
        },
        "outputId": "7e7b515e-a545-442c-bba2-84e61a01a041"
      },
      "source": [
        "# Test above function with int:\n",
        "bedrooms = 5\n",
        "predict_price(bedrooms)"
      ],
      "execution_count": 668,
      "outputs": [
        {
          "output_type": "stream",
          "text": [
            "Predicted monthly rent for a house with  5 bedrooms in this neighborhood: \n",
            "$ 7049.83\n",
            "Each additional bedroom you want will increase your rent by an avg. of approx.: \n",
            "$ 979.81 \n",
            "\n"
          ],
          "name": "stdout"
        },
        {
          "output_type": "execute_result",
          "data": {
            "text/plain": [
              "[7049.834449920772, 979.8087778401455, 2150.7905607200446]"
            ]
          },
          "metadata": {
            "tags": []
          },
          "execution_count": 668
        }
      ]
    },
    {
      "cell_type": "code",
      "metadata": {
        "id": "rM5DS5ZdKaJZ",
        "colab_type": "code",
        "colab": {
          "base_uri": "https://localhost:8080/",
          "height": 170
        },
        "outputId": "549a4b9b-342c-4c49-b7be-09ce6984fae4"
      },
      "source": [
        "# Test above function with array of different numbers of bedrooms:\n",
        "bedrooms = np.array([1, 2, 3, 4, 5, 6])\n",
        "predict_price(bedrooms)"
      ],
      "execution_count": 669,
      "outputs": [
        {
          "output_type": "stream",
          "text": [
            "Predicted monthly rent (in USD) for a house with the input numbers of bedrooms in this neighborhood:\n",
            " [3130.59933856 4110.4081164  5090.21689424 6070.02567208 7049.83444992\n",
            " 8029.64322776] \n",
            "\n",
            "Each additional bedroom you want will increase your rent by an avg. of approx.: \n",
            "$ 979.81 \n",
            "\n"
          ],
          "name": "stdout"
        },
        {
          "output_type": "execute_result",
          "data": {
            "text/plain": [
              "[array([3130.59933856, 4110.4081164 , 5090.21689424, 6070.02567208,\n",
              "        7049.83444992, 8029.64322776]), 979.8087778401455, 2150.7905607200446]"
            ]
          },
          "metadata": {
            "tags": []
          },
          "execution_count": 669
        }
      ]
    },
    {
      "cell_type": "markdown",
      "metadata": {
        "id": "gMtdTN3_Wp4h",
        "colab_type": "text"
      },
      "source": [
        "**Stretch:  Linear Regression with 2 Features**\n",
        "(even though there aren't really 2 applicable continuous features in this dataset...)"
      ]
    },
    {
      "cell_type": "code",
      "metadata": {
        "id": "QzvFvREzW4sV",
        "colab_type": "code",
        "colab": {}
      },
      "source": [
        "features = ['bedrooms', 'latitude', 'longitude']\n",
        "target = 'price'"
      ],
      "execution_count": 0,
      "outputs": []
    },
    {
      "cell_type": "code",
      "metadata": {
        "id": "BwQHgu_cW5rn",
        "colab_type": "code",
        "colab": {
          "base_uri": "https://localhost:8080/",
          "height": 34
        },
        "outputId": "c3f60403-1f0f-4516-9efd-59667b36f946"
      },
      "source": [
        "# Train linear regression model:\n",
        "from sklearn.linear_model import LinearRegression\n",
        "model = LinearRegression()\n",
        "\n",
        "# Train (fit) the model:\n",
        "model.fit(training[features], training[target])"
      ],
      "execution_count": 672,
      "outputs": [
        {
          "output_type": "execute_result",
          "data": {
            "text/plain": [
              "LinearRegression(copy_X=True, fit_intercept=True, n_jobs=None, normalize=False)"
            ]
          },
          "metadata": {
            "tags": []
          },
          "execution_count": 672
        }
      ]
    },
    {
      "cell_type": "code",
      "metadata": {
        "id": "DDyw9yhgW_S9",
        "colab_type": "code",
        "colab": {
          "base_uri": "https://localhost:8080/",
          "height": 238
        },
        "outputId": "102d82c6-acd6-4410-f6b2-9453083bf6b4"
      },
      "source": [
        "# # Plot scatter plot of training and test sets, to visualize better:\n",
        "# ax = sns.jointplot(data=training, x=features, y=target, hue='deep', kind='reg', dropna=False, label='Training')\n",
        "# # plt.scatter(x=test[features], y=test[target], color='navy', label='Test')\n",
        "\n",
        "# axes = plt.gca()\n",
        "# x_values = [[i/100] for i in range(int(axes.get_xlim()[0] * 100), int(axes.get_xlim()[1] * 100))]  # Need to put [i/100] in brackets to put it in 2 dimensions instead of 1, otherwise sklearn model won't work (returns error due to mismatched dimensions) because differeent # of dimensions from the training data (which had 2 dims).\n",
        "\n",
        "# # Get model predictions, and plot them as a line on top:\n",
        "# predictions = model.predict(x_values)\n",
        "# plt.plot(x_values, predictions, linewidth=3.5, linestyle='--', color='goldenrod', label='Linear Regression')\n",
        "\n",
        "# # Format chart:\n",
        "# ax.fig.suptitle('Linear Regression Model Predictions', fontweight='bold')\n",
        "# ax.fig.subplots_adjust(top=0.94)\n",
        "# plt.legend(loc='upper right')\n",
        "# plt.show()\n",
        "\n",
        "# Get the coefficients, and print the equation for the line:\n",
        "m_value = model.coef_\n",
        "b_value = model.intercept_\n",
        "print('The equation for our regression line is: \\ny = ')\n",
        "for feature in range(len(features)):\n",
        "  print(m_value[feature], '* (x', feature, ') \\n+ ')\n",
        "print(b_value, '\\n')\n",
        "\n",
        "# Calculate and print error (MAE) for training data:\n",
        "y_pred = model.predict(training[features])\n",
        "y_true = training[target]\n",
        "training_error = mean_absolute_error(y_true, y_pred)\n",
        "print('Mean absolute error (MAE) of this model:')\n",
        "print('Training set error:', round(training_error, 1))\n",
        "\n",
        "# Calculate and print error (MAE) for test data:\n",
        "y_pred = model.predict(test[features])\n",
        "y_true = test[target]\n",
        "test_error = mean_absolute_error(y_true, y_pred)\n",
        "print('Test set error:', round(test_error, 1))"
      ],
      "execution_count": 698,
      "outputs": [
        {
          "output_type": "stream",
          "text": [
            "The equation for our regression line is: \n",
            "y = \n",
            "1004.12261186312 * (x 0 ) \n",
            "+ \n",
            "3587.13982869949 * (x 1 ) \n",
            "+ \n",
            "-19540.926333307114 * (x 2 ) \n",
            "+ \n",
            "-1589563.473620545 \n",
            "\n",
            "Mean absolute error (MAE) of this model:\n",
            "Training set error: 997.8\n",
            "Test set error: 977.0\n"
          ],
          "name": "stdout"
        }
      ]
    }
  ]
}