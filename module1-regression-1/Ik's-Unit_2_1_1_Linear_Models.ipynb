{
  "nbformat": 4,
  "nbformat_minor": 0,
  "metadata": {
    "colab": {
      "name": "Unit-2-1-1 Linear Models.ipynb",
      "provenance": [],
      "authorship_tag": "ABX9TyMkkEUznTNnwrHNGMwSOlJG",
      "include_colab_link": true
    },
    "kernelspec": {
      "name": "python3",
      "display_name": "Python 3"
    }
  },
  "cells": [
    {
      "cell_type": "markdown",
      "metadata": {
        "id": "view-in-github",
        "colab_type": "text"
      },
      "source": [
        "<a href=\"https://colab.research.google.com/github/ik-okoro/DS-Unit-2-Linear-Models/blob/master/module1-regression-1/Ik's-Unit_2_1_1_Linear_Models.ipynb\" target=\"_parent\"><img src=\"https://colab.research.google.com/assets/colab-badge.svg\" alt=\"Open In Colab\"/></a>"
      ]
    },
    {
      "cell_type": "code",
      "metadata": {
        "id": "wuRcNyi4iDsQ"
      },
      "source": [
        "import sys\n",
        "\n",
        "# If you're on Colab:\n",
        "if 'google.colab' in sys.modules:\n",
        "    DATA_PATH = 'https://raw.githubusercontent.com/LambdaSchool/DS-Unit-2-Applied-Modeling/master/data/'\n",
        "\n",
        "# If you're working locally:\n",
        "else:\n",
        "    DATA_PATH = '../data/'\n",
        "    \n",
        "# Ignore this Numpy warning when using Plotly Express:\n",
        "# FutureWarning: Method .ptp is deprecated and will be removed in a future version. Use numpy.ptp instead.\n",
        "import warnings\n",
        "warnings.filterwarnings(action='ignore', category=FutureWarning, module='numpy')"
      ],
      "execution_count": 1,
      "outputs": []
    },
    {
      "cell_type": "markdown",
      "metadata": {
        "id": "kE3m0OiFiUL1"
      },
      "source": [
        "# Wrangle Data"
      ]
    },
    {
      "cell_type": "markdown",
      "metadata": {
        "id": "9rW4pe7ViXTR"
      },
      "source": [
        "## 1.1 Import Data"
      ]
    },
    {
      "cell_type": "code",
      "metadata": {
        "id": "Bw6WbSF9ib6_"
      },
      "source": [
        "import pandas as pd\n",
        "\n",
        "dtype_dict = {\"ZIP_CODE\" : \"object\"}\n",
        "\n",
        "df = pd.read_csv(DATA_PATH + \"condos/tribeca.csv\", parse_dates=[\"SALE_DATE\"], index_col=[\"SALE_DATE\"], na_values=0, dtype=dtype_dict)"
      ],
      "execution_count": 9,
      "outputs": []
    },
    {
      "cell_type": "markdown",
      "metadata": {
        "id": "YxZ3mQJci5cV"
      },
      "source": [
        "## 1.2 EDA"
      ]
    },
    {
      "cell_type": "code",
      "metadata": {
        "id": "K6rDA8wgiwPf",
        "outputId": "0943a282-037b-4ee7-926d-fb0d7942de07",
        "colab": {
          "base_uri": "https://localhost:8080/",
          "height": 34
        }
      },
      "source": [
        "df.shape"
      ],
      "execution_count": 3,
      "outputs": [
        {
          "output_type": "execute_result",
          "data": {
            "text/plain": [
              "(90, 9)"
            ]
          },
          "metadata": {
            "tags": []
          },
          "execution_count": 3
        }
      ]
    },
    {
      "cell_type": "code",
      "metadata": {
        "id": "q7NHGI6Di9AT",
        "outputId": "e005a585-19a8-4da8-afc8-05776d259f48",
        "colab": {
          "base_uri": "https://localhost:8080/",
          "height": 227
        }
      },
      "source": [
        "df.head()"
      ],
      "execution_count": 10,
      "outputs": [
        {
          "output_type": "execute_result",
          "data": {
            "text/html": [
              "<div>\n",
              "<style scoped>\n",
              "    .dataframe tbody tr th:only-of-type {\n",
              "        vertical-align: middle;\n",
              "    }\n",
              "\n",
              "    .dataframe tbody tr th {\n",
              "        vertical-align: top;\n",
              "    }\n",
              "\n",
              "    .dataframe thead th {\n",
              "        text-align: right;\n",
              "    }\n",
              "</style>\n",
              "<table border=\"1\" class=\"dataframe\">\n",
              "  <thead>\n",
              "    <tr style=\"text-align: right;\">\n",
              "      <th></th>\n",
              "      <th>NEIGHBORHOOD</th>\n",
              "      <th>BUILDING_CLASS_CATEGORY</th>\n",
              "      <th>ADDRESS</th>\n",
              "      <th>APARTMENT_NUMBER</th>\n",
              "      <th>ZIP_CODE</th>\n",
              "      <th>GROSS_SQUARE_FEET</th>\n",
              "      <th>YEAR_BUILT</th>\n",
              "      <th>SALE_PRICE</th>\n",
              "    </tr>\n",
              "    <tr>\n",
              "      <th>SALE_DATE</th>\n",
              "      <th></th>\n",
              "      <th></th>\n",
              "      <th></th>\n",
              "      <th></th>\n",
              "      <th></th>\n",
              "      <th></th>\n",
              "      <th></th>\n",
              "      <th></th>\n",
              "    </tr>\n",
              "  </thead>\n",
              "  <tbody>\n",
              "    <tr>\n",
              "      <th>2019-01-03</th>\n",
              "      <td>TRIBECA</td>\n",
              "      <td>13 CONDOS - ELEVATOR APARTMENTS</td>\n",
              "      <td>181 HUDSON STREET, 6D</td>\n",
              "      <td>6D</td>\n",
              "      <td>10013.0</td>\n",
              "      <td>1840.0</td>\n",
              "      <td>1909.0</td>\n",
              "      <td>2800000</td>\n",
              "    </tr>\n",
              "    <tr>\n",
              "      <th>2019-01-07</th>\n",
              "      <td>TRIBECA</td>\n",
              "      <td>13 CONDOS - ELEVATOR APARTMENTS</td>\n",
              "      <td>10 LITTLE WEST STREET, 19A</td>\n",
              "      <td>19A</td>\n",
              "      <td>10004.0</td>\n",
              "      <td>1759.0</td>\n",
              "      <td>NaN</td>\n",
              "      <td>2650000</td>\n",
              "    </tr>\n",
              "    <tr>\n",
              "      <th>2019-01-09</th>\n",
              "      <td>TRIBECA</td>\n",
              "      <td>13 CONDOS - ELEVATOR APARTMENTS</td>\n",
              "      <td>30 LITTLE WEST STREET, 7G</td>\n",
              "      <td>7G</td>\n",
              "      <td>10004.0</td>\n",
              "      <td>1190.0</td>\n",
              "      <td>2005.0</td>\n",
              "      <td>1005000</td>\n",
              "    </tr>\n",
              "    <tr>\n",
              "      <th>2019-01-10</th>\n",
              "      <td>TRIBECA</td>\n",
              "      <td>13 CONDOS - ELEVATOR APARTMENTS</td>\n",
              "      <td>2 RIVER TERRACE, 4C</td>\n",
              "      <td>4C</td>\n",
              "      <td>NaN</td>\n",
              "      <td>1088.0</td>\n",
              "      <td>2006.0</td>\n",
              "      <td>1678000</td>\n",
              "    </tr>\n",
              "    <tr>\n",
              "      <th>2019-01-11</th>\n",
              "      <td>TRIBECA</td>\n",
              "      <td>13 CONDOS - ELEVATOR APARTMENTS</td>\n",
              "      <td>380 RECTOR PLACE, 10A</td>\n",
              "      <td>10A</td>\n",
              "      <td>10280.0</td>\n",
              "      <td>873.0</td>\n",
              "      <td>NaN</td>\n",
              "      <td>1380000</td>\n",
              "    </tr>\n",
              "  </tbody>\n",
              "</table>\n",
              "</div>"
            ],
            "text/plain": [
              "           NEIGHBORHOOD  ... SALE_PRICE\n",
              "SALE_DATE                ...           \n",
              "2019-01-03      TRIBECA  ...    2800000\n",
              "2019-01-07      TRIBECA  ...    2650000\n",
              "2019-01-09      TRIBECA  ...    1005000\n",
              "2019-01-10      TRIBECA  ...    1678000\n",
              "2019-01-11      TRIBECA  ...    1380000\n",
              "\n",
              "[5 rows x 8 columns]"
            ]
          },
          "metadata": {
            "tags": []
          },
          "execution_count": 10
        }
      ]
    },
    {
      "cell_type": "code",
      "metadata": {
        "id": "DT5DoJZUjAuS",
        "outputId": "828138d4-dd7b-4165-f4e1-d6e837d13886",
        "colab": {
          "base_uri": "https://localhost:8080/",
          "height": 283
        }
      },
      "source": [
        "df.info()"
      ],
      "execution_count": 11,
      "outputs": [
        {
          "output_type": "stream",
          "text": [
            "<class 'pandas.core.frame.DataFrame'>\n",
            "DatetimeIndex: 90 entries, 2019-01-03 to 2019-04-30\n",
            "Data columns (total 8 columns):\n",
            " #   Column                   Non-Null Count  Dtype  \n",
            "---  ------                   --------------  -----  \n",
            " 0   NEIGHBORHOOD             90 non-null     object \n",
            " 1   BUILDING_CLASS_CATEGORY  90 non-null     object \n",
            " 2   ADDRESS                  90 non-null     object \n",
            " 3   APARTMENT_NUMBER         90 non-null     object \n",
            " 4   ZIP_CODE                 86 non-null     object \n",
            " 5   GROSS_SQUARE_FEET        90 non-null     float64\n",
            " 6   YEAR_BUILT               72 non-null     float64\n",
            " 7   SALE_PRICE               90 non-null     int64  \n",
            "dtypes: float64(2), int64(1), object(5)\n",
            "memory usage: 6.3+ KB\n"
          ],
          "name": "stdout"
        }
      ]
    },
    {
      "cell_type": "markdown",
      "metadata": {
        "id": "79__ZTPioBHM"
      },
      "source": [
        "**Our focus** is the relationship between size and price"
      ]
    },
    {
      "cell_type": "code",
      "metadata": {
        "id": "nmGAhWPOjZHy"
      },
      "source": [
        "import matplotlib.pyplot as plt\n"
      ],
      "execution_count": 12,
      "outputs": []
    },
    {
      "cell_type": "code",
      "metadata": {
        "id": "eCOyWWYUoMZG",
        "outputId": "ef969b76-eb40-4300-fc8a-bdc559e2a160",
        "colab": {
          "base_uri": "https://localhost:8080/",
          "height": 282
        }
      },
      "source": [
        "df[\"GROSS_SQUARE_FEET\"].plot(kind=\"hist\")\n",
        "plt.xlabel(\"Square Footage\")\n",
        "plt.show()"
      ],
      "execution_count": 13,
      "outputs": [
        {
          "output_type": "display_data",
          "data": {
            "image/png": "[encoded data removed]",
            "text/plain": [
              "<Figure size 432x288 with 1 Axes>"
            ]
          },
          "metadata": {
            "tags": [],
            "needs_background": "light"
          }
        }
      ]
    },
    {
      "cell_type": "code",
      "metadata": {
        "id": "WAQ555F-oYeT",
        "outputId": "31017dc0-af36-433d-b5da-a00886697378",
        "colab": {
          "base_uri": "https://localhost:8080/",
          "height": 278
        }
      },
      "source": [
        "df[\"SALE_PRICE\"].plot(kind=\"hist\")\n",
        "plt.xlabel(\"Sale Price\")\n",
        "plt.show()"
      ],
      "execution_count": 14,
      "outputs": [
        {
          "output_type": "display_data",
          "data": {
            "image/png": "[encoded data removed]",
            "text/plain": [
              "<Figure size 432x288 with 1 Axes>"
            ]
          },
          "metadata": {
            "tags": [],
            "needs_background": "light"
          }
        }
      ]
    },
    {
      "cell_type": "code",
      "metadata": {
        "id": "lpwSPH2HokHT",
        "outputId": "5bf302c1-bac7-4d0a-808b-ebecb4e5dea8",
        "colab": {
          "base_uri": "https://localhost:8080/",
          "height": 290
        }
      },
      "source": [
        "plt.scatter(df.GROSS_SQUARE_FEET, df.SALE_PRICE)\n",
        "plt.xlabel(\"Sq Ft\")\n",
        "plt.ylabel(\"Sale Price ($ millions)\")\n",
        "plt.show()"
      ],
      "execution_count": 15,
      "outputs": [
        {
          "output_type": "display_data",
          "data": {
            "image/png": "[encoded data removed]",
            "text/plain": [
              "<Figure size 432x288 with 1 Axes>"
            ]
          },
          "metadata": {
            "tags": [],
            "needs_background": "light"
          }
        }
      ]
    },
    {
      "cell_type": "markdown",
      "metadata": {
        "id": "E2T_d5V4p7rA"
      },
      "source": [
        "# Interlude: What is a predictive model?\n",
        "\n",
        "It is a way to create a mathematical equation that describes the relationship between two variables, in this case *square footage* and *price*"
      ]
    },
    {
      "cell_type": "code",
      "metadata": {
        "id": "0hNYa8JGpFw1",
        "outputId": "f6ce2a95-6d21-4a57-aab1-5f6a8475688a",
        "colab": {
          "base_uri": "https://localhost:8080/",
          "height": 107
        }
      },
      "source": [
        "df[[\"GROSS_SQUARE_FEET\", \"SALE_PRICE\"]].head(1)"
      ],
      "execution_count": 18,
      "outputs": [
        {
          "output_type": "execute_result",
          "data": {
            "text/html": [
              "<div>\n",
              "<style scoped>\n",
              "    .dataframe tbody tr th:only-of-type {\n",
              "        vertical-align: middle;\n",
              "    }\n",
              "\n",
              "    .dataframe tbody tr th {\n",
              "        vertical-align: top;\n",
              "    }\n",
              "\n",
              "    .dataframe thead th {\n",
              "        text-align: right;\n",
              "    }\n",
              "</style>\n",
              "<table border=\"1\" class=\"dataframe\">\n",
              "  <thead>\n",
              "    <tr style=\"text-align: right;\">\n",
              "      <th></th>\n",
              "      <th>GROSS_SQUARE_FEET</th>\n",
              "      <th>SALE_PRICE</th>\n",
              "    </tr>\n",
              "    <tr>\n",
              "      <th>SALE_DATE</th>\n",
              "      <th></th>\n",
              "      <th></th>\n",
              "    </tr>\n",
              "  </thead>\n",
              "  <tbody>\n",
              "    <tr>\n",
              "      <th>2019-01-03</th>\n",
              "      <td>1840.0</td>\n",
              "      <td>2800000</td>\n",
              "    </tr>\n",
              "  </tbody>\n",
              "</table>\n",
              "</div>"
            ],
            "text/plain": [
              "            GROSS_SQUARE_FEET  SALE_PRICE\n",
              "SALE_DATE                                \n",
              "2019-01-03             1840.0     2800000"
            ]
          },
          "metadata": {
            "tags": []
          },
          "execution_count": 18
        }
      ]
    },
    {
      "cell_type": "code",
      "metadata": {
        "id": "Q7vj5PZNqzH5"
      },
      "source": [
        "def price_predictor(sqft):\n",
        "  # What's the equation that takes sqft and returns price?\n",
        "  sale_price = sqft * 1521\n",
        "  return sale_price"
      ],
      "execution_count": 19,
      "outputs": []
    },
    {
      "cell_type": "code",
      "metadata": {
        "id": "mcaH-yjwrsBr"
      },
      "source": [
        "df[\"EST_PRICE\"] = df[\"GROSS_SQUARE_FEET\"].apply(price_predictor)"
      ],
      "execution_count": 20,
      "outputs": []
    },
    {
      "cell_type": "code",
      "metadata": {
        "id": "A79k5jYNr0XE",
        "outputId": "a568d607-fb75-4868-955c-717276047194",
        "colab": {
          "base_uri": "https://localhost:8080/",
          "height": 227
        }
      },
      "source": [
        "df[[\"GROSS_SQUARE_FEET\", \"SALE_PRICE\", \"EST_PRICE\"]].head()"
      ],
      "execution_count": 21,
      "outputs": [
        {
          "output_type": "execute_result",
          "data": {
            "text/html": [
              "<div>\n",
              "<style scoped>\n",
              "    .dataframe tbody tr th:only-of-type {\n",
              "        vertical-align: middle;\n",
              "    }\n",
              "\n",
              "    .dataframe tbody tr th {\n",
              "        vertical-align: top;\n",
              "    }\n",
              "\n",
              "    .dataframe thead th {\n",
              "        text-align: right;\n",
              "    }\n",
              "</style>\n",
              "<table border=\"1\" class=\"dataframe\">\n",
              "  <thead>\n",
              "    <tr style=\"text-align: right;\">\n",
              "      <th></th>\n",
              "      <th>GROSS_SQUARE_FEET</th>\n",
              "      <th>SALE_PRICE</th>\n",
              "      <th>EST_PRICE</th>\n",
              "    </tr>\n",
              "    <tr>\n",
              "      <th>SALE_DATE</th>\n",
              "      <th></th>\n",
              "      <th></th>\n",
              "      <th></th>\n",
              "    </tr>\n",
              "  </thead>\n",
              "  <tbody>\n",
              "    <tr>\n",
              "      <th>2019-01-03</th>\n",
              "      <td>1840.0</td>\n",
              "      <td>2800000</td>\n",
              "      <td>2798640.0</td>\n",
              "    </tr>\n",
              "    <tr>\n",
              "      <th>2019-01-07</th>\n",
              "      <td>1759.0</td>\n",
              "      <td>2650000</td>\n",
              "      <td>2675439.0</td>\n",
              "    </tr>\n",
              "    <tr>\n",
              "      <th>2019-01-09</th>\n",
              "      <td>1190.0</td>\n",
              "      <td>1005000</td>\n",
              "      <td>1809990.0</td>\n",
              "    </tr>\n",
              "    <tr>\n",
              "      <th>2019-01-10</th>\n",
              "      <td>1088.0</td>\n",
              "      <td>1678000</td>\n",
              "      <td>1654848.0</td>\n",
              "    </tr>\n",
              "    <tr>\n",
              "      <th>2019-01-11</th>\n",
              "      <td>873.0</td>\n",
              "      <td>1380000</td>\n",
              "      <td>1327833.0</td>\n",
              "    </tr>\n",
              "  </tbody>\n",
              "</table>\n",
              "</div>"
            ],
            "text/plain": [
              "            GROSS_SQUARE_FEET  SALE_PRICE  EST_PRICE\n",
              "SALE_DATE                                           \n",
              "2019-01-03             1840.0     2800000  2798640.0\n",
              "2019-01-07             1759.0     2650000  2675439.0\n",
              "2019-01-09             1190.0     1005000  1809990.0\n",
              "2019-01-10             1088.0     1678000  1654848.0\n",
              "2019-01-11              873.0     1380000  1327833.0"
            ]
          },
          "metadata": {
            "tags": []
          },
          "execution_count": 21
        }
      ]
    },
    {
      "cell_type": "code",
      "metadata": {
        "id": "lYmQ3vgmsz7n"
      },
      "source": [
        "df[\"ERROR\"] = abs(df[\"SALE_PRICE\"] - df[\"EST_PRICE\"])"
      ],
      "execution_count": 29,
      "outputs": []
    },
    {
      "cell_type": "code",
      "metadata": {
        "id": "VYMM0u6vtDEO",
        "outputId": "bc07f30e-88f4-4bd4-9ceb-5bf8309d3632",
        "colab": {
          "base_uri": "https://localhost:8080/",
          "height": 227
        }
      },
      "source": [
        "df[[\"GROSS_SQUARE_FEET\", \"SALE_PRICE\", \"EST_PRICE\", \"ERROR\"]].head()"
      ],
      "execution_count": 30,
      "outputs": [
        {
          "output_type": "execute_result",
          "data": {
            "text/html": [
              "<div>\n",
              "<style scoped>\n",
              "    .dataframe tbody tr th:only-of-type {\n",
              "        vertical-align: middle;\n",
              "    }\n",
              "\n",
              "    .dataframe tbody tr th {\n",
              "        vertical-align: top;\n",
              "    }\n",
              "\n",
              "    .dataframe thead th {\n",
              "        text-align: right;\n",
              "    }\n",
              "</style>\n",
              "<table border=\"1\" class=\"dataframe\">\n",
              "  <thead>\n",
              "    <tr style=\"text-align: right;\">\n",
              "      <th></th>\n",
              "      <th>GROSS_SQUARE_FEET</th>\n",
              "      <th>SALE_PRICE</th>\n",
              "      <th>EST_PRICE</th>\n",
              "      <th>ERROR</th>\n",
              "    </tr>\n",
              "    <tr>\n",
              "      <th>SALE_DATE</th>\n",
              "      <th></th>\n",
              "      <th></th>\n",
              "      <th></th>\n",
              "      <th></th>\n",
              "    </tr>\n",
              "  </thead>\n",
              "  <tbody>\n",
              "    <tr>\n",
              "      <th>2019-01-03</th>\n",
              "      <td>1840.0</td>\n",
              "      <td>2800000</td>\n",
              "      <td>2798640.0</td>\n",
              "      <td>1360.0</td>\n",
              "    </tr>\n",
              "    <tr>\n",
              "      <th>2019-01-07</th>\n",
              "      <td>1759.0</td>\n",
              "      <td>2650000</td>\n",
              "      <td>2675439.0</td>\n",
              "      <td>25439.0</td>\n",
              "    </tr>\n",
              "    <tr>\n",
              "      <th>2019-01-09</th>\n",
              "      <td>1190.0</td>\n",
              "      <td>1005000</td>\n",
              "      <td>1809990.0</td>\n",
              "      <td>804990.0</td>\n",
              "    </tr>\n",
              "    <tr>\n",
              "      <th>2019-01-10</th>\n",
              "      <td>1088.0</td>\n",
              "      <td>1678000</td>\n",
              "      <td>1654848.0</td>\n",
              "      <td>23152.0</td>\n",
              "    </tr>\n",
              "    <tr>\n",
              "      <th>2019-01-11</th>\n",
              "      <td>873.0</td>\n",
              "      <td>1380000</td>\n",
              "      <td>1327833.0</td>\n",
              "      <td>52167.0</td>\n",
              "    </tr>\n",
              "  </tbody>\n",
              "</table>\n",
              "</div>"
            ],
            "text/plain": [
              "            GROSS_SQUARE_FEET  SALE_PRICE  EST_PRICE     ERROR\n",
              "SALE_DATE                                                     \n",
              "2019-01-03             1840.0     2800000  2798640.0    1360.0\n",
              "2019-01-07             1759.0     2650000  2675439.0   25439.0\n",
              "2019-01-09             1190.0     1005000  1809990.0  804990.0\n",
              "2019-01-10             1088.0     1678000  1654848.0   23152.0\n",
              "2019-01-11              873.0     1380000  1327833.0   52167.0"
            ]
          },
          "metadata": {
            "tags": []
          },
          "execution_count": 30
        }
      ]
    },
    {
      "cell_type": "code",
      "metadata": {
        "id": "n97tBmDwtcqo",
        "outputId": "f7aa111a-ac09-4a84-ec88-b87dcdc115a2",
        "colab": {
          "base_uri": "https://localhost:8080/",
          "height": 277
        }
      },
      "source": [
        "df[\"ERROR\"].hist();"
      ],
      "execution_count": 31,
      "outputs": [
        {
          "output_type": "display_data",
          "data": {
            "image/png": "[encoded data removed]",
            "text/plain": [
              "<Figure size 432x288 with 1 Axes>"
            ]
          },
          "metadata": {
            "tags": [],
            "needs_background": "light"
          }
        }
      ]
    },
    {
      "cell_type": "markdown",
      "metadata": {
        "id": "oxnaZ1w_uSPh"
      },
      "source": [
        "**MEAN ABSOLUTE ERROR**"
      ]
    },
    {
      "cell_type": "code",
      "metadata": {
        "id": "euEffCVDthyF",
        "outputId": "d64ecbb0-f3f2-4243-9dbc-ea23d2e8310d",
        "colab": {
          "base_uri": "https://localhost:8080/",
          "height": 34
        }
      },
      "source": [
        "df[\"ERROR\"].mean()"
      ],
      "execution_count": 32,
      "outputs": [
        {
          "output_type": "execute_result",
          "data": {
            "text/plain": [
              "1502401.6333333333"
            ]
          },
          "metadata": {
            "tags": []
          },
          "execution_count": 32
        }
      ]
    },
    {
      "cell_type": "code",
      "metadata": {
        "id": "GuXDRG9dsgWW",
        "outputId": "36aac047-fcba-41a6-bbc8-cde1a484f3ec",
        "colab": {
          "base_uri": "https://localhost:8080/",
          "height": 290
        }
      },
      "source": [
        "plt.scatter(df.GROSS_SQUARE_FEET, df.SALE_PRICE)\n",
        "plt.plot(df[\"GROSS_SQUARE_FEET\"], df[\"EST_PRICE\"], color = \"r\", label = \"our model\")\n",
        "plt.legend()\n",
        "plt.xlabel(\"Sq Ft\")\n",
        "plt.ylabel(\"Sale Price ($ millions)\")\n",
        "plt.show()"
      ],
      "execution_count": 25,
      "outputs": [
        {
          "output_type": "display_data",
          "data": {
            "image/png": "[encoded data removed]",
            "text/plain": [
              "<Figure size 432x288 with 1 Axes>"
            ]
          },
          "metadata": {
            "tags": [],
            "needs_background": "light"
          }
        }
      ]
    },
    {
      "cell_type": "markdown",
      "metadata": {
        "id": "7073NZJdyBCB"
      },
      "source": [
        "# Split Data\n",
        "\n",
        "Split our **target vector** from our **feature matrix**"
      ]
    },
    {
      "cell_type": "code",
      "metadata": {
        "id": "d9en6XZItYux"
      },
      "source": [
        "target = \"SALE_PRICE\"\n",
        "\n",
        "y = df[target]\n",
        "\n",
        "X = df[[\"GROSS_SQUARE_FEET\"]]"
      ],
      "execution_count": 34,
      "outputs": []
    },
    {
      "cell_type": "code",
      "metadata": {
        "id": "S4c7OQJ7y8Al",
        "outputId": "bb0d1766-d483-42c5-a27b-ed1967896fdd",
        "colab": {
          "base_uri": "https://localhost:8080/",
          "height": 34
        }
      },
      "source": [
        "# Your \"y\" should be one-dimensional\n",
        "y.shape"
      ],
      "execution_count": 35,
      "outputs": [
        {
          "output_type": "execute_result",
          "data": {
            "text/plain": [
              "(90,)"
            ]
          },
          "metadata": {
            "tags": []
          },
          "execution_count": 35
        }
      ]
    },
    {
      "cell_type": "code",
      "metadata": {
        "id": "TnPvRhU_zI5y",
        "outputId": "0a5fedf0-2da2-4ca4-b818-1395d2024016",
        "colab": {
          "base_uri": "https://localhost:8080/",
          "height": 245
        }
      },
      "source": [
        "# Your \"X\" should be two-dimensional\n",
        "print(X.shape)\n",
        "X.head()"
      ],
      "execution_count": 37,
      "outputs": [
        {
          "output_type": "stream",
          "text": [
            "(90, 1)\n"
          ],
          "name": "stdout"
        },
        {
          "output_type": "execute_result",
          "data": {
            "text/html": [
              "<div>\n",
              "<style scoped>\n",
              "    .dataframe tbody tr th:only-of-type {\n",
              "        vertical-align: middle;\n",
              "    }\n",
              "\n",
              "    .dataframe tbody tr th {\n",
              "        vertical-align: top;\n",
              "    }\n",
              "\n",
              "    .dataframe thead th {\n",
              "        text-align: right;\n",
              "    }\n",
              "</style>\n",
              "<table border=\"1\" class=\"dataframe\">\n",
              "  <thead>\n",
              "    <tr style=\"text-align: right;\">\n",
              "      <th></th>\n",
              "      <th>GROSS_SQUARE_FEET</th>\n",
              "    </tr>\n",
              "    <tr>\n",
              "      <th>SALE_DATE</th>\n",
              "      <th></th>\n",
              "    </tr>\n",
              "  </thead>\n",
              "  <tbody>\n",
              "    <tr>\n",
              "      <th>2019-01-03</th>\n",
              "      <td>1840.0</td>\n",
              "    </tr>\n",
              "    <tr>\n",
              "      <th>2019-01-07</th>\n",
              "      <td>1759.0</td>\n",
              "    </tr>\n",
              "    <tr>\n",
              "      <th>2019-01-09</th>\n",
              "      <td>1190.0</td>\n",
              "    </tr>\n",
              "    <tr>\n",
              "      <th>2019-01-10</th>\n",
              "      <td>1088.0</td>\n",
              "    </tr>\n",
              "    <tr>\n",
              "      <th>2019-01-11</th>\n",
              "      <td>873.0</td>\n",
              "    </tr>\n",
              "  </tbody>\n",
              "</table>\n",
              "</div>"
            ],
            "text/plain": [
              "            GROSS_SQUARE_FEET\n",
              "SALE_DATE                    \n",
              "2019-01-03             1840.0\n",
              "2019-01-07             1759.0\n",
              "2019-01-09             1190.0\n",
              "2019-01-10             1088.0\n",
              "2019-01-11              873.0"
            ]
          },
          "metadata": {
            "tags": []
          },
          "execution_count": 37
        }
      ]
    },
    {
      "cell_type": "markdown",
      "metadata": {
        "id": "5DdWZuZazb_D"
      },
      "source": [
        "# Establish a Baseline\n",
        "\n",
        "Since this is a regression problem, we need to calculate what the **mean absolute error** would be if we only predicted the mean 'SALE_PRICE'"
      ]
    },
    {
      "cell_type": "code",
      "metadata": {
        "id": "ywaG03tbzVbv",
        "outputId": "93dfe2f2-0c66-4245-9a6f-4d02b5c83af4",
        "colab": {
          "base_uri": "https://localhost:8080/",
          "height": 34
        }
      },
      "source": [
        "y.mean() "
      ],
      "execution_count": 38,
      "outputs": [
        {
          "output_type": "execute_result",
          "data": {
            "text/plain": [
              "3928736.3666666667"
            ]
          },
          "metadata": {
            "tags": []
          },
          "execution_count": 38
        }
      ]
    },
    {
      "cell_type": "code",
      "metadata": {
        "id": "nLC0k-1j2Pwo"
      },
      "source": [
        "[y.mean()]*len(y)"
      ],
      "execution_count": null,
      "outputs": []
    },
    {
      "cell_type": "code",
      "metadata": {
        "id": "xi7E3mZOzwIR"
      },
      "source": [
        "from sklearn.metrics import mean_absolute_error"
      ],
      "execution_count": 39,
      "outputs": []
    },
    {
      "cell_type": "code",
      "metadata": {
        "id": "hohsOUVCz06x",
        "outputId": "c9787552-372e-4e95-82dd-2869fd8dcb8a",
        "colab": {
          "base_uri": "https://localhost:8080/",
          "height": 34
        }
      },
      "source": [
        "print(\"BASELINE MAE:\", mean_absolute_error(y, [y.mean()]*len(y)))"
      ],
      "execution_count": 40,
      "outputs": [
        {
          "output_type": "stream",
          "text": [
            "BASELINE MAE: 2783380.1977777784\n"
          ],
          "name": "stdout"
        }
      ]
    },
    {
      "cell_type": "markdown",
      "metadata": {
        "id": "5nS_sROD0h9_"
      },
      "source": [
        "# Build Model"
      ]
    },
    {
      "cell_type": "code",
      "metadata": {
        "id": "3RjaJm8X0LfF"
      },
      "source": [
        "# Step 1: Import predictor\n",
        "from sklearn.linear_model import LinearRegression"
      ],
      "execution_count": 41,
      "outputs": []
    },
    {
      "cell_type": "code",
      "metadata": {
        "id": "KPdN4J1U0uE2"
      },
      "source": [
        "# Step 2: Instantiate your predictor\n",
        "model = LinearRegression()"
      ],
      "execution_count": 42,
      "outputs": []
    },
    {
      "cell_type": "code",
      "metadata": {
        "id": "0gXYeyE30z3g",
        "outputId": "fb67e996-3df8-4074-fcff-36f2e6c1b106",
        "colab": {
          "base_uri": "https://localhost:8080/",
          "height": 34
        }
      },
      "source": [
        "# Step 3: Train your model to the data\n",
        "model.fit(X, y)"
      ],
      "execution_count": 43,
      "outputs": [
        {
          "output_type": "execute_result",
          "data": {
            "text/plain": [
              "LinearRegression(copy_X=True, fit_intercept=True, n_jobs=None, normalize=False)"
            ]
          },
          "metadata": {
            "tags": []
          },
          "execution_count": 43
        }
      ]
    },
    {
      "cell_type": "code",
      "metadata": {
        "id": "f_McHxGy06zE"
      },
      "source": [
        "# Step 4: Predict\n",
        "y_pred = model.predict(X)"
      ],
      "execution_count": 45,
      "outputs": []
    },
    {
      "cell_type": "markdown",
      "metadata": {
        "id": "a2jmRc5N1VJE"
      },
      "source": [
        "# Check Metrics"
      ]
    },
    {
      "cell_type": "code",
      "metadata": {
        "id": "DzJvftT01TY1",
        "outputId": "d8fa07d5-2f37-4245-e516-3495543e37d7",
        "colab": {
          "base_uri": "https://localhost:8080/",
          "height": 34
        }
      },
      "source": [
        "print(\"TRAINING MAE: \", mean_absolute_error(y, y_pred))"
      ],
      "execution_count": 46,
      "outputs": [
        {
          "output_type": "stream",
          "text": [
            "TRAINING MAE:  1176817.9930150746\n"
          ],
          "name": "stdout"
        }
      ]
    },
    {
      "cell_type": "markdown",
      "metadata": {
        "id": "emrN2lfz1q2V"
      },
      "source": [
        "# Interpreting Model"
      ]
    },
    {
      "cell_type": "code",
      "metadata": {
        "id": "dkcbjNsv1hTI",
        "outputId": "52559dcc-95ee-47d1-9341-315e72669406",
        "colab": {
          "base_uri": "https://localhost:8080/",
          "height": 34
        }
      },
      "source": [
        "model.coef_"
      ],
      "execution_count": 47,
      "outputs": [
        {
          "output_type": "execute_result",
          "data": {
            "text/plain": [
              "array([3076.44765542])"
            ]
          },
          "metadata": {
            "tags": []
          },
          "execution_count": 47
        }
      ]
    },
    {
      "cell_type": "code",
      "metadata": {
        "id": "sGJJhmBj18Vw",
        "outputId": "a5f111f5-22b9-4a06-a751-ff1454aa9782",
        "colab": {
          "base_uri": "https://localhost:8080/",
          "height": 34
        }
      },
      "source": [
        "model.intercept_"
      ],
      "execution_count": 48,
      "outputs": [
        {
          "output_type": "execute_result",
          "data": {
            "text/plain": [
              "-1505364.0408585514"
            ]
          },
          "metadata": {
            "tags": []
          },
          "execution_count": 48
        }
      ]
    },
    {
      "cell_type": "markdown",
      "metadata": {
        "id": "1-WiEdDC1_0Q"
      },
      "source": [
        "sale_price = -1505364 + 3076*sq_ft"
      ]
    },
    {
      "cell_type": "code",
      "metadata": {
        "id": "V7Bx1zMw1-i_",
        "outputId": "ae939341-c09b-4aae-d14b-8e4f4e8645c8",
        "colab": {
          "base_uri": "https://localhost:8080/",
          "height": 290
        }
      },
      "source": [
        "plt.scatter(X, y)\n",
        "plt.plot(X, y_pred, color = \"r\", label = \"sklearn model\")\n",
        "plt.legend()\n",
        "plt.xlabel(\"Sq Ft\")\n",
        "plt.ylabel(\"Sale Price ($ millions)\")\n",
        "plt.show()"
      ],
      "execution_count": 51,
      "outputs": [
        {
          "output_type": "display_data",
          "data": {
            "image/png": "[encoded data removed]",
            "text/plain": [
              "<Figure size 432x288 with 1 Axes>"
            ]
          },
          "metadata": {
            "tags": [],
            "needs_background": "light"
          }
        }
      ]
    },
    {
      "cell_type": "code",
      "metadata": {
        "id": "0Pg89qIV2ioV"
      },
      "source": [
        ""
      ],
      "execution_count": null,
      "outputs": []
    }
  ]
}