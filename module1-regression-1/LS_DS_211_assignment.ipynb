{
 "cells": [
  {
   "cell_type": "markdown",
   "metadata": {},
   "source": [
    "Lambda School Data Science\n",
    "\n",
    "*Unit 2, Sprint 1, Module 1*\n",
    "\n",
    "---"
   ]
  },
  {
   "cell_type": "markdown",
   "metadata": {
    "colab_type": "text",
    "id": "7IXUfiQ2UKj6"
   },
   "source": [
    "# Regression 1\n",
    "\n",
    "## Assignment - - \n",
    "\n",
    "You'll use another **New York City** real estate dataset. \n",
    "\n",
    "But now you'll **predict how much it costs to rent an apartment**, instead of how much it costs to buy a condo.\n",
    "\n",
    "The data comes from renthop.com, an apartment listing website.\n",
    "\n",
    "- [ ] Look at the data. Choose a feature, and plot its relationship with the target.\n",
    "- [ ] Use scikit-learn for linear regression with one feature. You can follow the [5-step process from Jake VanderPlas](https://jakevdp.github.io/PythonDataScienceHandbook/05.02-introducing-scikit-learn.html#Basics-of-the-API).\n",
    "- [ ] Define a function to make new predictions and explain the model coefficient.\n",
    "- [ ] Organize and comment your code.\n",
    "\n",
    "> [Do Not Copy-Paste.](https://docs.google.com/document/d/1ubOw9B3Hfip27hF2ZFnW3a3z9xAgrUDRReOEo-FHCVs/edit) You must type each of these exercises in, manually. If you copy and paste, you might as well not even do them. The point of these exercises is to train your hands, your brain, and your mind in how to read, write, and see code. If you copy-paste, you are cheating yourself out of the effectiveness of the lessons.\n",
    "\n",
    "If your **Plotly** visualizations aren't working:\n",
    "- You must have JavaScript enabled in your browser\n",
    "- You probably want to use Chrome or Firefox\n",
    "- You may need to turn off ad blockers\n",
    "- [If you're using Jupyter Lab locally, you need to install some \"extensions\"](https://plot.ly/python/getting-started/#jupyterlab-support-python-35)\n",
    "\n",
    "## Stretch Goals\n",
    "- [ ] Do linear regression with two or more features.\n",
    "- [ ] Read [The Discovery of Statistical Regression](https://priceonomics.com/the-discovery-of-statistical-regression/)\n",
    "- [ ] Read [_An Introduction to Statistical Learning_](http://faculty.marshall.usc.edu/gareth-james/ISL/ISLR%20Seventh%20Printing.pdf), Chapter 2.1: What Is Statistical Learning?"
   ]
  },
  {
   "cell_type": "code",
   "execution_count": 1,
   "metadata": {
    "colab": {},
    "colab_type": "code",
    "id": "o9eSnDYhUGD7"
   },
   "outputs": [],
   "source": [
    "import sys\n",
    "\n",
    "DATA_PATH = 'https://raw.githubusercontent.com/LambdaSchool/DS-Unit-2-Applied-Modeling/master/data/'\n",
    "    \n",
    "# Ignore this Numpy warning when using Plotly Express:\n",
    "# FutureWarning: Method .ptp is deprecated and will be removed in a future version. Use numpy.ptp instead.\n",
    "import warnings\n",
    "warnings.filterwarnings(action='ignore', category=FutureWarning, module='numpy')"
   ]
  },
  {
   "cell_type": "code",
   "execution_count": 9,
   "metadata": {
    "colab": {},
    "colab_type": "code",
    "id": "4S2wXSrFV_g4"
   },
   "outputs": [],
   "source": [
    "# Read New York City apartment rental listing data\n",
    "import pandas as pd\n",
    "df = pd.read_csv(DATA_PATH+'apartments/renthop-nyc.csv')\n",
    "assert df.shape == (49352, 34)"
   ]
  },
  {
   "cell_type": "code",
   "execution_count": 15,
   "metadata": {},
   "outputs": [],
   "source": [
    "pd.set_option('display.max_columns', 100)"
   ]
  },
  {
   "cell_type": "code",
   "execution_count": 81,
   "metadata": {},
   "outputs": [],
   "source": [
    "# Remove outliers: \n",
    "# the most extreme 1% prices,\n",
    "# the most extreme .1% latitudes, &\n",
    "# the most extreme .1% longitudes\n",
    "df = df[(df['price'] >= 1375) & (df['price'] <= 15500) & \n",
    "        (df['latitude'] >=40.57) & (df['latitude'] < 40.99) &\n",
    "        (df['longitude'] >= -74.1) & (df['longitude'] <= -73.38)]"
   ]
  },
  {
   "cell_type": "code",
   "execution_count": 82,
   "metadata": {},
   "outputs": [
    {
     "data": {
      "text/html": [
       "<div>\n",
       "<style scoped>\n",
       "    .dataframe tbody tr th:only-of-type {\n",
       "        vertical-align: middle;\n",
       "    }\n",
       "\n",
       "    .dataframe tbody tr th {\n",
       "        vertical-align: top;\n",
       "    }\n",
       "\n",
       "    .dataframe thead th {\n",
       "        text-align: right;\n",
       "    }\n",
       "</style>\n",
       "<table border=\"1\" class=\"dataframe\">\n",
       "  <thead>\n",
       "    <tr style=\"text-align: right;\">\n",
       "      <th></th>\n",
       "      <th>bathrooms</th>\n",
       "      <th>bedrooms</th>\n",
       "      <th>latitude</th>\n",
       "      <th>longitude</th>\n",
       "      <th>price</th>\n",
       "      <th>elevator</th>\n",
       "      <th>cats_allowed</th>\n",
       "      <th>hardwood_floors</th>\n",
       "      <th>dogs_allowed</th>\n",
       "      <th>doorman</th>\n",
       "      <th>dishwasher</th>\n",
       "      <th>no_fee</th>\n",
       "      <th>laundry_in_building</th>\n",
       "      <th>fitness_center</th>\n",
       "      <th>pre-war</th>\n",
       "      <th>laundry_in_unit</th>\n",
       "      <th>roof_deck</th>\n",
       "      <th>outdoor_space</th>\n",
       "      <th>dining_room</th>\n",
       "      <th>high_speed_internet</th>\n",
       "      <th>balcony</th>\n",
       "      <th>swimming_pool</th>\n",
       "      <th>new_construction</th>\n",
       "      <th>terrace</th>\n",
       "      <th>exclusive</th>\n",
       "      <th>loft</th>\n",
       "      <th>garden_patio</th>\n",
       "      <th>wheelchair_access</th>\n",
       "      <th>common_outdoor_space</th>\n",
       "    </tr>\n",
       "  </thead>\n",
       "  <tbody>\n",
       "    <tr>\n",
       "      <th>count</th>\n",
       "      <td>48817.000000</td>\n",
       "      <td>48817.000000</td>\n",
       "      <td>48817.000000</td>\n",
       "      <td>48817.000000</td>\n",
       "      <td>48817.000000</td>\n",
       "      <td>48817.000000</td>\n",
       "      <td>48817.000000</td>\n",
       "      <td>48817.000000</td>\n",
       "      <td>48817.000000</td>\n",
       "      <td>48817.000000</td>\n",
       "      <td>48817.000000</td>\n",
       "      <td>48817.000000</td>\n",
       "      <td>48817.000000</td>\n",
       "      <td>48817.000000</td>\n",
       "      <td>48817.000000</td>\n",
       "      <td>48817.000000</td>\n",
       "      <td>48817.000000</td>\n",
       "      <td>48817.000000</td>\n",
       "      <td>48817.000000</td>\n",
       "      <td>48817.000000</td>\n",
       "      <td>48817.000000</td>\n",
       "      <td>48817.000000</td>\n",
       "      <td>48817.000000</td>\n",
       "      <td>48817.000000</td>\n",
       "      <td>48817.000000</td>\n",
       "      <td>48817.000000</td>\n",
       "      <td>48817.000000</td>\n",
       "      <td>48817.000000</td>\n",
       "      <td>48817.000000</td>\n",
       "    </tr>\n",
       "    <tr>\n",
       "      <th>mean</th>\n",
       "      <td>1.201610</td>\n",
       "      <td>1.537149</td>\n",
       "      <td>40.750756</td>\n",
       "      <td>-73.972757</td>\n",
       "      <td>3579.560563</td>\n",
       "      <td>0.524817</td>\n",
       "      <td>0.478256</td>\n",
       "      <td>0.478276</td>\n",
       "      <td>0.447610</td>\n",
       "      <td>0.424832</td>\n",
       "      <td>0.415081</td>\n",
       "      <td>0.367085</td>\n",
       "      <td>0.052769</td>\n",
       "      <td>0.268431</td>\n",
       "      <td>0.185653</td>\n",
       "      <td>0.175902</td>\n",
       "      <td>0.132761</td>\n",
       "      <td>0.138394</td>\n",
       "      <td>0.102833</td>\n",
       "      <td>0.087203</td>\n",
       "      <td>0.060471</td>\n",
       "      <td>0.055206</td>\n",
       "      <td>0.051908</td>\n",
       "      <td>0.046193</td>\n",
       "      <td>0.043305</td>\n",
       "      <td>0.042711</td>\n",
       "      <td>0.039331</td>\n",
       "      <td>0.027224</td>\n",
       "      <td>0.026241</td>\n",
       "    </tr>\n",
       "    <tr>\n",
       "      <th>std</th>\n",
       "      <td>0.469025</td>\n",
       "      <td>1.106087</td>\n",
       "      <td>0.038962</td>\n",
       "      <td>0.028887</td>\n",
       "      <td>1762.438925</td>\n",
       "      <td>0.499389</td>\n",
       "      <td>0.499532</td>\n",
       "      <td>0.499533</td>\n",
       "      <td>0.497253</td>\n",
       "      <td>0.494322</td>\n",
       "      <td>0.492741</td>\n",
       "      <td>0.482015</td>\n",
       "      <td>0.223573</td>\n",
       "      <td>0.443148</td>\n",
       "      <td>0.388830</td>\n",
       "      <td>0.380741</td>\n",
       "      <td>0.339320</td>\n",
       "      <td>0.345317</td>\n",
       "      <td>0.303744</td>\n",
       "      <td>0.282136</td>\n",
       "      <td>0.238359</td>\n",
       "      <td>0.228385</td>\n",
       "      <td>0.221844</td>\n",
       "      <td>0.209905</td>\n",
       "      <td>0.203544</td>\n",
       "      <td>0.202206</td>\n",
       "      <td>0.194382</td>\n",
       "      <td>0.162738</td>\n",
       "      <td>0.159852</td>\n",
       "    </tr>\n",
       "    <tr>\n",
       "      <th>min</th>\n",
       "      <td>0.000000</td>\n",
       "      <td>0.000000</td>\n",
       "      <td>40.571200</td>\n",
       "      <td>-74.087300</td>\n",
       "      <td>1375.000000</td>\n",
       "      <td>0.000000</td>\n",
       "      <td>0.000000</td>\n",
       "      <td>0.000000</td>\n",
       "      <td>0.000000</td>\n",
       "      <td>0.000000</td>\n",
       "      <td>0.000000</td>\n",
       "      <td>0.000000</td>\n",
       "      <td>0.000000</td>\n",
       "      <td>0.000000</td>\n",
       "      <td>0.000000</td>\n",
       "      <td>0.000000</td>\n",
       "      <td>0.000000</td>\n",
       "      <td>0.000000</td>\n",
       "      <td>0.000000</td>\n",
       "      <td>0.000000</td>\n",
       "      <td>0.000000</td>\n",
       "      <td>0.000000</td>\n",
       "      <td>0.000000</td>\n",
       "      <td>0.000000</td>\n",
       "      <td>0.000000</td>\n",
       "      <td>0.000000</td>\n",
       "      <td>0.000000</td>\n",
       "      <td>0.000000</td>\n",
       "      <td>0.000000</td>\n",
       "    </tr>\n",
       "    <tr>\n",
       "      <th>25%</th>\n",
       "      <td>1.000000</td>\n",
       "      <td>1.000000</td>\n",
       "      <td>40.728300</td>\n",
       "      <td>-73.991800</td>\n",
       "      <td>2500.000000</td>\n",
       "      <td>0.000000</td>\n",
       "      <td>0.000000</td>\n",
       "      <td>0.000000</td>\n",
       "      <td>0.000000</td>\n",
       "      <td>0.000000</td>\n",
       "      <td>0.000000</td>\n",
       "      <td>0.000000</td>\n",
       "      <td>0.000000</td>\n",
       "      <td>0.000000</td>\n",
       "      <td>0.000000</td>\n",
       "      <td>0.000000</td>\n",
       "      <td>0.000000</td>\n",
       "      <td>0.000000</td>\n",
       "      <td>0.000000</td>\n",
       "      <td>0.000000</td>\n",
       "      <td>0.000000</td>\n",
       "      <td>0.000000</td>\n",
       "      <td>0.000000</td>\n",
       "      <td>0.000000</td>\n",
       "      <td>0.000000</td>\n",
       "      <td>0.000000</td>\n",
       "      <td>0.000000</td>\n",
       "      <td>0.000000</td>\n",
       "      <td>0.000000</td>\n",
       "    </tr>\n",
       "    <tr>\n",
       "      <th>50%</th>\n",
       "      <td>1.000000</td>\n",
       "      <td>1.000000</td>\n",
       "      <td>40.751700</td>\n",
       "      <td>-73.978000</td>\n",
       "      <td>3150.000000</td>\n",
       "      <td>1.000000</td>\n",
       "      <td>0.000000</td>\n",
       "      <td>0.000000</td>\n",
       "      <td>0.000000</td>\n",
       "      <td>0.000000</td>\n",
       "      <td>0.000000</td>\n",
       "      <td>0.000000</td>\n",
       "      <td>0.000000</td>\n",
       "      <td>0.000000</td>\n",
       "      <td>0.000000</td>\n",
       "      <td>0.000000</td>\n",
       "      <td>0.000000</td>\n",
       "      <td>0.000000</td>\n",
       "      <td>0.000000</td>\n",
       "      <td>0.000000</td>\n",
       "      <td>0.000000</td>\n",
       "      <td>0.000000</td>\n",
       "      <td>0.000000</td>\n",
       "      <td>0.000000</td>\n",
       "      <td>0.000000</td>\n",
       "      <td>0.000000</td>\n",
       "      <td>0.000000</td>\n",
       "      <td>0.000000</td>\n",
       "      <td>0.000000</td>\n",
       "    </tr>\n",
       "    <tr>\n",
       "      <th>75%</th>\n",
       "      <td>1.000000</td>\n",
       "      <td>2.000000</td>\n",
       "      <td>40.774000</td>\n",
       "      <td>-73.955000</td>\n",
       "      <td>4095.000000</td>\n",
       "      <td>1.000000</td>\n",
       "      <td>1.000000</td>\n",
       "      <td>1.000000</td>\n",
       "      <td>1.000000</td>\n",
       "      <td>1.000000</td>\n",
       "      <td>1.000000</td>\n",
       "      <td>1.000000</td>\n",
       "      <td>0.000000</td>\n",
       "      <td>1.000000</td>\n",
       "      <td>0.000000</td>\n",
       "      <td>0.000000</td>\n",
       "      <td>0.000000</td>\n",
       "      <td>0.000000</td>\n",
       "      <td>0.000000</td>\n",
       "      <td>0.000000</td>\n",
       "      <td>0.000000</td>\n",
       "      <td>0.000000</td>\n",
       "      <td>0.000000</td>\n",
       "      <td>0.000000</td>\n",
       "      <td>0.000000</td>\n",
       "      <td>0.000000</td>\n",
       "      <td>0.000000</td>\n",
       "      <td>0.000000</td>\n",
       "      <td>0.000000</td>\n",
       "    </tr>\n",
       "    <tr>\n",
       "      <th>max</th>\n",
       "      <td>5.000000</td>\n",
       "      <td>8.000000</td>\n",
       "      <td>40.989400</td>\n",
       "      <td>-73.700100</td>\n",
       "      <td>15500.000000</td>\n",
       "      <td>1.000000</td>\n",
       "      <td>1.000000</td>\n",
       "      <td>1.000000</td>\n",
       "      <td>1.000000</td>\n",
       "      <td>1.000000</td>\n",
       "      <td>1.000000</td>\n",
       "      <td>1.000000</td>\n",
       "      <td>1.000000</td>\n",
       "      <td>1.000000</td>\n",
       "      <td>1.000000</td>\n",
       "      <td>1.000000</td>\n",
       "      <td>1.000000</td>\n",
       "      <td>1.000000</td>\n",
       "      <td>1.000000</td>\n",
       "      <td>1.000000</td>\n",
       "      <td>1.000000</td>\n",
       "      <td>1.000000</td>\n",
       "      <td>1.000000</td>\n",
       "      <td>1.000000</td>\n",
       "      <td>1.000000</td>\n",
       "      <td>1.000000</td>\n",
       "      <td>1.000000</td>\n",
       "      <td>1.000000</td>\n",
       "      <td>1.000000</td>\n",
       "    </tr>\n",
       "  </tbody>\n",
       "</table>\n",
       "</div>"
      ],
      "text/plain": [
       "          bathrooms      bedrooms      latitude     longitude         price      elevator  \\\n",
       "count  48817.000000  48817.000000  48817.000000  48817.000000  48817.000000  48817.000000   \n",
       "mean       1.201610      1.537149     40.750756    -73.972757   3579.560563      0.524817   \n",
       "std        0.469025      1.106087      0.038962      0.028887   1762.438925      0.499389   \n",
       "min        0.000000      0.000000     40.571200    -74.087300   1375.000000      0.000000   \n",
       "25%        1.000000      1.000000     40.728300    -73.991800   2500.000000      0.000000   \n",
       "50%        1.000000      1.000000     40.751700    -73.978000   3150.000000      1.000000   \n",
       "75%        1.000000      2.000000     40.774000    -73.955000   4095.000000      1.000000   \n",
       "max        5.000000      8.000000     40.989400    -73.700100  15500.000000      1.000000   \n",
       "\n",
       "       cats_allowed  hardwood_floors  dogs_allowed       doorman    dishwasher        no_fee  \\\n",
       "count  48817.000000     48817.000000  48817.000000  48817.000000  48817.000000  48817.000000   \n",
       "mean       0.478256         0.478276      0.447610      0.424832      0.415081      0.367085   \n",
       "std        0.499532         0.499533      0.497253      0.494322      0.492741      0.482015   \n",
       "min        0.000000         0.000000      0.000000      0.000000      0.000000      0.000000   \n",
       "25%        0.000000         0.000000      0.000000      0.000000      0.000000      0.000000   \n",
       "50%        0.000000         0.000000      0.000000      0.000000      0.000000      0.000000   \n",
       "75%        1.000000         1.000000      1.000000      1.000000      1.000000      1.000000   \n",
       "max        1.000000         1.000000      1.000000      1.000000      1.000000      1.000000   \n",
       "\n",
       "       laundry_in_building  fitness_center       pre-war  laundry_in_unit     roof_deck  \\\n",
       "count         48817.000000    48817.000000  48817.000000     48817.000000  48817.000000   \n",
       "mean              0.052769        0.268431      0.185653         0.175902      0.132761   \n",
       "std               0.223573        0.443148      0.388830         0.380741      0.339320   \n",
       "min               0.000000        0.000000      0.000000         0.000000      0.000000   \n",
       "25%               0.000000        0.000000      0.000000         0.000000      0.000000   \n",
       "50%               0.000000        0.000000      0.000000         0.000000      0.000000   \n",
       "75%               0.000000        1.000000      0.000000         0.000000      0.000000   \n",
       "max               1.000000        1.000000      1.000000         1.000000      1.000000   \n",
       "\n",
       "       outdoor_space   dining_room  high_speed_internet       balcony  swimming_pool  \\\n",
       "count   48817.000000  48817.000000         48817.000000  48817.000000   48817.000000   \n",
       "mean        0.138394      0.102833             0.087203      0.060471       0.055206   \n",
       "std         0.345317      0.303744             0.282136      0.238359       0.228385   \n",
       "min         0.000000      0.000000             0.000000      0.000000       0.000000   \n",
       "25%         0.000000      0.000000             0.000000      0.000000       0.000000   \n",
       "50%         0.000000      0.000000             0.000000      0.000000       0.000000   \n",
       "75%         0.000000      0.000000             0.000000      0.000000       0.000000   \n",
       "max         1.000000      1.000000             1.000000      1.000000       1.000000   \n",
       "\n",
       "       new_construction       terrace     exclusive          loft  garden_patio  \\\n",
       "count      48817.000000  48817.000000  48817.000000  48817.000000  48817.000000   \n",
       "mean           0.051908      0.046193      0.043305      0.042711      0.039331   \n",
       "std            0.221844      0.209905      0.203544      0.202206      0.194382   \n",
       "min            0.000000      0.000000      0.000000      0.000000      0.000000   \n",
       "25%            0.000000      0.000000      0.000000      0.000000      0.000000   \n",
       "50%            0.000000      0.000000      0.000000      0.000000      0.000000   \n",
       "75%            0.000000      0.000000      0.000000      0.000000      0.000000   \n",
       "max            1.000000      1.000000      1.000000      1.000000      1.000000   \n",
       "\n",
       "       wheelchair_access  common_outdoor_space  \n",
       "count       48817.000000          48817.000000  \n",
       "mean            0.027224              0.026241  \n",
       "std             0.162738              0.159852  \n",
       "min             0.000000              0.000000  \n",
       "25%             0.000000              0.000000  \n",
       "50%             0.000000              0.000000  \n",
       "75%             0.000000              0.000000  \n",
       "max             1.000000              1.000000  "
      ]
     },
     "execution_count": 82,
     "metadata": {},
     "output_type": "execute_result"
    }
   ],
   "source": [
    "df.describe()"
   ]
  },
  {
   "cell_type": "code",
   "execution_count": 83,
   "metadata": {},
   "outputs": [],
   "source": [
    "## (When I first plotted below, there was one distracting 10-bath outlier.\n",
    "## I remove that here.)\n",
    "\n",
    "df = df[df['bathrooms'] < 10]"
   ]
  },
  {
   "cell_type": "code",
   "execution_count": 84,
   "metadata": {},
   "outputs": [
    {
     "data": {
      "image/png": "[encoded data removed]",
      "text/plain": [
       "<Figure size 432x288 with 1 Axes>"
      ]
     },
     "metadata": {
      "needs_background": "light"
     },
     "output_type": "display_data"
    }
   ],
   "source": [
    "## Most of the columns are boolean (shown by max and min being 1 and 0).\n",
    "## Let's plot price against number of bathrooms.\n",
    "\n",
    "import matplotlib.pyplot as plt\n",
    "\n",
    "fig, ax = plt.subplots()\n",
    "\n",
    "ax.scatter(df['bathrooms'], df['price'], alpha=.15)\n",
    "\n",
    "ax.set_title('Monthly Rent vs # Bathrooms', fontsize=14, y=1.04)\n",
    "\n",
    "ax.set_xlabel('# of bathrooms')\n",
    "ax.set_ylabel('Montly rent ($)')\n",
    "\n",
    "ax.spines['top'].set_visible(False)\n",
    "ax.spines['right'].set_visible(False)\n",
    "\n",
    "plt.show()"
   ]
  },
  {
   "cell_type": "code",
   "execution_count": 85,
   "metadata": {},
   "outputs": [],
   "source": [
    "## There's clearly a relationship here. Let's try making a model from\n",
    "## only bathroom count.\n",
    "\n",
    "X = df[['bathrooms']]\n",
    "y = df['price']"
   ]
  },
  {
   "cell_type": "code",
   "execution_count": 86,
   "metadata": {},
   "outputs": [
    {
     "data": {
      "text/plain": [
       "LinearRegression()"
      ]
     },
     "execution_count": 86,
     "metadata": {},
     "output_type": "execute_result"
    }
   ],
   "source": [
    "from sklearn.linear_model import LinearRegression\n",
    "from sklearn.metrics import mean_absolute_error\n",
    "\n",
    "model = LinearRegression()\n",
    "model.fit(X=X, y=y)"
   ]
  },
  {
   "cell_type": "code",
   "execution_count": 87,
   "metadata": {},
   "outputs": [],
   "source": [
    "y_pred = model.predict(X)"
   ]
  },
  {
   "cell_type": "code",
   "execution_count": 88,
   "metadata": {},
   "outputs": [
    {
     "data": {
      "text/plain": [
       "array([4352.95967496, 3057.00579268, 3057.00579268, ..., 3057.00579268,\n",
       "       3057.00579268, 3057.00579268])"
      ]
     },
     "execution_count": 88,
     "metadata": {},
     "output_type": "execute_result"
    }
   ],
   "source": [
    "y_pred"
   ]
  },
  {
   "cell_type": "code",
   "execution_count": 89,
   "metadata": {},
   "outputs": [
    {
     "data": {
      "image/png": "[encoded data removed]",
      "text/plain": [
       "<Figure size 432x288 with 1 Axes>"
      ]
     },
     "metadata": {
      "needs_background": "light"
     },
     "output_type": "display_data"
    }
   ],
   "source": [
    "import matplotlib.pyplot as plt\n",
    "\n",
    "fig, ax = plt.subplots()\n",
    "\n",
    "ax.scatter(df['bathrooms'], df['price'], alpha=.15)\n",
    "model1 = ax.plot(X, y_pred, color='black', alpha=.6)\n",
    "\n",
    "ax.set_title('Monthly Rent vs # Bathrooms', fontsize=14, y=1.04)\n",
    "\n",
    "ax.set_xlabel('# of bathrooms')\n",
    "ax.set_ylabel('Montly rent ($)')\n",
    "ax.legend(model1, ['Predictions'])\n",
    "\n",
    "ax.spines['top'].set_visible(False)\n",
    "ax.spines['right'].set_visible(False)\n",
    "\n",
    "plt.show()"
   ]
  },
  {
   "cell_type": "code",
   "execution_count": 90,
   "metadata": {},
   "outputs": [
    {
     "data": {
      "text/plain": [
       "889.444227978281"
      ]
     },
     "execution_count": 90,
     "metadata": {},
     "output_type": "execute_result"
    }
   ],
   "source": [
    "mean_absolute_error(y, y_pred)"
   ]
  },
  {
   "cell_type": "code",
   "execution_count": 91,
   "metadata": {},
   "outputs": [
    {
     "data": {
      "text/plain": [
       "821.9043368959562"
      ]
     },
     "execution_count": 91,
     "metadata": {},
     "output_type": "execute_result"
    }
   ],
   "source": [
    "## Ok. Let's see if, by adding bedroom count to our model,\n",
    "## we can reduce our mean absolute error.\n",
    "\n",
    "X = df[['bathrooms', 'bedrooms']]\n",
    "\n",
    "model = LinearRegression()\n",
    "model.fit(X=X, y=y)\n",
    "\n",
    "y_pred = model.predict(X)\n",
    "\n",
    "mean_absolute_error(y, y_pred)"
   ]
  },
  {
   "cell_type": "code",
   "execution_count": 92,
   "metadata": {},
   "outputs": [
    {
     "data": {
      "text/plain": [
       "818.5687341446536"
      ]
     },
     "execution_count": 92,
     "metadata": {},
     "output_type": "execute_result"
    }
   ],
   "source": [
    "## Not bad! I don't think this will be helpful, but let's see\n",
    "## if these boolean features can do anything.\n",
    "\n",
    "X = df[['bathrooms', 'bedrooms', 'cats_allowed']]\n",
    "\n",
    "model = LinearRegression()\n",
    "model.fit(X=X, y=y)\n",
    "\n",
    "y_pred = model.predict(X)\n",
    "\n",
    "mean_absolute_error(y, y_pred)"
   ]
  },
  {
   "cell_type": "code",
   "execution_count": 93,
   "metadata": {},
   "outputs": [
    {
     "data": {
      "text/html": [
       "<div>\n",
       "<style scoped>\n",
       "    .dataframe tbody tr th:only-of-type {\n",
       "        vertical-align: middle;\n",
       "    }\n",
       "\n",
       "    .dataframe tbody tr th {\n",
       "        vertical-align: top;\n",
       "    }\n",
       "\n",
       "    .dataframe thead th {\n",
       "        text-align: right;\n",
       "    }\n",
       "</style>\n",
       "<table border=\"1\" class=\"dataframe\">\n",
       "  <thead>\n",
       "    <tr style=\"text-align: right;\">\n",
       "      <th></th>\n",
       "      <th>feat</th>\n",
       "      <th>MAE</th>\n",
       "    </tr>\n",
       "  </thead>\n",
       "  <tbody>\n",
       "    <tr>\n",
       "      <th>4</th>\n",
       "      <td>doorman</td>\n",
       "      <td>774.936165</td>\n",
       "    </tr>\n",
       "    <tr>\n",
       "      <th>0</th>\n",
       "      <td>elevator</td>\n",
       "      <td>794.977815</td>\n",
       "    </tr>\n",
       "    <tr>\n",
       "      <th>8</th>\n",
       "      <td>fitness_center</td>\n",
       "      <td>796.816643</td>\n",
       "    </tr>\n",
       "    <tr>\n",
       "      <th>10</th>\n",
       "      <td>laundry_in_unit</td>\n",
       "      <td>813.383256</td>\n",
       "    </tr>\n",
       "    <tr>\n",
       "      <th>5</th>\n",
       "      <td>dishwasher</td>\n",
       "      <td>813.928238</td>\n",
       "    </tr>\n",
       "  </tbody>\n",
       "</table>\n",
       "</div>"
      ],
      "text/plain": [
       "               feat         MAE\n",
       "4           doorman  774.936165\n",
       "0          elevator  794.977815\n",
       "8    fitness_center  796.816643\n",
       "10  laundry_in_unit  813.383256\n",
       "5        dishwasher  813.928238"
      ]
     },
     "execution_count": 93,
     "metadata": {},
     "output_type": "execute_result"
    }
   ],
   "source": [
    "## Tiny improvement. Just for fun, let's iterate through\n",
    "## the boolean features and see which one of them does the\n",
    "## most good for our model.\n",
    "\n",
    "bool_feats = df.loc[:,'elevator':].columns\n",
    "MAEs = []\n",
    "\n",
    "for feat in bool_feats:\n",
    "    X = df[['bathrooms', 'bedrooms', feat]]\n",
    "\n",
    "    model = LinearRegression()\n",
    "    model.fit(X=X, y=y)\n",
    "\n",
    "    y_pred = model.predict(X)\n",
    "\n",
    "    MAEs.append(mean_absolute_error(y, y_pred))\n",
    "    \n",
    "    \n",
    "df_bool_errors = pd.DataFrame({'feat':bool_feats, 'MAE':MAEs})\n",
    "    \n",
    "df_bool_errors.sort_values(by='MAE').head()"
   ]
  },
  {
   "cell_type": "code",
   "execution_count": 94,
   "metadata": {},
   "outputs": [
    {
     "data": {
      "text/plain": [
       "772.7191983376676"
      ]
     },
     "execution_count": 94,
     "metadata": {},
     "output_type": "execute_result"
    }
   ],
   "source": [
    "## There you have it! The doorman's presence is the most important boolean\n",
    "## predictor of rental price.\n",
    "\n",
    "## What if we added those first three boolean features? What would our\n",
    "## error be then?\n",
    "\n",
    "X = df[['bathrooms', 'bedrooms', 'doorman', 'elevator', 'fitness_center']]\n",
    "\n",
    "model = LinearRegression()\n",
    "model.fit(X=X, y=y)\n",
    "\n",
    "y_pred = model.predict(X)\n",
    "\n",
    "mean_absolute_error(y, y_pred)"
   ]
  },
  {
   "cell_type": "code",
   "execution_count": 97,
   "metadata": {},
   "outputs": [
    {
     "name": "stdout",
     "output_type": "stream",
     "text": [
      "coefficients:\t [1922.17745075  440.52489021  744.86657286]\n",
      "intercept:\t 276.2575706300131\n"
     ]
    }
   ],
   "source": [
    "## Hardly better than with only the doorman. Let's revert.\n",
    "\n",
    "X = df[['bathrooms', 'bedrooms', 'doorman']]\n",
    "\n",
    "model = LinearRegression()\n",
    "model.fit(X=X, y=y)\n",
    "\n",
    "y_pred = model.predict(X)\n",
    "\n",
    "\n",
    "## And check out the coefficients.\n",
    "\n",
    "print('coefficients:\\t', model.coef_)\n",
    "print('intercept:\\t', model.intercept_)"
   ]
  },
  {
   "cell_type": "code",
   "execution_count": 100,
   "metadata": {},
   "outputs": [],
   "source": [
    "## Let's explain these coefficients. The first one means that for\n",
    "## every added bathroom, the monthly price prediction goes up by \n",
    "## $1922. For every added bedroom, it goes up by $441. The presence\n",
    "## of a doorman singlehandedly raises the monthly price prediction\n",
    "## by $745!\n",
    "\n",
    "## Now we can make our own function using these coefficients.\n",
    "\n",
    "def rent_predict(bathrooms, bedrooms, doorman):\n",
    "    price = 276.26 + 1922.18*bathrooms + 440.52*bedrooms + 744.87*doorman\n",
    "    return price"
   ]
  },
  {
   "cell_type": "code",
   "execution_count": 103,
   "metadata": {},
   "outputs": [
    {
     "data": {
      "text/plain": [
       "0.004197762140826416"
      ]
     },
     "execution_count": 103,
     "metadata": {},
     "output_type": "execute_result"
    }
   ],
   "source": [
    "## When we run mean_absolute_error() on our y_pred from the sklearn\n",
    "## model compared to predictions from this homemade function, the\n",
    "## result should be just about zero.\n",
    "\n",
    "homemade_pred = rent_predict(X['bathrooms'], X['bedrooms'], X['doorman'])\n",
    "\n",
    "mean_absolute_error(y_pred, homemade_pred)"
   ]
  },
  {
   "cell_type": "code",
   "execution_count": 104,
   "metadata": {},
   "outputs": [
    {
     "data": {
      "text/plain": [
       "2943.31"
      ]
     },
     "execution_count": 104,
     "metadata": {},
     "output_type": "execute_result"
    }
   ],
   "source": [
    "## Nice. How much would a studio apartment with a doorman cost?\n",
    "\n",
    "rent_predict(1, 0, 1)"
   ]
  },
  {
   "cell_type": "code",
   "execution_count": null,
   "metadata": {},
   "outputs": [],
   "source": [
    "## Yikes."
   ]
  }
 ],
 "metadata": {
  "kernelspec": {
   "display_name": "Python 3",
   "language": "python",
   "name": "python3"
  },
  "language_info": {
   "codemirror_mode": {
    "name": "ipython",
    "version": 3
   },
   "file_extension": ".py",
   "mimetype": "text/x-python",
   "name": "python",
   "nbconvert_exporter": "python",
   "pygments_lexer": "ipython3",
   "version": "3.8.6rc1"
  }
 },
 "nbformat": 4,
 "nbformat_minor": 1
}
