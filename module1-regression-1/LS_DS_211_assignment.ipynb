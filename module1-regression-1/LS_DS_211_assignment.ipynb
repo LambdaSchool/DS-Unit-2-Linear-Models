{
  "nbformat": 4,
  "nbformat_minor": 0,
  "metadata": {
    "kernelspec": {
      "display_name": "Python 3",
      "language": "python",
      "name": "python3"
    },
    "language_info": {
      "codemirror_mode": {
        "name": "ipython",
        "version": 3
      },
      "file_extension": ".py",
      "mimetype": "text/x-python",
      "name": "python",
      "nbconvert_exporter": "python",
      "pygments_lexer": "ipython3",
      "version": "3.7.3"
    },
    "colab": {
      "name": "LS_DS_211_assignment.ipynb",
      "provenance": [],
      "collapsed_sections": [],
      "include_colab_link": true
    }
  },
  "cells": [
    {
      "cell_type": "markdown",
      "metadata": {
        "id": "view-in-github",
        "colab_type": "text"
      },
      "source": [
        "<a href=\"https://colab.research.google.com/github/Lolo-17/DS-Unit-2-Linear-Models/blob/master/module1-regression-1/LS_DS_211_assignment.ipynb\" target=\"_parent\"><img src=\"https://colab.research.google.com/assets/colab-badge.svg\" alt=\"Open In Colab\"/></a>"
      ]
    },
    {
      "cell_type": "markdown",
      "metadata": {
        "id": "C7aYielWMiZA",
        "colab_type": "text"
      },
      "source": [
        "Lambda School Data Science\n",
        "\n",
        "*Unit 2, Sprint 1, Module 1*\n",
        "\n",
        "---"
      ]
    },
    {
      "cell_type": "markdown",
      "metadata": {
        "colab_type": "text",
        "id": "7IXUfiQ2UKj6"
      },
      "source": [
        "# Regression 1\n",
        "\n",
        "## Assignment\n",
        "\n",
        "You'll use another **New York City** real estate dataset. \n",
        "\n",
        "But now you'll **predict how much it costs to rent an apartment**, instead of how much it costs to buy a condo.\n",
        "\n",
        "The data comes from renthop.com, an apartment listing website.\n",
        "\n",
        "- [ ] Look at the data. Choose a feature, and plot its relationship with the target.\n",
        "- [ ] Use scikit-learn for linear regression with one feature. You can follow the [5-step process from Jake VanderPlas](https://jakevdp.github.io/PythonDataScienceHandbook/05.02-introducing-scikit-learn.html#Basics-of-the-API).\n",
        "- [ ] Define a function to make new predictions and explain the model coefficient.\n",
        "- [ ] Organize and comment your code.\n",
        "\n",
        "> [Do Not Copy-Paste.](https://docs.google.com/document/d/1ubOw9B3Hfip27hF2ZFnW3a3z9xAgrUDRReOEo-FHCVs/edit) You must type each of these exercises in, manually. If you copy and paste, you might as well not even do them. The point of these exercises is to train your hands, your brain, and your mind in how to read, write, and see code. If you copy-paste, you are cheating yourself out of the effectiveness of the lessons.\n",
        "\n",
        "If your **Plotly** visualizations aren't working:\n",
        "- You must have JavaScript enabled in your browser\n",
        "- You probably want to use Chrome or Firefox\n",
        "- You may need to turn off ad blockers\n",
        "- [If you're using Jupyter Lab locally, you need to install some \"extensions\"](https://plot.ly/python/getting-started/#jupyterlab-support-python-35)\n",
        "\n",
        "## Stretch Goals\n",
        "- [ ] Do linear regression with two or more features.\n",
        "- [ ] Read [The Discovery of Statistical Regression](https://priceonomics.com/the-discovery-of-statistical-regression/)\n",
        "- [ ] Read [_An Introduction to Statistical Learning_](http://faculty.marshall.usc.edu/gareth-james/ISL/ISLR%20Seventh%20Printing.pdf), Chapter 2.1: What Is Statistical Learning?"
      ]
    },
    {
      "cell_type": "code",
      "metadata": {
        "colab_type": "code",
        "id": "o9eSnDYhUGD7",
        "colab": {}
      },
      "source": [
        "import sys\n",
        "\n",
        "# If you're on Colab:\n",
        "if 'google.colab' in sys.modules:\n",
        "    DATA_PATH = 'https://raw.githubusercontent.com/LambdaSchool/DS-Unit-2-Applied-Modeling/master/data/'\n",
        "\n",
        "# If you're working locally:\n",
        "else:\n",
        "    DATA_PATH = '../data/'\n",
        "    \n",
        "# Ignore this Numpy warning when using Plotly Express:\n",
        "# FutureWarning: Method .ptp is deprecated and will be removed in a future version. Use numpy.ptp instead.\n",
        "import warnings\n",
        "warnings.filterwarnings(action='ignore', category=FutureWarning, module='numpy')"
      ],
      "execution_count": 228,
      "outputs": []
    },
    {
      "cell_type": "code",
      "metadata": {
        "colab_type": "code",
        "id": "4S2wXSrFV_g4",
        "colab": {}
      },
      "source": [
        "# Read New York City apartment rental listing data\n",
        "import pandas as pd\n",
        "df = pd.read_csv(DATA_PATH+'apartments/renthop-nyc.csv')\n",
        "assert df.shape == (49352, 34)\n",
        "\n",
        "''' Changing apt with 10 br to 1 '''\n",
        "df['bathrooms'] = df['bathrooms'].replace(10.0, 1)"
      ],
      "execution_count": 229,
      "outputs": []
    },
    {
      "cell_type": "code",
      "metadata": {
        "id": "dn7u83GfMiZL",
        "colab_type": "code",
        "colab": {}
      },
      "source": [
        "# Remove outliers: \n",
        "# the most extreme 1% prices,\n",
        "# the most extreme .1% latitudes, &\n",
        "# the most extreme .1% longitudes\n",
        "df = df[(df['price'] >= 1375) & (df['price'] <= 15500) & \n",
        "        (df['latitude'] >=40.57) & (df['latitude'] < 40.99) &\n",
        "        (df['longitude'] >= -74.1) & (df['longitude'] <= -73.38)]"
      ],
      "execution_count": 230,
      "outputs": []
    },
    {
      "cell_type": "code",
      "metadata": {
        "id": "ztoMbbqSqRlb",
        "colab_type": "code",
        "colab": {}
      },
      "source": [
        "# Importing libraries\n",
        "import numpy as np\n",
        "import matplotlib.pyplot as plt\n",
        "from sklearn.metrics import mean_absolute_error\n",
        "from sklearn.linear_model import LinearRegression"
      ],
      "execution_count": 231,
      "outputs": []
    },
    {
      "cell_type": "code",
      "metadata": {
        "id": "cy6xNj9cnNkb",
        "colab_type": "code",
        "colab": {}
      },
      "source": [
        "# Looking at shape and first 5 rows to digest data\n",
        "print(df.shape)\n",
        "df.head()"
      ],
      "execution_count": null,
      "outputs": []
    },
    {
      "cell_type": "code",
      "metadata": {
        "id": "6dcFGNKtnQpq",
        "colab_type": "code",
        "colab": {}
      },
      "source": [
        "# To see the dataframe information.\n",
        "# Primarly to check the data types of columns.\n",
        "df.info()"
      ],
      "execution_count": null,
      "outputs": []
    },
    {
      "cell_type": "code",
      "metadata": {
        "id": "viM2liN_roYh",
        "colab_type": "code",
        "colab": {
          "base_uri": "https://localhost:8080/",
          "height": 281
        },
        "outputId": "8ef68769-6e74-49dc-82ef-cce1f998b744"
      },
      "source": [
        "# To see the distribution of rent prices.\n",
        "df['price'].plot(kind='hist')\n",
        "plt.xlabel('Rent Price')\n",
        "plt.show()"
      ],
      "execution_count": 234,
      "outputs": [
        {
          "output_type": "display_data",
          "data": {
            "image/png": "[encoded data removed]",
            "text/plain": [
              "<Figure size 432x288 with 1 Axes>"
            ]
          },
          "metadata": {
            "tags": [],
            "needs_background": "light"
          }
        }
      ]
    },
    {
      "cell_type": "code",
      "metadata": {
        "id": "iMkJgnBxs91a",
        "colab_type": "code",
        "colab": {
          "base_uri": "https://localhost:8080/",
          "height": 279
        },
        "outputId": "325d9ddd-6922-44a5-894f-bf03cde84c9f"
      },
      "source": [
        "# To see the distribution of bathrooms.\n",
        "df['bathrooms'].plot(kind='hist')\n",
        "plt.xlabel('Rent Price')\n",
        "plt.show()"
      ],
      "execution_count": 235,
      "outputs": [
        {
          "output_type": "display_data",
          "data": {
            "image/png": "[encoded data removed]",
            "text/plain": [
              "<Figure size 432x288 with 1 Axes>"
            ]
          },
          "metadata": {
            "tags": [],
            "needs_background": "light"
          }
        }
      ]
    },
    {
      "cell_type": "code",
      "metadata": {
        "id": "8LsH9vwctBUY",
        "colab_type": "code",
        "colab": {
          "base_uri": "https://localhost:8080/",
          "height": 279
        },
        "outputId": "a99fa2c8-02ca-4231-faa1-4c105c77b7b8"
      },
      "source": [
        "# To see the distribution of bathrooms.\n",
        "df['bedrooms'].plot(kind='hist')\n",
        "plt.xlabel('Rent Price')\n",
        "plt.show()"
      ],
      "execution_count": 236,
      "outputs": [
        {
          "output_type": "display_data",
          "data": {
            "image/png": "[encoded data removed]",
            "text/plain": [
              "<Figure size 432x288 with 1 Axes>"
            ]
          },
          "metadata": {
            "tags": [],
            "needs_background": "light"
          }
        }
      ]
    },
    {
      "cell_type": "code",
      "metadata": {
        "id": "gVY4epYVqC8z",
        "colab_type": "code",
        "colab": {
          "base_uri": "https://localhost:8080/",
          "height": 280
        },
        "outputId": "7810127a-53f6-4d66-8274-73094cf275ea"
      },
      "source": [
        "# To see the relationship between rent price and bathrooms.\n",
        "plt.scatter(df['bathrooms'], df['price'])\n",
        "plt.xlabel('Bathrooms')\n",
        "plt.ylabel('Rent Price')\n",
        "plt.show()"
      ],
      "execution_count": 237,
      "outputs": [
        {
          "output_type": "display_data",
          "data": {
            "image/png": "[encoded data removed]",
            "text/plain": [
              "<Figure size 432x288 with 1 Axes>"
            ]
          },
          "metadata": {
            "tags": [],
            "needs_background": "light"
          }
        }
      ]
    },
    {
      "cell_type": "code",
      "metadata": {
        "id": "IzFK__vhxYH4",
        "colab_type": "code",
        "colab": {}
      },
      "source": [
        "# This super awesome function takes two variables\n",
        "# and calculates a prediction using regression.\n",
        "# It also outputs stats and scatterplot with \n",
        "# best fit line.\n",
        "def make_super_line(target, pred):\n",
        "  y = target\n",
        "  X = pd.DataFrame(pred)\n",
        "\n",
        "  y_pred = [y.mean()] * len(y)\n",
        "\n",
        "  model = LinearRegression()\n",
        "  model.fit(X, y)\n",
        "\n",
        "  print('STATS:')\n",
        "  print('y mean:', round(y.mean()))\n",
        "  print('y lenght:', len(y))\n",
        "  print('mae:', round(mean_absolute_error(y, y_pred)))\n",
        "  print('\\n')\n",
        "\n",
        "  y_pred = model.predict(X)\n",
        "\n",
        "  print('FORMULA:')\n",
        "  print(f'rent price = {round(model.intercept_)} + {round(model.coef_[0])} x Bathrooms \\n')\n",
        "\n",
        "  print('GRAPH:\\n')\n",
        "  plt.scatter(X, y)\n",
        "  plt.plot(X, y_pred, color='r', label='Linear Model')\n",
        "  plt.ylabel('Rent Price')\n",
        "  plt.xlabel('Bathrooms')\n",
        "  plt.legend()\n",
        "  plt.legend(loc=\"best\")\n",
        "  plt.show()\n",
        "\n",
        "  print('\\n')\n",
        "  print('RESULT:')\n",
        "  print('For every additional bathroom past 1, the rent price increases by',\n",
        "        round(model.intercept_)+round(model.coef_[0])*1)"
      ],
      "execution_count": 238,
      "outputs": []
    },
    {
      "cell_type": "code",
      "metadata": {
        "id": "rqbSnQ2_1MG3",
        "colab_type": "code",
        "colab": {
          "base_uri": "https://localhost:8080/",
          "height": 535
        },
        "outputId": "a7194c80-5140-417b-8721-a598274a54c3"
      },
      "source": [
        "# This is calling my super awesome function\n",
        "# to get stats on bathroom agaisnt rent prices.\n",
        "make_super_line(df['price'], df['bathrooms'])"
      ],
      "execution_count": 239,
      "outputs": [
        {
          "output_type": "stream",
          "text": [
            "STATS:\n",
            "y mean: 3580\n",
            "y lenght: 48818\n",
            "mae: 1202.0\n",
            "\n",
            "\n",
            "FORMULA:\n",
            "rent price = 465.0 + 2592.0 x Bathrooms \n",
            "\n",
            "GRAPH:\n",
            "\n"
          ],
          "name": "stdout"
        },
        {
          "output_type": "display_data",
          "data": {
            "image/png": "[encoded data removed]",
            "text/plain": [
              "<Figure size 432x288 with 1 Axes>"
            ]
          },
          "metadata": {
            "tags": [],
            "needs_background": "light"
          }
        },
        {
          "output_type": "stream",
          "text": [
            "\n",
            "\n",
            "RESULT:\n",
            "For every additional bathroom past 1, the rent price increases by 3057.0\n"
          ],
          "name": "stdout"
        }
      ]
    },
    {
      "cell_type": "code",
      "metadata": {
        "id": "81Vwe0MLXkrM",
        "colab_type": "code",
        "colab": {}
      },
      "source": [
        "# This small function calculates the\n",
        "# predicted input number of bathroom.\n",
        "\n",
        "# Enter bathroom number.\n",
        "def find_rent_br_price(number):\n",
        "  print(f'You selected {number} bathroom(s), so your rent price is, {round(model.intercept_)+round(model.coef_[0])*number}')"
      ],
      "execution_count": 240,
      "outputs": []
    },
    {
      "cell_type": "code",
      "metadata": {
        "id": "LZHGO8_FXxcW",
        "colab_type": "code",
        "colab": {
          "base_uri": "https://localhost:8080/",
          "height": 34
        },
        "outputId": "648aeb10-d76d-4c48-eaa8-c20eed84ca33"
      },
      "source": [
        "# The result shows the predicted price\n",
        "# with 5 bathrooms in NYC.\n",
        "find_rent_br_price(5)"
      ],
      "execution_count": 241,
      "outputs": [
        {
          "output_type": "stream",
          "text": [
            "You selected 5 bathroom(s), so your rent price is, 13425.0\n"
          ],
          "name": "stdout"
        }
      ]
    }
  ]
}