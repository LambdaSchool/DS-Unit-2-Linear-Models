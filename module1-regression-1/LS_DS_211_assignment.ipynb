{
 "cells": [
  {
   "cell_type": "markdown",
   "metadata": {},
   "source": [
    "Lambda School Data Science\n",
    "\n",
    "*Unit 2, Sprint 1, Module 1*\n",
    "\n",
    "---"
   ]
  },
  {
   "cell_type": "markdown",
   "metadata": {
    "colab_type": "text",
    "id": "7IXUfiQ2UKj6"
   },
   "source": [
    "# Regression 1\n",
    "\n",
    "## Assignment\n",
    "\n",
    "You'll use another **New York City** real estate dataset. \n",
    "\n",
    "But now you'll **predict how much it costs to rent an apartment**, instead of how much it costs to buy a condo.\n",
    "\n",
    "The data comes from renthop.com, an apartment listing website.\n",
    "\n",
    "- [ ] Look at the data. Choose a feature, and plot its relationship with the target.\n",
    "- [ ] Use scikit-learn for linear regression with one feature. You can follow the [5-step process from Jake VanderPlas](https://jakevdp.github.io/PythonDataScienceHandbook/05.02-introducing-scikit-learn.html#Basics-of-the-API).\n",
    "- [ ] Define a function to make new predictions and explain the model coefficient.\n",
    "- [ ] Organize and comment your code.\n",
    "\n",
    "> [Do Not Copy-Paste.](https://docs.google.com/document/d/1ubOw9B3Hfip27hF2ZFnW3a3z9xAgrUDRReOEo-FHCVs/edit) You must type each of these exercises in, manually. If you copy and paste, you might as well not even do them. The point of these exercises is to train your hands, your brain, and your mind in how to read, write, and see code. If you copy-paste, you are cheating yourself out of the effectiveness of the lessons.\n",
    "\n",
    "If your **Plotly** visualizations aren't working:\n",
    "- You must have JavaScript enabled in your browser\n",
    "- You probably want to use Chrome or Firefox\n",
    "- You may need to turn off ad blockers\n",
    "- [If you're using Jupyter Lab locally, you need to install some \"extensions\"](https://plot.ly/python/getting-started/#jupyterlab-support-python-35)\n",
    "\n",
    "## Stretch Goals\n",
    "- [ ] Do linear regression with two or more features.\n",
    "- [ ] Read [The Discovery of Statistical Regression](https://priceonomics.com/the-discovery-of-statistical-regression/)\n",
    "- [ ] Read [_An Introduction to Statistical Learning_](http://faculty.marshall.usc.edu/gareth-james/ISL/ISLR%20Seventh%20Printing.pdf), Chapter 2.1: What Is Statistical Learning?"
   ]
  },
  {
   "cell_type": "code",
   "execution_count": 16,
   "metadata": {
    "colab": {},
    "colab_type": "code",
    "id": "o9eSnDYhUGD7"
   },
   "outputs": [],
   "source": [
    "import sys\n",
    "\n",
    "# If you're on Colab:\n",
    "if 'google.colab' in sys.modules:\n",
    "    DATA_PATH = 'https://raw.githubusercontent.com/LambdaSchool/DS-Unit-2-Applied-Modeling/master/data/'\n",
    "\n",
    "# If you're working locally:\n",
    "else:\n",
    "    DATA_PATH = '../data/'\n",
    "    \n",
    "# Ignore this Numpy warning when using Plotly Express:\n",
    "# FutureWarning: Method .ptp is deprecated and will be removed in a future version. Use numpy.ptp instead.\n",
    "import warnings\n",
    "warnings.filterwarnings(action='ignore', category=FutureWarning, module='numpy')"
   ]
  },
  {
   "cell_type": "code",
   "execution_count": 17,
   "metadata": {
    "colab": {},
    "colab_type": "code",
    "id": "4S2wXSrFV_g4"
   },
   "outputs": [],
   "source": [
    "# Read New York City apartment rental listing data\n",
    "import pandas as pd\n",
    "df = pd.read_csv(DATA_PATH+'apartments/renthop-nyc.csv')\n",
    "assert df.shape == (49352, 34)"
   ]
  },
  {
   "cell_type": "code",
   "execution_count": 18,
   "metadata": {},
   "outputs": [],
   "source": [
    "# Remove outliers: \n",
    "# the most extreme 1% prices,\n",
    "# the most extreme .1% latitudes, &\n",
    "# the most extreme .1% longitudes\n",
    "df = df[(df['price'] >= 1375) & (df['price'] <= 15500) & \n",
    "        (df['latitude'] >=40.57) & (df['latitude'] < 40.99) &\n",
    "        (df['longitude'] >= -74.1) & (df['longitude'] <= -73.38)]"
   ]
  },
  {
   "cell_type": "code",
   "execution_count": 26,
   "metadata": {},
   "outputs": [],
   "source": [
    "#Import libraries\n",
    "import pandas as pd\n",
    "import numpy as np\n",
    "import matplotlib.pyplot as plt\n",
    "from sklearn.metrics import mean_absolute_error\n",
    "from sklearn.linear_model import LinearRegression"
   ]
  },
  {
   "cell_type": "code",
   "execution_count": 20,
   "metadata": {},
   "outputs": [],
   "source": [
    "#Wrangle data function\n",
    "def wrangle(data):\n",
    "#Read data\n",
    "  df = pd.read_csv(data,\n",
    "                #Format dates\n",
    "                 parse_dates=['created'],\n",
    "                #Set index to date created\n",
    "                 index_col='created' )\n",
    "#Drop unnecessary columns\n",
    "  df.drop(columns=['description', 'display_address', 'no_fee'], inplace=True)\n",
    "#Fill nan with 0\n",
    "  df.fillna(0, inplace=True)\n",
    "#Return dataframe\n",
    "  return df"
   ]
  },
  {
   "cell_type": "code",
   "execution_count": 21,
   "metadata": {},
   "outputs": [],
   "source": [
    "#Apply function to df\n",
    "df = wrangle(DATA_PATH + 'apartments/renthop-nyc.csv')"
   ]
  },
  {
   "cell_type": "code",
   "execution_count": 22,
   "metadata": {},
   "outputs": [
    {
     "data": {
      "image/png": "[encoded data removed]",
      "text/plain": [
       "<Figure size 432x288 with 1 Axes>"
      ]
     },
     "metadata": {
      "needs_background": "light"
     },
     "output_type": "display_data"
    }
   ],
   "source": [
    "#Visualize for relationship\n",
    "plt.scatter(df['bedrooms'], df['price'])\n",
    "plt.xlabel('Bedrooms')\n",
    "plt.ylabel('Price')\n",
    "plt.show();"
   ]
  },
  {
   "cell_type": "code",
   "execution_count": 23,
   "metadata": {},
   "outputs": [
    {
     "name": "stdout",
     "output_type": "stream",
     "text": [
      "Shape of X: (49352, 1)\n",
      "Shpae of y: (49352,)\n"
     ]
    }
   ],
   "source": [
    "#Slpit data and check for dimensions\n",
    "X = df[['bedrooms']]\n",
    "y = df['price']\n",
    "\n",
    "print('Shape of X:', X.shape)\n",
    "print('Shpae of y:', y.shape)"
   ]
  },
  {
   "cell_type": "code",
   "execution_count": 24,
   "metadata": {},
   "outputs": [
    {
     "name": "stdout",
     "output_type": "stream",
     "text": [
      "Mean renatl price: 3830.174035500081\n",
      "Baseline MAE: 1549.6424487275\n"
     ]
    }
   ],
   "source": [
    "#Build naive model for baseline\n",
    "print('Mean renatl price:', y.mean())\n",
    "y_prediction = [y.mean()] * len(y)\n",
    "print('Baseline MAE:', mean_absolute_error(y, y_prediction))"
   ]
  },
  {
   "cell_type": "code",
   "execution_count": 25,
   "metadata": {},
   "outputs": [
    {
     "data": {
      "image/png": "[encoded data removed]",
      "text/plain": [
       "<Figure size 432x288 with 1 Axes>"
      ]
     },
     "metadata": {
      "needs_background": "light"
     },
     "output_type": "display_data"
    }
   ],
   "source": [
    "#Visualize baseline prediction\n",
    "plt.scatter(df['bedrooms'], df['price'])\n",
    "plt.plot(df['bathrooms'], y_prediction, label='Baseline', color='blue')\n",
    "plt.xlabel('Bedrooms')\n",
    "plt.ylabel('Price')\n",
    "plt.show();"
   ]
  },
  {
   "cell_type": "code",
   "execution_count": 27,
   "metadata": {},
   "outputs": [
    {
     "data": {
      "text/plain": [
       "LinearRegression()"
      ]
     },
     "execution_count": 27,
     "metadata": {},
     "output_type": "execute_result"
    }
   ],
   "source": [
    "#Build model\n",
    "model = LinearRegression()\n",
    "model.fit(X, y)"
   ]
  },
  {
   "cell_type": "code",
   "execution_count": 28,
   "metadata": {},
   "outputs": [
    {
     "data": {
      "text/plain": [
       "array([1027166.19636004])"
      ]
     },
     "execution_count": 28,
     "metadata": {},
     "output_type": "execute_result"
    }
   ],
   "source": [
    "#Predict\n",
    "model.predict([[1000]])"
   ]
  },
  {
   "cell_type": "code",
   "execution_count": 29,
   "metadata": {},
   "outputs": [
    {
     "data": {
      "image/png": "[encoded data removed]",
      "text/plain": [
       "<Figure size 432x288 with 1 Axes>"
      ]
     },
     "metadata": {
      "needs_background": "light"
     },
     "output_type": "display_data"
    }
   ],
   "source": [
    "#Visualize prediction vs baseline\n",
    "plt.scatter(df['bathrooms'], df['price'])\n",
    "plt.plot(df['bathrooms'], y_prediction, label='Baseline', color='blue')\n",
    "plt.plot(X, model.predict(X), label='Linear Model', color='green')\n",
    "plt.xlabel('Bedrooms')\n",
    "plt.ylabel('Price')\n",
    "plt.show();"
   ]
  },
  {
   "cell_type": "code",
   "execution_count": 30,
   "metadata": {},
   "outputs": [
    {
     "name": "stdout",
     "output_type": "stream",
     "text": [
      "Baseline MAE: 1306.2964665452673\n"
     ]
    }
   ],
   "source": [
    "#Check mean error\n",
    "print('Baseline MAE:' ,mean_absolute_error(y, model.predict(X)))"
   ]
  }
 ],
 "metadata": {
  "kernelspec": {
   "display_name": "Python 3",
   "language": "python",
   "name": "python3"
  },
  "language_info": {
   "codemirror_mode": {
    "name": "ipython",
    "version": 3
   },
   "file_extension": ".py",
   "mimetype": "text/x-python",
   "name": "python",
   "nbconvert_exporter": "python",
   "pygments_lexer": "ipython3",
   "version": "3.8.8"
  }
 },
 "nbformat": 4,
 "nbformat_minor": 1
}
