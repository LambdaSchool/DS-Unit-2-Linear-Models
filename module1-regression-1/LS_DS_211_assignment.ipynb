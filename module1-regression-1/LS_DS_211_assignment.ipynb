{
  "nbformat": 4,
  "nbformat_minor": 0,
  "metadata": {
    "colab": {
      "name": "LS_DS_211_assignment.ipynb",
      "provenance": [],
      "collapsed_sections": [
        "7IXUfiQ2UKj6",
        "ThVBRl4thGJ_",
        "ZbiYisurWLCQ",
        "BAj0haqxjoq2",
        "_qa4xip9rgvG",
        "VboYCoU4rES0",
        "eeIxT8jLEVUt"
      ],
      "include_colab_link": true
    },
    "kernelspec": {
      "display_name": "Python 3",
      "language": "python",
      "name": "python3"
    },
    "language_info": {
      "codemirror_mode": {
        "name": "ipython",
        "version": 3
      },
      "file_extension": ".py",
      "mimetype": "text/x-python",
      "name": "python",
      "nbconvert_exporter": "python",
      "pygments_lexer": "ipython3",
      "version": "3.7.6"
    }
  },
  "cells": [
    {
      "cell_type": "markdown",
      "metadata": {
        "id": "view-in-github",
        "colab_type": "text"
      },
      "source": [
        "<a href=\"https://colab.research.google.com/github/jpiche0720/DS-Unit-2-Linear-Models/blob/master/module1-regression-1/LS_DS_211_assignment.ipynb\" target=\"_parent\"><img src=\"https://colab.research.google.com/assets/colab-badge.svg\" alt=\"Open In Colab\"/></a>"
      ]
    },
    {
      "cell_type": "markdown",
      "metadata": {
        "colab_type": "text",
        "id": "Yq181LKfeR2n"
      },
      "source": [
        "Lambda School Data Science\n",
        "\n",
        "*Unit 2, Sprint 1, Module 1*\n",
        "\n",
        "---"
      ]
    },
    {
      "cell_type": "markdown",
      "metadata": {
        "colab_type": "text",
        "id": "7IXUfiQ2UKj6"
      },
      "source": [
        "# Regression 1\n",
        "\n",
        "## Assignment\n",
        "\n",
        "You'll use another **New York City** real estate dataset. \n",
        "\n",
        "But now you'll **predict how much it costs to rent an apartment**, instead of how much it costs to buy a condo.\n",
        "\n",
        "The data comes from renthop.com, an apartment listing website.\n",
        "\n",
        "- [X] Look at the data. Choose a feature, and plot its relationship with the target.\n",
        "- [X] Use scikit-learn for linear regression with one feature. You can follow the [5-step process from Jake VanderPlas](https://jakevdp.github.io/PythonDataScienceHandbook/05.02-introducing-scikit-learn.html#Basics-of-the-API).\n",
        "- [X] Define a function to make new predictions and explain the model coefficient.\n",
        "- [X] Organize and comment your code.\n",
        "\n",
        "> [Do Not Copy-Paste.](https://docs.google.com/document/d/1ubOw9B3Hfip27hF2ZFnW3a3z9xAgrUDRReOEo-FHCVs/edit) You must type each of these exercises in, manually. If you copy and paste, you might as well not even do them. The point of these exercises is to train your hands, your brain, and your mind in how to read, write, and see code. If you copy-paste, you are cheating yourself out of the effectiveness of the lessons.\n",
        "\n",
        "If your **Plotly** visualizations aren't working:\n",
        "- You must have JavaScript enabled in your browser\n",
        "- You probably want to use Chrome or Firefox\n",
        "- You may need to turn off ad blockers\n",
        "- [If you're using Jupyter Lab locally, you need to install some \"extensions\"](https://plot.ly/python/getting-started/#jupyterlab-support-python-35)\n",
        "\n",
        "## Stretch Goals\n",
        "- [ ] Do linear regression with two or more features.\n",
        "- [ ] Read [The Discovery of Statistical Regression](https://priceonomics.com/the-discovery-of-statistical-regression/)\n",
        "- [ ] Read [_An Introduction to Statistical Learning_](http://faculty.marshall.usc.edu/gareth-james/ISL/ISLR%20Seventh%20Printing.pdf), Chapter 2.1: What Is Statistical Learning?"
      ]
    },
    {
      "cell_type": "code",
      "metadata": {
        "colab_type": "code",
        "id": "o9eSnDYhUGD7",
        "colab": {}
      },
      "source": [
        "import sys\n",
        "\n",
        "# If you're on Colab:\n",
        "if 'google.colab' in sys.modules:\n",
        "    DATA_PATH = 'https://raw.githubusercontent.com/LambdaSchool/DS-Unit-2-Applied-Modeling/master/data/'\n",
        "\n",
        "# If you're working locally:\n",
        "else:\n",
        "    DATA_PATH = '../data/'\n",
        "    \n",
        "# Ignore this Numpy warning when using Plotly Express:\n",
        "# FutureWarning: Method .ptp is deprecated and will be removed in a future version. Use numpy.ptp instead.\n",
        "import warnings\n",
        "warnings.filterwarnings(action='ignore', category=FutureWarning, module='numpy')"
      ],
      "execution_count": 0,
      "outputs": []
    },
    {
      "cell_type": "code",
      "metadata": {
        "colab_type": "code",
        "id": "4S2wXSrFV_g4",
        "colab": {}
      },
      "source": [
        "# Read New York City apartment rental listing data\n",
        "import pandas as pd\n",
        "df = pd.read_csv(DATA_PATH+'apartments/renthop-nyc.csv')\n",
        "assert df.shape == (49352, 34)"
      ],
      "execution_count": 0,
      "outputs": []
    },
    {
      "cell_type": "code",
      "metadata": {
        "colab_type": "code",
        "id": "HZ2m0BQNeR29",
        "colab": {}
      },
      "source": [
        "# Remove outliers: \n",
        "# the most extreme 1% prices,\n",
        "# the most extreme .1% latitudes, &\n",
        "# the most extreme .1% longitudes\n",
        "df = df[(df['price'] >= 1375) & (df['price'] <= 15500) & \n",
        "        (df['latitude'] >=40.57) & (df['latitude'] < 40.99) &\n",
        "        (df['longitude'] >= -74.1) & (df['longitude'] <= -73.38)]"
      ],
      "execution_count": 0,
      "outputs": []
    },
    {
      "cell_type": "markdown",
      "metadata": {
        "colab_type": "text",
        "id": "ThVBRl4thGJ_"
      },
      "source": [
        "# LOOK AT THE DATA\n",
        "## Interesting Features:\n",
        "\n",
        "- interest_level \n",
        "- Bedrooms / Bathrooms (size of unit) \n",
        "- doorman (income for security personel)\n",
        "- new construction \n",
        "- lat and long\n",
        "- description (maybe how many words are used in describing may be a way to capture how many features are in that listing)"
      ]
    },
    {
      "cell_type": "code",
      "metadata": {
        "colab_type": "code",
        "id": "G6JY77FwhKgn",
        "outputId": "7ee3d13d-af6d-4911-d0d2-0cd3036840d7",
        "colab": {
          "base_uri": "https://localhost:8080/",
          "height": 530
        }
      },
      "source": [
        "print(df.shape)\n",
        "df.head()"
      ],
      "execution_count": 0,
      "outputs": [
        {
          "output_type": "stream",
          "text": [
            "(48818, 34)\n"
          ],
          "name": "stdout"
        },
        {
          "output_type": "execute_result",
          "data": {
            "text/html": [
              "<div>\n",
              "<style scoped>\n",
              "    .dataframe tbody tr th:only-of-type {\n",
              "        vertical-align: middle;\n",
              "    }\n",
              "\n",
              "    .dataframe tbody tr th {\n",
              "        vertical-align: top;\n",
              "    }\n",
              "\n",
              "    .dataframe thead th {\n",
              "        text-align: right;\n",
              "    }\n",
              "</style>\n",
              "<table border=\"1\" class=\"dataframe\">\n",
              "  <thead>\n",
              "    <tr style=\"text-align: right;\">\n",
              "      <th></th>\n",
              "      <th>bathrooms</th>\n",
              "      <th>bedrooms</th>\n",
              "      <th>created</th>\n",
              "      <th>description</th>\n",
              "      <th>display_address</th>\n",
              "      <th>latitude</th>\n",
              "      <th>longitude</th>\n",
              "      <th>price</th>\n",
              "      <th>street_address</th>\n",
              "      <th>interest_level</th>\n",
              "      <th>...</th>\n",
              "      <th>high_speed_internet</th>\n",
              "      <th>balcony</th>\n",
              "      <th>swimming_pool</th>\n",
              "      <th>new_construction</th>\n",
              "      <th>terrace</th>\n",
              "      <th>exclusive</th>\n",
              "      <th>loft</th>\n",
              "      <th>garden_patio</th>\n",
              "      <th>wheelchair_access</th>\n",
              "      <th>common_outdoor_space</th>\n",
              "    </tr>\n",
              "  </thead>\n",
              "  <tbody>\n",
              "    <tr>\n",
              "      <th>0</th>\n",
              "      <td>1.5</td>\n",
              "      <td>3</td>\n",
              "      <td>2016-06-24 07:54:24</td>\n",
              "      <td>A Brand New 3 Bedroom 1.5 bath ApartmentEnjoy ...</td>\n",
              "      <td>Metropolitan Avenue</td>\n",
              "      <td>40.7145</td>\n",
              "      <td>-73.9425</td>\n",
              "      <td>3000</td>\n",
              "      <td>792 Metropolitan Avenue</td>\n",
              "      <td>medium</td>\n",
              "      <td>...</td>\n",
              "      <td>0</td>\n",
              "      <td>0</td>\n",
              "      <td>0</td>\n",
              "      <td>0</td>\n",
              "      <td>0</td>\n",
              "      <td>0</td>\n",
              "      <td>0</td>\n",
              "      <td>0</td>\n",
              "      <td>0</td>\n",
              "      <td>0</td>\n",
              "    </tr>\n",
              "    <tr>\n",
              "      <th>1</th>\n",
              "      <td>1.0</td>\n",
              "      <td>2</td>\n",
              "      <td>2016-06-12 12:19:27</td>\n",
              "      <td></td>\n",
              "      <td>Columbus Avenue</td>\n",
              "      <td>40.7947</td>\n",
              "      <td>-73.9667</td>\n",
              "      <td>5465</td>\n",
              "      <td>808 Columbus Avenue</td>\n",
              "      <td>low</td>\n",
              "      <td>...</td>\n",
              "      <td>0</td>\n",
              "      <td>0</td>\n",
              "      <td>0</td>\n",
              "      <td>0</td>\n",
              "      <td>0</td>\n",
              "      <td>0</td>\n",
              "      <td>0</td>\n",
              "      <td>0</td>\n",
              "      <td>0</td>\n",
              "      <td>0</td>\n",
              "    </tr>\n",
              "    <tr>\n",
              "      <th>2</th>\n",
              "      <td>1.0</td>\n",
              "      <td>1</td>\n",
              "      <td>2016-04-17 03:26:41</td>\n",
              "      <td>Top Top West Village location, beautiful Pre-w...</td>\n",
              "      <td>W 13 Street</td>\n",
              "      <td>40.7388</td>\n",
              "      <td>-74.0018</td>\n",
              "      <td>2850</td>\n",
              "      <td>241 W 13 Street</td>\n",
              "      <td>high</td>\n",
              "      <td>...</td>\n",
              "      <td>0</td>\n",
              "      <td>0</td>\n",
              "      <td>0</td>\n",
              "      <td>0</td>\n",
              "      <td>0</td>\n",
              "      <td>0</td>\n",
              "      <td>0</td>\n",
              "      <td>0</td>\n",
              "      <td>0</td>\n",
              "      <td>0</td>\n",
              "    </tr>\n",
              "    <tr>\n",
              "      <th>3</th>\n",
              "      <td>1.0</td>\n",
              "      <td>1</td>\n",
              "      <td>2016-04-18 02:22:02</td>\n",
              "      <td>Building Amenities - Garage - Garden - fitness...</td>\n",
              "      <td>East 49th Street</td>\n",
              "      <td>40.7539</td>\n",
              "      <td>-73.9677</td>\n",
              "      <td>3275</td>\n",
              "      <td>333 East 49th Street</td>\n",
              "      <td>low</td>\n",
              "      <td>...</td>\n",
              "      <td>0</td>\n",
              "      <td>0</td>\n",
              "      <td>0</td>\n",
              "      <td>0</td>\n",
              "      <td>0</td>\n",
              "      <td>0</td>\n",
              "      <td>0</td>\n",
              "      <td>0</td>\n",
              "      <td>0</td>\n",
              "      <td>0</td>\n",
              "    </tr>\n",
              "    <tr>\n",
              "      <th>4</th>\n",
              "      <td>1.0</td>\n",
              "      <td>4</td>\n",
              "      <td>2016-04-28 01:32:41</td>\n",
              "      <td>Beautifully renovated 3 bedroom flex 4 bedroom...</td>\n",
              "      <td>West 143rd Street</td>\n",
              "      <td>40.8241</td>\n",
              "      <td>-73.9493</td>\n",
              "      <td>3350</td>\n",
              "      <td>500 West 143rd Street</td>\n",
              "      <td>low</td>\n",
              "      <td>...</td>\n",
              "      <td>0</td>\n",
              "      <td>0</td>\n",
              "      <td>0</td>\n",
              "      <td>0</td>\n",
              "      <td>0</td>\n",
              "      <td>0</td>\n",
              "      <td>0</td>\n",
              "      <td>0</td>\n",
              "      <td>0</td>\n",
              "      <td>0</td>\n",
              "    </tr>\n",
              "  </tbody>\n",
              "</table>\n",
              "<p>5 rows × 34 columns</p>\n",
              "</div>"
            ],
            "text/plain": [
              "   bathrooms  bedrooms              created  \\\n",
              "0        1.5         3  2016-06-24 07:54:24   \n",
              "1        1.0         2  2016-06-12 12:19:27   \n",
              "2        1.0         1  2016-04-17 03:26:41   \n",
              "3        1.0         1  2016-04-18 02:22:02   \n",
              "4        1.0         4  2016-04-28 01:32:41   \n",
              "\n",
              "                                         description      display_address  \\\n",
              "0  A Brand New 3 Bedroom 1.5 bath ApartmentEnjoy ...  Metropolitan Avenue   \n",
              "1                                                         Columbus Avenue   \n",
              "2  Top Top West Village location, beautiful Pre-w...          W 13 Street   \n",
              "3  Building Amenities - Garage - Garden - fitness...     East 49th Street   \n",
              "4  Beautifully renovated 3 bedroom flex 4 bedroom...    West 143rd Street   \n",
              "\n",
              "   latitude  longitude  price           street_address interest_level  ...  \\\n",
              "0   40.7145   -73.9425   3000  792 Metropolitan Avenue         medium  ...   \n",
              "1   40.7947   -73.9667   5465      808 Columbus Avenue            low  ...   \n",
              "2   40.7388   -74.0018   2850          241 W 13 Street           high  ...   \n",
              "3   40.7539   -73.9677   3275     333 East 49th Street            low  ...   \n",
              "4   40.8241   -73.9493   3350    500 West 143rd Street            low  ...   \n",
              "\n",
              "   high_speed_internet  balcony  swimming_pool  new_construction  terrace  \\\n",
              "0                    0        0              0                 0        0   \n",
              "1                    0        0              0                 0        0   \n",
              "2                    0        0              0                 0        0   \n",
              "3                    0        0              0                 0        0   \n",
              "4                    0        0              0                 0        0   \n",
              "\n",
              "   exclusive  loft  garden_patio  wheelchair_access  common_outdoor_space  \n",
              "0          0     0             0                  0                     0  \n",
              "1          0     0             0                  0                     0  \n",
              "2          0     0             0                  0                     0  \n",
              "3          0     0             0                  0                     0  \n",
              "4          0     0             0                  0                     0  \n",
              "\n",
              "[5 rows x 34 columns]"
            ]
          },
          "metadata": {
            "tags": []
          },
          "execution_count": 4
        }
      ]
    },
    {
      "cell_type": "code",
      "metadata": {
        "colab_type": "code",
        "id": "GqtQyjA2hin6",
        "outputId": "f38b204b-5c52-4505-b059-8d5fa7cbcd94",
        "colab": {
          "base_uri": "https://localhost:8080/",
          "height": 170
        }
      },
      "source": [
        "df.describe()"
      ],
      "execution_count": 0,
      "outputs": [
        {
          "output_type": "execute_result",
          "data": {
            "text/html": [
              "<div>\n",
              "<style scoped>\n",
              "    .dataframe tbody tr th:only-of-type {\n",
              "        vertical-align: middle;\n",
              "    }\n",
              "\n",
              "    .dataframe tbody tr th {\n",
              "        vertical-align: top;\n",
              "    }\n",
              "\n",
              "    .dataframe thead th {\n",
              "        text-align: right;\n",
              "    }\n",
              "</style>\n",
              "<table border=\"1\" class=\"dataframe\">\n",
              "  <thead>\n",
              "    <tr style=\"text-align: right;\">\n",
              "      <th></th>\n",
              "      <th>bathrooms</th>\n",
              "      <th>bedrooms</th>\n",
              "      <th>latitude</th>\n",
              "      <th>longitude</th>\n",
              "      <th>price</th>\n",
              "      <th>elevator</th>\n",
              "      <th>cats_allowed</th>\n",
              "      <th>hardwood_floors</th>\n",
              "      <th>dogs_allowed</th>\n",
              "      <th>doorman</th>\n",
              "      <th>...</th>\n",
              "      <th>high_speed_internet</th>\n",
              "      <th>balcony</th>\n",
              "      <th>swimming_pool</th>\n",
              "      <th>new_construction</th>\n",
              "      <th>terrace</th>\n",
              "      <th>exclusive</th>\n",
              "      <th>loft</th>\n",
              "      <th>garden_patio</th>\n",
              "      <th>wheelchair_access</th>\n",
              "      <th>common_outdoor_space</th>\n",
              "    </tr>\n",
              "  </thead>\n",
              "  <tbody>\n",
              "    <tr>\n",
              "      <th>count</th>\n",
              "      <td>48818.000000</td>\n",
              "      <td>48818.000000</td>\n",
              "      <td>48818.000000</td>\n",
              "      <td>48818.000000</td>\n",
              "      <td>48818.000000</td>\n",
              "      <td>48818.000000</td>\n",
              "      <td>48818.000000</td>\n",
              "      <td>48818.000000</td>\n",
              "      <td>48818.000000</td>\n",
              "      <td>48818.000000</td>\n",
              "      <td>...</td>\n",
              "      <td>48818.000000</td>\n",
              "      <td>48818.000000</td>\n",
              "      <td>48818.000000</td>\n",
              "      <td>48818.000000</td>\n",
              "      <td>48818.000000</td>\n",
              "      <td>48818.000000</td>\n",
              "      <td>48818.000000</td>\n",
              "      <td>48818.00000</td>\n",
              "      <td>48818.000000</td>\n",
              "      <td>48818.000000</td>\n",
              "    </tr>\n",
              "    <tr>\n",
              "      <th>mean</th>\n",
              "      <td>1.201790</td>\n",
              "      <td>1.537158</td>\n",
              "      <td>40.750756</td>\n",
              "      <td>-73.972758</td>\n",
              "      <td>3579.560982</td>\n",
              "      <td>0.524827</td>\n",
              "      <td>0.478266</td>\n",
              "      <td>0.478266</td>\n",
              "      <td>0.447622</td>\n",
              "      <td>0.424843</td>\n",
              "      <td>...</td>\n",
              "      <td>0.087201</td>\n",
              "      <td>0.060469</td>\n",
              "      <td>0.055205</td>\n",
              "      <td>0.051907</td>\n",
              "      <td>0.046192</td>\n",
              "      <td>0.043304</td>\n",
              "      <td>0.042710</td>\n",
              "      <td>0.03933</td>\n",
              "      <td>0.027224</td>\n",
              "      <td>0.026240</td>\n",
              "    </tr>\n",
              "    <tr>\n",
              "      <th>std</th>\n",
              "      <td>0.470707</td>\n",
              "      <td>1.106078</td>\n",
              "      <td>0.038962</td>\n",
              "      <td>0.028887</td>\n",
              "      <td>1762.420875</td>\n",
              "      <td>0.499388</td>\n",
              "      <td>0.499533</td>\n",
              "      <td>0.499533</td>\n",
              "      <td>0.497254</td>\n",
              "      <td>0.494324</td>\n",
              "      <td>...</td>\n",
              "      <td>0.282133</td>\n",
              "      <td>0.238357</td>\n",
              "      <td>0.228382</td>\n",
              "      <td>0.221842</td>\n",
              "      <td>0.209903</td>\n",
              "      <td>0.203542</td>\n",
              "      <td>0.202204</td>\n",
              "      <td>0.19438</td>\n",
              "      <td>0.162736</td>\n",
              "      <td>0.159851</td>\n",
              "    </tr>\n",
              "    <tr>\n",
              "      <th>min</th>\n",
              "      <td>0.000000</td>\n",
              "      <td>0.000000</td>\n",
              "      <td>40.571200</td>\n",
              "      <td>-74.087300</td>\n",
              "      <td>1375.000000</td>\n",
              "      <td>0.000000</td>\n",
              "      <td>0.000000</td>\n",
              "      <td>0.000000</td>\n",
              "      <td>0.000000</td>\n",
              "      <td>0.000000</td>\n",
              "      <td>...</td>\n",
              "      <td>0.000000</td>\n",
              "      <td>0.000000</td>\n",
              "      <td>0.000000</td>\n",
              "      <td>0.000000</td>\n",
              "      <td>0.000000</td>\n",
              "      <td>0.000000</td>\n",
              "      <td>0.000000</td>\n",
              "      <td>0.00000</td>\n",
              "      <td>0.000000</td>\n",
              "      <td>0.000000</td>\n",
              "    </tr>\n",
              "    <tr>\n",
              "      <th>25%</th>\n",
              "      <td>1.000000</td>\n",
              "      <td>1.000000</td>\n",
              "      <td>40.728300</td>\n",
              "      <td>-73.991800</td>\n",
              "      <td>2500.000000</td>\n",
              "      <td>0.000000</td>\n",
              "      <td>0.000000</td>\n",
              "      <td>0.000000</td>\n",
              "      <td>0.000000</td>\n",
              "      <td>0.000000</td>\n",
              "      <td>...</td>\n",
              "      <td>0.000000</td>\n",
              "      <td>0.000000</td>\n",
              "      <td>0.000000</td>\n",
              "      <td>0.000000</td>\n",
              "      <td>0.000000</td>\n",
              "      <td>0.000000</td>\n",
              "      <td>0.000000</td>\n",
              "      <td>0.00000</td>\n",
              "      <td>0.000000</td>\n",
              "      <td>0.000000</td>\n",
              "    </tr>\n",
              "    <tr>\n",
              "      <th>50%</th>\n",
              "      <td>1.000000</td>\n",
              "      <td>1.000000</td>\n",
              "      <td>40.751700</td>\n",
              "      <td>-73.978000</td>\n",
              "      <td>3150.000000</td>\n",
              "      <td>1.000000</td>\n",
              "      <td>0.000000</td>\n",
              "      <td>0.000000</td>\n",
              "      <td>0.000000</td>\n",
              "      <td>0.000000</td>\n",
              "      <td>...</td>\n",
              "      <td>0.000000</td>\n",
              "      <td>0.000000</td>\n",
              "      <td>0.000000</td>\n",
              "      <td>0.000000</td>\n",
              "      <td>0.000000</td>\n",
              "      <td>0.000000</td>\n",
              "      <td>0.000000</td>\n",
              "      <td>0.00000</td>\n",
              "      <td>0.000000</td>\n",
              "      <td>0.000000</td>\n",
              "    </tr>\n",
              "    <tr>\n",
              "      <th>75%</th>\n",
              "      <td>1.000000</td>\n",
              "      <td>2.000000</td>\n",
              "      <td>40.774000</td>\n",
              "      <td>-73.955000</td>\n",
              "      <td>4095.000000</td>\n",
              "      <td>1.000000</td>\n",
              "      <td>1.000000</td>\n",
              "      <td>1.000000</td>\n",
              "      <td>1.000000</td>\n",
              "      <td>1.000000</td>\n",
              "      <td>...</td>\n",
              "      <td>0.000000</td>\n",
              "      <td>0.000000</td>\n",
              "      <td>0.000000</td>\n",
              "      <td>0.000000</td>\n",
              "      <td>0.000000</td>\n",
              "      <td>0.000000</td>\n",
              "      <td>0.000000</td>\n",
              "      <td>0.00000</td>\n",
              "      <td>0.000000</td>\n",
              "      <td>0.000000</td>\n",
              "    </tr>\n",
              "    <tr>\n",
              "      <th>max</th>\n",
              "      <td>10.000000</td>\n",
              "      <td>8.000000</td>\n",
              "      <td>40.989400</td>\n",
              "      <td>-73.700100</td>\n",
              "      <td>15500.000000</td>\n",
              "      <td>1.000000</td>\n",
              "      <td>1.000000</td>\n",
              "      <td>1.000000</td>\n",
              "      <td>1.000000</td>\n",
              "      <td>1.000000</td>\n",
              "      <td>...</td>\n",
              "      <td>1.000000</td>\n",
              "      <td>1.000000</td>\n",
              "      <td>1.000000</td>\n",
              "      <td>1.000000</td>\n",
              "      <td>1.000000</td>\n",
              "      <td>1.000000</td>\n",
              "      <td>1.000000</td>\n",
              "      <td>1.00000</td>\n",
              "      <td>1.000000</td>\n",
              "      <td>1.000000</td>\n",
              "    </tr>\n",
              "  </tbody>\n",
              "</table>\n",
              "<p>8 rows × 29 columns</p>\n",
              "</div>"
            ],
            "text/plain": [
              "          bathrooms      bedrooms      latitude     longitude         price  \\\n",
              "count  48818.000000  48818.000000  48818.000000  48818.000000  48818.000000   \n",
              "mean       1.201790      1.537158     40.750756    -73.972758   3579.560982   \n",
              "std        0.470707      1.106078      0.038962      0.028887   1762.420875   \n",
              "min        0.000000      0.000000     40.571200    -74.087300   1375.000000   \n",
              "25%        1.000000      1.000000     40.728300    -73.991800   2500.000000   \n",
              "50%        1.000000      1.000000     40.751700    -73.978000   3150.000000   \n",
              "75%        1.000000      2.000000     40.774000    -73.955000   4095.000000   \n",
              "max       10.000000      8.000000     40.989400    -73.700100  15500.000000   \n",
              "\n",
              "           elevator  cats_allowed  hardwood_floors  dogs_allowed  \\\n",
              "count  48818.000000  48818.000000     48818.000000  48818.000000   \n",
              "mean       0.524827      0.478266         0.478266      0.447622   \n",
              "std        0.499388      0.499533         0.499533      0.497254   \n",
              "min        0.000000      0.000000         0.000000      0.000000   \n",
              "25%        0.000000      0.000000         0.000000      0.000000   \n",
              "50%        1.000000      0.000000         0.000000      0.000000   \n",
              "75%        1.000000      1.000000         1.000000      1.000000   \n",
              "max        1.000000      1.000000         1.000000      1.000000   \n",
              "\n",
              "            doorman  ...  high_speed_internet       balcony  swimming_pool  \\\n",
              "count  48818.000000  ...         48818.000000  48818.000000   48818.000000   \n",
              "mean       0.424843  ...             0.087201      0.060469       0.055205   \n",
              "std        0.494324  ...             0.282133      0.238357       0.228382   \n",
              "min        0.000000  ...             0.000000      0.000000       0.000000   \n",
              "25%        0.000000  ...             0.000000      0.000000       0.000000   \n",
              "50%        0.000000  ...             0.000000      0.000000       0.000000   \n",
              "75%        1.000000  ...             0.000000      0.000000       0.000000   \n",
              "max        1.000000  ...             1.000000      1.000000       1.000000   \n",
              "\n",
              "       new_construction       terrace     exclusive          loft  \\\n",
              "count      48818.000000  48818.000000  48818.000000  48818.000000   \n",
              "mean           0.051907      0.046192      0.043304      0.042710   \n",
              "std            0.221842      0.209903      0.203542      0.202204   \n",
              "min            0.000000      0.000000      0.000000      0.000000   \n",
              "25%            0.000000      0.000000      0.000000      0.000000   \n",
              "50%            0.000000      0.000000      0.000000      0.000000   \n",
              "75%            0.000000      0.000000      0.000000      0.000000   \n",
              "max            1.000000      1.000000      1.000000      1.000000   \n",
              "\n",
              "       garden_patio  wheelchair_access  common_outdoor_space  \n",
              "count   48818.00000       48818.000000          48818.000000  \n",
              "mean        0.03933           0.027224              0.026240  \n",
              "std         0.19438           0.162736              0.159851  \n",
              "min         0.00000           0.000000              0.000000  \n",
              "25%         0.00000           0.000000              0.000000  \n",
              "50%         0.00000           0.000000              0.000000  \n",
              "75%         0.00000           0.000000              0.000000  \n",
              "max         1.00000           1.000000              1.000000  \n",
              "\n",
              "[8 rows x 29 columns]"
            ]
          },
          "metadata": {
            "tags": []
          },
          "execution_count": 5
        }
      ]
    },
    {
      "cell_type": "code",
      "metadata": {
        "colab_type": "code",
        "id": "o0ecv4uLh0RG",
        "outputId": "8f58281e-7623-4c36-c513-8e33b84a1ec7",
        "colab": {
          "base_uri": "https://localhost:8080/",
          "height": 221
        }
      },
      "source": [
        "df['price'].value_counts()\n"
      ],
      "execution_count": 0,
      "outputs": [
        {
          "output_type": "execute_result",
          "data": {
            "text/plain": [
              "2500     1106\n",
              "3200      879\n",
              "3000      837\n",
              "2700      776\n",
              "2400      772\n",
              "         ... \n",
              "6939        1\n",
              "4858        1\n",
              "10095       1\n",
              "6811        1\n",
              "12630       1\n",
              "Name: price, Length: 2685, dtype: int64"
            ]
          },
          "metadata": {
            "tags": []
          },
          "execution_count": 6
        }
      ]
    },
    {
      "cell_type": "markdown",
      "metadata": {
        "id": "7wr7TgRH2OsF",
        "colab_type": "text"
      },
      "source": [
        "# Baseline Model"
      ]
    },
    {
      "cell_type": "code",
      "metadata": {
        "id": "5SaDg_jw2OsG",
        "colab_type": "code",
        "colab": {}
      },
      "source": [
        "mean = df['price'].mean()"
      ],
      "execution_count": 0,
      "outputs": []
    },
    {
      "cell_type": "code",
      "metadata": {
        "id": "hqmLhv9m2OsJ",
        "colab_type": "code",
        "colab": {}
      },
      "source": [
        "errors = df['price']-mean"
      ],
      "execution_count": 0,
      "outputs": []
    },
    {
      "cell_type": "code",
      "metadata": {
        "id": "ccjQww8L2OsM",
        "colab_type": "code",
        "colab": {},
        "outputId": "b787939c-32f1-4777-c5a5-21ba6cdd8dd2"
      },
      "source": [
        "errors.abs().mean()"
      ],
      "execution_count": 0,
      "outputs": [
        {
          "output_type": "execute_result",
          "data": {
            "text/plain": [
              "1201.5251847945751"
            ]
          },
          "metadata": {
            "tags": []
          },
          "execution_count": 9
        }
      ]
    },
    {
      "cell_type": "markdown",
      "metadata": {
        "colab_type": "text",
        "id": "ZbiYisurWLCQ"
      },
      "source": [
        "# Use scikit-learn for linear regression with one feature.\n",
        "\n",
        "## Fit model\n",
        "- sklearn.linear_model.LinearRegressison\n",
        "\n",
        "## Evaluation Metric\n",
        "- sklearn.metrics.mean_absolute_error\n",
        "\n",
        "## Plot Trendline\n",
        "- matplotlib.pyplot\n",
        "- seaborn"
      ]
    },
    {
      "cell_type": "code",
      "metadata": {
        "id": "NqHZbWMZ2OsV",
        "colab_type": "code",
        "colab": {}
      },
      "source": [
        "from sklearn.model_selection import train_test_split\n",
        "from sklearn.linear_model import LinearRegression\n",
        "from sklearn.metrics import mean_absolute_error\n",
        "\n",
        "import matplotlib.patches as mpatches\n",
        "import matplotlib.pyplot as plt\n",
        "import seaborn as sns\n",
        "import plotly.express as px\n",
        "import plotly.graph_objects as go"
      ],
      "execution_count": 0,
      "outputs": []
    },
    {
      "cell_type": "code",
      "metadata": {
        "id": "7RVlLe3t2OsX",
        "colab_type": "code",
        "colab": {}
      },
      "source": [
        "train, test = train_test_split(df,test_size=0.2)"
      ],
      "execution_count": 0,
      "outputs": []
    },
    {
      "cell_type": "code",
      "metadata": {
        "id": "Elan7k6_2OsZ",
        "colab_type": "code",
        "colab": {}
      },
      "source": [
        "features = ['bedrooms']\n",
        "target = 'price'\n",
        "X_train = train[features]\n",
        "y_train = train[target]\n",
        "X_test = test[features]\n",
        "y_true = test[target]\n"
      ],
      "execution_count": 0,
      "outputs": []
    },
    {
      "cell_type": "code",
      "metadata": {
        "id": "G9n1Td-C2Osa",
        "colab_type": "code",
        "colab": {},
        "outputId": "97b3ecd9-a876-417f-82f6-7f07b5880e69"
      },
      "source": [
        "#Fit Model\n",
        "model = LinearRegression()\n",
        "model.fit(X_train,y_train)\n",
        "y_pred = model.predict(X_test)\n",
        "\n",
        "# Evaluate model \n",
        "coef = model.coef_[0]\n",
        "intercept = model.intercept_\n",
        "\n",
        "\n",
        "mae = mean_absolute_error(y_true,y_pred)\n",
        "\n",
        "# Explain models accuracy and coef\n",
        "print(f'The mean absolute error of our models predictions is ${mae:,.02f}')\n",
        "print(f'The Coefficient for the bedroom feature is ${coef:,.02f}')\n",
        "print(f'The intercept for the model is ${intercept:,.02f}')\n",
        "\n",
        "\n",
        "# Plot Trendline\n",
        "sns.set_style('darkgrid')\n",
        "plt.rcParams['axes.labelsize']=17\n",
        "fig = sns.lmplot('bedrooms','price',train,height=10)\n",
        "plt.scatter(X_test,y_true,c='r')\n",
        "plt.title('Price of Rent VS Number of Bedrooms',fontsize=20)\n",
        "\n",
        "\n",
        "blue_patch = mpatches.Patch(color='blue', label='TRAIN')\n",
        "red_patch = mpatches.Patch(color='red', label='TEST')\n",
        "plt.legend(handles=[blue_patch,red_patch])\n",
        "\n",
        "plt.legend(handles=[blue_patch,red_patch])\n",
        "\n",
        "plt.show()\n",
        "\n"
      ],
      "execution_count": 0,
      "outputs": [
        {
          "output_type": "stream",
          "text": [
            "The mean absolute error of our models predictions is $979.62\n",
            "The Coefficient for the bedroom feature is $852.87\n",
            "The intercept for the model is $2,269.49\n"
          ],
          "name": "stdout"
        },
        {
          "output_type": "display_data",
          "data": {
            "image/png": "[encoded data removed]",
            "text/plain": [
              "<Figure size 720x720 with 1 Axes>"
            ]
          },
          "metadata": {
            "tags": []
          }
        }
      ]
    },
    {
      "cell_type": "markdown",
      "metadata": {
        "colab_type": "text",
        "id": "BAj0haqxjoq2"
      },
      "source": [
        "# With two new feature against the target\n",
        "\n",
        "\n",
        "## Features \n",
        "- Bedrooms + Bathrooms + dining room = Rooms\n",
        "- Desription length = short,medium,long = 1,2,3\n",
        "\n",
        "## Target = Price\n",
        "\n",
        "### Use plotly to visualize our single feature against our target \n",
        "\n"
      ]
    },
    {
      "cell_type": "code",
      "metadata": {
        "colab_type": "code",
        "id": "siSovskXku25",
        "colab": {}
      },
      "source": [
        "# Feature Engineer Rooms\n",
        "\n",
        "df['rooms'] = df['bathrooms']+df['bedrooms']+df['dining_room']\n",
        "\n",
        "\n",
        "# Feature Engineer Description Length\n",
        "def string_length(str):\n",
        "  return len(str)\n",
        "\n",
        "df['description']= df['description'].astype(str)\n",
        "df['description_length'] = df['description'].apply(string_length)\n",
        "df['description_length'] = pd.cut(df['description_length'],5,labels=[0,1,2,3,4]).astype(int)\n"
      ],
      "execution_count": 0,
      "outputs": []
    },
    {
      "cell_type": "code",
      "metadata": {
        "id": "jtppRNE22Osg",
        "colab_type": "code",
        "colab": {}
      },
      "source": [
        "train, test = train_test_split(df,test_size=.2)"
      ],
      "execution_count": 0,
      "outputs": []
    },
    {
      "cell_type": "code",
      "metadata": {
        "colab_type": "code",
        "id": "NNTiFD6plps1",
        "colab": {}
      },
      "source": [
        "features = ['rooms','description_length']\n",
        "target = 'price'\n",
        "\n",
        "X_train = train[features]\n",
        "y_train = train[target]\n",
        "X_test = test[features]\n",
        "y_true = test[target]"
      ],
      "execution_count": 0,
      "outputs": []
    },
    {
      "cell_type": "code",
      "metadata": {
        "colab_type": "code",
        "id": "siUb4YuGoz2u",
        "colab": {},
        "outputId": "dee45b15-32be-41a2-8ad5-5caa50698fe6"
      },
      "source": [
        "model = LinearRegression()\n",
        "model.fit(X_train,y_train)\n",
        "y_pred = model.predict(X_test)\n",
        "\n",
        "# Evaluate model \n",
        "X1 = model.coef_[0]\n",
        "X2 = model.coef_[1]\n",
        "intercept = model.intercept_\n",
        "\n",
        "\n",
        "mae = mean_absolute_error(y_true,y_pred)\n",
        "\n",
        "# Explain models accuracy and coef\n",
        "print(f'The mean absolute error of our models predictions is ${mae:,.02f}')\n",
        "print(f'The Coefficient for the room feature is ${X1:,.02f}')\n",
        "print(f'The Coefficient for the description feature is ${X2:,.02f}')\n",
        "print(f'The intercept for the model is ${intercept:,.02f}')\n"
      ],
      "execution_count": 0,
      "outputs": [
        {
          "output_type": "stream",
          "text": [
            "The mean absolute error of our models predictions is $911.08\n",
            "The Coefficient for the room feature is $763.03\n",
            "The Coefficient for the description feature is $262.58\n",
            "The intercept for the model is $1,365.97\n"
          ],
          "name": "stdout"
        }
      ]
    },
    {
      "cell_type": "code",
      "metadata": {
        "colab_type": "code",
        "id": "WXZTgfvirgNh",
        "colab": {},
        "outputId": "8b310f4b-a023-4780-c11b-197e1c0d4504"
      },
      "source": [
        "X_test= [[3,3]]\n",
        "model.predict(X_test)"
      ],
      "execution_count": 0,
      "outputs": [
        {
          "output_type": "execute_result",
          "data": {
            "text/plain": [
              "array([4442.78357377])"
            ]
          },
          "metadata": {
            "tags": []
          },
          "execution_count": 18
        }
      ]
    },
    {
      "cell_type": "markdown",
      "metadata": {
        "colab_type": "text",
        "id": "VboYCoU4rES0"
      },
      "source": [
        "# DEFINE A FUNCTION \n",
        "\n",
        "- Make new predictions\n",
        "- explain the model coefficient "
      ]
    },
    {
      "cell_type": "code",
      "metadata": {
        "colab_type": "code",
        "id": "8zYchhA8rQu4",
        "colab": {}
      },
      "source": [
        "\n",
        "def apartment_price(room_number,description_length):\n",
        "    '''X1= Number of Beds and Baths ; X2= length of description (1-5)'''\n",
        "    \n",
        "    train, test = train_test_split(df,test_size=.2)\n",
        "    # Set up data\n",
        "    features = ['rooms','description_length']\n",
        "    target = 'price'\n",
        "    X_train = train[features]\n",
        "    y_train = train[target]\n",
        "    X_test = test[features]\n",
        "    y_true = test[target]\n",
        "    \n",
        "    # Fit Linear Regression\n",
        "    model = LinearRegression()\n",
        "    model.fit(X_train, y_train)\n",
        "    y_pred = model.predict(X_test)\n",
        "    # Evaluate model \n",
        "    X1 = model.coef_[0]\n",
        "    X2 = model.coef_[1]\n",
        "    intercept = model.intercept_\n",
        "    mae = mean_absolute_error(y_true,y_pred)\n",
        "    \n",
        "    # Explain models accuracy and coef\n",
        "    print(f'The mean absolute error of our models predictions is ${mae:,.02f}')\n",
        "    print(f'The Coefficient for the room feature is ${X1:,.02f}')\n",
        "    print(f'The Coefficient for the description feature is ${X2:,.02f}')\n",
        "    print(f'The intercept for the model is ${intercept:,.02f}','\\n')\n",
        "    # Predict\n",
        "    prediction = [[room_number,description_length]]\n",
        "    pred = model.predict(prediction)\n",
        "    print(f'We predict that a {description_length} apartment listing with {room_number} rooms will cost')\n",
        "    print(f'approximately {pred[0]:,.2f} with a mean absolute error of {mae:,.2f}')\n",
        "    return "
      ],
      "execution_count": 0,
      "outputs": []
    },
    {
      "cell_type": "code",
      "metadata": {
        "colab_type": "code",
        "id": "ynzjw4IP8m9H",
        "outputId": "8619073e-2023-43a6-bd76-9a12516e9ad0",
        "colab": {
          "base_uri": "https://localhost:8080/",
          "height": 68
        }
      },
      "source": [
        "apartment_price(1,2)"
      ],
      "execution_count": 0,
      "outputs": [
        {
          "output_type": "stream",
          "text": [
            "The mean absolute error of our models predictions is $893.92\n",
            "The Coefficient for the room feature is $755.40\n",
            "The Coefficient for the description feature is $253.80\n",
            "The intercept for the model is $1,381.19 \n",
            "\n",
            "We predict that a 2 apartment listing with 1 rooms will cost\n",
            "approximately 2,644.18 with a mean absolute error of 893.92\n"
          ],
          "name": "stdout"
        }
      ]
    },
    {
      "cell_type": "code",
      "metadata": {
        "colab_type": "code",
        "id": "vNJQTvr4GZsw",
        "scrolled": true,
        "colab": {},
        "outputId": "c79f1555-c7ac-48cc-fcac-9786ce1183de"
      },
      "source": [
        "apartment_price(5,5)"
      ],
      "execution_count": 0,
      "outputs": [
        {
          "output_type": "stream",
          "text": [
            "The mean absolute error of our models predictions is $916.77\n",
            "The Coefficient for the room feature is $756.69\n",
            "The Coefficient for the description feature is $277.66\n",
            "The intercept for the model is $1,373.63 \n",
            "\n",
            "We predict that a 5 apartment listing with 5 rooms will cost\n",
            "approximately 6,545.37 with a mean absolute error of 916.77\n"
          ],
          "name": "stdout"
        }
      ]
    },
    {
      "cell_type": "code",
      "metadata": {
        "id": "2oDi0vY22Osv",
        "colab_type": "code",
        "colab": {}
      },
      "source": [
        ""
      ],
      "execution_count": 0,
      "outputs": []
    },
    {
      "cell_type": "code",
      "metadata": {
        "id": "gfGFOtf62Osx",
        "colab_type": "code",
        "colab": {}
      },
      "source": [
        ""
      ],
      "execution_count": 0,
      "outputs": []
    }
  ]
}