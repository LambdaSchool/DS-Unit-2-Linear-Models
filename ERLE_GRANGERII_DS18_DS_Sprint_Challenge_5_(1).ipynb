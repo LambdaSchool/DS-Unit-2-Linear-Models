{
  "nbformat": 4,
  "nbformat_minor": 0,
  "metadata": {
    "colab": {
      "name": "ERLE_GRANGERII_DS18_DS_Sprint_Challenge_5 (1).ipynb",
      "provenance": [],
      "collapsed_sections": [],
      "include_colab_link": true
    },
    "kernelspec": {
      "display_name": "Python 3",
      "language": "python",
      "name": "python3"
    },
    "language_info": {
      "codemirror_mode": {
        "name": "ipython",
        "version": 3
      },
      "file_extension": ".py",
      "mimetype": "text/x-python",
      "name": "python",
      "nbconvert_exporter": "python",
      "pygments_lexer": "ipython3",
      "version": "3.7.3"
    }
  },
  "cells": [
    {
      "cell_type": "markdown",
      "metadata": {
        "id": "view-in-github",
        "colab_type": "text"
      },
      "source": [
        "<a href=\"https://colab.research.google.com/github/ilEnzio/DS-Unit-2-Linear-Models/blob/master/ERLE_GRANGERII_DS18_DS_Sprint_Challenge_5_(1).ipynb\" target=\"_parent\"><img src=\"https://colab.research.google.com/assets/colab-badge.svg\" alt=\"Open In Colab\"/></a>"
      ]
    },
    {
      "cell_type": "markdown",
      "metadata": {
        "colab_type": "text",
        "id": "VZf2akBaMjq8"
      },
      "source": [
        "_Lambda School Data Science, Unit 2_\n",
        " \n",
        "# Linear Models Sprint Challenge\n",
        "\n",
        "To demonstrate mastery on your Sprint Challenge, do all the required, numbered instructions in this notebook.\n",
        "\n",
        "To earn a score of \"3\", also do all the stretch goals.\n",
        "\n",
        "You are permitted and encouraged to do as much data exploration as you want."
      ]
    },
    {
      "cell_type": "markdown",
      "metadata": {
        "colab_type": "text",
        "id": "20OITf58NLQh"
      },
      "source": [
        "### Part 1, Classification\n",
        "- 1.1. Do train/test split. Arrange data into X features matrix and y target vector\n",
        "- 1.2. Use scikit-learn to fit a logistic regression model\n",
        "- 1.3. Report classification metric: accuracy\n",
        "\n",
        "### Part 2, Regression\n",
        "- 2.1. Begin with baselines for regression\n",
        "- 2.2. Do train/validate/test split\n",
        "- 2.3. Arrange data into X features matrix and y target vector\n",
        "- 2.4. Do one-hot encoding\n",
        "- 2.5. Use scikit-learn to fit a linear regression or ridge regression model\n",
        "- 2.6. Report validation MAE and $R^2$\n",
        "\n",
        "### Stretch Goals, Regression\n",
        "- Make at least 2 visualizations to explore relationships between features and target. You may use any visualization library\n",
        "- Try at least 3 feature combinations. You may select features manually, or automatically\n",
        "- Report validation MAE and $R^2$ for each feature combination you try\n",
        "- Report test MAE and $R^2$ for your final model\n",
        "- Print or plot the coefficients for the features in your model"
      ]
    },
    {
      "cell_type": "code",
      "metadata": {
        "colab_type": "code",
        "id": "BxoFSeX5OX5k",
        "colab": {
          "base_uri": "https://localhost:8080/",
          "height": 1000
        },
        "outputId": "b85b3548-db29-4704-b5c8-6b180d72bbcb"
      },
      "source": [
        "# If you're in Colab...\n",
        "import sys\n",
        "if 'google.colab' in sys.modules:\n",
        "    !pip install category_encoders==2.*\n",
        "    !pip install pandas-profiling==2.*\n",
        "    !pip install plotly==4.*"
      ],
      "execution_count": 546,
      "outputs": [
        {
          "output_type": "stream",
          "text": [
            "Requirement already satisfied: category_encoders==2.* in /usr/local/lib/python3.6/dist-packages (2.2.2)\n",
            "Requirement already satisfied: scikit-learn>=0.20.0 in /usr/local/lib/python3.6/dist-packages (from category_encoders==2.*) (0.22.2.post1)\n",
            "Requirement already satisfied: numpy>=1.14.0 in /usr/local/lib/python3.6/dist-packages (from category_encoders==2.*) (1.18.5)\n",
            "Requirement already satisfied: statsmodels>=0.9.0 in /usr/local/lib/python3.6/dist-packages (from category_encoders==2.*) (0.10.2)\n",
            "Requirement already satisfied: patsy>=0.5.1 in /usr/local/lib/python3.6/dist-packages (from category_encoders==2.*) (0.5.1)\n",
            "Requirement already satisfied: pandas>=0.21.1 in /usr/local/lib/python3.6/dist-packages (from category_encoders==2.*) (1.0.5)\n",
            "Requirement already satisfied: scipy>=1.0.0 in /usr/local/lib/python3.6/dist-packages (from category_encoders==2.*) (1.4.1)\n",
            "Requirement already satisfied: joblib>=0.11 in /usr/local/lib/python3.6/dist-packages (from scikit-learn>=0.20.0->category_encoders==2.*) (0.16.0)\n",
            "Requirement already satisfied: six in /usr/local/lib/python3.6/dist-packages (from patsy>=0.5.1->category_encoders==2.*) (1.15.0)\n",
            "Requirement already satisfied: python-dateutil>=2.6.1 in /usr/local/lib/python3.6/dist-packages (from pandas>=0.21.1->category_encoders==2.*) (2.8.1)\n",
            "Requirement already satisfied: pytz>=2017.2 in /usr/local/lib/python3.6/dist-packages (from pandas>=0.21.1->category_encoders==2.*) (2018.9)\n",
            "Requirement already satisfied: pandas-profiling==2.* in /usr/local/lib/python3.6/dist-packages (2.8.0)\n",
            "Requirement already satisfied: visions[type_image_path]==0.4.4 in /usr/local/lib/python3.6/dist-packages (from pandas-profiling==2.*) (0.4.4)\n",
            "Requirement already satisfied: joblib in /usr/local/lib/python3.6/dist-packages (from pandas-profiling==2.*) (0.16.0)\n",
            "Requirement already satisfied: ipywidgets>=7.5.1 in /usr/local/lib/python3.6/dist-packages (from pandas-profiling==2.*) (7.5.1)\n",
            "Requirement already satisfied: matplotlib>=3.2.0 in /usr/local/lib/python3.6/dist-packages (from pandas-profiling==2.*) (3.2.2)\n",
            "Requirement already satisfied: missingno>=0.4.2 in /usr/local/lib/python3.6/dist-packages (from pandas-profiling==2.*) (0.4.2)\n",
            "Requirement already satisfied: astropy>=4.0 in /usr/local/lib/python3.6/dist-packages (from pandas-profiling==2.*) (4.0.1.post1)\n",
            "Requirement already satisfied: requests>=2.23.0 in /usr/local/lib/python3.6/dist-packages (from pandas-profiling==2.*) (2.23.0)\n",
            "Requirement already satisfied: phik>=0.9.10 in /usr/local/lib/python3.6/dist-packages (from pandas-profiling==2.*) (0.10.0)\n",
            "Requirement already satisfied: tqdm>=4.43.0 in /usr/local/lib/python3.6/dist-packages (from pandas-profiling==2.*) (4.48.2)\n",
            "Requirement already satisfied: htmlmin>=0.1.12 in /usr/local/lib/python3.6/dist-packages (from pandas-profiling==2.*) (0.1.12)\n",
            "Requirement already satisfied: confuse>=1.0.0 in /usr/local/lib/python3.6/dist-packages (from pandas-profiling==2.*) (1.3.0)\n",
            "Requirement already satisfied: jinja2>=2.11.1 in /usr/local/lib/python3.6/dist-packages (from pandas-profiling==2.*) (2.11.2)\n",
            "Requirement already satisfied: scipy>=1.4.1 in /usr/local/lib/python3.6/dist-packages (from pandas-profiling==2.*) (1.4.1)\n",
            "Requirement already satisfied: numpy>=1.16.0 in /usr/local/lib/python3.6/dist-packages (from pandas-profiling==2.*) (1.18.5)\n",
            "Requirement already satisfied: tangled-up-in-unicode>=0.0.6 in /usr/local/lib/python3.6/dist-packages (from pandas-profiling==2.*) (0.0.6)\n",
            "Requirement already satisfied: pandas!=1.0.0,!=1.0.1,!=1.0.2,>=0.25.3 in /usr/local/lib/python3.6/dist-packages (from pandas-profiling==2.*) (1.0.5)\n",
            "Requirement already satisfied: attrs>=19.3.0 in /usr/local/lib/python3.6/dist-packages (from visions[type_image_path]==0.4.4->pandas-profiling==2.*) (19.3.0)\n",
            "Requirement already satisfied: networkx>=2.4 in /usr/local/lib/python3.6/dist-packages (from visions[type_image_path]==0.4.4->pandas-profiling==2.*) (2.4)\n",
            "Requirement already satisfied: Pillow; extra == \"type_image_path\" in /usr/local/lib/python3.6/dist-packages (from visions[type_image_path]==0.4.4->pandas-profiling==2.*) (7.0.0)\n",
            "Requirement already satisfied: imagehash; extra == \"type_image_path\" in /usr/local/lib/python3.6/dist-packages (from visions[type_image_path]==0.4.4->pandas-profiling==2.*) (4.1.0)\n",
            "Requirement already satisfied: nbformat>=4.2.0 in /usr/local/lib/python3.6/dist-packages (from ipywidgets>=7.5.1->pandas-profiling==2.*) (5.0.7)\n",
            "Requirement already satisfied: widgetsnbextension~=3.5.0 in /usr/local/lib/python3.6/dist-packages (from ipywidgets>=7.5.1->pandas-profiling==2.*) (3.5.1)\n",
            "Requirement already satisfied: ipython>=4.0.0; python_version >= \"3.3\" in /usr/local/lib/python3.6/dist-packages (from ipywidgets>=7.5.1->pandas-profiling==2.*) (5.5.0)\n",
            "Requirement already satisfied: ipykernel>=4.5.1 in /usr/local/lib/python3.6/dist-packages (from ipywidgets>=7.5.1->pandas-profiling==2.*) (4.10.1)\n",
            "Requirement already satisfied: traitlets>=4.3.1 in /usr/local/lib/python3.6/dist-packages (from ipywidgets>=7.5.1->pandas-profiling==2.*) (4.3.3)\n",
            "Requirement already satisfied: python-dateutil>=2.1 in /usr/local/lib/python3.6/dist-packages (from matplotlib>=3.2.0->pandas-profiling==2.*) (2.8.1)\n",
            "Requirement already satisfied: cycler>=0.10 in /usr/local/lib/python3.6/dist-packages (from matplotlib>=3.2.0->pandas-profiling==2.*) (0.10.0)\n",
            "Requirement already satisfied: kiwisolver>=1.0.1 in /usr/local/lib/python3.6/dist-packages (from matplotlib>=3.2.0->pandas-profiling==2.*) (1.2.0)\n",
            "Requirement already satisfied: pyparsing!=2.0.4,!=2.1.2,!=2.1.6,>=2.0.1 in /usr/local/lib/python3.6/dist-packages (from matplotlib>=3.2.0->pandas-profiling==2.*) (2.4.7)\n",
            "Requirement already satisfied: seaborn in /usr/local/lib/python3.6/dist-packages (from missingno>=0.4.2->pandas-profiling==2.*) (0.10.1)\n",
            "Requirement already satisfied: idna<3,>=2.5 in /usr/local/lib/python3.6/dist-packages (from requests>=2.23.0->pandas-profiling==2.*) (2.10)\n",
            "Requirement already satisfied: chardet<4,>=3.0.2 in /usr/local/lib/python3.6/dist-packages (from requests>=2.23.0->pandas-profiling==2.*) (3.0.4)\n",
            "Requirement already satisfied: urllib3!=1.25.0,!=1.25.1,<1.26,>=1.21.1 in /usr/local/lib/python3.6/dist-packages (from requests>=2.23.0->pandas-profiling==2.*) (1.24.3)\n",
            "Requirement already satisfied: certifi>=2017.4.17 in /usr/local/lib/python3.6/dist-packages (from requests>=2.23.0->pandas-profiling==2.*) (2020.6.20)\n",
            "Requirement already satisfied: numba>=0.38.1 in /usr/local/lib/python3.6/dist-packages (from phik>=0.9.10->pandas-profiling==2.*) (0.48.0)\n",
            "Requirement already satisfied: pyyaml in /usr/local/lib/python3.6/dist-packages (from confuse>=1.0.0->pandas-profiling==2.*) (3.13)\n",
            "Requirement already satisfied: MarkupSafe>=0.23 in /usr/local/lib/python3.6/dist-packages (from jinja2>=2.11.1->pandas-profiling==2.*) (1.1.1)\n",
            "Requirement already satisfied: pytz>=2017.2 in /usr/local/lib/python3.6/dist-packages (from pandas!=1.0.0,!=1.0.1,!=1.0.2,>=0.25.3->pandas-profiling==2.*) (2018.9)\n",
            "Requirement already satisfied: decorator>=4.3.0 in /usr/local/lib/python3.6/dist-packages (from networkx>=2.4->visions[type_image_path]==0.4.4->pandas-profiling==2.*) (4.4.2)\n",
            "Requirement already satisfied: six in /usr/local/lib/python3.6/dist-packages (from imagehash; extra == \"type_image_path\"->visions[type_image_path]==0.4.4->pandas-profiling==2.*) (1.15.0)\n",
            "Requirement already satisfied: PyWavelets in /usr/local/lib/python3.6/dist-packages (from imagehash; extra == \"type_image_path\"->visions[type_image_path]==0.4.4->pandas-profiling==2.*) (1.1.1)\n",
            "Requirement already satisfied: jupyter-core in /usr/local/lib/python3.6/dist-packages (from nbformat>=4.2.0->ipywidgets>=7.5.1->pandas-profiling==2.*) (4.6.3)\n",
            "Requirement already satisfied: jsonschema!=2.5.0,>=2.4 in /usr/local/lib/python3.6/dist-packages (from nbformat>=4.2.0->ipywidgets>=7.5.1->pandas-profiling==2.*) (2.6.0)\n",
            "Requirement already satisfied: ipython-genutils in /usr/local/lib/python3.6/dist-packages (from nbformat>=4.2.0->ipywidgets>=7.5.1->pandas-profiling==2.*) (0.2.0)\n",
            "Requirement already satisfied: notebook>=4.4.1 in /usr/local/lib/python3.6/dist-packages (from widgetsnbextension~=3.5.0->ipywidgets>=7.5.1->pandas-profiling==2.*) (5.3.1)\n",
            "Requirement already satisfied: prompt-toolkit<2.0.0,>=1.0.4 in /usr/local/lib/python3.6/dist-packages (from ipython>=4.0.0; python_version >= \"3.3\"->ipywidgets>=7.5.1->pandas-profiling==2.*) (1.0.18)\n",
            "Requirement already satisfied: pygments in /usr/local/lib/python3.6/dist-packages (from ipython>=4.0.0; python_version >= \"3.3\"->ipywidgets>=7.5.1->pandas-profiling==2.*) (2.1.3)\n",
            "Requirement already satisfied: setuptools>=18.5 in /usr/local/lib/python3.6/dist-packages (from ipython>=4.0.0; python_version >= \"3.3\"->ipywidgets>=7.5.1->pandas-profiling==2.*) (49.2.0)\n",
            "Requirement already satisfied: pexpect; sys_platform != \"win32\" in /usr/local/lib/python3.6/dist-packages (from ipython>=4.0.0; python_version >= \"3.3\"->ipywidgets>=7.5.1->pandas-profiling==2.*) (4.8.0)\n",
            "Requirement already satisfied: simplegeneric>0.8 in /usr/local/lib/python3.6/dist-packages (from ipython>=4.0.0; python_version >= \"3.3\"->ipywidgets>=7.5.1->pandas-profiling==2.*) (0.8.1)\n",
            "Requirement already satisfied: pickleshare in /usr/local/lib/python3.6/dist-packages (from ipython>=4.0.0; python_version >= \"3.3\"->ipywidgets>=7.5.1->pandas-profiling==2.*) (0.7.5)\n",
            "Requirement already satisfied: tornado>=4.0 in /usr/local/lib/python3.6/dist-packages (from ipykernel>=4.5.1->ipywidgets>=7.5.1->pandas-profiling==2.*) (5.1.1)\n",
            "Requirement already satisfied: jupyter-client in /usr/local/lib/python3.6/dist-packages (from ipykernel>=4.5.1->ipywidgets>=7.5.1->pandas-profiling==2.*) (5.3.5)\n",
            "Requirement already satisfied: llvmlite<0.32.0,>=0.31.0dev0 in /usr/local/lib/python3.6/dist-packages (from numba>=0.38.1->phik>=0.9.10->pandas-profiling==2.*) (0.31.0)\n",
            "Requirement already satisfied: terminado>=0.8.1 in /usr/local/lib/python3.6/dist-packages (from notebook>=4.4.1->widgetsnbextension~=3.5.0->ipywidgets>=7.5.1->pandas-profiling==2.*) (0.8.3)\n",
            "Requirement already satisfied: Send2Trash in /usr/local/lib/python3.6/dist-packages (from notebook>=4.4.1->widgetsnbextension~=3.5.0->ipywidgets>=7.5.1->pandas-profiling==2.*) (1.5.0)\n",
            "Requirement already satisfied: nbconvert in /usr/local/lib/python3.6/dist-packages (from notebook>=4.4.1->widgetsnbextension~=3.5.0->ipywidgets>=7.5.1->pandas-profiling==2.*) (5.6.1)\n",
            "Requirement already satisfied: wcwidth in /usr/local/lib/python3.6/dist-packages (from prompt-toolkit<2.0.0,>=1.0.4->ipython>=4.0.0; python_version >= \"3.3\"->ipywidgets>=7.5.1->pandas-profiling==2.*) (0.2.5)\n",
            "Requirement already satisfied: ptyprocess>=0.5 in /usr/local/lib/python3.6/dist-packages (from pexpect; sys_platform != \"win32\"->ipython>=4.0.0; python_version >= \"3.3\"->ipywidgets>=7.5.1->pandas-profiling==2.*) (0.6.0)\n",
            "Requirement already satisfied: pyzmq>=13 in /usr/local/lib/python3.6/dist-packages (from jupyter-client->ipykernel>=4.5.1->ipywidgets>=7.5.1->pandas-profiling==2.*) (19.0.2)\n",
            "Requirement already satisfied: bleach in /usr/local/lib/python3.6/dist-packages (from nbconvert->notebook>=4.4.1->widgetsnbextension~=3.5.0->ipywidgets>=7.5.1->pandas-profiling==2.*) (3.1.5)\n",
            "Requirement already satisfied: mistune<2,>=0.8.1 in /usr/local/lib/python3.6/dist-packages (from nbconvert->notebook>=4.4.1->widgetsnbextension~=3.5.0->ipywidgets>=7.5.1->pandas-profiling==2.*) (0.8.4)\n",
            "Requirement already satisfied: entrypoints>=0.2.2 in /usr/local/lib/python3.6/dist-packages (from nbconvert->notebook>=4.4.1->widgetsnbextension~=3.5.0->ipywidgets>=7.5.1->pandas-profiling==2.*) (0.3)\n",
            "Requirement already satisfied: defusedxml in /usr/local/lib/python3.6/dist-packages (from nbconvert->notebook>=4.4.1->widgetsnbextension~=3.5.0->ipywidgets>=7.5.1->pandas-profiling==2.*) (0.6.0)\n",
            "Requirement already satisfied: pandocfilters>=1.4.1 in /usr/local/lib/python3.6/dist-packages (from nbconvert->notebook>=4.4.1->widgetsnbextension~=3.5.0->ipywidgets>=7.5.1->pandas-profiling==2.*) (1.4.2)\n",
            "Requirement already satisfied: testpath in /usr/local/lib/python3.6/dist-packages (from nbconvert->notebook>=4.4.1->widgetsnbextension~=3.5.0->ipywidgets>=7.5.1->pandas-profiling==2.*) (0.4.4)\n",
            "Requirement already satisfied: webencodings in /usr/local/lib/python3.6/dist-packages (from bleach->nbconvert->notebook>=4.4.1->widgetsnbextension~=3.5.0->ipywidgets>=7.5.1->pandas-profiling==2.*) (0.5.1)\n",
            "Requirement already satisfied: packaging in /usr/local/lib/python3.6/dist-packages (from bleach->nbconvert->notebook>=4.4.1->widgetsnbextension~=3.5.0->ipywidgets>=7.5.1->pandas-profiling==2.*) (20.4)\n",
            "Requirement already satisfied: plotly==4.* in /usr/local/lib/python3.6/dist-packages (4.4.1)\n",
            "Requirement already satisfied: retrying>=1.3.3 in /usr/local/lib/python3.6/dist-packages (from plotly==4.*) (1.3.3)\n",
            "Requirement already satisfied: six in /usr/local/lib/python3.6/dist-packages (from plotly==4.*) (1.15.0)\n"
          ],
          "name": "stdout"
        }
      ]
    },
    {
      "cell_type": "code",
      "metadata": {
        "id": "cpIJVGsSeb_M",
        "colab_type": "code",
        "colab": {}
      },
      "source": [
        ""
      ],
      "execution_count": 546,
      "outputs": []
    },
    {
      "cell_type": "markdown",
      "metadata": {
        "colab_type": "text",
        "id": "Q7u1KtsnOi78"
      },
      "source": [
        "# Part 1, Classification: Predict Blood Donations 🚑\n",
        "Our dataset is from a mobile blood donation vehicle in Taiwan. The Blood Transfusion Service Center drives to different universities and collects blood as part of a blood drive.\n",
        "\n",
        "The goal is to predict whether the donor made a donation in March 2007, using information about each donor's history.\n",
        "\n",
        "Good data-driven systems for tracking and predicting donations and supply needs can improve the entire supply chain, making sure that more patients get the blood transfusions they need."
      ]
    },
    {
      "cell_type": "code",
      "metadata": {
        "colab_type": "code",
        "id": "gJzpgv-fO4rh",
        "colab": {}
      },
      "source": [
        "import pandas as pd\n",
        "\n",
        "donors = pd.read_csv('https://archive.ics.uci.edu/ml/machine-learning-databases/blood-transfusion/transfusion.data')\n",
        "assert donors.shape == (748,5)\n",
        "\n",
        "donors = donors.rename(columns={\n",
        "    'Recency (months)': 'months_since_last_donation', \n",
        "    'Frequency (times)': 'number_of_donations', \n",
        "    'Monetary (c.c. blood)': 'total_volume_donated', \n",
        "    'Time (months)': 'months_since_first_donation', \n",
        "    'whether he/she donated blood in March 2007': 'made_donation_in_march_2007'\n",
        "})"
      ],
      "execution_count": 547,
      "outputs": []
    },
    {
      "cell_type": "markdown",
      "metadata": {
        "colab_type": "text",
        "id": "oU4oE0LJMG7X"
      },
      "source": [
        "Notice that the majority class (did not donate blood in March 2007) occurs about 3/4 of the time. \n",
        "\n",
        "This is the accuracy score for the \"majority class baseline\" (the accuracy score we'd get by just guessing the majority class every time)."
      ]
    },
    {
      "cell_type": "code",
      "metadata": {
        "colab_type": "code",
        "id": "TgRp5slvLzJs",
        "colab": {
          "base_uri": "https://localhost:8080/",
          "height": 68
        },
        "outputId": "2b948dcb-e7e4-4e4d-ae92-53393dbd782d"
      },
      "source": [
        "donors['made_donation_in_march_2007'].value_counts(normalize=True)"
      ],
      "execution_count": 548,
      "outputs": [
        {
          "output_type": "execute_result",
          "data": {
            "text/plain": [
              "0    0.762032\n",
              "1    0.237968\n",
              "Name: made_donation_in_march_2007, dtype: float64"
            ]
          },
          "metadata": {
            "tags": []
          },
          "execution_count": 548
        }
      ]
    },
    {
      "cell_type": "markdown",
      "metadata": {
        "id": "CEsrfTvQex3q",
        "colab_type": "text"
      },
      "source": [
        "## Import Libraries and Modules"
      ]
    },
    {
      "cell_type": "code",
      "metadata": {
        "id": "Bq6gRFtqe1rI",
        "colab_type": "code",
        "colab": {}
      },
      "source": [
        "import matplotlib.pyplot as plt\n",
        "import numpy as np\n",
        "\n",
        "\n",
        "from sklearn.model_selection import train_test_split\n",
        "\n",
        "\n",
        "# special sauce for custom method :) \n",
        "from collections import namedtuple\n",
        "\n",
        "# ML models\n",
        "from sklearn.linear_model import LinearRegression # old reliable model, for continous\n",
        "from sklearn.linear_model import Ridge # RidgeRegression to guard against overfit\n",
        "from sklearn.linear_model import LogisticRegression # used to predict categorical vectors\n",
        "\n",
        "\n",
        "# Metric accessing functions\n",
        "from sklearn.metrics import mean_absolute_error, mean_squared_error, r2_score\n",
        "\n",
        "# Transformers\n",
        "from category_encoders import OneHotEncoder # splits cat variable \n",
        "import category_encoders as ce\n",
        "from sklearn.feature_selection import SelectKBest # selects highest correlating features\n",
        "from sklearn.impute import SimpleImputer\n",
        "\n",
        "# Lets us combine the steps for making a model\n",
        "from sklearn.pipeline import Pipeline"
      ],
      "execution_count": 549,
      "outputs": []
    },
    {
      "cell_type": "markdown",
      "metadata": {
        "id": "p3ydrtg0fiLG",
        "colab_type": "text"
      },
      "source": [
        "## Some EDA/Wrangle"
      ]
    },
    {
      "cell_type": "code",
      "metadata": {
        "id": "dyDE9Z36fpbo",
        "colab_type": "code",
        "colab": {
          "base_uri": "https://localhost:8080/",
          "height": 34
        },
        "outputId": "0e493fd4-d719-4d9e-ec1b-cef70b63d675"
      },
      "source": [
        "donors_df = donors.copy()\n",
        "donors_df.shape"
      ],
      "execution_count": 550,
      "outputs": [
        {
          "output_type": "execute_result",
          "data": {
            "text/plain": [
              "(748, 5)"
            ]
          },
          "metadata": {
            "tags": []
          },
          "execution_count": 550
        }
      ]
    },
    {
      "cell_type": "code",
      "metadata": {
        "id": "b3d-lmbPf0dx",
        "colab_type": "code",
        "colab": {}
      },
      "source": [
        "#lets write a function real quick to save time\n",
        "\n",
        "# need to set this to get the display to work\n",
        "pd.set_option('display.max_columns', None)\n",
        "\n",
        "def eda_stuff(df):\n",
        "  print('\\033[1m' \"Info:\" '\\033[0m')\n",
        "  print(df.info())\n",
        "  print()\n",
        "  print('\\033[1m' \"Head:\" '\\033[0m')\n",
        "  print(df.head(2))\n",
        "  print()\n",
        "  print('\\033[1m' \"Numeric Features:\" '\\033[0m')\n",
        "  print(df.describe())\n",
        "  print()\n",
        "  "
      ],
      "execution_count": 551,
      "outputs": []
    },
    {
      "cell_type": "code",
      "metadata": {
        "id": "wWGIlFQagIEq",
        "colab_type": "code",
        "colab": {
          "base_uri": "https://localhost:8080/",
          "height": 782
        },
        "outputId": "b5f38c6a-30b9-439c-8778-c3a322308398"
      },
      "source": [
        "eda_stuff(donors_df)"
      ],
      "execution_count": 552,
      "outputs": [
        {
          "output_type": "stream",
          "text": [
            "\u001b[1mInfo:\u001b[0m\n",
            "<class 'pandas.core.frame.DataFrame'>\n",
            "RangeIndex: 748 entries, 0 to 747\n",
            "Data columns (total 5 columns):\n",
            " #   Column                       Non-Null Count  Dtype\n",
            "---  ------                       --------------  -----\n",
            " 0   months_since_last_donation   748 non-null    int64\n",
            " 1   number_of_donations          748 non-null    int64\n",
            " 2   total_volume_donated         748 non-null    int64\n",
            " 3   months_since_first_donation  748 non-null    int64\n",
            " 4   made_donation_in_march_2007  748 non-null    int64\n",
            "dtypes: int64(5)\n",
            "memory usage: 29.3 KB\n",
            "None\n",
            "\n",
            "\u001b[1mHead:\u001b[0m\n",
            "   months_since_last_donation  number_of_donations  total_volume_donated  \\\n",
            "0                           2                   50                 12500   \n",
            "1                           0                   13                  3250   \n",
            "\n",
            "   months_since_first_donation  made_donation_in_march_2007  \n",
            "0                           98                            1  \n",
            "1                           28                            1  \n",
            "\n",
            "\u001b[1mNumeric Features:\u001b[0m\n",
            "       months_since_last_donation  number_of_donations  total_volume_donated  \\\n",
            "count                  748.000000           748.000000            748.000000   \n",
            "mean                     9.506684             5.514706           1378.676471   \n",
            "std                      8.095396             5.839307           1459.826781   \n",
            "min                      0.000000             1.000000            250.000000   \n",
            "25%                      2.750000             2.000000            500.000000   \n",
            "50%                      7.000000             4.000000           1000.000000   \n",
            "75%                     14.000000             7.000000           1750.000000   \n",
            "max                     74.000000            50.000000          12500.000000   \n",
            "\n",
            "       months_since_first_donation  made_donation_in_march_2007  \n",
            "count                   748.000000                   748.000000  \n",
            "mean                     34.282086                     0.237968  \n",
            "std                      24.376714                     0.426124  \n",
            "min                       2.000000                     0.000000  \n",
            "25%                      16.000000                     0.000000  \n",
            "50%                      28.000000                     0.000000  \n",
            "75%                      50.000000                     0.000000  \n",
            "max                      98.000000                     1.000000  \n",
            "\n"
          ],
          "name": "stdout"
        }
      ]
    },
    {
      "cell_type": "code",
      "metadata": {
        "id": "Zf1rQa86mH_C",
        "colab_type": "code",
        "colab": {
          "base_uri": "https://localhost:8080/",
          "height": 68
        },
        "outputId": "1b33aa04-bb9d-4e8d-84c3-c205149fe8c2"
      },
      "source": [
        "donors_df[\"made_donation_in_march_2007\"].value_counts()"
      ],
      "execution_count": 553,
      "outputs": [
        {
          "output_type": "execute_result",
          "data": {
            "text/plain": [
              "0    570\n",
              "1    178\n",
              "Name: made_donation_in_march_2007, dtype: int64"
            ]
          },
          "metadata": {
            "tags": []
          },
          "execution_count": 553
        }
      ]
    },
    {
      "cell_type": "code",
      "metadata": {
        "id": "youvUv7R-1d_",
        "colab_type": "code",
        "colab": {}
      },
      "source": [
        ""
      ],
      "execution_count": 553,
      "outputs": []
    },
    {
      "cell_type": "code",
      "metadata": {
        "id": "yMRdN76A-7LR",
        "colab_type": "code",
        "colab": {}
      },
      "source": [
        ""
      ],
      "execution_count": 553,
      "outputs": []
    },
    {
      "cell_type": "code",
      "metadata": {
        "id": "UabsSoDCmYc7",
        "colab_type": "code",
        "colab": {}
      },
      "source": [
        ""
      ],
      "execution_count": 553,
      "outputs": []
    },
    {
      "cell_type": "markdown",
      "metadata": {
        "id": "dTIjEhwHgtF8",
        "colab_type": "text"
      },
      "source": [
        "### From this I know:\n",
        "**Y_Vector** = made_donation_in_march_2007\n",
        "\n",
        "**Desired Shape:** I want no more than 59-95 features (Based on Training Observations = .8 of .8 of Feature Matrix, Divided by 5 or preferably 8) To minimize the Curse of Dimensionality.  So we will be safe.\n",
        "\n",
        "**No Categorical Variables...** Hmmm...\n",
        "\n",
        "  * Change made_donation_in_march_2007 to Categorical\n",
        "\n",
        "**No NaNs** that I can see..."
      ]
    },
    {
      "cell_type": "code",
      "metadata": {
        "id": "RhUKal0Gm3_i",
        "colab_type": "code",
        "colab": {}
      },
      "source": [
        "# change made donation 2007 to categorical\n",
        "donors_df[\"made_donation_in_march_2007\"] = donors_df[\"made_donation_in_march_2007\"].astype(\"category\")"
      ],
      "execution_count": 554,
      "outputs": []
    },
    {
      "cell_type": "code",
      "metadata": {
        "id": "rh4N26a9nY4o",
        "colab_type": "code",
        "colab": {
          "base_uri": "https://localhost:8080/",
          "height": 221
        },
        "outputId": "f75be9b5-d1c5-4511-dbb5-f9d65ecd2bf4"
      },
      "source": [
        "donors_df.info()"
      ],
      "execution_count": 555,
      "outputs": [
        {
          "output_type": "stream",
          "text": [
            "<class 'pandas.core.frame.DataFrame'>\n",
            "RangeIndex: 748 entries, 0 to 747\n",
            "Data columns (total 5 columns):\n",
            " #   Column                       Non-Null Count  Dtype   \n",
            "---  ------                       --------------  -----   \n",
            " 0   months_since_last_donation   748 non-null    int64   \n",
            " 1   number_of_donations          748 non-null    int64   \n",
            " 2   total_volume_donated         748 non-null    int64   \n",
            " 3   months_since_first_donation  748 non-null    int64   \n",
            " 4   made_donation_in_march_2007  748 non-null    category\n",
            "dtypes: category(1), int64(4)\n",
            "memory usage: 24.3 KB\n"
          ],
          "name": "stdout"
        }
      ]
    },
    {
      "cell_type": "code",
      "metadata": {
        "id": "cqzA3uxKnbkq",
        "colab_type": "code",
        "colab": {}
      },
      "source": [
        ""
      ],
      "execution_count": 555,
      "outputs": []
    },
    {
      "cell_type": "markdown",
      "metadata": {
        "colab_type": "text",
        "id": "P66Fpcq1PYZl"
      },
      "source": [
        "## 1.1. Do train/test split. Arrange data into X features matrix and y target vector\n",
        "\n",
        "Do these steps in either order.\n",
        "\n",
        "Use scikit-learn's train/test split function to split randomly. (You can include 75% of the data in the train set, and hold out 25% for the test set, which is the default.)"
      ]
    },
    {
      "cell_type": "markdown",
      "metadata": {
        "id": "F-Hjof09kZVo",
        "colab_type": "text"
      },
      "source": [
        "### Create Feature Maxtrix\n"
      ]
    },
    {
      "cell_type": "code",
      "metadata": {
        "id": "_aU4kdT6jvmS",
        "colab_type": "code",
        "colab": {
          "base_uri": "https://localhost:8080/",
          "height": 34
        },
        "outputId": "3f3d85b5-67a4-4581-96f1-11c0b5bf41a7"
      },
      "source": [
        "### Create Feature Maxtrix\n",
        "\n",
        "X_matrix = donors_df.drop(labels=\"made_donation_in_march_2007\", axis=1)\n",
        "X_matrix.shape"
      ],
      "execution_count": 556,
      "outputs": [
        {
          "output_type": "execute_result",
          "data": {
            "text/plain": [
              "(748, 4)"
            ]
          },
          "metadata": {
            "tags": []
          },
          "execution_count": 556
        }
      ]
    },
    {
      "cell_type": "markdown",
      "metadata": {
        "id": "nXTSDiGckbnP",
        "colab_type": "text"
      },
      "source": [
        "### Create Target Vector"
      ]
    },
    {
      "cell_type": "code",
      "metadata": {
        "id": "32JBWg3Pjt_5",
        "colab_type": "code",
        "colab": {
          "base_uri": "https://localhost:8080/",
          "height": 34
        },
        "outputId": "7440926f-e56a-4321-af4a-efe9aaa07957"
      },
      "source": [
        "# I like to put it in a dataframe because I've run into problems before...\n",
        "y_target = donors_df[\"made_donation_in_march_2007\"].to_frame()\n",
        "y_target.shape"
      ],
      "execution_count": 557,
      "outputs": [
        {
          "output_type": "execute_result",
          "data": {
            "text/plain": [
              "(748, 1)"
            ]
          },
          "metadata": {
            "tags": []
          },
          "execution_count": 557
        }
      ]
    },
    {
      "cell_type": "markdown",
      "metadata": {
        "id": "_mivhtkIlGRa",
        "colab_type": "text"
      },
      "source": [
        "### Do the Train/Test split - hold out 25% for test"
      ]
    },
    {
      "cell_type": "code",
      "metadata": {
        "id": "J-T_A4Oik0R4",
        "colab_type": "code",
        "colab": {}
      },
      "source": [
        "# \n",
        "X_train, X_test, y_train, y_test = train_test_split(\n",
        "    X_matrix, y_target, train_size=0.75, test_size=0.25, random_state=42)"
      ],
      "execution_count": 558,
      "outputs": []
    },
    {
      "cell_type": "code",
      "metadata": {
        "id": "3583WVIVktx5",
        "colab_type": "code",
        "colab": {
          "base_uri": "https://localhost:8080/",
          "height": 85
        },
        "outputId": "281ac684-cf8c-47d3-db6a-1139e47ad12b"
      },
      "source": [
        "#check the shapes for sanity...\n",
        "print(X_train.shape)\n",
        "print(X_test.shape)\n",
        "print(y_train.shape)\n",
        "print(y_test.shape)"
      ],
      "execution_count": 559,
      "outputs": [
        {
          "output_type": "stream",
          "text": [
            "(561, 4)\n",
            "(187, 4)\n",
            "(561, 1)\n",
            "(187, 1)\n"
          ],
          "name": "stdout"
        }
      ]
    },
    {
      "cell_type": "code",
      "metadata": {
        "colab_type": "code",
        "id": "InhicZeZPX8L",
        "colab": {}
      },
      "source": [
        ""
      ],
      "execution_count": 559,
      "outputs": []
    },
    {
      "cell_type": "markdown",
      "metadata": {
        "colab_type": "text",
        "id": "ln9fqAghRmQT"
      },
      "source": [
        "## 1.2. Use scikit-learn to fit a logistic regression model\n",
        "\n",
        "You may use any number of features"
      ]
    },
    {
      "cell_type": "markdown",
      "metadata": {
        "id": "lI66IJSWnn4H",
        "colab_type": "text"
      },
      "source": [
        "### Let's do another split As a **Validation Set**"
      ]
    },
    {
      "cell_type": "code",
      "metadata": {
        "colab_type": "code",
        "id": "a2jf_deRRl64",
        "colab": {}
      },
      "source": [
        "#\n",
        "X_train, X_val, y_train, y_val = train_test_split(\n",
        "    X_train, y_train, train_size=0.8, test_size=0.20, random_state=42)"
      ],
      "execution_count": 560,
      "outputs": []
    },
    {
      "cell_type": "code",
      "metadata": {
        "id": "KKGFNGpvoj69",
        "colab_type": "code",
        "colab": {
          "base_uri": "https://localhost:8080/",
          "height": 85
        },
        "outputId": "cd8ab835-3fe5-488d-e65b-071098cdab4b"
      },
      "source": [
        "#another check of shapes for sanity...\n",
        "print(X_train.shape)\n",
        "print(X_val.shape)\n",
        "print(y_train.shape)\n",
        "print(y_val.shape)"
      ],
      "execution_count": 561,
      "outputs": [
        {
          "output_type": "stream",
          "text": [
            "(448, 4)\n",
            "(113, 4)\n",
            "(448, 1)\n",
            "(113, 1)\n"
          ],
          "name": "stdout"
        }
      ]
    },
    {
      "cell_type": "markdown",
      "metadata": {
        "id": "LzSvPl7JplrO",
        "colab_type": "text"
      },
      "source": [
        "## There are no nulls, and we don't really need to one hot encode... but let's make pipeline for practice..."
      ]
    },
    {
      "cell_type": "code",
      "metadata": {
        "id": "dsR65ERwsBB9",
        "colab_type": "code",
        "colab": {
          "base_uri": "https://localhost:8080/",
          "height": 71
        },
        "outputId": "8ae56303-ccd8-4aab-f68a-784f74146755"
      },
      "source": [
        "log_reg_model = Pipeline([ \n",
        "      (\"regressor\", LogisticRegression())])\n",
        "\n",
        "log_reg_model.fit(X_train, y_train)\n",
        "\n",
        "y_pred_log = log_reg_model.predict(X_train)"
      ],
      "execution_count": 562,
      "outputs": [
        {
          "output_type": "stream",
          "text": [
            "/usr/local/lib/python3.6/dist-packages/sklearn/utils/validation.py:760: DataConversionWarning: A column-vector y was passed when a 1d array was expected. Please change the shape of y to (n_samples, ), for example using ravel().\n",
            "  y = column_or_1d(y, warn=True)\n"
          ],
          "name": "stderr"
        }
      ]
    },
    {
      "cell_type": "markdown",
      "metadata": {
        "colab_type": "text",
        "id": "Ah6EhiRVSusy"
      },
      "source": [
        "## 1.3. Report classification metric: accuracy\n",
        "\n",
        "What is your model's accuracy on the test set?\n",
        "\n",
        "Don't worry if your model doesn't beat the majority class baseline. That's okay!\n",
        "\n",
        "_\"The combination of some data and an aching desire for an answer does not ensure that a reasonable answer can be extracted from a given body of data.\"_ —[John Tukey](https://en.wikiquote.org/wiki/John_Tukey)\n",
        "\n",
        "(Also, if we used recall score instead of accuracy score, then your model would almost certainly beat the baseline. We'll discuss how to choose and interpret evaluation metrics throughout this unit.)\n"
      ]
    },
    {
      "cell_type": "code",
      "metadata": {
        "colab_type": "code",
        "id": "ZfJ2NFsASt9_",
        "colab": {
          "base_uri": "https://localhost:8080/",
          "height": 102
        },
        "outputId": "3caea551-dd24-4504-d80b-6a0cc742809c"
      },
      "source": [
        "print('Training Accuracy:', log_reg_model.score(X_train, y_train))\n",
        "print('Validation Accuracy:', log_reg_model.score(X_val, y_val))\n",
        "print('Test Accuracy:', log_reg_model.score(X_test, y_test))\n",
        "print(\"Compared to a baseline...\")\n",
        "print(f\"Basline Accuracy Score: {donors['made_donation_in_march_2007'].value_counts(normalize=True).max()}\")\n"
      ],
      "execution_count": 563,
      "outputs": [
        {
          "output_type": "stream",
          "text": [
            "Training Accuracy: 0.7924107142857143\n",
            "Validation Accuracy: 0.7256637168141593\n",
            "Test Accuracy: 0.7540106951871658\n",
            "Compared to a baseline...\n",
            "Basline Accuracy Score: 0.7620320855614974\n"
          ],
          "name": "stdout"
        }
      ]
    },
    {
      "cell_type": "code",
      "metadata": {
        "id": "g_IgqxTt9unb",
        "colab_type": "code",
        "colab": {}
      },
      "source": [
        ""
      ],
      "execution_count": 563,
      "outputs": []
    },
    {
      "cell_type": "markdown",
      "metadata": {
        "colab_type": "text",
        "id": "xDmZn3ApOM7t"
      },
      "source": [
        "# Part 2, Regression: Predict home prices in Ames, Iowa 🏠\n",
        "\n",
        "You'll use historical housing data. ***There's a data dictionary at the bottom of the notebook.*** \n",
        "\n",
        "Run this code cell to load the dataset:\n",
        "\n",
        "\n",
        "\n"
      ]
    },
    {
      "cell_type": "code",
      "metadata": {
        "colab_type": "code",
        "id": "7ptoRG1lu7H4",
        "colab": {}
      },
      "source": [
        "import pandas as pd\n",
        "URL = 'https://drive.google.com/uc?export=download&id=1522WlEW6HFss36roD_Cd9nybqSuiVcCK'\n",
        "homes = pd.read_csv(URL)\n",
        "assert homes.shape == (2904, 47)"
      ],
      "execution_count": 564,
      "outputs": []
    },
    {
      "cell_type": "code",
      "metadata": {
        "id": "MgC3kr_J9v2F",
        "colab_type": "code",
        "colab": {}
      },
      "source": [
        "#lets write a function real quick to save time\n",
        "\n",
        "# need to set this to get the display to work\n",
        "pd.set_option('display.max_columns', None)\n",
        "\n",
        "def eda_stuff(df):\n",
        "  print('\\033[1m' \"Info:\" '\\033[0m')\n",
        "  print(df.info())\n",
        "  print()\n",
        "  print('\\033[1m' \"Head:\" '\\033[0m')\n",
        "  print(df.head(2))\n",
        "  print()\n",
        "  print('\\033[1m' \"Numeric Features:\" '\\033[0m')\n",
        "  print(df.describe())\n",
        "  print()\n",
        "  print('\\033[1m' \"Categorical Features:\" '\\033[0m')\n",
        "  print(df.describe(exclude=\"number\"))"
      ],
      "execution_count": 565,
      "outputs": []
    },
    {
      "cell_type": "markdown",
      "metadata": {
        "id": "exyz5CYDuOIS",
        "colab_type": "text"
      },
      "source": [
        "## Some EDA/Wrangle"
      ]
    },
    {
      "cell_type": "code",
      "metadata": {
        "id": "MdhUNV-6uHw2",
        "colab_type": "code",
        "colab": {}
      },
      "source": [
        "ames_homes_df = homes.copy()"
      ],
      "execution_count": 566,
      "outputs": []
    },
    {
      "cell_type": "code",
      "metadata": {
        "id": "0arMBGMGuc37",
        "colab_type": "code",
        "colab": {
          "base_uri": "https://localhost:8080/",
          "height": 1000
        },
        "outputId": "5f9c206b-2905-4312-df2b-65cd3fddfce9"
      },
      "source": [
        "eda_stuff(ames_homes_df)"
      ],
      "execution_count": 567,
      "outputs": [
        {
          "output_type": "stream",
          "text": [
            "\u001b[1mInfo:\u001b[0m\n",
            "<class 'pandas.core.frame.DataFrame'>\n",
            "RangeIndex: 2904 entries, 0 to 2903\n",
            "Data columns (total 47 columns):\n",
            " #   Column          Non-Null Count  Dtype  \n",
            "---  ------          --------------  -----  \n",
            " 0   1st_Flr_SF      2904 non-null   int64  \n",
            " 1   Bedroom_AbvGr   2904 non-null   int64  \n",
            " 2   Bldg_Type       2904 non-null   object \n",
            " 3   Bsmt_Full_Bath  2904 non-null   float64\n",
            " 4   Bsmt_Half_Bath  2904 non-null   float64\n",
            " 5   Central_Air     2904 non-null   object \n",
            " 6   Condition_1     2904 non-null   object \n",
            " 7   Condition_2     2904 non-null   object \n",
            " 8   Electrical      2904 non-null   object \n",
            " 9   Exter_Cond      2904 non-null   object \n",
            " 10  Exter_Qual      2904 non-null   object \n",
            " 11  Exterior_1st    2904 non-null   object \n",
            " 12  Exterior_2nd    2904 non-null   object \n",
            " 13  Foundation      2904 non-null   object \n",
            " 14  Full_Bath       2904 non-null   int64  \n",
            " 15  Functional      2904 non-null   object \n",
            " 16  Gr_Liv_Area     2904 non-null   int64  \n",
            " 17  Half_Bath       2904 non-null   int64  \n",
            " 18  Heating         2904 non-null   object \n",
            " 19  Heating_QC      2904 non-null   object \n",
            " 20  House_Style     2904 non-null   object \n",
            " 21  Kitchen_AbvGr   2904 non-null   int64  \n",
            " 22  Kitchen_Qual    2904 non-null   object \n",
            " 23  Land_Contour    2904 non-null   object \n",
            " 24  Land_Slope      2904 non-null   object \n",
            " 25  Lot_Area        2904 non-null   int64  \n",
            " 26  Lot_Config      2904 non-null   object \n",
            " 27  Lot_Shape       2904 non-null   object \n",
            " 28  MS_SubClass     2904 non-null   int64  \n",
            " 29  MS_Zoning       2904 non-null   object \n",
            " 30  Mas_Vnr_Type    2904 non-null   object \n",
            " 31  Mo_Sold         2904 non-null   int64  \n",
            " 32  Neighborhood    2904 non-null   object \n",
            " 33  Overall_Cond    2904 non-null   int64  \n",
            " 34  Overall_Qual    2904 non-null   int64  \n",
            " 35  Paved_Drive     2904 non-null   object \n",
            " 36  Roof_Matl       2904 non-null   object \n",
            " 37  Roof_Style      2904 non-null   object \n",
            " 38  SalePrice       2904 non-null   int64  \n",
            " 39  Sale_Condition  2904 non-null   object \n",
            " 40  Sale_Type       2904 non-null   object \n",
            " 41  Street          2904 non-null   object \n",
            " 42  TotRms_AbvGrd   2904 non-null   int64  \n",
            " 43  Utilities       2904 non-null   object \n",
            " 44  Year_Built      2904 non-null   int64  \n",
            " 45  Year_Remod/Add  2904 non-null   int64  \n",
            " 46  Yr_Sold         2904 non-null   int64  \n",
            "dtypes: float64(2), int64(16), object(29)\n",
            "memory usage: 1.0+ MB\n",
            "None\n",
            "\n",
            "\u001b[1mHead:\u001b[0m\n",
            "   1st_Flr_SF  Bedroom_AbvGr Bldg_Type  Bsmt_Full_Bath  Bsmt_Half_Bath  \\\n",
            "0        1656              3      1Fam             1.0             0.0   \n",
            "1         896              2      1Fam             0.0             0.0   \n",
            "\n",
            "  Central_Air Condition_1 Condition_2 Electrical Exter_Cond Exter_Qual  \\\n",
            "0           Y        Norm        Norm      SBrkr         TA         TA   \n",
            "1           Y       Feedr        Norm      SBrkr         TA         TA   \n",
            "\n",
            "  Exterior_1st Exterior_2nd Foundation  Full_Bath Functional  Gr_Liv_Area  \\\n",
            "0      BrkFace      Plywood     CBlock          1        Typ         1656   \n",
            "1      VinylSd      VinylSd     CBlock          1        Typ          896   \n",
            "\n",
            "   Half_Bath Heating Heating_QC House_Style  Kitchen_AbvGr Kitchen_Qual  \\\n",
            "0          0    GasA         Fa      1Story              1           TA   \n",
            "1          0    GasA         TA      1Story              1           TA   \n",
            "\n",
            "  Land_Contour Land_Slope  Lot_Area Lot_Config Lot_Shape  MS_SubClass  \\\n",
            "0          Lvl        Gtl     31770     Corner       IR1           20   \n",
            "1          Lvl        Gtl     11622     Inside       Reg           20   \n",
            "\n",
            "  MS_Zoning Mas_Vnr_Type  Mo_Sold Neighborhood  Overall_Cond  Overall_Qual  \\\n",
            "0        RL        Stone        5        NAmes             5             6   \n",
            "1        RH         None        6        NAmes             6             5   \n",
            "\n",
            "  Paved_Drive Roof_Matl Roof_Style  SalePrice Sale_Condition Sale_Type Street  \\\n",
            "0           P   CompShg        Hip     215000         Normal       WD    Pave   \n",
            "1           Y   CompShg      Gable     105000         Normal       WD    Pave   \n",
            "\n",
            "   TotRms_AbvGrd Utilities  Year_Built  Year_Remod/Add  Yr_Sold  \n",
            "0              7    AllPub        1960            1960     2010  \n",
            "1              5    AllPub        1961            1961     2010  \n",
            "\n",
            "\u001b[1mNumeric Features:\u001b[0m\n",
            "        1st_Flr_SF  Bedroom_AbvGr  Bsmt_Full_Bath  Bsmt_Half_Bath  \\\n",
            "count  2904.000000    2904.000000     2904.000000     2904.000000   \n",
            "mean   1158.257231       2.854339        0.431474        0.061639   \n",
            "std     388.351648       0.827820        0.525073        0.246202   \n",
            "min     334.000000       0.000000        0.000000        0.000000   \n",
            "25%     876.750000       2.000000        0.000000        0.000000   \n",
            "50%    1083.500000       3.000000        0.000000        0.000000   \n",
            "75%    1383.000000       3.000000        1.000000        0.000000   \n",
            "max    5095.000000       8.000000        3.000000        2.000000   \n",
            "\n",
            "         Full_Bath  Gr_Liv_Area    Half_Bath  Kitchen_AbvGr       Lot_Area  \\\n",
            "count  2904.000000  2904.000000  2904.000000    2904.000000    2904.000000   \n",
            "mean      1.562328  1497.853650     0.376722       1.044421   10130.199725   \n",
            "std       0.551427   504.591527     0.501416       0.214260    7869.928702   \n",
            "min       0.000000   334.000000     0.000000       0.000000    1300.000000   \n",
            "25%       1.000000  1124.000000     0.000000       1.000000    7424.750000   \n",
            "50%       2.000000  1440.500000     0.000000       1.000000    9429.000000   \n",
            "75%       2.000000  1740.500000     1.000000       1.000000   11516.250000   \n",
            "max       4.000000  5642.000000     2.000000       3.000000  215245.000000   \n",
            "\n",
            "       MS_SubClass      Mo_Sold  Overall_Cond  Overall_Qual      SalePrice  \\\n",
            "count  2904.000000  2904.000000   2904.000000   2904.000000    2904.000000   \n",
            "mean     57.474174     6.206956      5.567149      6.086777  180383.689738   \n",
            "std      42.724950     2.712204      1.113736      1.410083   79802.823684   \n",
            "min      20.000000     1.000000      1.000000      1.000000   12789.000000   \n",
            "25%      20.000000     4.000000      5.000000      5.000000  129150.000000   \n",
            "50%      50.000000     6.000000      5.000000      6.000000  160000.000000   \n",
            "75%      70.000000     8.000000      6.000000      7.000000  213000.000000   \n",
            "max     190.000000    12.000000      9.000000     10.000000  755000.000000   \n",
            "\n",
            "       TotRms_AbvGrd   Year_Built  Year_Remod/Add      Yr_Sold  \n",
            "count    2904.000000  2904.000000     2904.000000  2904.000000  \n",
            "mean        6.441804  1971.109504     1984.112259  2007.792011  \n",
            "std         1.573130    30.227141       20.857813     1.318719  \n",
            "min         2.000000  1872.000000     1950.000000  2006.000000  \n",
            "25%         5.000000  1953.000000     1965.000000  2007.000000  \n",
            "50%         6.000000  1973.000000     1993.000000  2008.000000  \n",
            "75%         7.000000  2000.000000     2004.000000  2009.000000  \n",
            "max        15.000000  2010.000000     2010.000000  2010.000000  \n",
            "\n",
            "\u001b[1mCategorical Features:\u001b[0m\n",
            "       Bldg_Type Central_Air Condition_1 Condition_2 Electrical Exter_Cond  \\\n",
            "count       2904        2904        2904        2904       2904       2904   \n",
            "unique         5           2           9           8          5          5   \n",
            "top         1Fam           Y        Norm        Norm      SBrkr         TA   \n",
            "freq        2401        2708        2502        2874       2658       2523   \n",
            "\n",
            "       Exter_Qual Exterior_1st Exterior_2nd Foundation Functional Heating  \\\n",
            "count        2904         2904         2904       2904       2904    2904   \n",
            "unique          4           16           17          6          8       6   \n",
            "top            TA      VinylSd      VinylSd      PConc        Typ    GasA   \n",
            "freq         1795         1007          996       1286       2703    2859   \n",
            "\n",
            "       Heating_QC House_Style Kitchen_Qual Land_Contour Land_Slope Lot_Config  \\\n",
            "count        2904        2904         2904         2904       2904       2904   \n",
            "unique          5           8            5            4          3          5   \n",
            "top            Ex      1Story           TA          Lvl        Gtl     Inside   \n",
            "freq         1473        1467         1491         2608       2763       2123   \n",
            "\n",
            "       Lot_Shape MS_Zoning Mas_Vnr_Type Neighborhood Paved_Drive Roof_Matl  \\\n",
            "count       2904      2904         2904         2904        2904      2904   \n",
            "unique         4         7            5           28           3         8   \n",
            "top          Reg        RL         None        NAmes           Y   CompShg   \n",
            "freq        1846      2255         1749          443        2627      2861   \n",
            "\n",
            "       Roof_Style Sale_Condition Sale_Type Street Utilities  \n",
            "count        2904           2904      2904   2904      2904  \n",
            "unique          6              6        10      2         3  \n",
            "top         Gable         Normal       WD    Pave    AllPub  \n",
            "freq         2299           2400      2522   2892      2901  \n"
          ],
          "name": "stdout"
        }
      ]
    },
    {
      "cell_type": "code",
      "metadata": {
        "id": "ys4SU2_l_DqJ",
        "colab_type": "code",
        "colab": {
          "base_uri": "https://localhost:8080/",
          "height": 221
        },
        "outputId": "ebff22ea-864f-4d6a-91c8-95762be3816c"
      },
      "source": [
        "ames_homes_df.columns"
      ],
      "execution_count": 568,
      "outputs": [
        {
          "output_type": "execute_result",
          "data": {
            "text/plain": [
              "Index(['1st_Flr_SF', 'Bedroom_AbvGr', 'Bldg_Type', 'Bsmt_Full_Bath',\n",
              "       'Bsmt_Half_Bath', 'Central_Air', 'Condition_1', 'Condition_2',\n",
              "       'Electrical', 'Exter_Cond', 'Exter_Qual', 'Exterior_1st',\n",
              "       'Exterior_2nd', 'Foundation', 'Full_Bath', 'Functional', 'Gr_Liv_Area',\n",
              "       'Half_Bath', 'Heating', 'Heating_QC', 'House_Style', 'Kitchen_AbvGr',\n",
              "       'Kitchen_Qual', 'Land_Contour', 'Land_Slope', 'Lot_Area', 'Lot_Config',\n",
              "       'Lot_Shape', 'MS_SubClass', 'MS_Zoning', 'Mas_Vnr_Type', 'Mo_Sold',\n",
              "       'Neighborhood', 'Overall_Cond', 'Overall_Qual', 'Paved_Drive',\n",
              "       'Roof_Matl', 'Roof_Style', 'SalePrice', 'Sale_Condition', 'Sale_Type',\n",
              "       'Street', 'TotRms_AbvGrd', 'Utilities', 'Year_Built', 'Year_Remod/Add',\n",
              "       'Yr_Sold'],\n",
              "      dtype='object')"
            ]
          },
          "metadata": {
            "tags": []
          },
          "execution_count": 568
        }
      ]
    },
    {
      "cell_type": "code",
      "metadata": {
        "id": "QH__h2ZB_YdV",
        "colab_type": "code",
        "colab": {
          "base_uri": "https://localhost:8080/",
          "height": 119
        },
        "outputId": "4fb461d6-d1cc-449e-9fc4-331ff794c40f"
      },
      "source": [
        "ames_homes_df['Yr_Sold'].value_counts()"
      ],
      "execution_count": 569,
      "outputs": [
        {
          "output_type": "execute_result",
          "data": {
            "text/plain": [
              "2007    686\n",
              "2009    644\n",
              "2006    621\n",
              "2008    613\n",
              "2010    340\n",
              "Name: Yr_Sold, dtype: int64"
            ]
          },
          "metadata": {
            "tags": []
          },
          "execution_count": 569
        }
      ]
    },
    {
      "cell_type": "code",
      "metadata": {
        "id": "9JRq-2mS_gfs",
        "colab_type": "code",
        "colab": {
          "base_uri": "https://localhost:8080/",
          "height": 221
        },
        "outputId": "8f74e4d0-8b75-417c-b9ad-22ba119fc43a"
      },
      "source": [
        "ames_homes_df['Year_Remod/Add'].value_counts()"
      ],
      "execution_count": 570,
      "outputs": [
        {
          "output_type": "execute_result",
          "data": {
            "text/plain": [
              "1950    360\n",
              "2006    199\n",
              "2007    155\n",
              "2005    141\n",
              "2004    111\n",
              "       ... \n",
              "1981     13\n",
              "1986     13\n",
              "2010     13\n",
              "1983     11\n",
              "1982      9\n",
              "Name: Year_Remod/Add, Length: 61, dtype: int64"
            ]
          },
          "metadata": {
            "tags": []
          },
          "execution_count": 570
        }
      ]
    },
    {
      "cell_type": "code",
      "metadata": {
        "id": "Oj5EIcqQ_SLe",
        "colab_type": "code",
        "colab": {
          "base_uri": "https://localhost:8080/",
          "height": 221
        },
        "outputId": "cb4d0c3a-3dfd-4254-f739-2e6ab97ca47f"
      },
      "source": [
        "ames_homes_df['Year_Built'].value_counts()"
      ],
      "execution_count": 571,
      "outputs": [
        {
          "output_type": "execute_result",
          "data": {
            "text/plain": [
              "2005    141\n",
              "2006    131\n",
              "2007    104\n",
              "2004     99\n",
              "2003     86\n",
              "       ... \n",
              "1875      1\n",
              "1907      1\n",
              "1911      1\n",
              "1913      1\n",
              "1872      1\n",
              "Name: Year_Built, Length: 118, dtype: int64"
            ]
          },
          "metadata": {
            "tags": []
          },
          "execution_count": 571
        }
      ]
    },
    {
      "cell_type": "code",
      "metadata": {
        "id": "nfwzMyjF-mb8",
        "colab_type": "code",
        "colab": {}
      },
      "source": [
        ""
      ],
      "execution_count": 571,
      "outputs": []
    },
    {
      "cell_type": "code",
      "metadata": {
        "id": "8Keb5DMtvSo3",
        "colab_type": "code",
        "colab": {
          "base_uri": "https://localhost:8080/",
          "height": 238
        },
        "outputId": "2ba44503-dbce-4728-dcd3-678f038e9376"
      },
      "source": [
        "ames_homes_df[\"Mo_Sold\"].value_counts()"
      ],
      "execution_count": 572,
      "outputs": [
        {
          "output_type": "execute_result",
          "data": {
            "text/plain": [
              "6     505\n",
              "7     445\n",
              "5     391\n",
              "4     275\n",
              "8     231\n",
              "3     230\n",
              "10    171\n",
              "9     157\n",
              "11    141\n",
              "2     133\n",
              "1     123\n",
              "12    102\n",
              "Name: Mo_Sold, dtype: int64"
            ]
          },
          "metadata": {
            "tags": []
          },
          "execution_count": 572
        }
      ]
    },
    {
      "cell_type": "code",
      "metadata": {
        "id": "I1jTVe5Dwk9f",
        "colab_type": "code",
        "colab": {
          "base_uri": "https://localhost:8080/",
          "height": 187
        },
        "outputId": "fe6aa524-6973-461c-e3b0-e724881d2d6f"
      },
      "source": [
        "ames_homes_df[\"Overall_Cond\"].value_counts()"
      ],
      "execution_count": 573,
      "outputs": [
        {
          "output_type": "execute_result",
          "data": {
            "text/plain": [
              "5    1632\n",
              "6     532\n",
              "7     388\n",
              "8     144\n",
              "4     101\n",
              "3      49\n",
              "9      41\n",
              "2      10\n",
              "1       7\n",
              "Name: Overall_Cond, dtype: int64"
            ]
          },
          "metadata": {
            "tags": []
          },
          "execution_count": 573
        }
      ]
    },
    {
      "cell_type": "code",
      "metadata": {
        "id": "V5A5nKzWwq14",
        "colab_type": "code",
        "colab": {
          "base_uri": "https://localhost:8080/",
          "height": 204
        },
        "outputId": "4c903938-5c43-47f3-e2eb-dc8f75f927d7"
      },
      "source": [
        "ames_homes_df[\"Overall_Qual\"].value_counts()"
      ],
      "execution_count": 574,
      "outputs": [
        {
          "output_type": "execute_result",
          "data": {
            "text/plain": [
              "5     823\n",
              "6     728\n",
              "7     592\n",
              "8     342\n",
              "4     225\n",
              "9     107\n",
              "3      40\n",
              "10     30\n",
              "2      13\n",
              "1       4\n",
              "Name: Overall_Qual, dtype: int64"
            ]
          },
          "metadata": {
            "tags": []
          },
          "execution_count": 574
        }
      ]
    },
    {
      "cell_type": "code",
      "metadata": {
        "id": "QAC4H5qkvZ7q",
        "colab_type": "code",
        "colab": {
          "base_uri": "https://localhost:8080/",
          "height": 306
        },
        "outputId": "79b58ff8-aba3-4ac3-d738-ad1fe83bd113"
      },
      "source": [
        "#  ??? this looks like a category...\n",
        "ames_homes_df[\"MS_SubClass\"].value_counts()"
      ],
      "execution_count": 575,
      "outputs": [
        {
          "output_type": "execute_result",
          "data": {
            "text/plain": [
              "20     1067\n",
              "60      565\n",
              "50      287\n",
              "120     190\n",
              "30      139\n",
              "160     129\n",
              "70      128\n",
              "80      116\n",
              "90      109\n",
              "190      61\n",
              "85       48\n",
              "75       23\n",
              "45       18\n",
              "180      17\n",
              "40        6\n",
              "150       1\n",
              "Name: MS_SubClass, dtype: int64"
            ]
          },
          "metadata": {
            "tags": []
          },
          "execution_count": 575
        }
      ]
    },
    {
      "cell_type": "code",
      "metadata": {
        "id": "SB1d9jOmAiGj",
        "colab_type": "code",
        "colab": {}
      },
      "source": [
        ""
      ],
      "execution_count": 575,
      "outputs": []
    },
    {
      "cell_type": "code",
      "metadata": {
        "id": "xFXwUuqSAkgS",
        "colab_type": "code",
        "colab": {}
      },
      "source": [
        ""
      ],
      "execution_count": 575,
      "outputs": []
    },
    {
      "cell_type": "markdown",
      "metadata": {
        "id": "A8YQmiISu7iy",
        "colab_type": "text"
      },
      "source": [
        "### From this I know:\n",
        "**Y_Vector** = SalePrice\n",
        "\n",
        "**Desired Shape:** I want no more than 370-230 features (Based on Training Observations = .8 of .8 of Feature Matrix, Divided by 5 or preferably 8) To minimize the Curse of Dimensionality.  \n",
        "* should be fine, but it could get ugly if we OHE everything...\n",
        "\n",
        "**Variables Stuff...** \n",
        "\n",
        "  * Change Mo_Sold to Categorical - might use this to **One Hot Encode**\n",
        "  * Overall_Cond to Cat \n",
        "  * Overall_Qual to cat\n",
        "  * MS_SubClass to cat\n",
        "  * Year_Built to datetime\n",
        "  * Year_Remod/Add to datetime\n",
        "  * Yr_Sold to ...nvm!!! this messed me up lol all years leave as ints for now..jeez\n",
        "\n",
        "**No NaNs** that I can see..."
      ]
    },
    {
      "cell_type": "code",
      "metadata": {
        "id": "TDS0pBlbufWq",
        "colab_type": "code",
        "colab": {}
      },
      "source": [
        "# Change the types first\n",
        "new_types = {'Mo_Sold' : 'category', 'Overall_Cond' : 'category',\n",
        "             'Overall_Qual' : 'category', 'MS_SubClass' : 'category'}"
      ],
      "execution_count": 576,
      "outputs": []
    },
    {
      "cell_type": "code",
      "metadata": {
        "id": "BT2hl1M2z6T8",
        "colab_type": "code",
        "colab": {
          "base_uri": "https://localhost:8080/",
          "height": 221
        },
        "outputId": "440f4902-00e1-4b54-bd01-9b40ab6e476f"
      },
      "source": [
        "ames_homes_df= ames_homes_df.astype(new_types)\n",
        "ames_homes_df.columns"
      ],
      "execution_count": 577,
      "outputs": [
        {
          "output_type": "execute_result",
          "data": {
            "text/plain": [
              "Index(['1st_Flr_SF', 'Bedroom_AbvGr', 'Bldg_Type', 'Bsmt_Full_Bath',\n",
              "       'Bsmt_Half_Bath', 'Central_Air', 'Condition_1', 'Condition_2',\n",
              "       'Electrical', 'Exter_Cond', 'Exter_Qual', 'Exterior_1st',\n",
              "       'Exterior_2nd', 'Foundation', 'Full_Bath', 'Functional', 'Gr_Liv_Area',\n",
              "       'Half_Bath', 'Heating', 'Heating_QC', 'House_Style', 'Kitchen_AbvGr',\n",
              "       'Kitchen_Qual', 'Land_Contour', 'Land_Slope', 'Lot_Area', 'Lot_Config',\n",
              "       'Lot_Shape', 'MS_SubClass', 'MS_Zoning', 'Mas_Vnr_Type', 'Mo_Sold',\n",
              "       'Neighborhood', 'Overall_Cond', 'Overall_Qual', 'Paved_Drive',\n",
              "       'Roof_Matl', 'Roof_Style', 'SalePrice', 'Sale_Condition', 'Sale_Type',\n",
              "       'Street', 'TotRms_AbvGrd', 'Utilities', 'Year_Built', 'Year_Remod/Add',\n",
              "       'Yr_Sold'],\n",
              "      dtype='object')"
            ]
          },
          "metadata": {
            "tags": []
          },
          "execution_count": 577
        }
      ]
    },
    {
      "cell_type": "code",
      "metadata": {
        "id": "9iX-03BnuUPV",
        "colab_type": "code",
        "colab": {
          "base_uri": "https://localhost:8080/",
          "height": 935
        },
        "outputId": "1b234ddf-3c88-48f7-83e8-cfad3c344a93"
      },
      "source": [
        "ames_homes_df.info()"
      ],
      "execution_count": 578,
      "outputs": [
        {
          "output_type": "stream",
          "text": [
            "<class 'pandas.core.frame.DataFrame'>\n",
            "RangeIndex: 2904 entries, 0 to 2903\n",
            "Data columns (total 47 columns):\n",
            " #   Column          Non-Null Count  Dtype   \n",
            "---  ------          --------------  -----   \n",
            " 0   1st_Flr_SF      2904 non-null   int64   \n",
            " 1   Bedroom_AbvGr   2904 non-null   int64   \n",
            " 2   Bldg_Type       2904 non-null   object  \n",
            " 3   Bsmt_Full_Bath  2904 non-null   float64 \n",
            " 4   Bsmt_Half_Bath  2904 non-null   float64 \n",
            " 5   Central_Air     2904 non-null   object  \n",
            " 6   Condition_1     2904 non-null   object  \n",
            " 7   Condition_2     2904 non-null   object  \n",
            " 8   Electrical      2904 non-null   object  \n",
            " 9   Exter_Cond      2904 non-null   object  \n",
            " 10  Exter_Qual      2904 non-null   object  \n",
            " 11  Exterior_1st    2904 non-null   object  \n",
            " 12  Exterior_2nd    2904 non-null   object  \n",
            " 13  Foundation      2904 non-null   object  \n",
            " 14  Full_Bath       2904 non-null   int64   \n",
            " 15  Functional      2904 non-null   object  \n",
            " 16  Gr_Liv_Area     2904 non-null   int64   \n",
            " 17  Half_Bath       2904 non-null   int64   \n",
            " 18  Heating         2904 non-null   object  \n",
            " 19  Heating_QC      2904 non-null   object  \n",
            " 20  House_Style     2904 non-null   object  \n",
            " 21  Kitchen_AbvGr   2904 non-null   int64   \n",
            " 22  Kitchen_Qual    2904 non-null   object  \n",
            " 23  Land_Contour    2904 non-null   object  \n",
            " 24  Land_Slope      2904 non-null   object  \n",
            " 25  Lot_Area        2904 non-null   int64   \n",
            " 26  Lot_Config      2904 non-null   object  \n",
            " 27  Lot_Shape       2904 non-null   object  \n",
            " 28  MS_SubClass     2904 non-null   category\n",
            " 29  MS_Zoning       2904 non-null   object  \n",
            " 30  Mas_Vnr_Type    2904 non-null   object  \n",
            " 31  Mo_Sold         2904 non-null   category\n",
            " 32  Neighborhood    2904 non-null   object  \n",
            " 33  Overall_Cond    2904 non-null   category\n",
            " 34  Overall_Qual    2904 non-null   category\n",
            " 35  Paved_Drive     2904 non-null   object  \n",
            " 36  Roof_Matl       2904 non-null   object  \n",
            " 37  Roof_Style      2904 non-null   object  \n",
            " 38  SalePrice       2904 non-null   int64   \n",
            " 39  Sale_Condition  2904 non-null   object  \n",
            " 40  Sale_Type       2904 non-null   object  \n",
            " 41  Street          2904 non-null   object  \n",
            " 42  TotRms_AbvGrd   2904 non-null   int64   \n",
            " 43  Utilities       2904 non-null   object  \n",
            " 44  Year_Built      2904 non-null   int64   \n",
            " 45  Year_Remod/Add  2904 non-null   int64   \n",
            " 46  Yr_Sold         2904 non-null   int64   \n",
            "dtypes: category(4), float64(2), int64(12), object(29)\n",
            "memory usage: 989.0+ KB\n"
          ],
          "name": "stdout"
        }
      ]
    },
    {
      "cell_type": "markdown",
      "metadata": {
        "id": "_3YAT8Bm4nyV",
        "colab_type": "text"
      },
      "source": [
        "### I am dropping columns which I think are redundant or represent data leakage:\n",
        "#### no need to keep Bedroom and Kitchen above ground when I have TotalRooms Above ground.  Year Sold represents data leakage I think, because the model should know about the result \"Sale\" in any way, imo"
      ]
    },
    {
      "cell_type": "code",
      "metadata": {
        "id": "pfO8Q3Om0S2n",
        "colab_type": "code",
        "colab": {}
      },
      "source": [
        "#now I'm going to drop some stuff to create my feature Matrix \n",
        "drop_data = ['Bedroom_AbvGr', 'Kitchen_AbvGr', 'Exter_Cond', 'Exter_Qual',\n",
        "        \"Overall_Qual\"]\n"
      ],
      "execution_count": 579,
      "outputs": []
    },
    {
      "cell_type": "code",
      "metadata": {
        "id": "78W1QF6q07pE",
        "colab_type": "code",
        "colab": {
          "base_uri": "https://localhost:8080/",
          "height": 34
        },
        "outputId": "1714bc58-b4b6-4fe7-d645-e962b260868d"
      },
      "source": [
        "ames_select_df= ames_homes_df.drop(labels=drop_data, axis=1)\n",
        "ames_select_df.shape"
      ],
      "execution_count": 580,
      "outputs": [
        {
          "output_type": "execute_result",
          "data": {
            "text/plain": [
              "(2904, 42)"
            ]
          },
          "metadata": {
            "tags": []
          },
          "execution_count": 580
        }
      ]
    },
    {
      "cell_type": "code",
      "metadata": {
        "id": "6KIu9qrT5hEo",
        "colab_type": "code",
        "colab": {
          "base_uri": "https://localhost:8080/",
          "height": 34
        },
        "outputId": "719cbfbe-cfda-4b8a-df38-cc7dce50ddb8"
      },
      "source": [
        "y_target = ames_homes_df[\"SalePrice\"].to_frame()\n",
        "y_target.shape"
      ],
      "execution_count": 581,
      "outputs": [
        {
          "output_type": "execute_result",
          "data": {
            "text/plain": [
              "(2904, 1)"
            ]
          },
          "metadata": {
            "tags": []
          },
          "execution_count": 581
        }
      ]
    },
    {
      "cell_type": "code",
      "metadata": {
        "id": "0gYJJ02gMMBc",
        "colab_type": "code",
        "colab": {}
      },
      "source": [
        ""
      ],
      "execution_count": 581,
      "outputs": []
    },
    {
      "cell_type": "code",
      "metadata": {
        "id": "svk3UfP-6EIP",
        "colab_type": "code",
        "colab": {}
      },
      "source": [
        ""
      ],
      "execution_count": 581,
      "outputs": []
    },
    {
      "cell_type": "markdown",
      "metadata": {
        "colab_type": "text",
        "id": "CowG-cgZ5ZrB"
      },
      "source": [
        "## 2.1. Begin with baselines\n",
        "\n",
        "What is the Mean Absolute Error and R^2 score for a mean baseline? (You can get these estimated scores using all your data, before splitting it.)"
      ]
    },
    {
      "cell_type": "code",
      "metadata": {
        "colab_type": "code",
        "id": "TbahVr-j5ZLs",
        "colab": {}
      },
      "source": [
        "# make function that will do it for us\n",
        "def get_naive_baseline(target_feature):\n",
        "  guess = target_feature.mean()\n",
        "  errors = guess - target_feature\n",
        "  mean_absolute_error = errors.abs().mean()\n",
        "\n",
        "  naive_baseline = namedtuple(\"baseline_info\", [\"guess\", \"errors\", \"MAE\"])\n",
        "\n",
        "  return naive_baseline(guess, errors, mean_absolute_error)"
      ],
      "execution_count": 582,
      "outputs": []
    },
    {
      "cell_type": "code",
      "metadata": {
        "id": "Hv6tOPXr60uB",
        "colab_type": "code",
        "colab": {}
      },
      "source": [
        "nbaseline = get_naive_baseline(y_target)"
      ],
      "execution_count": 583,
      "outputs": []
    },
    {
      "cell_type": "code",
      "metadata": {
        "id": "DH6UwU6_64It",
        "colab_type": "code",
        "colab": {
          "base_uri": "https://localhost:8080/",
          "height": 85
        },
        "outputId": "441d1f05-0984-451b-816e-a48a12a4d52a"
      },
      "source": [
        "print(f\"If we guessed: {nbaseline.guess}\")\n",
        "print(f\"Our MAE would be: {nbaseline.MAE}\")"
      ],
      "execution_count": 584,
      "outputs": [
        {
          "output_type": "stream",
          "text": [
            "If we guessed: SalePrice    180383.689738\n",
            "dtype: float64\n",
            "Our MAE would be: SalePrice    58149.927741\n",
            "dtype: float64\n"
          ],
          "name": "stdout"
        }
      ]
    },
    {
      "cell_type": "markdown",
      "metadata": {
        "colab_type": "text",
        "id": "yqeiq1wvyrTq"
      },
      "source": [
        "## 2.2. Do train/validate/test split\n",
        "\n",
        "Train on houses sold in the years 2006 - 2008. (1,920 rows)\n",
        "\n",
        "Validate on house sold in 2009. (644 rows)\n",
        "\n",
        "Test on houses sold in 2010. (340 rows)"
      ]
    },
    {
      "cell_type": "code",
      "metadata": {
        "id": "67s3nId2GXD4",
        "colab_type": "code",
        "colab": {}
      },
      "source": [
        ""
      ],
      "execution_count": 584,
      "outputs": []
    },
    {
      "cell_type": "code",
      "metadata": {
        "colab_type": "code",
        "id": "WKFjWLI3w0P_",
        "colab": {
          "base_uri": "https://localhost:8080/",
          "height": 119
        },
        "outputId": "64637beb-6904-4e9b-b631-da2baa314a86"
      },
      "source": [
        "ames_select_df[\"Yr_Sold\"].value_counts()"
      ],
      "execution_count": 585,
      "outputs": [
        {
          "output_type": "execute_result",
          "data": {
            "text/plain": [
              "2007    686\n",
              "2009    644\n",
              "2006    621\n",
              "2008    613\n",
              "2010    340\n",
              "Name: Yr_Sold, dtype: int64"
            ]
          },
          "metadata": {
            "tags": []
          },
          "execution_count": 585
        }
      ]
    },
    {
      "cell_type": "code",
      "metadata": {
        "id": "8Pe24vEPBEUg",
        "colab_type": "code",
        "colab": {
          "base_uri": "https://localhost:8080/",
          "height": 221
        },
        "outputId": "a61f484a-b0a8-498c-f382-94526476852d"
      },
      "source": [
        "cond_2009_Temptrain = ames_select_df[\"Yr_Sold\"] <= 2009\n",
        "cond_2009_Temptrain"
      ],
      "execution_count": 586,
      "outputs": [
        {
          "output_type": "execute_result",
          "data": {
            "text/plain": [
              "0       False\n",
              "1       False\n",
              "2       False\n",
              "3       False\n",
              "4       False\n",
              "        ...  \n",
              "2899     True\n",
              "2900     True\n",
              "2901     True\n",
              "2902     True\n",
              "2903     True\n",
              "Name: Yr_Sold, Length: 2904, dtype: bool"
            ]
          },
          "metadata": {
            "tags": []
          },
          "execution_count": 586
        }
      ]
    },
    {
      "cell_type": "code",
      "metadata": {
        "id": "Bubs-2I1Bl0l",
        "colab_type": "code",
        "colab": {}
      },
      "source": [
        "#split out the (train + val) from test\n",
        "X_train, y_train = ames_select_df.loc[cond_2009_Temptrain], y_target.loc[cond_2009_Temptrain]\n",
        "X_test, y_test = ames_select_df.loc[~cond_2009_Temptrain], y_target.loc[~cond_2009_Temptrain]"
      ],
      "execution_count": 587,
      "outputs": []
    },
    {
      "cell_type": "code",
      "metadata": {
        "id": "5yxJpW1XB2mX",
        "colab_type": "code",
        "colab": {
          "base_uri": "https://localhost:8080/",
          "height": 68
        },
        "outputId": "0904a371-bc83-4641-ae4e-b93cc19db96a"
      },
      "source": [
        "print(ames_select_df.shape)\n",
        "\n",
        "print(X_train.shape)\n",
        "print(X_test.shape)"
      ],
      "execution_count": 588,
      "outputs": [
        {
          "output_type": "stream",
          "text": [
            "(2904, 42)\n",
            "(2564, 42)\n",
            "(340, 42)\n"
          ],
          "name": "stdout"
        }
      ]
    },
    {
      "cell_type": "code",
      "metadata": {
        "id": "-NXbuecHCHMu",
        "colab_type": "code",
        "colab": {
          "base_uri": "https://localhost:8080/",
          "height": 68
        },
        "outputId": "5579b814-544c-4868-9c43-e4ebcd1ebaa3"
      },
      "source": [
        "print(y_target.shape)\n",
        "print(y_train.shape)\n",
        "\n",
        "print(y_test.shape)"
      ],
      "execution_count": 589,
      "outputs": [
        {
          "output_type": "stream",
          "text": [
            "(2904, 1)\n",
            "(2564, 1)\n",
            "(340, 1)\n"
          ],
          "name": "stdout"
        }
      ]
    },
    {
      "cell_type": "code",
      "metadata": {
        "id": "IOeAtWJwCPq2",
        "colab_type": "code",
        "colab": {
          "base_uri": "https://localhost:8080/",
          "height": 221
        },
        "outputId": "59672538-7835-4541-8631-fa20f60e93fb"
      },
      "source": [
        "# now seperate the train from validation for use\n",
        "cond_2009_val = X_train[\"Yr_Sold\"] == 2009\n",
        "cond_2009_val"
      ],
      "execution_count": 590,
      "outputs": [
        {
          "output_type": "execute_result",
          "data": {
            "text/plain": [
              "340      True\n",
              "341      True\n",
              "342      True\n",
              "343      True\n",
              "344      True\n",
              "        ...  \n",
              "2899    False\n",
              "2900    False\n",
              "2901    False\n",
              "2902    False\n",
              "2903    False\n",
              "Name: Yr_Sold, Length: 2564, dtype: bool"
            ]
          },
          "metadata": {
            "tags": []
          },
          "execution_count": 590
        }
      ]
    },
    {
      "cell_type": "code",
      "metadata": {
        "id": "REsz-l7kCzSa",
        "colab_type": "code",
        "colab": {
          "base_uri": "https://localhost:8080/",
          "height": 221
        },
        "outputId": "8a794c74-24d8-4c19-bbe7-59f26009297c"
      },
      "source": [
        "cond_less2009_train = X_train[\"Yr_Sold\"] < 2009\n",
        "cond_less2009_train"
      ],
      "execution_count": 591,
      "outputs": [
        {
          "output_type": "execute_result",
          "data": {
            "text/plain": [
              "340     False\n",
              "341     False\n",
              "342     False\n",
              "343     False\n",
              "344     False\n",
              "        ...  \n",
              "2899     True\n",
              "2900     True\n",
              "2901     True\n",
              "2902     True\n",
              "2903     True\n",
              "Name: Yr_Sold, Length: 2564, dtype: bool"
            ]
          },
          "metadata": {
            "tags": []
          },
          "execution_count": 591
        }
      ]
    },
    {
      "cell_type": "code",
      "metadata": {
        "id": "JVMIHs_vDMf6",
        "colab_type": "code",
        "colab": {}
      },
      "source": [
        "X_val, y_val = X_train.loc[cond_2009_val], y_train.loc[cond_2009_val]\n",
        "X_train, y_train = X_train.loc[cond_less2009_train], y_train.loc[cond_less2009_train]\n"
      ],
      "execution_count": 592,
      "outputs": []
    },
    {
      "cell_type": "code",
      "metadata": {
        "id": "ASLz-uX7NGPs",
        "colab_type": "code",
        "colab": {
          "base_uri": "https://localhost:8080/",
          "height": 85
        },
        "outputId": "542c4aae-c382-4d54-962b-ebca2575a58c"
      },
      "source": [
        "# I've already gone INSANE but sanity check anyway...\n",
        "print(ames_select_df.shape)\n",
        "print(X_train.shape)\n",
        "print(X_val.shape)\n",
        "print(X_test.shape)"
      ],
      "execution_count": 593,
      "outputs": [
        {
          "output_type": "stream",
          "text": [
            "(2904, 42)\n",
            "(1920, 42)\n",
            "(644, 42)\n",
            "(340, 42)\n"
          ],
          "name": "stdout"
        }
      ]
    },
    {
      "cell_type": "code",
      "metadata": {
        "id": "xMZsypikOiv6",
        "colab_type": "code",
        "colab": {
          "base_uri": "https://localhost:8080/",
          "height": 85
        },
        "outputId": "6a7867d0-e4d2-456d-d2d9-faab1a2d0e3c"
      },
      "source": [
        "print(ames_select_df.shape)\n",
        "print(y_train.shape)\n",
        "print(y_val.shape)\n",
        "print(y_test.shape)"
      ],
      "execution_count": 594,
      "outputs": [
        {
          "output_type": "stream",
          "text": [
            "(2904, 42)\n",
            "(1920, 1)\n",
            "(644, 1)\n",
            "(340, 1)\n"
          ],
          "name": "stdout"
        }
      ]
    },
    {
      "cell_type": "code",
      "metadata": {
        "id": "fV11_BlLNbnt",
        "colab_type": "code",
        "colab": {}
      },
      "source": [
        ""
      ],
      "execution_count": 594,
      "outputs": []
    },
    {
      "cell_type": "markdown",
      "metadata": {
        "colab_type": "text",
        "id": "hk1bYDJy6txq"
      },
      "source": [
        "## 2.3. Arrange data into X features matrix and y target vector\n",
        "\n",
        "Select at least one numeric feature and at least one categorical feature.\n",
        "\n",
        "Otherwise, you may choose whichever features and however many you want."
      ]
    },
    {
      "cell_type": "code",
      "metadata": {
        "id": "PcDPqoiUPTLa",
        "colab_type": "code",
        "colab": {
          "base_uri": "https://localhost:8080/",
          "height": 204
        },
        "outputId": "57600824-d12a-4274-fe5b-ec20442465ff"
      },
      "source": [
        "X_train.columns"
      ],
      "execution_count": 595,
      "outputs": [
        {
          "output_type": "execute_result",
          "data": {
            "text/plain": [
              "Index(['1st_Flr_SF', 'Bldg_Type', 'Bsmt_Full_Bath', 'Bsmt_Half_Bath',\n",
              "       'Central_Air', 'Condition_1', 'Condition_2', 'Electrical',\n",
              "       'Exterior_1st', 'Exterior_2nd', 'Foundation', 'Full_Bath', 'Functional',\n",
              "       'Gr_Liv_Area', 'Half_Bath', 'Heating', 'Heating_QC', 'House_Style',\n",
              "       'Kitchen_Qual', 'Land_Contour', 'Land_Slope', 'Lot_Area', 'Lot_Config',\n",
              "       'Lot_Shape', 'MS_SubClass', 'MS_Zoning', 'Mas_Vnr_Type', 'Mo_Sold',\n",
              "       'Neighborhood', 'Overall_Cond', 'Paved_Drive', 'Roof_Matl',\n",
              "       'Roof_Style', 'SalePrice', 'Sale_Condition', 'Sale_Type', 'Street',\n",
              "       'TotRms_AbvGrd', 'Utilities', 'Year_Built', 'Year_Remod/Add',\n",
              "       'Yr_Sold'],\n",
              "      dtype='object')"
            ]
          },
          "metadata": {
            "tags": []
          },
          "execution_count": 595
        }
      ]
    },
    {
      "cell_type": "code",
      "metadata": {
        "id": "XAnIvKKtPZcl",
        "colab_type": "code",
        "colab": {}
      },
      "source": [
        ""
      ],
      "execution_count": 595,
      "outputs": []
    },
    {
      "cell_type": "code",
      "metadata": {
        "colab_type": "code",
        "id": "JQf9iwzf_uWh",
        "colab": {}
      },
      "source": [
        "# ok drop the price and stuff from the X_ ones\n",
        "X_train = X_train.drop(labels= ['Yr_Sold', 'SalePrice'], axis=1)"
      ],
      "execution_count": 596,
      "outputs": []
    },
    {
      "cell_type": "code",
      "metadata": {
        "id": "vRhovGsMPk4E",
        "colab_type": "code",
        "colab": {
          "base_uri": "https://localhost:8080/",
          "height": 34
        },
        "outputId": "f1b9228a-74ce-4e55-b45b-58835c10a7da"
      },
      "source": [
        "X_train.shape"
      ],
      "execution_count": 597,
      "outputs": [
        {
          "output_type": "execute_result",
          "data": {
            "text/plain": [
              "(1920, 40)"
            ]
          },
          "metadata": {
            "tags": []
          },
          "execution_count": 597
        }
      ]
    },
    {
      "cell_type": "code",
      "metadata": {
        "id": "zPzPayjvPsoz",
        "colab_type": "code",
        "colab": {}
      },
      "source": [
        "X_val = X_val.drop(labels= ['Yr_Sold', 'SalePrice'], axis=1)\n",
        "X_test = X_test.drop(labels= ['Yr_Sold', 'SalePrice'], axis=1)"
      ],
      "execution_count": 598,
      "outputs": []
    },
    {
      "cell_type": "code",
      "metadata": {
        "id": "NpoBEVgWQDYY",
        "colab_type": "code",
        "colab": {}
      },
      "source": [
        ""
      ],
      "execution_count": 598,
      "outputs": []
    },
    {
      "cell_type": "code",
      "metadata": {
        "id": "sAJ4lPAaWc4Z",
        "colab_type": "code",
        "colab": {}
      },
      "source": [
        "# make it just continuous.. \n",
        "X_train1 = X_train.loc[:, ['1st_Flr_SF', \"Mo_Sold\"]]\n",
        "X_val1 = X_val.loc[:, ['1st_Flr_SF', \"Mo_Sold\"] ]\n"
      ],
      "execution_count": 599,
      "outputs": []
    },
    {
      "cell_type": "markdown",
      "metadata": {
        "colab_type": "text",
        "id": "zDT-gSl_-Gwh"
      },
      "source": [
        "## 2.4. Do one-hot encoding\n",
        "\n",
        "Encode your categorical feature(s)."
      ]
    },
    {
      "cell_type": "code",
      "metadata": {
        "colab_type": "code",
        "id": "iqRywy6M7Jcr",
        "colab": {}
      },
      "source": [
        "#Instantiate the Transformer\n",
        "encoder = ce.OneHotEncoder(cols= [\"Mo_Sold\"], use_cat_names=True)\n",
        "\n",
        "# fit and Transform the training data  \n",
        "XT_train1 = encoder.fit_transform(X_train1)\n",
        "\n",
        "# don't fit the validation data\n",
        "XT_val1 = encoder.transform(X_val1)"
      ],
      "execution_count": 600,
      "outputs": []
    },
    {
      "cell_type": "code",
      "metadata": {
        "id": "6prbillcRm_o",
        "colab_type": "code",
        "colab": {}
      },
      "source": [
        ""
      ],
      "execution_count": 442,
      "outputs": []
    },
    {
      "cell_type": "code",
      "metadata": {
        "id": "rAfso9luRdfL",
        "colab_type": "code",
        "colab": {
          "base_uri": "https://localhost:8080/",
          "height": 34
        },
        "outputId": "721be09b-58b7-4506-af08-240793d14cd4"
      },
      "source": [
        "#it's an ugly one, but I don't have time...\n",
        "XT_train1.shape"
      ],
      "execution_count": 601,
      "outputs": [
        {
          "output_type": "execute_result",
          "data": {
            "text/plain": [
              "(1920, 13)"
            ]
          },
          "metadata": {
            "tags": []
          },
          "execution_count": 601
        }
      ]
    },
    {
      "cell_type": "code",
      "metadata": {
        "id": "2mCsaP3TRlDk",
        "colab_type": "code",
        "colab": {
          "base_uri": "https://localhost:8080/",
          "height": 224
        },
        "outputId": "b1d98b8d-9c32-41ca-bd1f-8fec7414e295"
      },
      "source": [
        "XT_train1.head()"
      ],
      "execution_count": 602,
      "outputs": [
        {
          "output_type": "execute_result",
          "data": {
            "text/html": [
              "<div>\n",
              "<style scoped>\n",
              "    .dataframe tbody tr th:only-of-type {\n",
              "        vertical-align: middle;\n",
              "    }\n",
              "\n",
              "    .dataframe tbody tr th {\n",
              "        vertical-align: top;\n",
              "    }\n",
              "\n",
              "    .dataframe thead th {\n",
              "        text-align: right;\n",
              "    }\n",
              "</style>\n",
              "<table border=\"1\" class=\"dataframe\">\n",
              "  <thead>\n",
              "    <tr style=\"text-align: right;\">\n",
              "      <th></th>\n",
              "      <th>1st_Flr_SF</th>\n",
              "      <th>Mo_Sold_5.0</th>\n",
              "      <th>Mo_Sold_6.0</th>\n",
              "      <th>Mo_Sold_4.0</th>\n",
              "      <th>Mo_Sold_10.0</th>\n",
              "      <th>Mo_Sold_7.0</th>\n",
              "      <th>Mo_Sold_11.0</th>\n",
              "      <th>Mo_Sold_8.0</th>\n",
              "      <th>Mo_Sold_9.0</th>\n",
              "      <th>Mo_Sold_3.0</th>\n",
              "      <th>Mo_Sold_12.0</th>\n",
              "      <th>Mo_Sold_2.0</th>\n",
              "      <th>Mo_Sold_1.0</th>\n",
              "    </tr>\n",
              "  </thead>\n",
              "  <tbody>\n",
              "    <tr>\n",
              "      <th>984</th>\n",
              "      <td>1414</td>\n",
              "      <td>1</td>\n",
              "      <td>0</td>\n",
              "      <td>0</td>\n",
              "      <td>0</td>\n",
              "      <td>0</td>\n",
              "      <td>0</td>\n",
              "      <td>0</td>\n",
              "      <td>0</td>\n",
              "      <td>0</td>\n",
              "      <td>0</td>\n",
              "      <td>0</td>\n",
              "      <td>0</td>\n",
              "    </tr>\n",
              "    <tr>\n",
              "      <th>985</th>\n",
              "      <td>2117</td>\n",
              "      <td>1</td>\n",
              "      <td>0</td>\n",
              "      <td>0</td>\n",
              "      <td>0</td>\n",
              "      <td>0</td>\n",
              "      <td>0</td>\n",
              "      <td>0</td>\n",
              "      <td>0</td>\n",
              "      <td>0</td>\n",
              "      <td>0</td>\n",
              "      <td>0</td>\n",
              "      <td>0</td>\n",
              "    </tr>\n",
              "    <tr>\n",
              "      <th>986</th>\n",
              "      <td>1092</td>\n",
              "      <td>0</td>\n",
              "      <td>1</td>\n",
              "      <td>0</td>\n",
              "      <td>0</td>\n",
              "      <td>0</td>\n",
              "      <td>0</td>\n",
              "      <td>0</td>\n",
              "      <td>0</td>\n",
              "      <td>0</td>\n",
              "      <td>0</td>\n",
              "      <td>0</td>\n",
              "      <td>0</td>\n",
              "    </tr>\n",
              "    <tr>\n",
              "      <th>987</th>\n",
              "      <td>926</td>\n",
              "      <td>0</td>\n",
              "      <td>0</td>\n",
              "      <td>1</td>\n",
              "      <td>0</td>\n",
              "      <td>0</td>\n",
              "      <td>0</td>\n",
              "      <td>0</td>\n",
              "      <td>0</td>\n",
              "      <td>0</td>\n",
              "      <td>0</td>\n",
              "      <td>0</td>\n",
              "      <td>0</td>\n",
              "    </tr>\n",
              "    <tr>\n",
              "      <th>988</th>\n",
              "      <td>680</td>\n",
              "      <td>0</td>\n",
              "      <td>0</td>\n",
              "      <td>0</td>\n",
              "      <td>1</td>\n",
              "      <td>0</td>\n",
              "      <td>0</td>\n",
              "      <td>0</td>\n",
              "      <td>0</td>\n",
              "      <td>0</td>\n",
              "      <td>0</td>\n",
              "      <td>0</td>\n",
              "      <td>0</td>\n",
              "    </tr>\n",
              "  </tbody>\n",
              "</table>\n",
              "</div>"
            ],
            "text/plain": [
              "     1st_Flr_SF  Mo_Sold_5.0  Mo_Sold_6.0  Mo_Sold_4.0  Mo_Sold_10.0  \\\n",
              "984        1414            1            0            0             0   \n",
              "985        2117            1            0            0             0   \n",
              "986        1092            0            1            0             0   \n",
              "987         926            0            0            1             0   \n",
              "988         680            0            0            0             1   \n",
              "\n",
              "     Mo_Sold_7.0  Mo_Sold_11.0  Mo_Sold_8.0  Mo_Sold_9.0  Mo_Sold_3.0  \\\n",
              "984            0             0            0            0            0   \n",
              "985            0             0            0            0            0   \n",
              "986            0             0            0            0            0   \n",
              "987            0             0            0            0            0   \n",
              "988            0             0            0            0            0   \n",
              "\n",
              "     Mo_Sold_12.0  Mo_Sold_2.0  Mo_Sold_1.0  \n",
              "984             0            0            0  \n",
              "985             0            0            0  \n",
              "986             0            0            0  \n",
              "987             0            0            0  \n",
              "988             0            0            0  "
            ]
          },
          "metadata": {
            "tags": []
          },
          "execution_count": 602
        }
      ]
    },
    {
      "cell_type": "code",
      "metadata": {
        "id": "xZquOLT6YIdo",
        "colab_type": "code",
        "colab": {
          "base_uri": "https://localhost:8080/",
          "height": 224
        },
        "outputId": "5ef2827e-deab-40af-863e-34b5b1420589"
      },
      "source": [
        "X_test.head()"
      ],
      "execution_count": 603,
      "outputs": [
        {
          "output_type": "execute_result",
          "data": {
            "text/html": [
              "<div>\n",
              "<style scoped>\n",
              "    .dataframe tbody tr th:only-of-type {\n",
              "        vertical-align: middle;\n",
              "    }\n",
              "\n",
              "    .dataframe tbody tr th {\n",
              "        vertical-align: top;\n",
              "    }\n",
              "\n",
              "    .dataframe thead th {\n",
              "        text-align: right;\n",
              "    }\n",
              "</style>\n",
              "<table border=\"1\" class=\"dataframe\">\n",
              "  <thead>\n",
              "    <tr style=\"text-align: right;\">\n",
              "      <th></th>\n",
              "      <th>1st_Flr_SF</th>\n",
              "      <th>Bldg_Type</th>\n",
              "      <th>Bsmt_Full_Bath</th>\n",
              "      <th>Bsmt_Half_Bath</th>\n",
              "      <th>Central_Air</th>\n",
              "      <th>Condition_1</th>\n",
              "      <th>Condition_2</th>\n",
              "      <th>Electrical</th>\n",
              "      <th>Exterior_1st</th>\n",
              "      <th>Exterior_2nd</th>\n",
              "      <th>Foundation</th>\n",
              "      <th>Full_Bath</th>\n",
              "      <th>Functional</th>\n",
              "      <th>Gr_Liv_Area</th>\n",
              "      <th>Half_Bath</th>\n",
              "      <th>Heating</th>\n",
              "      <th>Heating_QC</th>\n",
              "      <th>House_Style</th>\n",
              "      <th>Kitchen_Qual</th>\n",
              "      <th>Land_Contour</th>\n",
              "      <th>Land_Slope</th>\n",
              "      <th>Lot_Area</th>\n",
              "      <th>Lot_Config</th>\n",
              "      <th>Lot_Shape</th>\n",
              "      <th>MS_SubClass</th>\n",
              "      <th>MS_Zoning</th>\n",
              "      <th>Mas_Vnr_Type</th>\n",
              "      <th>Mo_Sold</th>\n",
              "      <th>Neighborhood</th>\n",
              "      <th>Overall_Cond</th>\n",
              "      <th>Paved_Drive</th>\n",
              "      <th>Roof_Matl</th>\n",
              "      <th>Roof_Style</th>\n",
              "      <th>Sale_Condition</th>\n",
              "      <th>Sale_Type</th>\n",
              "      <th>Street</th>\n",
              "      <th>TotRms_AbvGrd</th>\n",
              "      <th>Utilities</th>\n",
              "      <th>Year_Built</th>\n",
              "      <th>Year_Remod/Add</th>\n",
              "    </tr>\n",
              "  </thead>\n",
              "  <tbody>\n",
              "    <tr>\n",
              "      <th>0</th>\n",
              "      <td>1656</td>\n",
              "      <td>1Fam</td>\n",
              "      <td>1.0</td>\n",
              "      <td>0.0</td>\n",
              "      <td>Y</td>\n",
              "      <td>Norm</td>\n",
              "      <td>Norm</td>\n",
              "      <td>SBrkr</td>\n",
              "      <td>BrkFace</td>\n",
              "      <td>Plywood</td>\n",
              "      <td>CBlock</td>\n",
              "      <td>1</td>\n",
              "      <td>Typ</td>\n",
              "      <td>1656</td>\n",
              "      <td>0</td>\n",
              "      <td>GasA</td>\n",
              "      <td>Fa</td>\n",
              "      <td>1Story</td>\n",
              "      <td>TA</td>\n",
              "      <td>Lvl</td>\n",
              "      <td>Gtl</td>\n",
              "      <td>31770</td>\n",
              "      <td>Corner</td>\n",
              "      <td>IR1</td>\n",
              "      <td>20</td>\n",
              "      <td>RL</td>\n",
              "      <td>Stone</td>\n",
              "      <td>5</td>\n",
              "      <td>NAmes</td>\n",
              "      <td>5</td>\n",
              "      <td>P</td>\n",
              "      <td>CompShg</td>\n",
              "      <td>Hip</td>\n",
              "      <td>Normal</td>\n",
              "      <td>WD</td>\n",
              "      <td>Pave</td>\n",
              "      <td>7</td>\n",
              "      <td>AllPub</td>\n",
              "      <td>1960</td>\n",
              "      <td>1960</td>\n",
              "    </tr>\n",
              "    <tr>\n",
              "      <th>1</th>\n",
              "      <td>896</td>\n",
              "      <td>1Fam</td>\n",
              "      <td>0.0</td>\n",
              "      <td>0.0</td>\n",
              "      <td>Y</td>\n",
              "      <td>Feedr</td>\n",
              "      <td>Norm</td>\n",
              "      <td>SBrkr</td>\n",
              "      <td>VinylSd</td>\n",
              "      <td>VinylSd</td>\n",
              "      <td>CBlock</td>\n",
              "      <td>1</td>\n",
              "      <td>Typ</td>\n",
              "      <td>896</td>\n",
              "      <td>0</td>\n",
              "      <td>GasA</td>\n",
              "      <td>TA</td>\n",
              "      <td>1Story</td>\n",
              "      <td>TA</td>\n",
              "      <td>Lvl</td>\n",
              "      <td>Gtl</td>\n",
              "      <td>11622</td>\n",
              "      <td>Inside</td>\n",
              "      <td>Reg</td>\n",
              "      <td>20</td>\n",
              "      <td>RH</td>\n",
              "      <td>None</td>\n",
              "      <td>6</td>\n",
              "      <td>NAmes</td>\n",
              "      <td>6</td>\n",
              "      <td>Y</td>\n",
              "      <td>CompShg</td>\n",
              "      <td>Gable</td>\n",
              "      <td>Normal</td>\n",
              "      <td>WD</td>\n",
              "      <td>Pave</td>\n",
              "      <td>5</td>\n",
              "      <td>AllPub</td>\n",
              "      <td>1961</td>\n",
              "      <td>1961</td>\n",
              "    </tr>\n",
              "    <tr>\n",
              "      <th>2</th>\n",
              "      <td>1329</td>\n",
              "      <td>1Fam</td>\n",
              "      <td>0.0</td>\n",
              "      <td>0.0</td>\n",
              "      <td>Y</td>\n",
              "      <td>Norm</td>\n",
              "      <td>Norm</td>\n",
              "      <td>SBrkr</td>\n",
              "      <td>Wd Sdng</td>\n",
              "      <td>Wd Sdng</td>\n",
              "      <td>CBlock</td>\n",
              "      <td>1</td>\n",
              "      <td>Typ</td>\n",
              "      <td>1329</td>\n",
              "      <td>1</td>\n",
              "      <td>GasA</td>\n",
              "      <td>TA</td>\n",
              "      <td>1Story</td>\n",
              "      <td>Gd</td>\n",
              "      <td>Lvl</td>\n",
              "      <td>Gtl</td>\n",
              "      <td>14267</td>\n",
              "      <td>Corner</td>\n",
              "      <td>IR1</td>\n",
              "      <td>20</td>\n",
              "      <td>RL</td>\n",
              "      <td>BrkFace</td>\n",
              "      <td>6</td>\n",
              "      <td>NAmes</td>\n",
              "      <td>6</td>\n",
              "      <td>Y</td>\n",
              "      <td>CompShg</td>\n",
              "      <td>Hip</td>\n",
              "      <td>Normal</td>\n",
              "      <td>WD</td>\n",
              "      <td>Pave</td>\n",
              "      <td>6</td>\n",
              "      <td>AllPub</td>\n",
              "      <td>1958</td>\n",
              "      <td>1958</td>\n",
              "    </tr>\n",
              "    <tr>\n",
              "      <th>3</th>\n",
              "      <td>2110</td>\n",
              "      <td>1Fam</td>\n",
              "      <td>1.0</td>\n",
              "      <td>0.0</td>\n",
              "      <td>Y</td>\n",
              "      <td>Norm</td>\n",
              "      <td>Norm</td>\n",
              "      <td>SBrkr</td>\n",
              "      <td>BrkFace</td>\n",
              "      <td>BrkFace</td>\n",
              "      <td>CBlock</td>\n",
              "      <td>2</td>\n",
              "      <td>Typ</td>\n",
              "      <td>2110</td>\n",
              "      <td>1</td>\n",
              "      <td>GasA</td>\n",
              "      <td>Ex</td>\n",
              "      <td>1Story</td>\n",
              "      <td>Ex</td>\n",
              "      <td>Lvl</td>\n",
              "      <td>Gtl</td>\n",
              "      <td>11160</td>\n",
              "      <td>Corner</td>\n",
              "      <td>Reg</td>\n",
              "      <td>20</td>\n",
              "      <td>RL</td>\n",
              "      <td>None</td>\n",
              "      <td>4</td>\n",
              "      <td>NAmes</td>\n",
              "      <td>5</td>\n",
              "      <td>Y</td>\n",
              "      <td>CompShg</td>\n",
              "      <td>Hip</td>\n",
              "      <td>Normal</td>\n",
              "      <td>WD</td>\n",
              "      <td>Pave</td>\n",
              "      <td>8</td>\n",
              "      <td>AllPub</td>\n",
              "      <td>1968</td>\n",
              "      <td>1968</td>\n",
              "    </tr>\n",
              "    <tr>\n",
              "      <th>4</th>\n",
              "      <td>928</td>\n",
              "      <td>1Fam</td>\n",
              "      <td>0.0</td>\n",
              "      <td>0.0</td>\n",
              "      <td>Y</td>\n",
              "      <td>Norm</td>\n",
              "      <td>Norm</td>\n",
              "      <td>SBrkr</td>\n",
              "      <td>VinylSd</td>\n",
              "      <td>VinylSd</td>\n",
              "      <td>PConc</td>\n",
              "      <td>2</td>\n",
              "      <td>Typ</td>\n",
              "      <td>1629</td>\n",
              "      <td>1</td>\n",
              "      <td>GasA</td>\n",
              "      <td>Gd</td>\n",
              "      <td>2Story</td>\n",
              "      <td>TA</td>\n",
              "      <td>Lvl</td>\n",
              "      <td>Gtl</td>\n",
              "      <td>13830</td>\n",
              "      <td>Inside</td>\n",
              "      <td>IR1</td>\n",
              "      <td>60</td>\n",
              "      <td>RL</td>\n",
              "      <td>None</td>\n",
              "      <td>3</td>\n",
              "      <td>Gilbert</td>\n",
              "      <td>5</td>\n",
              "      <td>Y</td>\n",
              "      <td>CompShg</td>\n",
              "      <td>Gable</td>\n",
              "      <td>Normal</td>\n",
              "      <td>WD</td>\n",
              "      <td>Pave</td>\n",
              "      <td>6</td>\n",
              "      <td>AllPub</td>\n",
              "      <td>1997</td>\n",
              "      <td>1998</td>\n",
              "    </tr>\n",
              "  </tbody>\n",
              "</table>\n",
              "</div>"
            ],
            "text/plain": [
              "   1st_Flr_SF Bldg_Type  Bsmt_Full_Bath  Bsmt_Half_Bath Central_Air  \\\n",
              "0        1656      1Fam             1.0             0.0           Y   \n",
              "1         896      1Fam             0.0             0.0           Y   \n",
              "2        1329      1Fam             0.0             0.0           Y   \n",
              "3        2110      1Fam             1.0             0.0           Y   \n",
              "4         928      1Fam             0.0             0.0           Y   \n",
              "\n",
              "  Condition_1 Condition_2 Electrical Exterior_1st Exterior_2nd Foundation  \\\n",
              "0        Norm        Norm      SBrkr      BrkFace      Plywood     CBlock   \n",
              "1       Feedr        Norm      SBrkr      VinylSd      VinylSd     CBlock   \n",
              "2        Norm        Norm      SBrkr      Wd Sdng      Wd Sdng     CBlock   \n",
              "3        Norm        Norm      SBrkr      BrkFace      BrkFace     CBlock   \n",
              "4        Norm        Norm      SBrkr      VinylSd      VinylSd      PConc   \n",
              "\n",
              "   Full_Bath Functional  Gr_Liv_Area  Half_Bath Heating Heating_QC  \\\n",
              "0          1        Typ         1656          0    GasA         Fa   \n",
              "1          1        Typ          896          0    GasA         TA   \n",
              "2          1        Typ         1329          1    GasA         TA   \n",
              "3          2        Typ         2110          1    GasA         Ex   \n",
              "4          2        Typ         1629          1    GasA         Gd   \n",
              "\n",
              "  House_Style Kitchen_Qual Land_Contour Land_Slope  Lot_Area Lot_Config  \\\n",
              "0      1Story           TA          Lvl        Gtl     31770     Corner   \n",
              "1      1Story           TA          Lvl        Gtl     11622     Inside   \n",
              "2      1Story           Gd          Lvl        Gtl     14267     Corner   \n",
              "3      1Story           Ex          Lvl        Gtl     11160     Corner   \n",
              "4      2Story           TA          Lvl        Gtl     13830     Inside   \n",
              "\n",
              "  Lot_Shape MS_SubClass MS_Zoning Mas_Vnr_Type Mo_Sold Neighborhood  \\\n",
              "0       IR1          20        RL        Stone       5        NAmes   \n",
              "1       Reg          20        RH         None       6        NAmes   \n",
              "2       IR1          20        RL      BrkFace       6        NAmes   \n",
              "3       Reg          20        RL         None       4        NAmes   \n",
              "4       IR1          60        RL         None       3      Gilbert   \n",
              "\n",
              "  Overall_Cond Paved_Drive Roof_Matl Roof_Style Sale_Condition Sale_Type  \\\n",
              "0            5           P   CompShg        Hip         Normal       WD    \n",
              "1            6           Y   CompShg      Gable         Normal       WD    \n",
              "2            6           Y   CompShg        Hip         Normal       WD    \n",
              "3            5           Y   CompShg        Hip         Normal       WD    \n",
              "4            5           Y   CompShg      Gable         Normal       WD    \n",
              "\n",
              "  Street  TotRms_AbvGrd Utilities  Year_Built  Year_Remod/Add  \n",
              "0   Pave              7    AllPub        1960            1960  \n",
              "1   Pave              5    AllPub        1961            1961  \n",
              "2   Pave              6    AllPub        1958            1958  \n",
              "3   Pave              8    AllPub        1968            1968  \n",
              "4   Pave              6    AllPub        1997            1998  "
            ]
          },
          "metadata": {
            "tags": []
          },
          "execution_count": 603
        }
      ]
    },
    {
      "cell_type": "code",
      "metadata": {
        "id": "YiLpCseBYMbP",
        "colab_type": "code",
        "colab": {}
      },
      "source": [
        ""
      ],
      "execution_count": null,
      "outputs": []
    },
    {
      "cell_type": "code",
      "metadata": {
        "id": "zcV9FFhfRhUb",
        "colab_type": "code",
        "colab": {}
      },
      "source": [
        ""
      ],
      "execution_count": 443,
      "outputs": []
    },
    {
      "cell_type": "markdown",
      "metadata": {
        "colab_type": "text",
        "id": "2ZceruUx-Vs-"
      },
      "source": [
        "## 2.5. Use scikit-learn to fit a linear regression or ridge regression model\n",
        "Fit your model."
      ]
    },
    {
      "cell_type": "markdown",
      "metadata": {
        "id": "nTw8V1qERxqS",
        "colab_type": "text"
      },
      "source": [
        "### Will use my function to see if it's faster...\n"
      ]
    },
    {
      "cell_type": "code",
      "metadata": {
        "id": "fzzrV__bRw3Y",
        "colab_type": "code",
        "colab": {}
      },
      "source": [
        "def linear_regress_predict(X_train, y_train, X_val, y_val, correlate):\n",
        "\n",
        "  # X_matrix and y_target\n",
        "  #  \n",
        "  # have already split it...\n",
        "  \n",
        "  # then it need to instantiate a linear regression object\n",
        "  lr = LinearRegression()\n",
        "\n",
        "# then it should fit the model to the trainig data\n",
        "  lr.fit(X_train, y_train)\n",
        "\n",
        "  # Then it can make predictions and store them as named tuples:\n",
        "  # training_MAE, testing_MAE, response_variable\n",
        "  # now make the predictions\n",
        "\n",
        "  response_variable = lr.predict([correlate])\n",
        "  response_var_column = lr.predict(X_train)\n",
        "\n",
        "  training_MAE = mean_absolute_error(y_train, lr.predict(X_train))\n",
        "  testing_MAE = mean_absolute_error(y_val, lr.predict(X_val))\n",
        "\n",
        "  # it can also return the coeffient and intercept\n",
        "  # coefficient, intercept \n",
        "\n",
        "  coefficient = lr.coef_\n",
        "  intercept = lr.intercept_\n",
        "\n",
        "  # I think we can also get RSME,  𝑅^2\n",
        "  model_rmse = mean_squared_error(y_train, response_var_column, squared=False)\n",
        "  model_r2 = r2_score(y_train, response_var_column)\n",
        "\n",
        "  model_prediction = namedtuple(\"prediction_info\", [\"response_variable\",\n",
        "                                                    \"training_MAE\", \"testing_MAE\",\n",
        "                                                    \"model_RMSE\", \"model_r2_score\",\n",
        "                                                    \"coefficient\", \n",
        "                                                    \"intercept\"])\n",
        "  return model_prediction(response_variable[0], training_MAE, testing_MAE,\n",
        "                          model_rmse, model_r2, coefficient, intercept)"
      ],
      "execution_count": 604,
      "outputs": []
    },
    {
      "cell_type": "code",
      "metadata": {
        "id": "WKQjXFXIXwTM",
        "colab_type": "code",
        "colab": {}
      },
      "source": [
        "test_correlate = X_val1.iloc[0,:]"
      ],
      "execution_count": 605,
      "outputs": []
    },
    {
      "cell_type": "code",
      "metadata": {
        "id": "SFehLD6fYB2R",
        "colab_type": "code",
        "colab": {}
      },
      "source": [
        ""
      ],
      "execution_count": null,
      "outputs": []
    },
    {
      "cell_type": "code",
      "metadata": {
        "colab_type": "code",
        "id": "Kvy4Z0xv7eJF",
        "colab": {}
      },
      "source": [
        "prediction = linear_regress_predict(X_train1, y_train, X_val1, y_val, test_correlate)"
      ],
      "execution_count": 607,
      "outputs": []
    },
    {
      "cell_type": "code",
      "metadata": {
        "id": "m1m7Bfj8Y0Ao",
        "colab_type": "code",
        "colab": {
          "base_uri": "https://localhost:8080/",
          "height": 136
        },
        "outputId": "f3dedbdc-061c-47ee-f5d7-33851bf43dce"
      },
      "source": [
        "print(f\"Prediction: {prediction.response_variable}\")\n",
        "\n",
        "print(f\"Model RMSE: {prediction.model_RMSE}\")\n",
        "print(f\"Model R^2: {prediction.model_r2_score}\")\n",
        "\n",
        "\n",
        "\n",
        "print(f\"Coefficient: {prediction.coefficient}\")\n",
        "print(f\"Intercept: {prediction.intercept}\")\n",
        "print(f\"Training MAE: {prediction.training_MAE}\")\n",
        "print(f\"Validation MAE: {prediction.testing_MAE}\")"
      ],
      "execution_count": 608,
      "outputs": [
        {
          "output_type": "stream",
          "text": [
            "Prediction: [149046.14290523]\n",
            "Model RMSE: 63767.49975390476\n",
            "Model R^2: 0.36782040722584985\n",
            "Coefficient: [[124.01290696 520.01694117]]\n",
            "Intercept: [34466.58955657]\n",
            "Training MAE: 46397.831535282814\n",
            "Validation MAE: 45974.05370688454\n"
          ],
          "name": "stdout"
        }
      ]
    },
    {
      "cell_type": "code",
      "metadata": {
        "id": "sKuGqLqnZdO8",
        "colab_type": "code",
        "colab": {
          "base_uri": "https://localhost:8080/",
          "height": 85
        },
        "outputId": "864b5797-ce54-42d9-d5eb-1b62798d51d1"
      },
      "source": [
        "print(f\"If we guessed: {nbaseline.guess}\")\n",
        "print(f\"Our MAE would be: {nbaseline.MAE}\")"
      ],
      "execution_count": 609,
      "outputs": [
        {
          "output_type": "stream",
          "text": [
            "If we guessed: SalePrice    180383.689738\n",
            "dtype: float64\n",
            "Our MAE would be: SalePrice    58149.927741\n",
            "dtype: float64\n"
          ],
          "name": "stdout"
        }
      ]
    },
    {
      "cell_type": "markdown",
      "metadata": {
        "id": "QigQ4XgBZiwX",
        "colab_type": "text"
      },
      "source": [
        "###So, this model does better than the baseline on average."
      ]
    },
    {
      "cell_type": "code",
      "metadata": {
        "id": "LBU9nN0BVon_",
        "colab_type": "code",
        "colab": {}
      },
      "source": [
        ""
      ],
      "execution_count": null,
      "outputs": []
    },
    {
      "cell_type": "markdown",
      "metadata": {
        "colab_type": "text",
        "id": "E9reASgw-i8T"
      },
      "source": [
        "## 2.6. Report validation MAE and $R^2$\n",
        "\n",
        "What is your model's Mean Absolute Error and $R^2$ score on the validation set? (You are not graded on how high or low your validation scores are.)"
      ]
    },
    {
      "cell_type": "code",
      "metadata": {
        "colab_type": "code",
        "id": "q8GdnL4e7hyK",
        "colab": {}
      },
      "source": [
        ""
      ],
      "execution_count": null,
      "outputs": []
    },
    {
      "cell_type": "markdown",
      "metadata": {
        "colab_type": "text",
        "id": "DidByDsrOa-o"
      },
      "source": [
        "# Stretch Goals, Regression\n",
        "- Make at least 2 visualizations to explore relationships between features and target. You may use any visualization library\n",
        "- Try at least 3 feature combinations. You may select features manually, or automatically\n",
        "- Report validation MAE and $R^2$ for each feature combination you try\n",
        "- Report test MAE and $R^2$ for your final model\n",
        "- Print or plot the coefficients for the features in your model"
      ]
    },
    {
      "cell_type": "code",
      "metadata": {
        "id": "FEpXzzfBfm_I",
        "colab_type": "code",
        "colab": {}
      },
      "source": [
        "some other combination"
      ],
      "execution_count": null,
      "outputs": []
    },
    {
      "cell_type": "code",
      "metadata": {
        "id": "siMvdKkWhcAP",
        "colab_type": "code",
        "colab": {}
      },
      "source": [
        ""
      ],
      "execution_count": null,
      "outputs": []
    },
    {
      "cell_type": "markdown",
      "metadata": {
        "id": "sMzEex3ffp7L",
        "colab_type": "text"
      },
      "source": [
        "## Some other combination\n",
        "\n",
        "### X_train2 = 'TotRms_AbvGrd' and 'Year_Built'\n",
        "\n",
        "\n",
        "### X_train3 = 'Overall_Cond' and 'Gr_Liv_Area'"
      ]
    },
    {
      "cell_type": "code",
      "metadata": {
        "id": "fQsZtoqChypL",
        "colab_type": "code",
        "colab": {}
      },
      "source": [
        "ames_homes_df.TotRms_AbvGrd.value_counts()\n"
      ],
      "execution_count": null,
      "outputs": []
    },
    {
      "cell_type": "code",
      "metadata": {
        "id": "5cQdwpfRiKwt",
        "colab_type": "code",
        "colab": {}
      },
      "source": [
        "ames_homes_df.Year_Built.value_counts() # will this work?"
      ],
      "execution_count": null,
      "outputs": []
    },
    {
      "cell_type": "code",
      "metadata": {
        "id": "Eby8JlcRiSKH",
        "colab_type": "code",
        "colab": {}
      },
      "source": [
        "ames_select_df.Overall_Cond.value_counts()"
      ],
      "execution_count": null,
      "outputs": []
    },
    {
      "cell_type": "code",
      "metadata": {
        "id": "5n8OqoV1isW0",
        "colab_type": "code",
        "colab": {}
      },
      "source": [
        "ames_select_df.Gr_Liv_Area.value_counts()"
      ],
      "execution_count": null,
      "outputs": []
    },
    {
      "cell_type": "code",
      "metadata": {
        "id": "BH4U4Yipi0cy",
        "colab_type": "code",
        "colab": {}
      },
      "source": [
        "X_train2 = X_train.loc[:, ['TotRms_AbvGrd' ,'Year_Built']]\n",
        "X_val2 = X_val.loc[:, ['TotRms_AbvGrd' ,'Year_Built'] ]"
      ],
      "execution_count": 616,
      "outputs": []
    },
    {
      "cell_type": "code",
      "metadata": {
        "id": "q_ZHhe1iiDxJ",
        "colab_type": "code",
        "colab": {}
      },
      "source": [
        "X_train3 = X_train.loc[:, ['Overall_Cond','Gr_Liv_Area']]\n",
        "X_val3 = X_val.loc[:, ['Overall_Cond','Gr_Liv_Area'] ]"
      ],
      "execution_count": 617,
      "outputs": []
    },
    {
      "cell_type": "code",
      "metadata": {
        "id": "Ip4pChGlh8Dq",
        "colab_type": "code",
        "colab": {}
      },
      "source": [
        "test_correlate2 = X_val2.iloc[0,:]\n",
        "test_correlate3 = X_val3.iloc[0,:]"
      ],
      "execution_count": 618,
      "outputs": []
    },
    {
      "cell_type": "markdown",
      "metadata": {
        "id": "PwiTh1l5k4Id",
        "colab_type": "text"
      },
      "source": [
        "## Combo 2 - 'TotRms_AbvGrd' and 'Year_Built' is the **Best Model of the three.**"
      ]
    },
    {
      "cell_type": "code",
      "metadata": {
        "id": "pvFqcm6nh6Cs",
        "colab_type": "code",
        "colab": {}
      },
      "source": [
        "prediction2 = linear_regress_predict(X_train2, y_train, X_val2, y_val, test_correlate2)"
      ],
      "execution_count": 623,
      "outputs": []
    },
    {
      "cell_type": "code",
      "metadata": {
        "id": "S_CnDxNxj2-5",
        "colab_type": "code",
        "colab": {
          "base_uri": "https://localhost:8080/",
          "height": 136
        },
        "outputId": "6145fb5c-cfbd-4286-9f0c-e7504c5dbc2e"
      },
      "source": [
        "print(f\"Prediction: {prediction2.response_variable}\")\n",
        "\n",
        "print(f\"Model RMSE: {prediction2.model_RMSE}\")\n",
        "print(f\"Model R^2: {prediction2.model_r2_score}\")\n",
        "\n",
        "\n",
        "\n",
        "print(f\"Coefficient: {prediction2.coefficient}\")\n",
        "print(f\"Intercept: {prediction2.intercept}\")\n",
        "print(f\"Training MAE: {prediction2.training_MAE}\")\n",
        "print(f\"Validation MAE: {prediction2.testing_MAE}\")"
      ],
      "execution_count": 624,
      "outputs": [
        {
          "output_type": "stream",
          "text": [
            "Prediction: [128746.15949671]\n",
            "Model RMSE: 57434.78896620364\n",
            "Model R^2: 0.48714835438917103\n",
            "Coefficient: [[22730.1255667   1296.68704474]]\n",
            "Intercept: [-2521224.32785273]\n",
            "Training MAE: 39451.82670457275\n",
            "Validation MAE: 38252.574462634664\n"
          ],
          "name": "stdout"
        }
      ]
    },
    {
      "cell_type": "code",
      "metadata": {
        "id": "2yfpsTfMkXKU",
        "colab_type": "code",
        "colab": {
          "base_uri": "https://localhost:8080/",
          "height": 85
        },
        "outputId": "e507e0d1-cc24-4146-8fad-8c6f4a1e9ba6"
      },
      "source": [
        "print(f\"If we guessed: {nbaseline.guess}\")\n",
        "print(f\"Our MAE would be: {nbaseline.MAE}\")"
      ],
      "execution_count": 626,
      "outputs": [
        {
          "output_type": "stream",
          "text": [
            "If we guessed: SalePrice    180383.689738\n",
            "dtype: float64\n",
            "Our MAE would be: SalePrice    58149.927741\n",
            "dtype: float64\n"
          ],
          "name": "stdout"
        }
      ]
    },
    {
      "cell_type": "markdown",
      "metadata": {
        "id": "qxiAcdEgkjcg",
        "colab_type": "text"
      },
      "source": [
        "## Combo 3 - 'Overall_Cond' and 'Gr_Liv_Area' is the **worst model** "
      ]
    },
    {
      "cell_type": "code",
      "metadata": {
        "id": "FEdIA80sj-hQ",
        "colab_type": "code",
        "colab": {
          "base_uri": "https://localhost:8080/",
          "height": 136
        },
        "outputId": "ed6fda40-117a-4c4b-827b-2d1e58ece84d"
      },
      "source": [
        "prediction3 = linear_regress_predict(X_train3, y_train, X_val3, y_val, test_correlate3)\n",
        "print(f\"Prediction: {prediction3.response_variable}\")\n",
        "\n",
        "print(f\"Model RMSE: {prediction3.model_RMSE}\")\n",
        "print(f\"Model R^2: {prediction3.model_r2_score}\")\n",
        "\n",
        "\n",
        "\n",
        "print(f\"Coefficient: {prediction3.coefficient}\")\n",
        "print(f\"Intercept: {prediction3.intercept}\")\n",
        "print(f\"Training MAE: {prediction3.training_MAE}\")\n",
        "print(f\"Validation MAE: {prediction3.testing_MAE}\")"
      ],
      "execution_count": 625,
      "outputs": [
        {
          "output_type": "stream",
          "text": [
            "Prediction: [114723.69661731]\n",
            "Model RMSE: 55766.87321106348\n",
            "Model R^2: 0.5165024435404613\n",
            "Coefficient: [[-2319.51429015   109.51361856]]\n",
            "Intercept: [29730.25649838]\n",
            "Training MAE: 37387.124341957104\n",
            "Validation MAE: 41253.555851329256\n"
          ],
          "name": "stdout"
        }
      ]
    },
    {
      "cell_type": "code",
      "metadata": {
        "id": "78uZRnw8kg2O",
        "colab_type": "code",
        "colab": {}
      },
      "source": [
        "print(f\"If we guessed: {nbaseline.guess}\")\n",
        "print(f\"Our MAE would be: {nbaseline.MAE}\")"
      ],
      "execution_count": null,
      "outputs": []
    },
    {
      "cell_type": "code",
      "metadata": {
        "id": "gh-DZnescSgv",
        "colab_type": "code",
        "colab": {
          "base_uri": "https://localhost:8080/",
          "height": 85
        },
        "outputId": "8ee0999b-bb94-467f-c0ce-b78d0993df2f"
      },
      "source": [
        "donors_df.columns"
      ],
      "execution_count": 530,
      "outputs": [
        {
          "output_type": "execute_result",
          "data": {
            "text/plain": [
              "Index(['months_since_last_donation', 'number_of_donations',\n",
              "       'total_volume_donated', 'months_since_first_donation',\n",
              "       'made_donation_in_march_2007'],\n",
              "      dtype='object')"
            ]
          },
          "metadata": {
            "tags": []
          },
          "execution_count": 530
        }
      ]
    },
    {
      "cell_type": "code",
      "metadata": {
        "id": "G1TjFZxpcUh2",
        "colab_type": "code",
        "colab": {}
      },
      "source": [
        ""
      ],
      "execution_count": null,
      "outputs": []
    },
    {
      "cell_type": "code",
      "metadata": {
        "colab_type": "code",
        "id": "xOfSQIf3Y3OV",
        "colab": {
          "base_uri": "https://localhost:8080/",
          "height": 265
        },
        "outputId": "11175bda-ca29-4b21-c8cf-91059d52b00b"
      },
      "source": [
        "# scatter plots - not too hot...\n",
        "plt.scatter(donors_df['months_since_first_donation'],donors_df['made_donation_in_march_2007']);"
      ],
      "execution_count": 532,
      "outputs": [
        {
          "output_type": "display_data",
          "data": {
            "image/png": "[encoded data removed]",
            "text/plain": [
              "<Figure size 432x288 with 1 Axes>"
            ]
          },
          "metadata": {
            "tags": [],
            "needs_background": "light"
          }
        }
      ]
    },
    {
      "cell_type": "code",
      "metadata": {
        "id": "yPaeJ8fxcqLm",
        "colab_type": "code",
        "colab": {
          "base_uri": "https://localhost:8080/",
          "height": 204
        },
        "outputId": "6444f91f-7ff6-4cf5-b3c1-f1a54aac41a2"
      },
      "source": [
        "ames_select_df.columns"
      ],
      "execution_count": 533,
      "outputs": [
        {
          "output_type": "execute_result",
          "data": {
            "text/plain": [
              "Index(['1st_Flr_SF', 'Bldg_Type', 'Bsmt_Full_Bath', 'Bsmt_Half_Bath',\n",
              "       'Central_Air', 'Condition_1', 'Condition_2', 'Electrical',\n",
              "       'Exterior_1st', 'Exterior_2nd', 'Foundation', 'Full_Bath', 'Functional',\n",
              "       'Gr_Liv_Area', 'Half_Bath', 'Heating', 'Heating_QC', 'House_Style',\n",
              "       'Kitchen_Qual', 'Land_Contour', 'Land_Slope', 'Lot_Area', 'Lot_Config',\n",
              "       'Lot_Shape', 'MS_SubClass', 'MS_Zoning', 'Mas_Vnr_Type', 'Mo_Sold',\n",
              "       'Neighborhood', 'Overall_Cond', 'Paved_Drive', 'Roof_Matl',\n",
              "       'Roof_Style', 'SalePrice', 'Sale_Condition', 'Sale_Type', 'Street',\n",
              "       'TotRms_AbvGrd', 'Utilities', 'Year_Built', 'Year_Remod/Add',\n",
              "       'Yr_Sold'],\n",
              "      dtype='object')"
            ]
          },
          "metadata": {
            "tags": []
          },
          "execution_count": 533
        }
      ]
    },
    {
      "cell_type": "code",
      "metadata": {
        "id": "qkfzHnZ1cuXg",
        "colab_type": "code",
        "colab": {
          "base_uri": "https://localhost:8080/",
          "height": 265
        },
        "outputId": "f2e08252-96a1-4934-a61e-a1f946d08c6d"
      },
      "source": [
        "# plt.scatter(ames_select_df['1st_Flr_SF'],ames_select_df['SalePrice']);"
      ],
      "execution_count": 535,
      "outputs": [
        {
          "output_type": "display_data",
          "data": {
            "image/png": "[encoded data removed]",
            "text/plain": [
              "<Figure size 432x288 with 1 Axes>"
            ]
          },
          "metadata": {
            "tags": [],
            "needs_background": "light"
          }
        }
      ]
    },
    {
      "cell_type": "code",
      "metadata": {
        "id": "NoxpSkh1dc7L",
        "colab_type": "code",
        "colab": {
          "base_uri": "https://localhost:8080/",
          "height": 655
        },
        "outputId": "b7da5941-2e89-4eea-c1f2-623979da39d2"
      },
      "source": [
        "# lets do a better one...\n",
        "## Scatter plot 1st Flr Square Foot vs Sales Price\n",
        "\n",
        "dnd_color =\"#8C031C\"\n",
        "fig, ax = plt.subplots(figsize = (14,10))\n",
        "\n",
        "# fig, ax = plt.subplots(figsize=(6, 3), subplot_kw=dict(aspect=\"equal\"))\n",
        "\n",
        "\n",
        "# Set bg \n",
        "\n",
        "fig.set_facecolor(\"#F0F0F0\")\n",
        "\n",
        "# set graph background \n",
        "\n",
        "ax.set_facecolor(\"#F0F0F0\")\n",
        "\n",
        "#make graph\n",
        "plt.scatter(ames_select_df['1st_Flr_SF'],ames_select_df['SalePrice'], alpha=.3, \n",
        "            c=dnd_color, s=150)\n",
        "\n",
        "\n",
        "# label axis\n",
        "plt.ylabel('Sale Price', fontsize=30, color= \"#454545\")\n",
        "\n",
        "# ax.set_yticklabels( fontsize=50, color= \"#454545\")\n",
        "\n",
        "\n",
        "# rotate xticks\n",
        "plt.xticks(rotation=90)\n",
        "\n",
        "# set title\n",
        "plt.title('1st Flr Square Foot vs Sales Price', fontsize=50, color= \"#454545\")\n",
        "\n",
        "\n",
        "#remove spines\n",
        "ax.spines['left'].set_visible(False)\n",
        "ax.spines['top'].set_visible(False)\n",
        "ax.spines['right'].set_visible(False)\n",
        "ax.spines['bottom'].set_visible(False)\n",
        "\n",
        "\n",
        "\n",
        "# plt.savefig(\"zip_code_vs_total_sales.png\")\n",
        "\n",
        "plt.show()"
      ],
      "execution_count": 545,
      "outputs": [
        {
          "output_type": "display_data",
          "data": {
            "image/png": "[encoded data removed]",
            "text/plain": [
              "<Figure size 1008x720 with 1 Axes>"
            ]
          },
          "metadata": {
            "tags": []
          }
        }
      ]
    },
    {
      "cell_type": "markdown",
      "metadata": {
        "colab_type": "text",
        "id": "PdkjBN1Dy_-A"
      },
      "source": [
        "# Data Dictionary \n",
        "\n",
        "Here's a description of the data fields:\n",
        "\n",
        "```\n",
        "1st_Flr_SF: First Floor square feet\n",
        "\n",
        "Bedroom_AbvGr: Bedrooms above grade (does NOT include basement bedrooms)\n",
        "\n",
        "Bldg_Type: Type of dwelling\n",
        "\t\t\n",
        "       1Fam\tSingle-family Detached\t\n",
        "       2FmCon\tTwo-family Conversion; originally built as one-family dwelling\n",
        "       Duplx\tDuplex\n",
        "       TwnhsE\tTownhouse End Unit\n",
        "       TwnhsI\tTownhouse Inside Unit\n",
        "       \n",
        "Bsmt_Half_Bath: Basement half bathrooms\n",
        "\n",
        "Bsmt_Full_Bath: Basement full bathrooms\n",
        "\n",
        "Central_Air: Central air conditioning\n",
        "\n",
        "       N\tNo\n",
        "       Y\tYes\n",
        "\t\t\n",
        "Condition_1: Proximity to various conditions\n",
        "\t\n",
        "       Artery\tAdjacent to arterial street\n",
        "       Feedr\tAdjacent to feeder street\t\n",
        "       Norm\tNormal\t\n",
        "       RRNn\tWithin 200' of North-South Railroad\n",
        "       RRAn\tAdjacent to North-South Railroad\n",
        "       PosN\tNear positive off-site feature--park, greenbelt, etc.\n",
        "       PosA\tAdjacent to postive off-site feature\n",
        "       RRNe\tWithin 200' of East-West Railroad\n",
        "       RRAe\tAdjacent to East-West Railroad\n",
        "\t\n",
        "Condition_2: Proximity to various conditions (if more than one is present)\n",
        "\t\t\n",
        "       Artery\tAdjacent to arterial street\n",
        "       Feedr\tAdjacent to feeder street\t\n",
        "       Norm\tNormal\t\n",
        "       RRNn\tWithin 200' of North-South Railroad\n",
        "       RRAn\tAdjacent to North-South Railroad\n",
        "       PosN\tNear positive off-site feature--park, greenbelt, etc.\n",
        "       PosA\tAdjacent to postive off-site feature\n",
        "       RRNe\tWithin 200' of East-West Railroad\n",
        "       RRAe\tAdjacent to East-West Railroad\n",
        "       \n",
        " Electrical: Electrical system\n",
        "\n",
        "       SBrkr\tStandard Circuit Breakers & Romex\n",
        "       FuseA\tFuse Box over 60 AMP and all Romex wiring (Average)\t\n",
        "       FuseF\t60 AMP Fuse Box and mostly Romex wiring (Fair)\n",
        "       FuseP\t60 AMP Fuse Box and mostly knob & tube wiring (poor)\n",
        "       Mix\tMixed\n",
        "       \n",
        " Exter_Cond: Evaluates the present condition of the material on the exterior\n",
        "\t\t\n",
        "       Ex\tExcellent\n",
        "       Gd\tGood\n",
        "       TA\tAverage/Typical\n",
        "       Fa\tFair\n",
        "       Po\tPoor\n",
        " \n",
        " Exter_Qual: Evaluates the quality of the material on the exterior \n",
        "\t\t\n",
        "       Ex\tExcellent\n",
        "       Gd\tGood\n",
        "       TA\tAverage/Typical\n",
        "       Fa\tFair\n",
        "       Po\tPoor\n",
        "\t\t\n",
        "Exterior_1st: Exterior covering on house\n",
        "\n",
        "       AsbShng\tAsbestos Shingles\n",
        "       AsphShn\tAsphalt Shingles\n",
        "       BrkComm\tBrick Common\n",
        "       BrkFace\tBrick Face\n",
        "       CBlock\tCinder Block\n",
        "       CemntBd\tCement Board\n",
        "       HdBoard\tHard Board\n",
        "       ImStucc\tImitation Stucco\n",
        "       MetalSd\tMetal Siding\n",
        "       Other\tOther\n",
        "       Plywood\tPlywood\n",
        "       PreCast\tPreCast\t\n",
        "       Stone\tStone\n",
        "       Stucco\tStucco\n",
        "       VinylSd\tVinyl Siding\n",
        "       Wd Sdng\tWood Siding\n",
        "       WdShing\tWood Shingles\n",
        "\t\n",
        "Exterior_2nd: Exterior covering on house (if more than one material)\n",
        "\n",
        "       AsbShng\tAsbestos Shingles\n",
        "       AsphShn\tAsphalt Shingles\n",
        "       BrkComm\tBrick Common\n",
        "       BrkFace\tBrick Face\n",
        "       CBlock\tCinder Block\n",
        "       CemntBd\tCement Board\n",
        "       HdBoard\tHard Board\n",
        "       ImStucc\tImitation Stucco\n",
        "       MetalSd\tMetal Siding\n",
        "       Other\tOther\n",
        "       Plywood\tPlywood\n",
        "       PreCast\tPreCast\n",
        "       Stone\tStone\n",
        "       Stucco\tStucco\n",
        "       VinylSd\tVinyl Siding\n",
        "       Wd Sdng\tWood Siding\n",
        "       WdShing\tWood Shingles\n",
        "       \n",
        "Foundation: Type of foundation\n",
        "\t\t\n",
        "       BrkTil\tBrick & Tile\n",
        "       CBlock\tCinder Block\n",
        "       PConc\tPoured Contrete\t\n",
        "       Slab\tSlab\n",
        "       Stone\tStone\n",
        "       Wood\tWood\n",
        "\t\t\n",
        "Full_Bath: Full bathrooms above grade\n",
        "\n",
        "Functional: Home functionality (Assume typical unless deductions are warranted)\n",
        "\n",
        "       Typ\tTypical Functionality\n",
        "       Min1\tMinor Deductions 1\n",
        "       Min2\tMinor Deductions 2\n",
        "       Mod\tModerate Deductions\n",
        "       Maj1\tMajor Deductions 1\n",
        "       Maj2\tMajor Deductions 2\n",
        "       Sev\tSeverely Damaged\n",
        "       Sal\tSalvage only\n",
        "\t\t\n",
        "Gr_Liv_Area: Above grade (ground) living area square feet\n",
        "        \n",
        "Half_Bath: Half baths above grade\n",
        "\n",
        "Heating: Type of heating\n",
        "\t\t\n",
        "       Floor\tFloor Furnace\n",
        "       GasA\tGas forced warm air furnace\n",
        "       GasW\tGas hot water or steam heat\n",
        "       Grav\tGravity furnace\t\n",
        "       OthW\tHot water or steam heat other than gas\n",
        "       Wall\tWall furnace\n",
        "\t\t\n",
        "Heating_QC: Heating quality and condition\n",
        "\n",
        "       Ex\tExcellent\n",
        "       Gd\tGood\n",
        "       TA\tAverage/Typical\n",
        "       Fa\tFair\n",
        "       Po\tPoor\n",
        "\n",
        "House_Style: Style of dwelling\n",
        "\t\n",
        "       1Story\tOne story\n",
        "       1.5Fin\tOne and one-half story: 2nd level finished\n",
        "       1.5Unf\tOne and one-half story: 2nd level unfinished\n",
        "       2Story\tTwo story\n",
        "       2.5Fin\tTwo and one-half story: 2nd level finished\n",
        "       2.5Unf\tTwo and one-half story: 2nd level unfinished\n",
        "       SFoyer\tSplit Foyer\n",
        "       SLvl\tSplit Level\n",
        "\n",
        "Kitchen_AbvGr: Kitchens above grade\n",
        "\n",
        "Kitchen_Qual: Kitchen quality\n",
        "\n",
        "       Ex\tExcellent\n",
        "       Gd\tGood\n",
        "       TA\tTypical/Average\n",
        "       Fa\tFair\n",
        "       Po\tPoor\n",
        "\n",
        "LandContour: Flatness of the property\n",
        "\n",
        "       Lvl\tNear Flat/Level\t\n",
        "       Bnk\tBanked - Quick and significant rise from street grade to building\n",
        "       HLS\tHillside - Significant slope from side to side\n",
        "       Low\tDepression\n",
        "\t\t\n",
        "Land_Slope: Slope of property\n",
        "\t\t\n",
        "       Gtl\tGentle slope\n",
        "       Mod\tModerate Slope\t\n",
        "       Sev\tSevere Slope\n",
        "\n",
        "Lot_Area: Lot size in square feet\n",
        "\n",
        "Lot_Config: Lot configuration\n",
        "\n",
        "       Inside\tInside lot\n",
        "       Corner\tCorner lot\n",
        "       CulDSac\tCul-de-sac\n",
        "       FR2\tFrontage on 2 sides of property\n",
        "       FR3\tFrontage on 3 sides of property\n",
        "\n",
        "Lot_Shape: General shape of property\n",
        "\n",
        "       Reg\tRegular\t\n",
        "       IR1\tSlightly irregular\n",
        "       IR2\tModerately Irregular\n",
        "       IR3\tIrregular\n",
        "\n",
        "MS_SubClass: Identifies the type of dwelling involved in the sale.\t\n",
        "\n",
        "        20\t1-STORY 1946 & NEWER ALL STYLES\n",
        "        30\t1-STORY 1945 & OLDER\n",
        "        40\t1-STORY W/FINISHED ATTIC ALL AGES\n",
        "        45\t1-1/2 STORY - UNFINISHED ALL AGES\n",
        "        50\t1-1/2 STORY FINISHED ALL AGES\n",
        "        60\t2-STORY 1946 & NEWER\n",
        "        70\t2-STORY 1945 & OLDER\n",
        "        75\t2-1/2 STORY ALL AGES\n",
        "        80\tSPLIT OR MULTI-LEVEL\n",
        "        85\tSPLIT FOYER\n",
        "        90\tDUPLEX - ALL STYLES AND AGES\n",
        "       120\t1-STORY PUD (Planned Unit Development) - 1946 & NEWER\n",
        "       150\t1-1/2 STORY PUD - ALL AGES\n",
        "       160\t2-STORY PUD - 1946 & NEWER\n",
        "       180\tPUD - MULTILEVEL - INCL SPLIT LEV/FOYER\n",
        "       190\t2 FAMILY CONVERSION - ALL STYLES AND AGES\n",
        "\n",
        "MS_Zoning: Identifies the general zoning classification of the sale.\n",
        "\t\t\n",
        "       A\tAgriculture\n",
        "       C\tCommercial\n",
        "       FV\tFloating Village Residential\n",
        "       I\tIndustrial\n",
        "       RH\tResidential High Density\n",
        "       RL\tResidential Low Density\n",
        "       RP\tResidential Low Density Park \n",
        "       RM\tResidential Medium Density\n",
        "\n",
        "Mas_Vnr_Type: Masonry veneer type\n",
        "\n",
        "       BrkCmn\tBrick Common\n",
        "       BrkFace\tBrick Face\n",
        "       CBlock\tCinder Block\n",
        "       None\tNone\n",
        "       Stone\tStone\n",
        "\n",
        "Mo_Sold: Month Sold (MM)\n",
        "\n",
        "Neighborhood: Physical locations within Ames city limits\n",
        "\n",
        "       Blmngtn\tBloomington Heights\n",
        "       Blueste\tBluestem\n",
        "       BrDale\tBriardale\n",
        "       BrkSide\tBrookside\n",
        "       ClearCr\tClear Creek\n",
        "       CollgCr\tCollege Creek\n",
        "       Crawfor\tCrawford\n",
        "       Edwards\tEdwards\n",
        "       Gilbert\tGilbert\n",
        "       IDOTRR\tIowa DOT and Rail Road\n",
        "       MeadowV\tMeadow Village\n",
        "       Mitchel\tMitchell\n",
        "       Names\tNorth Ames\n",
        "       NoRidge\tNorthridge\n",
        "       NPkVill\tNorthpark Villa\n",
        "       NridgHt\tNorthridge Heights\n",
        "       NWAmes\tNorthwest Ames\n",
        "       OldTown\tOld Town\n",
        "       SWISU\tSouth & West of Iowa State University\n",
        "       Sawyer\tSawyer\n",
        "       SawyerW\tSawyer West\n",
        "       Somerst\tSomerset\n",
        "       StoneBr\tStone Brook\n",
        "       Timber\tTimberland\n",
        "       Veenker\tVeenker\n",
        "\t\t\t\n",
        "Overall_Cond: Rates the overall condition of the house\n",
        "\n",
        "       10\tVery Excellent\n",
        "       9\tExcellent\n",
        "       8\tVery Good\n",
        "       7\tGood\n",
        "       6\tAbove Average\t\n",
        "       5\tAverage\n",
        "       4\tBelow Average\t\n",
        "       3\tFair\n",
        "       2\tPoor\n",
        "       1\tVery Poor\n",
        "\n",
        "Overall_Qual: Rates the overall material and finish of the house\n",
        "\n",
        "       10\tVery Excellent\n",
        "       9\tExcellent\n",
        "       8\tVery Good\n",
        "       7\tGood\n",
        "       6\tAbove Average\n",
        "       5\tAverage\n",
        "       4\tBelow Average\n",
        "       3\tFair\n",
        "       2\tPoor\n",
        "       1\tVery Poor\n",
        "\n",
        "Paved_Drive: Paved driveway\n",
        "\n",
        "       Y\tPaved \n",
        "       P\tPartial Pavement\n",
        "       N\tDirt/Gravel\n",
        "\n",
        "Roof_Matl: Roof material\n",
        "\n",
        "       ClyTile\tClay or Tile\n",
        "       CompShg\tStandard (Composite) Shingle\n",
        "       Membran\tMembrane\n",
        "       Metal\tMetal\n",
        "       Roll\tRoll\n",
        "       Tar&Grv\tGravel & Tar\n",
        "       WdShake\tWood Shakes\n",
        "       WdShngl\tWood Shingles\n",
        "\n",
        "Roof_Style: Type of roof\n",
        "\n",
        "       Flat\tFlat\n",
        "       Gable\tGable\n",
        "       Gambrel\tGabrel (Barn)\n",
        "       Hip\tHip\n",
        "       Mansard\tMansard\n",
        "       Shed\tShed\n",
        "\n",
        "SalePrice: the sales price for each house\n",
        "\n",
        "Sale_Condition: Condition of sale\n",
        "\n",
        "       Normal\tNormal Sale\n",
        "       Abnorml\tAbnormal Sale -  trade, foreclosure, short sale\n",
        "       AdjLand\tAdjoining Land Purchase\n",
        "       Alloca\tAllocation - two linked properties with separate deeds, typically condo with a garage unit\t\n",
        "       Family\tSale between family members\n",
        "       Partial\tHome was not completed when last assessed (associated with New Homes)\n",
        "\n",
        "Sale_Type: Type of sale\n",
        "\t\t\n",
        "       WD \tWarranty Deed - Conventional\n",
        "       CWD\tWarranty Deed - Cash\n",
        "       VWD\tWarranty Deed - VA Loan\n",
        "       New\tHome just constructed and sold\n",
        "       COD\tCourt Officer Deed/Estate\n",
        "       Con\tContract 15% Down payment regular terms\n",
        "       ConLw\tContract Low Down payment and low interest\n",
        "       ConLI\tContract Low Interest\n",
        "       ConLD\tContract Low Down\n",
        "       Oth\tOther\n",
        "\t\n",
        "Street: Type of road access to property\n",
        "\n",
        "       Grvl\tGravel\t\n",
        "       Pave\tPaved\n",
        "       \t\n",
        "TotRms_AbvGrd: Total rooms above grade (does not include bathrooms)\n",
        "\n",
        "Utilities: Type of utilities available\n",
        "\t\t\n",
        "       AllPub\tAll public Utilities (E,G,W,& S)\t\n",
        "       NoSewr\tElectricity, Gas, and Water (Septic Tank)\n",
        "       NoSeWa\tElectricity and Gas Only\n",
        "       ELO\tElectricity only\t\n",
        "\t\n",
        "Year_Built: Original construction date\n",
        "\n",
        "Year_Remod/Add: Remodel date (same as construction date if no remodeling or additions)\n",
        "\t\t\t\t\t\t\n",
        "Yr_Sold: Year Sold (YYYY)\t\n",
        "\n",
        "```"
      ]
    }
  ]
}