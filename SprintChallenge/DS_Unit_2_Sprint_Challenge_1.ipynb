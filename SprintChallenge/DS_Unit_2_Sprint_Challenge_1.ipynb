{
  "nbformat": 4,
  "nbformat_minor": 0,
  "metadata": {
    "colab": {
      "name": "DS_Unit_2_Sprint_Challenge_1_Regression_Classification.ipynb",
      "provenance": [],
      "collapsed_sections": [],
      "include_colab_link": true
    },
    "kernelspec": {
      "name": "python3",
      "display_name": "Python 3"
    }
  },
  "cells": [
    {
      "cell_type": "markdown",
      "metadata": {
        "id": "view-in-github",
        "colab_type": "text"
      },
      "source": [
        "<a href=\"https://colab.research.google.com/github/andrewwhite5/DS-Unit-2-Regression-Classification/blob/master/SprintChallenge/DS_Unit_2_Sprint_Challenge_1.ipynb\" target=\"_parent\"><img src=\"https://colab.research.google.com/assets/colab-badge.svg\" alt=\"Open In Colab\"/></a>"
      ]
    },
    {
      "cell_type": "markdown",
      "metadata": {
        "id": "VZf2akBaMjq8",
        "colab_type": "text"
      },
      "source": [
        "_Lambda School Data Science, Unit 2_\n",
        " \n",
        "# Regression & Classification Sprint Challenge\n",
        "\n",
        "To demonstrate mastery on your Sprint Challenge, do all the required, numbered instructions in this notebook.\n",
        "\n",
        "To earn a score of \"3\", also do all the stretch goals.\n",
        "\n",
        "You are permitted and encouraged to do as much data exploration as you want."
      ]
    },
    {
      "cell_type": "markdown",
      "metadata": {
        "id": "20OITf58NLQh",
        "colab_type": "text"
      },
      "source": [
        "### Part 1, Classification\n",
        "- 1.1. Begin with baselines for classification\n",
        "- 1.2. Do train/test split. Arrange data into X features matrix and y target vector\n",
        "- 1.3. Use scikit-learn to fit a logistic regression model\n",
        "- 1.4. Report classification metric: accuracy\n",
        "\n",
        "### Part 2, Regression\n",
        "- 2.1. Begin with baselines for regression\n",
        "- 2.2. Do train/validate/test split. \n",
        "- 2.3. Arrange data into X features matrix and y target vector\n",
        "- 2.4. Do one-hot encoding\n",
        "- 2.5. Use scikit-learn to fit a linear regression (or ridge regression) model\n",
        "- 2.6. Report validation MAE and $R^2$\n",
        "\n",
        "### Stretch Goals, Regression\n",
        "- Make visualizations to explore relationships between features and target\n",
        "- Try at least 3 feature combinations. You may select features manually, or automatically\n",
        "- Report validation MAE and $R^2$ for each feature combination you try\n",
        "- Report test MAE and $R^2$ for your final model\n",
        "- Print or plot the coefficients for the features in your model"
      ]
    },
    {
      "cell_type": "code",
      "metadata": {
        "id": "BxoFSeX5OX5k",
        "colab_type": "code",
        "outputId": "e98f7264-cb70-48bc-ba6d-3b35a6812b84",
        "colab": {
          "base_uri": "https://localhost:8080/",
          "height": 1000
        }
      },
      "source": [
        "# If you're in Colab...\n",
        "import sys\n",
        "in_colab = 'google.colab' in sys.modules\n",
        "\n",
        "if in_colab:\n",
        "    !pip install category_encoders==2.0.0\n",
        "    !pip install pandas-profiling==2.3.0\n",
        "    !pip install plotly==4.1.1"
      ],
      "execution_count": 1,
      "outputs": [
        {
          "output_type": "stream",
          "text": [
            "Collecting category_encoders==2.0.0\n",
            "\u001b[?25l  Downloading https://files.pythonhosted.org/packages/6e/a1/f7a22f144f33be78afeb06bfa78478e8284a64263a3c09b1ef54e673841e/category_encoders-2.0.0-py2.py3-none-any.whl (87kB)\n",
            "\r\u001b[K     |███▊                            | 10kB 17.9MB/s eta 0:00:01\r\u001b[K     |███████▌                        | 20kB 6.3MB/s eta 0:00:01\r\u001b[K     |███████████▏                    | 30kB 8.8MB/s eta 0:00:01\r\u001b[K     |███████████████                 | 40kB 5.6MB/s eta 0:00:01\r\u001b[K     |██████████████████▋             | 51kB 6.9MB/s eta 0:00:01\r\u001b[K     |██████████████████████▍         | 61kB 8.1MB/s eta 0:00:01\r\u001b[K     |██████████████████████████▏     | 71kB 9.3MB/s eta 0:00:01\r\u001b[K     |█████████████████████████████▉  | 81kB 10.3MB/s eta 0:00:01\r\u001b[K     |████████████████████████████████| 92kB 9.9MB/s \n",
            "\u001b[?25hRequirement already satisfied: numpy>=1.11.3 in /usr/local/lib/python3.6/dist-packages (from category_encoders==2.0.0) (1.16.5)\n",
            "Requirement already satisfied: scikit-learn>=0.20.0 in /usr/local/lib/python3.6/dist-packages (from category_encoders==2.0.0) (0.21.3)\n",
            "Requirement already satisfied: scipy>=0.19.0 in /usr/local/lib/python3.6/dist-packages (from category_encoders==2.0.0) (1.3.1)\n",
            "Requirement already satisfied: statsmodels>=0.6.1 in /usr/local/lib/python3.6/dist-packages (from category_encoders==2.0.0) (0.10.1)\n",
            "Requirement already satisfied: pandas>=0.21.1 in /usr/local/lib/python3.6/dist-packages (from category_encoders==2.0.0) (0.24.2)\n",
            "Requirement already satisfied: patsy>=0.4.1 in /usr/local/lib/python3.6/dist-packages (from category_encoders==2.0.0) (0.5.1)\n",
            "Requirement already satisfied: joblib>=0.11 in /usr/local/lib/python3.6/dist-packages (from scikit-learn>=0.20.0->category_encoders==2.0.0) (0.13.2)\n",
            "Requirement already satisfied: python-dateutil>=2.5.0 in /usr/local/lib/python3.6/dist-packages (from pandas>=0.21.1->category_encoders==2.0.0) (2.5.3)\n",
            "Requirement already satisfied: pytz>=2011k in /usr/local/lib/python3.6/dist-packages (from pandas>=0.21.1->category_encoders==2.0.0) (2018.9)\n",
            "Requirement already satisfied: six in /usr/local/lib/python3.6/dist-packages (from patsy>=0.4.1->category_encoders==2.0.0) (1.12.0)\n",
            "Installing collected packages: category-encoders\n",
            "Successfully installed category-encoders-2.0.0\n",
            "Collecting pandas-profiling==2.3.0\n",
            "\u001b[?25l  Downloading https://files.pythonhosted.org/packages/2c/2f/aae19e2173c10a9bb7fee5f5cad35dbe53a393960fc91abc477dcc4661e8/pandas-profiling-2.3.0.tar.gz (127kB)\n",
            "\u001b[K     |████████████████████████████████| 133kB 9.7MB/s \n",
            "\u001b[?25hRequirement already satisfied: pandas>=0.19 in /usr/local/lib/python3.6/dist-packages (from pandas-profiling==2.3.0) (0.24.2)\n",
            "Requirement already satisfied: matplotlib>=1.4 in /usr/local/lib/python3.6/dist-packages (from pandas-profiling==2.3.0) (3.0.3)\n",
            "Requirement already satisfied: jinja2>=2.8 in /usr/local/lib/python3.6/dist-packages (from pandas-profiling==2.3.0) (2.10.1)\n",
            "Requirement already satisfied: missingno>=0.4.2 in /usr/local/lib/python3.6/dist-packages (from pandas-profiling==2.3.0) (0.4.2)\n",
            "Collecting htmlmin>=0.1.12 (from pandas-profiling==2.3.0)\n",
            "  Downloading https://files.pythonhosted.org/packages/b3/e7/fcd59e12169de19f0131ff2812077f964c6b960e7c09804d30a7bf2ab461/htmlmin-0.1.12.tar.gz\n",
            "Collecting phik>=0.9.8 (from pandas-profiling==2.3.0)\n",
            "\u001b[?25l  Downloading https://files.pythonhosted.org/packages/45/ad/24a16fa4ba612fb96a3c4bb115a5b9741483f53b66d3d3afd987f20fa227/phik-0.9.8-py3-none-any.whl (606kB)\n",
            "\u001b[K     |████████████████████████████████| 614kB 42.9MB/s \n",
            "\u001b[?25hCollecting confuse>=1.0.0 (from pandas-profiling==2.3.0)\n",
            "  Downloading https://files.pythonhosted.org/packages/4c/6f/90e860cba937c174d8b3775729ccc6377eb91f52ad4eeb008e7252a3646d/confuse-1.0.0.tar.gz\n",
            "Requirement already satisfied: astropy in /usr/local/lib/python3.6/dist-packages (from pandas-profiling==2.3.0) (3.0.5)\n",
            "Requirement already satisfied: pytz>=2011k in /usr/local/lib/python3.6/dist-packages (from pandas>=0.19->pandas-profiling==2.3.0) (2018.9)\n",
            "Requirement already satisfied: python-dateutil>=2.5.0 in /usr/local/lib/python3.6/dist-packages (from pandas>=0.19->pandas-profiling==2.3.0) (2.5.3)\n",
            "Requirement already satisfied: numpy>=1.12.0 in /usr/local/lib/python3.6/dist-packages (from pandas>=0.19->pandas-profiling==2.3.0) (1.16.5)\n",
            "Requirement already satisfied: pyparsing!=2.0.4,!=2.1.2,!=2.1.6,>=2.0.1 in /usr/local/lib/python3.6/dist-packages (from matplotlib>=1.4->pandas-profiling==2.3.0) (2.4.2)\n",
            "Requirement already satisfied: cycler>=0.10 in /usr/local/lib/python3.6/dist-packages (from matplotlib>=1.4->pandas-profiling==2.3.0) (0.10.0)\n",
            "Requirement already satisfied: kiwisolver>=1.0.1 in /usr/local/lib/python3.6/dist-packages (from matplotlib>=1.4->pandas-profiling==2.3.0) (1.1.0)\n",
            "Requirement already satisfied: MarkupSafe>=0.23 in /usr/local/lib/python3.6/dist-packages (from jinja2>=2.8->pandas-profiling==2.3.0) (1.1.1)\n",
            "Requirement already satisfied: scipy in /usr/local/lib/python3.6/dist-packages (from missingno>=0.4.2->pandas-profiling==2.3.0) (1.3.1)\n",
            "Requirement already satisfied: seaborn in /usr/local/lib/python3.6/dist-packages (from missingno>=0.4.2->pandas-profiling==2.3.0) (0.9.0)\n",
            "Requirement already satisfied: jupyter-client>=5.2.3 in /usr/local/lib/python3.6/dist-packages (from phik>=0.9.8->pandas-profiling==2.3.0) (5.3.1)\n",
            "Collecting pytest>=4.0.2 (from phik>=0.9.8->pandas-profiling==2.3.0)\n",
            "\u001b[?25l  Downloading https://files.pythonhosted.org/packages/9a/46/903ea822d83187bb8b354fcb3d085fb10b7787be39f9cf1628bc6ef8f9c9/pytest-5.2.0-py3-none-any.whl (226kB)\n",
            "\u001b[K     |████████████████████████████████| 235kB 54.5MB/s \n",
            "\u001b[?25hCollecting pytest-pylint>=0.13.0 (from phik>=0.9.8->pandas-profiling==2.3.0)\n",
            "  Downloading https://files.pythonhosted.org/packages/64/dc/6f35f114844fb12e38d60c4f3d2441a55baff7043ad4e013777dff55746c/pytest_pylint-0.14.1-py3-none-any.whl\n",
            "Requirement already satisfied: numba>=0.38.1 in /usr/local/lib/python3.6/dist-packages (from phik>=0.9.8->pandas-profiling==2.3.0) (0.40.1)\n",
            "Requirement already satisfied: nbconvert>=5.3.1 in /usr/local/lib/python3.6/dist-packages (from phik>=0.9.8->pandas-profiling==2.3.0) (5.6.0)\n",
            "Requirement already satisfied: pyyaml in /usr/local/lib/python3.6/dist-packages (from confuse>=1.0.0->pandas-profiling==2.3.0) (3.13)\n",
            "Requirement already satisfied: six>=1.5 in /usr/local/lib/python3.6/dist-packages (from python-dateutil>=2.5.0->pandas>=0.19->pandas-profiling==2.3.0) (1.12.0)\n",
            "Requirement already satisfied: setuptools in /usr/local/lib/python3.6/dist-packages (from kiwisolver>=1.0.1->matplotlib>=1.4->pandas-profiling==2.3.0) (41.2.0)\n",
            "Requirement already satisfied: traitlets in /usr/local/lib/python3.6/dist-packages (from jupyter-client>=5.2.3->phik>=0.9.8->pandas-profiling==2.3.0) (4.3.2)\n",
            "Requirement already satisfied: jupyter-core in /usr/local/lib/python3.6/dist-packages (from jupyter-client>=5.2.3->phik>=0.9.8->pandas-profiling==2.3.0) (4.5.0)\n",
            "Requirement already satisfied: pyzmq>=13 in /usr/local/lib/python3.6/dist-packages (from jupyter-client>=5.2.3->phik>=0.9.8->pandas-profiling==2.3.0) (17.0.0)\n",
            "Requirement already satisfied: tornado>=4.1 in /usr/local/lib/python3.6/dist-packages (from jupyter-client>=5.2.3->phik>=0.9.8->pandas-profiling==2.3.0) (4.5.3)\n",
            "Requirement already satisfied: wcwidth in /usr/local/lib/python3.6/dist-packages (from pytest>=4.0.2->phik>=0.9.8->pandas-profiling==2.3.0) (0.1.7)\n",
            "Requirement already satisfied: attrs>=17.4.0 in /usr/local/lib/python3.6/dist-packages (from pytest>=4.0.2->phik>=0.9.8->pandas-profiling==2.3.0) (19.1.0)\n",
            "Collecting pluggy<1.0,>=0.12 (from pytest>=4.0.2->phik>=0.9.8->pandas-profiling==2.3.0)\n",
            "  Downloading https://files.pythonhosted.org/packages/92/c7/48439f7d5fd6bddb4c04b850bb862b42e3e2b98570040dfaf68aedd8114b/pluggy-0.13.0-py2.py3-none-any.whl\n",
            "Requirement already satisfied: more-itertools>=4.0.0 in /usr/local/lib/python3.6/dist-packages (from pytest>=4.0.2->phik>=0.9.8->pandas-profiling==2.3.0) (7.2.0)\n",
            "Requirement already satisfied: packaging in /usr/local/lib/python3.6/dist-packages (from pytest>=4.0.2->phik>=0.9.8->pandas-profiling==2.3.0) (19.1)\n",
            "Requirement already satisfied: importlib-metadata>=0.12; python_version < \"3.8\" in /usr/local/lib/python3.6/dist-packages (from pytest>=4.0.2->phik>=0.9.8->pandas-profiling==2.3.0) (0.23)\n",
            "Requirement already satisfied: atomicwrites>=1.0 in /usr/local/lib/python3.6/dist-packages (from pytest>=4.0.2->phik>=0.9.8->pandas-profiling==2.3.0) (1.3.0)\n",
            "Requirement already satisfied: py>=1.5.0 in /usr/local/lib/python3.6/dist-packages (from pytest>=4.0.2->phik>=0.9.8->pandas-profiling==2.3.0) (1.8.0)\n",
            "Collecting pylint>=1.4.5 (from pytest-pylint>=0.13.0->phik>=0.9.8->pandas-profiling==2.3.0)\n",
            "\u001b[?25l  Downloading https://files.pythonhosted.org/packages/ff/6f/faf9c586af455175b72186b9831cbf63e2222b17dde74d5eebff829e8ea5/pylint-2.4.1-py3-none-any.whl (302kB)\n",
            "\u001b[K     |████████████████████████████████| 307kB 52.0MB/s \n",
            "\u001b[?25hRequirement already satisfied: llvmlite>=0.25.0dev0 in /usr/local/lib/python3.6/dist-packages (from numba>=0.38.1->phik>=0.9.8->pandas-profiling==2.3.0) (0.29.0)\n",
            "Requirement already satisfied: defusedxml in /usr/local/lib/python3.6/dist-packages (from nbconvert>=5.3.1->phik>=0.9.8->pandas-profiling==2.3.0) (0.6.0)\n",
            "Requirement already satisfied: pandocfilters>=1.4.1 in /usr/local/lib/python3.6/dist-packages (from nbconvert>=5.3.1->phik>=0.9.8->pandas-profiling==2.3.0) (1.4.2)\n",
            "Requirement already satisfied: mistune<2,>=0.8.1 in /usr/local/lib/python3.6/dist-packages (from nbconvert>=5.3.1->phik>=0.9.8->pandas-profiling==2.3.0) (0.8.4)\n",
            "Requirement already satisfied: bleach in /usr/local/lib/python3.6/dist-packages (from nbconvert>=5.3.1->phik>=0.9.8->pandas-profiling==2.3.0) (3.1.0)\n",
            "Requirement already satisfied: testpath in /usr/local/lib/python3.6/dist-packages (from nbconvert>=5.3.1->phik>=0.9.8->pandas-profiling==2.3.0) (0.4.2)\n",
            "Requirement already satisfied: entrypoints>=0.2.2 in /usr/local/lib/python3.6/dist-packages (from nbconvert>=5.3.1->phik>=0.9.8->pandas-profiling==2.3.0) (0.3)\n",
            "Requirement already satisfied: nbformat>=4.4 in /usr/local/lib/python3.6/dist-packages (from nbconvert>=5.3.1->phik>=0.9.8->pandas-profiling==2.3.0) (4.4.0)\n",
            "Requirement already satisfied: pygments in /usr/local/lib/python3.6/dist-packages (from nbconvert>=5.3.1->phik>=0.9.8->pandas-profiling==2.3.0) (2.1.3)\n",
            "Requirement already satisfied: decorator in /usr/local/lib/python3.6/dist-packages (from traitlets->jupyter-client>=5.2.3->phik>=0.9.8->pandas-profiling==2.3.0) (4.4.0)\n",
            "Requirement already satisfied: ipython-genutils in /usr/local/lib/python3.6/dist-packages (from traitlets->jupyter-client>=5.2.3->phik>=0.9.8->pandas-profiling==2.3.0) (0.2.0)\n",
            "Requirement already satisfied: zipp>=0.5 in /usr/local/lib/python3.6/dist-packages (from importlib-metadata>=0.12; python_version < \"3.8\"->pytest>=4.0.2->phik>=0.9.8->pandas-profiling==2.3.0) (0.6.0)\n",
            "Collecting astroid<3,>=2.3.0 (from pylint>=1.4.5->pytest-pylint>=0.13.0->phik>=0.9.8->pandas-profiling==2.3.0)\n",
            "\u001b[?25l  Downloading https://files.pythonhosted.org/packages/b1/25/c2e9c19144d8f78f985b882c403eb3c45c9856ee2c436737ccd4482c7515/astroid-2.3.0-py3-none-any.whl (191kB)\n",
            "\u001b[K     |████████████████████████████████| 194kB 56.3MB/s \n",
            "\u001b[?25hCollecting mccabe<0.7,>=0.6 (from pylint>=1.4.5->pytest-pylint>=0.13.0->phik>=0.9.8->pandas-profiling==2.3.0)\n",
            "  Downloading https://files.pythonhosted.org/packages/87/89/479dc97e18549e21354893e4ee4ef36db1d237534982482c3681ee6e7b57/mccabe-0.6.1-py2.py3-none-any.whl\n",
            "Collecting isort<5,>=4.2.5 (from pylint>=1.4.5->pytest-pylint>=0.13.0->phik>=0.9.8->pandas-profiling==2.3.0)\n",
            "\u001b[?25l  Downloading https://files.pythonhosted.org/packages/e5/b0/c121fd1fa3419ea9bfd55c7f9c4fedfec5143208d8c7ad3ce3db6c623c21/isort-4.3.21-py2.py3-none-any.whl (42kB)\n",
            "\u001b[K     |████████████████████████████████| 51kB 17.7MB/s \n",
            "\u001b[?25hRequirement already satisfied: webencodings in /usr/local/lib/python3.6/dist-packages (from bleach->nbconvert>=5.3.1->phik>=0.9.8->pandas-profiling==2.3.0) (0.5.1)\n",
            "Requirement already satisfied: jsonschema!=2.5.0,>=2.4 in /usr/local/lib/python3.6/dist-packages (from nbformat>=4.4->nbconvert>=5.3.1->phik>=0.9.8->pandas-profiling==2.3.0) (2.6.0)\n",
            "Collecting lazy-object-proxy (from astroid<3,>=2.3.0->pylint>=1.4.5->pytest-pylint>=0.13.0->phik>=0.9.8->pandas-profiling==2.3.0)\n",
            "\u001b[?25l  Downloading https://files.pythonhosted.org/packages/0e/26/534a6d32572a9dbca11619321535c0a7ab34688545d9d67c2c204b9e3a3d/lazy_object_proxy-1.4.2-cp36-cp36m-manylinux1_x86_64.whl (49kB)\n",
            "\u001b[K     |████████████████████████████████| 51kB 14.0MB/s \n",
            "\u001b[?25hCollecting typed-ast<1.3.0; implementation_name == \"cpython\" and python_version < \"3.7\" (from astroid<3,>=2.3.0->pylint>=1.4.5->pytest-pylint>=0.13.0->phik>=0.9.8->pandas-profiling==2.3.0)\n",
            "\u001b[?25l  Downloading https://files.pythonhosted.org/packages/52/6c/57ecbb2ecb80274b7f2b7f95d0937de310aa2e66839d7ae9436881525b23/typed_ast-1.2.0-cp36-cp36m-manylinux1_x86_64.whl (724kB)\n",
            "\u001b[K     |████████████████████████████████| 727kB 27.5MB/s \n",
            "\u001b[?25hRequirement already satisfied: wrapt in /usr/local/lib/python3.6/dist-packages (from astroid<3,>=2.3.0->pylint>=1.4.5->pytest-pylint>=0.13.0->phik>=0.9.8->pandas-profiling==2.3.0) (1.11.2)\n",
            "Building wheels for collected packages: pandas-profiling, htmlmin, confuse\n",
            "  Building wheel for pandas-profiling (setup.py) ... \u001b[?25l\u001b[?25hdone\n",
            "  Created wheel for pandas-profiling: filename=pandas_profiling-2.3.0-py2.py3-none-any.whl size=145035 sha256=8a7f9af4215c283f58fa5fbde8749ad60c00d6d9081200f895a9b6ebb621fbb8\n",
            "  Stored in directory: /root/.cache/pip/wheels/ce/c7/f1/dbfef4848ebb048cb1d4a22d1ed0c62d8ff2523747235e19fe\n",
            "  Building wheel for htmlmin (setup.py) ... \u001b[?25l\u001b[?25hdone\n",
            "  Created wheel for htmlmin: filename=htmlmin-0.1.12-cp36-none-any.whl size=27084 sha256=9bcbd5703035d13e0700f7155fc525266eda1dd9ec806e939f64508f2066af56\n",
            "  Stored in directory: /root/.cache/pip/wheels/43/07/ac/7c5a9d708d65247ac1f94066cf1db075540b85716c30255459\n",
            "  Building wheel for confuse (setup.py) ... \u001b[?25l\u001b[?25hdone\n",
            "  Created wheel for confuse: filename=confuse-1.0.0-cp36-none-any.whl size=17486 sha256=ebc3e0d6dfe0d6d57090d1fb5fcbfae0e496fe499e767409c11b3f6377ad7a6b\n",
            "  Stored in directory: /root/.cache/pip/wheels/b0/b2/96/2074eee7dbf7b7df69d004c9b6ac4e32dad04fb7666cf943bd\n",
            "Successfully built pandas-profiling htmlmin confuse\n",
            "\u001b[31mERROR: datascience 0.10.6 has requirement folium==0.2.1, but you'll have folium 0.8.3 which is incompatible.\u001b[0m\n",
            "Installing collected packages: htmlmin, pluggy, pytest, lazy-object-proxy, typed-ast, astroid, mccabe, isort, pylint, pytest-pylint, phik, confuse, pandas-profiling\n",
            "  Found existing installation: pluggy 0.7.1\n",
            "    Uninstalling pluggy-0.7.1:\n",
            "      Successfully uninstalled pluggy-0.7.1\n",
            "  Found existing installation: pytest 3.6.4\n",
            "    Uninstalling pytest-3.6.4:\n",
            "      Successfully uninstalled pytest-3.6.4\n",
            "  Found existing installation: pandas-profiling 1.4.1\n",
            "    Uninstalling pandas-profiling-1.4.1:\n",
            "      Successfully uninstalled pandas-profiling-1.4.1\n",
            "Successfully installed astroid-2.3.0 confuse-1.0.0 htmlmin-0.1.12 isort-4.3.21 lazy-object-proxy-1.4.2 mccabe-0.6.1 pandas-profiling-2.3.0 phik-0.9.8 pluggy-0.13.0 pylint-2.4.1 pytest-5.2.0 pytest-pylint-0.14.1 typed-ast-1.2.0\n",
            "Requirement already satisfied: plotly==4.1.1 in /usr/local/lib/python3.6/dist-packages (4.1.1)\n",
            "Requirement already satisfied: six in /usr/local/lib/python3.6/dist-packages (from plotly==4.1.1) (1.12.0)\n",
            "Requirement already satisfied: retrying>=1.3.3 in /usr/local/lib/python3.6/dist-packages (from plotly==4.1.1) (1.3.3)\n"
          ],
          "name": "stdout"
        }
      ]
    },
    {
      "cell_type": "markdown",
      "metadata": {
        "id": "Q7u1KtsnOi78",
        "colab_type": "text"
      },
      "source": [
        "# Part 1, Classification: Predict Blood Donations 🚑\n",
        "Our dataset is from a mobile blood donation vehicle in Taiwan. The Blood Transfusion Service Center drives to different universities and collects blood as part of a blood drive.\n",
        "\n",
        "The goal is to predict whether the donor made a donation in March 2007, using information about each donor's history.\n",
        "\n",
        "Good data-driven systems for tracking and predicting donations and supply needs can improve the entire supply chain, making sure that more patients get the blood transfusions they need."
      ]
    },
    {
      "cell_type": "code",
      "metadata": {
        "id": "gJzpgv-fO4rh",
        "colab_type": "code",
        "colab": {}
      },
      "source": [
        "import pandas as pd\n",
        "\n",
        "donors = pd.read_csv('https://archive.ics.uci.edu/ml/machine-learning-databases/blood-transfusion/transfusion.data')\n",
        "assert donors.shape == (748,5)\n",
        "\n",
        "donors = donors.rename(columns={\n",
        "    'Recency (months)': 'months_since_last_donation', \n",
        "    'Frequency (times)': 'number_of_donations', \n",
        "    'Monetary (c.c. blood)': 'total_volume_donated', \n",
        "    'Time (months)': 'months_since_first_donation', \n",
        "    'whether he/she donated blood in March 2007': 'made_donation_in_march_2007'\n",
        "})"
      ],
      "execution_count": 0,
      "outputs": []
    },
    {
      "cell_type": "code",
      "metadata": {
        "id": "po_g1P4ZbB5j",
        "colab_type": "code",
        "outputId": "748b3b75-4393-4346-864d-9bec38789cd7",
        "colab": {
          "base_uri": "https://localhost:8080/",
          "height": 221
        }
      },
      "source": [
        "print(donors.shape)\n",
        "donors.head()"
      ],
      "execution_count": 3,
      "outputs": [
        {
          "output_type": "stream",
          "text": [
            "(748, 5)\n"
          ],
          "name": "stdout"
        },
        {
          "output_type": "execute_result",
          "data": {
            "text/html": [
              "<div>\n",
              "<style scoped>\n",
              "    .dataframe tbody tr th:only-of-type {\n",
              "        vertical-align: middle;\n",
              "    }\n",
              "\n",
              "    .dataframe tbody tr th {\n",
              "        vertical-align: top;\n",
              "    }\n",
              "\n",
              "    .dataframe thead th {\n",
              "        text-align: right;\n",
              "    }\n",
              "</style>\n",
              "<table border=\"1\" class=\"dataframe\">\n",
              "  <thead>\n",
              "    <tr style=\"text-align: right;\">\n",
              "      <th></th>\n",
              "      <th>months_since_last_donation</th>\n",
              "      <th>number_of_donations</th>\n",
              "      <th>total_volume_donated</th>\n",
              "      <th>months_since_first_donation</th>\n",
              "      <th>made_donation_in_march_2007</th>\n",
              "    </tr>\n",
              "  </thead>\n",
              "  <tbody>\n",
              "    <tr>\n",
              "      <th>0</th>\n",
              "      <td>2</td>\n",
              "      <td>50</td>\n",
              "      <td>12500</td>\n",
              "      <td>98</td>\n",
              "      <td>1</td>\n",
              "    </tr>\n",
              "    <tr>\n",
              "      <th>1</th>\n",
              "      <td>0</td>\n",
              "      <td>13</td>\n",
              "      <td>3250</td>\n",
              "      <td>28</td>\n",
              "      <td>1</td>\n",
              "    </tr>\n",
              "    <tr>\n",
              "      <th>2</th>\n",
              "      <td>1</td>\n",
              "      <td>16</td>\n",
              "      <td>4000</td>\n",
              "      <td>35</td>\n",
              "      <td>1</td>\n",
              "    </tr>\n",
              "    <tr>\n",
              "      <th>3</th>\n",
              "      <td>2</td>\n",
              "      <td>20</td>\n",
              "      <td>5000</td>\n",
              "      <td>45</td>\n",
              "      <td>1</td>\n",
              "    </tr>\n",
              "    <tr>\n",
              "      <th>4</th>\n",
              "      <td>1</td>\n",
              "      <td>24</td>\n",
              "      <td>6000</td>\n",
              "      <td>77</td>\n",
              "      <td>0</td>\n",
              "    </tr>\n",
              "  </tbody>\n",
              "</table>\n",
              "</div>"
            ],
            "text/plain": [
              "   months_since_last_donation  ...  made_donation_in_march_2007\n",
              "0                           2  ...                            1\n",
              "1                           0  ...                            1\n",
              "2                           1  ...                            1\n",
              "3                           2  ...                            1\n",
              "4                           1  ...                            0\n",
              "\n",
              "[5 rows x 5 columns]"
            ]
          },
          "metadata": {
            "tags": []
          },
          "execution_count": 3
        }
      ]
    },
    {
      "cell_type": "markdown",
      "metadata": {
        "id": "uKluR3_kPKzM",
        "colab_type": "text"
      },
      "source": [
        "## 1.1. Begin with baselines\n",
        "\n",
        "What accuracy score would you get here with a \"majority class baseline\"?\n",
        " \n",
        "(You don't need to split the data into train and test sets yet. You can answer this question either with a scikit-learn function or with a pandas function.)"
      ]
    },
    {
      "cell_type": "code",
      "metadata": {
        "id": "Fyx1MnZnPXeP",
        "colab_type": "code",
        "outputId": "602ef951-3ac3-44d3-a295-b6841b403d88",
        "colab": {
          "base_uri": "https://localhost:8080/",
          "height": 68
        }
      },
      "source": [
        "donors['made_donation_in_march_2007'].value_counts(normalize=True)"
      ],
      "execution_count": 4,
      "outputs": [
        {
          "output_type": "execute_result",
          "data": {
            "text/plain": [
              "0    0.762032\n",
              "1    0.237968\n",
              "Name: made_donation_in_march_2007, dtype: float64"
            ]
          },
          "metadata": {
            "tags": []
          },
          "execution_count": 4
        }
      ]
    },
    {
      "cell_type": "code",
      "metadata": {
        "id": "SYyhnIW_yTRN",
        "colab_type": "code",
        "colab": {
          "base_uri": "https://localhost:8080/",
          "height": 34
        },
        "outputId": "91a97631-35a4-49bc-e591-06d4cec68feb"
      },
      "source": [
        "mean_baseline = donors['made_donation_in_march_2007'].value_counts(normalize=True)[0]\n",
        "mean_baseline"
      ],
      "execution_count": 5,
      "outputs": [
        {
          "output_type": "execute_result",
          "data": {
            "text/plain": [
              "0.7620320855614974"
            ]
          },
          "metadata": {
            "tags": []
          },
          "execution_count": 5
        }
      ]
    },
    {
      "cell_type": "markdown",
      "metadata": {
        "id": "g-BwBwuzcE5e",
        "colab_type": "text"
      },
      "source": [
        "**I would get an accuracy score of 0.762032**"
      ]
    },
    {
      "cell_type": "markdown",
      "metadata": {
        "id": "P66Fpcq1PYZl",
        "colab_type": "text"
      },
      "source": [
        "## 1.2. Do train/test split. Arrange data into X features matrix and y target vector\n",
        "\n",
        "Do these steps in either order.\n",
        "\n",
        "Split randomly. Use scikit-learn's train/test split function. Include 75% of the data in the train set, and hold out 25% for the test set."
      ]
    },
    {
      "cell_type": "code",
      "metadata": {
        "id": "znJEZhKSgGaG",
        "colab_type": "code",
        "colab": {
          "base_uri": "https://localhost:8080/",
          "height": 34
        },
        "outputId": "177c4af4-6479-43e3-e51d-7adaf27589ff"
      },
      "source": [
        "target = 'made_donation_in_march_2007'\n",
        "features = donors.columns.drop(target)\n",
        "X_presplit = donors[features]\n",
        "y_presplit = donors[target]\n",
        "\n",
        "X_presplit.shape, y_presplit.shape"
      ],
      "execution_count": 6,
      "outputs": [
        {
          "output_type": "execute_result",
          "data": {
            "text/plain": [
              "((748, 4), (748,))"
            ]
          },
          "metadata": {
            "tags": []
          },
          "execution_count": 6
        }
      ]
    },
    {
      "cell_type": "code",
      "metadata": {
        "id": "InhicZeZPX8L",
        "colab_type": "code",
        "colab": {
          "base_uri": "https://localhost:8080/",
          "height": 34
        },
        "outputId": "35d0c09b-1e8e-4be3-c212-2845e9c23a3c"
      },
      "source": [
        "# Split data\n",
        "from sklearn.model_selection import train_test_split\n",
        "\n",
        "X_train, X_test, y_train, y_test = train_test_split(X_presplit, y_presplit, \n",
        "                                                   train_size=0.8, \n",
        "                                                   test_size=0.2,\n",
        "                                                   random_state=42\n",
        "                                                   )\n",
        "\n",
        "X_train.shape, X_test.shape, y_train.shape, y_test.shape"
      ],
      "execution_count": 7,
      "outputs": [
        {
          "output_type": "execute_result",
          "data": {
            "text/plain": [
              "((598, 4), (150, 4), (598,), (150,))"
            ]
          },
          "metadata": {
            "tags": []
          },
          "execution_count": 7
        }
      ]
    },
    {
      "cell_type": "code",
      "metadata": {
        "id": "IXln6AS4hUcv",
        "colab_type": "code",
        "colab": {
          "base_uri": "https://localhost:8080/",
          "height": 51
        },
        "outputId": "c6d49e4e-9980-4bf2-ba8e-139ae132e313"
      },
      "source": [
        "# Verify split\n",
        "train_percent = 598/748\n",
        "test_percent = 150/748\n",
        "print(train_percent)\n",
        "print(test_percent)"
      ],
      "execution_count": 8,
      "outputs": [
        {
          "output_type": "stream",
          "text": [
            "0.7994652406417112\n",
            "0.20053475935828877\n"
          ],
          "name": "stdout"
        }
      ]
    },
    {
      "cell_type": "markdown",
      "metadata": {
        "id": "ln9fqAghRmQT",
        "colab_type": "text"
      },
      "source": [
        "## 1.3. Use scikit-learn to fit a logistic regression model\n",
        "\n",
        "You may use any number of features"
      ]
    },
    {
      "cell_type": "code",
      "metadata": {
        "id": "a2jf_deRRl64",
        "colab_type": "code",
        "colab": {}
      },
      "source": [
        "from sklearn.linear_model import LogisticRegression\n",
        "\n",
        "model = LogisticRegression(solver='liblinear')\n",
        "model.fit(X_train, y_train)\n",
        "y_pred = model.predict(X_test)"
      ],
      "execution_count": 0,
      "outputs": []
    },
    {
      "cell_type": "markdown",
      "metadata": {
        "id": "Ah6EhiRVSusy",
        "colab_type": "text"
      },
      "source": [
        "## 1.4. Report classification metric: accuracy\n",
        "\n",
        "What is your model's accuracy on the test set?\n",
        "\n",
        "Don't worry if your model doesn't beat the mean baseline. That's okay!\n",
        "\n",
        "_\"The combination of some data and an aching desire for an answer does not ensure that a reasonable answer can be extracted from a given body of data.\"_ —[John Tukey](https://en.wikiquote.org/wiki/John_Tukey)\n",
        "\n"
      ]
    },
    {
      "cell_type": "code",
      "metadata": {
        "id": "ZfJ2NFsASt9_",
        "colab_type": "code",
        "colab": {
          "base_uri": "https://localhost:8080/",
          "height": 51
        },
        "outputId": "d7e965a6-1458-43f7-9a0d-12afeaeadceb"
      },
      "source": [
        "from sklearn.metrics import accuracy_score\n",
        "\n",
        "# Close, but no cigar\n",
        "print(f'Accuracy Score: {accuracy_score(y_test, y_pred)}')\n",
        "print(f'Mean Baseline: {mean_baseline}')"
      ],
      "execution_count": 10,
      "outputs": [
        {
          "output_type": "stream",
          "text": [
            "Accuracy Score: 0.76\n",
            "Mean Baseline: 0.7620320855614974\n"
          ],
          "name": "stdout"
        }
      ]
    },
    {
      "cell_type": "markdown",
      "metadata": {
        "id": "xDmZn3ApOM7t",
        "colab_type": "text"
      },
      "source": [
        "# Part 2, Regression: Predict home prices in Ames, Iowa 🏠\n",
        "\n",
        "You'll use historical housing data. There's a data dictionary at the bottom of the notebook. \n",
        "\n",
        "Run this code cell to load the dataset:\n",
        "\n",
        "\n",
        "\n"
      ]
    },
    {
      "cell_type": "code",
      "metadata": {
        "id": "7ptoRG1lu7H4",
        "colab_type": "code",
        "colab": {}
      },
      "source": [
        "import pandas as pd\n",
        "URL = 'https://drive.google.com/uc?export=download&id=1522WlEW6HFss36roD_Cd9nybqSuiVcCK'\n",
        "homes = pd.read_csv(URL)\n",
        "assert homes.shape == (2904, 47)"
      ],
      "execution_count": 0,
      "outputs": []
    },
    {
      "cell_type": "markdown",
      "metadata": {
        "id": "CowG-cgZ5ZrB",
        "colab_type": "text"
      },
      "source": [
        "## 2.1. Begin with baselines\n",
        "\n",
        "What is the Mean Absolute Error and R^2 score for a mean baseline?"
      ]
    },
    {
      "cell_type": "code",
      "metadata": {
        "id": "_Z7LvHq1BQXb",
        "colab_type": "code",
        "colab": {
          "base_uri": "https://localhost:8080/",
          "height": 221
        },
        "outputId": "95f4ffc0-cd03-4b0c-90be-00047736f57f"
      },
      "source": [
        "homes.columns.unique"
      ],
      "execution_count": 12,
      "outputs": [
        {
          "output_type": "execute_result",
          "data": {
            "text/plain": [
              "<bound method Index.unique of Index(['1st_Flr_SF', 'Bedroom_AbvGr', 'Bldg_Type', 'Bsmt_Full_Bath',\n",
              "       'Bsmt_Half_Bath', 'Central_Air', 'Condition_1', 'Condition_2',\n",
              "       'Electrical', 'Exter_Cond', 'Exter_Qual', 'Exterior_1st',\n",
              "       'Exterior_2nd', 'Foundation', 'Full_Bath', 'Functional', 'Gr_Liv_Area',\n",
              "       'Half_Bath', 'Heating', 'Heating_QC', 'House_Style', 'Kitchen_AbvGr',\n",
              "       'Kitchen_Qual', 'Land_Contour', 'Land_Slope', 'Lot_Area', 'Lot_Config',\n",
              "       'Lot_Shape', 'MS_SubClass', 'MS_Zoning', 'Mas_Vnr_Type', 'Mo_Sold',\n",
              "       'Neighborhood', 'Overall_Cond', 'Overall_Qual', 'Paved_Drive',\n",
              "       'Roof_Matl', 'Roof_Style', 'SalePrice', 'Sale_Condition', 'Sale_Type',\n",
              "       'Street', 'TotRms_AbvGrd', 'Utilities', 'Year_Built', 'Year_Remod/Add',\n",
              "       'Yr_Sold'],\n",
              "      dtype='object')>"
            ]
          },
          "metadata": {
            "tags": []
          },
          "execution_count": 12
        }
      ]
    },
    {
      "cell_type": "code",
      "metadata": {
        "id": "QO45BH8DBcQ0",
        "colab_type": "code",
        "colab": {}
      },
      "source": [
        "# Generate predictions based on mean baseline\n",
        "y_train = homes['SalePrice']\n",
        "mean_baseline = y_train.mean()\n",
        "y_pred = [mean_baseline] * len(y_train)"
      ],
      "execution_count": 0,
      "outputs": []
    },
    {
      "cell_type": "code",
      "metadata": {
        "id": "TbahVr-j5ZLs",
        "colab_type": "code",
        "colab": {
          "base_uri": "https://localhost:8080/",
          "height": 51
        },
        "outputId": "e99bcf27-fded-47e1-864f-9bf3c619dfc1"
      },
      "source": [
        "# Check Mean Absolute Error and Rˆ2 Score\n",
        "from sklearn.metrics import mean_absolute_error\n",
        "from sklearn.metrics import r2_score\n",
        "\n",
        "mae = mean_absolute_error(y_train, y_pred)\n",
        "r2 = r2_score(y_train, y_pred)\n",
        "print(f'Mean Absolute Error: {mae}')\n",
        "print(f'Rˆ2 Score: {r2}')"
      ],
      "execution_count": 14,
      "outputs": [
        {
          "output_type": "stream",
          "text": [
            "Mean Absolute Error: 58149.92774120811\n",
            "Rˆ2 Score: 0.0\n"
          ],
          "name": "stdout"
        }
      ]
    },
    {
      "cell_type": "markdown",
      "metadata": {
        "id": "yqeiq1wvyrTq",
        "colab_type": "text"
      },
      "source": [
        "## 2.2. Do train/test split\n",
        "\n",
        "Train on houses sold in the years 2006 - 2008. (1,920 rows)\n",
        "\n",
        "Validate on house sold in 2009. (644 rows)\n",
        "\n",
        "Test on houses sold in 2010. (340 rows)"
      ]
    },
    {
      "cell_type": "code",
      "metadata": {
        "id": "EzdfDXIHD7AJ",
        "colab_type": "code",
        "colab": {
          "base_uri": "https://localhost:8080/",
          "height": 34
        },
        "outputId": "90260b13-8ebb-47ce-97d3-87dfae650922"
      },
      "source": [
        "homes['Yr_Sold'].unique()"
      ],
      "execution_count": 15,
      "outputs": [
        {
          "output_type": "execute_result",
          "data": {
            "text/plain": [
              "array([2010, 2009, 2008, 2007, 2006])"
            ]
          },
          "metadata": {
            "tags": []
          },
          "execution_count": 15
        }
      ]
    },
    {
      "cell_type": "code",
      "metadata": {
        "id": "02Ub2dOCE4ad",
        "colab_type": "code",
        "colab": {
          "base_uri": "https://localhost:8080/",
          "height": 34
        },
        "outputId": "6d7c964b-9700-4225-a2de-5ab6508438bf"
      },
      "source": [
        "type(homes['Yr_Sold'].loc[0])"
      ],
      "execution_count": 16,
      "outputs": [
        {
          "output_type": "execute_result",
          "data": {
            "text/plain": [
              "numpy.int64"
            ]
          },
          "metadata": {
            "tags": []
          },
          "execution_count": 16
        }
      ]
    },
    {
      "cell_type": "code",
      "metadata": {
        "id": "WKFjWLI3w0P_",
        "colab_type": "code",
        "colab": {
          "base_uri": "https://localhost:8080/",
          "height": 34
        },
        "outputId": "48be8c95-cfff-4376-cb3b-5bbad82c7525"
      },
      "source": [
        "train = homes[homes['Yr_Sold'] <= 2008]\n",
        "val = homes[homes['Yr_Sold'] == 2009]\n",
        "test = homes[homes['Yr_Sold'] == 2010]\n",
        "\n",
        "print(train.shape, val.shape, test.shape)"
      ],
      "execution_count": 17,
      "outputs": [
        {
          "output_type": "stream",
          "text": [
            "(1920, 47) (644, 47) (340, 47)\n"
          ],
          "name": "stdout"
        }
      ]
    },
    {
      "cell_type": "code",
      "metadata": {
        "id": "bIBOGEXmP6F4",
        "colab_type": "code",
        "colab": {
          "base_uri": "https://localhost:8080/",
          "height": 833
        },
        "outputId": "b80ceecb-b5e3-4668-fbea-f7c04378fe86"
      },
      "source": [
        "train.isnull().sum()"
      ],
      "execution_count": 18,
      "outputs": [
        {
          "output_type": "execute_result",
          "data": {
            "text/plain": [
              "1st_Flr_SF        0\n",
              "Bedroom_AbvGr     0\n",
              "Bldg_Type         0\n",
              "Bsmt_Full_Bath    0\n",
              "Bsmt_Half_Bath    0\n",
              "Central_Air       0\n",
              "Condition_1       0\n",
              "Condition_2       0\n",
              "Electrical        0\n",
              "Exter_Cond        0\n",
              "Exter_Qual        0\n",
              "Exterior_1st      0\n",
              "Exterior_2nd      0\n",
              "Foundation        0\n",
              "Full_Bath         0\n",
              "Functional        0\n",
              "Gr_Liv_Area       0\n",
              "Half_Bath         0\n",
              "Heating           0\n",
              "Heating_QC        0\n",
              "House_Style       0\n",
              "Kitchen_AbvGr     0\n",
              "Kitchen_Qual      0\n",
              "Land_Contour      0\n",
              "Land_Slope        0\n",
              "Lot_Area          0\n",
              "Lot_Config        0\n",
              "Lot_Shape         0\n",
              "MS_SubClass       0\n",
              "MS_Zoning         0\n",
              "Mas_Vnr_Type      0\n",
              "Mo_Sold           0\n",
              "Neighborhood      0\n",
              "Overall_Cond      0\n",
              "Overall_Qual      0\n",
              "Paved_Drive       0\n",
              "Roof_Matl         0\n",
              "Roof_Style        0\n",
              "SalePrice         0\n",
              "Sale_Condition    0\n",
              "Sale_Type         0\n",
              "Street            0\n",
              "TotRms_AbvGrd     0\n",
              "Utilities         0\n",
              "Year_Built        0\n",
              "Year_Remod/Add    0\n",
              "Yr_Sold           0\n",
              "dtype: int64"
            ]
          },
          "metadata": {
            "tags": []
          },
          "execution_count": 18
        }
      ]
    },
    {
      "cell_type": "markdown",
      "metadata": {
        "id": "hk1bYDJy6txq",
        "colab_type": "text"
      },
      "source": [
        "## 2.3. Arrange data into X features matrix and y target vector\n",
        "\n",
        "Select at least one numeric feature and at least one categorical feature.\n",
        "\n",
        "Otherwise, you many choose whichever features and however many you want."
      ]
    },
    {
      "cell_type": "code",
      "metadata": {
        "id": "PLDBfzE8IJo8",
        "colab_type": "code",
        "colab": {}
      },
      "source": [
        "# Get an idea of what the features mean\n",
        "import pandas_profiling\n",
        "homes.profile_report()"
      ],
      "execution_count": 0,
      "outputs": []
    },
    {
      "cell_type": "code",
      "metadata": {
        "id": "JQf9iwzf_uWh",
        "colab_type": "code",
        "colab": {
          "base_uri": "https://localhost:8080/",
          "height": 34
        },
        "outputId": "0452002c-771b-4f14-a4cf-499d46f8aed8"
      },
      "source": [
        "# Categorical feature = Neighborhood\n",
        "# Numeric features = Year_Built, Full_Bath, Overall_Cond, Overall_Qual\n",
        "target = 'SalePrice'\n",
        "features = ['Neighborhood', 'Year_Built', 'Full_Bath', 'Overall_Cond', 'Overall_Qual']\n",
        "print(f'Number of features: {len(features)}')\n",
        "\n",
        "# Train\n",
        "X_train = train[features]\n",
        "y_train = train[target]\n",
        "\n",
        "# Validate\n",
        "X_val = val[features]\n",
        "y_val = val[target]\n",
        "\n",
        "# Test\n",
        "X_test = test[features]\n",
        "y_test = test[target]"
      ],
      "execution_count": 20,
      "outputs": [
        {
          "output_type": "stream",
          "text": [
            "Number of features: 5\n"
          ],
          "name": "stdout"
        }
      ]
    },
    {
      "cell_type": "markdown",
      "metadata": {
        "id": "zDT-gSl_-Gwh",
        "colab_type": "text"
      },
      "source": [
        "## 2.4. Do one-hot encoding\n",
        "\n",
        "Encode your categorical feature(s)."
      ]
    },
    {
      "cell_type": "code",
      "metadata": {
        "id": "P6X3EIFIKQUy",
        "colab_type": "code",
        "colab": {}
      },
      "source": [
        "import category_encoders as ce\n",
        "\n",
        "# Create subset\n",
        "X_train_subset = X_train[features]\n",
        "X_val_subset = X_val[features]\n",
        "\n",
        "# Encode\n",
        "encoder = ce.OneHotEncoder(use_cat_names=True)\n",
        "X_train_encoded = encoder.fit_transform(X_train_subset)\n",
        "X_val_encoded = encoder.transform(X_val_subset)"
      ],
      "execution_count": 0,
      "outputs": []
    },
    {
      "cell_type": "markdown",
      "metadata": {
        "id": "2ZceruUx-Vs-",
        "colab_type": "text"
      },
      "source": [
        "## 2.5. Use scikit-learn to fit a linear regression (or ridge regression) model\n",
        "Fit your model."
      ]
    },
    {
      "cell_type": "code",
      "metadata": {
        "id": "Kvy4Z0xv7eJF",
        "colab_type": "code",
        "colab": {}
      },
      "source": [
        "from sklearn.preprocessing import StandardScaler\n",
        "\n",
        "# Scale\n",
        "scaler = StandardScaler()\n",
        "X_train_scaled = scaler.fit_transform(X_train_encoded)\n",
        "X_val_scaled = scaler.transform(X_val_encoded)"
      ],
      "execution_count": 0,
      "outputs": []
    },
    {
      "cell_type": "code",
      "metadata": {
        "id": "FLvvHiIMMa0Y",
        "colab_type": "code",
        "colab": {}
      },
      "source": [
        "from sklearn.linear_model import LinearRegression\n",
        "\n",
        "# Fit model\n",
        "model = LinearRegression()\n",
        "model.fit(X_train_scaled, y_train);"
      ],
      "execution_count": 0,
      "outputs": []
    },
    {
      "cell_type": "markdown",
      "metadata": {
        "id": "E9reASgw-i8T",
        "colab_type": "text"
      },
      "source": [
        "## 2.6. Report validation MAE and $R^2$\n",
        "\n",
        "What is your model's Mean Absolute Error and $R^2$ score on the validation set?"
      ]
    },
    {
      "cell_type": "code",
      "metadata": {
        "id": "MutEgYYhNI3o",
        "colab_type": "code",
        "colab": {
          "base_uri": "https://localhost:8080/",
          "height": 51
        },
        "outputId": "99d44aec-f496-4009-ba10-b23ef295a87d"
      },
      "source": [
        "y_pred = model.predict(X_val_scaled)\n",
        "\n",
        "mae = mean_absolute_error(y_val, y_pred)\n",
        "r2 = r2_score(y_val, y_pred)\n",
        "print(f'Mean Absolute Error: {mae}')\n",
        "print(f'Rˆ2 Score: {r2}')"
      ],
      "execution_count": 24,
      "outputs": [
        {
          "output_type": "stream",
          "text": [
            "Mean Absolute Error: 27427.170977266935\n",
            "Rˆ2 Score: 0.7611909168380177\n"
          ],
          "name": "stdout"
        }
      ]
    },
    {
      "cell_type": "markdown",
      "metadata": {
        "id": "DidByDsrOa-o",
        "colab_type": "text"
      },
      "source": [
        "# Stretch Goals, Regression\n",
        "- Make visualizations to explore relationships between features and target\n",
        "- Try at least 3 feature combinations. You may select features manually, or automatically\n",
        "- Report validation MAE and $R^2$ for each feature combination you try\n",
        "- Report test MAE and $R^2$ for your final model\n",
        "- Print or plot the coefficients for the features in your model"
      ]
    },
    {
      "cell_type": "code",
      "metadata": {
        "id": "Vokt7ASaPyNe",
        "colab_type": "code",
        "colab": {
          "base_uri": "https://localhost:8080/",
          "height": 221
        },
        "outputId": "738df9ea-2b0d-4cfb-f7cf-90b4eae19eb9"
      },
      "source": [
        "X_train_encoded.columns.unique()"
      ],
      "execution_count": 25,
      "outputs": [
        {
          "output_type": "execute_result",
          "data": {
            "text/plain": [
              "Index(['Neighborhood_NAmes', 'Neighborhood_Gilbert', 'Neighborhood_StoneBr',\n",
              "       'Neighborhood_NWAmes', 'Neighborhood_BrDale', 'Neighborhood_NPkVill',\n",
              "       'Neighborhood_NridgHt', 'Neighborhood_Blmngtn', 'Neighborhood_NoRidge',\n",
              "       'Neighborhood_Somerst', 'Neighborhood_SawyerW', 'Neighborhood_Sawyer',\n",
              "       'Neighborhood_Veenker', 'Neighborhood_BrkSide', 'Neighborhood_OldTown',\n",
              "       'Neighborhood_IDOTRR', 'Neighborhood_ClearCr', 'Neighborhood_Edwards',\n",
              "       'Neighborhood_CollgCr', 'Neighborhood_SWISU', 'Neighborhood_Crawfor',\n",
              "       'Neighborhood_Blueste', 'Neighborhood_Mitchel', 'Neighborhood_Timber',\n",
              "       'Neighborhood_MeadowV', 'Neighborhood_Greens', 'Neighborhood_GrnHill',\n",
              "       'Neighborhood_Landmrk', 'Year_Built', 'Full_Bath', 'Overall_Cond',\n",
              "       'Overall_Qual'],\n",
              "      dtype='object')"
            ]
          },
          "metadata": {
            "tags": []
          },
          "execution_count": 25
        }
      ]
    },
    {
      "cell_type": "code",
      "metadata": {
        "id": "SuOyo70AQV0M",
        "colab_type": "code",
        "colab": {
          "base_uri": "https://localhost:8080/",
          "height": 617
        },
        "outputId": "bf4aaeb1-8826-4262-aeeb-679f8f6c8b44"
      },
      "source": [
        "%matplotlib inline\n",
        "import matplotlib.pyplot as plt\n",
        "import seaborn as sns\n",
        "import plotly.express as px\n",
        "\n",
        "px.scatter(train, x='Neighborhood', y=target, title='Sale Price by Neighborhood')"
      ],
      "execution_count": 37,
      "outputs": [
        {
          "output_type": "display_data",
          "data": {
            "text/html": [
              "<html>\n",
              "<head><meta charset=\"utf-8\" /></head>\n",
              "<body>\n",
              "    <div>\n",
              "            <script src=\"https://cdnjs.cloudflare.com/ajax/libs/mathjax/2.7.5/MathJax.js?config=TeX-AMS-MML_SVG\"></script><script type=\"text/javascript\">if (window.MathJax) {MathJax.Hub.Config({SVG: {font: \"STIX-Web\"}});}</script>\n",
              "                <script type=\"text/javascript\">window.PlotlyConfig = {MathJaxConfig: 'local'};</script>\n",
              "        <script src=\"https://cdn.plot.ly/plotly-latest.min.js\"></script>    \n",
              "            <div id=\"1bf0f852-f572-4286-a57f-a1769211a334\" class=\"plotly-graph-div\" style=\"height:600px; width:100%;\"></div>\n",
              "            <script type=\"text/javascript\">\n",
              "                \n",
              "                    window.PLOTLYENV=window.PLOTLYENV || {};\n",
              "                    \n",
              "                if (document.getElementById(\"1bf0f852-f572-4286-a57f-a1769211a334\")) {\n",
              "                    Plotly.newPlot(\n",
              "                        '1bf0f852-f572-4286-a57f-a1769211a334',\n",
              "                        [{\"hoverlabel\": {\"namelength\": 0}, \"hovertemplate\": \"Neighborhood=%{x}<br>SalePrice=%{y}\", \"legendgroup\": \"\", \"marker\": {\"color\": \"#636efa\", \"symbol\": \"circle\"}, \"mode\": \"markers\", \"name\": \"\", \"showlegend\": false, \"type\": \"scattergl\", \"x\": [\"NAmes\", \"NAmes\", \"NAmes\", \"Gilbert\", \"Gilbert\", \"Gilbert\", \"Gilbert\", \"Gilbert\", \"Gilbert\", \"Gilbert\", \"StoneBr\", \"StoneBr\", \"StoneBr\", \"StoneBr\", \"Gilbert\", \"Gilbert\", \"Gilbert\", \"Gilbert\", \"Gilbert\", \"StoneBr\", \"StoneBr\", \"StoneBr\", \"StoneBr\", \"StoneBr\", \"Gilbert\", \"StoneBr\", \"Gilbert\", \"NWAmes\", \"NWAmes\", \"NWAmes\", \"NWAmes\", \"NWAmes\", \"NWAmes\", \"NWAmes\", \"NWAmes\", \"NWAmes\", \"NWAmes\", \"NWAmes\", \"NWAmes\", \"NWAmes\", \"NWAmes\", \"NWAmes\", \"NWAmes\", \"NWAmes\", \"NAmes\", \"NAmes\", \"NAmes\", \"NAmes\", \"NAmes\", \"NAmes\", \"BrDale\", \"BrDale\", \"BrDale\", \"BrDale\", \"BrDale\", \"BrDale\", \"BrDale\", \"NPkVill\", \"NPkVill\", \"NPkVill\", \"NAmes\", \"NridgHt\", \"NridgHt\", \"NridgHt\", \"NridgHt\", \"NridgHt\", \"NridgHt\", \"NridgHt\", \"NridgHt\", \"NridgHt\", \"NridgHt\", \"NridgHt\", \"NridgHt\", \"NridgHt\", \"NridgHt\", \"NridgHt\", \"NridgHt\", \"NridgHt\", \"NridgHt\", \"NridgHt\", \"NridgHt\", \"NridgHt\", \"NridgHt\", \"NridgHt\", \"NridgHt\", \"NridgHt\", \"NridgHt\", \"NridgHt\", \"NridgHt\", \"NridgHt\", \"NridgHt\", \"Blmngtn\", \"Blmngtn\", \"Blmngtn\", \"Blmngtn\", \"Blmngtn\", \"Gilbert\", \"Gilbert\", \"Gilbert\", \"Gilbert\", \"Gilbert\", \"Gilbert\", \"NridgHt\", \"Gilbert\", \"Gilbert\", \"Gilbert\", \"Gilbert\", \"Gilbert\", \"NoRidge\", \"NoRidge\", \"NoRidge\", \"NoRidge\", \"NoRidge\", \"NoRidge\", \"NoRidge\", \"NoRidge\", \"NoRidge\", \"NoRidge\", \"NoRidge\", \"NoRidge\", \"Somerst\", \"Somerst\", \"Somerst\", \"Somerst\", \"Somerst\", \"Somerst\", \"Somerst\", \"Somerst\", \"Somerst\", \"Somerst\", \"Somerst\", \"Somerst\", \"Somerst\", \"Somerst\", \"Somerst\", \"Somerst\", \"Somerst\", \"Somerst\", \"SawyerW\", \"SawyerW\", \"SawyerW\", \"SawyerW\", \"SawyerW\", \"SawyerW\", \"SawyerW\", \"SawyerW\", \"SawyerW\", \"SawyerW\", \"SawyerW\", \"SawyerW\", \"SawyerW\", \"SawyerW\", \"SawyerW\", \"SawyerW\", \"SawyerW\", \"SawyerW\", \"Sawyer\", \"Sawyer\", \"Sawyer\", \"Sawyer\", \"Sawyer\", \"Sawyer\", \"Veenker\", \"Sawyer\", \"NoRidge\", \"NoRidge\", \"Somerst\", \"Somerst\", \"Somerst\", \"Somerst\", \"Somerst\", \"Somerst\", \"Somerst\", \"Somerst\", \"Somerst\", \"Somerst\", \"Somerst\", \"Somerst\", \"Somerst\", \"Somerst\", \"Somerst\", \"Somerst\", \"Somerst\", \"Somerst\", \"Somerst\", \"Veenker\", \"Veenker\", \"Veenker\", \"Veenker\", \"Veenker\", \"Veenker\", \"NWAmes\", \"NWAmes\", \"NWAmes\", \"NWAmes\", \"NWAmes\", \"NWAmes\", \"NWAmes\", \"NAmes\", \"NAmes\", \"NAmes\", \"NAmes\", \"NAmes\", \"NWAmes\", \"NWAmes\", \"NWAmes\", \"NWAmes\", \"NWAmes\", \"NAmes\", \"NWAmes\", \"NAmes\", \"NAmes\", \"NAmes\", \"NAmes\", \"NAmes\", \"NAmes\", \"NAmes\", \"NAmes\", \"NAmes\", \"NAmes\", \"NAmes\", \"NAmes\", \"NAmes\", \"NAmes\", \"NAmes\", \"BrkSide\", \"BrkSide\", \"BrkSide\", \"BrkSide\", \"NAmes\", \"NAmes\", \"NAmes\", \"NAmes\", \"NAmes\", \"NAmes\", \"NAmes\", \"NAmes\", \"NAmes\", \"NAmes\", \"NAmes\", \"NAmes\", \"NAmes\", \"NAmes\", \"NAmes\", \"NAmes\", \"NAmes\", \"NAmes\", \"NAmes\", \"NAmes\", \"NAmes\", \"NAmes\", \"NAmes\", \"NAmes\", \"NAmes\", \"NAmes\", \"NAmes\", \"NAmes\", \"NAmes\", \"NAmes\", \"NAmes\", \"OldTown\", \"OldTown\", \"NAmes\", \"OldTown\", \"OldTown\", \"OldTown\", \"NAmes\", \"NAmes\", \"NAmes\", \"NAmes\", \"NAmes\", \"NAmes\", \"NAmes\", \"NAmes\", \"NAmes\", \"NAmes\", \"NAmes\", \"NAmes\", \"NAmes\", \"NAmes\", \"NAmes\", \"NAmes\", \"NAmes\", \"NAmes\", \"NAmes\", \"NAmes\", \"NAmes\", \"NAmes\", \"NAmes\", \"OldTown\", \"OldTown\", \"OldTown\", \"OldTown\", \"OldTown\", \"OldTown\", \"OldTown\", \"OldTown\", \"OldTown\", \"OldTown\", \"OldTown\", \"OldTown\", \"OldTown\", \"OldTown\", \"OldTown\", \"OldTown\", \"OldTown\", \"OldTown\", \"OldTown\", \"OldTown\", \"OldTown\", \"OldTown\", \"OldTown\", \"OldTown\", \"OldTown\", \"OldTown\", \"OldTown\", \"OldTown\", \"OldTown\", \"OldTown\", \"OldTown\", \"OldTown\", \"OldTown\", \"OldTown\", \"OldTown\", \"OldTown\", \"OldTown\", \"OldTown\", \"OldTown\", \"OldTown\", \"OldTown\", \"OldTown\", \"OldTown\", \"OldTown\", \"BrkSide\", \"BrkSide\", \"BrkSide\", \"BrkSide\", \"BrkSide\", \"BrkSide\", \"BrkSide\", \"BrkSide\", \"BrkSide\", \"BrkSide\", \"BrkSide\", \"BrkSide\", \"BrkSide\", \"BrkSide\", \"BrkSide\", \"BrkSide\", \"BrkSide\", \"BrkSide\", \"OldTown\", \"OldTown\", \"BrkSide\", \"BrkSide\", \"BrkSide\", \"BrkSide\", \"BrkSide\", \"BrkSide\", \"BrkSide\", \"BrkSide\", \"OldTown\", \"OldTown\", \"OldTown\", \"IDOTRR\", \"IDOTRR\", \"IDOTRR\", \"IDOTRR\", \"IDOTRR\", \"IDOTRR\", \"IDOTRR\", \"OldTown\", \"OldTown\", \"IDOTRR\", \"IDOTRR\", \"IDOTRR\", \"Sawyer\", \"Sawyer\", \"Sawyer\", \"ClearCr\", \"Edwards\", \"Sawyer\", \"Sawyer\", \"Sawyer\", \"Sawyer\", \"Sawyer\", \"Sawyer\", \"Sawyer\", \"Sawyer\", \"Sawyer\", \"Sawyer\", \"Sawyer\", \"Sawyer\", \"Sawyer\", \"Sawyer\", \"Sawyer\", \"Sawyer\", \"ClearCr\", \"Sawyer\", \"Sawyer\", \"ClearCr\", \"Sawyer\", \"Sawyer\", \"ClearCr\", \"ClearCr\", \"ClearCr\", \"ClearCr\", \"ClearCr\", \"Edwards\", \"Edwards\", \"Edwards\", \"ClearCr\", \"Edwards\", \"Edwards\", \"Edwards\", \"Edwards\", \"Edwards\", \"Edwards\", \"Edwards\", \"Edwards\", \"Edwards\", \"Edwards\", \"Edwards\", \"SawyerW\", \"SawyerW\", \"SawyerW\", \"SawyerW\", \"SawyerW\", \"CollgCr\", \"CollgCr\", \"CollgCr\", \"CollgCr\", \"SawyerW\", \"SawyerW\", \"ClearCr\", \"ClearCr\", \"CollgCr\", \"CollgCr\", \"CollgCr\", \"CollgCr\", \"CollgCr\", \"CollgCr\", \"CollgCr\", \"CollgCr\", \"CollgCr\", \"CollgCr\", \"CollgCr\", \"CollgCr\", \"CollgCr\", \"CollgCr\", \"CollgCr\", \"CollgCr\", \"CollgCr\", \"CollgCr\", \"CollgCr\", \"CollgCr\", \"CollgCr\", \"CollgCr\", \"CollgCr\", \"CollgCr\", \"CollgCr\", \"CollgCr\", \"CollgCr\", \"CollgCr\", \"CollgCr\", \"CollgCr\", \"CollgCr\", \"CollgCr\", \"CollgCr\", \"CollgCr\", \"CollgCr\", \"CollgCr\", \"CollgCr\", \"CollgCr\", \"CollgCr\", \"CollgCr\", \"CollgCr\", \"CollgCr\", \"CollgCr\", \"CollgCr\", \"CollgCr\", \"CollgCr\", \"CollgCr\", \"CollgCr\", \"CollgCr\", \"CollgCr\", \"CollgCr\", \"CollgCr\", \"CollgCr\", \"Edwards\", \"Edwards\", \"Edwards\", \"Edwards\", \"Edwards\", \"Edwards\", \"Edwards\", \"Edwards\", \"Edwards\", \"Edwards\", \"Edwards\", \"Edwards\", \"Edwards\", \"Edwards\", \"Edwards\", \"Edwards\", \"Edwards\", \"Edwards\", \"Edwards\", \"Edwards\", \"Edwards\", \"Edwards\", \"Edwards\", \"Edwards\", \"Edwards\", \"Edwards\", \"Edwards\", \"Edwards\", \"Edwards\", \"SWISU\", \"SWISU\", \"SWISU\", \"SWISU\", \"SWISU\", \"SWISU\", \"SWISU\", \"SWISU\", \"Crawfor\", \"Crawfor\", \"Crawfor\", \"Crawfor\", \"SWISU\", \"Crawfor\", \"SWISU\", \"Crawfor\", \"Crawfor\", \"Crawfor\", \"Crawfor\", \"Crawfor\", \"Crawfor\", \"Crawfor\", \"Crawfor\", \"Crawfor\", \"Crawfor\", \"Crawfor\", \"Crawfor\", \"Blueste\", \"Blueste\", \"IDOTRR\", \"IDOTRR\", \"IDOTRR\", \"IDOTRR\", \"IDOTRR\", \"IDOTRR\", \"IDOTRR\", \"IDOTRR\", \"IDOTRR\", \"IDOTRR\", \"IDOTRR\", \"IDOTRR\", \"IDOTRR\", \"IDOTRR\", \"IDOTRR\", \"Crawfor\", \"Crawfor\", \"Crawfor\", \"Crawfor\", \"Mitchel\", \"Mitchel\", \"Mitchel\", \"Mitchel\", \"Mitchel\", \"Mitchel\", \"Mitchel\", \"Timber\", \"Timber\", \"Timber\", \"Timber\", \"Timber\", \"Timber\", \"Timber\", \"Timber\", \"Timber\", \"Timber\", \"Timber\", \"Timber\", \"Timber\", \"Timber\", \"Timber\", \"Timber\", \"Timber\", \"Mitchel\", \"Mitchel\", \"Mitchel\", \"Mitchel\", \"Mitchel\", \"MeadowV\", \"MeadowV\", \"MeadowV\", \"MeadowV\", \"MeadowV\", \"Mitchel\", \"MeadowV\", \"MeadowV\", \"Mitchel\", \"Mitchel\", \"Mitchel\", \"Mitchel\", \"Mitchel\", \"Mitchel\", \"Mitchel\", \"Mitchel\", \"Mitchel\", \"IDOTRR\", \"NAmes\", \"NAmes\", \"NAmes\", \"NAmes\", \"Gilbert\", \"Gilbert\", \"Gilbert\", \"Gilbert\", \"Gilbert\", \"StoneBr\", \"Gilbert\", \"Gilbert\", \"Gilbert\", \"Gilbert\", \"Gilbert\", \"Gilbert\", \"Gilbert\", \"Gilbert\", \"Gilbert\", \"Gilbert\", \"StoneBr\", \"StoneBr\", \"StoneBr\", \"StoneBr\", \"StoneBr\", \"StoneBr\", \"StoneBr\", \"Gilbert\", \"StoneBr\", \"StoneBr\", \"StoneBr\", \"StoneBr\", \"NWAmes\", \"NWAmes\", \"NWAmes\", \"NWAmes\", \"NWAmes\", \"NWAmes\", \"NWAmes\", \"NWAmes\", \"NWAmes\", \"NWAmes\", \"NWAmes\", \"NWAmes\", \"NWAmes\", \"NWAmes\", \"NWAmes\", \"NWAmes\", \"NWAmes\", \"NWAmes\", \"NWAmes\", \"NAmes\", \"NAmes\", \"NAmes\", \"NAmes\", \"NAmes\", \"NAmes\", \"NAmes\", \"NAmes\", \"NAmes\", \"NAmes\", \"NAmes\", \"NAmes\", \"NAmes\", \"BrDale\", \"BrDale\", \"BrDale\", \"BrDale\", \"BrDale\", \"NPkVill\", \"NPkVill\", \"NPkVill\", \"NAmes\", \"NridgHt\", \"NridgHt\", \"NridgHt\", \"NridgHt\", \"NridgHt\", \"NridgHt\", \"NridgHt\", \"NridgHt\", \"NridgHt\", \"NridgHt\", \"NridgHt\", \"NridgHt\", \"NridgHt\", \"NridgHt\", \"NridgHt\", \"NridgHt\", \"NridgHt\", \"NridgHt\", \"NridgHt\", \"NridgHt\", \"NridgHt\", \"NridgHt\", \"NridgHt\", \"NridgHt\", \"NridgHt\", \"NridgHt\", \"NridgHt\", \"NridgHt\", \"NridgHt\", \"NridgHt\", \"NridgHt\", \"NridgHt\", \"NridgHt\", \"NridgHt\", \"NridgHt\", \"NridgHt\", \"NridgHt\", \"NridgHt\", \"NridgHt\", \"NridgHt\", \"NridgHt\", \"NridgHt\", \"NridgHt\", \"Gilbert\", \"Gilbert\", \"Gilbert\", \"Gilbert\", \"Gilbert\", \"Gilbert\", \"Gilbert\", \"Gilbert\", \"Gilbert\", \"Gilbert\", \"Gilbert\", \"Gilbert\", \"Gilbert\", \"Blmngtn\", \"Blmngtn\", \"Blmngtn\", \"Blmngtn\", \"Gilbert\", \"Gilbert\", \"Gilbert\", \"Gilbert\", \"Gilbert\", \"Gilbert\", \"Gilbert\", \"Gilbert\", \"Gilbert\", \"Gilbert\", \"Gilbert\", \"Gilbert\", \"Gilbert\", \"Gilbert\", \"NoRidge\", \"NoRidge\", \"NoRidge\", \"NoRidge\", \"NoRidge\", \"NoRidge\", \"NoRidge\", \"NoRidge\", \"NoRidge\", \"NoRidge\", \"NoRidge\", \"NoRidge\", \"NoRidge\", \"NoRidge\", \"NoRidge\", \"Somerst\", \"Somerst\", \"Somerst\", \"Somerst\", \"Somerst\", \"Somerst\", \"Somerst\", \"Somerst\", \"Somerst\", \"Somerst\", \"Somerst\", \"Somerst\", \"Somerst\", \"Somerst\", \"Somerst\", \"Somerst\", \"Somerst\", \"Somerst\", \"Somerst\", \"Somerst\", \"Somerst\", \"Somerst\", \"Somerst\", \"Somerst\", \"Somerst\", \"Somerst\", \"Somerst\", \"Somerst\", \"Somerst\", \"SawyerW\", \"SawyerW\", \"SawyerW\", \"SawyerW\", \"SawyerW\", \"SawyerW\", \"SawyerW\", \"SawyerW\", \"SawyerW\", \"SawyerW\", \"SawyerW\", \"SawyerW\", \"Sawyer\", \"Sawyer\", \"Sawyer\", \"Sawyer\", \"Sawyer\", \"Sawyer\", \"Sawyer\", \"Sawyer\", \"Sawyer\", \"Veenker\", \"Veenker\", \"Sawyer\", \"Sawyer\", \"Sawyer\", \"NoRidge\", \"NoRidge\", \"Somerst\", \"Somerst\", \"Somerst\", \"Somerst\", \"Somerst\", \"Somerst\", \"Somerst\", \"Somerst\", \"Somerst\", \"Somerst\", \"Somerst\", \"Somerst\", \"Somerst\", \"Somerst\", \"Somerst\", \"Somerst\", \"Somerst\", \"Veenker\", \"Veenker\", \"Veenker\", \"Veenker\", \"Greens\", \"Veenker\", \"Veenker\", \"Veenker\", \"Sawyer\", \"Somerst\", \"NWAmes\", \"NWAmes\", \"NWAmes\", \"NWAmes\", \"NWAmes\", \"NWAmes\", \"NWAmes\", \"NWAmes\", \"NWAmes\", \"NWAmes\", \"NWAmes\", \"NAmes\", \"NAmes\", \"NAmes\", \"NAmes\", \"NAmes\", \"NAmes\", \"NAmes\", \"NAmes\", \"NAmes\", \"NAmes\", \"NAmes\", \"NAmes\", \"NAmes\", \"NAmes\", \"NAmes\", \"NAmes\", \"NAmes\", \"NAmes\", \"NAmes\", \"NAmes\", \"NAmes\", \"NAmes\", \"NAmes\", \"NAmes\", \"NAmes\", \"NAmes\", \"NAmes\", \"BrkSide\", \"BrkSide\", \"BrkSide\", \"BrkSide\", \"NAmes\", \"NAmes\", \"NAmes\", \"NAmes\", \"NAmes\", \"NAmes\", \"NAmes\", \"NAmes\", \"NAmes\", \"NAmes\", \"NAmes\", \"NAmes\", \"NAmes\", \"NAmes\", \"NAmes\", \"NAmes\", \"NAmes\", \"NAmes\", \"NAmes\", \"NAmes\", \"NAmes\", \"NAmes\", \"NAmes\", \"NAmes\", \"NAmes\", \"NAmes\", \"NAmes\", \"NAmes\", \"NAmes\", \"NAmes\", \"NAmes\", \"NAmes\", \"NAmes\", \"NAmes\", \"NAmes\", \"NAmes\", \"OldTown\", \"OldTown\", \"NAmes\", \"NAmes\", \"NAmes\", \"OldTown\", \"OldTown\", \"OldTown\", \"OldTown\", \"OldTown\", \"OldTown\", \"NAmes\", \"NAmes\", \"NAmes\", \"NAmes\", \"NAmes\", \"NAmes\", \"NAmes\", \"NAmes\", \"NAmes\", \"NAmes\", \"NAmes\", \"NAmes\", \"NAmes\", \"NAmes\", \"NAmes\", \"NAmes\", \"NAmes\", \"NAmes\", \"NAmes\", \"NAmes\", \"NAmes\", \"OldTown\", \"OldTown\", \"OldTown\", \"OldTown\", \"OldTown\", \"OldTown\", \"OldTown\", \"OldTown\", \"OldTown\", \"OldTown\", \"OldTown\", \"OldTown\", \"OldTown\", \"OldTown\", \"OldTown\", \"OldTown\", \"OldTown\", \"OldTown\", \"OldTown\", \"OldTown\", \"OldTown\", \"OldTown\", \"OldTown\", \"OldTown\", \"OldTown\", \"OldTown\", \"OldTown\", \"OldTown\", \"OldTown\", \"OldTown\", \"OldTown\", \"OldTown\", \"BrkSide\", \"BrkSide\", \"BrkSide\", \"BrkSide\", \"BrkSide\", \"BrkSide\", \"BrkSide\", \"BrkSide\", \"BrkSide\", \"BrkSide\", \"BrkSide\", \"BrkSide\", \"BrkSide\", \"BrkSide\", \"BrkSide\", \"BrkSide\", \"OldTown\", \"BrkSide\", \"BrkSide\", \"BrkSide\", \"BrkSide\", \"OldTown\", \"OldTown\", \"OldTown\", \"OldTown\", \"IDOTRR\", \"IDOTRR\", \"IDOTRR\", \"IDOTRR\", \"IDOTRR\", \"IDOTRR\", \"IDOTRR\", \"IDOTRR\", \"IDOTRR\", \"IDOTRR\", \"OldTown\", \"OldTown\", \"OldTown\", \"IDOTRR\", \"Sawyer\", \"ClearCr\", \"Edwards\", \"SWISU\", \"Sawyer\", \"Sawyer\", \"Sawyer\", \"Sawyer\", \"Sawyer\", \"Sawyer\", \"Sawyer\", \"Sawyer\", \"Sawyer\", \"Sawyer\", \"Sawyer\", \"Sawyer\", \"Sawyer\", \"Sawyer\", \"Sawyer\", \"Sawyer\", \"Sawyer\", \"Sawyer\", \"Sawyer\", \"Sawyer\", \"Sawyer\", \"Sawyer\", \"Sawyer\", \"ClearCr\", \"ClearCr\", \"ClearCr\", \"Edwards\", \"Edwards\", \"Edwards\", \"ClearCr\", \"Edwards\", \"Edwards\", \"SWISU\", \"Edwards\", \"Edwards\", \"Edwards\", \"Edwards\", \"Edwards\", \"Edwards\", \"Edwards\", \"Edwards\", \"SawyerW\", \"SawyerW\", \"SawyerW\", \"SawyerW\", \"SawyerW\", \"SawyerW\", \"SawyerW\", \"CollgCr\", \"CollgCr\", \"CollgCr\", \"CollgCr\", \"CollgCr\", \"CollgCr\", \"CollgCr\", \"CollgCr\", \"CollgCr\", \"CollgCr\", \"CollgCr\", \"CollgCr\", \"CollgCr\", \"CollgCr\", \"CollgCr\", \"CollgCr\", \"CollgCr\", \"SawyerW\", \"SawyerW\", \"ClearCr\", \"ClearCr\", \"ClearCr\", \"ClearCr\", \"CollgCr\", \"CollgCr\", \"CollgCr\", \"CollgCr\", \"CollgCr\", \"CollgCr\", \"CollgCr\", \"CollgCr\", \"CollgCr\", \"CollgCr\", \"CollgCr\", \"CollgCr\", \"CollgCr\", \"CollgCr\", \"CollgCr\", \"CollgCr\", \"CollgCr\", \"CollgCr\", \"CollgCr\", \"CollgCr\", \"CollgCr\", \"CollgCr\", \"CollgCr\", \"CollgCr\", \"CollgCr\", \"CollgCr\", \"CollgCr\", \"CollgCr\", \"CollgCr\", \"CollgCr\", \"CollgCr\", \"CollgCr\", \"CollgCr\", \"CollgCr\", \"CollgCr\", \"CollgCr\", \"CollgCr\", \"CollgCr\", \"CollgCr\", \"CollgCr\", \"CollgCr\", \"CollgCr\", \"CollgCr\", \"CollgCr\", \"CollgCr\", \"CollgCr\", \"CollgCr\", \"CollgCr\", \"Edwards\", \"Edwards\", \"Edwards\", \"Edwards\", \"Edwards\", \"Edwards\", \"Edwards\", \"Edwards\", \"Edwards\", \"Edwards\", \"Edwards\", \"Edwards\", \"Edwards\", \"Edwards\", \"Edwards\", \"Edwards\", \"Edwards\", \"Edwards\", \"Edwards\", \"Edwards\", \"Edwards\", \"Edwards\", \"Edwards\", \"Edwards\", \"Edwards\", \"Edwards\", \"Edwards\", \"SWISU\", \"SWISU\", \"Crawfor\", \"Crawfor\", \"Crawfor\", \"Crawfor\", \"SWISU\", \"Crawfor\", \"Crawfor\", \"Crawfor\", \"Crawfor\", \"Crawfor\", \"Crawfor\", \"Crawfor\", \"Crawfor\", \"Crawfor\", \"Crawfor\", \"Crawfor\", \"Crawfor\", \"Crawfor\", \"Crawfor\", \"Crawfor\", \"Crawfor\", \"Crawfor\", \"Crawfor\", \"Crawfor\", \"Crawfor\", \"Crawfor\", \"Crawfor\", \"Crawfor\", \"Crawfor\", \"Blueste\", \"Crawfor\", \"Blueste\", \"Crawfor\", \"Crawfor\", \"IDOTRR\", \"IDOTRR\", \"IDOTRR\", \"IDOTRR\", \"IDOTRR\", \"IDOTRR\", \"IDOTRR\", \"IDOTRR\", \"IDOTRR\", \"IDOTRR\", \"IDOTRR\", \"IDOTRR\", \"IDOTRR\", \"IDOTRR\", \"Crawfor\", \"Crawfor\", \"Mitchel\", \"Mitchel\", \"Mitchel\", \"Mitchel\", \"Mitchel\", \"Mitchel\", \"Mitchel\", \"Mitchel\", \"Timber\", \"GrnHill\", \"Timber\", \"Timber\", \"Timber\", \"Timber\", \"Timber\", \"Timber\", \"Timber\", \"Timber\", \"Timber\", \"Timber\", \"Timber\", \"Timber\", \"Timber\", \"Timber\", \"Timber\", \"Timber\", \"Timber\", \"Timber\", \"Timber\", \"Mitchel\", \"Mitchel\", \"Mitchel\", \"Mitchel\", \"Mitchel\", \"Mitchel\", \"MeadowV\", \"MeadowV\", \"MeadowV\", \"MeadowV\", \"MeadowV\", \"MeadowV\", \"MeadowV\", \"MeadowV\", \"Mitchel\", \"Mitchel\", \"Mitchel\", \"Mitchel\", \"Mitchel\", \"Mitchel\", \"Mitchel\", \"Mitchel\", \"Mitchel\", \"Mitchel\", \"Mitchel\", \"Mitchel\", \"Mitchel\", \"Mitchel\", \"NAmes\", \"NAmes\", \"NAmes\", \"NAmes\", \"NAmes\", \"Gilbert\", \"Gilbert\", \"Gilbert\", \"Gilbert\", \"Gilbert\", \"Gilbert\", \"Gilbert\", \"Gilbert\", \"Gilbert\", \"Gilbert\", \"Gilbert\", \"Gilbert\", \"StoneBr\", \"Gilbert\", \"Gilbert\", \"Gilbert\", \"StoneBr\", \"StoneBr\", \"StoneBr\", \"StoneBr\", \"StoneBr\", \"StoneBr\", \"StoneBr\", \"StoneBr\", \"StoneBr\", \"StoneBr\", \"StoneBr\", \"Gilbert\", \"Gilbert\", \"StoneBr\", \"StoneBr\", \"StoneBr\", \"NWAmes\", \"NWAmes\", \"NWAmes\", \"NWAmes\", \"NWAmes\", \"NWAmes\", \"NWAmes\", \"NWAmes\", \"NWAmes\", \"NWAmes\", \"NWAmes\", \"Somerst\", \"NWAmes\", \"NWAmes\", \"NWAmes\", \"NWAmes\", \"NWAmes\", \"NAmes\", \"NAmes\", \"NAmes\", \"NAmes\", \"NAmes\", \"BrDale\", \"BrDale\", \"BrDale\", \"BrDale\", \"BrDale\", \"BrDale\", \"BrDale\", \"BrDale\", \"BrDale\", \"NPkVill\", \"NAmes\", \"NAmes\", \"NPkVill\", \"NPkVill\", \"NridgHt\", \"NridgHt\", \"NridgHt\", \"NridgHt\", \"NridgHt\", \"NridgHt\", \"NridgHt\", \"NridgHt\", \"NridgHt\", \"NridgHt\", \"NridgHt\", \"NridgHt\", \"NridgHt\", \"NridgHt\", \"NridgHt\", \"NridgHt\", \"NridgHt\", \"NridgHt\", \"NridgHt\", \"NridgHt\", \"NridgHt\", \"NridgHt\", \"NridgHt\", \"NridgHt\", \"NridgHt\", \"NridgHt\", \"NridgHt\", \"NridgHt\", \"NridgHt\", \"NridgHt\", \"Gilbert\", \"Gilbert\", \"Gilbert\", \"Gilbert\", \"Gilbert\", \"Gilbert\", \"Gilbert\", \"Gilbert\", \"Gilbert\", \"Blmngtn\", \"Blmngtn\", \"Blmngtn\", \"Blmngtn\", \"Blmngtn\", \"Blmngtn\", \"Blmngtn\", \"Blmngtn\", \"Blmngtn\", \"Blmngtn\", \"Blmngtn\", \"Gilbert\", \"Gilbert\", \"Gilbert\", \"Gilbert\", \"Gilbert\", \"Gilbert\", \"Gilbert\", \"Gilbert\", \"Gilbert\", \"Gilbert\", \"Gilbert\", \"Gilbert\", \"NoRidge\", \"NoRidge\", \"NoRidge\", \"NoRidge\", \"NoRidge\", \"NoRidge\", \"NoRidge\", \"NoRidge\", \"NoRidge\", \"NoRidge\", \"NoRidge\", \"NoRidge\", \"Somerst\", \"Somerst\", \"Somerst\", \"Somerst\", \"Somerst\", \"Somerst\", \"Somerst\", \"Somerst\", \"Somerst\", \"Somerst\", \"Somerst\", \"Somerst\", \"Somerst\", \"Somerst\", \"Somerst\", \"SawyerW\", \"SawyerW\", \"SawyerW\", \"SawyerW\", \"SawyerW\", \"SawyerW\", \"SawyerW\", \"SawyerW\", \"SawyerW\", \"SawyerW\", \"SawyerW\", \"SawyerW\", \"SawyerW\", \"SawyerW\", \"SawyerW\", \"Sawyer\", \"Sawyer\", \"Sawyer\", \"Sawyer\", \"Sawyer\", \"Sawyer\", \"Sawyer\", \"Sawyer\", \"Sawyer\", \"Sawyer\", \"Sawyer\", \"Sawyer\", \"Sawyer\", \"Veenker\", \"NoRidge\", \"NoRidge\", \"NoRidge\", \"NoRidge\", \"NoRidge\", \"Somerst\", \"Somerst\", \"Somerst\", \"Somerst\", \"Somerst\", \"Somerst\", \"Somerst\", \"Somerst\", \"Somerst\", \"Somerst\", \"Somerst\", \"Somerst\", \"Veenker\", \"Veenker\", \"Greens\", \"Greens\", \"Greens\", \"Greens\", \"Veenker\", \"NWAmes\", \"NWAmes\", \"NWAmes\", \"NWAmes\", \"NWAmes\", \"NWAmes\", \"NWAmes\", \"NWAmes\", \"NAmes\", \"NAmes\", \"NAmes\", \"NAmes\", \"NAmes\", \"NAmes\", \"NAmes\", \"NAmes\", \"NAmes\", \"NWAmes\", \"NAmes\", \"NAmes\", \"NAmes\", \"NAmes\", \"NAmes\", \"NAmes\", \"NAmes\", \"NAmes\", \"NAmes\", \"NAmes\", \"NAmes\", \"NAmes\", \"NAmes\", \"BrkSide\", \"BrkSide\", \"BrkSide\", \"BrkSide\", \"NAmes\", \"NAmes\", \"NAmes\", \"NAmes\", \"NAmes\", \"NAmes\", \"NAmes\", \"NAmes\", \"NAmes\", \"NAmes\", \"NAmes\", \"NAmes\", \"NAmes\", \"NAmes\", \"NAmes\", \"NAmes\", \"NAmes\", \"NAmes\", \"NAmes\", \"NAmes\", \"NAmes\", \"NAmes\", \"NAmes\", \"NAmes\", \"NAmes\", \"NAmes\", \"NAmes\", \"NAmes\", \"NAmes\", \"NAmes\", \"NAmes\", \"NAmes\", \"NAmes\", \"NAmes\", \"OldTown\", \"NAmes\", \"OldTown\", \"OldTown\", \"OldTown\", \"OldTown\", \"NAmes\", \"OldTown\", \"OldTown\", \"OldTown\", \"OldTown\", \"OldTown\", \"OldTown\", \"OldTown\", \"NAmes\", \"NAmes\", \"NAmes\", \"NAmes\", \"NAmes\", \"NAmes\", \"NAmes\", \"NAmes\", \"NAmes\", \"NAmes\", \"NAmes\", \"NAmes\", \"NAmes\", \"NAmes\", \"NAmes\", \"NAmes\", \"NAmes\", \"NAmes\", \"NAmes\", \"NAmes\", \"NAmes\", \"NAmes\", \"NAmes\", \"NAmes\", \"NAmes\", \"NAmes\", \"NAmes\", \"NAmes\", \"NAmes\", \"OldTown\", \"OldTown\", \"OldTown\", \"OldTown\", \"OldTown\", \"OldTown\", \"OldTown\", \"OldTown\", \"OldTown\", \"OldTown\", \"OldTown\", \"OldTown\", \"OldTown\", \"OldTown\", \"OldTown\", \"OldTown\", \"OldTown\", \"OldTown\", \"OldTown\", \"OldTown\", \"OldTown\", \"OldTown\", \"OldTown\", \"OldTown\", \"OldTown\", \"OldTown\", \"OldTown\", \"OldTown\", \"OldTown\", \"OldTown\", \"OldTown\", \"OldTown\", \"OldTown\", \"OldTown\", \"IDOTRR\", \"BrkSide\", \"BrkSide\", \"BrkSide\", \"BrkSide\", \"OldTown\", \"BrkSide\", \"BrkSide\", \"BrkSide\", \"BrkSide\", \"BrkSide\", \"BrkSide\", \"BrkSide\", \"OldTown\", \"BrkSide\", \"BrkSide\", \"BrkSide\", \"OldTown\", \"BrkSide\", \"OldTown\", \"OldTown\", \"IDOTRR\", \"IDOTRR\", \"IDOTRR\", \"IDOTRR\", \"IDOTRR\", \"IDOTRR\", \"IDOTRR\", \"IDOTRR\", \"Sawyer\", \"Sawyer\", \"Sawyer\", \"ClearCr\", \"Edwards\", \"SWISU\", \"SWISU\", \"Sawyer\", \"Sawyer\", \"Sawyer\", \"Sawyer\", \"Sawyer\", \"Sawyer\", \"Sawyer\", \"Sawyer\", \"Sawyer\", \"Sawyer\", \"Sawyer\", \"Sawyer\", \"Sawyer\", \"Sawyer\", \"Sawyer\", \"Sawyer\", \"Sawyer\", \"Sawyer\", \"Sawyer\", \"Sawyer\", \"ClearCr\", \"ClearCr\", \"ClearCr\", \"Sawyer\", \"Sawyer\", \"ClearCr\", \"ClearCr\", \"Edwards\", \"Edwards\", \"Edwards\", \"Edwards\", \"Edwards\", \"Edwards\", \"Edwards\", \"Edwards\", \"Edwards\", \"Edwards\", \"Edwards\", \"Edwards\", \"Edwards\", \"Edwards\", \"SawyerW\", \"SawyerW\", \"SawyerW\", \"SawyerW\", \"CollgCr\", \"CollgCr\", \"CollgCr\", \"CollgCr\", \"CollgCr\", \"CollgCr\", \"CollgCr\", \"CollgCr\", \"CollgCr\", \"CollgCr\", \"CollgCr\", \"CollgCr\", \"CollgCr\", \"SawyerW\", \"ClearCr\", \"ClearCr\", \"ClearCr\", \"ClearCr\", \"CollgCr\", \"CollgCr\", \"CollgCr\", \"CollgCr\", \"CollgCr\", \"CollgCr\", \"CollgCr\", \"CollgCr\", \"CollgCr\", \"CollgCr\", \"CollgCr\", \"CollgCr\", \"CollgCr\", \"CollgCr\", \"CollgCr\", \"CollgCr\", \"CollgCr\", \"CollgCr\", \"CollgCr\", \"CollgCr\", \"Landmrk\", \"CollgCr\", \"CollgCr\", \"CollgCr\", \"CollgCr\", \"CollgCr\", \"CollgCr\", \"CollgCr\", \"CollgCr\", \"CollgCr\", \"CollgCr\", \"CollgCr\", \"CollgCr\", \"CollgCr\", \"CollgCr\", \"CollgCr\", \"CollgCr\", \"CollgCr\", \"CollgCr\", \"CollgCr\", \"CollgCr\", \"CollgCr\", \"CollgCr\", \"CollgCr\", \"CollgCr\", \"CollgCr\", \"CollgCr\", \"CollgCr\", \"Edwards\", \"Edwards\", \"Edwards\", \"Edwards\", \"Edwards\", \"Edwards\", \"Edwards\", \"Edwards\", \"Edwards\", \"Edwards\", \"Edwards\", \"Edwards\", \"Edwards\", \"Edwards\", \"Edwards\", \"Edwards\", \"Edwards\", \"Edwards\", \"Edwards\", \"Edwards\", \"Edwards\", \"Edwards\", \"Edwards\", \"Edwards\", \"Edwards\", \"SWISU\", \"Edwards\", \"Edwards\", \"SWISU\", \"SWISU\", \"SWISU\", \"SWISU\", \"SWISU\", \"Crawfor\", \"SWISU\", \"SWISU\", \"Crawfor\", \"Crawfor\", \"SWISU\", \"SWISU\", \"Crawfor\", \"Crawfor\", \"Crawfor\", \"Crawfor\", \"Crawfor\", \"Crawfor\", \"Crawfor\", \"Crawfor\", \"Crawfor\", \"Crawfor\", \"Crawfor\", \"Crawfor\", \"Crawfor\", \"Crawfor\", \"Crawfor\", \"IDOTRR\", \"IDOTRR\", \"IDOTRR\", \"IDOTRR\", \"IDOTRR\", \"IDOTRR\", \"IDOTRR\", \"IDOTRR\", \"IDOTRR\", \"IDOTRR\", \"IDOTRR\", \"Crawfor\", \"Crawfor\", \"Mitchel\", \"Mitchel\", \"Mitchel\", \"Mitchel\", \"Mitchel\", \"Mitchel\", \"Timber\", \"GrnHill\", \"Timber\", \"Timber\", \"Timber\", \"Timber\", \"Timber\", \"Timber\", \"Timber\", \"Timber\", \"Timber\", \"Timber\", \"Mitchel\", \"Mitchel\", \"Mitchel\", \"Mitchel\", \"Mitchel\", \"MeadowV\", \"MeadowV\", \"MeadowV\", \"Mitchel\", \"Mitchel\", \"MeadowV\", \"MeadowV\", \"Mitchel\", \"MeadowV\", \"MeadowV\", \"MeadowV\", \"MeadowV\", \"MeadowV\", \"Mitchel\", \"Mitchel\", \"Mitchel\", \"Mitchel\", \"Mitchel\", \"Mitchel\", \"Mitchel\", \"Mitchel\", \"Mitchel\"], \"xaxis\": \"x\", \"y\": [176500, 237500, 206900, 187500, 165000, 195500, 192000, 173000, 177900, 175000, 286000, 247900, 180000, 180000, 181000, 183000, 188000, 194500, 185000, 189000, 188500, 355000, 325000, 387000, 115000, 334000, 133000, 215000, 226500, 175500, 181900, 235000, 220000, 272000, 161000, 175000, 185000, 146900, 292500, 180000, 159900, 205000, 157000, 306000, 133000, 151000, 111900, 123000, 111250, 181000, 103400, 100000, 100500, 106000, 85400, 89500, 111750, 140000, 143000, 148500, 110000, 394617, 426000, 385000, 446261, 317500, 372402, 417500, 383000, 390000, 460000, 379000, 250000, 316000, 615000, 412500, 284000, 284000, 421250, 370000, 336860, 367294, 192000, 274000, 266000, 370967, 234250, 219500, 155000, 154000, 207000, 195000, 219990, 191000, 159895, 187687, 179000, 193000, 190000, 176000, 188000, 213000, 217300, 186500, 226750, 184000, 225000, 185900, 284500, 315000, 250000, 291000, 350000, 279500, 290000, 350000, 341000, 287500, 271000, 301500, 235128, 214000, 232000, 240000, 264132, 245000, 227680, 257000, 297900, 212700, 250580, 226700, 250000, 250000, 339750, 256000, 230348, 207500, 141000, 188000, 192500, 146000, 159000, 155000, 173000, 170000, 182000, 163000, 193500, 189000, 190500, 175000, 179200, 187000, 193000, 153900, 128000, 144000, 135000, 115000, 119916, 142000, 192000, 140000, 290000, 372500, 196000, 171900, 178000, 165000, 146000, 146000, 179400, 172900, 300000, 285000, 290000, 305000, 328900, 160000, 170000, 223000, 170000, 200000, 345000, 245500, 217500, 324000, 162500, 150000, 290000, 174000, 183000, 150000, 145000, 215000, 140500, 240000, 141000, 147000, 135000, 145000, 142600, 135000, 170000, 299800, 185000, 173000, 178400, 176000, 98000, 109008, 135750, 155000, 180500, 174900, 140000, 145000, 179900, 168500, 140000, 145500, 142000, 141000, 153000, 72500, 52000, 118000, 87000, 141500, 119000, 141500, 165500, 112900, 201800, 163000, 139950, 174000, 165000, 227000, 135000, 124000, 140000, 136500, 185000, 163000, 166800, 139000, 166000, 136000, 133000, 116000, 137500, 130000, 180000, 139000, 110000, 100000, 118500, 146000, 89900, 114000, 140000, 86900, 139000, 106250, 171000, 139000, 186000, 157000, 148000, 242000, 116000, 94000, 98300, 127000, 159000, 125900, 155000, 138000, 112500, 105500, 127500, 130000, 150000, 109500, 140000, 167900, 136870, 143000, 73000, 157500, 122600, 111000, 256000, 64000, 139500, 118000, 200000, 119164, 122250, 120000, 155000, 78000, 95000, 115000, 147000, 140000, 46500, 112500, 107900, 65000, 295000, 139500, 153900, 132000, 98000, 114000, 130000, 129500, 129400, 161000, 163000, 128000, 122000, 116900, 325000, 55000, 184000, 110000, 131500, 97000, 115500, 138000, 108000, 79500, 153000, 109500, 124000, 106900, 164900, 119000, 120000, 157000, 105000, 113000, 115000, 123000, 81300, 162900, 150000, 123500, 129900, 128000, 68500, 127000, 207000, 184000, 162500, 145000, 130000, 160000, 161000, 127500, 93850, 136000, 141000, 120000, 127500, 127000, 89500, 125000, 79900, 85000, 82375, 135000, 124000, 134000, 135000, 134432, 127500, 148000, 129500, 157500, 109900, 145000, 130000, 153000, 120000, 152000, 108959, 95541, 80000, 149350, 144900, 185000, 165000, 235000, 140000, 108000, 145000, 152400, 144000, 173000, 192000, 245000, 241500, 256000, 177000, 125600, 155000, 240000, 260000, 185000, 235000, 159900, 99600, 134500, 119000, 107500, 125000, 79000, 95000, 262280, 260000, 226500, 225000, 229000, 177439, 248500, 475000, 395039, 228000, 225000, 195000, 200000, 155000, 144000, 145000, 226001, 215700, 207500, 193000, 188000, 191000, 221000, 231500, 235000, 223500, 130250, 149900, 158000, 147000, 143195, 163000, 110000, 127000, 124900, 230000, 235000, 230500, 230000, 222500, 287000, 274000, 300000, 255900, 224900, 240000, 183000, 207000, 210000, 136500, 145000, 208900, 185000, 214000, 208500, 186500, 210000, 185900, 179900, 218836, 193000, 189000, 149300, 141000, 149000, 144500, 85000, 145900, 123000, 147500, 165000, 135000, 108000, 137500, 165400, 147000, 160500, 176000, 160000, 148000, 82000, 82000, 118000, 82500, 91900, 120000, 96000, 99000, 130500, 135000, 135500, 100000, 108000, 98000, 67000, 135900, 140000, 179500, 136500, 168000, 130000, 189000, 161900, 145000, 191000, 177000, 147500, 91000, 231000, 115000, 138000, 149000, 188700, 198000, 110000, 104000, 257076, 381000, 311500, 263400, 236500, 224000, 116500, 151000, 126000, 120000, 55000, 120500, 120500, 119000, 126000, 99500, 165500, 13100, 89000, 40000, 80900, 81000, 65000, 392500, 294464, 250000, 275000, 300000, 271000, 213000, 171000, 171500, 100000, 228500, 228950, 241500, 287000, 294000, 293077, 264966, 172500, 218689, 150000, 184000, 180000, 175000, 232500, 195000, 305000, 298751, 370000, 209200, 206300, 146000, 160500, 173000, 124000, 115000, 129500, 105000, 94900, 152500, 98000, 81000, 113000, 128500, 119500, 130500, 138000, 134500, 160000, 137500, 172000, 103000, 167300, 167000, 244000, 268000, 225000, 168000, 177000, 169000, 161500, 251000, 160000, 180000, 178750, 176000, 204000, 160000, 160000, 163900, 168000, 154204, 170000, 207500, 182000, 212000, 377426, 349265, 591587, 155000, 319900, 392000, 441929, 455000, 182900, 174000, 178000, 176000, 213000, 192000, 190000, 195000, 148000, 151500, 197000, 192350, 152000, 170000, 175000, 175000, 197900, 174000, 178900, 139000, 143250, 184000, 155000, 133000, 119500, 123000, 110000, 128000, 120500, 133000, 155000, 177000, 113500, 113000, 113700, 106000, 122500, 128000, 155000, 142500, 129250, 356000, 314813, 318000, 322400, 318000, 345474, 415298, 492000, 338931, 450000, 280000, 479069, 395000, 380000, 250000, 440000, 418000, 500067, 260116, 317000, 319500, 325624, 372000, 342000, 354000, 350000, 285000, 281500, 245700, 232698, 250000, 194700, 204000, 200000, 207000, 209500, 209500, 202500, 280000, 277500, 318061, 221370, 200000, 176000, 178900, 168165, 171925, 198444, 203000, 179540, 176485, 181134, 156932, 166000, 177594, 173500, 172500, 194201, 226500, 185485, 259000, 188500, 175000, 215000, 206580, 183500, 211000, 181000, 219500, 175000, 170000, 162000, 187000, 185000, 745000, 384500, 248000, 466500, 410000, 322500, 252000, 755000, 269790, 315750, 290000, 290000, 430000, 263000, 330000, 213133, 260261, 320000, 282922, 215000, 419005, 255000, 147000, 311872, 248328, 227000, 260000, 225000, 249000, 307000, 250000, 221300, 208900, 210400, 255000, 212109, 270000, 303477, 249700, 227875, 261329, 253000, 265000, 340000, 146000, 147000, 149000, 181000, 201000, 191750, 179000, 215000, 179200, 128000, 144000, 144000, 120750, 132500, 132000, 132500, 129000, 143900, 145000, 128500, 125500, 300000, 294000, 129000, 171000, 147000, 302000, 285000, 214000, 166000, 193800, 208900, 194000, 164700, 176500, 176000, 168500, 177000, 177000, 148800, 174000, 239000, 204000, 301000, 312500, 279700, 255000, 194000, 218000, 213750, 187000, 181500, 373000, 190000, 226000, 143450, 240050, 162500, 164000, 185000, 188500, 255000, 136905, 158500, 175500, 127000, 127000, 143000, 156000, 144000, 119000, 103000, 139900, 151500, 126500, 145000, 120000, 124000, 106500, 140500, 137500, 117600, 163500, 161000, 158000, 224500, 147000, 200000, 181900, 150750, 101800, 124000, 138500, 39300, 64500, 64000, 112000, 165000, 144000, 137000, 105000, 146500, 126000, 175000, 158500, 114500, 144000, 129000, 141000, 131000, 142100, 139000, 157900, 139400, 150000, 120000, 174850, 116000, 135000, 163500, 130000, 129500, 142000, 128600, 125000, 136000, 134500, 127000, 130000, 115000, 116900, 132000, 153000, 112500, 138000, 135000, 156000, 301600, 109000, 103200, 128500, 64500, 148000, 86000, 172000, 120000, 128500, 135000, 122900, 119200, 143000, 119000, 102000, 129000, 135000, 152000, 140000, 152000, 156500, 141000, 99000, 187000, 169500, 125500, 130000, 103000, 132000, 127500, 89500, 140000, 99900, 100000, 130000, 135000, 120000, 89471, 85000, 108500, 137000, 110500, 100000, 184900, 145000, 125000, 114000, 90000, 144100, 117500, 124500, 185000, 133900, 152000, 153500, 159500, 87000, 104500, 110000, 136500, 128250, 144000, 210000, 135000, 128000, 131000, 113000, 126000, 132000, 131750, 132500, 137500, 132000, 127500, 102000, 200000, 180500, 165000, 90000, 153575, 140000, 136000, 113000, 117000, 169500, 139400, 202500, 127000, 141000, 212300, 161000, 99500, 101000, 109900, 128500, 122000, 87000, 50000, 219000, 200500, 126000, 108500, 130000, 158450, 115400, 118500, 165000, 123000, 129000, 125000, 108000, 119900, 115000, 134500, 127000, 129000, 143500, 129000, 187000, 158000, 112000, 165250, 150000, 137000, 89500, 302000, 182000, 211000, 216000, 130000, 109900, 255000, 243000, 154000, 118000, 80000, 150000, 86000, 130000, 125000, 136500, 96000, 120000, 228500, 179900, 225000, 301000, 238000, 228500, 220000, 383970, 424870, 250000, 360000, 279500, 200141, 246500, 276000, 203000, 155835, 194000, 195400, 217000, 212999, 175900, 191000, 176432, 277000, 207000, 277000, 240000, 187500, 279000, 139500, 126000, 177500, 175000, 211000, 146000, 147900, 123600, 204750, 235500, 217000, 190550, 217500, 226000, 180000, 131000, 153500, 160000, 134900, 130000, 120000, 112500, 122000, 127000, 117000, 305900, 228500, 270000, 192000, 213000, 200000, 267000, 228000, 275000, 211000, 285000, 240000, 131500, 246900, 219500, 185000, 179400, 213500, 179600, 173500, 167840, 168675, 167000, 140000, 118500, 110000, 94750, 122000, 110000, 118500, 133500, 148000, 141000, 155000, 157000, 171500, 183850, 184750, 140000, 131750, 61500, 111000, 98500, 79000, 108500, 110000, 112000, 125000, 79275, 119000, 200000, 150000, 165000, 96500, 136500, 146500, 175000, 148500, 141500, 189950, 135000, 164000, 90350, 139000, 119750, 145000, 145000, 238000, 153500, 239000, 359100, 188000, 220000, 140000, 315000, 259500, 257500, 219500, 217000, 201000, 215000, 123900, 170000, 200000, 198000, 315000, 115000, 141000, 87000, 129850, 100000, 150909, 75200, 118400, 67000, 152000, 68104, 119600, 140000, 124900, 375000, 235000, 183500, 156000, 134000, 215000, 245000, 210000, 148000, 143000, 244000, 330000, 170000, 257000, 231713, 265900, 239000, 248900, 174000, 187500, 204000, 180500, 187500, 282000, 178000, 270000, 279900, 186700, 283463, 392000, 281213, 147000, 130000, 140000, 132250, 143000, 168000, 129900, 134000, 85500, 106500, 93900, 75000, 84500, 75190, 146800, 153500, 188000, 196000, 157000, 138000, 129500, 80000, 129500, 135000, 124500, 139000, 93500, 124500, 149900, 157500, 169000, 252000, 192100, 183500, 222000, 170000, 187500, 202000, 185000, 320000, 240000, 250000, 239900, 309000, 274725, 270000, 183500, 165600, 176500, 130000, 239000, 275000, 457347, 545224, 356383, 556581, 361919, 535000, 401179, 438780, 169000, 145000, 318000, 319000, 470000, 202500, 229000, 235000, 190000, 169000, 241500, 188900, 207500, 250000, 179900, 172000, 294323, 184500, 153500, 162900, 181000, 155000, 138800, 116050, 88000, 97500, 190000, 105500, 125500, 83000, 116000, 91500, 118000, 89000, 108000, 94500, 146300, 145000, 123000, 137500, 144000, 315000, 412083, 342643, 252000, 293000, 415000, 326000, 325300, 309000, 300000, 275500, 338500, 345000, 298236, 329900, 360000, 281000, 372397, 378000, 374000, 437154, 275000, 279000, 185850, 282500, 202500, 202665, 332200, 310090, 171750, 169990, 170440, 169985, 179665, 219210, 174190, 172785, 258000, 185101, 210250, 234000, 215000, 246990, 178740, 225000, 167240, 156820, 213490, 264561, 246578, 192140, 183200, 178000, 201490, 230500, 180000, 172400, 215000, 199900, 173000, 287602, 230000, 348000, 286000, 300000, 625000, 405000, 280000, 258000, 350000, 584500, 321000, 290000, 315000, 252000, 423000, 290000, 232000, 199000, 198600, 405749, 232600, 266000, 186500, 200825, 197000, 185000, 176000, 187750, 139500, 186800, 132000, 142500, 158000, 184000, 184900, 187000, 175900, 248500, 172000, 151000, 150000, 107000, 119900, 129500, 125000, 119500, 144000, 151000, 126000, 116000, 133500, 120875, 137000, 124000, 135000, 129200, 260000, 260000, 334000, 310000, 268000, 262000, 176400, 197000, 151000, 147400, 149900, 144152, 166000, 183900, 165000, 139000, 200000, 221000, 270000, 165000, 214000, 188000, 190000, 170000, 385000, 146500, 170000, 262500, 179900, 250000, 165150, 164500, 140000, 135500, 142000, 155000, 157500, 138500, 140000, 124400, 158000, 146000, 190000, 136500, 129900, 145000, 185900, 160000, 167000, 157500, 140000, 150000, 151500, 129800, 137000, 137000, 121600, 85500, 79900, 127000, 161000, 146500, 135000, 137900, 133000, 137000, 121000, 119000, 172000, 98600, 226000, 118000, 235000, 135000, 132500, 143000, 132000, 145250, 162000, 148000, 141000, 153000, 134450, 135960, 156000, 140000, 139500, 155000, 127000, 133500, 125000, 142000, 167000, 159000, 180000, 127000, 112000, 99800, 117000, 108480, 68000, 86900, 120000, 155500, 80000, 105000, 160000, 170000, 160000, 159950, 165000, 159000, 147000, 115000, 159500, 120000, 129900, 183000, 157500, 277500, 207500, 147500, 135000, 109500, 109900, 133700, 81400, 87500, 93500, 119000, 141000, 146000, 155000, 134500, 120000, 105000, 124000, 169000, 107000, 135000, 111500, 156500, 178000, 139900, 105000, 110000, 111500, 108000, 111500, 124000, 105000, 116000, 96900, 135500, 139000, 61500, 120000, 126175, 64000, 137000, 87000, 163000, 155000, 79000, 144000, 114504, 157000, 125000, 475000, 93500, 125000, 64500, 100000, 140200, 202500, 159000, 119900, 114500, 115000, 75000, 88000, 80500, 149000, 110000, 110500, 89000, 113000, 109000, 220000, 129000, 117000, 52500, 107000, 116500, 72000, 119500, 125500, 91000, 84500, 90000, 137500, 150000, 131000, 130000, 125000, 80000, 157000, 148000, 90000, 154500, 153600, 164500, 132000, 142500, 158000, 149500, 165000, 180000, 160500, 156500, 157000, 172500, 155000, 170000, 105000, 145000, 168000, 278000, 164000, 225000, 130000, 142500, 148400, 190000, 146000, 128000, 225000, 274970, 235000, 415000, 182000, 135000, 137000, 136900, 149900, 123500, 93000, 91500, 180000, 209000, 215000, 224500, 229800, 183600, 194000, 193879, 221500, 204900, 239799, 233555, 260000, 294900, 209700, 225000, 181000, 220000, 190000, 180000, 280000, 158900, 148000, 145000, 187000, 193000, 156000, 235000, 217000, 214000, 196000, 217000, 200000, 192500, 205000, 132500, 157500, 174000, 128500, 128500, 149900, 119900, 137000, 255000, 222000, 214000, 220000, 275000, 197000, 230000, 268500, 210900, 227000, 237000, 274300, 216837, 133000, 155900, 233230, 207000, 195000, 200000, 203160, 195800, 212900, 196500, 198000, 173900, 163990, 164990, 98000, 149900, 102000, 127500, 127500, 119900, 196500, 229000, 145000, 140000, 142500, 134000, 130000, 130000, 137500, 130000, 97900, 92000, 107000, 81000, 104900, 115000, 125000, 116000, 83000, 118500, 35000, 121000, 160000, 140000, 137000, 128000, 160000, 138887, 149000, 102000, 167000, 200100, 131000, 112000, 140000, 195000, 230000, 194000, 137500, 250000, 218000, 239000, 199500, 210000, 230000, 217500, 257000, 157000, 223000, 102000, 145400, 72000, 85000, 106500, 139000, 108000, 51689, 35311, 115000, 78000, 375000, 300000, 242500, 145000, 209000, 135000, 148000, 171000, 335000, 230000, 250764, 228000, 176000, 180000, 250000, 202000, 312500, 320000, 369900, 359900, 81500, 215000, 164000, 153500, 84500, 104500, 127000, 151400, 126500, 146500, 73000, 79400, 140000, 92000, 87550, 79500, 90500, 71000, 150900, 188000, 160000, 131000, 142500, 131000, 132000, 170000, 188000], \"yaxis\": \"y\"}],\n",
              "                        {\"height\": 600, \"legend\": {\"tracegroupgap\": 0}, \"template\": {\"data\": {\"bar\": [{\"error_x\": {\"color\": \"#2a3f5f\"}, \"error_y\": {\"color\": \"#2a3f5f\"}, \"marker\": {\"line\": {\"color\": \"#E5ECF6\", \"width\": 0.5}}, \"type\": \"bar\"}], \"barpolar\": [{\"marker\": {\"line\": {\"color\": \"#E5ECF6\", \"width\": 0.5}}, \"type\": \"barpolar\"}], \"carpet\": [{\"aaxis\": {\"endlinecolor\": \"#2a3f5f\", \"gridcolor\": \"white\", \"linecolor\": \"white\", \"minorgridcolor\": \"white\", \"startlinecolor\": \"#2a3f5f\"}, \"baxis\": {\"endlinecolor\": \"#2a3f5f\", \"gridcolor\": \"white\", \"linecolor\": \"white\", \"minorgridcolor\": \"white\", \"startlinecolor\": \"#2a3f5f\"}, \"type\": \"carpet\"}], \"choropleth\": [{\"colorbar\": {\"outlinewidth\": 0, \"ticks\": \"\"}, \"type\": \"choropleth\"}], \"contour\": [{\"colorbar\": {\"outlinewidth\": 0, \"ticks\": \"\"}, \"colorscale\": [[0.0, \"#0d0887\"], [0.1111111111111111, \"#46039f\"], [0.2222222222222222, \"#7201a8\"], [0.3333333333333333, \"#9c179e\"], [0.4444444444444444, \"#bd3786\"], [0.5555555555555556, \"#d8576b\"], [0.6666666666666666, \"#ed7953\"], [0.7777777777777778, \"#fb9f3a\"], [0.8888888888888888, \"#fdca26\"], [1.0, \"#f0f921\"]], \"type\": \"contour\"}], \"contourcarpet\": [{\"colorbar\": {\"outlinewidth\": 0, \"ticks\": \"\"}, \"type\": \"contourcarpet\"}], \"heatmap\": [{\"colorbar\": {\"outlinewidth\": 0, \"ticks\": \"\"}, \"colorscale\": [[0.0, \"#0d0887\"], [0.1111111111111111, \"#46039f\"], [0.2222222222222222, \"#7201a8\"], [0.3333333333333333, \"#9c179e\"], [0.4444444444444444, \"#bd3786\"], [0.5555555555555556, \"#d8576b\"], [0.6666666666666666, \"#ed7953\"], [0.7777777777777778, \"#fb9f3a\"], [0.8888888888888888, \"#fdca26\"], [1.0, \"#f0f921\"]], \"type\": \"heatmap\"}], \"heatmapgl\": [{\"colorbar\": {\"outlinewidth\": 0, \"ticks\": \"\"}, \"colorscale\": [[0.0, \"#0d0887\"], [0.1111111111111111, \"#46039f\"], [0.2222222222222222, \"#7201a8\"], [0.3333333333333333, \"#9c179e\"], [0.4444444444444444, \"#bd3786\"], [0.5555555555555556, \"#d8576b\"], [0.6666666666666666, \"#ed7953\"], [0.7777777777777778, \"#fb9f3a\"], [0.8888888888888888, \"#fdca26\"], [1.0, \"#f0f921\"]], \"type\": \"heatmapgl\"}], \"histogram\": [{\"marker\": {\"colorbar\": {\"outlinewidth\": 0, \"ticks\": \"\"}}, \"type\": \"histogram\"}], \"histogram2d\": [{\"colorbar\": {\"outlinewidth\": 0, \"ticks\": \"\"}, \"colorscale\": [[0.0, \"#0d0887\"], [0.1111111111111111, \"#46039f\"], [0.2222222222222222, \"#7201a8\"], [0.3333333333333333, \"#9c179e\"], [0.4444444444444444, \"#bd3786\"], [0.5555555555555556, \"#d8576b\"], [0.6666666666666666, \"#ed7953\"], [0.7777777777777778, \"#fb9f3a\"], [0.8888888888888888, \"#fdca26\"], [1.0, \"#f0f921\"]], \"type\": \"histogram2d\"}], \"histogram2dcontour\": [{\"colorbar\": {\"outlinewidth\": 0, \"ticks\": \"\"}, \"colorscale\": [[0.0, \"#0d0887\"], [0.1111111111111111, \"#46039f\"], [0.2222222222222222, \"#7201a8\"], [0.3333333333333333, \"#9c179e\"], [0.4444444444444444, \"#bd3786\"], [0.5555555555555556, \"#d8576b\"], [0.6666666666666666, \"#ed7953\"], [0.7777777777777778, \"#fb9f3a\"], [0.8888888888888888, \"#fdca26\"], [1.0, \"#f0f921\"]], \"type\": \"histogram2dcontour\"}], \"mesh3d\": [{\"colorbar\": {\"outlinewidth\": 0, \"ticks\": \"\"}, \"type\": \"mesh3d\"}], \"parcoords\": [{\"line\": {\"colorbar\": {\"outlinewidth\": 0, \"ticks\": \"\"}}, \"type\": \"parcoords\"}], \"scatter\": [{\"marker\": {\"colorbar\": {\"outlinewidth\": 0, \"ticks\": \"\"}}, \"type\": \"scatter\"}], \"scatter3d\": [{\"line\": {\"colorbar\": {\"outlinewidth\": 0, \"ticks\": \"\"}}, \"marker\": {\"colorbar\": {\"outlinewidth\": 0, \"ticks\": \"\"}}, \"type\": \"scatter3d\"}], \"scattercarpet\": [{\"marker\": {\"colorbar\": {\"outlinewidth\": 0, \"ticks\": \"\"}}, \"type\": \"scattercarpet\"}], \"scattergeo\": [{\"marker\": {\"colorbar\": {\"outlinewidth\": 0, \"ticks\": \"\"}}, \"type\": \"scattergeo\"}], \"scattergl\": [{\"marker\": {\"colorbar\": {\"outlinewidth\": 0, \"ticks\": \"\"}}, \"type\": \"scattergl\"}], \"scattermapbox\": [{\"marker\": {\"colorbar\": {\"outlinewidth\": 0, \"ticks\": \"\"}}, \"type\": \"scattermapbox\"}], \"scatterpolar\": [{\"marker\": {\"colorbar\": {\"outlinewidth\": 0, \"ticks\": \"\"}}, \"type\": \"scatterpolar\"}], \"scatterpolargl\": [{\"marker\": {\"colorbar\": {\"outlinewidth\": 0, \"ticks\": \"\"}}, \"type\": \"scatterpolargl\"}], \"scatterternary\": [{\"marker\": {\"colorbar\": {\"outlinewidth\": 0, \"ticks\": \"\"}}, \"type\": \"scatterternary\"}], \"surface\": [{\"colorbar\": {\"outlinewidth\": 0, \"ticks\": \"\"}, \"colorscale\": [[0.0, \"#0d0887\"], [0.1111111111111111, \"#46039f\"], [0.2222222222222222, \"#7201a8\"], [0.3333333333333333, \"#9c179e\"], [0.4444444444444444, \"#bd3786\"], [0.5555555555555556, \"#d8576b\"], [0.6666666666666666, \"#ed7953\"], [0.7777777777777778, \"#fb9f3a\"], [0.8888888888888888, \"#fdca26\"], [1.0, \"#f0f921\"]], \"type\": \"surface\"}], \"table\": [{\"cells\": {\"fill\": {\"color\": \"#EBF0F8\"}, \"line\": {\"color\": \"white\"}}, \"header\": {\"fill\": {\"color\": \"#C8D4E3\"}, \"line\": {\"color\": \"white\"}}, \"type\": \"table\"}]}, \"layout\": {\"annotationdefaults\": {\"arrowcolor\": \"#2a3f5f\", \"arrowhead\": 0, \"arrowwidth\": 1}, \"colorscale\": {\"diverging\": [[0, \"#8e0152\"], [0.1, \"#c51b7d\"], [0.2, \"#de77ae\"], [0.3, \"#f1b6da\"], [0.4, \"#fde0ef\"], [0.5, \"#f7f7f7\"], [0.6, \"#e6f5d0\"], [0.7, \"#b8e186\"], [0.8, \"#7fbc41\"], [0.9, \"#4d9221\"], [1, \"#276419\"]], \"sequential\": [[0.0, \"#0d0887\"], [0.1111111111111111, \"#46039f\"], [0.2222222222222222, \"#7201a8\"], [0.3333333333333333, \"#9c179e\"], [0.4444444444444444, \"#bd3786\"], [0.5555555555555556, \"#d8576b\"], [0.6666666666666666, \"#ed7953\"], [0.7777777777777778, \"#fb9f3a\"], [0.8888888888888888, \"#fdca26\"], [1.0, \"#f0f921\"]], \"sequentialminus\": [[0.0, \"#0d0887\"], [0.1111111111111111, \"#46039f\"], [0.2222222222222222, \"#7201a8\"], [0.3333333333333333, \"#9c179e\"], [0.4444444444444444, \"#bd3786\"], [0.5555555555555556, \"#d8576b\"], [0.6666666666666666, \"#ed7953\"], [0.7777777777777778, \"#fb9f3a\"], [0.8888888888888888, \"#fdca26\"], [1.0, \"#f0f921\"]]}, \"colorway\": [\"#636efa\", \"#EF553B\", \"#00cc96\", \"#ab63fa\", \"#FFA15A\", \"#19d3f3\", \"#FF6692\", \"#B6E880\", \"#FF97FF\", \"#FECB52\"], \"font\": {\"color\": \"#2a3f5f\"}, \"geo\": {\"bgcolor\": \"white\", \"lakecolor\": \"white\", \"landcolor\": \"#E5ECF6\", \"showlakes\": true, \"showland\": true, \"subunitcolor\": \"white\"}, \"hoverlabel\": {\"align\": \"left\"}, \"hovermode\": \"closest\", \"mapbox\": {\"style\": \"light\"}, \"paper_bgcolor\": \"white\", \"plot_bgcolor\": \"#E5ECF6\", \"polar\": {\"angularaxis\": {\"gridcolor\": \"white\", \"linecolor\": \"white\", \"ticks\": \"\"}, \"bgcolor\": \"#E5ECF6\", \"radialaxis\": {\"gridcolor\": \"white\", \"linecolor\": \"white\", \"ticks\": \"\"}}, \"scene\": {\"xaxis\": {\"backgroundcolor\": \"#E5ECF6\", \"gridcolor\": \"white\", \"gridwidth\": 2, \"linecolor\": \"white\", \"showbackground\": true, \"ticks\": \"\", \"zerolinecolor\": \"white\"}, \"yaxis\": {\"backgroundcolor\": \"#E5ECF6\", \"gridcolor\": \"white\", \"gridwidth\": 2, \"linecolor\": \"white\", \"showbackground\": true, \"ticks\": \"\", \"zerolinecolor\": \"white\"}, \"zaxis\": {\"backgroundcolor\": \"#E5ECF6\", \"gridcolor\": \"white\", \"gridwidth\": 2, \"linecolor\": \"white\", \"showbackground\": true, \"ticks\": \"\", \"zerolinecolor\": \"white\"}}, \"shapedefaults\": {\"line\": {\"color\": \"#2a3f5f\"}}, \"ternary\": {\"aaxis\": {\"gridcolor\": \"white\", \"linecolor\": \"white\", \"ticks\": \"\"}, \"baxis\": {\"gridcolor\": \"white\", \"linecolor\": \"white\", \"ticks\": \"\"}, \"bgcolor\": \"#E5ECF6\", \"caxis\": {\"gridcolor\": \"white\", \"linecolor\": \"white\", \"ticks\": \"\"}}, \"title\": {\"x\": 0.05}, \"xaxis\": {\"automargin\": true, \"gridcolor\": \"white\", \"linecolor\": \"white\", \"ticks\": \"\", \"zerolinecolor\": \"white\", \"zerolinewidth\": 2}, \"yaxis\": {\"automargin\": true, \"gridcolor\": \"white\", \"linecolor\": \"white\", \"ticks\": \"\", \"zerolinecolor\": \"white\", \"zerolinewidth\": 2}}}, \"title\": {\"text\": \"Sale Price by Neighborhood\"}, \"xaxis\": {\"anchor\": \"y\", \"domain\": [0.0, 0.98], \"title\": {\"text\": \"Neighborhood\"}}, \"yaxis\": {\"anchor\": \"x\", \"domain\": [0.0, 1.0], \"title\": {\"text\": \"SalePrice\"}}},\n",
              "                        {\"responsive\": true}\n",
              "                    ).then(function(){\n",
              "                            \n",
              "var gd = document.getElementById('1bf0f852-f572-4286-a57f-a1769211a334');\n",
              "var x = new MutationObserver(function (mutations, observer) {{\n",
              "        var display = window.getComputedStyle(gd).display;\n",
              "        if (!display || display === 'none') {{\n",
              "            console.log([gd, 'removed!']);\n",
              "            Plotly.purge(gd);\n",
              "            observer.disconnect();\n",
              "        }}\n",
              "}});\n",
              "\n",
              "// Listen for the removal of the full notebook cells\n",
              "var notebookContainer = gd.closest('#notebook-container');\n",
              "if (notebookContainer) {{\n",
              "    x.observe(notebookContainer, {childList: true});\n",
              "}}\n",
              "\n",
              "// Listen for the clearing of the current output cell\n",
              "var outputEl = gd.closest('.output');\n",
              "if (outputEl) {{\n",
              "    x.observe(outputEl, {childList: true});\n",
              "}}\n",
              "\n",
              "                        })\n",
              "                };\n",
              "                \n",
              "            </script>\n",
              "        </div>\n",
              "</body>\n",
              "</html>"
            ]
          },
          "metadata": {
            "tags": []
          }
        }
      ]
    },
    {
      "cell_type": "code",
      "metadata": {
        "id": "YgMRn1-FalV1",
        "colab_type": "code",
        "colab": {
          "base_uri": "https://localhost:8080/",
          "height": 685
        },
        "outputId": "1da126f2-b30c-47c0-a69a-43b91a08fcc4"
      },
      "source": [
        "# Appears to be positive relationship\n",
        "px.scatter(train, x='Year_Built', y=target, title='Sale Price\\nby Year Built', trendline='ols')"
      ],
      "execution_count": 48,
      "outputs": [
        {
          "output_type": "stream",
          "text": [
            "/usr/local/lib/python3.6/dist-packages/numpy/core/fromnumeric.py:2389: FutureWarning:\n",
            "\n",
            "Method .ptp is deprecated and will be removed in a future version. Use numpy.ptp instead.\n",
            "\n"
          ],
          "name": "stderr"
        },
        {
          "output_type": "display_data",
          "data": {
            "text/html": [
              "<html>\n",
              "<head><meta charset=\"utf-8\" /></head>\n",
              "<body>\n",
              "    <div>\n",
              "            <script src=\"https://cdnjs.cloudflare.com/ajax/libs/mathjax/2.7.5/MathJax.js?config=TeX-AMS-MML_SVG\"></script><script type=\"text/javascript\">if (window.MathJax) {MathJax.Hub.Config({SVG: {font: \"STIX-Web\"}});}</script>\n",
              "                <script type=\"text/javascript\">window.PlotlyConfig = {MathJaxConfig: 'local'};</script>\n",
              "        <script src=\"https://cdn.plot.ly/plotly-latest.min.js\"></script>    \n",
              "            <div id=\"c2d7e922-47c1-49de-ba0e-397dc82d805a\" class=\"plotly-graph-div\" style=\"height:600px; width:100%;\"></div>\n",
              "            <script type=\"text/javascript\">\n",
              "                \n",
              "                    window.PLOTLYENV=window.PLOTLYENV || {};\n",
              "                    \n",
              "                if (document.getElementById(\"c2d7e922-47c1-49de-ba0e-397dc82d805a\")) {\n",
              "                    Plotly.newPlot(\n",
              "                        'c2d7e922-47c1-49de-ba0e-397dc82d805a',\n",
              "                        [{\"hoverlabel\": {\"namelength\": 0}, \"hovertemplate\": \"Year_Built=%{x}<br>SalePrice=%{y}\", \"legendgroup\": \"\", \"marker\": {\"color\": \"#636efa\", \"symbol\": \"circle\"}, \"mode\": \"markers\", \"name\": \"\", \"showlegend\": false, \"type\": \"scattergl\", \"x\": [1958, 1970, 1969, 1997, 1995, 1998, 1998, 1996, 1996, 1996, 2001, 1997, 1993, 1992, 1997, 1998, 1995, 1994, 1991, 1988, 1989, 2005, 2005, 2004, 1952, 2007, 1950, 1986, 1988, 1981, 1983, 1978, 1979, 1977, 1976, 1977, 1980, 1969, 1978, 1976, 1976, 1976, 1973, 1996, 1974, 1969, 1969, 1971, 1972, 1998, 1973, 1973, 1972, 1970, 1971, 1971, 1972, 1977, 1975, 1977, 1966, 2008, 2007, 2007, 2008, 2007, 2007, 2007, 2007, 2006, 2005, 2005, 2007, 2004, 2003, 2003, 2003, 2003, 2001, 2003, 2008, 2008, 2005, 2003, 2005, 2007, 2006, 2006, 2003, 2003, 2004, 2003, 2004, 2005, 2007, 2007, 2004, 2004, 2005, 2005, 2002, 2003, 2007, 2000, 2000, 2004, 1999, 1999, 1997, 1998, 2000, 2000, 1998, 1996, 1995, 1995, 1993, 1993, 1994, 1994, 2007, 2007, 2006, 2006, 2008, 2007, 2008, 2007, 2007, 2007, 2007, 2005, 2003, 2005, 2007, 2007, 2007, 2003, 2004, 2003, 2003, 2005, 2004, 2003, 2004, 2007, 1995, 1993, 1994, 1994, 2001, 1992, 1991, 1993, 1993, 1993, 1963, 1962, 1961, 1968, 1963, 1961, 1974, 1972, 1990, 1993, 2004, 2006, 2004, 2005, 2007, 2007, 1999, 1999, 2000, 2001, 2001, 1999, 1999, 1999, 1999, 2001, 1999, 1999, 1998, 1996, 1995, 1993, 1984, 1977, 1976, 1970, 1969, 1968, 1971, 1967, 1965, 1974, 1968, 1965, 1965, 1965, 1965, 1973, 1971, 1976, 1974, 1966, 1961, 1968, 1956, 1957, 1956, 1963, 1964, 1966, 1965, 1964, 1965, 1964, 1961, 1959, 1959, 1960, 1960, 1949, 1935, 1939, 1937, 1960, 1950, 1950, 1955, 1953, 1965, 1961, 1961, 1962, 1962, 1966, 1955, 1963, 1962, 1957, 1959, 1958, 1958, 1956, 1957, 1958, 1956, 1952, 1953, 1953, 1957, 1951, 1953, 1957, 1947, 1957, 1948, 1925, 1945, 1940, 1922, 1900, 1962, 1968, 1958, 1960, 1960, 1960, 1953, 1951, 1950, 1960, 1959, 1962, 1960, 1948, 1954, 1954, 1954, 1961, 1955, 1954, 1963, 1964, 1963, 2008, 1925, 1904, 1948, 1910, 1920, 1940, 1915, 1910, 2003, 1940, 1920, 1920, 1940, 1910, 1890, 1948, 1948, 1946, 1946, 1957, 1954, 1949, 1880, 1900, 1915, 1920, 1916, 1900, 1920, 1917, 1905, 1928, 1905, 1914, 1872, 1926, 1893, 1920, 1890, 1959, 1954, 1956, 1958, 1928, 1945, 1930, 1935, 1924, 1941, 1900, 1940, 1924, 1929, 1937, 1939, 1926, 1920, 1929, 1945, 1930, 1939, 1923, 1931, 1920, 1927, 1948, 1923, 1925, 1915, 1940, 1918, 1910, 1925, 1910, 1930, 1952, 1938, 1915, 1925, 1925, 1920, 1955, 1920, 1912, 1915, 1906, 1947, 1968, 1948, 1959, 1940, 1963, 1965, 1978, 1966, 1967, 1967, 1978, 1967, 1984, 1969, 1920, 1959, 1966, 1963, 1956, 1954, 1960, 1958, 1940, 1960, 1941, 1970, 1996, 1977, 1979, 1954, 1954, 1959, 1948, 1953, 1908, 1940, 1918, 1935, 1956, 1975, 1962, 1900, 1910, 1950, 1924, 1941, 1990, 1995, 1994, 1993, 1996, 2007, 2007, 2008, 2008, 1993, 1995, 1966, 1997, 1994, 1995, 1994, 1997, 1997, 2000, 1999, 1998, 1999, 2002, 2001, 2000, 2001, 1975, 1977, 1978, 1978, 1975, 1975, 1975, 1972, 1972, 2002, 2000, 2001, 1999, 1998, 2001, 2001, 2002, 2002, 2003, 2003, 2003, 1999, 1994, 2003, 2004, 1997, 1997, 2002, 2003, 2004, 2004, 2004, 2007, 2007, 2007, 2005, 2004, 2004, 2004, 2004, 1910, 1900, 1966, 1965, 1976, 1976, 1940, 1972, 2003, 1977, 1976, 2005, 2008, 2005, 1955, 1955, 1955, 1955, 1955, 1938, 1947, 1953, 1946, 1954, 1955, 1954, 1923, 1925, 1914, 1912, 1925, 1939, 1925, 1921, 1911, 1921, 1930, 1926, 1922, 1915, 1914, 1930, 1925, 1936, 1923, 1931, 1934, 1937, 1938, 1951, 1935, 1935, 1939, 1950, 1956, 1954, 1980, 1980, 1926, 1940, 1922, 1930, 1940, 1930, 1967, 1930, 1958, 1952, 1895, 1920, 1910, 1935, 1920, 2008, 2007, 2004, 2004, 1996, 2002, 1996, 1977, 1977, 1976, 1991, 1965, 1986, 1976, 2006, 2007, 2007, 2006, 2008, 1989, 1986, 1986, 1988, 2003, 1999, 2003, 2007, 2005, 1997, 1997, 2007, 1997, 1964, 1975, 1976, 1976, 1973, 1973, 1968, 1970, 1972, 1954, 1983, 1984, 1982, 1982, 1982, 1940, 1984, 1969, 1900, 1971, 1970, 1973, 1970, 2003, 1995, 1997, 1997, 1997, 2000, 1994, 1999, 1996, 1995, 1999, 1992, 1991, 1992, 1993, 1964, 1986, 1984, 1988, 1990, 2005, 2005, 2006, 1969, 2006, 2007, 2006, 2006, 1981, 1984, 1984, 1981, 1978, 1979, 1977, 1976, 1978, 1984, 1979, 1979, 1969, 1971, 1971, 1968, 1976, 1976, 1974, 1971, 1971, 1972, 1970, 1970, 1971, 1971, 1971, 1961, 1971, 1998, 2001, 1997, 1973, 1973, 1973, 1970, 1971, 1976, 1976, 1978, 1966, 2006, 2007, 2007, 2006, 2007, 2007, 2006, 2007, 2006, 2005, 2006, 2007, 2006, 2006, 2006, 2006, 2005, 2007, 2007, 2004, 2007, 2007, 2006, 2004, 2004, 2003, 2003, 2007, 2005, 2005, 2006, 2005, 2005, 2005, 2005, 2006, 2006, 2006, 2005, 2005, 2007, 2006, 2003, 2005, 2005, 2006, 2006, 2006, 2005, 2007, 2007, 2007, 2006, 2007, 2007, 2007, 2006, 2006, 2003, 2007, 2004, 2004, 2004, 2004, 2006, 2004, 2003, 2000, 2002, 1999, 2000, 2003, 2000, 1999, 1996, 1997, 2000, 2001, 1998, 1998, 1998, 1994, 1996, 1996, 1995, 1995, 1992, 1992, 1996, 2007, 2007, 2006, 2007, 2006, 2007, 2006, 2006, 2007, 2007, 2006, 2005, 2007, 2005, 2004, 2006, 2006, 2007, 2006, 2007, 2007, 2006, 2007, 2006, 2007, 2007, 2006, 2004, 2004, 2006, 2006, 2003, 2006, 1994, 1993, 2000, 1998, 1992, 1980, 1983, 1977, 1977, 1963, 1962, 1962, 1961, 1962, 1968, 1961, 1967, 1990, 1974, 1974, 1975, 1973, 1990, 1992, 2004, 2006, 2006, 2006, 2006, 2006, 1999, 1999, 2000, 2000, 2000, 2004, 1999, 1997, 1999, 2003, 1998, 1994, 1980, 1978, 1976, 1978, 1976, 1976, 1981, 1977, 2001, 1968, 1970, 1969, 1968, 1972, 1993, 1993, 1976, 1966, 1973, 1963, 1967, 1967, 1965, 1958, 1964, 1964, 1960, 1960, 1960, 1958, 1958, 1956, 1959, 1961, 1961, 1960, 1966, 1965, 1964, 1964, 1964, 1959, 1960, 1959, 1962, 1950, 1940, 1946, 1946, 1945, 1958, 1964, 1955, 1948, 1941, 1942, 1968, 1966, 1961, 1958, 1958, 1965, 1957, 1956, 1963, 1958, 1958, 1954, 1957, 1960, 1957, 1957, 1956, 1970, 1955, 1955, 1953, 1958, 1952, 1953, 1953, 1956, 1955, 1955, 1955, 1956, 1953, 1952, 1890, 1949, 1953, 1935, 1940, 1956, 1925, 1927, 1895, 1920, 1963, 1961, 1968, 1969, 1949, 1948, 1949, 1950, 1950, 1950, 1960, 1959, 1958, 1960, 1960, 1961, 1961, 1964, 1962, 1962, 1962, 1926, 1910, 1927, 1922, 1980, 1920, 1885, 1940, 1900, 1948, 1937, 1900, 1920, 1900, 1945, 1923, 1910, 1927, 1925, 1910, 1900, 1910, 1880, 1930, 1879, 1910, 1926, 1948, 1890, 1930, 1956, 1949, 1925, 1950, 1920, 1923, 1939, 1939, 1941, 1939, 1938, 1939, 1930, 1926, 1920, 1929, 1931, 1926, 1918, 1919, 1920, 1926, 1915, 1929, 1916, 1901, 1901, 1931, 1930, 1963, 1914, 1937, 1950, 1915, 1958, 1920, 1916, 1941, 1910, 1930, 1910, 1937, 1946, 1940, 1942, 1963, 1964, 1964, 1961, 1964, 1966, 1966, 1966, 1968, 1971, 1968, 1967, 1966, 1968, 1977, 1966, 1956, 1920, 1918, 1940, 1954, 1958, 1945, 1971, 1984, 1988, 1948, 1953, 1946, 1954, 1950, 1954, 1958, 1958, 1977, 1920, 1984, 1951, 1951, 1920, 1957, 1984, 1990, 1990, 1986, 1991, 1989, 1994, 2007, 2006, 2007, 2006, 2006, 2007, 2007, 2007, 2005, 2006, 2006, 2007, 2005, 2006, 2005, 2005, 2006, 1988, 1988, 1958, 1992, 1966, 1976, 1994, 1994, 1995, 1997, 1998, 1994, 1996, 1994, 1997, 1999, 1998, 2001, 2000, 2003, 2003, 1974, 1976, 1977, 1977, 1977, 1975, 1972, 1975, 1972, 1972, 2004, 2002, 2000, 2002, 2003, 2002, 1998, 1994, 2001, 1996, 2002, 1995, 2003, 1999, 2003, 2003, 2007, 2006, 2004, 2005, 2006, 2006, 2005, 1965, 1967, 1963, 1965, 1925, 1960, 1990, 1976, 1976, 1979, 2006, 2005, 2005, 2008, 2007, 2005, 1959, 1955, 1954, 1946, 1931, 1920, 1954, 1910, 1955, 1955, 1954, 1914, 1923, 1923, 1926, 1926, 1921, 1937, 1930, 1921, 1918, 1926, 1941, 1913, 1910, 1938, 1946, 1949, 1927, 1951, 1918, 1934, 1930, 1932, 1941, 1932, 1945, 1957, 1940, 1953, 1960, 1968, 1980, 1995, 1988, 1971, 1986, 1919, 1940, 1941, 1925, 1939, 1923, 1922, 1920, 1920, 1950, 1939, 1895, 1957, 1930, 2006, 2006, 1979, 1978, 1983, 2002, 2002, 1991, 1975, 1974, 1987, 1998, 1959, 1958, 2006, 2006, 2007, 2006, 1985, 1990, 1996, 2001, 2003, 2002, 1996, 2002, 2003, 1963, 2006, 2006, 2005, 2007, 1953, 1996, 1963, 1967, 1961, 1976, 1976, 1972, 1970, 1970, 1970, 1970, 1976, 1976, 1977, 1977, 1977, 1977, 1971, 1970, 1961, 1982, 1976, 1982, 1983, 1991, 1984, 1954, 1956, 1957, 1957, 1969, 1997, 1997, 1995, 1995, 1996, 1997, 2005, 2006, 2005, 2005, 2005, 2006, 1994, 1993, 1993, 1998, 1987, 1987, 1985, 2005, 2006, 2006, 2005, 2006, 2006, 2005, 2006, 1948, 1955, 2005, 2005, 2005, 1984, 1988, 1977, 1976, 1980, 1988, 1978, 1980, 1978, 1975, 1976, 2005, 1975, 1975, 1976, 1974, 1974, 1969, 1970, 1971, 1971, 2002, 1973, 1973, 1973, 1972, 1971, 1972, 1972, 1972, 1972, 1975, 1967, 1967, 1976, 1976, 2004, 2006, 2006, 2004, 2006, 2005, 2004, 2005, 2004, 2005, 2005, 2005, 2005, 2006, 2005, 2003, 2006, 2005, 2004, 2003, 2005, 2005, 2004, 2005, 2005, 2005, 2005, 2006, 2006, 2003, 2005, 2005, 2006, 2006, 2006, 2006, 2006, 2004, 2006, 2006, 2003, 2003, 2002, 2004, 2004, 2005, 2005, 2005, 2006, 2006, 2005, 2002, 2004, 2004, 2000, 2003, 2000, 2000, 1998, 2000, 2006, 1999, 1997, 1998, 2000, 1995, 2000, 1998, 1998, 1995, 1993, 1994, 1994, 1993, 2005, 2005, 2006, 2005, 2006, 2006, 2006, 2006, 2006, 2005, 2005, 2006, 2006, 2005, 2006, 2005, 2005, 2005, 2005, 2004, 2005, 2005, 1997, 1992, 1992, 1990, 1991, 1994, 1966, 1965, 1962, 1963, 1977, 1962, 1977, 1965, 1968, 1963, 1965, 1965, 1964, 1961, 1967, 1974, 1991, 1992, 1993, 1992, 1994, 2004, 2005, 2005, 2005, 2005, 2005, 2000, 1999, 2000, 2003, 1997, 2001, 1995, 1977, 1980, 1980, 1980, 1978, 1981, 1972, 1968, 1968, 1968, 1968, 1972, 1967, 1969, 1967, 1968, 1968, 1968, 1968, 1968, 1966, 1967, 1965, 1971, 1961, 1958, 1959, 1965, 1964, 1964, 1964, 1958, 1958, 1960, 1934, 1954, 1947, 1946, 1923, 1926, 1908, 1961, 1952, 1951, 1951, 1941, 1949, 1954, 1967, 1964, 1961, 1966, 1954, 1918, 1963, 1962, 1959, 1957, 1960, 1958, 1956, 1957, 1956, 1957, 1979, 1954, 1954, 1952, 1951, 1956, 1956, 1955, 1951, 1941, 1956, 1925, 1947, 1924, 1930, 1954, 1921, 1929, 1900, 1920, 1915, 1910, 1915, 1900, 1936, 1965, 1966, 1963, 1962, 1962, 1964, 1959, 1959, 1957, 1961, 1959, 1962, 1957, 1950, 1949, 1950, 1950, 1959, 1950, 1949, 1950, 1960, 1959, 1961, 1966, 1962, 1962, 1962, 1962, 1900, 1925, 1948, 1920, 1900, 1925, 1900, 1930, 1930, 1900, 1924, 1925, 1880, 1950, 1920, 1905, 1955, 1924, 1921, 1945, 1955, 1920, 1910, 1900, 1914, 1910, 1900, 1916, 1910, 1920, 1923, 1892, 1920, 1958, 1918, 1941, 1939, 1924, 1947, 1939, 1934, 1936, 1930, 1925, 1947, 1928, 1930, 1925, 1921, 1922, 1925, 1962, 1970, 1910, 1941, 1924, 1910, 1919, 1937, 1938, 1922, 1935, 1930, 1951, 1964, 1950, 1958, 1935, 1936, 2004, 1963, 1967, 1963, 1967, 1966, 1964, 1966, 1968, 1978, 1967, 1968, 1978, 1977, 1977, 1958, 1957, 1955, 1924, 1965, 1956, 1967, 1963, 1953, 1971, 1974, 1980, 1986, 1954, 1942, 1948, 1966, 1928, 1935, 1962, 1952, 1955, 1954, 1953, 1952, 1954, 1948, 1985, 1989, 1993, 1993, 2005, 2005, 2006, 2006, 2005, 2006, 2006, 2006, 2005, 2005, 2005, 2005, 2005, 1992, 1964, 1969, 1975, 1968, 1996, 1996, 1995, 1998, 1995, 2000, 1997, 1999, 1999, 1999, 2002, 2002, 2001, 1976, 1977, 1978, 1969, 1972, 1972, 1972, 1993, 2002, 2002, 1999, 2002, 2001, 2002, 2002, 1999, 1996, 1998, 1995, 1998, 2004, 2003, 2004, 2006, 2003, 2004, 2003, 2006, 2005, 2005, 2004, 2005, 2005, 2005, 2005, 1910, 1959, 1951, 1975, 1975, 1969, 2003, 2003, 2005, 2005, 2005, 2004, 2004, 2004, 2004, 2004, 1948, 1915, 1924, 1910, 1924, 1955, 1954, 1918, 1922, 1912, 1922, 1910, 1916, 1940, 1938, 1945, 1926, 1914, 1920, 1926, 1919, 1920, 1939, 1941, 1915, 1920, 1929, 1940, 1922, 1936, 1929, 1932, 1932, 1930, 1956, 1977, 1950, 1953, 1969, 1942, 1926, 1925, 1925, 1936, 1957, 1920, 1945, 1949, 1951, 1916, 2005, 2004, 1979, 1978, 2001, 1977, 1975, 1988, 1989, 1986, 1958, 1981, 1987, 1990, 1990, 2000, 2002, 2005, 2005, 2005, 1951, 1997, 1998, 1998, 2006, 1977, 1977, 1973, 1968, 1970, 1970, 1972, 1969, 1970, 1970, 1970, 1970, 1970, 1976, 1976, 1977, 1960, 1984, 1983, 1992, 1974, 1993], \"xaxis\": \"x\", \"y\": [176500, 237500, 206900, 187500, 165000, 195500, 192000, 173000, 177900, 175000, 286000, 247900, 180000, 180000, 181000, 183000, 188000, 194500, 185000, 189000, 188500, 355000, 325000, 387000, 115000, 334000, 133000, 215000, 226500, 175500, 181900, 235000, 220000, 272000, 161000, 175000, 185000, 146900, 292500, 180000, 159900, 205000, 157000, 306000, 133000, 151000, 111900, 123000, 111250, 181000, 103400, 100000, 100500, 106000, 85400, 89500, 111750, 140000, 143000, 148500, 110000, 394617, 426000, 385000, 446261, 317500, 372402, 417500, 383000, 390000, 460000, 379000, 250000, 316000, 615000, 412500, 284000, 284000, 421250, 370000, 336860, 367294, 192000, 274000, 266000, 370967, 234250, 219500, 155000, 154000, 207000, 195000, 219990, 191000, 159895, 187687, 179000, 193000, 190000, 176000, 188000, 213000, 217300, 186500, 226750, 184000, 225000, 185900, 284500, 315000, 250000, 291000, 350000, 279500, 290000, 350000, 341000, 287500, 271000, 301500, 235128, 214000, 232000, 240000, 264132, 245000, 227680, 257000, 297900, 212700, 250580, 226700, 250000, 250000, 339750, 256000, 230348, 207500, 141000, 188000, 192500, 146000, 159000, 155000, 173000, 170000, 182000, 163000, 193500, 189000, 190500, 175000, 179200, 187000, 193000, 153900, 128000, 144000, 135000, 115000, 119916, 142000, 192000, 140000, 290000, 372500, 196000, 171900, 178000, 165000, 146000, 146000, 179400, 172900, 300000, 285000, 290000, 305000, 328900, 160000, 170000, 223000, 170000, 200000, 345000, 245500, 217500, 324000, 162500, 150000, 290000, 174000, 183000, 150000, 145000, 215000, 140500, 240000, 141000, 147000, 135000, 145000, 142600, 135000, 170000, 299800, 185000, 173000, 178400, 176000, 98000, 109008, 135750, 155000, 180500, 174900, 140000, 145000, 179900, 168500, 140000, 145500, 142000, 141000, 153000, 72500, 52000, 118000, 87000, 141500, 119000, 141500, 165500, 112900, 201800, 163000, 139950, 174000, 165000, 227000, 135000, 124000, 140000, 136500, 185000, 163000, 166800, 139000, 166000, 136000, 133000, 116000, 137500, 130000, 180000, 139000, 110000, 100000, 118500, 146000, 89900, 114000, 140000, 86900, 139000, 106250, 171000, 139000, 186000, 157000, 148000, 242000, 116000, 94000, 98300, 127000, 159000, 125900, 155000, 138000, 112500, 105500, 127500, 130000, 150000, 109500, 140000, 167900, 136870, 143000, 73000, 157500, 122600, 111000, 256000, 64000, 139500, 118000, 200000, 119164, 122250, 120000, 155000, 78000, 95000, 115000, 147000, 140000, 46500, 112500, 107900, 65000, 295000, 139500, 153900, 132000, 98000, 114000, 130000, 129500, 129400, 161000, 163000, 128000, 122000, 116900, 325000, 55000, 184000, 110000, 131500, 97000, 115500, 138000, 108000, 79500, 153000, 109500, 124000, 106900, 164900, 119000, 120000, 157000, 105000, 113000, 115000, 123000, 81300, 162900, 150000, 123500, 129900, 128000, 68500, 127000, 207000, 184000, 162500, 145000, 130000, 160000, 161000, 127500, 93850, 136000, 141000, 120000, 127500, 127000, 89500, 125000, 79900, 85000, 82375, 135000, 124000, 134000, 135000, 134432, 127500, 148000, 129500, 157500, 109900, 145000, 130000, 153000, 120000, 152000, 108959, 95541, 80000, 149350, 144900, 185000, 165000, 235000, 140000, 108000, 145000, 152400, 144000, 173000, 192000, 245000, 241500, 256000, 177000, 125600, 155000, 240000, 260000, 185000, 235000, 159900, 99600, 134500, 119000, 107500, 125000, 79000, 95000, 262280, 260000, 226500, 225000, 229000, 177439, 248500, 475000, 395039, 228000, 225000, 195000, 200000, 155000, 144000, 145000, 226001, 215700, 207500, 193000, 188000, 191000, 221000, 231500, 235000, 223500, 130250, 149900, 158000, 147000, 143195, 163000, 110000, 127000, 124900, 230000, 235000, 230500, 230000, 222500, 287000, 274000, 300000, 255900, 224900, 240000, 183000, 207000, 210000, 136500, 145000, 208900, 185000, 214000, 208500, 186500, 210000, 185900, 179900, 218836, 193000, 189000, 149300, 141000, 149000, 144500, 85000, 145900, 123000, 147500, 165000, 135000, 108000, 137500, 165400, 147000, 160500, 176000, 160000, 148000, 82000, 82000, 118000, 82500, 91900, 120000, 96000, 99000, 130500, 135000, 135500, 100000, 108000, 98000, 67000, 135900, 140000, 179500, 136500, 168000, 130000, 189000, 161900, 145000, 191000, 177000, 147500, 91000, 231000, 115000, 138000, 149000, 188700, 198000, 110000, 104000, 257076, 381000, 311500, 263400, 236500, 224000, 116500, 151000, 126000, 120000, 55000, 120500, 120500, 119000, 126000, 99500, 165500, 13100, 89000, 40000, 80900, 81000, 65000, 392500, 294464, 250000, 275000, 300000, 271000, 213000, 171000, 171500, 100000, 228500, 228950, 241500, 287000, 294000, 293077, 264966, 172500, 218689, 150000, 184000, 180000, 175000, 232500, 195000, 305000, 298751, 370000, 209200, 206300, 146000, 160500, 173000, 124000, 115000, 129500, 105000, 94900, 152500, 98000, 81000, 113000, 128500, 119500, 130500, 138000, 134500, 160000, 137500, 172000, 103000, 167300, 167000, 244000, 268000, 225000, 168000, 177000, 169000, 161500, 251000, 160000, 180000, 178750, 176000, 204000, 160000, 160000, 163900, 168000, 154204, 170000, 207500, 182000, 212000, 377426, 349265, 591587, 155000, 319900, 392000, 441929, 455000, 182900, 174000, 178000, 176000, 213000, 192000, 190000, 195000, 148000, 151500, 197000, 192350, 152000, 170000, 175000, 175000, 197900, 174000, 178900, 139000, 143250, 184000, 155000, 133000, 119500, 123000, 110000, 128000, 120500, 133000, 155000, 177000, 113500, 113000, 113700, 106000, 122500, 128000, 155000, 142500, 129250, 356000, 314813, 318000, 322400, 318000, 345474, 415298, 492000, 338931, 450000, 280000, 479069, 395000, 380000, 250000, 440000, 418000, 500067, 260116, 317000, 319500, 325624, 372000, 342000, 354000, 350000, 285000, 281500, 245700, 232698, 250000, 194700, 204000, 200000, 207000, 209500, 209500, 202500, 280000, 277500, 318061, 221370, 200000, 176000, 178900, 168165, 171925, 198444, 203000, 179540, 176485, 181134, 156932, 166000, 177594, 173500, 172500, 194201, 226500, 185485, 259000, 188500, 175000, 215000, 206580, 183500, 211000, 181000, 219500, 175000, 170000, 162000, 187000, 185000, 745000, 384500, 248000, 466500, 410000, 322500, 252000, 755000, 269790, 315750, 290000, 290000, 430000, 263000, 330000, 213133, 260261, 320000, 282922, 215000, 419005, 255000, 147000, 311872, 248328, 227000, 260000, 225000, 249000, 307000, 250000, 221300, 208900, 210400, 255000, 212109, 270000, 303477, 249700, 227875, 261329, 253000, 265000, 340000, 146000, 147000, 149000, 181000, 201000, 191750, 179000, 215000, 179200, 128000, 144000, 144000, 120750, 132500, 132000, 132500, 129000, 143900, 145000, 128500, 125500, 300000, 294000, 129000, 171000, 147000, 302000, 285000, 214000, 166000, 193800, 208900, 194000, 164700, 176500, 176000, 168500, 177000, 177000, 148800, 174000, 239000, 204000, 301000, 312500, 279700, 255000, 194000, 218000, 213750, 187000, 181500, 373000, 190000, 226000, 143450, 240050, 162500, 164000, 185000, 188500, 255000, 136905, 158500, 175500, 127000, 127000, 143000, 156000, 144000, 119000, 103000, 139900, 151500, 126500, 145000, 120000, 124000, 106500, 140500, 137500, 117600, 163500, 161000, 158000, 224500, 147000, 200000, 181900, 150750, 101800, 124000, 138500, 39300, 64500, 64000, 112000, 165000, 144000, 137000, 105000, 146500, 126000, 175000, 158500, 114500, 144000, 129000, 141000, 131000, 142100, 139000, 157900, 139400, 150000, 120000, 174850, 116000, 135000, 163500, 130000, 129500, 142000, 128600, 125000, 136000, 134500, 127000, 130000, 115000, 116900, 132000, 153000, 112500, 138000, 135000, 156000, 301600, 109000, 103200, 128500, 64500, 148000, 86000, 172000, 120000, 128500, 135000, 122900, 119200, 143000, 119000, 102000, 129000, 135000, 152000, 140000, 152000, 156500, 141000, 99000, 187000, 169500, 125500, 130000, 103000, 132000, 127500, 89500, 140000, 99900, 100000, 130000, 135000, 120000, 89471, 85000, 108500, 137000, 110500, 100000, 184900, 145000, 125000, 114000, 90000, 144100, 117500, 124500, 185000, 133900, 152000, 153500, 159500, 87000, 104500, 110000, 136500, 128250, 144000, 210000, 135000, 128000, 131000, 113000, 126000, 132000, 131750, 132500, 137500, 132000, 127500, 102000, 200000, 180500, 165000, 90000, 153575, 140000, 136000, 113000, 117000, 169500, 139400, 202500, 127000, 141000, 212300, 161000, 99500, 101000, 109900, 128500, 122000, 87000, 50000, 219000, 200500, 126000, 108500, 130000, 158450, 115400, 118500, 165000, 123000, 129000, 125000, 108000, 119900, 115000, 134500, 127000, 129000, 143500, 129000, 187000, 158000, 112000, 165250, 150000, 137000, 89500, 302000, 182000, 211000, 216000, 130000, 109900, 255000, 243000, 154000, 118000, 80000, 150000, 86000, 130000, 125000, 136500, 96000, 120000, 228500, 179900, 225000, 301000, 238000, 228500, 220000, 383970, 424870, 250000, 360000, 279500, 200141, 246500, 276000, 203000, 155835, 194000, 195400, 217000, 212999, 175900, 191000, 176432, 277000, 207000, 277000, 240000, 187500, 279000, 139500, 126000, 177500, 175000, 211000, 146000, 147900, 123600, 204750, 235500, 217000, 190550, 217500, 226000, 180000, 131000, 153500, 160000, 134900, 130000, 120000, 112500, 122000, 127000, 117000, 305900, 228500, 270000, 192000, 213000, 200000, 267000, 228000, 275000, 211000, 285000, 240000, 131500, 246900, 219500, 185000, 179400, 213500, 179600, 173500, 167840, 168675, 167000, 140000, 118500, 110000, 94750, 122000, 110000, 118500, 133500, 148000, 141000, 155000, 157000, 171500, 183850, 184750, 140000, 131750, 61500, 111000, 98500, 79000, 108500, 110000, 112000, 125000, 79275, 119000, 200000, 150000, 165000, 96500, 136500, 146500, 175000, 148500, 141500, 189950, 135000, 164000, 90350, 139000, 119750, 145000, 145000, 238000, 153500, 239000, 359100, 188000, 220000, 140000, 315000, 259500, 257500, 219500, 217000, 201000, 215000, 123900, 170000, 200000, 198000, 315000, 115000, 141000, 87000, 129850, 100000, 150909, 75200, 118400, 67000, 152000, 68104, 119600, 140000, 124900, 375000, 235000, 183500, 156000, 134000, 215000, 245000, 210000, 148000, 143000, 244000, 330000, 170000, 257000, 231713, 265900, 239000, 248900, 174000, 187500, 204000, 180500, 187500, 282000, 178000, 270000, 279900, 186700, 283463, 392000, 281213, 147000, 130000, 140000, 132250, 143000, 168000, 129900, 134000, 85500, 106500, 93900, 75000, 84500, 75190, 146800, 153500, 188000, 196000, 157000, 138000, 129500, 80000, 129500, 135000, 124500, 139000, 93500, 124500, 149900, 157500, 169000, 252000, 192100, 183500, 222000, 170000, 187500, 202000, 185000, 320000, 240000, 250000, 239900, 309000, 274725, 270000, 183500, 165600, 176500, 130000, 239000, 275000, 457347, 545224, 356383, 556581, 361919, 535000, 401179, 438780, 169000, 145000, 318000, 319000, 470000, 202500, 229000, 235000, 190000, 169000, 241500, 188900, 207500, 250000, 179900, 172000, 294323, 184500, 153500, 162900, 181000, 155000, 138800, 116050, 88000, 97500, 190000, 105500, 125500, 83000, 116000, 91500, 118000, 89000, 108000, 94500, 146300, 145000, 123000, 137500, 144000, 315000, 412083, 342643, 252000, 293000, 415000, 326000, 325300, 309000, 300000, 275500, 338500, 345000, 298236, 329900, 360000, 281000, 372397, 378000, 374000, 437154, 275000, 279000, 185850, 282500, 202500, 202665, 332200, 310090, 171750, 169990, 170440, 169985, 179665, 219210, 174190, 172785, 258000, 185101, 210250, 234000, 215000, 246990, 178740, 225000, 167240, 156820, 213490, 264561, 246578, 192140, 183200, 178000, 201490, 230500, 180000, 172400, 215000, 199900, 173000, 287602, 230000, 348000, 286000, 300000, 625000, 405000, 280000, 258000, 350000, 584500, 321000, 290000, 315000, 252000, 423000, 290000, 232000, 199000, 198600, 405749, 232600, 266000, 186500, 200825, 197000, 185000, 176000, 187750, 139500, 186800, 132000, 142500, 158000, 184000, 184900, 187000, 175900, 248500, 172000, 151000, 150000, 107000, 119900, 129500, 125000, 119500, 144000, 151000, 126000, 116000, 133500, 120875, 137000, 124000, 135000, 129200, 260000, 260000, 334000, 310000, 268000, 262000, 176400, 197000, 151000, 147400, 149900, 144152, 166000, 183900, 165000, 139000, 200000, 221000, 270000, 165000, 214000, 188000, 190000, 170000, 385000, 146500, 170000, 262500, 179900, 250000, 165150, 164500, 140000, 135500, 142000, 155000, 157500, 138500, 140000, 124400, 158000, 146000, 190000, 136500, 129900, 145000, 185900, 160000, 167000, 157500, 140000, 150000, 151500, 129800, 137000, 137000, 121600, 85500, 79900, 127000, 161000, 146500, 135000, 137900, 133000, 137000, 121000, 119000, 172000, 98600, 226000, 118000, 235000, 135000, 132500, 143000, 132000, 145250, 162000, 148000, 141000, 153000, 134450, 135960, 156000, 140000, 139500, 155000, 127000, 133500, 125000, 142000, 167000, 159000, 180000, 127000, 112000, 99800, 117000, 108480, 68000, 86900, 120000, 155500, 80000, 105000, 160000, 170000, 160000, 159950, 165000, 159000, 147000, 115000, 159500, 120000, 129900, 183000, 157500, 277500, 207500, 147500, 135000, 109500, 109900, 133700, 81400, 87500, 93500, 119000, 141000, 146000, 155000, 134500, 120000, 105000, 124000, 169000, 107000, 135000, 111500, 156500, 178000, 139900, 105000, 110000, 111500, 108000, 111500, 124000, 105000, 116000, 96900, 135500, 139000, 61500, 120000, 126175, 64000, 137000, 87000, 163000, 155000, 79000, 144000, 114504, 157000, 125000, 475000, 93500, 125000, 64500, 100000, 140200, 202500, 159000, 119900, 114500, 115000, 75000, 88000, 80500, 149000, 110000, 110500, 89000, 113000, 109000, 220000, 129000, 117000, 52500, 107000, 116500, 72000, 119500, 125500, 91000, 84500, 90000, 137500, 150000, 131000, 130000, 125000, 80000, 157000, 148000, 90000, 154500, 153600, 164500, 132000, 142500, 158000, 149500, 165000, 180000, 160500, 156500, 157000, 172500, 155000, 170000, 105000, 145000, 168000, 278000, 164000, 225000, 130000, 142500, 148400, 190000, 146000, 128000, 225000, 274970, 235000, 415000, 182000, 135000, 137000, 136900, 149900, 123500, 93000, 91500, 180000, 209000, 215000, 224500, 229800, 183600, 194000, 193879, 221500, 204900, 239799, 233555, 260000, 294900, 209700, 225000, 181000, 220000, 190000, 180000, 280000, 158900, 148000, 145000, 187000, 193000, 156000, 235000, 217000, 214000, 196000, 217000, 200000, 192500, 205000, 132500, 157500, 174000, 128500, 128500, 149900, 119900, 137000, 255000, 222000, 214000, 220000, 275000, 197000, 230000, 268500, 210900, 227000, 237000, 274300, 216837, 133000, 155900, 233230, 207000, 195000, 200000, 203160, 195800, 212900, 196500, 198000, 173900, 163990, 164990, 98000, 149900, 102000, 127500, 127500, 119900, 196500, 229000, 145000, 140000, 142500, 134000, 130000, 130000, 137500, 130000, 97900, 92000, 107000, 81000, 104900, 115000, 125000, 116000, 83000, 118500, 35000, 121000, 160000, 140000, 137000, 128000, 160000, 138887, 149000, 102000, 167000, 200100, 131000, 112000, 140000, 195000, 230000, 194000, 137500, 250000, 218000, 239000, 199500, 210000, 230000, 217500, 257000, 157000, 223000, 102000, 145400, 72000, 85000, 106500, 139000, 108000, 51689, 35311, 115000, 78000, 375000, 300000, 242500, 145000, 209000, 135000, 148000, 171000, 335000, 230000, 250764, 228000, 176000, 180000, 250000, 202000, 312500, 320000, 369900, 359900, 81500, 215000, 164000, 153500, 84500, 104500, 127000, 151400, 126500, 146500, 73000, 79400, 140000, 92000, 87550, 79500, 90500, 71000, 150900, 188000, 160000, 131000, 142500, 131000, 132000, 170000, 188000], \"yaxis\": \"y\"}, {\"hoverlabel\": {\"namelength\": 0}, \"hovertemplate\": \"<b>OLS trendline</b><br>SalePrice = 1431.126214 * Year_Built + -2639279.250092<br>R<sup>2</sup>=0.290005<br><br>Year_Built=%{x}<br>SalePrice=%{y} <b>(trend)</b>\", \"legendgroup\": \"\", \"marker\": {\"color\": \"#636efa\", \"symbol\": \"circle\"}, \"mode\": \"lines\", \"name\": \"\", \"showlegend\": false, \"type\": \"scattergl\", \"x\": [1872, 1879, 1880, 1880, 1880, 1885, 1890, 1890, 1890, 1890, 1892, 1893, 1895, 1895, 1895, 1900, 1900, 1900, 1900, 1900, 1900, 1900, 1900, 1900, 1900, 1900, 1900, 1900, 1900, 1900, 1900, 1900, 1900, 1900, 1901, 1901, 1904, 1905, 1905, 1905, 1906, 1908, 1908, 1910, 1910, 1910, 1910, 1910, 1910, 1910, 1910, 1910, 1910, 1910, 1910, 1910, 1910, 1910, 1910, 1910, 1910, 1910, 1910, 1910, 1910, 1910, 1910, 1910, 1910, 1911, 1912, 1912, 1912, 1913, 1914, 1914, 1914, 1914, 1914, 1914, 1914, 1915, 1915, 1915, 1915, 1915, 1915, 1915, 1915, 1915, 1915, 1915, 1915, 1916, 1916, 1916, 1916, 1916, 1916, 1917, 1918, 1918, 1918, 1918, 1918, 1918, 1918, 1918, 1918, 1919, 1919, 1919, 1919, 1920, 1920, 1920, 1920, 1920, 1920, 1920, 1920, 1920, 1920, 1920, 1920, 1920, 1920, 1920, 1920, 1920, 1920, 1920, 1920, 1920, 1920, 1920, 1920, 1920, 1920, 1920, 1920, 1920, 1920, 1920, 1920, 1920, 1920, 1920, 1920, 1921, 1921, 1921, 1921, 1921, 1921, 1921, 1922, 1922, 1922, 1922, 1922, 1922, 1922, 1922, 1922, 1922, 1923, 1923, 1923, 1923, 1923, 1923, 1923, 1923, 1923, 1923, 1923, 1924, 1924, 1924, 1924, 1924, 1924, 1924, 1924, 1924, 1924, 1924, 1925, 1925, 1925, 1925, 1925, 1925, 1925, 1925, 1925, 1925, 1925, 1925, 1925, 1925, 1925, 1925, 1925, 1925, 1925, 1925, 1925, 1925, 1925, 1925, 1926, 1926, 1926, 1926, 1926, 1926, 1926, 1926, 1926, 1926, 1926, 1926, 1926, 1926, 1926, 1926, 1927, 1927, 1927, 1927, 1927, 1928, 1928, 1928, 1928, 1929, 1929, 1929, 1929, 1929, 1929, 1929, 1930, 1930, 1930, 1930, 1930, 1930, 1930, 1930, 1930, 1930, 1930, 1930, 1930, 1930, 1930, 1930, 1930, 1930, 1930, 1930, 1930, 1930, 1930, 1931, 1931, 1931, 1931, 1931, 1932, 1932, 1932, 1932, 1934, 1934, 1934, 1934, 1935, 1935, 1935, 1935, 1935, 1935, 1935, 1935, 1935, 1935, 1936, 1936, 1936, 1936, 1936, 1936, 1937, 1937, 1937, 1937, 1937, 1937, 1937, 1937, 1938, 1938, 1938, 1938, 1938, 1938, 1938, 1939, 1939, 1939, 1939, 1939, 1939, 1939, 1939, 1939, 1939, 1939, 1939, 1939, 1939, 1940, 1940, 1940, 1940, 1940, 1940, 1940, 1940, 1940, 1940, 1940, 1940, 1940, 1940, 1940, 1940, 1940, 1940, 1940, 1940, 1940, 1940, 1941, 1941, 1941, 1941, 1941, 1941, 1941, 1941, 1941, 1941, 1941, 1941, 1941, 1941, 1942, 1942, 1942, 1942, 1945, 1945, 1945, 1945, 1945, 1945, 1945, 1945, 1945, 1945, 1946, 1946, 1946, 1946, 1946, 1946, 1946, 1946, 1946, 1946, 1947, 1947, 1947, 1947, 1947, 1947, 1947, 1948, 1948, 1948, 1948, 1948, 1948, 1948, 1948, 1948, 1948, 1948, 1948, 1948, 1948, 1948, 1948, 1948, 1948, 1949, 1949, 1949, 1949, 1949, 1949, 1949, 1949, 1949, 1949, 1949, 1950, 1950, 1950, 1950, 1950, 1950, 1950, 1950, 1950, 1950, 1950, 1950, 1950, 1950, 1950, 1950, 1950, 1950, 1950, 1950, 1950, 1950, 1951, 1951, 1951, 1951, 1951, 1951, 1951, 1951, 1951, 1951, 1951, 1951, 1951, 1951, 1952, 1952, 1952, 1952, 1952, 1952, 1952, 1952, 1952, 1952, 1953, 1953, 1953, 1953, 1953, 1953, 1953, 1953, 1953, 1953, 1953, 1953, 1953, 1953, 1953, 1953, 1953, 1953, 1954, 1954, 1954, 1954, 1954, 1954, 1954, 1954, 1954, 1954, 1954, 1954, 1954, 1954, 1954, 1954, 1954, 1954, 1954, 1954, 1954, 1954, 1954, 1954, 1954, 1954, 1954, 1954, 1954, 1954, 1954, 1955, 1955, 1955, 1955, 1955, 1955, 1955, 1955, 1955, 1955, 1955, 1955, 1955, 1955, 1955, 1955, 1955, 1955, 1955, 1955, 1955, 1955, 1955, 1955, 1955, 1955, 1956, 1956, 1956, 1956, 1956, 1956, 1956, 1956, 1956, 1956, 1956, 1956, 1956, 1956, 1956, 1956, 1956, 1956, 1956, 1956, 1956, 1956, 1956, 1956, 1957, 1957, 1957, 1957, 1957, 1957, 1957, 1957, 1957, 1957, 1957, 1957, 1957, 1957, 1957, 1957, 1957, 1957, 1957, 1957, 1957, 1957, 1957, 1958, 1958, 1958, 1958, 1958, 1958, 1958, 1958, 1958, 1958, 1958, 1958, 1958, 1958, 1958, 1958, 1958, 1958, 1958, 1958, 1958, 1958, 1958, 1958, 1958, 1958, 1958, 1958, 1958, 1958, 1958, 1958, 1959, 1959, 1959, 1959, 1959, 1959, 1959, 1959, 1959, 1959, 1959, 1959, 1959, 1959, 1959, 1959, 1959, 1959, 1959, 1959, 1959, 1959, 1960, 1960, 1960, 1960, 1960, 1960, 1960, 1960, 1960, 1960, 1960, 1960, 1960, 1960, 1960, 1960, 1960, 1960, 1960, 1960, 1960, 1960, 1960, 1960, 1960, 1961, 1961, 1961, 1961, 1961, 1961, 1961, 1961, 1961, 1961, 1961, 1961, 1961, 1961, 1961, 1961, 1961, 1961, 1961, 1961, 1961, 1961, 1961, 1961, 1961, 1962, 1962, 1962, 1962, 1962, 1962, 1962, 1962, 1962, 1962, 1962, 1962, 1962, 1962, 1962, 1962, 1962, 1962, 1962, 1962, 1962, 1962, 1962, 1962, 1962, 1962, 1963, 1963, 1963, 1963, 1963, 1963, 1963, 1963, 1963, 1963, 1963, 1963, 1963, 1963, 1963, 1963, 1963, 1963, 1963, 1963, 1963, 1963, 1963, 1963, 1964, 1964, 1964, 1964, 1964, 1964, 1964, 1964, 1964, 1964, 1964, 1964, 1964, 1964, 1964, 1964, 1964, 1964, 1964, 1964, 1964, 1964, 1964, 1964, 1964, 1965, 1965, 1965, 1965, 1965, 1965, 1965, 1965, 1965, 1965, 1965, 1965, 1965, 1965, 1965, 1965, 1965, 1965, 1965, 1965, 1965, 1965, 1965, 1965, 1966, 1966, 1966, 1966, 1966, 1966, 1966, 1966, 1966, 1966, 1966, 1966, 1966, 1966, 1966, 1966, 1966, 1966, 1966, 1966, 1966, 1966, 1966, 1966, 1966, 1966, 1967, 1967, 1967, 1967, 1967, 1967, 1967, 1967, 1967, 1967, 1967, 1967, 1967, 1967, 1967, 1967, 1967, 1967, 1967, 1967, 1967, 1967, 1968, 1968, 1968, 1968, 1968, 1968, 1968, 1968, 1968, 1968, 1968, 1968, 1968, 1968, 1968, 1968, 1968, 1968, 1968, 1968, 1968, 1968, 1968, 1968, 1968, 1968, 1968, 1968, 1968, 1968, 1968, 1969, 1969, 1969, 1969, 1969, 1969, 1969, 1969, 1969, 1969, 1969, 1969, 1969, 1969, 1969, 1969, 1969, 1969, 1969, 1970, 1970, 1970, 1970, 1970, 1970, 1970, 1970, 1970, 1970, 1970, 1970, 1970, 1970, 1970, 1970, 1970, 1970, 1970, 1970, 1970, 1970, 1970, 1970, 1970, 1970, 1971, 1971, 1971, 1971, 1971, 1971, 1971, 1971, 1971, 1971, 1971, 1971, 1971, 1971, 1971, 1971, 1971, 1971, 1971, 1971, 1971, 1971, 1971, 1971, 1972, 1972, 1972, 1972, 1972, 1972, 1972, 1972, 1972, 1972, 1972, 1972, 1972, 1972, 1972, 1972, 1972, 1972, 1972, 1972, 1972, 1972, 1972, 1972, 1972, 1973, 1973, 1973, 1973, 1973, 1973, 1973, 1973, 1973, 1973, 1973, 1973, 1973, 1973, 1973, 1973, 1974, 1974, 1974, 1974, 1974, 1974, 1974, 1974, 1974, 1974, 1974, 1974, 1974, 1974, 1975, 1975, 1975, 1975, 1975, 1975, 1975, 1975, 1975, 1975, 1975, 1975, 1975, 1975, 1975, 1975, 1975, 1975, 1975, 1976, 1976, 1976, 1976, 1976, 1976, 1976, 1976, 1976, 1976, 1976, 1976, 1976, 1976, 1976, 1976, 1976, 1976, 1976, 1976, 1976, 1976, 1976, 1976, 1976, 1976, 1976, 1976, 1976, 1976, 1976, 1976, 1976, 1976, 1976, 1976, 1976, 1976, 1976, 1977, 1977, 1977, 1977, 1977, 1977, 1977, 1977, 1977, 1977, 1977, 1977, 1977, 1977, 1977, 1977, 1977, 1977, 1977, 1977, 1977, 1977, 1977, 1977, 1977, 1977, 1977, 1977, 1977, 1977, 1977, 1977, 1977, 1977, 1977, 1978, 1978, 1978, 1978, 1978, 1978, 1978, 1978, 1978, 1978, 1978, 1978, 1978, 1978, 1978, 1978, 1978, 1978, 1978, 1979, 1979, 1979, 1979, 1979, 1979, 1979, 1979, 1979, 1980, 1980, 1980, 1980, 1980, 1980, 1980, 1980, 1980, 1980, 1980, 1980, 1980, 1981, 1981, 1981, 1981, 1981, 1981, 1982, 1982, 1982, 1982, 1982, 1983, 1983, 1983, 1983, 1983, 1983, 1984, 1984, 1984, 1984, 1984, 1984, 1984, 1984, 1984, 1984, 1984, 1984, 1984, 1984, 1985, 1985, 1985, 1986, 1986, 1986, 1986, 1986, 1986, 1986, 1986, 1986, 1987, 1987, 1987, 1987, 1988, 1988, 1988, 1988, 1988, 1988, 1988, 1988, 1988, 1988, 1988, 1989, 1989, 1989, 1989, 1989, 1990, 1990, 1990, 1990, 1990, 1990, 1990, 1990, 1990, 1990, 1990, 1990, 1991, 1991, 1991, 1991, 1991, 1991, 1991, 1991, 1991, 1992, 1992, 1992, 1992, 1992, 1992, 1992, 1992, 1992, 1992, 1992, 1992, 1992, 1992, 1992, 1993, 1993, 1993, 1993, 1993, 1993, 1993, 1993, 1993, 1993, 1993, 1993, 1993, 1993, 1993, 1993, 1993, 1993, 1993, 1993, 1993, 1993, 1993, 1993, 1994, 1994, 1994, 1994, 1994, 1994, 1994, 1994, 1994, 1994, 1994, 1994, 1994, 1994, 1994, 1994, 1994, 1994, 1994, 1994, 1994, 1994, 1994, 1994, 1995, 1995, 1995, 1995, 1995, 1995, 1995, 1995, 1995, 1995, 1995, 1995, 1995, 1995, 1995, 1995, 1995, 1995, 1995, 1995, 1995, 1995, 1995, 1995, 1996, 1996, 1996, 1996, 1996, 1996, 1996, 1996, 1996, 1996, 1996, 1996, 1996, 1996, 1996, 1996, 1996, 1996, 1996, 1996, 1996, 1996, 1996, 1996, 1997, 1997, 1997, 1997, 1997, 1997, 1997, 1997, 1997, 1997, 1997, 1997, 1997, 1997, 1997, 1997, 1997, 1997, 1997, 1997, 1997, 1997, 1997, 1997, 1997, 1997, 1997, 1997, 1998, 1998, 1998, 1998, 1998, 1998, 1998, 1998, 1998, 1998, 1998, 1998, 1998, 1998, 1998, 1998, 1998, 1998, 1998, 1998, 1998, 1998, 1998, 1998, 1998, 1998, 1998, 1998, 1998, 1999, 1999, 1999, 1999, 1999, 1999, 1999, 1999, 1999, 1999, 1999, 1999, 1999, 1999, 1999, 1999, 1999, 1999, 1999, 1999, 1999, 1999, 1999, 1999, 1999, 1999, 1999, 1999, 1999, 1999, 1999, 1999, 2000, 2000, 2000, 2000, 2000, 2000, 2000, 2000, 2000, 2000, 2000, 2000, 2000, 2000, 2000, 2000, 2000, 2000, 2000, 2000, 2000, 2000, 2000, 2000, 2000, 2000, 2000, 2000, 2000, 2001, 2001, 2001, 2001, 2001, 2001, 2001, 2001, 2001, 2001, 2001, 2001, 2001, 2001, 2001, 2001, 2001, 2001, 2001, 2001, 2001, 2002, 2002, 2002, 2002, 2002, 2002, 2002, 2002, 2002, 2002, 2002, 2002, 2002, 2002, 2002, 2002, 2002, 2002, 2002, 2002, 2002, 2002, 2002, 2002, 2002, 2002, 2002, 2003, 2003, 2003, 2003, 2003, 2003, 2003, 2003, 2003, 2003, 2003, 2003, 2003, 2003, 2003, 2003, 2003, 2003, 2003, 2003, 2003, 2003, 2003, 2003, 2003, 2003, 2003, 2003, 2003, 2003, 2003, 2003, 2003, 2003, 2003, 2003, 2003, 2003, 2003, 2003, 2003, 2003, 2003, 2003, 2003, 2003, 2003, 2003, 2003, 2003, 2003, 2003, 2003, 2004, 2004, 2004, 2004, 2004, 2004, 2004, 2004, 2004, 2004, 2004, 2004, 2004, 2004, 2004, 2004, 2004, 2004, 2004, 2004, 2004, 2004, 2004, 2004, 2004, 2004, 2004, 2004, 2004, 2004, 2004, 2004, 2004, 2004, 2004, 2004, 2004, 2004, 2004, 2004, 2004, 2004, 2004, 2004, 2004, 2004, 2004, 2004, 2004, 2004, 2004, 2004, 2004, 2004, 2004, 2004, 2004, 2004, 2004, 2004, 2004, 2005, 2005, 2005, 2005, 2005, 2005, 2005, 2005, 2005, 2005, 2005, 2005, 2005, 2005, 2005, 2005, 2005, 2005, 2005, 2005, 2005, 2005, 2005, 2005, 2005, 2005, 2005, 2005, 2005, 2005, 2005, 2005, 2005, 2005, 2005, 2005, 2005, 2005, 2005, 2005, 2005, 2005, 2005, 2005, 2005, 2005, 2005, 2005, 2005, 2005, 2005, 2005, 2005, 2005, 2005, 2005, 2005, 2005, 2005, 2005, 2005, 2005, 2005, 2005, 2005, 2005, 2005, 2005, 2005, 2005, 2005, 2005, 2005, 2005, 2005, 2005, 2005, 2005, 2005, 2005, 2005, 2005, 2005, 2005, 2005, 2005, 2005, 2005, 2005, 2005, 2005, 2005, 2005, 2005, 2005, 2005, 2005, 2005, 2005, 2005, 2005, 2005, 2005, 2005, 2005, 2005, 2005, 2005, 2005, 2005, 2005, 2005, 2005, 2006, 2006, 2006, 2006, 2006, 2006, 2006, 2006, 2006, 2006, 2006, 2006, 2006, 2006, 2006, 2006, 2006, 2006, 2006, 2006, 2006, 2006, 2006, 2006, 2006, 2006, 2006, 2006, 2006, 2006, 2006, 2006, 2006, 2006, 2006, 2006, 2006, 2006, 2006, 2006, 2006, 2006, 2006, 2006, 2006, 2006, 2006, 2006, 2006, 2006, 2006, 2006, 2006, 2006, 2006, 2006, 2006, 2006, 2006, 2006, 2006, 2006, 2006, 2006, 2006, 2006, 2006, 2006, 2006, 2006, 2006, 2006, 2006, 2006, 2006, 2006, 2006, 2006, 2006, 2006, 2006, 2006, 2006, 2006, 2006, 2006, 2006, 2006, 2006, 2006, 2006, 2006, 2006, 2006, 2006, 2006, 2006, 2006, 2006, 2006, 2006, 2006, 2006, 2006, 2006, 2006, 2006, 2006, 2006, 2006, 2006, 2006, 2007, 2007, 2007, 2007, 2007, 2007, 2007, 2007, 2007, 2007, 2007, 2007, 2007, 2007, 2007, 2007, 2007, 2007, 2007, 2007, 2007, 2007, 2007, 2007, 2007, 2007, 2007, 2007, 2007, 2007, 2007, 2007, 2007, 2007, 2007, 2007, 2007, 2007, 2007, 2007, 2007, 2007, 2007, 2007, 2007, 2007, 2007, 2007, 2007, 2007, 2007, 2007, 2007, 2007, 2007, 2007, 2007, 2007, 2007, 2007, 2007, 2007, 2007, 2007, 2007, 2007, 2007, 2007, 2007, 2007, 2007, 2007, 2007, 2007, 2007, 2007, 2007, 2007, 2008, 2008, 2008, 2008, 2008, 2008, 2008, 2008, 2008, 2008, 2008, 2008, 2008], \"xaxis\": \"x\", \"y\": [39789.02316552447, 49806.906665955205, 51238.03288030252, 51238.03288030252, 51238.03288030252, 58393.66395203862, 65549.29502377473, 65549.29502377473, 65549.29502377473, 65549.29502377473, 68411.54745246889, 69842.6736668162, 72704.92609551083, 72704.92609551083, 72704.92609551083, 79860.55716724694, 79860.55716724694, 79860.55716724694, 79860.55716724694, 79860.55716724694, 79860.55716724694, 79860.55716724694, 79860.55716724694, 79860.55716724694, 79860.55716724694, 79860.55716724694, 79860.55716724694, 79860.55716724694, 79860.55716724694, 79860.55716724694, 79860.55716724694, 79860.55716724694, 79860.55716724694, 79860.55716724694, 81291.68338159425, 81291.68338159425, 85585.06202463573, 87016.18823898304, 87016.18823898304, 87016.18823898304, 88447.31445333036, 91309.56688202452, 91309.56688202452, 94171.81931071915, 94171.81931071915, 94171.81931071915, 94171.81931071915, 94171.81931071915, 94171.81931071915, 94171.81931071915, 94171.81931071915, 94171.81931071915, 94171.81931071915, 94171.81931071915, 94171.81931071915, 94171.81931071915, 94171.81931071915, 94171.81931071915, 94171.81931071915, 94171.81931071915, 94171.81931071915, 94171.81931071915, 94171.81931071915, 94171.81931071915, 94171.81931071915, 94171.81931071915, 94171.81931071915, 94171.81931071915, 94171.81931071915, 95602.94552506646, 97034.07173941331, 97034.07173941331, 97034.07173941331, 98465.19795376062, 99896.32416810794, 99896.32416810794, 99896.32416810794, 99896.32416810794, 99896.32416810794, 99896.32416810794, 99896.32416810794, 101327.45038245525, 101327.45038245525, 101327.45038245525, 101327.45038245525, 101327.45038245525, 101327.45038245525, 101327.45038245525, 101327.45038245525, 101327.45038245525, 101327.45038245525, 101327.45038245525, 101327.45038245525, 102758.57659680257, 102758.57659680257, 102758.57659680257, 102758.57659680257, 102758.57659680257, 102758.57659680257, 104189.70281114941, 105620.82902549673, 105620.82902549673, 105620.82902549673, 105620.82902549673, 105620.82902549673, 105620.82902549673, 105620.82902549673, 105620.82902549673, 105620.82902549673, 107051.95523984404, 107051.95523984404, 107051.95523984404, 107051.95523984404, 108483.08145419136, 108483.08145419136, 108483.08145419136, 108483.08145419136, 108483.08145419136, 108483.08145419136, 108483.08145419136, 108483.08145419136, 108483.08145419136, 108483.08145419136, 108483.08145419136, 108483.08145419136, 108483.08145419136, 108483.08145419136, 108483.08145419136, 108483.08145419136, 108483.08145419136, 108483.08145419136, 108483.08145419136, 108483.08145419136, 108483.08145419136, 108483.08145419136, 108483.08145419136, 108483.08145419136, 108483.08145419136, 108483.08145419136, 108483.08145419136, 108483.08145419136, 108483.08145419136, 108483.08145419136, 108483.08145419136, 108483.08145419136, 108483.08145419136, 108483.08145419136, 108483.08145419136, 108483.08145419136, 109914.20766853867, 109914.20766853867, 109914.20766853867, 109914.20766853867, 109914.20766853867, 109914.20766853867, 109914.20766853867, 111345.33388288552, 111345.33388288552, 111345.33388288552, 111345.33388288552, 111345.33388288552, 111345.33388288552, 111345.33388288552, 111345.33388288552, 111345.33388288552, 111345.33388288552, 112776.46009723283, 112776.46009723283, 112776.46009723283, 112776.46009723283, 112776.46009723283, 112776.46009723283, 112776.46009723283, 112776.46009723283, 112776.46009723283, 112776.46009723283, 112776.46009723283, 114207.58631158015, 114207.58631158015, 114207.58631158015, 114207.58631158015, 114207.58631158015, 114207.58631158015, 114207.58631158015, 114207.58631158015, 114207.58631158015, 114207.58631158015, 114207.58631158015, 115638.71252592746, 115638.71252592746, 115638.71252592746, 115638.71252592746, 115638.71252592746, 115638.71252592746, 115638.71252592746, 115638.71252592746, 115638.71252592746, 115638.71252592746, 115638.71252592746, 115638.71252592746, 115638.71252592746, 115638.71252592746, 115638.71252592746, 115638.71252592746, 115638.71252592746, 115638.71252592746, 115638.71252592746, 115638.71252592746, 115638.71252592746, 115638.71252592746, 115638.71252592746, 115638.71252592746, 117069.83874027478, 117069.83874027478, 117069.83874027478, 117069.83874027478, 117069.83874027478, 117069.83874027478, 117069.83874027478, 117069.83874027478, 117069.83874027478, 117069.83874027478, 117069.83874027478, 117069.83874027478, 117069.83874027478, 117069.83874027478, 117069.83874027478, 117069.83874027478, 118500.96495462162, 118500.96495462162, 118500.96495462162, 118500.96495462162, 118500.96495462162, 119932.09116896894, 119932.09116896894, 119932.09116896894, 119932.09116896894, 121363.21738331625, 121363.21738331625, 121363.21738331625, 121363.21738331625, 121363.21738331625, 121363.21738331625, 121363.21738331625, 122794.34359766357, 122794.34359766357, 122794.34359766357, 122794.34359766357, 122794.34359766357, 122794.34359766357, 122794.34359766357, 122794.34359766357, 122794.34359766357, 122794.34359766357, 122794.34359766357, 122794.34359766357, 122794.34359766357, 122794.34359766357, 122794.34359766357, 122794.34359766357, 122794.34359766357, 122794.34359766357, 122794.34359766357, 122794.34359766357, 122794.34359766357, 122794.34359766357, 122794.34359766357, 124225.46981201088, 124225.46981201088, 124225.46981201088, 124225.46981201088, 124225.46981201088, 125656.59602635773, 125656.59602635773, 125656.59602635773, 125656.59602635773, 128518.84845505236, 128518.84845505236, 128518.84845505236, 128518.84845505236, 129949.97466939967, 129949.97466939967, 129949.97466939967, 129949.97466939967, 129949.97466939967, 129949.97466939967, 129949.97466939967, 129949.97466939967, 129949.97466939967, 129949.97466939967, 131381.10088374699, 131381.10088374699, 131381.10088374699, 131381.10088374699, 131381.10088374699, 131381.10088374699, 132812.22709809383, 132812.22709809383, 132812.22709809383, 132812.22709809383, 132812.22709809383, 132812.22709809383, 132812.22709809383, 132812.22709809383, 134243.35331244115, 134243.35331244115, 134243.35331244115, 134243.35331244115, 134243.35331244115, 134243.35331244115, 134243.35331244115, 135674.47952678846, 135674.47952678846, 135674.47952678846, 135674.47952678846, 135674.47952678846, 135674.47952678846, 135674.47952678846, 135674.47952678846, 135674.47952678846, 135674.47952678846, 135674.47952678846, 135674.47952678846, 135674.47952678846, 135674.47952678846, 137105.60574113578, 137105.60574113578, 137105.60574113578, 137105.60574113578, 137105.60574113578, 137105.60574113578, 137105.60574113578, 137105.60574113578, 137105.60574113578, 137105.60574113578, 137105.60574113578, 137105.60574113578, 137105.60574113578, 137105.60574113578, 137105.60574113578, 137105.60574113578, 137105.60574113578, 137105.60574113578, 137105.60574113578, 137105.60574113578, 137105.60574113578, 137105.60574113578, 138536.7319554831, 138536.7319554831, 138536.7319554831, 138536.7319554831, 138536.7319554831, 138536.7319554831, 138536.7319554831, 138536.7319554831, 138536.7319554831, 138536.7319554831, 138536.7319554831, 138536.7319554831, 138536.7319554831, 138536.7319554831, 139967.85816982994, 139967.85816982994, 139967.85816982994, 139967.85816982994, 144261.23681287188, 144261.23681287188, 144261.23681287188, 144261.23681287188, 144261.23681287188, 144261.23681287188, 144261.23681287188, 144261.23681287188, 144261.23681287188, 144261.23681287188, 145692.3630272192, 145692.3630272192, 145692.3630272192, 145692.3630272192, 145692.3630272192, 145692.3630272192, 145692.3630272192, 145692.3630272192, 145692.3630272192, 145692.3630272192, 147123.48924156604, 147123.48924156604, 147123.48924156604, 147123.48924156604, 147123.48924156604, 147123.48924156604, 147123.48924156604, 148554.61545591336, 148554.61545591336, 148554.61545591336, 148554.61545591336, 148554.61545591336, 148554.61545591336, 148554.61545591336, 148554.61545591336, 148554.61545591336, 148554.61545591336, 148554.61545591336, 148554.61545591336, 148554.61545591336, 148554.61545591336, 148554.61545591336, 148554.61545591336, 148554.61545591336, 148554.61545591336, 149985.74167026067, 149985.74167026067, 149985.74167026067, 149985.74167026067, 149985.74167026067, 149985.74167026067, 149985.74167026067, 149985.74167026067, 149985.74167026067, 149985.74167026067, 149985.74167026067, 151416.867884608, 151416.867884608, 151416.867884608, 151416.867884608, 151416.867884608, 151416.867884608, 151416.867884608, 151416.867884608, 151416.867884608, 151416.867884608, 151416.867884608, 151416.867884608, 151416.867884608, 151416.867884608, 151416.867884608, 151416.867884608, 151416.867884608, 151416.867884608, 151416.867884608, 151416.867884608, 151416.867884608, 151416.867884608, 152847.9940989553, 152847.9940989553, 152847.9940989553, 152847.9940989553, 152847.9940989553, 152847.9940989553, 152847.9940989553, 152847.9940989553, 152847.9940989553, 152847.9940989553, 152847.9940989553, 152847.9940989553, 152847.9940989553, 152847.9940989553, 154279.12031330215, 154279.12031330215, 154279.12031330215, 154279.12031330215, 154279.12031330215, 154279.12031330215, 154279.12031330215, 154279.12031330215, 154279.12031330215, 154279.12031330215, 155710.24652764946, 155710.24652764946, 155710.24652764946, 155710.24652764946, 155710.24652764946, 155710.24652764946, 155710.24652764946, 155710.24652764946, 155710.24652764946, 155710.24652764946, 155710.24652764946, 155710.24652764946, 155710.24652764946, 155710.24652764946, 155710.24652764946, 155710.24652764946, 155710.24652764946, 155710.24652764946, 157141.37274199678, 157141.37274199678, 157141.37274199678, 157141.37274199678, 157141.37274199678, 157141.37274199678, 157141.37274199678, 157141.37274199678, 157141.37274199678, 157141.37274199678, 157141.37274199678, 157141.37274199678, 157141.37274199678, 157141.37274199678, 157141.37274199678, 157141.37274199678, 157141.37274199678, 157141.37274199678, 157141.37274199678, 157141.37274199678, 157141.37274199678, 157141.37274199678, 157141.37274199678, 157141.37274199678, 157141.37274199678, 157141.37274199678, 157141.37274199678, 157141.37274199678, 157141.37274199678, 157141.37274199678, 157141.37274199678, 158572.4989563441, 158572.4989563441, 158572.4989563441, 158572.4989563441, 158572.4989563441, 158572.4989563441, 158572.4989563441, 158572.4989563441, 158572.4989563441, 158572.4989563441, 158572.4989563441, 158572.4989563441, 158572.4989563441, 158572.4989563441, 158572.4989563441, 158572.4989563441, 158572.4989563441, 158572.4989563441, 158572.4989563441, 158572.4989563441, 158572.4989563441, 158572.4989563441, 158572.4989563441, 158572.4989563441, 158572.4989563441, 158572.4989563441, 160003.6251706914, 160003.6251706914, 160003.6251706914, 160003.6251706914, 160003.6251706914, 160003.6251706914, 160003.6251706914, 160003.6251706914, 160003.6251706914, 160003.6251706914, 160003.6251706914, 160003.6251706914, 160003.6251706914, 160003.6251706914, 160003.6251706914, 160003.6251706914, 160003.6251706914, 160003.6251706914, 160003.6251706914, 160003.6251706914, 160003.6251706914, 160003.6251706914, 160003.6251706914, 160003.6251706914, 161434.75138503825, 161434.75138503825, 161434.75138503825, 161434.75138503825, 161434.75138503825, 161434.75138503825, 161434.75138503825, 161434.75138503825, 161434.75138503825, 161434.75138503825, 161434.75138503825, 161434.75138503825, 161434.75138503825, 161434.75138503825, 161434.75138503825, 161434.75138503825, 161434.75138503825, 161434.75138503825, 161434.75138503825, 161434.75138503825, 161434.75138503825, 161434.75138503825, 161434.75138503825, 162865.87759938557, 162865.87759938557, 162865.87759938557, 162865.87759938557, 162865.87759938557, 162865.87759938557, 162865.87759938557, 162865.87759938557, 162865.87759938557, 162865.87759938557, 162865.87759938557, 162865.87759938557, 162865.87759938557, 162865.87759938557, 162865.87759938557, 162865.87759938557, 162865.87759938557, 162865.87759938557, 162865.87759938557, 162865.87759938557, 162865.87759938557, 162865.87759938557, 162865.87759938557, 162865.87759938557, 162865.87759938557, 162865.87759938557, 162865.87759938557, 162865.87759938557, 162865.87759938557, 162865.87759938557, 162865.87759938557, 162865.87759938557, 164297.00381373288, 164297.00381373288, 164297.00381373288, 164297.00381373288, 164297.00381373288, 164297.00381373288, 164297.00381373288, 164297.00381373288, 164297.00381373288, 164297.00381373288, 164297.00381373288, 164297.00381373288, 164297.00381373288, 164297.00381373288, 164297.00381373288, 164297.00381373288, 164297.00381373288, 164297.00381373288, 164297.00381373288, 164297.00381373288, 164297.00381373288, 164297.00381373288, 165728.1300280802, 165728.1300280802, 165728.1300280802, 165728.1300280802, 165728.1300280802, 165728.1300280802, 165728.1300280802, 165728.1300280802, 165728.1300280802, 165728.1300280802, 165728.1300280802, 165728.1300280802, 165728.1300280802, 165728.1300280802, 165728.1300280802, 165728.1300280802, 165728.1300280802, 165728.1300280802, 165728.1300280802, 165728.1300280802, 165728.1300280802, 165728.1300280802, 165728.1300280802, 165728.1300280802, 165728.1300280802, 167159.2562424275, 167159.2562424275, 167159.2562424275, 167159.2562424275, 167159.2562424275, 167159.2562424275, 167159.2562424275, 167159.2562424275, 167159.2562424275, 167159.2562424275, 167159.2562424275, 167159.2562424275, 167159.2562424275, 167159.2562424275, 167159.2562424275, 167159.2562424275, 167159.2562424275, 167159.2562424275, 167159.2562424275, 167159.2562424275, 167159.2562424275, 167159.2562424275, 167159.2562424275, 167159.2562424275, 167159.2562424275, 168590.38245677436, 168590.38245677436, 168590.38245677436, 168590.38245677436, 168590.38245677436, 168590.38245677436, 168590.38245677436, 168590.38245677436, 168590.38245677436, 168590.38245677436, 168590.38245677436, 168590.38245677436, 168590.38245677436, 168590.38245677436, 168590.38245677436, 168590.38245677436, 168590.38245677436, 168590.38245677436, 168590.38245677436, 168590.38245677436, 168590.38245677436, 168590.38245677436, 168590.38245677436, 168590.38245677436, 168590.38245677436, 168590.38245677436, 170021.50867112167, 170021.50867112167, 170021.50867112167, 170021.50867112167, 170021.50867112167, 170021.50867112167, 170021.50867112167, 170021.50867112167, 170021.50867112167, 170021.50867112167, 170021.50867112167, 170021.50867112167, 170021.50867112167, 170021.50867112167, 170021.50867112167, 170021.50867112167, 170021.50867112167, 170021.50867112167, 170021.50867112167, 170021.50867112167, 170021.50867112167, 170021.50867112167, 170021.50867112167, 170021.50867112167, 171452.634885469, 171452.634885469, 171452.634885469, 171452.634885469, 171452.634885469, 171452.634885469, 171452.634885469, 171452.634885469, 171452.634885469, 171452.634885469, 171452.634885469, 171452.634885469, 171452.634885469, 171452.634885469, 171452.634885469, 171452.634885469, 171452.634885469, 171452.634885469, 171452.634885469, 171452.634885469, 171452.634885469, 171452.634885469, 171452.634885469, 171452.634885469, 171452.634885469, 172883.7610998163, 172883.7610998163, 172883.7610998163, 172883.7610998163, 172883.7610998163, 172883.7610998163, 172883.7610998163, 172883.7610998163, 172883.7610998163, 172883.7610998163, 172883.7610998163, 172883.7610998163, 172883.7610998163, 172883.7610998163, 172883.7610998163, 172883.7610998163, 172883.7610998163, 172883.7610998163, 172883.7610998163, 172883.7610998163, 172883.7610998163, 172883.7610998163, 172883.7610998163, 172883.7610998163, 174314.88731416315, 174314.88731416315, 174314.88731416315, 174314.88731416315, 174314.88731416315, 174314.88731416315, 174314.88731416315, 174314.88731416315, 174314.88731416315, 174314.88731416315, 174314.88731416315, 174314.88731416315, 174314.88731416315, 174314.88731416315, 174314.88731416315, 174314.88731416315, 174314.88731416315, 174314.88731416315, 174314.88731416315, 174314.88731416315, 174314.88731416315, 174314.88731416315, 174314.88731416315, 174314.88731416315, 174314.88731416315, 174314.88731416315, 175746.01352851046, 175746.01352851046, 175746.01352851046, 175746.01352851046, 175746.01352851046, 175746.01352851046, 175746.01352851046, 175746.01352851046, 175746.01352851046, 175746.01352851046, 175746.01352851046, 175746.01352851046, 175746.01352851046, 175746.01352851046, 175746.01352851046, 175746.01352851046, 175746.01352851046, 175746.01352851046, 175746.01352851046, 175746.01352851046, 175746.01352851046, 175746.01352851046, 177177.13974285778, 177177.13974285778, 177177.13974285778, 177177.13974285778, 177177.13974285778, 177177.13974285778, 177177.13974285778, 177177.13974285778, 177177.13974285778, 177177.13974285778, 177177.13974285778, 177177.13974285778, 177177.13974285778, 177177.13974285778, 177177.13974285778, 177177.13974285778, 177177.13974285778, 177177.13974285778, 177177.13974285778, 177177.13974285778, 177177.13974285778, 177177.13974285778, 177177.13974285778, 177177.13974285778, 177177.13974285778, 177177.13974285778, 177177.13974285778, 177177.13974285778, 177177.13974285778, 177177.13974285778, 177177.13974285778, 178608.2659572051, 178608.2659572051, 178608.2659572051, 178608.2659572051, 178608.2659572051, 178608.2659572051, 178608.2659572051, 178608.2659572051, 178608.2659572051, 178608.2659572051, 178608.2659572051, 178608.2659572051, 178608.2659572051, 178608.2659572051, 178608.2659572051, 178608.2659572051, 178608.2659572051, 178608.2659572051, 178608.2659572051, 180039.3921715524, 180039.3921715524, 180039.3921715524, 180039.3921715524, 180039.3921715524, 180039.3921715524, 180039.3921715524, 180039.3921715524, 180039.3921715524, 180039.3921715524, 180039.3921715524, 180039.3921715524, 180039.3921715524, 180039.3921715524, 180039.3921715524, 180039.3921715524, 180039.3921715524, 180039.3921715524, 180039.3921715524, 180039.3921715524, 180039.3921715524, 180039.3921715524, 180039.3921715524, 180039.3921715524, 180039.3921715524, 180039.3921715524, 181470.51838589925, 181470.51838589925, 181470.51838589925, 181470.51838589925, 181470.51838589925, 181470.51838589925, 181470.51838589925, 181470.51838589925, 181470.51838589925, 181470.51838589925, 181470.51838589925, 181470.51838589925, 181470.51838589925, 181470.51838589925, 181470.51838589925, 181470.51838589925, 181470.51838589925, 181470.51838589925, 181470.51838589925, 181470.51838589925, 181470.51838589925, 181470.51838589925, 181470.51838589925, 181470.51838589925, 182901.64460024657, 182901.64460024657, 182901.64460024657, 182901.64460024657, 182901.64460024657, 182901.64460024657, 182901.64460024657, 182901.64460024657, 182901.64460024657, 182901.64460024657, 182901.64460024657, 182901.64460024657, 182901.64460024657, 182901.64460024657, 182901.64460024657, 182901.64460024657, 182901.64460024657, 182901.64460024657, 182901.64460024657, 182901.64460024657, 182901.64460024657, 182901.64460024657, 182901.64460024657, 182901.64460024657, 182901.64460024657, 184332.77081459388, 184332.77081459388, 184332.77081459388, 184332.77081459388, 184332.77081459388, 184332.77081459388, 184332.77081459388, 184332.77081459388, 184332.77081459388, 184332.77081459388, 184332.77081459388, 184332.77081459388, 184332.77081459388, 184332.77081459388, 184332.77081459388, 184332.77081459388, 185763.8970289412, 185763.8970289412, 185763.8970289412, 185763.8970289412, 185763.8970289412, 185763.8970289412, 185763.8970289412, 185763.8970289412, 185763.8970289412, 185763.8970289412, 185763.8970289412, 185763.8970289412, 185763.8970289412, 185763.8970289412, 187195.0232432885, 187195.0232432885, 187195.0232432885, 187195.0232432885, 187195.0232432885, 187195.0232432885, 187195.0232432885, 187195.0232432885, 187195.0232432885, 187195.0232432885, 187195.0232432885, 187195.0232432885, 187195.0232432885, 187195.0232432885, 187195.0232432885, 187195.0232432885, 187195.0232432885, 187195.0232432885, 187195.0232432885, 188626.14945763536, 188626.14945763536, 188626.14945763536, 188626.14945763536, 188626.14945763536, 188626.14945763536, 188626.14945763536, 188626.14945763536, 188626.14945763536, 188626.14945763536, 188626.14945763536, 188626.14945763536, 188626.14945763536, 188626.14945763536, 188626.14945763536, 188626.14945763536, 188626.14945763536, 188626.14945763536, 188626.14945763536, 188626.14945763536, 188626.14945763536, 188626.14945763536, 188626.14945763536, 188626.14945763536, 188626.14945763536, 188626.14945763536, 188626.14945763536, 188626.14945763536, 188626.14945763536, 188626.14945763536, 188626.14945763536, 188626.14945763536, 188626.14945763536, 188626.14945763536, 188626.14945763536, 188626.14945763536, 188626.14945763536, 188626.14945763536, 188626.14945763536, 190057.27567198267, 190057.27567198267, 190057.27567198267, 190057.27567198267, 190057.27567198267, 190057.27567198267, 190057.27567198267, 190057.27567198267, 190057.27567198267, 190057.27567198267, 190057.27567198267, 190057.27567198267, 190057.27567198267, 190057.27567198267, 190057.27567198267, 190057.27567198267, 190057.27567198267, 190057.27567198267, 190057.27567198267, 190057.27567198267, 190057.27567198267, 190057.27567198267, 190057.27567198267, 190057.27567198267, 190057.27567198267, 190057.27567198267, 190057.27567198267, 190057.27567198267, 190057.27567198267, 190057.27567198267, 190057.27567198267, 190057.27567198267, 190057.27567198267, 190057.27567198267, 190057.27567198267, 191488.40188633, 191488.40188633, 191488.40188633, 191488.40188633, 191488.40188633, 191488.40188633, 191488.40188633, 191488.40188633, 191488.40188633, 191488.40188633, 191488.40188633, 191488.40188633, 191488.40188633, 191488.40188633, 191488.40188633, 191488.40188633, 191488.40188633, 191488.40188633, 191488.40188633, 192919.5281006773, 192919.5281006773, 192919.5281006773, 192919.5281006773, 192919.5281006773, 192919.5281006773, 192919.5281006773, 192919.5281006773, 192919.5281006773, 194350.6543150246, 194350.6543150246, 194350.6543150246, 194350.6543150246, 194350.6543150246, 194350.6543150246, 194350.6543150246, 194350.6543150246, 194350.6543150246, 194350.6543150246, 194350.6543150246, 194350.6543150246, 194350.6543150246, 195781.78052937146, 195781.78052937146, 195781.78052937146, 195781.78052937146, 195781.78052937146, 195781.78052937146, 197212.90674371878, 197212.90674371878, 197212.90674371878, 197212.90674371878, 197212.90674371878, 198644.0329580661, 198644.0329580661, 198644.0329580661, 198644.0329580661, 198644.0329580661, 198644.0329580661, 200075.1591724134, 200075.1591724134, 200075.1591724134, 200075.1591724134, 200075.1591724134, 200075.1591724134, 200075.1591724134, 200075.1591724134, 200075.1591724134, 200075.1591724134, 200075.1591724134, 200075.1591724134, 200075.1591724134, 200075.1591724134, 201506.28538676072, 201506.28538676072, 201506.28538676072, 202937.41160110757, 202937.41160110757, 202937.41160110757, 202937.41160110757, 202937.41160110757, 202937.41160110757, 202937.41160110757, 202937.41160110757, 202937.41160110757, 204368.53781545488, 204368.53781545488, 204368.53781545488, 204368.53781545488, 205799.6640298022, 205799.6640298022, 205799.6640298022, 205799.6640298022, 205799.6640298022, 205799.6640298022, 205799.6640298022, 205799.6640298022, 205799.6640298022, 205799.6640298022, 205799.6640298022, 207230.7902441495, 207230.7902441495, 207230.7902441495, 207230.7902441495, 207230.7902441495, 208661.91645849682, 208661.91645849682, 208661.91645849682, 208661.91645849682, 208661.91645849682, 208661.91645849682, 208661.91645849682, 208661.91645849682, 208661.91645849682, 208661.91645849682, 208661.91645849682, 208661.91645849682, 210093.04267284367, 210093.04267284367, 210093.04267284367, 210093.04267284367, 210093.04267284367, 210093.04267284367, 210093.04267284367, 210093.04267284367, 210093.04267284367, 211524.168887191, 211524.168887191, 211524.168887191, 211524.168887191, 211524.168887191, 211524.168887191, 211524.168887191, 211524.168887191, 211524.168887191, 211524.168887191, 211524.168887191, 211524.168887191, 211524.168887191, 211524.168887191, 211524.168887191, 212955.2951015383, 212955.2951015383, 212955.2951015383, 212955.2951015383, 212955.2951015383, 212955.2951015383, 212955.2951015383, 212955.2951015383, 212955.2951015383, 212955.2951015383, 212955.2951015383, 212955.2951015383, 212955.2951015383, 212955.2951015383, 212955.2951015383, 212955.2951015383, 212955.2951015383, 212955.2951015383, 212955.2951015383, 212955.2951015383, 212955.2951015383, 212955.2951015383, 212955.2951015383, 212955.2951015383, 214386.42131588561, 214386.42131588561, 214386.42131588561, 214386.42131588561, 214386.42131588561, 214386.42131588561, 214386.42131588561, 214386.42131588561, 214386.42131588561, 214386.42131588561, 214386.42131588561, 214386.42131588561, 214386.42131588561, 214386.42131588561, 214386.42131588561, 214386.42131588561, 214386.42131588561, 214386.42131588561, 214386.42131588561, 214386.42131588561, 214386.42131588561, 214386.42131588561, 214386.42131588561, 214386.42131588561, 215817.54753023293, 215817.54753023293, 215817.54753023293, 215817.54753023293, 215817.54753023293, 215817.54753023293, 215817.54753023293, 215817.54753023293, 215817.54753023293, 215817.54753023293, 215817.54753023293, 215817.54753023293, 215817.54753023293, 215817.54753023293, 215817.54753023293, 215817.54753023293, 215817.54753023293, 215817.54753023293, 215817.54753023293, 215817.54753023293, 215817.54753023293, 215817.54753023293, 215817.54753023293, 215817.54753023293, 217248.67374457978, 217248.67374457978, 217248.67374457978, 217248.67374457978, 217248.67374457978, 217248.67374457978, 217248.67374457978, 217248.67374457978, 217248.67374457978, 217248.67374457978, 217248.67374457978, 217248.67374457978, 217248.67374457978, 217248.67374457978, 217248.67374457978, 217248.67374457978, 217248.67374457978, 217248.67374457978, 217248.67374457978, 217248.67374457978, 217248.67374457978, 217248.67374457978, 217248.67374457978, 217248.67374457978, 218679.7999589271, 218679.7999589271, 218679.7999589271, 218679.7999589271, 218679.7999589271, 218679.7999589271, 218679.7999589271, 218679.7999589271, 218679.7999589271, 218679.7999589271, 218679.7999589271, 218679.7999589271, 218679.7999589271, 218679.7999589271, 218679.7999589271, 218679.7999589271, 218679.7999589271, 218679.7999589271, 218679.7999589271, 218679.7999589271, 218679.7999589271, 218679.7999589271, 218679.7999589271, 218679.7999589271, 218679.7999589271, 218679.7999589271, 218679.7999589271, 218679.7999589271, 220110.9261732744, 220110.9261732744, 220110.9261732744, 220110.9261732744, 220110.9261732744, 220110.9261732744, 220110.9261732744, 220110.9261732744, 220110.9261732744, 220110.9261732744, 220110.9261732744, 220110.9261732744, 220110.9261732744, 220110.9261732744, 220110.9261732744, 220110.9261732744, 220110.9261732744, 220110.9261732744, 220110.9261732744, 220110.9261732744, 220110.9261732744, 220110.9261732744, 220110.9261732744, 220110.9261732744, 220110.9261732744, 220110.9261732744, 220110.9261732744, 220110.9261732744, 220110.9261732744, 221542.05238762172, 221542.05238762172, 221542.05238762172, 221542.05238762172, 221542.05238762172, 221542.05238762172, 221542.05238762172, 221542.05238762172, 221542.05238762172, 221542.05238762172, 221542.05238762172, 221542.05238762172, 221542.05238762172, 221542.05238762172, 221542.05238762172, 221542.05238762172, 221542.05238762172, 221542.05238762172, 221542.05238762172, 221542.05238762172, 221542.05238762172, 221542.05238762172, 221542.05238762172, 221542.05238762172, 221542.05238762172, 221542.05238762172, 221542.05238762172, 221542.05238762172, 221542.05238762172, 221542.05238762172, 221542.05238762172, 221542.05238762172, 222973.17860196903, 222973.17860196903, 222973.17860196903, 222973.17860196903, 222973.17860196903, 222973.17860196903, 222973.17860196903, 222973.17860196903, 222973.17860196903, 222973.17860196903, 222973.17860196903, 222973.17860196903, 222973.17860196903, 222973.17860196903, 222973.17860196903, 222973.17860196903, 222973.17860196903, 222973.17860196903, 222973.17860196903, 222973.17860196903, 222973.17860196903, 222973.17860196903, 222973.17860196903, 222973.17860196903, 222973.17860196903, 222973.17860196903, 222973.17860196903, 222973.17860196903, 222973.17860196903, 224404.30481631588, 224404.30481631588, 224404.30481631588, 224404.30481631588, 224404.30481631588, 224404.30481631588, 224404.30481631588, 224404.30481631588, 224404.30481631588, 224404.30481631588, 224404.30481631588, 224404.30481631588, 224404.30481631588, 224404.30481631588, 224404.30481631588, 224404.30481631588, 224404.30481631588, 224404.30481631588, 224404.30481631588, 224404.30481631588, 224404.30481631588, 225835.4310306632, 225835.4310306632, 225835.4310306632, 225835.4310306632, 225835.4310306632, 225835.4310306632, 225835.4310306632, 225835.4310306632, 225835.4310306632, 225835.4310306632, 225835.4310306632, 225835.4310306632, 225835.4310306632, 225835.4310306632, 225835.4310306632, 225835.4310306632, 225835.4310306632, 225835.4310306632, 225835.4310306632, 225835.4310306632, 225835.4310306632, 225835.4310306632, 225835.4310306632, 225835.4310306632, 225835.4310306632, 225835.4310306632, 225835.4310306632, 227266.5572450105, 227266.5572450105, 227266.5572450105, 227266.5572450105, 227266.5572450105, 227266.5572450105, 227266.5572450105, 227266.5572450105, 227266.5572450105, 227266.5572450105, 227266.5572450105, 227266.5572450105, 227266.5572450105, 227266.5572450105, 227266.5572450105, 227266.5572450105, 227266.5572450105, 227266.5572450105, 227266.5572450105, 227266.5572450105, 227266.5572450105, 227266.5572450105, 227266.5572450105, 227266.5572450105, 227266.5572450105, 227266.5572450105, 227266.5572450105, 227266.5572450105, 227266.5572450105, 227266.5572450105, 227266.5572450105, 227266.5572450105, 227266.5572450105, 227266.5572450105, 227266.5572450105, 227266.5572450105, 227266.5572450105, 227266.5572450105, 227266.5572450105, 227266.5572450105, 227266.5572450105, 227266.5572450105, 227266.5572450105, 227266.5572450105, 227266.5572450105, 227266.5572450105, 227266.5572450105, 227266.5572450105, 227266.5572450105, 227266.5572450105, 227266.5572450105, 227266.5572450105, 227266.5572450105, 228697.68345935782, 228697.68345935782, 228697.68345935782, 228697.68345935782, 228697.68345935782, 228697.68345935782, 228697.68345935782, 228697.68345935782, 228697.68345935782, 228697.68345935782, 228697.68345935782, 228697.68345935782, 228697.68345935782, 228697.68345935782, 228697.68345935782, 228697.68345935782, 228697.68345935782, 228697.68345935782, 228697.68345935782, 228697.68345935782, 228697.68345935782, 228697.68345935782, 228697.68345935782, 228697.68345935782, 228697.68345935782, 228697.68345935782, 228697.68345935782, 228697.68345935782, 228697.68345935782, 228697.68345935782, 228697.68345935782, 228697.68345935782, 228697.68345935782, 228697.68345935782, 228697.68345935782, 228697.68345935782, 228697.68345935782, 228697.68345935782, 228697.68345935782, 228697.68345935782, 228697.68345935782, 228697.68345935782, 228697.68345935782, 228697.68345935782, 228697.68345935782, 228697.68345935782, 228697.68345935782, 228697.68345935782, 228697.68345935782, 228697.68345935782, 228697.68345935782, 228697.68345935782, 228697.68345935782, 228697.68345935782, 228697.68345935782, 228697.68345935782, 228697.68345935782, 228697.68345935782, 228697.68345935782, 228697.68345935782, 228697.68345935782, 230128.80967370514, 230128.80967370514, 230128.80967370514, 230128.80967370514, 230128.80967370514, 230128.80967370514, 230128.80967370514, 230128.80967370514, 230128.80967370514, 230128.80967370514, 230128.80967370514, 230128.80967370514, 230128.80967370514, 230128.80967370514, 230128.80967370514, 230128.80967370514, 230128.80967370514, 230128.80967370514, 230128.80967370514, 230128.80967370514, 230128.80967370514, 230128.80967370514, 230128.80967370514, 230128.80967370514, 230128.80967370514, 230128.80967370514, 230128.80967370514, 230128.80967370514, 230128.80967370514, 230128.80967370514, 230128.80967370514, 230128.80967370514, 230128.80967370514, 230128.80967370514, 230128.80967370514, 230128.80967370514, 230128.80967370514, 230128.80967370514, 230128.80967370514, 230128.80967370514, 230128.80967370514, 230128.80967370514, 230128.80967370514, 230128.80967370514, 230128.80967370514, 230128.80967370514, 230128.80967370514, 230128.80967370514, 230128.80967370514, 230128.80967370514, 230128.80967370514, 230128.80967370514, 230128.80967370514, 230128.80967370514, 230128.80967370514, 230128.80967370514, 230128.80967370514, 230128.80967370514, 230128.80967370514, 230128.80967370514, 230128.80967370514, 230128.80967370514, 230128.80967370514, 230128.80967370514, 230128.80967370514, 230128.80967370514, 230128.80967370514, 230128.80967370514, 230128.80967370514, 230128.80967370514, 230128.80967370514, 230128.80967370514, 230128.80967370514, 230128.80967370514, 230128.80967370514, 230128.80967370514, 230128.80967370514, 230128.80967370514, 230128.80967370514, 230128.80967370514, 230128.80967370514, 230128.80967370514, 230128.80967370514, 230128.80967370514, 230128.80967370514, 230128.80967370514, 230128.80967370514, 230128.80967370514, 230128.80967370514, 230128.80967370514, 230128.80967370514, 230128.80967370514, 230128.80967370514, 230128.80967370514, 230128.80967370514, 230128.80967370514, 230128.80967370514, 230128.80967370514, 230128.80967370514, 230128.80967370514, 230128.80967370514, 230128.80967370514, 230128.80967370514, 230128.80967370514, 230128.80967370514, 230128.80967370514, 230128.80967370514, 230128.80967370514, 230128.80967370514, 230128.80967370514, 230128.80967370514, 230128.80967370514, 230128.80967370514, 231559.935888052, 231559.935888052, 231559.935888052, 231559.935888052, 231559.935888052, 231559.935888052, 231559.935888052, 231559.935888052, 231559.935888052, 231559.935888052, 231559.935888052, 231559.935888052, 231559.935888052, 231559.935888052, 231559.935888052, 231559.935888052, 231559.935888052, 231559.935888052, 231559.935888052, 231559.935888052, 231559.935888052, 231559.935888052, 231559.935888052, 231559.935888052, 231559.935888052, 231559.935888052, 231559.935888052, 231559.935888052, 231559.935888052, 231559.935888052, 231559.935888052, 231559.935888052, 231559.935888052, 231559.935888052, 231559.935888052, 231559.935888052, 231559.935888052, 231559.935888052, 231559.935888052, 231559.935888052, 231559.935888052, 231559.935888052, 231559.935888052, 231559.935888052, 231559.935888052, 231559.935888052, 231559.935888052, 231559.935888052, 231559.935888052, 231559.935888052, 231559.935888052, 231559.935888052, 231559.935888052, 231559.935888052, 231559.935888052, 231559.935888052, 231559.935888052, 231559.935888052, 231559.935888052, 231559.935888052, 231559.935888052, 231559.935888052, 231559.935888052, 231559.935888052, 231559.935888052, 231559.935888052, 231559.935888052, 231559.935888052, 231559.935888052, 231559.935888052, 231559.935888052, 231559.935888052, 231559.935888052, 231559.935888052, 231559.935888052, 231559.935888052, 231559.935888052, 231559.935888052, 231559.935888052, 231559.935888052, 231559.935888052, 231559.935888052, 231559.935888052, 231559.935888052, 231559.935888052, 231559.935888052, 231559.935888052, 231559.935888052, 231559.935888052, 231559.935888052, 231559.935888052, 231559.935888052, 231559.935888052, 231559.935888052, 231559.935888052, 231559.935888052, 231559.935888052, 231559.935888052, 231559.935888052, 231559.935888052, 231559.935888052, 231559.935888052, 231559.935888052, 231559.935888052, 231559.935888052, 231559.935888052, 231559.935888052, 231559.935888052, 231559.935888052, 231559.935888052, 231559.935888052, 231559.935888052, 232991.0621023993, 232991.0621023993, 232991.0621023993, 232991.0621023993, 232991.0621023993, 232991.0621023993, 232991.0621023993, 232991.0621023993, 232991.0621023993, 232991.0621023993, 232991.0621023993, 232991.0621023993, 232991.0621023993, 232991.0621023993, 232991.0621023993, 232991.0621023993, 232991.0621023993, 232991.0621023993, 232991.0621023993, 232991.0621023993, 232991.0621023993, 232991.0621023993, 232991.0621023993, 232991.0621023993, 232991.0621023993, 232991.0621023993, 232991.0621023993, 232991.0621023993, 232991.0621023993, 232991.0621023993, 232991.0621023993, 232991.0621023993, 232991.0621023993, 232991.0621023993, 232991.0621023993, 232991.0621023993, 232991.0621023993, 232991.0621023993, 232991.0621023993, 232991.0621023993, 232991.0621023993, 232991.0621023993, 232991.0621023993, 232991.0621023993, 232991.0621023993, 232991.0621023993, 232991.0621023993, 232991.0621023993, 232991.0621023993, 232991.0621023993, 232991.0621023993, 232991.0621023993, 232991.0621023993, 232991.0621023993, 232991.0621023993, 232991.0621023993, 232991.0621023993, 232991.0621023993, 232991.0621023993, 232991.0621023993, 232991.0621023993, 232991.0621023993, 232991.0621023993, 232991.0621023993, 232991.0621023993, 232991.0621023993, 232991.0621023993, 232991.0621023993, 232991.0621023993, 232991.0621023993, 232991.0621023993, 232991.0621023993, 232991.0621023993, 232991.0621023993, 232991.0621023993, 232991.0621023993, 232991.0621023993, 232991.0621023993, 234422.18831674661, 234422.18831674661, 234422.18831674661, 234422.18831674661, 234422.18831674661, 234422.18831674661, 234422.18831674661, 234422.18831674661, 234422.18831674661, 234422.18831674661, 234422.18831674661, 234422.18831674661, 234422.18831674661], \"yaxis\": \"y\"}],\n",
              "                        {\"height\": 600, \"legend\": {\"tracegroupgap\": 0}, \"template\": {\"data\": {\"bar\": [{\"error_x\": {\"color\": \"#2a3f5f\"}, \"error_y\": {\"color\": \"#2a3f5f\"}, \"marker\": {\"line\": {\"color\": \"#E5ECF6\", \"width\": 0.5}}, \"type\": \"bar\"}], \"barpolar\": [{\"marker\": {\"line\": {\"color\": \"#E5ECF6\", \"width\": 0.5}}, \"type\": \"barpolar\"}], \"carpet\": [{\"aaxis\": {\"endlinecolor\": \"#2a3f5f\", \"gridcolor\": \"white\", \"linecolor\": \"white\", \"minorgridcolor\": \"white\", \"startlinecolor\": \"#2a3f5f\"}, \"baxis\": {\"endlinecolor\": \"#2a3f5f\", \"gridcolor\": \"white\", \"linecolor\": \"white\", \"minorgridcolor\": \"white\", \"startlinecolor\": \"#2a3f5f\"}, \"type\": \"carpet\"}], \"choropleth\": [{\"colorbar\": {\"outlinewidth\": 0, \"ticks\": \"\"}, \"type\": \"choropleth\"}], \"contour\": [{\"colorbar\": {\"outlinewidth\": 0, \"ticks\": \"\"}, \"colorscale\": [[0.0, \"#0d0887\"], [0.1111111111111111, \"#46039f\"], [0.2222222222222222, \"#7201a8\"], [0.3333333333333333, \"#9c179e\"], [0.4444444444444444, \"#bd3786\"], [0.5555555555555556, \"#d8576b\"], [0.6666666666666666, \"#ed7953\"], [0.7777777777777778, \"#fb9f3a\"], [0.8888888888888888, \"#fdca26\"], [1.0, \"#f0f921\"]], \"type\": \"contour\"}], \"contourcarpet\": [{\"colorbar\": {\"outlinewidth\": 0, \"ticks\": \"\"}, \"type\": \"contourcarpet\"}], \"heatmap\": [{\"colorbar\": {\"outlinewidth\": 0, \"ticks\": \"\"}, \"colorscale\": [[0.0, \"#0d0887\"], [0.1111111111111111, \"#46039f\"], [0.2222222222222222, \"#7201a8\"], [0.3333333333333333, \"#9c179e\"], [0.4444444444444444, \"#bd3786\"], [0.5555555555555556, \"#d8576b\"], [0.6666666666666666, \"#ed7953\"], [0.7777777777777778, \"#fb9f3a\"], [0.8888888888888888, \"#fdca26\"], [1.0, \"#f0f921\"]], \"type\": \"heatmap\"}], \"heatmapgl\": [{\"colorbar\": {\"outlinewidth\": 0, \"ticks\": \"\"}, \"colorscale\": [[0.0, \"#0d0887\"], [0.1111111111111111, \"#46039f\"], [0.2222222222222222, \"#7201a8\"], [0.3333333333333333, \"#9c179e\"], [0.4444444444444444, \"#bd3786\"], [0.5555555555555556, \"#d8576b\"], [0.6666666666666666, \"#ed7953\"], [0.7777777777777778, \"#fb9f3a\"], [0.8888888888888888, \"#fdca26\"], [1.0, \"#f0f921\"]], \"type\": \"heatmapgl\"}], \"histogram\": [{\"marker\": {\"colorbar\": {\"outlinewidth\": 0, \"ticks\": \"\"}}, \"type\": \"histogram\"}], \"histogram2d\": [{\"colorbar\": {\"outlinewidth\": 0, \"ticks\": \"\"}, \"colorscale\": [[0.0, \"#0d0887\"], [0.1111111111111111, \"#46039f\"], [0.2222222222222222, \"#7201a8\"], [0.3333333333333333, \"#9c179e\"], [0.4444444444444444, \"#bd3786\"], [0.5555555555555556, \"#d8576b\"], [0.6666666666666666, \"#ed7953\"], [0.7777777777777778, \"#fb9f3a\"], [0.8888888888888888, \"#fdca26\"], [1.0, \"#f0f921\"]], \"type\": \"histogram2d\"}], \"histogram2dcontour\": [{\"colorbar\": {\"outlinewidth\": 0, \"ticks\": \"\"}, \"colorscale\": [[0.0, \"#0d0887\"], [0.1111111111111111, \"#46039f\"], [0.2222222222222222, \"#7201a8\"], [0.3333333333333333, \"#9c179e\"], [0.4444444444444444, \"#bd3786\"], [0.5555555555555556, \"#d8576b\"], [0.6666666666666666, \"#ed7953\"], [0.7777777777777778, \"#fb9f3a\"], [0.8888888888888888, \"#fdca26\"], [1.0, \"#f0f921\"]], \"type\": \"histogram2dcontour\"}], \"mesh3d\": [{\"colorbar\": {\"outlinewidth\": 0, \"ticks\": \"\"}, \"type\": \"mesh3d\"}], \"parcoords\": [{\"line\": {\"colorbar\": {\"outlinewidth\": 0, \"ticks\": \"\"}}, \"type\": \"parcoords\"}], \"scatter\": [{\"marker\": {\"colorbar\": {\"outlinewidth\": 0, \"ticks\": \"\"}}, \"type\": \"scatter\"}], \"scatter3d\": [{\"line\": {\"colorbar\": {\"outlinewidth\": 0, \"ticks\": \"\"}}, \"marker\": {\"colorbar\": {\"outlinewidth\": 0, \"ticks\": \"\"}}, \"type\": \"scatter3d\"}], \"scattercarpet\": [{\"marker\": {\"colorbar\": {\"outlinewidth\": 0, \"ticks\": \"\"}}, \"type\": \"scattercarpet\"}], \"scattergeo\": [{\"marker\": {\"colorbar\": {\"outlinewidth\": 0, \"ticks\": \"\"}}, \"type\": \"scattergeo\"}], \"scattergl\": [{\"marker\": {\"colorbar\": {\"outlinewidth\": 0, \"ticks\": \"\"}}, \"type\": \"scattergl\"}], \"scattermapbox\": [{\"marker\": {\"colorbar\": {\"outlinewidth\": 0, \"ticks\": \"\"}}, \"type\": \"scattermapbox\"}], \"scatterpolar\": [{\"marker\": {\"colorbar\": {\"outlinewidth\": 0, \"ticks\": \"\"}}, \"type\": \"scatterpolar\"}], \"scatterpolargl\": [{\"marker\": {\"colorbar\": {\"outlinewidth\": 0, \"ticks\": \"\"}}, \"type\": \"scatterpolargl\"}], \"scatterternary\": [{\"marker\": {\"colorbar\": {\"outlinewidth\": 0, \"ticks\": \"\"}}, \"type\": \"scatterternary\"}], \"surface\": [{\"colorbar\": {\"outlinewidth\": 0, \"ticks\": \"\"}, \"colorscale\": [[0.0, \"#0d0887\"], [0.1111111111111111, \"#46039f\"], [0.2222222222222222, \"#7201a8\"], [0.3333333333333333, \"#9c179e\"], [0.4444444444444444, \"#bd3786\"], [0.5555555555555556, \"#d8576b\"], [0.6666666666666666, \"#ed7953\"], [0.7777777777777778, \"#fb9f3a\"], [0.8888888888888888, \"#fdca26\"], [1.0, \"#f0f921\"]], \"type\": \"surface\"}], \"table\": [{\"cells\": {\"fill\": {\"color\": \"#EBF0F8\"}, \"line\": {\"color\": \"white\"}}, \"header\": {\"fill\": {\"color\": \"#C8D4E3\"}, \"line\": {\"color\": \"white\"}}, \"type\": \"table\"}]}, \"layout\": {\"annotationdefaults\": {\"arrowcolor\": \"#2a3f5f\", \"arrowhead\": 0, \"arrowwidth\": 1}, \"colorscale\": {\"diverging\": [[0, \"#8e0152\"], [0.1, \"#c51b7d\"], [0.2, \"#de77ae\"], [0.3, \"#f1b6da\"], [0.4, \"#fde0ef\"], [0.5, \"#f7f7f7\"], [0.6, \"#e6f5d0\"], [0.7, \"#b8e186\"], [0.8, \"#7fbc41\"], [0.9, \"#4d9221\"], [1, \"#276419\"]], \"sequential\": [[0.0, \"#0d0887\"], [0.1111111111111111, \"#46039f\"], [0.2222222222222222, \"#7201a8\"], [0.3333333333333333, \"#9c179e\"], [0.4444444444444444, \"#bd3786\"], [0.5555555555555556, \"#d8576b\"], [0.6666666666666666, \"#ed7953\"], [0.7777777777777778, \"#fb9f3a\"], [0.8888888888888888, \"#fdca26\"], [1.0, \"#f0f921\"]], \"sequentialminus\": [[0.0, \"#0d0887\"], [0.1111111111111111, \"#46039f\"], [0.2222222222222222, \"#7201a8\"], [0.3333333333333333, \"#9c179e\"], [0.4444444444444444, \"#bd3786\"], [0.5555555555555556, \"#d8576b\"], [0.6666666666666666, \"#ed7953\"], [0.7777777777777778, \"#fb9f3a\"], [0.8888888888888888, \"#fdca26\"], [1.0, \"#f0f921\"]]}, \"colorway\": [\"#636efa\", \"#EF553B\", \"#00cc96\", \"#ab63fa\", \"#FFA15A\", \"#19d3f3\", \"#FF6692\", \"#B6E880\", \"#FF97FF\", \"#FECB52\"], \"font\": {\"color\": \"#2a3f5f\"}, \"geo\": {\"bgcolor\": \"white\", \"lakecolor\": \"white\", \"landcolor\": \"#E5ECF6\", \"showlakes\": true, \"showland\": true, \"subunitcolor\": \"white\"}, \"hoverlabel\": {\"align\": \"left\"}, \"hovermode\": \"closest\", \"mapbox\": {\"style\": \"light\"}, \"paper_bgcolor\": \"white\", \"plot_bgcolor\": \"#E5ECF6\", \"polar\": {\"angularaxis\": {\"gridcolor\": \"white\", \"linecolor\": \"white\", \"ticks\": \"\"}, \"bgcolor\": \"#E5ECF6\", \"radialaxis\": {\"gridcolor\": \"white\", \"linecolor\": \"white\", \"ticks\": \"\"}}, \"scene\": {\"xaxis\": {\"backgroundcolor\": \"#E5ECF6\", \"gridcolor\": \"white\", \"gridwidth\": 2, \"linecolor\": \"white\", \"showbackground\": true, \"ticks\": \"\", \"zerolinecolor\": \"white\"}, \"yaxis\": {\"backgroundcolor\": \"#E5ECF6\", \"gridcolor\": \"white\", \"gridwidth\": 2, \"linecolor\": \"white\", \"showbackground\": true, \"ticks\": \"\", \"zerolinecolor\": \"white\"}, \"zaxis\": {\"backgroundcolor\": \"#E5ECF6\", \"gridcolor\": \"white\", \"gridwidth\": 2, \"linecolor\": \"white\", \"showbackground\": true, \"ticks\": \"\", \"zerolinecolor\": \"white\"}}, \"shapedefaults\": {\"line\": {\"color\": \"#2a3f5f\"}}, \"ternary\": {\"aaxis\": {\"gridcolor\": \"white\", \"linecolor\": \"white\", \"ticks\": \"\"}, \"baxis\": {\"gridcolor\": \"white\", \"linecolor\": \"white\", \"ticks\": \"\"}, \"bgcolor\": \"#E5ECF6\", \"caxis\": {\"gridcolor\": \"white\", \"linecolor\": \"white\", \"ticks\": \"\"}}, \"title\": {\"x\": 0.05}, \"xaxis\": {\"automargin\": true, \"gridcolor\": \"white\", \"linecolor\": \"white\", \"ticks\": \"\", \"zerolinecolor\": \"white\", \"zerolinewidth\": 2}, \"yaxis\": {\"automargin\": true, \"gridcolor\": \"white\", \"linecolor\": \"white\", \"ticks\": \"\", \"zerolinecolor\": \"white\", \"zerolinewidth\": 2}}}, \"title\": {\"text\": \"Sale Price\\nby Year Built\"}, \"xaxis\": {\"anchor\": \"y\", \"domain\": [0.0, 0.98], \"title\": {\"text\": \"Year_Built\"}}, \"yaxis\": {\"anchor\": \"x\", \"domain\": [0.0, 1.0], \"title\": {\"text\": \"SalePrice\"}}},\n",
              "                        {\"responsive\": true}\n",
              "                    ).then(function(){\n",
              "                            \n",
              "var gd = document.getElementById('c2d7e922-47c1-49de-ba0e-397dc82d805a');\n",
              "var x = new MutationObserver(function (mutations, observer) {{\n",
              "        var display = window.getComputedStyle(gd).display;\n",
              "        if (!display || display === 'none') {{\n",
              "            console.log([gd, 'removed!']);\n",
              "            Plotly.purge(gd);\n",
              "            observer.disconnect();\n",
              "        }}\n",
              "}});\n",
              "\n",
              "// Listen for the removal of the full notebook cells\n",
              "var notebookContainer = gd.closest('#notebook-container');\n",
              "if (notebookContainer) {{\n",
              "    x.observe(notebookContainer, {childList: true});\n",
              "}}\n",
              "\n",
              "// Listen for the clearing of the current output cell\n",
              "var outputEl = gd.closest('.output');\n",
              "if (outputEl) {{\n",
              "    x.observe(outputEl, {childList: true});\n",
              "}}\n",
              "\n",
              "                        })\n",
              "                };\n",
              "                \n",
              "            </script>\n",
              "        </div>\n",
              "</body>\n",
              "</html>"
            ]
          },
          "metadata": {
            "tags": []
          }
        }
      ]
    },
    {
      "cell_type": "code",
      "metadata": {
        "id": "E_m1HaVxRxau",
        "colab_type": "code",
        "colab": {
          "base_uri": "https://localhost:8080/",
          "height": 646
        },
        "outputId": "7853328e-0aec-4987-eb2c-136c25f176fa"
      },
      "source": [
        "plt.figure(figsize=[20,10])\n",
        "sns.barplot(x='Full_Bath', y=target, data=train)\n",
        "plt.title('Sale Price\\nby Number of Full Bathrooms');"
      ],
      "execution_count": 122,
      "outputs": [
        {
          "output_type": "display_data",
          "data": {
            "image/png": "[encoded data removed]",
            "text/plain": [
              "<Figure size 1440x720 with 1 Axes>"
            ]
          },
          "metadata": {
            "tags": []
          }
        }
      ]
    },
    {
      "cell_type": "code",
      "metadata": {
        "id": "fbUTzPf5RyAe",
        "colab_type": "code",
        "colab": {
          "base_uri": "https://localhost:8080/",
          "height": 646
        },
        "outputId": "2365578a-eb27-4668-a989-81ee0feef153"
      },
      "source": [
        "plt.figure(figsize=[20,10])\n",
        "sns.scatterplot(x='Overall_Cond', y=target, data=train)\n",
        "plt.title('Sale Price\\nby Overall Condition');"
      ],
      "execution_count": 121,
      "outputs": [
        {
          "output_type": "display_data",
          "data": {
            "image/png": "[encoded data removed]",
            "text/plain": [
              "<Figure size 1440x720 with 1 Axes>"
            ]
          },
          "metadata": {
            "tags": []
          }
        }
      ]
    },
    {
      "cell_type": "code",
      "metadata": {
        "id": "clIn5U-rRyjs",
        "colab_type": "code",
        "colab": {
          "base_uri": "https://localhost:8080/",
          "height": 638
        },
        "outputId": "d88f490c-9e95-4922-c22c-01358dde75ad"
      },
      "source": [
        "# Appears to be positive relationship\n",
        "plt.figure(figsize=[20,10])\n",
        "sns.scatterplot(x='Overall_Qual', y=target, data=train)\n",
        "plt.title('Sale Price\\nby Overall Quality');"
      ],
      "execution_count": 53,
      "outputs": [
        {
          "output_type": "display_data",
          "data": {
            "image/png": "[encoded data removed]",
            "text/plain": [
              "<Figure size 1440x720 with 1 Axes>"
            ]
          },
          "metadata": {
            "tags": []
          }
        }
      ]
    },
    {
      "cell_type": "markdown",
      "metadata": {
        "id": "PdkjBN1Dy_-A",
        "colab_type": "text"
      },
      "source": [
        "# Data Dictionary \n",
        "\n",
        "Here's a description of the data fields:\n",
        "\n",
        "```\n",
        "1st_Flr_SF: First Floor square feet\n",
        "\n",
        "Bedroom_AbvGr: Bedrooms above grade (does NOT include basement bedrooms)\n",
        "\n",
        "Bldg_Type: Type of dwelling\n",
        "\t\t\n",
        "       1Fam\tSingle-family Detached\t\n",
        "       2FmCon\tTwo-family Conversion; originally built as one-family dwelling\n",
        "       Duplx\tDuplex\n",
        "       TwnhsE\tTownhouse End Unit\n",
        "       TwnhsI\tTownhouse Inside Unit\n",
        "       \n",
        "Bsmt_Half_Bath: Basement half bathrooms\n",
        "\n",
        "Bsmt_Full_Bath: Basement full bathrooms\n",
        "\n",
        "Central_Air: Central air conditioning\n",
        "\n",
        "       N\tNo\n",
        "       Y\tYes\n",
        "\t\t\n",
        "Condition_1: Proximity to various conditions\n",
        "\t\n",
        "       Artery\tAdjacent to arterial street\n",
        "       Feedr\tAdjacent to feeder street\t\n",
        "       Norm\tNormal\t\n",
        "       RRNn\tWithin 200' of North-South Railroad\n",
        "       RRAn\tAdjacent to North-South Railroad\n",
        "       PosN\tNear positive off-site feature--park, greenbelt, etc.\n",
        "       PosA\tAdjacent to postive off-site feature\n",
        "       RRNe\tWithin 200' of East-West Railroad\n",
        "       RRAe\tAdjacent to East-West Railroad\n",
        "\t\n",
        "Condition_2: Proximity to various conditions (if more than one is present)\n",
        "\t\t\n",
        "       Artery\tAdjacent to arterial street\n",
        "       Feedr\tAdjacent to feeder street\t\n",
        "       Norm\tNormal\t\n",
        "       RRNn\tWithin 200' of North-South Railroad\n",
        "       RRAn\tAdjacent to North-South Railroad\n",
        "       PosN\tNear positive off-site feature--park, greenbelt, etc.\n",
        "       PosA\tAdjacent to postive off-site feature\n",
        "       RRNe\tWithin 200' of East-West Railroad\n",
        "       RRAe\tAdjacent to East-West Railroad\n",
        "       \n",
        " Electrical: Electrical system\n",
        "\n",
        "       SBrkr\tStandard Circuit Breakers & Romex\n",
        "       FuseA\tFuse Box over 60 AMP and all Romex wiring (Average)\t\n",
        "       FuseF\t60 AMP Fuse Box and mostly Romex wiring (Fair)\n",
        "       FuseP\t60 AMP Fuse Box and mostly knob & tube wiring (poor)\n",
        "       Mix\tMixed\n",
        "       \n",
        " Exter_Cond: Evaluates the present condition of the material on the exterior\n",
        "\t\t\n",
        "       Ex\tExcellent\n",
        "       Gd\tGood\n",
        "       TA\tAverage/Typical\n",
        "       Fa\tFair\n",
        "       Po\tPoor\n",
        " \n",
        " Exter_Qual: Evaluates the quality of the material on the exterior \n",
        "\t\t\n",
        "       Ex\tExcellent\n",
        "       Gd\tGood\n",
        "       TA\tAverage/Typical\n",
        "       Fa\tFair\n",
        "       Po\tPoor\n",
        "\t\t\n",
        "Exterior_1st: Exterior covering on house\n",
        "\n",
        "       AsbShng\tAsbestos Shingles\n",
        "       AsphShn\tAsphalt Shingles\n",
        "       BrkComm\tBrick Common\n",
        "       BrkFace\tBrick Face\n",
        "       CBlock\tCinder Block\n",
        "       CemntBd\tCement Board\n",
        "       HdBoard\tHard Board\n",
        "       ImStucc\tImitation Stucco\n",
        "       MetalSd\tMetal Siding\n",
        "       Other\tOther\n",
        "       Plywood\tPlywood\n",
        "       PreCast\tPreCast\t\n",
        "       Stone\tStone\n",
        "       Stucco\tStucco\n",
        "       VinylSd\tVinyl Siding\n",
        "       Wd Sdng\tWood Siding\n",
        "       WdShing\tWood Shingles\n",
        "\t\n",
        "Exterior_2nd: Exterior covering on house (if more than one material)\n",
        "\n",
        "       AsbShng\tAsbestos Shingles\n",
        "       AsphShn\tAsphalt Shingles\n",
        "       BrkComm\tBrick Common\n",
        "       BrkFace\tBrick Face\n",
        "       CBlock\tCinder Block\n",
        "       CemntBd\tCement Board\n",
        "       HdBoard\tHard Board\n",
        "       ImStucc\tImitation Stucco\n",
        "       MetalSd\tMetal Siding\n",
        "       Other\tOther\n",
        "       Plywood\tPlywood\n",
        "       PreCast\tPreCast\n",
        "       Stone\tStone\n",
        "       Stucco\tStucco\n",
        "       VinylSd\tVinyl Siding\n",
        "       Wd Sdng\tWood Siding\n",
        "       WdShing\tWood Shingles\n",
        "       \n",
        "Foundation: Type of foundation\n",
        "\t\t\n",
        "       BrkTil\tBrick & Tile\n",
        "       CBlock\tCinder Block\n",
        "       PConc\tPoured Contrete\t\n",
        "       Slab\tSlab\n",
        "       Stone\tStone\n",
        "       Wood\tWood\n",
        "\t\t\n",
        "Full_Bath: Full bathrooms above grade\n",
        "\n",
        "Functional: Home functionality (Assume typical unless deductions are warranted)\n",
        "\n",
        "       Typ\tTypical Functionality\n",
        "       Min1\tMinor Deductions 1\n",
        "       Min2\tMinor Deductions 2\n",
        "       Mod\tModerate Deductions\n",
        "       Maj1\tMajor Deductions 1\n",
        "       Maj2\tMajor Deductions 2\n",
        "       Sev\tSeverely Damaged\n",
        "       Sal\tSalvage only\n",
        "\t\t\n",
        "Gr_Liv_Area: Above grade (ground) living area square feet\n",
        "        \n",
        "Half_Bath: Half baths above grade\n",
        "\n",
        "Heating: Type of heating\n",
        "\t\t\n",
        "       Floor\tFloor Furnace\n",
        "       GasA\tGas forced warm air furnace\n",
        "       GasW\tGas hot water or steam heat\n",
        "       Grav\tGravity furnace\t\n",
        "       OthW\tHot water or steam heat other than gas\n",
        "       Wall\tWall furnace\n",
        "\t\t\n",
        "Heating_QC: Heating quality and condition\n",
        "\n",
        "       Ex\tExcellent\n",
        "       Gd\tGood\n",
        "       TA\tAverage/Typical\n",
        "       Fa\tFair\n",
        "       Po\tPoor\n",
        "\n",
        "House_Style: Style of dwelling\n",
        "\t\n",
        "       1Story\tOne story\n",
        "       1.5Fin\tOne and one-half story: 2nd level finished\n",
        "       1.5Unf\tOne and one-half story: 2nd level unfinished\n",
        "       2Story\tTwo story\n",
        "       2.5Fin\tTwo and one-half story: 2nd level finished\n",
        "       2.5Unf\tTwo and one-half story: 2nd level unfinished\n",
        "       SFoyer\tSplit Foyer\n",
        "       SLvl\tSplit Level\n",
        "\n",
        "Kitchen_AbvGr: Kitchens above grade\n",
        "\n",
        "Kitchen_Qual: Kitchen quality\n",
        "\n",
        "       Ex\tExcellent\n",
        "       Gd\tGood\n",
        "       TA\tTypical/Average\n",
        "       Fa\tFair\n",
        "       Po\tPoor\n",
        "\n",
        "LandContour: Flatness of the property\n",
        "\n",
        "       Lvl\tNear Flat/Level\t\n",
        "       Bnk\tBanked - Quick and significant rise from street grade to building\n",
        "       HLS\tHillside - Significant slope from side to side\n",
        "       Low\tDepression\n",
        "\t\t\n",
        "Land_Slope: Slope of property\n",
        "\t\t\n",
        "       Gtl\tGentle slope\n",
        "       Mod\tModerate Slope\t\n",
        "       Sev\tSevere Slope\n",
        "\n",
        "Lot_Area: Lot size in square feet\n",
        "\n",
        "Lot_Config: Lot configuration\n",
        "\n",
        "       Inside\tInside lot\n",
        "       Corner\tCorner lot\n",
        "       CulDSac\tCul-de-sac\n",
        "       FR2\tFrontage on 2 sides of property\n",
        "       FR3\tFrontage on 3 sides of property\n",
        "\n",
        "Lot_Shape: General shape of property\n",
        "\n",
        "       Reg\tRegular\t\n",
        "       IR1\tSlightly irregular\n",
        "       IR2\tModerately Irregular\n",
        "       IR3\tIrregular\n",
        "\n",
        "MS_SubClass: Identifies the type of dwelling involved in the sale.\t\n",
        "\n",
        "        20\t1-STORY 1946 & NEWER ALL STYLES\n",
        "        30\t1-STORY 1945 & OLDER\n",
        "        40\t1-STORY W/FINISHED ATTIC ALL AGES\n",
        "        45\t1-1/2 STORY - UNFINISHED ALL AGES\n",
        "        50\t1-1/2 STORY FINISHED ALL AGES\n",
        "        60\t2-STORY 1946 & NEWER\n",
        "        70\t2-STORY 1945 & OLDER\n",
        "        75\t2-1/2 STORY ALL AGES\n",
        "        80\tSPLIT OR MULTI-LEVEL\n",
        "        85\tSPLIT FOYER\n",
        "        90\tDUPLEX - ALL STYLES AND AGES\n",
        "       120\t1-STORY PUD (Planned Unit Development) - 1946 & NEWER\n",
        "       150\t1-1/2 STORY PUD - ALL AGES\n",
        "       160\t2-STORY PUD - 1946 & NEWER\n",
        "       180\tPUD - MULTILEVEL - INCL SPLIT LEV/FOYER\n",
        "       190\t2 FAMILY CONVERSION - ALL STYLES AND AGES\n",
        "\n",
        "MS_Zoning: Identifies the general zoning classification of the sale.\n",
        "\t\t\n",
        "       A\tAgriculture\n",
        "       C\tCommercial\n",
        "       FV\tFloating Village Residential\n",
        "       I\tIndustrial\n",
        "       RH\tResidential High Density\n",
        "       RL\tResidential Low Density\n",
        "       RP\tResidential Low Density Park \n",
        "       RM\tResidential Medium Density\n",
        "\n",
        "Mas_Vnr_Type: Masonry veneer type\n",
        "\n",
        "       BrkCmn\tBrick Common\n",
        "       BrkFace\tBrick Face\n",
        "       CBlock\tCinder Block\n",
        "       None\tNone\n",
        "       Stone\tStone\n",
        "\n",
        "Mo_Sold: Month Sold (MM)\n",
        "\n",
        "Neighborhood: Physical locations within Ames city limits\n",
        "\n",
        "       Blmngtn\tBloomington Heights\n",
        "       Blueste\tBluestem\n",
        "       BrDale\tBriardale\n",
        "       BrkSide\tBrookside\n",
        "       ClearCr\tClear Creek\n",
        "       CollgCr\tCollege Creek\n",
        "       Crawfor\tCrawford\n",
        "       Edwards\tEdwards\n",
        "       Gilbert\tGilbert\n",
        "       IDOTRR\tIowa DOT and Rail Road\n",
        "       MeadowV\tMeadow Village\n",
        "       Mitchel\tMitchell\n",
        "       Names\tNorth Ames\n",
        "       NoRidge\tNorthridge\n",
        "       NPkVill\tNorthpark Villa\n",
        "       NridgHt\tNorthridge Heights\n",
        "       NWAmes\tNorthwest Ames\n",
        "       OldTown\tOld Town\n",
        "       SWISU\tSouth & West of Iowa State University\n",
        "       Sawyer\tSawyer\n",
        "       SawyerW\tSawyer West\n",
        "       Somerst\tSomerset\n",
        "       StoneBr\tStone Brook\n",
        "       Timber\tTimberland\n",
        "       Veenker\tVeenker\n",
        "\t\t\t\n",
        "Overall_Cond: Rates the overall condition of the house\n",
        "\n",
        "       10\tVery Excellent\n",
        "       9\tExcellent\n",
        "       8\tVery Good\n",
        "       7\tGood\n",
        "       6\tAbove Average\t\n",
        "       5\tAverage\n",
        "       4\tBelow Average\t\n",
        "       3\tFair\n",
        "       2\tPoor\n",
        "       1\tVery Poor\n",
        "\n",
        "Overall_Qual: Rates the overall material and finish of the house\n",
        "\n",
        "       10\tVery Excellent\n",
        "       9\tExcellent\n",
        "       8\tVery Good\n",
        "       7\tGood\n",
        "       6\tAbove Average\n",
        "       5\tAverage\n",
        "       4\tBelow Average\n",
        "       3\tFair\n",
        "       2\tPoor\n",
        "       1\tVery Poor\n",
        "\n",
        "Paved_Drive: Paved driveway\n",
        "\n",
        "       Y\tPaved \n",
        "       P\tPartial Pavement\n",
        "       N\tDirt/Gravel\n",
        "\n",
        "Roof_Matl: Roof material\n",
        "\n",
        "       ClyTile\tClay or Tile\n",
        "       CompShg\tStandard (Composite) Shingle\n",
        "       Membran\tMembrane\n",
        "       Metal\tMetal\n",
        "       Roll\tRoll\n",
        "       Tar&Grv\tGravel & Tar\n",
        "       WdShake\tWood Shakes\n",
        "       WdShngl\tWood Shingles\n",
        "\n",
        "Roof_Style: Type of roof\n",
        "\n",
        "       Flat\tFlat\n",
        "       Gable\tGable\n",
        "       Gambrel\tGabrel (Barn)\n",
        "       Hip\tHip\n",
        "       Mansard\tMansard\n",
        "       Shed\tShed\n",
        "\n",
        "SalePrice: the sales price for each house\n",
        "\n",
        "Sale_Condition: Condition of sale\n",
        "\n",
        "       Normal\tNormal Sale\n",
        "       Abnorml\tAbnormal Sale -  trade, foreclosure, short sale\n",
        "       AdjLand\tAdjoining Land Purchase\n",
        "       Alloca\tAllocation - two linked properties with separate deeds, typically condo with a garage unit\t\n",
        "       Family\tSale between family members\n",
        "       Partial\tHome was not completed when last assessed (associated with New Homes)\n",
        "\n",
        "Sale_Type: Type of sale\n",
        "\t\t\n",
        "       WD \tWarranty Deed - Conventional\n",
        "       CWD\tWarranty Deed - Cash\n",
        "       VWD\tWarranty Deed - VA Loan\n",
        "       New\tHome just constructed and sold\n",
        "       COD\tCourt Officer Deed/Estate\n",
        "       Con\tContract 15% Down payment regular terms\n",
        "       ConLw\tContract Low Down payment and low interest\n",
        "       ConLI\tContract Low Interest\n",
        "       ConLD\tContract Low Down\n",
        "       Oth\tOther\n",
        "\t\n",
        "Street: Type of road access to property\n",
        "\n",
        "       Grvl\tGravel\t\n",
        "       Pave\tPaved\n",
        "       \t\n",
        "TotRms_AbvGrd: Total rooms above grade (does not include bathrooms)\n",
        "\n",
        "Utilities: Type of utilities available\n",
        "\t\t\n",
        "       AllPub\tAll public Utilities (E,G,W,& S)\t\n",
        "       NoSewr\tElectricity, Gas, and Water (Septic Tank)\n",
        "       NoSeWa\tElectricity and Gas Only\n",
        "       ELO\tElectricity only\t\n",
        "\t\n",
        "Year_Built: Original construction date\n",
        "\n",
        "Year_Remod/Add: Remodel date (same as construction date if no remodeling or additions)\n",
        "\t\t\t\t\t\t\n",
        "Yr_Sold: Year Sold (YYYY)\t\n",
        "\n",
        "```"
      ]
    }
  ]
}