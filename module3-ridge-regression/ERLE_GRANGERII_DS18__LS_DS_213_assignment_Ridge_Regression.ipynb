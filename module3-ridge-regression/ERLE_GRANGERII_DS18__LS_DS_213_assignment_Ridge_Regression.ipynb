{
  "nbformat": 4,
  "nbformat_minor": 0,
  "metadata": {
    "kernelspec": {
      "display_name": "Python 3",
      "language": "python",
      "name": "python3"
    },
    "language_info": {
      "codemirror_mode": {
        "name": "ipython",
        "version": 3
      },
      "file_extension": ".py",
      "mimetype": "text/x-python",
      "name": "python",
      "nbconvert_exporter": "python",
      "pygments_lexer": "ipython3",
      "version": "3.7.3"
    },
    "colab": {
      "name": "ERLE_GRANGERII_DS18_ LS_DS_213_assignment_Ridge_Regression.ipynb",
      "provenance": [],
      "include_colab_link": true
    }
  },
  "cells": [
    {
      "cell_type": "markdown",
      "metadata": {
        "id": "view-in-github",
        "colab_type": "text"
      },
      "source": [
        "<a href=\"https://colab.research.google.com/github/ilEnzio/DS-Unit-2-Linear-Models/blob/master/module3-ridge-regression/ERLE_GRANGERII_DS18__LS_DS_213_assignment_Ridge_Regression.ipynb\" target=\"_parent\"><img src=\"https://colab.research.google.com/assets/colab-badge.svg\" alt=\"Open In Colab\"/></a>"
      ]
    },
    {
      "cell_type": "markdown",
      "metadata": {
        "id": "0NNzfdJ8B5Bs",
        "colab_type": "text"
      },
      "source": [
        "Lambda School Data Science\n",
        "\n",
        "*Unit 2, Sprint 1, Module 3*\n",
        "\n",
        "---"
      ]
    },
    {
      "cell_type": "markdown",
      "metadata": {
        "colab_type": "text",
        "id": "7IXUfiQ2UKj6"
      },
      "source": [
        "# Ridge Regression\n",
        "\n",
        "## Assignment\n",
        "\n",
        "We're going back to our other **New York City** real estate dataset. Instead of predicting apartment rents, you'll predict property sales prices.\n",
        "\n",
        "But not just for condos in Tribeca...\n",
        "\n",
        "- [ ] Use a subset of the data where `BUILDING_CLASS_CATEGORY` == `'01 ONE FAMILY DWELLINGS'` and the sale price was more than 100 thousand and less than 2 million.\n",
        "- [ ] Do train/test split. Use data from January — March 2019 to train. Use data from April 2019 to test.\n",
        "- [ ] Do one-hot encoding of categorical features.\n",
        "- [ ] Do feature selection with `SelectKBest`.\n",
        "- [ ] Fit a ridge regression model with multiple features. Use the `normalize=True` parameter (or do [feature scaling](https://scikit-learn.org/stable/modules/preprocessing.html) beforehand — use the scaler's `fit_transform` method with the train set, and the scaler's `transform` method with the test set)\n",
        "- [ ] Get mean absolute error for the test set.\n",
        "- [ ] As always, commit your notebook to your fork of the GitHub repo.\n",
        "\n",
        "The [NYC Department of Finance](https://www1.nyc.gov/site/finance/taxes/property-rolling-sales-data.page) has a glossary of property sales terms and NYC Building Class Code Descriptions. The data comes from the [NYC OpenData](https://data.cityofnewyork.us/browse?q=NYC%20calendar%20sales) portal.\n",
        "\n",
        "\n",
        "## Stretch Goals\n",
        "\n",
        "Don't worry, you aren't expected to do all these stretch goals! These are just ideas to consider and choose from.\n",
        "\n",
        "- [ ] Add your own stretch goal(s) !\n",
        "- [ ] Instead of `Ridge`, try `LinearRegression`. Depending on how many features you select, your errors will probably blow up! 💥\n",
        "- [ ] Instead of `Ridge`, try [`RidgeCV`](https://scikit-learn.org/stable/modules/generated/sklearn.linear_model.RidgeCV.html).\n",
        "- [ ] Learn more about feature selection:\n",
        "    - [\"Permutation importance\"](https://www.kaggle.com/dansbecker/permutation-importance)\n",
        "    - [scikit-learn's User Guide for Feature Selection](https://scikit-learn.org/stable/modules/feature_selection.html)\n",
        "    - [mlxtend](http://rasbt.github.io/mlxtend/) library\n",
        "    - scikit-learn-contrib libraries: [boruta_py](https://github.com/scikit-learn-contrib/boruta_py) & [stability-selection](https://github.com/scikit-learn-contrib/stability-selection)\n",
        "    - [_Feature Engineering and Selection_](http://www.feat.engineering/) by Kuhn & Johnson.\n",
        "- [ ] Try [statsmodels](https://www.statsmodels.org/stable/index.html) if you’re interested in more inferential statistical approach to linear regression and feature selection, looking at p values and 95% confidence intervals for the coefficients.\n",
        "- [ ] Read [_An Introduction to Statistical Learning_](http://faculty.marshall.usc.edu/gareth-james/ISL/ISLR%20Seventh%20Printing.pdf), Chapters 1-3, for more math & theory, but in an accessible, readable way.\n",
        "- [ ] Try [scikit-learn pipelines](https://scikit-learn.org/stable/modules/compose.html)."
      ]
    },
    {
      "cell_type": "code",
      "metadata": {
        "colab_type": "code",
        "id": "o9eSnDYhUGD7",
        "colab": {}
      },
      "source": [
        "%%capture\n",
        "import sys\n",
        "\n",
        "# If you're on Colab:\n",
        "if 'google.colab' in sys.modules:\n",
        "    DATA_PATH = 'https://raw.githubusercontent.com/LambdaSchool/DS-Unit-2-Applied-Modeling/master/data/'\n",
        "    !pip install category_encoders==2.*\n",
        "\n",
        "# If you're working locally:\n",
        "else:\n",
        "    DATA_PATH = '../data/'\n",
        "    \n",
        "# Ignore this Numpy warning when using Plotly Express:\n",
        "# FutureWarning: Method .ptp is deprecated and will be removed in a future version. Use numpy.ptp instead.\n",
        "import warnings\n",
        "warnings.filterwarnings(action='ignore', category=FutureWarning, module='numpy')"
      ],
      "execution_count": 86,
      "outputs": []
    },
    {
      "cell_type": "code",
      "metadata": {
        "colab_type": "code",
        "id": "QJBD4ruICm1m",
        "colab": {}
      },
      "source": [
        "import pandas as pd\n",
        "import pandas_profiling\n",
        "\n",
        "# Read New York City property sales data\n",
        "df = pd.read_csv(DATA_PATH+'condos/NYC_Citywide_Rolling_Calendar_Sales.csv')\n",
        "\n",
        "# Change column names: replace spaces with underscores\n",
        "df.columns = [col.replace(' ', '_') for col in df]\n",
        "\n",
        "# SALE_PRICE was read as strings.\n",
        "# Remove symbols, convert to integer\n",
        "df['SALE_PRICE'] = (\n",
        "    df['SALE_PRICE']\n",
        "    .str.replace('$','')\n",
        "    .str.replace('-','')\n",
        "    .str.replace(',','')\n",
        "    .astype(int)\n",
        ")"
      ],
      "execution_count": 87,
      "outputs": []
    },
    {
      "cell_type": "code",
      "metadata": {
        "id": "vz-iQJFgB5B3",
        "colab_type": "code",
        "colab": {}
      },
      "source": [
        "# BOROUGH is a numeric column, but arguably should be a categorical feature,\n",
        "# so convert it from a number to a string\n",
        "df['BOROUGH'] = df['BOROUGH'].astype(str)"
      ],
      "execution_count": 88,
      "outputs": []
    },
    {
      "cell_type": "code",
      "metadata": {
        "id": "Y3VE0_TqB5B6",
        "colab_type": "code",
        "colab": {}
      },
      "source": [
        "# Reduce cardinality for NEIGHBORHOOD feature\n",
        "\n",
        "# Get a list of the top 10 neighborhoods\n",
        "top10 = df['NEIGHBORHOOD'].value_counts()[:10].index\n",
        "\n",
        "# At locations where the neighborhood is NOT in the top 10, \n",
        "# replace the neighborhood with 'OTHER'\n",
        "df.loc[~df['NEIGHBORHOOD'].isin(top10), 'NEIGHBORHOOD'] = 'OTHER'"
      ],
      "execution_count": 89,
      "outputs": []
    },
    {
      "cell_type": "code",
      "metadata": {
        "id": "PxgiUxfcB5B-",
        "colab_type": "code",
        "colab": {
          "base_uri": "https://localhost:8080/",
          "height": 445
        },
        "outputId": "30fd553e-efdf-4db4-8aaa-baee39cad3d6"
      },
      "source": [
        "df.head()"
      ],
      "execution_count": 90,
      "outputs": [
        {
          "output_type": "execute_result",
          "data": {
            "text/html": [
              "<div>\n",
              "<style scoped>\n",
              "    .dataframe tbody tr th:only-of-type {\n",
              "        vertical-align: middle;\n",
              "    }\n",
              "\n",
              "    .dataframe tbody tr th {\n",
              "        vertical-align: top;\n",
              "    }\n",
              "\n",
              "    .dataframe thead th {\n",
              "        text-align: right;\n",
              "    }\n",
              "</style>\n",
              "<table border=\"1\" class=\"dataframe\">\n",
              "  <thead>\n",
              "    <tr style=\"text-align: right;\">\n",
              "      <th></th>\n",
              "      <th>BOROUGH</th>\n",
              "      <th>NEIGHBORHOOD</th>\n",
              "      <th>BUILDING_CLASS_CATEGORY</th>\n",
              "      <th>TAX_CLASS_AT_PRESENT</th>\n",
              "      <th>BLOCK</th>\n",
              "      <th>LOT</th>\n",
              "      <th>EASE-MENT</th>\n",
              "      <th>BUILDING_CLASS_AT_PRESENT</th>\n",
              "      <th>ADDRESS</th>\n",
              "      <th>APARTMENT_NUMBER</th>\n",
              "      <th>ZIP_CODE</th>\n",
              "      <th>RESIDENTIAL_UNITS</th>\n",
              "      <th>COMMERCIAL_UNITS</th>\n",
              "      <th>TOTAL_UNITS</th>\n",
              "      <th>LAND_SQUARE_FEET</th>\n",
              "      <th>GROSS_SQUARE_FEET</th>\n",
              "      <th>YEAR_BUILT</th>\n",
              "      <th>TAX_CLASS_AT_TIME_OF_SALE</th>\n",
              "      <th>BUILDING_CLASS_AT_TIME_OF_SALE</th>\n",
              "      <th>SALE_PRICE</th>\n",
              "      <th>SALE_DATE</th>\n",
              "    </tr>\n",
              "  </thead>\n",
              "  <tbody>\n",
              "    <tr>\n",
              "      <th>0</th>\n",
              "      <td>1</td>\n",
              "      <td>OTHER</td>\n",
              "      <td>13 CONDOS - ELEVATOR APARTMENTS</td>\n",
              "      <td>2</td>\n",
              "      <td>716</td>\n",
              "      <td>1246</td>\n",
              "      <td>NaN</td>\n",
              "      <td>R4</td>\n",
              "      <td>447 WEST 18TH STREET, PH12A</td>\n",
              "      <td>PH12A</td>\n",
              "      <td>10011.0</td>\n",
              "      <td>1.0</td>\n",
              "      <td>0.0</td>\n",
              "      <td>1.0</td>\n",
              "      <td>10,733</td>\n",
              "      <td>1979.0</td>\n",
              "      <td>2007.0</td>\n",
              "      <td>2</td>\n",
              "      <td>R4</td>\n",
              "      <td>0</td>\n",
              "      <td>01/01/2019</td>\n",
              "    </tr>\n",
              "    <tr>\n",
              "      <th>1</th>\n",
              "      <td>1</td>\n",
              "      <td>OTHER</td>\n",
              "      <td>21 OFFICE BUILDINGS</td>\n",
              "      <td>4</td>\n",
              "      <td>812</td>\n",
              "      <td>68</td>\n",
              "      <td>NaN</td>\n",
              "      <td>O5</td>\n",
              "      <td>144 WEST 37TH STREET</td>\n",
              "      <td>NaN</td>\n",
              "      <td>10018.0</td>\n",
              "      <td>0.0</td>\n",
              "      <td>6.0</td>\n",
              "      <td>6.0</td>\n",
              "      <td>2,962</td>\n",
              "      <td>15435.0</td>\n",
              "      <td>1920.0</td>\n",
              "      <td>4</td>\n",
              "      <td>O5</td>\n",
              "      <td>0</td>\n",
              "      <td>01/01/2019</td>\n",
              "    </tr>\n",
              "    <tr>\n",
              "      <th>2</th>\n",
              "      <td>1</td>\n",
              "      <td>OTHER</td>\n",
              "      <td>21 OFFICE BUILDINGS</td>\n",
              "      <td>4</td>\n",
              "      <td>839</td>\n",
              "      <td>69</td>\n",
              "      <td>NaN</td>\n",
              "      <td>O5</td>\n",
              "      <td>40 WEST 38TH STREET</td>\n",
              "      <td>NaN</td>\n",
              "      <td>10018.0</td>\n",
              "      <td>0.0</td>\n",
              "      <td>7.0</td>\n",
              "      <td>7.0</td>\n",
              "      <td>2,074</td>\n",
              "      <td>11332.0</td>\n",
              "      <td>1930.0</td>\n",
              "      <td>4</td>\n",
              "      <td>O5</td>\n",
              "      <td>0</td>\n",
              "      <td>01/01/2019</td>\n",
              "    </tr>\n",
              "    <tr>\n",
              "      <th>3</th>\n",
              "      <td>1</td>\n",
              "      <td>OTHER</td>\n",
              "      <td>13 CONDOS - ELEVATOR APARTMENTS</td>\n",
              "      <td>2</td>\n",
              "      <td>592</td>\n",
              "      <td>1041</td>\n",
              "      <td>NaN</td>\n",
              "      <td>R4</td>\n",
              "      <td>1 SHERIDAN SQUARE, 8C</td>\n",
              "      <td>8C</td>\n",
              "      <td>10014.0</td>\n",
              "      <td>1.0</td>\n",
              "      <td>0.0</td>\n",
              "      <td>1.0</td>\n",
              "      <td>0</td>\n",
              "      <td>500.0</td>\n",
              "      <td>0.0</td>\n",
              "      <td>2</td>\n",
              "      <td>R4</td>\n",
              "      <td>0</td>\n",
              "      <td>01/01/2019</td>\n",
              "    </tr>\n",
              "    <tr>\n",
              "      <th>4</th>\n",
              "      <td>1</td>\n",
              "      <td>UPPER EAST SIDE (59-79)</td>\n",
              "      <td>15 CONDOS - 2-10 UNIT RESIDENTIAL</td>\n",
              "      <td>2C</td>\n",
              "      <td>1379</td>\n",
              "      <td>1402</td>\n",
              "      <td>NaN</td>\n",
              "      <td>R1</td>\n",
              "      <td>20 EAST 65TH STREET, B</td>\n",
              "      <td>B</td>\n",
              "      <td>10065.0</td>\n",
              "      <td>1.0</td>\n",
              "      <td>0.0</td>\n",
              "      <td>1.0</td>\n",
              "      <td>0</td>\n",
              "      <td>6406.0</td>\n",
              "      <td>0.0</td>\n",
              "      <td>2</td>\n",
              "      <td>R1</td>\n",
              "      <td>0</td>\n",
              "      <td>01/01/2019</td>\n",
              "    </tr>\n",
              "  </tbody>\n",
              "</table>\n",
              "</div>"
            ],
            "text/plain": [
              "  BOROUGH             NEIGHBORHOOD  ... SALE_PRICE   SALE_DATE\n",
              "0       1                    OTHER  ...          0  01/01/2019\n",
              "1       1                    OTHER  ...          0  01/01/2019\n",
              "2       1                    OTHER  ...          0  01/01/2019\n",
              "3       1                    OTHER  ...          0  01/01/2019\n",
              "4       1  UPPER EAST SIDE (59-79)  ...          0  01/01/2019\n",
              "\n",
              "[5 rows x 21 columns]"
            ]
          },
          "metadata": {
            "tags": []
          },
          "execution_count": 90
        }
      ]
    },
    {
      "cell_type": "code",
      "metadata": {
        "id": "QiDP352eDUPb",
        "colab_type": "code",
        "colab": {
          "base_uri": "https://localhost:8080/",
          "height": 493
        },
        "outputId": "11488686-3053-4ab2-d098-dc360cc2178d"
      },
      "source": [
        "df.info()"
      ],
      "execution_count": 91,
      "outputs": [
        {
          "output_type": "stream",
          "text": [
            "<class 'pandas.core.frame.DataFrame'>\n",
            "RangeIndex: 23040 entries, 0 to 23039\n",
            "Data columns (total 21 columns):\n",
            " #   Column                          Non-Null Count  Dtype  \n",
            "---  ------                          --------------  -----  \n",
            " 0   BOROUGH                         23040 non-null  object \n",
            " 1   NEIGHBORHOOD                    23040 non-null  object \n",
            " 2   BUILDING_CLASS_CATEGORY         23040 non-null  object \n",
            " 3   TAX_CLASS_AT_PRESENT            23039 non-null  object \n",
            " 4   BLOCK                           23040 non-null  int64  \n",
            " 5   LOT                             23040 non-null  int64  \n",
            " 6   EASE-MENT                       0 non-null      float64\n",
            " 7   BUILDING_CLASS_AT_PRESENT       23039 non-null  object \n",
            " 8   ADDRESS                         23040 non-null  object \n",
            " 9   APARTMENT_NUMBER                5201 non-null   object \n",
            " 10  ZIP_CODE                        23039 non-null  float64\n",
            " 11  RESIDENTIAL_UNITS               23039 non-null  float64\n",
            " 12  COMMERCIAL_UNITS                23039 non-null  float64\n",
            " 13  TOTAL_UNITS                     23039 non-null  float64\n",
            " 14  LAND_SQUARE_FEET                22987 non-null  object \n",
            " 15  GROSS_SQUARE_FEET               23039 non-null  float64\n",
            " 16  YEAR_BUILT                      23005 non-null  float64\n",
            " 17  TAX_CLASS_AT_TIME_OF_SALE       23040 non-null  int64  \n",
            " 18  BUILDING_CLASS_AT_TIME_OF_SALE  23040 non-null  object \n",
            " 19  SALE_PRICE                      23040 non-null  int64  \n",
            " 20  SALE_DATE                       23040 non-null  object \n",
            "dtypes: float64(7), int64(4), object(10)\n",
            "memory usage: 3.7+ MB\n"
          ],
          "name": "stdout"
        }
      ]
    },
    {
      "cell_type": "code",
      "metadata": {
        "id": "ySnk8DYuDZuZ",
        "colab_type": "code",
        "colab": {
          "base_uri": "https://localhost:8080/",
          "height": 221
        },
        "outputId": "d065787e-ab71-47e9-dcb7-2c4940d226ac"
      },
      "source": [
        "df[\"SALE_PRICE\"].value_counts()"
      ],
      "execution_count": 92,
      "outputs": [
        {
          "output_type": "execute_result",
          "data": {
            "text/plain": [
              "0          6909\n",
              "10          199\n",
              "800000      125\n",
              "750000      121\n",
              "650000      120\n",
              "           ... \n",
              "5236177       1\n",
              "229000        1\n",
              "397218        1\n",
              "4112000       1\n",
              "1751425       1\n",
              "Name: SALE_PRICE, Length: 3831, dtype: int64"
            ]
          },
          "metadata": {
            "tags": []
          },
          "execution_count": 92
        }
      ]
    },
    {
      "cell_type": "code",
      "metadata": {
        "id": "GnzjTAMfE2-a",
        "colab_type": "code",
        "colab": {
          "base_uri": "https://localhost:8080/",
          "height": 153
        },
        "outputId": "f15353cd-aa97-4267-c34f-e4343dd17926"
      },
      "source": [
        "df.columns"
      ],
      "execution_count": 93,
      "outputs": [
        {
          "output_type": "execute_result",
          "data": {
            "text/plain": [
              "Index(['BOROUGH', 'NEIGHBORHOOD', 'BUILDING_CLASS_CATEGORY',\n",
              "       'TAX_CLASS_AT_PRESENT', 'BLOCK', 'LOT', 'EASE-MENT',\n",
              "       'BUILDING_CLASS_AT_PRESENT', 'ADDRESS', 'APARTMENT_NUMBER', 'ZIP_CODE',\n",
              "       'RESIDENTIAL_UNITS', 'COMMERCIAL_UNITS', 'TOTAL_UNITS',\n",
              "       'LAND_SQUARE_FEET', 'GROSS_SQUARE_FEET', 'YEAR_BUILT',\n",
              "       'TAX_CLASS_AT_TIME_OF_SALE', 'BUILDING_CLASS_AT_TIME_OF_SALE',\n",
              "       'SALE_PRICE', 'SALE_DATE'],\n",
              "      dtype='object')"
            ]
          },
          "metadata": {
            "tags": []
          },
          "execution_count": 93
        }
      ]
    },
    {
      "cell_type": "code",
      "metadata": {
        "id": "x4Yk_3I1FEXz",
        "colab_type": "code",
        "colab": {
          "base_uri": "https://localhost:8080/",
          "height": 782
        },
        "outputId": "21a4c7d5-3afb-4f26-8a74-cb5be398c438"
      },
      "source": [
        "df[\"BUILDING_CLASS_CATEGORY\"].value_counts()"
      ],
      "execution_count": 94,
      "outputs": [
        {
          "output_type": "execute_result",
          "data": {
            "text/plain": [
              "01 ONE FAMILY DWELLINGS                       5061\n",
              "02 TWO FAMILY DWELLINGS                       4567\n",
              "10 COOPS - ELEVATOR APARTMENTS                3471\n",
              "13 CONDOS - ELEVATOR APARTMENTS               3339\n",
              "03 THREE FAMILY DWELLINGS                     1438\n",
              "07 RENTALS - WALKUP APARTMENTS                 807\n",
              "09 COOPS - WALKUP APARTMENTS                   672\n",
              "15 CONDOS - 2-10 UNIT RESIDENTIAL              421\n",
              "04 TAX CLASS 1 CONDOS                          418\n",
              "44 CONDO PARKING                               366\n",
              "17 CONDO COOPS                                 300\n",
              "05 TAX CLASS 1 VACANT LAND                     288\n",
              "22 STORE BUILDINGS                             288\n",
              "12 CONDOS - WALKUP APARTMENTS                  256\n",
              "14 RENTALS - 4-10 UNIT                         200\n",
              "29 COMMERCIAL GARAGES                          147\n",
              "08 RENTALS - ELEVATOR APARTMENTS               120\n",
              "30 WAREHOUSES                                  105\n",
              "21 OFFICE BUILDINGS                             96\n",
              "31 COMMERCIAL VACANT LAND                       80\n",
              "43 CONDO OFFICE BUILDINGS                       80\n",
              "47 CONDO NON-BUSINESS STORAGE                   75\n",
              "46 CONDO STORE BUILDINGS                        65\n",
              "27 FACTORIES                                    54\n",
              "06 TAX CLASS 1 - OTHER                          42\n",
              "37 RELIGIOUS FACILITIES                         38\n",
              "45 CONDO HOTELS                                 32\n",
              "41 TAX CLASS 4 - OTHER                          30\n",
              "11A CONDO-RENTALS                               30\n",
              "16 CONDOS - 2-10 UNIT WITH COMMERCIAL UNIT      29\n",
              "33 EDUCATIONAL FACILITIES                       24\n",
              "28 COMMERCIAL CONDOS                            23\n",
              "32 HOSPITAL AND HEALTH FACILITIES               21\n",
              "26 OTHER HOTELS                                 15\n",
              "34 THEATRES                                      7\n",
              "23 LOFT BUILDINGS                                7\n",
              "35 INDOOR PUBLIC AND CULTURAL FACILITIES         7\n",
              "25 LUXURY HOTELS                                 6\n",
              "49 CONDO WAREHOUSES/FACTORY/INDUS                4\n",
              "36 OUTDOOR RECREATIONAL FACILITIES               4\n",
              "48 CONDO TERRACES/GARDENS/CABANAS                3\n",
              "38 ASYLUMS AND HOMES                             2\n",
              "39 TRANSPORTATION FACILITIES                     1\n",
              "42 CONDO CULTURAL/MEDICAL/EDUCATIONAL/ETC        1\n",
              "Name: BUILDING_CLASS_CATEGORY, dtype: int64"
            ]
          },
          "metadata": {
            "tags": []
          },
          "execution_count": 94
        }
      ]
    },
    {
      "cell_type": "code",
      "metadata": {
        "id": "BHHCuiU-FNgR",
        "colab_type": "code",
        "colab": {}
      },
      "source": [
        ""
      ],
      "execution_count": 94,
      "outputs": []
    },
    {
      "cell_type": "code",
      "metadata": {
        "id": "sRBQGPY6E2mN",
        "colab_type": "code",
        "colab": {
          "base_uri": "https://localhost:8080/",
          "height": 34
        },
        "outputId": "74937b17-30c3-4d98-c756-35236855a5a4"
      },
      "source": [
        "# just make a copy so as to preserve the original dataset from this point. \n",
        "\n",
        "nyc_realestate_df = df.copy()\n",
        "nyc_realestate_df.shape"
      ],
      "execution_count": 95,
      "outputs": [
        {
          "output_type": "execute_result",
          "data": {
            "text/plain": [
              "(23040, 21)"
            ]
          },
          "metadata": {
            "tags": []
          },
          "execution_count": 95
        }
      ]
    },
    {
      "cell_type": "code",
      "metadata": {
        "id": "lji1b_4hIwMb",
        "colab_type": "code",
        "colab": {}
      },
      "source": [
        ""
      ],
      "execution_count": 95,
      "outputs": []
    },
    {
      "cell_type": "markdown",
      "metadata": {
        "id": "zS-d1A_vIQkr",
        "colab_type": "text"
      },
      "source": [
        "## Import Libraries and Modules"
      ]
    },
    {
      "cell_type": "code",
      "metadata": {
        "id": "CSQHMKlME2Ve",
        "colab_type": "code",
        "colab": {}
      },
      "source": [
        "import matplotlib.pyplot as plt\n",
        "import numpy as np\n",
        "\n",
        "\n",
        "# special sauce for custom method :) \n",
        "from collections import namedtuple\n",
        "\n",
        "# ML models\n",
        "from sklearn.linear_model import LinearRegression # old reliable model\n",
        "from sklearn.linear_model import Ridge # RidgeRegression to guard against overfit\n",
        "\n",
        "# Metric accessing functions\n",
        "from sklearn.metrics import mean_absolute_error, mean_squared_error, r2_score\n",
        "\n",
        "# Transformers\n",
        "from category_encoders import OneHotEncoder # splits cat variable \n",
        "from sklearn.feature_selection import SelectKBest # selects highest correlating features\n"
      ],
      "execution_count": 96,
      "outputs": []
    },
    {
      "cell_type": "markdown",
      "metadata": {
        "id": "Fkgr2uCdD-bI",
        "colab_type": "text"
      },
      "source": [
        "# List of things to do:\n",
        "\n",
        "### * drop EASE-MENT\n",
        "### * Change Zip to cat\n",
        "### * LAND_SQUARE_FEET to float or int\n",
        "### * Change SALE_DATE to datetime \n",
        "\n",
        "/n\n",
        "### * subset/filter on \"BUILDING_CLASS_CATEGORY\" for 01 ONE FAMILY DWELLINGS  \n",
        "### * subset that^ for 100,000 > sale price < 2,000,000 \n"
      ]
    },
    {
      "cell_type": "code",
      "metadata": {
        "id": "uABnFZymDqq2",
        "colab_type": "code",
        "colab": {
          "base_uri": "https://localhost:8080/",
          "height": 136
        },
        "outputId": "2d370192-f7af-4b40-c6fb-6cc0027b14cc"
      },
      "source": [
        "# drop Ease-ment\n",
        "nyc_realestate_df=  nyc_realestate_df.drop(labels=\"EASE-MENT\", axis=1)\n",
        "nyc_realestate_df.columns"
      ],
      "execution_count": 97,
      "outputs": [
        {
          "output_type": "execute_result",
          "data": {
            "text/plain": [
              "Index(['BOROUGH', 'NEIGHBORHOOD', 'BUILDING_CLASS_CATEGORY',\n",
              "       'TAX_CLASS_AT_PRESENT', 'BLOCK', 'LOT', 'BUILDING_CLASS_AT_PRESENT',\n",
              "       'ADDRESS', 'APARTMENT_NUMBER', 'ZIP_CODE', 'RESIDENTIAL_UNITS',\n",
              "       'COMMERCIAL_UNITS', 'TOTAL_UNITS', 'LAND_SQUARE_FEET',\n",
              "       'GROSS_SQUARE_FEET', 'YEAR_BUILT', 'TAX_CLASS_AT_TIME_OF_SALE',\n",
              "       'BUILDING_CLASS_AT_TIME_OF_SALE', 'SALE_PRICE', 'SALE_DATE'],\n",
              "      dtype='object')"
            ]
          },
          "metadata": {
            "tags": []
          },
          "execution_count": 97
        }
      ]
    },
    {
      "cell_type": "code",
      "metadata": {
        "id": "plKp3ex1jL5x",
        "colab_type": "code",
        "colab": {}
      },
      "source": [
        "# change Categories of zip_code, land_square_feet, Sale_date \n",
        "# dictionary of new types\n",
        "new_types = {'ZIP_CODE' : 'category', 'LAND_SQUARE_FEET': 'int32',\n",
        "             'SALE_DATE':\"datetime64\"}"
      ],
      "execution_count": 98,
      "outputs": []
    },
    {
      "cell_type": "code",
      "metadata": {
        "id": "25Tb-CPhn3bs",
        "colab_type": "code",
        "colab": {}
      },
      "source": [
        ""
      ],
      "execution_count": null,
      "outputs": []
    },
    {
      "cell_type": "code",
      "metadata": {
        "id": "TK2ObbJ-qrbz",
        "colab_type": "code",
        "colab": {}
      },
      "source": [
        "# drop_cond = nyc_realestate_df.loc[:, \"LAND_SQUARE_FEET\"] == np.NaN\n",
        "drop_cond = nyc_realestate_df[\"LAND_SQUARE_FEET\"].isnull() == False"
      ],
      "execution_count": 99,
      "outputs": []
    },
    {
      "cell_type": "code",
      "metadata": {
        "id": "gzt2Gn4graat",
        "colab_type": "code",
        "colab": {
          "base_uri": "https://localhost:8080/",
          "height": 374
        },
        "outputId": "c64975ca-9b7e-4474-9a65-85f319ead683"
      },
      "source": [
        "nyc_realestate_df = nyc_realestate_df[drop_cond]\n",
        "nyc_realestate_df.isnull().sum()"
      ],
      "execution_count": 100,
      "outputs": [
        {
          "output_type": "execute_result",
          "data": {
            "text/plain": [
              "BOROUGH                               0\n",
              "NEIGHBORHOOD                          0\n",
              "BUILDING_CLASS_CATEGORY               0\n",
              "TAX_CLASS_AT_PRESENT                  0\n",
              "BLOCK                                 0\n",
              "LOT                                   0\n",
              "BUILDING_CLASS_AT_PRESENT             0\n",
              "ADDRESS                               0\n",
              "APARTMENT_NUMBER                  17838\n",
              "ZIP_CODE                              0\n",
              "RESIDENTIAL_UNITS                     0\n",
              "COMMERCIAL_UNITS                      0\n",
              "TOTAL_UNITS                           0\n",
              "LAND_SQUARE_FEET                      0\n",
              "GROSS_SQUARE_FEET                     0\n",
              "YEAR_BUILT                           34\n",
              "TAX_CLASS_AT_TIME_OF_SALE             0\n",
              "BUILDING_CLASS_AT_TIME_OF_SALE        0\n",
              "SALE_PRICE                            0\n",
              "SALE_DATE                             0\n",
              "dtype: int64"
            ]
          },
          "metadata": {
            "tags": []
          },
          "execution_count": 100
        }
      ]
    },
    {
      "cell_type": "code",
      "metadata": {
        "id": "FC28C-KmlAKg",
        "colab_type": "code",
        "colab": {
          "base_uri": "https://localhost:8080/",
          "height": 136
        },
        "outputId": "1c5fad41-a06a-4fd4-d676-bb86e9bc1f2b"
      },
      "source": [
        "nyc_realestate_df= nyc_realestate_df.astype({'ZIP_CODE' : 'category',\n",
        "             'SALE_DATE':\"datetime64\"})\n",
        "nyc_realestate_df.columns"
      ],
      "execution_count": 102,
      "outputs": [
        {
          "output_type": "execute_result",
          "data": {
            "text/plain": [
              "Index(['BOROUGH', 'NEIGHBORHOOD', 'BUILDING_CLASS_CATEGORY',\n",
              "       'TAX_CLASS_AT_PRESENT', 'BLOCK', 'LOT', 'BUILDING_CLASS_AT_PRESENT',\n",
              "       'ADDRESS', 'APARTMENT_NUMBER', 'ZIP_CODE', 'RESIDENTIAL_UNITS',\n",
              "       'COMMERCIAL_UNITS', 'TOTAL_UNITS', 'LAND_SQUARE_FEET',\n",
              "       'GROSS_SQUARE_FEET', 'YEAR_BUILT', 'TAX_CLASS_AT_TIME_OF_SALE',\n",
              "       'BUILDING_CLASS_AT_TIME_OF_SALE', 'SALE_PRICE', 'SALE_DATE'],\n",
              "      dtype='object')"
            ]
          },
          "metadata": {
            "tags": []
          },
          "execution_count": 102
        }
      ]
    },
    {
      "cell_type": "code",
      "metadata": {
        "id": "3ezyevLnoK8K",
        "colab_type": "code",
        "colab": {
          "base_uri": "https://localhost:8080/",
          "height": 476
        },
        "outputId": "4361b5c7-0ba6-41ab-f9ec-fa39c914461d"
      },
      "source": [
        "nyc_realestate_df.info()"
      ],
      "execution_count": 103,
      "outputs": [
        {
          "output_type": "stream",
          "text": [
            "<class 'pandas.core.frame.DataFrame'>\n",
            "Int64Index: 22987 entries, 0 to 23039\n",
            "Data columns (total 20 columns):\n",
            " #   Column                          Non-Null Count  Dtype         \n",
            "---  ------                          --------------  -----         \n",
            " 0   BOROUGH                         22987 non-null  object        \n",
            " 1   NEIGHBORHOOD                    22987 non-null  object        \n",
            " 2   BUILDING_CLASS_CATEGORY         22987 non-null  object        \n",
            " 3   TAX_CLASS_AT_PRESENT            22987 non-null  object        \n",
            " 4   BLOCK                           22987 non-null  int64         \n",
            " 5   LOT                             22987 non-null  int64         \n",
            " 6   BUILDING_CLASS_AT_PRESENT       22987 non-null  object        \n",
            " 7   ADDRESS                         22987 non-null  object        \n",
            " 8   APARTMENT_NUMBER                5149 non-null   object        \n",
            " 9   ZIP_CODE                        22987 non-null  category      \n",
            " 10  RESIDENTIAL_UNITS               22987 non-null  float64       \n",
            " 11  COMMERCIAL_UNITS                22987 non-null  float64       \n",
            " 12  TOTAL_UNITS                     22987 non-null  float64       \n",
            " 13  LAND_SQUARE_FEET                22987 non-null  object        \n",
            " 14  GROSS_SQUARE_FEET               22987 non-null  float64       \n",
            " 15  YEAR_BUILT                      22953 non-null  float64       \n",
            " 16  TAX_CLASS_AT_TIME_OF_SALE       22987 non-null  int64         \n",
            " 17  BUILDING_CLASS_AT_TIME_OF_SALE  22987 non-null  object        \n",
            " 18  SALE_PRICE                      22987 non-null  int64         \n",
            " 19  SALE_DATE                       22987 non-null  datetime64[ns]\n",
            "dtypes: category(1), datetime64[ns](1), float64(5), int64(4), object(9)\n",
            "memory usage: 3.6+ MB\n"
          ],
          "name": "stdout"
        }
      ]
    },
    {
      "cell_type": "code",
      "metadata": {
        "id": "Mkr_ptn-qcOw",
        "colab_type": "code",
        "colab": {
          "base_uri": "https://localhost:8080/",
          "height": 153
        },
        "outputId": "147d71ef-b03f-4655-c00d-d08325b5314d"
      },
      "source": [
        "test2 = pd.DataFrame([str(x) for x in nyc_realestate_df.loc[:,\"LAND_SQUARE_FEET\"]])\n",
        "\n",
        "test2.info()"
      ],
      "execution_count": 124,
      "outputs": [
        {
          "output_type": "stream",
          "text": [
            "<class 'pandas.core.frame.DataFrame'>\n",
            "RangeIndex: 22987 entries, 0 to 22986\n",
            "Data columns (total 1 columns):\n",
            " #   Column  Non-Null Count  Dtype \n",
            "---  ------  --------------  ----- \n",
            " 0   0       22987 non-null  object\n",
            "dtypes: object(1)\n",
            "memory usage: 179.7+ KB\n"
          ],
          "name": "stdout"
        }
      ]
    },
    {
      "cell_type": "code",
      "metadata": {
        "id": "NH-gPONzzDK1",
        "colab_type": "code",
        "colab": {
          "base_uri": "https://localhost:8080/",
          "height": 204
        },
        "outputId": "3d94d4c7-0119-416e-a048-d18642a228dc"
      },
      "source": [
        "test2.head()"
      ],
      "execution_count": 129,
      "outputs": [
        {
          "output_type": "execute_result",
          "data": {
            "text/html": [
              "<div>\n",
              "<style scoped>\n",
              "    .dataframe tbody tr th:only-of-type {\n",
              "        vertical-align: middle;\n",
              "    }\n",
              "\n",
              "    .dataframe tbody tr th {\n",
              "        vertical-align: top;\n",
              "    }\n",
              "\n",
              "    .dataframe thead th {\n",
              "        text-align: right;\n",
              "    }\n",
              "</style>\n",
              "<table border=\"1\" class=\"dataframe\">\n",
              "  <thead>\n",
              "    <tr style=\"text-align: right;\">\n",
              "      <th></th>\n",
              "      <th>0</th>\n",
              "    </tr>\n",
              "  </thead>\n",
              "  <tbody>\n",
              "    <tr>\n",
              "      <th>0</th>\n",
              "      <td>10,733</td>\n",
              "    </tr>\n",
              "    <tr>\n",
              "      <th>1</th>\n",
              "      <td>2,962</td>\n",
              "    </tr>\n",
              "    <tr>\n",
              "      <th>2</th>\n",
              "      <td>2,074</td>\n",
              "    </tr>\n",
              "    <tr>\n",
              "      <th>3</th>\n",
              "      <td>0</td>\n",
              "    </tr>\n",
              "    <tr>\n",
              "      <th>4</th>\n",
              "      <td>0</td>\n",
              "    </tr>\n",
              "  </tbody>\n",
              "</table>\n",
              "</div>"
            ],
            "text/plain": [
              "        0\n",
              "0  10,733\n",
              "1   2,962\n",
              "2   2,074\n",
              "3       0\n",
              "4       0"
            ]
          },
          "metadata": {
            "tags": []
          },
          "execution_count": 129
        }
      ]
    },
    {
      "cell_type": "code",
      "metadata": {
        "id": "mtHywgidzIUA",
        "colab_type": "code",
        "colab": {}
      },
      "source": [
        ""
      ],
      "execution_count": null,
      "outputs": []
    },
    {
      "cell_type": "code",
      "metadata": {
        "id": "wHzPTMk2xn-O",
        "colab_type": "code",
        "colab": {
          "base_uri": "https://localhost:8080/",
          "height": 283
        },
        "outputId": "7615e937-947b-4759-e46a-4bdf1e53a6bc"
      },
      "source": [
        "test2.astype(dtype={\"0\": \"float\"})"
      ],
      "execution_count": 125,
      "outputs": [
        {
          "output_type": "error",
          "ename": "KeyError",
          "evalue": "ignored",
          "traceback": [
            "\u001b[0;31m---------------------------------------------------------------------------\u001b[0m",
            "\u001b[0;31mKeyError\u001b[0m                                  Traceback (most recent call last)",
            "\u001b[0;32m<ipython-input-125-582cef103e63>\u001b[0m in \u001b[0;36m<module>\u001b[0;34m()\u001b[0m\n\u001b[0;32m----> 1\u001b[0;31m \u001b[0mtest2\u001b[0m\u001b[0;34m.\u001b[0m\u001b[0mastype\u001b[0m\u001b[0;34m(\u001b[0m\u001b[0mdtype\u001b[0m\u001b[0;34m=\u001b[0m\u001b[0;34m{\u001b[0m\u001b[0;34m\"0\"\u001b[0m\u001b[0;34m:\u001b[0m \u001b[0;34m\"float\"\u001b[0m\u001b[0;34m}\u001b[0m\u001b[0;34m)\u001b[0m\u001b[0;34m\u001b[0m\u001b[0;34m\u001b[0m\u001b[0m\n\u001b[0m",
            "\u001b[0;32m/usr/local/lib/python3.6/dist-packages/pandas/core/generic.py\u001b[0m in \u001b[0;36mastype\u001b[0;34m(self, dtype, copy, errors)\u001b[0m\n\u001b[1;32m   5674\u001b[0m                 \u001b[0;32mif\u001b[0m \u001b[0mcol_name\u001b[0m \u001b[0;32mnot\u001b[0m \u001b[0;32min\u001b[0m \u001b[0mself\u001b[0m\u001b[0;34m:\u001b[0m\u001b[0;34m\u001b[0m\u001b[0;34m\u001b[0m\u001b[0m\n\u001b[1;32m   5675\u001b[0m                     raise KeyError(\n\u001b[0;32m-> 5676\u001b[0;31m                         \u001b[0;34m\"Only a column name can be used for the \"\u001b[0m\u001b[0;34m\u001b[0m\u001b[0;34m\u001b[0m\u001b[0m\n\u001b[0m\u001b[1;32m   5677\u001b[0m                         \u001b[0;34m\"key in a dtype mappings argument.\"\u001b[0m\u001b[0;34m\u001b[0m\u001b[0;34m\u001b[0m\u001b[0m\n\u001b[1;32m   5678\u001b[0m                     )\n",
            "\u001b[0;31mKeyError\u001b[0m: 'Only a column name can be used for the key in a dtype mappings argument.'"
          ]
        }
      ]
    },
    {
      "cell_type": "code",
      "metadata": {
        "id": "bCj-kcg7w5KV",
        "colab_type": "code",
        "colab": {}
      },
      "source": [
        ""
      ],
      "execution_count": null,
      "outputs": []
    },
    {
      "cell_type": "code",
      "metadata": {
        "id": "JHBhtZDDwVX6",
        "colab_type": "code",
        "colab": {}
      },
      "source": [
        ""
      ],
      "execution_count": null,
      "outputs": []
    },
    {
      "cell_type": "code",
      "metadata": {
        "id": "-jEjCL_mv_XF",
        "colab_type": "code",
        "colab": {}
      },
      "source": [
        ""
      ],
      "execution_count": null,
      "outputs": []
    },
    {
      "cell_type": "code",
      "metadata": {
        "id": "CRQhJ9VeuikJ",
        "colab_type": "code",
        "colab": {}
      },
      "source": [
        ""
      ],
      "execution_count": null,
      "outputs": []
    },
    {
      "cell_type": "code",
      "metadata": {
        "id": "bsTy1UuJoFZC",
        "colab_type": "code",
        "colab": {}
      },
      "source": [
        ""
      ],
      "execution_count": null,
      "outputs": []
    },
    {
      "cell_type": "code",
      "metadata": {
        "id": "1IqIW5aJn03G",
        "colab_type": "code",
        "colab": {}
      },
      "source": [
        ""
      ],
      "execution_count": null,
      "outputs": []
    }
  ]
}