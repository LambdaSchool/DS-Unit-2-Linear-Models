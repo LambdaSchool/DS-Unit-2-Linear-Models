{
  "nbformat": 4,
  "nbformat_minor": 0,
  "metadata": {
    "kernelspec": {
      "display_name": "Python 3",
      "language": "python",
      "name": "python3"
    },
    "language_info": {
      "codemirror_mode": {
        "name": "ipython",
        "version": 3
      },
      "file_extension": ".py",
      "mimetype": "text/x-python",
      "name": "python",
      "nbconvert_exporter": "python",
      "pygments_lexer": "ipython3",
      "version": "3.7.3"
    },
    "colab": {
      "name": "LS_DS_213_assignment.ipynb",
      "provenance": []
    }
  },
  "cells": [
    {
      "cell_type": "markdown",
      "metadata": {
        "id": "IIsAQnk_NUXd",
        "colab_type": "text"
      },
      "source": [
        "Lambda School Data Science\n",
        "\n",
        "*Unit 2, Sprint 1, Module 3*\n",
        "\n",
        "---"
      ]
    },
    {
      "cell_type": "markdown",
      "metadata": {
        "colab_type": "text",
        "id": "7IXUfiQ2UKj6"
      },
      "source": [
        "# Ridge Regression\n",
        "\n",
        "## Assignment\n",
        "\n",
        "We're going back to our other **New York City** real estate dataset. Instead of predicting apartment rents, you'll predict property sales prices.\n",
        "\n",
        "But not just for condos in Tribeca...\n",
        "\n",
        "- [ ] Use a subset of the data where `BUILDING_CLASS_CATEGORY` == `'01 ONE FAMILY DWELLINGS'` and the sale price was more than 100 thousand and less than 2 million.\n",
        "- [ ] Do train/test split. Use data from January — March 2019 to train. Use data from April 2019 to test.\n",
        "- [ ] Do one-hot encoding of categorical features.\n",
        "- [ ] Do feature selection with `SelectKBest`.\n",
        "- [ ] Fit a ridge regression model with multiple features. Use the `normalize=True` parameter (or do [feature scaling](https://scikit-learn.org/stable/modules/preprocessing.html) beforehand — use the scaler's `fit_transform` method with the train set, and the scaler's `transform` method with the test set)\n",
        "- [ ] Get mean absolute error for the test set.\n",
        "- [ ] As always, commit your notebook to your fork of the GitHub repo.\n",
        "\n",
        "The [NYC Department of Finance](https://www1.nyc.gov/site/finance/taxes/property-rolling-sales-data.page) has a glossary of property sales terms and NYC Building Class Code Descriptions. The data comes from the [NYC OpenData](https://data.cityofnewyork.us/browse?q=NYC%20calendar%20sales) portal.\n",
        "\n",
        "\n",
        "## Stretch Goals\n",
        "\n",
        "Don't worry, you aren't expected to do all these stretch goals! These are just ideas to consider and choose from.\n",
        "\n",
        "- [ ] Add your own stretch goal(s) !\n",
        "- [ ] Instead of `Ridge`, try `LinearRegression`. Depending on how many features you select, your errors will probably blow up! 💥\n",
        "- [ ] Instead of `Ridge`, try [`RidgeCV`](https://scikit-learn.org/stable/modules/generated/sklearn.linear_model.RidgeCV.html).\n",
        "- [ ] Learn more about feature selection:\n",
        "    - [\"Permutation importance\"](https://www.kaggle.com/dansbecker/permutation-importance)\n",
        "    - [scikit-learn's User Guide for Feature Selection](https://scikit-learn.org/stable/modules/feature_selection.html)\n",
        "    - [mlxtend](http://rasbt.github.io/mlxtend/) library\n",
        "    - scikit-learn-contrib libraries: [boruta_py](https://github.com/scikit-learn-contrib/boruta_py) & [stability-selection](https://github.com/scikit-learn-contrib/stability-selection)\n",
        "    - [_Feature Engineering and Selection_](http://www.feat.engineering/) by Kuhn & Johnson.\n",
        "- [ ] Try [statsmodels](https://www.statsmodels.org/stable/index.html) if you’re interested in more inferential statistical approach to linear regression and feature selection, looking at p values and 95% confidence intervals for the coefficients.\n",
        "- [ ] Read [_An Introduction to Statistical Learning_](http://faculty.marshall.usc.edu/gareth-james/ISL/ISLR%20Seventh%20Printing.pdf), Chapters 1-3, for more math & theory, but in an accessible, readable way.\n",
        "- [ ] Try [scikit-learn pipelines](https://scikit-learn.org/stable/modules/compose.html)."
      ]
    },
    {
      "cell_type": "code",
      "metadata": {
        "colab_type": "code",
        "id": "o9eSnDYhUGD7",
        "colab": {}
      },
      "source": [
        "%%capture\n",
        "import sys\n",
        "\n",
        "# If you're on Colab:\n",
        "if 'google.colab' in sys.modules:\n",
        "    DATA_PATH = 'https://raw.githubusercontent.com/LambdaSchool/DS-Unit-2-Applied-Modeling/master/data/'\n",
        "    !pip install category_encoders==2.*\n",
        "\n",
        "# If you're working locally:\n",
        "else:\n",
        "    DATA_PATH = '../data/'\n",
        "    \n",
        "# Ignore this Numpy warning when using Plotly Express:\n",
        "# FutureWarning: Method .ptp is deprecated and will be removed in a future version. Use numpy.ptp instead.\n",
        "import warnings\n",
        "warnings.filterwarnings(action='ignore', category=FutureWarning, module='numpy')"
      ],
      "execution_count": 0,
      "outputs": []
    },
    {
      "cell_type": "code",
      "metadata": {
        "colab_type": "code",
        "id": "QJBD4ruICm1m",
        "colab": {}
      },
      "source": [
        "import pandas as pd\n",
        "import pandas_profiling\n",
        "\n",
        "# Read New York City property sales data\n",
        "df = pd.read_csv(DATA_PATH+'condos/NYC_Citywide_Rolling_Calendar_Sales.csv')\n",
        "\n",
        "# Change column names: replace spaces with underscores\n",
        "df.columns = [col.replace(' ', '_') for col in df]\n",
        "\n",
        "# SALE_PRICE was read as strings.\n",
        "# Remove symbols, convert to integer\n",
        "df['SALE_PRICE'] = (\n",
        "    df['SALE_PRICE']\n",
        "    .str.replace('$','')\n",
        "    .str.replace('-','')\n",
        "    .str.replace(',','')\n",
        "    .astype(int)\n",
        ")"
      ],
      "execution_count": 0,
      "outputs": []
    },
    {
      "cell_type": "code",
      "metadata": {
        "id": "gCkElhVTNUXi",
        "colab_type": "code",
        "colab": {}
      },
      "source": [
        "# BOROUGH is a numeric column, but arguably should be a categorical feature,\n",
        "# so convert it from a number to a string\n",
        "df['BOROUGH'] = df['BOROUGH'].astype(str)"
      ],
      "execution_count": 0,
      "outputs": []
    },
    {
      "cell_type": "code",
      "metadata": {
        "id": "w7H2-7RuNUXk",
        "colab_type": "code",
        "colab": {}
      },
      "source": [
        "# Reduce cardinality for NEIGHBORHOOD feature\n",
        "\n",
        "# Get a list of the top 10 neighborhoods\n",
        "top10 = df['NEIGHBORHOOD'].value_counts()[:10].index\n",
        "\n",
        "# At locations where the neighborhood is NOT in the top 10, \n",
        "# replace the neighborhood with 'OTHER'\n",
        "df.loc[~df['NEIGHBORHOOD'].isin(top10), 'NEIGHBORHOOD'] = 'OTHER'"
      ],
      "execution_count": 0,
      "outputs": []
    },
    {
      "cell_type": "code",
      "metadata": {
        "id": "wk8ukJIYNUXm",
        "colab_type": "code",
        "colab": {
          "base_uri": "https://localhost:8080/",
          "height": 462
        },
        "outputId": "37d7290a-e5ab-4e75-e368-d1bd42f163d6"
      },
      "source": [
        "print(df.shape)\n",
        "df.head()"
      ],
      "execution_count": 75,
      "outputs": [
        {
          "output_type": "stream",
          "text": [
            "(23040, 21)\n"
          ],
          "name": "stdout"
        },
        {
          "output_type": "execute_result",
          "data": {
            "text/html": [
              "<div>\n",
              "<style scoped>\n",
              "    .dataframe tbody tr th:only-of-type {\n",
              "        vertical-align: middle;\n",
              "    }\n",
              "\n",
              "    .dataframe tbody tr th {\n",
              "        vertical-align: top;\n",
              "    }\n",
              "\n",
              "    .dataframe thead th {\n",
              "        text-align: right;\n",
              "    }\n",
              "</style>\n",
              "<table border=\"1\" class=\"dataframe\">\n",
              "  <thead>\n",
              "    <tr style=\"text-align: right;\">\n",
              "      <th></th>\n",
              "      <th>BOROUGH</th>\n",
              "      <th>NEIGHBORHOOD</th>\n",
              "      <th>BUILDING_CLASS_CATEGORY</th>\n",
              "      <th>TAX_CLASS_AT_PRESENT</th>\n",
              "      <th>BLOCK</th>\n",
              "      <th>LOT</th>\n",
              "      <th>EASE-MENT</th>\n",
              "      <th>BUILDING_CLASS_AT_PRESENT</th>\n",
              "      <th>ADDRESS</th>\n",
              "      <th>APARTMENT_NUMBER</th>\n",
              "      <th>ZIP_CODE</th>\n",
              "      <th>RESIDENTIAL_UNITS</th>\n",
              "      <th>COMMERCIAL_UNITS</th>\n",
              "      <th>TOTAL_UNITS</th>\n",
              "      <th>LAND_SQUARE_FEET</th>\n",
              "      <th>GROSS_SQUARE_FEET</th>\n",
              "      <th>YEAR_BUILT</th>\n",
              "      <th>TAX_CLASS_AT_TIME_OF_SALE</th>\n",
              "      <th>BUILDING_CLASS_AT_TIME_OF_SALE</th>\n",
              "      <th>SALE_PRICE</th>\n",
              "      <th>SALE_DATE</th>\n",
              "    </tr>\n",
              "  </thead>\n",
              "  <tbody>\n",
              "    <tr>\n",
              "      <th>0</th>\n",
              "      <td>1</td>\n",
              "      <td>OTHER</td>\n",
              "      <td>13 CONDOS - ELEVATOR APARTMENTS</td>\n",
              "      <td>2</td>\n",
              "      <td>716</td>\n",
              "      <td>1246</td>\n",
              "      <td>NaN</td>\n",
              "      <td>R4</td>\n",
              "      <td>447 WEST 18TH STREET, PH12A</td>\n",
              "      <td>PH12A</td>\n",
              "      <td>10011.0</td>\n",
              "      <td>1.0</td>\n",
              "      <td>0.0</td>\n",
              "      <td>1.0</td>\n",
              "      <td>10,733</td>\n",
              "      <td>1979.0</td>\n",
              "      <td>2007.0</td>\n",
              "      <td>2</td>\n",
              "      <td>R4</td>\n",
              "      <td>0</td>\n",
              "      <td>01/01/2019</td>\n",
              "    </tr>\n",
              "    <tr>\n",
              "      <th>1</th>\n",
              "      <td>1</td>\n",
              "      <td>OTHER</td>\n",
              "      <td>21 OFFICE BUILDINGS</td>\n",
              "      <td>4</td>\n",
              "      <td>812</td>\n",
              "      <td>68</td>\n",
              "      <td>NaN</td>\n",
              "      <td>O5</td>\n",
              "      <td>144 WEST 37TH STREET</td>\n",
              "      <td>NaN</td>\n",
              "      <td>10018.0</td>\n",
              "      <td>0.0</td>\n",
              "      <td>6.0</td>\n",
              "      <td>6.0</td>\n",
              "      <td>2,962</td>\n",
              "      <td>15435.0</td>\n",
              "      <td>1920.0</td>\n",
              "      <td>4</td>\n",
              "      <td>O5</td>\n",
              "      <td>0</td>\n",
              "      <td>01/01/2019</td>\n",
              "    </tr>\n",
              "    <tr>\n",
              "      <th>2</th>\n",
              "      <td>1</td>\n",
              "      <td>OTHER</td>\n",
              "      <td>21 OFFICE BUILDINGS</td>\n",
              "      <td>4</td>\n",
              "      <td>839</td>\n",
              "      <td>69</td>\n",
              "      <td>NaN</td>\n",
              "      <td>O5</td>\n",
              "      <td>40 WEST 38TH STREET</td>\n",
              "      <td>NaN</td>\n",
              "      <td>10018.0</td>\n",
              "      <td>0.0</td>\n",
              "      <td>7.0</td>\n",
              "      <td>7.0</td>\n",
              "      <td>2,074</td>\n",
              "      <td>11332.0</td>\n",
              "      <td>1930.0</td>\n",
              "      <td>4</td>\n",
              "      <td>O5</td>\n",
              "      <td>0</td>\n",
              "      <td>01/01/2019</td>\n",
              "    </tr>\n",
              "    <tr>\n",
              "      <th>3</th>\n",
              "      <td>1</td>\n",
              "      <td>OTHER</td>\n",
              "      <td>13 CONDOS - ELEVATOR APARTMENTS</td>\n",
              "      <td>2</td>\n",
              "      <td>592</td>\n",
              "      <td>1041</td>\n",
              "      <td>NaN</td>\n",
              "      <td>R4</td>\n",
              "      <td>1 SHERIDAN SQUARE, 8C</td>\n",
              "      <td>8C</td>\n",
              "      <td>10014.0</td>\n",
              "      <td>1.0</td>\n",
              "      <td>0.0</td>\n",
              "      <td>1.0</td>\n",
              "      <td>0</td>\n",
              "      <td>500.0</td>\n",
              "      <td>0.0</td>\n",
              "      <td>2</td>\n",
              "      <td>R4</td>\n",
              "      <td>0</td>\n",
              "      <td>01/01/2019</td>\n",
              "    </tr>\n",
              "    <tr>\n",
              "      <th>4</th>\n",
              "      <td>1</td>\n",
              "      <td>UPPER EAST SIDE (59-79)</td>\n",
              "      <td>15 CONDOS - 2-10 UNIT RESIDENTIAL</td>\n",
              "      <td>2C</td>\n",
              "      <td>1379</td>\n",
              "      <td>1402</td>\n",
              "      <td>NaN</td>\n",
              "      <td>R1</td>\n",
              "      <td>20 EAST 65TH STREET, B</td>\n",
              "      <td>B</td>\n",
              "      <td>10065.0</td>\n",
              "      <td>1.0</td>\n",
              "      <td>0.0</td>\n",
              "      <td>1.0</td>\n",
              "      <td>0</td>\n",
              "      <td>6406.0</td>\n",
              "      <td>0.0</td>\n",
              "      <td>2</td>\n",
              "      <td>R1</td>\n",
              "      <td>0</td>\n",
              "      <td>01/01/2019</td>\n",
              "    </tr>\n",
              "  </tbody>\n",
              "</table>\n",
              "</div>"
            ],
            "text/plain": [
              "  BOROUGH             NEIGHBORHOOD  ... SALE_PRICE   SALE_DATE\n",
              "0       1                    OTHER  ...          0  01/01/2019\n",
              "1       1                    OTHER  ...          0  01/01/2019\n",
              "2       1                    OTHER  ...          0  01/01/2019\n",
              "3       1                    OTHER  ...          0  01/01/2019\n",
              "4       1  UPPER EAST SIDE (59-79)  ...          0  01/01/2019\n",
              "\n",
              "[5 rows x 21 columns]"
            ]
          },
          "metadata": {
            "tags": []
          },
          "execution_count": 75
        }
      ]
    },
    {
      "cell_type": "code",
      "metadata": {
        "id": "hhJQDyCPPttf",
        "colab_type": "code",
        "colab": {}
      },
      "source": [
        "#Okay subsetting data.\n",
        "#Doing a copy, because I'm going to use inplace later\n",
        "#so first splitting to single family dwellings\n",
        "subset = df[df['BUILDING_CLASS_CATEGORY'] == '01 ONE FAMILY DWELLINGS'].copy()\n",
        "\n",
        "#next price is 100,000 > 2,000,000\n",
        "#lets try it with queries now\n",
        "subset.query('SALE_PRICE > 100000', inplace = True)\n",
        "subset.query('SALE_PRICE < 2000000', inplace = True)"
      ],
      "execution_count": 0,
      "outputs": []
    },
    {
      "cell_type": "code",
      "metadata": {
        "id": "JV-v7XvwRdaK",
        "colab_type": "code",
        "colab": {
          "base_uri": "https://localhost:8080/",
          "height": 102
        },
        "outputId": "9327a798-e4e4-4115-ac42-9ee88fc00d50"
      },
      "source": [
        "#Just verifying I properly subset my data\n",
        "print(subset.shape)\n",
        "print(subset['SALE_PRICE'].min())\n",
        "print(subset['SALE_PRICE'].max())\n",
        "subset['BUILDING_CLASS_CATEGORY'].value_counts()"
      ],
      "execution_count": 77,
      "outputs": [
        {
          "output_type": "stream",
          "text": [
            "(3151, 21)\n",
            "104000\n",
            "1955000\n"
          ],
          "name": "stdout"
        },
        {
          "output_type": "execute_result",
          "data": {
            "text/plain": [
              "01 ONE FAMILY DWELLINGS    3151\n",
              "Name: BUILDING_CLASS_CATEGORY, dtype: int64"
            ]
          },
          "metadata": {
            "tags": []
          },
          "execution_count": 77
        }
      ]
    },
    {
      "cell_type": "code",
      "metadata": {
        "id": "FdI4mlXlaDGy",
        "colab_type": "code",
        "colab": {
          "base_uri": "https://localhost:8080/",
          "height": 391
        },
        "outputId": "49af4477-7ef8-4d6d-b8be-2fc11156f3b8"
      },
      "source": [
        "#I should check for nans\n",
        "subset.isnull().sum()"
      ],
      "execution_count": 78,
      "outputs": [
        {
          "output_type": "execute_result",
          "data": {
            "text/plain": [
              "BOROUGH                              0\n",
              "NEIGHBORHOOD                         0\n",
              "BUILDING_CLASS_CATEGORY              0\n",
              "TAX_CLASS_AT_PRESENT                 0\n",
              "BLOCK                                0\n",
              "LOT                                  0\n",
              "EASE-MENT                         3151\n",
              "BUILDING_CLASS_AT_PRESENT            0\n",
              "ADDRESS                              0\n",
              "APARTMENT_NUMBER                  3150\n",
              "ZIP_CODE                             0\n",
              "RESIDENTIAL_UNITS                    0\n",
              "COMMERCIAL_UNITS                     0\n",
              "TOTAL_UNITS                          0\n",
              "LAND_SQUARE_FEET                     0\n",
              "GROSS_SQUARE_FEET                    0\n",
              "YEAR_BUILT                           0\n",
              "TAX_CLASS_AT_TIME_OF_SALE            0\n",
              "BUILDING_CLASS_AT_TIME_OF_SALE       0\n",
              "SALE_PRICE                           0\n",
              "SALE_DATE                            0\n",
              "dtype: int64"
            ]
          },
          "metadata": {
            "tags": []
          },
          "execution_count": 78
        }
      ]
    },
    {
      "cell_type": "code",
      "metadata": {
        "id": "nd5cYuJmaNPH",
        "colab_type": "code",
        "colab": {
          "base_uri": "https://localhost:8080/",
          "height": 374
        },
        "outputId": "97d6f8e4-d844-4194-d79a-21429a6a5221"
      },
      "source": [
        "#Okay, easment is a garbage column so I can drop that, and apartment is more or\n",
        "#less a garbage column with only one value.  So lets just kill those.\n",
        "subset.drop(['EASE-MENT', 'APARTMENT_NUMBER'], axis = 1, inplace = True)\n",
        "print(subset.shape)\n",
        "subset.isnull().sum()"
      ],
      "execution_count": 79,
      "outputs": [
        {
          "output_type": "stream",
          "text": [
            "(3151, 19)\n"
          ],
          "name": "stdout"
        },
        {
          "output_type": "execute_result",
          "data": {
            "text/plain": [
              "BOROUGH                           0\n",
              "NEIGHBORHOOD                      0\n",
              "BUILDING_CLASS_CATEGORY           0\n",
              "TAX_CLASS_AT_PRESENT              0\n",
              "BLOCK                             0\n",
              "LOT                               0\n",
              "BUILDING_CLASS_AT_PRESENT         0\n",
              "ADDRESS                           0\n",
              "ZIP_CODE                          0\n",
              "RESIDENTIAL_UNITS                 0\n",
              "COMMERCIAL_UNITS                  0\n",
              "TOTAL_UNITS                       0\n",
              "LAND_SQUARE_FEET                  0\n",
              "GROSS_SQUARE_FEET                 0\n",
              "YEAR_BUILT                        0\n",
              "TAX_CLASS_AT_TIME_OF_SALE         0\n",
              "BUILDING_CLASS_AT_TIME_OF_SALE    0\n",
              "SALE_PRICE                        0\n",
              "SALE_DATE                         0\n",
              "dtype: int64"
            ]
          },
          "metadata": {
            "tags": []
          },
          "execution_count": 79
        }
      ]
    },
    {
      "cell_type": "code",
      "metadata": {
        "id": "udwxj5irSl5y",
        "colab_type": "code",
        "colab": {
          "base_uri": "https://localhost:8080/",
          "height": 51
        },
        "outputId": "7019b752-cb66-4260-b5da-e860da7cbaad"
      },
      "source": [
        "#turning sale date into datetime object for better analysis\n",
        "subset['DATE_TIME'] = pd.to_datetime(subset['SALE_DATE'])\n",
        "print(subset['DATE_TIME'].min())\n",
        "print(subset['DATE_TIME'].max())"
      ],
      "execution_count": 80,
      "outputs": [
        {
          "output_type": "stream",
          "text": [
            "2019-01-01 00:00:00\n",
            "2019-04-30 00:00:00\n"
          ],
          "name": "stdout"
        }
      ]
    },
    {
      "cell_type": "code",
      "metadata": {
        "id": "a3dKGQGYVdyN",
        "colab_type": "code",
        "colab": {}
      },
      "source": [
        "#okay easy enough, just split on the first of april\n",
        "train = subset[subset['DATE_TIME'] < pd.Timestamp('04/01/2019')]\n",
        "test = subset[subset['DATE_TIME'] >= pd.Timestamp('04/01/2019')]"
      ],
      "execution_count": 0,
      "outputs": []
    },
    {
      "cell_type": "code",
      "metadata": {
        "id": "LuawyEzgWRY2",
        "colab_type": "code",
        "colab": {
          "base_uri": "https://localhost:8080/",
          "height": 153
        },
        "outputId": "a03f5689-98f4-4e68-b37f-5894e47a0b07"
      },
      "source": [
        "print(train.shape)\n",
        "train['DATE_TIME'].describe()"
      ],
      "execution_count": 82,
      "outputs": [
        {
          "output_type": "stream",
          "text": [
            "(2507, 20)\n"
          ],
          "name": "stdout"
        },
        {
          "output_type": "execute_result",
          "data": {
            "text/plain": [
              "count                    2507\n",
              "unique                     68\n",
              "top       2019-01-31 00:00:00\n",
              "freq                       78\n",
              "first     2019-01-01 00:00:00\n",
              "last      2019-03-30 00:00:00\n",
              "Name: DATE_TIME, dtype: object"
            ]
          },
          "metadata": {
            "tags": []
          },
          "execution_count": 82
        }
      ]
    },
    {
      "cell_type": "code",
      "metadata": {
        "id": "pYQbpOUHXpCc",
        "colab_type": "code",
        "colab": {
          "base_uri": "https://localhost:8080/",
          "height": 153
        },
        "outputId": "258bc575-cf7a-4ad4-bfcf-3596b347b61b"
      },
      "source": [
        "print(test.shape)\n",
        "test['DATE_TIME'].describe()"
      ],
      "execution_count": 83,
      "outputs": [
        {
          "output_type": "stream",
          "text": [
            "(644, 20)\n"
          ],
          "name": "stdout"
        },
        {
          "output_type": "execute_result",
          "data": {
            "text/plain": [
              "count                     644\n",
              "unique                     23\n",
              "top       2019-04-15 00:00:00\n",
              "freq                       43\n",
              "first     2019-04-01 00:00:00\n",
              "last      2019-04-30 00:00:00\n",
              "Name: DATE_TIME, dtype: object"
            ]
          },
          "metadata": {
            "tags": []
          },
          "execution_count": 83
        }
      ]
    },
    {
      "cell_type": "code",
      "metadata": {
        "id": "81wldTajleLd",
        "colab_type": "code",
        "colab": {
          "base_uri": "https://localhost:8080/",
          "height": 309
        },
        "outputId": "3620422e-a023-44d1-c686-b84729055320"
      },
      "source": [
        "#okay looks like training and testing sets are split like I wanted them to\n",
        "#next I need to drop a few non-categorical columns for the actual training sets\n",
        "#otherwise I get some wacky OneHotEncoding (like a category for every date\n",
        "#in the data set).  \n",
        "\n",
        "#So first lets just eyeball it and drop anything that I know will be a problem\n",
        "subset.head()"
      ],
      "execution_count": 89,
      "outputs": [
        {
          "output_type": "execute_result",
          "data": {
            "text/html": [
              "<div>\n",
              "<style scoped>\n",
              "    .dataframe tbody tr th:only-of-type {\n",
              "        vertical-align: middle;\n",
              "    }\n",
              "\n",
              "    .dataframe tbody tr th {\n",
              "        vertical-align: top;\n",
              "    }\n",
              "\n",
              "    .dataframe thead th {\n",
              "        text-align: right;\n",
              "    }\n",
              "</style>\n",
              "<table border=\"1\" class=\"dataframe\">\n",
              "  <thead>\n",
              "    <tr style=\"text-align: right;\">\n",
              "      <th></th>\n",
              "      <th>BOROUGH</th>\n",
              "      <th>NEIGHBORHOOD</th>\n",
              "      <th>BUILDING_CLASS_CATEGORY</th>\n",
              "      <th>TAX_CLASS_AT_PRESENT</th>\n",
              "      <th>BLOCK</th>\n",
              "      <th>LOT</th>\n",
              "      <th>BUILDING_CLASS_AT_PRESENT</th>\n",
              "      <th>ADDRESS</th>\n",
              "      <th>ZIP_CODE</th>\n",
              "      <th>RESIDENTIAL_UNITS</th>\n",
              "      <th>COMMERCIAL_UNITS</th>\n",
              "      <th>TOTAL_UNITS</th>\n",
              "      <th>LAND_SQUARE_FEET</th>\n",
              "      <th>GROSS_SQUARE_FEET</th>\n",
              "      <th>YEAR_BUILT</th>\n",
              "      <th>TAX_CLASS_AT_TIME_OF_SALE</th>\n",
              "      <th>BUILDING_CLASS_AT_TIME_OF_SALE</th>\n",
              "      <th>SALE_PRICE</th>\n",
              "      <th>SALE_DATE</th>\n",
              "      <th>DATE_TIME</th>\n",
              "    </tr>\n",
              "  </thead>\n",
              "  <tbody>\n",
              "    <tr>\n",
              "      <th>44</th>\n",
              "      <td>3</td>\n",
              "      <td>OTHER</td>\n",
              "      <td>01 ONE FAMILY DWELLINGS</td>\n",
              "      <td>1</td>\n",
              "      <td>5495</td>\n",
              "      <td>801</td>\n",
              "      <td>A9</td>\n",
              "      <td>4832 BAY PARKWAY</td>\n",
              "      <td>11230.0</td>\n",
              "      <td>1.0</td>\n",
              "      <td>0.0</td>\n",
              "      <td>1.0</td>\n",
              "      <td>6,800</td>\n",
              "      <td>1325.0</td>\n",
              "      <td>1930.0</td>\n",
              "      <td>1</td>\n",
              "      <td>A9</td>\n",
              "      <td>550000</td>\n",
              "      <td>01/01/2019</td>\n",
              "      <td>2019-01-01</td>\n",
              "    </tr>\n",
              "    <tr>\n",
              "      <th>61</th>\n",
              "      <td>4</td>\n",
              "      <td>OTHER</td>\n",
              "      <td>01 ONE FAMILY DWELLINGS</td>\n",
              "      <td>1</td>\n",
              "      <td>7918</td>\n",
              "      <td>72</td>\n",
              "      <td>A1</td>\n",
              "      <td>80-23 232ND STREET</td>\n",
              "      <td>11427.0</td>\n",
              "      <td>1.0</td>\n",
              "      <td>0.0</td>\n",
              "      <td>1.0</td>\n",
              "      <td>4,000</td>\n",
              "      <td>2001.0</td>\n",
              "      <td>1940.0</td>\n",
              "      <td>1</td>\n",
              "      <td>A1</td>\n",
              "      <td>200000</td>\n",
              "      <td>01/01/2019</td>\n",
              "      <td>2019-01-01</td>\n",
              "    </tr>\n",
              "    <tr>\n",
              "      <th>78</th>\n",
              "      <td>2</td>\n",
              "      <td>OTHER</td>\n",
              "      <td>01 ONE FAMILY DWELLINGS</td>\n",
              "      <td>1</td>\n",
              "      <td>4210</td>\n",
              "      <td>19</td>\n",
              "      <td>A1</td>\n",
              "      <td>1260 RHINELANDER AVE</td>\n",
              "      <td>10461.0</td>\n",
              "      <td>1.0</td>\n",
              "      <td>0.0</td>\n",
              "      <td>1.0</td>\n",
              "      <td>3,500</td>\n",
              "      <td>2043.0</td>\n",
              "      <td>1925.0</td>\n",
              "      <td>1</td>\n",
              "      <td>A1</td>\n",
              "      <td>810000</td>\n",
              "      <td>01/02/2019</td>\n",
              "      <td>2019-01-02</td>\n",
              "    </tr>\n",
              "    <tr>\n",
              "      <th>108</th>\n",
              "      <td>3</td>\n",
              "      <td>OTHER</td>\n",
              "      <td>01 ONE FAMILY DWELLINGS</td>\n",
              "      <td>1</td>\n",
              "      <td>5212</td>\n",
              "      <td>69</td>\n",
              "      <td>A1</td>\n",
              "      <td>469 E 25TH ST</td>\n",
              "      <td>11226.0</td>\n",
              "      <td>1.0</td>\n",
              "      <td>0.0</td>\n",
              "      <td>1.0</td>\n",
              "      <td>4,000</td>\n",
              "      <td>2680.0</td>\n",
              "      <td>1899.0</td>\n",
              "      <td>1</td>\n",
              "      <td>A1</td>\n",
              "      <td>125000</td>\n",
              "      <td>01/02/2019</td>\n",
              "      <td>2019-01-02</td>\n",
              "    </tr>\n",
              "    <tr>\n",
              "      <th>111</th>\n",
              "      <td>3</td>\n",
              "      <td>OTHER</td>\n",
              "      <td>01 ONE FAMILY DWELLINGS</td>\n",
              "      <td>1</td>\n",
              "      <td>7930</td>\n",
              "      <td>121</td>\n",
              "      <td>A5</td>\n",
              "      <td>5521 WHITTY LANE</td>\n",
              "      <td>11203.0</td>\n",
              "      <td>1.0</td>\n",
              "      <td>0.0</td>\n",
              "      <td>1.0</td>\n",
              "      <td>1,710</td>\n",
              "      <td>1872.0</td>\n",
              "      <td>1940.0</td>\n",
              "      <td>1</td>\n",
              "      <td>A5</td>\n",
              "      <td>620000</td>\n",
              "      <td>01/02/2019</td>\n",
              "      <td>2019-01-02</td>\n",
              "    </tr>\n",
              "  </tbody>\n",
              "</table>\n",
              "</div>"
            ],
            "text/plain": [
              "    BOROUGH NEIGHBORHOOD  ...   SALE_DATE  DATE_TIME\n",
              "44        3        OTHER  ...  01/01/2019 2019-01-01\n",
              "61        4        OTHER  ...  01/01/2019 2019-01-01\n",
              "78        2        OTHER  ...  01/02/2019 2019-01-02\n",
              "108       3        OTHER  ...  01/02/2019 2019-01-02\n",
              "111       3        OTHER  ...  01/02/2019 2019-01-02\n",
              "\n",
              "[5 rows x 20 columns]"
            ]
          },
          "metadata": {
            "tags": []
          },
          "execution_count": 89
        }
      ]
    },
    {
      "cell_type": "code",
      "metadata": {
        "id": "wF-A0CjazobZ",
        "colab_type": "code",
        "colab": {
          "base_uri": "https://localhost:8080/",
          "height": 1000
        },
        "outputId": "713e1d27-0c64-4b84-8a99-435e78609988"
      },
      "source": [
        "#trying to identify high cardinality features\n",
        "for column in subset.columns:\n",
        "  print(subset[column].value_counts())"
      ],
      "execution_count": 91,
      "outputs": [
        {
          "output_type": "stream",
          "text": [
            "4    1580\n",
            "5     738\n",
            "3     537\n",
            "2     293\n",
            "1       3\n",
            "Name: BOROUGH, dtype: int64\n",
            "OTHER                 2990\n",
            "FLUSHING-NORTH          97\n",
            "FOREST HILLS            22\n",
            "BOROUGH PARK            19\n",
            "ASTORIA                 14\n",
            "BEDFORD STUYVESANT       9\n",
            "Name: NEIGHBORHOOD, dtype: int64\n",
            "01 ONE FAMILY DWELLINGS    3151\n",
            "Name: BUILDING_CLASS_CATEGORY, dtype: int64\n",
            "1     3111\n",
            "1D      40\n",
            "Name: TAX_CLASS_AT_PRESENT, dtype: int64\n",
            "16350    21\n",
            "1272      7\n",
            "5506      6\n",
            "6022      6\n",
            "5735      6\n",
            "         ..\n",
            "569       1\n",
            "4667      1\n",
            "5730      1\n",
            "6720      1\n",
            "6145      1\n",
            "Name: BLOCK, Length: 2496, dtype: int64\n",
            "20      58\n",
            "19      56\n",
            "1       53\n",
            "31      47\n",
            "40      46\n",
            "        ..\n",
            "556      1\n",
            "554      1\n",
            "488      1\n",
            "484      1\n",
            "1200     1\n",
            "Name: LOT, Length: 332, dtype: int64\n",
            "A1    1185\n",
            "A5     985\n",
            "A2     491\n",
            "A9     239\n",
            "A0      85\n",
            "S1      48\n",
            "A3      43\n",
            "A8      40\n",
            "A4      16\n",
            "A6      15\n",
            "B2       2\n",
            "B3       1\n",
            "S0       1\n",
            "Name: BUILDING_CLASS_AT_PRESENT, dtype: int64\n",
            "33 BAILEY PLACE              2\n",
            "216-29 114TH ROAD            2\n",
            "118-20 202ND STREET          2\n",
            "117-45 125TH STREET          2\n",
            "130-52 LEFFERTS BOULEVARD    2\n",
            "                            ..\n",
            "2215 UNIVERSITY AVE          1\n",
            "124 PELICAN CIRCLE           1\n",
            "274 DAVIS AVENUE             1\n",
            "40 LOTT LANE                 1\n",
            "243-15 145TH AVENUE          1\n",
            "Name: ADDRESS, Length: 3135, dtype: int64\n",
            "10306.0    127\n",
            "10312.0    124\n",
            "10314.0    113\n",
            "11434.0    100\n",
            "11234.0     90\n",
            "          ... \n",
            "11220.0      1\n",
            "10459.0      1\n",
            "11238.0      1\n",
            "11102.0      1\n",
            "11217.0      1\n",
            "Name: ZIP_CODE, Length: 125, dtype: int64\n",
            "1.0    3110\n",
            "0.0      40\n",
            "2.0       1\n",
            "Name: RESIDENTIAL_UNITS, dtype: int64\n",
            "0.0    3102\n",
            "1.0      48\n",
            "2.0       1\n",
            "Name: COMMERCIAL_UNITS, dtype: int64\n",
            "1.0    3061\n",
            "2.0      49\n",
            "0.0      40\n",
            "3.0       1\n",
            "Name: TOTAL_UNITS, dtype: int64\n",
            "4,000    289\n",
            "2,000    239\n",
            "2,500    196\n",
            "1,800    130\n",
            "3,000    111\n",
            "        ... \n",
            "1,992      1\n",
            "2,402      1\n",
            "5,994      1\n",
            "3,915      1\n",
            "9,164      1\n",
            "Name: LAND_SQUARE_FEET, Length: 1035, dtype: int64\n",
            "1440.0    47\n",
            "1296.0    40\n",
            "0.0       40\n",
            "1280.0    39\n",
            "1200.0    36\n",
            "          ..\n",
            "1317.0     1\n",
            "2572.0     1\n",
            "2852.0     1\n",
            "2165.0     1\n",
            "3229.0     1\n",
            "Name: GROSS_SQUARE_FEET, Length: 1050, dtype: int64\n",
            "1920.0    382\n",
            "1925.0    374\n",
            "1930.0    339\n",
            "1950.0    265\n",
            "1940.0    242\n",
            "         ... \n",
            "1937.0      1\n",
            "1890.0      1\n",
            "1941.0      1\n",
            "1928.0      1\n",
            "1927.0      1\n",
            "Name: YEAR_BUILT, Length: 89, dtype: int64\n",
            "1    3151\n",
            "Name: TAX_CLASS_AT_TIME_OF_SALE, dtype: int64\n",
            "A1    1186\n",
            "A5     985\n",
            "A2     493\n",
            "A9     239\n",
            "A0      85\n",
            "S1      48\n",
            "A3      43\n",
            "A8      40\n",
            "A4      16\n",
            "A6      15\n",
            "S0       1\n",
            "Name: BUILDING_CLASS_AT_TIME_OF_SALE, dtype: int64\n",
            "500000    48\n",
            "550000    43\n",
            "450000    40\n",
            "525000    40\n",
            "650000    36\n",
            "          ..\n",
            "413000     1\n",
            "672045     1\n",
            "457000     1\n",
            "608550     1\n",
            "727000     1\n",
            "Name: SALE_PRICE, Length: 1000, dtype: int64\n",
            "01/31/2019    78\n",
            "03/29/2019    62\n",
            "02/28/2019    58\n",
            "01/15/2019    57\n",
            "01/24/2019    56\n",
            "              ..\n",
            "03/09/2019     1\n",
            "03/30/2019     1\n",
            "02/17/2019     1\n",
            "04/14/2019     1\n",
            "03/17/2019     1\n",
            "Name: SALE_DATE, Length: 91, dtype: int64\n",
            "2019-01-31    78\n",
            "2019-03-29    62\n",
            "2019-02-28    58\n",
            "2019-01-15    57\n",
            "2019-01-24    56\n",
            "              ..\n",
            "2019-03-17     1\n",
            "2019-03-30     1\n",
            "2019-03-09     1\n",
            "2019-02-17     1\n",
            "2019-04-14     1\n",
            "Name: DATE_TIME, Length: 91, dtype: int64\n"
          ],
          "name": "stdout"
        }
      ]
    },
    {
      "cell_type": "code",
      "metadata": {
        "id": "bIaDMYAKZXfq",
        "colab_type": "code",
        "colab": {
          "base_uri": "https://localhost:8080/",
          "height": 221
        },
        "outputId": "50312440-247c-4692-e1af-aa26d2109454"
      },
      "source": [
        "#removing all high cardinality columns, and YEAR_BUILT because it only has one\n",
        "#value thus is meaningless. I left zipcode and year built in, because IDK they\n",
        "#seem like they might actually be interesting categories, and they aren't HUGE\n",
        "#but I might regret that.\n",
        "to_drop = ['ADDRESS', 'SALE_DATE', 'DATE_TIME', 'SALE_PRICE', 'YEAR_BUILT', \n",
        "           'GROSS_SQUARE_FEET', 'LAND_SQUARE_FEET', 'LOT', 'BLOCK']\n",
        "\n",
        "#lets do these before we drop sales prices\n",
        "y_train = train['SALE_PRICE']\n",
        "y_test = test['SALE_PRICE']\n",
        "\n",
        "\n",
        "X_train = train.drop(to_drop, axis = 1)\n",
        "X_test = test.drop(to_drop, axis = 1)\n",
        "\n",
        "print(X_train.shape)\n",
        "print(X_train.columns)\n",
        "print(X_test.shape)\n",
        "print(X_test.columns)"
      ],
      "execution_count": 101,
      "outputs": [
        {
          "output_type": "stream",
          "text": [
            "(2507, 11)\n",
            "Index(['BOROUGH', 'NEIGHBORHOOD', 'BUILDING_CLASS_CATEGORY',\n",
            "       'TAX_CLASS_AT_PRESENT', 'BUILDING_CLASS_AT_PRESENT', 'ZIP_CODE',\n",
            "       'RESIDENTIAL_UNITS', 'COMMERCIAL_UNITS', 'TOTAL_UNITS',\n",
            "       'TAX_CLASS_AT_TIME_OF_SALE', 'BUILDING_CLASS_AT_TIME_OF_SALE'],\n",
            "      dtype='object')\n",
            "(644, 11)\n",
            "Index(['BOROUGH', 'NEIGHBORHOOD', 'BUILDING_CLASS_CATEGORY',\n",
            "       'TAX_CLASS_AT_PRESENT', 'BUILDING_CLASS_AT_PRESENT', 'ZIP_CODE',\n",
            "       'RESIDENTIAL_UNITS', 'COMMERCIAL_UNITS', 'TOTAL_UNITS',\n",
            "       'TAX_CLASS_AT_TIME_OF_SALE', 'BUILDING_CLASS_AT_TIME_OF_SALE'],\n",
            "      dtype='object')\n"
          ],
          "name": "stdout"
        }
      ]
    },
    {
      "cell_type": "code",
      "metadata": {
        "id": "vIADmzMwc57y",
        "colab_type": "code",
        "colab": {
          "base_uri": "https://localhost:8080/",
          "height": 51
        },
        "outputId": "85ab6078-f8b7-4705-ff33-3adab1ba2213"
      },
      "source": [
        "#looking good, lets go ahead and encode\n",
        "import category_encoders as ce\n",
        "\n",
        "encoder = ce.OneHotEncoder(use_cat_names = True)\n",
        "X_train = encoder.fit_transform(X_train)\n",
        "X_test = encoder.transform(X_test)\n",
        "\n",
        "print(X_train.shape)\n",
        "print(X_test.shape)"
      ],
      "execution_count": 102,
      "outputs": [
        {
          "output_type": "stream",
          "text": [
            "(2507, 43)\n",
            "(644, 43)\n"
          ],
          "name": "stdout"
        }
      ]
    },
    {
      "cell_type": "code",
      "metadata": {
        "id": "SAr1jOOT54dE",
        "colab_type": "code",
        "colab": {
          "base_uri": "https://localhost:8080/",
          "height": 765
        },
        "outputId": "b94ad0c6-1467-4bbd-a5ab-64286fa61f09"
      },
      "source": [
        "#Now I'm checking for anything with a STD of 0.  Because it means that all rows\n",
        "#in the dataset, have the exact same value (no deviation from the mean) and are\n",
        "#useless for evaluation.  This step is particularly important for SelectKBest\n",
        "#which will throw warnings for anything with a 0 std.\n",
        "X_train.std()"
      ],
      "execution_count": 110,
      "outputs": [
        {
          "output_type": "execute_result",
          "data": {
            "text/plain": [
              "BOROUGH_3                                            0.365521\n",
              "BOROUGH_4                                            0.499710\n",
              "BOROUGH_2                                            0.295375\n",
              "BOROUGH_5                                            0.440920\n",
              "BOROUGH_1                                            0.019972\n",
              "NEIGHBORHOOD_OTHER                                   0.217700\n",
              "NEIGHBORHOOD_FLUSHING-NORTH                          0.172576\n",
              "NEIGHBORHOOD_BEDFORD STUYVESANT                      0.056411\n",
              "NEIGHBORHOOD_FOREST HILLS                            0.082084\n",
              "NEIGHBORHOOD_BOROUGH PARK                            0.069033\n",
              "NEIGHBORHOOD_ASTORIA                                 0.066108\n",
              "BUILDING_CLASS_CATEGORY_01 ONE FAMILY DWELLINGS      0.000000\n",
              "TAX_CLASS_AT_PRESENT_1                               0.110532\n",
              "TAX_CLASS_AT_PRESENT_1D                              0.110532\n",
              "BUILDING_CLASS_AT_PRESENT_A9                         0.266620\n",
              "BUILDING_CLASS_AT_PRESENT_A1                         0.481965\n",
              "BUILDING_CLASS_AT_PRESENT_A5                         0.462885\n",
              "BUILDING_CLASS_AT_PRESENT_A0                         0.161311\n",
              "BUILDING_CLASS_AT_PRESENT_A2                         0.370296\n",
              "BUILDING_CLASS_AT_PRESENT_A3                         0.122204\n",
              "BUILDING_CLASS_AT_PRESENT_S1                         0.123776\n",
              "BUILDING_CLASS_AT_PRESENT_A4                         0.071838\n",
              "BUILDING_CLASS_AT_PRESENT_A6                         0.074535\n",
              "BUILDING_CLASS_AT_PRESENT_A8                         0.110532\n",
              "BUILDING_CLASS_AT_PRESENT_B2                         0.019972\n",
              "BUILDING_CLASS_AT_PRESENT_S0                         0.019972\n",
              "BUILDING_CLASS_AT_PRESENT_B3                         0.019972\n",
              "ZIP_CODE                                           494.291462\n",
              "RESIDENTIAL_UNITS                                    0.110532\n",
              "COMMERCIAL_UNITS                                     0.129966\n",
              "TOTAL_UNITS                                          0.171794\n",
              "TAX_CLASS_AT_TIME_OF_SALE                            0.000000\n",
              "BUILDING_CLASS_AT_TIME_OF_SALE_A9                    0.266620\n",
              "BUILDING_CLASS_AT_TIME_OF_SALE_A1                    0.481965\n",
              "BUILDING_CLASS_AT_TIME_OF_SALE_A5                    0.462885\n",
              "BUILDING_CLASS_AT_TIME_OF_SALE_A0                    0.161311\n",
              "BUILDING_CLASS_AT_TIME_OF_SALE_A2                    0.371019\n",
              "BUILDING_CLASS_AT_TIME_OF_SALE_A3                    0.122204\n",
              "BUILDING_CLASS_AT_TIME_OF_SALE_S1                    0.123776\n",
              "BUILDING_CLASS_AT_TIME_OF_SALE_A4                    0.071838\n",
              "BUILDING_CLASS_AT_TIME_OF_SALE_A6                    0.074535\n",
              "BUILDING_CLASS_AT_TIME_OF_SALE_A8                    0.110532\n",
              "BUILDING_CLASS_AT_TIME_OF_SALE_S0                    0.019972\n",
              "dtype: float64"
            ]
          },
          "metadata": {
            "tags": []
          },
          "execution_count": 110
        }
      ]
    },
    {
      "cell_type": "code",
      "metadata": {
        "id": "m88PHVRF74y1",
        "colab_type": "code",
        "colab": {
          "base_uri": "https://localhost:8080/",
          "height": 34
        },
        "outputId": "a8f95175-9054-498e-a67b-07eea13106a5"
      },
      "source": [
        "#Dropping the following for having 0 std, which means every value in the column\n",
        "#is the same, and not useful for analysis.\n",
        "\n",
        "std_0 = ['BUILDING_CLASS_CATEGORY_01 ONE FAMILY DWELLINGS', \n",
        "         'TAX_CLASS_AT_TIME_OF_SALE']\n",
        "\n",
        "X_train.drop(std_0, axis = 1, inplace = True)\n",
        "X_test.drop(std_0, axis = 1, inplace = True)\n",
        "X_train.shape, X_test.shape"
      ],
      "execution_count": 111,
      "outputs": [
        {
          "output_type": "execute_result",
          "data": {
            "text/plain": [
              "((2507, 41), (644, 41))"
            ]
          },
          "metadata": {
            "tags": []
          },
          "execution_count": 111
        }
      ]
    },
    {
      "cell_type": "code",
      "metadata": {
        "id": "eD38yBB93DhH",
        "colab_type": "code",
        "colab": {
          "base_uri": "https://localhost:8080/",
          "height": 51
        },
        "outputId": "726a9f7b-5d5c-41de-f718-0f7a4b6663fe"
      },
      "source": [
        "#okay lets us SelectKBest to pick 15 features that best correlate with the\n",
        "#target. I selected 15 features as just an arbitrary number.  As a stretch I \n",
        "#will try to select the best set of features with the lowest mae.\n",
        "\n",
        "from sklearn.feature_selection import f_regression, SelectKBest\n",
        "\n",
        "selector = SelectKBest(score_func = f_regression, k = 15)\n",
        "\n",
        "X_train_selected = selector.fit_transform(X_train, y_train)\n",
        "X_test_selected = selector.transform(X_test)\n",
        "\n",
        "print(X_train_selected.shape)\n",
        "print(X_test_selected.shape)"
      ],
      "execution_count": 112,
      "outputs": [
        {
          "output_type": "stream",
          "text": [
            "(2507, 15)\n",
            "(644, 15)\n"
          ],
          "name": "stdout"
        }
      ]
    },
    {
      "cell_type": "code",
      "metadata": {
        "id": "0Vfv0YcH5vDQ",
        "colab_type": "code",
        "colab": {
          "base_uri": "https://localhost:8080/",
          "height": 34
        },
        "outputId": "60f9761e-b273-4f77-a9db-4a71f5cb03f5"
      },
      "source": [
        "from sklearn.linear_model import Ridge\n",
        "from sklearn.metrics import mean_absolute_error\n",
        "\n",
        "model = Ridge(alpha = 10, normalize = True)\n",
        "\n",
        "model.fit(X_train_selected, y_train)\n",
        "\n",
        "y_pred = model.predict(X_test_selected)\n",
        "\n",
        "mae = mean_absolute_error(y_test, y_pred)\n",
        "\n",
        "print('Mean absolute error for my MVP model is: $', mae)"
      ],
      "execution_count": 113,
      "outputs": [
        {
          "output_type": "stream",
          "text": [
            "Mean absolute error for my MVP model is: $ 207069.39660609598\n"
          ],
          "name": "stdout"
        }
      ]
    },
    {
      "cell_type": "markdown",
      "metadata": {
        "id": "Gyh1LzhAA1DL",
        "colab_type": "text"
      },
      "source": [
        "#Stretch goal\n",
        "Find the best combination of features that generates the lowest mae."
      ]
    }
  ]
}