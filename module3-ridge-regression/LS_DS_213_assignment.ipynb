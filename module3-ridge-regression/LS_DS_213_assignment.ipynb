{
  "nbformat": 4,
  "nbformat_minor": 0,
  "metadata": {
    "kernelspec": {
      "display_name": "Python 3",
      "language": "python",
      "name": "python3"
    },
    "language_info": {
      "codemirror_mode": {
        "name": "ipython",
        "version": 3
      },
      "file_extension": ".py",
      "mimetype": "text/x-python",
      "name": "python",
      "nbconvert_exporter": "python",
      "pygments_lexer": "ipython3",
      "version": "3.7.3"
    },
    "colab": {
      "name": "LS_DS_213_assignment.ipynb",
      "provenance": []
    }
  },
  "cells": [
    {
      "cell_type": "markdown",
      "metadata": {
        "id": "oK9HSWudPgAE",
        "colab_type": "text"
      },
      "source": [
        "Lambda School Data Science\n",
        "\n",
        "*Unit 2, Sprint 1, Module 3*\n",
        "\n",
        "---"
      ]
    },
    {
      "cell_type": "markdown",
      "metadata": {
        "colab_type": "text",
        "id": "7IXUfiQ2UKj6"
      },
      "source": [
        "# Ridge Regression\n",
        "\n",
        "## Assignment\n",
        "\n",
        "We're going back to our other **New York City** real estate dataset. Instead of predicting apartment rents, you'll predict property sales prices.\n",
        "\n",
        "But not just for condos in Tribeca...\n",
        "\n",
        "- [ ] Use a subset of the data where `BUILDING_CLASS_CATEGORY` == `'01 ONE FAMILY DWELLINGS'` and the sale price was more than 100 thousand and less than 2 million.\n",
        "- [ ] Do train/test split. Use data from January — March 2019 to train. Use data from April 2019 to test.\n",
        "- [ ] Do one-hot encoding of categorical features.\n",
        "- [ ] Do feature selection with `SelectKBest`.\n",
        "- [ ] Fit a ridge regression model with multiple features. Use the `normalize=True` parameter (or do [feature scaling](https://scikit-learn.org/stable/modules/preprocessing.html) beforehand — use the scaler's `fit_transform` method with the train set, and the scaler's `transform` method with the test set)\n",
        "- [ ] Get mean absolute error for the test set.\n",
        "- [ ] As always, commit your notebook to your fork of the GitHub repo.\n",
        "\n",
        "The [NYC Department of Finance](https://www1.nyc.gov/site/finance/taxes/property-rolling-sales-data.page) has a glossary of property sales terms and NYC Building Class Code Descriptions. The data comes from the [NYC OpenData](https://data.cityofnewyork.us/browse?q=NYC%20calendar%20sales) portal.\n",
        "\n",
        "\n",
        "## Stretch Goals\n",
        "\n",
        "Don't worry, you aren't expected to do all these stretch goals! These are just ideas to consider and choose from.\n",
        "\n",
        "- [ ] Add your own stretch goal(s) !\n",
        "- [ ] Instead of `Ridge`, try `LinearRegression`. Depending on how many features you select, your errors will probably blow up! 💥\n",
        "- [ ] Instead of `Ridge`, try [`RidgeCV`](https://scikit-learn.org/stable/modules/generated/sklearn.linear_model.RidgeCV.html).\n",
        "- [ ] Learn more about feature selection:\n",
        "    - [\"Permutation importance\"](https://www.kaggle.com/dansbecker/permutation-importance)\n",
        "    - [scikit-learn's User Guide for Feature Selection](https://scikit-learn.org/stable/modules/feature_selection.html)\n",
        "    - [mlxtend](http://rasbt.github.io/mlxtend/) library\n",
        "    - scikit-learn-contrib libraries: [boruta_py](https://github.com/scikit-learn-contrib/boruta_py) & [stability-selection](https://github.com/scikit-learn-contrib/stability-selection)\n",
        "    - [_Feature Engineering and Selection_](http://www.feat.engineering/) by Kuhn & Johnson.\n",
        "- [ ] Try [statsmodels](https://www.statsmodels.org/stable/index.html) if you’re interested in more inferential statistical approach to linear regression and feature selection, looking at p values and 95% confidence intervals for the coefficients.\n",
        "- [ ] Read [_An Introduction to Statistical Learning_](http://faculty.marshall.usc.edu/gareth-james/ISL/ISLR%20Seventh%20Printing.pdf), Chapters 1-3, for more math & theory, but in an accessible, readable way.\n",
        "- [ ] Try [scikit-learn pipelines](https://scikit-learn.org/stable/modules/compose.html)."
      ]
    },
    {
      "cell_type": "code",
      "metadata": {
        "colab_type": "code",
        "id": "o9eSnDYhUGD7",
        "colab": {}
      },
      "source": [
        "%%capture\n",
        "import sys\n",
        "\n",
        "# If you're on Colab:\n",
        "if 'google.colab' in sys.modules:\n",
        "    DATA_PATH = 'https://raw.githubusercontent.com/LambdaSchool/DS-Unit-2-Applied-Modeling/master/data/'\n",
        "    !pip install category_encoders==2.*\n",
        "\n",
        "# If you're working locally:\n",
        "else:\n",
        "    DATA_PATH = '../data/'\n",
        "    \n",
        "# Ignore this Numpy warning when using Plotly Express:\n",
        "# FutureWarning: Method .ptp is deprecated and will be removed in a future version. Use numpy.ptp instead.\n",
        "import warnings\n",
        "warnings.filterwarnings(action='ignore', category=FutureWarning, module='numpy')"
      ],
      "execution_count": 1,
      "outputs": []
    },
    {
      "cell_type": "code",
      "metadata": {
        "colab_type": "code",
        "id": "QJBD4ruICm1m",
        "colab": {}
      },
      "source": [
        "import pandas as pd\n",
        "import pandas_profiling\n",
        "\n",
        "# Read New York City property sales data\n",
        "df = pd.read_csv(DATA_PATH+'condos/NYC_Citywide_Rolling_Calendar_Sales.csv')\n",
        "\n",
        "# Change column names: replace spaces with underscores\n",
        "df.columns = [col.replace(' ', '_') for col in df]\n",
        "\n",
        "# SALE_PRICE was read as strings.\n",
        "# Remove symbols, convert to integer\n",
        "df['SALE_PRICE'] = (\n",
        "    df['SALE_PRICE']\n",
        "    .str.replace('$','')\n",
        "    .str.replace('-','')\n",
        "    .str.replace(',','')\n",
        "    .astype(int)\n",
        ")"
      ],
      "execution_count": 2,
      "outputs": []
    },
    {
      "cell_type": "code",
      "metadata": {
        "id": "gsn0DEJKPgAR",
        "colab_type": "code",
        "colab": {}
      },
      "source": [
        "# BOROUGH is a numeric column, but arguably should be a categorical feature,\n",
        "# so convert it from a number to a string\n",
        "df['BOROUGH'] = df['BOROUGH'].astype(str)"
      ],
      "execution_count": 3,
      "outputs": []
    },
    {
      "cell_type": "code",
      "metadata": {
        "id": "LtMjjk-KPgAV",
        "colab_type": "code",
        "colab": {}
      },
      "source": [
        "# Reduce cardinality for NEIGHBORHOOD feature\n",
        "\n",
        "# Get a list of the top 10 neighborhoods\n",
        "top10 = df['NEIGHBORHOOD'].value_counts()[:10].index\n",
        "\n",
        "# At locations where the neighborhood is NOT in the top 10, \n",
        "# replace the neighborhood with 'OTHER'\n",
        "df.loc[~df['NEIGHBORHOOD'].isin(top10), 'NEIGHBORHOOD'] = 'OTHER'"
      ],
      "execution_count": 4,
      "outputs": []
    },
    {
      "cell_type": "code",
      "metadata": {
        "id": "RbymUTsYPgAZ",
        "colab_type": "code",
        "colab": {
          "base_uri": "https://localhost:8080/",
          "height": 479
        },
        "outputId": "0d788ddc-072e-412a-8941-abc3f67108f5"
      },
      "source": [
        "# Take a look at the\n",
        "df.tail()"
      ],
      "execution_count": 17,
      "outputs": [
        {
          "output_type": "execute_result",
          "data": {
            "text/html": [
              "<div>\n",
              "<style scoped>\n",
              "    .dataframe tbody tr th:only-of-type {\n",
              "        vertical-align: middle;\n",
              "    }\n",
              "\n",
              "    .dataframe tbody tr th {\n",
              "        vertical-align: top;\n",
              "    }\n",
              "\n",
              "    .dataframe thead th {\n",
              "        text-align: right;\n",
              "    }\n",
              "</style>\n",
              "<table border=\"1\" class=\"dataframe\">\n",
              "  <thead>\n",
              "    <tr style=\"text-align: right;\">\n",
              "      <th></th>\n",
              "      <th>BOROUGH</th>\n",
              "      <th>NEIGHBORHOOD</th>\n",
              "      <th>BUILDING_CLASS_CATEGORY</th>\n",
              "      <th>TAX_CLASS_AT_PRESENT</th>\n",
              "      <th>BLOCK</th>\n",
              "      <th>LOT</th>\n",
              "      <th>EASE-MENT</th>\n",
              "      <th>BUILDING_CLASS_AT_PRESENT</th>\n",
              "      <th>ADDRESS</th>\n",
              "      <th>APARTMENT_NUMBER</th>\n",
              "      <th>ZIP_CODE</th>\n",
              "      <th>RESIDENTIAL_UNITS</th>\n",
              "      <th>COMMERCIAL_UNITS</th>\n",
              "      <th>TOTAL_UNITS</th>\n",
              "      <th>LAND_SQUARE_FEET</th>\n",
              "      <th>GROSS_SQUARE_FEET</th>\n",
              "      <th>YEAR_BUILT</th>\n",
              "      <th>TAX_CLASS_AT_TIME_OF_SALE</th>\n",
              "      <th>BUILDING_CLASS_AT_TIME_OF_SALE</th>\n",
              "      <th>SALE_PRICE</th>\n",
              "      <th>SALE_DATE</th>\n",
              "    </tr>\n",
              "  </thead>\n",
              "  <tbody>\n",
              "    <tr>\n",
              "      <th>23035</th>\n",
              "      <td>4</td>\n",
              "      <td>OTHER</td>\n",
              "      <td>01 ONE FAMILY DWELLINGS</td>\n",
              "      <td>1</td>\n",
              "      <td>10965</td>\n",
              "      <td>276</td>\n",
              "      <td>NaN</td>\n",
              "      <td>A5</td>\n",
              "      <td>111-17 FRANCIS LEWIS BLVD</td>\n",
              "      <td>NaN</td>\n",
              "      <td>11429.0</td>\n",
              "      <td>1.0</td>\n",
              "      <td>0.0</td>\n",
              "      <td>1.0</td>\n",
              "      <td>1,800</td>\n",
              "      <td>1224.0</td>\n",
              "      <td>1945.0</td>\n",
              "      <td>1</td>\n",
              "      <td>A5</td>\n",
              "      <td>510000</td>\n",
              "      <td>2019-04-30</td>\n",
              "    </tr>\n",
              "    <tr>\n",
              "      <th>23036</th>\n",
              "      <td>4</td>\n",
              "      <td>OTHER</td>\n",
              "      <td>09 COOPS - WALKUP APARTMENTS</td>\n",
              "      <td>2</td>\n",
              "      <td>169</td>\n",
              "      <td>29</td>\n",
              "      <td>NaN</td>\n",
              "      <td>C6</td>\n",
              "      <td>45-14 43RD STREET, 3C</td>\n",
              "      <td>NaN</td>\n",
              "      <td>11104.0</td>\n",
              "      <td>0.0</td>\n",
              "      <td>0.0</td>\n",
              "      <td>0.0</td>\n",
              "      <td>0</td>\n",
              "      <td>0.0</td>\n",
              "      <td>1929.0</td>\n",
              "      <td>2</td>\n",
              "      <td>C6</td>\n",
              "      <td>355000</td>\n",
              "      <td>2019-04-30</td>\n",
              "    </tr>\n",
              "    <tr>\n",
              "      <th>23037</th>\n",
              "      <td>4</td>\n",
              "      <td>OTHER</td>\n",
              "      <td>10 COOPS - ELEVATOR APARTMENTS</td>\n",
              "      <td>2</td>\n",
              "      <td>131</td>\n",
              "      <td>4</td>\n",
              "      <td>NaN</td>\n",
              "      <td>D4</td>\n",
              "      <td>50-05 43RD AVENUE, 3M</td>\n",
              "      <td>NaN</td>\n",
              "      <td>11377.0</td>\n",
              "      <td>0.0</td>\n",
              "      <td>0.0</td>\n",
              "      <td>0.0</td>\n",
              "      <td>0</td>\n",
              "      <td>0.0</td>\n",
              "      <td>1932.0</td>\n",
              "      <td>2</td>\n",
              "      <td>D4</td>\n",
              "      <td>375000</td>\n",
              "      <td>2019-04-30</td>\n",
              "    </tr>\n",
              "    <tr>\n",
              "      <th>23038</th>\n",
              "      <td>4</td>\n",
              "      <td>OTHER</td>\n",
              "      <td>02 TWO FAMILY DWELLINGS</td>\n",
              "      <td>1</td>\n",
              "      <td>8932</td>\n",
              "      <td>18</td>\n",
              "      <td>NaN</td>\n",
              "      <td>S2</td>\n",
              "      <td>91-10 JAMAICA AVE</td>\n",
              "      <td>NaN</td>\n",
              "      <td>11421.0</td>\n",
              "      <td>2.0</td>\n",
              "      <td>1.0</td>\n",
              "      <td>3.0</td>\n",
              "      <td>2,078</td>\n",
              "      <td>2200.0</td>\n",
              "      <td>1931.0</td>\n",
              "      <td>1</td>\n",
              "      <td>S2</td>\n",
              "      <td>1100000</td>\n",
              "      <td>2019-04-30</td>\n",
              "    </tr>\n",
              "    <tr>\n",
              "      <th>23039</th>\n",
              "      <td>4</td>\n",
              "      <td>OTHER</td>\n",
              "      <td>12 CONDOS - WALKUP APARTMENTS</td>\n",
              "      <td>2</td>\n",
              "      <td>1216</td>\n",
              "      <td>1161</td>\n",
              "      <td>NaN</td>\n",
              "      <td>R2</td>\n",
              "      <td>61-05 39TH AVENUE, F5</td>\n",
              "      <td>F5</td>\n",
              "      <td>11377.0</td>\n",
              "      <td>1.0</td>\n",
              "      <td>0.0</td>\n",
              "      <td>85.0</td>\n",
              "      <td>15,151</td>\n",
              "      <td>854.0</td>\n",
              "      <td>1927.0</td>\n",
              "      <td>2</td>\n",
              "      <td>R2</td>\n",
              "      <td>569202</td>\n",
              "      <td>2019-04-30</td>\n",
              "    </tr>\n",
              "  </tbody>\n",
              "</table>\n",
              "</div>"
            ],
            "text/plain": [
              "      BOROUGH NEIGHBORHOOD  ... SALE_PRICE  SALE_DATE\n",
              "23035       4        OTHER  ...     510000 2019-04-30\n",
              "23036       4        OTHER  ...     355000 2019-04-30\n",
              "23037       4        OTHER  ...     375000 2019-04-30\n",
              "23038       4        OTHER  ...    1100000 2019-04-30\n",
              "23039       4        OTHER  ...     569202 2019-04-30\n",
              "\n",
              "[5 rows x 21 columns]"
            ]
          },
          "metadata": {
            "tags": []
          },
          "execution_count": 17
        }
      ]
    },
    {
      "cell_type": "code",
      "metadata": {
        "id": "jnRxra45ckNd",
        "colab_type": "code",
        "colab": {}
      },
      "source": [
        "# Import datetime libary\n",
        "import datetime as dt\n",
        "\n",
        "# Convert the SALE_DATE to datetime format\n",
        "df['SALE_DATE'] = pd.to_datetime(df['SALE_DATE'])"
      ],
      "execution_count": 136,
      "outputs": []
    },
    {
      "cell_type": "code",
      "metadata": {
        "id": "9ZFlZQZldSXZ",
        "colab_type": "code",
        "colab": {}
      },
      "source": [
        "# Create the train data\n",
        "train = df[df['SALE_DATE'].dt.month <= 3]\n",
        "\n",
        "# Create the test data\n",
        "test = df[df['SALE_DATE'].dt.month == 4]"
      ],
      "execution_count": 137,
      "outputs": []
    },
    {
      "cell_type": "code",
      "metadata": {
        "id": "KON2Raedx7pf",
        "colab_type": "code",
        "colab": {
          "base_uri": "https://localhost:8080/",
          "height": 136
        },
        "outputId": "4aa84fda-10a3-4ae1-c23c-9f1272d1537f"
      },
      "source": [
        "# One hot\n",
        "# Import the calls\n",
        "from sklearn.preprocessing import OneHotEncoder\n",
        "\n",
        "# instatiate\n",
        "ohe = OneHotEncoder()\n",
        "\n",
        "# Save time to do it in one step\n",
        "train_trans = ohe.fit_transform(train[['NEIGHBORHOOD']]).toarray()\n",
        "\n",
        "# Take a look at the onehot encoder\n",
        "train_trans"
      ],
      "execution_count": 139,
      "outputs": [
        {
          "output_type": "execute_result",
          "data": {
            "text/plain": [
              "array([[0., 0., 0., ..., 0., 0., 0.],\n",
              "       [0., 0., 0., ..., 0., 0., 0.],\n",
              "       [0., 0., 0., ..., 0., 0., 0.],\n",
              "       ...,\n",
              "       [0., 0., 0., ..., 0., 0., 0.],\n",
              "       [0., 0., 0., ..., 0., 0., 0.],\n",
              "       [0., 0., 0., ..., 0., 0., 0.]])"
            ]
          },
          "metadata": {
            "tags": []
          },
          "execution_count": 139
        }
      ]
    },
    {
      "cell_type": "code",
      "metadata": {
        "id": "_t86EPkm4XcX",
        "colab_type": "code",
        "colab": {}
      },
      "source": [
        "y_train = train['SALE_PRICE']\n",
        "y_test = test['SALE_PRICE']\n",
        "X_train = train.select_dtypes(include='number')\n",
        "X_test= test.select_dtypes(include='number')"
      ],
      "execution_count": 174,
      "outputs": []
    },
    {
      "cell_type": "code",
      "metadata": {
        "id": "2_ETO-R35FPN",
        "colab_type": "code",
        "colab": {
          "base_uri": "https://localhost:8080/",
          "height": 425
        },
        "outputId": "f577d1e3-2fe4-4197-d99c-aacb6f793490"
      },
      "source": [
        "# Looks for NaN values\n",
        "print(X_train.isnull().sum())\n",
        "print(X_test.isnull().sum())"
      ],
      "execution_count": 175,
      "outputs": [
        {
          "output_type": "stream",
          "text": [
            "BLOCK                            0\n",
            "LOT                              0\n",
            "EASE-MENT                    18167\n",
            "ZIP_CODE                         0\n",
            "RESIDENTIAL_UNITS                0\n",
            "COMMERCIAL_UNITS                 0\n",
            "TOTAL_UNITS                      0\n",
            "GROSS_SQUARE_FEET                0\n",
            "YEAR_BUILT                       5\n",
            "TAX_CLASS_AT_TIME_OF_SALE        0\n",
            "SALE_PRICE                       0\n",
            "dtype: int64\n",
            "BLOCK                           0\n",
            "LOT                             0\n",
            "EASE-MENT                    4873\n",
            "ZIP_CODE                        1\n",
            "RESIDENTIAL_UNITS               1\n",
            "COMMERCIAL_UNITS                1\n",
            "TOTAL_UNITS                     1\n",
            "GROSS_SQUARE_FEET               1\n",
            "YEAR_BUILT                     30\n",
            "TAX_CLASS_AT_TIME_OF_SALE       0\n",
            "SALE_PRICE                      0\n",
            "dtype: int64\n"
          ],
          "name": "stdout"
        }
      ]
    },
    {
      "cell_type": "code",
      "metadata": {
        "id": "MS2AWV_Z6Iy-",
        "colab_type": "code",
        "colab": {}
      },
      "source": [
        "# Drop the column EASE-MENT because all the value are Nan\n",
        "X_train = X_train.drop(['EASE-MENT'], axis=1)\n",
        "X_test = X_test.drop(['EASE-MENT'], axis=1)\n",
        "\n",
        "# Replace the five NaN from YEAR_BUILT with the mean\n",
        "X_train['YEAR_BUILT'].fillna(value=X_train['YEAR_BUILT'].mean(), inplace=True)\n",
        "X_test['YEAR_BUILT'].fillna(value=X_test['YEAR_BUILT'].mean(), inplace=True)"
      ],
      "execution_count": 176,
      "outputs": []
    },
    {
      "cell_type": "code",
      "metadata": {
        "id": "pFer05Jv7mBD",
        "colab_type": "code",
        "colab": {
          "base_uri": "https://localhost:8080/",
          "height": 391
        },
        "outputId": "cd3790e7-cd7a-4093-f72a-46c9838ed1bb"
      },
      "source": [
        "# Looks for NaN values again\n",
        "print(X_train.isnull().sum())\n",
        "print(X_test.isnull().sum())"
      ],
      "execution_count": 177,
      "outputs": [
        {
          "output_type": "stream",
          "text": [
            "BLOCK                        0\n",
            "LOT                          0\n",
            "ZIP_CODE                     0\n",
            "RESIDENTIAL_UNITS            0\n",
            "COMMERCIAL_UNITS             0\n",
            "TOTAL_UNITS                  0\n",
            "GROSS_SQUARE_FEET            0\n",
            "YEAR_BUILT                   0\n",
            "TAX_CLASS_AT_TIME_OF_SALE    0\n",
            "SALE_PRICE                   0\n",
            "dtype: int64\n",
            "BLOCK                        0\n",
            "LOT                          0\n",
            "ZIP_CODE                     1\n",
            "RESIDENTIAL_UNITS            1\n",
            "COMMERCIAL_UNITS             1\n",
            "TOTAL_UNITS                  1\n",
            "GROSS_SQUARE_FEET            1\n",
            "YEAR_BUILT                   0\n",
            "TAX_CLASS_AT_TIME_OF_SALE    0\n",
            "SALE_PRICE                   0\n",
            "dtype: int64\n"
          ],
          "name": "stdout"
        }
      ]
    },
    {
      "cell_type": "code",
      "metadata": {
        "id": "R0p-MKdV9Oxi",
        "colab_type": "code",
        "colab": {}
      },
      "source": [
        "# Drop all NaN from X_test\n",
        "X_test = X_test.dropna()"
      ],
      "execution_count": 180,
      "outputs": []
    },
    {
      "cell_type": "code",
      "metadata": {
        "id": "dkhKzJ-k9Wgx",
        "colab_type": "code",
        "colab": {
          "base_uri": "https://localhost:8080/",
          "height": 391
        },
        "outputId": "79f28e0f-2edb-4ce8-de5e-d8e3c841da90"
      },
      "source": [
        "# Looks for NaN values again\n",
        "print(X_train.isnull().sum())\n",
        "print(X_test.isnull().sum())"
      ],
      "execution_count": 181,
      "outputs": [
        {
          "output_type": "stream",
          "text": [
            "BLOCK                        0\n",
            "LOT                          0\n",
            "ZIP_CODE                     0\n",
            "RESIDENTIAL_UNITS            0\n",
            "COMMERCIAL_UNITS             0\n",
            "TOTAL_UNITS                  0\n",
            "GROSS_SQUARE_FEET            0\n",
            "YEAR_BUILT                   0\n",
            "TAX_CLASS_AT_TIME_OF_SALE    0\n",
            "SALE_PRICE                   0\n",
            "dtype: int64\n",
            "BLOCK                        0\n",
            "LOT                          0\n",
            "ZIP_CODE                     0\n",
            "RESIDENTIAL_UNITS            0\n",
            "COMMERCIAL_UNITS             0\n",
            "TOTAL_UNITS                  0\n",
            "GROSS_SQUARE_FEET            0\n",
            "YEAR_BUILT                   0\n",
            "TAX_CLASS_AT_TIME_OF_SALE    0\n",
            "SALE_PRICE                   0\n",
            "dtype: int64\n"
          ],
          "name": "stdout"
        }
      ]
    },
    {
      "cell_type": "code",
      "metadata": {
        "id": "dndaZ-pslk2q",
        "colab_type": "code",
        "colab": {
          "base_uri": "https://localhost:8080/",
          "height": 68
        },
        "outputId": "05b1e40c-0b96-4a9e-b2bb-e149655376e9"
      },
      "source": [
        "# SelectKBest\n",
        "# Import the feature selector utility\n",
        "from sklearn.feature_selection import SelectKBest\n",
        "\n",
        "selector = SelectKBest(k=4)\n",
        "X_train_selected = selector.fit_transform(X_train, y_train)\n",
        "X_test_selected = selector.transform(X_test)\n",
        "\n",
        "# Find the features that was selected\n",
        "selected_mask = selector.get_support()\n",
        "all_features = X_train.columns\n",
        "selected_feature = all_features[selected_mask]\n",
        "\n",
        "print('list of the selected feature: ', selected_feature)"
      ],
      "execution_count": 186,
      "outputs": [
        {
          "output_type": "stream",
          "text": [
            "list of the selected feature:  Index(['COMMERCIAL_UNITS', 'TOTAL_UNITS', 'GROSS_SQUARE_FEET', 'SALE_PRICE'], dtype='object')\n"
          ],
          "name": "stdout"
        },
        {
          "output_type": "stream",
          "text": [
            "/usr/local/lib/python3.6/dist-packages/sklearn/feature_selection/_univariate_selection.py:115: RuntimeWarning: divide by zero encountered in true_divide\n",
            "  f = msb / msw\n"
          ],
          "name": "stderr"
        }
      ]
    },
    {
      "cell_type": "code",
      "metadata": {
        "id": "TaGfaCXQ_qD_",
        "colab_type": "code",
        "colab": {
          "base_uri": "https://localhost:8080/",
          "height": 51
        },
        "outputId": "2788456f-4e9b-4818-dc23-e0243091fbda"
      },
      "source": [
        "# Create the target and features\n",
        "target = 'SALE_PRICE'\n",
        "features = selected_feature\n",
        "\n",
        "# Create the matrix for y and X\n",
        "y = train[target]\n",
        "X = train[features]\n",
        "\n",
        "# Import for sklearn the train test split \n",
        "from sklearn.model_selection import train_test_split\n",
        "\n",
        "# Declare the variable for the slipt\n",
        "X_train, X_val, y_train, y_val = train_test_split(X,y, test_size=0.25, random_state=19)\n",
        "\n",
        "# Print the shape for X_train and y_train\n",
        "print(X_train.shape)\n",
        "print(y_train.shape)"
      ],
      "execution_count": 187,
      "outputs": [
        {
          "output_type": "stream",
          "text": [
            "(13625, 4)\n",
            "(13625,)\n"
          ],
          "name": "stdout"
        }
      ]
    },
    {
      "cell_type": "code",
      "metadata": {
        "id": "OB2cJ8NDALaU",
        "colab_type": "code",
        "colab": {
          "base_uri": "https://localhost:8080/",
          "height": 102
        },
        "outputId": "607ac716-68a5-42b8-a234-3a1d0ea3b48c"
      },
      "source": [
        "# Import estimator Ridge from sklearn\n",
        "from sklearn.linear_model import Ridge\n",
        "\n",
        "# Instantiate\n",
        "lin_ridge = Ridge(normalize=True, alpha=0.05)\n",
        "\n",
        "# Fit the model\n",
        "lin_ridge.fit(X_train, y_train)\n",
        "\n",
        "# The predictions\n",
        "ridge_pred = lin_ridge.predict(X_val)\n",
        "\n",
        "# Coefficients\n",
        "pd.Series(lin_ridge.coef_, features)"
      ],
      "execution_count": 189,
      "outputs": [
        {
          "output_type": "execute_result",
          "data": {
            "text/plain": [
              "COMMERCIAL_UNITS     3815.013193\n",
              "TOTAL_UNITS         -4915.483618\n",
              "GROSS_SQUARE_FEET      17.586935\n",
              "SALE_PRICE              0.936577\n",
              "dtype: float64"
            ]
          },
          "metadata": {
            "tags": []
          },
          "execution_count": 189
        }
      ]
    }
  ]
}