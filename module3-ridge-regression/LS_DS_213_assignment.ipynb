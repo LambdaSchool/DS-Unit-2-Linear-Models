{
 "cells": [
  {
   "cell_type": "markdown",
   "metadata": {},
   "source": [
    "Lambda School Data Science\n",
    "\n",
    "*Unit 2, Sprint 1, Module 3*\n",
    "\n",
    "---"
   ]
  },
  {
   "cell_type": "markdown",
   "metadata": {
    "colab_type": "text",
    "id": "7IXUfiQ2UKj6"
   },
   "source": [
    "# Ridge Regression\n",
    "\n",
    "## Assignment\n",
    "\n",
    "We're going back to our other **New York City** real estate dataset. Instead of predicting apartment rents, you'll predict property sales prices.\n",
    "\n",
    "But not just for condos in Tribeca...\n",
    "\n",
    "- [ ] Use a subset of the data where `BUILDING_CLASS_CATEGORY` == `'01 ONE FAMILY DWELLINGS'` and the sale price was more than 100 thousand and less than 2 million.\n",
    "- [ ] Do train/test split. Use data from January — March 2019 to train. Use data from April 2019 to test.\n",
    "- [ ] Do one-hot encoding of categorical features.\n",
    "- [ ] Do feature selection with `SelectKBest`.\n",
    "- [ ] Fit a ridge regression model with multiple features. Use the `normalize=True` parameter (or do [feature scaling](https://scikit-learn.org/stable/modules/preprocessing.html) beforehand — use the scaler's `fit_transform` method with the train set, and the scaler's `transform` method with the test set)\n",
    "- [ ] Get mean absolute error for the test set.\n",
    "- [ ] As always, commit your notebook to your fork of the GitHub repo.\n",
    "\n",
    "The [NYC Department of Finance](https://www1.nyc.gov/site/finance/taxes/property-rolling-sales-data.page) has a glossary of property sales terms and NYC Building Class Code Descriptions. The data comes from the [NYC OpenData](https://data.cityofnewyork.us/browse?q=NYC%20calendar%20sales) portal.\n",
    "\n",
    "\n",
    "## Stretch Goals\n",
    "\n",
    "Don't worry, you aren't expected to do all these stretch goals! These are just ideas to consider and choose from.\n",
    "\n",
    "- [ ] Add your own stretch goal(s) !\n",
    "- [ ] Instead of `Ridge`, try `LinearRegression`. Depending on how many features you select, your errors will probably blow up! 💥\n",
    "- [ ] Instead of `Ridge`, try [`RidgeCV`](https://scikit-learn.org/stable/modules/generated/sklearn.linear_model.RidgeCV.html).\n",
    "- [ ] Learn more about feature selection:\n",
    "    - [\"Permutation importance\"](https://www.kaggle.com/dansbecker/permutation-importance)\n",
    "    - [scikit-learn's User Guide for Feature Selection](https://scikit-learn.org/stable/modules/feature_selection.html)\n",
    "    - [mlxtend](http://rasbt.github.io/mlxtend/) library\n",
    "    - scikit-learn-contrib libraries: [boruta_py](https://github.com/scikit-learn-contrib/boruta_py) & [stability-selection](https://github.com/scikit-learn-contrib/stability-selection)\n",
    "    - [_Feature Engineering and Selection_](http://www.feat.engineering/) by Kuhn & Johnson.\n",
    "- [ ] Try [statsmodels](https://www.statsmodels.org/stable/index.html) if you’re interested in more inferential statistical approach to linear regression and feature selection, looking at p values and 95% confidence intervals for the coefficients.\n",
    "- [ ] Read [_An Introduction to Statistical Learning_](http://faculty.marshall.usc.edu/gareth-james/ISL/ISLR%20Seventh%20Printing.pdf), Chapters 1-3, for more math & theory, but in an accessible, readable way.\n",
    "- [ ] Try [scikit-learn pipelines](https://scikit-learn.org/stable/modules/compose.html)."
   ]
  },
  {
   "cell_type": "code",
   "execution_count": 93,
   "metadata": {
    "colab": {},
    "colab_type": "code",
    "id": "o9eSnDYhUGD7"
   },
   "outputs": [],
   "source": [
    "%%capture\n",
    "import sys\n",
    "\n",
    "# If you're on Colab:\n",
    "if 'google.colab' in sys.modules:\n",
    "    DATA_PATH = 'https://raw.githubusercontent.com/LambdaSchool/DS-Unit-2-Applied-Modeling/master/data/'\n",
    "    !pip install category_encoders==2.*\n",
    "\n",
    "# If you're working locally:\n",
    "else:\n",
    "    DATA_PATH = '../data/'\n",
    "    \n",
    "# Ignore this Numpy warning when using Plotly Express:\n",
    "# FutureWarning: Method .ptp is deprecated and will be removed in a future version. Use numpy.ptp instead.\n",
    "import warnings\n",
    "warnings.filterwarnings(action='ignore', category=FutureWarning, module='numpy')"
   ]
  },
  {
   "cell_type": "code",
   "execution_count": 94,
   "metadata": {
    "colab": {},
    "colab_type": "code",
    "id": "QJBD4ruICm1m"
   },
   "outputs": [],
   "source": [
    "import pandas as pd\n",
    "import pandas_profiling\n",
    "\n",
    "# Read New York City property sales data\n",
    "df = pd.read_csv(DATA_PATH+'condos/NYC_Citywide_Rolling_Calendar_Sales.csv')\n",
    "\n",
    "# Change column names: replace spaces with underscores\n",
    "df.columns = [col.replace(' ', '_') for col in df]\n",
    "\n",
    "# SALE_PRICE was read as strings.\n",
    "# Remove symbols, convert to integer\n",
    "df['SALE_PRICE'] = (\n",
    "    df['SALE_PRICE']\n",
    "    .str.replace('$','')\n",
    "    .str.replace('-','')\n",
    "    .str.replace(',','')\n",
    "    .astype(int)\n",
    ")"
   ]
  },
  {
   "cell_type": "code",
   "execution_count": 95,
   "metadata": {},
   "outputs": [],
   "source": [
    "# BOROUGH is a numeric column, but arguably should be a categorical feature,\n",
    "# so convert it from a number to a string\n",
    "df['BOROUGH'] = df['BOROUGH'].astype(str)"
   ]
  },
  {
   "cell_type": "code",
   "execution_count": 96,
   "metadata": {},
   "outputs": [],
   "source": [
    "# Reduce cardinality for NEIGHBORHOOD feature\n",
    "\n",
    "# Get a list of the top 10 neighborhoods\n",
    "top10 = df['NEIGHBORHOOD'].value_counts()[:10].index\n",
    "\n",
    "# At locations where the neighborhood is NOT in the top 10, \n",
    "# replace the neighborhood with 'OTHER'\n",
    "df.loc[~df['NEIGHBORHOOD'].isin(top10), 'NEIGHBORHOOD'] = 'OTHER'"
   ]
  },
  {
   "cell_type": "code",
   "execution_count": 97,
   "metadata": {},
   "outputs": [],
   "source": [
    "pd.set_option('display.max_columns', None)"
   ]
  },
  {
   "cell_type": "code",
   "execution_count": 98,
   "metadata": {},
   "outputs": [],
   "source": [
    "# Use a subset of the data where BUILDING_CLASS_CATEGORY == '01 ONE FAMILY DWELLINGS' \n",
    "# and the sale price was more than 100 thousand and less than 2 million."
   ]
  },
  {
   "cell_type": "code",
   "execution_count": 99,
   "metadata": {},
   "outputs": [],
   "source": [
    "df = df[df.BUILDING_CLASS_CATEGORY == '01 ONE FAMILY DWELLINGS']"
   ]
  },
  {
   "cell_type": "code",
   "execution_count": 100,
   "metadata": {},
   "outputs": [],
   "source": [
    "df = df[(df.SALE_PRICE > 100000) & (df.SALE_PRICE < 2000000)]"
   ]
  },
  {
   "cell_type": "code",
   "execution_count": 101,
   "metadata": {},
   "outputs": [
    {
     "data": {
      "text/html": [
       "<div>\n",
       "<style scoped>\n",
       "    .dataframe tbody tr th:only-of-type {\n",
       "        vertical-align: middle;\n",
       "    }\n",
       "\n",
       "    .dataframe tbody tr th {\n",
       "        vertical-align: top;\n",
       "    }\n",
       "\n",
       "    .dataframe thead th {\n",
       "        text-align: right;\n",
       "    }\n",
       "</style>\n",
       "<table border=\"1\" class=\"dataframe\">\n",
       "  <thead>\n",
       "    <tr style=\"text-align: right;\">\n",
       "      <th></th>\n",
       "      <th>BOROUGH</th>\n",
       "      <th>NEIGHBORHOOD</th>\n",
       "      <th>BUILDING_CLASS_CATEGORY</th>\n",
       "      <th>TAX_CLASS_AT_PRESENT</th>\n",
       "      <th>BLOCK</th>\n",
       "      <th>LOT</th>\n",
       "      <th>EASE-MENT</th>\n",
       "      <th>BUILDING_CLASS_AT_PRESENT</th>\n",
       "      <th>ADDRESS</th>\n",
       "      <th>APARTMENT_NUMBER</th>\n",
       "      <th>ZIP_CODE</th>\n",
       "      <th>RESIDENTIAL_UNITS</th>\n",
       "      <th>COMMERCIAL_UNITS</th>\n",
       "      <th>TOTAL_UNITS</th>\n",
       "      <th>LAND_SQUARE_FEET</th>\n",
       "      <th>GROSS_SQUARE_FEET</th>\n",
       "      <th>YEAR_BUILT</th>\n",
       "      <th>TAX_CLASS_AT_TIME_OF_SALE</th>\n",
       "      <th>BUILDING_CLASS_AT_TIME_OF_SALE</th>\n",
       "      <th>SALE_PRICE</th>\n",
       "      <th>SALE_DATE</th>\n",
       "    </tr>\n",
       "  </thead>\n",
       "  <tbody>\n",
       "    <tr>\n",
       "      <th>44</th>\n",
       "      <td>3</td>\n",
       "      <td>OTHER</td>\n",
       "      <td>01 ONE FAMILY DWELLINGS</td>\n",
       "      <td>1</td>\n",
       "      <td>5495</td>\n",
       "      <td>801</td>\n",
       "      <td>NaN</td>\n",
       "      <td>A9</td>\n",
       "      <td>4832 BAY PARKWAY</td>\n",
       "      <td>NaN</td>\n",
       "      <td>11230.0</td>\n",
       "      <td>1.0</td>\n",
       "      <td>0.0</td>\n",
       "      <td>1.0</td>\n",
       "      <td>6,800</td>\n",
       "      <td>1325.0</td>\n",
       "      <td>1930.0</td>\n",
       "      <td>1</td>\n",
       "      <td>A9</td>\n",
       "      <td>550000</td>\n",
       "      <td>01/01/2019</td>\n",
       "    </tr>\n",
       "    <tr>\n",
       "      <th>61</th>\n",
       "      <td>4</td>\n",
       "      <td>OTHER</td>\n",
       "      <td>01 ONE FAMILY DWELLINGS</td>\n",
       "      <td>1</td>\n",
       "      <td>7918</td>\n",
       "      <td>72</td>\n",
       "      <td>NaN</td>\n",
       "      <td>A1</td>\n",
       "      <td>80-23 232ND STREET</td>\n",
       "      <td>NaN</td>\n",
       "      <td>11427.0</td>\n",
       "      <td>1.0</td>\n",
       "      <td>0.0</td>\n",
       "      <td>1.0</td>\n",
       "      <td>4,000</td>\n",
       "      <td>2001.0</td>\n",
       "      <td>1940.0</td>\n",
       "      <td>1</td>\n",
       "      <td>A1</td>\n",
       "      <td>200000</td>\n",
       "      <td>01/01/2019</td>\n",
       "    </tr>\n",
       "    <tr>\n",
       "      <th>78</th>\n",
       "      <td>2</td>\n",
       "      <td>OTHER</td>\n",
       "      <td>01 ONE FAMILY DWELLINGS</td>\n",
       "      <td>1</td>\n",
       "      <td>4210</td>\n",
       "      <td>19</td>\n",
       "      <td>NaN</td>\n",
       "      <td>A1</td>\n",
       "      <td>1260 RHINELANDER AVE</td>\n",
       "      <td>NaN</td>\n",
       "      <td>10461.0</td>\n",
       "      <td>1.0</td>\n",
       "      <td>0.0</td>\n",
       "      <td>1.0</td>\n",
       "      <td>3,500</td>\n",
       "      <td>2043.0</td>\n",
       "      <td>1925.0</td>\n",
       "      <td>1</td>\n",
       "      <td>A1</td>\n",
       "      <td>810000</td>\n",
       "      <td>01/02/2019</td>\n",
       "    </tr>\n",
       "    <tr>\n",
       "      <th>108</th>\n",
       "      <td>3</td>\n",
       "      <td>OTHER</td>\n",
       "      <td>01 ONE FAMILY DWELLINGS</td>\n",
       "      <td>1</td>\n",
       "      <td>5212</td>\n",
       "      <td>69</td>\n",
       "      <td>NaN</td>\n",
       "      <td>A1</td>\n",
       "      <td>469 E 25TH ST</td>\n",
       "      <td>NaN</td>\n",
       "      <td>11226.0</td>\n",
       "      <td>1.0</td>\n",
       "      <td>0.0</td>\n",
       "      <td>1.0</td>\n",
       "      <td>4,000</td>\n",
       "      <td>2680.0</td>\n",
       "      <td>1899.0</td>\n",
       "      <td>1</td>\n",
       "      <td>A1</td>\n",
       "      <td>125000</td>\n",
       "      <td>01/02/2019</td>\n",
       "    </tr>\n",
       "    <tr>\n",
       "      <th>111</th>\n",
       "      <td>3</td>\n",
       "      <td>OTHER</td>\n",
       "      <td>01 ONE FAMILY DWELLINGS</td>\n",
       "      <td>1</td>\n",
       "      <td>7930</td>\n",
       "      <td>121</td>\n",
       "      <td>NaN</td>\n",
       "      <td>A5</td>\n",
       "      <td>5521 WHITTY LANE</td>\n",
       "      <td>NaN</td>\n",
       "      <td>11203.0</td>\n",
       "      <td>1.0</td>\n",
       "      <td>0.0</td>\n",
       "      <td>1.0</td>\n",
       "      <td>1,710</td>\n",
       "      <td>1872.0</td>\n",
       "      <td>1940.0</td>\n",
       "      <td>1</td>\n",
       "      <td>A5</td>\n",
       "      <td>620000</td>\n",
       "      <td>01/02/2019</td>\n",
       "    </tr>\n",
       "    <tr>\n",
       "      <th>...</th>\n",
       "      <td>...</td>\n",
       "      <td>...</td>\n",
       "      <td>...</td>\n",
       "      <td>...</td>\n",
       "      <td>...</td>\n",
       "      <td>...</td>\n",
       "      <td>...</td>\n",
       "      <td>...</td>\n",
       "      <td>...</td>\n",
       "      <td>...</td>\n",
       "      <td>...</td>\n",
       "      <td>...</td>\n",
       "      <td>...</td>\n",
       "      <td>...</td>\n",
       "      <td>...</td>\n",
       "      <td>...</td>\n",
       "      <td>...</td>\n",
       "      <td>...</td>\n",
       "      <td>...</td>\n",
       "      <td>...</td>\n",
       "      <td>...</td>\n",
       "    </tr>\n",
       "    <tr>\n",
       "      <th>23029</th>\n",
       "      <td>4</td>\n",
       "      <td>OTHER</td>\n",
       "      <td>01 ONE FAMILY DWELLINGS</td>\n",
       "      <td>1</td>\n",
       "      <td>13215</td>\n",
       "      <td>3</td>\n",
       "      <td>NaN</td>\n",
       "      <td>A2</td>\n",
       "      <td>244-15 135 AVENUE</td>\n",
       "      <td>NaN</td>\n",
       "      <td>11422.0</td>\n",
       "      <td>1.0</td>\n",
       "      <td>0.0</td>\n",
       "      <td>1.0</td>\n",
       "      <td>3,300</td>\n",
       "      <td>1478.0</td>\n",
       "      <td>1925.0</td>\n",
       "      <td>1</td>\n",
       "      <td>A2</td>\n",
       "      <td>635000</td>\n",
       "      <td>04/30/2019</td>\n",
       "    </tr>\n",
       "    <tr>\n",
       "      <th>23031</th>\n",
       "      <td>4</td>\n",
       "      <td>OTHER</td>\n",
       "      <td>01 ONE FAMILY DWELLINGS</td>\n",
       "      <td>1</td>\n",
       "      <td>11612</td>\n",
       "      <td>73</td>\n",
       "      <td>NaN</td>\n",
       "      <td>A1</td>\n",
       "      <td>10919 132ND STREET</td>\n",
       "      <td>NaN</td>\n",
       "      <td>11420.0</td>\n",
       "      <td>1.0</td>\n",
       "      <td>0.0</td>\n",
       "      <td>1.0</td>\n",
       "      <td>2,400</td>\n",
       "      <td>1280.0</td>\n",
       "      <td>1930.0</td>\n",
       "      <td>1</td>\n",
       "      <td>A1</td>\n",
       "      <td>514000</td>\n",
       "      <td>04/30/2019</td>\n",
       "    </tr>\n",
       "    <tr>\n",
       "      <th>23032</th>\n",
       "      <td>4</td>\n",
       "      <td>OTHER</td>\n",
       "      <td>01 ONE FAMILY DWELLINGS</td>\n",
       "      <td>1</td>\n",
       "      <td>11808</td>\n",
       "      <td>50</td>\n",
       "      <td>NaN</td>\n",
       "      <td>A0</td>\n",
       "      <td>135-24 122ND STREET</td>\n",
       "      <td>NaN</td>\n",
       "      <td>11420.0</td>\n",
       "      <td>1.0</td>\n",
       "      <td>0.0</td>\n",
       "      <td>1.0</td>\n",
       "      <td>4,000</td>\n",
       "      <td>1333.0</td>\n",
       "      <td>1945.0</td>\n",
       "      <td>1</td>\n",
       "      <td>A0</td>\n",
       "      <td>635000</td>\n",
       "      <td>04/30/2019</td>\n",
       "    </tr>\n",
       "    <tr>\n",
       "      <th>23033</th>\n",
       "      <td>4</td>\n",
       "      <td>OTHER</td>\n",
       "      <td>01 ONE FAMILY DWELLINGS</td>\n",
       "      <td>1</td>\n",
       "      <td>12295</td>\n",
       "      <td>23</td>\n",
       "      <td>NaN</td>\n",
       "      <td>A1</td>\n",
       "      <td>134-34 157TH STREET</td>\n",
       "      <td>NaN</td>\n",
       "      <td>11434.0</td>\n",
       "      <td>1.0</td>\n",
       "      <td>0.0</td>\n",
       "      <td>1.0</td>\n",
       "      <td>2,500</td>\n",
       "      <td>1020.0</td>\n",
       "      <td>1935.0</td>\n",
       "      <td>1</td>\n",
       "      <td>A1</td>\n",
       "      <td>545000</td>\n",
       "      <td>04/30/2019</td>\n",
       "    </tr>\n",
       "    <tr>\n",
       "      <th>23035</th>\n",
       "      <td>4</td>\n",
       "      <td>OTHER</td>\n",
       "      <td>01 ONE FAMILY DWELLINGS</td>\n",
       "      <td>1</td>\n",
       "      <td>10965</td>\n",
       "      <td>276</td>\n",
       "      <td>NaN</td>\n",
       "      <td>A5</td>\n",
       "      <td>111-17 FRANCIS LEWIS BLVD</td>\n",
       "      <td>NaN</td>\n",
       "      <td>11429.0</td>\n",
       "      <td>1.0</td>\n",
       "      <td>0.0</td>\n",
       "      <td>1.0</td>\n",
       "      <td>1,800</td>\n",
       "      <td>1224.0</td>\n",
       "      <td>1945.0</td>\n",
       "      <td>1</td>\n",
       "      <td>A5</td>\n",
       "      <td>510000</td>\n",
       "      <td>04/30/2019</td>\n",
       "    </tr>\n",
       "  </tbody>\n",
       "</table>\n",
       "<p>3151 rows × 21 columns</p>\n",
       "</div>"
      ],
      "text/plain": [
       "      BOROUGH NEIGHBORHOOD  BUILDING_CLASS_CATEGORY TAX_CLASS_AT_PRESENT  \\\n",
       "44          3        OTHER  01 ONE FAMILY DWELLINGS                    1   \n",
       "61          4        OTHER  01 ONE FAMILY DWELLINGS                    1   \n",
       "78          2        OTHER  01 ONE FAMILY DWELLINGS                    1   \n",
       "108         3        OTHER  01 ONE FAMILY DWELLINGS                    1   \n",
       "111         3        OTHER  01 ONE FAMILY DWELLINGS                    1   \n",
       "...       ...          ...                      ...                  ...   \n",
       "23029       4        OTHER  01 ONE FAMILY DWELLINGS                    1   \n",
       "23031       4        OTHER  01 ONE FAMILY DWELLINGS                    1   \n",
       "23032       4        OTHER  01 ONE FAMILY DWELLINGS                    1   \n",
       "23033       4        OTHER  01 ONE FAMILY DWELLINGS                    1   \n",
       "23035       4        OTHER  01 ONE FAMILY DWELLINGS                    1   \n",
       "\n",
       "       BLOCK  LOT  EASE-MENT BUILDING_CLASS_AT_PRESENT  \\\n",
       "44      5495  801        NaN                        A9   \n",
       "61      7918   72        NaN                        A1   \n",
       "78      4210   19        NaN                        A1   \n",
       "108     5212   69        NaN                        A1   \n",
       "111     7930  121        NaN                        A5   \n",
       "...      ...  ...        ...                       ...   \n",
       "23029  13215    3        NaN                        A2   \n",
       "23031  11612   73        NaN                        A1   \n",
       "23032  11808   50        NaN                        A0   \n",
       "23033  12295   23        NaN                        A1   \n",
       "23035  10965  276        NaN                        A5   \n",
       "\n",
       "                         ADDRESS APARTMENT_NUMBER  ZIP_CODE  \\\n",
       "44              4832 BAY PARKWAY              NaN   11230.0   \n",
       "61            80-23 232ND STREET              NaN   11427.0   \n",
       "78          1260 RHINELANDER AVE              NaN   10461.0   \n",
       "108                469 E 25TH ST              NaN   11226.0   \n",
       "111             5521 WHITTY LANE              NaN   11203.0   \n",
       "...                          ...              ...       ...   \n",
       "23029          244-15 135 AVENUE              NaN   11422.0   \n",
       "23031         10919 132ND STREET              NaN   11420.0   \n",
       "23032        135-24 122ND STREET              NaN   11420.0   \n",
       "23033        134-34 157TH STREET              NaN   11434.0   \n",
       "23035  111-17 FRANCIS LEWIS BLVD              NaN   11429.0   \n",
       "\n",
       "       RESIDENTIAL_UNITS  COMMERCIAL_UNITS  TOTAL_UNITS LAND_SQUARE_FEET  \\\n",
       "44                   1.0               0.0          1.0            6,800   \n",
       "61                   1.0               0.0          1.0            4,000   \n",
       "78                   1.0               0.0          1.0            3,500   \n",
       "108                  1.0               0.0          1.0            4,000   \n",
       "111                  1.0               0.0          1.0            1,710   \n",
       "...                  ...               ...          ...              ...   \n",
       "23029                1.0               0.0          1.0            3,300   \n",
       "23031                1.0               0.0          1.0            2,400   \n",
       "23032                1.0               0.0          1.0            4,000   \n",
       "23033                1.0               0.0          1.0            2,500   \n",
       "23035                1.0               0.0          1.0            1,800   \n",
       "\n",
       "       GROSS_SQUARE_FEET  YEAR_BUILT  TAX_CLASS_AT_TIME_OF_SALE  \\\n",
       "44                1325.0      1930.0                          1   \n",
       "61                2001.0      1940.0                          1   \n",
       "78                2043.0      1925.0                          1   \n",
       "108               2680.0      1899.0                          1   \n",
       "111               1872.0      1940.0                          1   \n",
       "...                  ...         ...                        ...   \n",
       "23029             1478.0      1925.0                          1   \n",
       "23031             1280.0      1930.0                          1   \n",
       "23032             1333.0      1945.0                          1   \n",
       "23033             1020.0      1935.0                          1   \n",
       "23035             1224.0      1945.0                          1   \n",
       "\n",
       "      BUILDING_CLASS_AT_TIME_OF_SALE  SALE_PRICE   SALE_DATE  \n",
       "44                                A9      550000  01/01/2019  \n",
       "61                                A1      200000  01/01/2019  \n",
       "78                                A1      810000  01/02/2019  \n",
       "108                               A1      125000  01/02/2019  \n",
       "111                               A5      620000  01/02/2019  \n",
       "...                              ...         ...         ...  \n",
       "23029                             A2      635000  04/30/2019  \n",
       "23031                             A1      514000  04/30/2019  \n",
       "23032                             A0      635000  04/30/2019  \n",
       "23033                             A1      545000  04/30/2019  \n",
       "23035                             A5      510000  04/30/2019  \n",
       "\n",
       "[3151 rows x 21 columns]"
      ]
     },
     "execution_count": 101,
     "metadata": {},
     "output_type": "execute_result"
    }
   ],
   "source": [
    "df"
   ]
  },
  {
   "cell_type": "code",
   "execution_count": 102,
   "metadata": {},
   "outputs": [
    {
     "data": {
      "text/plain": [
       "Index(['BOROUGH', 'NEIGHBORHOOD', 'BUILDING_CLASS_CATEGORY',\n",
       "       'TAX_CLASS_AT_PRESENT', 'BLOCK', 'LOT', 'EASE-MENT',\n",
       "       'BUILDING_CLASS_AT_PRESENT', 'ADDRESS', 'APARTMENT_NUMBER', 'ZIP_CODE',\n",
       "       'RESIDENTIAL_UNITS', 'COMMERCIAL_UNITS', 'TOTAL_UNITS',\n",
       "       'LAND_SQUARE_FEET', 'GROSS_SQUARE_FEET', 'YEAR_BUILT',\n",
       "       'TAX_CLASS_AT_TIME_OF_SALE', 'BUILDING_CLASS_AT_TIME_OF_SALE',\n",
       "       'SALE_PRICE', 'SALE_DATE'],\n",
       "      dtype='object')"
      ]
     },
     "execution_count": 102,
     "metadata": {},
     "output_type": "execute_result"
    }
   ],
   "source": [
    "df.columns"
   ]
  },
  {
   "cell_type": "code",
   "execution_count": 103,
   "metadata": {},
   "outputs": [
    {
     "data": {
      "text/plain": [
       "BOROUGH                            object\n",
       "NEIGHBORHOOD                       object\n",
       "BUILDING_CLASS_CATEGORY            object\n",
       "TAX_CLASS_AT_PRESENT               object\n",
       "BLOCK                               int64\n",
       "LOT                                 int64\n",
       "EASE-MENT                         float64\n",
       "BUILDING_CLASS_AT_PRESENT          object\n",
       "ADDRESS                            object\n",
       "APARTMENT_NUMBER                   object\n",
       "ZIP_CODE                          float64\n",
       "RESIDENTIAL_UNITS                 float64\n",
       "COMMERCIAL_UNITS                  float64\n",
       "TOTAL_UNITS                       float64\n",
       "LAND_SQUARE_FEET                   object\n",
       "GROSS_SQUARE_FEET                 float64\n",
       "YEAR_BUILT                        float64\n",
       "TAX_CLASS_AT_TIME_OF_SALE           int64\n",
       "BUILDING_CLASS_AT_TIME_OF_SALE     object\n",
       "SALE_PRICE                          int32\n",
       "SALE_DATE                          object\n",
       "dtype: object"
      ]
     },
     "execution_count": 103,
     "metadata": {},
     "output_type": "execute_result"
    }
   ],
   "source": [
    "df.dtypes"
   ]
  },
  {
   "cell_type": "code",
   "execution_count": 104,
   "metadata": {},
   "outputs": [],
   "source": [
    "# Do train/test split. Use data from January — March 2019 to train. Use data from April 2019 to test."
   ]
  },
  {
   "cell_type": "code",
   "execution_count": 105,
   "metadata": {},
   "outputs": [],
   "source": [
    "df['SALE_DATE'] = pd.to_datetime(df['SALE_DATE'], infer_datetime_format=True)"
   ]
  },
  {
   "cell_type": "code",
   "execution_count": 106,
   "metadata": {},
   "outputs": [],
   "source": [
    "train = df[(df['SALE_DATE'] > '2019-01-01 00:00:00') & (df['SALE_DATE'] <= '2019-03-31 23:59:59')]"
   ]
  },
  {
   "cell_type": "code",
   "execution_count": 107,
   "metadata": {},
   "outputs": [],
   "source": [
    "test = df[(df['SALE_DATE'] > '2019-04-01 00:00:00') & (df['SALE_DATE'] <= '2019-04-30 23:59:59')]"
   ]
  },
  {
   "cell_type": "code",
   "execution_count": 108,
   "metadata": {},
   "outputs": [
    {
     "data": {
      "text/html": [
       "<div>\n",
       "<style scoped>\n",
       "    .dataframe tbody tr th:only-of-type {\n",
       "        vertical-align: middle;\n",
       "    }\n",
       "\n",
       "    .dataframe tbody tr th {\n",
       "        vertical-align: top;\n",
       "    }\n",
       "\n",
       "    .dataframe thead th {\n",
       "        text-align: right;\n",
       "    }\n",
       "</style>\n",
       "<table border=\"1\" class=\"dataframe\">\n",
       "  <thead>\n",
       "    <tr style=\"text-align: right;\">\n",
       "      <th></th>\n",
       "      <th>BOROUGH</th>\n",
       "      <th>NEIGHBORHOOD</th>\n",
       "      <th>BUILDING_CLASS_CATEGORY</th>\n",
       "      <th>TAX_CLASS_AT_PRESENT</th>\n",
       "      <th>BLOCK</th>\n",
       "      <th>LOT</th>\n",
       "      <th>EASE-MENT</th>\n",
       "      <th>BUILDING_CLASS_AT_PRESENT</th>\n",
       "      <th>ADDRESS</th>\n",
       "      <th>APARTMENT_NUMBER</th>\n",
       "      <th>ZIP_CODE</th>\n",
       "      <th>RESIDENTIAL_UNITS</th>\n",
       "      <th>COMMERCIAL_UNITS</th>\n",
       "      <th>TOTAL_UNITS</th>\n",
       "      <th>LAND_SQUARE_FEET</th>\n",
       "      <th>GROSS_SQUARE_FEET</th>\n",
       "      <th>YEAR_BUILT</th>\n",
       "      <th>TAX_CLASS_AT_TIME_OF_SALE</th>\n",
       "      <th>BUILDING_CLASS_AT_TIME_OF_SALE</th>\n",
       "      <th>SALE_PRICE</th>\n",
       "      <th>SALE_DATE</th>\n",
       "    </tr>\n",
       "  </thead>\n",
       "  <tbody>\n",
       "    <tr>\n",
       "      <th>78</th>\n",
       "      <td>2</td>\n",
       "      <td>OTHER</td>\n",
       "      <td>01 ONE FAMILY DWELLINGS</td>\n",
       "      <td>1</td>\n",
       "      <td>4210</td>\n",
       "      <td>19</td>\n",
       "      <td>NaN</td>\n",
       "      <td>A1</td>\n",
       "      <td>1260 RHINELANDER AVE</td>\n",
       "      <td>NaN</td>\n",
       "      <td>10461.0</td>\n",
       "      <td>1.0</td>\n",
       "      <td>0.0</td>\n",
       "      <td>1.0</td>\n",
       "      <td>3,500</td>\n",
       "      <td>2043.0</td>\n",
       "      <td>1925.0</td>\n",
       "      <td>1</td>\n",
       "      <td>A1</td>\n",
       "      <td>810000</td>\n",
       "      <td>2019-01-02</td>\n",
       "    </tr>\n",
       "    <tr>\n",
       "      <th>108</th>\n",
       "      <td>3</td>\n",
       "      <td>OTHER</td>\n",
       "      <td>01 ONE FAMILY DWELLINGS</td>\n",
       "      <td>1</td>\n",
       "      <td>5212</td>\n",
       "      <td>69</td>\n",
       "      <td>NaN</td>\n",
       "      <td>A1</td>\n",
       "      <td>469 E 25TH ST</td>\n",
       "      <td>NaN</td>\n",
       "      <td>11226.0</td>\n",
       "      <td>1.0</td>\n",
       "      <td>0.0</td>\n",
       "      <td>1.0</td>\n",
       "      <td>4,000</td>\n",
       "      <td>2680.0</td>\n",
       "      <td>1899.0</td>\n",
       "      <td>1</td>\n",
       "      <td>A1</td>\n",
       "      <td>125000</td>\n",
       "      <td>2019-01-02</td>\n",
       "    </tr>\n",
       "    <tr>\n",
       "      <th>111</th>\n",
       "      <td>3</td>\n",
       "      <td>OTHER</td>\n",
       "      <td>01 ONE FAMILY DWELLINGS</td>\n",
       "      <td>1</td>\n",
       "      <td>7930</td>\n",
       "      <td>121</td>\n",
       "      <td>NaN</td>\n",
       "      <td>A5</td>\n",
       "      <td>5521 WHITTY LANE</td>\n",
       "      <td>NaN</td>\n",
       "      <td>11203.0</td>\n",
       "      <td>1.0</td>\n",
       "      <td>0.0</td>\n",
       "      <td>1.0</td>\n",
       "      <td>1,710</td>\n",
       "      <td>1872.0</td>\n",
       "      <td>1940.0</td>\n",
       "      <td>1</td>\n",
       "      <td>A5</td>\n",
       "      <td>620000</td>\n",
       "      <td>2019-01-02</td>\n",
       "    </tr>\n",
       "    <tr>\n",
       "      <th>120</th>\n",
       "      <td>3</td>\n",
       "      <td>OTHER</td>\n",
       "      <td>01 ONE FAMILY DWELLINGS</td>\n",
       "      <td>1</td>\n",
       "      <td>6806</td>\n",
       "      <td>72</td>\n",
       "      <td>NaN</td>\n",
       "      <td>A1</td>\n",
       "      <td>1747 EAST 23RD STREET</td>\n",
       "      <td>NaN</td>\n",
       "      <td>11229.0</td>\n",
       "      <td>1.0</td>\n",
       "      <td>0.0</td>\n",
       "      <td>1.0</td>\n",
       "      <td>4,000</td>\n",
       "      <td>1932.0</td>\n",
       "      <td>1930.0</td>\n",
       "      <td>1</td>\n",
       "      <td>A1</td>\n",
       "      <td>1150000</td>\n",
       "      <td>2019-01-02</td>\n",
       "    </tr>\n",
       "    <tr>\n",
       "      <th>121</th>\n",
       "      <td>3</td>\n",
       "      <td>OTHER</td>\n",
       "      <td>01 ONE FAMILY DWELLINGS</td>\n",
       "      <td>1</td>\n",
       "      <td>6761</td>\n",
       "      <td>42</td>\n",
       "      <td>NaN</td>\n",
       "      <td>A1</td>\n",
       "      <td>1582 EAST 15TH STREET</td>\n",
       "      <td>NaN</td>\n",
       "      <td>11230.0</td>\n",
       "      <td>1.0</td>\n",
       "      <td>0.0</td>\n",
       "      <td>1.0</td>\n",
       "      <td>2,000</td>\n",
       "      <td>1722.0</td>\n",
       "      <td>1920.0</td>\n",
       "      <td>1</td>\n",
       "      <td>A1</td>\n",
       "      <td>836500</td>\n",
       "      <td>2019-01-02</td>\n",
       "    </tr>\n",
       "  </tbody>\n",
       "</table>\n",
       "</div>"
      ],
      "text/plain": [
       "    BOROUGH NEIGHBORHOOD  BUILDING_CLASS_CATEGORY TAX_CLASS_AT_PRESENT  BLOCK  \\\n",
       "78        2        OTHER  01 ONE FAMILY DWELLINGS                    1   4210   \n",
       "108       3        OTHER  01 ONE FAMILY DWELLINGS                    1   5212   \n",
       "111       3        OTHER  01 ONE FAMILY DWELLINGS                    1   7930   \n",
       "120       3        OTHER  01 ONE FAMILY DWELLINGS                    1   6806   \n",
       "121       3        OTHER  01 ONE FAMILY DWELLINGS                    1   6761   \n",
       "\n",
       "     LOT  EASE-MENT BUILDING_CLASS_AT_PRESENT                ADDRESS  \\\n",
       "78    19        NaN                        A1   1260 RHINELANDER AVE   \n",
       "108   69        NaN                        A1          469 E 25TH ST   \n",
       "111  121        NaN                        A5       5521 WHITTY LANE   \n",
       "120   72        NaN                        A1  1747 EAST 23RD STREET   \n",
       "121   42        NaN                        A1  1582 EAST 15TH STREET   \n",
       "\n",
       "    APARTMENT_NUMBER  ZIP_CODE  RESIDENTIAL_UNITS  COMMERCIAL_UNITS  \\\n",
       "78               NaN   10461.0                1.0               0.0   \n",
       "108              NaN   11226.0                1.0               0.0   \n",
       "111              NaN   11203.0                1.0               0.0   \n",
       "120              NaN   11229.0                1.0               0.0   \n",
       "121              NaN   11230.0                1.0               0.0   \n",
       "\n",
       "     TOTAL_UNITS LAND_SQUARE_FEET  GROSS_SQUARE_FEET  YEAR_BUILT  \\\n",
       "78           1.0            3,500             2043.0      1925.0   \n",
       "108          1.0            4,000             2680.0      1899.0   \n",
       "111          1.0            1,710             1872.0      1940.0   \n",
       "120          1.0            4,000             1932.0      1930.0   \n",
       "121          1.0            2,000             1722.0      1920.0   \n",
       "\n",
       "     TAX_CLASS_AT_TIME_OF_SALE BUILDING_CLASS_AT_TIME_OF_SALE  SALE_PRICE  \\\n",
       "78                           1                             A1      810000   \n",
       "108                          1                             A1      125000   \n",
       "111                          1                             A5      620000   \n",
       "120                          1                             A1     1150000   \n",
       "121                          1                             A1      836500   \n",
       "\n",
       "     SALE_DATE  \n",
       "78  2019-01-02  \n",
       "108 2019-01-02  \n",
       "111 2019-01-02  \n",
       "120 2019-01-02  \n",
       "121 2019-01-02  "
      ]
     },
     "execution_count": 108,
     "metadata": {},
     "output_type": "execute_result"
    }
   ],
   "source": [
    "train.head()"
   ]
  },
  {
   "cell_type": "code",
   "execution_count": 109,
   "metadata": {},
   "outputs": [
    {
     "data": {
      "text/html": [
       "<div>\n",
       "<style scoped>\n",
       "    .dataframe tbody tr th:only-of-type {\n",
       "        vertical-align: middle;\n",
       "    }\n",
       "\n",
       "    .dataframe tbody tr th {\n",
       "        vertical-align: top;\n",
       "    }\n",
       "\n",
       "    .dataframe thead th {\n",
       "        text-align: right;\n",
       "    }\n",
       "</style>\n",
       "<table border=\"1\" class=\"dataframe\">\n",
       "  <thead>\n",
       "    <tr style=\"text-align: right;\">\n",
       "      <th></th>\n",
       "      <th>BLOCK</th>\n",
       "      <th>LOT</th>\n",
       "      <th>EASE-MENT</th>\n",
       "      <th>ZIP_CODE</th>\n",
       "      <th>RESIDENTIAL_UNITS</th>\n",
       "      <th>COMMERCIAL_UNITS</th>\n",
       "      <th>TOTAL_UNITS</th>\n",
       "      <th>GROSS_SQUARE_FEET</th>\n",
       "      <th>YEAR_BUILT</th>\n",
       "      <th>TAX_CLASS_AT_TIME_OF_SALE</th>\n",
       "      <th>SALE_PRICE</th>\n",
       "    </tr>\n",
       "  </thead>\n",
       "  <tbody>\n",
       "    <tr>\n",
       "      <th>count</th>\n",
       "      <td>2505.000000</td>\n",
       "      <td>2505.000000</td>\n",
       "      <td>0.0</td>\n",
       "      <td>2505.000000</td>\n",
       "      <td>2505.000000</td>\n",
       "      <td>2505.000000</td>\n",
       "      <td>2505.000000</td>\n",
       "      <td>2505.000000</td>\n",
       "      <td>2505.000000</td>\n",
       "      <td>2505.0</td>\n",
       "      <td>2.505000e+03</td>\n",
       "    </tr>\n",
       "    <tr>\n",
       "      <th>mean</th>\n",
       "      <td>6758.345309</td>\n",
       "      <td>75.490220</td>\n",
       "      <td>NaN</td>\n",
       "      <td>10993.130938</td>\n",
       "      <td>0.987625</td>\n",
       "      <td>0.016367</td>\n",
       "      <td>1.003992</td>\n",
       "      <td>1473.593613</td>\n",
       "      <td>1944.774451</td>\n",
       "      <td>1.0</td>\n",
       "      <td>6.217706e+05</td>\n",
       "    </tr>\n",
       "    <tr>\n",
       "      <th>std</th>\n",
       "      <td>3977.348895</td>\n",
       "      <td>156.925935</td>\n",
       "      <td>NaN</td>\n",
       "      <td>494.390215</td>\n",
       "      <td>0.110576</td>\n",
       "      <td>0.130017</td>\n",
       "      <td>0.171863</td>\n",
       "      <td>599.356892</td>\n",
       "      <td>27.068364</td>\n",
       "      <td>0.0</td>\n",
       "      <td>2.915984e+05</td>\n",
       "    </tr>\n",
       "    <tr>\n",
       "      <th>min</th>\n",
       "      <td>21.000000</td>\n",
       "      <td>1.000000</td>\n",
       "      <td>NaN</td>\n",
       "      <td>10301.000000</td>\n",
       "      <td>0.000000</td>\n",
       "      <td>0.000000</td>\n",
       "      <td>0.000000</td>\n",
       "      <td>0.000000</td>\n",
       "      <td>1890.000000</td>\n",
       "      <td>1.0</td>\n",
       "      <td>1.040000e+05</td>\n",
       "    </tr>\n",
       "    <tr>\n",
       "      <th>25%</th>\n",
       "      <td>3830.000000</td>\n",
       "      <td>21.000000</td>\n",
       "      <td>NaN</td>\n",
       "      <td>10314.000000</td>\n",
       "      <td>1.000000</td>\n",
       "      <td>0.000000</td>\n",
       "      <td>1.000000</td>\n",
       "      <td>1144.000000</td>\n",
       "      <td>1925.000000</td>\n",
       "      <td>1.0</td>\n",
       "      <td>4.410000e+05</td>\n",
       "    </tr>\n",
       "    <tr>\n",
       "      <th>50%</th>\n",
       "      <td>6022.000000</td>\n",
       "      <td>42.000000</td>\n",
       "      <td>NaN</td>\n",
       "      <td>11234.000000</td>\n",
       "      <td>1.000000</td>\n",
       "      <td>0.000000</td>\n",
       "      <td>1.000000</td>\n",
       "      <td>1368.000000</td>\n",
       "      <td>1940.000000</td>\n",
       "      <td>1.0</td>\n",
       "      <td>5.600000e+05</td>\n",
       "    </tr>\n",
       "    <tr>\n",
       "      <th>75%</th>\n",
       "      <td>9898.000000</td>\n",
       "      <td>70.000000</td>\n",
       "      <td>NaN</td>\n",
       "      <td>11413.000000</td>\n",
       "      <td>1.000000</td>\n",
       "      <td>0.000000</td>\n",
       "      <td>1.000000</td>\n",
       "      <td>1683.000000</td>\n",
       "      <td>1960.000000</td>\n",
       "      <td>1.0</td>\n",
       "      <td>7.500000e+05</td>\n",
       "    </tr>\n",
       "    <tr>\n",
       "      <th>max</th>\n",
       "      <td>16350.000000</td>\n",
       "      <td>2720.000000</td>\n",
       "      <td>NaN</td>\n",
       "      <td>11697.000000</td>\n",
       "      <td>1.000000</td>\n",
       "      <td>2.000000</td>\n",
       "      <td>3.000000</td>\n",
       "      <td>7875.000000</td>\n",
       "      <td>2018.000000</td>\n",
       "      <td>1.0</td>\n",
       "      <td>1.955000e+06</td>\n",
       "    </tr>\n",
       "  </tbody>\n",
       "</table>\n",
       "</div>"
      ],
      "text/plain": [
       "              BLOCK          LOT  EASE-MENT      ZIP_CODE  RESIDENTIAL_UNITS  \\\n",
       "count   2505.000000  2505.000000        0.0   2505.000000        2505.000000   \n",
       "mean    6758.345309    75.490220        NaN  10993.130938           0.987625   \n",
       "std     3977.348895   156.925935        NaN    494.390215           0.110576   \n",
       "min       21.000000     1.000000        NaN  10301.000000           0.000000   \n",
       "25%     3830.000000    21.000000        NaN  10314.000000           1.000000   \n",
       "50%     6022.000000    42.000000        NaN  11234.000000           1.000000   \n",
       "75%     9898.000000    70.000000        NaN  11413.000000           1.000000   \n",
       "max    16350.000000  2720.000000        NaN  11697.000000           1.000000   \n",
       "\n",
       "       COMMERCIAL_UNITS  TOTAL_UNITS  GROSS_SQUARE_FEET   YEAR_BUILT  \\\n",
       "count       2505.000000  2505.000000        2505.000000  2505.000000   \n",
       "mean           0.016367     1.003992        1473.593613  1944.774451   \n",
       "std            0.130017     0.171863         599.356892    27.068364   \n",
       "min            0.000000     0.000000           0.000000  1890.000000   \n",
       "25%            0.000000     1.000000        1144.000000  1925.000000   \n",
       "50%            0.000000     1.000000        1368.000000  1940.000000   \n",
       "75%            0.000000     1.000000        1683.000000  1960.000000   \n",
       "max            2.000000     3.000000        7875.000000  2018.000000   \n",
       "\n",
       "       TAX_CLASS_AT_TIME_OF_SALE    SALE_PRICE  \n",
       "count                     2505.0  2.505000e+03  \n",
       "mean                         1.0  6.217706e+05  \n",
       "std                          0.0  2.915984e+05  \n",
       "min                          1.0  1.040000e+05  \n",
       "25%                          1.0  4.410000e+05  \n",
       "50%                          1.0  5.600000e+05  \n",
       "75%                          1.0  7.500000e+05  \n",
       "max                          1.0  1.955000e+06  "
      ]
     },
     "execution_count": 109,
     "metadata": {},
     "output_type": "execute_result"
    }
   ],
   "source": [
    "train.describe()"
   ]
  },
  {
   "cell_type": "code",
   "execution_count": 110,
   "metadata": {},
   "outputs": [
    {
     "data": {
      "text/html": [
       "<div>\n",
       "<style scoped>\n",
       "    .dataframe tbody tr th:only-of-type {\n",
       "        vertical-align: middle;\n",
       "    }\n",
       "\n",
       "    .dataframe tbody tr th {\n",
       "        vertical-align: top;\n",
       "    }\n",
       "\n",
       "    .dataframe thead th {\n",
       "        text-align: right;\n",
       "    }\n",
       "</style>\n",
       "<table border=\"1\" class=\"dataframe\">\n",
       "  <thead>\n",
       "    <tr style=\"text-align: right;\">\n",
       "      <th></th>\n",
       "      <th>BLOCK</th>\n",
       "      <th>LOT</th>\n",
       "      <th>EASE-MENT</th>\n",
       "      <th>ZIP_CODE</th>\n",
       "      <th>RESIDENTIAL_UNITS</th>\n",
       "      <th>COMMERCIAL_UNITS</th>\n",
       "      <th>TOTAL_UNITS</th>\n",
       "      <th>GROSS_SQUARE_FEET</th>\n",
       "      <th>YEAR_BUILT</th>\n",
       "      <th>TAX_CLASS_AT_TIME_OF_SALE</th>\n",
       "      <th>SALE_PRICE</th>\n",
       "    </tr>\n",
       "  </thead>\n",
       "  <tbody>\n",
       "    <tr>\n",
       "      <th>count</th>\n",
       "      <td>2505.000000</td>\n",
       "      <td>2505.000000</td>\n",
       "      <td>0.0</td>\n",
       "      <td>2505.000000</td>\n",
       "      <td>2505.000000</td>\n",
       "      <td>2505.000000</td>\n",
       "      <td>2505.000000</td>\n",
       "      <td>2505.000000</td>\n",
       "      <td>2505.000000</td>\n",
       "      <td>2505.0</td>\n",
       "      <td>2.505000e+03</td>\n",
       "    </tr>\n",
       "    <tr>\n",
       "      <th>mean</th>\n",
       "      <td>6758.345309</td>\n",
       "      <td>75.490220</td>\n",
       "      <td>NaN</td>\n",
       "      <td>10993.130938</td>\n",
       "      <td>0.987625</td>\n",
       "      <td>0.016367</td>\n",
       "      <td>1.003992</td>\n",
       "      <td>1473.593613</td>\n",
       "      <td>1944.774451</td>\n",
       "      <td>1.0</td>\n",
       "      <td>6.217706e+05</td>\n",
       "    </tr>\n",
       "    <tr>\n",
       "      <th>std</th>\n",
       "      <td>3977.348895</td>\n",
       "      <td>156.925935</td>\n",
       "      <td>NaN</td>\n",
       "      <td>494.390215</td>\n",
       "      <td>0.110576</td>\n",
       "      <td>0.130017</td>\n",
       "      <td>0.171863</td>\n",
       "      <td>599.356892</td>\n",
       "      <td>27.068364</td>\n",
       "      <td>0.0</td>\n",
       "      <td>2.915984e+05</td>\n",
       "    </tr>\n",
       "    <tr>\n",
       "      <th>min</th>\n",
       "      <td>21.000000</td>\n",
       "      <td>1.000000</td>\n",
       "      <td>NaN</td>\n",
       "      <td>10301.000000</td>\n",
       "      <td>0.000000</td>\n",
       "      <td>0.000000</td>\n",
       "      <td>0.000000</td>\n",
       "      <td>0.000000</td>\n",
       "      <td>1890.000000</td>\n",
       "      <td>1.0</td>\n",
       "      <td>1.040000e+05</td>\n",
       "    </tr>\n",
       "    <tr>\n",
       "      <th>25%</th>\n",
       "      <td>3830.000000</td>\n",
       "      <td>21.000000</td>\n",
       "      <td>NaN</td>\n",
       "      <td>10314.000000</td>\n",
       "      <td>1.000000</td>\n",
       "      <td>0.000000</td>\n",
       "      <td>1.000000</td>\n",
       "      <td>1144.000000</td>\n",
       "      <td>1925.000000</td>\n",
       "      <td>1.0</td>\n",
       "      <td>4.410000e+05</td>\n",
       "    </tr>\n",
       "    <tr>\n",
       "      <th>50%</th>\n",
       "      <td>6022.000000</td>\n",
       "      <td>42.000000</td>\n",
       "      <td>NaN</td>\n",
       "      <td>11234.000000</td>\n",
       "      <td>1.000000</td>\n",
       "      <td>0.000000</td>\n",
       "      <td>1.000000</td>\n",
       "      <td>1368.000000</td>\n",
       "      <td>1940.000000</td>\n",
       "      <td>1.0</td>\n",
       "      <td>5.600000e+05</td>\n",
       "    </tr>\n",
       "    <tr>\n",
       "      <th>75%</th>\n",
       "      <td>9898.000000</td>\n",
       "      <td>70.000000</td>\n",
       "      <td>NaN</td>\n",
       "      <td>11413.000000</td>\n",
       "      <td>1.000000</td>\n",
       "      <td>0.000000</td>\n",
       "      <td>1.000000</td>\n",
       "      <td>1683.000000</td>\n",
       "      <td>1960.000000</td>\n",
       "      <td>1.0</td>\n",
       "      <td>7.500000e+05</td>\n",
       "    </tr>\n",
       "    <tr>\n",
       "      <th>max</th>\n",
       "      <td>16350.000000</td>\n",
       "      <td>2720.000000</td>\n",
       "      <td>NaN</td>\n",
       "      <td>11697.000000</td>\n",
       "      <td>1.000000</td>\n",
       "      <td>2.000000</td>\n",
       "      <td>3.000000</td>\n",
       "      <td>7875.000000</td>\n",
       "      <td>2018.000000</td>\n",
       "      <td>1.0</td>\n",
       "      <td>1.955000e+06</td>\n",
       "    </tr>\n",
       "  </tbody>\n",
       "</table>\n",
       "</div>"
      ],
      "text/plain": [
       "              BLOCK          LOT  EASE-MENT      ZIP_CODE  RESIDENTIAL_UNITS  \\\n",
       "count   2505.000000  2505.000000        0.0   2505.000000        2505.000000   \n",
       "mean    6758.345309    75.490220        NaN  10993.130938           0.987625   \n",
       "std     3977.348895   156.925935        NaN    494.390215           0.110576   \n",
       "min       21.000000     1.000000        NaN  10301.000000           0.000000   \n",
       "25%     3830.000000    21.000000        NaN  10314.000000           1.000000   \n",
       "50%     6022.000000    42.000000        NaN  11234.000000           1.000000   \n",
       "75%     9898.000000    70.000000        NaN  11413.000000           1.000000   \n",
       "max    16350.000000  2720.000000        NaN  11697.000000           1.000000   \n",
       "\n",
       "       COMMERCIAL_UNITS  TOTAL_UNITS  GROSS_SQUARE_FEET   YEAR_BUILT  \\\n",
       "count       2505.000000  2505.000000        2505.000000  2505.000000   \n",
       "mean           0.016367     1.003992        1473.593613  1944.774451   \n",
       "std            0.130017     0.171863         599.356892    27.068364   \n",
       "min            0.000000     0.000000           0.000000  1890.000000   \n",
       "25%            0.000000     1.000000        1144.000000  1925.000000   \n",
       "50%            0.000000     1.000000        1368.000000  1940.000000   \n",
       "75%            0.000000     1.000000        1683.000000  1960.000000   \n",
       "max            2.000000     3.000000        7875.000000  2018.000000   \n",
       "\n",
       "       TAX_CLASS_AT_TIME_OF_SALE    SALE_PRICE  \n",
       "count                     2505.0  2.505000e+03  \n",
       "mean                         1.0  6.217706e+05  \n",
       "std                          0.0  2.915984e+05  \n",
       "min                          1.0  1.040000e+05  \n",
       "25%                          1.0  4.410000e+05  \n",
       "50%                          1.0  5.600000e+05  \n",
       "75%                          1.0  7.500000e+05  \n",
       "max                          1.0  1.955000e+06  "
      ]
     },
     "execution_count": 110,
     "metadata": {},
     "output_type": "execute_result"
    }
   ],
   "source": [
    "train.select_dtypes(include='number').describe()"
   ]
  },
  {
   "cell_type": "code",
   "execution_count": 111,
   "metadata": {},
   "outputs": [
    {
     "data": {
      "text/html": [
       "<div>\n",
       "<style scoped>\n",
       "    .dataframe tbody tr th:only-of-type {\n",
       "        vertical-align: middle;\n",
       "    }\n",
       "\n",
       "    .dataframe tbody tr th {\n",
       "        vertical-align: top;\n",
       "    }\n",
       "\n",
       "    .dataframe thead th {\n",
       "        text-align: right;\n",
       "    }\n",
       "</style>\n",
       "<table border=\"1\" class=\"dataframe\">\n",
       "  <thead>\n",
       "    <tr style=\"text-align: right;\">\n",
       "      <th></th>\n",
       "      <th>BOROUGH</th>\n",
       "      <th>NEIGHBORHOOD</th>\n",
       "      <th>BUILDING_CLASS_CATEGORY</th>\n",
       "      <th>TAX_CLASS_AT_PRESENT</th>\n",
       "      <th>BUILDING_CLASS_AT_PRESENT</th>\n",
       "      <th>ADDRESS</th>\n",
       "      <th>APARTMENT_NUMBER</th>\n",
       "      <th>LAND_SQUARE_FEET</th>\n",
       "      <th>BUILDING_CLASS_AT_TIME_OF_SALE</th>\n",
       "      <th>SALE_DATE</th>\n",
       "    </tr>\n",
       "  </thead>\n",
       "  <tbody>\n",
       "    <tr>\n",
       "      <th>count</th>\n",
       "      <td>2505</td>\n",
       "      <td>2505</td>\n",
       "      <td>2505</td>\n",
       "      <td>2505</td>\n",
       "      <td>2505</td>\n",
       "      <td>2505</td>\n",
       "      <td>1</td>\n",
       "      <td>2505</td>\n",
       "      <td>2505</td>\n",
       "      <td>2505</td>\n",
       "    </tr>\n",
       "    <tr>\n",
       "      <th>unique</th>\n",
       "      <td>5</td>\n",
       "      <td>7</td>\n",
       "      <td>1</td>\n",
       "      <td>2</td>\n",
       "      <td>13</td>\n",
       "      <td>2495</td>\n",
       "      <td>1</td>\n",
       "      <td>886</td>\n",
       "      <td>11</td>\n",
       "      <td>67</td>\n",
       "    </tr>\n",
       "    <tr>\n",
       "      <th>top</th>\n",
       "      <td>4</td>\n",
       "      <td>OTHER</td>\n",
       "      <td>01 ONE FAMILY DWELLINGS</td>\n",
       "      <td>1</td>\n",
       "      <td>A1</td>\n",
       "      <td>57 CHESTNUT STREET</td>\n",
       "      <td>RP.</td>\n",
       "      <td>4,000</td>\n",
       "      <td>A1</td>\n",
       "      <td>2019-01-31 00:00:00</td>\n",
       "    </tr>\n",
       "    <tr>\n",
       "      <th>freq</th>\n",
       "      <td>1203</td>\n",
       "      <td>2358</td>\n",
       "      <td>2505</td>\n",
       "      <td>2474</td>\n",
       "      <td>918</td>\n",
       "      <td>2</td>\n",
       "      <td>1</td>\n",
       "      <td>233</td>\n",
       "      <td>918</td>\n",
       "      <td>78</td>\n",
       "    </tr>\n",
       "    <tr>\n",
       "      <th>first</th>\n",
       "      <td>NaN</td>\n",
       "      <td>NaN</td>\n",
       "      <td>NaN</td>\n",
       "      <td>NaN</td>\n",
       "      <td>NaN</td>\n",
       "      <td>NaN</td>\n",
       "      <td>NaN</td>\n",
       "      <td>NaN</td>\n",
       "      <td>NaN</td>\n",
       "      <td>2019-01-02 00:00:00</td>\n",
       "    </tr>\n",
       "    <tr>\n",
       "      <th>last</th>\n",
       "      <td>NaN</td>\n",
       "      <td>NaN</td>\n",
       "      <td>NaN</td>\n",
       "      <td>NaN</td>\n",
       "      <td>NaN</td>\n",
       "      <td>NaN</td>\n",
       "      <td>NaN</td>\n",
       "      <td>NaN</td>\n",
       "      <td>NaN</td>\n",
       "      <td>2019-03-30 00:00:00</td>\n",
       "    </tr>\n",
       "  </tbody>\n",
       "</table>\n",
       "</div>"
      ],
      "text/plain": [
       "       BOROUGH NEIGHBORHOOD  BUILDING_CLASS_CATEGORY TAX_CLASS_AT_PRESENT  \\\n",
       "count     2505         2505                     2505                 2505   \n",
       "unique       5            7                        1                    2   \n",
       "top          4        OTHER  01 ONE FAMILY DWELLINGS                    1   \n",
       "freq      1203         2358                     2505                 2474   \n",
       "first      NaN          NaN                      NaN                  NaN   \n",
       "last       NaN          NaN                      NaN                  NaN   \n",
       "\n",
       "       BUILDING_CLASS_AT_PRESENT             ADDRESS APARTMENT_NUMBER  \\\n",
       "count                       2505                2505                1   \n",
       "unique                        13                2495                1   \n",
       "top                           A1  57 CHESTNUT STREET              RP.   \n",
       "freq                         918                   2                1   \n",
       "first                        NaN                 NaN              NaN   \n",
       "last                         NaN                 NaN              NaN   \n",
       "\n",
       "       LAND_SQUARE_FEET BUILDING_CLASS_AT_TIME_OF_SALE            SALE_DATE  \n",
       "count              2505                           2505                 2505  \n",
       "unique              886                             11                   67  \n",
       "top               4,000                             A1  2019-01-31 00:00:00  \n",
       "freq                233                            918                   78  \n",
       "first               NaN                            NaN  2019-01-02 00:00:00  \n",
       "last                NaN                            NaN  2019-03-30 00:00:00  "
      ]
     },
     "execution_count": 111,
     "metadata": {},
     "output_type": "execute_result"
    }
   ],
   "source": [
    "train.describe(exclude='number')"
   ]
  },
  {
   "cell_type": "code",
   "execution_count": 112,
   "metadata": {},
   "outputs": [],
   "source": [
    "# Look at relationship between year built and price"
   ]
  },
  {
   "cell_type": "code",
   "execution_count": 113,
   "metadata": {},
   "outputs": [
    {
     "data": {
      "text/plain": [
       "array(['A1', 'A5', 'A0', 'A2', 'A3', 'A9', 'S1', 'A4', 'A6', 'A8', 'S0'],\n",
       "      dtype=object)"
      ]
     },
     "execution_count": 113,
     "metadata": {},
     "output_type": "execute_result"
    }
   ],
   "source": [
    "train['BUILDING_CLASS_AT_TIME_OF_SALE'].unique()\n"
   ]
  },
  {
   "cell_type": "code",
   "execution_count": 114,
   "metadata": {},
   "outputs": [
    {
     "data": {
      "text/plain": [
       "A1    918\n",
       "A5    779\n",
       "A2    413\n",
       "A9    192\n",
       "A0     67\n",
       "S1     39\n",
       "A3     38\n",
       "A8     31\n",
       "A6     14\n",
       "A4     13\n",
       "S0      1\n",
       "Name: BUILDING_CLASS_AT_TIME_OF_SALE, dtype: int64"
      ]
     },
     "execution_count": 114,
     "metadata": {},
     "output_type": "execute_result"
    }
   ],
   "source": [
    "train['BUILDING_CLASS_AT_TIME_OF_SALE'].value_counts()"
   ]
  },
  {
   "cell_type": "code",
   "execution_count": 115,
   "metadata": {},
   "outputs": [
    {
     "data": {
      "text/plain": [
       "BUILDING_CLASS_AT_TIME_OF_SALE\n",
       "A0    6.884526e+05\n",
       "A1    6.415379e+05\n",
       "A2    5.991551e+05\n",
       "A3    1.199412e+06\n",
       "A4    9.254561e+05\n",
       "A5    5.718045e+05\n",
       "A6    2.344273e+05\n",
       "A8    3.929000e+05\n",
       "A9    6.316224e+05\n",
       "S0    1.925000e+06\n",
       "S1    8.544496e+05\n",
       "Name: SALE_PRICE, dtype: float64"
      ]
     },
     "execution_count": 115,
     "metadata": {},
     "output_type": "execute_result"
    }
   ],
   "source": [
    "train.groupby('BUILDING_CLASS_AT_TIME_OF_SALE')['SALE_PRICE'].mean()"
   ]
  },
  {
   "cell_type": "code",
   "execution_count": 116,
   "metadata": {},
   "outputs": [
    {
     "data": {
      "text/html": [
       "<div>\n",
       "<style scoped>\n",
       "    .dataframe tbody tr th:only-of-type {\n",
       "        vertical-align: middle;\n",
       "    }\n",
       "\n",
       "    .dataframe tbody tr th {\n",
       "        vertical-align: top;\n",
       "    }\n",
       "\n",
       "    .dataframe thead th {\n",
       "        text-align: right;\n",
       "    }\n",
       "</style>\n",
       "<table border=\"1\" class=\"dataframe\">\n",
       "  <thead>\n",
       "    <tr style=\"text-align: right;\">\n",
       "      <th></th>\n",
       "      <th>count</th>\n",
       "      <th>mean</th>\n",
       "      <th>std</th>\n",
       "      <th>min</th>\n",
       "      <th>25%</th>\n",
       "      <th>50%</th>\n",
       "      <th>75%</th>\n",
       "      <th>max</th>\n",
       "    </tr>\n",
       "    <tr>\n",
       "      <th>BUILDING_CLASS_AT_TIME_OF_SALE</th>\n",
       "      <th></th>\n",
       "      <th></th>\n",
       "      <th></th>\n",
       "      <th></th>\n",
       "      <th></th>\n",
       "      <th></th>\n",
       "      <th></th>\n",
       "      <th></th>\n",
       "    </tr>\n",
       "  </thead>\n",
       "  <tbody>\n",
       "    <tr>\n",
       "      <th>A0</th>\n",
       "      <td>67.0</td>\n",
       "      <td>6.884526e+05</td>\n",
       "      <td>221482.552470</td>\n",
       "      <td>104000.0</td>\n",
       "      <td>572500.00</td>\n",
       "      <td>678000.0</td>\n",
       "      <td>833500.0</td>\n",
       "      <td>1200000.0</td>\n",
       "    </tr>\n",
       "    <tr>\n",
       "      <th>A1</th>\n",
       "      <td>918.0</td>\n",
       "      <td>6.415379e+05</td>\n",
       "      <td>311529.876006</td>\n",
       "      <td>112000.0</td>\n",
       "      <td>450000.00</td>\n",
       "      <td>570000.0</td>\n",
       "      <td>774375.0</td>\n",
       "      <td>1955000.0</td>\n",
       "    </tr>\n",
       "    <tr>\n",
       "      <th>A2</th>\n",
       "      <td>413.0</td>\n",
       "      <td>5.991551e+05</td>\n",
       "      <td>244115.265462</td>\n",
       "      <td>108000.0</td>\n",
       "      <td>430000.00</td>\n",
       "      <td>555000.0</td>\n",
       "      <td>790000.0</td>\n",
       "      <td>1614600.0</td>\n",
       "    </tr>\n",
       "    <tr>\n",
       "      <th>A3</th>\n",
       "      <td>38.0</td>\n",
       "      <td>1.199412e+06</td>\n",
       "      <td>433884.919670</td>\n",
       "      <td>211650.0</td>\n",
       "      <td>862966.75</td>\n",
       "      <td>1323560.0</td>\n",
       "      <td>1528750.0</td>\n",
       "      <td>1876000.0</td>\n",
       "    </tr>\n",
       "    <tr>\n",
       "      <th>A4</th>\n",
       "      <td>13.0</td>\n",
       "      <td>9.254561e+05</td>\n",
       "      <td>461623.627974</td>\n",
       "      <td>250000.0</td>\n",
       "      <td>479000.00</td>\n",
       "      <td>1125000.0</td>\n",
       "      <td>1200000.0</td>\n",
       "      <td>1573500.0</td>\n",
       "    </tr>\n",
       "    <tr>\n",
       "      <th>A5</th>\n",
       "      <td>779.0</td>\n",
       "      <td>5.718045e+05</td>\n",
       "      <td>219626.084919</td>\n",
       "      <td>105000.0</td>\n",
       "      <td>439000.00</td>\n",
       "      <td>533000.0</td>\n",
       "      <td>689444.0</td>\n",
       "      <td>1775000.0</td>\n",
       "    </tr>\n",
       "    <tr>\n",
       "      <th>A6</th>\n",
       "      <td>14.0</td>\n",
       "      <td>2.344273e+05</td>\n",
       "      <td>68705.839723</td>\n",
       "      <td>120000.0</td>\n",
       "      <td>200250.00</td>\n",
       "      <td>232500.0</td>\n",
       "      <td>266500.0</td>\n",
       "      <td>399888.0</td>\n",
       "    </tr>\n",
       "    <tr>\n",
       "      <th>A8</th>\n",
       "      <td>31.0</td>\n",
       "      <td>3.929000e+05</td>\n",
       "      <td>168174.803900</td>\n",
       "      <td>110000.0</td>\n",
       "      <td>288500.00</td>\n",
       "      <td>390000.0</td>\n",
       "      <td>462500.0</td>\n",
       "      <td>820000.0</td>\n",
       "    </tr>\n",
       "    <tr>\n",
       "      <th>A9</th>\n",
       "      <td>192.0</td>\n",
       "      <td>6.316224e+05</td>\n",
       "      <td>275367.660357</td>\n",
       "      <td>115000.0</td>\n",
       "      <td>470000.00</td>\n",
       "      <td>583500.0</td>\n",
       "      <td>760000.0</td>\n",
       "      <td>1850000.0</td>\n",
       "    </tr>\n",
       "    <tr>\n",
       "      <th>S0</th>\n",
       "      <td>1.0</td>\n",
       "      <td>1.925000e+06</td>\n",
       "      <td>NaN</td>\n",
       "      <td>1925000.0</td>\n",
       "      <td>1925000.00</td>\n",
       "      <td>1925000.0</td>\n",
       "      <td>1925000.0</td>\n",
       "      <td>1925000.0</td>\n",
       "    </tr>\n",
       "    <tr>\n",
       "      <th>S1</th>\n",
       "      <td>39.0</td>\n",
       "      <td>8.544496e+05</td>\n",
       "      <td>498477.591830</td>\n",
       "      <td>133500.0</td>\n",
       "      <td>443141.00</td>\n",
       "      <td>757504.0</td>\n",
       "      <td>1175000.0</td>\n",
       "      <td>1870000.0</td>\n",
       "    </tr>\n",
       "  </tbody>\n",
       "</table>\n",
       "</div>"
      ],
      "text/plain": [
       "                                count          mean            std        min  \\\n",
       "BUILDING_CLASS_AT_TIME_OF_SALE                                                  \n",
       "A0                               67.0  6.884526e+05  221482.552470   104000.0   \n",
       "A1                              918.0  6.415379e+05  311529.876006   112000.0   \n",
       "A2                              413.0  5.991551e+05  244115.265462   108000.0   \n",
       "A3                               38.0  1.199412e+06  433884.919670   211650.0   \n",
       "A4                               13.0  9.254561e+05  461623.627974   250000.0   \n",
       "A5                              779.0  5.718045e+05  219626.084919   105000.0   \n",
       "A6                               14.0  2.344273e+05   68705.839723   120000.0   \n",
       "A8                               31.0  3.929000e+05  168174.803900   110000.0   \n",
       "A9                              192.0  6.316224e+05  275367.660357   115000.0   \n",
       "S0                                1.0  1.925000e+06            NaN  1925000.0   \n",
       "S1                               39.0  8.544496e+05  498477.591830   133500.0   \n",
       "\n",
       "                                       25%        50%        75%        max  \n",
       "BUILDING_CLASS_AT_TIME_OF_SALE                                               \n",
       "A0                               572500.00   678000.0   833500.0  1200000.0  \n",
       "A1                               450000.00   570000.0   774375.0  1955000.0  \n",
       "A2                               430000.00   555000.0   790000.0  1614600.0  \n",
       "A3                               862966.75  1323560.0  1528750.0  1876000.0  \n",
       "A4                               479000.00  1125000.0  1200000.0  1573500.0  \n",
       "A5                               439000.00   533000.0   689444.0  1775000.0  \n",
       "A6                               200250.00   232500.0   266500.0   399888.0  \n",
       "A8                               288500.00   390000.0   462500.0   820000.0  \n",
       "A9                               470000.00   583500.0   760000.0  1850000.0  \n",
       "S0                              1925000.00  1925000.0  1925000.0  1925000.0  \n",
       "S1                               443141.00   757504.0  1175000.0  1870000.0  "
      ]
     },
     "execution_count": 116,
     "metadata": {},
     "output_type": "execute_result"
    }
   ],
   "source": [
    "train.groupby('BUILDING_CLASS_AT_TIME_OF_SALE')['SALE_PRICE'].describe()"
   ]
  },
  {
   "cell_type": "code",
   "execution_count": 117,
   "metadata": {},
   "outputs": [],
   "source": [
    "# Do one-hot encoding of categorical features."
   ]
  },
  {
   "cell_type": "code",
   "execution_count": 118,
   "metadata": {},
   "outputs": [
    {
     "data": {
      "text/plain": [
       "(2505, 21)"
      ]
     },
     "execution_count": 118,
     "metadata": {},
     "output_type": "execute_result"
    }
   ],
   "source": [
    "train.shape"
   ]
  },
  {
   "cell_type": "code",
   "execution_count": 119,
   "metadata": {},
   "outputs": [
    {
     "data": {
      "text/plain": [
       "BOROUGH                              0\n",
       "NEIGHBORHOOD                         0\n",
       "BUILDING_CLASS_CATEGORY              0\n",
       "TAX_CLASS_AT_PRESENT                 0\n",
       "BLOCK                                0\n",
       "LOT                                  0\n",
       "EASE-MENT                         2505\n",
       "BUILDING_CLASS_AT_PRESENT            0\n",
       "ADDRESS                              0\n",
       "APARTMENT_NUMBER                  2504\n",
       "ZIP_CODE                             0\n",
       "RESIDENTIAL_UNITS                    0\n",
       "COMMERCIAL_UNITS                     0\n",
       "TOTAL_UNITS                          0\n",
       "LAND_SQUARE_FEET                     0\n",
       "GROSS_SQUARE_FEET                    0\n",
       "YEAR_BUILT                           0\n",
       "TAX_CLASS_AT_TIME_OF_SALE            0\n",
       "BUILDING_CLASS_AT_TIME_OF_SALE       0\n",
       "SALE_PRICE                           0\n",
       "SALE_DATE                            0\n",
       "dtype: int64"
      ]
     },
     "execution_count": 119,
     "metadata": {},
     "output_type": "execute_result"
    }
   ],
   "source": [
    "train.isnull().sum()"
   ]
  },
  {
   "cell_type": "code",
   "execution_count": 120,
   "metadata": {},
   "outputs": [],
   "source": [
    "train = train.drop(columns=['EASE-MENT','APARTMENT_NUMBER'])"
   ]
  },
  {
   "cell_type": "code",
   "execution_count": 121,
   "metadata": {},
   "outputs": [
    {
     "data": {
      "text/plain": [
       "(2505, 19)"
      ]
     },
     "execution_count": 121,
     "metadata": {},
     "output_type": "execute_result"
    }
   ],
   "source": [
    "train.shape"
   ]
  },
  {
   "cell_type": "code",
   "execution_count": 122,
   "metadata": {},
   "outputs": [
    {
     "data": {
      "text/plain": [
       "BOROUGH                                   object\n",
       "NEIGHBORHOOD                              object\n",
       "BUILDING_CLASS_CATEGORY                   object\n",
       "TAX_CLASS_AT_PRESENT                      object\n",
       "BLOCK                                      int64\n",
       "LOT                                        int64\n",
       "BUILDING_CLASS_AT_PRESENT                 object\n",
       "ADDRESS                                   object\n",
       "ZIP_CODE                                 float64\n",
       "RESIDENTIAL_UNITS                        float64\n",
       "COMMERCIAL_UNITS                         float64\n",
       "TOTAL_UNITS                              float64\n",
       "LAND_SQUARE_FEET                          object\n",
       "GROSS_SQUARE_FEET                        float64\n",
       "YEAR_BUILT                               float64\n",
       "TAX_CLASS_AT_TIME_OF_SALE                  int64\n",
       "BUILDING_CLASS_AT_TIME_OF_SALE            object\n",
       "SALE_PRICE                                 int32\n",
       "SALE_DATE                         datetime64[ns]\n",
       "dtype: object"
      ]
     },
     "execution_count": 122,
     "metadata": {},
     "output_type": "execute_result"
    }
   ],
   "source": [
    "train.dtypes"
   ]
  },
  {
   "cell_type": "code",
   "execution_count": 123,
   "metadata": {},
   "outputs": [
    {
     "data": {
      "text/plain": [
       "Index(['BUILDING_CLASS_CATEGORY', 'TAX_CLASS_AT_PRESENT', 'BLOCK', 'LOT',\n",
       "       'ZIP_CODE', 'RESIDENTIAL_UNITS', 'COMMERCIAL_UNITS', 'TOTAL_UNITS',\n",
       "       'GROSS_SQUARE_FEET', 'YEAR_BUILT', 'TAX_CLASS_AT_TIME_OF_SALE',\n",
       "       'BUILDING_CLASS_AT_TIME_OF_SALE'],\n",
       "      dtype='object')"
      ]
     },
     "execution_count": 123,
     "metadata": {},
     "output_type": "execute_result"
    }
   ],
   "source": [
    "target = \"SALE_PRICE\"\n",
    "high_cardinality = ['BOROUGH', 'NEIGHBORHOOD', 'BUILDING_CLASS_AT_PRESENT',\n",
    "                    'ADDRESS','LAND_SQUARE_FEET', 'SALE_DATE']\n",
    "features = train.columns.drop([target] + high_cardinality)\n",
    "features"
   ]
  },
  {
   "cell_type": "code",
   "execution_count": 124,
   "metadata": {},
   "outputs": [
    {
     "data": {
      "text/plain": [
       "(2505, 19)"
      ]
     },
     "execution_count": 124,
     "metadata": {},
     "output_type": "execute_result"
    }
   ],
   "source": [
    "train.shape"
   ]
  },
  {
   "cell_type": "code",
   "execution_count": 125,
   "metadata": {},
   "outputs": [],
   "source": [
    "X_train = train[features]\n",
    "y_train = train[target]\n",
    "X_test = test[features]\n",
    "y_test = test[target]"
   ]
  },
  {
   "cell_type": "code",
   "execution_count": 126,
   "metadata": {},
   "outputs": [
    {
     "data": {
      "text/html": [
       "<div>\n",
       "<style scoped>\n",
       "    .dataframe tbody tr th:only-of-type {\n",
       "        vertical-align: middle;\n",
       "    }\n",
       "\n",
       "    .dataframe tbody tr th {\n",
       "        vertical-align: top;\n",
       "    }\n",
       "\n",
       "    .dataframe thead th {\n",
       "        text-align: right;\n",
       "    }\n",
       "</style>\n",
       "<table border=\"1\" class=\"dataframe\">\n",
       "  <thead>\n",
       "    <tr style=\"text-align: right;\">\n",
       "      <th></th>\n",
       "      <th>BUILDING_CLASS_CATEGORY</th>\n",
       "      <th>TAX_CLASS_AT_PRESENT</th>\n",
       "      <th>BLOCK</th>\n",
       "      <th>LOT</th>\n",
       "      <th>ZIP_CODE</th>\n",
       "      <th>RESIDENTIAL_UNITS</th>\n",
       "      <th>COMMERCIAL_UNITS</th>\n",
       "      <th>TOTAL_UNITS</th>\n",
       "      <th>GROSS_SQUARE_FEET</th>\n",
       "      <th>YEAR_BUILT</th>\n",
       "      <th>TAX_CLASS_AT_TIME_OF_SALE</th>\n",
       "      <th>BUILDING_CLASS_AT_TIME_OF_SALE</th>\n",
       "    </tr>\n",
       "  </thead>\n",
       "  <tbody>\n",
       "    <tr>\n",
       "      <th>78</th>\n",
       "      <td>01 ONE FAMILY DWELLINGS</td>\n",
       "      <td>1</td>\n",
       "      <td>4210</td>\n",
       "      <td>19</td>\n",
       "      <td>10461.0</td>\n",
       "      <td>1.0</td>\n",
       "      <td>0.0</td>\n",
       "      <td>1.0</td>\n",
       "      <td>2043.0</td>\n",
       "      <td>1925.0</td>\n",
       "      <td>1</td>\n",
       "      <td>A1</td>\n",
       "    </tr>\n",
       "    <tr>\n",
       "      <th>108</th>\n",
       "      <td>01 ONE FAMILY DWELLINGS</td>\n",
       "      <td>1</td>\n",
       "      <td>5212</td>\n",
       "      <td>69</td>\n",
       "      <td>11226.0</td>\n",
       "      <td>1.0</td>\n",
       "      <td>0.0</td>\n",
       "      <td>1.0</td>\n",
       "      <td>2680.0</td>\n",
       "      <td>1899.0</td>\n",
       "      <td>1</td>\n",
       "      <td>A1</td>\n",
       "    </tr>\n",
       "    <tr>\n",
       "      <th>111</th>\n",
       "      <td>01 ONE FAMILY DWELLINGS</td>\n",
       "      <td>1</td>\n",
       "      <td>7930</td>\n",
       "      <td>121</td>\n",
       "      <td>11203.0</td>\n",
       "      <td>1.0</td>\n",
       "      <td>0.0</td>\n",
       "      <td>1.0</td>\n",
       "      <td>1872.0</td>\n",
       "      <td>1940.0</td>\n",
       "      <td>1</td>\n",
       "      <td>A5</td>\n",
       "    </tr>\n",
       "    <tr>\n",
       "      <th>120</th>\n",
       "      <td>01 ONE FAMILY DWELLINGS</td>\n",
       "      <td>1</td>\n",
       "      <td>6806</td>\n",
       "      <td>72</td>\n",
       "      <td>11229.0</td>\n",
       "      <td>1.0</td>\n",
       "      <td>0.0</td>\n",
       "      <td>1.0</td>\n",
       "      <td>1932.0</td>\n",
       "      <td>1930.0</td>\n",
       "      <td>1</td>\n",
       "      <td>A1</td>\n",
       "    </tr>\n",
       "    <tr>\n",
       "      <th>121</th>\n",
       "      <td>01 ONE FAMILY DWELLINGS</td>\n",
       "      <td>1</td>\n",
       "      <td>6761</td>\n",
       "      <td>42</td>\n",
       "      <td>11230.0</td>\n",
       "      <td>1.0</td>\n",
       "      <td>0.0</td>\n",
       "      <td>1.0</td>\n",
       "      <td>1722.0</td>\n",
       "      <td>1920.0</td>\n",
       "      <td>1</td>\n",
       "      <td>A1</td>\n",
       "    </tr>\n",
       "  </tbody>\n",
       "</table>\n",
       "</div>"
      ],
      "text/plain": [
       "     BUILDING_CLASS_CATEGORY TAX_CLASS_AT_PRESENT  BLOCK  LOT  ZIP_CODE  \\\n",
       "78   01 ONE FAMILY DWELLINGS                    1   4210   19   10461.0   \n",
       "108  01 ONE FAMILY DWELLINGS                    1   5212   69   11226.0   \n",
       "111  01 ONE FAMILY DWELLINGS                    1   7930  121   11203.0   \n",
       "120  01 ONE FAMILY DWELLINGS                    1   6806   72   11229.0   \n",
       "121  01 ONE FAMILY DWELLINGS                    1   6761   42   11230.0   \n",
       "\n",
       "     RESIDENTIAL_UNITS  COMMERCIAL_UNITS  TOTAL_UNITS  GROSS_SQUARE_FEET  \\\n",
       "78                 1.0               0.0          1.0             2043.0   \n",
       "108                1.0               0.0          1.0             2680.0   \n",
       "111                1.0               0.0          1.0             1872.0   \n",
       "120                1.0               0.0          1.0             1932.0   \n",
       "121                1.0               0.0          1.0             1722.0   \n",
       "\n",
       "     YEAR_BUILT  TAX_CLASS_AT_TIME_OF_SALE BUILDING_CLASS_AT_TIME_OF_SALE  \n",
       "78       1925.0                          1                             A1  \n",
       "108      1899.0                          1                             A1  \n",
       "111      1940.0                          1                             A5  \n",
       "120      1930.0                          1                             A1  \n",
       "121      1920.0                          1                             A1  "
      ]
     },
     "execution_count": 126,
     "metadata": {},
     "output_type": "execute_result"
    }
   ],
   "source": [
    "X_train.head()"
   ]
  },
  {
   "cell_type": "code",
   "execution_count": 127,
   "metadata": {},
   "outputs": [],
   "source": [
    "import category_encoders as ce\n",
    "\n",
    "encoder = ce.one_hot.OneHotEncoder(use_cat_names=True)\n",
    "X_train_enc = encoder.fit_transform(X_train)\n",
    "X_test_enc = encoder.transform(X_test)"
   ]
  },
  {
   "cell_type": "code",
   "execution_count": 128,
   "metadata": {},
   "outputs": [
    {
     "data": {
      "text/html": [
       "<div>\n",
       "<style scoped>\n",
       "    .dataframe tbody tr th:only-of-type {\n",
       "        vertical-align: middle;\n",
       "    }\n",
       "\n",
       "    .dataframe tbody tr th {\n",
       "        vertical-align: top;\n",
       "    }\n",
       "\n",
       "    .dataframe thead th {\n",
       "        text-align: right;\n",
       "    }\n",
       "</style>\n",
       "<table border=\"1\" class=\"dataframe\">\n",
       "  <thead>\n",
       "    <tr style=\"text-align: right;\">\n",
       "      <th></th>\n",
       "      <th>BUILDING_CLASS_CATEGORY_01 ONE FAMILY DWELLINGS</th>\n",
       "      <th>TAX_CLASS_AT_PRESENT_1</th>\n",
       "      <th>TAX_CLASS_AT_PRESENT_1D</th>\n",
       "      <th>BLOCK</th>\n",
       "      <th>LOT</th>\n",
       "      <th>ZIP_CODE</th>\n",
       "      <th>RESIDENTIAL_UNITS</th>\n",
       "      <th>COMMERCIAL_UNITS</th>\n",
       "      <th>TOTAL_UNITS</th>\n",
       "      <th>GROSS_SQUARE_FEET</th>\n",
       "      <th>YEAR_BUILT</th>\n",
       "      <th>TAX_CLASS_AT_TIME_OF_SALE</th>\n",
       "      <th>BUILDING_CLASS_AT_TIME_OF_SALE_A1</th>\n",
       "      <th>BUILDING_CLASS_AT_TIME_OF_SALE_A5</th>\n",
       "      <th>BUILDING_CLASS_AT_TIME_OF_SALE_A0</th>\n",
       "      <th>BUILDING_CLASS_AT_TIME_OF_SALE_A2</th>\n",
       "      <th>BUILDING_CLASS_AT_TIME_OF_SALE_A3</th>\n",
       "      <th>BUILDING_CLASS_AT_TIME_OF_SALE_A9</th>\n",
       "      <th>BUILDING_CLASS_AT_TIME_OF_SALE_S1</th>\n",
       "      <th>BUILDING_CLASS_AT_TIME_OF_SALE_A4</th>\n",
       "      <th>BUILDING_CLASS_AT_TIME_OF_SALE_A6</th>\n",
       "      <th>BUILDING_CLASS_AT_TIME_OF_SALE_A8</th>\n",
       "      <th>BUILDING_CLASS_AT_TIME_OF_SALE_S0</th>\n",
       "    </tr>\n",
       "  </thead>\n",
       "  <tbody>\n",
       "    <tr>\n",
       "      <th>18500</th>\n",
       "      <td>1</td>\n",
       "      <td>1</td>\n",
       "      <td>0</td>\n",
       "      <td>2555</td>\n",
       "      <td>25</td>\n",
       "      <td>10454.0</td>\n",
       "      <td>1.0</td>\n",
       "      <td>0.0</td>\n",
       "      <td>1.0</td>\n",
       "      <td>1104.0</td>\n",
       "      <td>2000.0</td>\n",
       "      <td>1</td>\n",
       "      <td>0</td>\n",
       "      <td>1</td>\n",
       "      <td>0</td>\n",
       "      <td>0</td>\n",
       "      <td>0</td>\n",
       "      <td>0</td>\n",
       "      <td>0</td>\n",
       "      <td>0</td>\n",
       "      <td>0</td>\n",
       "      <td>0</td>\n",
       "      <td>0</td>\n",
       "    </tr>\n",
       "    <tr>\n",
       "      <th>18520</th>\n",
       "      <td>1</td>\n",
       "      <td>1</td>\n",
       "      <td>0</td>\n",
       "      <td>5575</td>\n",
       "      <td>27</td>\n",
       "      <td>11204.0</td>\n",
       "      <td>1.0</td>\n",
       "      <td>0.0</td>\n",
       "      <td>1.0</td>\n",
       "      <td>3690.0</td>\n",
       "      <td>1920.0</td>\n",
       "      <td>1</td>\n",
       "      <td>0</td>\n",
       "      <td>0</td>\n",
       "      <td>0</td>\n",
       "      <td>0</td>\n",
       "      <td>0</td>\n",
       "      <td>1</td>\n",
       "      <td>0</td>\n",
       "      <td>0</td>\n",
       "      <td>0</td>\n",
       "      <td>0</td>\n",
       "      <td>0</td>\n",
       "    </tr>\n",
       "    <tr>\n",
       "      <th>18521</th>\n",
       "      <td>1</td>\n",
       "      <td>1</td>\n",
       "      <td>0</td>\n",
       "      <td>6293</td>\n",
       "      <td>29</td>\n",
       "      <td>11228.0</td>\n",
       "      <td>1.0</td>\n",
       "      <td>0.0</td>\n",
       "      <td>1.0</td>\n",
       "      <td>1296.0</td>\n",
       "      <td>1930.0</td>\n",
       "      <td>1</td>\n",
       "      <td>1</td>\n",
       "      <td>0</td>\n",
       "      <td>0</td>\n",
       "      <td>0</td>\n",
       "      <td>0</td>\n",
       "      <td>0</td>\n",
       "      <td>0</td>\n",
       "      <td>0</td>\n",
       "      <td>0</td>\n",
       "      <td>0</td>\n",
       "      <td>0</td>\n",
       "    </tr>\n",
       "    <tr>\n",
       "      <th>18525</th>\n",
       "      <td>1</td>\n",
       "      <td>1</td>\n",
       "      <td>0</td>\n",
       "      <td>8448</td>\n",
       "      <td>68</td>\n",
       "      <td>11234.0</td>\n",
       "      <td>1.0</td>\n",
       "      <td>0.0</td>\n",
       "      <td>1.0</td>\n",
       "      <td>1665.0</td>\n",
       "      <td>1970.0</td>\n",
       "      <td>1</td>\n",
       "      <td>0</td>\n",
       "      <td>1</td>\n",
       "      <td>0</td>\n",
       "      <td>0</td>\n",
       "      <td>0</td>\n",
       "      <td>0</td>\n",
       "      <td>0</td>\n",
       "      <td>0</td>\n",
       "      <td>0</td>\n",
       "      <td>0</td>\n",
       "      <td>0</td>\n",
       "    </tr>\n",
       "    <tr>\n",
       "      <th>18549</th>\n",
       "      <td>1</td>\n",
       "      <td>1</td>\n",
       "      <td>0</td>\n",
       "      <td>7017</td>\n",
       "      <td>110</td>\n",
       "      <td>11224.0</td>\n",
       "      <td>1.0</td>\n",
       "      <td>0.0</td>\n",
       "      <td>1.0</td>\n",
       "      <td>1344.0</td>\n",
       "      <td>1993.0</td>\n",
       "      <td>1</td>\n",
       "      <td>0</td>\n",
       "      <td>1</td>\n",
       "      <td>0</td>\n",
       "      <td>0</td>\n",
       "      <td>0</td>\n",
       "      <td>0</td>\n",
       "      <td>0</td>\n",
       "      <td>0</td>\n",
       "      <td>0</td>\n",
       "      <td>0</td>\n",
       "      <td>0</td>\n",
       "    </tr>\n",
       "  </tbody>\n",
       "</table>\n",
       "</div>"
      ],
      "text/plain": [
       "       BUILDING_CLASS_CATEGORY_01 ONE FAMILY DWELLINGS  \\\n",
       "18500                                                1   \n",
       "18520                                                1   \n",
       "18521                                                1   \n",
       "18525                                                1   \n",
       "18549                                                1   \n",
       "\n",
       "       TAX_CLASS_AT_PRESENT_1  TAX_CLASS_AT_PRESENT_1D  BLOCK  LOT  ZIP_CODE  \\\n",
       "18500                       1                        0   2555   25   10454.0   \n",
       "18520                       1                        0   5575   27   11204.0   \n",
       "18521                       1                        0   6293   29   11228.0   \n",
       "18525                       1                        0   8448   68   11234.0   \n",
       "18549                       1                        0   7017  110   11224.0   \n",
       "\n",
       "       RESIDENTIAL_UNITS  COMMERCIAL_UNITS  TOTAL_UNITS  GROSS_SQUARE_FEET  \\\n",
       "18500                1.0               0.0          1.0             1104.0   \n",
       "18520                1.0               0.0          1.0             3690.0   \n",
       "18521                1.0               0.0          1.0             1296.0   \n",
       "18525                1.0               0.0          1.0             1665.0   \n",
       "18549                1.0               0.0          1.0             1344.0   \n",
       "\n",
       "       YEAR_BUILT  TAX_CLASS_AT_TIME_OF_SALE  \\\n",
       "18500      2000.0                          1   \n",
       "18520      1920.0                          1   \n",
       "18521      1930.0                          1   \n",
       "18525      1970.0                          1   \n",
       "18549      1993.0                          1   \n",
       "\n",
       "       BUILDING_CLASS_AT_TIME_OF_SALE_A1  BUILDING_CLASS_AT_TIME_OF_SALE_A5  \\\n",
       "18500                                  0                                  1   \n",
       "18520                                  0                                  0   \n",
       "18521                                  1                                  0   \n",
       "18525                                  0                                  1   \n",
       "18549                                  0                                  1   \n",
       "\n",
       "       BUILDING_CLASS_AT_TIME_OF_SALE_A0  BUILDING_CLASS_AT_TIME_OF_SALE_A2  \\\n",
       "18500                                  0                                  0   \n",
       "18520                                  0                                  0   \n",
       "18521                                  0                                  0   \n",
       "18525                                  0                                  0   \n",
       "18549                                  0                                  0   \n",
       "\n",
       "       BUILDING_CLASS_AT_TIME_OF_SALE_A3  BUILDING_CLASS_AT_TIME_OF_SALE_A9  \\\n",
       "18500                                  0                                  0   \n",
       "18520                                  0                                  1   \n",
       "18521                                  0                                  0   \n",
       "18525                                  0                                  0   \n",
       "18549                                  0                                  0   \n",
       "\n",
       "       BUILDING_CLASS_AT_TIME_OF_SALE_S1  BUILDING_CLASS_AT_TIME_OF_SALE_A4  \\\n",
       "18500                                  0                                  0   \n",
       "18520                                  0                                  0   \n",
       "18521                                  0                                  0   \n",
       "18525                                  0                                  0   \n",
       "18549                                  0                                  0   \n",
       "\n",
       "       BUILDING_CLASS_AT_TIME_OF_SALE_A6  BUILDING_CLASS_AT_TIME_OF_SALE_A8  \\\n",
       "18500                                  0                                  0   \n",
       "18520                                  0                                  0   \n",
       "18521                                  0                                  0   \n",
       "18525                                  0                                  0   \n",
       "18549                                  0                                  0   \n",
       "\n",
       "       BUILDING_CLASS_AT_TIME_OF_SALE_S0  \n",
       "18500                                  0  \n",
       "18520                                  0  \n",
       "18521                                  0  \n",
       "18525                                  0  \n",
       "18549                                  0  "
      ]
     },
     "execution_count": 128,
     "metadata": {},
     "output_type": "execute_result"
    }
   ],
   "source": [
    "X_test_enc.head()"
   ]
  },
  {
   "cell_type": "code",
   "execution_count": 129,
   "metadata": {},
   "outputs": [
    {
     "data": {
      "text/plain": [
       "(2505, 23)"
      ]
     },
     "execution_count": 129,
     "metadata": {},
     "output_type": "execute_result"
    }
   ],
   "source": [
    "X_train_enc.shape"
   ]
  },
  {
   "cell_type": "code",
   "execution_count": 130,
   "metadata": {},
   "outputs": [
    {
     "data": {
      "text/plain": [
       "BOROUGH                           0\n",
       "NEIGHBORHOOD                      0\n",
       "BUILDING_CLASS_CATEGORY           0\n",
       "TAX_CLASS_AT_PRESENT              0\n",
       "BLOCK                             0\n",
       "LOT                               0\n",
       "BUILDING_CLASS_AT_PRESENT         0\n",
       "ADDRESS                           0\n",
       "ZIP_CODE                          0\n",
       "RESIDENTIAL_UNITS                 0\n",
       "COMMERCIAL_UNITS                  0\n",
       "TOTAL_UNITS                       0\n",
       "LAND_SQUARE_FEET                  0\n",
       "GROSS_SQUARE_FEET                 0\n",
       "YEAR_BUILT                        0\n",
       "TAX_CLASS_AT_TIME_OF_SALE         0\n",
       "BUILDING_CLASS_AT_TIME_OF_SALE    0\n",
       "SALE_PRICE                        0\n",
       "SALE_DATE                         0\n",
       "dtype: int64"
      ]
     },
     "execution_count": 130,
     "metadata": {},
     "output_type": "execute_result"
    }
   ],
   "source": [
    "train.isnull().sum()"
   ]
  },
  {
   "cell_type": "code",
   "execution_count": 131,
   "metadata": {},
   "outputs": [],
   "source": [
    "# Do feature selection with SelectKBest."
   ]
  },
  {
   "cell_type": "code",
   "execution_count": 132,
   "metadata": {},
   "outputs": [
    {
     "data": {
      "text/plain": [
       "23"
      ]
     },
     "execution_count": 132,
     "metadata": {},
     "output_type": "execute_result"
    }
   ],
   "source": [
    "# How many features do we have currently?\n",
    "features = X_train_enc.columns\n",
    "n = len(features)\n",
    "n"
   ]
  },
  {
   "cell_type": "code",
   "execution_count": 133,
   "metadata": {},
   "outputs": [
    {
     "name": "stdout",
     "output_type": "stream",
     "text": [
      "8,388,607\n"
     ]
    }
   ],
   "source": [
    "# How many ways to choose 1 to n features?\n",
    "from math import factorial\n",
    "\n",
    "def n_choose_k(n, k):\n",
    "    return factorial(n)//(factorial(k)*factorial(n-k))\n",
    "\n",
    "combinations = sum(n_choose_k(n, k) for k in range(1,n+1))\n",
    "print(f'{combinations:,.0f}')"
   ]
  },
  {
   "cell_type": "code",
   "execution_count": 137,
   "metadata": {},
   "outputs": [],
   "source": [
    "# Select the 15 features that best correlate with the target (arbitrary starting point)\n",
    "\n",
    "# SelectKBest has a similar API to what we've seen before.\n",
    "# IMPORTANT!\n",
    "# .fit_transform on the train set\n",
    "# .transform on the test set\n",
    "\n",
    "import numpy as np\n",
    "np.seterr(divide='ignore', invalid='ignore')\n",
    "\n",
    "from sklearn.feature_selection import SelectKBest, f_regression\n",
    "\n",
    "selector = SelectKBest(score_func=f_regression, k=15)\n",
    "X_train_kbest = selector.fit_transform(X_train_enc, y_train)\n",
    "X_test_kbest = selector.transform(X_test_enc)"
   ]
  },
  {
   "cell_type": "code",
   "execution_count": 138,
   "metadata": {},
   "outputs": [
    {
     "data": {
      "text/plain": [
       "((2505, 15), (603, 15))"
      ]
     },
     "execution_count": 138,
     "metadata": {},
     "output_type": "execute_result"
    }
   ],
   "source": [
    "X_train_kbest.shape, X_test_kbest.shape"
   ]
  },
  {
   "cell_type": "code",
   "execution_count": 139,
   "metadata": {},
   "outputs": [
    {
     "data": {
      "text/plain": [
       "array([[1.0000e+00, 0.0000e+00, 4.2100e+03, ..., 0.0000e+00, 0.0000e+00,\n",
       "        0.0000e+00],\n",
       "       [1.0000e+00, 0.0000e+00, 5.2120e+03, ..., 0.0000e+00, 0.0000e+00,\n",
       "        0.0000e+00],\n",
       "       [1.0000e+00, 0.0000e+00, 7.9300e+03, ..., 0.0000e+00, 0.0000e+00,\n",
       "        0.0000e+00],\n",
       "       ...,\n",
       "       [1.0000e+00, 0.0000e+00, 1.1320e+03, ..., 0.0000e+00, 0.0000e+00,\n",
       "        0.0000e+00],\n",
       "       [1.0000e+00, 0.0000e+00, 3.3950e+03, ..., 0.0000e+00, 0.0000e+00,\n",
       "        0.0000e+00],\n",
       "       [1.0000e+00, 0.0000e+00, 1.1159e+04, ..., 0.0000e+00, 0.0000e+00,\n",
       "        0.0000e+00]])"
      ]
     },
     "execution_count": 139,
     "metadata": {},
     "output_type": "execute_result"
    }
   ],
   "source": [
    "X_train_kbest"
   ]
  },
  {
   "cell_type": "code",
   "execution_count": 140,
   "metadata": {},
   "outputs": [
    {
     "data": {
      "text/plain": [
       "array([False,  True,  True,  True, False,  True,  True,  True,  True,\n",
       "        True, False, False, False,  True, False, False,  True, False,\n",
       "        True,  True,  True,  True,  True])"
      ]
     },
     "execution_count": 140,
     "metadata": {},
     "output_type": "execute_result"
    }
   ],
   "source": [
    "# Which features were selected?\n",
    "mask = selector.get_support()\n",
    "mask"
   ]
  },
  {
   "cell_type": "code",
   "execution_count": 141,
   "metadata": {},
   "outputs": [
    {
     "data": {
      "text/plain": [
       "Index(['BUILDING_CLASS_CATEGORY_01 ONE FAMILY DWELLINGS', 'LOT', 'YEAR_BUILT',\n",
       "       'TAX_CLASS_AT_TIME_OF_SALE', 'BUILDING_CLASS_AT_TIME_OF_SALE_A1',\n",
       "       'BUILDING_CLASS_AT_TIME_OF_SALE_A0',\n",
       "       'BUILDING_CLASS_AT_TIME_OF_SALE_A2',\n",
       "       'BUILDING_CLASS_AT_TIME_OF_SALE_A9'],\n",
       "      dtype='object')"
      ]
     },
     "execution_count": 141,
     "metadata": {},
     "output_type": "execute_result"
    }
   ],
   "source": [
    "X_train_enc.columns[~mask]"
   ]
  },
  {
   "cell_type": "code",
   "execution_count": 145,
   "metadata": {},
   "outputs": [
    {
     "name": "stdout",
     "output_type": "stream",
     "text": [
      "1 features\n",
      "MAE on test set: $184770.69\n",
      "2 features\n",
      "MAE on test set: $183435.71\n",
      "3 features\n",
      "MAE on test set: $183873.06\n",
      "4 features\n",
      "MAE on test set: $183927.50\n",
      "5 features\n",
      "MAE on test set: $167223.20\n",
      "6 features\n",
      "MAE on test set: $167659.90\n",
      "7 features\n",
      "MAE on test set: $167174.30\n",
      "8 features\n",
      "MAE on test set: $167133.00\n",
      "9 features\n",
      "MAE on test set: $166883.51\n",
      "10 features\n",
      "MAE on test set: $166883.51\n",
      "11 features\n",
      "MAE on test set: $166883.51\n",
      "12 features\n",
      "MAE on test set: $166883.51\n",
      "13 features\n",
      "MAE on test set: $166883.51\n",
      "14 features\n",
      "MAE on test set: $166883.51\n",
      "15 features\n",
      "MAE on test set: $166848.95\n",
      "16 features\n",
      "MAE on test set: $166143.20\n",
      "17 features\n",
      "MAE on test set: $166086.88\n",
      "18 features\n",
      "MAE on test set: $165196.88\n",
      "19 features\n",
      "MAE on test set: $165155.62\n",
      "20 features\n",
      "MAE on test set: $164363.06\n",
      "21 features\n",
      "MAE on test set: $164363.06\n",
      "22 features\n",
      "MAE on test set: $164363.06\n",
      "23 features\n",
      "MAE on test set: $164363.06\n"
     ]
    }
   ],
   "source": [
    "# How many features should be selected?\n",
    "\n",
    "# You can try a range of values for k,\n",
    "# then choose the model with the best test score.\n",
    "# If multiple models 'tie' for the best score,\n",
    "# choose the simplest model.\n",
    "# You decide what counts as a tie!\n",
    "from sklearn.linear_model import LinearRegression\n",
    "from sklearn.metrics import mean_absolute_error\n",
    "\n",
    "mae_list = []\n",
    "for k in range(1, X_train_enc.shape[1]+1):\n",
    "    print(f'{k} features')\n",
    "    selector = SelectKBest(score_func=f_regression, k=k)\n",
    "    X_train_kbest = selector.fit_transform(X_train_enc, y_train)\n",
    "    X_test_kbest = selector.transform(X_test_enc)\n",
    "    model = LinearRegression()\n",
    "    model.fit(X_train_kbest, y_train)\n",
    "    y_pred = model.predict(X_test_kbest)\n",
    "    mae = mean_absolute_error(y_pred, y_test)\n",
    "    print(f'MAE on test set: ${mae:.2f}')\n",
    "    mae_list.append(mae)"
   ]
  },
  {
   "cell_type": "code",
   "execution_count": 151,
   "metadata": {},
   "outputs": [
    {
     "data": {
      "image/png": "[encoded data removed]",
      "text/plain": [
       "<Figure size 576x396 with 1 Axes>"
      ]
     },
     "metadata": {},
     "output_type": "display_data"
    }
   ],
   "source": [
    "import seaborn as sns\n",
    "\n",
    "sns.scatterplot(range(1, X_train_enc.shape[1]+1), mae_list);"
   ]
  },
  {
   "cell_type": "code",
   "execution_count": 135,
   "metadata": {},
   "outputs": [],
   "source": [
    "#  Fit a ridge regression model with multiple features. \n",
    "\n",
    "# Use the normalize=True parameter \n",
    "# (or do feature scaling beforehand — \n",
    "# use the scaler's fit_transform method with the train set, and the scaler's transform method with the test set)"
   ]
  },
  {
   "cell_type": "code",
   "execution_count": 153,
   "metadata": {},
   "outputs": [
    {
     "data": {
      "text/html": [
       "Ridge Regression, with alpha=0.001"
      ],
      "text/plain": [
       "<IPython.core.display.HTML object>"
      ]
     },
     "metadata": {},
     "output_type": "display_data"
    },
    {
     "data": {
      "text/html": [
       "Test Mean Absolute Error: $164,334"
      ],
      "text/plain": [
       "<IPython.core.display.HTML object>"
      ]
     },
     "metadata": {},
     "output_type": "display_data"
    },
    {
     "data": {
      "image/png": "[encoded data removed]",
      "text/plain": [
       "<Figure size 1152x576 with 1 Axes>"
      ]
     },
     "metadata": {},
     "output_type": "display_data"
    },
    {
     "data": {
      "text/html": [
       "Ridge Regression, with alpha=0.01"
      ],
      "text/plain": [
       "<IPython.core.display.HTML object>"
      ]
     },
     "metadata": {},
     "output_type": "display_data"
    },
    {
     "data": {
      "text/html": [
       "Test Mean Absolute Error: $164,098"
      ],
      "text/plain": [
       "<IPython.core.display.HTML object>"
      ]
     },
     "metadata": {},
     "output_type": "display_data"
    },
    {
     "data": {
      "image/png": "[encoded data removed]",
      "text/plain": [
       "<Figure size 1152x576 with 1 Axes>"
      ]
     },
     "metadata": {},
     "output_type": "display_data"
    },
    {
     "data": {
      "text/html": [
       "Ridge Regression, with alpha=0.1"
      ],
      "text/plain": [
       "<IPython.core.display.HTML object>"
      ]
     },
     "metadata": {},
     "output_type": "display_data"
    },
    {
     "data": {
      "text/html": [
       "Test Mean Absolute Error: $163,683"
      ],
      "text/plain": [
       "<IPython.core.display.HTML object>"
      ]
     },
     "metadata": {},
     "output_type": "display_data"
    },
    {
     "data": {
      "image/png": "[encoded data removed]",
      "text/plain": [
       "<Figure size 1152x576 with 1 Axes>"
      ]
     },
     "metadata": {},
     "output_type": "display_data"
    },
    {
     "data": {
      "text/html": [
       "Ridge Regression, with alpha=1.0"
      ],
      "text/plain": [
       "<IPython.core.display.HTML object>"
      ]
     },
     "metadata": {},
     "output_type": "display_data"
    },
    {
     "data": {
      "text/html": [
       "Test Mean Absolute Error: $180,803"
      ],
      "text/plain": [
       "<IPython.core.display.HTML object>"
      ]
     },
     "metadata": {},
     "output_type": "display_data"
    },
    {
     "data": {
      "image/png": "[encoded data removed]",
      "text/plain": [
       "<Figure size 1152x576 with 1 Axes>"
      ]
     },
     "metadata": {},
     "output_type": "display_data"
    },
    {
     "data": {
      "text/html": [
       "Ridge Regression, with alpha=1"
      ],
      "text/plain": [
       "<IPython.core.display.HTML object>"
      ]
     },
     "metadata": {},
     "output_type": "display_data"
    },
    {
     "data": {
      "text/html": [
       "Test Mean Absolute Error: $180,803"
      ],
      "text/plain": [
       "<IPython.core.display.HTML object>"
      ]
     },
     "metadata": {},
     "output_type": "display_data"
    },
    {
     "data": {
      "image/png": "[encoded data removed]",
      "text/plain": [
       "<Figure size 1152x576 with 1 Axes>"
      ]
     },
     "metadata": {},
     "output_type": "display_data"
    },
    {
     "data": {
      "text/html": [
       "Ridge Regression, with alpha=100.0"
      ],
      "text/plain": [
       "<IPython.core.display.HTML object>"
      ]
     },
     "metadata": {},
     "output_type": "display_data"
    },
    {
     "data": {
      "text/html": [
       "Test Mean Absolute Error: $208,721"
      ],
      "text/plain": [
       "<IPython.core.display.HTML object>"
      ]
     },
     "metadata": {},
     "output_type": "display_data"
    },
    {
     "data": {
      "image/png": "[encoded data removed]",
      "text/plain": [
       "<Figure size 1152x576 with 1 Axes>"
      ]
     },
     "metadata": {},
     "output_type": "display_data"
    },
    {
     "data": {
      "text/html": [
       "Ridge Regression, with alpha=1000.0"
      ],
      "text/plain": [
       "<IPython.core.display.HTML object>"
      ]
     },
     "metadata": {},
     "output_type": "display_data"
    },
    {
     "data": {
      "text/html": [
       "Test Mean Absolute Error: $209,469"
      ],
      "text/plain": [
       "<IPython.core.display.HTML object>"
      ]
     },
     "metadata": {},
     "output_type": "display_data"
    },
    {
     "data": {
      "image/png": "[encoded data removed]",
      "text/plain": [
       "<Figure size 1152x576 with 1 Axes>"
      ]
     },
     "metadata": {},
     "output_type": "display_data"
    }
   ],
   "source": [
    "import matplotlib.pyplot as plt\n",
    "from sklearn.linear_model import RidgeCV\n",
    "from sklearn.linear_model import Ridge\n",
    "\n",
    "from IPython.display import display, HTML\n",
    "\n",
    "# Try a range of alpha parameters for Ridge Regression.\n",
    "\n",
    "# The scikit-learn docs explain, \n",
    "# alpha : Regularization strength; must be a positive float. Regularization \n",
    "# improves the conditioning of the problem and reduces the variance of the \n",
    "# estimates. Larger values specify stronger regularization.\n",
    "# https://scikit-learn.org/stable/modules/generated/sklearn.linear_model.Ridge.html\n",
    "\n",
    "for alpha in [0.001, 0.01, 0.1, 1.0, 1, 100.0, 1000.0]:\n",
    "    \n",
    "    # Fit Ridge Regression model\n",
    "    display(HTML(f'Ridge Regression, with alpha={alpha}'))\n",
    "    model = Ridge(alpha=alpha, normalize=True)\n",
    "    model.fit(X_train_enc, y_train)\n",
    "    y_pred = model.predict(X_test_enc)\n",
    "\n",
    "    # Get Test MAE\n",
    "    mae = mean_absolute_error(y_test, y_pred)\n",
    "    display(HTML(f'Test Mean Absolute Error: ${mae:,.0f}'))\n",
    "    \n",
    "    # Plot coefficients\n",
    "    coefficients = pd.Series(model.coef_, X_train_enc.columns)\n",
    "    plt.figure(figsize=(16,8))\n",
    "    coefficients.sort_values().plot.barh(color='grey')\n",
    "    plt.xlim(-10000,10000)\n",
    "    plt.show()"
   ]
  },
  {
   "cell_type": "code",
   "execution_count": 136,
   "metadata": {},
   "outputs": [],
   "source": [
    "#  Get mean absolute error for the test set."
   ]
  },
  {
   "cell_type": "code",
   "execution_count": null,
   "metadata": {},
   "outputs": [],
   "source": [
    "# See above"
   ]
  }
 ],
 "metadata": {
  "kernelspec": {
   "display_name": "Python 3",
   "language": "python",
   "name": "python3"
  },
  "language_info": {
   "codemirror_mode": {
    "name": "ipython",
    "version": 3
   },
   "file_extension": ".py",
   "mimetype": "text/x-python",
   "name": "python",
   "nbconvert_exporter": "python",
   "pygments_lexer": "ipython3",
   "version": "3.7.6"
  }
 },
 "nbformat": 4,
 "nbformat_minor": 4
}
