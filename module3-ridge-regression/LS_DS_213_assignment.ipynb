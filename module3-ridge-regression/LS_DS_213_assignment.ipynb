{
  "nbformat": 4,
  "nbformat_minor": 0,
  "metadata": {
    "kernelspec": {
      "display_name": "Python 3",
      "language": "python",
      "name": "python3"
    },
    "language_info": {
      "codemirror_mode": {
        "name": "ipython",
        "version": 3
      },
      "file_extension": ".py",
      "mimetype": "text/x-python",
      "name": "python",
      "nbconvert_exporter": "python",
      "pygments_lexer": "ipython3",
      "version": "3.7.3"
    },
    "colab": {
      "name": "LS_DS_213_assignment.ipynb",
      "provenance": []
    }
  },
  "cells": [
    {
      "cell_type": "markdown",
      "metadata": {
        "id": "-wC03T-27xBq",
        "colab_type": "text"
      },
      "source": [
        "Lambda School Data Science\n",
        "\n",
        "*Unit 2, Sprint 1, Module 3*\n",
        "\n",
        "---"
      ]
    },
    {
      "cell_type": "markdown",
      "metadata": {
        "colab_type": "text",
        "id": "7IXUfiQ2UKj6"
      },
      "source": [
        "# Ridge Regression\n",
        "\n",
        "## Assignment\n",
        "\n",
        "We're going back to our other **New York City** real estate dataset. Instead of predicting apartment rents, you'll predict property sales prices.\n",
        "\n",
        "But not just for condos in Tribeca...\n",
        "\n",
        "- [ ] Use a subset of the data where `BUILDING_CLASS_CATEGORY` == `'01 ONE FAMILY DWELLINGS'` and the sale price was more than 100 thousand and less than 2 million.\n",
        "- [ ] Do train/test split. Use data from January — March 2019 to train. Use data from April 2019 to test.\n",
        "- [ ] Do one-hot encoding of categorical features.\n",
        "- [ ] Do feature selection with `SelectKBest`.\n",
        "- [ ] Fit a ridge regression model with multiple features. Use the `normalize=True` parameter (or do [feature scaling](https://scikit-learn.org/stable/modules/preprocessing.html) beforehand — use the scaler's `fit_transform` method with the train set, and the scaler's `transform` method with the test set)\n",
        "- [ ] Get mean absolute error for the test set.\n",
        "- [ ] As always, commit your notebook to your fork of the GitHub repo.\n",
        "\n",
        "The [NYC Department of Finance](https://www1.nyc.gov/site/finance/taxes/property-rolling-sales-data.page) has a glossary of property sales terms and NYC Building Class Code Descriptions. The data comes from the [NYC OpenData](https://data.cityofnewyork.us/browse?q=NYC%20calendar%20sales) portal.\n",
        "\n",
        "\n",
        "## Stretch Goals\n",
        "\n",
        "Don't worry, you aren't expected to do all these stretch goals! These are just ideas to consider and choose from.\n",
        "\n",
        "- [ ] Add your own stretch goal(s) !\n",
        "- [ ] Instead of `Ridge`, try `LinearRegression`. Depending on how many features you select, your errors will probably blow up! 💥\n",
        "- [ ] Instead of `Ridge`, try [`RidgeCV`](https://scikit-learn.org/stable/modules/generated/sklearn.linear_model.RidgeCV.html).\n",
        "- [ ] Learn more about feature selection:\n",
        "    - [\"Permutation importance\"](https://www.kaggle.com/dansbecker/permutation-importance)\n",
        "    - [scikit-learn's User Guide for Feature Selection](https://scikit-learn.org/stable/modules/feature_selection.html)\n",
        "    - [mlxtend](http://rasbt.github.io/mlxtend/) library\n",
        "    - scikit-learn-contrib libraries: [boruta_py](https://github.com/scikit-learn-contrib/boruta_py) & [stability-selection](https://github.com/scikit-learn-contrib/stability-selection)\n",
        "    - [_Feature Engineering and Selection_](http://www.feat.engineering/) by Kuhn & Johnson.\n",
        "- [ ] Try [statsmodels](https://www.statsmodels.org/stable/index.html) if you’re interested in more inferential statistical approach to linear regression and feature selection, looking at p values and 95% confidence intervals for the coefficients.\n",
        "- [ ] Read [_An Introduction to Statistical Learning_](http://faculty.marshall.usc.edu/gareth-james/ISL/ISLR%20Seventh%20Printing.pdf), Chapters 1-3, for more math & theory, but in an accessible, readable way.\n",
        "- [ ] Try [scikit-learn pipelines](https://scikit-learn.org/stable/modules/compose.html)."
      ]
    },
    {
      "cell_type": "code",
      "metadata": {
        "colab_type": "code",
        "id": "o9eSnDYhUGD7",
        "colab": {}
      },
      "source": [
        "%%capture\n",
        "import sys\n",
        "\n",
        "# If you're on Colab:\n",
        "if 'google.colab' in sys.modules:\n",
        "    DATA_PATH = 'https://raw.githubusercontent.com/LambdaSchool/DS-Unit-2-Applied-Modeling/master/data/'\n",
        "    !pip install category_encoders==2.*\n",
        "\n",
        "# If you're working locally:\n",
        "else:\n",
        "    DATA_PATH = '../data/'\n",
        "    \n",
        "# Ignore this Numpy warning when using Plotly Express:\n",
        "# FutureWarning: Method .ptp is deprecated and will be removed in a future version. Use numpy.ptp instead.\n",
        "import warnings\n",
        "warnings.filterwarnings(action='ignore', category=FutureWarning, module='numpy')"
      ],
      "execution_count": 129,
      "outputs": []
    },
    {
      "cell_type": "code",
      "metadata": {
        "colab_type": "code",
        "id": "QJBD4ruICm1m",
        "colab": {}
      },
      "source": [
        "import pandas as pd\n",
        "import pandas_profiling\n",
        "\n",
        "# Read New York City property sales data\n",
        "df = pd.read_csv(DATA_PATH+'condos/NYC_Citywide_Rolling_Calendar_Sales.csv')\n",
        "\n",
        "# Change column names: replace spaces with underscores\n",
        "df.columns = [col.replace(' ', '_') for col in df]\n",
        "\n",
        "# SALE_PRICE was read as strings.\n",
        "# Remove symbols, convert to integer\n",
        "df['SALE_PRICE'] = (\n",
        "    df['SALE_PRICE']\n",
        "    .str.replace('$','')\n",
        "    .str.replace('-','')\n",
        "    .str.replace(',','')\n",
        "    .astype(int)\n",
        ")"
      ],
      "execution_count": 130,
      "outputs": []
    },
    {
      "cell_type": "code",
      "metadata": {
        "id": "S7MXq9HS7xB1",
        "colab_type": "code",
        "colab": {}
      },
      "source": [
        "# BOROUGH is a numeric column, but arguably should be a categorical feature,\n",
        "# so convert it from a number to a string\n",
        "df['BOROUGH'] = df['BOROUGH'].astype(str)"
      ],
      "execution_count": 131,
      "outputs": []
    },
    {
      "cell_type": "code",
      "metadata": {
        "id": "szf3htCB7xB5",
        "colab_type": "code",
        "colab": {}
      },
      "source": [
        "# Reduce cardinality for NEIGHBORHOOD feature\n",
        "\n",
        "# Get a list of the top 10 neighborhoods\n",
        "top10 = df['NEIGHBORHOOD'].value_counts()[:10].index\n",
        "\n",
        "# At locations where the neighborhood is NOT in the top 10, \n",
        "# replace the neighborhood with 'OTHER'\n",
        "df.loc[~df['NEIGHBORHOOD'].isin(top10), 'NEIGHBORHOOD'] = 'OTHER'"
      ],
      "execution_count": 132,
      "outputs": []
    },
    {
      "cell_type": "code",
      "metadata": {
        "id": "dcaR0UEO7xB7",
        "colab_type": "code",
        "colab": {}
      },
      "source": [
        "%matplotlib inline\n",
        "import numpy as np\n",
        "import pandas as pd\n",
        "import seaborn as sns\n",
        "import plotly.express as px\n",
        "import matplotlib.pyplot as plt\n",
        "from sklearn.linear_model import Ridge, RidgeCV, LinearRegression\n",
        "from sklearn.metrics import mean_absolute_error\n",
        "from sklearn.feature_selection import SelectKBest\n",
        "import category_encoders as ce"
      ],
      "execution_count": 133,
      "outputs": []
    },
    {
      "cell_type": "code",
      "metadata": {
        "id": "Hcszrnug_lVq",
        "colab_type": "code",
        "colab": {
          "base_uri": "https://localhost:8080/",
          "height": 34
        },
        "outputId": "7503788d-bba5-43f8-d921-46feae356a2a"
      },
      "source": [
        "import numpy as np\n",
        "np.seterr(divide='ignore', invalid='ignore')"
      ],
      "execution_count": 134,
      "outputs": [
        {
          "output_type": "execute_result",
          "data": {
            "text/plain": [
              "{'divide': 'ignore', 'invalid': 'ignore', 'over': 'warn', 'under': 'ignore'}"
            ]
          },
          "metadata": {
            "tags": []
          },
          "execution_count": 134
        }
      ]
    },
    {
      "cell_type": "code",
      "metadata": {
        "id": "LJyqLYgv70JW",
        "colab_type": "code",
        "colab": {}
      },
      "source": [
        "# set data to only one family dwellings\n",
        "df = df[df['BUILDING_CLASS_CATEGORY']=='01 ONE FAMILY DWELLINGS']"
      ],
      "execution_count": 135,
      "outputs": []
    },
    {
      "cell_type": "code",
      "metadata": {
        "id": "iivDWT7-7zcj",
        "colab_type": "code",
        "colab": {}
      },
      "source": [
        "# removed outliers\n",
        "df = df[((df['SALE_PRICE']>=100000) & (df['SALE_PRICE']<=2000000))]"
      ],
      "execution_count": 136,
      "outputs": []
    },
    {
      "cell_type": "code",
      "metadata": {
        "id": "YKZra3jM9aDq",
        "colab_type": "code",
        "colab": {}
      },
      "source": [
        "# stripped ',' from square feet\n",
        "df['LAND_SQUARE_FEET'] = df['LAND_SQUARE_FEET'].str.replace(',','')"
      ],
      "execution_count": 137,
      "outputs": []
    },
    {
      "cell_type": "code",
      "metadata": {
        "id": "Ta0V1asAMt7v",
        "colab_type": "code",
        "colab": {}
      },
      "source": [
        "# set square feet to numeric \n",
        "df['LAND_SQUARE_FEET'] = pd.to_numeric(df['LAND_SQUARE_FEET'])"
      ],
      "execution_count": 138,
      "outputs": []
    },
    {
      "cell_type": "code",
      "metadata": {
        "id": "QaLoMm4c70Gy",
        "colab_type": "code",
        "colab": {}
      },
      "source": [
        "# split data into train and test based on cutoff date\n",
        "df['SALE_DATE'] = pd.to_datetime(df['SALE_DATE'], infer_datetime_format=True)\n",
        "cutoff = pd.to_datetime('04/01/2019')\n",
        "train = df[df['SALE_DATE']<cutoff]\n",
        "test = df[df['SALE_DATE']>=cutoff]"
      ],
      "execution_count": 139,
      "outputs": []
    },
    {
      "cell_type": "code",
      "metadata": {
        "id": "Doca_sOJOflm",
        "colab_type": "code",
        "colab": {
          "base_uri": "https://localhost:8080/",
          "height": 333
        },
        "outputId": "c19ba926-0d18-4cf3-d4c7-f16543a0bd1b"
      },
      "source": [
        "# look at data.\n",
        "df.head()"
      ],
      "execution_count": 140,
      "outputs": [
        {
          "output_type": "execute_result",
          "data": {
            "text/html": [
              "<div>\n",
              "<style scoped>\n",
              "    .dataframe tbody tr th:only-of-type {\n",
              "        vertical-align: middle;\n",
              "    }\n",
              "\n",
              "    .dataframe tbody tr th {\n",
              "        vertical-align: top;\n",
              "    }\n",
              "\n",
              "    .dataframe thead th {\n",
              "        text-align: right;\n",
              "    }\n",
              "</style>\n",
              "<table border=\"1\" class=\"dataframe\">\n",
              "  <thead>\n",
              "    <tr style=\"text-align: right;\">\n",
              "      <th></th>\n",
              "      <th>BOROUGH</th>\n",
              "      <th>NEIGHBORHOOD</th>\n",
              "      <th>BUILDING_CLASS_CATEGORY</th>\n",
              "      <th>TAX_CLASS_AT_PRESENT</th>\n",
              "      <th>BLOCK</th>\n",
              "      <th>LOT</th>\n",
              "      <th>EASE-MENT</th>\n",
              "      <th>BUILDING_CLASS_AT_PRESENT</th>\n",
              "      <th>ADDRESS</th>\n",
              "      <th>APARTMENT_NUMBER</th>\n",
              "      <th>ZIP_CODE</th>\n",
              "      <th>RESIDENTIAL_UNITS</th>\n",
              "      <th>COMMERCIAL_UNITS</th>\n",
              "      <th>TOTAL_UNITS</th>\n",
              "      <th>LAND_SQUARE_FEET</th>\n",
              "      <th>GROSS_SQUARE_FEET</th>\n",
              "      <th>YEAR_BUILT</th>\n",
              "      <th>TAX_CLASS_AT_TIME_OF_SALE</th>\n",
              "      <th>BUILDING_CLASS_AT_TIME_OF_SALE</th>\n",
              "      <th>SALE_PRICE</th>\n",
              "      <th>SALE_DATE</th>\n",
              "    </tr>\n",
              "  </thead>\n",
              "  <tbody>\n",
              "    <tr>\n",
              "      <th>44</th>\n",
              "      <td>3</td>\n",
              "      <td>OTHER</td>\n",
              "      <td>01 ONE FAMILY DWELLINGS</td>\n",
              "      <td>1</td>\n",
              "      <td>5495</td>\n",
              "      <td>801</td>\n",
              "      <td>NaN</td>\n",
              "      <td>A9</td>\n",
              "      <td>4832 BAY PARKWAY</td>\n",
              "      <td>NaN</td>\n",
              "      <td>11230.0</td>\n",
              "      <td>1.0</td>\n",
              "      <td>0.0</td>\n",
              "      <td>1.0</td>\n",
              "      <td>6800</td>\n",
              "      <td>1325.0</td>\n",
              "      <td>1930.0</td>\n",
              "      <td>1</td>\n",
              "      <td>A9</td>\n",
              "      <td>550000</td>\n",
              "      <td>2019-01-01</td>\n",
              "    </tr>\n",
              "    <tr>\n",
              "      <th>61</th>\n",
              "      <td>4</td>\n",
              "      <td>OTHER</td>\n",
              "      <td>01 ONE FAMILY DWELLINGS</td>\n",
              "      <td>1</td>\n",
              "      <td>7918</td>\n",
              "      <td>72</td>\n",
              "      <td>NaN</td>\n",
              "      <td>A1</td>\n",
              "      <td>80-23 232ND STREET</td>\n",
              "      <td>NaN</td>\n",
              "      <td>11427.0</td>\n",
              "      <td>1.0</td>\n",
              "      <td>0.0</td>\n",
              "      <td>1.0</td>\n",
              "      <td>4000</td>\n",
              "      <td>2001.0</td>\n",
              "      <td>1940.0</td>\n",
              "      <td>1</td>\n",
              "      <td>A1</td>\n",
              "      <td>200000</td>\n",
              "      <td>2019-01-01</td>\n",
              "    </tr>\n",
              "    <tr>\n",
              "      <th>78</th>\n",
              "      <td>2</td>\n",
              "      <td>OTHER</td>\n",
              "      <td>01 ONE FAMILY DWELLINGS</td>\n",
              "      <td>1</td>\n",
              "      <td>4210</td>\n",
              "      <td>19</td>\n",
              "      <td>NaN</td>\n",
              "      <td>A1</td>\n",
              "      <td>1260 RHINELANDER AVE</td>\n",
              "      <td>NaN</td>\n",
              "      <td>10461.0</td>\n",
              "      <td>1.0</td>\n",
              "      <td>0.0</td>\n",
              "      <td>1.0</td>\n",
              "      <td>3500</td>\n",
              "      <td>2043.0</td>\n",
              "      <td>1925.0</td>\n",
              "      <td>1</td>\n",
              "      <td>A1</td>\n",
              "      <td>810000</td>\n",
              "      <td>2019-01-02</td>\n",
              "    </tr>\n",
              "    <tr>\n",
              "      <th>108</th>\n",
              "      <td>3</td>\n",
              "      <td>OTHER</td>\n",
              "      <td>01 ONE FAMILY DWELLINGS</td>\n",
              "      <td>1</td>\n",
              "      <td>5212</td>\n",
              "      <td>69</td>\n",
              "      <td>NaN</td>\n",
              "      <td>A1</td>\n",
              "      <td>469 E 25TH ST</td>\n",
              "      <td>NaN</td>\n",
              "      <td>11226.0</td>\n",
              "      <td>1.0</td>\n",
              "      <td>0.0</td>\n",
              "      <td>1.0</td>\n",
              "      <td>4000</td>\n",
              "      <td>2680.0</td>\n",
              "      <td>1899.0</td>\n",
              "      <td>1</td>\n",
              "      <td>A1</td>\n",
              "      <td>125000</td>\n",
              "      <td>2019-01-02</td>\n",
              "    </tr>\n",
              "    <tr>\n",
              "      <th>111</th>\n",
              "      <td>3</td>\n",
              "      <td>OTHER</td>\n",
              "      <td>01 ONE FAMILY DWELLINGS</td>\n",
              "      <td>1</td>\n",
              "      <td>7930</td>\n",
              "      <td>121</td>\n",
              "      <td>NaN</td>\n",
              "      <td>A5</td>\n",
              "      <td>5521 WHITTY LANE</td>\n",
              "      <td>NaN</td>\n",
              "      <td>11203.0</td>\n",
              "      <td>1.0</td>\n",
              "      <td>0.0</td>\n",
              "      <td>1.0</td>\n",
              "      <td>1710</td>\n",
              "      <td>1872.0</td>\n",
              "      <td>1940.0</td>\n",
              "      <td>1</td>\n",
              "      <td>A5</td>\n",
              "      <td>620000</td>\n",
              "      <td>2019-01-02</td>\n",
              "    </tr>\n",
              "  </tbody>\n",
              "</table>\n",
              "</div>"
            ],
            "text/plain": [
              "    BOROUGH NEIGHBORHOOD  ... SALE_PRICE  SALE_DATE\n",
              "44        3        OTHER  ...     550000 2019-01-01\n",
              "61        4        OTHER  ...     200000 2019-01-01\n",
              "78        2        OTHER  ...     810000 2019-01-02\n",
              "108       3        OTHER  ...     125000 2019-01-02\n",
              "111       3        OTHER  ...     620000 2019-01-02\n",
              "\n",
              "[5 rows x 21 columns]"
            ]
          },
          "metadata": {
            "tags": []
          },
          "execution_count": 140
        }
      ]
    },
    {
      "cell_type": "code",
      "metadata": {
        "id": "TXMXWIZW70ET",
        "colab_type": "code",
        "colab": {
          "base_uri": "https://localhost:8080/",
          "height": 381
        },
        "outputId": "afdf0f88-d147-4261-80c3-961a83e7bfbd"
      },
      "source": [
        "# looking for cardinality \n",
        "df.describe(exclude='number').T"
      ],
      "execution_count": 141,
      "outputs": [
        {
          "output_type": "execute_result",
          "data": {
            "text/html": [
              "<div>\n",
              "<style scoped>\n",
              "    .dataframe tbody tr th:only-of-type {\n",
              "        vertical-align: middle;\n",
              "    }\n",
              "\n",
              "    .dataframe tbody tr th {\n",
              "        vertical-align: top;\n",
              "    }\n",
              "\n",
              "    .dataframe thead th {\n",
              "        text-align: right;\n",
              "    }\n",
              "</style>\n",
              "<table border=\"1\" class=\"dataframe\">\n",
              "  <thead>\n",
              "    <tr style=\"text-align: right;\">\n",
              "      <th></th>\n",
              "      <th>count</th>\n",
              "      <th>unique</th>\n",
              "      <th>top</th>\n",
              "      <th>freq</th>\n",
              "      <th>first</th>\n",
              "      <th>last</th>\n",
              "    </tr>\n",
              "  </thead>\n",
              "  <tbody>\n",
              "    <tr>\n",
              "      <th>BOROUGH</th>\n",
              "      <td>3164</td>\n",
              "      <td>5</td>\n",
              "      <td>4</td>\n",
              "      <td>1585</td>\n",
              "      <td>NaT</td>\n",
              "      <td>NaT</td>\n",
              "    </tr>\n",
              "    <tr>\n",
              "      <th>NEIGHBORHOOD</th>\n",
              "      <td>3164</td>\n",
              "      <td>6</td>\n",
              "      <td>OTHER</td>\n",
              "      <td>3001</td>\n",
              "      <td>NaT</td>\n",
              "      <td>NaT</td>\n",
              "    </tr>\n",
              "    <tr>\n",
              "      <th>BUILDING_CLASS_CATEGORY</th>\n",
              "      <td>3164</td>\n",
              "      <td>1</td>\n",
              "      <td>01 ONE FAMILY DWELLINGS</td>\n",
              "      <td>3164</td>\n",
              "      <td>NaT</td>\n",
              "      <td>NaT</td>\n",
              "    </tr>\n",
              "    <tr>\n",
              "      <th>TAX_CLASS_AT_PRESENT</th>\n",
              "      <td>3164</td>\n",
              "      <td>2</td>\n",
              "      <td>1</td>\n",
              "      <td>3123</td>\n",
              "      <td>NaT</td>\n",
              "      <td>NaT</td>\n",
              "    </tr>\n",
              "    <tr>\n",
              "      <th>BUILDING_CLASS_AT_PRESENT</th>\n",
              "      <td>3164</td>\n",
              "      <td>13</td>\n",
              "      <td>A1</td>\n",
              "      <td>1188</td>\n",
              "      <td>NaT</td>\n",
              "      <td>NaT</td>\n",
              "    </tr>\n",
              "    <tr>\n",
              "      <th>ADDRESS</th>\n",
              "      <td>3164</td>\n",
              "      <td>3148</td>\n",
              "      <td>76-04 265TH STREET</td>\n",
              "      <td>2</td>\n",
              "      <td>NaT</td>\n",
              "      <td>NaT</td>\n",
              "    </tr>\n",
              "    <tr>\n",
              "      <th>APARTMENT_NUMBER</th>\n",
              "      <td>1</td>\n",
              "      <td>1</td>\n",
              "      <td>RP.</td>\n",
              "      <td>1</td>\n",
              "      <td>NaT</td>\n",
              "      <td>NaT</td>\n",
              "    </tr>\n",
              "    <tr>\n",
              "      <th>BUILDING_CLASS_AT_TIME_OF_SALE</th>\n",
              "      <td>3164</td>\n",
              "      <td>11</td>\n",
              "      <td>A1</td>\n",
              "      <td>1189</td>\n",
              "      <td>NaT</td>\n",
              "      <td>NaT</td>\n",
              "    </tr>\n",
              "    <tr>\n",
              "      <th>SALE_DATE</th>\n",
              "      <td>3164</td>\n",
              "      <td>91</td>\n",
              "      <td>2019-01-31 00:00:00</td>\n",
              "      <td>78</td>\n",
              "      <td>2019-01-01</td>\n",
              "      <td>2019-04-30</td>\n",
              "    </tr>\n",
              "  </tbody>\n",
              "</table>\n",
              "</div>"
            ],
            "text/plain": [
              "                               count unique  ...      first       last\n",
              "BOROUGH                         3164      5  ...        NaT        NaT\n",
              "NEIGHBORHOOD                    3164      6  ...        NaT        NaT\n",
              "BUILDING_CLASS_CATEGORY         3164      1  ...        NaT        NaT\n",
              "TAX_CLASS_AT_PRESENT            3164      2  ...        NaT        NaT\n",
              "BUILDING_CLASS_AT_PRESENT       3164     13  ...        NaT        NaT\n",
              "ADDRESS                         3164   3148  ...        NaT        NaT\n",
              "APARTMENT_NUMBER                   1      1  ...        NaT        NaT\n",
              "BUILDING_CLASS_AT_TIME_OF_SALE  3164     11  ...        NaT        NaT\n",
              "SALE_DATE                       3164     91  ... 2019-01-01 2019-04-30\n",
              "\n",
              "[9 rows x 6 columns]"
            ]
          },
          "metadata": {
            "tags": []
          },
          "execution_count": 141
        }
      ]
    },
    {
      "cell_type": "code",
      "metadata": {
        "id": "xcXCCwKu70BA",
        "colab_type": "code",
        "colab": {}
      },
      "source": [
        "# creating features list and target list, aswell as remove high cardinality columns.\n",
        "target = 'SALE_PRICE'\n",
        "high_cardinality = ['SALE_DATE','BUILDING_CLASS_AT_TIME_OF_SALE',\n",
        "                    'BUILDING_CLASS_AT_PRESENT','ADDRESS','EASE-MENT','APARTMENT_NUMBER',\n",
        "                    'BUILDING_CLASS_CATEGORY','TAX_CLASS_AT_TIME_OF_SALE']\n",
        "features = df.columns.drop([target]+high_cardinality)"
      ],
      "execution_count": 142,
      "outputs": []
    },
    {
      "cell_type": "code",
      "metadata": {
        "id": "ylGBV7OM_Idf",
        "colab_type": "code",
        "colab": {}
      },
      "source": [
        "# onehotencode remaining multicatigorical data.\n",
        "encoder = ce.OneHotEncoder(use_cat_names=True)\n",
        "X_train = encoder.fit_transform(X_train)\n",
        "X_test = encoder.transform(X_test)\n",
        "\n",
        "y_train = train[target]\n",
        "y_test = test[target]"
      ],
      "execution_count": 169,
      "outputs": []
    },
    {
      "cell_type": "code",
      "metadata": {
        "id": "-jqlbxJI7z-M",
        "colab_type": "code",
        "colab": {
          "base_uri": "https://localhost:8080/",
          "height": 34
        },
        "outputId": "e0e464d6-a6be-481c-dc01-4374d58692ca"
      },
      "source": [
        "X_train.shape, X_test.shape"
      ],
      "execution_count": 170,
      "outputs": [
        {
          "output_type": "execute_result",
          "data": {
            "text/plain": [
              "((2517, 22), (647, 22))"
            ]
          },
          "metadata": {
            "tags": []
          },
          "execution_count": 170
        }
      ]
    },
    {
      "cell_type": "code",
      "metadata": {
        "id": "v_5_9tPq7z7c",
        "colab_type": "code",
        "colab": {
          "base_uri": "https://localhost:8080/",
          "height": 1000
        },
        "outputId": "f9c09488-24da-4b71-ad93-a2408ef84b01"
      },
      "source": [
        "# running selectkbest from 1 to all features to find the best relationship\n",
        "testing = []\n",
        "training = []\n",
        "ks = range(1, len(X_train.columns)+1)\n",
        "for k in range(1, len(X_train.columns)+1):\n",
        "    print(f'{k} features')\n",
        "\n",
        "    # build selector\n",
        "    selector = SelectKBest(k=k)\n",
        "    X_train_selected = selector.fit_transform(X_train,y_train)\n",
        "    X_test_selected = selector.transform(X_test)\n",
        "    \n",
        "    # build training model.\n",
        "    model = LinearRegression()\n",
        "    model.fit(X_train_selected, y_train)\n",
        "\n",
        "    # predict with training data\n",
        "    y_pred = model.predict(X_train_selected)\n",
        "    # mae of train set\n",
        "    mae = mean_absolute_error(y_train, y_pred)\n",
        "    training.append(mae)\n",
        "    print(f'Train Mean Absolute Error: ${mae:,.0f}')\n",
        "\n",
        "    # predict with test data\n",
        "    y_pred = model.predict(X_test_selected)\n",
        "    # mae of test set\n",
        "    mae = mean_absolute_error(y_test, y_pred)\n",
        "    testing.append(mae)\n",
        "    print(f'Test Mean Absolute Error: ${mae:,.0f}\\n')"
      ],
      "execution_count": 172,
      "outputs": [
        {
          "output_type": "stream",
          "text": [
            "1 features\n",
            "Train Mean Absolute Error: $216,440\n",
            "Test Mean Absolute Error: $214,282\n",
            "\n",
            "2 features\n",
            "Train Mean Absolute Error: $215,268\n",
            "Test Mean Absolute Error: $214,792\n",
            "\n",
            "3 features\n",
            "Train Mean Absolute Error: $212,814\n",
            "Test Mean Absolute Error: $212,261\n",
            "\n",
            "4 features\n",
            "Train Mean Absolute Error: $191,657\n",
            "Test Mean Absolute Error: $184,289\n",
            "\n",
            "5 features\n",
            "Train Mean Absolute Error: $190,143\n",
            "Test Mean Absolute Error: $184,138\n",
            "\n",
            "6 features\n",
            "Train Mean Absolute Error: $189,182\n",
            "Test Mean Absolute Error: $180,480\n",
            "\n",
            "7 features\n",
            "Train Mean Absolute Error: $188,997\n",
            "Test Mean Absolute Error: $180,886\n",
            "\n",
            "8 features\n",
            "Train Mean Absolute Error: $183,764\n",
            "Test Mean Absolute Error: $176,026\n",
            "\n",
            "9 features\n",
            "Train Mean Absolute Error: $183,242\n",
            "Test Mean Absolute Error: $176,753\n",
            "\n",
            "10 features\n",
            "Train Mean Absolute Error: $183,242\n",
            "Test Mean Absolute Error: $176,753\n",
            "\n",
            "11 features\n",
            "Train Mean Absolute Error: $183,242\n",
            "Test Mean Absolute Error: $176,660\n",
            "\n",
            "12 features\n",
            "Train Mean Absolute Error: $183,242\n",
            "Test Mean Absolute Error: $176,621\n",
            "\n",
            "13 features\n",
            "Train Mean Absolute Error: $183,046\n",
            "Test Mean Absolute Error: $176,423\n",
            "\n",
            "14 features\n",
            "Train Mean Absolute Error: $177,986\n",
            "Test Mean Absolute Error: $176,518\n",
            "\n",
            "15 features\n",
            "Train Mean Absolute Error: $177,727\n",
            "Test Mean Absolute Error: $176,724\n",
            "\n",
            "16 features\n",
            "Train Mean Absolute Error: $176,124\n",
            "Test Mean Absolute Error: $178,416\n",
            "\n",
            "17 features\n",
            "Train Mean Absolute Error: $165,476\n",
            "Test Mean Absolute Error: $166,140\n",
            "\n",
            "18 features\n",
            "Train Mean Absolute Error: $160,931\n",
            "Test Mean Absolute Error: $164,157\n",
            "\n",
            "19 features\n",
            "Train Mean Absolute Error: $160,931\n",
            "Test Mean Absolute Error: $164,157\n",
            "\n",
            "20 features\n",
            "Train Mean Absolute Error: $153,943\n",
            "Test Mean Absolute Error: $157,479\n",
            "\n",
            "21 features\n",
            "Train Mean Absolute Error: $153,212\n",
            "Test Mean Absolute Error: $158,378\n",
            "\n",
            "22 features\n",
            "Train Mean Absolute Error: $153,212\n",
            "Test Mean Absolute Error: $158,378\n",
            "\n"
          ],
          "name": "stdout"
        }
      ]
    },
    {
      "cell_type": "code",
      "metadata": {
        "id": "gFI_i7E9ACTd",
        "colab_type": "code",
        "colab": {
          "base_uri": "https://localhost:8080/",
          "height": 279
        },
        "outputId": "0a3f83ef-0e38-4c14-f62f-8eefe4546b28"
      },
      "source": [
        "# plot selectkbest, num of features by mae\n",
        "plt.plot(ks, training, label ='Training score', color='b')\n",
        "plt.plot(ks, testing, label='Testing score', color='g')\n",
        "plt.ylabel('Mean Absolute Error ($)')\n",
        "plt.xlabel('Number of Features')\n",
        "plt.axvline(x=20, color='r')\n",
        "plt.legend()\n",
        "plt.show()"
      ],
      "execution_count": 173,
      "outputs": [
        {
          "output_type": "display_data",
          "data": {
            "image/png": "[encoded data removed]",
            "text/plain": [
              "<Figure size 432x288 with 1 Axes>"
            ]
          },
          "metadata": {
            "tags": [],
            "needs_background": "light"
          }
        }
      ]
    },
    {
      "cell_type": "code",
      "metadata": {
        "id": "_EzfyNDbJabv",
        "colab_type": "code",
        "colab": {
          "base_uri": "https://localhost:8080/",
          "height": 50
        },
        "outputId": "fa588974-03d3-4143-8535-abeb39d2a23f"
      },
      "source": [
        "    # build selector\n",
        "    selector = SelectKBest(k=20)\n",
        "    X_train_selected = selector.fit_transform(X_train,y_train)\n",
        "    X_test_selected = selector.transform(X_test)\n",
        "    \n",
        "    # build training model.\n",
        "    model = LinearRegression()\n",
        "    model.fit(X_train_selected, y_train)\n",
        "\n",
        "    # predict with training data\n",
        "    y_pred = model.predict(X_train_selected)\n",
        "    # mae of train set\n",
        "    mae = mean_absolute_error(y_train, y_pred)\n",
        "    \n",
        "   \n",
        "    # predict with test data\n",
        "    y_pred = model.predict(X_test_selected)\n",
        "    # mae of test set\n",
        "    mae = mean_absolute_error(y_test, y_pred)\n",
        "    \n",
        "    print(f'Test Mean Absolute Error: ${mae:,.0f}\\n')"
      ],
      "execution_count": 204,
      "outputs": [
        {
          "output_type": "stream",
          "text": [
            "Test Mean Absolute Error: $157,479\n",
            "\n"
          ],
          "name": "stdout"
        }
      ]
    },
    {
      "cell_type": "code",
      "metadata": {
        "id": "NXuOHmIy_45h",
        "colab_type": "code",
        "colab": {
          "base_uri": "https://localhost:8080/",
          "height": 286
        },
        "outputId": "f532610e-3674-44d1-8cc9-6a4dc952df04"
      },
      "source": [
        "# run ridge regression with multiple alpha (bias) types.\n",
        "for alpha in [0.0001,0.001, 0.01, 0.1, 1.0, 1, 100.0, 1000.0]:\n",
        "    model = Ridge(alpha=alpha, normalize=True)\n",
        "    model.fit(X_train_selected, y_train)\n",
        "    y_pred = model.predict(X_test_selected)\n",
        "\n",
        "    mae = mean_absolute_error(y_pred,y_test)\n",
        "    print(f'MAE = {mae}, with alpha of {alpha}\\n')"
      ],
      "execution_count": 191,
      "outputs": [
        {
          "output_type": "stream",
          "text": [
            "MAE = 157459.20977248007, with alpha of 0.0001\n",
            "\n",
            "MAE = 157400.8122764958, with alpha of 0.001\n",
            "\n",
            "MAE = 157165.08888898318, with alpha of 0.01\n",
            "\n",
            "MAE = 157435.77754867016, with alpha of 0.1\n",
            "\n",
            "MAE = 170808.05792012654, with alpha of 1.0\n",
            "\n",
            "MAE = 170808.05792012654, with alpha of 1\n",
            "\n",
            "MAE = 212934.75600882707, with alpha of 100.0\n",
            "\n",
            "MAE = 214147.57328337478, with alpha of 1000.0\n",
            "\n"
          ],
          "name": "stdout"
        }
      ]
    },
    {
      "cell_type": "code",
      "metadata": {
        "id": "8suXdoqRSJhw",
        "colab_type": "code",
        "colab": {
          "base_uri": "https://localhost:8080/",
          "height": 84
        },
        "outputId": "619cbb0b-13ca-4ed7-f996-e1084a1ec822"
      },
      "source": [
        "# running ridgecv with multiple alpha types.\n",
        "\n",
        "alpha = [0.0001,0.001, 0.01, 0.1, 1.0, 1, 100.0, 1000.0]\n",
        "\n",
        "ridge = RidgeCV(alphas=alpha, normalize=True)\n",
        "ridge.fit(X_train_selected, y_train)\n",
        "ridge.alpha_\n",
        "y_pred = ridge.predict(X_test_selected)\n",
        "mae = mean_absolute_error(y_pred,y_test)\n",
        "print(f'Mean absoluete error of:\\n{mae}\\n\\nwith alpha of {ridge.alpha_}')"
      ],
      "execution_count": 203,
      "outputs": [
        {
          "output_type": "stream",
          "text": [
            "Mean absoluete error of:\n",
            "157400.81227648098\n",
            "\n",
            "with alpha of 0.001\n"
          ],
          "name": "stdout"
        }
      ]
    },
    {
      "cell_type": "code",
      "metadata": {
        "id": "_jYispdHYZDg",
        "colab_type": "code",
        "colab": {}
      },
      "source": [
        "from sklearn.linear_model import Lasso"
      ],
      "execution_count": 206,
      "outputs": []
    },
    {
      "cell_type": "code",
      "metadata": {
        "id": "Nhh6pgzDYk2H",
        "colab_type": "code",
        "colab": {
          "base_uri": "https://localhost:8080/",
          "height": 34
        },
        "outputId": "553909cf-940f-46ed-d8e6-cbb365eef2aa"
      },
      "source": [
        "lasso = Lasso(alpha=100,normalize=True)\n",
        "lasso.fit(X_train_selected,y_train)\n",
        "y_pred = lasso.predict(X_test_selected)\n",
        "\n",
        "mae = mean_absolute_error(y_pred,y_test)\n",
        "mae"
      ],
      "execution_count": 224,
      "outputs": [
        {
          "output_type": "execute_result",
          "data": {
            "text/plain": [
              "156810.65900240192"
            ]
          },
          "metadata": {
            "tags": []
          },
          "execution_count": 224
        }
      ]
    }
  ]
}