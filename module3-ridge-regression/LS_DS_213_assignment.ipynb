{
  "nbformat": 4,
  "nbformat_minor": 0,
  "metadata": {
    "kernelspec": {
      "display_name": "Python 3",
      "language": "python",
      "name": "python3"
    },
    "language_info": {
      "codemirror_mode": {
        "name": "ipython",
        "version": 3
      },
      "file_extension": ".py",
      "mimetype": "text/x-python",
      "name": "python",
      "nbconvert_exporter": "python",
      "pygments_lexer": "ipython3",
      "version": "3.7.3"
    },
    "colab": {
      "name": "LS_DS_213_assignment.ipynb",
      "provenance": [],
      "include_colab_link": true
    }
  },
  "cells": [
    {
      "cell_type": "markdown",
      "metadata": {
        "id": "view-in-github",
        "colab_type": "text"
      },
      "source": [
        "<a href=\"https://colab.research.google.com/github/alexmjn/DS-Unit-2-Linear-Models/blob/master/module3-ridge-regression/LS_DS_213_assignment.ipynb\" target=\"_parent\"><img src=\"https://colab.research.google.com/assets/colab-badge.svg\" alt=\"Open In Colab\"/></a>"
      ]
    },
    {
      "cell_type": "markdown",
      "metadata": {
        "id": "un7iI93O1I5I",
        "colab_type": "text"
      },
      "source": [
        "Lambda School Data Science\n",
        "\n",
        "*Unit 2, Sprint 1, Module 3*\n",
        "\n",
        "---"
      ]
    },
    {
      "cell_type": "markdown",
      "metadata": {
        "colab_type": "text",
        "id": "7IXUfiQ2UKj6"
      },
      "source": [
        "# Ridge Regression\n",
        "\n",
        "## Assignment\n",
        "\n",
        "We're going back to our other **New York City** real estate dataset. Instead of predicting apartment rents, you'll predict property sales prices.\n",
        "\n",
        "But not just for condos in Tribeca...\n",
        "\n",
        "- [ ] Use a subset of the data where `BUILDING_CLASS_CATEGORY` == `'01 ONE FAMILY DWELLINGS'` and the sale price was more than 100 thousand and less than 2 million.\n",
        "- [ ] Do train/test split. Use data from January — March 2019 to train. Use data from April 2019 to test.\n",
        "- [ ] Do one-hot encoding of categorical features.\n",
        "- [ ] Do feature selection with `SelectKBest`.\n",
        "- [ ] Fit a ridge regression model with multiple features. Use the `normalize=True` parameter (or do [feature scaling](https://scikit-learn.org/stable/modules/preprocessing.html) beforehand — use the scaler's `fit_transform` method with the train set, and the scaler's `transform` method with the test set)\n",
        "- [ ] Get mean absolute error for the test set.\n",
        "- [ ] As always, commit your notebook to your fork of the GitHub repo.\n",
        "\n",
        "The [NYC Department of Finance](https://www1.nyc.gov/site/finance/taxes/property-rolling-sales-data.page) has a glossary of property sales terms and NYC Building Class Code Descriptions. The data comes from the [NYC OpenData](https://data.cityofnewyork.us/browse?q=NYC%20calendar%20sales) portal.\n",
        "\n",
        "\n",
        "## Stretch Goals\n",
        "\n",
        "Don't worry, you aren't expected to do all these stretch goals! These are just ideas to consider and choose from.\n",
        "\n",
        "- [ ] Add your own stretch goal(s) !\n",
        "- [ ] Instead of `Ridge`, try `LinearRegression`. Depending on how many features you select, your errors will probably blow up! 💥\n",
        "- [ ] Instead of `Ridge`, try [`RidgeCV`](https://scikit-learn.org/stable/modules/generated/sklearn.linear_model.RidgeCV.html).\n",
        "- [ ] Learn more about feature selection:\n",
        "    - [\"Permutation importance\"](https://www.kaggle.com/dansbecker/permutation-importance)\n",
        "    - [scikit-learn's User Guide for Feature Selection](https://scikit-learn.org/stable/modules/feature_selection.html)\n",
        "    - [mlxtend](http://rasbt.github.io/mlxtend/) library\n",
        "    - scikit-learn-contrib libraries: [boruta_py](https://github.com/scikit-learn-contrib/boruta_py) & [stability-selection](https://github.com/scikit-learn-contrib/stability-selection)\n",
        "    - [_Feature Engineering and Selection_](http://www.feat.engineering/) by Kuhn & Johnson.\n",
        "- [ ] Try [statsmodels](https://www.statsmodels.org/stable/index.html) if you’re interested in more inferential statistical approach to linear regression and feature selection, looking at p values and 95% confidence intervals for the coefficients.\n",
        "- [ ] Read [_An Introduction to Statistical Learning_](http://faculty.marshall.usc.edu/gareth-james/ISL/ISLR%20Seventh%20Printing.pdf), Chapters 1-3, for more math & theory, but in an accessible, readable way.\n",
        "- [ ] Try [scikit-learn pipelines](https://scikit-learn.org/stable/modules/compose.html)."
      ]
    },
    {
      "cell_type": "code",
      "metadata": {
        "colab_type": "code",
        "id": "o9eSnDYhUGD7",
        "colab": {}
      },
      "source": [
        "%%capture\n",
        "import sys\n",
        "\n",
        "# If you're on Colab:\n",
        "if 'google.colab' in sys.modules:\n",
        "    DATA_PATH = 'https://raw.githubusercontent.com/LambdaSchool/DS-Unit-2-Applied-Modeling/master/data/'\n",
        "    !pip install category_encoders==2.*\n",
        "\n",
        "# If you're working locally:\n",
        "else:\n",
        "    DATA_PATH = '../data/'\n",
        "    \n",
        "# Ignore this Numpy warning when using Plotly Express:\n",
        "# FutureWarning: Method .ptp is deprecated and will be removed in a future version. Use numpy.ptp instead.\n",
        "import warnings\n",
        "warnings.filterwarnings(action='ignore', category=FutureWarning, module='numpy')"
      ],
      "execution_count": 0,
      "outputs": []
    },
    {
      "cell_type": "code",
      "metadata": {
        "colab_type": "code",
        "id": "QJBD4ruICm1m",
        "colab": {}
      },
      "source": [
        "import pandas as pd\n",
        "import pandas_profiling\n",
        "\n",
        "# Read New York City property sales data\n",
        "df = pd.read_csv(DATA_PATH+'condos/NYC_Citywide_Rolling_Calendar_Sales.csv')\n",
        "\n",
        "# Change column names: replace spaces with underscores\n",
        "df.columns = [col.replace(' ', '_') for col in df]\n",
        "\n",
        "# SALE_PRICE was read as strings.\n",
        "# Remove symbols, convert to integer\n",
        "df['SALE_PRICE'] = (\n",
        "    df['SALE_PRICE']\n",
        "    .str.replace('$','')\n",
        "    .str.replace('-','')\n",
        "    .str.replace(',','')\n",
        "    .astype(int)\n",
        ")"
      ],
      "execution_count": 0,
      "outputs": []
    },
    {
      "cell_type": "code",
      "metadata": {
        "id": "suqtLt-v1I5V",
        "colab_type": "code",
        "colab": {}
      },
      "source": [
        "# BOROUGH is a numeric column, but arguably should be a categorical feature,\n",
        "# so convert it from a number to a string\n",
        "df['BOROUGH'] = df['BOROUGH'].astype(str)"
      ],
      "execution_count": 0,
      "outputs": []
    },
    {
      "cell_type": "code",
      "metadata": {
        "id": "bxD7t7151I5X",
        "colab_type": "code",
        "colab": {}
      },
      "source": [
        "# Reduce cardinality for NEIGHBORHOOD feature\n",
        "\n",
        "# Get a list of the top 10 neighborhoods\n",
        "top10 = df['NEIGHBORHOOD'].value_counts()[:10].index\n",
        "\n",
        "# At locations where the neighborhood is NOT in the top 10, \n",
        "# replace the neighborhood with 'OTHER'\n",
        "df.loc[~df['NEIGHBORHOOD'].isin(top10), 'NEIGHBORHOOD'] = 'OTHER'"
      ],
      "execution_count": 0,
      "outputs": []
    },
    {
      "cell_type": "code",
      "metadata": {
        "id": "uUe_o46Z1I5Z",
        "colab_type": "code",
        "colab": {
          "base_uri": "https://localhost:8080/",
          "height": 734
        },
        "outputId": "bbed03db-a61c-42c8-aab9-2acfe49c4622"
      },
      "source": [
        "df.head().T"
      ],
      "execution_count": 5,
      "outputs": [
        {
          "output_type": "execute_result",
          "data": {
            "text/html": [
              "<div>\n",
              "<style scoped>\n",
              "    .dataframe tbody tr th:only-of-type {\n",
              "        vertical-align: middle;\n",
              "    }\n",
              "\n",
              "    .dataframe tbody tr th {\n",
              "        vertical-align: top;\n",
              "    }\n",
              "\n",
              "    .dataframe thead th {\n",
              "        text-align: right;\n",
              "    }\n",
              "</style>\n",
              "<table border=\"1\" class=\"dataframe\">\n",
              "  <thead>\n",
              "    <tr style=\"text-align: right;\">\n",
              "      <th></th>\n",
              "      <th>0</th>\n",
              "      <th>1</th>\n",
              "      <th>2</th>\n",
              "      <th>3</th>\n",
              "      <th>4</th>\n",
              "    </tr>\n",
              "  </thead>\n",
              "  <tbody>\n",
              "    <tr>\n",
              "      <th>BOROUGH</th>\n",
              "      <td>1</td>\n",
              "      <td>1</td>\n",
              "      <td>1</td>\n",
              "      <td>1</td>\n",
              "      <td>1</td>\n",
              "    </tr>\n",
              "    <tr>\n",
              "      <th>NEIGHBORHOOD</th>\n",
              "      <td>OTHER</td>\n",
              "      <td>OTHER</td>\n",
              "      <td>OTHER</td>\n",
              "      <td>OTHER</td>\n",
              "      <td>UPPER EAST SIDE (59-79)</td>\n",
              "    </tr>\n",
              "    <tr>\n",
              "      <th>BUILDING_CLASS_CATEGORY</th>\n",
              "      <td>13 CONDOS - ELEVATOR APARTMENTS</td>\n",
              "      <td>21 OFFICE BUILDINGS</td>\n",
              "      <td>21 OFFICE BUILDINGS</td>\n",
              "      <td>13 CONDOS - ELEVATOR APARTMENTS</td>\n",
              "      <td>15 CONDOS - 2-10 UNIT RESIDENTIAL</td>\n",
              "    </tr>\n",
              "    <tr>\n",
              "      <th>TAX_CLASS_AT_PRESENT</th>\n",
              "      <td>2</td>\n",
              "      <td>4</td>\n",
              "      <td>4</td>\n",
              "      <td>2</td>\n",
              "      <td>2C</td>\n",
              "    </tr>\n",
              "    <tr>\n",
              "      <th>BLOCK</th>\n",
              "      <td>716</td>\n",
              "      <td>812</td>\n",
              "      <td>839</td>\n",
              "      <td>592</td>\n",
              "      <td>1379</td>\n",
              "    </tr>\n",
              "    <tr>\n",
              "      <th>LOT</th>\n",
              "      <td>1246</td>\n",
              "      <td>68</td>\n",
              "      <td>69</td>\n",
              "      <td>1041</td>\n",
              "      <td>1402</td>\n",
              "    </tr>\n",
              "    <tr>\n",
              "      <th>EASE-MENT</th>\n",
              "      <td>NaN</td>\n",
              "      <td>NaN</td>\n",
              "      <td>NaN</td>\n",
              "      <td>NaN</td>\n",
              "      <td>NaN</td>\n",
              "    </tr>\n",
              "    <tr>\n",
              "      <th>BUILDING_CLASS_AT_PRESENT</th>\n",
              "      <td>R4</td>\n",
              "      <td>O5</td>\n",
              "      <td>O5</td>\n",
              "      <td>R4</td>\n",
              "      <td>R1</td>\n",
              "    </tr>\n",
              "    <tr>\n",
              "      <th>ADDRESS</th>\n",
              "      <td>447 WEST 18TH STREET, PH12A</td>\n",
              "      <td>144 WEST 37TH STREET</td>\n",
              "      <td>40 WEST 38TH STREET</td>\n",
              "      <td>1 SHERIDAN SQUARE, 8C</td>\n",
              "      <td>20 EAST 65TH STREET, B</td>\n",
              "    </tr>\n",
              "    <tr>\n",
              "      <th>APARTMENT_NUMBER</th>\n",
              "      <td>PH12A</td>\n",
              "      <td>NaN</td>\n",
              "      <td>NaN</td>\n",
              "      <td>8C</td>\n",
              "      <td>B</td>\n",
              "    </tr>\n",
              "    <tr>\n",
              "      <th>ZIP_CODE</th>\n",
              "      <td>10011</td>\n",
              "      <td>10018</td>\n",
              "      <td>10018</td>\n",
              "      <td>10014</td>\n",
              "      <td>10065</td>\n",
              "    </tr>\n",
              "    <tr>\n",
              "      <th>RESIDENTIAL_UNITS</th>\n",
              "      <td>1</td>\n",
              "      <td>0</td>\n",
              "      <td>0</td>\n",
              "      <td>1</td>\n",
              "      <td>1</td>\n",
              "    </tr>\n",
              "    <tr>\n",
              "      <th>COMMERCIAL_UNITS</th>\n",
              "      <td>0</td>\n",
              "      <td>6</td>\n",
              "      <td>7</td>\n",
              "      <td>0</td>\n",
              "      <td>0</td>\n",
              "    </tr>\n",
              "    <tr>\n",
              "      <th>TOTAL_UNITS</th>\n",
              "      <td>1</td>\n",
              "      <td>6</td>\n",
              "      <td>7</td>\n",
              "      <td>1</td>\n",
              "      <td>1</td>\n",
              "    </tr>\n",
              "    <tr>\n",
              "      <th>LAND_SQUARE_FEET</th>\n",
              "      <td>10,733</td>\n",
              "      <td>2,962</td>\n",
              "      <td>2,074</td>\n",
              "      <td>0</td>\n",
              "      <td>0</td>\n",
              "    </tr>\n",
              "    <tr>\n",
              "      <th>GROSS_SQUARE_FEET</th>\n",
              "      <td>1979</td>\n",
              "      <td>15435</td>\n",
              "      <td>11332</td>\n",
              "      <td>500</td>\n",
              "      <td>6406</td>\n",
              "    </tr>\n",
              "    <tr>\n",
              "      <th>YEAR_BUILT</th>\n",
              "      <td>2007</td>\n",
              "      <td>1920</td>\n",
              "      <td>1930</td>\n",
              "      <td>0</td>\n",
              "      <td>0</td>\n",
              "    </tr>\n",
              "    <tr>\n",
              "      <th>TAX_CLASS_AT_TIME_OF_SALE</th>\n",
              "      <td>2</td>\n",
              "      <td>4</td>\n",
              "      <td>4</td>\n",
              "      <td>2</td>\n",
              "      <td>2</td>\n",
              "    </tr>\n",
              "    <tr>\n",
              "      <th>BUILDING_CLASS_AT_TIME_OF_SALE</th>\n",
              "      <td>R4</td>\n",
              "      <td>O5</td>\n",
              "      <td>O5</td>\n",
              "      <td>R4</td>\n",
              "      <td>R1</td>\n",
              "    </tr>\n",
              "    <tr>\n",
              "      <th>SALE_PRICE</th>\n",
              "      <td>0</td>\n",
              "      <td>0</td>\n",
              "      <td>0</td>\n",
              "      <td>0</td>\n",
              "      <td>0</td>\n",
              "    </tr>\n",
              "    <tr>\n",
              "      <th>SALE_DATE</th>\n",
              "      <td>01/01/2019</td>\n",
              "      <td>01/01/2019</td>\n",
              "      <td>01/01/2019</td>\n",
              "      <td>01/01/2019</td>\n",
              "      <td>01/01/2019</td>\n",
              "    </tr>\n",
              "  </tbody>\n",
              "</table>\n",
              "</div>"
            ],
            "text/plain": [
              "                                                              0  ...                                  4\n",
              "BOROUGH                                                       1  ...                                  1\n",
              "NEIGHBORHOOD                                              OTHER  ...            UPPER EAST SIDE (59-79)\n",
              "BUILDING_CLASS_CATEGORY         13 CONDOS - ELEVATOR APARTMENTS  ...  15 CONDOS - 2-10 UNIT RESIDENTIAL\n",
              "TAX_CLASS_AT_PRESENT                                          2  ...                                 2C\n",
              "BLOCK                                                       716  ...                               1379\n",
              "LOT                                                        1246  ...                               1402\n",
              "EASE-MENT                                                   NaN  ...                                NaN\n",
              "BUILDING_CLASS_AT_PRESENT                                    R4  ...                                 R1\n",
              "ADDRESS                             447 WEST 18TH STREET, PH12A  ...             20 EAST 65TH STREET, B\n",
              "APARTMENT_NUMBER                                          PH12A  ...                                  B\n",
              "ZIP_CODE                                                  10011  ...                              10065\n",
              "RESIDENTIAL_UNITS                                             1  ...                                  1\n",
              "COMMERCIAL_UNITS                                              0  ...                                  0\n",
              "TOTAL_UNITS                                                   1  ...                                  1\n",
              "LAND_SQUARE_FEET                                         10,733  ...                                  0\n",
              "GROSS_SQUARE_FEET                                          1979  ...                               6406\n",
              "YEAR_BUILT                                                 2007  ...                                  0\n",
              "TAX_CLASS_AT_TIME_OF_SALE                                     2  ...                                  2\n",
              "BUILDING_CLASS_AT_TIME_OF_SALE                               R4  ...                                 R1\n",
              "SALE_PRICE                                                    0  ...                                  0\n",
              "SALE_DATE                                            01/01/2019  ...                         01/01/2019\n",
              "\n",
              "[21 rows x 5 columns]"
            ]
          },
          "metadata": {
            "tags": []
          },
          "execution_count": 5
        }
      ]
    },
    {
      "cell_type": "code",
      "metadata": {
        "id": "mfjTuj873Q4K",
        "colab_type": "code",
        "colab": {}
      },
      "source": [
        "df = df[df[\"BUILDING_CLASS_CATEGORY\"] == '01 ONE FAMILY DWELLINGS']\n",
        "df = df[df[\"SALE_PRICE\"].between(100000, 2000000)]\n",
        "df = df.drop([\"EASE-MENT\", \"ADDRESS\", \"APARTMENT_NUMBER\"], axis = 1)"
      ],
      "execution_count": 0,
      "outputs": []
    },
    {
      "cell_type": "code",
      "metadata": {
        "id": "FX71NCe6OVQ9",
        "colab_type": "code",
        "colab": {
          "base_uri": "https://localhost:8080/",
          "height": 340
        },
        "outputId": "8e1a4b07-48a6-4fe9-b9cf-86d517f76d0c"
      },
      "source": [
        "df.dtypes"
      ],
      "execution_count": 7,
      "outputs": [
        {
          "output_type": "execute_result",
          "data": {
            "text/plain": [
              "BOROUGH                            object\n",
              "NEIGHBORHOOD                       object\n",
              "BUILDING_CLASS_CATEGORY            object\n",
              "TAX_CLASS_AT_PRESENT               object\n",
              "BLOCK                               int64\n",
              "LOT                                 int64\n",
              "BUILDING_CLASS_AT_PRESENT          object\n",
              "ZIP_CODE                          float64\n",
              "RESIDENTIAL_UNITS                 float64\n",
              "COMMERCIAL_UNITS                  float64\n",
              "TOTAL_UNITS                       float64\n",
              "LAND_SQUARE_FEET                   object\n",
              "GROSS_SQUARE_FEET                 float64\n",
              "YEAR_BUILT                        float64\n",
              "TAX_CLASS_AT_TIME_OF_SALE           int64\n",
              "BUILDING_CLASS_AT_TIME_OF_SALE     object\n",
              "SALE_PRICE                          int64\n",
              "SALE_DATE                          object\n",
              "dtype: object"
            ]
          },
          "metadata": {
            "tags": []
          },
          "execution_count": 7
        }
      ]
    },
    {
      "cell_type": "markdown",
      "metadata": {
        "id": "nCTcoJ8cOcxw",
        "colab_type": "text"
      },
      "source": [
        "Looks like we need to cast LAND_SQUARE_FEET as an integer."
      ]
    },
    {
      "cell_type": "code",
      "metadata": {
        "id": "TkVcOTTTOhbs",
        "colab_type": "code",
        "colab": {}
      },
      "source": [
        "df[\"LAND_SQUARE_FEET\"] = df[\"LAND_SQUARE_FEET\"].str.replace(\",\",\"\").astype(int)"
      ],
      "execution_count": 0,
      "outputs": []
    },
    {
      "cell_type": "code",
      "metadata": {
        "id": "QAFq0m-ELRKK",
        "colab_type": "code",
        "colab": {}
      },
      "source": [
        "categoricals = [\"BOROUGH\", \"NEIGHBORHOOD\", \"TAX_CLASS_AT_PRESENT\", \"BUILDING_CLASS_AT_PRESENT\", \"ZIP_CODE\", \"BUILDING_CLASS_AT_TIME_OF_SALE\"]"
      ],
      "execution_count": 0,
      "outputs": []
    },
    {
      "cell_type": "code",
      "metadata": {
        "id": "0cXzo5gh3Zzm",
        "colab_type": "code",
        "colab": {}
      },
      "source": [
        "df[\"SALE_DATE\"] = pd.to_datetime(df[\"SALE_DATE\"], infer_datetime_format=True)"
      ],
      "execution_count": 0,
      "outputs": []
    },
    {
      "cell_type": "code",
      "metadata": {
        "id": "irqnnyjG4-9Z",
        "colab_type": "code",
        "colab": {}
      },
      "source": [
        "cutoff = pd.to_datetime(\"2019-04-01\")"
      ],
      "execution_count": 0,
      "outputs": []
    },
    {
      "cell_type": "code",
      "metadata": {
        "id": "_Bof2cET5YyA",
        "colab_type": "code",
        "colab": {}
      },
      "source": [
        "train = df[df[\"SALE_DATE\"] < cutoff]\n",
        "test = df[df[\"SALE_DATE\"] >= cutoff]"
      ],
      "execution_count": 0,
      "outputs": []
    },
    {
      "cell_type": "code",
      "metadata": {
        "id": "YxLM9tEMZ7w-",
        "colab_type": "code",
        "colab": {
          "base_uri": "https://localhost:8080/",
          "height": 34
        },
        "outputId": "b33c0eb8-6ccb-4349-e88b-a7587494d498"
      },
      "source": [
        "df.columns[df.nunique() <= 1]"
      ],
      "execution_count": 13,
      "outputs": [
        {
          "output_type": "execute_result",
          "data": {
            "text/plain": [
              "Index(['BUILDING_CLASS_CATEGORY', 'TAX_CLASS_AT_TIME_OF_SALE'], dtype='object')"
            ]
          },
          "metadata": {
            "tags": []
          },
          "execution_count": 13
        }
      ]
    },
    {
      "cell_type": "markdown",
      "metadata": {
        "id": "AsFaVbQ2Z9SJ",
        "colab_type": "text"
      },
      "source": [
        "Drop all columns which have only one unique value, as they don't provide any extra information."
      ]
    },
    {
      "cell_type": "code",
      "metadata": {
        "id": "yMvooJ9r52YF",
        "colab_type": "code",
        "colab": {}
      },
      "source": [
        "features = df.columns.drop([\"SALE_PRICE\", \"SALE_DATE\", \"BUILDING_CLASS_CATEGORY\", \"TAX_CLASS_AT_TIME_OF_SALE\"])\n",
        "target = \"SALE_PRICE\""
      ],
      "execution_count": 0,
      "outputs": []
    },
    {
      "cell_type": "code",
      "metadata": {
        "id": "t-VWWEYj6An5",
        "colab_type": "code",
        "colab": {}
      },
      "source": [
        "X_train = train[features]\n",
        "X_test = test[features]\n",
        "y_train = train[target]\n",
        "y_test = test[target]"
      ],
      "execution_count": 0,
      "outputs": []
    },
    {
      "cell_type": "code",
      "metadata": {
        "id": "lyDfH8wDKzZ-",
        "colab_type": "code",
        "colab": {}
      },
      "source": [
        "import category_encoders as ce"
      ],
      "execution_count": 0,
      "outputs": []
    },
    {
      "cell_type": "code",
      "metadata": {
        "id": "mCF_P6OOK1vP",
        "colab_type": "code",
        "colab": {}
      },
      "source": [
        "encoder = ce.OneHotEncoder(use_cat_names = True, cols = categoricals)"
      ],
      "execution_count": 0,
      "outputs": []
    },
    {
      "cell_type": "code",
      "metadata": {
        "id": "ixCp1hJFK9P6",
        "colab_type": "code",
        "colab": {}
      },
      "source": [
        "X_train = encoder.fit_transform(X_train)"
      ],
      "execution_count": 0,
      "outputs": []
    },
    {
      "cell_type": "code",
      "metadata": {
        "id": "qAvd2_-TLsIo",
        "colab_type": "code",
        "colab": {
          "base_uri": "https://localhost:8080/",
          "height": 34
        },
        "outputId": "2b63dc00-fd7b-4add-eac3-530e5665e6c3"
      },
      "source": [
        "X_train.shape"
      ],
      "execution_count": 19,
      "outputs": [
        {
          "output_type": "execute_result",
          "data": {
            "text/plain": [
              "(2517, 169)"
            ]
          },
          "metadata": {
            "tags": []
          },
          "execution_count": 19
        }
      ]
    },
    {
      "cell_type": "code",
      "metadata": {
        "id": "l2-LXmxHL3MD",
        "colab_type": "code",
        "colab": {}
      },
      "source": [
        "X_test = encoder.transform(X_test)"
      ],
      "execution_count": 0,
      "outputs": []
    },
    {
      "cell_type": "code",
      "metadata": {
        "id": "V4GsQFe3L6hu",
        "colab_type": "code",
        "colab": {}
      },
      "source": [
        "from sklearn.feature_selection import SelectKBest, f_regression\n",
        "from sklearn.metrics import mean_absolute_error\n",
        "from sklearn.linear_model import LinearRegression"
      ],
      "execution_count": 0,
      "outputs": []
    },
    {
      "cell_type": "code",
      "metadata": {
        "id": "SadNv_SOMPao",
        "colab_type": "code",
        "colab": {
          "base_uri": "https://localhost:8080/",
          "height": 1000
        },
        "outputId": "9d6a4dd3-5bb3-4943-cb05-5b78b629d684"
      },
      "source": [
        "for k in range(1, len(X_train.columns) + 1):\n",
        "  print(f'{k} features')\n",
        "\n",
        "  selector = SelectKBest(score_func = f_regression, k = k)\n",
        "  X_train_selected = selector.fit_transform(X_train, y_train)\n",
        "  X_test_selected = selector.transform(X_test)\n",
        "\n",
        "  model = LinearRegression()\n",
        "  model.fit(X_train_selected, y_train)\n",
        "  y_pred = model.predict(X_test_selected)\n",
        "  mae = mean_absolute_error(y_test, y_pred)\n",
        "\n",
        "  print(f'Test MAE: {mae:.0f} \\n')"
      ],
      "execution_count": 23,
      "outputs": [
        {
          "output_type": "stream",
          "text": [
            "1 features\n",
            "Test MAE: 185788 \n",
            "\n",
            "2 features\n",
            "Test MAE: 181871 \n",
            "\n",
            "3 features\n",
            "Test MAE: 181603 \n",
            "\n",
            "4 features\n",
            "Test MAE: 181603 \n",
            "\n",
            "5 features\n",
            "Test MAE: 181376 \n",
            "\n",
            "6 features\n",
            "Test MAE: 175854 \n",
            "\n",
            "7 features\n",
            "Test MAE: 174391 \n",
            "\n",
            "8 features\n",
            "Test MAE: 174021 \n",
            "\n",
            "9 features\n",
            "Test MAE: 172778 \n",
            "\n",
            "10 features\n",
            "Test MAE: 172740 \n",
            "\n",
            "11 features\n",
            "Test MAE: 169961 \n",
            "\n",
            "12 features\n",
            "Test MAE: 157213 \n",
            "\n",
            "13 features\n",
            "Test MAE: 156790 \n",
            "\n",
            "14 features\n",
            "Test MAE: 156503 \n",
            "\n",
            "15 features\n",
            "Test MAE: 155963 \n",
            "\n",
            "16 features\n",
            "Test MAE: 154389 \n",
            "\n",
            "17 features\n",
            "Test MAE: 152896 \n",
            "\n",
            "18 features\n",
            "Test MAE: 154880 \n",
            "\n",
            "19 features\n",
            "Test MAE: 154855 \n",
            "\n",
            "20 features\n",
            "Test MAE: 154856 \n",
            "\n",
            "21 features\n",
            "Test MAE: 156133 \n",
            "\n",
            "22 features\n",
            "Test MAE: 155997 \n",
            "\n",
            "23 features\n",
            "Test MAE: 155257 \n",
            "\n",
            "24 features\n",
            "Test MAE: 153047 \n",
            "\n",
            "25 features\n",
            "Test MAE: 152809 \n",
            "\n",
            "26 features\n",
            "Test MAE: 152609 \n",
            "\n",
            "27 features\n",
            "Test MAE: 152609 \n",
            "\n",
            "28 features\n",
            "Test MAE: 152619 \n",
            "\n",
            "29 features\n",
            "Test MAE: 151450 \n",
            "\n",
            "30 features\n",
            "Test MAE: 150573 \n",
            "\n",
            "31 features\n",
            "Test MAE: 150573 \n",
            "\n",
            "32 features\n",
            "Test MAE: 151899 \n",
            "\n",
            "33 features\n",
            "Test MAE: 152244 \n",
            "\n",
            "34 features\n",
            "Test MAE: 152115 \n",
            "\n",
            "35 features\n",
            "Test MAE: 152115 \n",
            "\n",
            "36 features\n",
            "Test MAE: 152634 \n",
            "\n",
            "37 features\n",
            "Test MAE: 152495 \n",
            "\n",
            "38 features\n",
            "Test MAE: 150872 \n",
            "\n",
            "39 features\n",
            "Test MAE: 146234 \n",
            "\n",
            "40 features\n",
            "Test MAE: 146154 \n",
            "\n",
            "41 features\n",
            "Test MAE: 146154 \n",
            "\n",
            "42 features\n",
            "Test MAE: 146154 \n",
            "\n",
            "43 features\n",
            "Test MAE: 144532 \n",
            "\n",
            "44 features\n",
            "Test MAE: 143776 \n",
            "\n",
            "45 features\n",
            "Test MAE: 143776 \n",
            "\n",
            "46 features\n",
            "Test MAE: 143534 \n",
            "\n",
            "47 features\n",
            "Test MAE: 143427 \n",
            "\n",
            "48 features\n",
            "Test MAE: 143367 \n",
            "\n",
            "49 features\n",
            "Test MAE: 143328 \n",
            "\n",
            "50 features\n",
            "Test MAE: 143444 \n",
            "\n",
            "51 features\n",
            "Test MAE: 143326 \n",
            "\n",
            "52 features\n",
            "Test MAE: 144514 \n",
            "\n",
            "53 features\n",
            "Test MAE: 144446 \n",
            "\n",
            "54 features\n",
            "Test MAE: 144447 \n",
            "\n",
            "55 features\n",
            "Test MAE: 143879 \n",
            "\n",
            "56 features\n",
            "Test MAE: 144383 \n",
            "\n",
            "57 features\n",
            "Test MAE: 144721 \n",
            "\n",
            "58 features\n",
            "Test MAE: 144415 \n",
            "\n",
            "59 features\n",
            "Test MAE: 143739 \n",
            "\n",
            "60 features\n",
            "Test MAE: 142747 \n",
            "\n",
            "61 features\n",
            "Test MAE: 142816 \n",
            "\n",
            "62 features\n",
            "Test MAE: 142577 \n",
            "\n",
            "63 features\n",
            "Test MAE: 142684 \n",
            "\n",
            "64 features\n",
            "Test MAE: 142656 \n",
            "\n",
            "65 features\n",
            "Test MAE: 142718 \n",
            "\n",
            "66 features\n",
            "Test MAE: 142223 \n",
            "\n",
            "67 features\n",
            "Test MAE: 142900 \n",
            "\n",
            "68 features\n",
            "Test MAE: 142195 \n",
            "\n",
            "69 features\n",
            "Test MAE: 142804 \n",
            "\n",
            "70 features\n",
            "Test MAE: 143275 \n",
            "\n",
            "71 features\n",
            "Test MAE: 143343 \n",
            "\n",
            "72 features\n",
            "Test MAE: 142935 \n",
            "\n",
            "73 features\n",
            "Test MAE: 142913 \n",
            "\n",
            "74 features\n",
            "Test MAE: 142984 \n",
            "\n",
            "75 features\n",
            "Test MAE: 142934 \n",
            "\n",
            "76 features\n",
            "Test MAE: 142896 \n",
            "\n",
            "77 features\n",
            "Test MAE: 142584 \n",
            "\n",
            "78 features\n",
            "Test MAE: 141171 \n",
            "\n",
            "79 features\n",
            "Test MAE: 141127 \n",
            "\n",
            "80 features\n",
            "Test MAE: 140536 \n",
            "\n",
            "81 features\n",
            "Test MAE: 139749 \n",
            "\n",
            "82 features\n",
            "Test MAE: 140040 \n",
            "\n",
            "83 features\n",
            "Test MAE: 139685 \n",
            "\n",
            "84 features\n",
            "Test MAE: 140106 \n",
            "\n",
            "85 features\n",
            "Test MAE: 140228 \n",
            "\n",
            "86 features\n",
            "Test MAE: 140268 \n",
            "\n",
            "87 features\n",
            "Test MAE: 140175 \n",
            "\n",
            "88 features\n",
            "Test MAE: 139942 \n",
            "\n",
            "89 features\n",
            "Test MAE: 140302 \n",
            "\n",
            "90 features\n",
            "Test MAE: 140129 \n",
            "\n",
            "91 features\n",
            "Test MAE: 140238 \n",
            "\n",
            "92 features\n",
            "Test MAE: 140272 \n",
            "\n",
            "93 features\n",
            "Test MAE: 140283 \n",
            "\n",
            "94 features\n",
            "Test MAE: 140317 \n",
            "\n",
            "95 features\n",
            "Test MAE: 140301 \n",
            "\n",
            "96 features\n",
            "Test MAE: 140320 \n",
            "\n",
            "97 features\n",
            "Test MAE: 139206 \n",
            "\n",
            "98 features\n",
            "Test MAE: 139293 \n",
            "\n",
            "99 features\n",
            "Test MAE: 140059 \n",
            "\n",
            "100 features\n",
            "Test MAE: 139916 \n",
            "\n",
            "101 features\n",
            "Test MAE: 140425 \n",
            "\n",
            "102 features\n",
            "Test MAE: 140421 \n",
            "\n",
            "103 features\n",
            "Test MAE: 140501 \n",
            "\n",
            "104 features\n",
            "Test MAE: 140389 \n",
            "\n",
            "105 features\n",
            "Test MAE: 140389 \n",
            "\n",
            "106 features\n",
            "Test MAE: 140342 \n",
            "\n",
            "107 features\n",
            "Test MAE: 140430 \n",
            "\n",
            "108 features\n",
            "Test MAE: 140259 \n",
            "\n",
            "109 features\n",
            "Test MAE: 140304 \n",
            "\n",
            "110 features\n",
            "Test MAE: 140265 \n",
            "\n",
            "111 features\n",
            "Test MAE: 140267 \n",
            "\n",
            "112 features\n",
            "Test MAE: 139839 \n",
            "\n",
            "113 features\n",
            "Test MAE: 139893 \n",
            "\n",
            "114 features\n",
            "Test MAE: 140043 \n",
            "\n",
            "115 features\n",
            "Test MAE: 139989 \n",
            "\n",
            "116 features\n",
            "Test MAE: 139772 \n",
            "\n",
            "117 features\n",
            "Test MAE: 140019 \n",
            "\n",
            "118 features\n",
            "Test MAE: 140867 \n",
            "\n",
            "119 features\n",
            "Test MAE: 140829 \n",
            "\n",
            "120 features\n",
            "Test MAE: 140543 \n",
            "\n",
            "121 features\n",
            "Test MAE: 140248 \n",
            "\n",
            "122 features\n",
            "Test MAE: 140450 \n",
            "\n",
            "123 features\n",
            "Test MAE: 140335 \n",
            "\n",
            "124 features\n",
            "Test MAE: 140421 \n",
            "\n",
            "125 features\n",
            "Test MAE: 140402 \n",
            "\n",
            "126 features\n",
            "Test MAE: 140427 \n",
            "\n",
            "127 features\n",
            "Test MAE: 140374 \n",
            "\n",
            "128 features\n",
            "Test MAE: 140373 \n",
            "\n",
            "129 features\n",
            "Test MAE: 156041368248 \n",
            "\n",
            "130 features\n",
            "Test MAE: 101029664811 \n",
            "\n",
            "131 features\n",
            "Test MAE: 101013379184 \n",
            "\n",
            "132 features\n",
            "Test MAE: 62209579356 \n",
            "\n",
            "133 features\n",
            "Test MAE: 30442212561 \n",
            "\n",
            "134 features\n",
            "Test MAE: 43485744540 \n",
            "\n",
            "135 features\n",
            "Test MAE: 67781147962 \n",
            "\n",
            "136 features\n",
            "Test MAE: 51042684661 \n",
            "\n",
            "137 features\n",
            "Test MAE: 38345575710 \n",
            "\n",
            "138 features\n",
            "Test MAE: 84520416780 \n",
            "\n",
            "139 features\n",
            "Test MAE: 28008703258 \n",
            "\n",
            "140 features\n",
            "Test MAE: 3097962306 \n",
            "\n",
            "141 features\n",
            "Test MAE: 14004237635 \n",
            "\n",
            "142 features\n",
            "Test MAE: 248891594944 \n",
            "\n",
            "143 features\n",
            "Test MAE: 178132706806 \n",
            "\n",
            "144 features\n",
            "Test MAE: 19990292321 \n",
            "\n",
            "145 features\n",
            "Test MAE: 18303366532 \n",
            "\n",
            "146 features\n",
            "Test MAE: 360272558679 \n",
            "\n",
            "147 features\n",
            "Test MAE: 61890876861 \n",
            "\n",
            "148 features\n",
            "Test MAE: 130699105645 \n",
            "\n",
            "149 features\n",
            "Test MAE: 134444579926 \n",
            "\n",
            "150 features\n",
            "Test MAE: 30953985465 \n",
            "\n",
            "151 features\n",
            "Test MAE: 179593885039 \n",
            "\n",
            "152 features\n",
            "Test MAE: 168293928415 \n",
            "\n",
            "153 features\n",
            "Test MAE: 269610290449 \n",
            "\n",
            "154 features\n",
            "Test MAE: 589533609717 \n",
            "\n",
            "155 features\n",
            "Test MAE: 140349 \n",
            "\n",
            "156 features\n",
            "Test MAE: 48112650400 \n",
            "\n",
            "157 features\n",
            "Test MAE: 240248081082 \n",
            "\n",
            "158 features\n",
            "Test MAE: 140582 \n",
            "\n",
            "159 features\n",
            "Test MAE: 368149626219 \n",
            "\n",
            "160 features\n",
            "Test MAE: 14015253035 \n",
            "\n",
            "161 features\n",
            "Test MAE: 140469 \n",
            "\n",
            "162 features\n",
            "Test MAE: 302480055616 \n",
            "\n",
            "163 features\n",
            "Test MAE: 4236211302 \n",
            "\n",
            "164 features\n",
            "Test MAE: 158339986143 \n",
            "\n",
            "165 features\n",
            "Test MAE: 170761615137 \n",
            "\n",
            "166 features\n",
            "Test MAE: 234863392669 \n",
            "\n",
            "167 features\n",
            "Test MAE: 393435388510 \n",
            "\n",
            "168 features\n",
            "Test MAE: 310801138768 \n",
            "\n",
            "169 features\n",
            "Test MAE: 302339641785 \n",
            "\n"
          ],
          "name": "stdout"
        }
      ]
    },
    {
      "cell_type": "markdown",
      "metadata": {
        "id": "-2el7X24Mz7J",
        "colab_type": "text"
      },
      "source": [
        "Looks like the optimal model has 98 features. "
      ]
    },
    {
      "cell_type": "code",
      "metadata": {
        "id": "3JHOF0JZb6TY",
        "colab_type": "code",
        "colab": {}
      },
      "source": [
        "selector = SelectKBest(score_func = f_regression, k = 98)\n",
        "X_train_selected = selector.fit_transform(X_train, y_train)\n",
        "X_test_selected = selector.transform(X_test)"
      ],
      "execution_count": 0,
      "outputs": []
    },
    {
      "cell_type": "markdown",
      "metadata": {
        "id": "Ayp4OyzrfVhJ",
        "colab_type": "text"
      },
      "source": [
        "## Ridge Regression"
      ]
    },
    {
      "cell_type": "code",
      "metadata": {
        "id": "6D4egUVRhb8g",
        "colab_type": "code",
        "colab": {}
      },
      "source": [
        "from sklearn.linear_model import Ridge, RidgeCV"
      ],
      "execution_count": 0,
      "outputs": []
    },
    {
      "cell_type": "code",
      "metadata": {
        "id": "BB_sg4BiiUxs",
        "colab_type": "code",
        "colab": {}
      },
      "source": [
        "alphas = [.01, .1, .5, 1, 5, 10]"
      ],
      "execution_count": 0,
      "outputs": []
    },
    {
      "cell_type": "code",
      "metadata": {
        "id": "IaXn7NR_iOrs",
        "colab_type": "code",
        "colab": {
          "base_uri": "https://localhost:8080/",
          "height": 68
        },
        "outputId": "d445fcaa-c1dd-4533-a5e2-47bde4d71217"
      },
      "source": [
        "ridge_model = RidgeCV(alphas = alphas, normalize = True, store_cv_values=True)\n",
        "ridge_model.fit(X_train_selected, y_train)"
      ],
      "execution_count": 39,
      "outputs": [
        {
          "output_type": "execute_result",
          "data": {
            "text/plain": [
              "RidgeCV(alphas=array([ 0.01,  0.1 ,  0.5 ,  1.  ,  5.  , 10.  ]), cv=None,\n",
              "        fit_intercept=True, gcv_mode=None, normalize=True, scoring=None,\n",
              "        store_cv_values=True)"
            ]
          },
          "metadata": {
            "tags": []
          },
          "execution_count": 39
        }
      ]
    },
    {
      "cell_type": "code",
      "metadata": {
        "id": "DTHgYHKBjBO5",
        "colab_type": "code",
        "colab": {}
      },
      "source": [
        "y_pred = ridge_model.predict(X_test_selected)\n",
        "mae = mean_absolute_error(y_test, y_pred)"
      ],
      "execution_count": 0,
      "outputs": []
    },
    {
      "cell_type": "code",
      "metadata": {
        "id": "t6ucaNdIjaLW",
        "colab_type": "code",
        "colab": {
          "base_uri": "https://localhost:8080/",
          "height": 34
        },
        "outputId": "587d86a0-d239-4eb0-c174-520943d29bb0"
      },
      "source": [
        "mae"
      ],
      "execution_count": 41,
      "outputs": [
        {
          "output_type": "execute_result",
          "data": {
            "text/plain": [
              "138286.1364951723"
            ]
          },
          "metadata": {
            "tags": []
          },
          "execution_count": 41
        }
      ]
    },
    {
      "cell_type": "code",
      "metadata": {
        "id": "es9RD1R_jl6X",
        "colab_type": "code",
        "colab": {
          "base_uri": "https://localhost:8080/",
          "height": 238
        },
        "outputId": "c11cc6e0-8292-4fa3-ec53-070677f716f9"
      },
      "source": [
        "ridge_model.cv_values_"
      ],
      "execution_count": 42,
      "outputs": [
        {
          "output_type": "execute_result",
          "data": {
            "text/plain": [
              "array([[2.11942512e+11, 1.83323936e+11, 1.19863995e+11, 8.43757415e+10,\n",
              "        2.54126421e+10, 1.49475799e+10],\n",
              "       [2.92896175e+11, 2.79800618e+11, 2.51860636e+11, 2.35559585e+11,\n",
              "        2.01298073e+11, 1.91657218e+11],\n",
              "       [4.27027821e+10, 3.92997717e+10, 3.59223485e+10, 3.52820897e+10,\n",
              "        3.49698326e+10, 3.51090927e+10],\n",
              "       ...,\n",
              "       [1.67786441e+10, 1.46235392e+10, 8.15994281e+09, 4.36698599e+09,\n",
              "        1.87878709e+08, 4.31356199e+06],\n",
              "       [6.94651954e+08, 2.12525229e+08, 2.25845915e+08, 1.17192196e+09,\n",
              "        5.66887454e+09, 7.43698946e+09],\n",
              "       [1.44325451e+11, 1.50507549e+11, 1.73370276e+11, 1.92128463e+11,\n",
              "        2.38219574e+11, 2.50853472e+11]])"
            ]
          },
          "metadata": {
            "tags": []
          },
          "execution_count": 42
        }
      ]
    },
    {
      "cell_type": "code",
      "metadata": {
        "id": "CxplRS27kq2P",
        "colab_type": "code",
        "colab": {
          "base_uri": "https://localhost:8080/",
          "height": 34
        },
        "outputId": "6d399788-ab5d-421e-d321-9f455d91988e"
      },
      "source": [
        "ridge_model.alpha_"
      ],
      "execution_count": 43,
      "outputs": [
        {
          "output_type": "execute_result",
          "data": {
            "text/plain": [
              "0.1"
            ]
          },
          "metadata": {
            "tags": []
          },
          "execution_count": 43
        }
      ]
    },
    {
      "cell_type": "code",
      "metadata": {
        "id": "T01HO_nTks4U",
        "colab_type": "code",
        "colab": {}
      },
      "source": [
        ""
      ],
      "execution_count": 0,
      "outputs": []
    }
  ]
}