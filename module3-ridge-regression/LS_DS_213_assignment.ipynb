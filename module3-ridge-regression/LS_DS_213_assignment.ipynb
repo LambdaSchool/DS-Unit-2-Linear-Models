{
  "nbformat": 4,
  "nbformat_minor": 0,
  "metadata": {
    "kernelspec": {
      "display_name": "Python 3",
      "language": "python",
      "name": "python3"
    },
    "language_info": {
      "codemirror_mode": {
        "name": "ipython",
        "version": 3
      },
      "file_extension": ".py",
      "mimetype": "text/x-python",
      "name": "python",
      "nbconvert_exporter": "python",
      "pygments_lexer": "ipython3",
      "version": "3.7.3"
    },
    "colab": {
      "name": "Jordan_Dondre_TL_Maggie_DS17_Assignment_213.ipynb",
      "provenance": [],
      "collapsed_sections": [],
      "include_colab_link": true
    }
  },
  "cells": [
    {
      "cell_type": "markdown",
      "metadata": {
        "id": "view-in-github",
        "colab_type": "text"
      },
      "source": [
        "<a href=\"https://colab.research.google.com/github/dondreojordan/DS-Unit-2-Linear-Models/blob/master/module3-ridge-regression/LS_DS_213_assignment.ipynb\" target=\"_parent\"><img src=\"https://colab.research.google.com/assets/colab-badge.svg\" alt=\"Open In Colab\"/></a>"
      ]
    },
    {
      "cell_type": "markdown",
      "metadata": {
        "id": "L6uLeZ2v1sif",
        "colab_type": "text"
      },
      "source": [
        "Lambda School Data Science\n",
        "\n",
        "*Unit 2, Sprint 1, Module 3*\n",
        "\n",
        "---"
      ]
    },
    {
      "cell_type": "markdown",
      "metadata": {
        "colab_type": "text",
        "id": "7IXUfiQ2UKj6"
      },
      "source": [
        "# Ridge Regression\n",
        "\n",
        "## Assignment\n",
        "\n",
        "We're going back to our other **New York City** real estate dataset. Instead of predicting apartment rents, you'll predict property sales prices.\n",
        "\n",
        "But not just for condos in Tribeca...\n",
        "\n",
        "- [ ] Use a subset of the data where `BUILDING_CLASS_CATEGORY` == `'01 ONE FAMILY DWELLINGS'` and the sale price was more than 100 thousand and less than 2 million.\n",
        "- [ ] Do train/test split. Use data from January — March 2019 to train. Use data from April 2019 to test.\n",
        "- [ ] Do one-hot encoding of categorical features.\n",
        "- [ ] Do feature selection with `SelectKBest`.\n",
        "- [ ] Fit a ridge regression model with multiple features. Use the `normalize=True` parameter (or do [feature scaling](https://scikit-learn.org/stable/modules/preprocessing.html) beforehand — use the scaler's `fit_transform` method with the train set, and the scaler's `transform` method with the test set)\n",
        "- [ ] Get mean absolute error for the test set.\n",
        "- [ ] As always, commit your notebook to your fork of the GitHub repo.\n",
        "\n",
        "The [NYC Department of Finance](https://www1.nyc.gov/site/finance/taxes/property-rolling-sales-data.page) has a glossary of property sales terms and NYC Building Class Code Descriptions. The data comes from the [NYC OpenData](https://data.cityofnewyork.us/browse?q=NYC%20calendar%20sales) portal.\n"
      ]
    },
    {
      "cell_type": "code",
      "metadata": {
        "colab_type": "code",
        "id": "o9eSnDYhUGD7",
        "colab": {}
      },
      "source": [
        "%%capture\n",
        "import sys\n",
        "\n",
        "# If you're on Colab:\n",
        "if 'google.colab' in sys.modules:\n",
        "    DATA_PATH = 'https://raw.githubusercontent.com/LambdaSchool/DS-Unit-2-Applied-Modeling/master/data/'\n",
        "    !pip install category_encoders==2.*\n",
        "\n",
        "# If you're working locally:\n",
        "else:\n",
        "    DATA_PATH = '../data/'\n",
        "    \n",
        "# Ignore this Numpy warning when using Plotly Express:\n",
        "# FutureWarning: Method .ptp is deprecated and will be removed in a future version. Use numpy.ptp instead.\n",
        "import warnings\n",
        "warnings.filterwarnings(action='ignore', category=FutureWarning, module='numpy')"
      ],
      "execution_count": 1,
      "outputs": []
    },
    {
      "cell_type": "code",
      "metadata": {
        "colab_type": "code",
        "id": "QJBD4ruICm1m",
        "colab": {}
      },
      "source": [
        "import pandas as pd\n",
        "import pandas_profiling\n",
        "\n",
        "# Read New York City property sales data\n",
        "df = pd.read_csv(DATA_PATH+'condos/NYC_Citywide_Rolling_Calendar_Sales.csv')\n",
        "\n",
        "# Change column names: replace spaces with underscores\n",
        "df.columns = [col.replace(' ', '_') for col in df]\n",
        "\n",
        "# SALE_PRICE was read as strings.\n",
        "# Remove symbols, convert to integer\n",
        "df['SALE_PRICE'] = (\n",
        "    df['SALE_PRICE']\n",
        "    .str.replace('$','')\n",
        "    .str.replace('-','')\n",
        "    .str.replace(',','')\n",
        "    .astype(int)\n",
        ")"
      ],
      "execution_count": 4,
      "outputs": []
    },
    {
      "cell_type": "code",
      "metadata": {
        "id": "QtO96rTOA_P0",
        "colab_type": "code",
        "colab": {
          "base_uri": "https://localhost:8080/",
          "height": 1000
        },
        "outputId": "84b16768-a336-4ed0-809c-3f8b362dbe2e"
      },
      "source": [
        "'''Quick Observations: Nan values, no sales price.'''\n",
        "\n",
        "df.head(20)"
      ],
      "execution_count": 5,
      "outputs": [
        {
          "output_type": "execute_result",
          "data": {
            "text/html": [
              "<div>\n",
              "<style scoped>\n",
              "    .dataframe tbody tr th:only-of-type {\n",
              "        vertical-align: middle;\n",
              "    }\n",
              "\n",
              "    .dataframe tbody tr th {\n",
              "        vertical-align: top;\n",
              "    }\n",
              "\n",
              "    .dataframe thead th {\n",
              "        text-align: right;\n",
              "    }\n",
              "</style>\n",
              "<table border=\"1\" class=\"dataframe\">\n",
              "  <thead>\n",
              "    <tr style=\"text-align: right;\">\n",
              "      <th></th>\n",
              "      <th>BOROUGH</th>\n",
              "      <th>NEIGHBORHOOD</th>\n",
              "      <th>BUILDING_CLASS_CATEGORY</th>\n",
              "      <th>TAX_CLASS_AT_PRESENT</th>\n",
              "      <th>BLOCK</th>\n",
              "      <th>LOT</th>\n",
              "      <th>EASE-MENT</th>\n",
              "      <th>BUILDING_CLASS_AT_PRESENT</th>\n",
              "      <th>ADDRESS</th>\n",
              "      <th>APARTMENT_NUMBER</th>\n",
              "      <th>ZIP_CODE</th>\n",
              "      <th>RESIDENTIAL_UNITS</th>\n",
              "      <th>COMMERCIAL_UNITS</th>\n",
              "      <th>TOTAL_UNITS</th>\n",
              "      <th>LAND_SQUARE_FEET</th>\n",
              "      <th>GROSS_SQUARE_FEET</th>\n",
              "      <th>YEAR_BUILT</th>\n",
              "      <th>TAX_CLASS_AT_TIME_OF_SALE</th>\n",
              "      <th>BUILDING_CLASS_AT_TIME_OF_SALE</th>\n",
              "      <th>SALE_PRICE</th>\n",
              "      <th>SALE_DATE</th>\n",
              "    </tr>\n",
              "  </thead>\n",
              "  <tbody>\n",
              "    <tr>\n",
              "      <th>0</th>\n",
              "      <td>1</td>\n",
              "      <td>CHELSEA</td>\n",
              "      <td>13 CONDOS - ELEVATOR APARTMENTS</td>\n",
              "      <td>2</td>\n",
              "      <td>716</td>\n",
              "      <td>1246</td>\n",
              "      <td>NaN</td>\n",
              "      <td>R4</td>\n",
              "      <td>447 WEST 18TH STREET, PH12A</td>\n",
              "      <td>PH12A</td>\n",
              "      <td>10011.0</td>\n",
              "      <td>1.0</td>\n",
              "      <td>0.0</td>\n",
              "      <td>1.0</td>\n",
              "      <td>10,733</td>\n",
              "      <td>1979.0</td>\n",
              "      <td>2007.0</td>\n",
              "      <td>2</td>\n",
              "      <td>R4</td>\n",
              "      <td>0</td>\n",
              "      <td>01/01/2019</td>\n",
              "    </tr>\n",
              "    <tr>\n",
              "      <th>1</th>\n",
              "      <td>1</td>\n",
              "      <td>FASHION</td>\n",
              "      <td>21 OFFICE BUILDINGS</td>\n",
              "      <td>4</td>\n",
              "      <td>812</td>\n",
              "      <td>68</td>\n",
              "      <td>NaN</td>\n",
              "      <td>O5</td>\n",
              "      <td>144 WEST 37TH STREET</td>\n",
              "      <td>NaN</td>\n",
              "      <td>10018.0</td>\n",
              "      <td>0.0</td>\n",
              "      <td>6.0</td>\n",
              "      <td>6.0</td>\n",
              "      <td>2,962</td>\n",
              "      <td>15435.0</td>\n",
              "      <td>1920.0</td>\n",
              "      <td>4</td>\n",
              "      <td>O5</td>\n",
              "      <td>0</td>\n",
              "      <td>01/01/2019</td>\n",
              "    </tr>\n",
              "    <tr>\n",
              "      <th>2</th>\n",
              "      <td>1</td>\n",
              "      <td>FASHION</td>\n",
              "      <td>21 OFFICE BUILDINGS</td>\n",
              "      <td>4</td>\n",
              "      <td>839</td>\n",
              "      <td>69</td>\n",
              "      <td>NaN</td>\n",
              "      <td>O5</td>\n",
              "      <td>40 WEST 38TH STREET</td>\n",
              "      <td>NaN</td>\n",
              "      <td>10018.0</td>\n",
              "      <td>0.0</td>\n",
              "      <td>7.0</td>\n",
              "      <td>7.0</td>\n",
              "      <td>2,074</td>\n",
              "      <td>11332.0</td>\n",
              "      <td>1930.0</td>\n",
              "      <td>4</td>\n",
              "      <td>O5</td>\n",
              "      <td>0</td>\n",
              "      <td>01/01/2019</td>\n",
              "    </tr>\n",
              "    <tr>\n",
              "      <th>3</th>\n",
              "      <td>1</td>\n",
              "      <td>GREENWICH VILLAGE-WEST</td>\n",
              "      <td>13 CONDOS - ELEVATOR APARTMENTS</td>\n",
              "      <td>2</td>\n",
              "      <td>592</td>\n",
              "      <td>1041</td>\n",
              "      <td>NaN</td>\n",
              "      <td>R4</td>\n",
              "      <td>1 SHERIDAN SQUARE, 8C</td>\n",
              "      <td>8C</td>\n",
              "      <td>10014.0</td>\n",
              "      <td>1.0</td>\n",
              "      <td>0.0</td>\n",
              "      <td>1.0</td>\n",
              "      <td>0</td>\n",
              "      <td>500.0</td>\n",
              "      <td>0.0</td>\n",
              "      <td>2</td>\n",
              "      <td>R4</td>\n",
              "      <td>0</td>\n",
              "      <td>01/01/2019</td>\n",
              "    </tr>\n",
              "    <tr>\n",
              "      <th>4</th>\n",
              "      <td>1</td>\n",
              "      <td>UPPER EAST SIDE (59-79)</td>\n",
              "      <td>15 CONDOS - 2-10 UNIT RESIDENTIAL</td>\n",
              "      <td>2C</td>\n",
              "      <td>1379</td>\n",
              "      <td>1402</td>\n",
              "      <td>NaN</td>\n",
              "      <td>R1</td>\n",
              "      <td>20 EAST 65TH STREET, B</td>\n",
              "      <td>B</td>\n",
              "      <td>10065.0</td>\n",
              "      <td>1.0</td>\n",
              "      <td>0.0</td>\n",
              "      <td>1.0</td>\n",
              "      <td>0</td>\n",
              "      <td>6406.0</td>\n",
              "      <td>0.0</td>\n",
              "      <td>2</td>\n",
              "      <td>R1</td>\n",
              "      <td>0</td>\n",
              "      <td>01/01/2019</td>\n",
              "    </tr>\n",
              "    <tr>\n",
              "      <th>5</th>\n",
              "      <td>1</td>\n",
              "      <td>UPPER EAST SIDE (79-96)</td>\n",
              "      <td>07 RENTALS - WALKUP APARTMENTS</td>\n",
              "      <td>2B</td>\n",
              "      <td>1551</td>\n",
              "      <td>131</td>\n",
              "      <td>NaN</td>\n",
              "      <td>C4</td>\n",
              "      <td>354 EAST 89TH STREET</td>\n",
              "      <td>NaN</td>\n",
              "      <td>10128.0</td>\n",
              "      <td>10.0</td>\n",
              "      <td>0.0</td>\n",
              "      <td>10.0</td>\n",
              "      <td>2,013</td>\n",
              "      <td>6570.0</td>\n",
              "      <td>1920.0</td>\n",
              "      <td>2</td>\n",
              "      <td>C4</td>\n",
              "      <td>0</td>\n",
              "      <td>01/01/2019</td>\n",
              "    </tr>\n",
              "    <tr>\n",
              "      <th>6</th>\n",
              "      <td>1</td>\n",
              "      <td>UPPER WEST SIDE (96-116)</td>\n",
              "      <td>07 RENTALS - WALKUP APARTMENTS</td>\n",
              "      <td>2B</td>\n",
              "      <td>1891</td>\n",
              "      <td>159</td>\n",
              "      <td>NaN</td>\n",
              "      <td>C4</td>\n",
              "      <td>304 WEST 106 STREET</td>\n",
              "      <td>NaN</td>\n",
              "      <td>10025.0</td>\n",
              "      <td>10.0</td>\n",
              "      <td>0.0</td>\n",
              "      <td>10.0</td>\n",
              "      <td>1,716</td>\n",
              "      <td>5810.0</td>\n",
              "      <td>1900.0</td>\n",
              "      <td>2</td>\n",
              "      <td>C4</td>\n",
              "      <td>0</td>\n",
              "      <td>01/01/2019</td>\n",
              "    </tr>\n",
              "    <tr>\n",
              "      <th>7</th>\n",
              "      <td>2</td>\n",
              "      <td>MORRIS PARK/VAN NEST</td>\n",
              "      <td>01 ONE FAMILY DWELLINGS</td>\n",
              "      <td>1</td>\n",
              "      <td>4090</td>\n",
              "      <td>37</td>\n",
              "      <td>NaN</td>\n",
              "      <td>A1</td>\n",
              "      <td>1193 SACKET AVENUE</td>\n",
              "      <td>NaN</td>\n",
              "      <td>10461.0</td>\n",
              "      <td>1.0</td>\n",
              "      <td>0.0</td>\n",
              "      <td>1.0</td>\n",
              "      <td>3,404</td>\n",
              "      <td>1328.0</td>\n",
              "      <td>1925.0</td>\n",
              "      <td>1</td>\n",
              "      <td>A1</td>\n",
              "      <td>0</td>\n",
              "      <td>01/01/2019</td>\n",
              "    </tr>\n",
              "    <tr>\n",
              "      <th>8</th>\n",
              "      <td>2</td>\n",
              "      <td>MORRIS PARK/VAN NEST</td>\n",
              "      <td>01 ONE FAMILY DWELLINGS</td>\n",
              "      <td>1</td>\n",
              "      <td>4120</td>\n",
              "      <td>18</td>\n",
              "      <td>NaN</td>\n",
              "      <td>A5</td>\n",
              "      <td>1215 VAN NEST AVENUE</td>\n",
              "      <td>NaN</td>\n",
              "      <td>10461.0</td>\n",
              "      <td>1.0</td>\n",
              "      <td>0.0</td>\n",
              "      <td>1.0</td>\n",
              "      <td>2,042</td>\n",
              "      <td>1728.0</td>\n",
              "      <td>1935.0</td>\n",
              "      <td>1</td>\n",
              "      <td>A5</td>\n",
              "      <td>0</td>\n",
              "      <td>01/01/2019</td>\n",
              "    </tr>\n",
              "    <tr>\n",
              "      <th>9</th>\n",
              "      <td>2</td>\n",
              "      <td>MORRIS PARK/VAN NEST</td>\n",
              "      <td>01 ONE FAMILY DWELLINGS</td>\n",
              "      <td>1</td>\n",
              "      <td>4120</td>\n",
              "      <td>20</td>\n",
              "      <td>NaN</td>\n",
              "      <td>A5</td>\n",
              "      <td>1211 VAN NEST AVENUE</td>\n",
              "      <td>NaN</td>\n",
              "      <td>10461.0</td>\n",
              "      <td>1.0</td>\n",
              "      <td>0.0</td>\n",
              "      <td>1.0</td>\n",
              "      <td>2,042</td>\n",
              "      <td>1728.0</td>\n",
              "      <td>1935.0</td>\n",
              "      <td>1</td>\n",
              "      <td>A5</td>\n",
              "      <td>0</td>\n",
              "      <td>01/01/2019</td>\n",
              "    </tr>\n",
              "    <tr>\n",
              "      <th>10</th>\n",
              "      <td>2</td>\n",
              "      <td>MORRIS PARK/VAN NEST</td>\n",
              "      <td>02 TWO FAMILY DWELLINGS</td>\n",
              "      <td>1</td>\n",
              "      <td>4120</td>\n",
              "      <td>19</td>\n",
              "      <td>NaN</td>\n",
              "      <td>B1</td>\n",
              "      <td>1213 VAN NEST AVENUE</td>\n",
              "      <td>NaN</td>\n",
              "      <td>10461.0</td>\n",
              "      <td>2.0</td>\n",
              "      <td>0.0</td>\n",
              "      <td>2.0</td>\n",
              "      <td>2,042</td>\n",
              "      <td>2208.0</td>\n",
              "      <td>1935.0</td>\n",
              "      <td>1</td>\n",
              "      <td>B1</td>\n",
              "      <td>0</td>\n",
              "      <td>01/01/2019</td>\n",
              "    </tr>\n",
              "    <tr>\n",
              "      <th>11</th>\n",
              "      <td>2</td>\n",
              "      <td>MORRIS PARK/VAN NEST</td>\n",
              "      <td>05 TAX CLASS 1 VACANT LAND</td>\n",
              "      <td>1B</td>\n",
              "      <td>4090</td>\n",
              "      <td>17</td>\n",
              "      <td>NaN</td>\n",
              "      <td>V0</td>\n",
              "      <td>1190 PIERCE AVENUE</td>\n",
              "      <td>NaN</td>\n",
              "      <td>10461.0</td>\n",
              "      <td>0.0</td>\n",
              "      <td>0.0</td>\n",
              "      <td>0.0</td>\n",
              "      <td>5,777</td>\n",
              "      <td>0.0</td>\n",
              "      <td>0.0</td>\n",
              "      <td>1</td>\n",
              "      <td>V0</td>\n",
              "      <td>0</td>\n",
              "      <td>01/01/2019</td>\n",
              "    </tr>\n",
              "    <tr>\n",
              "      <th>12</th>\n",
              "      <td>2</td>\n",
              "      <td>MORRIS PARK/VAN NEST</td>\n",
              "      <td>29 COMMERCIAL GARAGES</td>\n",
              "      <td>4</td>\n",
              "      <td>4120</td>\n",
              "      <td>7</td>\n",
              "      <td>NaN</td>\n",
              "      <td>G7</td>\n",
              "      <td>1216 MORRIS PARK AVENUE</td>\n",
              "      <td>NaN</td>\n",
              "      <td>10461.0</td>\n",
              "      <td>0.0</td>\n",
              "      <td>0.0</td>\n",
              "      <td>0.0</td>\n",
              "      <td>2,250</td>\n",
              "      <td>0.0</td>\n",
              "      <td>0.0</td>\n",
              "      <td>4</td>\n",
              "      <td>G7</td>\n",
              "      <td>0</td>\n",
              "      <td>01/01/2019</td>\n",
              "    </tr>\n",
              "    <tr>\n",
              "      <th>13</th>\n",
              "      <td>2</td>\n",
              "      <td>MORRIS PARK/VAN NEST</td>\n",
              "      <td>29 COMMERCIAL GARAGES</td>\n",
              "      <td>4</td>\n",
              "      <td>4120</td>\n",
              "      <td>8</td>\n",
              "      <td>NaN</td>\n",
              "      <td>G7</td>\n",
              "      <td>1228 MORRIS PARK AVENUE</td>\n",
              "      <td>NaN</td>\n",
              "      <td>10461.0</td>\n",
              "      <td>0.0</td>\n",
              "      <td>0.0</td>\n",
              "      <td>0.0</td>\n",
              "      <td>17,922</td>\n",
              "      <td>0.0</td>\n",
              "      <td>0.0</td>\n",
              "      <td>4</td>\n",
              "      <td>G7</td>\n",
              "      <td>0</td>\n",
              "      <td>01/01/2019</td>\n",
              "    </tr>\n",
              "    <tr>\n",
              "      <th>14</th>\n",
              "      <td>2</td>\n",
              "      <td>MORRIS PARK/VAN NEST</td>\n",
              "      <td>29 COMMERCIAL GARAGES</td>\n",
              "      <td>4</td>\n",
              "      <td>4120</td>\n",
              "      <td>12</td>\n",
              "      <td>NaN</td>\n",
              "      <td>G7</td>\n",
              "      <td>N/A NEWPORT AVENUE</td>\n",
              "      <td>NaN</td>\n",
              "      <td>0.0</td>\n",
              "      <td>0.0</td>\n",
              "      <td>0.0</td>\n",
              "      <td>0.0</td>\n",
              "      <td>680</td>\n",
              "      <td>0.0</td>\n",
              "      <td>0.0</td>\n",
              "      <td>4</td>\n",
              "      <td>G7</td>\n",
              "      <td>0</td>\n",
              "      <td>01/01/2019</td>\n",
              "    </tr>\n",
              "    <tr>\n",
              "      <th>15</th>\n",
              "      <td>2</td>\n",
              "      <td>MORRIS PARK/VAN NEST</td>\n",
              "      <td>29 COMMERCIAL GARAGES</td>\n",
              "      <td>4</td>\n",
              "      <td>4120</td>\n",
              "      <td>16</td>\n",
              "      <td>NaN</td>\n",
              "      <td>G7</td>\n",
              "      <td>1219 VAN NEST AVENUE</td>\n",
              "      <td>NaN</td>\n",
              "      <td>10461.0</td>\n",
              "      <td>0.0</td>\n",
              "      <td>0.0</td>\n",
              "      <td>0.0</td>\n",
              "      <td>1,825</td>\n",
              "      <td>0.0</td>\n",
              "      <td>0.0</td>\n",
              "      <td>4</td>\n",
              "      <td>G7</td>\n",
              "      <td>0</td>\n",
              "      <td>01/01/2019</td>\n",
              "    </tr>\n",
              "    <tr>\n",
              "      <th>16</th>\n",
              "      <td>2</td>\n",
              "      <td>MORRIS PARK/VAN NEST</td>\n",
              "      <td>29 COMMERCIAL GARAGES</td>\n",
              "      <td>4</td>\n",
              "      <td>4120</td>\n",
              "      <td>17</td>\n",
              "      <td>NaN</td>\n",
              "      <td>G7</td>\n",
              "      <td>1217 VAN NEST AVENUE</td>\n",
              "      <td>NaN</td>\n",
              "      <td>10461.0</td>\n",
              "      <td>0.0</td>\n",
              "      <td>0.0</td>\n",
              "      <td>0.0</td>\n",
              "      <td>2,042</td>\n",
              "      <td>0.0</td>\n",
              "      <td>0.0</td>\n",
              "      <td>4</td>\n",
              "      <td>G7</td>\n",
              "      <td>0</td>\n",
              "      <td>01/01/2019</td>\n",
              "    </tr>\n",
              "    <tr>\n",
              "      <th>17</th>\n",
              "      <td>2</td>\n",
              "      <td>MORRIS PARK/VAN NEST</td>\n",
              "      <td>32 HOSPITAL AND HEALTH FACILITIES</td>\n",
              "      <td>4</td>\n",
              "      <td>4117</td>\n",
              "      <td>1</td>\n",
              "      <td>NaN</td>\n",
              "      <td>I9</td>\n",
              "      <td>1250 MORRIS PARK</td>\n",
              "      <td>NaN</td>\n",
              "      <td>10461.0</td>\n",
              "      <td>0.0</td>\n",
              "      <td>7.0</td>\n",
              "      <td>7.0</td>\n",
              "      <td>480,000</td>\n",
              "      <td>1303935.0</td>\n",
              "      <td>1954.0</td>\n",
              "      <td>4</td>\n",
              "      <td>I9</td>\n",
              "      <td>0</td>\n",
              "      <td>01/01/2019</td>\n",
              "    </tr>\n",
              "    <tr>\n",
              "      <th>18</th>\n",
              "      <td>2</td>\n",
              "      <td>MORRIS PARK/VAN NEST</td>\n",
              "      <td>33 EDUCATIONAL FACILITIES</td>\n",
              "      <td>4</td>\n",
              "      <td>4090</td>\n",
              "      <td>19</td>\n",
              "      <td>NaN</td>\n",
              "      <td>W6</td>\n",
              "      <td>1196 PIERCE AVENUE</td>\n",
              "      <td>NaN</td>\n",
              "      <td>10461.0</td>\n",
              "      <td>0.0</td>\n",
              "      <td>1.0</td>\n",
              "      <td>1.0</td>\n",
              "      <td>23,500</td>\n",
              "      <td>12170.0</td>\n",
              "      <td>1954.0</td>\n",
              "      <td>4</td>\n",
              "      <td>W6</td>\n",
              "      <td>0</td>\n",
              "      <td>01/01/2019</td>\n",
              "    </tr>\n",
              "    <tr>\n",
              "      <th>19</th>\n",
              "      <td>2</td>\n",
              "      <td>PELHAM PARKWAY SOUTH</td>\n",
              "      <td>08 RENTALS - ELEVATOR APARTMENTS</td>\n",
              "      <td>2</td>\n",
              "      <td>4222</td>\n",
              "      <td>84</td>\n",
              "      <td>NaN</td>\n",
              "      <td>D3</td>\n",
              "      <td>1579 RHINELANDER AVENUE</td>\n",
              "      <td>NaN</td>\n",
              "      <td>10461.0</td>\n",
              "      <td>130.0</td>\n",
              "      <td>0.0</td>\n",
              "      <td>130.0</td>\n",
              "      <td>52,200</td>\n",
              "      <td>140628.0</td>\n",
              "      <td>1961.0</td>\n",
              "      <td>2</td>\n",
              "      <td>D3</td>\n",
              "      <td>0</td>\n",
              "      <td>01/01/2019</td>\n",
              "    </tr>\n",
              "  </tbody>\n",
              "</table>\n",
              "</div>"
            ],
            "text/plain": [
              "    BOROUGH              NEIGHBORHOOD  ... SALE_PRICE   SALE_DATE\n",
              "0         1                   CHELSEA  ...          0  01/01/2019\n",
              "1         1                   FASHION  ...          0  01/01/2019\n",
              "2         1                   FASHION  ...          0  01/01/2019\n",
              "3         1    GREENWICH VILLAGE-WEST  ...          0  01/01/2019\n",
              "4         1   UPPER EAST SIDE (59-79)  ...          0  01/01/2019\n",
              "5         1   UPPER EAST SIDE (79-96)  ...          0  01/01/2019\n",
              "6         1  UPPER WEST SIDE (96-116)  ...          0  01/01/2019\n",
              "7         2      MORRIS PARK/VAN NEST  ...          0  01/01/2019\n",
              "8         2      MORRIS PARK/VAN NEST  ...          0  01/01/2019\n",
              "9         2      MORRIS PARK/VAN NEST  ...          0  01/01/2019\n",
              "10        2      MORRIS PARK/VAN NEST  ...          0  01/01/2019\n",
              "11        2      MORRIS PARK/VAN NEST  ...          0  01/01/2019\n",
              "12        2      MORRIS PARK/VAN NEST  ...          0  01/01/2019\n",
              "13        2      MORRIS PARK/VAN NEST  ...          0  01/01/2019\n",
              "14        2      MORRIS PARK/VAN NEST  ...          0  01/01/2019\n",
              "15        2      MORRIS PARK/VAN NEST  ...          0  01/01/2019\n",
              "16        2      MORRIS PARK/VAN NEST  ...          0  01/01/2019\n",
              "17        2      MORRIS PARK/VAN NEST  ...          0  01/01/2019\n",
              "18        2      MORRIS PARK/VAN NEST  ...          0  01/01/2019\n",
              "19        2      PELHAM PARKWAY SOUTH  ...          0  01/01/2019\n",
              "\n",
              "[20 rows x 21 columns]"
            ]
          },
          "metadata": {
            "tags": []
          },
          "execution_count": 5
        }
      ]
    },
    {
      "cell_type": "code",
      "metadata": {
        "id": "zjP5hMkEBGzA",
        "colab_type": "code",
        "colab": {
          "base_uri": "https://localhost:8080/",
          "height": 34
        },
        "outputId": "b6cc460a-79df-40e8-91a3-5d84400b051e"
      },
      "source": [
        "df['BOROUGH'].dtype"
      ],
      "execution_count": 6,
      "outputs": [
        {
          "output_type": "execute_result",
          "data": {
            "text/plain": [
              "dtype('int64')"
            ]
          },
          "metadata": {
            "tags": []
          },
          "execution_count": 6
        }
      ]
    },
    {
      "cell_type": "code",
      "metadata": {
        "id": "uXBzE7kc1siq",
        "colab_type": "code",
        "colab": {}
      },
      "source": [
        "# BOROUGH is a numeric column, but arguably should be a categorical feature,\n",
        "# so convert it from a number to a string\n",
        "df['BOROUGH'] = df['BOROUGH'].astype(str)"
      ],
      "execution_count": 7,
      "outputs": []
    },
    {
      "cell_type": "code",
      "metadata": {
        "id": "F8qhBPL-BNGZ",
        "colab_type": "code",
        "colab": {
          "base_uri": "https://localhost:8080/",
          "height": 34
        },
        "outputId": "2ed92343-ddec-4c17-a0ac-b3534c621492"
      },
      "source": [
        "df['BOROUGH'].dtype"
      ],
      "execution_count": 8,
      "outputs": [
        {
          "output_type": "execute_result",
          "data": {
            "text/plain": [
              "dtype('O')"
            ]
          },
          "metadata": {
            "tags": []
          },
          "execution_count": 8
        }
      ]
    },
    {
      "cell_type": "code",
      "metadata": {
        "id": "_YaZ-QEZ1siu",
        "colab_type": "code",
        "colab": {}
      },
      "source": [
        "# Reduce cardinality for NEIGHBORHOOD feature\n",
        "\n",
        "# Get a list of the top 10 neighborhoods\n",
        "top10 = df['NEIGHBORHOOD'].value_counts()[:10].index\n",
        "\n",
        "# At locations where the neighborhood is NOT in the top 10, \n",
        "# replace the neighborhood with 'OTHER'\n",
        "df.loc[~df['NEIGHBORHOOD'].isin(top10), 'NEIGHBORHOOD'] = 'OTHER'"
      ],
      "execution_count": 9,
      "outputs": []
    },
    {
      "cell_type": "code",
      "metadata": {
        "id": "FeeVyVAaBiMK",
        "colab_type": "code",
        "colab": {
          "base_uri": "https://localhost:8080/",
          "height": 86
        },
        "outputId": "dd70c9ca-716f-4363-849a-6378c72b7aca"
      },
      "source": [
        "\n",
        "top10"
      ],
      "execution_count": 10,
      "outputs": [
        {
          "output_type": "execute_result",
          "data": {
            "text/plain": [
              "Index(['FLUSHING-NORTH', 'UPPER EAST SIDE (59-79)', 'UPPER EAST SIDE (79-96)',\n",
              "       'BEDFORD STUYVESANT', 'BOROUGH PARK', 'UPPER WEST SIDE (59-79)',\n",
              "       'GRAMERCY', 'ASTORIA', 'FOREST HILLS', 'EAST NEW YORK'],\n",
              "      dtype='object')"
            ]
          },
          "metadata": {
            "tags": []
          },
          "execution_count": 10
        }
      ]
    },
    {
      "cell_type": "code",
      "metadata": {
        "id": "Khub8r5Q1siy",
        "colab_type": "code",
        "colab": {
          "base_uri": "https://localhost:8080/",
          "height": 294
        },
        "outputId": "ce50ae6a-0218-4f3b-d8ec-0add5b450671"
      },
      "source": [
        "pd.options.display.float_format = '{:,.0f}'.format \n",
        "# Convert values from floats to int\n",
        "df.describe()\n",
        "# Observe the numerical features"
      ],
      "execution_count": 14,
      "outputs": [
        {
          "output_type": "execute_result",
          "data": {
            "text/html": [
              "<div>\n",
              "<style scoped>\n",
              "    .dataframe tbody tr th:only-of-type {\n",
              "        vertical-align: middle;\n",
              "    }\n",
              "\n",
              "    .dataframe tbody tr th {\n",
              "        vertical-align: top;\n",
              "    }\n",
              "\n",
              "    .dataframe thead th {\n",
              "        text-align: right;\n",
              "    }\n",
              "</style>\n",
              "<table border=\"1\" class=\"dataframe\">\n",
              "  <thead>\n",
              "    <tr style=\"text-align: right;\">\n",
              "      <th></th>\n",
              "      <th>BLOCK</th>\n",
              "      <th>LOT</th>\n",
              "      <th>EASE-MENT</th>\n",
              "      <th>ZIP_CODE</th>\n",
              "      <th>RESIDENTIAL_UNITS</th>\n",
              "      <th>COMMERCIAL_UNITS</th>\n",
              "      <th>TOTAL_UNITS</th>\n",
              "      <th>GROSS_SQUARE_FEET</th>\n",
              "      <th>YEAR_BUILT</th>\n",
              "      <th>TAX_CLASS_AT_TIME_OF_SALE</th>\n",
              "      <th>SALE_PRICE</th>\n",
              "    </tr>\n",
              "  </thead>\n",
              "  <tbody>\n",
              "    <tr>\n",
              "      <th>count</th>\n",
              "      <td>23,040</td>\n",
              "      <td>23,040</td>\n",
              "      <td>0</td>\n",
              "      <td>23,039</td>\n",
              "      <td>23,039</td>\n",
              "      <td>23,039</td>\n",
              "      <td>23,039</td>\n",
              "      <td>23,039</td>\n",
              "      <td>23,005</td>\n",
              "      <td>23,040</td>\n",
              "      <td>23,040</td>\n",
              "    </tr>\n",
              "    <tr>\n",
              "      <th>mean</th>\n",
              "      <td>4,459</td>\n",
              "      <td>354</td>\n",
              "      <td>nan</td>\n",
              "      <td>10,791</td>\n",
              "      <td>2</td>\n",
              "      <td>0</td>\n",
              "      <td>2</td>\n",
              "      <td>3,509</td>\n",
              "      <td>1,820</td>\n",
              "      <td>2</td>\n",
              "      <td>1,328,133</td>\n",
              "    </tr>\n",
              "    <tr>\n",
              "      <th>std</th>\n",
              "      <td>3,713</td>\n",
              "      <td>628</td>\n",
              "      <td>nan</td>\n",
              "      <td>1,103</td>\n",
              "      <td>10</td>\n",
              "      <td>6</td>\n",
              "      <td>12</td>\n",
              "      <td>22,186</td>\n",
              "      <td>488</td>\n",
              "      <td>1</td>\n",
              "      <td>10,253,944</td>\n",
              "    </tr>\n",
              "    <tr>\n",
              "      <th>min</th>\n",
              "      <td>1</td>\n",
              "      <td>1</td>\n",
              "      <td>nan</td>\n",
              "      <td>0</td>\n",
              "      <td>0</td>\n",
              "      <td>-148</td>\n",
              "      <td>0</td>\n",
              "      <td>0</td>\n",
              "      <td>0</td>\n",
              "      <td>1</td>\n",
              "      <td>0</td>\n",
              "    </tr>\n",
              "    <tr>\n",
              "      <th>25%</th>\n",
              "      <td>1,341</td>\n",
              "      <td>22</td>\n",
              "      <td>nan</td>\n",
              "      <td>10,306</td>\n",
              "      <td>0</td>\n",
              "      <td>0</td>\n",
              "      <td>1</td>\n",
              "      <td>494</td>\n",
              "      <td>1,920</td>\n",
              "      <td>1</td>\n",
              "      <td>0</td>\n",
              "    </tr>\n",
              "    <tr>\n",
              "      <th>50%</th>\n",
              "      <td>3,546</td>\n",
              "      <td>49</td>\n",
              "      <td>nan</td>\n",
              "      <td>11,211</td>\n",
              "      <td>1</td>\n",
              "      <td>0</td>\n",
              "      <td>1</td>\n",
              "      <td>1,356</td>\n",
              "      <td>1,940</td>\n",
              "      <td>1</td>\n",
              "      <td>455,000</td>\n",
              "    </tr>\n",
              "    <tr>\n",
              "      <th>75%</th>\n",
              "      <td>6,674</td>\n",
              "      <td>375</td>\n",
              "      <td>nan</td>\n",
              "      <td>11,360</td>\n",
              "      <td>2</td>\n",
              "      <td>0</td>\n",
              "      <td>2</td>\n",
              "      <td>2,280</td>\n",
              "      <td>1,965</td>\n",
              "      <td>2</td>\n",
              "      <td>875,000</td>\n",
              "    </tr>\n",
              "    <tr>\n",
              "      <th>max</th>\n",
              "      <td>16,350</td>\n",
              "      <td>9,057</td>\n",
              "      <td>nan</td>\n",
              "      <td>11,697</td>\n",
              "      <td>750</td>\n",
              "      <td>570</td>\n",
              "      <td>755</td>\n",
              "      <td>1,303,935</td>\n",
              "      <td>2,019</td>\n",
              "      <td>4</td>\n",
              "      <td>850,000,000</td>\n",
              "    </tr>\n",
              "  </tbody>\n",
              "</table>\n",
              "</div>"
            ],
            "text/plain": [
              "       BLOCK    LOT  ...  TAX_CLASS_AT_TIME_OF_SALE  SALE_PRICE\n",
              "count 23,040 23,040  ...                     23,040      23,040\n",
              "mean   4,459    354  ...                          2   1,328,133\n",
              "std    3,713    628  ...                          1  10,253,944\n",
              "min        1      1  ...                          1           0\n",
              "25%    1,341     22  ...                          1           0\n",
              "50%    3,546     49  ...                          1     455,000\n",
              "75%    6,674    375  ...                          2     875,000\n",
              "max   16,350  9,057  ...                          4 850,000,000\n",
              "\n",
              "[8 rows x 11 columns]"
            ]
          },
          "metadata": {
            "tags": []
          },
          "execution_count": 14
        }
      ]
    },
    {
      "cell_type": "code",
      "metadata": {
        "id": "ex5uOO9jc3Da",
        "colab_type": "code",
        "colab": {
          "base_uri": "https://localhost:8080/",
          "height": 34
        },
        "outputId": "4f440488-5659-42b0-8fcd-b6918a24ac17"
      },
      "source": [
        "\"\"\" There are sales prices\"\"\""
      ],
      "execution_count": 15,
      "outputs": [
        {
          "output_type": "execute_result",
          "data": {
            "application/vnd.google.colaboratory.intrinsic": {
              "type": "string"
            },
            "text/plain": [
              "' There are sales prices'"
            ]
          },
          "metadata": {
            "tags": []
          },
          "execution_count": 15
        }
      ]
    },
    {
      "cell_type": "code",
      "metadata": {
        "id": "Md8KOqeBCJvI",
        "colab_type": "code",
        "colab": {
          "base_uri": "https://localhost:8080/",
          "height": 502
        },
        "outputId": "e7eeb014-5c22-42d4-af8a-d1b595a3c5f2"
      },
      "source": [
        "df.info()"
      ],
      "execution_count": 16,
      "outputs": [
        {
          "output_type": "stream",
          "text": [
            "<class 'pandas.core.frame.DataFrame'>\n",
            "RangeIndex: 23040 entries, 0 to 23039\n",
            "Data columns (total 21 columns):\n",
            " #   Column                          Non-Null Count  Dtype  \n",
            "---  ------                          --------------  -----  \n",
            " 0   BOROUGH                         23040 non-null  object \n",
            " 1   NEIGHBORHOOD                    23040 non-null  object \n",
            " 2   BUILDING_CLASS_CATEGORY         23040 non-null  object \n",
            " 3   TAX_CLASS_AT_PRESENT            23039 non-null  object \n",
            " 4   BLOCK                           23040 non-null  int64  \n",
            " 5   LOT                             23040 non-null  int64  \n",
            " 6   EASE-MENT                       0 non-null      float64\n",
            " 7   BUILDING_CLASS_AT_PRESENT       23039 non-null  object \n",
            " 8   ADDRESS                         23040 non-null  object \n",
            " 9   APARTMENT_NUMBER                5201 non-null   object \n",
            " 10  ZIP_CODE                        23039 non-null  float64\n",
            " 11  RESIDENTIAL_UNITS               23039 non-null  float64\n",
            " 12  COMMERCIAL_UNITS                23039 non-null  float64\n",
            " 13  TOTAL_UNITS                     23039 non-null  float64\n",
            " 14  LAND_SQUARE_FEET                22987 non-null  object \n",
            " 15  GROSS_SQUARE_FEET               23039 non-null  float64\n",
            " 16  YEAR_BUILT                      23005 non-null  float64\n",
            " 17  TAX_CLASS_AT_TIME_OF_SALE       23040 non-null  int64  \n",
            " 18  BUILDING_CLASS_AT_TIME_OF_SALE  23040 non-null  object \n",
            " 19  SALE_PRICE                      23040 non-null  int64  \n",
            " 20  SALE_DATE                       23040 non-null  object \n",
            "dtypes: float64(7), int64(4), object(10)\n",
            "memory usage: 3.7+ MB\n"
          ],
          "name": "stdout"
        }
      ]
    },
    {
      "cell_type": "markdown",
      "metadata": {
        "id": "usu3oYTHGB30",
        "colab_type": "text"
      },
      "source": [
        "- [ ] Subset of the data where **BUILDING_CLASS_CATEGORY == '01 ONE FAMILY DWELLINGS'** and the sale price was **more than 100 thousand and less than 2 million.**"
      ]
    },
    {
      "cell_type": "code",
      "metadata": {
        "id": "mnKRdFVTCJzS",
        "colab_type": "code",
        "colab": {}
      },
      "source": [
        "one_family = df.loc[df['BUILDING_CLASS_CATEGORY'] == '01 ONE FAMILY DWELLINGS']"
      ],
      "execution_count": 17,
      "outputs": []
    },
    {
      "cell_type": "code",
      "metadata": {
        "id": "w1wcqt7eCJ2J",
        "colab_type": "code",
        "colab": {}
      },
      "source": [
        "usable = one_family[(one_family.SALE_PRICE > 100000) & (one_family.SALE_PRICE < 2000000)]"
      ],
      "execution_count": 18,
      "outputs": []
    },
    {
      "cell_type": "code",
      "metadata": {
        "id": "uFg5AOo5CJ8j",
        "colab_type": "code",
        "colab": {
          "base_uri": "https://localhost:8080/",
          "height": 713
        },
        "outputId": "44c87689-433a-4b40-8bcd-fc908ac7ddd3"
      },
      "source": [
        "usable.sort_values(by=['SALE_PRICE'])"
      ],
      "execution_count": 19,
      "outputs": [
        {
          "output_type": "execute_result",
          "data": {
            "text/html": [
              "<div>\n",
              "<style scoped>\n",
              "    .dataframe tbody tr th:only-of-type {\n",
              "        vertical-align: middle;\n",
              "    }\n",
              "\n",
              "    .dataframe tbody tr th {\n",
              "        vertical-align: top;\n",
              "    }\n",
              "\n",
              "    .dataframe thead th {\n",
              "        text-align: right;\n",
              "    }\n",
              "</style>\n",
              "<table border=\"1\" class=\"dataframe\">\n",
              "  <thead>\n",
              "    <tr style=\"text-align: right;\">\n",
              "      <th></th>\n",
              "      <th>BOROUGH</th>\n",
              "      <th>NEIGHBORHOOD</th>\n",
              "      <th>BUILDING_CLASS_CATEGORY</th>\n",
              "      <th>TAX_CLASS_AT_PRESENT</th>\n",
              "      <th>BLOCK</th>\n",
              "      <th>LOT</th>\n",
              "      <th>EASE-MENT</th>\n",
              "      <th>BUILDING_CLASS_AT_PRESENT</th>\n",
              "      <th>ADDRESS</th>\n",
              "      <th>APARTMENT_NUMBER</th>\n",
              "      <th>ZIP_CODE</th>\n",
              "      <th>RESIDENTIAL_UNITS</th>\n",
              "      <th>COMMERCIAL_UNITS</th>\n",
              "      <th>TOTAL_UNITS</th>\n",
              "      <th>LAND_SQUARE_FEET</th>\n",
              "      <th>GROSS_SQUARE_FEET</th>\n",
              "      <th>YEAR_BUILT</th>\n",
              "      <th>TAX_CLASS_AT_TIME_OF_SALE</th>\n",
              "      <th>BUILDING_CLASS_AT_TIME_OF_SALE</th>\n",
              "      <th>SALE_PRICE</th>\n",
              "      <th>SALE_DATE</th>\n",
              "    </tr>\n",
              "  </thead>\n",
              "  <tbody>\n",
              "    <tr>\n",
              "      <th>18147</th>\n",
              "      <td>4</td>\n",
              "      <td>OTHER</td>\n",
              "      <td>01 ONE FAMILY DWELLINGS</td>\n",
              "      <td>1</td>\n",
              "      <td>11159</td>\n",
              "      <td>11</td>\n",
              "      <td>nan</td>\n",
              "      <td>A0</td>\n",
              "      <td>223-29 103RD AVENUE</td>\n",
              "      <td>NaN</td>\n",
              "      <td>11,429</td>\n",
              "      <td>1</td>\n",
              "      <td>0</td>\n",
              "      <td>1</td>\n",
              "      <td>3,910</td>\n",
              "      <td>1,163</td>\n",
              "      <td>1,950</td>\n",
              "      <td>1</td>\n",
              "      <td>A0</td>\n",
              "      <td>104000</td>\n",
              "      <td>03/30/2019</td>\n",
              "    </tr>\n",
              "    <tr>\n",
              "      <th>3489</th>\n",
              "      <td>4</td>\n",
              "      <td>OTHER</td>\n",
              "      <td>01 ONE FAMILY DWELLINGS</td>\n",
              "      <td>1</td>\n",
              "      <td>16118</td>\n",
              "      <td>56</td>\n",
              "      <td>nan</td>\n",
              "      <td>A5</td>\n",
              "      <td>313 BEACH 86 STREET</td>\n",
              "      <td>NaN</td>\n",
              "      <td>11,693</td>\n",
              "      <td>1</td>\n",
              "      <td>0</td>\n",
              "      <td>1</td>\n",
              "      <td>1,802</td>\n",
              "      <td>1,205</td>\n",
              "      <td>1,920</td>\n",
              "      <td>1</td>\n",
              "      <td>A5</td>\n",
              "      <td>105000</td>\n",
              "      <td>01/18/2019</td>\n",
              "    </tr>\n",
              "    <tr>\n",
              "      <th>19961</th>\n",
              "      <td>5</td>\n",
              "      <td>OTHER</td>\n",
              "      <td>01 ONE FAMILY DWELLINGS</td>\n",
              "      <td>1</td>\n",
              "      <td>1087</td>\n",
              "      <td>14</td>\n",
              "      <td>nan</td>\n",
              "      <td>A1</td>\n",
              "      <td>147 HARRISON AVENUE</td>\n",
              "      <td>NaN</td>\n",
              "      <td>10,302</td>\n",
              "      <td>1</td>\n",
              "      <td>0</td>\n",
              "      <td>1</td>\n",
              "      <td>2,525</td>\n",
              "      <td>1,336</td>\n",
              "      <td>1,899</td>\n",
              "      <td>1</td>\n",
              "      <td>A1</td>\n",
              "      <td>107500</td>\n",
              "      <td>04/09/2019</td>\n",
              "    </tr>\n",
              "    <tr>\n",
              "      <th>791</th>\n",
              "      <td>2</td>\n",
              "      <td>OTHER</td>\n",
              "      <td>01 ONE FAMILY DWELLINGS</td>\n",
              "      <td>1</td>\n",
              "      <td>3992</td>\n",
              "      <td>55</td>\n",
              "      <td>nan</td>\n",
              "      <td>A2</td>\n",
              "      <td>2425 ST. RAYMONDS AVENUE</td>\n",
              "      <td>NaN</td>\n",
              "      <td>10,461</td>\n",
              "      <td>1</td>\n",
              "      <td>0</td>\n",
              "      <td>1</td>\n",
              "      <td>3,590</td>\n",
              "      <td>1,400</td>\n",
              "      <td>1,925</td>\n",
              "      <td>1</td>\n",
              "      <td>A2</td>\n",
              "      <td>108000</td>\n",
              "      <td>01/07/2019</td>\n",
              "    </tr>\n",
              "    <tr>\n",
              "      <th>15768</th>\n",
              "      <td>2</td>\n",
              "      <td>OTHER</td>\n",
              "      <td>01 ONE FAMILY DWELLINGS</td>\n",
              "      <td>1D</td>\n",
              "      <td>5514</td>\n",
              "      <td>62</td>\n",
              "      <td>nan</td>\n",
              "      <td>A8</td>\n",
              "      <td>81D EDGEWATER PARK, 81D</td>\n",
              "      <td>NaN</td>\n",
              "      <td>10,465</td>\n",
              "      <td>0</td>\n",
              "      <td>0</td>\n",
              "      <td>0</td>\n",
              "      <td>0</td>\n",
              "      <td>0</td>\n",
              "      <td>1,930</td>\n",
              "      <td>1</td>\n",
              "      <td>A8</td>\n",
              "      <td>110000</td>\n",
              "      <td>03/20/2019</td>\n",
              "    </tr>\n",
              "    <tr>\n",
              "      <th>...</th>\n",
              "      <td>...</td>\n",
              "      <td>...</td>\n",
              "      <td>...</td>\n",
              "      <td>...</td>\n",
              "      <td>...</td>\n",
              "      <td>...</td>\n",
              "      <td>...</td>\n",
              "      <td>...</td>\n",
              "      <td>...</td>\n",
              "      <td>...</td>\n",
              "      <td>...</td>\n",
              "      <td>...</td>\n",
              "      <td>...</td>\n",
              "      <td>...</td>\n",
              "      <td>...</td>\n",
              "      <td>...</td>\n",
              "      <td>...</td>\n",
              "      <td>...</td>\n",
              "      <td>...</td>\n",
              "      <td>...</td>\n",
              "      <td>...</td>\n",
              "    </tr>\n",
              "    <tr>\n",
              "      <th>19698</th>\n",
              "      <td>4</td>\n",
              "      <td>OTHER</td>\n",
              "      <td>01 ONE FAMILY DWELLINGS</td>\n",
              "      <td>1</td>\n",
              "      <td>4509</td>\n",
              "      <td>54</td>\n",
              "      <td>nan</td>\n",
              "      <td>A1</td>\n",
              "      <td>150-57 6TH AVENUE</td>\n",
              "      <td>NaN</td>\n",
              "      <td>11,357</td>\n",
              "      <td>1</td>\n",
              "      <td>0</td>\n",
              "      <td>1</td>\n",
              "      <td>5,000</td>\n",
              "      <td>2,432</td>\n",
              "      <td>2,016</td>\n",
              "      <td>1</td>\n",
              "      <td>A1</td>\n",
              "      <td>1909219</td>\n",
              "      <td>04/08/2019</td>\n",
              "    </tr>\n",
              "    <tr>\n",
              "      <th>22112</th>\n",
              "      <td>3</td>\n",
              "      <td>OTHER</td>\n",
              "      <td>01 ONE FAMILY DWELLINGS</td>\n",
              "      <td>1</td>\n",
              "      <td>5141</td>\n",
              "      <td>88</td>\n",
              "      <td>nan</td>\n",
              "      <td>A1</td>\n",
              "      <td>296 STRATFORD ROAD</td>\n",
              "      <td>NaN</td>\n",
              "      <td>11,218</td>\n",
              "      <td>1</td>\n",
              "      <td>0</td>\n",
              "      <td>1</td>\n",
              "      <td>6,750</td>\n",
              "      <td>2,275</td>\n",
              "      <td>1,920</td>\n",
              "      <td>1</td>\n",
              "      <td>A1</td>\n",
              "      <td>1912500</td>\n",
              "      <td>04/23/2019</td>\n",
              "    </tr>\n",
              "    <tr>\n",
              "      <th>7115</th>\n",
              "      <td>3</td>\n",
              "      <td>OTHER</td>\n",
              "      <td>01 ONE FAMILY DWELLINGS</td>\n",
              "      <td>1</td>\n",
              "      <td>5050</td>\n",
              "      <td>2</td>\n",
              "      <td>nan</td>\n",
              "      <td>S0</td>\n",
              "      <td>625 ROGERS AVENUE</td>\n",
              "      <td>NaN</td>\n",
              "      <td>11,225</td>\n",
              "      <td>1</td>\n",
              "      <td>2</td>\n",
              "      <td>3</td>\n",
              "      <td>3,700</td>\n",
              "      <td>2,128</td>\n",
              "      <td>1,905</td>\n",
              "      <td>1</td>\n",
              "      <td>S0</td>\n",
              "      <td>1925000</td>\n",
              "      <td>02/05/2019</td>\n",
              "    </tr>\n",
              "    <tr>\n",
              "      <th>7554</th>\n",
              "      <td>3</td>\n",
              "      <td>OTHER</td>\n",
              "      <td>01 ONE FAMILY DWELLINGS</td>\n",
              "      <td>1</td>\n",
              "      <td>6101</td>\n",
              "      <td>11</td>\n",
              "      <td>nan</td>\n",
              "      <td>A1</td>\n",
              "      <td>1 MARINE AVENUE</td>\n",
              "      <td>NaN</td>\n",
              "      <td>11,209</td>\n",
              "      <td>1</td>\n",
              "      <td>0</td>\n",
              "      <td>1</td>\n",
              "      <td>4,290</td>\n",
              "      <td>1,960</td>\n",
              "      <td>1,925</td>\n",
              "      <td>1</td>\n",
              "      <td>A1</td>\n",
              "      <td>1950000</td>\n",
              "      <td>02/07/2019</td>\n",
              "    </tr>\n",
              "    <tr>\n",
              "      <th>6877</th>\n",
              "      <td>3</td>\n",
              "      <td>OTHER</td>\n",
              "      <td>01 ONE FAMILY DWELLINGS</td>\n",
              "      <td>1</td>\n",
              "      <td>5143</td>\n",
              "      <td>66</td>\n",
              "      <td>nan</td>\n",
              "      <td>A1</td>\n",
              "      <td>322 ARGYLE ROAD</td>\n",
              "      <td>NaN</td>\n",
              "      <td>11,218</td>\n",
              "      <td>1</td>\n",
              "      <td>0</td>\n",
              "      <td>1</td>\n",
              "      <td>5,000</td>\n",
              "      <td>1,877</td>\n",
              "      <td>1,899</td>\n",
              "      <td>1</td>\n",
              "      <td>A1</td>\n",
              "      <td>1955000</td>\n",
              "      <td>02/04/2019</td>\n",
              "    </tr>\n",
              "  </tbody>\n",
              "</table>\n",
              "<p>3151 rows × 21 columns</p>\n",
              "</div>"
            ],
            "text/plain": [
              "      BOROUGH NEIGHBORHOOD  ... SALE_PRICE   SALE_DATE\n",
              "18147       4        OTHER  ...     104000  03/30/2019\n",
              "3489        4        OTHER  ...     105000  01/18/2019\n",
              "19961       5        OTHER  ...     107500  04/09/2019\n",
              "791         2        OTHER  ...     108000  01/07/2019\n",
              "15768       2        OTHER  ...     110000  03/20/2019\n",
              "...       ...          ...  ...        ...         ...\n",
              "19698       4        OTHER  ...    1909219  04/08/2019\n",
              "22112       3        OTHER  ...    1912500  04/23/2019\n",
              "7115        3        OTHER  ...    1925000  02/05/2019\n",
              "7554        3        OTHER  ...    1950000  02/07/2019\n",
              "6877        3        OTHER  ...    1955000  02/04/2019\n",
              "\n",
              "[3151 rows x 21 columns]"
            ]
          },
          "metadata": {
            "tags": []
          },
          "execution_count": 19
        }
      ]
    },
    {
      "cell_type": "markdown",
      "metadata": {
        "id": "EUKQvufNCKPO",
        "colab_type": "text"
      },
      "source": [
        "- [ ] Do **train/test split**. \n",
        "\n",
        ">>Train: January — March 2019.\n",
        "\n",
        ">>Test: April 2019."
      ]
    },
    {
      "cell_type": "code",
      "metadata": {
        "id": "Bow8nn-jCKGR",
        "colab_type": "code",
        "colab": {
          "base_uri": "https://localhost:8080/",
          "height": 661
        },
        "outputId": "7ea86def-e2cf-4c96-f3c8-75973436470e"
      },
      "source": [
        "import pandas as pd\n",
        "\n",
        "# usable = parameters: BUILDING_CLASS_CATEGORY == '01 ONE FAMILY DWELLINGS' \n",
        "# & sale price was more than 100 thousand and less than 2 million.\n",
        "usable"
      ],
      "execution_count": 20,
      "outputs": [
        {
          "output_type": "execute_result",
          "data": {
            "text/html": [
              "<div>\n",
              "<style scoped>\n",
              "    .dataframe tbody tr th:only-of-type {\n",
              "        vertical-align: middle;\n",
              "    }\n",
              "\n",
              "    .dataframe tbody tr th {\n",
              "        vertical-align: top;\n",
              "    }\n",
              "\n",
              "    .dataframe thead th {\n",
              "        text-align: right;\n",
              "    }\n",
              "</style>\n",
              "<table border=\"1\" class=\"dataframe\">\n",
              "  <thead>\n",
              "    <tr style=\"text-align: right;\">\n",
              "      <th></th>\n",
              "      <th>BOROUGH</th>\n",
              "      <th>NEIGHBORHOOD</th>\n",
              "      <th>BUILDING_CLASS_CATEGORY</th>\n",
              "      <th>TAX_CLASS_AT_PRESENT</th>\n",
              "      <th>BLOCK</th>\n",
              "      <th>LOT</th>\n",
              "      <th>EASE-MENT</th>\n",
              "      <th>BUILDING_CLASS_AT_PRESENT</th>\n",
              "      <th>ADDRESS</th>\n",
              "      <th>APARTMENT_NUMBER</th>\n",
              "      <th>ZIP_CODE</th>\n",
              "      <th>RESIDENTIAL_UNITS</th>\n",
              "      <th>COMMERCIAL_UNITS</th>\n",
              "      <th>TOTAL_UNITS</th>\n",
              "      <th>LAND_SQUARE_FEET</th>\n",
              "      <th>GROSS_SQUARE_FEET</th>\n",
              "      <th>YEAR_BUILT</th>\n",
              "      <th>TAX_CLASS_AT_TIME_OF_SALE</th>\n",
              "      <th>BUILDING_CLASS_AT_TIME_OF_SALE</th>\n",
              "      <th>SALE_PRICE</th>\n",
              "      <th>SALE_DATE</th>\n",
              "    </tr>\n",
              "  </thead>\n",
              "  <tbody>\n",
              "    <tr>\n",
              "      <th>44</th>\n",
              "      <td>3</td>\n",
              "      <td>OTHER</td>\n",
              "      <td>01 ONE FAMILY DWELLINGS</td>\n",
              "      <td>1</td>\n",
              "      <td>5495</td>\n",
              "      <td>801</td>\n",
              "      <td>nan</td>\n",
              "      <td>A9</td>\n",
              "      <td>4832 BAY PARKWAY</td>\n",
              "      <td>NaN</td>\n",
              "      <td>11,230</td>\n",
              "      <td>1</td>\n",
              "      <td>0</td>\n",
              "      <td>1</td>\n",
              "      <td>6,800</td>\n",
              "      <td>1,325</td>\n",
              "      <td>1,930</td>\n",
              "      <td>1</td>\n",
              "      <td>A9</td>\n",
              "      <td>550000</td>\n",
              "      <td>01/01/2019</td>\n",
              "    </tr>\n",
              "    <tr>\n",
              "      <th>61</th>\n",
              "      <td>4</td>\n",
              "      <td>OTHER</td>\n",
              "      <td>01 ONE FAMILY DWELLINGS</td>\n",
              "      <td>1</td>\n",
              "      <td>7918</td>\n",
              "      <td>72</td>\n",
              "      <td>nan</td>\n",
              "      <td>A1</td>\n",
              "      <td>80-23 232ND STREET</td>\n",
              "      <td>NaN</td>\n",
              "      <td>11,427</td>\n",
              "      <td>1</td>\n",
              "      <td>0</td>\n",
              "      <td>1</td>\n",
              "      <td>4,000</td>\n",
              "      <td>2,001</td>\n",
              "      <td>1,940</td>\n",
              "      <td>1</td>\n",
              "      <td>A1</td>\n",
              "      <td>200000</td>\n",
              "      <td>01/01/2019</td>\n",
              "    </tr>\n",
              "    <tr>\n",
              "      <th>78</th>\n",
              "      <td>2</td>\n",
              "      <td>OTHER</td>\n",
              "      <td>01 ONE FAMILY DWELLINGS</td>\n",
              "      <td>1</td>\n",
              "      <td>4210</td>\n",
              "      <td>19</td>\n",
              "      <td>nan</td>\n",
              "      <td>A1</td>\n",
              "      <td>1260 RHINELANDER AVE</td>\n",
              "      <td>NaN</td>\n",
              "      <td>10,461</td>\n",
              "      <td>1</td>\n",
              "      <td>0</td>\n",
              "      <td>1</td>\n",
              "      <td>3,500</td>\n",
              "      <td>2,043</td>\n",
              "      <td>1,925</td>\n",
              "      <td>1</td>\n",
              "      <td>A1</td>\n",
              "      <td>810000</td>\n",
              "      <td>01/02/2019</td>\n",
              "    </tr>\n",
              "    <tr>\n",
              "      <th>108</th>\n",
              "      <td>3</td>\n",
              "      <td>OTHER</td>\n",
              "      <td>01 ONE FAMILY DWELLINGS</td>\n",
              "      <td>1</td>\n",
              "      <td>5212</td>\n",
              "      <td>69</td>\n",
              "      <td>nan</td>\n",
              "      <td>A1</td>\n",
              "      <td>469 E 25TH ST</td>\n",
              "      <td>NaN</td>\n",
              "      <td>11,226</td>\n",
              "      <td>1</td>\n",
              "      <td>0</td>\n",
              "      <td>1</td>\n",
              "      <td>4,000</td>\n",
              "      <td>2,680</td>\n",
              "      <td>1,899</td>\n",
              "      <td>1</td>\n",
              "      <td>A1</td>\n",
              "      <td>125000</td>\n",
              "      <td>01/02/2019</td>\n",
              "    </tr>\n",
              "    <tr>\n",
              "      <th>111</th>\n",
              "      <td>3</td>\n",
              "      <td>OTHER</td>\n",
              "      <td>01 ONE FAMILY DWELLINGS</td>\n",
              "      <td>1</td>\n",
              "      <td>7930</td>\n",
              "      <td>121</td>\n",
              "      <td>nan</td>\n",
              "      <td>A5</td>\n",
              "      <td>5521 WHITTY LANE</td>\n",
              "      <td>NaN</td>\n",
              "      <td>11,203</td>\n",
              "      <td>1</td>\n",
              "      <td>0</td>\n",
              "      <td>1</td>\n",
              "      <td>1,710</td>\n",
              "      <td>1,872</td>\n",
              "      <td>1,940</td>\n",
              "      <td>1</td>\n",
              "      <td>A5</td>\n",
              "      <td>620000</td>\n",
              "      <td>01/02/2019</td>\n",
              "    </tr>\n",
              "    <tr>\n",
              "      <th>...</th>\n",
              "      <td>...</td>\n",
              "      <td>...</td>\n",
              "      <td>...</td>\n",
              "      <td>...</td>\n",
              "      <td>...</td>\n",
              "      <td>...</td>\n",
              "      <td>...</td>\n",
              "      <td>...</td>\n",
              "      <td>...</td>\n",
              "      <td>...</td>\n",
              "      <td>...</td>\n",
              "      <td>...</td>\n",
              "      <td>...</td>\n",
              "      <td>...</td>\n",
              "      <td>...</td>\n",
              "      <td>...</td>\n",
              "      <td>...</td>\n",
              "      <td>...</td>\n",
              "      <td>...</td>\n",
              "      <td>...</td>\n",
              "      <td>...</td>\n",
              "    </tr>\n",
              "    <tr>\n",
              "      <th>23029</th>\n",
              "      <td>4</td>\n",
              "      <td>OTHER</td>\n",
              "      <td>01 ONE FAMILY DWELLINGS</td>\n",
              "      <td>1</td>\n",
              "      <td>13215</td>\n",
              "      <td>3</td>\n",
              "      <td>nan</td>\n",
              "      <td>A2</td>\n",
              "      <td>244-15 135 AVENUE</td>\n",
              "      <td>NaN</td>\n",
              "      <td>11,422</td>\n",
              "      <td>1</td>\n",
              "      <td>0</td>\n",
              "      <td>1</td>\n",
              "      <td>3,300</td>\n",
              "      <td>1,478</td>\n",
              "      <td>1,925</td>\n",
              "      <td>1</td>\n",
              "      <td>A2</td>\n",
              "      <td>635000</td>\n",
              "      <td>04/30/2019</td>\n",
              "    </tr>\n",
              "    <tr>\n",
              "      <th>23031</th>\n",
              "      <td>4</td>\n",
              "      <td>OTHER</td>\n",
              "      <td>01 ONE FAMILY DWELLINGS</td>\n",
              "      <td>1</td>\n",
              "      <td>11612</td>\n",
              "      <td>73</td>\n",
              "      <td>nan</td>\n",
              "      <td>A1</td>\n",
              "      <td>10919 132ND STREET</td>\n",
              "      <td>NaN</td>\n",
              "      <td>11,420</td>\n",
              "      <td>1</td>\n",
              "      <td>0</td>\n",
              "      <td>1</td>\n",
              "      <td>2,400</td>\n",
              "      <td>1,280</td>\n",
              "      <td>1,930</td>\n",
              "      <td>1</td>\n",
              "      <td>A1</td>\n",
              "      <td>514000</td>\n",
              "      <td>04/30/2019</td>\n",
              "    </tr>\n",
              "    <tr>\n",
              "      <th>23032</th>\n",
              "      <td>4</td>\n",
              "      <td>OTHER</td>\n",
              "      <td>01 ONE FAMILY DWELLINGS</td>\n",
              "      <td>1</td>\n",
              "      <td>11808</td>\n",
              "      <td>50</td>\n",
              "      <td>nan</td>\n",
              "      <td>A0</td>\n",
              "      <td>135-24 122ND STREET</td>\n",
              "      <td>NaN</td>\n",
              "      <td>11,420</td>\n",
              "      <td>1</td>\n",
              "      <td>0</td>\n",
              "      <td>1</td>\n",
              "      <td>4,000</td>\n",
              "      <td>1,333</td>\n",
              "      <td>1,945</td>\n",
              "      <td>1</td>\n",
              "      <td>A0</td>\n",
              "      <td>635000</td>\n",
              "      <td>04/30/2019</td>\n",
              "    </tr>\n",
              "    <tr>\n",
              "      <th>23033</th>\n",
              "      <td>4</td>\n",
              "      <td>OTHER</td>\n",
              "      <td>01 ONE FAMILY DWELLINGS</td>\n",
              "      <td>1</td>\n",
              "      <td>12295</td>\n",
              "      <td>23</td>\n",
              "      <td>nan</td>\n",
              "      <td>A1</td>\n",
              "      <td>134-34 157TH STREET</td>\n",
              "      <td>NaN</td>\n",
              "      <td>11,434</td>\n",
              "      <td>1</td>\n",
              "      <td>0</td>\n",
              "      <td>1</td>\n",
              "      <td>2,500</td>\n",
              "      <td>1,020</td>\n",
              "      <td>1,935</td>\n",
              "      <td>1</td>\n",
              "      <td>A1</td>\n",
              "      <td>545000</td>\n",
              "      <td>04/30/2019</td>\n",
              "    </tr>\n",
              "    <tr>\n",
              "      <th>23035</th>\n",
              "      <td>4</td>\n",
              "      <td>OTHER</td>\n",
              "      <td>01 ONE FAMILY DWELLINGS</td>\n",
              "      <td>1</td>\n",
              "      <td>10965</td>\n",
              "      <td>276</td>\n",
              "      <td>nan</td>\n",
              "      <td>A5</td>\n",
              "      <td>111-17 FRANCIS LEWIS BLVD</td>\n",
              "      <td>NaN</td>\n",
              "      <td>11,429</td>\n",
              "      <td>1</td>\n",
              "      <td>0</td>\n",
              "      <td>1</td>\n",
              "      <td>1,800</td>\n",
              "      <td>1,224</td>\n",
              "      <td>1,945</td>\n",
              "      <td>1</td>\n",
              "      <td>A5</td>\n",
              "      <td>510000</td>\n",
              "      <td>04/30/2019</td>\n",
              "    </tr>\n",
              "  </tbody>\n",
              "</table>\n",
              "<p>3151 rows × 21 columns</p>\n",
              "</div>"
            ],
            "text/plain": [
              "      BOROUGH NEIGHBORHOOD  ... SALE_PRICE   SALE_DATE\n",
              "44          3        OTHER  ...     550000  01/01/2019\n",
              "61          4        OTHER  ...     200000  01/01/2019\n",
              "78          2        OTHER  ...     810000  01/02/2019\n",
              "108         3        OTHER  ...     125000  01/02/2019\n",
              "111         3        OTHER  ...     620000  01/02/2019\n",
              "...       ...          ...  ...        ...         ...\n",
              "23029       4        OTHER  ...     635000  04/30/2019\n",
              "23031       4        OTHER  ...     514000  04/30/2019\n",
              "23032       4        OTHER  ...     635000  04/30/2019\n",
              "23033       4        OTHER  ...     545000  04/30/2019\n",
              "23035       4        OTHER  ...     510000  04/30/2019\n",
              "\n",
              "[3151 rows x 21 columns]"
            ]
          },
          "metadata": {
            "tags": []
          },
          "execution_count": 20
        }
      ]
    },
    {
      "cell_type": "code",
      "metadata": {
        "id": "ONSYt260CKMy",
        "colab_type": "code",
        "colab": {
          "base_uri": "https://localhost:8080/",
          "height": 34
        },
        "outputId": "369386c1-d8db-483a-ad7d-44979ec4edeb"
      },
      "source": [
        "# y will be what we want to predict.\n",
        "y = usable['SALE_PRICE']\n",
        "y.shape"
      ],
      "execution_count": 22,
      "outputs": [
        {
          "output_type": "execute_result",
          "data": {
            "text/plain": [
              "(3151,)"
            ]
          },
          "metadata": {
            "tags": []
          },
          "execution_count": 22
        }
      ]
    },
    {
      "cell_type": "code",
      "metadata": {
        "id": "5s1JzJtECKAX",
        "colab_type": "code",
        "colab": {
          "base_uri": "https://localhost:8080/",
          "height": 34
        },
        "outputId": "64e95223-f446-43e7-c1b6-b4a1cd4b8ebf"
      },
      "source": [
        "# X features used for the prediction.\n",
        "# .drop() to remove predictor 'SALE_PRICE'\n",
        "X = usable.drop('SALE_PRICE', axis=1)\n",
        "X.shape"
      ],
      "execution_count": 23,
      "outputs": [
        {
          "output_type": "execute_result",
          "data": {
            "text/plain": [
              "(3151, 20)"
            ]
          },
          "metadata": {
            "tags": []
          },
          "execution_count": 23
        }
      ]
    },
    {
      "cell_type": "code",
      "metadata": {
        "id": "MMczGhqgCKJl",
        "colab_type": "code",
        "colab": {
          "base_uri": "https://localhost:8080/",
          "height": 485
        },
        "outputId": "0ba53f04-360f-45e3-dfb3-443c83f83e64"
      },
      "source": [
        "X.info()\n",
        "# Take a look at 'SALE_DATE'. \n",
        "# Convert format from object to datetime. "
      ],
      "execution_count": 25,
      "outputs": [
        {
          "output_type": "stream",
          "text": [
            "<class 'pandas.core.frame.DataFrame'>\n",
            "Int64Index: 3151 entries, 44 to 23035\n",
            "Data columns (total 20 columns):\n",
            " #   Column                          Non-Null Count  Dtype  \n",
            "---  ------                          --------------  -----  \n",
            " 0   BOROUGH                         3151 non-null   object \n",
            " 1   NEIGHBORHOOD                    3151 non-null   object \n",
            " 2   BUILDING_CLASS_CATEGORY         3151 non-null   object \n",
            " 3   TAX_CLASS_AT_PRESENT            3151 non-null   object \n",
            " 4   BLOCK                           3151 non-null   int64  \n",
            " 5   LOT                             3151 non-null   int64  \n",
            " 6   EASE-MENT                       0 non-null      float64\n",
            " 7   BUILDING_CLASS_AT_PRESENT       3151 non-null   object \n",
            " 8   ADDRESS                         3151 non-null   object \n",
            " 9   APARTMENT_NUMBER                1 non-null      object \n",
            " 10  ZIP_CODE                        3151 non-null   float64\n",
            " 11  RESIDENTIAL_UNITS               3151 non-null   float64\n",
            " 12  COMMERCIAL_UNITS                3151 non-null   float64\n",
            " 13  TOTAL_UNITS                     3151 non-null   float64\n",
            " 14  LAND_SQUARE_FEET                3151 non-null   object \n",
            " 15  GROSS_SQUARE_FEET               3151 non-null   float64\n",
            " 16  YEAR_BUILT                      3151 non-null   float64\n",
            " 17  TAX_CLASS_AT_TIME_OF_SALE       3151 non-null   int64  \n",
            " 18  BUILDING_CLASS_AT_TIME_OF_SALE  3151 non-null   object \n",
            " 19  SALE_DATE                       3151 non-null   object \n",
            "dtypes: float64(7), int64(3), object(10)\n",
            "memory usage: 517.0+ KB\n"
          ],
          "name": "stdout"
        }
      ]
    },
    {
      "cell_type": "code",
      "metadata": {
        "id": "TO8TiAwNciXH",
        "colab_type": "code",
        "colab": {
          "base_uri": "https://localhost:8080/",
          "height": 34
        },
        "outputId": "93a465c4-bca7-4816-dd1a-f65f737ae854"
      },
      "source": [
        "X['SALE_DATE'].dtype\n",
        "# What is the type of column 'SALE_DATE'?"
      ],
      "execution_count": 26,
      "outputs": [
        {
          "output_type": "execute_result",
          "data": {
            "text/plain": [
              "dtype('O')"
            ]
          },
          "metadata": {
            "tags": []
          },
          "execution_count": 26
        }
      ]
    },
    {
      "cell_type": "code",
      "metadata": {
        "id": "C1g0qEVycBiM",
        "colab_type": "code",
        "colab": {
          "base_uri": "https://localhost:8080/",
          "height": 200
        },
        "outputId": "e35743ca-97d0-49b1-9fef-be8660be2bda"
      },
      "source": [
        "# SALE_DATE is an object. Convert to datetime. \n",
        "\n",
        "X['SALE_DATE'] = pd.to_datetime(X['SALE_DATE'], infer_datetime_format=False)\n",
        "\n",
        "X.head(2)"
      ],
      "execution_count": 27,
      "outputs": [
        {
          "output_type": "execute_result",
          "data": {
            "text/html": [
              "<div>\n",
              "<style scoped>\n",
              "    .dataframe tbody tr th:only-of-type {\n",
              "        vertical-align: middle;\n",
              "    }\n",
              "\n",
              "    .dataframe tbody tr th {\n",
              "        vertical-align: top;\n",
              "    }\n",
              "\n",
              "    .dataframe thead th {\n",
              "        text-align: right;\n",
              "    }\n",
              "</style>\n",
              "<table border=\"1\" class=\"dataframe\">\n",
              "  <thead>\n",
              "    <tr style=\"text-align: right;\">\n",
              "      <th></th>\n",
              "      <th>BOROUGH</th>\n",
              "      <th>NEIGHBORHOOD</th>\n",
              "      <th>BUILDING_CLASS_CATEGORY</th>\n",
              "      <th>TAX_CLASS_AT_PRESENT</th>\n",
              "      <th>BLOCK</th>\n",
              "      <th>LOT</th>\n",
              "      <th>EASE-MENT</th>\n",
              "      <th>BUILDING_CLASS_AT_PRESENT</th>\n",
              "      <th>ADDRESS</th>\n",
              "      <th>APARTMENT_NUMBER</th>\n",
              "      <th>ZIP_CODE</th>\n",
              "      <th>RESIDENTIAL_UNITS</th>\n",
              "      <th>COMMERCIAL_UNITS</th>\n",
              "      <th>TOTAL_UNITS</th>\n",
              "      <th>LAND_SQUARE_FEET</th>\n",
              "      <th>GROSS_SQUARE_FEET</th>\n",
              "      <th>YEAR_BUILT</th>\n",
              "      <th>TAX_CLASS_AT_TIME_OF_SALE</th>\n",
              "      <th>BUILDING_CLASS_AT_TIME_OF_SALE</th>\n",
              "      <th>SALE_DATE</th>\n",
              "    </tr>\n",
              "  </thead>\n",
              "  <tbody>\n",
              "    <tr>\n",
              "      <th>44</th>\n",
              "      <td>3</td>\n",
              "      <td>OTHER</td>\n",
              "      <td>01 ONE FAMILY DWELLINGS</td>\n",
              "      <td>1</td>\n",
              "      <td>5495</td>\n",
              "      <td>801</td>\n",
              "      <td>nan</td>\n",
              "      <td>A9</td>\n",
              "      <td>4832 BAY PARKWAY</td>\n",
              "      <td>NaN</td>\n",
              "      <td>11,230</td>\n",
              "      <td>1</td>\n",
              "      <td>0</td>\n",
              "      <td>1</td>\n",
              "      <td>6,800</td>\n",
              "      <td>1,325</td>\n",
              "      <td>1,930</td>\n",
              "      <td>1</td>\n",
              "      <td>A9</td>\n",
              "      <td>2019-01-01</td>\n",
              "    </tr>\n",
              "    <tr>\n",
              "      <th>61</th>\n",
              "      <td>4</td>\n",
              "      <td>OTHER</td>\n",
              "      <td>01 ONE FAMILY DWELLINGS</td>\n",
              "      <td>1</td>\n",
              "      <td>7918</td>\n",
              "      <td>72</td>\n",
              "      <td>nan</td>\n",
              "      <td>A1</td>\n",
              "      <td>80-23 232ND STREET</td>\n",
              "      <td>NaN</td>\n",
              "      <td>11,427</td>\n",
              "      <td>1</td>\n",
              "      <td>0</td>\n",
              "      <td>1</td>\n",
              "      <td>4,000</td>\n",
              "      <td>2,001</td>\n",
              "      <td>1,940</td>\n",
              "      <td>1</td>\n",
              "      <td>A1</td>\n",
              "      <td>2019-01-01</td>\n",
              "    </tr>\n",
              "  </tbody>\n",
              "</table>\n",
              "</div>"
            ],
            "text/plain": [
              "   BOROUGH NEIGHBORHOOD  ... BUILDING_CLASS_AT_TIME_OF_SALE  SALE_DATE\n",
              "44       3        OTHER  ...                             A9 2019-01-01\n",
              "61       4        OTHER  ...                             A1 2019-01-01\n",
              "\n",
              "[2 rows x 20 columns]"
            ]
          },
          "metadata": {
            "tags": []
          },
          "execution_count": 27
        }
      ]
    },
    {
      "cell_type": "code",
      "metadata": {
        "id": "UGbCsJrEcqg7",
        "colab_type": "code",
        "colab": {
          "base_uri": "https://localhost:8080/",
          "height": 485
        },
        "outputId": "492df01b-9dc9-4a5d-f133-30b639105319"
      },
      "source": [
        "X.info()\n",
        "# Verify again."
      ],
      "execution_count": 28,
      "outputs": [
        {
          "output_type": "stream",
          "text": [
            "<class 'pandas.core.frame.DataFrame'>\n",
            "Int64Index: 3151 entries, 44 to 23035\n",
            "Data columns (total 20 columns):\n",
            " #   Column                          Non-Null Count  Dtype         \n",
            "---  ------                          --------------  -----         \n",
            " 0   BOROUGH                         3151 non-null   object        \n",
            " 1   NEIGHBORHOOD                    3151 non-null   object        \n",
            " 2   BUILDING_CLASS_CATEGORY         3151 non-null   object        \n",
            " 3   TAX_CLASS_AT_PRESENT            3151 non-null   object        \n",
            " 4   BLOCK                           3151 non-null   int64         \n",
            " 5   LOT                             3151 non-null   int64         \n",
            " 6   EASE-MENT                       0 non-null      float64       \n",
            " 7   BUILDING_CLASS_AT_PRESENT       3151 non-null   object        \n",
            " 8   ADDRESS                         3151 non-null   object        \n",
            " 9   APARTMENT_NUMBER                1 non-null      object        \n",
            " 10  ZIP_CODE                        3151 non-null   float64       \n",
            " 11  RESIDENTIAL_UNITS               3151 non-null   float64       \n",
            " 12  COMMERCIAL_UNITS                3151 non-null   float64       \n",
            " 13  TOTAL_UNITS                     3151 non-null   float64       \n",
            " 14  LAND_SQUARE_FEET                3151 non-null   object        \n",
            " 15  GROSS_SQUARE_FEET               3151 non-null   float64       \n",
            " 16  YEAR_BUILT                      3151 non-null   float64       \n",
            " 17  TAX_CLASS_AT_TIME_OF_SALE       3151 non-null   int64         \n",
            " 18  BUILDING_CLASS_AT_TIME_OF_SALE  3151 non-null   object        \n",
            " 19  SALE_DATE                       3151 non-null   datetime64[ns]\n",
            "dtypes: datetime64[ns](1), float64(7), int64(3), object(9)\n",
            "memory usage: 517.0+ KB\n"
          ],
          "name": "stdout"
        }
      ]
    },
    {
      "cell_type": "code",
      "metadata": {
        "id": "x5JEE5wOCJ5r",
        "colab_type": "code",
        "colab": {}
      },
      "source": [
        "# Now that we have created our features and target \n",
        "# Create Train data only within Jan-Mar 2019 parameters\n",
        "X_train = X[(X['SALE_DATE'] > '2019-01-01') & (X['SALE_DATE'] < '2019-04-01')]\n",
        "y_train = y[y.index.isin(X_train.index)]"
      ],
      "execution_count": 30,
      "outputs": []
    },
    {
      "cell_type": "code",
      "metadata": {
        "id": "CT83Bw_faRmT",
        "colab_type": "code",
        "colab": {
          "base_uri": "https://localhost:8080/",
          "height": 225
        },
        "outputId": "bf8e6231-cb65-43bb-814c-a9a578b5525f"
      },
      "source": [
        "X['SALE_DATE'][0:]\n",
        "# Verify parameters w/ slicing.\n",
        "# This takes a look at the 'head' and 'tail' end of column 'SALE_DATE'"
      ],
      "execution_count": 33,
      "outputs": [
        {
          "output_type": "execute_result",
          "data": {
            "text/plain": [
              "44      2019-01-01\n",
              "61      2019-01-01\n",
              "78      2019-01-02\n",
              "108     2019-01-02\n",
              "111     2019-01-02\n",
              "           ...    \n",
              "23029   2019-04-30\n",
              "23031   2019-04-30\n",
              "23032   2019-04-30\n",
              "23033   2019-04-30\n",
              "23035   2019-04-30\n",
              "Name: SALE_DATE, Length: 3151, dtype: datetime64[ns]"
            ]
          },
          "metadata": {
            "tags": []
          },
          "execution_count": 33
        }
      ]
    },
    {
      "cell_type": "code",
      "metadata": {
        "id": "Z6KafMxWaRqC",
        "colab_type": "code",
        "colab": {}
      },
      "source": [
        "# Create Test data only with April 2019\n",
        "X_test = X[(X['SALE_DATE'] > '2019-04-01') & (X['SALE_DATE'] < '2019-05-01')]\n",
        "y_test = y[y.index.isin(X_test.index)]"
      ],
      "execution_count": 35,
      "outputs": []
    },
    {
      "cell_type": "markdown",
      "metadata": {
        "id": "SXoEWiCnlR-m",
        "colab_type": "text"
      },
      "source": [
        "- [ ] Do one-hot encoding of categorical features\n",
        "\n",
        "#OneHotEncoding??\n",
        "\n",
        ">>\"One-hot encoding\" adds a dimension for each unique value of each categorical feature. So, it may not be a good choice for \"high cardinality\" categoricals that have dozens, hundreds, or thousands of unique values.\n",
        "\n",
        "Cardinality means the number of unique values that a feature has:\n",
        "\n",
        "In mathematics, the cardinality of a set means the number of its elements. For example, the set A = {2, 4, 6} contains 3 elements, and therefore A has a cardinality of 3."
      ]
    },
    {
      "cell_type": "code",
      "metadata": {
        "id": "4P1VknKYaRtC",
        "colab_type": "code",
        "colab": {
          "base_uri": "https://localhost:8080/",
          "height": 104
        },
        "outputId": "48400226-90f5-47ae-ff24-cb9cf45573de"
      },
      "source": [
        "# Categorical features can be shown with .describe(exclude='number')\n",
        "# Non-numeric values\n",
        "X.describe(exclude='number').columns\n",
        "X_cat = X.describe(exclude='number')\n",
        "# Assign X_cat for all usable categorical features in X (DataFrame)"
      ],
      "execution_count": 36,
      "outputs": [
        {
          "output_type": "execute_result",
          "data": {
            "text/plain": [
              "Index(['BOROUGH', 'NEIGHBORHOOD', 'BUILDING_CLASS_CATEGORY',\n",
              "       'TAX_CLASS_AT_PRESENT', 'BUILDING_CLASS_AT_PRESENT', 'ADDRESS',\n",
              "       'APARTMENT_NUMBER', 'LAND_SQUARE_FEET',\n",
              "       'BUILDING_CLASS_AT_TIME_OF_SALE', 'SALE_DATE'],\n",
              "      dtype='object')"
            ]
          },
          "metadata": {
            "tags": []
          },
          "execution_count": 36
        }
      ]
    },
    {
      "cell_type": "code",
      "metadata": {
        "id": "ZrqZmJHVaRjk",
        "colab_type": "code",
        "colab": {}
      },
      "source": [
        "X_cat = X.describe(exclude='number')"
      ],
      "execution_count": 42,
      "outputs": []
    },
    {
      "cell_type": "code",
      "metadata": {
        "id": "HTQD7ZsAaRcf",
        "colab_type": "code",
        "colab": {
          "base_uri": "https://localhost:8080/",
          "height": 312
        },
        "outputId": "b4f26964-29aa-4425-bf48-b3489ed1f070"
      },
      "source": [
        "# Let's look at relationships between categorical features.\n",
        "X_cat.info()"
      ],
      "execution_count": 44,
      "outputs": [
        {
          "output_type": "stream",
          "text": [
            "<class 'pandas.core.frame.DataFrame'>\n",
            "Index: 6 entries, count to last\n",
            "Data columns (total 10 columns):\n",
            " #   Column                          Non-Null Count  Dtype \n",
            "---  ------                          --------------  ----- \n",
            " 0   BOROUGH                         4 non-null      object\n",
            " 1   NEIGHBORHOOD                    4 non-null      object\n",
            " 2   BUILDING_CLASS_CATEGORY         4 non-null      object\n",
            " 3   TAX_CLASS_AT_PRESENT            4 non-null      object\n",
            " 4   BUILDING_CLASS_AT_PRESENT       4 non-null      object\n",
            " 5   ADDRESS                         4 non-null      object\n",
            " 6   APARTMENT_NUMBER                4 non-null      object\n",
            " 7   LAND_SQUARE_FEET                4 non-null      object\n",
            " 8   BUILDING_CLASS_AT_TIME_OF_SALE  4 non-null      object\n",
            " 9   SALE_DATE                       6 non-null      object\n",
            "dtypes: object(10)\n",
            "memory usage: 688.0+ bytes\n"
          ],
          "name": "stdout"
        }
      ]
    },
    {
      "cell_type": "code",
      "metadata": {
        "id": "t5WW_bRfhelf",
        "colab_type": "code",
        "colab": {}
      },
      "source": [
        "\"\"\"All object data types\"\"\""
      ],
      "execution_count": null,
      "outputs": []
    },
    {
      "cell_type": "code",
      "metadata": {
        "id": "z0YQlCpeB4vK",
        "colab_type": "code",
        "colab": {
          "base_uri": "https://localhost:8080/",
          "height": 156
        },
        "outputId": "ce978321-a0ec-4dac-d1ed-0f61bbbd9338"
      },
      "source": [
        "# BOROUGH                  \n",
        "\n",
        "# Import Class\n",
        "from sklearn.preprocessing import OneHotEncoder\n",
        "#Instantiate\n",
        "ohe = OneHotEncoder()\n",
        "#Fit Transformer to data\n",
        "ohe.fit(X_train[['BOROUGH']])\n",
        "#Transform data\n",
        "borough_train_trans = ohe.transform(X_train[['BOROUGH']]).toarray()\n",
        "\n",
        "print(type(borough_train_trans), borough_train_trans.shape,'\\n' , borough_train_trans)"
      ],
      "execution_count": 53,
      "outputs": [
        {
          "output_type": "stream",
          "text": [
            "<class 'numpy.ndarray'> (2505, 5) \n",
            " [[0. 1. 0. 0. 0.]\n",
            " [0. 0. 1. 0. 0.]\n",
            " [0. 0. 1. 0. 0.]\n",
            " ...\n",
            " [0. 0. 0. 0. 1.]\n",
            " [0. 0. 0. 0. 1.]\n",
            " [0. 0. 0. 1. 0.]]\n"
          ],
          "name": "stdout"
        }
      ]
    },
    {
      "cell_type": "code",
      "metadata": {
        "id": "4uuJGv_2Eqm8",
        "colab_type": "code",
        "colab": {
          "base_uri": "https://localhost:8080/",
          "height": 190
        },
        "outputId": "f5791e27-5759-40a5-b5b5-111792d381d2"
      },
      "source": [
        "# NEIGHBORHOOD\n",
        "\n",
        "# Import Class\n",
        "from sklearn.preprocessing import OneHotEncoder\n",
        "#Instantiate Class\n",
        "ohe = OneHotEncoder(sparse=True)\n",
        "# Look an the defaults of OneHotEncoder\n",
        "# Fit transformer to data\n",
        "ohe.fit(X_train[['NEIGHBORHOOD']])\n",
        "# Transform data\n",
        "neighborhood_train_trans = ohe.transform(X_train[['NEIGHBORHOOD']]).toarray()\n",
        "\n",
        "print( 'Neighborhood type :', type(neighborhood_train_trans), '\\n',\n",
        "      'Neighborhood Shape :', neighborhood_train_trans.shape, '\\n', \n",
        "      'Neighborhood after OneHotEncoder Transformation :', '\\n',\n",
        "      neighborhood_train_trans)"
      ],
      "execution_count": 72,
      "outputs": [
        {
          "output_type": "stream",
          "text": [
            "Neighborhood type : <class 'numpy.ndarray'> \n",
            " Neighborhood Shape : (2505, 7) \n",
            " Neighborhood after OneHotEncoder Transformation : \n",
            " [[0. 0. 0. ... 0. 0. 1.]\n",
            " [0. 0. 0. ... 0. 0. 1.]\n",
            " [0. 0. 0. ... 0. 0. 1.]\n",
            " ...\n",
            " [0. 0. 0. ... 0. 0. 1.]\n",
            " [0. 0. 0. ... 0. 0. 1.]\n",
            " [0. 0. 0. ... 0. 0. 1.]]\n"
          ],
          "name": "stdout"
        }
      ]
    },
    {
      "cell_type": "code",
      "metadata": {
        "id": "i93KcRbOBc5R",
        "colab_type": "code",
        "colab": {
          "base_uri": "https://localhost:8080/",
          "height": 156
        },
        "outputId": "141908d0-9c14-4a3a-94c0-64cc54977a61"
      },
      "source": [
        "X_train['NEIGHBORHOOD'].value_counts()"
      ],
      "execution_count": 123,
      "outputs": [
        {
          "output_type": "execute_result",
          "data": {
            "text/plain": [
              "OTHER                 2358\n",
              "FLUSHING-NORTH          77\n",
              "EAST NEW YORK           22\n",
              "FOREST HILLS            17\n",
              "BOROUGH PARK            12\n",
              "ASTORIA                 11\n",
              "BEDFORD STUYVESANT       8\n",
              "Name: NEIGHBORHOOD, dtype: int64"
            ]
          },
          "metadata": {
            "tags": []
          },
          "execution_count": 123
        }
      ]
    },
    {
      "cell_type": "code",
      "metadata": {
        "id": "SI1MGGEgi_Qm",
        "colab_type": "code",
        "colab": {
          "base_uri": "https://localhost:8080/",
          "height": 190
        },
        "outputId": "69c07f7e-b044-46f4-cc82-04e49996f155"
      },
      "source": [
        "# BUILDING_CLASS_CATEGORY         \n",
        "\n",
        "# Import Class\n",
        "from sklearn.preprocessing import OneHotEncoder\n",
        "# Instantiate Class\n",
        "ohe = OneHotEncoder()\n",
        "# Fit transformer to data\n",
        "ohe.fit(X_train[['BUILDING_CLASS_CATEGORY']])\n",
        "# Transform data\n",
        "buildingclasscat_train_trans = ohe.transform(X_train[['BUILDING_CLASS_CATEGORY']]).toarray()\n",
        "\n",
        "print( 'Building Class Category type :', type(buildingclasscat_train_trans), '\\n',\n",
        "      'Building Class Shape :', buildingclasscat_train_trans.shape, '\\n', \n",
        "      'Building Class Category after OneHotEncoder Transformation :', '\\n',\n",
        "      buildingclasscat_train_trans)"
      ],
      "execution_count": 73,
      "outputs": [
        {
          "output_type": "stream",
          "text": [
            "Building Class Category type : <class 'numpy.ndarray'> \n",
            " Building Class Shape : (2505, 1) \n",
            " Building Class Category after OneHotEncoder Transformation : \n",
            " [[1.]\n",
            " [1.]\n",
            " [1.]\n",
            " ...\n",
            " [1.]\n",
            " [1.]\n",
            " [1.]]\n"
          ],
          "name": "stdout"
        }
      ]
    },
    {
      "cell_type": "code",
      "metadata": {
        "id": "FPfa42g0o7wP",
        "colab_type": "code",
        "colab": {
          "base_uri": "https://localhost:8080/",
          "height": 242
        },
        "outputId": "7d1c43a4-1125-47f9-8fd8-90d9e4e92830"
      },
      "source": [
        "print('This is why the above cell has only \"1\" :', '\\n',X_train['BUILDING_CLASS_CATEGORY'])"
      ],
      "execution_count": 79,
      "outputs": [
        {
          "output_type": "stream",
          "text": [
            "This is why the above cell has only \"1\" : \n",
            " 78       01 ONE FAMILY DWELLINGS\n",
            "108      01 ONE FAMILY DWELLINGS\n",
            "111      01 ONE FAMILY DWELLINGS\n",
            "120      01 ONE FAMILY DWELLINGS\n",
            "121      01 ONE FAMILY DWELLINGS\n",
            "                  ...           \n",
            "18129    01 ONE FAMILY DWELLINGS\n",
            "18130    01 ONE FAMILY DWELLINGS\n",
            "18132    01 ONE FAMILY DWELLINGS\n",
            "18134    01 ONE FAMILY DWELLINGS\n",
            "18147    01 ONE FAMILY DWELLINGS\n",
            "Name: BUILDING_CLASS_CATEGORY, Length: 2505, dtype: object\n"
          ],
          "name": "stdout"
        }
      ]
    },
    {
      "cell_type": "code",
      "metadata": {
        "id": "4cONaR2ci_NV",
        "colab_type": "code",
        "colab": {
          "base_uri": "https://localhost:8080/",
          "height": 190
        },
        "outputId": "11d4df46-2c42-4063-9cf8-20d3f0e7c01c"
      },
      "source": [
        "# TAX_CLASS_AT_PRESENT\n",
        "\n",
        "# Import Class\n",
        "from sklearn.preprocessing import OneHotEncoder\n",
        "# Instatiate Class\n",
        "ohe = OneHotEncoder()\n",
        "# Fit transformer to data\n",
        "ohe.fit(X_train[['TAX_CLASS_AT_PRESENT']])\n",
        "# Transform data\n",
        "taxclasspresent_train_trans = ohe.transform(X_train[['TAX_CLASS_AT_PRESENT']]).toarray()\n",
        "\n",
        "print('Tax Class at Present type :', type(taxclasspresent_train_trans), '\\n',\n",
        "      'Tax Class at Present Shape :', taxclasspresent_train_trans.shape, '\\n', \n",
        "      'Tax Class at Present after OneHotEncoder Transformation :', '\\n',\n",
        "      taxclasspresent_train_trans)"
      ],
      "execution_count": 80,
      "outputs": [
        {
          "output_type": "stream",
          "text": [
            "Tax Class at Present type : <class 'numpy.ndarray'> \n",
            " Tax Class at Present Shape : (2505, 2) \n",
            " Tax Class at Present after OneHotEncoder Transformation : \n",
            " [[1. 0.]\n",
            " [1. 0.]\n",
            " [1. 0.]\n",
            " ...\n",
            " [1. 0.]\n",
            " [1. 0.]\n",
            " [1. 0.]]\n"
          ],
          "name": "stdout"
        }
      ]
    },
    {
      "cell_type": "code",
      "metadata": {
        "id": "e0tW6BxRrE8O",
        "colab_type": "code",
        "colab": {
          "base_uri": "https://localhost:8080/",
          "height": 86
        },
        "outputId": "b8f51b40-d168-4af5-87e8-84817215d68e"
      },
      "source": [
        "print('Value Counts for Tax Class at present :', '\\n', X_train['TAX_CLASS_AT_PRESENT'].value_counts())"
      ],
      "execution_count": 81,
      "outputs": [
        {
          "output_type": "stream",
          "text": [
            "Value Counts for Tax Class at present : \n",
            " 1     2474\n",
            "1D      31\n",
            "Name: TAX_CLASS_AT_PRESENT, dtype: int64\n"
          ],
          "name": "stdout"
        }
      ]
    },
    {
      "cell_type": "code",
      "metadata": {
        "id": "EanKgnBpi_Jh",
        "colab_type": "code",
        "colab": {
          "base_uri": "https://localhost:8080/",
          "height": 190
        },
        "outputId": "dbad5aba-0b5e-4644-e123-c309f4513775"
      },
      "source": [
        "# BUILDING_CLASS_AT_PRESENT\n",
        "\n",
        "# Import Class\n",
        "from sklearn.preprocessing import OneHotEncoder\n",
        "# Instantiate Class\n",
        "ohe = OneHotEncoder(sparse=True)\n",
        "# Fit transformer to data\n",
        "ohe.fit(X_train[['BUILDING_CLASS_AT_PRESENT']])\n",
        "# Transform data\n",
        "buildingclasspresent_train_trans = ohe.transform(X_train[['BUILDING_CLASS_AT_PRESENT']]).toarray()\n",
        "\n",
        "print('Building Class at Present :', type(buildingclasspresent_train_trans), '\\n',\n",
        "      'Building Class at Present :', buildingclasspresent_train_trans.shape, '\\n', \n",
        "      'Building Class at Present after OneHotEncoder Transformation :', '\\n',\n",
        "      buildingclasspresent_train_trans)"
      ],
      "execution_count": 82,
      "outputs": [
        {
          "output_type": "stream",
          "text": [
            "Building Class at Present : <class 'numpy.ndarray'> \n",
            " Building Class at Present : (2505, 13) \n",
            " Building Class at Present after OneHotEncoder Transformation : \n",
            " [[0. 1. 0. ... 0. 0. 0.]\n",
            " [0. 1. 0. ... 0. 0. 0.]\n",
            " [0. 0. 0. ... 0. 0. 0.]\n",
            " ...\n",
            " [0. 1. 0. ... 0. 0. 0.]\n",
            " [0. 0. 1. ... 0. 0. 0.]\n",
            " [1. 0. 0. ... 0. 0. 0.]]\n"
          ],
          "name": "stdout"
        }
      ]
    },
    {
      "cell_type": "code",
      "metadata": {
        "id": "v3xKh4KZErLA",
        "colab_type": "code",
        "colab": {
          "base_uri": "https://localhost:8080/",
          "height": 190
        },
        "outputId": "da5bb28e-d96b-4567-ffd2-0be75724c79a"
      },
      "source": [
        "# ADDRESS   \n",
        "\n",
        "# Import Class\n",
        "from sklearn.preprocessing import OneHotEncoder\n",
        "# Instantiate Class\n",
        "ohe = OneHotEncoder()\n",
        "# Fit transformer to data\n",
        "ohe.fit(X_train[['ADDRESS']])\n",
        "# Transform data\n",
        "address_train_trans = ohe.transform(X_train[['ADDRESS']]).toarray()\n",
        "\n",
        "print('Address type:', type(buildingclasspresent_train_trans), '\\n',\n",
        "      'Address shape:', buildingclasspresent_train_trans.shape, '\\n', \n",
        "      'Address after OneHotEncoder Transformation:', '\\n',\n",
        "      buildingclasspresent_train_trans)"
      ],
      "execution_count": 84,
      "outputs": [
        {
          "output_type": "stream",
          "text": [
            "Address type: <class 'numpy.ndarray'> \n",
            " Address shape: (2505, 13) \n",
            " Address after OneHotEncoder Transformation: \n",
            " [[0. 1. 0. ... 0. 0. 0.]\n",
            " [0. 1. 0. ... 0. 0. 0.]\n",
            " [0. 0. 0. ... 0. 0. 0.]\n",
            " ...\n",
            " [0. 1. 0. ... 0. 0. 0.]\n",
            " [0. 0. 1. ... 0. 0. 0.]\n",
            " [1. 0. 0. ... 0. 0. 0.]]\n"
          ],
          "name": "stdout"
        }
      ]
    },
    {
      "cell_type": "code",
      "metadata": {
        "id": "K48CmhnOB4zz",
        "colab_type": "code",
        "colab": {
          "base_uri": "https://localhost:8080/",
          "height": 380
        },
        "outputId": "ba53a7ad-467d-46f8-ea1e-82a9ccf09379"
      },
      "source": [
        "# APARTMENT_NUMBER           \n",
        "\n",
        "# Import Class\n",
        "from sklearn.preprocessing import OneHotEncoder\n",
        "# Instantiate Class\n",
        "ohe = OneHotEncoder()\n",
        "# Fit transformer to data\n",
        "ohe.fit(X_train[['APARTMENT_NUMBER']])\n",
        "# Transform data\n",
        "aptnum_train_trans = ohe.transform(X_train[['APARTMENT_NUMBER']]).toarray()\n",
        "\n",
        "print('Apartment number type:', type(aptnum_train_trans), '\\n',\n",
        "      'Apartment number shape:', aptnum_train_trans.shape, '\\n', \n",
        "      'Apartment number after OneHotEncoder Transformation:', '\\n',\n",
        "      aptnum_train_trans)"
      ],
      "execution_count": 85,
      "outputs": [
        {
          "output_type": "error",
          "ename": "ValueError",
          "evalue": "ignored",
          "traceback": [
            "\u001b[0;31m---------------------------------------------------------------------------\u001b[0m",
            "\u001b[0;31mValueError\u001b[0m                                Traceback (most recent call last)",
            "\u001b[0;32m<ipython-input-85-8708fd9c9f07>\u001b[0m in \u001b[0;36m<module>\u001b[0;34m()\u001b[0m\n\u001b[1;32m      6\u001b[0m \u001b[0mohe\u001b[0m \u001b[0;34m=\u001b[0m \u001b[0mOneHotEncoder\u001b[0m\u001b[0;34m(\u001b[0m\u001b[0;34m)\u001b[0m\u001b[0;34m\u001b[0m\u001b[0;34m\u001b[0m\u001b[0m\n\u001b[1;32m      7\u001b[0m \u001b[0;31m# Fit transformer to data\u001b[0m\u001b[0;34m\u001b[0m\u001b[0;34m\u001b[0m\u001b[0;34m\u001b[0m\u001b[0m\n\u001b[0;32m----> 8\u001b[0;31m \u001b[0mohe\u001b[0m\u001b[0;34m.\u001b[0m\u001b[0mfit\u001b[0m\u001b[0;34m(\u001b[0m\u001b[0mX_train\u001b[0m\u001b[0;34m[\u001b[0m\u001b[0;34m[\u001b[0m\u001b[0;34m'APARTMENT_NUMBER'\u001b[0m\u001b[0;34m]\u001b[0m\u001b[0;34m]\u001b[0m\u001b[0;34m)\u001b[0m\u001b[0;34m\u001b[0m\u001b[0;34m\u001b[0m\u001b[0m\n\u001b[0m\u001b[1;32m      9\u001b[0m \u001b[0;31m# Transform data\u001b[0m\u001b[0;34m\u001b[0m\u001b[0;34m\u001b[0m\u001b[0;34m\u001b[0m\u001b[0m\n\u001b[1;32m     10\u001b[0m \u001b[0maptnum_train_trans\u001b[0m \u001b[0;34m=\u001b[0m \u001b[0mohe\u001b[0m\u001b[0;34m.\u001b[0m\u001b[0mtransform\u001b[0m\u001b[0;34m(\u001b[0m\u001b[0mX_train\u001b[0m\u001b[0;34m[\u001b[0m\u001b[0;34m[\u001b[0m\u001b[0;34m'APARTMENT_NUMBER'\u001b[0m\u001b[0;34m]\u001b[0m\u001b[0;34m]\u001b[0m\u001b[0;34m)\u001b[0m\u001b[0;34m.\u001b[0m\u001b[0mtoarray\u001b[0m\u001b[0;34m(\u001b[0m\u001b[0;34m)\u001b[0m\u001b[0;34m\u001b[0m\u001b[0;34m\u001b[0m\u001b[0m\n",
            "\u001b[0;32m/usr/local/lib/python3.6/dist-packages/sklearn/preprocessing/_encoders.py\u001b[0m in \u001b[0;36mfit\u001b[0;34m(self, X, y)\u001b[0m\n\u001b[1;32m    345\u001b[0m         \"\"\"\n\u001b[1;32m    346\u001b[0m         \u001b[0mself\u001b[0m\u001b[0;34m.\u001b[0m\u001b[0m_validate_keywords\u001b[0m\u001b[0;34m(\u001b[0m\u001b[0;34m)\u001b[0m\u001b[0;34m\u001b[0m\u001b[0;34m\u001b[0m\u001b[0m\n\u001b[0;32m--> 347\u001b[0;31m         \u001b[0mself\u001b[0m\u001b[0;34m.\u001b[0m\u001b[0m_fit\u001b[0m\u001b[0;34m(\u001b[0m\u001b[0mX\u001b[0m\u001b[0;34m,\u001b[0m \u001b[0mhandle_unknown\u001b[0m\u001b[0;34m=\u001b[0m\u001b[0mself\u001b[0m\u001b[0;34m.\u001b[0m\u001b[0mhandle_unknown\u001b[0m\u001b[0;34m)\u001b[0m\u001b[0;34m\u001b[0m\u001b[0;34m\u001b[0m\u001b[0m\n\u001b[0m\u001b[1;32m    348\u001b[0m         \u001b[0mself\u001b[0m\u001b[0;34m.\u001b[0m\u001b[0mdrop_idx_\u001b[0m \u001b[0;34m=\u001b[0m \u001b[0mself\u001b[0m\u001b[0;34m.\u001b[0m\u001b[0m_compute_drop_idx\u001b[0m\u001b[0;34m(\u001b[0m\u001b[0;34m)\u001b[0m\u001b[0;34m\u001b[0m\u001b[0;34m\u001b[0m\u001b[0m\n\u001b[1;32m    349\u001b[0m         \u001b[0;32mreturn\u001b[0m \u001b[0mself\u001b[0m\u001b[0;34m\u001b[0m\u001b[0;34m\u001b[0m\u001b[0m\n",
            "\u001b[0;32m/usr/local/lib/python3.6/dist-packages/sklearn/preprocessing/_encoders.py\u001b[0m in \u001b[0;36m_fit\u001b[0;34m(self, X, handle_unknown)\u001b[0m\n\u001b[1;32m     72\u001b[0m \u001b[0;34m\u001b[0m\u001b[0m\n\u001b[1;32m     73\u001b[0m     \u001b[0;32mdef\u001b[0m \u001b[0m_fit\u001b[0m\u001b[0;34m(\u001b[0m\u001b[0mself\u001b[0m\u001b[0;34m,\u001b[0m \u001b[0mX\u001b[0m\u001b[0;34m,\u001b[0m \u001b[0mhandle_unknown\u001b[0m\u001b[0;34m=\u001b[0m\u001b[0;34m'error'\u001b[0m\u001b[0;34m)\u001b[0m\u001b[0;34m:\u001b[0m\u001b[0;34m\u001b[0m\u001b[0;34m\u001b[0m\u001b[0m\n\u001b[0;32m---> 74\u001b[0;31m         \u001b[0mX_list\u001b[0m\u001b[0;34m,\u001b[0m \u001b[0mn_samples\u001b[0m\u001b[0;34m,\u001b[0m \u001b[0mn_features\u001b[0m \u001b[0;34m=\u001b[0m \u001b[0mself\u001b[0m\u001b[0;34m.\u001b[0m\u001b[0m_check_X\u001b[0m\u001b[0;34m(\u001b[0m\u001b[0mX\u001b[0m\u001b[0;34m)\u001b[0m\u001b[0;34m\u001b[0m\u001b[0;34m\u001b[0m\u001b[0m\n\u001b[0m\u001b[1;32m     75\u001b[0m \u001b[0;34m\u001b[0m\u001b[0m\n\u001b[1;32m     76\u001b[0m         \u001b[0;32mif\u001b[0m \u001b[0mself\u001b[0m\u001b[0;34m.\u001b[0m\u001b[0mcategories\u001b[0m \u001b[0;34m!=\u001b[0m \u001b[0;34m'auto'\u001b[0m\u001b[0;34m:\u001b[0m\u001b[0;34m\u001b[0m\u001b[0;34m\u001b[0m\u001b[0m\n",
            "\u001b[0;32m/usr/local/lib/python3.6/dist-packages/sklearn/preprocessing/_encoders.py\u001b[0m in \u001b[0;36m_check_X\u001b[0;34m(self, X)\u001b[0m\n\u001b[1;32m     59\u001b[0m             \u001b[0mXi\u001b[0m \u001b[0;34m=\u001b[0m \u001b[0mself\u001b[0m\u001b[0;34m.\u001b[0m\u001b[0m_get_feature\u001b[0m\u001b[0;34m(\u001b[0m\u001b[0mX\u001b[0m\u001b[0;34m,\u001b[0m \u001b[0mfeature_idx\u001b[0m\u001b[0;34m=\u001b[0m\u001b[0mi\u001b[0m\u001b[0;34m)\u001b[0m\u001b[0;34m\u001b[0m\u001b[0;34m\u001b[0m\u001b[0m\n\u001b[1;32m     60\u001b[0m             Xi = check_array(Xi, ensure_2d=False, dtype=None,\n\u001b[0;32m---> 61\u001b[0;31m                              force_all_finite=needs_validation)\n\u001b[0m\u001b[1;32m     62\u001b[0m             \u001b[0mX_columns\u001b[0m\u001b[0;34m.\u001b[0m\u001b[0mappend\u001b[0m\u001b[0;34m(\u001b[0m\u001b[0mXi\u001b[0m\u001b[0;34m)\u001b[0m\u001b[0;34m\u001b[0m\u001b[0;34m\u001b[0m\u001b[0m\n\u001b[1;32m     63\u001b[0m \u001b[0;34m\u001b[0m\u001b[0m\n",
            "\u001b[0;32m/usr/local/lib/python3.6/dist-packages/sklearn/utils/validation.py\u001b[0m in \u001b[0;36mcheck_array\u001b[0;34m(array, accept_sparse, accept_large_sparse, dtype, order, copy, force_all_finite, ensure_2d, allow_nd, ensure_min_samples, ensure_min_features, warn_on_dtype, estimator)\u001b[0m\n\u001b[1;32m    576\u001b[0m         \u001b[0;32mif\u001b[0m \u001b[0mforce_all_finite\u001b[0m\u001b[0;34m:\u001b[0m\u001b[0;34m\u001b[0m\u001b[0;34m\u001b[0m\u001b[0m\n\u001b[1;32m    577\u001b[0m             _assert_all_finite(array,\n\u001b[0;32m--> 578\u001b[0;31m                                allow_nan=force_all_finite == 'allow-nan')\n\u001b[0m\u001b[1;32m    579\u001b[0m \u001b[0;34m\u001b[0m\u001b[0m\n\u001b[1;32m    580\u001b[0m     \u001b[0;32mif\u001b[0m \u001b[0mensure_min_samples\u001b[0m \u001b[0;34m>\u001b[0m \u001b[0;36m0\u001b[0m\u001b[0;34m:\u001b[0m\u001b[0;34m\u001b[0m\u001b[0;34m\u001b[0m\u001b[0m\n",
            "\u001b[0;32m/usr/local/lib/python3.6/dist-packages/sklearn/utils/validation.py\u001b[0m in \u001b[0;36m_assert_all_finite\u001b[0;34m(X, allow_nan, msg_dtype)\u001b[0m\n\u001b[1;32m     63\u001b[0m     \u001b[0;32melif\u001b[0m \u001b[0mX\u001b[0m\u001b[0;34m.\u001b[0m\u001b[0mdtype\u001b[0m \u001b[0;34m==\u001b[0m \u001b[0mnp\u001b[0m\u001b[0;34m.\u001b[0m\u001b[0mdtype\u001b[0m\u001b[0;34m(\u001b[0m\u001b[0;34m'object'\u001b[0m\u001b[0;34m)\u001b[0m \u001b[0;32mand\u001b[0m \u001b[0;32mnot\u001b[0m \u001b[0mallow_nan\u001b[0m\u001b[0;34m:\u001b[0m\u001b[0;34m\u001b[0m\u001b[0;34m\u001b[0m\u001b[0m\n\u001b[1;32m     64\u001b[0m         \u001b[0;32mif\u001b[0m \u001b[0m_object_dtype_isnan\u001b[0m\u001b[0;34m(\u001b[0m\u001b[0mX\u001b[0m\u001b[0;34m)\u001b[0m\u001b[0;34m.\u001b[0m\u001b[0many\u001b[0m\u001b[0;34m(\u001b[0m\u001b[0;34m)\u001b[0m\u001b[0;34m:\u001b[0m\u001b[0;34m\u001b[0m\u001b[0;34m\u001b[0m\u001b[0m\n\u001b[0;32m---> 65\u001b[0;31m             \u001b[0;32mraise\u001b[0m \u001b[0mValueError\u001b[0m\u001b[0;34m(\u001b[0m\u001b[0;34m\"Input contains NaN\"\u001b[0m\u001b[0;34m)\u001b[0m\u001b[0;34m\u001b[0m\u001b[0;34m\u001b[0m\u001b[0m\n\u001b[0m\u001b[1;32m     66\u001b[0m \u001b[0;34m\u001b[0m\u001b[0m\n\u001b[1;32m     67\u001b[0m \u001b[0;34m\u001b[0m\u001b[0m\n",
            "\u001b[0;31mValueError\u001b[0m: Input contains NaN"
          ]
        }
      ]
    },
    {
      "cell_type": "code",
      "metadata": {
        "id": "jUNrL9N3vtqQ",
        "colab_type": "code",
        "colab": {
          "base_uri": "https://localhost:8080/",
          "height": 104
        },
        "outputId": "81aa5813-b1de-41bc-db86-cda99f1d392f"
      },
      "source": [
        "X_train.drop('APARTMENT_NUMBER', inplace=True, axis=1)"
      ],
      "execution_count": 87,
      "outputs": [
        {
          "output_type": "stream",
          "text": [
            "/usr/local/lib/python3.6/dist-packages/pandas/core/frame.py:3997: SettingWithCopyWarning: \n",
            "A value is trying to be set on a copy of a slice from a DataFrame\n",
            "\n",
            "See the caveats in the documentation: https://pandas.pydata.org/pandas-docs/stable/user_guide/indexing.html#returning-a-view-versus-a-copy\n",
            "  errors=errors,\n"
          ],
          "name": "stderr"
        }
      ]
    },
    {
      "cell_type": "code",
      "metadata": {
        "id": "-UJBv1Epv4hG",
        "colab_type": "code",
        "colab": {
          "base_uri": "https://localhost:8080/",
          "height": 173
        },
        "outputId": "c08c2e77-88b5-4286-8204-d2bd56f4ffc6"
      },
      "source": [
        "print('Apartment Number column dropped since it contains Nan values.','\\n','\\n',X_train.columns)"
      ],
      "execution_count": 92,
      "outputs": [
        {
          "output_type": "stream",
          "text": [
            "Apartment Number column dropped since it contains Nan values. \n",
            " \n",
            " Index(['BOROUGH', 'NEIGHBORHOOD', 'BUILDING_CLASS_CATEGORY',\n",
            "       'TAX_CLASS_AT_PRESENT', 'BLOCK', 'LOT', 'EASE-MENT',\n",
            "       'BUILDING_CLASS_AT_PRESENT', 'ADDRESS', 'ZIP_CODE', 'RESIDENTIAL_UNITS',\n",
            "       'COMMERCIAL_UNITS', 'TOTAL_UNITS', 'LAND_SQUARE_FEET',\n",
            "       'GROSS_SQUARE_FEET', 'YEAR_BUILT', 'TAX_CLASS_AT_TIME_OF_SALE',\n",
            "       'BUILDING_CLASS_AT_TIME_OF_SALE', 'SALE_DATE'],\n",
            "      dtype='object')\n"
          ],
          "name": "stdout"
        }
      ]
    },
    {
      "cell_type": "code",
      "metadata": {
        "id": "Q05I9JMwjMyY",
        "colab_type": "code",
        "colab": {
          "base_uri": "https://localhost:8080/",
          "height": 190
        },
        "outputId": "0e19d101-77e2-49d3-cca6-8f98f65b2fff"
      },
      "source": [
        "# LAND_SQUARE_FEET                \n",
        "\n",
        "# Import Class\n",
        "from sklearn.preprocessing import OneHotEncoder\n",
        "# Instantiate Class\n",
        "ohe = OneHotEncoder()\n",
        "# Fit transformer to data\n",
        "ohe.fit(X_train[['LAND_SQUARE_FEET']])\n",
        "# Transform data\n",
        "landsqfeet_train_trans = ohe.transform(X_train[['LAND_SQUARE_FEET']]).toarray()\n",
        "\n",
        "print('Land Square Feet type:', type(landsqfeet_train_trans), '\\n',\n",
        "      'Land Square Feet shape:', landsqfeet_train_trans.shape, '\\n', \n",
        "      'Land Square Feet after OneHotEncoder Transformation:', '\\n',\n",
        "      landsqfeet_train_trans)"
      ],
      "execution_count": 93,
      "outputs": [
        {
          "output_type": "stream",
          "text": [
            "Land Square Feet type: <class 'numpy.ndarray'> \n",
            " Land Square Feet shape: (2505, 886) \n",
            " Land Square Feet after OneHotEncoder Transformation: \n",
            " [[0. 0. 0. ... 0. 0. 0.]\n",
            " [0. 0. 0. ... 0. 0. 0.]\n",
            " [0. 0. 0. ... 0. 0. 0.]\n",
            " ...\n",
            " [0. 0. 0. ... 0. 0. 0.]\n",
            " [0. 0. 0. ... 0. 0. 0.]\n",
            " [0. 0. 0. ... 0. 0. 0.]]\n"
          ],
          "name": "stdout"
        }
      ]
    },
    {
      "cell_type": "code",
      "metadata": {
        "id": "652Cxlmfz--T",
        "colab_type": "code",
        "colab": {
          "base_uri": "https://localhost:8080/",
          "height": 242
        },
        "outputId": "6c3672fb-52c7-40be-aac1-bd7ae616b6ee"
      },
      "source": [
        "print('High Cardinality (Length:886) :','\\n',X_train['LAND_SQUARE_FEET'].value_counts())\n",
        "#886 different values for Land Square Feet. \n"
      ],
      "execution_count": 96,
      "outputs": [
        {
          "output_type": "stream",
          "text": [
            "High Cardinality (Length:886) : \n",
            " 4,000    233\n",
            "2,000    187\n",
            "2,500    145\n",
            "1,800     95\n",
            "3,000     92\n",
            "        ... \n",
            "3,361      1\n",
            "4,454      1\n",
            "2,402      1\n",
            "2,275      1\n",
            "4,268      1\n",
            "Name: LAND_SQUARE_FEET, Length: 886, dtype: int64\n"
          ],
          "name": "stdout"
        }
      ]
    },
    {
      "cell_type": "code",
      "metadata": {
        "id": "Gv2yM36MjM4-",
        "colab_type": "code",
        "colab": {
          "base_uri": "https://localhost:8080/",
          "height": 190
        },
        "outputId": "c7b99ed5-a950-4dcf-c679-a3b37e2495a1"
      },
      "source": [
        "# BUILDING_CLASS_AT_TIME_OF_SALE  \n",
        "\n",
        "# Import Class\n",
        "from sklearn.preprocessing import OneHotEncoder\n",
        "# Instantiate Class\n",
        "ohe = OneHotEncoder()\n",
        "# Fit transformer to data\n",
        "ohe.fit(X_train[['BUILDING_CLASS_AT_TIME_OF_SALE']])\n",
        "# Transform data\n",
        "buildclassattimeofsale_train_trans = ohe.transform(X_train[['BUILDING_CLASS_AT_TIME_OF_SALE']]).toarray()\n",
        "\n",
        "print('Building Class at time of Sale type:', type(buildclassattimeofsale_train_trans), '\\n',\n",
        "      'Building Class at time of Sale shape:', buildclassattimeofsale_train_trans.shape, '\\n', \n",
        "      'Building Class at time of Sale after OneHotEncoder Transformation:', '\\n',\n",
        "      buildclassattimeofsale_train_trans)"
      ],
      "execution_count": 97,
      "outputs": [
        {
          "output_type": "stream",
          "text": [
            "Building Class at time of Sale type: <class 'numpy.ndarray'> \n",
            " Building Class at time of Sale shape: (2505, 11) \n",
            " Building Class at time of Sale after OneHotEncoder Transformation: \n",
            " [[0. 1. 0. ... 0. 0. 0.]\n",
            " [0. 1. 0. ... 0. 0. 0.]\n",
            " [0. 0. 0. ... 0. 0. 0.]\n",
            " ...\n",
            " [0. 1. 0. ... 0. 0. 0.]\n",
            " [0. 0. 1. ... 0. 0. 0.]\n",
            " [1. 0. 0. ... 0. 0. 0.]]\n"
          ],
          "name": "stdout"
        }
      ]
    },
    {
      "cell_type": "code",
      "metadata": {
        "id": "Rz1uStZr1Udy",
        "colab_type": "code",
        "colab": {
          "base_uri": "https://localhost:8080/",
          "height": 225
        },
        "outputId": "0b85ef6a-07ac-484b-c86d-538e694a5204"
      },
      "source": [
        "X_train['BUILDING_CLASS_AT_TIME_OF_SALE'].value_counts()"
      ],
      "execution_count": 98,
      "outputs": [
        {
          "output_type": "execute_result",
          "data": {
            "text/plain": [
              "A1    918\n",
              "A5    779\n",
              "A2    413\n",
              "A9    192\n",
              "A0     67\n",
              "S1     39\n",
              "A3     38\n",
              "A8     31\n",
              "A6     14\n",
              "A4     13\n",
              "S0      1\n",
              "Name: BUILDING_CLASS_AT_TIME_OF_SALE, dtype: int64"
            ]
          },
          "metadata": {
            "tags": []
          },
          "execution_count": 98
        }
      ]
    },
    {
      "cell_type": "code",
      "metadata": {
        "id": "2wYAa3RDjM1x",
        "colab_type": "code",
        "colab": {
          "base_uri": "https://localhost:8080/",
          "height": 190
        },
        "outputId": "e454dfd9-654f-4dd9-e9cf-e554c7c16bcd"
      },
      "source": [
        "# SALE_DATE                       \n",
        "\n",
        "# Import Class\n",
        "from sklearn.preprocessing import OneHotEncoder\n",
        "# Instantiate Class\n",
        "ohe = OneHotEncoder()\n",
        "# Fit transformer to data\n",
        "ohe.fit(X_train[['SALE_DATE']])\n",
        "# Transform data\n",
        "saledate_train_trans = ohe.transform(X_train[['SALE_DATE']]).toarray()\n",
        "\n",
        "print('Sale Date type:', type(saledate_train_trans), '\\n',\n",
        "      'Sale Date shape:', saledate_train_trans.shape, '\\n', \n",
        "      'Sale Date after OneHotEncoder Transformation:', '\\n',\n",
        "      saledate_train_trans)"
      ],
      "execution_count": 99,
      "outputs": [
        {
          "output_type": "stream",
          "text": [
            "Sale Date type: <class 'numpy.ndarray'> \n",
            " Sale Date shape: (2505, 67) \n",
            " Sale Date after OneHotEncoder Transformation: \n",
            " [[1. 0. 0. ... 0. 0. 0.]\n",
            " [1. 0. 0. ... 0. 0. 0.]\n",
            " [1. 0. 0. ... 0. 0. 0.]\n",
            " ...\n",
            " [0. 0. 0. ... 0. 1. 0.]\n",
            " [0. 0. 0. ... 0. 1. 0.]\n",
            " [0. 0. 0. ... 0. 0. 1.]]\n"
          ],
          "name": "stdout"
        }
      ]
    },
    {
      "cell_type": "code",
      "metadata": {
        "id": "3hQRwx8c138n",
        "colab_type": "code",
        "colab": {
          "base_uri": "https://localhost:8080/",
          "height": 260
        },
        "outputId": "3ec52c6d-59c7-4f4b-9f7f-6a980957f60e"
      },
      "source": [
        "print('High Cardinality (Length:67) :','\\n','\\n',X_train['SALE_DATE'].value_counts())"
      ],
      "execution_count": 102,
      "outputs": [
        {
          "output_type": "stream",
          "text": [
            "High Cardinality (Length:67) : \n",
            " \n",
            " 2019-01-31    78\n",
            "2019-03-29    62\n",
            "2019-02-28    58\n",
            "2019-01-15    57\n",
            "2019-01-24    56\n",
            "              ..\n",
            "2019-02-18     3\n",
            "2019-03-30     1\n",
            "2019-03-17     1\n",
            "2019-03-09     1\n",
            "2019-02-17     1\n",
            "Name: SALE_DATE, Length: 67, dtype: int64\n"
          ],
          "name": "stdout"
        }
      ]
    },
    {
      "cell_type": "markdown",
      "metadata": {
        "id": "uw67k4lvXzZC",
        "colab_type": "text"
      },
      "source": [
        "- [ ] Feature selection with **`SelectKbest` (Univariate Feature Selection)**\n",
        "\n",
        "*Univariate is used in statistics to describe a type of data which consisits of obserbations on oly a single characteristic or attribute*\n",
        "\n",
        "> Tells which features are most closely associated with your target.\n",
        "\n",
        ">Use Ski-Kit Learn"
      ]
    },
    {
      "cell_type": "code",
      "metadata": {
        "id": "Km40u2Ny88qC",
        "colab_type": "code",
        "colab": {
          "base_uri": "https://localhost:8080/",
          "height": 34
        },
        "outputId": "0f082f67-9b7f-4aa8-9462-dd500b738e52"
      },
      "source": [
        "features = X_train.columns\n",
        "n = len(features)\n",
        "print(f'Number of features: {n:,.0f}')"
      ],
      "execution_count": 117,
      "outputs": [
        {
          "output_type": "stream",
          "text": [
            "Number of features: 18\n"
          ],
          "name": "stdout"
        }
      ]
    },
    {
      "cell_type": "code",
      "metadata": {
        "id": "7NCsaDUO9D89",
        "colab_type": "code",
        "colab": {
          "base_uri": "https://localhost:8080/",
          "height": 34
        },
        "outputId": "d3f0e814-432d-426c-e0b8-4e72dd1002b8"
      },
      "source": [
        "# How many ways to choose 1 to n features?\n",
        "from math import factorial\n",
        "\n",
        "def n_choose_k(n, k):\n",
        "    return factorial(n)/(factorial(k)*factorial(n-k))\n",
        "\n",
        "combinations = sum(n_choose_k(n,k) for k in range(1,n+1))\n",
        "print(f'Every possible combination of \"features\" : {combinations:,.0f}')"
      ],
      "execution_count": 118,
      "outputs": [
        {
          "output_type": "stream",
          "text": [
            "Every possible combination of \"features\" : 262,143\n"
          ],
          "name": "stdout"
        }
      ]
    },
    {
      "cell_type": "code",
      "metadata": {
        "id": "KYP7g5JZErtG",
        "colab_type": "code",
        "colab": {}
      },
      "source": [
        "# y_train\n",
        "# y_test\n",
        "X_train.drop('EASE-MENT', axis=1, inplace=True)\n",
        "X_test.drop('EASE-MENT', axis=1, inplace=True)\n",
        "X_train_select = X_train.select_dtypes(include='number')\n",
        "X_test_select = X_test.select_dtypes(include='number')"
      ],
      "execution_count": null,
      "outputs": []
    },
    {
      "cell_type": "code",
      "metadata": {
        "id": "E8W9TT15AzQG",
        "colab_type": "code",
        "colab": {
          "base_uri": "https://localhost:8080/",
          "height": 52
        },
        "outputId": "eee99816-d244-4eb0-f74a-e7ff956d5700"
      },
      "source": [
        "X_train['BUILDING_CLASS_CATEGORY'].value_counts()"
      ],
      "execution_count": 122,
      "outputs": [
        {
          "output_type": "execute_result",
          "data": {
            "text/plain": [
              "01 ONE FAMILY DWELLINGS    2505\n",
              "Name: BUILDING_CLASS_CATEGORY, dtype: int64"
            ]
          },
          "metadata": {
            "tags": []
          },
          "execution_count": 122
        }
      ]
    },
    {
      "cell_type": "code",
      "metadata": {
        "id": "mgbP1_cH6bYr",
        "colab_type": "code",
        "colab": {
          "base_uri": "https://localhost:8080/",
          "height": 380
        },
        "outputId": "c45d4d59-2c23-486d-cb66-0583359a31bf"
      },
      "source": [
        "# Select the 6 features that best correlate with the target\n",
        "# SelectKBest has a similar API to what we've seen before.\n",
        "\n",
        "from sklearn.feature_selection import f_regression, SelectKBest\n",
        "\n",
        "selector = SelectKBest(score_func=f_regression, k=6)\n",
        "# First parameter to set is how many features you need that correlate with target.\n",
        "\n",
        "#X_train.drop('NEIGHBORHOOD', axis=1, inplace=True)\n",
        "#X_test.drop('NEIGHBORHOOD', axis=1, inplace=True)\n",
        "\n",
        "# IMPORTANT!\n",
        "# .fit_transform() on the train set\n",
        "# .transform() on test set\n",
        "X_train_selected = selector.fit_transform(X_train, y_train)\n",
        "X_test_selected = selector.transform(X_test)\n",
        "X_train_selected.shape, X_test_selected.shape\n"
      ],
      "execution_count": 130,
      "outputs": [
        {
          "output_type": "error",
          "ename": "ValueError",
          "evalue": "ignored",
          "traceback": [
            "\u001b[0;31m---------------------------------------------------------------------------\u001b[0m",
            "\u001b[0;31mValueError\u001b[0m                                Traceback (most recent call last)",
            "\u001b[0;32m<ipython-input-130-54fda9703f1e>\u001b[0m in \u001b[0;36m<module>\u001b[0;34m()\u001b[0m\n\u001b[1;32m     13\u001b[0m \u001b[0;31m# .fit_transform() on the train set\u001b[0m\u001b[0;34m\u001b[0m\u001b[0;34m\u001b[0m\u001b[0;34m\u001b[0m\u001b[0m\n\u001b[1;32m     14\u001b[0m \u001b[0;31m# .transform() on test set\u001b[0m\u001b[0;34m\u001b[0m\u001b[0;34m\u001b[0m\u001b[0;34m\u001b[0m\u001b[0m\n\u001b[0;32m---> 15\u001b[0;31m \u001b[0mX_train_selected\u001b[0m \u001b[0;34m=\u001b[0m \u001b[0mselector\u001b[0m\u001b[0;34m.\u001b[0m\u001b[0mfit_transform\u001b[0m\u001b[0;34m(\u001b[0m\u001b[0mX_train\u001b[0m\u001b[0;34m,\u001b[0m \u001b[0my_train\u001b[0m\u001b[0;34m)\u001b[0m\u001b[0;34m\u001b[0m\u001b[0;34m\u001b[0m\u001b[0m\n\u001b[0m\u001b[1;32m     16\u001b[0m \u001b[0mX_test_selected\u001b[0m \u001b[0;34m=\u001b[0m \u001b[0mselector\u001b[0m\u001b[0;34m.\u001b[0m\u001b[0mtransform\u001b[0m\u001b[0;34m(\u001b[0m\u001b[0mX_test\u001b[0m\u001b[0;34m)\u001b[0m\u001b[0;34m\u001b[0m\u001b[0;34m\u001b[0m\u001b[0m\n\u001b[1;32m     17\u001b[0m \u001b[0mX_train_selected\u001b[0m\u001b[0;34m.\u001b[0m\u001b[0mshape\u001b[0m\u001b[0;34m,\u001b[0m \u001b[0mX_test_selected\u001b[0m\u001b[0;34m.\u001b[0m\u001b[0mshape\u001b[0m\u001b[0;34m\u001b[0m\u001b[0;34m\u001b[0m\u001b[0m\n",
            "\u001b[0;32m/usr/local/lib/python3.6/dist-packages/sklearn/base.py\u001b[0m in \u001b[0;36mfit_transform\u001b[0;34m(self, X, y, **fit_params)\u001b[0m\n\u001b[1;32m    572\u001b[0m         \u001b[0;32melse\u001b[0m\u001b[0;34m:\u001b[0m\u001b[0;34m\u001b[0m\u001b[0;34m\u001b[0m\u001b[0m\n\u001b[1;32m    573\u001b[0m             \u001b[0;31m# fit method of arity 2 (supervised transformation)\u001b[0m\u001b[0;34m\u001b[0m\u001b[0;34m\u001b[0m\u001b[0;34m\u001b[0m\u001b[0m\n\u001b[0;32m--> 574\u001b[0;31m             \u001b[0;32mreturn\u001b[0m \u001b[0mself\u001b[0m\u001b[0;34m.\u001b[0m\u001b[0mfit\u001b[0m\u001b[0;34m(\u001b[0m\u001b[0mX\u001b[0m\u001b[0;34m,\u001b[0m \u001b[0my\u001b[0m\u001b[0;34m,\u001b[0m \u001b[0;34m**\u001b[0m\u001b[0mfit_params\u001b[0m\u001b[0;34m)\u001b[0m\u001b[0;34m.\u001b[0m\u001b[0mtransform\u001b[0m\u001b[0;34m(\u001b[0m\u001b[0mX\u001b[0m\u001b[0;34m)\u001b[0m\u001b[0;34m\u001b[0m\u001b[0;34m\u001b[0m\u001b[0m\n\u001b[0m\u001b[1;32m    575\u001b[0m \u001b[0;34m\u001b[0m\u001b[0m\n\u001b[1;32m    576\u001b[0m \u001b[0;34m\u001b[0m\u001b[0m\n",
            "\u001b[0;32m/usr/local/lib/python3.6/dist-packages/sklearn/feature_selection/_univariate_selection.py\u001b[0m in \u001b[0;36mfit\u001b[0;34m(self, X, y)\u001b[0m\n\u001b[1;32m    339\u001b[0m         \u001b[0mself\u001b[0m \u001b[0;34m:\u001b[0m \u001b[0mobject\u001b[0m\u001b[0;34m\u001b[0m\u001b[0;34m\u001b[0m\u001b[0m\n\u001b[1;32m    340\u001b[0m         \"\"\"\n\u001b[0;32m--> 341\u001b[0;31m         \u001b[0mX\u001b[0m\u001b[0;34m,\u001b[0m \u001b[0my\u001b[0m \u001b[0;34m=\u001b[0m \u001b[0mcheck_X_y\u001b[0m\u001b[0;34m(\u001b[0m\u001b[0mX\u001b[0m\u001b[0;34m,\u001b[0m \u001b[0my\u001b[0m\u001b[0;34m,\u001b[0m \u001b[0;34m[\u001b[0m\u001b[0;34m'csr'\u001b[0m\u001b[0;34m,\u001b[0m \u001b[0;34m'csc'\u001b[0m\u001b[0;34m]\u001b[0m\u001b[0;34m,\u001b[0m \u001b[0mmulti_output\u001b[0m\u001b[0;34m=\u001b[0m\u001b[0;32mTrue\u001b[0m\u001b[0;34m)\u001b[0m\u001b[0;34m\u001b[0m\u001b[0;34m\u001b[0m\u001b[0m\n\u001b[0m\u001b[1;32m    342\u001b[0m \u001b[0;34m\u001b[0m\u001b[0m\n\u001b[1;32m    343\u001b[0m         \u001b[0;32mif\u001b[0m \u001b[0;32mnot\u001b[0m \u001b[0mcallable\u001b[0m\u001b[0;34m(\u001b[0m\u001b[0mself\u001b[0m\u001b[0;34m.\u001b[0m\u001b[0mscore_func\u001b[0m\u001b[0;34m)\u001b[0m\u001b[0;34m:\u001b[0m\u001b[0;34m\u001b[0m\u001b[0;34m\u001b[0m\u001b[0m\n",
            "\u001b[0;32m/usr/local/lib/python3.6/dist-packages/sklearn/utils/validation.py\u001b[0m in \u001b[0;36mcheck_X_y\u001b[0;34m(X, y, accept_sparse, accept_large_sparse, dtype, order, copy, force_all_finite, ensure_2d, allow_nd, multi_output, ensure_min_samples, ensure_min_features, y_numeric, warn_on_dtype, estimator)\u001b[0m\n\u001b[1;32m    753\u001b[0m                     \u001b[0mensure_min_features\u001b[0m\u001b[0;34m=\u001b[0m\u001b[0mensure_min_features\u001b[0m\u001b[0;34m,\u001b[0m\u001b[0;34m\u001b[0m\u001b[0;34m\u001b[0m\u001b[0m\n\u001b[1;32m    754\u001b[0m                     \u001b[0mwarn_on_dtype\u001b[0m\u001b[0;34m=\u001b[0m\u001b[0mwarn_on_dtype\u001b[0m\u001b[0;34m,\u001b[0m\u001b[0;34m\u001b[0m\u001b[0;34m\u001b[0m\u001b[0m\n\u001b[0;32m--> 755\u001b[0;31m                     estimator=estimator)\n\u001b[0m\u001b[1;32m    756\u001b[0m     \u001b[0;32mif\u001b[0m \u001b[0mmulti_output\u001b[0m\u001b[0;34m:\u001b[0m\u001b[0;34m\u001b[0m\u001b[0;34m\u001b[0m\u001b[0m\n\u001b[1;32m    757\u001b[0m         y = check_array(y, 'csr', force_all_finite=True, ensure_2d=False,\n",
            "\u001b[0;32m/usr/local/lib/python3.6/dist-packages/sklearn/utils/validation.py\u001b[0m in \u001b[0;36mcheck_array\u001b[0;34m(array, accept_sparse, accept_large_sparse, dtype, order, copy, force_all_finite, ensure_2d, allow_nd, ensure_min_samples, ensure_min_features, warn_on_dtype, estimator)\u001b[0m\n\u001b[1;32m    529\u001b[0m                     \u001b[0marray\u001b[0m \u001b[0;34m=\u001b[0m \u001b[0marray\u001b[0m\u001b[0;34m.\u001b[0m\u001b[0mastype\u001b[0m\u001b[0;34m(\u001b[0m\u001b[0mdtype\u001b[0m\u001b[0;34m,\u001b[0m \u001b[0mcasting\u001b[0m\u001b[0;34m=\u001b[0m\u001b[0;34m\"unsafe\"\u001b[0m\u001b[0;34m,\u001b[0m \u001b[0mcopy\u001b[0m\u001b[0;34m=\u001b[0m\u001b[0;32mFalse\u001b[0m\u001b[0;34m)\u001b[0m\u001b[0;34m\u001b[0m\u001b[0;34m\u001b[0m\u001b[0m\n\u001b[1;32m    530\u001b[0m                 \u001b[0;32melse\u001b[0m\u001b[0;34m:\u001b[0m\u001b[0;34m\u001b[0m\u001b[0;34m\u001b[0m\u001b[0m\n\u001b[0;32m--> 531\u001b[0;31m                     \u001b[0marray\u001b[0m \u001b[0;34m=\u001b[0m \u001b[0mnp\u001b[0m\u001b[0;34m.\u001b[0m\u001b[0masarray\u001b[0m\u001b[0;34m(\u001b[0m\u001b[0marray\u001b[0m\u001b[0;34m,\u001b[0m \u001b[0morder\u001b[0m\u001b[0;34m=\u001b[0m\u001b[0morder\u001b[0m\u001b[0;34m,\u001b[0m \u001b[0mdtype\u001b[0m\u001b[0;34m=\u001b[0m\u001b[0mdtype\u001b[0m\u001b[0;34m)\u001b[0m\u001b[0;34m\u001b[0m\u001b[0;34m\u001b[0m\u001b[0m\n\u001b[0m\u001b[1;32m    532\u001b[0m             \u001b[0;32mexcept\u001b[0m \u001b[0mComplexWarning\u001b[0m\u001b[0;34m:\u001b[0m\u001b[0;34m\u001b[0m\u001b[0;34m\u001b[0m\u001b[0m\n\u001b[1;32m    533\u001b[0m                 raise ValueError(\"Complex data not supported\\n\"\n",
            "\u001b[0;32m/usr/local/lib/python3.6/dist-packages/numpy/core/_asarray.py\u001b[0m in \u001b[0;36masarray\u001b[0;34m(a, dtype, order)\u001b[0m\n\u001b[1;32m     83\u001b[0m \u001b[0;34m\u001b[0m\u001b[0m\n\u001b[1;32m     84\u001b[0m     \"\"\"\n\u001b[0;32m---> 85\u001b[0;31m     \u001b[0;32mreturn\u001b[0m \u001b[0marray\u001b[0m\u001b[0;34m(\u001b[0m\u001b[0ma\u001b[0m\u001b[0;34m,\u001b[0m \u001b[0mdtype\u001b[0m\u001b[0;34m,\u001b[0m \u001b[0mcopy\u001b[0m\u001b[0;34m=\u001b[0m\u001b[0;32mFalse\u001b[0m\u001b[0;34m,\u001b[0m \u001b[0morder\u001b[0m\u001b[0;34m=\u001b[0m\u001b[0morder\u001b[0m\u001b[0;34m)\u001b[0m\u001b[0;34m\u001b[0m\u001b[0;34m\u001b[0m\u001b[0m\n\u001b[0m\u001b[1;32m     86\u001b[0m \u001b[0;34m\u001b[0m\u001b[0m\n\u001b[1;32m     87\u001b[0m \u001b[0;34m\u001b[0m\u001b[0m\n",
            "\u001b[0;31mValueError\u001b[0m: could not convert string to float: '01 ONE FAMILY DWELLINGS'"
          ]
        }
      ]
    },
    {
      "cell_type": "code",
      "metadata": {
        "id": "x1nKvHoW_AIS",
        "colab_type": "code",
        "colab": {}
      },
      "source": [
        ""
      ],
      "execution_count": null,
      "outputs": []
    },
    {
      "cell_type": "code",
      "metadata": {
        "id": "agCkA4fn7vPX",
        "colab_type": "code",
        "colab": {}
      },
      "source": [
        "### Which features were selected?\n",
        "all_names = X_train.columns\n",
        "selected_mask = selector.get_support()\n",
        "selected_names = all_names[selected_mask]\n",
        "unselected_names = all_names[~selected_mask]\n",
        "\n",
        "print('Features selected:')\n",
        "for name in selected_names:\n",
        "    print(name)\n",
        "\n",
        "print('\\n')\n",
        "print('Features not selected:')\n",
        "for name in unselected_names:\n",
        "    print(name)"
      ],
      "execution_count": null,
      "outputs": []
    },
    {
      "cell_type": "code",
      "metadata": {
        "id": "DngBPLCo7vc-",
        "colab_type": "code",
        "colab": {}
      },
      "source": [
        "### How many features should be selected?\n",
        "### You can try a range of values for k,\n",
        "### then choose the model with the best score.\n",
        "### If multiple models \"tie\" for the best score,\n",
        "### choose the simplest model.\n",
        "### You decide what counts as a tie!\n",
        "\n",
        "from sklearn.linear_model import LinearRegression\n",
        "from sklearn.metrics import mean_absolute_error\n",
        "\n",
        "for k in range(1, len(X_train.columns)+1):\n",
        "\n",
        "    print(f'{k} features')\n",
        "\n",
        "    selector = SelectKBest(score_func=f_regression, k=k)\n",
        "    X_train_selected = selector.fit_transform(X_train, y_train)\n",
        "    X_test_selected = selector.transform(X_test)\n",
        "\n",
        "    model = LinearRegression()\n",
        "    model.fit(X_train_selected, y_train)\n",
        "    y_pred = model.predict(X_test_selected)\n",
        "\n",
        "    mae = mean_absolute_error(y_test, y_pred)\n",
        "    print(f'Test MAE: ${mae:,.0f} \\n')"
      ],
      "execution_count": null,
      "outputs": []
    },
    {
      "cell_type": "code",
      "metadata": {
        "id": "DJfgqNbR7vKW",
        "colab_type": "code",
        "colab": {}
      },
      "source": [
        ""
      ],
      "execution_count": null,
      "outputs": []
    },
    {
      "cell_type": "markdown",
      "metadata": {
        "id": "M4ARA_KfAa-7",
        "colab_type": "text"
      },
      "source": [
        "## Stretch Goals\n",
        "\n",
        "Don't worry, you aren't expected to do all these stretch goals! These are just ideas to consider and choose from.\n",
        "\n",
        "- [ ] Add your own stretch goal(s) !\n",
        "- [ ] Instead of `Ridge`, try `LinearRegression`. Depending on how many features you select, your errors will probably blow up! 💥\n",
        "- [ ] Instead of `Ridge`, try [`RidgeCV`](https://scikit-learn.org/stable/modules/generated/sklearn.linear_model.RidgeCV.html).\n",
        "- [ ] Learn more about feature selection:\n",
        "    - [\"Permutation importance\"](https://www.kaggle.com/dansbecker/permutation-importance)\n",
        "    - [scikit-learn's User Guide for Feature Selection](https://scikit-learn.org/stable/modules/feature_selection.html)\n",
        "    - [mlxtend](http://rasbt.github.io/mlxtend/) library\n",
        "    - scikit-learn-contrib libraries: [boruta_py](https://github.com/scikit-learn-contrib/boruta_py) & [stability-selection](https://github.com/scikit-learn-contrib/stability-selection)\n",
        "    - [_Feature Engineering and Selection_](http://www.feat.engineering/) by Kuhn & Johnson.\n",
        "- [ ] Try [statsmodels](https://www.statsmodels.org/stable/index.html) if you’re interested in more inferential statistical approach to linear regression and feature selection, looking at p values and 95% confidence intervals for the coefficients.\n",
        "- [ ] Read [_An Introduction to Statistical Learning_](http://faculty.marshall.usc.edu/gareth-james/ISL/ISLR%20Seventh%20Printing.pdf), Chapters 1-3, for more math & theory, but in an accessible, readable way.\n",
        "- [ ] Try [scikit-learn pipelines](https://scikit-learn.org/stable/modules/compose.html)."
      ]
    }
  ]
}