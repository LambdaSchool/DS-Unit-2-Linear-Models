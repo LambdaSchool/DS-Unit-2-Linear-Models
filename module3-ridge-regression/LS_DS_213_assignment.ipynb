{
 "cells": [
  {
   "cell_type": "markdown",
   "metadata": {},
   "source": [
    "Lambda School Data Science\n",
    "\n",
    "*Unit 2, Sprint 1, Module 3*\n",
    "\n",
    "---"
   ]
  },
  {
   "cell_type": "markdown",
   "metadata": {
    "colab_type": "text",
    "id": "7IXUfiQ2UKj6"
   },
   "source": [
    "# Ridge Regression\n",
    "\n",
    "## Assignment\n",
    "\n",
    "We're going back to our other **New York City** real estate dataset. Instead of predicting apartment rents, you'll predict property sales prices.\n",
    "\n",
    "But not just for condos in Tribeca...\n",
    "\n",
    "- [ ] Use a subset of the data where `BUILDING_CLASS_CATEGORY` == `'01 ONE FAMILY DWELLINGS'` and the sale price was more than 100 thousand and less than 2 million.\n",
    "- [ ] Do train/test split. Use data from January — March 2019 to train. Use data from April 2019 to test.\n",
    "- [ ] Do one-hot encoding of categorical features.\n",
    "- [ ] Do feature selection with `SelectKBest`.\n",
    "- [ ] Fit a ridge regression model with multiple features. Use the `normalize=True` parameter (or do [feature scaling](https://scikit-learn.org/stable/modules/preprocessing.html) beforehand — use the scaler's `fit_transform` method with the train set, and the scaler's `transform` method with the test set)\n",
    "- [ ] Get mean absolute error for the test set.\n",
    "- [ ] As always, commit your notebook to your fork of the GitHub repo.\n",
    "\n",
    "The [NYC Department of Finance](https://www1.nyc.gov/site/finance/taxes/property-rolling-sales-data.page) has a glossary of property sales terms and NYC Building Class Code Descriptions. The data comes from the [NYC OpenData](https://data.cityofnewyork.us/browse?q=NYC%20calendar%20sales) portal.\n",
    "\n",
    "\n",
    "## Stretch Goals\n",
    "\n",
    "Don't worry, you aren't expected to do all these stretch goals! These are just ideas to consider and choose from.\n",
    "\n",
    "- [ ] Add your own stretch goal(s) !\n",
    "- [ ] Instead of `Ridge`, try `LinearRegression`. Depending on how many features you select, your errors will probably blow up! 💥\n",
    "- [ ] Instead of `Ridge`, try [`RidgeCV`](https://scikit-learn.org/stable/modules/generated/sklearn.linear_model.RidgeCV.html).\n",
    "- [ ] Learn more about feature selection:\n",
    "    - [\"Permutation importance\"](https://www.kaggle.com/dansbecker/permutation-importance)\n",
    "    - [scikit-learn's User Guide for Feature Selection](https://scikit-learn.org/stable/modules/feature_selection.html)\n",
    "    - [mlxtend](http://rasbt.github.io/mlxtend/) library\n",
    "    - scikit-learn-contrib libraries: [boruta_py](https://github.com/scikit-learn-contrib/boruta_py) & [stability-selection](https://github.com/scikit-learn-contrib/stability-selection)\n",
    "    - [_Feature Engineering and Selection_](http://www.feat.engineering/) by Kuhn & Johnson.\n",
    "- [ ] Try [statsmodels](https://www.statsmodels.org/stable/index.html) if you’re interested in more inferential statistical approach to linear regression and feature selection, looking at p values and 95% confidence intervals for the coefficients.\n",
    "- [ ] Read [_An Introduction to Statistical Learning_](http://faculty.marshall.usc.edu/gareth-james/ISL/ISLR%20Seventh%20Printing.pdf), Chapters 1-3, for more math & theory, but in an accessible, readable way.\n",
    "- [ ] Try [scikit-learn pipelines](https://scikit-learn.org/stable/modules/compose.html)."
   ]
  },
  {
   "cell_type": "code",
   "execution_count": 1,
   "metadata": {
    "colab": {},
    "colab_type": "code",
    "id": "o9eSnDYhUGD7"
   },
   "outputs": [],
   "source": [
    "%%capture\n",
    "import sys\n",
    "\n",
    "DATA_PATH = 'https://raw.githubusercontent.com/LambdaSchool/DS-Unit-2-Applied-Modeling/master/data/'\n",
    "    \n",
    "# Ignore this Numpy warning when using Plotly Express:\n",
    "# FutureWarning: Method .ptp is deprecated and will be removed in a future version. Use numpy.ptp instead.\n",
    "import warnings\n",
    "warnings.filterwarnings(action='ignore', category=FutureWarning, module='numpy')"
   ]
  },
  {
   "cell_type": "code",
   "execution_count": 2,
   "metadata": {
    "colab": {},
    "colab_type": "code",
    "id": "QJBD4ruICm1m"
   },
   "outputs": [],
   "source": [
    "import pandas as pd\n",
    "# import pandas_profiling\n",
    "import numpy as np\n",
    "import matplotlib.pyplot as plt\n",
    "\n",
    "# Read New York City property sales data\n",
    "df = pd.read_csv(DATA_PATH+'condos/NYC_Citywide_Rolling_Calendar_Sales.csv', parse_dates=['SALE DATE'], index_col='SALE DATE')"
   ]
  },
  {
   "cell_type": "code",
   "execution_count": 3,
   "metadata": {},
   "outputs": [],
   "source": [
    "## WRANGLE\n",
    "\n",
    "# Change column names: replace spaces with underscores\n",
    "df.columns = [col.replace(' ', '_') for col in df]\n",
    "\n",
    "# SALE_PRICE was read as strings.\n",
    "# Remove symbols, convert to integer\n",
    "df['SALE_PRICE'] = (\n",
    "    df['SALE_PRICE']\n",
    "    .str.replace('$','')\n",
    "    .str.replace('-','')\n",
    "    .str.replace(',','')\n",
    "    .astype(int)\n",
    ")\n",
    "\n",
    "# BOROUGH is a numeric column, but arguably should be a categorical feature,\n",
    "# so convert it from a number to a string\n",
    "df['BOROUGH'] = df['BOROUGH'].astype(str)\n",
    "\n",
    "\n",
    "# Reduce cardinality for NEIGHBORHOOD feature\n",
    "\n",
    "# Get a list of the top 10 neighborhoods\n",
    "top10 = df['NEIGHBORHOOD'].value_counts()[:10].index\n",
    "\n",
    "# At locations where the neighborhood is NOT in the top 10, \n",
    "# replace the neighborhood with 'OTHER'\n",
    "df.loc[~df['NEIGHBORHOOD'].isin(top10), 'NEIGHBORHOOD'] = 'OTHER'\n",
    "\n",
    "\n",
    "\n",
    "## My WRANGLE additions\n",
    "\n",
    "\n",
    "# Take subset\n",
    "\n",
    "mask1 = df['BUILDING_CLASS_CATEGORY'] == '01 ONE FAMILY DWELLINGS'\n",
    "mask2 = (df['SALE_PRICE'] > 100000) & (df['SALE_PRICE'] < 2000000)\n",
    "\n",
    "df = df[mask1 & mask2]"
   ]
  },
  {
   "cell_type": "code",
   "execution_count": 4,
   "metadata": {},
   "outputs": [
    {
     "name": "stdout",
     "output_type": "stream",
     "text": [
      "<class 'pandas.core.frame.DataFrame'>\n",
      "DatetimeIndex: 3151 entries, 2019-01-01 to 2019-04-30\n",
      "Data columns (total 20 columns):\n",
      " #   Column                          Non-Null Count  Dtype  \n",
      "---  ------                          --------------  -----  \n",
      " 0   BOROUGH                         3151 non-null   object \n",
      " 1   NEIGHBORHOOD                    3151 non-null   object \n",
      " 2   BUILDING_CLASS_CATEGORY         3151 non-null   object \n",
      " 3   TAX_CLASS_AT_PRESENT            3151 non-null   object \n",
      " 4   BLOCK                           3151 non-null   int64  \n",
      " 5   LOT                             3151 non-null   int64  \n",
      " 6   EASE-MENT                       0 non-null      float64\n",
      " 7   BUILDING_CLASS_AT_PRESENT       3151 non-null   object \n",
      " 8   ADDRESS                         3151 non-null   object \n",
      " 9   APARTMENT_NUMBER                1 non-null      object \n",
      " 10  ZIP_CODE                        3151 non-null   float64\n",
      " 11  RESIDENTIAL_UNITS               3151 non-null   float64\n",
      " 12  COMMERCIAL_UNITS                3151 non-null   float64\n",
      " 13  TOTAL_UNITS                     3151 non-null   float64\n",
      " 14  LAND_SQUARE_FEET                3151 non-null   object \n",
      " 15  GROSS_SQUARE_FEET               3151 non-null   float64\n",
      " 16  YEAR_BUILT                      3151 non-null   float64\n",
      " 17  TAX_CLASS_AT_TIME_OF_SALE       3151 non-null   int64  \n",
      " 18  BUILDING_CLASS_AT_TIME_OF_SALE  3151 non-null   object \n",
      " 19  SALE_PRICE                      3151 non-null   int32  \n",
      "dtypes: float64(7), int32(1), int64(3), object(9)\n",
      "memory usage: 504.7+ KB\n"
     ]
    }
   ],
   "source": [
    "# See what else we need to do.\n",
    "\n",
    "df.info()"
   ]
  },
  {
   "cell_type": "code",
   "execution_count": 5,
   "metadata": {},
   "outputs": [],
   "source": [
    "# Drop useless columns\n",
    "\n",
    "df = df.drop(columns=['EASE-MENT', 'APARTMENT_NUMBER', 'ADDRESS'])\n",
    "\n",
    "\n",
    "# Convert other false-numerical columns to strings\n",
    "\n",
    "df['ZIP_CODE'] = df['ZIP_CODE'].astype(str)\n",
    "df['TAX_CLASS_AT_TIME_OF_SALE'] = df['TAX_CLASS_AT_TIME_OF_SALE'].astype(str)\n",
    "\n",
    "\n",
    "# LAND_SQUARE_FEET should be a number. I realized there were commas\n",
    "# which were throwing it off.\n",
    "\n",
    "df['LAND_SQUARE_FEET'] = df['LAND_SQUARE_FEET'].str.replace(',','').astype(float)"
   ]
  },
  {
   "cell_type": "code",
   "execution_count": 6,
   "metadata": {},
   "outputs": [
    {
     "name": "stdout",
     "output_type": "stream",
     "text": [
      "<class 'pandas.core.frame.DataFrame'>\n",
      "DatetimeIndex: 3151 entries, 2019-01-01 to 2019-04-30\n",
      "Data columns (total 17 columns):\n",
      " #   Column                          Non-Null Count  Dtype  \n",
      "---  ------                          --------------  -----  \n",
      " 0   BOROUGH                         3151 non-null   object \n",
      " 1   NEIGHBORHOOD                    3151 non-null   object \n",
      " 2   BUILDING_CLASS_CATEGORY         3151 non-null   object \n",
      " 3   TAX_CLASS_AT_PRESENT            3151 non-null   object \n",
      " 4   BLOCK                           3151 non-null   int64  \n",
      " 5   LOT                             3151 non-null   int64  \n",
      " 6   BUILDING_CLASS_AT_PRESENT       3151 non-null   object \n",
      " 7   ZIP_CODE                        3151 non-null   object \n",
      " 8   RESIDENTIAL_UNITS               3151 non-null   float64\n",
      " 9   COMMERCIAL_UNITS                3151 non-null   float64\n",
      " 10  TOTAL_UNITS                     3151 non-null   float64\n",
      " 11  LAND_SQUARE_FEET                3151 non-null   float64\n",
      " 12  GROSS_SQUARE_FEET               3151 non-null   float64\n",
      " 13  YEAR_BUILT                      3151 non-null   float64\n",
      " 14  TAX_CLASS_AT_TIME_OF_SALE       3151 non-null   object \n",
      " 15  BUILDING_CLASS_AT_TIME_OF_SALE  3151 non-null   object \n",
      " 16  SALE_PRICE                      3151 non-null   int32  \n",
      "dtypes: float64(6), int32(1), int64(2), object(8)\n",
      "memory usage: 430.8+ KB\n"
     ]
    }
   ],
   "source": [
    "df.info()"
   ]
  },
  {
   "cell_type": "code",
   "execution_count": 7,
   "metadata": {},
   "outputs": [
    {
     "data": {
      "image/png": "[encoded data removed]",
      "text/plain": [
       "<Figure size 432x288 with 1 Axes>"
      ]
     },
     "metadata": {
      "needs_background": "light"
     },
     "output_type": "display_data"
    }
   ],
   "source": [
    "## Wasn't sure if LOT and BLOCK were supposed to be numerical, so\n",
    "## I did some quick graphs.\n",
    "\n",
    "plt.scatter(df['LOT'], df['SALE_PRICE'], alpha=.1)\n",
    "plt.xlabel('Lot #')\n",
    "plt.ylabel('Sale price')\n",
    "plt.show()"
   ]
  },
  {
   "cell_type": "code",
   "execution_count": 8,
   "metadata": {},
   "outputs": [
    {
     "data": {
      "image/png": "[encoded data removed]",
      "text/plain": [
       "<Figure size 432x288 with 1 Axes>"
      ]
     },
     "metadata": {
      "needs_background": "light"
     },
     "output_type": "display_data"
    }
   ],
   "source": [
    "plt.scatter(df['BLOCK'], df['SALE_PRICE'], alpha=.1)\n",
    "plt.xlabel('Block #')\n",
    "plt.ylabel('Sale price')\n",
    "plt.show()"
   ]
  },
  {
   "cell_type": "code",
   "execution_count": 9,
   "metadata": {},
   "outputs": [],
   "source": [
    "## There seem to be some (very weak) relationships, so I'll keep\n",
    "## them numerical."
   ]
  },
  {
   "cell_type": "code",
   "execution_count": 10,
   "metadata": {},
   "outputs": [],
   "source": [
    "## NOW split into features and target!\n",
    "\n",
    "y = df['SALE_PRICE']\n",
    "X = df.drop(columns='SALE_PRICE')"
   ]
  },
  {
   "cell_type": "code",
   "execution_count": 11,
   "metadata": {},
   "outputs": [
    {
     "data": {
      "text/plain": [
       "BOROUGH                             5\n",
       "NEIGHBORHOOD                        6\n",
       "BUILDING_CLASS_CATEGORY             1\n",
       "TAX_CLASS_AT_PRESENT                2\n",
       "BUILDING_CLASS_AT_PRESENT          13\n",
       "ZIP_CODE                          125\n",
       "TAX_CLASS_AT_TIME_OF_SALE           1\n",
       "BUILDING_CLASS_AT_TIME_OF_SALE     11\n",
       "dtype: int64"
      ]
     },
     "execution_count": 11,
     "metadata": {},
     "output_type": "execute_result"
    }
   ],
   "source": [
    "## Check for high cardinality in the cats\n",
    "\n",
    "X.select_dtypes('object').nunique()"
   ]
  },
  {
   "cell_type": "code",
   "execution_count": 12,
   "metadata": {},
   "outputs": [],
   "source": [
    "## ZIP_CODE is probably too high to be useful. Let's drop it. Also,\n",
    "## BUILDING_CLASS_CATEGORY and TAX_CLASS_AT_TIME_OF_SALE are both \n",
    "## constant (only one unique value), so they contain no information.\n",
    "\n",
    "X = X.drop(columns=['ZIP_CODE', 'BUILDING_CLASS_CATEGORY', 'TAX_CLASS_AT_TIME_OF_SALE'])"
   ]
  },
  {
   "cell_type": "code",
   "execution_count": 13,
   "metadata": {},
   "outputs": [],
   "source": [
    "## Split into train and test sets\n",
    "\n",
    "mask3 = df.index.month < 4\n",
    "\n",
    "X_train, y_train = X[mask3], y[mask3]\n",
    "X_test, y_test = X[~mask3], y[~mask3]"
   ]
  },
  {
   "cell_type": "code",
   "execution_count": 14,
   "metadata": {},
   "outputs": [],
   "source": [
    "## One Hot our train set!\n",
    "\n",
    "from category_encoders import OneHotEncoder"
   ]
  },
  {
   "cell_type": "code",
   "execution_count": 15,
   "metadata": {},
   "outputs": [
    {
     "name": "stderr",
     "output_type": "stream",
     "text": [
      "c:\\users\\benjs\\opencv\\lib\\site-packages\\category_encoders\\utils.py:21: FutureWarning: is_categorical is deprecated and will be removed in a future version.  Use is_categorical_dtype instead\n",
      "  elif pd.api.types.is_categorical(cols):\n"
     ]
    },
    {
     "data": {
      "text/html": [
       "<div>\n",
       "<style scoped>\n",
       "    .dataframe tbody tr th:only-of-type {\n",
       "        vertical-align: middle;\n",
       "    }\n",
       "\n",
       "    .dataframe tbody tr th {\n",
       "        vertical-align: top;\n",
       "    }\n",
       "\n",
       "    .dataframe thead th {\n",
       "        text-align: right;\n",
       "    }\n",
       "</style>\n",
       "<table border=\"1\" class=\"dataframe\">\n",
       "  <thead>\n",
       "    <tr style=\"text-align: right;\">\n",
       "      <th></th>\n",
       "      <th>BOROUGH_3</th>\n",
       "      <th>BOROUGH_4</th>\n",
       "      <th>BOROUGH_2</th>\n",
       "      <th>BOROUGH_5</th>\n",
       "      <th>BOROUGH_1</th>\n",
       "      <th>NEIGHBORHOOD_OTHER</th>\n",
       "      <th>NEIGHBORHOOD_FLUSHING-NORTH</th>\n",
       "      <th>NEIGHBORHOOD_BEDFORD STUYVESANT</th>\n",
       "      <th>NEIGHBORHOOD_FOREST HILLS</th>\n",
       "      <th>NEIGHBORHOOD_BOROUGH PARK</th>\n",
       "      <th>...</th>\n",
       "      <th>BUILDING_CLASS_AT_TIME_OF_SALE_A1</th>\n",
       "      <th>BUILDING_CLASS_AT_TIME_OF_SALE_A5</th>\n",
       "      <th>BUILDING_CLASS_AT_TIME_OF_SALE_A0</th>\n",
       "      <th>BUILDING_CLASS_AT_TIME_OF_SALE_A2</th>\n",
       "      <th>BUILDING_CLASS_AT_TIME_OF_SALE_A3</th>\n",
       "      <th>BUILDING_CLASS_AT_TIME_OF_SALE_S1</th>\n",
       "      <th>BUILDING_CLASS_AT_TIME_OF_SALE_A4</th>\n",
       "      <th>BUILDING_CLASS_AT_TIME_OF_SALE_A6</th>\n",
       "      <th>BUILDING_CLASS_AT_TIME_OF_SALE_A8</th>\n",
       "      <th>BUILDING_CLASS_AT_TIME_OF_SALE_S0</th>\n",
       "    </tr>\n",
       "    <tr>\n",
       "      <th>SALE DATE</th>\n",
       "      <th></th>\n",
       "      <th></th>\n",
       "      <th></th>\n",
       "      <th></th>\n",
       "      <th></th>\n",
       "      <th></th>\n",
       "      <th></th>\n",
       "      <th></th>\n",
       "      <th></th>\n",
       "      <th></th>\n",
       "      <th></th>\n",
       "      <th></th>\n",
       "      <th></th>\n",
       "      <th></th>\n",
       "      <th></th>\n",
       "      <th></th>\n",
       "      <th></th>\n",
       "      <th></th>\n",
       "      <th></th>\n",
       "      <th></th>\n",
       "      <th></th>\n",
       "    </tr>\n",
       "  </thead>\n",
       "  <tbody>\n",
       "    <tr>\n",
       "      <th>2019-01-01</th>\n",
       "      <td>1</td>\n",
       "      <td>0</td>\n",
       "      <td>0</td>\n",
       "      <td>0</td>\n",
       "      <td>0</td>\n",
       "      <td>1</td>\n",
       "      <td>0</td>\n",
       "      <td>0</td>\n",
       "      <td>0</td>\n",
       "      <td>0</td>\n",
       "      <td>...</td>\n",
       "      <td>0</td>\n",
       "      <td>0</td>\n",
       "      <td>0</td>\n",
       "      <td>0</td>\n",
       "      <td>0</td>\n",
       "      <td>0</td>\n",
       "      <td>0</td>\n",
       "      <td>0</td>\n",
       "      <td>0</td>\n",
       "      <td>0</td>\n",
       "    </tr>\n",
       "    <tr>\n",
       "      <th>2019-01-01</th>\n",
       "      <td>0</td>\n",
       "      <td>1</td>\n",
       "      <td>0</td>\n",
       "      <td>0</td>\n",
       "      <td>0</td>\n",
       "      <td>1</td>\n",
       "      <td>0</td>\n",
       "      <td>0</td>\n",
       "      <td>0</td>\n",
       "      <td>0</td>\n",
       "      <td>...</td>\n",
       "      <td>1</td>\n",
       "      <td>0</td>\n",
       "      <td>0</td>\n",
       "      <td>0</td>\n",
       "      <td>0</td>\n",
       "      <td>0</td>\n",
       "      <td>0</td>\n",
       "      <td>0</td>\n",
       "      <td>0</td>\n",
       "      <td>0</td>\n",
       "    </tr>\n",
       "    <tr>\n",
       "      <th>2019-01-02</th>\n",
       "      <td>0</td>\n",
       "      <td>0</td>\n",
       "      <td>1</td>\n",
       "      <td>0</td>\n",
       "      <td>0</td>\n",
       "      <td>1</td>\n",
       "      <td>0</td>\n",
       "      <td>0</td>\n",
       "      <td>0</td>\n",
       "      <td>0</td>\n",
       "      <td>...</td>\n",
       "      <td>1</td>\n",
       "      <td>0</td>\n",
       "      <td>0</td>\n",
       "      <td>0</td>\n",
       "      <td>0</td>\n",
       "      <td>0</td>\n",
       "      <td>0</td>\n",
       "      <td>0</td>\n",
       "      <td>0</td>\n",
       "      <td>0</td>\n",
       "    </tr>\n",
       "    <tr>\n",
       "      <th>2019-01-02</th>\n",
       "      <td>1</td>\n",
       "      <td>0</td>\n",
       "      <td>0</td>\n",
       "      <td>0</td>\n",
       "      <td>0</td>\n",
       "      <td>1</td>\n",
       "      <td>0</td>\n",
       "      <td>0</td>\n",
       "      <td>0</td>\n",
       "      <td>0</td>\n",
       "      <td>...</td>\n",
       "      <td>1</td>\n",
       "      <td>0</td>\n",
       "      <td>0</td>\n",
       "      <td>0</td>\n",
       "      <td>0</td>\n",
       "      <td>0</td>\n",
       "      <td>0</td>\n",
       "      <td>0</td>\n",
       "      <td>0</td>\n",
       "      <td>0</td>\n",
       "    </tr>\n",
       "    <tr>\n",
       "      <th>2019-01-02</th>\n",
       "      <td>1</td>\n",
       "      <td>0</td>\n",
       "      <td>0</td>\n",
       "      <td>0</td>\n",
       "      <td>0</td>\n",
       "      <td>1</td>\n",
       "      <td>0</td>\n",
       "      <td>0</td>\n",
       "      <td>0</td>\n",
       "      <td>0</td>\n",
       "      <td>...</td>\n",
       "      <td>0</td>\n",
       "      <td>1</td>\n",
       "      <td>0</td>\n",
       "      <td>0</td>\n",
       "      <td>0</td>\n",
       "      <td>0</td>\n",
       "      <td>0</td>\n",
       "      <td>0</td>\n",
       "      <td>0</td>\n",
       "      <td>0</td>\n",
       "    </tr>\n",
       "  </tbody>\n",
       "</table>\n",
       "<p>5 rows × 45 columns</p>\n",
       "</div>"
      ],
      "text/plain": [
       "            BOROUGH_3  BOROUGH_4  BOROUGH_2  BOROUGH_5  BOROUGH_1  \\\n",
       "SALE DATE                                                           \n",
       "2019-01-01          1          0          0          0          0   \n",
       "2019-01-01          0          1          0          0          0   \n",
       "2019-01-02          0          0          1          0          0   \n",
       "2019-01-02          1          0          0          0          0   \n",
       "2019-01-02          1          0          0          0          0   \n",
       "\n",
       "            NEIGHBORHOOD_OTHER  NEIGHBORHOOD_FLUSHING-NORTH  \\\n",
       "SALE DATE                                                     \n",
       "2019-01-01                   1                            0   \n",
       "2019-01-01                   1                            0   \n",
       "2019-01-02                   1                            0   \n",
       "2019-01-02                   1                            0   \n",
       "2019-01-02                   1                            0   \n",
       "\n",
       "            NEIGHBORHOOD_BEDFORD STUYVESANT  NEIGHBORHOOD_FOREST HILLS  \\\n",
       "SALE DATE                                                                \n",
       "2019-01-01                                0                          0   \n",
       "2019-01-01                                0                          0   \n",
       "2019-01-02                                0                          0   \n",
       "2019-01-02                                0                          0   \n",
       "2019-01-02                                0                          0   \n",
       "\n",
       "            NEIGHBORHOOD_BOROUGH PARK  ...  BUILDING_CLASS_AT_TIME_OF_SALE_A1  \\\n",
       "SALE DATE                              ...                                      \n",
       "2019-01-01                          0  ...                                  0   \n",
       "2019-01-01                          0  ...                                  1   \n",
       "2019-01-02                          0  ...                                  1   \n",
       "2019-01-02                          0  ...                                  1   \n",
       "2019-01-02                          0  ...                                  0   \n",
       "\n",
       "            BUILDING_CLASS_AT_TIME_OF_SALE_A5  \\\n",
       "SALE DATE                                       \n",
       "2019-01-01                                  0   \n",
       "2019-01-01                                  0   \n",
       "2019-01-02                                  0   \n",
       "2019-01-02                                  0   \n",
       "2019-01-02                                  1   \n",
       "\n",
       "            BUILDING_CLASS_AT_TIME_OF_SALE_A0  \\\n",
       "SALE DATE                                       \n",
       "2019-01-01                                  0   \n",
       "2019-01-01                                  0   \n",
       "2019-01-02                                  0   \n",
       "2019-01-02                                  0   \n",
       "2019-01-02                                  0   \n",
       "\n",
       "            BUILDING_CLASS_AT_TIME_OF_SALE_A2  \\\n",
       "SALE DATE                                       \n",
       "2019-01-01                                  0   \n",
       "2019-01-01                                  0   \n",
       "2019-01-02                                  0   \n",
       "2019-01-02                                  0   \n",
       "2019-01-02                                  0   \n",
       "\n",
       "            BUILDING_CLASS_AT_TIME_OF_SALE_A3  \\\n",
       "SALE DATE                                       \n",
       "2019-01-01                                  0   \n",
       "2019-01-01                                  0   \n",
       "2019-01-02                                  0   \n",
       "2019-01-02                                  0   \n",
       "2019-01-02                                  0   \n",
       "\n",
       "            BUILDING_CLASS_AT_TIME_OF_SALE_S1  \\\n",
       "SALE DATE                                       \n",
       "2019-01-01                                  0   \n",
       "2019-01-01                                  0   \n",
       "2019-01-02                                  0   \n",
       "2019-01-02                                  0   \n",
       "2019-01-02                                  0   \n",
       "\n",
       "            BUILDING_CLASS_AT_TIME_OF_SALE_A4  \\\n",
       "SALE DATE                                       \n",
       "2019-01-01                                  0   \n",
       "2019-01-01                                  0   \n",
       "2019-01-02                                  0   \n",
       "2019-01-02                                  0   \n",
       "2019-01-02                                  0   \n",
       "\n",
       "            BUILDING_CLASS_AT_TIME_OF_SALE_A6  \\\n",
       "SALE DATE                                       \n",
       "2019-01-01                                  0   \n",
       "2019-01-01                                  0   \n",
       "2019-01-02                                  0   \n",
       "2019-01-02                                  0   \n",
       "2019-01-02                                  0   \n",
       "\n",
       "            BUILDING_CLASS_AT_TIME_OF_SALE_A8  \\\n",
       "SALE DATE                                       \n",
       "2019-01-01                                  0   \n",
       "2019-01-01                                  0   \n",
       "2019-01-02                                  0   \n",
       "2019-01-02                                  0   \n",
       "2019-01-02                                  0   \n",
       "\n",
       "            BUILDING_CLASS_AT_TIME_OF_SALE_S0  \n",
       "SALE DATE                                      \n",
       "2019-01-01                                  0  \n",
       "2019-01-01                                  0  \n",
       "2019-01-02                                  0  \n",
       "2019-01-02                                  0  \n",
       "2019-01-02                                  0  \n",
       "\n",
       "[5 rows x 45 columns]"
      ]
     },
     "execution_count": 15,
     "metadata": {},
     "output_type": "execute_result"
    }
   ],
   "source": [
    "ohe = OneHotEncoder(use_cat_names=True)\n",
    "XT_train = ohe.fit_transform(X_train)\n",
    "XT_train.head()"
   ]
  },
  {
   "cell_type": "code",
   "execution_count": 16,
   "metadata": {},
   "outputs": [],
   "source": [
    "## Let's select the best features. I don't fully understand what the \n",
    "## first parameter is, but f_regression seemed to be commonly used.\n",
    "\n",
    "from sklearn.feature_selection import SelectKBest, f_regression"
   ]
  },
  {
   "cell_type": "code",
   "execution_count": 17,
   "metadata": {},
   "outputs": [
    {
     "data": {
      "text/plain": [
       "array([ True, False,  True,  True, False,  True,  True, False,  True,\n",
       "       False, False, False, False,  True, False, False, False,  True,\n",
       "       False, False,  True, False, False, False, False, False, False,\n",
       "       False, False,  True,  True,  True,  True, False, False, False,\n",
       "        True, False, False,  True, False, False, False, False, False])"
      ]
     },
     "execution_count": 17,
     "metadata": {},
     "output_type": "execute_result"
    }
   ],
   "source": [
    "## The reason I chose k=15 is because of the simple scree plot below,\n",
    "## which clearly shows that we have just about all the information we\n",
    "## need in the top 15 out of 45 features.\n",
    "\n",
    "kbest = SelectKBest(f_regression, k=15)\n",
    "kbest.fit(XT_train, y_train)\n",
    "kbest.get_support()"
   ]
  },
  {
   "cell_type": "code",
   "execution_count": 18,
   "metadata": {},
   "outputs": [
    {
     "data": {
      "image/png": "[encoded data removed]",
      "text/plain": [
       "<Figure size 432x288 with 1 Axes>"
      ]
     },
     "metadata": {
      "needs_background": "light"
     },
     "output_type": "display_data"
    }
   ],
   "source": [
    "cumulative = np.cumsum(sorted(kbest.pvalues_, reverse=True))\n",
    "\n",
    "plt.bar(x=range(1,46), height=cumulative/cumulative[-1]*100)\n",
    "plt.xticks([5*x for x in range(1,10)])\n",
    "\n",
    "plt.xlabel('features, sorted by predictive power (cumulative)')\n",
    "plt.ylabel('% of predictive information')\n",
    "\n",
    "plt.show()"
   ]
  },
  {
   "cell_type": "code",
   "execution_count": 19,
   "metadata": {},
   "outputs": [
    {
     "data": {
      "text/html": [
       "<div>\n",
       "<style scoped>\n",
       "    .dataframe tbody tr th:only-of-type {\n",
       "        vertical-align: middle;\n",
       "    }\n",
       "\n",
       "    .dataframe tbody tr th {\n",
       "        vertical-align: top;\n",
       "    }\n",
       "\n",
       "    .dataframe thead th {\n",
       "        text-align: right;\n",
       "    }\n",
       "</style>\n",
       "<table border=\"1\" class=\"dataframe\">\n",
       "  <thead>\n",
       "    <tr style=\"text-align: right;\">\n",
       "      <th></th>\n",
       "      <th>BOROUGH_3</th>\n",
       "      <th>BOROUGH_2</th>\n",
       "      <th>BOROUGH_5</th>\n",
       "      <th>NEIGHBORHOOD_OTHER</th>\n",
       "      <th>NEIGHBORHOOD_FLUSHING-NORTH</th>\n",
       "      <th>NEIGHBORHOOD_FOREST HILLS</th>\n",
       "      <th>BLOCK</th>\n",
       "      <th>BUILDING_CLASS_AT_PRESENT_A5</th>\n",
       "      <th>BUILDING_CLASS_AT_PRESENT_A3</th>\n",
       "      <th>COMMERCIAL_UNITS</th>\n",
       "      <th>TOTAL_UNITS</th>\n",
       "      <th>LAND_SQUARE_FEET</th>\n",
       "      <th>GROSS_SQUARE_FEET</th>\n",
       "      <th>BUILDING_CLASS_AT_TIME_OF_SALE_A5</th>\n",
       "      <th>BUILDING_CLASS_AT_TIME_OF_SALE_A3</th>\n",
       "    </tr>\n",
       "    <tr>\n",
       "      <th>SALE DATE</th>\n",
       "      <th></th>\n",
       "      <th></th>\n",
       "      <th></th>\n",
       "      <th></th>\n",
       "      <th></th>\n",
       "      <th></th>\n",
       "      <th></th>\n",
       "      <th></th>\n",
       "      <th></th>\n",
       "      <th></th>\n",
       "      <th></th>\n",
       "      <th></th>\n",
       "      <th></th>\n",
       "      <th></th>\n",
       "      <th></th>\n",
       "    </tr>\n",
       "  </thead>\n",
       "  <tbody>\n",
       "    <tr>\n",
       "      <th>2019-01-01</th>\n",
       "      <td>1</td>\n",
       "      <td>0</td>\n",
       "      <td>0</td>\n",
       "      <td>1</td>\n",
       "      <td>0</td>\n",
       "      <td>0</td>\n",
       "      <td>5495</td>\n",
       "      <td>0</td>\n",
       "      <td>0</td>\n",
       "      <td>0.0</td>\n",
       "      <td>1.0</td>\n",
       "      <td>6800.0</td>\n",
       "      <td>1325.0</td>\n",
       "      <td>0</td>\n",
       "      <td>0</td>\n",
       "    </tr>\n",
       "    <tr>\n",
       "      <th>2019-01-01</th>\n",
       "      <td>0</td>\n",
       "      <td>0</td>\n",
       "      <td>0</td>\n",
       "      <td>1</td>\n",
       "      <td>0</td>\n",
       "      <td>0</td>\n",
       "      <td>7918</td>\n",
       "      <td>0</td>\n",
       "      <td>0</td>\n",
       "      <td>0.0</td>\n",
       "      <td>1.0</td>\n",
       "      <td>4000.0</td>\n",
       "      <td>2001.0</td>\n",
       "      <td>0</td>\n",
       "      <td>0</td>\n",
       "    </tr>\n",
       "    <tr>\n",
       "      <th>2019-01-02</th>\n",
       "      <td>0</td>\n",
       "      <td>1</td>\n",
       "      <td>0</td>\n",
       "      <td>1</td>\n",
       "      <td>0</td>\n",
       "      <td>0</td>\n",
       "      <td>4210</td>\n",
       "      <td>0</td>\n",
       "      <td>0</td>\n",
       "      <td>0.0</td>\n",
       "      <td>1.0</td>\n",
       "      <td>3500.0</td>\n",
       "      <td>2043.0</td>\n",
       "      <td>0</td>\n",
       "      <td>0</td>\n",
       "    </tr>\n",
       "    <tr>\n",
       "      <th>2019-01-02</th>\n",
       "      <td>1</td>\n",
       "      <td>0</td>\n",
       "      <td>0</td>\n",
       "      <td>1</td>\n",
       "      <td>0</td>\n",
       "      <td>0</td>\n",
       "      <td>5212</td>\n",
       "      <td>0</td>\n",
       "      <td>0</td>\n",
       "      <td>0.0</td>\n",
       "      <td>1.0</td>\n",
       "      <td>4000.0</td>\n",
       "      <td>2680.0</td>\n",
       "      <td>0</td>\n",
       "      <td>0</td>\n",
       "    </tr>\n",
       "    <tr>\n",
       "      <th>2019-01-02</th>\n",
       "      <td>1</td>\n",
       "      <td>0</td>\n",
       "      <td>0</td>\n",
       "      <td>1</td>\n",
       "      <td>0</td>\n",
       "      <td>0</td>\n",
       "      <td>7930</td>\n",
       "      <td>1</td>\n",
       "      <td>0</td>\n",
       "      <td>0.0</td>\n",
       "      <td>1.0</td>\n",
       "      <td>1710.0</td>\n",
       "      <td>1872.0</td>\n",
       "      <td>1</td>\n",
       "      <td>0</td>\n",
       "    </tr>\n",
       "  </tbody>\n",
       "</table>\n",
       "</div>"
      ],
      "text/plain": [
       "            BOROUGH_3  BOROUGH_2  BOROUGH_5  NEIGHBORHOOD_OTHER  \\\n",
       "SALE DATE                                                         \n",
       "2019-01-01          1          0          0                   1   \n",
       "2019-01-01          0          0          0                   1   \n",
       "2019-01-02          0          1          0                   1   \n",
       "2019-01-02          1          0          0                   1   \n",
       "2019-01-02          1          0          0                   1   \n",
       "\n",
       "            NEIGHBORHOOD_FLUSHING-NORTH  NEIGHBORHOOD_FOREST HILLS  BLOCK  \\\n",
       "SALE DATE                                                                   \n",
       "2019-01-01                            0                          0   5495   \n",
       "2019-01-01                            0                          0   7918   \n",
       "2019-01-02                            0                          0   4210   \n",
       "2019-01-02                            0                          0   5212   \n",
       "2019-01-02                            0                          0   7930   \n",
       "\n",
       "            BUILDING_CLASS_AT_PRESENT_A5  BUILDING_CLASS_AT_PRESENT_A3  \\\n",
       "SALE DATE                                                                \n",
       "2019-01-01                             0                             0   \n",
       "2019-01-01                             0                             0   \n",
       "2019-01-02                             0                             0   \n",
       "2019-01-02                             0                             0   \n",
       "2019-01-02                             1                             0   \n",
       "\n",
       "            COMMERCIAL_UNITS  TOTAL_UNITS  LAND_SQUARE_FEET  \\\n",
       "SALE DATE                                                     \n",
       "2019-01-01               0.0          1.0            6800.0   \n",
       "2019-01-01               0.0          1.0            4000.0   \n",
       "2019-01-02               0.0          1.0            3500.0   \n",
       "2019-01-02               0.0          1.0            4000.0   \n",
       "2019-01-02               0.0          1.0            1710.0   \n",
       "\n",
       "            GROSS_SQUARE_FEET  BUILDING_CLASS_AT_TIME_OF_SALE_A5  \\\n",
       "SALE DATE                                                          \n",
       "2019-01-01             1325.0                                  0   \n",
       "2019-01-01             2001.0                                  0   \n",
       "2019-01-02             2043.0                                  0   \n",
       "2019-01-02             2680.0                                  0   \n",
       "2019-01-02             1872.0                                  1   \n",
       "\n",
       "            BUILDING_CLASS_AT_TIME_OF_SALE_A3  \n",
       "SALE DATE                                      \n",
       "2019-01-01                                  0  \n",
       "2019-01-01                                  0  \n",
       "2019-01-02                                  0  \n",
       "2019-01-02                                  0  \n",
       "2019-01-02                                  0  "
      ]
     },
     "execution_count": 19,
     "metadata": {},
     "output_type": "execute_result"
    }
   ],
   "source": [
    "## Now we can limit our training set by these top 15 features.\n",
    "\n",
    "top_features = []\n",
    "\n",
    "for is_top, feat in zip(kbest.get_support(), XT_train.columns):\n",
    "    if is_top:\n",
    "        top_features.append(feat)\n",
    "        \n",
    "XT_train_best = XT_train[top_features]\n",
    "XT_train_best.head()"
   ]
  },
  {
   "cell_type": "code",
   "execution_count": 20,
   "metadata": {
    "scrolled": true
   },
   "outputs": [
    {
     "name": "stderr",
     "output_type": "stream",
     "text": [
      "c:\\users\\benjs\\opencv\\lib\\site-packages\\category_encoders\\utils.py:21: FutureWarning: is_categorical is deprecated and will be removed in a future version.  Use is_categorical_dtype instead\n",
      "  elif pd.api.types.is_categorical(cols):\n"
     ]
    }
   ],
   "source": [
    "## Finally, let's One Hot encode our testing set so it matches up\n",
    "## with the training set, as well as limit it to the same set of \n",
    "## top features. NOTE I will not perform SelectKBest again on the\n",
    "## test set, for the results could be slightly different!\n",
    "\n",
    "ohe = OneHotEncoder(use_cat_names=True)\n",
    "XT_test = ohe.fit_transform(X_test)\n",
    "XT_test_best = XT_test[top_features]"
   ]
  },
  {
   "cell_type": "code",
   "execution_count": 21,
   "metadata": {},
   "outputs": [],
   "source": [
    "## Model time\n",
    "\n",
    "from sklearn.linear_model import Ridge"
   ]
  },
  {
   "cell_type": "code",
   "execution_count": 22,
   "metadata": {},
   "outputs": [],
   "source": [
    "from sklearn.metrics import mean_absolute_error"
   ]
  },
  {
   "cell_type": "code",
   "execution_count": 23,
   "metadata": {},
   "outputs": [
    {
     "data": {
      "text/plain": [
       "Ridge(alpha=0, normalize=True)"
      ]
     },
     "execution_count": 23,
     "metadata": {},
     "output_type": "execute_result"
    }
   ],
   "source": [
    "model = Ridge(alpha=0, normalize=True)\n",
    "model.fit(XT_train_best, y_train)"
   ]
  },
  {
   "cell_type": "code",
   "execution_count": 24,
   "metadata": {},
   "outputs": [
    {
     "name": "stdout",
     "output_type": "stream",
     "text": [
      "--R^2--\n",
      "Train: 0.44499930199468485\n",
      "Test: 0.4188473149016986\n"
     ]
    }
   ],
   "source": [
    "print('--R^2--')\n",
    "print('Train:', model.score(XT_train_best, y_train))\n",
    "print('Test:', model.score(XT_test_best, y_test))"
   ]
  },
  {
   "cell_type": "code",
   "execution_count": 25,
   "metadata": {},
   "outputs": [
    {
     "name": "stdout",
     "output_type": "stream",
     "text": [
      "--MAE--\n",
      "Train: 154278.9218999322\n",
      "Test: 156322.71545930233\n"
     ]
    }
   ],
   "source": [
    "print('--MAE--')\n",
    "print('Train:', mean_absolute_error(y_train, model.predict(XT_train_best)))\n",
    "print('Test:', mean_absolute_error(y_test, model.predict(XT_test_best)))"
   ]
  },
  {
   "cell_type": "code",
   "execution_count": null,
   "metadata": {},
   "outputs": [],
   "source": []
  }
 ],
 "metadata": {
  "kernelspec": {
   "display_name": "Python 3",
   "language": "python",
   "name": "python3"
  },
  "language_info": {
   "codemirror_mode": {
    "name": "ipython",
    "version": 3
   },
   "file_extension": ".py",
   "mimetype": "text/x-python",
   "name": "python",
   "nbconvert_exporter": "python",
   "pygments_lexer": "ipython3",
   "version": "3.8.6rc1"
  }
 },
 "nbformat": 4,
 "nbformat_minor": 1
}
