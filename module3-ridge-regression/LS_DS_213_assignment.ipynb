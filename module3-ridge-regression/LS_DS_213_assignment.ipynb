{
  "nbformat": 4,
  "nbformat_minor": 0,
  "metadata": {
    "kernelspec": {
      "display_name": "Python 3",
      "language": "python",
      "name": "python3"
    },
    "language_info": {
      "codemirror_mode": {
        "name": "ipython",
        "version": 3
      },
      "file_extension": ".py",
      "mimetype": "text/x-python",
      "name": "python",
      "nbconvert_exporter": "python",
      "pygments_lexer": "ipython3",
      "version": "3.7.3"
    },
    "colab": {
      "name": "LS_DS_213_assignment.ipynb",
      "provenance": []
    }
  },
  "cells": [
    {
      "cell_type": "markdown",
      "metadata": {
        "id": "-wC03T-27xBq",
        "colab_type": "text"
      },
      "source": [
        "Lambda School Data Science\n",
        "\n",
        "*Unit 2, Sprint 1, Module 3*\n",
        "\n",
        "---"
      ]
    },
    {
      "cell_type": "markdown",
      "metadata": {
        "colab_type": "text",
        "id": "7IXUfiQ2UKj6"
      },
      "source": [
        "# Ridge Regression\n",
        "\n",
        "## Assignment\n",
        "\n",
        "We're going back to our other **New York City** real estate dataset. Instead of predicting apartment rents, you'll predict property sales prices.\n",
        "\n",
        "But not just for condos in Tribeca...\n",
        "\n",
        "- [ ] Use a subset of the data where `BUILDING_CLASS_CATEGORY` == `'01 ONE FAMILY DWELLINGS'` and the sale price was more than 100 thousand and less than 2 million.\n",
        "- [ ] Do train/test split. Use data from January — March 2019 to train. Use data from April 2019 to test.\n",
        "- [ ] Do one-hot encoding of categorical features.\n",
        "- [ ] Do feature selection with `SelectKBest`.\n",
        "- [ ] Fit a ridge regression model with multiple features. Use the `normalize=True` parameter (or do [feature scaling](https://scikit-learn.org/stable/modules/preprocessing.html) beforehand — use the scaler's `fit_transform` method with the train set, and the scaler's `transform` method with the test set)\n",
        "- [ ] Get mean absolute error for the test set.\n",
        "- [ ] As always, commit your notebook to your fork of the GitHub repo.\n",
        "\n",
        "The [NYC Department of Finance](https://www1.nyc.gov/site/finance/taxes/property-rolling-sales-data.page) has a glossary of property sales terms and NYC Building Class Code Descriptions. The data comes from the [NYC OpenData](https://data.cityofnewyork.us/browse?q=NYC%20calendar%20sales) portal.\n",
        "\n",
        "\n",
        "## Stretch Goals\n",
        "\n",
        "Don't worry, you aren't expected to do all these stretch goals! These are just ideas to consider and choose from.\n",
        "\n",
        "- [ ] Add your own stretch goal(s) !\n",
        "- [ ] Instead of `Ridge`, try `LinearRegression`. Depending on how many features you select, your errors will probably blow up! 💥\n",
        "- [ ] Instead of `Ridge`, try [`RidgeCV`](https://scikit-learn.org/stable/modules/generated/sklearn.linear_model.RidgeCV.html).\n",
        "- [ ] Learn more about feature selection:\n",
        "    - [\"Permutation importance\"](https://www.kaggle.com/dansbecker/permutation-importance)\n",
        "    - [scikit-learn's User Guide for Feature Selection](https://scikit-learn.org/stable/modules/feature_selection.html)\n",
        "    - [mlxtend](http://rasbt.github.io/mlxtend/) library\n",
        "    - scikit-learn-contrib libraries: [boruta_py](https://github.com/scikit-learn-contrib/boruta_py) & [stability-selection](https://github.com/scikit-learn-contrib/stability-selection)\n",
        "    - [_Feature Engineering and Selection_](http://www.feat.engineering/) by Kuhn & Johnson.\n",
        "- [ ] Try [statsmodels](https://www.statsmodels.org/stable/index.html) if you’re interested in more inferential statistical approach to linear regression and feature selection, looking at p values and 95% confidence intervals for the coefficients.\n",
        "- [ ] Read [_An Introduction to Statistical Learning_](http://faculty.marshall.usc.edu/gareth-james/ISL/ISLR%20Seventh%20Printing.pdf), Chapters 1-3, for more math & theory, but in an accessible, readable way.\n",
        "- [ ] Try [scikit-learn pipelines](https://scikit-learn.org/stable/modules/compose.html)."
      ]
    },
    {
      "cell_type": "code",
      "metadata": {
        "colab_type": "code",
        "id": "o9eSnDYhUGD7",
        "colab": {}
      },
      "source": [
        "%%capture\n",
        "import sys\n",
        "\n",
        "# If you're on Colab:\n",
        "if 'google.colab' in sys.modules:\n",
        "    DATA_PATH = 'https://raw.githubusercontent.com/LambdaSchool/DS-Unit-2-Applied-Modeling/master/data/'\n",
        "    !pip install category_encoders==2.*\n",
        "\n",
        "# If you're working locally:\n",
        "else:\n",
        "    DATA_PATH = '../data/'\n",
        "    \n",
        "# Ignore this Numpy warning when using Plotly Express:\n",
        "# FutureWarning: Method .ptp is deprecated and will be removed in a future version. Use numpy.ptp instead.\n",
        "import warnings\n",
        "warnings.filterwarnings(action='ignore', category=FutureWarning, module='numpy')"
      ],
      "execution_count": 245,
      "outputs": []
    },
    {
      "cell_type": "code",
      "metadata": {
        "colab_type": "code",
        "id": "QJBD4ruICm1m",
        "colab": {}
      },
      "source": [
        "import pandas as pd\n",
        "import pandas_profiling\n",
        "\n",
        "# Read New York City property sales data\n",
        "df = pd.read_csv(DATA_PATH+'condos/NYC_Citywide_Rolling_Calendar_Sales.csv')\n",
        "\n",
        "# Change column names: replace spaces with underscores\n",
        "df.columns = [col.replace(' ', '_') for col in df]\n",
        "\n",
        "# SALE_PRICE was read as strings.\n",
        "# Remove symbols, convert to integer\n",
        "df['SALE_PRICE'] = (\n",
        "    df['SALE_PRICE']\n",
        "    .str.replace('$','')\n",
        "    .str.replace('-','')\n",
        "    .str.replace(',','')\n",
        "    .astype(int)\n",
        ")"
      ],
      "execution_count": 246,
      "outputs": []
    },
    {
      "cell_type": "code",
      "metadata": {
        "id": "S7MXq9HS7xB1",
        "colab_type": "code",
        "colab": {}
      },
      "source": [
        "# BOROUGH is a numeric column, but arguably should be a categorical feature,\n",
        "# so convert it from a number to a string\n",
        "df['BOROUGH'] = df['BOROUGH'].astype(str)"
      ],
      "execution_count": 247,
      "outputs": []
    },
    {
      "cell_type": "code",
      "metadata": {
        "id": "szf3htCB7xB5",
        "colab_type": "code",
        "colab": {}
      },
      "source": [
        "# Reduce cardinality for NEIGHBORHOOD feature\n",
        "\n",
        "# Get a list of the top 10 neighborhoods\n",
        "top10 = df['NEIGHBORHOOD'].value_counts()[:10].index\n",
        "\n",
        "# At locations where the neighborhood is NOT in the top 10, \n",
        "# replace the neighborhood with 'OTHER'\n",
        "df.loc[~df['NEIGHBORHOOD'].isin(top10), 'NEIGHBORHOOD'] = 'OTHER'"
      ],
      "execution_count": 248,
      "outputs": []
    },
    {
      "cell_type": "code",
      "metadata": {
        "id": "dcaR0UEO7xB7",
        "colab_type": "code",
        "colab": {}
      },
      "source": [
        "%matplotlib inline\n",
        "import numpy as np\n",
        "import pandas as pd\n",
        "import seaborn as sns\n",
        "import plotly.express as px\n",
        "import matplotlib.pyplot as plt\n",
        "from sklearn.linear_model import Ridge, RidgeCV, LinearRegression\n",
        "from sklearn.metrics import mean_absolute_error"
      ],
      "execution_count": 249,
      "outputs": []
    },
    {
      "cell_type": "code",
      "metadata": {
        "id": "LJyqLYgv70JW",
        "colab_type": "code",
        "colab": {}
      },
      "source": [
        "df = df[df['BUILDING_CLASS_CATEGORY']=='01 ONE FAMILY DWELLINGS']"
      ],
      "execution_count": 250,
      "outputs": []
    },
    {
      "cell_type": "code",
      "metadata": {
        "id": "iivDWT7-7zcj",
        "colab_type": "code",
        "colab": {}
      },
      "source": [
        "df = df[((df['SALE_PRICE']>=100000) & (df['SALE_PRICE']<=2000000))]"
      ],
      "execution_count": 251,
      "outputs": []
    },
    {
      "cell_type": "code",
      "metadata": {
        "id": "QaLoMm4c70Gy",
        "colab_type": "code",
        "colab": {}
      },
      "source": [
        "df['SALE_DATE'] = pd.to_datetime(df['SALE_DATE'], infer_datetime_format=True)\n",
        "cutoff = pd.to_datetime('04/01/2019')\n",
        "train = df[df['SALE_DATE']<cutoff]\n",
        "test = df[df['SALE_DATE']>=cutoff]"
      ],
      "execution_count": 252,
      "outputs": []
    },
    {
      "cell_type": "code",
      "metadata": {
        "id": "YKZra3jM9aDq",
        "colab_type": "code",
        "colab": {}
      },
      "source": [
        "df['LAND_SQUARE_FEET'] = df['LAND_SQUARE_FEET'].str.replace(',','')\n",
        "df['LAND_SQUARE_FEET'] = pd.to_numeric(df['LAND_SQUARE_FEET'])"
      ],
      "execution_count": 253,
      "outputs": []
    },
    {
      "cell_type": "code",
      "metadata": {
        "id": "TXMXWIZW70ET",
        "colab_type": "code",
        "colab": {
          "base_uri": "https://localhost:8080/",
          "height": 773
        },
        "outputId": "3a0371ee-10f1-4d3e-8594-0879ceb5cc57"
      },
      "source": [
        "df.describe(include='all').T"
      ],
      "execution_count": 254,
      "outputs": [
        {
          "output_type": "execute_result",
          "data": {
            "text/html": [
              "<div>\n",
              "<style scoped>\n",
              "    .dataframe tbody tr th:only-of-type {\n",
              "        vertical-align: middle;\n",
              "    }\n",
              "\n",
              "    .dataframe tbody tr th {\n",
              "        vertical-align: top;\n",
              "    }\n",
              "\n",
              "    .dataframe thead th {\n",
              "        text-align: right;\n",
              "    }\n",
              "</style>\n",
              "<table border=\"1\" class=\"dataframe\">\n",
              "  <thead>\n",
              "    <tr style=\"text-align: right;\">\n",
              "      <th></th>\n",
              "      <th>count</th>\n",
              "      <th>unique</th>\n",
              "      <th>top</th>\n",
              "      <th>freq</th>\n",
              "      <th>first</th>\n",
              "      <th>last</th>\n",
              "      <th>mean</th>\n",
              "      <th>std</th>\n",
              "      <th>min</th>\n",
              "      <th>25%</th>\n",
              "      <th>50%</th>\n",
              "      <th>75%</th>\n",
              "      <th>max</th>\n",
              "    </tr>\n",
              "  </thead>\n",
              "  <tbody>\n",
              "    <tr>\n",
              "      <th>BOROUGH</th>\n",
              "      <td>3164</td>\n",
              "      <td>5</td>\n",
              "      <td>4</td>\n",
              "      <td>1585</td>\n",
              "      <td>NaT</td>\n",
              "      <td>NaT</td>\n",
              "      <td>NaN</td>\n",
              "      <td>NaN</td>\n",
              "      <td>NaN</td>\n",
              "      <td>NaN</td>\n",
              "      <td>NaN</td>\n",
              "      <td>NaN</td>\n",
              "      <td>NaN</td>\n",
              "    </tr>\n",
              "    <tr>\n",
              "      <th>NEIGHBORHOOD</th>\n",
              "      <td>3164</td>\n",
              "      <td>6</td>\n",
              "      <td>OTHER</td>\n",
              "      <td>3001</td>\n",
              "      <td>NaT</td>\n",
              "      <td>NaT</td>\n",
              "      <td>NaN</td>\n",
              "      <td>NaN</td>\n",
              "      <td>NaN</td>\n",
              "      <td>NaN</td>\n",
              "      <td>NaN</td>\n",
              "      <td>NaN</td>\n",
              "      <td>NaN</td>\n",
              "    </tr>\n",
              "    <tr>\n",
              "      <th>BUILDING_CLASS_CATEGORY</th>\n",
              "      <td>3164</td>\n",
              "      <td>1</td>\n",
              "      <td>01 ONE FAMILY DWELLINGS</td>\n",
              "      <td>3164</td>\n",
              "      <td>NaT</td>\n",
              "      <td>NaT</td>\n",
              "      <td>NaN</td>\n",
              "      <td>NaN</td>\n",
              "      <td>NaN</td>\n",
              "      <td>NaN</td>\n",
              "      <td>NaN</td>\n",
              "      <td>NaN</td>\n",
              "      <td>NaN</td>\n",
              "    </tr>\n",
              "    <tr>\n",
              "      <th>TAX_CLASS_AT_PRESENT</th>\n",
              "      <td>3164</td>\n",
              "      <td>2</td>\n",
              "      <td>1</td>\n",
              "      <td>3123</td>\n",
              "      <td>NaT</td>\n",
              "      <td>NaT</td>\n",
              "      <td>NaN</td>\n",
              "      <td>NaN</td>\n",
              "      <td>NaN</td>\n",
              "      <td>NaN</td>\n",
              "      <td>NaN</td>\n",
              "      <td>NaN</td>\n",
              "      <td>NaN</td>\n",
              "    </tr>\n",
              "    <tr>\n",
              "      <th>BLOCK</th>\n",
              "      <td>3164</td>\n",
              "      <td>NaN</td>\n",
              "      <td>NaN</td>\n",
              "      <td>NaN</td>\n",
              "      <td>NaT</td>\n",
              "      <td>NaT</td>\n",
              "      <td>6908.6</td>\n",
              "      <td>3964.33</td>\n",
              "      <td>21</td>\n",
              "      <td>4003.25</td>\n",
              "      <td>6269.5</td>\n",
              "      <td>10206.2</td>\n",
              "      <td>16350</td>\n",
              "    </tr>\n",
              "    <tr>\n",
              "      <th>LOT</th>\n",
              "      <td>3164</td>\n",
              "      <td>NaN</td>\n",
              "      <td>NaN</td>\n",
              "      <td>NaN</td>\n",
              "      <td>NaT</td>\n",
              "      <td>NaT</td>\n",
              "      <td>75.847</td>\n",
              "      <td>160.779</td>\n",
              "      <td>1</td>\n",
              "      <td>21</td>\n",
              "      <td>42</td>\n",
              "      <td>69</td>\n",
              "      <td>2720</td>\n",
              "    </tr>\n",
              "    <tr>\n",
              "      <th>EASE-MENT</th>\n",
              "      <td>0</td>\n",
              "      <td>NaN</td>\n",
              "      <td>NaN</td>\n",
              "      <td>NaN</td>\n",
              "      <td>NaT</td>\n",
              "      <td>NaT</td>\n",
              "      <td>NaN</td>\n",
              "      <td>NaN</td>\n",
              "      <td>NaN</td>\n",
              "      <td>NaN</td>\n",
              "      <td>NaN</td>\n",
              "      <td>NaN</td>\n",
              "      <td>NaN</td>\n",
              "    </tr>\n",
              "    <tr>\n",
              "      <th>BUILDING_CLASS_AT_PRESENT</th>\n",
              "      <td>3164</td>\n",
              "      <td>13</td>\n",
              "      <td>A1</td>\n",
              "      <td>1188</td>\n",
              "      <td>NaT</td>\n",
              "      <td>NaT</td>\n",
              "      <td>NaN</td>\n",
              "      <td>NaN</td>\n",
              "      <td>NaN</td>\n",
              "      <td>NaN</td>\n",
              "      <td>NaN</td>\n",
              "      <td>NaN</td>\n",
              "      <td>NaN</td>\n",
              "    </tr>\n",
              "    <tr>\n",
              "      <th>ADDRESS</th>\n",
              "      <td>3164</td>\n",
              "      <td>3148</td>\n",
              "      <td>108-16 171ST PLACE</td>\n",
              "      <td>2</td>\n",
              "      <td>NaT</td>\n",
              "      <td>NaT</td>\n",
              "      <td>NaN</td>\n",
              "      <td>NaN</td>\n",
              "      <td>NaN</td>\n",
              "      <td>NaN</td>\n",
              "      <td>NaN</td>\n",
              "      <td>NaN</td>\n",
              "      <td>NaN</td>\n",
              "    </tr>\n",
              "    <tr>\n",
              "      <th>APARTMENT_NUMBER</th>\n",
              "      <td>1</td>\n",
              "      <td>1</td>\n",
              "      <td>RP.</td>\n",
              "      <td>1</td>\n",
              "      <td>NaT</td>\n",
              "      <td>NaT</td>\n",
              "      <td>NaN</td>\n",
              "      <td>NaN</td>\n",
              "      <td>NaN</td>\n",
              "      <td>NaN</td>\n",
              "      <td>NaN</td>\n",
              "      <td>NaN</td>\n",
              "      <td>NaN</td>\n",
              "    </tr>\n",
              "    <tr>\n",
              "      <th>ZIP_CODE</th>\n",
              "      <td>3164</td>\n",
              "      <td>NaN</td>\n",
              "      <td>NaN</td>\n",
              "      <td>NaN</td>\n",
              "      <td>NaT</td>\n",
              "      <td>NaT</td>\n",
              "      <td>11027.4</td>\n",
              "      <td>482.592</td>\n",
              "      <td>10030</td>\n",
              "      <td>10461</td>\n",
              "      <td>11235</td>\n",
              "      <td>11413</td>\n",
              "      <td>11697</td>\n",
              "    </tr>\n",
              "    <tr>\n",
              "      <th>RESIDENTIAL_UNITS</th>\n",
              "      <td>3164</td>\n",
              "      <td>NaN</td>\n",
              "      <td>NaN</td>\n",
              "      <td>NaN</td>\n",
              "      <td>NaT</td>\n",
              "      <td>NaT</td>\n",
              "      <td>0.987358</td>\n",
              "      <td>0.114537</td>\n",
              "      <td>0</td>\n",
              "      <td>1</td>\n",
              "      <td>1</td>\n",
              "      <td>1</td>\n",
              "      <td>2</td>\n",
              "    </tr>\n",
              "    <tr>\n",
              "      <th>COMMERCIAL_UNITS</th>\n",
              "      <td>3164</td>\n",
              "      <td>NaN</td>\n",
              "      <td>NaN</td>\n",
              "      <td>NaN</td>\n",
              "      <td>NaT</td>\n",
              "      <td>NaT</td>\n",
              "      <td>0.0158028</td>\n",
              "      <td>0.127241</td>\n",
              "      <td>0</td>\n",
              "      <td>0</td>\n",
              "      <td>0</td>\n",
              "      <td>0</td>\n",
              "      <td>2</td>\n",
              "    </tr>\n",
              "    <tr>\n",
              "      <th>TOTAL_UNITS</th>\n",
              "      <td>3164</td>\n",
              "      <td>NaN</td>\n",
              "      <td>NaN</td>\n",
              "      <td>NaN</td>\n",
              "      <td>NaT</td>\n",
              "      <td>NaT</td>\n",
              "      <td>1.00316</td>\n",
              "      <td>0.172362</td>\n",
              "      <td>0</td>\n",
              "      <td>1</td>\n",
              "      <td>1</td>\n",
              "      <td>1</td>\n",
              "      <td>3</td>\n",
              "    </tr>\n",
              "    <tr>\n",
              "      <th>LAND_SQUARE_FEET</th>\n",
              "      <td>3164</td>\n",
              "      <td>NaN</td>\n",
              "      <td>NaN</td>\n",
              "      <td>NaN</td>\n",
              "      <td>NaT</td>\n",
              "      <td>NaT</td>\n",
              "      <td>3110.75</td>\n",
              "      <td>1790.45</td>\n",
              "      <td>0</td>\n",
              "      <td>2000</td>\n",
              "      <td>2541.5</td>\n",
              "      <td>4000</td>\n",
              "      <td>18906</td>\n",
              "    </tr>\n",
              "    <tr>\n",
              "      <th>GROSS_SQUARE_FEET</th>\n",
              "      <td>3164</td>\n",
              "      <td>NaN</td>\n",
              "      <td>NaN</td>\n",
              "      <td>NaN</td>\n",
              "      <td>NaT</td>\n",
              "      <td>NaT</td>\n",
              "      <td>1469.72</td>\n",
              "      <td>586.645</td>\n",
              "      <td>0</td>\n",
              "      <td>1144</td>\n",
              "      <td>1360</td>\n",
              "      <td>1683</td>\n",
              "      <td>7875</td>\n",
              "    </tr>\n",
              "    <tr>\n",
              "      <th>YEAR_BUILT</th>\n",
              "      <td>3164</td>\n",
              "      <td>NaN</td>\n",
              "      <td>NaN</td>\n",
              "      <td>NaN</td>\n",
              "      <td>NaT</td>\n",
              "      <td>NaT</td>\n",
              "      <td>1943.64</td>\n",
              "      <td>26.6792</td>\n",
              "      <td>1890</td>\n",
              "      <td>1925</td>\n",
              "      <td>1938</td>\n",
              "      <td>1955</td>\n",
              "      <td>2018</td>\n",
              "    </tr>\n",
              "    <tr>\n",
              "      <th>TAX_CLASS_AT_TIME_OF_SALE</th>\n",
              "      <td>3164</td>\n",
              "      <td>NaN</td>\n",
              "      <td>NaN</td>\n",
              "      <td>NaN</td>\n",
              "      <td>NaT</td>\n",
              "      <td>NaT</td>\n",
              "      <td>1</td>\n",
              "      <td>0</td>\n",
              "      <td>1</td>\n",
              "      <td>1</td>\n",
              "      <td>1</td>\n",
              "      <td>1</td>\n",
              "      <td>1</td>\n",
              "    </tr>\n",
              "    <tr>\n",
              "      <th>BUILDING_CLASS_AT_TIME_OF_SALE</th>\n",
              "      <td>3164</td>\n",
              "      <td>11</td>\n",
              "      <td>A1</td>\n",
              "      <td>1189</td>\n",
              "      <td>NaT</td>\n",
              "      <td>NaT</td>\n",
              "      <td>NaN</td>\n",
              "      <td>NaN</td>\n",
              "      <td>NaN</td>\n",
              "      <td>NaN</td>\n",
              "      <td>NaN</td>\n",
              "      <td>NaN</td>\n",
              "      <td>NaN</td>\n",
              "    </tr>\n",
              "    <tr>\n",
              "      <th>SALE_PRICE</th>\n",
              "      <td>3164</td>\n",
              "      <td>NaN</td>\n",
              "      <td>NaN</td>\n",
              "      <td>NaN</td>\n",
              "      <td>NaT</td>\n",
              "      <td>NaT</td>\n",
              "      <td>628190</td>\n",
              "      <td>296913</td>\n",
              "      <td>100000</td>\n",
              "      <td>445000</td>\n",
              "      <td>565000</td>\n",
              "      <td>760000</td>\n",
              "      <td>2e+06</td>\n",
              "    </tr>\n",
              "    <tr>\n",
              "      <th>SALE_DATE</th>\n",
              "      <td>3164</td>\n",
              "      <td>91</td>\n",
              "      <td>2019-01-31 00:00:00</td>\n",
              "      <td>78</td>\n",
              "      <td>2019-01-01</td>\n",
              "      <td>2019-04-30</td>\n",
              "      <td>NaN</td>\n",
              "      <td>NaN</td>\n",
              "      <td>NaN</td>\n",
              "      <td>NaN</td>\n",
              "      <td>NaN</td>\n",
              "      <td>NaN</td>\n",
              "      <td>NaN</td>\n",
              "    </tr>\n",
              "  </tbody>\n",
              "</table>\n",
              "</div>"
            ],
            "text/plain": [
              "                               count unique  ...      75%    max\n",
              "BOROUGH                         3164      5  ...      NaN    NaN\n",
              "NEIGHBORHOOD                    3164      6  ...      NaN    NaN\n",
              "BUILDING_CLASS_CATEGORY         3164      1  ...      NaN    NaN\n",
              "TAX_CLASS_AT_PRESENT            3164      2  ...      NaN    NaN\n",
              "BLOCK                           3164    NaN  ...  10206.2  16350\n",
              "LOT                             3164    NaN  ...       69   2720\n",
              "EASE-MENT                          0    NaN  ...      NaN    NaN\n",
              "BUILDING_CLASS_AT_PRESENT       3164     13  ...      NaN    NaN\n",
              "ADDRESS                         3164   3148  ...      NaN    NaN\n",
              "APARTMENT_NUMBER                   1      1  ...      NaN    NaN\n",
              "ZIP_CODE                        3164    NaN  ...    11413  11697\n",
              "RESIDENTIAL_UNITS               3164    NaN  ...        1      2\n",
              "COMMERCIAL_UNITS                3164    NaN  ...        0      2\n",
              "TOTAL_UNITS                     3164    NaN  ...        1      3\n",
              "LAND_SQUARE_FEET                3164    NaN  ...     4000  18906\n",
              "GROSS_SQUARE_FEET               3164    NaN  ...     1683   7875\n",
              "YEAR_BUILT                      3164    NaN  ...     1955   2018\n",
              "TAX_CLASS_AT_TIME_OF_SALE       3164    NaN  ...        1      1\n",
              "BUILDING_CLASS_AT_TIME_OF_SALE  3164     11  ...      NaN    NaN\n",
              "SALE_PRICE                      3164    NaN  ...   760000  2e+06\n",
              "SALE_DATE                       3164     91  ...      NaN    NaN\n",
              "\n",
              "[21 rows x 13 columns]"
            ]
          },
          "metadata": {
            "tags": []
          },
          "execution_count": 254
        }
      ]
    },
    {
      "cell_type": "code",
      "metadata": {
        "id": "xcXCCwKu70BA",
        "colab_type": "code",
        "colab": {}
      },
      "source": [
        "target = 'SALE_PRICE'\n",
        "high_cardinality = ['SALE_DATE','BUILDING_CLASS_AT_TIME_OF_SALE',\n",
        "                    'BUILDING_CLASS_AT_PRESENT']\n",
        "features = train.columns.drop([target]+high_cardinality)"
      ],
      "execution_count": 255,
      "outputs": []
    },
    {
      "cell_type": "code",
      "metadata": {
        "id": "-jqlbxJI7z-M",
        "colab_type": "code",
        "colab": {
          "base_uri": "https://localhost:8080/",
          "height": 34
        },
        "outputId": "d7793cc6-f08e-46a7-d9f2-08ce398705e4"
      },
      "source": [
        "X_train.shape, X_test.shape"
      ],
      "execution_count": 256,
      "outputs": [
        {
          "output_type": "execute_result",
          "data": {
            "text/plain": [
              "((2517, 32), (647, 32))"
            ]
          },
          "metadata": {
            "tags": []
          },
          "execution_count": 256
        }
      ]
    },
    {
      "cell_type": "code",
      "metadata": {
        "id": "Hcszrnug_lVq",
        "colab_type": "code",
        "colab": {
          "base_uri": "https://localhost:8080/",
          "height": 34
        },
        "outputId": "6d2a0faa-5361-44b4-8ddc-289fc362fda3"
      },
      "source": [
        "import numpy as np\n",
        "np.seterr(divide='ignore', invalid='ignore')"
      ],
      "execution_count": 257,
      "outputs": [
        {
          "output_type": "execute_result",
          "data": {
            "text/plain": [
              "{'divide': 'ignore', 'invalid': 'ignore', 'over': 'warn', 'under': 'ignore'}"
            ]
          },
          "metadata": {
            "tags": []
          },
          "execution_count": 257
        }
      ]
    },
    {
      "cell_type": "code",
      "metadata": {
        "id": "ylGBV7OM_Idf",
        "colab_type": "code",
        "colab": {}
      },
      "source": [
        "import category_encoders as ce\n",
        "encoder = ce.OneHotEncoder(use_cat_names=True)\n",
        "X_train = encoder.fit_transform(X_train)\n",
        "X_test = encoder.transform(X_test)"
      ],
      "execution_count": 258,
      "outputs": []
    },
    {
      "cell_type": "code",
      "metadata": {
        "id": "v_5_9tPq7z7c",
        "colab_type": "code",
        "colab": {
          "base_uri": "https://localhost:8080/",
          "height": 1000
        },
        "outputId": "da3790b8-b989-403d-ffdb-fe1cdd199ccb"
      },
      "source": [
        "from sklearn.linear_model import LinearRegression\n",
        "from sklearn.metrics import mean_absolute_error\n",
        "\n",
        "testing = []\n",
        "training = []\n",
        "ks = range(1, len(X_train.columns)+1)\n",
        "for k in range(1, len(X_train.columns)+1):\n",
        "    print(f'{k} features')\n",
        "\n",
        "    # build selector\n",
        "    selector = SelectKBest(k=k)\n",
        "    X_train_selected = selector.fit_transform(X_train,y_train)\n",
        "    X_test_selected = selector.transform(X_test)\n",
        "    \n",
        "    # build training model.\n",
        "    model = LinearRegression()\n",
        "    model.fit(X_train_selected, y_train)\n",
        "\n",
        "    # predict with training data\n",
        "    y_pred = model.predict(X_train_selected)\n",
        "    # mae of train set\n",
        "    mae = mean_absolute_error(y_train, y_pred)\n",
        "    training.append(mae)\n",
        "   \n",
        "    # predict with test data\n",
        "    y_pred = model.predict(X_test_selected)\n",
        "    # mae of test set\n",
        "    mae = mean_absolute_error(y_test, y_pred)\n",
        "    testing.append(mae)\n",
        "    print(f'Test Mean Absolute Error: ${mae:,.0f}\\n')"
      ],
      "execution_count": 259,
      "outputs": [
        {
          "output_type": "stream",
          "text": [
            "1 features\n",
            "Test Mean Absolute Error: $214,247\n",
            "\n",
            "2 features\n",
            "Test Mean Absolute Error: $214,244\n",
            "\n",
            "3 features\n",
            "Test Mean Absolute Error: $214,756\n",
            "\n",
            "4 features\n",
            "Test Mean Absolute Error: $209,822\n",
            "\n",
            "5 features\n",
            "Test Mean Absolute Error: $208,017\n",
            "\n",
            "6 features\n",
            "Test Mean Absolute Error: $207,518\n",
            "\n",
            "7 features\n",
            "Test Mean Absolute Error: $183,519\n",
            "\n",
            "8 features\n",
            "Test Mean Absolute Error: $183,190\n",
            "\n",
            "9 features\n",
            "Test Mean Absolute Error: $179,517\n",
            "\n",
            "10 features\n",
            "Test Mean Absolute Error: $179,695\n",
            "\n",
            "11 features\n",
            "Test Mean Absolute Error: $174,789\n",
            "\n",
            "12 features\n",
            "Test Mean Absolute Error: $175,442\n",
            "\n",
            "13 features\n",
            "Test Mean Absolute Error: $175,442\n",
            "\n",
            "14 features\n",
            "Test Mean Absolute Error: $175,377\n",
            "\n",
            "15 features\n",
            "Test Mean Absolute Error: $175,349\n",
            "\n",
            "16 features\n",
            "Test Mean Absolute Error: $175,334\n",
            "\n",
            "17 features\n",
            "Test Mean Absolute Error: $175,065\n",
            "\n",
            "18 features\n",
            "Test Mean Absolute Error: $175,224\n",
            "\n",
            "19 features\n",
            "Test Mean Absolute Error: $175,497\n",
            "\n",
            "20 features\n",
            "Test Mean Absolute Error: $175,713\n",
            "\n",
            "21 features\n",
            "Test Mean Absolute Error: $176,455\n",
            "\n",
            "22 features\n",
            "Test Mean Absolute Error: $176,254\n",
            "\n",
            "23 features\n",
            "Test Mean Absolute Error: $178,073\n",
            "\n",
            "24 features\n",
            "Test Mean Absolute Error: $164,028\n",
            "\n",
            "25 features\n",
            "Test Mean Absolute Error: $162,587\n",
            "\n",
            "26 features\n",
            "Test Mean Absolute Error: $162,587\n",
            "\n",
            "27 features\n",
            "Test Mean Absolute Error: $163,263\n",
            "\n",
            "28 features\n",
            "Test Mean Absolute Error: $163,010\n",
            "\n",
            "29 features\n",
            "Test Mean Absolute Error: $162,675\n",
            "\n",
            "30 features\n",
            "Test Mean Absolute Error: $162,182\n",
            "\n",
            "31 features\n",
            "Test Mean Absolute Error: $162,166\n",
            "\n",
            "32 features\n",
            "Test Mean Absolute Error: $162,166\n",
            "\n"
          ],
          "name": "stdout"
        }
      ]
    },
    {
      "cell_type": "code",
      "metadata": {
        "id": "gFI_i7E9ACTd",
        "colab_type": "code",
        "colab": {
          "base_uri": "https://localhost:8080/",
          "height": 279
        },
        "outputId": "ed21111a-bc2b-4cc8-fbbf-dc2e471c9051"
      },
      "source": [
        "plt.plot(ks, training, label ='Training score', color='b')\n",
        "plt.plot(ks, testing, label='Testing score', color='g')\n",
        "plt.ylabel('Mean Absolute Error ($)')\n",
        "plt.xlabel('Number of Features')\n",
        "plt.axvline(x=25, color='r')\n",
        "plt.legend()\n",
        "plt.show()"
      ],
      "execution_count": 262,
      "outputs": [
        {
          "output_type": "display_data",
          "data": {
            "image/png": "[encoded data removed]",
            "text/plain": [
              "<Figure size 432x288 with 1 Axes>"
            ]
          },
          "metadata": {
            "tags": [],
            "needs_background": "light"
          }
        }
      ]
    },
    {
      "cell_type": "code",
      "metadata": {
        "id": "NXuOHmIy_45h",
        "colab_type": "code",
        "colab": {
          "base_uri": "https://localhost:8080/",
          "height": 286
        },
        "outputId": "8b8e198d-a7b8-4f9a-9022-3ece88b528a9"
      },
      "source": [
        "for alpha in [0.0001,0.001, 0.01, 0.1, 1.0, 1, 100.0, 1000.0]:\n",
        "    model = Ridge(alpha=alpha, normalize=True)\n",
        "    model.fit(X_train, y_train)\n",
        "    y_pred = model.predict(X_test)\n",
        "\n",
        "    mae = mean_absolute_error(y_pred,y_test)\n",
        "    print(f'MAE = {mae}, with alpha of {alpha}\\n')"
      ],
      "execution_count": 263,
      "outputs": [
        {
          "output_type": "stream",
          "text": [
            "MAE = 162326.94966290312, with alpha of 0.0001\n",
            "\n",
            "MAE = 162260.41793391126, with alpha of 0.001\n",
            "\n",
            "MAE = 161913.7283037486, with alpha of 0.01\n",
            "\n",
            "MAE = 161907.36833313454, with alpha of 0.1\n",
            "\n",
            "MAE = 175753.0670973893, with alpha of 1.0\n",
            "\n",
            "MAE = 175753.0670973893, with alpha of 1\n",
            "\n",
            "MAE = 212982.4645428687, with alpha of 100.0\n",
            "\n",
            "MAE = 214151.8506526962, with alpha of 1000.0\n",
            "\n"
          ],
          "name": "stdout"
        }
      ]
    },
    {
      "cell_type": "code",
      "metadata": {
        "id": "ARTxaCsSCluR",
        "colab_type": "code",
        "colab": {
          "base_uri": "https://localhost:8080/",
          "height": 34
        },
        "outputId": "77acf7a3-f738-4841-c40f-b0d533b5bce1"
      },
      "source": [
        "from sklearn.linear_model import RidgeCV\n",
        "\n",
        "alpha = [0.0001,0.001, 0.01, 0.1, 1.0, 1, 100.0, 1000.0]\n",
        "\n",
        "ridge = RidgeCV(alphas=alpha, normalize=True)\n",
        "ridge.fit(X_train_selected, y_train)\n",
        "ridge.alpha_"
      ],
      "execution_count": 264,
      "outputs": [
        {
          "output_type": "execute_result",
          "data": {
            "text/plain": [
              "0.001"
            ]
          },
          "metadata": {
            "tags": []
          },
          "execution_count": 264
        }
      ]
    }
  ]
}