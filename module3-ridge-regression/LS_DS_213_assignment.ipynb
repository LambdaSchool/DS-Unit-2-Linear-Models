{
  "nbformat": 4,
  "nbformat_minor": 0,
  "metadata": {
    "kernelspec": {
      "display_name": "Python 3",
      "language": "python",
      "name": "python3"
    },
    "language_info": {
      "codemirror_mode": {
        "name": "ipython",
        "version": 3
      },
      "file_extension": ".py",
      "mimetype": "text/x-python",
      "name": "python",
      "nbconvert_exporter": "python",
      "pygments_lexer": "ipython3",
      "version": "3.7.3"
    },
    "colab": {
      "name": "ridge_assignment.ipynb",
      "provenance": [],
      "collapsed_sections": [],
      "include_colab_link": true
    }
  },
  "cells": [
    {
      "cell_type": "markdown",
      "metadata": {
        "id": "view-in-github",
        "colab_type": "text"
      },
      "source": [
        "<a href=\"https://colab.research.google.com/github/allan-gon/DS-Unit-2-Linear-Models/blob/master/module3-ridge-regression/LS_DS_213_assignment.ipynb\" target=\"_parent\"><img src=\"https://colab.research.google.com/assets/colab-badge.svg\" alt=\"Open In Colab\"/></a>"
      ]
    },
    {
      "cell_type": "markdown",
      "metadata": {
        "id": "97-1RgeIZOvd",
        "colab_type": "text"
      },
      "source": [
        "Lambda School Data Science\n",
        "\n",
        "*Unit 2, Sprint 1, Module 3*\n",
        "\n",
        "---"
      ]
    },
    {
      "cell_type": "markdown",
      "metadata": {
        "colab_type": "text",
        "id": "7IXUfiQ2UKj6"
      },
      "source": [
        "# Ridge Regression\n",
        "\n",
        "## Assignment\n",
        "\n",
        "We're going back to our other **New York City** real estate dataset. Instead of predicting apartment rents, you'll predict property sales prices.\n",
        "\n",
        "But not just for condos in Tribeca...\n",
        "\n",
        "- [ ] Use a subset of the data where `BUILDING_CLASS_CATEGORY` == `'01 ONE FAMILY DWELLINGS'` and the sale price was more than 100 thousand and less than 2 million.\n",
        "- [ ] Do train/test split. Use data from January — March 2019 to train. Use data from April 2019 to test.\n",
        "- [ ] Do one-hot encoding of categorical features.\n",
        "- [ ] Do feature selection with `SelectKBest`.\n",
        "- [ ] Fit a ridge regression model with multiple features. Use the `normalize=True` parameter (or do [feature scaling](https://scikit-learn.org/stable/modules/preprocessing.html) beforehand — use the scaler's `fit_transform` method with the train set, and the scaler's `transform` method with the test set)\n",
        "- [ ] Get mean absolute error for the test set.\n",
        "- [ ] As always, commit your notebook to your fork of the GitHub repo.\n",
        "\n",
        "The [NYC Department of Finance](https://www1.nyc.gov/site/finance/taxes/property-rolling-sales-data.page) has a glossary of property sales terms and NYC Building Class Code Descriptions. The data comes from the [NYC OpenData](https://data.cityofnewyork.us/browse?q=NYC%20calendar%20sales) portal.\n",
        "\n",
        "\n",
        "## Stretch Goals\n",
        "\n",
        "Don't worry, you aren't expected to do all these stretch goals! These are just ideas to consider and choose from.\n",
        "\n",
        "- [ ] Add your own stretch goal(s) !\n",
        "- [ ] Instead of `Ridge`, try `LinearRegression`. Depending on how many features you select, your errors will probably blow up! 💥\n",
        "- [ ] Instead of `Ridge`, try [`RidgeCV`](https://scikit-learn.org/stable/modules/generated/sklearn.linear_model.RidgeCV.html).\n",
        "- [ ] Learn more about feature selection:\n",
        "    - [\"Permutation importance\"](https://www.kaggle.com/dansbecker/permutation-importance)\n",
        "    - [scikit-learn's User Guide for Feature Selection](https://scikit-learn.org/stable/modules/feature_selection.html)\n",
        "    - [mlxtend](http://rasbt.github.io/mlxtend/) library\n",
        "    - scikit-learn-contrib libraries: [boruta_py](https://github.com/scikit-learn-contrib/boruta_py) & [stability-selection](https://github.com/scikit-learn-contrib/stability-selection)\n",
        "    - [_Feature Engineering and Selection_](http://www.feat.engineering/) by Kuhn & Johnson.\n",
        "- [ ] Try [statsmodels](https://www.statsmodels.org/stable/index.html) if you’re interested in more inferential statistical approach to linear regression and feature selection, looking at p values and 95% confidence intervals for the coefficients.\n",
        "- [ ] Read [_An Introduction to Statistical Learning_](http://faculty.marshall.usc.edu/gareth-james/ISL/ISLR%20Seventh%20Printing.pdf), Chapters 1-3, for more math & theory, but in an accessible, readable way.\n",
        "- [ ] Try [scikit-learn pipelines](https://scikit-learn.org/stable/modules/compose.html)."
      ]
    },
    {
      "cell_type": "code",
      "metadata": {
        "colab_type": "code",
        "id": "o9eSnDYhUGD7",
        "colab": {}
      },
      "source": [
        "%%capture\n",
        "import sys\n",
        "\n",
        "# If you're on Colab:\n",
        "if 'google.colab' in sys.modules:\n",
        "    DATA_PATH = 'https://raw.githubusercontent.com/LambdaSchool/DS-Unit-2-Applied-Modeling/master/data/'\n",
        "    !pip install category_encoders==2.*\n",
        "\n",
        "# If you're working locally:\n",
        "else:\n",
        "    DATA_PATH = '../data/'\n",
        "    \n",
        "# Ignore this Numpy warning when using Plotly Express:\n",
        "# FutureWarning: Method .ptp is deprecated and will be removed in a future version. Use numpy.ptp instead.\n",
        "import warnings\n",
        "warnings.filterwarnings(action='ignore', category=FutureWarning, module='numpy')"
      ],
      "execution_count": 1,
      "outputs": []
    },
    {
      "cell_type": "code",
      "metadata": {
        "colab_type": "code",
        "id": "QJBD4ruICm1m",
        "colab": {}
      },
      "source": [
        "import pandas as pd\n",
        "import pandas_profiling\n",
        "\n",
        "# Read New York City property sales data\n",
        "df = pd.read_csv(DATA_PATH+'condos/NYC_Citywide_Rolling_Calendar_Sales.csv')\n",
        "\n",
        "# Change column names: replace spaces with underscores\n",
        "df.columns = [col.replace(' ', '_') for col in df]\n",
        "\n",
        "# SALE_PRICE was read as strings.\n",
        "# Remove symbols, convert to integer\n",
        "df['SALE_PRICE'] = (\n",
        "    df['SALE_PRICE']\n",
        "    .str.replace('$','')\n",
        "    .str.replace('-','')\n",
        "    .str.replace(',','')\n",
        "    .astype(int)\n",
        ")"
      ],
      "execution_count": 2,
      "outputs": []
    },
    {
      "cell_type": "code",
      "metadata": {
        "id": "7uFGMUiPZOvj",
        "colab_type": "code",
        "colab": {}
      },
      "source": [
        "# BOROUGH is a numeric column, but arguably should be a categorical feature,\n",
        "# so convert it from a number to a string\n",
        "df['BOROUGH'] = df['BOROUGH'].astype(str)"
      ],
      "execution_count": 3,
      "outputs": []
    },
    {
      "cell_type": "code",
      "metadata": {
        "id": "krVl4Rt5ZOvl",
        "colab_type": "code",
        "colab": {}
      },
      "source": [
        "# Reduce cardinality for NEIGHBORHOOD feature\n",
        "\n",
        "# Get a list of the top 10 neighborhoods\n",
        "top10 = df['NEIGHBORHOOD'].value_counts()[:10].index\n",
        "\n",
        "# At locations where the neighborhood is NOT in the top 10, \n",
        "# replace the neighborhood with 'OTHER'\n",
        "df.loc[~df['NEIGHBORHOOD'].isin(top10), 'NEIGHBORHOOD'] = 'OTHER'"
      ],
      "execution_count": 4,
      "outputs": []
    },
    {
      "cell_type": "markdown",
      "metadata": {
        "id": "e3grrKMWZns_",
        "colab_type": "text"
      },
      "source": [
        "#Imports"
      ]
    },
    {
      "cell_type": "code",
      "metadata": {
        "id": "NgTkVk5sZOvn",
        "colab_type": "code",
        "colab": {}
      },
      "source": [
        "import numpy as np\n",
        "\n",
        "from sklearn.metrics import (mean_absolute_error,\n",
        "                             mean_squared_error,\n",
        "                             r2_score\n",
        "                             )\n",
        "from sklearn.linear_model import Ridge\n",
        "from sklearn.preprocessing import OneHotEncoder\n",
        "from sklearn.feature_selection import SelectKBest\n",
        "from sklearn.compose import make_column_transformer\n",
        "from sklearn.pipeline import make_pipeline"
      ],
      "execution_count": 5,
      "outputs": []
    },
    {
      "cell_type": "markdown",
      "metadata": {
        "id": "S7ekJTo3Z8PU",
        "colab_type": "text"
      },
      "source": [
        "#Cleaning"
      ]
    },
    {
      "cell_type": "code",
      "metadata": {
        "id": "jLe1vnzPZ6j-",
        "colab_type": "code",
        "colab": {}
      },
      "source": [
        "df.drop(['EASE-MENT','APARTMENT_NUMBER','ADDRESS'],axis=1,inplace=True)\n",
        "\n",
        "df.dropna(inplace=True)\n",
        "\n",
        "def remove_comma(cell):\n",
        "  return cell.replace(\",\",\"\")\n",
        "\n",
        "df['LAND_SQUARE_FEET'] = df['LAND_SQUARE_FEET'].apply(remove_comma)\n",
        "\n",
        "def make_int(cell):\n",
        "  if cell.isdigit():\n",
        "    return int(cell)\n",
        "  else:\n",
        "    return np.NaN\n",
        "\n",
        "df['LAND_SQUARE_FEET'] = df['LAND_SQUARE_FEET'].apply(remove_comma)"
      ],
      "execution_count": 6,
      "outputs": []
    },
    {
      "cell_type": "markdown",
      "metadata": {
        "id": "MGLTrJ5GaJ7Y",
        "colab_type": "text"
      },
      "source": [
        "#Masking"
      ]
    },
    {
      "cell_type": "code",
      "metadata": {
        "id": "EZLYD0m5aJVt",
        "colab_type": "code",
        "colab": {}
      },
      "source": [
        "useable = df[\n",
        "             (df['BUILDING_CLASS_CATEGORY'] == '01 ONE FAMILY DWELLINGS') &\n",
        "             ((df['SALE_PRICE'] > 100000) & (df['SALE_PRICE'] < 2000000))\n",
        "             ].copy()\n",
        "useable.drop(\"BUILDING_CLASS_CATEGORY\",axis=1,inplace=True)"
      ],
      "execution_count": 7,
      "outputs": []
    },
    {
      "cell_type": "code",
      "metadata": {
        "id": "TNpi53GraNI3",
        "colab_type": "code",
        "colab": {}
      },
      "source": [
        "useable['SALE_DATE'] = pd.to_datetime(useable['SALE_DATE'])"
      ],
      "execution_count": 8,
      "outputs": []
    },
    {
      "cell_type": "markdown",
      "metadata": {
        "id": "l15UhAzGaRT6",
        "colab_type": "text"
      },
      "source": [
        "#One Hot Encoding"
      ]
    },
    {
      "cell_type": "code",
      "metadata": {
        "id": "ZKEjyhfkaQj8",
        "colab_type": "code",
        "colab": {}
      },
      "source": [
        "column_trans = make_column_transformer(\n",
        "    (OneHotEncoder(),['NEIGHBORHOOD','BOROUGH',\"TAX_CLASS_AT_PRESENT\" ,\n",
        "                      'BUILDING_CLASS_AT_PRESENT','BUILDING_CLASS_AT_TIME_OF_SALE']),\n",
        "                      remainder='passthrough'\n",
        ")\n",
        "\n",
        "ridge = Ridge(normalize=True)\n",
        "\n",
        "pipe = make_pipeline(column_trans, ridge)"
      ],
      "execution_count": 9,
      "outputs": []
    },
    {
      "cell_type": "markdown",
      "metadata": {
        "id": "oL6TPEimbcmB",
        "colab_type": "text"
      },
      "source": [
        "#TTS"
      ]
    },
    {
      "cell_type": "code",
      "metadata": {
        "id": "h5tr4WA0bfIn",
        "colab_type": "code",
        "colab": {}
      },
      "source": [
        "train = useable[useable['SALE_DATE'].dt.month < 4]\n",
        "\n",
        "X_train = train.drop(['SALE_PRICE','SALE_DATE'],axis=1)\n",
        "y_train = train['SALE_PRICE']\n",
        "\n",
        "test = useable[useable['SALE_DATE'].dt.month == 4]\n",
        "\n",
        "X_test = test.drop([\"SALE_PRICE\",\"SALE_DATE\"],axis=1)\n",
        "y_test = test[\"SALE_PRICE\"]"
      ],
      "execution_count": 10,
      "outputs": []
    },
    {
      "cell_type": "markdown",
      "metadata": {
        "id": "fNXY9xEbbfmy",
        "colab_type": "text"
      },
      "source": [
        "#Baseline"
      ]
    },
    {
      "cell_type": "code",
      "metadata": {
        "id": "kpBluAiTbhgc",
        "colab_type": "code",
        "colab": {}
      },
      "source": [
        "baseline = y_train.mean()"
      ],
      "execution_count": 11,
      "outputs": []
    },
    {
      "cell_type": "markdown",
      "metadata": {
        "id": "CmJMpy3_bh0M",
        "colab_type": "text"
      },
      "source": [
        "#Predict"
      ]
    },
    {
      "cell_type": "code",
      "metadata": {
        "id": "Bkh5q1O2bXSf",
        "colab_type": "code",
        "colab": {
          "base_uri": "https://localhost:8080/",
          "height": 374
        },
        "outputId": "909a7762-8cf1-45d2-ebac-0320d61f29a2"
      },
      "source": [
        "pipe.fit(X_train,y_train)"
      ],
      "execution_count": 12,
      "outputs": [
        {
          "output_type": "execute_result",
          "data": {
            "text/plain": [
              "Pipeline(memory=None,\n",
              "         steps=[('columntransformer',\n",
              "                 ColumnTransformer(n_jobs=None, remainder='passthrough',\n",
              "                                   sparse_threshold=0.3,\n",
              "                                   transformer_weights=None,\n",
              "                                   transformers=[('onehotencoder',\n",
              "                                                  OneHotEncoder(categories='auto',\n",
              "                                                                drop=None,\n",
              "                                                                dtype=<class 'numpy.float64'>,\n",
              "                                                                handle_unknown='error',\n",
              "                                                                sparse=True),\n",
              "                                                  ['NEIGHBORHOOD', 'BOROUGH',\n",
              "                                                   'TAX_CLASS_AT_PRESENT',\n",
              "                                                   'BUILDING_CLASS_AT_PRESENT',\n",
              "                                                   'BUILDING_CLASS_AT_TIME_OF_SALE'])],\n",
              "                                   verbose=False)),\n",
              "                ('ridge',\n",
              "                 Ridge(alpha=1.0, copy_X=True, fit_intercept=True,\n",
              "                       max_iter=None, normalize=True, random_state=None,\n",
              "                       solver='auto', tol=0.001))],\n",
              "         verbose=False)"
            ]
          },
          "metadata": {
            "tags": []
          },
          "execution_count": 12
        }
      ]
    },
    {
      "cell_type": "code",
      "metadata": {
        "id": "cOXs2Na9b1cD",
        "colab_type": "code",
        "colab": {}
      },
      "source": [
        "y_known = pipe.predict(X_train)\n",
        "y_new = pipe.predict(X_test)"
      ],
      "execution_count": 13,
      "outputs": []
    },
    {
      "cell_type": "code",
      "metadata": {
        "id": "FyMBg1Wab5Xs",
        "colab_type": "code",
        "colab": {
          "base_uri": "https://localhost:8080/",
          "height": 68
        },
        "outputId": "8567ccca-50cb-4037-9209-13a5f84aee61"
      },
      "source": [
        "mae = mean_absolute_error(y_train,y_known)\n",
        "rmse = np.sqrt(mean_squared_error(y_train, y_known))\n",
        "r_sqr = r2_score(y_train, y_known)\n",
        "\n",
        "print(f\"Train MAE: {mae}\")\n",
        "print(f\"Train RMSE: {rmse}\")\n",
        "print(f\"Train r_sqr: {r_sqr}\")"
      ],
      "execution_count": 14,
      "outputs": [
        {
          "output_type": "stream",
          "text": [
            "Train MAE: 166029.40384136105\n",
            "Train RMSE: 232007.0602490939\n",
            "Train r_sqr: 0.3667443001215934\n"
          ],
          "name": "stdout"
        }
      ]
    },
    {
      "cell_type": "code",
      "metadata": {
        "id": "ttyrSk5Pcv1C",
        "colab_type": "code",
        "colab": {
          "base_uri": "https://localhost:8080/",
          "height": 68
        },
        "outputId": "8e402eea-36d4-4124-ca01-fe314f2af687"
      },
      "source": [
        "mae = mean_absolute_error(y_test,y_new)\n",
        "rmse = np.sqrt(mean_squared_error(y_test, y_new))\n",
        "r_sqr = r2_score(y_test, y_new)\n",
        "\n",
        "print(f\"Test MAE: {mae}\")\n",
        "print(f\"Test RMSE: {rmse}\")\n",
        "print(f\"Test r_sqr: {r_sqr}\")"
      ],
      "execution_count": 15,
      "outputs": [
        {
          "output_type": "stream",
          "text": [
            "Test MAE: 167590.72089037535\n",
            "Test RMSE: 243450.37310455588\n",
            "Test r_sqr: 0.32695901463238686\n"
          ],
          "name": "stdout"
        }
      ]
    },
    {
      "cell_type": "markdown",
      "metadata": {
        "id": "L-rXAgaQjPvu",
        "colab_type": "text"
      },
      "source": [
        "Test MAE: 167648.2359908375\n",
        "Test RMSE: 244097.98911293977\n",
        "Test R^2: 0.32337346366523617"
      ]
    },
    {
      "cell_type": "code",
      "metadata": {
        "id": "KXmWdGandCco",
        "colab_type": "code",
        "colab": {
          "base_uri": "https://localhost:8080/",
          "height": 51
        },
        "outputId": "b547018e-931a-417f-9e7f-99a187697f57"
      },
      "source": [
        "base_mae = mean_absolute_error(y_test, [baseline] * len(y_test))\n",
        "\n",
        "print(f\"If we always guessed the price to be the average price we'd be off by {base_mae}\")\n",
        "print(f\"but by using our model we'be off by {mae}\")"
      ],
      "execution_count": 16,
      "outputs": [
        {
          "output_type": "stream",
          "text": [
            "If we always guessed the price to be the average price we'd be off by 211564.20053849227\n",
            "but by using our model we'be off by 167590.72089037535\n"
          ],
          "name": "stdout"
        }
      ]
    },
    {
      "cell_type": "markdown",
      "metadata": {
        "id": "WUSECfQzdsQO",
        "colab_type": "text"
      },
      "source": [
        "#Select K Best"
      ]
    },
    {
      "cell_type": "code",
      "metadata": {
        "id": "uELnJlQ2duN1",
        "colab_type": "code",
        "colab": {
          "base_uri": "https://localhost:8080/",
          "height": 86
        },
        "outputId": "9abf1022-b639-4919-c127-1f260e36905a"
      },
      "source": [
        "#max is 9\n",
        "'''\n",
        "for i in range(1,9):\n",
        "  selector = SelectKBest(k=i)\n",
        "\n",
        "  X_train_selected = selector.fit_transform(X_train.select_dtypes(exclude=object),y_train)\n",
        "  X_test_selected = selector.transform(X_test.select_dtypes(exclude=object))\n",
        "\n",
        "  mask = selector.get_support()\n",
        "\n",
        "  rd = Ridge()\n",
        "\n",
        "  rd.fit(X_train[X_train.select_dtypes(exclude=object).columns[mask]],y_train)\n",
        "\n",
        "  y_hat = rd.predict(X_test[X_test.select_dtypes(exclude=object).columns[mask]])\n",
        "\n",
        "  mae = mean_absolute_error(y_test,y_hat)\n",
        "  rmse = np.sqrt(mean_squared_error(y_test, y_hat))\n",
        "  r_sqr = r2_score(y_test, y_hat)\n",
        "\n",
        "  print(f'This is with {i}')\n",
        "\n",
        "  print(f\"Train MAE: {mae}\")\n",
        "  print(f\"Train RMSE: {rmse}\")\n",
        "  print(f\"Train r_sqr: {r_sqr}\\n\\n\\n\")'''"
      ],
      "execution_count": 17,
      "outputs": [
        {
          "output_type": "execute_result",
          "data": {
            "application/vnd.google.colaboratory.intrinsic": {
              "type": "string"
            },
            "text/plain": [
              "'\\nfor i in range(1,9):\\n  selector = SelectKBest(k=i)\\n\\n  X_train_selected = selector.fit_transform(X_train.select_dtypes(exclude=object),y_train)\\n  X_test_selected = selector.transform(X_test.select_dtypes(exclude=object))\\n\\n  mask = selector.get_support()\\n\\n  rd = Ridge()\\n\\n  rd.fit(X_train[X_train.select_dtypes(exclude=object).columns[mask]],y_train)\\n\\n  y_hat = rd.predict(X_test[X_test.select_dtypes(exclude=object).columns[mask]])\\n\\n  mae = mean_absolute_error(y_test,y_hat)\\n  rmse = np.sqrt(mean_squared_error(y_test, y_hat))\\n  r_sqr = r2_score(y_test, y_hat)\\n\\n  print(f\\'This is with {i}\\')\\n\\n  print(f\"Train MAE: {mae}\")\\n  print(f\"Train RMSE: {rmse}\")\\n  print(f\"Train r_sqr: {r_sqr}\\n\\n\\n\")'"
            ]
          },
          "metadata": {
            "tags": []
          },
          "execution_count": 17
        }
      ]
    },
    {
      "cell_type": "code",
      "metadata": {
        "id": "StV5gUZ_fIRs",
        "colab_type": "code",
        "colab": {}
      },
      "source": [
        ""
      ],
      "execution_count": 17,
      "outputs": []
    },
    {
      "cell_type": "code",
      "metadata": {
        "id": "4kJMc3t5fsA1",
        "colab_type": "code",
        "colab": {}
      },
      "source": [
        ""
      ],
      "execution_count": 17,
      "outputs": []
    }
  ]
}