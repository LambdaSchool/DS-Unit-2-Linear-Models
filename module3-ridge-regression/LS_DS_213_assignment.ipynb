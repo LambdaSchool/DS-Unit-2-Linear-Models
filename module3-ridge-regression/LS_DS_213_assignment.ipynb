{
  "nbformat": 4,
  "nbformat_minor": 0,
  "metadata": {
    "kernelspec": {
      "display_name": "Python 3",
      "language": "python",
      "name": "python3"
    },
    "language_info": {
      "codemirror_mode": {
        "name": "ipython",
        "version": 3
      },
      "file_extension": ".py",
      "mimetype": "text/x-python",
      "name": "python",
      "nbconvert_exporter": "python",
      "pygments_lexer": "ipython3",
      "version": "3.7.3"
    },
    "colab": {
      "name": "LS_DS_213_assignment.ipynb",
      "provenance": [],
      "include_colab_link": true
    }
  },
  "cells": [
    {
      "cell_type": "markdown",
      "metadata": {
        "id": "view-in-github",
        "colab_type": "text"
      },
      "source": [
        "<a href=\"https://colab.research.google.com/github/abdishifa234/DS-Unit-2-Linear-Models/blob/master/module3-ridge-regression/LS_DS_213_assignment.ipynb\" target=\"_parent\"><img src=\"https://colab.research.google.com/assets/colab-badge.svg\" alt=\"Open In Colab\"/></a>"
      ]
    },
    {
      "cell_type": "markdown",
      "metadata": {
        "id": "-IeAOa3dVTrc",
        "colab_type": "text"
      },
      "source": [
        "Lambda School Data Science\n",
        "\n",
        "*Unit 2, Sprint 1, Module 3*\n",
        "\n",
        "---"
      ]
    },
    {
      "cell_type": "markdown",
      "metadata": {
        "colab_type": "text",
        "id": "7IXUfiQ2UKj6"
      },
      "source": [
        "# Ridge Regression\n",
        "\n",
        "## Assignment\n",
        "\n",
        "We're going back to our other **New York City** real estate dataset. Instead of predicting apartment rents, you'll predict property sales prices.\n",
        "\n",
        "But not just for condos in Tribeca...\n",
        "\n",
        "- [ ] Use a subset of the data where `BUILDING_CLASS_CATEGORY` == `'01 ONE FAMILY DWELLINGS'` and the sale price was more than 100 thousand and less than 2 million.\n",
        "- [ ] Do train/test split. Use data from January — March 2019 to train. Use data from April 2019 to test.\n",
        "- [ ] Do one-hot encoding of categorical features.\n",
        "- [ ] Do feature selection with `SelectKBest`.\n",
        "- [ ] Fit a ridge regression model with multiple features. Use the `normalize=True` parameter (or do [feature scaling](https://scikit-learn.org/stable/modules/preprocessing.html) beforehand — use the scaler's `fit_transform` method with the train set, and the scaler's `transform` method with the test set)\n",
        "- [ ] Get mean absolute error for the test set.\n",
        "- [ ] As always, commit your notebook to your fork of the GitHub repo.\n",
        "\n",
        "The [NYC Department of Finance](https://www1.nyc.gov/site/finance/taxes/property-rolling-sales-data.page) has a glossary of property sales terms and NYC Building Class Code Descriptions. The data comes from the [NYC OpenData](https://data.cityofnewyork.us/browse?q=NYC%20calendar%20sales) portal.\n",
        "\n",
        "\n",
        "## Stretch Goals\n",
        "\n",
        "Don't worry, you aren't expected to do all these stretch goals! These are just ideas to consider and choose from.\n",
        "\n",
        "- [ ] Add your own stretch goal(s) !\n",
        "- [ ] Instead of `Ridge`, try `LinearRegression`. Depending on how many features you select, your errors will probably blow up! 💥\n",
        "- [ ] Instead of `Ridge`, try [`RidgeCV`](https://scikit-learn.org/stable/modules/generated/sklearn.linear_model.RidgeCV.html).\n",
        "- [ ] Learn more about feature selection:\n",
        "    - [\"Permutation importance\"](https://www.kaggle.com/dansbecker/permutation-importance)\n",
        "    - [scikit-learn's User Guide for Feature Selection](https://scikit-learn.org/stable/modules/feature_selection.html)\n",
        "    - [mlxtend](http://rasbt.github.io/mlxtend/) library\n",
        "    - scikit-learn-contrib libraries: [boruta_py](https://github.com/scikit-learn-contrib/boruta_py) & [stability-selection](https://github.com/scikit-learn-contrib/stability-selection)\n",
        "    - [_Feature Engineering and Selection_](http://www.feat.engineering/) by Kuhn & Johnson.\n",
        "- [ ] Try [statsmodels](https://www.statsmodels.org/stable/index.html) if you’re interested in more inferential statistical approach to linear regression and feature selection, looking at p values and 95% confidence intervals for the coefficients.\n",
        "- [ ] Read [_An Introduction to Statistical Learning_](http://faculty.marshall.usc.edu/gareth-james/ISL/ISLR%20Seventh%20Printing.pdf), Chapters 1-3, for more math & theory, but in an accessible, readable way.\n",
        "- [ ] Try [scikit-learn pipelines](https://scikit-learn.org/stable/modules/compose.html)."
      ]
    },
    {
      "cell_type": "code",
      "metadata": {
        "colab_type": "code",
        "id": "o9eSnDYhUGD7",
        "colab": {}
      },
      "source": [
        "%%capture\n",
        "import sys\n",
        "\n",
        "# If you're on Colab:\n",
        "if 'google.colab' in sys.modules:\n",
        "    DATA_PATH = 'https://raw.githubusercontent.com/LambdaSchool/DS-Unit-2-Applied-Modeling/master/data/'\n",
        "    !pip install category_encoders==2.*\n",
        "\n",
        "# If you're working locally:\n",
        "else:\n",
        "    DATA_PATH = '../data/'\n",
        "    \n",
        "# Ignore this Numpy warning when using Plotly Express:\n",
        "# FutureWarning: Method .ptp is deprecated and will be removed in a future version. Use numpy.ptp instead.\n",
        "import warnings\n",
        "warnings.filterwarnings(action='ignore', category=FutureWarning, module='numpy')"
      ],
      "execution_count": 97,
      "outputs": []
    },
    {
      "cell_type": "code",
      "metadata": {
        "colab_type": "code",
        "id": "QJBD4ruICm1m",
        "colab": {}
      },
      "source": [
        "import pandas as pd\n",
        "import pandas_profiling\n",
        "\n",
        "# Read New York City property sales data\n",
        "df = pd.read_csv(DATA_PATH+'condos/NYC_Citywide_Rolling_Calendar_Sales.csv')\n",
        "\n",
        "# Change column names: replace spaces with underscores\n",
        "df.columns = [col.replace(' ', '_') for col in df]\n",
        "\n",
        "# SALE_PRICE was read as strings.\n",
        "# Remove symbols, convert to integer\n",
        "df['SALE_PRICE'] = (\n",
        "    df['SALE_PRICE']\n",
        "    .str.replace('$','')\n",
        "    .str.replace('-','')\n",
        "    .str.replace(',','')\n",
        "    .astype(int)\n",
        ")"
      ],
      "execution_count": 98,
      "outputs": []
    },
    {
      "cell_type": "code",
      "metadata": {
        "id": "L5jVoWG6VTrq",
        "colab_type": "code",
        "colab": {}
      },
      "source": [
        "# BOROUGH is a numeric column, but arguably should be a categorical feature,\n",
        "# so convert it from a number to a string\n",
        "df['BOROUGH'] = df['BOROUGH'].astype(str)"
      ],
      "execution_count": 99,
      "outputs": []
    },
    {
      "cell_type": "code",
      "metadata": {
        "id": "NQYHcrolVTru",
        "colab_type": "code",
        "colab": {}
      },
      "source": [
        "# Reduce cardinality for NEIGHBORHOOD feature\n",
        "\n",
        "# Get a list of the top 10 neighborhoods\n",
        "top10 = df['NEIGHBORHOOD'].value_counts()[:10].index\n",
        "\n",
        "# At locations where the neighborhood is NOT in the top 10, \n",
        "# replace the neighborhood with 'OTHER'\n",
        "df.loc[~df['NEIGHBORHOOD'].isin(top10), 'NEIGHBORHOOD'] = 'OTHER'"
      ],
      "execution_count": 100,
      "outputs": []
    },
    {
      "cell_type": "markdown",
      "metadata": {
        "id": "3CxhzLsvP1Qn",
        "colab_type": "text"
      },
      "source": [
        "###Use a subset of the data where `BUILDING_CLASS_CATEGORY` == `'01 ONE FAMILY DWELLINGS'` and the sale price was more than 100 thousand and less than 2 million."
      ]
    },
    {
      "cell_type": "code",
      "metadata": {
        "id": "3QZZgNxnJh0J",
        "colab_type": "code",
        "colab": {
          "base_uri": "https://localhost:8080/",
          "height": 34
        },
        "outputId": "5e4331e4-167b-4532-fa08-7e888a721f4d"
      },
      "source": [
        "#Lets select this condition ('BUILDING_CLASS_CATEGORY' == '01 ONE FAMILY DWELLINGS')\n",
        "df = df[df['BUILDING_CLASS_CATEGORY'] == '01 ONE FAMILY DWELLINGS']\n",
        "df.shape"
      ],
      "execution_count": 101,
      "outputs": [
        {
          "output_type": "execute_result",
          "data": {
            "text/plain": [
              "(5061, 21)"
            ]
          },
          "metadata": {
            "tags": []
          },
          "execution_count": 101
        }
      ]
    },
    {
      "cell_type": "code",
      "metadata": {
        "id": "cmxLrgC9PTlo",
        "colab_type": "code",
        "colab": {
          "base_uri": "https://localhost:8080/",
          "height": 34
        },
        "outputId": "57db4f19-7cd4-443f-e141-e22f600fd357"
      },
      "source": [
        "#Lets select sale price is more than 100 thousand and less than 2 million.\n",
        "df = df[(df['SALE_PRICE'] > 100000) & (df['SALE_PRICE'] < 2000000)]\n",
        "df.shape"
      ],
      "execution_count": 102,
      "outputs": [
        {
          "output_type": "execute_result",
          "data": {
            "text/plain": [
              "(3151, 21)"
            ]
          },
          "metadata": {
            "tags": []
          },
          "execution_count": 102
        }
      ]
    },
    {
      "cell_type": "code",
      "metadata": {
        "id": "N1kLwAFSPiUY",
        "colab_type": "code",
        "colab": {
          "base_uri": "https://localhost:8080/",
          "height": 494
        },
        "outputId": "6b39f80f-f95c-454d-e809-cfd2044a6e56"
      },
      "source": [
        "#Check the dataset\n",
        "df.info()"
      ],
      "execution_count": 103,
      "outputs": [
        {
          "output_type": "stream",
          "text": [
            "<class 'pandas.core.frame.DataFrame'>\n",
            "Int64Index: 3151 entries, 44 to 23035\n",
            "Data columns (total 21 columns):\n",
            " #   Column                          Non-Null Count  Dtype  \n",
            "---  ------                          --------------  -----  \n",
            " 0   BOROUGH                         3151 non-null   object \n",
            " 1   NEIGHBORHOOD                    3151 non-null   object \n",
            " 2   BUILDING_CLASS_CATEGORY         3151 non-null   object \n",
            " 3   TAX_CLASS_AT_PRESENT            3151 non-null   object \n",
            " 4   BLOCK                           3151 non-null   int64  \n",
            " 5   LOT                             3151 non-null   int64  \n",
            " 6   EASE-MENT                       0 non-null      float64\n",
            " 7   BUILDING_CLASS_AT_PRESENT       3151 non-null   object \n",
            " 8   ADDRESS                         3151 non-null   object \n",
            " 9   APARTMENT_NUMBER                1 non-null      object \n",
            " 10  ZIP_CODE                        3151 non-null   float64\n",
            " 11  RESIDENTIAL_UNITS               3151 non-null   float64\n",
            " 12  COMMERCIAL_UNITS                3151 non-null   float64\n",
            " 13  TOTAL_UNITS                     3151 non-null   float64\n",
            " 14  LAND_SQUARE_FEET                3151 non-null   object \n",
            " 15  GROSS_SQUARE_FEET               3151 non-null   float64\n",
            " 16  YEAR_BUILT                      3151 non-null   float64\n",
            " 17  TAX_CLASS_AT_TIME_OF_SALE       3151 non-null   int64  \n",
            " 18  BUILDING_CLASS_AT_TIME_OF_SALE  3151 non-null   object \n",
            " 19  SALE_PRICE                      3151 non-null   int64  \n",
            " 20  SALE_DATE                       3151 non-null   object \n",
            "dtypes: float64(7), int64(4), object(10)\n",
            "memory usage: 541.6+ KB\n"
          ],
          "name": "stdout"
        }
      ]
    },
    {
      "cell_type": "code",
      "metadata": {
        "id": "p91ZGuVtTRhk",
        "colab_type": "code",
        "colab": {
          "base_uri": "https://localhost:8080/",
          "height": 324
        },
        "outputId": "9b45a43e-3343-4366-a382-c0aa68eb1d6e"
      },
      "source": [
        "#check for numeric column\n",
        "df.describe()"
      ],
      "execution_count": 104,
      "outputs": [
        {
          "output_type": "execute_result",
          "data": {
            "text/html": [
              "<div>\n",
              "<style scoped>\n",
              "    .dataframe tbody tr th:only-of-type {\n",
              "        vertical-align: middle;\n",
              "    }\n",
              "\n",
              "    .dataframe tbody tr th {\n",
              "        vertical-align: top;\n",
              "    }\n",
              "\n",
              "    .dataframe thead th {\n",
              "        text-align: right;\n",
              "    }\n",
              "</style>\n",
              "<table border=\"1\" class=\"dataframe\">\n",
              "  <thead>\n",
              "    <tr style=\"text-align: right;\">\n",
              "      <th></th>\n",
              "      <th>BLOCK</th>\n",
              "      <th>LOT</th>\n",
              "      <th>EASE-MENT</th>\n",
              "      <th>ZIP_CODE</th>\n",
              "      <th>RESIDENTIAL_UNITS</th>\n",
              "      <th>COMMERCIAL_UNITS</th>\n",
              "      <th>TOTAL_UNITS</th>\n",
              "      <th>GROSS_SQUARE_FEET</th>\n",
              "      <th>YEAR_BUILT</th>\n",
              "      <th>TAX_CLASS_AT_TIME_OF_SALE</th>\n",
              "      <th>SALE_PRICE</th>\n",
              "    </tr>\n",
              "  </thead>\n",
              "  <tbody>\n",
              "    <tr>\n",
              "      <th>count</th>\n",
              "      <td>3151.000000</td>\n",
              "      <td>3151.000000</td>\n",
              "      <td>0.0</td>\n",
              "      <td>3151.000000</td>\n",
              "      <td>3151.000000</td>\n",
              "      <td>3151.000000</td>\n",
              "      <td>3151.000000</td>\n",
              "      <td>3151.000000</td>\n",
              "      <td>3151.000000</td>\n",
              "      <td>3151.0</td>\n",
              "      <td>3.151000e+03</td>\n",
              "    </tr>\n",
              "    <tr>\n",
              "      <th>mean</th>\n",
              "      <td>6917.976515</td>\n",
              "      <td>75.981593</td>\n",
              "      <td>NaN</td>\n",
              "      <td>11027.219613</td>\n",
              "      <td>0.987623</td>\n",
              "      <td>0.015868</td>\n",
              "      <td>1.003491</td>\n",
              "      <td>1470.306887</td>\n",
              "      <td>1943.694700</td>\n",
              "      <td>1.0</td>\n",
              "      <td>6.285601e+05</td>\n",
              "    </tr>\n",
              "    <tr>\n",
              "      <th>std</th>\n",
              "      <td>3963.326705</td>\n",
              "      <td>161.089514</td>\n",
              "      <td>NaN</td>\n",
              "      <td>482.875284</td>\n",
              "      <td>0.113414</td>\n",
              "      <td>0.127499</td>\n",
              "      <td>0.171789</td>\n",
              "      <td>586.339200</td>\n",
              "      <td>26.676786</td>\n",
              "      <td>0.0</td>\n",
              "      <td>2.929904e+05</td>\n",
              "    </tr>\n",
              "    <tr>\n",
              "      <th>min</th>\n",
              "      <td>21.000000</td>\n",
              "      <td>1.000000</td>\n",
              "      <td>NaN</td>\n",
              "      <td>10030.000000</td>\n",
              "      <td>0.000000</td>\n",
              "      <td>0.000000</td>\n",
              "      <td>0.000000</td>\n",
              "      <td>0.000000</td>\n",
              "      <td>1890.000000</td>\n",
              "      <td>1.0</td>\n",
              "      <td>1.040000e+05</td>\n",
              "    </tr>\n",
              "    <tr>\n",
              "      <th>25%</th>\n",
              "      <td>4016.000000</td>\n",
              "      <td>21.000000</td>\n",
              "      <td>NaN</td>\n",
              "      <td>10461.000000</td>\n",
              "      <td>1.000000</td>\n",
              "      <td>0.000000</td>\n",
              "      <td>1.000000</td>\n",
              "      <td>1144.000000</td>\n",
              "      <td>1925.000000</td>\n",
              "      <td>1.0</td>\n",
              "      <td>4.475000e+05</td>\n",
              "    </tr>\n",
              "    <tr>\n",
              "      <th>50%</th>\n",
              "      <td>6301.000000</td>\n",
              "      <td>42.000000</td>\n",
              "      <td>NaN</td>\n",
              "      <td>11235.000000</td>\n",
              "      <td>1.000000</td>\n",
              "      <td>0.000000</td>\n",
              "      <td>1.000000</td>\n",
              "      <td>1360.000000</td>\n",
              "      <td>1938.000000</td>\n",
              "      <td>1.0</td>\n",
              "      <td>5.680000e+05</td>\n",
              "    </tr>\n",
              "    <tr>\n",
              "      <th>75%</th>\n",
              "      <td>10208.500000</td>\n",
              "      <td>69.000000</td>\n",
              "      <td>NaN</td>\n",
              "      <td>11413.000000</td>\n",
              "      <td>1.000000</td>\n",
              "      <td>0.000000</td>\n",
              "      <td>1.000000</td>\n",
              "      <td>1683.000000</td>\n",
              "      <td>1955.000000</td>\n",
              "      <td>1.0</td>\n",
              "      <td>7.600000e+05</td>\n",
              "    </tr>\n",
              "    <tr>\n",
              "      <th>max</th>\n",
              "      <td>16350.000000</td>\n",
              "      <td>2720.000000</td>\n",
              "      <td>NaN</td>\n",
              "      <td>11697.000000</td>\n",
              "      <td>2.000000</td>\n",
              "      <td>2.000000</td>\n",
              "      <td>3.000000</td>\n",
              "      <td>7875.000000</td>\n",
              "      <td>2018.000000</td>\n",
              "      <td>1.0</td>\n",
              "      <td>1.955000e+06</td>\n",
              "    </tr>\n",
              "  </tbody>\n",
              "</table>\n",
              "</div>"
            ],
            "text/plain": [
              "              BLOCK          LOT  ...  TAX_CLASS_AT_TIME_OF_SALE    SALE_PRICE\n",
              "count   3151.000000  3151.000000  ...                     3151.0  3.151000e+03\n",
              "mean    6917.976515    75.981593  ...                        1.0  6.285601e+05\n",
              "std     3963.326705   161.089514  ...                        0.0  2.929904e+05\n",
              "min       21.000000     1.000000  ...                        1.0  1.040000e+05\n",
              "25%     4016.000000    21.000000  ...                        1.0  4.475000e+05\n",
              "50%     6301.000000    42.000000  ...                        1.0  5.680000e+05\n",
              "75%    10208.500000    69.000000  ...                        1.0  7.600000e+05\n",
              "max    16350.000000  2720.000000  ...                        1.0  1.955000e+06\n",
              "\n",
              "[8 rows x 11 columns]"
            ]
          },
          "metadata": {
            "tags": []
          },
          "execution_count": 104
        }
      ]
    },
    {
      "cell_type": "code",
      "metadata": {
        "id": "9hh8C2JJTght",
        "colab_type": "code",
        "colab": {
          "base_uri": "https://localhost:8080/",
          "height": 221
        },
        "outputId": "0206dc1f-a7fa-4b37-9ba8-524b684ac028"
      },
      "source": [
        "#check for categorical column\n",
        "df.describe(exclude='number')"
      ],
      "execution_count": 105,
      "outputs": [
        {
          "output_type": "execute_result",
          "data": {
            "text/html": [
              "<div>\n",
              "<style scoped>\n",
              "    .dataframe tbody tr th:only-of-type {\n",
              "        vertical-align: middle;\n",
              "    }\n",
              "\n",
              "    .dataframe tbody tr th {\n",
              "        vertical-align: top;\n",
              "    }\n",
              "\n",
              "    .dataframe thead th {\n",
              "        text-align: right;\n",
              "    }\n",
              "</style>\n",
              "<table border=\"1\" class=\"dataframe\">\n",
              "  <thead>\n",
              "    <tr style=\"text-align: right;\">\n",
              "      <th></th>\n",
              "      <th>BOROUGH</th>\n",
              "      <th>NEIGHBORHOOD</th>\n",
              "      <th>BUILDING_CLASS_CATEGORY</th>\n",
              "      <th>TAX_CLASS_AT_PRESENT</th>\n",
              "      <th>BUILDING_CLASS_AT_PRESENT</th>\n",
              "      <th>ADDRESS</th>\n",
              "      <th>APARTMENT_NUMBER</th>\n",
              "      <th>LAND_SQUARE_FEET</th>\n",
              "      <th>BUILDING_CLASS_AT_TIME_OF_SALE</th>\n",
              "      <th>SALE_DATE</th>\n",
              "    </tr>\n",
              "  </thead>\n",
              "  <tbody>\n",
              "    <tr>\n",
              "      <th>count</th>\n",
              "      <td>3151</td>\n",
              "      <td>3151</td>\n",
              "      <td>3151</td>\n",
              "      <td>3151</td>\n",
              "      <td>3151</td>\n",
              "      <td>3151</td>\n",
              "      <td>1</td>\n",
              "      <td>3151</td>\n",
              "      <td>3151</td>\n",
              "      <td>3151</td>\n",
              "    </tr>\n",
              "    <tr>\n",
              "      <th>unique</th>\n",
              "      <td>5</td>\n",
              "      <td>6</td>\n",
              "      <td>1</td>\n",
              "      <td>2</td>\n",
              "      <td>13</td>\n",
              "      <td>3135</td>\n",
              "      <td>1</td>\n",
              "      <td>1035</td>\n",
              "      <td>11</td>\n",
              "      <td>91</td>\n",
              "    </tr>\n",
              "    <tr>\n",
              "      <th>top</th>\n",
              "      <td>4</td>\n",
              "      <td>OTHER</td>\n",
              "      <td>01 ONE FAMILY DWELLINGS</td>\n",
              "      <td>1</td>\n",
              "      <td>A1</td>\n",
              "      <td>46-12 30TH ROAD</td>\n",
              "      <td>RP.</td>\n",
              "      <td>4,000</td>\n",
              "      <td>A1</td>\n",
              "      <td>01/31/2019</td>\n",
              "    </tr>\n",
              "    <tr>\n",
              "      <th>freq</th>\n",
              "      <td>1580</td>\n",
              "      <td>2990</td>\n",
              "      <td>3151</td>\n",
              "      <td>3111</td>\n",
              "      <td>1185</td>\n",
              "      <td>2</td>\n",
              "      <td>1</td>\n",
              "      <td>289</td>\n",
              "      <td>1186</td>\n",
              "      <td>78</td>\n",
              "    </tr>\n",
              "  </tbody>\n",
              "</table>\n",
              "</div>"
            ],
            "text/plain": [
              "       BOROUGH NEIGHBORHOOD  ... BUILDING_CLASS_AT_TIME_OF_SALE   SALE_DATE\n",
              "count     3151         3151  ...                           3151        3151\n",
              "unique       5            6  ...                             11          91\n",
              "top          4        OTHER  ...                             A1  01/31/2019\n",
              "freq      1580         2990  ...                           1186          78\n",
              "\n",
              "[4 rows x 10 columns]"
            ]
          },
          "metadata": {
            "tags": []
          },
          "execution_count": 105
        }
      ]
    },
    {
      "cell_type": "markdown",
      "metadata": {
        "id": "iqb9GGujPqK9",
        "colab_type": "text"
      },
      "source": [
        "###Do train/test split. Use data from January to March 2019 to train. Use data from April 2019 to test."
      ]
    },
    {
      "cell_type": "code",
      "metadata": {
        "id": "S-_AyYJBPipC",
        "colab_type": "code",
        "colab": {
          "base_uri": "https://localhost:8080/",
          "height": 34
        },
        "outputId": "391dcba6-c8cd-40bf-8423-ea8527235ddd"
      },
      "source": [
        "df['SALE_DATE'].dtype"
      ],
      "execution_count": 106,
      "outputs": [
        {
          "output_type": "execute_result",
          "data": {
            "text/plain": [
              "dtype('O')"
            ]
          },
          "metadata": {
            "tags": []
          },
          "execution_count": 106
        }
      ]
    },
    {
      "cell_type": "code",
      "metadata": {
        "id": "d5H78fjRUCB4",
        "colab_type": "code",
        "colab": {
          "base_uri": "https://localhost:8080/",
          "height": 34
        },
        "outputId": "62462aa4-5dfa-479a-cdfa-e49166635ab0"
      },
      "source": [
        "#lets change the data types of the columns \"SALE_DATE\" to date time object\n",
        "df['SALE_DATE'] = pd.to_datetime(df['SALE_DATE'], infer_datetime_format=True)\n",
        "#check the data types again\n",
        "df['SALE_DATE'].dtype"
      ],
      "execution_count": 107,
      "outputs": [
        {
          "output_type": "execute_result",
          "data": {
            "text/plain": [
              "dtype('<M8[ns]')"
            ]
          },
          "metadata": {
            "tags": []
          },
          "execution_count": 107
        }
      ]
    },
    {
      "cell_type": "code",
      "metadata": {
        "id": "jXopYGLnUCE1",
        "colab_type": "code",
        "colab": {}
      },
      "source": [
        "#ok lets do train test split by using cutoff time '04/01/2019'\n",
        "cutoff = pd.to_datetime('04/01/2019')\n",
        "train = df[df['SALE_DATE'] < cutoff]\n",
        "test = df[df['SALE_DATE'] >= cutoff]"
      ],
      "execution_count": 108,
      "outputs": []
    },
    {
      "cell_type": "code",
      "metadata": {
        "id": "yPEnVRaaUCIG",
        "colab_type": "code",
        "colab": {
          "base_uri": "https://localhost:8080/",
          "height": 34
        },
        "outputId": "66d32295-e538-4411-a8b5-90f4b71d144b"
      },
      "source": [
        "#ok lets see the shape of the train and test set\n",
        "print(train.shape, test.shape)"
      ],
      "execution_count": 109,
      "outputs": [
        {
          "output_type": "stream",
          "text": [
            "(2507, 21) (644, 21)\n"
          ],
          "name": "stdout"
        }
      ]
    },
    {
      "cell_type": "markdown",
      "metadata": {
        "id": "DvAu9FE2QOJc",
        "colab_type": "text"
      },
      "source": [
        "###Do one-hot encoding of categorical features."
      ]
    },
    {
      "cell_type": "code",
      "metadata": {
        "id": "DaQgu1vWQTad",
        "colab_type": "code",
        "colab": {
          "base_uri": "https://localhost:8080/",
          "height": 392
        },
        "outputId": "c21f79cf-2c2f-4a02-ff37-6546dc1b3143"
      },
      "source": [
        "df.nunique()"
      ],
      "execution_count": 110,
      "outputs": [
        {
          "output_type": "execute_result",
          "data": {
            "text/plain": [
              "BOROUGH                              5\n",
              "NEIGHBORHOOD                         6\n",
              "BUILDING_CLASS_CATEGORY              1\n",
              "TAX_CLASS_AT_PRESENT                 2\n",
              "BLOCK                             2496\n",
              "LOT                                332\n",
              "EASE-MENT                            0\n",
              "BUILDING_CLASS_AT_PRESENT           13\n",
              "ADDRESS                           3135\n",
              "APARTMENT_NUMBER                     1\n",
              "ZIP_CODE                           125\n",
              "RESIDENTIAL_UNITS                    3\n",
              "COMMERCIAL_UNITS                     3\n",
              "TOTAL_UNITS                          4\n",
              "LAND_SQUARE_FEET                  1035\n",
              "GROSS_SQUARE_FEET                 1050\n",
              "YEAR_BUILT                          89\n",
              "TAX_CLASS_AT_TIME_OF_SALE            1\n",
              "BUILDING_CLASS_AT_TIME_OF_SALE      11\n",
              "SALE_PRICE                        1000\n",
              "SALE_DATE                           91\n",
              "dtype: int64"
            ]
          },
          "metadata": {
            "tags": []
          },
          "execution_count": 110
        }
      ]
    },
    {
      "cell_type": "markdown",
      "metadata": {
        "id": "LOIjeRurgA_g",
        "colab_type": "text"
      },
      "source": [
        "###Let's see at the relationship between NEIHBORHOOD and SALE PRICE:"
      ]
    },
    {
      "cell_type": "code",
      "metadata": {
        "id": "Dg2cA2Jzfso2",
        "colab_type": "code",
        "colab": {
          "base_uri": "https://localhost:8080/",
          "height": 136
        },
        "outputId": "008e6051-fb66-4fb9-9630-ae07ce5c34dd"
      },
      "source": [
        "df['NEIGHBORHOOD'].value_counts()"
      ],
      "execution_count": 111,
      "outputs": [
        {
          "output_type": "execute_result",
          "data": {
            "text/plain": [
              "OTHER                 2990\n",
              "FLUSHING-NORTH          97\n",
              "FOREST HILLS            22\n",
              "BOROUGH PARK            19\n",
              "ASTORIA                 14\n",
              "BEDFORD STUYVESANT       9\n",
              "Name: NEIGHBORHOOD, dtype: int64"
            ]
          },
          "metadata": {
            "tags": []
          },
          "execution_count": 111
        }
      ]
    },
    {
      "cell_type": "code",
      "metadata": {
        "id": "wpYJBVEbfuow",
        "colab_type": "code",
        "colab": {
          "base_uri": "https://localhost:8080/",
          "height": 153
        },
        "outputId": "5fa4278f-7f54-418f-9b24-4cdf38c144bd"
      },
      "source": [
        "train.groupby('NEIGHBORHOOD')['SALE_PRICE'].mean().sort_values()"
      ],
      "execution_count": 112,
      "outputs": [
        {
          "output_type": "execute_result",
          "data": {
            "text/plain": [
              "NEIGHBORHOOD\n",
              "OTHER                 6.056645e+05\n",
              "BEDFORD STUYVESANT    6.215972e+05\n",
              "FLUSHING-NORTH        8.689417e+05\n",
              "ASTORIA               1.001955e+06\n",
              "BOROUGH PARK          1.008917e+06\n",
              "FOREST HILLS          1.210753e+06\n",
              "Name: SALE_PRICE, dtype: float64"
            ]
          },
          "metadata": {
            "tags": []
          },
          "execution_count": 112
        }
      ]
    },
    {
      "cell_type": "code",
      "metadata": {
        "id": "_e5-O_bsQTdR",
        "colab_type": "code",
        "colab": {}
      },
      "source": [
        "#filtering a high cardinality features and determing our targets\n",
        "high_card_features = ['BUILDING_CLASS_CATEGORY', 'BLOCK', 'LOT', 'EASE-MENT', 'BUILDING_CLASS_AT_PRESENT', \n",
        "                      'ADDRESS', 'APARTMENT_NUMBER', 'ZIP_CODE', 'RESIDENTIAL_UNITS', 'COMMERCIAL_UNITS', \n",
        "                      'TOTAL_UNITS', 'LAND_SQUARE_FEET', 'GROSS_SQUARE_FEET', 'YEAR_BUILT',\n",
        "                      'BUILDING_CLASS_AT_TIME_OF_SALE', 'SALE_PRICE', 'SALE_DATE']\n",
        "                      \n",
        "target = 'SALE_PRICE'\n",
        "\n",
        "#lets drop a high cardinalilty categorical features and our targets\n",
        "features = train.columns.drop([target] + high_card_features)\n",
        "\n",
        "X_train = train[features]\n",
        "y_train = train[target]\n",
        "X_test = test[features]\n",
        "y_test = test[target]"
      ],
      "execution_count": 113,
      "outputs": []
    },
    {
      "cell_type": "code",
      "metadata": {
        "id": "TuDAzY1_bZVS",
        "colab_type": "code",
        "colab": {
          "base_uri": "https://localhost:8080/",
          "height": 51
        },
        "outputId": "f4f212a1-4895-458e-fe43-a83caf8fca7b"
      },
      "source": [
        "#check the shape of train and test set\n",
        "print(X_train.shape,y_train.shape)\n",
        "print(X_test.shape,y_test.shape)"
      ],
      "execution_count": 114,
      "outputs": [
        {
          "output_type": "stream",
          "text": [
            "(2507, 4) (2507,)\n",
            "(644, 4) (644,)\n"
          ],
          "name": "stdout"
        }
      ]
    },
    {
      "cell_type": "code",
      "metadata": {
        "id": "Lv6vhSR2cI4D",
        "colab_type": "code",
        "colab": {
          "base_uri": "https://localhost:8080/",
          "height": 214
        },
        "outputId": "17f4c7b4-fa7d-4e4a-a7b6-94458b48c6d5"
      },
      "source": [
        "#here's what X_train looks like before encoding\n",
        "print(X_train.shape)\n",
        "X_train.head()"
      ],
      "execution_count": 115,
      "outputs": [
        {
          "output_type": "stream",
          "text": [
            "(2507, 4)\n"
          ],
          "name": "stdout"
        },
        {
          "output_type": "execute_result",
          "data": {
            "text/html": [
              "<div>\n",
              "<style scoped>\n",
              "    .dataframe tbody tr th:only-of-type {\n",
              "        vertical-align: middle;\n",
              "    }\n",
              "\n",
              "    .dataframe tbody tr th {\n",
              "        vertical-align: top;\n",
              "    }\n",
              "\n",
              "    .dataframe thead th {\n",
              "        text-align: right;\n",
              "    }\n",
              "</style>\n",
              "<table border=\"1\" class=\"dataframe\">\n",
              "  <thead>\n",
              "    <tr style=\"text-align: right;\">\n",
              "      <th></th>\n",
              "      <th>BOROUGH</th>\n",
              "      <th>NEIGHBORHOOD</th>\n",
              "      <th>TAX_CLASS_AT_PRESENT</th>\n",
              "      <th>TAX_CLASS_AT_TIME_OF_SALE</th>\n",
              "    </tr>\n",
              "  </thead>\n",
              "  <tbody>\n",
              "    <tr>\n",
              "      <th>44</th>\n",
              "      <td>3</td>\n",
              "      <td>OTHER</td>\n",
              "      <td>1</td>\n",
              "      <td>1</td>\n",
              "    </tr>\n",
              "    <tr>\n",
              "      <th>61</th>\n",
              "      <td>4</td>\n",
              "      <td>OTHER</td>\n",
              "      <td>1</td>\n",
              "      <td>1</td>\n",
              "    </tr>\n",
              "    <tr>\n",
              "      <th>78</th>\n",
              "      <td>2</td>\n",
              "      <td>OTHER</td>\n",
              "      <td>1</td>\n",
              "      <td>1</td>\n",
              "    </tr>\n",
              "    <tr>\n",
              "      <th>108</th>\n",
              "      <td>3</td>\n",
              "      <td>OTHER</td>\n",
              "      <td>1</td>\n",
              "      <td>1</td>\n",
              "    </tr>\n",
              "    <tr>\n",
              "      <th>111</th>\n",
              "      <td>3</td>\n",
              "      <td>OTHER</td>\n",
              "      <td>1</td>\n",
              "      <td>1</td>\n",
              "    </tr>\n",
              "  </tbody>\n",
              "</table>\n",
              "</div>"
            ],
            "text/plain": [
              "    BOROUGH NEIGHBORHOOD TAX_CLASS_AT_PRESENT  TAX_CLASS_AT_TIME_OF_SALE\n",
              "44        3        OTHER                    1                          1\n",
              "61        4        OTHER                    1                          1\n",
              "78        2        OTHER                    1                          1\n",
              "108       3        OTHER                    1                          1\n",
              "111       3        OTHER                    1                          1"
            ]
          },
          "metadata": {
            "tags": []
          },
          "execution_count": 115
        }
      ]
    },
    {
      "cell_type": "code",
      "metadata": {
        "id": "QpAALWXHiXXI",
        "colab_type": "code",
        "colab": {}
      },
      "source": [
        "#import the class/module\n",
        "import category_encoders as ce\n",
        "\n",
        "#Instantiate the class \n",
        "encoder = ce.OneHotEncoder(use_cat_names=True)\n",
        "\n",
        "#fitting the transformer to the data\n",
        "X_train = encoder.fit_transform(X_train)\n",
        "X_test = encoder.transform(X_test)"
      ],
      "execution_count": 116,
      "outputs": []
    },
    {
      "cell_type": "code",
      "metadata": {
        "id": "RhJ4zRlFiXaj",
        "colab_type": "code",
        "colab": {
          "base_uri": "https://localhost:8080/",
          "height": 251
        },
        "outputId": "14d092ad-f435-44f9-c31c-4d1c4daf7fd5"
      },
      "source": [
        "#here's what it looks like after encoding\n",
        "print(X_train.shape)\n",
        "X_train.head()"
      ],
      "execution_count": 117,
      "outputs": [
        {
          "output_type": "stream",
          "text": [
            "(2507, 14)\n"
          ],
          "name": "stdout"
        },
        {
          "output_type": "execute_result",
          "data": {
            "text/html": [
              "<div>\n",
              "<style scoped>\n",
              "    .dataframe tbody tr th:only-of-type {\n",
              "        vertical-align: middle;\n",
              "    }\n",
              "\n",
              "    .dataframe tbody tr th {\n",
              "        vertical-align: top;\n",
              "    }\n",
              "\n",
              "    .dataframe thead th {\n",
              "        text-align: right;\n",
              "    }\n",
              "</style>\n",
              "<table border=\"1\" class=\"dataframe\">\n",
              "  <thead>\n",
              "    <tr style=\"text-align: right;\">\n",
              "      <th></th>\n",
              "      <th>BOROUGH_3</th>\n",
              "      <th>BOROUGH_4</th>\n",
              "      <th>BOROUGH_2</th>\n",
              "      <th>BOROUGH_5</th>\n",
              "      <th>BOROUGH_1</th>\n",
              "      <th>NEIGHBORHOOD_OTHER</th>\n",
              "      <th>NEIGHBORHOOD_FLUSHING-NORTH</th>\n",
              "      <th>NEIGHBORHOOD_BEDFORD STUYVESANT</th>\n",
              "      <th>NEIGHBORHOOD_FOREST HILLS</th>\n",
              "      <th>NEIGHBORHOOD_BOROUGH PARK</th>\n",
              "      <th>NEIGHBORHOOD_ASTORIA</th>\n",
              "      <th>TAX_CLASS_AT_PRESENT_1</th>\n",
              "      <th>TAX_CLASS_AT_PRESENT_1D</th>\n",
              "      <th>TAX_CLASS_AT_TIME_OF_SALE</th>\n",
              "    </tr>\n",
              "  </thead>\n",
              "  <tbody>\n",
              "    <tr>\n",
              "      <th>44</th>\n",
              "      <td>1</td>\n",
              "      <td>0</td>\n",
              "      <td>0</td>\n",
              "      <td>0</td>\n",
              "      <td>0</td>\n",
              "      <td>1</td>\n",
              "      <td>0</td>\n",
              "      <td>0</td>\n",
              "      <td>0</td>\n",
              "      <td>0</td>\n",
              "      <td>0</td>\n",
              "      <td>1</td>\n",
              "      <td>0</td>\n",
              "      <td>1</td>\n",
              "    </tr>\n",
              "    <tr>\n",
              "      <th>61</th>\n",
              "      <td>0</td>\n",
              "      <td>1</td>\n",
              "      <td>0</td>\n",
              "      <td>0</td>\n",
              "      <td>0</td>\n",
              "      <td>1</td>\n",
              "      <td>0</td>\n",
              "      <td>0</td>\n",
              "      <td>0</td>\n",
              "      <td>0</td>\n",
              "      <td>0</td>\n",
              "      <td>1</td>\n",
              "      <td>0</td>\n",
              "      <td>1</td>\n",
              "    </tr>\n",
              "    <tr>\n",
              "      <th>78</th>\n",
              "      <td>0</td>\n",
              "      <td>0</td>\n",
              "      <td>1</td>\n",
              "      <td>0</td>\n",
              "      <td>0</td>\n",
              "      <td>1</td>\n",
              "      <td>0</td>\n",
              "      <td>0</td>\n",
              "      <td>0</td>\n",
              "      <td>0</td>\n",
              "      <td>0</td>\n",
              "      <td>1</td>\n",
              "      <td>0</td>\n",
              "      <td>1</td>\n",
              "    </tr>\n",
              "    <tr>\n",
              "      <th>108</th>\n",
              "      <td>1</td>\n",
              "      <td>0</td>\n",
              "      <td>0</td>\n",
              "      <td>0</td>\n",
              "      <td>0</td>\n",
              "      <td>1</td>\n",
              "      <td>0</td>\n",
              "      <td>0</td>\n",
              "      <td>0</td>\n",
              "      <td>0</td>\n",
              "      <td>0</td>\n",
              "      <td>1</td>\n",
              "      <td>0</td>\n",
              "      <td>1</td>\n",
              "    </tr>\n",
              "    <tr>\n",
              "      <th>111</th>\n",
              "      <td>1</td>\n",
              "      <td>0</td>\n",
              "      <td>0</td>\n",
              "      <td>0</td>\n",
              "      <td>0</td>\n",
              "      <td>1</td>\n",
              "      <td>0</td>\n",
              "      <td>0</td>\n",
              "      <td>0</td>\n",
              "      <td>0</td>\n",
              "      <td>0</td>\n",
              "      <td>1</td>\n",
              "      <td>0</td>\n",
              "      <td>1</td>\n",
              "    </tr>\n",
              "  </tbody>\n",
              "</table>\n",
              "</div>"
            ],
            "text/plain": [
              "     BOROUGH_3  BOROUGH_4  ...  TAX_CLASS_AT_PRESENT_1D  TAX_CLASS_AT_TIME_OF_SALE\n",
              "44           1          0  ...                        0                          1\n",
              "61           0          1  ...                        0                          1\n",
              "78           0          0  ...                        0                          1\n",
              "108          1          0  ...                        0                          1\n",
              "111          1          0  ...                        0                          1\n",
              "\n",
              "[5 rows x 14 columns]"
            ]
          },
          "metadata": {
            "tags": []
          },
          "execution_count": 117
        }
      ]
    },
    {
      "cell_type": "markdown",
      "metadata": {
        "id": "7VYkwFq3QZTC",
        "colab_type": "text"
      },
      "source": [
        "###Do feature selection with `SelectKBest`."
      ]
    },
    {
      "cell_type": "code",
      "metadata": {
        "id": "3z21vgHzpuUG",
        "colab_type": "code",
        "colab": {
          "base_uri": "https://localhost:8080/",
          "height": 256
        },
        "outputId": "2cf9762b-2e52-49c9-cbfc-1af05c937600"
      },
      "source": [
        "#importing the tools here\n",
        "from sklearn.feature_selection import f_regression, SelectKBest\n",
        "from sklearn.linear_model import LinearRegression\n",
        "from sklearn.metrics import mean_absolute_error\n",
        "\n",
        "for i in range(1, len(X_train.columns) + 1):\n",
        "  #instantiate the class\n",
        "  selector = SelectKBest(score_func=f_regression, k=i)\n",
        "  model = LinearRegression()\n",
        "\n",
        "  #fiiting and transforing the data\n",
        "  X_train_selected = selector.fit_transform(X_train, y_train)\n",
        "  X_test_selected = selector.transform(X_test)\n",
        "\n",
        "  #fitting the model and predicting \n",
        "  model.fit(X_train_selected, y_train)\n",
        "  y_pred = model.predict(X_test_selected)\n",
        "\n",
        "  #validating/evaluting the model\n",
        "  mae = mean_absolute_error(y_test, y_pred)\n",
        "  print(f'Test MAE with {i} features: {mae:.0f}')\n",
        "\n",
        "warnings.filterwarnings(action='ignore', category=RuntimeWarning, module='sklearn')\n",
        "warnings.filterwarnings(action='ignore', category=RuntimeWarning, module='scipy')"
      ],
      "execution_count": 128,
      "outputs": [
        {
          "output_type": "stream",
          "text": [
            "Test MAE with 1 features: 202972\n",
            "Test MAE with 2 features: 203650\n",
            "Test MAE with 3 features: 203738\n",
            "Test MAE with 4 features: 203037\n",
            "Test MAE with 5 features: 201810\n",
            "Test MAE with 6 features: 202176\n",
            "Test MAE with 7 features: 201712\n",
            "Test MAE with 8 features: 201708\n",
            "Test MAE with 9 features: 199215\n",
            "Test MAE with 10 features: 199598\n",
            "Test MAE with 11 features: 200175\n",
            "Test MAE with 12 features: 199983\n",
            "Test MAE with 13 features: 200660\n",
            "Test MAE with 14 features: 200820\n"
          ],
          "name": "stdout"
        }
      ]
    },
    {
      "cell_type": "code",
      "metadata": {
        "id": "tmhtfRr3v3ar",
        "colab_type": "code",
        "colab": {
          "base_uri": "https://localhost:8080/",
          "height": 307
        },
        "outputId": "d8f67c92-9e43-437b-8573-2803a1bbf948"
      },
      "source": [
        "#to find the features selected and unselected:\n",
        "k = 10\n",
        "selector = SelectKBest(score_func=f_regression, k=k)\n",
        "\n",
        "X_train_selected = selector.fit_transform(X_train_scaled, y_train)\n",
        "\n",
        "all_features = X_train.columns\n",
        "selected_mask = selector.get_support()\n",
        "selected_names = all_features[selected_mask]\n",
        "unselected_names = all_features[~selected_mask]\n",
        "\n",
        "print('Features selected:')\n",
        "for name in selected_names:\n",
        "  print(name)\n",
        "  \n",
        "print('\\nFeatures not selected:')\n",
        "for name in unselected_names:\n",
        "  print(name)"
      ],
      "execution_count": 141,
      "outputs": [
        {
          "output_type": "stream",
          "text": [
            "Features selected:\n",
            "BOROUGH_3\n",
            "BOROUGH_4\n",
            "BOROUGH_2\n",
            "BOROUGH_5\n",
            "NEIGHBORHOOD_OTHER\n",
            "NEIGHBORHOOD_FLUSHING-NORTH\n",
            "NEIGHBORHOOD_FOREST HILLS\n",
            "NEIGHBORHOOD_BOROUGH PARK\n",
            "TAX_CLASS_AT_PRESENT_1\n",
            "TAX_CLASS_AT_PRESENT_1D\n",
            "\n",
            "Features not selected:\n",
            "BOROUGH_1\n",
            "NEIGHBORHOOD_BEDFORD STUYVESANT\n",
            "NEIGHBORHOOD_ASTORIA\n",
            "TAX_CLASS_AT_TIME_OF_SALE\n"
          ],
          "name": "stdout"
        }
      ]
    },
    {
      "cell_type": "code",
      "metadata": {
        "id": "oVuwbXnzQTo0",
        "colab_type": "code",
        "colab": {
          "base_uri": "https://localhost:8080/",
          "height": 34
        },
        "outputId": "d6d75a4b-92a4-4d76-f599-b6d758be3f1d"
      },
      "source": [
        "#lets see the shape\n",
        "X_train_selected.shape, X_test_selected.shape"
      ],
      "execution_count": 129,
      "outputs": [
        {
          "output_type": "execute_result",
          "data": {
            "text/plain": [
              "((2507, 14), (644, 14))"
            ]
          },
          "metadata": {
            "tags": []
          },
          "execution_count": 129
        }
      ]
    },
    {
      "cell_type": "markdown",
      "metadata": {
        "id": "-t-liMKLQkxL",
        "colab_type": "text"
      },
      "source": [
        "###Fit a ridge regression model with multiple features. Use the `normalize=True` parameter (or do [feature scaling](https://scikit-learn.org/stable/modules/preprocessing.html) beforehand — use the scaler's `fit_transform` method with the train set, and the scaler's `transform` method with the test set)"
      ]
    },
    {
      "cell_type": "code",
      "metadata": {
        "id": "TyvkBshfw4J0",
        "colab_type": "code",
        "colab": {}
      },
      "source": [
        "# feature scaling\n",
        "from sklearn.preprocessing import StandardScaler\n",
        "\n",
        "scaler = StandardScaler()\n",
        "\n",
        "X_train_scaled = scaler.fit_transform(X_train)\n",
        "X_test_scaled = scaler.transform(X_test)\n",
        "\n",
        "y_train_scaled = scale(y_train)\n",
        "y_test_scaled = scale(y_test)"
      ],
      "execution_count": 139,
      "outputs": []
    },
    {
      "cell_type": "code",
      "metadata": {
        "id": "LttLJiiww4Ut",
        "colab_type": "code",
        "colab": {
          "base_uri": "https://localhost:8080/",
          "height": 442
        },
        "outputId": "cebf4860-852e-470a-d285-6c5bc8815486"
      },
      "source": [
        "X_train_scaled = pd.DataFrame(X_train_scaled, columns=X_train.columns)\n",
        "X_test_scaled = pd.DataFrame(X_test_selected, columns=X_test.columns)\n",
        "y_train_scaled = pd.DataFrame(y_train_scaled)\n",
        "y_test_scaled = pd.DataFrame(y_test_scaled)\n",
        "X_train_scaled"
      ],
      "execution_count": 140,
      "outputs": [
        {
          "output_type": "execute_result",
          "data": {
            "text/html": [
              "<div>\n",
              "<style scoped>\n",
              "    .dataframe tbody tr th:only-of-type {\n",
              "        vertical-align: middle;\n",
              "    }\n",
              "\n",
              "    .dataframe tbody tr th {\n",
              "        vertical-align: top;\n",
              "    }\n",
              "\n",
              "    .dataframe thead th {\n",
              "        text-align: right;\n",
              "    }\n",
              "</style>\n",
              "<table border=\"1\" class=\"dataframe\">\n",
              "  <thead>\n",
              "    <tr style=\"text-align: right;\">\n",
              "      <th></th>\n",
              "      <th>BOROUGH_3</th>\n",
              "      <th>BOROUGH_4</th>\n",
              "      <th>BOROUGH_2</th>\n",
              "      <th>BOROUGH_5</th>\n",
              "      <th>BOROUGH_1</th>\n",
              "      <th>NEIGHBORHOOD_OTHER</th>\n",
              "      <th>NEIGHBORHOOD_FLUSHING-NORTH</th>\n",
              "      <th>NEIGHBORHOOD_BEDFORD STUYVESANT</th>\n",
              "      <th>NEIGHBORHOOD_FOREST HILLS</th>\n",
              "      <th>NEIGHBORHOOD_BOROUGH PARK</th>\n",
              "      <th>NEIGHBORHOOD_ASTORIA</th>\n",
              "      <th>TAX_CLASS_AT_PRESENT_1</th>\n",
              "      <th>TAX_CLASS_AT_PRESENT_1D</th>\n",
              "      <th>TAX_CLASS_AT_TIME_OF_SALE</th>\n",
              "    </tr>\n",
              "  </thead>\n",
              "  <tbody>\n",
              "    <tr>\n",
              "      <th>0</th>\n",
              "      <td>2.301955</td>\n",
              "      <td>-0.961260</td>\n",
              "      <td>-0.326869</td>\n",
              "      <td>-0.599005</td>\n",
              "      <td>-0.019976</td>\n",
              "      <td>0.229078</td>\n",
              "      <td>-0.178009</td>\n",
              "      <td>-0.05658</td>\n",
              "      <td>-0.082628</td>\n",
              "      <td>-0.069351</td>\n",
              "      <td>-0.066386</td>\n",
              "      <td>0.111894</td>\n",
              "      <td>-0.111894</td>\n",
              "      <td>0.0</td>\n",
              "    </tr>\n",
              "    <tr>\n",
              "      <th>1</th>\n",
              "      <td>-0.434413</td>\n",
              "      <td>1.040301</td>\n",
              "      <td>-0.326869</td>\n",
              "      <td>-0.599005</td>\n",
              "      <td>-0.019976</td>\n",
              "      <td>0.229078</td>\n",
              "      <td>-0.178009</td>\n",
              "      <td>-0.05658</td>\n",
              "      <td>-0.082628</td>\n",
              "      <td>-0.069351</td>\n",
              "      <td>-0.066386</td>\n",
              "      <td>0.111894</td>\n",
              "      <td>-0.111894</td>\n",
              "      <td>0.0</td>\n",
              "    </tr>\n",
              "    <tr>\n",
              "      <th>2</th>\n",
              "      <td>-0.434413</td>\n",
              "      <td>-0.961260</td>\n",
              "      <td>3.059331</td>\n",
              "      <td>-0.599005</td>\n",
              "      <td>-0.019976</td>\n",
              "      <td>0.229078</td>\n",
              "      <td>-0.178009</td>\n",
              "      <td>-0.05658</td>\n",
              "      <td>-0.082628</td>\n",
              "      <td>-0.069351</td>\n",
              "      <td>-0.066386</td>\n",
              "      <td>0.111894</td>\n",
              "      <td>-0.111894</td>\n",
              "      <td>0.0</td>\n",
              "    </tr>\n",
              "    <tr>\n",
              "      <th>3</th>\n",
              "      <td>2.301955</td>\n",
              "      <td>-0.961260</td>\n",
              "      <td>-0.326869</td>\n",
              "      <td>-0.599005</td>\n",
              "      <td>-0.019976</td>\n",
              "      <td>0.229078</td>\n",
              "      <td>-0.178009</td>\n",
              "      <td>-0.05658</td>\n",
              "      <td>-0.082628</td>\n",
              "      <td>-0.069351</td>\n",
              "      <td>-0.066386</td>\n",
              "      <td>0.111894</td>\n",
              "      <td>-0.111894</td>\n",
              "      <td>0.0</td>\n",
              "    </tr>\n",
              "    <tr>\n",
              "      <th>4</th>\n",
              "      <td>2.301955</td>\n",
              "      <td>-0.961260</td>\n",
              "      <td>-0.326869</td>\n",
              "      <td>-0.599005</td>\n",
              "      <td>-0.019976</td>\n",
              "      <td>0.229078</td>\n",
              "      <td>-0.178009</td>\n",
              "      <td>-0.05658</td>\n",
              "      <td>-0.082628</td>\n",
              "      <td>-0.069351</td>\n",
              "      <td>-0.066386</td>\n",
              "      <td>0.111894</td>\n",
              "      <td>-0.111894</td>\n",
              "      <td>0.0</td>\n",
              "    </tr>\n",
              "    <tr>\n",
              "      <th>...</th>\n",
              "      <td>...</td>\n",
              "      <td>...</td>\n",
              "      <td>...</td>\n",
              "      <td>...</td>\n",
              "      <td>...</td>\n",
              "      <td>...</td>\n",
              "      <td>...</td>\n",
              "      <td>...</td>\n",
              "      <td>...</td>\n",
              "      <td>...</td>\n",
              "      <td>...</td>\n",
              "      <td>...</td>\n",
              "      <td>...</td>\n",
              "      <td>...</td>\n",
              "    </tr>\n",
              "    <tr>\n",
              "      <th>2502</th>\n",
              "      <td>-0.434413</td>\n",
              "      <td>-0.961260</td>\n",
              "      <td>-0.326869</td>\n",
              "      <td>1.669434</td>\n",
              "      <td>-0.019976</td>\n",
              "      <td>0.229078</td>\n",
              "      <td>-0.178009</td>\n",
              "      <td>-0.05658</td>\n",
              "      <td>-0.082628</td>\n",
              "      <td>-0.069351</td>\n",
              "      <td>-0.066386</td>\n",
              "      <td>0.111894</td>\n",
              "      <td>-0.111894</td>\n",
              "      <td>0.0</td>\n",
              "    </tr>\n",
              "    <tr>\n",
              "      <th>2503</th>\n",
              "      <td>-0.434413</td>\n",
              "      <td>-0.961260</td>\n",
              "      <td>-0.326869</td>\n",
              "      <td>1.669434</td>\n",
              "      <td>-0.019976</td>\n",
              "      <td>0.229078</td>\n",
              "      <td>-0.178009</td>\n",
              "      <td>-0.05658</td>\n",
              "      <td>-0.082628</td>\n",
              "      <td>-0.069351</td>\n",
              "      <td>-0.066386</td>\n",
              "      <td>0.111894</td>\n",
              "      <td>-0.111894</td>\n",
              "      <td>0.0</td>\n",
              "    </tr>\n",
              "    <tr>\n",
              "      <th>2504</th>\n",
              "      <td>-0.434413</td>\n",
              "      <td>-0.961260</td>\n",
              "      <td>-0.326869</td>\n",
              "      <td>1.669434</td>\n",
              "      <td>-0.019976</td>\n",
              "      <td>0.229078</td>\n",
              "      <td>-0.178009</td>\n",
              "      <td>-0.05658</td>\n",
              "      <td>-0.082628</td>\n",
              "      <td>-0.069351</td>\n",
              "      <td>-0.066386</td>\n",
              "      <td>0.111894</td>\n",
              "      <td>-0.111894</td>\n",
              "      <td>0.0</td>\n",
              "    </tr>\n",
              "    <tr>\n",
              "      <th>2505</th>\n",
              "      <td>-0.434413</td>\n",
              "      <td>-0.961260</td>\n",
              "      <td>-0.326869</td>\n",
              "      <td>1.669434</td>\n",
              "      <td>-0.019976</td>\n",
              "      <td>0.229078</td>\n",
              "      <td>-0.178009</td>\n",
              "      <td>-0.05658</td>\n",
              "      <td>-0.082628</td>\n",
              "      <td>-0.069351</td>\n",
              "      <td>-0.066386</td>\n",
              "      <td>0.111894</td>\n",
              "      <td>-0.111894</td>\n",
              "      <td>0.0</td>\n",
              "    </tr>\n",
              "    <tr>\n",
              "      <th>2506</th>\n",
              "      <td>-0.434413</td>\n",
              "      <td>1.040301</td>\n",
              "      <td>-0.326869</td>\n",
              "      <td>-0.599005</td>\n",
              "      <td>-0.019976</td>\n",
              "      <td>0.229078</td>\n",
              "      <td>-0.178009</td>\n",
              "      <td>-0.05658</td>\n",
              "      <td>-0.082628</td>\n",
              "      <td>-0.069351</td>\n",
              "      <td>-0.066386</td>\n",
              "      <td>0.111894</td>\n",
              "      <td>-0.111894</td>\n",
              "      <td>0.0</td>\n",
              "    </tr>\n",
              "  </tbody>\n",
              "</table>\n",
              "<p>2507 rows × 14 columns</p>\n",
              "</div>"
            ],
            "text/plain": [
              "      BOROUGH_3  BOROUGH_4  ...  TAX_CLASS_AT_PRESENT_1D  TAX_CLASS_AT_TIME_OF_SALE\n",
              "0      2.301955  -0.961260  ...                -0.111894                        0.0\n",
              "1     -0.434413   1.040301  ...                -0.111894                        0.0\n",
              "2     -0.434413  -0.961260  ...                -0.111894                        0.0\n",
              "3      2.301955  -0.961260  ...                -0.111894                        0.0\n",
              "4      2.301955  -0.961260  ...                -0.111894                        0.0\n",
              "...         ...        ...  ...                      ...                        ...\n",
              "2502  -0.434413  -0.961260  ...                -0.111894                        0.0\n",
              "2503  -0.434413  -0.961260  ...                -0.111894                        0.0\n",
              "2504  -0.434413  -0.961260  ...                -0.111894                        0.0\n",
              "2505  -0.434413  -0.961260  ...                -0.111894                        0.0\n",
              "2506  -0.434413   1.040301  ...                -0.111894                        0.0\n",
              "\n",
              "[2507 rows x 14 columns]"
            ]
          },
          "metadata": {
            "tags": []
          },
          "execution_count": 140
        }
      ]
    },
    {
      "cell_type": "code",
      "metadata": {
        "id": "evOcOP72Q28T",
        "colab_type": "code",
        "colab": {
          "base_uri": "https://localhost:8080/",
          "height": 54
        },
        "outputId": "cd8def49-8938-43ef-deae-a241fc35c46b"
      },
      "source": [
        "\n",
        "from sklearn.linear_model import Ridge\n",
        "from sklearn.metrics import mean_squared_error\n",
        "\n",
        "alpha_mse = {}\n",
        "\n",
        "for alpha in range(0, 200, 1):\n",
        "  ridge_reg_split = Ridge(alpha=alpha).fit(X_train_scaled, y_train_scaled)\n",
        "  mse = mean_squared_error(y_test_scaled, ridge_reg_split.predict(X_test_scaled))\n",
        "  alpha_mse[alpha] = mse\n",
        "\n",
        "print(sorted(alpha_mse.items(), reverse=True))"
      ],
      "execution_count": 134,
      "outputs": [
        {
          "output_type": "stream",
          "text": [
            "[(199, 0.9474529988857704), (198, 0.9474421667712564), (197, 0.9474313304323786), (196, 0.9474204898673633), (195, 0.9474096450744367), (194, 0.9473987960518263), (193, 0.9473879427977608), (192, 0.9473770853104693), (191, 0.9473662235881823), (190, 0.9473553576291309), (189, 0.9473444874315473), (188, 0.9473336129936644), (187, 0.9473227343137169), (186, 0.947311851389939), (185, 0.9473009642205679), (184, 0.9472900728038398), (183, 0.9472791771379934), (182, 0.9472682772212672), (181, 0.9472573730519019), (180, 0.9472464646281379), (179, 0.9472355519482182), (178, 0.9472246350103855), (177, 0.9472137138128842), (176, 0.9472027883539594), (175, 0.9471918586318581), (174, 0.9471809246448275), (173, 0.9471699863911157), (172, 0.9471590438689729), (171, 0.9471480970766496), (170, 0.9471371460123978), (169, 0.9471261906744705), (168, 0.947115231061122), (167, 0.9471042671706074), (166, 0.9470932990011829), (165, 0.9470823265511061), (164, 0.947071349818636), (163, 0.9470603688020327), (162, 0.947049383499557), (161, 0.9470383939094712), (160, 0.9470274000300387), (159, 0.9470164018595244), (158, 0.9470053993961943), (157, 0.9469943926383149), (156, 0.9469833815841555), (155, 0.9469723662319852), (154, 0.9469613465800752), (153, 0.9469503226266974), (152, 0.9469392943701253), (151, 0.9469282618086335), (150, 0.9469172249404985), (149, 0.9469061837639973), (148, 0.9468951382774085), (147, 0.9468840884790118), (146, 0.9468730343670894), (145, 0.9468619759399228), (144, 0.9468509131957967), (143, 0.9468398461329963), (142, 0.9468287747498083), (141, 0.9468176990445204), (140, 0.9468066190154231), (139, 0.9467955346608063), (138, 0.946784445978963), (137, 0.9467733529681864), (136, 0.946762255626772), (135, 0.9467511539530161), (134, 0.9467400479452169), (133, 0.9467289376016741), (132, 0.9467178229206884), (131, 0.9467067039005622), (130, 0.9466955805395999), (129, 0.9466844528361066), (128, 0.9466733207883893), (127, 0.9466621843947565), (126, 0.9466510436535184), (125, 0.9466398985629861), (124, 0.9466287491214733), (123, 0.9466175953272945), (122, 0.9466064371787657), (121, 0.9465952746742049), (120, 0.9465841078119316), (119, 0.9465729365902669), (118, 0.9465617610075334), (117, 0.9465505810620554), (116, 0.9465393967521586), (115, 0.9465282080761711), (114, 0.9465170150324217), (113, 0.9465058176192411), (112, 0.9464946158349627), (111, 0.9464834096779204), (110, 0.94647219914645), (109, 0.9464609842388891), (108, 0.9464497649535781), (107, 0.9464385412888571), (106, 0.9464273132430693), (105, 0.9464160808145595), (104, 0.9464048440016745), (103, 0.9463936028027621), (102, 0.9463823572161723), (101, 0.9463711072402573), (100, 0.9463598528733707), (99, 0.9463485941138677), (98, 0.946337330960106), (97, 0.9463260634104446), (96, 0.9463147914632447), (95, 0.946303515116869), (94, 0.946292234369683), (93, 0.9462809492200525), (92, 0.9462696596663465), (91, 0.9462583657069356), (90, 0.9462470673401925), (89, 0.9462357645644915), (88, 0.946224457378209), (87, 0.9462131457797236), (86, 0.9462018297674152), (85, 0.9461905093396664), (84, 0.9461791844948619), (83, 0.9461678552313877), (82, 0.9461565215476323), (81, 0.9461451834419863), (80, 0.9461338409128422), (79, 0.9461224939585948), (78, 0.9461111425776405), (77, 0.9460997867683782), (76, 0.946088426529209), (75, 0.9460770618585356), (74, 0.9460656927547637), (73, 0.9460543192163), (72, 0.9460429412415542), (71, 0.9460315588289381), (70, 0.9460201719768655), (69, 0.9460087806837524), (68, 0.9459973849480169), (67, 0.9459859847680799), (66, 0.9459745801423641), (65, 0.945963171069294), (64, 0.9459517575472971), (63, 0.9459403395748032), (62, 0.9459289171502437), (61, 0.9459174902720531), (60, 0.9459060589386676), (59, 0.9458946231485258), (58, 0.9458831829000696), (57, 0.945871738191742), (56, 0.9458602890219885), (55, 0.945848835389258), (54, 0.9458373772920011), (53, 0.9458259147286705), (52, 0.9458144476977222), (51, 0.9458029761976138), (50, 0.945791500226806), (49, 0.9457800197837614), (48, 0.9457685348669456), (47, 0.9457570454748266), (46, 0.9457455516058746), (45, 0.9457340532585625), (44, 0.9457225504313661), (43, 0.9457110431227632), (42, 0.9456995313312345), (41, 0.9456880150552632), (40, 0.9456764942933352), (39, 0.945664969043939), (38, 0.9456534393055656), (37, 0.9456419050767085), (36, 0.9456303663558644), (35, 0.9456188231415323), (34, 0.945607275432214), (33, 0.9455957232264139), (32, 0.9455841665226391), (31, 0.9455726053193999), (30, 0.9455610396152087), (29, 0.9455494694085809), (28, 0.9455378946980348), (27, 0.9455263154820921), (26, 0.9455147317592757), (25, 0.9455031435281127), (24, 0.9454915507871329), (23, 0.9454799535348687), (22, 0.945468351769855), (21, 0.9454567454906303), (20, 0.9454451346957354), (19, 0.9454335193837152), (18, 0.9454218995531155), (17, 0.9454102752024871), (16, 0.9453986463303827), (15, 0.9453870129353584), (14, 0.9453753750159724), (13, 0.9453637325707877), (12, 0.9453520855983683), (11, 0.945340434097283), (10, 0.9453287780661027), (9, 0.9453171175034017), (8, 0.9453054524077569), (7, 0.9452937827777497), (6, 0.9452821086119629), (5, 0.9452704299089841), (4, 0.9452587466674031), (3, 0.9452470588858136), (2, 0.9452353665628144), (1, 0.945223669697012), (0, 4.595854641747841e+25)]\n"
          ],
          "name": "stdout"
        }
      ]
    }
  ]
}