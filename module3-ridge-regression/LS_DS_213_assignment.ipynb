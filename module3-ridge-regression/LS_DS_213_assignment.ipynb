{
  "nbformat": 4,
  "nbformat_minor": 0,
  "metadata": {
    "kernelspec": {
      "display_name": "Python 3",
      "language": "python",
      "name": "python3"
    },
    "language_info": {
      "codemirror_mode": {
        "name": "ipython",
        "version": 3
      },
      "file_extension": ".py",
      "mimetype": "text/x-python",
      "name": "python",
      "nbconvert_exporter": "python",
      "pygments_lexer": "ipython3",
      "version": "3.7.3"
    },
    "colab": {
      "name": "LS_DS_213_assignment.ipynb",
      "provenance": [],
      "include_colab_link": true
    }
  },
  "cells": [
    {
      "cell_type": "markdown",
      "metadata": {
        "id": "view-in-github",
        "colab_type": "text"
      },
      "source": [
        "<a href=\"https://colab.research.google.com/github/alexmjn/DS-Unit-2-Linear-Models/blob/master/module3-ridge-regression/LS_DS_213_assignment.ipynb\" target=\"_parent\"><img src=\"https://colab.research.google.com/assets/colab-badge.svg\" alt=\"Open In Colab\"/></a>"
      ]
    },
    {
      "cell_type": "markdown",
      "metadata": {
        "id": "un7iI93O1I5I",
        "colab_type": "text"
      },
      "source": [
        "Lambda School Data Science\n",
        "\n",
        "*Unit 2, Sprint 1, Module 3*\n",
        "\n",
        "---"
      ]
    },
    {
      "cell_type": "markdown",
      "metadata": {
        "colab_type": "text",
        "id": "7IXUfiQ2UKj6"
      },
      "source": [
        "# Ridge Regression\n",
        "\n",
        "## Assignment\n",
        "\n",
        "We're going back to our other **New York City** real estate dataset. Instead of predicting apartment rents, you'll predict property sales prices.\n",
        "\n",
        "But not just for condos in Tribeca...\n",
        "\n",
        "- [ ] Use a subset of the data where `BUILDING_CLASS_CATEGORY` == `'01 ONE FAMILY DWELLINGS'` and the sale price was more than 100 thousand and less than 2 million.\n",
        "- [ ] Do train/test split. Use data from January — March 2019 to train. Use data from April 2019 to test.\n",
        "- [ ] Do one-hot encoding of categorical features.\n",
        "- [ ] Do feature selection with `SelectKBest`.\n",
        "- [ ] Fit a ridge regression model with multiple features. Use the `normalize=True` parameter (or do [feature scaling](https://scikit-learn.org/stable/modules/preprocessing.html) beforehand — use the scaler's `fit_transform` method with the train set, and the scaler's `transform` method with the test set)\n",
        "- [ ] Get mean absolute error for the test set.\n",
        "- [ ] As always, commit your notebook to your fork of the GitHub repo.\n",
        "\n",
        "The [NYC Department of Finance](https://www1.nyc.gov/site/finance/taxes/property-rolling-sales-data.page) has a glossary of property sales terms and NYC Building Class Code Descriptions. The data comes from the [NYC OpenData](https://data.cityofnewyork.us/browse?q=NYC%20calendar%20sales) portal.\n",
        "\n",
        "\n",
        "## Stretch Goals\n",
        "\n",
        "Don't worry, you aren't expected to do all these stretch goals! These are just ideas to consider and choose from.\n",
        "\n",
        "- [ ] Add your own stretch goal(s) !\n",
        "- [ ] Instead of `Ridge`, try `LinearRegression`. Depending on how many features you select, your errors will probably blow up! 💥\n",
        "- [ ] Instead of `Ridge`, try [`RidgeCV`](https://scikit-learn.org/stable/modules/generated/sklearn.linear_model.RidgeCV.html).\n",
        "- [ ] Learn more about feature selection:\n",
        "    - [\"Permutation importance\"](https://www.kaggle.com/dansbecker/permutation-importance)\n",
        "    - [scikit-learn's User Guide for Feature Selection](https://scikit-learn.org/stable/modules/feature_selection.html)\n",
        "    - [mlxtend](http://rasbt.github.io/mlxtend/) library\n",
        "    - scikit-learn-contrib libraries: [boruta_py](https://github.com/scikit-learn-contrib/boruta_py) & [stability-selection](https://github.com/scikit-learn-contrib/stability-selection)\n",
        "    - [_Feature Engineering and Selection_](http://www.feat.engineering/) by Kuhn & Johnson.\n",
        "- [ ] Try [statsmodels](https://www.statsmodels.org/stable/index.html) if you’re interested in more inferential statistical approach to linear regression and feature selection, looking at p values and 95% confidence intervals for the coefficients.\n",
        "- [ ] Read [_An Introduction to Statistical Learning_](http://faculty.marshall.usc.edu/gareth-james/ISL/ISLR%20Seventh%20Printing.pdf), Chapters 1-3, for more math & theory, but in an accessible, readable way.\n",
        "- [ ] Try [scikit-learn pipelines](https://scikit-learn.org/stable/modules/compose.html)."
      ]
    },
    {
      "cell_type": "code",
      "metadata": {
        "colab_type": "code",
        "id": "o9eSnDYhUGD7",
        "colab": {}
      },
      "source": [
        "%%capture\n",
        "import sys\n",
        "\n",
        "# If you're on Colab:\n",
        "if 'google.colab' in sys.modules:\n",
        "    DATA_PATH = 'https://raw.githubusercontent.com/LambdaSchool/DS-Unit-2-Applied-Modeling/master/data/'\n",
        "    !pip install category_encoders==2.*\n",
        "\n",
        "# If you're working locally:\n",
        "else:\n",
        "    DATA_PATH = '../data/'\n",
        "    \n",
        "# Ignore this Numpy warning when using Plotly Express:\n",
        "# FutureWarning: Method .ptp is deprecated and will be removed in a future version. Use numpy.ptp instead.\n",
        "import warnings\n",
        "warnings.filterwarnings(action='ignore', category=FutureWarning, module='numpy')"
      ],
      "execution_count": 0,
      "outputs": []
    },
    {
      "cell_type": "code",
      "metadata": {
        "colab_type": "code",
        "id": "QJBD4ruICm1m",
        "colab": {}
      },
      "source": [
        "import pandas as pd\n",
        "import pandas_profiling\n",
        "\n",
        "# Read New York City property sales data\n",
        "df = pd.read_csv(DATA_PATH+'condos/NYC_Citywide_Rolling_Calendar_Sales.csv')\n",
        "\n",
        "# Change column names: replace spaces with underscores\n",
        "df.columns = [col.replace(' ', '_') for col in df]\n",
        "\n",
        "# SALE_PRICE was read as strings.\n",
        "# Remove symbols, convert to integer\n",
        "df['SALE_PRICE'] = (\n",
        "    df['SALE_PRICE']\n",
        "    .str.replace('$','')\n",
        "    .str.replace('-','')\n",
        "    .str.replace(',','')\n",
        "    .astype(int)\n",
        ")"
      ],
      "execution_count": 0,
      "outputs": []
    },
    {
      "cell_type": "code",
      "metadata": {
        "id": "suqtLt-v1I5V",
        "colab_type": "code",
        "colab": {}
      },
      "source": [
        "# BOROUGH is a numeric column, but arguably should be a categorical feature,\n",
        "# so convert it from a number to a string\n",
        "df['BOROUGH'] = df['BOROUGH'].astype(str)"
      ],
      "execution_count": 0,
      "outputs": []
    },
    {
      "cell_type": "code",
      "metadata": {
        "id": "bxD7t7151I5X",
        "colab_type": "code",
        "colab": {}
      },
      "source": [
        "# Reduce cardinality for NEIGHBORHOOD feature\n",
        "\n",
        "# Get a list of the top 10 neighborhoods\n",
        "top10 = df['NEIGHBORHOOD'].value_counts()[:10].index\n",
        "\n",
        "# At locations where the neighborhood is NOT in the top 10, \n",
        "# replace the neighborhood with 'OTHER'\n",
        "df.loc[~df['NEIGHBORHOOD'].isin(top10), 'NEIGHBORHOOD'] = 'OTHER'"
      ],
      "execution_count": 0,
      "outputs": []
    },
    {
      "cell_type": "code",
      "metadata": {
        "id": "uUe_o46Z1I5Z",
        "colab_type": "code",
        "colab": {
          "base_uri": "https://localhost:8080/",
          "height": 702
        },
        "outputId": "623d85ec-9ff3-428d-c11a-c477a74cc2b8"
      },
      "source": [
        "df.head().T"
      ],
      "execution_count": 5,
      "outputs": [
        {
          "output_type": "execute_result",
          "data": {
            "text/html": [
              "<div>\n",
              "<style scoped>\n",
              "    .dataframe tbody tr th:only-of-type {\n",
              "        vertical-align: middle;\n",
              "    }\n",
              "\n",
              "    .dataframe tbody tr th {\n",
              "        vertical-align: top;\n",
              "    }\n",
              "\n",
              "    .dataframe thead th {\n",
              "        text-align: right;\n",
              "    }\n",
              "</style>\n",
              "<table border=\"1\" class=\"dataframe\">\n",
              "  <thead>\n",
              "    <tr style=\"text-align: right;\">\n",
              "      <th></th>\n",
              "      <th>0</th>\n",
              "      <th>1</th>\n",
              "      <th>2</th>\n",
              "      <th>3</th>\n",
              "      <th>4</th>\n",
              "    </tr>\n",
              "  </thead>\n",
              "  <tbody>\n",
              "    <tr>\n",
              "      <th>BOROUGH</th>\n",
              "      <td>1</td>\n",
              "      <td>1</td>\n",
              "      <td>1</td>\n",
              "      <td>1</td>\n",
              "      <td>1</td>\n",
              "    </tr>\n",
              "    <tr>\n",
              "      <th>NEIGHBORHOOD</th>\n",
              "      <td>OTHER</td>\n",
              "      <td>OTHER</td>\n",
              "      <td>OTHER</td>\n",
              "      <td>OTHER</td>\n",
              "      <td>UPPER EAST SIDE (59-79)</td>\n",
              "    </tr>\n",
              "    <tr>\n",
              "      <th>BUILDING_CLASS_CATEGORY</th>\n",
              "      <td>13 CONDOS - ELEVATOR APARTMENTS</td>\n",
              "      <td>21 OFFICE BUILDINGS</td>\n",
              "      <td>21 OFFICE BUILDINGS</td>\n",
              "      <td>13 CONDOS - ELEVATOR APARTMENTS</td>\n",
              "      <td>15 CONDOS - 2-10 UNIT RESIDENTIAL</td>\n",
              "    </tr>\n",
              "    <tr>\n",
              "      <th>TAX_CLASS_AT_PRESENT</th>\n",
              "      <td>2</td>\n",
              "      <td>4</td>\n",
              "      <td>4</td>\n",
              "      <td>2</td>\n",
              "      <td>2C</td>\n",
              "    </tr>\n",
              "    <tr>\n",
              "      <th>BLOCK</th>\n",
              "      <td>716</td>\n",
              "      <td>812</td>\n",
              "      <td>839</td>\n",
              "      <td>592</td>\n",
              "      <td>1379</td>\n",
              "    </tr>\n",
              "    <tr>\n",
              "      <th>LOT</th>\n",
              "      <td>1246</td>\n",
              "      <td>68</td>\n",
              "      <td>69</td>\n",
              "      <td>1041</td>\n",
              "      <td>1402</td>\n",
              "    </tr>\n",
              "    <tr>\n",
              "      <th>EASE-MENT</th>\n",
              "      <td>NaN</td>\n",
              "      <td>NaN</td>\n",
              "      <td>NaN</td>\n",
              "      <td>NaN</td>\n",
              "      <td>NaN</td>\n",
              "    </tr>\n",
              "    <tr>\n",
              "      <th>BUILDING_CLASS_AT_PRESENT</th>\n",
              "      <td>R4</td>\n",
              "      <td>O5</td>\n",
              "      <td>O5</td>\n",
              "      <td>R4</td>\n",
              "      <td>R1</td>\n",
              "    </tr>\n",
              "    <tr>\n",
              "      <th>ADDRESS</th>\n",
              "      <td>447 WEST 18TH STREET, PH12A</td>\n",
              "      <td>144 WEST 37TH STREET</td>\n",
              "      <td>40 WEST 38TH STREET</td>\n",
              "      <td>1 SHERIDAN SQUARE, 8C</td>\n",
              "      <td>20 EAST 65TH STREET, B</td>\n",
              "    </tr>\n",
              "    <tr>\n",
              "      <th>APARTMENT_NUMBER</th>\n",
              "      <td>PH12A</td>\n",
              "      <td>NaN</td>\n",
              "      <td>NaN</td>\n",
              "      <td>8C</td>\n",
              "      <td>B</td>\n",
              "    </tr>\n",
              "    <tr>\n",
              "      <th>ZIP_CODE</th>\n",
              "      <td>10011</td>\n",
              "      <td>10018</td>\n",
              "      <td>10018</td>\n",
              "      <td>10014</td>\n",
              "      <td>10065</td>\n",
              "    </tr>\n",
              "    <tr>\n",
              "      <th>RESIDENTIAL_UNITS</th>\n",
              "      <td>1</td>\n",
              "      <td>0</td>\n",
              "      <td>0</td>\n",
              "      <td>1</td>\n",
              "      <td>1</td>\n",
              "    </tr>\n",
              "    <tr>\n",
              "      <th>COMMERCIAL_UNITS</th>\n",
              "      <td>0</td>\n",
              "      <td>6</td>\n",
              "      <td>7</td>\n",
              "      <td>0</td>\n",
              "      <td>0</td>\n",
              "    </tr>\n",
              "    <tr>\n",
              "      <th>TOTAL_UNITS</th>\n",
              "      <td>1</td>\n",
              "      <td>6</td>\n",
              "      <td>7</td>\n",
              "      <td>1</td>\n",
              "      <td>1</td>\n",
              "    </tr>\n",
              "    <tr>\n",
              "      <th>LAND_SQUARE_FEET</th>\n",
              "      <td>10,733</td>\n",
              "      <td>2,962</td>\n",
              "      <td>2,074</td>\n",
              "      <td>0</td>\n",
              "      <td>0</td>\n",
              "    </tr>\n",
              "    <tr>\n",
              "      <th>GROSS_SQUARE_FEET</th>\n",
              "      <td>1979</td>\n",
              "      <td>15435</td>\n",
              "      <td>11332</td>\n",
              "      <td>500</td>\n",
              "      <td>6406</td>\n",
              "    </tr>\n",
              "    <tr>\n",
              "      <th>YEAR_BUILT</th>\n",
              "      <td>2007</td>\n",
              "      <td>1920</td>\n",
              "      <td>1930</td>\n",
              "      <td>0</td>\n",
              "      <td>0</td>\n",
              "    </tr>\n",
              "    <tr>\n",
              "      <th>TAX_CLASS_AT_TIME_OF_SALE</th>\n",
              "      <td>2</td>\n",
              "      <td>4</td>\n",
              "      <td>4</td>\n",
              "      <td>2</td>\n",
              "      <td>2</td>\n",
              "    </tr>\n",
              "    <tr>\n",
              "      <th>BUILDING_CLASS_AT_TIME_OF_SALE</th>\n",
              "      <td>R4</td>\n",
              "      <td>O5</td>\n",
              "      <td>O5</td>\n",
              "      <td>R4</td>\n",
              "      <td>R1</td>\n",
              "    </tr>\n",
              "    <tr>\n",
              "      <th>SALE_PRICE</th>\n",
              "      <td>0</td>\n",
              "      <td>0</td>\n",
              "      <td>0</td>\n",
              "      <td>0</td>\n",
              "      <td>0</td>\n",
              "    </tr>\n",
              "    <tr>\n",
              "      <th>SALE_DATE</th>\n",
              "      <td>01/01/2019</td>\n",
              "      <td>01/01/2019</td>\n",
              "      <td>01/01/2019</td>\n",
              "      <td>01/01/2019</td>\n",
              "      <td>01/01/2019</td>\n",
              "    </tr>\n",
              "  </tbody>\n",
              "</table>\n",
              "</div>"
            ],
            "text/plain": [
              "                                                              0  ...                                  4\n",
              "BOROUGH                                                       1  ...                                  1\n",
              "NEIGHBORHOOD                                              OTHER  ...            UPPER EAST SIDE (59-79)\n",
              "BUILDING_CLASS_CATEGORY         13 CONDOS - ELEVATOR APARTMENTS  ...  15 CONDOS - 2-10 UNIT RESIDENTIAL\n",
              "TAX_CLASS_AT_PRESENT                                          2  ...                                 2C\n",
              "BLOCK                                                       716  ...                               1379\n",
              "LOT                                                        1246  ...                               1402\n",
              "EASE-MENT                                                   NaN  ...                                NaN\n",
              "BUILDING_CLASS_AT_PRESENT                                    R4  ...                                 R1\n",
              "ADDRESS                             447 WEST 18TH STREET, PH12A  ...             20 EAST 65TH STREET, B\n",
              "APARTMENT_NUMBER                                          PH12A  ...                                  B\n",
              "ZIP_CODE                                                  10011  ...                              10065\n",
              "RESIDENTIAL_UNITS                                             1  ...                                  1\n",
              "COMMERCIAL_UNITS                                              0  ...                                  0\n",
              "TOTAL_UNITS                                                   1  ...                                  1\n",
              "LAND_SQUARE_FEET                                         10,733  ...                                  0\n",
              "GROSS_SQUARE_FEET                                          1979  ...                               6406\n",
              "YEAR_BUILT                                                 2007  ...                                  0\n",
              "TAX_CLASS_AT_TIME_OF_SALE                                     2  ...                                  2\n",
              "BUILDING_CLASS_AT_TIME_OF_SALE                               R4  ...                                 R1\n",
              "SALE_PRICE                                                    0  ...                                  0\n",
              "SALE_DATE                                            01/01/2019  ...                         01/01/2019\n",
              "\n",
              "[21 rows x 5 columns]"
            ]
          },
          "metadata": {
            "tags": []
          },
          "execution_count": 5
        }
      ]
    },
    {
      "cell_type": "code",
      "metadata": {
        "id": "mfjTuj873Q4K",
        "colab_type": "code",
        "colab": {}
      },
      "source": [
        "df = df[df[\"BUILDING_CLASS_CATEGORY\"] == '01 ONE FAMILY DWELLINGS']\n",
        "df = df[df[\"SALE_PRICE\"].between(100000, 2000000)]\n",
        "df = df.drop([\"EASE-MENT\", \"ADDRESS\", \"APARTMENT_NUMBER\"], axis = 1)"
      ],
      "execution_count": 0,
      "outputs": []
    },
    {
      "cell_type": "code",
      "metadata": {
        "id": "FX71NCe6OVQ9",
        "colab_type": "code",
        "colab": {
          "base_uri": "https://localhost:8080/",
          "height": 336
        },
        "outputId": "a035849e-aa30-4d95-809f-ceae083c45f8"
      },
      "source": [
        "df.dtypes"
      ],
      "execution_count": 7,
      "outputs": [
        {
          "output_type": "execute_result",
          "data": {
            "text/plain": [
              "BOROUGH                            object\n",
              "NEIGHBORHOOD                       object\n",
              "BUILDING_CLASS_CATEGORY            object\n",
              "TAX_CLASS_AT_PRESENT               object\n",
              "BLOCK                               int64\n",
              "LOT                                 int64\n",
              "BUILDING_CLASS_AT_PRESENT          object\n",
              "ZIP_CODE                          float64\n",
              "RESIDENTIAL_UNITS                 float64\n",
              "COMMERCIAL_UNITS                  float64\n",
              "TOTAL_UNITS                       float64\n",
              "LAND_SQUARE_FEET                   object\n",
              "GROSS_SQUARE_FEET                 float64\n",
              "YEAR_BUILT                        float64\n",
              "TAX_CLASS_AT_TIME_OF_SALE           int64\n",
              "BUILDING_CLASS_AT_TIME_OF_SALE     object\n",
              "SALE_PRICE                          int64\n",
              "SALE_DATE                          object\n",
              "dtype: object"
            ]
          },
          "metadata": {
            "tags": []
          },
          "execution_count": 7
        }
      ]
    },
    {
      "cell_type": "markdown",
      "metadata": {
        "id": "nCTcoJ8cOcxw",
        "colab_type": "text"
      },
      "source": [
        "Looks like we need to cast LAND_SQUARE_FEET as an integer."
      ]
    },
    {
      "cell_type": "code",
      "metadata": {
        "id": "TkVcOTTTOhbs",
        "colab_type": "code",
        "colab": {}
      },
      "source": [
        "df[\"LAND_SQUARE_FEET\"] = df[\"LAND_SQUARE_FEET\"].str.replace(\",\",\"\").astype(int)"
      ],
      "execution_count": 0,
      "outputs": []
    },
    {
      "cell_type": "code",
      "metadata": {
        "id": "QAFq0m-ELRKK",
        "colab_type": "code",
        "colab": {}
      },
      "source": [
        "categoricals = [\"BOROUGH\", \"NEIGHBORHOOD\", \"TAX_CLASS_AT_PRESENT\", \"BUILDING_CLASS_AT_PRESENT\", \"ZIP_CODE\", \"BUILDING_CLASS_AT_TIME_OF_SALE\"]"
      ],
      "execution_count": 0,
      "outputs": []
    },
    {
      "cell_type": "code",
      "metadata": {
        "id": "0cXzo5gh3Zzm",
        "colab_type": "code",
        "colab": {}
      },
      "source": [
        "df[\"SALE_DATE\"] = pd.to_datetime(df[\"SALE_DATE\"], infer_datetime_format=True)"
      ],
      "execution_count": 0,
      "outputs": []
    },
    {
      "cell_type": "code",
      "metadata": {
        "id": "irqnnyjG4-9Z",
        "colab_type": "code",
        "colab": {}
      },
      "source": [
        "cutoff = pd.to_datetime(\"2019-04-01\")"
      ],
      "execution_count": 0,
      "outputs": []
    },
    {
      "cell_type": "code",
      "metadata": {
        "id": "_Bof2cET5YyA",
        "colab_type": "code",
        "colab": {}
      },
      "source": [
        "train = df[df[\"SALE_DATE\"] < cutoff]\n",
        "test = df[df[\"SALE_DATE\"] >= cutoff]"
      ],
      "execution_count": 0,
      "outputs": []
    },
    {
      "cell_type": "code",
      "metadata": {
        "id": "YxLM9tEMZ7w-",
        "colab_type": "code",
        "colab": {
          "base_uri": "https://localhost:8080/",
          "height": 34
        },
        "outputId": "b278f0b0-54cb-4c9d-dc06-03f78aab44fc"
      },
      "source": [
        "df.columns[df.nunique() <= 1]"
      ],
      "execution_count": 13,
      "outputs": [
        {
          "output_type": "execute_result",
          "data": {
            "text/plain": [
              "Index(['BUILDING_CLASS_CATEGORY', 'TAX_CLASS_AT_TIME_OF_SALE'], dtype='object')"
            ]
          },
          "metadata": {
            "tags": []
          },
          "execution_count": 13
        }
      ]
    },
    {
      "cell_type": "markdown",
      "metadata": {
        "id": "AsFaVbQ2Z9SJ",
        "colab_type": "text"
      },
      "source": [
        "Drop all columns which have only one unique value, as they don't provide any extra information."
      ]
    },
    {
      "cell_type": "code",
      "metadata": {
        "id": "yMvooJ9r52YF",
        "colab_type": "code",
        "colab": {}
      },
      "source": [
        "features = df.columns.drop([\"SALE_PRICE\", \"SALE_DATE\", \"BUILDING_CLASS_CATEGORY\", \"TAX_CLASS_AT_TIME_OF_SALE\"])\n",
        "target = \"SALE_PRICE\""
      ],
      "execution_count": 0,
      "outputs": []
    },
    {
      "cell_type": "code",
      "metadata": {
        "id": "t-VWWEYj6An5",
        "colab_type": "code",
        "colab": {}
      },
      "source": [
        "X_train = train[features]\n",
        "X_test = test[features]\n",
        "y_train = train[target]\n",
        "y_test = test[target]"
      ],
      "execution_count": 0,
      "outputs": []
    },
    {
      "cell_type": "code",
      "metadata": {
        "id": "lyDfH8wDKzZ-",
        "colab_type": "code",
        "colab": {}
      },
      "source": [
        "import category_encoders as ce"
      ],
      "execution_count": 0,
      "outputs": []
    },
    {
      "cell_type": "code",
      "metadata": {
        "id": "mCF_P6OOK1vP",
        "colab_type": "code",
        "colab": {}
      },
      "source": [
        "encoder = ce.OneHotEncoder(use_cat_names = True, cols = categoricals)"
      ],
      "execution_count": 0,
      "outputs": []
    },
    {
      "cell_type": "markdown",
      "metadata": {
        "id": "5liQyFqpJvaO",
        "colab_type": "text"
      },
      "source": [
        ""
      ]
    },
    {
      "cell_type": "code",
      "metadata": {
        "id": "ixCp1hJFK9P6",
        "colab_type": "code",
        "colab": {}
      },
      "source": [
        "X_train = encoder.fit_transform(X_train)"
      ],
      "execution_count": 0,
      "outputs": []
    },
    {
      "cell_type": "code",
      "metadata": {
        "id": "qAvd2_-TLsIo",
        "colab_type": "code",
        "colab": {
          "base_uri": "https://localhost:8080/",
          "height": 34
        },
        "outputId": "36acee37-4110-481b-b218-5ac7bbf1fe26"
      },
      "source": [
        "X_train.shape"
      ],
      "execution_count": 19,
      "outputs": [
        {
          "output_type": "execute_result",
          "data": {
            "text/plain": [
              "(2517, 168)"
            ]
          },
          "metadata": {
            "tags": []
          },
          "execution_count": 19
        }
      ]
    },
    {
      "cell_type": "code",
      "metadata": {
        "id": "l2-LXmxHL3MD",
        "colab_type": "code",
        "colab": {}
      },
      "source": [
        "X_test = encoder.transform(X_test)"
      ],
      "execution_count": 0,
      "outputs": []
    },
    {
      "cell_type": "code",
      "metadata": {
        "id": "JlnOYLr0JyNa",
        "colab_type": "code",
        "colab": {}
      },
      "source": [
        ""
      ],
      "execution_count": 0,
      "outputs": []
    },
    {
      "cell_type": "code",
      "metadata": {
        "id": "V4GsQFe3L6hu",
        "colab_type": "code",
        "colab": {}
      },
      "source": [
        "from sklearn.feature_selection import SelectKBest, f_regression\n",
        "from sklearn.metrics import mean_absolute_error\n",
        "from sklearn.linear_model import LinearRegression"
      ],
      "execution_count": 0,
      "outputs": []
    },
    {
      "cell_type": "code",
      "metadata": {
        "id": "6rrbVOz0JxaQ",
        "colab_type": "code",
        "colab": {}
      },
      "source": [
        ""
      ],
      "execution_count": 0,
      "outputs": []
    },
    {
      "cell_type": "code",
      "metadata": {
        "id": "SadNv_SOMPao",
        "colab_type": "code",
        "colab": {
          "base_uri": "https://localhost:8080/",
          "height": 1000
        },
        "outputId": "51bda170-8412-454b-8f6d-31428362730f"
      },
      "source": [
        "for k in range(1, len(X_train.columns) + 1):\n",
        "  print(f'{k} features')\n",
        "\n",
        "  selector = SelectKBest(score_func = f_regression, k = k)\n",
        "  X_train_selected = selector.fit_transform(X_train, y_train)\n",
        "  X_test_selected = selector.transform(X_test)\n",
        "\n",
        "  model = LinearRegression()\n",
        "  model.fit(X_train_selected, y_train)\n",
        "  y_pred = model.predict(X_test_selected)\n",
        "  mae = mean_absolute_error(y_test, y_pred)\n",
        "\n",
        "  print(f'Test MAE: {mae:.0f} \\n')"
      ],
      "execution_count": 22,
      "outputs": [
        {
          "output_type": "stream",
          "text": [
            "1 features\n",
            "Test MAE: 185788 \n",
            "\n",
            "2 features\n",
            "Test MAE: 181871 \n",
            "\n",
            "3 features\n",
            "Test MAE: 181603 \n",
            "\n",
            "4 features\n",
            "Test MAE: 181603 \n",
            "\n",
            "5 features\n",
            "Test MAE: 173029 \n",
            "\n",
            "6 features\n",
            "Test MAE: 172716 \n",
            "\n",
            "7 features\n",
            "Test MAE: 171356 \n",
            "\n",
            "8 features\n",
            "Test MAE: 171025 \n",
            "\n",
            "9 features\n",
            "Test MAE: 169695 \n",
            "\n",
            "10 features\n",
            "Test MAE: 169660 \n",
            "\n",
            "11 features\n",
            "Test MAE: 166936 \n",
            "\n",
            "12 features\n",
            "Test MAE: 155140 \n",
            "\n",
            "13 features\n",
            "Test MAE: 154675 \n",
            "\n",
            "14 features\n",
            "Test MAE: 155261 \n",
            "\n",
            "15 features\n",
            "Test MAE: 154705 \n",
            "\n",
            "16 features\n",
            "Test MAE: 153055 \n",
            "\n",
            "17 features\n",
            "Test MAE: 151429 \n",
            "\n",
            "18 features\n",
            "Test MAE: 153482 \n",
            "\n",
            "19 features\n",
            "Test MAE: 153484 \n",
            "\n",
            "20 features\n",
            "Test MAE: 153486 \n",
            "\n",
            "21 features\n",
            "Test MAE: 154867 \n",
            "\n",
            "22 features\n",
            "Test MAE: 154755 \n",
            "\n",
            "23 features\n",
            "Test MAE: 153871 \n",
            "\n",
            "24 features\n",
            "Test MAE: 151709 \n",
            "\n",
            "25 features\n",
            "Test MAE: 151435 \n",
            "\n",
            "26 features\n",
            "Test MAE: 151254 \n",
            "\n",
            "27 features\n",
            "Test MAE: 151254 \n",
            "\n",
            "28 features\n",
            "Test MAE: 151268 \n",
            "\n",
            "29 features\n",
            "Test MAE: 150075 \n",
            "\n",
            "30 features\n",
            "Test MAE: 149181 \n",
            "\n",
            "31 features\n",
            "Test MAE: 149181 \n",
            "\n",
            "32 features\n",
            "Test MAE: 150487 \n",
            "\n",
            "33 features\n",
            "Test MAE: 150777 \n",
            "\n",
            "34 features\n",
            "Test MAE: 150781 \n",
            "\n",
            "35 features\n",
            "Test MAE: 150781 \n",
            "\n",
            "36 features\n",
            "Test MAE: 151262 \n",
            "\n",
            "37 features\n",
            "Test MAE: 151152 \n",
            "\n",
            "38 features\n",
            "Test MAE: 149506 \n",
            "\n",
            "39 features\n",
            "Test MAE: 147242 \n",
            "\n",
            "40 features\n",
            "Test MAE: 147116 \n",
            "\n",
            "41 features\n",
            "Test MAE: 147116 \n",
            "\n",
            "42 features\n",
            "Test MAE: 147116 \n",
            "\n",
            "43 features\n",
            "Test MAE: 145515 \n",
            "\n",
            "44 features\n",
            "Test MAE: 144609 \n",
            "\n",
            "45 features\n",
            "Test MAE: 144609 \n",
            "\n",
            "46 features\n",
            "Test MAE: 144376 \n",
            "\n",
            "47 features\n",
            "Test MAE: 144272 \n",
            "\n",
            "48 features\n",
            "Test MAE: 144214 \n",
            "\n",
            "49 features\n",
            "Test MAE: 144177 \n",
            "\n",
            "50 features\n",
            "Test MAE: 144299 \n",
            "\n",
            "51 features\n",
            "Test MAE: 144197 \n",
            "\n",
            "52 features\n",
            "Test MAE: 145010 \n",
            "\n",
            "53 features\n",
            "Test MAE: 144942 \n",
            "\n",
            "54 features\n",
            "Test MAE: 144943 \n",
            "\n",
            "55 features\n",
            "Test MAE: 144312 \n",
            "\n",
            "56 features\n",
            "Test MAE: 144839 \n",
            "\n",
            "57 features\n",
            "Test MAE: 145168 \n",
            "\n",
            "58 features\n",
            "Test MAE: 144833 \n",
            "\n",
            "59 features\n",
            "Test MAE: 144163 \n",
            "\n",
            "60 features\n",
            "Test MAE: 143211 \n",
            "\n",
            "61 features\n",
            "Test MAE: 143277 \n",
            "\n",
            "62 features\n",
            "Test MAE: 143031 \n",
            "\n",
            "63 features\n",
            "Test MAE: 143135 \n",
            "\n",
            "64 features\n",
            "Test MAE: 143108 \n",
            "\n",
            "65 features\n",
            "Test MAE: 143189 \n",
            "\n",
            "66 features\n",
            "Test MAE: 142680 \n",
            "\n",
            "67 features\n",
            "Test MAE: 143343 \n",
            "\n",
            "68 features\n",
            "Test MAE: 142632 \n",
            "\n",
            "69 features\n",
            "Test MAE: 143258 \n",
            "\n",
            "70 features\n",
            "Test MAE: 143710 \n",
            "\n",
            "71 features\n",
            "Test MAE: 143750 \n",
            "\n",
            "72 features\n",
            "Test MAE: 143347 \n",
            "\n",
            "73 features\n",
            "Test MAE: 143438 \n",
            "\n",
            "74 features\n",
            "Test MAE: 143387 \n",
            "\n",
            "75 features\n",
            "Test MAE: 143339 \n",
            "\n",
            "76 features\n",
            "Test MAE: 143027 \n",
            "\n",
            "77 features\n",
            "Test MAE: 141329 \n",
            "\n",
            "78 features\n",
            "Test MAE: 141273 \n",
            "\n",
            "79 features\n",
            "Test MAE: 140676 \n",
            "\n",
            "80 features\n",
            "Test MAE: 139878 \n",
            "\n",
            "81 features\n",
            "Test MAE: 140224 \n",
            "\n",
            "82 features\n",
            "Test MAE: 139823 \n",
            "\n",
            "83 features\n",
            "Test MAE: 140221 \n",
            "\n",
            "84 features\n",
            "Test MAE: 140377 \n",
            "\n",
            "85 features\n",
            "Test MAE: 140401 \n",
            "\n",
            "86 features\n",
            "Test MAE: 140324 \n",
            "\n",
            "87 features\n",
            "Test MAE: 140075 \n",
            "\n",
            "88 features\n",
            "Test MAE: 140702 \n",
            "\n",
            "89 features\n",
            "Test MAE: 140529 \n",
            "\n",
            "90 features\n",
            "Test MAE: 140633 \n",
            "\n",
            "91 features\n",
            "Test MAE: 140655 \n",
            "\n",
            "92 features\n",
            "Test MAE: 140665 \n",
            "\n",
            "93 features\n",
            "Test MAE: 140693 \n",
            "\n",
            "94 features\n",
            "Test MAE: 140669 \n",
            "\n",
            "95 features\n",
            "Test MAE: 140682 \n",
            "\n",
            "96 features\n",
            "Test MAE: 139557 \n",
            "\n",
            "97 features\n",
            "Test MAE: 139641 \n",
            "\n",
            "98 features\n",
            "Test MAE: 140418 \n",
            "\n",
            "99 features\n",
            "Test MAE: 140262 \n",
            "\n",
            "100 features\n",
            "Test MAE: 140715 \n",
            "\n",
            "101 features\n",
            "Test MAE: 140734 \n",
            "\n",
            "102 features\n",
            "Test MAE: 140820 \n",
            "\n",
            "103 features\n",
            "Test MAE: 140745 \n",
            "\n",
            "104 features\n",
            "Test MAE: 140745 \n",
            "\n",
            "105 features\n",
            "Test MAE: 140702 \n",
            "\n",
            "106 features\n",
            "Test MAE: 140789 \n",
            "\n",
            "107 features\n",
            "Test MAE: 140632 \n",
            "\n",
            "108 features\n",
            "Test MAE: 140678 \n",
            "\n",
            "109 features\n",
            "Test MAE: 140607 \n",
            "\n",
            "110 features\n",
            "Test MAE: 140617 \n",
            "\n",
            "111 features\n",
            "Test MAE: 140197 \n",
            "\n",
            "112 features\n",
            "Test MAE: 140268 \n",
            "\n",
            "113 features\n",
            "Test MAE: 140353 \n",
            "\n",
            "114 features\n",
            "Test MAE: 140298 \n",
            "\n",
            "115 features\n",
            "Test MAE: 140082 \n",
            "\n",
            "116 features\n",
            "Test MAE: 140327 \n",
            "\n",
            "117 features\n",
            "Test MAE: 141125 \n",
            "\n",
            "118 features\n",
            "Test MAE: 141089 \n",
            "\n",
            "119 features\n",
            "Test MAE: 140791 \n",
            "\n",
            "120 features\n",
            "Test MAE: 140475 \n",
            "\n",
            "121 features\n",
            "Test MAE: 140682 \n",
            "\n",
            "122 features\n",
            "Test MAE: 140558 \n",
            "\n",
            "123 features\n",
            "Test MAE: 140679 \n",
            "\n",
            "124 features\n",
            "Test MAE: 140633 \n",
            "\n",
            "125 features\n",
            "Test MAE: 140655 \n",
            "\n",
            "126 features\n",
            "Test MAE: 139814 \n",
            "\n",
            "127 features\n",
            "Test MAE: 139807 \n",
            "\n",
            "128 features\n",
            "Test MAE: 139833 \n",
            "\n",
            "129 features\n",
            "Test MAE: 15405771029 \n",
            "\n",
            "130 features\n",
            "Test MAE: 415051509 \n",
            "\n",
            "131 features\n",
            "Test MAE: 275483832420 \n",
            "\n",
            "132 features\n",
            "Test MAE: 85177092144 \n",
            "\n",
            "133 features\n",
            "Test MAE: 188045005785 \n",
            "\n",
            "134 features\n",
            "Test MAE: 13856123699 \n",
            "\n",
            "135 features\n",
            "Test MAE: 34840566164 \n",
            "\n",
            "136 features\n",
            "Test MAE: 131517301082 \n",
            "\n",
            "137 features\n",
            "Test MAE: 179332114145 \n",
            "\n",
            "138 features\n",
            "Test MAE: 228160438286 \n",
            "\n",
            "139 features\n",
            "Test MAE: 88255729507 \n",
            "\n",
            "140 features\n",
            "Test MAE: 165004485261 \n",
            "\n",
            "141 features\n",
            "Test MAE: 242424926098 \n",
            "\n",
            "142 features\n",
            "Test MAE: 566020532212 \n",
            "\n",
            "143 features\n",
            "Test MAE: 126404001509 \n",
            "\n",
            "144 features\n",
            "Test MAE: 92726827255 \n",
            "\n",
            "145 features\n",
            "Test MAE: 181415802150 \n",
            "\n",
            "146 features\n",
            "Test MAE: 27327997352 \n",
            "\n",
            "147 features\n",
            "Test MAE: 84899396501 \n",
            "\n",
            "148 features\n",
            "Test MAE: 22719832206 \n",
            "\n",
            "149 features\n",
            "Test MAE: 56536998932 \n",
            "\n",
            "150 features\n",
            "Test MAE: 74036578320 \n",
            "\n",
            "151 features\n",
            "Test MAE: 37986210549 \n",
            "\n",
            "152 features\n",
            "Test MAE: 190539705794 \n",
            "\n",
            "153 features\n",
            "Test MAE: 11701883414 \n",
            "\n",
            "154 features\n",
            "Test MAE: 139798 \n",
            "\n",
            "155 features\n",
            "Test MAE: 140052 \n",
            "\n",
            "156 features\n",
            "Test MAE: 198352787595 \n",
            "\n",
            "157 features\n",
            "Test MAE: 140038 \n",
            "\n",
            "158 features\n",
            "Test MAE: 140033 \n",
            "\n",
            "159 features\n",
            "Test MAE: 139947 \n",
            "\n",
            "160 features\n",
            "Test MAE: 139922 \n",
            "\n",
            "161 features\n",
            "Test MAE: 226882626365 \n",
            "\n",
            "162 features\n",
            "Test MAE: 515428824438 \n",
            "\n",
            "163 features\n",
            "Test MAE: 17431733042 \n",
            "\n",
            "164 features\n",
            "Test MAE: 28098861758 \n",
            "\n",
            "165 features\n",
            "Test MAE: 188490421967 \n",
            "\n",
            "166 features\n",
            "Test MAE: 394935534267 \n",
            "\n",
            "167 features\n",
            "Test MAE: 575462984005 \n",
            "\n",
            "168 features\n",
            "Test MAE: 153688910327 \n",
            "\n"
          ],
          "name": "stdout"
        }
      ]
    },
    {
      "cell_type": "markdown",
      "metadata": {
        "id": "-2el7X24Mz7J",
        "colab_type": "text"
      },
      "source": [
        "Looks like the optimal model has 98 features. "
      ]
    },
    {
      "cell_type": "code",
      "metadata": {
        "id": "3JHOF0JZb6TY",
        "colab_type": "code",
        "colab": {}
      },
      "source": [
        "selector = SelectKBest(score_func = f_regression, k = 98)\n",
        "X_train_selected = selector.fit_transform(X_train, y_train)\n",
        "X_test_selected = selector.transform(X_test)"
      ],
      "execution_count": 0,
      "outputs": []
    },
    {
      "cell_type": "markdown",
      "metadata": {
        "id": "Ayp4OyzrfVhJ",
        "colab_type": "text"
      },
      "source": [
        "## Ridge Regression"
      ]
    },
    {
      "cell_type": "code",
      "metadata": {
        "id": "6D4egUVRhb8g",
        "colab_type": "code",
        "colab": {}
      },
      "source": [
        "from sklearn.linear_model import Ridge, RidgeCV\n",
        "from sklearn.preprocessing import StandardScaler\n",
        "#scaler = StandardScaler()\n",
        "#X_train_selected = scaler.fit_transform(X_train_selected)\n",
        "#X_test_selected = scaler.transform(X_test_selected)"
      ],
      "execution_count": 0,
      "outputs": []
    },
    {
      "cell_type": "code",
      "metadata": {
        "id": "OCFsb5nXKpiw",
        "colab_type": "code",
        "colab": {
          "base_uri": "https://localhost:8080/",
          "height": 134
        },
        "outputId": "119342fe-d3eb-4056-a209-2e8511f1e0d0"
      },
      "source": [
        "X_train_selected"
      ],
      "execution_count": 25,
      "outputs": [
        {
          "output_type": "execute_result",
          "data": {
            "text/plain": [
              "array([[1., 0., 0., ..., 0., 0., 0.],\n",
              "       [0., 1., 0., ..., 0., 0., 0.],\n",
              "       [0., 0., 1., ..., 0., 0., 0.],\n",
              "       ...,\n",
              "       [0., 0., 0., ..., 0., 0., 0.],\n",
              "       [0., 0., 0., ..., 0., 0., 0.],\n",
              "       [0., 1., 0., ..., 0., 0., 0.]])"
            ]
          },
          "metadata": {
            "tags": []
          },
          "execution_count": 25
        }
      ]
    },
    {
      "cell_type": "code",
      "metadata": {
        "id": "BB_sg4BiiUxs",
        "colab_type": "code",
        "colab": {}
      },
      "source": [
        "alphas = [.01, .1, .5, 1, 5, 10]"
      ],
      "execution_count": 0,
      "outputs": []
    },
    {
      "cell_type": "code",
      "metadata": {
        "id": "IaXn7NR_iOrs",
        "colab_type": "code",
        "colab": {
          "base_uri": "https://localhost:8080/",
          "height": 67
        },
        "outputId": "39fbba28-a0f9-40c1-fffb-b3b3791e6882"
      },
      "source": [
        "ridge_model = RidgeCV(alphas = alphas, normalize = True, store_cv_values=True)\n",
        "ridge_model.fit(X_train_selected, y_train)"
      ],
      "execution_count": 27,
      "outputs": [
        {
          "output_type": "execute_result",
          "data": {
            "text/plain": [
              "RidgeCV(alphas=array([ 0.01,  0.1 ,  0.5 ,  1.  ,  5.  , 10.  ]), cv=None,\n",
              "        fit_intercept=True, gcv_mode=None, normalize=True, scoring=None,\n",
              "        store_cv_values=True)"
            ]
          },
          "metadata": {
            "tags": []
          },
          "execution_count": 27
        }
      ]
    },
    {
      "cell_type": "code",
      "metadata": {
        "id": "DTHgYHKBjBO5",
        "colab_type": "code",
        "colab": {}
      },
      "source": [
        "y_pred = ridge_model.predict(X_test_selected)\n",
        "mae = mean_absolute_error(y_test, y_pred)"
      ],
      "execution_count": 0,
      "outputs": []
    },
    {
      "cell_type": "code",
      "metadata": {
        "id": "t6ucaNdIjaLW",
        "colab_type": "code",
        "colab": {
          "base_uri": "https://localhost:8080/",
          "height": 34
        },
        "outputId": "f32c4ea3-835c-4bda-ba9c-740b2a24e3e2"
      },
      "source": [
        "mae"
      ],
      "execution_count": 29,
      "outputs": [
        {
          "output_type": "execute_result",
          "data": {
            "text/plain": [
              "139380.1508588058"
            ]
          },
          "metadata": {
            "tags": []
          },
          "execution_count": 29
        }
      ]
    },
    {
      "cell_type": "markdown",
      "metadata": {
        "id": "t163iqm6KuIg",
        "colab_type": "text"
      },
      "source": [
        "This seems to be the same MAE as without scaling? 138286\n",
        "\n",
        "Nope: MAE with scaling 139380."
      ]
    },
    {
      "cell_type": "code",
      "metadata": {
        "id": "es9RD1R_jl6X",
        "colab_type": "code",
        "colab": {
          "base_uri": "https://localhost:8080/",
          "height": 235
        },
        "outputId": "4a3876a6-debb-4f50-d9a2-38c2ade8ded1"
      },
      "source": [
        "ridge_model.cv_values_"
      ],
      "execution_count": 30,
      "outputs": [
        {
          "output_type": "execute_result",
          "data": {
            "text/plain": [
              "array([[2.08132878e+11, 1.80753055e+11, 1.18645463e+11, 8.35922172e+10,\n",
              "        2.52414195e+10, 1.48672430e+10],\n",
              "       [2.86840687e+11, 2.75209636e+11, 2.49483511e+11, 2.33927328e+11,\n",
              "        2.00702646e+11, 1.91316496e+11],\n",
              "       [4.23406994e+10, 3.92980930e+10, 3.61758328e+10, 3.55616184e+10,\n",
              "        3.51590561e+10, 3.52333047e+10],\n",
              "       ...,\n",
              "       [1.67224808e+10, 1.45849810e+10, 8.18975614e+09, 4.41507018e+09,\n",
              "        1.99853381e+08, 5.67288359e+06],\n",
              "       [6.37380130e+08, 2.01925537e+08, 2.08806486e+08, 1.11848148e+09,\n",
              "        5.58712395e+09, 7.37747071e+09],\n",
              "       [1.45316032e+11, 1.51198562e+11, 1.73189442e+11, 1.91563182e+11,\n",
              "        2.37652851e+11, 2.50486550e+11]])"
            ]
          },
          "metadata": {
            "tags": []
          },
          "execution_count": 30
        }
      ]
    },
    {
      "cell_type": "code",
      "metadata": {
        "id": "CxplRS27kq2P",
        "colab_type": "code",
        "colab": {
          "base_uri": "https://localhost:8080/",
          "height": 34
        },
        "outputId": "528bb8a5-ce14-4f3f-bde8-f3261b71cd83"
      },
      "source": [
        "ridge_model.alpha_"
      ],
      "execution_count": 31,
      "outputs": [
        {
          "output_type": "execute_result",
          "data": {
            "text/plain": [
              "0.1"
            ]
          },
          "metadata": {
            "tags": []
          },
          "execution_count": 31
        }
      ]
    },
    {
      "cell_type": "code",
      "metadata": {
        "id": "T01HO_nTks4U",
        "colab_type": "code",
        "colab": {}
      },
      "source": [
        ""
      ],
      "execution_count": 0,
      "outputs": []
    }
  ]
}