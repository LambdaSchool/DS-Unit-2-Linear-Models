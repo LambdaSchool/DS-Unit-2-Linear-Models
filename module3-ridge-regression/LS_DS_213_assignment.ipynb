{
  "nbformat": 4,
  "nbformat_minor": 0,
  "metadata": {
    "kernelspec": {
      "display_name": "Python 3",
      "language": "python",
      "name": "python3"
    },
    "language_info": {
      "codemirror_mode": {
        "name": "ipython",
        "version": 3
      },
      "file_extension": ".py",
      "mimetype": "text/x-python",
      "name": "python",
      "nbconvert_exporter": "python",
      "pygments_lexer": "ipython3",
      "version": "3.7.3"
    },
    "colab": {
      "name": "LS_DS_213_assignment.ipynb",
      "provenance": []
    }
  },
  "cells": [
    {
      "cell_type": "markdown",
      "metadata": {
        "id": "5ApINi3W3Gp3",
        "colab_type": "text"
      },
      "source": [
        "Lambda School Data Science\n",
        "\n",
        "*Unit 2, Sprint 1, Module 3*\n",
        "\n",
        "---"
      ]
    },
    {
      "cell_type": "markdown",
      "metadata": {
        "colab_type": "text",
        "id": "7IXUfiQ2UKj6"
      },
      "source": [
        "# Ridge Regression\n",
        "\n",
        "## Assignment\n",
        "\n",
        "We're going back to our other **New York City** real estate dataset. Instead of predicting apartment rents, you'll predict property sales prices.\n",
        "\n",
        "But not just for condos in Tribeca...\n",
        "\n",
        "- [ ] Use a subset of the data where `BUILDING_CLASS_CATEGORY` == `'01 ONE FAMILY DWELLINGS'` and the sale price was more than 100 thousand and less than 2 million.\n",
        "- [ ] Do train/test split. Use data from January — March 2019 to train. Use data from April 2019 to test.\n",
        "- [ ] Do one-hot encoding of categorical features.\n",
        "- [ ] Do feature selection with `SelectKBest`.\n",
        "- [ ] Fit a ridge regression model with multiple features. Use the `normalize=True` parameter (or do [feature scaling](https://scikit-learn.org/stable/modules/preprocessing.html) beforehand — use the scaler's `fit_transform` method with the train set, and the scaler's `transform` method with the test set)\n",
        "- [ ] Get mean absolute error for the test set.\n",
        "- [ ] As always, commit your notebook to your fork of the GitHub repo.\n",
        "\n",
        "The [NYC Department of Finance](https://www1.nyc.gov/site/finance/taxes/property-rolling-sales-data.page) has a glossary of property sales terms and NYC Building Class Code Descriptions. The data comes from the [NYC OpenData](https://data.cityofnewyork.us/browse?q=NYC%20calendar%20sales) portal.\n",
        "\n",
        "\n",
        "## Stretch Goals\n",
        "\n",
        "Don't worry, you aren't expected to do all these stretch goals! These are just ideas to consider and choose from.\n",
        "\n",
        "- [ ] Add your own stretch goal(s) !\n",
        "- [ ] Instead of `Ridge`, try `LinearRegression`. Depending on how many features you select, your errors will probably blow up! 💥\n",
        "- [ ] Instead of `Ridge`, try [`RidgeCV`](https://scikit-learn.org/stable/modules/generated/sklearn.linear_model.RidgeCV.html).\n",
        "- [ ] Learn more about feature selection:\n",
        "    - [\"Permutation importance\"](https://www.kaggle.com/dansbecker/permutation-importance)\n",
        "    - [scikit-learn's User Guide for Feature Selection](https://scikit-learn.org/stable/modules/feature_selection.html)\n",
        "    - [mlxtend](http://rasbt.github.io/mlxtend/) library\n",
        "    - scikit-learn-contrib libraries: [boruta_py](https://github.com/scikit-learn-contrib/boruta_py) & [stability-selection](https://github.com/scikit-learn-contrib/stability-selection)\n",
        "    - [_Feature Engineering and Selection_](http://www.feat.engineering/) by Kuhn & Johnson.\n",
        "- [ ] Try [statsmodels](https://www.statsmodels.org/stable/index.html) if you’re interested in more inferential statistical approach to linear regression and feature selection, looking at p values and 95% confidence intervals for the coefficients.\n",
        "- [ ] Read [_An Introduction to Statistical Learning_](http://faculty.marshall.usc.edu/gareth-james/ISL/ISLR%20Seventh%20Printing.pdf), Chapters 1-3, for more math & theory, but in an accessible, readable way.\n",
        "- [ ] Try [scikit-learn pipelines](https://scikit-learn.org/stable/modules/compose.html)."
      ]
    },
    {
      "cell_type": "code",
      "metadata": {
        "colab_type": "code",
        "id": "o9eSnDYhUGD7",
        "colab": {}
      },
      "source": [
        "%%capture\n",
        "import sys\n",
        "\n",
        "# If you're on Colab:\n",
        "if 'google.colab' in sys.modules:\n",
        "    DATA_PATH = 'https://raw.githubusercontent.com/LambdaSchool/DS-Unit-2-Applied-Modeling/master/data/'\n",
        "    !pip install category_encoders==2.*\n",
        "\n",
        "# If you're working locally:\n",
        "else:\n",
        "    DATA_PATH = '../data/'\n",
        "    \n",
        "# Ignore this Numpy warning when using Plotly Express:\n",
        "# FutureWarning: Method .ptp is deprecated and will be removed in a future version. Use numpy.ptp instead.\n",
        "import warnings\n",
        "warnings.filterwarnings(action='ignore', category=FutureWarning, module='numpy')"
      ],
      "execution_count": 0,
      "outputs": []
    },
    {
      "cell_type": "code",
      "metadata": {
        "colab_type": "code",
        "id": "QJBD4ruICm1m",
        "colab": {}
      },
      "source": [
        "import pandas as pd\n",
        "import pandas_profiling\n",
        "\n",
        "# Read New York City property sales data\n",
        "df = pd.read_csv(DATA_PATH+'condos/NYC_Citywide_Rolling_Calendar_Sales.csv')\n",
        "\n",
        "# Change column names: replace spaces with underscores\n",
        "df.columns = [col.replace(' ', '_') for col in df]\n",
        "\n",
        "# SALE_PRICE was read as strings.\n",
        "# Remove symbols, convert to integer\n",
        "df['SALE_PRICE'] = (\n",
        "    df['SALE_PRICE']\n",
        "    .str.replace('$','')\n",
        "    .str.replace('-','')\n",
        "    .str.replace(',','')\n",
        "    .astype(int)\n",
        ")"
      ],
      "execution_count": 0,
      "outputs": []
    },
    {
      "cell_type": "code",
      "metadata": {
        "id": "7G0HeRsC3GqA",
        "colab_type": "code",
        "colab": {}
      },
      "source": [
        "# BOROUGH is a numeric column, but arguably should be a categorical feature,\n",
        "# so convert it from a number to a string\n",
        "df['BOROUGH'] = df['BOROUGH'].astype(str)"
      ],
      "execution_count": 0,
      "outputs": []
    },
    {
      "cell_type": "code",
      "metadata": {
        "id": "cO-itjWU3GqC",
        "colab_type": "code",
        "colab": {}
      },
      "source": [
        "# Reduce cardinality for NEIGHBORHOOD feature\n",
        "\n",
        "# Get a list of the top 10 neighborhoods\n",
        "top10 = df['NEIGHBORHOOD'].value_counts()[:10].index\n",
        "\n",
        "# At locations where the neighborhood is NOT in the top 10, \n",
        "# replace the neighborhood with 'OTHER'\n",
        "df.loc[~df['NEIGHBORHOOD'].isin(top10), 'NEIGHBORHOOD'] = 'OTHER'"
      ],
      "execution_count": 0,
      "outputs": []
    },
    {
      "cell_type": "code",
      "metadata": {
        "id": "5rb4n74TEv9p",
        "colab_type": "code",
        "colab": {}
      },
      "source": [
        "# doing the import for numpy\n",
        "import numpy as np\n"
      ],
      "execution_count": 0,
      "outputs": []
    },
    {
      "cell_type": "code",
      "metadata": {
        "id": "IPEbBTtv8X0e",
        "colab_type": "code",
        "colab": {
          "base_uri": "https://localhost:8080/",
          "height": 767
        },
        "outputId": "53087e83-2b48-43cc-f152-ba51d1b79973"
      },
      "source": [
        "df[\"BUILDING_CLASS_CATEGORY\"].value_counts()"
      ],
      "execution_count": 29,
      "outputs": [
        {
          "output_type": "execute_result",
          "data": {
            "text/plain": [
              "01 ONE FAMILY DWELLINGS                       5061\n",
              "02 TWO FAMILY DWELLINGS                       4567\n",
              "10 COOPS - ELEVATOR APARTMENTS                3471\n",
              "13 CONDOS - ELEVATOR APARTMENTS               3339\n",
              "03 THREE FAMILY DWELLINGS                     1438\n",
              "07 RENTALS - WALKUP APARTMENTS                 807\n",
              "09 COOPS - WALKUP APARTMENTS                   672\n",
              "15 CONDOS - 2-10 UNIT RESIDENTIAL              421\n",
              "04 TAX CLASS 1 CONDOS                          418\n",
              "44 CONDO PARKING                               366\n",
              "17 CONDO COOPS                                 300\n",
              "22 STORE BUILDINGS                             288\n",
              "05 TAX CLASS 1 VACANT LAND                     288\n",
              "12 CONDOS - WALKUP APARTMENTS                  256\n",
              "14 RENTALS - 4-10 UNIT                         200\n",
              "29 COMMERCIAL GARAGES                          147\n",
              "08 RENTALS - ELEVATOR APARTMENTS               120\n",
              "30 WAREHOUSES                                  105\n",
              "21 OFFICE BUILDINGS                             96\n",
              "43 CONDO OFFICE BUILDINGS                       80\n",
              "31 COMMERCIAL VACANT LAND                       80\n",
              "47 CONDO NON-BUSINESS STORAGE                   75\n",
              "46 CONDO STORE BUILDINGS                        65\n",
              "27 FACTORIES                                    54\n",
              "06 TAX CLASS 1 - OTHER                          42\n",
              "37 RELIGIOUS FACILITIES                         38\n",
              "45 CONDO HOTELS                                 32\n",
              "11A CONDO-RENTALS                               30\n",
              "41 TAX CLASS 4 - OTHER                          30\n",
              "16 CONDOS - 2-10 UNIT WITH COMMERCIAL UNIT      29\n",
              "33 EDUCATIONAL FACILITIES                       24\n",
              "28 COMMERCIAL CONDOS                            23\n",
              "32 HOSPITAL AND HEALTH FACILITIES               21\n",
              "26 OTHER HOTELS                                 15\n",
              "35 INDOOR PUBLIC AND CULTURAL FACILITIES         7\n",
              "34 THEATRES                                      7\n",
              "23 LOFT BUILDINGS                                7\n",
              "25 LUXURY HOTELS                                 6\n",
              "36 OUTDOOR RECREATIONAL FACILITIES               4\n",
              "49 CONDO WAREHOUSES/FACTORY/INDUS                4\n",
              "48 CONDO TERRACES/GARDENS/CABANAS                3\n",
              "38 ASYLUMS AND HOMES                             2\n",
              "39 TRANSPORTATION FACILITIES                     1\n",
              "42 CONDO CULTURAL/MEDICAL/EDUCATIONAL/ETC        1\n",
              "Name: BUILDING_CLASS_CATEGORY, dtype: int64"
            ]
          },
          "metadata": {
            "tags": []
          },
          "execution_count": 29
        }
      ]
    },
    {
      "cell_type": "code",
      "metadata": {
        "id": "9UzJXwSi3GqF",
        "colab_type": "code",
        "colab": {
          "base_uri": "https://localhost:8080/",
          "height": 680
        },
        "outputId": "fd028eac-7e2f-4c8b-8166-2d895e4303f9"
      },
      "source": [
        "# Looking at the head of the dataFrame\n",
        "print(df.shape)\n",
        "df.head(2).T"
      ],
      "execution_count": 30,
      "outputs": [
        {
          "output_type": "stream",
          "text": [
            "(23040, 21)\n"
          ],
          "name": "stdout"
        },
        {
          "output_type": "execute_result",
          "data": {
            "text/html": [
              "<div>\n",
              "<style scoped>\n",
              "    .dataframe tbody tr th:only-of-type {\n",
              "        vertical-align: middle;\n",
              "    }\n",
              "\n",
              "    .dataframe tbody tr th {\n",
              "        vertical-align: top;\n",
              "    }\n",
              "\n",
              "    .dataframe thead th {\n",
              "        text-align: right;\n",
              "    }\n",
              "</style>\n",
              "<table border=\"1\" class=\"dataframe\">\n",
              "  <thead>\n",
              "    <tr style=\"text-align: right;\">\n",
              "      <th></th>\n",
              "      <th>0</th>\n",
              "      <th>1</th>\n",
              "    </tr>\n",
              "  </thead>\n",
              "  <tbody>\n",
              "    <tr>\n",
              "      <th>BOROUGH</th>\n",
              "      <td>1</td>\n",
              "      <td>1</td>\n",
              "    </tr>\n",
              "    <tr>\n",
              "      <th>NEIGHBORHOOD</th>\n",
              "      <td>OTHER</td>\n",
              "      <td>OTHER</td>\n",
              "    </tr>\n",
              "    <tr>\n",
              "      <th>BUILDING_CLASS_CATEGORY</th>\n",
              "      <td>13 CONDOS - ELEVATOR APARTMENTS</td>\n",
              "      <td>21 OFFICE BUILDINGS</td>\n",
              "    </tr>\n",
              "    <tr>\n",
              "      <th>TAX_CLASS_AT_PRESENT</th>\n",
              "      <td>2</td>\n",
              "      <td>4</td>\n",
              "    </tr>\n",
              "    <tr>\n",
              "      <th>BLOCK</th>\n",
              "      <td>716</td>\n",
              "      <td>812</td>\n",
              "    </tr>\n",
              "    <tr>\n",
              "      <th>LOT</th>\n",
              "      <td>1246</td>\n",
              "      <td>68</td>\n",
              "    </tr>\n",
              "    <tr>\n",
              "      <th>EASE-MENT</th>\n",
              "      <td>NaN</td>\n",
              "      <td>NaN</td>\n",
              "    </tr>\n",
              "    <tr>\n",
              "      <th>BUILDING_CLASS_AT_PRESENT</th>\n",
              "      <td>R4</td>\n",
              "      <td>O5</td>\n",
              "    </tr>\n",
              "    <tr>\n",
              "      <th>ADDRESS</th>\n",
              "      <td>447 WEST 18TH STREET, PH12A</td>\n",
              "      <td>144 WEST 37TH STREET</td>\n",
              "    </tr>\n",
              "    <tr>\n",
              "      <th>APARTMENT_NUMBER</th>\n",
              "      <td>PH12A</td>\n",
              "      <td>NaN</td>\n",
              "    </tr>\n",
              "    <tr>\n",
              "      <th>ZIP_CODE</th>\n",
              "      <td>10011</td>\n",
              "      <td>10018</td>\n",
              "    </tr>\n",
              "    <tr>\n",
              "      <th>RESIDENTIAL_UNITS</th>\n",
              "      <td>1</td>\n",
              "      <td>0</td>\n",
              "    </tr>\n",
              "    <tr>\n",
              "      <th>COMMERCIAL_UNITS</th>\n",
              "      <td>0</td>\n",
              "      <td>6</td>\n",
              "    </tr>\n",
              "    <tr>\n",
              "      <th>TOTAL_UNITS</th>\n",
              "      <td>1</td>\n",
              "      <td>6</td>\n",
              "    </tr>\n",
              "    <tr>\n",
              "      <th>LAND_SQUARE_FEET</th>\n",
              "      <td>10,733</td>\n",
              "      <td>2,962</td>\n",
              "    </tr>\n",
              "    <tr>\n",
              "      <th>GROSS_SQUARE_FEET</th>\n",
              "      <td>1979</td>\n",
              "      <td>15435</td>\n",
              "    </tr>\n",
              "    <tr>\n",
              "      <th>YEAR_BUILT</th>\n",
              "      <td>2007</td>\n",
              "      <td>1920</td>\n",
              "    </tr>\n",
              "    <tr>\n",
              "      <th>TAX_CLASS_AT_TIME_OF_SALE</th>\n",
              "      <td>2</td>\n",
              "      <td>4</td>\n",
              "    </tr>\n",
              "    <tr>\n",
              "      <th>BUILDING_CLASS_AT_TIME_OF_SALE</th>\n",
              "      <td>R4</td>\n",
              "      <td>O5</td>\n",
              "    </tr>\n",
              "    <tr>\n",
              "      <th>SALE_PRICE</th>\n",
              "      <td>0</td>\n",
              "      <td>0</td>\n",
              "    </tr>\n",
              "    <tr>\n",
              "      <th>SALE_DATE</th>\n",
              "      <td>01/01/2019</td>\n",
              "      <td>01/01/2019</td>\n",
              "    </tr>\n",
              "  </tbody>\n",
              "</table>\n",
              "</div>"
            ],
            "text/plain": [
              "                                                              0                     1\n",
              "BOROUGH                                                       1                     1\n",
              "NEIGHBORHOOD                                              OTHER                 OTHER\n",
              "BUILDING_CLASS_CATEGORY         13 CONDOS - ELEVATOR APARTMENTS   21 OFFICE BUILDINGS\n",
              "TAX_CLASS_AT_PRESENT                                          2                     4\n",
              "BLOCK                                                       716                   812\n",
              "LOT                                                        1246                    68\n",
              "EASE-MENT                                                   NaN                   NaN\n",
              "BUILDING_CLASS_AT_PRESENT                                    R4                    O5\n",
              "ADDRESS                             447 WEST 18TH STREET, PH12A  144 WEST 37TH STREET\n",
              "APARTMENT_NUMBER                                          PH12A                   NaN\n",
              "ZIP_CODE                                                  10011                 10018\n",
              "RESIDENTIAL_UNITS                                             1                     0\n",
              "COMMERCIAL_UNITS                                              0                     6\n",
              "TOTAL_UNITS                                                   1                     6\n",
              "LAND_SQUARE_FEET                                         10,733                 2,962\n",
              "GROSS_SQUARE_FEET                                          1979                 15435\n",
              "YEAR_BUILT                                                 2007                  1920\n",
              "TAX_CLASS_AT_TIME_OF_SALE                                     2                     4\n",
              "BUILDING_CLASS_AT_TIME_OF_SALE                               R4                    O5\n",
              "SALE_PRICE                                                    0                     0\n",
              "SALE_DATE                                            01/01/2019            01/01/2019"
            ]
          },
          "metadata": {
            "tags": []
          },
          "execution_count": 30
        }
      ]
    },
    {
      "cell_type": "code",
      "metadata": {
        "id": "m8YL5Aia9qGl",
        "colab_type": "code",
        "colab": {
          "base_uri": "https://localhost:8080/",
          "height": 217
        },
        "outputId": "4345047a-6422-451d-f84a-311fc1584148"
      },
      "source": [
        "df['SALE_PRICE'].value_counts()"
      ],
      "execution_count": 31,
      "outputs": [
        {
          "output_type": "execute_result",
          "data": {
            "text/plain": [
              "0          6909\n",
              "10          199\n",
              "800000      125\n",
              "750000      121\n",
              "650000      120\n",
              "           ... \n",
              "5236177       1\n",
              "229000        1\n",
              "397218        1\n",
              "4112000       1\n",
              "1751425       1\n",
              "Name: SALE_PRICE, Length: 3831, dtype: int64"
            ]
          },
          "metadata": {
            "tags": []
          },
          "execution_count": 31
        }
      ]
    },
    {
      "cell_type": "code",
      "metadata": {
        "id": "YQrKAdSh7VgS",
        "colab_type": "code",
        "colab": {
          "base_uri": "https://localhost:8080/",
          "height": 33
        },
        "outputId": "b8f26153-9063-439e-bc68-81fc6e9b6760"
      },
      "source": [
        "# Creating the subset of the dataFrame to have only single family dwellings\n",
        "df = df[df[\"BUILDING_CLASS_CATEGORY\"] == \"01 ONE FAMILY DWELLINGS\"]\n",
        "df.shape"
      ],
      "execution_count": 32,
      "outputs": [
        {
          "output_type": "execute_result",
          "data": {
            "text/plain": [
              "(5061, 21)"
            ]
          },
          "metadata": {
            "tags": []
          },
          "execution_count": 32
        }
      ]
    },
    {
      "cell_type": "code",
      "metadata": {
        "id": "uezfVITB8_1V",
        "colab_type": "code",
        "colab": {
          "base_uri": "https://localhost:8080/",
          "height": 33
        },
        "outputId": "2f47b6f2-f867-4401-a2d2-1a687ba10e9e"
      },
      "source": [
        "# Filtering to just the sale prices to a \n",
        "# sale price that was more than 100 thousand and less than 2 million.\n",
        "df = df[(df['SALE_PRICE'] > 100000) & (df['SALE_PRICE'] < 2000000) ]\n",
        "df.shape"
      ],
      "execution_count": 33,
      "outputs": [
        {
          "output_type": "execute_result",
          "data": {
            "text/plain": [
              "(3151, 21)"
            ]
          },
          "metadata": {
            "tags": []
          },
          "execution_count": 33
        }
      ]
    },
    {
      "cell_type": "code",
      "metadata": {
        "id": "N9sWpLn-8rjk",
        "colab_type": "code",
        "colab": {
          "base_uri": "https://localhost:8080/",
          "height": 233
        },
        "outputId": "a5d635b4-f530-454d-a726-a59a0209e92d"
      },
      "source": [
        "# Do train/test split. Use data from January — March 2019 to train. \n",
        "# Use data from April 2019 to test.\n",
        "\n",
        "# First will check to see if the sale_date is in DateTime format\n",
        "print(df['SALE_DATE'].dtype)\n",
        "df['SALE_DATE'].value_counts()"
      ],
      "execution_count": 38,
      "outputs": [
        {
          "output_type": "stream",
          "text": [
            "datetime64[ns]\n"
          ],
          "name": "stdout"
        },
        {
          "output_type": "execute_result",
          "data": {
            "text/plain": [
              "2019-01-31    78\n",
              "2019-03-29    62\n",
              "2019-02-28    58\n",
              "2019-01-15    57\n",
              "2019-01-24    56\n",
              "              ..\n",
              "2019-03-17     1\n",
              "2019-03-30     1\n",
              "2019-03-09     1\n",
              "2019-02-17     1\n",
              "2019-04-14     1\n",
              "Name: SALE_DATE, Length: 91, dtype: int64"
            ]
          },
          "metadata": {
            "tags": []
          },
          "execution_count": 38
        }
      ]
    },
    {
      "cell_type": "code",
      "metadata": {
        "id": "bxRTdyPGA1hI",
        "colab_type": "code",
        "colab": {
          "base_uri": "https://localhost:8080/",
          "height": 233
        },
        "outputId": "4b021374-363c-492b-b540-916051d61b46"
      },
      "source": [
        "# Will change sale date to datetime format\n",
        "df['SALE_DATE'] = pd.to_datetime(df['SALE_DATE'], infer_datetime_format=True)\n",
        "myCutOff = pd.to_datetime('2019-03-31')\n",
        "train = df[df['SALE_DATE'] <= myCutOff]\n",
        "test = df[df['SALE_DATE'] > myCutOff]\n",
        "print(train.shape, test.shape)\n",
        "train['SALE_DATE'].value_counts()"
      ],
      "execution_count": 44,
      "outputs": [
        {
          "output_type": "stream",
          "text": [
            "(2507, 21) (644, 21)\n"
          ],
          "name": "stdout"
        },
        {
          "output_type": "execute_result",
          "data": {
            "text/plain": [
              "2019-01-31    78\n",
              "2019-03-29    62\n",
              "2019-02-28    58\n",
              "2019-01-15    57\n",
              "2019-01-24    56\n",
              "              ..\n",
              "2019-01-01     2\n",
              "2019-03-30     1\n",
              "2019-03-17     1\n",
              "2019-03-09     1\n",
              "2019-02-17     1\n",
              "Name: SALE_DATE, Length: 68, dtype: int64"
            ]
          },
          "metadata": {
            "tags": []
          },
          "execution_count": 44
        }
      ]
    },
    {
      "cell_type": "code",
      "metadata": {
        "id": "G_lO97GVCEdC",
        "colab_type": "code",
        "colab": {
          "base_uri": "https://localhost:8080/",
          "height": 340
        },
        "outputId": "5dfd2333-967b-4592-e617-4b0b4be6db3d"
      },
      "source": [
        "# Looking to see what to do the one hot coding on\n",
        "train.describe(exclude=np.number).T"
      ],
      "execution_count": 48,
      "outputs": [
        {
          "output_type": "execute_result",
          "data": {
            "text/html": [
              "<div>\n",
              "<style scoped>\n",
              "    .dataframe tbody tr th:only-of-type {\n",
              "        vertical-align: middle;\n",
              "    }\n",
              "\n",
              "    .dataframe tbody tr th {\n",
              "        vertical-align: top;\n",
              "    }\n",
              "\n",
              "    .dataframe thead th {\n",
              "        text-align: right;\n",
              "    }\n",
              "</style>\n",
              "<table border=\"1\" class=\"dataframe\">\n",
              "  <thead>\n",
              "    <tr style=\"text-align: right;\">\n",
              "      <th></th>\n",
              "      <th>count</th>\n",
              "      <th>unique</th>\n",
              "      <th>top</th>\n",
              "      <th>freq</th>\n",
              "      <th>first</th>\n",
              "      <th>last</th>\n",
              "    </tr>\n",
              "  </thead>\n",
              "  <tbody>\n",
              "    <tr>\n",
              "      <th>BOROUGH</th>\n",
              "      <td>2507</td>\n",
              "      <td>5</td>\n",
              "      <td>4</td>\n",
              "      <td>1204</td>\n",
              "      <td>NaT</td>\n",
              "      <td>NaT</td>\n",
              "    </tr>\n",
              "    <tr>\n",
              "      <th>NEIGHBORHOOD</th>\n",
              "      <td>2507</td>\n",
              "      <td>6</td>\n",
              "      <td>OTHER</td>\n",
              "      <td>2382</td>\n",
              "      <td>NaT</td>\n",
              "      <td>NaT</td>\n",
              "    </tr>\n",
              "    <tr>\n",
              "      <th>BUILDING_CLASS_CATEGORY</th>\n",
              "      <td>2507</td>\n",
              "      <td>1</td>\n",
              "      <td>01 ONE FAMILY DWELLINGS</td>\n",
              "      <td>2507</td>\n",
              "      <td>NaT</td>\n",
              "      <td>NaT</td>\n",
              "    </tr>\n",
              "    <tr>\n",
              "      <th>TAX_CLASS_AT_PRESENT</th>\n",
              "      <td>2507</td>\n",
              "      <td>2</td>\n",
              "      <td>1</td>\n",
              "      <td>2476</td>\n",
              "      <td>NaT</td>\n",
              "      <td>NaT</td>\n",
              "    </tr>\n",
              "    <tr>\n",
              "      <th>BUILDING_CLASS_AT_PRESENT</th>\n",
              "      <td>2507</td>\n",
              "      <td>13</td>\n",
              "      <td>A1</td>\n",
              "      <td>919</td>\n",
              "      <td>NaT</td>\n",
              "      <td>NaT</td>\n",
              "    </tr>\n",
              "    <tr>\n",
              "      <th>ADDRESS</th>\n",
              "      <td>2507</td>\n",
              "      <td>2497</td>\n",
              "      <td>33 BAILEY PLACE</td>\n",
              "      <td>2</td>\n",
              "      <td>NaT</td>\n",
              "      <td>NaT</td>\n",
              "    </tr>\n",
              "    <tr>\n",
              "      <th>APARTMENT_NUMBER</th>\n",
              "      <td>1</td>\n",
              "      <td>1</td>\n",
              "      <td>RP.</td>\n",
              "      <td>1</td>\n",
              "      <td>NaT</td>\n",
              "      <td>NaT</td>\n",
              "    </tr>\n",
              "    <tr>\n",
              "      <th>LAND_SQUARE_FEET</th>\n",
              "      <td>2507</td>\n",
              "      <td>887</td>\n",
              "      <td>4,000</td>\n",
              "      <td>234</td>\n",
              "      <td>NaT</td>\n",
              "      <td>NaT</td>\n",
              "    </tr>\n",
              "    <tr>\n",
              "      <th>BUILDING_CLASS_AT_TIME_OF_SALE</th>\n",
              "      <td>2507</td>\n",
              "      <td>11</td>\n",
              "      <td>A1</td>\n",
              "      <td>919</td>\n",
              "      <td>NaT</td>\n",
              "      <td>NaT</td>\n",
              "    </tr>\n",
              "    <tr>\n",
              "      <th>SALE_DATE</th>\n",
              "      <td>2507</td>\n",
              "      <td>68</td>\n",
              "      <td>2019-01-31 00:00:00</td>\n",
              "      <td>78</td>\n",
              "      <td>2019-01-01</td>\n",
              "      <td>2019-03-30</td>\n",
              "    </tr>\n",
              "  </tbody>\n",
              "</table>\n",
              "</div>"
            ],
            "text/plain": [
              "                               count unique  ...      first       last\n",
              "BOROUGH                         2507      5  ...        NaT        NaT\n",
              "NEIGHBORHOOD                    2507      6  ...        NaT        NaT\n",
              "BUILDING_CLASS_CATEGORY         2507      1  ...        NaT        NaT\n",
              "TAX_CLASS_AT_PRESENT            2507      2  ...        NaT        NaT\n",
              "BUILDING_CLASS_AT_PRESENT       2507     13  ...        NaT        NaT\n",
              "ADDRESS                         2507   2497  ...        NaT        NaT\n",
              "APARTMENT_NUMBER                   1      1  ...        NaT        NaT\n",
              "LAND_SQUARE_FEET                2507    887  ...        NaT        NaT\n",
              "BUILDING_CLASS_AT_TIME_OF_SALE  2507     11  ...        NaT        NaT\n",
              "SALE_DATE                       2507     68  ... 2019-01-01 2019-03-30\n",
              "\n",
              "[10 rows x 6 columns]"
            ]
          },
          "metadata": {
            "tags": []
          },
          "execution_count": 48
        }
      ]
    },
    {
      "cell_type": "code",
      "metadata": {
        "id": "KBtqfuHlE4oV",
        "colab_type": "code",
        "colab": {
          "base_uri": "https://localhost:8080/",
          "height": 117
        },
        "outputId": "78cf692a-d469-475a-fa84-edfa66e379bf"
      },
      "source": [
        "train['BOROUGH'].value_counts(dropna=False)"
      ],
      "execution_count": 49,
      "outputs": [
        {
          "output_type": "execute_result",
          "data": {
            "text/plain": [
              "4    1204\n",
              "5     662\n",
              "3     398\n",
              "2     242\n",
              "1       1\n",
              "Name: BOROUGH, dtype: int64"
            ]
          },
          "metadata": {
            "tags": []
          },
          "execution_count": 49
        }
      ]
    },
    {
      "cell_type": "code",
      "metadata": {
        "id": "RschDF10Gmiy",
        "colab_type": "code",
        "colab": {}
      },
      "source": [
        ""
      ],
      "execution_count": 0,
      "outputs": []
    }
  ]
}