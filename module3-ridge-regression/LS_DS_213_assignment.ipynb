{
 "cells": [
  {
   "cell_type": "markdown",
   "metadata": {},
   "source": [
    "Lambda School Data Science\n",
    "\n",
    "*Unit 2, Sprint 1, Module 3*\n",
    "\n",
    "---"
   ]
  },
  {
   "cell_type": "markdown",
   "metadata": {
    "colab_type": "text",
    "id": "7IXUfiQ2UKj6"
   },
   "source": [
    "# Ridge Regression\n",
    "\n",
    "## Assignment\n",
    "\n",
    "We're going back to our other **New York City** real estate dataset. Instead of predicting apartment rents, you'll predict property sales prices.\n",
    "\n",
    "But not just for condos in Tribeca...\n",
    "\n",
    "- [x] Use a subset of the data where `BUILDING_CLASS_CATEGORY` == `'01 ONE FAMILY DWELLINGS'` and the sale price was more than 100 thousand and less than 2 million.\n",
    "- [x] Do train/test split. Use data from January — March 2019 to train. Use data from April 2019 to test.\n",
    "- [x] Do one-hot encoding of categorical features.\n",
    "- [] Do feature selection with `SelectKBest`.\n",
    "- [ ] Fit a ridge regression model with multiple features. Use the `normalize=True` parameter (or do [feature scaling](https://scikit-learn.org/stable/modules/preprocessing.html) beforehand — use the scaler's `fit_transform` method with the train set, and the scaler's `transform` method with the test set)\n",
    "- [ ] Get mean absolute error for the test set.\n",
    "- [ ] As always, commit your notebook to your fork of the GitHub repo.\n",
    "\n",
    "The [NYC Department of Finance](https://www1.nyc.gov/site/finance/taxes/property-rolling-sales-data.page) has a glossary of property sales terms and NYC Building Class Code Descriptions. The data comes from the [NYC OpenData](https://data.cityofnewyork.us/browse?q=NYC%20calendar%20sales) portal.\n",
    "\n",
    "\n",
    "## Stretch Goals\n",
    "\n",
    "Don't worry, you aren't expected to do all these stretch goals! These are just ideas to consider and choose from.\n",
    "\n",
    "- [ ] Add your own stretch goal(s) !\n",
    "- [ ] Instead of `Ridge`, try `LinearRegression`. Depending on how many features you select, your errors will probably blow up! 💥\n",
    "- [ ] Instead of `Ridge`, try [`RidgeCV`](https://scikit-learn.org/stable/modules/generated/sklearn.linear_model.RidgeCV.html).\n",
    "- [ ] Learn more about feature selection:\n",
    "    - [\"Permutation importance\"](https://www.kaggle.com/dansbecker/permutation-importance)\n",
    "    - [scikit-learn's User Guide for Feature Selection](https://scikit-learn.org/stable/modules/feature_selection.html)\n",
    "    - [mlxtend](http://rasbt.github.io/mlxtend/) library\n",
    "    - scikit-learn-contrib libraries: [boruta_py](https://github.com/scikit-learn-contrib/boruta_py) & [stability-selection](https://github.com/scikit-learn-contrib/stability-selection)\n",
    "    - [_Feature Engineering and Selection_](http://www.feat.engineering/) by Kuhn & Johnson.\n",
    "- [ ] Try [statsmodels](https://www.statsmodels.org/stable/index.html) if you’re interested in more inferential statistical approach to linear regression and feature selection, looking at p values and 95% confidence intervals for the coefficients.\n",
    "- [ ] Read [_An Introduction to Statistical Learning_](http://faculty.marshall.usc.edu/gareth-james/ISL/ISLR%20Seventh%20Printing.pdf), Chapters 1-3, for more math & theory, but in an accessible, readable way.\n",
    "- [ ] Try [scikit-learn pipelines](https://scikit-learn.org/stable/modules/compose.html)."
   ]
  },
  {
   "cell_type": "code",
   "execution_count": 1,
   "metadata": {
    "colab": {},
    "colab_type": "code",
    "id": "o9eSnDYhUGD7"
   },
   "outputs": [],
   "source": [
    "%%capture\n",
    "import sys\n",
    "\n",
    "# If you're on Colab:\n",
    "if 'google.colab' in sys.modules:\n",
    "    DATA_PATH = 'https://raw.githubusercontent.com/LambdaSchool/DS-Unit-2-Applied-Modeling/master/data/'\n",
    "    !pip install category_encoders==2.*\n",
    "\n",
    "# If you're working locally:\n",
    "else:\n",
    "    DATA_PATH = '../data/'\n",
    "    \n",
    "# Ignore this Numpy warning when using Plotly Express:\n",
    "# FutureWarning: Method .ptp is deprecated and will be removed in a future version. Use numpy.ptp instead.\n",
    "import warnings\n",
    "warnings.filterwarnings(action='ignore', category=FutureWarning, module='numpy')"
   ]
  },
  {
   "cell_type": "code",
   "execution_count": 2,
   "metadata": {
    "colab": {},
    "colab_type": "code",
    "id": "QJBD4ruICm1m"
   },
   "outputs": [],
   "source": [
    "import pandas as pd\n",
    "import pandas_profiling\n",
    "\n",
    "# Read New York City property sales data\n",
    "df = pd.read_csv(DATA_PATH+'condos/NYC_Citywide_Rolling_Calendar_Sales.csv')\n",
    "\n",
    "# Change column names: replace spaces with underscores\n",
    "df.columns = [col.replace(' ', '_') for col in df]\n",
    "\n",
    "# SALE_PRICE was read as strings.\n",
    "# Remove symbols, convert to integer\n",
    "df['SALE_PRICE'] = (\n",
    "    df['SALE_PRICE']\n",
    "    .str.replace('$','')\n",
    "    .str.replace('-','')\n",
    "    .str.replace(',','')\n",
    "    .astype(int)\n",
    ")"
   ]
  },
  {
   "cell_type": "code",
   "execution_count": 3,
   "metadata": {},
   "outputs": [],
   "source": [
    "# BOROUGH is a numeric column, but arguably should be a categorical feature,\n",
    "# so convert it from a number to a string\n",
    "df['BOROUGH'] = df['BOROUGH'].astype(str)"
   ]
  },
  {
   "cell_type": "code",
   "execution_count": 4,
   "metadata": {},
   "outputs": [],
   "source": [
    "# Reduce cardinality for NEIGHBORHOOD feature\n",
    "\n",
    "# Get a list of the top 10 neighborhoods\n",
    "top10 = df['NEIGHBORHOOD'].value_counts()[:10].index\n",
    "\n",
    "# At locations where the neighborhood is NOT in the top 10, \n",
    "# replace the neighborhood with 'OTHER'\n",
    "df.loc[~df['NEIGHBORHOOD'].isin(top10), 'NEIGHBORHOOD'] = 'OTHER'"
   ]
  },
  {
   "cell_type": "code",
   "execution_count": 199,
   "metadata": {},
   "outputs": [],
   "source": [
    "# Use a subset of the data with one family dwellings\n",
    "\n",
    "# Condition \n",
    "condition = (\n",
    "    (df['BUILDING_CLASS_CATEGORY'] == '01 ONE FAMILY DWELLINGS') &\n",
    "    (df['SALE_PRICE'] > 100000) &\n",
    "    (df['SALE_PRICE'] < 2000000)\n",
    ")\n",
    "\n",
    "# One family dwelling subset\n",
    "ofd = df[condition].copy()"
   ]
  },
  {
   "cell_type": "code",
   "execution_count": 200,
   "metadata": {},
   "outputs": [],
   "source": [
    "# Convert date column to datetime\n",
    "ofd['SALE_DATE'] = pd.to_datetime(ofd['SALE_DATE'])\n",
    "\n"
   ]
  },
  {
   "cell_type": "code",
   "execution_count": 201,
   "metadata": {},
   "outputs": [],
   "source": [
    "# Convert year to int64\n",
    "ofd['YEAR_BUILT'] = ofd['YEAR_BUILT'].astype(int)"
   ]
  },
  {
   "cell_type": "code",
   "execution_count": 202,
   "metadata": {},
   "outputs": [],
   "source": [
    "ofd['LAND_SQUARE_FEET'] = pd.to_numeric(ofd['LAND_SQUARE_FEET'].str.replace(',', ''))"
   ]
  },
  {
   "cell_type": "code",
   "execution_count": 203,
   "metadata": {},
   "outputs": [],
   "source": [
    "# Convert zip codes to strings\n",
    "ofd['ZIP_CODE'] = (\n",
    "    ofd['ZIP_CODE']\n",
    "    .astype(int)\n",
    "    .astype(str)\n",
    ")"
   ]
  },
  {
   "cell_type": "code",
   "execution_count": 204,
   "metadata": {},
   "outputs": [],
   "source": [
    "# Drop some problematic columns\n",
    "ofd = ofd.drop(['EASE-MENT', 'APARTMENT_NUMBER',\n",
    "                    'TAX_CLASS_AT_TIME_OF_SALE'], axis=1)"
   ]
  },
  {
   "cell_type": "code",
   "execution_count": 205,
   "metadata": {},
   "outputs": [],
   "source": [
    "# Do train/test split\n",
    "train = ofd[ofd['SALE_DATE'].dt.month < 4]\n",
    "test = ofd[ofd['SALE_DATE'].dt.month == 4]"
   ]
  },
  {
   "cell_type": "code",
   "execution_count": 206,
   "metadata": {},
   "outputs": [
    {
     "data": {
      "text/html": [
       "<div>\n",
       "<style scoped>\n",
       "    .dataframe tbody tr th:only-of-type {\n",
       "        vertical-align: middle;\n",
       "    }\n",
       "\n",
       "    .dataframe tbody tr th {\n",
       "        vertical-align: top;\n",
       "    }\n",
       "\n",
       "    .dataframe thead th {\n",
       "        text-align: right;\n",
       "    }\n",
       "</style>\n",
       "<table border=\"1\" class=\"dataframe\">\n",
       "  <thead>\n",
       "    <tr style=\"text-align: right;\">\n",
       "      <th></th>\n",
       "      <th>count</th>\n",
       "      <th>unique</th>\n",
       "      <th>top</th>\n",
       "      <th>freq</th>\n",
       "      <th>first</th>\n",
       "      <th>last</th>\n",
       "    </tr>\n",
       "  </thead>\n",
       "  <tbody>\n",
       "    <tr>\n",
       "      <td>ADDRESS</td>\n",
       "      <td>2507</td>\n",
       "      <td>2497</td>\n",
       "      <td>130-52 LEFFERTS BOULEVARD</td>\n",
       "      <td>2</td>\n",
       "      <td>NaT</td>\n",
       "      <td>NaT</td>\n",
       "    </tr>\n",
       "    <tr>\n",
       "      <td>ZIP_CODE</td>\n",
       "      <td>2507</td>\n",
       "      <td>122</td>\n",
       "      <td>10312</td>\n",
       "      <td>115</td>\n",
       "      <td>NaT</td>\n",
       "      <td>NaT</td>\n",
       "    </tr>\n",
       "    <tr>\n",
       "      <td>SALE_DATE</td>\n",
       "      <td>2507</td>\n",
       "      <td>68</td>\n",
       "      <td>2019-01-31 00:00:00</td>\n",
       "      <td>78</td>\n",
       "      <td>2019-01-01</td>\n",
       "      <td>2019-03-30</td>\n",
       "    </tr>\n",
       "    <tr>\n",
       "      <td>BUILDING_CLASS_AT_PRESENT</td>\n",
       "      <td>2507</td>\n",
       "      <td>13</td>\n",
       "      <td>A1</td>\n",
       "      <td>919</td>\n",
       "      <td>NaT</td>\n",
       "      <td>NaT</td>\n",
       "    </tr>\n",
       "    <tr>\n",
       "      <td>BUILDING_CLASS_AT_TIME_OF_SALE</td>\n",
       "      <td>2507</td>\n",
       "      <td>11</td>\n",
       "      <td>A1</td>\n",
       "      <td>919</td>\n",
       "      <td>NaT</td>\n",
       "      <td>NaT</td>\n",
       "    </tr>\n",
       "    <tr>\n",
       "      <td>NEIGHBORHOOD</td>\n",
       "      <td>2507</td>\n",
       "      <td>7</td>\n",
       "      <td>OTHER</td>\n",
       "      <td>2360</td>\n",
       "      <td>NaT</td>\n",
       "      <td>NaT</td>\n",
       "    </tr>\n",
       "    <tr>\n",
       "      <td>BOROUGH</td>\n",
       "      <td>2507</td>\n",
       "      <td>5</td>\n",
       "      <td>4</td>\n",
       "      <td>1204</td>\n",
       "      <td>NaT</td>\n",
       "      <td>NaT</td>\n",
       "    </tr>\n",
       "    <tr>\n",
       "      <td>TAX_CLASS_AT_PRESENT</td>\n",
       "      <td>2507</td>\n",
       "      <td>2</td>\n",
       "      <td>1</td>\n",
       "      <td>2476</td>\n",
       "      <td>NaT</td>\n",
       "      <td>NaT</td>\n",
       "    </tr>\n",
       "    <tr>\n",
       "      <td>BUILDING_CLASS_CATEGORY</td>\n",
       "      <td>2507</td>\n",
       "      <td>1</td>\n",
       "      <td>01 ONE FAMILY DWELLINGS</td>\n",
       "      <td>2507</td>\n",
       "      <td>NaT</td>\n",
       "      <td>NaT</td>\n",
       "    </tr>\n",
       "  </tbody>\n",
       "</table>\n",
       "</div>"
      ],
      "text/plain": [
       "                               count unique                        top  freq  \\\n",
       "ADDRESS                         2507   2497  130-52 LEFFERTS BOULEVARD     2   \n",
       "ZIP_CODE                        2507    122                      10312   115   \n",
       "SALE_DATE                       2507     68        2019-01-31 00:00:00    78   \n",
       "BUILDING_CLASS_AT_PRESENT       2507     13                         A1   919   \n",
       "BUILDING_CLASS_AT_TIME_OF_SALE  2507     11                         A1   919   \n",
       "NEIGHBORHOOD                    2507      7                      OTHER  2360   \n",
       "BOROUGH                         2507      5                          4  1204   \n",
       "TAX_CLASS_AT_PRESENT            2507      2                          1  2476   \n",
       "BUILDING_CLASS_CATEGORY         2507      1    01 ONE FAMILY DWELLINGS  2507   \n",
       "\n",
       "                                    first       last  \n",
       "ADDRESS                               NaT        NaT  \n",
       "ZIP_CODE                              NaT        NaT  \n",
       "SALE_DATE                      2019-01-01 2019-03-30  \n",
       "BUILDING_CLASS_AT_PRESENT             NaT        NaT  \n",
       "BUILDING_CLASS_AT_TIME_OF_SALE        NaT        NaT  \n",
       "NEIGHBORHOOD                          NaT        NaT  \n",
       "BOROUGH                               NaT        NaT  \n",
       "TAX_CLASS_AT_PRESENT                  NaT        NaT  \n",
       "BUILDING_CLASS_CATEGORY               NaT        NaT  "
      ]
     },
     "execution_count": 206,
     "metadata": {},
     "output_type": "execute_result"
    }
   ],
   "source": [
    "# High cardinality categorical values to exclude\n",
    "train.describe(exclude='number').T.sort_values(by='unique', ascending=False)"
   ]
  },
  {
   "cell_type": "code",
   "execution_count": 288,
   "metadata": {},
   "outputs": [],
   "source": [
    "# Do one-hot encoding of categorical features\n",
    "\n",
    "\n",
    "# Exclude high cardinality or unhelpful\n",
    "# categorical variables from features\n",
    "target = 'SALE_PRICE'\n",
    "high_card = ['ADDRESS', \n",
    "             'SALE_DATE', \n",
    "             'BUILDING_CLASS_CATEGORY','TAX_CLASS_AT_PRESENT',\n",
    "            'YEAR_BUILT', 'BUILDING_CLASS_AT_TIME_OF_SALE', \n",
    "            'RESIDENTIAL_UNITS', 'COMMERCIAL_UNITS','BUILDING_CLASS_AT_PRESENT']\n",
    "features = train.columns.drop([target] + high_card)"
   ]
  },
  {
   "cell_type": "code",
   "execution_count": 289,
   "metadata": {},
   "outputs": [
    {
     "name": "stdout",
     "output_type": "stream",
     "text": [
      "Index(['BOROUGH', 'NEIGHBORHOOD', 'BLOCK', 'LOT', 'ZIP_CODE', 'TOTAL_UNITS',\n",
      "       'LAND_SQUARE_FEET', 'GROSS_SQUARE_FEET'],\n",
      "      dtype='object')\n",
      "8\n"
     ]
    }
   ],
   "source": [
    "print(features)\n",
    "print(len(features))"
   ]
  },
  {
   "cell_type": "code",
   "execution_count": 290,
   "metadata": {},
   "outputs": [],
   "source": [
    "# Define feature matrices and target vectors\n",
    "X_train = train[features]\n",
    "y_train = train[target]\n",
    "X_test = test[features]\n",
    "y_test = test[target]"
   ]
  },
  {
   "cell_type": "code",
   "execution_count": 291,
   "metadata": {},
   "outputs": [
    {
     "data": {
      "text/plain": [
       "(2507, 8)"
      ]
     },
     "execution_count": 291,
     "metadata": {},
     "output_type": "execute_result"
    }
   ],
   "source": [
    "# Shape before encoding\n",
    "X_train.shape"
   ]
  },
  {
   "cell_type": "code",
   "execution_count": 292,
   "metadata": {},
   "outputs": [],
   "source": [
    "# Perform one-hot encoding\n",
    "import category_encoders as ce\n",
    "encoder = ce.OneHotEncoder(use_cat_names=True)\n",
    "X_train = encoder.fit_transform(X_train)\n",
    "X_test = encoder.transform(X_test)"
   ]
  },
  {
   "cell_type": "code",
   "execution_count": 293,
   "metadata": {},
   "outputs": [
    {
     "name": "stdout",
     "output_type": "stream",
     "text": [
      "(2507, 139)\n",
      "(644, 139)\n"
     ]
    }
   ],
   "source": [
    "# Now there are more columns in X_train and X_test\n",
    "print(X_train.shape)\n",
    "print(X_test.shape)"
   ]
  },
  {
   "cell_type": "code",
   "execution_count": 294,
   "metadata": {},
   "outputs": [
    {
     "name": "stdout",
     "output_type": "stream",
     "text": [
      "Lowest Ridge Regression Error:\n",
      "\tMAE: $135,898.62\n",
      "\tALPHA: 0.1\n",
      "\tK: 139 of 139\n",
      "Highest Ridge Regression Error:\n",
      "\tMAE: $211,517.35\n",
      "\tALPHA: 1000.0\n",
      "\tK: 1 of 139\n"
     ]
    }
   ],
   "source": [
    "# Find best k and use it to find best MAE with ridge regression\n",
    "from sklearn.feature_selection import SelectKBest, f_regression\n",
    "from sklearn.linear_model import Ridge\n",
    "from sklearn.metrics import mean_absolute_error\n",
    "\n",
    "highest_mae = None\n",
    "alpha_used_for_highest_mae = None\n",
    "k_used_for_highest_mae = None\n",
    "lowest_mae = None\n",
    "best_alpha = None\n",
    "k_used = None\n",
    "\n",
    "for k in range(1, (X_train.shape[1]+1)):\n",
    "    selector = SelectKBest(score_func=f_regression, k=k)\n",
    "    X_train_select = selector.fit_transform(X_train, y_train)\n",
    "    X_test_select = selector.transform(X_test)\n",
    "    \n",
    "    for alpha in [0.001, 0.01, 0.1, 1.0, 1, 100.0, 1000.0]:\n",
    "        model = Ridge(alpha=alpha, normalize=True)\n",
    "        model.fit(X_train_select, y_train)\n",
    "        y_pred = model.predict(X_test_select)\n",
    "        mae = mean_absolute_error(y_test, y_pred)\n",
    "               \n",
    "        if k == 1:\n",
    "            lowest_mae = mae\n",
    "            highest_mae = mae\n",
    "            alpha_used_for_highest_mae = alpha\n",
    "            k_used_for_highest_mae = k\n",
    "        else:\n",
    "            if mae < lowest_mae:\n",
    "                lowest_mae = mae\n",
    "                best_alpha = alpha\n",
    "                k_used = k\n",
    "            if mae > highest_mae:\n",
    "                highest_mae = mae\n",
    "                alpha_used_for_highest_mae = alpha\n",
    "                k_used_for_highest_mae = k\n",
    "#         print(\"K: \", k)\n",
    "#         print(mae)\n",
    "#         print(alpha)\n",
    "    \n",
    "               \n",
    "print(\"Lowest Ridge Regression Error:\")\n",
    "print(f\"\\tMAE: ${lowest_mae:,.2f}\\n\\tALPHA: \"\\\n",
    "      f\"{best_alpha}\\n\\tK: {k} of {X_train.shape[1]}\")\n",
    "print(\"Highest Ridge Regression Error:\")\n",
    "print(f\"\\tMAE: ${highest_mae:,.2f}\\n\\tALPHA: \"\\\n",
    "      f\"{alpha_used_for_highest_mae}\\n\\tK: {k_used_for_highest_mae} of {X_train.shape[1]}\")"
   ]
  }
 ],
 "metadata": {
  "kernelspec": {
   "display_name": "Python 3",
   "language": "python",
   "name": "python3"
  },
  "language_info": {
   "codemirror_mode": {
    "name": "ipython",
    "version": 3
   },
   "file_extension": ".py",
   "mimetype": "text/x-python",
   "name": "python",
   "nbconvert_exporter": "python",
   "pygments_lexer": "ipython3",
   "version": "3.7.4"
  }
 },
 "nbformat": 4,
 "nbformat_minor": 1
}
