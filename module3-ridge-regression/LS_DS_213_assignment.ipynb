{
  "nbformat": 4,
  "nbformat_minor": 0,
  "metadata": {
    "kernelspec": {
      "display_name": "Python 3",
      "language": "python",
      "name": "python3"
    },
    "language_info": {
      "codemirror_mode": {
        "name": "ipython",
        "version": 3
      },
      "file_extension": ".py",
      "mimetype": "text/x-python",
      "name": "python",
      "nbconvert_exporter": "python",
      "pygments_lexer": "ipython3",
      "version": "3.7.3"
    },
    "colab": {
      "name": "Copy of LS_DS_213_assignment.ipynb",
      "provenance": [],
      "collapsed_sections": [],
      "include_colab_link": true
    }
  },
  "cells": [
    {
      "cell_type": "markdown",
      "metadata": {
        "id": "view-in-github",
        "colab_type": "text"
      },
      "source": [
        "<a href=\"https://colab.research.google.com/github/karencfisher/DS-Unit-2-Linear-Models/blob/master/module3-ridge-regression/LS_DS_213_assignment.ipynb\" target=\"_parent\"><img src=\"https://colab.research.google.com/assets/colab-badge.svg\" alt=\"Open In Colab\"/></a>"
      ]
    },
    {
      "cell_type": "markdown",
      "metadata": {
        "id": "wMuFlaiWTM2l",
        "colab_type": "text"
      },
      "source": [
        "Lambda School Data Science\n",
        "\n",
        "*Unit 2, Sprint 1, Module 3*\n",
        "\n",
        "---"
      ]
    },
    {
      "cell_type": "markdown",
      "metadata": {
        "colab_type": "text",
        "id": "7IXUfiQ2UKj6"
      },
      "source": [
        "# Ridge Regression\n",
        "\n",
        "## Assignment\n",
        "\n",
        "We're going back to our other **New York City** real estate dataset. Instead of predicting apartment rents, you'll predict property sales prices.\n",
        "\n",
        "But not just for condos in Tribeca...\n",
        "\n",
        "- [ ] Use a subset of the data where `BUILDING_CLASS_CATEGORY` == `'01 ONE FAMILY DWELLINGS'` and the sale price was more than 100 thousand and less than 2 million.\n",
        "- [ ] Do train/test split. Use data from January — March 2019 to train. Use data from April 2019 to test.\n",
        "- [ ] Do one-hot encoding of categorical features.\n",
        "- [ ] Do feature selection with `SelectKBest`.\n",
        "- [ ] Fit a ridge regression model with multiple features. Use the `normalize=True` parameter (or do [feature scaling](https://scikit-learn.org/stable/modules/preprocessing.html) beforehand — use the scaler's `fit_transform` method with the train set, and the scaler's `transform` method with the test set)\n",
        "- [ ] Get mean absolute error for the test set.\n",
        "- [ ] As always, commit your notebook to your fork of the GitHub repo.\n",
        "\n",
        "The [NYC Department of Finance](https://www1.nyc.gov/site/finance/taxes/property-rolling-sales-data.page) has a glossary of property sales terms and NYC Building Class Code Descriptions. The data comes from the [NYC OpenData](https://data.cityofnewyork.us/browse?q=NYC%20calendar%20sales) portal.\n",
        "\n",
        "\n",
        "## Stretch Goals\n",
        "\n",
        "Don't worry, you aren't expected to do all these stretch goals! These are just ideas to consider and choose from.\n",
        "\n",
        "- [ ] Add your own stretch goal(s) !\n",
        "- [ ] Instead of `Ridge`, try `LinearRegression`. Depending on how many features you select, your errors will probably blow up! 💥\n",
        "- [ ] Instead of `Ridge`, try [`RidgeCV`](https://scikit-learn.org/stable/modules/generated/sklearn.linear_model.RidgeCV.html).\n",
        "- [ ] Learn more about feature selection:\n",
        "    - [\"Permutation importance\"](https://www.kaggle.com/dansbecker/permutation-importance)\n",
        "    - [scikit-learn's User Guide for Feature Selection](https://scikit-learn.org/stable/modules/feature_selection.html)\n",
        "    - [mlxtend](http://rasbt.github.io/mlxtend/) library\n",
        "    - scikit-learn-contrib libraries: [boruta_py](https://github.com/scikit-learn-contrib/boruta_py) & [stability-selection](https://github.com/scikit-learn-contrib/stability-selection)\n",
        "    - [_Feature Engineering and Selection_](http://www.feat.engineering/) by Kuhn & Johnson.\n",
        "- [ ] Try [statsmodels](https://www.statsmodels.org/stable/index.html) if you’re interested in more inferential statistical approach to linear regression and feature selection, looking at p values and 95% confidence intervals for the coefficients.\n",
        "- [ ] Read [_An Introduction to Statistical Learning_](http://faculty.marshall.usc.edu/gareth-james/ISL/ISLR%20Seventh%20Printing.pdf), Chapters 1-3, for more math & theory, but in an accessible, readable way.\n",
        "- [ ] Try [scikit-learn pipelines](https://scikit-learn.org/stable/modules/compose.html)."
      ]
    },
    {
      "cell_type": "code",
      "metadata": {
        "colab_type": "code",
        "id": "o9eSnDYhUGD7",
        "colab": {}
      },
      "source": [
        "%%capture\n",
        "import sys\n",
        "\n",
        "# If you're on Colab:\n",
        "if 'google.colab' in sys.modules:\n",
        "    DATA_PATH = 'https://raw.githubusercontent.com/LambdaSchool/DS-Unit-2-Applied-Modeling/master/data/'\n",
        "    !pip install category_encoders==2.*\n",
        "\n",
        "# If you're working locally:\n",
        "else:\n",
        "    DATA_PATH = '../data/'\n",
        "    \n",
        "# Ignore this Numpy warning when using Plotly Express:\n",
        "# FutureWarning: Method .ptp is deprecated and will be removed in a future version. Use numpy.ptp instead.\n",
        "import warnings\n",
        "warnings.filterwarnings(action='ignore', category=FutureWarning, module='numpy')\n",
        "  \n",
        "warnings.filterwarnings('ignore')"
      ],
      "execution_count": 0,
      "outputs": []
    },
    {
      "cell_type": "code",
      "metadata": {
        "colab_type": "code",
        "id": "QJBD4ruICm1m",
        "colab": {}
      },
      "source": [
        "import pandas as pd\n",
        "import pandas_profiling\n",
        "\n",
        "# Read New York City property sales data\n",
        "df = pd.read_csv(DATA_PATH+'condos/NYC_Citywide_Rolling_Calendar_Sales.csv')\n",
        "\n",
        "# Change column names: replace spaces with underscores\n",
        "df.columns = [col.replace(' ', '_') for col in df]\n",
        "\n",
        "# SALE_PRICE was read as strings.\n",
        "# Remove symbols, convert to integer\n",
        "df['SALE_PRICE'] = (\n",
        "    df['SALE_PRICE']\n",
        "    .str.replace('$','')\n",
        "    .str.replace('-','')\n",
        "    .str.replace(',','')\n",
        "    .astype(int)\n",
        ")"
      ],
      "execution_count": 0,
      "outputs": []
    },
    {
      "cell_type": "markdown",
      "metadata": {
        "id": "s1-MM6aRLRda",
        "colab_type": "text"
      },
      "source": [
        "###Take a look at the data"
      ]
    },
    {
      "cell_type": "code",
      "metadata": {
        "id": "nyjEe0kcVCre",
        "colab_type": "code",
        "outputId": "c0fb51bd-2d41-499e-b945-aa95acef3056",
        "colab": {
          "base_uri": "https://localhost:8080/",
          "height": 445
        }
      },
      "source": [
        "df.head()"
      ],
      "execution_count": 3,
      "outputs": [
        {
          "output_type": "execute_result",
          "data": {
            "text/html": [
              "<div>\n",
              "<style scoped>\n",
              "    .dataframe tbody tr th:only-of-type {\n",
              "        vertical-align: middle;\n",
              "    }\n",
              "\n",
              "    .dataframe tbody tr th {\n",
              "        vertical-align: top;\n",
              "    }\n",
              "\n",
              "    .dataframe thead th {\n",
              "        text-align: right;\n",
              "    }\n",
              "</style>\n",
              "<table border=\"1\" class=\"dataframe\">\n",
              "  <thead>\n",
              "    <tr style=\"text-align: right;\">\n",
              "      <th></th>\n",
              "      <th>BOROUGH</th>\n",
              "      <th>NEIGHBORHOOD</th>\n",
              "      <th>BUILDING_CLASS_CATEGORY</th>\n",
              "      <th>TAX_CLASS_AT_PRESENT</th>\n",
              "      <th>BLOCK</th>\n",
              "      <th>LOT</th>\n",
              "      <th>EASE-MENT</th>\n",
              "      <th>BUILDING_CLASS_AT_PRESENT</th>\n",
              "      <th>ADDRESS</th>\n",
              "      <th>APARTMENT_NUMBER</th>\n",
              "      <th>ZIP_CODE</th>\n",
              "      <th>RESIDENTIAL_UNITS</th>\n",
              "      <th>COMMERCIAL_UNITS</th>\n",
              "      <th>TOTAL_UNITS</th>\n",
              "      <th>LAND_SQUARE_FEET</th>\n",
              "      <th>GROSS_SQUARE_FEET</th>\n",
              "      <th>YEAR_BUILT</th>\n",
              "      <th>TAX_CLASS_AT_TIME_OF_SALE</th>\n",
              "      <th>BUILDING_CLASS_AT_TIME_OF_SALE</th>\n",
              "      <th>SALE_PRICE</th>\n",
              "      <th>SALE_DATE</th>\n",
              "    </tr>\n",
              "  </thead>\n",
              "  <tbody>\n",
              "    <tr>\n",
              "      <th>0</th>\n",
              "      <td>1</td>\n",
              "      <td>CHELSEA</td>\n",
              "      <td>13 CONDOS - ELEVATOR APARTMENTS</td>\n",
              "      <td>2</td>\n",
              "      <td>716</td>\n",
              "      <td>1246</td>\n",
              "      <td>NaN</td>\n",
              "      <td>R4</td>\n",
              "      <td>447 WEST 18TH STREET, PH12A</td>\n",
              "      <td>PH12A</td>\n",
              "      <td>10011.0</td>\n",
              "      <td>1.0</td>\n",
              "      <td>0.0</td>\n",
              "      <td>1.0</td>\n",
              "      <td>10,733</td>\n",
              "      <td>1979.0</td>\n",
              "      <td>2007.0</td>\n",
              "      <td>2</td>\n",
              "      <td>R4</td>\n",
              "      <td>0</td>\n",
              "      <td>01/01/2019</td>\n",
              "    </tr>\n",
              "    <tr>\n",
              "      <th>1</th>\n",
              "      <td>1</td>\n",
              "      <td>FASHION</td>\n",
              "      <td>21 OFFICE BUILDINGS</td>\n",
              "      <td>4</td>\n",
              "      <td>812</td>\n",
              "      <td>68</td>\n",
              "      <td>NaN</td>\n",
              "      <td>O5</td>\n",
              "      <td>144 WEST 37TH STREET</td>\n",
              "      <td>NaN</td>\n",
              "      <td>10018.0</td>\n",
              "      <td>0.0</td>\n",
              "      <td>6.0</td>\n",
              "      <td>6.0</td>\n",
              "      <td>2,962</td>\n",
              "      <td>15435.0</td>\n",
              "      <td>1920.0</td>\n",
              "      <td>4</td>\n",
              "      <td>O5</td>\n",
              "      <td>0</td>\n",
              "      <td>01/01/2019</td>\n",
              "    </tr>\n",
              "    <tr>\n",
              "      <th>2</th>\n",
              "      <td>1</td>\n",
              "      <td>FASHION</td>\n",
              "      <td>21 OFFICE BUILDINGS</td>\n",
              "      <td>4</td>\n",
              "      <td>839</td>\n",
              "      <td>69</td>\n",
              "      <td>NaN</td>\n",
              "      <td>O5</td>\n",
              "      <td>40 WEST 38TH STREET</td>\n",
              "      <td>NaN</td>\n",
              "      <td>10018.0</td>\n",
              "      <td>0.0</td>\n",
              "      <td>7.0</td>\n",
              "      <td>7.0</td>\n",
              "      <td>2,074</td>\n",
              "      <td>11332.0</td>\n",
              "      <td>1930.0</td>\n",
              "      <td>4</td>\n",
              "      <td>O5</td>\n",
              "      <td>0</td>\n",
              "      <td>01/01/2019</td>\n",
              "    </tr>\n",
              "    <tr>\n",
              "      <th>3</th>\n",
              "      <td>1</td>\n",
              "      <td>GREENWICH VILLAGE-WEST</td>\n",
              "      <td>13 CONDOS - ELEVATOR APARTMENTS</td>\n",
              "      <td>2</td>\n",
              "      <td>592</td>\n",
              "      <td>1041</td>\n",
              "      <td>NaN</td>\n",
              "      <td>R4</td>\n",
              "      <td>1 SHERIDAN SQUARE, 8C</td>\n",
              "      <td>8C</td>\n",
              "      <td>10014.0</td>\n",
              "      <td>1.0</td>\n",
              "      <td>0.0</td>\n",
              "      <td>1.0</td>\n",
              "      <td>0</td>\n",
              "      <td>500.0</td>\n",
              "      <td>0.0</td>\n",
              "      <td>2</td>\n",
              "      <td>R4</td>\n",
              "      <td>0</td>\n",
              "      <td>01/01/2019</td>\n",
              "    </tr>\n",
              "    <tr>\n",
              "      <th>4</th>\n",
              "      <td>1</td>\n",
              "      <td>UPPER EAST SIDE (59-79)</td>\n",
              "      <td>15 CONDOS - 2-10 UNIT RESIDENTIAL</td>\n",
              "      <td>2C</td>\n",
              "      <td>1379</td>\n",
              "      <td>1402</td>\n",
              "      <td>NaN</td>\n",
              "      <td>R1</td>\n",
              "      <td>20 EAST 65TH STREET, B</td>\n",
              "      <td>B</td>\n",
              "      <td>10065.0</td>\n",
              "      <td>1.0</td>\n",
              "      <td>0.0</td>\n",
              "      <td>1.0</td>\n",
              "      <td>0</td>\n",
              "      <td>6406.0</td>\n",
              "      <td>0.0</td>\n",
              "      <td>2</td>\n",
              "      <td>R1</td>\n",
              "      <td>0</td>\n",
              "      <td>01/01/2019</td>\n",
              "    </tr>\n",
              "  </tbody>\n",
              "</table>\n",
              "</div>"
            ],
            "text/plain": [
              "   BOROUGH             NEIGHBORHOOD  ... SALE_PRICE   SALE_DATE\n",
              "0        1                  CHELSEA  ...          0  01/01/2019\n",
              "1        1                  FASHION  ...          0  01/01/2019\n",
              "2        1                  FASHION  ...          0  01/01/2019\n",
              "3        1   GREENWICH VILLAGE-WEST  ...          0  01/01/2019\n",
              "4        1  UPPER EAST SIDE (59-79)  ...          0  01/01/2019\n",
              "\n",
              "[5 rows x 21 columns]"
            ]
          },
          "metadata": {
            "tags": []
          },
          "execution_count": 3
        }
      ]
    },
    {
      "cell_type": "code",
      "metadata": {
        "id": "gsYpneTuYR1M",
        "colab_type": "code",
        "outputId": "5622727f-4a0b-4115-e683-d09481e3f818",
        "colab": {
          "base_uri": "https://localhost:8080/",
          "height": 34
        }
      },
      "source": [
        "df.shape"
      ],
      "execution_count": 4,
      "outputs": [
        {
          "output_type": "execute_result",
          "data": {
            "text/plain": [
              "(23040, 21)"
            ]
          },
          "metadata": {
            "tags": []
          },
          "execution_count": 4
        }
      ]
    },
    {
      "cell_type": "code",
      "metadata": {
        "id": "4hTHH-fNYH0N",
        "colab_type": "code",
        "outputId": "cea79bdd-7c48-4ded-f534-c27428cc7c83",
        "colab": {
          "base_uri": "https://localhost:8080/",
          "height": 391
        }
      },
      "source": [
        "df.dtypes"
      ],
      "execution_count": 6,
      "outputs": [
        {
          "output_type": "execute_result",
          "data": {
            "text/plain": [
              "BOROUGH                             int64\n",
              "NEIGHBORHOOD                       object\n",
              "BUILDING_CLASS_CATEGORY            object\n",
              "TAX_CLASS_AT_PRESENT               object\n",
              "BLOCK                               int64\n",
              "LOT                                 int64\n",
              "EASE-MENT                         float64\n",
              "BUILDING_CLASS_AT_PRESENT          object\n",
              "ADDRESS                            object\n",
              "APARTMENT_NUMBER                   object\n",
              "ZIP_CODE                          float64\n",
              "RESIDENTIAL_UNITS                 float64\n",
              "COMMERCIAL_UNITS                  float64\n",
              "TOTAL_UNITS                       float64\n",
              "LAND_SQUARE_FEET                   object\n",
              "GROSS_SQUARE_FEET                 float64\n",
              "YEAR_BUILT                        float64\n",
              "TAX_CLASS_AT_TIME_OF_SALE           int64\n",
              "BUILDING_CLASS_AT_TIME_OF_SALE     object\n",
              "SALE_PRICE                          int64\n",
              "SALE_DATE                          object\n",
              "dtype: object"
            ]
          },
          "metadata": {
            "tags": []
          },
          "execution_count": 6
        }
      ]
    },
    {
      "cell_type": "code",
      "metadata": {
        "id": "xkJxzQT-Yips",
        "colab_type": "code",
        "outputId": "0d60bd7e-32fc-46b0-c27a-56ab27aca5be",
        "colab": {
          "base_uri": "https://localhost:8080/",
          "height": 391
        }
      },
      "source": [
        "df.isnull().sum()"
      ],
      "execution_count": 5,
      "outputs": [
        {
          "output_type": "execute_result",
          "data": {
            "text/plain": [
              "BOROUGH                               0\n",
              "NEIGHBORHOOD                          0\n",
              "BUILDING_CLASS_CATEGORY               0\n",
              "TAX_CLASS_AT_PRESENT                  1\n",
              "BLOCK                                 0\n",
              "LOT                                   0\n",
              "EASE-MENT                         23040\n",
              "BUILDING_CLASS_AT_PRESENT             1\n",
              "ADDRESS                               0\n",
              "APARTMENT_NUMBER                  17839\n",
              "ZIP_CODE                              1\n",
              "RESIDENTIAL_UNITS                     1\n",
              "COMMERCIAL_UNITS                      1\n",
              "TOTAL_UNITS                           1\n",
              "LAND_SQUARE_FEET                     53\n",
              "GROSS_SQUARE_FEET                     1\n",
              "YEAR_BUILT                           35\n",
              "TAX_CLASS_AT_TIME_OF_SALE             0\n",
              "BUILDING_CLASS_AT_TIME_OF_SALE        0\n",
              "SALE_PRICE                            0\n",
              "SALE_DATE                             0\n",
              "dtype: int64"
            ]
          },
          "metadata": {
            "tags": []
          },
          "execution_count": 5
        }
      ]
    },
    {
      "cell_type": "markdown",
      "metadata": {
        "id": "l43gzbBSLYNv",
        "colab_type": "text"
      },
      "source": [
        "##Some data cleaning is certainly in order\n",
        "\n",
        "Resolve missing data, make sure all categorical features are categorical, and numeric numeric."
      ]
    },
    {
      "cell_type": "code",
      "metadata": {
        "id": "6e4igq8DaC_4",
        "colab_type": "code",
        "colab": {}
      },
      "source": [
        "# EASE_MENT and APARTMENT_NUMBER are 77% or more missing values, so just drop them\n",
        "df.drop(columns=['EASE-MENT', 'APARTMENT_NUMBER'], inplace=True)"
      ],
      "execution_count": 0,
      "outputs": []
    },
    {
      "cell_type": "code",
      "metadata": {
        "id": "-bPtU5pLlmxs",
        "colab_type": "code",
        "colab": {}
      },
      "source": [
        "import numpy as np"
      ],
      "execution_count": 0,
      "outputs": []
    },
    {
      "cell_type": "code",
      "metadata": {
        "id": "74S9691sgwH-",
        "colab_type": "code",
        "colab": {}
      },
      "source": [
        "# Remove commas from LAND_SQUARE_FEET before converting to float\n",
        "# Also noticed one row is \"########\", so change to NaN\n",
        "df['LAND_SQUARE_FEET'] = df['LAND_SQUARE_FEET'].str.replace(',','')\n",
        "df[df['LAND_SQUARE_FEET'] == '########'] = np.NaN\n"
      ],
      "execution_count": 0,
      "outputs": []
    },
    {
      "cell_type": "code",
      "metadata": {
        "id": "SNU7g9tSgZIQ",
        "colab_type": "code",
        "colab": {}
      },
      "source": [
        "# Convert to float, and replace NaN as 0 (assuming it means that they have no \n",
        "# land around them, not uncommon in NYC)\n",
        "df['LAND_SQUARE_FEET'] = df['LAND_SQUARE_FEET'].astype(float)\n",
        "df['LAND_SQUARE_FEET'] = df['LAND_SQUARE_FEET'].fillna(0)"
      ],
      "execution_count": 0,
      "outputs": []
    },
    {
      "cell_type": "code",
      "metadata": {
        "id": "PfZCIYLI_Y8W",
        "colab_type": "code",
        "colab": {}
      },
      "source": [
        "# Now we can just drop the miscellaneous stragglers\n",
        "df.dropna(inplace=True)"
      ],
      "execution_count": 0,
      "outputs": []
    },
    {
      "cell_type": "code",
      "metadata": {
        "id": "VW87QDAbaSXB",
        "colab_type": "code",
        "outputId": "f61d39e2-bcd4-44b7-829b-9358faddbf87",
        "colab": {
          "base_uri": "https://localhost:8080/",
          "height": 357
        }
      },
      "source": [
        "df.isnull().sum()"
      ],
      "execution_count": 12,
      "outputs": [
        {
          "output_type": "execute_result",
          "data": {
            "text/plain": [
              "BOROUGH                           0\n",
              "NEIGHBORHOOD                      0\n",
              "BUILDING_CLASS_CATEGORY           0\n",
              "TAX_CLASS_AT_PRESENT              0\n",
              "BLOCK                             0\n",
              "LOT                               0\n",
              "BUILDING_CLASS_AT_PRESENT         0\n",
              "ADDRESS                           0\n",
              "ZIP_CODE                          0\n",
              "RESIDENTIAL_UNITS                 0\n",
              "COMMERCIAL_UNITS                  0\n",
              "TOTAL_UNITS                       0\n",
              "LAND_SQUARE_FEET                  0\n",
              "GROSS_SQUARE_FEET                 0\n",
              "YEAR_BUILT                        0\n",
              "TAX_CLASS_AT_TIME_OF_SALE         0\n",
              "BUILDING_CLASS_AT_TIME_OF_SALE    0\n",
              "SALE_PRICE                        0\n",
              "SALE_DATE                         0\n",
              "dtype: int64"
            ]
          },
          "metadata": {
            "tags": []
          },
          "execution_count": 12
        }
      ]
    },
    {
      "cell_type": "code",
      "metadata": {
        "id": "4gjBTpBkl4cB",
        "colab_type": "code",
        "colab": {}
      },
      "source": [
        "# Convert SALE_DATE to properly datetime format\n",
        "df['SALE_DATE'] = pd.to_datetime(df['SALE_DATE'])"
      ],
      "execution_count": 0,
      "outputs": []
    },
    {
      "cell_type": "code",
      "metadata": {
        "id": "URGzvxDCmB_4",
        "colab_type": "code",
        "outputId": "04969828-7eb8-4303-d8c8-c1d67af55eb0",
        "colab": {
          "base_uri": "https://localhost:8080/",
          "height": 357
        }
      },
      "source": [
        "df.dtypes"
      ],
      "execution_count": 14,
      "outputs": [
        {
          "output_type": "execute_result",
          "data": {
            "text/plain": [
              "BOROUGH                                  float64\n",
              "NEIGHBORHOOD                              object\n",
              "BUILDING_CLASS_CATEGORY                   object\n",
              "TAX_CLASS_AT_PRESENT                      object\n",
              "BLOCK                                    float64\n",
              "LOT                                      float64\n",
              "BUILDING_CLASS_AT_PRESENT                 object\n",
              "ADDRESS                                   object\n",
              "ZIP_CODE                                 float64\n",
              "RESIDENTIAL_UNITS                        float64\n",
              "COMMERCIAL_UNITS                         float64\n",
              "TOTAL_UNITS                              float64\n",
              "LAND_SQUARE_FEET                         float64\n",
              "GROSS_SQUARE_FEET                        float64\n",
              "YEAR_BUILT                               float64\n",
              "TAX_CLASS_AT_TIME_OF_SALE                float64\n",
              "BUILDING_CLASS_AT_TIME_OF_SALE            object\n",
              "SALE_PRICE                               float64\n",
              "SALE_DATE                         datetime64[ns]\n",
              "dtype: object"
            ]
          },
          "metadata": {
            "tags": []
          },
          "execution_count": 14
        }
      ]
    },
    {
      "cell_type": "code",
      "metadata": {
        "id": "geiPEJJ9TM2w",
        "colab_type": "code",
        "colab": {}
      },
      "source": [
        "# BOROUGH is a numeric column, but arguably should be a categorical feature,\n",
        "# so convert it from a number to a string\n",
        "df['BOROUGH'] = df['BOROUGH'].astype(str)"
      ],
      "execution_count": 0,
      "outputs": []
    },
    {
      "cell_type": "code",
      "metadata": {
        "id": "isz40k-783MB",
        "colab_type": "code",
        "colab": {}
      },
      "source": [
        "# A few more numeric columns that should change, should be categorical, and not be computed\n",
        "columns = ['ZIP_CODE', 'YEAR_BUILT', 'TAX_CLASS_AT_TIME_OF_SALE', 'BLOCK', 'LOT']\n",
        "for column in columns:\n",
        "  df[column] = df[column].astype(str)\n",
        "\n"
      ],
      "execution_count": 0,
      "outputs": []
    },
    {
      "cell_type": "code",
      "metadata": {
        "id": "94FKcv5vYv8r",
        "colab_type": "code",
        "outputId": "fbb77f21-b03e-4ff3-8e62-17de7035720d",
        "colab": {
          "base_uri": "https://localhost:8080/",
          "height": 357
        }
      },
      "source": [
        "df.dtypes"
      ],
      "execution_count": 17,
      "outputs": [
        {
          "output_type": "execute_result",
          "data": {
            "text/plain": [
              "BOROUGH                                   object\n",
              "NEIGHBORHOOD                              object\n",
              "BUILDING_CLASS_CATEGORY                   object\n",
              "TAX_CLASS_AT_PRESENT                      object\n",
              "BLOCK                                     object\n",
              "LOT                                       object\n",
              "BUILDING_CLASS_AT_PRESENT                 object\n",
              "ADDRESS                                   object\n",
              "ZIP_CODE                                  object\n",
              "RESIDENTIAL_UNITS                        float64\n",
              "COMMERCIAL_UNITS                         float64\n",
              "TOTAL_UNITS                              float64\n",
              "LAND_SQUARE_FEET                         float64\n",
              "GROSS_SQUARE_FEET                        float64\n",
              "YEAR_BUILT                                object\n",
              "TAX_CLASS_AT_TIME_OF_SALE                 object\n",
              "BUILDING_CLASS_AT_TIME_OF_SALE            object\n",
              "SALE_PRICE                               float64\n",
              "SALE_DATE                         datetime64[ns]\n",
              "dtype: object"
            ]
          },
          "metadata": {
            "tags": []
          },
          "execution_count": 17
        }
      ]
    },
    {
      "cell_type": "code",
      "metadata": {
        "id": "sMzDgCoxTM21",
        "colab_type": "code",
        "colab": {}
      },
      "source": [
        "# Reduce cardinality for NEIGHBORHOOD feature\n",
        "\n",
        "# Get a list of the top 10 neighborhoods\n",
        "top10 = df['NEIGHBORHOOD'].value_counts()[:10].index\n",
        "\n",
        "# At locations where the neighborhood is NOT in the top 10, \n",
        "# replace the neighborhood with 'OTHER'\n",
        "df.loc[~df['NEIGHBORHOOD'].isin(top10), 'NEIGHBORHOOD'] = 'OTHER'"
      ],
      "execution_count": 0,
      "outputs": []
    },
    {
      "cell_type": "code",
      "metadata": {
        "id": "7FYmU2pLTM24",
        "colab_type": "code",
        "outputId": "79b0b7b0-a0cc-496c-a532-c48a81d74f49",
        "colab": {
          "base_uri": "https://localhost:8080/",
          "height": 343
        }
      },
      "source": [
        "# Filter to only one family dwellings and between $100,000 and $2,000,000\n",
        "cond = (df['BUILDING_CLASS_CATEGORY'] == '01 ONE FAMILY DWELLINGS') & \\\n",
        "       (df['SALE_PRICE'] > 100000) & (df['SALE_PRICE'] < 2000000)\n",
        "df_subset = df[cond]\n",
        "\n",
        "# Since that will no longer affect any model, drop that column\n",
        "df_subset.drop(columns=['BUILDING_CLASS_CATEGORY'], inplace=True)\n",
        "print(df_subset.shape)\n",
        "df_subset.sample(5)"
      ],
      "execution_count": 19,
      "outputs": [
        {
          "output_type": "stream",
          "text": [
            "(3151, 18)\n"
          ],
          "name": "stdout"
        },
        {
          "output_type": "execute_result",
          "data": {
            "text/html": [
              "<div>\n",
              "<style scoped>\n",
              "    .dataframe tbody tr th:only-of-type {\n",
              "        vertical-align: middle;\n",
              "    }\n",
              "\n",
              "    .dataframe tbody tr th {\n",
              "        vertical-align: top;\n",
              "    }\n",
              "\n",
              "    .dataframe thead th {\n",
              "        text-align: right;\n",
              "    }\n",
              "</style>\n",
              "<table border=\"1\" class=\"dataframe\">\n",
              "  <thead>\n",
              "    <tr style=\"text-align: right;\">\n",
              "      <th></th>\n",
              "      <th>BOROUGH</th>\n",
              "      <th>NEIGHBORHOOD</th>\n",
              "      <th>TAX_CLASS_AT_PRESENT</th>\n",
              "      <th>BLOCK</th>\n",
              "      <th>LOT</th>\n",
              "      <th>BUILDING_CLASS_AT_PRESENT</th>\n",
              "      <th>ADDRESS</th>\n",
              "      <th>ZIP_CODE</th>\n",
              "      <th>RESIDENTIAL_UNITS</th>\n",
              "      <th>COMMERCIAL_UNITS</th>\n",
              "      <th>TOTAL_UNITS</th>\n",
              "      <th>LAND_SQUARE_FEET</th>\n",
              "      <th>GROSS_SQUARE_FEET</th>\n",
              "      <th>YEAR_BUILT</th>\n",
              "      <th>TAX_CLASS_AT_TIME_OF_SALE</th>\n",
              "      <th>BUILDING_CLASS_AT_TIME_OF_SALE</th>\n",
              "      <th>SALE_PRICE</th>\n",
              "      <th>SALE_DATE</th>\n",
              "    </tr>\n",
              "  </thead>\n",
              "  <tbody>\n",
              "    <tr>\n",
              "      <th>7438</th>\n",
              "      <td>4.0</td>\n",
              "      <td>OTHER</td>\n",
              "      <td>1</td>\n",
              "      <td>4474.0</td>\n",
              "      <td>28.0</td>\n",
              "      <td>A2</td>\n",
              "      <td>147-43 7 AVENUE</td>\n",
              "      <td>11357.0</td>\n",
              "      <td>1.0</td>\n",
              "      <td>0.0</td>\n",
              "      <td>1.0</td>\n",
              "      <td>4040.0</td>\n",
              "      <td>1200.0</td>\n",
              "      <td>1950.0</td>\n",
              "      <td>1.0</td>\n",
              "      <td>A2</td>\n",
              "      <td>1117500.0</td>\n",
              "      <td>2019-02-06</td>\n",
              "    </tr>\n",
              "    <tr>\n",
              "      <th>9851</th>\n",
              "      <td>5.0</td>\n",
              "      <td>OTHER</td>\n",
              "      <td>1</td>\n",
              "      <td>5668.0</td>\n",
              "      <td>48.0</td>\n",
              "      <td>A5</td>\n",
              "      <td>261 GRANTWOOD AVENUE</td>\n",
              "      <td>10312.0</td>\n",
              "      <td>1.0</td>\n",
              "      <td>0.0</td>\n",
              "      <td>1.0</td>\n",
              "      <td>3650.0</td>\n",
              "      <td>1632.0</td>\n",
              "      <td>1980.0</td>\n",
              "      <td>1.0</td>\n",
              "      <td>A5</td>\n",
              "      <td>499000.0</td>\n",
              "      <td>2019-02-19</td>\n",
              "    </tr>\n",
              "    <tr>\n",
              "      <th>19869</th>\n",
              "      <td>3.0</td>\n",
              "      <td>OTHER</td>\n",
              "      <td>1</td>\n",
              "      <td>6702.0</td>\n",
              "      <td>78.0</td>\n",
              "      <td>A1</td>\n",
              "      <td>914 E 19TH STREET</td>\n",
              "      <td>11230.0</td>\n",
              "      <td>1.0</td>\n",
              "      <td>0.0</td>\n",
              "      <td>1.0</td>\n",
              "      <td>4000.0</td>\n",
              "      <td>2184.0</td>\n",
              "      <td>1910.0</td>\n",
              "      <td>1.0</td>\n",
              "      <td>A1</td>\n",
              "      <td>1380000.0</td>\n",
              "      <td>2019-04-09</td>\n",
              "    </tr>\n",
              "    <tr>\n",
              "      <th>16967</th>\n",
              "      <td>3.0</td>\n",
              "      <td>OTHER</td>\n",
              "      <td>1</td>\n",
              "      <td>7647.0</td>\n",
              "      <td>19.0</td>\n",
              "      <td>A1</td>\n",
              "      <td>1261 EAST 29TH STREET</td>\n",
              "      <td>11210.0</td>\n",
              "      <td>1.0</td>\n",
              "      <td>0.0</td>\n",
              "      <td>1.0</td>\n",
              "      <td>3238.0</td>\n",
              "      <td>2016.0</td>\n",
              "      <td>1925.0</td>\n",
              "      <td>1.0</td>\n",
              "      <td>A1</td>\n",
              "      <td>1400000.0</td>\n",
              "      <td>2019-03-26</td>\n",
              "    </tr>\n",
              "    <tr>\n",
              "      <th>20597</th>\n",
              "      <td>3.0</td>\n",
              "      <td>OTHER</td>\n",
              "      <td>1</td>\n",
              "      <td>6879.0</td>\n",
              "      <td>32.0</td>\n",
              "      <td>A5</td>\n",
              "      <td>8715 25TH AVENUE</td>\n",
              "      <td>11214.0</td>\n",
              "      <td>1.0</td>\n",
              "      <td>0.0</td>\n",
              "      <td>1.0</td>\n",
              "      <td>1740.0</td>\n",
              "      <td>1856.0</td>\n",
              "      <td>1950.0</td>\n",
              "      <td>1.0</td>\n",
              "      <td>A5</td>\n",
              "      <td>938000.0</td>\n",
              "      <td>2019-04-12</td>\n",
              "    </tr>\n",
              "  </tbody>\n",
              "</table>\n",
              "</div>"
            ],
            "text/plain": [
              "      BOROUGH NEIGHBORHOOD  ... SALE_PRICE  SALE_DATE\n",
              "7438      4.0        OTHER  ...  1117500.0 2019-02-06\n",
              "9851      5.0        OTHER  ...   499000.0 2019-02-19\n",
              "19869     3.0        OTHER  ...  1380000.0 2019-04-09\n",
              "16967     3.0        OTHER  ...  1400000.0 2019-03-26\n",
              "20597     3.0        OTHER  ...   938000.0 2019-04-12\n",
              "\n",
              "[5 rows x 18 columns]"
            ]
          },
          "metadata": {
            "tags": []
          },
          "execution_count": 19
        }
      ]
    },
    {
      "cell_type": "code",
      "metadata": {
        "id": "j1lT8lfTEMgI",
        "colab_type": "code",
        "outputId": "086b960c-3869-4c67-fa18-44f454acf85c",
        "colab": {
          "base_uri": "https://localhost:8080/",
          "height": 278
        }
      },
      "source": [
        "import matplotlib.pyplot as plt\n",
        "%matplotlib inline\n",
        "plt.hist(df_subset['SALE_PRICE'], bins=30);"
      ],
      "execution_count": 20,
      "outputs": [
        {
          "output_type": "display_data",
          "data": {
            "image/png": "[encoded data removed]",
            "text/plain": [
              "<Figure size 432x288 with 1 Axes>"
            ]
          },
          "metadata": {
            "tags": [],
            "needs_background": "light"
          }
        }
      ]
    },
    {
      "cell_type": "code",
      "metadata": {
        "id": "Je6WxVHKF0sQ",
        "colab_type": "code",
        "outputId": "2f8d939b-2b81-478d-b359-5034b92f3c57",
        "colab": {
          "base_uri": "https://localhost:8080/",
          "height": 34
        }
      },
      "source": [
        "# Split Jan - Mar into training, April on into testing\n",
        "df_train = df_subset[df_subset['SALE_DATE'].dt.month <= 3]\n",
        "df_test = df_subset[df_subset['SALE_DATE'].dt.month > 3]\n",
        "df_train.shape, df_test.shape"
      ],
      "execution_count": 21,
      "outputs": [
        {
          "output_type": "execute_result",
          "data": {
            "text/plain": [
              "((2507, 18), (644, 18))"
            ]
          },
          "metadata": {
            "tags": []
          },
          "execution_count": 21
        }
      ]
    },
    {
      "cell_type": "code",
      "metadata": {
        "id": "PENIEqJ_dbFy",
        "colab_type": "code",
        "outputId": "100921aa-1818-4547-e188-93829098f338",
        "colab": {
          "base_uri": "https://localhost:8080/",
          "height": 357
        }
      },
      "source": [
        "df_train.describe(exclude='number')"
      ],
      "execution_count": 22,
      "outputs": [
        {
          "output_type": "execute_result",
          "data": {
            "text/html": [
              "<div>\n",
              "<style scoped>\n",
              "    .dataframe tbody tr th:only-of-type {\n",
              "        vertical-align: middle;\n",
              "    }\n",
              "\n",
              "    .dataframe tbody tr th {\n",
              "        vertical-align: top;\n",
              "    }\n",
              "\n",
              "    .dataframe thead th {\n",
              "        text-align: right;\n",
              "    }\n",
              "</style>\n",
              "<table border=\"1\" class=\"dataframe\">\n",
              "  <thead>\n",
              "    <tr style=\"text-align: right;\">\n",
              "      <th></th>\n",
              "      <th>BOROUGH</th>\n",
              "      <th>NEIGHBORHOOD</th>\n",
              "      <th>TAX_CLASS_AT_PRESENT</th>\n",
              "      <th>BLOCK</th>\n",
              "      <th>LOT</th>\n",
              "      <th>BUILDING_CLASS_AT_PRESENT</th>\n",
              "      <th>ADDRESS</th>\n",
              "      <th>ZIP_CODE</th>\n",
              "      <th>YEAR_BUILT</th>\n",
              "      <th>TAX_CLASS_AT_TIME_OF_SALE</th>\n",
              "      <th>BUILDING_CLASS_AT_TIME_OF_SALE</th>\n",
              "      <th>SALE_DATE</th>\n",
              "    </tr>\n",
              "  </thead>\n",
              "  <tbody>\n",
              "    <tr>\n",
              "      <th>count</th>\n",
              "      <td>2507</td>\n",
              "      <td>2507</td>\n",
              "      <td>2507</td>\n",
              "      <td>2507</td>\n",
              "      <td>2507</td>\n",
              "      <td>2507</td>\n",
              "      <td>2507</td>\n",
              "      <td>2507</td>\n",
              "      <td>2507</td>\n",
              "      <td>2507</td>\n",
              "      <td>2507</td>\n",
              "      <td>2507</td>\n",
              "    </tr>\n",
              "    <tr>\n",
              "      <th>unique</th>\n",
              "      <td>5</td>\n",
              "      <td>6</td>\n",
              "      <td>2</td>\n",
              "      <td>2060</td>\n",
              "      <td>304</td>\n",
              "      <td>13</td>\n",
              "      <td>2497</td>\n",
              "      <td>122</td>\n",
              "      <td>86</td>\n",
              "      <td>1</td>\n",
              "      <td>11</td>\n",
              "      <td>68</td>\n",
              "    </tr>\n",
              "    <tr>\n",
              "      <th>top</th>\n",
              "      <td>4.0</td>\n",
              "      <td>OTHER</td>\n",
              "      <td>1</td>\n",
              "      <td>16350.0</td>\n",
              "      <td>20.0</td>\n",
              "      <td>A1</td>\n",
              "      <td>130-52 LEFFERTS BOULEVARD</td>\n",
              "      <td>10312.0</td>\n",
              "      <td>1920.0</td>\n",
              "      <td>1.0</td>\n",
              "      <td>A1</td>\n",
              "      <td>2019-01-31 00:00:00</td>\n",
              "    </tr>\n",
              "    <tr>\n",
              "      <th>freq</th>\n",
              "      <td>1204</td>\n",
              "      <td>2382</td>\n",
              "      <td>2476</td>\n",
              "      <td>17</td>\n",
              "      <td>46</td>\n",
              "      <td>919</td>\n",
              "      <td>2</td>\n",
              "      <td>115</td>\n",
              "      <td>290</td>\n",
              "      <td>2507</td>\n",
              "      <td>919</td>\n",
              "      <td>78</td>\n",
              "    </tr>\n",
              "    <tr>\n",
              "      <th>first</th>\n",
              "      <td>NaN</td>\n",
              "      <td>NaN</td>\n",
              "      <td>NaN</td>\n",
              "      <td>NaN</td>\n",
              "      <td>NaN</td>\n",
              "      <td>NaN</td>\n",
              "      <td>NaN</td>\n",
              "      <td>NaN</td>\n",
              "      <td>NaN</td>\n",
              "      <td>NaN</td>\n",
              "      <td>NaN</td>\n",
              "      <td>2019-01-01 00:00:00</td>\n",
              "    </tr>\n",
              "    <tr>\n",
              "      <th>last</th>\n",
              "      <td>NaN</td>\n",
              "      <td>NaN</td>\n",
              "      <td>NaN</td>\n",
              "      <td>NaN</td>\n",
              "      <td>NaN</td>\n",
              "      <td>NaN</td>\n",
              "      <td>NaN</td>\n",
              "      <td>NaN</td>\n",
              "      <td>NaN</td>\n",
              "      <td>NaN</td>\n",
              "      <td>NaN</td>\n",
              "      <td>2019-03-30 00:00:00</td>\n",
              "    </tr>\n",
              "  </tbody>\n",
              "</table>\n",
              "</div>"
            ],
            "text/plain": [
              "       BOROUGH NEIGHBORHOOD  ... BUILDING_CLASS_AT_TIME_OF_SALE            SALE_DATE\n",
              "count     2507         2507  ...                           2507                 2507\n",
              "unique       5            6  ...                             11                   68\n",
              "top        4.0        OTHER  ...                             A1  2019-01-31 00:00:00\n",
              "freq      1204         2382  ...                            919                   78\n",
              "first      NaN          NaN  ...                            NaN  2019-01-01 00:00:00\n",
              "last       NaN          NaN  ...                            NaN  2019-03-30 00:00:00\n",
              "\n",
              "[6 rows x 12 columns]"
            ]
          },
          "metadata": {
            "tags": []
          },
          "execution_count": 22
        }
      ]
    },
    {
      "cell_type": "code",
      "metadata": {
        "id": "bL8bUtMldyAt",
        "colab_type": "code",
        "outputId": "7d442325-4d10-4668-d537-ce0dff8fd488",
        "colab": {
          "base_uri": "https://localhost:8080/",
          "height": 297
        }
      },
      "source": [
        "df_train.describe()"
      ],
      "execution_count": 23,
      "outputs": [
        {
          "output_type": "execute_result",
          "data": {
            "text/html": [
              "<div>\n",
              "<style scoped>\n",
              "    .dataframe tbody tr th:only-of-type {\n",
              "        vertical-align: middle;\n",
              "    }\n",
              "\n",
              "    .dataframe tbody tr th {\n",
              "        vertical-align: top;\n",
              "    }\n",
              "\n",
              "    .dataframe thead th {\n",
              "        text-align: right;\n",
              "    }\n",
              "</style>\n",
              "<table border=\"1\" class=\"dataframe\">\n",
              "  <thead>\n",
              "    <tr style=\"text-align: right;\">\n",
              "      <th></th>\n",
              "      <th>RESIDENTIAL_UNITS</th>\n",
              "      <th>COMMERCIAL_UNITS</th>\n",
              "      <th>TOTAL_UNITS</th>\n",
              "      <th>LAND_SQUARE_FEET</th>\n",
              "      <th>GROSS_SQUARE_FEET</th>\n",
              "      <th>SALE_PRICE</th>\n",
              "    </tr>\n",
              "  </thead>\n",
              "  <tbody>\n",
              "    <tr>\n",
              "      <th>count</th>\n",
              "      <td>2507.000000</td>\n",
              "      <td>2507.000000</td>\n",
              "      <td>2507.000000</td>\n",
              "      <td>2507.000000</td>\n",
              "      <td>2507.000000</td>\n",
              "      <td>2.507000e+03</td>\n",
              "    </tr>\n",
              "    <tr>\n",
              "      <th>mean</th>\n",
              "      <td>0.987635</td>\n",
              "      <td>0.016354</td>\n",
              "      <td>1.003989</td>\n",
              "      <td>3146.051057</td>\n",
              "      <td>1473.744715</td>\n",
              "      <td>6.215737e+05</td>\n",
              "    </tr>\n",
              "    <tr>\n",
              "      <th>std</th>\n",
              "      <td>0.110532</td>\n",
              "      <td>0.129966</td>\n",
              "      <td>0.171794</td>\n",
              "      <td>1798.714872</td>\n",
              "      <td>599.217635</td>\n",
              "      <td>2.916072e+05</td>\n",
              "    </tr>\n",
              "    <tr>\n",
              "      <th>min</th>\n",
              "      <td>0.000000</td>\n",
              "      <td>0.000000</td>\n",
              "      <td>0.000000</td>\n",
              "      <td>0.000000</td>\n",
              "      <td>0.000000</td>\n",
              "      <td>1.040000e+05</td>\n",
              "    </tr>\n",
              "    <tr>\n",
              "      <th>25%</th>\n",
              "      <td>1.000000</td>\n",
              "      <td>0.000000</td>\n",
              "      <td>1.000000</td>\n",
              "      <td>2000.000000</td>\n",
              "      <td>1144.000000</td>\n",
              "      <td>4.405000e+05</td>\n",
              "    </tr>\n",
              "    <tr>\n",
              "      <th>50%</th>\n",
              "      <td>1.000000</td>\n",
              "      <td>0.000000</td>\n",
              "      <td>1.000000</td>\n",
              "      <td>2600.000000</td>\n",
              "      <td>1368.000000</td>\n",
              "      <td>5.600000e+05</td>\n",
              "    </tr>\n",
              "    <tr>\n",
              "      <th>75%</th>\n",
              "      <td>1.000000</td>\n",
              "      <td>0.000000</td>\n",
              "      <td>1.000000</td>\n",
              "      <td>4000.000000</td>\n",
              "      <td>1683.000000</td>\n",
              "      <td>7.500000e+05</td>\n",
              "    </tr>\n",
              "    <tr>\n",
              "      <th>max</th>\n",
              "      <td>1.000000</td>\n",
              "      <td>2.000000</td>\n",
              "      <td>3.000000</td>\n",
              "      <td>18906.000000</td>\n",
              "      <td>7875.000000</td>\n",
              "      <td>1.955000e+06</td>\n",
              "    </tr>\n",
              "  </tbody>\n",
              "</table>\n",
              "</div>"
            ],
            "text/plain": [
              "       RESIDENTIAL_UNITS  COMMERCIAL_UNITS  ...  GROSS_SQUARE_FEET    SALE_PRICE\n",
              "count        2507.000000       2507.000000  ...        2507.000000  2.507000e+03\n",
              "mean            0.987635          0.016354  ...        1473.744715  6.215737e+05\n",
              "std             0.110532          0.129966  ...         599.217635  2.916072e+05\n",
              "min             0.000000          0.000000  ...           0.000000  1.040000e+05\n",
              "25%             1.000000          0.000000  ...        1144.000000  4.405000e+05\n",
              "50%             1.000000          0.000000  ...        1368.000000  5.600000e+05\n",
              "75%             1.000000          0.000000  ...        1683.000000  7.500000e+05\n",
              "max             1.000000          2.000000  ...        7875.000000  1.955000e+06\n",
              "\n",
              "[8 rows x 6 columns]"
            ]
          },
          "metadata": {
            "tags": []
          },
          "execution_count": 23
        }
      ]
    },
    {
      "cell_type": "code",
      "metadata": {
        "id": "tzGVp0UamhBh",
        "colab_type": "code",
        "outputId": "cb77d0e6-4b53-43ca-bc79-aff58304e6f9",
        "colab": {
          "base_uri": "https://localhost:8080/",
          "height": 119
        }
      },
      "source": [
        "df_train.columns"
      ],
      "execution_count": 24,
      "outputs": [
        {
          "output_type": "execute_result",
          "data": {
            "text/plain": [
              "Index(['BOROUGH', 'NEIGHBORHOOD', 'TAX_CLASS_AT_PRESENT', 'BLOCK', 'LOT',\n",
              "       'BUILDING_CLASS_AT_PRESENT', 'ADDRESS', 'ZIP_CODE', 'RESIDENTIAL_UNITS',\n",
              "       'COMMERCIAL_UNITS', 'TOTAL_UNITS', 'LAND_SQUARE_FEET',\n",
              "       'GROSS_SQUARE_FEET', 'YEAR_BUILT', 'TAX_CLASS_AT_TIME_OF_SALE',\n",
              "       'BUILDING_CLASS_AT_TIME_OF_SALE', 'SALE_PRICE', 'SALE_DATE'],\n",
              "      dtype='object')"
            ]
          },
          "metadata": {
            "tags": []
          },
          "execution_count": 24
        }
      ]
    },
    {
      "cell_type": "markdown",
      "metadata": {
        "id": "N1sJdKbfLv2O",
        "colab_type": "text"
      },
      "source": [
        "# We'll drop a number of features with high cardinality. \n",
        "\n",
        "Also, now drop the SALE_DATE column as, once used to split the data set, will choke the regressions."
      ]
    },
    {
      "cell_type": "code",
      "metadata": {
        "id": "CB3__PO6mPKD",
        "colab_type": "code",
        "colab": {}
      },
      "source": [
        "df_train.drop(columns=['TAX_CLASS_AT_PRESENT', 'BLOCK', 'LOT', 'BUILDING_CLASS_AT_PRESENT',\n",
        "       'ADDRESS', 'ZIP_CODE', 'YEAR_BUILT', 'SALE_DATE'], inplace=True)\n",
        "df_test.drop(columns=['TAX_CLASS_AT_PRESENT', 'BLOCK', 'LOT', 'BUILDING_CLASS_AT_PRESENT',\n",
        "       'ADDRESS', 'ZIP_CODE', 'YEAR_BUILT', 'SALE_DATE'], inplace=True)"
      ],
      "execution_count": 0,
      "outputs": []
    },
    {
      "cell_type": "code",
      "metadata": {
        "id": "NNIyrCEWng04",
        "colab_type": "code",
        "outputId": "fd09ddd8-f341-4a59-84a7-ba6ba8ba4cfd",
        "colab": {
          "base_uri": "https://localhost:8080/",
          "height": 224
        }
      },
      "source": [
        "df_train.head()"
      ],
      "execution_count": 26,
      "outputs": [
        {
          "output_type": "execute_result",
          "data": {
            "text/html": [
              "<div>\n",
              "<style scoped>\n",
              "    .dataframe tbody tr th:only-of-type {\n",
              "        vertical-align: middle;\n",
              "    }\n",
              "\n",
              "    .dataframe tbody tr th {\n",
              "        vertical-align: top;\n",
              "    }\n",
              "\n",
              "    .dataframe thead th {\n",
              "        text-align: right;\n",
              "    }\n",
              "</style>\n",
              "<table border=\"1\" class=\"dataframe\">\n",
              "  <thead>\n",
              "    <tr style=\"text-align: right;\">\n",
              "      <th></th>\n",
              "      <th>BOROUGH</th>\n",
              "      <th>NEIGHBORHOOD</th>\n",
              "      <th>RESIDENTIAL_UNITS</th>\n",
              "      <th>COMMERCIAL_UNITS</th>\n",
              "      <th>TOTAL_UNITS</th>\n",
              "      <th>LAND_SQUARE_FEET</th>\n",
              "      <th>GROSS_SQUARE_FEET</th>\n",
              "      <th>TAX_CLASS_AT_TIME_OF_SALE</th>\n",
              "      <th>BUILDING_CLASS_AT_TIME_OF_SALE</th>\n",
              "      <th>SALE_PRICE</th>\n",
              "    </tr>\n",
              "  </thead>\n",
              "  <tbody>\n",
              "    <tr>\n",
              "      <th>44</th>\n",
              "      <td>3.0</td>\n",
              "      <td>OTHER</td>\n",
              "      <td>1.0</td>\n",
              "      <td>0.0</td>\n",
              "      <td>1.0</td>\n",
              "      <td>6800.0</td>\n",
              "      <td>1325.0</td>\n",
              "      <td>1.0</td>\n",
              "      <td>A9</td>\n",
              "      <td>550000.0</td>\n",
              "    </tr>\n",
              "    <tr>\n",
              "      <th>61</th>\n",
              "      <td>4.0</td>\n",
              "      <td>OTHER</td>\n",
              "      <td>1.0</td>\n",
              "      <td>0.0</td>\n",
              "      <td>1.0</td>\n",
              "      <td>4000.0</td>\n",
              "      <td>2001.0</td>\n",
              "      <td>1.0</td>\n",
              "      <td>A1</td>\n",
              "      <td>200000.0</td>\n",
              "    </tr>\n",
              "    <tr>\n",
              "      <th>78</th>\n",
              "      <td>2.0</td>\n",
              "      <td>OTHER</td>\n",
              "      <td>1.0</td>\n",
              "      <td>0.0</td>\n",
              "      <td>1.0</td>\n",
              "      <td>3500.0</td>\n",
              "      <td>2043.0</td>\n",
              "      <td>1.0</td>\n",
              "      <td>A1</td>\n",
              "      <td>810000.0</td>\n",
              "    </tr>\n",
              "    <tr>\n",
              "      <th>108</th>\n",
              "      <td>3.0</td>\n",
              "      <td>OTHER</td>\n",
              "      <td>1.0</td>\n",
              "      <td>0.0</td>\n",
              "      <td>1.0</td>\n",
              "      <td>4000.0</td>\n",
              "      <td>2680.0</td>\n",
              "      <td>1.0</td>\n",
              "      <td>A1</td>\n",
              "      <td>125000.0</td>\n",
              "    </tr>\n",
              "    <tr>\n",
              "      <th>111</th>\n",
              "      <td>3.0</td>\n",
              "      <td>OTHER</td>\n",
              "      <td>1.0</td>\n",
              "      <td>0.0</td>\n",
              "      <td>1.0</td>\n",
              "      <td>1710.0</td>\n",
              "      <td>1872.0</td>\n",
              "      <td>1.0</td>\n",
              "      <td>A5</td>\n",
              "      <td>620000.0</td>\n",
              "    </tr>\n",
              "  </tbody>\n",
              "</table>\n",
              "</div>"
            ],
            "text/plain": [
              "    BOROUGH NEIGHBORHOOD  ...  BUILDING_CLASS_AT_TIME_OF_SALE  SALE_PRICE\n",
              "44      3.0        OTHER  ...                              A9    550000.0\n",
              "61      4.0        OTHER  ...                              A1    200000.0\n",
              "78      2.0        OTHER  ...                              A1    810000.0\n",
              "108     3.0        OTHER  ...                              A1    125000.0\n",
              "111     3.0        OTHER  ...                              A5    620000.0\n",
              "\n",
              "[5 rows x 10 columns]"
            ]
          },
          "metadata": {
            "tags": []
          },
          "execution_count": 26
        }
      ]
    },
    {
      "cell_type": "markdown",
      "metadata": {
        "id": "XoG4FBKUMEe1",
        "colab_type": "text"
      },
      "source": [
        "Seeing if neighborhood and borough are colinear. Hard to tell. On one hand, there is some correlatin; on the other hand, the unknown neighborhoods fall in all boroughs. I am keeping them both, as I think there is somewhat different information enough."
      ]
    },
    {
      "cell_type": "code",
      "metadata": {
        "id": "VENbS-MZeNGd",
        "colab_type": "code",
        "outputId": "ad2aedac-2066-45f2-c9e3-e5b615850b80",
        "colab": {
          "base_uri": "https://localhost:8080/",
          "height": 266
        }
      },
      "source": [
        "neighborhood_borough = pd.crosstab(df_train['NEIGHBORHOOD'], df_train['BOROUGH'])\n",
        "neighborhood_borough"
      ],
      "execution_count": 27,
      "outputs": [
        {
          "output_type": "execute_result",
          "data": {
            "text/html": [
              "<div>\n",
              "<style scoped>\n",
              "    .dataframe tbody tr th:only-of-type {\n",
              "        vertical-align: middle;\n",
              "    }\n",
              "\n",
              "    .dataframe tbody tr th {\n",
              "        vertical-align: top;\n",
              "    }\n",
              "\n",
              "    .dataframe thead th {\n",
              "        text-align: right;\n",
              "    }\n",
              "</style>\n",
              "<table border=\"1\" class=\"dataframe\">\n",
              "  <thead>\n",
              "    <tr style=\"text-align: right;\">\n",
              "      <th>BOROUGH</th>\n",
              "      <th>1.0</th>\n",
              "      <th>2.0</th>\n",
              "      <th>3.0</th>\n",
              "      <th>4.0</th>\n",
              "      <th>5.0</th>\n",
              "    </tr>\n",
              "    <tr>\n",
              "      <th>NEIGHBORHOOD</th>\n",
              "      <th></th>\n",
              "      <th></th>\n",
              "      <th></th>\n",
              "      <th></th>\n",
              "      <th></th>\n",
              "    </tr>\n",
              "  </thead>\n",
              "  <tbody>\n",
              "    <tr>\n",
              "      <th>ASTORIA</th>\n",
              "      <td>0</td>\n",
              "      <td>0</td>\n",
              "      <td>0</td>\n",
              "      <td>11</td>\n",
              "      <td>0</td>\n",
              "    </tr>\n",
              "    <tr>\n",
              "      <th>BEDFORD STUYVESANT</th>\n",
              "      <td>0</td>\n",
              "      <td>0</td>\n",
              "      <td>8</td>\n",
              "      <td>0</td>\n",
              "      <td>0</td>\n",
              "    </tr>\n",
              "    <tr>\n",
              "      <th>BOROUGH PARK</th>\n",
              "      <td>0</td>\n",
              "      <td>0</td>\n",
              "      <td>12</td>\n",
              "      <td>0</td>\n",
              "      <td>0</td>\n",
              "    </tr>\n",
              "    <tr>\n",
              "      <th>FLUSHING-NORTH</th>\n",
              "      <td>0</td>\n",
              "      <td>0</td>\n",
              "      <td>0</td>\n",
              "      <td>77</td>\n",
              "      <td>0</td>\n",
              "    </tr>\n",
              "    <tr>\n",
              "      <th>FOREST HILLS</th>\n",
              "      <td>0</td>\n",
              "      <td>0</td>\n",
              "      <td>0</td>\n",
              "      <td>17</td>\n",
              "      <td>0</td>\n",
              "    </tr>\n",
              "    <tr>\n",
              "      <th>OTHER</th>\n",
              "      <td>1</td>\n",
              "      <td>242</td>\n",
              "      <td>378</td>\n",
              "      <td>1099</td>\n",
              "      <td>662</td>\n",
              "    </tr>\n",
              "  </tbody>\n",
              "</table>\n",
              "</div>"
            ],
            "text/plain": [
              "BOROUGH             1.0  2.0  3.0   4.0  5.0\n",
              "NEIGHBORHOOD                                \n",
              "ASTORIA               0    0    0    11    0\n",
              "BEDFORD STUYVESANT    0    0    8     0    0\n",
              "BOROUGH PARK          0    0   12     0    0\n",
              "FLUSHING-NORTH        0    0    0    77    0\n",
              "FOREST HILLS          0    0    0    17    0\n",
              "OTHER                 1  242  378  1099  662"
            ]
          },
          "metadata": {
            "tags": []
          },
          "execution_count": 27
        }
      ]
    },
    {
      "cell_type": "markdown",
      "metadata": {
        "id": "HKvt1HScMlez",
        "colab_type": "text"
      },
      "source": [
        "Hot one encode the remaining categorical features"
      ]
    },
    {
      "cell_type": "code",
      "metadata": {
        "id": "sGhQS2gPgOXa",
        "colab_type": "code",
        "colab": {}
      },
      "source": [
        "import category_encoders as ce "
      ],
      "execution_count": 0,
      "outputs": []
    },
    {
      "cell_type": "code",
      "metadata": {
        "id": "C623hPG0k__1",
        "colab_type": "code",
        "outputId": "19fd4c49-74eb-4756-d3bc-ef5e56dadf42",
        "colab": {
          "base_uri": "https://localhost:8080/",
          "height": 34
        }
      },
      "source": [
        "df_train.shape, df_test.shape"
      ],
      "execution_count": 29,
      "outputs": [
        {
          "output_type": "execute_result",
          "data": {
            "text/plain": [
              "((2507, 10), (644, 10))"
            ]
          },
          "metadata": {
            "tags": []
          },
          "execution_count": 29
        }
      ]
    },
    {
      "cell_type": "code",
      "metadata": {
        "id": "2ahBPBc2j0Wo",
        "colab_type": "code",
        "outputId": "c30a702e-f92f-40ee-a411-7c5979c44665",
        "colab": {
          "base_uri": "https://localhost:8080/",
          "height": 34
        }
      },
      "source": [
        "\n",
        "encoder = ce.one_hot.OneHotEncoder(use_cat_names=True)\n",
        "df_train = encoder.fit_transform(df_train)\n",
        "df_test = encoder.transform(df_test)\n",
        "df_train.shape, df_test.shape"
      ],
      "execution_count": 30,
      "outputs": [
        {
          "output_type": "execute_result",
          "data": {
            "text/plain": [
              "((2507, 29), (644, 29))"
            ]
          },
          "metadata": {
            "tags": []
          },
          "execution_count": 30
        }
      ]
    },
    {
      "cell_type": "code",
      "metadata": {
        "id": "sk81MY26oIjM",
        "colab_type": "code",
        "outputId": "d8294455-aaed-4f3f-fb1c-955d0b5091f5",
        "colab": {
          "base_uri": "https://localhost:8080/",
          "height": 241
        }
      },
      "source": [
        "df_train.sample(5)"
      ],
      "execution_count": 31,
      "outputs": [
        {
          "output_type": "execute_result",
          "data": {
            "text/html": [
              "<div>\n",
              "<style scoped>\n",
              "    .dataframe tbody tr th:only-of-type {\n",
              "        vertical-align: middle;\n",
              "    }\n",
              "\n",
              "    .dataframe tbody tr th {\n",
              "        vertical-align: top;\n",
              "    }\n",
              "\n",
              "    .dataframe thead th {\n",
              "        text-align: right;\n",
              "    }\n",
              "</style>\n",
              "<table border=\"1\" class=\"dataframe\">\n",
              "  <thead>\n",
              "    <tr style=\"text-align: right;\">\n",
              "      <th></th>\n",
              "      <th>BOROUGH_3.0</th>\n",
              "      <th>BOROUGH_4.0</th>\n",
              "      <th>BOROUGH_2.0</th>\n",
              "      <th>BOROUGH_5.0</th>\n",
              "      <th>BOROUGH_1.0</th>\n",
              "      <th>NEIGHBORHOOD_OTHER</th>\n",
              "      <th>NEIGHBORHOOD_FLUSHING-NORTH</th>\n",
              "      <th>NEIGHBORHOOD_BEDFORD STUYVESANT</th>\n",
              "      <th>NEIGHBORHOOD_FOREST HILLS</th>\n",
              "      <th>NEIGHBORHOOD_BOROUGH PARK</th>\n",
              "      <th>NEIGHBORHOOD_ASTORIA</th>\n",
              "      <th>RESIDENTIAL_UNITS</th>\n",
              "      <th>COMMERCIAL_UNITS</th>\n",
              "      <th>TOTAL_UNITS</th>\n",
              "      <th>LAND_SQUARE_FEET</th>\n",
              "      <th>GROSS_SQUARE_FEET</th>\n",
              "      <th>TAX_CLASS_AT_TIME_OF_SALE_1.0</th>\n",
              "      <th>BUILDING_CLASS_AT_TIME_OF_SALE_A9</th>\n",
              "      <th>BUILDING_CLASS_AT_TIME_OF_SALE_A1</th>\n",
              "      <th>BUILDING_CLASS_AT_TIME_OF_SALE_A5</th>\n",
              "      <th>BUILDING_CLASS_AT_TIME_OF_SALE_A0</th>\n",
              "      <th>BUILDING_CLASS_AT_TIME_OF_SALE_A2</th>\n",
              "      <th>BUILDING_CLASS_AT_TIME_OF_SALE_A3</th>\n",
              "      <th>BUILDING_CLASS_AT_TIME_OF_SALE_S1</th>\n",
              "      <th>BUILDING_CLASS_AT_TIME_OF_SALE_A4</th>\n",
              "      <th>BUILDING_CLASS_AT_TIME_OF_SALE_A6</th>\n",
              "      <th>BUILDING_CLASS_AT_TIME_OF_SALE_A8</th>\n",
              "      <th>BUILDING_CLASS_AT_TIME_OF_SALE_S0</th>\n",
              "      <th>SALE_PRICE</th>\n",
              "    </tr>\n",
              "  </thead>\n",
              "  <tbody>\n",
              "    <tr>\n",
              "      <th>14025</th>\n",
              "      <td>1</td>\n",
              "      <td>0</td>\n",
              "      <td>0</td>\n",
              "      <td>0</td>\n",
              "      <td>0</td>\n",
              "      <td>1</td>\n",
              "      <td>0</td>\n",
              "      <td>0</td>\n",
              "      <td>0</td>\n",
              "      <td>0</td>\n",
              "      <td>0</td>\n",
              "      <td>1.0</td>\n",
              "      <td>0.0</td>\n",
              "      <td>1.0</td>\n",
              "      <td>3250.0</td>\n",
              "      <td>860.0</td>\n",
              "      <td>1</td>\n",
              "      <td>0</td>\n",
              "      <td>0</td>\n",
              "      <td>0</td>\n",
              "      <td>0</td>\n",
              "      <td>1</td>\n",
              "      <td>0</td>\n",
              "      <td>0</td>\n",
              "      <td>0</td>\n",
              "      <td>0</td>\n",
              "      <td>0</td>\n",
              "      <td>0</td>\n",
              "      <td>585000.0</td>\n",
              "    </tr>\n",
              "    <tr>\n",
              "      <th>12531</th>\n",
              "      <td>0</td>\n",
              "      <td>0</td>\n",
              "      <td>0</td>\n",
              "      <td>1</td>\n",
              "      <td>0</td>\n",
              "      <td>1</td>\n",
              "      <td>0</td>\n",
              "      <td>0</td>\n",
              "      <td>0</td>\n",
              "      <td>0</td>\n",
              "      <td>0</td>\n",
              "      <td>1.0</td>\n",
              "      <td>0.0</td>\n",
              "      <td>1.0</td>\n",
              "      <td>1701.0</td>\n",
              "      <td>1240.0</td>\n",
              "      <td>1</td>\n",
              "      <td>0</td>\n",
              "      <td>0</td>\n",
              "      <td>1</td>\n",
              "      <td>0</td>\n",
              "      <td>0</td>\n",
              "      <td>0</td>\n",
              "      <td>0</td>\n",
              "      <td>0</td>\n",
              "      <td>0</td>\n",
              "      <td>0</td>\n",
              "      <td>0</td>\n",
              "      <td>460000.0</td>\n",
              "    </tr>\n",
              "    <tr>\n",
              "      <th>4872</th>\n",
              "      <td>1</td>\n",
              "      <td>0</td>\n",
              "      <td>0</td>\n",
              "      <td>0</td>\n",
              "      <td>0</td>\n",
              "      <td>1</td>\n",
              "      <td>0</td>\n",
              "      <td>0</td>\n",
              "      <td>0</td>\n",
              "      <td>0</td>\n",
              "      <td>0</td>\n",
              "      <td>1.0</td>\n",
              "      <td>0.0</td>\n",
              "      <td>1.0</td>\n",
              "      <td>1725.0</td>\n",
              "      <td>1726.0</td>\n",
              "      <td>1</td>\n",
              "      <td>0</td>\n",
              "      <td>1</td>\n",
              "      <td>0</td>\n",
              "      <td>0</td>\n",
              "      <td>0</td>\n",
              "      <td>0</td>\n",
              "      <td>0</td>\n",
              "      <td>0</td>\n",
              "      <td>0</td>\n",
              "      <td>0</td>\n",
              "      <td>0</td>\n",
              "      <td>991670.0</td>\n",
              "    </tr>\n",
              "    <tr>\n",
              "      <th>667</th>\n",
              "      <td>0</td>\n",
              "      <td>1</td>\n",
              "      <td>0</td>\n",
              "      <td>0</td>\n",
              "      <td>0</td>\n",
              "      <td>1</td>\n",
              "      <td>0</td>\n",
              "      <td>0</td>\n",
              "      <td>0</td>\n",
              "      <td>0</td>\n",
              "      <td>0</td>\n",
              "      <td>1.0</td>\n",
              "      <td>0.0</td>\n",
              "      <td>1.0</td>\n",
              "      <td>2000.0</td>\n",
              "      <td>864.0</td>\n",
              "      <td>1</td>\n",
              "      <td>0</td>\n",
              "      <td>0</td>\n",
              "      <td>1</td>\n",
              "      <td>0</td>\n",
              "      <td>0</td>\n",
              "      <td>0</td>\n",
              "      <td>0</td>\n",
              "      <td>0</td>\n",
              "      <td>0</td>\n",
              "      <td>0</td>\n",
              "      <td>0</td>\n",
              "      <td>685000.0</td>\n",
              "    </tr>\n",
              "    <tr>\n",
              "      <th>15021</th>\n",
              "      <td>0</td>\n",
              "      <td>1</td>\n",
              "      <td>0</td>\n",
              "      <td>0</td>\n",
              "      <td>0</td>\n",
              "      <td>1</td>\n",
              "      <td>0</td>\n",
              "      <td>0</td>\n",
              "      <td>0</td>\n",
              "      <td>0</td>\n",
              "      <td>0</td>\n",
              "      <td>1.0</td>\n",
              "      <td>0.0</td>\n",
              "      <td>1.0</td>\n",
              "      <td>4000.0</td>\n",
              "      <td>1150.0</td>\n",
              "      <td>1</td>\n",
              "      <td>0</td>\n",
              "      <td>0</td>\n",
              "      <td>0</td>\n",
              "      <td>0</td>\n",
              "      <td>1</td>\n",
              "      <td>0</td>\n",
              "      <td>0</td>\n",
              "      <td>0</td>\n",
              "      <td>0</td>\n",
              "      <td>0</td>\n",
              "      <td>0</td>\n",
              "      <td>997000.0</td>\n",
              "    </tr>\n",
              "  </tbody>\n",
              "</table>\n",
              "</div>"
            ],
            "text/plain": [
              "       BOROUGH_3.0  BOROUGH_4.0  ...  BUILDING_CLASS_AT_TIME_OF_SALE_S0  SALE_PRICE\n",
              "14025            1            0  ...                                  0    585000.0\n",
              "12531            0            0  ...                                  0    460000.0\n",
              "4872             1            0  ...                                  0    991670.0\n",
              "667              0            1  ...                                  0    685000.0\n",
              "15021            0            1  ...                                  0    997000.0\n",
              "\n",
              "[5 rows x 29 columns]"
            ]
          },
          "metadata": {
            "tags": []
          },
          "execution_count": 31
        }
      ]
    },
    {
      "cell_type": "code",
      "metadata": {
        "id": "9viHRZHnpAOA",
        "colab_type": "code",
        "outputId": "0176a4ae-8325-4b20-d789-d7bde153f4d2",
        "colab": {
          "base_uri": "https://localhost:8080/",
          "height": 527
        }
      },
      "source": [
        "# See all features are now numeric\n",
        "df_train.dtypes"
      ],
      "execution_count": 32,
      "outputs": [
        {
          "output_type": "execute_result",
          "data": {
            "text/plain": [
              "BOROUGH_3.0                            int64\n",
              "BOROUGH_4.0                            int64\n",
              "BOROUGH_2.0                            int64\n",
              "BOROUGH_5.0                            int64\n",
              "BOROUGH_1.0                            int64\n",
              "NEIGHBORHOOD_OTHER                     int64\n",
              "NEIGHBORHOOD_FLUSHING-NORTH            int64\n",
              "NEIGHBORHOOD_BEDFORD STUYVESANT        int64\n",
              "NEIGHBORHOOD_FOREST HILLS              int64\n",
              "NEIGHBORHOOD_BOROUGH PARK              int64\n",
              "NEIGHBORHOOD_ASTORIA                   int64\n",
              "RESIDENTIAL_UNITS                    float64\n",
              "COMMERCIAL_UNITS                     float64\n",
              "TOTAL_UNITS                          float64\n",
              "LAND_SQUARE_FEET                     float64\n",
              "GROSS_SQUARE_FEET                    float64\n",
              "TAX_CLASS_AT_TIME_OF_SALE_1.0          int64\n",
              "BUILDING_CLASS_AT_TIME_OF_SALE_A9      int64\n",
              "BUILDING_CLASS_AT_TIME_OF_SALE_A1      int64\n",
              "BUILDING_CLASS_AT_TIME_OF_SALE_A5      int64\n",
              "BUILDING_CLASS_AT_TIME_OF_SALE_A0      int64\n",
              "BUILDING_CLASS_AT_TIME_OF_SALE_A2      int64\n",
              "BUILDING_CLASS_AT_TIME_OF_SALE_A3      int64\n",
              "BUILDING_CLASS_AT_TIME_OF_SALE_S1      int64\n",
              "BUILDING_CLASS_AT_TIME_OF_SALE_A4      int64\n",
              "BUILDING_CLASS_AT_TIME_OF_SALE_A6      int64\n",
              "BUILDING_CLASS_AT_TIME_OF_SALE_A8      int64\n",
              "BUILDING_CLASS_AT_TIME_OF_SALE_S0      int64\n",
              "SALE_PRICE                           float64\n",
              "dtype: object"
            ]
          },
          "metadata": {
            "tags": []
          },
          "execution_count": 32
        }
      ]
    },
    {
      "cell_type": "code",
      "metadata": {
        "id": "6wds2G0gpe04",
        "colab_type": "code",
        "colab": {}
      },
      "source": [
        "from sklearn.feature_selection import SelectKBest, f_regression\n",
        "from sklearn.metrics import mean_absolute_error\n",
        "from sklearn.linear_model import LinearRegression\n",
        "\n",
        "def findKBest(df_train, df_test, target, max_k):\n",
        "  '''\n",
        "  Find the best K value\n",
        "\n",
        "  Inputs:\n",
        "  df_train - train data (including target feature)\n",
        "  df_test - test data\n",
        "  target - the column with the target values\n",
        "  max_k - the maximum we want to try\n",
        "\n",
        "  Outputs:\n",
        "  Table of k values and metrics\n",
        "  The best k value by minimum MAE\n",
        "  '''\n",
        "\n",
        "  # Split features and target in training and testing data\n",
        "  X_train = df_train.drop(target, axis=1)\n",
        "  y_train = df_train[target]\n",
        "  X_test = df_test.drop(target, axis=1)\n",
        "  y_test = df_test[target]\n",
        "\n",
        "  # Loop through values of k from 1 to max_k\n",
        "  metrics = []\n",
        "  kvalues = []\n",
        "  minimum = np.infty\n",
        "  for k in range(1, max_k):\n",
        "\n",
        "    # Fit and transform SelectKBest on training and test data\n",
        "    selector = SelectKBest(score_func=f_regression, k=k)\n",
        "    X_train_kbest = selector.fit_transform(X_train, y_train)\n",
        "    X_test_kbest = selector.transform(X_test)\n",
        "\n",
        "    # Train model on the selected features\n",
        "    model = LinearRegression()\n",
        "    model.fit(X_train_kbest, y_train)\n",
        "    y_predict = model.predict(X_test_kbest)\n",
        "\n",
        "    # Calculate MAE and store results. Find minimums.\n",
        "    mae = mean_absolute_error(y_test, y_predict)\n",
        "    if mae < minimum:\n",
        "      minimum = mae\n",
        "      best_k = k\n",
        "    metrics.append(mae)\n",
        "    kvalues.append(k)\n",
        "\n",
        "  metrics_table = pd.DataFrame({'K':kvalues, 'MAE':metrics}, index=range(max_k-1))\n",
        "  return metrics_table, minimum, best_k\n"
      ],
      "execution_count": 0,
      "outputs": []
    },
    {
      "cell_type": "code",
      "metadata": {
        "id": "q4osXwIOuHtF",
        "colab_type": "code",
        "outputId": "5a633d8b-7180-410a-e7c3-98fc46bad48a",
        "colab": {
          "base_uri": "https://localhost:8080/",
          "height": 1000
        }
      },
      "source": [
        "# See what result our data gets\n",
        "results = findKBest(df_train, df_test, 'SALE_PRICE', df_train.shape[1])\n",
        "print(f'\\n\\nbest k = {results[2]}\\nlowest mae = {results[1]}\\n\\n')\n",
        "results[0]\n",
        "\n"
      ],
      "execution_count": 34,
      "outputs": [
        {
          "output_type": "stream",
          "text": [
            "\n",
            "\n",
            "best k = 19\n",
            "lowest mae = 166550.72137249738\n",
            "\n",
            "\n"
          ],
          "name": "stdout"
        },
        {
          "output_type": "execute_result",
          "data": {
            "text/html": [
              "<div>\n",
              "<style scoped>\n",
              "    .dataframe tbody tr th:only-of-type {\n",
              "        vertical-align: middle;\n",
              "    }\n",
              "\n",
              "    .dataframe tbody tr th {\n",
              "        vertical-align: top;\n",
              "    }\n",
              "\n",
              "    .dataframe thead th {\n",
              "        text-align: right;\n",
              "    }\n",
              "</style>\n",
              "<table border=\"1\" class=\"dataframe\">\n",
              "  <thead>\n",
              "    <tr style=\"text-align: right;\">\n",
              "      <th></th>\n",
              "      <th>K</th>\n",
              "      <th>MAE</th>\n",
              "    </tr>\n",
              "  </thead>\n",
              "  <tbody>\n",
              "    <tr>\n",
              "      <th>0</th>\n",
              "      <td>1</td>\n",
              "      <td>183640.585801</td>\n",
              "    </tr>\n",
              "    <tr>\n",
              "      <th>1</th>\n",
              "      <td>2</td>\n",
              "      <td>179554.768430</td>\n",
              "    </tr>\n",
              "    <tr>\n",
              "      <th>2</th>\n",
              "      <td>3</td>\n",
              "      <td>179291.466583</td>\n",
              "    </tr>\n",
              "    <tr>\n",
              "      <th>3</th>\n",
              "      <td>4</td>\n",
              "      <td>170482.971122</td>\n",
              "    </tr>\n",
              "    <tr>\n",
              "      <th>4</th>\n",
              "      <td>5</td>\n",
              "      <td>169982.368482</td>\n",
              "    </tr>\n",
              "    <tr>\n",
              "      <th>5</th>\n",
              "      <td>6</td>\n",
              "      <td>168638.311124</td>\n",
              "    </tr>\n",
              "    <tr>\n",
              "      <th>6</th>\n",
              "      <td>7</td>\n",
              "      <td>168301.526551</td>\n",
              "    </tr>\n",
              "    <tr>\n",
              "      <th>7</th>\n",
              "      <td>8</td>\n",
              "      <td>167193.109389</td>\n",
              "    </tr>\n",
              "    <tr>\n",
              "      <th>8</th>\n",
              "      <td>9</td>\n",
              "      <td>167506.409784</td>\n",
              "    </tr>\n",
              "    <tr>\n",
              "      <th>9</th>\n",
              "      <td>10</td>\n",
              "      <td>167477.989631</td>\n",
              "    </tr>\n",
              "    <tr>\n",
              "      <th>10</th>\n",
              "      <td>11</td>\n",
              "      <td>168464.958874</td>\n",
              "    </tr>\n",
              "    <tr>\n",
              "      <th>11</th>\n",
              "      <td>12</td>\n",
              "      <td>167768.600378</td>\n",
              "    </tr>\n",
              "    <tr>\n",
              "      <th>12</th>\n",
              "      <td>13</td>\n",
              "      <td>167613.480747</td>\n",
              "    </tr>\n",
              "    <tr>\n",
              "      <th>13</th>\n",
              "      <td>14</td>\n",
              "      <td>167493.805149</td>\n",
              "    </tr>\n",
              "    <tr>\n",
              "      <th>14</th>\n",
              "      <td>15</td>\n",
              "      <td>166789.724485</td>\n",
              "    </tr>\n",
              "    <tr>\n",
              "      <th>15</th>\n",
              "      <td>16</td>\n",
              "      <td>166782.343167</td>\n",
              "    </tr>\n",
              "    <tr>\n",
              "      <th>16</th>\n",
              "      <td>17</td>\n",
              "      <td>166782.343167</td>\n",
              "    </tr>\n",
              "    <tr>\n",
              "      <th>17</th>\n",
              "      <td>18</td>\n",
              "      <td>166782.343167</td>\n",
              "    </tr>\n",
              "    <tr>\n",
              "      <th>18</th>\n",
              "      <td>19</td>\n",
              "      <td>166550.721372</td>\n",
              "    </tr>\n",
              "    <tr>\n",
              "      <th>19</th>\n",
              "      <td>20</td>\n",
              "      <td>167808.513784</td>\n",
              "    </tr>\n",
              "    <tr>\n",
              "      <th>20</th>\n",
              "      <td>21</td>\n",
              "      <td>168005.252319</td>\n",
              "    </tr>\n",
              "    <tr>\n",
              "      <th>21</th>\n",
              "      <td>22</td>\n",
              "      <td>167808.235085</td>\n",
              "    </tr>\n",
              "    <tr>\n",
              "      <th>22</th>\n",
              "      <td>23</td>\n",
              "      <td>167543.631436</td>\n",
              "    </tr>\n",
              "    <tr>\n",
              "      <th>23</th>\n",
              "      <td>24</td>\n",
              "      <td>167624.778301</td>\n",
              "    </tr>\n",
              "    <tr>\n",
              "      <th>24</th>\n",
              "      <td>25</td>\n",
              "      <td>167583.390423</td>\n",
              "    </tr>\n",
              "    <tr>\n",
              "      <th>25</th>\n",
              "      <td>26</td>\n",
              "      <td>167583.390423</td>\n",
              "    </tr>\n",
              "    <tr>\n",
              "      <th>26</th>\n",
              "      <td>27</td>\n",
              "      <td>167583.390423</td>\n",
              "    </tr>\n",
              "    <tr>\n",
              "      <th>27</th>\n",
              "      <td>28</td>\n",
              "      <td>167583.390423</td>\n",
              "    </tr>\n",
              "  </tbody>\n",
              "</table>\n",
              "</div>"
            ],
            "text/plain": [
              "     K            MAE\n",
              "0    1  183640.585801\n",
              "1    2  179554.768430\n",
              "2    3  179291.466583\n",
              "3    4  170482.971122\n",
              "4    5  169982.368482\n",
              "5    6  168638.311124\n",
              "6    7  168301.526551\n",
              "7    8  167193.109389\n",
              "8    9  167506.409784\n",
              "9   10  167477.989631\n",
              "10  11  168464.958874\n",
              "11  12  167768.600378\n",
              "12  13  167613.480747\n",
              "13  14  167493.805149\n",
              "14  15  166789.724485\n",
              "15  16  166782.343167\n",
              "16  17  166782.343167\n",
              "17  18  166782.343167\n",
              "18  19  166550.721372\n",
              "19  20  167808.513784\n",
              "20  21  168005.252319\n",
              "21  22  167808.235085\n",
              "22  23  167543.631436\n",
              "23  24  167624.778301\n",
              "24  25  167583.390423\n",
              "25  26  167583.390423\n",
              "26  27  167583.390423\n",
              "27  28  167583.390423"
            ]
          },
          "metadata": {
            "tags": []
          },
          "execution_count": 34
        }
      ]
    },
    {
      "cell_type": "code",
      "metadata": {
        "id": "gJsBzwx769VE",
        "colab_type": "code",
        "colab": {
          "base_uri": "https://localhost:8080/",
          "height": 295
        },
        "outputId": "010a8172-9178-4003-ecd6-665b557235cd"
      },
      "source": [
        "plt.plot(results[0]['K'], results[0]['MAE'])\n",
        "plt.title('Select K Best')\n",
        "plt.xlabel('K')\n",
        "plt.ylabel('MAE');"
      ],
      "execution_count": 35,
      "outputs": [
        {
          "output_type": "display_data",
          "data": {
            "image/png": "[encoded data removed]",
            "text/plain": [
              "<Figure size 432x288 with 1 Axes>"
            ]
          },
          "metadata": {
            "tags": [],
            "needs_background": "light"
          }
        }
      ]
    },
    {
      "cell_type": "code",
      "metadata": {
        "id": "R2u7DNaX7Yfj",
        "colab_type": "code",
        "outputId": "2b9584fa-a878-46c4-eee5-6531e87a94da",
        "colab": {
          "base_uri": "https://localhost:8080/",
          "height": 340
        }
      },
      "source": [
        "# Use our best suggestion on K value\n",
        "X_train = df_train.drop('SALE_PRICE', axis=1)\n",
        "X_test = df_test.drop('SALE_PRICE', axis = 1)\n",
        "y_train = df_train['SALE_PRICE']\n",
        "y_test = df_test['SALE_PRICE']\n",
        "\n",
        "selector = SelectKBest(score_func=f_regression, k=results[2])\n",
        "X_train_kbest = selector.fit_transform(X_train, y_train)\n",
        "X_test_kbest = selector.transform(X_test)\n",
        "\n",
        "columns_kbest = X_train.columns[selector.get_support()].tolist()\n",
        "columns_kbest"
      ],
      "execution_count": 53,
      "outputs": [
        {
          "output_type": "execute_result",
          "data": {
            "text/plain": [
              "['BOROUGH_3.0',\n",
              " 'BOROUGH_4.0',\n",
              " 'BOROUGH_2.0',\n",
              " 'BOROUGH_5.0',\n",
              " 'NEIGHBORHOOD_OTHER',\n",
              " 'NEIGHBORHOOD_FLUSHING-NORTH',\n",
              " 'NEIGHBORHOOD_FOREST HILLS',\n",
              " 'NEIGHBORHOOD_BOROUGH PARK',\n",
              " 'RESIDENTIAL_UNITS',\n",
              " 'COMMERCIAL_UNITS',\n",
              " 'TOTAL_UNITS',\n",
              " 'LAND_SQUARE_FEET',\n",
              " 'GROSS_SQUARE_FEET',\n",
              " 'BUILDING_CLASS_AT_TIME_OF_SALE_A5',\n",
              " 'BUILDING_CLASS_AT_TIME_OF_SALE_A3',\n",
              " 'BUILDING_CLASS_AT_TIME_OF_SALE_S1',\n",
              " 'BUILDING_CLASS_AT_TIME_OF_SALE_A6',\n",
              " 'BUILDING_CLASS_AT_TIME_OF_SALE_A8',\n",
              " 'BUILDING_CLASS_AT_TIME_OF_SALE_S0']"
            ]
          },
          "metadata": {
            "tags": []
          },
          "execution_count": 53
        }
      ]
    },
    {
      "cell_type": "code",
      "metadata": {
        "id": "MFwwjfm4DAMN",
        "colab_type": "code",
        "colab": {}
      },
      "source": [
        "from sklearn.linear_model import Ridge, RidgeCV\n",
        "\n",
        "def findAlpha(df_train, df_test, target, alpha_range):\n",
        "  '''\n",
        "  Find the optimum alpha for ridge regression\n",
        "  Inputs:\n",
        "  df_train - train data (incl. target column)\n",
        "  df_test - test data\n",
        "  target - column with target value\n",
        "  alpha_range - a range to values to try\n",
        "\n",
        "  Output:\n",
        "  Tabular results, and 'best' choice given minimum error\n",
        "  '''\n",
        "\n",
        "  # Split into features and target\n",
        "  X_train = df_train.drop(target, axis=1)\n",
        "  y_train = df_train[target]\n",
        "  X_test = df_test.drop(target, axis=1)\n",
        "  y_test = df_test[target]\n",
        "\n",
        "  # Loop through alpha values and find 'best'\n",
        "  maes = []\n",
        "  alphas = []\n",
        "  minimum = np.infty\n",
        "  best_alpha = 0\n",
        "  for i, alpha in enumerate(alpha_range):\n",
        "    # Construct model\n",
        "    model = Ridge(alpha=alpha, normalize=True)\n",
        "    model.fit(X_train, y_train)\n",
        "\n",
        "    # Predict test data and obtain results\n",
        "    y_predict_r = model.predict(X_test)\n",
        "    mae = mean_absolute_error(y_test, y_predict_r)\n",
        "    if mae < minimum:\n",
        "      minimum = mae\n",
        "      best_alpha = alpha\n",
        "    maes.append(mae)\n",
        "    alphas.append(alpha)\n",
        "\n",
        "  metrics_table = pd.DataFrame({'alpha':alphas, 'MAE':maes}, \n",
        "                               index=range(len(alpha_range)))\n",
        "  return metrics_table, minimum, best_alpha"
      ],
      "execution_count": 0,
      "outputs": []
    },
    {
      "cell_type": "code",
      "metadata": {
        "id": "7hX6qDLxmD7L",
        "colab_type": "code",
        "outputId": "4e47d0d9-0dd6-4df2-bca4-4ef49ca046c6",
        "colab": {
          "base_uri": "https://localhost:8080/",
          "height": 337
        }
      },
      "source": [
        "# Try our data\n",
        "# For the function happy, SALE_PRICE needs to go with our chosen features\n",
        "columns_kbest2 = columns_kbest.copy()\n",
        "columns_kbest2.append('SALE_PRICE')  \n",
        "\n",
        "alphas = [0.001, 0.01, .1, 1.0, 10.0, 100.0]\n",
        "result1 = findAlpha(df_train[columns_kbest2], \n",
        "                    df_test[columns_kbest2], 'SALE_PRICE', \n",
        "                    alphas)\n",
        "print(f'\\n\\nBest alpha = {result1[2]}\\nVariance = {result1[1]}\\n\\n')\n",
        "result1[0]\n",
        "\n"
      ],
      "execution_count": 55,
      "outputs": [
        {
          "output_type": "stream",
          "text": [
            "\n",
            "\n",
            "Best alpha = 0.001\n",
            "Variance = 166646.74963689534\n",
            "\n",
            "\n"
          ],
          "name": "stdout"
        },
        {
          "output_type": "execute_result",
          "data": {
            "text/html": [
              "<div>\n",
              "<style scoped>\n",
              "    .dataframe tbody tr th:only-of-type {\n",
              "        vertical-align: middle;\n",
              "    }\n",
              "\n",
              "    .dataframe tbody tr th {\n",
              "        vertical-align: top;\n",
              "    }\n",
              "\n",
              "    .dataframe thead th {\n",
              "        text-align: right;\n",
              "    }\n",
              "</style>\n",
              "<table border=\"1\" class=\"dataframe\">\n",
              "  <thead>\n",
              "    <tr style=\"text-align: right;\">\n",
              "      <th></th>\n",
              "      <th>alpha</th>\n",
              "      <th>MAE</th>\n",
              "    </tr>\n",
              "  </thead>\n",
              "  <tbody>\n",
              "    <tr>\n",
              "      <th>0</th>\n",
              "      <td>0.001</td>\n",
              "      <td>166646.749637</td>\n",
              "    </tr>\n",
              "    <tr>\n",
              "      <th>1</th>\n",
              "      <td>0.010</td>\n",
              "      <td>166668.384993</td>\n",
              "    </tr>\n",
              "    <tr>\n",
              "      <th>2</th>\n",
              "      <td>0.100</td>\n",
              "      <td>167104.887576</td>\n",
              "    </tr>\n",
              "    <tr>\n",
              "      <th>3</th>\n",
              "      <td>1.000</td>\n",
              "      <td>175226.294770</td>\n",
              "    </tr>\n",
              "    <tr>\n",
              "      <th>4</th>\n",
              "      <td>10.000</td>\n",
              "      <td>201172.442082</td>\n",
              "    </tr>\n",
              "    <tr>\n",
              "      <th>5</th>\n",
              "      <td>100.000</td>\n",
              "      <td>210275.900867</td>\n",
              "    </tr>\n",
              "  </tbody>\n",
              "</table>\n",
              "</div>"
            ],
            "text/plain": [
              "     alpha            MAE\n",
              "0    0.001  166646.749637\n",
              "1    0.010  166668.384993\n",
              "2    0.100  167104.887576\n",
              "3    1.000  175226.294770\n",
              "4   10.000  201172.442082\n",
              "5  100.000  210275.900867"
            ]
          },
          "metadata": {
            "tags": []
          },
          "execution_count": 55
        }
      ]
    },
    {
      "cell_type": "code",
      "metadata": {
        "id": "ku41yUVWBGvH",
        "colab_type": "code",
        "colab": {
          "base_uri": "https://localhost:8080/",
          "height": 295
        },
        "outputId": "99161468-7220-49f3-f545-280978f2b884"
      },
      "source": [
        "plt.plot(result1[0]['alpha'], result1[0]['MAE'], 'x-')\n",
        "plt.title('Find best alpha')\n",
        "plt.xlabel('Alpha')\n",
        "plt.ylabel('MAE');"
      ],
      "execution_count": 56,
      "outputs": [
        {
          "output_type": "display_data",
          "data": {
            "image/png": "[encoded data removed]",
            "text/plain": [
              "<Figure size 432x288 with 1 Axes>"
            ]
          },
          "metadata": {
            "tags": [],
            "needs_background": "light"
          }
        }
      ]
    },
    {
      "cell_type": "markdown",
      "metadata": {
        "id": "MUy6BUSQAI1N",
        "colab_type": "text"
      },
      "source": [
        "This will compare the metrics for linear vs. ridge regression, for both the training and testing data."
      ]
    },
    {
      "cell_type": "code",
      "metadata": {
        "id": "Ha2RTdviDBrO",
        "colab_type": "code",
        "colab": {}
      },
      "source": [
        "def compareRegressions(df_train, df_test, target, alpha):\n",
        "\n",
        "  X_train = df_train.drop(target, axis=1)\n",
        "  X_test = df_test.drop(target, axis=1)\n",
        "  y_train = df_train[target]\n",
        "  y_test = df_test[target]\n",
        "\n",
        "  output = {}\n",
        "\n",
        "  # Construct ridge regression\n",
        "  model3 = Ridge(alpha, normalize=True)\n",
        "  model3.fit(X_train, y_train)\n",
        "\n",
        "  # Get metrics for training and testing data\n",
        "  y_predict_rtrain = model3.predict(X_train)\n",
        "  mae_rtrain = mean_absolute_error(y_train, y_predict_rtrain)\n",
        "  y_predict_rtest = model3.predict(X_test)\n",
        "  mae_rtest = mean_absolute_error(y_test, y_predict_rtest)\n",
        "  output['ridge'] = [mae_rtrain, mae_rtest]\n",
        "\n",
        "  # Linear regression\n",
        "  model4 = LinearRegression()\n",
        "  model4.fit(X_train, y_train)\n",
        "\n",
        "  # Get metrics for training and testing data\n",
        "  y_predict_ltrain = model4.predict(X_train)\n",
        "  mae_ltrain = mean_absolute_error(y_train, y_predict_ltrain)\n",
        "  y_predict_ltest = model4.predict(X_test)\n",
        "  mae_ltest = mean_absolute_error(y_test, y_predict_ltest)\n",
        "  output['linear'] = [mae_ltrain, mae_ltest]\n",
        "\n",
        "  return pd.DataFrame(output, index=['train', 'test'])\n"
      ],
      "execution_count": 0,
      "outputs": []
    },
    {
      "cell_type": "code",
      "metadata": {
        "id": "sguCAYkeoYBD",
        "colab_type": "code",
        "colab": {
          "base_uri": "https://localhost:8080/",
          "height": 111
        },
        "outputId": "38e679e8-f902-45da-dd91-ea9b8b99d1b0"
      },
      "source": [
        "compareRegressions(df_train[columns_kbest2], df_test[columns_kbest2], 'SALE_PRICE',\n",
        "                   result1[2])\n"
      ],
      "execution_count": 58,
      "outputs": [
        {
          "output_type": "execute_result",
          "data": {
            "text/html": [
              "<div>\n",
              "<style scoped>\n",
              "    .dataframe tbody tr th:only-of-type {\n",
              "        vertical-align: middle;\n",
              "    }\n",
              "\n",
              "    .dataframe tbody tr th {\n",
              "        vertical-align: top;\n",
              "    }\n",
              "\n",
              "    .dataframe thead th {\n",
              "        text-align: right;\n",
              "    }\n",
              "</style>\n",
              "<table border=\"1\" class=\"dataframe\">\n",
              "  <thead>\n",
              "    <tr style=\"text-align: right;\">\n",
              "      <th></th>\n",
              "      <th>ridge</th>\n",
              "      <th>linear</th>\n",
              "    </tr>\n",
              "  </thead>\n",
              "  <tbody>\n",
              "    <tr>\n",
              "      <th>train</th>\n",
              "      <td>164771.453516</td>\n",
              "      <td>164720.811303</td>\n",
              "    </tr>\n",
              "    <tr>\n",
              "      <th>test</th>\n",
              "      <td>166646.749637</td>\n",
              "      <td>166550.721372</td>\n",
              "    </tr>\n",
              "  </tbody>\n",
              "</table>\n",
              "</div>"
            ],
            "text/plain": [
              "               ridge         linear\n",
              "train  164771.453516  164720.811303\n",
              "test   166646.749637  166550.721372"
            ]
          },
          "metadata": {
            "tags": []
          },
          "execution_count": 58
        }
      ]
    },
    {
      "cell_type": "markdown",
      "metadata": {
        "id": "u5HHKcmp3O1O",
        "colab_type": "text"
      },
      "source": [
        "Not being sure how to choose the optimal lambda (alpha), we can also compare a range of values."
      ]
    },
    {
      "cell_type": "code",
      "metadata": {
        "id": "hTcRjRaIqUEA",
        "colab_type": "code",
        "colab": {
          "base_uri": "https://localhost:8080/",
          "height": 989
        },
        "outputId": "f5794129-f1af-4f0b-db88-954902b70a31"
      },
      "source": [
        "from IPython.display import display\n",
        "\n",
        "data = {}\n",
        "for alpha in [0.001, 0.01, 0.1, 1.0, 10.0, 100.0]:\n",
        "  output = compareRegressions(df_train[columns_kbest2], df_test[columns_kbest2], \n",
        "                              'SALE_PRICE', alpha)\n",
        "  print(f'Alpha = {alpha}')\n",
        "  display(output)\n",
        "  print('\\n\\n')\n"
      ],
      "execution_count": 59,
      "outputs": [
        {
          "output_type": "stream",
          "text": [
            "Alpha = 0.001\n"
          ],
          "name": "stdout"
        },
        {
          "output_type": "display_data",
          "data": {
            "text/html": [
              "<div>\n",
              "<style scoped>\n",
              "    .dataframe tbody tr th:only-of-type {\n",
              "        vertical-align: middle;\n",
              "    }\n",
              "\n",
              "    .dataframe tbody tr th {\n",
              "        vertical-align: top;\n",
              "    }\n",
              "\n",
              "    .dataframe thead th {\n",
              "        text-align: right;\n",
              "    }\n",
              "</style>\n",
              "<table border=\"1\" class=\"dataframe\">\n",
              "  <thead>\n",
              "    <tr style=\"text-align: right;\">\n",
              "      <th></th>\n",
              "      <th>ridge</th>\n",
              "      <th>linear</th>\n",
              "    </tr>\n",
              "  </thead>\n",
              "  <tbody>\n",
              "    <tr>\n",
              "      <th>train</th>\n",
              "      <td>164771.453516</td>\n",
              "      <td>164720.811303</td>\n",
              "    </tr>\n",
              "    <tr>\n",
              "      <th>test</th>\n",
              "      <td>166646.749637</td>\n",
              "      <td>166550.721372</td>\n",
              "    </tr>\n",
              "  </tbody>\n",
              "</table>\n",
              "</div>"
            ],
            "text/plain": [
              "               ridge         linear\n",
              "train  164771.453516  164720.811303\n",
              "test   166646.749637  166550.721372"
            ]
          },
          "metadata": {
            "tags": []
          }
        },
        {
          "output_type": "stream",
          "text": [
            "\n",
            "\n",
            "\n",
            "Alpha = 0.01\n"
          ],
          "name": "stdout"
        },
        {
          "output_type": "display_data",
          "data": {
            "text/html": [
              "<div>\n",
              "<style scoped>\n",
              "    .dataframe tbody tr th:only-of-type {\n",
              "        vertical-align: middle;\n",
              "    }\n",
              "\n",
              "    .dataframe tbody tr th {\n",
              "        vertical-align: top;\n",
              "    }\n",
              "\n",
              "    .dataframe thead th {\n",
              "        text-align: right;\n",
              "    }\n",
              "</style>\n",
              "<table border=\"1\" class=\"dataframe\">\n",
              "  <thead>\n",
              "    <tr style=\"text-align: right;\">\n",
              "      <th></th>\n",
              "      <th>ridge</th>\n",
              "      <th>linear</th>\n",
              "    </tr>\n",
              "  </thead>\n",
              "  <tbody>\n",
              "    <tr>\n",
              "      <th>train</th>\n",
              "      <td>164743.093247</td>\n",
              "      <td>164720.811303</td>\n",
              "    </tr>\n",
              "    <tr>\n",
              "      <th>test</th>\n",
              "      <td>166668.384993</td>\n",
              "      <td>166550.721372</td>\n",
              "    </tr>\n",
              "  </tbody>\n",
              "</table>\n",
              "</div>"
            ],
            "text/plain": [
              "               ridge         linear\n",
              "train  164743.093247  164720.811303\n",
              "test   166668.384993  166550.721372"
            ]
          },
          "metadata": {
            "tags": []
          }
        },
        {
          "output_type": "stream",
          "text": [
            "\n",
            "\n",
            "\n",
            "Alpha = 0.1\n"
          ],
          "name": "stdout"
        },
        {
          "output_type": "display_data",
          "data": {
            "text/html": [
              "<div>\n",
              "<style scoped>\n",
              "    .dataframe tbody tr th:only-of-type {\n",
              "        vertical-align: middle;\n",
              "    }\n",
              "\n",
              "    .dataframe tbody tr th {\n",
              "        vertical-align: top;\n",
              "    }\n",
              "\n",
              "    .dataframe thead th {\n",
              "        text-align: right;\n",
              "    }\n",
              "</style>\n",
              "<table border=\"1\" class=\"dataframe\">\n",
              "  <thead>\n",
              "    <tr style=\"text-align: right;\">\n",
              "      <th></th>\n",
              "      <th>ridge</th>\n",
              "      <th>linear</th>\n",
              "    </tr>\n",
              "  </thead>\n",
              "  <tbody>\n",
              "    <tr>\n",
              "      <th>train</th>\n",
              "      <td>164567.194031</td>\n",
              "      <td>164720.811303</td>\n",
              "    </tr>\n",
              "    <tr>\n",
              "      <th>test</th>\n",
              "      <td>167104.887576</td>\n",
              "      <td>166550.721372</td>\n",
              "    </tr>\n",
              "  </tbody>\n",
              "</table>\n",
              "</div>"
            ],
            "text/plain": [
              "               ridge         linear\n",
              "train  164567.194031  164720.811303\n",
              "test   167104.887576  166550.721372"
            ]
          },
          "metadata": {
            "tags": []
          }
        },
        {
          "output_type": "stream",
          "text": [
            "\n",
            "\n",
            "\n",
            "Alpha = 1.0\n"
          ],
          "name": "stdout"
        },
        {
          "output_type": "display_data",
          "data": {
            "text/html": [
              "<div>\n",
              "<style scoped>\n",
              "    .dataframe tbody tr th:only-of-type {\n",
              "        vertical-align: middle;\n",
              "    }\n",
              "\n",
              "    .dataframe tbody tr th {\n",
              "        vertical-align: top;\n",
              "    }\n",
              "\n",
              "    .dataframe thead th {\n",
              "        text-align: right;\n",
              "    }\n",
              "</style>\n",
              "<table border=\"1\" class=\"dataframe\">\n",
              "  <thead>\n",
              "    <tr style=\"text-align: right;\">\n",
              "      <th></th>\n",
              "      <th>ridge</th>\n",
              "      <th>linear</th>\n",
              "    </tr>\n",
              "  </thead>\n",
              "  <tbody>\n",
              "    <tr>\n",
              "      <th>train</th>\n",
              "      <td>173626.841647</td>\n",
              "      <td>164720.811303</td>\n",
              "    </tr>\n",
              "    <tr>\n",
              "      <th>test</th>\n",
              "      <td>175226.294770</td>\n",
              "      <td>166550.721372</td>\n",
              "    </tr>\n",
              "  </tbody>\n",
              "</table>\n",
              "</div>"
            ],
            "text/plain": [
              "               ridge         linear\n",
              "train  173626.841647  164720.811303\n",
              "test   175226.294770  166550.721372"
            ]
          },
          "metadata": {
            "tags": []
          }
        },
        {
          "output_type": "stream",
          "text": [
            "\n",
            "\n",
            "\n",
            "Alpha = 10.0\n"
          ],
          "name": "stdout"
        },
        {
          "output_type": "display_data",
          "data": {
            "text/html": [
              "<div>\n",
              "<style scoped>\n",
              "    .dataframe tbody tr th:only-of-type {\n",
              "        vertical-align: middle;\n",
              "    }\n",
              "\n",
              "    .dataframe tbody tr th {\n",
              "        vertical-align: top;\n",
              "    }\n",
              "\n",
              "    .dataframe thead th {\n",
              "        text-align: right;\n",
              "    }\n",
              "</style>\n",
              "<table border=\"1\" class=\"dataframe\">\n",
              "  <thead>\n",
              "    <tr style=\"text-align: right;\">\n",
              "      <th></th>\n",
              "      <th>ridge</th>\n",
              "      <th>linear</th>\n",
              "    </tr>\n",
              "  </thead>\n",
              "  <tbody>\n",
              "    <tr>\n",
              "      <th>train</th>\n",
              "      <td>203238.644824</td>\n",
              "      <td>164720.811303</td>\n",
              "    </tr>\n",
              "    <tr>\n",
              "      <th>test</th>\n",
              "      <td>201172.442082</td>\n",
              "      <td>166550.721372</td>\n",
              "    </tr>\n",
              "  </tbody>\n",
              "</table>\n",
              "</div>"
            ],
            "text/plain": [
              "               ridge         linear\n",
              "train  203238.644824  164720.811303\n",
              "test   201172.442082  166550.721372"
            ]
          },
          "metadata": {
            "tags": []
          }
        },
        {
          "output_type": "stream",
          "text": [
            "\n",
            "\n",
            "\n",
            "Alpha = 100.0\n"
          ],
          "name": "stdout"
        },
        {
          "output_type": "display_data",
          "data": {
            "text/html": [
              "<div>\n",
              "<style scoped>\n",
              "    .dataframe tbody tr th:only-of-type {\n",
              "        vertical-align: middle;\n",
              "    }\n",
              "\n",
              "    .dataframe tbody tr th {\n",
              "        vertical-align: top;\n",
              "    }\n",
              "\n",
              "    .dataframe thead th {\n",
              "        text-align: right;\n",
              "    }\n",
              "</style>\n",
              "<table border=\"1\" class=\"dataframe\">\n",
              "  <thead>\n",
              "    <tr style=\"text-align: right;\">\n",
              "      <th></th>\n",
              "      <th>ridge</th>\n",
              "      <th>linear</th>\n",
              "    </tr>\n",
              "  </thead>\n",
              "  <tbody>\n",
              "    <tr>\n",
              "      <th>train</th>\n",
              "      <td>213300.417070</td>\n",
              "      <td>164720.811303</td>\n",
              "    </tr>\n",
              "    <tr>\n",
              "      <th>test</th>\n",
              "      <td>210275.900867</td>\n",
              "      <td>166550.721372</td>\n",
              "    </tr>\n",
              "  </tbody>\n",
              "</table>\n",
              "</div>"
            ],
            "text/plain": [
              "               ridge         linear\n",
              "train  213300.417070  164720.811303\n",
              "test   210275.900867  166550.721372"
            ]
          },
          "metadata": {
            "tags": []
          }
        },
        {
          "output_type": "stream",
          "text": [
            "\n",
            "\n",
            "\n"
          ],
          "name": "stdout"
        }
      ]
    },
    {
      "cell_type": "markdown",
      "metadata": {
        "id": "dMV1HgcrLyAl",
        "colab_type": "text"
      },
      "source": [
        "## Ah-ha! \n",
        "\n",
        "Use GridSearchCV to find the best alpha for ridge regression."
      ]
    },
    {
      "cell_type": "code",
      "metadata": {
        "id": "inkMrm64H3iX",
        "colab_type": "code",
        "colab": {
          "base_uri": "https://localhost:8080/",
          "height": 51
        },
        "outputId": "cae26811-4e05-4cc1-e4b6-47c985be4ce9"
      },
      "source": [
        "from sklearn.model_selection import GridSearchCV\n",
        "\n",
        "alphas = [0.001, 0.01, 0.1, 1, 1.0, 10.0, 100.0]\n",
        "model = Ridge()\n",
        "grid = GridSearchCV(estimator=model, param_grid=dict(alpha=alphas))\n",
        "grid.fit(X_train[columns_kbest], y_train)\n",
        "\n",
        "print(f'Best score = {grid.best_score_}\\nBest alpha = {grid.best_estimator_.alpha}')"
      ],
      "execution_count": 61,
      "outputs": [
        {
          "output_type": "stream",
          "text": [
            "Best score = 0.362123982588168\n",
            "Best alpha = 10.0\n"
          ],
          "name": "stdout"
        }
      ]
    },
    {
      "cell_type": "markdown",
      "metadata": {
        "id": "4sKn9MqkQTiY",
        "colab_type": "text"
      },
      "source": [
        "OK, we'll use their advice (even if redundant now)."
      ]
    },
    {
      "cell_type": "code",
      "metadata": {
        "id": "FoXLdXxgOmXC",
        "colab_type": "code",
        "colab": {
          "base_uri": "https://localhost:8080/",
          "height": 111
        },
        "outputId": "b978ee51-17a0-47ad-9479-b8b50f478ba8"
      },
      "source": [
        "compareRegressions(df_train[columns_kbest2], df_test[columns_kbest2], 'SALE_PRICE',\n",
        "                   grid.best_estimator_.alpha)"
      ],
      "execution_count": 63,
      "outputs": [
        {
          "output_type": "execute_result",
          "data": {
            "text/html": [
              "<div>\n",
              "<style scoped>\n",
              "    .dataframe tbody tr th:only-of-type {\n",
              "        vertical-align: middle;\n",
              "    }\n",
              "\n",
              "    .dataframe tbody tr th {\n",
              "        vertical-align: top;\n",
              "    }\n",
              "\n",
              "    .dataframe thead th {\n",
              "        text-align: right;\n",
              "    }\n",
              "</style>\n",
              "<table border=\"1\" class=\"dataframe\">\n",
              "  <thead>\n",
              "    <tr style=\"text-align: right;\">\n",
              "      <th></th>\n",
              "      <th>ridge</th>\n",
              "      <th>linear</th>\n",
              "    </tr>\n",
              "  </thead>\n",
              "  <tbody>\n",
              "    <tr>\n",
              "      <th>train</th>\n",
              "      <td>203238.644824</td>\n",
              "      <td>164720.811303</td>\n",
              "    </tr>\n",
              "    <tr>\n",
              "      <th>test</th>\n",
              "      <td>201172.442082</td>\n",
              "      <td>166550.721372</td>\n",
              "    </tr>\n",
              "  </tbody>\n",
              "</table>\n",
              "</div>"
            ],
            "text/plain": [
              "               ridge         linear\n",
              "train  203238.644824  164720.811303\n",
              "test   201172.442082  166550.721372"
            ]
          },
          "metadata": {
            "tags": []
          },
          "execution_count": 63
        }
      ]
    },
    {
      "cell_type": "markdown",
      "metadata": {
        "id": "R5wz_Tza9p3u",
        "colab_type": "text"
      },
      "source": [
        "##Comparing Ridge and Linear regressions on a single feature.\n",
        "\n",
        "1. Find univariate feature using SelectKBest \n",
        "\n",
        "2. Select optimum alpha for ridge regression\n",
        "\n",
        "3. Run ridge and linear regression, and compare result\n",
        "\n",
        "\n",
        "\n",
        "\n",
        "\n",
        "\n",
        "\n"
      ]
    },
    {
      "cell_type": "code",
      "metadata": {
        "id": "ixkHREirtRd2",
        "colab_type": "code",
        "outputId": "e5768fc6-13e1-494f-cfc9-b5bdf09329d9",
        "colab": {
          "base_uri": "https://localhost:8080/",
          "height": 34
        }
      },
      "source": [
        "# Which singular feature would be suggested by selectKBest\n",
        "selector = SelectKBest(score_func=f_regression, k=1)\n",
        "X_train_kbest = selector.fit_transform(X_train, y_train)\n",
        "X_test_kbest = selector.transform(X_test)\n",
        "\n",
        "X_train.columns[selector.get_support()]"
      ],
      "execution_count": 45,
      "outputs": [
        {
          "output_type": "execute_result",
          "data": {
            "text/plain": [
              "Index(['GROSS_SQUARE_FEET'], dtype='object')"
            ]
          },
          "metadata": {
            "tags": []
          },
          "execution_count": 45
        }
      ]
    },
    {
      "cell_type": "code",
      "metadata": {
        "id": "VAPb2yxktZos",
        "colab_type": "code",
        "outputId": "9a46a621-cef5-4f99-856c-824a8e9b7fa2",
        "colab": {
          "base_uri": "https://localhost:8080/",
          "height": 337
        }
      },
      "source": [
        "# Try a range of alphas for ridge regression\n",
        "alphas = [0.001, 0.01, .1, 1.0, 10.0, 100.0]\n",
        "result2 = findAlpha(df_train[['GROSS_SQUARE_FEET', 'SALE_PRICE']], \n",
        "                   df_test[['GROSS_SQUARE_FEET', 'SALE_PRICE']], 'SALE_PRICE', \n",
        "                   alphas)\n",
        "print(f'\\n\\nBest alpha = {result2[2]}\\nMAE = {result2[1]}\\n\\n')\n",
        "result2[0]\n",
        "\n"
      ],
      "execution_count": 46,
      "outputs": [
        {
          "output_type": "stream",
          "text": [
            "\n",
            "\n",
            "Best alpha = 0.001\n",
            "MAE = 183647.96292974034\n",
            "\n",
            "\n"
          ],
          "name": "stdout"
        },
        {
          "output_type": "execute_result",
          "data": {
            "text/html": [
              "<div>\n",
              "<style scoped>\n",
              "    .dataframe tbody tr th:only-of-type {\n",
              "        vertical-align: middle;\n",
              "    }\n",
              "\n",
              "    .dataframe tbody tr th {\n",
              "        vertical-align: top;\n",
              "    }\n",
              "\n",
              "    .dataframe thead th {\n",
              "        text-align: right;\n",
              "    }\n",
              "</style>\n",
              "<table border=\"1\" class=\"dataframe\">\n",
              "  <thead>\n",
              "    <tr style=\"text-align: right;\">\n",
              "      <th></th>\n",
              "      <th>alpha</th>\n",
              "      <th>MAE</th>\n",
              "    </tr>\n",
              "  </thead>\n",
              "  <tbody>\n",
              "    <tr>\n",
              "      <th>0</th>\n",
              "      <td>0.001</td>\n",
              "      <td>183647.962930</td>\n",
              "    </tr>\n",
              "    <tr>\n",
              "      <th>1</th>\n",
              "      <td>0.010</td>\n",
              "      <td>183713.699718</td>\n",
              "    </tr>\n",
              "    <tr>\n",
              "      <th>2</th>\n",
              "      <td>0.100</td>\n",
              "      <td>184495.067827</td>\n",
              "    </tr>\n",
              "    <tr>\n",
              "      <th>3</th>\n",
              "      <td>1.000</td>\n",
              "      <td>192591.825290</td>\n",
              "    </tr>\n",
              "    <tr>\n",
              "      <th>4</th>\n",
              "      <td>10.000</td>\n",
              "      <td>207442.865842</td>\n",
              "    </tr>\n",
              "    <tr>\n",
              "      <th>5</th>\n",
              "      <td>100.000</td>\n",
              "      <td>211099.876018</td>\n",
              "    </tr>\n",
              "  </tbody>\n",
              "</table>\n",
              "</div>"
            ],
            "text/plain": [
              "     alpha            MAE\n",
              "0    0.001  183647.962930\n",
              "1    0.010  183713.699718\n",
              "2    0.100  184495.067827\n",
              "3    1.000  192591.825290\n",
              "4   10.000  207442.865842\n",
              "5  100.000  211099.876018"
            ]
          },
          "metadata": {
            "tags": []
          },
          "execution_count": 46
        }
      ]
    },
    {
      "cell_type": "code",
      "metadata": {
        "id": "UL4GcwzEhSC3",
        "colab_type": "code",
        "colab": {
          "base_uri": "https://localhost:8080/",
          "height": 295
        },
        "outputId": "3e8c2d69-3d9f-47f1-e8da-96af1f747ea0"
      },
      "source": [
        "plt.plot(result2[0]['alpha'], result2[0]['MAE'], 'x-')\n",
        "plt.title('Find best alpha')\n",
        "plt.xlabel('Alpha')\n",
        "plt.ylabel('MAE');"
      ],
      "execution_count": 47,
      "outputs": [
        {
          "output_type": "display_data",
          "data": {
            "image/png": "[encoded data removed]",
            "text/plain": [
              "<Figure size 432x288 with 1 Axes>"
            ]
          },
          "metadata": {
            "tags": [],
            "needs_background": "light"
          }
        }
      ]
    },
    {
      "cell_type": "code",
      "metadata": {
        "id": "1aGfffDYt4FT",
        "colab_type": "code",
        "colab": {}
      },
      "source": [
        "# Make a function so we can try other alpha values\n",
        "def tryAlpha(alpha):\n",
        "  # Construct ridge regression\n",
        "  model1 = Ridge(alpha, normalize=True)\n",
        "  model1.fit(X_train[['GROSS_SQUARE_FEET']], y_train)\n",
        "\n",
        "  # Get metrics and print\n",
        "  y_predict1 = model1.predict(X_test[['GROSS_SQUARE_FEET']])\n",
        "  mae1 = mean_absolute_error(y_test, y_predict1)\n",
        "  print(f'Ridge Regression:\\nF(X) = {round(model1.coef_[0], 3)}X + {round(model1.intercept_, 3)}')\n",
        "  print (f'Mean Abs. Error = {mae1}')\n",
        "\n",
        "  # Linear regression\n",
        "  model2 = LinearRegression(normalize=True)\n",
        "  model2.fit(X_train[['GROSS_SQUARE_FEET']], y_train)\n",
        "\n",
        "  # Get metrics and print\n",
        "  y_predict2 = model2.predict(X_test[['GROSS_SQUARE_FEET']])\n",
        "  mae2 = mean_absolute_error(y_test, y_predict2)\n",
        "  print(f'\\nLinear Regression:\\nF(X) = {round(model2.coef_[0], 3)}X + {round(model2.intercept_, 3)}')\n",
        "  print (f'Mean Abs. Error = {mae2}\\n\\n')\n",
        "\n",
        "  # Plot to compare visually\n",
        "  fig = plt.figure(figsize=(10,7))\n",
        "  plt.scatter(X_test['GROSS_SQUARE_FEET'], y_test, alpha=.4)\n",
        "  plt.plot(X_test['GROSS_SQUARE_FEET'], y_predict1, color='red', label='Ridge regression')\n",
        "  plt.plot(X_test['GROSS_SQUARE_FEET'], y_predict2, color='gray', label='Linear regression')\n",
        "  plt.axhline(y_test.mean(), color='green', dashes=(1,2), label='Mean')\n",
        "  plt.title('Comparison Ridge and Linear regressions, mean')\n",
        "  plt.xlabel('GROSS SQUARE FEET')\n",
        "  plt.ylabel('SALE PRICE')\n",
        "  plt.legend()\n",
        "  plt.show()"
      ],
      "execution_count": 0,
      "outputs": []
    },
    {
      "cell_type": "code",
      "metadata": {
        "id": "R5z9w_W3GQle",
        "colab_type": "code",
        "outputId": "31734304-5db5-4d27-ac56-8327cecc27f7",
        "colab": {
          "base_uri": "https://localhost:8080/",
          "height": 611
        }
      },
      "source": [
        "# Check our best suggestion on alpha\n",
        "tryAlpha(result2[2])"
      ],
      "execution_count": 49,
      "outputs": [
        {
          "output_type": "stream",
          "text": [
            "Ridge Regression:\n",
            "F(X) = 220.92X + 295993.729\n",
            "Mean Abs. Error = 183647.96292974034\n",
            "\n",
            "Linear Regression:\n",
            "F(X) = 221.141X + 295668.149\n",
            "Mean Abs. Error = 183640.5858012459\n",
            "\n",
            "\n"
          ],
          "name": "stdout"
        },
        {
          "output_type": "display_data",
          "data": {
            "image/png": "[encoded data removed]",
            "text/plain": [
              "<Figure size 720x504 with 1 Axes>"
            ]
          },
          "metadata": {
            "tags": [],
            "needs_background": "light"
          }
        }
      ]
    },
    {
      "cell_type": "markdown",
      "metadata": {
        "id": "8PCVvIJdHetr",
        "colab_type": "text"
      },
      "source": [
        "Using the optimum alpha determined in the function to previously, there is not perceptible difference in the two lines. We can try different alphas to observe the divergence."
      ]
    },
    {
      "cell_type": "code",
      "metadata": {
        "id": "R8ryTkM-GuoS",
        "colab_type": "code",
        "outputId": "11a56aa7-055e-4472-80fe-a45493cc0057",
        "colab": {
          "base_uri": "https://localhost:8080/",
          "height": 1000
        }
      },
      "source": [
        "for a in [0.1, 1.0, 10.0, 100.0]:\n",
        "  print(f'Alpha = {a}')\n",
        "  tryAlpha(a)"
      ],
      "execution_count": 50,
      "outputs": [
        {
          "output_type": "stream",
          "text": [
            "Alpha = 0.1\n",
            "Ridge Regression:\n",
            "F(X) = 201.037X + 325295.93\n",
            "Mean Abs. Error = 184495.0678270217\n",
            "\n",
            "Linear Regression:\n",
            "F(X) = 221.141X + 295668.149\n",
            "Mean Abs. Error = 183640.5858012459\n",
            "\n",
            "\n"
          ],
          "name": "stdout"
        },
        {
          "output_type": "display_data",
          "data": {
            "image/png": "[encoded data removed]",
            "text/plain": [
              "<Figure size 720x504 with 1 Axes>"
            ]
          },
          "metadata": {
            "tags": [],
            "needs_background": "light"
          }
        },
        {
          "output_type": "stream",
          "text": [
            "Alpha = 1.0\n",
            "Ridge Regression:\n",
            "F(X) = 110.571X + 458620.946\n",
            "Mean Abs. Error = 192591.8252899977\n",
            "\n",
            "Linear Regression:\n",
            "F(X) = 221.141X + 295668.149\n",
            "Mean Abs. Error = 183640.5858012459\n",
            "\n",
            "\n"
          ],
          "name": "stdout"
        },
        {
          "output_type": "display_data",
          "data": {
            "image/png": "[encoded data removed]",
            "text/plain": [
              "<Figure size 720x504 with 1 Axes>"
            ]
          },
          "metadata": {
            "tags": [],
            "needs_background": "light"
          }
        },
        {
          "output_type": "stream",
          "text": [
            "Alpha = 10.0\n",
            "Ridge Regression:\n",
            "F(X) = 20.104X + 591945.961\n",
            "Mean Abs. Error = 207442.86584198786\n",
            "\n",
            "Linear Regression:\n",
            "F(X) = 221.141X + 295668.149\n",
            "Mean Abs. Error = 183640.5858012459\n",
            "\n",
            "\n"
          ],
          "name": "stdout"
        },
        {
          "output_type": "display_data",
          "data": {
            "image/png": "[encoded data removed]",
            "text/plain": [
              "<Figure size 720x504 with 1 Axes>"
            ]
          },
          "metadata": {
            "tags": [],
            "needs_background": "light"
          }
        },
        {
          "output_type": "stream",
          "text": [
            "Alpha = 100.0\n",
            "Ridge Regression:\n",
            "F(X) = 2.19X + 618346.954\n",
            "Mean Abs. Error = 211099.87601801296\n",
            "\n",
            "Linear Regression:\n",
            "F(X) = 221.141X + 295668.149\n",
            "Mean Abs. Error = 183640.5858012459\n",
            "\n",
            "\n"
          ],
          "name": "stdout"
        },
        {
          "output_type": "display_data",
          "data": {
            "image/png": "[encoded data removed]",
            "text/plain": [
              "<Figure size 720x504 with 1 Axes>"
            ]
          },
          "metadata": {
            "tags": [],
            "needs_background": "light"
          }
        }
      ]
    },
    {
      "cell_type": "markdown",
      "metadata": {
        "id": "SpGcM89wMIbF",
        "colab_type": "text"
      },
      "source": [
        "Using GridSearchCV tells us the best alpha in the range given it to be 100. Parallel with the baseline? "
      ]
    },
    {
      "cell_type": "code",
      "metadata": {
        "id": "VCKZcCOFGnt2",
        "colab_type": "code",
        "colab": {
          "base_uri": "https://localhost:8080/",
          "height": 51
        },
        "outputId": "24b2273c-334b-4fe3-a091-3ba6dfc747fb"
      },
      "source": [
        "from sklearn.model_selection import GridSearchCV\n",
        "\n",
        "alphas = [0.001, 0.01, 0.1, 1, 1.0, 10.0, 100.0]\n",
        "model = Ridge()\n",
        "grid = GridSearchCV(estimator=model, param_grid=dict(alpha=alphas))\n",
        "grid.fit(X_train[['GROSS_SQUARE_FEET']], y_train)\n",
        "\n",
        "print(grid.best_score_)\n",
        "print(grid.best_estimator_.alpha)"
      ],
      "execution_count": 51,
      "outputs": [
        {
          "output_type": "stream",
          "text": [
            "0.19725551169250694\n",
            "100.0\n"
          ],
          "name": "stdout"
        }
      ]
    }
  ]
}