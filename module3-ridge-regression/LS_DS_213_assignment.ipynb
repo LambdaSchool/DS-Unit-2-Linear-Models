{
  "nbformat": 4,
  "nbformat_minor": 0,
  "metadata": {
    "kernelspec": {
      "display_name": "Python 3",
      "language": "python",
      "name": "python3"
    },
    "language_info": {
      "codemirror_mode": {
        "name": "ipython",
        "version": 3
      },
      "file_extension": ".py",
      "mimetype": "text/x-python",
      "name": "python",
      "nbconvert_exporter": "python",
      "pygments_lexer": "ipython3",
      "version": "3.7.3"
    },
    "colab": {
      "name": "LS_DS_213_assignment.ipynb",
      "provenance": []
    }
  },
  "cells": [
    {
      "cell_type": "markdown",
      "metadata": {
        "id": "ltNedqYd11LT",
        "colab_type": "text"
      },
      "source": [
        "Lambda School Data Science\n",
        "\n",
        "*Unit 2, Sprint 1, Module 3*\n",
        "\n",
        "---"
      ]
    },
    {
      "cell_type": "markdown",
      "metadata": {
        "colab_type": "text",
        "id": "7IXUfiQ2UKj6"
      },
      "source": [
        "# Ridge Regression\n",
        "\n",
        "## Assignment\n",
        "\n",
        "We're going back to our other **New York City** real estate dataset. Instead of predicting apartment rents, you'll predict property sales prices.\n",
        "\n",
        "But not just for condos in Tribeca...\n",
        "\n",
        "- [ ] Use a subset of the data where `BUILDING_CLASS_CATEGORY` == `'01 ONE FAMILY DWELLINGS'` and the sale price was more than 100 thousand and less than 2 million.\n",
        "- [ ] Do train/test split. Use data from January — March 2019 to train. Use data from April 2019 to test.\n",
        "- [ ] Do one-hot encoding of categorical features.\n",
        "- [ ] Do feature selection with `SelectKBest`.\n",
        "- [ ] Fit a ridge regression model with multiple features. Use the `normalize=True` parameter (or do [feature scaling](https://scikit-learn.org/stable/modules/preprocessing.html) beforehand — use the scaler's `fit_transform` method with the train set, and the scaler's `transform` method with the test set)\n",
        "- [ ] Get mean absolute error for the test set.\n",
        "- [ ] As always, commit your notebook to your fork of the GitHub repo.\n",
        "\n",
        "The [NYC Department of Finance](https://www1.nyc.gov/site/finance/taxes/property-rolling-sales-data.page) has a glossary of property sales terms and NYC Building Class Code Descriptions. The data comes from the [NYC OpenData](https://data.cityofnewyork.us/browse?q=NYC%20calendar%20sales) portal.\n",
        "\n",
        "\n",
        "## Stretch Goals\n",
        "\n",
        "Don't worry, you aren't expected to do all these stretch goals! These are just ideas to consider and choose from.\n",
        "\n",
        "- [ ] Add your own stretch goal(s) !\n",
        "- [ ] Instead of `Ridge`, try `LinearRegression`. Depending on how many features you select, your errors will probably blow up! 💥\n",
        "- [ ] Instead of `Ridge`, try [`RidgeCV`](https://scikit-learn.org/stable/modules/generated/sklearn.linear_model.RidgeCV.html).\n",
        "- [ ] Learn more about feature selection:\n",
        "    - [\"Permutation importance\"](https://www.kaggle.com/dansbecker/permutation-importance)\n",
        "    - [scikit-learn's User Guide for Feature Selection](https://scikit-learn.org/stable/modules/feature_selection.html)\n",
        "    - [mlxtend](http://rasbt.github.io/mlxtend/) library\n",
        "    - scikit-learn-contrib libraries: [boruta_py](https://github.com/scikit-learn-contrib/boruta_py) & [stability-selection](https://github.com/scikit-learn-contrib/stability-selection)\n",
        "    - [_Feature Engineering and Selection_](http://www.feat.engineering/) by Kuhn & Johnson.\n",
        "- [ ] Try [statsmodels](https://www.statsmodels.org/stable/index.html) if you’re interested in more inferential statistical approach to linear regression and feature selection, looking at p values and 95% confidence intervals for the coefficients.\n",
        "- [ ] Read [_An Introduction to Statistical Learning_](http://faculty.marshall.usc.edu/gareth-james/ISL/ISLR%20Seventh%20Printing.pdf), Chapters 1-3, for more math & theory, but in an accessible, readable way.\n",
        "- [ ] Try [scikit-learn pipelines](https://scikit-learn.org/stable/modules/compose.html)."
      ]
    },
    {
      "cell_type": "code",
      "metadata": {
        "colab_type": "code",
        "id": "o9eSnDYhUGD7",
        "colab": {}
      },
      "source": [
        "%%capture\n",
        "import sys\n",
        "\n",
        "# If you're on Colab:\n",
        "if 'google.colab' in sys.modules:\n",
        "    DATA_PATH = 'https://raw.githubusercontent.com/LambdaSchool/DS-Unit-2-Applied-Modeling/master/data/'\n",
        "    !pip install category_encoders==2.*\n",
        "\n",
        "# If you're working locally:\n",
        "else:\n",
        "    DATA_PATH = '../data/'\n",
        "    \n",
        "# Ignore this Numpy warning when using Plotly Express:\n",
        "# FutureWarning: Method .ptp is deprecated and will be removed in a future version. Use numpy.ptp instead.\n",
        "import warnings\n",
        "warnings.filterwarnings(action='ignore', category=FutureWarning, module='numpy')"
      ],
      "execution_count": 1,
      "outputs": []
    },
    {
      "cell_type": "code",
      "metadata": {
        "colab_type": "code",
        "id": "QJBD4ruICm1m",
        "colab": {}
      },
      "source": [
        "import pandas as pd\n",
        "import pandas_profiling\n",
        "\n",
        "# Read New York City property sales data\n",
        "df = pd.read_csv(DATA_PATH+'condos/NYC_Citywide_Rolling_Calendar_Sales.csv')\n",
        "\n",
        "# Change column names: replace spaces with underscores\n",
        "df.columns = [col.replace(' ', '_') for col in df]\n",
        "\n",
        "# SALE_PRICE was read as strings.\n",
        "# Remove symbols, convert to integer\n",
        "df['SALE_PRICE'] = (\n",
        "    df['SALE_PRICE']\n",
        "    .str.replace('$','')\n",
        "    .str.replace('-','')\n",
        "    .str.replace(',','')\n",
        "    .astype(int)\n",
        ")"
      ],
      "execution_count": 2,
      "outputs": []
    },
    {
      "cell_type": "code",
      "metadata": {
        "id": "U6lMbn2k11Np",
        "colab_type": "code",
        "colab": {}
      },
      "source": [
        "# BOROUGH is a numeric column, but arguably should be a categorical feature,\n",
        "# so convert it from a number to a string\n",
        "df['BOROUGH'] = df['BOROUGH'].astype(str)"
      ],
      "execution_count": 3,
      "outputs": []
    },
    {
      "cell_type": "code",
      "metadata": {
        "id": "ynK0zqA_11N-",
        "colab_type": "code",
        "colab": {}
      },
      "source": [
        "# Reduce cardinality for NEIGHBORHOOD feature\n",
        "\n",
        "# Get a list of the top 10 neighborhoods\n",
        "top10 = df['NEIGHBORHOOD'].value_counts()[:10].index\n",
        "\n",
        "# At locations where the neighborhood is NOT in the top 10, \n",
        "# replace the neighborhood with 'OTHER'\n",
        "df.loc[~df['NEIGHBORHOOD'].isin(top10), 'NEIGHBORHOOD'] = 'OTHER'"
      ],
      "execution_count": 4,
      "outputs": []
    },
    {
      "cell_type": "code",
      "metadata": {
        "id": "r4krbYce11OS",
        "colab_type": "code",
        "colab": {
          "base_uri": "https://localhost:8080/",
          "height": 460
        },
        "outputId": "d0f73fde-00aa-44ed-8bd7-804f2d72e7a1"
      },
      "source": [
        "df.head()"
      ],
      "execution_count": 5,
      "outputs": [
        {
          "output_type": "execute_result",
          "data": {
            "text/html": [
              "<div>\n",
              "<style scoped>\n",
              "    .dataframe tbody tr th:only-of-type {\n",
              "        vertical-align: middle;\n",
              "    }\n",
              "\n",
              "    .dataframe tbody tr th {\n",
              "        vertical-align: top;\n",
              "    }\n",
              "\n",
              "    .dataframe thead th {\n",
              "        text-align: right;\n",
              "    }\n",
              "</style>\n",
              "<table border=\"1\" class=\"dataframe\">\n",
              "  <thead>\n",
              "    <tr style=\"text-align: right;\">\n",
              "      <th></th>\n",
              "      <th>BOROUGH</th>\n",
              "      <th>NEIGHBORHOOD</th>\n",
              "      <th>BUILDING_CLASS_CATEGORY</th>\n",
              "      <th>TAX_CLASS_AT_PRESENT</th>\n",
              "      <th>BLOCK</th>\n",
              "      <th>LOT</th>\n",
              "      <th>EASE-MENT</th>\n",
              "      <th>BUILDING_CLASS_AT_PRESENT</th>\n",
              "      <th>ADDRESS</th>\n",
              "      <th>APARTMENT_NUMBER</th>\n",
              "      <th>ZIP_CODE</th>\n",
              "      <th>RESIDENTIAL_UNITS</th>\n",
              "      <th>COMMERCIAL_UNITS</th>\n",
              "      <th>TOTAL_UNITS</th>\n",
              "      <th>LAND_SQUARE_FEET</th>\n",
              "      <th>GROSS_SQUARE_FEET</th>\n",
              "      <th>YEAR_BUILT</th>\n",
              "      <th>TAX_CLASS_AT_TIME_OF_SALE</th>\n",
              "      <th>BUILDING_CLASS_AT_TIME_OF_SALE</th>\n",
              "      <th>SALE_PRICE</th>\n",
              "      <th>SALE_DATE</th>\n",
              "    </tr>\n",
              "  </thead>\n",
              "  <tbody>\n",
              "    <tr>\n",
              "      <th>0</th>\n",
              "      <td>1</td>\n",
              "      <td>OTHER</td>\n",
              "      <td>13 CONDOS - ELEVATOR APARTMENTS</td>\n",
              "      <td>2</td>\n",
              "      <td>716</td>\n",
              "      <td>1246</td>\n",
              "      <td>NaN</td>\n",
              "      <td>R4</td>\n",
              "      <td>447 WEST 18TH STREET, PH12A</td>\n",
              "      <td>PH12A</td>\n",
              "      <td>10011.0</td>\n",
              "      <td>1.0</td>\n",
              "      <td>0.0</td>\n",
              "      <td>1.0</td>\n",
              "      <td>10,733</td>\n",
              "      <td>1979.0</td>\n",
              "      <td>2007.0</td>\n",
              "      <td>2</td>\n",
              "      <td>R4</td>\n",
              "      <td>0</td>\n",
              "      <td>01/01/2019</td>\n",
              "    </tr>\n",
              "    <tr>\n",
              "      <th>1</th>\n",
              "      <td>1</td>\n",
              "      <td>OTHER</td>\n",
              "      <td>21 OFFICE BUILDINGS</td>\n",
              "      <td>4</td>\n",
              "      <td>812</td>\n",
              "      <td>68</td>\n",
              "      <td>NaN</td>\n",
              "      <td>O5</td>\n",
              "      <td>144 WEST 37TH STREET</td>\n",
              "      <td>NaN</td>\n",
              "      <td>10018.0</td>\n",
              "      <td>0.0</td>\n",
              "      <td>6.0</td>\n",
              "      <td>6.0</td>\n",
              "      <td>2,962</td>\n",
              "      <td>15435.0</td>\n",
              "      <td>1920.0</td>\n",
              "      <td>4</td>\n",
              "      <td>O5</td>\n",
              "      <td>0</td>\n",
              "      <td>01/01/2019</td>\n",
              "    </tr>\n",
              "    <tr>\n",
              "      <th>2</th>\n",
              "      <td>1</td>\n",
              "      <td>OTHER</td>\n",
              "      <td>21 OFFICE BUILDINGS</td>\n",
              "      <td>4</td>\n",
              "      <td>839</td>\n",
              "      <td>69</td>\n",
              "      <td>NaN</td>\n",
              "      <td>O5</td>\n",
              "      <td>40 WEST 38TH STREET</td>\n",
              "      <td>NaN</td>\n",
              "      <td>10018.0</td>\n",
              "      <td>0.0</td>\n",
              "      <td>7.0</td>\n",
              "      <td>7.0</td>\n",
              "      <td>2,074</td>\n",
              "      <td>11332.0</td>\n",
              "      <td>1930.0</td>\n",
              "      <td>4</td>\n",
              "      <td>O5</td>\n",
              "      <td>0</td>\n",
              "      <td>01/01/2019</td>\n",
              "    </tr>\n",
              "    <tr>\n",
              "      <th>3</th>\n",
              "      <td>1</td>\n",
              "      <td>OTHER</td>\n",
              "      <td>13 CONDOS - ELEVATOR APARTMENTS</td>\n",
              "      <td>2</td>\n",
              "      <td>592</td>\n",
              "      <td>1041</td>\n",
              "      <td>NaN</td>\n",
              "      <td>R4</td>\n",
              "      <td>1 SHERIDAN SQUARE, 8C</td>\n",
              "      <td>8C</td>\n",
              "      <td>10014.0</td>\n",
              "      <td>1.0</td>\n",
              "      <td>0.0</td>\n",
              "      <td>1.0</td>\n",
              "      <td>0</td>\n",
              "      <td>500.0</td>\n",
              "      <td>0.0</td>\n",
              "      <td>2</td>\n",
              "      <td>R4</td>\n",
              "      <td>0</td>\n",
              "      <td>01/01/2019</td>\n",
              "    </tr>\n",
              "    <tr>\n",
              "      <th>4</th>\n",
              "      <td>1</td>\n",
              "      <td>UPPER EAST SIDE (59-79)</td>\n",
              "      <td>15 CONDOS - 2-10 UNIT RESIDENTIAL</td>\n",
              "      <td>2C</td>\n",
              "      <td>1379</td>\n",
              "      <td>1402</td>\n",
              "      <td>NaN</td>\n",
              "      <td>R1</td>\n",
              "      <td>20 EAST 65TH STREET, B</td>\n",
              "      <td>B</td>\n",
              "      <td>10065.0</td>\n",
              "      <td>1.0</td>\n",
              "      <td>0.0</td>\n",
              "      <td>1.0</td>\n",
              "      <td>0</td>\n",
              "      <td>6406.0</td>\n",
              "      <td>0.0</td>\n",
              "      <td>2</td>\n",
              "      <td>R1</td>\n",
              "      <td>0</td>\n",
              "      <td>01/01/2019</td>\n",
              "    </tr>\n",
              "  </tbody>\n",
              "</table>\n",
              "</div>"
            ],
            "text/plain": [
              "  BOROUGH             NEIGHBORHOOD  ... SALE_PRICE   SALE_DATE\n",
              "0       1                    OTHER  ...          0  01/01/2019\n",
              "1       1                    OTHER  ...          0  01/01/2019\n",
              "2       1                    OTHER  ...          0  01/01/2019\n",
              "3       1                    OTHER  ...          0  01/01/2019\n",
              "4       1  UPPER EAST SIDE (59-79)  ...          0  01/01/2019\n",
              "\n",
              "[5 rows x 21 columns]"
            ]
          },
          "metadata": {
            "tags": []
          },
          "execution_count": 5
        }
      ]
    },
    {
      "cell_type": "code",
      "metadata": {
        "id": "aSwq12qP8AGQ",
        "colab_type": "code",
        "colab": {}
      },
      "source": [
        "## created my subset"
      ],
      "execution_count": null,
      "outputs": []
    },
    {
      "cell_type": "code",
      "metadata": {
        "id": "V1mYBM1x5DEK",
        "colab_type": "code",
        "colab": {
          "base_uri": "https://localhost:8080/",
          "height": 54
        },
        "outputId": "30910dcf-9506-49d4-f773-b8be8650d175"
      },
      "source": [
        "df['BUILDING_CLASS_CATEGORY'].value_counts().head(1)"
      ],
      "execution_count": 116,
      "outputs": [
        {
          "output_type": "execute_result",
          "data": {
            "text/plain": [
              "01 ONE FAMILY DWELLINGS    5061\n",
              "Name: BUILDING_CLASS_CATEGORY, dtype: int64"
            ]
          },
          "metadata": {
            "tags": []
          },
          "execution_count": 116
        }
      ]
    },
    {
      "cell_type": "code",
      "metadata": {
        "id": "nRkfTNqv59ZV",
        "colab_type": "code",
        "colab": {}
      },
      "source": [
        "df1 = df[df[\"BUILDING_CLASS_CATEGORY\"] == '01 ONE FAMILY DWELLINGS']"
      ],
      "execution_count": 117,
      "outputs": []
    },
    {
      "cell_type": "code",
      "metadata": {
        "id": "0IqVcN8f7kZf",
        "colab_type": "code",
        "colab": {}
      },
      "source": [
        "df2 = df1[df1[\"SALE_PRICE\"] > 100000]"
      ],
      "execution_count": 118,
      "outputs": []
    },
    {
      "cell_type": "code",
      "metadata": {
        "id": "woYCOMVP7vKa",
        "colab_type": "code",
        "colab": {}
      },
      "source": [
        "df2 = df2[df2[\"SALE_PRICE\"] < 1000000]"
      ],
      "execution_count": 119,
      "outputs": []
    },
    {
      "cell_type": "code",
      "metadata": {
        "id": "-mLPgxMxAzQO",
        "colab_type": "code",
        "colab": {}
      },
      "source": [
        "#dropped all nan columns"
      ],
      "execution_count": null,
      "outputs": []
    },
    {
      "cell_type": "code",
      "metadata": {
        "id": "QH_hsT-a9SfT",
        "colab_type": "code",
        "colab": {}
      },
      "source": [
        "df2 = df2.drop(['EASE-MENT','APARTMENT_NUMBER'], axis=1)"
      ],
      "execution_count": 120,
      "outputs": []
    },
    {
      "cell_type": "code",
      "metadata": {
        "id": "vnM5QZoS89V6",
        "colab_type": "code",
        "colab": {
          "base_uri": "https://localhost:8080/",
          "height": 381
        },
        "outputId": "9ec64388-469c-4d30-d764-417761f53d4a"
      },
      "source": [
        "df2.isnull().sum()"
      ],
      "execution_count": 33,
      "outputs": [
        {
          "output_type": "execute_result",
          "data": {
            "text/plain": [
              "BOROUGH                           0\n",
              "NEIGHBORHOOD                      0\n",
              "BUILDING_CLASS_CATEGORY           0\n",
              "TAX_CLASS_AT_PRESENT              0\n",
              "BLOCK                             0\n",
              "LOT                               0\n",
              "BUILDING_CLASS_AT_PRESENT         0\n",
              "ADDRESS                           0\n",
              "ZIP_CODE                          0\n",
              "RESIDENTIAL_UNITS                 0\n",
              "COMMERCIAL_UNITS                  0\n",
              "TOTAL_UNITS                       0\n",
              "LAND_SQUARE_FEET                  0\n",
              "GROSS_SQUARE_FEET                 0\n",
              "YEAR_BUILT                        0\n",
              "TAX_CLASS_AT_TIME_OF_SALE         0\n",
              "BUILDING_CLASS_AT_TIME_OF_SALE    0\n",
              "SALE_PRICE                        0\n",
              "SALE_DATE                         0\n",
              "dtype: int64"
            ]
          },
          "metadata": {
            "tags": []
          },
          "execution_count": 33
        }
      ]
    },
    {
      "cell_type": "code",
      "metadata": {
        "id": "GP9wWDl07-2F",
        "colab_type": "code",
        "colab": {
          "base_uri": "https://localhost:8080/",
          "height": 490
        },
        "outputId": "cd59bf86-43ac-4525-c72b-62d6445d5304"
      },
      "source": [
        "df2.info()"
      ],
      "execution_count": 34,
      "outputs": [
        {
          "output_type": "stream",
          "text": [
            "<class 'pandas.core.frame.DataFrame'>\n",
            "Int64Index: 2894 entries, 44 to 23035\n",
            "Data columns (total 19 columns):\n",
            " #   Column                          Non-Null Count  Dtype  \n",
            "---  ------                          --------------  -----  \n",
            " 0   BOROUGH                         2894 non-null   object \n",
            " 1   NEIGHBORHOOD                    2894 non-null   object \n",
            " 2   BUILDING_CLASS_CATEGORY         2894 non-null   object \n",
            " 3   TAX_CLASS_AT_PRESENT            2894 non-null   object \n",
            " 4   BLOCK                           2894 non-null   int64  \n",
            " 5   LOT                             2894 non-null   int64  \n",
            " 6   BUILDING_CLASS_AT_PRESENT       2894 non-null   object \n",
            " 7   ADDRESS                         2894 non-null   object \n",
            " 8   ZIP_CODE                        2894 non-null   float64\n",
            " 9   RESIDENTIAL_UNITS               2894 non-null   float64\n",
            " 10  COMMERCIAL_UNITS                2894 non-null   float64\n",
            " 11  TOTAL_UNITS                     2894 non-null   float64\n",
            " 12  LAND_SQUARE_FEET                2894 non-null   object \n",
            " 13  GROSS_SQUARE_FEET               2894 non-null   float64\n",
            " 14  YEAR_BUILT                      2894 non-null   float64\n",
            " 15  TAX_CLASS_AT_TIME_OF_SALE       2894 non-null   int64  \n",
            " 16  BUILDING_CLASS_AT_TIME_OF_SALE  2894 non-null   object \n",
            " 17  SALE_PRICE                      2894 non-null   int64  \n",
            " 18  SALE_DATE                       2894 non-null   object \n",
            "dtypes: float64(6), int64(4), object(9)\n",
            "memory usage: 452.2+ KB\n"
          ],
          "name": "stdout"
        }
      ]
    },
    {
      "cell_type": "code",
      "metadata": {
        "id": "_mA3-XDBA3Qn",
        "colab_type": "code",
        "colab": {}
      },
      "source": [
        "#Cearted a month column and droped saledate"
      ],
      "execution_count": null,
      "outputs": []
    },
    {
      "cell_type": "code",
      "metadata": {
        "id": "LdxqfuCG_MAk",
        "colab_type": "code",
        "colab": {}
      },
      "source": [
        "df2['SALE_DATE'] = pd.to_datetime(df2['SALE_DATE'], errors='coerce')"
      ],
      "execution_count": 122,
      "outputs": []
    },
    {
      "cell_type": "code",
      "metadata": {
        "id": "r6UluJW-_iG4",
        "colab_type": "code",
        "colab": {}
      },
      "source": [
        "df2['month'] = df2['SALE_DATE'].dt.month"
      ],
      "execution_count": 123,
      "outputs": []
    },
    {
      "cell_type": "code",
      "metadata": {
        "id": "EiGIZzgP_vPI",
        "colab_type": "code",
        "colab": {}
      },
      "source": [
        "df2 = df2.drop(['SALE_DATE'], axis=1)"
      ],
      "execution_count": 101,
      "outputs": []
    },
    {
      "cell_type": "code",
      "metadata": {
        "id": "HhAtiaRNA_Oe",
        "colab_type": "code",
        "colab": {}
      },
      "source": [
        "# ran a test split"
      ],
      "execution_count": null,
      "outputs": []
    },
    {
      "cell_type": "code",
      "metadata": {
        "id": "yp908XWV9gbM",
        "colab_type": "code",
        "colab": {
          "base_uri": "https://localhost:8080/",
          "height": 35
        },
        "outputId": "cc7ead12-3173-493b-841a-b9321d547ecd"
      },
      "source": [
        "y = df2['SALE_PRICE']\n",
        "y.shape"
      ],
      "execution_count": 124,
      "outputs": [
        {
          "output_type": "execute_result",
          "data": {
            "text/plain": [
              "(2894,)"
            ]
          },
          "metadata": {
            "tags": []
          },
          "execution_count": 124
        }
      ]
    },
    {
      "cell_type": "code",
      "metadata": {
        "id": "YQSEYKxb-IL1",
        "colab_type": "code",
        "colab": {
          "base_uri": "https://localhost:8080/",
          "height": 35
        },
        "outputId": "fb064bcb-5022-48dc-e150-c285c2f23ff5"
      },
      "source": [
        "X = df2.drop('SALE_PRICE', axis=1)\n",
        "X.shape"
      ],
      "execution_count": 125,
      "outputs": [
        {
          "output_type": "execute_result",
          "data": {
            "text/plain": [
              "(2894, 19)"
            ]
          },
          "metadata": {
            "tags": []
          },
          "execution_count": 125
        }
      ]
    },
    {
      "cell_type": "code",
      "metadata": {
        "id": "9GVMRc_F-nyJ",
        "colab_type": "code",
        "colab": {}
      },
      "source": [
        "X_train = X[X['month'] < 4]\n",
        "y_train = y[y.index.isin(X_train.index)]"
      ],
      "execution_count": 126,
      "outputs": []
    },
    {
      "cell_type": "code",
      "metadata": {
        "id": "NewyGl5LAZIv",
        "colab_type": "code",
        "colab": {}
      },
      "source": [
        "mask = X['month'] < 4"
      ],
      "execution_count": 127,
      "outputs": []
    },
    {
      "cell_type": "code",
      "metadata": {
        "id": "ffveVxYtAeYt",
        "colab_type": "code",
        "colab": {
          "base_uri": "https://localhost:8080/",
          "height": 617
        },
        "outputId": "9df4b4e1-5969-4880-aed4-402415959e68"
      },
      "source": [
        "X.query('month < 4')"
      ],
      "execution_count": 128,
      "outputs": [
        {
          "output_type": "execute_result",
          "data": {
            "text/html": [
              "<div>\n",
              "<style scoped>\n",
              "    .dataframe tbody tr th:only-of-type {\n",
              "        vertical-align: middle;\n",
              "    }\n",
              "\n",
              "    .dataframe tbody tr th {\n",
              "        vertical-align: top;\n",
              "    }\n",
              "\n",
              "    .dataframe thead th {\n",
              "        text-align: right;\n",
              "    }\n",
              "</style>\n",
              "<table border=\"1\" class=\"dataframe\">\n",
              "  <thead>\n",
              "    <tr style=\"text-align: right;\">\n",
              "      <th></th>\n",
              "      <th>BOROUGH</th>\n",
              "      <th>NEIGHBORHOOD</th>\n",
              "      <th>BUILDING_CLASS_CATEGORY</th>\n",
              "      <th>TAX_CLASS_AT_PRESENT</th>\n",
              "      <th>BLOCK</th>\n",
              "      <th>LOT</th>\n",
              "      <th>BUILDING_CLASS_AT_PRESENT</th>\n",
              "      <th>ADDRESS</th>\n",
              "      <th>ZIP_CODE</th>\n",
              "      <th>RESIDENTIAL_UNITS</th>\n",
              "      <th>COMMERCIAL_UNITS</th>\n",
              "      <th>TOTAL_UNITS</th>\n",
              "      <th>LAND_SQUARE_FEET</th>\n",
              "      <th>GROSS_SQUARE_FEET</th>\n",
              "      <th>YEAR_BUILT</th>\n",
              "      <th>TAX_CLASS_AT_TIME_OF_SALE</th>\n",
              "      <th>BUILDING_CLASS_AT_TIME_OF_SALE</th>\n",
              "      <th>SALE_DATE</th>\n",
              "      <th>month</th>\n",
              "    </tr>\n",
              "  </thead>\n",
              "  <tbody>\n",
              "    <tr>\n",
              "      <th>44</th>\n",
              "      <td>3</td>\n",
              "      <td>OTHER</td>\n",
              "      <td>01 ONE FAMILY DWELLINGS</td>\n",
              "      <td>1</td>\n",
              "      <td>5495</td>\n",
              "      <td>801</td>\n",
              "      <td>A9</td>\n",
              "      <td>4832 BAY PARKWAY</td>\n",
              "      <td>11230.0</td>\n",
              "      <td>1.0</td>\n",
              "      <td>0.0</td>\n",
              "      <td>1.0</td>\n",
              "      <td>6,800</td>\n",
              "      <td>1325.0</td>\n",
              "      <td>1930.0</td>\n",
              "      <td>1</td>\n",
              "      <td>A9</td>\n",
              "      <td>2019-01-01</td>\n",
              "      <td>1</td>\n",
              "    </tr>\n",
              "    <tr>\n",
              "      <th>61</th>\n",
              "      <td>4</td>\n",
              "      <td>OTHER</td>\n",
              "      <td>01 ONE FAMILY DWELLINGS</td>\n",
              "      <td>1</td>\n",
              "      <td>7918</td>\n",
              "      <td>72</td>\n",
              "      <td>A1</td>\n",
              "      <td>80-23 232ND STREET</td>\n",
              "      <td>11427.0</td>\n",
              "      <td>1.0</td>\n",
              "      <td>0.0</td>\n",
              "      <td>1.0</td>\n",
              "      <td>4,000</td>\n",
              "      <td>2001.0</td>\n",
              "      <td>1940.0</td>\n",
              "      <td>1</td>\n",
              "      <td>A1</td>\n",
              "      <td>2019-01-01</td>\n",
              "      <td>1</td>\n",
              "    </tr>\n",
              "    <tr>\n",
              "      <th>78</th>\n",
              "      <td>2</td>\n",
              "      <td>OTHER</td>\n",
              "      <td>01 ONE FAMILY DWELLINGS</td>\n",
              "      <td>1</td>\n",
              "      <td>4210</td>\n",
              "      <td>19</td>\n",
              "      <td>A1</td>\n",
              "      <td>1260 RHINELANDER AVE</td>\n",
              "      <td>10461.0</td>\n",
              "      <td>1.0</td>\n",
              "      <td>0.0</td>\n",
              "      <td>1.0</td>\n",
              "      <td>3,500</td>\n",
              "      <td>2043.0</td>\n",
              "      <td>1925.0</td>\n",
              "      <td>1</td>\n",
              "      <td>A1</td>\n",
              "      <td>2019-01-02</td>\n",
              "      <td>1</td>\n",
              "    </tr>\n",
              "    <tr>\n",
              "      <th>108</th>\n",
              "      <td>3</td>\n",
              "      <td>OTHER</td>\n",
              "      <td>01 ONE FAMILY DWELLINGS</td>\n",
              "      <td>1</td>\n",
              "      <td>5212</td>\n",
              "      <td>69</td>\n",
              "      <td>A1</td>\n",
              "      <td>469 E 25TH ST</td>\n",
              "      <td>11226.0</td>\n",
              "      <td>1.0</td>\n",
              "      <td>0.0</td>\n",
              "      <td>1.0</td>\n",
              "      <td>4,000</td>\n",
              "      <td>2680.0</td>\n",
              "      <td>1899.0</td>\n",
              "      <td>1</td>\n",
              "      <td>A1</td>\n",
              "      <td>2019-01-02</td>\n",
              "      <td>1</td>\n",
              "    </tr>\n",
              "    <tr>\n",
              "      <th>111</th>\n",
              "      <td>3</td>\n",
              "      <td>OTHER</td>\n",
              "      <td>01 ONE FAMILY DWELLINGS</td>\n",
              "      <td>1</td>\n",
              "      <td>7930</td>\n",
              "      <td>121</td>\n",
              "      <td>A5</td>\n",
              "      <td>5521 WHITTY LANE</td>\n",
              "      <td>11203.0</td>\n",
              "      <td>1.0</td>\n",
              "      <td>0.0</td>\n",
              "      <td>1.0</td>\n",
              "      <td>1,710</td>\n",
              "      <td>1872.0</td>\n",
              "      <td>1940.0</td>\n",
              "      <td>1</td>\n",
              "      <td>A5</td>\n",
              "      <td>2019-01-02</td>\n",
              "      <td>1</td>\n",
              "    </tr>\n",
              "    <tr>\n",
              "      <th>...</th>\n",
              "      <td>...</td>\n",
              "      <td>...</td>\n",
              "      <td>...</td>\n",
              "      <td>...</td>\n",
              "      <td>...</td>\n",
              "      <td>...</td>\n",
              "      <td>...</td>\n",
              "      <td>...</td>\n",
              "      <td>...</td>\n",
              "      <td>...</td>\n",
              "      <td>...</td>\n",
              "      <td>...</td>\n",
              "      <td>...</td>\n",
              "      <td>...</td>\n",
              "      <td>...</td>\n",
              "      <td>...</td>\n",
              "      <td>...</td>\n",
              "      <td>...</td>\n",
              "      <td>...</td>\n",
              "    </tr>\n",
              "    <tr>\n",
              "      <th>18129</th>\n",
              "      <td>5</td>\n",
              "      <td>OTHER</td>\n",
              "      <td>01 ONE FAMILY DWELLINGS</td>\n",
              "      <td>1</td>\n",
              "      <td>4081</td>\n",
              "      <td>44</td>\n",
              "      <td>A2</td>\n",
              "      <td>10 SEAFOAM STREET</td>\n",
              "      <td>10306.0</td>\n",
              "      <td>1.0</td>\n",
              "      <td>0.0</td>\n",
              "      <td>1.0</td>\n",
              "      <td>2,400</td>\n",
              "      <td>921.0</td>\n",
              "      <td>1950.0</td>\n",
              "      <td>1</td>\n",
              "      <td>A2</td>\n",
              "      <td>2019-03-29</td>\n",
              "      <td>3</td>\n",
              "    </tr>\n",
              "    <tr>\n",
              "      <th>18130</th>\n",
              "      <td>5</td>\n",
              "      <td>OTHER</td>\n",
              "      <td>01 ONE FAMILY DWELLINGS</td>\n",
              "      <td>1</td>\n",
              "      <td>2373</td>\n",
              "      <td>201</td>\n",
              "      <td>A5</td>\n",
              "      <td>74 MCVEIGH AVE</td>\n",
              "      <td>10314.0</td>\n",
              "      <td>1.0</td>\n",
              "      <td>0.0</td>\n",
              "      <td>1.0</td>\n",
              "      <td>2,450</td>\n",
              "      <td>2128.0</td>\n",
              "      <td>1980.0</td>\n",
              "      <td>1</td>\n",
              "      <td>A5</td>\n",
              "      <td>2019-03-29</td>\n",
              "      <td>3</td>\n",
              "    </tr>\n",
              "    <tr>\n",
              "      <th>18132</th>\n",
              "      <td>5</td>\n",
              "      <td>OTHER</td>\n",
              "      <td>01 ONE FAMILY DWELLINGS</td>\n",
              "      <td>1</td>\n",
              "      <td>1132</td>\n",
              "      <td>42</td>\n",
              "      <td>A1</td>\n",
              "      <td>479 VILLA AVENUE</td>\n",
              "      <td>10302.0</td>\n",
              "      <td>1.0</td>\n",
              "      <td>0.0</td>\n",
              "      <td>1.0</td>\n",
              "      <td>4,361</td>\n",
              "      <td>1807.0</td>\n",
              "      <td>2018.0</td>\n",
              "      <td>1</td>\n",
              "      <td>A1</td>\n",
              "      <td>2019-03-29</td>\n",
              "      <td>3</td>\n",
              "    </tr>\n",
              "    <tr>\n",
              "      <th>18134</th>\n",
              "      <td>5</td>\n",
              "      <td>OTHER</td>\n",
              "      <td>01 ONE FAMILY DWELLINGS</td>\n",
              "      <td>1</td>\n",
              "      <td>3395</td>\n",
              "      <td>37</td>\n",
              "      <td>A2</td>\n",
              "      <td>63 NUGENT AVENUE</td>\n",
              "      <td>10305.0</td>\n",
              "      <td>1.0</td>\n",
              "      <td>0.0</td>\n",
              "      <td>1.0</td>\n",
              "      <td>6,000</td>\n",
              "      <td>621.0</td>\n",
              "      <td>1930.0</td>\n",
              "      <td>1</td>\n",
              "      <td>A2</td>\n",
              "      <td>2019-03-29</td>\n",
              "      <td>3</td>\n",
              "    </tr>\n",
              "    <tr>\n",
              "      <th>18147</th>\n",
              "      <td>4</td>\n",
              "      <td>OTHER</td>\n",
              "      <td>01 ONE FAMILY DWELLINGS</td>\n",
              "      <td>1</td>\n",
              "      <td>11159</td>\n",
              "      <td>11</td>\n",
              "      <td>A0</td>\n",
              "      <td>223-29 103RD AVENUE</td>\n",
              "      <td>11429.0</td>\n",
              "      <td>1.0</td>\n",
              "      <td>0.0</td>\n",
              "      <td>1.0</td>\n",
              "      <td>3,910</td>\n",
              "      <td>1163.0</td>\n",
              "      <td>1950.0</td>\n",
              "      <td>1</td>\n",
              "      <td>A0</td>\n",
              "      <td>2019-03-30</td>\n",
              "      <td>3</td>\n",
              "    </tr>\n",
              "  </tbody>\n",
              "</table>\n",
              "<p>2308 rows × 19 columns</p>\n",
              "</div>"
            ],
            "text/plain": [
              "      BOROUGH NEIGHBORHOOD  ...  SALE_DATE month\n",
              "44          3        OTHER  ... 2019-01-01     1\n",
              "61          4        OTHER  ... 2019-01-01     1\n",
              "78          2        OTHER  ... 2019-01-02     1\n",
              "108         3        OTHER  ... 2019-01-02     1\n",
              "111         3        OTHER  ... 2019-01-02     1\n",
              "...       ...          ...  ...        ...   ...\n",
              "18129       5        OTHER  ... 2019-03-29     3\n",
              "18130       5        OTHER  ... 2019-03-29     3\n",
              "18132       5        OTHER  ... 2019-03-29     3\n",
              "18134       5        OTHER  ... 2019-03-29     3\n",
              "18147       4        OTHER  ... 2019-03-30     3\n",
              "\n",
              "[2308 rows x 19 columns]"
            ]
          },
          "metadata": {
            "tags": []
          },
          "execution_count": 128
        }
      ]
    },
    {
      "cell_type": "code",
      "metadata": {
        "id": "TDGK1X57Ah85",
        "colab_type": "code",
        "colab": {}
      },
      "source": [
        "X_test = X[X['month'] >= 4]\n",
        "y_test = y[y.index.isin(X_test.index)]"
      ],
      "execution_count": 129,
      "outputs": []
    },
    {
      "cell_type": "code",
      "metadata": {
        "id": "uUagvcyvBEGq",
        "colab_type": "code",
        "colab": {
          "base_uri": "https://localhost:8080/",
          "height": 35
        },
        "outputId": "02aa68e2-d92f-407b-be86-aa923a69137a"
      },
      "source": [
        "# Get mean baseline\n",
        "y_train.mean()"
      ],
      "execution_count": 130,
      "outputs": [
        {
          "output_type": "execute_result",
          "data": {
            "text/plain": [
              "559717.6594454073"
            ]
          },
          "metadata": {
            "tags": []
          },
          "execution_count": 130
        }
      ]
    },
    {
      "cell_type": "code",
      "metadata": {
        "id": "3FFmKaMUBOqT",
        "colab_type": "code",
        "colab": {}
      },
      "source": [
        "# Train Error\n",
        "from sklearn.metrics import mean_absolute_error\n",
        "\n",
        "y_pred = [y_train.mean()] * len(y_train)"
      ],
      "execution_count": 131,
      "outputs": []
    },
    {
      "cell_type": "code",
      "metadata": {
        "id": "KCh553Z2BTDX",
        "colab_type": "code",
        "colab": {
          "base_uri": "https://localhost:8080/",
          "height": 35
        },
        "outputId": "08d52df8-dc03-4500-860c-4e141104dfd3"
      },
      "source": [
        "mae = mean_absolute_error(y_train, y_pred)\n",
        "print(f'Train Error (01-03 salesprice): {mae:.2f} total dollars')"
      ],
      "execution_count": 132,
      "outputs": [
        {
          "output_type": "stream",
          "text": [
            "Train Error (01-03 salesprice): 158708.29 total dollars\n"
          ],
          "name": "stdout"
        }
      ]
    },
    {
      "cell_type": "code",
      "metadata": {
        "id": "q16wZacPCItt",
        "colab_type": "code",
        "colab": {
          "base_uri": "https://localhost:8080/",
          "height": 35
        },
        "outputId": "fbf1b680-bced-4524-e24f-34d8099e41c9"
      },
      "source": [
        "# Test Error\n",
        "y_pred = [y_train.mean()] * len(y_test)\n",
        "mae = mean_absolute_error(y_test, y_pred)\n",
        "print(f'Test Error (04 salesprice): {mae:.2f} total dollars')"
      ],
      "execution_count": 133,
      "outputs": [
        {
          "output_type": "stream",
          "text": [
            "Test Error (04 salesprice): 155685.48 total dollars\n"
          ],
          "name": "stdout"
        }
      ]
    },
    {
      "cell_type": "code",
      "metadata": {
        "id": "Uej42yOrCZ_z",
        "colab_type": "code",
        "colab": {
          "base_uri": "https://localhost:8080/",
          "height": 542
        },
        "outputId": "82945609-0449-439a-de68-4f53d1927ffa"
      },
      "source": [
        "import pandas as pd\n",
        "import plotly.express as px\n",
        "\n",
        "px.scatter(\n",
        "    X_train,\n",
        "    x='GROSS_SQUARE_FEET',\n",
        "    y=y_train,\n",
        "    text='month',\n",
        "    #title='US Presidential Elections, 1952-2004',\n",
        "    trendline='ols',  # Ordinary Least Squares\n",
        ")"
      ],
      "execution_count": 113,
      "outputs": [
        {
          "output_type": "display_data",
          "data": {
            "text/html": [
              "<html>\n",
              "<head><meta charset=\"utf-8\" /></head>\n",
              "<body>\n",
              "    <div>\n",
              "            <script src=\"https://cdnjs.cloudflare.com/ajax/libs/mathjax/2.7.5/MathJax.js?config=TeX-AMS-MML_SVG\"></script><script type=\"text/javascript\">if (window.MathJax) {MathJax.Hub.Config({SVG: {font: \"STIX-Web\"}});}</script>\n",
              "                <script type=\"text/javascript\">window.PlotlyConfig = {MathJaxConfig: 'local'};</script>\n",
              "        <script src=\"https://cdn.plot.ly/plotly-latest.min.js\"></script>    \n",
              "            <div id=\"5c4203b7-fb9b-41d8-acb6-337ed1a0d427\" class=\"plotly-graph-div\" style=\"height:525px; width:100%;\"></div>\n",
              "            <script type=\"text/javascript\">\n",
              "                \n",
              "                    window.PLOTLYENV=window.PLOTLYENV || {};\n",
              "                    \n",
              "                if (document.getElementById(\"5c4203b7-fb9b-41d8-acb6-337ed1a0d427\")) {\n",
              "                    Plotly.newPlot(\n",
              "                        '5c4203b7-fb9b-41d8-acb6-337ed1a0d427',\n",
              "                        [{\"hoverlabel\": {\"namelength\": 0}, \"hovertemplate\": \"GROSS_SQUARE_FEET=%{x}<br>y=%{y}<br>month=%{text}\", \"legendgroup\": \"\", \"marker\": {\"color\": \"#636efa\", \"symbol\": \"circle\"}, \"mode\": \"markers+text\", \"name\": \"\", \"showlegend\": false, \"text\": [1.0, 1.0, 1.0, 1.0, 1.0, 1.0, 1.0, 1.0, 1.0, 1.0, 1.0, 1.0, 1.0, 1.0, 1.0, 1.0, 1.0, 1.0, 1.0, 1.0, 1.0, 1.0, 1.0, 1.0, 1.0, 1.0, 1.0, 1.0, 1.0, 1.0, 1.0, 1.0, 1.0, 1.0, 1.0, 1.0, 1.0, 1.0, 1.0, 1.0, 1.0, 1.0, 1.0, 1.0, 1.0, 1.0, 1.0, 1.0, 1.0, 1.0, 1.0, 1.0, 1.0, 1.0, 1.0, 1.0, 1.0, 1.0, 1.0, 1.0, 1.0, 1.0, 1.0, 1.0, 1.0, 1.0, 1.0, 1.0, 1.0, 1.0, 1.0, 1.0, 1.0, 1.0, 1.0, 1.0, 1.0, 1.0, 1.0, 1.0, 1.0, 1.0, 1.0, 1.0, 1.0, 1.0, 1.0, 1.0, 1.0, 1.0, 1.0, 1.0, 1.0, 1.0, 1.0, 1.0, 1.0, 1.0, 1.0, 1.0, 1.0, 1.0, 1.0, 1.0, 1.0, 1.0, 1.0, 1.0, 1.0, 1.0, 1.0, 1.0, 1.0, 1.0, 1.0, 1.0, 1.0, 1.0, 1.0, 1.0, 1.0, 1.0, 1.0, 1.0, 1.0, 1.0, 1.0, 1.0, 1.0, 1.0, 1.0, 1.0, 1.0, 1.0, 1.0, 1.0, 1.0, 1.0, 1.0, 1.0, 1.0, 1.0, 1.0, 1.0, 1.0, 1.0, 1.0, 1.0, 1.0, 1.0, 1.0, 1.0, 1.0, 1.0, 1.0, 1.0, 1.0, 1.0, 1.0, 1.0, 1.0, 1.0, 1.0, 1.0, 1.0, 1.0, 1.0, 1.0, 1.0, 1.0, 1.0, 1.0, 1.0, 1.0, 1.0, 1.0, 1.0, 1.0, 1.0, 1.0, 1.0, 1.0, 1.0, 1.0, 1.0, 1.0, 1.0, 1.0, 1.0, 1.0, 1.0, 1.0, 1.0, 1.0, 1.0, 1.0, 1.0, 1.0, 1.0, 1.0, 1.0, 1.0, 1.0, 1.0, 1.0, 1.0, 1.0, 1.0, 1.0, 1.0, 1.0, 1.0, 1.0, 1.0, 1.0, 1.0, 1.0, 1.0, 1.0, 1.0, 1.0, 1.0, 1.0, 1.0, 1.0, 1.0, 1.0, 1.0, 1.0, 1.0, 1.0, 1.0, 1.0, 1.0, 1.0, 1.0, 1.0, 1.0, 1.0, 1.0, 1.0, 1.0, 1.0, 1.0, 1.0, 1.0, 1.0, 1.0, 1.0, 1.0, 1.0, 1.0, 1.0, 1.0, 1.0, 1.0, 1.0, 1.0, 1.0, 1.0, 1.0, 1.0, 1.0, 1.0, 1.0, 1.0, 1.0, 1.0, 1.0, 1.0, 1.0, 1.0, 1.0, 1.0, 1.0, 1.0, 1.0, 1.0, 1.0, 1.0, 1.0, 1.0, 1.0, 1.0, 1.0, 1.0, 1.0, 1.0, 1.0, 1.0, 1.0, 1.0, 1.0, 1.0, 1.0, 1.0, 1.0, 1.0, 1.0, 1.0, 1.0, 1.0, 1.0, 1.0, 1.0, 1.0, 1.0, 1.0, 1.0, 1.0, 1.0, 1.0, 1.0, 1.0, 1.0, 1.0, 1.0, 1.0, 1.0, 1.0, 1.0, 1.0, 1.0, 1.0, 1.0, 1.0, 1.0, 1.0, 1.0, 1.0, 1.0, 1.0, 1.0, 1.0, 1.0, 1.0, 1.0, 1.0, 1.0, 1.0, 1.0, 1.0, 1.0, 1.0, 1.0, 1.0, 1.0, 1.0, 1.0, 1.0, 1.0, 1.0, 1.0, 1.0, 1.0, 1.0, 1.0, 1.0, 1.0, 1.0, 1.0, 1.0, 1.0, 1.0, 1.0, 1.0, 1.0, 1.0, 1.0, 1.0, 1.0, 1.0, 1.0, 1.0, 1.0, 1.0, 1.0, 1.0, 1.0, 1.0, 1.0, 1.0, 1.0, 1.0, 1.0, 1.0, 1.0, 1.0, 1.0, 1.0, 1.0, 1.0, 1.0, 1.0, 1.0, 1.0, 1.0, 1.0, 1.0, 1.0, 1.0, 1.0, 1.0, 1.0, 1.0, 1.0, 1.0, 1.0, 1.0, 1.0, 1.0, 1.0, 1.0, 1.0, 1.0, 1.0, 1.0, 1.0, 1.0, 1.0, 1.0, 1.0, 1.0, 1.0, 1.0, 1.0, 1.0, 1.0, 1.0, 1.0, 1.0, 1.0, 1.0, 1.0, 1.0, 1.0, 1.0, 1.0, 1.0, 1.0, 1.0, 1.0, 1.0, 1.0, 1.0, 1.0, 1.0, 1.0, 1.0, 1.0, 1.0, 1.0, 1.0, 1.0, 1.0, 1.0, 1.0, 1.0, 1.0, 1.0, 1.0, 1.0, 1.0, 1.0, 1.0, 1.0, 1.0, 1.0, 1.0, 1.0, 1.0, 1.0, 1.0, 1.0, 1.0, 1.0, 1.0, 1.0, 1.0, 1.0, 1.0, 1.0, 1.0, 1.0, 1.0, 1.0, 1.0, 1.0, 1.0, 1.0, 1.0, 1.0, 1.0, 1.0, 1.0, 1.0, 1.0, 1.0, 1.0, 1.0, 1.0, 1.0, 1.0, 1.0, 1.0, 1.0, 1.0, 1.0, 1.0, 1.0, 1.0, 1.0, 1.0, 1.0, 1.0, 1.0, 1.0, 1.0, 1.0, 1.0, 1.0, 1.0, 1.0, 1.0, 1.0, 1.0, 1.0, 1.0, 1.0, 1.0, 1.0, 1.0, 1.0, 1.0, 1.0, 1.0, 1.0, 1.0, 1.0, 1.0, 1.0, 1.0, 1.0, 1.0, 1.0, 1.0, 1.0, 1.0, 1.0, 1.0, 1.0, 1.0, 1.0, 1.0, 1.0, 1.0, 1.0, 1.0, 1.0, 1.0, 1.0, 1.0, 1.0, 1.0, 1.0, 1.0, 1.0, 1.0, 1.0, 1.0, 1.0, 1.0, 1.0, 1.0, 1.0, 1.0, 1.0, 1.0, 1.0, 1.0, 1.0, 1.0, 1.0, 1.0, 1.0, 1.0, 1.0, 1.0, 1.0, 1.0, 1.0, 1.0, 1.0, 1.0, 1.0, 1.0, 1.0, 1.0, 1.0, 1.0, 1.0, 1.0, 1.0, 1.0, 1.0, 1.0, 1.0, 1.0, 1.0, 1.0, 1.0, 1.0, 1.0, 1.0, 1.0, 1.0, 1.0, 1.0, 1.0, 1.0, 1.0, 1.0, 1.0, 1.0, 1.0, 1.0, 1.0, 1.0, 1.0, 1.0, 1.0, 1.0, 1.0, 1.0, 1.0, 1.0, 1.0, 1.0, 1.0, 1.0, 1.0, 1.0, 1.0, 1.0, 1.0, 1.0, 1.0, 1.0, 1.0, 1.0, 1.0, 1.0, 1.0, 1.0, 1.0, 1.0, 1.0, 1.0, 1.0, 1.0, 1.0, 1.0, 1.0, 1.0, 1.0, 1.0, 1.0, 1.0, 1.0, 1.0, 1.0, 1.0, 1.0, 1.0, 1.0, 1.0, 1.0, 1.0, 1.0, 1.0, 1.0, 1.0, 1.0, 1.0, 1.0, 1.0, 1.0, 1.0, 1.0, 1.0, 1.0, 1.0, 1.0, 1.0, 1.0, 1.0, 1.0, 1.0, 1.0, 1.0, 1.0, 1.0, 1.0, 1.0, 1.0, 1.0, 1.0, 1.0, 1.0, 1.0, 1.0, 1.0, 1.0, 1.0, 1.0, 1.0, 1.0, 1.0, 1.0, 1.0, 1.0, 1.0, 1.0, 1.0, 1.0, 1.0, 1.0, 1.0, 1.0, 1.0, 1.0, 1.0, 1.0, 1.0, 1.0, 1.0, 1.0, 1.0, 1.0, 1.0, 1.0, 1.0, 1.0, 1.0, 1.0, 1.0, 1.0, 1.0, 1.0, 1.0, 1.0, 1.0, 1.0, 1.0, 1.0, 1.0, 1.0, 1.0, 1.0, 1.0, 1.0, 1.0, 1.0, 1.0, 1.0, 1.0, 1.0, 1.0, 1.0, 1.0, 1.0, 1.0, 1.0, 1.0, 1.0, 1.0, 1.0, 1.0, 1.0, 1.0, 1.0, 1.0, 1.0, 1.0, 1.0, 1.0, 1.0, 1.0, 1.0, 1.0, 1.0, 1.0, 1.0, 1.0, 1.0, 1.0, 1.0, 1.0, 1.0, 1.0, 1.0, 1.0, 1.0, 1.0, 1.0, 1.0, 1.0, 1.0, 1.0, 1.0, 1.0, 1.0, 1.0, 1.0, 1.0, 1.0, 1.0, 1.0, 1.0, 1.0, 1.0, 1.0, 1.0, 1.0, 1.0, 1.0, 1.0, 1.0, 1.0, 1.0, 1.0, 1.0, 1.0, 1.0, 1.0, 1.0, 1.0, 1.0, 1.0, 1.0, 1.0, 1.0, 1.0, 1.0, 1.0, 1.0, 1.0, 1.0, 1.0, 1.0, 1.0, 1.0, 1.0, 1.0, 1.0, 1.0, 1.0, 1.0, 1.0, 1.0, 1.0, 1.0, 1.0, 1.0, 1.0, 1.0, 1.0, 1.0, 1.0, 1.0, 1.0, 1.0, 1.0, 2.0, 2.0, 2.0, 2.0, 2.0, 2.0, 2.0, 2.0, 2.0, 2.0, 2.0, 2.0, 2.0, 2.0, 2.0, 2.0, 2.0, 2.0, 2.0, 2.0, 2.0, 2.0, 2.0, 2.0, 2.0, 2.0, 2.0, 2.0, 2.0, 2.0, 2.0, 2.0, 2.0, 2.0, 2.0, 2.0, 2.0, 2.0, 2.0, 2.0, 2.0, 2.0, 2.0, 2.0, 2.0, 2.0, 2.0, 2.0, 2.0, 2.0, 2.0, 2.0, 2.0, 2.0, 2.0, 2.0, 2.0, 2.0, 2.0, 2.0, 2.0, 2.0, 2.0, 2.0, 2.0, 2.0, 2.0, 2.0, 2.0, 2.0, 2.0, 2.0, 2.0, 2.0, 2.0, 2.0, 2.0, 2.0, 2.0, 2.0, 2.0, 2.0, 2.0, 2.0, 2.0, 2.0, 2.0, 2.0, 2.0, 2.0, 2.0, 2.0, 2.0, 2.0, 2.0, 2.0, 2.0, 2.0, 2.0, 2.0, 2.0, 2.0, 2.0, 2.0, 2.0, 2.0, 2.0, 2.0, 2.0, 2.0, 2.0, 2.0, 2.0, 2.0, 2.0, 2.0, 2.0, 2.0, 2.0, 2.0, 2.0, 2.0, 2.0, 2.0, 2.0, 2.0, 2.0, 2.0, 2.0, 2.0, 2.0, 2.0, 2.0, 2.0, 2.0, 2.0, 2.0, 2.0, 2.0, 2.0, 2.0, 2.0, 2.0, 2.0, 2.0, 2.0, 2.0, 2.0, 2.0, 2.0, 2.0, 2.0, 2.0, 2.0, 2.0, 2.0, 2.0, 2.0, 2.0, 2.0, 2.0, 2.0, 2.0, 2.0, 2.0, 2.0, 2.0, 2.0, 2.0, 2.0, 2.0, 2.0, 2.0, 2.0, 2.0, 2.0, 2.0, 2.0, 2.0, 2.0, 2.0, 2.0, 2.0, 2.0, 2.0, 2.0, 2.0, 2.0, 2.0, 2.0, 2.0, 2.0, 2.0, 2.0, 2.0, 2.0, 2.0, 2.0, 2.0, 2.0, 2.0, 2.0, 2.0, 2.0, 2.0, 2.0, 2.0, 2.0, 2.0, 2.0, 2.0, 2.0, 2.0, 2.0, 2.0, 2.0, 2.0, 2.0, 2.0, 2.0, 2.0, 2.0, 2.0, 2.0, 2.0, 2.0, 2.0, 2.0, 2.0, 2.0, 2.0, 2.0, 2.0, 2.0, 2.0, 2.0, 2.0, 2.0, 2.0, 2.0, 2.0, 2.0, 2.0, 2.0, 2.0, 2.0, 2.0, 2.0, 2.0, 2.0, 2.0, 2.0, 2.0, 2.0, 2.0, 2.0, 2.0, 2.0, 2.0, 2.0, 2.0, 2.0, 2.0, 2.0, 2.0, 2.0, 2.0, 2.0, 2.0, 2.0, 2.0, 2.0, 2.0, 2.0, 2.0, 2.0, 2.0, 2.0, 2.0, 2.0, 2.0, 2.0, 2.0, 2.0, 2.0, 2.0, 2.0, 2.0, 2.0, 2.0, 2.0, 2.0, 2.0, 2.0, 2.0, 2.0, 2.0, 2.0, 2.0, 2.0, 2.0, 2.0, 2.0, 2.0, 2.0, 2.0, 2.0, 2.0, 2.0, 2.0, 2.0, 2.0, 2.0, 2.0, 2.0, 2.0, 2.0, 2.0, 2.0, 2.0, 2.0, 2.0, 2.0, 2.0, 2.0, 2.0, 2.0, 2.0, 2.0, 2.0, 2.0, 2.0, 2.0, 2.0, 2.0, 2.0, 2.0, 2.0, 2.0, 2.0, 2.0, 2.0, 2.0, 2.0, 2.0, 2.0, 2.0, 2.0, 2.0, 2.0, 2.0, 2.0, 2.0, 2.0, 2.0, 2.0, 2.0, 2.0, 2.0, 2.0, 2.0, 2.0, 2.0, 2.0, 2.0, 2.0, 2.0, 2.0, 2.0, 2.0, 2.0, 2.0, 2.0, 2.0, 2.0, 2.0, 2.0, 2.0, 2.0, 2.0, 2.0, 2.0, 2.0, 2.0, 2.0, 2.0, 2.0, 2.0, 2.0, 2.0, 2.0, 2.0, 2.0, 2.0, 2.0, 2.0, 2.0, 2.0, 2.0, 2.0, 2.0, 2.0, 2.0, 2.0, 2.0, 2.0, 2.0, 2.0, 2.0, 2.0, 2.0, 2.0, 2.0, 2.0, 2.0, 2.0, 2.0, 2.0, 2.0, 2.0, 2.0, 2.0, 2.0, 2.0, 2.0, 2.0, 2.0, 2.0, 2.0, 2.0, 2.0, 2.0, 2.0, 2.0, 2.0, 2.0, 2.0, 2.0, 2.0, 2.0, 2.0, 2.0, 2.0, 2.0, 2.0, 2.0, 2.0, 2.0, 2.0, 2.0, 2.0, 2.0, 2.0, 2.0, 2.0, 2.0, 2.0, 2.0, 2.0, 2.0, 2.0, 2.0, 2.0, 2.0, 2.0, 2.0, 2.0, 2.0, 2.0, 2.0, 2.0, 2.0, 2.0, 2.0, 2.0, 2.0, 2.0, 2.0, 2.0, 2.0, 2.0, 2.0, 2.0, 2.0, 2.0, 2.0, 2.0, 2.0, 2.0, 2.0, 2.0, 2.0, 2.0, 2.0, 2.0, 2.0, 2.0, 2.0, 2.0, 2.0, 2.0, 2.0, 2.0, 2.0, 2.0, 2.0, 2.0, 2.0, 2.0, 2.0, 2.0, 2.0, 2.0, 2.0, 2.0, 2.0, 2.0, 2.0, 2.0, 2.0, 2.0, 2.0, 2.0, 2.0, 2.0, 2.0, 2.0, 2.0, 2.0, 2.0, 2.0, 2.0, 2.0, 2.0, 2.0, 2.0, 2.0, 2.0, 2.0, 2.0, 2.0, 2.0, 2.0, 2.0, 2.0, 2.0, 2.0, 2.0, 2.0, 2.0, 2.0, 2.0, 2.0, 2.0, 2.0, 2.0, 2.0, 2.0, 2.0, 2.0, 2.0, 2.0, 2.0, 2.0, 2.0, 2.0, 2.0, 2.0, 2.0, 2.0, 2.0, 2.0, 2.0, 2.0, 2.0, 2.0, 2.0, 2.0, 2.0, 2.0, 2.0, 2.0, 2.0, 2.0, 2.0, 2.0, 2.0, 2.0, 2.0, 2.0, 2.0, 2.0, 2.0, 2.0, 2.0, 2.0, 2.0, 2.0, 2.0, 2.0, 2.0, 2.0, 2.0, 2.0, 2.0, 2.0, 2.0, 2.0, 2.0, 2.0, 2.0, 2.0, 2.0, 2.0, 2.0, 2.0, 2.0, 2.0, 2.0, 2.0, 2.0, 2.0, 2.0, 2.0, 2.0, 2.0, 2.0, 2.0, 2.0, 2.0, 2.0, 2.0, 2.0, 2.0, 2.0, 2.0, 2.0, 2.0, 2.0, 2.0, 2.0, 2.0, 2.0, 2.0, 2.0, 2.0, 2.0, 2.0, 2.0, 2.0, 2.0, 2.0, 2.0, 2.0, 2.0, 2.0, 2.0, 2.0, 2.0, 2.0, 2.0, 2.0, 2.0, 2.0, 2.0, 2.0, 2.0, 2.0, 2.0, 2.0, 2.0, 2.0, 2.0, 2.0, 2.0, 2.0, 2.0, 2.0, 2.0, 2.0, 2.0, 2.0, 2.0, 2.0, 2.0, 2.0, 2.0, 2.0, 2.0, 2.0, 2.0, 2.0, 2.0, 2.0, 2.0, 2.0, 2.0, 2.0, 2.0, 2.0, 3.0, 3.0, 3.0, 3.0, 3.0, 3.0, 3.0, 3.0, 3.0, 3.0, 3.0, 3.0, 3.0, 3.0, 3.0, 3.0, 3.0, 3.0, 3.0, 3.0, 3.0, 3.0, 3.0, 3.0, 3.0, 3.0, 3.0, 3.0, 3.0, 3.0, 3.0, 3.0, 3.0, 3.0, 3.0, 3.0, 3.0, 3.0, 3.0, 3.0, 3.0, 3.0, 3.0, 3.0, 3.0, 3.0, 3.0, 3.0, 3.0, 3.0, 3.0, 3.0, 3.0, 3.0, 3.0, 3.0, 3.0, 3.0, 3.0, 3.0, 3.0, 3.0, 3.0, 3.0, 3.0, 3.0, 3.0, 3.0, 3.0, 3.0, 3.0, 3.0, 3.0, 3.0, 3.0, 3.0, 3.0, 3.0, 3.0, 3.0, 3.0, 3.0, 3.0, 3.0, 3.0, 3.0, 3.0, 3.0, 3.0, 3.0, 3.0, 3.0, 3.0, 3.0, 3.0, 3.0, 3.0, 3.0, 3.0, 3.0, 3.0, 3.0, 3.0, 3.0, 3.0, 3.0, 3.0, 3.0, 3.0, 3.0, 3.0, 3.0, 3.0, 3.0, 3.0, 3.0, 3.0, 3.0, 3.0, 3.0, 3.0, 3.0, 3.0, 3.0, 3.0, 3.0, 3.0, 3.0, 3.0, 3.0, 3.0, 3.0, 3.0, 3.0, 3.0, 3.0, 3.0, 3.0, 3.0, 3.0, 3.0, 3.0, 3.0, 3.0, 3.0, 3.0, 3.0, 3.0, 3.0, 3.0, 3.0, 3.0, 3.0, 3.0, 3.0, 3.0, 3.0, 3.0, 3.0, 3.0, 3.0, 3.0, 3.0, 3.0, 3.0, 3.0, 3.0, 3.0, 3.0, 3.0, 3.0, 3.0, 3.0, 3.0, 3.0, 3.0, 3.0, 3.0, 3.0, 3.0, 3.0, 3.0, 3.0, 3.0, 3.0, 3.0, 3.0, 3.0, 3.0, 3.0, 3.0, 3.0, 3.0, 3.0, 3.0, 3.0, 3.0, 3.0, 3.0, 3.0, 3.0, 3.0, 3.0, 3.0, 3.0, 3.0, 3.0, 3.0, 3.0, 3.0, 3.0, 3.0, 3.0, 3.0, 3.0, 3.0, 3.0, 3.0, 3.0, 3.0, 3.0, 3.0, 3.0, 3.0, 3.0, 3.0, 3.0, 3.0, 3.0, 3.0, 3.0, 3.0, 3.0, 3.0, 3.0, 3.0, 3.0, 3.0, 3.0, 3.0, 3.0, 3.0, 3.0, 3.0, 3.0, 3.0, 3.0, 3.0, 3.0, 3.0, 3.0, 3.0, 3.0, 3.0, 3.0, 3.0, 3.0, 3.0, 3.0, 3.0, 3.0, 3.0, 3.0, 3.0, 3.0, 3.0, 3.0, 3.0, 3.0, 3.0, 3.0, 3.0, 3.0, 3.0, 3.0, 3.0, 3.0, 3.0, 3.0, 3.0, 3.0, 3.0, 3.0, 3.0, 3.0, 3.0, 3.0, 3.0, 3.0, 3.0, 3.0, 3.0, 3.0, 3.0, 3.0, 3.0, 3.0, 3.0, 3.0, 3.0, 3.0, 3.0, 3.0, 3.0, 3.0, 3.0, 3.0, 3.0, 3.0, 3.0, 3.0, 3.0, 3.0, 3.0, 3.0, 3.0, 3.0, 3.0, 3.0, 3.0, 3.0, 3.0, 3.0, 3.0, 3.0, 3.0, 3.0, 3.0, 3.0, 3.0, 3.0, 3.0, 3.0, 3.0, 3.0, 3.0, 3.0, 3.0, 3.0, 3.0, 3.0, 3.0, 3.0, 3.0, 3.0, 3.0, 3.0, 3.0, 3.0, 3.0, 3.0, 3.0, 3.0, 3.0, 3.0, 3.0, 3.0, 3.0, 3.0, 3.0, 3.0, 3.0, 3.0, 3.0, 3.0, 3.0, 3.0, 3.0, 3.0, 3.0, 3.0, 3.0, 3.0, 3.0, 3.0, 3.0, 3.0, 3.0, 3.0, 3.0, 3.0, 3.0, 3.0, 3.0, 3.0, 3.0, 3.0, 3.0, 3.0, 3.0, 3.0, 3.0, 3.0, 3.0, 3.0, 3.0, 3.0, 3.0, 3.0, 3.0, 3.0, 3.0, 3.0, 3.0, 3.0, 3.0, 3.0, 3.0, 3.0, 3.0, 3.0, 3.0, 3.0, 3.0, 3.0, 3.0, 3.0, 3.0, 3.0, 3.0, 3.0, 3.0, 3.0, 3.0, 3.0, 3.0, 3.0, 3.0, 3.0, 3.0, 3.0, 3.0, 3.0, 3.0, 3.0, 3.0, 3.0, 3.0, 3.0, 3.0, 3.0, 3.0, 3.0, 3.0, 3.0, 3.0, 3.0, 3.0, 3.0, 3.0, 3.0, 3.0, 3.0, 3.0, 3.0, 3.0, 3.0, 3.0, 3.0, 3.0, 3.0, 3.0, 3.0, 3.0, 3.0, 3.0, 3.0, 3.0, 3.0, 3.0, 3.0, 3.0, 3.0, 3.0, 3.0, 3.0, 3.0, 3.0, 3.0, 3.0, 3.0, 3.0, 3.0, 3.0, 3.0, 3.0, 3.0, 3.0, 3.0, 3.0, 3.0, 3.0, 3.0, 3.0, 3.0, 3.0, 3.0, 3.0, 3.0, 3.0, 3.0, 3.0, 3.0, 3.0, 3.0, 3.0, 3.0, 3.0, 3.0, 3.0, 3.0, 3.0, 3.0, 3.0, 3.0, 3.0, 3.0, 3.0, 3.0, 3.0, 3.0, 3.0, 3.0, 3.0, 3.0, 3.0, 3.0, 3.0, 3.0, 3.0, 3.0, 3.0, 3.0, 3.0, 3.0, 3.0, 3.0, 3.0, 3.0, 3.0, 3.0, 3.0, 3.0, 3.0, 3.0, 3.0, 3.0, 3.0, 3.0, 3.0, 3.0, 3.0, 3.0, 3.0, 3.0, 3.0, 3.0, 3.0, 3.0, 3.0, 3.0, 3.0, 3.0, 3.0, 3.0, 3.0, 3.0, 3.0, 3.0, 3.0, 3.0, 3.0, 3.0, 3.0, 3.0, 3.0, 3.0, 3.0, 3.0, 3.0, 3.0, 3.0, 3.0, 3.0, 3.0, 3.0, 3.0, 3.0, 3.0, 3.0, 3.0, 3.0, 3.0, 3.0, 3.0, 3.0, 3.0, 3.0, 3.0, 3.0, 3.0, 3.0, 3.0, 3.0, 3.0, 3.0, 3.0, 3.0, 3.0, 3.0, 3.0, 3.0, 3.0, 3.0, 3.0, 3.0, 3.0, 3.0, 3.0, 3.0, 3.0, 3.0, 3.0, 3.0, 3.0, 3.0, 3.0, 3.0, 3.0, 3.0, 3.0, 3.0, 3.0, 3.0, 3.0, 3.0, 3.0, 3.0, 3.0, 3.0, 3.0, 3.0, 3.0, 3.0, 3.0, 3.0, 3.0, 3.0, 3.0, 3.0, 3.0, 3.0, 3.0, 3.0, 3.0, 3.0, 3.0, 3.0, 3.0, 3.0, 3.0, 3.0, 3.0, 3.0, 3.0, 3.0, 3.0, 3.0, 3.0, 3.0, 3.0, 3.0, 3.0, 3.0, 3.0, 3.0, 3.0, 3.0, 3.0, 3.0, 3.0, 3.0, 3.0, 3.0, 3.0, 3.0, 3.0, 3.0, 3.0, 3.0, 3.0, 3.0, 3.0, 3.0, 3.0, 3.0, 3.0, 3.0, 3.0, 3.0, 3.0, 3.0, 3.0, 3.0, 3.0, 3.0, 3.0, 3.0, 3.0, 3.0, 3.0, 3.0, 3.0, 3.0, 3.0, 3.0, 3.0, 3.0, 3.0, 3.0, 3.0, 3.0, 3.0, 3.0, 3.0, 3.0, 3.0, 3.0, 3.0, 3.0, 3.0, 3.0, 3.0, 3.0, 3.0], \"type\": \"scattergl\", \"x\": [1325.0, 2001.0, 2043.0, 2680.0, 1872.0, 1722.0, 1396.0, 1260.0, 1440.0, 1831.0, 1000.0, 1540.0, 1782.0, 1535.0, 1280.0, 1426.0, 900.0, 2278.0, 1392.0, 736.0, 1850.0, 1296.0, 1869.0, 1120.0, 3004.0, 1280.0, 1949.0, 1368.0, 2394.0, 1296.0, 1544.0, 1344.0, 2222.0, 1480.0, 2808.0, 1184.0, 1638.0, 1601.0, 1530.0, 3228.0, 2175.0, 1540.0, 1758.0, 880.0, 1120.0, 1377.0, 1216.0, 1487.0, 1008.0, 880.0, 2208.0, 2130.0, 1645.0, 2087.0, 1888.0, 1428.0, 1230.0, 1557.0, 1620.0, 1727.0, 1748.0, 2877.0, 1134.0, 784.0, 1036.0, 1316.0, 1086.0, 1080.0, 1592.0, 1422.0, 1080.0, 864.0, 1332.0, 1528.0, 1344.0, 540.0, 1258.0, 1440.0, 1280.0, 1190.0, 1380.0, 1280.0, 1440.0, 1399.0, 1455.0, 1384.0, 1060.0, 1252.0, 2160.0, 1152.0, 1620.0, 1782.0, 1485.0, 1400.0, 1134.0, 1500.0, 1024.0, 1008.0, 1248.0, 1428.0, 1031.0, 1653.0, 1913.0, 1104.0, 1648.0, 1234.0, 1000.0, 1688.0, 988.0, 900.0, 1888.0, 1888.0, 1600.0, 944.0, 2700.0, 2365.0, 1900.0, 1965.0, 1440.0, 1660.0, 992.0, 1620.0, 1440.0, 1360.0, 744.0, 1088.0, 0.0, 1860.0, 1023.0, 1683.0, 1214.0, 1844.0, 1428.0, 969.0, 1328.0, 1600.0, 1200.0, 2052.0, 1008.0, 1152.0, 1345.0, 1200.0, 2814.0, 1360.0, 1578.0, 2205.0, 1200.0, 1450.0, 1648.0, 1100.0, 1280.0, 1116.0, 1360.0, 880.0, 1991.0, 1452.0, 956.0, 1840.0, 1282.0, 1594.0, 0.0, 1650.0, 1610.0, 1612.0, 1464.0, 1300.0, 1454.0, 1836.0, 1560.0, 1224.0, 1184.0, 1312.0, 912.0, 840.0, 1330.0, 1980.0, 1314.0, 1800.0, 1248.0, 1480.0, 870.0, 1394.0, 1440.0, 1836.0, 2007.0, 1024.0, 1500.0, 1448.0, 1648.0, 1180.0, 1064.0, 864.0, 1632.0, 1296.0, 1432.0, 1444.0, 1378.0, 1324.0, 1170.0, 1176.0, 910.0, 1522.0, 1288.0, 1368.0, 1504.0, 1035.0, 1608.0, 1623.0, 1224.0, 1144.0, 912.0, 960.0, 1400.0, 1496.0, 600.0, 2008.0, 1640.0, 1520.0, 1975.0, 704.0, 1896.0, 1144.0, 1160.0, 2140.0, 2187.0, 1914.0, 1980.0, 1600.0, 1998.0, 1044.0, 1116.0, 828.0, 1134.0, 1370.0, 0.0, 0.0, 1125.0, 2112.0, 1789.0, 1374.0, 1318.0, 2000.0, 1330.0, 1105.0, 1586.0, 1116.0, 1776.0, 1962.0, 1808.0, 960.0, 940.0, 1050.0, 2416.0, 1304.0, 900.0, 1050.0, 1813.0, 1400.0, 1200.0, 1120.0, 1622.0, 2600.0, 2300.0, 2650.0, 1242.0, 1360.0, 1650.0, 1088.0, 1520.0, 1512.0, 2048.0, 1776.0, 1476.0, 1910.0, 1056.0, 1172.0, 1224.0, 2101.0, 1476.0, 1683.0, 1760.0, 1400.0, 976.0, 1110.0, 1778.0, 1568.0, 625.0, 1144.0, 1434.0, 1564.0, 1182.0, 1080.0, 1050.0, 2888.0, 1466.0, 1188.0, 1116.0, 1224.0, 1908.0, 0.0, 1186.0, 1030.0, 1280.0, 1248.0, 1118.0, 680.0, 676.0, 1635.0, 1036.0, 1038.0, 1680.0, 1438.0, 1152.0, 1125.0, 1831.0, 1831.0, 1995.0, 1040.0, 1726.0, 821.0, 1232.0, 1440.0, 1360.0, 930.0, 748.0, 861.0, 1248.0, 1304.0, 1088.0, 1240.0, 874.0, 1402.0, 1296.0, 1440.0, 1870.0, 1496.0, 1280.0, 1245.0, 375.0, 1600.0, 1672.0, 1232.0, 2184.0, 1160.0, 1776.0, 1112.0, 1616.0, 850.0, 912.0, 1732.0, 1216.0, 2210.0, 1036.0, 1296.0, 2328.0, 2040.0, 1274.0, 1452.0, 876.0, 1436.0, 1552.0, 0.0, 0.0, 0.0, 1358.0, 1152.0, 1300.0, 1632.0, 1540.0, 1520.0, 1332.0, 1312.0, 1206.0, 1620.0, 1557.0, 1890.0, 960.0, 1282.0, 1312.0, 560.0, 1552.0, 1408.0, 1664.0, 1890.0, 800.0, 2393.0, 1012.0, 1280.0, 1200.0, 1712.0, 1260.0, 1148.0, 1056.0, 1532.0, 1066.0, 1267.0, 1092.0, 1424.0, 1551.0, 2538.0, 1765.0, 1089.0, 1225.0, 1368.0, 1216.0, 992.0, 1356.0, 1170.0, 1245.0, 1248.0, 896.0, 900.0, 1076.0, 1360.0, 1200.0, 1424.0, 1580.0, 1536.0, 944.0, 1050.0, 2275.0, 1600.0, 1344.0, 3096.0, 944.0, 960.0, 2364.0, 1728.0, 1192.0, 1312.0, 1014.0, 960.0, 1944.0, 1729.0, 1944.0, 1400.0, 1820.0, 1494.0, 960.0, 1660.0, 918.0, 3000.0, 1198.0, 698.0, 1216.0, 2200.0, 1205.0, 1976.0, 2096.0, 2248.0, 1444.0, 683.0, 1292.0, 1512.0, 1142.0, 1552.0, 1382.0, 1400.0, 1210.0, 885.0, 952.0, 1208.0, 1520.0, 960.0, 1428.0, 1812.0, 2158.0, 1638.0, 1539.0, 1920.0, 1440.0, 1450.0, 2660.0, 1600.0, 1104.0, 1440.0, 1100.0, 660.0, 1362.0, 1360.0, 1200.0, 960.0, 1575.0, 1424.0, 1820.0, 1320.0, 1800.0, 1344.0, 1240.0, 1330.0, 1008.0, 1408.0, 1120.0, 1020.0, 1050.0, 860.0, 1296.0, 1755.0, 1526.0, 1329.0, 1210.0, 720.0, 896.0, 1280.0, 1160.0, 1238.0, 1566.0, 910.0, 1020.0, 1110.0, 1440.0, 1044.0, 1232.0, 2242.0, 704.0, 1210.0, 1708.0, 1140.0, 1244.0, 1995.0, 1617.0, 2475.0, 1160.0, 2612.0, 1480.0, 2660.0, 1600.0, 784.0, 2500.0, 1170.0, 1460.0, 1104.0, 3836.0, 1036.0, 1090.0, 1520.0, 0.0, 1360.0, 1950.0, 1216.0, 2100.0, 1750.0, 1668.0, 2003.0, 1344.0, 1720.0, 1114.0, 1796.0, 1238.0, 800.0, 1480.0, 1632.0, 1508.0, 1700.0, 2165.0, 1360.0, 2344.0, 2132.0, 1298.0, 1312.0, 1452.0, 1412.0, 1050.0, 1060.0, 2492.0, 1785.0, 1147.0, 1578.0, 1300.0, 1096.0, 1925.0, 1512.0, 1716.0, 1280.0, 864.0, 0.0, 2486.0, 1338.0, 1260.0, 1322.0, 1620.0, 2700.0, 2050.0, 1683.0, 1489.0, 1916.0, 1320.0, 1200.0, 1180.0, 1672.0, 1344.0, 1152.0, 1224.0, 1566.0, 660.0, 874.0, 1460.0, 1566.0, 1448.0, 1578.0, 872.0, 1792.0, 1332.0, 816.0, 1220.0, 1460.0, 1200.0, 488.0, 1242.0, 1530.0, 2500.0, 900.0, 660.0, 1250.0, 1040.0, 1280.0, 1368.0, 920.0, 1751.0, 1560.0, 2014.0, 1216.0, 0.0, 0.0, 1332.0, 1300.0, 904.0, 1726.0, 1851.0, 1080.0, 1216.0, 1408.0, 1101.0, 1094.0, 1050.0, 1188.0, 1660.0, 1360.0, 1504.0, 1328.0, 924.0, 5184.0, 1392.0, 1620.0, 1305.0, 1933.0, 1536.0, 926.0, 1152.0, 820.0, 1568.0, 1630.0, 2360.0, 1265.0, 1116.0, 1160.0, 1150.0, 1192.0, 1350.0, 1020.0, 632.0, 2384.0, 1256.0, 1176.0, 1144.0, 1828.0, 761.0, 1794.0, 2160.0, 1116.0, 1116.0, 2292.0, 1342.0, 1758.0, 1434.0, 1488.0, 1321.0, 1472.0, 1088.0, 1160.0, 1650.0, 1568.0, 1680.0, 1650.0, 1050.0, 1560.0, 1456.0, 1288.0, 1828.0, 1760.0, 1168.0, 1568.0, 1180.0, 1300.0, 1400.0, 896.0, 1296.0, 1000.0, 1295.0, 960.0, 1352.0, 1056.0, 1480.0, 1600.0, 1188.0, 1646.0, 1792.0, 1224.0, 1224.0, 2464.0, 796.0, 1080.0, 1575.0, 1206.0, 1664.0, 1888.0, 924.0, 1084.0, 1111.0, 1000.0, 836.0, 1386.0, 1633.0, 1460.0, 1185.0, 1748.0, 1008.0, 1276.0, 990.0, 876.0, 648.0, 1024.0, 902.0, 1964.0, 1415.0, 1151.0, 825.0, 1252.0, 2000.0, 1100.0, 1622.0, 900.0, 1900.0, 2000.0, 1408.0, 1515.0, 1600.0, 1872.0, 1080.0, 1665.0, 1744.0, 1194.0, 720.0, 1024.0, 1770.0, 1288.0, 1388.0, 1242.0, 1202.0, 1472.0, 1506.0, 1044.0, 1636.0, 1300.0, 1350.0, 1255.0, 1585.0, 1224.0, 2120.0, 1520.0, 1280.0, 1056.0, 1026.0, 1600.0, 1200.0, 1296.0, 1324.0, 1552.0, 1690.0, 980.0, 1324.0, 1592.0, 2782.0, 1585.0, 1180.0, 1680.0, 1614.0, 1632.0, 1204.0, 1196.0, 1156.0, 1198.0, 1564.0, 2490.0, 1295.0, 1405.0, 960.0, 425.0, 904.0, 1040.0, 1254.0, 3468.0, 1683.0, 1776.0, 1718.0, 970.0, 576.0, 1380.0, 1920.0, 1328.0, 0.0, 1064.0, 1344.0, 1134.0, 1176.0, 1152.0, 1036.0, 1148.0, 1220.0, 1328.0, 792.0, 820.0, 1608.0, 1260.0, 1377.0, 996.0, 2037.0, 1202.0, 1150.0, 1224.0, 2540.0, 1469.0, 1216.0, 1031.0, 1980.0, 1500.0, 1296.0, 1204.0, 1296.0, 1280.0, 1691.0, 1160.0, 1212.0, 1100.0, 1624.0, 978.0, 1576.0, 1448.0, 1072.0, 1264.0, 942.0, 1468.0, 1296.0, 1720.0, 3184.0, 1516.0, 1476.0, 1344.0, 2484.0, 1339.0, 1350.0, 1848.0, 600.0, 1350.0, 2420.0, 1824.0, 1056.0, 1232.0, 744.0, 1080.0, 1696.0, 1636.0, 1457.0, 1690.0, 960.0, 1102.0, 1080.0, 1842.0, 1496.0, 1232.0, 1472.0, 0.0, 1624.0, 1300.0, 1679.0, 1368.0, 1326.0, 1232.0, 1280.0, 1500.0, 1795.0, 1327.0, 1330.0, 1216.0, 436.0, 1282.0, 1260.0, 1568.0, 1305.0, 1264.0, 1248.0, 784.0, 1148.0, 1536.0, 1232.0, 1806.0, 890.0, 1600.0, 1624.0, 1288.0, 1440.0, 1856.0, 1820.0, 1350.0, 1184.0, 1250.0, 2172.0, 1539.0, 1732.0, 1020.0, 1440.0, 1584.0, 1697.0, 1546.0, 1120.0, 1890.0, 1184.0, 2680.0, 1240.0, 1132.0, 1324.0, 1782.0, 1427.0, 896.0, 1344.0, 1408.0, 1440.0, 2132.0, 1014.0, 1280.0, 1230.0, 2244.0, 1320.0, 1904.0, 1544.0, 2384.0, 1264.0, 1408.0, 1826.0, 884.0, 2063.0, 1600.0, 1260.0, 1308.0, 1700.0, 924.0, 1814.0, 1650.0, 872.0, 1348.0, 1216.0, 2058.0, 1600.0, 1544.0, 2064.0, 1440.0, 540.0, 1793.0, 1064.0, 1344.0, 1585.0, 1224.0, 1512.0, 2090.0, 1845.0, 1360.0, 1320.0, 1610.0, 770.0, 1063.0, 2208.0, 800.0, 1080.0, 1440.0, 1196.0, 1782.0, 1594.0, 1496.0, 1605.0, 1440.0, 1428.0, 600.0, 1584.0, 1976.0, 1679.0, 1800.0, 1762.0, 1400.0, 1368.0, 1152.0, 1312.0, 1624.0, 2068.0, 1120.0, 1091.0, 1215.0, 1032.0, 1744.0, 960.0, 1440.0, 1680.0, 1000.0, 448.0, 1422.0, 1250.0, 1360.0, 1350.0, 1230.0, 1152.0, 2560.0, 1624.0, 1320.0, 1248.0, 1727.0, 1528.0, 2560.0, 1809.0, 1260.0, 1212.0, 1376.0, 1528.0, 1376.0, 1248.0, 1360.0, 1808.0, 1504.0, 1536.0, 1100.0, 1144.0, 1680.0, 1550.0, 1392.0, 1330.0, 1320.0, 997.0, 1160.0, 1224.0, 1064.0, 900.0, 1296.0, 1089.0, 1525.0, 1831.0, 1281.0, 732.0, 3392.0, 600.0, 1552.0, 1519.0, 1200.0, 1044.0, 1520.0, 1468.0, 1584.0, 1840.0, 3360.0, 2511.0, 1992.0, 2120.0, 1094.0, 1224.0, 1485.0, 2134.0, 1141.0, 1208.0, 1344.0, 684.0, 1400.0, 1200.0, 1120.0, 1608.0, 1126.0, 1148.0, 3865.0, 2317.0, 1510.0, 944.0, 1260.0, 1580.0, 1534.0, 7500.0, 1494.0, 1813.0, 1320.0, 1020.0, 1328.0, 1288.0, 1575.0, 1154.0, 528.0, 866.0, 518.0, 1056.0, 1280.0, 1738.0, 1080.0, 938.0, 930.0, 1356.0, 1296.0, 1432.0, 1280.0, 1127.0, 779.0, 1256.0, 1568.0, 1552.0, 1500.0, 960.0, 1484.0, 1000.0, 960.0, 1377.0, 1728.0, 1500.0, 1715.0, 1440.0, 900.0, 2022.0, 1020.0, 1775.0, 1246.0, 2002.0, 1554.0, 1776.0, 992.0, 1274.0, 2726.0, 1000.0, 1306.0, 2466.0, 1017.0, 1080.0, 1280.0, 1991.0, 780.0, 730.0, 1264.0, 1344.0, 1152.0, 1100.0, 1280.0, 2157.0, 1707.0, 1400.0, 1298.0, 1232.0, 1289.0, 1152.0, 1000.0, 1512.0, 1260.0, 1472.0, 1116.0, 0.0, 928.0, 1120.0, 1890.0, 1272.0, 1552.0, 1036.0, 672.0, 949.0, 1325.0, 1400.0, 1760.0, 1800.0, 1656.0, 1312.0, 975.0, 845.0, 1440.0, 1648.0, 1416.0, 1475.0, 1140.0, 756.0, 1552.0, 1472.0, 1856.0, 1372.0, 1224.0, 1125.0, 1422.0, 1600.0, 1593.0, 2394.0, 1968.0, 1584.0, 1180.0, 2100.0, 1554.0, 1280.0, 1372.0, 1200.0, 1116.0, 1162.0, 2080.0, 1996.0, 1460.0, 0.0, 1600.0, 1296.0, 1456.0, 1260.0, 1696.0, 1518.0, 1725.0, 1104.0, 2392.0, 1144.0, 1335.0, 1350.0, 1307.0, 1175.0, 1528.0, 2058.0, 1320.0, 1140.0, 1598.0, 1200.0, 1354.0, 1378.0, 1160.0, 916.0, 1184.0, 928.0, 1248.0, 1214.0, 3661.0, 1200.0, 840.0, 1568.0, 1000.0, 1440.0, 1336.0, 1560.0, 630.0, 2274.0, 1280.0, 1078.0, 1920.0, 956.0, 1600.0, 1965.0, 1296.0, 1050.0, 720.0, 1408.0, 1488.0, 1416.0, 1120.0, 1092.0, 2460.0, 1020.0, 1296.0, 1138.0, 1216.0, 1288.0, 1144.0, 1220.0, 946.0, 1080.0, 996.0, 1012.0, 1240.0, 1268.0, 1516.0, 1260.0, 1296.0, 1632.0, 1567.0, 1584.0, 1520.0, 2194.0, 1630.0, 960.0, 1600.0, 2688.0, 1266.0, 1520.0, 1420.0, 1170.0, 1280.0, 1729.0, 1548.0, 1764.0, 896.0, 1440.0, 1360.0, 1168.0, 900.0, 1020.0, 1608.0, 1264.0, 1820.0, 1332.0, 1320.0, 1274.0, 2280.0, 1076.0, 1320.0, 1470.0, 1248.0, 1709.0, 975.0, 1100.0, 1083.0, 2200.0, 1377.0, 1200.0, 960.0, 1140.0, 1480.0, 1920.0, 2355.0, 1492.0, 1192.0, 2320.0, 1472.0, 1586.0, 812.0, 946.0, 1284.0, 1456.0, 2020.0, 1367.0, 1450.0, 1296.0, 1440.0, 1224.0, 1416.0, 1376.0, 600.0, 1144.0, 1516.0, 1248.0, 1260.0, 2025.0, 1356.0, 1440.0, 1890.0, 2452.0, 1440.0, 1848.0, 1902.0, 1077.0, 1344.0, 1528.0, 1750.0, 1600.0, 1145.0, 1372.0, 996.0, 756.0, 1238.0, 1488.0, 1470.0, 1728.0, 1568.0, 1632.0, 858.0, 1120.0, 1056.0, 1424.0, 1115.0, 0.0, 0.0, 2485.0, 1732.0, 1092.0, 1044.0, 1400.0, 1208.0, 1125.0, 2004.0, 1222.0, 1376.0, 1188.0, 833.0, 1152.0, 1116.0, 1464.0, 1264.0, 760.0, 1600.0, 1186.0, 1008.0, 1300.0, 1632.0, 1120.0, 1040.0, 2221.0, 2072.0, 1500.0, 1636.0, 1320.0, 1224.0, 1716.0, 1348.0, 1132.0, 2190.0, 1084.0, 931.0, 1464.0, 1520.0, 1344.0, 1200.0, 1120.0, 952.0, 799.0, 1325.0, 1086.0, 1326.0, 0.0, 1496.0, 1488.0, 1296.0, 1284.0, 2384.0, 2047.0, 1050.0, 978.0, 952.0, 1148.0, 896.0, 1152.0, 1128.0, 1144.0, 1190.0, 1470.0, 1215.0, 1396.0, 1084.0, 1112.0, 1381.0, 1280.0, 1152.0, 1638.0, 1690.0, 1260.0, 1676.0, 2786.0, 1408.0, 1584.0, 1000.0, 1916.0, 1650.0, 1296.0, 1224.0, 1749.0, 1772.0, 1088.0, 1728.0, 1392.0, 1148.0, 1274.0, 1350.0, 1084.0, 1712.0, 1392.0, 992.0, 854.0, 1552.0, 1524.0, 1399.0, 1700.0, 1338.0, 1328.0, 1354.0, 1200.0, 1500.0, 1536.0, 1124.0, 2412.0, 1450.0, 1056.0, 1260.0, 1192.0, 1998.0, 1203.0, 1360.0, 1944.0, 1463.0, 1248.0, 1424.0, 1024.0, 1380.0, 1095.0, 1130.0, 1040.0, 1296.0, 1325.0, 2536.0, 2275.0, 1080.0, 1080.0, 1136.0, 1368.0, 1536.0, 1436.0, 1248.0, 1054.0, 1020.0, 1432.0, 1200.0, 1248.0, 3078.0, 752.0, 2520.0, 1680.0, 1400.0, 1236.0, 1452.0, 1120.0, 1098.0, 1452.0, 1288.0, 1408.0, 1925.0, 1024.0, 1240.0, 1144.0, 816.0, 1246.0, 1683.0, 468.0, 1914.0, 1194.0, 1200.0, 1364.0, 1364.0, 1440.0, 1566.0, 1566.0, 2230.0, 1344.0, 1442.0, 1600.0, 850.0, 1350.0, 1188.0, 1860.0, 1672.0, 1344.0, 1591.0, 1235.0, 1480.0, 1320.0, 996.0, 1472.0, 976.0, 1404.0, 1240.0, 3040.0, 1440.0, 1460.0, 960.0, 728.0, 2236.0, 1108.0, 970.0, 1775.0, 1584.0, 1714.0, 2110.0, 2400.0, 1800.0, 0.0, 0.0, 1152.0, 1064.0, 1280.0, 1000.0, 2604.0, 0.0, 1248.0, 1500.0, 1715.0, 1990.0, 1409.0, 1182.0, 892.0, 1135.0, 1080.0, 1552.0, 842.0, 1297.0, 1369.0, 1282.0, 1804.0, 1170.0, 1595.0, 1420.0, 1564.0, 1200.0, 1198.0, 1058.0, 1500.0, 1724.0, 1742.0, 1300.0, 1320.0, 1296.0, 882.0, 1702.0, 1188.0, 1224.0, 2716.0, 1296.0, 960.0, 1638.0, 759.0, 850.0, 1125.0, 896.0, 2350.0, 1240.0, 1248.0, 1260.0, 912.0, 864.0, 2000.0, 1400.0, 1520.0, 1680.0, 4180.0, 1080.0, 1998.0, 1266.0, 1570.0, 1376.0, 640.0, 1064.0, 1408.0, 1720.0, 1050.0, 1008.0, 1188.0, 2006.0, 1410.0, 1240.0, 1855.0, 1568.0, 1496.0, 1350.0, 1812.0, 1440.0, 1433.0, 1126.0, 960.0, 1744.0, 1824.0, 1008.0, 1144.0, 900.0, 1375.0, 1480.0, 1440.0, 572.0, 1550.0, 1294.0, 1200.0, 1328.0, 1280.0, 1460.0, 1057.0, 1496.0, 2688.0, 1756.0, 2248.0, 1506.0, 1260.0, 1228.0, 1192.0, 1540.0, 2178.0, 1296.0, 1116.0, 988.0, 2280.0, 1376.0, 1152.0, 1664.0, 1296.0, 2289.0, 1304.0, 1480.0, 990.0, 1120.0, 1128.0, 912.0, 975.0, 975.0, 1428.0, 2186.0, 1508.0, 1368.0, 1096.0, 1440.0, 1152.0, 1084.0, 1230.0, 1970.0, 1800.0, 1372.0, 2047.0, 1750.0, 1323.0, 1344.0, 2176.0, 1320.0, 1512.0, 1308.0, 1240.0, 1080.0, 1260.0, 2651.0, 1530.0, 2104.0, 1388.0, 1185.0, 1800.0, 1008.0, 1410.0, 1184.0, 1125.0, 1176.0, 1992.0, 1120.0, 1894.0, 1440.0, 975.0, 1592.0, 1664.0, 448.0, 1234.0, 1360.0, 2495.0, 1008.0, 936.0, 1196.0, 1536.0, 1900.0, 1566.0, 900.0, 2339.0, 1600.0, 2720.0, 1240.0, 1404.0, 2442.0, 1400.0, 874.0, 800.0, 2400.0, 1132.0, 1896.0, 1408.0, 1056.0, 1050.0, 888.0, 2190.0, 1224.0, 1316.0, 1536.0, 1559.0, 1440.0, 1638.0, 1672.0, 1203.0, 1068.0, 896.0, 1440.0, 1147.0, 1236.0, 1320.0, 1020.0, 1060.0, 1645.0, 2352.0, 1400.0, 1300.0, 1112.0, 1200.0, 726.0, 576.0, 600.0, 1152.0, 1660.0, 1552.0, 1026.0, 1120.0, 780.0, 2018.0, 1560.0, 1300.0, 1148.0, 1120.0, 860.0, 896.0, 1110.0, 1624.0, 0.0, 1542.0, 1056.0, 1840.0, 1050.0, 1352.0, 1280.0, 1632.0, 1278.0, 1360.0, 1156.0, 1329.0, 1120.0, 1498.0, 1520.0, 1020.0, 1600.0, 992.0, 1384.0, 1354.0, 1392.0, 1214.0, 1923.0, 2064.0, 1622.0, 880.0, 1864.0, 1116.0, 1980.0, 2310.0, 1550.0, 0.0, 1620.0, 1200.0, 870.0, 1230.0, 1076.0, 1552.0, 1372.0, 1224.0, 2250.0, 1120.0, 2430.0, 1248.0, 1552.0, 978.0, 1230.0, 1056.0, 1000.0, 1066.0, 1104.0, 7200.0, 1490.0, 1418.0, 1180.0, 1160.0, 1400.0, 944.0, 1136.0, 1752.0, 2040.0, 2400.0, 858.0, 1352.0, 1400.0, 1092.0, 900.0, 1868.0, 1592.0, 1501.0, 1504.0, 1772.0, 1472.0, 2200.0, 740.0, 1608.0, 1299.0, 2250.0, 1088.0, 1168.0, 1440.0, 960.0, 2692.0, 924.0, 1489.0, 960.0, 1200.0, 1276.0, 1658.0, 570.0, 1323.0, 991.0, 1584.0, 1536.0, 2241.0, 1407.0, 1122.0, 0.0, 0.0, 896.0, 1150.0, 1208.0, 1853.0, 1125.0, 1680.0, 1224.0, 1120.0, 1512.0, 1260.0, 1216.0, 1670.0, 1140.0, 796.0, 946.0, 1464.0, 867.0, 1576.0, 924.0, 1200.0, 1334.0, 1160.0, 1170.0, 960.0, 1470.0, 630.0, 1504.0, 1280.0, 1392.0, 1120.0, 1408.0, 946.0, 2358.0, 2295.0, 1377.0, 1120.0, 1312.0, 0.0, 0.0, 1424.0, 1464.0, 1196.0, 2002.0, 1240.0, 1145.0, 1080.0, 1400.0, 1160.0, 1868.0, 1672.0, 1038.0, 5178.0, 936.0, 1092.0, 2688.0, 1120.0, 1807.0, 996.0, 1156.0, 1570.0, 1488.0, 570.0, 1980.0, 1666.0, 1232.0, 1224.0, 732.0, 810.0, 1400.0, 1824.0, 1245.0, 1090.0, 1873.0, 1694.0, 1246.0, 2150.0, 1344.0, 1943.0, 1155.0, 1086.0, 1556.0, 928.0, 1169.0, 1168.0, 938.0, 1354.0, 1530.0, 696.0, 1406.0, 3080.0, 1248.0, 2339.0, 1242.0, 1658.0, 0.0, 1280.0, 1132.0, 1184.0, 868.0, 1292.0, 1576.0, 912.0, 1542.0, 1078.0, 1242.0, 946.0, 1412.0, 1552.0, 1470.0, 2238.0, 1848.0, 880.0, 2692.0, 1376.0, 1908.0, 1402.0, 2814.0, 1779.0, 1420.0, 1560.0, 1248.0, 1807.0, 1232.0, 1105.0, 2149.0, 784.0, 1296.0, 1260.0, 1864.0, 1728.0, 1302.0, 1794.0, 1296.0, 1305.0, 1125.0, 1056.0, 2226.0, 800.0, 1050.0, 945.0, 1585.0, 1264.0, 1208.0, 924.0, 1285.0, 1128.0, 1764.0, 1438.0, 1385.0, 740.0, 1328.0, 1960.0, 0.0, 1816.0, 1890.0, 2040.0, 1632.0, 1540.0, 1260.0, 1540.0, 2996.0, 1708.0, 2340.0, 1672.0, 1185.0, 2315.0, 1584.0, 1791.0, 1680.0, 1760.0, 1683.0, 1248.0, 1056.0, 1056.0, 1280.0, 1846.0, 1224.0, 1280.0, 1258.0, 1608.0, 910.0, 960.0, 760.0, 1874.0, 1304.0, 1440.0, 1144.0, 1425.0, 1538.0, 2000.0, 1273.0, 1224.0, 960.0, 1944.0, 1200.0, 1599.0, 1800.0, 1984.0, 1040.0, 1584.0, 2208.0, 1344.0, 1776.0, 1568.0, 1360.0, 2016.0, 600.0, 1216.0, 1190.0, 1683.0, 1040.0, 725.0, 2115.0, 1280.0, 1680.0, 1191.0, 1995.0, 1214.0, 1137.0, 2540.0, 1008.0, 1008.0, 1972.0, 1673.0, 768.0, 896.0, 1160.0, 1870.0, 1764.0, 1732.0, 702.0, 1251.0, 864.0, 1782.0, 1520.0, 1392.0, 1400.0, 2160.0, 1320.0, 1220.0, 2088.0, 0.0, 2100.0, 1092.0, 1480.0, 1995.0, 1520.0, 1876.0, 1368.0, 1480.0, 1568.0, 1920.0, 1580.0, 1858.0, 1131.0, 726.0, 1440.0, 2132.0, 576.0, 2476.0, 1168.0, 2128.0, 1368.0, 1200.0, 1536.0, 2160.0, 1546.0, 950.0, 1309.0, 1216.0, 492.0, 1316.0, 1218.0, 1882.0, 952.0, 1440.0, 1140.0, 1296.0, 1925.0, 2366.0, 1758.0, 1195.0, 1540.0, 2160.0, 1806.0, 966.0, 1152.0, 1056.0, 1206.0, 956.0, 1449.0, 1660.0, 1020.0, 1344.0, 637.0, 828.0, 850.0, 1208.0, 1160.0, 1446.0, 1448.0, 1440.0, 2000.0, 1116.0, 1296.0, 1880.0, 1950.0, 1264.0, 1476.0, 1406.0, 1455.0, 2680.0, 1128.0, 1020.0, 1376.0, 1536.0, 1500.0, 710.0, 1760.0, 1248.0, 920.0, 1120.0, 1264.0, 1296.0, 1536.0, 1440.0, 1754.0, 1234.0, 1510.0, 1088.0, 920.0, 1304.0, 1800.0, 1280.0, 1144.0, 1830.0, 1645.0, 2620.0, 1360.0, 1756.0, 1200.0, 1204.0, 1176.0, 1024.0, 1534.0, 1925.0, 1320.0, 1152.0, 832.0, 1116.0, 1142.0, 1776.0, 1176.0, 1528.0, 1064.0, 1064.0, 1400.0, 1906.0, 1356.0, 896.0, 1405.0, 1620.0, 1776.0, 1020.0, 1826.0, 945.0, 1925.0, 1170.0, 1152.0, 1322.0, 2046.0, 1536.0, 1094.0, 1024.0, 896.0, 1248.0, 1658.0, 1140.0, 1200.0, 952.0, 1832.0, 1793.0, 1080.0, 1339.0, 1700.0, 1339.0, 1440.0, 1424.0, 864.0, 1092.0, 1528.0, 921.0, 2128.0, 1807.0, 621.0, 1163.0], \"xaxis\": \"x\", \"y\": [550000, 200000, 810000, 125000, 620000, 836500, 955000, 820000, 980000, 430000, 700000, 448000, 670000, 540000, 520000, 480000, 570000, 552000, 505000, 357500, 670000, 549000, 970000, 800000, 450000, 330000, 575000, 450000, 743000, 445000, 255000, 750000, 985000, 958000, 200000, 930000, 990000, 810000, 670000, 900000, 940000, 445000, 710000, 998000, 950000, 470000, 480000, 757504, 350000, 717359, 926608, 585500, 493000, 615000, 646589, 470000, 510000, 643750, 465000, 320000, 730000, 300000, 494000, 670000, 525000, 640000, 870000, 780000, 350000, 555000, 550000, 685000, 825000, 435000, 810000, 224094, 512275, 520000, 494500, 450000, 460000, 890000, 530000, 445000, 452465, 560000, 440000, 625000, 588005, 420000, 416000, 570000, 335000, 108000, 350000, 795000, 670000, 760000, 645000, 650000, 492000, 590000, 830000, 330000, 590000, 646000, 446000, 550000, 640000, 445000, 646589, 639461, 520000, 125000, 349500, 700000, 355000, 355000, 200000, 499000, 265000, 300000, 980000, 750000, 710000, 915000, 350000, 840000, 605000, 350000, 915000, 999999, 425000, 414987, 208000, 408000, 220000, 830000, 410000, 395000, 555000, 443800, 743323, 539900, 763688, 889000, 572500, 632000, 465000, 340000, 400000, 395000, 470000, 510000, 821000, 529000, 650000, 859000, 790000, 980000, 385000, 580000, 880888, 859000, 788000, 990000, 825000, 515000, 840000, 600000, 520000, 660000, 479000, 520000, 490000, 500000, 240000, 550000, 500000, 540000, 500000, 580000, 515000, 460000, 380250, 990000, 405600, 820000, 210000, 499500, 415000, 300000, 850000, 885000, 500000, 255000, 624000, 601000, 575000, 370000, 534560, 620000, 335000, 269500, 641000, 619000, 413950, 545000, 350000, 880000, 540000, 471500, 673330, 566368, 120000, 565000, 510569, 125000, 790000, 415000, 740000, 550000, 365000, 570000, 700000, 490000, 660000, 525000, 508402, 305000, 430000, 357000, 450000, 560000, 130000, 225000, 305000, 910000, 905000, 985000, 958000, 700000, 830000, 536000, 680000, 660000, 640000, 630000, 529000, 390000, 425000, 680000, 850000, 531000, 250000, 539000, 775000, 599900, 475000, 475000, 600768, 749000, 781000, 675000, 599000, 499000, 490000, 630000, 460000, 490000, 780000, 250000, 294000, 965000, 487000, 380000, 650000, 730000, 112000, 499999, 680000, 342000, 742000, 515000, 450000, 790000, 740000, 875000, 735000, 560000, 599000, 390000, 508500, 860000, 590585, 457500, 320000, 510000, 390000, 328600, 440000, 820000, 912500, 465000, 650000, 439000, 210000, 950000, 599000, 405235, 970000, 455000, 605394, 640000, 790000, 770000, 950000, 420000, 570000, 900000, 489600, 773000, 420000, 361000, 198000, 278000, 450000, 430000, 503000, 527500, 366877, 385000, 346029, 373692, 988000, 495000, 450000, 485000, 230000, 444000, 350000, 311912, 559144, 550000, 695000, 575000, 589000, 475000, 250000, 570000, 458800, 560000, 590000, 456300, 223000, 575000, 820000, 381550, 699000, 505000, 575000, 500000, 250000, 400000, 625000, 650000, 850000, 925000, 445000, 700000, 763000, 615000, 114000, 630000, 665000, 515000, 517000, 850000, 600000, 700000, 597000, 352746, 900000, 875000, 570000, 455000, 499999, 375180, 410000, 515000, 780000, 515000, 385000, 818000, 865000, 748000, 635000, 985000, 885000, 790000, 679000, 280000, 800000, 670000, 641000, 450000, 390000, 485000, 463000, 467000, 446000, 610000, 579000, 490000, 451000, 770000, 990000, 440000, 360000, 600000, 607000, 585494, 533000, 860000, 415000, 685000, 580000, 285075, 525000, 360000, 265000, 245000, 475000, 512000, 510000, 334650, 990000, 900000, 335000, 560000, 595000, 600000, 848000, 800000, 658000, 990000, 105000, 560038, 829000, 485000, 638000, 230000, 740000, 995000, 554500, 603500, 550000, 460000, 459500, 204800, 253000, 362900, 479000, 396000, 350000, 335000, 610000, 480000, 499000, 582500, 620000, 485000, 630000, 590000, 697000, 555000, 500000, 600000, 950000, 340000, 150000, 423000, 499000, 658820, 530000, 500000, 486000, 550000, 380000, 644000, 730000, 851000, 730000, 475000, 732000, 835000, 200000, 990000, 925000, 990000, 560000, 525000, 489000, 160000, 380000, 385000, 740000, 498000, 498900, 490000, 555000, 590000, 469900, 620000, 565000, 405000, 425000, 307000, 450000, 243360, 445000, 795000, 450000, 655498, 529791, 795000, 988000, 729000, 400000, 830000, 675000, 890000, 850000, 515000, 899888, 700000, 277000, 760000, 630000, 770000, 825000, 600000, 715000, 371000, 365040, 500000, 975000, 781000, 396000, 275000, 400530, 580000, 112000, 470000, 575210, 800000, 772500, 963538, 477000, 415000, 420810, 360500, 369000, 365000, 241000, 555000, 465000, 540750, 740000, 332000, 499000, 301665, 683000, 560000, 499000, 450000, 211650, 715000, 780000, 905000, 555000, 820000, 715000, 628900, 838000, 795000, 560000, 435000, 610000, 618000, 960000, 555000, 532000, 670000, 375000, 450000, 342000, 435000, 245500, 720000, 520000, 515000, 555000, 399888, 370023, 850000, 540000, 210000, 449000, 430000, 334620, 265000, 248132, 373600, 362000, 415000, 453124, 620000, 550000, 300000, 835000, 550000, 614000, 568600, 479000, 181875, 490000, 991670, 800000, 777000, 690000, 800000, 650000, 660000, 950000, 747000, 785000, 700000, 712000, 710000, 730000, 990000, 515000, 485000, 565000, 545000, 400000, 325000, 440000, 495000, 656000, 590000, 250000, 475000, 760000, 500000, 410000, 492000, 525000, 485000, 240000, 745000, 247850, 445000, 384500, 822500, 375000, 525000, 760000, 450000, 540000, 980000, 760000, 999000, 799000, 600000, 425000, 832500, 515000, 720000, 655000, 640000, 990000, 740000, 450000, 590000, 965000, 668900, 390000, 255000, 499931, 705094, 266667, 539000, 568000, 475000, 525000, 248000, 678000, 385000, 450000, 755000, 440000, 430000, 573000, 575000, 440000, 425000, 575000, 670000, 500000, 230000, 688888, 835000, 740000, 290000, 535000, 340000, 175000, 639000, 845000, 700000, 740000, 915000, 630000, 640000, 730000, 525000, 500000, 609000, 220000, 415000, 499999, 650000, 529000, 940000, 282000, 550000, 860000, 495000, 595676, 800000, 572000, 445000, 499000, 400000, 450000, 230000, 438000, 480000, 150000, 298100, 175000, 530000, 500000, 650000, 615000, 935000, 830000, 550000, 640000, 610000, 836000, 784053, 915000, 750000, 685000, 300000, 640000, 785000, 518500, 490000, 228000, 600000, 470000, 630000, 540000, 622000, 360000, 322500, 480000, 645000, 755000, 489000, 470000, 620000, 623169, 705000, 420000, 719000, 350000, 575311, 174300, 544000, 618000, 450000, 480000, 145000, 430000, 565000, 475000, 406282, 327500, 560000, 565000, 325000, 160000, 515000, 920000, 335000, 158600, 600000, 985000, 470000, 522500, 727000, 664000, 610000, 520000, 699000, 825000, 950000, 382621, 512000, 436800, 770000, 550000, 679189, 915000, 769000, 200000, 547000, 224000, 610000, 650000, 625000, 450000, 607856, 740000, 469625, 540000, 450000, 400000, 547500, 495000, 365000, 495000, 359970, 470000, 590000, 235000, 536500, 362500, 218000, 455000, 545000, 499800, 620000, 830000, 442900, 390000, 650000, 235000, 625000, 672000, 590000, 645000, 585000, 465000, 390000, 350000, 485000, 435000, 500000, 320000, 390000, 430000, 578000, 870000, 668500, 345000, 415000, 394272, 850000, 366211, 720000, 900000, 425000, 775000, 327631, 660000, 675000, 720000, 530000, 380000, 850000, 775000, 580000, 475000, 340000, 435000, 428480, 815000, 605000, 465545, 468000, 279000, 590000, 618500, 521500, 435000, 480000, 790000, 575000, 459000, 475000, 485000, 460000, 428665, 500000, 591000, 610000, 708000, 950000, 605000, 669000, 950000, 475000, 745000, 855000, 340000, 795000, 380000, 465000, 410000, 587400, 600000, 655000, 350000, 375000, 380000, 245000, 608400, 231500, 500000, 659500, 833000, 750000, 860000, 525000, 825000, 800000, 720000, 575000, 656766, 650000, 720000, 530000, 470000, 370000, 495000, 227302, 490000, 336000, 626224, 620000, 250000, 634000, 600000, 600000, 345163, 510000, 445000, 700000, 700000, 810000, 508605, 499371, 615000, 457920, 505000, 443000, 302000, 800000, 273600, 496460, 141088, 529000, 470000, 690000, 515510, 425000, 740000, 990000, 850000, 519000, 620000, 330000, 810000, 780000, 500000, 130000, 555000, 365625, 380000, 463500, 280000, 695000, 499412, 651680, 700000, 400000, 307668, 590585, 569000, 570000, 229430, 550000, 383593, 825000, 524804, 430000, 518340, 590000, 380250, 464000, 535000, 605000, 855000, 760000, 562500, 667800, 932500, 790000, 572000, 315000, 440000, 680000, 970000, 650000, 715000, 800000, 500000, 269302, 934350, 310000, 650000, 868000, 420000, 535000, 250000, 510000, 880000, 788000, 480000, 880000, 145000, 740000, 590000, 536750, 234234, 555000, 490000, 545000, 250000, 500000, 999500, 501930, 863000, 600000, 920000, 870000, 670000, 275000, 481000, 560000, 425000, 540000, 580000, 295000, 416000, 404250, 499000, 570000, 948578, 400000, 525000, 520000, 650000, 500000, 990000, 447000, 445000, 850000, 690000, 738231, 350000, 500000, 900000, 253950, 427523, 274092, 780000, 650000, 995000, 519000, 810000, 671000, 849000, 865000, 499999, 900000, 525000, 450000, 180500, 395000, 194000, 520000, 423000, 411684, 550000, 200000, 560038, 595000, 540000, 326000, 560000, 360000, 524349, 575000, 579000, 420000, 371848, 182500, 600000, 540000, 830000, 890000, 515000, 655000, 975000, 812000, 779000, 530000, 815000, 380000, 420000, 175000, 424000, 582000, 865000, 508000, 610950, 850000, 550000, 438000, 240000, 595000, 485000, 540000, 500000, 490000, 624000, 556000, 714800, 680000, 444000, 650000, 500000, 499000, 690000, 430000, 645000, 629000, 885000, 600000, 630000, 994000, 266000, 630000, 880000, 440000, 175000, 520000, 531250, 768328, 620000, 635000, 216500, 400000, 575000, 363000, 554946, 596695, 457314, 592000, 550000, 369770, 515000, 479000, 589000, 890000, 575000, 240000, 495000, 440000, 499000, 645000, 910000, 635000, 360000, 617000, 775000, 880000, 695000, 157277, 750000, 970000, 480000, 500000, 900000, 620000, 777000, 563000, 650000, 487500, 377500, 560000, 224000, 237500, 450000, 362900, 465000, 361998, 480000, 560000, 625000, 490000, 900000, 760000, 463900, 399000, 340000, 485000, 770000, 750000, 249000, 150000, 940000, 414400, 605000, 495000, 401000, 578000, 650000, 429000, 360000, 474000, 930000, 690000, 390000, 390000, 632000, 530000, 930000, 725000, 730000, 525000, 545000, 490000, 890000, 290000, 845000, 476768, 345000, 160000, 528000, 526500, 470000, 520000, 499000, 610000, 640000, 450000, 743323, 275000, 600000, 630297, 912500, 915000, 549000, 400000, 830000, 700000, 679000, 899000, 550000, 180000, 403000, 930000, 550000, 350000, 525000, 640000, 480000, 410000, 615000, 485000, 525000, 263133, 400000, 468400, 721939, 352500, 710000, 360000, 465000, 840000, 402600, 552910, 625000, 610000, 505000, 303000, 330000, 720000, 488000, 953000, 980000, 679000, 580000, 440000, 815000, 640000, 175000, 520000, 865000, 525000, 720000, 700000, 679000, 485000, 465000, 444000, 525000, 547000, 425000, 625000, 180000, 365000, 318000, 306000, 635045, 651680, 689100, 496888, 295000, 497000, 475000, 310000, 440000, 500000, 568960, 216489, 380000, 460000, 579000, 699000, 440000, 570000, 840000, 630000, 251155, 825000, 872000, 870000, 352500, 390000, 958317, 725000, 860000, 785000, 673000, 300000, 340000, 835000, 925000, 593000, 182000, 515000, 400000, 505000, 635000, 252000, 320000, 525000, 675000, 404000, 695000, 607000, 275000, 515000, 850000, 697501, 550000, 614000, 409500, 360000, 276822, 385000, 336000, 762669, 390000, 410000, 600000, 617000, 630000, 210000, 612000, 605000, 398000, 648000, 889000, 900000, 820000, 525000, 760000, 907000, 585000, 600000, 565000, 606279, 565000, 657906, 175000, 300000, 525000, 540000, 499000, 499990, 721939, 536000, 410000, 539000, 495000, 490000, 355000, 431000, 478000, 485000, 189270, 565000, 439931, 416981, 610000, 700000, 900000, 890000, 878000, 693000, 940000, 933800, 620000, 725000, 545000, 160000, 888000, 720000, 940000, 883000, 570000, 510000, 301000, 450000, 260000, 939000, 480000, 647000, 595000, 350000, 113348, 610000, 563000, 273780, 470000, 780000, 585000, 680000, 920000, 999000, 550000, 660000, 725000, 532000, 600000, 900000, 668000, 218000, 585000, 800000, 730000, 750000, 685000, 708400, 862000, 710000, 605000, 610000, 550000, 950000, 562500, 525000, 430000, 537500, 523000, 480000, 552000, 919000, 300000, 605000, 485000, 445000, 549000, 625000, 970000, 560000, 520000, 990000, 880000, 136000, 280000, 620000, 610000, 336000, 550000, 831000, 235000, 999000, 800000, 346500, 700000, 967000, 620000, 375000, 375000, 920000, 475000, 705000, 510000, 350000, 335000, 500000, 800000, 639000, 220000, 325000, 800000, 201000, 460000, 419900, 535000, 225000, 400000, 400000, 900000, 464000, 510000, 299000, 460000, 870000, 380000, 520000, 584284, 515000, 555000, 571000, 580000, 687000, 436600, 333600, 410000, 540000, 660000, 585000, 309000, 145000, 567000, 635000, 989000, 499500, 851000, 800000, 600000, 575000, 668000, 350000, 400000, 550000, 319600, 800000, 600000, 240000, 465000, 400000, 585000, 515000, 560038, 475000, 550000, 499000, 500000, 285000, 500000, 415000, 666588, 770000, 645000, 640000, 400000, 525000, 599000, 595000, 445000, 994517, 530000, 564796, 895000, 460000, 525000, 160673, 560000, 570000, 560000, 480000, 460000, 515000, 984000, 510000, 509600, 600000, 750000, 860500, 459000, 560000, 540000, 510365, 590000, 494000, 200000, 560000, 470000, 500000, 585000, 451230, 490000, 270000, 329000, 739000, 324480, 350000, 320000, 353379, 645000, 600000, 425880, 800000, 930000, 875000, 715000, 875000, 740000, 485000, 710000, 499750, 493000, 995000, 610000, 615000, 733140, 672045, 670000, 355000, 422000, 150000, 467500, 495000, 580000, 912000, 500000, 210000, 595000, 600000, 700000, 730000, 414000, 950000, 580000, 900000, 990000, 570000, 410000, 485000, 376000, 376000, 600000, 480000, 820000, 715000, 452998, 544719, 535000, 800000, 465000, 683000, 420000, 351000, 470000, 599000, 115000, 930000, 800000, 612000, 468468, 440000, 152000, 760000, 450000, 500599, 750000, 985000, 845000, 890000, 510000, 471000, 510000, 275000, 545000, 715500, 795000, 385000, 400000, 899000, 900000, 400000, 595000, 215000, 450000, 380000, 609000, 410000, 250000, 800000, 473500, 535000, 692240, 495000, 870604, 650000, 250000, 450000, 485000, 638600, 630000, 250000, 450000, 250000, 305000, 700000, 575000, 520000, 602000, 314500, 750000, 650000, 500000, 791000, 905000, 928000, 600000, 595000, 250000, 390000, 321000, 700000, 375000, 392000, 938486, 270000, 306228, 650000, 444132, 440000, 499999, 490000, 270480, 325000, 475000, 168000, 500585, 740000, 430000, 575000, 580000, 350000, 635000, 877500, 495000, 510000, 560000, 585000, 565000, 635000, 850000, 455000, 975000, 586000, 330000, 835000, 820000, 725000, 835000, 829000, 465000, 538000, 396000, 500000, 585000, 500000, 268000, 270000, 440000, 540000, 375000, 665000, 505000, 480000, 621133, 280980, 197000, 532000, 418000, 330000, 500000, 450000, 435000, 525000, 250000, 575000, 700000, 650000, 605000, 700000, 865000, 665000, 500000, 995000, 362000, 375000, 360000, 525000, 470000, 370000, 560000, 125000, 667000, 635000, 495000, 489000, 350000, 490000, 222500, 393000, 495000, 150000, 805000, 525000, 799000, 620000, 640000, 365000, 455000, 731300, 905000, 810000, 200000, 639000, 825000, 375000, 380250, 520000, 595000, 314820, 325500, 646588, 420000, 405600, 280000, 600000, 630000, 499990, 445000, 763688, 225000, 550000, 570000, 990000, 735000, 860000, 370800, 728000, 610000, 432000, 630000, 997000, 701083, 900000, 650000, 690000, 740000, 369900, 460000, 600000, 365000, 936000, 795000, 565000, 430000, 333000, 465000, 580000, 361000, 475000, 515000, 435000, 360000, 610000, 580000, 284000, 555000, 525000, 560038, 480000, 520000, 804718, 550000, 550000, 480000, 905000, 840000, 550000, 470000, 995000, 300000, 755000, 675000, 395000, 382500, 468000, 450000, 605000, 750000, 450000, 280000, 575000, 281250, 720000, 738231, 510000, 610949, 344760, 540000, 395000, 290000, 295000, 950000, 550000, 275000, 320000, 743561, 582000, 748000, 990000, 615000, 700000, 948500, 855000, 525000, 821750, 625000, 469000, 525000, 465000, 437750, 445000, 390000, 552000, 850000, 412000, 480000, 465000, 441000, 700000, 460000, 860421, 465500, 804416, 110000, 580000, 400000, 799000, 550000, 901000, 580000, 280000, 950000, 625000, 430000, 270000, 285000, 639900, 250750, 770000, 560000, 610000, 692410, 265000, 545000, 615000, 750000, 679000, 275000, 197600, 400000, 595000, 232000, 750000, 928000, 339690, 348156, 735000, 800000, 659000, 477387, 386000, 610000, 810000, 490000, 524700, 387000, 349700, 435000, 650000, 905000, 560000, 377500, 224829, 531000, 155500, 328410, 499990, 433000, 210000, 825000, 541000, 213600, 450000, 319100, 602000, 575000, 710000, 590000, 880000, 989000, 730000, 910000, 830000, 999999, 850000, 640000, 370000, 457821, 650000, 280000, 586000, 498000, 525000, 550000, 910000, 885000, 490000, 540000, 451230, 525000, 475000, 361722, 720000, 568750, 542000, 806000, 330000, 550000, 395000, 490000, 457000, 350000, 655000, 690000, 615000, 133500, 800000, 500000, 905000, 935000, 900000, 800000, 780000, 818000, 950000, 470000, 450000, 306135, 580000, 465593, 251000, 265000, 530000, 490000, 657558, 557000, 510000, 380000, 815000, 530000, 675000, 627000, 380000, 252400, 530000, 550000, 425000, 400000, 300000, 640000, 857000, 530000, 555000, 510000, 675343, 820000, 999000, 531260, 640000, 715000, 300000, 905000, 880000, 788000, 805000, 226667, 596900, 420000, 670000, 565000, 361092, 615000, 830000, 400000, 700000, 550000, 685000, 400000, 775000, 415000, 750000, 465000, 324480, 356310, 632500, 560000, 335000, 410000, 420000, 390000, 856900, 485000, 390500, 590000, 665000, 550000, 490000, 725000, 589000, 940000, 650000, 600000, 815000, 500000, 473800, 400000, 700000, 680000, 462500, 450000, 535000, 455000, 228150, 272000, 180000, 340000, 285000, 350000, 525000, 460000, 355000, 890000, 310000, 645000, 925000, 850000, 750000, 630000, 949000, 895000, 855000, 660000, 615000, 950000, 435000, 795000, 280000, 999600, 460000, 418000, 490000, 401544, 465000, 702000, 380000, 620000, 835000, 335000, 300000, 440000, 545000, 662000, 522000, 579000, 413000, 516000, 804124, 390390, 661863, 461370, 520000, 300000, 404250, 400000, 510000, 326864, 460000, 282755, 474226, 680000, 620000, 250000, 880000, 677500, 715000, 570000, 992500, 788000, 540000, 350000, 750000, 880000, 690000, 700000, 710000, 760000, 675000, 463146, 354500, 240000, 585000, 395000, 425000, 540000, 417000, 444558, 267000, 412600, 537500, 541709, 760000, 540000, 570000, 130000, 465000, 535000, 520000, 515000, 475000, 500000, 330000, 690000, 610949, 520000, 104000], \"yaxis\": \"y\"}, {\"hoverlabel\": {\"namelength\": 0}, \"hovertemplate\": \"<b>OLS trendline</b><br>y = 103.825717 * GROSS_SQUARE_FEET + 413643.782948<br>R<sup>2</sup>=0.070430<br><br>GROSS_SQUARE_FEET=%{x}<br>y=%{y} <b>(trend)</b>\", \"legendgroup\": \"\", \"marker\": {\"color\": \"#636efa\", \"symbol\": \"circle\"}, \"mode\": \"lines\", \"name\": \"\", \"showlegend\": false, \"type\": \"scattergl\", \"x\": [0.0, 0.0, 0.0, 0.0, 0.0, 0.0, 0.0, 0.0, 0.0, 0.0, 0.0, 0.0, 0.0, 0.0, 0.0, 0.0, 0.0, 0.0, 0.0, 0.0, 0.0, 0.0, 0.0, 0.0, 0.0, 0.0, 0.0, 0.0, 0.0, 0.0, 0.0, 375.0, 425.0, 436.0, 448.0, 448.0, 468.0, 488.0, 492.0, 518.0, 528.0, 540.0, 540.0, 560.0, 570.0, 570.0, 572.0, 576.0, 576.0, 576.0, 600.0, 600.0, 600.0, 600.0, 600.0, 600.0, 600.0, 621.0, 625.0, 630.0, 630.0, 632.0, 637.0, 640.0, 648.0, 660.0, 660.0, 660.0, 672.0, 676.0, 680.0, 683.0, 684.0, 696.0, 698.0, 702.0, 704.0, 704.0, 710.0, 720.0, 720.0, 720.0, 725.0, 726.0, 726.0, 728.0, 730.0, 732.0, 732.0, 736.0, 740.0, 740.0, 744.0, 744.0, 748.0, 752.0, 756.0, 756.0, 759.0, 760.0, 760.0, 761.0, 768.0, 770.0, 779.0, 780.0, 780.0, 784.0, 784.0, 784.0, 784.0, 792.0, 796.0, 796.0, 799.0, 800.0, 800.0, 800.0, 800.0, 800.0, 810.0, 812.0, 816.0, 816.0, 820.0, 820.0, 821.0, 825.0, 828.0, 828.0, 832.0, 833.0, 836.0, 840.0, 840.0, 842.0, 845.0, 850.0, 850.0, 850.0, 850.0, 854.0, 858.0, 858.0, 860.0, 860.0, 861.0, 864.0, 864.0, 864.0, 864.0, 864.0, 864.0, 866.0, 867.0, 868.0, 870.0, 870.0, 872.0, 872.0, 874.0, 874.0, 874.0, 876.0, 876.0, 880.0, 880.0, 880.0, 880.0, 880.0, 882.0, 884.0, 885.0, 888.0, 890.0, 892.0, 896.0, 896.0, 896.0, 896.0, 896.0, 896.0, 896.0, 896.0, 896.0, 896.0, 896.0, 896.0, 896.0, 900.0, 900.0, 900.0, 900.0, 900.0, 900.0, 900.0, 900.0, 900.0, 900.0, 900.0, 900.0, 902.0, 904.0, 904.0, 910.0, 910.0, 910.0, 912.0, 912.0, 912.0, 912.0, 912.0, 912.0, 916.0, 918.0, 920.0, 920.0, 920.0, 921.0, 924.0, 924.0, 924.0, 924.0, 924.0, 924.0, 926.0, 928.0, 928.0, 928.0, 930.0, 930.0, 931.0, 936.0, 936.0, 938.0, 938.0, 940.0, 942.0, 944.0, 944.0, 944.0, 944.0, 944.0, 945.0, 945.0, 946.0, 946.0, 946.0, 946.0, 946.0, 949.0, 950.0, 952.0, 952.0, 952.0, 952.0, 952.0, 956.0, 956.0, 956.0, 960.0, 960.0, 960.0, 960.0, 960.0, 960.0, 960.0, 960.0, 960.0, 960.0, 960.0, 960.0, 960.0, 960.0, 960.0, 960.0, 960.0, 960.0, 960.0, 960.0, 960.0, 960.0, 960.0, 960.0, 966.0, 969.0, 970.0, 970.0, 975.0, 975.0, 975.0, 975.0, 975.0, 976.0, 976.0, 978.0, 978.0, 978.0, 980.0, 988.0, 988.0, 990.0, 990.0, 991.0, 992.0, 992.0, 992.0, 992.0, 992.0, 996.0, 996.0, 996.0, 996.0, 996.0, 997.0, 1000.0, 1000.0, 1000.0, 1000.0, 1000.0, 1000.0, 1000.0, 1000.0, 1000.0, 1000.0, 1000.0, 1000.0, 1008.0, 1008.0, 1008.0, 1008.0, 1008.0, 1008.0, 1008.0, 1008.0, 1008.0, 1008.0, 1008.0, 1008.0, 1012.0, 1012.0, 1014.0, 1014.0, 1017.0, 1020.0, 1020.0, 1020.0, 1020.0, 1020.0, 1020.0, 1020.0, 1020.0, 1020.0, 1020.0, 1020.0, 1020.0, 1020.0, 1020.0, 1023.0, 1024.0, 1024.0, 1024.0, 1024.0, 1024.0, 1024.0, 1024.0, 1024.0, 1026.0, 1026.0, 1030.0, 1031.0, 1031.0, 1032.0, 1035.0, 1036.0, 1036.0, 1036.0, 1036.0, 1036.0, 1036.0, 1038.0, 1038.0, 1040.0, 1040.0, 1040.0, 1040.0, 1040.0, 1040.0, 1040.0, 1044.0, 1044.0, 1044.0, 1044.0, 1044.0, 1050.0, 1050.0, 1050.0, 1050.0, 1050.0, 1050.0, 1050.0, 1050.0, 1050.0, 1050.0, 1050.0, 1050.0, 1050.0, 1050.0, 1054.0, 1056.0, 1056.0, 1056.0, 1056.0, 1056.0, 1056.0, 1056.0, 1056.0, 1056.0, 1056.0, 1056.0, 1056.0, 1056.0, 1056.0, 1056.0, 1057.0, 1058.0, 1060.0, 1060.0, 1060.0, 1063.0, 1064.0, 1064.0, 1064.0, 1064.0, 1064.0, 1064.0, 1064.0, 1064.0, 1066.0, 1066.0, 1068.0, 1072.0, 1076.0, 1076.0, 1076.0, 1077.0, 1078.0, 1078.0, 1080.0, 1080.0, 1080.0, 1080.0, 1080.0, 1080.0, 1080.0, 1080.0, 1080.0, 1080.0, 1080.0, 1080.0, 1080.0, 1080.0, 1080.0, 1080.0, 1080.0, 1080.0, 1080.0, 1083.0, 1084.0, 1084.0, 1084.0, 1084.0, 1084.0, 1086.0, 1086.0, 1086.0, 1088.0, 1088.0, 1088.0, 1088.0, 1088.0, 1088.0, 1088.0, 1089.0, 1089.0, 1090.0, 1090.0, 1091.0, 1092.0, 1092.0, 1092.0, 1092.0, 1092.0, 1092.0, 1092.0, 1094.0, 1094.0, 1094.0, 1095.0, 1096.0, 1096.0, 1098.0, 1100.0, 1100.0, 1100.0, 1100.0, 1100.0, 1100.0, 1100.0, 1101.0, 1102.0, 1104.0, 1104.0, 1104.0, 1104.0, 1104.0, 1105.0, 1105.0, 1108.0, 1110.0, 1110.0, 1110.0, 1111.0, 1112.0, 1112.0, 1112.0, 1114.0, 1115.0, 1116.0, 1116.0, 1116.0, 1116.0, 1116.0, 1116.0, 1116.0, 1116.0, 1116.0, 1116.0, 1116.0, 1116.0, 1116.0, 1116.0, 1118.0, 1120.0, 1120.0, 1120.0, 1120.0, 1120.0, 1120.0, 1120.0, 1120.0, 1120.0, 1120.0, 1120.0, 1120.0, 1120.0, 1120.0, 1120.0, 1120.0, 1120.0, 1120.0, 1120.0, 1120.0, 1120.0, 1120.0, 1120.0, 1120.0, 1122.0, 1124.0, 1125.0, 1125.0, 1125.0, 1125.0, 1125.0, 1125.0, 1125.0, 1125.0, 1126.0, 1126.0, 1127.0, 1128.0, 1128.0, 1128.0, 1128.0, 1130.0, 1131.0, 1132.0, 1132.0, 1132.0, 1132.0, 1134.0, 1134.0, 1134.0, 1134.0, 1135.0, 1136.0, 1136.0, 1137.0, 1138.0, 1140.0, 1140.0, 1140.0, 1140.0, 1140.0, 1140.0, 1140.0, 1141.0, 1142.0, 1142.0, 1144.0, 1144.0, 1144.0, 1144.0, 1144.0, 1144.0, 1144.0, 1144.0, 1144.0, 1144.0, 1144.0, 1144.0, 1144.0, 1145.0, 1145.0, 1147.0, 1147.0, 1148.0, 1148.0, 1148.0, 1148.0, 1148.0, 1148.0, 1148.0, 1150.0, 1150.0, 1150.0, 1151.0, 1152.0, 1152.0, 1152.0, 1152.0, 1152.0, 1152.0, 1152.0, 1152.0, 1152.0, 1152.0, 1152.0, 1152.0, 1152.0, 1152.0, 1152.0, 1152.0, 1152.0, 1152.0, 1152.0, 1152.0, 1152.0, 1154.0, 1155.0, 1156.0, 1156.0, 1156.0, 1160.0, 1160.0, 1160.0, 1160.0, 1160.0, 1160.0, 1160.0, 1160.0, 1160.0, 1160.0, 1160.0, 1160.0, 1160.0, 1160.0, 1162.0, 1163.0, 1168.0, 1168.0, 1168.0, 1168.0, 1168.0, 1169.0, 1170.0, 1170.0, 1170.0, 1170.0, 1170.0, 1170.0, 1170.0, 1172.0, 1175.0, 1176.0, 1176.0, 1176.0, 1176.0, 1176.0, 1176.0, 1180.0, 1180.0, 1180.0, 1180.0, 1180.0, 1180.0, 1182.0, 1182.0, 1184.0, 1184.0, 1184.0, 1184.0, 1184.0, 1184.0, 1184.0, 1185.0, 1185.0, 1185.0, 1186.0, 1186.0, 1188.0, 1188.0, 1188.0, 1188.0, 1188.0, 1188.0, 1188.0, 1190.0, 1190.0, 1190.0, 1191.0, 1192.0, 1192.0, 1192.0, 1192.0, 1192.0, 1194.0, 1194.0, 1195.0, 1196.0, 1196.0, 1196.0, 1196.0, 1198.0, 1198.0, 1198.0, 1200.0, 1200.0, 1200.0, 1200.0, 1200.0, 1200.0, 1200.0, 1200.0, 1200.0, 1200.0, 1200.0, 1200.0, 1200.0, 1200.0, 1200.0, 1200.0, 1200.0, 1200.0, 1200.0, 1200.0, 1200.0, 1200.0, 1200.0, 1200.0, 1200.0, 1200.0, 1200.0, 1200.0, 1200.0, 1200.0, 1202.0, 1202.0, 1203.0, 1203.0, 1204.0, 1204.0, 1204.0, 1205.0, 1206.0, 1206.0, 1206.0, 1208.0, 1208.0, 1208.0, 1208.0, 1208.0, 1208.0, 1210.0, 1210.0, 1210.0, 1212.0, 1212.0, 1214.0, 1214.0, 1214.0, 1214.0, 1215.0, 1215.0, 1216.0, 1216.0, 1216.0, 1216.0, 1216.0, 1216.0, 1216.0, 1216.0, 1216.0, 1216.0, 1216.0, 1216.0, 1216.0, 1216.0, 1218.0, 1220.0, 1220.0, 1220.0, 1220.0, 1222.0, 1224.0, 1224.0, 1224.0, 1224.0, 1224.0, 1224.0, 1224.0, 1224.0, 1224.0, 1224.0, 1224.0, 1224.0, 1224.0, 1224.0, 1224.0, 1224.0, 1224.0, 1224.0, 1224.0, 1224.0, 1224.0, 1224.0, 1224.0, 1225.0, 1228.0, 1230.0, 1230.0, 1230.0, 1230.0, 1230.0, 1230.0, 1232.0, 1232.0, 1232.0, 1232.0, 1232.0, 1232.0, 1232.0, 1232.0, 1232.0, 1232.0, 1234.0, 1234.0, 1234.0, 1235.0, 1236.0, 1236.0, 1238.0, 1238.0, 1238.0, 1240.0, 1240.0, 1240.0, 1240.0, 1240.0, 1240.0, 1240.0, 1240.0, 1240.0, 1240.0, 1240.0, 1242.0, 1242.0, 1242.0, 1242.0, 1242.0, 1244.0, 1245.0, 1245.0, 1245.0, 1246.0, 1246.0, 1246.0, 1248.0, 1248.0, 1248.0, 1248.0, 1248.0, 1248.0, 1248.0, 1248.0, 1248.0, 1248.0, 1248.0, 1248.0, 1248.0, 1248.0, 1248.0, 1248.0, 1248.0, 1248.0, 1248.0, 1248.0, 1248.0, 1248.0, 1250.0, 1250.0, 1250.0, 1251.0, 1252.0, 1252.0, 1254.0, 1255.0, 1256.0, 1256.0, 1258.0, 1258.0, 1260.0, 1260.0, 1260.0, 1260.0, 1260.0, 1260.0, 1260.0, 1260.0, 1260.0, 1260.0, 1260.0, 1260.0, 1260.0, 1260.0, 1260.0, 1260.0, 1260.0, 1260.0, 1260.0, 1260.0, 1264.0, 1264.0, 1264.0, 1264.0, 1264.0, 1264.0, 1264.0, 1264.0, 1264.0, 1265.0, 1266.0, 1266.0, 1267.0, 1268.0, 1272.0, 1273.0, 1274.0, 1274.0, 1274.0, 1274.0, 1276.0, 1276.0, 1278.0, 1280.0, 1280.0, 1280.0, 1280.0, 1280.0, 1280.0, 1280.0, 1280.0, 1280.0, 1280.0, 1280.0, 1280.0, 1280.0, 1280.0, 1280.0, 1280.0, 1280.0, 1280.0, 1280.0, 1280.0, 1280.0, 1280.0, 1280.0, 1280.0, 1280.0, 1280.0, 1280.0, 1280.0, 1280.0, 1280.0, 1280.0, 1280.0, 1281.0, 1282.0, 1282.0, 1282.0, 1282.0, 1284.0, 1284.0, 1285.0, 1288.0, 1288.0, 1288.0, 1288.0, 1288.0, 1288.0, 1288.0, 1289.0, 1292.0, 1292.0, 1294.0, 1295.0, 1295.0, 1296.0, 1296.0, 1296.0, 1296.0, 1296.0, 1296.0, 1296.0, 1296.0, 1296.0, 1296.0, 1296.0, 1296.0, 1296.0, 1296.0, 1296.0, 1296.0, 1296.0, 1296.0, 1296.0, 1296.0, 1296.0, 1296.0, 1296.0, 1296.0, 1296.0, 1296.0, 1296.0, 1296.0, 1296.0, 1296.0, 1297.0, 1298.0, 1298.0, 1299.0, 1300.0, 1300.0, 1300.0, 1300.0, 1300.0, 1300.0, 1300.0, 1300.0, 1300.0, 1300.0, 1300.0, 1302.0, 1304.0, 1304.0, 1304.0, 1304.0, 1304.0, 1305.0, 1305.0, 1305.0, 1306.0, 1307.0, 1308.0, 1308.0, 1309.0, 1312.0, 1312.0, 1312.0, 1312.0, 1312.0, 1312.0, 1312.0, 1312.0, 1314.0, 1316.0, 1316.0, 1316.0, 1318.0, 1320.0, 1320.0, 1320.0, 1320.0, 1320.0, 1320.0, 1320.0, 1320.0, 1320.0, 1320.0, 1320.0, 1320.0, 1320.0, 1320.0, 1320.0, 1320.0, 1320.0, 1321.0, 1322.0, 1322.0, 1323.0, 1323.0, 1324.0, 1324.0, 1324.0, 1324.0, 1325.0, 1325.0, 1325.0, 1325.0, 1326.0, 1326.0, 1327.0, 1328.0, 1328.0, 1328.0, 1328.0, 1328.0, 1328.0, 1328.0, 1328.0, 1329.0, 1329.0, 1330.0, 1330.0, 1330.0, 1330.0, 1330.0, 1332.0, 1332.0, 1332.0, 1332.0, 1332.0, 1334.0, 1335.0, 1336.0, 1338.0, 1338.0, 1339.0, 1339.0, 1339.0, 1342.0, 1344.0, 1344.0, 1344.0, 1344.0, 1344.0, 1344.0, 1344.0, 1344.0, 1344.0, 1344.0, 1344.0, 1344.0, 1344.0, 1344.0, 1344.0, 1344.0, 1344.0, 1344.0, 1344.0, 1344.0, 1345.0, 1348.0, 1348.0, 1350.0, 1350.0, 1350.0, 1350.0, 1350.0, 1350.0, 1350.0, 1350.0, 1350.0, 1350.0, 1352.0, 1352.0, 1352.0, 1354.0, 1354.0, 1354.0, 1354.0, 1356.0, 1356.0, 1356.0, 1356.0, 1358.0, 1360.0, 1360.0, 1360.0, 1360.0, 1360.0, 1360.0, 1360.0, 1360.0, 1360.0, 1360.0, 1360.0, 1360.0, 1360.0, 1360.0, 1360.0, 1360.0, 1360.0, 1360.0, 1360.0, 1362.0, 1364.0, 1364.0, 1367.0, 1368.0, 1368.0, 1368.0, 1368.0, 1368.0, 1368.0, 1368.0, 1368.0, 1368.0, 1368.0, 1369.0, 1370.0, 1372.0, 1372.0, 1372.0, 1372.0, 1372.0, 1374.0, 1375.0, 1376.0, 1376.0, 1376.0, 1376.0, 1376.0, 1376.0, 1376.0, 1376.0, 1377.0, 1377.0, 1377.0, 1377.0, 1377.0, 1378.0, 1378.0, 1380.0, 1380.0, 1380.0, 1381.0, 1382.0, 1384.0, 1384.0, 1385.0, 1386.0, 1388.0, 1388.0, 1392.0, 1392.0, 1392.0, 1392.0, 1392.0, 1392.0, 1392.0, 1392.0, 1394.0, 1396.0, 1396.0, 1399.0, 1399.0, 1400.0, 1400.0, 1400.0, 1400.0, 1400.0, 1400.0, 1400.0, 1400.0, 1400.0, 1400.0, 1400.0, 1400.0, 1400.0, 1400.0, 1400.0, 1400.0, 1400.0, 1400.0, 1400.0, 1400.0, 1400.0, 1400.0, 1402.0, 1402.0, 1404.0, 1404.0, 1405.0, 1405.0, 1406.0, 1406.0, 1407.0, 1408.0, 1408.0, 1408.0, 1408.0, 1408.0, 1408.0, 1408.0, 1408.0, 1408.0, 1408.0, 1408.0, 1408.0, 1409.0, 1410.0, 1410.0, 1412.0, 1412.0, 1415.0, 1416.0, 1416.0, 1416.0, 1418.0, 1420.0, 1420.0, 1420.0, 1422.0, 1422.0, 1422.0, 1424.0, 1424.0, 1424.0, 1424.0, 1424.0, 1424.0, 1424.0, 1425.0, 1426.0, 1427.0, 1428.0, 1428.0, 1428.0, 1428.0, 1428.0, 1428.0, 1432.0, 1432.0, 1432.0, 1433.0, 1434.0, 1434.0, 1436.0, 1436.0, 1438.0, 1438.0, 1440.0, 1440.0, 1440.0, 1440.0, 1440.0, 1440.0, 1440.0, 1440.0, 1440.0, 1440.0, 1440.0, 1440.0, 1440.0, 1440.0, 1440.0, 1440.0, 1440.0, 1440.0, 1440.0, 1440.0, 1440.0, 1440.0, 1440.0, 1440.0, 1440.0, 1440.0, 1440.0, 1440.0, 1440.0, 1440.0, 1440.0, 1440.0, 1440.0, 1440.0, 1440.0, 1440.0, 1440.0, 1440.0, 1440.0, 1440.0, 1442.0, 1444.0, 1444.0, 1446.0, 1448.0, 1448.0, 1448.0, 1448.0, 1449.0, 1450.0, 1450.0, 1450.0, 1450.0, 1452.0, 1452.0, 1452.0, 1452.0, 1452.0, 1454.0, 1455.0, 1455.0, 1456.0, 1456.0, 1456.0, 1457.0, 1460.0, 1460.0, 1460.0, 1460.0, 1460.0, 1460.0, 1460.0, 1463.0, 1464.0, 1464.0, 1464.0, 1464.0, 1464.0, 1466.0, 1468.0, 1468.0, 1469.0, 1470.0, 1470.0, 1470.0, 1470.0, 1470.0, 1472.0, 1472.0, 1472.0, 1472.0, 1472.0, 1472.0, 1472.0, 1472.0, 1475.0, 1476.0, 1476.0, 1476.0, 1476.0, 1480.0, 1480.0, 1480.0, 1480.0, 1480.0, 1480.0, 1480.0, 1480.0, 1480.0, 1480.0, 1480.0, 1484.0, 1485.0, 1485.0, 1487.0, 1488.0, 1488.0, 1488.0, 1488.0, 1488.0, 1489.0, 1489.0, 1490.0, 1492.0, 1494.0, 1494.0, 1496.0, 1496.0, 1496.0, 1496.0, 1496.0, 1496.0, 1496.0, 1498.0, 1500.0, 1500.0, 1500.0, 1500.0, 1500.0, 1500.0, 1500.0, 1500.0, 1500.0, 1500.0, 1500.0, 1501.0, 1504.0, 1504.0, 1504.0, 1504.0, 1504.0, 1506.0, 1506.0, 1508.0, 1508.0, 1510.0, 1510.0, 1512.0, 1512.0, 1512.0, 1512.0, 1512.0, 1512.0, 1512.0, 1515.0, 1516.0, 1516.0, 1516.0, 1518.0, 1519.0, 1520.0, 1520.0, 1520.0, 1520.0, 1520.0, 1520.0, 1520.0, 1520.0, 1520.0, 1520.0, 1520.0, 1520.0, 1520.0, 1520.0, 1522.0, 1524.0, 1525.0, 1526.0, 1528.0, 1528.0, 1528.0, 1528.0, 1528.0, 1528.0, 1528.0, 1530.0, 1530.0, 1530.0, 1530.0, 1532.0, 1534.0, 1534.0, 1535.0, 1536.0, 1536.0, 1536.0, 1536.0, 1536.0, 1536.0, 1536.0, 1536.0, 1536.0, 1536.0, 1536.0, 1536.0, 1536.0, 1538.0, 1539.0, 1539.0, 1540.0, 1540.0, 1540.0, 1540.0, 1540.0, 1540.0, 1540.0, 1542.0, 1542.0, 1544.0, 1544.0, 1544.0, 1546.0, 1546.0, 1548.0, 1550.0, 1550.0, 1550.0, 1551.0, 1552.0, 1552.0, 1552.0, 1552.0, 1552.0, 1552.0, 1552.0, 1552.0, 1552.0, 1552.0, 1552.0, 1552.0, 1552.0, 1552.0, 1554.0, 1554.0, 1556.0, 1557.0, 1557.0, 1559.0, 1560.0, 1560.0, 1560.0, 1560.0, 1560.0, 1560.0, 1564.0, 1564.0, 1564.0, 1566.0, 1566.0, 1566.0, 1566.0, 1566.0, 1566.0, 1567.0, 1568.0, 1568.0, 1568.0, 1568.0, 1568.0, 1568.0, 1568.0, 1568.0, 1568.0, 1568.0, 1568.0, 1570.0, 1570.0, 1575.0, 1575.0, 1575.0, 1576.0, 1576.0, 1576.0, 1578.0, 1578.0, 1578.0, 1580.0, 1580.0, 1580.0, 1584.0, 1584.0, 1584.0, 1584.0, 1584.0, 1584.0, 1584.0, 1584.0, 1584.0, 1584.0, 1585.0, 1585.0, 1585.0, 1585.0, 1586.0, 1586.0, 1591.0, 1592.0, 1592.0, 1592.0, 1592.0, 1593.0, 1594.0, 1594.0, 1595.0, 1598.0, 1599.0, 1600.0, 1600.0, 1600.0, 1600.0, 1600.0, 1600.0, 1600.0, 1600.0, 1600.0, 1600.0, 1600.0, 1600.0, 1600.0, 1600.0, 1600.0, 1600.0, 1600.0, 1600.0, 1600.0, 1600.0, 1600.0, 1600.0, 1601.0, 1605.0, 1608.0, 1608.0, 1608.0, 1608.0, 1608.0, 1608.0, 1610.0, 1610.0, 1612.0, 1614.0, 1616.0, 1617.0, 1620.0, 1620.0, 1620.0, 1620.0, 1620.0, 1620.0, 1620.0, 1620.0, 1622.0, 1622.0, 1622.0, 1623.0, 1624.0, 1624.0, 1624.0, 1624.0, 1624.0, 1624.0, 1630.0, 1630.0, 1632.0, 1632.0, 1632.0, 1632.0, 1632.0, 1632.0, 1632.0, 1632.0, 1632.0, 1633.0, 1635.0, 1636.0, 1636.0, 1636.0, 1638.0, 1638.0, 1638.0, 1638.0, 1638.0, 1640.0, 1645.0, 1645.0, 1645.0, 1646.0, 1648.0, 1648.0, 1648.0, 1648.0, 1650.0, 1650.0, 1650.0, 1650.0, 1650.0, 1650.0, 1653.0, 1656.0, 1658.0, 1658.0, 1658.0, 1660.0, 1660.0, 1660.0, 1660.0, 1660.0, 1664.0, 1664.0, 1664.0, 1664.0, 1665.0, 1666.0, 1668.0, 1670.0, 1672.0, 1672.0, 1672.0, 1672.0, 1672.0, 1672.0, 1673.0, 1676.0, 1679.0, 1679.0, 1680.0, 1680.0, 1680.0, 1680.0, 1680.0, 1680.0, 1680.0, 1680.0, 1680.0, 1680.0, 1683.0, 1683.0, 1683.0, 1683.0, 1683.0, 1683.0, 1683.0, 1688.0, 1690.0, 1690.0, 1690.0, 1691.0, 1694.0, 1696.0, 1696.0, 1697.0, 1700.0, 1700.0, 1700.0, 1700.0, 1702.0, 1707.0, 1708.0, 1708.0, 1709.0, 1712.0, 1712.0, 1714.0, 1715.0, 1715.0, 1716.0, 1716.0, 1718.0, 1720.0, 1720.0, 1720.0, 1722.0, 1724.0, 1725.0, 1726.0, 1726.0, 1727.0, 1727.0, 1728.0, 1728.0, 1728.0, 1728.0, 1728.0, 1729.0, 1729.0, 1732.0, 1732.0, 1732.0, 1732.0, 1738.0, 1742.0, 1744.0, 1744.0, 1744.0, 1748.0, 1748.0, 1749.0, 1750.0, 1750.0, 1750.0, 1751.0, 1752.0, 1754.0, 1755.0, 1756.0, 1756.0, 1758.0, 1758.0, 1758.0, 1760.0, 1760.0, 1760.0, 1760.0, 1760.0, 1762.0, 1764.0, 1764.0, 1764.0, 1765.0, 1770.0, 1772.0, 1772.0, 1775.0, 1775.0, 1776.0, 1776.0, 1776.0, 1776.0, 1776.0, 1776.0, 1776.0, 1776.0, 1778.0, 1779.0, 1782.0, 1782.0, 1782.0, 1782.0, 1782.0, 1785.0, 1789.0, 1791.0, 1792.0, 1792.0, 1793.0, 1793.0, 1794.0, 1794.0, 1795.0, 1796.0, 1800.0, 1800.0, 1800.0, 1800.0, 1800.0, 1800.0, 1800.0, 1800.0, 1800.0, 1804.0, 1806.0, 1806.0, 1807.0, 1807.0, 1807.0, 1808.0, 1808.0, 1809.0, 1812.0, 1812.0, 1813.0, 1813.0, 1814.0, 1816.0, 1820.0, 1820.0, 1820.0, 1820.0, 1824.0, 1824.0, 1824.0, 1826.0, 1826.0, 1828.0, 1828.0, 1830.0, 1831.0, 1831.0, 1831.0, 1831.0, 1832.0, 1836.0, 1836.0, 1840.0, 1840.0, 1840.0, 1842.0, 1844.0, 1845.0, 1846.0, 1848.0, 1848.0, 1848.0, 1850.0, 1851.0, 1853.0, 1855.0, 1856.0, 1856.0, 1858.0, 1860.0, 1860.0, 1864.0, 1864.0, 1868.0, 1868.0, 1869.0, 1870.0, 1870.0, 1872.0, 1872.0, 1873.0, 1874.0, 1876.0, 1880.0, 1882.0, 1888.0, 1888.0, 1888.0, 1888.0, 1890.0, 1890.0, 1890.0, 1890.0, 1890.0, 1890.0, 1894.0, 1896.0, 1896.0, 1900.0, 1900.0, 1900.0, 1902.0, 1904.0, 1906.0, 1908.0, 1908.0, 1910.0, 1913.0, 1914.0, 1914.0, 1916.0, 1916.0, 1920.0, 1920.0, 1920.0, 1920.0, 1920.0, 1923.0, 1925.0, 1925.0, 1925.0, 1925.0, 1925.0, 1933.0, 1943.0, 1944.0, 1944.0, 1944.0, 1944.0, 1949.0, 1950.0, 1950.0, 1960.0, 1962.0, 1964.0, 1965.0, 1965.0, 1968.0, 1970.0, 1972.0, 1975.0, 1976.0, 1976.0, 1980.0, 1980.0, 1980.0, 1980.0, 1980.0, 1984.0, 1990.0, 1991.0, 1991.0, 1992.0, 1992.0, 1995.0, 1995.0, 1995.0, 1995.0, 1996.0, 1998.0, 1998.0, 1998.0, 2000.0, 2000.0, 2000.0, 2000.0, 2000.0, 2000.0, 2001.0, 2002.0, 2002.0, 2003.0, 2004.0, 2006.0, 2007.0, 2008.0, 2014.0, 2016.0, 2018.0, 2020.0, 2022.0, 2025.0, 2037.0, 2040.0, 2040.0, 2040.0, 2043.0, 2046.0, 2047.0, 2047.0, 2048.0, 2050.0, 2052.0, 2058.0, 2058.0, 2063.0, 2064.0, 2064.0, 2068.0, 2072.0, 2080.0, 2087.0, 2088.0, 2090.0, 2096.0, 2100.0, 2100.0, 2100.0, 2101.0, 2104.0, 2110.0, 2112.0, 2115.0, 2120.0, 2120.0, 2128.0, 2128.0, 2130.0, 2132.0, 2132.0, 2132.0, 2134.0, 2140.0, 2149.0, 2150.0, 2157.0, 2158.0, 2160.0, 2160.0, 2160.0, 2160.0, 2160.0, 2165.0, 2172.0, 2175.0, 2176.0, 2178.0, 2184.0, 2186.0, 2187.0, 2190.0, 2190.0, 2194.0, 2200.0, 2200.0, 2200.0, 2205.0, 2208.0, 2208.0, 2208.0, 2210.0, 2221.0, 2222.0, 2226.0, 2230.0, 2236.0, 2238.0, 2241.0, 2242.0, 2244.0, 2248.0, 2248.0, 2250.0, 2250.0, 2274.0, 2275.0, 2275.0, 2278.0, 2280.0, 2280.0, 2289.0, 2292.0, 2295.0, 2300.0, 2310.0, 2315.0, 2317.0, 2320.0, 2328.0, 2339.0, 2339.0, 2340.0, 2344.0, 2350.0, 2352.0, 2355.0, 2358.0, 2360.0, 2364.0, 2365.0, 2366.0, 2384.0, 2384.0, 2384.0, 2392.0, 2393.0, 2394.0, 2394.0, 2400.0, 2400.0, 2400.0, 2412.0, 2416.0, 2420.0, 2430.0, 2442.0, 2452.0, 2460.0, 2464.0, 2466.0, 2475.0, 2476.0, 2484.0, 2485.0, 2486.0, 2490.0, 2492.0, 2495.0, 2500.0, 2500.0, 2511.0, 2520.0, 2536.0, 2538.0, 2540.0, 2540.0, 2560.0, 2560.0, 2600.0, 2604.0, 2612.0, 2620.0, 2650.0, 2651.0, 2660.0, 2660.0, 2680.0, 2680.0, 2680.0, 2688.0, 2688.0, 2688.0, 2692.0, 2692.0, 2700.0, 2700.0, 2716.0, 2720.0, 2726.0, 2782.0, 2786.0, 2808.0, 2814.0, 2814.0, 2877.0, 2888.0, 2996.0, 3000.0, 3004.0, 3040.0, 3078.0, 3080.0, 3096.0, 3184.0, 3228.0, 3360.0, 3392.0, 3468.0, 3661.0, 3836.0, 3865.0, 4180.0, 5178.0, 5184.0, 7200.0, 7500.0], \"xaxis\": \"x\", \"y\": [413643.78294819524, 413643.78294819524, 413643.78294819524, 413643.78294819524, 413643.78294819524, 413643.78294819524, 413643.78294819524, 413643.78294819524, 413643.78294819524, 413643.78294819524, 413643.78294819524, 413643.78294819524, 413643.78294819524, 413643.78294819524, 413643.78294819524, 413643.78294819524, 413643.78294819524, 413643.78294819524, 413643.78294819524, 413643.78294819524, 413643.78294819524, 413643.78294819524, 413643.78294819524, 413643.78294819524, 413643.78294819524, 413643.78294819524, 413643.78294819524, 413643.78294819524, 413643.78294819524, 413643.78294819524, 413643.78294819524, 452578.42675312737, 457769.71259378496, 458911.79547872965, 460157.7040804875, 460157.7040804875, 462234.21841675055, 464310.73275301355, 464726.03562026616, 467425.50425740815, 468463.7614255397, 469709.6700272975, 469709.6700272975, 471786.1843635605, 472824.44153169205, 472824.44153169205, 473032.09296531836, 473447.39583257097, 473447.39583257097, 473447.39583257097, 475939.21303608664, 475939.21303608664, 475939.21303608664, 475939.21303608664, 475939.21303608664, 475939.21303608664, 475939.21303608664, 478119.5530891628, 478534.8559564154, 479053.9845404812, 479053.9845404812, 479261.6359741075, 479780.76455817325, 480092.2417086127, 480922.84744311793, 482168.7560448758, 482168.7560448758, 482168.7560448758, 483414.6646466336, 483829.9675138862, 484245.27038113883, 484556.7475315783, 484660.57324839145, 485906.4818501492, 486114.13328377553, 486529.43615102815, 486737.08758465445, 486737.08758465445, 487360.04188553337, 488398.2990536649, 488398.2990536649, 488398.2990536649, 488917.42763773067, 489021.2533545438, 489021.2533545438, 489228.9047881701, 489436.55622179643, 489644.20765542274, 489644.20765542274, 490059.51052267535, 490474.81338992796, 490474.81338992796, 490890.1162571806, 490890.1162571806, 491305.4191244332, 491720.7219916858, 492136.0248589384, 492136.0248589384, 492447.5020093778, 492551.327726191, 492551.327726191, 492655.1534430041, 493381.93346069625, 493589.58489432256, 494524.0163456409, 494627.84206245403, 494627.84206245403, 495043.14492970664, 495043.14492970664, 495043.14492970664, 495043.14492970664, 495873.75066421187, 496289.0535314645, 496289.0535314645, 496600.53068190394, 496704.3563987171, 496704.3563987171, 496704.3563987171, 496704.3563987171, 496704.3563987171, 497742.6135668486, 497950.26500047493, 498365.56786772754, 498365.56786772754, 498780.87073498016, 498780.87073498016, 498884.6964517933, 499299.9993190459, 499611.4764694854, 499611.4764694854, 500026.77933673793, 500130.60505355115, 500442.08220399055, 500857.38507124316, 500857.38507124316, 501065.03650486947, 501376.513655309, 501895.6422393747, 501895.6422393747, 501895.6422393747, 501895.6422393747, 502310.9451066273, 502726.2479738799, 502726.2479738799, 502933.8994075062, 502933.8994075062, 503037.7251243194, 503349.20227475883, 503349.20227475883, 503349.20227475883, 503349.20227475883, 503349.20227475883, 503349.20227475883, 503556.85370838514, 503660.6794251983, 503764.50514201145, 503972.15657563775, 503972.15657563775, 504179.80800926406, 504179.80800926406, 504387.45944289037, 504387.45944289037, 504387.45944289037, 504595.1108765167, 504595.1108765167, 505010.4137437693, 505010.4137437693, 505010.4137437693, 505010.4137437693, 505010.4137437693, 505218.0651773956, 505425.7166110219, 505529.54232783505, 505841.0194782745, 506048.6709119008, 506256.3223455271, 506671.62521277973, 506671.62521277973, 506671.62521277973, 506671.62521277973, 506671.62521277973, 506671.62521277973, 506671.62521277973, 506671.62521277973, 506671.62521277973, 506671.62521277973, 506671.62521277973, 506671.62521277973, 506671.62521277973, 507086.92808003235, 507086.92808003235, 507086.92808003235, 507086.92808003235, 507086.92808003235, 507086.92808003235, 507086.92808003235, 507086.92808003235, 507086.92808003235, 507086.92808003235, 507086.92808003235, 507086.92808003235, 507294.57951365865, 507502.23094728496, 507502.23094728496, 508125.1852481639, 508125.1852481639, 508125.1852481639, 508332.8366817902, 508332.8366817902, 508332.8366817902, 508332.8366817902, 508332.8366817902, 508332.8366817902, 508748.1395490428, 508955.7909826691, 509163.4424162954, 509163.4424162954, 509163.4424162954, 509267.2681331085, 509578.74528354796, 509578.74528354796, 509578.74528354796, 509578.74528354796, 509578.74528354796, 509578.74528354796, 509786.39671717427, 509994.0481508006, 509994.0481508006, 509994.0481508006, 510201.6995844269, 510201.6995844269, 510305.52530124004, 510824.6538853058, 510824.6538853058, 511032.3053189321, 511032.3053189321, 511239.9567525584, 511447.6081861847, 511655.259619811, 511655.259619811, 511655.259619811, 511655.259619811, 511655.259619811, 511759.0853366242, 511759.0853366242, 511862.91105343733, 511862.91105343733, 511862.91105343733, 511862.91105343733, 511862.91105343733, 512174.3882038768, 512278.21392068994, 512485.86535431625, 512485.86535431625, 512485.86535431625, 512485.86535431625, 512485.86535431625, 512901.16822156886, 512901.16822156886, 512901.16822156886, 513316.4710888215, 513316.4710888215, 513316.4710888215, 513316.4710888215, 513316.4710888215, 513316.4710888215, 513316.4710888215, 513316.4710888215, 513316.4710888215, 513316.4710888215, 513316.4710888215, 513316.4710888215, 513316.4710888215, 513316.4710888215, 513316.4710888215, 513316.4710888215, 513316.4710888215, 513316.4710888215, 513316.4710888215, 513316.4710888215, 513316.4710888215, 513316.4710888215, 513316.4710888215, 513316.4710888215, 513939.4253897004, 514250.90254013985, 514354.728256953, 514354.728256953, 514873.8568410188, 514873.8568410188, 514873.8568410188, 514873.8568410188, 514873.8568410188, 514977.6825578319, 514977.6825578319, 515185.33399145823, 515185.33399145823, 515185.33399145823, 515392.9854250845, 516223.5911595897, 516223.5911595897, 516431.242593216, 516431.242593216, 516535.0683100292, 516638.8940268423, 516638.8940268423, 516638.8940268423, 516638.8940268423, 516638.8940268423, 517054.19689409493, 517054.19689409493, 517054.19689409493, 517054.19689409493, 517054.19689409493, 517158.0226109081, 517469.49976134754, 517469.49976134754, 517469.49976134754, 517469.49976134754, 517469.49976134754, 517469.49976134754, 517469.49976134754, 517469.49976134754, 517469.49976134754, 517469.49976134754, 517469.49976134754, 517469.49976134754, 518300.10549585277, 518300.10549585277, 518300.10549585277, 518300.10549585277, 518300.10549585277, 518300.10549585277, 518300.10549585277, 518300.10549585277, 518300.10549585277, 518300.10549585277, 518300.10549585277, 518300.10549585277, 518715.4083631054, 518715.4083631054, 518923.0597967317, 518923.0597967317, 519234.53694717115, 519546.0140976106, 519546.0140976106, 519546.0140976106, 519546.0140976106, 519546.0140976106, 519546.0140976106, 519546.0140976106, 519546.0140976106, 519546.0140976106, 519546.0140976106, 519546.0140976106, 519546.0140976106, 519546.0140976106, 519546.0140976106, 519857.49124805006, 519961.3169648632, 519961.3169648632, 519961.3169648632, 519961.3169648632, 519961.3169648632, 519961.3169648632, 519961.3169648632, 519961.3169648632, 520168.9683984895, 520168.9683984895, 520584.27126574214, 520688.0969825553, 520688.0969825553, 520791.92269936844, 521103.3998498079, 521207.22556662105, 521207.22556662105, 521207.22556662105, 521207.22556662105, 521207.22556662105, 521207.22556662105, 521414.87700024736, 521414.87700024736, 521622.52843387367, 521622.52843387367, 521622.52843387367, 521622.52843387367, 521622.52843387367, 521622.52843387367, 521622.52843387367, 522037.8313011263, 522037.8313011263, 522037.8313011263, 522037.8313011263, 522037.8313011263, 522660.7856020052, 522660.7856020052, 522660.7856020052, 522660.7856020052, 522660.7856020052, 522660.7856020052, 522660.7856020052, 522660.7856020052, 522660.7856020052, 522660.7856020052, 522660.7856020052, 522660.7856020052, 522660.7856020052, 522660.7856020052, 523076.0884692578, 523283.7399028841, 523283.7399028841, 523283.7399028841, 523283.7399028841, 523283.7399028841, 523283.7399028841, 523283.7399028841, 523283.7399028841, 523283.7399028841, 523283.7399028841, 523283.7399028841, 523283.7399028841, 523283.7399028841, 523283.7399028841, 523283.7399028841, 523387.5656196972, 523491.3913365104, 523699.04277013673, 523699.04277013673, 523699.04277013673, 524010.51992057613, 524114.34563738934, 524114.34563738934, 524114.34563738934, 524114.34563738934, 524114.34563738934, 524114.34563738934, 524114.34563738934, 524114.34563738934, 524321.9970710156, 524321.9970710156, 524529.648504642, 524944.9513718946, 525360.2542391472, 525360.2542391472, 525360.2542391472, 525464.0799559603, 525567.9056727735, 525567.9056727735, 525775.5571063998, 525775.5571063998, 525775.5571063998, 525775.5571063998, 525775.5571063998, 525775.5571063998, 525775.5571063998, 525775.5571063998, 525775.5571063998, 525775.5571063998, 525775.5571063998, 525775.5571063998, 525775.5571063998, 525775.5571063998, 525775.5571063998, 525775.5571063998, 525775.5571063998, 525775.5571063998, 525775.5571063998, 526087.0342568392, 526190.8599736524, 526190.8599736524, 526190.8599736524, 526190.8599736524, 526190.8599736524, 526398.5114072787, 526398.5114072787, 526398.5114072787, 526606.1628409049, 526606.1628409049, 526606.1628409049, 526606.1628409049, 526606.1628409049, 526606.1628409049, 526606.1628409049, 526709.9885577181, 526709.9885577181, 526813.8142745313, 526813.8142745313, 526917.6399913444, 527021.4657081575, 527021.4657081575, 527021.4657081575, 527021.4657081575, 527021.4657081575, 527021.4657081575, 527021.4657081575, 527229.1171417839, 527229.1171417839, 527229.1171417839, 527332.942858597, 527436.7685754101, 527436.7685754101, 527644.4200090365, 527852.0714426627, 527852.0714426627, 527852.0714426627, 527852.0714426627, 527852.0714426627, 527852.0714426627, 527852.0714426627, 527955.897159476, 528059.7228762892, 528267.3743099154, 528267.3743099154, 528267.3743099154, 528267.3743099154, 528267.3743099154, 528371.2000267286, 528371.2000267286, 528682.677177168, 528890.3286107943, 528890.3286107943, 528890.3286107943, 528994.1543276075, 529097.9800444206, 529097.9800444206, 529097.9800444206, 529305.6314780469, 529409.4571948601, 529513.2829116732, 529513.2829116732, 529513.2829116732, 529513.2829116732, 529513.2829116732, 529513.2829116732, 529513.2829116732, 529513.2829116732, 529513.2829116732, 529513.2829116732, 529513.2829116732, 529513.2829116732, 529513.2829116732, 529513.2829116732, 529720.9343452995, 529928.5857789258, 529928.5857789258, 529928.5857789258, 529928.5857789258, 529928.5857789258, 529928.5857789258, 529928.5857789258, 529928.5857789258, 529928.5857789258, 529928.5857789258, 529928.5857789258, 529928.5857789258, 529928.5857789258, 529928.5857789258, 529928.5857789258, 529928.5857789258, 529928.5857789258, 529928.5857789258, 529928.5857789258, 529928.5857789258, 529928.5857789258, 529928.5857789258, 529928.5857789258, 529928.5857789258, 530136.2372125521, 530343.8886461784, 530447.7143629916, 530447.7143629916, 530447.7143629916, 530447.7143629916, 530447.7143629916, 530447.7143629916, 530447.7143629916, 530447.7143629916, 530551.5400798047, 530551.5400798047, 530655.3657966179, 530759.191513431, 530759.191513431, 530759.191513431, 530759.191513431, 530966.8429470573, 531070.6686638705, 531174.4943806836, 531174.4943806836, 531174.4943806836, 531174.4943806836, 531382.14581431, 531382.14581431, 531382.14581431, 531382.14581431, 531485.9715311232, 531589.7972479363, 531589.7972479363, 531693.6229647495, 531797.4486815626, 532005.1001151889, 532005.1001151889, 532005.1001151889, 532005.1001151889, 532005.1001151889, 532005.1001151889, 532005.1001151889, 532108.9258320021, 532212.7515488152, 532212.7515488152, 532420.4029824415, 532420.4029824415, 532420.4029824415, 532420.4029824415, 532420.4029824415, 532420.4029824415, 532420.4029824415, 532420.4029824415, 532420.4029824415, 532420.4029824415, 532420.4029824415, 532420.4029824415, 532420.4029824415, 532524.2286992547, 532524.2286992547, 532731.880132881, 532731.880132881, 532835.7058496941, 532835.7058496941, 532835.7058496941, 532835.7058496941, 532835.7058496941, 532835.7058496941, 532835.7058496941, 533043.3572833204, 533043.3572833204, 533043.3572833204, 533147.1830001336, 533251.0087169467, 533251.0087169467, 533251.0087169467, 533251.0087169467, 533251.0087169467, 533251.0087169467, 533251.0087169467, 533251.0087169467, 533251.0087169467, 533251.0087169467, 533251.0087169467, 533251.0087169467, 533251.0087169467, 533251.0087169467, 533251.0087169467, 533251.0087169467, 533251.0087169467, 533251.0087169467, 533251.0087169467, 533251.0087169467, 533251.0087169467, 533458.660150573, 533562.4858673862, 533666.3115841993, 533666.3115841993, 533666.3115841993, 534081.6144514519, 534081.6144514519, 534081.6144514519, 534081.6144514519, 534081.6144514519, 534081.6144514519, 534081.6144514519, 534081.6144514519, 534081.6144514519, 534081.6144514519, 534081.6144514519, 534081.6144514519, 534081.6144514519, 534081.6144514519, 534289.2658850782, 534393.0916018914, 534912.2201859572, 534912.2201859572, 534912.2201859572, 534912.2201859572, 534912.2201859572, 535016.0459027702, 535119.8716195835, 535119.8716195835, 535119.8716195835, 535119.8716195835, 535119.8716195835, 535119.8716195835, 535119.8716195835, 535327.5230532098, 535639.0002036493, 535742.8259204624, 535742.8259204624, 535742.8259204624, 535742.8259204624, 535742.8259204624, 535742.8259204624, 536158.128787715, 536158.128787715, 536158.128787715, 536158.128787715, 536158.128787715, 536158.128787715, 536365.7802213413, 536365.7802213413, 536573.4316549676, 536573.4316549676, 536573.4316549676, 536573.4316549676, 536573.4316549676, 536573.4316549676, 536573.4316549676, 536677.2573717807, 536677.2573717807, 536677.2573717807, 536781.0830885939, 536781.0830885939, 536988.7345222202, 536988.7345222202, 536988.7345222202, 536988.7345222202, 536988.7345222202, 536988.7345222202, 536988.7345222202, 537196.3859558465, 537196.3859558465, 537196.3859558465, 537300.2116726596, 537404.0373894728, 537404.0373894728, 537404.0373894728, 537404.0373894728, 537404.0373894728, 537611.6888230991, 537611.6888230991, 537715.5145399122, 537819.3402567254, 537819.3402567254, 537819.3402567254, 537819.3402567254, 538026.9916903517, 538026.9916903517, 538026.9916903517, 538234.643123978, 538234.643123978, 538234.643123978, 538234.643123978, 538234.643123978, 538234.643123978, 538234.643123978, 538234.643123978, 538234.643123978, 538234.643123978, 538234.643123978, 538234.643123978, 538234.643123978, 538234.643123978, 538234.643123978, 538234.643123978, 538234.643123978, 538234.643123978, 538234.643123978, 538234.643123978, 538234.643123978, 538234.643123978, 538234.643123978, 538234.643123978, 538234.643123978, 538234.643123978, 538234.643123978, 538234.643123978, 538234.643123978, 538234.643123978, 538442.2945576044, 538442.2945576044, 538546.1202744175, 538546.1202744175, 538649.9459912307, 538649.9459912307, 538649.9459912307, 538753.7717080438, 538857.597424857, 538857.597424857, 538857.597424857, 539065.2488584833, 539065.2488584833, 539065.2488584833, 539065.2488584833, 539065.2488584833, 539065.2488584833, 539272.9002921096, 539272.9002921096, 539272.9002921096, 539480.5517257359, 539480.5517257359, 539688.2031593622, 539688.2031593622, 539688.2031593622, 539688.2031593622, 539792.0288761753, 539792.0288761753, 539895.8545929885, 539895.8545929885, 539895.8545929885, 539895.8545929885, 539895.8545929885, 539895.8545929885, 539895.8545929885, 539895.8545929885, 539895.8545929885, 539895.8545929885, 539895.8545929885, 539895.8545929885, 539895.8545929885, 539895.8545929885, 540103.5060266148, 540311.1574602411, 540311.1574602411, 540311.1574602411, 540311.1574602411, 540518.8088938674, 540726.4603274937, 540726.4603274937, 540726.4603274937, 540726.4603274937, 540726.4603274937, 540726.4603274937, 540726.4603274937, 540726.4603274937, 540726.4603274937, 540726.4603274937, 540726.4603274937, 540726.4603274937, 540726.4603274937, 540726.4603274937, 540726.4603274937, 540726.4603274937, 540726.4603274937, 540726.4603274937, 540726.4603274937, 540726.4603274937, 540726.4603274937, 540726.4603274937, 540726.4603274937, 540830.2860443068, 541141.7631947463, 541349.4146283726, 541349.4146283726, 541349.4146283726, 541349.4146283726, 541349.4146283726, 541349.4146283726, 541557.066061999, 541557.066061999, 541557.066061999, 541557.066061999, 541557.066061999, 541557.066061999, 541557.066061999, 541557.066061999, 541557.066061999, 541557.066061999, 541764.7174956253, 541764.7174956253, 541764.7174956253, 541868.5432124384, 541972.3689292516, 541972.3689292516, 542180.0203628778, 542180.0203628778, 542180.0203628778, 542387.6717965042, 542387.6717965042, 542387.6717965042, 542387.6717965042, 542387.6717965042, 542387.6717965042, 542387.6717965042, 542387.6717965042, 542387.6717965042, 542387.6717965042, 542387.6717965042, 542595.3232301304, 542595.3232301304, 542595.3232301304, 542595.3232301304, 542595.3232301304, 542802.9746637568, 542906.8003805699, 542906.8003805699, 542906.8003805699, 543010.626097383, 543010.626097383, 543010.626097383, 543218.2775310094, 543218.2775310094, 543218.2775310094, 543218.2775310094, 543218.2775310094, 543218.2775310094, 543218.2775310094, 543218.2775310094, 543218.2775310094, 543218.2775310094, 543218.2775310094, 543218.2775310094, 543218.2775310094, 543218.2775310094, 543218.2775310094, 543218.2775310094, 543218.2775310094, 543218.2775310094, 543218.2775310094, 543218.2775310094, 543218.2775310094, 543218.2775310094, 543425.9289646356, 543425.9289646356, 543425.9289646356, 543529.7546814488, 543633.580398262, 543633.580398262, 543841.2318318882, 543945.0575487014, 544048.8832655145, 544048.8832655145, 544256.5346991408, 544256.5346991408, 544464.1861327671, 544464.1861327671, 544464.1861327671, 544464.1861327671, 544464.1861327671, 544464.1861327671, 544464.1861327671, 544464.1861327671, 544464.1861327671, 544464.1861327671, 544464.1861327671, 544464.1861327671, 544464.1861327671, 544464.1861327671, 544464.1861327671, 544464.1861327671, 544464.1861327671, 544464.1861327671, 544464.1861327671, 544464.1861327671, 544879.4890000197, 544879.4890000197, 544879.4890000197, 544879.4890000197, 544879.4890000197, 544879.4890000197, 544879.4890000197, 544879.4890000197, 544879.4890000197, 544983.314716833, 545087.140433646, 545087.140433646, 545190.9661504593, 545294.7918672723, 545710.094734525, 545813.9204513382, 545917.7461681513, 545917.7461681513, 545917.7461681513, 545917.7461681513, 546125.3976017776, 546125.3976017776, 546333.0490354039, 546540.7004690302, 546540.7004690302, 546540.7004690302, 546540.7004690302, 546540.7004690302, 546540.7004690302, 546540.7004690302, 546540.7004690302, 546540.7004690302, 546540.7004690302, 546540.7004690302, 546540.7004690302, 546540.7004690302, 546540.7004690302, 546540.7004690302, 546540.7004690302, 546540.7004690302, 546540.7004690302, 546540.7004690302, 546540.7004690302, 546540.7004690302, 546540.7004690302, 546540.7004690302, 546540.7004690302, 546540.7004690302, 546540.7004690302, 546540.7004690302, 546540.7004690302, 546540.7004690302, 546540.7004690302, 546540.7004690302, 546540.7004690302, 546644.5261858434, 546748.3519026565, 546748.3519026565, 546748.3519026565, 546748.3519026565, 546956.0033362828, 546956.0033362828, 547059.829053096, 547371.3062035354, 547371.3062035354, 547371.3062035354, 547371.3062035354, 547371.3062035354, 547371.3062035354, 547371.3062035354, 547475.1319203486, 547786.609070788, 547786.609070788, 547994.2605044143, 548098.0862212275, 548098.0862212275, 548201.9119380406, 548201.9119380406, 548201.9119380406, 548201.9119380406, 548201.9119380406, 548201.9119380406, 548201.9119380406, 548201.9119380406, 548201.9119380406, 548201.9119380406, 548201.9119380406, 548201.9119380406, 548201.9119380406, 548201.9119380406, 548201.9119380406, 548201.9119380406, 548201.9119380406, 548201.9119380406, 548201.9119380406, 548201.9119380406, 548201.9119380406, 548201.9119380406, 548201.9119380406, 548201.9119380406, 548201.9119380406, 548201.9119380406, 548201.9119380406, 548201.9119380406, 548201.9119380406, 548201.9119380406, 548305.7376548538, 548409.5633716669, 548409.5633716669, 548513.38908848, 548617.2148052932, 548617.2148052932, 548617.2148052932, 548617.2148052932, 548617.2148052932, 548617.2148052932, 548617.2148052932, 548617.2148052932, 548617.2148052932, 548617.2148052932, 548617.2148052932, 548824.8662389196, 549032.5176725459, 549032.5176725459, 549032.5176725459, 549032.5176725459, 549032.5176725459, 549136.3433893591, 549136.3433893591, 549136.3433893591, 549240.1691061722, 549343.9948229853, 549447.8205397985, 549447.8205397985, 549551.6462566117, 549863.1234070511, 549863.1234070511, 549863.1234070511, 549863.1234070511, 549863.1234070511, 549863.1234070511, 549863.1234070511, 549863.1234070511, 550070.7748406774, 550278.4262743037, 550278.4262743037, 550278.4262743037, 550486.07770793, 550693.7291415563, 550693.7291415563, 550693.7291415563, 550693.7291415563, 550693.7291415563, 550693.7291415563, 550693.7291415563, 550693.7291415563, 550693.7291415563, 550693.7291415563, 550693.7291415563, 550693.7291415563, 550693.7291415563, 550693.7291415563, 550693.7291415563, 550693.7291415563, 550693.7291415563, 550797.5548583695, 550901.3805751826, 550901.3805751826, 551005.2062919957, 551005.2062919957, 551109.0320088089, 551109.0320088089, 551109.0320088089, 551109.0320088089, 551212.8577256221, 551212.8577256221, 551212.8577256221, 551212.8577256221, 551316.6834424352, 551316.6834424352, 551420.5091592483, 551524.3348760615, 551524.3348760615, 551524.3348760615, 551524.3348760615, 551524.3348760615, 551524.3348760615, 551524.3348760615, 551524.3348760615, 551628.1605928747, 551628.1605928747, 551731.9863096878, 551731.9863096878, 551731.9863096878, 551731.9863096878, 551731.9863096878, 551939.6377433141, 551939.6377433141, 551939.6377433141, 551939.6377433141, 551939.6377433141, 552147.2891769405, 552251.1148937535, 552354.9406105668, 552562.5920441931, 552562.5920441931, 552666.4177610062, 552666.4177610062, 552666.4177610062, 552977.8949114457, 553185.546345072, 553185.546345072, 553185.546345072, 553185.546345072, 553185.546345072, 553185.546345072, 553185.546345072, 553185.546345072, 553185.546345072, 553185.546345072, 553185.546345072, 553185.546345072, 553185.546345072, 553185.546345072, 553185.546345072, 553185.546345072, 553185.546345072, 553185.546345072, 553185.546345072, 553185.546345072, 553289.3720618851, 553600.8492123246, 553600.8492123246, 553808.5006459509, 553808.5006459509, 553808.5006459509, 553808.5006459509, 553808.5006459509, 553808.5006459509, 553808.5006459509, 553808.5006459509, 553808.5006459509, 553808.5006459509, 554016.1520795772, 554016.1520795772, 554016.1520795772, 554223.8035132035, 554223.8035132035, 554223.8035132035, 554223.8035132035, 554431.4549468298, 554431.4549468298, 554431.4549468298, 554431.4549468298, 554639.1063804561, 554846.7578140824, 554846.7578140824, 554846.7578140824, 554846.7578140824, 554846.7578140824, 554846.7578140824, 554846.7578140824, 554846.7578140824, 554846.7578140824, 554846.7578140824, 554846.7578140824, 554846.7578140824, 554846.7578140824, 554846.7578140824, 554846.7578140824, 554846.7578140824, 554846.7578140824, 554846.7578140824, 554846.7578140824, 555054.4092477087, 555262.060681335, 555262.060681335, 555573.5378317744, 555677.3635485877, 555677.3635485877, 555677.3635485877, 555677.3635485877, 555677.3635485877, 555677.3635485877, 555677.3635485877, 555677.3635485877, 555677.3635485877, 555677.3635485877, 555781.1892654008, 555885.014982214, 556092.6664158402, 556092.6664158402, 556092.6664158402, 556092.6664158402, 556092.6664158402, 556300.3178494666, 556404.1435662797, 556507.9692830928, 556507.9692830928, 556507.9692830928, 556507.9692830928, 556507.9692830928, 556507.9692830928, 556507.9692830928, 556507.9692830928, 556611.794999906, 556611.794999906, 556611.794999906, 556611.794999906, 556611.794999906, 556715.6207167192, 556715.6207167192, 556923.2721503454, 556923.2721503454, 556923.2721503454, 557027.0978671586, 557130.9235839718, 557338.575017598, 557338.575017598, 557442.4007344112, 557546.2264512244, 557753.8778848506, 557753.8778848506, 558169.1807521032, 558169.1807521032, 558169.1807521032, 558169.1807521032, 558169.1807521032, 558169.1807521032, 558169.1807521032, 558169.1807521032, 558376.8321857296, 558584.4836193558, 558584.4836193558, 558895.9607697953, 558895.9607697953, 558999.7864866084, 558999.7864866084, 558999.7864866084, 558999.7864866084, 558999.7864866084, 558999.7864866084, 558999.7864866084, 558999.7864866084, 558999.7864866084, 558999.7864866084, 558999.7864866084, 558999.7864866084, 558999.7864866084, 558999.7864866084, 558999.7864866084, 558999.7864866084, 558999.7864866084, 558999.7864866084, 558999.7864866084, 558999.7864866084, 558999.7864866084, 558999.7864866084, 559207.4379202349, 559207.4379202349, 559415.089353861, 559415.089353861, 559518.9150706743, 559518.9150706743, 559622.7407874875, 559622.7407874875, 559726.5665043006, 559830.3922211137, 559830.3922211137, 559830.3922211137, 559830.3922211137, 559830.3922211137, 559830.3922211137, 559830.3922211137, 559830.3922211137, 559830.3922211137, 559830.3922211137, 559830.3922211137, 559830.3922211137, 559934.2179379269, 560038.04365474, 560038.04365474, 560245.6950883663, 560245.6950883663, 560557.1722388058, 560660.9979556189, 560660.9979556189, 560660.9979556189, 560868.6493892452, 561076.3008228715, 561076.3008228715, 561076.3008228715, 561283.9522564978, 561283.9522564978, 561283.9522564978, 561491.6036901241, 561491.6036901241, 561491.6036901241, 561491.6036901241, 561491.6036901241, 561491.6036901241, 561491.6036901241, 561595.4294069373, 561699.2551237504, 561803.0808405636, 561906.9065573767, 561906.9065573767, 561906.9065573767, 561906.9065573767, 561906.9065573767, 561906.9065573767, 562322.2094246293, 562322.2094246293, 562322.2094246293, 562426.0351414426, 562529.8608582556, 562529.8608582556, 562737.512291882, 562737.512291882, 562945.1637255083, 562945.1637255083, 563152.8151591346, 563152.8151591346, 563152.8151591346, 563152.8151591346, 563152.8151591346, 563152.8151591346, 563152.8151591346, 563152.8151591346, 563152.8151591346, 563152.8151591346, 563152.8151591346, 563152.8151591346, 563152.8151591346, 563152.8151591346, 563152.8151591346, 563152.8151591346, 563152.8151591346, 563152.8151591346, 563152.8151591346, 563152.8151591346, 563152.8151591346, 563152.8151591346, 563152.8151591346, 563152.8151591346, 563152.8151591346, 563152.8151591346, 563152.8151591346, 563152.8151591346, 563152.8151591346, 563152.8151591346, 563152.8151591346, 563152.8151591346, 563152.8151591346, 563152.8151591346, 563152.8151591346, 563152.8151591346, 563152.8151591346, 563152.8151591346, 563152.8151591346, 563152.8151591346, 563360.4665927609, 563568.1180263872, 563568.1180263872, 563775.7694600135, 563983.4208936398, 563983.4208936398, 563983.4208936398, 563983.4208936398, 564087.2466104529, 564191.0723272661, 564191.0723272661, 564191.0723272661, 564191.0723272661, 564398.7237608924, 564398.7237608924, 564398.7237608924, 564398.7237608924, 564398.7237608924, 564606.3751945187, 564710.2009113319, 564710.2009113319, 564814.026628145, 564814.026628145, 564814.026628145, 564917.8523449581, 565229.3294953976, 565229.3294953976, 565229.3294953976, 565229.3294953976, 565229.3294953976, 565229.3294953976, 565229.3294953976, 565540.8066458371, 565644.6323626502, 565644.6323626502, 565644.6323626502, 565644.6323626502, 565644.6323626502, 565852.2837962765, 566059.9352299029, 566059.9352299029, 566163.760946716, 566267.5866635292, 566267.5866635292, 566267.5866635292, 566267.5866635292, 566267.5866635292, 566475.2380971555, 566475.2380971555, 566475.2380971555, 566475.2380971555, 566475.2380971555, 566475.2380971555, 566475.2380971555, 566475.2380971555, 566786.715247595, 566890.5409644081, 566890.5409644081, 566890.5409644081, 566890.5409644081, 567305.8438316607, 567305.8438316607, 567305.8438316607, 567305.8438316607, 567305.8438316607, 567305.8438316607, 567305.8438316607, 567305.8438316607, 567305.8438316607, 567305.8438316607, 567305.8438316607, 567721.1466989133, 567824.9724157264, 567824.9724157264, 568032.6238493527, 568136.4495661659, 568136.4495661659, 568136.4495661659, 568136.4495661659, 568136.4495661659, 568240.275282979, 568240.275282979, 568344.1009997922, 568551.7524334185, 568759.4038670448, 568759.4038670448, 568967.0553006711, 568967.0553006711, 568967.0553006711, 568967.0553006711, 568967.0553006711, 568967.0553006711, 568967.0553006711, 569174.7067342974, 569382.3581679238, 569382.3581679238, 569382.3581679238, 569382.3581679238, 569382.3581679238, 569382.3581679238, 569382.3581679238, 569382.3581679238, 569382.3581679238, 569382.3581679238, 569382.3581679238, 569486.1838847368, 569797.6610351764, 569797.6610351764, 569797.6610351764, 569797.6610351764, 569797.6610351764, 570005.3124688027, 570005.3124688027, 570212.963902429, 570212.963902429, 570420.6153360553, 570420.6153360553, 570628.2667696816, 570628.2667696816, 570628.2667696816, 570628.2667696816, 570628.2667696816, 570628.2667696816, 570628.2667696816, 570939.743920121, 571043.5696369342, 571043.5696369342, 571043.5696369342, 571251.2210705604, 571355.0467873736, 571458.8725041868, 571458.8725041868, 571458.8725041868, 571458.8725041868, 571458.8725041868, 571458.8725041868, 571458.8725041868, 571458.8725041868, 571458.8725041868, 571458.8725041868, 571458.8725041868, 571458.8725041868, 571458.8725041868, 571458.8725041868, 571666.523937813, 571874.1753714394, 571978.0010882525, 572081.8268050656, 572289.478238692, 572289.478238692, 572289.478238692, 572289.478238692, 572289.478238692, 572289.478238692, 572289.478238692, 572497.1296723182, 572497.1296723182, 572497.1296723182, 572497.1296723182, 572704.7811059447, 572912.4325395708, 572912.4325395708, 573016.258256384, 573120.0839731973, 573120.0839731973, 573120.0839731973, 573120.0839731973, 573120.0839731973, 573120.0839731973, 573120.0839731973, 573120.0839731973, 573120.0839731973, 573120.0839731973, 573120.0839731973, 573120.0839731973, 573120.0839731973, 573327.7354068235, 573431.5611236367, 573431.5611236367, 573535.3868404499, 573535.3868404499, 573535.3868404499, 573535.3868404499, 573535.3868404499, 573535.3868404499, 573535.3868404499, 573743.0382740761, 573743.0382740761, 573950.6897077025, 573950.6897077025, 573950.6897077025, 574158.3411413287, 574158.3411413287, 574365.9925749551, 574573.6440085813, 574573.6440085813, 574573.6440085813, 574677.4697253945, 574781.2954422077, 574781.2954422077, 574781.2954422077, 574781.2954422077, 574781.2954422077, 574781.2954422077, 574781.2954422077, 574781.2954422077, 574781.2954422077, 574781.2954422077, 574781.2954422077, 574781.2954422077, 574781.2954422077, 574781.2954422077, 574988.9468758339, 574988.9468758339, 575196.5983094602, 575300.4240262734, 575300.4240262734, 575508.0754598997, 575611.9011767128, 575611.9011767128, 575611.9011767128, 575611.9011767128, 575611.9011767128, 575611.9011767128, 576027.2040439654, 576027.2040439654, 576027.2040439654, 576234.8554775917, 576234.8554775917, 576234.8554775917, 576234.8554775917, 576234.8554775917, 576234.8554775917, 576338.681194405, 576442.506911218, 576442.506911218, 576442.506911218, 576442.506911218, 576442.506911218, 576442.506911218, 576442.506911218, 576442.506911218, 576442.506911218, 576442.506911218, 576442.506911218, 576650.1583448444, 576650.1583448444, 577169.2869289102, 577169.2869289102, 577169.2869289102, 577273.1126457233, 577273.1126457233, 577273.1126457233, 577480.7640793496, 577480.7640793496, 577480.7640793496, 577688.4155129759, 577688.4155129759, 577688.4155129759, 578103.7183802285, 578103.7183802285, 578103.7183802285, 578103.7183802285, 578103.7183802285, 578103.7183802285, 578103.7183802285, 578103.7183802285, 578103.7183802285, 578103.7183802285, 578207.5440970417, 578207.5440970417, 578207.5440970417, 578207.5440970417, 578311.3698138548, 578311.3698138548, 578830.4983979205, 578934.3241147337, 578934.3241147337, 578934.3241147337, 578934.3241147337, 579038.1498315469, 579141.97554836, 579141.97554836, 579245.8012651731, 579557.2784156126, 579661.1041324257, 579764.929849239, 579764.929849239, 579764.929849239, 579764.929849239, 579764.929849239, 579764.929849239, 579764.929849239, 579764.929849239, 579764.929849239, 579764.929849239, 579764.929849239, 579764.929849239, 579764.929849239, 579764.929849239, 579764.929849239, 579764.929849239, 579764.929849239, 579764.929849239, 579764.929849239, 579764.929849239, 579764.929849239, 579764.929849239, 579868.7555660522, 580284.0584333048, 580595.5355837442, 580595.5355837442, 580595.5355837442, 580595.5355837442, 580595.5355837442, 580595.5355837442, 580803.1870173705, 580803.1870173705, 581010.8384509968, 581218.4898846231, 581426.1413182494, 581529.9670350626, 581841.444185502, 581841.444185502, 581841.444185502, 581841.444185502, 581841.444185502, 581841.444185502, 581841.444185502, 581841.444185502, 582049.0956191283, 582049.0956191283, 582049.0956191283, 582152.9213359414, 582256.7470527546, 582256.7470527546, 582256.7470527546, 582256.7470527546, 582256.7470527546, 582256.7470527546, 582879.7013536335, 582879.7013536335, 583087.3527872598, 583087.3527872598, 583087.3527872598, 583087.3527872598, 583087.3527872598, 583087.3527872598, 583087.3527872598, 583087.3527872598, 583087.3527872598, 583191.178504073, 583398.8299376993, 583502.6556545125, 583502.6556545125, 583502.6556545125, 583710.3070881388, 583710.3070881388, 583710.3070881388, 583710.3070881388, 583710.3070881388, 583917.9585217651, 584437.0871058308, 584437.0871058308, 584437.0871058308, 584540.912822644, 584748.5642562703, 584748.5642562703, 584748.5642562703, 584748.5642562703, 584956.2156898966, 584956.2156898966, 584956.2156898966, 584956.2156898966, 584956.2156898966, 584956.2156898966, 585267.692840336, 585579.1699907755, 585786.8214244018, 585786.8214244018, 585786.8214244018, 585994.4728580281, 585994.4728580281, 585994.4728580281, 585994.4728580281, 585994.4728580281, 586409.7757252806, 586409.7757252806, 586409.7757252806, 586409.7757252806, 586513.6014420938, 586617.427158907, 586825.0785925332, 587032.7300261597, 587240.3814597859, 587240.3814597859, 587240.3814597859, 587240.3814597859, 587240.3814597859, 587240.3814597859, 587344.2071765991, 587655.6843270385, 587967.161477478, 587967.161477478, 588070.9871942911, 588070.9871942911, 588070.9871942911, 588070.9871942911, 588070.9871942911, 588070.9871942911, 588070.9871942911, 588070.9871942911, 588070.9871942911, 588070.9871942911, 588382.4643447306, 588382.4643447306, 588382.4643447306, 588382.4643447306, 588382.4643447306, 588382.4643447306, 588382.4643447306, 588901.5929287963, 589109.2443624227, 589109.2443624227, 589109.2443624227, 589213.0700792358, 589524.5472296753, 589732.1986633015, 589732.1986633015, 589836.0243801147, 590147.5015305541, 590147.5015305541, 590147.5015305541, 590147.5015305541, 590355.1529641805, 590874.2815482463, 590978.1072650594, 590978.1072650594, 591081.9329818726, 591393.410132312, 591393.410132312, 591601.0615659383, 591704.8872827515, 591704.8872827515, 591808.7129995646, 591808.7129995646, 592016.3644331909, 592224.0158668172, 592224.0158668172, 592224.0158668172, 592431.6673004435, 592639.3187340698, 592743.144450883, 592846.9701676961, 592846.9701676961, 592950.7958845093, 592950.7958845093, 593054.6216013224, 593054.6216013224, 593054.6216013224, 593054.6216013224, 593054.6216013224, 593158.4473181356, 593158.4473181356, 593469.924468575, 593469.924468575, 593469.924468575, 593469.924468575, 594092.878769454, 594508.1816367066, 594715.8330703329, 594715.8330703329, 594715.8330703329, 595131.1359375855, 595131.1359375855, 595234.9616543986, 595338.7873712118, 595338.7873712118, 595338.7873712118, 595442.613088025, 595546.4388048381, 595754.0902384644, 595857.9159552776, 595961.7416720907, 595961.7416720907, 596169.393105717, 596169.393105717, 596169.393105717, 596377.0445393433, 596377.0445393433, 596377.0445393433, 596377.0445393433, 596377.0445393433, 596584.6959729696, 596792.347406596, 596792.347406596, 596792.347406596, 596896.173123409, 597415.3017074749, 597622.9531411012, 597622.9531411012, 597934.4302915406, 597934.4302915406, 598038.2560083538, 598038.2560083538, 598038.2560083538, 598038.2560083538, 598038.2560083538, 598038.2560083538, 598038.2560083538, 598038.2560083538, 598245.9074419801, 598349.7331587932, 598661.2103092327, 598661.2103092327, 598661.2103092327, 598661.2103092327, 598661.2103092327, 598972.6874596721, 599387.9903269247, 599595.641760551, 599699.4674773642, 599699.4674773642, 599803.2931941773, 599803.2931941773, 599907.1189109905, 599907.1189109905, 600010.9446278036, 600114.7703446168, 600530.0732118695, 600530.0732118695, 600530.0732118695, 600530.0732118695, 600530.0732118695, 600530.0732118695, 600530.0732118695, 600530.0732118695, 600530.0732118695, 600945.3760791221, 601153.0275127484, 601153.0275127484, 601256.8532295615, 601256.8532295615, 601256.8532295615, 601360.6789463747, 601360.6789463747, 601464.5046631878, 601775.9818136273, 601775.9818136273, 601879.8075304404, 601879.8075304404, 601983.6332472535, 602191.2846808799, 602606.5875481325, 602606.5875481325, 602606.5875481325, 602606.5875481325, 603021.8904153851, 603021.8904153851, 603021.8904153851, 603229.5418490113, 603229.5418490113, 603437.1932826377, 603437.1932826377, 603644.8447162639, 603748.6704330771, 603748.6704330771, 603748.6704330771, 603748.6704330771, 603852.4961498904, 604267.799017143, 604267.799017143, 604683.1018843956, 604683.1018843956, 604683.1018843956, 604890.7533180218, 605098.4047516482, 605202.2304684613, 605306.0561852744, 605513.7076189007, 605513.7076189007, 605513.7076189007, 605721.359052527, 605825.1847693402, 606032.8362029665, 606240.4876365928, 606344.3133534059, 606344.3133534059, 606551.9647870322, 606759.6162206585, 606759.6162206585, 607174.9190879111, 607174.9190879111, 607590.2219551638, 607590.2219551638, 607694.047671977, 607797.8733887901, 607797.8733887901, 608005.5248224164, 608005.5248224164, 608109.3505392296, 608213.1762560427, 608420.827689669, 608836.1305569216, 609043.7819905479, 609666.7362914268, 609666.7362914268, 609666.7362914268, 609666.7362914268, 609874.3877250531, 609874.3877250531, 609874.3877250531, 609874.3877250531, 609874.3877250531, 609874.3877250531, 610289.6905923057, 610497.342025932, 610497.342025932, 610912.6448931847, 610912.6448931847, 610912.6448931847, 611120.296326811, 611327.9477604373, 611535.5991940636, 611743.2506276899, 611743.2506276899, 611950.9020613162, 612262.3792117557, 612366.2049285688, 612366.2049285688, 612573.8563621951, 612573.8563621951, 612989.1592294477, 612989.1592294477, 612989.1592294477, 612989.1592294477, 612989.1592294477, 613300.6363798871, 613508.2878135134, 613508.2878135134, 613508.2878135134, 613508.2878135134, 613508.2878135134, 614338.8935480186, 615377.1507161502, 615480.9764329634, 615480.9764329634, 615480.9764329634, 615480.9764329634, 616000.1050170291, 616103.9307338423, 616103.9307338423, 617142.1879019737, 617349.8393356001, 617557.4907692263, 617661.3164860395, 617661.3164860395, 617972.793636479, 618180.4450701054, 618388.0965037316, 618699.5736541711, 618803.3993709842, 618803.3993709842, 619218.7022382368, 619218.7022382368, 619218.7022382368, 619218.7022382368, 619218.7022382368, 619634.0051054894, 620256.9594063684, 620360.7851231815, 620360.7851231815, 620464.6108399946, 620464.6108399946, 620776.0879904341, 620776.0879904341, 620776.0879904341, 620776.0879904341, 620879.9137072472, 621087.5651408735, 621087.5651408735, 621087.5651408735, 621295.2165744998, 621295.2165744998, 621295.2165744998, 621295.2165744998, 621295.2165744998, 621295.2165744998, 621399.0422913131, 621502.8680081262, 621502.8680081262, 621606.6937249394, 621710.5194417525, 621918.1708753788, 622021.996592192, 622125.8223090051, 622748.776609884, 622956.4280435103, 623164.0794771366, 623371.7309107629, 623579.3823443892, 623890.8594948287, 625136.7680965865, 625448.245247026, 625448.245247026, 625448.245247026, 625759.7223974655, 626071.1995479049, 626175.0252647181, 626175.0252647181, 626278.8509815312, 626486.5024151575, 626694.1538487838, 627317.1081496627, 627317.1081496627, 627836.2367337286, 627940.0624505416, 627940.0624505416, 628355.3653177943, 628770.6681850469, 629601.2739195521, 630328.0539372441, 630431.8796540573, 630639.5310876836, 631262.4853885625, 631677.7882558152, 631677.7882558152, 631677.7882558152, 631781.6139726283, 632093.0911230678, 632716.0454239466, 632923.696857573, 633235.1740080124, 633754.3025920782, 633754.3025920782, 634584.9083265834, 634584.9083265834, 634792.5597602096, 635000.2111938361, 635000.2111938361, 635000.2111938361, 635207.8626274623, 635830.8169283412, 636765.2483796596, 636869.0740964727, 637595.8541141648, 637699.6798309779, 637907.3312646042, 637907.3312646042, 637907.3312646042, 637907.3312646042, 637907.3312646042, 638426.45984867, 639153.2398663621, 639464.7170168016, 639568.5427336147, 639776.194167241, 640399.1484681199, 640606.7999017462, 640710.6256185593, 641022.1027689988, 641022.1027689988, 641437.4056362514, 642060.3599371304, 642060.3599371304, 642060.3599371304, 642579.4885211962, 642890.9656716356, 642890.9656716356, 642890.9656716356, 643098.6171052619, 644240.6999902065, 644344.5257070197, 644759.8285742723, 645175.131441525, 645798.0857424039, 646005.7371760302, 646317.2143264696, 646421.0400432828, 646628.6914769091, 647043.9943441617, 647043.9943441617, 647251.645777788, 647251.645777788, 649743.4629813037, 649847.2886981168, 649847.2886981168, 650158.7658485563, 650366.4172821825, 650366.4172821825, 651300.8487335009, 651612.3258839403, 651923.8030343798, 652442.9316184456, 653481.1887865771, 654000.3173706429, 654207.9688042692, 654519.4459547086, 655350.0516892138, 656492.1345741586, 656492.1345741586, 656595.9602909717, 657011.2631582243, 657634.2174591032, 657841.8688927295, 658153.346043169, 658464.8231936084, 658672.4746272347, 659087.7774944874, 659191.6032113004, 659295.4289281137, 661164.2918307504, 661164.2918307504, 661164.2918307504, 661994.8975652556, 662098.7232820687, 662202.548998882, 662202.548998882, 662825.5032997609, 662825.5032997609, 662825.5032997609, 664071.4119015187, 664486.7147687713, 664902.0176360239, 665940.2748041553, 667186.1834059132, 668224.4405740447, 669055.0463085499, 669470.3491758025, 669678.0006094289, 670612.4320607472, 670716.2577775604, 671546.8635120656, 671650.6892288788, 671754.5149456919, 672169.8178129445, 672377.4692465708, 672688.9463970102, 673208.0749810761, 673208.0749810761, 674350.1578660207, 675284.5893173391, 676945.8007863495, 677153.4522199759, 677361.1036536021, 677361.1036536021, 679437.6179898651, 679437.6179898651, 683590.6466623913, 684005.9495296439, 684836.5552641491, 685667.1609986543, 688781.9325030489, 688885.7582198621, 689820.1896711804, 689820.1896711804, 691896.7040074435, 691896.7040074435, 691896.7040074435, 692727.3097419487, 692727.3097419487, 692727.3097419487, 693142.6126092013, 693142.6126092013, 693973.2183437066, 693973.2183437066, 695634.429812717, 696049.7326799696, 696672.6869808484, 702486.927122385, 702902.2299896376, 705186.395759527, 705809.3500604059, 705809.3500604059, 712350.3702196345, 713492.4531045791, 724705.6305203997, 725120.9333876523, 725536.2362549049, 729273.9620601783, 733219.3392990781, 733426.9907327044, 735088.2022017149, 744224.8652812722, 748793.196821051, 762498.191440387, 765820.614378408, 773711.3688562075, 793749.732201146, 811919.2326434476, 814930.178431029, 847635.279227172, 951253.344606698, 951876.298907577, 1161188.944002892, 1192336.6590468376], \"yaxis\": \"y\"}],\n",
              "                        {\"legend\": {\"tracegroupgap\": 0}, \"margin\": {\"t\": 60}, \"template\": {\"data\": {\"bar\": [{\"error_x\": {\"color\": \"#2a3f5f\"}, \"error_y\": {\"color\": \"#2a3f5f\"}, \"marker\": {\"line\": {\"color\": \"#E5ECF6\", \"width\": 0.5}}, \"type\": \"bar\"}], \"barpolar\": [{\"marker\": {\"line\": {\"color\": \"#E5ECF6\", \"width\": 0.5}}, \"type\": \"barpolar\"}], \"carpet\": [{\"aaxis\": {\"endlinecolor\": \"#2a3f5f\", \"gridcolor\": \"white\", \"linecolor\": \"white\", \"minorgridcolor\": \"white\", \"startlinecolor\": \"#2a3f5f\"}, \"baxis\": {\"endlinecolor\": \"#2a3f5f\", \"gridcolor\": \"white\", \"linecolor\": \"white\", \"minorgridcolor\": \"white\", \"startlinecolor\": \"#2a3f5f\"}, \"type\": \"carpet\"}], \"choropleth\": [{\"colorbar\": {\"outlinewidth\": 0, \"ticks\": \"\"}, \"type\": \"choropleth\"}], \"contour\": [{\"colorbar\": {\"outlinewidth\": 0, \"ticks\": \"\"}, \"colorscale\": [[0.0, \"#0d0887\"], [0.1111111111111111, \"#46039f\"], [0.2222222222222222, \"#7201a8\"], [0.3333333333333333, \"#9c179e\"], [0.4444444444444444, \"#bd3786\"], [0.5555555555555556, \"#d8576b\"], [0.6666666666666666, \"#ed7953\"], [0.7777777777777778, \"#fb9f3a\"], [0.8888888888888888, \"#fdca26\"], [1.0, \"#f0f921\"]], \"type\": \"contour\"}], \"contourcarpet\": [{\"colorbar\": {\"outlinewidth\": 0, \"ticks\": \"\"}, \"type\": \"contourcarpet\"}], \"heatmap\": [{\"colorbar\": {\"outlinewidth\": 0, \"ticks\": \"\"}, \"colorscale\": [[0.0, \"#0d0887\"], [0.1111111111111111, \"#46039f\"], [0.2222222222222222, \"#7201a8\"], [0.3333333333333333, \"#9c179e\"], [0.4444444444444444, \"#bd3786\"], [0.5555555555555556, \"#d8576b\"], [0.6666666666666666, \"#ed7953\"], [0.7777777777777778, \"#fb9f3a\"], [0.8888888888888888, \"#fdca26\"], [1.0, \"#f0f921\"]], \"type\": \"heatmap\"}], \"heatmapgl\": [{\"colorbar\": {\"outlinewidth\": 0, \"ticks\": \"\"}, \"colorscale\": [[0.0, \"#0d0887\"], [0.1111111111111111, \"#46039f\"], [0.2222222222222222, \"#7201a8\"], [0.3333333333333333, \"#9c179e\"], [0.4444444444444444, \"#bd3786\"], [0.5555555555555556, \"#d8576b\"], [0.6666666666666666, \"#ed7953\"], [0.7777777777777778, \"#fb9f3a\"], [0.8888888888888888, \"#fdca26\"], [1.0, \"#f0f921\"]], \"type\": \"heatmapgl\"}], \"histogram\": [{\"marker\": {\"colorbar\": {\"outlinewidth\": 0, \"ticks\": \"\"}}, \"type\": \"histogram\"}], \"histogram2d\": [{\"colorbar\": {\"outlinewidth\": 0, \"ticks\": \"\"}, \"colorscale\": [[0.0, \"#0d0887\"], [0.1111111111111111, \"#46039f\"], [0.2222222222222222, \"#7201a8\"], [0.3333333333333333, \"#9c179e\"], [0.4444444444444444, \"#bd3786\"], [0.5555555555555556, \"#d8576b\"], [0.6666666666666666, \"#ed7953\"], [0.7777777777777778, \"#fb9f3a\"], [0.8888888888888888, \"#fdca26\"], [1.0, \"#f0f921\"]], \"type\": \"histogram2d\"}], \"histogram2dcontour\": [{\"colorbar\": {\"outlinewidth\": 0, \"ticks\": \"\"}, \"colorscale\": [[0.0, \"#0d0887\"], [0.1111111111111111, \"#46039f\"], [0.2222222222222222, \"#7201a8\"], [0.3333333333333333, \"#9c179e\"], [0.4444444444444444, \"#bd3786\"], [0.5555555555555556, \"#d8576b\"], [0.6666666666666666, \"#ed7953\"], [0.7777777777777778, \"#fb9f3a\"], [0.8888888888888888, \"#fdca26\"], [1.0, \"#f0f921\"]], \"type\": \"histogram2dcontour\"}], \"mesh3d\": [{\"colorbar\": {\"outlinewidth\": 0, \"ticks\": \"\"}, \"type\": \"mesh3d\"}], \"parcoords\": [{\"line\": {\"colorbar\": {\"outlinewidth\": 0, \"ticks\": \"\"}}, \"type\": \"parcoords\"}], \"pie\": [{\"automargin\": true, \"type\": \"pie\"}], \"scatter\": [{\"marker\": {\"colorbar\": {\"outlinewidth\": 0, \"ticks\": \"\"}}, \"type\": \"scatter\"}], \"scatter3d\": [{\"line\": {\"colorbar\": {\"outlinewidth\": 0, \"ticks\": \"\"}}, \"marker\": {\"colorbar\": {\"outlinewidth\": 0, \"ticks\": \"\"}}, \"type\": \"scatter3d\"}], \"scattercarpet\": [{\"marker\": {\"colorbar\": {\"outlinewidth\": 0, \"ticks\": \"\"}}, \"type\": \"scattercarpet\"}], \"scattergeo\": [{\"marker\": {\"colorbar\": {\"outlinewidth\": 0, \"ticks\": \"\"}}, \"type\": \"scattergeo\"}], \"scattergl\": [{\"marker\": {\"colorbar\": {\"outlinewidth\": 0, \"ticks\": \"\"}}, \"type\": \"scattergl\"}], \"scattermapbox\": [{\"marker\": {\"colorbar\": {\"outlinewidth\": 0, \"ticks\": \"\"}}, \"type\": \"scattermapbox\"}], \"scatterpolar\": [{\"marker\": {\"colorbar\": {\"outlinewidth\": 0, \"ticks\": \"\"}}, \"type\": \"scatterpolar\"}], \"scatterpolargl\": [{\"marker\": {\"colorbar\": {\"outlinewidth\": 0, \"ticks\": \"\"}}, \"type\": \"scatterpolargl\"}], \"scatterternary\": [{\"marker\": {\"colorbar\": {\"outlinewidth\": 0, \"ticks\": \"\"}}, \"type\": \"scatterternary\"}], \"surface\": [{\"colorbar\": {\"outlinewidth\": 0, \"ticks\": \"\"}, \"colorscale\": [[0.0, \"#0d0887\"], [0.1111111111111111, \"#46039f\"], [0.2222222222222222, \"#7201a8\"], [0.3333333333333333, \"#9c179e\"], [0.4444444444444444, \"#bd3786\"], [0.5555555555555556, \"#d8576b\"], [0.6666666666666666, \"#ed7953\"], [0.7777777777777778, \"#fb9f3a\"], [0.8888888888888888, \"#fdca26\"], [1.0, \"#f0f921\"]], \"type\": \"surface\"}], \"table\": [{\"cells\": {\"fill\": {\"color\": \"#EBF0F8\"}, \"line\": {\"color\": \"white\"}}, \"header\": {\"fill\": {\"color\": \"#C8D4E3\"}, \"line\": {\"color\": \"white\"}}, \"type\": \"table\"}]}, \"layout\": {\"annotationdefaults\": {\"arrowcolor\": \"#2a3f5f\", \"arrowhead\": 0, \"arrowwidth\": 1}, \"coloraxis\": {\"colorbar\": {\"outlinewidth\": 0, \"ticks\": \"\"}}, \"colorscale\": {\"diverging\": [[0, \"#8e0152\"], [0.1, \"#c51b7d\"], [0.2, \"#de77ae\"], [0.3, \"#f1b6da\"], [0.4, \"#fde0ef\"], [0.5, \"#f7f7f7\"], [0.6, \"#e6f5d0\"], [0.7, \"#b8e186\"], [0.8, \"#7fbc41\"], [0.9, \"#4d9221\"], [1, \"#276419\"]], \"sequential\": [[0.0, \"#0d0887\"], [0.1111111111111111, \"#46039f\"], [0.2222222222222222, \"#7201a8\"], [0.3333333333333333, \"#9c179e\"], [0.4444444444444444, \"#bd3786\"], [0.5555555555555556, \"#d8576b\"], [0.6666666666666666, \"#ed7953\"], [0.7777777777777778, \"#fb9f3a\"], [0.8888888888888888, \"#fdca26\"], [1.0, \"#f0f921\"]], \"sequentialminus\": [[0.0, \"#0d0887\"], [0.1111111111111111, \"#46039f\"], [0.2222222222222222, \"#7201a8\"], [0.3333333333333333, \"#9c179e\"], [0.4444444444444444, \"#bd3786\"], [0.5555555555555556, \"#d8576b\"], [0.6666666666666666, \"#ed7953\"], [0.7777777777777778, \"#fb9f3a\"], [0.8888888888888888, \"#fdca26\"], [1.0, \"#f0f921\"]]}, \"colorway\": [\"#636efa\", \"#EF553B\", \"#00cc96\", \"#ab63fa\", \"#FFA15A\", \"#19d3f3\", \"#FF6692\", \"#B6E880\", \"#FF97FF\", \"#FECB52\"], \"font\": {\"color\": \"#2a3f5f\"}, \"geo\": {\"bgcolor\": \"white\", \"lakecolor\": \"white\", \"landcolor\": \"#E5ECF6\", \"showlakes\": true, \"showland\": true, \"subunitcolor\": \"white\"}, \"hoverlabel\": {\"align\": \"left\"}, \"hovermode\": \"closest\", \"mapbox\": {\"style\": \"light\"}, \"paper_bgcolor\": \"white\", \"plot_bgcolor\": \"#E5ECF6\", \"polar\": {\"angularaxis\": {\"gridcolor\": \"white\", \"linecolor\": \"white\", \"ticks\": \"\"}, \"bgcolor\": \"#E5ECF6\", \"radialaxis\": {\"gridcolor\": \"white\", \"linecolor\": \"white\", \"ticks\": \"\"}}, \"scene\": {\"xaxis\": {\"backgroundcolor\": \"#E5ECF6\", \"gridcolor\": \"white\", \"gridwidth\": 2, \"linecolor\": \"white\", \"showbackground\": true, \"ticks\": \"\", \"zerolinecolor\": \"white\"}, \"yaxis\": {\"backgroundcolor\": \"#E5ECF6\", \"gridcolor\": \"white\", \"gridwidth\": 2, \"linecolor\": \"white\", \"showbackground\": true, \"ticks\": \"\", \"zerolinecolor\": \"white\"}, \"zaxis\": {\"backgroundcolor\": \"#E5ECF6\", \"gridcolor\": \"white\", \"gridwidth\": 2, \"linecolor\": \"white\", \"showbackground\": true, \"ticks\": \"\", \"zerolinecolor\": \"white\"}}, \"shapedefaults\": {\"line\": {\"color\": \"#2a3f5f\"}}, \"ternary\": {\"aaxis\": {\"gridcolor\": \"white\", \"linecolor\": \"white\", \"ticks\": \"\"}, \"baxis\": {\"gridcolor\": \"white\", \"linecolor\": \"white\", \"ticks\": \"\"}, \"bgcolor\": \"#E5ECF6\", \"caxis\": {\"gridcolor\": \"white\", \"linecolor\": \"white\", \"ticks\": \"\"}}, \"title\": {\"x\": 0.05}, \"xaxis\": {\"automargin\": true, \"gridcolor\": \"white\", \"linecolor\": \"white\", \"ticks\": \"\", \"title\": {\"standoff\": 15}, \"zerolinecolor\": \"white\", \"zerolinewidth\": 2}, \"yaxis\": {\"automargin\": true, \"gridcolor\": \"white\", \"linecolor\": \"white\", \"ticks\": \"\", \"title\": {\"standoff\": 15}, \"zerolinecolor\": \"white\", \"zerolinewidth\": 2}}}, \"xaxis\": {\"anchor\": \"y\", \"domain\": [0.0, 1.0], \"title\": {\"text\": \"GROSS_SQUARE_FEET\"}}, \"yaxis\": {\"anchor\": \"x\", \"domain\": [0.0, 1.0], \"title\": {\"text\": \"y\"}}},\n",
              "                        {\"responsive\": true}\n",
              "                    ).then(function(){\n",
              "                            \n",
              "var gd = document.getElementById('5c4203b7-fb9b-41d8-acb6-337ed1a0d427');\n",
              "var x = new MutationObserver(function (mutations, observer) {{\n",
              "        var display = window.getComputedStyle(gd).display;\n",
              "        if (!display || display === 'none') {{\n",
              "            console.log([gd, 'removed!']);\n",
              "            Plotly.purge(gd);\n",
              "            observer.disconnect();\n",
              "        }}\n",
              "}});\n",
              "\n",
              "// Listen for the removal of the full notebook cells\n",
              "var notebookContainer = gd.closest('#notebook-container');\n",
              "if (notebookContainer) {{\n",
              "    x.observe(notebookContainer, {childList: true});\n",
              "}}\n",
              "\n",
              "// Listen for the clearing of the current output cell\n",
              "var outputEl = gd.closest('.output');\n",
              "if (outputEl) {{\n",
              "    x.observe(outputEl, {childList: true});\n",
              "}}\n",
              "\n",
              "                        })\n",
              "                };\n",
              "                \n",
              "            </script>\n",
              "        </div>\n",
              "</body>\n",
              "</html>"
            ]
          },
          "metadata": {
            "tags": []
          }
        }
      ]
    },
    {
      "cell_type": "code",
      "metadata": {
        "id": "j5laajJLGz6i",
        "colab_type": "code",
        "colab": {
          "base_uri": "https://localhost:8080/",
          "height": 322
        },
        "outputId": "994ac4c6-abe7-4989-f992-3c8fb5cfe298"
      },
      "source": [
        "X_train.head()"
      ],
      "execution_count": 135,
      "outputs": [
        {
          "output_type": "execute_result",
          "data": {
            "text/html": [
              "<div>\n",
              "<style scoped>\n",
              "    .dataframe tbody tr th:only-of-type {\n",
              "        vertical-align: middle;\n",
              "    }\n",
              "\n",
              "    .dataframe tbody tr th {\n",
              "        vertical-align: top;\n",
              "    }\n",
              "\n",
              "    .dataframe thead th {\n",
              "        text-align: right;\n",
              "    }\n",
              "</style>\n",
              "<table border=\"1\" class=\"dataframe\">\n",
              "  <thead>\n",
              "    <tr style=\"text-align: right;\">\n",
              "      <th></th>\n",
              "      <th>BOROUGH</th>\n",
              "      <th>NEIGHBORHOOD</th>\n",
              "      <th>BUILDING_CLASS_CATEGORY</th>\n",
              "      <th>TAX_CLASS_AT_PRESENT</th>\n",
              "      <th>BLOCK</th>\n",
              "      <th>LOT</th>\n",
              "      <th>BUILDING_CLASS_AT_PRESENT</th>\n",
              "      <th>ADDRESS</th>\n",
              "      <th>ZIP_CODE</th>\n",
              "      <th>RESIDENTIAL_UNITS</th>\n",
              "      <th>COMMERCIAL_UNITS</th>\n",
              "      <th>TOTAL_UNITS</th>\n",
              "      <th>LAND_SQUARE_FEET</th>\n",
              "      <th>GROSS_SQUARE_FEET</th>\n",
              "      <th>YEAR_BUILT</th>\n",
              "      <th>TAX_CLASS_AT_TIME_OF_SALE</th>\n",
              "      <th>BUILDING_CLASS_AT_TIME_OF_SALE</th>\n",
              "      <th>SALE_DATE</th>\n",
              "      <th>month</th>\n",
              "    </tr>\n",
              "  </thead>\n",
              "  <tbody>\n",
              "    <tr>\n",
              "      <th>44</th>\n",
              "      <td>3</td>\n",
              "      <td>OTHER</td>\n",
              "      <td>01 ONE FAMILY DWELLINGS</td>\n",
              "      <td>1</td>\n",
              "      <td>5495</td>\n",
              "      <td>801</td>\n",
              "      <td>A9</td>\n",
              "      <td>4832 BAY PARKWAY</td>\n",
              "      <td>11230.0</td>\n",
              "      <td>1.0</td>\n",
              "      <td>0.0</td>\n",
              "      <td>1.0</td>\n",
              "      <td>6,800</td>\n",
              "      <td>1325.0</td>\n",
              "      <td>1930.0</td>\n",
              "      <td>1</td>\n",
              "      <td>A9</td>\n",
              "      <td>2019-01-01</td>\n",
              "      <td>1</td>\n",
              "    </tr>\n",
              "    <tr>\n",
              "      <th>61</th>\n",
              "      <td>4</td>\n",
              "      <td>OTHER</td>\n",
              "      <td>01 ONE FAMILY DWELLINGS</td>\n",
              "      <td>1</td>\n",
              "      <td>7918</td>\n",
              "      <td>72</td>\n",
              "      <td>A1</td>\n",
              "      <td>80-23 232ND STREET</td>\n",
              "      <td>11427.0</td>\n",
              "      <td>1.0</td>\n",
              "      <td>0.0</td>\n",
              "      <td>1.0</td>\n",
              "      <td>4,000</td>\n",
              "      <td>2001.0</td>\n",
              "      <td>1940.0</td>\n",
              "      <td>1</td>\n",
              "      <td>A1</td>\n",
              "      <td>2019-01-01</td>\n",
              "      <td>1</td>\n",
              "    </tr>\n",
              "    <tr>\n",
              "      <th>78</th>\n",
              "      <td>2</td>\n",
              "      <td>OTHER</td>\n",
              "      <td>01 ONE FAMILY DWELLINGS</td>\n",
              "      <td>1</td>\n",
              "      <td>4210</td>\n",
              "      <td>19</td>\n",
              "      <td>A1</td>\n",
              "      <td>1260 RHINELANDER AVE</td>\n",
              "      <td>10461.0</td>\n",
              "      <td>1.0</td>\n",
              "      <td>0.0</td>\n",
              "      <td>1.0</td>\n",
              "      <td>3,500</td>\n",
              "      <td>2043.0</td>\n",
              "      <td>1925.0</td>\n",
              "      <td>1</td>\n",
              "      <td>A1</td>\n",
              "      <td>2019-01-02</td>\n",
              "      <td>1</td>\n",
              "    </tr>\n",
              "    <tr>\n",
              "      <th>108</th>\n",
              "      <td>3</td>\n",
              "      <td>OTHER</td>\n",
              "      <td>01 ONE FAMILY DWELLINGS</td>\n",
              "      <td>1</td>\n",
              "      <td>5212</td>\n",
              "      <td>69</td>\n",
              "      <td>A1</td>\n",
              "      <td>469 E 25TH ST</td>\n",
              "      <td>11226.0</td>\n",
              "      <td>1.0</td>\n",
              "      <td>0.0</td>\n",
              "      <td>1.0</td>\n",
              "      <td>4,000</td>\n",
              "      <td>2680.0</td>\n",
              "      <td>1899.0</td>\n",
              "      <td>1</td>\n",
              "      <td>A1</td>\n",
              "      <td>2019-01-02</td>\n",
              "      <td>1</td>\n",
              "    </tr>\n",
              "    <tr>\n",
              "      <th>111</th>\n",
              "      <td>3</td>\n",
              "      <td>OTHER</td>\n",
              "      <td>01 ONE FAMILY DWELLINGS</td>\n",
              "      <td>1</td>\n",
              "      <td>7930</td>\n",
              "      <td>121</td>\n",
              "      <td>A5</td>\n",
              "      <td>5521 WHITTY LANE</td>\n",
              "      <td>11203.0</td>\n",
              "      <td>1.0</td>\n",
              "      <td>0.0</td>\n",
              "      <td>1.0</td>\n",
              "      <td>1,710</td>\n",
              "      <td>1872.0</td>\n",
              "      <td>1940.0</td>\n",
              "      <td>1</td>\n",
              "      <td>A5</td>\n",
              "      <td>2019-01-02</td>\n",
              "      <td>1</td>\n",
              "    </tr>\n",
              "  </tbody>\n",
              "</table>\n",
              "</div>"
            ],
            "text/plain": [
              "    BOROUGH NEIGHBORHOOD  ...  SALE_DATE month\n",
              "44        3        OTHER  ... 2019-01-01     1\n",
              "61        4        OTHER  ... 2019-01-01     1\n",
              "78        2        OTHER  ... 2019-01-02     1\n",
              "108       3        OTHER  ... 2019-01-02     1\n",
              "111       3        OTHER  ... 2019-01-02     1\n",
              "\n",
              "[5 rows x 19 columns]"
            ]
          },
          "metadata": {
            "tags": []
          },
          "execution_count": 135
        }
      ]
    },
    {
      "cell_type": "code",
      "metadata": {
        "id": "vY9g4npSLP6r",
        "colab_type": "code",
        "colab": {
          "base_uri": "https://localhost:8080/",
          "height": 235
        },
        "outputId": "64a257bf-3a45-432d-ce8c-c2724f32b50a"
      },
      "source": [
        "y_train"
      ],
      "execution_count": 137,
      "outputs": [
        {
          "output_type": "execute_result",
          "data": {
            "text/plain": [
              "44       550000\n",
              "61       200000\n",
              "78       810000\n",
              "108      125000\n",
              "111      620000\n",
              "          ...  \n",
              "18129    330000\n",
              "18130    690000\n",
              "18132    610949\n",
              "18134    520000\n",
              "18147    104000\n",
              "Name: SALE_PRICE, Length: 2308, dtype: int64"
            ]
          },
          "metadata": {
            "tags": []
          },
          "execution_count": 137
        }
      ]
    },
    {
      "cell_type": "code",
      "metadata": {
        "id": "9OiFR4e5HvnK",
        "colab_type": "code",
        "colab": {
          "base_uri": "https://localhost:8080/",
          "height": 126
        },
        "outputId": "5b33e25f-0249-40e0-e0f1-0dd10b6b0e33"
      },
      "source": [
        "X_train['NEIGHBORHOOD'].value_counts().head()"
      ],
      "execution_count": 136,
      "outputs": [
        {
          "output_type": "execute_result",
          "data": {
            "text/plain": [
              "OTHER                 2210\n",
              "FLUSHING-NORTH          70\n",
              "BOROUGH PARK            10\n",
              "FOREST HILLS             8\n",
              "BEDFORD STUYVESANT       6\n",
              "Name: NEIGHBORHOOD, dtype: int64"
            ]
          },
          "metadata": {
            "tags": []
          },
          "execution_count": 136
        }
      ]
    },
    {
      "cell_type": "code",
      "metadata": {
        "id": "HfIE1NSxIW7A",
        "colab_type": "code",
        "colab": {
          "base_uri": "https://localhost:8080/",
          "height": 198
        },
        "outputId": "76a5df48-94a7-49cc-eb12-98ea7298e32f"
      },
      "source": [
        "X_train[['NEIGHBORHOOD']].head()"
      ],
      "execution_count": 138,
      "outputs": [
        {
          "output_type": "execute_result",
          "data": {
            "text/html": [
              "<div>\n",
              "<style scoped>\n",
              "    .dataframe tbody tr th:only-of-type {\n",
              "        vertical-align: middle;\n",
              "    }\n",
              "\n",
              "    .dataframe tbody tr th {\n",
              "        vertical-align: top;\n",
              "    }\n",
              "\n",
              "    .dataframe thead th {\n",
              "        text-align: right;\n",
              "    }\n",
              "</style>\n",
              "<table border=\"1\" class=\"dataframe\">\n",
              "  <thead>\n",
              "    <tr style=\"text-align: right;\">\n",
              "      <th></th>\n",
              "      <th>NEIGHBORHOOD</th>\n",
              "    </tr>\n",
              "  </thead>\n",
              "  <tbody>\n",
              "    <tr>\n",
              "      <th>44</th>\n",
              "      <td>OTHER</td>\n",
              "    </tr>\n",
              "    <tr>\n",
              "      <th>61</th>\n",
              "      <td>OTHER</td>\n",
              "    </tr>\n",
              "    <tr>\n",
              "      <th>78</th>\n",
              "      <td>OTHER</td>\n",
              "    </tr>\n",
              "    <tr>\n",
              "      <th>108</th>\n",
              "      <td>OTHER</td>\n",
              "    </tr>\n",
              "    <tr>\n",
              "      <th>111</th>\n",
              "      <td>OTHER</td>\n",
              "    </tr>\n",
              "  </tbody>\n",
              "</table>\n",
              "</div>"
            ],
            "text/plain": [
              "    NEIGHBORHOOD\n",
              "44         OTHER\n",
              "61         OTHER\n",
              "78         OTHER\n",
              "108        OTHER\n",
              "111        OTHER"
            ]
          },
          "metadata": {
            "tags": []
          },
          "execution_count": 138
        }
      ]
    },
    {
      "cell_type": "code",
      "metadata": {
        "id": "yime9PsvIIgV",
        "colab_type": "code",
        "colab": {}
      },
      "source": [
        "# Import the class\n",
        "from sklearn.preprocessing import OneHotEncoder\n",
        "\n",
        "# Instantiate\n",
        "ohe = OneHotEncoder(sparse=False)\n",
        "\n",
        "# Fit the transformer to the data\n",
        "ohe.fit(X[['NEIGHBORHOOD']])\n",
        "\n",
        "# Transform your data\n",
        "train_trans = ohe.transform(X[['NEIGHBORHOOD']])\n",
        "\n",
        "# DO NOT RETRAIN YOUR TRANSFORMER ON YOUR TESTING DATA"
      ],
      "execution_count": 143,
      "outputs": []
    },
    {
      "cell_type": "code",
      "metadata": {
        "id": "W2ML338wJoD9",
        "colab_type": "code",
        "colab": {
          "base_uri": "https://localhost:8080/",
          "height": 145
        },
        "outputId": "f17dcc5e-acf1-44b7-bb22-b89ee4097257"
      },
      "source": [
        "train_trans"
      ],
      "execution_count": 144,
      "outputs": [
        {
          "output_type": "execute_result",
          "data": {
            "text/plain": [
              "array([[0., 0., 0., 0., 0., 1.],\n",
              "       [0., 0., 0., 0., 0., 1.],\n",
              "       [0., 0., 0., 0., 0., 1.],\n",
              "       ...,\n",
              "       [0., 0., 0., 0., 0., 1.],\n",
              "       [0., 0., 0., 0., 0., 1.],\n",
              "       [0., 0., 0., 0., 0., 1.]])"
            ]
          },
          "metadata": {
            "tags": []
          },
          "execution_count": 144
        }
      ]
    },
    {
      "cell_type": "code",
      "metadata": {
        "id": "9Yu0swxBOqKy",
        "colab_type": "code",
        "colab": {
          "base_uri": "https://localhost:8080/",
          "height": 35
        },
        "outputId": "0fafdbc5-2af7-4485-a71a-b4ede04397b3"
      },
      "source": [
        "X.shape"
      ],
      "execution_count": 158,
      "outputs": [
        {
          "output_type": "execute_result",
          "data": {
            "text/plain": [
              "(2894, 19)"
            ]
          },
          "metadata": {
            "tags": []
          },
          "execution_count": 158
        }
      ]
    },
    {
      "cell_type": "code",
      "metadata": {
        "id": "qegRbIFCVTbT",
        "colab_type": "code",
        "colab": {
          "base_uri": "https://localhost:8080/",
          "height": 35
        },
        "outputId": "0253cc3d-0d52-49d7-8800-3f57c8e21eae"
      },
      "source": [
        "# How many features do we have currently?\n",
        "features = X_train.columns\n",
        "n = len(features)\n",
        "n"
      ],
      "execution_count": 159,
      "outputs": [
        {
          "output_type": "execute_result",
          "data": {
            "text/plain": [
              "20"
            ]
          },
          "metadata": {
            "tags": []
          },
          "execution_count": 159
        }
      ]
    },
    {
      "cell_type": "code",
      "metadata": {
        "id": "cKW3gVAlVVl7",
        "colab_type": "code",
        "colab": {
          "base_uri": "https://localhost:8080/",
          "height": 35
        },
        "outputId": "a062fa8f-860f-4750-f0c0-412c2ec215cd"
      },
      "source": [
        "# How many ways to choose 1 to n features?\n",
        "from math import factorial\n",
        "\n",
        "def n_choose_k(n, k):\n",
        "    return factorial(n)/(factorial(k)*factorial(n-k))\n",
        "\n",
        "combinations = sum(n_choose_k(n,k) for k in range(1,n+1))\n",
        "print(f'{combinations:,.0f}')"
      ],
      "execution_count": 160,
      "outputs": [
        {
          "output_type": "stream",
          "text": [
            "1,048,575\n"
          ],
          "name": "stdout"
        }
      ]
    },
    {
      "cell_type": "code",
      "metadata": {
        "id": "wc8mM1CWVaFs",
        "colab_type": "code",
        "colab": {
          "base_uri": "https://localhost:8080/",
          "height": 235
        },
        "outputId": "eb6dc97d-d695-4ac8-e3d3-14b82ecd9c1b"
      },
      "source": [
        "y_train"
      ],
      "execution_count": 161,
      "outputs": [
        {
          "output_type": "execute_result",
          "data": {
            "text/plain": [
              "44       550000\n",
              "61       200000\n",
              "78       810000\n",
              "108      125000\n",
              "111      620000\n",
              "          ...  \n",
              "18129    330000\n",
              "18130    690000\n",
              "18132    610949\n",
              "18134    520000\n",
              "18147    104000\n",
              "Name: SALE_PRICE, Length: 2308, dtype: int64"
            ]
          },
          "metadata": {
            "tags": []
          },
          "execution_count": 161
        }
      ]
    },
    {
      "cell_type": "code",
      "metadata": {
        "id": "ZiugHzqaVaC0",
        "colab_type": "code",
        "colab": {
          "base_uri": "https://localhost:8080/",
          "height": 345
        },
        "outputId": "0208c157-5687-4c75-f2f3-897ee472ed89"
      },
      "source": [
        "X_test.info('\"')"
      ],
      "execution_count": 174,
      "outputs": [
        {
          "output_type": "stream",
          "text": [
            "<class 'pandas.core.frame.DataFrame'>\n",
            "Int64Index: 586 entries, 18235 to 23035\n",
            "Data columns (total 11 columns):\n",
            " #   Column                     Non-Null Count  Dtype  \n",
            "---  ------                     --------------  -----  \n",
            " 0   BLOCK                      586 non-null    int64  \n",
            " 1   LOT                        586 non-null    int64  \n",
            " 2   ZIP_CODE                   586 non-null    float64\n",
            " 3   RESIDENTIAL_UNITS          586 non-null    float64\n",
            " 4   COMMERCIAL_UNITS           586 non-null    float64\n",
            " 5   TOTAL_UNITS                586 non-null    float64\n",
            " 6   GROSS_SQUARE_FEET          586 non-null    float64\n",
            " 7   YEAR_BUILT                 586 non-null    float64\n",
            " 8   TAX_CLASS_AT_TIME_OF_SALE  586 non-null    int64  \n",
            " 9   month                      586 non-null    int64  \n",
            " 10  perk_count                 586 non-null    float64\n",
            "dtypes: float64(7), int64(4)\n",
            "memory usage: 54.9 KB\n"
          ],
          "name": "stdout"
        }
      ]
    },
    {
      "cell_type": "code",
      "metadata": {
        "id": "9-MtslZoYebq",
        "colab_type": "code",
        "colab": {
          "base_uri": "https://localhost:8080/",
          "height": 35
        },
        "outputId": "18fd5c62-23d0-4f3d-de45-e7ece6a4091f"
      },
      "source": [
        "586 + 2308"
      ],
      "execution_count": 185,
      "outputs": [
        {
          "output_type": "execute_result",
          "data": {
            "text/plain": [
              "2894"
            ]
          },
          "metadata": {
            "tags": []
          },
          "execution_count": 185
        }
      ]
    },
    {
      "cell_type": "code",
      "metadata": {
        "id": "oZ6wxOEKWkZU",
        "colab_type": "code",
        "colab": {
          "base_uri": "https://localhost:8080/",
          "height": 35
        },
        "outputId": "40694331-7a0d-4b6e-b96a-4ede92ae993c"
      },
      "source": [
        "y.shape"
      ],
      "execution_count": 186,
      "outputs": [
        {
          "output_type": "execute_result",
          "data": {
            "text/plain": [
              "(2894,)"
            ]
          },
          "metadata": {
            "tags": []
          },
          "execution_count": 186
        }
      ]
    },
    {
      "cell_type": "code",
      "metadata": {
        "id": "hr6EspoZYyNf",
        "colab_type": "code",
        "colab": {
          "base_uri": "https://localhost:8080/",
          "height": 235
        },
        "outputId": "03b4e764-bbd6-408f-8348-0636e0e96087"
      },
      "source": [
        "df2['SALE_PRICE']"
      ],
      "execution_count": 192,
      "outputs": [
        {
          "output_type": "execute_result",
          "data": {
            "text/plain": [
              "44       550000\n",
              "61       200000\n",
              "78       810000\n",
              "108      125000\n",
              "111      620000\n",
              "          ...  \n",
              "23029    635000\n",
              "23031    514000\n",
              "23032    635000\n",
              "23033    545000\n",
              "23035    510000\n",
              "Name: SALE_PRICE, Length: 2894, dtype: int64"
            ]
          },
          "metadata": {
            "tags": []
          },
          "execution_count": 192
        }
      ]
    },
    {
      "cell_type": "code",
      "metadata": {
        "id": "3GCCZXN7VnyO",
        "colab_type": "code",
        "colab": {}
      },
      "source": [
        "y_train = df2['SALE_PRICE']\n",
        "y_test = df2['SALE_PRICE']\n",
        "X_train = X_train.select_dtypes(include='number')\n",
        "X_test = X_test.select_dtypes(include='number')"
      ],
      "execution_count": 193,
      "outputs": []
    },
    {
      "cell_type": "code",
      "metadata": {
        "id": "YlCmFegxdi3L",
        "colab_type": "code",
        "colab": {
          "base_uri": "https://localhost:8080/",
          "height": 35
        },
        "outputId": "44c6ae0e-bcbe-4d57-c458-9603f6b24be1"
      },
      "source": [
        "X_train.shape"
      ],
      "execution_count": 209,
      "outputs": [
        {
          "output_type": "execute_result",
          "data": {
            "text/plain": [
              "(2308, 11)"
            ]
          },
          "metadata": {
            "tags": []
          },
          "execution_count": 209
        }
      ]
    },
    {
      "cell_type": "markdown",
      "metadata": {
        "id": "Bb2fjbPBigEb",
        "colab_type": "text"
      },
      "source": [
        ""
      ]
    },
    {
      "cell_type": "code",
      "metadata": {
        "id": "YPreO8FhWExJ",
        "colab_type": "code",
        "colab": {
          "base_uri": "https://localhost:8080/",
          "height": 377
        },
        "outputId": "0b73606e-c33b-4bf5-c278-7ef8d838c344"
      },
      "source": [
        "# TODO: Select the 15 features that best correlate with the target\n",
        "# (15 is an arbitrary starting point here)\n",
        "\n",
        "# SelectKBest has a similar API to what we've seen before.\n",
        "# IMPORTANT!\n",
        "# .fit_transform on the train set\n",
        "# .transform on test set\n",
        "\n",
        "from sklearn.feature_selection import SelectKBest\n",
        "selector = SelectKBest(k=5)\n",
        "X_train_selected = selector.fit_transform(X_train, y_train)\n",
        "X_test_selected = selector.transform(X_test)"
      ],
      "execution_count": 206,
      "outputs": [
        {
          "output_type": "error",
          "ename": "ValueError",
          "evalue": "ignored",
          "traceback": [
            "\u001b[0;31m---------------------------------------------------------------------------\u001b[0m",
            "\u001b[0;31mValueError\u001b[0m                                Traceback (most recent call last)",
            "\u001b[0;32m<ipython-input-206-390507f29a63>\u001b[0m in \u001b[0;36m<module>\u001b[0;34m()\u001b[0m\n\u001b[1;32m      9\u001b[0m \u001b[0;32mfrom\u001b[0m \u001b[0msklearn\u001b[0m\u001b[0;34m.\u001b[0m\u001b[0mfeature_selection\u001b[0m \u001b[0;32mimport\u001b[0m \u001b[0mSelectKBest\u001b[0m\u001b[0;34m\u001b[0m\u001b[0;34m\u001b[0m\u001b[0m\n\u001b[1;32m     10\u001b[0m \u001b[0mselector\u001b[0m \u001b[0;34m=\u001b[0m \u001b[0mSelectKBest\u001b[0m\u001b[0;34m(\u001b[0m\u001b[0mk\u001b[0m\u001b[0;34m=\u001b[0m\u001b[0;36m5\u001b[0m\u001b[0;34m)\u001b[0m\u001b[0;34m\u001b[0m\u001b[0;34m\u001b[0m\u001b[0m\n\u001b[0;32m---> 11\u001b[0;31m \u001b[0mX_train_selected\u001b[0m \u001b[0;34m=\u001b[0m \u001b[0mselector\u001b[0m\u001b[0;34m.\u001b[0m\u001b[0mfit_transform\u001b[0m\u001b[0;34m(\u001b[0m\u001b[0mX_train\u001b[0m\u001b[0;34m,\u001b[0m \u001b[0my_train\u001b[0m\u001b[0;34m)\u001b[0m\u001b[0;34m\u001b[0m\u001b[0;34m\u001b[0m\u001b[0m\n\u001b[0m\u001b[1;32m     12\u001b[0m \u001b[0mX_test_selected\u001b[0m \u001b[0;34m=\u001b[0m \u001b[0mselector\u001b[0m\u001b[0;34m.\u001b[0m\u001b[0mtransform\u001b[0m\u001b[0;34m(\u001b[0m\u001b[0mX_test\u001b[0m\u001b[0;34m)\u001b[0m\u001b[0;34m\u001b[0m\u001b[0;34m\u001b[0m\u001b[0m\n",
            "\u001b[0;32m/usr/local/lib/python3.6/dist-packages/sklearn/base.py\u001b[0m in \u001b[0;36mfit_transform\u001b[0;34m(self, X, y, **fit_params)\u001b[0m\n\u001b[1;32m    572\u001b[0m         \u001b[0;32melse\u001b[0m\u001b[0;34m:\u001b[0m\u001b[0;34m\u001b[0m\u001b[0;34m\u001b[0m\u001b[0m\n\u001b[1;32m    573\u001b[0m             \u001b[0;31m# fit method of arity 2 (supervised transformation)\u001b[0m\u001b[0;34m\u001b[0m\u001b[0;34m\u001b[0m\u001b[0;34m\u001b[0m\u001b[0m\n\u001b[0;32m--> 574\u001b[0;31m             \u001b[0;32mreturn\u001b[0m \u001b[0mself\u001b[0m\u001b[0;34m.\u001b[0m\u001b[0mfit\u001b[0m\u001b[0;34m(\u001b[0m\u001b[0mX\u001b[0m\u001b[0;34m,\u001b[0m \u001b[0my\u001b[0m\u001b[0;34m,\u001b[0m \u001b[0;34m**\u001b[0m\u001b[0mfit_params\u001b[0m\u001b[0;34m)\u001b[0m\u001b[0;34m.\u001b[0m\u001b[0mtransform\u001b[0m\u001b[0;34m(\u001b[0m\u001b[0mX\u001b[0m\u001b[0;34m)\u001b[0m\u001b[0;34m\u001b[0m\u001b[0;34m\u001b[0m\u001b[0m\n\u001b[0m\u001b[1;32m    575\u001b[0m \u001b[0;34m\u001b[0m\u001b[0m\n\u001b[1;32m    576\u001b[0m \u001b[0;34m\u001b[0m\u001b[0m\n",
            "\u001b[0;32m/usr/local/lib/python3.6/dist-packages/sklearn/feature_selection/_univariate_selection.py\u001b[0m in \u001b[0;36mfit\u001b[0;34m(self, X, y)\u001b[0m\n\u001b[1;32m    339\u001b[0m         \u001b[0mself\u001b[0m \u001b[0;34m:\u001b[0m \u001b[0mobject\u001b[0m\u001b[0;34m\u001b[0m\u001b[0;34m\u001b[0m\u001b[0m\n\u001b[1;32m    340\u001b[0m         \"\"\"\n\u001b[0;32m--> 341\u001b[0;31m         \u001b[0mX\u001b[0m\u001b[0;34m,\u001b[0m \u001b[0my\u001b[0m \u001b[0;34m=\u001b[0m \u001b[0mcheck_X_y\u001b[0m\u001b[0;34m(\u001b[0m\u001b[0mX\u001b[0m\u001b[0;34m,\u001b[0m \u001b[0my\u001b[0m\u001b[0;34m,\u001b[0m \u001b[0;34m[\u001b[0m\u001b[0;34m'csr'\u001b[0m\u001b[0;34m,\u001b[0m \u001b[0;34m'csc'\u001b[0m\u001b[0;34m]\u001b[0m\u001b[0;34m,\u001b[0m \u001b[0mmulti_output\u001b[0m\u001b[0;34m=\u001b[0m\u001b[0;32mTrue\u001b[0m\u001b[0;34m)\u001b[0m\u001b[0;34m\u001b[0m\u001b[0;34m\u001b[0m\u001b[0m\n\u001b[0m\u001b[1;32m    342\u001b[0m \u001b[0;34m\u001b[0m\u001b[0m\n\u001b[1;32m    343\u001b[0m         \u001b[0;32mif\u001b[0m \u001b[0;32mnot\u001b[0m \u001b[0mcallable\u001b[0m\u001b[0;34m(\u001b[0m\u001b[0mself\u001b[0m\u001b[0;34m.\u001b[0m\u001b[0mscore_func\u001b[0m\u001b[0;34m)\u001b[0m\u001b[0;34m:\u001b[0m\u001b[0;34m\u001b[0m\u001b[0;34m\u001b[0m\u001b[0m\n",
            "\u001b[0;32m/usr/local/lib/python3.6/dist-packages/sklearn/utils/validation.py\u001b[0m in \u001b[0;36mcheck_X_y\u001b[0;34m(X, y, accept_sparse, accept_large_sparse, dtype, order, copy, force_all_finite, ensure_2d, allow_nd, multi_output, ensure_min_samples, ensure_min_features, y_numeric, warn_on_dtype, estimator)\u001b[0m\n\u001b[1;32m    763\u001b[0m         \u001b[0my\u001b[0m \u001b[0;34m=\u001b[0m \u001b[0my\u001b[0m\u001b[0;34m.\u001b[0m\u001b[0mastype\u001b[0m\u001b[0;34m(\u001b[0m\u001b[0mnp\u001b[0m\u001b[0;34m.\u001b[0m\u001b[0mfloat64\u001b[0m\u001b[0;34m)\u001b[0m\u001b[0;34m\u001b[0m\u001b[0;34m\u001b[0m\u001b[0m\n\u001b[1;32m    764\u001b[0m \u001b[0;34m\u001b[0m\u001b[0m\n\u001b[0;32m--> 765\u001b[0;31m     \u001b[0mcheck_consistent_length\u001b[0m\u001b[0;34m(\u001b[0m\u001b[0mX\u001b[0m\u001b[0;34m,\u001b[0m \u001b[0my\u001b[0m\u001b[0;34m)\u001b[0m\u001b[0;34m\u001b[0m\u001b[0;34m\u001b[0m\u001b[0m\n\u001b[0m\u001b[1;32m    766\u001b[0m \u001b[0;34m\u001b[0m\u001b[0m\n\u001b[1;32m    767\u001b[0m     \u001b[0;32mreturn\u001b[0m \u001b[0mX\u001b[0m\u001b[0;34m,\u001b[0m \u001b[0my\u001b[0m\u001b[0;34m\u001b[0m\u001b[0;34m\u001b[0m\u001b[0m\n",
            "\u001b[0;32m/usr/local/lib/python3.6/dist-packages/sklearn/utils/validation.py\u001b[0m in \u001b[0;36mcheck_consistent_length\u001b[0;34m(*arrays)\u001b[0m\n\u001b[1;32m    210\u001b[0m     \u001b[0;32mif\u001b[0m \u001b[0mlen\u001b[0m\u001b[0;34m(\u001b[0m\u001b[0muniques\u001b[0m\u001b[0;34m)\u001b[0m \u001b[0;34m>\u001b[0m \u001b[0;36m1\u001b[0m\u001b[0;34m:\u001b[0m\u001b[0;34m\u001b[0m\u001b[0;34m\u001b[0m\u001b[0m\n\u001b[1;32m    211\u001b[0m         raise ValueError(\"Found input variables with inconsistent numbers of\"\n\u001b[0;32m--> 212\u001b[0;31m                          \" samples: %r\" % [int(l) for l in lengths])\n\u001b[0m\u001b[1;32m    213\u001b[0m \u001b[0;34m\u001b[0m\u001b[0m\n\u001b[1;32m    214\u001b[0m \u001b[0;34m\u001b[0m\u001b[0m\n",
            "\u001b[0;31mValueError\u001b[0m: Found input variables with inconsistent numbers of samples: [2308, 2894]"
          ]
        }
      ]
    },
    {
      "cell_type": "code",
      "metadata": {
        "id": "ELHMfj_KWE61",
        "colab_type": "code",
        "colab": {}
      },
      "source": [
        ""
      ],
      "execution_count": null,
      "outputs": []
    },
    {
      "cell_type": "code",
      "metadata": {
        "id": "XmLRA7GaWE4L",
        "colab_type": "code",
        "colab": {}
      },
      "source": [
        ""
      ],
      "execution_count": null,
      "outputs": []
    },
    {
      "cell_type": "code",
      "metadata": {
        "id": "qXVFi1F0RcOR",
        "colab_type": "code",
        "colab": {
          "base_uri": "https://localhost:8080/",
          "height": 145
        },
        "outputId": "edf110b0-8e6f-419c-b17f-a9118fb4ff24"
      },
      "source": [
        "df2.columns"
      ],
      "execution_count": 147,
      "outputs": [
        {
          "output_type": "execute_result",
          "data": {
            "text/plain": [
              "Index(['BOROUGH', 'NEIGHBORHOOD', 'BUILDING_CLASS_CATEGORY',\n",
              "       'TAX_CLASS_AT_PRESENT', 'BLOCK', 'LOT', 'BUILDING_CLASS_AT_PRESENT',\n",
              "       'ADDRESS', 'ZIP_CODE', 'RESIDENTIAL_UNITS', 'COMMERCIAL_UNITS',\n",
              "       'TOTAL_UNITS', 'LAND_SQUARE_FEET', 'GROSS_SQUARE_FEET', 'YEAR_BUILT',\n",
              "       'TAX_CLASS_AT_TIME_OF_SALE', 'BUILDING_CLASS_AT_TIME_OF_SALE',\n",
              "       'SALE_PRICE', 'SALE_DATE', 'month'],\n",
              "      dtype='object')"
            ]
          },
          "metadata": {
            "tags": []
          },
          "execution_count": 147
        }
      ]
    },
    {
      "cell_type": "code",
      "metadata": {
        "id": "yWQXWMm7RuN6",
        "colab_type": "code",
        "colab": {
          "base_uri": "https://localhost:8080/",
          "height": 115
        },
        "outputId": "6d086c0a-81a1-4dda-e0c5-442ed6c6ada8"
      },
      "source": [
        "df2.head(1)"
      ],
      "execution_count": 148,
      "outputs": [
        {
          "output_type": "execute_result",
          "data": {
            "text/html": [
              "<div>\n",
              "<style scoped>\n",
              "    .dataframe tbody tr th:only-of-type {\n",
              "        vertical-align: middle;\n",
              "    }\n",
              "\n",
              "    .dataframe tbody tr th {\n",
              "        vertical-align: top;\n",
              "    }\n",
              "\n",
              "    .dataframe thead th {\n",
              "        text-align: right;\n",
              "    }\n",
              "</style>\n",
              "<table border=\"1\" class=\"dataframe\">\n",
              "  <thead>\n",
              "    <tr style=\"text-align: right;\">\n",
              "      <th></th>\n",
              "      <th>BOROUGH</th>\n",
              "      <th>NEIGHBORHOOD</th>\n",
              "      <th>BUILDING_CLASS_CATEGORY</th>\n",
              "      <th>TAX_CLASS_AT_PRESENT</th>\n",
              "      <th>BLOCK</th>\n",
              "      <th>LOT</th>\n",
              "      <th>BUILDING_CLASS_AT_PRESENT</th>\n",
              "      <th>ADDRESS</th>\n",
              "      <th>ZIP_CODE</th>\n",
              "      <th>RESIDENTIAL_UNITS</th>\n",
              "      <th>COMMERCIAL_UNITS</th>\n",
              "      <th>TOTAL_UNITS</th>\n",
              "      <th>LAND_SQUARE_FEET</th>\n",
              "      <th>GROSS_SQUARE_FEET</th>\n",
              "      <th>YEAR_BUILT</th>\n",
              "      <th>TAX_CLASS_AT_TIME_OF_SALE</th>\n",
              "      <th>BUILDING_CLASS_AT_TIME_OF_SALE</th>\n",
              "      <th>SALE_PRICE</th>\n",
              "      <th>SALE_DATE</th>\n",
              "      <th>month</th>\n",
              "    </tr>\n",
              "  </thead>\n",
              "  <tbody>\n",
              "    <tr>\n",
              "      <th>44</th>\n",
              "      <td>3</td>\n",
              "      <td>OTHER</td>\n",
              "      <td>01 ONE FAMILY DWELLINGS</td>\n",
              "      <td>1</td>\n",
              "      <td>5495</td>\n",
              "      <td>801</td>\n",
              "      <td>A9</td>\n",
              "      <td>4832 BAY PARKWAY</td>\n",
              "      <td>11230.0</td>\n",
              "      <td>1.0</td>\n",
              "      <td>0.0</td>\n",
              "      <td>1.0</td>\n",
              "      <td>6,800</td>\n",
              "      <td>1325.0</td>\n",
              "      <td>1930.0</td>\n",
              "      <td>1</td>\n",
              "      <td>A9</td>\n",
              "      <td>550000</td>\n",
              "      <td>2019-01-01</td>\n",
              "      <td>1</td>\n",
              "    </tr>\n",
              "  </tbody>\n",
              "</table>\n",
              "</div>"
            ],
            "text/plain": [
              "   BOROUGH NEIGHBORHOOD  BUILDING_CLASS_CATEGORY  ... SALE_PRICE  SALE_DATE  month\n",
              "44       3        OTHER  01 ONE FAMILY DWELLINGS  ...     550000 2019-01-01      1\n",
              "\n",
              "[1 rows x 20 columns]"
            ]
          },
          "metadata": {
            "tags": []
          },
          "execution_count": 148
        }
      ]
    },
    {
      "cell_type": "code",
      "metadata": {
        "id": "96UncZ4jQ2jB",
        "colab_type": "code",
        "colab": {}
      },
      "source": [
        "def engineer_features(X):\n",
        "    \n",
        "    # Avoid SettingWithCopyWarning\n",
        "    X = X.copy()\n",
        "    \n",
        "    # How many total perks does each apartment have?\n",
        "    perk_cols = ['TAX_CLASS_AT_PRESENT', 'RESIDENTIAL_UNITS', 'COMMERCIAL_UNITS',\n",
        "       'TOTAL_UNITS', 'TAX_CLASS_AT_TIME_OF_SALE',]\n",
        "    X['perk_count'] = X[perk_cols].sum(axis=1)\n",
        "\n",
        "    # Are cats or dogs allowed?\n",
        "    #X['cats_or_dogs'] = (X['cats_allowed']==1) | (X['dogs_allowed']==1)\n",
        "\n",
        "    # Are cats and dogs allowed?\n",
        "    #X['cats_and_dogs'] = (X['cats_allowed']==1) & (X['dogs_allowed']==1)\n",
        "\n",
        "    # Total number of rooms (beds + baths)\n",
        "    #X['rooms'] = X['bedrooms'] + X['bathrooms']\n",
        "\n",
        "    return X\n",
        "\n",
        "X_train = engineer_features(X_train)\n",
        "X_test = engineer_features(X_test)"
      ],
      "execution_count": 150,
      "outputs": []
    }
  ]
}