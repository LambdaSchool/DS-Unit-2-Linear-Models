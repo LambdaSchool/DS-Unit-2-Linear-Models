{
  "nbformat": 4,
  "nbformat_minor": 0,
  "metadata": {
    "colab": {
      "name": "LS_DSPT4_213.ipynb",
      "provenance": [],
      "collapsed_sections": [
        "Iyajg16BDiA7"
      ]
    },
    "jupytext": {
      "main_language": "python"
    },
    "kernelspec": {
      "display_name": "Python 3",
      "language": "python",
      "name": "python3"
    },
    "language_info": {
      "codemirror_mode": {
        "name": "ipython",
        "version": 3
      },
      "file_extension": ".py",
      "mimetype": "text/x-python",
      "name": "python",
      "nbconvert_exporter": "python",
      "pygments_lexer": "ipython3",
      "version": "3.7.5"
    },
    "toc": {
      "base_numbering": 1,
      "nav_menu": {},
      "number_sections": true,
      "sideBar": true,
      "skip_h1_title": false,
      "title_cell": "Table of Contents",
      "title_sidebar": "Contents",
      "toc_cell": true,
      "toc_position": {},
      "toc_section_display": true,
      "toc_window_display": false
    }
  },
  "cells": [
    {
      "cell_type": "markdown",
      "metadata": {
        "toc": true,
        "id": "EjDww0CRSkwU",
        "colab_type": "text"
      },
      "source": [
        "<h1>Table of Contents<span class=\"tocSkip\"></span></h1>\n",
        "<div class=\"toc\"><ul class=\"toc-item\"><li><span><a href=\"#Ridge-Regression\" data-toc-modified-id=\"Ridge-Regression-1\"><span class=\"toc-item-num\">1&nbsp;&nbsp;</span>Ridge Regression</a></span><ul class=\"toc-item\"><li><ul class=\"toc-item\"><li><span><a href=\"#Setup\" data-toc-modified-id=\"Setup-1.0.1\"><span class=\"toc-item-num\">1.0.1&nbsp;&nbsp;</span>Setup</a></span></li></ul></li></ul></li><li><span><a href=\"#Do-one-hot-encoding-of-categorical-features\" data-toc-modified-id=\"Do-one-hot-encoding-of-categorical-features-2\"><span class=\"toc-item-num\">2&nbsp;&nbsp;</span>Do one-hot encoding of categorical features</a></span><ul class=\"toc-item\"><li><span><a href=\"#Overview\" data-toc-modified-id=\"Overview-2.1\"><span class=\"toc-item-num\">2.1&nbsp;&nbsp;</span>Overview</a></span><ul class=\"toc-item\"><li><span><a href=\"#Compare-Other-Outlier-Removal-Techniques\" data-toc-modified-id=\"Compare-Other-Outlier-Removal-Techniques-2.1.1\"><span class=\"toc-item-num\">2.1.1&nbsp;&nbsp;</span>Compare Other Outlier Removal Techniques</a></span></li></ul></li><li><span><a href=\"#Follow-Along\" data-toc-modified-id=\"Follow-Along-2.2\"><span class=\"toc-item-num\">2.2&nbsp;&nbsp;</span>Follow Along</a></span></li><li><span><a href=\"#Challenge\" data-toc-modified-id=\"Challenge-2.3\"><span class=\"toc-item-num\">2.3&nbsp;&nbsp;</span>Challenge</a></span></li></ul></li><li><span><a href=\"#Do-univariate-feature-selection\" data-toc-modified-id=\"Do-univariate-feature-selection-3\"><span class=\"toc-item-num\">3&nbsp;&nbsp;</span>Do univariate feature selection</a></span><ul class=\"toc-item\"><li><span><a href=\"#Overview\" data-toc-modified-id=\"Overview-3.1\"><span class=\"toc-item-num\">3.1&nbsp;&nbsp;</span>Overview</a></span><ul class=\"toc-item\"><li><span><a href=\"#Could-we-try-every-possible-feature-combination?\" data-toc-modified-id=\"Could-we-try-every-possible-feature-combination?-3.1.1\"><span class=\"toc-item-num\">3.1.1&nbsp;&nbsp;</span>Could we try every possible feature combination?</a></span></li></ul></li><li><span><a href=\"#Follow-Along\" data-toc-modified-id=\"Follow-Along-3.2\"><span class=\"toc-item-num\">3.2&nbsp;&nbsp;</span>Follow Along</a></span></li><li><span><a href=\"#Challenge\" data-toc-modified-id=\"Challenge-3.3\"><span class=\"toc-item-num\">3.3&nbsp;&nbsp;</span>Challenge</a></span></li></ul></li><li><span><a href=\"#Use-sklearn.linear_model.Ridge-to-fit-and-interpret-Ridge-Regression-models\" data-toc-modified-id=\"Use-sklearn.linear_model.Ridge-to-fit-and-interpret-Ridge-Regression-models-4\"><span class=\"toc-item-num\">4&nbsp;&nbsp;</span>Use sklearn.linear_model.Ridge to fit and interpret Ridge Regression models</a></span><ul class=\"toc-item\"><li><span><a href=\"#Overview\" data-toc-modified-id=\"Overview-4.1\"><span class=\"toc-item-num\">4.1&nbsp;&nbsp;</span>Overview</a></span></li></ul></li><li><span><a href=\"#Express-and-explain-the-intuition-and-interpretation-of-Ridge-Regression\" data-toc-modified-id=\"Express-and-explain-the-intuition-and-interpretation-of-Ridge-Regression-5\"><span class=\"toc-item-num\">5&nbsp;&nbsp;</span>Express and explain the intuition and interpretation of Ridge Regression</a></span><ul class=\"toc-item\"><li><ul class=\"toc-item\"><li><span><a href=\"#Stop-and-think---what-are-ways-to-address-these-issues?\" data-toc-modified-id=\"Stop-and-think---what-are-ways-to-address-these-issues?-5.0.1\"><span class=\"toc-item-num\">5.0.1&nbsp;&nbsp;</span>Stop and think - what are ways to address these issues?</a></span></li><li><span><a href=\"#What-can-we-do?\" data-toc-modified-id=\"What-can-we-do?-5.0.2\"><span class=\"toc-item-num\">5.0.2&nbsp;&nbsp;</span>What can we do?</a></span></li><li><span><a href=\"#Regularization-just-means-&quot;add-bias&quot;\" data-toc-modified-id=\"Regularization-just-means-&quot;add-bias&quot;-5.0.3\"><span class=\"toc-item-num\">5.0.3&nbsp;&nbsp;</span>Regularization just means \"add bias\"</a></span></li><li><span><a href=\"#Look-carefully-at-the-above-plot-and-think-of-ways-you-can-quantify-the-difference-between-the-blue-and-green-lines...\" data-toc-modified-id=\"Look-carefully-at-the-above-plot-and-think-of-ways-you-can-quantify-the-difference-between-the-blue-and-green-lines...-5.0.4\"><span class=\"toc-item-num\">5.0.4&nbsp;&nbsp;</span>Look carefully at the above plot and think of ways you can quantify the difference between the blue and green lines...</a></span></li><li><span><a href=\"#What's-the-intuition?-What-are-we-doing?\" data-toc-modified-id=\"What's-the-intuition?-What-are-we-doing?-5.0.5\"><span class=\"toc-item-num\">5.0.5&nbsp;&nbsp;</span>What's the intuition? What are we doing?</a></span></li><li><span><a href=\"#Bonus---magic!-✨\" data-toc-modified-id=\"Bonus---magic!-✨-5.0.6\"><span class=\"toc-item-num\">5.0.6&nbsp;&nbsp;</span>Bonus - magic! ✨</a></span></li><li><span><a href=\"#And-a-bit-more-math\" data-toc-modified-id=\"And-a-bit-more-math-5.0.7\"><span class=\"toc-item-num\">5.0.7&nbsp;&nbsp;</span>And a bit more math</a></span></li><li><span><a href=\"#Putting-it-all-together---one-last-example\" data-toc-modified-id=\"Putting-it-all-together---one-last-example-5.0.8\"><span class=\"toc-item-num\">5.0.8&nbsp;&nbsp;</span>Putting it all together - one last example</a></span></li></ul></li><li><span><a href=\"#Challenge\" data-toc-modified-id=\"Challenge-5.1\"><span class=\"toc-item-num\">5.1&nbsp;&nbsp;</span>Challenge</a></span></li></ul></li><li><span><a href=\"#Review\" data-toc-modified-id=\"Review-6\"><span class=\"toc-item-num\">6&nbsp;&nbsp;</span>Review</a></span></li><li><span><a href=\"#Sources\" data-toc-modified-id=\"Sources-7\"><span class=\"toc-item-num\">7&nbsp;&nbsp;</span>Sources</a></span></li></ul></div>"
      ]
    },
    {
      "cell_type": "markdown",
      "metadata": {
        "colab_type": "text",
        "id": "CEtKWaRoDiAZ"
      },
      "source": [
        "Lambda School Data Science\n",
        "\n",
        "*Unit 2, Sprint 1, Module 3*\n",
        "\n",
        "---"
      ]
    },
    {
      "cell_type": "markdown",
      "metadata": {
        "colab_type": "text",
        "id": "h6oALT-1DiAa"
      },
      "source": [
        "# Ridge Regression\n",
        "- Do one-hot encoding of categorical features\n",
        "- Do univariate feature selection\n",
        "- Use sklearn.linear_model.Ridge to fit and interpret Ridge Regression models\n",
        "- Express and explain the intuition and interpretation of Ridge Regression"
      ]
    },
    {
      "cell_type": "markdown",
      "metadata": {
        "colab_type": "text",
        "id": "jyATPw_iDiAb"
      },
      "source": [
        "### Setup\n",
        "\n",
        "You can work locally (follow the [local setup instructions](https://lambdaschool.github.io/ds/unit2/local/)) or on Colab (run the code cell below).\n",
        "\n",
        "Libraries:\n",
        "- category_encoders\n",
        "- matplotlib\n",
        "- numpy\n",
        "- pandas\n",
        "- scikit-learn"
      ]
    },
    {
      "cell_type": "code",
      "metadata": {
        "colab_type": "code",
        "id": "O5J6KGGnDiAc",
        "colab": {}
      },
      "source": [
        "%%capture\n",
        "import sys\n",
        "\n",
        "# If you're on Colab:\n",
        "if 'google.colab' in sys.modules:\n",
        "    DATA_PATH = 'https://raw.githubusercontent.com/LambdaSchool/DS-Unit-2-Applied-Modeling/master/data/'\n",
        "    !pip install category_encoders==2.*\n",
        "\n",
        "# If you're working locally:\n",
        "else:\n",
        "    DATA_PATH = '../data/'"
      ],
      "execution_count": 0,
      "outputs": []
    },
    {
      "cell_type": "markdown",
      "metadata": {
        "colab_type": "text",
        "id": "JhHvUct9DiAf"
      },
      "source": [
        "# Do one-hot encoding of categorical features"
      ]
    },
    {
      "cell_type": "markdown",
      "metadata": {
        "colab_type": "text",
        "id": "9CGK9AJMDiAf"
      },
      "source": [
        "## Overview"
      ]
    },
    {
      "cell_type": "markdown",
      "metadata": {
        "colab_type": "text",
        "id": "CtaIE3xUDiAg"
      },
      "source": [
        "First, let's load the NYC apartment rental listing data:"
      ]
    },
    {
      "cell_type": "code",
      "metadata": {
        "colab_type": "code",
        "id": "cSVV3eAyDiAh",
        "outputId": "04d65f37-d0e9-4329-efd4-7f80227bc665",
        "colab": {
          "base_uri": "https://localhost:8080/",
          "height": 67
        }
      },
      "source": [
        "import numpy as np\n",
        "import pandas as pd\n",
        "\n",
        "# Read New York City apartment rental listing data\n",
        "df = pd.read_csv(DATA_PATH+'apartments/renthop-nyc.csv')\n",
        "assert df.shape == (49352, 34)\n",
        "print(f'Before Outlier Removal: {df.shape}')\n",
        "\n",
        "# Remove the most extreme 1% prices,\n",
        "# the most extreme .1% latitudes, &\n",
        "# the most extreme .1% longitudes\n",
        "df = df[(df['price'] >= np.percentile(df['price'], 0.5)) & \n",
        "        (df['price'] <= np.percentile(df['price'], 99.5)) & \n",
        "        (df['latitude'] >= np.percentile(df['latitude'], 0.05)) & \n",
        "        (df['latitude'] < np.percentile(df['latitude'], 99.95)) &\n",
        "        (df['longitude'] >= np.percentile(df['longitude'], 0.05)) & \n",
        "        (df['longitude'] <= np.percentile(df['longitude'], 99.95))]\n",
        "print(f'After Outlier Removal: {df.shape}')\n",
        "\n",
        "# Do train/test split\n",
        "# Use data from April & May 2016 to train\n",
        "# Use data from June 2016 to test\n",
        "df['created'] = pd.to_datetime(df['created'], infer_datetime_format=True)\n",
        "cutoff = pd.to_datetime('2016-06-01')\n",
        "train = df[df.created < cutoff]\n",
        "test  = df[df.created >= cutoff]\n",
        "print(train.shape, test.shape)"
      ],
      "execution_count": 0,
      "outputs": [
        {
          "output_type": "stream",
          "text": [
            "Before Outlier Removal: (49352, 34)\n",
            "After Outlier Removal: (48817, 34)\n",
            "(31844, 34) (16973, 34)\n"
          ],
          "name": "stdout"
        }
      ]
    },
    {
      "cell_type": "code",
      "metadata": {
        "id": "9ao814PCUDei",
        "colab_type": "code",
        "outputId": "805650cf-0b77-4e34-d7f0-28e98b2302d7",
        "colab": {
          "base_uri": "https://localhost:8080/",
          "height": 295
        }
      },
      "source": [
        "import seaborn as sns\n",
        "import matplotlib.pyplot as plt\n",
        "\n",
        "sns.distplot(df.price)\n",
        "plt.title('Most Extreme Percentile Removal');"
      ],
      "execution_count": 0,
      "outputs": [
        {
          "output_type": "display_data",
          "data": {
            "image/png": "[encoded data removed]",
            "text/plain": [
              "<Figure size 432x288 with 1 Axes>"
            ]
          },
          "metadata": {
            "tags": []
          }
        }
      ]
    },
    {
      "cell_type": "markdown",
      "metadata": {
        "id": "QZHk3GEKSkwf",
        "colab_type": "text"
      },
      "source": [
        "### Compare Other Outlier Removal Techniques"
      ]
    },
    {
      "cell_type": "code",
      "metadata": {
        "id": "3dH9TC_DSkwg",
        "colab_type": "code",
        "outputId": "0f718527-fc88-40db-be4e-a2d2f7118b66",
        "colab": {
          "base_uri": "https://localhost:8080/",
          "height": 67
        }
      },
      "source": [
        "from scipy import stats\n",
        "\n",
        "# Read New York City apartment rental listing data\n",
        "df = pd.read_csv(DATA_PATH+'apartments/renthop-nyc.csv')\n",
        "print('Alternate Approach #1: 3-sigma from Mean')\n",
        "print(f'Original Shape: {df.shape}')\n",
        "assert df.shape == (49352, 34)\n",
        "\n",
        "# Remove rows where price, latitude and longitude are greater than 3-sigma from the mean\n",
        "df = df[(np.abs(stats.zscore(df[['price','latitude','longitude']])) < 3).all(axis=1)]\n",
        "print(f'Shape after Removing Outliers: {df.shape}')"
      ],
      "execution_count": 0,
      "outputs": [
        {
          "output_type": "stream",
          "text": [
            "Alternate Approach #1: 3-sigma from Mean\n",
            "Original Shape: (49352, 34)\n",
            "Shape after Removing Outliers: (49322, 34)\n"
          ],
          "name": "stdout"
        }
      ]
    },
    {
      "cell_type": "code",
      "metadata": {
        "id": "9-jw6BohUCTy",
        "colab_type": "code",
        "outputId": "e008d2ba-e1c0-4ee0-9125-318cdc3521b6",
        "colab": {
          "base_uri": "https://localhost:8080/",
          "height": 295
        }
      },
      "source": [
        "sns.distplot(df.price)\n",
        "plt.title('3-Sigma from Mean');"
      ],
      "execution_count": 0,
      "outputs": [
        {
          "output_type": "display_data",
          "data": {
            "image/png": "[encoded data removed]",
            "text/plain": [
              "<Figure size 432x288 with 1 Axes>"
            ]
          },
          "metadata": {
            "tags": []
          }
        }
      ]
    },
    {
      "cell_type": "code",
      "metadata": {
        "id": "uXRUyeYbSkwn",
        "colab_type": "code",
        "outputId": "0031ca77-e11d-4db3-8ac9-5c9b02d4f5a7",
        "colab": {
          "base_uri": "https://localhost:8080/",
          "height": 67
        }
      },
      "source": [
        "# Read New York City apartment rental listing data\n",
        "df = pd.read_csv(DATA_PATH+'apartments/renthop-nyc.csv')\n",
        "print('Alternate Approach #2: Inter-Quartile Range')\n",
        "print(f'Original Shape: {df.shape}')\n",
        "assert df.shape == (49352, 34)\n",
        "\n",
        "# Remove rows where price, latitude and longitude are less than 1.5 * IQR from Q1 and greater than 1.5 * IQR from Q3\n",
        "temp_df = df[['price','latitude','longitude']]\n",
        "Q1 = temp_df.quantile(0.25)\n",
        "Q3 = temp_df.quantile(0.75)\n",
        "IQR = Q3 - Q1\n",
        "\n",
        "df = df[~((temp_df < (Q1 - 1.5 * IQR)) | (temp_df > (Q3 + 1.5 * IQR))).any(axis=1)]\n",
        "print(f'Shape after Removing Outliers: {df.shape}')"
      ],
      "execution_count": 0,
      "outputs": [
        {
          "output_type": "stream",
          "text": [
            "Alternate Approach #2: Inter-Quartile Range\n",
            "Original Shape: (49352, 34)\n",
            "Shape after Removing Outliers: (43766, 34)\n"
          ],
          "name": "stdout"
        }
      ]
    },
    {
      "cell_type": "code",
      "metadata": {
        "id": "sn8MVydXUtF2",
        "colab_type": "code",
        "outputId": "39b40a05-af89-4624-f675-e5b925e79f88",
        "colab": {
          "base_uri": "https://localhost:8080/",
          "height": 295
        }
      },
      "source": [
        "sns.distplot(df.price)\n",
        "plt.title('Inter-Quartile Range Outlier Removal');"
      ],
      "execution_count": 0,
      "outputs": [
        {
          "output_type": "display_data",
          "data": {
            "image/png": "[encoded data removed]",
            "text/plain": [
              "<Figure size 432x288 with 1 Axes>"
            ]
          },
          "metadata": {
            "tags": []
          }
        }
      ]
    },
    {
      "cell_type": "markdown",
      "metadata": {
        "colab_type": "text",
        "id": "VJ_uw6-uDiAj"
      },
      "source": [
        "Some columns are numeric:"
      ]
    },
    {
      "cell_type": "code",
      "metadata": {
        "colab_type": "code",
        "id": "u4KiHCdWDiAj",
        "outputId": "58578996-a4c0-47e5-8229-e0eb41d370d4",
        "colab": {
          "base_uri": "https://localhost:8080/",
          "height": 906
        }
      },
      "source": [
        "# TODO\n",
        "train.select_dtypes(include='number').describe().T"
      ],
      "execution_count": 0,
      "outputs": [
        {
          "output_type": "execute_result",
          "data": {
            "text/html": [
              "<div>\n",
              "<style scoped>\n",
              "    .dataframe tbody tr th:only-of-type {\n",
              "        vertical-align: middle;\n",
              "    }\n",
              "\n",
              "    .dataframe tbody tr th {\n",
              "        vertical-align: top;\n",
              "    }\n",
              "\n",
              "    .dataframe thead th {\n",
              "        text-align: right;\n",
              "    }\n",
              "</style>\n",
              "<table border=\"1\" class=\"dataframe\">\n",
              "  <thead>\n",
              "    <tr style=\"text-align: right;\">\n",
              "      <th></th>\n",
              "      <th>count</th>\n",
              "      <th>mean</th>\n",
              "      <th>std</th>\n",
              "      <th>min</th>\n",
              "      <th>25%</th>\n",
              "      <th>50%</th>\n",
              "      <th>75%</th>\n",
              "      <th>max</th>\n",
              "    </tr>\n",
              "  </thead>\n",
              "  <tbody>\n",
              "    <tr>\n",
              "      <th>bathrooms</th>\n",
              "      <td>31844.0</td>\n",
              "      <td>1.203728</td>\n",
              "      <td>0.472447</td>\n",
              "      <td>0.0000</td>\n",
              "      <td>1.0000</td>\n",
              "      <td>1.0000</td>\n",
              "      <td>1.0000</td>\n",
              "      <td>10.0000</td>\n",
              "    </tr>\n",
              "    <tr>\n",
              "      <th>bedrooms</th>\n",
              "      <td>31844.0</td>\n",
              "      <td>1.528357</td>\n",
              "      <td>1.105061</td>\n",
              "      <td>0.0000</td>\n",
              "      <td>1.0000</td>\n",
              "      <td>1.0000</td>\n",
              "      <td>2.0000</td>\n",
              "      <td>7.0000</td>\n",
              "    </tr>\n",
              "    <tr>\n",
              "      <th>latitude</th>\n",
              "      <td>31844.0</td>\n",
              "      <td>40.750743</td>\n",
              "      <td>0.038658</td>\n",
              "      <td>40.5757</td>\n",
              "      <td>40.7285</td>\n",
              "      <td>40.7517</td>\n",
              "      <td>40.7736</td>\n",
              "      <td>40.9102</td>\n",
              "    </tr>\n",
              "    <tr>\n",
              "      <th>longitude</th>\n",
              "      <td>31844.0</td>\n",
              "      <td>-73.972867</td>\n",
              "      <td>0.028910</td>\n",
              "      <td>-74.0873</td>\n",
              "      <td>-73.9918</td>\n",
              "      <td>-73.9781</td>\n",
              "      <td>-73.9550</td>\n",
              "      <td>-73.7001</td>\n",
              "    </tr>\n",
              "    <tr>\n",
              "      <th>price</th>\n",
              "      <td>31844.0</td>\n",
              "      <td>3575.604007</td>\n",
              "      <td>1762.136694</td>\n",
              "      <td>1375.0000</td>\n",
              "      <td>2500.0000</td>\n",
              "      <td>3150.0000</td>\n",
              "      <td>4095.0000</td>\n",
              "      <td>15500.0000</td>\n",
              "    </tr>\n",
              "    <tr>\n",
              "      <th>elevator</th>\n",
              "      <td>31844.0</td>\n",
              "      <td>0.530430</td>\n",
              "      <td>0.499081</td>\n",
              "      <td>0.0000</td>\n",
              "      <td>0.0000</td>\n",
              "      <td>1.0000</td>\n",
              "      <td>1.0000</td>\n",
              "      <td>1.0000</td>\n",
              "    </tr>\n",
              "    <tr>\n",
              "      <th>cats_allowed</th>\n",
              "      <td>31844.0</td>\n",
              "      <td>0.477139</td>\n",
              "      <td>0.499485</td>\n",
              "      <td>0.0000</td>\n",
              "      <td>0.0000</td>\n",
              "      <td>0.0000</td>\n",
              "      <td>1.0000</td>\n",
              "      <td>1.0000</td>\n",
              "    </tr>\n",
              "    <tr>\n",
              "      <th>hardwood_floors</th>\n",
              "      <td>31844.0</td>\n",
              "      <td>0.480907</td>\n",
              "      <td>0.499643</td>\n",
              "      <td>0.0000</td>\n",
              "      <td>0.0000</td>\n",
              "      <td>0.0000</td>\n",
              "      <td>1.0000</td>\n",
              "      <td>1.0000</td>\n",
              "    </tr>\n",
              "    <tr>\n",
              "      <th>dogs_allowed</th>\n",
              "      <td>31844.0</td>\n",
              "      <td>0.445861</td>\n",
              "      <td>0.497068</td>\n",
              "      <td>0.0000</td>\n",
              "      <td>0.0000</td>\n",
              "      <td>0.0000</td>\n",
              "      <td>1.0000</td>\n",
              "      <td>1.0000</td>\n",
              "    </tr>\n",
              "    <tr>\n",
              "      <th>doorman</th>\n",
              "      <td>31844.0</td>\n",
              "      <td>0.430725</td>\n",
              "      <td>0.495185</td>\n",
              "      <td>0.0000</td>\n",
              "      <td>0.0000</td>\n",
              "      <td>0.0000</td>\n",
              "      <td>1.0000</td>\n",
              "      <td>1.0000</td>\n",
              "    </tr>\n",
              "    <tr>\n",
              "      <th>dishwasher</th>\n",
              "      <td>31844.0</td>\n",
              "      <td>0.418666</td>\n",
              "      <td>0.493348</td>\n",
              "      <td>0.0000</td>\n",
              "      <td>0.0000</td>\n",
              "      <td>0.0000</td>\n",
              "      <td>1.0000</td>\n",
              "      <td>1.0000</td>\n",
              "    </tr>\n",
              "    <tr>\n",
              "      <th>no_fee</th>\n",
              "      <td>31844.0</td>\n",
              "      <td>0.369834</td>\n",
              "      <td>0.482767</td>\n",
              "      <td>0.0000</td>\n",
              "      <td>0.0000</td>\n",
              "      <td>0.0000</td>\n",
              "      <td>1.0000</td>\n",
              "      <td>1.0000</td>\n",
              "    </tr>\n",
              "    <tr>\n",
              "      <th>laundry_in_building</th>\n",
              "      <td>31844.0</td>\n",
              "      <td>0.057311</td>\n",
              "      <td>0.232439</td>\n",
              "      <td>0.0000</td>\n",
              "      <td>0.0000</td>\n",
              "      <td>0.0000</td>\n",
              "      <td>0.0000</td>\n",
              "      <td>1.0000</td>\n",
              "    </tr>\n",
              "    <tr>\n",
              "      <th>fitness_center</th>\n",
              "      <td>31844.0</td>\n",
              "      <td>0.267586</td>\n",
              "      <td>0.442707</td>\n",
              "      <td>0.0000</td>\n",
              "      <td>0.0000</td>\n",
              "      <td>0.0000</td>\n",
              "      <td>1.0000</td>\n",
              "      <td>1.0000</td>\n",
              "    </tr>\n",
              "    <tr>\n",
              "      <th>pre-war</th>\n",
              "      <td>31844.0</td>\n",
              "      <td>0.185938</td>\n",
              "      <td>0.389062</td>\n",
              "      <td>0.0000</td>\n",
              "      <td>0.0000</td>\n",
              "      <td>0.0000</td>\n",
              "      <td>0.0000</td>\n",
              "      <td>1.0000</td>\n",
              "    </tr>\n",
              "    <tr>\n",
              "      <th>laundry_in_unit</th>\n",
              "      <td>31844.0</td>\n",
              "      <td>0.175700</td>\n",
              "      <td>0.380571</td>\n",
              "      <td>0.0000</td>\n",
              "      <td>0.0000</td>\n",
              "      <td>0.0000</td>\n",
              "      <td>0.0000</td>\n",
              "      <td>1.0000</td>\n",
              "    </tr>\n",
              "    <tr>\n",
              "      <th>roof_deck</th>\n",
              "      <td>31844.0</td>\n",
              "      <td>0.133777</td>\n",
              "      <td>0.340418</td>\n",
              "      <td>0.0000</td>\n",
              "      <td>0.0000</td>\n",
              "      <td>0.0000</td>\n",
              "      <td>0.0000</td>\n",
              "      <td>1.0000</td>\n",
              "    </tr>\n",
              "    <tr>\n",
              "      <th>outdoor_space</th>\n",
              "      <td>31844.0</td>\n",
              "      <td>0.143983</td>\n",
              "      <td>0.351078</td>\n",
              "      <td>0.0000</td>\n",
              "      <td>0.0000</td>\n",
              "      <td>0.0000</td>\n",
              "      <td>0.0000</td>\n",
              "      <td>1.0000</td>\n",
              "    </tr>\n",
              "    <tr>\n",
              "      <th>dining_room</th>\n",
              "      <td>31844.0</td>\n",
              "      <td>0.104290</td>\n",
              "      <td>0.305641</td>\n",
              "      <td>0.0000</td>\n",
              "      <td>0.0000</td>\n",
              "      <td>0.0000</td>\n",
              "      <td>0.0000</td>\n",
              "      <td>1.0000</td>\n",
              "    </tr>\n",
              "    <tr>\n",
              "      <th>high_speed_internet</th>\n",
              "      <td>31844.0</td>\n",
              "      <td>0.088620</td>\n",
              "      <td>0.284198</td>\n",
              "      <td>0.0000</td>\n",
              "      <td>0.0000</td>\n",
              "      <td>0.0000</td>\n",
              "      <td>0.0000</td>\n",
              "      <td>1.0000</td>\n",
              "    </tr>\n",
              "    <tr>\n",
              "      <th>balcony</th>\n",
              "      <td>31844.0</td>\n",
              "      <td>0.060734</td>\n",
              "      <td>0.238845</td>\n",
              "      <td>0.0000</td>\n",
              "      <td>0.0000</td>\n",
              "      <td>0.0000</td>\n",
              "      <td>0.0000</td>\n",
              "      <td>1.0000</td>\n",
              "    </tr>\n",
              "    <tr>\n",
              "      <th>swimming_pool</th>\n",
              "      <td>31844.0</td>\n",
              "      <td>0.055929</td>\n",
              "      <td>0.229788</td>\n",
              "      <td>0.0000</td>\n",
              "      <td>0.0000</td>\n",
              "      <td>0.0000</td>\n",
              "      <td>0.0000</td>\n",
              "      <td>1.0000</td>\n",
              "    </tr>\n",
              "    <tr>\n",
              "      <th>new_construction</th>\n",
              "      <td>31844.0</td>\n",
              "      <td>0.051470</td>\n",
              "      <td>0.220957</td>\n",
              "      <td>0.0000</td>\n",
              "      <td>0.0000</td>\n",
              "      <td>0.0000</td>\n",
              "      <td>0.0000</td>\n",
              "      <td>1.0000</td>\n",
              "    </tr>\n",
              "    <tr>\n",
              "      <th>terrace</th>\n",
              "      <td>31844.0</td>\n",
              "      <td>0.047733</td>\n",
              "      <td>0.213203</td>\n",
              "      <td>0.0000</td>\n",
              "      <td>0.0000</td>\n",
              "      <td>0.0000</td>\n",
              "      <td>0.0000</td>\n",
              "      <td>1.0000</td>\n",
              "    </tr>\n",
              "    <tr>\n",
              "      <th>exclusive</th>\n",
              "      <td>31844.0</td>\n",
              "      <td>0.042269</td>\n",
              "      <td>0.201204</td>\n",
              "      <td>0.0000</td>\n",
              "      <td>0.0000</td>\n",
              "      <td>0.0000</td>\n",
              "      <td>0.0000</td>\n",
              "      <td>1.0000</td>\n",
              "    </tr>\n",
              "    <tr>\n",
              "      <th>loft</th>\n",
              "      <td>31844.0</td>\n",
              "      <td>0.044216</td>\n",
              "      <td>0.205577</td>\n",
              "      <td>0.0000</td>\n",
              "      <td>0.0000</td>\n",
              "      <td>0.0000</td>\n",
              "      <td>0.0000</td>\n",
              "      <td>1.0000</td>\n",
              "    </tr>\n",
              "    <tr>\n",
              "      <th>garden_patio</th>\n",
              "      <td>31844.0</td>\n",
              "      <td>0.039222</td>\n",
              "      <td>0.194127</td>\n",
              "      <td>0.0000</td>\n",
              "      <td>0.0000</td>\n",
              "      <td>0.0000</td>\n",
              "      <td>0.0000</td>\n",
              "      <td>1.0000</td>\n",
              "    </tr>\n",
              "    <tr>\n",
              "      <th>wheelchair_access</th>\n",
              "      <td>31844.0</td>\n",
              "      <td>0.028388</td>\n",
              "      <td>0.166082</td>\n",
              "      <td>0.0000</td>\n",
              "      <td>0.0000</td>\n",
              "      <td>0.0000</td>\n",
              "      <td>0.0000</td>\n",
              "      <td>1.0000</td>\n",
              "    </tr>\n",
              "    <tr>\n",
              "      <th>common_outdoor_space</th>\n",
              "      <td>31844.0</td>\n",
              "      <td>0.029048</td>\n",
              "      <td>0.167943</td>\n",
              "      <td>0.0000</td>\n",
              "      <td>0.0000</td>\n",
              "      <td>0.0000</td>\n",
              "      <td>0.0000</td>\n",
              "      <td>1.0000</td>\n",
              "    </tr>\n",
              "  </tbody>\n",
              "</table>\n",
              "</div>"
            ],
            "text/plain": [
              "                        count         mean  ...        75%         max\n",
              "bathrooms             31844.0     1.203728  ...     1.0000     10.0000\n",
              "bedrooms              31844.0     1.528357  ...     2.0000      7.0000\n",
              "latitude              31844.0    40.750743  ...    40.7736     40.9102\n",
              "longitude             31844.0   -73.972867  ...   -73.9550    -73.7001\n",
              "price                 31844.0  3575.604007  ...  4095.0000  15500.0000\n",
              "elevator              31844.0     0.530430  ...     1.0000      1.0000\n",
              "cats_allowed          31844.0     0.477139  ...     1.0000      1.0000\n",
              "hardwood_floors       31844.0     0.480907  ...     1.0000      1.0000\n",
              "dogs_allowed          31844.0     0.445861  ...     1.0000      1.0000\n",
              "doorman               31844.0     0.430725  ...     1.0000      1.0000\n",
              "dishwasher            31844.0     0.418666  ...     1.0000      1.0000\n",
              "no_fee                31844.0     0.369834  ...     1.0000      1.0000\n",
              "laundry_in_building   31844.0     0.057311  ...     0.0000      1.0000\n",
              "fitness_center        31844.0     0.267586  ...     1.0000      1.0000\n",
              "pre-war               31844.0     0.185938  ...     0.0000      1.0000\n",
              "laundry_in_unit       31844.0     0.175700  ...     0.0000      1.0000\n",
              "roof_deck             31844.0     0.133777  ...     0.0000      1.0000\n",
              "outdoor_space         31844.0     0.143983  ...     0.0000      1.0000\n",
              "dining_room           31844.0     0.104290  ...     0.0000      1.0000\n",
              "high_speed_internet   31844.0     0.088620  ...     0.0000      1.0000\n",
              "balcony               31844.0     0.060734  ...     0.0000      1.0000\n",
              "swimming_pool         31844.0     0.055929  ...     0.0000      1.0000\n",
              "new_construction      31844.0     0.051470  ...     0.0000      1.0000\n",
              "terrace               31844.0     0.047733  ...     0.0000      1.0000\n",
              "exclusive             31844.0     0.042269  ...     0.0000      1.0000\n",
              "loft                  31844.0     0.044216  ...     0.0000      1.0000\n",
              "garden_patio          31844.0     0.039222  ...     0.0000      1.0000\n",
              "wheelchair_access     31844.0     0.028388  ...     0.0000      1.0000\n",
              "common_outdoor_space  31844.0     0.029048  ...     0.0000      1.0000\n",
              "\n",
              "[29 rows x 8 columns]"
            ]
          },
          "metadata": {
            "tags": []
          },
          "execution_count": 8
        }
      ]
    },
    {
      "cell_type": "markdown",
      "metadata": {
        "colab_type": "text",
        "id": "gih4ATb8DiAn"
      },
      "source": [
        "Some columns are _not_ numeric:"
      ]
    },
    {
      "cell_type": "code",
      "metadata": {
        "colab_type": "code",
        "id": "E8H6LKt4DiAo",
        "outputId": "27658ab5-0655-411e-f47e-efd56e3d9d23",
        "colab": {}
      },
      "source": [
        "# TODO\n",
        "train.select_dtypes(exclude='number').describe().T.sort_values(by='unique')"
      ],
      "execution_count": 0,
      "outputs": [
        {
          "output_type": "execute_result",
          "data": {
            "text/html": [
              "<div>\n",
              "<style scoped>\n",
              "    .dataframe tbody tr th:only-of-type {\n",
              "        vertical-align: middle;\n",
              "    }\n",
              "\n",
              "    .dataframe tbody tr th {\n",
              "        vertical-align: top;\n",
              "    }\n",
              "\n",
              "    .dataframe thead th {\n",
              "        text-align: right;\n",
              "    }\n",
              "</style>\n",
              "<table border=\"1\" class=\"dataframe\">\n",
              "  <thead>\n",
              "    <tr style=\"text-align: right;\">\n",
              "      <th></th>\n",
              "      <th>count</th>\n",
              "      <th>unique</th>\n",
              "      <th>top</th>\n",
              "      <th>freq</th>\n",
              "      <th>first</th>\n",
              "      <th>last</th>\n",
              "    </tr>\n",
              "  </thead>\n",
              "  <tbody>\n",
              "    <tr>\n",
              "      <th>interest_level</th>\n",
              "      <td>31844</td>\n",
              "      <td>3</td>\n",
              "      <td>low</td>\n",
              "      <td>22053</td>\n",
              "      <td>NaN</td>\n",
              "      <td>NaN</td>\n",
              "    </tr>\n",
              "    <tr>\n",
              "      <th>display_address</th>\n",
              "      <td>31775</td>\n",
              "      <td>6468</td>\n",
              "      <td>Broadway</td>\n",
              "      <td>273</td>\n",
              "      <td>NaN</td>\n",
              "      <td>NaN</td>\n",
              "    </tr>\n",
              "    <tr>\n",
              "      <th>street_address</th>\n",
              "      <td>31838</td>\n",
              "      <td>11280</td>\n",
              "      <td>505 West 37th Street</td>\n",
              "      <td>120</td>\n",
              "      <td>NaN</td>\n",
              "      <td>NaN</td>\n",
              "    </tr>\n",
              "    <tr>\n",
              "      <th>description</th>\n",
              "      <td>30875</td>\n",
              "      <td>25735</td>\n",
              "      <td></td>\n",
              "      <td>906</td>\n",
              "      <td>NaN</td>\n",
              "      <td>NaN</td>\n",
              "    </tr>\n",
              "    <tr>\n",
              "      <th>created</th>\n",
              "      <td>31844</td>\n",
              "      <td>31436</td>\n",
              "      <td>2016-05-14 01:11:03</td>\n",
              "      <td>3</td>\n",
              "      <td>2016-04-01 22:12:41</td>\n",
              "      <td>2016-05-31 23:10:48</td>\n",
              "    </tr>\n",
              "  </tbody>\n",
              "</table>\n",
              "</div>"
            ],
            "text/plain": [
              "                 count unique                   top   freq  \\\n",
              "interest_level   31844      3                   low  22053   \n",
              "display_address  31775   6468              Broadway    273   \n",
              "street_address   31838  11280  505 West 37th Street    120   \n",
              "description      30875  25735                          906   \n",
              "created          31844  31436   2016-05-14 01:11:03      3   \n",
              "\n",
              "                               first                 last  \n",
              "interest_level                   NaN                  NaN  \n",
              "display_address                  NaN                  NaN  \n",
              "street_address                   NaN                  NaN  \n",
              "description                      NaN                  NaN  \n",
              "created          2016-04-01 22:12:41  2016-05-31 23:10:48  "
            ]
          },
          "metadata": {
            "tags": []
          },
          "execution_count": 5
        }
      ]
    },
    {
      "cell_type": "markdown",
      "metadata": {
        "colab_type": "text",
        "id": "FE4ankuLDiAq"
      },
      "source": [
        "Let's look at the relationship between `interest_level` and `price`:"
      ]
    },
    {
      "cell_type": "code",
      "metadata": {
        "colab_type": "code",
        "id": "68SIxkuzDiAr",
        "outputId": "d93b452d-36b9-4713-abe8-f3baaa059497",
        "colab": {}
      },
      "source": [
        "# TODO\n",
        "train.groupby('interest_level')['price'].mean()"
      ],
      "execution_count": 0,
      "outputs": [
        {
          "output_type": "execute_result",
          "data": {
            "text/plain": [
              "interest_level\n",
              "high      2728.689212\n",
              "low       3802.227633\n",
              "medium    3175.026013\n",
              "Name: price, dtype: float64"
            ]
          },
          "metadata": {
            "tags": []
          },
          "execution_count": 6
        }
      ]
    },
    {
      "cell_type": "markdown",
      "metadata": {
        "colab_type": "text",
        "id": "VGG5aGknDiAt"
      },
      "source": [
        "Interest Level seems like a useful, predictive feature. But it's a string — and our scikit-learn models expect all inputs to be numbers. \n",
        "\n",
        "So, we can \"one-hot encode\" the feature.\n",
        "\n",
        "To go from this:\n",
        "\n",
        "| interest_level |\n",
        "|----------------|\n",
        "| high           |\n",
        "| medium         |\n",
        "| low            |\n",
        "\n",
        "\n",
        "To this:\n",
        "\n",
        "| interest_level_high | interest_level_medium | interest_level_low |\n",
        "|---------------------|-----------------------|--------------------|\n",
        "| 1                   | 0                     | 0                  |\n",
        "| 0                   | 1                     | 0                  |\n",
        "| 0                   | 0                     | 1                  |"
      ]
    },
    {
      "cell_type": "markdown",
      "metadata": {
        "colab_type": "text",
        "id": "Ouz5EoTFDiAt"
      },
      "source": [
        "\"One-hot encoding\" adds a dimension for each unique value of each categorical feature. So, it may not be a good choice for \"high cardinality\" categoricals that have dozens, hundreds, or thousands of unique values. \n",
        "\n",
        "[Cardinality](https://simple.wikipedia.org/wiki/Cardinality) means the number of unique values that a feature has:\n",
        "> In mathematics, the cardinality of a set means the number of its elements. For example, the set A = {2, 4, 6} contains 3 elements, and therefore A has a cardinality of 3. "
      ]
    },
    {
      "cell_type": "markdown",
      "metadata": {
        "colab_type": "text",
        "id": "KsEv1rMJDiAu"
      },
      "source": [
        "## Follow Along"
      ]
    },
    {
      "cell_type": "markdown",
      "metadata": {
        "colab_type": "text",
        "id": "ngK119KYDiAu"
      },
      "source": [
        "The other non-numeric columns have high cardinality. So let's exclude them from our features for now."
      ]
    },
    {
      "cell_type": "code",
      "metadata": {
        "colab_type": "code",
        "id": "2seIJBWMDiAv",
        "colab": {}
      },
      "source": [
        "# TODO\n",
        "target = 'price'\n",
        "high_cardinality = ['display_address', 'street_address', 'description', 'created']\n",
        "features = train.columns.drop([target] + high_cardinality)\n",
        "\n",
        "X_train = train[features]\n",
        "y_train = train[target]\n",
        "X_test = test[features]\n",
        "y_test = test[target]"
      ],
      "execution_count": 0,
      "outputs": []
    },
    {
      "cell_type": "markdown",
      "metadata": {
        "colab_type": "text",
        "id": "eNEKeQQeDiAw"
      },
      "source": [
        "Here's what `X_train` looks like **before** encoding:"
      ]
    },
    {
      "cell_type": "code",
      "metadata": {
        "colab_type": "code",
        "id": "NNZpZAOvDiAx",
        "outputId": "5f1d0010-ff4a-4daf-dc24-5d7f53d1dac6",
        "colab": {}
      },
      "source": [
        "# TODO\n",
        "X_train.head()"
      ],
      "execution_count": 0,
      "outputs": [
        {
          "output_type": "execute_result",
          "data": {
            "text/html": [
              "<div>\n",
              "<style scoped>\n",
              "    .dataframe tbody tr th:only-of-type {\n",
              "        vertical-align: middle;\n",
              "    }\n",
              "\n",
              "    .dataframe tbody tr th {\n",
              "        vertical-align: top;\n",
              "    }\n",
              "\n",
              "    .dataframe thead th {\n",
              "        text-align: right;\n",
              "    }\n",
              "</style>\n",
              "<table border=\"1\" class=\"dataframe\">\n",
              "  <thead>\n",
              "    <tr style=\"text-align: right;\">\n",
              "      <th></th>\n",
              "      <th>bathrooms</th>\n",
              "      <th>bedrooms</th>\n",
              "      <th>latitude</th>\n",
              "      <th>longitude</th>\n",
              "      <th>interest_level</th>\n",
              "      <th>elevator</th>\n",
              "      <th>cats_allowed</th>\n",
              "      <th>hardwood_floors</th>\n",
              "      <th>dogs_allowed</th>\n",
              "      <th>doorman</th>\n",
              "      <th>...</th>\n",
              "      <th>high_speed_internet</th>\n",
              "      <th>balcony</th>\n",
              "      <th>swimming_pool</th>\n",
              "      <th>new_construction</th>\n",
              "      <th>terrace</th>\n",
              "      <th>exclusive</th>\n",
              "      <th>loft</th>\n",
              "      <th>garden_patio</th>\n",
              "      <th>wheelchair_access</th>\n",
              "      <th>common_outdoor_space</th>\n",
              "    </tr>\n",
              "  </thead>\n",
              "  <tbody>\n",
              "    <tr>\n",
              "      <th>2</th>\n",
              "      <td>1.0</td>\n",
              "      <td>1</td>\n",
              "      <td>40.7388</td>\n",
              "      <td>-74.0018</td>\n",
              "      <td>high</td>\n",
              "      <td>0</td>\n",
              "      <td>0</td>\n",
              "      <td>1</td>\n",
              "      <td>0</td>\n",
              "      <td>0</td>\n",
              "      <td>...</td>\n",
              "      <td>0</td>\n",
              "      <td>0</td>\n",
              "      <td>0</td>\n",
              "      <td>0</td>\n",
              "      <td>0</td>\n",
              "      <td>0</td>\n",
              "      <td>0</td>\n",
              "      <td>0</td>\n",
              "      <td>0</td>\n",
              "      <td>0</td>\n",
              "    </tr>\n",
              "    <tr>\n",
              "      <th>3</th>\n",
              "      <td>1.0</td>\n",
              "      <td>1</td>\n",
              "      <td>40.7539</td>\n",
              "      <td>-73.9677</td>\n",
              "      <td>low</td>\n",
              "      <td>0</td>\n",
              "      <td>0</td>\n",
              "      <td>1</td>\n",
              "      <td>0</td>\n",
              "      <td>0</td>\n",
              "      <td>...</td>\n",
              "      <td>0</td>\n",
              "      <td>0</td>\n",
              "      <td>0</td>\n",
              "      <td>0</td>\n",
              "      <td>0</td>\n",
              "      <td>0</td>\n",
              "      <td>0</td>\n",
              "      <td>0</td>\n",
              "      <td>0</td>\n",
              "      <td>0</td>\n",
              "    </tr>\n",
              "    <tr>\n",
              "      <th>4</th>\n",
              "      <td>1.0</td>\n",
              "      <td>4</td>\n",
              "      <td>40.8241</td>\n",
              "      <td>-73.9493</td>\n",
              "      <td>low</td>\n",
              "      <td>0</td>\n",
              "      <td>0</td>\n",
              "      <td>0</td>\n",
              "      <td>0</td>\n",
              "      <td>0</td>\n",
              "      <td>...</td>\n",
              "      <td>0</td>\n",
              "      <td>0</td>\n",
              "      <td>0</td>\n",
              "      <td>0</td>\n",
              "      <td>0</td>\n",
              "      <td>0</td>\n",
              "      <td>0</td>\n",
              "      <td>0</td>\n",
              "      <td>0</td>\n",
              "      <td>0</td>\n",
              "    </tr>\n",
              "    <tr>\n",
              "      <th>5</th>\n",
              "      <td>2.0</td>\n",
              "      <td>4</td>\n",
              "      <td>40.7429</td>\n",
              "      <td>-74.0028</td>\n",
              "      <td>medium</td>\n",
              "      <td>0</td>\n",
              "      <td>0</td>\n",
              "      <td>0</td>\n",
              "      <td>0</td>\n",
              "      <td>0</td>\n",
              "      <td>...</td>\n",
              "      <td>0</td>\n",
              "      <td>0</td>\n",
              "      <td>0</td>\n",
              "      <td>0</td>\n",
              "      <td>0</td>\n",
              "      <td>0</td>\n",
              "      <td>0</td>\n",
              "      <td>0</td>\n",
              "      <td>0</td>\n",
              "      <td>0</td>\n",
              "    </tr>\n",
              "    <tr>\n",
              "      <th>6</th>\n",
              "      <td>1.0</td>\n",
              "      <td>2</td>\n",
              "      <td>40.8012</td>\n",
              "      <td>-73.9660</td>\n",
              "      <td>low</td>\n",
              "      <td>0</td>\n",
              "      <td>1</td>\n",
              "      <td>0</td>\n",
              "      <td>1</td>\n",
              "      <td>0</td>\n",
              "      <td>...</td>\n",
              "      <td>0</td>\n",
              "      <td>0</td>\n",
              "      <td>0</td>\n",
              "      <td>0</td>\n",
              "      <td>0</td>\n",
              "      <td>0</td>\n",
              "      <td>0</td>\n",
              "      <td>0</td>\n",
              "      <td>0</td>\n",
              "      <td>0</td>\n",
              "    </tr>\n",
              "  </tbody>\n",
              "</table>\n",
              "<p>5 rows × 29 columns</p>\n",
              "</div>"
            ],
            "text/plain": [
              "   bathrooms  bedrooms  latitude  longitude interest_level  elevator  \\\n",
              "2        1.0         1   40.7388   -74.0018           high         0   \n",
              "3        1.0         1   40.7539   -73.9677            low         0   \n",
              "4        1.0         4   40.8241   -73.9493            low         0   \n",
              "5        2.0         4   40.7429   -74.0028         medium         0   \n",
              "6        1.0         2   40.8012   -73.9660            low         0   \n",
              "\n",
              "   cats_allowed  hardwood_floors  dogs_allowed  doorman  ...  \\\n",
              "2             0                1             0        0  ...   \n",
              "3             0                1             0        0  ...   \n",
              "4             0                0             0        0  ...   \n",
              "5             0                0             0        0  ...   \n",
              "6             1                0             1        0  ...   \n",
              "\n",
              "   high_speed_internet  balcony  swimming_pool  new_construction  terrace  \\\n",
              "2                    0        0              0                 0        0   \n",
              "3                    0        0              0                 0        0   \n",
              "4                    0        0              0                 0        0   \n",
              "5                    0        0              0                 0        0   \n",
              "6                    0        0              0                 0        0   \n",
              "\n",
              "   exclusive  loft  garden_patio  wheelchair_access  common_outdoor_space  \n",
              "2          0     0             0                  0                     0  \n",
              "3          0     0             0                  0                     0  \n",
              "4          0     0             0                  0                     0  \n",
              "5          0     0             0                  0                     0  \n",
              "6          0     0             0                  0                     0  \n",
              "\n",
              "[5 rows x 29 columns]"
            ]
          },
          "metadata": {
            "tags": []
          },
          "execution_count": 7
        }
      ]
    },
    {
      "cell_type": "markdown",
      "metadata": {
        "colab_type": "text",
        "id": "MoHs4CzPDiAz"
      },
      "source": [
        "Use [OneHotEncoder](https://contrib.scikit-learn.org/categorical-encoding/onehot.html) from the [category_encoders](https://github.com/scikit-learn-contrib/categorical-encoding) library to encode any non-numeric features. (In this case, it's just `interest_level`.)\n",
        "\n",
        "- Use the **`fit_transform`** method on the **train** set\n",
        "- Use the **`transform`** method on **validation / test** sets"
      ]
    },
    {
      "cell_type": "code",
      "metadata": {
        "colab_type": "code",
        "id": "aFYGECwjDiAz",
        "colab": {}
      },
      "source": [
        "# TODO\n",
        "import category_encoders as ce\n",
        "encoder = ce.OneHotEncoder(use_cat_names=True)\n",
        "X_train = encoder.fit_transform(X_train)\n",
        "X_test = encoder.transform(X_test)"
      ],
      "execution_count": 0,
      "outputs": []
    },
    {
      "cell_type": "markdown",
      "metadata": {
        "colab_type": "text",
        "id": "zrI8RwHtDiA1"
      },
      "source": [
        "Here's what it looks like **after:**"
      ]
    },
    {
      "cell_type": "code",
      "metadata": {
        "colab_type": "code",
        "id": "RiA2de43DiA1",
        "outputId": "081f44cf-ab18-441b-eacc-75210579062d",
        "colab": {}
      },
      "source": [
        "# TODO\n",
        "X_train.head()"
      ],
      "execution_count": 0,
      "outputs": [
        {
          "output_type": "execute_result",
          "data": {
            "text/html": [
              "<div>\n",
              "<style scoped>\n",
              "    .dataframe tbody tr th:only-of-type {\n",
              "        vertical-align: middle;\n",
              "    }\n",
              "\n",
              "    .dataframe tbody tr th {\n",
              "        vertical-align: top;\n",
              "    }\n",
              "\n",
              "    .dataframe thead th {\n",
              "        text-align: right;\n",
              "    }\n",
              "</style>\n",
              "<table border=\"1\" class=\"dataframe\">\n",
              "  <thead>\n",
              "    <tr style=\"text-align: right;\">\n",
              "      <th></th>\n",
              "      <th>bathrooms</th>\n",
              "      <th>bedrooms</th>\n",
              "      <th>latitude</th>\n",
              "      <th>longitude</th>\n",
              "      <th>interest_level_high</th>\n",
              "      <th>interest_level_low</th>\n",
              "      <th>interest_level_medium</th>\n",
              "      <th>elevator</th>\n",
              "      <th>cats_allowed</th>\n",
              "      <th>hardwood_floors</th>\n",
              "      <th>...</th>\n",
              "      <th>high_speed_internet</th>\n",
              "      <th>balcony</th>\n",
              "      <th>swimming_pool</th>\n",
              "      <th>new_construction</th>\n",
              "      <th>terrace</th>\n",
              "      <th>exclusive</th>\n",
              "      <th>loft</th>\n",
              "      <th>garden_patio</th>\n",
              "      <th>wheelchair_access</th>\n",
              "      <th>common_outdoor_space</th>\n",
              "    </tr>\n",
              "  </thead>\n",
              "  <tbody>\n",
              "    <tr>\n",
              "      <th>2</th>\n",
              "      <td>1.0</td>\n",
              "      <td>1</td>\n",
              "      <td>40.7388</td>\n",
              "      <td>-74.0018</td>\n",
              "      <td>1</td>\n",
              "      <td>0</td>\n",
              "      <td>0</td>\n",
              "      <td>0</td>\n",
              "      <td>0</td>\n",
              "      <td>1</td>\n",
              "      <td>...</td>\n",
              "      <td>0</td>\n",
              "      <td>0</td>\n",
              "      <td>0</td>\n",
              "      <td>0</td>\n",
              "      <td>0</td>\n",
              "      <td>0</td>\n",
              "      <td>0</td>\n",
              "      <td>0</td>\n",
              "      <td>0</td>\n",
              "      <td>0</td>\n",
              "    </tr>\n",
              "    <tr>\n",
              "      <th>3</th>\n",
              "      <td>1.0</td>\n",
              "      <td>1</td>\n",
              "      <td>40.7539</td>\n",
              "      <td>-73.9677</td>\n",
              "      <td>0</td>\n",
              "      <td>1</td>\n",
              "      <td>0</td>\n",
              "      <td>0</td>\n",
              "      <td>0</td>\n",
              "      <td>1</td>\n",
              "      <td>...</td>\n",
              "      <td>0</td>\n",
              "      <td>0</td>\n",
              "      <td>0</td>\n",
              "      <td>0</td>\n",
              "      <td>0</td>\n",
              "      <td>0</td>\n",
              "      <td>0</td>\n",
              "      <td>0</td>\n",
              "      <td>0</td>\n",
              "      <td>0</td>\n",
              "    </tr>\n",
              "    <tr>\n",
              "      <th>4</th>\n",
              "      <td>1.0</td>\n",
              "      <td>4</td>\n",
              "      <td>40.8241</td>\n",
              "      <td>-73.9493</td>\n",
              "      <td>0</td>\n",
              "      <td>1</td>\n",
              "      <td>0</td>\n",
              "      <td>0</td>\n",
              "      <td>0</td>\n",
              "      <td>0</td>\n",
              "      <td>...</td>\n",
              "      <td>0</td>\n",
              "      <td>0</td>\n",
              "      <td>0</td>\n",
              "      <td>0</td>\n",
              "      <td>0</td>\n",
              "      <td>0</td>\n",
              "      <td>0</td>\n",
              "      <td>0</td>\n",
              "      <td>0</td>\n",
              "      <td>0</td>\n",
              "    </tr>\n",
              "    <tr>\n",
              "      <th>5</th>\n",
              "      <td>2.0</td>\n",
              "      <td>4</td>\n",
              "      <td>40.7429</td>\n",
              "      <td>-74.0028</td>\n",
              "      <td>0</td>\n",
              "      <td>0</td>\n",
              "      <td>1</td>\n",
              "      <td>0</td>\n",
              "      <td>0</td>\n",
              "      <td>0</td>\n",
              "      <td>...</td>\n",
              "      <td>0</td>\n",
              "      <td>0</td>\n",
              "      <td>0</td>\n",
              "      <td>0</td>\n",
              "      <td>0</td>\n",
              "      <td>0</td>\n",
              "      <td>0</td>\n",
              "      <td>0</td>\n",
              "      <td>0</td>\n",
              "      <td>0</td>\n",
              "    </tr>\n",
              "    <tr>\n",
              "      <th>6</th>\n",
              "      <td>1.0</td>\n",
              "      <td>2</td>\n",
              "      <td>40.8012</td>\n",
              "      <td>-73.9660</td>\n",
              "      <td>0</td>\n",
              "      <td>1</td>\n",
              "      <td>0</td>\n",
              "      <td>0</td>\n",
              "      <td>1</td>\n",
              "      <td>0</td>\n",
              "      <td>...</td>\n",
              "      <td>0</td>\n",
              "      <td>0</td>\n",
              "      <td>0</td>\n",
              "      <td>0</td>\n",
              "      <td>0</td>\n",
              "      <td>0</td>\n",
              "      <td>0</td>\n",
              "      <td>0</td>\n",
              "      <td>0</td>\n",
              "      <td>0</td>\n",
              "    </tr>\n",
              "  </tbody>\n",
              "</table>\n",
              "<p>5 rows × 31 columns</p>\n",
              "</div>"
            ],
            "text/plain": [
              "   bathrooms  bedrooms  latitude  longitude  interest_level_high  \\\n",
              "2        1.0         1   40.7388   -74.0018                    1   \n",
              "3        1.0         1   40.7539   -73.9677                    0   \n",
              "4        1.0         4   40.8241   -73.9493                    0   \n",
              "5        2.0         4   40.7429   -74.0028                    0   \n",
              "6        1.0         2   40.8012   -73.9660                    0   \n",
              "\n",
              "   interest_level_low  interest_level_medium  elevator  cats_allowed  \\\n",
              "2                   0                      0         0             0   \n",
              "3                   1                      0         0             0   \n",
              "4                   1                      0         0             0   \n",
              "5                   0                      1         0             0   \n",
              "6                   1                      0         0             1   \n",
              "\n",
              "   hardwood_floors  ...  high_speed_internet  balcony  swimming_pool  \\\n",
              "2                1  ...                    0        0              0   \n",
              "3                1  ...                    0        0              0   \n",
              "4                0  ...                    0        0              0   \n",
              "5                0  ...                    0        0              0   \n",
              "6                0  ...                    0        0              0   \n",
              "\n",
              "   new_construction  terrace  exclusive  loft  garden_patio  \\\n",
              "2                 0        0          0     0             0   \n",
              "3                 0        0          0     0             0   \n",
              "4                 0        0          0     0             0   \n",
              "5                 0        0          0     0             0   \n",
              "6                 0        0          0     0             0   \n",
              "\n",
              "   wheelchair_access  common_outdoor_space  \n",
              "2                  0                     0  \n",
              "3                  0                     0  \n",
              "4                  0                     0  \n",
              "5                  0                     0  \n",
              "6                  0                     0  \n",
              "\n",
              "[5 rows x 31 columns]"
            ]
          },
          "metadata": {
            "tags": []
          },
          "execution_count": 9
        }
      ]
    },
    {
      "cell_type": "markdown",
      "metadata": {
        "colab_type": "text",
        "id": "zPYpyfEiDiA3"
      },
      "source": [
        "## Challenge"
      ]
    },
    {
      "cell_type": "markdown",
      "metadata": {
        "colab_type": "text",
        "id": "IHMcKoadDiA3"
      },
      "source": [
        "In your assignment, you will do one-hot encoding of categorical features with feasible cardinality, using the category_encoders library."
      ]
    },
    {
      "cell_type": "markdown",
      "metadata": {
        "colab_type": "text",
        "id": "ag1XfM4IDiA4"
      },
      "source": [
        "# Do univariate feature selection"
      ]
    },
    {
      "cell_type": "markdown",
      "metadata": {
        "colab_type": "text",
        "id": "sLHEdXcyDiA4"
      },
      "source": [
        "## Overview"
      ]
    },
    {
      "cell_type": "markdown",
      "metadata": {
        "colab_type": "text",
        "id": "lI6LHybTDiA4"
      },
      "source": [
        "The previous assignment quoted Wikipedia on [Feature Engineering](https://en.wikipedia.org/wiki/Feature_engineering):\n",
        "\n",
        "> \"Some machine learning projects succeed and some fail. What makes the difference? Easily the most important factor is the features used.\" — Pedro Domingos, [\"A Few Useful Things to Know about Machine Learning\"](https://homes.cs.washington.edu/~pedrod/papers/cacm12.pdf)\n",
        "\n",
        "> \"Coming up with features is difficult, time-consuming, requires expert knowledge. 'Applied machine learning' is basically feature engineering.\" — Andrew Ng, [Machine Learning and AI via Brain simulations](https://forum.stanford.edu/events/2011/2011slides/plenary/2011plenaryNg.pdf) \n",
        "\n",
        "> Feature engineering is the process of using domain knowledge of the data to create features that make machine learning algorithms work. \n",
        "\n",
        "Pedro Domingos says, \"the most important factor is the **features used**.\"\n",
        "\n",
        "This includes not just **Feature Engineering** (making new features, representing features in new ways) but also **Feature Selection** (choosing which features to include and which to exclude).\n",
        "\n",
        "There are _many_ specific tools and techniques for feature selection.\n",
        "\n",
        "- Today we'll try [scikit-learn's `SelectKBest` transformer](https://scikit-learn.org/stable/modules/feature_selection.html#univariate-feature-selection), for \"univariate, forward selection.\"\n",
        "- Later we'll try another technique, [\"permutation importance\"](https://www.kaggle.com/dansbecker/permutation-importance)\n",
        "- If you want to explore even more options, here are some good resources!\n",
        "  - [scikit-learn's User Guide for Feature Selection](https://scikit-learn.org/stable/modules/feature_selection.html)\n",
        "  - [mlxtend](http://rasbt.github.io/mlxtend/) library\n",
        "  - scikit-learn-contrib libraries: [boruta_py](https://github.com/scikit-learn-contrib/boruta_py) & [stability-selection](https://github.com/scikit-learn-contrib/stability-selection)\n",
        "  - [_Feature Engineering and Selection_](http://www.feat.engineering/) by Kuhn & Johnson.\n",
        "\n",
        "\n",
        "My general recommendation is:\n",
        "\n",
        "> Predictive accuracy on test sets is the criterion for how good the model is. — Leo Breiman, [\"Statistical Modeling: The Two Cultures\"](https://projecteuclid.org/download/pdf_1/euclid.ss/1009213726)"
      ]
    },
    {
      "cell_type": "markdown",
      "metadata": {
        "colab_type": "text",
        "id": "70CUklXDDiA5"
      },
      "source": [
        "First, let's engineer a few more features to select from. This is a partial example solution from the previous assignment."
      ]
    },
    {
      "cell_type": "code",
      "metadata": {
        "colab_type": "code",
        "id": "ZyoplOebDiA5",
        "colab": {}
      },
      "source": [
        "def engineer_features(X):\n",
        "    \n",
        "    # Avoid SettingWithCopyWarning\n",
        "    X = X.copy()\n",
        "    \n",
        "    # How many total perks does each apartment have?\n",
        "    perk_cols = ['elevator', 'cats_allowed', 'hardwood_floors', 'dogs_allowed',\n",
        "                 'doorman', 'dishwasher', 'no_fee', 'laundry_in_building',\n",
        "                 'fitness_center', 'pre-war', 'laundry_in_unit', 'roof_deck',\n",
        "                 'outdoor_space', 'dining_room', 'high_speed_internet', 'balcony',\n",
        "                 'swimming_pool', 'new_construction', 'exclusive', 'terrace', \n",
        "                 'loft', 'garden_patio', 'common_outdoor_space', \n",
        "                 'wheelchair_access']\n",
        "    X['perk_count'] = X[perk_cols].sum(axis=1)\n",
        "\n",
        "    # Are cats or dogs allowed?\n",
        "    X['cats_or_dogs'] = (X['cats_allowed']==1) | (X['dogs_allowed']==1)\n",
        "\n",
        "    # Are cats and dogs allowed?\n",
        "    X['cats_and_dogs'] = (X['cats_allowed']==1) & (X['dogs_allowed']==1)\n",
        "\n",
        "    # Total number of rooms (beds + baths)\n",
        "    X['rooms'] = X['bedrooms'] + X['bathrooms']\n",
        "\n",
        "    return X\n",
        "\n",
        "X_train = engineer_features(X_train)\n",
        "X_test = engineer_features(X_test)"
      ],
      "execution_count": 0,
      "outputs": []
    },
    {
      "cell_type": "markdown",
      "metadata": {
        "colab_type": "text",
        "id": "Iyajg16BDiA7"
      },
      "source": [
        "### Could we try every possible feature combination?\n",
        "\n",
        "The number of [combinations](https://en.wikipedia.org/wiki/Combination) is shocking!"
      ]
    },
    {
      "cell_type": "code",
      "metadata": {
        "colab_type": "code",
        "id": "JddJND2eDiA7",
        "outputId": "b40aa8d8-8b35-4455-c739-ed4e55a2ca74",
        "colab": {}
      },
      "source": [
        "# How many features do we have currently?\n",
        "features = X_train.columns\n",
        "n = len(features)\n",
        "n"
      ],
      "execution_count": 0,
      "outputs": [
        {
          "output_type": "execute_result",
          "data": {
            "text/plain": [
              "35"
            ]
          },
          "metadata": {
            "tags": []
          },
          "execution_count": 11
        }
      ]
    },
    {
      "cell_type": "code",
      "metadata": {
        "colab_type": "code",
        "id": "IGKxOu2-DiA9",
        "outputId": "f15ac401-27f7-4a88-d77e-113e5c66e830",
        "colab": {}
      },
      "source": [
        "# How many ways to choose 1 to n features?\n",
        "from math import factorial\n",
        "\n",
        "def n_choose_k(n, k):\n",
        "    return factorial(n)/(factorial(k)*factorial(n-k))\n",
        "\n",
        "combinations = sum(n_choose_k(n,k) for k in range(1,n+1))\n",
        "print(f'{combinations:,.0f}')"
      ],
      "execution_count": 0,
      "outputs": [
        {
          "output_type": "stream",
          "text": [
            "34,359,738,367\n"
          ],
          "name": "stdout"
        }
      ]
    },
    {
      "cell_type": "markdown",
      "metadata": {
        "colab_type": "text",
        "id": "YIZy52poDiA_"
      },
      "source": [
        "We can't try every possible combination, but we can try some. For example, we can use univariate statistical tests to measure the correlation between each feature and the target, and select the k best features."
      ]
    },
    {
      "cell_type": "markdown",
      "metadata": {
        "colab_type": "text",
        "id": "wCZ-yInBDiA_"
      },
      "source": [
        "## Follow Along"
      ]
    },
    {
      "cell_type": "markdown",
      "metadata": {
        "colab_type": "text",
        "id": "NfUjnbJcDiBA"
      },
      "source": [
        "Refer to the [Scikit-Learn User Guide on Univariate Feature Selection](https://scikit-learn.org/stable/modules/feature_selection.html#univariate-feature-selection)."
      ]
    },
    {
      "cell_type": "code",
      "metadata": {
        "colab_type": "code",
        "id": "6hDVoqFtDiBB",
        "outputId": "87e086bf-7103-485f-85be-fbaebc1198f3",
        "colab": {}
      },
      "source": [
        "# TODO\n",
        "\n",
        "# Select the 15 features that best correlate with the target\n",
        "# (15 is an arbitrary starting point here)\n",
        "from sklearn.feature_selection import f_regression, SelectKBest\n",
        "\n",
        "# Similar API to what we've seen before\n",
        "selector = SelectKBest(score_func=f_regression, k=15)\n",
        "\n",
        "# IMPORTANT!\n",
        "# .fit_transform on the train set\n",
        "# .transform on test set\n",
        "X_train_selected = selector.fit_transform(X_train, y_train)\n",
        "X_test_selected = selector.transform(X_test)\n",
        "X_train_selected.shape, X_test_selected.shape"
      ],
      "execution_count": 0,
      "outputs": [
        {
          "output_type": "execute_result",
          "data": {
            "text/plain": [
              "((31844, 15), (16973, 15))"
            ]
          },
          "metadata": {
            "tags": []
          },
          "execution_count": 13
        }
      ]
    },
    {
      "cell_type": "code",
      "metadata": {
        "colab_type": "code",
        "id": "QgRafpTgDiBE",
        "outputId": "7583b838-fc88-4205-d42d-23ceb6182e22",
        "colab": {}
      },
      "source": [
        "# TODO\n",
        "\n",
        "# Which features were selected?\n",
        "all_names = X_train.columns\n",
        "selected_mask = selector.get_support()\n",
        "selected_names = all_names[selected_mask]\n",
        "unselected_names = all_names[~selected_mask]\n",
        "\n",
        "print('Features selected:')\n",
        "for name in selected_names:\n",
        "    print(name)\n",
        "    \n",
        "print('\\n')\n",
        "print('Features not selected:')\n",
        "for name in unselected_names:\n",
        "    print(name)"
      ],
      "execution_count": 0,
      "outputs": [
        {
          "output_type": "stream",
          "text": [
            "Features selected:\n",
            "bathrooms\n",
            "bedrooms\n",
            "longitude\n",
            "interest_level_high\n",
            "interest_level_low\n",
            "elevator\n",
            "doorman\n",
            "dishwasher\n",
            "fitness_center\n",
            "laundry_in_unit\n",
            "outdoor_space\n",
            "dining_room\n",
            "terrace\n",
            "perk_count\n",
            "rooms\n",
            "\n",
            "\n",
            "Features not selected:\n",
            "latitude\n",
            "interest_level_medium\n",
            "cats_allowed\n",
            "hardwood_floors\n",
            "dogs_allowed\n",
            "no_fee\n",
            "laundry_in_building\n",
            "pre-war\n",
            "roof_deck\n",
            "high_speed_internet\n",
            "balcony\n",
            "swimming_pool\n",
            "new_construction\n",
            "exclusive\n",
            "loft\n",
            "garden_patio\n",
            "wheelchair_access\n",
            "common_outdoor_space\n",
            "cats_or_dogs\n",
            "cats_and_dogs\n"
          ],
          "name": "stdout"
        }
      ]
    },
    {
      "cell_type": "code",
      "metadata": {
        "colab_type": "code",
        "id": "UEkWvyYkDiBG",
        "outputId": "183d9829-3f3e-4a9c-a285-99da301ba340",
        "colab": {}
      },
      "source": [
        "# TODO\n",
        "\n",
        "# How many features should be selected?\n",
        "# You can try a range of values for k,\n",
        "# then choose the model with the best score.\n",
        "# If multiple models \"tie\" for the best score,\n",
        "# choose the simplest model.\n",
        "# You decide what counts as a tie!\n",
        "\n",
        "from sklearn.linear_model import LinearRegression\n",
        "from sklearn.metrics import mean_absolute_error\n",
        "\n",
        "for k in range(1, len(X_train.columns)+1):\n",
        "    \n",
        "    print(f'{k} features')\n",
        "    \n",
        "    selector = SelectKBest(score_func=f_regression, k=k)\n",
        "    X_train_selected = selector.fit_transform(X_train, y_train)\n",
        "    X_test_selected = selector.transform(X_test)\n",
        "    \n",
        "    model = LinearRegression()\n",
        "    model.fit(X_train_selected, y_train)\n",
        "    y_pred = model.predict(X_test_selected)\n",
        "    \n",
        "    mae = mean_absolute_error(y_test, y_pred)\n",
        "    print(f'Test MAE: ${mae:,.0f} \\n')"
      ],
      "execution_count": 0,
      "outputs": [
        {
          "output_type": "stream",
          "text": [
            "1 features\n",
            "Test MAE: $890 \n",
            "\n",
            "2 features\n",
            "Test MAE: $826 \n",
            "\n",
            "3 features\n",
            "Test MAE: $826 \n",
            "\n",
            "4 features\n",
            "Test MAE: $800 \n",
            "\n",
            "5 features\n",
            "Test MAE: $800 \n",
            "\n",
            "6 features\n",
            "Test MAE: $773 \n",
            "\n",
            "7 features\n",
            "Test MAE: $713 \n",
            "\n",
            "8 features\n",
            "Test MAE: $714 \n",
            "\n",
            "9 features\n",
            "Test MAE: $714 \n",
            "\n",
            "10 features\n",
            "Test MAE: $713 \n",
            "\n",
            "11 features\n",
            "Test MAE: $711 \n",
            "\n",
            "12 features\n",
            "Test MAE: $684 \n",
            "\n",
            "13 features\n",
            "Test MAE: $684 \n",
            "\n",
            "14 features\n",
            "Test MAE: $683 \n",
            "\n",
            "15 features\n",
            "Test MAE: $683 \n",
            "\n",
            "16 features\n",
            "Test MAE: $683 \n",
            "\n",
            "17 features\n",
            "Test MAE: $683 \n",
            "\n",
            "18 features\n",
            "Test MAE: $683 \n",
            "\n",
            "19 features\n",
            "Test MAE: $683 \n",
            "\n",
            "20 features\n",
            "Test MAE: $681 \n",
            "\n",
            "21 features\n",
            "Test MAE: $679 \n",
            "\n",
            "22 features\n",
            "Test MAE: $678 \n",
            "\n",
            "23 features\n",
            "Test MAE: $676 \n",
            "\n",
            "24 features\n",
            "Test MAE: $676 \n",
            "\n",
            "25 features\n",
            "Test MAE: $676 \n",
            "\n",
            "26 features\n",
            "Test MAE: $675 \n",
            "\n",
            "27 features\n",
            "Test MAE: $675 \n",
            "\n",
            "28 features\n",
            "Test MAE: $675 \n",
            "\n",
            "29 features\n",
            "Test MAE: $675 \n",
            "\n",
            "30 features\n",
            "Test MAE: $676 \n",
            "\n",
            "31 features\n",
            "Test MAE: $676 \n",
            "\n",
            "32 features\n",
            "Test MAE: $676 \n",
            "\n",
            "33 features\n",
            "Test MAE: $676 \n",
            "\n",
            "34 features\n",
            "Test MAE: $677 \n",
            "\n",
            "35 features\n",
            "Test MAE: $676 \n",
            "\n"
          ],
          "name": "stdout"
        }
      ]
    },
    {
      "cell_type": "markdown",
      "metadata": {
        "colab_type": "text",
        "id": "fYXhxVw4DiBH"
      },
      "source": [
        "## Challenge\n",
        "\n",
        "In your assignment, you will do feature selection with SelectKBest.\n",
        "\n",
        "You'll go back to our other New York City real estate dataset. Instead of predicting apartment rents, you'll predict property sales prices. But not just for condos in Tribeca. Instead, you'll predict property sales prices for One Family Dwellings, where the sale price was more than 100 thousand and less than 2 million.\n",
        "\n",
        "If you run the above code cell with your assignment dataset, you will probably get some shocking results like these:\n",
        "\n",
        "```\n",
        "1 features\n",
        "Test MAE: $183,641 \n",
        "\n",
        "2 features\n",
        "Test MAE: $182,569 \n",
        "\n",
        "3 features\n",
        "Test MAE: $182,569 \n",
        "\n",
        "4 features\n",
        "Test MAE: $183,441 \n",
        "\n",
        "5 features\n",
        "Test MAE: $186,532 \n",
        "\n",
        "6 features\n",
        "Test MAE: $176,121 \n",
        "\n",
        "7 features\n",
        "Test MAE: $177,001 \n",
        "\n",
        "8 features\n",
        "Test MAE: $176,707 \n",
        "\n",
        "9 features\n",
        "Test MAE: $170,969 \n",
        "\n",
        "10 features\n",
        "Test MAE: $170,977 \n",
        "\n",
        "11 features\n",
        "Test MAE: $170,507 \n",
        "\n",
        "12 features\n",
        "Test MAE: $162,301 \n",
        "\n",
        "13 features\n",
        "Test MAE: $163,559 \n",
        "\n",
        "14 features\n",
        "Test MAE: $162,562 \n",
        "\n",
        "15 features\n",
        "Test MAE: $162,550 \n",
        "\n",
        "16 features\n",
        "Test MAE: $162,678 \n",
        "\n",
        "17 features\n",
        "Test MAE: $162,419 \n",
        "\n",
        "18 features\n",
        "Test MAE: $162,177 \n",
        "\n",
        "19 features\n",
        "Test MAE: $162,177 \n",
        "\n",
        "20 features\n",
        "Test MAE: $157,893 \n",
        "\n",
        "21 features\n",
        "Test MAE: $157,966 \n",
        "\n",
        "22 features\n",
        "Test MAE: $157,966 \n",
        "\n",
        "23 features\n",
        "Test MAE: $157,966 \n",
        "\n",
        "24 features\n",
        "Test MAE: $157,630 \n",
        "\n",
        "25 features\n",
        "Test MAE: $157,580 \n",
        "\n",
        "26 features\n",
        "Test MAE: $25,968,990,575,776,280 \n",
        "\n",
        "27 features\n",
        "Test MAE: $157,550 \n",
        "\n",
        "28 features\n",
        "Test MAE: $87,300,193,986,380,608 \n",
        "\n",
        "29 features\n",
        "Test MAE: $158,491 \n",
        "\n",
        "30 features\n",
        "Test MAE: $17,529,140,644,990,770 \n",
        "\n",
        "31 features\n",
        "Test MAE: $24,191,458,933,688,856 \n",
        "\n",
        "32 features\n",
        "Test MAE: $15,214,122,471,992,104 \n",
        "\n",
        "33 features\n",
        "Test MAE: $15,539,731,847,001,626 \n",
        "\n",
        "34 features\n",
        "Test MAE: $26,823,915,969,200,480 \n",
        "\n",
        "35 features\n",
        "Test MAE: $3,813,290,272,870,121 \n",
        "\n",
        "36 features\n",
        "Test MAE: $157,900 \n",
        "\n",
        "37 features\n",
        "Test MAE: $157,900 \n",
        "\n",
        "38 features\n",
        "Test MAE: $158,911 \n",
        "\n",
        "39 features\n",
        "Test MAE: $9,101,846,282,581,472 \n",
        "\n",
        "40 features\n",
        "Test MAE: $1,424,168,120,777,820 \n",
        "\n",
        "41 features\n",
        "Test MAE: $158,261 \n",
        "\n",
        "42 features\n",
        "Test MAE: $158,261 \n",
        "\n",
        "43 features\n",
        "Test MAE: $4,784,333,158,313,152 \n",
        "\n",
        "44 features\n",
        "Test MAE: $1,329,759,264,341,476 \n",
        "\n",
        "45 features\n",
        "Test MAE: $158,451 \n",
        "\n",
        "46 features\n",
        "Test MAE: $158,450 \n",
        "\n",
        "47 features\n",
        "Test MAE: $158,450 \n",
        "\n",
        "48 features\n",
        "Test MAE: $1,331,383,815,682,658 \n",
        "\n",
        "49 features\n",
        "Test MAE: $1,504,319,420,789,134 \n",
        "\n",
        "50 features\n",
        "Test MAE: $2,285,927,437,866,492\n",
        "```"
      ]
    },
    {
      "cell_type": "markdown",
      "metadata": {
        "colab_type": "text",
        "id": "QFLVfmC6DiBI"
      },
      "source": [
        "Why did the error blow up with 26 features? We can look at the coefficients of the selected features:\n",
        "\n",
        "```\n",
        "BLOCK                                                  -97,035\n",
        "ZIP_CODE                                              -152,985\n",
        "COMMERCIAL_UNITS                    -4,115,324,664,197,034,496\n",
        "TOTAL_UNITS                         -2,872,516,607,892,124,160\n",
        "GROSS_SQUARE_FEET                                      123,739\n",
        "BOROUGH_3                                              146,876\n",
        "BOROUGH_4                                              197,262\n",
        "BOROUGH_2                                              -55,917\n",
        "BOROUGH_5                                              -84,107\n",
        "NEIGHBORHOOD_OTHER                                      56,036\n",
        "NEIGHBORHOOD_FLUSHING-NORTH                             63,394\n",
        "NEIGHBORHOOD_FOREST HILLS                               46,411\n",
        "NEIGHBORHOOD_BOROUGH PARK                               29,915\n",
        "TAX_CLASS_AT_PRESENT_1D               -545,831,543,721,722,112\n",
        "BUILDING_CLASS_AT_PRESENT_A5                            -1,673\n",
        "BUILDING_CLASS_AT_PRESENT_A3             5,516,361,218,128,626\n",
        "BUILDING_CLASS_AT_PRESENT_S1         1,735,885,668,110,473,216\n",
        "BUILDING_CLASS_AT_PRESENT_A6           -25,974,113,243,185,788\n",
        "BUILDING_CLASS_AT_PRESENT_A8          -760,608,646,332,801,664\n",
        "BUILDING_CLASS_AT_PRESENT_S0           941,854,072,479,442,176\n",
        "BUILDING_CLASS_AT_TIME_OF_SALE_A5                      -24,599\n",
        "BUILDING_CLASS_AT_TIME_OF_SALE_A3       -5,516,361,218,111,506\n",
        "BUILDING_CLASS_AT_TIME_OF_SALE_S1    4,253,055,231,847,939,072\n",
        "BUILDING_CLASS_AT_TIME_OF_SALE_A6       25,974,113,243,176,404\n",
        "BUILDING_CLASS_AT_TIME_OF_SALE_A8     -541,733,439,448,260,800\n",
        "BUILDING_CLASS_AT_TIME_OF_SALE_S0      990,851,394,820,416,512\n",
        "```\n",
        "\n",
        "These were the coefficients that minimized the sum of squared errors in the training set. But this model has become too complex, with extreme coefficients that can lead to extreme predictions on new unseen data. \n",
        "\n",
        "This linear model needs _regularization._ Ridge Regression to the rescue!"
      ]
    },
    {
      "cell_type": "markdown",
      "metadata": {
        "colab_type": "text",
        "id": "XjuSFIlgDiBI"
      },
      "source": [
        "# Use sklearn.linear_model.Ridge to fit and interpret Ridge Regression models"
      ]
    },
    {
      "cell_type": "markdown",
      "metadata": {
        "colab_type": "text",
        "id": "QZrOapyxDiBJ"
      },
      "source": [
        "## Overview"
      ]
    },
    {
      "cell_type": "markdown",
      "metadata": {
        "colab_type": "text",
        "id": "PdcbKrx4DiBJ"
      },
      "source": [
        "Let's go back to our other New York City dataset, to demonstrate regularization with Ridge Regresson:"
      ]
    },
    {
      "cell_type": "code",
      "metadata": {
        "colab_type": "code",
        "id": "GznbR-tDDiBK",
        "outputId": "f4981ec9-5c85-48f3-e537-5adf8e179386",
        "scrolled": false,
        "colab": {}
      },
      "source": [
        "%matplotlib inline\n",
        "from IPython.display import display, HTML\n",
        "from ipywidgets import interact\n",
        "import matplotlib.pyplot as plt\n",
        "from sklearn.linear_model import Ridge\n",
        "from sklearn.preprocessing import StandardScaler\n",
        "\n",
        "\n",
        "# Try a range of alpha parameters for Ridge Regression.\n",
        "\n",
        "# The scikit-learn docs explain, \n",
        "# alpha : Regularization strength; must be a positive float. Regularization \n",
        "# improves the conditioning of the problem and reduces the variance of the \n",
        "# estimates. Larger values specify stronger regularization.\n",
        "# https://scikit-learn.org/stable/modules/generated/sklearn.linear_model.Ridge.html\n",
        "\n",
        "for alpha in [10**1, 10**2, 10**3, 10**4, 10**5, 10**6]:\n",
        "    \n",
        "    # Scale data before doing Ridge Regression\n",
        "    scaler = StandardScaler()\n",
        "    X_train_scaled = scaler.fit_transform(X_train)\n",
        "    X_test_scaled = scaler.transform(X_test)\n",
        "    \n",
        "    # Fit Ridge Regression model\n",
        "    display(HTML(f'Ridge Regression, with alpha={alpha}'))\n",
        "    model = Ridge(alpha=alpha)\n",
        "    model.fit(X_train_scaled, y_train)\n",
        "    y_pred = model.predict(X_test_scaled)\n",
        "\n",
        "    # Get Test MAE\n",
        "    mae = mean_absolute_error(y_test, y_pred)\n",
        "    display(HTML(f'Test Mean Absolute Error: ${mae:,.0f}'))\n",
        "    \n",
        "    # Plot coefficients\n",
        "    coefficients = pd.Series(model.coef_, X_train.columns)\n",
        "    plt.figure(figsize=(16,8))\n",
        "    coefficients.sort_values().plot.barh(color='grey')\n",
        "    plt.xlim(-400,700)\n",
        "    plt.show()"
      ],
      "execution_count": 0,
      "outputs": [
        {
          "output_type": "display_data",
          "data": {
            "text/html": [
              "Ridge Regression, with alpha=10"
            ],
            "text/plain": [
              "<IPython.core.display.HTML object>"
            ]
          },
          "metadata": {
            "tags": []
          }
        },
        {
          "output_type": "display_data",
          "data": {
            "text/html": [
              "Test Mean Absolute Error: $676"
            ],
            "text/plain": [
              "<IPython.core.display.HTML object>"
            ]
          },
          "metadata": {
            "tags": []
          }
        },
        {
          "output_type": "display_data",
          "data": {
            "image/png": "[encoded data removed]",
            "text/plain": [
              "<Figure size 1152x576 with 1 Axes>"
            ]
          },
          "metadata": {
            "tags": [],
            "needs_background": "light"
          }
        },
        {
          "output_type": "display_data",
          "data": {
            "text/html": [
              "Ridge Regression, with alpha=100"
            ],
            "text/plain": [
              "<IPython.core.display.HTML object>"
            ]
          },
          "metadata": {
            "tags": []
          }
        },
        {
          "output_type": "display_data",
          "data": {
            "text/html": [
              "Test Mean Absolute Error: $676"
            ],
            "text/plain": [
              "<IPython.core.display.HTML object>"
            ]
          },
          "metadata": {
            "tags": []
          }
        },
        {
          "output_type": "display_data",
          "data": {
            "image/png": "[encoded data removed]",
            "text/plain": [
              "<Figure size 1152x576 with 1 Axes>"
            ]
          },
          "metadata": {
            "tags": [],
            "needs_background": "light"
          }
        },
        {
          "output_type": "display_data",
          "data": {
            "text/html": [
              "Ridge Regression, with alpha=1000"
            ],
            "text/plain": [
              "<IPython.core.display.HTML object>"
            ]
          },
          "metadata": {
            "tags": []
          }
        },
        {
          "output_type": "display_data",
          "data": {
            "text/html": [
              "Test Mean Absolute Error: $674"
            ],
            "text/plain": [
              "<IPython.core.display.HTML object>"
            ]
          },
          "metadata": {
            "tags": []
          }
        },
        {
          "output_type": "display_data",
          "data": {
            "image/png": "[encoded data removed]",
            "text/plain": [
              "<Figure size 1152x576 with 1 Axes>"
            ]
          },
          "metadata": {
            "tags": [],
            "needs_background": "light"
          }
        },
        {
          "output_type": "display_data",
          "data": {
            "text/html": [
              "Ridge Regression, with alpha=10000"
            ],
            "text/plain": [
              "<IPython.core.display.HTML object>"
            ]
          },
          "metadata": {
            "tags": []
          }
        },
        {
          "output_type": "display_data",
          "data": {
            "text/html": [
              "Test Mean Absolute Error: $674"
            ],
            "text/plain": [
              "<IPython.core.display.HTML object>"
            ]
          },
          "metadata": {
            "tags": []
          }
        },
        {
          "output_type": "display_data",
          "data": {
            "image/png": "[encoded data removed]",
            "text/plain": [
              "<Figure size 1152x576 with 1 Axes>"
            ]
          },
          "metadata": {
            "tags": [],
            "needs_background": "light"
          }
        },
        {
          "output_type": "display_data",
          "data": {
            "text/html": [
              "Ridge Regression, with alpha=100000"
            ],
            "text/plain": [
              "<IPython.core.display.HTML object>"
            ]
          },
          "metadata": {
            "tags": []
          }
        },
        {
          "output_type": "display_data",
          "data": {
            "text/html": [
              "Test Mean Absolute Error: $853"
            ],
            "text/plain": [
              "<IPython.core.display.HTML object>"
            ]
          },
          "metadata": {
            "tags": []
          }
        },
        {
          "output_type": "display_data",
          "data": {
            "image/png": "[encoded data removed]",
            "text/plain": [
              "<Figure size 1152x576 with 1 Axes>"
            ]
          },
          "metadata": {
            "tags": [],
            "needs_background": "light"
          }
        },
        {
          "output_type": "display_data",
          "data": {
            "text/html": [
              "Ridge Regression, with alpha=1000000"
            ],
            "text/plain": [
              "<IPython.core.display.HTML object>"
            ]
          },
          "metadata": {
            "tags": []
          }
        },
        {
          "output_type": "display_data",
          "data": {
            "text/html": [
              "Test Mean Absolute Error: $1,125"
            ],
            "text/plain": [
              "<IPython.core.display.HTML object>"
            ]
          },
          "metadata": {
            "tags": []
          }
        },
        {
          "output_type": "display_data",
          "data": {
            "image/png": "[encoded data removed]",
            "text/plain": [
              "<Figure size 1152x576 with 1 Axes>"
            ]
          },
          "metadata": {
            "tags": [],
            "needs_background": "light"
          }
        }
      ]
    },
    {
      "cell_type": "markdown",
      "metadata": {
        "colab_type": "text",
        "id": "lurFmPf9DiBL"
      },
      "source": [
        "# Express and explain the intuition and interpretation of Ridge Regression"
      ]
    },
    {
      "cell_type": "markdown",
      "metadata": {
        "colab_type": "text",
        "id": "EFOv7JFGDiBL"
      },
      "source": [
        "Okay, now let's back up — _way_ up!\n",
        "\n",
        "Data science depends on math, and math is generally focused on situations where:\n",
        "\n",
        "1. a solution exists,\n",
        "2. the solution is unique,\n",
        "3. the solution's behavior changes continuously with the initial conditions.\n",
        "\n",
        "These are known as [well-posed problems](https://en.wikipedia.org/wiki/Well-posed_problem), and are the sorts of assumptions so core in traditional techniques that it is easy to forget about them. But they do matter, as there can be exceptions:\n",
        "\n",
        "1. no solution - e.g. no $x$ such that $Ax = b$\n",
        "2. multiple solutions - e.g. several $x_1, x_2, ...$ such that $Ax = b$\n",
        "3. \"chaotic\" systems - situations where small changes in initial conditions interact and reverberate in essentially unpredictable ways - for instance, the difficulty in longterm predictions of weather (N.B. not the same thing as longterm predictions of *climate*) - you can think of this as models that fail to generalize well, because they overfit on the training data (the initial conditions)\n",
        "\n",
        "Problems suffering from the above are called ill-posed problems. Relating to linear algebra and systems of equations, the only truly well-posed problems are those with a single unique solution.\n",
        "\n",
        "![Intersecting lines](https://upload.wikimedia.org/wikipedia/commons/c/c0/Intersecting_Lines.svg)\n",
        "\n",
        "Think for a moment - what would the above plot look like if there was no solution? If there were multiple solutions? And how would that generalize to higher dimensions?\n",
        "\n",
        "A lot of what you covered with linear regression was about getting matrices into the right shape for them to be solvable in this sense. But some matrices just won't submit to this, and other problems may technically \"fit\" linear regression but still be violating the above assumptions in subtle ways.\n",
        "\n",
        "[Overfitting](https://en.wikipedia.org/wiki/Overfitting) is in some ways a special case of this - an overfit model uses more features/parameters than is \"justified\" by the data (essentially by the *dimensionality* of the data, as measured by $n$ the number of observations). As the number of features approaches the number of observations, linear regression still \"works\", but it starts giving fairly perverse results. In particular, it results in a model that fails to *generalize* - and so the core goal of prediction and explanatory power is undermined.\n",
        "\n",
        "How is this related to well and ill-posed problems? It's not clearly a no solution or multiple solution case, but it does fall in the third category - overfitting results in fitting to the \"noise\" in the data, which means the particulars of one random sample or another (different initial conditions )will result in dramatically different models.\n",
        "\n",
        "### Stop and think - what are ways to address these issues?"
      ]
    },
    {
      "cell_type": "markdown",
      "metadata": {
        "colab_type": "text",
        "id": "Zf0NwJh2DiBM"
      },
      "source": [
        "> chaotic system is a system\n",
        "where small changes result in\n",
        "unpredictable things so the canonical\n",
        "example is the weather right a butterfly\n",
        "flaps its wings in Thailand and then\n",
        "there's a hurricane off the coast of\n",
        "North Carolina at seven months or\n",
        "something so that's a little bit of a\n",
        "romanticization of it but the general\n",
        "idea is is there's a reason that we only\n",
        "have good forecasts for a few days\n",
        "\n",
        "\n",
        "> if we're violating\n",
        "this third assumption it's kind of like\n",
        "well we're not generalizing you know we\n",
        "can't predict future we can't predict\n",
        "new cases because we're overfitting on\n",
        "the current situation and it changes in\n",
        "ways that we're not dealing with so the\n",
        "point is is if you have any of these you\n",
        "have an ill-posed problem\n",
        "\n",
        "\n",
        "> in the no solution case these\n",
        "lines would be parallel \n",
        "\n",
        "\n",
        "> how might it look for\n",
        "case two\n",
        "yeah perhaps you put the red line\n",
        "exactly on the blue line right then\n",
        "everything is a solution to both of them\n",
        "and that's kind of silly now in this\n",
        "case because these are both linear\n",
        "anything other than perfect intersection\n",
        "is just gonna give us either parallel\n",
        "lines or one intersection but if these\n",
        "were quadratic if we added some squared\n",
        "terms in here right some other Wiggles\n",
        "then it's possible that they could\n",
        "intercept in multiple places so that's\n",
        "another way to just if we change the\n",
        "equations to be higher dimension they\n",
        "might intersect in multiple places and\n",
        "now there's more than one solution \n",
        "\n",
        "> for the third one, I guess the picture\n",
        "would be that these aren't actually\n",
        "functions right that these are\n",
        "discontinuous that perhaps there's steps\n",
        "and jumps in these values perhaps this\n",
        "single point is omitted right like the\n",
        "red line goes here and then if the red\n",
        "line just doesn't exist for a while and\n",
        "then the red line exists again up here\n",
        "we change it to be a piecewise function\n",
        "so that could be a situation where it's\n",
        "more like three all right\n",
        "\n",
        "\n",
        "> overfitting is a special case of not\n",
        "generalizing and having this chaotic system\n",
        "\n",
        "> so does anybody have ideas for how we\n",
        "can address overfitting we've already\n",
        "talked about a few so feel free to\n",
        "discuss them\n",
        "\n",
        "> you could use PCA but to be\n",
        "clear PCA won't give you nice human\n",
        "features at the end PCA will give you\n",
        "this components yeah use fewer features\n",
        "remove collinear features now look at\n",
        "this matrix here or just you know beep\n",
        "be picky about the features you use but\n",
        "wouldn't it be nice if there is a way\n",
        "just say hey I kind of want to throw all\n",
        "the features out it anyway\n",
        "and then let the model training figure\n",
        "out how much how hard it should train I\n",
        "want the model training I don't want to\n",
        "have to manually find this spot here I\n",
        "don't want to have to look and say oh I\n",
        "need this feature but not that feature\n",
        "blah blah blah I should only engineer\n",
        "this I want to just train a model and I\n",
        "wanted to find this happy middle"
      ]
    },
    {
      "cell_type": "markdown",
      "metadata": {
        "colab_type": "text",
        "id": "PYja_A-2DiBM"
      },
      "source": [
        "### What can we do?\n",
        "\n",
        "- Use fewer features - sure, but it can be a lot of work to figure out *which* features, and (in cases like this) there may not be any good reason to really favor some features over another.\n",
        "- Get more data! This is actually a pretty good approach in tech, since apps generate lots of data all the time (and we made this situation by artificially constraining our data). But for case studies, existing data, etc. it won't work.\n",
        "- **Regularize!**\n",
        "\n",
        "### Regularization just means \"add bias\"\n",
        "\n",
        "OK, there's a bit more to it than that. But that's the core intuition - the problem is the model working \"too well\", so fix it by making it harder for the model!\n",
        "\n",
        "It may sound strange - a technique that is purposefully \"worse\" - but in certain situations, it can really get results.\n",
        "\n",
        "What's bias? In the context of statistics and machine learning, bias is when a predictive model fails to identify relationships between features and the output. In a word, bias is *underfitting*.\n",
        "\n",
        "We want to add bias to the model because of the [bias-variance tradeoff](https://en.wikipedia.org/wiki/Bias%E2%80%93variance_tradeoff) - variance is the sensitivity of a model to the random noise in its training data (i.e. *overfitting*), and bias and variance are naturally (inversely) related. Increasing one will always decrease the other, with regards to the overall generalization error (predictive accuracy on unseen data).\n",
        "\n",
        "Visually, the result looks like this:\n",
        "\n",
        "![Regularization example plot](https://upload.wikimedia.org/wikipedia/commons/0/02/Regularization.svg)\n",
        "\n",
        "The blue line is overfit, using more dimensions than are needed to explain the data and so much of the movement is based on noise and won't generalize well. The green line still fits the data, but is less susceptible to the noise - depending on how exactly we parameterize \"noise\" we may throw out actual correlation, but if we balance it right we keep that signal and greatly improve generalizability.\n",
        "\n",
        "### Look carefully at the above plot and think of ways you can quantify the difference between the blue and green lines..."
      ]
    },
    {
      "cell_type": "markdown",
      "metadata": {
        "colab_type": "text",
        "id": "DicfUjhVDiBN"
      },
      "source": [
        "Let's examine in the context of another famous housing dataset."
      ]
    },
    {
      "cell_type": "code",
      "metadata": {
        "colab_type": "code",
        "id": "PUPlvVRcDiBN",
        "outputId": "f1076552-688e-4615-b8bd-d01353a99161",
        "colab": {}
      },
      "source": [
        "import pandas as pd\n",
        "from sklearn.datasets import load_boston\n",
        "from sklearn.preprocessing import scale\n",
        "\n",
        "boston = load_boston()\n",
        "boston.data = scale(boston.data)  # Very helpful for regularization!\n",
        "df = pd.DataFrame(boston.data, columns=boston.feature_names)\n",
        "df['Price'] = boston.target\n",
        "df.head()"
      ],
      "execution_count": 0,
      "outputs": [
        {
          "output_type": "execute_result",
          "data": {
            "text/html": [
              "<div>\n",
              "<style scoped>\n",
              "    .dataframe tbody tr th:only-of-type {\n",
              "        vertical-align: middle;\n",
              "    }\n",
              "\n",
              "    .dataframe tbody tr th {\n",
              "        vertical-align: top;\n",
              "    }\n",
              "\n",
              "    .dataframe thead th {\n",
              "        text-align: right;\n",
              "    }\n",
              "</style>\n",
              "<table border=\"1\" class=\"dataframe\">\n",
              "  <thead>\n",
              "    <tr style=\"text-align: right;\">\n",
              "      <th></th>\n",
              "      <th>CRIM</th>\n",
              "      <th>ZN</th>\n",
              "      <th>INDUS</th>\n",
              "      <th>CHAS</th>\n",
              "      <th>NOX</th>\n",
              "      <th>RM</th>\n",
              "      <th>AGE</th>\n",
              "      <th>DIS</th>\n",
              "      <th>RAD</th>\n",
              "      <th>TAX</th>\n",
              "      <th>PTRATIO</th>\n",
              "      <th>B</th>\n",
              "      <th>LSTAT</th>\n",
              "      <th>Price</th>\n",
              "    </tr>\n",
              "  </thead>\n",
              "  <tbody>\n",
              "    <tr>\n",
              "      <th>0</th>\n",
              "      <td>-0.419782</td>\n",
              "      <td>0.284830</td>\n",
              "      <td>-1.287909</td>\n",
              "      <td>-0.272599</td>\n",
              "      <td>-0.144217</td>\n",
              "      <td>0.413672</td>\n",
              "      <td>-0.120013</td>\n",
              "      <td>0.140214</td>\n",
              "      <td>-0.982843</td>\n",
              "      <td>-0.666608</td>\n",
              "      <td>-1.459000</td>\n",
              "      <td>0.441052</td>\n",
              "      <td>-1.075562</td>\n",
              "      <td>24.0</td>\n",
              "    </tr>\n",
              "    <tr>\n",
              "      <th>1</th>\n",
              "      <td>-0.417339</td>\n",
              "      <td>-0.487722</td>\n",
              "      <td>-0.593381</td>\n",
              "      <td>-0.272599</td>\n",
              "      <td>-0.740262</td>\n",
              "      <td>0.194274</td>\n",
              "      <td>0.367166</td>\n",
              "      <td>0.557160</td>\n",
              "      <td>-0.867883</td>\n",
              "      <td>-0.987329</td>\n",
              "      <td>-0.303094</td>\n",
              "      <td>0.441052</td>\n",
              "      <td>-0.492439</td>\n",
              "      <td>21.6</td>\n",
              "    </tr>\n",
              "    <tr>\n",
              "      <th>2</th>\n",
              "      <td>-0.417342</td>\n",
              "      <td>-0.487722</td>\n",
              "      <td>-0.593381</td>\n",
              "      <td>-0.272599</td>\n",
              "      <td>-0.740262</td>\n",
              "      <td>1.282714</td>\n",
              "      <td>-0.265812</td>\n",
              "      <td>0.557160</td>\n",
              "      <td>-0.867883</td>\n",
              "      <td>-0.987329</td>\n",
              "      <td>-0.303094</td>\n",
              "      <td>0.396427</td>\n",
              "      <td>-1.208727</td>\n",
              "      <td>34.7</td>\n",
              "    </tr>\n",
              "    <tr>\n",
              "      <th>3</th>\n",
              "      <td>-0.416750</td>\n",
              "      <td>-0.487722</td>\n",
              "      <td>-1.306878</td>\n",
              "      <td>-0.272599</td>\n",
              "      <td>-0.835284</td>\n",
              "      <td>1.016303</td>\n",
              "      <td>-0.809889</td>\n",
              "      <td>1.077737</td>\n",
              "      <td>-0.752922</td>\n",
              "      <td>-1.106115</td>\n",
              "      <td>0.113032</td>\n",
              "      <td>0.416163</td>\n",
              "      <td>-1.361517</td>\n",
              "      <td>33.4</td>\n",
              "    </tr>\n",
              "    <tr>\n",
              "      <th>4</th>\n",
              "      <td>-0.412482</td>\n",
              "      <td>-0.487722</td>\n",
              "      <td>-1.306878</td>\n",
              "      <td>-0.272599</td>\n",
              "      <td>-0.835284</td>\n",
              "      <td>1.228577</td>\n",
              "      <td>-0.511180</td>\n",
              "      <td>1.077737</td>\n",
              "      <td>-0.752922</td>\n",
              "      <td>-1.106115</td>\n",
              "      <td>0.113032</td>\n",
              "      <td>0.441052</td>\n",
              "      <td>-1.026501</td>\n",
              "      <td>36.2</td>\n",
              "    </tr>\n",
              "  </tbody>\n",
              "</table>\n",
              "</div>"
            ],
            "text/plain": [
              "       CRIM        ZN     INDUS      CHAS       NOX        RM       AGE  \\\n",
              "0 -0.419782  0.284830 -1.287909 -0.272599 -0.144217  0.413672 -0.120013   \n",
              "1 -0.417339 -0.487722 -0.593381 -0.272599 -0.740262  0.194274  0.367166   \n",
              "2 -0.417342 -0.487722 -0.593381 -0.272599 -0.740262  1.282714 -0.265812   \n",
              "3 -0.416750 -0.487722 -1.306878 -0.272599 -0.835284  1.016303 -0.809889   \n",
              "4 -0.412482 -0.487722 -1.306878 -0.272599 -0.835284  1.228577 -0.511180   \n",
              "\n",
              "        DIS       RAD       TAX   PTRATIO         B     LSTAT  Price  \n",
              "0  0.140214 -0.982843 -0.666608 -1.459000  0.441052 -1.075562   24.0  \n",
              "1  0.557160 -0.867883 -0.987329 -0.303094  0.441052 -0.492439   21.6  \n",
              "2  0.557160 -0.867883 -0.987329 -0.303094  0.396427 -1.208727   34.7  \n",
              "3  1.077737 -0.752922 -1.106115  0.113032  0.416163 -1.361517   33.4  \n",
              "4  1.077737 -0.752922 -1.106115  0.113032  0.441052 -1.026501   36.2  "
            ]
          },
          "metadata": {
            "tags": []
          },
          "execution_count": 17
        }
      ]
    },
    {
      "cell_type": "code",
      "metadata": {
        "colab_type": "code",
        "id": "sS6CNvMNDiBP",
        "outputId": "864f2996-3d77-44f7-ccdb-50937fcb3095",
        "colab": {}
      },
      "source": [
        "df.shape"
      ],
      "execution_count": 0,
      "outputs": [
        {
          "output_type": "execute_result",
          "data": {
            "text/plain": [
              "(506, 14)"
            ]
          },
          "metadata": {
            "tags": []
          },
          "execution_count": 18
        }
      ]
    },
    {
      "cell_type": "markdown",
      "metadata": {
        "colab_type": "text",
        "id": "fVjQQI0uDiBQ"
      },
      "source": [
        "Split the data to properly test model validity"
      ]
    },
    {
      "cell_type": "code",
      "metadata": {
        "colab_type": "code",
        "id": "F-OF5ESJDiBR",
        "lines_to_next_cell": 2,
        "colab": {}
      },
      "source": [
        "from sklearn.model_selection import train_test_split\n",
        "\n",
        "X = df.drop(columns='Price')\n",
        "y = df.Price\n",
        "X_train, X_test, y_train, y_test = train_test_split(X, y, random_state=43)"
      ],
      "execution_count": 0,
      "outputs": []
    },
    {
      "cell_type": "markdown",
      "metadata": {
        "colab_type": "text",
        "id": "kqXI_9BSDumv"
      },
      "source": [
        "What are the parameters for scikit-learn's implementation of Ridge Regression?"
      ]
    },
    {
      "cell_type": "code",
      "metadata": {
        "colab_type": "code",
        "id": "GzQlYNoeDiBS",
        "lines_to_next_cell": 2,
        "outputId": "41688f5d-8e7f-4e06-85e6-9327725715d8",
        "colab": {}
      },
      "source": [
        "from sklearn.linear_model import Ridge\n",
        "help(Ridge)"
      ],
      "execution_count": 0,
      "outputs": [
        {
          "output_type": "stream",
          "text": [
            "Help on class Ridge in module sklearn.linear_model.ridge:\n",
            "\n",
            "class Ridge(_BaseRidge, sklearn.base.RegressorMixin)\n",
            " |  Ridge(alpha=1.0, fit_intercept=True, normalize=False, copy_X=True, max_iter=None, tol=0.001, solver='auto', random_state=None)\n",
            " |  \n",
            " |  Linear least squares with l2 regularization.\n",
            " |  \n",
            " |  Minimizes the objective function::\n",
            " |  \n",
            " |  ||y - Xw||^2_2 + alpha * ||w||^2_2\n",
            " |  \n",
            " |  This model solves a regression model where the loss function is\n",
            " |  the linear least squares function and regularization is given by\n",
            " |  the l2-norm. Also known as Ridge Regression or Tikhonov regularization.\n",
            " |  This estimator has built-in support for multi-variate regression\n",
            " |  (i.e., when y is a 2d-array of shape [n_samples, n_targets]).\n",
            " |  \n",
            " |  Read more in the :ref:`User Guide <ridge_regression>`.\n",
            " |  \n",
            " |  Parameters\n",
            " |  ----------\n",
            " |  alpha : {float, array-like}, shape (n_targets)\n",
            " |      Regularization strength; must be a positive float. Regularization\n",
            " |      improves the conditioning of the problem and reduces the variance of\n",
            " |      the estimates. Larger values specify stronger regularization.\n",
            " |      Alpha corresponds to ``C^-1`` in other linear models such as\n",
            " |      LogisticRegression or LinearSVC. If an array is passed, penalties are\n",
            " |      assumed to be specific to the targets. Hence they must correspond in\n",
            " |      number.\n",
            " |  \n",
            " |  fit_intercept : boolean\n",
            " |      Whether to calculate the intercept for this model. If set\n",
            " |      to false, no intercept will be used in calculations\n",
            " |      (e.g. data is expected to be already centered).\n",
            " |  \n",
            " |  normalize : boolean, optional, default False\n",
            " |      This parameter is ignored when ``fit_intercept`` is set to False.\n",
            " |      If True, the regressors X will be normalized before regression by\n",
            " |      subtracting the mean and dividing by the l2-norm.\n",
            " |      If you wish to standardize, please use\n",
            " |      :class:`sklearn.preprocessing.StandardScaler` before calling ``fit``\n",
            " |      on an estimator with ``normalize=False``.\n",
            " |  \n",
            " |  copy_X : boolean, optional, default True\n",
            " |      If True, X will be copied; else, it may be overwritten.\n",
            " |  \n",
            " |  max_iter : int, optional\n",
            " |      Maximum number of iterations for conjugate gradient solver.\n",
            " |      For 'sparse_cg' and 'lsqr' solvers, the default value is determined\n",
            " |      by scipy.sparse.linalg. For 'sag' solver, the default value is 1000.\n",
            " |  \n",
            " |  tol : float\n",
            " |      Precision of the solution.\n",
            " |  \n",
            " |  solver : {'auto', 'svd', 'cholesky', 'lsqr', 'sparse_cg', 'sag', 'saga'}\n",
            " |      Solver to use in the computational routines:\n",
            " |  \n",
            " |      - 'auto' chooses the solver automatically based on the type of data.\n",
            " |  \n",
            " |      - 'svd' uses a Singular Value Decomposition of X to compute the Ridge\n",
            " |        coefficients. More stable for singular matrices than\n",
            " |        'cholesky'.\n",
            " |  \n",
            " |      - 'cholesky' uses the standard scipy.linalg.solve function to\n",
            " |        obtain a closed-form solution.\n",
            " |  \n",
            " |      - 'sparse_cg' uses the conjugate gradient solver as found in\n",
            " |        scipy.sparse.linalg.cg. As an iterative algorithm, this solver is\n",
            " |        more appropriate than 'cholesky' for large-scale data\n",
            " |        (possibility to set `tol` and `max_iter`).\n",
            " |  \n",
            " |      - 'lsqr' uses the dedicated regularized least-squares routine\n",
            " |        scipy.sparse.linalg.lsqr. It is the fastest and uses an iterative\n",
            " |        procedure.\n",
            " |  \n",
            " |      - 'sag' uses a Stochastic Average Gradient descent, and 'saga' uses\n",
            " |        its improved, unbiased version named SAGA. Both methods also use an\n",
            " |        iterative procedure, and are often faster than other solvers when\n",
            " |        both n_samples and n_features are large. Note that 'sag' and\n",
            " |        'saga' fast convergence is only guaranteed on features with\n",
            " |        approximately the same scale. You can preprocess the data with a\n",
            " |        scaler from sklearn.preprocessing.\n",
            " |  \n",
            " |      All last five solvers support both dense and sparse data. However, only\n",
            " |      'sag' and 'sparse_cg' supports sparse input when `fit_intercept` is\n",
            " |      True.\n",
            " |  \n",
            " |      .. versionadded:: 0.17\n",
            " |         Stochastic Average Gradient descent solver.\n",
            " |      .. versionadded:: 0.19\n",
            " |         SAGA solver.\n",
            " |  \n",
            " |  random_state : int, RandomState instance or None, optional, default None\n",
            " |      The seed of the pseudo random number generator to use when shuffling\n",
            " |      the data.  If int, random_state is the seed used by the random number\n",
            " |      generator; If RandomState instance, random_state is the random number\n",
            " |      generator; If None, the random number generator is the RandomState\n",
            " |      instance used by `np.random`. Used when ``solver`` == 'sag'.\n",
            " |  \n",
            " |      .. versionadded:: 0.17\n",
            " |         *random_state* to support Stochastic Average Gradient.\n",
            " |  \n",
            " |  Attributes\n",
            " |  ----------\n",
            " |  coef_ : array, shape (n_features,) or (n_targets, n_features)\n",
            " |      Weight vector(s).\n",
            " |  \n",
            " |  intercept_ : float | array, shape = (n_targets,)\n",
            " |      Independent term in decision function. Set to 0.0 if\n",
            " |      ``fit_intercept = False``.\n",
            " |  \n",
            " |  n_iter_ : array or None, shape (n_targets,)\n",
            " |      Actual number of iterations for each target. Available only for\n",
            " |      sag and lsqr solvers. Other solvers will return None.\n",
            " |  \n",
            " |      .. versionadded:: 0.17\n",
            " |  \n",
            " |  See also\n",
            " |  --------\n",
            " |  RidgeClassifier : Ridge classifier\n",
            " |  RidgeCV : Ridge regression with built-in cross validation\n",
            " |  :class:`sklearn.kernel_ridge.KernelRidge` : Kernel ridge regression\n",
            " |      combines ridge regression with the kernel trick\n",
            " |  \n",
            " |  Examples\n",
            " |  --------\n",
            " |  >>> from sklearn.linear_model import Ridge\n",
            " |  >>> import numpy as np\n",
            " |  >>> n_samples, n_features = 10, 5\n",
            " |  >>> rng = np.random.RandomState(0)\n",
            " |  >>> y = rng.randn(n_samples)\n",
            " |  >>> X = rng.randn(n_samples, n_features)\n",
            " |  >>> clf = Ridge(alpha=1.0)\n",
            " |  >>> clf.fit(X, y) # doctest: +NORMALIZE_WHITESPACE\n",
            " |  Ridge(alpha=1.0, copy_X=True, fit_intercept=True, max_iter=None,\n",
            " |        normalize=False, random_state=None, solver='auto', tol=0.001)\n",
            " |  \n",
            " |  Method resolution order:\n",
            " |      Ridge\n",
            " |      _BaseRidge\n",
            " |      sklearn.linear_model.base.LinearModel\n",
            " |      sklearn.base.BaseEstimator\n",
            " |      sklearn.base.MultiOutputMixin\n",
            " |      sklearn.base.RegressorMixin\n",
            " |      builtins.object\n",
            " |  \n",
            " |  Methods defined here:\n",
            " |  \n",
            " |  __init__(self, alpha=1.0, fit_intercept=True, normalize=False, copy_X=True, max_iter=None, tol=0.001, solver='auto', random_state=None)\n",
            " |      Initialize self.  See help(type(self)) for accurate signature.\n",
            " |  \n",
            " |  fit(self, X, y, sample_weight=None)\n",
            " |      Fit Ridge regression model\n",
            " |      \n",
            " |      Parameters\n",
            " |      ----------\n",
            " |      X : {array-like, sparse matrix}, shape = [n_samples, n_features]\n",
            " |          Training data\n",
            " |      \n",
            " |      y : array-like, shape = [n_samples] or [n_samples, n_targets]\n",
            " |          Target values\n",
            " |      \n",
            " |      sample_weight : float or numpy array of shape [n_samples]\n",
            " |          Individual weights for each sample\n",
            " |      \n",
            " |      Returns\n",
            " |      -------\n",
            " |      self : returns an instance of self.\n",
            " |  \n",
            " |  ----------------------------------------------------------------------\n",
            " |  Data and other attributes defined here:\n",
            " |  \n",
            " |  __abstractmethods__ = frozenset()\n",
            " |  \n",
            " |  ----------------------------------------------------------------------\n",
            " |  Methods inherited from sklearn.linear_model.base.LinearModel:\n",
            " |  \n",
            " |  predict(self, X)\n",
            " |      Predict using the linear model\n",
            " |      \n",
            " |      Parameters\n",
            " |      ----------\n",
            " |      X : array_like or sparse matrix, shape (n_samples, n_features)\n",
            " |          Samples.\n",
            " |      \n",
            " |      Returns\n",
            " |      -------\n",
            " |      C : array, shape (n_samples,)\n",
            " |          Returns predicted values.\n",
            " |  \n",
            " |  ----------------------------------------------------------------------\n",
            " |  Methods inherited from sklearn.base.BaseEstimator:\n",
            " |  \n",
            " |  __getstate__(self)\n",
            " |  \n",
            " |  __repr__(self, N_CHAR_MAX=700)\n",
            " |      Return repr(self).\n",
            " |  \n",
            " |  __setstate__(self, state)\n",
            " |  \n",
            " |  get_params(self, deep=True)\n",
            " |      Get parameters for this estimator.\n",
            " |      \n",
            " |      Parameters\n",
            " |      ----------\n",
            " |      deep : boolean, optional\n",
            " |          If True, will return the parameters for this estimator and\n",
            " |          contained subobjects that are estimators.\n",
            " |      \n",
            " |      Returns\n",
            " |      -------\n",
            " |      params : mapping of string to any\n",
            " |          Parameter names mapped to their values.\n",
            " |  \n",
            " |  set_params(self, **params)\n",
            " |      Set the parameters of this estimator.\n",
            " |      \n",
            " |      The method works on simple estimators as well as on nested objects\n",
            " |      (such as pipelines). The latter have parameters of the form\n",
            " |      ``<component>__<parameter>`` so that it's possible to update each\n",
            " |      component of a nested object.\n",
            " |      \n",
            " |      Returns\n",
            " |      -------\n",
            " |      self\n",
            " |  \n",
            " |  ----------------------------------------------------------------------\n",
            " |  Data descriptors inherited from sklearn.base.BaseEstimator:\n",
            " |  \n",
            " |  __dict__\n",
            " |      dictionary for instance variables (if defined)\n",
            " |  \n",
            " |  __weakref__\n",
            " |      list of weak references to the object (if defined)\n",
            " |  \n",
            " |  ----------------------------------------------------------------------\n",
            " |  Methods inherited from sklearn.base.RegressorMixin:\n",
            " |  \n",
            " |  score(self, X, y, sample_weight=None)\n",
            " |      Returns the coefficient of determination R^2 of the prediction.\n",
            " |      \n",
            " |      The coefficient R^2 is defined as (1 - u/v), where u is the residual\n",
            " |      sum of squares ((y_true - y_pred) ** 2).sum() and v is the total\n",
            " |      sum of squares ((y_true - y_true.mean()) ** 2).sum().\n",
            " |      The best possible score is 1.0 and it can be negative (because the\n",
            " |      model can be arbitrarily worse). A constant model that always\n",
            " |      predicts the expected value of y, disregarding the input features,\n",
            " |      would get a R^2 score of 0.0.\n",
            " |      \n",
            " |      Parameters\n",
            " |      ----------\n",
            " |      X : array-like, shape = (n_samples, n_features)\n",
            " |          Test samples. For some estimators this may be a\n",
            " |          precomputed kernel matrix instead, shape = (n_samples,\n",
            " |          n_samples_fitted], where n_samples_fitted is the number of\n",
            " |          samples used in the fitting for the estimator.\n",
            " |      \n",
            " |      y : array-like, shape = (n_samples) or (n_samples, n_outputs)\n",
            " |          True values for X.\n",
            " |      \n",
            " |      sample_weight : array-like, shape = [n_samples], optional\n",
            " |          Sample weights.\n",
            " |      \n",
            " |      Returns\n",
            " |      -------\n",
            " |      score : float\n",
            " |          R^2 of self.predict(X) wrt. y.\n",
            " |      \n",
            " |      Notes\n",
            " |      -----\n",
            " |      The R2 score used when calling ``score`` on a regressor will use\n",
            " |      ``multioutput='uniform_average'`` from version 0.23 to keep consistent\n",
            " |      with `metrics.r2_score`. This will influence the ``score`` method of\n",
            " |      all the multioutput regressors (except for\n",
            " |      `multioutput.MultiOutputRegressor`). To specify the default value\n",
            " |      manually and avoid the warning, please either call `metrics.r2_score`\n",
            " |      directly or make a custom scorer with `metrics.make_scorer` (the\n",
            " |      built-in scorer ``'r2'`` uses ``multioutput='uniform_average'``).\n",
            "\n"
          ],
          "name": "stdout"
        }
      ]
    },
    {
      "cell_type": "markdown",
      "metadata": {
        "colab_type": "text",
        "id": "qLHRcQLUDiBU"
      },
      "source": [
        "How to tune alpha? For now, let's loop and try values.\n",
        "\n",
        "For a stretch goal, check out [cross-validation](https://scikit-learn.org/stable/modules/generated/sklearn.linear_model.RidgeCV.html).\n"
      ]
    },
    {
      "cell_type": "code",
      "metadata": {
        "colab_type": "code",
        "id": "EAd4LucrDiBV",
        "outputId": "c0240be4-de03-4f75-d1ee-54763ad025c3",
        "colab": {}
      },
      "source": [
        "from sklearn.metrics import mean_squared_error\n",
        "\n",
        "alphas = []\n",
        "mses = []\n",
        "\n",
        "for alpha in range(0, 200, 1):\n",
        "    ridge_reg_split = Ridge(alpha=alpha).fit(X_train, y_train)\n",
        "    mse = mean_squared_error(y_test, ridge_reg_split.predict(X_test))\n",
        "    print(alpha, mse)\n",
        "    alphas.append(alpha)\n",
        "    mses.append(mse)"
      ],
      "execution_count": 0,
      "outputs": [
        {
          "output_type": "stream",
          "text": [
            "0 26.27399142642908\n",
            "1 26.192201358877703\n",
            "2 26.118328007697254\n",
            "3 26.05111795229362\n",
            "4 25.989569283205476\n",
            "5 25.93287356811409\n",
            "6 25.880372753122657\n",
            "7 25.831526788692862\n",
            "8 25.785889053385137\n",
            "9 25.74308751320746\n",
            "10 25.702810145277645\n",
            "11 25.66479356379562\n",
            "12 25.62881407339228\n",
            "13 25.59468057863176\n",
            "14 25.56222892458645\n",
            "15 25.53131734932433\n",
            "16 25.501822806656648\n",
            "17 25.473637974726568\n",
            "18 25.44666880864135\n",
            "19 25.420832527348402\n",
            "20 25.396055949160907\n",
            "21 25.372274108781518\n",
            "22 25.349429102822018\n",
            "23 25.327469121742837\n",
            "24 25.30634763462537\n",
            "25 25.286022699825885\n",
            "26 25.266456379775097\n",
            "27 25.247614242309222\n",
            "28 25.229464934192986\n",
            "29 25.21197981510846\n",
            "30 25.195132642480228\n",
            "31 25.178899299197425\n",
            "32 25.16325755765944\n",
            "33 25.14818687468407\n",
            "34 25.13366821272317\n",
            "35 25.1196838835741\n",
            "36 25.106217411385536\n",
            "37 25.09325341226099\n",
            "38 25.08077748818043\n",
            "39 25.068776133307587\n",
            "40 25.05723665103978\n",
            "41 25.046147080399027\n",
            "42 25.03549613056635\n",
            "43 25.025273122531875\n",
            "44 25.015467936977437\n",
            "45 25.006070967630855\n",
            "46 24.99707307943385\n",
            "47 24.98846557095439\n",
            "48 24.98024014054899\n",
            "49 24.972388855844816\n",
            "50 24.964904126166736\n",
            "51 24.957778677581413\n",
            "52 24.95100553027185\n",
            "53 24.944577977990356\n",
            "54 24.938489569368905\n",
            "55 24.932734090891906\n",
            "56 24.927305551359467\n",
            "57 24.922198167689057\n",
            "58 24.91740635192115\n",
            "59 24.912924699309215\n",
            "60 24.908747977388206\n",
            "61 24.904871115926834\n",
            "62 24.901289197679862\n",
            "63 24.897997449864807\n",
            "64 24.894991236296306\n",
            "65 24.892266050117627\n",
            "66 24.889817507075662\n",
            "67 24.887641339290692\n",
            "68 24.885733389477632\n",
            "69 24.884089605579263\n",
            "70 24.882706035776273\n",
            "71 24.88157882384208\n",
            "72 24.880704204813686\n",
            "73 24.880078500952205\n",
            "74 24.879698117969724\n",
            "75 24.87955954150076\n",
            "76 24.879659333798923\n",
            "77 24.879994130641098\n",
            "78 24.88056063842291\n",
            "79 24.881355631430843\n",
            "80 24.882375949277584\n",
            "81 24.883618494488335\n",
            "82 24.88508023022691\n",
            "83 24.88675817815139\n",
            "84 24.888649416389935\n",
            "85 24.890751077628135\n",
            "86 24.893060347300164\n",
            "87 24.895574461876233\n",
            "88 24.898290707239912\n",
            "89 24.90120641714915\n",
            "90 24.904318971775176\n",
            "91 24.907625796314402\n",
            "92 24.911124359668285\n",
            "93 24.914812173186736\n",
            "94 24.91868678947113\n",
            "95 24.92274580123304\n",
            "96 24.92698684020521\n",
            "97 24.931407576101524\n",
            "98 24.936005715622976\n",
            "99 24.940779001506886\n",
            "100 24.945725211616683\n",
            "101 24.950842158070056\n",
            "102 24.956127686402944\n",
            "103 24.961579674767588\n",
            "104 24.967196033162494\n",
            "105 24.97297470269267\n",
            "106 24.978913654858292\n",
            "107 24.98501089087046\n",
            "108 24.99126444099231\n",
            "109 24.997672363904336\n",
            "110 25.004232746092608\n",
            "111 25.01094370125854\n",
            "112 25.017803369749362\n",
            "113 25.024809918007982\n",
            "114 25.031961538041404\n",
            "115 25.03925644690685\n",
            "116 25.04669288621445\n",
            "117 25.05426912164612\n",
            "118 25.061983442489353\n",
            "119 25.069834161185735\n",
            "120 25.077819612893094\n",
            "121 25.085938155060855\n",
            "122 25.09418816701805\n",
            "123 25.102568049573183\n",
            "124 25.111076224625787\n",
            "125 25.11971113478877\n",
            "126 25.128471243021384\n",
            "127 25.137355032272303\n",
            "128 25.14636100513223\n",
            "129 25.155487683495902\n",
            "130 25.164733608232833\n",
            "131 25.174097338866744\n",
            "132 25.183577453263027\n",
            "133 25.193172547324206\n",
            "134 25.202881234692892\n",
            "135 25.212702146462046\n",
            "136 25.222633930892243\n",
            "137 25.232675253135735\n",
            "138 25.242824794966943\n",
            "139 25.253081254519287\n",
            "140 25.26344334602802\n",
            "141 25.273909799578966\n",
            "142 25.284479360862818\n",
            "143 25.29515079093497\n",
            "144 25.305922865980495\n",
            "145 25.31679437708437\n",
            "146 25.327764130006493\n",
            "147 25.338830944961526\n",
            "148 25.34999365640337\n",
            "149 25.361251112813996\n",
            "150 25.372602176496805\n",
            "151 25.384045723373994\n",
            "152 25.395580642788126\n",
            "153 25.407205837307533\n",
            "154 25.418920222535693\n",
            "155 25.430722726924206\n",
            "156 25.44261229158944\n",
            "157 25.45458787013271\n",
            "158 25.466648428463827\n",
            "159 25.478792944627983\n",
            "160 25.49102040863589\n",
            "161 25.50332982229701\n",
            "162 25.515720199055906\n",
            "163 25.528190563831558\n",
            "164 25.54073995285947\n",
            "165 25.553367413536805\n",
            "166 25.56607200427009\n",
            "167 25.578852794325684\n",
            "168 25.59170886368291\n",
            "169 25.604639302889606\n",
            "170 25.617643212920314\n",
            "171 25.63071970503678\n",
            "172 25.643867900650903\n",
            "173 25.65708693118997\n",
            "174 25.670375937964163\n",
            "175 25.68373407203625\n",
            "176 25.697160494093474\n",
            "177 25.71065437432154\n",
            "178 25.72421489228061\n",
            "179 25.737841236783442\n",
            "180 25.75153260577532\n",
            "181 25.765288206216123\n",
            "182 25.779107253964064\n",
            "183 25.792988973661494\n",
            "184 25.806932598622296\n",
            "185 25.820937370721257\n",
            "186 25.835002540284982\n",
            "187 25.849127365984657\n",
            "188 25.863311114730404\n",
            "189 25.87755306156723\n",
            "190 25.89185248957266\n",
            "191 25.90620868975589\n",
            "192 25.92062096095841\n",
            "193 25.935088609756228\n",
            "194 25.94961095036356\n",
            "195 25.964187304537845\n",
            "196 25.97881700148633\n",
            "197 25.993499377773947\n",
            "198 26.0082337772326\n",
            "199 26.023019550871716\n"
          ],
          "name": "stdout"
        }
      ]
    },
    {
      "cell_type": "code",
      "metadata": {
        "colab_type": "code",
        "id": "0KLgnrIQDiBW",
        "outputId": "81c30142-f449-4549-99f5-e1ac1c39c4bf",
        "colab": {}
      },
      "source": [
        "%matplotlib inline\n",
        "import matplotlib.pyplot as plt\n",
        "plt.scatter(alphas, mses);"
      ],
      "execution_count": 0,
      "outputs": [
        {
          "output_type": "display_data",
          "data": {
            "image/png": "[encoded data removed]",
            "text/plain": [
              "<Figure size 432x288 with 1 Axes>"
            ]
          },
          "metadata": {
            "tags": [],
            "needs_background": "light"
          }
        }
      ]
    },
    {
      "cell_type": "markdown",
      "metadata": {
        "colab_type": "text",
        "id": "JAa-S5nLDiBY"
      },
      "source": [
        "### What's the intuition? What are we doing?\n",
        "\n",
        "The `alpha` parameter corresponds to the weight being given to the extra penalty being calculated by [Tikhonov regularization](https://en.wikipedia.org/wiki/Tikhonov_regularization) (this parameter is sometimes referred to as $\\lambda$ in the context of ridge regression).\n",
        "\n",
        "Normal linear regression (OLS) minimizes the **sum of square error of the residuals**.\n",
        "\n",
        "Ridge regression minimizes the **sum of square error of the residuals** *AND* **the squared slope of the fit model, times the alpha parameter**.\n",
        "\n",
        "This is why the MSE for the first model in the for loop (`alpha=0`) is the same as the MSE for linear regression - it's the same model!\n",
        "\n",
        "As `alpha` is increased, we give more and more penalty to a steep slope. In two or three dimensions this is fairly easy to visualize - beyond, think of it as penalizing coefficient size. Each coefficient represents the slope of an individual dimension (feature) of the model, so ridge regression is just squaring and summing those.\n",
        "\n",
        "So while `alpha=0` reduces to OLS, as `alpha` approaches infinity eventually the penalty gets so extreme that the model will always output every coefficient as 0 (any non-zero coefficient resulting in a penalty that outweighs whatever improvement in the residuals), and just fit a flat model with intercept at the mean of the dependent variable.\n",
        "\n",
        "Of course, what we want is somewhere in-between these extremes. Intuitively, what we want to do is apply an appropriate \"cost\" or penalty to the model for fitting parameters, much like adjusted $R^2$ takes into account the cost of adding complexity to a model. What exactly is an appropriate penalty will vary, so you'll have to put on your model comparison hat and give it a go!\n",
        "\n",
        "PS - scaling the data helps, as that way this cost is consistent and can be added uniformly across features, and it is simpler to search for the `alpha` parameter.\n",
        "\n",
        "### Bonus - magic! ✨\n",
        "\n",
        "Ridge regression doesn't just reduce overfitting and help with the third aspect of well-posed problems (poor generalizability). It can also fix the first two (no unique solution)!\n"
      ]
    },
    {
      "cell_type": "code",
      "metadata": {
        "colab_type": "code",
        "id": "4hw99kleDiBZ",
        "outputId": "6518e8ae-16d1-48a1-f9ac-caf6aca36cd0",
        "colab": {}
      },
      "source": [
        "df_tiny = df.sample(10, random_state=27)\n",
        "print(df_tiny.shape)\n",
        "X = df_tiny.drop('Price', axis='columns')\n",
        "y = df_tiny.Price\n",
        "\n",
        "lin_reg = LinearRegression().fit(X, y)\n",
        "lin_reg.score(X, y)  # Perfect multi-collinearity!\n",
        "# NOTE - True OLS would 💥 here\n",
        "# scikit protects us from actual error, but still gives a poor model"
      ],
      "execution_count": 0,
      "outputs": [
        {
          "output_type": "stream",
          "text": [
            "(10, 14)\n"
          ],
          "name": "stdout"
        },
        {
          "output_type": "execute_result",
          "data": {
            "text/plain": [
              "1.0"
            ]
          },
          "metadata": {
            "tags": []
          },
          "execution_count": 23
        }
      ]
    },
    {
      "cell_type": "code",
      "metadata": {
        "colab_type": "code",
        "id": "V0T3RZLSDiBa",
        "outputId": "78bff1e2-46eb-4e80-ab4a-2351bc7d6788",
        "colab": {}
      },
      "source": [
        "ridge_reg = Ridge().fit(X, y)\n",
        "ridge_reg.score(X, y)  # More plausible (not \"perfect\")"
      ],
      "execution_count": 0,
      "outputs": [
        {
          "output_type": "execute_result",
          "data": {
            "text/plain": [
              "0.9760119331942763"
            ]
          },
          "metadata": {
            "tags": []
          },
          "execution_count": 24
        }
      ]
    },
    {
      "cell_type": "code",
      "metadata": {
        "colab_type": "code",
        "id": "T-ET6pDHDiBc",
        "outputId": "f3f2fe36-1f95-4bbc-9593-f18e8d453de0",
        "colab": {}
      },
      "source": [
        "# Using our earlier test split\n",
        "mean_squared_error(y_test, lin_reg.predict(X_test))"
      ],
      "execution_count": 0,
      "outputs": [
        {
          "output_type": "execute_result",
          "data": {
            "text/plain": [
              "103.04429449784294"
            ]
          },
          "metadata": {
            "tags": []
          },
          "execution_count": 25
        }
      ]
    },
    {
      "cell_type": "code",
      "metadata": {
        "colab_type": "code",
        "id": "ZLQw8Y1LDiBe",
        "lines_to_next_cell": 2,
        "outputId": "54eea116-cf4c-42b6-9203-c1e593c8daf4",
        "colab": {}
      },
      "source": [
        "# Ridge generalizes *way* better (and we've not even tuned alpha)\n",
        "mean_squared_error(y_test, ridge_reg.predict(X_test))"
      ],
      "execution_count": 0,
      "outputs": [
        {
          "output_type": "execute_result",
          "data": {
            "text/plain": [
              "41.798693736394576"
            ]
          },
          "metadata": {
            "tags": []
          },
          "execution_count": 26
        }
      ]
    },
    {
      "cell_type": "markdown",
      "metadata": {
        "colab_type": "text",
        "id": "7C0lG4dcDiBh"
      },
      "source": [
        "### And a bit more math\n",
        "\n",
        "The regularization used by Ridge Regression is also known as **$L^2$ regularization**, due to the squaring of the slopes being summed. This corresponds to [$L^2$ space](https://en.wikipedia.org/wiki/Square-integrable_function), a metric space of square-integrable functions that generally measure what we intuitively think of as \"distance\" (at least, on a plane) - what is referred to as Euclidean distance.\n",
        "\n",
        "The other famous norm is $L^1$, also known as [taxicab geometry](https://en.wikipedia.org/wiki/Taxicab_geometry), because it follows the \"grid\" to measure distance like a car driving around city blocks (rather than going directly like $L^2$). When referred to as a distance this is called \"Manhattan distance\", and can be used for regularization (see [LASSO](https://en.wikipedia.org/wiki/Lasso_(statistics%29), which [uses the $L^1$ norm](https://www.quora.com/What-is-the-difference-between-L1-and-L2-regularization-How-does-it-solve-the-problem-of-overfitting-Which-regularizer-to-use-and-when)).\n",
        "\n",
        "All this comes down to - regularization means increasing model bias by \"watering down\" coefficients with a penalty typically based on some sort of distance metric, and thus reducing variance (overfitting the model to the noise in the data). It gives us another lever to try and another tool for our toolchest!\n",
        "\n",
        "### Putting it all together - one last example\n",
        "\n",
        "The official scikit-learn documentation has many excellent examples - [this one](https://scikit-learn.org/stable/auto_examples/linear_model/plot_ols_ridge_variance.html#sphx-glr-auto-examples-linear-model-plot-ols-ridge-variance-py) illustrates how ridge regression effectively reduces the variance, again by increasing the bias, penalizing coefficients to reduce the effectiveness of features (but also the impact of noise)."
      ]
    },
    {
      "cell_type": "markdown",
      "metadata": {
        "colab_type": "text",
        "id": "BfCTRZzsEehH"
      },
      "source": [
        "Due to the few points in each dimension and the straight line that linear regression uses to follow these points as well as it can, noise on the observations will cause great variance as shown in the first plot. Every line’s slope can vary quite a bit for each prediction due to the noise induced in the observations.\n",
        "\n",
        "Ridge regression is basically minimizing a penalised version of the least-squared function. The penalising shrinks the value of the regression coefficients. Despite the few data points in each dimension, the slope of the prediction is much more stable and the variance in the line itself is greatly reduced, in comparison to that of the standard linear regression."
      ]
    },
    {
      "cell_type": "code",
      "metadata": {
        "colab_type": "code",
        "id": "Fp9R-rCgDiBi",
        "outputId": "81791864-ac7e-4ea6-cbbf-7e5516e99917",
        "colab": {}
      },
      "source": [
        "# Code source: Gaël Varoquaux\n",
        "# Modified for documentation by Jaques Grobler\n",
        "# License: BSD 3 clause\n",
        "\n",
        "\n",
        "import numpy as np\n",
        "import matplotlib.pyplot as plt\n",
        "\n",
        "from sklearn import linear_model\n",
        "\n",
        "X_train = np.c_[.5, 1].T\n",
        "y_train = [.5, 1]\n",
        "X_test = np.c_[0, 2].T\n",
        "\n",
        "np.random.seed(0)\n",
        "\n",
        "classifiers = dict(ols=linear_model.LinearRegression(),\n",
        "                   ridge=linear_model.Ridge(alpha=.1))\n",
        "\n",
        "for name, clf in classifiers.items():\n",
        "    fig, ax = plt.subplots(figsize=(4, 3))\n",
        "\n",
        "    for _ in range(6):\n",
        "        this_X = .1 * np.random.normal(size=(2, 1)) + X_train\n",
        "        clf.fit(this_X, y_train)\n",
        "\n",
        "        ax.plot(X_test, clf.predict(X_test), color='gray')\n",
        "        ax.scatter(this_X, y_train, s=3, c='gray', marker='o', zorder=10)\n",
        "\n",
        "    clf.fit(X_train, y_train)\n",
        "    ax.plot(X_test, clf.predict(X_test), linewidth=2, color='blue')\n",
        "    ax.scatter(X_train, y_train, s=30, c='red', marker='+', zorder=10)\n",
        "\n",
        "    ax.set_title(name)\n",
        "    ax.set_xlim(0, 2)\n",
        "    ax.set_ylim((0, 1.6))\n",
        "    ax.set_xlabel('X')\n",
        "    ax.set_ylabel('y')\n",
        "\n",
        "    fig.tight_layout()\n",
        "\n",
        "plt.show()"
      ],
      "execution_count": 0,
      "outputs": [
        {
          "output_type": "display_data",
          "data": {
            "image/png": "[encoded data removed]",
            "text/plain": [
              "<Figure size 288x216 with 1 Axes>"
            ]
          },
          "metadata": {
            "tags": [],
            "needs_background": "light"
          }
        },
        {
          "output_type": "display_data",
          "data": {
            "image/png": "[encoded data removed]",
            "text/plain": [
              "<Figure size 288x216 with 1 Axes>"
            ]
          },
          "metadata": {
            "tags": [],
            "needs_background": "light"
          }
        }
      ]
    },
    {
      "cell_type": "markdown",
      "metadata": {
        "colab_type": "text",
        "id": "EUYUXvN9DiBj"
      },
      "source": [
        "## Challenge\n",
        "\n",
        "In your assignment, you will fit a Ridge Regression model. You can try Linear Regression too — depending on how many features you select, your errors will probably blow up!"
      ]
    },
    {
      "cell_type": "markdown",
      "metadata": {
        "colab_type": "text",
        "id": "UkW8v7-sDiBj"
      },
      "source": [
        "# Review\n",
        "\n",
        "For your assignment, we're going back to our other **New York City** real estate dataset. Instead of predicting apartment rents, you'll predict property sales prices.\n",
        "\n",
        "But not just for condos in Tribeca...\n",
        "\n",
        "Instead, predict property sales prices for **One Family Dwellings** (`BUILDING_CLASS_CATEGORY` == `'01 ONE FAMILY DWELLINGS'`). \n",
        "\n",
        "Use a subset of the data where the **sale price was more than \\\\$100 thousand and less than $2 million.** \n",
        "\n",
        "You'll practice all of the module's objectives to build your best model yet!"
      ]
    },
    {
      "cell_type": "markdown",
      "metadata": {
        "colab_type": "text",
        "id": "KQfaOBYxDiBk"
      },
      "source": [
        "# Sources\n",
        "\n",
        "Resources:\n",
        "- https://www.quora.com/What-is-regularization-in-machine-learning\n",
        "- https://blogs.sas.com/content/subconsciousmusings/2017/07/06/how-to-use-regularization-to-prevent-model-overfitting/\n",
        "- https://machinelearningmastery.com/introduction-to-regularization-to-reduce-overfitting-and-improve-generalization-error/\n",
        "- https://towardsdatascience.com/ridge-and-lasso-regression-a-complete-guide-with-python-scikit-learn-e20e34bcbf0b\n",
        "- https://stats.stackexchange.com/questions/111017/question-about-standardizing-in-ridge-regression#111022"
      ]
    }
  ]
}