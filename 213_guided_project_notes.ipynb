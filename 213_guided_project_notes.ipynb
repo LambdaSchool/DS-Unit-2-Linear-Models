{
  "nbformat": 4,
  "nbformat_minor": 0,
  "metadata": {
    "colab": {
      "name": "213_guided-project_notes.ipynb",
      "provenance": [],
      "include_colab_link": true
    },
    "kernelspec": {
      "name": "python3",
      "display_name": "Python 3"
    }
  },
  "cells": [
    {
      "cell_type": "markdown",
      "metadata": {
        "id": "view-in-github",
        "colab_type": "text"
      },
      "source": [
        "<a href=\"https://colab.research.google.com/github/navroz-lamba/DS-Unit-2-Linear-Models/blob/master/213_guided_project_notes.ipynb\" target=\"_parent\"><img src=\"https://colab.research.google.com/assets/colab-badge.svg\" alt=\"Open In Colab\"/></a>"
      ]
    },
    {
      "cell_type": "markdown",
      "metadata": {
        "id": "rcsemc9vYO89",
        "colab_type": "text"
      },
      "source": [
        "# NYC Rent\n",
        "\n",
        "**GOAL:** Improve our model for predicting NYC rent prices."
      ]
    },
    {
      "cell_type": "markdown",
      "metadata": {
        "id": "UmDxXyoCYXkr",
        "colab_type": "text"
      },
      "source": [
        "# Wrangle Our Data"
      ]
    },
    {
      "cell_type": "code",
      "metadata": {
        "id": "xYcKKPO-VZlb",
        "colab_type": "code",
        "colab": {}
      },
      "source": [
        "%%capture\n",
        "import sys\n",
        "\n",
        "# If you're on Colab:\n",
        "if 'google.colab' in sys.modules:\n",
        "    DATA_PATH = 'https://raw.githubusercontent.com/LambdaSchool/DS-Unit-2-Applied-Modeling/master/data/'\n",
        "    !pip install category_encoders==2.*\n",
        "\n",
        "# If you're working locally:\n",
        "else:\n",
        "    DATA_PATH = '../data/'\n",
        "\n",
        "!pip install category_encoders==2.*"
      ],
      "execution_count": null,
      "outputs": []
    },
    {
      "cell_type": "code",
      "metadata": {
        "id": "fdwzg1ZfWmAn",
        "colab_type": "code",
        "colab": {}
      },
      "source": [
        "import numpy as np\n",
        "import pandas as pd\n",
        "\n",
        "# Read New York City apartment rental listing data\n",
        "df = pd.read_csv(DATA_PATH+'apartments/renthop-nyc.csv', \n",
        "                 parse_dates=['created'],\n",
        "                 index_col='created')\n",
        "\n",
        "df = df[(df['price'] >= np.percentile(df['price'], 0.5)) & \n",
        "        (df['price'] <= np.percentile(df['price'], 99.5)) & \n",
        "        (df['latitude'] >= np.percentile(df['latitude'], 0.05)) & \n",
        "        (df['latitude'] < np.percentile(df['latitude'], 99.95)) &\n",
        "        (df['longitude'] >= np.percentile(df['longitude'], 0.05)) & \n",
        "        (df['longitude'] <= np.percentile(df['longitude'], 99.95))]"
      ],
      "execution_count": null,
      "outputs": []
    },
    {
      "cell_type": "code",
      "metadata": {
        "id": "5irf_C4pYgSH",
        "colab_type": "code",
        "colab": {
          "base_uri": "https://localhost:8080/",
          "height": 703
        },
        "outputId": "5d57a7de-50c5-492d-dec0-3e1cb95f3a68"
      },
      "source": [
        "df.info()"
      ],
      "execution_count": null,
      "outputs": [
        {
          "output_type": "stream",
          "text": [
            "<class 'pandas.core.frame.DataFrame'>\n",
            "DatetimeIndex: 49352 entries, 2016-06-24 07:54:24 to 2016-04-12 02:48:07\n",
            "Data columns (total 33 columns):\n",
            " #   Column                Non-Null Count  Dtype  \n",
            "---  ------                --------------  -----  \n",
            " 0   bathrooms             49352 non-null  float64\n",
            " 1   bedrooms              49352 non-null  int64  \n",
            " 2   description           47906 non-null  object \n",
            " 3   display_address       49217 non-null  object \n",
            " 4   latitude              49352 non-null  float64\n",
            " 5   longitude             49352 non-null  float64\n",
            " 6   price                 49352 non-null  int64  \n",
            " 7   street_address        49342 non-null  object \n",
            " 8   interest_level        49352 non-null  object \n",
            " 9   elevator              49352 non-null  int64  \n",
            " 10  cats_allowed          49352 non-null  int64  \n",
            " 11  hardwood_floors       49352 non-null  int64  \n",
            " 12  dogs_allowed          49352 non-null  int64  \n",
            " 13  doorman               49352 non-null  int64  \n",
            " 14  dishwasher            49352 non-null  int64  \n",
            " 15  no_fee                49352 non-null  int64  \n",
            " 16  laundry_in_building   49352 non-null  int64  \n",
            " 17  fitness_center        49352 non-null  int64  \n",
            " 18  pre-war               49352 non-null  int64  \n",
            " 19  laundry_in_unit       49352 non-null  int64  \n",
            " 20  roof_deck             49352 non-null  int64  \n",
            " 21  outdoor_space         49352 non-null  int64  \n",
            " 22  dining_room           49352 non-null  int64  \n",
            " 23  high_speed_internet   49352 non-null  int64  \n",
            " 24  balcony               49352 non-null  int64  \n",
            " 25  swimming_pool         49352 non-null  int64  \n",
            " 26  new_construction      49352 non-null  int64  \n",
            " 27  terrace               49352 non-null  int64  \n",
            " 28  exclusive             49352 non-null  int64  \n",
            " 29  loft                  49352 non-null  int64  \n",
            " 30  garden_patio          49352 non-null  int64  \n",
            " 31  wheelchair_access     49352 non-null  int64  \n",
            " 32  common_outdoor_space  49352 non-null  int64  \n",
            "dtypes: float64(3), int64(26), object(4)\n",
            "memory usage: 12.8+ MB\n"
          ],
          "name": "stdout"
        }
      ]
    },
    {
      "cell_type": "code",
      "metadata": {
        "id": "IyXjVMegZnYi",
        "colab_type": "code",
        "colab": {
          "base_uri": "https://localhost:8080/",
          "height": 315
        },
        "outputId": "e6a2d4e9-b00b-4cb5-f470-1f9733255c61"
      },
      "source": [
        "df.describe()"
      ],
      "execution_count": null,
      "outputs": [
        {
          "output_type": "execute_result",
          "data": {
            "text/html": [
              "<div>\n",
              "<style scoped>\n",
              "    .dataframe tbody tr th:only-of-type {\n",
              "        vertical-align: middle;\n",
              "    }\n",
              "\n",
              "    .dataframe tbody tr th {\n",
              "        vertical-align: top;\n",
              "    }\n",
              "\n",
              "    .dataframe thead th {\n",
              "        text-align: right;\n",
              "    }\n",
              "</style>\n",
              "<table border=\"1\" class=\"dataframe\">\n",
              "  <thead>\n",
              "    <tr style=\"text-align: right;\">\n",
              "      <th></th>\n",
              "      <th>bathrooms</th>\n",
              "      <th>bedrooms</th>\n",
              "      <th>latitude</th>\n",
              "      <th>longitude</th>\n",
              "      <th>price</th>\n",
              "      <th>elevator</th>\n",
              "      <th>cats_allowed</th>\n",
              "      <th>hardwood_floors</th>\n",
              "      <th>dogs_allowed</th>\n",
              "      <th>doorman</th>\n",
              "      <th>dishwasher</th>\n",
              "      <th>no_fee</th>\n",
              "      <th>laundry_in_building</th>\n",
              "      <th>fitness_center</th>\n",
              "      <th>pre-war</th>\n",
              "      <th>laundry_in_unit</th>\n",
              "      <th>roof_deck</th>\n",
              "      <th>outdoor_space</th>\n",
              "      <th>dining_room</th>\n",
              "      <th>high_speed_internet</th>\n",
              "      <th>balcony</th>\n",
              "      <th>swimming_pool</th>\n",
              "      <th>new_construction</th>\n",
              "      <th>terrace</th>\n",
              "      <th>exclusive</th>\n",
              "      <th>loft</th>\n",
              "      <th>garden_patio</th>\n",
              "      <th>wheelchair_access</th>\n",
              "      <th>common_outdoor_space</th>\n",
              "    </tr>\n",
              "  </thead>\n",
              "  <tbody>\n",
              "    <tr>\n",
              "      <th>count</th>\n",
              "      <td>49352.00000</td>\n",
              "      <td>49352.000000</td>\n",
              "      <td>49352.000000</td>\n",
              "      <td>49352.000000</td>\n",
              "      <td>4.935200e+04</td>\n",
              "      <td>49352.000000</td>\n",
              "      <td>49352.000000</td>\n",
              "      <td>49352.000000</td>\n",
              "      <td>49352.000000</td>\n",
              "      <td>49352.000000</td>\n",
              "      <td>49352.000000</td>\n",
              "      <td>49352.000000</td>\n",
              "      <td>49352.000000</td>\n",
              "      <td>49352.000000</td>\n",
              "      <td>49352.000000</td>\n",
              "      <td>49352.000000</td>\n",
              "      <td>49352.000000</td>\n",
              "      <td>49352.000000</td>\n",
              "      <td>49352.000000</td>\n",
              "      <td>49352.000000</td>\n",
              "      <td>49352.000000</td>\n",
              "      <td>49352.000000</td>\n",
              "      <td>49352.000000</td>\n",
              "      <td>49352.000000</td>\n",
              "      <td>49352.000000</td>\n",
              "      <td>49352.000000</td>\n",
              "      <td>49352.000000</td>\n",
              "      <td>49352.000000</td>\n",
              "      <td>49352.00000</td>\n",
              "    </tr>\n",
              "    <tr>\n",
              "      <th>mean</th>\n",
              "      <td>1.21218</td>\n",
              "      <td>1.541640</td>\n",
              "      <td>40.741545</td>\n",
              "      <td>-73.955716</td>\n",
              "      <td>3.830174e+03</td>\n",
              "      <td>0.525126</td>\n",
              "      <td>0.476982</td>\n",
              "      <td>0.476759</td>\n",
              "      <td>0.446486</td>\n",
              "      <td>0.424887</td>\n",
              "      <td>0.413965</td>\n",
              "      <td>0.365983</td>\n",
              "      <td>0.052541</td>\n",
              "      <td>0.268520</td>\n",
              "      <td>0.185423</td>\n",
              "      <td>0.177055</td>\n",
              "      <td>0.132821</td>\n",
              "      <td>0.138677</td>\n",
              "      <td>0.104089</td>\n",
              "      <td>0.087190</td>\n",
              "      <td>0.060686</td>\n",
              "      <td>0.055357</td>\n",
              "      <td>0.051852</td>\n",
              "      <td>0.046847</td>\n",
              "      <td>0.043929</td>\n",
              "      <td>0.042612</td>\n",
              "      <td>0.039370</td>\n",
              "      <td>0.027517</td>\n",
              "      <td>0.02620</td>\n",
              "    </tr>\n",
              "    <tr>\n",
              "      <th>std</th>\n",
              "      <td>0.50142</td>\n",
              "      <td>1.115018</td>\n",
              "      <td>0.638535</td>\n",
              "      <td>1.177912</td>\n",
              "      <td>2.206687e+04</td>\n",
              "      <td>0.499373</td>\n",
              "      <td>0.499475</td>\n",
              "      <td>0.499465</td>\n",
              "      <td>0.497133</td>\n",
              "      <td>0.494331</td>\n",
              "      <td>0.492547</td>\n",
              "      <td>0.481710</td>\n",
              "      <td>0.223117</td>\n",
              "      <td>0.443194</td>\n",
              "      <td>0.388644</td>\n",
              "      <td>0.381719</td>\n",
              "      <td>0.339385</td>\n",
              "      <td>0.345613</td>\n",
              "      <td>0.305379</td>\n",
              "      <td>0.282116</td>\n",
              "      <td>0.238757</td>\n",
              "      <td>0.228679</td>\n",
              "      <td>0.221730</td>\n",
              "      <td>0.211313</td>\n",
              "      <td>0.204940</td>\n",
              "      <td>0.201983</td>\n",
              "      <td>0.194476</td>\n",
              "      <td>0.163585</td>\n",
              "      <td>0.15973</td>\n",
              "    </tr>\n",
              "    <tr>\n",
              "      <th>min</th>\n",
              "      <td>0.00000</td>\n",
              "      <td>0.000000</td>\n",
              "      <td>0.000000</td>\n",
              "      <td>-118.271000</td>\n",
              "      <td>4.300000e+01</td>\n",
              "      <td>0.000000</td>\n",
              "      <td>0.000000</td>\n",
              "      <td>0.000000</td>\n",
              "      <td>0.000000</td>\n",
              "      <td>0.000000</td>\n",
              "      <td>0.000000</td>\n",
              "      <td>0.000000</td>\n",
              "      <td>0.000000</td>\n",
              "      <td>0.000000</td>\n",
              "      <td>0.000000</td>\n",
              "      <td>0.000000</td>\n",
              "      <td>0.000000</td>\n",
              "      <td>0.000000</td>\n",
              "      <td>0.000000</td>\n",
              "      <td>0.000000</td>\n",
              "      <td>0.000000</td>\n",
              "      <td>0.000000</td>\n",
              "      <td>0.000000</td>\n",
              "      <td>0.000000</td>\n",
              "      <td>0.000000</td>\n",
              "      <td>0.000000</td>\n",
              "      <td>0.000000</td>\n",
              "      <td>0.000000</td>\n",
              "      <td>0.00000</td>\n",
              "    </tr>\n",
              "    <tr>\n",
              "      <th>25%</th>\n",
              "      <td>1.00000</td>\n",
              "      <td>1.000000</td>\n",
              "      <td>40.728300</td>\n",
              "      <td>-73.991700</td>\n",
              "      <td>2.500000e+03</td>\n",
              "      <td>0.000000</td>\n",
              "      <td>0.000000</td>\n",
              "      <td>0.000000</td>\n",
              "      <td>0.000000</td>\n",
              "      <td>0.000000</td>\n",
              "      <td>0.000000</td>\n",
              "      <td>0.000000</td>\n",
              "      <td>0.000000</td>\n",
              "      <td>0.000000</td>\n",
              "      <td>0.000000</td>\n",
              "      <td>0.000000</td>\n",
              "      <td>0.000000</td>\n",
              "      <td>0.000000</td>\n",
              "      <td>0.000000</td>\n",
              "      <td>0.000000</td>\n",
              "      <td>0.000000</td>\n",
              "      <td>0.000000</td>\n",
              "      <td>0.000000</td>\n",
              "      <td>0.000000</td>\n",
              "      <td>0.000000</td>\n",
              "      <td>0.000000</td>\n",
              "      <td>0.000000</td>\n",
              "      <td>0.000000</td>\n",
              "      <td>0.00000</td>\n",
              "    </tr>\n",
              "    <tr>\n",
              "      <th>50%</th>\n",
              "      <td>1.00000</td>\n",
              "      <td>1.000000</td>\n",
              "      <td>40.751800</td>\n",
              "      <td>-73.977900</td>\n",
              "      <td>3.150000e+03</td>\n",
              "      <td>1.000000</td>\n",
              "      <td>0.000000</td>\n",
              "      <td>0.000000</td>\n",
              "      <td>0.000000</td>\n",
              "      <td>0.000000</td>\n",
              "      <td>0.000000</td>\n",
              "      <td>0.000000</td>\n",
              "      <td>0.000000</td>\n",
              "      <td>0.000000</td>\n",
              "      <td>0.000000</td>\n",
              "      <td>0.000000</td>\n",
              "      <td>0.000000</td>\n",
              "      <td>0.000000</td>\n",
              "      <td>0.000000</td>\n",
              "      <td>0.000000</td>\n",
              "      <td>0.000000</td>\n",
              "      <td>0.000000</td>\n",
              "      <td>0.000000</td>\n",
              "      <td>0.000000</td>\n",
              "      <td>0.000000</td>\n",
              "      <td>0.000000</td>\n",
              "      <td>0.000000</td>\n",
              "      <td>0.000000</td>\n",
              "      <td>0.00000</td>\n",
              "    </tr>\n",
              "    <tr>\n",
              "      <th>75%</th>\n",
              "      <td>1.00000</td>\n",
              "      <td>2.000000</td>\n",
              "      <td>40.774300</td>\n",
              "      <td>-73.954800</td>\n",
              "      <td>4.100000e+03</td>\n",
              "      <td>1.000000</td>\n",
              "      <td>1.000000</td>\n",
              "      <td>1.000000</td>\n",
              "      <td>1.000000</td>\n",
              "      <td>1.000000</td>\n",
              "      <td>1.000000</td>\n",
              "      <td>1.000000</td>\n",
              "      <td>0.000000</td>\n",
              "      <td>1.000000</td>\n",
              "      <td>0.000000</td>\n",
              "      <td>0.000000</td>\n",
              "      <td>0.000000</td>\n",
              "      <td>0.000000</td>\n",
              "      <td>0.000000</td>\n",
              "      <td>0.000000</td>\n",
              "      <td>0.000000</td>\n",
              "      <td>0.000000</td>\n",
              "      <td>0.000000</td>\n",
              "      <td>0.000000</td>\n",
              "      <td>0.000000</td>\n",
              "      <td>0.000000</td>\n",
              "      <td>0.000000</td>\n",
              "      <td>0.000000</td>\n",
              "      <td>0.00000</td>\n",
              "    </tr>\n",
              "    <tr>\n",
              "      <th>max</th>\n",
              "      <td>10.00000</td>\n",
              "      <td>8.000000</td>\n",
              "      <td>44.883500</td>\n",
              "      <td>0.000000</td>\n",
              "      <td>4.490000e+06</td>\n",
              "      <td>1.000000</td>\n",
              "      <td>1.000000</td>\n",
              "      <td>1.000000</td>\n",
              "      <td>1.000000</td>\n",
              "      <td>1.000000</td>\n",
              "      <td>1.000000</td>\n",
              "      <td>1.000000</td>\n",
              "      <td>1.000000</td>\n",
              "      <td>1.000000</td>\n",
              "      <td>1.000000</td>\n",
              "      <td>1.000000</td>\n",
              "      <td>1.000000</td>\n",
              "      <td>1.000000</td>\n",
              "      <td>1.000000</td>\n",
              "      <td>1.000000</td>\n",
              "      <td>1.000000</td>\n",
              "      <td>1.000000</td>\n",
              "      <td>1.000000</td>\n",
              "      <td>1.000000</td>\n",
              "      <td>1.000000</td>\n",
              "      <td>1.000000</td>\n",
              "      <td>1.000000</td>\n",
              "      <td>1.000000</td>\n",
              "      <td>1.00000</td>\n",
              "    </tr>\n",
              "  </tbody>\n",
              "</table>\n",
              "</div>"
            ],
            "text/plain": [
              "         bathrooms      bedrooms  ...  wheelchair_access  common_outdoor_space\n",
              "count  49352.00000  49352.000000  ...       49352.000000           49352.00000\n",
              "mean       1.21218      1.541640  ...           0.027517               0.02620\n",
              "std        0.50142      1.115018  ...           0.163585               0.15973\n",
              "min        0.00000      0.000000  ...           0.000000               0.00000\n",
              "25%        1.00000      1.000000  ...           0.000000               0.00000\n",
              "50%        1.00000      1.000000  ...           0.000000               0.00000\n",
              "75%        1.00000      2.000000  ...           0.000000               0.00000\n",
              "max       10.00000      8.000000  ...           1.000000               1.00000\n",
              "\n",
              "[8 rows x 29 columns]"
            ]
          },
          "metadata": {
            "tags": []
          },
          "execution_count": 15
        }
      ]
    },
    {
      "cell_type": "code",
      "metadata": {
        "id": "k3GtVNXgZuLE",
        "colab_type": "code",
        "colab": {
          "base_uri": "https://localhost:8080/",
          "height": 282
        },
        "outputId": "a5336526-36a9-4a21-af7e-98d38ff26214"
      },
      "source": [
        "df.cats_allowed.plot(kind='hist')"
      ],
      "execution_count": null,
      "outputs": [
        {
          "output_type": "execute_result",
          "data": {
            "text/plain": [
              "<matplotlib.axes._subplots.AxesSubplot at 0x7f8dc56c50b8>"
            ]
          },
          "metadata": {
            "tags": []
          },
          "execution_count": 17
        },
        {
          "output_type": "display_data",
          "data": {
            "image/png": "[encoded data removed]",
            "text/plain": [
              "<Figure size 432x288 with 1 Axes>"
            ]
          },
          "metadata": {
            "tags": [],
            "needs_background": "light"
          }
        }
      ]
    },
    {
      "cell_type": "code",
      "metadata": {
        "id": "ztNgA4tEmRus",
        "colab_type": "code",
        "colab": {
          "base_uri": "https://localhost:8080/",
          "height": 319
        },
        "outputId": "af1b866f-eceb-4823-cf9e-34ceab317f2b"
      },
      "source": [
        "df.select_dtypes('object').head()"
      ],
      "execution_count": null,
      "outputs": [
        {
          "output_type": "execute_result",
          "data": {
            "text/html": [
              "<div>\n",
              "<style scoped>\n",
              "    .dataframe tbody tr th:only-of-type {\n",
              "        vertical-align: middle;\n",
              "    }\n",
              "\n",
              "    .dataframe tbody tr th {\n",
              "        vertical-align: top;\n",
              "    }\n",
              "\n",
              "    .dataframe thead th {\n",
              "        text-align: right;\n",
              "    }\n",
              "</style>\n",
              "<table border=\"1\" class=\"dataframe\">\n",
              "  <thead>\n",
              "    <tr style=\"text-align: right;\">\n",
              "      <th></th>\n",
              "      <th>description</th>\n",
              "      <th>display_address</th>\n",
              "      <th>street_address</th>\n",
              "      <th>interest_level</th>\n",
              "    </tr>\n",
              "    <tr>\n",
              "      <th>created</th>\n",
              "      <th></th>\n",
              "      <th></th>\n",
              "      <th></th>\n",
              "      <th></th>\n",
              "    </tr>\n",
              "  </thead>\n",
              "  <tbody>\n",
              "    <tr>\n",
              "      <th>2016-06-24 07:54:24</th>\n",
              "      <td>A Brand New 3 Bedroom 1.5 bath ApartmentEnjoy ...</td>\n",
              "      <td>Metropolitan Avenue</td>\n",
              "      <td>792 Metropolitan Avenue</td>\n",
              "      <td>medium</td>\n",
              "    </tr>\n",
              "    <tr>\n",
              "      <th>2016-06-12 12:19:27</th>\n",
              "      <td></td>\n",
              "      <td>Columbus Avenue</td>\n",
              "      <td>808 Columbus Avenue</td>\n",
              "      <td>low</td>\n",
              "    </tr>\n",
              "    <tr>\n",
              "      <th>2016-04-17 03:26:41</th>\n",
              "      <td>Top Top West Village location, beautiful Pre-w...</td>\n",
              "      <td>W 13 Street</td>\n",
              "      <td>241 W 13 Street</td>\n",
              "      <td>high</td>\n",
              "    </tr>\n",
              "    <tr>\n",
              "      <th>2016-04-18 02:22:02</th>\n",
              "      <td>Building Amenities - Garage - Garden - fitness...</td>\n",
              "      <td>East 49th Street</td>\n",
              "      <td>333 East 49th Street</td>\n",
              "      <td>low</td>\n",
              "    </tr>\n",
              "    <tr>\n",
              "      <th>2016-04-28 01:32:41</th>\n",
              "      <td>Beautifully renovated 3 bedroom flex 4 bedroom...</td>\n",
              "      <td>West 143rd Street</td>\n",
              "      <td>500 West 143rd Street</td>\n",
              "      <td>low</td>\n",
              "    </tr>\n",
              "  </tbody>\n",
              "</table>\n",
              "</div>"
            ],
            "text/plain": [
              "                                                           description  ... interest_level\n",
              "created                                                                 ...               \n",
              "2016-06-24 07:54:24  A Brand New 3 Bedroom 1.5 bath ApartmentEnjoy ...  ...         medium\n",
              "2016-06-12 12:19:27                                                     ...            low\n",
              "2016-04-17 03:26:41  Top Top West Village location, beautiful Pre-w...  ...           high\n",
              "2016-04-18 02:22:02  Building Amenities - Garage - Garden - fitness...  ...            low\n",
              "2016-04-28 01:32:41  Beautifully renovated 3 bedroom flex 4 bedroom...  ...            low\n",
              "\n",
              "[5 rows x 4 columns]"
            ]
          },
          "metadata": {
            "tags": []
          },
          "execution_count": 58
        }
      ]
    },
    {
      "cell_type": "code",
      "metadata": {
        "id": "PSUs5DPem0vj",
        "colab_type": "code",
        "colab": {
          "base_uri": "https://localhost:8080/",
          "height": 243
        },
        "outputId": "6e13f2af-b81a-40ff-d2c8-4cf442ee2548"
      },
      "source": [
        "df.description.value_counts()"
      ],
      "execution_count": null,
      "outputs": [
        {
          "output_type": "execute_result",
          "data": {
            "text/plain": [
              "                                                                                                                                                                                                                                                                                                                                                                                                                                                                                                                                                                                                                                                                                                                                                                                                                                                                                                                                                                                                                                                                                                                                                                                                                                                  1627\n",
              "<p><a  website_redacted                                                                                                                                                                                                                                                                                                                                                                                                                                                                                                                                                                                                                                                                                                                                                                                                                                                                                                                                                                                                                                                                                                                                                                                                                            325\n",
              "                                                                                                                                                                                                                                                                                                                                                                                                                                                                                                                                                                                                                                                                                                                                                                                                                                                                                                                                                                                                                                                                                                                                                                                                                                                   235\n",
              "A detailed description is coming soon. Please contact your Highline Residential agent with any questions.                                                                                                                                                                                                                                                                                                                                                                                                                                                                                                                                                                                                                                                                                                                                                                                                                                                                                                                                                                                                                                                                                                                                          123\n",
              "These pictures are from a similarlisting.                                                                                                                                                                                                                                                                                                                                                                                                                                                                                                                                                                                                                                                                                                                                                                                                                                                                                                                                                                                                                                                                                                                                                                                                           64\n",
              "                                                                                                                                                                                                                                                                                                                                                                                                                                                                                                                                                                                                                                                                                                                                                                                                                                                                                                                                                                                                                                                                                                                                                                                                                                                  ... \n",
              "Located at the tip of Central Park, close to transportation and great restaurants. Spacious three bedroom, great share. New kitchen appliances including dishwasher as well as renovated bathroom. Unit features washer/dryer!                                                                                                                                                                                                                                                                                                                                                                                                                                                                                                                                                                                                                                                                                                                                                                                                                                                                                                                                                                                                                       1\n",
              "NO FEE!!! Live in Central Park and Columbus Circle in this beautiful and charming studio. Features kitchen with white appliances, high ceilings and hardwood floors. Large closet. This is Real Deal, new on the market - it wont last long!<br /><br />The building features full time doorman, elevator, laundry room and wonderful artistic decorated lobby! Lots of shopping stores & some of NYC's BEST restaurants nearby. Next to Subway Trains N,Q,R,F,1,2.<br /><br />You would love to see this beautiful apartment. Calling me now it won't cost you money at all!<br /><br />To see this unit or for more information call or text Asen anytime at 694-461-9425 or email at: kagglemanager@renthop.com<p><a  website_redacted                                                                                                                                                                                                                                                                                                                                                                                                                                                                                                            1\n",
              "Welcome to the beautiful 4 BR TRIPLEX in Prime Stuyvesant Heights! NO FEE<br/><br/>This amazing 4 BR features:<br/>- Beautiful Kitchen with New Stainless Steel Appliances<br/>- Hardwood Floors<br/>- High Ceilings<br/>- Huge living room space<br/>- Lots of Closet Space<br/>- Natural sunlight<br/>- Pet Friendly<br/>- Outdoor Space<br/><br/>Located in Stuyvesant Heights neighborhood, this apartment has easy access to variety of restaurants, cafes, and bars.<br/><br/>Close to [J,M,Z] Myrtle Av, [J] Kosciusko St, [G] Myrtle-Willoughby Avs, [J,M] Flushing Av [C] Kingston-Throop stations!<br/><br/>Price listed is net effective price.While every effort has been made to ensure that the information regarding this listing is accurate and up to  date, we cannot guarantee or warrant the accuracy or completeness of the information provided. The information contained herein has been obtained through sources deemed reliable. Any information of special interest should be obtained through independent verification. ALL MEASUREMENTS ARE APPROXIMATE. This listing is subject to errors, omissions, change of price, rental or other conditions, prior sale, lease or financing, or withdrawal without notice.       1\n",
              "217 Ralph Ave.\\r2.5 bed \\r1 bath\\r$2,000\\r\\rGreat 2 bed\\rLots of light \\rLarge kitchen \\r1 queen sized room and 1 full sized room. \\rLots of storage and closet space. \\r\\r700+  credit with proof of income for 40 times the rent.\\rGuarantors accepted.\\rOne month rent and one month security to move in.\\rPet Friendly.\\rNo Broker Fee.\\r\\rText or email for a viewing.\\rCrystal                                                                                                                                                                                                                                                                                                                                                                                                                                                                                                                                                                                                                                                                                                                                                                                                                                                                 1\n",
              "This apartment is AVAILABLE for Mid-JULY Rental (15-Jul-16, Flexible) Beautifully appointed Two (2) Bed w. Two (2) Bath apartment in great location within Central Harlem with Common Area Roof-Top Access.  A MUST SEE! Amenities:  Bldg./Apt. Voice Intercom, On-site Laundry Facilities (and) Heat, Hot Water & Cooking Gas INCLUDED. Let's review specifics and other details when we speak!  Inquire today! .... THIS IS IT! & You DESERVE IT!******  Relax ? You?re home now!?  ******<br /><br /><br /><br />Bond New York is a real estate broker that supports equal housing opportunity.<p><a  website_redacted                                                                                                                                                                                                                                                                                                                                                                                                                                                                                                                                                                                                                            1\n",
              "Name: description, Length: 37853, dtype: int64"
            ]
          },
          "metadata": {
            "tags": []
          },
          "execution_count": 65
        }
      ]
    },
    {
      "cell_type": "markdown",
      "metadata": {
        "id": "5J9JyS1Qagxa",
        "colab_type": "text"
      },
      "source": [
        "# Split Data"
      ]
    },
    {
      "cell_type": "code",
      "metadata": {
        "id": "Ra8XSLp3aJHV",
        "colab_type": "code",
        "colab": {}
      },
      "source": [
        "# Split FM and TV\n",
        "y = df.price\n",
        "X = df.drop(['price', 'description', 'display_address', 'street_address'], axis=1)"
      ],
      "execution_count": null,
      "outputs": []
    },
    {
      "cell_type": "code",
      "metadata": {
        "id": "LhkQ9IMfa6ZE",
        "colab_type": "code",
        "colab": {}
      },
      "source": [
        "# Use data from April & May 2016 to train\n",
        "# Use data from June 2016 to test\n",
        "cutoff = '2016-06-01'\n",
        "mask = X.index < cutoff\n",
        "\n",
        "X_train, y_train = X.loc[mask], y.loc[mask]\n",
        "X_val, y_val = X.loc[~mask], y.loc[~mask]"
      ],
      "execution_count": null,
      "outputs": []
    },
    {
      "cell_type": "code",
      "metadata": {
        "id": "wsRZ-11fa7HP",
        "colab_type": "code",
        "colab": {}
      },
      "source": [
        "# Sanity check\n",
        "assert X_train.shape[0] + X_val.shape[0] == X.shape[0]"
      ],
      "execution_count": null,
      "outputs": []
    },
    {
      "cell_type": "markdown",
      "metadata": {
        "id": "E7Mh67d_b37Y",
        "colab_type": "text"
      },
      "source": [
        "#  Establish Baseline"
      ]
    },
    {
      "cell_type": "code",
      "metadata": {
        "id": "ddsDO8RlbkG3",
        "colab_type": "code",
        "colab": {
          "base_uri": "https://localhost:8080/",
          "height": 282
        },
        "outputId": "46396bf2-80c7-41b9-c416-6db1cb6ad874"
      },
      "source": [
        "y_train.plot(kind='hist')"
      ],
      "execution_count": null,
      "outputs": [
        {
          "output_type": "execute_result",
          "data": {
            "text/plain": [
              "<matplotlib.axes._subplots.AxesSubplot at 0x7f8db29f8400>"
            ]
          },
          "metadata": {
            "tags": []
          },
          "execution_count": 69
        },
        {
          "output_type": "display_data",
          "data": {
            "image/png": "[encoded data removed]",
            "text/plain": [
              "<Figure size 432x288 with 1 Axes>"
            ]
          },
          "metadata": {
            "tags": [],
            "needs_background": "light"
          }
        }
      ]
    },
    {
      "cell_type": "code",
      "metadata": {
        "id": "w7FY1ouJcOyx",
        "colab_type": "code",
        "colab": {
          "base_uri": "https://localhost:8080/",
          "height": 34
        },
        "outputId": "736f3ccf-2cb7-4a89-c0f0-3d07eb1759b6"
      },
      "source": [
        "from sklearn.metrics import mean_absolute_error\n",
        "\n",
        "print('Baseline MAE:', mean_absolute_error(y_train, [y_train.mean()]*len(y_train)))"
      ],
      "execution_count": null,
      "outputs": [
        {
          "output_type": "stream",
          "text": [
            "Baseline MAE: 1201.8811133682555\n"
          ],
          "name": "stdout"
        }
      ]
    },
    {
      "cell_type": "markdown",
      "metadata": {
        "id": "bdhv4W-OdcdX",
        "colab_type": "text"
      },
      "source": [
        "# Build Model"
      ]
    },
    {
      "cell_type": "markdown",
      "metadata": {
        "id": "oUGCOmqmiaG6",
        "colab_type": "text"
      },
      "source": [
        "## Transformer #1: One hot encoding"
      ]
    },
    {
      "cell_type": "code",
      "metadata": {
        "id": "3ZqF14CVfiVk",
        "colab_type": "code",
        "colab": {}
      },
      "source": [
        "from category_encoders import OneHotEncoder\n",
        "from sklearn.linear_model import LinearRegression"
      ],
      "execution_count": null,
      "outputs": []
    },
    {
      "cell_type": "code",
      "metadata": {
        "id": "ch_EZZ89ijZG",
        "colab_type": "code",
        "colab": {
          "base_uri": "https://localhost:8080/",
          "height": 34
        },
        "outputId": "0a366dbf-c168-42a4-88e9-824b1eed275d"
      },
      "source": [
        "# Instantiate Transformer\n",
        "ohe = OneHotEncoder(cols=['interest_level'], use_cat_names=True)\n",
        "\n",
        "# Transform Feature Matrix\n",
        "XT_train = ohe.fit_transform(X_train)\n",
        "\n",
        "# Instantiate Predictor\n",
        "model = LinearRegression()\n",
        "\n",
        "# Fit on the TRANSFORMED data\n",
        "model.fit(XT_train, y_train)"
      ],
      "execution_count": null,
      "outputs": [
        {
          "output_type": "execute_result",
          "data": {
            "text/plain": [
              "LinearRegression(copy_X=True, fit_intercept=True, n_jobs=None, normalize=False)"
            ]
          },
          "metadata": {
            "tags": []
          },
          "execution_count": 74
        }
      ]
    },
    {
      "cell_type": "code",
      "metadata": {
        "id": "qYht28PijHBS",
        "colab_type": "code",
        "colab": {}
      },
      "source": [
        "y_pred_train = model.predict(XT_train)\n",
        "\n",
        "# Note that we DON'T retrain the transformer\n",
        "XT_val = ohe.transform(X_val)\n",
        "y_pred_val = model.predict(XT_val)"
      ],
      "execution_count": null,
      "outputs": []
    },
    {
      "cell_type": "code",
      "metadata": {
        "id": "-uIufMfgpR0s",
        "colab_type": "code",
        "colab": {
          "base_uri": "https://localhost:8080/",
          "height": 51
        },
        "outputId": "8f22da95-7d03-443c-e4aa-bcbb2f67a161"
      },
      "source": [
        "print('Training MAE:', mean_absolute_error(y_train, y_pred_train))\n",
        "print('Validation MAE:', mean_absolute_error(y_val, y_pred_val))"
      ],
      "execution_count": null,
      "outputs": [
        {
          "output_type": "stream",
          "text": [
            "Training MAE: 673.1551409557138\n",
            "Validation MAE: 676.1110962539769\n"
          ],
          "name": "stdout"
        }
      ]
    },
    {
      "cell_type": "code",
      "metadata": {
        "id": "-j42Md4wpzDT",
        "colab_type": "code",
        "colab": {
          "base_uri": "https://localhost:8080/",
          "height": 34
        },
        "outputId": "56f7a542-9096-4dd8-ef1c-df0f5afff9cd"
      },
      "source": [
        "model.score(XT_val, y_val)"
      ],
      "execution_count": null,
      "outputs": [
        {
          "output_type": "execute_result",
          "data": {
            "text/plain": [
              "0.6480261897419933"
            ]
          },
          "metadata": {
            "tags": []
          },
          "execution_count": 80
        }
      ]
    },
    {
      "cell_type": "markdown",
      "metadata": {
        "id": "Wa6lH7MBvzvb",
        "colab_type": "text"
      },
      "source": [
        "## Transformer #2: SelectKBest"
      ]
    },
    {
      "cell_type": "code",
      "metadata": {
        "id": "yPhzEVg1xhI5",
        "colab_type": "code",
        "colab": {
          "base_uri": "https://localhost:8080/",
          "height": 34
        },
        "outputId": "e96babc0-e597-459c-b3ee-ef0f94460543"
      },
      "source": [
        "len(X_train.columns)"
      ],
      "execution_count": null,
      "outputs": [
        {
          "output_type": "execute_result",
          "data": {
            "text/plain": [
              "29"
            ]
          },
          "metadata": {
            "tags": []
          },
          "execution_count": 98
        }
      ]
    },
    {
      "cell_type": "code",
      "metadata": {
        "id": "5rJN7MrUvzEU",
        "colab_type": "code",
        "colab": {}
      },
      "source": [
        "from sklearn.feature_selection import SelectKBest\n",
        "\n",
        "k_values = list(range(1,len(X_train.columns)+1))\n",
        "r2_scores = []\n",
        "\n",
        "for k in k_values:\n",
        "  # Instantiate Transformer 1\n",
        "  ohe = OneHotEncoder(cols=['interest_level'], use_cat_names=True)\n",
        "\n",
        "  # Fit_transform 1\n",
        "  XT_train = ohe.fit_transform(X_train)\n",
        "\n",
        "  # Instantiate Transformer 2\n",
        "  skb = SelectKBest(k=k)\n",
        "\n",
        "  # Fit_transform 2\n",
        "  XTT_train = skb.fit_transform(XT_train, y_train)\n",
        "\n",
        "  # Instantiate Predictor\n",
        "  model = LinearRegression()\n",
        "\n",
        "  # Fit on the DOUBLE-TRANSFORMED data\n",
        "  model.fit(XTT_train, y_train)\n",
        "\n",
        "  # Get R^2 score\n",
        "  r2_scores.append(model.score(XTT_train, y_train))"
      ],
      "execution_count": null,
      "outputs": []
    },
    {
      "cell_type": "code",
      "metadata": {
        "id": "SK0Rn9IPwixN",
        "colab_type": "code",
        "colab": {
          "base_uri": "https://localhost:8080/",
          "height": 279
        },
        "outputId": "90a1e05d-9e77-4218-a934-fd54c97c5406"
      },
      "source": [
        "import matplotlib.pyplot as plt\n",
        "plt.plot(k_values, r2_scores)\n",
        "plt.xlabel('k (number of features selected)')\n",
        "plt.ylabel('$R^2$ score');"
      ],
      "execution_count": null,
      "outputs": [
        {
          "output_type": "display_data",
          "data": {
            "image/png": "[encoded data removed]",
            "text/plain": [
              "<Figure size 432x288 with 1 Axes>"
            ]
          },
          "metadata": {
            "tags": [],
            "needs_background": "light"
          }
        }
      ]
    },
    {
      "cell_type": "markdown",
      "metadata": {
        "id": "bhxAA1zHujod",
        "colab_type": "text"
      },
      "source": [
        "## Predictor: Ridge"
      ]
    },
    {
      "cell_type": "code",
      "metadata": {
        "id": "0dwh6r0LqH5U",
        "colab_type": "code",
        "colab": {}
      },
      "source": [
        "from sklearn.linear_model import Ridge"
      ],
      "execution_count": null,
      "outputs": []
    },
    {
      "cell_type": "code",
      "metadata": {
        "id": "1WCt-htcunQy",
        "colab_type": "code",
        "colab": {
          "base_uri": "https://localhost:8080/",
          "height": 51
        },
        "outputId": "3b2c4ac2-5afc-4e60-a124-a236b72f3750"
      },
      "source": [
        "model2 = Ridge()\n",
        "model2.fit(XT_train, y_train)"
      ],
      "execution_count": null,
      "outputs": [
        {
          "output_type": "execute_result",
          "data": {
            "text/plain": [
              "Ridge(alpha=1.0, copy_X=True, fit_intercept=True, max_iter=None,\n",
              "      normalize=False, random_state=None, solver='auto', tol=0.001)"
            ]
          },
          "metadata": {
            "tags": []
          },
          "execution_count": 83
        }
      ]
    },
    {
      "cell_type": "code",
      "metadata": {
        "id": "vGZm0mqxuzyi",
        "colab_type": "code",
        "colab": {
          "base_uri": "https://localhost:8080/",
          "height": 34
        },
        "outputId": "e8aaeb20-0cb8-4013-9d17-03ac61fde328"
      },
      "source": [
        "model2.score(XT_val, y_val)"
      ],
      "execution_count": null,
      "outputs": [
        {
          "output_type": "execute_result",
          "data": {
            "text/plain": [
              "0.6479903964652333"
            ]
          },
          "metadata": {
            "tags": []
          },
          "execution_count": 86
        }
      ]
    },
    {
      "cell_type": "code",
      "metadata": {
        "id": "WIZI9yjiu5Wg",
        "colab_type": "code",
        "colab": {}
      },
      "source": [
        ""
      ],
      "execution_count": null,
      "outputs": []
    }
  ]
}