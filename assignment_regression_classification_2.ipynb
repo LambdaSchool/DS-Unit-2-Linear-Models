{
  "nbformat": 4,
  "nbformat_minor": 0,
  "metadata": {
    "colab": {
      "name": "assignment_regression_classification_2.ipynb",
      "version": "0.3.2",
      "provenance": [],
      "collapsed_sections": [],
      "include_colab_link": true
    },
    "kernelspec": {
      "name": "python3",
      "display_name": "Python 3"
    }
  },
  "cells": [
    {
      "cell_type": "markdown",
      "metadata": {
        "id": "view-in-github",
        "colab_type": "text"
      },
      "source": [
        "<a href=\"https://colab.research.google.com/github/Neha-kumari31/DS-Unit-2-Regression-Classification/blob/master/assignment_regression_classification_2.ipynb\" target=\"_parent\"><img src=\"https://colab.research.google.com/assets/colab-badge.svg\" alt=\"Open In Colab\"/></a>"
      ]
    },
    {
      "cell_type": "markdown",
      "metadata": {
        "id": "7IXUfiQ2UKj6",
        "colab_type": "text"
      },
      "source": [
        "Lambda School Data Science, Unit 2: Predictive Modeling\n",
        "\n",
        "# Regression & Classification, Module 2\n",
        "\n",
        "## Assignment\n",
        "\n",
        "You'll continue to **predict how much it costs to rent an apartment in NYC,** using the dataset from renthop.com.\n",
        "\n",
        "- [X] Do train/test split. Use data from April & May 2016 to train. Use data from June 2016 to test.\n",
        "- [X] Engineer at least two new features. (See below for explanation & ideas.)\n",
        "- [X] Fit a linear regression model with at least two features.\n",
        "- [X] Get the model's coefficients and intercept.\n",
        "- [X] Get regression metrics RMSE, MAE, and $R^2$, for both the train and test data.\n",
        "- [X] What's the best test MAE you can get? Share your score and features used with your cohort on Slack!\n",
        "- [X] As always, commit your notebook to your fork of the GitHub repo.\n",
        "\n",
        "\n",
        "#### [Feature Engineering](https://en.wikipedia.org/wiki/Feature_engineering)\n",
        "\n",
        "> \"Some machine learning projects succeed and some fail. What makes the difference? Easily the most important factor is the features used.\" — Pedro Domingos, [\"A Few Useful Things to Know about Machine Learning\"](https://homes.cs.washington.edu/~pedrod/papers/cacm12.pdf)\n",
        "\n",
        "> \"Coming up with features is difficult, time-consuming, requires expert knowledge. 'Applied machine learning' is basically feature engineering.\" — Andrew Ng, [Machine Learning and AI via Brain simulations](https://forum.stanford.edu/events/2011/2011slides/plenary/2011plenaryNg.pdf) \n",
        "\n",
        "> Feature engineering is the process of using domain knowledge of the data to create features that make machine learning algorithms work. \n",
        "\n",
        "#### Feature Ideas\n",
        "- Does the apartment have a description?\n",
        "- How long is the description?\n",
        "- How many total perks does each apartment have?\n",
        "- Are cats _or_ dogs allowed?\n",
        "- Are cats _and_ dogs allowed?\n",
        "- Total number of rooms (beds + baths)\n",
        "- Ratio of beds to baths\n",
        "- What's the neighborhood, based on address or latitude & longitude?\n",
        "\n",
        "## Stretch Goals\n",
        "- [X] If you want more math, skim [_An Introduction to Statistical Learning_](http://faculty.marshall.usc.edu/gareth-james/ISL/ISLR%20Seventh%20Printing.pdf),  Chapter 3.1, Simple Linear Regression, & Chapter 3.2, Multiple Linear Regression\n",
        "- [X] If you want more introduction, watch [Brandon Foltz, Statistics 101: Simple Linear Regression](https://www.youtube.com/watch?v=ZkjP5RJLQF4)\n",
        "(20 minutes, over 1 million views)\n",
        "- [X] Do the [Plotly Dash](https://dash.plot.ly/) Tutorial, Parts 1 & 2.\n",
        "- [ ] Add your own stretch goal(s) !"
      ]
    },
    {
      "cell_type": "code",
      "metadata": {
        "id": "o9eSnDYhUGD7",
        "colab_type": "code",
        "outputId": "bf2d7c13-cadf-4e4c-8ca5-8bfdd21cf915",
        "colab": {
          "base_uri": "https://localhost:8080/",
          "height": 1000
        }
      },
      "source": [
        "# If you're in Colab...\n",
        "import os, sys\n",
        "in_colab = 'google.colab' in sys.modules\n",
        "\n",
        "if in_colab:\n",
        "    # Install required python packages:\n",
        "    # pandas-profiling, version >= 2.0\n",
        "    # plotly, version >= 4.0\n",
        "    !pip install --upgrade pandas-profiling plotly\n",
        "    \n",
        "    # Pull files from Github repo\n",
        "    os.chdir('/content')\n",
        "    !git init .\n",
        "    !git remote add origin https://github.com/LambdaSchool/DS-Unit-2-Regression-Classification.git\n",
        "    !git pull origin master\n",
        "    \n",
        "    # Change into directory for module\n",
        "    os.chdir('module2')"
      ],
      "execution_count": 0,
      "outputs": [
        {
          "output_type": "stream",
          "text": [
            "Collecting pandas-profiling\n",
            "\u001b[?25l  Downloading https://files.pythonhosted.org/packages/2c/2f/aae19e2173c10a9bb7fee5f5cad35dbe53a393960fc91abc477dcc4661e8/pandas-profiling-2.3.0.tar.gz (127kB)\n",
            "\r\u001b[K     |██▋                             | 10kB 18.6MB/s eta 0:00:01\r\u001b[K     |█████▏                          | 20kB 6.3MB/s eta 0:00:01\r\u001b[K     |███████▊                        | 30kB 8.8MB/s eta 0:00:01\r\u001b[K     |██████████▎                     | 40kB 5.7MB/s eta 0:00:01\r\u001b[K     |████████████▉                   | 51kB 6.9MB/s eta 0:00:01\r\u001b[K     |███████████████▍                | 61kB 8.1MB/s eta 0:00:01\r\u001b[K     |██████████████████              | 71kB 9.3MB/s eta 0:00:01\r\u001b[K     |████████████████████▋           | 81kB 10.4MB/s eta 0:00:01\r\u001b[K     |███████████████████████▏        | 92kB 11.5MB/s eta 0:00:01\r\u001b[K     |█████████████████████████▊      | 102kB 9.3MB/s eta 0:00:01\r\u001b[K     |████████████████████████████▎   | 112kB 9.3MB/s eta 0:00:01\r\u001b[K     |██████████████████████████████▉ | 122kB 9.3MB/s eta 0:00:01\r\u001b[K     |████████████████████████████████| 133kB 9.3MB/s \n",
            "\u001b[?25hRequirement already up-to-date: plotly in /usr/local/lib/python3.6/dist-packages (4.1.1)\n",
            "Requirement already satisfied, skipping upgrade: pandas>=0.19 in /usr/local/lib/python3.6/dist-packages (from pandas-profiling) (0.24.2)\n",
            "Requirement already satisfied, skipping upgrade: matplotlib>=1.4 in /usr/local/lib/python3.6/dist-packages (from pandas-profiling) (3.0.3)\n",
            "Requirement already satisfied, skipping upgrade: jinja2>=2.8 in /usr/local/lib/python3.6/dist-packages (from pandas-profiling) (2.10.1)\n",
            "Requirement already satisfied, skipping upgrade: missingno>=0.4.2 in /usr/local/lib/python3.6/dist-packages (from pandas-profiling) (0.4.2)\n",
            "Collecting htmlmin>=0.1.12 (from pandas-profiling)\n",
            "  Downloading https://files.pythonhosted.org/packages/b3/e7/fcd59e12169de19f0131ff2812077f964c6b960e7c09804d30a7bf2ab461/htmlmin-0.1.12.tar.gz\n",
            "Collecting phik>=0.9.8 (from pandas-profiling)\n",
            "\u001b[?25l  Downloading https://files.pythonhosted.org/packages/45/ad/24a16fa4ba612fb96a3c4bb115a5b9741483f53b66d3d3afd987f20fa227/phik-0.9.8-py3-none-any.whl (606kB)\n",
            "\u001b[K     |████████████████████████████████| 614kB 34.2MB/s \n",
            "\u001b[?25hCollecting confuse>=1.0.0 (from pandas-profiling)\n",
            "  Downloading https://files.pythonhosted.org/packages/4c/6f/90e860cba937c174d8b3775729ccc6377eb91f52ad4eeb008e7252a3646d/confuse-1.0.0.tar.gz\n",
            "Requirement already satisfied, skipping upgrade: astropy in /usr/local/lib/python3.6/dist-packages (from pandas-profiling) (3.0.5)\n",
            "Requirement already satisfied, skipping upgrade: six in /usr/local/lib/python3.6/dist-packages (from plotly) (1.12.0)\n",
            "Requirement already satisfied, skipping upgrade: retrying>=1.3.3 in /usr/local/lib/python3.6/dist-packages (from plotly) (1.3.3)\n",
            "Requirement already satisfied, skipping upgrade: numpy>=1.12.0 in /usr/local/lib/python3.6/dist-packages (from pandas>=0.19->pandas-profiling) (1.16.5)\n",
            "Requirement already satisfied, skipping upgrade: pytz>=2011k in /usr/local/lib/python3.6/dist-packages (from pandas>=0.19->pandas-profiling) (2018.9)\n",
            "Requirement already satisfied, skipping upgrade: python-dateutil>=2.5.0 in /usr/local/lib/python3.6/dist-packages (from pandas>=0.19->pandas-profiling) (2.5.3)\n",
            "Requirement already satisfied, skipping upgrade: cycler>=0.10 in /usr/local/lib/python3.6/dist-packages (from matplotlib>=1.4->pandas-profiling) (0.10.0)\n",
            "Requirement already satisfied, skipping upgrade: kiwisolver>=1.0.1 in /usr/local/lib/python3.6/dist-packages (from matplotlib>=1.4->pandas-profiling) (1.1.0)\n",
            "Requirement already satisfied, skipping upgrade: pyparsing!=2.0.4,!=2.1.2,!=2.1.6,>=2.0.1 in /usr/local/lib/python3.6/dist-packages (from matplotlib>=1.4->pandas-profiling) (2.4.2)\n",
            "Requirement already satisfied, skipping upgrade: MarkupSafe>=0.23 in /usr/local/lib/python3.6/dist-packages (from jinja2>=2.8->pandas-profiling) (1.1.1)\n",
            "Requirement already satisfied, skipping upgrade: scipy in /usr/local/lib/python3.6/dist-packages (from missingno>=0.4.2->pandas-profiling) (1.3.1)\n",
            "Requirement already satisfied, skipping upgrade: seaborn in /usr/local/lib/python3.6/dist-packages (from missingno>=0.4.2->pandas-profiling) (0.9.0)\n",
            "Collecting pytest>=4.0.2 (from phik>=0.9.8->pandas-profiling)\n",
            "\u001b[?25l  Downloading https://files.pythonhosted.org/packages/2f/19/d5f71752f71451ccc5ed5f6739e9da4a235f38783fdaf3629cae41b2ca7b/pytest-5.1.2-py3-none-any.whl (224kB)\n",
            "\u001b[K     |████████████████████████████████| 225kB 49.8MB/s \n",
            "\u001b[?25hCollecting pytest-pylint>=0.13.0 (from phik>=0.9.8->pandas-profiling)\n",
            "  Downloading https://files.pythonhosted.org/packages/64/dc/6f35f114844fb12e38d60c4f3d2441a55baff7043ad4e013777dff55746c/pytest_pylint-0.14.1-py3-none-any.whl\n",
            "Requirement already satisfied, skipping upgrade: jupyter-client>=5.2.3 in /usr/local/lib/python3.6/dist-packages (from phik>=0.9.8->pandas-profiling) (5.3.1)\n",
            "Requirement already satisfied, skipping upgrade: numba>=0.38.1 in /usr/local/lib/python3.6/dist-packages (from phik>=0.9.8->pandas-profiling) (0.40.1)\n",
            "Requirement already satisfied, skipping upgrade: nbconvert>=5.3.1 in /usr/local/lib/python3.6/dist-packages (from phik>=0.9.8->pandas-profiling) (5.6.0)\n",
            "Requirement already satisfied, skipping upgrade: pyyaml in /usr/local/lib/python3.6/dist-packages (from confuse>=1.0.0->pandas-profiling) (3.13)\n",
            "Requirement already satisfied, skipping upgrade: setuptools in /usr/local/lib/python3.6/dist-packages (from kiwisolver>=1.0.1->matplotlib>=1.4->pandas-profiling) (41.2.0)\n",
            "Requirement already satisfied, skipping upgrade: attrs>=17.4.0 in /usr/local/lib/python3.6/dist-packages (from pytest>=4.0.2->phik>=0.9.8->pandas-profiling) (19.1.0)\n",
            "Requirement already satisfied, skipping upgrade: more-itertools>=4.0.0 in /usr/local/lib/python3.6/dist-packages (from pytest>=4.0.2->phik>=0.9.8->pandas-profiling) (7.2.0)\n",
            "Collecting pluggy<1.0,>=0.12 (from pytest>=4.0.2->phik>=0.9.8->pandas-profiling)\n",
            "  Downloading https://files.pythonhosted.org/packages/92/c7/48439f7d5fd6bddb4c04b850bb862b42e3e2b98570040dfaf68aedd8114b/pluggy-0.13.0-py2.py3-none-any.whl\n",
            "Requirement already satisfied, skipping upgrade: importlib-metadata>=0.12; python_version < \"3.8\" in /usr/local/lib/python3.6/dist-packages (from pytest>=4.0.2->phik>=0.9.8->pandas-profiling) (0.20)\n",
            "Requirement already satisfied, skipping upgrade: packaging in /usr/local/lib/python3.6/dist-packages (from pytest>=4.0.2->phik>=0.9.8->pandas-profiling) (19.1)\n",
            "Requirement already satisfied, skipping upgrade: py>=1.5.0 in /usr/local/lib/python3.6/dist-packages (from pytest>=4.0.2->phik>=0.9.8->pandas-profiling) (1.8.0)\n",
            "Requirement already satisfied, skipping upgrade: atomicwrites>=1.0 in /usr/local/lib/python3.6/dist-packages (from pytest>=4.0.2->phik>=0.9.8->pandas-profiling) (1.3.0)\n",
            "Requirement already satisfied, skipping upgrade: wcwidth in /usr/local/lib/python3.6/dist-packages (from pytest>=4.0.2->phik>=0.9.8->pandas-profiling) (0.1.7)\n",
            "Collecting pylint>=1.4.5 (from pytest-pylint>=0.13.0->phik>=0.9.8->pandas-profiling)\n",
            "\u001b[?25l  Downloading https://files.pythonhosted.org/packages/60/c2/b3f73f4ac008bef6e75bca4992f3963b3f85942e0277237721ef1c151f0d/pylint-2.3.1-py3-none-any.whl (765kB)\n",
            "\u001b[K     |████████████████████████████████| 768kB 36.6MB/s \n",
            "\u001b[?25hRequirement already satisfied, skipping upgrade: jupyter-core in /usr/local/lib/python3.6/dist-packages (from jupyter-client>=5.2.3->phik>=0.9.8->pandas-profiling) (4.5.0)\n",
            "Requirement already satisfied, skipping upgrade: pyzmq>=13 in /usr/local/lib/python3.6/dist-packages (from jupyter-client>=5.2.3->phik>=0.9.8->pandas-profiling) (17.0.0)\n",
            "Requirement already satisfied, skipping upgrade: traitlets in /usr/local/lib/python3.6/dist-packages (from jupyter-client>=5.2.3->phik>=0.9.8->pandas-profiling) (4.3.2)\n",
            "Requirement already satisfied, skipping upgrade: tornado>=4.1 in /usr/local/lib/python3.6/dist-packages (from jupyter-client>=5.2.3->phik>=0.9.8->pandas-profiling) (4.5.3)\n",
            "Requirement already satisfied, skipping upgrade: llvmlite>=0.25.0dev0 in /usr/local/lib/python3.6/dist-packages (from numba>=0.38.1->phik>=0.9.8->pandas-profiling) (0.29.0)\n",
            "Requirement already satisfied, skipping upgrade: mistune<2,>=0.8.1 in /usr/local/lib/python3.6/dist-packages (from nbconvert>=5.3.1->phik>=0.9.8->pandas-profiling) (0.8.4)\n",
            "Requirement already satisfied, skipping upgrade: bleach in /usr/local/lib/python3.6/dist-packages (from nbconvert>=5.3.1->phik>=0.9.8->pandas-profiling) (3.1.0)\n",
            "Requirement already satisfied, skipping upgrade: pygments in /usr/local/lib/python3.6/dist-packages (from nbconvert>=5.3.1->phik>=0.9.8->pandas-profiling) (2.1.3)\n",
            "Requirement already satisfied, skipping upgrade: defusedxml in /usr/local/lib/python3.6/dist-packages (from nbconvert>=5.3.1->phik>=0.9.8->pandas-profiling) (0.6.0)\n",
            "Requirement already satisfied, skipping upgrade: testpath in /usr/local/lib/python3.6/dist-packages (from nbconvert>=5.3.1->phik>=0.9.8->pandas-profiling) (0.4.2)\n",
            "Requirement already satisfied, skipping upgrade: nbformat>=4.4 in /usr/local/lib/python3.6/dist-packages (from nbconvert>=5.3.1->phik>=0.9.8->pandas-profiling) (4.4.0)\n",
            "Requirement already satisfied, skipping upgrade: entrypoints>=0.2.2 in /usr/local/lib/python3.6/dist-packages (from nbconvert>=5.3.1->phik>=0.9.8->pandas-profiling) (0.3)\n",
            "Requirement already satisfied, skipping upgrade: pandocfilters>=1.4.1 in /usr/local/lib/python3.6/dist-packages (from nbconvert>=5.3.1->phik>=0.9.8->pandas-profiling) (1.4.2)\n",
            "Requirement already satisfied, skipping upgrade: zipp>=0.5 in /usr/local/lib/python3.6/dist-packages (from importlib-metadata>=0.12; python_version < \"3.8\"->pytest>=4.0.2->phik>=0.9.8->pandas-profiling) (0.6.0)\n",
            "Collecting astroid<3,>=2.2.0 (from pylint>=1.4.5->pytest-pylint>=0.13.0->phik>=0.9.8->pandas-profiling)\n",
            "\u001b[?25l  Downloading https://files.pythonhosted.org/packages/d5/ad/7221a62a2dbce5c3b8c57fd18e1052c7331adc19b3f27f1561aa6e620db2/astroid-2.2.5-py3-none-any.whl (193kB)\n",
            "\u001b[K     |████████████████████████████████| 194kB 54.7MB/s \n",
            "\u001b[?25hCollecting mccabe<0.7,>=0.6 (from pylint>=1.4.5->pytest-pylint>=0.13.0->phik>=0.9.8->pandas-profiling)\n",
            "  Downloading https://files.pythonhosted.org/packages/87/89/479dc97e18549e21354893e4ee4ef36db1d237534982482c3681ee6e7b57/mccabe-0.6.1-py2.py3-none-any.whl\n",
            "Collecting isort<5,>=4.2.5 (from pylint>=1.4.5->pytest-pylint>=0.13.0->phik>=0.9.8->pandas-profiling)\n",
            "\u001b[?25l  Downloading https://files.pythonhosted.org/packages/e5/b0/c121fd1fa3419ea9bfd55c7f9c4fedfec5143208d8c7ad3ce3db6c623c21/isort-4.3.21-py2.py3-none-any.whl (42kB)\n",
            "\u001b[K     |████████████████████████████████| 51kB 23.9MB/s \n",
            "\u001b[?25hRequirement already satisfied, skipping upgrade: decorator in /usr/local/lib/python3.6/dist-packages (from traitlets->jupyter-client>=5.2.3->phik>=0.9.8->pandas-profiling) (4.4.0)\n",
            "Requirement already satisfied, skipping upgrade: ipython-genutils in /usr/local/lib/python3.6/dist-packages (from traitlets->jupyter-client>=5.2.3->phik>=0.9.8->pandas-profiling) (0.2.0)\n",
            "Requirement already satisfied, skipping upgrade: webencodings in /usr/local/lib/python3.6/dist-packages (from bleach->nbconvert>=5.3.1->phik>=0.9.8->pandas-profiling) (0.5.1)\n",
            "Requirement already satisfied, skipping upgrade: jsonschema!=2.5.0,>=2.4 in /usr/local/lib/python3.6/dist-packages (from nbformat>=4.4->nbconvert>=5.3.1->phik>=0.9.8->pandas-profiling) (2.6.0)\n",
            "Collecting lazy-object-proxy (from astroid<3,>=2.2.0->pylint>=1.4.5->pytest-pylint>=0.13.0->phik>=0.9.8->pandas-profiling)\n",
            "\u001b[?25l  Downloading https://files.pythonhosted.org/packages/0e/26/534a6d32572a9dbca11619321535c0a7ab34688545d9d67c2c204b9e3a3d/lazy_object_proxy-1.4.2-cp36-cp36m-manylinux1_x86_64.whl (49kB)\n",
            "\u001b[K     |████████████████████████████████| 51kB 23.1MB/s \n",
            "\u001b[?25hCollecting typed-ast>=1.3.0; implementation_name == \"cpython\" (from astroid<3,>=2.2.0->pylint>=1.4.5->pytest-pylint>=0.13.0->phik>=0.9.8->pandas-profiling)\n",
            "\u001b[?25l  Downloading https://files.pythonhosted.org/packages/31/d3/9d1802c161626d0278bafb1ffb32f76b9d01e123881bbf9d91e8ccf28e18/typed_ast-1.4.0-cp36-cp36m-manylinux1_x86_64.whl (736kB)\n",
            "\u001b[K     |████████████████████████████████| 737kB 50.9MB/s \n",
            "\u001b[?25hRequirement already satisfied, skipping upgrade: wrapt in /usr/local/lib/python3.6/dist-packages (from astroid<3,>=2.2.0->pylint>=1.4.5->pytest-pylint>=0.13.0->phik>=0.9.8->pandas-profiling) (1.11.2)\n",
            "Building wheels for collected packages: pandas-profiling, htmlmin, confuse\n",
            "  Building wheel for pandas-profiling (setup.py) ... \u001b[?25l\u001b[?25hdone\n",
            "  Created wheel for pandas-profiling: filename=pandas_profiling-2.3.0-py2.py3-none-any.whl size=145035 sha256=c008d155cab530ebaeeef883fbdc3761832bafe33f74a720ebcd0aedbd1e7e2f\n",
            "  Stored in directory: /root/.cache/pip/wheels/ce/c7/f1/dbfef4848ebb048cb1d4a22d1ed0c62d8ff2523747235e19fe\n",
            "  Building wheel for htmlmin (setup.py) ... \u001b[?25l\u001b[?25hdone\n",
            "  Created wheel for htmlmin: filename=htmlmin-0.1.12-cp36-none-any.whl size=27084 sha256=23fa9e8e7cbc506f87d5345d512a75e5eb00f3ca3ecb70346fca43a6cf0a085c\n",
            "  Stored in directory: /root/.cache/pip/wheels/43/07/ac/7c5a9d708d65247ac1f94066cf1db075540b85716c30255459\n",
            "  Building wheel for confuse (setup.py) ... \u001b[?25l\u001b[?25hdone\n",
            "  Created wheel for confuse: filename=confuse-1.0.0-cp36-none-any.whl size=17486 sha256=d69902f90c52cf2218773c1bc7e4e054432aae650910925ccb82aa48288bd7c2\n",
            "  Stored in directory: /root/.cache/pip/wheels/b0/b2/96/2074eee7dbf7b7df69d004c9b6ac4e32dad04fb7666cf943bd\n",
            "Successfully built pandas-profiling htmlmin confuse\n",
            "\u001b[31mERROR: datascience 0.10.6 has requirement folium==0.2.1, but you'll have folium 0.8.3 which is incompatible.\u001b[0m\n",
            "Installing collected packages: htmlmin, pluggy, pytest, lazy-object-proxy, typed-ast, astroid, mccabe, isort, pylint, pytest-pylint, phik, confuse, pandas-profiling\n",
            "  Found existing installation: pluggy 0.7.1\n",
            "    Uninstalling pluggy-0.7.1:\n",
            "      Successfully uninstalled pluggy-0.7.1\n",
            "  Found existing installation: pytest 3.6.4\n",
            "    Uninstalling pytest-3.6.4:\n",
            "      Successfully uninstalled pytest-3.6.4\n",
            "  Found existing installation: pandas-profiling 1.4.1\n",
            "    Uninstalling pandas-profiling-1.4.1:\n",
            "      Successfully uninstalled pandas-profiling-1.4.1\n",
            "Successfully installed astroid-2.2.5 confuse-1.0.0 htmlmin-0.1.12 isort-4.3.21 lazy-object-proxy-1.4.2 mccabe-0.6.1 pandas-profiling-2.3.0 phik-0.9.8 pluggy-0.13.0 pylint-2.3.1 pytest-5.1.2 pytest-pylint-0.14.1 typed-ast-1.4.0\n",
            "Initialized empty Git repository in /content/.git/\n",
            "remote: Enumerating objects: 104, done.\u001b[K\n",
            "remote: Total 104 (delta 0), reused 0 (delta 0), pack-reused 104\u001b[K\n",
            "Receiving objects: 100% (104/104), 17.31 MiB | 13.31 MiB/s, done.\n",
            "Resolving deltas: 100% (41/41), done.\n",
            "From https://github.com/LambdaSchool/DS-Unit-2-Regression-Classification\n",
            " * branch            master     -> FETCH_HEAD\n",
            " * [new branch]      master     -> origin/master\n"
          ],
          "name": "stdout"
        }
      ]
    },
    {
      "cell_type": "code",
      "metadata": {
        "id": "ipBYS77PUwNR",
        "colab_type": "code",
        "colab": {}
      },
      "source": [
        "# Ignore this Numpy warning when using Plotly Express:\n",
        "# FutureWarning: Method .ptp is deprecated and will be removed in a future version. Use numpy.ptp instead.\n",
        "import warnings\n",
        "warnings.filterwarnings(action='ignore', category=FutureWarning, module='numpy')"
      ],
      "execution_count": 0,
      "outputs": []
    },
    {
      "cell_type": "code",
      "metadata": {
        "id": "cvrw-T3bZOuW",
        "colab_type": "code",
        "outputId": "9a43d2d9-73d3-4ada-e009-6172c9e9ed04",
        "colab": {
          "base_uri": "https://localhost:8080/",
          "height": 501
        }
      },
      "source": [
        "# Use these functions later\n",
        "\n",
        "%matplotlib inline\n",
        "import matplotlib.pyplot as plt\n",
        "import seaborn as sns\n",
        "import numpy as np\n",
        "import pandas as pd\n",
        "import plotly.express as px\n",
        "import plotly.graph_objs as go\n",
        "\n",
        "# Read New York City apartment rental listing data\n",
        "df = pd.read_csv('../data/renthop-nyc.csv')\n",
        "assert df.shape == (49352, 34)\n",
        "\n",
        "# Remove the most extreme 1% prices,\n",
        "# the most extreme .1% latitudes, &\n",
        "# the most extreme .1% longitudes\n",
        "df = df[(df['price'] >= np.percentile(df['price'], 0.5)) & \n",
        "        (df['price'] <= np.percentile(df['price'], 99.5)) & \n",
        "        (df['latitude'] >= np.percentile(df['latitude'], 0.05)) & \n",
        "        (df['latitude'] < np.percentile(df['latitude'], 99.95)) &\n",
        "        (df['longitude'] >= np.percentile(df['longitude'], 0.05)) & \n",
        "        (df['longitude'] <= np.percentile(df['longitude'], 99.95))]\n",
        "\n",
        "df['created'] = pd.to_datetime(df['created'], infer_datetime_format=True)\n",
        "df.head()"
      ],
      "execution_count": 0,
      "outputs": [
        {
          "output_type": "execute_result",
          "data": {
            "text/html": [
              "<div>\n",
              "<style scoped>\n",
              "    .dataframe tbody tr th:only-of-type {\n",
              "        vertical-align: middle;\n",
              "    }\n",
              "\n",
              "    .dataframe tbody tr th {\n",
              "        vertical-align: top;\n",
              "    }\n",
              "\n",
              "    .dataframe thead th {\n",
              "        text-align: right;\n",
              "    }\n",
              "</style>\n",
              "<table border=\"1\" class=\"dataframe\">\n",
              "  <thead>\n",
              "    <tr style=\"text-align: right;\">\n",
              "      <th></th>\n",
              "      <th>bathrooms</th>\n",
              "      <th>bedrooms</th>\n",
              "      <th>created</th>\n",
              "      <th>description</th>\n",
              "      <th>display_address</th>\n",
              "      <th>latitude</th>\n",
              "      <th>longitude</th>\n",
              "      <th>price</th>\n",
              "      <th>street_address</th>\n",
              "      <th>interest_level</th>\n",
              "      <th>elevator</th>\n",
              "      <th>cats_allowed</th>\n",
              "      <th>hardwood_floors</th>\n",
              "      <th>dogs_allowed</th>\n",
              "      <th>doorman</th>\n",
              "      <th>dishwasher</th>\n",
              "      <th>no_fee</th>\n",
              "      <th>laundry_in_building</th>\n",
              "      <th>fitness_center</th>\n",
              "      <th>pre-war</th>\n",
              "      <th>laundry_in_unit</th>\n",
              "      <th>roof_deck</th>\n",
              "      <th>outdoor_space</th>\n",
              "      <th>dining_room</th>\n",
              "      <th>high_speed_internet</th>\n",
              "      <th>balcony</th>\n",
              "      <th>swimming_pool</th>\n",
              "      <th>new_construction</th>\n",
              "      <th>terrace</th>\n",
              "      <th>exclusive</th>\n",
              "      <th>loft</th>\n",
              "      <th>garden_patio</th>\n",
              "      <th>wheelchair_access</th>\n",
              "      <th>common_outdoor_space</th>\n",
              "    </tr>\n",
              "  </thead>\n",
              "  <tbody>\n",
              "    <tr>\n",
              "      <th>0</th>\n",
              "      <td>1.5</td>\n",
              "      <td>3</td>\n",
              "      <td>2016-06-24 07:54:24</td>\n",
              "      <td>A Brand New 3 Bedroom 1.5 bath ApartmentEnjoy ...</td>\n",
              "      <td>Metropolitan Avenue</td>\n",
              "      <td>40.7145</td>\n",
              "      <td>-73.9425</td>\n",
              "      <td>3000</td>\n",
              "      <td>792 Metropolitan Avenue</td>\n",
              "      <td>medium</td>\n",
              "      <td>0</td>\n",
              "      <td>0</td>\n",
              "      <td>0</td>\n",
              "      <td>0</td>\n",
              "      <td>0</td>\n",
              "      <td>0</td>\n",
              "      <td>0</td>\n",
              "      <td>0</td>\n",
              "      <td>0</td>\n",
              "      <td>0</td>\n",
              "      <td>0</td>\n",
              "      <td>0</td>\n",
              "      <td>0</td>\n",
              "      <td>0</td>\n",
              "      <td>0</td>\n",
              "      <td>0</td>\n",
              "      <td>0</td>\n",
              "      <td>0</td>\n",
              "      <td>0</td>\n",
              "      <td>0</td>\n",
              "      <td>0</td>\n",
              "      <td>0</td>\n",
              "      <td>0</td>\n",
              "      <td>0</td>\n",
              "    </tr>\n",
              "    <tr>\n",
              "      <th>1</th>\n",
              "      <td>1.0</td>\n",
              "      <td>2</td>\n",
              "      <td>2016-06-12 12:19:27</td>\n",
              "      <td></td>\n",
              "      <td>Columbus Avenue</td>\n",
              "      <td>40.7947</td>\n",
              "      <td>-73.9667</td>\n",
              "      <td>5465</td>\n",
              "      <td>808 Columbus Avenue</td>\n",
              "      <td>low</td>\n",
              "      <td>1</td>\n",
              "      <td>1</td>\n",
              "      <td>0</td>\n",
              "      <td>1</td>\n",
              "      <td>1</td>\n",
              "      <td>0</td>\n",
              "      <td>0</td>\n",
              "      <td>0</td>\n",
              "      <td>1</td>\n",
              "      <td>0</td>\n",
              "      <td>0</td>\n",
              "      <td>0</td>\n",
              "      <td>0</td>\n",
              "      <td>0</td>\n",
              "      <td>0</td>\n",
              "      <td>0</td>\n",
              "      <td>0</td>\n",
              "      <td>0</td>\n",
              "      <td>0</td>\n",
              "      <td>0</td>\n",
              "      <td>0</td>\n",
              "      <td>0</td>\n",
              "      <td>0</td>\n",
              "      <td>0</td>\n",
              "    </tr>\n",
              "    <tr>\n",
              "      <th>2</th>\n",
              "      <td>1.0</td>\n",
              "      <td>1</td>\n",
              "      <td>2016-04-17 03:26:41</td>\n",
              "      <td>Top Top West Village location, beautiful Pre-w...</td>\n",
              "      <td>W 13 Street</td>\n",
              "      <td>40.7388</td>\n",
              "      <td>-74.0018</td>\n",
              "      <td>2850</td>\n",
              "      <td>241 W 13 Street</td>\n",
              "      <td>high</td>\n",
              "      <td>0</td>\n",
              "      <td>0</td>\n",
              "      <td>1</td>\n",
              "      <td>0</td>\n",
              "      <td>0</td>\n",
              "      <td>1</td>\n",
              "      <td>0</td>\n",
              "      <td>1</td>\n",
              "      <td>0</td>\n",
              "      <td>0</td>\n",
              "      <td>0</td>\n",
              "      <td>0</td>\n",
              "      <td>0</td>\n",
              "      <td>0</td>\n",
              "      <td>0</td>\n",
              "      <td>0</td>\n",
              "      <td>0</td>\n",
              "      <td>0</td>\n",
              "      <td>0</td>\n",
              "      <td>0</td>\n",
              "      <td>0</td>\n",
              "      <td>0</td>\n",
              "      <td>0</td>\n",
              "      <td>0</td>\n",
              "    </tr>\n",
              "    <tr>\n",
              "      <th>3</th>\n",
              "      <td>1.0</td>\n",
              "      <td>1</td>\n",
              "      <td>2016-04-18 02:22:02</td>\n",
              "      <td>Building Amenities - Garage - Garden - fitness...</td>\n",
              "      <td>East 49th Street</td>\n",
              "      <td>40.7539</td>\n",
              "      <td>-73.9677</td>\n",
              "      <td>3275</td>\n",
              "      <td>333 East 49th Street</td>\n",
              "      <td>low</td>\n",
              "      <td>0</td>\n",
              "      <td>0</td>\n",
              "      <td>1</td>\n",
              "      <td>0</td>\n",
              "      <td>0</td>\n",
              "      <td>0</td>\n",
              "      <td>1</td>\n",
              "      <td>0</td>\n",
              "      <td>0</td>\n",
              "      <td>0</td>\n",
              "      <td>0</td>\n",
              "      <td>0</td>\n",
              "      <td>0</td>\n",
              "      <td>0</td>\n",
              "      <td>0</td>\n",
              "      <td>0</td>\n",
              "      <td>0</td>\n",
              "      <td>0</td>\n",
              "      <td>0</td>\n",
              "      <td>0</td>\n",
              "      <td>0</td>\n",
              "      <td>0</td>\n",
              "      <td>0</td>\n",
              "      <td>0</td>\n",
              "    </tr>\n",
              "    <tr>\n",
              "      <th>4</th>\n",
              "      <td>1.0</td>\n",
              "      <td>4</td>\n",
              "      <td>2016-04-28 01:32:41</td>\n",
              "      <td>Beautifully renovated 3 bedroom flex 4 bedroom...</td>\n",
              "      <td>West 143rd Street</td>\n",
              "      <td>40.8241</td>\n",
              "      <td>-73.9493</td>\n",
              "      <td>3350</td>\n",
              "      <td>500 West 143rd Street</td>\n",
              "      <td>low</td>\n",
              "      <td>0</td>\n",
              "      <td>0</td>\n",
              "      <td>0</td>\n",
              "      <td>0</td>\n",
              "      <td>0</td>\n",
              "      <td>0</td>\n",
              "      <td>0</td>\n",
              "      <td>0</td>\n",
              "      <td>0</td>\n",
              "      <td>1</td>\n",
              "      <td>0</td>\n",
              "      <td>0</td>\n",
              "      <td>0</td>\n",
              "      <td>0</td>\n",
              "      <td>0</td>\n",
              "      <td>0</td>\n",
              "      <td>0</td>\n",
              "      <td>0</td>\n",
              "      <td>0</td>\n",
              "      <td>0</td>\n",
              "      <td>0</td>\n",
              "      <td>0</td>\n",
              "      <td>0</td>\n",
              "      <td>0</td>\n",
              "    </tr>\n",
              "  </tbody>\n",
              "</table>\n",
              "</div>"
            ],
            "text/plain": [
              "   bathrooms  bedrooms  ... wheelchair_access common_outdoor_space\n",
              "0        1.5         3  ...                 0                    0\n",
              "1        1.0         2  ...                 0                    0\n",
              "2        1.0         1  ...                 0                    0\n",
              "3        1.0         1  ...                 0                    0\n",
              "4        1.0         4  ...                 0                    0\n",
              "\n",
              "[5 rows x 34 columns]"
            ]
          },
          "metadata": {
            "tags": []
          },
          "execution_count": 4
        }
      ]
    },
    {
      "cell_type": "markdown",
      "metadata": {
        "id": "oCFSqDrmfsGM",
        "colab_type": "text"
      },
      "source": [
        "Note, `description` has missing values."
      ]
    },
    {
      "cell_type": "markdown",
      "metadata": {
        "id": "mTmybqZucgTb",
        "colab_type": "text"
      },
      "source": [
        "## Feature Engineering"
      ]
    },
    {
      "cell_type": "markdown",
      "metadata": {
        "id": "uGWHfq8UcLtf",
        "colab_type": "text"
      },
      "source": [
        "#### Feature Ideas\n",
        "- Does the apartment have a description?\n",
        "- How long is the description?\n",
        "- How many total perks does each apartment have?\n",
        "- Are cats _or_ dogs allowed?\n",
        "- Are cats _and_ dogs allowed?\n",
        "- Total number of rooms (beds + baths)\n",
        "- Ratio of beds to baths\n",
        "- What's the neighborhood, based on address or latitude & longitude?"
      ]
    },
    {
      "cell_type": "markdown",
      "metadata": {
        "id": "GPiBY3i_sAiy",
        "colab_type": "text"
      },
      "source": [
        "##Check the Ols assumption\n",
        "1) linearity- draw the scatter plot of each feature vs target , ifnot than do the log transformation(logprice= np.log(df['price'])\n",
        "\n",
        "2) No endogeneity- No independent variable should be correlated\n",
        "\n",
        "3) Normality(large sample data), zero mean, homocadacity\n",
        "\n",
        "4) No autocorrelation(change in one target value with the change of other )\n",
        "\n",
        "5)multicolinearity- when two independent variables agr highly correlated(check using stas model VIF)\n",
        "\n",
        "###scale the variable"
      ]
    },
    {
      "cell_type": "markdown",
      "metadata": {
        "id": "wNYGt5SmdSw6",
        "colab_type": "text"
      },
      "source": [
        "### Combine `dogs_allowed` and/or `cats_allowed` into `pets_allowed` since they are redundant features with high correlation."
      ]
    },
    {
      "cell_type": "code",
      "metadata": {
        "id": "zNuMupJZdO92",
        "colab_type": "code",
        "outputId": "5f0986b2-4566-43f4-ff37-ab2845b3a14c",
        "colab": {
          "base_uri": "https://localhost:8080/",
          "height": 70
        }
      },
      "source": [
        "# Combine them into a new feature pets_allowed\n",
        "df['cats_and_dogs_allowed'] = (df['dogs_allowed'] & df['cats_allowed'])\n",
        "df['cats_or_dogs_allowed'] = (df['dogs_allowed'] | df['cats_allowed'])\n",
        "# Drop cats and dogs allowed\n",
        "df = df.drop(['dogs_allowed', 'cats_allowed'], axis=1)\n",
        "df['cats_or_dogs_allowed'].value_counts()"
      ],
      "execution_count": 0,
      "outputs": [
        {
          "output_type": "execute_result",
          "data": {
            "text/plain": [
              "0    25433\n",
              "1    23384\n",
              "Name: cats_or_dogs_allowed, dtype: int64"
            ]
          },
          "metadata": {
            "tags": []
          },
          "execution_count": 5
        }
      ]
    },
    {
      "cell_type": "code",
      "metadata": {
        "id": "Pbj4S0Etkift",
        "colab_type": "code",
        "outputId": "e462e7f5-c2f4-402f-b419-317add663653",
        "colab": {
          "base_uri": "https://localhost:8080/",
          "height": 70
        }
      },
      "source": [
        "df['cats_and_dogs_allowed'].value_counts()"
      ],
      "execution_count": 0,
      "outputs": [
        {
          "output_type": "execute_result",
          "data": {
            "text/plain": [
              "0    27001\n",
              "1    21816\n",
              "Name: cats_and_dogs_allowed, dtype: int64"
            ]
          },
          "metadata": {
            "tags": []
          },
          "execution_count": 6
        }
      ]
    },
    {
      "cell_type": "code",
      "metadata": {
        "id": "Q1dBMbdWdO6x",
        "colab_type": "code",
        "outputId": "dd1d9965-93a5-49c7-9fd9-ec70f3a7f17d",
        "colab": {
          "base_uri": "https://localhost:8080/",
          "height": 501
        }
      },
      "source": [
        "# Let's verify the columns were dropped and new feature was added\n",
        "df.head()"
      ],
      "execution_count": 0,
      "outputs": [
        {
          "output_type": "execute_result",
          "data": {
            "text/html": [
              "<div>\n",
              "<style scoped>\n",
              "    .dataframe tbody tr th:only-of-type {\n",
              "        vertical-align: middle;\n",
              "    }\n",
              "\n",
              "    .dataframe tbody tr th {\n",
              "        vertical-align: top;\n",
              "    }\n",
              "\n",
              "    .dataframe thead th {\n",
              "        text-align: right;\n",
              "    }\n",
              "</style>\n",
              "<table border=\"1\" class=\"dataframe\">\n",
              "  <thead>\n",
              "    <tr style=\"text-align: right;\">\n",
              "      <th></th>\n",
              "      <th>bathrooms</th>\n",
              "      <th>bedrooms</th>\n",
              "      <th>created</th>\n",
              "      <th>description</th>\n",
              "      <th>display_address</th>\n",
              "      <th>latitude</th>\n",
              "      <th>longitude</th>\n",
              "      <th>price</th>\n",
              "      <th>street_address</th>\n",
              "      <th>interest_level</th>\n",
              "      <th>elevator</th>\n",
              "      <th>hardwood_floors</th>\n",
              "      <th>doorman</th>\n",
              "      <th>dishwasher</th>\n",
              "      <th>no_fee</th>\n",
              "      <th>laundry_in_building</th>\n",
              "      <th>fitness_center</th>\n",
              "      <th>pre-war</th>\n",
              "      <th>laundry_in_unit</th>\n",
              "      <th>roof_deck</th>\n",
              "      <th>outdoor_space</th>\n",
              "      <th>dining_room</th>\n",
              "      <th>high_speed_internet</th>\n",
              "      <th>balcony</th>\n",
              "      <th>swimming_pool</th>\n",
              "      <th>new_construction</th>\n",
              "      <th>terrace</th>\n",
              "      <th>exclusive</th>\n",
              "      <th>loft</th>\n",
              "      <th>garden_patio</th>\n",
              "      <th>wheelchair_access</th>\n",
              "      <th>common_outdoor_space</th>\n",
              "      <th>cats_and_dogs_allowed</th>\n",
              "      <th>cats_or_dogs_allowed</th>\n",
              "    </tr>\n",
              "  </thead>\n",
              "  <tbody>\n",
              "    <tr>\n",
              "      <th>0</th>\n",
              "      <td>1.5</td>\n",
              "      <td>3</td>\n",
              "      <td>2016-06-24 07:54:24</td>\n",
              "      <td>A Brand New 3 Bedroom 1.5 bath ApartmentEnjoy ...</td>\n",
              "      <td>Metropolitan Avenue</td>\n",
              "      <td>40.7145</td>\n",
              "      <td>-73.9425</td>\n",
              "      <td>3000</td>\n",
              "      <td>792 Metropolitan Avenue</td>\n",
              "      <td>medium</td>\n",
              "      <td>0</td>\n",
              "      <td>0</td>\n",
              "      <td>0</td>\n",
              "      <td>0</td>\n",
              "      <td>0</td>\n",
              "      <td>0</td>\n",
              "      <td>0</td>\n",
              "      <td>0</td>\n",
              "      <td>0</td>\n",
              "      <td>0</td>\n",
              "      <td>0</td>\n",
              "      <td>0</td>\n",
              "      <td>0</td>\n",
              "      <td>0</td>\n",
              "      <td>0</td>\n",
              "      <td>0</td>\n",
              "      <td>0</td>\n",
              "      <td>0</td>\n",
              "      <td>0</td>\n",
              "      <td>0</td>\n",
              "      <td>0</td>\n",
              "      <td>0</td>\n",
              "      <td>0</td>\n",
              "      <td>0</td>\n",
              "    </tr>\n",
              "    <tr>\n",
              "      <th>1</th>\n",
              "      <td>1.0</td>\n",
              "      <td>2</td>\n",
              "      <td>2016-06-12 12:19:27</td>\n",
              "      <td></td>\n",
              "      <td>Columbus Avenue</td>\n",
              "      <td>40.7947</td>\n",
              "      <td>-73.9667</td>\n",
              "      <td>5465</td>\n",
              "      <td>808 Columbus Avenue</td>\n",
              "      <td>low</td>\n",
              "      <td>1</td>\n",
              "      <td>0</td>\n",
              "      <td>1</td>\n",
              "      <td>0</td>\n",
              "      <td>0</td>\n",
              "      <td>0</td>\n",
              "      <td>1</td>\n",
              "      <td>0</td>\n",
              "      <td>0</td>\n",
              "      <td>0</td>\n",
              "      <td>0</td>\n",
              "      <td>0</td>\n",
              "      <td>0</td>\n",
              "      <td>0</td>\n",
              "      <td>0</td>\n",
              "      <td>0</td>\n",
              "      <td>0</td>\n",
              "      <td>0</td>\n",
              "      <td>0</td>\n",
              "      <td>0</td>\n",
              "      <td>0</td>\n",
              "      <td>0</td>\n",
              "      <td>1</td>\n",
              "      <td>1</td>\n",
              "    </tr>\n",
              "    <tr>\n",
              "      <th>2</th>\n",
              "      <td>1.0</td>\n",
              "      <td>1</td>\n",
              "      <td>2016-04-17 03:26:41</td>\n",
              "      <td>Top Top West Village location, beautiful Pre-w...</td>\n",
              "      <td>W 13 Street</td>\n",
              "      <td>40.7388</td>\n",
              "      <td>-74.0018</td>\n",
              "      <td>2850</td>\n",
              "      <td>241 W 13 Street</td>\n",
              "      <td>high</td>\n",
              "      <td>0</td>\n",
              "      <td>1</td>\n",
              "      <td>0</td>\n",
              "      <td>1</td>\n",
              "      <td>0</td>\n",
              "      <td>1</td>\n",
              "      <td>0</td>\n",
              "      <td>0</td>\n",
              "      <td>0</td>\n",
              "      <td>0</td>\n",
              "      <td>0</td>\n",
              "      <td>0</td>\n",
              "      <td>0</td>\n",
              "      <td>0</td>\n",
              "      <td>0</td>\n",
              "      <td>0</td>\n",
              "      <td>0</td>\n",
              "      <td>0</td>\n",
              "      <td>0</td>\n",
              "      <td>0</td>\n",
              "      <td>0</td>\n",
              "      <td>0</td>\n",
              "      <td>0</td>\n",
              "      <td>0</td>\n",
              "    </tr>\n",
              "    <tr>\n",
              "      <th>3</th>\n",
              "      <td>1.0</td>\n",
              "      <td>1</td>\n",
              "      <td>2016-04-18 02:22:02</td>\n",
              "      <td>Building Amenities - Garage - Garden - fitness...</td>\n",
              "      <td>East 49th Street</td>\n",
              "      <td>40.7539</td>\n",
              "      <td>-73.9677</td>\n",
              "      <td>3275</td>\n",
              "      <td>333 East 49th Street</td>\n",
              "      <td>low</td>\n",
              "      <td>0</td>\n",
              "      <td>1</td>\n",
              "      <td>0</td>\n",
              "      <td>0</td>\n",
              "      <td>1</td>\n",
              "      <td>0</td>\n",
              "      <td>0</td>\n",
              "      <td>0</td>\n",
              "      <td>0</td>\n",
              "      <td>0</td>\n",
              "      <td>0</td>\n",
              "      <td>0</td>\n",
              "      <td>0</td>\n",
              "      <td>0</td>\n",
              "      <td>0</td>\n",
              "      <td>0</td>\n",
              "      <td>0</td>\n",
              "      <td>0</td>\n",
              "      <td>0</td>\n",
              "      <td>0</td>\n",
              "      <td>0</td>\n",
              "      <td>0</td>\n",
              "      <td>0</td>\n",
              "      <td>0</td>\n",
              "    </tr>\n",
              "    <tr>\n",
              "      <th>4</th>\n",
              "      <td>1.0</td>\n",
              "      <td>4</td>\n",
              "      <td>2016-04-28 01:32:41</td>\n",
              "      <td>Beautifully renovated 3 bedroom flex 4 bedroom...</td>\n",
              "      <td>West 143rd Street</td>\n",
              "      <td>40.8241</td>\n",
              "      <td>-73.9493</td>\n",
              "      <td>3350</td>\n",
              "      <td>500 West 143rd Street</td>\n",
              "      <td>low</td>\n",
              "      <td>0</td>\n",
              "      <td>0</td>\n",
              "      <td>0</td>\n",
              "      <td>0</td>\n",
              "      <td>0</td>\n",
              "      <td>0</td>\n",
              "      <td>0</td>\n",
              "      <td>1</td>\n",
              "      <td>0</td>\n",
              "      <td>0</td>\n",
              "      <td>0</td>\n",
              "      <td>0</td>\n",
              "      <td>0</td>\n",
              "      <td>0</td>\n",
              "      <td>0</td>\n",
              "      <td>0</td>\n",
              "      <td>0</td>\n",
              "      <td>0</td>\n",
              "      <td>0</td>\n",
              "      <td>0</td>\n",
              "      <td>0</td>\n",
              "      <td>0</td>\n",
              "      <td>0</td>\n",
              "      <td>0</td>\n",
              "    </tr>\n",
              "  </tbody>\n",
              "</table>\n",
              "</div>"
            ],
            "text/plain": [
              "   bathrooms  bedrooms  ... cats_and_dogs_allowed cats_or_dogs_allowed\n",
              "0        1.5         3  ...                     0                    0\n",
              "1        1.0         2  ...                     1                    1\n",
              "2        1.0         1  ...                     0                    0\n",
              "3        1.0         1  ...                     0                    0\n",
              "4        1.0         4  ...                     0                    0\n",
              "\n",
              "[5 rows x 34 columns]"
            ]
          },
          "metadata": {
            "tags": []
          },
          "execution_count": 7
        }
      ]
    },
    {
      "cell_type": "markdown",
      "metadata": {
        "id": "MCTLvsrSgJ9B",
        "colab_type": "text"
      },
      "source": [
        "### Label encode categorical `interest_level` data type\n",
        "\n",
        "*   List item\n",
        "*   List item\n",
        "\n"
      ]
    },
    {
      "cell_type": "code",
      "metadata": {
        "id": "mWNG0urygX7A",
        "colab_type": "code",
        "outputId": "ba382c08-e54b-456e-d576-dcbd9acd88e4",
        "colab": {
          "base_uri": "https://localhost:8080/",
          "height": 88
        }
      },
      "source": [
        "# Let's look at the counts first before we encode it\n",
        "df['interest_level'].value_counts()"
      ],
      "execution_count": 0,
      "outputs": [
        {
          "output_type": "execute_result",
          "data": {
            "text/plain": [
              "low       33946\n",
              "medium    11181\n",
              "high       3690\n",
              "Name: interest_level, dtype: int64"
            ]
          },
          "metadata": {
            "tags": []
          },
          "execution_count": 8
        }
      ]
    },
    {
      "cell_type": "code",
      "metadata": {
        "id": "eSObEp9Rb5io",
        "colab_type": "code",
        "outputId": "252ca8fa-fc20-4ff7-c823-3f1ce1e3063d",
        "colab": {
          "base_uri": "https://localhost:8080/",
          "height": 88
        }
      },
      "source": [
        "df['interest_level'] = df['interest_level'].map({'low':1, 'medium':2, 'high':3})\n",
        "df['interest_level'].value_counts() # Verify the counts are right"
      ],
      "execution_count": 0,
      "outputs": [
        {
          "output_type": "execute_result",
          "data": {
            "text/plain": [
              "1    33946\n",
              "2    11181\n",
              "3     3690\n",
              "Name: interest_level, dtype: int64"
            ]
          },
          "metadata": {
            "tags": []
          },
          "execution_count": 9
        }
      ]
    },
    {
      "cell_type": "markdown",
      "metadata": {
        "id": "suVHLVHfga5l",
        "colab_type": "text"
      },
      "source": [
        "### `total_rooms`"
      ]
    },
    {
      "cell_type": "code",
      "metadata": {
        "id": "npwcHbptgbeo",
        "colab_type": "code",
        "outputId": "76920860-f4da-4050-902e-9292de37f226",
        "colab": {
          "base_uri": "https://localhost:8080/",
          "height": 408
        }
      },
      "source": [
        "df['total_rooms'] = df['bedrooms'] + df['bathrooms']\n",
        "df['total_rooms'].value_counts()"
      ],
      "execution_count": 0,
      "outputs": [
        {
          "output_type": "execute_result",
          "data": {
            "text/plain": [
              "2.0     15286\n",
              "3.0     11083\n",
              "1.0      9200\n",
              "4.0      6940\n",
              "5.0      3160\n",
              "6.0      1605\n",
              "4.5       291\n",
              "7.0       277\n",
              "3.5       210\n",
              "5.5       190\n",
              "2.5       154\n",
              "0.0       151\n",
              "8.0        83\n",
              "6.5        67\n",
              "9.0        49\n",
              "7.5        32\n",
              "10.0       16\n",
              "8.5        11\n",
              "1.5         9\n",
              "12.0        2\n",
              "11.0        1\n",
              "Name: total_rooms, dtype: int64"
            ]
          },
          "metadata": {
            "tags": []
          },
          "execution_count": 10
        }
      ]
    },
    {
      "cell_type": "markdown",
      "metadata": {
        "id": "SGxjF-TnhaXb",
        "colab_type": "text"
      },
      "source": [
        "### `total_perks`\n",
        "\n",
        "This will help visualize, how to sum the perks of the columns\n",
        "\n",
        "![](https://i.stack.imgur.com/gj5ue.jpg)"
      ]
    },
    {
      "cell_type": "code",
      "metadata": {
        "id": "6biNCAENhaMc",
        "colab_type": "code",
        "outputId": "3cf3720e-d1c6-400e-8a84-1266df66c165",
        "colab": {
          "base_uri": "https://localhost:8080/",
          "height": 888
        }
      },
      "source": [
        "perks = [col for col in df.columns if col not in ['price', 'bathrooms', 'bedrooms', 'latitude', 'longitude', 'display_address', 'created', 'description', 'cats_or_dogs_allowed']]\n",
        "df['total_perks'] = df[perks].sum(axis=1)\n",
        "df['total_perks'].value_counts() # Value counts will help us understand the perks better"
      ],
      "execution_count": 0,
      "outputs": [
        {
          "output_type": "execute_result",
          "data": {
            "text/plain": [
              "6.0     6290\n",
              "5.0     5895\n",
              "7.0     5390\n",
              "8.0     4529\n",
              "4.0     4296\n",
              "9.0     3793\n",
              "10.0    3027\n",
              "11.0    2576\n",
              "12.0    2142\n",
              "3.0     2133\n",
              "13.0    1856\n",
              "14.0    1459\n",
              "15.0    1265\n",
              "16.0     904\n",
              "17.0     643\n",
              "18.0     460\n",
              "2.0      449\n",
              "19.0     332\n",
              "20.0     160\n",
              "21.0     118\n",
              "8.5       90\n",
              "9.5       89\n",
              "10.5      87\n",
              "11.5      85\n",
              "7.5       83\n",
              "6.5       82\n",
              "12.5      69\n",
              "13.5      64\n",
              "22.0      59\n",
              "5.5       56\n",
              "14.5      50\n",
              "1.0       45\n",
              "4.5       41\n",
              "16.5      39\n",
              "15.5      37\n",
              "18.5      22\n",
              "17.5      20\n",
              "23.0      16\n",
              "19.5      14\n",
              "3.5       11\n",
              "24.0      10\n",
              "20.5      10\n",
              "21.5       9\n",
              "22.5       3\n",
              "25.0       3\n",
              "26.0       3\n",
              "24.5       2\n",
              "2.5        1\n",
              "Name: total_perks, dtype: int64"
            ]
          },
          "metadata": {
            "tags": []
          },
          "execution_count": 11
        }
      ]
    },
    {
      "cell_type": "code",
      "metadata": {
        "id": "1BZxAJX2-oV2",
        "colab_type": "code",
        "outputId": "e3561e6f-6a26-40c3-d080-92be13153833",
        "colab": {
          "base_uri": "https://localhost:8080/",
          "height": 888
        }
      },
      "source": [
        "df['total_perks'] = df[perks].sum(axis=1)\n",
        "df['total_perks'].value_counts() # Value counts will help us understand the perks better"
      ],
      "execution_count": 0,
      "outputs": [
        {
          "output_type": "execute_result",
          "data": {
            "text/plain": [
              "6.0     6290\n",
              "5.0     5895\n",
              "7.0     5390\n",
              "8.0     4529\n",
              "4.0     4296\n",
              "9.0     3793\n",
              "10.0    3027\n",
              "11.0    2576\n",
              "12.0    2142\n",
              "3.0     2133\n",
              "13.0    1856\n",
              "14.0    1459\n",
              "15.0    1265\n",
              "16.0     904\n",
              "17.0     643\n",
              "18.0     460\n",
              "2.0      449\n",
              "19.0     332\n",
              "20.0     160\n",
              "21.0     118\n",
              "8.5       90\n",
              "9.5       89\n",
              "10.5      87\n",
              "11.5      85\n",
              "7.5       83\n",
              "6.5       82\n",
              "12.5      69\n",
              "13.5      64\n",
              "22.0      59\n",
              "5.5       56\n",
              "14.5      50\n",
              "1.0       45\n",
              "4.5       41\n",
              "16.5      39\n",
              "15.5      37\n",
              "18.5      22\n",
              "17.5      20\n",
              "23.0      16\n",
              "19.5      14\n",
              "3.5       11\n",
              "24.0      10\n",
              "20.5      10\n",
              "21.5       9\n",
              "22.5       3\n",
              "25.0       3\n",
              "26.0       3\n",
              "24.5       2\n",
              "2.5        1\n",
              "Name: total_perks, dtype: int64"
            ]
          },
          "metadata": {
            "tags": []
          },
          "execution_count": 12
        }
      ]
    },
    {
      "cell_type": "markdown",
      "metadata": {
        "id": "cHL6epdYjoI-",
        "colab_type": "text"
      },
      "source": [
        "It looks like, most of the apartment listings have between 4-10 perks."
      ]
    },
    {
      "cell_type": "markdown",
      "metadata": {
        "id": "ALXAHXFhmk_Z",
        "colab_type": "text"
      },
      "source": [
        "### `has_description`"
      ]
    },
    {
      "cell_type": "code",
      "metadata": {
        "id": "aBlTSwsZnlGX",
        "colab_type": "code",
        "outputId": "8d709ac4-9b27-4919-9ad5-066acf52283e",
        "colab": {
          "base_uri": "https://localhost:8080/",
          "height": 70
        }
      },
      "source": [
        "df['has_description'] = df['description'].isna().astype(int)\n",
        "df['has_description'].value_counts()"
      ],
      "execution_count": 0,
      "outputs": [
        {
          "output_type": "execute_result",
          "data": {
            "text/plain": [
              "0    47392\n",
              "1     1425\n",
              "Name: has_description, dtype: int64"
            ]
          },
          "metadata": {
            "tags": []
          },
          "execution_count": 13
        }
      ]
    },
    {
      "cell_type": "markdown",
      "metadata": {
        "id": "vtiCIYuZnpxK",
        "colab_type": "text"
      },
      "source": [
        "### `description_size`"
      ]
    },
    {
      "cell_type": "code",
      "metadata": {
        "id": "ViKoATzLqL69",
        "colab_type": "code",
        "outputId": "ea977e76-b703-4d87-c13b-2a6a41a79205",
        "colab": {
          "base_uri": "https://localhost:8080/",
          "height": 1000
        }
      },
      "source": [
        "df['description'] = df['description'].fillna('')\n",
        "df['description_size'] = df['description'].apply(lambda x: len(x))\n",
        "df['description_size'].value_counts()"
      ],
      "execution_count": 0,
      "outputs": [
        {
          "output_type": "execute_result",
          "data": {
            "text/plain": [
              "8       1627\n",
              "0       1425\n",
              "24       327\n",
              "1        236\n",
              "105      131\n",
              "572       85\n",
              "535       84\n",
              "390       83\n",
              "605       83\n",
              "477       83\n",
              "356       83\n",
              "569       82\n",
              "378       81\n",
              "514       78\n",
              "424       78\n",
              "589       78\n",
              "498       77\n",
              "529       77\n",
              "590       76\n",
              "635       75\n",
              "548       75\n",
              "507       74\n",
              "436       74\n",
              "151       73\n",
              "525       73\n",
              "626       73\n",
              "570       73\n",
              "319       72\n",
              "603       72\n",
              "599       72\n",
              "        ... \n",
              "2423       1\n",
              "2231       1\n",
              "1719       1\n",
              "2135       1\n",
              "2222       1\n",
              "1973       1\n",
              "2830       1\n",
              "1877       1\n",
              "1845       1\n",
              "1679       1\n",
              "1870       1\n",
              "1838       1\n",
              "1806       1\n",
              "1814       1\n",
              "1687       1\n",
              "2639       1\n",
              "1606       1\n",
              "1559       1\n",
              "1614       1\n",
              "3367       1\n",
              "2422       1\n",
              "2294       1\n",
              "1710       1\n",
              "2166       1\n",
              "2070       1\n",
              "2006       1\n",
              "1742       1\n",
              "1878       1\n",
              "3010       1\n",
              "2248       1\n",
              "Name: description_size, Length: 2080, dtype: int64"
            ]
          },
          "metadata": {
            "tags": []
          },
          "execution_count": 14
        }
      ]
    },
    {
      "cell_type": "markdown",
      "metadata": {
        "id": "ibCduT2BnbyB",
        "colab_type": "text"
      },
      "source": [
        "### `beds/bath` ratio"
      ]
    },
    {
      "cell_type": "code",
      "metadata": {
        "id": "eRhJS2JHnbd6",
        "colab_type": "code",
        "outputId": "30f8dd0e-d47a-4387-8d50-92e61c580b3d",
        "colab": {
          "base_uri": "https://localhost:8080/",
          "height": 177
        }
      },
      "source": [
        "df['beds_bath_ratio'] = (df['bedrooms'] / df['bathrooms']).replace([np.inf, -np.inf], np.nan).fillna(0)\n",
        "df['beds_bath_ratio'].describe()"
      ],
      "execution_count": 0,
      "outputs": [
        {
          "output_type": "execute_result",
          "data": {
            "text/plain": [
              "count    48817.000000\n",
              "mean         1.262440\n",
              "std          0.877438\n",
              "min          0.000000\n",
              "25%          1.000000\n",
              "50%          1.000000\n",
              "75%          2.000000\n",
              "max          6.000000\n",
              "Name: beds_bath_ratio, dtype: float64"
            ]
          },
          "metadata": {
            "tags": []
          },
          "execution_count": 15
        }
      ]
    },
    {
      "cell_type": "markdown",
      "metadata": {
        "id": "HZ3tYr8TgeqO",
        "colab_type": "text"
      },
      "source": [
        "## Correlations"
      ]
    },
    {
      "cell_type": "code",
      "metadata": {
        "id": "7DnnrAmXggqI",
        "colab_type": "code",
        "outputId": "10b69493-2b56-48c6-865b-8abc3c5a3068",
        "colab": {
          "base_uri": "https://localhost:8080/",
          "height": 1000
        }
      },
      "source": [
        "def correlations(data, y, xs):\n",
        "    from scipy import stats\n",
        "    rs = []\n",
        "    rhos = []\n",
        "    for x in xs:\n",
        "        r = stats.pearsonr(data[y], data[x])[0]\n",
        "        rs.append(r)\n",
        "        rho = stats.spearmanr(data[y], data[x])[0]\n",
        "        rhos.append(rho)\n",
        "    return pd.DataFrame({\"feature\": xs, \"r\": rs, \"rho\": rhos})\n",
        "\n",
        "imp_features = [col for col in df.columns if col not in ['price', 'display_address', 'created', 'description', 'street_address', 'interest_level']]\n",
        "correlations(df, 'price', imp_features)"
      ],
      "execution_count": 0,
      "outputs": [
        {
          "output_type": "execute_result",
          "data": {
            "text/html": [
              "<div>\n",
              "<style scoped>\n",
              "    .dataframe tbody tr th:only-of-type {\n",
              "        vertical-align: middle;\n",
              "    }\n",
              "\n",
              "    .dataframe tbody tr th {\n",
              "        vertical-align: top;\n",
              "    }\n",
              "\n",
              "    .dataframe thead th {\n",
              "        text-align: right;\n",
              "    }\n",
              "</style>\n",
              "<table border=\"1\" class=\"dataframe\">\n",
              "  <thead>\n",
              "    <tr style=\"text-align: right;\">\n",
              "      <th></th>\n",
              "      <th>feature</th>\n",
              "      <th>r</th>\n",
              "      <th>rho</th>\n",
              "    </tr>\n",
              "  </thead>\n",
              "  <tbody>\n",
              "    <tr>\n",
              "      <th>0</th>\n",
              "      <td>bathrooms</td>\n",
              "      <td>0.687296</td>\n",
              "      <td>0.552527</td>\n",
              "    </tr>\n",
              "    <tr>\n",
              "      <th>1</th>\n",
              "      <td>bedrooms</td>\n",
              "      <td>0.535503</td>\n",
              "      <td>0.570723</td>\n",
              "    </tr>\n",
              "    <tr>\n",
              "      <th>2</th>\n",
              "      <td>latitude</td>\n",
              "      <td>-0.036286</td>\n",
              "      <td>-0.112774</td>\n",
              "    </tr>\n",
              "    <tr>\n",
              "      <th>3</th>\n",
              "      <td>longitude</td>\n",
              "      <td>-0.251004</td>\n",
              "      <td>-0.352461</td>\n",
              "    </tr>\n",
              "    <tr>\n",
              "      <th>4</th>\n",
              "      <td>elevator</td>\n",
              "      <td>0.207169</td>\n",
              "      <td>0.264353</td>\n",
              "    </tr>\n",
              "    <tr>\n",
              "      <th>5</th>\n",
              "      <td>hardwood_floors</td>\n",
              "      <td>0.101503</td>\n",
              "      <td>0.128908</td>\n",
              "    </tr>\n",
              "    <tr>\n",
              "      <th>6</th>\n",
              "      <td>doorman</td>\n",
              "      <td>0.276215</td>\n",
              "      <td>0.342583</td>\n",
              "    </tr>\n",
              "    <tr>\n",
              "      <th>7</th>\n",
              "      <td>dishwasher</td>\n",
              "      <td>0.223899</td>\n",
              "      <td>0.283984</td>\n",
              "    </tr>\n",
              "    <tr>\n",
              "      <th>8</th>\n",
              "      <td>no_fee</td>\n",
              "      <td>0.132240</td>\n",
              "      <td>0.182481</td>\n",
              "    </tr>\n",
              "    <tr>\n",
              "      <th>9</th>\n",
              "      <td>laundry_in_building</td>\n",
              "      <td>-0.019417</td>\n",
              "      <td>-0.003954</td>\n",
              "    </tr>\n",
              "    <tr>\n",
              "      <th>10</th>\n",
              "      <td>fitness_center</td>\n",
              "      <td>0.228775</td>\n",
              "      <td>0.288726</td>\n",
              "    </tr>\n",
              "    <tr>\n",
              "      <th>11</th>\n",
              "      <td>pre-war</td>\n",
              "      <td>-0.029122</td>\n",
              "      <td>-0.037851</td>\n",
              "    </tr>\n",
              "    <tr>\n",
              "      <th>12</th>\n",
              "      <td>laundry_in_unit</td>\n",
              "      <td>0.271195</td>\n",
              "      <td>0.263018</td>\n",
              "    </tr>\n",
              "    <tr>\n",
              "      <th>13</th>\n",
              "      <td>roof_deck</td>\n",
              "      <td>0.122929</td>\n",
              "      <td>0.167614</td>\n",
              "    </tr>\n",
              "    <tr>\n",
              "      <th>14</th>\n",
              "      <td>outdoor_space</td>\n",
              "      <td>0.142146</td>\n",
              "      <td>0.169333</td>\n",
              "    </tr>\n",
              "    <tr>\n",
              "      <th>15</th>\n",
              "      <td>dining_room</td>\n",
              "      <td>0.242911</td>\n",
              "      <td>0.210031</td>\n",
              "    </tr>\n",
              "    <tr>\n",
              "      <th>16</th>\n",
              "      <td>high_speed_internet</td>\n",
              "      <td>0.090269</td>\n",
              "      <td>0.118627</td>\n",
              "    </tr>\n",
              "    <tr>\n",
              "      <th>17</th>\n",
              "      <td>balcony</td>\n",
              "      <td>0.139140</td>\n",
              "      <td>0.148333</td>\n",
              "    </tr>\n",
              "    <tr>\n",
              "      <th>18</th>\n",
              "      <td>swimming_pool</td>\n",
              "      <td>0.134513</td>\n",
              "      <td>0.132967</td>\n",
              "    </tr>\n",
              "    <tr>\n",
              "      <th>19</th>\n",
              "      <td>new_construction</td>\n",
              "      <td>0.071431</td>\n",
              "      <td>0.079652</td>\n",
              "    </tr>\n",
              "    <tr>\n",
              "      <th>20</th>\n",
              "      <td>terrace</td>\n",
              "      <td>0.145973</td>\n",
              "      <td>0.139680</td>\n",
              "    </tr>\n",
              "    <tr>\n",
              "      <th>21</th>\n",
              "      <td>exclusive</td>\n",
              "      <td>-0.013251</td>\n",
              "      <td>-0.030888</td>\n",
              "    </tr>\n",
              "    <tr>\n",
              "      <th>22</th>\n",
              "      <td>loft</td>\n",
              "      <td>0.007100</td>\n",
              "      <td>-0.046589</td>\n",
              "    </tr>\n",
              "    <tr>\n",
              "      <th>23</th>\n",
              "      <td>garden_patio</td>\n",
              "      <td>0.103672</td>\n",
              "      <td>0.103099</td>\n",
              "    </tr>\n",
              "    <tr>\n",
              "      <th>24</th>\n",
              "      <td>wheelchair_access</td>\n",
              "      <td>0.072517</td>\n",
              "      <td>0.071449</td>\n",
              "    </tr>\n",
              "    <tr>\n",
              "      <th>25</th>\n",
              "      <td>common_outdoor_space</td>\n",
              "      <td>0.011517</td>\n",
              "      <td>0.039295</td>\n",
              "    </tr>\n",
              "    <tr>\n",
              "      <th>26</th>\n",
              "      <td>cats_and_dogs_allowed</td>\n",
              "      <td>0.060873</td>\n",
              "      <td>0.086562</td>\n",
              "    </tr>\n",
              "    <tr>\n",
              "      <th>27</th>\n",
              "      <td>cats_or_dogs_allowed</td>\n",
              "      <td>0.050989</td>\n",
              "      <td>0.074914</td>\n",
              "    </tr>\n",
              "    <tr>\n",
              "      <th>28</th>\n",
              "      <td>total_rooms</td>\n",
              "      <td>0.649097</td>\n",
              "      <td>0.620085</td>\n",
              "    </tr>\n",
              "    <tr>\n",
              "      <th>29</th>\n",
              "      <td>total_perks</td>\n",
              "      <td>0.465123</td>\n",
              "      <td>0.513731</td>\n",
              "    </tr>\n",
              "    <tr>\n",
              "      <th>30</th>\n",
              "      <td>has_description</td>\n",
              "      <td>0.008946</td>\n",
              "      <td>0.018695</td>\n",
              "    </tr>\n",
              "    <tr>\n",
              "      <th>31</th>\n",
              "      <td>description_size</td>\n",
              "      <td>0.161948</td>\n",
              "      <td>0.196548</td>\n",
              "    </tr>\n",
              "    <tr>\n",
              "      <th>32</th>\n",
              "      <td>beds_bath_ratio</td>\n",
              "      <td>0.213530</td>\n",
              "      <td>0.354514</td>\n",
              "    </tr>\n",
              "  </tbody>\n",
              "</table>\n",
              "</div>"
            ],
            "text/plain": [
              "                  feature         r       rho\n",
              "0               bathrooms  0.687296  0.552527\n",
              "1                bedrooms  0.535503  0.570723\n",
              "2                latitude -0.036286 -0.112774\n",
              "3               longitude -0.251004 -0.352461\n",
              "4                elevator  0.207169  0.264353\n",
              "5         hardwood_floors  0.101503  0.128908\n",
              "6                 doorman  0.276215  0.342583\n",
              "7              dishwasher  0.223899  0.283984\n",
              "8                  no_fee  0.132240  0.182481\n",
              "9     laundry_in_building -0.019417 -0.003954\n",
              "10         fitness_center  0.228775  0.288726\n",
              "11                pre-war -0.029122 -0.037851\n",
              "12        laundry_in_unit  0.271195  0.263018\n",
              "13              roof_deck  0.122929  0.167614\n",
              "14          outdoor_space  0.142146  0.169333\n",
              "15            dining_room  0.242911  0.210031\n",
              "16    high_speed_internet  0.090269  0.118627\n",
              "17                balcony  0.139140  0.148333\n",
              "18          swimming_pool  0.134513  0.132967\n",
              "19       new_construction  0.071431  0.079652\n",
              "20                terrace  0.145973  0.139680\n",
              "21              exclusive -0.013251 -0.030888\n",
              "22                   loft  0.007100 -0.046589\n",
              "23           garden_patio  0.103672  0.103099\n",
              "24      wheelchair_access  0.072517  0.071449\n",
              "25   common_outdoor_space  0.011517  0.039295\n",
              "26  cats_and_dogs_allowed  0.060873  0.086562\n",
              "27   cats_or_dogs_allowed  0.050989  0.074914\n",
              "28            total_rooms  0.649097  0.620085\n",
              "29            total_perks  0.465123  0.513731\n",
              "30        has_description  0.008946  0.018695\n",
              "31       description_size  0.161948  0.196548\n",
              "32        beds_bath_ratio  0.213530  0.354514"
            ]
          },
          "metadata": {
            "tags": []
          },
          "execution_count": 16
        }
      ]
    },
    {
      "cell_type": "code",
      "metadata": {
        "id": "jPy8b8ah6vEt",
        "colab_type": "code",
        "outputId": "13d0f31e-204c-4742-b40f-fbb878be5296",
        "colab": {
          "base_uri": "https://localhost:8080/",
          "height": 1000
        }
      },
      "source": [
        "def correlation_heatmap(data=None, vmax=1, annot=True, corr_type='pearson', figsize=(12, 12)):\n",
        "    if data is None:\n",
        "        raise ValueError(\n",
        "            \"The parameter 'data' must be assigned a non-nil reference to a Pandas DataFrame\")\n",
        "    # Taken from the seaborn example at:\n",
        "    # http://seaborn.pydata.org/examples/many_pairwise_correlations.html\n",
        "    # Compute the correlation matrix\n",
        "    corr = data.corr(corr_type)\n",
        "    # Generate a mask for the upper triangle\n",
        "    mask = np.zeros_like(corr, dtype=np.bool)\n",
        "    mask[np.triu_indices_from(mask)] = True\n",
        "    # Set up the matplotlib figure\n",
        "    fig, axes = plt.subplots(figsize=figsize)\n",
        "    # Generate a custom diverging colormap\n",
        "    cmap = sns.diverging_palette(220, 10, as_cmap=True)\n",
        "    # Draw the heatmap with the mask and correct aspect ratio\n",
        "    sns.heatmap(corr, mask=mask, cmap=cmap, vmax=vmax, annot=annot, square=True,\n",
        "                linewidths=.5, cbar_kws={\"shrink\": .5}, fmt=',.2f', ax=axes)\n",
        "    plt.show()\n",
        "    plt.close()\n",
        "corr_features = imp_features\n",
        "corr_features.append('price')\n",
        "correlation_heatmap(df[corr_features], figsize=(20, 20))"
      ],
      "execution_count": 0,
      "outputs": [
        {
          "output_type": "display_data",
          "data": {
            "image/png": "[encoded data removed]",
            "text/plain": [
              "<Figure size 1440x1440 with 2 Axes>"
            ]
          },
          "metadata": {
            "tags": []
          }
        }
      ]
    },
    {
      "cell_type": "markdown",
      "metadata": {
        "id": "a0uF6C5h9wXd",
        "colab_type": "text"
      },
      "source": [
        "# Linear Regression Model"
      ]
    },
    {
      "cell_type": "code",
      "metadata": {
        "id": "bpsOOvMp91zV",
        "colab_type": "code",
        "colab": {}
      },
      "source": [
        "from sklearn.linear_model import LinearRegression\n",
        "from sklearn.metrics import mean_absolute_error, mean_squared_error, r2_score\n",
        "from sklearn.pipeline import make_pipeline\n",
        "from sklearn.preprocessing import PolynomialFeatures\n",
        "from sklearn.linear_model import LinearRegression"
      ],
      "execution_count": 0,
      "outputs": []
    },
    {
      "cell_type": "code",
      "metadata": {
        "id": "NK8ZOwFVu2z0",
        "colab_type": "code",
        "colab": {}
      },
      "source": [
        "def linear_model_results(data, features, target, by_date=True, seed=12345):\n",
        "    if data is None:\n",
        "        raise ValueError( \"The parameter 'data' must be assigned a non-nil reference to a Pandas DataFrame\")\n",
        "    \n",
        "    results = {}\n",
        "    results['n'] = data.shape\n",
        "\n",
        "    # Import to split the data into training/testing sets\n",
        "    from sklearn.model_selection import train_test_split\n",
        "    # Import Linear Model\n",
        "    from sklearn.linear_model import LinearRegression\n",
        "    # Import metrics\n",
        "    from sklearn.metrics import mean_absolute_error, mean_squared_error, r2_score\n",
        "\n",
        "    # Extract features \n",
        "    if by_date:\n",
        "        train = df[df['created'].dt.month.isin([4, 5])]\n",
        "        test = df[~df['created'].dt.month.isin([4, 5])]\n",
        "        X_train = train[features]\n",
        "        y_train = train[target]\n",
        "        X_test = test[features]\n",
        "        y_test = test[target]\n",
        "    else:\n",
        "        # Train-Test Split\n",
        "        X = df[features]\n",
        "        y = df[target]\n",
        "        X_train, X_test, y_train, y_test = train_test_split(X, y, test_size=0.4, random_state=seed)\n",
        "    \n",
        "    # Instantiate Linear Regression Mode\n",
        "    model = LinearRegression().fit(X_train, y_train)\n",
        "    # Add model to results\n",
        "    results['model'] = model\n",
        "    # Add coefficients to results\n",
        "    results['coefficients'] = model.coef_[0]\n",
        "\n",
        "    # Calculate metrics on training data\n",
        "    # Add R^2 \n",
        "    results['train_r_squared'] = model.score(X_train, y_train)\n",
        "    # Predict\n",
        "    y_train_hat = model.predict(X_train)\n",
        "    # MSE\n",
        "    results['train_MSE'] = mean_squared_error(y_train, y_train_hat)\n",
        "    # RMSE\n",
        "    results['train_RMSE'] = np.sqrt(results['train_MSE'])\n",
        "    # MAE\n",
        "    results['train_MAE'] = mean_absolute_error(y_train, y_train_hat)\n",
        "\n",
        "    # Calculate metrics on the test data\n",
        "    # Add R^2 \n",
        "    results['test_r_squared'] = model.score(X_test, y_test)\n",
        "    # Predict\n",
        "    y_test_hat = model.predict(X_test)\n",
        "    # MSE\n",
        "    results['test_MSE'] = mean_squared_error(y_test, y_test_hat)\n",
        "    # RMSE\n",
        "    results['test_RMSE'] = np.sqrt(results['test_MSE'])\n",
        "    # MAE\n",
        "    results['test_MAE'] = mean_absolute_error(y_test, y_test_hat)\n",
        "    return results"
      ],
      "execution_count": 0,
      "outputs": []
    },
    {
      "cell_type": "markdown",
      "metadata": {
        "id": "ngqqJsDGylh1",
        "colab_type": "text"
      },
      "source": [
        "### Baseline Model"
      ]
    },
    {
      "cell_type": "markdown",
      "metadata": {
        "id": "dZeczhilyoyS",
        "colab_type": "text"
      },
      "source": [
        "Let's look at the baseline model, first"
      ]
    },
    {
      "cell_type": "code",
      "metadata": {
        "id": "GAIr14ANu2xO",
        "colab_type": "code",
        "outputId": "b6f0a601-5dbe-4b06-a87f-26e904f5692d",
        "colab": {
          "base_uri": "https://localhost:8080/",
          "height": 177
        }
      },
      "source": [
        "df['price'].describe()"
      ],
      "execution_count": 0,
      "outputs": [
        {
          "output_type": "execute_result",
          "data": {
            "text/plain": [
              "count    48817.000000\n",
              "mean      3579.585247\n",
              "std       1762.430772\n",
              "min       1375.000000\n",
              "25%       2500.000000\n",
              "50%       3150.000000\n",
              "75%       4095.000000\n",
              "max      15500.000000\n",
              "Name: price, dtype: float64"
            ]
          },
          "metadata": {
            "tags": []
          },
          "execution_count": 20
        }
      ]
    },
    {
      "cell_type": "markdown",
      "metadata": {
        "id": "wmy82o45452T",
        "colab_type": "text"
      },
      "source": [
        "### All the features"
      ]
    },
    {
      "cell_type": "code",
      "metadata": {
        "id": "icPMxXuH0Yfn",
        "colab_type": "code",
        "outputId": "1b7b5f0d-3a2c-4884-dccf-ebeea99b5af1",
        "colab": {
          "base_uri": "https://localhost:8080/",
          "height": 266
        }
      },
      "source": [
        "# 1. Extract features and target\n",
        "target = 'price'\n",
        "omit_features = ['display_address', 'created', 'description', 'street_address', 'interest_level']\n",
        "omit_features.append(target)\n",
        "features = [col for col in df.columns.tolist() if col not in omit_features]\n",
        "\n",
        "# 2. Instantiate Linear Regression Model\n",
        "results = linear_model_results(df, features, target)\n",
        "\n",
        "print(\"\"\"\n",
        "----------- Linear Regression Model Results -------------\n",
        "Training Set\n",
        "R^2: {:.2f} (Explained variance score: 1 is perfect prediction)\n",
        "MSE: {:.2f}\n",
        "RMSE: {:.2f}\n",
        "MAE: ${:.2f}\n",
        "\n",
        "Test Set\n",
        "R^2: {:.2f} (Explained variance score: 1 is perfect prediction)\n",
        "MSE: {:.2f}\n",
        "RMSE: {:.2f}\n",
        "MAE: ${:.2f}\n",
        "\"\"\".format(results['train_r_squared'], results['train_MSE'], results['train_RMSE'], results['train_MAE'], results['test_r_squared'], results['test_MSE'], results['test_RMSE'], results['test_MAE']))"
      ],
      "execution_count": 0,
      "outputs": [
        {
          "output_type": "stream",
          "text": [
            "\n",
            "----------- Linear Regression Model Results -------------\n",
            "Training Set\n",
            "R^2: 0.64 (Explained variance score: 1 is perfect prediction)\n",
            "MSE: 1127011.26\n",
            "RMSE: 1061.61\n",
            "MAE: $673.28\n",
            "\n",
            "Test Set\n",
            "R^2: 0.65 (Explained variance score: 1 is perfect prediction)\n",
            "MSE: 1096682.78\n",
            "RMSE: 1047.23\n",
            "MAE: $676.74\n",
            "\n"
          ],
          "name": "stdout"
        }
      ]
    },
    {
      "cell_type": "markdown",
      "metadata": {
        "id": "ofn6tt1rAXr8",
        "colab_type": "text"
      },
      "source": [
        "## Again Feature Engineering"
      ]
    },
    {
      "cell_type": "markdown",
      "metadata": {
        "id": "rrDE9FI7AaXq",
        "colab_type": "text"
      },
      "source": [
        "Now let's assign those listings their neighboorhods."
      ]
    },
    {
      "cell_type": "code",
      "metadata": {
        "id": "SfmNtb18Asfu",
        "colab_type": "code",
        "outputId": "e0e30bd8-b481-435a-c013-f4327e7144c9",
        "colab": {
          "base_uri": "https://localhost:8080/",
          "height": 177
        }
      },
      "source": [
        "df['latitude'].describe()"
      ],
      "execution_count": 0,
      "outputs": [
        {
          "output_type": "execute_result",
          "data": {
            "text/plain": [
              "count    48817.000000\n",
              "mean        40.750760\n",
              "std          0.038954\n",
              "min         40.575700\n",
              "25%         40.728300\n",
              "50%         40.751700\n",
              "75%         40.774000\n",
              "max         40.989400\n",
              "Name: latitude, dtype: float64"
            ]
          },
          "metadata": {
            "tags": []
          },
          "execution_count": 22
        }
      ]
    },
    {
      "cell_type": "code",
      "metadata": {
        "id": "-AjCpDL-BDs6",
        "colab_type": "code",
        "outputId": "50aac638-a1be-4e2d-bcce-0edc89a7170f",
        "colab": {
          "base_uri": "https://localhost:8080/",
          "height": 177
        }
      },
      "source": [
        "df['longitude'].describe()"
      ],
      "execution_count": 0,
      "outputs": [
        {
          "output_type": "execute_result",
          "data": {
            "text/plain": [
              "count    48817.000000\n",
              "mean       -73.972760\n",
              "std          0.028883\n",
              "min        -74.087300\n",
              "25%        -73.991800\n",
              "50%        -73.978000\n",
              "75%        -73.955000\n",
              "max        -73.700100\n",
              "Name: longitude, dtype: float64"
            ]
          },
          "metadata": {
            "tags": []
          },
          "execution_count": 23
        }
      ]
    },
    {
      "cell_type": "markdown",
      "metadata": {
        "id": "1fBEAimgks0F",
        "colab_type": "text"
      },
      "source": [
        "### Rental listing maps plotted with price as marker size indicator"
      ]
    },
    {
      "cell_type": "code",
      "metadata": {
        "id": "9068VNRrwwSb",
        "colab_type": "code",
        "outputId": "2cb40a49-f2bf-45ea-e8fd-8f09fc0080e4",
        "colab": {
          "base_uri": "https://localhost:8080/",
          "height": 124
        }
      },
      "source": [
        "!ls -lah"
      ],
      "execution_count": 0,
      "outputs": [
        {
          "output_type": "stream",
          "text": [
            "total 36K\n",
            "drwxr-xr-x 2 root root 4.0K Sep 15 19:21 .\n",
            "drwxr-xr-x 1 root root 4.0K Sep 15 19:21 ..\n",
            "-rw-r--r-- 1 root root 6.0K Sep 15 19:21 assignment_regression_classification_2.ipynb\n",
            "-rw-r--r-- 1 root root  20K Sep 15 19:21 lesson_regression_classification_2.ipynb\n",
            "-rw-r--r-- 1 root root    0 Sep 15 19:21 README.md\n"
          ],
          "name": "stdout"
        }
      ]
    },
    {
      "cell_type": "code",
      "metadata": {
        "id": "hIbdUCFahaGm",
        "colab_type": "code",
        "outputId": "12d36544-a698-452f-b6a3-b2d09196a232",
        "colab": {
          "base_uri": "https://localhost:8080/",
          "height": 204
        }
      },
      "source": [
        "mapbox_token = open(\".mapbox_token\").read()\n",
        "px.set_mapbox_access_token(mapbox_token)\n",
        "px.scatter_mapbox(df, lat='latitude', lon='longitude', color='price', zoom=11, size='price', hover_data=['bedrooms', 'bathrooms'])"
      ],
      "execution_count": 0,
      "outputs": [
        {
          "output_type": "error",
          "ename": "FileNotFoundError",
          "evalue": "ignored",
          "traceback": [
            "\u001b[0;31m---------------------------------------------------------------------------\u001b[0m",
            "\u001b[0;31mFileNotFoundError\u001b[0m                         Traceback (most recent call last)",
            "\u001b[0;32m<ipython-input-25-f43f6a8af197>\u001b[0m in \u001b[0;36m<module>\u001b[0;34m()\u001b[0m\n\u001b[0;32m----> 1\u001b[0;31m \u001b[0mmapbox_token\u001b[0m \u001b[0;34m=\u001b[0m \u001b[0mopen\u001b[0m\u001b[0;34m(\u001b[0m\u001b[0;34m\".mapbox_token\"\u001b[0m\u001b[0;34m)\u001b[0m\u001b[0;34m.\u001b[0m\u001b[0mread\u001b[0m\u001b[0;34m(\u001b[0m\u001b[0;34m)\u001b[0m\u001b[0;34m\u001b[0m\u001b[0;34m\u001b[0m\u001b[0m\n\u001b[0m\u001b[1;32m      2\u001b[0m \u001b[0mpx\u001b[0m\u001b[0;34m.\u001b[0m\u001b[0mset_mapbox_access_token\u001b[0m\u001b[0;34m(\u001b[0m\u001b[0mmapbox_token\u001b[0m\u001b[0;34m)\u001b[0m\u001b[0;34m\u001b[0m\u001b[0;34m\u001b[0m\u001b[0m\n\u001b[1;32m      3\u001b[0m \u001b[0mpx\u001b[0m\u001b[0;34m.\u001b[0m\u001b[0mscatter_mapbox\u001b[0m\u001b[0;34m(\u001b[0m\u001b[0mdf\u001b[0m\u001b[0;34m,\u001b[0m \u001b[0mlat\u001b[0m\u001b[0;34m=\u001b[0m\u001b[0;34m'latitude'\u001b[0m\u001b[0;34m,\u001b[0m \u001b[0mlon\u001b[0m\u001b[0;34m=\u001b[0m\u001b[0;34m'longitude'\u001b[0m\u001b[0;34m,\u001b[0m \u001b[0mcolor\u001b[0m\u001b[0;34m=\u001b[0m\u001b[0;34m'price'\u001b[0m\u001b[0;34m,\u001b[0m \u001b[0mzoom\u001b[0m\u001b[0;34m=\u001b[0m\u001b[0;36m11\u001b[0m\u001b[0;34m,\u001b[0m \u001b[0msize\u001b[0m\u001b[0;34m=\u001b[0m\u001b[0;34m'price'\u001b[0m\u001b[0;34m,\u001b[0m \u001b[0mhover_data\u001b[0m\u001b[0;34m=\u001b[0m\u001b[0;34m[\u001b[0m\u001b[0;34m'bedrooms'\u001b[0m\u001b[0;34m,\u001b[0m \u001b[0;34m'bathrooms'\u001b[0m\u001b[0;34m]\u001b[0m\u001b[0;34m)\u001b[0m\u001b[0;34m\u001b[0m\u001b[0;34m\u001b[0m\u001b[0m\n",
            "\u001b[0;31mFileNotFoundError\u001b[0m: [Errno 2] No such file or directory: '.mapbox_token'"
          ]
        }
      ]
    },
    {
      "cell_type": "markdown",
      "metadata": {
        "id": "kYR6efdvMihm",
        "colab_type": "text"
      },
      "source": [
        "So, NY has 5 boroughs,\n",
        "\n",
        "![](https://i.imgur.com/RmAqNSV.png)"
      ]
    },
    {
      "cell_type": "markdown",
      "metadata": {
        "id": "b9UpY-1-D5kJ",
        "colab_type": "text"
      },
      "source": [
        "## K-Means Clustering"
      ]
    },
    {
      "cell_type": "markdown",
      "metadata": {
        "id": "lhHlIAOBTkp7",
        "colab_type": "text"
      },
      "source": [
        "### Using Elbow method figure out the best clusters"
      ]
    },
    {
      "cell_type": "code",
      "metadata": {
        "id": "Z5Xs_xyyD_kY",
        "colab_type": "code",
        "colab": {}
      },
      "source": [
        "def k_means_results(data, k, seed):\n",
        "    from sklearn.cluster import KMeans\n",
        "    # Initialize and predict k-means clusters\n",
        "    results = {}\n",
        "    kmeans = KMeans(n_clusters=k, random_state=seed)\n",
        "    kcl = kmeans.fit(data)\n",
        "    # Add results from model\n",
        "    results['data'] = data\n",
        "    results['k'] = k\n",
        "    results['labels'] = kcl.labels_\n",
        "    results['SSE'] = kcl.inertia_\n",
        "    return results"
      ],
      "execution_count": 0,
      "outputs": []
    },
    {
      "cell_type": "code",
      "metadata": {
        "id": "72ARrOkuECh4",
        "colab_type": "code",
        "colab": {}
      },
      "source": [
        "k_means_features = ['latitude', 'longitude']\n",
        "ks = np.arange(1, 21)\n",
        "sses = []\n",
        "seed = 1234\n",
        "for k in ks:\n",
        "    result = k_means_results(df[k_means_features], k, seed)\n",
        "    sses.append(result['SSE'])\n",
        "kmeans_results = pd.DataFrame.from_records(zip(ks, sses), columns=['K', 'SSE'])\n",
        "kmeans_results"
      ],
      "execution_count": 0,
      "outputs": []
    },
    {
      "cell_type": "code",
      "metadata": {
        "id": "dE0HUZ0oUN_Z",
        "colab_type": "code",
        "colab": {}
      },
      "source": [
        "def elbow_plot(ks, sses):\n",
        "    plt.style.use('ggplot')\n",
        "    fig = plt.figure(figsize=(10, 6))\n",
        "    ax = fig.add_subplot(111)\n",
        "    ax.plot(ks, sses, color='firebrick', label='SSE')\n",
        "    ax.set_title(\"Elbow plot of features\")\n",
        "    ax.set_xticks(ks)\n",
        "    ax.set_xticklabels(ks)\n",
        "    ax.set_xlabel(\"K\")\n",
        "    ax.set_ylabel(\"SSE\")\n",
        "    ax.tick_params(bottom=True, top=False, left=False, right=False)\n",
        "    # Hide all of the spines\n",
        "    for spine in ax.spines.values():\n",
        "        spine.set_visible(False)\n",
        "    # Turn off y axis grid\n",
        "    ax.grid(axis='x')\n",
        "    plt.show()\n",
        "elbow_plot(kmeans_results.K, kmeans_results.SSE)"
      ],
      "execution_count": 0,
      "outputs": []
    },
    {
      "cell_type": "markdown",
      "metadata": {
        "id": "74Ehq6Kwmr7T",
        "colab_type": "text"
      },
      "source": [
        "Elbow plot doesn't show us any definite `k` values, based on what we know of NYC boroughs, we can pick 5 as our `k`. Let's see if that improves model performance or not."
      ]
    },
    {
      "cell_type": "markdown",
      "metadata": {
        "id": "HQhP2YUEWhch",
        "colab_type": "text"
      },
      "source": [
        "### Choosing the best k"
      ]
    },
    {
      "cell_type": "code",
      "metadata": {
        "id": "O7WuAggXWcxL",
        "colab_type": "code",
        "colab": {}
      },
      "source": [
        "# Clustering the locations based on k\n",
        "from sklearn.cluster import KMeans\n",
        "kmeans = KMeans(n_clusters=5, n_jobs=-1)\n",
        "df['cluster'] = kmeans.fit_predict(df[k_means_features])\n",
        "px.scatter_mapbox(df, lat='latitude', lon='longitude', color='cluster', zoom=11, size='price', hover_data=['bedrooms', 'bathrooms'], title=\"Apartment Rental listings grouped by clusters\")"
      ],
      "execution_count": 0,
      "outputs": []
    },
    {
      "cell_type": "code",
      "metadata": {
        "id": "1Vtx4jIvgEwr",
        "colab_type": "code",
        "colab": {}
      },
      "source": [
        "px.scatter(df, x='latitude', y='longitude', color='cluster', title=\"Apartment Rental listings grouped by clusters\")"
      ],
      "execution_count": 0,
      "outputs": []
    },
    {
      "cell_type": "code",
      "metadata": {
        "id": "b9U_odzhu2sq",
        "colab_type": "code",
        "colab": {}
      },
      "source": [
        "# 1. Extract features and target\n",
        "target = 'price'\n",
        "omit_features = ['price', 'display_address', 'created', 'description', 'street_address', 'interest_level']\n",
        "features = [col for col in df.columns.tolist() if col not in omit_features]\n",
        "\n",
        "# 2. Apply linear model and store results dict\n",
        "results = linear_model_results(df, features, target)\n",
        "\n",
        "# 3. Pretty Prinat the results out\n",
        "print(\"\"\"\n",
        "----------- Linear Regression Model Results -------------\n",
        "Training Set\n",
        "R^2: {:.2f} (Explained variance score: 1 is perfect prediction)\n",
        "MSE: {:.2f}\n",
        "RMSE: {:.2f}\n",
        "MAE: ${:.2f}\n",
        "\n",
        "Test Set\n",
        "R^2: {:.2f} (Explained variance score: 1 is perfect prediction)\n",
        "MSE: {:.2f}\n",
        "RMSE: {:.2f}\n",
        "MAE: ${:.2f}\n",
        "\"\"\".format(results['train_r_squared'], results['train_MSE'], results['train_RMSE'], results['train_MAE'], results['test_r_squared'], results['test_MSE'], results['test_RMSE'], results['test_MAE']))"
      ],
      "execution_count": 0,
      "outputs": []
    },
    {
      "cell_type": "markdown",
      "metadata": {
        "id": "6er_eo61meBb",
        "colab_type": "text"
      },
      "source": [
        "It doesn't look like add new feature `clusters` made any improvement in models's ability to explain variance in our data."
      ]
    }
  ]
}