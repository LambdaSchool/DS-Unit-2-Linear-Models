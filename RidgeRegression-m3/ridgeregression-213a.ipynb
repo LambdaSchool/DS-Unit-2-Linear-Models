{
 "cells": [
  {
   "cell_type": "markdown",
   "metadata": {
    "colab_type": "text",
    "id": "view-in-github"
   },
   "source": [
    "<a href=\"https://colab.research.google.com/github/skhabiri/DS-Unit-2-Linear-Models/blob/master/module3-ridge-regression/skhabiri_LS_DS_213_assignment.ipynb\" target=\"_parent\"><img src=\"https://colab.research.google.com/assets/colab-badge.svg\" alt=\"Open In Colab\"/></a>"
   ]
  },
  {
   "cell_type": "markdown",
   "metadata": {
    "colab_type": "text",
    "id": "R6C2jyWePNXk"
   },
   "source": [
    "Lambda School Data Science\n",
    "\n",
    "*Unit 2, Sprint 1, Module 3*\n",
    "\n",
    "---"
   ]
  },
  {
   "cell_type": "markdown",
   "metadata": {
    "colab_type": "text",
    "id": "7IXUfiQ2UKj6"
   },
   "source": [
    "# Ridge Regression\n",
    "\n",
    "## Assignment\n",
    "\n",
    "We're going back to our other **New York City** real estate dataset. Instead of predicting apartment rents, you'll predict property sales prices.\n",
    "\n",
    "But not just for condos in Tribeca...\n",
    "\n",
    "- [ ] Use a subset of the data where `BUILDING_CLASS_CATEGORY` == `'01 ONE FAMILY DWELLINGS'` and the sale price was more than 100 thousand and less than 2 million.\n",
    "- [ ] Do train/test split. Use data from January — March 2019 to train. Use data from April 2019 to test.\n",
    "- [ ] Do one-hot encoding of categorical features.\n",
    "- [ ] Do feature selection with `SelectKBest`.\n",
    "- [ ] Fit a ridge regression model with multiple features. Use the `normalize=True` parameter (or do [feature scaling](https://scikit-learn.org/stable/modules/preprocessing.html) beforehand — use the scaler's `fit_transform` method with the train set, and the scaler's `transform` method with the test set)\n",
    "- [ ] Get mean absolute error for the test set.\n",
    "- [ ] As always, commit your notebook to your fork of the GitHub repo.\n",
    "\n",
    "The [NYC Department of Finance](https://www1.nyc.gov/site/finance/taxes/property-rolling-sales-data.page) has a glossary of property sales terms and NYC Building Class Code Descriptions. The data comes from the [NYC OpenData](https://data.cityofnewyork.us/browse?q=NYC%20calendar%20sales) portal.\n",
    "\n",
    "\n",
    "## Stretch Goals\n",
    "\n",
    "Don't worry, you aren't expected to do all these stretch goals! These are just ideas to consider and choose from.\n",
    "\n",
    "- [ ] Add your own stretch goal(s) !\n",
    "- [ ] Instead of `Ridge`, try `LinearRegression`. Depending on how many features you select, your errors will probably blow up! 💥\n",
    "- [ ] Instead of `Ridge`, try [`RidgeCV`](https://scikit-learn.org/stable/modules/generated/sklearn.linear_model.RidgeCV.html).\n",
    "- [ ] Learn more about feature selection:\n",
    "    - [\"Permutation importance\"](https://www.kaggle.com/dansbecker/permutation-importance)\n",
    "    - [scikit-learn's User Guide for Feature Selection](https://scikit-learn.org/stable/modules/feature_selection.html)\n",
    "    - [mlxtend](http://rasbt.github.io/mlxtend/) library\n",
    "    - scikit-learn-contrib libraries: [boruta_py](https://github.com/scikit-learn-contrib/boruta_py) & [stability-selection](https://github.com/scikit-learn-contrib/stability-selection)\n",
    "    - [_Feature Engineering and Selection_](http://www.feat.engineering/) by Kuhn & Johnson.\n",
    "- [ ] Try [statsmodels](https://www.statsmodels.org/stable/index.html) if you’re interested in more inferential statistical approach to linear regression and feature selection, looking at p values and 95% confidence intervals for the coefficients.\n",
    "- [ ] Read [_An Introduction to Statistical Learning_](http://faculty.marshall.usc.edu/gareth-james/ISL/ISLR%20Seventh%20Printing.pdf), Chapters 1-3, for more math & theory, but in an accessible, readable way.\n",
    "- [ ] Try [scikit-learn pipelines](https://scikit-learn.org/stable/modules/compose.html)."
   ]
  },
  {
   "cell_type": "code",
   "execution_count": 1,
   "metadata": {
    "colab": {},
    "colab_type": "code",
    "id": "o9eSnDYhUGD7"
   },
   "outputs": [],
   "source": [
    "%%capture\n",
    "import sys\n",
    "\n",
    "# If you're on Colab:\n",
    "if 'google.colab' in sys.modules:\n",
    "    DATA_PATH = 'https://github.com/skhabiri/PredictiveModeling-LinearModels-u2s1/tree/master/data/'\n",
    "    !pip install category_encoders==2.*\n",
    "\n",
    "# If you're working locally:\n",
    "else:\n",
    "    DATA_PATH = '../data/'\n",
    "    \n",
    "# Ignore this Numpy warning when using Plotly Express:\n",
    "# FutureWarning: Method .ptp is deprecated and will be removed in a future version. Use numpy.ptp instead.\n",
    "import warnings\n",
    "warnings.filterwarnings(action='ignore', category=FutureWarning, module='numpy')"
   ]
  },
  {
   "cell_type": "code",
   "execution_count": 2,
   "metadata": {
    "colab": {},
    "colab_type": "code",
    "id": "QJBD4ruICm1m"
   },
   "outputs": [],
   "source": [
    "import pandas as pd\n",
    "import pandas_profiling\n",
    "\n",
    "# Read New York City property sales data\n",
    "df = pd.read_csv(DATA_PATH+'condos/NYC_Citywide_Rolling_Calendar_Sales.csv')"
   ]
  },
  {
   "cell_type": "code",
   "execution_count": 3,
   "metadata": {
    "colab": {
     "base_uri": "https://localhost:8080/",
     "height": 158
    },
    "colab_type": "code",
    "id": "Dq68vY3-SdeN",
    "outputId": "a39ae58d-066d-4b96-8979-5bc3bcccba3e"
   },
   "outputs": [
    {
     "data": {
      "text/plain": [
       "Index(['BOROUGH', 'NEIGHBORHOOD', 'BUILDING CLASS CATEGORY',\n",
       "       'TAX CLASS AT PRESENT', 'BLOCK', 'LOT', 'EASE-MENT',\n",
       "       'BUILDING CLASS AT PRESENT', 'ADDRESS', 'APARTMENT NUMBER', 'ZIP CODE',\n",
       "       'RESIDENTIAL UNITS', 'COMMERCIAL UNITS', 'TOTAL UNITS',\n",
       "       'LAND SQUARE FEET', 'GROSS SQUARE FEET', 'YEAR BUILT',\n",
       "       'TAX CLASS AT TIME OF SALE', 'BUILDING CLASS AT TIME OF SALE',\n",
       "       'SALE PRICE', 'SALE DATE'],\n",
       "      dtype='object')"
      ]
     },
     "execution_count": 3,
     "metadata": {},
     "output_type": "execute_result"
    }
   ],
   "source": [
    "df.columns"
   ]
  },
  {
   "cell_type": "code",
   "execution_count": 4,
   "metadata": {
    "colab": {
     "base_uri": "https://localhost:8080/",
     "height": 230
    },
    "colab_type": "code",
    "id": "7GR0RScBSgSy",
    "outputId": "27fb60a3-4260-4a61-ede7-6a562feb1800"
   },
   "outputs": [
    {
     "data": {
      "text/plain": [
       "0              $   - 0\n",
       "1              $   - 0\n",
       "2              $   - 0\n",
       "3              $   - 0\n",
       "4              $   - 0\n",
       "             ...      \n",
       "23035      $   510,000\n",
       "23036      $   355,000\n",
       "23037      $   375,000\n",
       "23038    $   1,100,000\n",
       "23039      $   569,202\n",
       "Name: SALE PRICE, Length: 23040, dtype: object"
      ]
     },
     "execution_count": 4,
     "metadata": {},
     "output_type": "execute_result"
    }
   ],
   "source": [
    "df[\"SALE PRICE\"]"
   ]
  },
  {
   "cell_type": "code",
   "execution_count": 5,
   "metadata": {
    "colab": {},
    "colab_type": "code",
    "id": "vea5sdzSSWMk"
   },
   "outputs": [],
   "source": [
    "# Change column names: replace spaces with underscores\n",
    "df.columns = [col.replace(' ', '_') for col in df]\n",
    "\n",
    "# SALE_PRICE was read as strings.\n",
    "# Remove symbols, convert to integer\n",
    "df['SALE_PRICE'] = (\n",
    "    df['SALE_PRICE']\n",
    "    .str.replace('$','')\n",
    "    .str.replace('-','')\n",
    "    .str.replace(',','')\n",
    "    .astype(int)\n",
    ")"
   ]
  },
  {
   "cell_type": "code",
   "execution_count": 6,
   "metadata": {
    "colab": {
     "base_uri": "https://localhost:8080/",
     "height": 230
    },
    "colab_type": "code",
    "id": "hjGQbOrSS037",
    "outputId": "8eaefb65-0950-462f-dd00-9fab8e948992"
   },
   "outputs": [
    {
     "data": {
      "text/plain": [
       "50             0\n",
       "51             0\n",
       "52             0\n",
       "53             0\n",
       "54             0\n",
       "          ...   \n",
       "23035     510000\n",
       "23036     355000\n",
       "23037     375000\n",
       "23038    1100000\n",
       "23039     569202\n",
       "Name: SALE_PRICE, Length: 22990, dtype: int64"
      ]
     },
     "execution_count": 6,
     "metadata": {},
     "output_type": "execute_result"
    }
   ],
   "source": [
    "df[\"SALE_PRICE\"][50:]"
   ]
  },
  {
   "cell_type": "code",
   "execution_count": 7,
   "metadata": {
    "colab": {
     "base_uri": "https://localhost:8080/",
     "height": 230
    },
    "colab_type": "code",
    "id": "NOOuBY4ITQ4w",
    "outputId": "b5638978-0fd4-4b4f-f0fd-fc6ad72a54b0"
   },
   "outputs": [
    {
     "data": {
      "text/plain": [
       "0        1\n",
       "1        1\n",
       "2        1\n",
       "3        1\n",
       "4        1\n",
       "        ..\n",
       "23035    4\n",
       "23036    4\n",
       "23037    4\n",
       "23038    4\n",
       "23039    4\n",
       "Name: BOROUGH, Length: 23040, dtype: int64"
      ]
     },
     "execution_count": 7,
     "metadata": {},
     "output_type": "execute_result"
    }
   ],
   "source": [
    "df['BOROUGH']"
   ]
  },
  {
   "cell_type": "code",
   "execution_count": 21,
   "metadata": {
    "colab": {},
    "colab_type": "code",
    "id": "6pulYBd0PNXt"
   },
   "outputs": [],
   "source": [
    "# BOROUGH is a numeric column, but arguably should be a categorical feature,\n",
    "# so convert it from a number to a string\n",
    "df['BOROUGH'] = df['BOROUGH'].astype(str)"
   ]
  },
  {
   "cell_type": "code",
   "execution_count": 22,
   "metadata": {
    "colab": {
     "base_uri": "https://localhost:8080/",
     "height": 230
    },
    "colab_type": "code",
    "id": "h96Atb1tUJrC",
    "outputId": "c8f9f381-386f-46bd-fbcd-f52791f5a547"
   },
   "outputs": [
    {
     "data": {
      "text/plain": [
       "44       3\n",
       "61       4\n",
       "78       2\n",
       "108      3\n",
       "111      3\n",
       "        ..\n",
       "23029    4\n",
       "23031    4\n",
       "23032    4\n",
       "23033    4\n",
       "23035    4\n",
       "Name: BOROUGH, Length: 3151, dtype: object"
      ]
     },
     "execution_count": 22,
     "metadata": {},
     "output_type": "execute_result"
    }
   ],
   "source": [
    "df['BOROUGH']"
   ]
  },
  {
   "cell_type": "code",
   "execution_count": 8,
   "metadata": {
    "colab": {
     "base_uri": "https://localhost:8080/",
     "height": 230
    },
    "colab_type": "code",
    "id": "w1vIBppDUS7G",
    "outputId": "7f46210b-36bf-4e2c-f2d7-4bb754e0abbe"
   },
   "outputs": [
    {
     "data": {
      "text/plain": [
       "0                        CHELSEA\n",
       "1                        FASHION\n",
       "2                        FASHION\n",
       "3         GREENWICH VILLAGE-WEST\n",
       "4        UPPER EAST SIDE (59-79)\n",
       "                  ...           \n",
       "23035                 ST. ALBANS\n",
       "23036                  SUNNYSIDE\n",
       "23037                  SUNNYSIDE\n",
       "23038                  WOODHAVEN\n",
       "23039                   WOODSIDE\n",
       "Name: NEIGHBORHOOD, Length: 23040, dtype: object"
      ]
     },
     "execution_count": 8,
     "metadata": {},
     "output_type": "execute_result"
    }
   ],
   "source": [
    "df['NEIGHBORHOOD']"
   ]
  },
  {
   "cell_type": "code",
   "execution_count": 9,
   "metadata": {
    "colab": {
     "base_uri": "https://localhost:8080/",
     "height": 230
    },
    "colab_type": "code",
    "id": "lZcNZslSUbjz",
    "outputId": "cb292573-d252-4121-c5eb-db87ba63b560"
   },
   "outputs": [
    {
     "data": {
      "text/plain": [
       "FLUSHING-NORTH               685\n",
       "UPPER EAST SIDE (59-79)      465\n",
       "UPPER EAST SIDE (79-96)      410\n",
       "BEDFORD STUYVESANT           408\n",
       "BOROUGH PARK                 376\n",
       "                            ... \n",
       "BRONX PARK                     1\n",
       "DONGAN HILLS-OLD TOWN          1\n",
       "FRESH KILLS                    1\n",
       "RICHMONDTOWN-LIGHTHS HILL      1\n",
       "CITY ISLAND-PELHAM STRIP       1\n",
       "Name: NEIGHBORHOOD, Length: 252, dtype: int64"
      ]
     },
     "execution_count": 9,
     "metadata": {},
     "output_type": "execute_result"
    }
   ],
   "source": [
    "df['NEIGHBORHOOD'].value_counts()"
   ]
  },
  {
   "cell_type": "code",
   "execution_count": 10,
   "metadata": {
    "colab": {},
    "colab_type": "code",
    "id": "IgwrdmFuPNXw"
   },
   "outputs": [],
   "source": [
    "# Reduce cardinality for NEIGHBORHOOD feature\n",
    "\n",
    "# Get a list of the top 10 neighborhoods\n",
    "top10 = df['NEIGHBORHOOD'].value_counts()[:10].index\n",
    "\n",
    "# At locations where the neighborhood is NOT in the top 10, \n",
    "# replace the neighborhood with 'OTHER'\n",
    "df.loc[~df['NEIGHBORHOOD'].isin(top10), 'NEIGHBORHOOD'] = 'OTHER'"
   ]
  },
  {
   "cell_type": "code",
   "execution_count": 13,
   "metadata": {
    "colab": {
     "base_uri": "https://localhost:8080/",
     "height": 230
    },
    "colab_type": "code",
    "id": "IB_DceqqUzAh",
    "outputId": "dcba113d-d590-4504-9ee7-835f38dcde7b"
   },
   "outputs": [
    {
     "data": {
      "text/plain": [
       "0        False\n",
       "1        False\n",
       "2        False\n",
       "3        False\n",
       "4         True\n",
       "         ...  \n",
       "23035    False\n",
       "23036    False\n",
       "23037    False\n",
       "23038    False\n",
       "23039    False\n",
       "Name: NEIGHBORHOOD, Length: 23040, dtype: bool"
      ]
     },
     "execution_count": 13,
     "metadata": {},
     "output_type": "execute_result"
    }
   ],
   "source": [
    "df['NEIGHBORHOOD'].isin(top10)"
   ]
  },
  {
   "cell_type": "code",
   "execution_count": 14,
   "metadata": {
    "colab": {
     "base_uri": "https://localhost:8080/",
     "height": 34
    },
    "colab_type": "code",
    "id": "ZLjeR48qWE9i",
    "outputId": "7336138c-bb44-44dc-fac2-e8066d199029"
   },
   "outputs": [
    {
     "data": {
      "text/plain": [
       "(23040, 21)"
      ]
     },
     "execution_count": 14,
     "metadata": {},
     "output_type": "execute_result"
    }
   ],
   "source": [
    "df.shape"
   ]
  },
  {
   "cell_type": "code",
   "execution_count": 15,
   "metadata": {
    "colab": {
     "base_uri": "https://localhost:8080/",
     "height": 230
    },
    "colab_type": "code",
    "id": "3IPTv_XWWOnv",
    "outputId": "76e4ffda-c28c-493d-f146-ddd8ff7c8236"
   },
   "outputs": [
    {
     "data": {
      "text/plain": [
       "0              0\n",
       "1              0\n",
       "2              0\n",
       "3              0\n",
       "4              0\n",
       "          ...   \n",
       "23035     510000\n",
       "23036     355000\n",
       "23037     375000\n",
       "23038    1100000\n",
       "23039     569202\n",
       "Name: SALE_PRICE, Length: 23040, dtype: int64"
      ]
     },
     "execution_count": 15,
     "metadata": {},
     "output_type": "execute_result"
    }
   ],
   "source": [
    "df[\"SALE_PRICE\"]"
   ]
  },
  {
   "cell_type": "code",
   "execution_count": 16,
   "metadata": {
    "colab": {},
    "colab_type": "code",
    "id": "s7LcBZ9bPNXy"
   },
   "outputs": [],
   "source": [
    "# keeping samples from a certain range of SALE_PRICE and a specific BULDING_CLASS_CATEGORY.\n",
    "df = df[(df[\"BUILDING_CLASS_CATEGORY\"] == '01 ONE FAMILY DWELLINGS') & \n",
    "   (1e5 <df[\"SALE_PRICE\"]) & (df[\"SALE_PRICE\"]<2e6)]"
   ]
  },
  {
   "cell_type": "code",
   "execution_count": 17,
   "metadata": {
    "colab": {
     "base_uri": "https://localhost:8080/",
     "height": 34
    },
    "colab_type": "code",
    "id": "0VSDa-7pW8ur",
    "outputId": "f255a443-f38f-4668-c5fa-1fee57c8bcf3"
   },
   "outputs": [
    {
     "data": {
      "text/plain": [
       "(3151, 21)"
      ]
     },
     "execution_count": 17,
     "metadata": {},
     "output_type": "execute_result"
    }
   ],
   "source": [
    "df.shape"
   ]
  },
  {
   "cell_type": "code",
   "execution_count": 18,
   "metadata": {
    "colab": {
     "base_uri": "https://localhost:8080/",
     "height": 317
    },
    "colab_type": "code",
    "id": "Bv7DGsGCXvww",
    "outputId": "57c9f92e-8a43-4381-8382-629a8151fed4"
   },
   "outputs": [
    {
     "data": {
      "text/html": [
       "<div>\n",
       "<style scoped>\n",
       "    .dataframe tbody tr th:only-of-type {\n",
       "        vertical-align: middle;\n",
       "    }\n",
       "\n",
       "    .dataframe tbody tr th {\n",
       "        vertical-align: top;\n",
       "    }\n",
       "\n",
       "    .dataframe thead th {\n",
       "        text-align: right;\n",
       "    }\n",
       "</style>\n",
       "<table border=\"1\" class=\"dataframe\">\n",
       "  <thead>\n",
       "    <tr style=\"text-align: right;\">\n",
       "      <th></th>\n",
       "      <th>BOROUGH</th>\n",
       "      <th>NEIGHBORHOOD</th>\n",
       "      <th>BUILDING_CLASS_CATEGORY</th>\n",
       "      <th>TAX_CLASS_AT_PRESENT</th>\n",
       "      <th>BLOCK</th>\n",
       "      <th>LOT</th>\n",
       "      <th>EASE-MENT</th>\n",
       "      <th>BUILDING_CLASS_AT_PRESENT</th>\n",
       "      <th>ADDRESS</th>\n",
       "      <th>APARTMENT_NUMBER</th>\n",
       "      <th>...</th>\n",
       "      <th>RESIDENTIAL_UNITS</th>\n",
       "      <th>COMMERCIAL_UNITS</th>\n",
       "      <th>TOTAL_UNITS</th>\n",
       "      <th>LAND_SQUARE_FEET</th>\n",
       "      <th>GROSS_SQUARE_FEET</th>\n",
       "      <th>YEAR_BUILT</th>\n",
       "      <th>TAX_CLASS_AT_TIME_OF_SALE</th>\n",
       "      <th>BUILDING_CLASS_AT_TIME_OF_SALE</th>\n",
       "      <th>SALE_PRICE</th>\n",
       "      <th>SALE_DATE</th>\n",
       "    </tr>\n",
       "  </thead>\n",
       "  <tbody>\n",
       "    <tr>\n",
       "      <th>44</th>\n",
       "      <td>3</td>\n",
       "      <td>OTHER</td>\n",
       "      <td>01 ONE FAMILY DWELLINGS</td>\n",
       "      <td>1</td>\n",
       "      <td>5495</td>\n",
       "      <td>801</td>\n",
       "      <td>NaN</td>\n",
       "      <td>A9</td>\n",
       "      <td>4832 BAY PARKWAY</td>\n",
       "      <td>NaN</td>\n",
       "      <td>...</td>\n",
       "      <td>1.0</td>\n",
       "      <td>0.0</td>\n",
       "      <td>1.0</td>\n",
       "      <td>6,800</td>\n",
       "      <td>1325.0</td>\n",
       "      <td>1930.0</td>\n",
       "      <td>1</td>\n",
       "      <td>A9</td>\n",
       "      <td>550000</td>\n",
       "      <td>01/01/2019</td>\n",
       "    </tr>\n",
       "    <tr>\n",
       "      <th>61</th>\n",
       "      <td>4</td>\n",
       "      <td>OTHER</td>\n",
       "      <td>01 ONE FAMILY DWELLINGS</td>\n",
       "      <td>1</td>\n",
       "      <td>7918</td>\n",
       "      <td>72</td>\n",
       "      <td>NaN</td>\n",
       "      <td>A1</td>\n",
       "      <td>80-23 232ND STREET</td>\n",
       "      <td>NaN</td>\n",
       "      <td>...</td>\n",
       "      <td>1.0</td>\n",
       "      <td>0.0</td>\n",
       "      <td>1.0</td>\n",
       "      <td>4,000</td>\n",
       "      <td>2001.0</td>\n",
       "      <td>1940.0</td>\n",
       "      <td>1</td>\n",
       "      <td>A1</td>\n",
       "      <td>200000</td>\n",
       "      <td>01/01/2019</td>\n",
       "    </tr>\n",
       "    <tr>\n",
       "      <th>78</th>\n",
       "      <td>2</td>\n",
       "      <td>OTHER</td>\n",
       "      <td>01 ONE FAMILY DWELLINGS</td>\n",
       "      <td>1</td>\n",
       "      <td>4210</td>\n",
       "      <td>19</td>\n",
       "      <td>NaN</td>\n",
       "      <td>A1</td>\n",
       "      <td>1260 RHINELANDER AVE</td>\n",
       "      <td>NaN</td>\n",
       "      <td>...</td>\n",
       "      <td>1.0</td>\n",
       "      <td>0.0</td>\n",
       "      <td>1.0</td>\n",
       "      <td>3,500</td>\n",
       "      <td>2043.0</td>\n",
       "      <td>1925.0</td>\n",
       "      <td>1</td>\n",
       "      <td>A1</td>\n",
       "      <td>810000</td>\n",
       "      <td>01/02/2019</td>\n",
       "    </tr>\n",
       "    <tr>\n",
       "      <th>108</th>\n",
       "      <td>3</td>\n",
       "      <td>OTHER</td>\n",
       "      <td>01 ONE FAMILY DWELLINGS</td>\n",
       "      <td>1</td>\n",
       "      <td>5212</td>\n",
       "      <td>69</td>\n",
       "      <td>NaN</td>\n",
       "      <td>A1</td>\n",
       "      <td>469 E 25TH ST</td>\n",
       "      <td>NaN</td>\n",
       "      <td>...</td>\n",
       "      <td>1.0</td>\n",
       "      <td>0.0</td>\n",
       "      <td>1.0</td>\n",
       "      <td>4,000</td>\n",
       "      <td>2680.0</td>\n",
       "      <td>1899.0</td>\n",
       "      <td>1</td>\n",
       "      <td>A1</td>\n",
       "      <td>125000</td>\n",
       "      <td>01/02/2019</td>\n",
       "    </tr>\n",
       "    <tr>\n",
       "      <th>111</th>\n",
       "      <td>3</td>\n",
       "      <td>OTHER</td>\n",
       "      <td>01 ONE FAMILY DWELLINGS</td>\n",
       "      <td>1</td>\n",
       "      <td>7930</td>\n",
       "      <td>121</td>\n",
       "      <td>NaN</td>\n",
       "      <td>A5</td>\n",
       "      <td>5521 WHITTY LANE</td>\n",
       "      <td>NaN</td>\n",
       "      <td>...</td>\n",
       "      <td>1.0</td>\n",
       "      <td>0.0</td>\n",
       "      <td>1.0</td>\n",
       "      <td>1,710</td>\n",
       "      <td>1872.0</td>\n",
       "      <td>1940.0</td>\n",
       "      <td>1</td>\n",
       "      <td>A5</td>\n",
       "      <td>620000</td>\n",
       "      <td>01/02/2019</td>\n",
       "    </tr>\n",
       "  </tbody>\n",
       "</table>\n",
       "<p>5 rows × 21 columns</p>\n",
       "</div>"
      ],
      "text/plain": [
       "     BOROUGH NEIGHBORHOOD  BUILDING_CLASS_CATEGORY TAX_CLASS_AT_PRESENT  \\\n",
       "44         3        OTHER  01 ONE FAMILY DWELLINGS                    1   \n",
       "61         4        OTHER  01 ONE FAMILY DWELLINGS                    1   \n",
       "78         2        OTHER  01 ONE FAMILY DWELLINGS                    1   \n",
       "108        3        OTHER  01 ONE FAMILY DWELLINGS                    1   \n",
       "111        3        OTHER  01 ONE FAMILY DWELLINGS                    1   \n",
       "\n",
       "     BLOCK  LOT  EASE-MENT BUILDING_CLASS_AT_PRESENT               ADDRESS  \\\n",
       "44    5495  801        NaN                        A9      4832 BAY PARKWAY   \n",
       "61    7918   72        NaN                        A1    80-23 232ND STREET   \n",
       "78    4210   19        NaN                        A1  1260 RHINELANDER AVE   \n",
       "108   5212   69        NaN                        A1         469 E 25TH ST   \n",
       "111   7930  121        NaN                        A5      5521 WHITTY LANE   \n",
       "\n",
       "    APARTMENT_NUMBER  ...  RESIDENTIAL_UNITS  COMMERCIAL_UNITS  TOTAL_UNITS  \\\n",
       "44               NaN  ...                1.0               0.0          1.0   \n",
       "61               NaN  ...                1.0               0.0          1.0   \n",
       "78               NaN  ...                1.0               0.0          1.0   \n",
       "108              NaN  ...                1.0               0.0          1.0   \n",
       "111              NaN  ...                1.0               0.0          1.0   \n",
       "\n",
       "     LAND_SQUARE_FEET GROSS_SQUARE_FEET  YEAR_BUILT  \\\n",
       "44              6,800            1325.0      1930.0   \n",
       "61              4,000            2001.0      1940.0   \n",
       "78              3,500            2043.0      1925.0   \n",
       "108             4,000            2680.0      1899.0   \n",
       "111             1,710            1872.0      1940.0   \n",
       "\n",
       "     TAX_CLASS_AT_TIME_OF_SALE  BUILDING_CLASS_AT_TIME_OF_SALE SALE_PRICE  \\\n",
       "44                           1                              A9     550000   \n",
       "61                           1                              A1     200000   \n",
       "78                           1                              A1     810000   \n",
       "108                          1                              A1     125000   \n",
       "111                          1                              A5     620000   \n",
       "\n",
       "      SALE_DATE  \n",
       "44   01/01/2019  \n",
       "61   01/01/2019  \n",
       "78   01/02/2019  \n",
       "108  01/02/2019  \n",
       "111  01/02/2019  \n",
       "\n",
       "[5 rows x 21 columns]"
      ]
     },
     "execution_count": 18,
     "metadata": {},
     "output_type": "execute_result"
    }
   ],
   "source": [
    "df.head()"
   ]
  },
  {
   "cell_type": "code",
   "execution_count": 25,
   "metadata": {
    "colab": {
     "base_uri": "https://localhost:8080/",
     "height": 514
    },
    "colab_type": "code",
    "id": "qccDF5acX-Wz",
    "outputId": "07cd7ee1-c449-43b1-a207-6c9e4d689d55"
   },
   "outputs": [
    {
     "name": "stdout",
     "output_type": "stream",
     "text": [
      "<class 'pandas.core.frame.DataFrame'>\n",
      "Int64Index: 3151 entries, 44 to 23035\n",
      "Data columns (total 21 columns):\n",
      " #   Column                          Non-Null Count  Dtype         \n",
      "---  ------                          --------------  -----         \n",
      " 0   BOROUGH                         3151 non-null   object        \n",
      " 1   NEIGHBORHOOD                    3151 non-null   object        \n",
      " 2   BUILDING_CLASS_CATEGORY         3151 non-null   object        \n",
      " 3   TAX_CLASS_AT_PRESENT            3151 non-null   object        \n",
      " 4   BLOCK                           3151 non-null   int64         \n",
      " 5   LOT                             3151 non-null   int64         \n",
      " 6   EASE-MENT                       0 non-null      float64       \n",
      " 7   BUILDING_CLASS_AT_PRESENT       3151 non-null   object        \n",
      " 8   ADDRESS                         3151 non-null   object        \n",
      " 9   APARTMENT_NUMBER                1 non-null      object        \n",
      " 10  ZIP_CODE                        3151 non-null   float64       \n",
      " 11  RESIDENTIAL_UNITS               3151 non-null   float64       \n",
      " 12  COMMERCIAL_UNITS                3151 non-null   float64       \n",
      " 13  TOTAL_UNITS                     3151 non-null   float64       \n",
      " 14  LAND_SQUARE_FEET                3151 non-null   object        \n",
      " 15  GROSS_SQUARE_FEET               3151 non-null   float64       \n",
      " 16  YEAR_BUILT                      3151 non-null   float64       \n",
      " 17  TAX_CLASS_AT_TIME_OF_SALE       3151 non-null   int64         \n",
      " 18  BUILDING_CLASS_AT_TIME_OF_SALE  3151 non-null   object        \n",
      " 19  SALE_PRICE                      3151 non-null   int64         \n",
      " 20  SALE_DATE                       3151 non-null   datetime64[ns]\n",
      "dtypes: datetime64[ns](1), float64(7), int64(4), object(9)\n",
      "memory usage: 541.6+ KB\n"
     ]
    }
   ],
   "source": [
    "df.info()"
   ]
  },
  {
   "cell_type": "code",
   "execution_count": 24,
   "metadata": {
    "colab": {},
    "colab_type": "code",
    "id": "Rqw9ILoqYDh8"
   },
   "outputs": [],
   "source": [
    "# Convert SALE_DATE to date time format\n",
    "df['SALE_DATE'] = pd.to_datetime(df['SALE_DATE'], infer_datetime_format=True)"
   ]
  },
  {
   "cell_type": "code",
   "execution_count": 26,
   "metadata": {
    "colab": {},
    "colab_type": "code",
    "id": "l_T-DVnLXLGW"
   },
   "outputs": [],
   "source": [
    "cutoff = pd.to_datetime('04-01-2019')\n",
    "# cutoff = pd.to_datetime('2019-04-01')\n",
    "df[df['SALE_DATE'] <= cutoff]\n",
    "train = df[df['SALE_DATE'] <= cutoff]\n",
    "test  = df[df['SALE_DATE'] > cutoff]"
   ]
  },
  {
   "cell_type": "code",
   "execution_count": 27,
   "metadata": {
    "colab": {
     "base_uri": "https://localhost:8080/",
     "height": 314
    },
    "colab_type": "code",
    "id": "Ll7BRu8oanBS",
    "outputId": "24a72e90-c6f6-4532-9ea9-c086f026afd8"
   },
   "outputs": [
    {
     "name": "stderr",
     "output_type": "stream",
     "text": [
      "/Users/shahnam/.pyenv/versions/3.7.8/lib/python3.7/site-packages/ipykernel_launcher.py:1: FutureWarning: Treating datetime data as categorical rather than numeric in `.describe` is deprecated and will be removed in a future version of pandas. Specify `datetime_is_numeric=True` to silence this warning and adopt the future behavior now.\n",
      "  \"\"\"Entry point for launching an IPython kernel.\n"
     ]
    },
    {
     "data": {
      "text/html": [
       "<div>\n",
       "<style scoped>\n",
       "    .dataframe tbody tr th:only-of-type {\n",
       "        vertical-align: middle;\n",
       "    }\n",
       "\n",
       "    .dataframe tbody tr th {\n",
       "        vertical-align: top;\n",
       "    }\n",
       "\n",
       "    .dataframe thead th {\n",
       "        text-align: right;\n",
       "    }\n",
       "</style>\n",
       "<table border=\"1\" class=\"dataframe\">\n",
       "  <thead>\n",
       "    <tr style=\"text-align: right;\">\n",
       "      <th></th>\n",
       "      <th>BOROUGH</th>\n",
       "      <th>NEIGHBORHOOD</th>\n",
       "      <th>BUILDING_CLASS_CATEGORY</th>\n",
       "      <th>TAX_CLASS_AT_PRESENT</th>\n",
       "      <th>BUILDING_CLASS_AT_PRESENT</th>\n",
       "      <th>ADDRESS</th>\n",
       "      <th>APARTMENT_NUMBER</th>\n",
       "      <th>LAND_SQUARE_FEET</th>\n",
       "      <th>BUILDING_CLASS_AT_TIME_OF_SALE</th>\n",
       "      <th>SALE_DATE</th>\n",
       "    </tr>\n",
       "  </thead>\n",
       "  <tbody>\n",
       "    <tr>\n",
       "      <th>count</th>\n",
       "      <td>2548</td>\n",
       "      <td>2548</td>\n",
       "      <td>2548</td>\n",
       "      <td>2548</td>\n",
       "      <td>2548</td>\n",
       "      <td>2548</td>\n",
       "      <td>1</td>\n",
       "      <td>2548</td>\n",
       "      <td>2548</td>\n",
       "      <td>2548</td>\n",
       "    </tr>\n",
       "    <tr>\n",
       "      <th>unique</th>\n",
       "      <td>5</td>\n",
       "      <td>7</td>\n",
       "      <td>1</td>\n",
       "      <td>2</td>\n",
       "      <td>13</td>\n",
       "      <td>2538</td>\n",
       "      <td>1</td>\n",
       "      <td>901</td>\n",
       "      <td>11</td>\n",
       "      <td>69</td>\n",
       "    </tr>\n",
       "    <tr>\n",
       "      <th>top</th>\n",
       "      <td>4</td>\n",
       "      <td>OTHER</td>\n",
       "      <td>01 ONE FAMILY DWELLINGS</td>\n",
       "      <td>1</td>\n",
       "      <td>A1</td>\n",
       "      <td>125-27 LUCAS STREET</td>\n",
       "      <td>RP.</td>\n",
       "      <td>4,000</td>\n",
       "      <td>A1</td>\n",
       "      <td>2019-01-31 00:00:00</td>\n",
       "    </tr>\n",
       "    <tr>\n",
       "      <th>freq</th>\n",
       "      <td>1226</td>\n",
       "      <td>2400</td>\n",
       "      <td>2548</td>\n",
       "      <td>2515</td>\n",
       "      <td>933</td>\n",
       "      <td>2</td>\n",
       "      <td>1</td>\n",
       "      <td>236</td>\n",
       "      <td>934</td>\n",
       "      <td>78</td>\n",
       "    </tr>\n",
       "    <tr>\n",
       "      <th>first</th>\n",
       "      <td>NaN</td>\n",
       "      <td>NaN</td>\n",
       "      <td>NaN</td>\n",
       "      <td>NaN</td>\n",
       "      <td>NaN</td>\n",
       "      <td>NaN</td>\n",
       "      <td>NaN</td>\n",
       "      <td>NaN</td>\n",
       "      <td>NaN</td>\n",
       "      <td>2019-01-01 00:00:00</td>\n",
       "    </tr>\n",
       "    <tr>\n",
       "      <th>last</th>\n",
       "      <td>NaN</td>\n",
       "      <td>NaN</td>\n",
       "      <td>NaN</td>\n",
       "      <td>NaN</td>\n",
       "      <td>NaN</td>\n",
       "      <td>NaN</td>\n",
       "      <td>NaN</td>\n",
       "      <td>NaN</td>\n",
       "      <td>NaN</td>\n",
       "      <td>2019-04-01 00:00:00</td>\n",
       "    </tr>\n",
       "  </tbody>\n",
       "</table>\n",
       "</div>"
      ],
      "text/plain": [
       "       BOROUGH NEIGHBORHOOD  BUILDING_CLASS_CATEGORY TAX_CLASS_AT_PRESENT  \\\n",
       "count     2548         2548                     2548                 2548   \n",
       "unique       5            7                        1                    2   \n",
       "top          4        OTHER  01 ONE FAMILY DWELLINGS                    1   \n",
       "freq      1226         2400                     2548                 2515   \n",
       "first      NaN          NaN                      NaN                  NaN   \n",
       "last       NaN          NaN                      NaN                  NaN   \n",
       "\n",
       "       BUILDING_CLASS_AT_PRESENT              ADDRESS APARTMENT_NUMBER  \\\n",
       "count                       2548                 2548                1   \n",
       "unique                        13                 2538                1   \n",
       "top                           A1  125-27 LUCAS STREET              RP.   \n",
       "freq                         933                    2                1   \n",
       "first                        NaN                  NaN              NaN   \n",
       "last                         NaN                  NaN              NaN   \n",
       "\n",
       "       LAND_SQUARE_FEET BUILDING_CLASS_AT_TIME_OF_SALE            SALE_DATE  \n",
       "count              2548                           2548                 2548  \n",
       "unique              901                             11                   69  \n",
       "top               4,000                             A1  2019-01-31 00:00:00  \n",
       "freq                236                            934                   78  \n",
       "first               NaN                            NaN  2019-01-01 00:00:00  \n",
       "last                NaN                            NaN  2019-04-01 00:00:00  "
      ]
     },
     "execution_count": 27,
     "metadata": {},
     "output_type": "execute_result"
    }
   ],
   "source": [
    "train.describe(exclude='number')"
   ]
  },
  {
   "cell_type": "code",
   "execution_count": 28,
   "metadata": {
    "colab": {
     "base_uri": "https://localhost:8080/",
     "height": 647
    },
    "colab_type": "code",
    "id": "-nLmLSO5dtIM",
    "outputId": "bd5d8ad7-49d4-470d-8fbd-62a5ac94e3f2"
   },
   "outputs": [
    {
     "data": {
      "text/html": [
       "<div>\n",
       "<style scoped>\n",
       "    .dataframe tbody tr th:only-of-type {\n",
       "        vertical-align: middle;\n",
       "    }\n",
       "\n",
       "    .dataframe tbody tr th {\n",
       "        vertical-align: top;\n",
       "    }\n",
       "\n",
       "    .dataframe thead th {\n",
       "        text-align: right;\n",
       "    }\n",
       "</style>\n",
       "<table border=\"1\" class=\"dataframe\">\n",
       "  <thead>\n",
       "    <tr style=\"text-align: right;\">\n",
       "      <th></th>\n",
       "      <th>BOROUGH</th>\n",
       "      <th>NEIGHBORHOOD</th>\n",
       "    </tr>\n",
       "  </thead>\n",
       "  <tbody>\n",
       "    <tr>\n",
       "      <th>44</th>\n",
       "      <td>3</td>\n",
       "      <td>OTHER</td>\n",
       "    </tr>\n",
       "    <tr>\n",
       "      <th>61</th>\n",
       "      <td>4</td>\n",
       "      <td>OTHER</td>\n",
       "    </tr>\n",
       "    <tr>\n",
       "      <th>78</th>\n",
       "      <td>2</td>\n",
       "      <td>OTHER</td>\n",
       "    </tr>\n",
       "    <tr>\n",
       "      <th>108</th>\n",
       "      <td>3</td>\n",
       "      <td>OTHER</td>\n",
       "    </tr>\n",
       "    <tr>\n",
       "      <th>111</th>\n",
       "      <td>3</td>\n",
       "      <td>OTHER</td>\n",
       "    </tr>\n",
       "    <tr>\n",
       "      <th>120</th>\n",
       "      <td>3</td>\n",
       "      <td>OTHER</td>\n",
       "    </tr>\n",
       "    <tr>\n",
       "      <th>121</th>\n",
       "      <td>3</td>\n",
       "      <td>OTHER</td>\n",
       "    </tr>\n",
       "    <tr>\n",
       "      <th>132</th>\n",
       "      <td>4</td>\n",
       "      <td>OTHER</td>\n",
       "    </tr>\n",
       "    <tr>\n",
       "      <th>137</th>\n",
       "      <td>4</td>\n",
       "      <td>OTHER</td>\n",
       "    </tr>\n",
       "    <tr>\n",
       "      <th>141</th>\n",
       "      <td>4</td>\n",
       "      <td>FLUSHING-NORTH</td>\n",
       "    </tr>\n",
       "    <tr>\n",
       "      <th>150</th>\n",
       "      <td>4</td>\n",
       "      <td>OTHER</td>\n",
       "    </tr>\n",
       "    <tr>\n",
       "      <th>155</th>\n",
       "      <td>4</td>\n",
       "      <td>OTHER</td>\n",
       "    </tr>\n",
       "    <tr>\n",
       "      <th>156</th>\n",
       "      <td>4</td>\n",
       "      <td>OTHER</td>\n",
       "    </tr>\n",
       "    <tr>\n",
       "      <th>157</th>\n",
       "      <td>4</td>\n",
       "      <td>OTHER</td>\n",
       "    </tr>\n",
       "    <tr>\n",
       "      <th>160</th>\n",
       "      <td>4</td>\n",
       "      <td>OTHER</td>\n",
       "    </tr>\n",
       "    <tr>\n",
       "      <th>162</th>\n",
       "      <td>4</td>\n",
       "      <td>OTHER</td>\n",
       "    </tr>\n",
       "    <tr>\n",
       "      <th>176</th>\n",
       "      <td>4</td>\n",
       "      <td>OTHER</td>\n",
       "    </tr>\n",
       "    <tr>\n",
       "      <th>178</th>\n",
       "      <td>4</td>\n",
       "      <td>OTHER</td>\n",
       "    </tr>\n",
       "    <tr>\n",
       "      <th>180</th>\n",
       "      <td>4</td>\n",
       "      <td>OTHER</td>\n",
       "    </tr>\n",
       "    <tr>\n",
       "      <th>184</th>\n",
       "      <td>5</td>\n",
       "      <td>OTHER</td>\n",
       "    </tr>\n",
       "  </tbody>\n",
       "</table>\n",
       "</div>"
      ],
      "text/plain": [
       "    BOROUGH    NEIGHBORHOOD\n",
       "44        3           OTHER\n",
       "61        4           OTHER\n",
       "78        2           OTHER\n",
       "108       3           OTHER\n",
       "111       3           OTHER\n",
       "120       3           OTHER\n",
       "121       3           OTHER\n",
       "132       4           OTHER\n",
       "137       4           OTHER\n",
       "141       4  FLUSHING-NORTH\n",
       "150       4           OTHER\n",
       "155       4           OTHER\n",
       "156       4           OTHER\n",
       "157       4           OTHER\n",
       "160       4           OTHER\n",
       "162       4           OTHER\n",
       "176       4           OTHER\n",
       "178       4           OTHER\n",
       "180       4           OTHER\n",
       "184       5           OTHER"
      ]
     },
     "execution_count": 28,
     "metadata": {},
     "output_type": "execute_result"
    }
   ],
   "source": [
    "train[[\"BOROUGH\", \"NEIGHBORHOOD\"]].head(20)"
   ]
  },
  {
   "cell_type": "code",
   "execution_count": 29,
   "metadata": {
    "colab": {},
    "colab_type": "code",
    "id": "bk_-IDrOdd8e"
   },
   "outputs": [],
   "source": [
    "cat_feat = [\"NEIGHBORHOOD\"]"
   ]
  },
  {
   "cell_type": "code",
   "execution_count": 30,
   "metadata": {
    "colab": {},
    "colab_type": "code",
    "id": "HtFoN_N8eywx"
   },
   "outputs": [],
   "source": [
    "from sklearn.preprocessing import OneHotEncoder"
   ]
  },
  {
   "cell_type": "code",
   "execution_count": 31,
   "metadata": {
    "colab": {
     "base_uri": "https://localhost:8080/",
     "height": 478
    },
    "colab_type": "code",
    "id": "K9sj-epeaejO",
    "outputId": "5e492ea9-3ae0-4414-e1b6-57dce0c79f7e"
   },
   "outputs": [
    {
     "name": "stdout",
     "output_type": "stream",
     "text": [
      "<class 'numpy.ndarray'>\n",
      "[[0. 0. 0. 0. 0. 0. 1.]\n",
      " [0. 0. 0. 0. 0. 0. 1.]\n",
      " [0. 0. 0. 0. 0. 0. 1.]\n",
      " [0. 0. 0. 0. 0. 0. 1.]\n",
      " [0. 0. 0. 0. 0. 0. 1.]\n",
      " [0. 0. 0. 0. 0. 0. 1.]\n",
      " [0. 0. 0. 0. 0. 0. 1.]\n",
      " [0. 0. 0. 0. 0. 0. 1.]\n",
      " [0. 0. 0. 0. 0. 0. 1.]\n",
      " [0. 0. 0. 0. 1. 0. 0.]\n",
      " [0. 0. 0. 0. 0. 0. 1.]\n",
      " [0. 0. 0. 0. 0. 0. 1.]\n",
      " [0. 0. 0. 0. 0. 0. 1.]\n",
      " [0. 0. 0. 0. 0. 0. 1.]\n",
      " [0. 0. 0. 0. 0. 0. 1.]\n",
      " [0. 0. 0. 0. 0. 0. 1.]\n",
      " [0. 0. 0. 0. 0. 0. 1.]\n",
      " [0. 0. 0. 0. 0. 0. 1.]\n",
      " [0. 0. 0. 0. 0. 0. 1.]\n",
      " [0. 0. 0. 0. 0. 0. 1.]\n",
      " [0. 0. 0. 0. 0. 0. 1.]\n",
      " [0. 0. 0. 0. 0. 0. 1.]\n",
      " [0. 0. 0. 0. 0. 0. 1.]\n",
      " [0. 0. 0. 0. 0. 0. 1.]\n",
      " [0. 0. 0. 0. 0. 0. 1.]]\n"
     ]
    }
   ],
   "source": [
    "ohe = OneHotEncoder(sparse=False)\n",
    "train_trans = ohe.fit_transform(train[cat_feat])\n",
    "print(type(train_trans))\n",
    "print(train_trans[:25])"
   ]
  },
  {
   "cell_type": "code",
   "execution_count": 32,
   "metadata": {
    "colab": {
     "base_uri": "https://localhost:8080/",
     "height": 514
    },
    "colab_type": "code",
    "id": "5qJBm99Zfvmu",
    "outputId": "df6c5355-e970-44d1-ff0c-b10c9dbd5677"
   },
   "outputs": [
    {
     "name": "stdout",
     "output_type": "stream",
     "text": [
      "<class 'pandas.core.frame.DataFrame'>\n",
      "Int64Index: 2548 entries, 44 to 18433\n",
      "Data columns (total 21 columns):\n",
      " #   Column                          Non-Null Count  Dtype         \n",
      "---  ------                          --------------  -----         \n",
      " 0   BOROUGH                         2548 non-null   object        \n",
      " 1   NEIGHBORHOOD                    2548 non-null   object        \n",
      " 2   BUILDING_CLASS_CATEGORY         2548 non-null   object        \n",
      " 3   TAX_CLASS_AT_PRESENT            2548 non-null   object        \n",
      " 4   BLOCK                           2548 non-null   int64         \n",
      " 5   LOT                             2548 non-null   int64         \n",
      " 6   EASE-MENT                       0 non-null      float64       \n",
      " 7   BUILDING_CLASS_AT_PRESENT       2548 non-null   object        \n",
      " 8   ADDRESS                         2548 non-null   object        \n",
      " 9   APARTMENT_NUMBER                1 non-null      object        \n",
      " 10  ZIP_CODE                        2548 non-null   float64       \n",
      " 11  RESIDENTIAL_UNITS               2548 non-null   float64       \n",
      " 12  COMMERCIAL_UNITS                2548 non-null   float64       \n",
      " 13  TOTAL_UNITS                     2548 non-null   float64       \n",
      " 14  LAND_SQUARE_FEET                2548 non-null   object        \n",
      " 15  GROSS_SQUARE_FEET               2548 non-null   float64       \n",
      " 16  YEAR_BUILT                      2548 non-null   float64       \n",
      " 17  TAX_CLASS_AT_TIME_OF_SALE       2548 non-null   int64         \n",
      " 18  BUILDING_CLASS_AT_TIME_OF_SALE  2548 non-null   object        \n",
      " 19  SALE_PRICE                      2548 non-null   int64         \n",
      " 20  SALE_DATE                       2548 non-null   datetime64[ns]\n",
      "dtypes: datetime64[ns](1), float64(7), int64(4), object(9)\n",
      "memory usage: 437.9+ KB\n"
     ]
    }
   ],
   "source": [
    "train.info()"
   ]
  },
  {
   "cell_type": "markdown",
   "metadata": {
    "colab_type": "text",
    "id": "rGK9tGcnhCHx"
   },
   "source": [
    "* Total Unit is linearly related to residential and commercial unit columns.\n",
    "The redundancy will be removed"
   ]
  },
  {
   "cell_type": "code",
   "execution_count": 33,
   "metadata": {
    "colab": {
     "base_uri": "https://localhost:8080/",
     "height": 347
    },
    "colab_type": "code",
    "id": "DDHVVDeNgnlS",
    "outputId": "fe74d9fb-8a97-4044-a748-41b84fbcb6a4"
   },
   "outputs": [
    {
     "data": {
      "text/html": [
       "<div>\n",
       "<style scoped>\n",
       "    .dataframe tbody tr th:only-of-type {\n",
       "        vertical-align: middle;\n",
       "    }\n",
       "\n",
       "    .dataframe tbody tr th {\n",
       "        vertical-align: top;\n",
       "    }\n",
       "\n",
       "    .dataframe thead th {\n",
       "        text-align: right;\n",
       "    }\n",
       "</style>\n",
       "<table border=\"1\" class=\"dataframe\">\n",
       "  <thead>\n",
       "    <tr style=\"text-align: right;\">\n",
       "      <th></th>\n",
       "      <th>BLOCK</th>\n",
       "      <th>LOT</th>\n",
       "      <th>ZIP_CODE</th>\n",
       "      <th>RESIDENTIAL_UNITS</th>\n",
       "      <th>COMMERCIAL_UNITS</th>\n",
       "      <th>TOTAL_UNITS</th>\n",
       "    </tr>\n",
       "  </thead>\n",
       "  <tbody>\n",
       "    <tr>\n",
       "      <th>18414</th>\n",
       "      <td>12588</td>\n",
       "      <td>55</td>\n",
       "      <td>11434.0</td>\n",
       "      <td>1.0</td>\n",
       "      <td>0.0</td>\n",
       "      <td>1.0</td>\n",
       "    </tr>\n",
       "    <tr>\n",
       "      <th>18419</th>\n",
       "      <td>8909</td>\n",
       "      <td>38</td>\n",
       "      <td>11421.0</td>\n",
       "      <td>1.0</td>\n",
       "      <td>0.0</td>\n",
       "      <td>1.0</td>\n",
       "    </tr>\n",
       "    <tr>\n",
       "      <th>18424</th>\n",
       "      <td>3651</td>\n",
       "      <td>95</td>\n",
       "      <td>10305.0</td>\n",
       "      <td>1.0</td>\n",
       "      <td>0.0</td>\n",
       "      <td>1.0</td>\n",
       "    </tr>\n",
       "    <tr>\n",
       "      <th>18426</th>\n",
       "      <td>4309</td>\n",
       "      <td>65</td>\n",
       "      <td>10306.0</td>\n",
       "      <td>2.0</td>\n",
       "      <td>0.0</td>\n",
       "      <td>2.0</td>\n",
       "    </tr>\n",
       "    <tr>\n",
       "      <th>18427</th>\n",
       "      <td>2402</td>\n",
       "      <td>50</td>\n",
       "      <td>10314.0</td>\n",
       "      <td>1.0</td>\n",
       "      <td>0.0</td>\n",
       "      <td>1.0</td>\n",
       "    </tr>\n",
       "    <tr>\n",
       "      <th>18428</th>\n",
       "      <td>2445</td>\n",
       "      <td>17</td>\n",
       "      <td>10314.0</td>\n",
       "      <td>1.0</td>\n",
       "      <td>0.0</td>\n",
       "      <td>1.0</td>\n",
       "    </tr>\n",
       "    <tr>\n",
       "      <th>18430</th>\n",
       "      <td>4007</td>\n",
       "      <td>133</td>\n",
       "      <td>10306.0</td>\n",
       "      <td>1.0</td>\n",
       "      <td>0.0</td>\n",
       "      <td>1.0</td>\n",
       "    </tr>\n",
       "    <tr>\n",
       "      <th>18431</th>\n",
       "      <td>7702</td>\n",
       "      <td>304</td>\n",
       "      <td>10309.0</td>\n",
       "      <td>1.0</td>\n",
       "      <td>0.0</td>\n",
       "      <td>1.0</td>\n",
       "    </tr>\n",
       "    <tr>\n",
       "      <th>18432</th>\n",
       "      <td>2996</td>\n",
       "      <td>84</td>\n",
       "      <td>10305.0</td>\n",
       "      <td>1.0</td>\n",
       "      <td>0.0</td>\n",
       "      <td>1.0</td>\n",
       "    </tr>\n",
       "    <tr>\n",
       "      <th>18433</th>\n",
       "      <td>7066</td>\n",
       "      <td>42</td>\n",
       "      <td>10309.0</td>\n",
       "      <td>1.0</td>\n",
       "      <td>0.0</td>\n",
       "      <td>1.0</td>\n",
       "    </tr>\n",
       "  </tbody>\n",
       "</table>\n",
       "</div>"
      ],
      "text/plain": [
       "       BLOCK  LOT  ZIP_CODE  RESIDENTIAL_UNITS  COMMERCIAL_UNITS  TOTAL_UNITS\n",
       "18414  12588   55   11434.0                1.0               0.0          1.0\n",
       "18419   8909   38   11421.0                1.0               0.0          1.0\n",
       "18424   3651   95   10305.0                1.0               0.0          1.0\n",
       "18426   4309   65   10306.0                2.0               0.0          2.0\n",
       "18427   2402   50   10314.0                1.0               0.0          1.0\n",
       "18428   2445   17   10314.0                1.0               0.0          1.0\n",
       "18430   4007  133   10306.0                1.0               0.0          1.0\n",
       "18431   7702  304   10309.0                1.0               0.0          1.0\n",
       "18432   2996   84   10305.0                1.0               0.0          1.0\n",
       "18433   7066   42   10309.0                1.0               0.0          1.0"
      ]
     },
     "execution_count": 33,
     "metadata": {},
     "output_type": "execute_result"
    }
   ],
   "source": [
    "train[[\"BLOCK\", \"LOT\", \"ZIP_CODE\", \"RESIDENTIAL_UNITS\", \"COMMERCIAL_UNITS\", \"TOTAL_UNITS\"]][-10:]"
   ]
  },
  {
   "cell_type": "code",
   "execution_count": 34,
   "metadata": {
    "colab": {},
    "colab_type": "code",
    "id": "HdFdovafqVQQ"
   },
   "outputs": [],
   "source": [
    "train = train.drop(labels=[\"TOTAL_UNITS\", \"COMMERCIAL_UNITS\"], axis=1)\n",
    "test = test.drop(labels=[\"TOTAL_UNITS\", \"COMMERCIAL_UNITS\"], axis=1)"
   ]
  },
  {
   "cell_type": "code",
   "execution_count": 35,
   "metadata": {
    "colab": {
     "base_uri": "https://localhost:8080/",
     "height": 52
    },
    "colab_type": "code",
    "id": "zGbm2srWhd6G",
    "outputId": "7613b0d1-f85b-4c12-e52a-753a8b0d2c63"
   },
   "outputs": [
    {
     "name": "stdout",
     "output_type": "stream",
     "text": [
      "(2548, 19)\n"
     ]
    },
    {
     "data": {
      "text/plain": [
       "(603, 19)"
      ]
     },
     "execution_count": 35,
     "metadata": {},
     "output_type": "execute_result"
    }
   ],
   "source": [
    "print(train.shape)\n",
    "test.shape"
   ]
  },
  {
   "cell_type": "code",
   "execution_count": 36,
   "metadata": {
    "colab": {
     "base_uri": "https://localhost:8080/",
     "height": 141
    },
    "colab_type": "code",
    "id": "xZLfMqggjh-d",
    "outputId": "d5bae4ac-f7d3-46cf-a3ad-fc1de77f4d97"
   },
   "outputs": [
    {
     "data": {
      "text/plain": [
       "Index(['BOROUGH', 'NEIGHBORHOOD', 'BUILDING_CLASS_CATEGORY',\n",
       "       'TAX_CLASS_AT_PRESENT', 'BLOCK', 'LOT', 'EASE-MENT',\n",
       "       'BUILDING_CLASS_AT_PRESENT', 'ADDRESS', 'APARTMENT_NUMBER', 'ZIP_CODE',\n",
       "       'RESIDENTIAL_UNITS', 'LAND_SQUARE_FEET', 'GROSS_SQUARE_FEET',\n",
       "       'YEAR_BUILT', 'TAX_CLASS_AT_TIME_OF_SALE',\n",
       "       'BUILDING_CLASS_AT_TIME_OF_SALE', 'SALE_DATE'],\n",
       "      dtype='object')"
      ]
     },
     "execution_count": 36,
     "metadata": {},
     "output_type": "execute_result"
    }
   ],
   "source": [
    "train.columns[~train.columns.isin([\"SALE_PRICE\"])]"
   ]
  },
  {
   "cell_type": "code",
   "execution_count": 55,
   "metadata": {},
   "outputs": [
    {
     "data": {
      "text/plain": [
       "(2548, 19)"
      ]
     },
     "execution_count": 55,
     "metadata": {},
     "output_type": "execute_result"
    }
   ],
   "source": [
    "train.shape"
   ]
  },
  {
   "cell_type": "code",
   "execution_count": 57,
   "metadata": {},
   "outputs": [
    {
     "data": {
      "text/plain": [
       "44       550000\n",
       "61       200000\n",
       "78       810000\n",
       "108      125000\n",
       "111      620000\n",
       "          ...  \n",
       "18428    570000\n",
       "18430    610000\n",
       "18431    518000\n",
       "18432    489000\n",
       "18433    400000\n",
       "Name: SALE_PRICE, Length: 2548, dtype: int64"
      ]
     },
     "execution_count": 57,
     "metadata": {},
     "output_type": "execute_result"
    }
   ],
   "source": []
  },
  {
   "cell_type": "code",
   "execution_count": 69,
   "metadata": {},
   "outputs": [
    {
     "name": "stdout",
     "output_type": "stream",
     "text": [
      "BOROUGH <class 'pandas.core.indexes.base.Index'>\n"
     ]
    },
    {
     "data": {
      "text/plain": [
       "Index(['SALE_PRICE'], dtype='object')"
      ]
     },
     "execution_count": 69,
     "metadata": {},
     "output_type": "execute_result"
    }
   ],
   "source": [
    "print(train.columns[0], type(train.columns))\n",
    "train.columns[train.columns.isin([\"SALE_PRICE\"])]"
   ]
  },
  {
   "cell_type": "code",
   "execution_count": 76,
   "metadata": {},
   "outputs": [
    {
     "data": {
      "text/plain": [
       "array([nan, 'RP.'], dtype=object)"
      ]
     },
     "execution_count": 76,
     "metadata": {},
     "output_type": "execute_result"
    }
   ],
   "source": [
    "train['APARTMENT_NUMBER'].unique()"
   ]
  },
  {
   "cell_type": "code",
   "execution_count": 78,
   "metadata": {},
   "outputs": [
    {
     "name": "stdout",
     "output_type": "stream",
     "text": [
      "(2548, 18)\n",
      "(2548, 16)\n"
     ]
    }
   ],
   "source": [
    "print(train[train.columns[~train.columns.isin([\"SALE_PRICE\"])]].shape)\n",
    "print(train[train.columns[~train.columns.isin([\"SALE_PRICE\"])]].dropna(axis=1).shape)\n"
   ]
  },
  {
   "cell_type": "markdown",
   "metadata": {
    "colab_type": "text",
    "id": "nJg_2ZuPmaiL"
   },
   "source": [
    "* Dropping non-numeric and all columns with any na value"
   ]
  },
  {
   "cell_type": "code",
   "execution_count": 79,
   "metadata": {
    "colab": {},
    "colab_type": "code",
    "id": "UqECtWbghRKJ"
   },
   "outputs": [],
   "source": [
    "y_train = train['SALE_PRICE']\n",
    "y_test = test['SALE_PRICE']\n",
    "\n",
    "# DataFrame[column_index[boolean_index]]\n",
    "X_train = train[train.columns[~train.columns.isin([\"SALE_PRICE\"])]].select_dtypes(\n",
    "    include='number').dropna(how='any',axis=1)\n",
    "\n",
    "X_test = test[train.columns[~train.columns.isin([\"SALE_PRICE\"])]].select_dtypes(\n",
    "    include='number').dropna(how='any', axis=1)"
   ]
  },
  {
   "cell_type": "code",
   "execution_count": 80,
   "metadata": {
    "colab": {
     "base_uri": "https://localhost:8080/",
     "height": 197
    },
    "colab_type": "code",
    "id": "bexIGwcGmJKQ",
    "outputId": "4c9e9021-1925-4600-a40d-84d3455f201c"
   },
   "outputs": [
    {
     "data": {
      "text/html": [
       "<div>\n",
       "<style scoped>\n",
       "    .dataframe tbody tr th:only-of-type {\n",
       "        vertical-align: middle;\n",
       "    }\n",
       "\n",
       "    .dataframe tbody tr th {\n",
       "        vertical-align: top;\n",
       "    }\n",
       "\n",
       "    .dataframe thead th {\n",
       "        text-align: right;\n",
       "    }\n",
       "</style>\n",
       "<table border=\"1\" class=\"dataframe\">\n",
       "  <thead>\n",
       "    <tr style=\"text-align: right;\">\n",
       "      <th></th>\n",
       "      <th>BLOCK</th>\n",
       "      <th>LOT</th>\n",
       "      <th>ZIP_CODE</th>\n",
       "      <th>RESIDENTIAL_UNITS</th>\n",
       "      <th>GROSS_SQUARE_FEET</th>\n",
       "      <th>YEAR_BUILT</th>\n",
       "      <th>TAX_CLASS_AT_TIME_OF_SALE</th>\n",
       "    </tr>\n",
       "  </thead>\n",
       "  <tbody>\n",
       "    <tr>\n",
       "      <th>44</th>\n",
       "      <td>5495</td>\n",
       "      <td>801</td>\n",
       "      <td>11230.0</td>\n",
       "      <td>1.0</td>\n",
       "      <td>1325.0</td>\n",
       "      <td>1930.0</td>\n",
       "      <td>1</td>\n",
       "    </tr>\n",
       "    <tr>\n",
       "      <th>61</th>\n",
       "      <td>7918</td>\n",
       "      <td>72</td>\n",
       "      <td>11427.0</td>\n",
       "      <td>1.0</td>\n",
       "      <td>2001.0</td>\n",
       "      <td>1940.0</td>\n",
       "      <td>1</td>\n",
       "    </tr>\n",
       "    <tr>\n",
       "      <th>78</th>\n",
       "      <td>4210</td>\n",
       "      <td>19</td>\n",
       "      <td>10461.0</td>\n",
       "      <td>1.0</td>\n",
       "      <td>2043.0</td>\n",
       "      <td>1925.0</td>\n",
       "      <td>1</td>\n",
       "    </tr>\n",
       "    <tr>\n",
       "      <th>108</th>\n",
       "      <td>5212</td>\n",
       "      <td>69</td>\n",
       "      <td>11226.0</td>\n",
       "      <td>1.0</td>\n",
       "      <td>2680.0</td>\n",
       "      <td>1899.0</td>\n",
       "      <td>1</td>\n",
       "    </tr>\n",
       "    <tr>\n",
       "      <th>111</th>\n",
       "      <td>7930</td>\n",
       "      <td>121</td>\n",
       "      <td>11203.0</td>\n",
       "      <td>1.0</td>\n",
       "      <td>1872.0</td>\n",
       "      <td>1940.0</td>\n",
       "      <td>1</td>\n",
       "    </tr>\n",
       "  </tbody>\n",
       "</table>\n",
       "</div>"
      ],
      "text/plain": [
       "     BLOCK  LOT  ZIP_CODE  RESIDENTIAL_UNITS  GROSS_SQUARE_FEET  YEAR_BUILT  \\\n",
       "44    5495  801   11230.0                1.0             1325.0      1930.0   \n",
       "61    7918   72   11427.0                1.0             2001.0      1940.0   \n",
       "78    4210   19   10461.0                1.0             2043.0      1925.0   \n",
       "108   5212   69   11226.0                1.0             2680.0      1899.0   \n",
       "111   7930  121   11203.0                1.0             1872.0      1940.0   \n",
       "\n",
       "     TAX_CLASS_AT_TIME_OF_SALE  \n",
       "44                           1  \n",
       "61                           1  \n",
       "78                           1  \n",
       "108                          1  \n",
       "111                          1  "
      ]
     },
     "execution_count": 80,
     "metadata": {},
     "output_type": "execute_result"
    }
   ],
   "source": [
    "X_train.head()"
   ]
  },
  {
   "cell_type": "code",
   "execution_count": 81,
   "metadata": {
    "colab": {
     "base_uri": "https://localhost:8080/",
     "height": 34
    },
    "colab_type": "code",
    "id": "gpd0eUuBkn9w",
    "outputId": "6460f115-e6b3-4d4e-e06f-d74dc18efdfb"
   },
   "outputs": [
    {
     "data": {
      "text/plain": [
       "(2548, 7)"
      ]
     },
     "execution_count": 81,
     "metadata": {},
     "output_type": "execute_result"
    }
   ],
   "source": [
    "X_train.shape"
   ]
  },
  {
   "cell_type": "code",
   "execution_count": 88,
   "metadata": {
    "colab": {
     "base_uri": "https://localhost:8080/",
     "height": 107
    },
    "colab_type": "code",
    "id": "QkLpvXk2kJJ_",
    "outputId": "a6363ec1-f0c9-442d-8940-274b85e91dea"
   },
   "outputs": [
    {
     "name": "stderr",
     "output_type": "stream",
     "text": [
      "/Users/shahnam/.pyenv/versions/3.7.8/lib/python3.7/site-packages/sklearn/feature_selection/_univariate_selection.py:115: UserWarning: Features [6] are constant.\n",
      "  UserWarning)\n",
      "/Users/shahnam/.pyenv/versions/3.7.8/lib/python3.7/site-packages/sklearn/feature_selection/_univariate_selection.py:116: RuntimeWarning: invalid value encountered in true_divide\n",
      "  f = msb / msw\n"
     ]
    }
   ],
   "source": [
    "from sklearn.feature_selection import SelectKBest\n",
    "selector = SelectKBest(k=4)\n",
    "X_train_selected = selector.fit_transform(X_train, y_train)\n",
    "X_test_selected = selector.transform(X_test)"
   ]
  },
  {
   "cell_type": "code",
   "execution_count": 92,
   "metadata": {
    "colab": {
     "base_uri": "https://localhost:8080/",
     "height": 34
    },
    "colab_type": "code",
    "id": "qbdePSj3nQfo",
    "outputId": "fe5ac2e2-e911-4c15-9bec-fce6f86bd73c"
   },
   "outputs": [
    {
     "data": {
      "text/plain": [
       "((2548, 4), numpy.ndarray)"
      ]
     },
     "execution_count": 92,
     "metadata": {},
     "output_type": "execute_result"
    }
   ],
   "source": [
    "# X_train_selected does not have a .columns attribute as it's a numpy array\n",
    "X_train_selected.shape, type(X_train_selected)"
   ]
  },
  {
   "cell_type": "code",
   "execution_count": 93,
   "metadata": {
    "colab": {
     "base_uri": "https://localhost:8080/",
     "height": 34
    },
    "colab_type": "code",
    "id": "WARMlOr-nSkp",
    "outputId": "3b6056bf-8026-4c40-d69b-a56977a23456"
   },
   "outputs": [
    {
     "data": {
      "text/plain": [
       "Index(['LOT', 'RESIDENTIAL_UNITS', 'GROSS_SQUARE_FEET', 'YEAR_BUILT'], dtype='object')"
      ]
     },
     "execution_count": 93,
     "metadata": {},
     "output_type": "execute_result"
    }
   ],
   "source": [
    "col_selected = X_train.columns[selector.get_support()]\n",
    "col_selected"
   ]
  },
  {
   "cell_type": "markdown",
   "metadata": {
    "colab_type": "text",
    "id": "bzo5kJf6tZIu"
   },
   "source": [
    "### ole Regression"
   ]
  },
  {
   "cell_type": "code",
   "execution_count": 94,
   "metadata": {
    "colab": {},
    "colab_type": "code",
    "id": "X_GQxYTK6vbc"
   },
   "outputs": [],
   "source": [
    "from sklearn.linear_model import LinearRegression\n",
    "lr = LinearRegression()\n",
    "lr.fit(X_train_selected, y_train)\n",
    "y_train_pred = lr.predict(X_train_selected)\n",
    "y_test_pred = lr.predict(X_test_selected)"
   ]
  },
  {
   "cell_type": "markdown",
   "metadata": {},
   "source": [
    "**Score metrics**"
   ]
  },
  {
   "cell_type": "code",
   "execution_count": 95,
   "metadata": {
    "colab": {},
    "colab_type": "code",
    "id": "hWARyTB9p6OX"
   },
   "outputs": [],
   "source": [
    "from sklearn.metrics import mean_absolute_error, mean_squared_error, r2_score\n",
    "import numpy as np"
   ]
  },
  {
   "cell_type": "code",
   "execution_count": 96,
   "metadata": {
    "colab": {
     "base_uri": "https://localhost:8080/",
     "height": 87
    },
    "colab_type": "code",
    "id": "kTM6lGdrtbMw",
    "outputId": "0df00adb-1a0e-4ae9-8d36-5b303172e9fb"
   },
   "outputs": [
    {
     "name": "stdout",
     "output_type": "stream",
     "text": [
      "Mean Squared Errors(Train, Test):, 6.61e+10, 6.92e+10\n",
      "Root Mean Squared Error(Train, Test):, 2.57e+05, 2.63e+05\n",
      "Mean Absolute Error(Train, Test):, 1.91e+05, 1.85e+05\n",
      "R^2(Train, Test):, 0.224, 0.213\n"
     ]
    }
   ],
   "source": [
    "mse_test = mean_squared_error(y_test, y_test_pred)\n",
    "mse_train = mean_squared_error(y_train, y_train_pred)\n",
    "\n",
    "rmse_test = np.sqrt(mse_test)\n",
    "rmse_train = mean_squared_error(y_train, y_train_pred, squared=False)\n",
    "\n",
    "mae_test = mean_absolute_error(y_test, y_test_pred)\n",
    "mae_train = mean_absolute_error(y_train, y_train_pred)\n",
    "\n",
    "r2_train = r2_score(y_train, y_train_pred)\n",
    "r2_test = r2_score(y_test, y_test_pred)\n",
    "\n",
    "print(f'Mean Squared Errors(Train, Test):, {mse_train:.2e}, {mse_test:.2e}')\n",
    "print(f'Root Mean Squared Error(Train, Test):, {rmse_train:.2e}, {rmse_test:.2e}')\n",
    "print(f'Mean Absolute Error(Train, Test):, {mae_train:.2e}, {mae_test:.2e}')\n",
    "print(f'R^2(Train, Test):, {r2_train:.3f}, {r2_test:.3f}')"
   ]
  },
  {
   "cell_type": "markdown",
   "metadata": {
    "colab_type": "text",
    "id": "mJEaZ3YnCoUz"
   },
   "source": [
    "**R^2 greater than zero shows some improvement on linear regression vs. mean baseline**\n",
    "\n",
    "R2 = 1 - Sigma(y-ypred)/Sigma(y-y_bar) = 1 - unexplained variance of y by the model/total variance of y"
   ]
  },
  {
   "cell_type": "markdown",
   "metadata": {
    "colab_type": "text",
    "id": "6GP530wlDQJs"
   },
   "source": [
    "## Ridge Regression"
   ]
  },
  {
   "cell_type": "code",
   "execution_count": 97,
   "metadata": {
    "colab": {},
    "colab_type": "code",
    "id": "bgQgeB8RDPSZ"
   },
   "outputs": [],
   "source": [
    "from sklearn.linear_model import Ridge\n",
    "from sklearn.linear_model import RidgeCV\n",
    "\n",
    "def myridge(ridge_inst):\n",
    "  ridge_inst.fit(X_train_selected, y_train)\n",
    "\n",
    "  y_train_pred = ridge_inst.predict(X_train_selected)\n",
    "  y_test_pred = ridge_inst.predict(X_test_selected)\n",
    "\n",
    "  r2_train = r2_score(y_train, y_train_pred)\n",
    "  r2_test = r2_score(y_test, y_test_pred)\n",
    "  return (r2_train, r2_test)\n"
   ]
  },
  {
   "cell_type": "code",
   "execution_count": 98,
   "metadata": {
    "colab": {
     "base_uri": "https://localhost:8080/",
     "height": 105
    },
    "colab_type": "code",
    "id": "5f6JtSxAEoCq",
    "outputId": "99345791-4624-41e5-9bab-f741af3e5b5f"
   },
   "outputs": [
    {
     "name": "stdout",
     "output_type": "stream",
     "text": [
      "Ridge R2(Train, Test):, 0.223, 0.212, for alpha: 0.01\n",
      "Ridge R2(Train, Test):, 0.221, 0.207, for alpha: 0.1\n",
      "Ridge R2(Train, Test):, 0.164, 0.142, for alpha: 1\n",
      "Ridge R2(Train, Test):, 0.067, 0.050, for alpha: 5\n",
      "Ridge R2(Train, Test):, 0.038, 0.023, for alpha: 10\n"
     ]
    }
   ],
   "source": [
    "for alpha in [0.01, 0.1, 1, 5, 10]:\n",
    "  ridge = Ridge(alpha=alpha, normalize=True)\n",
    "  r2_train, r2_test = myridge(ridge)\n",
    "  print(f'Ridge R2(Train, Test):, {r2_train:.3f}, {r2_test:.3f}, for alpha: {alpha}')\n"
   ]
  },
  {
   "cell_type": "markdown",
   "metadata": {
    "colab": {},
    "colab_type": "code",
    "id": "fQt3eF37ITNf"
   },
   "source": [
    "**RidgeCV does not require a loop over alpha as it does check each alpha in a crossfold and decides which alpha is the best**\n",
    "\n",
    "cv=None would leave one out for validation"
   ]
  },
  {
   "cell_type": "code",
   "execution_count": 108,
   "metadata": {
    "colab": {
     "base_uri": "https://localhost:8080/",
     "height": 34
    },
    "colab_type": "code",
    "id": "jsZ9oZCJIPEU",
    "outputId": "24a94cdb-fcef-48e5-9114-89193e7bda24"
   },
   "outputs": [
    {
     "name": "stdout",
     "output_type": "stream",
     "text": [
      "RidgeCV R2(Train, Test):, 0.223, 0.210, for alpha: 0.05\n"
     ]
    }
   ],
   "source": [
    "alphas = [0.001, 0.01, 0.05, 0.1, 0.5, 1, 10, 100]\n",
    "\n",
    "from sklearn.linear_model import RidgeCV\n",
    "ridge = RidgeCV(alphas=alphas, normalize=True, cv=10)\n",
    "ridge.fit(X_train_selected, y_train)\n",
    "\n",
    "y_train_pred = ridge.predict(X_train_selected)\n",
    "y_test_pred = ridge.predict(X_test_selected)\n",
    "\n",
    "r2_train = r2_score(y_train, y_train_pred)\n",
    "r2_test = r2_score(y_test, y_test_pred)\n",
    "\n",
    "print(f'RidgeCV R2(Train, Test):, {r2_train:.3f}, {r2_test:.3f}, for alpha: {ridge.alpha_}')\n"
   ]
  },
  {
   "cell_type": "code",
   "execution_count": null,
   "metadata": {},
   "outputs": [],
   "source": []
  }
 ],
 "metadata": {
  "colab": {
   "collapsed_sections": [],
   "include_colab_link": true,
   "name": "skhabiri_LS_DS_213_assignment.ipynb",
   "provenance": []
  },
  "kernelspec": {
   "display_name": "Python 3",
   "language": "python",
   "name": "python3"
  },
  "language_info": {
   "codemirror_mode": {
    "name": "ipython",
    "version": 3
   },
   "file_extension": ".py",
   "mimetype": "text/x-python",
   "name": "python",
   "nbconvert_exporter": "python",
   "pygments_lexer": "ipython3",
   "version": "3.7.8"
  }
 },
 "nbformat": 4,
 "nbformat_minor": 4
}
