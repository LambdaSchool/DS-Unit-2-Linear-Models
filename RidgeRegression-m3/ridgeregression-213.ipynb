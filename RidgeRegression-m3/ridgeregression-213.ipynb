{
 "cells": [
  {
   "cell_type": "markdown",
   "metadata": {},
   "source": [
    "Lambda School Data Science\n",
    "\n",
    "*Unit 2, Sprint 1, Module 3*\n",
    "\n",
    "---"
   ]
  },
  {
   "cell_type": "markdown",
   "metadata": {},
   "source": [
    "# Ridge Regression\n",
    "- Do one-hot encoding of categorical features\n",
    "- Do univariate feature selection\n",
    "- Use scikit-learn to fit Ridge Regression models"
   ]
  },
  {
   "cell_type": "markdown",
   "metadata": {},
   "source": [
    "### Setup\n",
    "\n",
    "You can work locally (follow the [local setup instructions](https://lambdaschool.github.io/ds/unit2/local/)) or on Colab (run the code cell below).\n",
    "\n",
    "Libraries:\n",
    "- category_encoders\n",
    "- matplotlib\n",
    "- numpy\n",
    "- pandas\n",
    "- scikit-learn"
   ]
  },
  {
   "cell_type": "markdown",
   "metadata": {},
   "source": [
    "### Boston housing dataset"
   ]
  },
  {
   "cell_type": "markdown",
   "metadata": {},
   "source": [
    "## Follow Along\n",
    "\n",
    "Let's examine in the context of another famous housing dataset."
   ]
  },
  {
   "cell_type": "code",
   "execution_count": 272,
   "metadata": {},
   "outputs": [
    {
     "data": {
      "text/html": [
       "<div>\n",
       "<style scoped>\n",
       "    .dataframe tbody tr th:only-of-type {\n",
       "        vertical-align: middle;\n",
       "    }\n",
       "\n",
       "    .dataframe tbody tr th {\n",
       "        vertical-align: top;\n",
       "    }\n",
       "\n",
       "    .dataframe thead th {\n",
       "        text-align: right;\n",
       "    }\n",
       "</style>\n",
       "<table border=\"1\" class=\"dataframe\">\n",
       "  <thead>\n",
       "    <tr style=\"text-align: right;\">\n",
       "      <th></th>\n",
       "      <th>CRIM</th>\n",
       "      <th>ZN</th>\n",
       "      <th>INDUS</th>\n",
       "      <th>CHAS</th>\n",
       "      <th>NOX</th>\n",
       "      <th>RM</th>\n",
       "      <th>AGE</th>\n",
       "      <th>DIS</th>\n",
       "      <th>RAD</th>\n",
       "      <th>TAX</th>\n",
       "      <th>PTRATIO</th>\n",
       "      <th>B</th>\n",
       "      <th>LSTAT</th>\n",
       "      <th>Price</th>\n",
       "    </tr>\n",
       "  </thead>\n",
       "  <tbody>\n",
       "    <tr>\n",
       "      <th>0</th>\n",
       "      <td>-0.419782</td>\n",
       "      <td>0.284830</td>\n",
       "      <td>-1.287909</td>\n",
       "      <td>-0.272599</td>\n",
       "      <td>-0.144217</td>\n",
       "      <td>0.413672</td>\n",
       "      <td>-0.120013</td>\n",
       "      <td>0.140214</td>\n",
       "      <td>-0.982843</td>\n",
       "      <td>-0.666608</td>\n",
       "      <td>-1.459000</td>\n",
       "      <td>0.441052</td>\n",
       "      <td>-1.075562</td>\n",
       "      <td>24.0</td>\n",
       "    </tr>\n",
       "    <tr>\n",
       "      <th>1</th>\n",
       "      <td>-0.417339</td>\n",
       "      <td>-0.487722</td>\n",
       "      <td>-0.593381</td>\n",
       "      <td>-0.272599</td>\n",
       "      <td>-0.740262</td>\n",
       "      <td>0.194274</td>\n",
       "      <td>0.367166</td>\n",
       "      <td>0.557160</td>\n",
       "      <td>-0.867883</td>\n",
       "      <td>-0.987329</td>\n",
       "      <td>-0.303094</td>\n",
       "      <td>0.441052</td>\n",
       "      <td>-0.492439</td>\n",
       "      <td>21.6</td>\n",
       "    </tr>\n",
       "    <tr>\n",
       "      <th>2</th>\n",
       "      <td>-0.417342</td>\n",
       "      <td>-0.487722</td>\n",
       "      <td>-0.593381</td>\n",
       "      <td>-0.272599</td>\n",
       "      <td>-0.740262</td>\n",
       "      <td>1.282714</td>\n",
       "      <td>-0.265812</td>\n",
       "      <td>0.557160</td>\n",
       "      <td>-0.867883</td>\n",
       "      <td>-0.987329</td>\n",
       "      <td>-0.303094</td>\n",
       "      <td>0.396427</td>\n",
       "      <td>-1.208727</td>\n",
       "      <td>34.7</td>\n",
       "    </tr>\n",
       "    <tr>\n",
       "      <th>3</th>\n",
       "      <td>-0.416750</td>\n",
       "      <td>-0.487722</td>\n",
       "      <td>-1.306878</td>\n",
       "      <td>-0.272599</td>\n",
       "      <td>-0.835284</td>\n",
       "      <td>1.016303</td>\n",
       "      <td>-0.809889</td>\n",
       "      <td>1.077737</td>\n",
       "      <td>-0.752922</td>\n",
       "      <td>-1.106115</td>\n",
       "      <td>0.113032</td>\n",
       "      <td>0.416163</td>\n",
       "      <td>-1.361517</td>\n",
       "      <td>33.4</td>\n",
       "    </tr>\n",
       "    <tr>\n",
       "      <th>4</th>\n",
       "      <td>-0.412482</td>\n",
       "      <td>-0.487722</td>\n",
       "      <td>-1.306878</td>\n",
       "      <td>-0.272599</td>\n",
       "      <td>-0.835284</td>\n",
       "      <td>1.228577</td>\n",
       "      <td>-0.511180</td>\n",
       "      <td>1.077737</td>\n",
       "      <td>-0.752922</td>\n",
       "      <td>-1.106115</td>\n",
       "      <td>0.113032</td>\n",
       "      <td>0.441052</td>\n",
       "      <td>-1.026501</td>\n",
       "      <td>36.2</td>\n",
       "    </tr>\n",
       "  </tbody>\n",
       "</table>\n",
       "</div>"
      ],
      "text/plain": [
       "       CRIM        ZN     INDUS      CHAS       NOX        RM       AGE  \\\n",
       "0 -0.419782  0.284830 -1.287909 -0.272599 -0.144217  0.413672 -0.120013   \n",
       "1 -0.417339 -0.487722 -0.593381 -0.272599 -0.740262  0.194274  0.367166   \n",
       "2 -0.417342 -0.487722 -0.593381 -0.272599 -0.740262  1.282714 -0.265812   \n",
       "3 -0.416750 -0.487722 -1.306878 -0.272599 -0.835284  1.016303 -0.809889   \n",
       "4 -0.412482 -0.487722 -1.306878 -0.272599 -0.835284  1.228577 -0.511180   \n",
       "\n",
       "        DIS       RAD       TAX   PTRATIO         B     LSTAT  Price  \n",
       "0  0.140214 -0.982843 -0.666608 -1.459000  0.441052 -1.075562   24.0  \n",
       "1  0.557160 -0.867883 -0.987329 -0.303094  0.441052 -0.492439   21.6  \n",
       "2  0.557160 -0.867883 -0.987329 -0.303094  0.396427 -1.208727   34.7  \n",
       "3  1.077737 -0.752922 -1.106115  0.113032  0.416163 -1.361517   33.4  \n",
       "4  1.077737 -0.752922 -1.106115  0.113032  0.441052 -1.026501   36.2  "
      ]
     },
     "execution_count": 272,
     "metadata": {},
     "output_type": "execute_result"
    }
   ],
   "source": [
    "import pandas as pd\n",
    "from sklearn.datasets import load_boston\n",
    "\n",
    "# preprocessing. scale(x) is just a function, which transforms some data. preprocessing. \n",
    "# StandardScaler() is a class supporting the Transformer API.\n",
    "# both make (xi-x_bar)/sigma_x\n",
    "from sklearn.preprocessing import scale\n",
    "\n",
    "boston = load_boston()\n",
    "boston.data = scale(boston.data)  # Very helpful for regularization!\n",
    "df = pd.DataFrame(boston.data, columns=boston.feature_names)\n",
    "df['Price'] = boston.target\n",
    "df.head()"
   ]
  },
  {
   "cell_type": "code",
   "execution_count": 273,
   "metadata": {},
   "outputs": [
    {
     "data": {
      "text/plain": [
       "(506, 14)"
      ]
     },
     "execution_count": 273,
     "metadata": {},
     "output_type": "execute_result"
    }
   ],
   "source": [
    "df.shape"
   ]
  },
  {
   "cell_type": "code",
   "execution_count": 274,
   "metadata": {},
   "outputs": [
    {
     "data": {
      "text/plain": [
       "21.894831181729206"
      ]
     },
     "execution_count": 274,
     "metadata": {},
     "output_type": "execute_result"
    }
   ],
   "source": [
    "# Let's try good old least squares!\n",
    "from sklearn.linear_model import LinearRegression\n",
    "from sklearn.metrics import mean_squared_error\n",
    "\n",
    "X = df.drop('Price', axis='columns')\n",
    "y = df.Price\n",
    "\n",
    "lin_reg = LinearRegression().fit(X, y)\n",
    "mean_squared_error(y, lin_reg.predict(X))"
   ]
  },
  {
   "cell_type": "markdown",
   "metadata": {},
   "source": [
    "That seems like a pretty good score, but...\n",
    "\n",
    "![Kitchen Sink](https://i.imgur.com/ZZxqhT1.jpg)\n",
    "\n",
    "Chances are this doesn't generalize very well. You can verify this by splitting the data to properly test model validity.\n"
   ]
  },
  {
   "cell_type": "code",
   "execution_count": 275,
   "metadata": {},
   "outputs": [
    {
     "name": "stdout",
     "output_type": "stream",
     "text": [
      "22.347018673376052\n",
      "26.273991426429014\n"
     ]
    }
   ],
   "source": [
    "from sklearn.model_selection import train_test_split\n",
    "\n",
    "X_train, X_test, y_train, y_test = train_test_split(X, y, random_state=43)\n",
    "lin_reg_split = LinearRegression().fit(X_train, y_train)\n",
    "print(mean_squared_error(y, lin_reg_split.predict(X)))\n",
    "print(mean_squared_error(y_test, lin_reg_split.predict(X_test)))"
   ]
  },
  {
   "cell_type": "markdown",
   "metadata": {},
   "source": [
    "Oops! 💥\n",
    "\n",
    "### What can we do?\n",
    "\n",
    "- Use fewer features - sure, but it can be a lot of work to figure out *which* features, and (in cases like this) there may not be any good reason to really favor some features over another.\n",
    "- Get more data! This is actually a pretty good approach in tech, since apps generate lots of data all the time (and we made this situation by artificially constraining our data). But for case studies, existing data, etc. it won't work.\n",
    "- **Regularize!**\n",
    "\n",
    "### Regularization just means \"add bias\"\n",
    "\n",
    "OK, there's a bit more to it than that. But that's the core intuition - the problem is the model working \"too well\", so fix it by making it harder for the model!\n",
    "\n",
    "It may sound strange - a technique that is purposefully \"worse\" - but in certain situations, it can really get results.\n",
    "\n",
    "What's bias? In the context of statistics and machine learning, bias is when a predictive model fails to identify relationships between features and the output. In a word, bias is *underfitting*.\n",
    "\n",
    "We want to add bias to the model because of the [bias-variance tradeoff](https://en.wikipedia.org/wiki/Bias%E2%80%93variance_tradeoff) - variance is the sensitivity of a model to the random noise in its training data (i.e. *overfitting*), and bias and variance are naturally (inversely) related. Increasing one will always decrease the other, with regards to the overall generalization error (predictive accuracy on unseen data).\n",
    "\n",
    "Visually, the result looks like this:\n",
    "\n",
    "![Regularization example plot](https://upload.wikimedia.org/wikipedia/commons/0/02/Regularization.svg)\n",
    "\n",
    "The blue line is overfit, using more dimensions than are needed to explain the data and so much of the movement is based on noise and won't generalize well. The green line still fits the data, but is less susceptible to the noise - depending on how exactly we parameterize \"noise\" we may throw out actual correlation, but if we balance it right we keep that signal and greatly improve generalizability.\n"
   ]
  },
  {
   "cell_type": "code",
   "execution_count": null,
   "metadata": {},
   "outputs": [],
   "source": []
  },
  {
   "cell_type": "markdown",
   "metadata": {},
   "source": [
    "\n",
    "Data science depends on math, and math is generally focused on situations where:\n",
    "\n",
    "1. a solution exists,\n",
    "2. the solution is unique,\n",
    "3. the solution's behavior changes continuously with the initial conditions.\n",
    "\n",
    "These are known as [well-posed problems](https://en.wikipedia.org/wiki/Well-posed_problem), and are the sorts of assumptions so core in traditional techniques that it is easy to forget about them. But they do matter, as there can be exceptions:\n",
    "\n",
    "1. no solution - e.g. no $x$ such that $Ax = b$\n",
    "2. multiple solutions - e.g. several $x_1, x_2, ...$ such that $Ax = b$\n",
    "3. \"chaotic\" systems - situations where small changes in initial conditions interact and reverberate in essentially unpredictable ways - for instance, the difficulty in longterm predictions of weather (N.B. not the same thing as longterm predictions of *climate*) - you can think of this as models that fail to generalize well, because they overfit on the training data (the initial conditions)\n",
    "\n",
    "Problems suffering from the above are called ill-posed problems. Relating to linear algebra and systems of equations, the only truly well-posed problems are those with a single unique solution.\n",
    "\n",
    "![Intersecting lines](https://upload.wikimedia.org/wikipedia/commons/c/c0/Intersecting_Lines.svg)\n",
    "\n",
    "Think for a moment - what would the above plot look like if there was no solution? If there were multiple solutions? And how would that generalize to higher dimensions?\n",
    "\n",
    "A lot of what you covered with linear regression was about getting matrices into the right shape for them to be solvable in this sense. But some matrices just won't submit to this, and other problems may technically \"fit\" linear regression but still be violating the above assumptions in subtle ways.\n",
    "\n",
    "[Overfitting](https://en.wikipedia.org/wiki/Overfitting) is in some ways a special case of this - an overfit model uses more features/parameters than is \"justified\" by the data (essentially by the *dimensionality* of the data, as measured by $n$ the number of observations). As the number of features approaches the number of observations, linear regression still \"works\", but it starts giving fairly perverse results. In particular, it results in a model that fails to *generalize* - and so the core goal of prediction and explanatory power is undermined.\n",
    "\n",
    "How is this related to well and ill-posed problems? It's not clearly a no solution or multiple solution case, but it does fall in the third category - overfitting results in fitting to the \"noise\" in the data, which means the particulars of one random sample or another (different initial conditions )will result in dramatically different models.\n"
   ]
  },
  {
   "cell_type": "code",
   "execution_count": null,
   "metadata": {},
   "outputs": [],
   "source": []
  },
  {
   "cell_type": "markdown",
   "metadata": {},
   "source": [
    "# Use sklearn.linear_model.Ridge to fit and interpret Ridge Regression models"
   ]
  },
  {
   "cell_type": "markdown",
   "metadata": {},
   "source": [
    "Josh Starmer explains in his [StatQuest video on Ridge Regression:](https://youtu.be/Q81RR3yKn30?t=222)\n",
    "\n",
    "> The main idea behind **Ridge Regression** is to find a new line that _doesn't_ fit the training data as well. In other words, we introduce a small amount of **bias** into how the new line is fit to the data. But in return for that small amount of bias we get a significant drop in **variance.** In other words, by starting with a slightly worse fit Ridge regression can provide better long-term predictions. BAM!!!"
   ]
  },
  {
   "cell_type": "markdown",
   "metadata": {},
   "source": [
    "### OLS vs Mean Baseline vs Ridge on Anscombe dataset\n",
    "\n",
    "Let's look at some examples.\n",
    "\n",
    "First, here's a famous, tiny dataset — [Anscombe's quartet](https://en.wikipedia.org/wiki/Anscombe%27s_quartet), dataset III:\n",
    "Anscombe's quartet comprises four data sets that have nearly identical simple descriptive statistics, yet have very different distributions and appear very different when graphed. Each dataset consists of eleven (x,y) points. "
   ]
  },
  {
   "cell_type": "code",
   "execution_count": 276,
   "metadata": {},
   "outputs": [
    {
     "name": "stdout",
     "output_type": "stream",
     "text": [
      "<class 'pandas.core.frame.DataFrame'> (11, 3)\n"
     ]
    },
    {
     "data": {
      "text/html": [
       "<div>\n",
       "<style scoped>\n",
       "    .dataframe tbody tr th:only-of-type {\n",
       "        vertical-align: middle;\n",
       "    }\n",
       "\n",
       "    .dataframe tbody tr th {\n",
       "        vertical-align: top;\n",
       "    }\n",
       "\n",
       "    .dataframe thead th {\n",
       "        text-align: right;\n",
       "    }\n",
       "</style>\n",
       "<table border=\"1\" class=\"dataframe\">\n",
       "  <thead>\n",
       "    <tr style=\"text-align: right;\">\n",
       "      <th></th>\n",
       "      <th>dataset</th>\n",
       "      <th>x</th>\n",
       "      <th>y</th>\n",
       "    </tr>\n",
       "  </thead>\n",
       "  <tbody>\n",
       "    <tr>\n",
       "      <th>22</th>\n",
       "      <td>III</td>\n",
       "      <td>10.0</td>\n",
       "      <td>7.46</td>\n",
       "    </tr>\n",
       "    <tr>\n",
       "      <th>23</th>\n",
       "      <td>III</td>\n",
       "      <td>8.0</td>\n",
       "      <td>6.77</td>\n",
       "    </tr>\n",
       "    <tr>\n",
       "      <th>24</th>\n",
       "      <td>III</td>\n",
       "      <td>13.0</td>\n",
       "      <td>12.74</td>\n",
       "    </tr>\n",
       "    <tr>\n",
       "      <th>25</th>\n",
       "      <td>III</td>\n",
       "      <td>9.0</td>\n",
       "      <td>7.11</td>\n",
       "    </tr>\n",
       "    <tr>\n",
       "      <th>26</th>\n",
       "      <td>III</td>\n",
       "      <td>11.0</td>\n",
       "      <td>7.81</td>\n",
       "    </tr>\n",
       "  </tbody>\n",
       "</table>\n",
       "</div>"
      ],
      "text/plain": [
       "   dataset     x      y\n",
       "22     III  10.0   7.46\n",
       "23     III   8.0   6.77\n",
       "24     III  13.0  12.74\n",
       "25     III   9.0   7.11\n",
       "26     III  11.0   7.81"
      ]
     },
     "execution_count": 276,
     "metadata": {},
     "output_type": "execute_result"
    },
    {
     "data": {
      "image/png": "[encoded data removed]",
      "text/plain": [
       "<Figure size 432x288 with 1 Axes>"
      ]
     },
     "metadata": {
      "needs_background": "light"
     },
     "output_type": "display_data"
    }
   ],
   "source": [
    "import seaborn as sns\n",
    "anscombe = sns.load_dataset('anscombe').query('dataset==\"III\"')\n",
    "anscombe.plot.scatter('x', 'y');\n",
    "print(type(anscombe), anscombe.shape)\n",
    "anscombe.head()"
   ]
  },
  {
   "cell_type": "markdown",
   "metadata": {},
   "source": [
    "We'll compare:\n",
    "- Ordinary Least Squares Linear Regression\n",
    "- Mean Baseline\n",
    "- Ridge Regression"
   ]
  },
  {
   "cell_type": "markdown",
   "metadata": {},
   "source": [
    "#### OLS"
   ]
  },
  {
   "cell_type": "code",
   "execution_count": 277,
   "metadata": {},
   "outputs": [
    {
     "data": {
      "image/png": "[encoded data removed]",
      "text/plain": [
       "<Figure size 432x288 with 1 Axes>"
      ]
     },
     "metadata": {
      "needs_background": "light"
     },
     "output_type": "display_data"
    }
   ],
   "source": [
    "%matplotlib inline\n",
    "\n",
    "# Plot data\n",
    "ax = anscombe.plot.scatter('x', 'y')\n",
    "\n",
    "# Fit linear model\n",
    "ols = LinearRegression()\n",
    "ols.fit(anscombe[['x']], anscombe['y'])\n",
    "\n",
    "# Get linear equation\n",
    "m = ols.coef_[0].round(2)\n",
    "b = ols.intercept_.round(2)\n",
    "title = f'Linear Regression \\n y = {m}x + {b}'\n",
    "\n",
    "# Get predictions\n",
    "anscombe['y_pred'] = ols.predict(anscombe[['x']])\n",
    "\n",
    "# Plot predictions\n",
    "anscombe.plot('x', 'y_pred', ax=ax, title=title);"
   ]
  },
  {
   "cell_type": "markdown",
   "metadata": {},
   "source": [
    "#### Mean Baseline"
   ]
  },
  {
   "cell_type": "code",
   "execution_count": 278,
   "metadata": {},
   "outputs": [
    {
     "data": {
      "image/png": "[encoded data removed]",
      "text/plain": [
       "<Figure size 432x288 with 1 Axes>"
      ]
     },
     "metadata": {
      "needs_background": "light"
     },
     "output_type": "display_data"
    }
   ],
   "source": [
    "# Plot data\n",
    "ax = anscombe.plot.scatter('x', 'y')\n",
    "\n",
    "# Mean baseline\n",
    "mean = anscombe['y'].mean()\n",
    "anscombe['y_pred'] = mean\n",
    "title = f'Mean Baseline \\n y = 0x + {mean:.2f}'\n",
    "\n",
    "# Plot \"predictions\"\n",
    "anscombe.plot('x', 'y_pred', ax=ax, title=title);"
   ]
  },
  {
   "cell_type": "markdown",
   "metadata": {},
   "source": [
    "#### Ridge Regression\n",
    "\n",
    "With increasing regularization:"
   ]
  },
  {
   "cell_type": "code",
   "execution_count": 279,
   "metadata": {},
   "outputs": [
    {
     "data": {
      "image/png": "[encoded data removed]",
      "text/plain": [
       "<Figure size 432x288 with 1 Axes>"
      ]
     },
     "metadata": {
      "needs_background": "light"
     },
     "output_type": "display_data"
    },
    {
     "data": {
      "image/png": "[encoded data removed]",
      "text/plain": [
       "<Figure size 432x288 with 1 Axes>"
      ]
     },
     "metadata": {
      "needs_background": "light"
     },
     "output_type": "display_data"
    },
    {
     "data": {
      "image/png": "[encoded data removed]",
      "text/plain": [
       "<Figure size 432x288 with 1 Axes>"
      ]
     },
     "metadata": {
      "needs_background": "light"
     },
     "output_type": "display_data"
    },
    {
     "data": {
      "image/png": "[encoded data removed]",
      "text/plain": [
       "<Figure size 432x288 with 1 Axes>"
      ]
     },
     "metadata": {
      "needs_background": "light"
     },
     "output_type": "display_data"
    },
    {
     "data": {
      "image/png": "[encoded data removed]",
      "text/plain": [
       "<Figure size 432x288 with 1 Axes>"
      ]
     },
     "metadata": {
      "needs_background": "light"
     },
     "output_type": "display_data"
    },
    {
     "data": {
      "image/png": "[encoded data removed]",
      "text/plain": [
       "<Figure size 432x288 with 1 Axes>"
      ]
     },
     "metadata": {
      "needs_background": "light"
     },
     "output_type": "display_data"
    },
    {
     "data": {
      "image/png": "[encoded data removed]",
      "text/plain": [
       "<Figure size 432x288 with 1 Axes>"
      ]
     },
     "metadata": {
      "needs_background": "light"
     },
     "output_type": "display_data"
    },
    {
     "data": {
      "image/png": "[encoded data removed]",
      "text/plain": [
       "<Figure size 432x288 with 1 Axes>"
      ]
     },
     "metadata": {
      "needs_background": "light"
     },
     "output_type": "display_data"
    },
    {
     "data": {
      "image/png": "[encoded data removed]",
      "text/plain": [
       "<Figure size 432x288 with 1 Axes>"
      ]
     },
     "metadata": {
      "needs_background": "light"
     },
     "output_type": "display_data"
    },
    {
     "data": {
      "image/png": "[encoded data removed]",
      "text/plain": [
       "<Figure size 432x288 with 1 Axes>"
      ]
     },
     "metadata": {
      "needs_background": "light"
     },
     "output_type": "display_data"
    }
   ],
   "source": [
    "import matplotlib.pyplot as plt\n",
    "from sklearn.linear_model import Ridge\n",
    "\n",
    "def ridge_anscombe(alpha):\n",
    "    \"\"\"\n",
    "    Fit & plot a ridge regression model,\n",
    "    with Anscombe Quartet dataset III.\n",
    "\n",
    "    alpha : positive float, regularization strength\n",
    "    \"\"\"\n",
    "\n",
    "    # Load data\n",
    "    anscombe = sns.load_dataset('anscombe').query('dataset==\"III\"')\n",
    "\n",
    "    # Plot data\n",
    "    ax = anscombe.plot.scatter('x', 'y')\n",
    "\n",
    "    # Fit linear model\n",
    "    ridge = Ridge(alpha=alpha, normalize=True)\n",
    "    ridge.fit(anscombe[['x']], anscombe['y'])\n",
    "\n",
    "    # Get linear equation\n",
    "    m = ridge.coef_[0].round(2)\n",
    "    b = ridge.intercept_.round(2)\n",
    "    title = f'Ridge Regression, alpha={alpha} \\n y = {m}x + {b}'\n",
    "\n",
    "    # Get predictions\n",
    "    anscombe['y_pred'] = ridge.predict(anscombe[['x']])\n",
    "\n",
    "    # Plot predictions\n",
    "    anscombe.plot('x', 'y_pred', ax=ax, title=title)\n",
    "    plt.show()\n",
    "    \n",
    "    \n",
    "for alpha in range(10):\n",
    "    ridge_anscombe(alpha=alpha)"
   ]
  },
  {
   "cell_type": "markdown",
   "metadata": {},
   "source": [
    "When the Ridge Regression has no regularization (`alpha=0`) then it is identical to Ordinary Least Squares Regression.\n",
    "\n",
    "When we increase the regularization, the predictions looks less and less like OLS and more and more like the mean baseline. The predictions are less sensitive to changes in the independent variable."
   ]
  },
  {
   "cell_type": "markdown",
   "metadata": {},
   "source": [
    "### RidgeCV\n",
    "\n",
    "You may ask, how should we decide the amount of regularization?\n",
    "\n",
    "[The StatQuest video answers,](https://youtu.be/Q81RR3yKn30?t=602)\n",
    "\n",
    "> So how do we decide what value to give lambda? We just try a bunch of values for lambda, and use cross-validation\n",
    "typically 10-fold cross-validation, to determine which one results in the lowest variance. DOUBLE BAM!!!\n",
    "\n",
    "You'll learn more about cross-validation next sprint. For now, the good news is scikit-learn gives us [RidgeCV](https://scikit-learn.org/stable/modules/generated/sklearn.linear_model.RidgeCV.html), \"Ridge regression with built-in cross-validation.\"\n",
    "\n",
    "Also, notice that scikit-learn calls the regularization parameter \"alpha\", but StatQuest calls it \"lambda.\" The greek letters are different, but the concept is the same."
   ]
  },
  {
   "cell_type": "markdown",
   "metadata": {},
   "source": [
    "Let's try these values for alpha:"
   ]
  },
  {
   "cell_type": "code",
   "execution_count": 280,
   "metadata": {},
   "outputs": [],
   "source": [
    "alphas = [0.01, 0.1, 1.0, 10.0, 100.0]"
   ]
  },
  {
   "cell_type": "markdown",
   "metadata": {},
   "source": [
    "We'll use [RidgeCV](https://scikit-learn.org/stable/modules/generated/sklearn.linear_model.RidgeCV.html) to find the best alpha:\n",
    "RidgeCV performs Generalized Cross-Validation, which is a form of efficient Leave-One-Out cross-validation."
   ]
  },
  {
   "cell_type": "code",
   "execution_count": 281,
   "metadata": {},
   "outputs": [
    {
     "data": {
      "text/plain": [
       "0.1"
      ]
     },
     "execution_count": 281,
     "metadata": {},
     "output_type": "execute_result"
    }
   ],
   "source": [
    "from sklearn.linear_model import RidgeCV\n",
    "ridge = RidgeCV(alphas=alphas, normalize=True)\n",
    "ridge.fit(anscombe[['x']], anscombe['y'])\n",
    "\n",
    "# .alpha_ is Estimated regularization parameter.\n",
    "ridge.alpha_"
   ]
  },
  {
   "cell_type": "markdown",
   "metadata": {},
   "source": [
    "The fit looks similar to Ordinary Least Squares Regression, but slightly less influenced by the outlier:"
   ]
  },
  {
   "cell_type": "code",
   "execution_count": 282,
   "metadata": {},
   "outputs": [
    {
     "data": {
      "image/png": "[encoded data removed]",
      "text/plain": [
       "<Figure size 432x288 with 1 Axes>"
      ]
     },
     "metadata": {
      "needs_background": "light"
     },
     "output_type": "display_data"
    }
   ],
   "source": [
    "# Plot data\n",
    "ax = anscombe.plot.scatter('x', 'y')\n",
    "\n",
    "# Get linear equation\n",
    "m = ridge.coef_[0].round(2)\n",
    "b = ridge.intercept_.round(2)\n",
    "title = f'Ridge Regression, alpha={ridge.alpha_} \\n y = {m}x + {b}'\n",
    "\n",
    "# Get predictions\n",
    "anscombe['y_pred'] = ridge.predict(anscombe[['x']])\n",
    "\n",
    "# Plot predictions\n",
    "anscombe.plot('x', 'y_pred', ax=ax, title=title)\n",
    "plt.show()"
   ]
  },
  {
   "cell_type": "code",
   "execution_count": null,
   "metadata": {},
   "outputs": [],
   "source": []
  },
  {
   "cell_type": "markdown",
   "metadata": {},
   "source": [
    "### What's the intuition? What are we doing?\n",
    "\n",
    "The `alpha` parameter corresponds to the weight being given to the extra penalty being calculated by [Tikhonov regularization](https://en.wikipedia.org/wiki/Tikhonov_regularization) (this parameter is sometimes referred to as $\\lambda$ in the context of ridge regression).\n",
    "\n",
    "Normal linear regression (OLS) minimizes the **sum of square error of the residuals**.\n",
    "\n",
    "Ridge regression minimizes the **sum of square error of the residuals** *AND* **the squared slope of the fit model, times the alpha parameter**.\n",
    "\n",
    "This is why the MSE for the first model in the for loop (`alpha=0`) is the same as the MSE for linear regression - it's the same model!\n",
    "\n",
    "As `alpha` is increased, we give more and more penalty to a steep slope. In two or three dimensions this is fairly easy to visualize - beyond, think of it as penalizing coefficient size. Each coefficient represents the slope of an individual dimension (feature) of the model, so ridge regression is just squaring and summing those.\n",
    "\n",
    "So while `alpha=0` reduces to OLS, as `alpha` approaches infinity eventually the penalty gets so extreme that the model will always output every coefficient as 0 (any non-zero coefficient resulting in a penalty that outweighs whatever improvement in the residuals), and just fit a flat model with intercept at the mean of the dependent variable.\n",
    "\n",
    "Of course, what we want is somewhere in-between these extremes. Intuitively, what we want to do is apply an appropriate \"cost\" or penalty to the model for fitting parameters, much like adjusted $R^2$ takes into account the cost of adding complexity to a model. What exactly is an appropriate penalty will vary, so you'll have to put on your model comparison hat and give it a go!\n",
    "\n",
    "PS - scaling the data helps, as that way this cost is consistent and can be added uniformly across features, and it is simpler to search for the `alpha` parameter.\n",
    "\n"
   ]
  },
  {
   "cell_type": "code",
   "execution_count": null,
   "metadata": {},
   "outputs": [],
   "source": []
  },
  {
   "cell_type": "markdown",
   "metadata": {},
   "source": [
    "### And a bit more math\n",
    "\n",
    "The regularization used by Ridge Regression is also known as **$L^2$ regularization**, due to the squaring of the slopes being summed. This corresponds to [$L^2$ space](https://en.wikipedia.org/wiki/Square-integrable_function), a metric space of square-integrable functions that generally measure what we intuitively think of as \"distance\" (at least, on a plane) - what is referred to as Euclidean distance.\n",
    "\n",
    "The other famous norm is $L^1$, also known as [taxicab geometry](https://en.wikipedia.org/wiki/Taxicab_geometry), because it follows the \"grid\" to measure distance like a car driving around city blocks (rather than going directly like $L^2$). When referred to as a distance this is called \"Manhattan distance\", and can be used for regularization (see [LASSO](https://en.wikipedia.org/wiki/Lasso_(statistics%29), which [uses the $L^1$ norm](https://www.quora.com/What-is-the-difference-between-L1-and-L2-regularization-How-does-it-solve-the-problem-of-overfitting-Which-regularizer-to-use-and-when)).\n",
    "\n",
    "All this comes down to - regularization means increasing model bias by \"watering down\" coefficients with a penalty typically based on some sort of distance metric, and thus reducing variance (overfitting the model to the noise in the data). It gives us another lever to try and another tool for our toolchest!\n",
    "\n",
    "### Putting it all together - one last example\n",
    "\n",
    "The official scikit-learn documentation has many excellent examples - [this one](https://scikit-learn.org/stable/auto_examples/linear_model/plot_ols_ridge_variance.html#sphx-glr-auto-examples-linear-model-plot-ols-ridge-variance-py) illustrates how ridge regression effectively reduces the variance, again by increasing the bias, penalizing coefficients to reduce the effectiveness of features (but also the impact of noise)."
   ]
  },
  {
   "cell_type": "code",
   "execution_count": 283,
   "metadata": {},
   "outputs": [
    {
     "data": {
      "text/plain": [
       "array([[0.5],\n",
       "       [1. ]])"
      ]
     },
     "execution_count": 283,
     "metadata": {},
     "output_type": "execute_result"
    }
   ],
   "source": [
    "X_train = np.c_[.5, 1].T\n",
    "X_train"
   ]
  },
  {
   "cell_type": "code",
   "execution_count": 284,
   "metadata": {},
   "outputs": [
    {
     "data": {
      "text/plain": [
       "{'ols': LinearRegression(), 'ridge': Ridge(alpha=0.1)}"
      ]
     },
     "execution_count": 284,
     "metadata": {},
     "output_type": "execute_result"
    }
   ],
   "source": [
    "classifiers = dict(ols=linear_model.LinearRegression(),\n",
    "                   ridge=linear_model.Ridge(alpha=.1))\n",
    "classifiers"
   ]
  },
  {
   "cell_type": "code",
   "execution_count": 285,
   "metadata": {},
   "outputs": [
    {
     "data": {
      "text/plain": [
       "array([[ 2.26975462],\n",
       "       [-1.45436567]])"
      ]
     },
     "execution_count": 285,
     "metadata": {},
     "output_type": "execute_result"
    }
   ],
   "source": [
    "np.random.normal(size=(2, 1)) "
   ]
  },
  {
   "cell_type": "code",
   "execution_count": 286,
   "metadata": {},
   "outputs": [
    {
     "data": {
      "image/png": "[encoded data removed]",
      "text/plain": [
       "<Figure size 288x216 with 1 Axes>"
      ]
     },
     "metadata": {
      "needs_background": "light"
     },
     "output_type": "display_data"
    },
    {
     "data": {
      "image/png": "[encoded data removed]",
      "text/plain": [
       "<Figure size 288x216 with 1 Axes>"
      ]
     },
     "metadata": {
      "needs_background": "light"
     },
     "output_type": "display_data"
    }
   ],
   "source": [
    "# Code source: Gaël Varoquaux\n",
    "# Modified for documentation by Jaques Grobler\n",
    "# License: BSD 3 clause\n",
    "\n",
    "\n",
    "import numpy as np\n",
    "import matplotlib.pyplot as plt\n",
    "\n",
    "from sklearn import linear_model\n",
    "\n",
    "X_train = np.c_[.5, 1].T\n",
    "y_train = [.5, 1]\n",
    "X_test = np.c_[0, 2].T\n",
    "\n",
    "np.random.seed(0)\n",
    "\n",
    "classifiers = dict(ols=linear_model.LinearRegression(),\n",
    "                   ridge=linear_model.Ridge(alpha=.1))\n",
    "\n",
    "for name, clf in classifiers.items():\n",
    "    fig, ax = plt.subplots(figsize=(4, 3))\n",
    "\n",
    "    for _ in range(6):\n",
    "        this_X = .1 * np.random.normal(size=(2, 1)) + X_train\n",
    "        clf.fit(this_X, y_train)\n",
    "\n",
    "        ax.plot(X_test, clf.predict(X_test), color='gray')\n",
    "        ax.scatter(this_X, y_train, s=3, c='gray', marker='o', zorder=10)\n",
    "\n",
    "    clf.fit(X_train, y_train)\n",
    "    ax.plot(X_test, clf.predict(X_test), linewidth=2, color='blue')\n",
    "    ax.scatter(X_train, y_train, s=30, c='red', marker='+', zorder=10)\n",
    "\n",
    "    ax.set_title(name)\n",
    "    ax.set_xlim(0, 2)\n",
    "    ax.set_ylim((0, 1.6))\n",
    "    ax.set_xlabel('X')\n",
    "    ax.set_ylabel('y')\n",
    "\n",
    "    fig.tight_layout()\n",
    "\n",
    "plt.show()"
   ]
  },
  {
   "cell_type": "markdown",
   "metadata": {},
   "source": [
    "This shows that Ridge is more robust in filtering out the noise and not reacting to it."
   ]
  },
  {
   "cell_type": "code",
   "execution_count": null,
   "metadata": {},
   "outputs": [],
   "source": []
  },
  {
   "cell_type": "markdown",
   "metadata": {},
   "source": [
    "### NewYork housing dataset"
   ]
  },
  {
   "cell_type": "code",
   "execution_count": 287,
   "metadata": {
    "scrolled": true
   },
   "outputs": [],
   "source": [
    "%%capture\n",
    "import sys\n",
    "\n",
    "# If you're on Colab:\n",
    "if 'google.colab' in sys.modules:\n",
    "    DATA_PATH = 'https://github.com/skhabiri/PredictiveModeling-LinearModels-u2s1/tree/master/data/'\n",
    "    !pip install category_encoders==2.*\n",
    "\n",
    "# If you're working locally:\n",
    "else:\n",
    "    DATA_PATH = '../data/'"
   ]
  },
  {
   "cell_type": "markdown",
   "metadata": {},
   "source": [
    "### one-hot encoding of categorical features"
   ]
  },
  {
   "cell_type": "markdown",
   "metadata": {},
   "source": [
    "First, let's load the NYC apartment rental listing data:"
   ]
  },
  {
   "cell_type": "code",
   "execution_count": 288,
   "metadata": {
    "scrolled": true
   },
   "outputs": [],
   "source": [
    "import numpy as np\n",
    "import pandas as pd\n",
    "\n",
    "# Read New York City apartment rental listing data\n",
    "df = pd.read_csv(DATA_PATH+'apartments/renthop-nyc.csv')\n",
    "assert df.shape == (49352, 34)\n",
    "\n",
    "# Statistical Trimming\n",
    "# Remove the most extreme 1% prices,\n",
    "# the most extreme .1% latitudes, &\n",
    "# the most extreme .1% longitudes\n",
    "df = df[(df['price'] >= np.percentile(df['price'], 0.5)) & \n",
    "        (df['price'] <= np.percentile(df['price'], 99.5)) & \n",
    "        (df['latitude'] >= np.percentile(df['latitude'], 0.05)) & \n",
    "        (df['latitude'] < np.percentile(df['latitude'], 99.95)) &\n",
    "        (df['longitude'] >= np.percentile(df['longitude'], 0.05)) & \n",
    "        (df['longitude'] <= np.percentile(df['longitude'], 99.95))]\n",
    "\n",
    "# Do train/test split\n",
    "# Use data from April & May 2016 to train\n",
    "# Use data from June 2016 to test\n",
    "df['created'] = pd.to_datetime(df['created'], infer_datetime_format=True)\n",
    "cutoff = pd.to_datetime('2016-06-01')\n",
    "# train on older data and predict recent data\n",
    "train = df[df.created < cutoff]\n",
    "test  = df[df.created >= cutoff]"
   ]
  },
  {
   "cell_type": "markdown",
   "metadata": {},
   "source": [
    "Some columns are numeric:"
   ]
  },
  {
   "cell_type": "code",
   "execution_count": 289,
   "metadata": {
    "scrolled": true
   },
   "outputs": [
    {
     "data": {
      "text/html": [
       "<div>\n",
       "<style scoped>\n",
       "    .dataframe tbody tr th:only-of-type {\n",
       "        vertical-align: middle;\n",
       "    }\n",
       "\n",
       "    .dataframe tbody tr th {\n",
       "        vertical-align: top;\n",
       "    }\n",
       "\n",
       "    .dataframe thead th {\n",
       "        text-align: right;\n",
       "    }\n",
       "</style>\n",
       "<table border=\"1\" class=\"dataframe\">\n",
       "  <thead>\n",
       "    <tr style=\"text-align: right;\">\n",
       "      <th></th>\n",
       "      <th>count</th>\n",
       "      <th>mean</th>\n",
       "      <th>std</th>\n",
       "      <th>min</th>\n",
       "      <th>25%</th>\n",
       "      <th>50%</th>\n",
       "      <th>75%</th>\n",
       "      <th>max</th>\n",
       "    </tr>\n",
       "  </thead>\n",
       "  <tbody>\n",
       "    <tr>\n",
       "      <th>bathrooms</th>\n",
       "      <td>31844.0</td>\n",
       "      <td>1.203728</td>\n",
       "      <td>0.472447</td>\n",
       "      <td>0.0000</td>\n",
       "      <td>1.0000</td>\n",
       "      <td>1.0000</td>\n",
       "      <td>1.0000</td>\n",
       "      <td>10.0000</td>\n",
       "    </tr>\n",
       "    <tr>\n",
       "      <th>bedrooms</th>\n",
       "      <td>31844.0</td>\n",
       "      <td>1.528357</td>\n",
       "      <td>1.105061</td>\n",
       "      <td>0.0000</td>\n",
       "      <td>1.0000</td>\n",
       "      <td>1.0000</td>\n",
       "      <td>2.0000</td>\n",
       "      <td>7.0000</td>\n",
       "    </tr>\n",
       "    <tr>\n",
       "      <th>latitude</th>\n",
       "      <td>31844.0</td>\n",
       "      <td>40.750743</td>\n",
       "      <td>0.038658</td>\n",
       "      <td>40.5757</td>\n",
       "      <td>40.7285</td>\n",
       "      <td>40.7517</td>\n",
       "      <td>40.7736</td>\n",
       "      <td>40.9102</td>\n",
       "    </tr>\n",
       "    <tr>\n",
       "      <th>longitude</th>\n",
       "      <td>31844.0</td>\n",
       "      <td>-73.972867</td>\n",
       "      <td>0.028910</td>\n",
       "      <td>-74.0873</td>\n",
       "      <td>-73.9918</td>\n",
       "      <td>-73.9781</td>\n",
       "      <td>-73.9550</td>\n",
       "      <td>-73.7001</td>\n",
       "    </tr>\n",
       "    <tr>\n",
       "      <th>price</th>\n",
       "      <td>31844.0</td>\n",
       "      <td>3575.604007</td>\n",
       "      <td>1762.136694</td>\n",
       "      <td>1375.0000</td>\n",
       "      <td>2500.0000</td>\n",
       "      <td>3150.0000</td>\n",
       "      <td>4095.0000</td>\n",
       "      <td>15500.0000</td>\n",
       "    </tr>\n",
       "    <tr>\n",
       "      <th>elevator</th>\n",
       "      <td>31844.0</td>\n",
       "      <td>0.530430</td>\n",
       "      <td>0.499081</td>\n",
       "      <td>0.0000</td>\n",
       "      <td>0.0000</td>\n",
       "      <td>1.0000</td>\n",
       "      <td>1.0000</td>\n",
       "      <td>1.0000</td>\n",
       "    </tr>\n",
       "    <tr>\n",
       "      <th>cats_allowed</th>\n",
       "      <td>31844.0</td>\n",
       "      <td>0.477139</td>\n",
       "      <td>0.499485</td>\n",
       "      <td>0.0000</td>\n",
       "      <td>0.0000</td>\n",
       "      <td>0.0000</td>\n",
       "      <td>1.0000</td>\n",
       "      <td>1.0000</td>\n",
       "    </tr>\n",
       "    <tr>\n",
       "      <th>hardwood_floors</th>\n",
       "      <td>31844.0</td>\n",
       "      <td>0.480907</td>\n",
       "      <td>0.499643</td>\n",
       "      <td>0.0000</td>\n",
       "      <td>0.0000</td>\n",
       "      <td>0.0000</td>\n",
       "      <td>1.0000</td>\n",
       "      <td>1.0000</td>\n",
       "    </tr>\n",
       "    <tr>\n",
       "      <th>dogs_allowed</th>\n",
       "      <td>31844.0</td>\n",
       "      <td>0.445861</td>\n",
       "      <td>0.497068</td>\n",
       "      <td>0.0000</td>\n",
       "      <td>0.0000</td>\n",
       "      <td>0.0000</td>\n",
       "      <td>1.0000</td>\n",
       "      <td>1.0000</td>\n",
       "    </tr>\n",
       "    <tr>\n",
       "      <th>doorman</th>\n",
       "      <td>31844.0</td>\n",
       "      <td>0.430725</td>\n",
       "      <td>0.495185</td>\n",
       "      <td>0.0000</td>\n",
       "      <td>0.0000</td>\n",
       "      <td>0.0000</td>\n",
       "      <td>1.0000</td>\n",
       "      <td>1.0000</td>\n",
       "    </tr>\n",
       "    <tr>\n",
       "      <th>dishwasher</th>\n",
       "      <td>31844.0</td>\n",
       "      <td>0.418666</td>\n",
       "      <td>0.493348</td>\n",
       "      <td>0.0000</td>\n",
       "      <td>0.0000</td>\n",
       "      <td>0.0000</td>\n",
       "      <td>1.0000</td>\n",
       "      <td>1.0000</td>\n",
       "    </tr>\n",
       "    <tr>\n",
       "      <th>no_fee</th>\n",
       "      <td>31844.0</td>\n",
       "      <td>0.369834</td>\n",
       "      <td>0.482767</td>\n",
       "      <td>0.0000</td>\n",
       "      <td>0.0000</td>\n",
       "      <td>0.0000</td>\n",
       "      <td>1.0000</td>\n",
       "      <td>1.0000</td>\n",
       "    </tr>\n",
       "    <tr>\n",
       "      <th>laundry_in_building</th>\n",
       "      <td>31844.0</td>\n",
       "      <td>0.057311</td>\n",
       "      <td>0.232439</td>\n",
       "      <td>0.0000</td>\n",
       "      <td>0.0000</td>\n",
       "      <td>0.0000</td>\n",
       "      <td>0.0000</td>\n",
       "      <td>1.0000</td>\n",
       "    </tr>\n",
       "    <tr>\n",
       "      <th>fitness_center</th>\n",
       "      <td>31844.0</td>\n",
       "      <td>0.267586</td>\n",
       "      <td>0.442707</td>\n",
       "      <td>0.0000</td>\n",
       "      <td>0.0000</td>\n",
       "      <td>0.0000</td>\n",
       "      <td>1.0000</td>\n",
       "      <td>1.0000</td>\n",
       "    </tr>\n",
       "    <tr>\n",
       "      <th>pre-war</th>\n",
       "      <td>31844.0</td>\n",
       "      <td>0.185938</td>\n",
       "      <td>0.389062</td>\n",
       "      <td>0.0000</td>\n",
       "      <td>0.0000</td>\n",
       "      <td>0.0000</td>\n",
       "      <td>0.0000</td>\n",
       "      <td>1.0000</td>\n",
       "    </tr>\n",
       "    <tr>\n",
       "      <th>laundry_in_unit</th>\n",
       "      <td>31844.0</td>\n",
       "      <td>0.175700</td>\n",
       "      <td>0.380571</td>\n",
       "      <td>0.0000</td>\n",
       "      <td>0.0000</td>\n",
       "      <td>0.0000</td>\n",
       "      <td>0.0000</td>\n",
       "      <td>1.0000</td>\n",
       "    </tr>\n",
       "    <tr>\n",
       "      <th>roof_deck</th>\n",
       "      <td>31844.0</td>\n",
       "      <td>0.133777</td>\n",
       "      <td>0.340418</td>\n",
       "      <td>0.0000</td>\n",
       "      <td>0.0000</td>\n",
       "      <td>0.0000</td>\n",
       "      <td>0.0000</td>\n",
       "      <td>1.0000</td>\n",
       "    </tr>\n",
       "    <tr>\n",
       "      <th>outdoor_space</th>\n",
       "      <td>31844.0</td>\n",
       "      <td>0.143983</td>\n",
       "      <td>0.351078</td>\n",
       "      <td>0.0000</td>\n",
       "      <td>0.0000</td>\n",
       "      <td>0.0000</td>\n",
       "      <td>0.0000</td>\n",
       "      <td>1.0000</td>\n",
       "    </tr>\n",
       "    <tr>\n",
       "      <th>dining_room</th>\n",
       "      <td>31844.0</td>\n",
       "      <td>0.104290</td>\n",
       "      <td>0.305641</td>\n",
       "      <td>0.0000</td>\n",
       "      <td>0.0000</td>\n",
       "      <td>0.0000</td>\n",
       "      <td>0.0000</td>\n",
       "      <td>1.0000</td>\n",
       "    </tr>\n",
       "    <tr>\n",
       "      <th>high_speed_internet</th>\n",
       "      <td>31844.0</td>\n",
       "      <td>0.088620</td>\n",
       "      <td>0.284198</td>\n",
       "      <td>0.0000</td>\n",
       "      <td>0.0000</td>\n",
       "      <td>0.0000</td>\n",
       "      <td>0.0000</td>\n",
       "      <td>1.0000</td>\n",
       "    </tr>\n",
       "    <tr>\n",
       "      <th>balcony</th>\n",
       "      <td>31844.0</td>\n",
       "      <td>0.060734</td>\n",
       "      <td>0.238845</td>\n",
       "      <td>0.0000</td>\n",
       "      <td>0.0000</td>\n",
       "      <td>0.0000</td>\n",
       "      <td>0.0000</td>\n",
       "      <td>1.0000</td>\n",
       "    </tr>\n",
       "    <tr>\n",
       "      <th>swimming_pool</th>\n",
       "      <td>31844.0</td>\n",
       "      <td>0.055929</td>\n",
       "      <td>0.229788</td>\n",
       "      <td>0.0000</td>\n",
       "      <td>0.0000</td>\n",
       "      <td>0.0000</td>\n",
       "      <td>0.0000</td>\n",
       "      <td>1.0000</td>\n",
       "    </tr>\n",
       "    <tr>\n",
       "      <th>new_construction</th>\n",
       "      <td>31844.0</td>\n",
       "      <td>0.051470</td>\n",
       "      <td>0.220957</td>\n",
       "      <td>0.0000</td>\n",
       "      <td>0.0000</td>\n",
       "      <td>0.0000</td>\n",
       "      <td>0.0000</td>\n",
       "      <td>1.0000</td>\n",
       "    </tr>\n",
       "    <tr>\n",
       "      <th>terrace</th>\n",
       "      <td>31844.0</td>\n",
       "      <td>0.047733</td>\n",
       "      <td>0.213203</td>\n",
       "      <td>0.0000</td>\n",
       "      <td>0.0000</td>\n",
       "      <td>0.0000</td>\n",
       "      <td>0.0000</td>\n",
       "      <td>1.0000</td>\n",
       "    </tr>\n",
       "    <tr>\n",
       "      <th>exclusive</th>\n",
       "      <td>31844.0</td>\n",
       "      <td>0.042269</td>\n",
       "      <td>0.201204</td>\n",
       "      <td>0.0000</td>\n",
       "      <td>0.0000</td>\n",
       "      <td>0.0000</td>\n",
       "      <td>0.0000</td>\n",
       "      <td>1.0000</td>\n",
       "    </tr>\n",
       "    <tr>\n",
       "      <th>loft</th>\n",
       "      <td>31844.0</td>\n",
       "      <td>0.044216</td>\n",
       "      <td>0.205577</td>\n",
       "      <td>0.0000</td>\n",
       "      <td>0.0000</td>\n",
       "      <td>0.0000</td>\n",
       "      <td>0.0000</td>\n",
       "      <td>1.0000</td>\n",
       "    </tr>\n",
       "    <tr>\n",
       "      <th>garden_patio</th>\n",
       "      <td>31844.0</td>\n",
       "      <td>0.039222</td>\n",
       "      <td>0.194127</td>\n",
       "      <td>0.0000</td>\n",
       "      <td>0.0000</td>\n",
       "      <td>0.0000</td>\n",
       "      <td>0.0000</td>\n",
       "      <td>1.0000</td>\n",
       "    </tr>\n",
       "    <tr>\n",
       "      <th>wheelchair_access</th>\n",
       "      <td>31844.0</td>\n",
       "      <td>0.028388</td>\n",
       "      <td>0.166082</td>\n",
       "      <td>0.0000</td>\n",
       "      <td>0.0000</td>\n",
       "      <td>0.0000</td>\n",
       "      <td>0.0000</td>\n",
       "      <td>1.0000</td>\n",
       "    </tr>\n",
       "    <tr>\n",
       "      <th>common_outdoor_space</th>\n",
       "      <td>31844.0</td>\n",
       "      <td>0.029048</td>\n",
       "      <td>0.167943</td>\n",
       "      <td>0.0000</td>\n",
       "      <td>0.0000</td>\n",
       "      <td>0.0000</td>\n",
       "      <td>0.0000</td>\n",
       "      <td>1.0000</td>\n",
       "    </tr>\n",
       "  </tbody>\n",
       "</table>\n",
       "</div>"
      ],
      "text/plain": [
       "                        count         mean          std        min        25%  \\\n",
       "bathrooms             31844.0     1.203728     0.472447     0.0000     1.0000   \n",
       "bedrooms              31844.0     1.528357     1.105061     0.0000     1.0000   \n",
       "latitude              31844.0    40.750743     0.038658    40.5757    40.7285   \n",
       "longitude             31844.0   -73.972867     0.028910   -74.0873   -73.9918   \n",
       "price                 31844.0  3575.604007  1762.136694  1375.0000  2500.0000   \n",
       "elevator              31844.0     0.530430     0.499081     0.0000     0.0000   \n",
       "cats_allowed          31844.0     0.477139     0.499485     0.0000     0.0000   \n",
       "hardwood_floors       31844.0     0.480907     0.499643     0.0000     0.0000   \n",
       "dogs_allowed          31844.0     0.445861     0.497068     0.0000     0.0000   \n",
       "doorman               31844.0     0.430725     0.495185     0.0000     0.0000   \n",
       "dishwasher            31844.0     0.418666     0.493348     0.0000     0.0000   \n",
       "no_fee                31844.0     0.369834     0.482767     0.0000     0.0000   \n",
       "laundry_in_building   31844.0     0.057311     0.232439     0.0000     0.0000   \n",
       "fitness_center        31844.0     0.267586     0.442707     0.0000     0.0000   \n",
       "pre-war               31844.0     0.185938     0.389062     0.0000     0.0000   \n",
       "laundry_in_unit       31844.0     0.175700     0.380571     0.0000     0.0000   \n",
       "roof_deck             31844.0     0.133777     0.340418     0.0000     0.0000   \n",
       "outdoor_space         31844.0     0.143983     0.351078     0.0000     0.0000   \n",
       "dining_room           31844.0     0.104290     0.305641     0.0000     0.0000   \n",
       "high_speed_internet   31844.0     0.088620     0.284198     0.0000     0.0000   \n",
       "balcony               31844.0     0.060734     0.238845     0.0000     0.0000   \n",
       "swimming_pool         31844.0     0.055929     0.229788     0.0000     0.0000   \n",
       "new_construction      31844.0     0.051470     0.220957     0.0000     0.0000   \n",
       "terrace               31844.0     0.047733     0.213203     0.0000     0.0000   \n",
       "exclusive             31844.0     0.042269     0.201204     0.0000     0.0000   \n",
       "loft                  31844.0     0.044216     0.205577     0.0000     0.0000   \n",
       "garden_patio          31844.0     0.039222     0.194127     0.0000     0.0000   \n",
       "wheelchair_access     31844.0     0.028388     0.166082     0.0000     0.0000   \n",
       "common_outdoor_space  31844.0     0.029048     0.167943     0.0000     0.0000   \n",
       "\n",
       "                            50%        75%         max  \n",
       "bathrooms                1.0000     1.0000     10.0000  \n",
       "bedrooms                 1.0000     2.0000      7.0000  \n",
       "latitude                40.7517    40.7736     40.9102  \n",
       "longitude              -73.9781   -73.9550    -73.7001  \n",
       "price                 3150.0000  4095.0000  15500.0000  \n",
       "elevator                 1.0000     1.0000      1.0000  \n",
       "cats_allowed             0.0000     1.0000      1.0000  \n",
       "hardwood_floors          0.0000     1.0000      1.0000  \n",
       "dogs_allowed             0.0000     1.0000      1.0000  \n",
       "doorman                  0.0000     1.0000      1.0000  \n",
       "dishwasher               0.0000     1.0000      1.0000  \n",
       "no_fee                   0.0000     1.0000      1.0000  \n",
       "laundry_in_building      0.0000     0.0000      1.0000  \n",
       "fitness_center           0.0000     1.0000      1.0000  \n",
       "pre-war                  0.0000     0.0000      1.0000  \n",
       "laundry_in_unit          0.0000     0.0000      1.0000  \n",
       "roof_deck                0.0000     0.0000      1.0000  \n",
       "outdoor_space            0.0000     0.0000      1.0000  \n",
       "dining_room              0.0000     0.0000      1.0000  \n",
       "high_speed_internet      0.0000     0.0000      1.0000  \n",
       "balcony                  0.0000     0.0000      1.0000  \n",
       "swimming_pool            0.0000     0.0000      1.0000  \n",
       "new_construction         0.0000     0.0000      1.0000  \n",
       "terrace                  0.0000     0.0000      1.0000  \n",
       "exclusive                0.0000     0.0000      1.0000  \n",
       "loft                     0.0000     0.0000      1.0000  \n",
       "garden_patio             0.0000     0.0000      1.0000  \n",
       "wheelchair_access        0.0000     0.0000      1.0000  \n",
       "common_outdoor_space     0.0000     0.0000      1.0000  "
      ]
     },
     "execution_count": 289,
     "metadata": {},
     "output_type": "execute_result"
    }
   ],
   "source": [
    "train.select_dtypes(include='number').describe().T"
   ]
  },
  {
   "cell_type": "markdown",
   "metadata": {},
   "source": [
    "Some columns are _not_ numeric:"
   ]
  },
  {
   "cell_type": "code",
   "execution_count": 290,
   "metadata": {
    "scrolled": true
   },
   "outputs": [
    {
     "name": "stderr",
     "output_type": "stream",
     "text": [
      "/Users/shahnam/.pyenv/versions/3.7.8/lib/python3.7/site-packages/ipykernel_launcher.py:2: FutureWarning: Treating datetime data as categorical rather than numeric in `.describe` is deprecated and will be removed in a future version of pandas. Specify `datetime_is_numeric=True` to silence this warning and adopt the future behavior now.\n",
      "  \n"
     ]
    },
    {
     "data": {
      "text/html": [
       "<div>\n",
       "<style scoped>\n",
       "    .dataframe tbody tr th:only-of-type {\n",
       "        vertical-align: middle;\n",
       "    }\n",
       "\n",
       "    .dataframe tbody tr th {\n",
       "        vertical-align: top;\n",
       "    }\n",
       "\n",
       "    .dataframe thead th {\n",
       "        text-align: right;\n",
       "    }\n",
       "</style>\n",
       "<table border=\"1\" class=\"dataframe\">\n",
       "  <thead>\n",
       "    <tr style=\"text-align: right;\">\n",
       "      <th></th>\n",
       "      <th>count</th>\n",
       "      <th>unique</th>\n",
       "      <th>top</th>\n",
       "      <th>freq</th>\n",
       "      <th>first</th>\n",
       "      <th>last</th>\n",
       "    </tr>\n",
       "  </thead>\n",
       "  <tbody>\n",
       "    <tr>\n",
       "      <th>interest_level</th>\n",
       "      <td>31844</td>\n",
       "      <td>3</td>\n",
       "      <td>low</td>\n",
       "      <td>22053</td>\n",
       "      <td>NaT</td>\n",
       "      <td>NaT</td>\n",
       "    </tr>\n",
       "    <tr>\n",
       "      <th>display_address</th>\n",
       "      <td>31775</td>\n",
       "      <td>6468</td>\n",
       "      <td>Broadway</td>\n",
       "      <td>273</td>\n",
       "      <td>NaT</td>\n",
       "      <td>NaT</td>\n",
       "    </tr>\n",
       "    <tr>\n",
       "      <th>street_address</th>\n",
       "      <td>31838</td>\n",
       "      <td>11280</td>\n",
       "      <td>505 West 37th Street</td>\n",
       "      <td>120</td>\n",
       "      <td>NaT</td>\n",
       "      <td>NaT</td>\n",
       "    </tr>\n",
       "    <tr>\n",
       "      <th>description</th>\n",
       "      <td>30875</td>\n",
       "      <td>25735</td>\n",
       "      <td></td>\n",
       "      <td>906</td>\n",
       "      <td>NaT</td>\n",
       "      <td>NaT</td>\n",
       "    </tr>\n",
       "    <tr>\n",
       "      <th>created</th>\n",
       "      <td>31844</td>\n",
       "      <td>31436</td>\n",
       "      <td>2016-05-14 01:11:03</td>\n",
       "      <td>3</td>\n",
       "      <td>2016-04-01 22:12:41</td>\n",
       "      <td>2016-05-31 23:10:48</td>\n",
       "    </tr>\n",
       "  </tbody>\n",
       "</table>\n",
       "</div>"
      ],
      "text/plain": [
       "                 count unique                   top   freq  \\\n",
       "interest_level   31844      3                   low  22053   \n",
       "display_address  31775   6468              Broadway    273   \n",
       "street_address   31838  11280  505 West 37th Street    120   \n",
       "description      30875  25735                          906   \n",
       "created          31844  31436   2016-05-14 01:11:03      3   \n",
       "\n",
       "                              first                last  \n",
       "interest_level                  NaT                 NaT  \n",
       "display_address                 NaT                 NaT  \n",
       "street_address                  NaT                 NaT  \n",
       "description                     NaT                 NaT  \n",
       "created         2016-04-01 22:12:41 2016-05-31 23:10:48  "
      ]
     },
     "execution_count": 290,
     "metadata": {},
     "output_type": "execute_result"
    }
   ],
   "source": [
    "# Sort along axis=0, by \"unique\" column label\n",
    "train.select_dtypes(exclude='number').describe().T.sort_values(by='unique')"
   ]
  },
  {
   "cell_type": "code",
   "execution_count": 291,
   "metadata": {},
   "outputs": [
    {
     "data": {
      "text/html": [
       "<div>\n",
       "<style scoped>\n",
       "    .dataframe tbody tr th:only-of-type {\n",
       "        vertical-align: middle;\n",
       "    }\n",
       "\n",
       "    .dataframe tbody tr th {\n",
       "        vertical-align: top;\n",
       "    }\n",
       "\n",
       "    .dataframe thead th {\n",
       "        text-align: right;\n",
       "    }\n",
       "</style>\n",
       "<table border=\"1\" class=\"dataframe\">\n",
       "  <thead>\n",
       "    <tr style=\"text-align: right;\">\n",
       "      <th></th>\n",
       "      <th>bathrooms</th>\n",
       "      <th>bedrooms</th>\n",
       "      <th>latitude</th>\n",
       "      <th>longitude</th>\n",
       "      <th>price</th>\n",
       "      <th>elevator</th>\n",
       "      <th>cats_allowed</th>\n",
       "      <th>hardwood_floors</th>\n",
       "      <th>dogs_allowed</th>\n",
       "      <th>doorman</th>\n",
       "      <th>...</th>\n",
       "      <th>high_speed_internet</th>\n",
       "      <th>balcony</th>\n",
       "      <th>swimming_pool</th>\n",
       "      <th>new_construction</th>\n",
       "      <th>terrace</th>\n",
       "      <th>exclusive</th>\n",
       "      <th>loft</th>\n",
       "      <th>garden_patio</th>\n",
       "      <th>wheelchair_access</th>\n",
       "      <th>common_outdoor_space</th>\n",
       "    </tr>\n",
       "    <tr>\n",
       "      <th>interest_level</th>\n",
       "      <th></th>\n",
       "      <th></th>\n",
       "      <th></th>\n",
       "      <th></th>\n",
       "      <th></th>\n",
       "      <th></th>\n",
       "      <th></th>\n",
       "      <th></th>\n",
       "      <th></th>\n",
       "      <th></th>\n",
       "      <th></th>\n",
       "      <th></th>\n",
       "      <th></th>\n",
       "      <th></th>\n",
       "      <th></th>\n",
       "      <th></th>\n",
       "      <th></th>\n",
       "      <th></th>\n",
       "      <th></th>\n",
       "      <th></th>\n",
       "      <th></th>\n",
       "    </tr>\n",
       "  </thead>\n",
       "  <tbody>\n",
       "    <tr>\n",
       "      <th>high</th>\n",
       "      <td>1.119502</td>\n",
       "      <td>1.560166</td>\n",
       "      <td>40.747328</td>\n",
       "      <td>-73.967399</td>\n",
       "      <td>2728.689212</td>\n",
       "      <td>0.482158</td>\n",
       "      <td>0.424896</td>\n",
       "      <td>0.537344</td>\n",
       "      <td>0.382573</td>\n",
       "      <td>0.292946</td>\n",
       "      <td>...</td>\n",
       "      <td>0.097510</td>\n",
       "      <td>0.068880</td>\n",
       "      <td>0.043568</td>\n",
       "      <td>0.045643</td>\n",
       "      <td>0.058506</td>\n",
       "      <td>0.063071</td>\n",
       "      <td>0.051037</td>\n",
       "      <td>0.050622</td>\n",
       "      <td>0.030290</td>\n",
       "      <td>0.040664</td>\n",
       "    </tr>\n",
       "    <tr>\n",
       "      <th>low</th>\n",
       "      <td>1.225752</td>\n",
       "      <td>1.494989</td>\n",
       "      <td>40.751766</td>\n",
       "      <td>-73.973664</td>\n",
       "      <td>3802.227633</td>\n",
       "      <td>0.530313</td>\n",
       "      <td>0.496758</td>\n",
       "      <td>0.432186</td>\n",
       "      <td>0.467419</td>\n",
       "      <td>0.453317</td>\n",
       "      <td>...</td>\n",
       "      <td>0.078175</td>\n",
       "      <td>0.055593</td>\n",
       "      <td>0.055095</td>\n",
       "      <td>0.047749</td>\n",
       "      <td>0.042534</td>\n",
       "      <td>0.042443</td>\n",
       "      <td>0.040901</td>\n",
       "      <td>0.034417</td>\n",
       "      <td>0.027343</td>\n",
       "      <td>0.025484</td>\n",
       "    </tr>\n",
       "    <tr>\n",
       "      <th>medium</th>\n",
       "      <td>1.165425</td>\n",
       "      <td>1.617667</td>\n",
       "      <td>40.748802</td>\n",
       "      <td>-73.972270</td>\n",
       "      <td>3175.026013</td>\n",
       "      <td>0.546538</td>\n",
       "      <td>0.435578</td>\n",
       "      <td>0.608048</td>\n",
       "      <td>0.402114</td>\n",
       "      <td>0.408210</td>\n",
       "      <td>...</td>\n",
       "      <td>0.116922</td>\n",
       "      <td>0.073432</td>\n",
       "      <td>0.062458</td>\n",
       "      <td>0.064490</td>\n",
       "      <td>0.059748</td>\n",
       "      <td>0.034955</td>\n",
       "      <td>0.051890</td>\n",
       "      <td>0.049858</td>\n",
       "      <td>0.030890</td>\n",
       "      <td>0.035903</td>\n",
       "    </tr>\n",
       "  </tbody>\n",
       "</table>\n",
       "<p>3 rows × 29 columns</p>\n",
       "</div>"
      ],
      "text/plain": [
       "                bathrooms  bedrooms   latitude  longitude        price  \\\n",
       "interest_level                                                           \n",
       "high             1.119502  1.560166  40.747328 -73.967399  2728.689212   \n",
       "low              1.225752  1.494989  40.751766 -73.973664  3802.227633   \n",
       "medium           1.165425  1.617667  40.748802 -73.972270  3175.026013   \n",
       "\n",
       "                elevator  cats_allowed  hardwood_floors  dogs_allowed  \\\n",
       "interest_level                                                          \n",
       "high            0.482158      0.424896         0.537344      0.382573   \n",
       "low             0.530313      0.496758         0.432186      0.467419   \n",
       "medium          0.546538      0.435578         0.608048      0.402114   \n",
       "\n",
       "                 doorman  ...  high_speed_internet   balcony  swimming_pool  \\\n",
       "interest_level            ...                                                 \n",
       "high            0.292946  ...             0.097510  0.068880       0.043568   \n",
       "low             0.453317  ...             0.078175  0.055593       0.055095   \n",
       "medium          0.408210  ...             0.116922  0.073432       0.062458   \n",
       "\n",
       "                new_construction   terrace  exclusive      loft  garden_patio  \\\n",
       "interest_level                                                                  \n",
       "high                    0.045643  0.058506   0.063071  0.051037      0.050622   \n",
       "low                     0.047749  0.042534   0.042443  0.040901      0.034417   \n",
       "medium                  0.064490  0.059748   0.034955  0.051890      0.049858   \n",
       "\n",
       "                wheelchair_access  common_outdoor_space  \n",
       "interest_level                                           \n",
       "high                     0.030290              0.040664  \n",
       "low                      0.027343              0.025484  \n",
       "medium                   0.030890              0.035903  \n",
       "\n",
       "[3 rows x 29 columns]"
      ]
     },
     "execution_count": 291,
     "metadata": {},
     "output_type": "execute_result"
    }
   ],
   "source": [
    "# index the data denoted by groupby \n",
    "train.groupby('interest_level').mean()"
   ]
  },
  {
   "cell_type": "markdown",
   "metadata": {},
   "source": [
    "Let's look at the relationship between `interest_level` and `price`:"
   ]
  },
  {
   "cell_type": "code",
   "execution_count": 292,
   "metadata": {
    "scrolled": true
   },
   "outputs": [
    {
     "data": {
      "text/html": [
       "<div>\n",
       "<style scoped>\n",
       "    .dataframe tbody tr th:only-of-type {\n",
       "        vertical-align: middle;\n",
       "    }\n",
       "\n",
       "    .dataframe tbody tr th {\n",
       "        vertical-align: top;\n",
       "    }\n",
       "\n",
       "    .dataframe thead th {\n",
       "        text-align: right;\n",
       "    }\n",
       "</style>\n",
       "<table border=\"1\" class=\"dataframe\">\n",
       "  <thead>\n",
       "    <tr style=\"text-align: right;\">\n",
       "      <th></th>\n",
       "      <th>count</th>\n",
       "      <th>mean</th>\n",
       "      <th>std</th>\n",
       "      <th>min</th>\n",
       "      <th>25%</th>\n",
       "      <th>50%</th>\n",
       "      <th>75%</th>\n",
       "      <th>max</th>\n",
       "    </tr>\n",
       "    <tr>\n",
       "      <th>interest_level</th>\n",
       "      <th></th>\n",
       "      <th></th>\n",
       "      <th></th>\n",
       "      <th></th>\n",
       "      <th></th>\n",
       "      <th></th>\n",
       "      <th></th>\n",
       "      <th></th>\n",
       "    </tr>\n",
       "  </thead>\n",
       "  <tbody>\n",
       "    <tr>\n",
       "      <th>high</th>\n",
       "      <td>2410.0</td>\n",
       "      <td>2728.689212</td>\n",
       "      <td>1125.654965</td>\n",
       "      <td>1375.0</td>\n",
       "      <td>1900.0</td>\n",
       "      <td>2450.0</td>\n",
       "      <td>3200.0</td>\n",
       "      <td>11000.0</td>\n",
       "    </tr>\n",
       "    <tr>\n",
       "      <th>low</th>\n",
       "      <td>22053.0</td>\n",
       "      <td>3802.227633</td>\n",
       "      <td>1910.469337</td>\n",
       "      <td>1375.0</td>\n",
       "      <td>2600.0</td>\n",
       "      <td>3300.0</td>\n",
       "      <td>4384.0</td>\n",
       "      <td>15500.0</td>\n",
       "    </tr>\n",
       "    <tr>\n",
       "      <th>medium</th>\n",
       "      <td>7381.0</td>\n",
       "      <td>3175.026013</td>\n",
       "      <td>1236.912369</td>\n",
       "      <td>1375.0</td>\n",
       "      <td>2300.0</td>\n",
       "      <td>2895.0</td>\n",
       "      <td>3695.0</td>\n",
       "      <td>14000.0</td>\n",
       "    </tr>\n",
       "  </tbody>\n",
       "</table>\n",
       "</div>"
      ],
      "text/plain": [
       "                  count         mean          std     min     25%     50%  \\\n",
       "interest_level                                                              \n",
       "high             2410.0  2728.689212  1125.654965  1375.0  1900.0  2450.0   \n",
       "low             22053.0  3802.227633  1910.469337  1375.0  2600.0  3300.0   \n",
       "medium           7381.0  3175.026013  1236.912369  1375.0  2300.0  2895.0   \n",
       "\n",
       "                   75%      max  \n",
       "interest_level                   \n",
       "high            3200.0  11000.0  \n",
       "low             4384.0  15500.0  \n",
       "medium          3695.0  14000.0  "
      ]
     },
     "execution_count": 292,
     "metadata": {},
     "output_type": "execute_result"
    }
   ],
   "source": [
    "train.groupby('interest_level')['price'].describe()"
   ]
  },
  {
   "cell_type": "code",
   "execution_count": 293,
   "metadata": {},
   "outputs": [
    {
     "data": {
      "text/plain": [
       "interest_level\n",
       "high      2728.689212\n",
       "low       3802.227633\n",
       "medium    3175.026013\n",
       "Name: price, dtype: float64"
      ]
     },
     "execution_count": 293,
     "metadata": {},
     "output_type": "execute_result"
    }
   ],
   "source": [
    "train.groupby('interest_level')['price'].mean()"
   ]
  },
  {
   "cell_type": "markdown",
   "metadata": {},
   "source": [
    "Interest Level seems like a useful, predictive feature. But it's a string — and our scikit-learn models expect all inputs to be numbers. \n",
    "\n",
    "So, we can \"one-hot encode\" the feature.\n",
    "\n",
    "To go from this:\n",
    "\n",
    "| interest_level |\n",
    "|----------------|\n",
    "| high           |\n",
    "| medium         |\n",
    "| low            |\n",
    "\n",
    "\n",
    "To this:\n",
    "\n",
    "| interest_level_high | interest_level_medium | interest_level_low |\n",
    "|---------------------|-----------------------|--------------------|\n",
    "| 1                   | 0                     | 0                  |\n",
    "| 0                   | 1                     | 0                  |\n",
    "| 0                   | 0                     | 1                  |"
   ]
  },
  {
   "cell_type": "markdown",
   "metadata": {},
   "source": [
    "\"One-hot encoding\" adds a dimension for each unique value of each categorical feature. So, it may not be a good choice for \"high cardinality\" categoricals that have dozens, hundreds, or thousands of unique values. \n",
    "\n",
    "[Cardinality](https://simple.wikipedia.org/wiki/Cardinality) means the number of unique values that a feature has:\n",
    "> In mathematics, the cardinality of a set means the number of its elements. For example, the set A = {2, 4, 6} contains 3 elements, and therefore A has a cardinality of 3. "
   ]
  },
  {
   "cell_type": "markdown",
   "metadata": {},
   "source": [
    "## Follow Along"
   ]
  },
  {
   "cell_type": "markdown",
   "metadata": {},
   "source": [
    "The other non-numeric columns have high cardinality. So let's exclude them from our features for now."
   ]
  },
  {
   "cell_type": "code",
   "execution_count": 294,
   "metadata": {
    "scrolled": true
   },
   "outputs": [],
   "source": [
    "target = 'price'\n",
    "high_cardinality = ['display_address', 'street_address', 'description', 'created']\n",
    "\n",
    "#drop method on pandas Series\n",
    "features = train.columns.drop([target] + high_cardinality)\n",
    "# alternatively, drop metho on pandas DataFrame\n",
    "# train.drop([target] + high_cardinality, axis=1, inplace=True)\n",
    "\n",
    "X_train = train[features]\n",
    "y_train = train[target]\n",
    "X_test = test[features]\n",
    "y_test = test[target]"
   ]
  },
  {
   "cell_type": "markdown",
   "metadata": {},
   "source": [
    "Here's what `X_train` looks like **before** encoding:"
   ]
  },
  {
   "cell_type": "code",
   "execution_count": 295,
   "metadata": {
    "scrolled": true
   },
   "outputs": [
    {
     "data": {
      "text/html": [
       "<div>\n",
       "<style scoped>\n",
       "    .dataframe tbody tr th:only-of-type {\n",
       "        vertical-align: middle;\n",
       "    }\n",
       "\n",
       "    .dataframe tbody tr th {\n",
       "        vertical-align: top;\n",
       "    }\n",
       "\n",
       "    .dataframe thead th {\n",
       "        text-align: right;\n",
       "    }\n",
       "</style>\n",
       "<table border=\"1\" class=\"dataframe\">\n",
       "  <thead>\n",
       "    <tr style=\"text-align: right;\">\n",
       "      <th></th>\n",
       "      <th>bathrooms</th>\n",
       "      <th>bedrooms</th>\n",
       "      <th>latitude</th>\n",
       "      <th>longitude</th>\n",
       "      <th>interest_level</th>\n",
       "      <th>elevator</th>\n",
       "      <th>cats_allowed</th>\n",
       "      <th>hardwood_floors</th>\n",
       "      <th>dogs_allowed</th>\n",
       "      <th>doorman</th>\n",
       "      <th>...</th>\n",
       "      <th>high_speed_internet</th>\n",
       "      <th>balcony</th>\n",
       "      <th>swimming_pool</th>\n",
       "      <th>new_construction</th>\n",
       "      <th>terrace</th>\n",
       "      <th>exclusive</th>\n",
       "      <th>loft</th>\n",
       "      <th>garden_patio</th>\n",
       "      <th>wheelchair_access</th>\n",
       "      <th>common_outdoor_space</th>\n",
       "    </tr>\n",
       "  </thead>\n",
       "  <tbody>\n",
       "    <tr>\n",
       "      <th>2</th>\n",
       "      <td>1.0</td>\n",
       "      <td>1</td>\n",
       "      <td>40.7388</td>\n",
       "      <td>-74.0018</td>\n",
       "      <td>high</td>\n",
       "      <td>0</td>\n",
       "      <td>0</td>\n",
       "      <td>1</td>\n",
       "      <td>0</td>\n",
       "      <td>0</td>\n",
       "      <td>...</td>\n",
       "      <td>0</td>\n",
       "      <td>0</td>\n",
       "      <td>0</td>\n",
       "      <td>0</td>\n",
       "      <td>0</td>\n",
       "      <td>0</td>\n",
       "      <td>0</td>\n",
       "      <td>0</td>\n",
       "      <td>0</td>\n",
       "      <td>0</td>\n",
       "    </tr>\n",
       "    <tr>\n",
       "      <th>3</th>\n",
       "      <td>1.0</td>\n",
       "      <td>1</td>\n",
       "      <td>40.7539</td>\n",
       "      <td>-73.9677</td>\n",
       "      <td>low</td>\n",
       "      <td>0</td>\n",
       "      <td>0</td>\n",
       "      <td>1</td>\n",
       "      <td>0</td>\n",
       "      <td>0</td>\n",
       "      <td>...</td>\n",
       "      <td>0</td>\n",
       "      <td>0</td>\n",
       "      <td>0</td>\n",
       "      <td>0</td>\n",
       "      <td>0</td>\n",
       "      <td>0</td>\n",
       "      <td>0</td>\n",
       "      <td>0</td>\n",
       "      <td>0</td>\n",
       "      <td>0</td>\n",
       "    </tr>\n",
       "    <tr>\n",
       "      <th>4</th>\n",
       "      <td>1.0</td>\n",
       "      <td>4</td>\n",
       "      <td>40.8241</td>\n",
       "      <td>-73.9493</td>\n",
       "      <td>low</td>\n",
       "      <td>0</td>\n",
       "      <td>0</td>\n",
       "      <td>0</td>\n",
       "      <td>0</td>\n",
       "      <td>0</td>\n",
       "      <td>...</td>\n",
       "      <td>0</td>\n",
       "      <td>0</td>\n",
       "      <td>0</td>\n",
       "      <td>0</td>\n",
       "      <td>0</td>\n",
       "      <td>0</td>\n",
       "      <td>0</td>\n",
       "      <td>0</td>\n",
       "      <td>0</td>\n",
       "      <td>0</td>\n",
       "    </tr>\n",
       "    <tr>\n",
       "      <th>5</th>\n",
       "      <td>2.0</td>\n",
       "      <td>4</td>\n",
       "      <td>40.7429</td>\n",
       "      <td>-74.0028</td>\n",
       "      <td>medium</td>\n",
       "      <td>0</td>\n",
       "      <td>0</td>\n",
       "      <td>0</td>\n",
       "      <td>0</td>\n",
       "      <td>0</td>\n",
       "      <td>...</td>\n",
       "      <td>0</td>\n",
       "      <td>0</td>\n",
       "      <td>0</td>\n",
       "      <td>0</td>\n",
       "      <td>0</td>\n",
       "      <td>0</td>\n",
       "      <td>0</td>\n",
       "      <td>0</td>\n",
       "      <td>0</td>\n",
       "      <td>0</td>\n",
       "    </tr>\n",
       "    <tr>\n",
       "      <th>6</th>\n",
       "      <td>1.0</td>\n",
       "      <td>2</td>\n",
       "      <td>40.8012</td>\n",
       "      <td>-73.9660</td>\n",
       "      <td>low</td>\n",
       "      <td>0</td>\n",
       "      <td>1</td>\n",
       "      <td>0</td>\n",
       "      <td>1</td>\n",
       "      <td>0</td>\n",
       "      <td>...</td>\n",
       "      <td>0</td>\n",
       "      <td>0</td>\n",
       "      <td>0</td>\n",
       "      <td>0</td>\n",
       "      <td>0</td>\n",
       "      <td>0</td>\n",
       "      <td>0</td>\n",
       "      <td>0</td>\n",
       "      <td>0</td>\n",
       "      <td>0</td>\n",
       "    </tr>\n",
       "  </tbody>\n",
       "</table>\n",
       "<p>5 rows × 29 columns</p>\n",
       "</div>"
      ],
      "text/plain": [
       "   bathrooms  bedrooms  latitude  longitude interest_level  elevator  \\\n",
       "2        1.0         1   40.7388   -74.0018           high         0   \n",
       "3        1.0         1   40.7539   -73.9677            low         0   \n",
       "4        1.0         4   40.8241   -73.9493            low         0   \n",
       "5        2.0         4   40.7429   -74.0028         medium         0   \n",
       "6        1.0         2   40.8012   -73.9660            low         0   \n",
       "\n",
       "   cats_allowed  hardwood_floors  dogs_allowed  doorman  ...  \\\n",
       "2             0                1             0        0  ...   \n",
       "3             0                1             0        0  ...   \n",
       "4             0                0             0        0  ...   \n",
       "5             0                0             0        0  ...   \n",
       "6             1                0             1        0  ...   \n",
       "\n",
       "   high_speed_internet  balcony  swimming_pool  new_construction  terrace  \\\n",
       "2                    0        0              0                 0        0   \n",
       "3                    0        0              0                 0        0   \n",
       "4                    0        0              0                 0        0   \n",
       "5                    0        0              0                 0        0   \n",
       "6                    0        0              0                 0        0   \n",
       "\n",
       "   exclusive  loft  garden_patio  wheelchair_access  common_outdoor_space  \n",
       "2          0     0             0                  0                     0  \n",
       "3          0     0             0                  0                     0  \n",
       "4          0     0             0                  0                     0  \n",
       "5          0     0             0                  0                     0  \n",
       "6          0     0             0                  0                     0  \n",
       "\n",
       "[5 rows x 29 columns]"
      ]
     },
     "execution_count": 295,
     "metadata": {},
     "output_type": "execute_result"
    }
   ],
   "source": [
    "X_train.head()"
   ]
  },
  {
   "cell_type": "markdown",
   "metadata": {},
   "source": [
    "Use [OneHotEncoder](https://contrib.scikit-learn.org/category_encoders/onehot.html) from the [category_encoders](https://github.com/scikit-learn-contrib/category_encoders) library to encode any non-numeric features. (In this case, it's just `interest_level`.)\n",
    "\n",
    "- Use the **`fit_transform`** method on the **train** set\n",
    "- Use the **`transform`** method on **validation / test** sets"
   ]
  },
  {
   "cell_type": "code",
   "execution_count": 296,
   "metadata": {
    "scrolled": true
   },
   "outputs": [
    {
     "name": "stderr",
     "output_type": "stream",
     "text": [
      "/Users/shahnam/.pyenv/versions/3.7.8/lib/python3.7/site-packages/category_encoders/utils.py:21: FutureWarning: is_categorical is deprecated and will be removed in a future version.  Use is_categorical_dtype instead\n",
      "  elif pd.api.types.is_categorical(cols):\n"
     ]
    }
   ],
   "source": [
    "import category_encoders as ce\n",
    "encoder = ce.OneHotEncoder(use_cat_names=True)\n",
    "X_train = encoder.fit_transform(X_train)\n",
    "X_test = encoder.transform(X_test)"
   ]
  },
  {
   "cell_type": "markdown",
   "metadata": {},
   "source": [
    "Here's what it looks like **after:**"
   ]
  },
  {
   "cell_type": "code",
   "execution_count": 297,
   "metadata": {
    "scrolled": true
   },
   "outputs": [
    {
     "data": {
      "text/html": [
       "<div>\n",
       "<style scoped>\n",
       "    .dataframe tbody tr th:only-of-type {\n",
       "        vertical-align: middle;\n",
       "    }\n",
       "\n",
       "    .dataframe tbody tr th {\n",
       "        vertical-align: top;\n",
       "    }\n",
       "\n",
       "    .dataframe thead th {\n",
       "        text-align: right;\n",
       "    }\n",
       "</style>\n",
       "<table border=\"1\" class=\"dataframe\">\n",
       "  <thead>\n",
       "    <tr style=\"text-align: right;\">\n",
       "      <th></th>\n",
       "      <th>bathrooms</th>\n",
       "      <th>bedrooms</th>\n",
       "      <th>latitude</th>\n",
       "      <th>longitude</th>\n",
       "      <th>interest_level_high</th>\n",
       "      <th>interest_level_low</th>\n",
       "      <th>interest_level_medium</th>\n",
       "      <th>elevator</th>\n",
       "      <th>cats_allowed</th>\n",
       "      <th>hardwood_floors</th>\n",
       "      <th>...</th>\n",
       "      <th>high_speed_internet</th>\n",
       "      <th>balcony</th>\n",
       "      <th>swimming_pool</th>\n",
       "      <th>new_construction</th>\n",
       "      <th>terrace</th>\n",
       "      <th>exclusive</th>\n",
       "      <th>loft</th>\n",
       "      <th>garden_patio</th>\n",
       "      <th>wheelchair_access</th>\n",
       "      <th>common_outdoor_space</th>\n",
       "    </tr>\n",
       "  </thead>\n",
       "  <tbody>\n",
       "    <tr>\n",
       "      <th>2</th>\n",
       "      <td>1.0</td>\n",
       "      <td>1</td>\n",
       "      <td>40.7388</td>\n",
       "      <td>-74.0018</td>\n",
       "      <td>1</td>\n",
       "      <td>0</td>\n",
       "      <td>0</td>\n",
       "      <td>0</td>\n",
       "      <td>0</td>\n",
       "      <td>1</td>\n",
       "      <td>...</td>\n",
       "      <td>0</td>\n",
       "      <td>0</td>\n",
       "      <td>0</td>\n",
       "      <td>0</td>\n",
       "      <td>0</td>\n",
       "      <td>0</td>\n",
       "      <td>0</td>\n",
       "      <td>0</td>\n",
       "      <td>0</td>\n",
       "      <td>0</td>\n",
       "    </tr>\n",
       "    <tr>\n",
       "      <th>3</th>\n",
       "      <td>1.0</td>\n",
       "      <td>1</td>\n",
       "      <td>40.7539</td>\n",
       "      <td>-73.9677</td>\n",
       "      <td>0</td>\n",
       "      <td>1</td>\n",
       "      <td>0</td>\n",
       "      <td>0</td>\n",
       "      <td>0</td>\n",
       "      <td>1</td>\n",
       "      <td>...</td>\n",
       "      <td>0</td>\n",
       "      <td>0</td>\n",
       "      <td>0</td>\n",
       "      <td>0</td>\n",
       "      <td>0</td>\n",
       "      <td>0</td>\n",
       "      <td>0</td>\n",
       "      <td>0</td>\n",
       "      <td>0</td>\n",
       "      <td>0</td>\n",
       "    </tr>\n",
       "    <tr>\n",
       "      <th>4</th>\n",
       "      <td>1.0</td>\n",
       "      <td>4</td>\n",
       "      <td>40.8241</td>\n",
       "      <td>-73.9493</td>\n",
       "      <td>0</td>\n",
       "      <td>1</td>\n",
       "      <td>0</td>\n",
       "      <td>0</td>\n",
       "      <td>0</td>\n",
       "      <td>0</td>\n",
       "      <td>...</td>\n",
       "      <td>0</td>\n",
       "      <td>0</td>\n",
       "      <td>0</td>\n",
       "      <td>0</td>\n",
       "      <td>0</td>\n",
       "      <td>0</td>\n",
       "      <td>0</td>\n",
       "      <td>0</td>\n",
       "      <td>0</td>\n",
       "      <td>0</td>\n",
       "    </tr>\n",
       "  </tbody>\n",
       "</table>\n",
       "<p>3 rows × 31 columns</p>\n",
       "</div>"
      ],
      "text/plain": [
       "   bathrooms  bedrooms  latitude  longitude  interest_level_high  \\\n",
       "2        1.0         1   40.7388   -74.0018                    1   \n",
       "3        1.0         1   40.7539   -73.9677                    0   \n",
       "4        1.0         4   40.8241   -73.9493                    0   \n",
       "\n",
       "   interest_level_low  interest_level_medium  elevator  cats_allowed  \\\n",
       "2                   0                      0         0             0   \n",
       "3                   1                      0         0             0   \n",
       "4                   1                      0         0             0   \n",
       "\n",
       "   hardwood_floors  ...  high_speed_internet  balcony  swimming_pool  \\\n",
       "2                1  ...                    0        0              0   \n",
       "3                1  ...                    0        0              0   \n",
       "4                0  ...                    0        0              0   \n",
       "\n",
       "   new_construction  terrace  exclusive  loft  garden_patio  \\\n",
       "2                 0        0          0     0             0   \n",
       "3                 0        0          0     0             0   \n",
       "4                 0        0          0     0             0   \n",
       "\n",
       "   wheelchair_access  common_outdoor_space  \n",
       "2                  0                     0  \n",
       "3                  0                     0  \n",
       "4                  0                     0  \n",
       "\n",
       "[3 rows x 31 columns]"
      ]
     },
     "execution_count": 297,
     "metadata": {},
     "output_type": "execute_result"
    }
   ],
   "source": [
    "X_train.head(3)"
   ]
  },
  {
   "cell_type": "markdown",
   "metadata": {},
   "source": [
    "### Feature engineering and univariate feature selection using SelectKBest"
   ]
  },
  {
   "cell_type": "markdown",
   "metadata": {},
   "source": [
    "The previous assignment quoted Wikipedia on [Feature Engineering](https://en.wikipedia.org/wiki/Feature_engineering):\n",
    "\n",
    "> \"Some machine learning projects succeed and some fail. What makes the difference? Easily the most important factor is the features used.\" — Pedro Domingos, [\"A Few Useful Things to Know about Machine Learning\"](https://homes.cs.washington.edu/~pedrod/papers/cacm12.pdf)\n",
    "\n",
    "> \"Coming up with features is difficult, time-consuming, requires expert knowledge. 'Applied machine learning' is basically feature engineering.\" — Andrew Ng, [Machine Learning and AI via Brain simulations](https://forum.stanford.edu/events/2011/2011slides/plenary/2011plenaryNg.pdf) \n",
    "\n",
    "> Feature engineering is the process of using domain knowledge of the data to create features that make machine learning algorithms work. \n",
    "\n",
    "Pedro Domingos says, \"the most important factor is the **features used**.\"\n",
    "\n",
    "This includes not just **Feature Engineering** (making new features, representing features in new ways) but also **Feature Selection** (choosing which features to include and which to exclude).\n",
    "\n",
    "There are _many_ specific tools and techniques for feature selection.\n",
    "\n",
    "- Today we'll try [scikit-learn's `SelectKBest` transformer](https://scikit-learn.org/stable/modules/feature_selection.html#univariate-feature-selection), for \"univariate, forward selection.\"\n",
    "- Later we'll try another technique, [\"permutation importance\"](https://www.kaggle.com/dansbecker/permutation-importance)\n",
    "- If you want to explore even more options, here are some good resources!\n",
    "  - [scikit-learn's User Guide for Feature Selection](https://scikit-learn.org/stable/modules/feature_selection.html)\n",
    "  - [mlxtend](http://rasbt.github.io/mlxtend/) library\n",
    "  - scikit-learn-contrib libraries: [boruta_py](https://github.com/scikit-learn-contrib/boruta_py) & [stability-selection](https://github.com/scikit-learn-contrib/stability-selection)\n",
    "  - [_Feature Engineering and Selection_](http://www.feat.engineering/) by Kuhn & Johnson.\n",
    "\n",
    "\n",
    "My general recommendation is:\n",
    "\n",
    "> Predictive accuracy on test sets is the criterion for how good the model is. — Leo Breiman, [\"Statistical Modeling: The Two Cultures\"](https://projecteuclid.org/download/pdf_1/euclid.ss/1009213726)"
   ]
  },
  {
   "cell_type": "markdown",
   "metadata": {},
   "source": [
    "First, let's engineer a few more features to select from. This is a partial example solution from the previous assignment."
   ]
  },
  {
   "cell_type": "code",
   "execution_count": 298,
   "metadata": {},
   "outputs": [],
   "source": [
    "def engineer_features(X):\n",
    "    \n",
    "    # Avoid SettingWithCopyWarning\n",
    "    X = X.copy()\n",
    "    # How many total perks does each apartment have?\n",
    "    perk_cols = ['elevator', 'cats_allowed', 'hardwood_floors', 'dogs_allowed',\n",
    "                 'doorman', 'dishwasher', 'no_fee', 'laundry_in_building',\n",
    "                 'fitness_center', 'pre-war', 'laundry_in_unit', 'roof_deck',\n",
    "                 'outdoor_space', 'dining_room', 'high_speed_internet', 'balcony',\n",
    "                 'swimming_pool', 'new_construction', 'exclusive', 'terrace', \n",
    "                 'loft', 'garden_patio', 'common_outdoor_space', \n",
    "                 'wheelchair_access']\n",
    "    X['perk_count'] = X[perk_cols].sum(axis=1)\n",
    "\n",
    "    # Are cats or dogs allowed?\n",
    "    X['cats_or_dogs'] = (X['cats_allowed']==1) | (X['dogs_allowed']==1)\n",
    "\n",
    "    # Are cats and dogs allowed?\n",
    "    X['cats_and_dogs'] = (X['cats_allowed']==1) & (X['dogs_allowed']==1)\n",
    "\n",
    "    # Total number of rooms (beds + baths)\n",
    "    X['rooms'] = X['bedrooms'] + X['bathrooms']\n",
    "\n",
    "    return X\n"
   ]
  },
  {
   "cell_type": "code",
   "execution_count": 299,
   "metadata": {},
   "outputs": [],
   "source": [
    "X_train = engineer_features(X_train)\n",
    "X_test = engineer_features(X_test)\n",
    "X_train1 = X_train.copy()\n",
    "X_test1 = X_test.copy()\n",
    "y_train1 = y_train.copy()\n",
    "y_test1 = y_test.copy()"
   ]
  },
  {
   "cell_type": "markdown",
   "metadata": {},
   "source": [
    "### Could we try every possible feature combination?\n",
    "\n",
    "The number of [combinations](https://en.wikipedia.org/wiki/Combination) is shocking!"
   ]
  },
  {
   "cell_type": "code",
   "execution_count": 300,
   "metadata": {},
   "outputs": [
    {
     "data": {
      "text/plain": [
       "35"
      ]
     },
     "execution_count": 300,
     "metadata": {},
     "output_type": "execute_result"
    }
   ],
   "source": [
    "# How many features do we have currently?\n",
    "features = X_train.columns\n",
    "n = len(features)\n",
    "n"
   ]
  },
  {
   "cell_type": "code",
   "execution_count": 301,
   "metadata": {
    "scrolled": true
   },
   "outputs": [
    {
     "name": "stdout",
     "output_type": "stream",
     "text": [
      "34,359,738,367\n"
     ]
    }
   ],
   "source": [
    "# How many ways to choose 1 to n features?\n",
    "from math import factorial\n",
    "\n",
    "# The order doesn't matter\n",
    "def n_choose_k(n, k):\n",
    "    return factorial(n)/(factorial(k)*factorial(n-k))\n",
    "\n",
    "combinations = sum(n_choose_k(n,k) for k in range(1,n+1))\n",
    "print(f'{combinations:,.0f}')"
   ]
  },
  {
   "cell_type": "code",
   "execution_count": 302,
   "metadata": {},
   "outputs": [
    {
     "name": "stdout",
     "output_type": "stream",
     "text": [
      "<class 'generator'>\n"
     ]
    },
    {
     "data": {
      "text/plain": [
       "6"
      ]
     },
     "execution_count": 302,
     "metadata": {},
     "output_type": "execute_result"
    }
   ],
   "source": [
    "print(type(n_choose_k(n,k) for k in range(1,n+1)))\n",
    "sum(range(1,4,1))"
   ]
  },
  {
   "cell_type": "code",
   "execution_count": 303,
   "metadata": {},
   "outputs": [
    {
     "data": {
      "text/plain": [
       "34359738367"
      ]
     },
     "execution_count": 303,
     "metadata": {},
     "output_type": "execute_result"
    }
   ],
   "source": [
    "# Alternatively, each of 35 features can be selected or not minues the case that no feature is selected\n",
    "2**35 - 1"
   ]
  },
  {
   "cell_type": "markdown",
   "metadata": {},
   "source": [
    "We can't try every possible combination, but we can try some. For example, we can use univariate statistical tests to measure the correlation between each feature and the target, and select the k best features."
   ]
  },
  {
   "cell_type": "markdown",
   "metadata": {},
   "source": [
    "### Follow Along"
   ]
  },
  {
   "cell_type": "markdown",
   "metadata": {},
   "source": [
    "Refer to the [Scikit-Learn User Guide on Univariate Feature Selection](https://scikit-learn.org/stable/modules/feature_selection.html#univariate-feature-selection)."
   ]
  },
  {
   "attachments": {
    "30a83cab-d975-4ede-89a9-e7f62904d817.png": {
     "image/png": "[encoded data removed]"
    },
    "bf7c867c-f68f-44a1-ac71-4b5e876760fc.png": {
     "image/png": "[encoded data removed]"
    },
    "eeb6a890-49f0-4fae-91e6-04ad8c8ad5ef.png": {
     "image/png": "[encoded data removed]"
    }
   },
   "cell_type": "markdown",
   "metadata": {},
   "source": [
    "f_regression applies a Univariate linear regression tests. This is done by computing the correlation of each regressor and the target. The result is converted to F-score and pval\n",
    "![image.png](attachment:30a83cab-d975-4ede-89a9-e7f62904d817.png)\n",
    "![image.png](attachment:bf7c867c-f68f-44a1-ac71-4b5e876760fc.png)\n",
    "![image.png](attachment:eeb6a890-49f0-4fae-91e6-04ad8c8ad5ef.png)"
   ]
  },
  {
   "cell_type": "code",
   "execution_count": 304,
   "metadata": {},
   "outputs": [
    {
     "data": {
      "text/plain": [
       "((31844, 15), (16973, 15))"
      ]
     },
     "execution_count": 304,
     "metadata": {},
     "output_type": "execute_result"
    }
   ],
   "source": [
    "from sklearn.feature_selection import f_regression, SelectKBest\n",
    "\n",
    "# Select the 15 features that best correlate with the target\n",
    "# (15 is an abritrary starting point here)\n",
    "\n",
    "# Similar API to what we've seen before\n",
    "selector = SelectKBest(score_func=f_regression, k=15)\n",
    "\n",
    "# IMPORTANT!\n",
    "# .fit_transform on the train set\n",
    "# .transform on test set\n",
    "X_train_selected = selector.fit_transform(X_train, y_train)\n",
    "X_test_selected = selector.transform(X_test)\n",
    "X_train_selected.shape, X_test_selected.shape"
   ]
  },
  {
   "cell_type": "code",
   "execution_count": 305,
   "metadata": {},
   "outputs": [
    {
     "name": "stdout",
     "output_type": "stream",
     "text": [
      "<class 'numpy.ndarray'>\n"
     ]
    },
    {
     "data": {
      "text/plain": [
       "array([[1.0, 1, -74.0018, ..., 0, 3, 2.0],\n",
       "       [1.0, 1, -73.9677, ..., 0, 2, 2.0],\n",
       "       [1.0, 4, -73.9493, ..., 0, 1, 5.0],\n",
       "       ...,\n",
       "       [1.0, 1, -73.99, ..., 0, 5, 2.0],\n",
       "       [1.0, 0, -74.0101, ..., 0, 5, 1.0],\n",
       "       [1.0, 2, -73.9172, ..., 0, 1, 3.0]], dtype=object)"
      ]
     },
     "execution_count": 305,
     "metadata": {},
     "output_type": "execute_result"
    }
   ],
   "source": [
    "print(type(X_train_selected))\n",
    "X_train_selected"
   ]
  },
  {
   "cell_type": "code",
   "execution_count": 306,
   "metadata": {
    "scrolled": true
   },
   "outputs": [
    {
     "name": "stdout",
     "output_type": "stream",
     "text": [
      "[ True  True False  True  True  True False  True False False False  True\n",
      "  True False False  True False  True False  True  True False False False\n",
      " False  True False False False False False  True False False  True]\n",
      "Features selected:\n",
      "bathrooms\n",
      "bedrooms\n",
      "longitude\n",
      "interest_level_high\n",
      "interest_level_low\n",
      "elevator\n",
      "doorman\n",
      "dishwasher\n",
      "fitness_center\n",
      "laundry_in_unit\n",
      "outdoor_space\n",
      "dining_room\n",
      "terrace\n",
      "perk_count\n",
      "rooms\n",
      "\n",
      "\n",
      "Features not selected:\n",
      "latitude\n",
      "interest_level_medium\n",
      "cats_allowed\n",
      "hardwood_floors\n",
      "dogs_allowed\n",
      "no_fee\n",
      "laundry_in_building\n",
      "pre-war\n",
      "roof_deck\n",
      "high_speed_internet\n",
      "balcony\n",
      "swimming_pool\n",
      "new_construction\n",
      "exclusive\n",
      "loft\n",
      "garden_patio\n",
      "wheelchair_access\n",
      "common_outdoor_space\n",
      "cats_or_dogs\n",
      "cats_and_dogs\n"
     ]
    }
   ],
   "source": [
    "# Which features were selected?\n",
    "all_names = X_train.columns\n",
    "\n",
    "# boolean mask of selected features\n",
    "selected_mask = selector.get_support()\n",
    "print(selected_mask)\n",
    "\n",
    "selected_names = all_names[selected_mask]\n",
    "unselected_names = all_names[~selected_mask]\n",
    "\n",
    "print('Features selected:')\n",
    "for name in selected_names:\n",
    "    print(name)\n",
    "\n",
    "print('\\n')\n",
    "print('Features not selected:')\n",
    "for name in unselected_names:\n",
    "    print(name)\n"
   ]
  },
  {
   "cell_type": "markdown",
   "metadata": {},
   "source": [
    "### How many features should be selected in SelectKBest?\n",
    "- You can try a range of values for k, then choose the model with the best score. If multiple models \"tie\" for the best score, choose the simplest model. You decide what counts as a tie!"
   ]
  },
  {
   "cell_type": "code",
   "execution_count": 307,
   "metadata": {
    "scrolled": true
   },
   "outputs": [
    {
     "name": "stdout",
     "output_type": "stream",
     "text": [
      "1 features\n",
      "Test Mean Absolute Error: $890 \n",
      "\n",
      "2 features\n",
      "Test Mean Absolute Error: $826 \n",
      "\n",
      "3 features\n",
      "Test Mean Absolute Error: $826 \n",
      "\n",
      "4 features\n",
      "Test Mean Absolute Error: $800 \n",
      "\n",
      "5 features\n",
      "Test Mean Absolute Error: $800 \n",
      "\n",
      "6 features\n",
      "Test Mean Absolute Error: $773 \n",
      "\n",
      "7 features\n",
      "Test Mean Absolute Error: $713 \n",
      "\n",
      "8 features\n",
      "Test Mean Absolute Error: $713 \n",
      "\n",
      "9 features\n",
      "Test Mean Absolute Error: $713 \n",
      "\n",
      "10 features\n",
      "Test Mean Absolute Error: $713 \n",
      "\n",
      "11 features\n",
      "Test Mean Absolute Error: $711 \n",
      "\n",
      "12 features\n",
      "Test Mean Absolute Error: $684 \n",
      "\n",
      "13 features\n",
      "Test Mean Absolute Error: $684 \n",
      "\n",
      "14 features\n",
      "Test Mean Absolute Error: $682 \n",
      "\n",
      "15 features\n",
      "Test Mean Absolute Error: $682 \n",
      "\n",
      "16 features\n",
      "Test Mean Absolute Error: $683 \n",
      "\n",
      "17 features\n",
      "Test Mean Absolute Error: $683 \n",
      "\n",
      "18 features\n",
      "Test Mean Absolute Error: $683 \n",
      "\n",
      "19 features\n",
      "Test Mean Absolute Error: $683 \n",
      "\n",
      "20 features\n",
      "Test Mean Absolute Error: $681 \n",
      "\n",
      "21 features\n",
      "Test Mean Absolute Error: $679 \n",
      "\n",
      "22 features\n",
      "Test Mean Absolute Error: $678 \n",
      "\n",
      "23 features\n",
      "Test Mean Absolute Error: $676 \n",
      "\n",
      "24 features\n",
      "Test Mean Absolute Error: $676 \n",
      "\n",
      "25 features\n",
      "Test Mean Absolute Error: $675 \n",
      "\n",
      "26 features\n",
      "Test Mean Absolute Error: $675 \n",
      "\n",
      "27 features\n",
      "Test Mean Absolute Error: $675 \n",
      "\n",
      "28 features\n",
      "Test Mean Absolute Error: $675 \n",
      "\n",
      "29 features\n",
      "Test Mean Absolute Error: $675 \n",
      "\n",
      "30 features\n",
      "Test Mean Absolute Error: $676 \n",
      "\n",
      "31 features\n",
      "Test Mean Absolute Error: $676 \n",
      "\n",
      "32 features\n",
      "Test Mean Absolute Error: $676 \n",
      "\n",
      "33 features\n",
      "Test Mean Absolute Error: $676 \n",
      "\n",
      "34 features\n",
      "Test Mean Absolute Error: $676 \n",
      "\n",
      "35 features\n",
      "Test Mean Absolute Error: $676 \n",
      "\n"
     ]
    }
   ],
   "source": [
    "from sklearn.linear_model import LinearRegression\n",
    "from sklearn.metrics import mean_absolute_error\n",
    "\n",
    "for k in range(1, len(X_train.columns)+1):\n",
    "    print(f'{k} features')\n",
    "\n",
    "    selector = SelectKBest(score_func=f_regression, k=k)\n",
    "    X_train_selected = selector.fit_transform(X_train, y_train)\n",
    "    X_test_selected = selector.transform(X_test)\n",
    "\n",
    "    model = LinearRegression()\n",
    "    model.fit(X_train_selected, y_train)\n",
    "\n",
    "    y_pred = model.predict(X_test_selected)\n",
    "    mae = mean_absolute_error(y_test, y_pred)\n",
    "    print(f'Test Mean Absolute Error: ${mae:,.0f} \\n')"
   ]
  },
  {
   "cell_type": "markdown",
   "metadata": {},
   "source": [
    "## Overfitting and Regularization\n",
    "\n",
    "In your assignment, you will do feature selection with SelectKBest.\n",
    "\n",
    "You'll go back to our other New York City real estate dataset. Instead of predicting apartment rents, you'll predict property sales prices. But not just for condos in Tribeca. Instead, you'll predict property sales prices for One Family Dwellings, where the sale price was more than 100 thousand and less than 2 million.\n",
    "\n",
    "If you run the above code cell with your assignment dataset, you will probably get some shocking results like these:\n",
    "\n",
    "```\n",
    "1 features\n",
    "Test MAE: $183,641 \n",
    "\n",
    "2 features\n",
    "Test MAE: $182,569 \n",
    "\n",
    "3 features\n",
    "Test MAE: $182,569 \n",
    "\n",
    "4 features\n",
    "Test MAE: $183,441 \n",
    "\n",
    "5 features\n",
    "Test MAE: $186,532 \n",
    "\n",
    "6 features\n",
    "Test MAE: $176,121 \n",
    "\n",
    "7 features\n",
    "Test MAE: $177,001 \n",
    "\n",
    "8 features\n",
    "Test MAE: $176,707 \n",
    "\n",
    "9 features\n",
    "Test MAE: $170,969 \n",
    "\n",
    "10 features\n",
    "Test MAE: $170,977 \n",
    "\n",
    "11 features\n",
    "Test MAE: $170,507 \n",
    "\n",
    "12 features\n",
    "Test MAE: $162,301 \n",
    "\n",
    "13 features\n",
    "Test MAE: $163,559 \n",
    "\n",
    "14 features\n",
    "Test MAE: $162,562 \n",
    "\n",
    "15 features\n",
    "Test MAE: $162,550 \n",
    "\n",
    "16 features\n",
    "Test MAE: $162,678 \n",
    "\n",
    "17 features\n",
    "Test MAE: $162,419 \n",
    "\n",
    "18 features\n",
    "Test MAE: $162,177 \n",
    "\n",
    "19 features\n",
    "Test MAE: $162,177 \n",
    "\n",
    "20 features\n",
    "Test MAE: $157,893 \n",
    "\n",
    "21 features\n",
    "Test MAE: $157,966 \n",
    "\n",
    "22 features\n",
    "Test MAE: $157,966 \n",
    "\n",
    "23 features\n",
    "Test MAE: $157,966 \n",
    "\n",
    "24 features\n",
    "Test MAE: $157,630 \n",
    "\n",
    "25 features\n",
    "Test MAE: $157,580 \n",
    "\n",
    "26 features\n",
    "Test MAE: $25,968,990,575,776,280 \n",
    "\n",
    "27 features\n",
    "Test MAE: $157,550 \n",
    "\n",
    "28 features\n",
    "Test MAE: $87,300,193,986,380,608 \n",
    "\n",
    "29 features\n",
    "Test MAE: $158,491 \n",
    "\n",
    "30 features\n",
    "Test MAE: $17,529,140,644,990,770 \n",
    "\n",
    "31 features\n",
    "Test MAE: $24,191,458,933,688,856 \n",
    "\n",
    "32 features\n",
    "Test MAE: $15,214,122,471,992,104 \n",
    "\n",
    "33 features\n",
    "Test MAE: $15,539,731,847,001,626 \n",
    "\n",
    "34 features\n",
    "Test MAE: $26,823,915,969,200,480 \n",
    "\n",
    "35 features\n",
    "Test MAE: $3,813,290,272,870,121 \n",
    "\n",
    "36 features\n",
    "Test MAE: $157,900 \n",
    "\n",
    "37 features\n",
    "Test MAE: $157,900 \n",
    "\n",
    "38 features\n",
    "Test MAE: $158,911 \n",
    "\n",
    "39 features\n",
    "Test MAE: $9,101,846,282,581,472 \n",
    "\n",
    "40 features\n",
    "Test MAE: $1,424,168,120,777,820 \n",
    "\n",
    "41 features\n",
    "Test MAE: $158,261 \n",
    "\n",
    "42 features\n",
    "Test MAE: $158,261 \n",
    "\n",
    "43 features\n",
    "Test MAE: $4,784,333,158,313,152 \n",
    "\n",
    "44 features\n",
    "Test MAE: $1,329,759,264,341,476 \n",
    "\n",
    "45 features\n",
    "Test MAE: $158,451 \n",
    "\n",
    "46 features\n",
    "Test MAE: $158,450 \n",
    "\n",
    "47 features\n",
    "Test MAE: $158,450 \n",
    "\n",
    "48 features\n",
    "Test MAE: $1,331,383,815,682,658 \n",
    "\n",
    "49 features\n",
    "Test MAE: $1,504,319,420,789,134 \n",
    "\n",
    "50 features\n",
    "Test MAE: $2,285,927,437,866,492\n",
    "```"
   ]
  },
  {
   "cell_type": "markdown",
   "metadata": {},
   "source": [
    "Why did the error blow up with 26 features? We can look at the coefficients of the selected features:\n",
    "\n",
    "```\n",
    "BLOCK                                                  -97,035\n",
    "ZIP_CODE                                              -152,985\n",
    "COMMERCIAL_UNITS                    -4,115,324,664,197,034,496\n",
    "TOTAL_UNITS                         -2,872,516,607,892,124,160\n",
    "GROSS_SQUARE_FEET                                      123,739\n",
    "BOROUGH_3                                              146,876\n",
    "BOROUGH_4                                              197,262\n",
    "BOROUGH_2                                              -55,917\n",
    "BOROUGH_5                                              -84,107\n",
    "NEIGHBORHOOD_OTHER                                      56,036\n",
    "NEIGHBORHOOD_FLUSHING-NORTH                             63,394\n",
    "NEIGHBORHOOD_FOREST HILLS                               46,411\n",
    "NEIGHBORHOOD_BOROUGH PARK                               29,915\n",
    "TAX_CLASS_AT_PRESENT_1D               -545,831,543,721,722,112\n",
    "BUILDING_CLASS_AT_PRESENT_A5                            -1,673\n",
    "BUILDING_CLASS_AT_PRESENT_A3             5,516,361,218,128,626\n",
    "BUILDING_CLASS_AT_PRESENT_S1         1,735,885,668,110,473,216\n",
    "BUILDING_CLASS_AT_PRESENT_A6           -25,974,113,243,185,788\n",
    "BUILDING_CLASS_AT_PRESENT_A8          -760,608,646,332,801,664\n",
    "BUILDING_CLASS_AT_PRESENT_S0           941,854,072,479,442,176\n",
    "BUILDING_CLASS_AT_TIME_OF_SALE_A5                      -24,599\n",
    "BUILDING_CLASS_AT_TIME_OF_SALE_A3       -5,516,361,218,111,506\n",
    "BUILDING_CLASS_AT_TIME_OF_SALE_S1    4,253,055,231,847,939,072\n",
    "BUILDING_CLASS_AT_TIME_OF_SALE_A6       25,974,113,243,176,404\n",
    "BUILDING_CLASS_AT_TIME_OF_SALE_A8     -541,733,439,448,260,800\n",
    "BUILDING_CLASS_AT_TIME_OF_SALE_S0      990,851,394,820,416,512\n",
    "```\n",
    "\n",
    "These were the coefficients that minimized the sum of squared errors in the training set. But this model has become too complex, with extreme coefficients that can lead to extreme predictions on new unseen data. \n",
    "\n",
    "**This linear model needs _regularization._ Ridge Regression to the rescue!**"
   ]
  },
  {
   "cell_type": "markdown",
   "metadata": {},
   "source": [
    "### Apply Ridge Regression to regularize New York City dataset"
   ]
  },
  {
   "cell_type": "markdown",
   "metadata": {},
   "source": [
    "Let's go back to our other New York City dataset, to demonstrate regularization with Ridge Regresson:"
   ]
  },
  {
   "cell_type": "code",
   "execution_count": 308,
   "metadata": {},
   "outputs": [
    {
     "data": {
      "text/html": [
       "Ridge Regression, with alpha=10"
      ],
      "text/plain": [
       "<IPython.core.display.HTML object>"
      ]
     },
     "metadata": {},
     "output_type": "display_data"
    },
    {
     "data": {
      "text/html": [
       "Train Mean Absolute Error: $673"
      ],
      "text/plain": [
       "<IPython.core.display.HTML object>"
      ]
     },
     "metadata": {},
     "output_type": "display_data"
    },
    {
     "data": {
      "text/html": [
       "Test Mean Absolute Error: $676"
      ],
      "text/plain": [
       "<IPython.core.display.HTML object>"
      ]
     },
     "metadata": {},
     "output_type": "display_data"
    },
    {
     "data": {
      "image/png": "[encoded data removed]",
      "text/plain": [
       "<Figure size 1152x576 with 1 Axes>"
      ]
     },
     "metadata": {
      "needs_background": "light"
     },
     "output_type": "display_data"
    },
    {
     "data": {
      "text/html": [
       "Ridge Regression, with alpha=100"
      ],
      "text/plain": [
       "<IPython.core.display.HTML object>"
      ]
     },
     "metadata": {},
     "output_type": "display_data"
    },
    {
     "data": {
      "text/html": [
       "Train Mean Absolute Error: $673"
      ],
      "text/plain": [
       "<IPython.core.display.HTML object>"
      ]
     },
     "metadata": {},
     "output_type": "display_data"
    },
    {
     "data": {
      "text/html": [
       "Test Mean Absolute Error: $676"
      ],
      "text/plain": [
       "<IPython.core.display.HTML object>"
      ]
     },
     "metadata": {},
     "output_type": "display_data"
    },
    {
     "data": {
      "image/png": "[encoded data removed]",
      "text/plain": [
       "<Figure size 1152x576 with 1 Axes>"
      ]
     },
     "metadata": {
      "needs_background": "light"
     },
     "output_type": "display_data"
    },
    {
     "data": {
      "text/html": [
       "Ridge Regression, with alpha=1000"
      ],
      "text/plain": [
       "<IPython.core.display.HTML object>"
      ]
     },
     "metadata": {},
     "output_type": "display_data"
    },
    {
     "data": {
      "text/html": [
       "Train Mean Absolute Error: $671"
      ],
      "text/plain": [
       "<IPython.core.display.HTML object>"
      ]
     },
     "metadata": {},
     "output_type": "display_data"
    },
    {
     "data": {
      "text/html": [
       "Test Mean Absolute Error: $674"
      ],
      "text/plain": [
       "<IPython.core.display.HTML object>"
      ]
     },
     "metadata": {},
     "output_type": "display_data"
    },
    {
     "data": {
      "image/png": "[encoded data removed]",
      "text/plain": [
       "<Figure size 1152x576 with 1 Axes>"
      ]
     },
     "metadata": {
      "needs_background": "light"
     },
     "output_type": "display_data"
    },
    {
     "data": {
      "text/html": [
       "Ridge Regression, with alpha=10000"
      ],
      "text/plain": [
       "<IPython.core.display.HTML object>"
      ]
     },
     "metadata": {},
     "output_type": "display_data"
    },
    {
     "data": {
      "text/html": [
       "Train Mean Absolute Error: $670"
      ],
      "text/plain": [
       "<IPython.core.display.HTML object>"
      ]
     },
     "metadata": {},
     "output_type": "display_data"
    },
    {
     "data": {
      "text/html": [
       "Test Mean Absolute Error: $674"
      ],
      "text/plain": [
       "<IPython.core.display.HTML object>"
      ]
     },
     "metadata": {},
     "output_type": "display_data"
    },
    {
     "data": {
      "image/png": "[encoded data removed]",
      "text/plain": [
       "<Figure size 1152x576 with 1 Axes>"
      ]
     },
     "metadata": {
      "needs_background": "light"
     },
     "output_type": "display_data"
    },
    {
     "data": {
      "text/html": [
       "Ridge Regression, with alpha=100000"
      ],
      "text/plain": [
       "<IPython.core.display.HTML object>"
      ]
     },
     "metadata": {},
     "output_type": "display_data"
    },
    {
     "data": {
      "text/html": [
       "Train Mean Absolute Error: $852"
      ],
      "text/plain": [
       "<IPython.core.display.HTML object>"
      ]
     },
     "metadata": {},
     "output_type": "display_data"
    },
    {
     "data": {
      "text/html": [
       "Test Mean Absolute Error: $853"
      ],
      "text/plain": [
       "<IPython.core.display.HTML object>"
      ]
     },
     "metadata": {},
     "output_type": "display_data"
    },
    {
     "data": {
      "image/png": "[encoded data removed]",
      "text/plain": [
       "<Figure size 1152x576 with 1 Axes>"
      ]
     },
     "metadata": {
      "needs_background": "light"
     },
     "output_type": "display_data"
    },
    {
     "data": {
      "text/html": [
       "Ridge Regression, with alpha=1000000"
      ],
      "text/plain": [
       "<IPython.core.display.HTML object>"
      ]
     },
     "metadata": {},
     "output_type": "display_data"
    },
    {
     "data": {
      "text/html": [
       "Train Mean Absolute Error: $1,128"
      ],
      "text/plain": [
       "<IPython.core.display.HTML object>"
      ]
     },
     "metadata": {},
     "output_type": "display_data"
    },
    {
     "data": {
      "text/html": [
       "Test Mean Absolute Error: $1,125"
      ],
      "text/plain": [
       "<IPython.core.display.HTML object>"
      ]
     },
     "metadata": {},
     "output_type": "display_data"
    },
    {
     "data": {
      "image/png": "[encoded data removed]",
      "text/plain": [
       "<Figure size 1152x576 with 1 Axes>"
      ]
     },
     "metadata": {
      "needs_background": "light"
     },
     "output_type": "display_data"
    }
   ],
   "source": [
    "%matplotlib inline\n",
    "from IPython.display import display, HTML\n",
    "from ipywidgets import interact\n",
    "import matplotlib.pyplot as plt\n",
    "from sklearn.linear_model import Ridge\n",
    "from sklearn.preprocessing import StandardScaler\n",
    "\n",
    "\n",
    "# Try a range of alpha parameters for Ridge Regression.\n",
    "\n",
    "# The scikit-learn docs explain, \n",
    "# alpha : Regularization strength; must be a positive float. Regularization \n",
    "# improves the conditioning of the problem and reduces the variance of the \n",
    "# estimates. Larger values specify stronger regularization.\n",
    "# https://scikit-learn.org/stable/modules/generated/sklearn.linear_model.Ridge.html\n",
    "\n",
    "for alpha in [10**1, 10**2, 10**3, 10**4, 10**5, 10**6]:\n",
    "    \n",
    "    # Scale data before doing Ridge Regression\n",
    "    scaler = StandardScaler()\n",
    "    X_train_scaled = scaler.fit_transform(X_train)\n",
    "    X_test_scaled = scaler.transform(X_test)\n",
    "    \n",
    "    # Fit Ridge Regression model\n",
    "    display(HTML(f'Ridge Regression, with alpha={alpha}'))\n",
    "    model = Ridge(alpha=alpha)\n",
    "    model.fit(X_train_scaled, y_train)\n",
    "\n",
    "    # Get Train MAE\n",
    "    y_pred = model.predict(X_train_scaled)\n",
    "    mae = mean_absolute_error(y_train, y_pred)\n",
    "    display(HTML(f'Train Mean Absolute Error: ${mae:,.0f}'))\n",
    "\n",
    "    # Get Test MAE\n",
    "    y_pred = model.predict(X_test_scaled)\n",
    "    mae = mean_absolute_error(y_test, y_pred)\n",
    "    display(HTML(f'Test Mean Absolute Error: ${mae:,.0f}'))\n",
    "    \n",
    "    # Plot coefficients\n",
    "    coefficients = pd.Series(data=model.coef_, index=X_train.columns)\n",
    "    plt.figure(figsize=(16,8))\n",
    "    coefficients.sort_values().plot.barh(color='grey')\n",
    "    plt.xlim(-500,500)\n",
    "    plt.show()"
   ]
  },
  {
   "cell_type": "markdown",
   "metadata": {},
   "source": [
    "### Select the value of alpha fro regularization"
   ]
  },
  {
   "cell_type": "markdown",
   "metadata": {},
   "source": [
    "How to tune alpha? We can loop over alpha values or use RidgeCV to find the best alpha with k-fold cross validation method.\n",
    "In looping over alpha we look at the MSE of test data."
   ]
  },
  {
   "cell_type": "code",
   "execution_count": 309,
   "metadata": {},
   "outputs": [],
   "source": [
    "alphas = []\n",
    "mses = []\n",
    "\n",
    "for alpha in np.arange(0.1, 70, 1):\n",
    "    ridge_reg_split = Ridge(alpha=alpha).fit(X_train_scaled, y_train)\n",
    "    mse = mean_squared_error(y_test, ridge_reg_split.predict(X_test_scaled))\n",
    "    alphas.append(alpha)\n",
    "    mses.append(mse)"
   ]
  },
  {
   "cell_type": "code",
   "execution_count": 310,
   "metadata": {},
   "outputs": [
    {
     "data": {
      "image/png": "[encoded data removed]",
      "text/plain": [
       "<Figure size 432x288 with 1 Axes>"
      ]
     },
     "metadata": {
      "needs_background": "light"
     },
     "output_type": "display_data"
    }
   ],
   "source": [
    "%matplotlib inline\n",
    "import matplotlib.pyplot as plt\n",
    "plt.scatter(alphas, mses);"
   ]
  },
  {
   "cell_type": "markdown",
   "metadata": {},
   "source": [
    " Using cross validation method"
   ]
  },
  {
   "cell_type": "code",
   "execution_count": 332,
   "metadata": {},
   "outputs": [
    {
     "data": {
      "text/plain": [
       "['accuracy',\n",
       " 'adjusted_mutual_info_score',\n",
       " 'adjusted_rand_score',\n",
       " 'average_precision',\n",
       " 'balanced_accuracy',\n",
       " 'completeness_score',\n",
       " 'explained_variance',\n",
       " 'f1',\n",
       " 'f1_macro',\n",
       " 'f1_micro',\n",
       " 'f1_samples',\n",
       " 'f1_weighted',\n",
       " 'fowlkes_mallows_score',\n",
       " 'homogeneity_score',\n",
       " 'jaccard',\n",
       " 'jaccard_macro',\n",
       " 'jaccard_micro',\n",
       " 'jaccard_samples',\n",
       " 'jaccard_weighted',\n",
       " 'max_error',\n",
       " 'mutual_info_score',\n",
       " 'neg_brier_score',\n",
       " 'neg_log_loss',\n",
       " 'neg_mean_absolute_error',\n",
       " 'neg_mean_gamma_deviance',\n",
       " 'neg_mean_poisson_deviance',\n",
       " 'neg_mean_squared_error',\n",
       " 'neg_mean_squared_log_error',\n",
       " 'neg_median_absolute_error',\n",
       " 'neg_root_mean_squared_error',\n",
       " 'normalized_mutual_info_score',\n",
       " 'precision',\n",
       " 'precision_macro',\n",
       " 'precision_micro',\n",
       " 'precision_samples',\n",
       " 'precision_weighted',\n",
       " 'r2',\n",
       " 'recall',\n",
       " 'recall_macro',\n",
       " 'recall_micro',\n",
       " 'recall_samples',\n",
       " 'recall_weighted',\n",
       " 'roc_auc',\n",
       " 'roc_auc_ovo',\n",
       " 'roc_auc_ovo_weighted',\n",
       " 'roc_auc_ovr',\n",
       " 'roc_auc_ovr_weighted',\n",
       " 'v_measure_score']"
      ]
     },
     "execution_count": 332,
     "metadata": {},
     "output_type": "execute_result"
    }
   ],
   "source": [
    "from sklearn import metrics\n",
    "sorted(metrics.SCORERS.keys())"
   ]
  },
  {
   "cell_type": "code",
   "execution_count": 335,
   "metadata": {},
   "outputs": [
    {
     "data": {
      "text/plain": [
       "178.1"
      ]
     },
     "execution_count": 335,
     "metadata": {},
     "output_type": "execute_result"
    }
   ],
   "source": [
    "alphas = [a for a in np.arange(0.1, 200, 1)]\n",
    "ridge = RidgeCV(alphas=alphas, cv=20, scoring= 'neg_mean_squared_error')\n",
    "ridge.fit(np.vstack((X_train_scaled,X_test_scaled)), np.concatenate((y_train, y_test)))\n",
    "\n",
    "# .alpha_ is Estimated regularization parameter.\n",
    "ridge.alpha_"
   ]
  },
  {
   "cell_type": "markdown",
   "metadata": {},
   "source": [
    "## Challenge\n",
    "\n",
    "In your assignment, you will fit a Ridge Regression model. You can try Linear Regression too — depending on how many features you select, your errors will probably blow up!"
   ]
  },
  {
   "cell_type": "markdown",
   "metadata": {},
   "source": [
    "# Review\n",
    "\n",
    "For your assignment, we're going back to our other **New York City** real estate dataset. Instead of predicting apartment rents, you'll predict property sales prices.\n",
    "\n",
    "But not just for condos in Tribeca...\n",
    "\n",
    "Instead, predict property sales prices for **One Family Dwellings** (`BUILDING_CLASS_CATEGORY` == `'01 ONE FAMILY DWELLINGS'`). \n",
    "\n",
    "Use a subset of the data where the **sale price was more than \\\\$100 thousand and less than $2 million.** \n",
    "\n",
    "You'll practice all of the module's objectives to build your best model yet!"
   ]
  },
  {
   "cell_type": "markdown",
   "metadata": {},
   "source": [
    "# Sources\n",
    "\n",
    "Resources:\n",
    "- https://www.quora.com/What-is-regularization-in-machine-learning\n",
    "- https://blogs.sas.com/content/subconsciousmusings/2017/07/06/how-to-use-regularization-to-prevent-model-overfitting/\n",
    "- https://machinelearningmastery.com/introduction-to-regularization-to-reduce-overfitting-and-improve-generalization-error/\n",
    "- https://towardsdatascience.com/ridge-and-lasso-regression-a-complete-guide-with-python-scikit-learn-e20e34bcbf0b\n",
    "- https://stats.stackexchange.com/questions/111017/question-about-standardizing-in-ridge-regression#111022"
   ]
  },
  {
   "cell_type": "code",
   "execution_count": null,
   "metadata": {},
   "outputs": [],
   "source": []
  }
 ],
 "metadata": {
  "jupytext": {
   "main_language": "python"
  },
  "kernelspec": {
   "display_name": "Python 3",
   "language": "python",
   "name": "python3"
  },
  "language_info": {
   "codemirror_mode": {
    "name": "ipython",
    "version": 3
   },
   "file_extension": ".py",
   "mimetype": "text/x-python",
   "name": "python",
   "nbconvert_exporter": "python",
   "pygments_lexer": "ipython3",
   "version": "3.7.8"
  }
 },
 "nbformat": 4,
 "nbformat_minor": 4
}
