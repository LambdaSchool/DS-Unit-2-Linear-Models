{
 "cells": [
  {
   "cell_type": "markdown",
   "metadata": {
    "colab_type": "text",
    "id": "7IXUfiQ2UKj6"
   },
   "source": [
    "Lambda School Data Science, Unit 2: Predictive Modeling\n",
    "\n",
    "# Regression & Classification, Module 3\n",
    "\n",
    "## Stretch Goals\n",
    "- [ ] Add your own stretch goal(s) !\n",
    "- [ ] Do [feature scaling](https://scikit-learn.org/stable/modules/preprocessing.html).\n",
    "- [ ] Learn more about feature selection:\n",
    "    - [\"Permutation importance\"](https://www.kaggle.com/dansbecker/permutation-importance)\n",
    "    - [scikit-learn's User Guide for Feature Selection](https://scikit-learn.org/stable/modules/feature_selection.html)\n",
    "    - [mlxtend](http://rasbt.github.io/mlxtend/) library\n",
    "    - scikit-learn-contrib libraries: [boruta_py](https://github.com/scikit-learn-contrib/boruta_py) & [stability-selection](https://github.com/scikit-learn-contrib/stability-selection)\n",
    "    - [_Feature Engineering and Selection_](http://www.feat.engineering/) by Kuhn & Johnson.\n",
    "- [ ] Try [statsmodels](https://www.statsmodels.org/stable/index.html) if you’re interested in more inferential statistical approach to linear regression and feature selection, looking at p values and 95% confidence intervals for the coefficients.\n",
    "- [ ] Read [_An Introduction to Statistical Learning_](http://faculty.marshall.usc.edu/gareth-james/ISL/ISLR%20Seventh%20Printing.pdf), Chapters 1-3, for more math & theory, but in an accessible, readable way (without an excessive amount of formulas or academic pre-requisites).\n",
    "(That book is good regardless of whether your cultural worldview is inferential statistics or predictive machine learning)\n",
    "- [ ] Read Leo Breiman's paper, [\"Statistical Modeling: The Two Cultures\"](https://projecteuclid.org/download/pdf_1/euclid.ss/1009213726)\n",
    "- [ ] Try [scikit-learn pipelines](https://scikit-learn.org/stable/modules/compose.html):\n",
    "\n",
    "> Pipeline can be used to chain multiple estimators into one. This is useful as there is often a fixed sequence of steps in processing the data, for example feature selection, normalization and classification. Pipeline serves multiple purposes here:\n",
    "\n",
    "> - **Convenience and encapsulation.** You only have to call fit and predict once on your data to fit a whole sequence of estimators.\n",
    "> - **Joint parameter selection.** You can grid search over parameters of all estimators in the pipeline at once.\n",
    "> - **Safety.** Pipelines help avoid leaking statistics from your test data into the trained model in cross-validation, by ensuring that the same samples are used to train the transformers and predictors."
   ]
  },
  {
   "cell_type": "code",
   "execution_count": 85,
   "metadata": {
    "colab": {},
    "colab_type": "code",
    "id": "o9eSnDYhUGD7"
   },
   "outputs": [],
   "source": [
    "# If you're in Colab...\n",
    "import os, sys\n",
    "in_colab = 'google.colab' in sys.modules\n",
    "\n",
    "if in_colab:\n",
    "    # Install required python packages:\n",
    "    # category_encoders, version >= 2.0\n",
    "    # pandas-profiling, version >= 2.0\n",
    "    # plotly, version >= 4.0\n",
    "    !pip install --upgrade category_encoders pandas-profiling plotly\n",
    "    \n",
    "    # Pull files from Github repo\n",
    "    os.chdir('/content')\n",
    "    !git init .\n",
    "    !git remote add origin https://github.com/LambdaSchool/DS-Unit-2-Regression-Classification.git\n",
    "    !git pull origin master\n",
    "    \n",
    "    # Change into directory for module\n",
    "    os.chdir('module3')"
   ]
  },
  {
   "cell_type": "code",
   "execution_count": 86,
   "metadata": {
    "colab": {},
    "colab_type": "code",
    "id": "ipBYS77PUwNR"
   },
   "outputs": [],
   "source": [
    "# Ignore this Numpy warning when using Plotly Express:\n",
    "# FutureWarning: Method .ptp is deprecated and will be removed in a future version. Use numpy.ptp instead.\n",
    "import warnings\n",
    "warnings.filterwarnings(action='ignore', category=FutureWarning, module='numpy')"
   ]
  },
  {
   "cell_type": "code",
   "execution_count": 127,
   "metadata": {
    "colab": {},
    "colab_type": "code",
    "id": "QJBD4ruICm1m"
   },
   "outputs": [],
   "source": [
    "import pandas as pd\n",
    "import pandas_profiling\n",
    "\n",
    "# Read New York City property sales data\n",
    "df = pd.read_csv('../data/NYC_Citywide_Rolling_Calendar_Sales.csv')\n",
    "\n",
    "# Change column names: replace spaces with underscores\n",
    "df.columns = [col.replace(' ', '_') for col in df]\n",
    "\n",
    "# SALE_PRICE was read as strings.\n",
    "# Remove symbols, convert to integer\n",
    "df['SALE_PRICE'] = (\n",
    "    df['SALE_PRICE']\n",
    "    .str.replace('$','')\n",
    "    .str.replace('-','')\n",
    "    .str.replace(',','')\n",
    "    .astype(int)\n",
    ")"
   ]
  },
  {
   "cell_type": "code",
   "execution_count": 128,
   "metadata": {},
   "outputs": [
    {
     "data": {
      "text/html": [
       "<div>\n",
       "<style scoped>\n",
       "    .dataframe tbody tr th:only-of-type {\n",
       "        vertical-align: middle;\n",
       "    }\n",
       "\n",
       "    .dataframe tbody tr th {\n",
       "        vertical-align: top;\n",
       "    }\n",
       "\n",
       "    .dataframe thead th {\n",
       "        text-align: right;\n",
       "    }\n",
       "</style>\n",
       "<table border=\"1\" class=\"dataframe\">\n",
       "  <thead>\n",
       "    <tr style=\"text-align: right;\">\n",
       "      <th></th>\n",
       "      <th>BOROUGH</th>\n",
       "      <th>NEIGHBORHOOD</th>\n",
       "      <th>BUILDING_CLASS_CATEGORY</th>\n",
       "      <th>TAX_CLASS_AT_PRESENT</th>\n",
       "      <th>BLOCK</th>\n",
       "      <th>LOT</th>\n",
       "      <th>EASE-MENT</th>\n",
       "      <th>BUILDING_CLASS_AT_PRESENT</th>\n",
       "      <th>ADDRESS</th>\n",
       "      <th>APARTMENT_NUMBER</th>\n",
       "      <th>...</th>\n",
       "      <th>RESIDENTIAL_UNITS</th>\n",
       "      <th>COMMERCIAL_UNITS</th>\n",
       "      <th>TOTAL_UNITS</th>\n",
       "      <th>LAND_SQUARE_FEET</th>\n",
       "      <th>GROSS_SQUARE_FEET</th>\n",
       "      <th>YEAR_BUILT</th>\n",
       "      <th>TAX_CLASS_AT_TIME_OF_SALE</th>\n",
       "      <th>BUILDING_CLASS_AT_TIME_OF_SALE</th>\n",
       "      <th>SALE_PRICE</th>\n",
       "      <th>SALE_DATE</th>\n",
       "    </tr>\n",
       "  </thead>\n",
       "  <tbody>\n",
       "    <tr>\n",
       "      <th>0</th>\n",
       "      <td>1</td>\n",
       "      <td>CHELSEA</td>\n",
       "      <td>13 CONDOS - ELEVATOR APARTMENTS</td>\n",
       "      <td>2</td>\n",
       "      <td>716</td>\n",
       "      <td>1246</td>\n",
       "      <td>NaN</td>\n",
       "      <td>R4</td>\n",
       "      <td>447 WEST 18TH STREET, PH12A</td>\n",
       "      <td>PH12A</td>\n",
       "      <td>...</td>\n",
       "      <td>1.0</td>\n",
       "      <td>0.0</td>\n",
       "      <td>1.0</td>\n",
       "      <td>10,733</td>\n",
       "      <td>1979.0</td>\n",
       "      <td>2007.0</td>\n",
       "      <td>2</td>\n",
       "      <td>R4</td>\n",
       "      <td>0</td>\n",
       "      <td>01/01/2019</td>\n",
       "    </tr>\n",
       "    <tr>\n",
       "      <th>1</th>\n",
       "      <td>1</td>\n",
       "      <td>FASHION</td>\n",
       "      <td>21 OFFICE BUILDINGS</td>\n",
       "      <td>4</td>\n",
       "      <td>812</td>\n",
       "      <td>68</td>\n",
       "      <td>NaN</td>\n",
       "      <td>O5</td>\n",
       "      <td>144 WEST 37TH STREET</td>\n",
       "      <td>NaN</td>\n",
       "      <td>...</td>\n",
       "      <td>0.0</td>\n",
       "      <td>6.0</td>\n",
       "      <td>6.0</td>\n",
       "      <td>2,962</td>\n",
       "      <td>15435.0</td>\n",
       "      <td>1920.0</td>\n",
       "      <td>4</td>\n",
       "      <td>O5</td>\n",
       "      <td>0</td>\n",
       "      <td>01/01/2019</td>\n",
       "    </tr>\n",
       "    <tr>\n",
       "      <th>2</th>\n",
       "      <td>1</td>\n",
       "      <td>FASHION</td>\n",
       "      <td>21 OFFICE BUILDINGS</td>\n",
       "      <td>4</td>\n",
       "      <td>839</td>\n",
       "      <td>69</td>\n",
       "      <td>NaN</td>\n",
       "      <td>O5</td>\n",
       "      <td>40 WEST 38TH STREET</td>\n",
       "      <td>NaN</td>\n",
       "      <td>...</td>\n",
       "      <td>0.0</td>\n",
       "      <td>7.0</td>\n",
       "      <td>7.0</td>\n",
       "      <td>2,074</td>\n",
       "      <td>11332.0</td>\n",
       "      <td>1930.0</td>\n",
       "      <td>4</td>\n",
       "      <td>O5</td>\n",
       "      <td>0</td>\n",
       "      <td>01/01/2019</td>\n",
       "    </tr>\n",
       "    <tr>\n",
       "      <th>3</th>\n",
       "      <td>1</td>\n",
       "      <td>GREENWICH VILLAGE-WEST</td>\n",
       "      <td>13 CONDOS - ELEVATOR APARTMENTS</td>\n",
       "      <td>2</td>\n",
       "      <td>592</td>\n",
       "      <td>1041</td>\n",
       "      <td>NaN</td>\n",
       "      <td>R4</td>\n",
       "      <td>1 SHERIDAN SQUARE, 8C</td>\n",
       "      <td>8C</td>\n",
       "      <td>...</td>\n",
       "      <td>1.0</td>\n",
       "      <td>0.0</td>\n",
       "      <td>1.0</td>\n",
       "      <td>0</td>\n",
       "      <td>500.0</td>\n",
       "      <td>0.0</td>\n",
       "      <td>2</td>\n",
       "      <td>R4</td>\n",
       "      <td>0</td>\n",
       "      <td>01/01/2019</td>\n",
       "    </tr>\n",
       "    <tr>\n",
       "      <th>4</th>\n",
       "      <td>1</td>\n",
       "      <td>UPPER EAST SIDE (59-79)</td>\n",
       "      <td>15 CONDOS - 2-10 UNIT RESIDENTIAL</td>\n",
       "      <td>2C</td>\n",
       "      <td>1379</td>\n",
       "      <td>1402</td>\n",
       "      <td>NaN</td>\n",
       "      <td>R1</td>\n",
       "      <td>20 EAST 65TH STREET, B</td>\n",
       "      <td>B</td>\n",
       "      <td>...</td>\n",
       "      <td>1.0</td>\n",
       "      <td>0.0</td>\n",
       "      <td>1.0</td>\n",
       "      <td>0</td>\n",
       "      <td>6406.0</td>\n",
       "      <td>0.0</td>\n",
       "      <td>2</td>\n",
       "      <td>R1</td>\n",
       "      <td>0</td>\n",
       "      <td>01/01/2019</td>\n",
       "    </tr>\n",
       "  </tbody>\n",
       "</table>\n",
       "<p>5 rows × 21 columns</p>\n",
       "</div>"
      ],
      "text/plain": [
       "   BOROUGH             NEIGHBORHOOD            BUILDING_CLASS_CATEGORY  \\\n",
       "0        1                  CHELSEA    13 CONDOS - ELEVATOR APARTMENTS   \n",
       "1        1                  FASHION                21 OFFICE BUILDINGS   \n",
       "2        1                  FASHION                21 OFFICE BUILDINGS   \n",
       "3        1   GREENWICH VILLAGE-WEST    13 CONDOS - ELEVATOR APARTMENTS   \n",
       "4        1  UPPER EAST SIDE (59-79)  15 CONDOS - 2-10 UNIT RESIDENTIAL   \n",
       "\n",
       "  TAX_CLASS_AT_PRESENT  BLOCK   LOT  EASE-MENT BUILDING_CLASS_AT_PRESENT  \\\n",
       "0                    2    716  1246        NaN                        R4   \n",
       "1                    4    812    68        NaN                        O5   \n",
       "2                    4    839    69        NaN                        O5   \n",
       "3                    2    592  1041        NaN                        R4   \n",
       "4                   2C   1379  1402        NaN                        R1   \n",
       "\n",
       "                       ADDRESS APARTMENT_NUMBER  ...  RESIDENTIAL_UNITS  \\\n",
       "0  447 WEST 18TH STREET, PH12A            PH12A  ...                1.0   \n",
       "1         144 WEST 37TH STREET              NaN  ...                0.0   \n",
       "2          40 WEST 38TH STREET              NaN  ...                0.0   \n",
       "3        1 SHERIDAN SQUARE, 8C               8C  ...                1.0   \n",
       "4       20 EAST 65TH STREET, B                B  ...                1.0   \n",
       "\n",
       "   COMMERCIAL_UNITS  TOTAL_UNITS  LAND_SQUARE_FEET GROSS_SQUARE_FEET  \\\n",
       "0               0.0          1.0            10,733            1979.0   \n",
       "1               6.0          6.0             2,962           15435.0   \n",
       "2               7.0          7.0             2,074           11332.0   \n",
       "3               0.0          1.0                 0             500.0   \n",
       "4               0.0          1.0                 0            6406.0   \n",
       "\n",
       "   YEAR_BUILT  TAX_CLASS_AT_TIME_OF_SALE  BUILDING_CLASS_AT_TIME_OF_SALE  \\\n",
       "0      2007.0                          2                              R4   \n",
       "1      1920.0                          4                              O5   \n",
       "2      1930.0                          4                              O5   \n",
       "3         0.0                          2                              R4   \n",
       "4         0.0                          2                              R1   \n",
       "\n",
       "  SALE_PRICE   SALE_DATE  \n",
       "0          0  01/01/2019  \n",
       "1          0  01/01/2019  \n",
       "2          0  01/01/2019  \n",
       "3          0  01/01/2019  \n",
       "4          0  01/01/2019  \n",
       "\n",
       "[5 rows x 21 columns]"
      ]
     },
     "execution_count": 128,
     "metadata": {},
     "output_type": "execute_result"
    }
   ],
   "source": [
    "df.head()"
   ]
  },
  {
   "cell_type": "code",
   "execution_count": 129,
   "metadata": {},
   "outputs": [],
   "source": [
    "df.isna().sum()\n",
    "df.drop(['EASE-MENT','APARTMENT_NUMBER'],inplace=True,axis=1)"
   ]
  },
  {
   "cell_type": "code",
   "execution_count": 130,
   "metadata": {},
   "outputs": [
    {
     "data": {
      "text/plain": [
       "BOROUGH                           0\n",
       "NEIGHBORHOOD                      0\n",
       "BUILDING_CLASS_CATEGORY           0\n",
       "TAX_CLASS_AT_PRESENT              0\n",
       "BLOCK                             0\n",
       "LOT                               0\n",
       "BUILDING_CLASS_AT_PRESENT         0\n",
       "ADDRESS                           0\n",
       "ZIP_CODE                          0\n",
       "RESIDENTIAL_UNITS                 0\n",
       "COMMERCIAL_UNITS                  0\n",
       "TOTAL_UNITS                       0\n",
       "LAND_SQUARE_FEET                  0\n",
       "GROSS_SQUARE_FEET                 0\n",
       "YEAR_BUILT                        0\n",
       "TAX_CLASS_AT_TIME_OF_SALE         0\n",
       "BUILDING_CLASS_AT_TIME_OF_SALE    0\n",
       "SALE_PRICE                        0\n",
       "SALE_DATE                         0\n",
       "dtype: int64"
      ]
     },
     "execution_count": 130,
     "metadata": {},
     "output_type": "execute_result"
    }
   ],
   "source": [
    "df.head()\n",
    "df.fillna(0,inplace=True)\n",
    "df.isna().sum()"
   ]
  },
  {
   "cell_type": "markdown",
   "metadata": {},
   "source": [
    "## Assignment\n",
    "\n",
    "We're going back to our other **New York City** real estate dataset. Instead of predicting apartment rents, you'll predict property sales prices.\n",
    "\n",
    "But not just for condos in Tribeca...\n",
    "\n",
    "Instead, predict property sales prices for **One Family Dwellings** (`BUILDING_CLASS_CATEGORY` == `'01 ONE FAMILY DWELLINGS'`) using a subset of the data where the **sale price was more than \\\\$100 thousand and less than $2 million.** \n",
    "\n",
    "The [NYC Department of Finance](https://www1.nyc.gov/site/finance/taxes/property-rolling-sales-data.page) has a glossary of property sales terms and NYC Building Class Code Descriptions. The data comes from the [NYC OpenData](https://data.cityofnewyork.us/browse?q=NYC%20calendar%20sales) portal.\n",
    "\n",
    "\n",
    "- [X] Do train/test split. Use data from January — March 2019 to train. Use data from April 2019 to test.\n",
    "- [X] Do exploratory visualizations with Seaborn.\n",
    "- [X] Do one-hot encoding of categorical features.\n",
    "- [X] Do feature selection with `SelectKBest`.\n",
    "- [X] Fit a linear regression model with multiple features.\n",
    "- [X] Get mean absolute error for the test set.\n",
    "- [X] As always, commit your notebook to your fork of the GitHub repo."
   ]
  },
  {
   "cell_type": "code",
   "execution_count": 131,
   "metadata": {},
   "outputs": [
    {
     "data": {
      "text/plain": [
       "count                   23040\n",
       "unique                    120\n",
       "top       2019-01-24 00:00:00\n",
       "freq                      480\n",
       "first     2019-01-01 00:00:00\n",
       "last      2019-04-30 00:00:00\n",
       "Name: SALE_DATE, dtype: object"
      ]
     },
     "execution_count": 131,
     "metadata": {},
     "output_type": "execute_result"
    }
   ],
   "source": [
    "df['SALE_DATE'] = pd.to_datetime(df['SALE_DATE'], infer_datetime_format=True)\n",
    "df['SALE_DATE'].describe()"
   ]
  },
  {
   "cell_type": "code",
   "execution_count": 132,
   "metadata": {},
   "outputs": [
    {
     "data": {
      "text/plain": [
       "1    6464\n",
       "3    6105\n",
       "2    5598\n",
       "4    4873\n",
       "Name: SALE_DATE, dtype: int64"
      ]
     },
     "execution_count": 132,
     "metadata": {},
     "output_type": "execute_result"
    }
   ],
   "source": [
    "df.SALE_DATE.dt.month.value_counts()"
   ]
  },
  {
   "cell_type": "code",
   "execution_count": 133,
   "metadata": {},
   "outputs": [],
   "source": [
    "import numpy as np\n",
    "df[df['LAND_SQUARE_FEET'].isnull()]\n",
    "df['LAND_SQUARE_FEET'] = pd.to_numeric(df['LAND_SQUARE_FEET'], errors='coerce')\n",
    "df = df.dropna(subset=['LAND_SQUARE_FEET'])\n",
    "df['LAND_SQUARE_FEET'] = df['LAND_SQUARE_FEET'].astype(int)"
   ]
  },
  {
   "cell_type": "code",
   "execution_count": 134,
   "metadata": {},
   "outputs": [
    {
     "data": {
      "text/plain": [
       "((6036, 19), (1782, 19))"
      ]
     },
     "execution_count": 134,
     "metadata": {},
     "output_type": "execute_result"
    }
   ],
   "source": [
    "train = df[df['SALE_DATE'].dt.month < 4]\n",
    "test = df[df['SALE_DATE'].dt.month == 4]\n",
    "\n",
    "train.shape, test.shape"
   ]
  },
  {
   "cell_type": "code",
   "execution_count": 136,
   "metadata": {},
   "outputs": [
    {
     "name": "stderr",
     "output_type": "stream",
     "text": [
      "C:\\Users\\pandu\\Anaconda3\\lib\\site-packages\\ipykernel_launcher.py:6: SettingWithCopyWarning: \n",
      "A value is trying to be set on a copy of a slice from a DataFrame.\n",
      "Try using .loc[row_indexer,col_indexer] = value instead\n",
      "\n",
      "See the caveats in the documentation: http://pandas.pydata.org/pandas-docs/stable/user_guide/indexing.html#returning-a-view-versus-a-copy\n",
      "  \n",
      "C:\\Users\\pandu\\Anaconda3\\lib\\site-packages\\ipykernel_launcher.py:7: SettingWithCopyWarning: \n",
      "A value is trying to be set on a copy of a slice from a DataFrame.\n",
      "Try using .loc[row_indexer,col_indexer] = value instead\n",
      "\n",
      "See the caveats in the documentation: http://pandas.pydata.org/pandas-docs/stable/user_guide/indexing.html#returning-a-view-versus-a-copy\n",
      "  import sys\n"
     ]
    }
   ],
   "source": [
    "import matplotlib.pyplot as plt\n",
    "import seaborn as sns\n",
    "from sklearn.cluster import KMeans\n",
    "\n",
    "kmeans = KMeans(n_clusters=10, n_jobs=-1)\n",
    "train['cluster'] = kmeans.fit_predict(train[['BOROUGH', 'LOT']])\n",
    "test['cluster'] = kmeans.predict(test[['BOROUGH', 'LOT']])"
   ]
  },
  {
   "cell_type": "code",
   "execution_count": 137,
   "metadata": {},
   "outputs": [
    {
     "data": {
      "text/plain": [
       "BOROUGH\n",
       "1    0.393609\n",
       "2    0.370180\n",
       "3    0.444287\n",
       "4    0.190444\n",
       "5    0.880435\n",
       "Name: RESIDENTIAL_UNITS, dtype: float64"
      ]
     },
     "execution_count": 137,
     "metadata": {},
     "output_type": "execute_result"
    }
   ],
   "source": [
    "train.groupby('BOROUGH').RESIDENTIAL_UNITS.mean()"
   ]
  },
  {
   "cell_type": "code",
   "execution_count": 138,
   "metadata": {},
   "outputs": [
    {
     "data": {
      "text/html": [
       "<div>\n",
       "<style scoped>\n",
       "    .dataframe tbody tr th:only-of-type {\n",
       "        vertical-align: middle;\n",
       "    }\n",
       "\n",
       "    .dataframe tbody tr th {\n",
       "        vertical-align: top;\n",
       "    }\n",
       "\n",
       "    .dataframe thead th {\n",
       "        text-align: right;\n",
       "    }\n",
       "</style>\n",
       "<table border=\"1\" class=\"dataframe\">\n",
       "  <thead>\n",
       "    <tr style=\"text-align: right;\">\n",
       "      <th></th>\n",
       "      <th>count</th>\n",
       "      <th>mean</th>\n",
       "      <th>std</th>\n",
       "      <th>min</th>\n",
       "      <th>25%</th>\n",
       "      <th>50%</th>\n",
       "      <th>75%</th>\n",
       "      <th>max</th>\n",
       "    </tr>\n",
       "    <tr>\n",
       "      <th>cluster</th>\n",
       "      <th></th>\n",
       "      <th></th>\n",
       "      <th></th>\n",
       "      <th></th>\n",
       "      <th></th>\n",
       "      <th></th>\n",
       "      <th></th>\n",
       "      <th></th>\n",
       "    </tr>\n",
       "  </thead>\n",
       "  <tbody>\n",
       "    <tr>\n",
       "      <th>0</th>\n",
       "      <td>1594.0</td>\n",
       "      <td>1.621264e+06</td>\n",
       "      <td>7.378942e+06</td>\n",
       "      <td>0.0</td>\n",
       "      <td>67750.0</td>\n",
       "      <td>610950.0</td>\n",
       "      <td>1219137.75</td>\n",
       "      <td>239958219.0</td>\n",
       "    </tr>\n",
       "    <tr>\n",
       "      <th>1</th>\n",
       "      <td>3203.0</td>\n",
       "      <td>6.771326e+05</td>\n",
       "      <td>1.271938e+06</td>\n",
       "      <td>0.0</td>\n",
       "      <td>215000.0</td>\n",
       "      <td>375000.0</td>\n",
       "      <td>730000.00</td>\n",
       "      <td>27496000.0</td>\n",
       "    </tr>\n",
       "    <tr>\n",
       "      <th>2</th>\n",
       "      <td>36.0</td>\n",
       "      <td>8.274699e+05</td>\n",
       "      <td>1.284283e+06</td>\n",
       "      <td>0.0</td>\n",
       "      <td>0.0</td>\n",
       "      <td>162500.0</td>\n",
       "      <td>1122500.00</td>\n",
       "      <td>4800000.0</td>\n",
       "    </tr>\n",
       "    <tr>\n",
       "      <th>3</th>\n",
       "      <td>89.0</td>\n",
       "      <td>1.550245e+06</td>\n",
       "      <td>2.962193e+06</td>\n",
       "      <td>0.0</td>\n",
       "      <td>0.0</td>\n",
       "      <td>265000.0</td>\n",
       "      <td>1165000.00</td>\n",
       "      <td>12376829.0</td>\n",
       "    </tr>\n",
       "    <tr>\n",
       "      <th>4</th>\n",
       "      <td>213.0</td>\n",
       "      <td>1.590747e+06</td>\n",
       "      <td>3.469644e+06</td>\n",
       "      <td>0.0</td>\n",
       "      <td>0.0</td>\n",
       "      <td>738231.0</td>\n",
       "      <td>1595000.00</td>\n",
       "      <td>29000000.0</td>\n",
       "    </tr>\n",
       "    <tr>\n",
       "      <th>5</th>\n",
       "      <td>71.0</td>\n",
       "      <td>4.141322e+05</td>\n",
       "      <td>4.596327e+05</td>\n",
       "      <td>0.0</td>\n",
       "      <td>99770.0</td>\n",
       "      <td>220000.0</td>\n",
       "      <td>610950.00</td>\n",
       "      <td>1975000.0</td>\n",
       "    </tr>\n",
       "    <tr>\n",
       "      <th>6</th>\n",
       "      <td>4.0</td>\n",
       "      <td>2.241750e+06</td>\n",
       "      <td>7.117145e+05</td>\n",
       "      <td>1279000.0</td>\n",
       "      <td>1932250.0</td>\n",
       "      <td>2400000.0</td>\n",
       "      <td>2709500.00</td>\n",
       "      <td>2888000.0</td>\n",
       "    </tr>\n",
       "    <tr>\n",
       "      <th>7</th>\n",
       "      <td>650.0</td>\n",
       "      <td>2.346241e+06</td>\n",
       "      <td>1.178664e+07</td>\n",
       "      <td>0.0</td>\n",
       "      <td>10.0</td>\n",
       "      <td>750000.0</td>\n",
       "      <td>1500000.00</td>\n",
       "      <td>189109922.0</td>\n",
       "    </tr>\n",
       "    <tr>\n",
       "      <th>8</th>\n",
       "      <td>154.0</td>\n",
       "      <td>3.081860e+05</td>\n",
       "      <td>2.192531e+05</td>\n",
       "      <td>0.0</td>\n",
       "      <td>169250.0</td>\n",
       "      <td>275000.0</td>\n",
       "      <td>414500.00</td>\n",
       "      <td>1225000.0</td>\n",
       "    </tr>\n",
       "    <tr>\n",
       "      <th>9</th>\n",
       "      <td>22.0</td>\n",
       "      <td>3.824703e+05</td>\n",
       "      <td>5.505992e+05</td>\n",
       "      <td>0.0</td>\n",
       "      <td>0.0</td>\n",
       "      <td>168500.0</td>\n",
       "      <td>392750.00</td>\n",
       "      <td>2100000.0</td>\n",
       "    </tr>\n",
       "  </tbody>\n",
       "</table>\n",
       "</div>"
      ],
      "text/plain": [
       "          count          mean           std        min        25%        50%  \\\n",
       "cluster                                                                        \n",
       "0        1594.0  1.621264e+06  7.378942e+06        0.0    67750.0   610950.0   \n",
       "1        3203.0  6.771326e+05  1.271938e+06        0.0   215000.0   375000.0   \n",
       "2          36.0  8.274699e+05  1.284283e+06        0.0        0.0   162500.0   \n",
       "3          89.0  1.550245e+06  2.962193e+06        0.0        0.0   265000.0   \n",
       "4         213.0  1.590747e+06  3.469644e+06        0.0        0.0   738231.0   \n",
       "5          71.0  4.141322e+05  4.596327e+05        0.0    99770.0   220000.0   \n",
       "6           4.0  2.241750e+06  7.117145e+05  1279000.0  1932250.0  2400000.0   \n",
       "7         650.0  2.346241e+06  1.178664e+07        0.0       10.0   750000.0   \n",
       "8         154.0  3.081860e+05  2.192531e+05        0.0   169250.0   275000.0   \n",
       "9          22.0  3.824703e+05  5.505992e+05        0.0        0.0   168500.0   \n",
       "\n",
       "                75%          max  \n",
       "cluster                           \n",
       "0        1219137.75  239958219.0  \n",
       "1         730000.00   27496000.0  \n",
       "2        1122500.00    4800000.0  \n",
       "3        1165000.00   12376829.0  \n",
       "4        1595000.00   29000000.0  \n",
       "5         610950.00    1975000.0  \n",
       "6        2709500.00    2888000.0  \n",
       "7        1500000.00  189109922.0  \n",
       "8         414500.00    1225000.0  \n",
       "9         392750.00    2100000.0  "
      ]
     },
     "execution_count": 138,
     "metadata": {},
     "output_type": "execute_result"
    }
   ],
   "source": [
    "train.groupby('cluster').SALE_PRICE.describe()"
   ]
  },
  {
   "cell_type": "code",
   "execution_count": 139,
   "metadata": {},
   "outputs": [
    {
     "data": {
      "image/png": "[encoded data removed]",
      "text/plain": [
       "<Figure size 360x360 with 1 Axes>"
      ]
     },
     "metadata": {
      "needs_background": "light"
     },
     "output_type": "display_data"
    }
   ],
   "source": [
    "sns.catplot(x='cluster', y='SALE_PRICE', data=train, kind='bar', color='grey');"
   ]
  },
  {
   "cell_type": "code",
   "execution_count": 140,
   "metadata": {
    "scrolled": true
   },
   "outputs": [
    {
     "data": {
      "image/png": "[encoded data removed]",
      "text/plain": [
       "<Figure size 360x360 with 1 Axes>"
      ]
     },
     "metadata": {
      "needs_background": "light"
     },
     "output_type": "display_data"
    },
    {
     "data": {
      "image/png": "[encoded data removed]",
      "text/plain": [
       "<Figure size 360x360 with 1 Axes>"
      ]
     },
     "metadata": {
      "needs_background": "light"
     },
     "output_type": "display_data"
    },
    {
     "data": {
      "image/png": "[encoded data removed]",
      "text/plain": [
       "<Figure size 360x360 with 1 Axes>"
      ]
     },
     "metadata": {
      "needs_background": "light"
     },
     "output_type": "display_data"
    },
    {
     "data": {
      "image/png": "[encoded data removed]",
      "text/plain": [
       "<Figure size 360x360 with 1 Axes>"
      ]
     },
     "metadata": {
      "needs_background": "light"
     },
     "output_type": "display_data"
    },
    {
     "data": {
      "image/png": "[encoded data removed]",
      "text/plain": [
       "<Figure size 360x360 with 1 Axes>"
      ]
     },
     "metadata": {
      "needs_background": "light"
     },
     "output_type": "display_data"
    },
    {
     "data": {
      "image/png": "[encoded data removed]",
      "text/plain": [
       "<Figure size 360x360 with 1 Axes>"
      ]
     },
     "metadata": {
      "needs_background": "light"
     },
     "output_type": "display_data"
    }
   ],
   "source": [
    "for col in sorted(train.columns):\n",
    "    if train[col].nunique() < 12:\n",
    "        sns.catplot(x=col, y='SALE_PRICE', data=train, kind='bar', color='grey')\n",
    "        plt.show()"
   ]
  },
  {
   "cell_type": "code",
   "execution_count": 141,
   "metadata": {},
   "outputs": [
    {
     "data": {
      "text/html": [
       "<div>\n",
       "<style scoped>\n",
       "    .dataframe tbody tr th:only-of-type {\n",
       "        vertical-align: middle;\n",
       "    }\n",
       "\n",
       "    .dataframe tbody tr th {\n",
       "        vertical-align: top;\n",
       "    }\n",
       "\n",
       "    .dataframe thead th {\n",
       "        text-align: right;\n",
       "    }\n",
       "</style>\n",
       "<table border=\"1\" class=\"dataframe\">\n",
       "  <thead>\n",
       "    <tr style=\"text-align: right;\">\n",
       "      <th></th>\n",
       "      <th>NEIGHBORHOOD</th>\n",
       "      <th>BUILDING_CLASS_CATEGORY</th>\n",
       "      <th>TAX_CLASS_AT_PRESENT</th>\n",
       "      <th>BUILDING_CLASS_AT_PRESENT</th>\n",
       "      <th>ADDRESS</th>\n",
       "      <th>BUILDING_CLASS_AT_TIME_OF_SALE</th>\n",
       "      <th>SALE_DATE</th>\n",
       "    </tr>\n",
       "  </thead>\n",
       "  <tbody>\n",
       "    <tr>\n",
       "      <th>count</th>\n",
       "      <td>6036</td>\n",
       "      <td>6036</td>\n",
       "      <td>6036</td>\n",
       "      <td>6036</td>\n",
       "      <td>6036</td>\n",
       "      <td>6036</td>\n",
       "      <td>6036</td>\n",
       "    </tr>\n",
       "    <tr>\n",
       "      <th>unique</th>\n",
       "      <td>207</td>\n",
       "      <td>30</td>\n",
       "      <td>9</td>\n",
       "      <td>51</td>\n",
       "      <td>5984</td>\n",
       "      <td>51</td>\n",
       "      <td>84</td>\n",
       "    </tr>\n",
       "    <tr>\n",
       "      <th>top</th>\n",
       "      <td>UPPER EAST SIDE (59-79)</td>\n",
       "      <td>10 COOPS - ELEVATOR APARTMENTS</td>\n",
       "      <td>2</td>\n",
       "      <td>D4</td>\n",
       "      <td>262 MOTT STREET</td>\n",
       "      <td>D4</td>\n",
       "      <td>2019-02-28 00:00:00</td>\n",
       "    </tr>\n",
       "    <tr>\n",
       "      <th>freq</th>\n",
       "      <td>286</td>\n",
       "      <td>2686</td>\n",
       "      <td>5032</td>\n",
       "      <td>2640</td>\n",
       "      <td>3</td>\n",
       "      <td>2640</td>\n",
       "      <td>157</td>\n",
       "    </tr>\n",
       "    <tr>\n",
       "      <th>first</th>\n",
       "      <td>NaN</td>\n",
       "      <td>NaN</td>\n",
       "      <td>NaN</td>\n",
       "      <td>NaN</td>\n",
       "      <td>NaN</td>\n",
       "      <td>NaN</td>\n",
       "      <td>2019-01-01 00:00:00</td>\n",
       "    </tr>\n",
       "    <tr>\n",
       "      <th>last</th>\n",
       "      <td>NaN</td>\n",
       "      <td>NaN</td>\n",
       "      <td>NaN</td>\n",
       "      <td>NaN</td>\n",
       "      <td>NaN</td>\n",
       "      <td>NaN</td>\n",
       "      <td>2019-03-31 00:00:00</td>\n",
       "    </tr>\n",
       "  </tbody>\n",
       "</table>\n",
       "</div>"
      ],
      "text/plain": [
       "                   NEIGHBORHOOD         BUILDING_CLASS_CATEGORY  \\\n",
       "count                      6036                            6036   \n",
       "unique                      207                              30   \n",
       "top     UPPER EAST SIDE (59-79)  10 COOPS - ELEVATOR APARTMENTS   \n",
       "freq                        286                            2686   \n",
       "first                       NaN                             NaN   \n",
       "last                        NaN                             NaN   \n",
       "\n",
       "       TAX_CLASS_AT_PRESENT BUILDING_CLASS_AT_PRESENT          ADDRESS  \\\n",
       "count                  6036                      6036             6036   \n",
       "unique                    9                        51             5984   \n",
       "top                       2                        D4  262 MOTT STREET   \n",
       "freq                   5032                      2640                3   \n",
       "first                   NaN                       NaN              NaN   \n",
       "last                    NaN                       NaN              NaN   \n",
       "\n",
       "       BUILDING_CLASS_AT_TIME_OF_SALE            SALE_DATE  \n",
       "count                            6036                 6036  \n",
       "unique                             51                   84  \n",
       "top                                D4  2019-02-28 00:00:00  \n",
       "freq                             2640                  157  \n",
       "first                             NaN  2019-01-01 00:00:00  \n",
       "last                              NaN  2019-03-31 00:00:00  "
      ]
     },
     "execution_count": 141,
     "metadata": {},
     "output_type": "execute_result"
    }
   ],
   "source": [
    "train.describe(exclude='number')"
   ]
  },
  {
   "cell_type": "code",
   "execution_count": 142,
   "metadata": {},
   "outputs": [
    {
     "data": {
      "text/plain": [
       "0      5812\n",
       "153      26\n",
       "500       8\n",
       "850       8\n",
       "900       5\n",
       "       ... \n",
       "723       1\n",
       "949       1\n",
       "977       1\n",
       "997       1\n",
       "909       1\n",
       "Name: LAND_SQUARE_FEET, Length: 136, dtype: int64"
      ]
     },
     "execution_count": 142,
     "metadata": {},
     "output_type": "execute_result"
    }
   ],
   "source": [
    "train.LAND_SQUARE_FEET.value_counts()"
   ]
  },
  {
   "cell_type": "code",
   "execution_count": 143,
   "metadata": {},
   "outputs": [
    {
     "data": {
      "text/plain": [
       "BOROUGH                                    int64\n",
       "NEIGHBORHOOD                              object\n",
       "BUILDING_CLASS_CATEGORY                   object\n",
       "TAX_CLASS_AT_PRESENT                      object\n",
       "BLOCK                                      int64\n",
       "LOT                                        int64\n",
       "BUILDING_CLASS_AT_PRESENT                 object\n",
       "ADDRESS                                   object\n",
       "ZIP_CODE                                 float64\n",
       "RESIDENTIAL_UNITS                        float64\n",
       "COMMERCIAL_UNITS                         float64\n",
       "TOTAL_UNITS                              float64\n",
       "LAND_SQUARE_FEET                           int32\n",
       "GROSS_SQUARE_FEET                        float64\n",
       "YEAR_BUILT                               float64\n",
       "TAX_CLASS_AT_TIME_OF_SALE                  int64\n",
       "BUILDING_CLASS_AT_TIME_OF_SALE            object\n",
       "SALE_PRICE                                 int32\n",
       "SALE_DATE                         datetime64[ns]\n",
       "dtype: object"
      ]
     },
     "execution_count": 143,
     "metadata": {},
     "output_type": "execute_result"
    }
   ],
   "source": [
    "df.dtypes"
   ]
  },
  {
   "cell_type": "code",
   "execution_count": 144,
   "metadata": {},
   "outputs": [
    {
     "name": "stderr",
     "output_type": "stream",
     "text": [
      "C:\\Users\\pandu\\Anaconda3\\lib\\site-packages\\ipykernel_launcher.py:3: SettingWithCopyWarning: \n",
      "A value is trying to be set on a copy of a slice from a DataFrame.\n",
      "Try using .loc[row_indexer,col_indexer] = value instead\n",
      "\n",
      "See the caveats in the documentation: http://pandas.pydata.org/pandas-docs/stable/user_guide/indexing.html#returning-a-view-versus-a-copy\n",
      "  This is separate from the ipykernel package so we can avoid doing imports until\n",
      "C:\\Users\\pandu\\Anaconda3\\lib\\site-packages\\ipykernel_launcher.py:4: SettingWithCopyWarning: \n",
      "A value is trying to be set on a copy of a slice from a DataFrame.\n",
      "Try using .loc[row_indexer,col_indexer] = value instead\n",
      "\n",
      "See the caveats in the documentation: http://pandas.pydata.org/pandas-docs/stable/user_guide/indexing.html#returning-a-view-versus-a-copy\n",
      "  after removing the cwd from sys.path.\n"
     ]
    }
   ],
   "source": [
    "binary_columns = ['LAND_SQUARE_FEET']\n",
    "for col in binary_columns:\n",
    "    train[col] = train[col].astype(int)\n",
    "    test[col] = test[col].astype(int)"
   ]
  },
  {
   "cell_type": "code",
   "execution_count": 145,
   "metadata": {},
   "outputs": [
    {
     "data": {
      "text/html": [
       "<div>\n",
       "<style scoped>\n",
       "    .dataframe tbody tr th:only-of-type {\n",
       "        vertical-align: middle;\n",
       "    }\n",
       "\n",
       "    .dataframe tbody tr th {\n",
       "        vertical-align: top;\n",
       "    }\n",
       "\n",
       "    .dataframe thead th {\n",
       "        text-align: right;\n",
       "    }\n",
       "</style>\n",
       "<table border=\"1\" class=\"dataframe\">\n",
       "  <thead>\n",
       "    <tr style=\"text-align: right;\">\n",
       "      <th></th>\n",
       "      <th>BOROUGH</th>\n",
       "      <th>NEIGHBORHOOD</th>\n",
       "      <th>BUILDING_CLASS_CATEGORY</th>\n",
       "      <th>TAX_CLASS_AT_PRESENT</th>\n",
       "      <th>BLOCK</th>\n",
       "      <th>LOT</th>\n",
       "      <th>BUILDING_CLASS_AT_PRESENT</th>\n",
       "      <th>ADDRESS</th>\n",
       "      <th>ZIP_CODE</th>\n",
       "      <th>RESIDENTIAL_UNITS</th>\n",
       "      <th>COMMERCIAL_UNITS</th>\n",
       "      <th>TOTAL_UNITS</th>\n",
       "      <th>LAND_SQUARE_FEET</th>\n",
       "      <th>GROSS_SQUARE_FEET</th>\n",
       "      <th>YEAR_BUILT</th>\n",
       "      <th>TAX_CLASS_AT_TIME_OF_SALE</th>\n",
       "      <th>BUILDING_CLASS_AT_TIME_OF_SALE</th>\n",
       "      <th>SALE_PRICE</th>\n",
       "      <th>SALE_DATE</th>\n",
       "    </tr>\n",
       "  </thead>\n",
       "  <tbody>\n",
       "    <tr>\n",
       "      <th>3</th>\n",
       "      <td>1</td>\n",
       "      <td>GREENWICH VILLAGE-WEST</td>\n",
       "      <td>13 CONDOS - ELEVATOR APARTMENTS</td>\n",
       "      <td>2</td>\n",
       "      <td>592</td>\n",
       "      <td>1041</td>\n",
       "      <td>R4</td>\n",
       "      <td>1 SHERIDAN SQUARE, 8C</td>\n",
       "      <td>10014.0</td>\n",
       "      <td>1.0</td>\n",
       "      <td>0.0</td>\n",
       "      <td>1.0</td>\n",
       "      <td>0</td>\n",
       "      <td>500.0</td>\n",
       "      <td>0.0</td>\n",
       "      <td>2</td>\n",
       "      <td>R4</td>\n",
       "      <td>0</td>\n",
       "      <td>2019-01-01</td>\n",
       "    </tr>\n",
       "    <tr>\n",
       "      <th>4</th>\n",
       "      <td>1</td>\n",
       "      <td>UPPER EAST SIDE (59-79)</td>\n",
       "      <td>15 CONDOS - 2-10 UNIT RESIDENTIAL</td>\n",
       "      <td>2C</td>\n",
       "      <td>1379</td>\n",
       "      <td>1402</td>\n",
       "      <td>R1</td>\n",
       "      <td>20 EAST 65TH STREET, B</td>\n",
       "      <td>10065.0</td>\n",
       "      <td>1.0</td>\n",
       "      <td>0.0</td>\n",
       "      <td>1.0</td>\n",
       "      <td>0</td>\n",
       "      <td>6406.0</td>\n",
       "      <td>0.0</td>\n",
       "      <td>2</td>\n",
       "      <td>R1</td>\n",
       "      <td>0</td>\n",
       "      <td>2019-01-01</td>\n",
       "    </tr>\n",
       "    <tr>\n",
       "      <th>14</th>\n",
       "      <td>2</td>\n",
       "      <td>MORRIS PARK/VAN NEST</td>\n",
       "      <td>29 COMMERCIAL GARAGES</td>\n",
       "      <td>4</td>\n",
       "      <td>4120</td>\n",
       "      <td>12</td>\n",
       "      <td>G7</td>\n",
       "      <td>N/A NEWPORT AVENUE</td>\n",
       "      <td>0.0</td>\n",
       "      <td>0.0</td>\n",
       "      <td>0.0</td>\n",
       "      <td>0.0</td>\n",
       "      <td>680</td>\n",
       "      <td>0.0</td>\n",
       "      <td>0.0</td>\n",
       "      <td>4</td>\n",
       "      <td>G7</td>\n",
       "      <td>0</td>\n",
       "      <td>2019-01-01</td>\n",
       "    </tr>\n",
       "    <tr>\n",
       "      <th>22</th>\n",
       "      <td>2</td>\n",
       "      <td>PELHAM PARKWAY SOUTH</td>\n",
       "      <td>31 COMMERCIAL VACANT LAND</td>\n",
       "      <td>4</td>\n",
       "      <td>4203</td>\n",
       "      <td>81</td>\n",
       "      <td>V1</td>\n",
       "      <td>N/A MORRIS PARK AVENUE</td>\n",
       "      <td>0.0</td>\n",
       "      <td>0.0</td>\n",
       "      <td>0.0</td>\n",
       "      <td>0.0</td>\n",
       "      <td>60</td>\n",
       "      <td>0.0</td>\n",
       "      <td>0.0</td>\n",
       "      <td>4</td>\n",
       "      <td>V1</td>\n",
       "      <td>0</td>\n",
       "      <td>2019-01-01</td>\n",
       "    </tr>\n",
       "    <tr>\n",
       "      <th>66</th>\n",
       "      <td>1</td>\n",
       "      <td>MIDTOWN EAST</td>\n",
       "      <td>10 COOPS - ELEVATOR APARTMENTS</td>\n",
       "      <td>2</td>\n",
       "      <td>1347</td>\n",
       "      <td>18</td>\n",
       "      <td>D4</td>\n",
       "      <td>345 EAST 54TH ST, 3B</td>\n",
       "      <td>10022.0</td>\n",
       "      <td>0.0</td>\n",
       "      <td>0.0</td>\n",
       "      <td>0.0</td>\n",
       "      <td>0</td>\n",
       "      <td>0.0</td>\n",
       "      <td>1960.0</td>\n",
       "      <td>2</td>\n",
       "      <td>D4</td>\n",
       "      <td>330000</td>\n",
       "      <td>2019-01-02</td>\n",
       "    </tr>\n",
       "  </tbody>\n",
       "</table>\n",
       "</div>"
      ],
      "text/plain": [
       "    BOROUGH             NEIGHBORHOOD            BUILDING_CLASS_CATEGORY  \\\n",
       "3         1   GREENWICH VILLAGE-WEST    13 CONDOS - ELEVATOR APARTMENTS   \n",
       "4         1  UPPER EAST SIDE (59-79)  15 CONDOS - 2-10 UNIT RESIDENTIAL   \n",
       "14        2     MORRIS PARK/VAN NEST              29 COMMERCIAL GARAGES   \n",
       "22        2     PELHAM PARKWAY SOUTH          31 COMMERCIAL VACANT LAND   \n",
       "66        1             MIDTOWN EAST     10 COOPS - ELEVATOR APARTMENTS   \n",
       "\n",
       "   TAX_CLASS_AT_PRESENT  BLOCK   LOT BUILDING_CLASS_AT_PRESENT  \\\n",
       "3                     2    592  1041                        R4   \n",
       "4                    2C   1379  1402                        R1   \n",
       "14                    4   4120    12                        G7   \n",
       "22                    4   4203    81                        V1   \n",
       "66                    2   1347    18                        D4   \n",
       "\n",
       "                   ADDRESS  ZIP_CODE  RESIDENTIAL_UNITS  COMMERCIAL_UNITS  \\\n",
       "3    1 SHERIDAN SQUARE, 8C   10014.0                1.0               0.0   \n",
       "4   20 EAST 65TH STREET, B   10065.0                1.0               0.0   \n",
       "14      N/A NEWPORT AVENUE       0.0                0.0               0.0   \n",
       "22  N/A MORRIS PARK AVENUE       0.0                0.0               0.0   \n",
       "66    345 EAST 54TH ST, 3B   10022.0                0.0               0.0   \n",
       "\n",
       "    TOTAL_UNITS  LAND_SQUARE_FEET  GROSS_SQUARE_FEET  YEAR_BUILT  \\\n",
       "3           1.0                 0              500.0         0.0   \n",
       "4           1.0                 0             6406.0         0.0   \n",
       "14          0.0               680                0.0         0.0   \n",
       "22          0.0                60                0.0         0.0   \n",
       "66          0.0                 0                0.0      1960.0   \n",
       "\n",
       "    TAX_CLASS_AT_TIME_OF_SALE BUILDING_CLASS_AT_TIME_OF_SALE  SALE_PRICE  \\\n",
       "3                           2                             R4           0   \n",
       "4                           2                             R1           0   \n",
       "14                          4                             G7           0   \n",
       "22                          4                             V1           0   \n",
       "66                          2                             D4      330000   \n",
       "\n",
       "    SALE_DATE  \n",
       "3  2019-01-01  \n",
       "4  2019-01-01  \n",
       "14 2019-01-01  \n",
       "22 2019-01-01  \n",
       "66 2019-01-02  "
      ]
     },
     "execution_count": 145,
     "metadata": {},
     "output_type": "execute_result"
    }
   ],
   "source": [
    "df.head()"
   ]
  },
  {
   "cell_type": "code",
   "execution_count": 146,
   "metadata": {},
   "outputs": [
    {
     "data": {
      "text/plain": [
       "BOROUGH                                    int64\n",
       "NEIGHBORHOOD                              object\n",
       "BUILDING_CLASS_CATEGORY                   object\n",
       "TAX_CLASS_AT_PRESENT                      object\n",
       "BLOCK                                      int64\n",
       "LOT                                        int64\n",
       "BUILDING_CLASS_AT_PRESENT                 object\n",
       "ADDRESS                                   object\n",
       "ZIP_CODE                                 float64\n",
       "RESIDENTIAL_UNITS                        float64\n",
       "COMMERCIAL_UNITS                         float64\n",
       "TOTAL_UNITS                              float64\n",
       "LAND_SQUARE_FEET                           int32\n",
       "GROSS_SQUARE_FEET                        float64\n",
       "YEAR_BUILT                               float64\n",
       "TAX_CLASS_AT_TIME_OF_SALE                  int64\n",
       "BUILDING_CLASS_AT_TIME_OF_SALE            object\n",
       "SALE_PRICE                                 int32\n",
       "SALE_DATE                         datetime64[ns]\n",
       "dtype: object"
      ]
     },
     "execution_count": 146,
     "metadata": {},
     "output_type": "execute_result"
    }
   ],
   "source": [
    "df.dtypes"
   ]
  },
  {
   "cell_type": "code",
   "execution_count": 152,
   "metadata": {},
   "outputs": [],
   "source": [
    "from sklearn.feature_selection import f_regression, SelectKBest\n",
    "from sklearn.preprocessing import StandardScaler\n",
    "import category_encoders as ce\n",
    "\n",
    "from sklearn.linear_model import LinearRegression\n",
    "from sklearn.metrics import mean_absolute_error\n",
    "\n",
    "model = LinearRegression()\n",
    "model.fit(X_train_selected, y_train)\n",
    "y_pred = model.predict(X_test_selected)\n",
    "mae = mean_absolute_error(y_test, y_pred)\n",
    "\n",
    "encoder = ce.OneHotEncoder(use_cat_names=True)\n",
    "encoded = encoder.fit_transform(train[['BOROUGH']])\n",
    "\n",
    "target = 'SALE_PRICE'\n",
    "high_cardinality = ['SALE_DATE','NEIGHBORHOOD','BUILDING_CLASS_AT_PRESENT','TAX_CLASS_AT_PRESENT', 'BUILDING_CLASS_CATEGORY', 'ADDRESS', 'BUILDING_CLASS_AT_TIME_OF_SALE']\n",
    "features = train.columns.drop([target] + high_cardinality)\n",
    "\n",
    "X_train = train[features]\n",
    "y_train = train[target]\n",
    "\n",
    "X_test = test[features]\n",
    "y_test = test[target]\n",
    "\n"
   ]
  },
  {
   "cell_type": "code",
   "execution_count": 148,
   "metadata": {},
   "outputs": [
    {
     "data": {
      "text/html": [
       "<div>\n",
       "<style scoped>\n",
       "    .dataframe tbody tr th:only-of-type {\n",
       "        vertical-align: middle;\n",
       "    }\n",
       "\n",
       "    .dataframe tbody tr th {\n",
       "        vertical-align: top;\n",
       "    }\n",
       "\n",
       "    .dataframe thead th {\n",
       "        text-align: right;\n",
       "    }\n",
       "</style>\n",
       "<table border=\"1\" class=\"dataframe\">\n",
       "  <thead>\n",
       "    <tr style=\"text-align: right;\">\n",
       "      <th></th>\n",
       "      <th>BOROUGH</th>\n",
       "    </tr>\n",
       "  </thead>\n",
       "  <tbody>\n",
       "    <tr>\n",
       "      <th>3</th>\n",
       "      <td>1</td>\n",
       "    </tr>\n",
       "    <tr>\n",
       "      <th>4</th>\n",
       "      <td>1</td>\n",
       "    </tr>\n",
       "    <tr>\n",
       "      <th>14</th>\n",
       "      <td>2</td>\n",
       "    </tr>\n",
       "    <tr>\n",
       "      <th>22</th>\n",
       "      <td>2</td>\n",
       "    </tr>\n",
       "    <tr>\n",
       "      <th>66</th>\n",
       "      <td>1</td>\n",
       "    </tr>\n",
       "  </tbody>\n",
       "</table>\n",
       "</div>"
      ],
      "text/plain": [
       "    BOROUGH\n",
       "3         1\n",
       "4         1\n",
       "14        2\n",
       "22        2\n",
       "66        1"
      ]
     },
     "execution_count": 148,
     "metadata": {},
     "output_type": "execute_result"
    }
   ],
   "source": [
    "encoded.head()"
   ]
  },
  {
   "cell_type": "code",
   "execution_count": 153,
   "metadata": {},
   "outputs": [
    {
     "name": "stdout",
     "output_type": "stream",
     "text": [
      "1 features\n",
      "Test MAE: $1,520,363 \n",
      "\n",
      "2 features\n",
      "Test MAE: $1,520,936 \n",
      "\n",
      "3 features\n",
      "Test MAE: $1,566,564 \n",
      "\n",
      "4 features\n",
      "Test MAE: $1,584,158 \n",
      "\n",
      "5 features\n",
      "Test MAE: $1,584,609 \n",
      "\n",
      "6 features\n",
      "Test MAE: $1,583,933 \n",
      "\n",
      "7 features\n",
      "Test MAE: $1,581,599 \n",
      "\n",
      "8 features\n",
      "Test MAE: $1,562,982 \n",
      "\n",
      "9 features\n",
      "Test MAE: $1,668,450 \n",
      "\n",
      "10 features\n",
      "Test MAE: $1,666,950 \n",
      "\n",
      "11 features\n",
      "Test MAE: $1,670,077 \n",
      "\n",
      "12 features\n",
      "Test MAE: $1,678,321 \n",
      "\n"
     ]
    }
   ],
   "source": [
    "X_train_encoded = encoder.fit_transform(X_train)\n",
    "X_test_encoded = encoder.transform(X_test)\n",
    "\n",
    "scaler = StandardScaler()\n",
    "X_train_scaled = scaler.fit_transform(X_train_encoded)\n",
    "X_test_scaled = scaler.transform(X_test_encoded)\n",
    "\n",
    "for k in range(1, len(X_train.columns)+1):\n",
    "    print(f'{k} features')\n",
    "    \n",
    "    selector = SelectKBest(score_func=f_regression, k=k)\n",
    "    X_train_selected = selector.fit_transform(X_train_scaled, y_train)\n",
    "    X_test_selected = selector.transform(X_test_scaled)\n",
    "    \n",
    "    model = LinearRegression()\n",
    "    model.fit(X_train_selected, y_train)\n",
    "    \n",
    "    y_pred = model.predict(X_test_selected)\n",
    "    mae = mean_absolute_error(y_test, y_pred)\n",
    "    print(f'Test MAE: ${mae:,.0f} \\n')"
   ]
  },
  {
   "cell_type": "code",
   "execution_count": null,
   "metadata": {},
   "outputs": [],
   "source": []
  }
 ],
 "metadata": {
  "colab": {
   "collapsed_sections": [],
   "name": "assignment_regression_classification_3.ipynb",
   "provenance": [],
   "version": "0.3.2"
  },
  "kernelspec": {
   "display_name": "Python 3",
   "language": "python",
   "name": "python3"
  },
  "language_info": {
   "codemirror_mode": {
    "name": "ipython",
    "version": 3
   },
   "file_extension": ".py",
   "mimetype": "text/x-python",
   "name": "python",
   "nbconvert_exporter": "python",
   "pygments_lexer": "ipython3",
   "version": "3.7.3"
  }
 },
 "nbformat": 4,
 "nbformat_minor": 4
}
