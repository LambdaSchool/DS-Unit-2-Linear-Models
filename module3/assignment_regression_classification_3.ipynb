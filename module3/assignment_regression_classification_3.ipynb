{
  "nbformat": 4,
  "nbformat_minor": 0,
  "metadata": {
    "colab": {
      "name": "assignment_regression_classification_3.ipynb",
      "version": "0.3.2",
      "provenance": [],
      "collapsed_sections": []
    },
    "kernelspec": {
      "name": "python3",
      "display_name": "Python 3"
    }
  },
  "cells": [
    {
      "cell_type": "markdown",
      "metadata": {
        "id": "7IXUfiQ2UKj6",
        "colab_type": "text"
      },
      "source": [
        "Lambda School Data Science, Unit 2: Predictive Modeling\n",
        "\n",
        "# Regression & Classification, Module 3\n",
        "\n",
        "## Assignment\n",
        "\n",
        "We're going back to our other **New York City** real estate dataset. Instead of predicting apartment rents, you'll predict property sales prices.\n",
        "\n",
        "But not just for condos in Tribeca...\n",
        "\n",
        "Instead, predict property sales prices for **One Family Dwellings** (`BUILDING_CLASS_CATEGORY` == `'01 ONE FAMILY DWELLINGS'`) using a subset of the data where the **sale price was more than \\\\$100 thousand and less than $2 million.** \n",
        "\n",
        "The [NYC Department of Finance](https://www1.nyc.gov/site/finance/taxes/property-rolling-sales-data.page) has a glossary of property sales terms and NYC Building Class Code Descriptions. The data comes from the [NYC OpenData](https://data.cityofnewyork.us/browse?q=NYC%20calendar%20sales) portal.\n",
        "\n",
        "\n",
        "- [ ] Do train/test split. Use data from January — March 2019 to train. Use data from April 2019 to test.\n",
        "- [ ] Do exploratory visualizations with Seaborn.\n",
        "- [ ] Do one-hot encoding of categorical features.\n",
        "- [ ] Do feature selection with `SelectKBest`.\n",
        "- [ ] Fit a linear regression model with multiple features.\n",
        "- [ ] Get mean absolute error for the test set.\n",
        "- [ ] As always, commit your notebook to your fork of the GitHub repo.\n",
        "\n",
        "\n",
        "## Stretch Goals\n",
        "- [ ] Add your own stretch goal(s) !\n",
        "- [ ] Do [feature scaling](https://scikit-learn.org/stable/modules/preprocessing.html).\n",
        "- [ ] Learn more about feature selection:\n",
        "    - [\"Permutation importance\"](https://www.kaggle.com/dansbecker/permutation-importance)\n",
        "    - [scikit-learn's User Guide for Feature Selection](https://scikit-learn.org/stable/modules/feature_selection.html)\n",
        "    - [mlxtend](http://rasbt.github.io/mlxtend/) library\n",
        "    - scikit-learn-contrib libraries: [boruta_py](https://github.com/scikit-learn-contrib/boruta_py) & [stability-selection](https://github.com/scikit-learn-contrib/stability-selection)\n",
        "    - [_Feature Engineering and Selection_](http://www.feat.engineering/) by Kuhn & Johnson.\n",
        "- [ ] Try [statsmodels](https://www.statsmodels.org/stable/index.html) if you’re interested in more inferential statistical approach to linear regression and feature selection, looking at p values and 95% confidence intervals for the coefficients.\n",
        "- [ ] Read [_An Introduction to Statistical Learning_](http://faculty.marshall.usc.edu/gareth-james/ISL/ISLR%20Seventh%20Printing.pdf), Chapters 1-3, for more math & theory, but in an accessible, readable way (without an excessive amount of formulas or academic pre-requisites).\n",
        "(That book is good regardless of whether your cultural worldview is inferential statistics or predictive machine learning)\n",
        "- [ ] Read Leo Breiman's paper, [\"Statistical Modeling: The Two Cultures\"](https://projecteuclid.org/download/pdf_1/euclid.ss/1009213726)\n",
        "- [ ] Try [scikit-learn pipelines](https://scikit-learn.org/stable/modules/compose.html):\n",
        "\n",
        "> Pipeline can be used to chain multiple estimators into one. This is useful as there is often a fixed sequence of steps in processing the data, for example feature selection, normalization and classification. Pipeline serves multiple purposes here:\n",
        "\n",
        "> - **Convenience and encapsulation.** You only have to call fit and predict once on your data to fit a whole sequence of estimators.\n",
        "> - **Joint parameter selection.** You can grid search over parameters of all estimators in the pipeline at once.\n",
        "> - **Safety.** Pipelines help avoid leaking statistics from your test data into the trained model in cross-validation, by ensuring that the same samples are used to train the transformers and predictors."
      ]
    },
    {
      "cell_type": "code",
      "metadata": {
        "id": "o9eSnDYhUGD7",
        "colab_type": "code",
        "colab": {
          "base_uri": "https://localhost:8080/",
          "height": 1000
        },
        "outputId": "9d6e86fa-1c6c-4b14-ba1c-e63b78b85f20"
      },
      "source": [
        "# If you're in Colab...\n",
        "import os, sys\n",
        "in_colab = 'google.colab' in sys.modules\n",
        "\n",
        "if in_colab:\n",
        "    # Install required python packages:\n",
        "    # category_encoders, version >= 2.0\n",
        "    # pandas-profiling, version >= 2.0\n",
        "    # plotly, version >= 4.0\n",
        "    !pip install --upgrade category_encoders pandas-profiling plotly\n",
        "    \n",
        "    # Pull files from Github repo\n",
        "    os.chdir('/content')\n",
        "    !git init .\n",
        "    !git remote add origin https://github.com/LambdaSchool/DS-Unit-2-Regression-Classification.git\n",
        "    !git pull origin master\n",
        "    \n",
        "    # Change into directory for module\n",
        "    os.chdir('module3')"
      ],
      "execution_count": 214,
      "outputs": [
        {
          "output_type": "stream",
          "text": [
            "Requirement already up-to-date: category_encoders in /usr/local/lib/python3.6/dist-packages (2.0.0)\n",
            "Requirement already up-to-date: pandas-profiling in /usr/local/lib/python3.6/dist-packages (2.3.0)\n",
            "Requirement already up-to-date: plotly in /usr/local/lib/python3.6/dist-packages (4.1.1)\n",
            "Requirement already satisfied, skipping upgrade: statsmodels>=0.6.1 in /usr/local/lib/python3.6/dist-packages (from category_encoders) (0.10.1)\n",
            "Requirement already satisfied, skipping upgrade: patsy>=0.4.1 in /usr/local/lib/python3.6/dist-packages (from category_encoders) (0.5.1)\n",
            "Requirement already satisfied, skipping upgrade: scikit-learn>=0.20.0 in /usr/local/lib/python3.6/dist-packages (from category_encoders) (0.21.3)\n",
            "Requirement already satisfied, skipping upgrade: pandas>=0.21.1 in /usr/local/lib/python3.6/dist-packages (from category_encoders) (0.24.2)\n",
            "Requirement already satisfied, skipping upgrade: numpy>=1.11.3 in /usr/local/lib/python3.6/dist-packages (from category_encoders) (1.16.5)\n",
            "Requirement already satisfied, skipping upgrade: scipy>=0.19.0 in /usr/local/lib/python3.6/dist-packages (from category_encoders) (1.3.1)\n",
            "Requirement already satisfied, skipping upgrade: htmlmin>=0.1.12 in /usr/local/lib/python3.6/dist-packages (from pandas-profiling) (0.1.12)\n",
            "Requirement already satisfied, skipping upgrade: confuse>=1.0.0 in /usr/local/lib/python3.6/dist-packages (from pandas-profiling) (1.0.0)\n",
            "Requirement already satisfied, skipping upgrade: matplotlib>=1.4 in /usr/local/lib/python3.6/dist-packages (from pandas-profiling) (3.0.3)\n",
            "Requirement already satisfied, skipping upgrade: phik>=0.9.8 in /usr/local/lib/python3.6/dist-packages (from pandas-profiling) (0.9.8)\n",
            "Requirement already satisfied, skipping upgrade: astropy in /usr/local/lib/python3.6/dist-packages (from pandas-profiling) (3.0.5)\n",
            "Requirement already satisfied, skipping upgrade: jinja2>=2.8 in /usr/local/lib/python3.6/dist-packages (from pandas-profiling) (2.10.1)\n",
            "Requirement already satisfied, skipping upgrade: missingno>=0.4.2 in /usr/local/lib/python3.6/dist-packages (from pandas-profiling) (0.4.2)\n",
            "Requirement already satisfied, skipping upgrade: retrying>=1.3.3 in /usr/local/lib/python3.6/dist-packages (from plotly) (1.3.3)\n",
            "Requirement already satisfied, skipping upgrade: six in /usr/local/lib/python3.6/dist-packages (from plotly) (1.12.0)\n",
            "Requirement already satisfied, skipping upgrade: joblib>=0.11 in /usr/local/lib/python3.6/dist-packages (from scikit-learn>=0.20.0->category_encoders) (0.13.2)\n",
            "Requirement already satisfied, skipping upgrade: python-dateutil>=2.5.0 in /usr/local/lib/python3.6/dist-packages (from pandas>=0.21.1->category_encoders) (2.5.3)\n",
            "Requirement already satisfied, skipping upgrade: pytz>=2011k in /usr/local/lib/python3.6/dist-packages (from pandas>=0.21.1->category_encoders) (2018.9)\n",
            "Requirement already satisfied, skipping upgrade: pyyaml in /usr/local/lib/python3.6/dist-packages (from confuse>=1.0.0->pandas-profiling) (3.13)\n",
            "Requirement already satisfied, skipping upgrade: pyparsing!=2.0.4,!=2.1.2,!=2.1.6,>=2.0.1 in /usr/local/lib/python3.6/dist-packages (from matplotlib>=1.4->pandas-profiling) (2.4.2)\n",
            "Requirement already satisfied, skipping upgrade: cycler>=0.10 in /usr/local/lib/python3.6/dist-packages (from matplotlib>=1.4->pandas-profiling) (0.10.0)\n",
            "Requirement already satisfied, skipping upgrade: kiwisolver>=1.0.1 in /usr/local/lib/python3.6/dist-packages (from matplotlib>=1.4->pandas-profiling) (1.1.0)\n",
            "Requirement already satisfied, skipping upgrade: pytest>=4.0.2 in /usr/local/lib/python3.6/dist-packages (from phik>=0.9.8->pandas-profiling) (5.1.2)\n",
            "Requirement already satisfied, skipping upgrade: numba>=0.38.1 in /usr/local/lib/python3.6/dist-packages (from phik>=0.9.8->pandas-profiling) (0.40.1)\n",
            "Requirement already satisfied, skipping upgrade: nbconvert>=5.3.1 in /usr/local/lib/python3.6/dist-packages (from phik>=0.9.8->pandas-profiling) (5.6.0)\n",
            "Requirement already satisfied, skipping upgrade: pytest-pylint>=0.13.0 in /usr/local/lib/python3.6/dist-packages (from phik>=0.9.8->pandas-profiling) (0.14.1)\n",
            "Requirement already satisfied, skipping upgrade: jupyter-client>=5.2.3 in /usr/local/lib/python3.6/dist-packages (from phik>=0.9.8->pandas-profiling) (5.3.1)\n",
            "Requirement already satisfied, skipping upgrade: MarkupSafe>=0.23 in /usr/local/lib/python3.6/dist-packages (from jinja2>=2.8->pandas-profiling) (1.1.1)\n",
            "Requirement already satisfied, skipping upgrade: seaborn in /usr/local/lib/python3.6/dist-packages (from missingno>=0.4.2->pandas-profiling) (0.9.0)\n",
            "Requirement already satisfied, skipping upgrade: setuptools in /usr/local/lib/python3.6/dist-packages (from kiwisolver>=1.0.1->matplotlib>=1.4->pandas-profiling) (41.2.0)\n",
            "Requirement already satisfied, skipping upgrade: more-itertools>=4.0.0 in /usr/local/lib/python3.6/dist-packages (from pytest>=4.0.2->phik>=0.9.8->pandas-profiling) (7.2.0)\n",
            "Requirement already satisfied, skipping upgrade: py>=1.5.0 in /usr/local/lib/python3.6/dist-packages (from pytest>=4.0.2->phik>=0.9.8->pandas-profiling) (1.8.0)\n",
            "Requirement already satisfied, skipping upgrade: importlib-metadata>=0.12; python_version < \"3.8\" in /usr/local/lib/python3.6/dist-packages (from pytest>=4.0.2->phik>=0.9.8->pandas-profiling) (0.20)\n",
            "Requirement already satisfied, skipping upgrade: pluggy<1.0,>=0.12 in /usr/local/lib/python3.6/dist-packages (from pytest>=4.0.2->phik>=0.9.8->pandas-profiling) (0.13.0)\n",
            "Requirement already satisfied, skipping upgrade: attrs>=17.4.0 in /usr/local/lib/python3.6/dist-packages (from pytest>=4.0.2->phik>=0.9.8->pandas-profiling) (19.1.0)\n",
            "Requirement already satisfied, skipping upgrade: packaging in /usr/local/lib/python3.6/dist-packages (from pytest>=4.0.2->phik>=0.9.8->pandas-profiling) (19.1)\n",
            "Requirement already satisfied, skipping upgrade: atomicwrites>=1.0 in /usr/local/lib/python3.6/dist-packages (from pytest>=4.0.2->phik>=0.9.8->pandas-profiling) (1.3.0)\n",
            "Requirement already satisfied, skipping upgrade: wcwidth in /usr/local/lib/python3.6/dist-packages (from pytest>=4.0.2->phik>=0.9.8->pandas-profiling) (0.1.7)\n",
            "Requirement already satisfied, skipping upgrade: llvmlite>=0.25.0dev0 in /usr/local/lib/python3.6/dist-packages (from numba>=0.38.1->phik>=0.9.8->pandas-profiling) (0.29.0)\n",
            "Requirement already satisfied, skipping upgrade: bleach in /usr/local/lib/python3.6/dist-packages (from nbconvert>=5.3.1->phik>=0.9.8->pandas-profiling) (3.1.0)\n",
            "Requirement already satisfied, skipping upgrade: jupyter-core in /usr/local/lib/python3.6/dist-packages (from nbconvert>=5.3.1->phik>=0.9.8->pandas-profiling) (4.5.0)\n",
            "Requirement already satisfied, skipping upgrade: defusedxml in /usr/local/lib/python3.6/dist-packages (from nbconvert>=5.3.1->phik>=0.9.8->pandas-profiling) (0.6.0)\n",
            "Requirement already satisfied, skipping upgrade: entrypoints>=0.2.2 in /usr/local/lib/python3.6/dist-packages (from nbconvert>=5.3.1->phik>=0.9.8->pandas-profiling) (0.3)\n",
            "Requirement already satisfied, skipping upgrade: nbformat>=4.4 in /usr/local/lib/python3.6/dist-packages (from nbconvert>=5.3.1->phik>=0.9.8->pandas-profiling) (4.4.0)\n",
            "Requirement already satisfied, skipping upgrade: pandocfilters>=1.4.1 in /usr/local/lib/python3.6/dist-packages (from nbconvert>=5.3.1->phik>=0.9.8->pandas-profiling) (1.4.2)\n",
            "Requirement already satisfied, skipping upgrade: traitlets>=4.2 in /usr/local/lib/python3.6/dist-packages (from nbconvert>=5.3.1->phik>=0.9.8->pandas-profiling) (4.3.2)\n",
            "Requirement already satisfied, skipping upgrade: testpath in /usr/local/lib/python3.6/dist-packages (from nbconvert>=5.3.1->phik>=0.9.8->pandas-profiling) (0.4.2)\n",
            "Requirement already satisfied, skipping upgrade: mistune<2,>=0.8.1 in /usr/local/lib/python3.6/dist-packages (from nbconvert>=5.3.1->phik>=0.9.8->pandas-profiling) (0.8.4)\n",
            "Requirement already satisfied, skipping upgrade: pygments in /usr/local/lib/python3.6/dist-packages (from nbconvert>=5.3.1->phik>=0.9.8->pandas-profiling) (2.1.3)\n",
            "Requirement already satisfied, skipping upgrade: pylint>=1.4.5 in /usr/local/lib/python3.6/dist-packages (from pytest-pylint>=0.13.0->phik>=0.9.8->pandas-profiling) (2.3.1)\n",
            "Requirement already satisfied, skipping upgrade: tornado>=4.1 in /usr/local/lib/python3.6/dist-packages (from jupyter-client>=5.2.3->phik>=0.9.8->pandas-profiling) (4.5.3)\n",
            "Requirement already satisfied, skipping upgrade: pyzmq>=13 in /usr/local/lib/python3.6/dist-packages (from jupyter-client>=5.2.3->phik>=0.9.8->pandas-profiling) (17.0.0)\n",
            "Requirement already satisfied, skipping upgrade: zipp>=0.5 in /usr/local/lib/python3.6/dist-packages (from importlib-metadata>=0.12; python_version < \"3.8\"->pytest>=4.0.2->phik>=0.9.8->pandas-profiling) (0.6.0)\n",
            "Requirement already satisfied, skipping upgrade: webencodings in /usr/local/lib/python3.6/dist-packages (from bleach->nbconvert>=5.3.1->phik>=0.9.8->pandas-profiling) (0.5.1)\n",
            "Requirement already satisfied, skipping upgrade: ipython-genutils in /usr/local/lib/python3.6/dist-packages (from nbformat>=4.4->nbconvert>=5.3.1->phik>=0.9.8->pandas-profiling) (0.2.0)\n",
            "Requirement already satisfied, skipping upgrade: jsonschema!=2.5.0,>=2.4 in /usr/local/lib/python3.6/dist-packages (from nbformat>=4.4->nbconvert>=5.3.1->phik>=0.9.8->pandas-profiling) (2.6.0)\n",
            "Requirement already satisfied, skipping upgrade: decorator in /usr/local/lib/python3.6/dist-packages (from traitlets>=4.2->nbconvert>=5.3.1->phik>=0.9.8->pandas-profiling) (4.4.0)\n",
            "Requirement already satisfied, skipping upgrade: astroid<3,>=2.2.0 in /usr/local/lib/python3.6/dist-packages (from pylint>=1.4.5->pytest-pylint>=0.13.0->phik>=0.9.8->pandas-profiling) (2.2.5)\n",
            "Requirement already satisfied, skipping upgrade: mccabe<0.7,>=0.6 in /usr/local/lib/python3.6/dist-packages (from pylint>=1.4.5->pytest-pylint>=0.13.0->phik>=0.9.8->pandas-profiling) (0.6.1)\n",
            "Requirement already satisfied, skipping upgrade: isort<5,>=4.2.5 in /usr/local/lib/python3.6/dist-packages (from pylint>=1.4.5->pytest-pylint>=0.13.0->phik>=0.9.8->pandas-profiling) (4.3.21)\n",
            "Requirement already satisfied, skipping upgrade: wrapt in /usr/local/lib/python3.6/dist-packages (from astroid<3,>=2.2.0->pylint>=1.4.5->pytest-pylint>=0.13.0->phik>=0.9.8->pandas-profiling) (1.11.2)\n",
            "Requirement already satisfied, skipping upgrade: typed-ast>=1.3.0; implementation_name == \"cpython\" in /usr/local/lib/python3.6/dist-packages (from astroid<3,>=2.2.0->pylint>=1.4.5->pytest-pylint>=0.13.0->phik>=0.9.8->pandas-profiling) (1.4.0)\n",
            "Requirement already satisfied, skipping upgrade: lazy-object-proxy in /usr/local/lib/python3.6/dist-packages (from astroid<3,>=2.2.0->pylint>=1.4.5->pytest-pylint>=0.13.0->phik>=0.9.8->pandas-profiling) (1.4.2)\n",
            "Reinitialized existing Git repository in /content/.git/\n",
            "fatal: remote origin already exists.\n",
            "From https://github.com/LambdaSchool/DS-Unit-2-Regression-Classification\n",
            " * branch            master     -> FETCH_HEAD\n",
            "Already up to date.\n"
          ],
          "name": "stdout"
        }
      ]
    },
    {
      "cell_type": "code",
      "metadata": {
        "id": "ipBYS77PUwNR",
        "colab_type": "code",
        "colab": {}
      },
      "source": [
        "# Ignore this Numpy warning when using Plotly Express:\n",
        "# FutureWarning: Method .ptp is deprecated and will be removed in a future version. Use numpy.ptp instead.\n",
        "import warnings\n",
        "warnings.filterwarnings(action='ignore', category=FutureWarning, module='numpy')"
      ],
      "execution_count": 0,
      "outputs": []
    },
    {
      "cell_type": "code",
      "metadata": {
        "id": "hxA2-IaefuxL",
        "colab_type": "code",
        "colab": {}
      },
      "source": [
        "import category_encoders as ce\n",
        "from sklearn.linear_model import LinearRegression\n",
        "from sklearn.metrics import mean_absolute_error, mean_squared_error, r2_score\n",
        "from sklearn.pipeline import make_pipeline\n",
        "from sklearn.preprocessing import PolynomialFeatures\n",
        "from sklearn.linear_model import LinearRegression\n",
        "from sklearn.preprocessing import StandardScaler\n",
        "from sklearn.feature_selection import f_regression, SelectKBest"
      ],
      "execution_count": 0,
      "outputs": []
    },
    {
      "cell_type": "code",
      "metadata": {
        "id": "GSOlVCFmRrAh",
        "colab_type": "code",
        "colab": {}
      },
      "source": [
        "import pandas as pd\n",
        "import numpy as np\n",
        "import pandas_profiling\n",
        "import matplotlib.pyplot as plt # plotting lib\n",
        "import seaborn as sns # matplotlib wrapper plotting lib\n",
        "import plotly.graph_objs as go # interactive low-level plotting lib https://plot.ly/python/\n",
        "import plotly.express as px #high-level api wrapper for plotly https://plot.ly/python/plotly-express/#visualize-distributions\n"
      ],
      "execution_count": 0,
      "outputs": []
    },
    {
      "cell_type": "code",
      "metadata": {
        "id": "QJBD4ruICm1m",
        "colab_type": "code",
        "colab": {}
      },
      "source": [
        "import pandas as pd\n",
        "import pandas_profiling\n",
        "\n",
        "# Read New York City property sales data\n",
        "#df = pd.read_csv('../data/NYC_Citywide_Rolling_Calendar_Sales.csv')\n",
        "df = pd.read_csv('../data/NYC_Citywide_Rolling_Calendar_Sales.csv')\n",
        "\n",
        "# Change column names: replace spaces with underscores\n",
        "df.columns = [col.replace(' ', '_') for col in df]\n",
        "\n",
        "# SALE_PRICE was read as strings.\n",
        "# Remove symbols, convert to integer\n",
        "df['SALE_PRICE'] = (\n",
        "    df['SALE_PRICE']\n",
        "    .str.replace('$','')\n",
        "    .str.replace('-','')\n",
        "    .str.replace(',','')\n",
        "    .astype(int)\n",
        ")"
      ],
      "execution_count": 0,
      "outputs": []
    },
    {
      "cell_type": "code",
      "metadata": {
        "id": "wnQaSR3I2pW7",
        "colab_type": "code",
        "colab": {}
      },
      "source": [
        "#import pandas_profiling\n",
        "#df.profile_report()"
      ],
      "execution_count": 0,
      "outputs": []
    },
    {
      "cell_type": "code",
      "metadata": {
        "id": "88iCseIxuVc0",
        "colab_type": "code",
        "colab": {
          "base_uri": "https://localhost:8080/",
          "height": 451
        },
        "outputId": "b0815871-9ca2-4096-bd45-410cf14f111f"
      },
      "source": [
        "print(df.shape)\n",
        "df.head()"
      ],
      "execution_count": 220,
      "outputs": [
        {
          "output_type": "stream",
          "text": [
            "(23040, 21)\n"
          ],
          "name": "stdout"
        },
        {
          "output_type": "execute_result",
          "data": {
            "text/html": [
              "<div>\n",
              "<style scoped>\n",
              "    .dataframe tbody tr th:only-of-type {\n",
              "        vertical-align: middle;\n",
              "    }\n",
              "\n",
              "    .dataframe tbody tr th {\n",
              "        vertical-align: top;\n",
              "    }\n",
              "\n",
              "    .dataframe thead th {\n",
              "        text-align: right;\n",
              "    }\n",
              "</style>\n",
              "<table border=\"1\" class=\"dataframe\">\n",
              "  <thead>\n",
              "    <tr style=\"text-align: right;\">\n",
              "      <th></th>\n",
              "      <th>BOROUGH</th>\n",
              "      <th>NEIGHBORHOOD</th>\n",
              "      <th>BUILDING_CLASS_CATEGORY</th>\n",
              "      <th>TAX_CLASS_AT_PRESENT</th>\n",
              "      <th>BLOCK</th>\n",
              "      <th>LOT</th>\n",
              "      <th>EASE-MENT</th>\n",
              "      <th>BUILDING_CLASS_AT_PRESENT</th>\n",
              "      <th>ADDRESS</th>\n",
              "      <th>APARTMENT_NUMBER</th>\n",
              "      <th>ZIP_CODE</th>\n",
              "      <th>RESIDENTIAL_UNITS</th>\n",
              "      <th>COMMERCIAL_UNITS</th>\n",
              "      <th>TOTAL_UNITS</th>\n",
              "      <th>LAND_SQUARE_FEET</th>\n",
              "      <th>GROSS_SQUARE_FEET</th>\n",
              "      <th>YEAR_BUILT</th>\n",
              "      <th>TAX_CLASS_AT_TIME_OF_SALE</th>\n",
              "      <th>BUILDING_CLASS_AT_TIME_OF_SALE</th>\n",
              "      <th>SALE_PRICE</th>\n",
              "      <th>SALE_DATE</th>\n",
              "    </tr>\n",
              "  </thead>\n",
              "  <tbody>\n",
              "    <tr>\n",
              "      <th>0</th>\n",
              "      <td>1</td>\n",
              "      <td>CHELSEA</td>\n",
              "      <td>13 CONDOS - ELEVATOR APARTMENTS</td>\n",
              "      <td>2</td>\n",
              "      <td>716</td>\n",
              "      <td>1246</td>\n",
              "      <td>NaN</td>\n",
              "      <td>R4</td>\n",
              "      <td>447 WEST 18TH STREET, PH12A</td>\n",
              "      <td>PH12A</td>\n",
              "      <td>10011.0</td>\n",
              "      <td>1.0</td>\n",
              "      <td>0.0</td>\n",
              "      <td>1.0</td>\n",
              "      <td>10,733</td>\n",
              "      <td>1979.0</td>\n",
              "      <td>2007.0</td>\n",
              "      <td>2</td>\n",
              "      <td>R4</td>\n",
              "      <td>0</td>\n",
              "      <td>01/01/2019</td>\n",
              "    </tr>\n",
              "    <tr>\n",
              "      <th>1</th>\n",
              "      <td>1</td>\n",
              "      <td>FASHION</td>\n",
              "      <td>21 OFFICE BUILDINGS</td>\n",
              "      <td>4</td>\n",
              "      <td>812</td>\n",
              "      <td>68</td>\n",
              "      <td>NaN</td>\n",
              "      <td>O5</td>\n",
              "      <td>144 WEST 37TH STREET</td>\n",
              "      <td>NaN</td>\n",
              "      <td>10018.0</td>\n",
              "      <td>0.0</td>\n",
              "      <td>6.0</td>\n",
              "      <td>6.0</td>\n",
              "      <td>2,962</td>\n",
              "      <td>15435.0</td>\n",
              "      <td>1920.0</td>\n",
              "      <td>4</td>\n",
              "      <td>O5</td>\n",
              "      <td>0</td>\n",
              "      <td>01/01/2019</td>\n",
              "    </tr>\n",
              "    <tr>\n",
              "      <th>2</th>\n",
              "      <td>1</td>\n",
              "      <td>FASHION</td>\n",
              "      <td>21 OFFICE BUILDINGS</td>\n",
              "      <td>4</td>\n",
              "      <td>839</td>\n",
              "      <td>69</td>\n",
              "      <td>NaN</td>\n",
              "      <td>O5</td>\n",
              "      <td>40 WEST 38TH STREET</td>\n",
              "      <td>NaN</td>\n",
              "      <td>10018.0</td>\n",
              "      <td>0.0</td>\n",
              "      <td>7.0</td>\n",
              "      <td>7.0</td>\n",
              "      <td>2,074</td>\n",
              "      <td>11332.0</td>\n",
              "      <td>1930.0</td>\n",
              "      <td>4</td>\n",
              "      <td>O5</td>\n",
              "      <td>0</td>\n",
              "      <td>01/01/2019</td>\n",
              "    </tr>\n",
              "    <tr>\n",
              "      <th>3</th>\n",
              "      <td>1</td>\n",
              "      <td>GREENWICH VILLAGE-WEST</td>\n",
              "      <td>13 CONDOS - ELEVATOR APARTMENTS</td>\n",
              "      <td>2</td>\n",
              "      <td>592</td>\n",
              "      <td>1041</td>\n",
              "      <td>NaN</td>\n",
              "      <td>R4</td>\n",
              "      <td>1 SHERIDAN SQUARE, 8C</td>\n",
              "      <td>8C</td>\n",
              "      <td>10014.0</td>\n",
              "      <td>1.0</td>\n",
              "      <td>0.0</td>\n",
              "      <td>1.0</td>\n",
              "      <td>0</td>\n",
              "      <td>500.0</td>\n",
              "      <td>0.0</td>\n",
              "      <td>2</td>\n",
              "      <td>R4</td>\n",
              "      <td>0</td>\n",
              "      <td>01/01/2019</td>\n",
              "    </tr>\n",
              "    <tr>\n",
              "      <th>4</th>\n",
              "      <td>1</td>\n",
              "      <td>UPPER EAST SIDE (59-79)</td>\n",
              "      <td>15 CONDOS - 2-10 UNIT RESIDENTIAL</td>\n",
              "      <td>2C</td>\n",
              "      <td>1379</td>\n",
              "      <td>1402</td>\n",
              "      <td>NaN</td>\n",
              "      <td>R1</td>\n",
              "      <td>20 EAST 65TH STREET, B</td>\n",
              "      <td>B</td>\n",
              "      <td>10065.0</td>\n",
              "      <td>1.0</td>\n",
              "      <td>0.0</td>\n",
              "      <td>1.0</td>\n",
              "      <td>0</td>\n",
              "      <td>6406.0</td>\n",
              "      <td>0.0</td>\n",
              "      <td>2</td>\n",
              "      <td>R1</td>\n",
              "      <td>0</td>\n",
              "      <td>01/01/2019</td>\n",
              "    </tr>\n",
              "  </tbody>\n",
              "</table>\n",
              "</div>"
            ],
            "text/plain": [
              "   BOROUGH             NEIGHBORHOOD  ... SALE_PRICE   SALE_DATE\n",
              "0        1                  CHELSEA  ...          0  01/01/2019\n",
              "1        1                  FASHION  ...          0  01/01/2019\n",
              "2        1                  FASHION  ...          0  01/01/2019\n",
              "3        1   GREENWICH VILLAGE-WEST  ...          0  01/01/2019\n",
              "4        1  UPPER EAST SIDE (59-79)  ...          0  01/01/2019\n",
              "\n",
              "[5 rows x 21 columns]"
            ]
          },
          "metadata": {
            "tags": []
          },
          "execution_count": 220
        }
      ]
    },
    {
      "cell_type": "code",
      "metadata": {
        "id": "WpKX9C5xubWz",
        "colab_type": "code",
        "colab": {
          "base_uri": "https://localhost:8080/",
          "height": 458
        },
        "outputId": "dbcd4a51-a5a3-4e2f-9d8b-d7fa6cc30b5f"
      },
      "source": [
        "print(df.shape)\n",
        "df.describe(include= 'all')#"
      ],
      "execution_count": 221,
      "outputs": [
        {
          "output_type": "stream",
          "text": [
            "(23040, 21)\n"
          ],
          "name": "stdout"
        },
        {
          "output_type": "execute_result",
          "data": {
            "text/html": [
              "<div>\n",
              "<style scoped>\n",
              "    .dataframe tbody tr th:only-of-type {\n",
              "        vertical-align: middle;\n",
              "    }\n",
              "\n",
              "    .dataframe tbody tr th {\n",
              "        vertical-align: top;\n",
              "    }\n",
              "\n",
              "    .dataframe thead th {\n",
              "        text-align: right;\n",
              "    }\n",
              "</style>\n",
              "<table border=\"1\" class=\"dataframe\">\n",
              "  <thead>\n",
              "    <tr style=\"text-align: right;\">\n",
              "      <th></th>\n",
              "      <th>BOROUGH</th>\n",
              "      <th>NEIGHBORHOOD</th>\n",
              "      <th>BUILDING_CLASS_CATEGORY</th>\n",
              "      <th>TAX_CLASS_AT_PRESENT</th>\n",
              "      <th>BLOCK</th>\n",
              "      <th>LOT</th>\n",
              "      <th>EASE-MENT</th>\n",
              "      <th>BUILDING_CLASS_AT_PRESENT</th>\n",
              "      <th>ADDRESS</th>\n",
              "      <th>APARTMENT_NUMBER</th>\n",
              "      <th>ZIP_CODE</th>\n",
              "      <th>RESIDENTIAL_UNITS</th>\n",
              "      <th>COMMERCIAL_UNITS</th>\n",
              "      <th>TOTAL_UNITS</th>\n",
              "      <th>LAND_SQUARE_FEET</th>\n",
              "      <th>GROSS_SQUARE_FEET</th>\n",
              "      <th>YEAR_BUILT</th>\n",
              "      <th>TAX_CLASS_AT_TIME_OF_SALE</th>\n",
              "      <th>BUILDING_CLASS_AT_TIME_OF_SALE</th>\n",
              "      <th>SALE_PRICE</th>\n",
              "      <th>SALE_DATE</th>\n",
              "    </tr>\n",
              "  </thead>\n",
              "  <tbody>\n",
              "    <tr>\n",
              "      <th>count</th>\n",
              "      <td>23040.000000</td>\n",
              "      <td>23040</td>\n",
              "      <td>23040</td>\n",
              "      <td>23039</td>\n",
              "      <td>23040.000000</td>\n",
              "      <td>23040.000000</td>\n",
              "      <td>0.0</td>\n",
              "      <td>23039</td>\n",
              "      <td>23040</td>\n",
              "      <td>5201</td>\n",
              "      <td>23039.000000</td>\n",
              "      <td>23039.000000</td>\n",
              "      <td>23039.000000</td>\n",
              "      <td>23039.000000</td>\n",
              "      <td>22987</td>\n",
              "      <td>2.303900e+04</td>\n",
              "      <td>23005.000000</td>\n",
              "      <td>23040.000000</td>\n",
              "      <td>23040</td>\n",
              "      <td>2.304000e+04</td>\n",
              "      <td>23040</td>\n",
              "    </tr>\n",
              "    <tr>\n",
              "      <th>unique</th>\n",
              "      <td>NaN</td>\n",
              "      <td>252</td>\n",
              "      <td>44</td>\n",
              "      <td>10</td>\n",
              "      <td>NaN</td>\n",
              "      <td>NaN</td>\n",
              "      <td>NaN</td>\n",
              "      <td>146</td>\n",
              "      <td>22691</td>\n",
              "      <td>1724</td>\n",
              "      <td>NaN</td>\n",
              "      <td>NaN</td>\n",
              "      <td>NaN</td>\n",
              "      <td>NaN</td>\n",
              "      <td>3652</td>\n",
              "      <td>NaN</td>\n",
              "      <td>NaN</td>\n",
              "      <td>NaN</td>\n",
              "      <td>147</td>\n",
              "      <td>NaN</td>\n",
              "      <td>120</td>\n",
              "    </tr>\n",
              "    <tr>\n",
              "      <th>top</th>\n",
              "      <td>NaN</td>\n",
              "      <td>FLUSHING-NORTH</td>\n",
              "      <td>01 ONE FAMILY DWELLINGS</td>\n",
              "      <td>1</td>\n",
              "      <td>NaN</td>\n",
              "      <td>NaN</td>\n",
              "      <td>NaN</td>\n",
              "      <td>D4</td>\n",
              "      <td>100 JEROME STREET</td>\n",
              "      <td>4</td>\n",
              "      <td>NaN</td>\n",
              "      <td>NaN</td>\n",
              "      <td>NaN</td>\n",
              "      <td>NaN</td>\n",
              "      <td>0</td>\n",
              "      <td>NaN</td>\n",
              "      <td>NaN</td>\n",
              "      <td>NaN</td>\n",
              "      <td>D4</td>\n",
              "      <td>NaN</td>\n",
              "      <td>01/24/2019</td>\n",
              "    </tr>\n",
              "    <tr>\n",
              "      <th>freq</th>\n",
              "      <td>NaN</td>\n",
              "      <td>685</td>\n",
              "      <td>5061</td>\n",
              "      <td>11071</td>\n",
              "      <td>NaN</td>\n",
              "      <td>NaN</td>\n",
              "      <td>NaN</td>\n",
              "      <td>3408</td>\n",
              "      <td>6</td>\n",
              "      <td>99</td>\n",
              "      <td>NaN</td>\n",
              "      <td>NaN</td>\n",
              "      <td>NaN</td>\n",
              "      <td>NaN</td>\n",
              "      <td>7500</td>\n",
              "      <td>NaN</td>\n",
              "      <td>NaN</td>\n",
              "      <td>NaN</td>\n",
              "      <td>3408</td>\n",
              "      <td>NaN</td>\n",
              "      <td>480</td>\n",
              "    </tr>\n",
              "    <tr>\n",
              "      <th>mean</th>\n",
              "      <td>2.978993</td>\n",
              "      <td>NaN</td>\n",
              "      <td>NaN</td>\n",
              "      <td>NaN</td>\n",
              "      <td>4459.116493</td>\n",
              "      <td>353.948481</td>\n",
              "      <td>NaN</td>\n",
              "      <td>NaN</td>\n",
              "      <td>NaN</td>\n",
              "      <td>NaN</td>\n",
              "      <td>10791.186987</td>\n",
              "      <td>1.827423</td>\n",
              "      <td>0.286514</td>\n",
              "      <td>2.320891</td>\n",
              "      <td>NaN</td>\n",
              "      <td>3.508555e+03</td>\n",
              "      <td>1819.671724</td>\n",
              "      <td>1.624479</td>\n",
              "      <td>NaN</td>\n",
              "      <td>1.328133e+06</td>\n",
              "      <td>NaN</td>\n",
              "    </tr>\n",
              "    <tr>\n",
              "      <th>std</th>\n",
              "      <td>1.258951</td>\n",
              "      <td>NaN</td>\n",
              "      <td>NaN</td>\n",
              "      <td>NaN</td>\n",
              "      <td>3713.269887</td>\n",
              "      <td>628.025255</td>\n",
              "      <td>NaN</td>\n",
              "      <td>NaN</td>\n",
              "      <td>NaN</td>\n",
              "      <td>NaN</td>\n",
              "      <td>1103.414210</td>\n",
              "      <td>10.090432</td>\n",
              "      <td>5.778224</td>\n",
              "      <td>12.070554</td>\n",
              "      <td>NaN</td>\n",
              "      <td>2.218610e+04</td>\n",
              "      <td>488.376571</td>\n",
              "      <td>0.803898</td>\n",
              "      <td>NaN</td>\n",
              "      <td>1.025394e+07</td>\n",
              "      <td>NaN</td>\n",
              "    </tr>\n",
              "    <tr>\n",
              "      <th>min</th>\n",
              "      <td>1.000000</td>\n",
              "      <td>NaN</td>\n",
              "      <td>NaN</td>\n",
              "      <td>NaN</td>\n",
              "      <td>1.000000</td>\n",
              "      <td>1.000000</td>\n",
              "      <td>NaN</td>\n",
              "      <td>NaN</td>\n",
              "      <td>NaN</td>\n",
              "      <td>NaN</td>\n",
              "      <td>0.000000</td>\n",
              "      <td>0.000000</td>\n",
              "      <td>-148.000000</td>\n",
              "      <td>0.000000</td>\n",
              "      <td>NaN</td>\n",
              "      <td>0.000000e+00</td>\n",
              "      <td>0.000000</td>\n",
              "      <td>1.000000</td>\n",
              "      <td>NaN</td>\n",
              "      <td>0.000000e+00</td>\n",
              "      <td>NaN</td>\n",
              "    </tr>\n",
              "    <tr>\n",
              "      <th>25%</th>\n",
              "      <td>2.000000</td>\n",
              "      <td>NaN</td>\n",
              "      <td>NaN</td>\n",
              "      <td>NaN</td>\n",
              "      <td>1341.000000</td>\n",
              "      <td>22.000000</td>\n",
              "      <td>NaN</td>\n",
              "      <td>NaN</td>\n",
              "      <td>NaN</td>\n",
              "      <td>NaN</td>\n",
              "      <td>10306.000000</td>\n",
              "      <td>0.000000</td>\n",
              "      <td>0.000000</td>\n",
              "      <td>1.000000</td>\n",
              "      <td>NaN</td>\n",
              "      <td>4.940000e+02</td>\n",
              "      <td>1920.000000</td>\n",
              "      <td>1.000000</td>\n",
              "      <td>NaN</td>\n",
              "      <td>0.000000e+00</td>\n",
              "      <td>NaN</td>\n",
              "    </tr>\n",
              "    <tr>\n",
              "      <th>50%</th>\n",
              "      <td>3.000000</td>\n",
              "      <td>NaN</td>\n",
              "      <td>NaN</td>\n",
              "      <td>NaN</td>\n",
              "      <td>3546.000000</td>\n",
              "      <td>49.000000</td>\n",
              "      <td>NaN</td>\n",
              "      <td>NaN</td>\n",
              "      <td>NaN</td>\n",
              "      <td>NaN</td>\n",
              "      <td>11211.000000</td>\n",
              "      <td>1.000000</td>\n",
              "      <td>0.000000</td>\n",
              "      <td>1.000000</td>\n",
              "      <td>NaN</td>\n",
              "      <td>1.356000e+03</td>\n",
              "      <td>1940.000000</td>\n",
              "      <td>1.000000</td>\n",
              "      <td>NaN</td>\n",
              "      <td>4.550000e+05</td>\n",
              "      <td>NaN</td>\n",
              "    </tr>\n",
              "    <tr>\n",
              "      <th>75%</th>\n",
              "      <td>4.000000</td>\n",
              "      <td>NaN</td>\n",
              "      <td>NaN</td>\n",
              "      <td>NaN</td>\n",
              "      <td>6673.750000</td>\n",
              "      <td>375.000000</td>\n",
              "      <td>NaN</td>\n",
              "      <td>NaN</td>\n",
              "      <td>NaN</td>\n",
              "      <td>NaN</td>\n",
              "      <td>11360.000000</td>\n",
              "      <td>2.000000</td>\n",
              "      <td>0.000000</td>\n",
              "      <td>2.000000</td>\n",
              "      <td>NaN</td>\n",
              "      <td>2.280000e+03</td>\n",
              "      <td>1965.000000</td>\n",
              "      <td>2.000000</td>\n",
              "      <td>NaN</td>\n",
              "      <td>8.750000e+05</td>\n",
              "      <td>NaN</td>\n",
              "    </tr>\n",
              "    <tr>\n",
              "      <th>max</th>\n",
              "      <td>5.000000</td>\n",
              "      <td>NaN</td>\n",
              "      <td>NaN</td>\n",
              "      <td>NaN</td>\n",
              "      <td>16350.000000</td>\n",
              "      <td>9057.000000</td>\n",
              "      <td>NaN</td>\n",
              "      <td>NaN</td>\n",
              "      <td>NaN</td>\n",
              "      <td>NaN</td>\n",
              "      <td>11697.000000</td>\n",
              "      <td>750.000000</td>\n",
              "      <td>570.000000</td>\n",
              "      <td>755.000000</td>\n",
              "      <td>NaN</td>\n",
              "      <td>1.303935e+06</td>\n",
              "      <td>2019.000000</td>\n",
              "      <td>4.000000</td>\n",
              "      <td>NaN</td>\n",
              "      <td>8.500000e+08</td>\n",
              "      <td>NaN</td>\n",
              "    </tr>\n",
              "  </tbody>\n",
              "</table>\n",
              "</div>"
            ],
            "text/plain": [
              "             BOROUGH    NEIGHBORHOOD  ...    SALE_PRICE   SALE_DATE\n",
              "count   23040.000000           23040  ...  2.304000e+04       23040\n",
              "unique           NaN             252  ...           NaN         120\n",
              "top              NaN  FLUSHING-NORTH  ...           NaN  01/24/2019\n",
              "freq             NaN             685  ...           NaN         480\n",
              "mean        2.978993             NaN  ...  1.328133e+06         NaN\n",
              "std         1.258951             NaN  ...  1.025394e+07         NaN\n",
              "min         1.000000             NaN  ...  0.000000e+00         NaN\n",
              "25%         2.000000             NaN  ...  0.000000e+00         NaN\n",
              "50%         3.000000             NaN  ...  4.550000e+05         NaN\n",
              "75%         4.000000             NaN  ...  8.750000e+05         NaN\n",
              "max         5.000000             NaN  ...  8.500000e+08         NaN\n",
              "\n",
              "[11 rows x 21 columns]"
            ]
          },
          "metadata": {
            "tags": []
          },
          "execution_count": 221
        }
      ]
    },
    {
      "cell_type": "code",
      "metadata": {
        "id": "8pi1HcVl0JJB",
        "colab_type": "code",
        "colab": {
          "base_uri": "https://localhost:8080/",
          "height": 408
        },
        "outputId": "1b93e226-1a56-413d-8472-4c1f4fe437ff"
      },
      "source": [
        "# check for missing values\n",
        "df.isna().sum()"
      ],
      "execution_count": 222,
      "outputs": [
        {
          "output_type": "execute_result",
          "data": {
            "text/plain": [
              "BOROUGH                               0\n",
              "NEIGHBORHOOD                          0\n",
              "BUILDING_CLASS_CATEGORY               0\n",
              "TAX_CLASS_AT_PRESENT                  1\n",
              "BLOCK                                 0\n",
              "LOT                                   0\n",
              "EASE-MENT                         23040\n",
              "BUILDING_CLASS_AT_PRESENT             1\n",
              "ADDRESS                               0\n",
              "APARTMENT_NUMBER                  17839\n",
              "ZIP_CODE                              1\n",
              "RESIDENTIAL_UNITS                     1\n",
              "COMMERCIAL_UNITS                      1\n",
              "TOTAL_UNITS                           1\n",
              "LAND_SQUARE_FEET                     53\n",
              "GROSS_SQUARE_FEET                     1\n",
              "YEAR_BUILT                           35\n",
              "TAX_CLASS_AT_TIME_OF_SALE             0\n",
              "BUILDING_CLASS_AT_TIME_OF_SALE        0\n",
              "SALE_PRICE                            0\n",
              "SALE_DATE                             0\n",
              "dtype: int64"
            ]
          },
          "metadata": {
            "tags": []
          },
          "execution_count": 222
        }
      ]
    },
    {
      "cell_type": "code",
      "metadata": {
        "id": "mgtER-K9MyaN",
        "colab_type": "code",
        "colab": {
          "base_uri": "https://localhost:8080/",
          "height": 106
        },
        "outputId": "a4138616-a531-4a7e-b1e8-252ccba4e70e"
      },
      "source": [
        "\n",
        "df['BUILDING_CLASS_AT_PRESENT'].describe()"
      ],
      "execution_count": 223,
      "outputs": [
        {
          "output_type": "execute_result",
          "data": {
            "text/plain": [
              "count     23039\n",
              "unique      146\n",
              "top          D4\n",
              "freq       3408\n",
              "Name: BUILDING_CLASS_AT_PRESENT, dtype: object"
            ]
          },
          "metadata": {
            "tags": []
          },
          "execution_count": 223
        }
      ]
    },
    {
      "cell_type": "code",
      "metadata": {
        "id": "vaVy8Xn4N_89",
        "colab_type": "code",
        "colab": {
          "base_uri": "https://localhost:8080/",
          "height": 106
        },
        "outputId": "f5c6e7ca-9653-4284-ccdb-49f13c5c5ec8"
      },
      "source": [
        "df['BUILDING_CLASS_AT_TIME_OF_SALE'].describe()"
      ],
      "execution_count": 224,
      "outputs": [
        {
          "output_type": "execute_result",
          "data": {
            "text/plain": [
              "count     23040\n",
              "unique      147\n",
              "top          D4\n",
              "freq       3408\n",
              "Name: BUILDING_CLASS_AT_TIME_OF_SALE, dtype: object"
            ]
          },
          "metadata": {
            "tags": []
          },
          "execution_count": 224
        }
      ]
    },
    {
      "cell_type": "code",
      "metadata": {
        "id": "dJxfBxDB0WO1",
        "colab_type": "code",
        "colab": {}
      },
      "source": [
        "# drop the columns which has 90% of missing values  \n",
        "# Address has 98.5% unique  value so we can drop this\n",
        "#TAX_CLASS_AT_PRESENT has only two unique value where 99% value belong to one category\n",
        "# BUILDING_CLASS_AT_PRESENT And BUILDING_CLASS_AT_SALE looks redundant so let's drop one of them\n",
        "df= df.drop(['EASE-MENT', \"APARTMENT_NUMBER\", 'ADDRESS','TAX_CLASS_AT_PRESENT','BUILDING_CLASS_AT_PRESENT','TAX_CLASS_AT_TIME_OF_SALE'], axis=1)"
      ],
      "execution_count": 0,
      "outputs": []
    },
    {
      "cell_type": "code",
      "metadata": {
        "id": "6z8O_Jz7KkQ0",
        "colab_type": "code",
        "colab": {}
      },
      "source": [
        "# change the formate of data\n",
        "df['SALE_DATE'] = pd.to_datetime(df['SALE_DATE'], infer_datetime_format=True)\n",
        "df['YEAR_BUILT'] = pd.to_datetime(df['YEAR_BUILT'], infer_datetime_format=True)"
      ],
      "execution_count": 0,
      "outputs": []
    },
    {
      "cell_type": "code",
      "metadata": {
        "id": "z4kTU-gL7xTU",
        "colab_type": "code",
        "colab": {}
      },
      "source": [
        "#df= df[df['BUILDING_CLASS_CATEGORY']=='ONE FAMILY DWELLINGS']\n",
        "#df = df.query('BUILDING_CLASS_CATEGORY == \"ONE FAMILY DWELLINGS\"')\n",
        "#df.shape"
      ],
      "execution_count": 0,
      "outputs": []
    },
    {
      "cell_type": "code",
      "metadata": {
        "id": "c1ZSJ-mFiAsg",
        "colab_type": "code",
        "colab": {
          "base_uri": "https://localhost:8080/",
          "height": 35
        },
        "outputId": "41215edc-97a3-4e20-e383-8e9744da6982"
      },
      "source": [
        "mask = df['BUILDING_CLASS_CATEGORY'].str.contains('ONE FAMILY DWELLINGS')\n",
        "df = df.drop(['BUILDING_CLASS_CATEGORY'],axis=1)\n",
        "df=df[mask]\n",
        "df.shape"
      ],
      "execution_count": 228,
      "outputs": [
        {
          "output_type": "execute_result",
          "data": {
            "text/plain": [
              "(5061, 14)"
            ]
          },
          "metadata": {
            "tags": []
          },
          "execution_count": 228
        }
      ]
    },
    {
      "cell_type": "markdown",
      "metadata": {
        "id": "jDX20mLQ-E3I",
        "colab_type": "text"
      },
      "source": [
        "### Do train/test split. Use data from January — March 2019 to train. Use data from April 2019 to test."
      ]
    },
    {
      "cell_type": "code",
      "metadata": {
        "id": "0-rKp0JSoRYt",
        "colab_type": "code",
        "colab": {}
      },
      "source": [
        "\n",
        "# change the formate with a comma seperator for thousand and zero decimal\n",
        "#pd.options.display.float_format = '{:,.0f}'.format\n",
        "\n",
        "#create subset of the sale_price\n",
        "df= df.query('SALE_PRICE >= 100000 &  SALE_PRICE <= 2000000')"
      ],
      "execution_count": 0,
      "outputs": []
    },
    {
      "cell_type": "code",
      "metadata": {
        "id": "y3sN_-V_yc0A",
        "colab_type": "code",
        "colab": {
          "base_uri": "https://localhost:8080/",
          "height": 284
        },
        "outputId": "3834c863-80ab-43a4-e177-5377f4122f6d"
      },
      "source": [
        "df.isna().sum()\n"
      ],
      "execution_count": 230,
      "outputs": [
        {
          "output_type": "execute_result",
          "data": {
            "text/plain": [
              "BOROUGH                           0\n",
              "NEIGHBORHOOD                      0\n",
              "BLOCK                             0\n",
              "LOT                               0\n",
              "ZIP_CODE                          0\n",
              "RESIDENTIAL_UNITS                 0\n",
              "COMMERCIAL_UNITS                  0\n",
              "TOTAL_UNITS                       0\n",
              "LAND_SQUARE_FEET                  0\n",
              "GROSS_SQUARE_FEET                 0\n",
              "YEAR_BUILT                        0\n",
              "BUILDING_CLASS_AT_TIME_OF_SALE    0\n",
              "SALE_PRICE                        0\n",
              "SALE_DATE                         0\n",
              "dtype: int64"
            ]
          },
          "metadata": {
            "tags": []
          },
          "execution_count": 230
        }
      ]
    },
    {
      "cell_type": "code",
      "metadata": {
        "id": "WPw9oS-9zaXf",
        "colab_type": "code",
        "colab": {
          "base_uri": "https://localhost:8080/",
          "height": 106
        },
        "outputId": "91d702b8-d3ae-4b7f-95d2-8dec8360155e"
      },
      "source": [
        "# train the model on training data because model learn to behave very well on train data but fail miserably on new sample\n",
        "# to avoid overfiting split the data into train and test data,  create model on train data and test it on the test data\n",
        "# let's check the SALE_DATE\n",
        "# conver into datetime format and look at the date range\n",
        "df['SALE_DATE'].dt.month.value_counts()"
      ],
      "execution_count": 231,
      "outputs": [
        {
          "output_type": "execute_result",
          "data": {
            "text/plain": [
              "1    952\n",
              "3    802\n",
              "2    763\n",
              "4    647\n",
              "Name: SALE_DATE, dtype: int64"
            ]
          },
          "metadata": {
            "tags": []
          },
          "execution_count": 231
        }
      ]
    },
    {
      "cell_type": "code",
      "metadata": {
        "id": "eya5XgooQdp-",
        "colab_type": "code",
        "colab": {}
      },
      "source": [
        "df['LAND_SQUARE_FEET']= df['LAND_SQUARE_FEET'].str.replace(',', '').astype(float)"
      ],
      "execution_count": 0,
      "outputs": []
    },
    {
      "cell_type": "code",
      "metadata": {
        "id": "h2paQEQ4xcrX",
        "colab_type": "code",
        "colab": {
          "base_uri": "https://localhost:8080/",
          "height": 35
        },
        "outputId": "8183aa93-d375-4702-d86d-6a2f5d9b5ef6"
      },
      "source": [
        "cutoff = pd.to_datetime('2019-04-01')\n",
        "train= df[df['SALE_DATE'] < cutoff]\n",
        "test = df[df['SALE_DATE'] >= cutoff]\n",
        "train.shape , test.shape"
      ],
      "execution_count": 233,
      "outputs": [
        {
          "output_type": "execute_result",
          "data": {
            "text/plain": [
              "((2517, 14), (647, 14))"
            ]
          },
          "metadata": {
            "tags": []
          },
          "execution_count": 233
        }
      ]
    },
    {
      "cell_type": "markdown",
      "metadata": {
        "id": "1gpTZDlvT6xc",
        "colab_type": "text"
      },
      "source": [
        "###Simple Basline Model"
      ]
    },
    {
      "cell_type": "code",
      "metadata": {
        "id": "pIPV4i1PbJMe",
        "colab_type": "code",
        "colab": {
          "base_uri": "https://localhost:8080/",
          "height": 35
        },
        "outputId": "804bf8bc-a4f1-436a-dcd1-4482e7dcc368"
      },
      "source": [
        "train['SALE_PRICE'].mean()"
      ],
      "execution_count": 234,
      "outputs": [
        {
          "output_type": "execute_result",
          "data": {
            "text/plain": [
              "621011.2721493841"
            ]
          },
          "metadata": {
            "tags": []
          },
          "execution_count": 234
        }
      ]
    },
    {
      "cell_type": "markdown",
      "metadata": {
        "id": "TueN4-H2bXC-",
        "colab_type": "text"
      },
      "source": [
        "A baseline for regression can be the mean of the training labels.\n",
        "\n",
        "Baseline prediction for sale price is $623855"
      ]
    },
    {
      "cell_type": "code",
      "metadata": {
        "id": "xBjMVaWfALIQ",
        "colab_type": "code",
        "colab": {}
      },
      "source": [
        "# mask = ((df['BUILDING_CLASS_CATEGORY']==' 01 ONE FAMILY DWELLING') & ((df['SALE_PRICE'] > 100000) & (df['SALE_PRICE']< 2000000)))\n",
        "#df= df[mask] "
      ],
      "execution_count": 0,
      "outputs": []
    },
    {
      "cell_type": "markdown",
      "metadata": {
        "id": "bcTT0eno1c2T",
        "colab_type": "text"
      },
      "source": [
        "###Do exploratory visualizations with Seaborn."
      ]
    },
    {
      "cell_type": "markdown",
      "metadata": {
        "id": "DsadUpB5xq7I",
        "colab_type": "text"
      },
      "source": [
        "###GROSS_SQUARE_FEET vs SALE_PRICE AND LAND_SQUARE_FEET vs SALE_PRICE"
      ]
    },
    {
      "cell_type": "code",
      "metadata": {
        "id": "1veQ0Ibm1Fs_",
        "colab_type": "code",
        "colab": {
          "base_uri": "https://localhost:8080/",
          "height": 617
        },
        "outputId": "5d8184f0-106d-49a7-e040-4dbe1e5020db"
      },
      "source": [
        " import plotly.express as px\n",
        " px.scatter(train, x= 'GROSS_SQUARE_FEET', y= 'SALE_PRICE', trendline= 'ols' , color= 'SALE_PRICE', opacity= 0.5)"
      ],
      "execution_count": 236,
      "outputs": [
        {
          "output_type": "display_data",
          "data": {
            "text/html": [
              "<html>\n",
              "<head><meta charset=\"utf-8\" /></head>\n",
              "<body>\n",
              "    <div>\n",
              "            <script src=\"https://cdnjs.cloudflare.com/ajax/libs/mathjax/2.7.5/MathJax.js?config=TeX-AMS-MML_SVG\"></script><script type=\"text/javascript\">if (window.MathJax) {MathJax.Hub.Config({SVG: {font: \"STIX-Web\"}});}</script>\n",
              "                <script type=\"text/javascript\">window.PlotlyConfig = {MathJaxConfig: 'local'};</script>\n",
              "        <script src=\"https://cdn.plot.ly/plotly-latest.min.js\"></script>    \n",
              "            <div id=\"8fe33f15-f2f1-4eb2-ba06-5b67cf670243\" class=\"plotly-graph-div\" style=\"height:600px; width:100%;\"></div>\n",
              "            <script type=\"text/javascript\">\n",
              "                \n",
              "                    window.PLOTLYENV=window.PLOTLYENV || {};\n",
              "                    \n",
              "                if (document.getElementById(\"8fe33f15-f2f1-4eb2-ba06-5b67cf670243\")) {\n",
              "                    Plotly.newPlot(\n",
              "                        '8fe33f15-f2f1-4eb2-ba06-5b67cf670243',\n",
              "                        [{\"hoverlabel\": {\"namelength\": 0}, \"hovertemplate\": \"GROSS_SQUARE_FEET=%{x}<br>SALE_PRICE=%{marker.color}\", \"legendgroup\": \"\", \"marker\": {\"color\": [550000, 200000, 810000, 125000, 620000, 1150000, 836500, 955000, 820000, 980000, 430000, 700000, 448000, 670000, 1390000, 540000, 520000, 480000, 570000, 552000, 505000, 357500, 670000, 549000, 970000, 800000, 450000, 330000, 575000, 450000, 743000, 445000, 255000, 750000, 985000, 958000, 1440000, 200000, 930000, 990000, 810000, 670000, 1030000, 900000, 940000, 445000, 710000, 998000, 950000, 470000, 480000, 757504, 350000, 717359, 926608, 585500, 493000, 615000, 646589, 470000, 510000, 1705000, 643750, 465000, 320000, 730000, 300000, 494000, 670000, 525000, 640000, 870000, 780000, 350000, 1490000, 555000, 550000, 685000, 825000, 435000, 810000, 224094, 512275, 520000, 494500, 450000, 460000, 1290000, 890000, 530000, 445000, 452465, 560000, 440000, 625000, 588005, 420000, 416000, 570000, 335000, 108000, 1575000, 350000, 795000, 1100000, 670000, 760000, 645000, 650000, 492000, 590000, 830000, 330000, 590000, 646000, 446000, 550000, 640000, 445000, 646589, 639461, 520000, 125000, 349500, 700000, 355000, 355000, 200000, 499000, 265000, 300000, 980000, 1100000, 750000, 1163359, 710000, 915000, 350000, 1250000, 840000, 605000, 350000, 915000, 999999, 425000, 414987, 208000, 408000, 220000, 1872562, 830000, 410000, 395000, 555000, 443800, 743323, 539900, 763688, 889000, 572500, 632000, 465000, 340000, 400000, 395000, 470000, 510000, 821000, 529000, 650000, 859000, 790000, 1700000, 980000, 385000, 580000, 880888, 859000, 1153000, 788000, 990000, 825000, 515000, 840000, 600000, 1710660, 520000, 660000, 479000, 520000, 490000, 500000, 240000, 550000, 1218300, 500000, 540000, 500000, 580000, 515000, 100000, 1530000, 460000, 1750000, 380250, 990000, 405600, 820000, 210000, 499500, 415000, 300000, 850000, 885000, 1400000, 500000, 255000, 624000, 601000, 575000, 370000, 534560, 620000, 335000, 269500, 641000, 619000, 413950, 545000, 350000, 880000, 540000, 471500, 673330, 566368, 120000, 565000, 510569, 125000, 790000, 415000, 740000, 550000, 365000, 570000, 700000, 490000, 660000, 525000, 508402, 305000, 1400000, 430000, 357000, 450000, 1250000, 560000, 130000, 225000, 305000, 910000, 905000, 985000, 958000, 700000, 830000, 536000, 680000, 660000, 640000, 1280000, 630000, 529000, 390000, 425000, 680000, 850000, 531000, 250000, 539000, 775000, 599900, 475000, 475000, 600768, 749000, 781000, 675000, 599000, 499000, 490000, 630000, 460000, 490000, 780000, 1850000, 250000, 294000, 1500000, 965000, 487000, 100000, 380000, 650000, 730000, 112000, 499999, 680000, 342000, 742000, 515000, 450000, 100000, 100000, 790000, 740000, 875000, 735000, 560000, 599000, 390000, 508500, 860000, 590585, 457500, 320000, 510000, 390000, 328600, 440000, 820000, 912500, 465000, 650000, 439000, 210000, 950000, 1685000, 599000, 405235, 970000, 1465000, 455000, 605394, 640000, 790000, 770000, 950000, 420000, 570000, 900000, 489600, 773000, 420000, 361000, 198000, 278000, 450000, 430000, 503000, 527500, 366877, 385000, 346029, 373692, 988000, 495000, 450000, 485000, 230000, 444000, 350000, 311912, 559144, 550000, 695000, 575000, 589000, 475000, 250000, 1440000, 570000, 458800, 560000, 590000, 456300, 223000, 575000, 820000, 381550, 1025000, 699000, 1100000, 505000, 575000, 500000, 250000, 400000, 625000, 650000, 850000, 925000, 445000, 1295000, 700000, 763000, 615000, 114000, 630000, 665000, 515000, 517000, 850000, 600000, 700000, 597000, 352746, 900000, 875000, 570000, 455000, 499999, 375180, 410000, 515000, 780000, 1240000, 515000, 1200000, 385000, 818000, 1415000, 1165000, 1050000, 1600000, 1260000, 865000, 748000, 635000, 1675000, 985000, 885000, 790000, 679000, 280000, 800000, 670000, 641000, 450000, 390000, 485000, 463000, 467000, 446000, 610000, 579000, 490000, 451000, 770000, 990000, 440000, 360000, 600000, 607000, 585494, 533000, 860000, 415000, 685000, 580000, 1450000, 285075, 525000, 1120075, 360000, 265000, 245000, 475000, 512000, 510000, 334650, 990000, 900000, 335000, 1900000, 560000, 595000, 600000, 848000, 1250000, 800000, 1500000, 658000, 1578288, 1075000, 990000, 105000, 560038, 829000, 485000, 638000, 230000, 740000, 995000, 554500, 603500, 550000, 460000, 459500, 204800, 253000, 362900, 479000, 396000, 350000, 335000, 610000, 480000, 499000, 582500, 620000, 485000, 630000, 590000, 697000, 555000, 500000, 600000, 950000, 340000, 150000, 423000, 499000, 658820, 530000, 1150000, 1573500, 500000, 486000, 550000, 380000, 644000, 730000, 851000, 730000, 475000, 732000, 835000, 200000, 990000, 925000, 990000, 1200000, 560000, 525000, 489000, 160000, 380000, 385000, 740000, 1090000, 498000, 498900, 490000, 555000, 590000, 469900, 620000, 565000, 405000, 425000, 307000, 450000, 243360, 445000, 795000, 450000, 655498, 529791, 795000, 988000, 729000, 400000, 830000, 675000, 890000, 850000, 515000, 899888, 700000, 277000, 760000, 630000, 770000, 825000, 600000, 1015000, 715000, 371000, 365040, 500000, 975000, 781000, 396000, 275000, 400530, 580000, 112000, 1125000, 470000, 575210, 800000, 772500, 963538, 477000, 415000, 420810, 360500, 369000, 365000, 241000, 555000, 465000, 540750, 740000, 332000, 499000, 301665, 1500000, 683000, 560000, 499000, 1775000, 450000, 211650, 715000, 780000, 905000, 555000, 820000, 715000, 628900, 838000, 795000, 560000, 435000, 610000, 618000, 960000, 555000, 532000, 670000, 375000, 450000, 100000, 342000, 435000, 245500, 720000, 520000, 515000, 555000, 399888, 370023, 850000, 540000, 210000, 449000, 430000, 334620, 265000, 248132, 373600, 362000, 415000, 453124, 620000, 550000, 300000, 835000, 550000, 614000, 568600, 1060000, 479000, 181875, 490000, 991670, 1425000, 1570000, 800000, 777000, 690000, 800000, 650000, 660000, 950000, 747000, 785000, 700000, 712000, 710000, 730000, 990000, 1031285, 1120413, 515000, 485000, 565000, 545000, 400000, 325000, 440000, 495000, 656000, 590000, 250000, 475000, 760000, 500000, 410000, 492000, 525000, 485000, 240000, 745000, 247850, 445000, 384500, 822500, 375000, 525000, 760000, 450000, 540000, 980000, 1150000, 760000, 999000, 799000, 600000, 425000, 832500, 515000, 720000, 655000, 640000, 990000, 740000, 450000, 590000, 965000, 668900, 1180000, 390000, 255000, 499931, 705094, 266667, 539000, 568000, 475000, 525000, 248000, 678000, 385000, 450000, 755000, 440000, 430000, 1050000, 1452500, 573000, 575000, 440000, 425000, 575000, 670000, 500000, 230000, 688888, 835000, 740000, 290000, 535000, 340000, 175000, 639000, 845000, 700000, 740000, 915000, 1600000, 1050000, 630000, 640000, 730000, 525000, 1870000, 500000, 609000, 220000, 415000, 499999, 650000, 529000, 940000, 1552831, 1200000, 282000, 550000, 860000, 495000, 595676, 800000, 572000, 445000, 499000, 400000, 450000, 230000, 438000, 480000, 150000, 298100, 1100000, 175000, 530000, 500000, 650000, 615000, 935000, 830000, 550000, 640000, 610000, 836000, 784053, 915000, 750000, 685000, 300000, 640000, 785000, 518500, 490000, 228000, 600000, 470000, 630000, 540000, 622000, 360000, 322500, 480000, 645000, 755000, 489000, 470000, 620000, 623169, 705000, 420000, 719000, 350000, 575311, 174300, 544000, 618000, 450000, 480000, 145000, 430000, 565000, 475000, 406282, 327500, 560000, 565000, 325000, 160000, 515000, 920000, 335000, 158600, 600000, 985000, 470000, 522500, 1275000, 727000, 664000, 1085000, 610000, 520000, 699000, 825000, 950000, 382621, 512000, 436800, 770000, 550000, 679189, 915000, 769000, 200000, 547000, 224000, 610000, 650000, 625000, 450000, 1500000, 1080000, 607856, 1390000, 740000, 469625, 540000, 450000, 400000, 547500, 495000, 365000, 495000, 359970, 470000, 590000, 235000, 536500, 362500, 218000, 455000, 545000, 499800, 620000, 830000, 442900, 390000, 650000, 235000, 625000, 672000, 590000, 645000, 585000, 465000, 390000, 350000, 485000, 435000, 500000, 320000, 390000, 430000, 578000, 870000, 668500, 1330000, 345000, 415000, 394272, 850000, 366211, 720000, 900000, 425000, 775000, 327631, 660000, 675000, 720000, 530000, 380000, 850000, 775000, 580000, 475000, 340000, 435000, 428480, 815000, 605000, 465545, 468000, 279000, 590000, 618500, 521500, 435000, 480000, 790000, 575000, 459000, 475000, 485000, 460000, 428665, 500000, 1955000, 591000, 610000, 708000, 950000, 605000, 669000, 950000, 475000, 1500000, 745000, 855000, 340000, 795000, 380000, 465000, 410000, 587400, 600000, 655000, 350000, 375000, 380000, 245000, 608400, 231500, 1202000, 1925000, 1550000, 500000, 1400000, 659500, 833000, 750000, 860000, 525000, 825000, 800000, 720000, 575000, 656766, 650000, 720000, 530000, 470000, 370000, 495000, 227302, 490000, 336000, 626224, 620000, 250000, 634000, 600000, 600000, 345163, 510000, 445000, 700000, 700000, 1850000, 810000, 508605, 1175000, 499371, 615000, 1235000, 1200000, 457920, 505000, 443000, 302000, 1117500, 800000, 273600, 1100000, 496460, 141088, 529000, 470000, 1075000, 1950000, 690000, 1165000, 515510, 425000, 740000, 1075000, 990000, 850000, 519000, 620000, 330000, 810000, 780000, 500000, 130000, 555000, 365625, 380000, 463500, 280000, 695000, 499412, 651680, 700000, 400000, 307668, 590585, 569000, 570000, 229430, 550000, 383593, 825000, 524804, 430000, 518340, 590000, 380250, 464000, 1630000, 1630000, 1100000, 535000, 605000, 1400000, 855000, 760000, 562500, 2000000, 667800, 1235000, 932500, 790000, 572000, 315000, 440000, 680000, 970000, 650000, 1460000, 715000, 800000, 500000, 1125000, 269302, 934350, 310000, 650000, 868000, 420000, 535000, 250000, 510000, 880000, 788000, 480000, 880000, 145000, 740000, 590000, 536750, 234234, 555000, 490000, 545000, 250000, 500000, 999500, 501930, 1445000, 863000, 600000, 920000, 870000, 1700000, 670000, 275000, 481000, 560000, 425000, 540000, 580000, 295000, 416000, 404250, 499000, 570000, 948578, 400000, 525000, 520000, 650000, 500000, 990000, 447000, 445000, 850000, 690000, 738231, 350000, 500000, 900000, 1200000, 253950, 427523, 274092, 780000, 650000, 995000, 519000, 810000, 671000, 849000, 865000, 499999, 1099200, 1625000, 900000, 525000, 450000, 180500, 1225000, 395000, 194000, 520000, 423000, 411684, 550000, 200000, 560038, 595000, 540000, 326000, 560000, 360000, 524349, 575000, 579000, 420000, 371848, 182500, 600000, 540000, 830000, 1325000, 890000, 1090000, 515000, 655000, 1150000, 975000, 812000, 779000, 530000, 815000, 380000, 420000, 175000, 424000, 582000, 865000, 1440000, 508000, 610950, 850000, 550000, 438000, 240000, 595000, 485000, 540000, 500000, 490000, 624000, 556000, 714800, 680000, 444000, 650000, 500000, 499000, 690000, 1655000, 1125000, 430000, 1215000, 645000, 629000, 885000, 600000, 630000, 994000, 266000, 630000, 880000, 440000, 175000, 520000, 531250, 768328, 620000, 635000, 216500, 400000, 575000, 363000, 554946, 596695, 457314, 592000, 550000, 369770, 515000, 479000, 589000, 890000, 575000, 240000, 495000, 440000, 499000, 645000, 910000, 1289120, 635000, 360000, 617000, 775000, 880000, 1420000, 695000, 157277, 750000, 970000, 480000, 500000, 900000, 620000, 777000, 563000, 650000, 487500, 377500, 560000, 224000, 237500, 450000, 362900, 465000, 361998, 480000, 560000, 625000, 490000, 900000, 760000, 463900, 399000, 340000, 485000, 770000, 750000, 249000, 150000, 940000, 414400, 605000, 495000, 401000, 578000, 650000, 429000, 360000, 474000, 930000, 690000, 390000, 1325000, 390000, 632000, 530000, 1095000, 930000, 725000, 730000, 525000, 545000, 490000, 890000, 290000, 845000, 476768, 345000, 160000, 528000, 526500, 470000, 520000, 499000, 610000, 640000, 450000, 743323, 275000, 600000, 630297, 1400000, 912500, 915000, 549000, 400000, 830000, 700000, 679000, 1290000, 1614600, 899000, 550000, 180000, 403000, 930000, 550000, 350000, 525000, 640000, 480000, 410000, 615000, 485000, 525000, 263133, 400000, 468400, 721939, 352500, 710000, 360000, 465000, 840000, 402600, 552910, 625000, 610000, 505000, 303000, 330000, 720000, 488000, 953000, 980000, 679000, 580000, 440000, 815000, 640000, 175000, 520000, 865000, 525000, 720000, 700000, 679000, 485000, 465000, 444000, 525000, 547000, 425000, 625000, 180000, 365000, 318000, 306000, 635045, 651680, 689100, 496888, 295000, 497000, 475000, 310000, 440000, 500000, 568960, 216489, 380000, 460000, 579000, 699000, 440000, 570000, 840000, 630000, 251155, 1130000, 825000, 872000, 1070000, 870000, 352500, 390000, 958317, 725000, 860000, 785000, 673000, 300000, 340000, 835000, 925000, 593000, 182000, 1340000, 515000, 400000, 505000, 635000, 252000, 320000, 525000, 675000, 404000, 695000, 607000, 275000, 515000, 850000, 697501, 550000, 614000, 409500, 360000, 276822, 385000, 336000, 762669, 390000, 410000, 600000, 617000, 630000, 210000, 612000, 605000, 398000, 1142500, 648000, 889000, 1150000, 900000, 820000, 1325000, 525000, 760000, 907000, 1048800, 585000, 600000, 565000, 606279, 565000, 657906, 175000, 300000, 525000, 540000, 499000, 499990, 721939, 536000, 1036000, 410000, 539000, 495000, 490000, 355000, 431000, 478000, 485000, 189270, 565000, 439931, 416981, 610000, 700000, 900000, 890000, 878000, 1158000, 693000, 940000, 933800, 620000, 725000, 545000, 160000, 888000, 720000, 940000, 883000, 570000, 510000, 301000, 450000, 260000, 939000, 480000, 647000, 595000, 350000, 113348, 610000, 563000, 273780, 470000, 780000, 1358500, 585000, 680000, 920000, 999000, 550000, 660000, 725000, 532000, 600000, 900000, 668000, 218000, 585000, 800000, 730000, 750000, 685000, 708400, 862000, 710000, 605000, 610000, 550000, 1250000, 950000, 562500, 525000, 430000, 537500, 523000, 480000, 552000, 919000, 1120075, 300000, 605000, 485000, 445000, 549000, 625000, 970000, 560000, 520000, 990000, 880000, 136000, 1210000, 280000, 620000, 610000, 336000, 550000, 1620000, 831000, 235000, 1140000, 999000, 800000, 346500, 1140000, 700000, 967000, 620000, 375000, 375000, 1020000, 920000, 475000, 705000, 510000, 350000, 335000, 500000, 800000, 639000, 220000, 325000, 800000, 201000, 460000, 419900, 535000, 225000, 400000, 400000, 900000, 100000, 464000, 510000, 299000, 460000, 870000, 380000, 520000, 584284, 515000, 555000, 571000, 580000, 687000, 436600, 333600, 410000, 540000, 660000, 1125000, 585000, 309000, 145000, 567000, 635000, 989000, 499500, 851000, 800000, 1450000, 600000, 575000, 668000, 350000, 400000, 550000, 319600, 1150000, 800000, 600000, 240000, 465000, 400000, 585000, 515000, 560038, 475000, 550000, 499000, 500000, 285000, 500000, 1270000, 415000, 666588, 770000, 645000, 640000, 400000, 525000, 1125000, 599000, 595000, 445000, 994517, 530000, 564796, 895000, 460000, 525000, 160673, 560000, 570000, 560000, 480000, 460000, 515000, 984000, 510000, 509600, 1220000, 1150000, 100000, 600000, 750000, 1700000, 860500, 459000, 560000, 540000, 510365, 590000, 494000, 200000, 560000, 470000, 500000, 585000, 451230, 490000, 270000, 329000, 739000, 324480, 350000, 320000, 353379, 645000, 600000, 425880, 800000, 930000, 875000, 715000, 875000, 740000, 485000, 710000, 499750, 1850000, 493000, 995000, 610000, 1425000, 615000, 733140, 672045, 670000, 355000, 422000, 150000, 467500, 495000, 580000, 912000, 500000, 210000, 595000, 1400000, 1668500, 600000, 700000, 730000, 414000, 1310000, 950000, 580000, 900000, 990000, 570000, 410000, 485000, 376000, 376000, 600000, 480000, 820000, 715000, 452998, 544719, 535000, 800000, 465000, 683000, 420000, 351000, 470000, 599000, 115000, 930000, 800000, 612000, 468468, 440000, 152000, 760000, 1084000, 450000, 500599, 750000, 985000, 845000, 890000, 510000, 471000, 510000, 275000, 545000, 715500, 795000, 385000, 400000, 899000, 900000, 400000, 595000, 215000, 450000, 380000, 609000, 410000, 250000, 800000, 473500, 535000, 692240, 495000, 870604, 650000, 250000, 450000, 485000, 638600, 630000, 250000, 450000, 250000, 1385000, 305000, 700000, 575000, 520000, 602000, 314500, 1122000, 750000, 650000, 500000, 791000, 905000, 928000, 600000, 595000, 250000, 390000, 321000, 700000, 375000, 392000, 938486, 270000, 306228, 650000, 444132, 440000, 499999, 490000, 270480, 325000, 475000, 168000, 500585, 740000, 430000, 575000, 580000, 350000, 635000, 877500, 495000, 510000, 560000, 585000, 565000, 635000, 850000, 1400000, 1100000, 455000, 975000, 586000, 330000, 835000, 820000, 725000, 1465000, 835000, 829000, 465000, 538000, 396000, 500000, 1600000, 585000, 500000, 268000, 270000, 440000, 540000, 375000, 665000, 505000, 480000, 621133, 280980, 197000, 532000, 418000, 330000, 500000, 450000, 435000, 525000, 250000, 575000, 2000000, 700000, 650000, 605000, 700000, 865000, 665000, 500000, 995000, 362000, 375000, 360000, 525000, 470000, 370000, 560000, 125000, 667000, 635000, 495000, 489000, 350000, 490000, 222500, 393000, 495000, 150000, 805000, 525000, 799000, 620000, 1265000, 640000, 1175000, 365000, 455000, 1060000, 731300, 905000, 810000, 200000, 639000, 825000, 375000, 380250, 520000, 595000, 314820, 325500, 1650000, 1850000, 646588, 420000, 405600, 280000, 600000, 630000, 499990, 445000, 763688, 225000, 550000, 570000, 990000, 735000, 860000, 370800, 728000, 1200000, 610000, 432000, 1357000, 630000, 997000, 1070000, 701083, 900000, 650000, 690000, 740000, 369900, 460000, 600000, 365000, 936000, 795000, 565000, 430000, 333000, 465000, 580000, 361000, 475000, 515000, 435000, 360000, 610000, 580000, 284000, 555000, 525000, 560038, 480000, 520000, 1500000, 804718, 550000, 550000, 480000, 905000, 840000, 550000, 470000, 1695000, 995000, 300000, 755000, 675000, 395000, 382500, 468000, 450000, 605000, 750000, 450000, 280000, 575000, 281250, 720000, 738231, 510000, 610949, 344760, 540000, 395000, 290000, 295000, 950000, 550000, 275000, 320000, 1640000, 743561, 582000, 748000, 990000, 615000, 700000, 948500, 855000, 1050000, 525000, 821750, 625000, 469000, 525000, 1320000, 465000, 437750, 445000, 390000, 552000, 850000, 412000, 480000, 465000, 441000, 700000, 460000, 860421, 465500, 804416, 110000, 580000, 400000, 799000, 550000, 1049000, 1210950, 901000, 1200000, 580000, 280000, 950000, 625000, 430000, 270000, 285000, 639900, 250750, 770000, 560000, 610000, 692410, 265000, 545000, 615000, 750000, 679000, 275000, 197600, 400000, 595000, 232000, 750000, 928000, 1290000, 339690, 348156, 735000, 800000, 659000, 477387, 386000, 610000, 810000, 490000, 524700, 387000, 349700, 435000, 650000, 1100000, 905000, 560000, 377500, 224829, 531000, 155500, 328410, 499990, 433000, 210000, 825000, 541000, 213600, 450000, 319100, 602000, 575000, 710000, 590000, 880000, 989000, 730000, 910000, 830000, 999999, 850000, 640000, 370000, 457821, 650000, 280000, 586000, 498000, 525000, 550000, 910000, 885000, 490000, 540000, 451230, 525000, 475000, 100000, 361722, 720000, 568750, 542000, 806000, 330000, 550000, 395000, 490000, 457000, 350000, 655000, 690000, 1128508, 615000, 133500, 1450000, 800000, 500000, 905000, 935000, 900000, 800000, 780000, 818000, 950000, 470000, 450000, 306135, 580000, 465593, 251000, 265000, 530000, 490000, 657558, 557000, 510000, 380000, 1358000, 815000, 530000, 675000, 627000, 380000, 252400, 530000, 550000, 425000, 1562000, 400000, 300000, 640000, 857000, 530000, 555000, 510000, 675343, 820000, 1350000, 1150000, 1400000, 999000, 531260, 1491000, 640000, 715000, 300000, 905000, 880000, 788000, 805000, 226667, 1180000, 596900, 420000, 670000, 565000, 361092, 615000, 830000, 400000, 700000, 550000, 685000, 400000, 775000, 415000, 750000, 465000, 324480, 356310, 632500, 560000, 335000, 410000, 420000, 390000, 856900, 485000, 390500, 590000, 665000, 550000, 490000, 725000, 589000, 940000, 650000, 600000, 815000, 1168000, 500000, 473800, 400000, 700000, 680000, 462500, 450000, 535000, 455000, 228150, 272000, 180000, 340000, 285000, 350000, 525000, 1525000, 460000, 355000, 1150000, 890000, 310000, 645000, 925000, 850000, 1525000, 750000, 630000, 949000, 895000, 855000, 660000, 615000, 950000, 435000, 795000, 1650000, 280000, 999600, 460000, 418000, 490000, 401544, 465000, 702000, 380000, 620000, 835000, 1485000, 335000, 300000, 440000, 545000, 662000, 522000, 579000, 413000, 516000, 804124, 390390, 661863, 1170988, 461370, 520000, 300000, 404250, 400000, 510000, 326864, 460000, 282755, 1500000, 1375000, 474226, 680000, 620000, 250000, 880000, 677500, 715000, 1400000, 570000, 1100000, 1100000, 1675000, 1475000, 992500, 788000, 540000, 350000, 750000, 880000, 1150000, 690000, 700000, 710000, 760000, 1876000, 675000, 463146, 354500, 240000, 585000, 395000, 425000, 540000, 417000, 444558, 267000, 412600, 537500, 541709, 1053000, 760000, 540000, 570000, 130000, 465000, 535000, 520000, 515000, 475000, 500000, 330000, 690000, 610949, 520000, 104000], \"coloraxis\": \"coloraxis\", \"opacity\": 0.5, \"symbol\": \"circle\"}, \"mode\": \"markers\", \"name\": \"\", \"showlegend\": false, \"type\": \"scattergl\", \"x\": [1325.0, 2001.0, 2043.0, 2680.0, 1872.0, 1932.0, 1722.0, 1396.0, 1260.0, 1440.0, 1831.0, 1000.0, 1540.0, 1782.0, 3203.0, 1535.0, 1280.0, 1426.0, 900.0, 2278.0, 1392.0, 736.0, 1850.0, 1296.0, 1869.0, 1120.0, 3004.0, 1280.0, 1949.0, 1368.0, 2394.0, 1296.0, 1544.0, 1344.0, 2222.0, 1480.0, 1780.0, 2808.0, 1184.0, 1638.0, 1601.0, 1530.0, 1418.0, 3228.0, 2175.0, 1540.0, 1758.0, 880.0, 1120.0, 1377.0, 1216.0, 1487.0, 1008.0, 880.0, 2208.0, 2130.0, 1645.0, 2087.0, 1888.0, 1428.0, 1230.0, 3050.0, 1557.0, 1620.0, 1727.0, 1748.0, 2877.0, 1134.0, 784.0, 1036.0, 1316.0, 1086.0, 1080.0, 1592.0, 2268.0, 1422.0, 1080.0, 864.0, 1332.0, 1528.0, 1344.0, 540.0, 1258.0, 1440.0, 1280.0, 1190.0, 1380.0, 1190.0, 1280.0, 1440.0, 1399.0, 1455.0, 1384.0, 1060.0, 1252.0, 2160.0, 1152.0, 1620.0, 1782.0, 1485.0, 1400.0, 1982.0, 1134.0, 1500.0, 1072.0, 1024.0, 1008.0, 1248.0, 1428.0, 1031.0, 1653.0, 1913.0, 1104.0, 1648.0, 1234.0, 1000.0, 1688.0, 988.0, 900.0, 1888.0, 1888.0, 1600.0, 944.0, 2700.0, 2365.0, 1900.0, 1965.0, 1440.0, 1660.0, 992.0, 1620.0, 1440.0, 1812.0, 1360.0, 2063.0, 744.0, 1088.0, 0.0, 2360.0, 1860.0, 1023.0, 1683.0, 1214.0, 1844.0, 1428.0, 969.0, 1328.0, 1600.0, 1200.0, 2455.0, 2052.0, 1008.0, 1152.0, 1345.0, 1200.0, 2814.0, 1360.0, 1578.0, 2205.0, 1200.0, 1450.0, 1648.0, 1100.0, 1280.0, 1116.0, 1360.0, 880.0, 1991.0, 1452.0, 956.0, 1840.0, 1282.0, 1434.0, 1594.0, 0.0, 1650.0, 1610.0, 1612.0, 2050.0, 1464.0, 1300.0, 1454.0, 1836.0, 1560.0, 1224.0, 1999.0, 1184.0, 1312.0, 912.0, 840.0, 1330.0, 1980.0, 1314.0, 1800.0, 2406.0, 1248.0, 1480.0, 870.0, 1394.0, 1440.0, 760.0, 2916.0, 1836.0, 2640.0, 2007.0, 1024.0, 1500.0, 1448.0, 1648.0, 1180.0, 1064.0, 864.0, 1632.0, 1296.0, 2596.0, 1432.0, 1444.0, 1378.0, 1324.0, 1170.0, 1176.0, 910.0, 1522.0, 1288.0, 1368.0, 1504.0, 1035.0, 1608.0, 1623.0, 1224.0, 1144.0, 912.0, 960.0, 1400.0, 1496.0, 600.0, 2008.0, 1640.0, 1520.0, 1975.0, 704.0, 1896.0, 1144.0, 1160.0, 2140.0, 2187.0, 1914.0, 1980.0, 1600.0, 1998.0, 1044.0, 1760.0, 1116.0, 828.0, 1134.0, 3000.0, 1370.0, 0.0, 0.0, 1125.0, 2112.0, 1789.0, 1374.0, 1318.0, 2000.0, 1330.0, 1105.0, 1586.0, 1116.0, 1776.0, 1426.0, 1962.0, 1808.0, 960.0, 940.0, 1050.0, 2416.0, 1304.0, 900.0, 1050.0, 1813.0, 1400.0, 1200.0, 1120.0, 1622.0, 2600.0, 2300.0, 2650.0, 1242.0, 1360.0, 1650.0, 1088.0, 1520.0, 1512.0, 2048.0, 2608.0, 1776.0, 1476.0, 1751.0, 1910.0, 1056.0, 1280.0, 1172.0, 1224.0, 2101.0, 1476.0, 1683.0, 1760.0, 1400.0, 976.0, 1110.0, 1778.0, 1126.0, 1086.0, 1568.0, 625.0, 1144.0, 1434.0, 1564.0, 1182.0, 1080.0, 1050.0, 2888.0, 1466.0, 1188.0, 1116.0, 1224.0, 1908.0, 0.0, 1186.0, 1030.0, 1280.0, 1248.0, 1118.0, 680.0, 676.0, 1635.0, 2831.0, 1036.0, 1038.0, 1680.0, 1660.0, 1438.0, 1152.0, 1125.0, 1831.0, 1831.0, 1995.0, 1040.0, 1726.0, 821.0, 1232.0, 1440.0, 1360.0, 930.0, 748.0, 861.0, 1248.0, 1304.0, 1088.0, 1240.0, 874.0, 1402.0, 1296.0, 1440.0, 1870.0, 1496.0, 1280.0, 1245.0, 375.0, 1600.0, 1672.0, 1232.0, 2184.0, 1160.0, 1776.0, 1112.0, 1616.0, 850.0, 912.0, 2550.0, 1732.0, 1216.0, 2210.0, 1036.0, 1296.0, 2328.0, 2040.0, 1274.0, 1452.0, 1312.0, 876.0, 1920.0, 1436.0, 1552.0, 0.0, 0.0, 0.0, 1358.0, 1152.0, 1300.0, 1632.0, 1540.0, 2264.0, 1520.0, 1332.0, 1312.0, 1206.0, 1620.0, 1557.0, 1890.0, 960.0, 1282.0, 1312.0, 560.0, 1552.0, 1408.0, 1664.0, 1890.0, 800.0, 2393.0, 1012.0, 1280.0, 1200.0, 1712.0, 1260.0, 2124.0, 1148.0, 2288.0, 1056.0, 1532.0, 2878.0, 1800.0, 1568.0, 3680.0, 1780.0, 1066.0, 1267.0, 1092.0, 1765.0, 1424.0, 1551.0, 2538.0, 1765.0, 1089.0, 1225.0, 1368.0, 1216.0, 992.0, 1356.0, 1170.0, 1245.0, 1248.0, 896.0, 900.0, 1076.0, 1360.0, 1200.0, 1424.0, 1580.0, 1536.0, 944.0, 1050.0, 2275.0, 1600.0, 1344.0, 3096.0, 944.0, 960.0, 2364.0, 4394.0, 1728.0, 1192.0, 2900.0, 1312.0, 1014.0, 960.0, 1944.0, 1729.0, 1944.0, 1400.0, 1820.0, 1494.0, 960.0, 3316.0, 1660.0, 918.0, 3000.0, 1198.0, 2472.0, 698.0, 2705.0, 1216.0, 2261.0, 990.0, 2200.0, 1205.0, 1976.0, 2096.0, 2248.0, 1444.0, 683.0, 1292.0, 1512.0, 1142.0, 1552.0, 1382.0, 1400.0, 1210.0, 885.0, 952.0, 1208.0, 1520.0, 960.0, 1428.0, 1812.0, 2158.0, 1638.0, 1539.0, 1920.0, 1440.0, 1450.0, 2660.0, 1600.0, 1104.0, 1440.0, 1100.0, 660.0, 1362.0, 1360.0, 1200.0, 960.0, 1575.0, 1424.0, 1820.0, 1560.0, 3200.0, 1320.0, 1800.0, 1344.0, 1240.0, 1330.0, 1008.0, 1408.0, 1120.0, 1020.0, 1050.0, 860.0, 1296.0, 1755.0, 1526.0, 1329.0, 1290.0, 1210.0, 720.0, 896.0, 1280.0, 1160.0, 1238.0, 1566.0, 1440.0, 910.0, 1020.0, 1110.0, 1440.0, 1044.0, 1232.0, 2242.0, 704.0, 1210.0, 1708.0, 1140.0, 1244.0, 1995.0, 1617.0, 2475.0, 1160.0, 2612.0, 1480.0, 2660.0, 1600.0, 784.0, 2500.0, 1170.0, 1460.0, 1104.0, 3836.0, 1036.0, 1090.0, 1520.0, 0.0, 1360.0, 1950.0, 1216.0, 2100.0, 1750.0, 1776.0, 1668.0, 2003.0, 1344.0, 1720.0, 1114.0, 1796.0, 1238.0, 800.0, 1480.0, 1632.0, 1508.0, 952.0, 1700.0, 2165.0, 1360.0, 2344.0, 2132.0, 1298.0, 1312.0, 1452.0, 1412.0, 1050.0, 1060.0, 2492.0, 1785.0, 1147.0, 1578.0, 1300.0, 1096.0, 1925.0, 1512.0, 1814.0, 1716.0, 1280.0, 864.0, 1959.0, 0.0, 2486.0, 1338.0, 1260.0, 1322.0, 1620.0, 2700.0, 2050.0, 1683.0, 1489.0, 1916.0, 1320.0, 1200.0, 1180.0, 1672.0, 1344.0, 1152.0, 1224.0, 1566.0, 660.0, 874.0, 2390.0, 1460.0, 1566.0, 1448.0, 1578.0, 872.0, 1792.0, 1332.0, 816.0, 1220.0, 1460.0, 1200.0, 488.0, 1242.0, 1530.0, 2500.0, 900.0, 660.0, 1250.0, 1040.0, 1280.0, 1368.0, 920.0, 1751.0, 1560.0, 2014.0, 1216.0, 0.0, 0.0, 1548.0, 1332.0, 1300.0, 904.0, 1726.0, 1764.0, 964.0, 1851.0, 1080.0, 1216.0, 1408.0, 1101.0, 1094.0, 1050.0, 1188.0, 1660.0, 1360.0, 1504.0, 1328.0, 924.0, 5184.0, 1700.0, 1724.0, 1392.0, 1620.0, 1305.0, 1933.0, 1536.0, 926.0, 1152.0, 820.0, 1568.0, 1630.0, 2360.0, 1265.0, 1116.0, 1160.0, 1150.0, 1192.0, 1350.0, 1020.0, 632.0, 2384.0, 1256.0, 1176.0, 1144.0, 1828.0, 761.0, 1794.0, 2160.0, 1116.0, 1116.0, 2292.0, 2310.0, 1342.0, 1758.0, 1434.0, 1488.0, 1321.0, 1472.0, 1088.0, 1160.0, 1650.0, 1568.0, 1680.0, 1650.0, 1050.0, 1560.0, 1456.0, 1288.0, 2212.0, 1828.0, 1760.0, 1168.0, 1568.0, 1180.0, 1300.0, 1400.0, 896.0, 1296.0, 1000.0, 1295.0, 960.0, 1352.0, 1056.0, 1480.0, 1600.0, 4455.0, 3372.0, 1188.0, 1646.0, 1792.0, 1224.0, 1224.0, 2464.0, 796.0, 1080.0, 1575.0, 1206.0, 1664.0, 1888.0, 924.0, 1084.0, 1111.0, 1000.0, 836.0, 1386.0, 1633.0, 1460.0, 3210.0, 1606.0, 1185.0, 1748.0, 1008.0, 1276.0, 4647.0, 990.0, 876.0, 648.0, 1024.0, 902.0, 1964.0, 1415.0, 1151.0, 1977.0, 2025.0, 825.0, 1252.0, 2000.0, 1100.0, 1622.0, 900.0, 1900.0, 2000.0, 1408.0, 1515.0, 1600.0, 1872.0, 1080.0, 1665.0, 1744.0, 1194.0, 1596.0, 720.0, 1024.0, 1770.0, 1288.0, 1388.0, 1242.0, 1202.0, 1472.0, 1506.0, 1044.0, 1636.0, 1300.0, 1350.0, 1255.0, 1585.0, 1224.0, 2120.0, 1520.0, 1280.0, 1056.0, 1026.0, 1600.0, 1200.0, 1296.0, 1324.0, 1552.0, 1690.0, 980.0, 1324.0, 1592.0, 2782.0, 1585.0, 1180.0, 1680.0, 1614.0, 1632.0, 1204.0, 1196.0, 1156.0, 1198.0, 1564.0, 2490.0, 1295.0, 1405.0, 960.0, 425.0, 904.0, 1040.0, 1254.0, 3468.0, 1683.0, 1776.0, 1718.0, 970.0, 576.0, 1380.0, 1920.0, 1328.0, 0.0, 1064.0, 1344.0, 1134.0, 1176.0, 2141.0, 1152.0, 1036.0, 2506.0, 1148.0, 1220.0, 1328.0, 792.0, 820.0, 1608.0, 1260.0, 1377.0, 996.0, 2037.0, 1202.0, 1150.0, 1224.0, 2540.0, 1469.0, 1216.0, 1031.0, 1980.0, 1500.0, 1296.0, 1182.0, 1808.0, 1204.0, 2196.0, 1296.0, 1280.0, 1691.0, 1160.0, 1212.0, 1100.0, 1624.0, 978.0, 1576.0, 1448.0, 1072.0, 1264.0, 942.0, 1468.0, 1296.0, 1720.0, 3184.0, 1516.0, 1476.0, 1344.0, 2484.0, 1339.0, 1350.0, 1848.0, 600.0, 1350.0, 2420.0, 1824.0, 1056.0, 1232.0, 744.0, 1080.0, 1696.0, 1636.0, 1457.0, 1690.0, 960.0, 1102.0, 1080.0, 1842.0, 1496.0, 1232.0, 2800.0, 1472.0, 0.0, 1624.0, 1300.0, 1679.0, 1368.0, 1326.0, 1232.0, 1280.0, 1500.0, 1795.0, 1327.0, 1330.0, 1216.0, 436.0, 1282.0, 1260.0, 1568.0, 1305.0, 1264.0, 1248.0, 784.0, 1148.0, 1536.0, 1232.0, 1806.0, 890.0, 1600.0, 1624.0, 1288.0, 1440.0, 1856.0, 1820.0, 1350.0, 1184.0, 1250.0, 2172.0, 1539.0, 1732.0, 1020.0, 1877.0, 1440.0, 1584.0, 1697.0, 1546.0, 1120.0, 1890.0, 1184.0, 2680.0, 2172.0, 1240.0, 1132.0, 1324.0, 1782.0, 1427.0, 896.0, 1344.0, 1408.0, 1440.0, 2132.0, 1014.0, 1280.0, 1230.0, 2244.0, 1320.0, 1904.0, 2929.0, 2128.0, 1120.0, 1544.0, 2868.0, 2384.0, 1264.0, 1408.0, 1826.0, 884.0, 2063.0, 1600.0, 1260.0, 1308.0, 1700.0, 924.0, 1814.0, 1650.0, 872.0, 1348.0, 1216.0, 2058.0, 1600.0, 1544.0, 2064.0, 1440.0, 540.0, 1793.0, 1064.0, 1344.0, 1585.0, 1224.0, 1512.0, 2090.0, 1845.0, 3800.0, 1360.0, 1320.0, 4215.0, 1610.0, 770.0, 2900.0, 4108.0, 1063.0, 2208.0, 800.0, 1080.0, 1200.0, 1440.0, 1196.0, 2069.0, 1782.0, 1594.0, 1496.0, 1605.0, 1320.0, 1960.0, 1440.0, 1536.0, 1428.0, 600.0, 1584.0, 2560.0, 1976.0, 1679.0, 1800.0, 1762.0, 1400.0, 1368.0, 1152.0, 1312.0, 1624.0, 2068.0, 1120.0, 1091.0, 1215.0, 1032.0, 1744.0, 960.0, 1440.0, 1680.0, 1000.0, 448.0, 1422.0, 1250.0, 1360.0, 1350.0, 1230.0, 1152.0, 2560.0, 1624.0, 1320.0, 1248.0, 1727.0, 1528.0, 2560.0, 1920.0, 1920.0, 1692.0, 1809.0, 1260.0, 1296.0, 1212.0, 1376.0, 1528.0, 1836.0, 1376.0, 585.0, 1248.0, 1360.0, 1808.0, 1504.0, 1536.0, 1100.0, 1144.0, 1680.0, 2025.0, 1550.0, 1392.0, 1330.0, 2100.0, 1320.0, 997.0, 1160.0, 1224.0, 1064.0, 900.0, 1296.0, 1089.0, 1525.0, 1831.0, 1281.0, 732.0, 3392.0, 600.0, 1552.0, 1519.0, 1200.0, 1044.0, 1520.0, 1468.0, 1584.0, 1840.0, 3360.0, 2511.0, 1992.0, 2464.0, 2120.0, 1094.0, 1224.0, 1485.0, 2567.0, 2134.0, 1141.0, 1208.0, 1344.0, 684.0, 1400.0, 1200.0, 1120.0, 1608.0, 1126.0, 1148.0, 3865.0, 2317.0, 1510.0, 944.0, 1260.0, 1580.0, 1534.0, 7500.0, 1494.0, 1813.0, 1320.0, 1020.0, 1328.0, 1288.0, 1575.0, 1154.0, 1583.0, 528.0, 866.0, 518.0, 1056.0, 1280.0, 1738.0, 1080.0, 938.0, 930.0, 1356.0, 1296.0, 1432.0, 1800.0, 4600.0, 1280.0, 1127.0, 779.0, 1256.0, 960.0, 1568.0, 1552.0, 1500.0, 960.0, 1484.0, 1000.0, 960.0, 1377.0, 1728.0, 1500.0, 1715.0, 1440.0, 900.0, 2022.0, 1020.0, 1775.0, 1246.0, 2002.0, 1554.0, 1776.0, 992.0, 1274.0, 2032.0, 2726.0, 1395.0, 1000.0, 1306.0, 2241.0, 2466.0, 1017.0, 1080.0, 1280.0, 1991.0, 780.0, 730.0, 1264.0, 1344.0, 1152.0, 1100.0, 4299.0, 1280.0, 2157.0, 1707.0, 1400.0, 1298.0, 1232.0, 1289.0, 1152.0, 1000.0, 1512.0, 1260.0, 1472.0, 1116.0, 0.0, 928.0, 1120.0, 1890.0, 1272.0, 1552.0, 1036.0, 3168.0, 996.0, 672.0, 2188.0, 949.0, 1325.0, 1400.0, 1760.0, 1800.0, 1656.0, 1312.0, 975.0, 845.0, 1440.0, 1648.0, 1416.0, 1475.0, 1140.0, 756.0, 1552.0, 1472.0, 1856.0, 1372.0, 1224.0, 1125.0, 1422.0, 1600.0, 1593.0, 2394.0, 1968.0, 1584.0, 1180.0, 2100.0, 1554.0, 1280.0, 1372.0, 1200.0, 1116.0, 1162.0, 2080.0, 1996.0, 3070.0, 1460.0, 0.0, 1600.0, 1296.0, 1456.0, 1552.0, 1260.0, 1696.0, 1518.0, 1725.0, 1104.0, 2392.0, 1144.0, 1335.0, 1350.0, 1307.0, 1175.0, 1528.0, 2058.0, 1320.0, 1140.0, 1598.0, 1200.0, 1354.0, 1378.0, 1160.0, 916.0, 1184.0, 928.0, 1248.0, 1214.0, 3661.0, 1200.0, 840.0, 1568.0, 1000.0, 1440.0, 1336.0, 1560.0, 630.0, 2274.0, 1280.0, 1078.0, 1920.0, 956.0, 1600.0, 1965.0, 1296.0, 1050.0, 720.0, 1408.0, 1488.0, 1416.0, 1960.0, 1120.0, 1092.0, 2460.0, 960.0, 1020.0, 1296.0, 1138.0, 1216.0, 1288.0, 1144.0, 1220.0, 946.0, 1080.0, 996.0, 1012.0, 1240.0, 1268.0, 1516.0, 1260.0, 1296.0, 1632.0, 1567.0, 1584.0, 1520.0, 2194.0, 1630.0, 960.0, 1600.0, 1361.0, 2688.0, 1266.0, 1520.0, 1420.0, 1170.0, 1280.0, 1729.0, 1920.0, 1152.0, 1548.0, 1764.0, 896.0, 1440.0, 1360.0, 1168.0, 900.0, 1020.0, 1608.0, 1264.0, 1820.0, 1332.0, 1320.0, 1274.0, 2280.0, 1076.0, 1320.0, 1470.0, 1248.0, 1709.0, 975.0, 1100.0, 1083.0, 2200.0, 1377.0, 1200.0, 960.0, 1140.0, 1480.0, 1920.0, 2355.0, 1492.0, 1192.0, 2320.0, 1472.0, 1586.0, 812.0, 946.0, 1284.0, 1456.0, 2020.0, 1367.0, 1450.0, 1296.0, 1440.0, 1224.0, 1416.0, 1376.0, 600.0, 1144.0, 1516.0, 1248.0, 1260.0, 2025.0, 1356.0, 1440.0, 1890.0, 2452.0, 1440.0, 1848.0, 1902.0, 1077.0, 1344.0, 1528.0, 1750.0, 1600.0, 1145.0, 1372.0, 996.0, 756.0, 1238.0, 1488.0, 1470.0, 1728.0, 1568.0, 1632.0, 858.0, 1120.0, 2001.0, 1056.0, 1424.0, 585.0, 1115.0, 0.0, 0.0, 2485.0, 1732.0, 1092.0, 1044.0, 1400.0, 1208.0, 1125.0, 2004.0, 1222.0, 1376.0, 1188.0, 2289.0, 833.0, 1152.0, 1116.0, 1464.0, 1264.0, 760.0, 1600.0, 1186.0, 1008.0, 1300.0, 1632.0, 1120.0, 1040.0, 2221.0, 2072.0, 1500.0, 1636.0, 1320.0, 1224.0, 1716.0, 1348.0, 1132.0, 2190.0, 1084.0, 931.0, 1464.0, 1520.0, 1344.0, 1200.0, 1120.0, 952.0, 799.0, 1536.0, 1325.0, 1086.0, 2548.0, 1326.0, 0.0, 3318.0, 1496.0, 1488.0, 1296.0, 1249.0, 1284.0, 2384.0, 2047.0, 1050.0, 978.0, 952.0, 1148.0, 896.0, 1152.0, 1128.0, 1144.0, 1190.0, 1470.0, 1215.0, 2416.0, 1396.0, 1084.0, 1112.0, 1381.0, 1280.0, 1152.0, 1638.0, 1690.0, 1260.0, 1676.0, 2786.0, 1408.0, 1584.0, 1000.0, 1916.0, 1650.0, 1296.0, 1304.0, 1224.0, 1749.0, 1772.0, 1088.0, 1728.0, 1392.0, 1148.0, 1274.0, 1350.0, 1084.0, 1712.0, 1392.0, 992.0, 854.0, 1552.0, 1524.0, 1399.0, 1700.0, 1338.0, 1328.0, 1354.0, 1200.0, 1500.0, 1536.0, 1124.0, 2412.0, 1450.0, 2000.0, 1056.0, 1260.0, 1192.0, 1998.0, 1203.0, 1360.0, 1944.0, 1463.0, 1248.0, 1424.0, 1024.0, 1380.0, 1095.0, 1130.0, 1040.0, 1296.0, 1325.0, 2536.0, 2275.0, 1080.0, 1080.0, 1136.0, 1368.0, 2072.0, 1536.0, 1436.0, 1248.0, 1054.0, 1020.0, 1432.0, 1200.0, 1248.0, 3078.0, 2262.0, 752.0, 2520.0, 1680.0, 1400.0, 1236.0, 1452.0, 1120.0, 1098.0, 1452.0, 1288.0, 1408.0, 1925.0, 2086.0, 1024.0, 1240.0, 1144.0, 816.0, 1246.0, 3027.0, 1683.0, 468.0, 1668.0, 1914.0, 1194.0, 1200.0, 1500.0, 1364.0, 1364.0, 1440.0, 1566.0, 1566.0, 2083.0, 2230.0, 1344.0, 1442.0, 1600.0, 850.0, 1350.0, 1188.0, 1860.0, 1672.0, 1344.0, 1591.0, 1235.0, 1480.0, 1320.0, 996.0, 1472.0, 976.0, 1404.0, 1240.0, 3040.0, 640.0, 1440.0, 1460.0, 960.0, 728.0, 2236.0, 1108.0, 970.0, 1775.0, 1584.0, 1714.0, 2110.0, 2400.0, 1800.0, 0.0, 0.0, 1152.0, 1064.0, 1280.0, 2524.0, 1000.0, 2604.0, 0.0, 1248.0, 1500.0, 1715.0, 1990.0, 1409.0, 1182.0, 1888.0, 892.0, 1135.0, 1080.0, 1552.0, 842.0, 1297.0, 1369.0, 2132.0, 1282.0, 1804.0, 1170.0, 1595.0, 1420.0, 1564.0, 1200.0, 1198.0, 1058.0, 1500.0, 1724.0, 1742.0, 1300.0, 1320.0, 1577.0, 1296.0, 882.0, 1702.0, 1188.0, 1224.0, 2716.0, 1296.0, 1403.0, 960.0, 1638.0, 759.0, 850.0, 1125.0, 896.0, 2350.0, 1240.0, 1248.0, 1260.0, 912.0, 864.0, 2000.0, 1400.0, 1520.0, 1680.0, 4180.0, 1080.0, 1998.0, 2350.0, 2172.0, 1452.0, 1266.0, 1570.0, 2508.0, 1376.0, 640.0, 1064.0, 1408.0, 1720.0, 1050.0, 1008.0, 1188.0, 2006.0, 1410.0, 1240.0, 1855.0, 1568.0, 1496.0, 1350.0, 1812.0, 1440.0, 1433.0, 1126.0, 960.0, 1744.0, 1824.0, 1008.0, 1144.0, 900.0, 1375.0, 1480.0, 1440.0, 572.0, 1550.0, 1294.0, 1200.0, 1328.0, 2360.0, 1280.0, 1460.0, 1057.0, 3559.0, 1496.0, 2688.0, 1756.0, 2248.0, 1506.0, 1260.0, 1228.0, 1192.0, 1540.0, 2178.0, 1296.0, 1116.0, 988.0, 2280.0, 2099.0, 3240.0, 1376.0, 1152.0, 1664.0, 1296.0, 2044.0, 2289.0, 1304.0, 1480.0, 990.0, 1120.0, 1128.0, 912.0, 975.0, 975.0, 1428.0, 2186.0, 1508.0, 1368.0, 1096.0, 1440.0, 1152.0, 1084.0, 1230.0, 1970.0, 1800.0, 1372.0, 2047.0, 1750.0, 1323.0, 1344.0, 2176.0, 1320.0, 1512.0, 1308.0, 1240.0, 1080.0, 1600.0, 1260.0, 2651.0, 1530.0, 2104.0, 1388.0, 1185.0, 1800.0, 1008.0, 1410.0, 1184.0, 1125.0, 1176.0, 1992.0, 1120.0, 1894.0, 1440.0, 975.0, 1592.0, 1664.0, 448.0, 1234.0, 1360.0, 2495.0, 1008.0, 936.0, 1196.0, 1536.0, 1900.0, 1566.0, 900.0, 2339.0, 1600.0, 2720.0, 1240.0, 1404.0, 2442.0, 1400.0, 874.0, 800.0, 2400.0, 2937.0, 1132.0, 1896.0, 1408.0, 1056.0, 1050.0, 888.0, 1400.0, 2190.0, 1224.0, 1316.0, 1536.0, 1559.0, 1440.0, 1638.0, 1672.0, 1203.0, 1068.0, 896.0, 1440.0, 1147.0, 1236.0, 1320.0, 1020.0, 1060.0, 1645.0, 2352.0, 1400.0, 1300.0, 1112.0, 1200.0, 726.0, 576.0, 600.0, 1152.0, 1660.0, 1552.0, 1026.0, 1120.0, 780.0, 2018.0, 1560.0, 1300.0, 1148.0, 1120.0, 860.0, 896.0, 1110.0, 1624.0, 3366.0, 1997.0, 0.0, 1542.0, 1056.0, 1840.0, 1050.0, 1352.0, 1280.0, 1768.0, 1632.0, 1278.0, 1360.0, 1156.0, 1329.0, 1120.0, 2220.0, 1498.0, 1520.0, 1020.0, 1600.0, 992.0, 1384.0, 1354.0, 1392.0, 1214.0, 1923.0, 2064.0, 1622.0, 880.0, 1864.0, 1116.0, 1980.0, 2310.0, 1550.0, 0.0, 1620.0, 1200.0, 870.0, 2353.0, 1230.0, 1076.0, 1552.0, 1372.0, 1224.0, 2250.0, 1120.0, 2430.0, 1248.0, 1552.0, 978.0, 1230.0, 1056.0, 1000.0, 1066.0, 1104.0, 7200.0, 1490.0, 1418.0, 1180.0, 1160.0, 1400.0, 944.0, 1136.0, 1752.0, 2040.0, 2400.0, 858.0, 1352.0, 1400.0, 934.0, 1092.0, 1839.0, 900.0, 1868.0, 2568.0, 1592.0, 1501.0, 1504.0, 1772.0, 1472.0, 2200.0, 740.0, 1608.0, 1299.0, 2250.0, 1088.0, 1168.0, 3540.0, 7875.0, 1440.0, 960.0, 2692.0, 924.0, 1489.0, 960.0, 1200.0, 1276.0, 1658.0, 570.0, 1323.0, 991.0, 1584.0, 1536.0, 2241.0, 1407.0, 1122.0, 2296.0, 0.0, 0.0, 3773.0, 896.0, 1150.0, 2310.0, 1208.0, 1853.0, 1125.0, 1680.0, 1224.0, 1120.0, 1512.0, 1260.0, 1216.0, 1670.0, 1140.0, 796.0, 946.0, 1464.0, 867.0, 1576.0, 924.0, 1200.0, 1334.0, 1160.0, 1170.0, 960.0, 1470.0, 630.0, 1504.0, 1280.0, 1392.0, 1120.0, 1408.0, 5348.0, 946.0, 2358.0, 2295.0, 1377.0, 1120.0, 1312.0, 0.0, 0.0, 3520.0, 1424.0, 1464.0, 1196.0, 2002.0, 1240.0, 1145.0, 1080.0, 1400.0, 1160.0, 1868.0, 1672.0, 1038.0, 5178.0, 936.0, 1092.0, 2688.0, 1120.0, 1807.0, 996.0, 1156.0, 1570.0, 1488.0, 570.0, 1980.0, 1666.0, 1232.0, 1224.0, 2158.0, 732.0, 810.0, 1400.0, 1824.0, 1245.0, 1090.0, 1873.0, 1694.0, 1870.0, 1246.0, 2150.0, 1344.0, 1943.0, 1155.0, 2408.0, 1086.0, 1556.0, 928.0, 1169.0, 1168.0, 938.0, 1354.0, 1530.0, 696.0, 1406.0, 3080.0, 1248.0, 2339.0, 1242.0, 1658.0, 0.0, 1280.0, 1132.0, 1184.0, 868.0, 1795.0, 3070.0, 1292.0, 1061.0, 1576.0, 912.0, 1542.0, 1078.0, 1242.0, 946.0, 1412.0, 1552.0, 1470.0, 2238.0, 1848.0, 880.0, 2692.0, 1376.0, 1908.0, 1402.0, 2814.0, 1779.0, 1420.0, 1560.0, 1248.0, 1807.0, 1232.0, 1105.0, 2149.0, 2562.0, 784.0, 1296.0, 1260.0, 1864.0, 1728.0, 1302.0, 1794.0, 1296.0, 1305.0, 1125.0, 1056.0, 2226.0, 800.0, 1050.0, 945.0, 2268.0, 1585.0, 1264.0, 1208.0, 924.0, 1285.0, 1128.0, 1764.0, 1438.0, 1385.0, 740.0, 1328.0, 1960.0, 0.0, 1816.0, 1890.0, 2040.0, 1632.0, 1540.0, 1260.0, 1540.0, 2996.0, 1708.0, 2340.0, 1672.0, 1185.0, 2315.0, 1584.0, 1791.0, 1680.0, 1760.0, 1683.0, 1248.0, 1056.0, 1056.0, 1280.0, 1846.0, 1224.0, 1280.0, 1258.0, 1608.0, 910.0, 960.0, 1200.0, 760.0, 1874.0, 1304.0, 1440.0, 1144.0, 1425.0, 1538.0, 2000.0, 1273.0, 1224.0, 960.0, 1944.0, 1200.0, 1920.0, 1599.0, 1800.0, 3280.0, 1984.0, 1040.0, 1584.0, 2208.0, 1344.0, 1776.0, 1568.0, 1360.0, 2016.0, 600.0, 1216.0, 1190.0, 1683.0, 1040.0, 725.0, 2115.0, 1280.0, 1680.0, 1191.0, 1995.0, 1214.0, 1137.0, 4950.0, 2540.0, 1008.0, 1008.0, 1972.0, 1673.0, 768.0, 896.0, 1160.0, 1870.0, 2798.0, 1764.0, 1732.0, 702.0, 1251.0, 864.0, 1782.0, 1520.0, 1392.0, 1400.0, 2660.0, 1528.0, 2016.0, 2160.0, 1320.0, 1456.0, 1220.0, 2088.0, 0.0, 2100.0, 1092.0, 1480.0, 1995.0, 1520.0, 2744.0, 1876.0, 1368.0, 1480.0, 1568.0, 1920.0, 1580.0, 1858.0, 1131.0, 726.0, 1440.0, 2132.0, 576.0, 2476.0, 1168.0, 2128.0, 1368.0, 1200.0, 1536.0, 2160.0, 1546.0, 950.0, 1309.0, 1216.0, 492.0, 1316.0, 1218.0, 1882.0, 952.0, 1440.0, 1140.0, 1296.0, 1925.0, 2366.0, 1758.0, 1195.0, 1540.0, 2160.0, 1944.0, 1806.0, 966.0, 1152.0, 1056.0, 1206.0, 956.0, 1449.0, 1660.0, 1020.0, 1344.0, 637.0, 828.0, 850.0, 1208.0, 1160.0, 1446.0, 3208.0, 1448.0, 1440.0, 730.0, 2000.0, 1116.0, 1296.0, 1880.0, 1950.0, 1380.0, 1264.0, 1476.0, 1406.0, 1455.0, 2680.0, 1128.0, 1020.0, 1376.0, 1536.0, 1500.0, 4301.0, 710.0, 1760.0, 1248.0, 920.0, 1120.0, 1264.0, 1296.0, 1536.0, 1440.0, 1754.0, 1234.0, 3580.0, 1510.0, 1088.0, 920.0, 1304.0, 1800.0, 1280.0, 1144.0, 1830.0, 1645.0, 2620.0, 1360.0, 1756.0, 2501.0, 1200.0, 1204.0, 1176.0, 1024.0, 1534.0, 1925.0, 1320.0, 1152.0, 832.0, 3090.0, 1496.0, 1116.0, 1142.0, 1776.0, 1176.0, 1528.0, 1064.0, 1064.0, 1927.0, 1400.0, 1460.0, 1460.0, 1964.0, 1382.0, 1906.0, 1356.0, 896.0, 1405.0, 1620.0, 1776.0, 1704.0, 1020.0, 1826.0, 945.0, 1925.0, 3177.0, 1170.0, 1152.0, 1322.0, 2046.0, 1536.0, 1094.0, 1024.0, 896.0, 1248.0, 1658.0, 1140.0, 1200.0, 952.0, 1832.0, 1650.0, 1793.0, 1080.0, 1339.0, 1700.0, 1339.0, 1440.0, 1424.0, 864.0, 1092.0, 1528.0, 921.0, 2128.0, 1807.0, 621.0, 1163.0], \"xaxis\": \"x\", \"y\": [550000, 200000, 810000, 125000, 620000, 1150000, 836500, 955000, 820000, 980000, 430000, 700000, 448000, 670000, 1390000, 540000, 520000, 480000, 570000, 552000, 505000, 357500, 670000, 549000, 970000, 800000, 450000, 330000, 575000, 450000, 743000, 445000, 255000, 750000, 985000, 958000, 1440000, 200000, 930000, 990000, 810000, 670000, 1030000, 900000, 940000, 445000, 710000, 998000, 950000, 470000, 480000, 757504, 350000, 717359, 926608, 585500, 493000, 615000, 646589, 470000, 510000, 1705000, 643750, 465000, 320000, 730000, 300000, 494000, 670000, 525000, 640000, 870000, 780000, 350000, 1490000, 555000, 550000, 685000, 825000, 435000, 810000, 224094, 512275, 520000, 494500, 450000, 460000, 1290000, 890000, 530000, 445000, 452465, 560000, 440000, 625000, 588005, 420000, 416000, 570000, 335000, 108000, 1575000, 350000, 795000, 1100000, 670000, 760000, 645000, 650000, 492000, 590000, 830000, 330000, 590000, 646000, 446000, 550000, 640000, 445000, 646589, 639461, 520000, 125000, 349500, 700000, 355000, 355000, 200000, 499000, 265000, 300000, 980000, 1100000, 750000, 1163359, 710000, 915000, 350000, 1250000, 840000, 605000, 350000, 915000, 999999, 425000, 414987, 208000, 408000, 220000, 1872562, 830000, 410000, 395000, 555000, 443800, 743323, 539900, 763688, 889000, 572500, 632000, 465000, 340000, 400000, 395000, 470000, 510000, 821000, 529000, 650000, 859000, 790000, 1700000, 980000, 385000, 580000, 880888, 859000, 1153000, 788000, 990000, 825000, 515000, 840000, 600000, 1710660, 520000, 660000, 479000, 520000, 490000, 500000, 240000, 550000, 1218300, 500000, 540000, 500000, 580000, 515000, 100000, 1530000, 460000, 1750000, 380250, 990000, 405600, 820000, 210000, 499500, 415000, 300000, 850000, 885000, 1400000, 500000, 255000, 624000, 601000, 575000, 370000, 534560, 620000, 335000, 269500, 641000, 619000, 413950, 545000, 350000, 880000, 540000, 471500, 673330, 566368, 120000, 565000, 510569, 125000, 790000, 415000, 740000, 550000, 365000, 570000, 700000, 490000, 660000, 525000, 508402, 305000, 1400000, 430000, 357000, 450000, 1250000, 560000, 130000, 225000, 305000, 910000, 905000, 985000, 958000, 700000, 830000, 536000, 680000, 660000, 640000, 1280000, 630000, 529000, 390000, 425000, 680000, 850000, 531000, 250000, 539000, 775000, 599900, 475000, 475000, 600768, 749000, 781000, 675000, 599000, 499000, 490000, 630000, 460000, 490000, 780000, 1850000, 250000, 294000, 1500000, 965000, 487000, 100000, 380000, 650000, 730000, 112000, 499999, 680000, 342000, 742000, 515000, 450000, 100000, 100000, 790000, 740000, 875000, 735000, 560000, 599000, 390000, 508500, 860000, 590585, 457500, 320000, 510000, 390000, 328600, 440000, 820000, 912500, 465000, 650000, 439000, 210000, 950000, 1685000, 599000, 405235, 970000, 1465000, 455000, 605394, 640000, 790000, 770000, 950000, 420000, 570000, 900000, 489600, 773000, 420000, 361000, 198000, 278000, 450000, 430000, 503000, 527500, 366877, 385000, 346029, 373692, 988000, 495000, 450000, 485000, 230000, 444000, 350000, 311912, 559144, 550000, 695000, 575000, 589000, 475000, 250000, 1440000, 570000, 458800, 560000, 590000, 456300, 223000, 575000, 820000, 381550, 1025000, 699000, 1100000, 505000, 575000, 500000, 250000, 400000, 625000, 650000, 850000, 925000, 445000, 1295000, 700000, 763000, 615000, 114000, 630000, 665000, 515000, 517000, 850000, 600000, 700000, 597000, 352746, 900000, 875000, 570000, 455000, 499999, 375180, 410000, 515000, 780000, 1240000, 515000, 1200000, 385000, 818000, 1415000, 1165000, 1050000, 1600000, 1260000, 865000, 748000, 635000, 1675000, 985000, 885000, 790000, 679000, 280000, 800000, 670000, 641000, 450000, 390000, 485000, 463000, 467000, 446000, 610000, 579000, 490000, 451000, 770000, 990000, 440000, 360000, 600000, 607000, 585494, 533000, 860000, 415000, 685000, 580000, 1450000, 285075, 525000, 1120075, 360000, 265000, 245000, 475000, 512000, 510000, 334650, 990000, 900000, 335000, 1900000, 560000, 595000, 600000, 848000, 1250000, 800000, 1500000, 658000, 1578288, 1075000, 990000, 105000, 560038, 829000, 485000, 638000, 230000, 740000, 995000, 554500, 603500, 550000, 460000, 459500, 204800, 253000, 362900, 479000, 396000, 350000, 335000, 610000, 480000, 499000, 582500, 620000, 485000, 630000, 590000, 697000, 555000, 500000, 600000, 950000, 340000, 150000, 423000, 499000, 658820, 530000, 1150000, 1573500, 500000, 486000, 550000, 380000, 644000, 730000, 851000, 730000, 475000, 732000, 835000, 200000, 990000, 925000, 990000, 1200000, 560000, 525000, 489000, 160000, 380000, 385000, 740000, 1090000, 498000, 498900, 490000, 555000, 590000, 469900, 620000, 565000, 405000, 425000, 307000, 450000, 243360, 445000, 795000, 450000, 655498, 529791, 795000, 988000, 729000, 400000, 830000, 675000, 890000, 850000, 515000, 899888, 700000, 277000, 760000, 630000, 770000, 825000, 600000, 1015000, 715000, 371000, 365040, 500000, 975000, 781000, 396000, 275000, 400530, 580000, 112000, 1125000, 470000, 575210, 800000, 772500, 963538, 477000, 415000, 420810, 360500, 369000, 365000, 241000, 555000, 465000, 540750, 740000, 332000, 499000, 301665, 1500000, 683000, 560000, 499000, 1775000, 450000, 211650, 715000, 780000, 905000, 555000, 820000, 715000, 628900, 838000, 795000, 560000, 435000, 610000, 618000, 960000, 555000, 532000, 670000, 375000, 450000, 100000, 342000, 435000, 245500, 720000, 520000, 515000, 555000, 399888, 370023, 850000, 540000, 210000, 449000, 430000, 334620, 265000, 248132, 373600, 362000, 415000, 453124, 620000, 550000, 300000, 835000, 550000, 614000, 568600, 1060000, 479000, 181875, 490000, 991670, 1425000, 1570000, 800000, 777000, 690000, 800000, 650000, 660000, 950000, 747000, 785000, 700000, 712000, 710000, 730000, 990000, 1031285, 1120413, 515000, 485000, 565000, 545000, 400000, 325000, 440000, 495000, 656000, 590000, 250000, 475000, 760000, 500000, 410000, 492000, 525000, 485000, 240000, 745000, 247850, 445000, 384500, 822500, 375000, 525000, 760000, 450000, 540000, 980000, 1150000, 760000, 999000, 799000, 600000, 425000, 832500, 515000, 720000, 655000, 640000, 990000, 740000, 450000, 590000, 965000, 668900, 1180000, 390000, 255000, 499931, 705094, 266667, 539000, 568000, 475000, 525000, 248000, 678000, 385000, 450000, 755000, 440000, 430000, 1050000, 1452500, 573000, 575000, 440000, 425000, 575000, 670000, 500000, 230000, 688888, 835000, 740000, 290000, 535000, 340000, 175000, 639000, 845000, 700000, 740000, 915000, 1600000, 1050000, 630000, 640000, 730000, 525000, 1870000, 500000, 609000, 220000, 415000, 499999, 650000, 529000, 940000, 1552831, 1200000, 282000, 550000, 860000, 495000, 595676, 800000, 572000, 445000, 499000, 400000, 450000, 230000, 438000, 480000, 150000, 298100, 1100000, 175000, 530000, 500000, 650000, 615000, 935000, 830000, 550000, 640000, 610000, 836000, 784053, 915000, 750000, 685000, 300000, 640000, 785000, 518500, 490000, 228000, 600000, 470000, 630000, 540000, 622000, 360000, 322500, 480000, 645000, 755000, 489000, 470000, 620000, 623169, 705000, 420000, 719000, 350000, 575311, 174300, 544000, 618000, 450000, 480000, 145000, 430000, 565000, 475000, 406282, 327500, 560000, 565000, 325000, 160000, 515000, 920000, 335000, 158600, 600000, 985000, 470000, 522500, 1275000, 727000, 664000, 1085000, 610000, 520000, 699000, 825000, 950000, 382621, 512000, 436800, 770000, 550000, 679189, 915000, 769000, 200000, 547000, 224000, 610000, 650000, 625000, 450000, 1500000, 1080000, 607856, 1390000, 740000, 469625, 540000, 450000, 400000, 547500, 495000, 365000, 495000, 359970, 470000, 590000, 235000, 536500, 362500, 218000, 455000, 545000, 499800, 620000, 830000, 442900, 390000, 650000, 235000, 625000, 672000, 590000, 645000, 585000, 465000, 390000, 350000, 485000, 435000, 500000, 320000, 390000, 430000, 578000, 870000, 668500, 1330000, 345000, 415000, 394272, 850000, 366211, 720000, 900000, 425000, 775000, 327631, 660000, 675000, 720000, 530000, 380000, 850000, 775000, 580000, 475000, 340000, 435000, 428480, 815000, 605000, 465545, 468000, 279000, 590000, 618500, 521500, 435000, 480000, 790000, 575000, 459000, 475000, 485000, 460000, 428665, 500000, 1955000, 591000, 610000, 708000, 950000, 605000, 669000, 950000, 475000, 1500000, 745000, 855000, 340000, 795000, 380000, 465000, 410000, 587400, 600000, 655000, 350000, 375000, 380000, 245000, 608400, 231500, 1202000, 1925000, 1550000, 500000, 1400000, 659500, 833000, 750000, 860000, 525000, 825000, 800000, 720000, 575000, 656766, 650000, 720000, 530000, 470000, 370000, 495000, 227302, 490000, 336000, 626224, 620000, 250000, 634000, 600000, 600000, 345163, 510000, 445000, 700000, 700000, 1850000, 810000, 508605, 1175000, 499371, 615000, 1235000, 1200000, 457920, 505000, 443000, 302000, 1117500, 800000, 273600, 1100000, 496460, 141088, 529000, 470000, 1075000, 1950000, 690000, 1165000, 515510, 425000, 740000, 1075000, 990000, 850000, 519000, 620000, 330000, 810000, 780000, 500000, 130000, 555000, 365625, 380000, 463500, 280000, 695000, 499412, 651680, 700000, 400000, 307668, 590585, 569000, 570000, 229430, 550000, 383593, 825000, 524804, 430000, 518340, 590000, 380250, 464000, 1630000, 1630000, 1100000, 535000, 605000, 1400000, 855000, 760000, 562500, 2000000, 667800, 1235000, 932500, 790000, 572000, 315000, 440000, 680000, 970000, 650000, 1460000, 715000, 800000, 500000, 1125000, 269302, 934350, 310000, 650000, 868000, 420000, 535000, 250000, 510000, 880000, 788000, 480000, 880000, 145000, 740000, 590000, 536750, 234234, 555000, 490000, 545000, 250000, 500000, 999500, 501930, 1445000, 863000, 600000, 920000, 870000, 1700000, 670000, 275000, 481000, 560000, 425000, 540000, 580000, 295000, 416000, 404250, 499000, 570000, 948578, 400000, 525000, 520000, 650000, 500000, 990000, 447000, 445000, 850000, 690000, 738231, 350000, 500000, 900000, 1200000, 253950, 427523, 274092, 780000, 650000, 995000, 519000, 810000, 671000, 849000, 865000, 499999, 1099200, 1625000, 900000, 525000, 450000, 180500, 1225000, 395000, 194000, 520000, 423000, 411684, 550000, 200000, 560038, 595000, 540000, 326000, 560000, 360000, 524349, 575000, 579000, 420000, 371848, 182500, 600000, 540000, 830000, 1325000, 890000, 1090000, 515000, 655000, 1150000, 975000, 812000, 779000, 530000, 815000, 380000, 420000, 175000, 424000, 582000, 865000, 1440000, 508000, 610950, 850000, 550000, 438000, 240000, 595000, 485000, 540000, 500000, 490000, 624000, 556000, 714800, 680000, 444000, 650000, 500000, 499000, 690000, 1655000, 1125000, 430000, 1215000, 645000, 629000, 885000, 600000, 630000, 994000, 266000, 630000, 880000, 440000, 175000, 520000, 531250, 768328, 620000, 635000, 216500, 400000, 575000, 363000, 554946, 596695, 457314, 592000, 550000, 369770, 515000, 479000, 589000, 890000, 575000, 240000, 495000, 440000, 499000, 645000, 910000, 1289120, 635000, 360000, 617000, 775000, 880000, 1420000, 695000, 157277, 750000, 970000, 480000, 500000, 900000, 620000, 777000, 563000, 650000, 487500, 377500, 560000, 224000, 237500, 450000, 362900, 465000, 361998, 480000, 560000, 625000, 490000, 900000, 760000, 463900, 399000, 340000, 485000, 770000, 750000, 249000, 150000, 940000, 414400, 605000, 495000, 401000, 578000, 650000, 429000, 360000, 474000, 930000, 690000, 390000, 1325000, 390000, 632000, 530000, 1095000, 930000, 725000, 730000, 525000, 545000, 490000, 890000, 290000, 845000, 476768, 345000, 160000, 528000, 526500, 470000, 520000, 499000, 610000, 640000, 450000, 743323, 275000, 600000, 630297, 1400000, 912500, 915000, 549000, 400000, 830000, 700000, 679000, 1290000, 1614600, 899000, 550000, 180000, 403000, 930000, 550000, 350000, 525000, 640000, 480000, 410000, 615000, 485000, 525000, 263133, 400000, 468400, 721939, 352500, 710000, 360000, 465000, 840000, 402600, 552910, 625000, 610000, 505000, 303000, 330000, 720000, 488000, 953000, 980000, 679000, 580000, 440000, 815000, 640000, 175000, 520000, 865000, 525000, 720000, 700000, 679000, 485000, 465000, 444000, 525000, 547000, 425000, 625000, 180000, 365000, 318000, 306000, 635045, 651680, 689100, 496888, 295000, 497000, 475000, 310000, 440000, 500000, 568960, 216489, 380000, 460000, 579000, 699000, 440000, 570000, 840000, 630000, 251155, 1130000, 825000, 872000, 1070000, 870000, 352500, 390000, 958317, 725000, 860000, 785000, 673000, 300000, 340000, 835000, 925000, 593000, 182000, 1340000, 515000, 400000, 505000, 635000, 252000, 320000, 525000, 675000, 404000, 695000, 607000, 275000, 515000, 850000, 697501, 550000, 614000, 409500, 360000, 276822, 385000, 336000, 762669, 390000, 410000, 600000, 617000, 630000, 210000, 612000, 605000, 398000, 1142500, 648000, 889000, 1150000, 900000, 820000, 1325000, 525000, 760000, 907000, 1048800, 585000, 600000, 565000, 606279, 565000, 657906, 175000, 300000, 525000, 540000, 499000, 499990, 721939, 536000, 1036000, 410000, 539000, 495000, 490000, 355000, 431000, 478000, 485000, 189270, 565000, 439931, 416981, 610000, 700000, 900000, 890000, 878000, 1158000, 693000, 940000, 933800, 620000, 725000, 545000, 160000, 888000, 720000, 940000, 883000, 570000, 510000, 301000, 450000, 260000, 939000, 480000, 647000, 595000, 350000, 113348, 610000, 563000, 273780, 470000, 780000, 1358500, 585000, 680000, 920000, 999000, 550000, 660000, 725000, 532000, 600000, 900000, 668000, 218000, 585000, 800000, 730000, 750000, 685000, 708400, 862000, 710000, 605000, 610000, 550000, 1250000, 950000, 562500, 525000, 430000, 537500, 523000, 480000, 552000, 919000, 1120075, 300000, 605000, 485000, 445000, 549000, 625000, 970000, 560000, 520000, 990000, 880000, 136000, 1210000, 280000, 620000, 610000, 336000, 550000, 1620000, 831000, 235000, 1140000, 999000, 800000, 346500, 1140000, 700000, 967000, 620000, 375000, 375000, 1020000, 920000, 475000, 705000, 510000, 350000, 335000, 500000, 800000, 639000, 220000, 325000, 800000, 201000, 460000, 419900, 535000, 225000, 400000, 400000, 900000, 100000, 464000, 510000, 299000, 460000, 870000, 380000, 520000, 584284, 515000, 555000, 571000, 580000, 687000, 436600, 333600, 410000, 540000, 660000, 1125000, 585000, 309000, 145000, 567000, 635000, 989000, 499500, 851000, 800000, 1450000, 600000, 575000, 668000, 350000, 400000, 550000, 319600, 1150000, 800000, 600000, 240000, 465000, 400000, 585000, 515000, 560038, 475000, 550000, 499000, 500000, 285000, 500000, 1270000, 415000, 666588, 770000, 645000, 640000, 400000, 525000, 1125000, 599000, 595000, 445000, 994517, 530000, 564796, 895000, 460000, 525000, 160673, 560000, 570000, 560000, 480000, 460000, 515000, 984000, 510000, 509600, 1220000, 1150000, 100000, 600000, 750000, 1700000, 860500, 459000, 560000, 540000, 510365, 590000, 494000, 200000, 560000, 470000, 500000, 585000, 451230, 490000, 270000, 329000, 739000, 324480, 350000, 320000, 353379, 645000, 600000, 425880, 800000, 930000, 875000, 715000, 875000, 740000, 485000, 710000, 499750, 1850000, 493000, 995000, 610000, 1425000, 615000, 733140, 672045, 670000, 355000, 422000, 150000, 467500, 495000, 580000, 912000, 500000, 210000, 595000, 1400000, 1668500, 600000, 700000, 730000, 414000, 1310000, 950000, 580000, 900000, 990000, 570000, 410000, 485000, 376000, 376000, 600000, 480000, 820000, 715000, 452998, 544719, 535000, 800000, 465000, 683000, 420000, 351000, 470000, 599000, 115000, 930000, 800000, 612000, 468468, 440000, 152000, 760000, 1084000, 450000, 500599, 750000, 985000, 845000, 890000, 510000, 471000, 510000, 275000, 545000, 715500, 795000, 385000, 400000, 899000, 900000, 400000, 595000, 215000, 450000, 380000, 609000, 410000, 250000, 800000, 473500, 535000, 692240, 495000, 870604, 650000, 250000, 450000, 485000, 638600, 630000, 250000, 450000, 250000, 1385000, 305000, 700000, 575000, 520000, 602000, 314500, 1122000, 750000, 650000, 500000, 791000, 905000, 928000, 600000, 595000, 250000, 390000, 321000, 700000, 375000, 392000, 938486, 270000, 306228, 650000, 444132, 440000, 499999, 490000, 270480, 325000, 475000, 168000, 500585, 740000, 430000, 575000, 580000, 350000, 635000, 877500, 495000, 510000, 560000, 585000, 565000, 635000, 850000, 1400000, 1100000, 455000, 975000, 586000, 330000, 835000, 820000, 725000, 1465000, 835000, 829000, 465000, 538000, 396000, 500000, 1600000, 585000, 500000, 268000, 270000, 440000, 540000, 375000, 665000, 505000, 480000, 621133, 280980, 197000, 532000, 418000, 330000, 500000, 450000, 435000, 525000, 250000, 575000, 2000000, 700000, 650000, 605000, 700000, 865000, 665000, 500000, 995000, 362000, 375000, 360000, 525000, 470000, 370000, 560000, 125000, 667000, 635000, 495000, 489000, 350000, 490000, 222500, 393000, 495000, 150000, 805000, 525000, 799000, 620000, 1265000, 640000, 1175000, 365000, 455000, 1060000, 731300, 905000, 810000, 200000, 639000, 825000, 375000, 380250, 520000, 595000, 314820, 325500, 1650000, 1850000, 646588, 420000, 405600, 280000, 600000, 630000, 499990, 445000, 763688, 225000, 550000, 570000, 990000, 735000, 860000, 370800, 728000, 1200000, 610000, 432000, 1357000, 630000, 997000, 1070000, 701083, 900000, 650000, 690000, 740000, 369900, 460000, 600000, 365000, 936000, 795000, 565000, 430000, 333000, 465000, 580000, 361000, 475000, 515000, 435000, 360000, 610000, 580000, 284000, 555000, 525000, 560038, 480000, 520000, 1500000, 804718, 550000, 550000, 480000, 905000, 840000, 550000, 470000, 1695000, 995000, 300000, 755000, 675000, 395000, 382500, 468000, 450000, 605000, 750000, 450000, 280000, 575000, 281250, 720000, 738231, 510000, 610949, 344760, 540000, 395000, 290000, 295000, 950000, 550000, 275000, 320000, 1640000, 743561, 582000, 748000, 990000, 615000, 700000, 948500, 855000, 1050000, 525000, 821750, 625000, 469000, 525000, 1320000, 465000, 437750, 445000, 390000, 552000, 850000, 412000, 480000, 465000, 441000, 700000, 460000, 860421, 465500, 804416, 110000, 580000, 400000, 799000, 550000, 1049000, 1210950, 901000, 1200000, 580000, 280000, 950000, 625000, 430000, 270000, 285000, 639900, 250750, 770000, 560000, 610000, 692410, 265000, 545000, 615000, 750000, 679000, 275000, 197600, 400000, 595000, 232000, 750000, 928000, 1290000, 339690, 348156, 735000, 800000, 659000, 477387, 386000, 610000, 810000, 490000, 524700, 387000, 349700, 435000, 650000, 1100000, 905000, 560000, 377500, 224829, 531000, 155500, 328410, 499990, 433000, 210000, 825000, 541000, 213600, 450000, 319100, 602000, 575000, 710000, 590000, 880000, 989000, 730000, 910000, 830000, 999999, 850000, 640000, 370000, 457821, 650000, 280000, 586000, 498000, 525000, 550000, 910000, 885000, 490000, 540000, 451230, 525000, 475000, 100000, 361722, 720000, 568750, 542000, 806000, 330000, 550000, 395000, 490000, 457000, 350000, 655000, 690000, 1128508, 615000, 133500, 1450000, 800000, 500000, 905000, 935000, 900000, 800000, 780000, 818000, 950000, 470000, 450000, 306135, 580000, 465593, 251000, 265000, 530000, 490000, 657558, 557000, 510000, 380000, 1358000, 815000, 530000, 675000, 627000, 380000, 252400, 530000, 550000, 425000, 1562000, 400000, 300000, 640000, 857000, 530000, 555000, 510000, 675343, 820000, 1350000, 1150000, 1400000, 999000, 531260, 1491000, 640000, 715000, 300000, 905000, 880000, 788000, 805000, 226667, 1180000, 596900, 420000, 670000, 565000, 361092, 615000, 830000, 400000, 700000, 550000, 685000, 400000, 775000, 415000, 750000, 465000, 324480, 356310, 632500, 560000, 335000, 410000, 420000, 390000, 856900, 485000, 390500, 590000, 665000, 550000, 490000, 725000, 589000, 940000, 650000, 600000, 815000, 1168000, 500000, 473800, 400000, 700000, 680000, 462500, 450000, 535000, 455000, 228150, 272000, 180000, 340000, 285000, 350000, 525000, 1525000, 460000, 355000, 1150000, 890000, 310000, 645000, 925000, 850000, 1525000, 750000, 630000, 949000, 895000, 855000, 660000, 615000, 950000, 435000, 795000, 1650000, 280000, 999600, 460000, 418000, 490000, 401544, 465000, 702000, 380000, 620000, 835000, 1485000, 335000, 300000, 440000, 545000, 662000, 522000, 579000, 413000, 516000, 804124, 390390, 661863, 1170988, 461370, 520000, 300000, 404250, 400000, 510000, 326864, 460000, 282755, 1500000, 1375000, 474226, 680000, 620000, 250000, 880000, 677500, 715000, 1400000, 570000, 1100000, 1100000, 1675000, 1475000, 992500, 788000, 540000, 350000, 750000, 880000, 1150000, 690000, 700000, 710000, 760000, 1876000, 675000, 463146, 354500, 240000, 585000, 395000, 425000, 540000, 417000, 444558, 267000, 412600, 537500, 541709, 1053000, 760000, 540000, 570000, 130000, 465000, 535000, 520000, 515000, 475000, 500000, 330000, 690000, 610949, 520000, 104000], \"yaxis\": \"y\"}, {\"hoverlabel\": {\"namelength\": 0}, \"hovertemplate\": \"<b>OLS trendline</b><br>SALE_PRICE = 223.291481 * GROSS_SQUARE_FEET + 291991.142007<br>R<sup>2</sup>=0.205547<br><br>GROSS_SQUARE_FEET=%{x}<br>SALE_PRICE=%{y} <b>(trend)</b>\", \"legendgroup\": \"\", \"marker\": {\"symbol\": \"circle\"}, \"mode\": \"lines\", \"name\": \"\", \"showlegend\": false, \"type\": \"scattergl\", \"x\": [0.0, 0.0, 0.0, 0.0, 0.0, 0.0, 0.0, 0.0, 0.0, 0.0, 0.0, 0.0, 0.0, 0.0, 0.0, 0.0, 0.0, 0.0, 0.0, 0.0, 0.0, 0.0, 0.0, 0.0, 0.0, 0.0, 0.0, 0.0, 0.0, 0.0, 0.0, 375.0, 425.0, 436.0, 448.0, 448.0, 468.0, 488.0, 492.0, 518.0, 528.0, 540.0, 540.0, 560.0, 570.0, 570.0, 572.0, 576.0, 576.0, 576.0, 585.0, 585.0, 600.0, 600.0, 600.0, 600.0, 600.0, 600.0, 600.0, 621.0, 625.0, 630.0, 630.0, 632.0, 637.0, 640.0, 640.0, 648.0, 660.0, 660.0, 660.0, 672.0, 676.0, 680.0, 683.0, 684.0, 696.0, 698.0, 702.0, 704.0, 704.0, 710.0, 720.0, 720.0, 720.0, 725.0, 726.0, 726.0, 728.0, 730.0, 730.0, 732.0, 732.0, 736.0, 740.0, 740.0, 744.0, 744.0, 748.0, 752.0, 756.0, 756.0, 759.0, 760.0, 760.0, 760.0, 761.0, 768.0, 770.0, 779.0, 780.0, 780.0, 784.0, 784.0, 784.0, 784.0, 792.0, 796.0, 796.0, 799.0, 800.0, 800.0, 800.0, 800.0, 800.0, 810.0, 812.0, 816.0, 816.0, 820.0, 820.0, 821.0, 825.0, 828.0, 828.0, 832.0, 833.0, 836.0, 840.0, 840.0, 842.0, 845.0, 850.0, 850.0, 850.0, 850.0, 854.0, 858.0, 858.0, 860.0, 860.0, 861.0, 864.0, 864.0, 864.0, 864.0, 864.0, 864.0, 866.0, 867.0, 868.0, 870.0, 870.0, 872.0, 872.0, 874.0, 874.0, 874.0, 876.0, 876.0, 880.0, 880.0, 880.0, 880.0, 880.0, 882.0, 884.0, 885.0, 888.0, 890.0, 892.0, 896.0, 896.0, 896.0, 896.0, 896.0, 896.0, 896.0, 896.0, 896.0, 896.0, 896.0, 896.0, 896.0, 900.0, 900.0, 900.0, 900.0, 900.0, 900.0, 900.0, 900.0, 900.0, 900.0, 900.0, 900.0, 902.0, 904.0, 904.0, 910.0, 910.0, 910.0, 912.0, 912.0, 912.0, 912.0, 912.0, 912.0, 916.0, 918.0, 920.0, 920.0, 920.0, 921.0, 924.0, 924.0, 924.0, 924.0, 924.0, 924.0, 926.0, 928.0, 928.0, 928.0, 930.0, 930.0, 931.0, 934.0, 936.0, 936.0, 938.0, 938.0, 940.0, 942.0, 944.0, 944.0, 944.0, 944.0, 944.0, 945.0, 945.0, 946.0, 946.0, 946.0, 946.0, 946.0, 949.0, 950.0, 952.0, 952.0, 952.0, 952.0, 952.0, 952.0, 956.0, 956.0, 956.0, 960.0, 960.0, 960.0, 960.0, 960.0, 960.0, 960.0, 960.0, 960.0, 960.0, 960.0, 960.0, 960.0, 960.0, 960.0, 960.0, 960.0, 960.0, 960.0, 960.0, 960.0, 960.0, 960.0, 960.0, 960.0, 960.0, 964.0, 966.0, 969.0, 970.0, 970.0, 975.0, 975.0, 975.0, 975.0, 975.0, 976.0, 976.0, 978.0, 978.0, 978.0, 980.0, 988.0, 988.0, 990.0, 990.0, 990.0, 991.0, 992.0, 992.0, 992.0, 992.0, 992.0, 996.0, 996.0, 996.0, 996.0, 996.0, 996.0, 997.0, 1000.0, 1000.0, 1000.0, 1000.0, 1000.0, 1000.0, 1000.0, 1000.0, 1000.0, 1000.0, 1000.0, 1000.0, 1008.0, 1008.0, 1008.0, 1008.0, 1008.0, 1008.0, 1008.0, 1008.0, 1008.0, 1008.0, 1008.0, 1008.0, 1012.0, 1012.0, 1014.0, 1014.0, 1017.0, 1020.0, 1020.0, 1020.0, 1020.0, 1020.0, 1020.0, 1020.0, 1020.0, 1020.0, 1020.0, 1020.0, 1020.0, 1020.0, 1020.0, 1023.0, 1024.0, 1024.0, 1024.0, 1024.0, 1024.0, 1024.0, 1024.0, 1024.0, 1026.0, 1026.0, 1030.0, 1031.0, 1031.0, 1032.0, 1035.0, 1036.0, 1036.0, 1036.0, 1036.0, 1036.0, 1036.0, 1038.0, 1038.0, 1040.0, 1040.0, 1040.0, 1040.0, 1040.0, 1040.0, 1040.0, 1044.0, 1044.0, 1044.0, 1044.0, 1044.0, 1050.0, 1050.0, 1050.0, 1050.0, 1050.0, 1050.0, 1050.0, 1050.0, 1050.0, 1050.0, 1050.0, 1050.0, 1050.0, 1050.0, 1054.0, 1056.0, 1056.0, 1056.0, 1056.0, 1056.0, 1056.0, 1056.0, 1056.0, 1056.0, 1056.0, 1056.0, 1056.0, 1056.0, 1056.0, 1056.0, 1057.0, 1058.0, 1060.0, 1060.0, 1060.0, 1061.0, 1063.0, 1064.0, 1064.0, 1064.0, 1064.0, 1064.0, 1064.0, 1064.0, 1064.0, 1066.0, 1066.0, 1068.0, 1072.0, 1072.0, 1076.0, 1076.0, 1076.0, 1077.0, 1078.0, 1078.0, 1080.0, 1080.0, 1080.0, 1080.0, 1080.0, 1080.0, 1080.0, 1080.0, 1080.0, 1080.0, 1080.0, 1080.0, 1080.0, 1080.0, 1080.0, 1080.0, 1080.0, 1080.0, 1080.0, 1083.0, 1084.0, 1084.0, 1084.0, 1084.0, 1084.0, 1086.0, 1086.0, 1086.0, 1086.0, 1088.0, 1088.0, 1088.0, 1088.0, 1088.0, 1088.0, 1088.0, 1089.0, 1089.0, 1090.0, 1090.0, 1091.0, 1092.0, 1092.0, 1092.0, 1092.0, 1092.0, 1092.0, 1092.0, 1094.0, 1094.0, 1094.0, 1095.0, 1096.0, 1096.0, 1098.0, 1100.0, 1100.0, 1100.0, 1100.0, 1100.0, 1100.0, 1100.0, 1101.0, 1102.0, 1104.0, 1104.0, 1104.0, 1104.0, 1104.0, 1105.0, 1105.0, 1108.0, 1110.0, 1110.0, 1110.0, 1111.0, 1112.0, 1112.0, 1112.0, 1114.0, 1115.0, 1116.0, 1116.0, 1116.0, 1116.0, 1116.0, 1116.0, 1116.0, 1116.0, 1116.0, 1116.0, 1116.0, 1116.0, 1116.0, 1116.0, 1118.0, 1120.0, 1120.0, 1120.0, 1120.0, 1120.0, 1120.0, 1120.0, 1120.0, 1120.0, 1120.0, 1120.0, 1120.0, 1120.0, 1120.0, 1120.0, 1120.0, 1120.0, 1120.0, 1120.0, 1120.0, 1120.0, 1120.0, 1120.0, 1120.0, 1120.0, 1122.0, 1124.0, 1125.0, 1125.0, 1125.0, 1125.0, 1125.0, 1125.0, 1125.0, 1125.0, 1126.0, 1126.0, 1126.0, 1127.0, 1128.0, 1128.0, 1128.0, 1128.0, 1130.0, 1131.0, 1132.0, 1132.0, 1132.0, 1132.0, 1134.0, 1134.0, 1134.0, 1134.0, 1135.0, 1136.0, 1136.0, 1137.0, 1138.0, 1140.0, 1140.0, 1140.0, 1140.0, 1140.0, 1140.0, 1140.0, 1141.0, 1142.0, 1142.0, 1144.0, 1144.0, 1144.0, 1144.0, 1144.0, 1144.0, 1144.0, 1144.0, 1144.0, 1144.0, 1144.0, 1144.0, 1144.0, 1145.0, 1145.0, 1147.0, 1147.0, 1148.0, 1148.0, 1148.0, 1148.0, 1148.0, 1148.0, 1148.0, 1150.0, 1150.0, 1150.0, 1151.0, 1152.0, 1152.0, 1152.0, 1152.0, 1152.0, 1152.0, 1152.0, 1152.0, 1152.0, 1152.0, 1152.0, 1152.0, 1152.0, 1152.0, 1152.0, 1152.0, 1152.0, 1152.0, 1152.0, 1152.0, 1152.0, 1152.0, 1154.0, 1155.0, 1156.0, 1156.0, 1156.0, 1160.0, 1160.0, 1160.0, 1160.0, 1160.0, 1160.0, 1160.0, 1160.0, 1160.0, 1160.0, 1160.0, 1160.0, 1160.0, 1160.0, 1162.0, 1163.0, 1168.0, 1168.0, 1168.0, 1168.0, 1168.0, 1169.0, 1170.0, 1170.0, 1170.0, 1170.0, 1170.0, 1170.0, 1170.0, 1172.0, 1175.0, 1176.0, 1176.0, 1176.0, 1176.0, 1176.0, 1176.0, 1180.0, 1180.0, 1180.0, 1180.0, 1180.0, 1180.0, 1182.0, 1182.0, 1182.0, 1184.0, 1184.0, 1184.0, 1184.0, 1184.0, 1184.0, 1184.0, 1185.0, 1185.0, 1185.0, 1186.0, 1186.0, 1188.0, 1188.0, 1188.0, 1188.0, 1188.0, 1188.0, 1188.0, 1190.0, 1190.0, 1190.0, 1190.0, 1191.0, 1192.0, 1192.0, 1192.0, 1192.0, 1192.0, 1194.0, 1194.0, 1195.0, 1196.0, 1196.0, 1196.0, 1196.0, 1198.0, 1198.0, 1198.0, 1200.0, 1200.0, 1200.0, 1200.0, 1200.0, 1200.0, 1200.0, 1200.0, 1200.0, 1200.0, 1200.0, 1200.0, 1200.0, 1200.0, 1200.0, 1200.0, 1200.0, 1200.0, 1200.0, 1200.0, 1200.0, 1200.0, 1200.0, 1200.0, 1200.0, 1200.0, 1200.0, 1200.0, 1200.0, 1200.0, 1200.0, 1200.0, 1202.0, 1202.0, 1203.0, 1203.0, 1204.0, 1204.0, 1204.0, 1205.0, 1206.0, 1206.0, 1206.0, 1208.0, 1208.0, 1208.0, 1208.0, 1208.0, 1208.0, 1210.0, 1210.0, 1210.0, 1212.0, 1212.0, 1214.0, 1214.0, 1214.0, 1214.0, 1215.0, 1215.0, 1216.0, 1216.0, 1216.0, 1216.0, 1216.0, 1216.0, 1216.0, 1216.0, 1216.0, 1216.0, 1216.0, 1216.0, 1216.0, 1216.0, 1218.0, 1220.0, 1220.0, 1220.0, 1220.0, 1222.0, 1224.0, 1224.0, 1224.0, 1224.0, 1224.0, 1224.0, 1224.0, 1224.0, 1224.0, 1224.0, 1224.0, 1224.0, 1224.0, 1224.0, 1224.0, 1224.0, 1224.0, 1224.0, 1224.0, 1224.0, 1224.0, 1224.0, 1224.0, 1225.0, 1228.0, 1230.0, 1230.0, 1230.0, 1230.0, 1230.0, 1230.0, 1232.0, 1232.0, 1232.0, 1232.0, 1232.0, 1232.0, 1232.0, 1232.0, 1232.0, 1232.0, 1234.0, 1234.0, 1234.0, 1235.0, 1236.0, 1236.0, 1238.0, 1238.0, 1238.0, 1240.0, 1240.0, 1240.0, 1240.0, 1240.0, 1240.0, 1240.0, 1240.0, 1240.0, 1240.0, 1240.0, 1242.0, 1242.0, 1242.0, 1242.0, 1242.0, 1244.0, 1245.0, 1245.0, 1245.0, 1246.0, 1246.0, 1246.0, 1248.0, 1248.0, 1248.0, 1248.0, 1248.0, 1248.0, 1248.0, 1248.0, 1248.0, 1248.0, 1248.0, 1248.0, 1248.0, 1248.0, 1248.0, 1248.0, 1248.0, 1248.0, 1248.0, 1248.0, 1248.0, 1248.0, 1249.0, 1250.0, 1250.0, 1250.0, 1251.0, 1252.0, 1252.0, 1254.0, 1255.0, 1256.0, 1256.0, 1258.0, 1258.0, 1260.0, 1260.0, 1260.0, 1260.0, 1260.0, 1260.0, 1260.0, 1260.0, 1260.0, 1260.0, 1260.0, 1260.0, 1260.0, 1260.0, 1260.0, 1260.0, 1260.0, 1260.0, 1260.0, 1260.0, 1264.0, 1264.0, 1264.0, 1264.0, 1264.0, 1264.0, 1264.0, 1264.0, 1264.0, 1265.0, 1266.0, 1266.0, 1267.0, 1268.0, 1272.0, 1273.0, 1274.0, 1274.0, 1274.0, 1274.0, 1276.0, 1276.0, 1278.0, 1280.0, 1280.0, 1280.0, 1280.0, 1280.0, 1280.0, 1280.0, 1280.0, 1280.0, 1280.0, 1280.0, 1280.0, 1280.0, 1280.0, 1280.0, 1280.0, 1280.0, 1280.0, 1280.0, 1280.0, 1280.0, 1280.0, 1280.0, 1280.0, 1280.0, 1280.0, 1280.0, 1280.0, 1280.0, 1280.0, 1280.0, 1280.0, 1280.0, 1281.0, 1282.0, 1282.0, 1282.0, 1282.0, 1284.0, 1284.0, 1285.0, 1288.0, 1288.0, 1288.0, 1288.0, 1288.0, 1288.0, 1288.0, 1289.0, 1290.0, 1292.0, 1292.0, 1294.0, 1295.0, 1295.0, 1296.0, 1296.0, 1296.0, 1296.0, 1296.0, 1296.0, 1296.0, 1296.0, 1296.0, 1296.0, 1296.0, 1296.0, 1296.0, 1296.0, 1296.0, 1296.0, 1296.0, 1296.0, 1296.0, 1296.0, 1296.0, 1296.0, 1296.0, 1296.0, 1296.0, 1296.0, 1296.0, 1296.0, 1296.0, 1296.0, 1296.0, 1297.0, 1298.0, 1298.0, 1299.0, 1300.0, 1300.0, 1300.0, 1300.0, 1300.0, 1300.0, 1300.0, 1300.0, 1300.0, 1300.0, 1300.0, 1302.0, 1304.0, 1304.0, 1304.0, 1304.0, 1304.0, 1304.0, 1305.0, 1305.0, 1305.0, 1306.0, 1307.0, 1308.0, 1308.0, 1309.0, 1312.0, 1312.0, 1312.0, 1312.0, 1312.0, 1312.0, 1312.0, 1312.0, 1312.0, 1314.0, 1316.0, 1316.0, 1316.0, 1318.0, 1320.0, 1320.0, 1320.0, 1320.0, 1320.0, 1320.0, 1320.0, 1320.0, 1320.0, 1320.0, 1320.0, 1320.0, 1320.0, 1320.0, 1320.0, 1320.0, 1320.0, 1320.0, 1321.0, 1322.0, 1322.0, 1323.0, 1323.0, 1324.0, 1324.0, 1324.0, 1324.0, 1325.0, 1325.0, 1325.0, 1325.0, 1326.0, 1326.0, 1327.0, 1328.0, 1328.0, 1328.0, 1328.0, 1328.0, 1328.0, 1328.0, 1328.0, 1329.0, 1329.0, 1330.0, 1330.0, 1330.0, 1330.0, 1330.0, 1332.0, 1332.0, 1332.0, 1332.0, 1332.0, 1334.0, 1335.0, 1336.0, 1338.0, 1338.0, 1339.0, 1339.0, 1339.0, 1342.0, 1344.0, 1344.0, 1344.0, 1344.0, 1344.0, 1344.0, 1344.0, 1344.0, 1344.0, 1344.0, 1344.0, 1344.0, 1344.0, 1344.0, 1344.0, 1344.0, 1344.0, 1344.0, 1344.0, 1344.0, 1345.0, 1348.0, 1348.0, 1350.0, 1350.0, 1350.0, 1350.0, 1350.0, 1350.0, 1350.0, 1350.0, 1350.0, 1350.0, 1352.0, 1352.0, 1352.0, 1354.0, 1354.0, 1354.0, 1354.0, 1356.0, 1356.0, 1356.0, 1356.0, 1358.0, 1360.0, 1360.0, 1360.0, 1360.0, 1360.0, 1360.0, 1360.0, 1360.0, 1360.0, 1360.0, 1360.0, 1360.0, 1360.0, 1360.0, 1360.0, 1360.0, 1360.0, 1360.0, 1360.0, 1361.0, 1362.0, 1364.0, 1364.0, 1367.0, 1368.0, 1368.0, 1368.0, 1368.0, 1368.0, 1368.0, 1368.0, 1368.0, 1368.0, 1368.0, 1369.0, 1370.0, 1372.0, 1372.0, 1372.0, 1372.0, 1372.0, 1374.0, 1375.0, 1376.0, 1376.0, 1376.0, 1376.0, 1376.0, 1376.0, 1376.0, 1376.0, 1377.0, 1377.0, 1377.0, 1377.0, 1377.0, 1378.0, 1378.0, 1380.0, 1380.0, 1380.0, 1380.0, 1381.0, 1382.0, 1382.0, 1384.0, 1384.0, 1385.0, 1386.0, 1388.0, 1388.0, 1392.0, 1392.0, 1392.0, 1392.0, 1392.0, 1392.0, 1392.0, 1392.0, 1394.0, 1395.0, 1396.0, 1396.0, 1399.0, 1399.0, 1400.0, 1400.0, 1400.0, 1400.0, 1400.0, 1400.0, 1400.0, 1400.0, 1400.0, 1400.0, 1400.0, 1400.0, 1400.0, 1400.0, 1400.0, 1400.0, 1400.0, 1400.0, 1400.0, 1400.0, 1400.0, 1400.0, 1400.0, 1402.0, 1402.0, 1403.0, 1404.0, 1404.0, 1405.0, 1405.0, 1406.0, 1406.0, 1407.0, 1408.0, 1408.0, 1408.0, 1408.0, 1408.0, 1408.0, 1408.0, 1408.0, 1408.0, 1408.0, 1408.0, 1408.0, 1409.0, 1410.0, 1410.0, 1412.0, 1412.0, 1415.0, 1416.0, 1416.0, 1416.0, 1418.0, 1418.0, 1420.0, 1420.0, 1420.0, 1422.0, 1422.0, 1422.0, 1424.0, 1424.0, 1424.0, 1424.0, 1424.0, 1424.0, 1424.0, 1425.0, 1426.0, 1426.0, 1427.0, 1428.0, 1428.0, 1428.0, 1428.0, 1428.0, 1428.0, 1432.0, 1432.0, 1432.0, 1433.0, 1434.0, 1434.0, 1434.0, 1436.0, 1436.0, 1438.0, 1438.0, 1440.0, 1440.0, 1440.0, 1440.0, 1440.0, 1440.0, 1440.0, 1440.0, 1440.0, 1440.0, 1440.0, 1440.0, 1440.0, 1440.0, 1440.0, 1440.0, 1440.0, 1440.0, 1440.0, 1440.0, 1440.0, 1440.0, 1440.0, 1440.0, 1440.0, 1440.0, 1440.0, 1440.0, 1440.0, 1440.0, 1440.0, 1440.0, 1440.0, 1440.0, 1440.0, 1440.0, 1440.0, 1440.0, 1440.0, 1440.0, 1440.0, 1442.0, 1444.0, 1444.0, 1446.0, 1448.0, 1448.0, 1448.0, 1448.0, 1449.0, 1450.0, 1450.0, 1450.0, 1450.0, 1452.0, 1452.0, 1452.0, 1452.0, 1452.0, 1452.0, 1454.0, 1455.0, 1455.0, 1456.0, 1456.0, 1456.0, 1456.0, 1457.0, 1460.0, 1460.0, 1460.0, 1460.0, 1460.0, 1460.0, 1460.0, 1460.0, 1460.0, 1463.0, 1464.0, 1464.0, 1464.0, 1464.0, 1464.0, 1466.0, 1468.0, 1468.0, 1469.0, 1470.0, 1470.0, 1470.0, 1470.0, 1470.0, 1472.0, 1472.0, 1472.0, 1472.0, 1472.0, 1472.0, 1472.0, 1472.0, 1475.0, 1476.0, 1476.0, 1476.0, 1476.0, 1480.0, 1480.0, 1480.0, 1480.0, 1480.0, 1480.0, 1480.0, 1480.0, 1480.0, 1480.0, 1480.0, 1484.0, 1485.0, 1485.0, 1487.0, 1488.0, 1488.0, 1488.0, 1488.0, 1488.0, 1489.0, 1489.0, 1490.0, 1492.0, 1494.0, 1494.0, 1496.0, 1496.0, 1496.0, 1496.0, 1496.0, 1496.0, 1496.0, 1496.0, 1498.0, 1500.0, 1500.0, 1500.0, 1500.0, 1500.0, 1500.0, 1500.0, 1500.0, 1500.0, 1500.0, 1500.0, 1500.0, 1501.0, 1504.0, 1504.0, 1504.0, 1504.0, 1504.0, 1506.0, 1506.0, 1508.0, 1508.0, 1510.0, 1510.0, 1512.0, 1512.0, 1512.0, 1512.0, 1512.0, 1512.0, 1512.0, 1515.0, 1516.0, 1516.0, 1516.0, 1518.0, 1519.0, 1520.0, 1520.0, 1520.0, 1520.0, 1520.0, 1520.0, 1520.0, 1520.0, 1520.0, 1520.0, 1520.0, 1520.0, 1520.0, 1520.0, 1522.0, 1524.0, 1525.0, 1526.0, 1528.0, 1528.0, 1528.0, 1528.0, 1528.0, 1528.0, 1528.0, 1528.0, 1530.0, 1530.0, 1530.0, 1530.0, 1532.0, 1534.0, 1534.0, 1535.0, 1536.0, 1536.0, 1536.0, 1536.0, 1536.0, 1536.0, 1536.0, 1536.0, 1536.0, 1536.0, 1536.0, 1536.0, 1536.0, 1536.0, 1536.0, 1538.0, 1539.0, 1539.0, 1540.0, 1540.0, 1540.0, 1540.0, 1540.0, 1540.0, 1540.0, 1542.0, 1542.0, 1544.0, 1544.0, 1544.0, 1546.0, 1546.0, 1548.0, 1548.0, 1550.0, 1550.0, 1550.0, 1551.0, 1552.0, 1552.0, 1552.0, 1552.0, 1552.0, 1552.0, 1552.0, 1552.0, 1552.0, 1552.0, 1552.0, 1552.0, 1552.0, 1552.0, 1552.0, 1554.0, 1554.0, 1556.0, 1557.0, 1557.0, 1559.0, 1560.0, 1560.0, 1560.0, 1560.0, 1560.0, 1560.0, 1560.0, 1564.0, 1564.0, 1564.0, 1566.0, 1566.0, 1566.0, 1566.0, 1566.0, 1566.0, 1567.0, 1568.0, 1568.0, 1568.0, 1568.0, 1568.0, 1568.0, 1568.0, 1568.0, 1568.0, 1568.0, 1568.0, 1568.0, 1570.0, 1570.0, 1575.0, 1575.0, 1575.0, 1576.0, 1576.0, 1576.0, 1577.0, 1578.0, 1578.0, 1578.0, 1580.0, 1580.0, 1580.0, 1583.0, 1584.0, 1584.0, 1584.0, 1584.0, 1584.0, 1584.0, 1584.0, 1584.0, 1584.0, 1584.0, 1585.0, 1585.0, 1585.0, 1585.0, 1586.0, 1586.0, 1591.0, 1592.0, 1592.0, 1592.0, 1592.0, 1593.0, 1594.0, 1594.0, 1595.0, 1596.0, 1598.0, 1599.0, 1600.0, 1600.0, 1600.0, 1600.0, 1600.0, 1600.0, 1600.0, 1600.0, 1600.0, 1600.0, 1600.0, 1600.0, 1600.0, 1600.0, 1600.0, 1600.0, 1600.0, 1600.0, 1600.0, 1600.0, 1600.0, 1600.0, 1600.0, 1601.0, 1605.0, 1606.0, 1608.0, 1608.0, 1608.0, 1608.0, 1608.0, 1608.0, 1610.0, 1610.0, 1612.0, 1614.0, 1616.0, 1617.0, 1620.0, 1620.0, 1620.0, 1620.0, 1620.0, 1620.0, 1620.0, 1620.0, 1622.0, 1622.0, 1622.0, 1623.0, 1624.0, 1624.0, 1624.0, 1624.0, 1624.0, 1624.0, 1630.0, 1630.0, 1632.0, 1632.0, 1632.0, 1632.0, 1632.0, 1632.0, 1632.0, 1632.0, 1632.0, 1633.0, 1635.0, 1636.0, 1636.0, 1636.0, 1638.0, 1638.0, 1638.0, 1638.0, 1638.0, 1640.0, 1645.0, 1645.0, 1645.0, 1646.0, 1648.0, 1648.0, 1648.0, 1648.0, 1650.0, 1650.0, 1650.0, 1650.0, 1650.0, 1650.0, 1650.0, 1653.0, 1656.0, 1658.0, 1658.0, 1658.0, 1660.0, 1660.0, 1660.0, 1660.0, 1660.0, 1660.0, 1664.0, 1664.0, 1664.0, 1664.0, 1665.0, 1666.0, 1668.0, 1668.0, 1670.0, 1672.0, 1672.0, 1672.0, 1672.0, 1672.0, 1672.0, 1673.0, 1676.0, 1679.0, 1679.0, 1680.0, 1680.0, 1680.0, 1680.0, 1680.0, 1680.0, 1680.0, 1680.0, 1680.0, 1680.0, 1683.0, 1683.0, 1683.0, 1683.0, 1683.0, 1683.0, 1683.0, 1688.0, 1690.0, 1690.0, 1690.0, 1691.0, 1692.0, 1694.0, 1696.0, 1696.0, 1697.0, 1700.0, 1700.0, 1700.0, 1700.0, 1700.0, 1702.0, 1704.0, 1707.0, 1708.0, 1708.0, 1709.0, 1712.0, 1712.0, 1714.0, 1715.0, 1715.0, 1716.0, 1716.0, 1718.0, 1720.0, 1720.0, 1720.0, 1722.0, 1724.0, 1724.0, 1725.0, 1726.0, 1726.0, 1727.0, 1727.0, 1728.0, 1728.0, 1728.0, 1728.0, 1728.0, 1729.0, 1729.0, 1732.0, 1732.0, 1732.0, 1732.0, 1738.0, 1742.0, 1744.0, 1744.0, 1744.0, 1748.0, 1748.0, 1749.0, 1750.0, 1750.0, 1750.0, 1751.0, 1751.0, 1752.0, 1754.0, 1755.0, 1756.0, 1756.0, 1758.0, 1758.0, 1758.0, 1760.0, 1760.0, 1760.0, 1760.0, 1760.0, 1760.0, 1762.0, 1764.0, 1764.0, 1764.0, 1764.0, 1765.0, 1765.0, 1768.0, 1770.0, 1772.0, 1772.0, 1775.0, 1775.0, 1776.0, 1776.0, 1776.0, 1776.0, 1776.0, 1776.0, 1776.0, 1776.0, 1776.0, 1778.0, 1779.0, 1780.0, 1780.0, 1782.0, 1782.0, 1782.0, 1782.0, 1782.0, 1785.0, 1789.0, 1791.0, 1792.0, 1792.0, 1793.0, 1793.0, 1794.0, 1794.0, 1795.0, 1795.0, 1796.0, 1800.0, 1800.0, 1800.0, 1800.0, 1800.0, 1800.0, 1800.0, 1800.0, 1800.0, 1800.0, 1800.0, 1804.0, 1806.0, 1806.0, 1807.0, 1807.0, 1807.0, 1808.0, 1808.0, 1808.0, 1809.0, 1812.0, 1812.0, 1812.0, 1813.0, 1813.0, 1814.0, 1814.0, 1816.0, 1820.0, 1820.0, 1820.0, 1820.0, 1824.0, 1824.0, 1824.0, 1826.0, 1826.0, 1828.0, 1828.0, 1830.0, 1831.0, 1831.0, 1831.0, 1831.0, 1832.0, 1836.0, 1836.0, 1836.0, 1839.0, 1840.0, 1840.0, 1840.0, 1842.0, 1844.0, 1845.0, 1846.0, 1848.0, 1848.0, 1848.0, 1850.0, 1851.0, 1853.0, 1855.0, 1856.0, 1856.0, 1858.0, 1860.0, 1860.0, 1864.0, 1864.0, 1868.0, 1868.0, 1869.0, 1870.0, 1870.0, 1870.0, 1872.0, 1872.0, 1873.0, 1874.0, 1876.0, 1877.0, 1880.0, 1882.0, 1888.0, 1888.0, 1888.0, 1888.0, 1888.0, 1890.0, 1890.0, 1890.0, 1890.0, 1890.0, 1890.0, 1894.0, 1896.0, 1896.0, 1900.0, 1900.0, 1900.0, 1902.0, 1904.0, 1906.0, 1908.0, 1908.0, 1910.0, 1913.0, 1914.0, 1914.0, 1916.0, 1916.0, 1920.0, 1920.0, 1920.0, 1920.0, 1920.0, 1920.0, 1920.0, 1920.0, 1920.0, 1920.0, 1923.0, 1925.0, 1925.0, 1925.0, 1925.0, 1925.0, 1927.0, 1932.0, 1933.0, 1943.0, 1944.0, 1944.0, 1944.0, 1944.0, 1944.0, 1949.0, 1950.0, 1950.0, 1959.0, 1960.0, 1960.0, 1960.0, 1962.0, 1964.0, 1964.0, 1965.0, 1965.0, 1968.0, 1970.0, 1972.0, 1975.0, 1976.0, 1976.0, 1977.0, 1980.0, 1980.0, 1980.0, 1980.0, 1980.0, 1982.0, 1984.0, 1990.0, 1991.0, 1991.0, 1992.0, 1992.0, 1995.0, 1995.0, 1995.0, 1995.0, 1996.0, 1997.0, 1998.0, 1998.0, 1998.0, 1999.0, 2000.0, 2000.0, 2000.0, 2000.0, 2000.0, 2000.0, 2000.0, 2001.0, 2001.0, 2002.0, 2002.0, 2003.0, 2004.0, 2006.0, 2007.0, 2008.0, 2014.0, 2016.0, 2016.0, 2018.0, 2020.0, 2022.0, 2025.0, 2025.0, 2025.0, 2032.0, 2037.0, 2040.0, 2040.0, 2040.0, 2043.0, 2044.0, 2046.0, 2047.0, 2047.0, 2048.0, 2050.0, 2050.0, 2052.0, 2058.0, 2058.0, 2063.0, 2063.0, 2064.0, 2064.0, 2068.0, 2069.0, 2072.0, 2072.0, 2080.0, 2083.0, 2086.0, 2087.0, 2088.0, 2090.0, 2096.0, 2099.0, 2100.0, 2100.0, 2100.0, 2100.0, 2101.0, 2104.0, 2110.0, 2112.0, 2115.0, 2120.0, 2120.0, 2124.0, 2128.0, 2128.0, 2128.0, 2130.0, 2132.0, 2132.0, 2132.0, 2132.0, 2134.0, 2140.0, 2141.0, 2149.0, 2150.0, 2157.0, 2158.0, 2158.0, 2160.0, 2160.0, 2160.0, 2160.0, 2160.0, 2165.0, 2172.0, 2172.0, 2172.0, 2175.0, 2176.0, 2178.0, 2184.0, 2186.0, 2187.0, 2188.0, 2190.0, 2190.0, 2194.0, 2196.0, 2200.0, 2200.0, 2200.0, 2205.0, 2208.0, 2208.0, 2208.0, 2210.0, 2212.0, 2220.0, 2221.0, 2222.0, 2226.0, 2230.0, 2236.0, 2238.0, 2241.0, 2241.0, 2242.0, 2244.0, 2248.0, 2248.0, 2250.0, 2250.0, 2261.0, 2262.0, 2264.0, 2268.0, 2268.0, 2274.0, 2275.0, 2275.0, 2278.0, 2280.0, 2280.0, 2288.0, 2289.0, 2289.0, 2292.0, 2295.0, 2296.0, 2300.0, 2310.0, 2310.0, 2310.0, 2315.0, 2317.0, 2320.0, 2328.0, 2339.0, 2339.0, 2340.0, 2344.0, 2350.0, 2350.0, 2352.0, 2353.0, 2355.0, 2358.0, 2360.0, 2360.0, 2360.0, 2364.0, 2365.0, 2366.0, 2384.0, 2384.0, 2384.0, 2390.0, 2392.0, 2393.0, 2394.0, 2394.0, 2400.0, 2400.0, 2400.0, 2406.0, 2408.0, 2412.0, 2416.0, 2416.0, 2420.0, 2430.0, 2442.0, 2452.0, 2455.0, 2460.0, 2464.0, 2464.0, 2466.0, 2472.0, 2475.0, 2476.0, 2484.0, 2485.0, 2486.0, 2490.0, 2492.0, 2495.0, 2500.0, 2500.0, 2501.0, 2506.0, 2508.0, 2511.0, 2520.0, 2524.0, 2536.0, 2538.0, 2540.0, 2540.0, 2548.0, 2550.0, 2560.0, 2560.0, 2560.0, 2562.0, 2567.0, 2568.0, 2596.0, 2600.0, 2604.0, 2608.0, 2612.0, 2620.0, 2640.0, 2650.0, 2651.0, 2660.0, 2660.0, 2660.0, 2680.0, 2680.0, 2680.0, 2688.0, 2688.0, 2688.0, 2692.0, 2692.0, 2700.0, 2700.0, 2705.0, 2716.0, 2720.0, 2726.0, 2744.0, 2782.0, 2786.0, 2798.0, 2800.0, 2808.0, 2814.0, 2814.0, 2831.0, 2868.0, 2877.0, 2878.0, 2888.0, 2900.0, 2900.0, 2916.0, 2929.0, 2937.0, 2996.0, 3000.0, 3000.0, 3004.0, 3027.0, 3040.0, 3050.0, 3070.0, 3070.0, 3078.0, 3080.0, 3090.0, 3096.0, 3168.0, 3177.0, 3184.0, 3200.0, 3203.0, 3208.0, 3210.0, 3228.0, 3240.0, 3280.0, 3316.0, 3318.0, 3360.0, 3366.0, 3372.0, 3392.0, 3468.0, 3520.0, 3540.0, 3559.0, 3580.0, 3661.0, 3680.0, 3773.0, 3800.0, 3836.0, 3865.0, 4108.0, 4180.0, 4215.0, 4299.0, 4301.0, 4394.0, 4455.0, 4600.0, 4647.0, 4950.0, 5178.0, 5184.0, 5348.0, 7200.0, 7500.0, 7875.0], \"xaxis\": \"x\", \"y\": [291991.1420071225, 291991.1420071225, 291991.1420071225, 291991.1420071225, 291991.1420071225, 291991.1420071225, 291991.1420071225, 291991.1420071225, 291991.1420071225, 291991.1420071225, 291991.1420071225, 291991.1420071225, 291991.1420071225, 291991.1420071225, 291991.1420071225, 291991.1420071225, 291991.1420071225, 291991.1420071225, 291991.1420071225, 291991.1420071225, 291991.1420071225, 291991.1420071225, 291991.1420071225, 291991.1420071225, 291991.1420071225, 291991.1420071225, 291991.1420071225, 291991.1420071225, 291991.1420071225, 291991.1420071225, 291991.1420071225, 375725.4473359947, 386890.02137984434, 389346.22766949126, 392025.7254400152, 392025.7254400152, 396491.55505755503, 400957.38467509486, 401850.55059860286, 407656.12910140463, 409889.0439101746, 412568.54168069846, 412568.54168069846, 417034.37129823834, 419267.2861070082, 419267.2861070082, 419713.86906876223, 420607.0349922702, 420607.0349922702, 420607.0349922702, 422616.65832016314, 422616.65832016314, 425966.03053331806, 425966.03053331806, 425966.03053331806, 425966.03053331806, 425966.03053331806, 425966.03053331806, 425966.03053331806, 430655.15163173486, 431548.3175552428, 432664.7749596278, 432664.7749596278, 433111.35792138183, 434227.81532576674, 434897.6897683977, 434897.6897683977, 436684.02161541366, 439363.5193859376, 439363.5193859376, 439363.5193859376, 442043.0171564615, 442936.1830799695, 443829.34900347743, 444499.2234461084, 444722.5149269854, 447402.0126975093, 447848.5956592633, 448741.76158277126, 449188.34454452526, 449188.34454452526, 450528.0934297872, 452761.00823855714, 452761.00823855714, 452761.00823855714, 453877.4656429421, 454100.7571238191, 454100.7571238191, 454547.340085573, 454993.9230473271, 454993.9230473271, 455440.50600908103, 455440.50600908103, 456333.67193258903, 457226.837856097, 457226.837856097, 458120.0037796049, 458120.0037796049, 459013.1697031129, 459906.3356266209, 460799.50155012886, 460799.50155012886, 461469.37599275983, 461692.6674736368, 461692.6674736368, 461692.6674736368, 461915.95895451383, 463478.9993206528, 463925.58228240674, 465935.2056102997, 466158.4970911767, 466158.4970911767, 467051.6630146847, 467051.6630146847, 467051.6630146847, 467051.6630146847, 468837.9948617006, 469731.1607852086, 469731.1607852086, 470401.03522783954, 470624.3267087166, 470624.3267087166, 470624.3267087166, 470624.3267087166, 470624.3267087166, 472857.24151748646, 473303.82447924046, 474196.9904027484, 474196.9904027484, 475090.15632625634, 475090.15632625634, 475313.4478071334, 476206.6137306413, 476876.48817327234, 476876.48817327234, 477769.6540967803, 477992.9455776573, 478662.8200202882, 479555.98594379623, 479555.98594379623, 480002.56890555023, 480672.4433481812, 481788.9007525662, 481788.9007525662, 481788.9007525662, 481788.9007525662, 482682.0666760741, 483575.23259958206, 483575.23259958206, 484021.8155613361, 484021.8155613361, 484245.1070422131, 484914.98148484406, 484914.98148484406, 484914.98148484406, 484914.98148484406, 484914.98148484406, 484914.98148484406, 485361.56444659806, 485584.85592747503, 485808.147408352, 486254.730370106, 486254.730370106, 486701.31333186, 486701.31333186, 487147.89629361394, 487147.89629361394, 487147.89629361394, 487594.479255368, 487594.479255368, 488487.64517887594, 488487.64517887594, 488487.64517887594, 488487.64517887594, 488487.64517887594, 488934.22814062994, 489380.8111023839, 489604.10258326086, 490273.9770258919, 490720.5599876458, 491167.1429493999, 492060.30887290783, 492060.30887290783, 492060.30887290783, 492060.30887290783, 492060.30887290783, 492060.30887290783, 492060.30887290783, 492060.30887290783, 492060.30887290783, 492060.30887290783, 492060.30887290783, 492060.30887290783, 492060.30887290783, 492953.4747964158, 492953.4747964158, 492953.4747964158, 492953.4747964158, 492953.4747964158, 492953.4747964158, 492953.4747964158, 492953.4747964158, 492953.4747964158, 492953.4747964158, 492953.4747964158, 492953.4747964158, 493400.0577581698, 493846.6407199238, 493846.6407199238, 495186.3896051857, 495186.3896051857, 495186.3896051857, 495632.97256693966, 495632.97256693966, 495632.97256693966, 495632.97256693966, 495632.97256693966, 495632.97256693966, 496526.13849044766, 496972.72145220166, 497419.30441395566, 497419.30441395566, 497419.30441395566, 497642.59589483263, 498312.4703374636, 498312.4703374636, 498312.4703374636, 498312.4703374636, 498312.4703374636, 498312.4703374636, 498759.0532992176, 499205.63626097154, 499205.63626097154, 499205.63626097154, 499652.2192227256, 499652.2192227256, 499875.5107036026, 500545.38514623354, 500991.96810798754, 500991.96810798754, 501438.5510697415, 501438.5510697415, 501885.1340314955, 502331.7169932495, 502778.29995500343, 502778.29995500343, 502778.29995500343, 502778.29995500343, 502778.29995500343, 503001.59143588046, 503001.59143588046, 503224.88291675743, 503224.88291675743, 503224.88291675743, 503224.88291675743, 503224.88291675743, 503894.7573593884, 504118.0488402654, 504564.63180201943, 504564.63180201943, 504564.63180201943, 504564.63180201943, 504564.63180201943, 504564.63180201943, 505457.7977255274, 505457.7977255274, 505457.7977255274, 506350.9636490353, 506350.9636490353, 506350.9636490353, 506350.9636490353, 506350.9636490353, 506350.9636490353, 506350.9636490353, 506350.9636490353, 506350.9636490353, 506350.9636490353, 506350.9636490353, 506350.9636490353, 506350.9636490353, 506350.9636490353, 506350.9636490353, 506350.9636490353, 506350.9636490353, 506350.9636490353, 506350.9636490353, 506350.9636490353, 506350.9636490353, 506350.9636490353, 506350.9636490353, 506350.9636490353, 506350.9636490353, 506350.9636490353, 507244.1295725433, 507690.71253429726, 508360.5869769283, 508583.87845780526, 508583.87845780526, 509700.33586219023, 509700.33586219023, 509700.33586219023, 509700.33586219023, 509700.33586219023, 509923.6273430672, 509923.6273430672, 510370.2103048212, 510370.2103048212, 510370.2103048212, 510816.7932665752, 512603.1251135911, 512603.1251135911, 513049.70807534514, 513049.70807534514, 513049.70807534514, 513272.9995562221, 513496.2910370991, 513496.2910370991, 513496.2910370991, 513496.2910370991, 513496.2910370991, 514389.4569606071, 514389.4569606071, 514389.4569606071, 514389.4569606071, 514389.4569606071, 514389.4569606071, 514612.74844148406, 515282.62288411503, 515282.62288411503, 515282.62288411503, 515282.62288411503, 515282.62288411503, 515282.62288411503, 515282.62288411503, 515282.62288411503, 515282.62288411503, 515282.62288411503, 515282.62288411503, 515282.62288411503, 517068.954731131, 517068.954731131, 517068.954731131, 517068.954731131, 517068.954731131, 517068.954731131, 517068.954731131, 517068.954731131, 517068.954731131, 517068.954731131, 517068.954731131, 517068.954731131, 517962.120654639, 517962.120654639, 518408.7036163929, 518408.7036163929, 519078.57805902394, 519748.45250165486, 519748.45250165486, 519748.45250165486, 519748.45250165486, 519748.45250165486, 519748.45250165486, 519748.45250165486, 519748.45250165486, 519748.45250165486, 519748.45250165486, 519748.45250165486, 519748.45250165486, 519748.45250165486, 519748.45250165486, 520418.3269442859, 520641.61842516286, 520641.61842516286, 520641.61842516286, 520641.61842516286, 520641.61842516286, 520641.61842516286, 520641.61842516286, 520641.61842516286, 521088.2013869168, 521088.2013869168, 521981.3673104248, 522204.6587913018, 522204.6587913018, 522427.9502721788, 523097.8247148098, 523321.11619568674, 523321.11619568674, 523321.11619568674, 523321.11619568674, 523321.11619568674, 523321.11619568674, 523767.69915744074, 523767.69915744074, 524214.28211919474, 524214.28211919474, 524214.28211919474, 524214.28211919474, 524214.28211919474, 524214.28211919474, 524214.28211919474, 525107.4480427027, 525107.4480427027, 525107.4480427027, 525107.4480427027, 525107.4480427027, 526447.1969279647, 526447.1969279647, 526447.1969279647, 526447.1969279647, 526447.1969279647, 526447.1969279647, 526447.1969279647, 526447.1969279647, 526447.1969279647, 526447.1969279647, 526447.1969279647, 526447.1969279647, 526447.1969279647, 526447.1969279647, 527340.3628514726, 527786.9458132266, 527786.9458132266, 527786.9458132266, 527786.9458132266, 527786.9458132266, 527786.9458132266, 527786.9458132266, 527786.9458132266, 527786.9458132266, 527786.9458132266, 527786.9458132266, 527786.9458132266, 527786.9458132266, 527786.9458132266, 527786.9458132266, 528010.2372941036, 528233.5287749806, 528680.1117367346, 528680.1117367346, 528680.1117367346, 528903.4032176116, 529349.9861793655, 529573.2776602425, 529573.2776602425, 529573.2776602425, 529573.2776602425, 529573.2776602425, 529573.2776602425, 529573.2776602425, 529573.2776602425, 530019.8606219966, 530019.8606219966, 530466.4435837505, 531359.6095072585, 531359.6095072585, 532252.7754307664, 532252.7754307664, 532252.7754307664, 532476.0669116435, 532699.3583925205, 532699.3583925205, 533145.9413542744, 533145.9413542744, 533145.9413542744, 533145.9413542744, 533145.9413542744, 533145.9413542744, 533145.9413542744, 533145.9413542744, 533145.9413542744, 533145.9413542744, 533145.9413542744, 533145.9413542744, 533145.9413542744, 533145.9413542744, 533145.9413542744, 533145.9413542744, 533145.9413542744, 533145.9413542744, 533145.9413542744, 533815.8157969054, 534039.1072777824, 534039.1072777824, 534039.1072777824, 534039.1072777824, 534039.1072777824, 534485.6902395363, 534485.6902395363, 534485.6902395363, 534485.6902395363, 534932.2732012904, 534932.2732012904, 534932.2732012904, 534932.2732012904, 534932.2732012904, 534932.2732012904, 534932.2732012904, 535155.5646821674, 535155.5646821674, 535378.8561630443, 535378.8561630443, 535602.1476439213, 535825.4391247984, 535825.4391247984, 535825.4391247984, 535825.4391247984, 535825.4391247984, 535825.4391247984, 535825.4391247984, 536272.0220865523, 536272.0220865523, 536272.0220865523, 536495.3135674293, 536718.6050483063, 536718.6050483063, 537165.1880100603, 537611.7709718143, 537611.7709718143, 537611.7709718143, 537611.7709718143, 537611.7709718143, 537611.7709718143, 537611.7709718143, 537835.0624526913, 538058.3539335683, 538504.9368953223, 538504.9368953223, 538504.9368953223, 538504.9368953223, 538504.9368953223, 538728.2283761993, 538728.2283761993, 539398.1028188302, 539844.6857805842, 539844.6857805842, 539844.6857805842, 540067.9772614612, 540291.2687423382, 540291.2687423382, 540291.2687423382, 540737.8517040922, 540961.1431849692, 541184.4346658462, 541184.4346658462, 541184.4346658462, 541184.4346658462, 541184.4346658462, 541184.4346658462, 541184.4346658462, 541184.4346658462, 541184.4346658462, 541184.4346658462, 541184.4346658462, 541184.4346658462, 541184.4346658462, 541184.4346658462, 541631.0176276001, 542077.6005893542, 542077.6005893542, 542077.6005893542, 542077.6005893542, 542077.6005893542, 542077.6005893542, 542077.6005893542, 542077.6005893542, 542077.6005893542, 542077.6005893542, 542077.6005893542, 542077.6005893542, 542077.6005893542, 542077.6005893542, 542077.6005893542, 542077.6005893542, 542077.6005893542, 542077.6005893542, 542077.6005893542, 542077.6005893542, 542077.6005893542, 542077.6005893542, 542077.6005893542, 542077.6005893542, 542077.6005893542, 542524.1835511081, 542970.7665128622, 543194.0579937391, 543194.0579937391, 543194.0579937391, 543194.0579937391, 543194.0579937391, 543194.0579937391, 543194.0579937391, 543194.0579937391, 543417.3494746161, 543417.3494746161, 543417.3494746161, 543640.6409554931, 543863.93243637, 543863.93243637, 543863.93243637, 543863.93243637, 544310.515398124, 544533.8068790011, 544757.0983598781, 544757.0983598781, 544757.0983598781, 544757.0983598781, 545203.681321632, 545203.681321632, 545203.681321632, 545203.681321632, 545426.9728025091, 545650.2642833861, 545650.2642833861, 545873.555764263, 546096.84724514, 546543.430206894, 546543.430206894, 546543.430206894, 546543.430206894, 546543.430206894, 546543.430206894, 546543.430206894, 546766.7216877709, 546990.013168648, 546990.013168648, 547436.596130402, 547436.596130402, 547436.596130402, 547436.596130402, 547436.596130402, 547436.596130402, 547436.596130402, 547436.596130402, 547436.596130402, 547436.596130402, 547436.596130402, 547436.596130402, 547436.596130402, 547659.8876112789, 547659.8876112789, 548106.470573033, 548106.470573033, 548329.76205391, 548329.76205391, 548329.76205391, 548329.76205391, 548329.76205391, 548329.76205391, 548329.76205391, 548776.3450156639, 548776.3450156639, 548776.3450156639, 548999.6364965409, 549222.9279774178, 549222.9279774178, 549222.9279774178, 549222.9279774178, 549222.9279774178, 549222.9279774178, 549222.9279774178, 549222.9279774178, 549222.9279774178, 549222.9279774178, 549222.9279774178, 549222.9279774178, 549222.9279774178, 549222.9279774178, 549222.9279774178, 549222.9279774178, 549222.9279774178, 549222.9279774178, 549222.9279774178, 549222.9279774178, 549222.9279774178, 549222.9279774178, 549669.5109391719, 549892.8024200489, 550116.0939009258, 550116.0939009258, 550116.0939009258, 551009.2598244338, 551009.2598244338, 551009.2598244338, 551009.2598244338, 551009.2598244338, 551009.2598244338, 551009.2598244338, 551009.2598244338, 551009.2598244338, 551009.2598244338, 551009.2598244338, 551009.2598244338, 551009.2598244338, 551009.2598244338, 551455.8427861878, 551679.1342670649, 552795.5916714498, 552795.5916714498, 552795.5916714498, 552795.5916714498, 552795.5916714498, 553018.8831523268, 553242.1746332038, 553242.1746332038, 553242.1746332038, 553242.1746332038, 553242.1746332038, 553242.1746332038, 553242.1746332038, 553688.7575949577, 554358.6320375887, 554581.9235184657, 554581.9235184657, 554581.9235184657, 554581.9235184657, 554581.9235184657, 554581.9235184657, 555475.0894419737, 555475.0894419737, 555475.0894419737, 555475.0894419737, 555475.0894419737, 555475.0894419737, 555921.6724037277, 555921.6724037277, 555921.6724037277, 556368.2553654816, 556368.2553654816, 556368.2553654816, 556368.2553654816, 556368.2553654816, 556368.2553654816, 556368.2553654816, 556591.5468463586, 556591.5468463586, 556591.5468463586, 556814.8383272357, 556814.8383272357, 557261.4212889897, 557261.4212889897, 557261.4212889897, 557261.4212889897, 557261.4212889897, 557261.4212889897, 557261.4212889897, 557708.0042507437, 557708.0042507437, 557708.0042507437, 557708.0042507437, 557931.2957316206, 558154.5872124976, 558154.5872124976, 558154.5872124976, 558154.5872124976, 558154.5872124976, 558601.1701742515, 558601.1701742515, 558824.4616551285, 559047.7531360055, 559047.7531360055, 559047.7531360055, 559047.7531360055, 559494.3360977595, 559494.3360977595, 559494.3360977595, 559940.9190595136, 559940.9190595136, 559940.9190595136, 559940.9190595136, 559940.9190595136, 559940.9190595136, 559940.9190595136, 559940.9190595136, 559940.9190595136, 559940.9190595136, 559940.9190595136, 559940.9190595136, 559940.9190595136, 559940.9190595136, 559940.9190595136, 559940.9190595136, 559940.9190595136, 559940.9190595136, 559940.9190595136, 559940.9190595136, 559940.9190595136, 559940.9190595136, 559940.9190595136, 559940.9190595136, 559940.9190595136, 559940.9190595136, 559940.9190595136, 559940.9190595136, 559940.9190595136, 559940.9190595136, 559940.9190595136, 559940.9190595136, 560387.5020212675, 560387.5020212675, 560610.7935021445, 560610.7935021445, 560834.0849830215, 560834.0849830215, 560834.0849830215, 561057.3764638985, 561280.6679447754, 561280.6679447754, 561280.6679447754, 561727.2509065295, 561727.2509065295, 561727.2509065295, 561727.2509065295, 561727.2509065295, 561727.2509065295, 562173.8338682835, 562173.8338682835, 562173.8338682835, 562620.4168300375, 562620.4168300375, 563066.9997917914, 563066.9997917914, 563066.9997917914, 563066.9997917914, 563290.2912726684, 563290.2912726684, 563513.5827535454, 563513.5827535454, 563513.5827535454, 563513.5827535454, 563513.5827535454, 563513.5827535454, 563513.5827535454, 563513.5827535454, 563513.5827535454, 563513.5827535454, 563513.5827535454, 563513.5827535454, 563513.5827535454, 563513.5827535454, 563960.1657152994, 564406.7486770534, 564406.7486770534, 564406.7486770534, 564406.7486770534, 564853.3316388074, 565299.9146005614, 565299.9146005614, 565299.9146005614, 565299.9146005614, 565299.9146005614, 565299.9146005614, 565299.9146005614, 565299.9146005614, 565299.9146005614, 565299.9146005614, 565299.9146005614, 565299.9146005614, 565299.9146005614, 565299.9146005614, 565299.9146005614, 565299.9146005614, 565299.9146005614, 565299.9146005614, 565299.9146005614, 565299.9146005614, 565299.9146005614, 565299.9146005614, 565299.9146005614, 565523.2060814383, 566193.0805240693, 566639.6634858233, 566639.6634858233, 566639.6634858233, 566639.6634858233, 566639.6634858233, 566639.6634858233, 567086.2464475774, 567086.2464475774, 567086.2464475774, 567086.2464475774, 567086.2464475774, 567086.2464475774, 567086.2464475774, 567086.2464475774, 567086.2464475774, 567086.2464475774, 567532.8294093313, 567532.8294093313, 567532.8294093313, 567756.1208902083, 567979.4123710853, 567979.4123710853, 568425.9953328392, 568425.9953328392, 568425.9953328392, 568872.5782945933, 568872.5782945933, 568872.5782945933, 568872.5782945933, 568872.5782945933, 568872.5782945933, 568872.5782945933, 568872.5782945933, 568872.5782945933, 568872.5782945933, 568872.5782945933, 569319.1612563472, 569319.1612563472, 569319.1612563472, 569319.1612563472, 569319.1612563472, 569765.7442181013, 569989.0356989782, 569989.0356989782, 569989.0356989782, 570212.3271798552, 570212.3271798552, 570212.3271798552, 570658.9101416091, 570658.9101416091, 570658.9101416091, 570658.9101416091, 570658.9101416091, 570658.9101416091, 570658.9101416091, 570658.9101416091, 570658.9101416091, 570658.9101416091, 570658.9101416091, 570658.9101416091, 570658.9101416091, 570658.9101416091, 570658.9101416091, 570658.9101416091, 570658.9101416091, 570658.9101416091, 570658.9101416091, 570658.9101416091, 570658.9101416091, 570658.9101416091, 570882.2016224861, 571105.4931033631, 571105.4931033631, 571105.4931033631, 571328.7845842402, 571552.0760651171, 571552.0760651171, 571998.6590268712, 572221.9505077482, 572445.2419886251, 572445.2419886251, 572891.8249503791, 572891.8249503791, 573338.407912133, 573338.407912133, 573338.407912133, 573338.407912133, 573338.407912133, 573338.407912133, 573338.407912133, 573338.407912133, 573338.407912133, 573338.407912133, 573338.407912133, 573338.407912133, 573338.407912133, 573338.407912133, 573338.407912133, 573338.407912133, 573338.407912133, 573338.407912133, 573338.407912133, 573338.407912133, 574231.5738356411, 574231.5738356411, 574231.5738356411, 574231.5738356411, 574231.5738356411, 574231.5738356411, 574231.5738356411, 574231.5738356411, 574231.5738356411, 574454.8653165181, 574678.1567973951, 574678.1567973951, 574901.4482782721, 575124.739759149, 576017.905682657, 576241.197163534, 576464.488644411, 576464.488644411, 576464.488644411, 576464.488644411, 576911.071606165, 576911.071606165, 577357.654567919, 577804.2375296729, 577804.2375296729, 577804.2375296729, 577804.2375296729, 577804.2375296729, 577804.2375296729, 577804.2375296729, 577804.2375296729, 577804.2375296729, 577804.2375296729, 577804.2375296729, 577804.2375296729, 577804.2375296729, 577804.2375296729, 577804.2375296729, 577804.2375296729, 577804.2375296729, 577804.2375296729, 577804.2375296729, 577804.2375296729, 577804.2375296729, 577804.2375296729, 577804.2375296729, 577804.2375296729, 577804.2375296729, 577804.2375296729, 577804.2375296729, 577804.2375296729, 577804.2375296729, 577804.2375296729, 577804.2375296729, 577804.2375296729, 577804.2375296729, 578027.5290105499, 578250.8204914269, 578250.8204914269, 578250.8204914269, 578250.8204914269, 578697.4034531809, 578697.4034531809, 578920.6949340579, 579590.5693766889, 579590.5693766889, 579590.5693766889, 579590.5693766889, 579590.5693766889, 579590.5693766889, 579590.5693766889, 579813.8608575659, 580037.1523384429, 580483.7353001968, 580483.7353001968, 580930.3182619509, 581153.6097428278, 581153.6097428278, 581376.9012237048, 581376.9012237048, 581376.9012237048, 581376.9012237048, 581376.9012237048, 581376.9012237048, 581376.9012237048, 581376.9012237048, 581376.9012237048, 581376.9012237048, 581376.9012237048, 581376.9012237048, 581376.9012237048, 581376.9012237048, 581376.9012237048, 581376.9012237048, 581376.9012237048, 581376.9012237048, 581376.9012237048, 581376.9012237048, 581376.9012237048, 581376.9012237048, 581376.9012237048, 581376.9012237048, 581376.9012237048, 581376.9012237048, 581376.9012237048, 581376.9012237048, 581376.9012237048, 581376.9012237048, 581376.9012237048, 581600.1927045819, 581823.4841854589, 581823.4841854589, 582046.7756663358, 582270.0671472128, 582270.0671472128, 582270.0671472128, 582270.0671472128, 582270.0671472128, 582270.0671472128, 582270.0671472128, 582270.0671472128, 582270.0671472128, 582270.0671472128, 582270.0671472128, 582716.6501089667, 583163.2330707207, 583163.2330707207, 583163.2330707207, 583163.2330707207, 583163.2330707207, 583163.2330707207, 583386.5245515978, 583386.5245515978, 583386.5245515978, 583609.8160324747, 583833.1075133517, 584056.3989942288, 584056.3989942288, 584279.6904751058, 584949.5649177367, 584949.5649177367, 584949.5649177367, 584949.5649177367, 584949.5649177367, 584949.5649177367, 584949.5649177367, 584949.5649177367, 584949.5649177367, 585396.1478794906, 585842.7308412447, 585842.7308412447, 585842.7308412447, 586289.3138029987, 586735.8967647527, 586735.8967647527, 586735.8967647527, 586735.8967647527, 586735.8967647527, 586735.8967647527, 586735.8967647527, 586735.8967647527, 586735.8967647527, 586735.8967647527, 586735.8967647527, 586735.8967647527, 586735.8967647527, 586735.8967647527, 586735.8967647527, 586735.8967647527, 586735.8967647527, 586735.8967647527, 586959.1882456297, 587182.4797265066, 587182.4797265066, 587405.7712073836, 587405.7712073836, 587629.0626882606, 587629.0626882606, 587629.0626882606, 587629.0626882606, 587852.3541691375, 587852.3541691375, 587852.3541691375, 587852.3541691375, 588075.6456500145, 588075.6456500145, 588298.9371308916, 588522.2286117686, 588522.2286117686, 588522.2286117686, 588522.2286117686, 588522.2286117686, 588522.2286117686, 588522.2286117686, 588522.2286117686, 588745.5200926457, 588745.5200926457, 588968.8115735226, 588968.8115735226, 588968.8115735226, 588968.8115735226, 588968.8115735226, 589415.3945352766, 589415.3945352766, 589415.3945352766, 589415.3945352766, 589415.3945352766, 589861.9774970305, 590085.2689779075, 590308.5604587845, 590755.1434205385, 590755.1434205385, 590978.4349014155, 590978.4349014155, 590978.4349014155, 591648.3093440465, 592094.8923058005, 592094.8923058005, 592094.8923058005, 592094.8923058005, 592094.8923058005, 592094.8923058005, 592094.8923058005, 592094.8923058005, 592094.8923058005, 592094.8923058005, 592094.8923058005, 592094.8923058005, 592094.8923058005, 592094.8923058005, 592094.8923058005, 592094.8923058005, 592094.8923058005, 592094.8923058005, 592094.8923058005, 592094.8923058005, 592318.1837866774, 592988.0582293085, 592988.0582293085, 593434.6411910624, 593434.6411910624, 593434.6411910624, 593434.6411910624, 593434.6411910624, 593434.6411910624, 593434.6411910624, 593434.6411910624, 593434.6411910624, 593434.6411910624, 593881.2241528165, 593881.2241528165, 593881.2241528165, 594327.8071145704, 594327.8071145704, 594327.8071145704, 594327.8071145704, 594774.3900763243, 594774.3900763243, 594774.3900763243, 594774.3900763243, 595220.9730380783, 595667.5559998323, 595667.5559998323, 595667.5559998323, 595667.5559998323, 595667.5559998323, 595667.5559998323, 595667.5559998323, 595667.5559998323, 595667.5559998323, 595667.5559998323, 595667.5559998323, 595667.5559998323, 595667.5559998323, 595667.5559998323, 595667.5559998323, 595667.5559998323, 595667.5559998323, 595667.5559998323, 595667.5559998323, 595890.8474807093, 596114.1389615864, 596560.7219233403, 596560.7219233403, 597230.5963659713, 597453.8878468482, 597453.8878468482, 597453.8878468482, 597453.8878468482, 597453.8878468482, 597453.8878468482, 597453.8878468482, 597453.8878468482, 597453.8878468482, 597453.8878468482, 597677.1793277252, 597900.4708086023, 598347.0537703562, 598347.0537703562, 598347.0537703562, 598347.0537703562, 598347.0537703562, 598793.6367321103, 599016.9282129873, 599240.2196938642, 599240.2196938642, 599240.2196938642, 599240.2196938642, 599240.2196938642, 599240.2196938642, 599240.2196938642, 599240.2196938642, 599463.5111747412, 599463.5111747412, 599463.5111747412, 599463.5111747412, 599463.5111747412, 599686.8026556182, 599686.8026556182, 600133.3856173721, 600133.3856173721, 600133.3856173721, 600133.3856173721, 600356.6770982492, 600579.9685791262, 600579.9685791262, 601026.5515408802, 601026.5515408802, 601249.8430217572, 601473.1345026342, 601919.7174643881, 601919.7174643881, 602812.8833878961, 602812.8833878961, 602812.8833878961, 602812.8833878961, 602812.8833878961, 602812.8833878961, 602812.8833878961, 602812.8833878961, 603259.4663496502, 603482.7578305271, 603706.0493114041, 603706.0493114041, 604375.923754035, 604375.923754035, 604599.215234912, 604599.215234912, 604599.215234912, 604599.215234912, 604599.215234912, 604599.215234912, 604599.215234912, 604599.215234912, 604599.215234912, 604599.215234912, 604599.215234912, 604599.215234912, 604599.215234912, 604599.215234912, 604599.215234912, 604599.215234912, 604599.215234912, 604599.215234912, 604599.215234912, 604599.215234912, 604599.215234912, 604599.215234912, 604599.215234912, 605045.7981966661, 605045.7981966661, 605269.089677543, 605492.38115842, 605492.38115842, 605715.6726392971, 605715.6726392971, 605938.9641201741, 605938.9641201741, 606162.255601051, 606385.547081928, 606385.547081928, 606385.547081928, 606385.547081928, 606385.547081928, 606385.547081928, 606385.547081928, 606385.547081928, 606385.547081928, 606385.547081928, 606385.547081928, 606385.547081928, 606608.838562805, 606832.130043682, 606832.130043682, 607278.7130054359, 607278.7130054359, 607948.5874480669, 608171.878928944, 608171.878928944, 608171.878928944, 608618.461890698, 608618.461890698, 609065.0448524519, 609065.0448524519, 609065.0448524519, 609511.6278142058, 609511.6278142058, 609511.6278142058, 609958.2107759599, 609958.2107759599, 609958.2107759599, 609958.2107759599, 609958.2107759599, 609958.2107759599, 609958.2107759599, 610181.5022568369, 610404.7937377138, 610404.7937377138, 610628.0852185909, 610851.3766994679, 610851.3766994679, 610851.3766994679, 610851.3766994679, 610851.3766994679, 610851.3766994679, 611744.5426229758, 611744.5426229758, 611744.5426229758, 611967.8341038527, 612191.1255847297, 612191.1255847297, 612191.1255847297, 612637.7085464838, 612637.7085464838, 613084.2915082378, 613084.2915082378, 613530.8744699918, 613530.8744699918, 613530.8744699918, 613530.8744699918, 613530.8744699918, 613530.8744699918, 613530.8744699918, 613530.8744699918, 613530.8744699918, 613530.8744699918, 613530.8744699918, 613530.8744699918, 613530.8744699918, 613530.8744699918, 613530.8744699918, 613530.8744699918, 613530.8744699918, 613530.8744699918, 613530.8744699918, 613530.8744699918, 613530.8744699918, 613530.8744699918, 613530.8744699918, 613530.8744699918, 613530.8744699918, 613530.8744699918, 613530.8744699918, 613530.8744699918, 613530.8744699918, 613530.8744699918, 613530.8744699918, 613530.8744699918, 613530.8744699918, 613530.8744699918, 613530.8744699918, 613530.8744699918, 613530.8744699918, 613530.8744699918, 613530.8744699918, 613530.8744699918, 613530.8744699918, 613977.4574317457, 614424.0403934997, 614424.0403934997, 614870.6233552537, 615317.2063170078, 615317.2063170078, 615317.2063170078, 615317.2063170078, 615540.4977978847, 615763.7892787617, 615763.7892787617, 615763.7892787617, 615763.7892787617, 616210.3722405157, 616210.3722405157, 616210.3722405157, 616210.3722405157, 616210.3722405157, 616210.3722405157, 616656.9552022696, 616880.2466831466, 616880.2466831466, 617103.5381640235, 617103.5381640235, 617103.5381640235, 617103.5381640235, 617326.8296449006, 617996.7040875317, 617996.7040875317, 617996.7040875317, 617996.7040875317, 617996.7040875317, 617996.7040875317, 617996.7040875317, 617996.7040875317, 617996.7040875317, 618666.5785301626, 618889.8700110395, 618889.8700110395, 618889.8700110395, 618889.8700110395, 618889.8700110395, 619336.4529727935, 619783.0359345475, 619783.0359345475, 620006.3274154245, 620229.6188963016, 620229.6188963016, 620229.6188963016, 620229.6188963016, 620229.6188963016, 620676.2018580555, 620676.2018580555, 620676.2018580555, 620676.2018580555, 620676.2018580555, 620676.2018580555, 620676.2018580555, 620676.2018580555, 621346.0763006865, 621569.3677815634, 621569.3677815634, 621569.3677815634, 621569.3677815634, 622462.5337050714, 622462.5337050714, 622462.5337050714, 622462.5337050714, 622462.5337050714, 622462.5337050714, 622462.5337050714, 622462.5337050714, 622462.5337050714, 622462.5337050714, 622462.5337050714, 623355.6996285794, 623578.9911094564, 623578.9911094564, 624025.5740712103, 624248.8655520873, 624248.8655520873, 624248.8655520873, 624248.8655520873, 624248.8655520873, 624472.1570329644, 624472.1570329644, 624695.4485138414, 625142.0314755954, 625588.6144373494, 625588.6144373494, 626035.1973991033, 626035.1973991033, 626035.1973991033, 626035.1973991033, 626035.1973991033, 626035.1973991033, 626035.1973991033, 626035.1973991033, 626481.7803608573, 626928.3633226113, 626928.3633226113, 626928.3633226113, 626928.3633226113, 626928.3633226113, 626928.3633226113, 626928.3633226113, 626928.3633226113, 626928.3633226113, 626928.3633226113, 626928.3633226113, 626928.3633226113, 627151.6548034883, 627821.5292461193, 627821.5292461193, 627821.5292461193, 627821.5292461193, 627821.5292461193, 628268.1122078733, 628268.1122078733, 628714.6951696272, 628714.6951696272, 629161.2781313811, 629161.2781313811, 629607.8610931352, 629607.8610931352, 629607.8610931352, 629607.8610931352, 629607.8610931352, 629607.8610931352, 629607.8610931352, 630277.7355357662, 630501.0270166432, 630501.0270166432, 630501.0270166432, 630947.6099783971, 631170.9014592741, 631394.1929401511, 631394.1929401511, 631394.1929401511, 631394.1929401511, 631394.1929401511, 631394.1929401511, 631394.1929401511, 631394.1929401511, 631394.1929401511, 631394.1929401511, 631394.1929401511, 631394.1929401511, 631394.1929401511, 631394.1929401511, 631840.7759019051, 632287.3588636592, 632510.6503445362, 632733.9418254131, 633180.5247871671, 633180.5247871671, 633180.5247871671, 633180.5247871671, 633180.5247871671, 633180.5247871671, 633180.5247871671, 633180.5247871671, 633627.107748921, 633627.107748921, 633627.107748921, 633627.107748921, 634073.6907106751, 634520.273672429, 634520.273672429, 634743.5651533061, 634966.8566341831, 634966.8566341831, 634966.8566341831, 634966.8566341831, 634966.8566341831, 634966.8566341831, 634966.8566341831, 634966.8566341831, 634966.8566341831, 634966.8566341831, 634966.8566341831, 634966.8566341831, 634966.8566341831, 634966.8566341831, 634966.8566341831, 635413.439595937, 635636.731076814, 635636.731076814, 635860.022557691, 635860.022557691, 635860.022557691, 635860.022557691, 635860.022557691, 635860.022557691, 635860.022557691, 636306.6055194449, 636306.6055194449, 636753.188481199, 636753.188481199, 636753.188481199, 637199.771442953, 637199.771442953, 637646.354404707, 637646.354404707, 638092.9373664609, 638092.9373664609, 638092.9373664609, 638316.2288473379, 638539.5203282149, 638539.5203282149, 638539.5203282149, 638539.5203282149, 638539.5203282149, 638539.5203282149, 638539.5203282149, 638539.5203282149, 638539.5203282149, 638539.5203282149, 638539.5203282149, 638539.5203282149, 638539.5203282149, 638539.5203282149, 638539.5203282149, 638986.1032899689, 638986.1032899689, 639432.6862517229, 639655.9777326, 639655.9777326, 640102.5606943539, 640325.8521752309, 640325.8521752309, 640325.8521752309, 640325.8521752309, 640325.8521752309, 640325.8521752309, 640325.8521752309, 641219.0180987387, 641219.0180987387, 641219.0180987387, 641665.6010604928, 641665.6010604928, 641665.6010604928, 641665.6010604928, 641665.6010604928, 641665.6010604928, 641888.8925413698, 642112.1840222469, 642112.1840222469, 642112.1840222469, 642112.1840222469, 642112.1840222469, 642112.1840222469, 642112.1840222469, 642112.1840222469, 642112.1840222469, 642112.1840222469, 642112.1840222469, 642112.1840222469, 642558.7669840008, 642558.7669840008, 643675.2243883857, 643675.2243883857, 643675.2243883857, 643898.5158692627, 643898.5158692627, 643898.5158692627, 644121.8073501397, 644345.0988310168, 644345.0988310168, 644345.0988310168, 644791.6817927707, 644791.6817927707, 644791.6817927707, 645461.5562354017, 645684.8477162786, 645684.8477162786, 645684.8477162786, 645684.8477162786, 645684.8477162786, 645684.8477162786, 645684.8477162786, 645684.8477162786, 645684.8477162786, 645684.8477162786, 645908.1391971556, 645908.1391971556, 645908.1391971556, 645908.1391971556, 646131.4306780326, 646131.4306780326, 647247.8880824177, 647471.1795632946, 647471.1795632946, 647471.1795632946, 647471.1795632946, 647694.4710441716, 647917.7625250486, 647917.7625250486, 648141.0540059255, 648364.3454868025, 648810.9284485566, 649034.2199294335, 649257.5114103106, 649257.5114103106, 649257.5114103106, 649257.5114103106, 649257.5114103106, 649257.5114103106, 649257.5114103106, 649257.5114103106, 649257.5114103106, 649257.5114103106, 649257.5114103106, 649257.5114103106, 649257.5114103106, 649257.5114103106, 649257.5114103106, 649257.5114103106, 649257.5114103106, 649257.5114103106, 649257.5114103106, 649257.5114103106, 649257.5114103106, 649257.5114103106, 649257.5114103106, 649480.8028911876, 650373.9688146955, 650597.2602955725, 651043.8432573265, 651043.8432573265, 651043.8432573265, 651043.8432573265, 651043.8432573265, 651043.8432573265, 651490.4262190805, 651490.4262190805, 651937.0091808345, 652383.5921425885, 652830.1751043424, 653053.4665852194, 653723.3410278504, 653723.3410278504, 653723.3410278504, 653723.3410278504, 653723.3410278504, 653723.3410278504, 653723.3410278504, 653723.3410278504, 654169.9239896045, 654169.9239896045, 654169.9239896045, 654393.2154704814, 654616.5069513584, 654616.5069513584, 654616.5069513584, 654616.5069513584, 654616.5069513584, 654616.5069513584, 655956.2558366203, 655956.2558366203, 656402.8387983743, 656402.8387983743, 656402.8387983743, 656402.8387983743, 656402.8387983743, 656402.8387983743, 656402.8387983743, 656402.8387983743, 656402.8387983743, 656626.1302792514, 657072.7132410053, 657296.0047218823, 657296.0047218823, 657296.0047218823, 657742.5876836362, 657742.5876836362, 657742.5876836362, 657742.5876836362, 657742.5876836362, 658189.1706453902, 659305.6280497753, 659305.6280497753, 659305.6280497753, 659528.9195306522, 659975.5024924062, 659975.5024924062, 659975.5024924062, 659975.5024924062, 660422.0854541601, 660422.0854541601, 660422.0854541601, 660422.0854541601, 660422.0854541601, 660422.0854541601, 660422.0854541601, 661091.9598967911, 661761.8343394222, 662208.4173011761, 662208.4173011761, 662208.4173011761, 662655.00026293, 662655.00026293, 662655.00026293, 662655.00026293, 662655.00026293, 662655.00026293, 663548.1661864381, 663548.1661864381, 663548.1661864381, 663548.1661864381, 663771.4576673151, 663994.7491481921, 664441.3321099461, 664441.3321099461, 664887.9150717, 665334.498033454, 665334.498033454, 665334.498033454, 665334.498033454, 665334.498033454, 665334.498033454, 665557.789514331, 666227.6639569621, 666897.538399593, 666897.538399593, 667120.82988047, 667120.82988047, 667120.82988047, 667120.82988047, 667120.82988047, 667120.82988047, 667120.82988047, 667120.82988047, 667120.82988047, 667120.82988047, 667790.7043231009, 667790.7043231009, 667790.7043231009, 667790.7043231009, 667790.7043231009, 667790.7043231009, 667790.7043231009, 668907.161727486, 669353.7446892399, 669353.7446892399, 669353.7446892399, 669577.0361701169, 669800.3276509938, 670246.9106127478, 670693.4935745018, 670693.4935745018, 670916.7850553788, 671586.6594980098, 671586.6594980098, 671586.6594980098, 671586.6594980098, 671586.6594980098, 672033.2424597638, 672479.8254215177, 673149.6998641487, 673372.9913450257, 673372.9913450257, 673596.2828259028, 674266.1572685337, 674266.1572685337, 674712.7402302877, 674936.0317111646, 674936.0317111646, 675159.3231920416, 675159.3231920416, 675605.9061537957, 676052.4891155497, 676052.4891155497, 676052.4891155497, 676499.0720773037, 676945.6550390576, 676945.6550390576, 677168.9465199346, 677392.2380008115, 677392.2380008115, 677615.5294816886, 677615.5294816886, 677838.8209625656, 677838.8209625656, 677838.8209625656, 677838.8209625656, 677838.8209625656, 678062.1124434426, 678062.1124434426, 678731.9868860736, 678731.9868860736, 678731.9868860736, 678731.9868860736, 680071.7357713355, 680964.9016948435, 681411.4846565975, 681411.4846565975, 681411.4846565975, 682304.6505801054, 682304.6505801054, 682527.9420609825, 682751.2335418594, 682751.2335418594, 682751.2335418594, 682974.5250227364, 682974.5250227364, 683197.8165036135, 683644.3994653674, 683867.6909462444, 684090.9824271214, 684090.9824271214, 684537.5653888753, 684537.5653888753, 684537.5653888753, 684984.1483506294, 684984.1483506294, 684984.1483506294, 684984.1483506294, 684984.1483506294, 684984.1483506294, 685430.7313123833, 685877.3142741374, 685877.3142741374, 685877.3142741374, 685877.3142741374, 686100.6057550143, 686100.6057550143, 686770.4801976453, 687217.0631593992, 687663.6461211533, 687663.6461211533, 688333.5205637843, 688333.5205637843, 688556.8120446613, 688556.8120446613, 688556.8120446613, 688556.8120446613, 688556.8120446613, 688556.8120446613, 688556.8120446613, 688556.8120446613, 688556.8120446613, 689003.3950064152, 689226.6864872922, 689449.9779681691, 689449.9779681691, 689896.5609299232, 689896.5609299232, 689896.5609299232, 689896.5609299232, 689896.5609299232, 690566.4353725542, 691459.6012960621, 691906.184257816, 692129.4757386931, 692129.4757386931, 692352.7672195701, 692352.7672195701, 692576.0587004471, 692576.0587004471, 692799.3501813242, 692799.3501813242, 693022.6416622011, 693915.807585709, 693915.807585709, 693915.807585709, 693915.807585709, 693915.807585709, 693915.807585709, 693915.807585709, 693915.807585709, 693915.807585709, 693915.807585709, 693915.807585709, 694808.973509217, 695255.5564709711, 695255.5564709711, 695478.8479518481, 695478.8479518481, 695478.8479518481, 695702.139432725, 695702.139432725, 695702.139432725, 695925.430913602, 696595.3053562329, 696595.3053562329, 696595.3053562329, 696818.5968371099, 696818.5968371099, 697041.888317987, 697041.888317987, 697488.4712797409, 698381.6372032489, 698381.6372032489, 698381.6372032489, 698381.6372032489, 699274.8031267568, 699274.8031267568, 699274.8031267568, 699721.3860885109, 699721.3860885109, 700167.9690502649, 700167.9690502649, 700614.5520120189, 700837.8434928958, 700837.8434928958, 700837.8434928958, 700837.8434928958, 701061.1349737728, 701954.3008972808, 701954.3008972808, 701954.3008972808, 702624.1753399118, 702847.4668207888, 702847.4668207888, 702847.4668207888, 703294.0497825427, 703740.6327442967, 703963.9242251737, 704187.2157060506, 704633.7986678047, 704633.7986678047, 704633.7986678047, 705080.3816295587, 705303.6731104357, 705750.2560721897, 706196.8390339436, 706420.1305148206, 706420.1305148206, 706866.7134765746, 707313.2964383287, 707313.2964383287, 708206.4623618366, 708206.4623618366, 709099.6282853446, 709099.6282853446, 709322.9197662215, 709546.2112470985, 709546.2112470985, 709546.2112470985, 709992.7942088526, 709992.7942088526, 710216.0856897295, 710439.3771706065, 710885.9601323605, 711109.2516132374, 711779.1260558685, 712225.7090176225, 713565.4579028843, 713565.4579028843, 713565.4579028843, 713565.4579028843, 713565.4579028843, 714012.0408646384, 714012.0408646384, 714012.0408646384, 714012.0408646384, 714012.0408646384, 714012.0408646384, 714905.2067881464, 715351.7897499003, 715351.7897499003, 716244.9556734082, 716244.9556734082, 716244.9556734082, 716691.5386351623, 717138.1215969163, 717584.7045586703, 718031.2875204242, 718031.2875204242, 718477.8704821782, 719147.7449248092, 719371.0364056863, 719371.0364056863, 719817.6193674402, 719817.6193674402, 720710.7852909481, 720710.7852909481, 720710.7852909481, 720710.7852909481, 720710.7852909481, 720710.7852909481, 720710.7852909481, 720710.7852909481, 720710.7852909481, 720710.7852909481, 721380.6597335791, 721827.2426953332, 721827.2426953332, 721827.2426953332, 721827.2426953332, 721827.2426953332, 722273.8256570871, 723390.283061472, 723613.5745423491, 725846.4893511189, 726069.780831996, 726069.780831996, 726069.780831996, 726069.780831996, 726069.780831996, 727186.238236381, 727409.529717258, 727409.529717258, 729419.1530451509, 729642.4445260279, 729642.4445260279, 729642.4445260279, 730089.0274877818, 730535.6104495358, 730535.6104495358, 730758.9019304127, 730758.9019304127, 731428.7763730438, 731875.3593347978, 732321.9422965518, 732991.8167391827, 733215.1082200597, 733215.1082200597, 733438.3997009367, 734108.2741435678, 734108.2741435678, 734108.2741435678, 734108.2741435678, 734108.2741435678, 734554.8571053217, 735001.4400670757, 736341.1889523377, 736564.4804332147, 736564.4804332147, 736787.7719140917, 736787.7719140917, 737457.6463567226, 737457.6463567226, 737457.6463567226, 737457.6463567226, 737680.9378375995, 737904.2293184765, 738127.5207993536, 738127.5207993536, 738127.5207993536, 738350.8122802306, 738574.1037611075, 738574.1037611075, 738574.1037611075, 738574.1037611075, 738574.1037611075, 738574.1037611075, 738574.1037611075, 738797.3952419846, 738797.3952419846, 739020.6867228616, 739020.6867228616, 739243.9782037386, 739467.2696846155, 739913.8526463695, 740137.1441272465, 740360.4356081234, 741700.1844933855, 742146.7674551394, 742146.7674551394, 742593.3504168934, 743039.9333786474, 743486.5163404014, 744156.3907830324, 744156.3907830324, 744156.3907830324, 745719.4311491713, 746835.8885535563, 747505.7629961872, 747505.7629961872, 747505.7629961872, 748175.6374388182, 748398.9289196953, 748845.5118814493, 749068.8033623262, 749068.8033623262, 749292.0948432032, 749738.6778049571, 749738.6778049571, 750185.2607667111, 751525.0096519731, 751525.0096519731, 752641.4670563581, 752641.4670563581, 752864.7585372351, 752864.7585372351, 753757.9244607431, 753981.2159416201, 754651.090384251, 754651.090384251, 756437.422231267, 757107.2966738979, 757777.1711165289, 758000.4625974059, 758223.754078283, 758670.3370400369, 760010.0859252989, 760679.9603679299, 760903.2518488069, 760903.2518488069, 760903.2518488069, 760903.2518488069, 761126.5433296838, 761796.4177723147, 763136.1666575768, 763582.7496193307, 764252.6240619617, 765369.0814663467, 765369.0814663467, 766262.2473898546, 767155.4133133626, 767155.4133133626, 767155.4133133626, 767601.9962751166, 768048.5792368706, 768048.5792368706, 768048.5792368706, 768048.5792368706, 768495.1621986246, 769834.9110838865, 770058.2025647635, 771844.5344117794, 772067.8258926565, 773630.8662587954, 773854.1577396723, 773854.1577396723, 774300.7407014263, 774300.7407014263, 774300.7407014263, 774300.7407014263, 774300.7407014263, 775417.1981058114, 776980.2384719503, 776980.2384719503, 776980.2384719503, 777650.1129145813, 777873.4043954583, 778319.9873572122, 779659.7362424742, 780106.3192042282, 780329.6106851052, 780552.9021659822, 780999.4851277361, 780999.4851277361, 781892.6510512441, 782339.2340129982, 783232.3999365061, 783232.3999365061, 783232.3999365061, 784348.857340891, 785018.7317835221, 785018.7317835221, 785018.7317835221, 785465.314745276, 785911.89770703, 787698.229554046, 787921.5210349229, 788144.8125157999, 789037.9784393079, 789931.1443628159, 791270.8932480777, 791717.4762098318, 792387.3506524628, 792387.3506524628, 792610.6421333398, 793057.2250950937, 793950.3910186017, 793950.3910186017, 794396.9739803558, 794396.9739803558, 796853.1802700027, 797076.4717508797, 797523.0547126336, 798416.2206361415, 798416.2206361415, 799755.9695214035, 799979.2610022805, 799979.2610022805, 800649.1354449114, 801095.7184066655, 801095.7184066655, 802882.0502536814, 803105.3417345583, 803105.3417345583, 803775.2161771894, 804445.0906198204, 804668.3821006974, 805561.5480242053, 807794.4628329752, 807794.4628329752, 807794.4628329752, 808910.9202373603, 809357.5031991142, 810027.3776417451, 811813.7094887611, 814269.9157784081, 814269.9157784081, 814493.207259285, 815386.3731827929, 816726.122068055, 816726.122068055, 817172.7050298089, 817395.9965106859, 817842.57947244, 818512.4539150709, 818959.0368768249, 818959.0368768249, 818959.0368768249, 819852.2028003328, 820075.4942812099, 820298.7857620869, 824318.0324178727, 824318.0324178727, 824318.0324178727, 825657.7813031346, 826104.3642648886, 826327.6557457657, 826550.9472266426, 826550.9472266426, 827890.6961119046, 827890.6961119046, 827890.6961119046, 829230.4449971665, 829677.0279589205, 830570.1938824285, 831463.3598059365, 831463.3598059365, 832356.5257294445, 834589.4405382144, 837268.9383087383, 839501.8531175082, 840171.7275601391, 841288.1849645241, 842181.3508880321, 842181.3508880321, 842627.9338497861, 843967.682735048, 844637.557177679, 844860.848658556, 846647.1805055719, 846870.471986449, 847093.763467326, 847986.929390834, 848433.5123525879, 849103.3867952189, 850219.8441996038, 850219.8441996038, 850443.1356804809, 851559.5930848658, 852006.1760466198, 852676.0504892507, 854685.6738171437, 855578.8397406517, 858258.3375111755, 858704.9204729295, 859151.5034346835, 859151.5034346835, 860937.8352816994, 861384.4182434535, 863617.3330522233, 863617.3330522233, 863617.3330522233, 864063.9160139774, 865180.3734183623, 865403.6648992393, 871655.8263637951, 872548.9922873031, 873442.1582108111, 874335.324134319, 875228.490057827, 877014.821904843, 881480.6515223827, 883713.5663311527, 883936.8578120297, 885946.4811399226, 885946.4811399226, 885946.4811399226, 890412.3107574625, 890412.3107574625, 890412.3107574625, 892198.6426044784, 892198.6426044784, 892198.6426044784, 893091.8085279864, 893091.8085279864, 894878.1403750023, 894878.1403750023, 895994.5977793873, 898450.8040690342, 899343.9699925422, 900683.7188778041, 904702.96553359, 913188.0418069157, 914081.2077304237, 916760.7055009475, 917207.2884627016, 918993.6203097175, 920333.3691949794, 920333.3691949794, 924129.3243698884, 932391.109162337, 934400.73249023, 934624.023971107, 936856.9387798769, 939536.4365504008, 939536.4365504008, 943109.1002444327, 946011.8894958337, 947798.2213428495, 960972.4187145921, 961865.5846381001, 961865.5846381001, 962758.750561608, 967894.4546217789, 970797.2438731798, 973030.1586819497, 977495.9882994896, 977495.9882994896, 979282.3201465055, 979728.9031082594, 981961.8179170294, 983301.5668022913, 999378.5534254349, 1001388.1767533277, 1002951.2171194667, 1006523.8808134986, 1007193.7552561295, 1008310.2126605145, 1008756.7956222685, 1012776.0422780544, 1015455.5400485783, 1024387.199283658, 1032425.6925952297, 1032872.2755569837, 1042250.5177538174, 1043590.2666390793, 1044930.0155243413, 1049395.8451418811, 1066365.9976885326, 1077977.1546941362, 1082442.9843116761, 1086685.522448339, 1091374.643546756, 1109461.2534977922, 1113703.7916344549, 1134469.8993560153, 1140498.7693396942, 1148537.2626512658, 1155012.7155966987, 1209272.5454498078, 1225349.5320729513, 1233164.733903646, 1251921.2182973134, 1252367.8012590674, 1273133.9089806275, 1286754.6893141242, 1319131.9540412882, 1329626.6536425068, 1397283.9723482355, 1448194.4299881898, 1449534.1788734517, 1486153.9817372786, 1899689.8043214686, 1966677.2485845664, 2050411.5539134387], \"yaxis\": \"y\"}],\n",
              "                        {\"coloraxis\": {\"colorbar\": {\"title\": {\"text\": \"SALE_PRICE\"}}, \"colorscale\": [[0.0, \"#0d0887\"], [0.1111111111111111, \"#46039f\"], [0.2222222222222222, \"#7201a8\"], [0.3333333333333333, \"#9c179e\"], [0.4444444444444444, \"#bd3786\"], [0.5555555555555556, \"#d8576b\"], [0.6666666666666666, \"#ed7953\"], [0.7777777777777778, \"#fb9f3a\"], [0.8888888888888888, \"#fdca26\"], [1.0, \"#f0f921\"]]}, \"height\": 600, \"legend\": {\"tracegroupgap\": 0}, \"margin\": {\"t\": 60}, \"template\": {\"data\": {\"bar\": [{\"error_x\": {\"color\": \"#2a3f5f\"}, \"error_y\": {\"color\": \"#2a3f5f\"}, \"marker\": {\"line\": {\"color\": \"#E5ECF6\", \"width\": 0.5}}, \"type\": \"bar\"}], \"barpolar\": [{\"marker\": {\"line\": {\"color\": \"#E5ECF6\", \"width\": 0.5}}, \"type\": \"barpolar\"}], \"carpet\": [{\"aaxis\": {\"endlinecolor\": \"#2a3f5f\", \"gridcolor\": \"white\", \"linecolor\": \"white\", \"minorgridcolor\": \"white\", \"startlinecolor\": \"#2a3f5f\"}, \"baxis\": {\"endlinecolor\": \"#2a3f5f\", \"gridcolor\": \"white\", \"linecolor\": \"white\", \"minorgridcolor\": \"white\", \"startlinecolor\": \"#2a3f5f\"}, \"type\": \"carpet\"}], \"choropleth\": [{\"colorbar\": {\"outlinewidth\": 0, \"ticks\": \"\"}, \"type\": \"choropleth\"}], \"contour\": [{\"colorbar\": {\"outlinewidth\": 0, \"ticks\": \"\"}, \"colorscale\": [[0.0, \"#0d0887\"], [0.1111111111111111, \"#46039f\"], [0.2222222222222222, \"#7201a8\"], [0.3333333333333333, \"#9c179e\"], [0.4444444444444444, \"#bd3786\"], [0.5555555555555556, \"#d8576b\"], [0.6666666666666666, \"#ed7953\"], [0.7777777777777778, \"#fb9f3a\"], [0.8888888888888888, \"#fdca26\"], [1.0, \"#f0f921\"]], \"type\": \"contour\"}], \"contourcarpet\": [{\"colorbar\": {\"outlinewidth\": 0, \"ticks\": \"\"}, \"type\": \"contourcarpet\"}], \"heatmap\": [{\"colorbar\": {\"outlinewidth\": 0, \"ticks\": \"\"}, \"colorscale\": [[0.0, \"#0d0887\"], [0.1111111111111111, \"#46039f\"], [0.2222222222222222, \"#7201a8\"], [0.3333333333333333, \"#9c179e\"], [0.4444444444444444, \"#bd3786\"], [0.5555555555555556, \"#d8576b\"], [0.6666666666666666, \"#ed7953\"], [0.7777777777777778, \"#fb9f3a\"], [0.8888888888888888, \"#fdca26\"], [1.0, \"#f0f921\"]], \"type\": \"heatmap\"}], \"heatmapgl\": [{\"colorbar\": {\"outlinewidth\": 0, \"ticks\": \"\"}, \"colorscale\": [[0.0, \"#0d0887\"], [0.1111111111111111, \"#46039f\"], [0.2222222222222222, \"#7201a8\"], [0.3333333333333333, \"#9c179e\"], [0.4444444444444444, \"#bd3786\"], [0.5555555555555556, \"#d8576b\"], [0.6666666666666666, \"#ed7953\"], [0.7777777777777778, \"#fb9f3a\"], [0.8888888888888888, \"#fdca26\"], [1.0, \"#f0f921\"]], \"type\": \"heatmapgl\"}], \"histogram\": [{\"marker\": {\"colorbar\": {\"outlinewidth\": 0, \"ticks\": \"\"}}, \"type\": \"histogram\"}], \"histogram2d\": [{\"colorbar\": {\"outlinewidth\": 0, \"ticks\": \"\"}, \"colorscale\": [[0.0, \"#0d0887\"], [0.1111111111111111, \"#46039f\"], [0.2222222222222222, \"#7201a8\"], [0.3333333333333333, \"#9c179e\"], [0.4444444444444444, \"#bd3786\"], [0.5555555555555556, \"#d8576b\"], [0.6666666666666666, \"#ed7953\"], [0.7777777777777778, \"#fb9f3a\"], [0.8888888888888888, \"#fdca26\"], [1.0, \"#f0f921\"]], \"type\": \"histogram2d\"}], \"histogram2dcontour\": [{\"colorbar\": {\"outlinewidth\": 0, \"ticks\": \"\"}, \"colorscale\": [[0.0, \"#0d0887\"], [0.1111111111111111, \"#46039f\"], [0.2222222222222222, \"#7201a8\"], [0.3333333333333333, \"#9c179e\"], [0.4444444444444444, \"#bd3786\"], [0.5555555555555556, \"#d8576b\"], [0.6666666666666666, \"#ed7953\"], [0.7777777777777778, \"#fb9f3a\"], [0.8888888888888888, \"#fdca26\"], [1.0, \"#f0f921\"]], \"type\": \"histogram2dcontour\"}], \"mesh3d\": [{\"colorbar\": {\"outlinewidth\": 0, \"ticks\": \"\"}, \"type\": \"mesh3d\"}], \"parcoords\": [{\"line\": {\"colorbar\": {\"outlinewidth\": 0, \"ticks\": \"\"}}, \"type\": \"parcoords\"}], \"scatter\": [{\"marker\": {\"colorbar\": {\"outlinewidth\": 0, \"ticks\": \"\"}}, \"type\": \"scatter\"}], \"scatter3d\": [{\"line\": {\"colorbar\": {\"outlinewidth\": 0, \"ticks\": \"\"}}, \"marker\": {\"colorbar\": {\"outlinewidth\": 0, \"ticks\": \"\"}}, \"type\": \"scatter3d\"}], \"scattercarpet\": [{\"marker\": {\"colorbar\": {\"outlinewidth\": 0, \"ticks\": \"\"}}, \"type\": \"scattercarpet\"}], \"scattergeo\": [{\"marker\": {\"colorbar\": {\"outlinewidth\": 0, \"ticks\": \"\"}}, \"type\": \"scattergeo\"}], \"scattergl\": [{\"marker\": {\"colorbar\": {\"outlinewidth\": 0, \"ticks\": \"\"}}, \"type\": \"scattergl\"}], \"scattermapbox\": [{\"marker\": {\"colorbar\": {\"outlinewidth\": 0, \"ticks\": \"\"}}, \"type\": \"scattermapbox\"}], \"scatterpolar\": [{\"marker\": {\"colorbar\": {\"outlinewidth\": 0, \"ticks\": \"\"}}, \"type\": \"scatterpolar\"}], \"scatterpolargl\": [{\"marker\": {\"colorbar\": {\"outlinewidth\": 0, \"ticks\": \"\"}}, \"type\": \"scatterpolargl\"}], \"scatterternary\": [{\"marker\": {\"colorbar\": {\"outlinewidth\": 0, \"ticks\": \"\"}}, \"type\": \"scatterternary\"}], \"surface\": [{\"colorbar\": {\"outlinewidth\": 0, \"ticks\": \"\"}, \"colorscale\": [[0.0, \"#0d0887\"], [0.1111111111111111, \"#46039f\"], [0.2222222222222222, \"#7201a8\"], [0.3333333333333333, \"#9c179e\"], [0.4444444444444444, \"#bd3786\"], [0.5555555555555556, \"#d8576b\"], [0.6666666666666666, \"#ed7953\"], [0.7777777777777778, \"#fb9f3a\"], [0.8888888888888888, \"#fdca26\"], [1.0, \"#f0f921\"]], \"type\": \"surface\"}], \"table\": [{\"cells\": {\"fill\": {\"color\": \"#EBF0F8\"}, \"line\": {\"color\": \"white\"}}, \"header\": {\"fill\": {\"color\": \"#C8D4E3\"}, \"line\": {\"color\": \"white\"}}, \"type\": \"table\"}]}, \"layout\": {\"annotationdefaults\": {\"arrowcolor\": \"#2a3f5f\", \"arrowhead\": 0, \"arrowwidth\": 1}, \"colorscale\": {\"diverging\": [[0, \"#8e0152\"], [0.1, \"#c51b7d\"], [0.2, \"#de77ae\"], [0.3, \"#f1b6da\"], [0.4, \"#fde0ef\"], [0.5, \"#f7f7f7\"], [0.6, \"#e6f5d0\"], [0.7, \"#b8e186\"], [0.8, \"#7fbc41\"], [0.9, \"#4d9221\"], [1, \"#276419\"]], \"sequential\": [[0.0, \"#0d0887\"], [0.1111111111111111, \"#46039f\"], [0.2222222222222222, \"#7201a8\"], [0.3333333333333333, \"#9c179e\"], [0.4444444444444444, \"#bd3786\"], [0.5555555555555556, \"#d8576b\"], [0.6666666666666666, \"#ed7953\"], [0.7777777777777778, \"#fb9f3a\"], [0.8888888888888888, \"#fdca26\"], [1.0, \"#f0f921\"]], \"sequentialminus\": [[0.0, \"#0d0887\"], [0.1111111111111111, \"#46039f\"], [0.2222222222222222, \"#7201a8\"], [0.3333333333333333, \"#9c179e\"], [0.4444444444444444, \"#bd3786\"], [0.5555555555555556, \"#d8576b\"], [0.6666666666666666, \"#ed7953\"], [0.7777777777777778, \"#fb9f3a\"], [0.8888888888888888, \"#fdca26\"], [1.0, \"#f0f921\"]]}, \"colorway\": [\"#636efa\", \"#EF553B\", \"#00cc96\", \"#ab63fa\", \"#FFA15A\", \"#19d3f3\", \"#FF6692\", \"#B6E880\", \"#FF97FF\", \"#FECB52\"], \"font\": {\"color\": \"#2a3f5f\"}, \"geo\": {\"bgcolor\": \"white\", \"lakecolor\": \"white\", \"landcolor\": \"#E5ECF6\", \"showlakes\": true, \"showland\": true, \"subunitcolor\": \"white\"}, \"hoverlabel\": {\"align\": \"left\"}, \"hovermode\": \"closest\", \"mapbox\": {\"style\": \"light\"}, \"paper_bgcolor\": \"white\", \"plot_bgcolor\": \"#E5ECF6\", \"polar\": {\"angularaxis\": {\"gridcolor\": \"white\", \"linecolor\": \"white\", \"ticks\": \"\"}, \"bgcolor\": \"#E5ECF6\", \"radialaxis\": {\"gridcolor\": \"white\", \"linecolor\": \"white\", \"ticks\": \"\"}}, \"scene\": {\"xaxis\": {\"backgroundcolor\": \"#E5ECF6\", \"gridcolor\": \"white\", \"gridwidth\": 2, \"linecolor\": \"white\", \"showbackground\": true, \"ticks\": \"\", \"zerolinecolor\": \"white\"}, \"yaxis\": {\"backgroundcolor\": \"#E5ECF6\", \"gridcolor\": \"white\", \"gridwidth\": 2, \"linecolor\": \"white\", \"showbackground\": true, \"ticks\": \"\", \"zerolinecolor\": \"white\"}, \"zaxis\": {\"backgroundcolor\": \"#E5ECF6\", \"gridcolor\": \"white\", \"gridwidth\": 2, \"linecolor\": \"white\", \"showbackground\": true, \"ticks\": \"\", \"zerolinecolor\": \"white\"}}, \"shapedefaults\": {\"line\": {\"color\": \"#2a3f5f\"}}, \"ternary\": {\"aaxis\": {\"gridcolor\": \"white\", \"linecolor\": \"white\", \"ticks\": \"\"}, \"baxis\": {\"gridcolor\": \"white\", \"linecolor\": \"white\", \"ticks\": \"\"}, \"bgcolor\": \"#E5ECF6\", \"caxis\": {\"gridcolor\": \"white\", \"linecolor\": \"white\", \"ticks\": \"\"}}, \"title\": {\"x\": 0.05}, \"xaxis\": {\"automargin\": true, \"gridcolor\": \"white\", \"linecolor\": \"white\", \"ticks\": \"\", \"zerolinecolor\": \"white\", \"zerolinewidth\": 2}, \"yaxis\": {\"automargin\": true, \"gridcolor\": \"white\", \"linecolor\": \"white\", \"ticks\": \"\", \"zerolinecolor\": \"white\", \"zerolinewidth\": 2}}}, \"xaxis\": {\"anchor\": \"y\", \"domain\": [0.0, 0.98], \"title\": {\"text\": \"GROSS_SQUARE_FEET\"}}, \"yaxis\": {\"anchor\": \"x\", \"domain\": [0.0, 1.0], \"title\": {\"text\": \"SALE_PRICE\"}}},\n",
              "                        {\"responsive\": true}\n",
              "                    ).then(function(){\n",
              "                            \n",
              "var gd = document.getElementById('8fe33f15-f2f1-4eb2-ba06-5b67cf670243');\n",
              "var x = new MutationObserver(function (mutations, observer) {{\n",
              "        var display = window.getComputedStyle(gd).display;\n",
              "        if (!display || display === 'none') {{\n",
              "            console.log([gd, 'removed!']);\n",
              "            Plotly.purge(gd);\n",
              "            observer.disconnect();\n",
              "        }}\n",
              "}});\n",
              "\n",
              "// Listen for the removal of the full notebook cells\n",
              "var notebookContainer = gd.closest('#notebook-container');\n",
              "if (notebookContainer) {{\n",
              "    x.observe(notebookContainer, {childList: true});\n",
              "}}\n",
              "\n",
              "// Listen for the clearing of the current output cell\n",
              "var outputEl = gd.closest('.output');\n",
              "if (outputEl) {{\n",
              "    x.observe(outputEl, {childList: true});\n",
              "}}\n",
              "\n",
              "                        })\n",
              "                };\n",
              "                \n",
              "            </script>\n",
              "        </div>\n",
              "</body>\n",
              "</html>"
            ]
          },
          "metadata": {
            "tags": []
          }
        }
      ]
    },
    {
      "cell_type": "code",
      "metadata": {
        "id": "YlmHvhuFRN6A",
        "colab_type": "code",
        "colab": {
          "base_uri": "https://localhost:8080/",
          "height": 177
        },
        "outputId": "689524f0-24c9-46df-cd22-09d17f35fe9a"
      },
      "source": [
        "train['GROSS_SQUARE_FEET'].describe()"
      ],
      "execution_count": 237,
      "outputs": [
        {
          "output_type": "execute_result",
          "data": {
            "text/plain": [
              "count    2517.000000\n",
              "mean     1473.500596\n",
              "std       599.132016\n",
              "min         0.000000\n",
              "25%      1144.000000\n",
              "50%      1367.000000\n",
              "75%      1683.000000\n",
              "max      7875.000000\n",
              "Name: GROSS_SQUARE_FEET, dtype: float64"
            ]
          },
          "metadata": {
            "tags": []
          },
          "execution_count": 237
        }
      ]
    },
    {
      "cell_type": "code",
      "metadata": {
        "id": "YhT5t3ZqPqse",
        "colab_type": "code",
        "colab": {
          "base_uri": "https://localhost:8080/",
          "height": 177
        },
        "outputId": "8a3eb8bd-6d49-4b51-fc81-03697b97fde9"
      },
      "source": [
        "train['LAND_SQUARE_FEET'].describe()"
      ],
      "execution_count": 238,
      "outputs": [
        {
          "output_type": "execute_result",
          "data": {
            "text/plain": [
              "count     2517.000000\n",
              "mean      3146.558602\n",
              "std       1798.698890\n",
              "min          0.000000\n",
              "25%       2000.000000\n",
              "50%       2600.000000\n",
              "75%       4000.000000\n",
              "max      18906.000000\n",
              "Name: LAND_SQUARE_FEET, dtype: float64"
            ]
          },
          "metadata": {
            "tags": []
          },
          "execution_count": 238
        }
      ]
    },
    {
      "cell_type": "code",
      "metadata": {
        "id": "9yoz3a7SFSBs",
        "colab_type": "code",
        "colab": {
          "base_uri": "https://localhost:8080/",
          "height": 70
        },
        "outputId": "642b38c7-3a2e-4972-ab24-578ffd52ec8e"
      },
      "source": [
        "# From plot we can see that GROSS_SQQUARE_FEET=0 has sale price > 0 , this looks like data entry error or nan value, let's see those data\n",
        "(train['GROSS_SQUARE_FEET']==0).value_counts()\n"
      ],
      "execution_count": 239,
      "outputs": [
        {
          "output_type": "execute_result",
          "data": {
            "text/plain": [
              "False    2486\n",
              "True       31\n",
              "Name: GROSS_SQUARE_FEET, dtype: int64"
            ]
          },
          "metadata": {
            "tags": []
          },
          "execution_count": 239
        }
      ]
    },
    {
      "cell_type": "code",
      "metadata": {
        "id": "Crh2_LB-FY-c",
        "colab_type": "code",
        "colab": {
          "base_uri": "https://localhost:8080/",
          "height": 70
        },
        "outputId": "35638c19-0a97-4fc6-f121-ffe549d1a833"
      },
      "source": [
        "# let's check the land_square_feet column\n",
        "# convert to int\n",
        "(train['LAND_SQUARE_FEET']== 0).value_counts()\n"
      ],
      "execution_count": 240,
      "outputs": [
        {
          "output_type": "execute_result",
          "data": {
            "text/plain": [
              "False    2486\n",
              "True       31\n",
              "Name: LAND_SQUARE_FEET, dtype: int64"
            ]
          },
          "metadata": {
            "tags": []
          },
          "execution_count": 240
        }
      ]
    },
    {
      "cell_type": "code",
      "metadata": {
        "id": "Wzr23hQ5F-w7",
        "colab_type": "code",
        "colab": {
          "base_uri": "https://localhost:8080/",
          "height": 617
        },
        "outputId": "6b998e84-424b-421e-fd13-63e2f4bc5315"
      },
      "source": [
        "px.scatter(train, x= 'LAND_SQUARE_FEET', y= \"SALE_PRICE\")"
      ],
      "execution_count": 241,
      "outputs": [
        {
          "output_type": "display_data",
          "data": {
            "text/html": [
              "<html>\n",
              "<head><meta charset=\"utf-8\" /></head>\n",
              "<body>\n",
              "    <div>\n",
              "            <script src=\"https://cdnjs.cloudflare.com/ajax/libs/mathjax/2.7.5/MathJax.js?config=TeX-AMS-MML_SVG\"></script><script type=\"text/javascript\">if (window.MathJax) {MathJax.Hub.Config({SVG: {font: \"STIX-Web\"}});}</script>\n",
              "                <script type=\"text/javascript\">window.PlotlyConfig = {MathJaxConfig: 'local'};</script>\n",
              "        <script src=\"https://cdn.plot.ly/plotly-latest.min.js\"></script>    \n",
              "            <div id=\"159d6c85-af09-45de-96a4-6ab79e69a547\" class=\"plotly-graph-div\" style=\"height:600px; width:100%;\"></div>\n",
              "            <script type=\"text/javascript\">\n",
              "                \n",
              "                    window.PLOTLYENV=window.PLOTLYENV || {};\n",
              "                    \n",
              "                if (document.getElementById(\"159d6c85-af09-45de-96a4-6ab79e69a547\")) {\n",
              "                    Plotly.newPlot(\n",
              "                        '159d6c85-af09-45de-96a4-6ab79e69a547',\n",
              "                        [{\"hoverlabel\": {\"namelength\": 0}, \"hovertemplate\": \"LAND_SQUARE_FEET=%{x}<br>SALE_PRICE=%{y}\", \"legendgroup\": \"\", \"marker\": {\"color\": \"#636efa\", \"symbol\": \"circle\"}, \"mode\": \"markers\", \"name\": \"\", \"showlegend\": false, \"type\": \"scattergl\", \"x\": [6800.0, 4000.0, 3500.0, 4000.0, 1710.0, 4000.0, 2000.0, 3000.0, 1800.0, 4000.0, 1710.0, 5000.0, 2400.0, 1800.0, 7000.0, 3700.0, 2500.0, 2435.0, 3000.0, 4000.0, 2500.0, 760.0, 3920.0, 2626.0, 1383.0, 2000.0, 5000.0, 2000.0, 2200.0, 3570.0, 1800.0, 2400.0, 2000.0, 2000.0, 8600.0, 7107.0, 2500.0, 4629.0, 3800.0, 5000.0, 4000.0, 1800.0, 4242.0, 5500.0, 9383.0, 2400.0, 3000.0, 3984.0, 4900.0, 1635.0, 2160.0, 3068.0, 3800.0, 2200.0, 4482.0, 3655.0, 1403.0, 4410.0, 2325.0, 2527.0, 2058.0, 6935.0, 3228.0, 2217.0, 2000.0, 3655.0, 1917.0, 1800.0, 1600.0, 1800.0, 2200.0, 4320.0, 1888.0, 3000.0, 4000.0, 3142.0, 2000.0, 2000.0, 1710.0, 1280.0, 2400.0, 2025.0, 3742.0, 3000.0, 1893.0, 3650.0, 2650.0, 1742.0, 2600.0, 1900.0, 1333.0, 2654.0, 4000.0, 911.0, 5355.0, 6000.0, 1710.0, 2549.0, 2178.0, 1754.0, 3590.0, 4373.0, 3060.0, 2000.0, 1332.0, 3200.0, 5740.0, 2500.0, 3800.0, 2271.0, 4000.0, 2669.0, 2765.0, 2406.0, 2296.0, 3897.0, 3000.0, 4000.0, 4000.0, 2979.0, 2325.0, 2846.0, 2700.0, 3375.0, 1860.0, 707.0, 1931.0, 1500.0, 4490.0, 1748.0, 3258.0, 2000.0, 3000.0, 2049.0, 2467.0, 2000.0, 4128.0, 0.0, 1792.0, 2142.0, 4000.0, 1800.0, 4000.0, 4000.0, 5066.0, 1849.0, 3786.0, 4000.0, 3000.0, 5000.0, 2325.0, 1080.0, 2580.0, 2500.0, 1900.0, 3000.0, 1300.0, 2625.0, 5000.0, 3168.0, 2700.0, 1432.0, 3555.0, 1642.0, 1005.0, 2000.0, 2391.0, 2100.0, 1600.0, 2500.0, 2410.0, 1600.0, 1530.0, 2528.0, 0.0, 4400.0, 2500.0, 3000.0, 6000.0, 3000.0, 4700.0, 2200.0, 1800.0, 4000.0, 6000.0, 4000.0, 2300.0, 2000.0, 4000.0, 4000.0, 2000.0, 3000.0, 4000.0, 4230.0, 6900.0, 2416.0, 2000.0, 3360.0, 2886.0, 2304.0, 2760.0, 18906.0, 1800.0, 5750.0, 3000.0, 1603.0, 3000.0, 2200.0, 2000.0, 1800.0, 1800.0, 1024.0, 1948.0, 1800.0, 4800.0, 2200.0, 4000.0, 3200.0, 3217.0, 2400.0, 2576.0, 4001.0, 2500.0, 3000.0, 2375.0, 2500.0, 3000.0, 2114.0, 6000.0, 1796.0, 6586.0, 3600.0, 5600.0, 2178.0, 1600.0, 2000.0, 2400.0, 2500.0, 2217.0, 3800.0, 4000.0, 5550.0, 4500.0, 1900.0, 2500.0, 4218.0, 2567.0, 2661.0, 2250.0, 1800.0, 2790.0, 1933.0, 1800.0, 3000.0, 1620.0, 2500.0, 2049.0, 0.0, 0.0, 4000.0, 4946.0, 3729.0, 3880.0, 4800.0, 1500.0, 1900.0, 3000.0, 2000.0, 3500.0, 3000.0, 4000.0, 2375.0, 2500.0, 4000.0, 1642.0, 4000.0, 7695.0, 5600.0, 1090.0, 1806.0, 3800.0, 2789.0, 2467.0, 2375.0, 2250.0, 13764.0, 4800.0, 1550.0, 4515.0, 900.0, 3848.0, 3000.0, 2244.0, 2250.0, 2000.0, 2204.0, 4350.0, 1700.0, 5000.0, 5000.0, 3030.0, 8217.0, 4000.0, 1800.0, 1833.0, 2002.0, 1874.0, 2716.0, 2100.0, 4465.0, 2282.0, 3000.0, 3500.0, 3500.0, 2500.0, 8000.0, 3960.0, 7425.0, 3125.0, 3800.0, 940.0, 2140.0, 6000.0, 3234.0, 1710.0, 2026.0, 2000.0, 1440.0, 0.0, 2379.0, 1600.0, 1607.0, 2000.0, 2000.0, 1800.0, 1800.0, 2043.0, 4000.0, 1800.0, 4000.0, 4000.0, 4200.0, 2500.0, 2800.0, 5000.0, 2300.0, 1800.0, 3500.0, 1600.0, 3040.0, 2500.0, 4000.0, 1764.0, 1858.0, 2000.0, 1155.0, 2175.0, 2375.0, 4000.0, 2220.0, 2000.0, 3696.0, 4000.0, 4000.0, 3742.0, 2520.0, 2068.0, 2500.0, 2850.0, 750.0, 8000.0, 5800.0, 2800.0, 2733.0, 1475.0, 3793.0, 4200.0, 4370.0, 4300.0, 4400.0, 5400.0, 2470.0, 3645.0, 3325.0, 2000.0, 2678.0, 2000.0, 3050.0, 1742.0, 1600.0, 2591.0, 2500.0, 2000.0, 4758.0, 7000.0, 0.0, 0.0, 0.0, 2000.0, 4000.0, 3600.0, 1948.0, 6850.0, 6825.0, 2500.0, 1800.0, 2500.0, 3600.0, 1459.0, 2742.0, 2461.0, 2267.0, 3000.0, 1600.0, 2625.0, 1973.0, 1696.0, 8550.0, 6300.0, 5500.0, 4000.0, 8550.0, 4158.0, 966.0, 3750.0, 3052.0, 2800.0, 1800.0, 2150.0, 1800.0, 1933.0, 3000.0, 2850.0, 2000.0, 2500.0, 2000.0, 5000.0, 2002.0, 4142.0, 1751.0, 4500.0, 3852.0, 4000.0, 4200.0, 4000.0, 4900.0, 1900.0, 2000.0, 2675.0, 1858.0, 2168.0, 2000.0, 2500.0, 2000.0, 4000.0, 3255.0, 2500.0, 2000.0, 2000.0, 2950.0, 3500.0, 8700.0, 5400.0, 4280.0, 2220.0, 2450.0, 10600.0, 3880.0, 4880.0, 3594.0, 8491.0, 3340.0, 3200.0, 4500.0, 1360.0, 2310.0, 1600.0, 2300.0, 2483.0, 2600.0, 5000.0, 3000.0, 2500.0, 1440.0, 4000.0, 802.0, 3600.0, 2900.0, 2480.0, 6208.0, 2945.0, 5000.0, 2500.0, 4000.0, 5700.0, 4000.0, 1802.0, 5280.0, 4000.0, 4000.0, 2600.0, 1500.0, 1900.0, 2642.0, 2677.0, 3000.0, 2200.0, 2008.0, 2150.0, 2500.0, 2000.0, 3300.0, 4037.0, 3432.0, 4000.0, 2500.0, 4033.0, 4500.0, 3600.0, 3201.0, 2625.0, 2779.0, 6000.0, 3016.0, 4300.0, 2200.0, 10575.0, 3200.0, 4700.0, 3033.0, 1600.0, 1600.0, 2160.0, 1647.0, 2500.0, 3018.0, 1800.0, 2808.0, 1500.0, 1652.0, 2717.0, 2500.0, 1808.0, 2200.0, 4018.0, 4000.0, 3700.0, 2000.0, 2500.0, 5050.0, 4000.0, 5940.0, 6000.0, 1888.0, 5400.0, 2000.0, 2500.0, 2635.0, 3750.0, 2825.0, 4045.0, 4455.0, 1937.0, 2400.0, 2800.0, 3333.0, 2100.0, 4000.0, 4100.0, 2040.0, 5000.0, 2000.0, 2000.0, 4000.0, 7421.0, 9914.0, 4000.0, 3004.0, 5099.0, 3500.0, 2300.0, 3250.0, 1475.0, 1737.0, 2200.0, 4000.0, 5000.0, 2000.0, 4000.0, 4500.0, 0.0, 2100.0, 3210.0, 2500.0, 4325.0, 4000.0, 4845.0, 4000.0, 3200.0, 2500.0, 3600.0, 4000.0, 3854.0, 2652.0, 1768.0, 2400.0, 3000.0, 4000.0, 1742.0, 2458.0, 4000.0, 7750.0, 5715.0, 4182.0, 3402.0, 6600.0, 2523.0, 3742.0, 700.0, 1095.0, 2575.0, 2618.0, 2500.0, 1858.0, 3750.0, 2500.0, 2338.0, 2335.0, 2003.0, 1800.0, 1880.0, 3000.0, 1700.0, 0.0, 4442.0, 2000.0, 2160.0, 3373.0, 3400.0, 4367.0, 3658.0, 1800.0, 1942.0, 1843.0, 3500.0, 2400.0, 3030.0, 3000.0, 2400.0, 3355.0, 2500.0, 6000.0, 2000.0, 4118.0, 4000.0, 1620.0, 2600.0, 2156.0, 4923.0, 9825.0, 2376.0, 2968.0, 3075.0, 6498.0, 6000.0, 2981.0, 2000.0, 2312.0, 5000.0, 8550.0, 2975.0, 2650.0, 2850.0, 1783.0, 1280.0, 3725.0, 5500.0, 2500.0, 4000.0, 5729.0, 3250.0, 0.0, 0.0, 2500.0, 1800.0, 2000.0, 2700.0, 1725.0, 1875.0, 1550.0, 2300.0, 1900.0, 1805.0, 2742.0, 4000.0, 4000.0, 4158.0, 2916.0, 1800.0, 1900.0, 2000.0, 2400.0, 2200.0, 5000.0, 3042.0, 2000.0, 4000.0, 4650.0, 2000.0, 4000.0, 2433.0, 1900.0, 1600.0, 1868.0, 2367.0, 3950.0, 1671.0, 3000.0, 1548.0, 2800.0, 500.0, 3552.0, 1560.0, 1218.0, 2400.0, 6612.0, 2500.0, 2000.0, 4235.0, 7275.0, 2466.0, 3851.0, 1667.0, 1802.0, 2250.0, 4000.0, 4000.0, 1733.0, 6000.0, 4000.0, 2500.0, 4480.0, 2510.0, 4600.0, 2760.0, 5960.0, 3300.0, 4000.0, 4000.0, 4000.0, 2500.0, 4040.0, 2640.0, 6000.0, 3300.0, 2652.0, 2100.0, 2700.0, 2500.0, 3016.0, 2716.0, 2500.0, 1500.0, 800.0, 4009.0, 3700.0, 3811.0, 4800.0, 1670.0, 1213.0, 6279.0, 7124.0, 2552.0, 2500.0, 1986.0, 1800.0, 3124.0, 3760.0, 1800.0, 1800.0, 2200.0, 2000.0, 2000.0, 4650.0, 2200.0, 4000.0, 4000.0, 4000.0, 4000.0, 3600.0, 1674.0, 2000.0, 5279.0, 7670.0, 2331.0, 3200.0, 1800.0, 2090.0, 5593.0, 2000.0, 2079.0, 2500.0, 2050.0, 2200.0, 4280.0, 4268.0, 4057.0, 4001.0, 4954.0, 920.0, 3300.0, 6000.0, 4100.0, 2250.0, 8000.0, 2800.0, 960.0, 2342.0, 640.0, 2228.0, 1800.0, 5229.0, 1800.0, 1958.0, 5722.0, 1950.0, 2176.0, 2600.0, 2500.0, 2000.0, 1800.0, 4000.0, 4000.0, 3000.0, 3000.0, 4000.0, 2100.0, 6000.0, 4000.0, 2001.0, 3672.0, 4150.0, 4000.0, 2500.0, 2500.0, 3000.0, 3000.0, 2140.0, 2000.0, 2500.0, 1800.0, 2446.0, 840.0, 640.0, 1760.0, 5940.0, 4850.0, 1955.0, 1344.0, 3800.0, 6786.0, 2835.0, 4000.0, 6000.0, 4235.0, 2000.0, 4752.0, 1520.0, 2200.0, 1275.0, 3880.0, 7525.0, 3000.0, 4000.0, 1900.0, 2272.0, 1775.0, 2240.0, 3800.0, 2500.0, 1950.0, 2500.0, 3135.0, 2500.0, 0.0, 2000.0, 1850.0, 1800.0, 2067.0, 3383.0, 1833.0, 1530.0, 4200.0, 2500.0, 2000.0, 2600.0, 2500.0, 3031.0, 2125.0, 3642.0, 4000.0, 2157.0, 3443.0, 4000.0, 3325.0, 2323.0, 4000.0, 3800.0, 4000.0, 4500.0, 4000.0, 4750.0, 4000.0, 8340.0, 5050.0, 3000.0, 4290.0, 2258.0, 2000.0, 3000.0, 2945.0, 4000.0, 4000.0, 3000.0, 4000.0, 2300.0, 2625.0, 2208.0, 2160.0, 4037.0, 3094.0, 2243.0, 2790.0, 6773.0, 3000.0, 2000.0, 2771.0, 15200.0, 1170.0, 1190.0, 3999.0, 2108.0, 4167.0, 3040.0, 2400.0, 4500.0, 1412.0, 4800.0, 2258.0, 2070.0, 2250.0, 3700.0, 1795.0, 1600.0, 5000.0, 5000.0, 1800.0, 2250.0, 2000.0, 1770.0, 2000.0, 0.0, 2200.0, 3108.0, 3000.0, 4000.0, 6300.0, 2250.0, 1900.0, 2042.0, 3200.0, 2000.0, 2500.0, 3167.0, 4037.0, 2009.0, 3760.0, 2500.0, 2000.0, 2639.0, 2775.0, 1400.0, 4800.0, 2500.0, 2448.0, 1232.0, 1800.0, 2800.0, 2200.0, 2127.0, 3300.0, 5000.0, 11750.0, 2351.0, 2160.0, 5000.0, 1260.0, 2650.0, 2846.0, 1530.0, 5000.0, 1558.0, 1800.0, 2167.0, 5000.0, 3296.0, 3325.0, 2402.0, 4842.0, 2079.0, 3200.0, 7500.0, 3142.0, 2220.0, 4000.0, 2000.0, 2904.0, 2540.0, 7200.0, 4000.0, 4924.0, 3840.0, 2058.0, 2000.0, 1393.0, 1600.0, 2500.0, 3700.0, 4000.0, 1513.0, 7680.0, 1992.0, 2200.0, 2200.0, 2800.0, 2642.0, 3456.0, 2000.0, 1710.0, 2000.0, 3042.0, 4000.0, 2000.0, 4432.0, 1800.0, 3400.0, 2500.0, 4000.0, 2000.0, 2942.0, 6210.0, 2400.0, 1342.0, 2768.0, 8300.0, 8450.0, 1775.0, 1750.0, 4400.0, 1967.0, 2003.0, 5000.0, 2700.0, 2000.0, 7500.0, 3000.0, 2000.0, 10225.0, 6600.0, 3840.0, 4000.0, 2000.0, 1800.0, 4040.0, 7000.0, 5000.0, 13206.0, 1800.0, 2643.0, 1590.0, 1707.0, 2187.0, 4290.0, 3317.0, 2000.0, 1900.0, 1785.0, 1875.0, 2000.0, 3200.0, 4000.0, 3000.0, 4467.0, 4275.0, 1900.0, 2658.0, 3000.0, 3000.0, 4113.0, 2000.0, 4000.0, 3000.0, 4000.0, 3000.0, 1200.0, 2400.0, 4618.0, 5000.0, 2000.0, 1500.0, 2220.0, 1300.0, 1566.0, 2375.0, 4050.0, 4000.0, 4000.0, 5059.0, 2500.0, 2300.0, 1301.0, 2500.0, 1342.0, 1342.0, 1200.0, 2060.0, 2673.0, 2750.0, 1808.0, 2000.0, 1800.0, 1800.0, 2000.0, 345.0, 1800.0, 4113.0, 4000.0, 2000.0, 3900.0, 4000.0, 4000.0, 1995.0, 4700.0, 2107.0, 2000.0, 2340.0, 2500.0, 2000.0, 5000.0, 4900.0, 3125.0, 2610.0, 4200.0, 2520.0, 2043.0, 3000.0, 2380.0, 8000.0, 5709.0, 9950.0, 2000.0, 8000.0, 2350.0, 2000.0, 1910.0, 4116.0, 2212.0, 2500.0, 6672.0, 2000.0, 3000.0, 1800.0, 2904.0, 4730.0, 1245.0, 2160.0, 2100.0, 4845.0, 3600.0, 1920.0, 2436.0, 3200.0, 1800.0, 2000.0, 2000.0, 3000.0, 2400.0, 3915.0, 2100.0, 10000.0, 4000.0, 560.0, 5000.0, 4200.0, 3100.0, 1800.0, 12235.0, 2500.0, 1800.0, 6367.0, 1750.0, 2000.0, 2000.0, 1500.0, 2025.0, 2410.0, 1960.0, 2252.0, 1900.0, 3792.0, 4400.0, 5000.0, 4000.0, 2150.0, 5000.0, 2800.0, 1842.0, 3800.0, 2542.0, 5870.0, 4100.0, 1180.0, 1975.0, 3000.0, 1317.0, 2325.0, 3439.0, 1500.0, 2000.0, 2163.0, 6545.0, 880.0, 2303.0, 2300.0, 2400.0, 2500.0, 3196.0, 1715.0, 3811.0, 4300.0, 3521.0, 3000.0, 2242.0, 1870.0, 2500.0, 4300.0, 2000.0, 3300.0, 3000.0, 1998.0, 3200.0, 4000.0, 7200.0, 9400.0, 4500.0, 1980.0, 6000.0, 3700.0, 1155.0, 1358.0, 2442.0, 2500.0, 3000.0, 3246.0, 6000.0, 2500.0, 2400.0, 9000.0, 2450.0, 3525.0, 2800.0, 4000.0, 4050.0, 3000.0, 3333.0, 2494.0, 2302.0, 1458.0, 0.0, 1649.0, 1445.0, 2500.0, 2200.0, 2100.0, 1445.0, 4818.0, 3000.0, 1750.0, 6000.0, 4500.0, 3924.0, 6123.0, 3068.0, 2000.0, 5040.0, 2500.0, 5000.0, 4170.0, 2870.0, 2700.0, 2600.0, 6250.0, 1600.0, 5000.0, 2129.0, 2530.0, 3960.0, 4000.0, 2500.0, 1800.0, 1500.0, 3952.0, 3560.0, 6100.0, 1700.0, 2250.0, 3000.0, 2500.0, 3100.0, 1838.0, 1546.0, 2375.0, 1800.0, 1785.0, 1785.0, 1800.0, 6132.0, 3000.0, 0.0, 5000.0, 2933.0, 4000.0, 3604.0, 1800.0, 3456.0, 1800.0, 5800.0, 4355.0, 3800.0, 4200.0, 1800.0, 2600.0, 2609.0, 4000.0, 1550.0, 4000.0, 4725.0, 1955.0, 2500.0, 2000.0, 500.0, 1200.0, 3100.0, 4120.0, 4000.0, 6600.0, 4000.0, 18750.0, 11175.0, 2885.0, 2825.0, 2675.0, 2000.0, 5400.0, 15306.0, 1593.0, 4200.0, 4000.0, 2400.0, 4000.0, 1895.0, 2500.0, 2500.0, 2021.0, 1800.0, 2500.0, 2750.0, 2200.0, 2000.0, 2200.0, 3000.0, 1376.0, 1817.0, 1950.0, 1600.0, 4000.0, 2400.0, 11300.0, 2000.0, 2500.0, 3442.0, 3800.0, 2200.0, 4000.0, 3078.0, 4725.0, 4000.0, 1800.0, 2046.0, 1620.0, 3978.0, 3650.0, 2772.0, 2500.0, 1550.0, 2959.0, 3076.0, 1748.0, 1600.0, 2700.0, 2404.0, 2003.0, 2375.0, 2000.0, 2000.0, 2000.0, 2500.0, 2000.0, 5000.0, 1900.0, 2500.0, 2435.0, 2000.0, 1900.0, 2500.0, 2550.0, 4000.0, 3000.0, 2646.0, 3291.0, 4000.0, 2500.0, 3000.0, 8000.0, 3168.0, 1420.0, 2460.0, 816.0, 4000.0, 2513.0, 4410.0, 6300.0, 2300.0, 2303.0, 2000.0, 5500.0, 2591.0, 2800.0, 2375.0, 6500.0, 2363.0, 5000.0, 1160.0, 2000.0, 2000.0, 1900.0, 2200.0, 1800.0, 2000.0, 5000.0, 3700.0, 4180.0, 1800.0, 2808.0, 880.0, 1620.0, 4300.0, 1655.0, 3442.0, 3000.0, 2125.0, 7500.0, 8525.0, 4500.0, 5700.0, 2232.0, 4100.0, 2400.0, 5000.0, 2000.0, 1200.0, 1274.0, 2625.0, 1800.0, 2285.0, 6250.0, 2664.0, 1680.0, 2500.0, 2500.0, 1940.0, 2375.0, 2099.0, 4250.0, 1569.0, 1890.0, 1700.0, 1285.0, 2300.0, 2250.0, 369.0, 4958.0, 0.0, 0.0, 8455.0, 2000.0, 3400.0, 2600.0, 3000.0, 3000.0, 3800.0, 2000.0, 2500.0, 2043.0, 1800.0, 4945.0, 2000.0, 2522.0, 2776.0, 2483.0, 3188.0, 1710.0, 2000.0, 1338.0, 5760.0, 6000.0, 6000.0, 2040.0, 5000.0, 5130.0, 8399.0, 2400.0, 4000.0, 1225.0, 1476.0, 1056.0, 855.0, 3498.0, 4427.0, 2750.0, 2108.0, 2542.0, 2275.0, 1922.0, 2000.0, 2000.0, 2500.0, 1983.0, 4000.0, 2000.0, 4320.0, 5054.0, 4790.0, 0.0, 6600.0, 2000.0, 4500.0, 1800.0, 6000.0, 2800.0, 4000.0, 5240.0, 2500.0, 4000.0, 2116.0, 2450.0, 1916.0, 1313.0, 1600.0, 2800.0, 2996.0, 2460.0, 4400.0, 6000.0, 7050.0, 2200.0, 5000.0, 4175.0, 5000.0, 1278.0, 1800.0, 1800.0, 2000.0, 2217.0, 2555.0, 2200.0, 1600.0, 1800.0, 2500.0, 6758.0, 3960.0, 5000.0, 1800.0, 2542.0, 2000.0, 3342.0, 1800.0, 2500.0, 4890.0, 4000.0, 4500.0, 2200.0, 4114.0, 2400.0, 2000.0, 2000.0, 2000.0, 3547.0, 4000.0, 1454.0, 3500.0, 2018.0, 500.0, 4000.0, 2350.0, 2300.0, 2500.0, 2500.0, 2200.0, 1600.0, 2500.0, 1904.0, 1800.0, 4000.0, 1800.0, 1466.0, 2583.0, 2500.0, 2000.0, 5000.0, 1600.0, 4000.0, 4000.0, 2500.0, 4000.0, 2250.0, 1924.0, 4000.0, 4000.0, 2300.0, 1620.0, 3000.0, 3000.0, 6575.0, 4000.0, 2523.0, 2158.0, 2500.0, 2754.0, 1600.0, 2250.0, 2500.0, 10000.0, 4292.0, 1900.0, 8960.0, 2060.0, 2800.0, 2325.0, 2408.0, 1900.0, 3000.0, 1600.0, 2100.0, 2100.0, 2500.0, 4369.0, 2500.0, 3400.0, 7706.0, 2375.0, 4000.0, 7845.0, 1800.0, 1306.0, 6420.0, 3744.0, 4000.0, 4000.0, 2000.0, 1800.0, 3500.0, 3800.0, 3000.0, 3000.0, 2000.0, 4000.0, 3000.0, 4600.0, 2000.0, 4000.0, 4000.0, 2423.0, 3340.0, 3000.0, 2375.0, 4000.0, 6504.0, 1700.0, 1500.0, 1690.0, 2668.0, 3225.0, 702.0, 5850.0, 8000.0, 2000.0, 2725.0, 4700.0, 4720.0, 4000.0, 4000.0, 2375.0, 4000.0, 3504.0, 1840.0, 1854.0, 2600.0, 4915.0, 5500.0, 0.0, 0.0, 1785.0, 2000.0, 2000.0, 2300.0, 1800.0, 4000.0, 0.0, 2668.0, 5000.0, 2517.0, 4829.0, 3920.0, 4800.0, 3397.0, 2200.0, 3300.0, 4000.0, 2763.0, 2000.0, 2000.0, 4000.0, 6250.0, 3000.0, 4000.0, 2500.0, 2106.0, 1275.0, 2475.0, 1900.0, 2000.0, 3300.0, 3640.0, 3742.0, 2500.0, 2908.0, 1800.0, 2667.0, 2400.0, 4100.0, 4000.0, 1566.0, 1569.0, 3967.0, 4000.0, 5000.0, 1600.0, 4000.0, 4000.0, 4000.0, 3625.0, 2000.0, 4000.0, 1701.0, 2210.0, 2375.0, 4000.0, 4000.0, 4160.0, 2200.0, 2600.0, 3240.0, 10815.0, 1710.0, 1800.0, 2000.0, 2000.0, 2625.0, 2003.0, 1050.0, 4000.0, 2400.0, 2500.0, 2400.0, 1600.0, 2500.0, 3800.0, 3800.0, 2160.0, 4200.0, 1169.0, 8000.0, 3854.0, 2625.0, 2500.0, 2240.0, 6000.0, 938.0, 1792.0, 1750.0, 1600.0, 1602.0, 3600.0, 1800.0, 4000.0, 5000.0, 4000.0, 2000.0, 3000.0, 4000.0, 2042.0, 3200.0, 2500.0, 2000.0, 1734.0, 2500.0, 3068.0, 2000.0, 9164.0, 3505.0, 3000.0, 2997.0, 2470.0, 5476.0, 2037.0, 7900.0, 2310.0, 2250.0, 2500.0, 1650.0, 1800.0, 2358.0, 1800.0, 2625.0, 4100.0, 1500.0, 1800.0, 3825.0, 3427.0, 4000.0, 1900.0, 3142.0, 4000.0, 2700.0, 2800.0, 4600.0, 2000.0, 2000.0, 2000.0, 2442.0, 4000.0, 3000.0, 9900.0, 2500.0, 2400.0, 3000.0, 18009.0, 2058.0, 3160.0, 1040.0, 3000.0, 2356.0, 4000.0, 3200.0, 1883.0, 2000.0, 1800.0, 2650.0, 2000.0, 4000.0, 1958.0, 4000.0, 2500.0, 3500.0, 1676.0, 4000.0, 3322.0, 3897.0, 2800.0, 4000.0, 2000.0, 3120.0, 4000.0, 1800.0, 4000.0, 3000.0, 2542.0, 2178.0, 4000.0, 2342.0, 2406.0, 1282.0, 2320.0, 2500.0, 2475.0, 975.0, 630.0, 4400.0, 2600.0, 2272.0, 2625.0, 5400.0, 4300.0, 5994.0, 4660.0, 3000.0, 3527.0, 3750.0, 3400.0, 2500.0, 2500.0, 2000.0, 2512.0, 1800.0, 1800.0, 2000.0, 2000.0, 1958.0, 4000.0, 2042.0, 4000.0, 1800.0, 3200.0, 2500.0, 4000.0, 6110.0, 2500.0, 6004.0, 4000.0, 1408.0, 2000.0, 4120.0, 2820.0, 2500.0, 4000.0, 3303.0, 2100.0, 2500.0, 4200.0, 1267.0, 1185.0, 3780.0, 1092.0, 8473.0, 4000.0, 1683.0, 2700.0, 5000.0, 10507.0, 3010.0, 4200.0, 1200.0, 2397.0, 3852.0, 2500.0, 1800.0, 2000.0, 3250.0, 2760.0, 2000.0, 3960.0, 8000.0, 4000.0, 0.0, 4500.0, 2500.0, 3000.0, 4025.0, 3976.0, 1840.0, 4000.0, 4000.0, 2200.0, 2304.0, 1811.0, 1600.0, 2000.0, 5000.0, 4000.0, 4400.0, 2500.0, 2000.0, 2470.0, 4295.0, 500.0, 3000.0, 2000.0, 2700.0, 6695.0, 2996.0, 3000.0, 1875.0, 1706.0, 2806.0, 2375.0, 2132.0, 0.0, 2000.0, 2500.0, 2500.0, 2336.0, 4000.0, 6000.0, 2400.0, 4085.0, 2800.0, 4000.0, 5456.0, 5137.0, 4042.0, 2800.0, 4000.0, 4900.0, 5500.0, 1620.0, 1912.0, 5000.0, 4250.0, 5100.0, 6389.0, 1800.0, 2500.0, 2785.0, 2500.0, 2860.0, 1333.0, 2220.0, 2000.0, 2000.0, 2000.0, 1805.0, 2000.0, 1800.0, 3000.0, 3100.0, 4000.0, 6000.0, 2307.0, 4000.0, 2000.0, 4000.0, 3217.0, 2000.0, 4000.0, 2114.0, 2660.0, 4560.0, 2500.0, 2100.0, 9000.0, 17500.0, 2400.0, 3800.0, 3082.0, 1215.0, 4512.0, 4003.0, 2457.0, 2500.0, 2851.0, 5280.0, 3200.0, 2300.0, 3500.0, 2050.0, 2000.0, 2500.0, 2800.0, 3800.0, 0.0, 0.0, 5130.0, 2236.0, 4000.0, 4500.0, 2500.0, 8209.0, 4000.0, 3000.0, 1800.0, 2500.0, 2000.0, 5706.0, 2600.0, 2238.0, 1600.0, 5533.0, 2200.0, 2414.0, 3020.0, 2860.0, 2200.0, 2910.0, 1904.0, 2200.0, 1113.0, 4880.0, 3960.0, 2000.0, 4000.0, 3404.0, 6532.0, 2550.0, 2138.0, 11880.0, 2200.0, 2700.0, 2300.0, 2500.0, 2203.0, 2100.0, 0.0, 0.0, 5950.0, 1710.0, 1800.0, 4000.0, 4000.0, 2610.0, 1700.0, 2250.0, 3000.0, 3185.0, 5046.0, 4000.0, 3500.0, 12100.0, 4080.0, 5960.0, 3000.0, 4000.0, 4400.0, 4320.0, 4017.0, 1062.0, 5000.0, 817.0, 2375.0, 2500.0, 1650.0, 2178.0, 3781.0, 1785.0, 3800.0, 3192.0, 3800.0, 4000.0, 2600.0, 4000.0, 4000.0, 4000.0, 1924.0, 4000.0, 3200.0, 3361.0, 1500.0, 4100.0, 1600.0, 2576.0, 3000.0, 4191.0, 2697.0, 5085.0, 500.0, 2185.0, 4700.0, 4000.0, 2580.0, 2875.0, 6309.0, 6000.0, 2892.0, 0.0, 1820.0, 1800.0, 1807.0, 1664.0, 3000.0, 5700.0, 1900.0, 3920.0, 3800.0, 1920.0, 2600.0, 3325.0, 4000.0, 2261.0, 4000.0, 2340.0, 10000.0, 9600.0, 4000.0, 3600.0, 3146.0, 2500.0, 2000.0, 3360.0, 9000.0, 5000.0, 2750.0, 5975.0, 2000.0, 1875.0, 2200.0, 4067.0, 4504.0, 6000.0, 2925.0, 2900.0, 2448.0, 4000.0, 3500.0, 4000.0, 4000.0, 2377.0, 2000.0, 4200.0, 2000.0, 4000.0, 2200.0, 3780.0, 2470.0, 1842.0, 3929.0, 3000.0, 4995.0, 780.0, 2538.0, 4454.0, 2375.0, 2320.0, 2575.0, 2500.0, 2130.0, 1980.0, 0.0, 2603.0, 2856.0, 2600.0, 2098.0, 1063.0, 4000.0, 5000.0, 6000.0, 4000.0, 3977.0, 3800.0, 4000.0, 8963.0, 4000.0, 1800.0, 2785.0, 3600.0, 1800.0, 2502.0, 2600.0, 2600.0, 2425.0, 4493.0, 3750.0, 2500.0, 2507.0, 2114.0, 2000.0, 2500.0, 2000.0, 2000.0, 4442.0, 2538.0, 3015.0, 4400.0, 1263.0, 5000.0, 880.0, 1185.0, 1386.0, 1600.0, 2800.0, 5000.0, 1240.0, 1295.0, 1800.0, 2667.0, 2360.0, 4000.0, 5000.0, 4500.0, 2250.0, 2500.0, 2942.0, 5390.0, 8127.0, 2008.0, 2000.0, 3500.0, 1656.0, 4000.0, 2000.0, 5170.0, 1958.0, 3720.0, 2517.0, 3000.0, 2019.0, 4000.0, 11322.0, 7860.0, 4120.0, 3800.0, 4275.0, 5000.0, 2835.0, 2516.0, 1980.0, 2886.0, 8400.0, 1566.0, 2060.0, 1087.0, 2003.0, 1440.0, 1658.0, 2375.0, 2000.0, 2000.0, 4000.0, 1692.0, 3238.0, 2004.0, 2000.0, 2000.0, 3500.0, 2541.0, 0.0, 5000.0, 4000.0, 5000.0, 1967.0, 2400.0, 4300.0, 4000.0, 2542.0, 3000.0, 2000.0, 3100.0, 2400.0, 4750.0, 1710.0, 9975.0, 2300.0, 4040.0, 2925.0, 4500.0, 2760.0, 8640.0, 2595.0, 1251.0, 2500.0, 2520.0, 2746.0, 2024.0, 2500.0, 2500.0, 864.0, 2000.0, 1950.0, 2000.0, 1800.0, 2000.0, 4000.0, 4000.0, 4378.0, 4000.0, 4500.0, 4500.0, 6850.0, 5000.0, 7436.0, 4000.0, 2000.0, 4000.0, 6000.0, 6000.0, 3800.0, 5250.0, 2052.0, 5000.0, 1470.0, 1900.0, 3071.0, 2270.0, 5425.0, 1600.0, 1767.0, 8450.0, 1293.0, 2516.0, 2708.0, 2916.0, 1802.0, 1890.0, 2100.0, 2233.0, 2260.0, 2500.0, 3000.0, 3400.0, 2500.0, 5005.0, 4000.0, 4000.0, 4000.0, 2000.0, 2200.0, 6500.0, 2775.0, 2000.0, 1235.0, 2000.0, 2300.0, 2820.0, 2338.0, 2575.0, 2000.0, 3200.0, 3000.0, 4298.0, 560.0, 1360.0, 1060.0, 2538.0, 4000.0, 2500.0, 5000.0, 946.0, 1698.0, 3990.0, 1760.0, 3012.0, 4400.0, 2231.0, 4485.0, 2725.0, 1918.0, 2025.0, 1900.0, 2360.0, 1890.0, 2725.0, 2000.0, 2500.0, 1800.0, 3750.0, 4350.0, 1817.0, 1600.0, 1800.0, 2350.0, 4100.0, 2000.0, 2020.0, 2000.0, 1380.0, 1700.0, 5000.0, 2700.0, 4000.0, 2500.0, 1800.0, 3338.0, 7000.0, 4000.0, 6000.0, 4000.0, 2000.0, 3692.0, 2046.0, 2800.0, 2500.0, 4000.0, 2500.0, 4000.0, 1900.0, 2000.0, 2520.0, 2755.0, 4000.0, 2000.0, 1742.0, 2500.0, 1806.0, 1890.0, 3230.0, 2575.0, 2000.0, 1170.0, 2800.0, 2300.0, 3000.0, 2121.0, 6900.0, 2400.0, 2450.0, 4361.0, 6000.0, 3910.0], \"xaxis\": \"x\", \"y\": [550000, 200000, 810000, 125000, 620000, 1150000, 836500, 955000, 820000, 980000, 430000, 700000, 448000, 670000, 1390000, 540000, 520000, 480000, 570000, 552000, 505000, 357500, 670000, 549000, 970000, 800000, 450000, 330000, 575000, 450000, 743000, 445000, 255000, 750000, 985000, 958000, 1440000, 200000, 930000, 990000, 810000, 670000, 1030000, 900000, 940000, 445000, 710000, 998000, 950000, 470000, 480000, 757504, 350000, 717359, 926608, 585500, 493000, 615000, 646589, 470000, 510000, 1705000, 643750, 465000, 320000, 730000, 300000, 494000, 670000, 525000, 640000, 870000, 780000, 350000, 1490000, 555000, 550000, 685000, 825000, 435000, 810000, 224094, 512275, 520000, 494500, 450000, 460000, 1290000, 890000, 530000, 445000, 452465, 560000, 440000, 625000, 588005, 420000, 416000, 570000, 335000, 108000, 1575000, 350000, 795000, 1100000, 670000, 760000, 645000, 650000, 492000, 590000, 830000, 330000, 590000, 646000, 446000, 550000, 640000, 445000, 646589, 639461, 520000, 125000, 349500, 700000, 355000, 355000, 200000, 499000, 265000, 300000, 980000, 1100000, 750000, 1163359, 710000, 915000, 350000, 1250000, 840000, 605000, 350000, 915000, 999999, 425000, 414987, 208000, 408000, 220000, 1872562, 830000, 410000, 395000, 555000, 443800, 743323, 539900, 763688, 889000, 572500, 632000, 465000, 340000, 400000, 395000, 470000, 510000, 821000, 529000, 650000, 859000, 790000, 1700000, 980000, 385000, 580000, 880888, 859000, 1153000, 788000, 990000, 825000, 515000, 840000, 600000, 1710660, 520000, 660000, 479000, 520000, 490000, 500000, 240000, 550000, 1218300, 500000, 540000, 500000, 580000, 515000, 100000, 1530000, 460000, 1750000, 380250, 990000, 405600, 820000, 210000, 499500, 415000, 300000, 850000, 885000, 1400000, 500000, 255000, 624000, 601000, 575000, 370000, 534560, 620000, 335000, 269500, 641000, 619000, 413950, 545000, 350000, 880000, 540000, 471500, 673330, 566368, 120000, 565000, 510569, 125000, 790000, 415000, 740000, 550000, 365000, 570000, 700000, 490000, 660000, 525000, 508402, 305000, 1400000, 430000, 357000, 450000, 1250000, 560000, 130000, 225000, 305000, 910000, 905000, 985000, 958000, 700000, 830000, 536000, 680000, 660000, 640000, 1280000, 630000, 529000, 390000, 425000, 680000, 850000, 531000, 250000, 539000, 775000, 599900, 475000, 475000, 600768, 749000, 781000, 675000, 599000, 499000, 490000, 630000, 460000, 490000, 780000, 1850000, 250000, 294000, 1500000, 965000, 487000, 100000, 380000, 650000, 730000, 112000, 499999, 680000, 342000, 742000, 515000, 450000, 100000, 100000, 790000, 740000, 875000, 735000, 560000, 599000, 390000, 508500, 860000, 590585, 457500, 320000, 510000, 390000, 328600, 440000, 820000, 912500, 465000, 650000, 439000, 210000, 950000, 1685000, 599000, 405235, 970000, 1465000, 455000, 605394, 640000, 790000, 770000, 950000, 420000, 570000, 900000, 489600, 773000, 420000, 361000, 198000, 278000, 450000, 430000, 503000, 527500, 366877, 385000, 346029, 373692, 988000, 495000, 450000, 485000, 230000, 444000, 350000, 311912, 559144, 550000, 695000, 575000, 589000, 475000, 250000, 1440000, 570000, 458800, 560000, 590000, 456300, 223000, 575000, 820000, 381550, 1025000, 699000, 1100000, 505000, 575000, 500000, 250000, 400000, 625000, 650000, 850000, 925000, 445000, 1295000, 700000, 763000, 615000, 114000, 630000, 665000, 515000, 517000, 850000, 600000, 700000, 597000, 352746, 900000, 875000, 570000, 455000, 499999, 375180, 410000, 515000, 780000, 1240000, 515000, 1200000, 385000, 818000, 1415000, 1165000, 1050000, 1600000, 1260000, 865000, 748000, 635000, 1675000, 985000, 885000, 790000, 679000, 280000, 800000, 670000, 641000, 450000, 390000, 485000, 463000, 467000, 446000, 610000, 579000, 490000, 451000, 770000, 990000, 440000, 360000, 600000, 607000, 585494, 533000, 860000, 415000, 685000, 580000, 1450000, 285075, 525000, 1120075, 360000, 265000, 245000, 475000, 512000, 510000, 334650, 990000, 900000, 335000, 1900000, 560000, 595000, 600000, 848000, 1250000, 800000, 1500000, 658000, 1578288, 1075000, 990000, 105000, 560038, 829000, 485000, 638000, 230000, 740000, 995000, 554500, 603500, 550000, 460000, 459500, 204800, 253000, 362900, 479000, 396000, 350000, 335000, 610000, 480000, 499000, 582500, 620000, 485000, 630000, 590000, 697000, 555000, 500000, 600000, 950000, 340000, 150000, 423000, 499000, 658820, 530000, 1150000, 1573500, 500000, 486000, 550000, 380000, 644000, 730000, 851000, 730000, 475000, 732000, 835000, 200000, 990000, 925000, 990000, 1200000, 560000, 525000, 489000, 160000, 380000, 385000, 740000, 1090000, 498000, 498900, 490000, 555000, 590000, 469900, 620000, 565000, 405000, 425000, 307000, 450000, 243360, 445000, 795000, 450000, 655498, 529791, 795000, 988000, 729000, 400000, 830000, 675000, 890000, 850000, 515000, 899888, 700000, 277000, 760000, 630000, 770000, 825000, 600000, 1015000, 715000, 371000, 365040, 500000, 975000, 781000, 396000, 275000, 400530, 580000, 112000, 1125000, 470000, 575210, 800000, 772500, 963538, 477000, 415000, 420810, 360500, 369000, 365000, 241000, 555000, 465000, 540750, 740000, 332000, 499000, 301665, 1500000, 683000, 560000, 499000, 1775000, 450000, 211650, 715000, 780000, 905000, 555000, 820000, 715000, 628900, 838000, 795000, 560000, 435000, 610000, 618000, 960000, 555000, 532000, 670000, 375000, 450000, 100000, 342000, 435000, 245500, 720000, 520000, 515000, 555000, 399888, 370023, 850000, 540000, 210000, 449000, 430000, 334620, 265000, 248132, 373600, 362000, 415000, 453124, 620000, 550000, 300000, 835000, 550000, 614000, 568600, 1060000, 479000, 181875, 490000, 991670, 1425000, 1570000, 800000, 777000, 690000, 800000, 650000, 660000, 950000, 747000, 785000, 700000, 712000, 710000, 730000, 990000, 1031285, 1120413, 515000, 485000, 565000, 545000, 400000, 325000, 440000, 495000, 656000, 590000, 250000, 475000, 760000, 500000, 410000, 492000, 525000, 485000, 240000, 745000, 247850, 445000, 384500, 822500, 375000, 525000, 760000, 450000, 540000, 980000, 1150000, 760000, 999000, 799000, 600000, 425000, 832500, 515000, 720000, 655000, 640000, 990000, 740000, 450000, 590000, 965000, 668900, 1180000, 390000, 255000, 499931, 705094, 266667, 539000, 568000, 475000, 525000, 248000, 678000, 385000, 450000, 755000, 440000, 430000, 1050000, 1452500, 573000, 575000, 440000, 425000, 575000, 670000, 500000, 230000, 688888, 835000, 740000, 290000, 535000, 340000, 175000, 639000, 845000, 700000, 740000, 915000, 1600000, 1050000, 630000, 640000, 730000, 525000, 1870000, 500000, 609000, 220000, 415000, 499999, 650000, 529000, 940000, 1552831, 1200000, 282000, 550000, 860000, 495000, 595676, 800000, 572000, 445000, 499000, 400000, 450000, 230000, 438000, 480000, 150000, 298100, 1100000, 175000, 530000, 500000, 650000, 615000, 935000, 830000, 550000, 640000, 610000, 836000, 784053, 915000, 750000, 685000, 300000, 640000, 785000, 518500, 490000, 228000, 600000, 470000, 630000, 540000, 622000, 360000, 322500, 480000, 645000, 755000, 489000, 470000, 620000, 623169, 705000, 420000, 719000, 350000, 575311, 174300, 544000, 618000, 450000, 480000, 145000, 430000, 565000, 475000, 406282, 327500, 560000, 565000, 325000, 160000, 515000, 920000, 335000, 158600, 600000, 985000, 470000, 522500, 1275000, 727000, 664000, 1085000, 610000, 520000, 699000, 825000, 950000, 382621, 512000, 436800, 770000, 550000, 679189, 915000, 769000, 200000, 547000, 224000, 610000, 650000, 625000, 450000, 1500000, 1080000, 607856, 1390000, 740000, 469625, 540000, 450000, 400000, 547500, 495000, 365000, 495000, 359970, 470000, 590000, 235000, 536500, 362500, 218000, 455000, 545000, 499800, 620000, 830000, 442900, 390000, 650000, 235000, 625000, 672000, 590000, 645000, 585000, 465000, 390000, 350000, 485000, 435000, 500000, 320000, 390000, 430000, 578000, 870000, 668500, 1330000, 345000, 415000, 394272, 850000, 366211, 720000, 900000, 425000, 775000, 327631, 660000, 675000, 720000, 530000, 380000, 850000, 775000, 580000, 475000, 340000, 435000, 428480, 815000, 605000, 465545, 468000, 279000, 590000, 618500, 521500, 435000, 480000, 790000, 575000, 459000, 475000, 485000, 460000, 428665, 500000, 1955000, 591000, 610000, 708000, 950000, 605000, 669000, 950000, 475000, 1500000, 745000, 855000, 340000, 795000, 380000, 465000, 410000, 587400, 600000, 655000, 350000, 375000, 380000, 245000, 608400, 231500, 1202000, 1925000, 1550000, 500000, 1400000, 659500, 833000, 750000, 860000, 525000, 825000, 800000, 720000, 575000, 656766, 650000, 720000, 530000, 470000, 370000, 495000, 227302, 490000, 336000, 626224, 620000, 250000, 634000, 600000, 600000, 345163, 510000, 445000, 700000, 700000, 1850000, 810000, 508605, 1175000, 499371, 615000, 1235000, 1200000, 457920, 505000, 443000, 302000, 1117500, 800000, 273600, 1100000, 496460, 141088, 529000, 470000, 1075000, 1950000, 690000, 1165000, 515510, 425000, 740000, 1075000, 990000, 850000, 519000, 620000, 330000, 810000, 780000, 500000, 130000, 555000, 365625, 380000, 463500, 280000, 695000, 499412, 651680, 700000, 400000, 307668, 590585, 569000, 570000, 229430, 550000, 383593, 825000, 524804, 430000, 518340, 590000, 380250, 464000, 1630000, 1630000, 1100000, 535000, 605000, 1400000, 855000, 760000, 562500, 2000000, 667800, 1235000, 932500, 790000, 572000, 315000, 440000, 680000, 970000, 650000, 1460000, 715000, 800000, 500000, 1125000, 269302, 934350, 310000, 650000, 868000, 420000, 535000, 250000, 510000, 880000, 788000, 480000, 880000, 145000, 740000, 590000, 536750, 234234, 555000, 490000, 545000, 250000, 500000, 999500, 501930, 1445000, 863000, 600000, 920000, 870000, 1700000, 670000, 275000, 481000, 560000, 425000, 540000, 580000, 295000, 416000, 404250, 499000, 570000, 948578, 400000, 525000, 520000, 650000, 500000, 990000, 447000, 445000, 850000, 690000, 738231, 350000, 500000, 900000, 1200000, 253950, 427523, 274092, 780000, 650000, 995000, 519000, 810000, 671000, 849000, 865000, 499999, 1099200, 1625000, 900000, 525000, 450000, 180500, 1225000, 395000, 194000, 520000, 423000, 411684, 550000, 200000, 560038, 595000, 540000, 326000, 560000, 360000, 524349, 575000, 579000, 420000, 371848, 182500, 600000, 540000, 830000, 1325000, 890000, 1090000, 515000, 655000, 1150000, 975000, 812000, 779000, 530000, 815000, 380000, 420000, 175000, 424000, 582000, 865000, 1440000, 508000, 610950, 850000, 550000, 438000, 240000, 595000, 485000, 540000, 500000, 490000, 624000, 556000, 714800, 680000, 444000, 650000, 500000, 499000, 690000, 1655000, 1125000, 430000, 1215000, 645000, 629000, 885000, 600000, 630000, 994000, 266000, 630000, 880000, 440000, 175000, 520000, 531250, 768328, 620000, 635000, 216500, 400000, 575000, 363000, 554946, 596695, 457314, 592000, 550000, 369770, 515000, 479000, 589000, 890000, 575000, 240000, 495000, 440000, 499000, 645000, 910000, 1289120, 635000, 360000, 617000, 775000, 880000, 1420000, 695000, 157277, 750000, 970000, 480000, 500000, 900000, 620000, 777000, 563000, 650000, 487500, 377500, 560000, 224000, 237500, 450000, 362900, 465000, 361998, 480000, 560000, 625000, 490000, 900000, 760000, 463900, 399000, 340000, 485000, 770000, 750000, 249000, 150000, 940000, 414400, 605000, 495000, 401000, 578000, 650000, 429000, 360000, 474000, 930000, 690000, 390000, 1325000, 390000, 632000, 530000, 1095000, 930000, 725000, 730000, 525000, 545000, 490000, 890000, 290000, 845000, 476768, 345000, 160000, 528000, 526500, 470000, 520000, 499000, 610000, 640000, 450000, 743323, 275000, 600000, 630297, 1400000, 912500, 915000, 549000, 400000, 830000, 700000, 679000, 1290000, 1614600, 899000, 550000, 180000, 403000, 930000, 550000, 350000, 525000, 640000, 480000, 410000, 615000, 485000, 525000, 263133, 400000, 468400, 721939, 352500, 710000, 360000, 465000, 840000, 402600, 552910, 625000, 610000, 505000, 303000, 330000, 720000, 488000, 953000, 980000, 679000, 580000, 440000, 815000, 640000, 175000, 520000, 865000, 525000, 720000, 700000, 679000, 485000, 465000, 444000, 525000, 547000, 425000, 625000, 180000, 365000, 318000, 306000, 635045, 651680, 689100, 496888, 295000, 497000, 475000, 310000, 440000, 500000, 568960, 216489, 380000, 460000, 579000, 699000, 440000, 570000, 840000, 630000, 251155, 1130000, 825000, 872000, 1070000, 870000, 352500, 390000, 958317, 725000, 860000, 785000, 673000, 300000, 340000, 835000, 925000, 593000, 182000, 1340000, 515000, 400000, 505000, 635000, 252000, 320000, 525000, 675000, 404000, 695000, 607000, 275000, 515000, 850000, 697501, 550000, 614000, 409500, 360000, 276822, 385000, 336000, 762669, 390000, 410000, 600000, 617000, 630000, 210000, 612000, 605000, 398000, 1142500, 648000, 889000, 1150000, 900000, 820000, 1325000, 525000, 760000, 907000, 1048800, 585000, 600000, 565000, 606279, 565000, 657906, 175000, 300000, 525000, 540000, 499000, 499990, 721939, 536000, 1036000, 410000, 539000, 495000, 490000, 355000, 431000, 478000, 485000, 189270, 565000, 439931, 416981, 610000, 700000, 900000, 890000, 878000, 1158000, 693000, 940000, 933800, 620000, 725000, 545000, 160000, 888000, 720000, 940000, 883000, 570000, 510000, 301000, 450000, 260000, 939000, 480000, 647000, 595000, 350000, 113348, 610000, 563000, 273780, 470000, 780000, 1358500, 585000, 680000, 920000, 999000, 550000, 660000, 725000, 532000, 600000, 900000, 668000, 218000, 585000, 800000, 730000, 750000, 685000, 708400, 862000, 710000, 605000, 610000, 550000, 1250000, 950000, 562500, 525000, 430000, 537500, 523000, 480000, 552000, 919000, 1120075, 300000, 605000, 485000, 445000, 549000, 625000, 970000, 560000, 520000, 990000, 880000, 136000, 1210000, 280000, 620000, 610000, 336000, 550000, 1620000, 831000, 235000, 1140000, 999000, 800000, 346500, 1140000, 700000, 967000, 620000, 375000, 375000, 1020000, 920000, 475000, 705000, 510000, 350000, 335000, 500000, 800000, 639000, 220000, 325000, 800000, 201000, 460000, 419900, 535000, 225000, 400000, 400000, 900000, 100000, 464000, 510000, 299000, 460000, 870000, 380000, 520000, 584284, 515000, 555000, 571000, 580000, 687000, 436600, 333600, 410000, 540000, 660000, 1125000, 585000, 309000, 145000, 567000, 635000, 989000, 499500, 851000, 800000, 1450000, 600000, 575000, 668000, 350000, 400000, 550000, 319600, 1150000, 800000, 600000, 240000, 465000, 400000, 585000, 515000, 560038, 475000, 550000, 499000, 500000, 285000, 500000, 1270000, 415000, 666588, 770000, 645000, 640000, 400000, 525000, 1125000, 599000, 595000, 445000, 994517, 530000, 564796, 895000, 460000, 525000, 160673, 560000, 570000, 560000, 480000, 460000, 515000, 984000, 510000, 509600, 1220000, 1150000, 100000, 600000, 750000, 1700000, 860500, 459000, 560000, 540000, 510365, 590000, 494000, 200000, 560000, 470000, 500000, 585000, 451230, 490000, 270000, 329000, 739000, 324480, 350000, 320000, 353379, 645000, 600000, 425880, 800000, 930000, 875000, 715000, 875000, 740000, 485000, 710000, 499750, 1850000, 493000, 995000, 610000, 1425000, 615000, 733140, 672045, 670000, 355000, 422000, 150000, 467500, 495000, 580000, 912000, 500000, 210000, 595000, 1400000, 1668500, 600000, 700000, 730000, 414000, 1310000, 950000, 580000, 900000, 990000, 570000, 410000, 485000, 376000, 376000, 600000, 480000, 820000, 715000, 452998, 544719, 535000, 800000, 465000, 683000, 420000, 351000, 470000, 599000, 115000, 930000, 800000, 612000, 468468, 440000, 152000, 760000, 1084000, 450000, 500599, 750000, 985000, 845000, 890000, 510000, 471000, 510000, 275000, 545000, 715500, 795000, 385000, 400000, 899000, 900000, 400000, 595000, 215000, 450000, 380000, 609000, 410000, 250000, 800000, 473500, 535000, 692240, 495000, 870604, 650000, 250000, 450000, 485000, 638600, 630000, 250000, 450000, 250000, 1385000, 305000, 700000, 575000, 520000, 602000, 314500, 1122000, 750000, 650000, 500000, 791000, 905000, 928000, 600000, 595000, 250000, 390000, 321000, 700000, 375000, 392000, 938486, 270000, 306228, 650000, 444132, 440000, 499999, 490000, 270480, 325000, 475000, 168000, 500585, 740000, 430000, 575000, 580000, 350000, 635000, 877500, 495000, 510000, 560000, 585000, 565000, 635000, 850000, 1400000, 1100000, 455000, 975000, 586000, 330000, 835000, 820000, 725000, 1465000, 835000, 829000, 465000, 538000, 396000, 500000, 1600000, 585000, 500000, 268000, 270000, 440000, 540000, 375000, 665000, 505000, 480000, 621133, 280980, 197000, 532000, 418000, 330000, 500000, 450000, 435000, 525000, 250000, 575000, 2000000, 700000, 650000, 605000, 700000, 865000, 665000, 500000, 995000, 362000, 375000, 360000, 525000, 470000, 370000, 560000, 125000, 667000, 635000, 495000, 489000, 350000, 490000, 222500, 393000, 495000, 150000, 805000, 525000, 799000, 620000, 1265000, 640000, 1175000, 365000, 455000, 1060000, 731300, 905000, 810000, 200000, 639000, 825000, 375000, 380250, 520000, 595000, 314820, 325500, 1650000, 1850000, 646588, 420000, 405600, 280000, 600000, 630000, 499990, 445000, 763688, 225000, 550000, 570000, 990000, 735000, 860000, 370800, 728000, 1200000, 610000, 432000, 1357000, 630000, 997000, 1070000, 701083, 900000, 650000, 690000, 740000, 369900, 460000, 600000, 365000, 936000, 795000, 565000, 430000, 333000, 465000, 580000, 361000, 475000, 515000, 435000, 360000, 610000, 580000, 284000, 555000, 525000, 560038, 480000, 520000, 1500000, 804718, 550000, 550000, 480000, 905000, 840000, 550000, 470000, 1695000, 995000, 300000, 755000, 675000, 395000, 382500, 468000, 450000, 605000, 750000, 450000, 280000, 575000, 281250, 720000, 738231, 510000, 610949, 344760, 540000, 395000, 290000, 295000, 950000, 550000, 275000, 320000, 1640000, 743561, 582000, 748000, 990000, 615000, 700000, 948500, 855000, 1050000, 525000, 821750, 625000, 469000, 525000, 1320000, 465000, 437750, 445000, 390000, 552000, 850000, 412000, 480000, 465000, 441000, 700000, 460000, 860421, 465500, 804416, 110000, 580000, 400000, 799000, 550000, 1049000, 1210950, 901000, 1200000, 580000, 280000, 950000, 625000, 430000, 270000, 285000, 639900, 250750, 770000, 560000, 610000, 692410, 265000, 545000, 615000, 750000, 679000, 275000, 197600, 400000, 595000, 232000, 750000, 928000, 1290000, 339690, 348156, 735000, 800000, 659000, 477387, 386000, 610000, 810000, 490000, 524700, 387000, 349700, 435000, 650000, 1100000, 905000, 560000, 377500, 224829, 531000, 155500, 328410, 499990, 433000, 210000, 825000, 541000, 213600, 450000, 319100, 602000, 575000, 710000, 590000, 880000, 989000, 730000, 910000, 830000, 999999, 850000, 640000, 370000, 457821, 650000, 280000, 586000, 498000, 525000, 550000, 910000, 885000, 490000, 540000, 451230, 525000, 475000, 100000, 361722, 720000, 568750, 542000, 806000, 330000, 550000, 395000, 490000, 457000, 350000, 655000, 690000, 1128508, 615000, 133500, 1450000, 800000, 500000, 905000, 935000, 900000, 800000, 780000, 818000, 950000, 470000, 450000, 306135, 580000, 465593, 251000, 265000, 530000, 490000, 657558, 557000, 510000, 380000, 1358000, 815000, 530000, 675000, 627000, 380000, 252400, 530000, 550000, 425000, 1562000, 400000, 300000, 640000, 857000, 530000, 555000, 510000, 675343, 820000, 1350000, 1150000, 1400000, 999000, 531260, 1491000, 640000, 715000, 300000, 905000, 880000, 788000, 805000, 226667, 1180000, 596900, 420000, 670000, 565000, 361092, 615000, 830000, 400000, 700000, 550000, 685000, 400000, 775000, 415000, 750000, 465000, 324480, 356310, 632500, 560000, 335000, 410000, 420000, 390000, 856900, 485000, 390500, 590000, 665000, 550000, 490000, 725000, 589000, 940000, 650000, 600000, 815000, 1168000, 500000, 473800, 400000, 700000, 680000, 462500, 450000, 535000, 455000, 228150, 272000, 180000, 340000, 285000, 350000, 525000, 1525000, 460000, 355000, 1150000, 890000, 310000, 645000, 925000, 850000, 1525000, 750000, 630000, 949000, 895000, 855000, 660000, 615000, 950000, 435000, 795000, 1650000, 280000, 999600, 460000, 418000, 490000, 401544, 465000, 702000, 380000, 620000, 835000, 1485000, 335000, 300000, 440000, 545000, 662000, 522000, 579000, 413000, 516000, 804124, 390390, 661863, 1170988, 461370, 520000, 300000, 404250, 400000, 510000, 326864, 460000, 282755, 1500000, 1375000, 474226, 680000, 620000, 250000, 880000, 677500, 715000, 1400000, 570000, 1100000, 1100000, 1675000, 1475000, 992500, 788000, 540000, 350000, 750000, 880000, 1150000, 690000, 700000, 710000, 760000, 1876000, 675000, 463146, 354500, 240000, 585000, 395000, 425000, 540000, 417000, 444558, 267000, 412600, 537500, 541709, 1053000, 760000, 540000, 570000, 130000, 465000, 535000, 520000, 515000, 475000, 500000, 330000, 690000, 610949, 520000, 104000], \"yaxis\": \"y\"}],\n",
              "                        {\"height\": 600, \"legend\": {\"tracegroupgap\": 0}, \"margin\": {\"t\": 60}, \"template\": {\"data\": {\"bar\": [{\"error_x\": {\"color\": \"#2a3f5f\"}, \"error_y\": {\"color\": \"#2a3f5f\"}, \"marker\": {\"line\": {\"color\": \"#E5ECF6\", \"width\": 0.5}}, \"type\": \"bar\"}], \"barpolar\": [{\"marker\": {\"line\": {\"color\": \"#E5ECF6\", \"width\": 0.5}}, \"type\": \"barpolar\"}], \"carpet\": [{\"aaxis\": {\"endlinecolor\": \"#2a3f5f\", \"gridcolor\": \"white\", \"linecolor\": \"white\", \"minorgridcolor\": \"white\", \"startlinecolor\": \"#2a3f5f\"}, \"baxis\": {\"endlinecolor\": \"#2a3f5f\", \"gridcolor\": \"white\", \"linecolor\": \"white\", \"minorgridcolor\": \"white\", \"startlinecolor\": \"#2a3f5f\"}, \"type\": \"carpet\"}], \"choropleth\": [{\"colorbar\": {\"outlinewidth\": 0, \"ticks\": \"\"}, \"type\": \"choropleth\"}], \"contour\": [{\"colorbar\": {\"outlinewidth\": 0, \"ticks\": \"\"}, \"colorscale\": [[0.0, \"#0d0887\"], [0.1111111111111111, \"#46039f\"], [0.2222222222222222, \"#7201a8\"], [0.3333333333333333, \"#9c179e\"], [0.4444444444444444, \"#bd3786\"], [0.5555555555555556, \"#d8576b\"], [0.6666666666666666, \"#ed7953\"], [0.7777777777777778, \"#fb9f3a\"], [0.8888888888888888, \"#fdca26\"], [1.0, \"#f0f921\"]], \"type\": \"contour\"}], \"contourcarpet\": [{\"colorbar\": {\"outlinewidth\": 0, \"ticks\": \"\"}, \"type\": \"contourcarpet\"}], \"heatmap\": [{\"colorbar\": {\"outlinewidth\": 0, \"ticks\": \"\"}, \"colorscale\": [[0.0, \"#0d0887\"], [0.1111111111111111, \"#46039f\"], [0.2222222222222222, \"#7201a8\"], [0.3333333333333333, \"#9c179e\"], [0.4444444444444444, \"#bd3786\"], [0.5555555555555556, \"#d8576b\"], [0.6666666666666666, \"#ed7953\"], [0.7777777777777778, \"#fb9f3a\"], [0.8888888888888888, \"#fdca26\"], [1.0, \"#f0f921\"]], \"type\": \"heatmap\"}], \"heatmapgl\": [{\"colorbar\": {\"outlinewidth\": 0, \"ticks\": \"\"}, \"colorscale\": [[0.0, \"#0d0887\"], [0.1111111111111111, \"#46039f\"], [0.2222222222222222, \"#7201a8\"], [0.3333333333333333, \"#9c179e\"], [0.4444444444444444, \"#bd3786\"], [0.5555555555555556, \"#d8576b\"], [0.6666666666666666, \"#ed7953\"], [0.7777777777777778, \"#fb9f3a\"], [0.8888888888888888, \"#fdca26\"], [1.0, \"#f0f921\"]], \"type\": \"heatmapgl\"}], \"histogram\": [{\"marker\": {\"colorbar\": {\"outlinewidth\": 0, \"ticks\": \"\"}}, \"type\": \"histogram\"}], \"histogram2d\": [{\"colorbar\": {\"outlinewidth\": 0, \"ticks\": \"\"}, \"colorscale\": [[0.0, \"#0d0887\"], [0.1111111111111111, \"#46039f\"], [0.2222222222222222, \"#7201a8\"], [0.3333333333333333, \"#9c179e\"], [0.4444444444444444, \"#bd3786\"], [0.5555555555555556, \"#d8576b\"], [0.6666666666666666, \"#ed7953\"], [0.7777777777777778, \"#fb9f3a\"], [0.8888888888888888, \"#fdca26\"], [1.0, \"#f0f921\"]], \"type\": \"histogram2d\"}], \"histogram2dcontour\": [{\"colorbar\": {\"outlinewidth\": 0, \"ticks\": \"\"}, \"colorscale\": [[0.0, \"#0d0887\"], [0.1111111111111111, \"#46039f\"], [0.2222222222222222, \"#7201a8\"], [0.3333333333333333, \"#9c179e\"], [0.4444444444444444, \"#bd3786\"], [0.5555555555555556, \"#d8576b\"], [0.6666666666666666, \"#ed7953\"], [0.7777777777777778, \"#fb9f3a\"], [0.8888888888888888, \"#fdca26\"], [1.0, \"#f0f921\"]], \"type\": \"histogram2dcontour\"}], \"mesh3d\": [{\"colorbar\": {\"outlinewidth\": 0, \"ticks\": \"\"}, \"type\": \"mesh3d\"}], \"parcoords\": [{\"line\": {\"colorbar\": {\"outlinewidth\": 0, \"ticks\": \"\"}}, \"type\": \"parcoords\"}], \"scatter\": [{\"marker\": {\"colorbar\": {\"outlinewidth\": 0, \"ticks\": \"\"}}, \"type\": \"scatter\"}], \"scatter3d\": [{\"line\": {\"colorbar\": {\"outlinewidth\": 0, \"ticks\": \"\"}}, \"marker\": {\"colorbar\": {\"outlinewidth\": 0, \"ticks\": \"\"}}, \"type\": \"scatter3d\"}], \"scattercarpet\": [{\"marker\": {\"colorbar\": {\"outlinewidth\": 0, \"ticks\": \"\"}}, \"type\": \"scattercarpet\"}], \"scattergeo\": [{\"marker\": {\"colorbar\": {\"outlinewidth\": 0, \"ticks\": \"\"}}, \"type\": \"scattergeo\"}], \"scattergl\": [{\"marker\": {\"colorbar\": {\"outlinewidth\": 0, \"ticks\": \"\"}}, \"type\": \"scattergl\"}], \"scattermapbox\": [{\"marker\": {\"colorbar\": {\"outlinewidth\": 0, \"ticks\": \"\"}}, \"type\": \"scattermapbox\"}], \"scatterpolar\": [{\"marker\": {\"colorbar\": {\"outlinewidth\": 0, \"ticks\": \"\"}}, \"type\": \"scatterpolar\"}], \"scatterpolargl\": [{\"marker\": {\"colorbar\": {\"outlinewidth\": 0, \"ticks\": \"\"}}, \"type\": \"scatterpolargl\"}], \"scatterternary\": [{\"marker\": {\"colorbar\": {\"outlinewidth\": 0, \"ticks\": \"\"}}, \"type\": \"scatterternary\"}], \"surface\": [{\"colorbar\": {\"outlinewidth\": 0, \"ticks\": \"\"}, \"colorscale\": [[0.0, \"#0d0887\"], [0.1111111111111111, \"#46039f\"], [0.2222222222222222, \"#7201a8\"], [0.3333333333333333, \"#9c179e\"], [0.4444444444444444, \"#bd3786\"], [0.5555555555555556, \"#d8576b\"], [0.6666666666666666, \"#ed7953\"], [0.7777777777777778, \"#fb9f3a\"], [0.8888888888888888, \"#fdca26\"], [1.0, \"#f0f921\"]], \"type\": \"surface\"}], \"table\": [{\"cells\": {\"fill\": {\"color\": \"#EBF0F8\"}, \"line\": {\"color\": \"white\"}}, \"header\": {\"fill\": {\"color\": \"#C8D4E3\"}, \"line\": {\"color\": \"white\"}}, \"type\": \"table\"}]}, \"layout\": {\"annotationdefaults\": {\"arrowcolor\": \"#2a3f5f\", \"arrowhead\": 0, \"arrowwidth\": 1}, \"colorscale\": {\"diverging\": [[0, \"#8e0152\"], [0.1, \"#c51b7d\"], [0.2, \"#de77ae\"], [0.3, \"#f1b6da\"], [0.4, \"#fde0ef\"], [0.5, \"#f7f7f7\"], [0.6, \"#e6f5d0\"], [0.7, \"#b8e186\"], [0.8, \"#7fbc41\"], [0.9, \"#4d9221\"], [1, \"#276419\"]], \"sequential\": [[0.0, \"#0d0887\"], [0.1111111111111111, \"#46039f\"], [0.2222222222222222, \"#7201a8\"], [0.3333333333333333, \"#9c179e\"], [0.4444444444444444, \"#bd3786\"], [0.5555555555555556, \"#d8576b\"], [0.6666666666666666, \"#ed7953\"], [0.7777777777777778, \"#fb9f3a\"], [0.8888888888888888, \"#fdca26\"], [1.0, \"#f0f921\"]], \"sequentialminus\": [[0.0, \"#0d0887\"], [0.1111111111111111, \"#46039f\"], [0.2222222222222222, \"#7201a8\"], [0.3333333333333333, \"#9c179e\"], [0.4444444444444444, \"#bd3786\"], [0.5555555555555556, \"#d8576b\"], [0.6666666666666666, \"#ed7953\"], [0.7777777777777778, \"#fb9f3a\"], [0.8888888888888888, \"#fdca26\"], [1.0, \"#f0f921\"]]}, \"colorway\": [\"#636efa\", \"#EF553B\", \"#00cc96\", \"#ab63fa\", \"#FFA15A\", \"#19d3f3\", \"#FF6692\", \"#B6E880\", \"#FF97FF\", \"#FECB52\"], \"font\": {\"color\": \"#2a3f5f\"}, \"geo\": {\"bgcolor\": \"white\", \"lakecolor\": \"white\", \"landcolor\": \"#E5ECF6\", \"showlakes\": true, \"showland\": true, \"subunitcolor\": \"white\"}, \"hoverlabel\": {\"align\": \"left\"}, \"hovermode\": \"closest\", \"mapbox\": {\"style\": \"light\"}, \"paper_bgcolor\": \"white\", \"plot_bgcolor\": \"#E5ECF6\", \"polar\": {\"angularaxis\": {\"gridcolor\": \"white\", \"linecolor\": \"white\", \"ticks\": \"\"}, \"bgcolor\": \"#E5ECF6\", \"radialaxis\": {\"gridcolor\": \"white\", \"linecolor\": \"white\", \"ticks\": \"\"}}, \"scene\": {\"xaxis\": {\"backgroundcolor\": \"#E5ECF6\", \"gridcolor\": \"white\", \"gridwidth\": 2, \"linecolor\": \"white\", \"showbackground\": true, \"ticks\": \"\", \"zerolinecolor\": \"white\"}, \"yaxis\": {\"backgroundcolor\": \"#E5ECF6\", \"gridcolor\": \"white\", \"gridwidth\": 2, \"linecolor\": \"white\", \"showbackground\": true, \"ticks\": \"\", \"zerolinecolor\": \"white\"}, \"zaxis\": {\"backgroundcolor\": \"#E5ECF6\", \"gridcolor\": \"white\", \"gridwidth\": 2, \"linecolor\": \"white\", \"showbackground\": true, \"ticks\": \"\", \"zerolinecolor\": \"white\"}}, \"shapedefaults\": {\"line\": {\"color\": \"#2a3f5f\"}}, \"ternary\": {\"aaxis\": {\"gridcolor\": \"white\", \"linecolor\": \"white\", \"ticks\": \"\"}, \"baxis\": {\"gridcolor\": \"white\", \"linecolor\": \"white\", \"ticks\": \"\"}, \"bgcolor\": \"#E5ECF6\", \"caxis\": {\"gridcolor\": \"white\", \"linecolor\": \"white\", \"ticks\": \"\"}}, \"title\": {\"x\": 0.05}, \"xaxis\": {\"automargin\": true, \"gridcolor\": \"white\", \"linecolor\": \"white\", \"ticks\": \"\", \"zerolinecolor\": \"white\", \"zerolinewidth\": 2}, \"yaxis\": {\"automargin\": true, \"gridcolor\": \"white\", \"linecolor\": \"white\", \"ticks\": \"\", \"zerolinecolor\": \"white\", \"zerolinewidth\": 2}}}, \"xaxis\": {\"anchor\": \"y\", \"domain\": [0.0, 0.98], \"title\": {\"text\": \"LAND_SQUARE_FEET\"}}, \"yaxis\": {\"anchor\": \"x\", \"domain\": [0.0, 1.0], \"title\": {\"text\": \"SALE_PRICE\"}}},\n",
              "                        {\"responsive\": true}\n",
              "                    ).then(function(){\n",
              "                            \n",
              "var gd = document.getElementById('159d6c85-af09-45de-96a4-6ab79e69a547');\n",
              "var x = new MutationObserver(function (mutations, observer) {{\n",
              "        var display = window.getComputedStyle(gd).display;\n",
              "        if (!display || display === 'none') {{\n",
              "            console.log([gd, 'removed!']);\n",
              "            Plotly.purge(gd);\n",
              "            observer.disconnect();\n",
              "        }}\n",
              "}});\n",
              "\n",
              "// Listen for the removal of the full notebook cells\n",
              "var notebookContainer = gd.closest('#notebook-container');\n",
              "if (notebookContainer) {{\n",
              "    x.observe(notebookContainer, {childList: true});\n",
              "}}\n",
              "\n",
              "// Listen for the clearing of the current output cell\n",
              "var outputEl = gd.closest('.output');\n",
              "if (outputEl) {{\n",
              "    x.observe(outputEl, {childList: true});\n",
              "}}\n",
              "\n",
              "                        })\n",
              "                };\n",
              "                \n",
              "            </script>\n",
              "        </div>\n",
              "</body>\n",
              "</html>"
            ]
          },
          "metadata": {
            "tags": []
          }
        }
      ]
    },
    {
      "cell_type": "code",
      "metadata": {
        "id": "3YZZLnH3swZb",
        "colab_type": "code",
        "colab": {
          "base_uri": "https://localhost:8080/",
          "height": 35
        },
        "outputId": "c1857c51-5743-4513-8da3-a47e7d17b369"
      },
      "source": [
        "\n",
        "#let's drop those values\n",
        "train= train[train['GROSS_SQUARE_FEET'] != 0]\n",
        "test= test[test['GROSS_SQUARE_FEET'] != 0]\n",
        "\n",
        "train.shape , test.shape"
      ],
      "execution_count": 242,
      "outputs": [
        {
          "output_type": "execute_result",
          "data": {
            "text/plain": [
              "((2486, 14), (637, 14))"
            ]
          },
          "metadata": {
            "tags": []
          },
          "execution_count": 242
        }
      ]
    },
    {
      "cell_type": "code",
      "metadata": {
        "id": "jB89ubiUh3bh",
        "colab_type": "code",
        "colab": {
          "base_uri": "https://localhost:8080/",
          "height": 344
        },
        "outputId": "4243fafc-1adb-4358-ef9e-974bc6663e8b"
      },
      "source": [
        "# 75% percentile GROSS_square _feet is 2575 but maximum is 7,875\n",
        "#so look at the data with gross_square_feet >50000\n",
        "df.query('GROSS_SQUARE_FEET > 5000')"
      ],
      "execution_count": 243,
      "outputs": [
        {
          "output_type": "execute_result",
          "data": {
            "text/html": [
              "<div>\n",
              "<style scoped>\n",
              "    .dataframe tbody tr th:only-of-type {\n",
              "        vertical-align: middle;\n",
              "    }\n",
              "\n",
              "    .dataframe tbody tr th {\n",
              "        vertical-align: top;\n",
              "    }\n",
              "\n",
              "    .dataframe thead th {\n",
              "        text-align: right;\n",
              "    }\n",
              "</style>\n",
              "<table border=\"1\" class=\"dataframe\">\n",
              "  <thead>\n",
              "    <tr style=\"text-align: right;\">\n",
              "      <th></th>\n",
              "      <th>BOROUGH</th>\n",
              "      <th>NEIGHBORHOOD</th>\n",
              "      <th>BLOCK</th>\n",
              "      <th>LOT</th>\n",
              "      <th>ZIP_CODE</th>\n",
              "      <th>RESIDENTIAL_UNITS</th>\n",
              "      <th>COMMERCIAL_UNITS</th>\n",
              "      <th>TOTAL_UNITS</th>\n",
              "      <th>LAND_SQUARE_FEET</th>\n",
              "      <th>GROSS_SQUARE_FEET</th>\n",
              "      <th>YEAR_BUILT</th>\n",
              "      <th>BUILDING_CLASS_AT_TIME_OF_SALE</th>\n",
              "      <th>SALE_PRICE</th>\n",
              "      <th>SALE_DATE</th>\n",
              "    </tr>\n",
              "  </thead>\n",
              "  <tbody>\n",
              "    <tr>\n",
              "      <th>4956</th>\n",
              "      <td>4</td>\n",
              "      <td>HOWARD BEACH</td>\n",
              "      <td>13984</td>\n",
              "      <td>18</td>\n",
              "      <td>11414.0</td>\n",
              "      <td>1.0</td>\n",
              "      <td>0.0</td>\n",
              "      <td>1.0</td>\n",
              "      <td>5000.0</td>\n",
              "      <td>5184.0</td>\n",
              "      <td>1970-01-01 00:00:00.000002003</td>\n",
              "      <td>A1</td>\n",
              "      <td>990000</td>\n",
              "      <td>2019-01-25</td>\n",
              "    </tr>\n",
              "    <tr>\n",
              "      <th>8414</th>\n",
              "      <td>2</td>\n",
              "      <td>RIVERDALE</td>\n",
              "      <td>5949</td>\n",
              "      <td>295</td>\n",
              "      <td>10471.0</td>\n",
              "      <td>1.0</td>\n",
              "      <td>0.0</td>\n",
              "      <td>1.0</td>\n",
              "      <td>12235.0</td>\n",
              "      <td>7500.0</td>\n",
              "      <td>1970-01-01 00:00:00.000002018</td>\n",
              "      <td>A3</td>\n",
              "      <td>990000</td>\n",
              "      <td>2019-02-12</td>\n",
              "    </tr>\n",
              "    <tr>\n",
              "      <th>14491</th>\n",
              "      <td>5</td>\n",
              "      <td>TOTTENVILLE</td>\n",
              "      <td>8044</td>\n",
              "      <td>59</td>\n",
              "      <td>10307.0</td>\n",
              "      <td>1.0</td>\n",
              "      <td>0.0</td>\n",
              "      <td>1.0</td>\n",
              "      <td>4250.0</td>\n",
              "      <td>7200.0</td>\n",
              "      <td>1970-01-01 00:00:00.000001925</td>\n",
              "      <td>A1</td>\n",
              "      <td>667000</td>\n",
              "      <td>2019-03-13</td>\n",
              "    </tr>\n",
              "    <tr>\n",
              "      <th>14770</th>\n",
              "      <td>5</td>\n",
              "      <td>CLOVE LAKES</td>\n",
              "      <td>326</td>\n",
              "      <td>37</td>\n",
              "      <td>10314.0</td>\n",
              "      <td>1.0</td>\n",
              "      <td>0.0</td>\n",
              "      <td>1.0</td>\n",
              "      <td>17500.0</td>\n",
              "      <td>7875.0</td>\n",
              "      <td>1970-01-01 00:00:00.000001950</td>\n",
              "      <td>A3</td>\n",
              "      <td>1850000</td>\n",
              "      <td>2019-03-14</td>\n",
              "    </tr>\n",
              "    <tr>\n",
              "      <th>15126</th>\n",
              "      <td>5</td>\n",
              "      <td>TODT HILL</td>\n",
              "      <td>894</td>\n",
              "      <td>186</td>\n",
              "      <td>10304.0</td>\n",
              "      <td>1.0</td>\n",
              "      <td>0.0</td>\n",
              "      <td>1.0</td>\n",
              "      <td>11880.0</td>\n",
              "      <td>5348.0</td>\n",
              "      <td>1970-01-01 00:00:00.000001983</td>\n",
              "      <td>A3</td>\n",
              "      <td>1500000</td>\n",
              "      <td>2019-03-15</td>\n",
              "    </tr>\n",
              "    <tr>\n",
              "      <th>15388</th>\n",
              "      <td>5</td>\n",
              "      <td>GRYMES HILL</td>\n",
              "      <td>593</td>\n",
              "      <td>220</td>\n",
              "      <td>10301.0</td>\n",
              "      <td>1.0</td>\n",
              "      <td>0.0</td>\n",
              "      <td>1.0</td>\n",
              "      <td>12100.0</td>\n",
              "      <td>5178.0</td>\n",
              "      <td>1970-01-01 00:00:00.000001955</td>\n",
              "      <td>A3</td>\n",
              "      <td>575000</td>\n",
              "      <td>2019-03-18</td>\n",
              "    </tr>\n",
              "  </tbody>\n",
              "</table>\n",
              "</div>"
            ],
            "text/plain": [
              "       BOROUGH  NEIGHBORHOOD  ...  SALE_PRICE  SALE_DATE\n",
              "4956         4  HOWARD BEACH  ...      990000 2019-01-25\n",
              "8414         2     RIVERDALE  ...      990000 2019-02-12\n",
              "14491        5   TOTTENVILLE  ...      667000 2019-03-13\n",
              "14770        5   CLOVE LAKES  ...     1850000 2019-03-14\n",
              "15126        5     TODT HILL  ...     1500000 2019-03-15\n",
              "15388        5   GRYMES HILL  ...      575000 2019-03-18\n",
              "\n",
              "[6 rows x 14 columns]"
            ]
          },
          "metadata": {
            "tags": []
          },
          "execution_count": 243
        }
      ]
    },
    {
      "cell_type": "markdown",
      "metadata": {
        "id": "jx6uEhDoL_rs",
        "colab_type": "text"
      },
      "source": [
        "### NEIGHBORHOOD vs SALE_PRICE"
      ]
    },
    {
      "cell_type": "code",
      "metadata": {
        "id": "p3fviyXMwxZ-",
        "colab_type": "code",
        "colab": {
          "base_uri": "https://localhost:8080/",
          "height": 1000
        },
        "outputId": "6f6d216c-99d2-4468-ed96-c7e53572db6c"
      },
      "source": [
        "# let's see avg price per neighborhood\n",
        "train.groupby('NEIGHBORHOOD').SALE_PRICE.mean()"
      ],
      "execution_count": 244,
      "outputs": [
        {
          "output_type": "execute_result",
          "data": {
            "text/plain": [
              "NEIGHBORHOOD\n",
              "ANNADALE                    6.796562e+05\n",
              "ARDEN HEIGHTS               4.437036e+05\n",
              "ARROCHAR                    7.219390e+05\n",
              "ARROCHAR-SHORE ACRES        8.625000e+05\n",
              "ARVERNE                     3.021295e+05\n",
              "ASTORIA                     1.001955e+06\n",
              "BATH BEACH                  1.153333e+06\n",
              "BATHGATE                    4.700000e+05\n",
              "BAY RIDGE                   1.205000e+06\n",
              "BAYCHESTER                  4.296170e+05\n",
              "BAYSIDE                     8.632095e+05\n",
              "BEDFORD STUYVESANT          5.636420e+05\n",
              "BEECHHURST                  9.631429e+05\n",
              "BELLE HARBOR                9.116667e+05\n",
              "BELLEROSE                   6.093077e+05\n",
              "BELMONT                     3.500000e+05\n",
              "BENSONHURST                 8.900000e+05\n",
              "BERGEN BEACH                6.550000e+05\n",
              "BOERUM HILL                 1.573500e+06\n",
              "BOROUGH PARK                1.008917e+06\n",
              "BRIARWOOD                   7.848333e+05\n",
              "BROAD CHANNEL               4.320000e+05\n",
              "BRONXDALE                   4.212100e+05\n",
              "BROWNSVILLE                 4.663180e+05\n",
              "BULLS HEAD                  4.904531e+05\n",
              "BUSHWICK                    9.267500e+05\n",
              "CAMBRIA HEIGHTS             4.412741e+05\n",
              "CANARSIE                    4.805486e+05\n",
              "CASTLE HILL/UNIONPORT       4.286740e+05\n",
              "CASTLETON CORNERS           4.836428e+05\n",
              "                                ...     \n",
              "SHEEPSHEAD BAY              8.201341e+05\n",
              "SILVER LAKE                 4.495000e+05\n",
              "SO. JAMAICA-BAISLEY PARK    4.471929e+05\n",
              "SOUNDVIEW                   3.888056e+05\n",
              "SOUTH BEACH                 5.388494e+05\n",
              "SOUTH JAMAICA               4.618540e+05\n",
              "SOUTH OZONE PARK            5.344691e+05\n",
              "SPRINGFIELD GARDENS         4.518016e+05\n",
              "ST. ALBANS                  4.326234e+05\n",
              "STAPLETON                   3.616852e+05\n",
              "STAPLETON-CLIFTON           4.546458e+05\n",
              "SUNNYSIDE                   9.125932e+05\n",
              "SUNSET PARK                 1.383333e+06\n",
              "THROGS NECK                 4.623501e+05\n",
              "TODT HILL                   1.005000e+06\n",
              "TOMPKINSVILLE               6.179967e+05\n",
              "TOTTENVILLE                 6.263447e+05\n",
              "TRAVIS                      3.371033e+05\n",
              "WAKEFIELD                   4.406973e+05\n",
              "WEST NEW BRIGHTON           3.782129e+05\n",
              "WESTCHESTER                 4.115236e+05\n",
              "WESTERLEIGH                 5.475476e+05\n",
              "WHITESTONE                  9.216831e+05\n",
              "WILLIAMSBRIDGE              3.026334e+05\n",
              "WILLOWBROOK                 6.813299e+05\n",
              "WINDSOR TERRACE             1.441500e+06\n",
              "WOODHAVEN                   5.211230e+05\n",
              "WOODLAWN                    5.550000e+05\n",
              "WOODROW                     6.069468e+05\n",
              "WOODSIDE                    7.672500e+05\n",
              "Name: SALE_PRICE, Length: 177, dtype: float64"
            ]
          },
          "metadata": {
            "tags": []
          },
          "execution_count": 244
        }
      ]
    },
    {
      "cell_type": "code",
      "metadata": {
        "id": "v2fn4usS37Qx",
        "colab_type": "code",
        "colab": {
          "base_uri": "https://localhost:8080/",
          "height": 1000
        },
        "outputId": "9b5df4c6-f64a-4ae7-aae8-d4bbf525bdb0"
      },
      "source": [
        "# Neighborhood has so many unique values let's dothe valuecount\n",
        "train.NEIGHBORHOOD.value_counts()"
      ],
      "execution_count": 245,
      "outputs": [
        {
          "output_type": "execute_result",
          "data": {
            "text/plain": [
              "FLUSHING-NORTH               78\n",
              "GREAT KILLS                  69\n",
              "SPRINGFIELD GARDENS          67\n",
              "ST. ALBANS                   67\n",
              "QUEENS VILLAGE               64\n",
              "SO. JAMAICA-BAISLEY PARK     64\n",
              "MIDLAND BEACH                49\n",
              "SOUTH OZONE PARK             49\n",
              "LAURELTON                    48\n",
              "BAYSIDE                      48\n",
              "FLUSHING-SOUTH               45\n",
              "SOUTH JAMAICA                41\n",
              "FLATBUSH-EAST                39\n",
              "ARDEN HEIGHTS                38\n",
              "ELTINGVILLE                  37\n",
              "CANARSIE                     37\n",
              "ROSEDALE                     36\n",
              "RICHMOND HILL                36\n",
              "HOLLIS                       36\n",
              "BAYCHESTER                   35\n",
              "HOWARD BEACH                 33\n",
              "CAMBRIA HEIGHTS              32\n",
              "JACKSON HEIGHTS              28\n",
              "MARINE PARK                  27\n",
              "SOUTH BEACH                  27\n",
              "WHITESTONE                   27\n",
              "MIDDLE VILLAGE               25\n",
              "FLORAL PARK                  25\n",
              "THROGS NECK                  25\n",
              "MARINERS HARBOR              25\n",
              "                             ..\n",
              "SILVER LAKE                   3\n",
              "SUNSET PARK                   3\n",
              "DONGAN HILLS                  3\n",
              "TRAVIS                        3\n",
              "BUSHWICK                      2\n",
              "ARROCHAR-SHORE ACRES          2\n",
              "KINGSBRIDGE HTS/UNIV HTS      2\n",
              "MOTT HAVEN/PORT MORRIS        2\n",
              "PARKCHESTER                   2\n",
              "ARROCHAR                      2\n",
              "GREAT KILLS-BAY TERRACE       2\n",
              "HILLCREST                     2\n",
              "WOODLAWN                      2\n",
              "ROSSVILLE-RICHMOND VALLEY     1\n",
              "CLINTON HILL                  1\n",
              "GOWANUS                       1\n",
              "MOUNT HOPE/MOUNT EDEN         1\n",
              "ROCKAWAY PARK                 1\n",
              "MANHATTAN BEACH               1\n",
              "CROTONA PARK                  1\n",
              "BELMONT                       1\n",
              "OCEAN HILL                    1\n",
              "FIELDSTON                     1\n",
              "HOLLIS HILLS                  1\n",
              "BOERUM HILL                   1\n",
              "DONGAN HILLS-OLD TOWN         1\n",
              "GREENPOINT                    1\n",
              "BATHGATE                      1\n",
              "INWOOD                        1\n",
              "PROSPECT HEIGHTS              1\n",
              "Name: NEIGHBORHOOD, Length: 177, dtype: int64"
            ]
          },
          "metadata": {
            "tags": []
          },
          "execution_count": 245
        }
      ]
    },
    {
      "cell_type": "code",
      "metadata": {
        "id": "z2UeMS7N8IL1",
        "colab_type": "code",
        "colab": {
          "base_uri": "https://localhost:8080/",
          "height": 536
        },
        "outputId": "0886f256-377f-44c2-e3b0-542c83f25dec"
      },
      "source": [
        "# let's reduce the cardinality by keeping only top 10 and rest grouped as other\n",
        "top10 = train['NEIGHBORHOOD'].value_counts()[:10].index\n",
        "\n",
        "# Filter locations based on top10 neighborhoods, and not as OTHERS\n",
        "train.loc[~train['NEIGHBORHOOD'].isin(top10), 'NEIGHBORHOOD']='OTHER'\n",
        "test.loc[~test['NEIGHBORHOOD'].isin(top10), 'NEIGHBORHOOD'] ='OTHER' \n",
        "\n",
        "sns.catplot(x='NEIGHBORHOOD', y='SALE_PRICE', data=train, color='grey',  kind='bar', height=6, aspect=2);\n",
        "plt.xticks(rotation=45);"
      ],
      "execution_count": 246,
      "outputs": [
        {
          "output_type": "display_data",
          "data": {
            "image/png": "[encoded data removed]",
            "text/plain": [
              "<Figure size 864x432 with 1 Axes>"
            ]
          },
          "metadata": {
            "tags": []
          }
        }
      ]
    },
    {
      "cell_type": "markdown",
      "metadata": {
        "id": "VmcSPHWuSXtJ",
        "colab_type": "text"
      },
      "source": [
        "###TOTAL_UNITS, RESIDENTIAL_UNITS, COMMERCIAL_UNITS vs. SALE_PRICE"
      ]
    },
    {
      "cell_type": "code",
      "metadata": {
        "id": "ZF5zV0DASZzE",
        "colab_type": "code",
        "colab": {
          "base_uri": "https://localhost:8080/",
          "height": 88
        },
        "outputId": "0e956102-43c5-4047-bf4b-3188e203bd29"
      },
      "source": [
        "#First, let's verify if the RESIDENTIAL_UNITS + COMMERICAL_UNITS = TOTAL_UNITS\n",
        "\n",
        "#if it is, we can just discard other, and keep TOTAL_UNITS\n",
        "(train['RESIDENTIAL_UNITS'] + train['COMMERCIAL_UNITS']).value_counts()"
      ],
      "execution_count": 247,
      "outputs": [
        {
          "output_type": "execute_result",
          "data": {
            "text/plain": [
              "1.0    2446\n",
              "2.0      39\n",
              "3.0       1\n",
              "dtype: int64"
            ]
          },
          "metadata": {
            "tags": []
          },
          "execution_count": 247
        }
      ]
    },
    {
      "cell_type": "code",
      "metadata": {
        "id": "YjaloWYWSXap",
        "colab_type": "code",
        "colab": {
          "base_uri": "https://localhost:8080/",
          "height": 88
        },
        "outputId": "7b29e85d-5ac5-4e3d-d61c-eb818128ddf1"
      },
      "source": [
        "train['TOTAL_UNITS'].value_counts()"
      ],
      "execution_count": 248,
      "outputs": [
        {
          "output_type": "execute_result",
          "data": {
            "text/plain": [
              "1.0    2446\n",
              "2.0      39\n",
              "3.0       1\n",
              "Name: TOTAL_UNITS, dtype: int64"
            ]
          },
          "metadata": {
            "tags": []
          },
          "execution_count": 248
        }
      ]
    },
    {
      "cell_type": "code",
      "metadata": {
        "id": "1Pvh8uVPTIC6",
        "colab_type": "code",
        "colab": {
          "base_uri": "https://localhost:8080/",
          "height": 441
        },
        "outputId": "0c1e0605-df4c-4521-a868-bf15874f0b8b"
      },
      "source": [
        "# it is the same, let's keep TOTAL_UNITS, and drop the others out.\n",
        "train = train.drop(['RESIDENTIAL_UNITS', 'COMMERCIAL_UNITS'], axis=1)\n",
        "test = test.drop(['RESIDENTIAL_UNITS', 'COMMERCIAL_UNITS'], axis=1)\n",
        "# Total unit is the good indicator of sale price\n",
        "sns.catplot(x='TOTAL_UNITS', y='SALE_PRICE', data=train, kind='bar', color='grey', height=6, aspect=1.5);"
      ],
      "execution_count": 249,
      "outputs": [
        {
          "output_type": "display_data",
          "data": {
            "image/png": "[encoded data removed]",
            "text/plain": [
              "<Figure size 648x432 with 1 Axes>"
            ]
          },
          "metadata": {
            "tags": []
          }
        }
      ]
    },
    {
      "cell_type": "markdown",
      "metadata": {
        "id": "kSb5LBvCZhVX",
        "colab_type": "text"
      },
      "source": [
        "###Start simple & fast, with a subset of columns\n",
        "Just numeric columns with no missing values"
      ]
    },
    {
      "cell_type": "code",
      "metadata": {
        "id": "otpKdr17T07H",
        "colab_type": "code",
        "colab": {
          "base_uri": "https://localhost:8080/",
          "height": 35
        },
        "outputId": "54dbbe17-07df-4f72-cd6e-17319a5d317a"
      },
      "source": [
        "train_subset = train.select_dtypes('number').dropna(axis= 'columns')\n",
        "test_subset = test.select_dtypes('number').dropna(axis='columns')\n",
        "\n",
        "assert all(train_subset.columns == test_subset.columns)\n",
        "target = 'SALE_PRICE'\n",
        "features= train_subset.columns.drop(target)\n",
        "\n",
        "X_train= train_subset[features]\n",
        "y_train = train_subset[target]\n",
        "X_test = test_subset[features]\n",
        "y_test= test_subset[target]\n",
        "\n",
        "X_train.shape , X_test.shape, y_train.shape\n"
      ],
      "execution_count": 250,
      "outputs": [
        {
          "output_type": "execute_result",
          "data": {
            "text/plain": [
              "((2486, 7), (637, 7), (2486,))"
            ]
          },
          "metadata": {
            "tags": []
          },
          "execution_count": 250
        }
      ]
    },
    {
      "cell_type": "code",
      "metadata": {
        "id": "MUiWywqmiRTw",
        "colab_type": "code",
        "colab": {
          "base_uri": "https://localhost:8080/",
          "height": 88
        },
        "outputId": "2ef80ab2-c725-4b2d-a258-91bbce1e6e45"
      },
      "source": [
        "from sklearn.linear_model import LinearRegression\n",
        "from sklearn.metrics import mean_absolute_error, mean_squared_error, r2_score\n",
        "\n",
        "model= LinearRegression().fit(X_train , y_train)\n",
        "y_pred= model.predict(X_test)\n",
        "\n",
        "# calculate mean absolute error\n",
        "mae = mean_absolute_error(y_test, y_pred)\n",
        "print(f'MAE with subset of numeric column only: {mae:.0f}')\n",
        "\n",
        "# calculation of r_squared and r_squared_adj\n",
        "mse = mean_squared_error(y_test , y_pred) \n",
        "print(f'MSE with subset of numeric column only: {mse:.0f}')\n",
        "\n",
        "# calculation of rrot mean square error\n",
        "RMSE = np.sqrt(mse)\n",
        "print(f'RMSE with subset of numeric column only: {RMSE:.0f}')\n",
        "\n",
        "#Calculation of adj r_square\n",
        "R_square = r2_score(y_test, y_pred)\n",
        "print(f'R_square with subset of numeric column only: {R_square}')\n",
        "#y_pred.mean()"
      ],
      "execution_count": 251,
      "outputs": [
        {
          "output_type": "stream",
          "text": [
            "MAE with subset of numeric column only: 162511\n",
            "MSE with subset of numeric column only: 57468404522\n",
            "RMSE with subset of numeric column only: 239726\n",
            "R_square with subset of numeric column only: 0.36171069100539355\n"
          ],
          "name": "stdout"
        }
      ]
    },
    {
      "cell_type": "code",
      "metadata": {
        "id": "Bd-Nn-6H6EgD",
        "colab_type": "code",
        "colab": {}
      },
      "source": [
        "def lmodel(X_train, X_test, y_train, y_test):\n",
        "    # Instantiate Linear Regression Mode\n",
        "    model = LinearRegression().fit(X_train, y_train)\n",
        "\n",
        "    # Store metrics   \n",
        "    results = {}\n",
        "    # Add model to results\n",
        "    results['model'] = model\n",
        "    \n",
        "    # Calculate metrics on training data\n",
        "    # Add R^2 \n",
        "    results['train_r_squared'] = model.score(X_train, y_train)\n",
        "    # Predict\n",
        "    y_train_hat = model.predict(X_train)\n",
        "    # MSE\n",
        "    results['train_MSE'] = mean_squared_error(y_train, y_train_hat)\n",
        "    # RMSE\n",
        "    results['train_RMSE'] = np.sqrt(results['train_MSE'])\n",
        "    # MAE\n",
        "    results['train_MAE'] = mean_absolute_error(y_train, y_train_hat)\n",
        "\n",
        "    # Calculate metrics on the test data\n",
        "    # Add R^2 \n",
        "    results['test_r_squared'] = model.score(X_test, y_test)\n",
        "    # Predict\n",
        "    y_test_hat = model.predict(X_test)\n",
        "    # MSE\n",
        "    results['test_MSE'] = mean_squared_error(y_test, y_test_hat)\n",
        "    # RMSE\n",
        "    results['test_RMSE'] = np.sqrt(results['test_MSE'])\n",
        "    # MAE\n",
        "    results['test_MAE'] = mean_absolute_error(y_test, y_test_hat)\n",
        "    return results\n",
        "def print_lm(results):\n",
        "    print(\"\"\"\n",
        "    ----------- Linear Regression Model Results -------------\n",
        "    Training Set\n",
        "    R^2: {:.2f} (Explained variance score: 1 is perfect prediction)\n",
        "    MSE: {:.2f}\n",
        "    RMSE: {:.2f}\n",
        "    MAE: ${:.2f}\n",
        "\n",
        "    Test Set\n",
        "    R^2: {:.2f} (Explained variance score: 1 is perfect prediction)\n",
        "    MSE: {:.2f}\n",
        "    RMSE: {:.2f}\n",
        "    MAE: ${:.2f}\n",
        "    \"\"\".format(results['train_r_squared'], results['train_MSE'], results['train_RMSE'], results['train_MAE'], results['test_r_squared'], results['test_MSE'], results['test_RMSE'], results['test_MAE']))"
      ],
      "execution_count": 0,
      "outputs": []
    },
    {
      "cell_type": "code",
      "metadata": {
        "id": "j6ph3diX9bbo",
        "colab_type": "code",
        "colab": {
          "base_uri": "https://localhost:8080/",
          "height": 266
        },
        "outputId": "e9d07ddf-0b64-47b9-883a-5da2e354a007"
      },
      "source": [
        "results= lmodel(X_train, X_test, y_train, y_test)\n",
        "print_lm(results)"
      ],
      "execution_count": 253,
      "outputs": [
        {
          "output_type": "stream",
          "text": [
            "\n",
            "    ----------- Linear Regression Model Results -------------\n",
            "    Training Set\n",
            "    R^2: 0.39 (Explained variance score: 1 is perfect prediction)\n",
            "    MSE: 52962892773.65\n",
            "    RMSE: 230136.68\n",
            "    MAE: $163890.18\n",
            "\n",
            "    Test Set\n",
            "    R^2: 0.36 (Explained variance score: 1 is perfect prediction)\n",
            "    MSE: 57468404522.11\n",
            "    RMSE: 239725.69\n",
            "    MAE: $162510.94\n",
            "    \n"
          ],
          "name": "stdout"
        }
      ]
    },
    {
      "cell_type": "code",
      "metadata": {
        "id": "3ZJCbVJ1eHNH",
        "colab_type": "code",
        "colab": {}
      },
      "source": [
        "#def linear_model(X_train, y_train, X_test, y_train, y_test):\n",
        "  \n",
        "  # Instantiate Linear  model\n",
        "  model= LinearRegression().fit(X_train, y_train)\n",
        "  \n",
        "  # store the matrics\n",
        "  \n",
        "#return  \n",
        "    "
      ],
      "execution_count": 0,
      "outputs": []
    },
    {
      "cell_type": "markdown",
      "metadata": {
        "id": "shV2riKQv8pB",
        "colab_type": "text"
      },
      "source": [
        "##Complex Linear Regression\n",
        "\n",
        "####1.model with one hot encoding"
      ]
    },
    {
      "cell_type": "markdown",
      "metadata": {
        "id": "YLlxisSlzvcv",
        "colab_type": "text"
      },
      "source": [
        "###Do one-hot encoding of categorical features."
      ]
    },
    {
      "cell_type": "code",
      "metadata": {
        "id": "7vBEzELwfRaU",
        "colab_type": "code",
        "colab": {
          "base_uri": "https://localhost:8080/",
          "height": 164
        },
        "outputId": "2aae4d3b-3d75-4b74-8f88-e622298f7141"
      },
      "source": [
        "# look the categorical features in data\n",
        "train.describe(exclude='number').T.sort_values(by='unique')"
      ],
      "execution_count": 256,
      "outputs": [
        {
          "output_type": "execute_result",
          "data": {
            "text/html": [
              "<div>\n",
              "<style scoped>\n",
              "    .dataframe tbody tr th:only-of-type {\n",
              "        vertical-align: middle;\n",
              "    }\n",
              "\n",
              "    .dataframe tbody tr th {\n",
              "        vertical-align: top;\n",
              "    }\n",
              "\n",
              "    .dataframe thead th {\n",
              "        text-align: right;\n",
              "    }\n",
              "</style>\n",
              "<table border=\"1\" class=\"dataframe\">\n",
              "  <thead>\n",
              "    <tr style=\"text-align: right;\">\n",
              "      <th></th>\n",
              "      <th>count</th>\n",
              "      <th>unique</th>\n",
              "      <th>top</th>\n",
              "      <th>freq</th>\n",
              "      <th>first</th>\n",
              "      <th>last</th>\n",
              "    </tr>\n",
              "  </thead>\n",
              "  <tbody>\n",
              "    <tr>\n",
              "      <th>BUILDING_CLASS_AT_TIME_OF_SALE</th>\n",
              "      <td>2486</td>\n",
              "      <td>10</td>\n",
              "      <td>A1</td>\n",
              "      <td>921</td>\n",
              "      <td>NaN</td>\n",
              "      <td>NaN</td>\n",
              "    </tr>\n",
              "    <tr>\n",
              "      <th>NEIGHBORHOOD</th>\n",
              "      <td>2486</td>\n",
              "      <td>11</td>\n",
              "      <td>OTHER</td>\n",
              "      <td>1883</td>\n",
              "      <td>NaN</td>\n",
              "      <td>NaN</td>\n",
              "    </tr>\n",
              "    <tr>\n",
              "      <th>SALE_DATE</th>\n",
              "      <td>2486</td>\n",
              "      <td>68</td>\n",
              "      <td>2019-01-31 00:00:00</td>\n",
              "      <td>77</td>\n",
              "      <td>2019-01-01 00:00:00</td>\n",
              "      <td>2019-03-30 00:00:00</td>\n",
              "    </tr>\n",
              "    <tr>\n",
              "      <th>YEAR_BUILT</th>\n",
              "      <td>2486</td>\n",
              "      <td>85</td>\n",
              "      <td>1970-01-01 00:00:00.000001920</td>\n",
              "      <td>290</td>\n",
              "      <td>1970-01-01 00:00:00.000001890</td>\n",
              "      <td>1970-01-01 00:00:00.000002018</td>\n",
              "    </tr>\n",
              "  </tbody>\n",
              "</table>\n",
              "</div>"
            ],
            "text/plain": [
              "                               count  ...                           last\n",
              "BUILDING_CLASS_AT_TIME_OF_SALE  2486  ...                            NaN\n",
              "NEIGHBORHOOD                    2486  ...                            NaN\n",
              "SALE_DATE                       2486  ...            2019-03-30 00:00:00\n",
              "YEAR_BUILT                      2486  ...  1970-01-01 00:00:00.000002018\n",
              "\n",
              "[4 rows x 6 columns]"
            ]
          },
          "metadata": {
            "tags": []
          },
          "execution_count": 256
        }
      ]
    },
    {
      "cell_type": "code",
      "metadata": {
        "id": "FCUFRghEWcdl",
        "colab_type": "code",
        "colab": {
          "base_uri": "https://localhost:8080/",
          "height": 284
        },
        "outputId": "8f92b471-0b35-49d6-f89d-6dc1474de7f6"
      },
      "source": [
        "import category_encoders as ce\n",
        "\n",
        "#Subset feature and select target\n",
        "\n",
        "cat_features = ['NEIGHBORHOOD', 'BUILDING_CLASS_AT_TIME_OF_SALE']\n",
        "numeric_features= train.select_dtypes('number').columns.tolist()\n",
        "combined_features = cat_features + numeric_features\n",
        "traget = 'SALE_PRICE'\n",
        "\n",
        "# split feature  and traget to X, y train and test split\n",
        "X_train = train[combined_features]\n",
        "X_test = test[combined_features]\n",
        "y_train = train[target]\n",
        "y_test = test[target]\n",
        "\n",
        "assert all (X_train.columns == X_test.columns)\n",
        "\n",
        "# do one hot encoding\n",
        "encoder = ce.OneHotEncoder(use_cat_names= True)\n",
        "X_train_encoded = encoder.fit_transform(X_train)\n",
        "X_test_encoded = encoder.transform(X_test)\n",
        "\n",
        "# assert columns are same\n",
        "assert X_train_encoded.shape[1] == X_test_encoded.shape[1]\n",
        "\n",
        "results = lmodel(X_train_encoded, X_test_encoded, y_train, y_test)\n",
        "print_lm(results)\n",
        "X_train_encoded.shape"
      ],
      "execution_count": 257,
      "outputs": [
        {
          "output_type": "stream",
          "text": [
            "\n",
            "    ----------- Linear Regression Model Results -------------\n",
            "    Training Set\n",
            "    R^2: 1.00 (Explained variance score: 1 is perfect prediction)\n",
            "    MSE: 0.00\n",
            "    RMSE: 0.00\n",
            "    MAE: $0.00\n",
            "\n",
            "    Test Set\n",
            "    R^2: 1.00 (Explained variance score: 1 is perfect prediction)\n",
            "    MSE: 0.00\n",
            "    RMSE: 0.00\n",
            "    MAE: $0.00\n",
            "    \n"
          ],
          "name": "stdout"
        },
        {
          "output_type": "execute_result",
          "data": {
            "text/plain": [
              "(2486, 29)"
            ]
          },
          "metadata": {
            "tags": []
          },
          "execution_count": 257
        }
      ]
    },
    {
      "cell_type": "code",
      "metadata": {
        "id": "EiUlgtl6EcEl",
        "colab_type": "code",
        "colab": {
          "base_uri": "https://localhost:8080/",
          "height": 550
        },
        "outputId": "2253935b-e431-43ab-cf8b-6053940c3033"
      },
      "source": [
        "print('Intercept: ', results['model'].intercept_)\n",
        "print(pd.Series(results['model'].coef_, X_train_encoded.columns.tolist()).to_string())"
      ],
      "execution_count": 258,
      "outputs": [
        {
          "output_type": "stream",
          "text": [
            "Intercept:  2.3283064365386963e-10\n",
            "NEIGHBORHOOD_OTHER                       9.871346e-11\n",
            "NEIGHBORHOOD_QUEENS VILLAGE             -1.656071e-10\n",
            "NEIGHBORHOOD_BAYSIDE                    -5.910717e-11\n",
            "NEIGHBORHOOD_FLUSHING-NORTH             -6.575249e-11\n",
            "NEIGHBORHOOD_LAURELTON                   4.113687e-11\n",
            "NEIGHBORHOOD_SO. JAMAICA-BAISLEY PARK    2.963295e-11\n",
            "NEIGHBORHOOD_SPRINGFIELD GARDENS         4.607041e-11\n",
            "NEIGHBORHOOD_GREAT KILLS                -1.262356e-11\n",
            "NEIGHBORHOOD_SOUTH OZONE PARK            4.387424e-11\n",
            "NEIGHBORHOOD_MIDLAND BEACH               6.193473e-12\n",
            "NEIGHBORHOOD_ST. ALBANS                  3.746838e-11\n",
            "BUILDING_CLASS_AT_TIME_OF_SALE_A9        1.422368e-11\n",
            "BUILDING_CLASS_AT_TIME_OF_SALE_A1       -5.561948e-12\n",
            "BUILDING_CLASS_AT_TIME_OF_SALE_A5        2.431257e-11\n",
            "BUILDING_CLASS_AT_TIME_OF_SALE_A0       -4.826825e-11\n",
            "BUILDING_CLASS_AT_TIME_OF_SALE_A2        3.351113e-12\n",
            "BUILDING_CLASS_AT_TIME_OF_SALE_A3        3.386308e-10\n",
            "BUILDING_CLASS_AT_TIME_OF_SALE_S1       -3.437550e-12\n",
            "BUILDING_CLASS_AT_TIME_OF_SALE_A4       -1.890953e-10\n",
            "BUILDING_CLASS_AT_TIME_OF_SALE_A6       -4.474581e-11\n",
            "BUILDING_CLASS_AT_TIME_OF_SALE_S0       -8.940930e-11\n",
            "BOROUGH                                  8.634970e-12\n",
            "BLOCK                                    7.972789e-15\n",
            "LOT                                     -6.996899e-15\n",
            "ZIP_CODE                                -5.397679e-14\n",
            "TOTAL_UNITS                             -1.822561e-10\n",
            "LAND_SQUARE_FEET                        -5.942187e-15\n",
            "GROSS_SQUARE_FEET                       -7.589675e-14\n",
            "SALE_PRICE                               1.000000e+00\n"
          ],
          "name": "stdout"
        }
      ]
    },
    {
      "cell_type": "markdown",
      "metadata": {
        "id": "QwKRLWcSdjK2",
        "colab_type": "text"
      },
      "source": [
        "##Model with SelectKBest."
      ]
    },
    {
      "cell_type": "code",
      "metadata": {
        "id": "B-t7C0YmhgBR",
        "colab_type": "code",
        "colab": {
          "base_uri": "https://localhost:8080/",
          "height": 35
        },
        "outputId": "3bdfa93d-09c6-4a69-f4df-d03bb60268f6"
      },
      "source": [
        "# Select 10 feature\n",
        "selector = SelectKBest(score_func=f_regression, k = 10)\n",
        "X_train_selected = selector.fit_transform(X_train_encoded, y_train)\n",
        "X_test_selected = selector.transform(X_test_encoded)\n",
        "\n",
        "assert X_train_selected.shape[1] == X_test_selected.shape[1]\n",
        "\n",
        "X_train_selected.shape, X_test_selected.shape\n"
      ],
      "execution_count": 259,
      "outputs": [
        {
          "output_type": "execute_result",
          "data": {
            "text/plain": [
              "((2486, 10), (637, 10))"
            ]
          },
          "metadata": {
            "tags": []
          },
          "execution_count": 259
        }
      ]
    },
    {
      "cell_type": "code",
      "metadata": {
        "id": "Q4yw6djAJOMn",
        "colab_type": "code",
        "colab": {
          "base_uri": "https://localhost:8080/",
          "height": 266
        },
        "outputId": "8e2b55ca-3b43-4463-8cec-98a5e4d6f9dd"
      },
      "source": [
        "results= lmodel(X_train_selected, X_test_selected, y_train, y_test)\n",
        "print_lm(results)"
      ],
      "execution_count": 260,
      "outputs": [
        {
          "output_type": "stream",
          "text": [
            "\n",
            "    ----------- Linear Regression Model Results -------------\n",
            "    Training Set\n",
            "    R^2: 0.40 (Explained variance score: 1 is perfect prediction)\n",
            "    MSE: 51977439671.75\n",
            "    RMSE: 227985.61\n",
            "    MAE: $161728.47\n",
            "\n",
            "    Test Set\n",
            "    R^2: 0.37 (Explained variance score: 1 is perfect prediction)\n",
            "    MSE: 57076039618.83\n",
            "    RMSE: 238905.92\n",
            "    MAE: $160011.05\n",
            "    \n"
          ],
          "name": "stdout"
        }
      ]
    },
    {
      "cell_type": "code",
      "metadata": {
        "id": "rRo6OV2POxAp",
        "colab_type": "code",
        "colab": {
          "base_uri": "https://localhost:8080/",
          "height": 1000
        },
        "outputId": "a3456dba-b283-4bf7-9c86-6c1dc7e444a3"
      },
      "source": [
        "def find_k_best_features(X_train, X_test, y_train, y_test):\n",
        "    for k in range(1, len(X_train.columns)+1):\n",
        "        print(f'{k} features')\n",
        "        selector = SelectKBest(score_func=f_regression, k=k)\n",
        "        X_train_selected = selector.fit_transform(X_train, y_train)\n",
        "        X_test_selected = selector.transform(X_test)    \n",
        "        model = LinearRegression()\n",
        "        model.fit(X_train_selected, y_train)\n",
        "        y_pred = model.predict(X_test_selected)\n",
        "        mae = mean_absolute_error(y_test, y_pred)\n",
        "        mse = mean_squared_error(y_test, y_pred)\n",
        "        rmse = np.sqrt(mse)\n",
        "        r_square = model.score(X_test_selected, y_test)\n",
        "        print('''\n",
        "        R^2: {:.2f}\n",
        "        MSE: {:.2f}\n",
        "        RMSE: {:.2f}\n",
        "        MAE: ${:.2f}\n",
        "        '''.format(r_square, mse, rmse, mae))\n",
        "\n",
        "\n",
        "find_k_best_features(X_train_encoded, X_test_encoded, y_train, y_test)"
      ],
      "execution_count": 262,
      "outputs": [
        {
          "output_type": "stream",
          "text": [
            "1 features\n",
            "\n",
            "        R^2: 0.19\n",
            "        MSE: 72763551515.88\n",
            "        RMSE: 269747.20\n",
            "        MAE: $186993.23\n",
            "        \n",
            "2 features\n",
            "\n",
            "        R^2: 0.21\n",
            "        MSE: 70880185392.21\n",
            "        RMSE: 266233.33\n",
            "        MAE: $182972.67\n",
            "        \n",
            "3 features\n",
            "\n",
            "        R^2: 0.22\n",
            "        MSE: 70608455290.47\n",
            "        RMSE: 265722.52\n",
            "        MAE: $182614.34\n",
            "        \n",
            "4 features\n",
            "\n",
            "        R^2: 0.24\n",
            "        MSE: 68209021465.92\n",
            "        RMSE: 261168.57\n",
            "        MAE: $182390.62\n",
            "        \n",
            "5 features\n",
            "\n",
            "        R^2: 0.25\n",
            "        MSE: 67844408161.96\n",
            "        RMSE: 260469.59\n",
            "        MAE: $178136.02\n",
            "        \n",
            "6 features\n",
            "\n",
            "        R^2: 0.36\n",
            "        MSE: 57585338867.22\n",
            "        RMSE: 239969.45\n",
            "        MAE: $161515.86\n",
            "        \n",
            "7 features\n",
            "\n",
            "        R^2: 0.36\n",
            "        MSE: 57291096921.77\n",
            "        RMSE: 239355.59\n",
            "        MAE: $161669.15\n",
            "        \n",
            "8 features\n",
            "\n",
            "        R^2: 0.36\n",
            "        MSE: 57334389129.25\n",
            "        RMSE: 239446.00\n",
            "        MAE: $161835.53\n",
            "        \n",
            "9 features\n",
            "\n",
            "        R^2: 0.36\n",
            "        MSE: 57554193653.93\n",
            "        RMSE: 239904.55\n",
            "        MAE: $161735.33\n",
            "        \n",
            "10 features\n",
            "\n",
            "        R^2: 0.37\n",
            "        MSE: 57076039618.83\n",
            "        RMSE: 238905.92\n",
            "        MAE: $160011.05\n",
            "        \n",
            "11 features\n",
            "\n",
            "        R^2: 0.35\n",
            "        MSE: 58139819550.94\n",
            "        RMSE: 241122.00\n",
            "        MAE: $162489.69\n",
            "        \n",
            "12 features\n",
            "\n",
            "        R^2: 0.35\n",
            "        MSE: 58131442353.54\n",
            "        RMSE: 241104.63\n",
            "        MAE: $162312.78\n",
            "        \n",
            "13 features\n",
            "\n",
            "        R^2: 0.36\n",
            "        MSE: 58039255039.05\n",
            "        RMSE: 240913.38\n",
            "        MAE: $162390.59\n",
            "        \n",
            "14 features\n",
            "\n",
            "        R^2: 0.36\n",
            "        MSE: 58000062774.68\n",
            "        RMSE: 240832.02\n",
            "        MAE: $162118.85\n",
            "        \n",
            "15 features\n",
            "\n",
            "        R^2: 0.35\n",
            "        MSE: 58121628024.86\n",
            "        RMSE: 241084.28\n",
            "        MAE: $162916.87\n",
            "        \n",
            "16 features\n",
            "\n",
            "        R^2: 0.35\n",
            "        MSE: 58260447432.60\n",
            "        RMSE: 241372.01\n",
            "        MAE: $162960.19\n",
            "        \n",
            "17 features\n",
            "\n",
            "        R^2: 0.35\n",
            "        MSE: 58168568352.53\n",
            "        RMSE: 241181.61\n",
            "        MAE: $162699.12\n",
            "        \n",
            "18 features\n",
            "\n",
            "        R^2: 0.35\n",
            "        MSE: 58123160551.86\n",
            "        RMSE: 241087.45\n",
            "        MAE: $162656.95\n",
            "        \n",
            "19 features\n",
            "\n",
            "        R^2: 0.36\n",
            "        MSE: 57974677213.01\n",
            "        RMSE: 240779.31\n",
            "        MAE: $162228.93\n",
            "        \n",
            "20 features\n",
            "\n",
            "        R^2: 0.36\n",
            "        MSE: 57742687307.11\n",
            "        RMSE: 240297.08\n",
            "        MAE: $162781.97\n",
            "        \n",
            "21 features\n",
            "\n",
            "        R^2: 0.36\n",
            "        MSE: 57444596684.71\n",
            "        RMSE: 239676.02\n",
            "        MAE: $162532.23\n",
            "        \n",
            "22 features\n",
            "\n",
            "        R^2: 0.36\n",
            "        MSE: 57346829032.23\n",
            "        RMSE: 239471.98\n",
            "        MAE: $162072.35\n",
            "        \n",
            "23 features\n",
            "\n",
            "        R^2: 0.36\n",
            "        MSE: 57352183885.03\n",
            "        RMSE: 239483.16\n",
            "        MAE: $162060.65\n",
            "        \n",
            "24 features\n",
            "\n",
            "        R^2: 0.36\n",
            "        MSE: 57352183885.03\n",
            "        RMSE: 239483.16\n",
            "        MAE: $162060.65\n",
            "        \n",
            "25 features\n",
            "\n",
            "        R^2: 0.36\n",
            "        MSE: 57278380446.77\n",
            "        RMSE: 239329.02\n",
            "        MAE: $161892.80\n",
            "        \n",
            "26 features\n",
            "\n",
            "        R^2: 0.36\n",
            "        MSE: 57242703841.92\n",
            "        RMSE: 239254.48\n",
            "        MAE: $161897.69\n",
            "        \n",
            "27 features\n",
            "\n",
            "        R^2: 0.36\n",
            "        MSE: 57190611948.94\n",
            "        RMSE: 239145.59\n",
            "        MAE: $161711.57\n",
            "        \n",
            "28 features\n",
            "\n",
            "        R^2: 0.36\n",
            "        MSE: 57189916193.61\n",
            "        RMSE: 239144.13\n",
            "        MAE: $161706.08\n",
            "        \n",
            "29 features\n",
            "\n",
            "        R^2: 1.00\n",
            "        MSE: 0.00\n",
            "        RMSE: 0.00\n",
            "        MAE: $0.00\n",
            "        \n"
          ],
          "name": "stdout"
        }
      ]
    },
    {
      "cell_type": "code",
      "metadata": {
        "id": "nd-IDuI8jbLN",
        "colab_type": "code",
        "colab": {
          "base_uri": "https://localhost:8080/",
          "height": 35
        },
        "outputId": "318c017d-19de-4e93-a0c8-dd2dd04396bb"
      },
      "source": [
        "# calculate R and adj Rsquare\n",
        "import statsmodels.api as sm\n",
        "X1 = sm.add_constant(X_train_selected)\n",
        "result = sm.OLS(y_train, X1).fit()\n",
        "print(result.rsquared, result.rsquared_adj)\n"
      ],
      "execution_count": 261,
      "outputs": [
        {
          "output_type": "stream",
          "text": [
            "0.40341079189971174 0.4010003304528419\n"
          ],
          "name": "stdout"
        }
      ]
    },
    {
      "cell_type": "markdown",
      "metadata": {
        "id": "USECPnDiWXns",
        "colab_type": "text"
      },
      "source": [
        "###ZIP_CODE vs. SALE_PRICE\n"
      ]
    },
    {
      "cell_type": "code",
      "metadata": {
        "id": "_n8keruJTYZJ",
        "colab_type": "code",
        "colab": {}
      },
      "source": [
        "train['ZIP_CODE'].describe()"
      ],
      "execution_count": 0,
      "outputs": []
    },
    {
      "cell_type": "code",
      "metadata": {
        "id": "Mz8QQDiZWtAj",
        "colab_type": "code",
        "colab": {}
      },
      "source": [
        "train['ZIP_CODE'].value_counts()"
      ],
      "execution_count": 0,
      "outputs": []
    },
    {
      "cell_type": "code",
      "metadata": {
        "id": "fHcAAlJOX1gD",
        "colab_type": "code",
        "colab": {}
      },
      "source": [
        "sns.lmplot(x='ZIP_CODE', y= 'SALE_PRICE', data= train, scatter_kws= dict(alpha=0.05));"
      ],
      "execution_count": 0,
      "outputs": []
    },
    {
      "cell_type": "code",
      "metadata": {
        "id": "tRflwuNoZdX8",
        "colab_type": "code",
        "colab": {}
      },
      "source": [
        ""
      ],
      "execution_count": 0,
      "outputs": []
    },
    {
      "cell_type": "markdown",
      "metadata": {
        "id": "4omHkLr_T_gJ",
        "colab_type": "text"
      },
      "source": [
        "###YEAR_BUILT vs. SALE_PRICE\n"
      ]
    },
    {
      "cell_type": "code",
      "metadata": {
        "id": "H_JqUgb_SfoO",
        "colab_type": "code",
        "colab": {}
      },
      "source": [
        "\n",
        "train['YEAR_BUILT'].describe()\n",
        "train['YEAR_BUILT'].value_counts()"
      ],
      "execution_count": 0,
      "outputs": []
    },
    {
      "cell_type": "code",
      "metadata": {
        "id": "jZ9mhJuvUMpL",
        "colab_type": "code",
        "colab": {}
      },
      "source": [
        "train['SALE_DATE'].value_counts()"
      ],
      "execution_count": 0,
      "outputs": []
    },
    {
      "cell_type": "code",
      "metadata": {
        "id": "ahnPGwseHnc3",
        "colab_type": "code",
        "colab": {}
      },
      "source": [
        ""
      ],
      "execution_count": 0,
      "outputs": []
    }
  ]
}