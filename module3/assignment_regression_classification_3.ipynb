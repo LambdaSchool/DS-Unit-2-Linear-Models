{
 "cells": [
  {
   "cell_type": "markdown",
   "metadata": {},
   "source": [
    " Lambda School Data Science, Unit 2: Predictive Modeling\n",
    "\n",
    " # Regression & Classification, Module 3\n",
    "\n",
    " ## Assignment\n",
    "\n",
    " We're going back to our other **New York City** real estate dataset. Instead of predicting apartment rents, you'll predict property sales prices.\n",
    "\n",
    " But not just for condos in Tribeca...\n",
    "\n",
    " Instead, predict property sales prices for **One Family Dwellings** (`BUILDING_CLASS_CATEGORY` == `'01 ONE FAMILY DWELLINGS'`).\n",
    "\n",
    " Use a subset of the data where the **sale price was more than \\\\$100 thousand and less than $2 million.**\n",
    "\n",
    " The [NYC Department of Finance](https://www1.nyc.gov/site/finance/taxes/property-rolling-sales-data.page) has a glossary of property sales terms and NYC Building Class Code Descriptions. The data comes from the [NYC OpenData](https://data.cityofnewyork.us/browse?q=NYC%20calendar%20sales) portal.\n",
    "\n",
    " - [ ] Do train/test split. Use data from January — March 2019 to train. Use data from April 2019 to test.\n",
    " - [ ] Do one-hot encoding of categorical features.\n",
    " - [ ] Do feature selection with `SelectKBest`.\n",
    " - [ ] Do [feature scaling](https://scikit-learn.org/stable/modules/preprocessing.html).\n",
    " - [ ] Fit a ridge regression model with multiple features.\n",
    " - [ ] Get mean absolute error for the test set.\n",
    " - [ ] As always, commit your notebook to your fork of the GitHub repo.\n",
    "\n",
    "\n",
    " ## Stretch Goals\n",
    " - [ ] Add your own stretch goal(s) !\n",
    " - [ ] Instead of `RidgeRegression`, try `LinearRegression`. Depending on how many features you select, your errors will probably blow up! 💥\n",
    " - [ ] Instead of `RidgeRegression`, try [`RidgeCV`](https://scikit-learn.org/stable/modules/generated/sklearn.linear_model.RidgeCV.html).\n",
    " - [ ] Learn more about feature selection:\n",
    "\t - [\"Permutation importance\"](https://www.kaggle.com/dansbecker/permutation-importance)\n",
    "\t - [scikit-learn's User Guide for Feature Selection](https://scikit-learn.org/stable/modules/feature_selection.html)\n",
    "\t - [mlxtend](http://rasbt.github.io/mlxtend/) library\n",
    "\t - scikit-learn-contrib libraries: [boruta_py](https://github.com/scikit-learn-contrib/boruta_py) & [stability-selection](https://github.com/scikit-learn-contrib/stability-selection)\n",
    "\t - [_Feature Engineering and Selection_](http://www.feat.engineering/) by Kuhn & Johnson.\n",
    " - [ ] Try [statsmodels](https://www.statsmodels.org/stable/index.html) if you’re interested in more inferential statistical approach to linear regression and feature selection, looking at p values and 95% confidence intervals for the coefficients.\n",
    " - [ ] Read [_An Introduction to Statistical Learning_](http://faculty.marshall.usc.edu/gareth-james/ISL/ISLR%20Seventh%20Printing.pdf), Chapters 1-3, for more math & theory, but in an accessible, readable way.\n",
    " - [ ] Try [scikit-learn pipelines](https://scikit-learn.org/stable/modules/compose.html)."
   ]
  },
  {
   "cell_type": "code",
   "execution_count": 1,
   "metadata": {},
   "outputs": [],
   "source": [
    "\n"
   ]
  },
  {
   "cell_type": "code",
   "execution_count": 2,
   "metadata": {},
   "outputs": [],
   "source": [
    "import pandas as pd\n",
    "# import pandas_profiling\n",
    "\n",
    "# Read New York City property sales data\n",
    "df = pd.read_csv('./data/condos/NYC_Citywide_Rolling_Calendar_Sales.csv')\n",
    "\n",
    "# Change column names: replace spaces with underscores\n",
    "df.columns = [col.replace(' ', '_') for col in df]\n",
    "\n",
    "# SALE_PRICE was read as strings.\n",
    "# Remove symbols, convert to integer\n",
    "df['SALE_PRICE'] = (\n",
    "\tdf['SALE_PRICE']\n",
    "\t.str.replace('$','')\n",
    "\t.str.replace('-','')\n",
    "\t.str.replace(',','')\n",
    "\t.astype(int)\n",
    ")\n",
    "\n"
   ]
  },
  {
   "cell_type": "code",
   "execution_count": 3,
   "metadata": {},
   "outputs": [],
   "source": [
    "# BOROUGH is a numeric column, but arguably should be a categorical feature,\n",
    "# so convert it from a number to a string\n",
    "df['BOROUGH'] = df['BOROUGH'].astype(str)\n",
    "\n"
   ]
  },
  {
   "cell_type": "code",
   "execution_count": 4,
   "metadata": {},
   "outputs": [],
   "source": [
    "# Reduce cardinality for NEIGHBORHOOD feature\n",
    "\n",
    "# Get a list of the top 10 neighborhoods\n",
    "top10 = df['NEIGHBORHOOD'].value_counts()[:10].index\n",
    "\n",
    "# At locations where the neighborhood is NOT in the top 10, \n",
    "# replace the neighborhood with 'OTHER'\n",
    "df.loc[~df['NEIGHBORHOOD'].isin(top10), 'NEIGHBORHOOD'] = 'OTHER'\n"
   ]
  },
  {
   "cell_type": "code",
   "execution_count": 5,
   "metadata": {},
   "outputs": [
    {
     "name": "stdout",
     "output_type": "stream",
     "text": [
      "(23040, 21)\n"
     ]
    },
    {
     "data": {
      "text/plain": [
       "BOROUGH                               0\n",
       "NEIGHBORHOOD                          0\n",
       "BUILDING_CLASS_CATEGORY               0\n",
       "TAX_CLASS_AT_PRESENT                  1\n",
       "BLOCK                                 0\n",
       "LOT                                   0\n",
       "EASE-MENT                         23040\n",
       "BUILDING_CLASS_AT_PRESENT             1\n",
       "ADDRESS                               0\n",
       "APARTMENT_NUMBER                  17839\n",
       "ZIP_CODE                              1\n",
       "RESIDENTIAL_UNITS                     1\n",
       "COMMERCIAL_UNITS                      1\n",
       "TOTAL_UNITS                           1\n",
       "LAND_SQUARE_FEET                     53\n",
       "GROSS_SQUARE_FEET                     1\n",
       "YEAR_BUILT                           35\n",
       "TAX_CLASS_AT_TIME_OF_SALE             0\n",
       "BUILDING_CLASS_AT_TIME_OF_SALE        0\n",
       "SALE_PRICE                            0\n",
       "SALE_DATE                             0\n",
       "dtype: int64"
      ]
     },
     "execution_count": 8,
     "metadata": {},
     "output_type": "execute_result"
    }
   ],
   "source": [
    "import pandas\n",
    "print(df.shape)\n",
    "df.isna().sum()\n",
    "# df.loc[7]\n"
   ]
  },
  {
   "cell_type": "code",
   "execution_count": 6,
   "metadata": {},
   "outputs": [
    {
     "name": "stderr",
     "output_type": "stream",
     "text": [
      "/usr/local/lib/python3.7/site-packages/ipykernel_launcher.py:6: SettingWithCopyWarning: \n",
      "A value is trying to be set on a copy of a slice from a DataFrame.\n",
      "Try using .loc[row_indexer,col_indexer] = value instead\n",
      "\n",
      "See the caveats in the documentation: http://pandas.pydata.org/pandas-docs/stable/user_guide/indexing.html#returning-a-view-versus-a-copy\n",
      "  \n"
     ]
    }
   ],
   "source": [
    "\n",
    "df_ofd = df[(df['BUILDING_CLASS_CATEGORY'] == '01 ONE FAMILY DWELLINGS') &\n",
    "\t\t\t(df['SALE_PRICE'] > 100000) &\n",
    "\t\t\t(df['SALE_PRICE'] < 2000000)]\n",
    "df_ofd['sale_dt'] = pandas.to_datetime(df_ofd['SALE_DATE'])\n"
   ]
  },
  {
   "cell_type": "code",
   "execution_count": 7,
   "metadata": {},
   "outputs": [
    {
     "name": "stdout",
     "output_type": "stream",
     "text": [
      "BOROUGH                              0\n",
      "NEIGHBORHOOD                         0\n",
      "BUILDING_CLASS_CATEGORY              0\n",
      "TAX_CLASS_AT_PRESENT                 0\n",
      "BLOCK                                0\n",
      "LOT                                  0\n",
      "EASE-MENT                         3151\n",
      "BUILDING_CLASS_AT_PRESENT            0\n",
      "ADDRESS                              0\n",
      "APARTMENT_NUMBER                  3150\n",
      "ZIP_CODE                             0\n",
      "RESIDENTIAL_UNITS                    0\n",
      "COMMERCIAL_UNITS                     0\n",
      "TOTAL_UNITS                          0\n",
      "LAND_SQUARE_FEET                     0\n",
      "GROSS_SQUARE_FEET                    0\n",
      "YEAR_BUILT                           0\n",
      "TAX_CLASS_AT_TIME_OF_SALE            0\n",
      "BUILDING_CLASS_AT_TIME_OF_SALE       0\n",
      "SALE_PRICE                           0\n",
      "SALE_DATE                            0\n",
      "sale_dt                              0\n",
      "dtype: int64\n",
      "(3151, 22)\n",
      "(3151, 22)\n",
      "(3151, 20)\n"
     ]
    },
    {
     "data": {
      "text/plain": [
       "BOROUGH                           0\n",
       "NEIGHBORHOOD                      0\n",
       "BUILDING_CLASS_CATEGORY           0\n",
       "TAX_CLASS_AT_PRESENT              0\n",
       "BLOCK                             0\n",
       "LOT                               0\n",
       "BUILDING_CLASS_AT_PRESENT         0\n",
       "ADDRESS                           0\n",
       "ZIP_CODE                          0\n",
       "RESIDENTIAL_UNITS                 0\n",
       "COMMERCIAL_UNITS                  0\n",
       "TOTAL_UNITS                       0\n",
       "LAND_SQUARE_FEET                  0\n",
       "GROSS_SQUARE_FEET                 0\n",
       "YEAR_BUILT                        0\n",
       "TAX_CLASS_AT_TIME_OF_SALE         0\n",
       "BUILDING_CLASS_AT_TIME_OF_SALE    0\n",
       "SALE_PRICE                        0\n",
       "SALE_DATE                         0\n",
       "sale_dt                           0\n",
       "dtype: int64"
      ]
     },
     "execution_count": 10,
     "metadata": {},
     "output_type": "execute_result"
    }
   ],
   "source": [
    "print(df_ofd.isna().sum())\n",
    "\n",
    "print(df_ofd.shape)\n",
    "df_ofd = df_ofd.dropna(subset=['ZIP_CODE'])\n",
    "print(df_ofd.shape)\n",
    "df_ofd = df_ofd.dropna(axis=1)\n",
    "print(df_ofd.shape)\n",
    "\n",
    "df_ofd.isna().sum()\n"
   ]
  },
  {
   "cell_type": "code",
   "execution_count": 8,
   "metadata": {},
   "outputs": [
    {
     "data": {
      "text/html": [
       "<div>\n",
       "<style scoped>\n",
       "    .dataframe tbody tr th:only-of-type {\n",
       "        vertical-align: middle;\n",
       "    }\n",
       "\n",
       "    .dataframe tbody tr th {\n",
       "        vertical-align: top;\n",
       "    }\n",
       "\n",
       "    .dataframe thead th {\n",
       "        text-align: right;\n",
       "    }\n",
       "</style>\n",
       "<table border=\"1\" class=\"dataframe\">\n",
       "  <thead>\n",
       "    <tr style=\"text-align: right;\">\n",
       "      <th></th>\n",
       "      <th>BOROUGH</th>\n",
       "      <th>NEIGHBORHOOD</th>\n",
       "      <th>BUILDING_CLASS_CATEGORY</th>\n",
       "      <th>TAX_CLASS_AT_PRESENT</th>\n",
       "      <th>BLOCK</th>\n",
       "      <th>LOT</th>\n",
       "      <th>BUILDING_CLASS_AT_PRESENT</th>\n",
       "      <th>ADDRESS</th>\n",
       "      <th>ZIP_CODE</th>\n",
       "      <th>RESIDENTIAL_UNITS</th>\n",
       "      <th>COMMERCIAL_UNITS</th>\n",
       "      <th>TOTAL_UNITS</th>\n",
       "      <th>LAND_SQUARE_FEET</th>\n",
       "      <th>GROSS_SQUARE_FEET</th>\n",
       "      <th>YEAR_BUILT</th>\n",
       "      <th>TAX_CLASS_AT_TIME_OF_SALE</th>\n",
       "      <th>BUILDING_CLASS_AT_TIME_OF_SALE</th>\n",
       "      <th>SALE_PRICE</th>\n",
       "      <th>SALE_DATE</th>\n",
       "      <th>sale_dt</th>\n",
       "    </tr>\n",
       "  </thead>\n",
       "  <tbody>\n",
       "    <tr>\n",
       "      <td>44</td>\n",
       "      <td>3</td>\n",
       "      <td>OTHER</td>\n",
       "      <td>01 ONE FAMILY DWELLINGS</td>\n",
       "      <td>1</td>\n",
       "      <td>5495</td>\n",
       "      <td>801</td>\n",
       "      <td>A9</td>\n",
       "      <td>4832 BAY PARKWAY</td>\n",
       "      <td>11230.0</td>\n",
       "      <td>1.0</td>\n",
       "      <td>0.0</td>\n",
       "      <td>1.0</td>\n",
       "      <td>6,800</td>\n",
       "      <td>1325.0</td>\n",
       "      <td>1930.0</td>\n",
       "      <td>1</td>\n",
       "      <td>A9</td>\n",
       "      <td>550000</td>\n",
       "      <td>01/01/2019</td>\n",
       "      <td>2019-01-01</td>\n",
       "    </tr>\n",
       "    <tr>\n",
       "      <td>61</td>\n",
       "      <td>4</td>\n",
       "      <td>OTHER</td>\n",
       "      <td>01 ONE FAMILY DWELLINGS</td>\n",
       "      <td>1</td>\n",
       "      <td>7918</td>\n",
       "      <td>72</td>\n",
       "      <td>A1</td>\n",
       "      <td>80-23 232ND STREET</td>\n",
       "      <td>11427.0</td>\n",
       "      <td>1.0</td>\n",
       "      <td>0.0</td>\n",
       "      <td>1.0</td>\n",
       "      <td>4,000</td>\n",
       "      <td>2001.0</td>\n",
       "      <td>1940.0</td>\n",
       "      <td>1</td>\n",
       "      <td>A1</td>\n",
       "      <td>200000</td>\n",
       "      <td>01/01/2019</td>\n",
       "      <td>2019-01-01</td>\n",
       "    </tr>\n",
       "    <tr>\n",
       "      <td>78</td>\n",
       "      <td>2</td>\n",
       "      <td>OTHER</td>\n",
       "      <td>01 ONE FAMILY DWELLINGS</td>\n",
       "      <td>1</td>\n",
       "      <td>4210</td>\n",
       "      <td>19</td>\n",
       "      <td>A1</td>\n",
       "      <td>1260 RHINELANDER AVE</td>\n",
       "      <td>10461.0</td>\n",
       "      <td>1.0</td>\n",
       "      <td>0.0</td>\n",
       "      <td>1.0</td>\n",
       "      <td>3,500</td>\n",
       "      <td>2043.0</td>\n",
       "      <td>1925.0</td>\n",
       "      <td>1</td>\n",
       "      <td>A1</td>\n",
       "      <td>810000</td>\n",
       "      <td>01/02/2019</td>\n",
       "      <td>2019-01-02</td>\n",
       "    </tr>\n",
       "    <tr>\n",
       "      <td>108</td>\n",
       "      <td>3</td>\n",
       "      <td>OTHER</td>\n",
       "      <td>01 ONE FAMILY DWELLINGS</td>\n",
       "      <td>1</td>\n",
       "      <td>5212</td>\n",
       "      <td>69</td>\n",
       "      <td>A1</td>\n",
       "      <td>469 E 25TH ST</td>\n",
       "      <td>11226.0</td>\n",
       "      <td>1.0</td>\n",
       "      <td>0.0</td>\n",
       "      <td>1.0</td>\n",
       "      <td>4,000</td>\n",
       "      <td>2680.0</td>\n",
       "      <td>1899.0</td>\n",
       "      <td>1</td>\n",
       "      <td>A1</td>\n",
       "      <td>125000</td>\n",
       "      <td>01/02/2019</td>\n",
       "      <td>2019-01-02</td>\n",
       "    </tr>\n",
       "    <tr>\n",
       "      <td>111</td>\n",
       "      <td>3</td>\n",
       "      <td>OTHER</td>\n",
       "      <td>01 ONE FAMILY DWELLINGS</td>\n",
       "      <td>1</td>\n",
       "      <td>7930</td>\n",
       "      <td>121</td>\n",
       "      <td>A5</td>\n",
       "      <td>5521 WHITTY LANE</td>\n",
       "      <td>11203.0</td>\n",
       "      <td>1.0</td>\n",
       "      <td>0.0</td>\n",
       "      <td>1.0</td>\n",
       "      <td>1,710</td>\n",
       "      <td>1872.0</td>\n",
       "      <td>1940.0</td>\n",
       "      <td>1</td>\n",
       "      <td>A5</td>\n",
       "      <td>620000</td>\n",
       "      <td>01/02/2019</td>\n",
       "      <td>2019-01-02</td>\n",
       "    </tr>\n",
       "  </tbody>\n",
       "</table>\n",
       "</div>"
      ],
      "text/plain": [
       "    BOROUGH NEIGHBORHOOD  BUILDING_CLASS_CATEGORY TAX_CLASS_AT_PRESENT  BLOCK  \\\n",
       "44        3        OTHER  01 ONE FAMILY DWELLINGS                    1   5495   \n",
       "61        4        OTHER  01 ONE FAMILY DWELLINGS                    1   7918   \n",
       "78        2        OTHER  01 ONE FAMILY DWELLINGS                    1   4210   \n",
       "108       3        OTHER  01 ONE FAMILY DWELLINGS                    1   5212   \n",
       "111       3        OTHER  01 ONE FAMILY DWELLINGS                    1   7930   \n",
       "\n",
       "     LOT BUILDING_CLASS_AT_PRESENT               ADDRESS  ZIP_CODE  \\\n",
       "44   801                        A9      4832 BAY PARKWAY   11230.0   \n",
       "61    72                        A1    80-23 232ND STREET   11427.0   \n",
       "78    19                        A1  1260 RHINELANDER AVE   10461.0   \n",
       "108   69                        A1         469 E 25TH ST   11226.0   \n",
       "111  121                        A5      5521 WHITTY LANE   11203.0   \n",
       "\n",
       "     RESIDENTIAL_UNITS  COMMERCIAL_UNITS  TOTAL_UNITS LAND_SQUARE_FEET  \\\n",
       "44                 1.0               0.0          1.0            6,800   \n",
       "61                 1.0               0.0          1.0            4,000   \n",
       "78                 1.0               0.0          1.0            3,500   \n",
       "108                1.0               0.0          1.0            4,000   \n",
       "111                1.0               0.0          1.0            1,710   \n",
       "\n",
       "     GROSS_SQUARE_FEET  YEAR_BUILT  TAX_CLASS_AT_TIME_OF_SALE  \\\n",
       "44              1325.0      1930.0                          1   \n",
       "61              2001.0      1940.0                          1   \n",
       "78              2043.0      1925.0                          1   \n",
       "108             2680.0      1899.0                          1   \n",
       "111             1872.0      1940.0                          1   \n",
       "\n",
       "    BUILDING_CLASS_AT_TIME_OF_SALE  SALE_PRICE   SALE_DATE    sale_dt  \n",
       "44                              A9      550000  01/01/2019 2019-01-01  \n",
       "61                              A1      200000  01/01/2019 2019-01-01  \n",
       "78                              A1      810000  01/02/2019 2019-01-02  \n",
       "108                             A1      125000  01/02/2019 2019-01-02  \n",
       "111                             A5      620000  01/02/2019 2019-01-02  "
      ]
     },
     "execution_count": 11,
     "metadata": {},
     "output_type": "execute_result"
    }
   ],
   "source": [
    "df_ofd.head()\n",
    "\n"
   ]
  },
  {
   "cell_type": "code",
   "execution_count": 9,
   "metadata": {},
   "outputs": [],
   "source": [
    "import category_encoders\n",
    "from typing import Optional\n",
    "import numpy\n",
    "\n",
    "def clean(\tframe:pandas.DataFrame, \n",
    "\t\t\tcols:Optional[list] = None,\n",
    "\t\t\texclude_cols:Optional[list] = None,\n",
    "\t\t\tmax_cardinality:Optional[int] = None) -> pandas.DataFrame:\n",
    "\t\"\"\"\n",
    "\tCleans and one-hot encodes the dataframe.\n",
    "\t\n",
    "\tArgs:\n",
    "\t\tframe (pandas.DataFrame): Dataframe to clean\n",
    "\t\tcols (list, optional): Columns to one-hot encode. Defaults to all string columns.\n",
    "\t\texclude_cols (list, optional): Columns to skip one-hot encoding. Defaults to None.\n",
    "\t\tmax_cardinality (int, optional): Maximum cardinality of columns to encode. Defaults to no maximum cardinality.\n",
    "\t\n",
    "\tReturns:\n",
    "\t\tpandas.DataFrame: The cleaned dataframe.\n",
    "\t\"\"\"\n",
    "\n",
    "\n",
    "\tcleaned = frame.copy()\n",
    "\n",
    "\tif cols is None: cols = list(cleaned.columns[cleaned.dtypes=='object'])\n",
    "\n",
    "\tif exclude_cols is not None:\n",
    "\t\tfor col in exclude_cols:\n",
    "\t\t\tcols.remove(col)\n",
    "\n",
    "\tif max_cardinality is not None:\n",
    "\t\tdescribed = cleaned[cols].describe(exclude=[numpy.number])\n",
    "\t\tcols = list(described.columns[described.loc['unique'] <= max_cardinality])\n",
    "\n",
    "\tencoder = category_encoders.OneHotEncoder(return_df=True, use_cat_names=True, cols=cols)\n",
    "\tcleaned = encoder.fit_transform(cleaned)\n",
    "\n",
    "\treturn(cleaned)\n"
   ]
  },
  {
   "cell_type": "code",
   "execution_count": 10,
   "metadata": {},
   "outputs": [],
   "source": [
    "\n",
    "cleaned = clean(df_ofd, max_cardinality=100, exclude_cols=['SALE_DATE'])\n"
   ]
  },
  {
   "cell_type": "code",
   "execution_count": 11,
   "metadata": {},
   "outputs": [
    {
     "data": {
      "text/plain": [
       "['BOROUGH_3',\n",
       " 'BOROUGH_4',\n",
       " 'BOROUGH_2',\n",
       " 'BOROUGH_5',\n",
       " 'BOROUGH_1',\n",
       " 'NEIGHBORHOOD_OTHER',\n",
       " 'NEIGHBORHOOD_FLUSHING-NORTH',\n",
       " 'NEIGHBORHOOD_BEDFORD STUYVESANT',\n",
       " 'NEIGHBORHOOD_FOREST HILLS',\n",
       " 'NEIGHBORHOOD_BOROUGH PARK',\n",
       " 'NEIGHBORHOOD_ASTORIA',\n",
       " 'BUILDING_CLASS_CATEGORY_01 ONE FAMILY DWELLINGS',\n",
       " 'TAX_CLASS_AT_PRESENT_1',\n",
       " 'TAX_CLASS_AT_PRESENT_1D',\n",
       " 'BLOCK',\n",
       " 'LOT',\n",
       " 'BUILDING_CLASS_AT_PRESENT_A9',\n",
       " 'BUILDING_CLASS_AT_PRESENT_A1',\n",
       " 'BUILDING_CLASS_AT_PRESENT_A5',\n",
       " 'BUILDING_CLASS_AT_PRESENT_A0',\n",
       " 'BUILDING_CLASS_AT_PRESENT_A2',\n",
       " 'BUILDING_CLASS_AT_PRESENT_A3',\n",
       " 'BUILDING_CLASS_AT_PRESENT_S1',\n",
       " 'BUILDING_CLASS_AT_PRESENT_A4',\n",
       " 'BUILDING_CLASS_AT_PRESENT_A6',\n",
       " 'BUILDING_CLASS_AT_PRESENT_A8',\n",
       " 'BUILDING_CLASS_AT_PRESENT_B2',\n",
       " 'BUILDING_CLASS_AT_PRESENT_S0',\n",
       " 'BUILDING_CLASS_AT_PRESENT_B3',\n",
       " 'ADDRESS',\n",
       " 'ZIP_CODE',\n",
       " 'RESIDENTIAL_UNITS',\n",
       " 'COMMERCIAL_UNITS',\n",
       " 'TOTAL_UNITS',\n",
       " 'LAND_SQUARE_FEET',\n",
       " 'GROSS_SQUARE_FEET',\n",
       " 'YEAR_BUILT',\n",
       " 'TAX_CLASS_AT_TIME_OF_SALE',\n",
       " 'BUILDING_CLASS_AT_TIME_OF_SALE_A9',\n",
       " 'BUILDING_CLASS_AT_TIME_OF_SALE_A1',\n",
       " 'BUILDING_CLASS_AT_TIME_OF_SALE_A5',\n",
       " 'BUILDING_CLASS_AT_TIME_OF_SALE_A0',\n",
       " 'BUILDING_CLASS_AT_TIME_OF_SALE_A2',\n",
       " 'BUILDING_CLASS_AT_TIME_OF_SALE_A3',\n",
       " 'BUILDING_CLASS_AT_TIME_OF_SALE_S1',\n",
       " 'BUILDING_CLASS_AT_TIME_OF_SALE_A4',\n",
       " 'BUILDING_CLASS_AT_TIME_OF_SALE_A6',\n",
       " 'BUILDING_CLASS_AT_TIME_OF_SALE_A8',\n",
       " 'BUILDING_CLASS_AT_TIME_OF_SALE_S0',\n",
       " 'SALE_PRICE',\n",
       " 'SALE_DATE',\n",
       " 'sale_dt']"
      ]
     },
     "execution_count": 14,
     "metadata": {},
     "output_type": "execute_result"
    }
   ],
   "source": [
    "list(cleaned.columns)\n"
   ]
  },
  {
   "cell_type": "code",
   "execution_count": 12,
   "metadata": {},
   "outputs": [],
   "source": [
    "\n",
    "target = 'SALE_PRICE'\n",
    "features = cleaned.columns[cleaned.dtypes!='object'].drop([target, 'sale_dt'])\n"
   ]
  },
  {
   "cell_type": "code",
   "execution_count": 13,
   "metadata": {},
   "outputs": [
    {
     "data": {
      "text/plain": [
       "['BOROUGH_3',\n",
       " 'BOROUGH_4',\n",
       " 'BOROUGH_2',\n",
       " 'BOROUGH_5',\n",
       " 'BOROUGH_1',\n",
       " 'NEIGHBORHOOD_OTHER',\n",
       " 'NEIGHBORHOOD_FLUSHING-NORTH',\n",
       " 'NEIGHBORHOOD_BEDFORD STUYVESANT',\n",
       " 'NEIGHBORHOOD_FOREST HILLS',\n",
       " 'NEIGHBORHOOD_BOROUGH PARK',\n",
       " 'NEIGHBORHOOD_ASTORIA',\n",
       " 'BUILDING_CLASS_CATEGORY_01 ONE FAMILY DWELLINGS',\n",
       " 'TAX_CLASS_AT_PRESENT_1',\n",
       " 'TAX_CLASS_AT_PRESENT_1D',\n",
       " 'BLOCK',\n",
       " 'LOT',\n",
       " 'BUILDING_CLASS_AT_PRESENT_A9',\n",
       " 'BUILDING_CLASS_AT_PRESENT_A1',\n",
       " 'BUILDING_CLASS_AT_PRESENT_A5',\n",
       " 'BUILDING_CLASS_AT_PRESENT_A0',\n",
       " 'BUILDING_CLASS_AT_PRESENT_A2',\n",
       " 'BUILDING_CLASS_AT_PRESENT_A3',\n",
       " 'BUILDING_CLASS_AT_PRESENT_S1',\n",
       " 'BUILDING_CLASS_AT_PRESENT_A4',\n",
       " 'BUILDING_CLASS_AT_PRESENT_A6',\n",
       " 'BUILDING_CLASS_AT_PRESENT_A8',\n",
       " 'BUILDING_CLASS_AT_PRESENT_B2',\n",
       " 'BUILDING_CLASS_AT_PRESENT_S0',\n",
       " 'BUILDING_CLASS_AT_PRESENT_B3',\n",
       " 'ZIP_CODE',\n",
       " 'RESIDENTIAL_UNITS',\n",
       " 'COMMERCIAL_UNITS',\n",
       " 'TOTAL_UNITS',\n",
       " 'GROSS_SQUARE_FEET',\n",
       " 'YEAR_BUILT',\n",
       " 'TAX_CLASS_AT_TIME_OF_SALE',\n",
       " 'BUILDING_CLASS_AT_TIME_OF_SALE_A9',\n",
       " 'BUILDING_CLASS_AT_TIME_OF_SALE_A1',\n",
       " 'BUILDING_CLASS_AT_TIME_OF_SALE_A5',\n",
       " 'BUILDING_CLASS_AT_TIME_OF_SALE_A0',\n",
       " 'BUILDING_CLASS_AT_TIME_OF_SALE_A2',\n",
       " 'BUILDING_CLASS_AT_TIME_OF_SALE_A3',\n",
       " 'BUILDING_CLASS_AT_TIME_OF_SALE_S1',\n",
       " 'BUILDING_CLASS_AT_TIME_OF_SALE_A4',\n",
       " 'BUILDING_CLASS_AT_TIME_OF_SALE_A6',\n",
       " 'BUILDING_CLASS_AT_TIME_OF_SALE_A8',\n",
       " 'BUILDING_CLASS_AT_TIME_OF_SALE_S0']"
      ]
     },
     "execution_count": 16,
     "metadata": {},
     "output_type": "execute_result"
    }
   ],
   "source": [
    "list(features)\n"
   ]
  },
  {
   "cell_type": "code",
   "execution_count": 14,
   "metadata": {},
   "outputs": [
    {
     "data": {
      "text/plain": [
       "47"
      ]
     },
     "execution_count": 17,
     "metadata": {},
     "output_type": "execute_result"
    }
   ],
   "source": [
    "len(features)\n"
   ]
  },
  {
   "cell_type": "code",
   "execution_count": 15,
   "metadata": {},
   "outputs": [],
   "source": [
    "\n",
    "train = cleaned[(df_ofd['sale_dt'] < pandas.to_datetime('2019-04-01')) &\n",
    "\t\t\t\t(df_ofd['sale_dt'] >= pandas.to_datetime('2019-01-01'))]\n",
    "\n",
    "test = cleaned[\t(df_ofd['sale_dt'] < pandas.to_datetime('2019-05-01')) &\n",
    "\t\t\t\t(df_ofd['sale_dt'] >= pandas.to_datetime('2019-04-01'))]\n"
   ]
  },
  {
   "cell_type": "code",
   "execution_count": 16,
   "metadata": {},
   "outputs": [],
   "source": []
  },
  {
   "cell_type": "code",
   "execution_count": 17,
   "metadata": {},
   "outputs": [],
   "source": []
  },
  {
   "cell_type": "code",
   "execution_count": 18,
   "metadata": {},
   "outputs": [
    {
     "data": {
      "text/plain": [
       "Series([], dtype: int64)"
      ]
     },
     "execution_count": 21,
     "metadata": {},
     "output_type": "execute_result"
    }
   ],
   "source": [
    "train.isna().sum()[train.isna().sum() > 0]\n"
   ]
  },
  {
   "cell_type": "code",
   "execution_count": 19,
   "metadata": {},
   "outputs": [
    {
     "data": {
      "text/plain": [
       "(644, 52)"
      ]
     },
     "execution_count": 22,
     "metadata": {},
     "output_type": "execute_result"
    }
   ],
   "source": [
    "test.shape\n"
   ]
  },
  {
   "cell_type": "code",
   "execution_count": 20,
   "metadata": {},
   "outputs": [
    {
     "name": "stdout",
     "output_type": "stream",
     "text": [
      "r-squared score for the baseline: 0.0\n",
      "RMSE for the baseline: 296749.2900419516\n",
      "MAE for the baseline: 216602.40811504182\n"
     ]
    }
   ],
   "source": [
    "from sklearn.feature_selection import f_regression, SelectKBest\n",
    "from sklearn.linear_model import LinearRegression\n",
    "import sklearn.metrics as metrics\n",
    "\n",
    "baseline = numpy.linspace(test[target].mean(), test[target].mean(), num=len(test[target]))\n",
    "\n",
    "r2 = metrics.r2_score(test[target], baseline)\n",
    "rmse = numpy.sqrt(metrics.mean_squared_error(test[target], baseline))\n",
    "mae = metrics.mean_absolute_error(test[target], baseline)\n",
    "print(f'r-squared score for the baseline: {r2}')\n",
    "print(f'RMSE for the baseline: {rmse}')\n",
    "print(f'MAE for the baseline: {mae}')\n"
   ]
  },
  {
   "cell_type": "code",
   "execution_count": 21,
   "metadata": {},
   "outputs": [
    {
     "data": {
      "text/plain": [
       "0"
      ]
     },
     "execution_count": 24,
     "metadata": {},
     "output_type": "execute_result"
    }
   ],
   "source": [
    "train[target].isna().sum()\n"
   ]
  },
  {
   "cell_type": "code",
   "execution_count": 22,
   "metadata": {},
   "outputs": [
    {
     "name": "stdout",
     "output_type": "stream",
     "text": [
      "r-squared score for the 1 best features: 0.21506982154862042\n",
      "RMSE for the 1 best features: 262908.8478917925\n",
      "MAE for the 1 best features: 183640.5858012459\n",
      "r-squared score for the 2 best features: 0.22325870950978643\n",
      "RMSE for the 2 best features: 261533.8365683233\n",
      "MAE for the 2 best features: 182569.26269991108\n",
      "r-squared score for the 3 best features: 0.22325870950978643\n",
      "RMSE for the 3 best features: 261533.8365683233\n",
      "MAE for the 3 best features: 182569.26269991108\n",
      "r-squared score for the 4 best features: 0.2752991734665171\n",
      "RMSE for the 4 best features: 252620.7771920289\n",
      "MAE for the 4 best features: 173706.26035935155\n",
      "r-squared score for the 5 best features: 0.30768786938493053\n",
      "RMSE for the 5 best features: 246911.12557998608\n",
      "MAE for the 5 best features: 174555.82563474367\n",
      "r-squared score for the 6 best features: 0.31982227325088497\n",
      "RMSE for the 6 best features: 244737.70984072943\n",
      "MAE for the 6 best features: 172842.6329608635\n",
      "r-squared score for the 7 best features: 0.3155129108738125\n",
      "RMSE for the 7 best features: 245511.77095454143\n",
      "MAE for the 7 best features: 173412.44519672307\n",
      "r-squared score for the 8 best features: 0.3197007319606231\n",
      "RMSE for the 8 best features: 244759.57501446173\n",
      "MAE for the 8 best features: 173241.27103697322\n",
      "r-squared score for the 9 best features: 0.3488549104700398\n",
      "RMSE for the 9 best features: 239457.57137098047\n",
      "MAE for the 9 best features: 168667.79178039543\n",
      "r-squared score for the 10 best features: 0.34268976685910646\n",
      "RMSE for the 10 best features: 240588.51157820865\n",
      "MAE for the 10 best features: 169452.34384681605\n",
      "r-squared score for the 11 best features: 0.34433539181130945\n",
      "RMSE for the 11 best features: 240287.1572470378\n",
      "MAE for the 11 best features: 169006.24547234725\n",
      "r-squared score for the 12 best features: 0.3778675686778554\n",
      "RMSE for the 12 best features: 234062.10652356717\n",
      "MAE for the 12 best features: 161221.07647444465\n",
      "r-squared score for the 13 best features: 0.3671473561910408\n",
      "RMSE for the 13 best features: 236070.10216224694\n",
      "MAE for the 13 best features: 162577.97827378166\n",
      "r-squared score for the 14 best features: 0.3737156631471864\n",
      "RMSE for the 14 best features: 234841.8342146093\n",
      "MAE for the 14 best features: 161733.49882200485\n",
      "r-squared score for the 15 best features: 0.3737122926743123\n",
      "RMSE for the 15 best features: 234842.46613761966\n",
      "MAE for the 15 best features: 161734.69507804097\n",
      "r-squared score for the 16 best features: 0.3760410996797511\n",
      "RMSE for the 16 best features: 234405.43685676606\n",
      "MAE for the 16 best features: 161547.6953690819\n",
      "r-squared score for the 17 best features: 0.3760410996796665\n",
      "RMSE for the 17 best features: 234405.43685678195\n",
      "MAE for the 17 best features: 161547.69536912494\n",
      "r-squared score for the 18 best features: 0.3767087251228962\n",
      "RMSE for the 18 best features: 234279.99837215952\n",
      "MAE for the 18 best features: 161308.07592476343\n",
      "r-squared score for the 19 best features: 0.37670872512269815\n",
      "RMSE for the 19 best features: 234279.99837219671\n",
      "MAE for the 19 best features: 161308.07592482655\n",
      "r-squared score for the 20 best features: 0.39295815943045054\n",
      "RMSE for the 20 best features: 231205.9474985108\n",
      "MAE for the 20 best features: 159302.62520831265\n",
      "r-squared score for the 21 best features: 0.3937797517448315\n",
      "RMSE for the 21 best features: 231049.43328976133\n",
      "MAE for the 21 best features: 159370.94392675214\n",
      "r-squared score for the 22 best features: 0.3937797517448103\n",
      "RMSE for the 22 best features: 231049.43328976538\n",
      "MAE for the 22 best features: 159370.94392675877\n",
      "r-squared score for the 23 best features: 0.3937797517446928\n",
      "RMSE for the 23 best features: 231049.43328978776\n",
      "MAE for the 23 best features: 159370.94392678892\n",
      "r-squared score for the 24 best features: 0.3972688921703533\n",
      "RMSE for the 24 best features: 230383.56370450938\n",
      "MAE for the 24 best features: 158939.8632701975\n",
      "r-squared score for the 25 best features: 0.3976805946216232\n",
      "RMSE for the 25 best features: 230304.86718526608\n",
      "MAE for the 25 best features: 158842.52247677193\n",
      "r-squared score for the 26 best features: 0.3978183623090604\n",
      "RMSE for the 26 best features: 230278.52702156742\n",
      "MAE for the 26 best features: 158799.51142846732\n",
      "r-squared score for the 27 best features: 0.39734455431342464\n",
      "RMSE for the 27 best features: 230369.10297648836\n",
      "MAE for the 27 best features: 158924.1876099263\n",
      "r-squared score for the 28 best features: 0.39753050653678146\n",
      "RMSE for the 28 best features: 230333.5594896187\n",
      "MAE for the 28 best features: 158881.95691333176\n",
      "r-squared score for the 29 best features: 0.38957893053595605\n",
      "RMSE for the 29 best features: 231848.5832004997\n",
      "MAE for the 29 best features: 159682.5682879678\n",
      "r-squared score for the 30 best features: 0.3890974277716672\n",
      "RMSE for the 30 best features: 231940.0067548973\n",
      "MAE for the 30 best features: 159733.6788105561\n",
      "r-squared score for the 31 best features: 0.3890974277716991\n",
      "RMSE for the 31 best features: 231940.00675489125\n",
      "MAE for the 31 best features: 159733.67881055383\n",
      "r-squared score for the 32 best features: 0.38712976936128984\n",
      "RMSE for the 32 best features: 232313.23468712613\n",
      "MAE for the 32 best features: 159311.1969355905\n",
      "r-squared score for the 33 best features: 0.3872180565714166\n",
      "RMSE for the 33 best features: 232296.50110712188\n",
      "MAE for the 33 best features: 159288.8836719636\n",
      "r-squared score for the 34 best features: 0.3880267394550211\n",
      "RMSE for the 34 best features: 232143.17068943262\n",
      "MAE for the 34 best features: 159292.41731233094\n",
      "r-squared score for the 35 best features: 0.3895218029137265\n",
      "RMSE for the 35 best features: 231859.4319810078\n",
      "MAE for the 35 best features: 158950.71618768526\n",
      "r-squared score for the 36 best features: 0.38952180291368177\n",
      "RMSE for the 36 best features: 231859.4319810163\n",
      "MAE for the 36 best features: 158950.71618769696\n",
      "r-squared score for the 37 best features: 0.38392179878579846\n",
      "RMSE for the 37 best features: 232920.44425607592\n",
      "MAE for the 37 best features: 159749.1052098916\n",
      "r-squared score for the 38 best features: 0.3894467628413012\n",
      "RMSE for the 38 best features: 231873.68164137244\n",
      "MAE for the 38 best features: 159206.9317669093\n",
      "r-squared score for the 39 best features: 0.38929470297860946\n",
      "RMSE for the 39 best features: 231902.5542138227\n",
      "MAE for the 39 best features: 159255.61831862575\n",
      "r-squared score for the 40 best features: 0.3892026758030305\n",
      "RMSE for the 40 best features: 231920.0262525106\n",
      "MAE for the 40 best features: 159269.8403101421\n",
      "r-squared score for the 41 best features: 0.3872181149852071\n",
      "RMSE for the 41 best features: 232296.490035223\n",
      "MAE for the 41 best features: 159601.73578258252\n",
      "r-squared score for the 42 best features: 0.3875494677626222\n",
      "RMSE for the 42 best features: 232233.67609013556\n",
      "MAE for the 42 best features: 159560.86743898195\n",
      "r-squared score for the 43 best features: 0.38758215029200627\n",
      "RMSE for the 43 best features: 232227.47960176383\n",
      "MAE for the 43 best features: 159556.66562975134\n",
      "r-squared score for the 44 best features: 0.38768690697499053\n",
      "RMSE for the 44 best features: 232207.61700232537\n",
      "MAE for the 44 best features: 159511.40062111802\n",
      "r-squared score for the 45 best features: 0.38730629355893487\n",
      "RMSE for the 45 best features: 232279.77584162683\n",
      "MAE for the 45 best features: 159552.955939441\n",
      "r-squared score for the 46 best features: 0.387733405404984\n",
      "RMSE for the 46 best features: 232198.80003047088\n",
      "MAE for the 46 best features: 159546.62150621117\n",
      "r-squared score for the 47 best features: 0.3875457580166747\n",
      "RMSE for the 47 best features: 232234.3794339885\n",
      "MAE for the 47 best features: 159552.31191770185\n"
     ]
    }
   ],
   "source": [
    "\n",
    "r2s_linear = []\n",
    "for i in range(1,train[features].shape[1]+1):\n",
    "\tselector = SelectKBest(score_func=f_regression, k=i)\n",
    "\twith numpy.errstate(invalid='ignore', divide='ignore'):\n",
    "\t\t# Ignore all the warnings we get for all-0 columns\n",
    "\t\ttrain_selected = selector.fit_transform(train[features], train[target])\n",
    "\ttest_selected = selector.transform(test[features])\n",
    "\tlr_model = LinearRegression()\n",
    "\tlr_model.fit(train_selected, train[target])\n",
    "\tpredicted = lr_model.predict(test_selected)\n",
    "\tr2 = metrics.r2_score(test[target], predicted)\n",
    "\trmse = numpy.sqrt(metrics.mean_squared_error(test[target], predicted))\n",
    "\tmae = metrics.mean_absolute_error(test[target], predicted)\n",
    "\tprint(f'r-squared score for the {i} best features: {r2}')\n",
    "\tprint(f'RMSE for the {i} best features: {rmse}')\n",
    "\tprint(f'MAE for the {i} best features: {mae}')\n",
    "\tr2s_linear.append(r2)\n"
   ]
  },
  {
   "cell_type": "code",
   "execution_count": 23,
   "metadata": {},
   "outputs": [],
   "source": [
    "\n",
    "from sklearn.linear_model import Ridge\n",
    "\n",
    "r2s_ridge = []\n",
    "alphas = [(i/20)**2 for i in range(1,203, 2)]\n",
    "for a in alphas:\n",
    "\tridge_model = Ridge(alpha=a)\n",
    "\tridge_model.fit(train[features], train[target])\n",
    "\tpredicted = ridge_model.predict(test[features])\n",
    "\n",
    "\tr2 = metrics.r2_score(test[target], predicted)\n",
    "\trmse = numpy.sqrt(metrics.mean_squared_error(test[target], predicted))\n",
    "\t# print(f'r-squared score at alpha={(i/10)**2}: {r2}')\n",
    "\t# print(f'RMSE at alpha={(i/10)**2}: {rmse}')\n",
    "\tr2s_ridge.append(r2)\n"
   ]
  },
  {
   "cell_type": "code",
   "execution_count": 24,
   "metadata": {},
   "outputs": [
    {
     "data": {
      "image/png": "[encoded data removed]",
      "text/plain": [
       "<Figure size 720x576 with 1 Axes>"
      ]
     },
     "metadata": {},
     "output_type": "display_data"
    },
    {
     "data": {
      "image/png": "[encoded data removed]",
      "text/plain": [
       "<Figure size 720x576 with 1 Axes>"
      ]
     },
     "metadata": {},
     "output_type": "display_data"
    }
   ],
   "source": [
    "import matplotlib.pyplot as pyplot\n",
    "pyplot.rcParams['figure.facecolor'] = '#002B36'\n",
    "pyplot.rcParams['axes.facecolor'] = 'black'\n",
    "pyplot.rcParams['figure.figsize'] = (10,8)\n",
    "\n",
    "pyplot.plot(r2s_linear)\n",
    "pyplot.title('Linear Regression')\n",
    "pyplot.xlabel('Number of features (KBest)')\n",
    "pyplot.ylabel('R^2 score')\n",
    "pyplot.ylim(0, .45)\n",
    "pyplot.show()\n",
    "\n",
    "pyplot.plot(alphas, r2s_ridge)\n",
    "pyplot.title('Ridge Regression')\n",
    "pyplot.xlabel('Alpha')\n",
    "pyplot.xscale('log')\n",
    "pyplot.ylabel('R^2 score')\n",
    "pyplot.ylim(0, .45)\n",
    "pyplot.show()\n",
    "\n",
    "\n"
   ]
  },
  {
   "cell_type": "code",
   "execution_count": 25,
   "metadata": {},
   "outputs": [],
   "source": [
    "\n"
   ]
  },
  {
   "cell_type": "code",
   "execution_count": 26,
   "metadata": {},
   "outputs": [],
   "source": []
  },
  {
   "cell_type": "code",
   "execution_count": 27,
   "metadata": {},
   "outputs": [],
   "source": []
  }
 ],
 "metadata": {
  "file_extension": ".py",
  "kernelspec": {
   "display_name": "Python 3",
   "language": "python",
   "name": "python3"
  },
  "language_info": {
   "codemirror_mode": {
    "name": "ipython",
    "version": 3
   },
   "file_extension": ".py",
   "mimetype": "text/x-python",
   "name": "python",
   "nbconvert_exporter": "python",
   "pygments_lexer": "ipython3",
   "version": "3.7.3"
  },
  "mimetype": "text/x-python",
  "name": "python",
  "npconvert_exporter": "python",
  "pygments_lexer": "ipython3",
  "version": 3
 },
 "nbformat": 4,
 "nbformat_minor": 2
}
