{
 "cells": [
  {
   "cell_type": "markdown",
   "metadata": {
    "colab_type": "text",
    "id": "7IXUfiQ2UKj6"
   },
   "source": [
    "Lambda School Data Science, Unit 2: Predictive Modeling\n",
    "\n",
    "# Regression & Classification, Module 3\n",
    "\n",
    "## Assignment\n",
    "\n",
    "We're going back to our other **New York City** real estate dataset. Instead of predicting apartment rents, you'll predict property sales prices.\n",
    "\n",
    "But not just for condos in Tribeca...\n",
    "\n",
    "Instead, predict property sales prices for **One Family Dwellings** (`BUILDING_CLASS_CATEGORY` == `'01 ONE FAMILY DWELLINGS'`). \n",
    "\n",
    "Use a subset of the data where the **sale price was more than \\\\$100 thousand and less than $2 million.** \n",
    "\n",
    "The [NYC Department of Finance](https://www1.nyc.gov/site/finance/taxes/property-rolling-sales-data.page) has a glossary of property sales terms and NYC Building Class Code Descriptions. The data comes from the [NYC OpenData](https://data.cityofnewyork.us/browse?q=NYC%20calendar%20sales) portal.\n",
    "\n",
    "- [ ] Do train/test split. Use data from January — March 2019 to train. Use data from April 2019 to test.\n",
    "- [ ] Do one-hot encoding of categorical features.\n",
    "- [ ] Do feature selection with `SelectKBest`.\n",
    "- [ ] Do [feature scaling](https://scikit-learn.org/stable/modules/preprocessing.html).\n",
    "- [ ] Fit a ridge regression model with multiple features.\n",
    "- [ ] Get mean absolute error for the test set.\n",
    "- [ ] As always, commit your notebook to your fork of the GitHub repo.\n",
    "\n",
    "\n",
    "## Stretch Goals\n",
    "- [ ] Add your own stretch goal(s) !\n",
    "- [ ] Instead of `RidgeRegression`, try `LinearRegression`. Depending on how many features you select, your errors will probably blow up! 💥\n",
    "- [ ] Instead of `RidgeRegression`, try [`RidgeCV`](https://scikit-learn.org/stable/modules/generated/sklearn.linear_model.RidgeCV.html).\n",
    "- [ ] Learn more about feature selection:\n",
    "    - [\"Permutation importance\"](https://www.kaggle.com/dansbecker/permutation-importance)\n",
    "    - [scikit-learn's User Guide for Feature Selection](https://scikit-learn.org/stable/modules/feature_selection.html)\n",
    "    - [mlxtend](http://rasbt.github.io/mlxtend/) library\n",
    "    - scikit-learn-contrib libraries: [boruta_py](https://github.com/scikit-learn-contrib/boruta_py) & [stability-selection](https://github.com/scikit-learn-contrib/stability-selection)\n",
    "    - [_Feature Engineering and Selection_](http://www.feat.engineering/) by Kuhn & Johnson.\n",
    "- [ ] Try [statsmodels](https://www.statsmodels.org/stable/index.html) if you’re interested in more inferential statistical approach to linear regression and feature selection, looking at p values and 95% confidence intervals for the coefficients.\n",
    "- [ ] Read [_An Introduction to Statistical Learning_](http://faculty.marshall.usc.edu/gareth-james/ISL/ISLR%20Seventh%20Printing.pdf), Chapters 1-3, for more math & theory, but in an accessible, readable way.\n",
    "- [ ] Try [scikit-learn pipelines](https://scikit-learn.org/stable/modules/compose.html)."
   ]
  },
  {
   "cell_type": "code",
   "execution_count": 1,
   "metadata": {
    "colab": {},
    "colab_type": "code",
    "id": "o9eSnDYhUGD7"
   },
   "outputs": [],
   "source": [
    "import os, sys\n",
    "in_colab = 'google.colab' in sys.modules\n",
    "\n",
    "# If you're in Colab...\n",
    "if in_colab:\n",
    "    # Pull files from Github repo\n",
    "    os.chdir('/content')\n",
    "    !git init .\n",
    "    !git remote add origin https://github.com/LambdaSchool/DS-Unit-2-Regression-Classification.git\n",
    "    !git pull origin master\n",
    "    \n",
    "    # Install required python packages\n",
    "    !pip install -r requirements.txt\n",
    "    \n",
    "    # Change into directory for module\n",
    "    os.chdir('module3')"
   ]
  },
  {
   "cell_type": "code",
   "execution_count": 2,
   "metadata": {
    "colab": {},
    "colab_type": "code",
    "id": "ipBYS77PUwNR"
   },
   "outputs": [],
   "source": [
    "# Ignore this Numpy warning when using Plotly Express:\n",
    "# FutureWarning: Method .ptp is deprecated and will be removed in a future version. Use numpy.ptp instead.\n",
    "import warnings\n",
    "warnings.filterwarnings(action='ignore', category=FutureWarning, module='numpy')"
   ]
  },
  {
   "cell_type": "code",
   "execution_count": 72,
   "metadata": {
    "colab": {},
    "colab_type": "code",
    "id": "QJBD4ruICm1m"
   },
   "outputs": [],
   "source": [
    "import pandas as pd\n",
    "import pandas_profiling\n",
    "import numpy as np\n",
    "\n",
    "# Read New York City property sales data\n",
    "df = pd.read_csv('../data/condos/NYC_Citywide_Rolling_Calendar_Sales.csv')\n",
    "\n",
    "# Change column names: replace spaces with underscores\n",
    "df.columns = [col.replace(' ', '_') for col in df]\n",
    "\n",
    "# SALE_PRICE was read as strings.\n",
    "# Remove symbols, convert to integer\n",
    "df['SALE_PRICE'] = (\n",
    "    df['SALE_PRICE']\n",
    "    .str.replace('$','')\n",
    "    .str.replace('-','')\n",
    "    .str.replace(',','')\n",
    "    .astype(int)\n",
    ")"
   ]
  },
  {
   "cell_type": "code",
   "execution_count": 73,
   "metadata": {},
   "outputs": [],
   "source": [
    "# BOROUGH is a numeric column, but arguably should be a categorical feature,\n",
    "# so convert it from a number to a string\n",
    "df['BOROUGH'] = df['BOROUGH'].astype(str)"
   ]
  },
  {
   "cell_type": "code",
   "execution_count": 74,
   "metadata": {},
   "outputs": [],
   "source": [
    "# Reduce cardinality for NEIGHBORHOOD feature\n",
    "\n",
    "# Get a list of the top 10 neighborhoods\n",
    "top10 = df['NEIGHBORHOOD'].value_counts()[:10].index\n",
    "\n",
    "# At locations where the neighborhood is NOT in the top 10, \n",
    "# replace the neighborhood with 'OTHER'\n",
    "df.loc[~df['NEIGHBORHOOD'].isin(top10), 'NEIGHBORHOOD'] = 'OTHER'"
   ]
  },
  {
   "cell_type": "code",
   "execution_count": 75,
   "metadata": {},
   "outputs": [
    {
     "data": {
      "text/html": [
       "<div>\n",
       "<style scoped>\n",
       "    .dataframe tbody tr th:only-of-type {\n",
       "        vertical-align: middle;\n",
       "    }\n",
       "\n",
       "    .dataframe tbody tr th {\n",
       "        vertical-align: top;\n",
       "    }\n",
       "\n",
       "    .dataframe thead th {\n",
       "        text-align: right;\n",
       "    }\n",
       "</style>\n",
       "<table border=\"1\" class=\"dataframe\">\n",
       "  <thead>\n",
       "    <tr style=\"text-align: right;\">\n",
       "      <th></th>\n",
       "      <th>BOROUGH</th>\n",
       "      <th>NEIGHBORHOOD</th>\n",
       "      <th>BUILDING_CLASS_CATEGORY</th>\n",
       "      <th>TAX_CLASS_AT_PRESENT</th>\n",
       "      <th>BLOCK</th>\n",
       "      <th>LOT</th>\n",
       "      <th>EASE-MENT</th>\n",
       "      <th>BUILDING_CLASS_AT_PRESENT</th>\n",
       "      <th>ADDRESS</th>\n",
       "      <th>APARTMENT_NUMBER</th>\n",
       "      <th>...</th>\n",
       "      <th>RESIDENTIAL_UNITS</th>\n",
       "      <th>COMMERCIAL_UNITS</th>\n",
       "      <th>TOTAL_UNITS</th>\n",
       "      <th>LAND_SQUARE_FEET</th>\n",
       "      <th>GROSS_SQUARE_FEET</th>\n",
       "      <th>YEAR_BUILT</th>\n",
       "      <th>TAX_CLASS_AT_TIME_OF_SALE</th>\n",
       "      <th>BUILDING_CLASS_AT_TIME_OF_SALE</th>\n",
       "      <th>SALE_PRICE</th>\n",
       "      <th>SALE_DATE</th>\n",
       "    </tr>\n",
       "  </thead>\n",
       "  <tbody>\n",
       "    <tr>\n",
       "      <td>0</td>\n",
       "      <td>1</td>\n",
       "      <td>OTHER</td>\n",
       "      <td>13 CONDOS - ELEVATOR APARTMENTS</td>\n",
       "      <td>2</td>\n",
       "      <td>716</td>\n",
       "      <td>1246</td>\n",
       "      <td>NaN</td>\n",
       "      <td>R4</td>\n",
       "      <td>447 WEST 18TH STREET, PH12A</td>\n",
       "      <td>PH12A</td>\n",
       "      <td>...</td>\n",
       "      <td>1.0</td>\n",
       "      <td>0.0</td>\n",
       "      <td>1.0</td>\n",
       "      <td>10,733</td>\n",
       "      <td>1979.0</td>\n",
       "      <td>2007.0</td>\n",
       "      <td>2</td>\n",
       "      <td>R4</td>\n",
       "      <td>0</td>\n",
       "      <td>01/01/2019</td>\n",
       "    </tr>\n",
       "    <tr>\n",
       "      <td>1</td>\n",
       "      <td>1</td>\n",
       "      <td>OTHER</td>\n",
       "      <td>21 OFFICE BUILDINGS</td>\n",
       "      <td>4</td>\n",
       "      <td>812</td>\n",
       "      <td>68</td>\n",
       "      <td>NaN</td>\n",
       "      <td>O5</td>\n",
       "      <td>144 WEST 37TH STREET</td>\n",
       "      <td>NaN</td>\n",
       "      <td>...</td>\n",
       "      <td>0.0</td>\n",
       "      <td>6.0</td>\n",
       "      <td>6.0</td>\n",
       "      <td>2,962</td>\n",
       "      <td>15435.0</td>\n",
       "      <td>1920.0</td>\n",
       "      <td>4</td>\n",
       "      <td>O5</td>\n",
       "      <td>0</td>\n",
       "      <td>01/01/2019</td>\n",
       "    </tr>\n",
       "    <tr>\n",
       "      <td>2</td>\n",
       "      <td>1</td>\n",
       "      <td>OTHER</td>\n",
       "      <td>21 OFFICE BUILDINGS</td>\n",
       "      <td>4</td>\n",
       "      <td>839</td>\n",
       "      <td>69</td>\n",
       "      <td>NaN</td>\n",
       "      <td>O5</td>\n",
       "      <td>40 WEST 38TH STREET</td>\n",
       "      <td>NaN</td>\n",
       "      <td>...</td>\n",
       "      <td>0.0</td>\n",
       "      <td>7.0</td>\n",
       "      <td>7.0</td>\n",
       "      <td>2,074</td>\n",
       "      <td>11332.0</td>\n",
       "      <td>1930.0</td>\n",
       "      <td>4</td>\n",
       "      <td>O5</td>\n",
       "      <td>0</td>\n",
       "      <td>01/01/2019</td>\n",
       "    </tr>\n",
       "    <tr>\n",
       "      <td>3</td>\n",
       "      <td>1</td>\n",
       "      <td>OTHER</td>\n",
       "      <td>13 CONDOS - ELEVATOR APARTMENTS</td>\n",
       "      <td>2</td>\n",
       "      <td>592</td>\n",
       "      <td>1041</td>\n",
       "      <td>NaN</td>\n",
       "      <td>R4</td>\n",
       "      <td>1 SHERIDAN SQUARE, 8C</td>\n",
       "      <td>8C</td>\n",
       "      <td>...</td>\n",
       "      <td>1.0</td>\n",
       "      <td>0.0</td>\n",
       "      <td>1.0</td>\n",
       "      <td>0</td>\n",
       "      <td>500.0</td>\n",
       "      <td>0.0</td>\n",
       "      <td>2</td>\n",
       "      <td>R4</td>\n",
       "      <td>0</td>\n",
       "      <td>01/01/2019</td>\n",
       "    </tr>\n",
       "    <tr>\n",
       "      <td>4</td>\n",
       "      <td>1</td>\n",
       "      <td>UPPER EAST SIDE (59-79)</td>\n",
       "      <td>15 CONDOS - 2-10 UNIT RESIDENTIAL</td>\n",
       "      <td>2C</td>\n",
       "      <td>1379</td>\n",
       "      <td>1402</td>\n",
       "      <td>NaN</td>\n",
       "      <td>R1</td>\n",
       "      <td>20 EAST 65TH STREET, B</td>\n",
       "      <td>B</td>\n",
       "      <td>...</td>\n",
       "      <td>1.0</td>\n",
       "      <td>0.0</td>\n",
       "      <td>1.0</td>\n",
       "      <td>0</td>\n",
       "      <td>6406.0</td>\n",
       "      <td>0.0</td>\n",
       "      <td>2</td>\n",
       "      <td>R1</td>\n",
       "      <td>0</td>\n",
       "      <td>01/01/2019</td>\n",
       "    </tr>\n",
       "  </tbody>\n",
       "</table>\n",
       "<p>5 rows × 21 columns</p>\n",
       "</div>"
      ],
      "text/plain": [
       "  BOROUGH             NEIGHBORHOOD            BUILDING_CLASS_CATEGORY  \\\n",
       "0       1                    OTHER    13 CONDOS - ELEVATOR APARTMENTS   \n",
       "1       1                    OTHER                21 OFFICE BUILDINGS   \n",
       "2       1                    OTHER                21 OFFICE BUILDINGS   \n",
       "3       1                    OTHER    13 CONDOS - ELEVATOR APARTMENTS   \n",
       "4       1  UPPER EAST SIDE (59-79)  15 CONDOS - 2-10 UNIT RESIDENTIAL   \n",
       "\n",
       "  TAX_CLASS_AT_PRESENT  BLOCK   LOT  EASE-MENT BUILDING_CLASS_AT_PRESENT  \\\n",
       "0                    2    716  1246        NaN                        R4   \n",
       "1                    4    812    68        NaN                        O5   \n",
       "2                    4    839    69        NaN                        O5   \n",
       "3                    2    592  1041        NaN                        R4   \n",
       "4                   2C   1379  1402        NaN                        R1   \n",
       "\n",
       "                       ADDRESS APARTMENT_NUMBER  ...  RESIDENTIAL_UNITS  \\\n",
       "0  447 WEST 18TH STREET, PH12A            PH12A  ...                1.0   \n",
       "1         144 WEST 37TH STREET              NaN  ...                0.0   \n",
       "2          40 WEST 38TH STREET              NaN  ...                0.0   \n",
       "3        1 SHERIDAN SQUARE, 8C               8C  ...                1.0   \n",
       "4       20 EAST 65TH STREET, B                B  ...                1.0   \n",
       "\n",
       "   COMMERCIAL_UNITS  TOTAL_UNITS  LAND_SQUARE_FEET GROSS_SQUARE_FEET  \\\n",
       "0               0.0          1.0            10,733            1979.0   \n",
       "1               6.0          6.0             2,962           15435.0   \n",
       "2               7.0          7.0             2,074           11332.0   \n",
       "3               0.0          1.0                 0             500.0   \n",
       "4               0.0          1.0                 0            6406.0   \n",
       "\n",
       "   YEAR_BUILT  TAX_CLASS_AT_TIME_OF_SALE  BUILDING_CLASS_AT_TIME_OF_SALE  \\\n",
       "0      2007.0                          2                              R4   \n",
       "1      1920.0                          4                              O5   \n",
       "2      1930.0                          4                              O5   \n",
       "3         0.0                          2                              R4   \n",
       "4         0.0                          2                              R1   \n",
       "\n",
       "  SALE_PRICE   SALE_DATE  \n",
       "0          0  01/01/2019  \n",
       "1          0  01/01/2019  \n",
       "2          0  01/01/2019  \n",
       "3          0  01/01/2019  \n",
       "4          0  01/01/2019  \n",
       "\n",
       "[5 rows x 21 columns]"
      ]
     },
     "execution_count": 75,
     "metadata": {},
     "output_type": "execute_result"
    }
   ],
   "source": [
    "#    First glance at the data\n",
    "df.head()"
   ]
  },
  {
   "cell_type": "code",
   "execution_count": 76,
   "metadata": {},
   "outputs": [
    {
     "data": {
      "text/plain": [
       "(23040, 21)"
      ]
     },
     "execution_count": 76,
     "metadata": {},
     "output_type": "execute_result"
    }
   ],
   "source": [
    "#    Check shape (rows / columns) of the data\n",
    "df.shape"
   ]
  },
  {
   "cell_type": "code",
   "execution_count": 77,
   "metadata": {},
   "outputs": [],
   "source": [
    "df = df.drop('EASE-MENT', axis=1)"
   ]
  },
  {
   "cell_type": "code",
   "execution_count": 78,
   "metadata": {},
   "outputs": [],
   "source": [
    "#    Only the range of sales prices between $100,000 and $2 million are required\n",
    "df = df[(df['SALE_PRICE']>= 100000) & (df['SALE_PRICE']<= 2000000)]\n",
    "#    Only need single family homes:\n",
    "df = df[(df['BUILDING_CLASS_CATEGORY'] == '01 ONE FAMILY DWELLINGS')]"
   ]
  },
  {
   "cell_type": "code",
   "execution_count": 79,
   "metadata": {},
   "outputs": [
    {
     "data": {
      "text/plain": [
       "(3164, 20)"
      ]
     },
     "execution_count": 79,
     "metadata": {},
     "output_type": "execute_result"
    }
   ],
   "source": [
    "#    Check shape to see the affect of the pruning.\n",
    "df.shape"
   ]
  },
  {
   "cell_type": "code",
   "execution_count": 80,
   "metadata": {},
   "outputs": [
    {
     "name": "stdout",
     "output_type": "stream",
     "text": [
      "For BOROUGH,the type is object\n",
      "For NEIGHBORHOOD,the type is object\n",
      "For BUILDING_CLASS_CATEGORY,the type is object\n",
      "For TAX_CLASS_AT_PRESENT,the type is object\n",
      "For BLOCK,the type is int64\n",
      "For LOT,the type is int64\n",
      "For BUILDING_CLASS_AT_PRESENT,the type is object\n",
      "For ADDRESS,the type is object\n",
      "For APARTMENT_NUMBER,the type is object\n",
      "For ZIP_CODE,the type is float64\n",
      "For RESIDENTIAL_UNITS,the type is float64\n",
      "For COMMERCIAL_UNITS,the type is float64\n",
      "For TOTAL_UNITS,the type is float64\n",
      "For LAND_SQUARE_FEET,the type is object\n",
      "For GROSS_SQUARE_FEET,the type is float64\n",
      "For YEAR_BUILT,the type is float64\n",
      "For TAX_CLASS_AT_TIME_OF_SALE,the type is int64\n",
      "For BUILDING_CLASS_AT_TIME_OF_SALE,the type is object\n",
      "For SALE_PRICE,the type is int32\n",
      "For SALE_DATE,the type is object\n"
     ]
    }
   ],
   "source": [
    "#    Check column dtypes\n",
    "for i, value in enumerate(df):\n",
    "    print(f'For {value},the type is {df[value].dtype}')"
   ]
  },
  {
   "cell_type": "code",
   "execution_count": 81,
   "metadata": {},
   "outputs": [],
   "source": [
    "from sklearn.metrics import mean_absolute_error, mean_squared_error, r2_score\n",
    "from sklearn.model_selection import KFold\n",
    "from sklearn.linear_model import Ridge"
   ]
  },
  {
   "cell_type": "code",
   "execution_count": 82,
   "metadata": {},
   "outputs": [
    {
     "name": "stdout",
     "output_type": "stream",
     "text": [
      "Evaluating BOROUGH.\n",
      "Evaluating NEIGHBORHOOD.\n",
      "Skipping BUILDING_CLASS_CATEGORY.\n",
      "Evaluating TAX_CLASS_AT_PRESENT.\n",
      "Evaluating BLOCK.\n",
      "Evaluating LOT.\n",
      "Evaluating BUILDING_CLASS_AT_PRESENT.\n",
      "Evaluating ADDRESS.\n",
      "Evaluating APARTMENT_NUMBER.\n",
      "Skipping APARTMENT_NUMBER, because it failed the mean length test.\n",
      "Evaluating ZIP_CODE.\n",
      "Evaluating RESIDENTIAL_UNITS.\n",
      "Evaluating COMMERCIAL_UNITS.\n",
      "Evaluating TOTAL_UNITS.\n",
      "Evaluating LAND_SQUARE_FEET.\n",
      "Evaluating GROSS_SQUARE_FEET.\n",
      "Evaluating YEAR_BUILT.\n",
      "Evaluating TAX_CLASS_AT_TIME_OF_SALE.\n",
      "Skipping TAX_CLASS_AT_TIME_OF_SALE, because it failed the mean length test.\n",
      "Evaluating BUILDING_CLASS_AT_TIME_OF_SALE.\n",
      "Skipping SALE_PRICE.\n",
      "Evaluating SALE_DATE.\n",
      "Done.\n"
     ]
    }
   ],
   "source": [
    "#    Find mean variance differiential\n",
    "ignore = ['SALE_PRICE', 'BUILDING_CLASS_CATEGORY']\n",
    "pdict = {}\n",
    "for x in df:\n",
    "  if x in ignore:\n",
    "    print(f'Skipping {x}.')\n",
    "    pass\n",
    "  else:\n",
    "    print(f'Evaluating {x}.')\n",
    "    #    Evaluate means\n",
    "    meanOne = df.groupby(str(x))['SALE_PRICE'].mean()\n",
    "    meanTwo = df['SALE_PRICE'].mean()\n",
    "    if len(meanOne) < 2:\n",
    "        print(f'Skipping {x}, because it failed the mean length test.')\n",
    "        pass\n",
    "\n",
    "    #    Set math for mean variance differiential\n",
    "    else:\n",
    "        \n",
    "        totalMean = df.groupby(str(x)).mean()['SALE_PRICE'].mean()\n",
    "        domain = (meanOne - totalMean)\n",
    "        meanVar = sum([x**2 for x in domain]) / (len(meanOne) - 1)\n",
    "        percentVar = ((meanVar**.5)*100) / totalMean\n",
    "        pdict[x] = percentVar\n",
    "\n",
    "\n",
    "#   Calculate PVD\n",
    "p2dict = {}\n",
    "pdictsums = sum([x for y, x in pdict.items()])\n",
    "\n",
    "for key, value in pdict.items():\n",
    "  v2 = (value / pdictsums)\n",
    "  p2dict[key] = v2\n",
    "\n",
    "#    Tuple list\n",
    "PVD = sorted(p2dict.items(), reverse = True, key = lambda x: x[1])\n",
    "\n",
    "print(f'Done.')"
   ]
  },
  {
   "cell_type": "code",
   "execution_count": 83,
   "metadata": {},
   "outputs": [],
   "source": [
    "import matplotlib.pyplot as plt"
   ]
  },
  {
   "cell_type": "code",
   "execution_count": 84,
   "metadata": {},
   "outputs": [
    {
     "data": {
      "text/plain": [
       "([0, 1, 2, 3, 4, 5, 6, 7, 8, 9, 10, 11, 12, 13, 14, 15],\n",
       " <a list of 16 Text xticklabel objects>)"
      ]
     },
     "execution_count": 84,
     "metadata": {},
     "output_type": "execute_result"
    },
    {
     "data": {
      "image/png": "[encoded data removed]",
      "text/plain": [
       "<Figure size 720x576 with 1 Axes>"
      ]
     },
     "metadata": {},
     "output_type": "display_data"
    }
   ],
   "source": [
    "plt.style.use('fivethirtyeight')\n",
    "plt.figure(figsize = (10,8), facecolor = '#ededed')\n",
    "plt.axes(facecolor = '#ededed', frameon = False)\n",
    "\n",
    "#  Plot bar graph:\n",
    "for i, k in enumerate(PVD):\n",
    "    plt.bar(k[0], k[1], color='C0')\n",
    "    \n",
    "plt.xticks(rotation = 90)"
   ]
  },
  {
   "cell_type": "code",
   "execution_count": 95,
   "metadata": {},
   "outputs": [
    {
     "name": "stdout",
     "output_type": "stream",
     "text": [
      "TOTAL_UNITS is type float64.\n",
      "count    3164.000000\n",
      "mean        1.003161\n",
      "std         0.172362\n",
      "min         0.000000\n",
      "25%         1.000000\n",
      "50%         1.000000\n",
      "75%         1.000000\n",
      "max         3.000000\n",
      "Name: TOTAL_UNITS, dtype: float64\n",
      "COMMERCIAL_UNITS is type float64.\n",
      "count    3164.000000\n",
      "mean        0.015803\n",
      "std         0.127241\n",
      "min         0.000000\n",
      "25%         0.000000\n",
      "50%         0.000000\n",
      "75%         0.000000\n",
      "max         2.000000\n",
      "Name: COMMERCIAL_UNITS, dtype: float64\n",
      "BUILDING_CLASS_AT_TIME_OF_SALE is type object.\n",
      "count     3164\n",
      "unique      11\n",
      "top         A1\n",
      "freq      1189\n",
      "Name: BUILDING_CLASS_AT_TIME_OF_SALE, dtype: object\n",
      "RESIDENTIAL_UNITS is type float64.\n",
      "count    3164.000000\n",
      "mean        0.987358\n",
      "std         0.114537\n",
      "min         0.000000\n",
      "25%         1.000000\n",
      "50%         1.000000\n",
      "75%         1.000000\n",
      "max         2.000000\n",
      "Name: RESIDENTIAL_UNITS, dtype: float64\n",
      "BUILDING_CLASS_AT_PRESENT is type object.\n",
      "count     3164\n",
      "unique      13\n",
      "top         A1\n",
      "freq      1188\n",
      "Name: BUILDING_CLASS_AT_PRESENT, dtype: object\n"
     ]
    }
   ],
   "source": [
    "for i in PVD[:5]:\n",
    "    print(f'{i[0]} is type {df[i[0]].dtype}.')\n",
    "    print(f'{df[i[0]].describe()}')"
   ]
  },
  {
   "cell_type": "code",
   "execution_count": 96,
   "metadata": {},
   "outputs": [
    {
     "name": "stdout",
     "output_type": "stream",
     "text": [
      "count    3164.000000\n",
      "mean     1469.718394\n",
      "std       586.645088\n",
      "min         0.000000\n",
      "25%      1144.000000\n",
      "50%      1360.000000\n",
      "75%      1683.000000\n",
      "max      7875.000000\n",
      "Name: GROSS_SQUARE_FEET, dtype: float64\n",
      "count      3164\n",
      "unique     1037\n",
      "top       4,000\n",
      "freq        290\n",
      "Name: LAND_SQUARE_FEET, dtype: object\n"
     ]
    }
   ],
   "source": [
    "#   I don't need building class at present, only at time of sale. I'll drop that\n",
    "#   and take square footage instead. I also want land square footage!\n",
    "\n",
    "checks = ['GROSS_SQUARE_FEET', 'LAND_SQUARE_FEET']\n",
    "for x in checks:\n",
    "    print(df[x].describe())"
   ]
  },
  {
   "cell_type": "code",
   "execution_count": 98,
   "metadata": {},
   "outputs": [],
   "source": [
    "#    GSF is good. Need to get the LSF as an integer instead of a string.\n",
    "def lsf_to_int(string):\n",
    "    assert type(string) == str\n",
    "    x = string.replace(',', '')\n",
    "    return int(x)\n",
    "df['LAND_SQUARE_FEET'] = df['LAND_SQUARE_FEET'].apply(lsf_to_int)"
   ]
  },
  {
   "cell_type": "code",
   "execution_count": 102,
   "metadata": {},
   "outputs": [
    {
     "data": {
      "text/plain": [
       "count     3164.000000\n",
       "mean      3110.752212\n",
       "std       1790.452745\n",
       "min          0.000000\n",
       "25%       2000.000000\n",
       "50%       2541.500000\n",
       "75%       4000.000000\n",
       "max      18906.000000\n",
       "Name: LAND_SQUARE_FEET, dtype: float64"
      ]
     },
     "execution_count": 102,
     "metadata": {},
     "output_type": "execute_result"
    }
   ],
   "source": [
    "df['LAND_SQUARE_FEET'].describe()"
   ]
  },
  {
   "cell_type": "code",
   "execution_count": 156,
   "metadata": {},
   "outputs": [],
   "source": [
    "features = ['TOTAL_UNITS', 'GROSS_SQUARE_FEET', 'LAND_SQUARE_FEET',\n",
    "            'COMMERCIAL_UNITS', 'RESIDENTIAL_UNITS','BLOCK']"
   ]
  },
  {
   "cell_type": "code",
   "execution_count": 160,
   "metadata": {},
   "outputs": [],
   "source": [
    "#     Instantiate the ridge regression model\n",
    "model = Ridge(alpha=1)"
   ]
  },
  {
   "cell_type": "code",
   "execution_count": 161,
   "metadata": {},
   "outputs": [],
   "source": [
    "#    10 fold cross validation\n",
    "kf = KFold(n_splits=10, shuffle=True, random_state=42)"
   ]
  },
  {
   "cell_type": "code",
   "execution_count": 162,
   "metadata": {},
   "outputs": [
    {
     "name": "stdout",
     "output_type": "stream",
     "text": [
      "MSE of $54,501,552,942.52\n",
      "R2 of 17.47%\n",
      "The model is Ridge(alpha=1, copy_X=True, fit_intercept=True, max_iter=None, normalize=False,\n",
      "      random_state=None, solver='auto', tol=0.001).\n"
     ]
    }
   ],
   "source": [
    "#    Define features and target\n",
    "X = features\n",
    "y = 'SALE_PRICE'\n",
    "#     Run model through and get metrics\n",
    "r2 = [0]\n",
    "mse = [0]\n",
    "pred = [0]\n",
    "\n",
    "for train_index, test_index in kf.split(df[X]):\n",
    "    X_train, X_test = df[X].iloc[train_index], df[X].iloc[test_index]\n",
    "    y_train, y_test = df[y].iloc[train_index], df[y].iloc[test_index]\n",
    "    \n",
    "    ridgeReg = model.fit(X_train, y_train)\n",
    "    y_pred = model.predict(X_test)\n",
    "    \n",
    "    if mse == [0]:\n",
    "        mse = mean_squared_error(y_test, y_pred)\n",
    "        r2 = r2_score(y_test, y_pred)\n",
    "        pred = y_pred\n",
    "    else:\n",
    "        if mean_squared_error(y_test, y_pred) < mse:\n",
    "            mse = mean_squared_error(y_test, y_pred)\n",
    "            r2 = r2_score(y_test, y_pred)\n",
    "            pred = y_pred\n",
    "            fModel = ridgeReg\n",
    "print(f'MSE of ${mse:,.2f}')\n",
    "print(f'R2 of {(r2*100):,.2f}%')\n",
    "print(f'The model is {fModel}.')\n",
    "    "
   ]
  },
  {
   "cell_type": "code",
   "execution_count": null,
   "metadata": {},
   "outputs": [],
   "source": [
    "#    Submitting the assignment like this to make sure it's in. Will update later."
   ]
  }
 ],
 "metadata": {
  "colab": {
   "collapsed_sections": [],
   "name": "assignment_regression_classification_3.ipynb",
   "provenance": [],
   "version": "0.3.2"
  },
  "kernelspec": {
   "display_name": "Python 3",
   "language": "python",
   "name": "python3"
  },
  "language_info": {
   "codemirror_mode": {
    "name": "ipython",
    "version": 3
   },
   "file_extension": ".py",
   "mimetype": "text/x-python",
   "name": "python",
   "nbconvert_exporter": "python",
   "pygments_lexer": "ipython3",
   "version": "3.7.4"
  }
 },
 "nbformat": 4,
 "nbformat_minor": 1
}
