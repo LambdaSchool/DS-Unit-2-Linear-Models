{
  "nbformat": 4,
  "nbformat_minor": 0,
  "metadata": {
    "colab": {
      "name": "Xander_Bennett_DS7 -  assignment_regression_classification_3.ipynb",
      "version": "0.3.2",
      "provenance": [],
      "collapsed_sections": [],
      "include_colab_link": true
    },
    "kernelspec": {
      "name": "python3",
      "display_name": "Python 3"
    }
  },
  "cells": [
    {
      "cell_type": "markdown",
      "metadata": {
        "id": "view-in-github",
        "colab_type": "text"
      },
      "source": [
        "<a href=\"https://colab.research.google.com/github/xander-bennett/DS-Unit-2-Regression-Classification/blob/master/module3/Xander_Bennett_DS7_assignment_regression_classification_3.ipynb\" target=\"_parent\"><img src=\"https://colab.research.google.com/assets/colab-badge.svg\" alt=\"Open In Colab\"/></a>"
      ]
    },
    {
      "cell_type": "markdown",
      "metadata": {
        "id": "7IXUfiQ2UKj6",
        "colab_type": "text"
      },
      "source": [
        "Lambda School Data Science, Unit 2: Predictive Modeling\n",
        "\n",
        "# Regression & Classification, Module 3\n",
        "\n",
        "## Assignment\n",
        "\n",
        "We're going back to our other **New York City** real estate dataset. Instead of predicting apartment rents, you'll predict property sales prices.\n",
        "\n",
        "But not just for condos in Tribeca...\n",
        "\n",
        "Instead, predict property sales prices for **One Family Dwellings** (`BUILDING_CLASS_CATEGORY` == `'01 ONE FAMILY DWELLINGS'`) using a subset of the data where the **sale price was more than \\\\$100 thousand and less than $2 million.** \n",
        "\n",
        "The [NYC Department of Finance](https://www1.nyc.gov/site/finance/taxes/property-rolling-sales-data.page) has a glossary of property sales terms and NYC Building Class Code Descriptions. The data comes from the [NYC OpenData](https://data.cityofnewyork.us/browse?q=NYC%20calendar%20sales) portal.\n",
        "\n",
        "\n",
        "- [ ] Do train/test split. Use data from January — March 2019 to train. Use data from April 2019 to test.\n",
        "- [ ] Do exploratory visualizations with Seaborn.\n",
        "- [ ] Do one-hot encoding of categorical features.\n",
        "- [ ] Do feature selection with `SelectKBest`.\n",
        "- [ ] Fit a linear regression model with multiple features.\n",
        "- [ ] Get mean absolute error for the test set.\n",
        "- [ ] As always, commit your notebook to your fork of the GitHub repo.\n",
        "\n",
        "\n",
        "## Stretch Goals\n",
        "- [ ] Add your own stretch goal(s) !\n",
        "- [ ] Try [`RidgeCV`](https://scikit-learn.org/stable/modules/generated/sklearn.linear_model.RidgeCV.html) instead of Linear Regression, especially if your errors blow up! Watch [Aaron Gallant's 9 minute video on Ridge Regression](https://www.youtube.com/watch?v=XK5jkedy17w) to learn more.\n",
        "- [ ] Do [feature scaling](https://scikit-learn.org/stable/modules/preprocessing.html).\n",
        "- [ ] Learn more about feature selection:\n",
        "    - [\"Permutation importance\"](https://www.kaggle.com/dansbecker/permutation-importance)\n",
        "    - [scikit-learn's User Guide for Feature Selection](https://scikit-learn.org/stable/modules/feature_selection.html)\n",
        "    - [mlxtend](http://rasbt.github.io/mlxtend/) library\n",
        "    - scikit-learn-contrib libraries: [boruta_py](https://github.com/scikit-learn-contrib/boruta_py) & [stability-selection](https://github.com/scikit-learn-contrib/stability-selection)\n",
        "    - [_Feature Engineering and Selection_](http://www.feat.engineering/) by Kuhn & Johnson.\n",
        "- [ ] Try [statsmodels](https://www.statsmodels.org/stable/index.html) if you’re interested in more inferential statistical approach to linear regression and feature selection, looking at p values and 95% confidence intervals for the coefficients.\n",
        "- [ ] Read [_An Introduction to Statistical Learning_](http://faculty.marshall.usc.edu/gareth-james/ISL/ISLR%20Seventh%20Printing.pdf), Chapters 1-3, for more math & theory, but in an accessible, readable way (without an excessive amount of formulas or academic pre-requisites).\n",
        "(That book is good regardless of whether your cultural worldview is inferential statistics or predictive machine learning)\n",
        "- [ ] Read Leo Breiman's paper, [\"Statistical Modeling: The Two Cultures\"](https://projecteuclid.org/download/pdf_1/euclid.ss/1009213726)\n",
        "- [ ] Try [scikit-learn pipelines](https://scikit-learn.org/stable/modules/compose.html):\n",
        "\n",
        "> Pipeline can be used to chain multiple estimators into one. This is useful as there is often a fixed sequence of steps in processing the data, for example feature selection, normalization and classification. Pipeline serves multiple purposes here:\n",
        "\n",
        "> - **Convenience and encapsulation.** You only have to call fit and predict once on your data to fit a whole sequence of estimators.\n",
        "> - **Joint parameter selection.** You can grid search over parameters of all estimators in the pipeline at once.\n",
        "> - **Safety.** Pipelines help avoid leaking statistics from your test data into the trained model in cross-validation, by ensuring that the same samples are used to train the transformers and predictors."
      ]
    },
    {
      "cell_type": "code",
      "metadata": {
        "id": "o9eSnDYhUGD7",
        "colab_type": "code",
        "colab": {
          "base_uri": "https://localhost:8080/",
          "height": 1000
        },
        "outputId": "240d41bb-9fd3-4acd-b3fc-bf36bb99c1a5"
      },
      "source": [
        "# If you're in Colab...\n",
        "import os, sys\n",
        "in_colab = 'google.colab' in sys.modules\n",
        "\n",
        "if in_colab:\n",
        "    # Install required python packages:\n",
        "    # category_encoders, version >= 2.0\n",
        "    # pandas-profiling, version >= 2.0\n",
        "    # plotly, version >= 4.0\n",
        "    !pip install --upgrade category_encoders pandas-profiling plotly\n",
        "    \n",
        "    # Pull files from Github repo\n",
        "    os.chdir('/content')\n",
        "    !git init .\n",
        "    !git remote add origin https://github.com/LambdaSchool/DS-Unit-2-Regression-Classification.git\n",
        "    !git pull origin master\n",
        "    \n",
        "    # Change into directory for module\n",
        "    os.chdir('module3')"
      ],
      "execution_count": 1,
      "outputs": [
        {
          "output_type": "stream",
          "text": [
            "Requirement already up-to-date: category_encoders in /usr/local/lib/python3.6/dist-packages (2.0.0)\n",
            "Requirement already up-to-date: pandas-profiling in /usr/local/lib/python3.6/dist-packages (2.3.0)\n",
            "Requirement already up-to-date: plotly in /usr/local/lib/python3.6/dist-packages (4.1.1)\n",
            "Requirement already satisfied, skipping upgrade: scikit-learn>=0.20.0 in /usr/local/lib/python3.6/dist-packages (from category_encoders) (0.21.3)\n",
            "Requirement already satisfied, skipping upgrade: scipy>=0.19.0 in /usr/local/lib/python3.6/dist-packages (from category_encoders) (1.3.1)\n",
            "Requirement already satisfied, skipping upgrade: patsy>=0.4.1 in /usr/local/lib/python3.6/dist-packages (from category_encoders) (0.5.1)\n",
            "Requirement already satisfied, skipping upgrade: pandas>=0.21.1 in /usr/local/lib/python3.6/dist-packages (from category_encoders) (0.24.2)\n",
            "Requirement already satisfied, skipping upgrade: numpy>=1.11.3 in /usr/local/lib/python3.6/dist-packages (from category_encoders) (1.16.4)\n",
            "Requirement already satisfied, skipping upgrade: statsmodels>=0.6.1 in /usr/local/lib/python3.6/dist-packages (from category_encoders) (0.10.1)\n",
            "Requirement already satisfied, skipping upgrade: astropy in /usr/local/lib/python3.6/dist-packages (from pandas-profiling) (3.0.5)\n",
            "Requirement already satisfied, skipping upgrade: phik>=0.9.8 in /usr/local/lib/python3.6/dist-packages (from pandas-profiling) (0.9.8)\n",
            "Requirement already satisfied, skipping upgrade: jinja2>=2.8 in /usr/local/lib/python3.6/dist-packages (from pandas-profiling) (2.10.1)\n",
            "Requirement already satisfied, skipping upgrade: missingno>=0.4.2 in /usr/local/lib/python3.6/dist-packages (from pandas-profiling) (0.4.2)\n",
            "Requirement already satisfied, skipping upgrade: confuse>=1.0.0 in /usr/local/lib/python3.6/dist-packages (from pandas-profiling) (1.0.0)\n",
            "Requirement already satisfied, skipping upgrade: matplotlib>=1.4 in /usr/local/lib/python3.6/dist-packages (from pandas-profiling) (3.0.3)\n",
            "Requirement already satisfied, skipping upgrade: htmlmin>=0.1.12 in /usr/local/lib/python3.6/dist-packages (from pandas-profiling) (0.1.12)\n",
            "Requirement already satisfied, skipping upgrade: six in /usr/local/lib/python3.6/dist-packages (from plotly) (1.12.0)\n",
            "Requirement already satisfied, skipping upgrade: retrying>=1.3.3 in /usr/local/lib/python3.6/dist-packages (from plotly) (1.3.3)\n",
            "Requirement already satisfied, skipping upgrade: joblib>=0.11 in /usr/local/lib/python3.6/dist-packages (from scikit-learn>=0.20.0->category_encoders) (0.13.2)\n",
            "Requirement already satisfied, skipping upgrade: pytz>=2011k in /usr/local/lib/python3.6/dist-packages (from pandas>=0.21.1->category_encoders) (2018.9)\n",
            "Requirement already satisfied, skipping upgrade: python-dateutil>=2.5.0 in /usr/local/lib/python3.6/dist-packages (from pandas>=0.21.1->category_encoders) (2.5.3)\n",
            "Requirement already satisfied, skipping upgrade: pytest-pylint>=0.13.0 in /usr/local/lib/python3.6/dist-packages (from phik>=0.9.8->pandas-profiling) (0.14.1)\n",
            "Requirement already satisfied, skipping upgrade: nbconvert>=5.3.1 in /usr/local/lib/python3.6/dist-packages (from phik>=0.9.8->pandas-profiling) (5.6.0)\n",
            "Requirement already satisfied, skipping upgrade: numba>=0.38.1 in /usr/local/lib/python3.6/dist-packages (from phik>=0.9.8->pandas-profiling) (0.40.1)\n",
            "Requirement already satisfied, skipping upgrade: pytest>=4.0.2 in /usr/local/lib/python3.6/dist-packages (from phik>=0.9.8->pandas-profiling) (5.1.2)\n",
            "Requirement already satisfied, skipping upgrade: jupyter-client>=5.2.3 in /usr/local/lib/python3.6/dist-packages (from phik>=0.9.8->pandas-profiling) (5.3.1)\n",
            "Requirement already satisfied, skipping upgrade: MarkupSafe>=0.23 in /usr/local/lib/python3.6/dist-packages (from jinja2>=2.8->pandas-profiling) (1.1.1)\n",
            "Requirement already satisfied, skipping upgrade: seaborn in /usr/local/lib/python3.6/dist-packages (from missingno>=0.4.2->pandas-profiling) (0.9.0)\n",
            "Requirement already satisfied, skipping upgrade: pyyaml in /usr/local/lib/python3.6/dist-packages (from confuse>=1.0.0->pandas-profiling) (3.13)\n",
            "Requirement already satisfied, skipping upgrade: kiwisolver>=1.0.1 in /usr/local/lib/python3.6/dist-packages (from matplotlib>=1.4->pandas-profiling) (1.1.0)\n",
            "Requirement already satisfied, skipping upgrade: cycler>=0.10 in /usr/local/lib/python3.6/dist-packages (from matplotlib>=1.4->pandas-profiling) (0.10.0)\n",
            "Requirement already satisfied, skipping upgrade: pyparsing!=2.0.4,!=2.1.2,!=2.1.6,>=2.0.1 in /usr/local/lib/python3.6/dist-packages (from matplotlib>=1.4->pandas-profiling) (2.4.2)\n",
            "Requirement already satisfied, skipping upgrade: pylint>=1.4.5 in /usr/local/lib/python3.6/dist-packages (from pytest-pylint>=0.13.0->phik>=0.9.8->pandas-profiling) (2.3.1)\n",
            "Requirement already satisfied, skipping upgrade: pandocfilters>=1.4.1 in /usr/local/lib/python3.6/dist-packages (from nbconvert>=5.3.1->phik>=0.9.8->pandas-profiling) (1.4.2)\n",
            "Requirement already satisfied, skipping upgrade: testpath in /usr/local/lib/python3.6/dist-packages (from nbconvert>=5.3.1->phik>=0.9.8->pandas-profiling) (0.4.2)\n",
            "Requirement already satisfied, skipping upgrade: pygments in /usr/local/lib/python3.6/dist-packages (from nbconvert>=5.3.1->phik>=0.9.8->pandas-profiling) (2.1.3)\n",
            "Requirement already satisfied, skipping upgrade: bleach in /usr/local/lib/python3.6/dist-packages (from nbconvert>=5.3.1->phik>=0.9.8->pandas-profiling) (3.1.0)\n",
            "Requirement already satisfied, skipping upgrade: entrypoints>=0.2.2 in /usr/local/lib/python3.6/dist-packages (from nbconvert>=5.3.1->phik>=0.9.8->pandas-profiling) (0.3)\n",
            "Requirement already satisfied, skipping upgrade: defusedxml in /usr/local/lib/python3.6/dist-packages (from nbconvert>=5.3.1->phik>=0.9.8->pandas-profiling) (0.6.0)\n",
            "Requirement already satisfied, skipping upgrade: jupyter-core in /usr/local/lib/python3.6/dist-packages (from nbconvert>=5.3.1->phik>=0.9.8->pandas-profiling) (4.5.0)\n",
            "Requirement already satisfied, skipping upgrade: nbformat>=4.4 in /usr/local/lib/python3.6/dist-packages (from nbconvert>=5.3.1->phik>=0.9.8->pandas-profiling) (4.4.0)\n",
            "Requirement already satisfied, skipping upgrade: traitlets>=4.2 in /usr/local/lib/python3.6/dist-packages (from nbconvert>=5.3.1->phik>=0.9.8->pandas-profiling) (4.3.2)\n",
            "Requirement already satisfied, skipping upgrade: mistune<2,>=0.8.1 in /usr/local/lib/python3.6/dist-packages (from nbconvert>=5.3.1->phik>=0.9.8->pandas-profiling) (0.8.4)\n",
            "Requirement already satisfied, skipping upgrade: llvmlite>=0.25.0dev0 in /usr/local/lib/python3.6/dist-packages (from numba>=0.38.1->phik>=0.9.8->pandas-profiling) (0.29.0)\n",
            "Requirement already satisfied, skipping upgrade: attrs>=17.4.0 in /usr/local/lib/python3.6/dist-packages (from pytest>=4.0.2->phik>=0.9.8->pandas-profiling) (19.1.0)\n",
            "Requirement already satisfied, skipping upgrade: atomicwrites>=1.0 in /usr/local/lib/python3.6/dist-packages (from pytest>=4.0.2->phik>=0.9.8->pandas-profiling) (1.3.0)\n",
            "Requirement already satisfied, skipping upgrade: importlib-metadata>=0.12; python_version < \"3.8\" in /usr/local/lib/python3.6/dist-packages (from pytest>=4.0.2->phik>=0.9.8->pandas-profiling) (0.19)\n",
            "Requirement already satisfied, skipping upgrade: pluggy<1.0,>=0.12 in /usr/local/lib/python3.6/dist-packages (from pytest>=4.0.2->phik>=0.9.8->pandas-profiling) (0.12.0)\n",
            "Requirement already satisfied, skipping upgrade: packaging in /usr/local/lib/python3.6/dist-packages (from pytest>=4.0.2->phik>=0.9.8->pandas-profiling) (19.1)\n",
            "Requirement already satisfied, skipping upgrade: wcwidth in /usr/local/lib/python3.6/dist-packages (from pytest>=4.0.2->phik>=0.9.8->pandas-profiling) (0.1.7)\n",
            "Requirement already satisfied, skipping upgrade: more-itertools>=4.0.0 in /usr/local/lib/python3.6/dist-packages (from pytest>=4.0.2->phik>=0.9.8->pandas-profiling) (7.2.0)\n",
            "Requirement already satisfied, skipping upgrade: py>=1.5.0 in /usr/local/lib/python3.6/dist-packages (from pytest>=4.0.2->phik>=0.9.8->pandas-profiling) (1.8.0)\n",
            "Requirement already satisfied, skipping upgrade: pyzmq>=13 in /usr/local/lib/python3.6/dist-packages (from jupyter-client>=5.2.3->phik>=0.9.8->pandas-profiling) (17.0.0)\n",
            "Requirement already satisfied, skipping upgrade: tornado>=4.1 in /usr/local/lib/python3.6/dist-packages (from jupyter-client>=5.2.3->phik>=0.9.8->pandas-profiling) (4.5.3)\n",
            "Requirement already satisfied, skipping upgrade: setuptools in /usr/local/lib/python3.6/dist-packages (from kiwisolver>=1.0.1->matplotlib>=1.4->pandas-profiling) (41.2.0)\n",
            "Requirement already satisfied, skipping upgrade: isort<5,>=4.2.5 in /usr/local/lib/python3.6/dist-packages (from pylint>=1.4.5->pytest-pylint>=0.13.0->phik>=0.9.8->pandas-profiling) (4.3.21)\n",
            "Requirement already satisfied, skipping upgrade: astroid<3,>=2.2.0 in /usr/local/lib/python3.6/dist-packages (from pylint>=1.4.5->pytest-pylint>=0.13.0->phik>=0.9.8->pandas-profiling) (2.2.5)\n",
            "Requirement already satisfied, skipping upgrade: mccabe<0.7,>=0.6 in /usr/local/lib/python3.6/dist-packages (from pylint>=1.4.5->pytest-pylint>=0.13.0->phik>=0.9.8->pandas-profiling) (0.6.1)\n",
            "Requirement already satisfied, skipping upgrade: webencodings in /usr/local/lib/python3.6/dist-packages (from bleach->nbconvert>=5.3.1->phik>=0.9.8->pandas-profiling) (0.5.1)\n",
            "Requirement already satisfied, skipping upgrade: jsonschema!=2.5.0,>=2.4 in /usr/local/lib/python3.6/dist-packages (from nbformat>=4.4->nbconvert>=5.3.1->phik>=0.9.8->pandas-profiling) (2.6.0)\n",
            "Requirement already satisfied, skipping upgrade: ipython-genutils in /usr/local/lib/python3.6/dist-packages (from nbformat>=4.4->nbconvert>=5.3.1->phik>=0.9.8->pandas-profiling) (0.2.0)\n",
            "Requirement already satisfied, skipping upgrade: decorator in /usr/local/lib/python3.6/dist-packages (from traitlets>=4.2->nbconvert>=5.3.1->phik>=0.9.8->pandas-profiling) (4.4.0)\n",
            "Requirement already satisfied, skipping upgrade: zipp>=0.5 in /usr/local/lib/python3.6/dist-packages (from importlib-metadata>=0.12; python_version < \"3.8\"->pytest>=4.0.2->phik>=0.9.8->pandas-profiling) (0.6.0)\n",
            "Requirement already satisfied, skipping upgrade: lazy-object-proxy in /usr/local/lib/python3.6/dist-packages (from astroid<3,>=2.2.0->pylint>=1.4.5->pytest-pylint>=0.13.0->phik>=0.9.8->pandas-profiling) (1.4.2)\n",
            "Requirement already satisfied, skipping upgrade: wrapt in /usr/local/lib/python3.6/dist-packages (from astroid<3,>=2.2.0->pylint>=1.4.5->pytest-pylint>=0.13.0->phik>=0.9.8->pandas-profiling) (1.11.2)\n",
            "Requirement already satisfied, skipping upgrade: typed-ast>=1.3.0; implementation_name == \"cpython\" in /usr/local/lib/python3.6/dist-packages (from astroid<3,>=2.2.0->pylint>=1.4.5->pytest-pylint>=0.13.0->phik>=0.9.8->pandas-profiling) (1.4.0)\n",
            "Reinitialized existing Git repository in /content/.git/\n",
            "fatal: remote origin already exists.\n",
            "From https://github.com/LambdaSchool/DS-Unit-2-Regression-Classification\n",
            " * branch            master     -> FETCH_HEAD\n",
            "Already up to date.\n"
          ],
          "name": "stdout"
        }
      ]
    },
    {
      "cell_type": "code",
      "metadata": {
        "id": "ipBYS77PUwNR",
        "colab_type": "code",
        "colab": {}
      },
      "source": [
        "# Ignore this Numpy warning when using Plotly Express:\n",
        "# FutureWarning: Method .ptp is deprecated and will be removed in a future version. Use numpy.ptp instead.\n",
        "import warnings\n",
        "warnings.filterwarnings(action='ignore', category=FutureWarning, module='numpy')"
      ],
      "execution_count": 0,
      "outputs": []
    },
    {
      "cell_type": "code",
      "metadata": {
        "id": "QJBD4ruICm1m",
        "colab_type": "code",
        "colab": {}
      },
      "source": [
        "import pandas as pd\n",
        "import pandas_profiling\n",
        "\n",
        "# Read New York City property sales data\n",
        "df = pd.read_csv('../data/NYC_Citywide_Rolling_Calendar_Sales.csv')\n",
        "\n",
        "# Change column names: replace spaces with underscores\n",
        "df.columns = [col.replace(' ', '_') for col in df]\n",
        "\n",
        "# SALE_PRICE was read as strings.\n",
        "# Remove symbols, convert to integer\n",
        "df['SALE_PRICE'] = (\n",
        "    df['SALE_PRICE']\n",
        "    .str.replace('$','')\n",
        "    .str.replace('-','')\n",
        "    .str.replace(',','')\n",
        "    .astype(int)\n",
        ")"
      ],
      "execution_count": 0,
      "outputs": []
    },
    {
      "cell_type": "code",
      "metadata": {
        "id": "thoC5PkYMycS",
        "colab_type": "code",
        "colab": {
          "base_uri": "https://localhost:8080/",
          "height": 51
        },
        "outputId": "5d19df8a-52ba-4442-a9a6-a66dc31ea77e"
      },
      "source": [
        "# Filtering down to the one family dwellings\n",
        "df = df[df['BUILDING_CLASS_CATEGORY'] == '01 ONE FAMILY DWELLINGS']\n",
        "df.BUILDING_CLASS_CATEGORY.value_counts()"
      ],
      "execution_count": 4,
      "outputs": [
        {
          "output_type": "execute_result",
          "data": {
            "text/plain": [
              "01 ONE FAMILY DWELLINGS    5061\n",
              "Name: BUILDING_CLASS_CATEGORY, dtype: int64"
            ]
          },
          "metadata": {
            "tags": []
          },
          "execution_count": 4
        }
      ]
    },
    {
      "cell_type": "code",
      "metadata": {
        "id": "xJNgkdKrNQDY",
        "colab_type": "code",
        "colab": {
          "base_uri": "https://localhost:8080/",
          "height": 170
        },
        "outputId": "9127a33f-5e31-4ad7-a036-fd266986e20e"
      },
      "source": [
        "# Now filtering for the sales price\n",
        "# Not readable. Will remove scientific notation\n",
        "df = df[(df['SALE_PRICE'] >= 100000) & \n",
        "        (df['SALE_PRICE'] < 2000000)]\n",
        "\n",
        "df.SALE_PRICE.describe()"
      ],
      "execution_count": 5,
      "outputs": [
        {
          "output_type": "execute_result",
          "data": {
            "text/plain": [
              "count    3.161000e+03\n",
              "mean     6.268880e+05\n",
              "std      2.940289e+05\n",
              "min      1.000000e+05\n",
              "25%      4.450000e+05\n",
              "50%      5.650000e+05\n",
              "75%      7.590000e+05\n",
              "max      1.955000e+06\n",
              "Name: SALE_PRICE, dtype: float64"
            ]
          },
          "metadata": {
            "tags": []
          },
          "execution_count": 5
        }
      ]
    },
    {
      "cell_type": "code",
      "metadata": {
        "id": "lWvRfJfJOmQJ",
        "colab_type": "code",
        "colab": {
          "base_uri": "https://localhost:8080/",
          "height": 170
        },
        "outputId": "500c3c86-db97-43bc-ce5b-7e205d6e8ed5"
      },
      "source": [
        "# Removing scientific notation\n",
        "pd.options.display.float_format = '{:,.0f}'.format\n",
        "\n",
        "df.SALE_PRICE.describe()"
      ],
      "execution_count": 6,
      "outputs": [
        {
          "output_type": "execute_result",
          "data": {
            "text/plain": [
              "count       3,161\n",
              "mean      626,888\n",
              "std       294,029\n",
              "min       100,000\n",
              "25%       445,000\n",
              "50%       565,000\n",
              "75%       759,000\n",
              "max     1,955,000\n",
              "Name: SALE_PRICE, dtype: float64"
            ]
          },
          "metadata": {
            "tags": []
          },
          "execution_count": 6
        }
      ]
    },
    {
      "cell_type": "code",
      "metadata": {
        "id": "IPrl4_Tp-4az",
        "colab_type": "code",
        "colab": {
          "base_uri": "https://localhost:8080/",
          "height": 136
        },
        "outputId": "721851f3-8b22-4395-9f01-b58d157e4370"
      },
      "source": [
        "# Doing train/test/split\n",
        "# First, I will convert to datetime and look at the data range\n",
        "df['SALE_DATE'] = pd.to_datetime(df['SALE_DATE'], infer_datetime_format=True)\n",
        "df['SALE_DATE'].describe()"
      ],
      "execution_count": 7,
      "outputs": [
        {
          "output_type": "execute_result",
          "data": {
            "text/plain": [
              "count                    3161\n",
              "unique                     91\n",
              "top       2019-01-31 00:00:00\n",
              "freq                       78\n",
              "first     2019-01-01 00:00:00\n",
              "last      2019-04-30 00:00:00\n",
              "Name: SALE_DATE, dtype: object"
            ]
          },
          "metadata": {
            "tags": []
          },
          "execution_count": 7
        }
      ]
    },
    {
      "cell_type": "code",
      "metadata": {
        "id": "HrsvUwT8DPE9",
        "colab_type": "code",
        "colab": {
          "base_uri": "https://localhost:8080/",
          "height": 102
        },
        "outputId": "84b32758-11ea-4610-9fbb-f55d1f852c4f"
      },
      "source": [
        "df['SALE_DATE'].dt.month.value_counts()"
      ],
      "execution_count": 8,
      "outputs": [
        {
          "output_type": "execute_result",
          "data": {
            "text/plain": [
              "1    952\n",
              "3    801\n",
              "2    762\n",
              "4    646\n",
              "Name: SALE_DATE, dtype: int64"
            ]
          },
          "metadata": {
            "tags": []
          },
          "execution_count": 8
        }
      ]
    },
    {
      "cell_type": "code",
      "metadata": {
        "id": "A_OKHQHpGTae",
        "colab_type": "code",
        "colab": {
          "base_uri": "https://localhost:8080/",
          "height": 34
        },
        "outputId": "bdb9d0ec-bab2-4ba9-ac40-60aa6a08df0c"
      },
      "source": [
        "test = df[df.SALE_DATE.dt.month==4]\n",
        "train = df[df.SALE_DATE.dt.month<4]\n",
        "train.shape, test.shape"
      ],
      "execution_count": 9,
      "outputs": [
        {
          "output_type": "execute_result",
          "data": {
            "text/plain": [
              "((2515, 21), (646, 21))"
            ]
          },
          "metadata": {
            "tags": []
          },
          "execution_count": 9
        }
      ]
    },
    {
      "cell_type": "code",
      "metadata": {
        "id": "rlrg5EF8J9Cz",
        "colab_type": "code",
        "colab": {
          "base_uri": "https://localhost:8080/",
          "height": 323
        },
        "outputId": "17231aca-94a2-4b8a-8003-44d80aa4398c"
      },
      "source": [
        "# BOROUGH is a numeric column, but arguably should be a categorical feature,\n",
        "# so convert it from a number to a string\n",
        "train['BOROUGH'] = train['BOROUGH'].astype(str)\n",
        "test['BOROUGH'] = test['BOROUGH'].astype(str)\n",
        "\n",
        "# Reduce cardinality for NEIGHBORHOOD feature\n",
        "\n",
        "# Get a list of the top 10 neighborhoods\n",
        "top10 = train['NEIGHBORHOOD'].value_counts()[:10].index\n",
        "\n",
        "# At locations where the neighborhood is NOT in the top 10, \n",
        "# replace the neighborhood with 'OTHER'\n",
        "train.loc[~train['NEIGHBORHOOD'].isin(top10), 'NEIGHBORHOOD'] = 'OTHER'\n",
        "test.loc[~test['NEIGHBORHOOD'].isin(top10), 'NEIGHBORHOOD'] = 'OTHER'"
      ],
      "execution_count": 10,
      "outputs": [
        {
          "output_type": "stream",
          "text": [
            "/usr/local/lib/python3.6/dist-packages/ipykernel_launcher.py:1: SettingWithCopyWarning: \n",
            "A value is trying to be set on a copy of a slice from a DataFrame.\n",
            "Try using .loc[row_indexer,col_indexer] = value instead\n",
            "\n",
            "See the caveats in the documentation: http://pandas.pydata.org/pandas-docs/stable/indexing.html#indexing-view-versus-copy\n",
            "  \"\"\"Entry point for launching an IPython kernel.\n",
            "/usr/local/lib/python3.6/dist-packages/ipykernel_launcher.py:2: SettingWithCopyWarning: \n",
            "A value is trying to be set on a copy of a slice from a DataFrame.\n",
            "Try using .loc[row_indexer,col_indexer] = value instead\n",
            "\n",
            "See the caveats in the documentation: http://pandas.pydata.org/pandas-docs/stable/indexing.html#indexing-view-versus-copy\n",
            "  \n",
            "/usr/local/lib/python3.6/dist-packages/pandas/core/indexing.py:543: SettingWithCopyWarning: \n",
            "A value is trying to be set on a copy of a slice from a DataFrame.\n",
            "Try using .loc[row_indexer,col_indexer] = value instead\n",
            "\n",
            "See the caveats in the documentation: http://pandas.pydata.org/pandas-docs/stable/indexing.html#indexing-view-versus-copy\n",
            "  self.obj[item] = s\n"
          ],
          "name": "stderr"
        }
      ]
    },
    {
      "cell_type": "code",
      "metadata": {
        "id": "fzwzNOBZMtmQ",
        "colab_type": "code",
        "colab": {}
      },
      "source": [
        "import plotly.express as px\n",
        "%matplotlib inline\n",
        "import matplotlib.pyplot as plt\n",
        "import seaborn as sns"
      ],
      "execution_count": 0,
      "outputs": []
    },
    {
      "cell_type": "code",
      "metadata": {
        "id": "azb4G40sSBC-",
        "colab_type": "code",
        "colab": {
          "base_uri": "https://localhost:8080/",
          "height": 360
        },
        "outputId": "c7c4bcaa-f546-4ae7-f9c2-683ed279d0e0"
      },
      "source": [
        "df.head()"
      ],
      "execution_count": 12,
      "outputs": [
        {
          "output_type": "execute_result",
          "data": {
            "text/html": [
              "<div>\n",
              "<style scoped>\n",
              "    .dataframe tbody tr th:only-of-type {\n",
              "        vertical-align: middle;\n",
              "    }\n",
              "\n",
              "    .dataframe tbody tr th {\n",
              "        vertical-align: top;\n",
              "    }\n",
              "\n",
              "    .dataframe thead th {\n",
              "        text-align: right;\n",
              "    }\n",
              "</style>\n",
              "<table border=\"1\" class=\"dataframe\">\n",
              "  <thead>\n",
              "    <tr style=\"text-align: right;\">\n",
              "      <th></th>\n",
              "      <th>BOROUGH</th>\n",
              "      <th>NEIGHBORHOOD</th>\n",
              "      <th>BUILDING_CLASS_CATEGORY</th>\n",
              "      <th>TAX_CLASS_AT_PRESENT</th>\n",
              "      <th>BLOCK</th>\n",
              "      <th>LOT</th>\n",
              "      <th>EASE-MENT</th>\n",
              "      <th>BUILDING_CLASS_AT_PRESENT</th>\n",
              "      <th>ADDRESS</th>\n",
              "      <th>APARTMENT_NUMBER</th>\n",
              "      <th>ZIP_CODE</th>\n",
              "      <th>RESIDENTIAL_UNITS</th>\n",
              "      <th>COMMERCIAL_UNITS</th>\n",
              "      <th>TOTAL_UNITS</th>\n",
              "      <th>LAND_SQUARE_FEET</th>\n",
              "      <th>GROSS_SQUARE_FEET</th>\n",
              "      <th>YEAR_BUILT</th>\n",
              "      <th>TAX_CLASS_AT_TIME_OF_SALE</th>\n",
              "      <th>BUILDING_CLASS_AT_TIME_OF_SALE</th>\n",
              "      <th>SALE_PRICE</th>\n",
              "      <th>SALE_DATE</th>\n",
              "    </tr>\n",
              "  </thead>\n",
              "  <tbody>\n",
              "    <tr>\n",
              "      <th>44</th>\n",
              "      <td>3</td>\n",
              "      <td>OCEAN PARKWAY-NORTH</td>\n",
              "      <td>01 ONE FAMILY DWELLINGS</td>\n",
              "      <td>1</td>\n",
              "      <td>5495</td>\n",
              "      <td>801</td>\n",
              "      <td>nan</td>\n",
              "      <td>A9</td>\n",
              "      <td>4832 BAY PARKWAY</td>\n",
              "      <td>NaN</td>\n",
              "      <td>11,230</td>\n",
              "      <td>1</td>\n",
              "      <td>0</td>\n",
              "      <td>1</td>\n",
              "      <td>6,800</td>\n",
              "      <td>1,325</td>\n",
              "      <td>1,930</td>\n",
              "      <td>1</td>\n",
              "      <td>A9</td>\n",
              "      <td>550000</td>\n",
              "      <td>2019-01-01</td>\n",
              "    </tr>\n",
              "    <tr>\n",
              "      <th>61</th>\n",
              "      <td>4</td>\n",
              "      <td>QUEENS VILLAGE</td>\n",
              "      <td>01 ONE FAMILY DWELLINGS</td>\n",
              "      <td>1</td>\n",
              "      <td>7918</td>\n",
              "      <td>72</td>\n",
              "      <td>nan</td>\n",
              "      <td>A1</td>\n",
              "      <td>80-23 232ND STREET</td>\n",
              "      <td>NaN</td>\n",
              "      <td>11,427</td>\n",
              "      <td>1</td>\n",
              "      <td>0</td>\n",
              "      <td>1</td>\n",
              "      <td>4,000</td>\n",
              "      <td>2,001</td>\n",
              "      <td>1,940</td>\n",
              "      <td>1</td>\n",
              "      <td>A1</td>\n",
              "      <td>200000</td>\n",
              "      <td>2019-01-01</td>\n",
              "    </tr>\n",
              "    <tr>\n",
              "      <th>78</th>\n",
              "      <td>2</td>\n",
              "      <td>PELHAM PARKWAY SOUTH</td>\n",
              "      <td>01 ONE FAMILY DWELLINGS</td>\n",
              "      <td>1</td>\n",
              "      <td>4210</td>\n",
              "      <td>19</td>\n",
              "      <td>nan</td>\n",
              "      <td>A1</td>\n",
              "      <td>1260 RHINELANDER AVE</td>\n",
              "      <td>NaN</td>\n",
              "      <td>10,461</td>\n",
              "      <td>1</td>\n",
              "      <td>0</td>\n",
              "      <td>1</td>\n",
              "      <td>3,500</td>\n",
              "      <td>2,043</td>\n",
              "      <td>1,925</td>\n",
              "      <td>1</td>\n",
              "      <td>A1</td>\n",
              "      <td>810000</td>\n",
              "      <td>2019-01-02</td>\n",
              "    </tr>\n",
              "    <tr>\n",
              "      <th>108</th>\n",
              "      <td>3</td>\n",
              "      <td>FLATBUSH-CENTRAL</td>\n",
              "      <td>01 ONE FAMILY DWELLINGS</td>\n",
              "      <td>1</td>\n",
              "      <td>5212</td>\n",
              "      <td>69</td>\n",
              "      <td>nan</td>\n",
              "      <td>A1</td>\n",
              "      <td>469 E 25TH ST</td>\n",
              "      <td>NaN</td>\n",
              "      <td>11,226</td>\n",
              "      <td>1</td>\n",
              "      <td>0</td>\n",
              "      <td>1</td>\n",
              "      <td>4,000</td>\n",
              "      <td>2,680</td>\n",
              "      <td>1,899</td>\n",
              "      <td>1</td>\n",
              "      <td>A1</td>\n",
              "      <td>125000</td>\n",
              "      <td>2019-01-02</td>\n",
              "    </tr>\n",
              "    <tr>\n",
              "      <th>111</th>\n",
              "      <td>3</td>\n",
              "      <td>FLATBUSH-EAST</td>\n",
              "      <td>01 ONE FAMILY DWELLINGS</td>\n",
              "      <td>1</td>\n",
              "      <td>7930</td>\n",
              "      <td>121</td>\n",
              "      <td>nan</td>\n",
              "      <td>A5</td>\n",
              "      <td>5521 WHITTY LANE</td>\n",
              "      <td>NaN</td>\n",
              "      <td>11,203</td>\n",
              "      <td>1</td>\n",
              "      <td>0</td>\n",
              "      <td>1</td>\n",
              "      <td>1,710</td>\n",
              "      <td>1,872</td>\n",
              "      <td>1,940</td>\n",
              "      <td>1</td>\n",
              "      <td>A5</td>\n",
              "      <td>620000</td>\n",
              "      <td>2019-01-02</td>\n",
              "    </tr>\n",
              "  </tbody>\n",
              "</table>\n",
              "</div>"
            ],
            "text/plain": [
              "     BOROUGH          NEIGHBORHOOD  ... SALE_PRICE  SALE_DATE\n",
              "44         3   OCEAN PARKWAY-NORTH  ...     550000 2019-01-01\n",
              "61         4        QUEENS VILLAGE  ...     200000 2019-01-01\n",
              "78         2  PELHAM PARKWAY SOUTH  ...     810000 2019-01-02\n",
              "108        3      FLATBUSH-CENTRAL  ...     125000 2019-01-02\n",
              "111        3         FLATBUSH-EAST  ...     620000 2019-01-02\n",
              "\n",
              "[5 rows x 21 columns]"
            ]
          },
          "metadata": {
            "tags": []
          },
          "execution_count": 12
        }
      ]
    },
    {
      "cell_type": "code",
      "metadata": {
        "id": "0xopUTQSPJJ4",
        "colab_type": "code",
        "colab": {
          "base_uri": "https://localhost:8080/",
          "height": 153
        },
        "outputId": "136041a9-1216-42db-c98e-4431ac32bd14"
      },
      "source": [
        "df.columns"
      ],
      "execution_count": 13,
      "outputs": [
        {
          "output_type": "execute_result",
          "data": {
            "text/plain": [
              "Index(['BOROUGH', 'NEIGHBORHOOD', 'BUILDING_CLASS_CATEGORY',\n",
              "       'TAX_CLASS_AT_PRESENT', 'BLOCK', 'LOT', 'EASE-MENT',\n",
              "       'BUILDING_CLASS_AT_PRESENT', 'ADDRESS', 'APARTMENT_NUMBER', 'ZIP_CODE',\n",
              "       'RESIDENTIAL_UNITS', 'COMMERCIAL_UNITS', 'TOTAL_UNITS',\n",
              "       'LAND_SQUARE_FEET', 'GROSS_SQUARE_FEET', 'YEAR_BUILT',\n",
              "       'TAX_CLASS_AT_TIME_OF_SALE', 'BUILDING_CLASS_AT_TIME_OF_SALE',\n",
              "       'SALE_PRICE', 'SALE_DATE'],\n",
              "      dtype='object')"
            ]
          },
          "metadata": {
            "tags": []
          },
          "execution_count": 13
        }
      ]
    },
    {
      "cell_type": "code",
      "metadata": {
        "id": "rpqtnhsqSZ3e",
        "colab_type": "code",
        "colab": {
          "base_uri": "https://localhost:8080/",
          "height": 119
        },
        "outputId": "77f4a1b4-1b8d-485e-aa8e-6b80c17d8229"
      },
      "source": [
        "train.BOROUGH.value_counts()"
      ],
      "execution_count": 14,
      "outputs": [
        {
          "output_type": "execute_result",
          "data": {
            "text/plain": [
              "4    1209\n",
              "5     664\n",
              "3     399\n",
              "2     242\n",
              "1       1\n",
              "Name: BOROUGH, dtype: int64"
            ]
          },
          "metadata": {
            "tags": []
          },
          "execution_count": 14
        }
      ]
    },
    {
      "cell_type": "code",
      "metadata": {
        "id": "bUe9NcksPVbT",
        "colab_type": "code",
        "colab": {
          "base_uri": "https://localhost:8080/",
          "height": 617
        },
        "outputId": "42250a04-322c-4902-f8d1-3dbc259e27b5"
      },
      "source": [
        "px.scatter(train, x='GROSS_SQUARE_FEET',y='SALE_PRICE',trendline='ols')"
      ],
      "execution_count": 15,
      "outputs": [
        {
          "output_type": "display_data",
          "data": {
            "text/html": [
              "<html>\n",
              "<head><meta charset=\"utf-8\" /></head>\n",
              "<body>\n",
              "    <div>\n",
              "            <script src=\"https://cdnjs.cloudflare.com/ajax/libs/mathjax/2.7.5/MathJax.js?config=TeX-AMS-MML_SVG\"></script><script type=\"text/javascript\">if (window.MathJax) {MathJax.Hub.Config({SVG: {font: \"STIX-Web\"}});}</script>\n",
              "                <script type=\"text/javascript\">window.PlotlyConfig = {MathJaxConfig: 'local'};</script>\n",
              "        <script src=\"https://cdn.plot.ly/plotly-latest.min.js\"></script>    \n",
              "            <div id=\"a69456ba-625f-4122-8a20-ebfe3b6a49de\" class=\"plotly-graph-div\" style=\"height:600px; width:100%;\"></div>\n",
              "            <script type=\"text/javascript\">\n",
              "                \n",
              "                    window.PLOTLYENV=window.PLOTLYENV || {};\n",
              "                    \n",
              "                if (document.getElementById(\"a69456ba-625f-4122-8a20-ebfe3b6a49de\")) {\n",
              "                    Plotly.newPlot(\n",
              "                        'a69456ba-625f-4122-8a20-ebfe3b6a49de',\n",
              "                        [{\"hoverlabel\": {\"namelength\": 0}, \"hovertemplate\": \"GROSS_SQUARE_FEET=%{x}<br>SALE_PRICE=%{y}\", \"legendgroup\": \"\", \"marker\": {\"color\": \"#636efa\", \"symbol\": \"circle\"}, \"mode\": \"markers\", \"name\": \"\", \"showlegend\": false, \"type\": \"scattergl\", \"x\": [1325.0, 2001.0, 2043.0, 2680.0, 1872.0, 1932.0, 1722.0, 1396.0, 1260.0, 1440.0, 1831.0, 1000.0, 1540.0, 1782.0, 3203.0, 1535.0, 1280.0, 1426.0, 900.0, 2278.0, 1392.0, 736.0, 1850.0, 1296.0, 1869.0, 1120.0, 3004.0, 1280.0, 1949.0, 1368.0, 2394.0, 1296.0, 1544.0, 1344.0, 2222.0, 1480.0, 1780.0, 2808.0, 1184.0, 1638.0, 1601.0, 1530.0, 1418.0, 3228.0, 2175.0, 1540.0, 1758.0, 880.0, 1120.0, 1377.0, 1216.0, 1487.0, 1008.0, 880.0, 2208.0, 2130.0, 1645.0, 2087.0, 1888.0, 1428.0, 1230.0, 3050.0, 1557.0, 1620.0, 1727.0, 1748.0, 2877.0, 1134.0, 784.0, 1036.0, 1316.0, 1086.0, 1080.0, 1592.0, 2268.0, 1422.0, 1080.0, 864.0, 1332.0, 1528.0, 1344.0, 540.0, 1258.0, 1440.0, 1280.0, 1190.0, 1380.0, 1190.0, 1280.0, 1440.0, 1399.0, 1455.0, 1384.0, 1060.0, 1252.0, 2160.0, 1152.0, 1620.0, 1782.0, 1485.0, 1400.0, 1982.0, 1134.0, 1500.0, 1072.0, 1024.0, 1008.0, 1248.0, 1428.0, 1031.0, 1653.0, 1913.0, 1104.0, 1648.0, 1234.0, 1000.0, 1688.0, 988.0, 900.0, 1888.0, 1888.0, 1600.0, 944.0, 2700.0, 2365.0, 1900.0, 1965.0, 1440.0, 1660.0, 992.0, 1620.0, 1440.0, 1812.0, 1360.0, 2063.0, 744.0, 1088.0, 0.0, 2360.0, 1860.0, 1023.0, 1683.0, 1214.0, 1844.0, 1428.0, 969.0, 1328.0, 1600.0, 1200.0, 2455.0, 2052.0, 1008.0, 1152.0, 1345.0, 1200.0, 2814.0, 1360.0, 1578.0, 2205.0, 1200.0, 1450.0, 1648.0, 1100.0, 1280.0, 1116.0, 1360.0, 880.0, 1991.0, 1452.0, 956.0, 1840.0, 1282.0, 1434.0, 1594.0, 0.0, 1650.0, 1610.0, 1612.0, 2050.0, 1464.0, 1300.0, 1454.0, 1836.0, 1560.0, 1224.0, 1999.0, 1184.0, 1312.0, 912.0, 840.0, 1330.0, 1980.0, 1314.0, 1800.0, 2406.0, 1248.0, 1480.0, 870.0, 1394.0, 1440.0, 760.0, 2916.0, 1836.0, 2640.0, 2007.0, 1024.0, 1500.0, 1448.0, 1648.0, 1180.0, 1064.0, 864.0, 1632.0, 1296.0, 2596.0, 1432.0, 1444.0, 1378.0, 1324.0, 1170.0, 1176.0, 910.0, 1522.0, 1288.0, 1368.0, 1504.0, 1035.0, 1608.0, 1623.0, 1224.0, 1144.0, 912.0, 960.0, 1400.0, 1496.0, 600.0, 2008.0, 1640.0, 1520.0, 1975.0, 704.0, 1896.0, 1144.0, 1160.0, 2140.0, 2187.0, 1914.0, 1980.0, 1600.0, 1998.0, 1044.0, 1760.0, 1116.0, 828.0, 1134.0, 3000.0, 1370.0, 0.0, 0.0, 1125.0, 2112.0, 1789.0, 1374.0, 1318.0, 2000.0, 1330.0, 1105.0, 1586.0, 1116.0, 1776.0, 1426.0, 1962.0, 1808.0, 960.0, 940.0, 1050.0, 2416.0, 1304.0, 900.0, 1050.0, 1813.0, 1400.0, 1200.0, 1120.0, 1622.0, 2600.0, 2300.0, 2650.0, 1242.0, 1360.0, 1650.0, 1088.0, 1520.0, 1512.0, 2048.0, 2608.0, 1776.0, 1476.0, 1751.0, 1910.0, 1056.0, 1280.0, 1172.0, 1224.0, 2101.0, 1476.0, 1683.0, 1760.0, 1400.0, 976.0, 1110.0, 1778.0, 1126.0, 1086.0, 1568.0, 625.0, 1144.0, 1434.0, 1564.0, 1182.0, 1080.0, 1050.0, 2888.0, 1466.0, 1188.0, 1116.0, 1224.0, 1908.0, 0.0, 1186.0, 1030.0, 1280.0, 1248.0, 1118.0, 680.0, 676.0, 1635.0, 2831.0, 1036.0, 1038.0, 1680.0, 1660.0, 1438.0, 1152.0, 1125.0, 1831.0, 1831.0, 1995.0, 1040.0, 1726.0, 821.0, 1232.0, 1440.0, 1360.0, 930.0, 748.0, 861.0, 1248.0, 1304.0, 1088.0, 1240.0, 874.0, 1402.0, 1296.0, 1440.0, 1870.0, 1496.0, 1280.0, 1245.0, 375.0, 1600.0, 1672.0, 1232.0, 2184.0, 1160.0, 1776.0, 1112.0, 1616.0, 850.0, 912.0, 2550.0, 1732.0, 1216.0, 2210.0, 1036.0, 1296.0, 2328.0, 2040.0, 1274.0, 1452.0, 1312.0, 876.0, 1920.0, 1436.0, 1552.0, 0.0, 0.0, 0.0, 1358.0, 1152.0, 1300.0, 1632.0, 1540.0, 2264.0, 1520.0, 1332.0, 1312.0, 1206.0, 1620.0, 1557.0, 1890.0, 960.0, 1282.0, 1312.0, 560.0, 1552.0, 1408.0, 1664.0, 1890.0, 800.0, 2393.0, 1012.0, 1280.0, 1200.0, 1712.0, 1260.0, 2124.0, 1148.0, 2288.0, 1056.0, 1532.0, 2878.0, 1800.0, 1568.0, 3680.0, 1780.0, 1066.0, 1267.0, 1092.0, 1765.0, 1424.0, 1551.0, 2538.0, 1765.0, 1089.0, 1225.0, 1368.0, 1216.0, 992.0, 1356.0, 1170.0, 1245.0, 1248.0, 896.0, 900.0, 1076.0, 1360.0, 1200.0, 1424.0, 1580.0, 1536.0, 944.0, 1050.0, 2275.0, 1600.0, 1344.0, 3096.0, 944.0, 960.0, 2364.0, 4394.0, 1728.0, 1192.0, 2900.0, 1312.0, 1014.0, 960.0, 1944.0, 1729.0, 1944.0, 1400.0, 1820.0, 1494.0, 960.0, 3316.0, 1660.0, 918.0, 3000.0, 1198.0, 2472.0, 698.0, 2705.0, 1216.0, 2261.0, 990.0, 2200.0, 1205.0, 1976.0, 2096.0, 2248.0, 1444.0, 683.0, 1292.0, 1512.0, 1142.0, 1552.0, 1382.0, 1400.0, 1210.0, 885.0, 952.0, 1208.0, 1520.0, 960.0, 1428.0, 1812.0, 2158.0, 1638.0, 1539.0, 1920.0, 1440.0, 1450.0, 2660.0, 1600.0, 1104.0, 1440.0, 1100.0, 660.0, 1362.0, 1360.0, 1200.0, 960.0, 1575.0, 1424.0, 1820.0, 1560.0, 3200.0, 1320.0, 1800.0, 1344.0, 1240.0, 1330.0, 1008.0, 1408.0, 1120.0, 1020.0, 1050.0, 860.0, 1296.0, 1755.0, 1526.0, 1329.0, 1290.0, 1210.0, 720.0, 896.0, 1280.0, 1160.0, 1238.0, 1566.0, 1440.0, 910.0, 1020.0, 1110.0, 1440.0, 1044.0, 1232.0, 2242.0, 704.0, 1210.0, 1708.0, 1140.0, 1244.0, 1995.0, 1617.0, 2475.0, 1160.0, 2612.0, 1480.0, 2660.0, 1600.0, 784.0, 2500.0, 1170.0, 1460.0, 1104.0, 3836.0, 1036.0, 1090.0, 1520.0, 0.0, 1360.0, 1950.0, 1216.0, 2100.0, 1750.0, 1776.0, 1668.0, 2003.0, 1344.0, 1720.0, 1114.0, 1796.0, 1238.0, 800.0, 1480.0, 1632.0, 1508.0, 952.0, 1700.0, 2165.0, 1360.0, 2344.0, 2132.0, 1298.0, 1312.0, 1452.0, 1412.0, 1050.0, 1060.0, 2492.0, 1785.0, 1147.0, 1578.0, 1300.0, 1096.0, 1925.0, 1512.0, 1814.0, 1716.0, 1280.0, 864.0, 1959.0, 0.0, 2486.0, 1338.0, 1260.0, 1322.0, 1620.0, 2700.0, 2050.0, 1683.0, 1489.0, 1916.0, 1320.0, 1200.0, 1180.0, 1672.0, 1344.0, 1152.0, 1224.0, 1566.0, 660.0, 874.0, 2390.0, 1460.0, 1566.0, 1448.0, 1578.0, 872.0, 1792.0, 1332.0, 816.0, 1220.0, 1460.0, 1200.0, 488.0, 1242.0, 1530.0, 2500.0, 900.0, 660.0, 1250.0, 1040.0, 1280.0, 1368.0, 920.0, 1751.0, 1560.0, 2014.0, 1216.0, 0.0, 0.0, 1548.0, 1332.0, 1300.0, 904.0, 1726.0, 1764.0, 964.0, 1851.0, 1080.0, 1216.0, 1408.0, 1101.0, 1094.0, 1050.0, 1188.0, 1660.0, 1360.0, 1504.0, 1328.0, 924.0, 5184.0, 1700.0, 1724.0, 1392.0, 1620.0, 1305.0, 1933.0, 1536.0, 926.0, 1152.0, 820.0, 1568.0, 1630.0, 2360.0, 1265.0, 1116.0, 1160.0, 1150.0, 1192.0, 1350.0, 1020.0, 632.0, 2384.0, 1256.0, 1176.0, 1144.0, 1828.0, 761.0, 1794.0, 2160.0, 1116.0, 1116.0, 2292.0, 2310.0, 1342.0, 1758.0, 1434.0, 1488.0, 1321.0, 1472.0, 1088.0, 1160.0, 1650.0, 1568.0, 1680.0, 1650.0, 1050.0, 1560.0, 1456.0, 1288.0, 2212.0, 1828.0, 1760.0, 1168.0, 1568.0, 1180.0, 1300.0, 1400.0, 896.0, 1296.0, 1000.0, 1295.0, 960.0, 1352.0, 1056.0, 1480.0, 1600.0, 4455.0, 3372.0, 1188.0, 1646.0, 1792.0, 1224.0, 1224.0, 2464.0, 796.0, 1080.0, 1575.0, 1206.0, 1664.0, 1888.0, 924.0, 1084.0, 1111.0, 1000.0, 836.0, 1386.0, 1633.0, 1460.0, 3210.0, 1606.0, 1185.0, 1748.0, 1008.0, 1276.0, 4647.0, 990.0, 876.0, 648.0, 1024.0, 902.0, 1964.0, 1415.0, 1151.0, 1977.0, 2025.0, 825.0, 1252.0, 2000.0, 1100.0, 1622.0, 900.0, 1900.0, 2000.0, 1408.0, 1515.0, 1600.0, 1872.0, 1080.0, 1665.0, 1744.0, 1194.0, 1596.0, 720.0, 1024.0, 1770.0, 1288.0, 1388.0, 1242.0, 1202.0, 1472.0, 1506.0, 1044.0, 1636.0, 1300.0, 1350.0, 1255.0, 1585.0, 1224.0, 2120.0, 1520.0, 1280.0, 1056.0, 1026.0, 1600.0, 1200.0, 1296.0, 1324.0, 1552.0, 1690.0, 980.0, 1324.0, 1592.0, 2782.0, 1585.0, 1180.0, 1680.0, 1614.0, 1632.0, 1204.0, 1196.0, 1156.0, 1198.0, 1564.0, 2490.0, 1295.0, 1405.0, 960.0, 425.0, 904.0, 1040.0, 1254.0, 3468.0, 1683.0, 1776.0, 1718.0, 970.0, 576.0, 1380.0, 1920.0, 1328.0, 0.0, 1064.0, 1344.0, 1134.0, 1176.0, 2141.0, 1152.0, 1036.0, 2506.0, 1148.0, 1220.0, 1328.0, 792.0, 820.0, 1608.0, 1260.0, 1377.0, 996.0, 2037.0, 1202.0, 1150.0, 1224.0, 2540.0, 1469.0, 1216.0, 1031.0, 1980.0, 1500.0, 1296.0, 1182.0, 1808.0, 1204.0, 2196.0, 1296.0, 1280.0, 1691.0, 1160.0, 1212.0, 1100.0, 1624.0, 978.0, 1576.0, 1448.0, 1072.0, 1264.0, 942.0, 1468.0, 1296.0, 1720.0, 3184.0, 1516.0, 1476.0, 1344.0, 2484.0, 1339.0, 1350.0, 1848.0, 600.0, 1350.0, 2420.0, 1824.0, 1056.0, 1232.0, 744.0, 1080.0, 1696.0, 1636.0, 1457.0, 1690.0, 960.0, 1102.0, 1080.0, 1842.0, 1496.0, 1232.0, 2800.0, 1472.0, 0.0, 1624.0, 1300.0, 1679.0, 1368.0, 1326.0, 1232.0, 1280.0, 1500.0, 1795.0, 1327.0, 1330.0, 1216.0, 436.0, 1282.0, 1260.0, 1568.0, 1305.0, 1264.0, 1248.0, 784.0, 1148.0, 1536.0, 1232.0, 1806.0, 890.0, 1600.0, 1624.0, 1288.0, 1440.0, 1856.0, 1820.0, 1350.0, 1184.0, 1250.0, 2172.0, 1539.0, 1732.0, 1020.0, 1877.0, 1440.0, 1584.0, 1697.0, 1546.0, 1120.0, 1890.0, 1184.0, 2680.0, 2172.0, 1240.0, 1132.0, 1324.0, 1782.0, 1427.0, 896.0, 1344.0, 1408.0, 1440.0, 2132.0, 1014.0, 1280.0, 1230.0, 2244.0, 1320.0, 1904.0, 2929.0, 2128.0, 1120.0, 1544.0, 2868.0, 2384.0, 1264.0, 1408.0, 1826.0, 884.0, 2063.0, 1600.0, 1260.0, 1308.0, 1700.0, 924.0, 1814.0, 1650.0, 872.0, 1348.0, 1216.0, 2058.0, 1600.0, 1544.0, 2064.0, 1440.0, 540.0, 1793.0, 1064.0, 1344.0, 1585.0, 1224.0, 1512.0, 2090.0, 1845.0, 3800.0, 1360.0, 1320.0, 4215.0, 1610.0, 770.0, 2900.0, 4108.0, 1063.0, 2208.0, 800.0, 1080.0, 1200.0, 1440.0, 1196.0, 2069.0, 1782.0, 1594.0, 1496.0, 1605.0, 1320.0, 1960.0, 1440.0, 1536.0, 1428.0, 600.0, 1584.0, 2560.0, 1976.0, 1679.0, 1800.0, 1762.0, 1400.0, 1368.0, 1152.0, 1312.0, 1624.0, 2068.0, 1120.0, 1091.0, 1215.0, 1032.0, 1744.0, 960.0, 1440.0, 1680.0, 1000.0, 448.0, 1422.0, 1250.0, 1360.0, 1350.0, 1230.0, 1152.0, 2560.0, 1624.0, 1320.0, 1248.0, 1727.0, 1528.0, 2560.0, 1920.0, 1920.0, 1692.0, 1809.0, 1260.0, 1296.0, 1212.0, 1376.0, 1528.0, 1376.0, 585.0, 1248.0, 1360.0, 1808.0, 1504.0, 1536.0, 1100.0, 1144.0, 1680.0, 2025.0, 1550.0, 1392.0, 1330.0, 2100.0, 1320.0, 997.0, 1160.0, 1224.0, 1064.0, 900.0, 1296.0, 1089.0, 1525.0, 1831.0, 1281.0, 732.0, 3392.0, 600.0, 1552.0, 1519.0, 1200.0, 1044.0, 1520.0, 1468.0, 1584.0, 1840.0, 3360.0, 2511.0, 1992.0, 2464.0, 2120.0, 1094.0, 1224.0, 1485.0, 2567.0, 2134.0, 1141.0, 1208.0, 1344.0, 684.0, 1400.0, 1200.0, 1120.0, 1608.0, 1126.0, 1148.0, 3865.0, 2317.0, 1510.0, 944.0, 1260.0, 1580.0, 1534.0, 7500.0, 1494.0, 1813.0, 1320.0, 1020.0, 1328.0, 1288.0, 1575.0, 1154.0, 1583.0, 528.0, 866.0, 518.0, 1056.0, 1280.0, 1738.0, 1080.0, 938.0, 930.0, 1356.0, 1296.0, 1432.0, 1800.0, 4600.0, 1280.0, 1127.0, 779.0, 1256.0, 960.0, 1568.0, 1552.0, 1500.0, 960.0, 1484.0, 1000.0, 960.0, 1377.0, 1728.0, 1500.0, 1715.0, 1440.0, 900.0, 2022.0, 1020.0, 1775.0, 1246.0, 2002.0, 1554.0, 1776.0, 992.0, 1274.0, 2032.0, 2726.0, 1395.0, 1000.0, 1306.0, 2241.0, 2466.0, 1017.0, 1080.0, 1280.0, 1991.0, 780.0, 730.0, 1264.0, 1344.0, 1152.0, 1100.0, 4299.0, 1280.0, 2157.0, 1707.0, 1400.0, 1298.0, 1232.0, 1289.0, 1152.0, 1000.0, 1512.0, 1260.0, 1472.0, 1116.0, 0.0, 928.0, 1120.0, 1890.0, 1272.0, 1552.0, 1036.0, 3168.0, 996.0, 672.0, 2188.0, 949.0, 1325.0, 1400.0, 1760.0, 1800.0, 1656.0, 1312.0, 975.0, 845.0, 1440.0, 1648.0, 1416.0, 1475.0, 1140.0, 756.0, 1552.0, 1472.0, 1856.0, 1372.0, 1224.0, 1125.0, 1422.0, 1600.0, 1593.0, 2394.0, 1968.0, 1584.0, 1180.0, 2100.0, 1554.0, 1280.0, 1372.0, 1200.0, 1116.0, 1162.0, 2080.0, 1996.0, 3070.0, 1460.0, 0.0, 1600.0, 1296.0, 1456.0, 1552.0, 1260.0, 1696.0, 1518.0, 1725.0, 1104.0, 2392.0, 1144.0, 1335.0, 1350.0, 1307.0, 1175.0, 1528.0, 2058.0, 1320.0, 1140.0, 1598.0, 1200.0, 1354.0, 1378.0, 1160.0, 916.0, 1184.0, 928.0, 1248.0, 1214.0, 3661.0, 1200.0, 840.0, 1568.0, 1000.0, 1440.0, 1336.0, 1560.0, 630.0, 2274.0, 1280.0, 1078.0, 1920.0, 956.0, 1600.0, 1965.0, 1296.0, 1050.0, 720.0, 1408.0, 1488.0, 1416.0, 1960.0, 1120.0, 1092.0, 2460.0, 960.0, 1020.0, 1296.0, 1138.0, 1216.0, 1288.0, 1144.0, 1220.0, 946.0, 1080.0, 996.0, 1012.0, 1240.0, 1268.0, 1516.0, 1260.0, 1296.0, 1632.0, 1567.0, 1584.0, 1520.0, 2194.0, 1630.0, 960.0, 1600.0, 1361.0, 2688.0, 1266.0, 1520.0, 1420.0, 1170.0, 1280.0, 1729.0, 1920.0, 1152.0, 1548.0, 1764.0, 896.0, 1440.0, 1360.0, 1168.0, 900.0, 1020.0, 1608.0, 1264.0, 1820.0, 1332.0, 1320.0, 1274.0, 2280.0, 1076.0, 1320.0, 1470.0, 1248.0, 1709.0, 975.0, 1100.0, 1083.0, 2200.0, 1377.0, 1200.0, 960.0, 1140.0, 1480.0, 1920.0, 2355.0, 1492.0, 1192.0, 2320.0, 1472.0, 1586.0, 812.0, 946.0, 1284.0, 1456.0, 2020.0, 1367.0, 1450.0, 1296.0, 1440.0, 1224.0, 1416.0, 1376.0, 600.0, 1144.0, 1516.0, 1248.0, 1260.0, 2025.0, 1356.0, 1440.0, 1890.0, 2452.0, 1440.0, 1848.0, 1902.0, 1077.0, 1344.0, 1528.0, 1750.0, 1600.0, 1145.0, 1372.0, 996.0, 756.0, 1238.0, 1488.0, 1470.0, 1728.0, 1568.0, 1632.0, 858.0, 1120.0, 2001.0, 1056.0, 1424.0, 585.0, 1115.0, 0.0, 0.0, 2485.0, 1732.0, 1092.0, 1044.0, 1400.0, 1208.0, 1125.0, 2004.0, 1222.0, 1376.0, 1188.0, 2289.0, 833.0, 1152.0, 1116.0, 1464.0, 1264.0, 760.0, 1600.0, 1186.0, 1008.0, 1300.0, 1632.0, 1120.0, 1040.0, 2221.0, 2072.0, 1500.0, 1636.0, 1320.0, 1224.0, 1716.0, 1348.0, 1132.0, 2190.0, 1084.0, 931.0, 1464.0, 1520.0, 1344.0, 1200.0, 1120.0, 952.0, 799.0, 1536.0, 1325.0, 1086.0, 2548.0, 1326.0, 0.0, 3318.0, 1496.0, 1488.0, 1296.0, 1249.0, 1284.0, 2384.0, 2047.0, 1050.0, 978.0, 952.0, 1148.0, 896.0, 1152.0, 1128.0, 1144.0, 1190.0, 1470.0, 1215.0, 2416.0, 1396.0, 1084.0, 1112.0, 1381.0, 1280.0, 1152.0, 1638.0, 1690.0, 1260.0, 1676.0, 2786.0, 1408.0, 1584.0, 1000.0, 1916.0, 1650.0, 1296.0, 1304.0, 1224.0, 1749.0, 1772.0, 1088.0, 1728.0, 1392.0, 1148.0, 1274.0, 1350.0, 1084.0, 1712.0, 1392.0, 992.0, 854.0, 1552.0, 1524.0, 1399.0, 1700.0, 1338.0, 1328.0, 1354.0, 1200.0, 1500.0, 1536.0, 1124.0, 2412.0, 1450.0, 2000.0, 1056.0, 1260.0, 1192.0, 1998.0, 1203.0, 1360.0, 1944.0, 1463.0, 1248.0, 1424.0, 1024.0, 1380.0, 1095.0, 1130.0, 1040.0, 1296.0, 1325.0, 2536.0, 2275.0, 1080.0, 1080.0, 1136.0, 1368.0, 2072.0, 1536.0, 1436.0, 1248.0, 1054.0, 1020.0, 1432.0, 1200.0, 1248.0, 3078.0, 2262.0, 752.0, 2520.0, 1680.0, 1400.0, 1236.0, 1452.0, 1120.0, 1098.0, 1452.0, 1288.0, 1408.0, 1925.0, 2086.0, 1024.0, 1240.0, 1144.0, 816.0, 1246.0, 3027.0, 1683.0, 468.0, 1668.0, 1914.0, 1194.0, 1200.0, 1500.0, 1364.0, 1364.0, 1440.0, 1566.0, 1566.0, 2083.0, 2230.0, 1344.0, 1442.0, 1600.0, 850.0, 1350.0, 1188.0, 1860.0, 1672.0, 1344.0, 1591.0, 1235.0, 1480.0, 1320.0, 996.0, 1472.0, 976.0, 1404.0, 1240.0, 3040.0, 640.0, 1440.0, 1460.0, 960.0, 728.0, 2236.0, 1108.0, 970.0, 1775.0, 1584.0, 1714.0, 2110.0, 2400.0, 1800.0, 0.0, 0.0, 1152.0, 1064.0, 1280.0, 2524.0, 1000.0, 2604.0, 0.0, 1248.0, 1500.0, 1715.0, 1990.0, 1409.0, 1182.0, 1888.0, 892.0, 1135.0, 1080.0, 1552.0, 842.0, 1297.0, 1369.0, 2132.0, 1282.0, 1804.0, 1170.0, 1595.0, 1420.0, 1564.0, 1200.0, 1198.0, 1058.0, 1500.0, 1724.0, 1742.0, 1300.0, 1320.0, 1577.0, 1296.0, 882.0, 1702.0, 1188.0, 1224.0, 2716.0, 1296.0, 1403.0, 960.0, 1638.0, 759.0, 850.0, 1125.0, 896.0, 2350.0, 1240.0, 1248.0, 1260.0, 912.0, 864.0, 2000.0, 1400.0, 1520.0, 1680.0, 4180.0, 1080.0, 1998.0, 2350.0, 2172.0, 1452.0, 1266.0, 1570.0, 2508.0, 1376.0, 640.0, 1064.0, 1408.0, 1720.0, 1050.0, 1008.0, 1188.0, 2006.0, 1410.0, 1240.0, 1855.0, 1568.0, 1496.0, 1350.0, 1812.0, 1440.0, 1433.0, 1126.0, 960.0, 1744.0, 1824.0, 1008.0, 1144.0, 900.0, 1375.0, 1480.0, 1440.0, 572.0, 1550.0, 1294.0, 1200.0, 1328.0, 2360.0, 1280.0, 1460.0, 1057.0, 3559.0, 1496.0, 2688.0, 1756.0, 2248.0, 1506.0, 1260.0, 1228.0, 1192.0, 1540.0, 2178.0, 1296.0, 1116.0, 988.0, 2280.0, 2099.0, 3240.0, 1376.0, 1152.0, 1664.0, 1296.0, 2044.0, 2289.0, 1304.0, 1480.0, 990.0, 1120.0, 1128.0, 912.0, 975.0, 975.0, 1428.0, 2186.0, 1508.0, 1368.0, 1096.0, 1440.0, 1152.0, 1084.0, 1230.0, 1970.0, 1800.0, 1372.0, 2047.0, 1750.0, 1323.0, 1344.0, 2176.0, 1320.0, 1512.0, 1308.0, 1240.0, 1080.0, 1600.0, 1260.0, 2651.0, 1530.0, 2104.0, 1388.0, 1185.0, 1800.0, 1008.0, 1410.0, 1184.0, 1125.0, 1176.0, 1992.0, 1120.0, 1894.0, 1440.0, 975.0, 1592.0, 1664.0, 448.0, 1234.0, 1360.0, 2495.0, 1008.0, 936.0, 1196.0, 1536.0, 1900.0, 1566.0, 900.0, 2339.0, 1600.0, 2720.0, 1240.0, 1404.0, 2442.0, 1400.0, 874.0, 800.0, 2400.0, 2937.0, 1132.0, 1896.0, 1408.0, 1056.0, 1050.0, 888.0, 1400.0, 2190.0, 1224.0, 1316.0, 1536.0, 1559.0, 1440.0, 1638.0, 1672.0, 1203.0, 1068.0, 896.0, 1440.0, 1147.0, 1236.0, 1320.0, 1020.0, 1060.0, 1645.0, 2352.0, 1400.0, 1300.0, 1112.0, 1200.0, 726.0, 576.0, 600.0, 1152.0, 1660.0, 1552.0, 1026.0, 1120.0, 780.0, 2018.0, 1560.0, 1300.0, 1148.0, 1120.0, 860.0, 896.0, 1110.0, 1624.0, 3366.0, 1997.0, 0.0, 1542.0, 1056.0, 1840.0, 1050.0, 1352.0, 1280.0, 1768.0, 1632.0, 1278.0, 1360.0, 1156.0, 1329.0, 1120.0, 2220.0, 1498.0, 1520.0, 1020.0, 1600.0, 992.0, 1384.0, 1354.0, 1392.0, 1214.0, 1923.0, 2064.0, 1622.0, 880.0, 1864.0, 1116.0, 1980.0, 2310.0, 1550.0, 0.0, 1620.0, 1200.0, 870.0, 1230.0, 1076.0, 1552.0, 1372.0, 1224.0, 2250.0, 1120.0, 2430.0, 1248.0, 1552.0, 978.0, 1230.0, 1056.0, 1000.0, 1066.0, 1104.0, 7200.0, 1490.0, 1418.0, 1180.0, 1160.0, 1400.0, 944.0, 1136.0, 1752.0, 2040.0, 2400.0, 858.0, 1352.0, 1400.0, 934.0, 1092.0, 1839.0, 900.0, 1868.0, 2568.0, 1592.0, 1501.0, 1504.0, 1772.0, 1472.0, 2200.0, 740.0, 1608.0, 1299.0, 2250.0, 1088.0, 1168.0, 3540.0, 7875.0, 1440.0, 960.0, 2692.0, 924.0, 1489.0, 960.0, 1200.0, 1276.0, 1658.0, 570.0, 1323.0, 991.0, 1584.0, 1536.0, 2241.0, 1407.0, 1122.0, 2296.0, 0.0, 0.0, 3773.0, 896.0, 1150.0, 2310.0, 1208.0, 1853.0, 1125.0, 1680.0, 1224.0, 1120.0, 1512.0, 1260.0, 1216.0, 1670.0, 1140.0, 796.0, 946.0, 1464.0, 867.0, 1576.0, 924.0, 1200.0, 1334.0, 1160.0, 1170.0, 960.0, 1470.0, 630.0, 1504.0, 1280.0, 1392.0, 1120.0, 1408.0, 5348.0, 946.0, 2358.0, 2295.0, 1377.0, 1120.0, 1312.0, 0.0, 0.0, 3520.0, 1424.0, 1464.0, 1196.0, 2002.0, 1240.0, 1145.0, 1080.0, 1400.0, 1160.0, 1868.0, 1672.0, 1038.0, 5178.0, 936.0, 1092.0, 2688.0, 1120.0, 1807.0, 996.0, 1156.0, 1570.0, 1488.0, 570.0, 1980.0, 1666.0, 1232.0, 1224.0, 2158.0, 732.0, 810.0, 1400.0, 1824.0, 1245.0, 1090.0, 1873.0, 1694.0, 1870.0, 1246.0, 2150.0, 1344.0, 1943.0, 1155.0, 2408.0, 1086.0, 1556.0, 928.0, 1169.0, 1168.0, 938.0, 1354.0, 1530.0, 696.0, 1406.0, 3080.0, 1248.0, 2339.0, 1242.0, 1658.0, 0.0, 1280.0, 1132.0, 1184.0, 868.0, 1795.0, 3070.0, 1292.0, 1061.0, 1576.0, 912.0, 1542.0, 1078.0, 1242.0, 946.0, 1412.0, 1552.0, 1470.0, 2238.0, 1848.0, 880.0, 2692.0, 1376.0, 1908.0, 1402.0, 2814.0, 1779.0, 1420.0, 1560.0, 1248.0, 1807.0, 1232.0, 1105.0, 2149.0, 2562.0, 784.0, 1296.0, 1260.0, 1864.0, 1728.0, 1302.0, 1794.0, 1296.0, 1305.0, 1125.0, 1056.0, 2226.0, 800.0, 1050.0, 945.0, 2268.0, 1585.0, 1264.0, 1208.0, 924.0, 1285.0, 1128.0, 1764.0, 1438.0, 1385.0, 740.0, 1328.0, 1960.0, 0.0, 1816.0, 1890.0, 2040.0, 1632.0, 1540.0, 1260.0, 1540.0, 2996.0, 1708.0, 2340.0, 1672.0, 1185.0, 2315.0, 1584.0, 1791.0, 1680.0, 1760.0, 1683.0, 1248.0, 1056.0, 1056.0, 1280.0, 1846.0, 1224.0, 1280.0, 1258.0, 1608.0, 910.0, 960.0, 1200.0, 760.0, 1874.0, 1304.0, 1440.0, 1144.0, 1425.0, 1538.0, 2000.0, 1273.0, 1224.0, 960.0, 1944.0, 1200.0, 1920.0, 1599.0, 1800.0, 3280.0, 1984.0, 1040.0, 1584.0, 2208.0, 1344.0, 1776.0, 1568.0, 1360.0, 2016.0, 600.0, 1216.0, 1190.0, 1683.0, 1040.0, 725.0, 2115.0, 1280.0, 1680.0, 1191.0, 1995.0, 1214.0, 1137.0, 4950.0, 2540.0, 1008.0, 1008.0, 1972.0, 1673.0, 768.0, 896.0, 1160.0, 1870.0, 2798.0, 1764.0, 1732.0, 702.0, 1251.0, 864.0, 1782.0, 1520.0, 1392.0, 1400.0, 2660.0, 1528.0, 2016.0, 2160.0, 1320.0, 1456.0, 1220.0, 2088.0, 0.0, 2100.0, 1092.0, 1480.0, 1995.0, 1520.0, 2744.0, 1876.0, 1368.0, 1480.0, 1568.0, 1920.0, 1580.0, 1858.0, 1131.0, 726.0, 1440.0, 2132.0, 576.0, 2476.0, 1168.0, 2128.0, 1368.0, 1200.0, 1536.0, 2160.0, 1546.0, 950.0, 1309.0, 1216.0, 492.0, 1316.0, 1218.0, 1882.0, 952.0, 1440.0, 1140.0, 1296.0, 1925.0, 2366.0, 1758.0, 1195.0, 1540.0, 2160.0, 1944.0, 1806.0, 966.0, 1152.0, 1056.0, 1206.0, 956.0, 1449.0, 1660.0, 1020.0, 1344.0, 637.0, 828.0, 850.0, 1208.0, 1160.0, 1446.0, 3208.0, 1448.0, 1440.0, 730.0, 2000.0, 1116.0, 1296.0, 1880.0, 1950.0, 1380.0, 1264.0, 1476.0, 1406.0, 1455.0, 2680.0, 1128.0, 1020.0, 1376.0, 1536.0, 1500.0, 4301.0, 710.0, 1760.0, 1248.0, 920.0, 1120.0, 1264.0, 1296.0, 1536.0, 1440.0, 1754.0, 1234.0, 3580.0, 1510.0, 1088.0, 920.0, 1304.0, 1800.0, 1280.0, 1144.0, 1830.0, 1645.0, 2620.0, 1360.0, 1756.0, 2501.0, 1200.0, 1204.0, 1176.0, 1024.0, 1534.0, 1925.0, 1320.0, 1152.0, 832.0, 3090.0, 1496.0, 1116.0, 1142.0, 1776.0, 1176.0, 1528.0, 1064.0, 1064.0, 1927.0, 1400.0, 1460.0, 1460.0, 1964.0, 1382.0, 1906.0, 1356.0, 896.0, 1405.0, 1620.0, 1776.0, 1704.0, 1020.0, 1826.0, 945.0, 1925.0, 3177.0, 1170.0, 1152.0, 1322.0, 2046.0, 1536.0, 1094.0, 1024.0, 896.0, 1248.0, 1658.0, 1140.0, 1200.0, 952.0, 1832.0, 1650.0, 1793.0, 1080.0, 1339.0, 1700.0, 1339.0, 1440.0, 1424.0, 864.0, 1092.0, 1528.0, 921.0, 2128.0, 1807.0, 621.0, 1163.0], \"xaxis\": \"x\", \"y\": [550000, 200000, 810000, 125000, 620000, 1150000, 836500, 955000, 820000, 980000, 430000, 700000, 448000, 670000, 1390000, 540000, 520000, 480000, 570000, 552000, 505000, 357500, 670000, 549000, 970000, 800000, 450000, 330000, 575000, 450000, 743000, 445000, 255000, 750000, 985000, 958000, 1440000, 200000, 930000, 990000, 810000, 670000, 1030000, 900000, 940000, 445000, 710000, 998000, 950000, 470000, 480000, 757504, 350000, 717359, 926608, 585500, 493000, 615000, 646589, 470000, 510000, 1705000, 643750, 465000, 320000, 730000, 300000, 494000, 670000, 525000, 640000, 870000, 780000, 350000, 1490000, 555000, 550000, 685000, 825000, 435000, 810000, 224094, 512275, 520000, 494500, 450000, 460000, 1290000, 890000, 530000, 445000, 452465, 560000, 440000, 625000, 588005, 420000, 416000, 570000, 335000, 108000, 1575000, 350000, 795000, 1100000, 670000, 760000, 645000, 650000, 492000, 590000, 830000, 330000, 590000, 646000, 446000, 550000, 640000, 445000, 646589, 639461, 520000, 125000, 349500, 700000, 355000, 355000, 200000, 499000, 265000, 300000, 980000, 1100000, 750000, 1163359, 710000, 915000, 350000, 1250000, 840000, 605000, 350000, 915000, 999999, 425000, 414987, 208000, 408000, 220000, 1872562, 830000, 410000, 395000, 555000, 443800, 743323, 539900, 763688, 889000, 572500, 632000, 465000, 340000, 400000, 395000, 470000, 510000, 821000, 529000, 650000, 859000, 790000, 1700000, 980000, 385000, 580000, 880888, 859000, 1153000, 788000, 990000, 825000, 515000, 840000, 600000, 1710660, 520000, 660000, 479000, 520000, 490000, 500000, 240000, 550000, 1218300, 500000, 540000, 500000, 580000, 515000, 100000, 1530000, 460000, 1750000, 380250, 990000, 405600, 820000, 210000, 499500, 415000, 300000, 850000, 885000, 1400000, 500000, 255000, 624000, 601000, 575000, 370000, 534560, 620000, 335000, 269500, 641000, 619000, 413950, 545000, 350000, 880000, 540000, 471500, 673330, 566368, 120000, 565000, 510569, 125000, 790000, 415000, 740000, 550000, 365000, 570000, 700000, 490000, 660000, 525000, 508402, 305000, 1400000, 430000, 357000, 450000, 1250000, 560000, 130000, 225000, 305000, 910000, 905000, 985000, 958000, 700000, 830000, 536000, 680000, 660000, 640000, 1280000, 630000, 529000, 390000, 425000, 680000, 850000, 531000, 250000, 539000, 775000, 599900, 475000, 475000, 600768, 749000, 781000, 675000, 599000, 499000, 490000, 630000, 460000, 490000, 780000, 1850000, 250000, 294000, 1500000, 965000, 487000, 100000, 380000, 650000, 730000, 112000, 499999, 680000, 342000, 742000, 515000, 450000, 100000, 100000, 790000, 740000, 875000, 735000, 560000, 599000, 390000, 508500, 860000, 590585, 457500, 320000, 510000, 390000, 328600, 440000, 820000, 912500, 465000, 650000, 439000, 210000, 950000, 1685000, 599000, 405235, 970000, 1465000, 455000, 605394, 640000, 790000, 770000, 950000, 420000, 570000, 900000, 489600, 773000, 420000, 361000, 198000, 278000, 450000, 430000, 503000, 527500, 366877, 385000, 346029, 373692, 988000, 495000, 450000, 485000, 230000, 444000, 350000, 311912, 559144, 550000, 695000, 575000, 589000, 475000, 250000, 1440000, 570000, 458800, 560000, 590000, 456300, 223000, 575000, 820000, 381550, 1025000, 699000, 1100000, 505000, 575000, 500000, 250000, 400000, 625000, 650000, 850000, 925000, 445000, 1295000, 700000, 763000, 615000, 114000, 630000, 665000, 515000, 517000, 850000, 600000, 700000, 597000, 352746, 900000, 875000, 570000, 455000, 499999, 375180, 410000, 515000, 780000, 1240000, 515000, 1200000, 385000, 818000, 1415000, 1165000, 1050000, 1600000, 1260000, 865000, 748000, 635000, 1675000, 985000, 885000, 790000, 679000, 280000, 800000, 670000, 641000, 450000, 390000, 485000, 463000, 467000, 446000, 610000, 579000, 490000, 451000, 770000, 990000, 440000, 360000, 600000, 607000, 585494, 533000, 860000, 415000, 685000, 580000, 1450000, 285075, 525000, 1120075, 360000, 265000, 245000, 475000, 512000, 510000, 334650, 990000, 900000, 335000, 1900000, 560000, 595000, 600000, 848000, 1250000, 800000, 1500000, 658000, 1578288, 1075000, 990000, 105000, 560038, 829000, 485000, 638000, 230000, 740000, 995000, 554500, 603500, 550000, 460000, 459500, 204800, 253000, 362900, 479000, 396000, 350000, 335000, 610000, 480000, 499000, 582500, 620000, 485000, 630000, 590000, 697000, 555000, 500000, 600000, 950000, 340000, 150000, 423000, 499000, 658820, 530000, 1150000, 1573500, 500000, 486000, 550000, 380000, 644000, 730000, 851000, 730000, 475000, 732000, 835000, 200000, 990000, 925000, 990000, 1200000, 560000, 525000, 489000, 160000, 380000, 385000, 740000, 1090000, 498000, 498900, 490000, 555000, 590000, 469900, 620000, 565000, 405000, 425000, 307000, 450000, 243360, 445000, 795000, 450000, 655498, 529791, 795000, 988000, 729000, 400000, 830000, 675000, 890000, 850000, 515000, 899888, 700000, 277000, 760000, 630000, 770000, 825000, 600000, 1015000, 715000, 371000, 365040, 500000, 975000, 781000, 396000, 275000, 400530, 580000, 112000, 1125000, 470000, 575210, 800000, 772500, 963538, 477000, 415000, 420810, 360500, 369000, 365000, 241000, 555000, 465000, 540750, 740000, 332000, 499000, 301665, 1500000, 683000, 560000, 499000, 1775000, 450000, 211650, 715000, 780000, 905000, 555000, 820000, 715000, 628900, 838000, 795000, 560000, 435000, 610000, 618000, 960000, 555000, 532000, 670000, 375000, 450000, 100000, 342000, 435000, 245500, 720000, 520000, 515000, 555000, 399888, 370023, 850000, 540000, 210000, 449000, 430000, 334620, 265000, 248132, 373600, 362000, 415000, 453124, 620000, 550000, 300000, 835000, 550000, 614000, 568600, 1060000, 479000, 181875, 490000, 991670, 1425000, 1570000, 800000, 777000, 690000, 800000, 650000, 660000, 950000, 747000, 785000, 700000, 712000, 710000, 730000, 990000, 1031285, 1120413, 515000, 485000, 565000, 545000, 400000, 325000, 440000, 495000, 656000, 590000, 250000, 475000, 760000, 500000, 410000, 492000, 525000, 485000, 240000, 745000, 247850, 445000, 384500, 822500, 375000, 525000, 760000, 450000, 540000, 980000, 1150000, 760000, 999000, 799000, 600000, 425000, 832500, 515000, 720000, 655000, 640000, 990000, 740000, 450000, 590000, 965000, 668900, 1180000, 390000, 255000, 499931, 705094, 266667, 539000, 568000, 475000, 525000, 248000, 678000, 385000, 450000, 755000, 440000, 430000, 1050000, 1452500, 573000, 575000, 440000, 425000, 575000, 670000, 500000, 230000, 688888, 835000, 740000, 290000, 535000, 340000, 175000, 639000, 845000, 700000, 740000, 915000, 1600000, 1050000, 630000, 640000, 730000, 525000, 1870000, 500000, 609000, 220000, 415000, 499999, 650000, 529000, 940000, 1552831, 1200000, 282000, 550000, 860000, 495000, 595676, 800000, 572000, 445000, 499000, 400000, 450000, 230000, 438000, 480000, 150000, 298100, 1100000, 175000, 530000, 500000, 650000, 615000, 935000, 830000, 550000, 640000, 610000, 836000, 784053, 915000, 750000, 685000, 300000, 640000, 785000, 518500, 490000, 228000, 600000, 470000, 630000, 540000, 622000, 360000, 322500, 480000, 645000, 755000, 489000, 470000, 620000, 623169, 705000, 420000, 719000, 350000, 575311, 174300, 544000, 618000, 450000, 480000, 145000, 430000, 565000, 475000, 406282, 327500, 560000, 565000, 325000, 160000, 515000, 920000, 335000, 158600, 600000, 985000, 470000, 522500, 1275000, 727000, 664000, 1085000, 610000, 520000, 699000, 825000, 950000, 382621, 512000, 436800, 770000, 550000, 679189, 915000, 769000, 200000, 547000, 224000, 610000, 650000, 625000, 450000, 1500000, 1080000, 607856, 1390000, 740000, 469625, 540000, 450000, 400000, 547500, 495000, 365000, 495000, 359970, 470000, 590000, 235000, 536500, 362500, 218000, 455000, 545000, 499800, 620000, 830000, 442900, 390000, 650000, 235000, 625000, 672000, 590000, 645000, 585000, 465000, 390000, 350000, 485000, 435000, 500000, 320000, 390000, 430000, 578000, 870000, 668500, 1330000, 345000, 415000, 394272, 850000, 366211, 720000, 900000, 425000, 775000, 327631, 660000, 675000, 720000, 530000, 380000, 850000, 775000, 580000, 475000, 340000, 435000, 428480, 815000, 605000, 465545, 468000, 279000, 590000, 618500, 521500, 435000, 480000, 790000, 575000, 459000, 475000, 485000, 460000, 428665, 500000, 1955000, 591000, 610000, 708000, 950000, 605000, 669000, 950000, 475000, 1500000, 745000, 855000, 340000, 795000, 380000, 465000, 410000, 587400, 600000, 655000, 350000, 375000, 380000, 245000, 608400, 231500, 1202000, 1925000, 1550000, 500000, 1400000, 659500, 833000, 750000, 860000, 525000, 825000, 800000, 720000, 575000, 656766, 650000, 720000, 530000, 470000, 370000, 495000, 227302, 490000, 336000, 626224, 620000, 250000, 634000, 600000, 600000, 345163, 510000, 445000, 700000, 700000, 1850000, 810000, 508605, 1175000, 499371, 615000, 1235000, 1200000, 457920, 505000, 443000, 302000, 1117500, 800000, 273600, 1100000, 496460, 141088, 529000, 470000, 1075000, 1950000, 690000, 1165000, 515510, 425000, 740000, 1075000, 990000, 850000, 519000, 620000, 330000, 810000, 780000, 500000, 130000, 555000, 365625, 380000, 463500, 280000, 695000, 499412, 651680, 700000, 400000, 307668, 590585, 569000, 570000, 229430, 550000, 383593, 825000, 524804, 430000, 518340, 590000, 380250, 464000, 1630000, 1630000, 1100000, 535000, 605000, 1400000, 855000, 760000, 562500, 667800, 1235000, 932500, 790000, 572000, 315000, 440000, 680000, 970000, 650000, 1460000, 715000, 800000, 500000, 1125000, 269302, 934350, 310000, 650000, 868000, 420000, 535000, 250000, 510000, 880000, 788000, 480000, 880000, 145000, 740000, 590000, 536750, 234234, 555000, 490000, 545000, 250000, 500000, 999500, 501930, 1445000, 863000, 600000, 920000, 870000, 1700000, 670000, 275000, 481000, 560000, 425000, 540000, 580000, 295000, 416000, 404250, 499000, 570000, 948578, 400000, 525000, 520000, 650000, 500000, 990000, 447000, 445000, 850000, 690000, 738231, 350000, 500000, 900000, 1200000, 253950, 427523, 274092, 780000, 650000, 995000, 519000, 810000, 671000, 849000, 865000, 499999, 1099200, 1625000, 900000, 525000, 450000, 180500, 1225000, 395000, 194000, 520000, 423000, 411684, 550000, 200000, 560038, 595000, 540000, 326000, 560000, 360000, 524349, 575000, 579000, 420000, 371848, 182500, 600000, 540000, 830000, 1325000, 890000, 1090000, 515000, 655000, 1150000, 975000, 812000, 779000, 530000, 815000, 380000, 420000, 175000, 424000, 582000, 865000, 1440000, 508000, 610950, 850000, 550000, 438000, 240000, 595000, 485000, 540000, 500000, 490000, 624000, 556000, 714800, 680000, 444000, 650000, 500000, 499000, 690000, 1655000, 1125000, 430000, 1215000, 645000, 629000, 885000, 600000, 630000, 994000, 266000, 630000, 880000, 440000, 175000, 520000, 531250, 768328, 620000, 635000, 216500, 400000, 575000, 363000, 554946, 596695, 457314, 592000, 550000, 369770, 515000, 479000, 589000, 890000, 575000, 240000, 495000, 440000, 499000, 645000, 910000, 1289120, 635000, 360000, 617000, 775000, 880000, 1420000, 695000, 157277, 750000, 970000, 480000, 500000, 900000, 620000, 777000, 563000, 650000, 487500, 377500, 560000, 224000, 237500, 450000, 362900, 465000, 361998, 480000, 560000, 625000, 490000, 900000, 760000, 463900, 399000, 340000, 485000, 770000, 750000, 249000, 150000, 940000, 414400, 605000, 495000, 401000, 578000, 650000, 429000, 360000, 474000, 930000, 690000, 390000, 1325000, 390000, 632000, 530000, 1095000, 930000, 725000, 730000, 525000, 545000, 490000, 890000, 290000, 845000, 476768, 345000, 160000, 528000, 526500, 470000, 520000, 499000, 610000, 640000, 450000, 743323, 275000, 600000, 630297, 1400000, 912500, 915000, 549000, 400000, 830000, 700000, 679000, 1290000, 1614600, 899000, 550000, 180000, 403000, 930000, 550000, 350000, 525000, 640000, 480000, 410000, 615000, 485000, 525000, 263133, 400000, 468400, 721939, 352500, 710000, 360000, 465000, 840000, 402600, 552910, 625000, 610000, 505000, 303000, 330000, 720000, 488000, 953000, 980000, 679000, 580000, 440000, 815000, 640000, 175000, 520000, 865000, 525000, 720000, 700000, 679000, 485000, 465000, 444000, 525000, 547000, 425000, 625000, 180000, 365000, 318000, 306000, 635045, 651680, 689100, 496888, 295000, 497000, 475000, 310000, 440000, 500000, 568960, 216489, 380000, 460000, 579000, 699000, 440000, 570000, 840000, 630000, 251155, 1130000, 825000, 872000, 1070000, 870000, 352500, 390000, 958317, 725000, 860000, 785000, 673000, 300000, 340000, 835000, 925000, 593000, 182000, 1340000, 515000, 400000, 505000, 635000, 252000, 320000, 525000, 675000, 404000, 695000, 607000, 275000, 515000, 850000, 697501, 550000, 614000, 409500, 360000, 276822, 385000, 336000, 762669, 390000, 410000, 600000, 617000, 630000, 210000, 612000, 605000, 398000, 1142500, 648000, 889000, 1150000, 900000, 820000, 1325000, 525000, 760000, 907000, 1048800, 585000, 600000, 565000, 606279, 565000, 657906, 175000, 300000, 525000, 540000, 499000, 499990, 721939, 536000, 1036000, 410000, 539000, 495000, 490000, 355000, 431000, 478000, 485000, 189270, 565000, 439931, 416981, 610000, 700000, 900000, 890000, 878000, 1158000, 693000, 940000, 933800, 620000, 725000, 545000, 160000, 888000, 720000, 940000, 883000, 570000, 510000, 301000, 450000, 260000, 939000, 480000, 647000, 595000, 350000, 113348, 610000, 563000, 273780, 470000, 780000, 1358500, 585000, 680000, 920000, 999000, 550000, 660000, 725000, 532000, 600000, 900000, 668000, 218000, 585000, 800000, 730000, 750000, 685000, 708400, 862000, 710000, 605000, 610000, 550000, 1250000, 950000, 562500, 525000, 430000, 537500, 523000, 480000, 552000, 919000, 1120075, 300000, 605000, 485000, 445000, 549000, 625000, 970000, 560000, 520000, 990000, 880000, 136000, 1210000, 280000, 620000, 610000, 336000, 550000, 1620000, 831000, 235000, 1140000, 999000, 800000, 346500, 1140000, 700000, 967000, 620000, 375000, 375000, 1020000, 920000, 475000, 705000, 510000, 350000, 335000, 500000, 800000, 639000, 220000, 325000, 800000, 201000, 460000, 419900, 535000, 225000, 400000, 400000, 900000, 100000, 464000, 510000, 299000, 460000, 870000, 380000, 520000, 584284, 515000, 555000, 571000, 580000, 687000, 436600, 333600, 410000, 540000, 660000, 1125000, 585000, 309000, 145000, 567000, 635000, 989000, 499500, 851000, 800000, 1450000, 600000, 575000, 668000, 350000, 400000, 550000, 319600, 1150000, 800000, 600000, 240000, 465000, 400000, 585000, 515000, 560038, 475000, 550000, 499000, 500000, 285000, 500000, 1270000, 415000, 666588, 770000, 645000, 640000, 400000, 525000, 1125000, 599000, 595000, 445000, 994517, 530000, 564796, 895000, 460000, 525000, 160673, 560000, 570000, 560000, 480000, 460000, 515000, 984000, 510000, 509600, 1220000, 1150000, 100000, 600000, 750000, 1700000, 860500, 459000, 560000, 540000, 510365, 590000, 494000, 200000, 560000, 470000, 500000, 585000, 451230, 490000, 270000, 329000, 739000, 324480, 350000, 320000, 353379, 645000, 600000, 425880, 800000, 930000, 875000, 715000, 875000, 740000, 485000, 710000, 499750, 1850000, 493000, 995000, 610000, 1425000, 615000, 733140, 672045, 670000, 355000, 422000, 150000, 467500, 495000, 580000, 912000, 500000, 210000, 595000, 1400000, 1668500, 600000, 700000, 730000, 414000, 1310000, 950000, 580000, 900000, 990000, 570000, 410000, 485000, 376000, 376000, 600000, 480000, 820000, 715000, 452998, 544719, 535000, 800000, 465000, 683000, 420000, 351000, 470000, 599000, 115000, 930000, 800000, 612000, 468468, 440000, 152000, 760000, 1084000, 450000, 500599, 750000, 985000, 845000, 890000, 510000, 471000, 510000, 275000, 545000, 715500, 795000, 385000, 400000, 899000, 900000, 400000, 595000, 215000, 450000, 380000, 609000, 410000, 250000, 800000, 473500, 535000, 692240, 495000, 870604, 650000, 250000, 450000, 485000, 638600, 630000, 250000, 450000, 250000, 1385000, 305000, 700000, 575000, 520000, 602000, 314500, 1122000, 750000, 650000, 500000, 791000, 905000, 928000, 600000, 595000, 250000, 390000, 321000, 700000, 375000, 392000, 938486, 270000, 306228, 650000, 444132, 440000, 499999, 490000, 270480, 325000, 475000, 168000, 500585, 740000, 430000, 575000, 580000, 350000, 635000, 877500, 495000, 510000, 560000, 585000, 565000, 635000, 850000, 1400000, 1100000, 455000, 975000, 586000, 330000, 835000, 820000, 725000, 1465000, 835000, 829000, 465000, 538000, 396000, 500000, 1600000, 585000, 500000, 268000, 270000, 440000, 540000, 375000, 665000, 505000, 480000, 621133, 280980, 197000, 532000, 418000, 330000, 500000, 450000, 435000, 525000, 250000, 575000, 700000, 650000, 605000, 700000, 865000, 665000, 500000, 995000, 362000, 375000, 360000, 525000, 470000, 370000, 560000, 125000, 667000, 635000, 495000, 489000, 350000, 490000, 222500, 393000, 495000, 150000, 805000, 525000, 799000, 620000, 1265000, 640000, 1175000, 365000, 455000, 1060000, 731300, 905000, 810000, 200000, 639000, 825000, 375000, 380250, 520000, 595000, 314820, 325500, 1650000, 1850000, 646588, 420000, 405600, 280000, 600000, 630000, 499990, 445000, 763688, 225000, 550000, 570000, 990000, 735000, 860000, 370800, 728000, 1200000, 610000, 432000, 1357000, 630000, 997000, 1070000, 701083, 900000, 650000, 690000, 740000, 369900, 460000, 600000, 365000, 936000, 795000, 565000, 430000, 333000, 465000, 580000, 361000, 475000, 515000, 435000, 360000, 610000, 580000, 284000, 555000, 525000, 560038, 480000, 520000, 1500000, 804718, 550000, 550000, 480000, 905000, 840000, 550000, 470000, 1695000, 995000, 300000, 755000, 675000, 395000, 382500, 468000, 450000, 605000, 750000, 450000, 280000, 575000, 281250, 720000, 738231, 510000, 610949, 344760, 540000, 395000, 290000, 295000, 950000, 550000, 275000, 320000, 1640000, 743561, 582000, 748000, 990000, 615000, 700000, 948500, 855000, 1050000, 525000, 821750, 625000, 469000, 525000, 1320000, 465000, 437750, 445000, 390000, 552000, 850000, 412000, 480000, 465000, 441000, 700000, 460000, 860421, 465500, 804416, 110000, 580000, 400000, 799000, 550000, 1049000, 1210950, 901000, 1200000, 580000, 280000, 950000, 625000, 430000, 270000, 285000, 639900, 250750, 770000, 560000, 610000, 692410, 265000, 545000, 615000, 750000, 679000, 275000, 197600, 400000, 595000, 232000, 750000, 928000, 1290000, 339690, 348156, 735000, 800000, 659000, 477387, 386000, 610000, 810000, 490000, 524700, 387000, 349700, 435000, 650000, 1100000, 905000, 560000, 377500, 224829, 531000, 155500, 328410, 499990, 433000, 210000, 825000, 541000, 213600, 450000, 319100, 602000, 575000, 710000, 590000, 880000, 989000, 730000, 910000, 830000, 999999, 850000, 640000, 370000, 457821, 650000, 280000, 586000, 498000, 525000, 550000, 910000, 885000, 490000, 540000, 451230, 525000, 475000, 100000, 361722, 720000, 568750, 542000, 806000, 330000, 550000, 395000, 490000, 457000, 350000, 655000, 690000, 1128508, 615000, 133500, 1450000, 800000, 500000, 905000, 935000, 900000, 800000, 780000, 818000, 950000, 470000, 450000, 306135, 580000, 465593, 251000, 265000, 530000, 490000, 657558, 557000, 510000, 380000, 1358000, 815000, 530000, 675000, 627000, 380000, 252400, 530000, 550000, 425000, 1562000, 400000, 300000, 640000, 857000, 530000, 555000, 510000, 675343, 820000, 1350000, 1150000, 1400000, 999000, 531260, 1491000, 640000, 715000, 300000, 905000, 880000, 788000, 805000, 226667, 1180000, 596900, 420000, 670000, 565000, 361092, 615000, 830000, 400000, 700000, 550000, 685000, 400000, 775000, 415000, 750000, 465000, 324480, 356310, 632500, 560000, 335000, 410000, 420000, 390000, 856900, 485000, 390500, 590000, 665000, 550000, 490000, 725000, 589000, 940000, 650000, 600000, 815000, 1168000, 500000, 473800, 400000, 700000, 680000, 462500, 450000, 535000, 455000, 228150, 272000, 180000, 340000, 285000, 350000, 525000, 1525000, 460000, 355000, 1150000, 890000, 310000, 645000, 925000, 850000, 1525000, 750000, 630000, 949000, 895000, 855000, 660000, 615000, 950000, 435000, 795000, 1650000, 280000, 999600, 460000, 418000, 490000, 401544, 465000, 702000, 380000, 620000, 835000, 1485000, 335000, 300000, 440000, 545000, 662000, 522000, 579000, 413000, 516000, 804124, 390390, 661863, 1170988, 461370, 520000, 300000, 404250, 400000, 510000, 326864, 460000, 282755, 1500000, 1375000, 474226, 680000, 620000, 250000, 880000, 677500, 715000, 1400000, 570000, 1100000, 1100000, 1675000, 1475000, 992500, 788000, 540000, 350000, 750000, 880000, 1150000, 690000, 700000, 710000, 760000, 1876000, 675000, 463146, 354500, 240000, 585000, 395000, 425000, 540000, 417000, 444558, 267000, 412600, 537500, 541709, 1053000, 760000, 540000, 570000, 130000, 465000, 535000, 520000, 515000, 475000, 500000, 330000, 690000, 610949, 520000, 104000], \"yaxis\": \"y\"}, {\"hoverlabel\": {\"namelength\": 0}, \"hovertemplate\": \"<b>OLS trendline</b><br>SALE_PRICE = 221.615793 * GROSS_SQUARE_FEET + 293473.099509<br>R<sup>2</sup>=0.205847<br><br>GROSS_SQUARE_FEET=%{x}<br>SALE_PRICE=%{y} <b>(trend)</b>\", \"legendgroup\": \"\", \"marker\": {\"color\": \"#636efa\", \"symbol\": \"circle\"}, \"mode\": \"lines\", \"name\": \"\", \"showlegend\": false, \"type\": \"scattergl\", \"x\": [0.0, 0.0, 0.0, 0.0, 0.0, 0.0, 0.0, 0.0, 0.0, 0.0, 0.0, 0.0, 0.0, 0.0, 0.0, 0.0, 0.0, 0.0, 0.0, 0.0, 0.0, 0.0, 0.0, 0.0, 0.0, 0.0, 0.0, 0.0, 0.0, 0.0, 0.0, 375.0, 425.0, 436.0, 448.0, 448.0, 468.0, 488.0, 492.0, 518.0, 528.0, 540.0, 540.0, 560.0, 570.0, 570.0, 572.0, 576.0, 576.0, 576.0, 585.0, 585.0, 600.0, 600.0, 600.0, 600.0, 600.0, 600.0, 600.0, 621.0, 625.0, 630.0, 630.0, 632.0, 637.0, 640.0, 640.0, 648.0, 660.0, 660.0, 660.0, 672.0, 676.0, 680.0, 683.0, 684.0, 696.0, 698.0, 702.0, 704.0, 704.0, 710.0, 720.0, 720.0, 720.0, 725.0, 726.0, 726.0, 728.0, 730.0, 730.0, 732.0, 732.0, 736.0, 740.0, 740.0, 744.0, 744.0, 748.0, 752.0, 756.0, 756.0, 759.0, 760.0, 760.0, 760.0, 761.0, 768.0, 770.0, 779.0, 780.0, 780.0, 784.0, 784.0, 784.0, 784.0, 792.0, 796.0, 796.0, 799.0, 800.0, 800.0, 800.0, 800.0, 800.0, 810.0, 812.0, 816.0, 816.0, 820.0, 820.0, 821.0, 825.0, 828.0, 828.0, 832.0, 833.0, 836.0, 840.0, 840.0, 842.0, 845.0, 850.0, 850.0, 850.0, 850.0, 854.0, 858.0, 858.0, 860.0, 860.0, 861.0, 864.0, 864.0, 864.0, 864.0, 864.0, 864.0, 866.0, 867.0, 868.0, 870.0, 870.0, 872.0, 872.0, 874.0, 874.0, 874.0, 876.0, 876.0, 880.0, 880.0, 880.0, 880.0, 880.0, 882.0, 884.0, 885.0, 888.0, 890.0, 892.0, 896.0, 896.0, 896.0, 896.0, 896.0, 896.0, 896.0, 896.0, 896.0, 896.0, 896.0, 896.0, 896.0, 900.0, 900.0, 900.0, 900.0, 900.0, 900.0, 900.0, 900.0, 900.0, 900.0, 900.0, 900.0, 902.0, 904.0, 904.0, 910.0, 910.0, 910.0, 912.0, 912.0, 912.0, 912.0, 912.0, 912.0, 916.0, 918.0, 920.0, 920.0, 920.0, 921.0, 924.0, 924.0, 924.0, 924.0, 924.0, 924.0, 926.0, 928.0, 928.0, 928.0, 930.0, 930.0, 931.0, 934.0, 936.0, 936.0, 938.0, 938.0, 940.0, 942.0, 944.0, 944.0, 944.0, 944.0, 944.0, 945.0, 945.0, 946.0, 946.0, 946.0, 946.0, 946.0, 949.0, 950.0, 952.0, 952.0, 952.0, 952.0, 952.0, 952.0, 956.0, 956.0, 956.0, 960.0, 960.0, 960.0, 960.0, 960.0, 960.0, 960.0, 960.0, 960.0, 960.0, 960.0, 960.0, 960.0, 960.0, 960.0, 960.0, 960.0, 960.0, 960.0, 960.0, 960.0, 960.0, 960.0, 960.0, 960.0, 960.0, 964.0, 966.0, 969.0, 970.0, 970.0, 975.0, 975.0, 975.0, 975.0, 975.0, 976.0, 976.0, 978.0, 978.0, 978.0, 980.0, 988.0, 988.0, 990.0, 990.0, 990.0, 991.0, 992.0, 992.0, 992.0, 992.0, 992.0, 996.0, 996.0, 996.0, 996.0, 996.0, 996.0, 997.0, 1000.0, 1000.0, 1000.0, 1000.0, 1000.0, 1000.0, 1000.0, 1000.0, 1000.0, 1000.0, 1000.0, 1000.0, 1008.0, 1008.0, 1008.0, 1008.0, 1008.0, 1008.0, 1008.0, 1008.0, 1008.0, 1008.0, 1008.0, 1008.0, 1012.0, 1012.0, 1014.0, 1014.0, 1017.0, 1020.0, 1020.0, 1020.0, 1020.0, 1020.0, 1020.0, 1020.0, 1020.0, 1020.0, 1020.0, 1020.0, 1020.0, 1020.0, 1020.0, 1023.0, 1024.0, 1024.0, 1024.0, 1024.0, 1024.0, 1024.0, 1024.0, 1024.0, 1026.0, 1026.0, 1030.0, 1031.0, 1031.0, 1032.0, 1035.0, 1036.0, 1036.0, 1036.0, 1036.0, 1036.0, 1036.0, 1038.0, 1038.0, 1040.0, 1040.0, 1040.0, 1040.0, 1040.0, 1040.0, 1040.0, 1044.0, 1044.0, 1044.0, 1044.0, 1044.0, 1050.0, 1050.0, 1050.0, 1050.0, 1050.0, 1050.0, 1050.0, 1050.0, 1050.0, 1050.0, 1050.0, 1050.0, 1050.0, 1050.0, 1054.0, 1056.0, 1056.0, 1056.0, 1056.0, 1056.0, 1056.0, 1056.0, 1056.0, 1056.0, 1056.0, 1056.0, 1056.0, 1056.0, 1056.0, 1056.0, 1057.0, 1058.0, 1060.0, 1060.0, 1060.0, 1061.0, 1063.0, 1064.0, 1064.0, 1064.0, 1064.0, 1064.0, 1064.0, 1064.0, 1064.0, 1066.0, 1066.0, 1068.0, 1072.0, 1072.0, 1076.0, 1076.0, 1076.0, 1077.0, 1078.0, 1078.0, 1080.0, 1080.0, 1080.0, 1080.0, 1080.0, 1080.0, 1080.0, 1080.0, 1080.0, 1080.0, 1080.0, 1080.0, 1080.0, 1080.0, 1080.0, 1080.0, 1080.0, 1080.0, 1080.0, 1083.0, 1084.0, 1084.0, 1084.0, 1084.0, 1084.0, 1086.0, 1086.0, 1086.0, 1086.0, 1088.0, 1088.0, 1088.0, 1088.0, 1088.0, 1088.0, 1088.0, 1089.0, 1089.0, 1090.0, 1090.0, 1091.0, 1092.0, 1092.0, 1092.0, 1092.0, 1092.0, 1092.0, 1092.0, 1094.0, 1094.0, 1094.0, 1095.0, 1096.0, 1096.0, 1098.0, 1100.0, 1100.0, 1100.0, 1100.0, 1100.0, 1100.0, 1100.0, 1101.0, 1102.0, 1104.0, 1104.0, 1104.0, 1104.0, 1104.0, 1105.0, 1105.0, 1108.0, 1110.0, 1110.0, 1110.0, 1111.0, 1112.0, 1112.0, 1112.0, 1114.0, 1115.0, 1116.0, 1116.0, 1116.0, 1116.0, 1116.0, 1116.0, 1116.0, 1116.0, 1116.0, 1116.0, 1116.0, 1116.0, 1116.0, 1116.0, 1118.0, 1120.0, 1120.0, 1120.0, 1120.0, 1120.0, 1120.0, 1120.0, 1120.0, 1120.0, 1120.0, 1120.0, 1120.0, 1120.0, 1120.0, 1120.0, 1120.0, 1120.0, 1120.0, 1120.0, 1120.0, 1120.0, 1120.0, 1120.0, 1120.0, 1120.0, 1122.0, 1124.0, 1125.0, 1125.0, 1125.0, 1125.0, 1125.0, 1125.0, 1125.0, 1125.0, 1126.0, 1126.0, 1126.0, 1127.0, 1128.0, 1128.0, 1128.0, 1128.0, 1130.0, 1131.0, 1132.0, 1132.0, 1132.0, 1132.0, 1134.0, 1134.0, 1134.0, 1134.0, 1135.0, 1136.0, 1136.0, 1137.0, 1138.0, 1140.0, 1140.0, 1140.0, 1140.0, 1140.0, 1140.0, 1140.0, 1141.0, 1142.0, 1142.0, 1144.0, 1144.0, 1144.0, 1144.0, 1144.0, 1144.0, 1144.0, 1144.0, 1144.0, 1144.0, 1144.0, 1144.0, 1144.0, 1145.0, 1145.0, 1147.0, 1147.0, 1148.0, 1148.0, 1148.0, 1148.0, 1148.0, 1148.0, 1148.0, 1150.0, 1150.0, 1150.0, 1151.0, 1152.0, 1152.0, 1152.0, 1152.0, 1152.0, 1152.0, 1152.0, 1152.0, 1152.0, 1152.0, 1152.0, 1152.0, 1152.0, 1152.0, 1152.0, 1152.0, 1152.0, 1152.0, 1152.0, 1152.0, 1152.0, 1152.0, 1154.0, 1155.0, 1156.0, 1156.0, 1156.0, 1160.0, 1160.0, 1160.0, 1160.0, 1160.0, 1160.0, 1160.0, 1160.0, 1160.0, 1160.0, 1160.0, 1160.0, 1160.0, 1160.0, 1162.0, 1163.0, 1168.0, 1168.0, 1168.0, 1168.0, 1168.0, 1169.0, 1170.0, 1170.0, 1170.0, 1170.0, 1170.0, 1170.0, 1170.0, 1172.0, 1175.0, 1176.0, 1176.0, 1176.0, 1176.0, 1176.0, 1176.0, 1180.0, 1180.0, 1180.0, 1180.0, 1180.0, 1180.0, 1182.0, 1182.0, 1182.0, 1184.0, 1184.0, 1184.0, 1184.0, 1184.0, 1184.0, 1184.0, 1185.0, 1185.0, 1185.0, 1186.0, 1186.0, 1188.0, 1188.0, 1188.0, 1188.0, 1188.0, 1188.0, 1188.0, 1190.0, 1190.0, 1190.0, 1190.0, 1191.0, 1192.0, 1192.0, 1192.0, 1192.0, 1192.0, 1194.0, 1194.0, 1195.0, 1196.0, 1196.0, 1196.0, 1196.0, 1198.0, 1198.0, 1198.0, 1200.0, 1200.0, 1200.0, 1200.0, 1200.0, 1200.0, 1200.0, 1200.0, 1200.0, 1200.0, 1200.0, 1200.0, 1200.0, 1200.0, 1200.0, 1200.0, 1200.0, 1200.0, 1200.0, 1200.0, 1200.0, 1200.0, 1200.0, 1200.0, 1200.0, 1200.0, 1200.0, 1200.0, 1200.0, 1200.0, 1200.0, 1200.0, 1202.0, 1202.0, 1203.0, 1203.0, 1204.0, 1204.0, 1204.0, 1205.0, 1206.0, 1206.0, 1206.0, 1208.0, 1208.0, 1208.0, 1208.0, 1208.0, 1208.0, 1210.0, 1210.0, 1210.0, 1212.0, 1212.0, 1214.0, 1214.0, 1214.0, 1214.0, 1215.0, 1215.0, 1216.0, 1216.0, 1216.0, 1216.0, 1216.0, 1216.0, 1216.0, 1216.0, 1216.0, 1216.0, 1216.0, 1216.0, 1216.0, 1216.0, 1218.0, 1220.0, 1220.0, 1220.0, 1220.0, 1222.0, 1224.0, 1224.0, 1224.0, 1224.0, 1224.0, 1224.0, 1224.0, 1224.0, 1224.0, 1224.0, 1224.0, 1224.0, 1224.0, 1224.0, 1224.0, 1224.0, 1224.0, 1224.0, 1224.0, 1224.0, 1224.0, 1224.0, 1224.0, 1225.0, 1228.0, 1230.0, 1230.0, 1230.0, 1230.0, 1230.0, 1230.0, 1232.0, 1232.0, 1232.0, 1232.0, 1232.0, 1232.0, 1232.0, 1232.0, 1232.0, 1232.0, 1234.0, 1234.0, 1234.0, 1235.0, 1236.0, 1236.0, 1238.0, 1238.0, 1238.0, 1240.0, 1240.0, 1240.0, 1240.0, 1240.0, 1240.0, 1240.0, 1240.0, 1240.0, 1240.0, 1240.0, 1242.0, 1242.0, 1242.0, 1242.0, 1242.0, 1244.0, 1245.0, 1245.0, 1245.0, 1246.0, 1246.0, 1246.0, 1248.0, 1248.0, 1248.0, 1248.0, 1248.0, 1248.0, 1248.0, 1248.0, 1248.0, 1248.0, 1248.0, 1248.0, 1248.0, 1248.0, 1248.0, 1248.0, 1248.0, 1248.0, 1248.0, 1248.0, 1248.0, 1248.0, 1249.0, 1250.0, 1250.0, 1250.0, 1251.0, 1252.0, 1252.0, 1254.0, 1255.0, 1256.0, 1256.0, 1258.0, 1258.0, 1260.0, 1260.0, 1260.0, 1260.0, 1260.0, 1260.0, 1260.0, 1260.0, 1260.0, 1260.0, 1260.0, 1260.0, 1260.0, 1260.0, 1260.0, 1260.0, 1260.0, 1260.0, 1260.0, 1260.0, 1264.0, 1264.0, 1264.0, 1264.0, 1264.0, 1264.0, 1264.0, 1264.0, 1264.0, 1265.0, 1266.0, 1266.0, 1267.0, 1268.0, 1272.0, 1273.0, 1274.0, 1274.0, 1274.0, 1274.0, 1276.0, 1276.0, 1278.0, 1280.0, 1280.0, 1280.0, 1280.0, 1280.0, 1280.0, 1280.0, 1280.0, 1280.0, 1280.0, 1280.0, 1280.0, 1280.0, 1280.0, 1280.0, 1280.0, 1280.0, 1280.0, 1280.0, 1280.0, 1280.0, 1280.0, 1280.0, 1280.0, 1280.0, 1280.0, 1280.0, 1280.0, 1280.0, 1280.0, 1280.0, 1280.0, 1280.0, 1281.0, 1282.0, 1282.0, 1282.0, 1282.0, 1284.0, 1284.0, 1285.0, 1288.0, 1288.0, 1288.0, 1288.0, 1288.0, 1288.0, 1288.0, 1289.0, 1290.0, 1292.0, 1292.0, 1294.0, 1295.0, 1295.0, 1296.0, 1296.0, 1296.0, 1296.0, 1296.0, 1296.0, 1296.0, 1296.0, 1296.0, 1296.0, 1296.0, 1296.0, 1296.0, 1296.0, 1296.0, 1296.0, 1296.0, 1296.0, 1296.0, 1296.0, 1296.0, 1296.0, 1296.0, 1296.0, 1296.0, 1296.0, 1296.0, 1296.0, 1296.0, 1296.0, 1296.0, 1297.0, 1298.0, 1298.0, 1299.0, 1300.0, 1300.0, 1300.0, 1300.0, 1300.0, 1300.0, 1300.0, 1300.0, 1300.0, 1300.0, 1300.0, 1302.0, 1304.0, 1304.0, 1304.0, 1304.0, 1304.0, 1304.0, 1305.0, 1305.0, 1305.0, 1306.0, 1307.0, 1308.0, 1308.0, 1309.0, 1312.0, 1312.0, 1312.0, 1312.0, 1312.0, 1312.0, 1312.0, 1312.0, 1312.0, 1314.0, 1316.0, 1316.0, 1316.0, 1318.0, 1320.0, 1320.0, 1320.0, 1320.0, 1320.0, 1320.0, 1320.0, 1320.0, 1320.0, 1320.0, 1320.0, 1320.0, 1320.0, 1320.0, 1320.0, 1320.0, 1320.0, 1320.0, 1321.0, 1322.0, 1322.0, 1323.0, 1323.0, 1324.0, 1324.0, 1324.0, 1324.0, 1325.0, 1325.0, 1325.0, 1325.0, 1326.0, 1326.0, 1327.0, 1328.0, 1328.0, 1328.0, 1328.0, 1328.0, 1328.0, 1328.0, 1328.0, 1329.0, 1329.0, 1330.0, 1330.0, 1330.0, 1330.0, 1330.0, 1332.0, 1332.0, 1332.0, 1332.0, 1332.0, 1334.0, 1335.0, 1336.0, 1338.0, 1338.0, 1339.0, 1339.0, 1339.0, 1342.0, 1344.0, 1344.0, 1344.0, 1344.0, 1344.0, 1344.0, 1344.0, 1344.0, 1344.0, 1344.0, 1344.0, 1344.0, 1344.0, 1344.0, 1344.0, 1344.0, 1344.0, 1344.0, 1344.0, 1344.0, 1345.0, 1348.0, 1348.0, 1350.0, 1350.0, 1350.0, 1350.0, 1350.0, 1350.0, 1350.0, 1350.0, 1350.0, 1350.0, 1352.0, 1352.0, 1352.0, 1354.0, 1354.0, 1354.0, 1354.0, 1356.0, 1356.0, 1356.0, 1356.0, 1358.0, 1360.0, 1360.0, 1360.0, 1360.0, 1360.0, 1360.0, 1360.0, 1360.0, 1360.0, 1360.0, 1360.0, 1360.0, 1360.0, 1360.0, 1360.0, 1360.0, 1360.0, 1360.0, 1360.0, 1361.0, 1362.0, 1364.0, 1364.0, 1367.0, 1368.0, 1368.0, 1368.0, 1368.0, 1368.0, 1368.0, 1368.0, 1368.0, 1368.0, 1368.0, 1369.0, 1370.0, 1372.0, 1372.0, 1372.0, 1372.0, 1372.0, 1374.0, 1375.0, 1376.0, 1376.0, 1376.0, 1376.0, 1376.0, 1376.0, 1376.0, 1376.0, 1377.0, 1377.0, 1377.0, 1377.0, 1377.0, 1378.0, 1378.0, 1380.0, 1380.0, 1380.0, 1380.0, 1381.0, 1382.0, 1382.0, 1384.0, 1384.0, 1385.0, 1386.0, 1388.0, 1388.0, 1392.0, 1392.0, 1392.0, 1392.0, 1392.0, 1392.0, 1392.0, 1392.0, 1394.0, 1395.0, 1396.0, 1396.0, 1399.0, 1399.0, 1400.0, 1400.0, 1400.0, 1400.0, 1400.0, 1400.0, 1400.0, 1400.0, 1400.0, 1400.0, 1400.0, 1400.0, 1400.0, 1400.0, 1400.0, 1400.0, 1400.0, 1400.0, 1400.0, 1400.0, 1400.0, 1400.0, 1400.0, 1402.0, 1402.0, 1403.0, 1404.0, 1404.0, 1405.0, 1405.0, 1406.0, 1406.0, 1407.0, 1408.0, 1408.0, 1408.0, 1408.0, 1408.0, 1408.0, 1408.0, 1408.0, 1408.0, 1408.0, 1408.0, 1408.0, 1409.0, 1410.0, 1410.0, 1412.0, 1412.0, 1415.0, 1416.0, 1416.0, 1416.0, 1418.0, 1418.0, 1420.0, 1420.0, 1420.0, 1422.0, 1422.0, 1422.0, 1424.0, 1424.0, 1424.0, 1424.0, 1424.0, 1424.0, 1424.0, 1425.0, 1426.0, 1426.0, 1427.0, 1428.0, 1428.0, 1428.0, 1428.0, 1428.0, 1428.0, 1432.0, 1432.0, 1432.0, 1433.0, 1434.0, 1434.0, 1434.0, 1436.0, 1436.0, 1438.0, 1438.0, 1440.0, 1440.0, 1440.0, 1440.0, 1440.0, 1440.0, 1440.0, 1440.0, 1440.0, 1440.0, 1440.0, 1440.0, 1440.0, 1440.0, 1440.0, 1440.0, 1440.0, 1440.0, 1440.0, 1440.0, 1440.0, 1440.0, 1440.0, 1440.0, 1440.0, 1440.0, 1440.0, 1440.0, 1440.0, 1440.0, 1440.0, 1440.0, 1440.0, 1440.0, 1440.0, 1440.0, 1440.0, 1440.0, 1440.0, 1440.0, 1440.0, 1442.0, 1444.0, 1444.0, 1446.0, 1448.0, 1448.0, 1448.0, 1448.0, 1449.0, 1450.0, 1450.0, 1450.0, 1450.0, 1452.0, 1452.0, 1452.0, 1452.0, 1452.0, 1452.0, 1454.0, 1455.0, 1455.0, 1456.0, 1456.0, 1456.0, 1456.0, 1457.0, 1460.0, 1460.0, 1460.0, 1460.0, 1460.0, 1460.0, 1460.0, 1460.0, 1460.0, 1463.0, 1464.0, 1464.0, 1464.0, 1464.0, 1464.0, 1466.0, 1468.0, 1468.0, 1469.0, 1470.0, 1470.0, 1470.0, 1470.0, 1470.0, 1472.0, 1472.0, 1472.0, 1472.0, 1472.0, 1472.0, 1472.0, 1472.0, 1475.0, 1476.0, 1476.0, 1476.0, 1476.0, 1480.0, 1480.0, 1480.0, 1480.0, 1480.0, 1480.0, 1480.0, 1480.0, 1480.0, 1480.0, 1480.0, 1484.0, 1485.0, 1485.0, 1487.0, 1488.0, 1488.0, 1488.0, 1488.0, 1488.0, 1489.0, 1489.0, 1490.0, 1492.0, 1494.0, 1494.0, 1496.0, 1496.0, 1496.0, 1496.0, 1496.0, 1496.0, 1496.0, 1496.0, 1498.0, 1500.0, 1500.0, 1500.0, 1500.0, 1500.0, 1500.0, 1500.0, 1500.0, 1500.0, 1500.0, 1500.0, 1500.0, 1501.0, 1504.0, 1504.0, 1504.0, 1504.0, 1504.0, 1506.0, 1506.0, 1508.0, 1508.0, 1510.0, 1510.0, 1512.0, 1512.0, 1512.0, 1512.0, 1512.0, 1512.0, 1512.0, 1515.0, 1516.0, 1516.0, 1516.0, 1518.0, 1519.0, 1520.0, 1520.0, 1520.0, 1520.0, 1520.0, 1520.0, 1520.0, 1520.0, 1520.0, 1520.0, 1520.0, 1520.0, 1520.0, 1520.0, 1522.0, 1524.0, 1525.0, 1526.0, 1528.0, 1528.0, 1528.0, 1528.0, 1528.0, 1528.0, 1528.0, 1528.0, 1530.0, 1530.0, 1530.0, 1530.0, 1532.0, 1534.0, 1534.0, 1535.0, 1536.0, 1536.0, 1536.0, 1536.0, 1536.0, 1536.0, 1536.0, 1536.0, 1536.0, 1536.0, 1536.0, 1536.0, 1536.0, 1536.0, 1536.0, 1538.0, 1539.0, 1539.0, 1540.0, 1540.0, 1540.0, 1540.0, 1540.0, 1540.0, 1540.0, 1542.0, 1542.0, 1544.0, 1544.0, 1544.0, 1546.0, 1546.0, 1548.0, 1548.0, 1550.0, 1550.0, 1550.0, 1551.0, 1552.0, 1552.0, 1552.0, 1552.0, 1552.0, 1552.0, 1552.0, 1552.0, 1552.0, 1552.0, 1552.0, 1552.0, 1552.0, 1552.0, 1552.0, 1554.0, 1554.0, 1556.0, 1557.0, 1557.0, 1559.0, 1560.0, 1560.0, 1560.0, 1560.0, 1560.0, 1560.0, 1560.0, 1564.0, 1564.0, 1564.0, 1566.0, 1566.0, 1566.0, 1566.0, 1566.0, 1566.0, 1567.0, 1568.0, 1568.0, 1568.0, 1568.0, 1568.0, 1568.0, 1568.0, 1568.0, 1568.0, 1568.0, 1568.0, 1568.0, 1570.0, 1570.0, 1575.0, 1575.0, 1575.0, 1576.0, 1576.0, 1576.0, 1577.0, 1578.0, 1578.0, 1578.0, 1580.0, 1580.0, 1580.0, 1583.0, 1584.0, 1584.0, 1584.0, 1584.0, 1584.0, 1584.0, 1584.0, 1584.0, 1584.0, 1584.0, 1585.0, 1585.0, 1585.0, 1585.0, 1586.0, 1586.0, 1591.0, 1592.0, 1592.0, 1592.0, 1592.0, 1593.0, 1594.0, 1594.0, 1595.0, 1596.0, 1598.0, 1599.0, 1600.0, 1600.0, 1600.0, 1600.0, 1600.0, 1600.0, 1600.0, 1600.0, 1600.0, 1600.0, 1600.0, 1600.0, 1600.0, 1600.0, 1600.0, 1600.0, 1600.0, 1600.0, 1600.0, 1600.0, 1600.0, 1600.0, 1600.0, 1601.0, 1605.0, 1606.0, 1608.0, 1608.0, 1608.0, 1608.0, 1608.0, 1608.0, 1610.0, 1610.0, 1612.0, 1614.0, 1616.0, 1617.0, 1620.0, 1620.0, 1620.0, 1620.0, 1620.0, 1620.0, 1620.0, 1620.0, 1622.0, 1622.0, 1622.0, 1623.0, 1624.0, 1624.0, 1624.0, 1624.0, 1624.0, 1624.0, 1630.0, 1630.0, 1632.0, 1632.0, 1632.0, 1632.0, 1632.0, 1632.0, 1632.0, 1632.0, 1632.0, 1633.0, 1635.0, 1636.0, 1636.0, 1636.0, 1638.0, 1638.0, 1638.0, 1638.0, 1638.0, 1640.0, 1645.0, 1645.0, 1645.0, 1646.0, 1648.0, 1648.0, 1648.0, 1648.0, 1650.0, 1650.0, 1650.0, 1650.0, 1650.0, 1650.0, 1650.0, 1653.0, 1656.0, 1658.0, 1658.0, 1658.0, 1660.0, 1660.0, 1660.0, 1660.0, 1660.0, 1660.0, 1664.0, 1664.0, 1664.0, 1664.0, 1665.0, 1666.0, 1668.0, 1668.0, 1670.0, 1672.0, 1672.0, 1672.0, 1672.0, 1672.0, 1672.0, 1673.0, 1676.0, 1679.0, 1679.0, 1680.0, 1680.0, 1680.0, 1680.0, 1680.0, 1680.0, 1680.0, 1680.0, 1680.0, 1680.0, 1683.0, 1683.0, 1683.0, 1683.0, 1683.0, 1683.0, 1683.0, 1688.0, 1690.0, 1690.0, 1690.0, 1691.0, 1692.0, 1694.0, 1696.0, 1696.0, 1697.0, 1700.0, 1700.0, 1700.0, 1700.0, 1700.0, 1702.0, 1704.0, 1707.0, 1708.0, 1708.0, 1709.0, 1712.0, 1712.0, 1714.0, 1715.0, 1715.0, 1716.0, 1716.0, 1718.0, 1720.0, 1720.0, 1720.0, 1722.0, 1724.0, 1724.0, 1725.0, 1726.0, 1726.0, 1727.0, 1727.0, 1728.0, 1728.0, 1728.0, 1728.0, 1728.0, 1729.0, 1729.0, 1732.0, 1732.0, 1732.0, 1732.0, 1738.0, 1742.0, 1744.0, 1744.0, 1744.0, 1748.0, 1748.0, 1749.0, 1750.0, 1750.0, 1750.0, 1751.0, 1751.0, 1752.0, 1754.0, 1755.0, 1756.0, 1756.0, 1758.0, 1758.0, 1758.0, 1760.0, 1760.0, 1760.0, 1760.0, 1760.0, 1760.0, 1762.0, 1764.0, 1764.0, 1764.0, 1764.0, 1765.0, 1765.0, 1768.0, 1770.0, 1772.0, 1772.0, 1775.0, 1775.0, 1776.0, 1776.0, 1776.0, 1776.0, 1776.0, 1776.0, 1776.0, 1776.0, 1776.0, 1778.0, 1779.0, 1780.0, 1780.0, 1782.0, 1782.0, 1782.0, 1782.0, 1782.0, 1785.0, 1789.0, 1791.0, 1792.0, 1792.0, 1793.0, 1793.0, 1794.0, 1794.0, 1795.0, 1795.0, 1796.0, 1800.0, 1800.0, 1800.0, 1800.0, 1800.0, 1800.0, 1800.0, 1800.0, 1800.0, 1800.0, 1800.0, 1804.0, 1806.0, 1806.0, 1807.0, 1807.0, 1807.0, 1808.0, 1808.0, 1808.0, 1809.0, 1812.0, 1812.0, 1812.0, 1813.0, 1813.0, 1814.0, 1814.0, 1816.0, 1820.0, 1820.0, 1820.0, 1820.0, 1824.0, 1824.0, 1824.0, 1826.0, 1826.0, 1828.0, 1828.0, 1830.0, 1831.0, 1831.0, 1831.0, 1831.0, 1832.0, 1836.0, 1836.0, 1839.0, 1840.0, 1840.0, 1840.0, 1842.0, 1844.0, 1845.0, 1846.0, 1848.0, 1848.0, 1848.0, 1850.0, 1851.0, 1853.0, 1855.0, 1856.0, 1856.0, 1858.0, 1860.0, 1860.0, 1864.0, 1864.0, 1868.0, 1868.0, 1869.0, 1870.0, 1870.0, 1870.0, 1872.0, 1872.0, 1873.0, 1874.0, 1876.0, 1877.0, 1880.0, 1882.0, 1888.0, 1888.0, 1888.0, 1888.0, 1888.0, 1890.0, 1890.0, 1890.0, 1890.0, 1890.0, 1890.0, 1894.0, 1896.0, 1896.0, 1900.0, 1900.0, 1900.0, 1902.0, 1904.0, 1906.0, 1908.0, 1908.0, 1910.0, 1913.0, 1914.0, 1914.0, 1916.0, 1916.0, 1920.0, 1920.0, 1920.0, 1920.0, 1920.0, 1920.0, 1920.0, 1920.0, 1920.0, 1920.0, 1923.0, 1925.0, 1925.0, 1925.0, 1925.0, 1925.0, 1927.0, 1932.0, 1933.0, 1943.0, 1944.0, 1944.0, 1944.0, 1944.0, 1944.0, 1949.0, 1950.0, 1950.0, 1959.0, 1960.0, 1960.0, 1960.0, 1962.0, 1964.0, 1964.0, 1965.0, 1965.0, 1968.0, 1970.0, 1972.0, 1975.0, 1976.0, 1976.0, 1977.0, 1980.0, 1980.0, 1980.0, 1980.0, 1980.0, 1982.0, 1984.0, 1990.0, 1991.0, 1991.0, 1992.0, 1992.0, 1995.0, 1995.0, 1995.0, 1995.0, 1996.0, 1997.0, 1998.0, 1998.0, 1998.0, 1999.0, 2000.0, 2000.0, 2000.0, 2000.0, 2000.0, 2000.0, 2000.0, 2001.0, 2001.0, 2002.0, 2002.0, 2003.0, 2004.0, 2006.0, 2007.0, 2008.0, 2014.0, 2016.0, 2016.0, 2018.0, 2020.0, 2022.0, 2025.0, 2025.0, 2025.0, 2032.0, 2037.0, 2040.0, 2040.0, 2040.0, 2043.0, 2044.0, 2046.0, 2047.0, 2047.0, 2048.0, 2050.0, 2050.0, 2052.0, 2058.0, 2058.0, 2063.0, 2063.0, 2064.0, 2064.0, 2068.0, 2069.0, 2072.0, 2072.0, 2080.0, 2083.0, 2086.0, 2087.0, 2088.0, 2090.0, 2096.0, 2099.0, 2100.0, 2100.0, 2100.0, 2100.0, 2101.0, 2104.0, 2110.0, 2112.0, 2115.0, 2120.0, 2120.0, 2124.0, 2128.0, 2128.0, 2128.0, 2130.0, 2132.0, 2132.0, 2132.0, 2132.0, 2134.0, 2140.0, 2141.0, 2149.0, 2150.0, 2157.0, 2158.0, 2158.0, 2160.0, 2160.0, 2160.0, 2160.0, 2160.0, 2165.0, 2172.0, 2172.0, 2172.0, 2175.0, 2176.0, 2178.0, 2184.0, 2186.0, 2187.0, 2188.0, 2190.0, 2190.0, 2194.0, 2196.0, 2200.0, 2200.0, 2200.0, 2205.0, 2208.0, 2208.0, 2208.0, 2210.0, 2212.0, 2220.0, 2221.0, 2222.0, 2226.0, 2230.0, 2236.0, 2238.0, 2241.0, 2241.0, 2242.0, 2244.0, 2248.0, 2248.0, 2250.0, 2250.0, 2261.0, 2262.0, 2264.0, 2268.0, 2268.0, 2274.0, 2275.0, 2275.0, 2278.0, 2280.0, 2280.0, 2288.0, 2289.0, 2289.0, 2292.0, 2295.0, 2296.0, 2300.0, 2310.0, 2310.0, 2310.0, 2315.0, 2317.0, 2320.0, 2328.0, 2339.0, 2339.0, 2340.0, 2344.0, 2350.0, 2350.0, 2352.0, 2355.0, 2358.0, 2360.0, 2360.0, 2360.0, 2364.0, 2365.0, 2366.0, 2384.0, 2384.0, 2384.0, 2390.0, 2392.0, 2393.0, 2394.0, 2394.0, 2400.0, 2400.0, 2400.0, 2406.0, 2408.0, 2412.0, 2416.0, 2416.0, 2420.0, 2430.0, 2442.0, 2452.0, 2455.0, 2460.0, 2464.0, 2464.0, 2466.0, 2472.0, 2475.0, 2476.0, 2484.0, 2485.0, 2486.0, 2490.0, 2492.0, 2495.0, 2500.0, 2500.0, 2501.0, 2506.0, 2508.0, 2511.0, 2520.0, 2524.0, 2536.0, 2538.0, 2540.0, 2540.0, 2548.0, 2550.0, 2560.0, 2560.0, 2560.0, 2562.0, 2567.0, 2568.0, 2596.0, 2600.0, 2604.0, 2608.0, 2612.0, 2620.0, 2640.0, 2650.0, 2651.0, 2660.0, 2660.0, 2660.0, 2680.0, 2680.0, 2680.0, 2688.0, 2688.0, 2688.0, 2692.0, 2692.0, 2700.0, 2700.0, 2705.0, 2716.0, 2720.0, 2726.0, 2744.0, 2782.0, 2786.0, 2798.0, 2800.0, 2808.0, 2814.0, 2814.0, 2831.0, 2868.0, 2877.0, 2878.0, 2888.0, 2900.0, 2900.0, 2916.0, 2929.0, 2937.0, 2996.0, 3000.0, 3000.0, 3004.0, 3027.0, 3040.0, 3050.0, 3070.0, 3070.0, 3078.0, 3080.0, 3090.0, 3096.0, 3168.0, 3177.0, 3184.0, 3200.0, 3203.0, 3208.0, 3210.0, 3228.0, 3240.0, 3280.0, 3316.0, 3318.0, 3360.0, 3366.0, 3372.0, 3392.0, 3468.0, 3520.0, 3540.0, 3559.0, 3580.0, 3661.0, 3680.0, 3773.0, 3800.0, 3836.0, 3865.0, 4108.0, 4180.0, 4215.0, 4299.0, 4301.0, 4394.0, 4455.0, 4600.0, 4647.0, 4950.0, 5178.0, 5184.0, 5348.0, 7200.0, 7500.0, 7875.0], \"xaxis\": \"x\", \"y\": [293473.099508548, 293473.099508548, 293473.099508548, 293473.099508548, 293473.099508548, 293473.099508548, 293473.099508548, 293473.099508548, 293473.099508548, 293473.099508548, 293473.099508548, 293473.099508548, 293473.099508548, 293473.099508548, 293473.099508548, 293473.099508548, 293473.099508548, 293473.099508548, 293473.099508548, 293473.099508548, 293473.099508548, 293473.099508548, 293473.099508548, 293473.099508548, 293473.099508548, 293473.099508548, 293473.099508548, 293473.099508548, 293473.099508548, 293473.099508548, 293473.099508548, 376579.0219441499, 387659.8116022302, 390097.58532700787, 392756.9748449471, 392756.9748449471, 397189.29070817924, 401621.6065714113, 402508.0697440577, 408270.0803662595, 410486.2382978755, 413145.6278158148, 413145.6278158148, 417577.94367904693, 419794.10161066294, 419794.10161066294, 420237.3331969862, 421123.7963696326, 421123.7963696326, 421123.7963696326, 423118.33850808704, 423118.33850808704, 426442.5754055111, 426442.5754055111, 426442.5754055111, 426442.5754055111, 426442.5754055111, 426442.5754055111, 426442.5754055111, 431096.5070619048, 431982.97023455123, 433091.04920035927, 433091.04920035927, 433534.2807866825, 434642.35975249053, 435307.20713197533, 435307.20713197533, 437080.13347726816, 439739.52299520746, 439739.52299520746, 439739.52299520746, 442398.91251314664, 443285.3756857931, 444171.8388584395, 444836.6862379244, 445058.30203108594, 447717.69154902524, 448160.9231353484, 449047.38630799484, 449490.6178943181, 449490.6178943181, 450820.31265328766, 453036.4705849037, 453036.4705849037, 453036.4705849037, 454144.54955071176, 454366.1653438734, 454366.1653438734, 454809.39693019656, 455252.6285165198, 455252.6285165198, 455695.860102843, 455695.860102843, 456582.3232754894, 457468.78644813586, 457468.78644813586, 458355.24962078227, 458355.24962078227, 459241.7127934287, 460128.1759660751, 461014.6391387215, 461014.6391387215, 461679.4865182063, 461901.102311368, 461901.102311368, 461901.102311368, 462122.71810452954, 463674.0286566608, 464117.260242984, 466111.80238143844, 466333.41817460005, 466333.41817460005, 467219.88134724647, 467219.88134724647, 467219.88134724647, 467219.88134724647, 468992.8076925393, 469879.27086518577, 469879.27086518577, 470544.11824467056, 470765.7340378321, 470765.7340378321, 470765.7340378321, 470765.7340378321, 470765.7340378321, 472981.8919694482, 473425.1235557714, 474311.58672841784, 474311.58672841784, 475198.04990106425, 475198.04990106425, 475419.66569422587, 476306.1288668723, 476970.9762463571, 476970.9762463571, 477857.43941900355, 478079.0552121651, 478743.9025916499, 479630.3657642964, 479630.3657642964, 480073.59735061956, 480738.4447301044, 481846.52369591244, 481846.52369591244, 481846.52369591244, 481846.52369591244, 482732.9868685588, 483619.4500412053, 483619.4500412053, 484062.68162752845, 484062.68162752845, 484284.29742069007, 484949.14480017486, 484949.14480017486, 484949.14480017486, 484949.14480017486, 484949.14480017486, 484949.14480017486, 485392.3763864981, 485613.99217965966, 485835.60797282134, 486278.8395591445, 486278.8395591445, 486722.0711454677, 486722.0711454677, 487165.3027317909, 487165.3027317909, 487165.3027317909, 487608.53431811417, 487608.53431811417, 488494.9974907606, 488494.9974907606, 488494.9974907606, 488494.9974907606, 488494.9974907606, 488938.22907708376, 489381.460663407, 489603.07645656855, 490267.9238360534, 490711.1554223766, 491154.3870086998, 492040.85018134624, 492040.85018134624, 492040.85018134624, 492040.85018134624, 492040.85018134624, 492040.85018134624, 492040.85018134624, 492040.85018134624, 492040.85018134624, 492040.85018134624, 492040.85018134624, 492040.85018134624, 492040.85018134624, 492927.31335399265, 492927.31335399265, 492927.31335399265, 492927.31335399265, 492927.31335399265, 492927.31335399265, 492927.31335399265, 492927.31335399265, 492927.31335399265, 492927.31335399265, 492927.31335399265, 492927.31335399265, 493370.5449403159, 493813.7765266391, 493813.7765266391, 495143.4712856087, 495143.4712856087, 495143.4712856087, 495586.70287193195, 495586.70287193195, 495586.70287193195, 495586.70287193195, 495586.70287193195, 495586.70287193195, 496473.16604457836, 496916.39763090154, 497359.6292172248, 497359.6292172248, 497359.6292172248, 497581.24501038634, 498246.0923898712, 498246.0923898712, 498246.0923898712, 498246.0923898712, 498246.0923898712, 498246.0923898712, 498689.32397619437, 499132.5555625176, 499132.5555625176, 499132.5555625176, 499575.78714884084, 499575.78714884084, 499797.4029420024, 500462.25032148726, 500905.48190781043, 500905.48190781043, 501348.71349413367, 501348.71349413367, 501791.9450804569, 502235.1766667801, 502678.40825310326, 502678.40825310326, 502678.40825310326, 502678.40825310326, 502678.40825310326, 502900.02404626494, 502900.02404626494, 503121.6398394265, 503121.6398394265, 503121.6398394265, 503121.6398394265, 503121.6398394265, 503786.4872189113, 504008.10301207297, 504451.33459839615, 504451.33459839615, 504451.33459839615, 504451.33459839615, 504451.33459839615, 504451.33459839615, 505337.79777104256, 505337.79777104256, 505337.79777104256, 506224.260943689, 506224.260943689, 506224.260943689, 506224.260943689, 506224.260943689, 506224.260943689, 506224.260943689, 506224.260943689, 506224.260943689, 506224.260943689, 506224.260943689, 506224.260943689, 506224.260943689, 506224.260943689, 506224.260943689, 506224.260943689, 506224.260943689, 506224.260943689, 506224.260943689, 506224.260943689, 506224.260943689, 506224.260943689, 506224.260943689, 506224.260943689, 506224.260943689, 506224.260943689, 507110.7241163354, 507553.9557026586, 508218.8030821434, 508440.41887530504, 508440.41887530504, 509548.4978411131, 509548.4978411131, 509548.4978411131, 509548.4978411131, 509548.4978411131, 509770.1136342747, 509770.1136342747, 510213.34522059787, 510213.34522059787, 510213.34522059787, 510656.57680692105, 512429.50315221393, 512429.50315221393, 512872.7347385371, 512872.7347385371, 512872.7347385371, 513094.3505316988, 513315.96632486035, 513315.96632486035, 513315.96632486035, 513315.96632486035, 513315.96632486035, 514202.42949750676, 514202.42949750676, 514202.42949750676, 514202.42949750676, 514202.42949750676, 514202.42949750676, 514424.0452906684, 515088.8926701532, 515088.8926701532, 515088.8926701532, 515088.8926701532, 515088.8926701532, 515088.8926701532, 515088.8926701532, 515088.8926701532, 515088.8926701532, 515088.8926701532, 515088.8926701532, 515088.8926701532, 516861.819015446, 516861.819015446, 516861.819015446, 516861.819015446, 516861.819015446, 516861.819015446, 516861.819015446, 516861.819015446, 516861.819015446, 516861.819015446, 516861.819015446, 516861.819015446, 517748.2821880925, 517748.2821880925, 518191.51377441565, 518191.51377441565, 518856.3611539005, 519521.2085333853, 519521.2085333853, 519521.2085333853, 519521.2085333853, 519521.2085333853, 519521.2085333853, 519521.2085333853, 519521.2085333853, 519521.2085333853, 519521.2085333853, 519521.2085333853, 519521.2085333853, 519521.2085333853, 519521.2085333853, 520186.0559128701, 520407.6717060317, 520407.6717060317, 520407.6717060317, 520407.6717060317, 520407.6717060317, 520407.6717060317, 520407.6717060317, 520407.6717060317, 520850.9032923549, 520850.9032923549, 521737.36646500137, 521958.9822581629, 521958.9822581629, 522180.59805132454, 522845.4454308094, 523067.06122397096, 523067.06122397096, 523067.06122397096, 523067.06122397096, 523067.06122397096, 523067.06122397096, 523510.2928102942, 523510.2928102942, 523953.52439661743, 523953.52439661743, 523953.52439661743, 523953.52439661743, 523953.52439661743, 523953.52439661743, 523953.52439661743, 524839.9875692638, 524839.9875692638, 524839.9875692638, 524839.9875692638, 524839.9875692638, 526169.6823282335, 526169.6823282335, 526169.6823282335, 526169.6823282335, 526169.6823282335, 526169.6823282335, 526169.6823282335, 526169.6823282335, 526169.6823282335, 526169.6823282335, 526169.6823282335, 526169.6823282335, 526169.6823282335, 526169.6823282335, 527056.1455008799, 527499.3770872031, 527499.3770872031, 527499.3770872031, 527499.3770872031, 527499.3770872031, 527499.3770872031, 527499.3770872031, 527499.3770872031, 527499.3770872031, 527499.3770872031, 527499.3770872031, 527499.3770872031, 527499.3770872031, 527499.3770872031, 527499.3770872031, 527720.9928803646, 527942.6086735263, 528385.8402598496, 528385.8402598496, 528385.8402598496, 528607.4560530111, 529050.6876393344, 529272.3034324959, 529272.3034324959, 529272.3034324959, 529272.3034324959, 529272.3034324959, 529272.3034324959, 529272.3034324959, 529272.3034324959, 529715.5350188192, 529715.5350188192, 530158.7666051424, 531045.2297777887, 531045.2297777887, 531931.6929504352, 531931.6929504352, 531931.6929504352, 532153.3087435968, 532374.9245367583, 532374.9245367583, 532818.1561230816, 532818.1561230816, 532818.1561230816, 532818.1561230816, 532818.1561230816, 532818.1561230816, 532818.1561230816, 532818.1561230816, 532818.1561230816, 532818.1561230816, 532818.1561230816, 532818.1561230816, 532818.1561230816, 532818.1561230816, 532818.1561230816, 532818.1561230816, 532818.1561230816, 532818.1561230816, 532818.1561230816, 533483.0035025664, 533704.619295728, 533704.619295728, 533704.619295728, 533704.619295728, 533704.619295728, 534147.8508820513, 534147.8508820513, 534147.8508820513, 534147.8508820513, 534591.0824683744, 534591.0824683744, 534591.0824683744, 534591.0824683744, 534591.0824683744, 534591.0824683744, 534591.0824683744, 534812.6982615361, 534812.6982615361, 535034.3140546976, 535034.3140546976, 535255.9298478593, 535477.5456410209, 535477.5456410209, 535477.5456410209, 535477.5456410209, 535477.5456410209, 535477.5456410209, 535477.5456410209, 535920.7772273441, 535920.7772273441, 535920.7772273441, 536142.3930205057, 536364.0088136673, 536364.0088136673, 536807.2403999905, 537250.4719863137, 537250.4719863137, 537250.4719863137, 537250.4719863137, 537250.4719863137, 537250.4719863137, 537250.4719863137, 537472.0877794754, 537693.7035726369, 538136.9351589602, 538136.9351589602, 538136.9351589602, 538136.9351589602, 538136.9351589602, 538358.5509521217, 538358.5509521217, 539023.3983316065, 539466.6299179298, 539466.6299179298, 539466.6299179298, 539688.2457110914, 539909.861504253, 539909.861504253, 539909.861504253, 540353.0930905761, 540574.7088837378, 540796.3246768994, 540796.3246768994, 540796.3246768994, 540796.3246768994, 540796.3246768994, 540796.3246768994, 540796.3246768994, 540796.3246768994, 540796.3246768994, 540796.3246768994, 540796.3246768994, 540796.3246768994, 540796.3246768994, 540796.3246768994, 541239.5562632226, 541682.7878495458, 541682.7878495458, 541682.7878495458, 541682.7878495458, 541682.7878495458, 541682.7878495458, 541682.7878495458, 541682.7878495458, 541682.7878495458, 541682.7878495458, 541682.7878495458, 541682.7878495458, 541682.7878495458, 541682.7878495458, 541682.7878495458, 541682.7878495458, 541682.7878495458, 541682.7878495458, 541682.7878495458, 541682.7878495458, 541682.7878495458, 541682.7878495458, 541682.7878495458, 541682.7878495458, 541682.7878495458, 542126.0194358691, 542569.2510221922, 542790.8668153539, 542790.8668153539, 542790.8668153539, 542790.8668153539, 542790.8668153539, 542790.8668153539, 542790.8668153539, 542790.8668153539, 543012.4826085154, 543012.4826085154, 543012.4826085154, 543234.0984016771, 543455.7141948387, 543455.7141948387, 543455.7141948387, 543455.7141948387, 543898.9457811619, 544120.5615743235, 544342.1773674851, 544342.1773674851, 544342.1773674851, 544342.1773674851, 544785.4089538082, 544785.4089538082, 544785.4089538082, 544785.4089538082, 545007.0247469699, 545228.6405401315, 545228.6405401315, 545450.2563332932, 545671.8721264547, 546115.103712778, 546115.103712778, 546115.103712778, 546115.103712778, 546115.103712778, 546115.103712778, 546115.103712778, 546336.7195059395, 546558.3352991012, 546558.3352991012, 547001.5668854243, 547001.5668854243, 547001.5668854243, 547001.5668854243, 547001.5668854243, 547001.5668854243, 547001.5668854243, 547001.5668854243, 547001.5668854243, 547001.5668854243, 547001.5668854243, 547001.5668854243, 547001.5668854243, 547223.182678586, 547223.182678586, 547666.4142649092, 547666.4142649092, 547888.0300580708, 547888.0300580708, 547888.0300580708, 547888.0300580708, 547888.0300580708, 547888.0300580708, 547888.0300580708, 548331.2616443939, 548331.2616443939, 548331.2616443939, 548552.8774375556, 548774.4932307173, 548774.4932307173, 548774.4932307173, 548774.4932307173, 548774.4932307173, 548774.4932307173, 548774.4932307173, 548774.4932307173, 548774.4932307173, 548774.4932307173, 548774.4932307173, 548774.4932307173, 548774.4932307173, 548774.4932307173, 548774.4932307173, 548774.4932307173, 548774.4932307173, 548774.4932307173, 548774.4932307173, 548774.4932307173, 548774.4932307173, 548774.4932307173, 549217.7248170404, 549439.3406102019, 549660.9564033636, 549660.9564033636, 549660.9564033636, 550547.41957601, 550547.41957601, 550547.41957601, 550547.41957601, 550547.41957601, 550547.41957601, 550547.41957601, 550547.41957601, 550547.41957601, 550547.41957601, 550547.41957601, 550547.41957601, 550547.41957601, 550547.41957601, 550990.6511623332, 551212.2669554949, 552320.3459213029, 552320.3459213029, 552320.3459213029, 552320.3459213029, 552320.3459213029, 552541.9617144645, 552763.577507626, 552763.577507626, 552763.577507626, 552763.577507626, 552763.577507626, 552763.577507626, 552763.577507626, 553206.8090939493, 553871.6564734341, 554093.2722665957, 554093.2722665957, 554093.2722665957, 554093.2722665957, 554093.2722665957, 554093.2722665957, 554979.7354392421, 554979.7354392421, 554979.7354392421, 554979.7354392421, 554979.7354392421, 554979.7354392421, 555422.9670255653, 555422.9670255653, 555422.9670255653, 555866.1986118886, 555866.1986118886, 555866.1986118886, 555866.1986118886, 555866.1986118886, 555866.1986118886, 555866.1986118886, 556087.8144050501, 556087.8144050501, 556087.8144050501, 556309.4301982117, 556309.4301982117, 556752.661784535, 556752.661784535, 556752.661784535, 556752.661784535, 556752.661784535, 556752.661784535, 556752.661784535, 557195.8933708582, 557195.8933708582, 557195.8933708582, 557195.8933708582, 557417.5091640197, 557639.1249571814, 557639.1249571814, 557639.1249571814, 557639.1249571814, 557639.1249571814, 558082.3565435046, 558082.3565435046, 558303.9723366662, 558525.5881298278, 558525.5881298278, 558525.5881298278, 558525.5881298278, 558968.8197161511, 558968.8197161511, 558968.8197161511, 559412.0513024742, 559412.0513024742, 559412.0513024742, 559412.0513024742, 559412.0513024742, 559412.0513024742, 559412.0513024742, 559412.0513024742, 559412.0513024742, 559412.0513024742, 559412.0513024742, 559412.0513024742, 559412.0513024742, 559412.0513024742, 559412.0513024742, 559412.0513024742, 559412.0513024742, 559412.0513024742, 559412.0513024742, 559412.0513024742, 559412.0513024742, 559412.0513024742, 559412.0513024742, 559412.0513024742, 559412.0513024742, 559412.0513024742, 559412.0513024742, 559412.0513024742, 559412.0513024742, 559412.0513024742, 559412.0513024742, 559412.0513024742, 559855.2828887975, 559855.2828887975, 560076.898681959, 560076.898681959, 560298.5144751207, 560298.5144751207, 560298.5144751207, 560520.1302682823, 560741.7460614438, 560741.7460614438, 560741.7460614438, 561184.977647767, 561184.977647767, 561184.977647767, 561184.977647767, 561184.977647767, 561184.977647767, 561628.2092340903, 561628.2092340903, 561628.2092340903, 562071.4408204135, 562071.4408204135, 562514.6724067368, 562514.6724067368, 562514.6724067368, 562514.6724067368, 562736.2881998983, 562736.2881998983, 562957.9039930599, 562957.9039930599, 562957.9039930599, 562957.9039930599, 562957.9039930599, 562957.9039930599, 562957.9039930599, 562957.9039930599, 562957.9039930599, 562957.9039930599, 562957.9039930599, 562957.9039930599, 562957.9039930599, 562957.9039930599, 563401.1355793831, 563844.3671657064, 563844.3671657064, 563844.3671657064, 563844.3671657064, 564287.5987520295, 564730.8303383528, 564730.8303383528, 564730.8303383528, 564730.8303383528, 564730.8303383528, 564730.8303383528, 564730.8303383528, 564730.8303383528, 564730.8303383528, 564730.8303383528, 564730.8303383528, 564730.8303383528, 564730.8303383528, 564730.8303383528, 564730.8303383528, 564730.8303383528, 564730.8303383528, 564730.8303383528, 564730.8303383528, 564730.8303383528, 564730.8303383528, 564730.8303383528, 564730.8303383528, 564952.4461315144, 565617.2935109992, 566060.5250973224, 566060.5250973224, 566060.5250973224, 566060.5250973224, 566060.5250973224, 566060.5250973224, 566503.7566836455, 566503.7566836455, 566503.7566836455, 566503.7566836455, 566503.7566836455, 566503.7566836455, 566503.7566836455, 566503.7566836455, 566503.7566836455, 566503.7566836455, 566946.9882699689, 566946.9882699689, 566946.9882699689, 567168.6040631304, 567390.219856292, 567390.219856292, 567833.4514426152, 567833.4514426152, 567833.4514426152, 568276.6830289385, 568276.6830289385, 568276.6830289385, 568276.6830289385, 568276.6830289385, 568276.6830289385, 568276.6830289385, 568276.6830289385, 568276.6830289385, 568276.6830289385, 568276.6830289385, 568719.9146152616, 568719.9146152616, 568719.9146152616, 568719.9146152616, 568719.9146152616, 569163.1462015848, 569384.7619947465, 569384.7619947465, 569384.7619947465, 569606.3777879081, 569606.3777879081, 569606.3777879081, 570049.6093742313, 570049.6093742313, 570049.6093742313, 570049.6093742313, 570049.6093742313, 570049.6093742313, 570049.6093742313, 570049.6093742313, 570049.6093742313, 570049.6093742313, 570049.6093742313, 570049.6093742313, 570049.6093742313, 570049.6093742313, 570049.6093742313, 570049.6093742313, 570049.6093742313, 570049.6093742313, 570049.6093742313, 570049.6093742313, 570049.6093742313, 570049.6093742313, 570271.2251673929, 570492.8409605545, 570492.8409605545, 570492.8409605545, 570714.4567537161, 570936.0725468777, 570936.0725468777, 571379.3041332009, 571600.9199263626, 571822.5357195241, 571822.5357195241, 572265.7673058473, 572265.7673058473, 572708.9988921706, 572708.9988921706, 572708.9988921706, 572708.9988921706, 572708.9988921706, 572708.9988921706, 572708.9988921706, 572708.9988921706, 572708.9988921706, 572708.9988921706, 572708.9988921706, 572708.9988921706, 572708.9988921706, 572708.9988921706, 572708.9988921706, 572708.9988921706, 572708.9988921706, 572708.9988921706, 572708.9988921706, 572708.9988921706, 573595.462064817, 573595.462064817, 573595.462064817, 573595.462064817, 573595.462064817, 573595.462064817, 573595.462064817, 573595.462064817, 573595.462064817, 573817.0778579786, 574038.6936511402, 574038.6936511402, 574260.3094443018, 574481.9252374633, 575368.3884101098, 575590.0042032714, 575811.619996433, 575811.619996433, 575811.619996433, 575811.619996433, 576254.8515827563, 576254.8515827563, 576698.0831690794, 577141.3147554027, 577141.3147554027, 577141.3147554027, 577141.3147554027, 577141.3147554027, 577141.3147554027, 577141.3147554027, 577141.3147554027, 577141.3147554027, 577141.3147554027, 577141.3147554027, 577141.3147554027, 577141.3147554027, 577141.3147554027, 577141.3147554027, 577141.3147554027, 577141.3147554027, 577141.3147554027, 577141.3147554027, 577141.3147554027, 577141.3147554027, 577141.3147554027, 577141.3147554027, 577141.3147554027, 577141.3147554027, 577141.3147554027, 577141.3147554027, 577141.3147554027, 577141.3147554027, 577141.3147554027, 577141.3147554027, 577141.3147554027, 577141.3147554027, 577362.9305485643, 577584.5463417259, 577584.5463417259, 577584.5463417259, 577584.5463417259, 578027.7779280491, 578027.7779280491, 578249.3937212107, 578914.2411006954, 578914.2411006954, 578914.2411006954, 578914.2411006954, 578914.2411006954, 578914.2411006954, 578914.2411006954, 579135.8568938571, 579357.4726870187, 579800.7042733419, 579800.7042733419, 580243.935859665, 580465.5516528267, 580465.5516528267, 580687.1674459884, 580687.1674459884, 580687.1674459884, 580687.1674459884, 580687.1674459884, 580687.1674459884, 580687.1674459884, 580687.1674459884, 580687.1674459884, 580687.1674459884, 580687.1674459884, 580687.1674459884, 580687.1674459884, 580687.1674459884, 580687.1674459884, 580687.1674459884, 580687.1674459884, 580687.1674459884, 580687.1674459884, 580687.1674459884, 580687.1674459884, 580687.1674459884, 580687.1674459884, 580687.1674459884, 580687.1674459884, 580687.1674459884, 580687.1674459884, 580687.1674459884, 580687.1674459884, 580687.1674459884, 580687.1674459884, 580908.78323915, 581130.3990323115, 581130.3990323115, 581352.0148254731, 581573.6306186348, 581573.6306186348, 581573.6306186348, 581573.6306186348, 581573.6306186348, 581573.6306186348, 581573.6306186348, 581573.6306186348, 581573.6306186348, 581573.6306186348, 581573.6306186348, 582016.862204958, 582460.0937912811, 582460.0937912811, 582460.0937912811, 582460.0937912811, 582460.0937912811, 582460.0937912811, 582681.7095844428, 582681.7095844428, 582681.7095844428, 582903.3253776045, 583124.941170766, 583346.5569639276, 583346.5569639276, 583568.1727570891, 584233.020136574, 584233.020136574, 584233.020136574, 584233.020136574, 584233.020136574, 584233.020136574, 584233.020136574, 584233.020136574, 584233.020136574, 584676.2517228972, 585119.4833092205, 585119.4833092205, 585119.4833092205, 585562.7148955436, 586005.9464818669, 586005.9464818669, 586005.9464818669, 586005.9464818669, 586005.9464818669, 586005.9464818669, 586005.9464818669, 586005.9464818669, 586005.9464818669, 586005.9464818669, 586005.9464818669, 586005.9464818669, 586005.9464818669, 586005.9464818669, 586005.9464818669, 586005.9464818669, 586005.9464818669, 586005.9464818669, 586227.5622750284, 586449.1780681901, 586449.1780681901, 586670.7938613517, 586670.7938613517, 586892.4096545132, 586892.4096545132, 586892.4096545132, 586892.4096545132, 587114.0254476749, 587114.0254476749, 587114.0254476749, 587114.0254476749, 587335.6412408365, 587335.6412408365, 587557.2570339981, 587778.8728271597, 587778.8728271597, 587778.8728271597, 587778.8728271597, 587778.8728271597, 587778.8728271597, 587778.8728271597, 587778.8728271597, 588000.4886203213, 588000.4886203213, 588222.1044134828, 588222.1044134828, 588222.1044134828, 588222.1044134828, 588222.1044134828, 588665.3359998062, 588665.3359998062, 588665.3359998062, 588665.3359998062, 588665.3359998062, 589108.5675861293, 589330.1833792909, 589551.7991724525, 589995.0307587758, 589995.0307587758, 590216.6465519373, 590216.6465519373, 590216.6465519373, 590881.4939314222, 591324.7255177454, 591324.7255177454, 591324.7255177454, 591324.7255177454, 591324.7255177454, 591324.7255177454, 591324.7255177454, 591324.7255177454, 591324.7255177454, 591324.7255177454, 591324.7255177454, 591324.7255177454, 591324.7255177454, 591324.7255177454, 591324.7255177454, 591324.7255177454, 591324.7255177454, 591324.7255177454, 591324.7255177454, 591324.7255177454, 591546.3413109069, 592211.1886903918, 592211.1886903918, 592654.420276715, 592654.420276715, 592654.420276715, 592654.420276715, 592654.420276715, 592654.420276715, 592654.420276715, 592654.420276715, 592654.420276715, 592654.420276715, 593097.6518630383, 593097.6518630383, 593097.6518630383, 593540.8834493614, 593540.8834493614, 593540.8834493614, 593540.8834493614, 593984.1150356847, 593984.1150356847, 593984.1150356847, 593984.1150356847, 594427.3466220079, 594870.578208331, 594870.578208331, 594870.578208331, 594870.578208331, 594870.578208331, 594870.578208331, 594870.578208331, 594870.578208331, 594870.578208331, 594870.578208331, 594870.578208331, 594870.578208331, 594870.578208331, 594870.578208331, 594870.578208331, 594870.578208331, 594870.578208331, 594870.578208331, 594870.578208331, 595092.1940014927, 595313.8097946543, 595757.0413809775, 595757.0413809775, 596421.8887604623, 596643.504553624, 596643.504553624, 596643.504553624, 596643.504553624, 596643.504553624, 596643.504553624, 596643.504553624, 596643.504553624, 596643.504553624, 596643.504553624, 596865.1203467855, 597086.7361399471, 597529.9677262703, 597529.9677262703, 597529.9677262703, 597529.9677262703, 597529.9677262703, 597973.1993125936, 598194.8151057551, 598416.4308989167, 598416.4308989167, 598416.4308989167, 598416.4308989167, 598416.4308989167, 598416.4308989167, 598416.4308989167, 598416.4308989167, 598638.0466920784, 598638.0466920784, 598638.0466920784, 598638.0466920784, 598638.0466920784, 598859.66248524, 598859.66248524, 599302.8940715631, 599302.8940715631, 599302.8940715631, 599302.8940715631, 599524.5098647247, 599746.1256578864, 599746.1256578864, 600189.3572442096, 600189.3572442096, 600410.9730373712, 600632.5888305327, 601075.8204168561, 601075.8204168561, 601962.2835895024, 601962.2835895024, 601962.2835895024, 601962.2835895024, 601962.2835895024, 601962.2835895024, 601962.2835895024, 601962.2835895024, 602405.5151758257, 602627.1309689872, 602848.7467621488, 602848.7467621488, 603513.5941416337, 603513.5941416337, 603735.2099347953, 603735.2099347953, 603735.2099347953, 603735.2099347953, 603735.2099347953, 603735.2099347953, 603735.2099347953, 603735.2099347953, 603735.2099347953, 603735.2099347953, 603735.2099347953, 603735.2099347953, 603735.2099347953, 603735.2099347953, 603735.2099347953, 603735.2099347953, 603735.2099347953, 603735.2099347953, 603735.2099347953, 603735.2099347953, 603735.2099347953, 603735.2099347953, 603735.2099347953, 604178.4415211185, 604178.4415211185, 604400.0573142801, 604621.6731074417, 604621.6731074417, 604843.2889006033, 604843.2889006033, 605064.9046937649, 605064.9046937649, 605286.5204869264, 605508.1362800881, 605508.1362800881, 605508.1362800881, 605508.1362800881, 605508.1362800881, 605508.1362800881, 605508.1362800881, 605508.1362800881, 605508.1362800881, 605508.1362800881, 605508.1362800881, 605508.1362800881, 605729.7520732498, 605951.3678664113, 605951.3678664113, 606394.5994527345, 606394.5994527345, 607059.4468322194, 607281.0626253809, 607281.0626253809, 607281.0626253809, 607724.2942117042, 607724.2942117042, 608167.5257980274, 608167.5257980274, 608167.5257980274, 608610.7573843505, 608610.7573843505, 608610.7573843505, 609053.9889706739, 609053.9889706739, 609053.9889706739, 609053.9889706739, 609053.9889706739, 609053.9889706739, 609053.9889706739, 609275.6047638354, 609497.220556997, 609497.220556997, 609718.8363501586, 609940.4521433202, 609940.4521433202, 609940.4521433202, 609940.4521433202, 609940.4521433202, 609940.4521433202, 610826.9153159666, 610826.9153159666, 610826.9153159666, 611048.5311091283, 611270.1469022899, 611270.1469022899, 611270.1469022899, 611713.3784886131, 611713.3784886131, 612156.6100749363, 612156.6100749363, 612599.8416612595, 612599.8416612595, 612599.8416612595, 612599.8416612595, 612599.8416612595, 612599.8416612595, 612599.8416612595, 612599.8416612595, 612599.8416612595, 612599.8416612595, 612599.8416612595, 612599.8416612595, 612599.8416612595, 612599.8416612595, 612599.8416612595, 612599.8416612595, 612599.8416612595, 612599.8416612595, 612599.8416612595, 612599.8416612595, 612599.8416612595, 612599.8416612595, 612599.8416612595, 612599.8416612595, 612599.8416612595, 612599.8416612595, 612599.8416612595, 612599.8416612595, 612599.8416612595, 612599.8416612595, 612599.8416612595, 612599.8416612595, 612599.8416612595, 612599.8416612595, 612599.8416612595, 612599.8416612595, 612599.8416612595, 612599.8416612595, 612599.8416612595, 612599.8416612595, 612599.8416612595, 613043.0732475827, 613486.3048339059, 613486.3048339059, 613929.5364202291, 614372.7680065522, 614372.7680065522, 614372.7680065522, 614372.7680065522, 614594.3837997139, 614815.9995928756, 614815.9995928756, 614815.9995928756, 614815.9995928756, 615259.2311791987, 615259.2311791987, 615259.2311791987, 615259.2311791987, 615259.2311791987, 615259.2311791987, 615702.462765522, 615924.0785586836, 615924.0785586836, 616145.6943518452, 616145.6943518452, 616145.6943518452, 616145.6943518452, 616367.3101450067, 617032.1575244917, 617032.1575244917, 617032.1575244917, 617032.1575244917, 617032.1575244917, 617032.1575244917, 617032.1575244917, 617032.1575244917, 617032.1575244917, 617697.0049039763, 617918.620697138, 617918.620697138, 617918.620697138, 617918.620697138, 617918.620697138, 618361.8522834613, 618805.0838697844, 618805.0838697844, 619026.699662946, 619248.3154561077, 619248.3154561077, 619248.3154561077, 619248.3154561077, 619248.3154561077, 619691.5470424308, 619691.5470424308, 619691.5470424308, 619691.5470424308, 619691.5470424308, 619691.5470424308, 619691.5470424308, 619691.5470424308, 620356.3944219156, 620578.0102150773, 620578.0102150773, 620578.0102150773, 620578.0102150773, 621464.4733877237, 621464.4733877237, 621464.4733877237, 621464.4733877237, 621464.4733877237, 621464.4733877237, 621464.4733877237, 621464.4733877237, 621464.4733877237, 621464.4733877237, 621464.4733877237, 622350.93656037, 622572.5523535317, 622572.5523535317, 623015.7839398549, 623237.3997330165, 623237.3997330165, 623237.3997330165, 623237.3997330165, 623237.3997330165, 623459.0155261781, 623459.0155261781, 623680.6313193397, 624123.862905663, 624567.0944919861, 624567.0944919861, 625010.3260783094, 625010.3260783094, 625010.3260783094, 625010.3260783094, 625010.3260783094, 625010.3260783094, 625010.3260783094, 625010.3260783094, 625453.5576646326, 625896.7892509558, 625896.7892509558, 625896.7892509558, 625896.7892509558, 625896.7892509558, 625896.7892509558, 625896.7892509558, 625896.7892509558, 625896.7892509558, 625896.7892509558, 625896.7892509558, 625896.7892509558, 626118.4050441175, 626783.2524236022, 626783.2524236022, 626783.2524236022, 626783.2524236022, 626783.2524236022, 627226.4840099255, 627226.4840099255, 627669.7155962486, 627669.7155962486, 628112.9471825719, 628112.9471825719, 628556.1787688951, 628556.1787688951, 628556.1787688951, 628556.1787688951, 628556.1787688951, 628556.1787688951, 628556.1787688951, 629221.0261483799, 629442.6419415415, 629442.6419415415, 629442.6419415415, 629885.8735278647, 630107.4893210263, 630329.1051141879, 630329.1051141879, 630329.1051141879, 630329.1051141879, 630329.1051141879, 630329.1051141879, 630329.1051141879, 630329.1051141879, 630329.1051141879, 630329.1051141879, 630329.1051141879, 630329.1051141879, 630329.1051141879, 630329.1051141879, 630772.3367005112, 631215.5682868343, 631437.1840799958, 631658.7998731575, 632102.0314594808, 632102.0314594808, 632102.0314594808, 632102.0314594808, 632102.0314594808, 632102.0314594808, 632102.0314594808, 632102.0314594808, 632545.2630458039, 632545.2630458039, 632545.2630458039, 632545.2630458039, 632988.4946321272, 633431.7262184503, 633431.7262184503, 633653.3420116119, 633874.9578047736, 633874.9578047736, 633874.9578047736, 633874.9578047736, 633874.9578047736, 633874.9578047736, 633874.9578047736, 633874.9578047736, 633874.9578047736, 633874.9578047736, 633874.9578047736, 633874.9578047736, 633874.9578047736, 633874.9578047736, 633874.9578047736, 634318.1893910968, 634539.8051842584, 634539.8051842584, 634761.4209774199, 634761.4209774199, 634761.4209774199, 634761.4209774199, 634761.4209774199, 634761.4209774199, 634761.4209774199, 635204.6525637433, 635204.6525637433, 635647.8841500664, 635647.8841500664, 635647.8841500664, 636091.1157363896, 636091.1157363896, 636534.3473227129, 636534.3473227129, 636977.578909036, 636977.578909036, 636977.578909036, 637199.1947021977, 637420.8104953592, 637420.8104953592, 637420.8104953592, 637420.8104953592, 637420.8104953592, 637420.8104953592, 637420.8104953592, 637420.8104953592, 637420.8104953592, 637420.8104953592, 637420.8104953592, 637420.8104953592, 637420.8104953592, 637420.8104953592, 637420.8104953592, 637864.0420816825, 637864.0420816825, 638307.2736680057, 638528.8894611673, 638528.8894611673, 638972.1210474905, 639193.7368406521, 639193.7368406521, 639193.7368406521, 639193.7368406521, 639193.7368406521, 639193.7368406521, 639193.7368406521, 640080.2000132985, 640080.2000132985, 640080.2000132985, 640523.4315996217, 640523.4315996217, 640523.4315996217, 640523.4315996217, 640523.4315996217, 640523.4315996217, 640745.0473927833, 640966.663185945, 640966.663185945, 640966.663185945, 640966.663185945, 640966.663185945, 640966.663185945, 640966.663185945, 640966.663185945, 640966.663185945, 640966.663185945, 640966.663185945, 640966.663185945, 641409.8947722681, 641409.8947722681, 642517.9737380762, 642517.9737380762, 642517.9737380762, 642739.5895312377, 642739.5895312377, 642739.5895312377, 642961.2053243994, 643182.8211175611, 643182.8211175611, 643182.8211175611, 643626.0527038842, 643626.0527038842, 643626.0527038842, 644290.9000833691, 644512.5158765307, 644512.5158765307, 644512.5158765307, 644512.5158765307, 644512.5158765307, 644512.5158765307, 644512.5158765307, 644512.5158765307, 644512.5158765307, 644512.5158765307, 644734.1316696922, 644734.1316696922, 644734.1316696922, 644734.1316696922, 644955.7474628538, 644955.7474628538, 646063.8264286618, 646285.4422218235, 646285.4422218235, 646285.4422218235, 646285.4422218235, 646507.058014985, 646728.6738081467, 646728.6738081467, 646950.2896013083, 647171.9053944699, 647615.1369807931, 647836.7527739548, 648058.3685671163, 648058.3685671163, 648058.3685671163, 648058.3685671163, 648058.3685671163, 648058.3685671163, 648058.3685671163, 648058.3685671163, 648058.3685671163, 648058.3685671163, 648058.3685671163, 648058.3685671163, 648058.3685671163, 648058.3685671163, 648058.3685671163, 648058.3685671163, 648058.3685671163, 648058.3685671163, 648058.3685671163, 648058.3685671163, 648058.3685671163, 648058.3685671163, 648058.3685671163, 648279.9843602779, 649166.4475329244, 649388.0633260859, 649831.2949124092, 649831.2949124092, 649831.2949124092, 649831.2949124092, 649831.2949124092, 649831.2949124092, 650274.5264987324, 650274.5264987324, 650717.7580850555, 651160.9896713789, 651604.221257702, 651825.8370508635, 652490.6844303485, 652490.6844303485, 652490.6844303485, 652490.6844303485, 652490.6844303485, 652490.6844303485, 652490.6844303485, 652490.6844303485, 652933.9160166716, 652933.9160166716, 652933.9160166716, 653155.5318098333, 653377.1476029949, 653377.1476029949, 653377.1476029949, 653377.1476029949, 653377.1476029949, 653377.1476029949, 654706.8423619645, 654706.8423619645, 655150.0739482876, 655150.0739482876, 655150.0739482876, 655150.0739482876, 655150.0739482876, 655150.0739482876, 655150.0739482876, 655150.0739482876, 655150.0739482876, 655371.6897414493, 655814.9213277726, 656036.5371209341, 656036.5371209341, 656036.5371209341, 656479.7687072572, 656479.7687072572, 656479.7687072572, 656479.7687072572, 656479.7687072572, 656923.0002935806, 658031.0792593886, 658031.0792593886, 658031.0792593886, 658252.6950525502, 658695.9266388733, 658695.9266388733, 658695.9266388733, 658695.9266388733, 659139.1582251966, 659139.1582251966, 659139.1582251966, 659139.1582251966, 659139.1582251966, 659139.1582251966, 659139.1582251966, 659804.0056046813, 660468.8529841662, 660912.0845704894, 660912.0845704894, 660912.0845704894, 661355.3161568127, 661355.3161568127, 661355.3161568127, 661355.3161568127, 661355.3161568127, 661355.3161568127, 662241.7793294591, 662241.7793294591, 662241.7793294591, 662241.7793294591, 662463.3951226207, 662685.0109157823, 663128.2425021054, 663128.2425021054, 663571.4740884287, 664014.7056747519, 664014.7056747519, 664014.7056747519, 664014.7056747519, 664014.7056747519, 664014.7056747519, 664236.3214679135, 664901.1688473984, 665566.016226883, 665566.016226883, 665787.6320200447, 665787.6320200447, 665787.6320200447, 665787.6320200447, 665787.6320200447, 665787.6320200447, 665787.6320200447, 665787.6320200447, 665787.6320200447, 665787.6320200447, 666452.4793995295, 666452.4793995295, 666452.4793995295, 666452.4793995295, 666452.4793995295, 666452.4793995295, 666452.4793995295, 667560.5583653376, 668003.7899516608, 668003.7899516608, 668003.7899516608, 668225.4057448225, 668447.021537984, 668890.2531243071, 669333.4847106305, 669333.4847106305, 669555.100503792, 670219.9478832769, 670219.9478832769, 670219.9478832769, 670219.9478832769, 670219.9478832769, 670663.1794696001, 671106.4110559232, 671771.2584354081, 671992.8742285697, 671992.8742285697, 672214.4900217312, 672879.3374012162, 672879.3374012162, 673322.5689875393, 673544.1847807008, 673544.1847807008, 673765.8005738625, 673765.8005738625, 674209.0321601857, 674652.2637465089, 674652.2637465089, 674652.2637465089, 675095.4953328322, 675538.7269191553, 675538.7269191553, 675760.3427123169, 675981.9585054786, 675981.9585054786, 676203.5742986402, 676203.5742986402, 676425.1900918018, 676425.1900918018, 676425.1900918018, 676425.1900918018, 676425.1900918018, 676646.8058849634, 676646.8058849634, 677311.6532644483, 677311.6532644483, 677311.6532644483, 677311.6532644483, 678641.3480234179, 679527.8111960643, 679971.0427823875, 679971.0427823875, 679971.0427823875, 680857.5059550339, 680857.5059550339, 681079.1217481955, 681300.737541357, 681300.737541357, 681300.737541357, 681522.3533345187, 681522.3533345187, 681743.9691276803, 682187.2007140035, 682408.8165071651, 682630.4323003266, 682630.4323003266, 683073.66388665, 683073.66388665, 683073.66388665, 683516.8954729731, 683516.8954729731, 683516.8954729731, 683516.8954729731, 683516.8954729731, 683516.8954729731, 683960.1270592964, 684403.3586456196, 684403.3586456196, 684403.3586456196, 684403.3586456196, 684624.9744387812, 684624.9744387812, 685289.8218182661, 685733.0534045892, 686176.2849909124, 686176.2849909124, 686841.1323703972, 686841.1323703972, 687062.7481635588, 687062.7481635588, 687062.7481635588, 687062.7481635588, 687062.7481635588, 687062.7481635588, 687062.7481635588, 687062.7481635588, 687062.7481635588, 687505.9797498821, 687727.5955430437, 687949.2113362052, 687949.2113362052, 688392.4429225285, 688392.4429225285, 688392.4429225285, 688392.4429225285, 688392.4429225285, 689057.2903020133, 689943.7534746598, 690386.9850609829, 690608.6008541444, 690608.6008541444, 690830.2166473061, 690830.2166473061, 691051.8324404678, 691051.8324404678, 691273.4482336293, 691273.4482336293, 691495.0640267909, 692381.5271994374, 692381.5271994374, 692381.5271994374, 692381.5271994374, 692381.5271994374, 692381.5271994374, 692381.5271994374, 692381.5271994374, 692381.5271994374, 692381.5271994374, 692381.5271994374, 693267.9903720838, 693711.221958407, 693711.221958407, 693932.8377515685, 693932.8377515685, 693932.8377515685, 694154.4535447302, 694154.4535447302, 694154.4535447302, 694376.0693378919, 695040.9167173766, 695040.9167173766, 695040.9167173766, 695262.5325105382, 695262.5325105382, 695484.1483036999, 695484.1483036999, 695927.379890023, 696813.8430626695, 696813.8430626695, 696813.8430626695, 696813.8430626695, 697700.3062353159, 697700.3062353159, 697700.3062353159, 698143.5378216391, 698143.5378216391, 698586.7694079623, 698586.7694079623, 699030.0009942856, 699251.6167874471, 699251.6167874471, 699251.6167874471, 699251.6167874471, 699473.2325806087, 700359.6957532552, 700359.6957532552, 701024.54313274, 701246.1589259016, 701246.1589259016, 701246.1589259016, 701689.3905122248, 702132.622098548, 702354.2378917097, 702575.8536848712, 703019.0852711943, 703019.0852711943, 703019.0852711943, 703462.3168575177, 703683.9326506793, 704127.1642370024, 704570.3958233257, 704792.0116164873, 704792.0116164873, 705235.2432028104, 705678.4747891336, 705678.4747891336, 706564.9379617801, 706564.9379617801, 707451.4011344265, 707451.4011344265, 707673.0169275881, 707894.6327207497, 707894.6327207497, 707894.6327207497, 708337.864307073, 708337.864307073, 708559.4801002345, 708781.0958933961, 709224.3274797194, 709445.943272881, 710110.7906523658, 710554.022238689, 711883.7169976586, 711883.7169976586, 711883.7169976586, 711883.7169976586, 711883.7169976586, 712326.9485839818, 712326.9485839818, 712326.9485839818, 712326.9485839818, 712326.9485839818, 712326.9485839818, 713213.4117566282, 713656.6433429515, 713656.6433429515, 714543.1065155979, 714543.1065155979, 714543.1065155979, 714986.3381019211, 715429.5696882443, 715872.8012745675, 716316.0328608907, 716316.0328608907, 716759.2644472138, 717424.1118266988, 717645.7276198603, 717645.7276198603, 718088.9592061836, 718088.9592061836, 718975.4223788299, 718975.4223788299, 718975.4223788299, 718975.4223788299, 718975.4223788299, 718975.4223788299, 718975.4223788299, 718975.4223788299, 718975.4223788299, 718975.4223788299, 719640.2697583148, 720083.501344638, 720083.501344638, 720083.501344638, 720083.501344638, 720083.501344638, 720526.7329309613, 721634.8118967693, 721856.4276899309, 724072.585621547, 724294.2014147085, 724294.2014147085, 724294.2014147085, 724294.2014147085, 724294.2014147085, 725402.2803805165, 725623.8961736781, 725623.8961736781, 727618.4383121326, 727840.0541052942, 727840.0541052942, 727840.0541052942, 728283.2856916174, 728726.5172779406, 728726.5172779406, 728948.1330711022, 728948.1330711022, 729612.9804505871, 730056.2120369102, 730499.4436232335, 731164.2910027183, 731385.9067958798, 731385.9067958798, 731607.5225890415, 732272.3699685263, 732272.3699685263, 732272.3699685263, 732272.3699685263, 732272.3699685263, 732715.6015548495, 733158.8331411728, 734488.5279001424, 734710.1436933039, 734710.1436933039, 734931.7594864655, 734931.7594864655, 735596.6068659504, 735596.6068659504, 735596.6068659504, 735596.6068659504, 735818.222659112, 736039.8384522735, 736261.4542454352, 736261.4542454352, 736261.4542454352, 736483.0700385969, 736704.6858317584, 736704.6858317584, 736704.6858317584, 736704.6858317584, 736704.6858317584, 736704.6858317584, 736704.6858317584, 736926.30162492, 736926.30162492, 737147.9174180815, 737147.9174180815, 737369.5332112432, 737591.1490044049, 738034.380590728, 738255.9963838896, 738477.6121770513, 739807.306936021, 740250.5385223441, 740250.5385223441, 740693.7701086673, 741137.0016949906, 741580.2332813137, 742245.0806607986, 742245.0806607986, 742245.0806607986, 743796.3912129297, 744904.4701787378, 745569.3175582227, 745569.3175582227, 745569.3175582227, 746234.1649377074, 746455.780730869, 746899.0123171923, 747120.6281103538, 747120.6281103538, 747342.2439035154, 747785.4754898387, 747785.4754898387, 748228.7070761619, 749558.4018351315, 749558.4018351315, 750666.4808009395, 750666.4808009395, 750888.096594101, 750888.096594101, 751774.5597667475, 751996.1755599091, 752661.022939394, 752661.022939394, 754433.9492846868, 755098.7966641716, 755763.6440436565, 755985.2598368181, 756206.8756299797, 756650.1072163029, 757979.8019752725, 758644.6493547573, 758866.265147919, 758866.265147919, 758866.265147919, 758866.265147919, 759087.8809410805, 759752.7283205653, 761082.4230795349, 761525.6546658583, 762190.5020453429, 763298.581011151, 763298.581011151, 764185.0441837974, 765071.5073564439, 765071.5073564439, 765071.5073564439, 765514.738942767, 765957.9705290903, 765957.9705290903, 765957.9705290903, 765957.9705290903, 766401.2021154135, 767730.8968743831, 767952.5126675447, 769725.4390128376, 769947.0548059992, 771498.3653581304, 771719.9811512921, 771719.9811512921, 772163.2127376152, 772163.2127376152, 772163.2127376152, 772163.2127376152, 772163.2127376152, 773271.2917034233, 774822.6022555545, 774822.6022555545, 774822.6022555545, 775487.4496350393, 775709.0654282009, 776152.2970145241, 777481.9917734938, 777925.2233598169, 778146.8391529785, 778368.4549461402, 778811.6865324634, 778811.6865324634, 779698.1497051099, 780141.381291433, 781027.8444640795, 781027.8444640795, 781027.8444640795, 782135.9234298875, 782800.7708093723, 782800.7708093723, 782800.7708093723, 783244.0023956955, 783687.2339820187, 785460.1603273116, 785681.7761204732, 785903.3919136347, 786789.8550862812, 787676.3182589277, 789006.0130178973, 789449.2446042204, 790114.0919837053, 790114.0919837053, 790335.7077768669, 790778.9393631901, 791665.4025358364, 791665.4025358364, 792108.6341221597, 792108.6341221597, 794546.4078469374, 794768.023640099, 795211.2552264221, 796097.7183990686, 796097.7183990686, 797427.4131580382, 797649.0289511998, 797649.0289511998, 798313.8763306846, 798757.1079170079, 798757.1079170079, 800530.0342623007, 800751.6500554623, 800751.6500554623, 801416.4974349472, 802081.3448144319, 802302.9606075935, 803189.4237802399, 805405.581711856, 805405.581711856, 805405.581711856, 806513.660677664, 806956.8922639873, 807621.739643472, 809394.665988765, 811832.4397135426, 811832.4397135426, 812054.0555067041, 812940.5186793506, 814270.2134383202, 814270.2134383202, 814713.4450246434, 815378.2924041282, 816043.1397836132, 816486.3713699363, 816486.3713699363, 816486.3713699363, 817372.8345425827, 817594.4503357443, 817816.0661289059, 821805.1504058149, 821805.1504058149, 821805.1504058149, 823134.8451647845, 823578.0767511076, 823799.6925442691, 824021.3083374309, 824021.3083374309, 825351.0030964005, 825351.0030964005, 825351.0030964005, 826680.6978553701, 827123.9294416932, 828010.3926143397, 828896.8557869862, 828896.8557869862, 829783.3189596327, 831999.4768912487, 834658.8664091879, 836875.024340804, 837539.8717202889, 838647.9506860969, 839534.4138587432, 839534.4138587432, 839977.6454450665, 841307.3402040361, 841972.1875835208, 842193.8033766826, 843966.7297219753, 844188.3455151368, 844409.9613082986, 845296.4244809449, 845739.6560672682, 846404.5034467529, 847512.5824125609, 847512.5824125609, 847734.1982057227, 848842.2771715305, 849285.5087578539, 849950.3561373386, 851944.8982757931, 852831.3614484395, 855490.7509663787, 855933.9825527021, 856377.2141390252, 856377.2141390252, 858150.1404843181, 858593.3720706413, 860809.5300022573, 860809.5300022573, 860809.5300022573, 861252.7615885804, 862360.8405543885, 862582.4563475503, 868787.6985560751, 869674.1617287216, 870560.624901368, 871447.0880740143, 872333.5512466608, 874106.4775919537, 878538.7934551858, 880754.9513868019, 880976.5671799635, 882971.1093184177, 882971.1093184177, 882971.1093184177, 887403.4251816499, 887403.4251816499, 887403.4251816499, 889176.3515269428, 889176.3515269428, 889176.3515269428, 890062.8146995893, 890062.8146995893, 891835.741044882, 891835.741044882, 892943.82001069, 895381.5937354676, 896268.0569081141, 897597.7516670837, 901586.8359439927, 910008.2360841336, 910894.6992567801, 913554.0887747193, 913997.3203610426, 915770.2467063353, 917099.9414653049, 917099.9414653049, 920867.4099490524, 929067.1942960317, 931061.7364344862, 931283.3522276478, 933499.5101592639, 936158.899677203, 936158.899677203, 939704.7523677887, 942585.7576788897, 944358.6840241824, 957434.0158207172, 958320.4789933637, 958320.4789933637, 959206.9421660102, 964304.105408727, 967185.1107198279, 969401.2686514438, 973833.5845146759, 973833.5845146759, 975606.5108599688, 976049.742446292, 978265.900377908, 979595.5951368776, 995551.9322445132, 997546.4743829677, 999097.7849350991, 1002643.6376256847, 1003308.4850051694, 1004416.5639709774, 1004859.7955573008, 1008848.8798342096, 1011508.2693521488, 1020372.901078613, 1028351.0696324308, 1028794.3012187541, 1038102.1645315415, 1039431.8592905111, 1040761.5540494807, 1045193.8699127128, 1062036.6701929949, 1073560.6914373983, 1077993.0073006304, 1082203.707370701, 1086857.6390270947, 1104808.5182731848, 1109019.218343255, 1129629.4871072844, 1135613.1135226479, 1143591.2820764657, 1150018.140078152, 1203870.7778164223, 1219827.1149240579, 1227583.6676847138, 1246199.3943102888, 1246642.625896612, 1267252.8946606412, 1280771.4580434992, 1312905.7480519318, 1323321.6903305275, 1390471.2756584936, 1440999.6764993398, 1442329.3712583093, 1478674.3613368126, 1889106.8102721055, 1955591.548220587, 2038697.470656189], \"yaxis\": \"y\"}],\n",
              "                        {\"height\": 600, \"legend\": {\"tracegroupgap\": 0}, \"margin\": {\"t\": 60}, \"template\": {\"data\": {\"bar\": [{\"error_x\": {\"color\": \"#2a3f5f\"}, \"error_y\": {\"color\": \"#2a3f5f\"}, \"marker\": {\"line\": {\"color\": \"#E5ECF6\", \"width\": 0.5}}, \"type\": \"bar\"}], \"barpolar\": [{\"marker\": {\"line\": {\"color\": \"#E5ECF6\", \"width\": 0.5}}, \"type\": \"barpolar\"}], \"carpet\": [{\"aaxis\": {\"endlinecolor\": \"#2a3f5f\", \"gridcolor\": \"white\", \"linecolor\": \"white\", \"minorgridcolor\": \"white\", \"startlinecolor\": \"#2a3f5f\"}, \"baxis\": {\"endlinecolor\": \"#2a3f5f\", \"gridcolor\": \"white\", \"linecolor\": \"white\", \"minorgridcolor\": \"white\", \"startlinecolor\": \"#2a3f5f\"}, \"type\": \"carpet\"}], \"choropleth\": [{\"colorbar\": {\"outlinewidth\": 0, \"ticks\": \"\"}, \"type\": \"choropleth\"}], \"contour\": [{\"colorbar\": {\"outlinewidth\": 0, \"ticks\": \"\"}, \"colorscale\": [[0.0, \"#0d0887\"], [0.1111111111111111, \"#46039f\"], [0.2222222222222222, \"#7201a8\"], [0.3333333333333333, \"#9c179e\"], [0.4444444444444444, \"#bd3786\"], [0.5555555555555556, \"#d8576b\"], [0.6666666666666666, \"#ed7953\"], [0.7777777777777778, \"#fb9f3a\"], [0.8888888888888888, \"#fdca26\"], [1.0, \"#f0f921\"]], \"type\": \"contour\"}], \"contourcarpet\": [{\"colorbar\": {\"outlinewidth\": 0, \"ticks\": \"\"}, \"type\": \"contourcarpet\"}], \"heatmap\": [{\"colorbar\": {\"outlinewidth\": 0, \"ticks\": \"\"}, \"colorscale\": [[0.0, \"#0d0887\"], [0.1111111111111111, \"#46039f\"], [0.2222222222222222, \"#7201a8\"], [0.3333333333333333, \"#9c179e\"], [0.4444444444444444, \"#bd3786\"], [0.5555555555555556, \"#d8576b\"], [0.6666666666666666, \"#ed7953\"], [0.7777777777777778, \"#fb9f3a\"], [0.8888888888888888, \"#fdca26\"], [1.0, \"#f0f921\"]], \"type\": \"heatmap\"}], \"heatmapgl\": [{\"colorbar\": {\"outlinewidth\": 0, \"ticks\": \"\"}, \"colorscale\": [[0.0, \"#0d0887\"], [0.1111111111111111, \"#46039f\"], [0.2222222222222222, \"#7201a8\"], [0.3333333333333333, \"#9c179e\"], [0.4444444444444444, \"#bd3786\"], [0.5555555555555556, \"#d8576b\"], [0.6666666666666666, \"#ed7953\"], [0.7777777777777778, \"#fb9f3a\"], [0.8888888888888888, \"#fdca26\"], [1.0, \"#f0f921\"]], \"type\": \"heatmapgl\"}], \"histogram\": [{\"marker\": {\"colorbar\": {\"outlinewidth\": 0, \"ticks\": \"\"}}, \"type\": \"histogram\"}], \"histogram2d\": [{\"colorbar\": {\"outlinewidth\": 0, \"ticks\": \"\"}, \"colorscale\": [[0.0, \"#0d0887\"], [0.1111111111111111, \"#46039f\"], [0.2222222222222222, \"#7201a8\"], [0.3333333333333333, \"#9c179e\"], [0.4444444444444444, \"#bd3786\"], [0.5555555555555556, \"#d8576b\"], [0.6666666666666666, \"#ed7953\"], [0.7777777777777778, \"#fb9f3a\"], [0.8888888888888888, \"#fdca26\"], [1.0, \"#f0f921\"]], \"type\": \"histogram2d\"}], \"histogram2dcontour\": [{\"colorbar\": {\"outlinewidth\": 0, \"ticks\": \"\"}, \"colorscale\": [[0.0, \"#0d0887\"], [0.1111111111111111, \"#46039f\"], [0.2222222222222222, \"#7201a8\"], [0.3333333333333333, \"#9c179e\"], [0.4444444444444444, \"#bd3786\"], [0.5555555555555556, \"#d8576b\"], [0.6666666666666666, \"#ed7953\"], [0.7777777777777778, \"#fb9f3a\"], [0.8888888888888888, \"#fdca26\"], [1.0, \"#f0f921\"]], \"type\": \"histogram2dcontour\"}], \"mesh3d\": [{\"colorbar\": {\"outlinewidth\": 0, \"ticks\": \"\"}, \"type\": \"mesh3d\"}], \"parcoords\": [{\"line\": {\"colorbar\": {\"outlinewidth\": 0, \"ticks\": \"\"}}, \"type\": \"parcoords\"}], \"scatter\": [{\"marker\": {\"colorbar\": {\"outlinewidth\": 0, \"ticks\": \"\"}}, \"type\": \"scatter\"}], \"scatter3d\": [{\"line\": {\"colorbar\": {\"outlinewidth\": 0, \"ticks\": \"\"}}, \"marker\": {\"colorbar\": {\"outlinewidth\": 0, \"ticks\": \"\"}}, \"type\": \"scatter3d\"}], \"scattercarpet\": [{\"marker\": {\"colorbar\": {\"outlinewidth\": 0, \"ticks\": \"\"}}, \"type\": \"scattercarpet\"}], \"scattergeo\": [{\"marker\": {\"colorbar\": {\"outlinewidth\": 0, \"ticks\": \"\"}}, \"type\": \"scattergeo\"}], \"scattergl\": [{\"marker\": {\"colorbar\": {\"outlinewidth\": 0, \"ticks\": \"\"}}, \"type\": \"scattergl\"}], \"scattermapbox\": [{\"marker\": {\"colorbar\": {\"outlinewidth\": 0, \"ticks\": \"\"}}, \"type\": \"scattermapbox\"}], \"scatterpolar\": [{\"marker\": {\"colorbar\": {\"outlinewidth\": 0, \"ticks\": \"\"}}, \"type\": \"scatterpolar\"}], \"scatterpolargl\": [{\"marker\": {\"colorbar\": {\"outlinewidth\": 0, \"ticks\": \"\"}}, \"type\": \"scatterpolargl\"}], \"scatterternary\": [{\"marker\": {\"colorbar\": {\"outlinewidth\": 0, \"ticks\": \"\"}}, \"type\": \"scatterternary\"}], \"surface\": [{\"colorbar\": {\"outlinewidth\": 0, \"ticks\": \"\"}, \"colorscale\": [[0.0, \"#0d0887\"], [0.1111111111111111, \"#46039f\"], [0.2222222222222222, \"#7201a8\"], [0.3333333333333333, \"#9c179e\"], [0.4444444444444444, \"#bd3786\"], [0.5555555555555556, \"#d8576b\"], [0.6666666666666666, \"#ed7953\"], [0.7777777777777778, \"#fb9f3a\"], [0.8888888888888888, \"#fdca26\"], [1.0, \"#f0f921\"]], \"type\": \"surface\"}], \"table\": [{\"cells\": {\"fill\": {\"color\": \"#EBF0F8\"}, \"line\": {\"color\": \"white\"}}, \"header\": {\"fill\": {\"color\": \"#C8D4E3\"}, \"line\": {\"color\": \"white\"}}, \"type\": \"table\"}]}, \"layout\": {\"annotationdefaults\": {\"arrowcolor\": \"#2a3f5f\", \"arrowhead\": 0, \"arrowwidth\": 1}, \"colorscale\": {\"diverging\": [[0, \"#8e0152\"], [0.1, \"#c51b7d\"], [0.2, \"#de77ae\"], [0.3, \"#f1b6da\"], [0.4, \"#fde0ef\"], [0.5, \"#f7f7f7\"], [0.6, \"#e6f5d0\"], [0.7, \"#b8e186\"], [0.8, \"#7fbc41\"], [0.9, \"#4d9221\"], [1, \"#276419\"]], \"sequential\": [[0.0, \"#0d0887\"], [0.1111111111111111, \"#46039f\"], [0.2222222222222222, \"#7201a8\"], [0.3333333333333333, \"#9c179e\"], [0.4444444444444444, \"#bd3786\"], [0.5555555555555556, \"#d8576b\"], [0.6666666666666666, \"#ed7953\"], [0.7777777777777778, \"#fb9f3a\"], [0.8888888888888888, \"#fdca26\"], [1.0, \"#f0f921\"]], \"sequentialminus\": [[0.0, \"#0d0887\"], [0.1111111111111111, \"#46039f\"], [0.2222222222222222, \"#7201a8\"], [0.3333333333333333, \"#9c179e\"], [0.4444444444444444, \"#bd3786\"], [0.5555555555555556, \"#d8576b\"], [0.6666666666666666, \"#ed7953\"], [0.7777777777777778, \"#fb9f3a\"], [0.8888888888888888, \"#fdca26\"], [1.0, \"#f0f921\"]]}, \"colorway\": [\"#636efa\", \"#EF553B\", \"#00cc96\", \"#ab63fa\", \"#FFA15A\", \"#19d3f3\", \"#FF6692\", \"#B6E880\", \"#FF97FF\", \"#FECB52\"], \"font\": {\"color\": \"#2a3f5f\"}, \"geo\": {\"bgcolor\": \"white\", \"lakecolor\": \"white\", \"landcolor\": \"#E5ECF6\", \"showlakes\": true, \"showland\": true, \"subunitcolor\": \"white\"}, \"hoverlabel\": {\"align\": \"left\"}, \"hovermode\": \"closest\", \"mapbox\": {\"style\": \"light\"}, \"paper_bgcolor\": \"white\", \"plot_bgcolor\": \"#E5ECF6\", \"polar\": {\"angularaxis\": {\"gridcolor\": \"white\", \"linecolor\": \"white\", \"ticks\": \"\"}, \"bgcolor\": \"#E5ECF6\", \"radialaxis\": {\"gridcolor\": \"white\", \"linecolor\": \"white\", \"ticks\": \"\"}}, \"scene\": {\"xaxis\": {\"backgroundcolor\": \"#E5ECF6\", \"gridcolor\": \"white\", \"gridwidth\": 2, \"linecolor\": \"white\", \"showbackground\": true, \"ticks\": \"\", \"zerolinecolor\": \"white\"}, \"yaxis\": {\"backgroundcolor\": \"#E5ECF6\", \"gridcolor\": \"white\", \"gridwidth\": 2, \"linecolor\": \"white\", \"showbackground\": true, \"ticks\": \"\", \"zerolinecolor\": \"white\"}, \"zaxis\": {\"backgroundcolor\": \"#E5ECF6\", \"gridcolor\": \"white\", \"gridwidth\": 2, \"linecolor\": \"white\", \"showbackground\": true, \"ticks\": \"\", \"zerolinecolor\": \"white\"}}, \"shapedefaults\": {\"line\": {\"color\": \"#2a3f5f\"}}, \"ternary\": {\"aaxis\": {\"gridcolor\": \"white\", \"linecolor\": \"white\", \"ticks\": \"\"}, \"baxis\": {\"gridcolor\": \"white\", \"linecolor\": \"white\", \"ticks\": \"\"}, \"bgcolor\": \"#E5ECF6\", \"caxis\": {\"gridcolor\": \"white\", \"linecolor\": \"white\", \"ticks\": \"\"}}, \"title\": {\"x\": 0.05}, \"xaxis\": {\"automargin\": true, \"gridcolor\": \"white\", \"linecolor\": \"white\", \"ticks\": \"\", \"zerolinecolor\": \"white\", \"zerolinewidth\": 2}, \"yaxis\": {\"automargin\": true, \"gridcolor\": \"white\", \"linecolor\": \"white\", \"ticks\": \"\", \"zerolinecolor\": \"white\", \"zerolinewidth\": 2}}}, \"xaxis\": {\"anchor\": \"y\", \"domain\": [0.0, 0.98], \"title\": {\"text\": \"GROSS_SQUARE_FEET\"}}, \"yaxis\": {\"anchor\": \"x\", \"domain\": [0.0, 1.0], \"title\": {\"text\": \"SALE_PRICE\"}}},\n",
              "                        {\"responsive\": true}\n",
              "                    ).then(function(){\n",
              "                            \n",
              "var gd = document.getElementById('a69456ba-625f-4122-8a20-ebfe3b6a49de');\n",
              "var x = new MutationObserver(function (mutations, observer) {{\n",
              "        var display = window.getComputedStyle(gd).display;\n",
              "        if (!display || display === 'none') {{\n",
              "            console.log([gd, 'removed!']);\n",
              "            Plotly.purge(gd);\n",
              "            observer.disconnect();\n",
              "        }}\n",
              "}});\n",
              "\n",
              "// Listen for the removal of the full notebook cells\n",
              "var notebookContainer = gd.closest('#notebook-container');\n",
              "if (notebookContainer) {{\n",
              "    x.observe(notebookContainer, {childList: true});\n",
              "}}\n",
              "\n",
              "// Listen for the clearing of the current output cell\n",
              "var outputEl = gd.closest('.output');\n",
              "if (outputEl) {{\n",
              "    x.observe(outputEl, {childList: true});\n",
              "}}\n",
              "\n",
              "                        })\n",
              "                };\n",
              "                \n",
              "            </script>\n",
              "        </div>\n",
              "</body>\n",
              "</html>"
            ]
          },
          "metadata": {
            "tags": []
          }
        }
      ]
    },
    {
      "cell_type": "code",
      "metadata": {
        "id": "Kfat87wpPXmM",
        "colab_type": "code",
        "colab": {
          "base_uri": "https://localhost:8080/",
          "height": 369
        },
        "outputId": "c8fe9e06-cf12-405c-a369-83b6e60eda94"
      },
      "source": [
        "sns.catplot(x='NEIGHBORHOOD', y='SALE_PRICE', data=train, kind='bar', color='grey');"
      ],
      "execution_count": 16,
      "outputs": [
        {
          "output_type": "display_data",
          "data": {
            "image/png": "[encoded data removed]",
            "text/plain": [
              "<Figure size 360x360 with 1 Axes>"
            ]
          },
          "metadata": {
            "tags": []
          }
        }
      ]
    },
    {
      "cell_type": "code",
      "metadata": {
        "id": "MPNtz4L1TuxE",
        "colab_type": "code",
        "colab": {
          "base_uri": "https://localhost:8080/",
          "height": 323
        },
        "outputId": "3c335f4f-4715-47f1-f606-43897af42f51"
      },
      "source": [
        "# One hot encoding. Looking for a feature that has lower cardinality.\n",
        "# Which features are non-numeric?\n",
        "train.describe(exclude='number')"
      ],
      "execution_count": 17,
      "outputs": [
        {
          "output_type": "execute_result",
          "data": {
            "text/html": [
              "<div>\n",
              "<style scoped>\n",
              "    .dataframe tbody tr th:only-of-type {\n",
              "        vertical-align: middle;\n",
              "    }\n",
              "\n",
              "    .dataframe tbody tr th {\n",
              "        vertical-align: top;\n",
              "    }\n",
              "\n",
              "    .dataframe thead th {\n",
              "        text-align: right;\n",
              "    }\n",
              "</style>\n",
              "<table border=\"1\" class=\"dataframe\">\n",
              "  <thead>\n",
              "    <tr style=\"text-align: right;\">\n",
              "      <th></th>\n",
              "      <th>BOROUGH</th>\n",
              "      <th>NEIGHBORHOOD</th>\n",
              "      <th>BUILDING_CLASS_CATEGORY</th>\n",
              "      <th>TAX_CLASS_AT_PRESENT</th>\n",
              "      <th>BUILDING_CLASS_AT_PRESENT</th>\n",
              "      <th>ADDRESS</th>\n",
              "      <th>APARTMENT_NUMBER</th>\n",
              "      <th>LAND_SQUARE_FEET</th>\n",
              "      <th>BUILDING_CLASS_AT_TIME_OF_SALE</th>\n",
              "      <th>SALE_DATE</th>\n",
              "    </tr>\n",
              "  </thead>\n",
              "  <tbody>\n",
              "    <tr>\n",
              "      <th>count</th>\n",
              "      <td>2515</td>\n",
              "      <td>2515</td>\n",
              "      <td>2515</td>\n",
              "      <td>2515</td>\n",
              "      <td>2515</td>\n",
              "      <td>2515</td>\n",
              "      <td>1</td>\n",
              "      <td>2515</td>\n",
              "      <td>2515</td>\n",
              "      <td>2515</td>\n",
              "    </tr>\n",
              "    <tr>\n",
              "      <th>unique</th>\n",
              "      <td>5</td>\n",
              "      <td>11</td>\n",
              "      <td>1</td>\n",
              "      <td>2</td>\n",
              "      <td>13</td>\n",
              "      <td>2505</td>\n",
              "      <td>1</td>\n",
              "      <td>888</td>\n",
              "      <td>11</td>\n",
              "      <td>68</td>\n",
              "    </tr>\n",
              "    <tr>\n",
              "      <th>top</th>\n",
              "      <td>4</td>\n",
              "      <td>OTHER</td>\n",
              "      <td>01 ONE FAMILY DWELLINGS</td>\n",
              "      <td>1</td>\n",
              "      <td>A1</td>\n",
              "      <td>22-40 93RD STREET</td>\n",
              "      <td>RP.</td>\n",
              "      <td>4,000</td>\n",
              "      <td>A1</td>\n",
              "      <td>2019-01-31 00:00:00</td>\n",
              "    </tr>\n",
              "    <tr>\n",
              "      <th>freq</th>\n",
              "      <td>1209</td>\n",
              "      <td>1912</td>\n",
              "      <td>2515</td>\n",
              "      <td>2484</td>\n",
              "      <td>921</td>\n",
              "      <td>2</td>\n",
              "      <td>1</td>\n",
              "      <td>235</td>\n",
              "      <td>921</td>\n",
              "      <td>78</td>\n",
              "    </tr>\n",
              "    <tr>\n",
              "      <th>first</th>\n",
              "      <td>NaN</td>\n",
              "      <td>NaN</td>\n",
              "      <td>NaN</td>\n",
              "      <td>NaN</td>\n",
              "      <td>NaN</td>\n",
              "      <td>NaN</td>\n",
              "      <td>NaN</td>\n",
              "      <td>NaN</td>\n",
              "      <td>NaN</td>\n",
              "      <td>2019-01-01 00:00:00</td>\n",
              "    </tr>\n",
              "    <tr>\n",
              "      <th>last</th>\n",
              "      <td>NaN</td>\n",
              "      <td>NaN</td>\n",
              "      <td>NaN</td>\n",
              "      <td>NaN</td>\n",
              "      <td>NaN</td>\n",
              "      <td>NaN</td>\n",
              "      <td>NaN</td>\n",
              "      <td>NaN</td>\n",
              "      <td>NaN</td>\n",
              "      <td>2019-03-30 00:00:00</td>\n",
              "    </tr>\n",
              "  </tbody>\n",
              "</table>\n",
              "</div>"
            ],
            "text/plain": [
              "       BOROUGH NEIGHBORHOOD  ... BUILDING_CLASS_AT_TIME_OF_SALE            SALE_DATE\n",
              "count     2515         2515  ...                           2515                 2515\n",
              "unique       5           11  ...                             11                   68\n",
              "top          4        OTHER  ...                             A1  2019-01-31 00:00:00\n",
              "freq      1209         1912  ...                            921                   78\n",
              "first      NaN          NaN  ...                            NaN  2019-01-01 00:00:00\n",
              "last       NaN          NaN  ...                            NaN  2019-03-30 00:00:00\n",
              "\n",
              "[6 rows x 10 columns]"
            ]
          },
          "metadata": {
            "tags": []
          },
          "execution_count": 17
        }
      ]
    },
    {
      "cell_type": "code",
      "metadata": {
        "id": "uJy-ldraU3JX",
        "colab_type": "code",
        "colab": {
          "base_uri": "https://localhost:8080/",
          "height": 119
        },
        "outputId": "72119f3c-ef87-413f-cee2-0d192b203860"
      },
      "source": [
        "train['BOROUGH'].value_counts()"
      ],
      "execution_count": 18,
      "outputs": [
        {
          "output_type": "execute_result",
          "data": {
            "text/plain": [
              "4    1209\n",
              "5     664\n",
              "3     399\n",
              "2     242\n",
              "1       1\n",
              "Name: BOROUGH, dtype: int64"
            ]
          },
          "metadata": {
            "tags": []
          },
          "execution_count": 18
        }
      ]
    },
    {
      "cell_type": "code",
      "metadata": {
        "id": "z1VsZEONVGhA",
        "colab_type": "code",
        "colab": {
          "base_uri": "https://localhost:8080/",
          "height": 359
        },
        "outputId": "bb1880be-ebbc-4795-8e72-de523a27301c"
      },
      "source": [
        "# Check cardinality of unique values that a feature has\n",
        "train.describe(exclude='number').T.sort_values(by='unique')"
      ],
      "execution_count": 19,
      "outputs": [
        {
          "output_type": "execute_result",
          "data": {
            "text/html": [
              "<div>\n",
              "<style scoped>\n",
              "    .dataframe tbody tr th:only-of-type {\n",
              "        vertical-align: middle;\n",
              "    }\n",
              "\n",
              "    .dataframe tbody tr th {\n",
              "        vertical-align: top;\n",
              "    }\n",
              "\n",
              "    .dataframe thead th {\n",
              "        text-align: right;\n",
              "    }\n",
              "</style>\n",
              "<table border=\"1\" class=\"dataframe\">\n",
              "  <thead>\n",
              "    <tr style=\"text-align: right;\">\n",
              "      <th></th>\n",
              "      <th>count</th>\n",
              "      <th>unique</th>\n",
              "      <th>top</th>\n",
              "      <th>freq</th>\n",
              "      <th>first</th>\n",
              "      <th>last</th>\n",
              "    </tr>\n",
              "  </thead>\n",
              "  <tbody>\n",
              "    <tr>\n",
              "      <th>BUILDING_CLASS_CATEGORY</th>\n",
              "      <td>2515</td>\n",
              "      <td>1</td>\n",
              "      <td>01 ONE FAMILY DWELLINGS</td>\n",
              "      <td>2515</td>\n",
              "      <td>NaN</td>\n",
              "      <td>NaN</td>\n",
              "    </tr>\n",
              "    <tr>\n",
              "      <th>APARTMENT_NUMBER</th>\n",
              "      <td>1</td>\n",
              "      <td>1</td>\n",
              "      <td>RP.</td>\n",
              "      <td>1</td>\n",
              "      <td>NaN</td>\n",
              "      <td>NaN</td>\n",
              "    </tr>\n",
              "    <tr>\n",
              "      <th>TAX_CLASS_AT_PRESENT</th>\n",
              "      <td>2515</td>\n",
              "      <td>2</td>\n",
              "      <td>1</td>\n",
              "      <td>2484</td>\n",
              "      <td>NaN</td>\n",
              "      <td>NaN</td>\n",
              "    </tr>\n",
              "    <tr>\n",
              "      <th>BOROUGH</th>\n",
              "      <td>2515</td>\n",
              "      <td>5</td>\n",
              "      <td>4</td>\n",
              "      <td>1209</td>\n",
              "      <td>NaN</td>\n",
              "      <td>NaN</td>\n",
              "    </tr>\n",
              "    <tr>\n",
              "      <th>NEIGHBORHOOD</th>\n",
              "      <td>2515</td>\n",
              "      <td>11</td>\n",
              "      <td>OTHER</td>\n",
              "      <td>1912</td>\n",
              "      <td>NaN</td>\n",
              "      <td>NaN</td>\n",
              "    </tr>\n",
              "    <tr>\n",
              "      <th>BUILDING_CLASS_AT_TIME_OF_SALE</th>\n",
              "      <td>2515</td>\n",
              "      <td>11</td>\n",
              "      <td>A1</td>\n",
              "      <td>921</td>\n",
              "      <td>NaN</td>\n",
              "      <td>NaN</td>\n",
              "    </tr>\n",
              "    <tr>\n",
              "      <th>BUILDING_CLASS_AT_PRESENT</th>\n",
              "      <td>2515</td>\n",
              "      <td>13</td>\n",
              "      <td>A1</td>\n",
              "      <td>921</td>\n",
              "      <td>NaN</td>\n",
              "      <td>NaN</td>\n",
              "    </tr>\n",
              "    <tr>\n",
              "      <th>SALE_DATE</th>\n",
              "      <td>2515</td>\n",
              "      <td>68</td>\n",
              "      <td>2019-01-31 00:00:00</td>\n",
              "      <td>78</td>\n",
              "      <td>2019-01-01 00:00:00</td>\n",
              "      <td>2019-03-30 00:00:00</td>\n",
              "    </tr>\n",
              "    <tr>\n",
              "      <th>LAND_SQUARE_FEET</th>\n",
              "      <td>2515</td>\n",
              "      <td>888</td>\n",
              "      <td>4,000</td>\n",
              "      <td>235</td>\n",
              "      <td>NaN</td>\n",
              "      <td>NaN</td>\n",
              "    </tr>\n",
              "    <tr>\n",
              "      <th>ADDRESS</th>\n",
              "      <td>2515</td>\n",
              "      <td>2505</td>\n",
              "      <td>22-40 93RD STREET</td>\n",
              "      <td>2</td>\n",
              "      <td>NaN</td>\n",
              "      <td>NaN</td>\n",
              "    </tr>\n",
              "  </tbody>\n",
              "</table>\n",
              "</div>"
            ],
            "text/plain": [
              "                               count  ...                 last\n",
              "BUILDING_CLASS_CATEGORY         2515  ...                  NaN\n",
              "APARTMENT_NUMBER                   1  ...                  NaN\n",
              "TAX_CLASS_AT_PRESENT            2515  ...                  NaN\n",
              "BOROUGH                         2515  ...                  NaN\n",
              "NEIGHBORHOOD                    2515  ...                  NaN\n",
              "BUILDING_CLASS_AT_TIME_OF_SALE  2515  ...                  NaN\n",
              "BUILDING_CLASS_AT_PRESENT       2515  ...                  NaN\n",
              "SALE_DATE                       2515  ...  2019-03-30 00:00:00\n",
              "LAND_SQUARE_FEET                2515  ...                  NaN\n",
              "ADDRESS                         2515  ...                  NaN\n",
              "\n",
              "[10 rows x 6 columns]"
            ]
          },
          "metadata": {
            "tags": []
          },
          "execution_count": 19
        }
      ]
    },
    {
      "cell_type": "code",
      "metadata": {
        "id": "6DY0EWXOVUZ4",
        "colab_type": "code",
        "colab": {
          "base_uri": "https://localhost:8080/",
          "height": 238
        },
        "outputId": "d4d153e5-60dc-481e-b70b-0b70d495dc30"
      },
      "source": [
        "# Neighborhood seems a good fit\n",
        "# Exploring Borough\n",
        "# Average sale price by borough\n",
        "train.groupby('NEIGHBORHOOD')['SALE_PRICE'].mean()"
      ],
      "execution_count": 26,
      "outputs": [
        {
          "output_type": "execute_result",
          "data": {
            "text/plain": [
              "NEIGHBORHOOD\n",
              "BAYSIDE                    863,210\n",
              "FLUSHING-NORTH             859,083\n",
              "GREAT KILLS                544,094\n",
              "LAURELTON                  473,656\n",
              "MIDLAND BEACH              467,673\n",
              "OTHER                      639,099\n",
              "QUEENS VILLAGE             491,036\n",
              "SO. JAMAICA-BAISLEY PARK   447,193\n",
              "SOUTH OZONE PARK           534,469\n",
              "SPRINGFIELD GARDENS        451,802\n",
              "ST. ALBANS                 432,623\n",
              "Name: SALE_PRICE, dtype: float64"
            ]
          },
          "metadata": {
            "tags": []
          },
          "execution_count": 26
        }
      ]
    },
    {
      "cell_type": "code",
      "metadata": {
        "id": "nJ6_vlGSWp_8",
        "colab_type": "code",
        "colab": {
          "base_uri": "https://localhost:8080/",
          "height": 119
        },
        "outputId": "7c1bca26-77a5-4b1c-a37a-6db86a7834af"
      },
      "source": [
        "train['NEIGHBORHOOD'].head()"
      ],
      "execution_count": 23,
      "outputs": [
        {
          "output_type": "execute_result",
          "data": {
            "text/plain": [
              "44              OTHER\n",
              "61     QUEENS VILLAGE\n",
              "78              OTHER\n",
              "108             OTHER\n",
              "111             OTHER\n",
              "Name: NEIGHBORHOOD, dtype: object"
            ]
          },
          "metadata": {
            "tags": []
          },
          "execution_count": 23
        }
      ]
    },
    {
      "cell_type": "code",
      "metadata": {
        "id": "VJuOUg-vVmfi",
        "colab_type": "code",
        "colab": {
          "base_uri": "https://localhost:8080/",
          "height": 258
        },
        "outputId": "3a8e3ee6-a8ca-4e59-a286-99bb4d1779f0"
      },
      "source": [
        "# Encoding this feature\n",
        "import category_encoders as ce\n",
        "\n",
        "# Instantiagte the model\n",
        "encoder = ce.OneHotEncoder(use_cat_names=True)\n",
        "\n",
        "# Fit the model\n",
        "encoded = encoder.fit_transform(train['NEIGHBORHOOD'])\n",
        "encoded.head()"
      ],
      "execution_count": 25,
      "outputs": [
        {
          "output_type": "execute_result",
          "data": {
            "text/html": [
              "<div>\n",
              "<style scoped>\n",
              "    .dataframe tbody tr th:only-of-type {\n",
              "        vertical-align: middle;\n",
              "    }\n",
              "\n",
              "    .dataframe tbody tr th {\n",
              "        vertical-align: top;\n",
              "    }\n",
              "\n",
              "    .dataframe thead th {\n",
              "        text-align: right;\n",
              "    }\n",
              "</style>\n",
              "<table border=\"1\" class=\"dataframe\">\n",
              "  <thead>\n",
              "    <tr style=\"text-align: right;\">\n",
              "      <th></th>\n",
              "      <th>NEIGHBORHOOD_OTHER</th>\n",
              "      <th>NEIGHBORHOOD_QUEENS VILLAGE</th>\n",
              "      <th>NEIGHBORHOOD_BAYSIDE</th>\n",
              "      <th>NEIGHBORHOOD_FLUSHING-NORTH</th>\n",
              "      <th>NEIGHBORHOOD_LAURELTON</th>\n",
              "      <th>NEIGHBORHOOD_SO. JAMAICA-BAISLEY PARK</th>\n",
              "      <th>NEIGHBORHOOD_SPRINGFIELD GARDENS</th>\n",
              "      <th>NEIGHBORHOOD_GREAT KILLS</th>\n",
              "      <th>NEIGHBORHOOD_SOUTH OZONE PARK</th>\n",
              "      <th>NEIGHBORHOOD_MIDLAND BEACH</th>\n",
              "      <th>NEIGHBORHOOD_ST. ALBANS</th>\n",
              "    </tr>\n",
              "  </thead>\n",
              "  <tbody>\n",
              "    <tr>\n",
              "      <th>44</th>\n",
              "      <td>1</td>\n",
              "      <td>0</td>\n",
              "      <td>0</td>\n",
              "      <td>0</td>\n",
              "      <td>0</td>\n",
              "      <td>0</td>\n",
              "      <td>0</td>\n",
              "      <td>0</td>\n",
              "      <td>0</td>\n",
              "      <td>0</td>\n",
              "      <td>0</td>\n",
              "    </tr>\n",
              "    <tr>\n",
              "      <th>61</th>\n",
              "      <td>0</td>\n",
              "      <td>1</td>\n",
              "      <td>0</td>\n",
              "      <td>0</td>\n",
              "      <td>0</td>\n",
              "      <td>0</td>\n",
              "      <td>0</td>\n",
              "      <td>0</td>\n",
              "      <td>0</td>\n",
              "      <td>0</td>\n",
              "      <td>0</td>\n",
              "    </tr>\n",
              "    <tr>\n",
              "      <th>78</th>\n",
              "      <td>1</td>\n",
              "      <td>0</td>\n",
              "      <td>0</td>\n",
              "      <td>0</td>\n",
              "      <td>0</td>\n",
              "      <td>0</td>\n",
              "      <td>0</td>\n",
              "      <td>0</td>\n",
              "      <td>0</td>\n",
              "      <td>0</td>\n",
              "      <td>0</td>\n",
              "    </tr>\n",
              "    <tr>\n",
              "      <th>108</th>\n",
              "      <td>1</td>\n",
              "      <td>0</td>\n",
              "      <td>0</td>\n",
              "      <td>0</td>\n",
              "      <td>0</td>\n",
              "      <td>0</td>\n",
              "      <td>0</td>\n",
              "      <td>0</td>\n",
              "      <td>0</td>\n",
              "      <td>0</td>\n",
              "      <td>0</td>\n",
              "    </tr>\n",
              "    <tr>\n",
              "      <th>111</th>\n",
              "      <td>1</td>\n",
              "      <td>0</td>\n",
              "      <td>0</td>\n",
              "      <td>0</td>\n",
              "      <td>0</td>\n",
              "      <td>0</td>\n",
              "      <td>0</td>\n",
              "      <td>0</td>\n",
              "      <td>0</td>\n",
              "      <td>0</td>\n",
              "      <td>0</td>\n",
              "    </tr>\n",
              "  </tbody>\n",
              "</table>\n",
              "</div>"
            ],
            "text/plain": [
              "     NEIGHBORHOOD_OTHER  ...  NEIGHBORHOOD_ST. ALBANS\n",
              "44                    1  ...                        0\n",
              "61                    0  ...                        0\n",
              "78                    1  ...                        0\n",
              "108                   1  ...                        0\n",
              "111                   1  ...                        0\n",
              "\n",
              "[5 rows x 11 columns]"
            ]
          },
          "metadata": {
            "tags": []
          },
          "execution_count": 25
        }
      ]
    },
    {
      "cell_type": "code",
      "metadata": {
        "id": "JedopM41WclF",
        "colab_type": "code",
        "colab": {}
      },
      "source": [
        "target = 'price'\n",
        "high_cardinality"
      ],
      "execution_count": 0,
      "outputs": []
    }
  ]
}