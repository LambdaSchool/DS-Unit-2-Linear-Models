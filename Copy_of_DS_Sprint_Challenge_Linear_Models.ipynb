{
  "nbformat": 4,
  "nbformat_minor": 0,
  "metadata": {
    "colab": {
      "name": "Copy of DS_Sprint_Challenge_Linear_Models.ipynb",
      "provenance": [],
      "collapsed_sections": [],
      "include_colab_link": true
    },
    "kernelspec": {
      "display_name": "Python 3",
      "language": "python",
      "name": "python3"
    },
    "language_info": {
      "codemirror_mode": {
        "name": "ipython",
        "version": 3
      },
      "file_extension": ".py",
      "mimetype": "text/x-python",
      "name": "python",
      "nbconvert_exporter": "python",
      "pygments_lexer": "ipython3",
      "version": "3.7.3"
    }
  },
  "cells": [
    {
      "cell_type": "markdown",
      "metadata": {
        "id": "view-in-github",
        "colab_type": "text"
      },
      "source": [
        "<a href=\"https://colab.research.google.com/github/willstauffernorris/DS-Unit-2-Linear-Models/blob/master/Copy_of_DS_Sprint_Challenge_Linear_Models.ipynb\" target=\"_parent\"><img src=\"https://colab.research.google.com/assets/colab-badge.svg\" alt=\"Open In Colab\"/></a>"
      ]
    },
    {
      "cell_type": "markdown",
      "metadata": {
        "colab_type": "text",
        "id": "VZf2akBaMjq8"
      },
      "source": [
        "_Lambda School Data Science, Unit 2_\n",
        " \n",
        "# Linear Models Sprint Challenge\n",
        "\n",
        "To demonstrate mastery on your Sprint Challenge, do all the required, numbered instructions in this notebook.\n",
        "\n",
        "To earn a score of \"3\", also do all the stretch goals.\n",
        "\n",
        "You are permitted and encouraged to do as much data exploration as you want."
      ]
    },
    {
      "cell_type": "markdown",
      "metadata": {
        "colab_type": "text",
        "id": "20OITf58NLQh"
      },
      "source": [
        "### Part 1, Classification\n",
        "- 1.1. Do train/test split. Arrange data into X features matrix and y target vector\n",
        "- 1.2. Use scikit-learn to fit a logistic regression model\n",
        "- 1.3. Report classification metric: accuracy\n",
        "\n",
        "### Part 2, Regression\n",
        "- 2.1. Begin with baselines for regression\n",
        "- 2.2. Do train/validate/test split\n",
        "- 2.3. Arrange data into X features matrix and y target vector\n",
        "- 2.4. Do one-hot encoding\n",
        "- 2.5. Use scikit-learn to fit a linear regression or ridge regression model\n",
        "- 2.6. Report validation MAE and $R^2$\n",
        "\n",
        "### Stretch Goals, Regression\n",
        "- Make at least 2 visualizations to explore relationships between features and target. You may use any visualization library\n",
        "- Try at least 3 feature combinations. You may select features manually, or automatically\n",
        "- Report validation MAE and $R^2$ for each feature combination you try\n",
        "- Report test MAE and $R^2$ for your final model\n",
        "- Print or plot the coefficients for the features in your model"
      ]
    },
    {
      "cell_type": "code",
      "metadata": {
        "colab_type": "code",
        "id": "BxoFSeX5OX5k",
        "outputId": "e5b94634-f558-48fd-d8e5-f1ddb5db7e72",
        "colab": {
          "base_uri": "https://localhost:8080/",
          "height": 1000
        }
      },
      "source": [
        "# If you're in Colab...\n",
        "import sys\n",
        "if 'google.colab' in sys.modules:\n",
        "    !pip install category_encoders==2.*\n",
        "    !pip install pandas-profiling==2.*\n",
        "    !pip install plotly==4.*"
      ],
      "execution_count": 1,
      "outputs": [
        {
          "output_type": "stream",
          "text": [
            "Requirement already satisfied: category_encoders==2.* in /usr/local/lib/python3.6/dist-packages (2.1.0)\n",
            "Requirement already satisfied: statsmodels>=0.6.1 in /usr/local/lib/python3.6/dist-packages (from category_encoders==2.*) (0.10.2)\n",
            "Requirement already satisfied: patsy>=0.4.1 in /usr/local/lib/python3.6/dist-packages (from category_encoders==2.*) (0.5.1)\n",
            "Requirement already satisfied: scikit-learn>=0.20.0 in /usr/local/lib/python3.6/dist-packages (from category_encoders==2.*) (0.22.1)\n",
            "Requirement already satisfied: pandas>=0.21.1 in /usr/local/lib/python3.6/dist-packages (from category_encoders==2.*) (0.25.3)\n",
            "Requirement already satisfied: scipy>=0.19.0 in /usr/local/lib/python3.6/dist-packages (from category_encoders==2.*) (1.4.1)\n",
            "Requirement already satisfied: numpy>=1.11.3 in /usr/local/lib/python3.6/dist-packages (from category_encoders==2.*) (1.17.5)\n",
            "Requirement already satisfied: six in /usr/local/lib/python3.6/dist-packages (from patsy>=0.4.1->category_encoders==2.*) (1.12.0)\n",
            "Requirement already satisfied: joblib>=0.11 in /usr/local/lib/python3.6/dist-packages (from scikit-learn>=0.20.0->category_encoders==2.*) (0.14.1)\n",
            "Requirement already satisfied: pytz>=2017.2 in /usr/local/lib/python3.6/dist-packages (from pandas>=0.21.1->category_encoders==2.*) (2018.9)\n",
            "Requirement already satisfied: python-dateutil>=2.6.1 in /usr/local/lib/python3.6/dist-packages (from pandas>=0.21.1->category_encoders==2.*) (2.6.1)\n",
            "Requirement already satisfied: pandas-profiling==2.* in /usr/local/lib/python3.6/dist-packages (2.5.0)\n",
            "Requirement already satisfied: kaggle==1.5.6 in /usr/local/lib/python3.6/dist-packages (from pandas-profiling==2.*) (1.5.6)\n",
            "Requirement already satisfied: matplotlib>=3.0.3 in /usr/local/lib/python3.6/dist-packages (from pandas-profiling==2.*) (3.1.3)\n",
            "Requirement already satisfied: phik==0.9.9 in /usr/local/lib/python3.6/dist-packages (from pandas-profiling==2.*) (0.9.9)\n",
            "Requirement already satisfied: ipywidgets==7.5.1 in /usr/local/lib/python3.6/dist-packages (from pandas-profiling==2.*) (7.5.1)\n",
            "Requirement already satisfied: visions==0.2.2 in /usr/local/lib/python3.6/dist-packages (from pandas-profiling==2.*) (0.2.2)\n",
            "Requirement already satisfied: htmlmin==0.1.12 in /usr/local/lib/python3.6/dist-packages (from pandas-profiling==2.*) (0.1.12)\n",
            "Requirement already satisfied: numpy>=1.16.0 in /usr/local/lib/python3.6/dist-packages (from pandas-profiling==2.*) (1.17.5)\n",
            "Requirement already satisfied: scipy>=1.4.1 in /usr/local/lib/python3.6/dist-packages (from pandas-profiling==2.*) (1.4.1)\n",
            "Requirement already satisfied: tangled-up-in-unicode==0.0.3 in /usr/local/lib/python3.6/dist-packages (from pandas-profiling==2.*) (0.0.3)\n",
            "Requirement already satisfied: missingno==0.4.2 in /usr/local/lib/python3.6/dist-packages (from pandas-profiling==2.*) (0.4.2)\n",
            "Requirement already satisfied: jinja2==2.11.1 in /usr/local/lib/python3.6/dist-packages (from pandas-profiling==2.*) (2.11.1)\n",
            "Requirement already satisfied: requests==2.22.0 in /usr/local/lib/python3.6/dist-packages (from pandas-profiling==2.*) (2.22.0)\n",
            "Requirement already satisfied: tqdm==4.42.0 in /usr/local/lib/python3.6/dist-packages (from pandas-profiling==2.*) (4.42.0)\n",
            "Requirement already satisfied: confuse==1.0.0 in /usr/local/lib/python3.6/dist-packages (from pandas-profiling==2.*) (1.0.0)\n",
            "Requirement already satisfied: astropy>=3.2.3 in /usr/local/lib/python3.6/dist-packages (from pandas-profiling==2.*) (4.0)\n",
            "Requirement already satisfied: pandas==0.25.3 in /usr/local/lib/python3.6/dist-packages (from pandas-profiling==2.*) (0.25.3)\n",
            "Requirement already satisfied: python-dateutil in /usr/local/lib/python3.6/dist-packages (from kaggle==1.5.6->pandas-profiling==2.*) (2.6.1)\n",
            "Requirement already satisfied: six>=1.10 in /usr/local/lib/python3.6/dist-packages (from kaggle==1.5.6->pandas-profiling==2.*) (1.12.0)\n",
            "Requirement already satisfied: urllib3<1.25,>=1.21.1 in /usr/local/lib/python3.6/dist-packages (from kaggle==1.5.6->pandas-profiling==2.*) (1.24.3)\n",
            "Requirement already satisfied: certifi in /usr/local/lib/python3.6/dist-packages (from kaggle==1.5.6->pandas-profiling==2.*) (2019.11.28)\n",
            "Requirement already satisfied: python-slugify in /usr/local/lib/python3.6/dist-packages (from kaggle==1.5.6->pandas-profiling==2.*) (4.0.0)\n",
            "Requirement already satisfied: pyparsing!=2.0.4,!=2.1.2,!=2.1.6,>=2.0.1 in /usr/local/lib/python3.6/dist-packages (from matplotlib>=3.0.3->pandas-profiling==2.*) (2.4.6)\n",
            "Requirement already satisfied: kiwisolver>=1.0.1 in /usr/local/lib/python3.6/dist-packages (from matplotlib>=3.0.3->pandas-profiling==2.*) (1.1.0)\n",
            "Requirement already satisfied: cycler>=0.10 in /usr/local/lib/python3.6/dist-packages (from matplotlib>=3.0.3->pandas-profiling==2.*) (0.10.0)\n",
            "Requirement already satisfied: pytest-pylint>=0.13.0 in /usr/local/lib/python3.6/dist-packages (from phik==0.9.9->pandas-profiling==2.*) (0.15.0)\n",
            "Requirement already satisfied: joblib>=0.14.1 in /usr/local/lib/python3.6/dist-packages (from phik==0.9.9->pandas-profiling==2.*) (0.14.1)\n",
            "Requirement already satisfied: numba>=0.38.1 in /usr/local/lib/python3.6/dist-packages (from phik==0.9.9->pandas-profiling==2.*) (0.47.0)\n",
            "Requirement already satisfied: pytest>=4.0.2 in /usr/local/lib/python3.6/dist-packages (from phik==0.9.9->pandas-profiling==2.*) (5.3.5)\n",
            "Requirement already satisfied: jupyter-client>=5.2.3 in /usr/local/lib/python3.6/dist-packages (from phik==0.9.9->pandas-profiling==2.*) (5.3.4)\n",
            "Requirement already satisfied: nbconvert>=5.3.1 in /usr/local/lib/python3.6/dist-packages (from phik==0.9.9->pandas-profiling==2.*) (5.6.1)\n",
            "Requirement already satisfied: nbformat>=4.2.0 in /usr/local/lib/python3.6/dist-packages (from ipywidgets==7.5.1->pandas-profiling==2.*) (5.0.4)\n",
            "Requirement already satisfied: widgetsnbextension~=3.5.0 in /usr/local/lib/python3.6/dist-packages (from ipywidgets==7.5.1->pandas-profiling==2.*) (3.5.1)\n",
            "Requirement already satisfied: ipython>=4.0.0; python_version >= \"3.3\" in /usr/local/lib/python3.6/dist-packages (from ipywidgets==7.5.1->pandas-profiling==2.*) (5.5.0)\n",
            "Requirement already satisfied: ipykernel>=4.5.1 in /usr/local/lib/python3.6/dist-packages (from ipywidgets==7.5.1->pandas-profiling==2.*) (4.6.1)\n",
            "Requirement already satisfied: traitlets>=4.3.1 in /usr/local/lib/python3.6/dist-packages (from ipywidgets==7.5.1->pandas-profiling==2.*) (4.3.3)\n",
            "Requirement already satisfied: networkx in /usr/local/lib/python3.6/dist-packages (from visions==0.2.2->pandas-profiling==2.*) (2.4)\n",
            "Requirement already satisfied: attr in /usr/local/lib/python3.6/dist-packages (from visions==0.2.2->pandas-profiling==2.*) (0.3.1)\n",
            "Requirement already satisfied: seaborn in /usr/local/lib/python3.6/dist-packages (from missingno==0.4.2->pandas-profiling==2.*) (0.10.0)\n",
            "Requirement already satisfied: MarkupSafe>=0.23 in /usr/local/lib/python3.6/dist-packages (from jinja2==2.11.1->pandas-profiling==2.*) (1.1.1)\n",
            "Requirement already satisfied: chardet<3.1.0,>=3.0.2 in /usr/local/lib/python3.6/dist-packages (from requests==2.22.0->pandas-profiling==2.*) (3.0.4)\n",
            "Requirement already satisfied: idna<2.9,>=2.5 in /usr/local/lib/python3.6/dist-packages (from requests==2.22.0->pandas-profiling==2.*) (2.8)\n",
            "Requirement already satisfied: pyyaml in /usr/local/lib/python3.6/dist-packages (from confuse==1.0.0->pandas-profiling==2.*) (3.13)\n",
            "Requirement already satisfied: pytz>=2017.2 in /usr/local/lib/python3.6/dist-packages (from pandas==0.25.3->pandas-profiling==2.*) (2018.9)\n",
            "Requirement already satisfied: text-unidecode>=1.3 in /usr/local/lib/python3.6/dist-packages (from python-slugify->kaggle==1.5.6->pandas-profiling==2.*) (1.3)\n",
            "Requirement already satisfied: setuptools in /usr/local/lib/python3.6/dist-packages (from kiwisolver>=1.0.1->matplotlib>=3.0.3->pandas-profiling==2.*) (45.1.0)\n",
            "Requirement already satisfied: pylint>=2.0.0 in /usr/local/lib/python3.6/dist-packages (from pytest-pylint>=0.13.0->phik==0.9.9->pandas-profiling==2.*) (2.4.4)\n",
            "Requirement already satisfied: llvmlite>=0.31.0dev0 in /usr/local/lib/python3.6/dist-packages (from numba>=0.38.1->phik==0.9.9->pandas-profiling==2.*) (0.31.0)\n",
            "Requirement already satisfied: more-itertools>=4.0.0 in /usr/local/lib/python3.6/dist-packages (from pytest>=4.0.2->phik==0.9.9->pandas-profiling==2.*) (8.2.0)\n",
            "Requirement already satisfied: pluggy<1.0,>=0.12 in /usr/local/lib/python3.6/dist-packages (from pytest>=4.0.2->phik==0.9.9->pandas-profiling==2.*) (0.13.1)\n",
            "Requirement already satisfied: py>=1.5.0 in /usr/local/lib/python3.6/dist-packages (from pytest>=4.0.2->phik==0.9.9->pandas-profiling==2.*) (1.8.1)\n",
            "Requirement already satisfied: attrs>=17.4.0 in /usr/local/lib/python3.6/dist-packages (from pytest>=4.0.2->phik==0.9.9->pandas-profiling==2.*) (19.3.0)\n",
            "Requirement already satisfied: packaging in /usr/local/lib/python3.6/dist-packages (from pytest>=4.0.2->phik==0.9.9->pandas-profiling==2.*) (20.1)\n",
            "Requirement already satisfied: importlib-metadata>=0.12; python_version < \"3.8\" in /usr/local/lib/python3.6/dist-packages (from pytest>=4.0.2->phik==0.9.9->pandas-profiling==2.*) (1.5.0)\n",
            "Requirement already satisfied: wcwidth in /usr/local/lib/python3.6/dist-packages (from pytest>=4.0.2->phik==0.9.9->pandas-profiling==2.*) (0.1.8)\n",
            "Requirement already satisfied: jupyter-core>=4.6.0 in /usr/local/lib/python3.6/dist-packages (from jupyter-client>=5.2.3->phik==0.9.9->pandas-profiling==2.*) (4.6.1)\n",
            "Requirement already satisfied: pyzmq>=13 in /usr/local/lib/python3.6/dist-packages (from jupyter-client>=5.2.3->phik==0.9.9->pandas-profiling==2.*) (17.0.0)\n",
            "Requirement already satisfied: tornado>=4.1 in /usr/local/lib/python3.6/dist-packages (from jupyter-client>=5.2.3->phik==0.9.9->pandas-profiling==2.*) (4.5.3)\n",
            "Requirement already satisfied: pandocfilters>=1.4.1 in /usr/local/lib/python3.6/dist-packages (from nbconvert>=5.3.1->phik==0.9.9->pandas-profiling==2.*) (1.4.2)\n",
            "Requirement already satisfied: bleach in /usr/local/lib/python3.6/dist-packages (from nbconvert>=5.3.1->phik==0.9.9->pandas-profiling==2.*) (3.1.0)\n",
            "Requirement already satisfied: entrypoints>=0.2.2 in /usr/local/lib/python3.6/dist-packages (from nbconvert>=5.3.1->phik==0.9.9->pandas-profiling==2.*) (0.3)\n",
            "Requirement already satisfied: pygments in /usr/local/lib/python3.6/dist-packages (from nbconvert>=5.3.1->phik==0.9.9->pandas-profiling==2.*) (2.1.3)\n",
            "Requirement already satisfied: testpath in /usr/local/lib/python3.6/dist-packages (from nbconvert>=5.3.1->phik==0.9.9->pandas-profiling==2.*) (0.4.4)\n",
            "Requirement already satisfied: defusedxml in /usr/local/lib/python3.6/dist-packages (from nbconvert>=5.3.1->phik==0.9.9->pandas-profiling==2.*) (0.6.0)\n",
            "Requirement already satisfied: mistune<2,>=0.8.1 in /usr/local/lib/python3.6/dist-packages (from nbconvert>=5.3.1->phik==0.9.9->pandas-profiling==2.*) (0.8.4)\n",
            "Requirement already satisfied: ipython-genutils in /usr/local/lib/python3.6/dist-packages (from nbformat>=4.2.0->ipywidgets==7.5.1->pandas-profiling==2.*) (0.2.0)\n",
            "Requirement already satisfied: jsonschema!=2.5.0,>=2.4 in /usr/local/lib/python3.6/dist-packages (from nbformat>=4.2.0->ipywidgets==7.5.1->pandas-profiling==2.*) (2.6.0)\n",
            "Requirement already satisfied: notebook>=4.4.1 in /usr/local/lib/python3.6/dist-packages (from widgetsnbextension~=3.5.0->ipywidgets==7.5.1->pandas-profiling==2.*) (5.2.2)\n",
            "Requirement already satisfied: decorator in /usr/local/lib/python3.6/dist-packages (from ipython>=4.0.0; python_version >= \"3.3\"->ipywidgets==7.5.1->pandas-profiling==2.*) (4.4.1)\n",
            "Requirement already satisfied: pickleshare in /usr/local/lib/python3.6/dist-packages (from ipython>=4.0.0; python_version >= \"3.3\"->ipywidgets==7.5.1->pandas-profiling==2.*) (0.7.5)\n",
            "Requirement already satisfied: simplegeneric>0.8 in /usr/local/lib/python3.6/dist-packages (from ipython>=4.0.0; python_version >= \"3.3\"->ipywidgets==7.5.1->pandas-profiling==2.*) (0.8.1)\n",
            "Requirement already satisfied: pexpect; sys_platform != \"win32\" in /usr/local/lib/python3.6/dist-packages (from ipython>=4.0.0; python_version >= \"3.3\"->ipywidgets==7.5.1->pandas-profiling==2.*) (4.8.0)\n",
            "Requirement already satisfied: prompt-toolkit<2.0.0,>=1.0.4 in /usr/local/lib/python3.6/dist-packages (from ipython>=4.0.0; python_version >= \"3.3\"->ipywidgets==7.5.1->pandas-profiling==2.*) (1.0.18)\n",
            "Requirement already satisfied: astroid<2.4,>=2.3.0 in /usr/local/lib/python3.6/dist-packages (from pylint>=2.0.0->pytest-pylint>=0.13.0->phik==0.9.9->pandas-profiling==2.*) (2.3.3)\n",
            "Requirement already satisfied: isort<5,>=4.2.5 in /usr/local/lib/python3.6/dist-packages (from pylint>=2.0.0->pytest-pylint>=0.13.0->phik==0.9.9->pandas-profiling==2.*) (4.3.21)\n",
            "Requirement already satisfied: mccabe<0.7,>=0.6 in /usr/local/lib/python3.6/dist-packages (from pylint>=2.0.0->pytest-pylint>=0.13.0->phik==0.9.9->pandas-profiling==2.*) (0.6.1)\n",
            "Requirement already satisfied: zipp>=0.5 in /usr/local/lib/python3.6/dist-packages (from importlib-metadata>=0.12; python_version < \"3.8\"->pytest>=4.0.2->phik==0.9.9->pandas-profiling==2.*) (2.2.0)\n",
            "Requirement already satisfied: webencodings in /usr/local/lib/python3.6/dist-packages (from bleach->nbconvert>=5.3.1->phik==0.9.9->pandas-profiling==2.*) (0.5.1)\n",
            "Requirement already satisfied: terminado>=0.3.3; sys_platform != \"win32\" in /usr/local/lib/python3.6/dist-packages (from notebook>=4.4.1->widgetsnbextension~=3.5.0->ipywidgets==7.5.1->pandas-profiling==2.*) (0.8.3)\n",
            "Requirement already satisfied: ptyprocess>=0.5 in /usr/local/lib/python3.6/dist-packages (from pexpect; sys_platform != \"win32\"->ipython>=4.0.0; python_version >= \"3.3\"->ipywidgets==7.5.1->pandas-profiling==2.*) (0.6.0)\n",
            "Requirement already satisfied: typed-ast<1.5,>=1.4.0; implementation_name == \"cpython\" and python_version < \"3.8\" in /usr/local/lib/python3.6/dist-packages (from astroid<2.4,>=2.3.0->pylint>=2.0.0->pytest-pylint>=0.13.0->phik==0.9.9->pandas-profiling==2.*) (1.4.1)\n",
            "Requirement already satisfied: lazy-object-proxy==1.4.* in /usr/local/lib/python3.6/dist-packages (from astroid<2.4,>=2.3.0->pylint>=2.0.0->pytest-pylint>=0.13.0->phik==0.9.9->pandas-profiling==2.*) (1.4.3)\n",
            "Requirement already satisfied: wrapt==1.11.* in /usr/local/lib/python3.6/dist-packages (from astroid<2.4,>=2.3.0->pylint>=2.0.0->pytest-pylint>=0.13.0->phik==0.9.9->pandas-profiling==2.*) (1.11.2)\n",
            "Requirement already satisfied: plotly==4.* in /usr/local/lib/python3.6/dist-packages (4.4.1)\n",
            "Requirement already satisfied: retrying>=1.3.3 in /usr/local/lib/python3.6/dist-packages (from plotly==4.*) (1.3.3)\n",
            "Requirement already satisfied: six in /usr/local/lib/python3.6/dist-packages (from plotly==4.*) (1.12.0)\n"
          ],
          "name": "stdout"
        }
      ]
    },
    {
      "cell_type": "markdown",
      "metadata": {
        "colab_type": "text",
        "id": "Q7u1KtsnOi78"
      },
      "source": [
        "# Part 1, Classification: Predict Blood Donations 🚑\n",
        "Our dataset is from a mobile blood donation vehicle in Taiwan. The Blood Transfusion Service Center drives to different universities and collects blood as part of a blood drive.\n",
        "\n",
        "The goal is to predict whether the donor made a donation in March 2007, using information about each donor's history.\n",
        "\n",
        "Good data-driven systems for tracking and predicting donations and supply needs can improve the entire supply chain, making sure that more patients get the blood transfusions they need."
      ]
    },
    {
      "cell_type": "code",
      "metadata": {
        "colab_type": "code",
        "id": "gJzpgv-fO4rh",
        "colab": {}
      },
      "source": [
        "import pandas as pd\n",
        "\n",
        "donors = pd.read_csv('https://archive.ics.uci.edu/ml/machine-learning-databases/blood-transfusion/transfusion.data')\n",
        "assert donors.shape == (748,5)\n",
        "\n",
        "donors = donors.rename(columns={\n",
        "    'Recency (months)': 'months_since_last_donation', \n",
        "    'Frequency (times)': 'number_of_donations', \n",
        "    'Monetary (c.c. blood)': 'total_volume_donated', \n",
        "    'Time (months)': 'months_since_first_donation', \n",
        "    'whether he/she donated blood in March 2007': 'made_donation_in_march_2007'\n",
        "})"
      ],
      "execution_count": 0,
      "outputs": []
    },
    {
      "cell_type": "markdown",
      "metadata": {
        "colab_type": "text",
        "id": "oU4oE0LJMG7X"
      },
      "source": [
        "Notice that the majority class (did not donate blood in March 2007) occurs about 3/4 of the time. \n",
        "\n",
        "This is the accuracy score for the \"majority class baseline\" (the accuracy score we'd get by just guessing the majority class every time)."
      ]
    },
    {
      "cell_type": "code",
      "metadata": {
        "colab_type": "code",
        "id": "TgRp5slvLzJs",
        "outputId": "d3c6bdd7-a654-4c22-a6f7-ec586029f2ed",
        "colab": {
          "base_uri": "https://localhost:8080/",
          "height": 68
        }
      },
      "source": [
        "donors['made_donation_in_march_2007'].value_counts(normalize=True)"
      ],
      "execution_count": 3,
      "outputs": [
        {
          "output_type": "execute_result",
          "data": {
            "text/plain": [
              "0    0.762032\n",
              "1    0.237968\n",
              "Name: made_donation_in_march_2007, dtype: float64"
            ]
          },
          "metadata": {
            "tags": []
          },
          "execution_count": 3
        }
      ]
    },
    {
      "cell_type": "markdown",
      "metadata": {
        "colab_type": "text",
        "id": "P66Fpcq1PYZl"
      },
      "source": [
        "## 1.1. Do train/test split. Arrange data into X features matrix and y target vector\n",
        "\n",
        "Do these steps in either order.\n",
        "\n",
        "Use scikit-learn's train/test split function to split randomly. (You can include 75% of the data in the train set, and hold out 25% for the test set, which is the default.)"
      ]
    },
    {
      "cell_type": "code",
      "metadata": {
        "colab_type": "code",
        "id": "InhicZeZPX8L",
        "colab": {}
      },
      "source": [
        "from sklearn.model_selection import train_test_split"
      ],
      "execution_count": 0,
      "outputs": []
    },
    {
      "cell_type": "code",
      "metadata": {
        "id": "6jHSFTbIevQ8",
        "colab_type": "code",
        "colab": {
          "base_uri": "https://localhost:8080/",
          "height": 221
        },
        "outputId": "86392116-ca3c-4e44-ba78-836010743c6e"
      },
      "source": [
        "print(donors.shape)\n",
        "donors.head()"
      ],
      "execution_count": 5,
      "outputs": [
        {
          "output_type": "stream",
          "text": [
            "(748, 5)\n"
          ],
          "name": "stdout"
        },
        {
          "output_type": "execute_result",
          "data": {
            "text/html": [
              "<div>\n",
              "<style scoped>\n",
              "    .dataframe tbody tr th:only-of-type {\n",
              "        vertical-align: middle;\n",
              "    }\n",
              "\n",
              "    .dataframe tbody tr th {\n",
              "        vertical-align: top;\n",
              "    }\n",
              "\n",
              "    .dataframe thead th {\n",
              "        text-align: right;\n",
              "    }\n",
              "</style>\n",
              "<table border=\"1\" class=\"dataframe\">\n",
              "  <thead>\n",
              "    <tr style=\"text-align: right;\">\n",
              "      <th></th>\n",
              "      <th>months_since_last_donation</th>\n",
              "      <th>number_of_donations</th>\n",
              "      <th>total_volume_donated</th>\n",
              "      <th>months_since_first_donation</th>\n",
              "      <th>made_donation_in_march_2007</th>\n",
              "    </tr>\n",
              "  </thead>\n",
              "  <tbody>\n",
              "    <tr>\n",
              "      <th>0</th>\n",
              "      <td>2</td>\n",
              "      <td>50</td>\n",
              "      <td>12500</td>\n",
              "      <td>98</td>\n",
              "      <td>1</td>\n",
              "    </tr>\n",
              "    <tr>\n",
              "      <th>1</th>\n",
              "      <td>0</td>\n",
              "      <td>13</td>\n",
              "      <td>3250</td>\n",
              "      <td>28</td>\n",
              "      <td>1</td>\n",
              "    </tr>\n",
              "    <tr>\n",
              "      <th>2</th>\n",
              "      <td>1</td>\n",
              "      <td>16</td>\n",
              "      <td>4000</td>\n",
              "      <td>35</td>\n",
              "      <td>1</td>\n",
              "    </tr>\n",
              "    <tr>\n",
              "      <th>3</th>\n",
              "      <td>2</td>\n",
              "      <td>20</td>\n",
              "      <td>5000</td>\n",
              "      <td>45</td>\n",
              "      <td>1</td>\n",
              "    </tr>\n",
              "    <tr>\n",
              "      <th>4</th>\n",
              "      <td>1</td>\n",
              "      <td>24</td>\n",
              "      <td>6000</td>\n",
              "      <td>77</td>\n",
              "      <td>0</td>\n",
              "    </tr>\n",
              "  </tbody>\n",
              "</table>\n",
              "</div>"
            ],
            "text/plain": [
              "   months_since_last_donation  ...  made_donation_in_march_2007\n",
              "0                           2  ...                            1\n",
              "1                           0  ...                            1\n",
              "2                           1  ...                            1\n",
              "3                           2  ...                            1\n",
              "4                           1  ...                            0\n",
              "\n",
              "[5 rows x 5 columns]"
            ]
          },
          "metadata": {
            "tags": []
          },
          "execution_count": 5
        }
      ]
    },
    {
      "cell_type": "code",
      "metadata": {
        "id": "bzu3MHkcenog",
        "colab_type": "code",
        "colab": {}
      },
      "source": [
        "train, test = train_test_split(donors, random_state=42)\n",
        "##Doing a test/train split"
      ],
      "execution_count": 0,
      "outputs": []
    },
    {
      "cell_type": "code",
      "metadata": {
        "id": "WafXE9ase_7J",
        "colab_type": "code",
        "colab": {
          "base_uri": "https://localhost:8080/",
          "height": 34
        },
        "outputId": "8ef44642-be3d-4515-bf2e-8d2031a38ee0"
      },
      "source": [
        "train.shape, test.shape"
      ],
      "execution_count": 7,
      "outputs": [
        {
          "output_type": "execute_result",
          "data": {
            "text/plain": [
              "((561, 5), (187, 5))"
            ]
          },
          "metadata": {
            "tags": []
          },
          "execution_count": 7
        }
      ]
    },
    {
      "cell_type": "code",
      "metadata": {
        "id": "Mvh8LXwTfGA8",
        "colab_type": "code",
        "colab": {
          "base_uri": "https://localhost:8080/",
          "height": 34
        },
        "outputId": "e21ee1a0-554a-4fc8-f9b0-3a02797ad9c9"
      },
      "source": [
        "train.shape[0]/donors.shape[0]\n",
        "## Looks like it split nicely into 75%/25%"
      ],
      "execution_count": 8,
      "outputs": [
        {
          "output_type": "execute_result",
          "data": {
            "text/plain": [
              "0.75"
            ]
          },
          "metadata": {
            "tags": []
          },
          "execution_count": 8
        }
      ]
    },
    {
      "cell_type": "code",
      "metadata": {
        "id": "rAq7SSZrfUUK",
        "colab_type": "code",
        "colab": {}
      },
      "source": [
        "##Arranging into an X matrix and y target vector\n",
        "\n",
        "features = ['months_since_last_donation',\t'number_of_donations',\t'total_volume_donated',\t'months_since_first_donation']\n",
        "X_train = train[features]\n",
        "X_test = test[features]\n",
        "\n",
        "target = 'made_donation_in_march_2007'\n",
        "y_train = train[target]\n",
        "y_test = test[target]"
      ],
      "execution_count": 0,
      "outputs": []
    },
    {
      "cell_type": "markdown",
      "metadata": {
        "colab_type": "text",
        "id": "ln9fqAghRmQT"
      },
      "source": [
        "## 1.2. Use scikit-learn to fit a logistic regression model\n",
        "\n",
        "You may use any number of features"
      ]
    },
    {
      "cell_type": "code",
      "metadata": {
        "id": "h3a07vbLhUHN",
        "colab_type": "code",
        "colab": {}
      },
      "source": [
        "##Normalizing the data\n",
        "from sklearn.preprocessing import StandardScaler\n",
        "scaler = StandardScaler()\n",
        "X_train_scaled = scaler.fit_transform(X_train)\n",
        "X_test_scaled = scaler.transform(X_test)"
      ],
      "execution_count": 0,
      "outputs": []
    },
    {
      "cell_type": "code",
      "metadata": {
        "colab_type": "code",
        "id": "a2jf_deRRl64",
        "colab": {}
      },
      "source": [
        "from sklearn.linear_model import LogisticRegression"
      ],
      "execution_count": 0,
      "outputs": []
    },
    {
      "cell_type": "code",
      "metadata": {
        "id": "naKy6j9ogz1n",
        "colab_type": "code",
        "colab": {
          "base_uri": "https://localhost:8080/",
          "height": 102
        },
        "outputId": "5256077c-df02-48bb-9a6b-ab09d2662010"
      },
      "source": [
        "model = LogisticRegression()\n",
        "model.fit(X_train_scaled, y_train)"
      ],
      "execution_count": 12,
      "outputs": [
        {
          "output_type": "execute_result",
          "data": {
            "text/plain": [
              "LogisticRegression(C=1.0, class_weight=None, dual=False, fit_intercept=True,\n",
              "                   intercept_scaling=1, l1_ratio=None, max_iter=100,\n",
              "                   multi_class='auto', n_jobs=None, penalty='l2',\n",
              "                   random_state=None, solver='lbfgs', tol=0.0001, verbose=0,\n",
              "                   warm_start=False)"
            ]
          },
          "metadata": {
            "tags": []
          },
          "execution_count": 12
        }
      ]
    },
    {
      "cell_type": "markdown",
      "metadata": {
        "colab_type": "text",
        "id": "Ah6EhiRVSusy"
      },
      "source": [
        "## 1.3. Report classification metric: accuracy\n",
        "\n",
        "What is your model's accuracy on the test set?\n",
        "\n",
        "Don't worry if your model doesn't beat the majority class baseline. That's okay!\n",
        "\n",
        "_\"The combination of some data and an aching desire for an answer does not ensure that a reasonable answer can be extracted from a given body of data.\"_ —[John Tukey](https://en.wikiquote.org/wiki/John_Tukey)\n",
        "\n",
        "(Also, if we used recall score instead of accuracy score, then your model would almost certainly beat the baseline. We'll discuss how to choose and interpret evaluation metrics throughout this unit.)\n"
      ]
    },
    {
      "cell_type": "code",
      "metadata": {
        "colab_type": "code",
        "id": "ZfJ2NFsASt9_",
        "colab": {
          "base_uri": "https://localhost:8080/",
          "height": 34
        },
        "outputId": "94f52dd7-a49c-4a1d-cdf1-f4546b5ce550"
      },
      "source": [
        "print('Training Accuracy', model.score(X_train_scaled, y_train))\n",
        "\n",
        "### The baseline is 76.2% accuracy. The training model improves on it a bit."
      ],
      "execution_count": 13,
      "outputs": [
        {
          "output_type": "stream",
          "text": [
            "Training Accuracy 0.7807486631016043\n"
          ],
          "name": "stdout"
        }
      ]
    },
    {
      "cell_type": "code",
      "metadata": {
        "id": "jYi5rxPQhsxI",
        "colab_type": "code",
        "colab": {
          "base_uri": "https://localhost:8080/",
          "height": 34
        },
        "outputId": "c4701fcc-3211-4657-8b3b-ea615aa0d2ce"
      },
      "source": [
        "print('Testing Accuracy', model.score(X_test_scaled, y_test))\n",
        "### But the testing accuracy is slightly worse than the baseline. Room for improvement!"
      ],
      "execution_count": 14,
      "outputs": [
        {
          "output_type": "stream",
          "text": [
            "Testing Accuracy 0.7540106951871658\n"
          ],
          "name": "stdout"
        }
      ]
    },
    {
      "cell_type": "markdown",
      "metadata": {
        "colab_type": "text",
        "id": "xDmZn3ApOM7t"
      },
      "source": [
        "# Part 2, Regression: Predict home prices in Ames, Iowa 🏠\n",
        "\n",
        "You'll use historical housing data. ***There's a data dictionary at the bottom of the notebook.*** \n",
        "\n",
        "Run this code cell to load the dataset:\n",
        "\n",
        "\n",
        "\n"
      ]
    },
    {
      "cell_type": "code",
      "metadata": {
        "colab_type": "code",
        "id": "7ptoRG1lu7H4",
        "colab": {}
      },
      "source": [
        "import pandas as pd\n",
        "URL = 'https://drive.google.com/uc?export=download&id=1522WlEW6HFss36roD_Cd9nybqSuiVcCK'\n",
        "homes = pd.read_csv(URL)\n",
        "assert homes.shape == (2904, 47)"
      ],
      "execution_count": 0,
      "outputs": []
    },
    {
      "cell_type": "markdown",
      "metadata": {
        "colab_type": "text",
        "id": "CowG-cgZ5ZrB"
      },
      "source": [
        "## 2.1. Begin with baselines\n",
        "\n",
        "What is the Mean Absolute Error and R^2 score for a mean baseline? (You can get these estimated scores using all your data, before splitting it.)"
      ]
    },
    {
      "cell_type": "code",
      "metadata": {
        "colab_type": "code",
        "id": "TbahVr-j5ZLs",
        "colab": {
          "base_uri": "https://localhost:8080/",
          "height": 241
        },
        "outputId": "28328a47-9a7e-4650-eb73-c071685b8b4d"
      },
      "source": [
        "print(homes.shape)\n",
        "homes.head()"
      ],
      "execution_count": 16,
      "outputs": [
        {
          "output_type": "stream",
          "text": [
            "(2904, 47)\n"
          ],
          "name": "stdout"
        },
        {
          "output_type": "execute_result",
          "data": {
            "text/html": [
              "<div>\n",
              "<style scoped>\n",
              "    .dataframe tbody tr th:only-of-type {\n",
              "        vertical-align: middle;\n",
              "    }\n",
              "\n",
              "    .dataframe tbody tr th {\n",
              "        vertical-align: top;\n",
              "    }\n",
              "\n",
              "    .dataframe thead th {\n",
              "        text-align: right;\n",
              "    }\n",
              "</style>\n",
              "<table border=\"1\" class=\"dataframe\">\n",
              "  <thead>\n",
              "    <tr style=\"text-align: right;\">\n",
              "      <th></th>\n",
              "      <th>1st_Flr_SF</th>\n",
              "      <th>Bedroom_AbvGr</th>\n",
              "      <th>Bldg_Type</th>\n",
              "      <th>Bsmt_Full_Bath</th>\n",
              "      <th>Bsmt_Half_Bath</th>\n",
              "      <th>Central_Air</th>\n",
              "      <th>Condition_1</th>\n",
              "      <th>Condition_2</th>\n",
              "      <th>Electrical</th>\n",
              "      <th>Exter_Cond</th>\n",
              "      <th>Exter_Qual</th>\n",
              "      <th>Exterior_1st</th>\n",
              "      <th>Exterior_2nd</th>\n",
              "      <th>Foundation</th>\n",
              "      <th>Full_Bath</th>\n",
              "      <th>Functional</th>\n",
              "      <th>Gr_Liv_Area</th>\n",
              "      <th>Half_Bath</th>\n",
              "      <th>Heating</th>\n",
              "      <th>Heating_QC</th>\n",
              "      <th>House_Style</th>\n",
              "      <th>Kitchen_AbvGr</th>\n",
              "      <th>Kitchen_Qual</th>\n",
              "      <th>Land_Contour</th>\n",
              "      <th>Land_Slope</th>\n",
              "      <th>Lot_Area</th>\n",
              "      <th>Lot_Config</th>\n",
              "      <th>Lot_Shape</th>\n",
              "      <th>MS_SubClass</th>\n",
              "      <th>MS_Zoning</th>\n",
              "      <th>Mas_Vnr_Type</th>\n",
              "      <th>Mo_Sold</th>\n",
              "      <th>Neighborhood</th>\n",
              "      <th>Overall_Cond</th>\n",
              "      <th>Overall_Qual</th>\n",
              "      <th>Paved_Drive</th>\n",
              "      <th>Roof_Matl</th>\n",
              "      <th>Roof_Style</th>\n",
              "      <th>SalePrice</th>\n",
              "      <th>Sale_Condition</th>\n",
              "      <th>Sale_Type</th>\n",
              "      <th>Street</th>\n",
              "      <th>TotRms_AbvGrd</th>\n",
              "      <th>Utilities</th>\n",
              "      <th>Year_Built</th>\n",
              "      <th>Year_Remod/Add</th>\n",
              "      <th>Yr_Sold</th>\n",
              "    </tr>\n",
              "  </thead>\n",
              "  <tbody>\n",
              "    <tr>\n",
              "      <th>0</th>\n",
              "      <td>1656</td>\n",
              "      <td>3</td>\n",
              "      <td>1Fam</td>\n",
              "      <td>1.0</td>\n",
              "      <td>0.0</td>\n",
              "      <td>Y</td>\n",
              "      <td>Norm</td>\n",
              "      <td>Norm</td>\n",
              "      <td>SBrkr</td>\n",
              "      <td>TA</td>\n",
              "      <td>TA</td>\n",
              "      <td>BrkFace</td>\n",
              "      <td>Plywood</td>\n",
              "      <td>CBlock</td>\n",
              "      <td>1</td>\n",
              "      <td>Typ</td>\n",
              "      <td>1656</td>\n",
              "      <td>0</td>\n",
              "      <td>GasA</td>\n",
              "      <td>Fa</td>\n",
              "      <td>1Story</td>\n",
              "      <td>1</td>\n",
              "      <td>TA</td>\n",
              "      <td>Lvl</td>\n",
              "      <td>Gtl</td>\n",
              "      <td>31770</td>\n",
              "      <td>Corner</td>\n",
              "      <td>IR1</td>\n",
              "      <td>20</td>\n",
              "      <td>RL</td>\n",
              "      <td>Stone</td>\n",
              "      <td>5</td>\n",
              "      <td>NAmes</td>\n",
              "      <td>5</td>\n",
              "      <td>6</td>\n",
              "      <td>P</td>\n",
              "      <td>CompShg</td>\n",
              "      <td>Hip</td>\n",
              "      <td>215000</td>\n",
              "      <td>Normal</td>\n",
              "      <td>WD</td>\n",
              "      <td>Pave</td>\n",
              "      <td>7</td>\n",
              "      <td>AllPub</td>\n",
              "      <td>1960</td>\n",
              "      <td>1960</td>\n",
              "      <td>2010</td>\n",
              "    </tr>\n",
              "    <tr>\n",
              "      <th>1</th>\n",
              "      <td>896</td>\n",
              "      <td>2</td>\n",
              "      <td>1Fam</td>\n",
              "      <td>0.0</td>\n",
              "      <td>0.0</td>\n",
              "      <td>Y</td>\n",
              "      <td>Feedr</td>\n",
              "      <td>Norm</td>\n",
              "      <td>SBrkr</td>\n",
              "      <td>TA</td>\n",
              "      <td>TA</td>\n",
              "      <td>VinylSd</td>\n",
              "      <td>VinylSd</td>\n",
              "      <td>CBlock</td>\n",
              "      <td>1</td>\n",
              "      <td>Typ</td>\n",
              "      <td>896</td>\n",
              "      <td>0</td>\n",
              "      <td>GasA</td>\n",
              "      <td>TA</td>\n",
              "      <td>1Story</td>\n",
              "      <td>1</td>\n",
              "      <td>TA</td>\n",
              "      <td>Lvl</td>\n",
              "      <td>Gtl</td>\n",
              "      <td>11622</td>\n",
              "      <td>Inside</td>\n",
              "      <td>Reg</td>\n",
              "      <td>20</td>\n",
              "      <td>RH</td>\n",
              "      <td>None</td>\n",
              "      <td>6</td>\n",
              "      <td>NAmes</td>\n",
              "      <td>6</td>\n",
              "      <td>5</td>\n",
              "      <td>Y</td>\n",
              "      <td>CompShg</td>\n",
              "      <td>Gable</td>\n",
              "      <td>105000</td>\n",
              "      <td>Normal</td>\n",
              "      <td>WD</td>\n",
              "      <td>Pave</td>\n",
              "      <td>5</td>\n",
              "      <td>AllPub</td>\n",
              "      <td>1961</td>\n",
              "      <td>1961</td>\n",
              "      <td>2010</td>\n",
              "    </tr>\n",
              "    <tr>\n",
              "      <th>2</th>\n",
              "      <td>1329</td>\n",
              "      <td>3</td>\n",
              "      <td>1Fam</td>\n",
              "      <td>0.0</td>\n",
              "      <td>0.0</td>\n",
              "      <td>Y</td>\n",
              "      <td>Norm</td>\n",
              "      <td>Norm</td>\n",
              "      <td>SBrkr</td>\n",
              "      <td>TA</td>\n",
              "      <td>TA</td>\n",
              "      <td>Wd Sdng</td>\n",
              "      <td>Wd Sdng</td>\n",
              "      <td>CBlock</td>\n",
              "      <td>1</td>\n",
              "      <td>Typ</td>\n",
              "      <td>1329</td>\n",
              "      <td>1</td>\n",
              "      <td>GasA</td>\n",
              "      <td>TA</td>\n",
              "      <td>1Story</td>\n",
              "      <td>1</td>\n",
              "      <td>Gd</td>\n",
              "      <td>Lvl</td>\n",
              "      <td>Gtl</td>\n",
              "      <td>14267</td>\n",
              "      <td>Corner</td>\n",
              "      <td>IR1</td>\n",
              "      <td>20</td>\n",
              "      <td>RL</td>\n",
              "      <td>BrkFace</td>\n",
              "      <td>6</td>\n",
              "      <td>NAmes</td>\n",
              "      <td>6</td>\n",
              "      <td>6</td>\n",
              "      <td>Y</td>\n",
              "      <td>CompShg</td>\n",
              "      <td>Hip</td>\n",
              "      <td>172000</td>\n",
              "      <td>Normal</td>\n",
              "      <td>WD</td>\n",
              "      <td>Pave</td>\n",
              "      <td>6</td>\n",
              "      <td>AllPub</td>\n",
              "      <td>1958</td>\n",
              "      <td>1958</td>\n",
              "      <td>2010</td>\n",
              "    </tr>\n",
              "    <tr>\n",
              "      <th>3</th>\n",
              "      <td>2110</td>\n",
              "      <td>3</td>\n",
              "      <td>1Fam</td>\n",
              "      <td>1.0</td>\n",
              "      <td>0.0</td>\n",
              "      <td>Y</td>\n",
              "      <td>Norm</td>\n",
              "      <td>Norm</td>\n",
              "      <td>SBrkr</td>\n",
              "      <td>TA</td>\n",
              "      <td>Gd</td>\n",
              "      <td>BrkFace</td>\n",
              "      <td>BrkFace</td>\n",
              "      <td>CBlock</td>\n",
              "      <td>2</td>\n",
              "      <td>Typ</td>\n",
              "      <td>2110</td>\n",
              "      <td>1</td>\n",
              "      <td>GasA</td>\n",
              "      <td>Ex</td>\n",
              "      <td>1Story</td>\n",
              "      <td>1</td>\n",
              "      <td>Ex</td>\n",
              "      <td>Lvl</td>\n",
              "      <td>Gtl</td>\n",
              "      <td>11160</td>\n",
              "      <td>Corner</td>\n",
              "      <td>Reg</td>\n",
              "      <td>20</td>\n",
              "      <td>RL</td>\n",
              "      <td>None</td>\n",
              "      <td>4</td>\n",
              "      <td>NAmes</td>\n",
              "      <td>5</td>\n",
              "      <td>7</td>\n",
              "      <td>Y</td>\n",
              "      <td>CompShg</td>\n",
              "      <td>Hip</td>\n",
              "      <td>244000</td>\n",
              "      <td>Normal</td>\n",
              "      <td>WD</td>\n",
              "      <td>Pave</td>\n",
              "      <td>8</td>\n",
              "      <td>AllPub</td>\n",
              "      <td>1968</td>\n",
              "      <td>1968</td>\n",
              "      <td>2010</td>\n",
              "    </tr>\n",
              "    <tr>\n",
              "      <th>4</th>\n",
              "      <td>928</td>\n",
              "      <td>3</td>\n",
              "      <td>1Fam</td>\n",
              "      <td>0.0</td>\n",
              "      <td>0.0</td>\n",
              "      <td>Y</td>\n",
              "      <td>Norm</td>\n",
              "      <td>Norm</td>\n",
              "      <td>SBrkr</td>\n",
              "      <td>TA</td>\n",
              "      <td>TA</td>\n",
              "      <td>VinylSd</td>\n",
              "      <td>VinylSd</td>\n",
              "      <td>PConc</td>\n",
              "      <td>2</td>\n",
              "      <td>Typ</td>\n",
              "      <td>1629</td>\n",
              "      <td>1</td>\n",
              "      <td>GasA</td>\n",
              "      <td>Gd</td>\n",
              "      <td>2Story</td>\n",
              "      <td>1</td>\n",
              "      <td>TA</td>\n",
              "      <td>Lvl</td>\n",
              "      <td>Gtl</td>\n",
              "      <td>13830</td>\n",
              "      <td>Inside</td>\n",
              "      <td>IR1</td>\n",
              "      <td>60</td>\n",
              "      <td>RL</td>\n",
              "      <td>None</td>\n",
              "      <td>3</td>\n",
              "      <td>Gilbert</td>\n",
              "      <td>5</td>\n",
              "      <td>5</td>\n",
              "      <td>Y</td>\n",
              "      <td>CompShg</td>\n",
              "      <td>Gable</td>\n",
              "      <td>189900</td>\n",
              "      <td>Normal</td>\n",
              "      <td>WD</td>\n",
              "      <td>Pave</td>\n",
              "      <td>6</td>\n",
              "      <td>AllPub</td>\n",
              "      <td>1997</td>\n",
              "      <td>1998</td>\n",
              "      <td>2010</td>\n",
              "    </tr>\n",
              "  </tbody>\n",
              "</table>\n",
              "</div>"
            ],
            "text/plain": [
              "   1st_Flr_SF  Bedroom_AbvGr Bldg_Type  ...  Year_Built  Year_Remod/Add Yr_Sold\n",
              "0        1656              3      1Fam  ...        1960            1960    2010\n",
              "1         896              2      1Fam  ...        1961            1961    2010\n",
              "2        1329              3      1Fam  ...        1958            1958    2010\n",
              "3        2110              3      1Fam  ...        1968            1968    2010\n",
              "4         928              3      1Fam  ...        1997            1998    2010\n",
              "\n",
              "[5 rows x 47 columns]"
            ]
          },
          "metadata": {
            "tags": []
          },
          "execution_count": 16
        }
      ]
    },
    {
      "cell_type": "code",
      "metadata": {
        "id": "ilSU1N7Qj9jv",
        "colab_type": "code",
        "colab": {
          "base_uri": "https://localhost:8080/",
          "height": 317
        },
        "outputId": "e97391da-572e-4313-e141-97b2d25123db"
      },
      "source": [
        "homes.describe()"
      ],
      "execution_count": 17,
      "outputs": [
        {
          "output_type": "execute_result",
          "data": {
            "text/html": [
              "<div>\n",
              "<style scoped>\n",
              "    .dataframe tbody tr th:only-of-type {\n",
              "        vertical-align: middle;\n",
              "    }\n",
              "\n",
              "    .dataframe tbody tr th {\n",
              "        vertical-align: top;\n",
              "    }\n",
              "\n",
              "    .dataframe thead th {\n",
              "        text-align: right;\n",
              "    }\n",
              "</style>\n",
              "<table border=\"1\" class=\"dataframe\">\n",
              "  <thead>\n",
              "    <tr style=\"text-align: right;\">\n",
              "      <th></th>\n",
              "      <th>1st_Flr_SF</th>\n",
              "      <th>Bedroom_AbvGr</th>\n",
              "      <th>Bsmt_Full_Bath</th>\n",
              "      <th>Bsmt_Half_Bath</th>\n",
              "      <th>Full_Bath</th>\n",
              "      <th>Gr_Liv_Area</th>\n",
              "      <th>Half_Bath</th>\n",
              "      <th>Kitchen_AbvGr</th>\n",
              "      <th>Lot_Area</th>\n",
              "      <th>MS_SubClass</th>\n",
              "      <th>Mo_Sold</th>\n",
              "      <th>Overall_Cond</th>\n",
              "      <th>Overall_Qual</th>\n",
              "      <th>SalePrice</th>\n",
              "      <th>TotRms_AbvGrd</th>\n",
              "      <th>Year_Built</th>\n",
              "      <th>Year_Remod/Add</th>\n",
              "      <th>Yr_Sold</th>\n",
              "    </tr>\n",
              "  </thead>\n",
              "  <tbody>\n",
              "    <tr>\n",
              "      <th>count</th>\n",
              "      <td>2904.000000</td>\n",
              "      <td>2904.000000</td>\n",
              "      <td>2904.000000</td>\n",
              "      <td>2904.000000</td>\n",
              "      <td>2904.000000</td>\n",
              "      <td>2904.000000</td>\n",
              "      <td>2904.000000</td>\n",
              "      <td>2904.000000</td>\n",
              "      <td>2904.000000</td>\n",
              "      <td>2904.000000</td>\n",
              "      <td>2904.000000</td>\n",
              "      <td>2904.000000</td>\n",
              "      <td>2904.000000</td>\n",
              "      <td>2904.000000</td>\n",
              "      <td>2904.000000</td>\n",
              "      <td>2904.000000</td>\n",
              "      <td>2904.000000</td>\n",
              "      <td>2904.000000</td>\n",
              "    </tr>\n",
              "    <tr>\n",
              "      <th>mean</th>\n",
              "      <td>1158.257231</td>\n",
              "      <td>2.854339</td>\n",
              "      <td>0.431474</td>\n",
              "      <td>0.061639</td>\n",
              "      <td>1.562328</td>\n",
              "      <td>1497.853650</td>\n",
              "      <td>0.376722</td>\n",
              "      <td>1.044421</td>\n",
              "      <td>10130.199725</td>\n",
              "      <td>57.474174</td>\n",
              "      <td>6.206956</td>\n",
              "      <td>5.567149</td>\n",
              "      <td>6.086777</td>\n",
              "      <td>180383.689738</td>\n",
              "      <td>6.441804</td>\n",
              "      <td>1971.109504</td>\n",
              "      <td>1984.112259</td>\n",
              "      <td>2007.792011</td>\n",
              "    </tr>\n",
              "    <tr>\n",
              "      <th>std</th>\n",
              "      <td>388.351648</td>\n",
              "      <td>0.827820</td>\n",
              "      <td>0.525073</td>\n",
              "      <td>0.246202</td>\n",
              "      <td>0.551427</td>\n",
              "      <td>504.591527</td>\n",
              "      <td>0.501416</td>\n",
              "      <td>0.214260</td>\n",
              "      <td>7869.928702</td>\n",
              "      <td>42.724950</td>\n",
              "      <td>2.712204</td>\n",
              "      <td>1.113736</td>\n",
              "      <td>1.410083</td>\n",
              "      <td>79802.823684</td>\n",
              "      <td>1.573130</td>\n",
              "      <td>30.227141</td>\n",
              "      <td>20.857813</td>\n",
              "      <td>1.318719</td>\n",
              "    </tr>\n",
              "    <tr>\n",
              "      <th>min</th>\n",
              "      <td>334.000000</td>\n",
              "      <td>0.000000</td>\n",
              "      <td>0.000000</td>\n",
              "      <td>0.000000</td>\n",
              "      <td>0.000000</td>\n",
              "      <td>334.000000</td>\n",
              "      <td>0.000000</td>\n",
              "      <td>0.000000</td>\n",
              "      <td>1300.000000</td>\n",
              "      <td>20.000000</td>\n",
              "      <td>1.000000</td>\n",
              "      <td>1.000000</td>\n",
              "      <td>1.000000</td>\n",
              "      <td>12789.000000</td>\n",
              "      <td>2.000000</td>\n",
              "      <td>1872.000000</td>\n",
              "      <td>1950.000000</td>\n",
              "      <td>2006.000000</td>\n",
              "    </tr>\n",
              "    <tr>\n",
              "      <th>25%</th>\n",
              "      <td>876.750000</td>\n",
              "      <td>2.000000</td>\n",
              "      <td>0.000000</td>\n",
              "      <td>0.000000</td>\n",
              "      <td>1.000000</td>\n",
              "      <td>1124.000000</td>\n",
              "      <td>0.000000</td>\n",
              "      <td>1.000000</td>\n",
              "      <td>7424.750000</td>\n",
              "      <td>20.000000</td>\n",
              "      <td>4.000000</td>\n",
              "      <td>5.000000</td>\n",
              "      <td>5.000000</td>\n",
              "      <td>129150.000000</td>\n",
              "      <td>5.000000</td>\n",
              "      <td>1953.000000</td>\n",
              "      <td>1965.000000</td>\n",
              "      <td>2007.000000</td>\n",
              "    </tr>\n",
              "    <tr>\n",
              "      <th>50%</th>\n",
              "      <td>1083.500000</td>\n",
              "      <td>3.000000</td>\n",
              "      <td>0.000000</td>\n",
              "      <td>0.000000</td>\n",
              "      <td>2.000000</td>\n",
              "      <td>1440.500000</td>\n",
              "      <td>0.000000</td>\n",
              "      <td>1.000000</td>\n",
              "      <td>9429.000000</td>\n",
              "      <td>50.000000</td>\n",
              "      <td>6.000000</td>\n",
              "      <td>5.000000</td>\n",
              "      <td>6.000000</td>\n",
              "      <td>160000.000000</td>\n",
              "      <td>6.000000</td>\n",
              "      <td>1973.000000</td>\n",
              "      <td>1993.000000</td>\n",
              "      <td>2008.000000</td>\n",
              "    </tr>\n",
              "    <tr>\n",
              "      <th>75%</th>\n",
              "      <td>1383.000000</td>\n",
              "      <td>3.000000</td>\n",
              "      <td>1.000000</td>\n",
              "      <td>0.000000</td>\n",
              "      <td>2.000000</td>\n",
              "      <td>1740.500000</td>\n",
              "      <td>1.000000</td>\n",
              "      <td>1.000000</td>\n",
              "      <td>11516.250000</td>\n",
              "      <td>70.000000</td>\n",
              "      <td>8.000000</td>\n",
              "      <td>6.000000</td>\n",
              "      <td>7.000000</td>\n",
              "      <td>213000.000000</td>\n",
              "      <td>7.000000</td>\n",
              "      <td>2000.000000</td>\n",
              "      <td>2004.000000</td>\n",
              "      <td>2009.000000</td>\n",
              "    </tr>\n",
              "    <tr>\n",
              "      <th>max</th>\n",
              "      <td>5095.000000</td>\n",
              "      <td>8.000000</td>\n",
              "      <td>3.000000</td>\n",
              "      <td>2.000000</td>\n",
              "      <td>4.000000</td>\n",
              "      <td>5642.000000</td>\n",
              "      <td>2.000000</td>\n",
              "      <td>3.000000</td>\n",
              "      <td>215245.000000</td>\n",
              "      <td>190.000000</td>\n",
              "      <td>12.000000</td>\n",
              "      <td>9.000000</td>\n",
              "      <td>10.000000</td>\n",
              "      <td>755000.000000</td>\n",
              "      <td>15.000000</td>\n",
              "      <td>2010.000000</td>\n",
              "      <td>2010.000000</td>\n",
              "      <td>2010.000000</td>\n",
              "    </tr>\n",
              "  </tbody>\n",
              "</table>\n",
              "</div>"
            ],
            "text/plain": [
              "        1st_Flr_SF  Bedroom_AbvGr  ...  Year_Remod/Add      Yr_Sold\n",
              "count  2904.000000    2904.000000  ...     2904.000000  2904.000000\n",
              "mean   1158.257231       2.854339  ...     1984.112259  2007.792011\n",
              "std     388.351648       0.827820  ...       20.857813     1.318719\n",
              "min     334.000000       0.000000  ...     1950.000000  2006.000000\n",
              "25%     876.750000       2.000000  ...     1965.000000  2007.000000\n",
              "50%    1083.500000       3.000000  ...     1993.000000  2008.000000\n",
              "75%    1383.000000       3.000000  ...     2004.000000  2009.000000\n",
              "max    5095.000000       8.000000  ...     2010.000000  2010.000000\n",
              "\n",
              "[8 rows x 18 columns]"
            ]
          },
          "metadata": {
            "tags": []
          },
          "execution_count": 17
        }
      ]
    },
    {
      "cell_type": "code",
      "metadata": {
        "id": "jpJwRhdbjsgW",
        "colab_type": "code",
        "colab": {
          "base_uri": "https://localhost:8080/",
          "height": 34
        },
        "outputId": "564ebf04-c0f0-4b90-c205-367e47dee29a"
      },
      "source": [
        "price = homes['SalePrice']\n",
        "price.shape"
      ],
      "execution_count": 18,
      "outputs": [
        {
          "output_type": "execute_result",
          "data": {
            "text/plain": [
              "(2904,)"
            ]
          },
          "metadata": {
            "tags": []
          },
          "execution_count": 18
        }
      ]
    },
    {
      "cell_type": "code",
      "metadata": {
        "id": "E31Gt7UUlqlC",
        "colab_type": "code",
        "colab": {
          "base_uri": "https://localhost:8080/",
          "height": 34
        },
        "outputId": "d3e33286-3907-4e82-c30e-2d07a8ff88d5"
      },
      "source": [
        "best_guess = price.mean()\n",
        "best_guess"
      ],
      "execution_count": 19,
      "outputs": [
        {
          "output_type": "execute_result",
          "data": {
            "text/plain": [
              "180383.689738292"
            ]
          },
          "metadata": {
            "tags": []
          },
          "execution_count": 19
        }
      ]
    },
    {
      "cell_type": "code",
      "metadata": {
        "id": "aoPPuAQZsGn-",
        "colab_type": "code",
        "colab": {}
      },
      "source": [
        "#type(best_guess)\n",
        "#best_guess = int(best_guess)\n",
        "#type(best_guess)\n",
        "#best_guess"
      ],
      "execution_count": 0,
      "outputs": []
    },
    {
      "cell_type": "code",
      "metadata": {
        "id": "FN2OtRk0nYIv",
        "colab_type": "code",
        "colab": {
          "base_uri": "https://localhost:8080/",
          "height": 221
        },
        "outputId": "0dc0a873-7b60-4812-8909-208eb5e7ba0d"
      },
      "source": [
        "errors = best_guess - price\n",
        "errors"
      ],
      "execution_count": 21,
      "outputs": [
        {
          "output_type": "execute_result",
          "data": {
            "text/plain": [
              "0      -34616.310262\n",
              "1       75383.689738\n",
              "2        8383.689738\n",
              "3      -63616.310262\n",
              "4       -9516.310262\n",
              "            ...     \n",
              "2899    37883.689738\n",
              "2900    49383.689738\n",
              "2901    48383.689738\n",
              "2902    10383.689738\n",
              "2903    -7616.310262\n",
              "Name: SalePrice, Length: 2904, dtype: float64"
            ]
          },
          "metadata": {
            "tags": []
          },
          "execution_count": 21
        }
      ]
    },
    {
      "cell_type": "code",
      "metadata": {
        "id": "g2_iGOr0nhOX",
        "colab_type": "code",
        "colab": {
          "base_uri": "https://localhost:8080/",
          "height": 34
        },
        "outputId": "1b8ebef4-2282-4b4c-a81d-b8f3742c1d98"
      },
      "source": [
        "mean_absolute_error = errors.abs().mean()\n",
        "print(f'The mean absolute error is ${mean_absolute_error}')"
      ],
      "execution_count": 22,
      "outputs": [
        {
          "output_type": "stream",
          "text": [
            "The mean absolute error is $58149.927741208136\n"
          ],
          "name": "stdout"
        }
      ]
    },
    {
      "cell_type": "code",
      "metadata": {
        "id": "1EpVQ-QzBA1t",
        "colab_type": "code",
        "colab": {}
      },
      "source": [
        "import numpy as np\n",
        "#best_guess = np.array(best_guess * len(price))\n",
        "\n",
        "best_guess = [best_guess] * len(price)\n",
        "#best_guess"
      ],
      "execution_count": 0,
      "outputs": []
    },
    {
      "cell_type": "code",
      "metadata": {
        "id": "VoxXeNrvA7R0",
        "colab_type": "code",
        "colab": {
          "base_uri": "https://localhost:8080/",
          "height": 34
        },
        "outputId": "48eed9a8-03ac-4c8c-b560-dcbab1fc976a"
      },
      "source": [
        "from sklearn.metrics import mean_absolute_error, r2_score\n",
        "\n",
        "mae = mean_absolute_error(price, best_guess)\n",
        "mae\n",
        "\n",
        "#Confirming that I get the same mean absolute error using the sklearn function"
      ],
      "execution_count": 24,
      "outputs": [
        {
          "output_type": "execute_result",
          "data": {
            "text/plain": [
              "58149.92774120811"
            ]
          },
          "metadata": {
            "tags": []
          },
          "execution_count": 24
        }
      ]
    },
    {
      "cell_type": "code",
      "metadata": {
        "id": "KCUDFuxdDIN-",
        "colab_type": "code",
        "colab": {
          "base_uri": "https://localhost:8080/",
          "height": 34
        },
        "outputId": "03f1a472-29c2-4733-afa7-29fcc32ce12e"
      },
      "source": [
        "\n",
        "r2 = r2_score(price, best_guess)\n",
        "r2\n",
        "\n",
        "##Pretty bad R squared!"
      ],
      "execution_count": 44,
      "outputs": [
        {
          "output_type": "execute_result",
          "data": {
            "text/plain": [
              "0.0"
            ]
          },
          "metadata": {
            "tags": []
          },
          "execution_count": 44
        }
      ]
    },
    {
      "cell_type": "markdown",
      "metadata": {
        "colab_type": "text",
        "id": "yqeiq1wvyrTq"
      },
      "source": [
        "## 2.2. Do train/validate/test split\n",
        "\n",
        "Train on houses sold in the years 2006 - 2008. (1,920 rows)\n",
        "\n",
        "Validate on house sold in 2009. (644 rows)\n",
        "\n",
        "Test on houses sold in 2010. (340 rows)"
      ]
    },
    {
      "cell_type": "code",
      "metadata": {
        "colab_type": "code",
        "id": "WKFjWLI3w0P_",
        "colab": {
          "base_uri": "https://localhost:8080/",
          "height": 102
        },
        "outputId": "c493e9eb-39b0-4269-90b1-823702b9cc23"
      },
      "source": [
        "print(homes.shape)\n",
        "\n",
        "train = homes[homes['Yr_Sold'] <= 2008]\n",
        "print(train.shape)\n",
        "\n",
        "val = homes[homes['Yr_Sold'] == 2009]\n",
        "print(val.shape)\n",
        "\n",
        "test = homes[homes['Yr_Sold'] == 2010]\n",
        "print(test.shape)\n",
        "\n",
        "train.shape[0]+val.shape[0]+test.shape[0]"
      ],
      "execution_count": 25,
      "outputs": [
        {
          "output_type": "stream",
          "text": [
            "(2904, 47)\n",
            "(1920, 47)\n",
            "(644, 47)\n",
            "(340, 47)\n"
          ],
          "name": "stdout"
        },
        {
          "output_type": "execute_result",
          "data": {
            "text/plain": [
              "2904"
            ]
          },
          "metadata": {
            "tags": []
          },
          "execution_count": 25
        }
      ]
    },
    {
      "cell_type": "markdown",
      "metadata": {
        "colab_type": "text",
        "id": "hk1bYDJy6txq"
      },
      "source": [
        "## 2.3. Arrange data into X features matrix and y target vector\n",
        "\n",
        "Select at least one numeric feature and at least one categorical feature.\n",
        "\n",
        "Otherwise, you may choose whichever features and however many you want."
      ]
    },
    {
      "cell_type": "code",
      "metadata": {
        "colab_type": "code",
        "id": "JQf9iwzf_uWh",
        "colab": {}
      },
      "source": [
        "### X features\n",
        "features = ['1st_Flr_SF', 'Exter_Qual']\n",
        "X_train = train[features]\n",
        "X_val = val[features]\n",
        "X_test = test[features]\n",
        "\n",
        "### y target vectors\n",
        "target = 'SalePrice'\n",
        "y_train = train[target]\n",
        "y_val = val[target]\n",
        "y_test = test[target]"
      ],
      "execution_count": 0,
      "outputs": []
    },
    {
      "cell_type": "code",
      "metadata": {
        "id": "Bm7a1a-Cxcxg",
        "colab_type": "code",
        "colab": {
          "base_uri": "https://localhost:8080/",
          "height": 542
        },
        "outputId": "9cfd34d3-3484-44c6-9ecf-a0818ee5fee4"
      },
      "source": [
        "### Just checking out some potential features\n",
        "\n",
        "import plotly.express as px\n",
        "px.scatter(homes, x='1st_Flr_SF', y='SalePrice', trendline='ols')"
      ],
      "execution_count": 27,
      "outputs": [
        {
          "output_type": "display_data",
          "data": {
            "text/html": [
              "<html>\n",
              "<head><meta charset=\"utf-8\" /></head>\n",
              "<body>\n",
              "    <div>\n",
              "            <script src=\"https://cdnjs.cloudflare.com/ajax/libs/mathjax/2.7.5/MathJax.js?config=TeX-AMS-MML_SVG\"></script><script type=\"text/javascript\">if (window.MathJax) {MathJax.Hub.Config({SVG: {font: \"STIX-Web\"}});}</script>\n",
              "                <script type=\"text/javascript\">window.PlotlyConfig = {MathJaxConfig: 'local'};</script>\n",
              "        <script src=\"https://cdn.plot.ly/plotly-latest.min.js\"></script>    \n",
              "            <div id=\"cac4cc26-e415-4eae-bb9d-90f8f0e25172\" class=\"plotly-graph-div\" style=\"height:525px; width:100%;\"></div>\n",
              "            <script type=\"text/javascript\">\n",
              "                \n",
              "                    window.PLOTLYENV=window.PLOTLYENV || {};\n",
              "                    \n",
              "                if (document.getElementById(\"cac4cc26-e415-4eae-bb9d-90f8f0e25172\")) {\n",
              "                    Plotly.newPlot(\n",
              "                        'cac4cc26-e415-4eae-bb9d-90f8f0e25172',\n",
              "                        [{\"hoverlabel\": {\"namelength\": 0}, \"hovertemplate\": \"1st_Flr_SF=%{x}<br>SalePrice=%{y}\", \"legendgroup\": \"\", \"marker\": {\"color\": \"#636efa\", \"symbol\": \"circle\"}, \"mode\": \"markers\", \"name\": \"\", \"showlegend\": false, \"type\": \"scattergl\", \"x\": [1656, 896, 1329, 2110, 928, 926, 1338, 1280, 1616, 1028, 763, 1187, 789, 1341, 1502, 1690, 1080, 1856, 864, 2073, 1844, 1173, 814, 1004, 1078, 1056, 882, 864, 1337, 483, 525, 525, 1069, 855, 836, 855, 1627, 1704, 1940, 1544, 1541, 1698, 1822, 1535, 2364, 1358, 2696, 1687, 1752, 1370, 764, 1324, 1145, 1269, 744, 847, 774, 884, 1422, 1645, 1720, 1500, 1164, 1195, 2053, 1595, 1218, 764, 1566, 991, 1468, 956, 831, 1222, 923, 1055, 918, 752, 1014, 1097, 888, 1012, 1318, 1155, 894, 900, 1040, 1040, 1494, 1061, 1251, 1402, 1488, 840, 600, 600, 600, 600, 1478, 769, 756, 696, 530, 1418, 975, 788, 1226, 725, 1492, 1829, 1280, 1610, 1287, 980, 1381, 930, 1232, 1328, 1225, 1209, 1510, 1131, 1152, 1054, 1728, 1078, 1929, 1019, 858, 1306, 1063, 1520, 1268, 1128, 1105, 2207, 1888, 1604, 1480, 1143, 1700, 1314, 1194, 1188, 1264, 1206, 1580, 832, 1064, 972, 988, 1057, 985, 827, 1086, 936, 912, 1056, 1287, 1898, 816, 1246, 910, 900, 1116, 1175, 1395, 1051, 1157, 792, 936, 1028, 1347, 840, 747, 804, 926, 827, 1027, 1060, 832, 720, 930, 966, 1157, 1128, 1236, 741, 1246, 868, 1030, 1160, 765, 608, 848, 955, 780, 548, 928, 1068, 902, 888, 780, 662, 816, 372, 1032, 1207, 1675, 725, 1212, 600, 942, 936, 780, 1832, 1768, 1039, 1392, 912, 1060, 892, 663, 864, 1373, 720, 672, 1306, 1483, 756, 1067, 1332, 1117, 1052, 835, 1074, 1144, 1169, 1172, 1212, 1508, 1298, 930, 977, 1433, 964, 1062, 996, 1694, 1208, 1226, 1222, 1699, 831, 1052, 965, 892, 804, 1026, 689, 894, 876, 1978, 1601, 941, 1044, 1661, 848, 848, 1668, 1484, 1414, 640, 992, 1664, 1196, 792, 1096, 1117, 960, 1121, 798, 672, 1526, 1296, 841, 864, 1026, 856, 862, 894, 1699, 1225, 1102, 1188, 1902, 896, 1034, 1191, 1801, 796, 540, 727, 698, 859, 1044, 952, 1646, 1036, 1285, 1560, 1034, 2048, 1687, 1346, 1214, 744, 774, 824, 993, 2018, 1264, 1430, 912, 1344, 546, 945, 536, 546, 630, 546, 546, 874, 1188, 833, 1216, 624, 864, 1803, 1152, 882, 1434, 2000, 945, 1008, 958, 1746, 804, 2522, 1659, 1478, 1734, 751, 885, 952, 799, 680, 707, 1190, 808, 702, 1167, 1005, 1442, 1360, 2234, 2046, 1530, 946, 1153, 1586, 1411, 1602, 1154, 1671, 1539, 1472, 1707, 2524, 1601, 1370, 1088, 1016, 832, 1058, 972, 1621, 1116, 1193, 1350, 1378, 896, 1002, 1026, 1180, 1050, 864, 864, 864, 864, 864, 483, 765, 630, 483, 483, 630, 958, 804, 855, 1055, 855, 855, 804, 855, 855, 836, 892, 1120, 1718, 1794, 1966, 2402, 1652, 1600, 2042, 1365, 1130, 2020, 2020, 1728, 2674, 1734, 1736, 1782, 1508, 1717, 1743, 1713, 1531, 1808, 1462, 1836, 1629, 1760, 1502, 2392, 2452, 1105, 1606, 1358, 1306, 1306, 1358, 1314, 2492, 2200, 1884, 1456, 1712, 1324, 1405, 764, 728, 745, 742, 684, 1555, 1569, 1555, 1504, 1220, 1145, 716, 1010, 744, 868, 779, 846, 806, 698, 1314, 980, 1022, 744, 1007, 819, 774, 1223, 892, 1022, 774, 1268, 1490, 1466, 1310, 1276, 1277, 2063, 1372, 1094, 1215, 1686, 979, 1468, 1696, 1658, 1578, 1702, 1432, 1113, 2490, 932, 786, 1218, 1314, 1402, 1530, 1766, 1448, 1026, 909, 1082, 1112, 1836, 1662, 912, 1221, 1553, 812, 1218, 1141, 1158, 871, 1512, 1114, 1114, 1114, 1450, 913, 1844, 1434, 833, 626, 1332, 754, 698, 964, 841, 784, 980, 980, 864, 864, 1020, 912, 1144, 864, 912, 2014, 975, 1376, 612, 612, 1726, 1256, 742, 756, 713, 983, 1694, 1226, 1740, 1487, 1620, 829, 1442, 1489, 1107, 1285, 735, 1271, 1724, 1336, 1216, 1316, 1334, 1680, 810, 864, 1568, 925, 1165, 1320, 1342, 894, 864, 864, 1362, 1728, 1776, 1516, 1313, 1292, 1154, 825, 1445, 1041, 1576, 960, 708, 979, 1505, 1691, 1644, 1050, 1112, 1113, 1584, 1453, 1394, 1567, 1186, 1182, 1392, 1281, 1144, 1478, 1329, 988, 1632, 1215, 1202, 1382, 1200, 1382, 1297, 1866, 1062, 1319, 1112, 1005, 1363, 793, 1031, 1210, 1014, 801, 1200, 972, 792, 808, 676, 717, 792, 1078, 1313, 930, 599, 840, 846, 725, 1248, 1380, 1040, 1338, 951, 1105, 1306, 1478, 1142, 1036, 1040, 765, 1040, 1136, 1041, 1339, 732, 1183, 1148, 832, 1064, 993, 941, 1045, 894, 818, 682, 861, 972, 676, 810, 764, 868, 1378, 1101, 960, 707, 801, 936, 768, 811, 861, 612, 600, 886, 792, 736, 833, 720, 1075, 1320, 1090, 664, 916, 816, 832, 1022, 1188, 1044, 780, 720, 797, 1072, 1432, 952, 1001, 952, 757, 786, 884, 825, 822, 904, 1301, 1067, 989, 800, 875, 995, 994, 1072, 1445, 1136, 1048, 916, 1272, 929, 1088, 1146, 848, 741, 978, 1204, 892, 754, 704, 1200, 1200, 1152, 904, 697, 687, 1464, 1121, 918, 1052, 899, 1034, 858, 860, 1092, 904, 1138, 2071, 660, 1104, 1473, 1229, 861, 1867, 1733, 1383, 1689, 1073, 1276, 892, 672, 1089, 845, 1049, 1148, 698, 755, 1061, 1338, 1496, 2196, 1006, 1079, 1142, 1288, 1535, 1224, 1114, 1535, 1535, 1120, 1229, 1513, 1168, 1168, 1168, 1680, 1718, 1630, 1720, 1468, 866, 1838, 1800, 1604, 1290, 1254, 1232, 1498, 704, 1644, 944, 1160, 1040, 990, 928, 827, 1463, 1097, 990, 866, 1501, 1431, 928, 831, 1573, 944, 1430, 1444, 1492, 1040, 907, 914, 1040, 864, 1268, 864, 894, 768, 768, 1611, 1068, 1788, 1299, 1476, 944, 1513, 1504, 1828, 1417, 1057, 909, 1212, 1630, 848, 848, 1602, 864, 1500, 738, 608, 1126, 1486, 816, 495, 698, 1149, 1125, 1698, 1072, 698, 876, 1368, 1088, 864, 944, 1678, 1560, 960, 684, 854, 984, 832, 848, 438, 944, 1687, 647, 1328, 1232, 1160, 575, 1172, 877, 628, 1276, 840, 753, 976, 1273, 964, 820, 1240, 1112, 860, 1561, 986, 1152, 1906, 516, 561, 561, 561, 1182, 2365, 1680, 672, 928, 596, 1013, 572, 1648, 810, 1040, 1518, 1710, 804, 926, 1287, 1302, 1217, 1595, 1344, 2036, 1620, 846, 2036, 1641, 1466, 1412, 1375, 1479, 1296, 1072, 1838, 1978, 1008, 1771, 1204, 1224, 526, 874, 630, 1404, 630, 798, 546, 796, 1091, 1110, 833, 883, 796, 624, 1567, 784, 1414, 2117, 1092, 926, 680, 926, 943, 916, 1384, 729, 1593, 1682, 1337, 1280, 926, 932, 773, 1086, 851, 1228, 1337, 1168, 1134, 1884, 1474, 1710, 1488, 1236, 1688, 1422, 1260, 2064, 1782, 1542, 1211, 1126, 1277, 720, 1420, 1523, 1444, 1098, 1178, 1236, 896, 1054, 936, 864, 864, 1337, 483, 483, 483, 483, 483, 483, 630, 1069, 855, 1055, 892, 1932, 1742, 2084, 1476, 1582, 1710, 2464, 1950, 1850, 1632, 1414, 948, 1170, 2470, 1572, 1006, 1575, 1515, 1804, 1866, 1702, 1367, 1518, 1684, 1800, 1342, 1342, 764, 764, 1358, 1455, 1576, 1504, 1266, 1246, 813, 864, 1166, 728, 840, 847, 1358, 962, 1008, 788, 1037, 873, 1182, 1470, 1145, 1533, 2006, 1064, 1251, 2113, 1325, 1108, 1223, 1987, 1580, 894, 1574, 1578, 1506, 1563, 1428, 1341, 955, 1372, 1372, 866, 1053, 1026, 1050, 1660, 1218, 864, 1080, 835, 835, 1175, 1114, 1114, 798, 1162, 754, 886, 1679, 832, 827, 844, 1294, 832, 1617, 1199, 984, 912, 864, 890, 864, 912, 1430, 1001, 1364, 1827, 1391, 625, 1245, 600, 703, 703, 757, 757, 1638, 1310, 1419, 1557, 1709, 624, 684, 872, 962, 962, 1469, 1288, 1239, 1719, 1232, 1599, 1671, 1682, 1427, 1740, 1258, 1620, 1625, 1548, 732, 912, 925, 1728, 1728, 1656, 845, 1175, 943, 800, 999, 1098, 1014, 907, 952, 1128, 1425, 1165, 1136, 1092, 1265, 1350, 1114, 1053, 1252, 1100, 1118, 720, 729, 1077, 453, 1496, 1032, 1337, 1661, 1036, 902, 1362, 1144, 1537, 1431, 1104, 1098, 1144, 1283, 1176, 1440, 1261, 1570, 1196, 1392, 1080, 1104, 882, 1152, 950, 1790, 952, 773, 1764, 832, 1824, 869, 747, 1048, 672, 1254, 694, 858, 1044, 1312, 1253, 1081, 2069, 910, 876, 1048, 1507, 1256, 1027, 1269, 819, 984, 832, 854, 1800, 1024, 825, 983, 798, 1117, 1133, 764, 958, 948, 680, 1584, 672, 728, 828, 1362, 1095, 960, 1027, 884, 899, 684, 789, 1122, 904, 407, 928, 901, 1588, 1675, 830, 876, 730, 624, 709, 1377, 1134, 884, 689, 1221, 742, 938, 572, 1521, 723, 1313, 984, 1050, 882, 1093, 1143, 1195, 779, 1144, 784, 832, 736, 1014, 949, 950, 825, 874, 1013, 565, 624, 808, 1128, 1245, 1226, 1022, 751, 520, 1072, 1053, 1133, 1170, 988, 838, 1242, 833, 825, 768, 768, 1272, 880, 1040, 788, 1035, 825, 1088, 759, 808, 756, 1054, 1211, 720, 1120, 808, 1075, 1040, 1096, 904, 992, 894, 1034, 1073, 1126, 1258, 1140, 1006, 1228, 960, 1188, 1383, 1252, 1021, 672, 1721, 864, 904, 1291, 1156, 1524, 1363, 1663, 1357, 617, 1094, 1307, 1518, 1163, 1236, 1509, 864, 621, 961, 820, 1164, 572, 616, 1532, 1093, 1626, 1101, 1302, 628, 1615, 2276, 1766, 1080, 1511, 1643, 616, 990, 1099, 990, 1418, 872, 782, 882, 880, 1479, 1494, 963, 928, 920, 938, 985, 1174, 1026, 1076, 1558, 924, 864, 780, 1795, 992, 1290, 1004, 1153, 1055, 1366, 1786, 1149, 884, 1129, 798, 886, 933, 848, 848, 1493, 1838, 1536, 856, 1445, 1436, 770, 1234, 1564, 1361, 728, 848, 848, 848, 848, 796, 1272, 1092, 1256, 1033, 1127, 996, 1181, 760, 1117, 684, 1132, 4692, 1072, 1152, 1152, 1440, 1152, 784, 585, 929, 930, 768, 997, 872, 1204, 949, 864, 864, 936, 810, 1052, 1390, 1424, 1024, 990, 960, 672, 1423, 840, 676, 790, 798, 1166, 819, 851, 849, 1265, 932, 1091, 983, 1968, 1137, 1218, 1898, 1640, 516, 716, 919, 760, 796, 816, 778, 780, 1092, 912, 1151, 733, 825, 649, 671, 894, 432, 1652, 1648, 1646, 1646, 2032, 1689, 910, 1118, 1279, 936, 1689, 1619, 1501, 2898, 1537, 1646, 920, 712, 796, 1495, 1651, 1256, 1509, 1440, 1675, 1482, 1728, 1964, 1344, 1344, 1092, 1189, 1200, 1040, 616, 925, 526, 526, 1160, 546, 630, 988, 816, 923, 816, 816, 845, 983, 889, 1168, 1150, 1587, 1277, 2223, 2217, 847, 806, 794, 916, 754, 1652, 924, 947, 691, 1253, 957, 1187, 802, 812, 910, 1128, 1088, 1190, 1179, 1321, 1922, 1164, 2338, 1424, 1612, 1419, 2234, 2042, 1440, 1284, 1140, 725, 1664, 1085, 1161, 1118, 1032, 1177, 1040, 1353, 780, 1220, 1484, 1041, 1142, 1324, 1084, 576, 981, 725, 1422, 914, 950, 872, 858, 914, 864, 767, 1337, 1337, 525, 672, 672, 630, 765, 958, 804, 1055, 988, 1816, 1828, 1694, 1694, 1734, 2122, 2121, 1943, 1148, 2046, 1071, 2552, 1973, 2069, 1634, 1976, 1722, 2290, 1582, 1143, 958, 1610, 1802, 1718, 1136, 1217, 1234, 895, 1614, 1721, 1298, 1362, 1302, 1302, 1362, 1554, 1554, 1370, 1577, 1561, 1869, 1324, 1405, 768, 783, 608, 738, 698, 1326, 728, 1302, 1340, 616, 752, 728, 1258, 1258, 1402, 1589, 1266, 1530, 1119, 744, 847, 1525, 840, 847, 948, 864, 953, 774, 660, 940, 961, 2411, 1779, 997, 2633, 1671, 1411, 1108, 2444, 1127, 1383, 1214, 1328, 3228, 1105, 1335, 1369, 1542, 1905, 1464, 1534, 1966, 1636, 1795, 1726, 1689, 1588, 1538, 1496, 1506, 1694, 982, 1302, 1338, 1335, 896, 725, 1088, 1184, 1656, 874, 1584, 1685, 1158, 1580, 1100, 1143, 1094, 1486, 936, 920, 1349, 1494, 1575, 630, 884, 2020, 894, 970, 1057, 999, 1120, 1696, 1040, 988, 902, 1271, 1516, 1037, 1701, 1055, 1453, 2129, 1378, 1151, 1565, 1352, 1352, 625, 757, 729, 756, 769, 769, 551, 764, 975, 1358, 1072, 1220, 1494, 2362, 1432, 1437, 1295, 1094, 1262, 2497, 1361, 1057, 1152, 1403, 1082, 1295, 1610, 1594, 1091, 1680, 1093, 1242, 1052, 1107, 1214, 1073, 1344, 1728, 1224, 1422, 958, 1065, 1138, 912, 1074, 882, 1187, 964, 894, 1200, 1042, 1302, 845, 1374, 1652, 1429, 1327, 1224, 932, 908, 334, 666, 442, 808, 1127, 1150, 928, 968, 888, 1560, 1280, 1254, 912, 874, 1465, 936, 1008, 1053, 1056, 1442, 1056, 1244, 1144, 1721, 922, 1048, 1657, 1411, 1216, 1154, 1560, 948, 1040, 1008, 925, 1360, 1040, 925, 928, 1647, 924, 1000, 893, 1216, 1308, 735, 882, 845, 968, 751, 691, 1035, 888, 952, 1040, 672, 1082, 1168, 988, 1238, 864, 1134, 1040, 1170, 1242, 1377, 1800, 925, 1020, 876, 864, 936, 960, 768, 866, 1022, 936, 967, 1047, 1072, 680, 679, 1131, 761, 960, 1156, 866, 968, 909, 914, 842, 616, 1422, 991, 1178, 687, 1312, 1260, 1149, 1559, 1576, 912, 968, 1382, 916, 910, 1167, 915, 728, 608, 869, 884, 861, 899, 1014, 903, 939, 854, 959, 986, 1100, 1060, 752, 960, 698, 672, 1664, 933, 969, 1226, 1108, 1497, 773, 780, 976, 1138, 838, 581, 1196, 854, 964, 840, 866, 1262, 1636, 756, 778, 999, 1452, 1005, 1029, 1020, 1040, 913, 894, 948, 868, 897, 943, 955, 894, 1285, 912, 1375, 1567, 1416, 798, 1299, 1176, 998, 1824, 1522, 1164, 1325, 1630, 1242, 2422, 2158, 988, 864, 943, 1440, 605, 1038, 1342, 1080, 986, 1340, 1105, 1442, 1122, 1553, 912, 1175, 1029, 1282, 1466, 1651, 2140, 1494, 1316, 1651, 1482, 1274, 728, 1240, 1208, 1546, 1500, 1270, 879, 1314, 1180, 946, 1444, 1079, 976, 1743, 1022, 990, 1200, 646, 882, 990, 1097, 990, 905, 988, 853, 845, 985, 1479, 840, 894, 1025, 1009, 1040, 907, 879, 882, 969, 864, 875, 2000, 1284, 1673, 1459, 992, 860, 1210, 1592, 1531, 1212, 1668, 1220, 848, 1341, 847, 1337, 738, 939, 1422, 1190, 1330, 738, 768, 1214, 936, 1088, 960, 901, 1179, 816, 1044, 1113, 1100, 1125, 1090, 734, 5095, 3138, 1072, 960, 1152, 948, 1195, 774, 740, 894, 796, 768, 864, 948, 1440, 1296, 900, 789, 1422, 759, 981, 567, 851, 912, 686, 918, 694, 661, 954, 979, 1001, 867, 1226, 1370, 1940, 1230, 1096, 760, 1549, 1436, 1839, 960, 2259, 1560, 1488, 529, 1680, 1020, 1696, 2726, 997, 720, 803, 936, 772, 942, 816, 1012, 1077, 910, 640, 1034, 1073, 1001, 1625, 1625, 1299, 912, 1080, 1392, 1409, 1478, 918, 1026, 1501, 1502, 1328, 2279, 1689, 1484, 1571, 1646, 1240, 1187, 888, 1312, 1146, 1922, 1491, 1629, 1146, 1572, 1776, 1824, 1133, 1120, 2034, 936, 1040, 1632, 1622, 1060, 1142, 546, 530, 546, 546, 630, 546, 1062, 1008, 1356, 1676, 716, 796, 768, 1608, 845, 1178, 816, 816, 974, 887, 1293, 1024, 1797, 1390, 1851, 813, 993, 781, 691, 821, 802, 1392, 1670, 1074, 901, 1700, 887, 2079, 1169, 697, 955, 1204, 1064, 1742, 1414, 1528, 1102, 1992, 1264, 1850, 1390, 1426, 1547, 1056, 1714, 1826, 2000, 1621, 1377, 1468, 790, 1102, 1872, 945, 1686, 1392, 811, 1083, 960, 1109, 1074, 832, 1309, 1103, 1096, 864, 858, 874, 1419, 525, 765, 483, 494, 672, 672, 483, 525, 483, 1069, 1387, 900, 1055, 855, 1980, 1738, 1249, 1618, 1740, 1868, 1850, 1158, 1132, 1117, 1038, 1625, 1182, 1054, 1544, 1944, 1120, 1792, 1780, 1792, 1848, 1058, 1426, 1364, 1565, 1368, 1368, 1686, 1666, 1405, 1316, 728, 738, 664, 879, 1326, 728, 1052, 738, 1364, 1557, 1456, 1511, 1414, 1548, 1248, 1142, 1506, 1567, 1500, 734, 807, 707, 848, 1454, 807, 953, 1008, 956, 959, 1082, 1005, 1407, 1079, 1205, 1831, 1540, 1086, 1165, 1358, 1933, 1305, 1203, 1565, 1116, 2097, 1660, 1616, 1504, 1278, 2036, 1489, 1095, 756, 858, 778, 1262, 1266, 1301, 1142, 1400, 1131, 1141, 1158, 891, 831, 941, 810, 844, 1398, 1217, 636, 1056, 965, 988, 1728, 1286, 1211, 1212, 984, 909, 925, 1024, 935, 912, 1236, 941, 2151, 1301, 1520, 1352, 1166, 1624, 1143, 1247, 520, 520, 520, 520, 768, 713, 673, 530, 854, 1568, 1494, 1208, 1235, 1036, 1226, 1226, 1842, 1193, 1222, 2156, 708, 1512, 1012, 1334, 1164, 980, 1051, 884, 976, 1052, 898, 1051, 1141, 1200, 1097, 1050, 864, 1712, 1565, 1251, 1488, 720, 1095, 1053, 1248, 816, 1008, 1043, 774, 869, 747, 936, 1433, 1624, 1216, 2136, 958, 1024, 936, 1584, 1246, 1235, 1216, 1128, 1360, 1008, 1190, 1144, 1364, 1383, 1336, 1370, 1092, 1124, 1236, 943, 1050, 1375, 1008, 1575, 1145, 1005, 1056, 884, 2039, 1384, 1392, 900, 865, 713, 833, 1073, 715, 448, 1130, 774, 981, 694, 1766, 1096, 1324, 1086, 1146, 1085, 1207, 912, 1194, 864, 816, 1773, 1472, 1900, 1600, 910, 720, 1040, 1040, 1040, 1040, 1040, 1040, 1556, 1150, 1150, 660, 999, 1045, 864, 1025, 1007, 810, 1226, 1147, 940, 832, 848, 502, 813, 1084, 1032, 844, 1089, 864, 734, 714, 960, 816, 492, 885, 1163, 840, 908, 1095, 880, 1226, 889, 815, 684, 998, 1200, 1518, 624, 960, 1020, 788, 972, 1017, 1004, 793, 816, 896, 728, 1015, 672, 1042, 741, 1103, 616, 1048, 816, 1611, 960, 1001, 693, 834, 665, 819, 780, 803, 1077, 520, 984, 1081, 1921, 1640, 1352, 1032, 879, 1073, 1382, 1296, 1068, 1064, 1320, 934, 1059, 1159, 672, 1458, 1721, 1040, 1967, 1949, 1252, 1803, 1779, 872, 960, 1437, 1830, 1000, 1304, 810, 894, 880, 1453, 1350, 799, 1112, 1575, 1337, 1836, 1560, 1488, 1057, 1216, 1068, 1148, 1124, 1002, 1298, 1313, 1065, 1440, 1308, 1208, 1220, 1294, 1614, 1498, 1391, 1846, 1734, 1590, 945, 1614, 784, 927, 1582, 988, 1533, 1388, 914, 1100, 795, 1425, 990, 1525, 1494, 1588, 856, 951, 920, 936, 1541, 954, 686, 1282, 971, 864, 894, 864, 630, 1091, 878, 840, 1358, 1787, 872, 1654, 1090, 1065, 1070, 950, 1108, 1836, 848, 848, 1079, 1390, 847, 1700, 851, 784, 1552, 860, 1336, 750, 728, 1310, 760, 1466, 1220, 1012, 980, 1176, 806, 1164, 1072, 1072, 1072, 970, 970, 970, 970, 976, 624, 846, 1093, 658, 949, 864, 1482, 686, 964, 954, 498, 1055, 948, 1192, 1058, 816, 743, 892, 755, 1008, 818, 901, 992, 824, 961, 940, 792, 1125, 1180, 1020, 1122, 1170, 959, 1104, 1811, 1647, 1278, 1336, 1844, 976, 861, 672, 641, 951, 967, 897, 729, 480, 1060, 576, 1778, 1646, 1625, 1664, 1491, 1004, 1210, 1959, 1238, 1295, 1650, 1707, 1137, 1339, 1298, 1403, 1800, 1960, 2028, 1838, 1600, 1368, 1216, 1337, 1140, 616, 925, 1291, 874, 1652, 630, 546, 1360, 630, 546, 546, 546, 546, 1728, 1728, 1126, 1224, 1003, 902, 970, 1389, 996], \"xaxis\": \"x\", \"y\": [215000, 105000, 172000, 244000, 189900, 195500, 213500, 191500, 236500, 189000, 175900, 185000, 180400, 171500, 212000, 538000, 164000, 394432, 141000, 210000, 190000, 170000, 216000, 149000, 149900, 142000, 126000, 115000, 184000, 96000, 105500, 88000, 127500, 149900, 120000, 146000, 376162, 306000, 395192, 290941, 220000, 275000, 259000, 214000, 611657, 224000, 500000, 320000, 319900, 205000, 175500, 199500, 160000, 192000, 184500, 185088, 180000, 222500, 333168, 355000, 260400, 325000, 290000, 221000, 410000, 221500, 204500, 215200, 262500, 254900, 271500, 233000, 181000, 205000, 143000, 189000, 99500, 125000, 194500, 152000, 171000, 67500, 112000, 148000, 138500, 122000, 133000, 127000, 169000, 190000, 362500, 285000, 260000, 190000, 155000, 151000, 149500, 152000, 222000, 177500, 177000, 155000, 147110, 267916, 254000, 155000, 206000, 130500, 230000, 218500, 243500, 205000, 212500, 196500, 197500, 171000, 142250, 143000, 128950, 159000, 178900, 136300, 180500, 137500, 84900, 142125, 197600, 172500, 116500, 76500, 128000, 153000, 132000, 178000, 154300, 180000, 190000, 135000, 214000, 136000, 165500, 145000, 148000, 142000, 167500, 108538, 159500, 108000, 135000, 122500, 119000, 109000, 105000, 107500, 144900, 129000, 97500, 144000, 162000, 242000, 132000, 154000, 166000, 134800, 160000, 148000, 192000, 155000, 80400, 96500, 109500, 115000, 143000, 107400, 80000, 119000, 130000, 119000, 129000, 100000, 12789, 105900, 150000, 139000, 240000, 76500, 149700, 125500, 122500, 140750, 128500, 209500, 87000, 134000, 128000, 132000, 139900, 123900, 138400, 109500, 140000, 149500, 159900, 122000, 110000, 55000, 140000, 244400, 173000, 107500, 100000, 95000, 93369, 114900, 94000, 136000, 136500, 131500, 121500, 125000, 154000, 137900, 158000, 137250, 160250, 163000, 158900, 328000, 270000, 85000, 128000, 260000, 230000, 124000, 83000, 144500, 129000, 127000, 128000, 186000, 308030, 114000, 84900, 178000, 270000, 218000, 236000, 147000, 245350, 206000, 198900, 187000, 320000, 138500, 155000, 159000, 191000, 200500, 150000, 161750, 128200, 127000, 318000, 272000, 237000, 240000, 224900, 143750, 143000, 232000, 213000, 185500, 84900, 155891, 100000, 144000, 64000, 125200, 107000, 90000, 140000, 113000, 80000, 144500, 104000, 128000, 58500, 127000, 126000, 160000, 100000, 169000, 257500, 215000, 266500, 335000, 203135, 185000, 162500, 289000, 125500, 82000, 110000, 68400, 102776, 55993, 50138, 246000, 254900, 190000, 201000, 169900, 170000, 160000, 220000, 179781, 174000, 269500, 214900, 202900, 378500, 169000, 173500, 139000, 166500, 83500, 119500, 85000, 76000, 75500, 88250, 85500, 130000, 157900, 149900, 159000, 136000, 161000, 285000, 231000, 124500, 157000, 345000, 189500, 270000, 189000, 377500, 168500, 375000, 278000, 240000, 239500, 177500, 185000, 191000, 178000, 185000, 181316, 166000, 178000, 174000, 173000, 225000, 180500, 187500, 501837, 372500, 260000, 185000, 260000, 181000, 82500, 215000, 154000, 200000, 249000, 187500, 184000, 278000, 157000, 152000, 197500, 240900, 263435, 220000, 235000, 213000, 167900, 158000, 165000, 158000, 136000, 148500, 156000, 128000, 143000, 76500, 120500, 124500, 97000, 130000, 111000, 125000, 112000, 97000, 118000, 119500, 143750, 146000, 148500, 123000, 147000, 137900, 147000, 148500, 138000, 128500, 100000, 148800, 337500, 462000, 485000, 555000, 325000, 256300, 253293, 398800, 335000, 404000, 402861, 451950, 610000, 582933, 360000, 296000, 409900, 255500, 335000, 274900, 300000, 324000, 350000, 280000, 284000, 269500, 233170, 386250, 445000, 290000, 255900, 213000, 196000, 184500, 212500, 230000, 552000, 382500, 320000, 248500, 286500, 254000, 173000, 173000, 184000, 167800, 174000, 174000, 174000, 175900, 192500, 181000, 180000, 160200, 188500, 200000, 170000, 189500, 184100, 195500, 192000, 178000, 207500, 236000, 244000, 167000, 179000, 190000, 156000, 245000, 181000, 214000, 168000, 337000, 403000, 327000, 340000, 336000, 265000, 315000, 260000, 260000, 263550, 402000, 248000, 244600, 275000, 257500, 287090, 275500, 245000, 253000, 468000, 252678, 210000, 208300, 229456, 229800, 250000, 370878, 238500, 310000, 270000, 252000, 241000, 264500, 291000, 263000, 185000, 234500, 209000, 159000, 152000, 143500, 193000, 203000, 159000, 142000, 153000, 224243, 220000, 257000, 189000, 171500, 120000, 145000, 184000, 162000, 160000, 82000, 76000, 110000, 135000, 141000, 122000, 124100, 129000, 131400, 62383, 123000, 275000, 235000, 280750, 164500, 173733, 222000, 195000, 172500, 180000, 156000, 172500, 318750, 211500, 241600, 180500, 150000, 154000, 185000, 185750, 200000, 206000, 162000, 256900, 197900, 163000, 113000, 230000, 167900, 213250, 227000, 130000, 143000, 117500, 168500, 172500, 161500, 141500, 118000, 127500, 140000, 177625, 110000, 167000, 153000, 145100, 154000, 177500, 158000, 124500, 174500, 122000, 82500, 110000, 149500, 175000, 167000, 128900, 140000, 147000, 124000, 187500, 159000, 256000, 205000, 193500, 110000, 104900, 150000, 156500, 176000, 149500, 139000, 155000, 120000, 153000, 144000, 176000, 153000, 135000, 131000, 123000, 126000, 115000, 164900, 113000, 145500, 102900, 95000, 152500, 129900, 132000, 99900, 135000, 149000, 114000, 109500, 125000, 142900, 156500, 59000, 105000, 106000, 78500, 190000, 154000, 163000, 200000, 143500, 135000, 153000, 157500, 113500, 133000, 92900, 128500, 90000, 138000, 128000, 139000, 118900, 138000, 132500, 133500, 135000, 144750, 145000, 127000, 109500, 115000, 110000, 128900, 103500, 66500, 130000, 129000, 150000, 107500, 94550, 124500, 135000, 103000, 93000, 129500, 93000, 80000, 45000, 37900, 91300, 99500, 113000, 87500, 110000, 106000, 265979, 160000, 119000, 168000, 58500, 143000, 85000, 124900, 119000, 146500, 34900, 44000, 223500, 149000, 205000, 137000, 121000, 128000, 134900, 117000, 132500, 93000, 119000, 100000, 141500, 133000, 60000, 105000, 115000, 150000, 126500, 214500, 167500, 155000, 155000, 179900, 104000, 62500, 149000, 103000, 123000, 97500, 135000, 70000, 116000, 88750, 179000, 179000, 159900, 61000, 103600, 63000, 175000, 139000, 172500, 113500, 130000, 149900, 134900, 137000, 139000, 165000, 148000, 165000, 63900, 161500, 143000, 135000, 82500, 190000, 139600, 122000, 127500, 121500, 60000, 154400, 113000, 125000, 84000, 139500, 131000, 105000, 108000, 162000, 156500, 316600, 271900, 213000, 239900, 239500, 131000, 118964, 153337, 147983, 118858, 118858, 142953, 148325, 113722, 269500, 269500, 269500, 323262, 297000, 295493, 332000, 239900, 212000, 272500, 239000, 220000, 200000, 221800, 194500, 237000, 173000, 275000, 233500, 185000, 152000, 143000, 231500, 212000, 207000, 145000, 138000, 197900, 204000, 192000, 200000, 195000, 227000, 230000, 187100, 203000, 201000, 124000, 140000, 134900, 150500, 136500, 143500, 133500, 123000, 133900, 133000, 250000, 254750, 236500, 261500, 313000, 211000, 220000, 203000, 279500, 210000, 219500, 191000, 178000, 213000, 144000, 140000, 293200, 190000, 190000, 173500, 170000, 108000, 167000, 100000, 198500, 159500, 127000, 125000, 320000, 145500, 118000, 85000, 120000, 98000, 99900, 82000, 119900, 103500, 112000, 110000, 122000, 117000, 160000, 159434, 60000, 139500, 197000, 105000, 135000, 147500, 137450, 155000, 177000, 145000, 137000, 234000, 205000, 177500, 160000, 155000, 163500, 154900, 205000, 144800, 174500, 193000, 158000, 158500, 224000, 115000, 137000, 121000, 124000, 208000, 315000, 222000, 147000, 123000, 78000, 85000, 75000, 230000, 57625, 251000, 239686, 240000, 215000, 156450, 173000, 126000, 173000, 152000, 137500, 375000, 315500, 224500, 410000, 316500, 201000, 175000, 204000, 213500, 220000, 170000, 315000, 425000, 139500, 115000, 162000, 165000, 91000, 130000, 86000, 160000, 80000, 97000, 88000, 131900, 131250, 165500, 112000, 149000, 143000, 130000, 196000, 173000, 176500, 237500, 206900, 187500, 165000, 195500, 192000, 173000, 177900, 175000, 286000, 247900, 180000, 180000, 181000, 183000, 188000, 194500, 185000, 189000, 188500, 355000, 325000, 387000, 115000, 334000, 133000, 215000, 226500, 175500, 181900, 235000, 220000, 272000, 161000, 175000, 185000, 146900, 292500, 180000, 159900, 205000, 157000, 306000, 133000, 151000, 111900, 123000, 111250, 181000, 103400, 100000, 100500, 106000, 85400, 89500, 111750, 140000, 143000, 148500, 110000, 394617, 426000, 385000, 446261, 317500, 372402, 417500, 383000, 390000, 460000, 379000, 250000, 316000, 615000, 412500, 284000, 284000, 421250, 370000, 336860, 367294, 192000, 274000, 266000, 370967, 234250, 219500, 155000, 154000, 207000, 195000, 219990, 191000, 159895, 187687, 179000, 193000, 190000, 176000, 188000, 213000, 217300, 186500, 226750, 184000, 225000, 185900, 284500, 315000, 250000, 291000, 350000, 279500, 290000, 350000, 341000, 287500, 271000, 301500, 235128, 214000, 232000, 240000, 264132, 245000, 227680, 257000, 297900, 212700, 250580, 226700, 250000, 250000, 339750, 256000, 230348, 207500, 141000, 188000, 192500, 146000, 159000, 155000, 173000, 170000, 182000, 163000, 193500, 189000, 190500, 175000, 179200, 187000, 193000, 153900, 128000, 144000, 135000, 115000, 119916, 142000, 192000, 140000, 290000, 372500, 196000, 171900, 178000, 165000, 146000, 146000, 179400, 172900, 300000, 285000, 290000, 305000, 328900, 160000, 170000, 223000, 170000, 200000, 345000, 245500, 217500, 324000, 162500, 150000, 290000, 174000, 183000, 150000, 145000, 215000, 140500, 240000, 141000, 147000, 135000, 145000, 142600, 135000, 170000, 299800, 185000, 173000, 178400, 176000, 98000, 109008, 135750, 155000, 180500, 174900, 140000, 145000, 179900, 168500, 140000, 145500, 142000, 141000, 153000, 72500, 52000, 118000, 87000, 141500, 119000, 141500, 165500, 112900, 201800, 163000, 139950, 174000, 165000, 227000, 135000, 124000, 140000, 136500, 185000, 163000, 166800, 139000, 166000, 136000, 133000, 116000, 137500, 130000, 180000, 139000, 110000, 100000, 118500, 146000, 89900, 114000, 140000, 86900, 139000, 106250, 171000, 139000, 186000, 157000, 148000, 242000, 116000, 94000, 98300, 127000, 159000, 125900, 155000, 138000, 112500, 105500, 127500, 130000, 150000, 109500, 140000, 167900, 136870, 143000, 73000, 157500, 122600, 111000, 256000, 64000, 139500, 118000, 200000, 119164, 122250, 120000, 155000, 78000, 95000, 115000, 147000, 140000, 46500, 112500, 107900, 65000, 295000, 139500, 153900, 132000, 98000, 114000, 130000, 129500, 129400, 161000, 163000, 128000, 122000, 116900, 325000, 55000, 184000, 110000, 131500, 97000, 115500, 138000, 108000, 79500, 153000, 109500, 124000, 106900, 164900, 119000, 120000, 157000, 105000, 113000, 115000, 123000, 81300, 162900, 150000, 123500, 129900, 128000, 68500, 127000, 207000, 184000, 162500, 145000, 130000, 160000, 161000, 127500, 93850, 136000, 141000, 120000, 127500, 127000, 89500, 125000, 79900, 85000, 82375, 135000, 124000, 134000, 135000, 134432, 127500, 148000, 129500, 157500, 109900, 145000, 130000, 153000, 120000, 152000, 108959, 95541, 80000, 149350, 144900, 185000, 165000, 235000, 140000, 108000, 145000, 152400, 144000, 173000, 192000, 245000, 241500, 256000, 177000, 125600, 155000, 240000, 260000, 185000, 235000, 159900, 99600, 134500, 119000, 107500, 125000, 79000, 95000, 262280, 260000, 226500, 225000, 229000, 177439, 248500, 475000, 395039, 228000, 225000, 195000, 200000, 155000, 144000, 145000, 226001, 215700, 207500, 193000, 188000, 191000, 221000, 231500, 235000, 223500, 130250, 149900, 158000, 147000, 143195, 163000, 110000, 127000, 124900, 230000, 235000, 230500, 230000, 222500, 287000, 274000, 300000, 255900, 224900, 240000, 183000, 207000, 210000, 136500, 145000, 208900, 185000, 214000, 208500, 186500, 210000, 185900, 179900, 218836, 193000, 189000, 149300, 141000, 149000, 144500, 85000, 145900, 123000, 147500, 165000, 135000, 108000, 137500, 165400, 147000, 160500, 176000, 160000, 148000, 82000, 82000, 118000, 82500, 91900, 120000, 96000, 99000, 130500, 135000, 135500, 100000, 108000, 98000, 67000, 135900, 140000, 179500, 136500, 168000, 130000, 189000, 161900, 145000, 191000, 177000, 147500, 91000, 231000, 115000, 138000, 149000, 188700, 198000, 110000, 104000, 257076, 381000, 311500, 263400, 236500, 224000, 116500, 151000, 126000, 120000, 55000, 120500, 120500, 119000, 126000, 99500, 165500, 13100, 89000, 40000, 80900, 81000, 65000, 392500, 294464, 250000, 275000, 300000, 271000, 213000, 171000, 171500, 100000, 228500, 228950, 241500, 287000, 294000, 293077, 264966, 172500, 218689, 150000, 184000, 180000, 175000, 232500, 195000, 305000, 298751, 370000, 209200, 206300, 146000, 160500, 173000, 124000, 115000, 129500, 105000, 94900, 152500, 98000, 81000, 113000, 128500, 119500, 130500, 138000, 134500, 160000, 137500, 172000, 103000, 167300, 167000, 244000, 268000, 225000, 168000, 177000, 169000, 161500, 251000, 160000, 180000, 178750, 176000, 204000, 160000, 160000, 163900, 168000, 154204, 170000, 207500, 182000, 212000, 377426, 349265, 591587, 155000, 319900, 392000, 441929, 455000, 182900, 174000, 178000, 176000, 213000, 192000, 190000, 195000, 148000, 151500, 197000, 192350, 152000, 170000, 175000, 175000, 197900, 174000, 178900, 139000, 143250, 184000, 155000, 133000, 119500, 123000, 110000, 128000, 120500, 133000, 155000, 177000, 113500, 113000, 113700, 106000, 122500, 128000, 155000, 142500, 129250, 356000, 314813, 318000, 322400, 318000, 345474, 415298, 492000, 338931, 450000, 280000, 479069, 395000, 380000, 250000, 440000, 418000, 500067, 260116, 317000, 319500, 325624, 372000, 342000, 354000, 350000, 285000, 281500, 245700, 232698, 250000, 194700, 204000, 200000, 207000, 209500, 209500, 202500, 280000, 277500, 318061, 221370, 200000, 176000, 178900, 168165, 171925, 198444, 203000, 179540, 176485, 181134, 156932, 166000, 177594, 173500, 172500, 194201, 226500, 185485, 259000, 188500, 175000, 215000, 206580, 183500, 211000, 181000, 219500, 175000, 170000, 162000, 187000, 185000, 745000, 384500, 248000, 466500, 410000, 322500, 252000, 755000, 269790, 315750, 290000, 290000, 430000, 263000, 330000, 213133, 260261, 320000, 282922, 215000, 419005, 255000, 147000, 311872, 248328, 227000, 260000, 225000, 249000, 307000, 250000, 221300, 208900, 210400, 255000, 212109, 270000, 303477, 249700, 227875, 261329, 253000, 265000, 340000, 146000, 147000, 149000, 181000, 201000, 191750, 179000, 215000, 179200, 128000, 144000, 144000, 120750, 132500, 132000, 132500, 129000, 143900, 145000, 128500, 125500, 300000, 294000, 129000, 171000, 147000, 302000, 285000, 214000, 166000, 193800, 208900, 194000, 164700, 176500, 176000, 168500, 177000, 177000, 148800, 174000, 239000, 204000, 301000, 312500, 279700, 255000, 194000, 218000, 213750, 187000, 181500, 373000, 190000, 226000, 143450, 240050, 162500, 164000, 185000, 188500, 255000, 136905, 158500, 175500, 127000, 127000, 143000, 156000, 144000, 119000, 103000, 139900, 151500, 126500, 145000, 120000, 124000, 106500, 140500, 137500, 117600, 163500, 161000, 158000, 224500, 147000, 200000, 181900, 150750, 101800, 124000, 138500, 39300, 64500, 64000, 112000, 165000, 144000, 137000, 105000, 146500, 126000, 175000, 158500, 114500, 144000, 129000, 141000, 131000, 142100, 139000, 157900, 139400, 150000, 120000, 174850, 116000, 135000, 163500, 130000, 129500, 142000, 128600, 125000, 136000, 134500, 127000, 130000, 115000, 116900, 132000, 153000, 112500, 138000, 135000, 156000, 301600, 109000, 103200, 128500, 64500, 148000, 86000, 172000, 120000, 128500, 135000, 122900, 119200, 143000, 119000, 102000, 129000, 135000, 152000, 140000, 152000, 156500, 141000, 99000, 187000, 169500, 125500, 130000, 103000, 132000, 127500, 89500, 140000, 99900, 100000, 130000, 135000, 120000, 89471, 85000, 108500, 137000, 110500, 100000, 184900, 145000, 125000, 114000, 90000, 144100, 117500, 124500, 185000, 133900, 152000, 153500, 159500, 87000, 104500, 110000, 136500, 128250, 144000, 210000, 135000, 128000, 131000, 113000, 126000, 132000, 131750, 132500, 137500, 132000, 127500, 102000, 200000, 180500, 165000, 90000, 153575, 140000, 136000, 113000, 117000, 169500, 139400, 202500, 127000, 141000, 212300, 161000, 99500, 101000, 109900, 128500, 122000, 87000, 50000, 219000, 200500, 126000, 108500, 130000, 158450, 115400, 118500, 165000, 123000, 129000, 125000, 108000, 119900, 115000, 134500, 127000, 129000, 143500, 129000, 187000, 158000, 112000, 165250, 150000, 137000, 89500, 302000, 182000, 211000, 216000, 130000, 109900, 255000, 243000, 154000, 118000, 80000, 150000, 86000, 130000, 125000, 136500, 96000, 120000, 228500, 179900, 225000, 301000, 238000, 228500, 220000, 383970, 424870, 250000, 360000, 279500, 200141, 246500, 276000, 203000, 155835, 194000, 195400, 217000, 212999, 175900, 191000, 176432, 277000, 207000, 277000, 240000, 187500, 279000, 139500, 126000, 177500, 175000, 211000, 146000, 147900, 123600, 204750, 235500, 217000, 190550, 217500, 226000, 180000, 131000, 153500, 160000, 134900, 130000, 120000, 112500, 122000, 127000, 117000, 305900, 228500, 270000, 192000, 213000, 200000, 267000, 228000, 275000, 211000, 285000, 240000, 131500, 246900, 219500, 185000, 179400, 213500, 179600, 173500, 167840, 168675, 167000, 140000, 118500, 110000, 94750, 122000, 110000, 118500, 133500, 148000, 141000, 155000, 157000, 171500, 183850, 184750, 140000, 131750, 61500, 111000, 98500, 79000, 108500, 110000, 112000, 125000, 79275, 119000, 200000, 150000, 165000, 96500, 136500, 146500, 175000, 148500, 141500, 189950, 135000, 164000, 90350, 139000, 119750, 145000, 145000, 238000, 153500, 239000, 359100, 188000, 220000, 140000, 315000, 259500, 257500, 219500, 217000, 201000, 215000, 123900, 170000, 200000, 198000, 315000, 115000, 141000, 87000, 129850, 100000, 150909, 75200, 118400, 67000, 152000, 68104, 119600, 140000, 124900, 375000, 235000, 183500, 156000, 134000, 215000, 245000, 210000, 148000, 143000, 244000, 330000, 170000, 257000, 231713, 265900, 239000, 248900, 174000, 187500, 204000, 180500, 187500, 282000, 178000, 270000, 279900, 186700, 283463, 392000, 281213, 147000, 130000, 140000, 132250, 143000, 168000, 129900, 134000, 85500, 106500, 93900, 75000, 84500, 75190, 146800, 153500, 188000, 196000, 157000, 138000, 129500, 80000, 129500, 135000, 124500, 139000, 93500, 124500, 149900, 157500, 169000, 252000, 192100, 183500, 222000, 170000, 187500, 202000, 185000, 320000, 240000, 250000, 239900, 309000, 274725, 270000, 183500, 165600, 176500, 130000, 239000, 275000, 457347, 545224, 356383, 556581, 361919, 535000, 401179, 438780, 169000, 145000, 318000, 319000, 470000, 202500, 229000, 235000, 190000, 169000, 241500, 188900, 207500, 250000, 179900, 172000, 294323, 184500, 153500, 162900, 181000, 155000, 138800, 116050, 88000, 97500, 190000, 105500, 125500, 83000, 116000, 91500, 118000, 89000, 108000, 94500, 146300, 145000, 123000, 137500, 144000, 315000, 412083, 342643, 252000, 293000, 415000, 326000, 325300, 309000, 300000, 275500, 338500, 345000, 298236, 329900, 360000, 281000, 372397, 378000, 374000, 437154, 275000, 279000, 185850, 282500, 202500, 202665, 332200, 310090, 171750, 169990, 170440, 169985, 179665, 219210, 174190, 172785, 258000, 185101, 210250, 234000, 215000, 246990, 178740, 225000, 167240, 156820, 213490, 264561, 246578, 192140, 183200, 178000, 201490, 230500, 180000, 172400, 215000, 199900, 173000, 287602, 230000, 348000, 286000, 300000, 625000, 405000, 280000, 258000, 350000, 584500, 321000, 290000, 315000, 252000, 423000, 290000, 232000, 199000, 198600, 405749, 232600, 266000, 186500, 200825, 197000, 185000, 176000, 187750, 139500, 186800, 132000, 142500, 158000, 184000, 184900, 187000, 175900, 248500, 172000, 151000, 150000, 107000, 119900, 129500, 125000, 119500, 144000, 151000, 126000, 116000, 133500, 120875, 137000, 124000, 135000, 129200, 260000, 260000, 334000, 310000, 268000, 262000, 176400, 197000, 151000, 147400, 149900, 144152, 166000, 183900, 165000, 139000, 200000, 221000, 270000, 165000, 214000, 188000, 190000, 170000, 385000, 146500, 170000, 262500, 179900, 250000, 165150, 164500, 140000, 135500, 142000, 155000, 157500, 138500, 140000, 124400, 158000, 146000, 190000, 136500, 129900, 145000, 185900, 160000, 167000, 157500, 140000, 150000, 151500, 129800, 137000, 137000, 121600, 85500, 79900, 127000, 161000, 146500, 135000, 137900, 133000, 137000, 121000, 119000, 172000, 98600, 226000, 118000, 235000, 135000, 132500, 143000, 132000, 145250, 162000, 148000, 141000, 153000, 134450, 135960, 156000, 140000, 139500, 155000, 127000, 133500, 125000, 142000, 167000, 159000, 180000, 127000, 112000, 99800, 117000, 108480, 68000, 86900, 120000, 155500, 80000, 105000, 160000, 170000, 160000, 159950, 165000, 159000, 147000, 115000, 159500, 120000, 129900, 183000, 157500, 277500, 207500, 147500, 135000, 109500, 109900, 133700, 81400, 87500, 93500, 119000, 141000, 146000, 155000, 134500, 120000, 105000, 124000, 169000, 107000, 135000, 111500, 156500, 178000, 139900, 105000, 110000, 111500, 108000, 111500, 124000, 105000, 116000, 96900, 135500, 139000, 61500, 120000, 126175, 64000, 137000, 87000, 163000, 155000, 79000, 144000, 114504, 157000, 125000, 475000, 93500, 125000, 64500, 100000, 140200, 202500, 159000, 119900, 114500, 115000, 75000, 88000, 80500, 149000, 110000, 110500, 89000, 113000, 109000, 220000, 129000, 117000, 52500, 107000, 116500, 72000, 119500, 125500, 91000, 84500, 90000, 137500, 150000, 131000, 130000, 125000, 80000, 157000, 148000, 90000, 154500, 153600, 164500, 132000, 142500, 158000, 149500, 165000, 180000, 160500, 156500, 157000, 172500, 155000, 170000, 105000, 145000, 168000, 278000, 164000, 225000, 130000, 142500, 148400, 190000, 146000, 128000, 225000, 274970, 235000, 415000, 182000, 135000, 137000, 136900, 149900, 123500, 93000, 91500, 180000, 209000, 215000, 224500, 229800, 183600, 194000, 193879, 221500, 204900, 239799, 233555, 260000, 294900, 209700, 225000, 181000, 220000, 190000, 180000, 280000, 158900, 148000, 145000, 187000, 193000, 156000, 235000, 217000, 214000, 196000, 217000, 200000, 192500, 205000, 132500, 157500, 174000, 128500, 128500, 149900, 119900, 137000, 255000, 222000, 214000, 220000, 275000, 197000, 230000, 268500, 210900, 227000, 237000, 274300, 216837, 133000, 155900, 233230, 207000, 195000, 200000, 203160, 195800, 212900, 196500, 198000, 173900, 163990, 164990, 98000, 149900, 102000, 127500, 127500, 119900, 196500, 229000, 145000, 140000, 142500, 134000, 130000, 130000, 137500, 130000, 97900, 92000, 107000, 81000, 104900, 115000, 125000, 116000, 83000, 118500, 35000, 121000, 160000, 140000, 137000, 128000, 160000, 138887, 149000, 102000, 167000, 200100, 131000, 112000, 140000, 195000, 230000, 194000, 137500, 250000, 218000, 239000, 199500, 210000, 230000, 217500, 257000, 157000, 223000, 102000, 145400, 72000, 85000, 106500, 139000, 108000, 51689, 35311, 115000, 78000, 375000, 300000, 242500, 145000, 209000, 135000, 148000, 171000, 335000, 230000, 250764, 228000, 176000, 180000, 250000, 202000, 312500, 320000, 369900, 359900, 81500, 215000, 164000, 153500, 84500, 104500, 127000, 151400, 126500, 146500, 73000, 79400, 140000, 92000, 87550, 79500, 90500, 71000, 150900, 188000, 160000, 131000, 142500, 131000, 132000, 170000, 188000], \"yaxis\": \"y\"}, {\"hoverlabel\": {\"namelength\": 0}, \"hovertemplate\": \"<b>OLS trendline</b><br>SalePrice = 128.539255 * 1st_Flr_SF + 31502.168391<br>R<sup>2</sup>=0.391278<br><br>1st_Flr_SF=%{x}<br>SalePrice=%{y} <b>(trend)</b>\", \"legendgroup\": \"\", \"marker\": {\"color\": \"#636efa\", \"symbol\": \"circle\"}, \"mode\": \"lines\", \"name\": \"\", \"showlegend\": false, \"type\": \"scattergl\", \"x\": [334, 372, 407, 432, 438, 442, 448, 453, 480, 483, 483, 483, 483, 483, 483, 483, 483, 483, 483, 483, 483, 483, 492, 494, 495, 498, 502, 516, 516, 520, 520, 520, 520, 520, 520, 525, 525, 525, 525, 525, 526, 526, 526, 529, 530, 530, 530, 536, 540, 546, 546, 546, 546, 546, 546, 546, 546, 546, 546, 546, 546, 546, 546, 546, 548, 551, 561, 561, 561, 565, 567, 572, 572, 572, 575, 576, 576, 581, 585, 596, 599, 600, 600, 600, 600, 600, 600, 600, 605, 608, 608, 608, 608, 612, 612, 612, 616, 616, 616, 616, 616, 616, 616, 617, 621, 624, 624, 624, 624, 624, 624, 624, 625, 625, 626, 628, 628, 630, 630, 630, 630, 630, 630, 630, 630, 630, 630, 630, 630, 630, 636, 640, 640, 641, 646, 647, 649, 658, 660, 660, 660, 661, 662, 663, 664, 664, 665, 666, 671, 672, 672, 672, 672, 672, 672, 672, 672, 672, 672, 672, 672, 672, 672, 672, 672, 672, 673, 676, 676, 676, 679, 680, 680, 680, 680, 682, 684, 684, 684, 684, 684, 684, 686, 686, 686, 687, 687, 689, 689, 691, 691, 691, 693, 694, 694, 694, 696, 697, 697, 698, 698, 698, 698, 698, 698, 698, 698, 702, 703, 703, 704, 704, 707, 707, 707, 708, 708, 709, 712, 713, 713, 713, 714, 715, 716, 716, 716, 717, 720, 720, 720, 720, 720, 720, 720, 720, 720, 720, 723, 725, 725, 725, 725, 725, 725, 727, 728, 728, 728, 728, 728, 728, 728, 728, 728, 728, 728, 728, 729, 729, 729, 729, 730, 732, 732, 733, 734, 734, 734, 735, 735, 736, 736, 738, 738, 738, 738, 738, 738, 740, 741, 741, 741, 742, 742, 742, 743, 744, 744, 744, 744, 744, 745, 747, 747, 747, 750, 751, 751, 751, 752, 752, 752, 753, 754, 754, 754, 754, 755, 755, 756, 756, 756, 756, 756, 756, 756, 757, 757, 757, 757, 759, 759, 760, 760, 760, 760, 761, 763, 764, 764, 764, 764, 764, 764, 764, 764, 765, 765, 765, 765, 765, 767, 768, 768, 768, 768, 768, 768, 768, 768, 768, 768, 768, 768, 769, 769, 769, 770, 772, 773, 773, 773, 774, 774, 774, 774, 774, 774, 774, 774, 778, 778, 778, 779, 779, 780, 780, 780, 780, 780, 780, 780, 780, 780, 781, 782, 783, 784, 784, 784, 784, 784, 784, 786, 786, 788, 788, 788, 788, 789, 789, 789, 790, 790, 792, 792, 792, 792, 792, 792, 793, 793, 794, 795, 796, 796, 796, 796, 796, 796, 796, 796, 797, 798, 798, 798, 798, 798, 798, 798, 799, 799, 800, 800, 801, 801, 802, 802, 803, 803, 804, 804, 804, 804, 804, 804, 804, 806, 806, 806, 807, 807, 808, 808, 808, 808, 808, 808, 810, 810, 810, 810, 810, 810, 810, 811, 811, 812, 812, 813, 813, 813, 814, 815, 816, 816, 816, 816, 816, 816, 816, 816, 816, 816, 816, 816, 816, 816, 816, 816, 816, 816, 818, 818, 819, 819, 819, 819, 820, 820, 821, 822, 824, 824, 825, 825, 825, 825, 825, 825, 825, 827, 827, 827, 827, 828, 829, 830, 831, 831, 831, 831, 832, 832, 832, 832, 832, 832, 832, 832, 832, 832, 832, 832, 832, 833, 833, 833, 833, 833, 833, 834, 835, 835, 835, 836, 836, 838, 838, 840, 840, 840, 840, 840, 840, 840, 840, 840, 840, 840, 841, 841, 842, 844, 844, 844, 845, 845, 845, 845, 845, 845, 845, 846, 846, 846, 846, 847, 847, 847, 847, 847, 847, 847, 848, 848, 848, 848, 848, 848, 848, 848, 848, 848, 848, 848, 848, 848, 848, 848, 848, 848, 849, 851, 851, 851, 851, 853, 854, 854, 854, 854, 854, 855, 855, 855, 855, 855, 855, 855, 855, 855, 856, 856, 856, 858, 858, 858, 858, 858, 858, 859, 860, 860, 860, 860, 861, 861, 861, 861, 861, 862, 864, 864, 864, 864, 864, 864, 864, 864, 864, 864, 864, 864, 864, 864, 864, 864, 864, 864, 864, 864, 864, 864, 864, 864, 864, 864, 864, 864, 864, 864, 864, 864, 864, 864, 864, 864, 864, 864, 864, 864, 864, 864, 864, 864, 864, 864, 865, 866, 866, 866, 866, 866, 866, 867, 868, 868, 868, 868, 869, 869, 869, 871, 872, 872, 872, 872, 872, 872, 873, 874, 874, 874, 874, 874, 874, 874, 875, 875, 876, 876, 876, 876, 876, 877, 878, 879, 879, 879, 879, 880, 880, 880, 880, 882, 882, 882, 882, 882, 882, 882, 882, 882, 883, 884, 884, 884, 884, 884, 884, 884, 884, 884, 885, 885, 886, 886, 886, 887, 887, 888, 888, 888, 888, 888, 889, 889, 890, 891, 892, 892, 892, 892, 892, 892, 892, 892, 893, 894, 894, 894, 894, 894, 894, 894, 894, 894, 894, 894, 894, 894, 894, 894, 894, 894, 895, 896, 896, 896, 896, 896, 896, 897, 897, 898, 899, 899, 899, 900, 900, 900, 900, 900, 901, 901, 901, 901, 902, 902, 902, 902, 903, 904, 904, 904, 904, 904, 904, 905, 907, 907, 907, 908, 908, 909, 909, 909, 909, 910, 910, 910, 910, 910, 910, 910, 912, 912, 912, 912, 912, 912, 912, 912, 912, 912, 912, 912, 912, 912, 912, 912, 912, 912, 912, 913, 913, 914, 914, 914, 914, 914, 915, 916, 916, 916, 916, 916, 918, 918, 918, 918, 919, 920, 920, 920, 920, 922, 923, 923, 924, 924, 924, 925, 925, 925, 925, 925, 925, 925, 925, 926, 926, 926, 926, 926, 926, 927, 928, 928, 928, 928, 928, 928, 928, 928, 928, 929, 929, 930, 930, 930, 930, 930, 932, 932, 932, 932, 933, 933, 934, 935, 936, 936, 936, 936, 936, 936, 936, 936, 936, 936, 936, 936, 936, 936, 936, 936, 936, 938, 938, 939, 939, 940, 940, 940, 941, 941, 941, 941, 942, 942, 943, 943, 943, 943, 943, 944, 944, 944, 944, 944, 945, 945, 945, 945, 946, 946, 947, 948, 948, 948, 948, 948, 948, 948, 948, 949, 949, 949, 950, 950, 950, 950, 951, 951, 951, 952, 952, 952, 952, 952, 952, 952, 953, 953, 954, 954, 954, 955, 955, 955, 955, 956, 956, 957, 958, 958, 958, 958, 958, 958, 958, 959, 959, 959, 960, 960, 960, 960, 960, 960, 960, 960, 960, 960, 960, 960, 960, 960, 960, 960, 960, 960, 961, 961, 961, 962, 962, 962, 963, 964, 964, 964, 964, 964, 964, 965, 965, 966, 967, 967, 968, 968, 968, 968, 969, 969, 970, 970, 970, 970, 970, 970, 971, 972, 972, 972, 972, 972, 974, 975, 975, 975, 976, 976, 976, 976, 976, 976, 977, 978, 979, 979, 979, 980, 980, 980, 980, 980, 980, 981, 981, 981, 982, 983, 983, 983, 983, 984, 984, 984, 984, 984, 984, 985, 985, 985, 986, 986, 986, 988, 988, 988, 988, 988, 988, 988, 988, 988, 988, 988, 989, 990, 990, 990, 990, 990, 990, 990, 990, 990, 991, 991, 992, 992, 992, 992, 992, 993, 993, 993, 994, 995, 996, 996, 996, 997, 997, 997, 998, 998, 999, 999, 999, 999, 1000, 1000, 1001, 1001, 1001, 1001, 1001, 1002, 1002, 1003, 1004, 1004, 1004, 1004, 1005, 1005, 1005, 1005, 1005, 1006, 1006, 1006, 1007, 1007, 1008, 1008, 1008, 1008, 1008, 1008, 1008, 1008, 1008, 1008, 1008, 1009, 1010, 1012, 1012, 1012, 1012, 1013, 1013, 1014, 1014, 1014, 1014, 1014, 1015, 1016, 1017, 1019, 1020, 1020, 1020, 1020, 1020, 1020, 1021, 1022, 1022, 1022, 1022, 1022, 1022, 1024, 1024, 1024, 1024, 1024, 1025, 1025, 1026, 1026, 1026, 1026, 1026, 1026, 1026, 1027, 1027, 1027, 1028, 1028, 1029, 1029, 1030, 1031, 1032, 1032, 1032, 1032, 1032, 1033, 1034, 1034, 1034, 1034, 1034, 1035, 1035, 1036, 1036, 1036, 1036, 1037, 1037, 1038, 1038, 1039, 1040, 1040, 1040, 1040, 1040, 1040, 1040, 1040, 1040, 1040, 1040, 1040, 1040, 1040, 1040, 1040, 1040, 1040, 1040, 1040, 1040, 1040, 1040, 1040, 1040, 1040, 1040, 1040, 1041, 1041, 1041, 1042, 1042, 1043, 1044, 1044, 1044, 1044, 1044, 1045, 1045, 1047, 1048, 1048, 1048, 1048, 1048, 1049, 1050, 1050, 1050, 1050, 1050, 1050, 1051, 1051, 1051, 1052, 1052, 1052, 1052, 1052, 1052, 1052, 1053, 1053, 1053, 1053, 1053, 1054, 1054, 1054, 1054, 1055, 1055, 1055, 1055, 1055, 1055, 1055, 1055, 1056, 1056, 1056, 1056, 1056, 1056, 1056, 1057, 1057, 1057, 1057, 1057, 1058, 1058, 1058, 1059, 1060, 1060, 1060, 1060, 1060, 1061, 1061, 1062, 1062, 1062, 1063, 1064, 1064, 1064, 1064, 1064, 1065, 1065, 1065, 1067, 1067, 1068, 1068, 1068, 1068, 1069, 1069, 1069, 1070, 1071, 1072, 1072, 1072, 1072, 1072, 1072, 1072, 1072, 1072, 1072, 1072, 1072, 1073, 1073, 1073, 1073, 1073, 1073, 1074, 1074, 1074, 1074, 1075, 1075, 1076, 1077, 1077, 1077, 1078, 1078, 1078, 1079, 1079, 1079, 1079, 1080, 1080, 1080, 1080, 1080, 1080, 1081, 1081, 1082, 1082, 1082, 1082, 1083, 1084, 1084, 1085, 1085, 1086, 1086, 1086, 1086, 1088, 1088, 1088, 1088, 1088, 1088, 1088, 1089, 1089, 1090, 1090, 1090, 1091, 1091, 1091, 1091, 1092, 1092, 1092, 1092, 1092, 1092, 1092, 1093, 1093, 1093, 1093, 1094, 1094, 1094, 1094, 1095, 1095, 1095, 1095, 1096, 1096, 1096, 1096, 1096, 1097, 1097, 1097, 1097, 1098, 1098, 1098, 1099, 1100, 1100, 1100, 1100, 1100, 1101, 1101, 1102, 1102, 1102, 1103, 1103, 1104, 1104, 1104, 1104, 1105, 1105, 1105, 1105, 1105, 1107, 1107, 1108, 1108, 1108, 1108, 1109, 1110, 1112, 1112, 1112, 1112, 1112, 1113, 1113, 1113, 1114, 1114, 1114, 1114, 1114, 1114, 1114, 1116, 1116, 1116, 1117, 1117, 1117, 1117, 1117, 1118, 1118, 1118, 1119, 1120, 1120, 1120, 1120, 1120, 1120, 1121, 1121, 1122, 1122, 1122, 1124, 1124, 1125, 1125, 1125, 1126, 1126, 1126, 1126, 1127, 1127, 1127, 1128, 1128, 1128, 1128, 1128, 1128, 1129, 1130, 1130, 1131, 1131, 1131, 1132, 1132, 1133, 1133, 1133, 1134, 1134, 1134, 1136, 1136, 1136, 1136, 1137, 1137, 1138, 1138, 1138, 1140, 1140, 1140, 1141, 1141, 1141, 1142, 1142, 1142, 1142, 1142, 1142, 1143, 1143, 1143, 1143, 1143, 1144, 1144, 1144, 1144, 1144, 1144, 1144, 1144, 1145, 1145, 1145, 1145, 1146, 1146, 1146, 1146, 1147, 1148, 1148, 1148, 1148, 1149, 1149, 1149, 1150, 1150, 1150, 1150, 1151, 1151, 1152, 1152, 1152, 1152, 1152, 1152, 1152, 1152, 1152, 1152, 1153, 1153, 1154, 1154, 1154, 1155, 1156, 1156, 1157, 1157, 1158, 1158, 1158, 1158, 1159, 1160, 1160, 1160, 1160, 1161, 1162, 1163, 1163, 1164, 1164, 1164, 1164, 1164, 1164, 1165, 1165, 1165, 1166, 1166, 1166, 1167, 1167, 1168, 1168, 1168, 1168, 1168, 1168, 1169, 1169, 1170, 1170, 1170, 1170, 1172, 1172, 1173, 1174, 1175, 1175, 1175, 1175, 1176, 1176, 1176, 1177, 1178, 1178, 1178, 1179, 1179, 1180, 1180, 1180, 1181, 1182, 1182, 1182, 1182, 1183, 1184, 1186, 1187, 1187, 1187, 1187, 1188, 1188, 1188, 1188, 1188, 1189, 1190, 1190, 1190, 1190, 1191, 1192, 1193, 1193, 1194, 1194, 1195, 1195, 1195, 1196, 1196, 1196, 1199, 1200, 1200, 1200, 1200, 1200, 1200, 1200, 1200, 1200, 1202, 1203, 1204, 1204, 1204, 1204, 1205, 1206, 1207, 1207, 1208, 1208, 1208, 1208, 1209, 1210, 1210, 1210, 1211, 1211, 1211, 1212, 1212, 1212, 1212, 1212, 1214, 1214, 1214, 1214, 1215, 1215, 1216, 1216, 1216, 1216, 1216, 1216, 1216, 1216, 1217, 1217, 1217, 1218, 1218, 1218, 1218, 1218, 1220, 1220, 1220, 1220, 1220, 1220, 1221, 1221, 1222, 1222, 1222, 1223, 1223, 1224, 1224, 1224, 1224, 1224, 1225, 1225, 1226, 1226, 1226, 1226, 1226, 1226, 1226, 1226, 1226, 1226, 1228, 1228, 1229, 1229, 1230, 1232, 1232, 1232, 1232, 1234, 1234, 1235, 1235, 1236, 1236, 1236, 1236, 1236, 1236, 1238, 1238, 1239, 1240, 1240, 1240, 1242, 1242, 1242, 1242, 1244, 1245, 1245, 1246, 1246, 1246, 1246, 1247, 1248, 1248, 1248, 1249, 1251, 1251, 1251, 1252, 1252, 1252, 1253, 1253, 1254, 1254, 1254, 1256, 1256, 1256, 1256, 1258, 1258, 1258, 1258, 1260, 1260, 1261, 1262, 1262, 1262, 1264, 1264, 1264, 1265, 1265, 1266, 1266, 1266, 1268, 1268, 1268, 1269, 1269, 1270, 1271, 1271, 1272, 1272, 1272, 1273, 1274, 1276, 1276, 1276, 1277, 1277, 1277, 1278, 1278, 1279, 1280, 1280, 1280, 1280, 1281, 1282, 1282, 1283, 1284, 1284, 1285, 1285, 1285, 1286, 1287, 1287, 1287, 1288, 1288, 1290, 1290, 1291, 1291, 1292, 1293, 1294, 1294, 1295, 1295, 1295, 1296, 1296, 1296, 1296, 1297, 1298, 1298, 1298, 1298, 1299, 1299, 1299, 1301, 1301, 1301, 1302, 1302, 1302, 1302, 1302, 1302, 1302, 1304, 1305, 1306, 1306, 1306, 1306, 1306, 1307, 1308, 1308, 1309, 1310, 1310, 1310, 1312, 1312, 1312, 1313, 1313, 1313, 1313, 1314, 1314, 1314, 1314, 1314, 1316, 1316, 1316, 1318, 1319, 1320, 1320, 1320, 1321, 1324, 1324, 1324, 1324, 1324, 1325, 1325, 1326, 1326, 1327, 1328, 1328, 1328, 1328, 1329, 1329, 1330, 1332, 1332, 1334, 1334, 1335, 1335, 1336, 1336, 1336, 1336, 1337, 1337, 1337, 1337, 1337, 1337, 1337, 1337, 1337, 1337, 1338, 1338, 1338, 1338, 1339, 1339, 1340, 1340, 1341, 1341, 1341, 1342, 1342, 1342, 1342, 1344, 1344, 1344, 1344, 1344, 1346, 1347, 1349, 1350, 1350, 1350, 1352, 1352, 1352, 1352, 1353, 1356, 1357, 1358, 1358, 1358, 1358, 1358, 1358, 1358, 1358, 1360, 1360, 1360, 1360, 1361, 1361, 1362, 1362, 1362, 1362, 1362, 1363, 1363, 1364, 1364, 1364, 1364, 1365, 1366, 1367, 1368, 1368, 1368, 1368, 1369, 1370, 1370, 1370, 1370, 1370, 1372, 1372, 1372, 1373, 1374, 1375, 1375, 1375, 1376, 1377, 1377, 1377, 1378, 1378, 1378, 1380, 1381, 1382, 1382, 1382, 1382, 1383, 1383, 1383, 1383, 1384, 1384, 1387, 1388, 1389, 1390, 1390, 1390, 1390, 1391, 1391, 1392, 1392, 1392, 1392, 1392, 1392, 1392, 1394, 1395, 1398, 1400, 1402, 1402, 1402, 1403, 1403, 1404, 1405, 1405, 1405, 1407, 1409, 1411, 1411, 1411, 1412, 1414, 1414, 1414, 1414, 1414, 1416, 1417, 1418, 1418, 1419, 1419, 1419, 1420, 1422, 1422, 1422, 1422, 1422, 1422, 1422, 1423, 1424, 1424, 1425, 1425, 1426, 1426, 1427, 1428, 1429, 1430, 1430, 1430, 1431, 1431, 1432, 1432, 1432, 1433, 1433, 1434, 1434, 1436, 1436, 1437, 1437, 1440, 1440, 1440, 1440, 1440, 1440, 1440, 1442, 1442, 1442, 1442, 1444, 1444, 1444, 1445, 1445, 1445, 1448, 1450, 1452, 1453, 1453, 1453, 1454, 1455, 1456, 1456, 1458, 1459, 1462, 1463, 1464, 1464, 1465, 1466, 1466, 1466, 1466, 1468, 1468, 1468, 1468, 1469, 1470, 1472, 1472, 1473, 1474, 1476, 1476, 1478, 1478, 1478, 1478, 1478, 1479, 1479, 1479, 1480, 1482, 1482, 1482, 1483, 1484, 1484, 1484, 1486, 1486, 1487, 1488, 1488, 1488, 1488, 1488, 1489, 1489, 1490, 1491, 1491, 1492, 1492, 1493, 1494, 1494, 1494, 1494, 1494, 1494, 1494, 1495, 1496, 1496, 1496, 1497, 1498, 1498, 1500, 1500, 1500, 1500, 1501, 1501, 1501, 1502, 1502, 1502, 1504, 1504, 1504, 1504, 1505, 1506, 1506, 1506, 1507, 1508, 1508, 1509, 1509, 1510, 1511, 1511, 1512, 1512, 1513, 1513, 1515, 1516, 1516, 1518, 1518, 1518, 1518, 1520, 1520, 1521, 1522, 1523, 1524, 1525, 1525, 1526, 1528, 1530, 1530, 1530, 1531, 1531, 1532, 1533, 1533, 1534, 1535, 1535, 1535, 1535, 1536, 1537, 1537, 1538, 1539, 1540, 1541, 1541, 1542, 1542, 1544, 1544, 1546, 1547, 1548, 1548, 1549, 1552, 1553, 1553, 1554, 1554, 1555, 1555, 1556, 1557, 1557, 1558, 1559, 1560, 1560, 1560, 1560, 1560, 1560, 1561, 1561, 1563, 1564, 1565, 1565, 1565, 1565, 1566, 1567, 1567, 1567, 1567, 1568, 1568, 1569, 1570, 1571, 1572, 1572, 1573, 1574, 1575, 1575, 1575, 1575, 1576, 1576, 1576, 1577, 1578, 1578, 1580, 1580, 1580, 1582, 1582, 1582, 1584, 1584, 1584, 1584, 1586, 1587, 1588, 1588, 1588, 1589, 1590, 1592, 1593, 1594, 1595, 1595, 1599, 1600, 1600, 1600, 1601, 1601, 1602, 1602, 1604, 1604, 1606, 1608, 1610, 1610, 1610, 1611, 1611, 1612, 1614, 1614, 1614, 1615, 1616, 1616, 1617, 1618, 1619, 1620, 1620, 1620, 1621, 1621, 1622, 1624, 1624, 1625, 1625, 1625, 1625, 1625, 1626, 1627, 1629, 1629, 1630, 1630, 1630, 1632, 1632, 1632, 1634, 1636, 1636, 1638, 1640, 1640, 1641, 1643, 1644, 1644, 1645, 1646, 1646, 1646, 1646, 1646, 1646, 1647, 1647, 1648, 1648, 1650, 1651, 1651, 1651, 1652, 1652, 1652, 1652, 1652, 1654, 1656, 1656, 1656, 1657, 1658, 1659, 1660, 1660, 1661, 1661, 1662, 1663, 1664, 1664, 1664, 1664, 1666, 1668, 1668, 1670, 1671, 1671, 1671, 1673, 1675, 1675, 1675, 1676, 1678, 1679, 1680, 1680, 1680, 1680, 1680, 1682, 1682, 1684, 1685, 1686, 1686, 1686, 1687, 1687, 1687, 1688, 1689, 1689, 1689, 1689, 1689, 1690, 1691, 1694, 1694, 1694, 1694, 1694, 1696, 1696, 1696, 1698, 1698, 1699, 1699, 1700, 1700, 1700, 1701, 1702, 1702, 1704, 1707, 1707, 1709, 1710, 1710, 1710, 1712, 1712, 1713, 1714, 1717, 1718, 1718, 1718, 1719, 1720, 1720, 1721, 1721, 1721, 1721, 1722, 1724, 1726, 1726, 1728, 1728, 1728, 1728, 1728, 1728, 1728, 1728, 1728, 1728, 1733, 1734, 1734, 1734, 1734, 1736, 1738, 1740, 1740, 1740, 1742, 1742, 1743, 1743, 1746, 1752, 1760, 1764, 1766, 1766, 1766, 1768, 1771, 1773, 1776, 1776, 1778, 1779, 1779, 1780, 1782, 1782, 1786, 1787, 1788, 1790, 1792, 1792, 1794, 1795, 1795, 1797, 1800, 1800, 1800, 1800, 1800, 1801, 1802, 1803, 1803, 1804, 1808, 1811, 1816, 1822, 1824, 1824, 1824, 1826, 1827, 1828, 1828, 1829, 1830, 1831, 1832, 1836, 1836, 1836, 1836, 1838, 1838, 1838, 1838, 1839, 1842, 1844, 1844, 1844, 1846, 1848, 1850, 1850, 1850, 1851, 1856, 1866, 1866, 1867, 1868, 1869, 1872, 1884, 1884, 1888, 1898, 1898, 1900, 1902, 1905, 1906, 1921, 1922, 1922, 1929, 1932, 1933, 1940, 1940, 1943, 1944, 1949, 1950, 1959, 1960, 1964, 1966, 1966, 1967, 1968, 1973, 1976, 1978, 1978, 1980, 1987, 1992, 2000, 2000, 2000, 2006, 2014, 2018, 2020, 2020, 2020, 2028, 2032, 2034, 2036, 2036, 2036, 2039, 2042, 2042, 2046, 2046, 2048, 2053, 2063, 2064, 2069, 2069, 2071, 2073, 2079, 2084, 2097, 2110, 2113, 2117, 2121, 2122, 2129, 2136, 2140, 2151, 2156, 2158, 2196, 2200, 2207, 2217, 2223, 2234, 2234, 2259, 2276, 2279, 2290, 2338, 2362, 2364, 2365, 2392, 2402, 2411, 2422, 2444, 2452, 2464, 2470, 2490, 2492, 2497, 2522, 2524, 2552, 2633, 2674, 2696, 2726, 2898, 3138, 3228, 4692, 5095], \"xaxis\": \"x\", \"y\": [74434.27948161562, 79318.7711625575, 83817.64507921452, 87031.12644825524, 87802.36197682502, 88316.51899587153, 89087.75452444129, 89730.45079824944, 93201.01067681341, 93586.6284410983, 93586.6284410983, 93586.6284410983, 93586.6284410983, 93586.6284410983, 93586.6284410983, 93586.6284410983, 93586.6284410983, 93586.6284410983, 93586.6284410983, 93586.6284410983, 93586.6284410983, 93586.6284410983, 94743.48173395297, 95000.56024347621, 95129.09949823785, 95514.71726252272, 96028.87428156925, 97828.42384823205, 97828.42384823205, 98342.58086727856, 98342.58086727856, 98342.58086727856, 98342.58086727856, 98342.58086727856, 98342.58086727856, 98985.27714108671, 98985.27714108671, 98985.27714108671, 98985.27714108671, 98985.27714108671, 99113.81639584833, 99113.81639584833, 99113.81639584833, 99499.43416013323, 99627.97341489485, 99627.97341489485, 99627.97341489485, 100399.20894346463, 100913.36596251115, 101684.60149108092, 101684.60149108092, 101684.60149108092, 101684.60149108092, 101684.60149108092, 101684.60149108092, 101684.60149108092, 101684.60149108092, 101684.60149108092, 101684.60149108092, 101684.60149108092, 101684.60149108092, 101684.60149108092, 101684.60149108092, 101684.60149108092, 101941.68000060417, 102327.29776488905, 103612.69031250535, 103612.69031250535, 103612.69031250535, 104126.84733155186, 104383.92584107512, 105026.62211488326, 105026.62211488326, 105026.62211488326, 105412.23987916815, 105540.77913392978, 105540.77913392978, 106183.47540773792, 106697.63242678443, 108111.56422916235, 108497.18199344724, 108625.72124820887, 108625.72124820887, 108625.72124820887, 108625.72124820887, 108625.72124820887, 108625.72124820887, 108625.72124820887, 109268.41752201701, 109654.03528630189, 109654.03528630189, 109654.03528630189, 109654.03528630189, 110168.1923053484, 110168.1923053484, 110168.1923053484, 110682.34932439492, 110682.34932439492, 110682.34932439492, 110682.34932439492, 110682.34932439492, 110682.34932439492, 110682.34932439492, 110810.88857915656, 111325.04559820307, 111710.66336248796, 111710.66336248796, 111710.66336248796, 111710.66336248796, 111710.66336248796, 111710.66336248796, 111710.66336248796, 111839.20261724958, 111839.20261724958, 111967.74187201122, 112224.82038153448, 112224.82038153448, 112481.89889105773, 112481.89889105773, 112481.89889105773, 112481.89889105773, 112481.89889105773, 112481.89889105773, 112481.89889105773, 112481.89889105773, 112481.89889105773, 112481.89889105773, 112481.89889105773, 112481.89889105773, 112481.89889105773, 113253.1344196275, 113767.29143867402, 113767.29143867402, 113895.83069343565, 114538.52696724379, 114667.06622200542, 114924.14473152868, 116080.99802438333, 116338.07653390658, 116338.07653390658, 116338.07653390658, 116466.61578866822, 116595.15504342986, 116723.69429819148, 116852.23355295311, 116852.23355295311, 116980.77280771473, 117109.31206247637, 117752.0083362845, 117880.54759104614, 117880.54759104614, 117880.54759104614, 117880.54759104614, 117880.54759104614, 117880.54759104614, 117880.54759104614, 117880.54759104614, 117880.54759104614, 117880.54759104614, 117880.54759104614, 117880.54759104614, 117880.54759104614, 117880.54759104614, 117880.54759104614, 117880.54759104614, 117880.54759104614, 118009.08684580776, 118394.70461009265, 118394.70461009265, 118394.70461009265, 118780.32237437753, 118908.86162913917, 118908.86162913917, 118908.86162913917, 118908.86162913917, 119165.94013866242, 119423.01864818568, 119423.01864818568, 119423.01864818568, 119423.01864818568, 119423.01864818568, 119423.01864818568, 119680.09715770894, 119680.09715770894, 119680.09715770894, 119808.63641247057, 119808.63641247057, 120065.71492199383, 120065.71492199383, 120322.79343151709, 120322.79343151709, 120322.79343151709, 120579.87194104034, 120708.41119580196, 120708.41119580196, 120708.41119580196, 120965.48970532522, 121094.02896008686, 121094.02896008686, 121222.56821484848, 121222.56821484848, 121222.56821484848, 121222.56821484848, 121222.56821484848, 121222.56821484848, 121222.56821484848, 121222.56821484848, 121736.72523389499, 121865.26448865663, 121865.26448865663, 121993.80374341825, 121993.80374341825, 122379.42150770314, 122379.42150770314, 122379.42150770314, 122507.96076246478, 122507.96076246478, 122636.5000172264, 123022.11778151129, 123150.65703627291, 123150.65703627291, 123150.65703627291, 123279.19629103455, 123407.73554579617, 123536.2748005578, 123536.2748005578, 123536.2748005578, 123664.81405531942, 124050.43181960432, 124050.43181960432, 124050.43181960432, 124050.43181960432, 124050.43181960432, 124050.43181960432, 124050.43181960432, 124050.43181960432, 124050.43181960432, 124050.43181960432, 124436.0495838892, 124693.12809341245, 124693.12809341245, 124693.12809341245, 124693.12809341245, 124693.12809341245, 124693.12809341245, 124950.20660293572, 125078.74585769734, 125078.74585769734, 125078.74585769734, 125078.74585769734, 125078.74585769734, 125078.74585769734, 125078.74585769734, 125078.74585769734, 125078.74585769734, 125078.74585769734, 125078.74585769734, 125078.74585769734, 125207.28511245898, 125207.28511245898, 125207.28511245898, 125207.28511245898, 125335.8243672206, 125592.90287674386, 125592.90287674386, 125721.4421315055, 125849.98138626711, 125849.98138626711, 125849.98138626711, 125978.52064102875, 125978.52064102875, 126107.05989579037, 126107.05989579037, 126364.13840531363, 126364.13840531363, 126364.13840531363, 126364.13840531363, 126364.13840531363, 126364.13840531363, 126621.21691483688, 126749.75616959852, 126749.75616959852, 126749.75616959852, 126878.29542436014, 126878.29542436014, 126878.29542436014, 127006.83467912178, 127135.3739338834, 127135.3739338834, 127135.3739338834, 127135.3739338834, 127135.3739338834, 127263.91318864503, 127520.99169816829, 127520.99169816829, 127520.99169816829, 127906.60946245318, 128035.1487172148, 128035.1487172148, 128035.1487172148, 128163.68797197644, 128163.68797197644, 128163.68797197644, 128292.22722673806, 128420.7664814997, 128420.7664814997, 128420.7664814997, 128420.7664814997, 128549.30573626132, 128549.30573626132, 128677.84499102295, 128677.84499102295, 128677.84499102295, 128677.84499102295, 128677.84499102295, 128677.84499102295, 128677.84499102295, 128806.38424578457, 128806.38424578457, 128806.38424578457, 128806.38424578457, 129063.46275530783, 129063.46275530783, 129192.00201006947, 129192.00201006947, 129192.00201006947, 129192.00201006947, 129320.54126483109, 129577.61977435435, 129706.15902911598, 129706.15902911598, 129706.15902911598, 129706.15902911598, 129706.15902911598, 129706.15902911598, 129706.15902911598, 129706.15902911598, 129834.6982838776, 129834.6982838776, 129834.6982838776, 129834.6982838776, 129834.6982838776, 130091.77679340086, 130220.3160481625, 130220.3160481625, 130220.3160481625, 130220.3160481625, 130220.3160481625, 130220.3160481625, 130220.3160481625, 130220.3160481625, 130220.3160481625, 130220.3160481625, 130220.3160481625, 130220.3160481625, 130348.85530292413, 130348.85530292413, 130348.85530292413, 130477.39455768575, 130734.47306720901, 130863.01232197064, 130863.01232197064, 130863.01232197064, 130991.55157673226, 130991.55157673226, 130991.55157673226, 130991.55157673226, 130991.55157673226, 130991.55157673226, 130991.55157673226, 130991.55157673226, 131505.7085957788, 131505.7085957788, 131505.7085957788, 131634.2478505404, 131634.2478505404, 131762.78710530204, 131762.78710530204, 131762.78710530204, 131762.78710530204, 131762.78710530204, 131762.78710530204, 131762.78710530204, 131762.78710530204, 131762.78710530204, 131891.3263600637, 132019.86561482528, 132148.40486958693, 132276.94412434855, 132276.94412434855, 132276.94412434855, 132276.94412434855, 132276.94412434855, 132276.94412434855, 132534.02263387182, 132534.02263387182, 132791.10114339506, 132791.10114339506, 132791.10114339506, 132791.10114339506, 132919.6403981567, 132919.6403981567, 132919.6403981567, 133048.17965291833, 133048.17965291833, 133305.2581624416, 133305.2581624416, 133305.2581624416, 133305.2581624416, 133305.2581624416, 133305.2581624416, 133433.7974172032, 133433.7974172032, 133562.33667196485, 133690.87592672647, 133819.4151814881, 133819.4151814881, 133819.4151814881, 133819.4151814881, 133819.4151814881, 133819.4151814881, 133819.4151814881, 133819.4151814881, 133947.95443624974, 134076.49369101136, 134076.49369101136, 134076.49369101136, 134076.49369101136, 134076.49369101136, 134076.49369101136, 134076.49369101136, 134205.03294577298, 134205.03294577298, 134333.57220053463, 134333.57220053463, 134462.11145529622, 134462.11145529622, 134590.65071005787, 134590.65071005787, 134719.1899648195, 134719.1899648195, 134847.72921958112, 134847.72921958112, 134847.72921958112, 134847.72921958112, 134847.72921958112, 134847.72921958112, 134847.72921958112, 135104.8077291044, 135104.8077291044, 135104.8077291044, 135233.346983866, 135233.346983866, 135361.88623862766, 135361.88623862766, 135361.88623862766, 135361.88623862766, 135361.88623862766, 135361.88623862766, 135618.9647481509, 135618.9647481509, 135618.9647481509, 135618.9647481509, 135618.9647481509, 135618.9647481509, 135618.9647481509, 135747.50400291255, 135747.50400291255, 135876.04325767414, 135876.04325767414, 136004.5825124358, 136004.5825124358, 136004.5825124358, 136133.12176719742, 136261.66102195904, 136390.2002767207, 136390.2002767207, 136390.2002767207, 136390.2002767207, 136390.2002767207, 136390.2002767207, 136390.2002767207, 136390.2002767207, 136390.2002767207, 136390.2002767207, 136390.2002767207, 136390.2002767207, 136390.2002767207, 136390.2002767207, 136390.2002767207, 136390.2002767207, 136390.2002767207, 136390.2002767207, 136647.27878624393, 136647.27878624393, 136775.81804100558, 136775.81804100558, 136775.81804100558, 136775.81804100558, 136904.35729576717, 136904.35729576717, 137032.89655052882, 137161.43580529044, 137418.5143148137, 137418.5143148137, 137547.05356957534, 137547.05356957534, 137547.05356957534, 137547.05356957534, 137547.05356957534, 137547.05356957534, 137547.05356957534, 137804.1320790986, 137804.1320790986, 137804.1320790986, 137804.1320790986, 137932.6713338602, 138061.21058862185, 138189.74984338347, 138318.2890981451, 138318.2890981451, 138318.2890981451, 138318.2890981451, 138446.82835290674, 138446.82835290674, 138446.82835290674, 138446.82835290674, 138446.82835290674, 138446.82835290674, 138446.82835290674, 138446.82835290674, 138446.82835290674, 138446.82835290674, 138446.82835290674, 138446.82835290674, 138446.82835290674, 138575.36760766836, 138575.36760766836, 138575.36760766836, 138575.36760766836, 138575.36760766836, 138575.36760766836, 138703.90686242998, 138832.44611719163, 138832.44611719163, 138832.44611719163, 138960.98537195325, 138960.98537195325, 139218.06388147653, 139218.06388147653, 139475.14239099977, 139475.14239099977, 139475.14239099977, 139475.14239099977, 139475.14239099977, 139475.14239099977, 139475.14239099977, 139475.14239099977, 139475.14239099977, 139475.14239099977, 139475.14239099977, 139603.6816457614, 139603.6816457614, 139732.220900523, 139989.29941004628, 139989.29941004628, 139989.29941004628, 140117.8386648079, 140117.8386648079, 140117.8386648079, 140117.8386648079, 140117.8386648079, 140117.8386648079, 140117.8386648079, 140246.37791956955, 140246.37791956955, 140246.37791956955, 140246.37791956955, 140374.91717433115, 140374.91717433115, 140374.91717433115, 140374.91717433115, 140374.91717433115, 140374.91717433115, 140374.91717433115, 140503.4564290928, 140503.4564290928, 140503.4564290928, 140503.4564290928, 140503.4564290928, 140503.4564290928, 140503.4564290928, 140503.4564290928, 140503.4564290928, 140503.4564290928, 140503.4564290928, 140503.4564290928, 140503.4564290928, 140503.4564290928, 140503.4564290928, 140503.4564290928, 140503.4564290928, 140503.4564290928, 140631.99568385442, 140889.0741933777, 140889.0741933777, 140889.0741933777, 140889.0741933777, 141146.15270290093, 141274.69195766258, 141274.69195766258, 141274.69195766258, 141274.69195766258, 141274.69195766258, 141403.2312124242, 141403.2312124242, 141403.2312124242, 141403.2312124242, 141403.2312124242, 141403.2312124242, 141403.2312124242, 141403.2312124242, 141403.2312124242, 141531.77046718582, 141531.77046718582, 141531.77046718582, 141788.84897670907, 141788.84897670907, 141788.84897670907, 141788.84897670907, 141788.84897670907, 141788.84897670907, 141917.38823147072, 142045.92748623234, 142045.92748623234, 142045.92748623234, 142045.92748623234, 142174.46674099396, 142174.46674099396, 142174.46674099396, 142174.46674099396, 142174.46674099396, 142303.0059957556, 142560.08450527885, 142560.08450527885, 142560.08450527885, 142560.08450527885, 142560.08450527885, 142560.08450527885, 142560.08450527885, 142560.08450527885, 142560.08450527885, 142560.08450527885, 142560.08450527885, 142560.08450527885, 142560.08450527885, 142560.08450527885, 142560.08450527885, 142560.08450527885, 142560.08450527885, 142560.08450527885, 142560.08450527885, 142560.08450527885, 142560.08450527885, 142560.08450527885, 142560.08450527885, 142560.08450527885, 142560.08450527885, 142560.08450527885, 142560.08450527885, 142560.08450527885, 142560.08450527885, 142560.08450527885, 142560.08450527885, 142560.08450527885, 142560.08450527885, 142560.08450527885, 142560.08450527885, 142560.08450527885, 142560.08450527885, 142560.08450527885, 142560.08450527885, 142560.08450527885, 142560.08450527885, 142560.08450527885, 142560.08450527885, 142560.08450527885, 142560.08450527885, 142560.08450527885, 142688.6237600405, 142817.1630148021, 142817.1630148021, 142817.1630148021, 142817.1630148021, 142817.1630148021, 142817.1630148021, 142945.70226956374, 143074.24152432536, 143074.24152432536, 143074.24152432536, 143074.24152432536, 143202.78077908698, 143202.78077908698, 143202.78077908698, 143459.85928861026, 143588.39854337188, 143588.39854337188, 143588.39854337188, 143588.39854337188, 143588.39854337188, 143588.39854337188, 143716.93779813353, 143845.47705289512, 143845.47705289512, 143845.47705289512, 143845.47705289512, 143845.47705289512, 143845.47705289512, 143845.47705289512, 143974.01630765677, 143974.01630765677, 144102.55556241842, 144102.55556241842, 144102.55556241842, 144102.55556241842, 144102.55556241842, 144231.09481718, 144359.63407194166, 144488.17332670328, 144488.17332670328, 144488.17332670328, 144488.17332670328, 144616.7125814649, 144616.7125814649, 144616.7125814649, 144616.7125814649, 144873.79109098818, 144873.79109098818, 144873.79109098818, 144873.79109098818, 144873.79109098818, 144873.79109098818, 144873.79109098818, 144873.79109098818, 144873.79109098818, 145002.3303457498, 145130.86960051145, 145130.86960051145, 145130.86960051145, 145130.86960051145, 145130.86960051145, 145130.86960051145, 145130.86960051145, 145130.86960051145, 145130.86960051145, 145259.40885527304, 145259.40885527304, 145387.9481100347, 145387.9481100347, 145387.9481100347, 145516.4873647963, 145516.4873647963, 145645.02661955793, 145645.02661955793, 145645.02661955793, 145645.02661955793, 145645.02661955793, 145773.56587431958, 145773.56587431958, 145902.1051290812, 146030.64438384282, 146159.18363860447, 146159.18363860447, 146159.18363860447, 146159.18363860447, 146159.18363860447, 146159.18363860447, 146159.18363860447, 146159.18363860447, 146287.72289336607, 146416.26214812772, 146416.26214812772, 146416.26214812772, 146416.26214812772, 146416.26214812772, 146416.26214812772, 146416.26214812772, 146416.26214812772, 146416.26214812772, 146416.26214812772, 146416.26214812772, 146416.26214812772, 146416.26214812772, 146416.26214812772, 146416.26214812772, 146416.26214812772, 146416.26214812772, 146544.80140288934, 146673.34065765096, 146673.34065765096, 146673.34065765096, 146673.34065765096, 146673.34065765096, 146673.34065765096, 146801.8799124126, 146801.8799124126, 146930.41916717423, 147058.95842193585, 147058.95842193585, 147058.95842193585, 147187.4976766975, 147187.4976766975, 147187.4976766975, 147187.4976766975, 147187.4976766975, 147316.03693145912, 147316.03693145912, 147316.03693145912, 147316.03693145912, 147444.57618622074, 147444.57618622074, 147444.57618622074, 147444.57618622074, 147573.1154409824, 147701.654695744, 147701.654695744, 147701.654695744, 147701.654695744, 147701.654695744, 147701.654695744, 147830.19395050564, 148087.27246002888, 148087.27246002888, 148087.27246002888, 148215.81171479053, 148215.81171479053, 148344.35096955215, 148344.35096955215, 148344.35096955215, 148344.35096955215, 148472.89022431377, 148472.89022431377, 148472.89022431377, 148472.89022431377, 148472.89022431377, 148472.89022431377, 148472.89022431377, 148729.968733837, 148729.968733837, 148729.968733837, 148729.968733837, 148729.968733837, 148729.968733837, 148729.968733837, 148729.968733837, 148729.968733837, 148729.968733837, 148729.968733837, 148729.968733837, 148729.968733837, 148729.968733837, 148729.968733837, 148729.968733837, 148729.968733837, 148729.968733837, 148729.968733837, 148858.50798859866, 148858.50798859866, 148987.04724336028, 148987.04724336028, 148987.04724336028, 148987.04724336028, 148987.04724336028, 149115.5864981219, 149244.12575288356, 149244.12575288356, 149244.12575288356, 149244.12575288356, 149244.12575288356, 149501.2042624068, 149501.2042624068, 149501.2042624068, 149501.2042624068, 149629.74351716845, 149758.28277193007, 149758.28277193007, 149758.28277193007, 149758.28277193007, 150015.36128145334, 150143.90053621493, 150143.90053621493, 150272.43979097658, 150272.43979097658, 150272.43979097658, 150400.9790457382, 150400.9790457382, 150400.9790457382, 150400.9790457382, 150400.9790457382, 150400.9790457382, 150400.9790457382, 150400.9790457382, 150529.51830049983, 150529.51830049983, 150529.51830049983, 150529.51830049983, 150529.51830049983, 150529.51830049983, 150658.05755526148, 150786.5968100231, 150786.5968100231, 150786.5968100231, 150786.5968100231, 150786.5968100231, 150786.5968100231, 150786.5968100231, 150786.5968100231, 150786.5968100231, 150915.13606478472, 150915.13606478472, 151043.67531954637, 151043.67531954637, 151043.67531954637, 151043.67531954637, 151043.67531954637, 151300.7538290696, 151300.7538290696, 151300.7538290696, 151300.7538290696, 151429.29308383123, 151429.29308383123, 151557.83233859285, 151686.3715933545, 151814.91084811612, 151814.91084811612, 151814.91084811612, 151814.91084811612, 151814.91084811612, 151814.91084811612, 151814.91084811612, 151814.91084811612, 151814.91084811612, 151814.91084811612, 151814.91084811612, 151814.91084811612, 151814.91084811612, 151814.91084811612, 151814.91084811612, 151814.91084811612, 151814.91084811612, 152071.9893576394, 152071.9893576394, 152200.52861240102, 152200.52861240102, 152329.06786716264, 152329.06786716264, 152329.06786716264, 152457.6071219243, 152457.6071219243, 152457.6071219243, 152457.6071219243, 152586.14637668588, 152586.14637668588, 152714.68563144753, 152714.68563144753, 152714.68563144753, 152714.68563144753, 152714.68563144753, 152843.22488620915, 152843.22488620915, 152843.22488620915, 152843.22488620915, 152843.22488620915, 152971.76414097077, 152971.76414097077, 152971.76414097077, 152971.76414097077, 153100.30339573242, 153100.30339573242, 153228.84265049404, 153357.38190525566, 153357.38190525566, 153357.38190525566, 153357.38190525566, 153357.38190525566, 153357.38190525566, 153357.38190525566, 153357.38190525566, 153485.92116001731, 153485.92116001731, 153485.92116001731, 153614.4604147789, 153614.4604147789, 153614.4604147789, 153614.4604147789, 153742.99966954056, 153742.99966954056, 153742.99966954056, 153871.53892430218, 153871.53892430218, 153871.53892430218, 153871.53892430218, 153871.53892430218, 153871.53892430218, 153871.53892430218, 154000.0781790638, 154000.0781790638, 154128.61743382545, 154128.61743382545, 154128.61743382545, 154257.15668858707, 154257.15668858707, 154257.15668858707, 154257.15668858707, 154385.6959433487, 154385.6959433487, 154514.23519811034, 154642.77445287193, 154642.77445287193, 154642.77445287193, 154642.77445287193, 154642.77445287193, 154642.77445287193, 154642.77445287193, 154771.31370763358, 154771.31370763358, 154771.31370763358, 154899.8529623952, 154899.8529623952, 154899.8529623952, 154899.8529623952, 154899.8529623952, 154899.8529623952, 154899.8529623952, 154899.8529623952, 154899.8529623952, 154899.8529623952, 154899.8529623952, 154899.8529623952, 154899.8529623952, 154899.8529623952, 154899.8529623952, 154899.8529623952, 154899.8529623952, 154899.8529623952, 155028.39221715683, 155028.39221715683, 155028.39221715683, 155156.93147191848, 155156.93147191848, 155156.93147191848, 155285.4707266801, 155414.00998144172, 155414.00998144172, 155414.00998144172, 155414.00998144172, 155414.00998144172, 155414.00998144172, 155542.54923620337, 155542.54923620337, 155671.088490965, 155799.6277457266, 155799.6277457266, 155928.16700048826, 155928.16700048826, 155928.16700048826, 155928.16700048826, 156056.70625524985, 156056.70625524985, 156185.2455100115, 156185.2455100115, 156185.2455100115, 156185.2455100115, 156185.2455100115, 156185.2455100115, 156313.78476477313, 156442.32401953475, 156442.32401953475, 156442.32401953475, 156442.32401953475, 156442.32401953475, 156699.40252905802, 156827.94178381964, 156827.94178381964, 156827.94178381964, 156956.4810385813, 156956.4810385813, 156956.4810385813, 156956.4810385813, 156956.4810385813, 156956.4810385813, 157085.02029334288, 157213.55954810453, 157342.09880286615, 157342.09880286615, 157342.09880286615, 157470.63805762777, 157470.63805762777, 157470.63805762777, 157470.63805762777, 157470.63805762777, 157470.63805762777, 157599.17731238942, 157599.17731238942, 157599.17731238942, 157727.71656715104, 157856.25582191267, 157856.25582191267, 157856.25582191267, 157856.25582191267, 157984.79507667432, 157984.79507667432, 157984.79507667432, 157984.79507667432, 157984.79507667432, 157984.79507667432, 158113.33433143594, 158113.33433143594, 158113.33433143594, 158241.87358619756, 158241.87358619756, 158241.87358619756, 158498.9520957208, 158498.9520957208, 158498.9520957208, 158498.9520957208, 158498.9520957208, 158498.9520957208, 158498.9520957208, 158498.9520957208, 158498.9520957208, 158498.9520957208, 158498.9520957208, 158627.49135048245, 158756.03060524407, 158756.03060524407, 158756.03060524407, 158756.03060524407, 158756.03060524407, 158756.03060524407, 158756.03060524407, 158756.03060524407, 158756.03060524407, 158884.5698600057, 158884.5698600057, 159013.10911476734, 159013.10911476734, 159013.10911476734, 159013.10911476734, 159013.10911476734, 159141.64836952896, 159141.64836952896, 159141.64836952896, 159270.1876242906, 159398.72687905224, 159527.26613381383, 159527.26613381383, 159527.26613381383, 159655.80538857548, 159655.80538857548, 159655.80538857548, 159784.3446433371, 159784.3446433371, 159912.88389809872, 159912.88389809872, 159912.88389809872, 159912.88389809872, 160041.42315286037, 160041.42315286037, 160169.962407622, 160169.962407622, 160169.962407622, 160169.962407622, 160169.962407622, 160298.5016623836, 160298.5016623836, 160427.04091714526, 160555.58017190688, 160555.58017190688, 160555.58017190688, 160555.58017190688, 160684.1194266685, 160684.1194266685, 160684.1194266685, 160684.1194266685, 160684.1194266685, 160812.65868143016, 160812.65868143016, 160812.65868143016, 160941.19793619175, 160941.19793619175, 161069.7371909534, 161069.7371909534, 161069.7371909534, 161069.7371909534, 161069.7371909534, 161069.7371909534, 161069.7371909534, 161069.7371909534, 161069.7371909534, 161069.7371909534, 161069.7371909534, 161198.27644571502, 161326.81570047664, 161583.8942099999, 161583.8942099999, 161583.8942099999, 161583.8942099999, 161712.43346476153, 161712.43346476153, 161840.97271952318, 161840.97271952318, 161840.97271952318, 161840.97271952318, 161840.97271952318, 161969.51197428477, 162098.05122904642, 162226.59048380805, 162483.66899333132, 162612.20824809294, 162612.20824809294, 162612.20824809294, 162612.20824809294, 162612.20824809294, 162612.20824809294, 162740.74750285456, 162869.28675761618, 162869.28675761618, 162869.28675761618, 162869.28675761618, 162869.28675761618, 162869.28675761618, 163126.36526713945, 163126.36526713945, 163126.36526713945, 163126.36526713945, 163126.36526713945, 163254.90452190107, 163254.90452190107, 163383.44377666272, 163383.44377666272, 163383.44377666272, 163383.44377666272, 163383.44377666272, 163383.44377666272, 163383.44377666272, 163511.98303142434, 163511.98303142434, 163511.98303142434, 163640.52228618597, 163640.52228618597, 163769.0615409476, 163769.0615409476, 163897.60079570924, 164026.14005047086, 164154.67930523248, 164154.67930523248, 164154.67930523248, 164154.67930523248, 164154.67930523248, 164283.2185599941, 164411.75781475575, 164411.75781475575, 164411.75781475575, 164411.75781475575, 164411.75781475575, 164540.29706951737, 164540.29706951737, 164668.836324279, 164668.836324279, 164668.836324279, 164668.836324279, 164797.3755790406, 164797.3755790406, 164925.91483380226, 164925.91483380226, 165054.45408856389, 165182.9933433255, 165182.9933433255, 165182.9933433255, 165182.9933433255, 165182.9933433255, 165182.9933433255, 165182.9933433255, 165182.9933433255, 165182.9933433255, 165182.9933433255, 165182.9933433255, 165182.9933433255, 165182.9933433255, 165182.9933433255, 165182.9933433255, 165182.9933433255, 165182.9933433255, 165182.9933433255, 165182.9933433255, 165182.9933433255, 165182.9933433255, 165182.9933433255, 165182.9933433255, 165182.9933433255, 165182.9933433255, 165182.9933433255, 165182.9933433255, 165182.9933433255, 165311.53259808713, 165311.53259808713, 165311.53259808713, 165440.07185284878, 165440.07185284878, 165568.6111076104, 165697.15036237202, 165697.15036237202, 165697.15036237202, 165697.15036237202, 165697.15036237202, 165825.68961713364, 165825.68961713364, 166082.7681266569, 166211.30738141853, 166211.30738141853, 166211.30738141853, 166211.30738141853, 166211.30738141853, 166339.84663618018, 166468.3858909418, 166468.3858909418, 166468.3858909418, 166468.3858909418, 166468.3858909418, 166468.3858909418, 166596.92514570343, 166596.92514570343, 166596.92514570343, 166725.46440046505, 166725.46440046505, 166725.46440046505, 166725.46440046505, 166725.46440046505, 166725.46440046505, 166725.46440046505, 166854.0036552267, 166854.0036552267, 166854.0036552267, 166854.0036552267, 166854.0036552267, 166982.54290998832, 166982.54290998832, 166982.54290998832, 166982.54290998832, 167111.08216474994, 167111.08216474994, 167111.08216474994, 167111.08216474994, 167111.08216474994, 167111.08216474994, 167111.08216474994, 167111.08216474994, 167239.62141951156, 167239.62141951156, 167239.62141951156, 167239.62141951156, 167239.62141951156, 167239.62141951156, 167239.62141951156, 167368.1606742732, 167368.1606742732, 167368.1606742732, 167368.1606742732, 167368.1606742732, 167496.69992903483, 167496.69992903483, 167496.69992903483, 167625.23918379645, 167753.77843855807, 167753.77843855807, 167753.77843855807, 167753.77843855807, 167753.77843855807, 167882.31769331972, 167882.31769331972, 168010.85694808135, 168010.85694808135, 168010.85694808135, 168139.39620284297, 168267.9354576046, 168267.9354576046, 168267.9354576046, 168267.9354576046, 168267.9354576046, 168396.47471236624, 168396.47471236624, 168396.47471236624, 168653.55322188948, 168653.55322188948, 168782.09247665113, 168782.09247665113, 168782.09247665113, 168782.09247665113, 168910.63173141275, 168910.63173141275, 168910.63173141275, 169039.17098617437, 169167.710240936, 169296.24949569764, 169296.24949569764, 169296.24949569764, 169296.24949569764, 169296.24949569764, 169296.24949569764, 169296.24949569764, 169296.24949569764, 169296.24949569764, 169296.24949569764, 169296.24949569764, 169296.24949569764, 169424.78875045927, 169424.78875045927, 169424.78875045927, 169424.78875045927, 169424.78875045927, 169424.78875045927, 169553.3280052209, 169553.3280052209, 169553.3280052209, 169553.3280052209, 169681.8672599825, 169681.8672599825, 169810.40651474416, 169938.94576950578, 169938.94576950578, 169938.94576950578, 170067.4850242674, 170067.4850242674, 170067.4850242674, 170196.02427902902, 170196.02427902902, 170196.02427902902, 170196.02427902902, 170324.56353379067, 170324.56353379067, 170324.56353379067, 170324.56353379067, 170324.56353379067, 170324.56353379067, 170453.1027885523, 170453.1027885523, 170581.6420433139, 170581.6420433139, 170581.6420433139, 170581.6420433139, 170710.18129807553, 170838.72055283719, 170838.72055283719, 170967.2598075988, 170967.2598075988, 171095.79906236043, 171095.79906236043, 171095.79906236043, 171095.79906236043, 171352.8775718837, 171352.8775718837, 171352.8775718837, 171352.8775718837, 171352.8775718837, 171352.8775718837, 171352.8775718837, 171481.41682664532, 171481.41682664532, 171609.95608140694, 171609.95608140694, 171609.95608140694, 171738.4953361686, 171738.4953361686, 171738.4953361686, 171738.4953361686, 171867.0345909302, 171867.0345909302, 171867.0345909302, 171867.0345909302, 171867.0345909302, 171867.0345909302, 171867.0345909302, 171995.57384569183, 171995.57384569183, 171995.57384569183, 171995.57384569183, 172124.11310045345, 172124.11310045345, 172124.11310045345, 172124.11310045345, 172252.6523552151, 172252.6523552151, 172252.6523552151, 172252.6523552151, 172381.19160997673, 172381.19160997673, 172381.19160997673, 172381.19160997673, 172381.19160997673, 172509.73086473835, 172509.73086473835, 172509.73086473835, 172509.73086473835, 172638.27011949997, 172638.27011949997, 172638.27011949997, 172766.80937426162, 172895.34862902324, 172895.34862902324, 172895.34862902324, 172895.34862902324, 172895.34862902324, 173023.88788378486, 173023.88788378486, 173152.42713854648, 173152.42713854648, 173152.42713854648, 173280.96639330813, 173280.96639330813, 173409.50564806975, 173409.50564806975, 173409.50564806975, 173409.50564806975, 173538.04490283137, 173538.04490283137, 173538.04490283137, 173538.04490283137, 173538.04490283137, 173795.12341235465, 173795.12341235465, 173923.66266711627, 173923.66266711627, 173923.66266711627, 173923.66266711627, 174052.2019218779, 174180.74117663954, 174437.81968616278, 174437.81968616278, 174437.81968616278, 174437.81968616278, 174437.81968616278, 174566.3589409244, 174566.3589409244, 174566.3589409244, 174694.89819568605, 174694.89819568605, 174694.89819568605, 174694.89819568605, 174694.89819568605, 174694.89819568605, 174694.89819568605, 174951.9767052093, 174951.9767052093, 174951.9767052093, 175080.51595997091, 175080.51595997091, 175080.51595997091, 175080.51595997091, 175080.51595997091, 175209.05521473257, 175209.05521473257, 175209.05521473257, 175337.5944694942, 175466.1337242558, 175466.1337242558, 175466.1337242558, 175466.1337242558, 175466.1337242558, 175466.1337242558, 175594.67297901743, 175594.67297901743, 175723.21223377908, 175723.21223377908, 175723.21223377908, 175980.29074330232, 175980.29074330232, 176108.82999806394, 176108.82999806394, 176108.82999806394, 176237.3692528256, 176237.3692528256, 176237.3692528256, 176237.3692528256, 176365.9085075872, 176365.9085075872, 176365.9085075872, 176494.44776234883, 176494.44776234883, 176494.44776234883, 176494.44776234883, 176494.44776234883, 176494.44776234883, 176622.98701711046, 176751.5262718721, 176751.5262718721, 176880.06552663373, 176880.06552663373, 176880.06552663373, 177008.60478139535, 177008.60478139535, 177137.144036157, 177137.144036157, 177137.144036157, 177265.68329091862, 177265.68329091862, 177265.68329091862, 177522.76180044186, 177522.76180044186, 177522.76180044186, 177522.76180044186, 177651.3010552035, 177651.3010552035, 177779.84030996513, 177779.84030996513, 177779.84030996513, 178036.91881948838, 178036.91881948838, 178036.91881948838, 178165.45807425003, 178165.45807425003, 178165.45807425003, 178293.99732901165, 178293.99732901165, 178293.99732901165, 178293.99732901165, 178293.99732901165, 178293.99732901165, 178422.53658377327, 178422.53658377327, 178422.53658377327, 178422.53658377327, 178422.53658377327, 178551.0758385349, 178551.0758385349, 178551.0758385349, 178551.0758385349, 178551.0758385349, 178551.0758385349, 178551.0758385349, 178551.0758385349, 178679.61509329654, 178679.61509329654, 178679.61509329654, 178679.61509329654, 178808.15434805816, 178808.15434805816, 178808.15434805816, 178808.15434805816, 178936.69360281978, 179065.2328575814, 179065.2328575814, 179065.2328575814, 179065.2328575814, 179193.77211234305, 179193.77211234305, 179193.77211234305, 179322.31136710467, 179322.31136710467, 179322.31136710467, 179322.31136710467, 179450.8506218663, 179450.8506218663, 179579.38987662795, 179579.38987662795, 179579.38987662795, 179579.38987662795, 179579.38987662795, 179579.38987662795, 179579.38987662795, 179579.38987662795, 179579.38987662795, 179579.38987662795, 179707.92913138957, 179707.92913138957, 179836.4683861512, 179836.4683861512, 179836.4683861512, 179965.0076409128, 180093.54689567446, 180093.54689567446, 180222.08615043608, 180222.08615043608, 180350.6254051977, 180350.6254051977, 180350.6254051977, 180350.6254051977, 180479.16465995932, 180607.70391472097, 180607.70391472097, 180607.70391472097, 180607.70391472097, 180736.2431694826, 180864.78242424421, 180993.32167900584, 180993.32167900584, 181121.8609337675, 181121.8609337675, 181121.8609337675, 181121.8609337675, 181121.8609337675, 181121.8609337675, 181250.4001885291, 181250.4001885291, 181250.4001885291, 181378.93944329073, 181378.93944329073, 181378.93944329073, 181507.47869805235, 181507.47869805235, 181636.017952814, 181636.017952814, 181636.017952814, 181636.017952814, 181636.017952814, 181636.017952814, 181764.55720757562, 181764.55720757562, 181893.09646233724, 181893.09646233724, 181893.09646233724, 181893.09646233724, 182150.1749718605, 182150.1749718605, 182278.71422662213, 182407.25348138376, 182535.7927361454, 182535.7927361454, 182535.7927361454, 182535.7927361454, 182664.33199090703, 182664.33199090703, 182664.33199090703, 182792.87124566865, 182921.41050043027, 182921.41050043027, 182921.41050043027, 183049.94975519192, 183049.94975519192, 183178.48900995354, 183178.48900995354, 183178.48900995354, 183307.02826471516, 183435.56751947678, 183435.56751947678, 183435.56751947678, 183435.56751947678, 183564.10677423843, 183692.64602900005, 183949.7245385233, 184078.26379328495, 184078.26379328495, 184078.26379328495, 184078.26379328495, 184206.80304804657, 184206.80304804657, 184206.80304804657, 184206.80304804657, 184206.80304804657, 184335.3423028082, 184463.8815575698, 184463.8815575698, 184463.8815575698, 184463.8815575698, 184592.42081233146, 184720.96006709308, 184849.4993218547, 184849.4993218547, 184978.03857661632, 184978.03857661632, 185106.57783137797, 185106.57783137797, 185106.57783137797, 185235.1170861396, 185235.1170861396, 185235.1170861396, 185620.7348504245, 185749.2741051861, 185749.2741051861, 185749.2741051861, 185749.2741051861, 185749.2741051861, 185749.2741051861, 185749.2741051861, 185749.2741051861, 185749.2741051861, 186006.35261470938, 186134.891869471, 186263.43112423262, 186263.43112423262, 186263.43112423262, 186263.43112423262, 186391.97037899424, 186520.5096337559, 186649.04888851751, 186649.04888851751, 186777.58814327914, 186777.58814327914, 186777.58814327914, 186777.58814327914, 186906.12739804076, 187034.6666528024, 187034.6666528024, 187034.6666528024, 187163.20590756403, 187163.20590756403, 187163.20590756403, 187291.74516232565, 187291.74516232565, 187291.74516232565, 187291.74516232565, 187291.74516232565, 187548.82367184892, 187548.82367184892, 187548.82367184892, 187548.82367184892, 187677.36292661054, 187677.36292661054, 187805.90218137216, 187805.90218137216, 187805.90218137216, 187805.90218137216, 187805.90218137216, 187805.90218137216, 187805.90218137216, 187805.90218137216, 187934.4414361338, 187934.4414361338, 187934.4414361338, 188062.98069089543, 188062.98069089543, 188062.98069089543, 188062.98069089543, 188062.98069089543, 188320.05920041868, 188320.05920041868, 188320.05920041868, 188320.05920041868, 188320.05920041868, 188320.05920041868, 188448.59845518033, 188448.59845518033, 188577.13770994195, 188577.13770994195, 188577.13770994195, 188705.67696470357, 188705.67696470357, 188834.2162194652, 188834.2162194652, 188834.2162194652, 188834.2162194652, 188834.2162194652, 188962.75547422684, 188962.75547422684, 189091.29472898846, 189091.29472898846, 189091.29472898846, 189091.29472898846, 189091.29472898846, 189091.29472898846, 189091.29472898846, 189091.29472898846, 189091.29472898846, 189091.29472898846, 189348.3732385117, 189348.3732385117, 189476.91249327335, 189476.91249327335, 189605.45174803498, 189862.53025755822, 189862.53025755822, 189862.53025755822, 189862.53025755822, 190119.6087670815, 190119.6087670815, 190248.1480218431, 190248.1480218431, 190376.68727660473, 190376.68727660473, 190376.68727660473, 190376.68727660473, 190376.68727660473, 190376.68727660473, 190633.765786128, 190633.765786128, 190762.30504088962, 190890.84429565127, 190890.84429565127, 190890.84429565127, 191147.92280517452, 191147.92280517452, 191147.92280517452, 191147.92280517452, 191405.0013146978, 191533.5405694594, 191533.5405694594, 191662.07982422103, 191662.07982422103, 191662.07982422103, 191662.07982422103, 191790.61907898265, 191919.1583337443, 191919.1583337443, 191919.1583337443, 192047.69758850592, 192304.77609802916, 192304.77609802916, 192304.77609802916, 192433.3153527908, 192433.3153527908, 192433.3153527908, 192561.85460755244, 192561.85460755244, 192690.39386231406, 192690.39386231406, 192690.39386231406, 192947.47237183733, 192947.47237183733, 192947.47237183733, 192947.47237183733, 193204.55088136057, 193204.55088136057, 193204.55088136057, 193204.55088136057, 193461.62939088384, 193461.62939088384, 193590.16864564546, 193718.70790040708, 193718.70790040708, 193718.70790040708, 193975.78640993036, 193975.78640993036, 193975.78640993036, 194104.32566469198, 194104.32566469198, 194232.8649194536, 194232.8649194536, 194232.8649194536, 194489.94342897687, 194489.94342897687, 194489.94342897687, 194618.4826837385, 194618.4826837385, 194747.0219385001, 194875.56119326176, 194875.56119326176, 195004.10044802338, 195004.10044802338, 195004.10044802338, 195132.639702785, 195261.17895754662, 195518.2574670699, 195518.2574670699, 195518.2574670699, 195646.79672183152, 195646.79672183152, 195646.79672183152, 195775.33597659314, 195775.33597659314, 195903.8752313548, 196032.4144861164, 196032.4144861164, 196032.4144861164, 196032.4144861164, 196160.95374087803, 196289.49299563968, 196289.49299563968, 196418.0322504013, 196546.57150516292, 196546.57150516292, 196675.11075992454, 196675.11075992454, 196675.11075992454, 196803.6500146862, 196932.18926944782, 196932.18926944782, 196932.18926944782, 197060.72852420944, 197060.72852420944, 197317.8070337327, 197317.8070337327, 197446.34628849433, 197446.34628849433, 197574.88554325595, 197703.42479801757, 197831.96405277922, 197831.96405277922, 197960.50330754084, 197960.50330754084, 197960.50330754084, 198089.04256230246, 198089.04256230246, 198089.04256230246, 198089.04256230246, 198217.58181706409, 198346.12107182574, 198346.12107182574, 198346.12107182574, 198346.12107182574, 198474.66032658736, 198474.66032658736, 198474.66032658736, 198731.7388361106, 198731.7388361106, 198731.7388361106, 198860.27809087225, 198860.27809087225, 198860.27809087225, 198860.27809087225, 198860.27809087225, 198860.27809087225, 198860.27809087225, 199117.3566003955, 199245.89585515714, 199374.43510991876, 199374.43510991876, 199374.43510991876, 199374.43510991876, 199374.43510991876, 199502.97436468038, 199631.513619442, 199631.513619442, 199760.05287420365, 199888.59212896528, 199888.59212896528, 199888.59212896528, 200145.67063848852, 200145.67063848852, 200145.67063848852, 200274.20989325017, 200274.20989325017, 200274.20989325017, 200274.20989325017, 200402.7491480118, 200402.7491480118, 200402.7491480118, 200402.7491480118, 200402.7491480118, 200659.82765753503, 200659.82765753503, 200659.82765753503, 200916.9061670583, 201045.44542181992, 201173.98467658155, 201173.98467658155, 201173.98467658155, 201302.5239313432, 201688.1416956281, 201688.1416956281, 201688.1416956281, 201688.1416956281, 201688.1416956281, 201816.6809503897, 201816.6809503897, 201945.22020515133, 201945.22020515133, 202073.75945991295, 202202.2987146746, 202202.2987146746, 202202.2987146746, 202202.2987146746, 202330.83796943622, 202330.83796943622, 202459.37722419784, 202716.45573372112, 202716.45573372112, 202973.53424324436, 202973.53424324436, 203102.07349800598, 203102.07349800598, 203230.61275276763, 203230.61275276763, 203230.61275276763, 203230.61275276763, 203359.15200752925, 203359.15200752925, 203359.15200752925, 203359.15200752925, 203359.15200752925, 203359.15200752925, 203359.15200752925, 203359.15200752925, 203359.15200752925, 203359.15200752925, 203487.69126229087, 203487.69126229087, 203487.69126229087, 203487.69126229087, 203616.2305170525, 203616.2305170525, 203744.76977181414, 203744.76977181414, 203873.30902657576, 203873.30902657576, 203873.30902657576, 204001.84828133738, 204001.84828133738, 204001.84828133738, 204001.84828133738, 204258.92679086066, 204258.92679086066, 204258.92679086066, 204258.92679086066, 204258.92679086066, 204516.0053003839, 204644.54455514555, 204901.6230646688, 205030.1623194304, 205030.1623194304, 205030.1623194304, 205287.24082895368, 205287.24082895368, 205287.24082895368, 205287.24082895368, 205415.7800837153, 205801.3978480002, 205929.93710276182, 206058.47635752344, 206058.47635752344, 206058.47635752344, 206058.47635752344, 206058.47635752344, 206058.47635752344, 206058.47635752344, 206058.47635752344, 206315.5548670467, 206315.5548670467, 206315.5548670467, 206315.5548670467, 206444.09412180833, 206444.09412180833, 206572.63337656995, 206572.63337656995, 206572.63337656995, 206572.63337656995, 206572.63337656995, 206701.1726313316, 206701.1726313316, 206829.71188609322, 206829.71188609322, 206829.71188609322, 206829.71188609322, 206958.25114085485, 207086.7903956165, 207215.32965037812, 207343.86890513974, 207343.86890513974, 207343.86890513974, 207343.86890513974, 207472.40815990136, 207600.947414663, 207600.947414663, 207600.947414663, 207600.947414663, 207600.947414663, 207858.02592418625, 207858.02592418625, 207858.02592418625, 207986.56517894787, 208115.10443370952, 208243.64368847114, 208243.64368847114, 208243.64368847114, 208372.18294323276, 208500.7221979944, 208500.7221979944, 208500.7221979944, 208629.26145275604, 208629.26145275604, 208629.26145275604, 208886.33996227928, 209014.8792170409, 209143.41847180255, 209143.41847180255, 209143.41847180255, 209143.41847180255, 209271.95772656417, 209271.95772656417, 209271.95772656417, 209271.95772656417, 209400.4969813258, 209400.4969813258, 209786.11474561068, 209914.6540003723, 210043.19325513396, 210171.73250989558, 210171.73250989558, 210171.73250989558, 210171.73250989558, 210300.2717646572, 210300.2717646572, 210428.81101941882, 210428.81101941882, 210428.81101941882, 210428.81101941882, 210428.81101941882, 210428.81101941882, 210428.81101941882, 210685.8895289421, 210814.4287837037, 211200.0465479886, 211457.12505751185, 211714.20356703512, 211714.20356703512, 211714.20356703512, 211842.74282179674, 211842.74282179674, 211971.28207655836, 212099.82133132, 212099.82133132, 212099.82133132, 212356.89984084325, 212613.97835036652, 212871.05685988977, 212871.05685988977, 212871.05685988977, 212999.59611465142, 213256.67462417466, 213256.67462417466, 213256.67462417466, 213256.67462417466, 213256.67462417466, 213513.75313369793, 213642.29238845955, 213770.83164322117, 213770.83164322117, 213899.3708979828, 213899.3708979828, 213899.3708979828, 214027.91015274444, 214284.9886622677, 214284.9886622677, 214284.9886622677, 214284.9886622677, 214284.9886622677, 214284.9886622677, 214284.9886622677, 214413.5279170293, 214542.06717179096, 214542.06717179096, 214670.60642655258, 214670.60642655258, 214799.1456813142, 214799.1456813142, 214927.68493607582, 215056.22419083747, 215184.7634455991, 215313.3027003607, 215313.3027003607, 215313.3027003607, 215441.84195512236, 215441.84195512236, 215570.38120988398, 215570.38120988398, 215570.38120988398, 215698.9204646456, 215698.9204646456, 215827.45971940723, 215827.45971940723, 216084.5382289305, 216084.5382289305, 216213.07748369212, 216213.07748369212, 216598.695247977, 216598.695247977, 216598.695247977, 216598.695247977, 216598.695247977, 216598.695247977, 216598.695247977, 216855.77375750025, 216855.77375750025, 216855.77375750025, 216855.77375750025, 217112.85226702353, 217112.85226702353, 217112.85226702353, 217241.39152178515, 217241.39152178515, 217241.39152178515, 217627.00928607004, 217884.08779559328, 218141.16630511655, 218269.70555987817, 218269.70555987817, 218269.70555987817, 218398.24481463982, 218526.78406940144, 218655.32332416307, 218655.32332416307, 218912.40183368634, 219040.94108844796, 219426.55885273285, 219555.09810749447, 219683.6373622561, 219683.6373622561, 219812.1766170177, 219940.71587177936, 219940.71587177936, 219940.71587177936, 219940.71587177936, 220197.7943813026, 220197.7943813026, 220197.7943813026, 220197.7943813026, 220326.33363606423, 220454.87289082588, 220711.95140034912, 220711.95140034912, 220840.49065511077, 220969.0299098724, 221226.10841939563, 221226.10841939563, 221483.1869289189, 221483.1869289189, 221483.1869289189, 221483.1869289189, 221483.1869289189, 221611.72618368053, 221611.72618368053, 221611.72618368053, 221740.26543844215, 221997.34394796542, 221997.34394796542, 221997.34394796542, 222125.88320272704, 222254.42245748866, 222254.42245748866, 222254.42245748866, 222511.50096701193, 222511.50096701193, 222640.04022177355, 222768.57947653517, 222768.57947653517, 222768.57947653517, 222768.57947653517, 222768.57947653517, 222897.11873129682, 222897.11873129682, 223025.65798605845, 223154.19724082007, 223154.19724082007, 223282.7364955817, 223282.7364955817, 223411.27575034334, 223539.81500510496, 223539.81500510496, 223539.81500510496, 223539.81500510496, 223539.81500510496, 223539.81500510496, 223539.81500510496, 223668.35425986658, 223796.89351462823, 223796.89351462823, 223796.89351462823, 223925.43276938985, 224053.97202415147, 224053.97202415147, 224311.05053367474, 224311.05053367474, 224311.05053367474, 224311.05053367474, 224439.58978843637, 224439.58978843637, 224439.58978843637, 224568.129043198, 224568.129043198, 224568.129043198, 224825.20755272126, 224825.20755272126, 224825.20755272126, 224825.20755272126, 224953.74680748288, 225082.2860622445, 225082.2860622445, 225082.2860622445, 225210.82531700612, 225339.36457176777, 225339.36457176777, 225467.9038265294, 225467.9038265294, 225596.443081291, 225724.98233605264, 225724.98233605264, 225853.52159081429, 225853.52159081429, 225982.0608455759, 225982.0608455759, 226239.13935509918, 226367.6786098608, 226367.6786098608, 226624.75711938404, 226624.75711938404, 226624.75711938404, 226624.75711938404, 226881.8356289073, 226881.8356289073, 227010.37488366893, 227138.91413843055, 227267.4533931922, 227395.99264795383, 227524.53190271545, 227524.53190271545, 227653.07115747707, 227910.14966700034, 228167.22817652358, 228167.22817652358, 228167.22817652358, 228295.76743128523, 228295.76743128523, 228424.30668604685, 228552.84594080847, 228552.84594080847, 228681.3851955701, 228809.92445033175, 228809.92445033175, 228809.92445033175, 228809.92445033175, 228938.46370509337, 229067.002959855, 229067.002959855, 229195.54221461664, 229324.08146937826, 229452.62072413988, 229581.1599789015, 229581.1599789015, 229709.69923366315, 229709.69923366315, 229966.7777431864, 229966.7777431864, 230223.85625270967, 230352.3955074713, 230480.9347622329, 230480.9347622329, 230609.47401699453, 230995.09178127942, 231123.63103604104, 231123.63103604104, 231252.1702908027, 231252.1702908027, 231380.7095455643, 231380.7095455643, 231509.24880032594, 231637.78805508756, 231637.78805508756, 231766.3273098492, 231894.86656461083, 232023.40581937245, 232023.40581937245, 232023.40581937245, 232023.40581937245, 232023.40581937245, 232023.40581937245, 232151.9450741341, 232151.9450741341, 232409.02358365734, 232537.56283841896, 232666.1020931806, 232666.1020931806, 232666.1020931806, 232666.1020931806, 232794.64134794223, 232923.18060270385, 232923.18060270385, 232923.18060270385, 232923.18060270385, 233051.71985746548, 233051.71985746548, 233180.25911222713, 233308.79836698875, 233437.33762175037, 233565.876876512, 233565.876876512, 233694.41613127364, 233822.95538603526, 233951.49464079688, 233951.49464079688, 233951.49464079688, 233951.49464079688, 234080.0338955585, 234080.0338955585, 234080.0338955585, 234208.57315032015, 234337.11240508177, 234337.11240508177, 234594.19091460505, 234594.19091460505, 234594.19091460505, 234851.2694241283, 234851.2694241283, 234851.2694241283, 235108.34793365156, 235108.34793365156, 235108.34793365156, 235108.34793365156, 235365.4264431748, 235493.96569793642, 235622.50495269807, 235622.50495269807, 235622.50495269807, 235751.0442074597, 235879.58346222132, 236136.6619717446, 236265.2012265062, 236393.74048126783, 236522.27973602945, 236522.27973602945, 237036.43675507596, 237164.9760098376, 237164.9760098376, 237164.9760098376, 237293.51526459923, 237293.51526459923, 237422.05451936086, 237422.05451936086, 237679.13302888413, 237679.13302888413, 237936.21153840737, 238193.29004793064, 238450.36855745388, 238450.36855745388, 238450.36855745388, 238578.90781221553, 238578.90781221553, 238707.44706697715, 238964.5255765004, 238964.5255765004, 238964.5255765004, 239093.06483126205, 239221.60408602367, 239221.60408602367, 239350.1433407853, 239478.6825955469, 239607.22185030856, 239735.76110507018, 239735.76110507018, 239735.76110507018, 239864.3003598318, 239864.3003598318, 239992.83961459345, 240249.9181241167, 240249.9181241167, 240378.45737887832, 240378.45737887832, 240378.45737887832, 240378.45737887832, 240378.45737887832, 240506.99663363997, 240635.5358884016, 240892.61439792483, 240892.61439792483, 241021.15365268648, 241021.15365268648, 241021.15365268648, 241278.23216220972, 241278.23216220972, 241278.23216220972, 241535.310671733, 241792.38918125624, 241792.38918125624, 242049.4676907795, 242306.54620030275, 242306.54620030275, 242435.08545506437, 242692.16396458764, 242820.70321934926, 242820.70321934926, 242949.2424741109, 243077.78172887253, 243077.78172887253, 243077.78172887253, 243077.78172887253, 243077.78172887253, 243077.78172887253, 243206.32098363416, 243206.32098363416, 243334.86023839578, 243334.86023839578, 243591.93874791905, 243720.47800268067, 243720.47800268067, 243720.47800268067, 243849.0172574423, 243849.0172574423, 243849.0172574423, 243849.0172574423, 243849.0172574423, 244106.09576696556, 244363.1742764888, 244363.1742764888, 244363.1742764888, 244491.71353125045, 244620.25278601208, 244748.7920407737, 244877.33129553532, 244877.33129553532, 245005.87055029697, 245005.87055029697, 245134.4098050586, 245262.9490598202, 245391.48831458186, 245391.48831458186, 245391.48831458186, 245391.48831458186, 245648.5668241051, 245905.64533362837, 245905.64533362837, 246162.72384315162, 246291.26309791324, 246291.26309791324, 246291.26309791324, 246548.3416074365, 246805.42011695975, 246805.42011695975, 246805.42011695975, 246933.9593717214, 247191.03788124464, 247319.57713600626, 247448.11639076791, 247448.11639076791, 247448.11639076791, 247448.11639076791, 247448.11639076791, 247705.19490029116, 247705.19490029116, 247962.27340981443, 248090.81266457605, 248219.35191933767, 248219.35191933767, 248219.35191933767, 248347.89117409932, 248347.89117409932, 248347.89117409932, 248476.43042886094, 248604.96968362256, 248604.96968362256, 248604.96968362256, 248604.96968362256, 248604.96968362256, 248733.50893838418, 248862.04819314583, 249247.6659574307, 249247.6659574307, 249247.6659574307, 249247.6659574307, 249247.6659574307, 249504.74446695397, 249504.74446695397, 249504.74446695397, 249761.8229764772, 249761.8229764772, 249890.36223123886, 249890.36223123886, 250018.90148600048, 250018.90148600048, 250018.90148600048, 250147.4407407621, 250275.97999552372, 250275.97999552372, 250533.058505047, 250918.6762693319, 250918.6762693319, 251175.75477885513, 251304.29403361678, 251304.29403361678, 251304.29403361678, 251561.37254314002, 251561.37254314002, 251689.91179790164, 251818.4510526633, 252204.06881694816, 252332.6080717098, 252332.6080717098, 252332.6080717098, 252461.14732647143, 252589.68658123305, 252589.68658123305, 252718.22583599467, 252718.22583599467, 252718.22583599467, 252718.22583599467, 252846.76509075632, 253103.84360027956, 253360.92210980284, 253360.92210980284, 253618.00061932608, 253618.00061932608, 253618.00061932608, 253618.00061932608, 253618.00061932608, 253618.00061932608, 253618.00061932608, 253618.00061932608, 253618.00061932608, 253618.00061932608, 254260.69689313424, 254389.23614789586, 254389.23614789586, 254389.23614789586, 254389.23614789586, 254646.3146574191, 254903.39316694238, 255160.47167646562, 255160.47167646562, 255160.47167646562, 255417.5501859889, 255417.5501859889, 255546.0894407505, 255546.0894407505, 255931.7072050354, 256702.9427336052, 257731.25677169822, 258245.41379074473, 258502.49230026797, 258502.49230026797, 258502.49230026797, 258759.57080979124, 259145.18857407614, 259402.26708359938, 259787.88484788427, 259787.88484788427, 260044.9633574075, 260173.50261216916, 260173.50261216916, 260302.04186693078, 260559.12037645403, 260559.12037645403, 261073.27739550054, 261201.8166502622, 261330.3559050238, 261587.43441454705, 261844.51292407032, 261844.51292407032, 262101.5914335936, 262230.1306883552, 262230.1306883552, 262487.2091978785, 262872.8269621633, 262872.8269621633, 262872.8269621633, 262872.8269621633, 262872.8269621633, 263001.366216925, 263129.9054716866, 263258.4447264483, 263258.4447264483, 263386.98398120987, 263901.1410002564, 264286.75876454124, 264929.4550383494, 265700.69056691916, 265957.76907644246, 265957.76907644246, 265957.76907644246, 266214.8475859657, 266343.3868407273, 266471.92609548895, 266471.92609548895, 266600.4653502506, 266729.00460501225, 266857.54385977384, 266986.08311453543, 267500.24013358203, 267500.24013358203, 267500.24013358203, 267500.24013358203, 267757.3186431052, 267757.3186431052, 267757.3186431052, 267757.3186431052, 267885.85789786687, 268271.47566215176, 268528.554171675, 268528.554171675, 268528.554171675, 268785.6326811983, 269042.71119072154, 269299.7897002448, 269299.7897002448, 269299.7897002448, 269428.32895500644, 270071.0252288146, 271356.41777643084, 271356.41777643084, 271484.9570311925, 271613.49628595414, 271742.03554071573, 272127.6533050006, 273670.1243621402, 273670.1243621402, 274184.2813811867, 275469.67392880295, 275469.67392880295, 275726.75243832625, 275983.8309478495, 276369.4487121344, 276497.98796689603, 278426.07678832044, 278554.6160430821, 278554.6160430821, 279454.39082641347, 279840.00859069836, 279968.54784546, 280868.3226287914, 280868.3226287914, 281253.9403930763, 281382.4796478379, 282025.17592164606, 282153.71517640766, 283310.56846926233, 283439.107724024, 283953.26474307047, 284210.34325259377, 284210.34325259377, 284338.88250735536, 284467.42176211695, 285110.1180359251, 285495.73580021004, 285752.8143097333, 285752.8143097333, 286009.8928192565, 286909.66760258796, 287552.3638763961, 288580.67791448906, 288580.67791448906, 288580.67791448906, 289351.91344305885, 290380.22748115193, 290894.3845001984, 291151.4630097217, 291151.4630097217, 291151.4630097217, 292179.7770478147, 292693.9340668612, 292951.01257638447, 293208.09108590777, 293208.09108590777, 293208.09108590777, 293593.7088501926, 293979.3266144775, 293979.3266144775, 294493.48363352404, 294493.48363352404, 294750.5621430473, 295393.2584168554, 296678.6509644717, 296807.19021923334, 297449.8864930415, 297449.8864930415, 297706.9650025648, 297964.043512088, 298735.2790406578, 299377.97531446593, 301048.9856263671, 302719.99593826826, 303105.61370255315, 303619.7707215997, 304133.9277406462, 304262.4669954078, 305162.2417787392, 306062.01656207064, 306576.1735811171, 307990.10538349504, 308632.8016573032, 308889.8801668264, 313774.3718477683, 314288.52886681486, 315188.30365014623, 316473.69619776256, 317244.9317263323, 318658.8635287102, 318658.8635287102, 321872.34489775094, 324057.51222869864, 324443.12999298354, 325857.06179536146, 332026.9460239196, 335111.8881381987, 335368.96664772194, 335497.5059024836, 338968.06578104757, 340253.45832866384, 341410.3116215185, 342824.24342389643, 345652.1070286523, 346680.4210667453, 348222.8921238848, 348994.1276524546, 351564.9127476872, 351821.99125721044, 352464.6875310186, 355678.1689000593, 355935.24740958255, 359534.34654290817, 369946.0261786001, 375216.1356238269, 378043.9992285827, 381900.1768714316, 404008.9286904317, 434858.34983322263, 446426.8827617692, 634608.3517327937, 686409.67140173], \"yaxis\": \"y\"}],\n",
              "                        {\"legend\": {\"tracegroupgap\": 0}, \"margin\": {\"t\": 60}, \"template\": {\"data\": {\"bar\": [{\"error_x\": {\"color\": \"#2a3f5f\"}, \"error_y\": {\"color\": \"#2a3f5f\"}, \"marker\": {\"line\": {\"color\": \"#E5ECF6\", \"width\": 0.5}}, \"type\": \"bar\"}], \"barpolar\": [{\"marker\": {\"line\": {\"color\": \"#E5ECF6\", \"width\": 0.5}}, \"type\": \"barpolar\"}], \"carpet\": [{\"aaxis\": {\"endlinecolor\": \"#2a3f5f\", \"gridcolor\": \"white\", \"linecolor\": \"white\", \"minorgridcolor\": \"white\", \"startlinecolor\": \"#2a3f5f\"}, \"baxis\": {\"endlinecolor\": \"#2a3f5f\", \"gridcolor\": \"white\", \"linecolor\": \"white\", \"minorgridcolor\": \"white\", \"startlinecolor\": \"#2a3f5f\"}, \"type\": \"carpet\"}], \"choropleth\": [{\"colorbar\": {\"outlinewidth\": 0, \"ticks\": \"\"}, \"type\": \"choropleth\"}], \"contour\": [{\"colorbar\": {\"outlinewidth\": 0, \"ticks\": \"\"}, \"colorscale\": [[0.0, \"#0d0887\"], [0.1111111111111111, \"#46039f\"], [0.2222222222222222, \"#7201a8\"], [0.3333333333333333, \"#9c179e\"], [0.4444444444444444, \"#bd3786\"], [0.5555555555555556, \"#d8576b\"], [0.6666666666666666, \"#ed7953\"], [0.7777777777777778, \"#fb9f3a\"], [0.8888888888888888, \"#fdca26\"], [1.0, \"#f0f921\"]], \"type\": \"contour\"}], \"contourcarpet\": [{\"colorbar\": {\"outlinewidth\": 0, \"ticks\": \"\"}, \"type\": \"contourcarpet\"}], \"heatmap\": [{\"colorbar\": {\"outlinewidth\": 0, \"ticks\": \"\"}, \"colorscale\": [[0.0, \"#0d0887\"], [0.1111111111111111, \"#46039f\"], [0.2222222222222222, \"#7201a8\"], [0.3333333333333333, \"#9c179e\"], [0.4444444444444444, \"#bd3786\"], [0.5555555555555556, \"#d8576b\"], [0.6666666666666666, \"#ed7953\"], [0.7777777777777778, \"#fb9f3a\"], [0.8888888888888888, \"#fdca26\"], [1.0, \"#f0f921\"]], \"type\": \"heatmap\"}], \"heatmapgl\": [{\"colorbar\": {\"outlinewidth\": 0, \"ticks\": \"\"}, \"colorscale\": [[0.0, \"#0d0887\"], [0.1111111111111111, \"#46039f\"], [0.2222222222222222, \"#7201a8\"], [0.3333333333333333, \"#9c179e\"], [0.4444444444444444, \"#bd3786\"], [0.5555555555555556, \"#d8576b\"], [0.6666666666666666, \"#ed7953\"], [0.7777777777777778, \"#fb9f3a\"], [0.8888888888888888, \"#fdca26\"], [1.0, \"#f0f921\"]], \"type\": \"heatmapgl\"}], \"histogram\": [{\"marker\": {\"colorbar\": {\"outlinewidth\": 0, \"ticks\": \"\"}}, \"type\": \"histogram\"}], \"histogram2d\": [{\"colorbar\": {\"outlinewidth\": 0, \"ticks\": \"\"}, \"colorscale\": [[0.0, \"#0d0887\"], [0.1111111111111111, \"#46039f\"], [0.2222222222222222, \"#7201a8\"], [0.3333333333333333, \"#9c179e\"], [0.4444444444444444, \"#bd3786\"], [0.5555555555555556, \"#d8576b\"], [0.6666666666666666, \"#ed7953\"], [0.7777777777777778, \"#fb9f3a\"], [0.8888888888888888, \"#fdca26\"], [1.0, \"#f0f921\"]], \"type\": \"histogram2d\"}], \"histogram2dcontour\": [{\"colorbar\": {\"outlinewidth\": 0, \"ticks\": \"\"}, \"colorscale\": [[0.0, \"#0d0887\"], [0.1111111111111111, \"#46039f\"], [0.2222222222222222, \"#7201a8\"], [0.3333333333333333, \"#9c179e\"], [0.4444444444444444, \"#bd3786\"], [0.5555555555555556, \"#d8576b\"], [0.6666666666666666, \"#ed7953\"], [0.7777777777777778, \"#fb9f3a\"], [0.8888888888888888, \"#fdca26\"], [1.0, \"#f0f921\"]], \"type\": \"histogram2dcontour\"}], \"mesh3d\": [{\"colorbar\": {\"outlinewidth\": 0, \"ticks\": \"\"}, \"type\": \"mesh3d\"}], \"parcoords\": [{\"line\": {\"colorbar\": {\"outlinewidth\": 0, \"ticks\": \"\"}}, \"type\": \"parcoords\"}], \"pie\": [{\"automargin\": true, \"type\": \"pie\"}], \"scatter\": [{\"marker\": {\"colorbar\": {\"outlinewidth\": 0, \"ticks\": \"\"}}, \"type\": \"scatter\"}], \"scatter3d\": [{\"line\": {\"colorbar\": {\"outlinewidth\": 0, \"ticks\": \"\"}}, \"marker\": {\"colorbar\": {\"outlinewidth\": 0, \"ticks\": \"\"}}, \"type\": \"scatter3d\"}], \"scattercarpet\": [{\"marker\": {\"colorbar\": {\"outlinewidth\": 0, \"ticks\": \"\"}}, \"type\": \"scattercarpet\"}], \"scattergeo\": [{\"marker\": {\"colorbar\": {\"outlinewidth\": 0, \"ticks\": \"\"}}, \"type\": \"scattergeo\"}], \"scattergl\": [{\"marker\": {\"colorbar\": {\"outlinewidth\": 0, \"ticks\": \"\"}}, \"type\": \"scattergl\"}], \"scattermapbox\": [{\"marker\": {\"colorbar\": {\"outlinewidth\": 0, \"ticks\": \"\"}}, \"type\": \"scattermapbox\"}], \"scatterpolar\": [{\"marker\": {\"colorbar\": {\"outlinewidth\": 0, \"ticks\": \"\"}}, \"type\": \"scatterpolar\"}], \"scatterpolargl\": [{\"marker\": {\"colorbar\": {\"outlinewidth\": 0, \"ticks\": \"\"}}, \"type\": \"scatterpolargl\"}], \"scatterternary\": [{\"marker\": {\"colorbar\": {\"outlinewidth\": 0, \"ticks\": \"\"}}, \"type\": \"scatterternary\"}], \"surface\": [{\"colorbar\": {\"outlinewidth\": 0, \"ticks\": \"\"}, \"colorscale\": [[0.0, \"#0d0887\"], [0.1111111111111111, \"#46039f\"], [0.2222222222222222, \"#7201a8\"], [0.3333333333333333, \"#9c179e\"], [0.4444444444444444, \"#bd3786\"], [0.5555555555555556, \"#d8576b\"], [0.6666666666666666, \"#ed7953\"], [0.7777777777777778, \"#fb9f3a\"], [0.8888888888888888, \"#fdca26\"], [1.0, \"#f0f921\"]], \"type\": \"surface\"}], \"table\": [{\"cells\": {\"fill\": {\"color\": \"#EBF0F8\"}, \"line\": {\"color\": \"white\"}}, \"header\": {\"fill\": {\"color\": \"#C8D4E3\"}, \"line\": {\"color\": \"white\"}}, \"type\": \"table\"}]}, \"layout\": {\"annotationdefaults\": {\"arrowcolor\": \"#2a3f5f\", \"arrowhead\": 0, \"arrowwidth\": 1}, \"coloraxis\": {\"colorbar\": {\"outlinewidth\": 0, \"ticks\": \"\"}}, \"colorscale\": {\"diverging\": [[0, \"#8e0152\"], [0.1, \"#c51b7d\"], [0.2, \"#de77ae\"], [0.3, \"#f1b6da\"], [0.4, \"#fde0ef\"], [0.5, \"#f7f7f7\"], [0.6, \"#e6f5d0\"], [0.7, \"#b8e186\"], [0.8, \"#7fbc41\"], [0.9, \"#4d9221\"], [1, \"#276419\"]], \"sequential\": [[0.0, \"#0d0887\"], [0.1111111111111111, \"#46039f\"], [0.2222222222222222, \"#7201a8\"], [0.3333333333333333, \"#9c179e\"], [0.4444444444444444, \"#bd3786\"], [0.5555555555555556, \"#d8576b\"], [0.6666666666666666, \"#ed7953\"], [0.7777777777777778, \"#fb9f3a\"], [0.8888888888888888, \"#fdca26\"], [1.0, \"#f0f921\"]], \"sequentialminus\": [[0.0, \"#0d0887\"], [0.1111111111111111, \"#46039f\"], [0.2222222222222222, \"#7201a8\"], [0.3333333333333333, \"#9c179e\"], [0.4444444444444444, \"#bd3786\"], [0.5555555555555556, \"#d8576b\"], [0.6666666666666666, \"#ed7953\"], [0.7777777777777778, \"#fb9f3a\"], [0.8888888888888888, \"#fdca26\"], [1.0, \"#f0f921\"]]}, \"colorway\": [\"#636efa\", \"#EF553B\", \"#00cc96\", \"#ab63fa\", \"#FFA15A\", \"#19d3f3\", \"#FF6692\", \"#B6E880\", \"#FF97FF\", \"#FECB52\"], \"font\": {\"color\": \"#2a3f5f\"}, \"geo\": {\"bgcolor\": \"white\", \"lakecolor\": \"white\", \"landcolor\": \"#E5ECF6\", \"showlakes\": true, \"showland\": true, \"subunitcolor\": \"white\"}, \"hoverlabel\": {\"align\": \"left\"}, \"hovermode\": \"closest\", \"mapbox\": {\"style\": \"light\"}, \"paper_bgcolor\": \"white\", \"plot_bgcolor\": \"#E5ECF6\", \"polar\": {\"angularaxis\": {\"gridcolor\": \"white\", \"linecolor\": \"white\", \"ticks\": \"\"}, \"bgcolor\": \"#E5ECF6\", \"radialaxis\": {\"gridcolor\": \"white\", \"linecolor\": \"white\", \"ticks\": \"\"}}, \"scene\": {\"xaxis\": {\"backgroundcolor\": \"#E5ECF6\", \"gridcolor\": \"white\", \"gridwidth\": 2, \"linecolor\": \"white\", \"showbackground\": true, \"ticks\": \"\", \"zerolinecolor\": \"white\"}, \"yaxis\": {\"backgroundcolor\": \"#E5ECF6\", \"gridcolor\": \"white\", \"gridwidth\": 2, \"linecolor\": \"white\", \"showbackground\": true, \"ticks\": \"\", \"zerolinecolor\": \"white\"}, \"zaxis\": {\"backgroundcolor\": \"#E5ECF6\", \"gridcolor\": \"white\", \"gridwidth\": 2, \"linecolor\": \"white\", \"showbackground\": true, \"ticks\": \"\", \"zerolinecolor\": \"white\"}}, \"shapedefaults\": {\"line\": {\"color\": \"#2a3f5f\"}}, \"ternary\": {\"aaxis\": {\"gridcolor\": \"white\", \"linecolor\": \"white\", \"ticks\": \"\"}, \"baxis\": {\"gridcolor\": \"white\", \"linecolor\": \"white\", \"ticks\": \"\"}, \"bgcolor\": \"#E5ECF6\", \"caxis\": {\"gridcolor\": \"white\", \"linecolor\": \"white\", \"ticks\": \"\"}}, \"title\": {\"x\": 0.05}, \"xaxis\": {\"automargin\": true, \"gridcolor\": \"white\", \"linecolor\": \"white\", \"ticks\": \"\", \"title\": {\"standoff\": 15}, \"zerolinecolor\": \"white\", \"zerolinewidth\": 2}, \"yaxis\": {\"automargin\": true, \"gridcolor\": \"white\", \"linecolor\": \"white\", \"ticks\": \"\", \"title\": {\"standoff\": 15}, \"zerolinecolor\": \"white\", \"zerolinewidth\": 2}}}, \"xaxis\": {\"anchor\": \"y\", \"domain\": [0.0, 1.0], \"title\": {\"text\": \"1st_Flr_SF\"}}, \"yaxis\": {\"anchor\": \"x\", \"domain\": [0.0, 1.0], \"title\": {\"text\": \"SalePrice\"}}},\n",
              "                        {\"responsive\": true}\n",
              "                    ).then(function(){\n",
              "                            \n",
              "var gd = document.getElementById('cac4cc26-e415-4eae-bb9d-90f8f0e25172');\n",
              "var x = new MutationObserver(function (mutations, observer) {{\n",
              "        var display = window.getComputedStyle(gd).display;\n",
              "        if (!display || display === 'none') {{\n",
              "            console.log([gd, 'removed!']);\n",
              "            Plotly.purge(gd);\n",
              "            observer.disconnect();\n",
              "        }}\n",
              "}});\n",
              "\n",
              "// Listen for the removal of the full notebook cells\n",
              "var notebookContainer = gd.closest('#notebook-container');\n",
              "if (notebookContainer) {{\n",
              "    x.observe(notebookContainer, {childList: true});\n",
              "}}\n",
              "\n",
              "// Listen for the clearing of the current output cell\n",
              "var outputEl = gd.closest('.output');\n",
              "if (outputEl) {{\n",
              "    x.observe(outputEl, {childList: true});\n",
              "}}\n",
              "\n",
              "                        })\n",
              "                };\n",
              "                \n",
              "            </script>\n",
              "        </div>\n",
              "</body>\n",
              "</html>"
            ]
          },
          "metadata": {
            "tags": []
          }
        }
      ]
    },
    {
      "cell_type": "code",
      "metadata": {
        "id": "5ypei71K2ntM",
        "colab_type": "code",
        "colab": {
          "base_uri": "https://localhost:8080/",
          "height": 542
        },
        "outputId": "6b94ef78-7397-4417-8e79-82b5827e615b"
      },
      "source": [
        "px.scatter(homes, x='Lot_Area', y='SalePrice', trendline='ols')"
      ],
      "execution_count": 28,
      "outputs": [
        {
          "output_type": "display_data",
          "data": {
            "text/html": [
              "<html>\n",
              "<head><meta charset=\"utf-8\" /></head>\n",
              "<body>\n",
              "    <div>\n",
              "            <script src=\"https://cdnjs.cloudflare.com/ajax/libs/mathjax/2.7.5/MathJax.js?config=TeX-AMS-MML_SVG\"></script><script type=\"text/javascript\">if (window.MathJax) {MathJax.Hub.Config({SVG: {font: \"STIX-Web\"}});}</script>\n",
              "                <script type=\"text/javascript\">window.PlotlyConfig = {MathJaxConfig: 'local'};</script>\n",
              "        <script src=\"https://cdn.plot.ly/plotly-latest.min.js\"></script>    \n",
              "            <div id=\"23e4e99c-3426-493f-acb2-3014181a60dc\" class=\"plotly-graph-div\" style=\"height:525px; width:100%;\"></div>\n",
              "            <script type=\"text/javascript\">\n",
              "                \n",
              "                    window.PLOTLYENV=window.PLOTLYENV || {};\n",
              "                    \n",
              "                if (document.getElementById(\"23e4e99c-3426-493f-acb2-3014181a60dc\")) {\n",
              "                    Plotly.newPlot(\n",
              "                        '23e4e99c-3426-493f-acb2-3014181a60dc',\n",
              "                        [{\"hoverlabel\": {\"namelength\": 0}, \"hovertemplate\": \"Lot_Area=%{x}<br>SalePrice=%{y}\", \"legendgroup\": \"\", \"marker\": {\"color\": \"#636efa\", \"symbol\": \"circle\"}, \"mode\": \"markers\", \"name\": \"\", \"showlegend\": false, \"type\": \"scattergl\", \"x\": [31770, 11622, 14267, 11160, 13830, 9978, 4920, 5005, 5389, 7500, 10000, 7980, 8402, 10176, 6820, 53504, 12134, 11394, 19138, 13175, 11751, 10625, 7500, 11241, 12537, 8450, 8400, 10500, 5858, 1680, 1680, 1680, 4043, 2280, 2280, 2280, 12858, 11478, 10159, 12883, 12182, 11520, 14122, 10171, 12919, 6371, 14300, 13650, 7658, 7132, 2628, 18494, 3203, 3182, 13300, 8577, 7750, 9505, 14774, 17433, 10593, 12256, 11764, 16770, 14720, 8987, 9215, 8640, 9000, 12552, 10440, 10142, 11920, 8880, 8012, 11218, 7892, 7175, 9453, 9672, 8400, 9800, 8930, 11782, 8450, 9819, 7500, 6897, 15410, 10186, 13143, 11134, 4835, 3515, 3215, 3182, 2544, 2544, 4403, 2117, 2980, 2572, 2403, 12853, 7379, 4420, 3880, 13517, 8000, 10456, 10791, 10603, 18837, 10421, 9360, 9600, 9600, 9790, 9320, 9900, 9680, 10600, 14112, 8800, 13260, 9717, 9724, 17360, 7207, 5350, 9920, 9600, 7800, 11380, 11600, 19900, 16492, 8267, 8197, 8050, 10552, 8400, 8760, 12160, 9300, 10725, 10032, 8382, 10950, 10895, 13587, 7922, 7898, 7200, 10200, 5868, 17503, 6979, 9830, 11275, 8064, 7500, 8520, 7200, 10000, 7635, 9760, 7700, 4800, 8800, 4485, 8960, 5805, 5790, 4608, 7200, 5500, 6900, 11851, 8239, 9656, 8520, 9600, 10800, 9000, 9045, 7407, 7740, 11340, 10560, 5830, 7793, 5000, 6000, 6000, 6360, 6000, 6240, 6240, 6120, 10300, 8094, 12900, 3068, 8472, 5600, 7630, 24090, 15263, 10632, 9900, 6001, 6449, 6048, 6342, 10773, 10778, 11625, 11341, 8521, 8246, 7800, 9364, 7832, 7424, 11227, 11616, 14000, 20062, 9259, 9600, 23595, 17082, 18600, 10625, 11479, 9571, 9350, 9525, 10420, 17485, 11200, 11100, 9206, 11980, 12361, 9938, 9069, 10475, 6762, 10402, 7360, 12376, 14235, 8816, 11105, 9337, 8750, 15240, 10900, 10650, 7480, 10389, 11423, 9548, 9375, 12137, 4435, 4426, 10635, 8400, 8773, 8777, 8842, 9825, 10044, 11792, 6305, 7819, 6410, 8546, 8741, 12180, 8562, 4853, 6858, 8212, 5000, 7890, 7200, 9839, 9638, 10452, 15600, 9042, 17500, 19645, 3907, 3907, 15602, 5436, 8154, 9140, 7500, 8712, 8712, 8712, 3811, 11050, 9620, 9196, 12328, 12760, 57200, 11896, 9803, 9802, 12003, 11316, 14191, 13214, 15300, 10114, 9400, 11875, 1974, 2394, 2592, 1476, 1491, 1900, 1890, 6953, 26142, 12887, 7700, 10475, 10544, 9892, 12961, 13008, 10200, 13860, 10179, 11792, 8400, 14892, 8530, 7296, 5664, 7380, 8013, 8923, 10141, 7500, 7837, 9765, 8803, 7250, 9636, 8125, 9248, 10762, 11851, 5814, 17423, 11844, 16158, 11900, 13005, 17043, 11900, 16635, 13250, 10928, 12388, 14115, 11088, 9600, 11880, 10400, 10304, 7000, 8004, 7500, 8470, 9373, 10140, 11050, 10140, 10448, 9000, 8750, 7930, 7830, 8510, 7038, 6960, 8120, 10500, 9000, 1680, 2368, 1680, 1680, 1680, 1680, 4928, 2308, 2280, 2280, 2308, 2349, 2364, 2289, 2364, 2104, 7150, 10710, 12456, 14257, 13518, 15431, 13173, 14230, 12704, 12350, 11308, 12350, 12220, 13478, 13693, 13891, 11578, 16870, 23303, 11146, 10367, 9591, 10872, 13514, 8834, 11362, 10655, 12878, 9541, 13472, 15274, 13262, 9658, 6904, 5381, 5122, 10307, 5001, 14836, 15262, 7390, 6472, 16770, 6240, 3480, 2268, 10928, 8918, 12589, 11911, 3684, 3635, 3182, 3182, 3182, 3182, 7795, 8068, 9434, 7984, 7750, 10125, 8965, 8174, 5063, 8795, 12224, 9734, 8123, 8433, 7750, 15896, 24682, 8755, 7848, 9430, 15138, 12720, 16545, 12203, 10208, 10750, 9900, 9085, 11692, 46589, 29959, 9612, 11194, 10206, 9262, 10130, 9139, 9675, 11128, 8640, 9000, 7862, 8640, 8640, 12606, 9187, 7500, 11003, 10603, 10574, 8125, 8125, 10625, 9375, 7500, 8736, 8127, 9605, 7500, 7500, 10628, 10141, 13072, 13072, 12450, 7328, 11492, 10994, 8529, 7703, 10762, 7175, 9109, 10274, 8250, 8400, 9000, 9750, 7064, 8499, 9079, 9316, 7791, 10000, 8281, 7150, 15676, 11949, 2880, 3951, 3000, 3830, 4217, 3230, 2998, 3768, 2645, 14694, 3782, 15417, 9600, 9991, 11700, 11717, 9156, 10382, 12732, 12936, 10400, 17871, 9600, 9000, 13774, 9650, 10140, 8400, 7130, 9600, 9100, 9600, 16500, 9790, 7436, 8125, 9100, 9450, 13495, 11475, 10004, 9350, 10500, 11000, 8970, 12095, 9600, 11475, 9768, 5330, 7015, 12160, 9900, 9600, 9600, 9600, 9600, 8944, 10573, 9500, 14695, 13600, 13000, 13560, 12513, 8760, 8400, 12285, 9240, 9600, 12400, 8750, 8750, 10400, 19296, 8532, 9482, 8128, 10634, 13070, 10434, 14559, 8480, 7626, 9533, 10615, 11419, 9600, 8000, 5470, 10410, 10800, 8146, 9022, 10230, 10410, 7200, 5400, 5400, 10800, 10800, 9671, 10143, 11500, 11643, 8010, 10454, 8712, 17600, 9000, 12144, 8544, 8064, 7200, 7200, 7350, 7560, 7200, 8000, 7931, 10800, 8064, 7570, 8604, 7936, 6600, 3950, 10440, 4080, 10307, 5720, 15660, 9900, 6406, 6600, 7627, 7596, 3378, 10134, 6000, 6000, 6000, 7404, 5925, 5925, 5784, 8520, 4456, 9600, 3500, 8100, 11700, 8400, 3600, 17671, 3300, 9000, 7200, 8820, 5400, 9720, 7879, 9392, 21384, 6615, 7264, 4960, 8854, 6000, 6000, 6000, 6000, 6000, 6000, 6911, 6120, 6120, 6120, 6120, 6120, 6120, 8635, 11888, 11414, 8094, 2500, 9928, 5520, 3000, 6876, 6240, 5775, 5852, 5160, 5160, 10320, 4280, 10800, 10800, 10547, 10020, 6629, 9780, 12886, 8816, 11184, 11625, 7800, 8014, 7252, 8740, 11616, 15400, 15312, 15584, 9000, 11250, 25095, 17140, 12342, 10708, 13680, 15635, 9855, 9571, 9571, 9350, 9340, 7440, 11500, 4235, 11409, 9060, 9084, 10778, 19255, 12327, 14684, 9317, 10560, 9828, 26400, 7018, 7018, 7018, 7018, 7018, 7018, 7040, 7007, 11855, 7939, 7976, 10933, 10637, 10226, 10816, 9178, 10769, 11422, 11923, 8814, 6762, 10324, 7314, 11645, 11646, 12800, 16698, 28698, 12464, 9757, 15426, 10667, 14753, 10859, 8072, 10400, 10335, 9017, 8750, 8935, 9808, 12420, 16285, 10739, 11166, 8430, 16269, 6950, 8800, 7000, 9286, 15523, 7200, 7200, 8445, 11664, 12334, 11838, 11885, 11050, 11250, 15750, 11883, 12782, 8750, 9375, 8750, 9100, 9750, 4435, 4435, 10200, 9313, 8487, 8633, 11069, 8777, 9937, 8877, 7301, 7950, 10682, 7200, 13286, 3675, 9405, 6410, 11767, 8405, 4060, 10206, 10926, 11767, 8926, 12354, 8212, 10998, 6300, 4500, 8400, 9900, 15863, 5707, 7804, 8574, 6171, 7200, 7558, 6292, 7155, 10918, 13680, 7500, 9600, 14680, 13360, 7681, 8145, 9100, 12000, 13339, 15600, 14000, 17500, 1733, 1488, 1612, 1300, 13607, 17597, 21695, 10690, 8660, 6402, 8470, 10200, 3843, 21780, 10125, 12822, 12118, 12209, 9750, 9360, 10125, 9947, 11070, 14375, 215245, 12898, 13159, 13438, 14463, 8925, 11457, 9839, 14419, 6853, 9157, 14601, 12633, 12518, 21750, 4500, 4500, 1596, 9858, 1526, 13383, 1477, 1533, 2217, 7689, 7706, 9101, 8780, 7669, 14115, 10429, 9819, 10457, 11029, 12925, 11075, 8702, 8139, 9535, 9042, 15038, 14137, 21872, 4923, 6264, 5395, 5070, 10839, 11184, 8000, 10832, 14067, 4671, 5950, 13543, 11198, 15401, 31220, 8118, 47280, 20544, 12680, 12090, 10825, 18559, 14450, 12227, 13068, 15611, 10400, 9743, 12511, 11361, 10400, 10480, 10000, 14311, 9000, 9750, 10295, 7560, 12735, 4060, 1680, 1680, 1890, 1869, 1680, 1680, 1680, 4043, 2308, 2529, 9477, 12444, 12474, 14803, 14948, 12704, 13891, 13693, 14418, 13418, 12539, 12151, 8899, 10574, 12720, 13688, 10625, 10845, 16900, 16451, 10110, 8769, 12304, 12677, 8849, 8232, 6240, 6240, 2448, 2448, 8198, 3940, 3940, 3182, 3182, 3710, 9024, 7415, 9587, 8029, 8010, 8396, 7301, 10261, 8220, 15384, 12460, 8390, 9660, 9200, 14260, 11000, 11675, 10990, 11929, 10437, 10542, 10010, 10944, 14303, 11932, 14598, 11957, 13253, 14587, 10206, 12274, 9801, 9428, 8640, 8640, 9803, 9375, 10625, 10800, 10625, 7500, 8791, 7500, 10110, 12774, 13072, 13695, 13695, 8366, 9260, 8453, 8480, 8125, 14565, 8450, 8285, 7153, 9291, 8012, 7892, 9100, 12968, 8100, 8450, 6360, 6768, 19508, 10759, 9205, 11025, 4282, 4017, 3435, 3180, 3180, 3604, 2280, 2280, 4765, 4538, 4385, 4109, 5119, 2160, 2160, 10646, 2645, 2645, 3951, 14963, 11064, 10846, 11120, 24572, 16280, 10400, 11104, 11050, 11040, 15387, 9750, 10800, 8814, 8872, 8125, 11072, 13101, 9246, 13355, 8963, 9120, 9130, 12122, 9900, 7785, 8593, 8475, 8700, 10175, 9020, 9200, 8250, 9350, 9020, 9900, 10007, 10721, 12493, 11332, 6627, 4130, 7420, 4882, 9600, 9600, 9600, 9600, 7584, 13700, 10197, 7875, 8400, 9150, 14670, 7390, 9204, 7763, 8856, 9840, 9120, 13200, 9000, 11900, 9464, 10425, 11556, 9373, 12774, 14250, 7350, 7677, 8838, 8480, 12436, 10122, 7506, 10930, 5400, 10836, 10800, 9247, 10180, 11355, 10920, 12929, 27650, 8892, 7200, 7200, 7910, 8000, 8000, 7931, 8064, 6390, 7227, 7200, 8513, 7200, 7200, 7056, 9760, 7590, 9836, 5232, 10440, 9184, 4800, 10440, 4800, 6000, 11426, 11426, 7628, 7308, 5400, 10800, 6756, 5914, 6000, 12000, 9000, 7311, 6000, 6000, 12205, 18386, 9142, 12665, 5350, 4571, 9143, 9600, 9600, 6000, 9600, 10800, 6300, 5250, 5700, 13500, 11340, 10800, 9750, 12150, 12702, 8516, 7111, 7425, 9100, 7010, 6130, 5000, 5870, 6000, 6000, 6000, 6000, 6000, 5000, 5520, 6240, 6120, 6240, 6240, 6120, 6120, 6155, 6324, 8635, 13053, 9120, 9144, 9144, 10267, 8094, 5100, 4347, 6291, 10266, 6876, 10320, 7200, 7006, 7920, 8235, 5586, 10320, 10320, 10320, 9488, 8250, 21286, 17120, 10106, 11235, 11200, 13014, 7162, 10265, 9764, 7703, 9981, 7400, 12900, 12900, 9000, 8544, 9239, 14175, 13284, 13500, 13825, 10200, 10532, 8375, 10200, 2887, 10005, 20270, 39104, 53227, 11512, 5190, 10452, 45600, 19550, 21780, 13728, 9571, 9350, 9360, 8405, 7000, 10880, 9600, 9084, 11839, 9771, 9938, 14171, 10541, 10616, 9345, 11778, 11778, 11228, 11454, 11500, 12798, 9750, 9525, 9245, 8696, 13142, 8998, 9179, 8924, 9382, 12803, 12435, 12192, 11250, 9200, 8385, 12250, 10970, 9216, 14330, 7990, 7180, 7200, 9742, 10316, 10400, 9066, 11404, 9240, 9720, 14860, 11250, 8158, 10905, 7226, 11690, 8750, 4435, 4426, 13125, 10126, 9135, 8450, 9750, 8450, 8320, 11049, 11058, 9627, 8199, 4426, 4426, 4438, 4438, 8777, 8777, 9825, 9937, 12102, 6500, 13907, 10012, 6931, 9638, 7200, 7024, 63887, 3675, 6040, 6012, 12108, 6845, 6931, 12180, 8050, 9520, 11767, 8172, 16466, 7692, 5142, 5604, 8248, 5687, 12155, 8400, 8400, 7290, 8525, 9842, 7804, 8969, 11526, 15576, 15564, 6292, 7609, 10480, 9650, 7200, 11988, 11700, 9260, 7801, 9670, 14100, 15660, 12392, 26073, 14778, 1879, 1950, 7000, 6000, 3636, 5890, 6900, 8155, 6000, 7392, 9000, 14584, 5280, 8500, 5150, 18000, 9000, 5587, 3843, 3811, 3842, 23730, 13265, 11050, 9880, 10125, 10260, 9990, 164660, 4084, 15498, 11563, 9520, 12852, 9802, 12018, 12890, 12416, 18265, 10200, 11202, 7915, 12244, 11449, 11447, 8940, 7060, 9278, 4500, 14137, 4224, 2665, 2665, 1974, 1596, 17979, 1477, 1890, 21750, 6490, 6951, 6600, 6600, 6600, 12508, 12395, 11075, 56600, 10667, 10628, 13651, 15865, 12394, 10364, 13869, 8773, 8872, 5330, 10147, 8637, 7875, 7875, 7500, 9556, 10784, 9125, 7655, 18160, 3696, 5062, 4740, 5118, 14157, 12328, 51974, 41600, 8035, 8089, 14082, 13870, 12546, 10960, 12090, 12090, 12299, 11339, 11952, 12046, 10395, 11850, 11584, 10400, 10793, 13001, 12243, 11700, 12384, 8991, 8000, 10500, 10530, 7472, 9457, 7920, 9758, 8294, 7340, 17199, 9000, 4058, 4113, 10943, 2205, 1890, 2058, 2016, 1920, 4928, 2308, 2304, 7150, 12469, 11694, 12030, 11825, 12085, 14333, 14450, 13641, 13440, 15431, 14154, 13891, 14226, 13693, 11428, 14977, 13654, 17169, 16659, 9591, 9709, 10562, 13615, 13069, 12099, 14277, 11999, 12568, 9926, 9254, 10732, 7577, 3901, 3903, 6289, 4590, 4590, 6442, 7841, 7313, 7820, 6240, 3242, 10237, 10237, 13204, 8857, 9729, 12216, 9018, 8993, 8899, 8499, 8229, 7713, 7697, 3922, 3922, 3621, 3710, 14572, 16219, 11084, 11796, 10936, 8244, 7875, 8063, 8740, 7917, 9967, 7750, 9487, 9649, 15623, 12191, 11000, 11400, 10557, 11002, 10790, 21535, 9920, 11787, 9950, 12257, 12692, 11762, 9044, 9910, 11830, 11670, 15256, 10612, 12291, 13501, 9986, 9416, 9849, 10000, 8847, 9158, 8251, 10084, 9605, 8778, 8640, 9000, 8640, 10411, 9000, 9000, 11096, 10207, 10440, 11824, 10625, 11143, 7500, 7500, 12450, 7441, 8462, 11613, 8450, 16196, 8012, 8012, 9180, 8400, 6285, 8480, 7420, 7758, 6970, 13673, 7476, 9945, 6173, 19522, 17542, 10751, 16647, 12712, 9572, 10678, 4379, 3523, 3784, 4230, 3606, 4251, 2280, 3230, 2117, 2117, 2117, 5105, 2645, 7399, 7321, 8010, 8413, 9466, 12000, 16157, 10768, 3840, 9600, 9600, 17778, 18890, 7050, 11700, 8000, 8723, 11700, 11358, 9547, 10530, 11500, 10738, 9600, 10800, 8050, 10355, 10289, 9503, 10624, 10899, 12342, 12772, 8892, 10482, 7535, 7450, 8339, 14357, 8243, 8680, 8800, 9200, 9350, 8800, 11382, 22002, 14585, 7388, 9842, 8280, 12172, 5000, 5000, 3500, 5175, 9500, 9600, 11345, 9492, 9480, 8668, 10050, 9600, 10150, 11344, 18450, 8760, 6860, 8250, 8176, 9750, 9250, 11988, 9100, 9736, 9770, 10152, 12155, 12198, 10050, 11556, 8078, 10950, 7942, 8923, 8540, 7134, 7150, 8400, 13300, 9532, 15783, 14190, 9600, 12099, 21281, 10134, 5500, 10284, 10800, 10800, 5400, 10090, 8700, 8300, 11606, 8064, 11664, 10496, 7200, 7200, 7200, 7000, 7500, 7315, 7903, 8000, 8000, 7000, 9760, 7590, 6600, 6760, 6978, 9600, 6000, 4480, 7200, 3153, 10800, 7200, 9000, 6000, 5925, 5925, 6000, 9639, 3880, 8520, 10337, 9863, 9600, 4571, 13600, 8398, 9900, 3600, 13500, 7200, 5400, 8100, 10800, 9439, 8626, 11800, 6854, 8674, 8731, 8737, 6125, 6000, 6000, 6120, 6240, 6240, 6240, 6120, 6120, 6120, 6240, 6180, 7755, 13515, 8850, 8550, 8730, 5700, 8520, 5680, 5680, 7758, 7449, 13200, 6882, 9000, 9780, 10320, 4330, 7200, 4800, 12358, 10120, 4388, 10320, 12888, 18030, 8160, 4484, 11235, 11235, 14299, 7943, 14149, 11677, 8400, 7094, 8978, 8425, 8665, 8398, 7742, 8724, 8197, 8169, 14175, 16779, 25339, 6960, 11375, 13770, 9000, 115149, 11075, 10029, 17541, 22692, 17808, 12671, 12615, 10512, 5400, 11515, 7711, 9098, 3869, 9280, 11100, 7550, 9060, 23920, 10357, 13474, 10380, 13125, 11287, 9317, 9965, 9965, 9178, 10481, 10652, 11175, 10235, 9588, 8814, 11103, 8556, 6762, 11750, 8760, 7242, 9316, 9317, 14364, 8883, 159000, 53107, 12205, 20064, 14217, 8775, 11249, 10021, 9531, 8428, 16561, 8070, 9337, 10820, 12352, 9543, 8826, 10665, 11317, 11800, 8660, 9720, 8982, 16300, 9675, 7700, 10356, 7200, 7200, 10386, 9375, 11354, 8749, 8749, 8158, 16226, 11927, 12728, 15295, 11248, 10000, 4435, 17227, 8200, 8450, 8145, 9245, 8500, 8769, 8334, 8333, 9045, 9170, 9825, 8308, 10921, 16287, 8240, 11841, 6285, 7917, 9555, 8536, 7024, 7023, 39290, 40094, 3675, 6400, 6882, 10215, 8741, 4270, 10042, 9450, 11767, 8172, 8172, 8190, 10896, 10890, 10592, 10594, 7223, 6821, 7200, 4000, 6720, 7642, 7155, 7128, 4280, 5362, 6305, 7136, 6270, 7230, 13108, 22420, 12168, 7810, 11275, 6221, 10570, 7259, 14442, 13125, 21000, 25485, 21579, 1782, 17871, 3907, 20693, 18044, 8500, 7000, 5000, 7288, 6060, 9060, 3672, 8263, 8967, 13710, 11067, 8250, 6565, 6060, 5568, 4750, 12150, 7540, 9187, 10000, 12864, 9928, 8750, 8410, 4054, 9763, 16905, 19958, 8368, 9037, 10991, 10656, 10331, 13758, 9303, 6718, 9590, 11305, 7777, 14536, 11800, 35133, 15306, 12633, 12665, 8402, 43500, 6710, 25286, 25000, 32463, 4224, 4224, 1504, 1533, 1495, 2001, 1936, 1890, 11333, 9129, 15957, 33983, 8286, 6723, 7244, 27697, 7599, 11000, 8314, 11625, 10712, 10447, 11027, 10533, 11765, 39384, 11727, 8238, 13006, 13041, 13031, 9783, 11207, 19378, 14859, 13128, 10463, 13751, 23257, 13108, 8076, 7685, 9084, 3701, 5306, 6563, 16023, 18062, 12292, 16056, 12438, 16052, 15922, 13682, 14762, 34650, 8147, 11302, 18261, 14145, 13837, 16659, 18800, 10464, 10400, 10530, 10240, 16692, 11475, 9927, 9512, 10530, 10140, 10140, 10140, 10000, 15870, 9353, 8125, 7200, 8773, 2760, 2160, 1953, 1890, 1680, 1680, 1680, 1680, 1680, 4043, 7514, 7838, 2280, 2179, 16737, 16387, 16259, 16163, 12228, 14780, 16033, 14215, 13418, 13975, 10240, 9942, 11924, 10672, 11643, 12378, 11065, 13758, 14828, 11846, 20431, 10927, 13215, 7052, 5911, 6955, 6792, 7740, 6373, 3136, 10237, 10237, 10237, 17104, 14054, 11660, 15578, 11631, 9073, 3087, 3196, 3196, 2938, 3072, 3072, 3010, 3010, 3013, 3982, 4045, 21930, 7861, 9056, 9171, 11194, 7875, 8121, 8658, 11214, 10852, 12104, 8738, 9452, 9660, 9545, 35760, 9233, 12011, 12090, 10019, 17242, 10236, 10120, 12585, 12447, 20896, 10182, 8688, 10936, 8640, 13162, 11216, 10728, 8125, 8125, 8125, 7200, 7500, 7200, 7733, 11024, 13072, 13072, 13072, 7800, 7632, 8304, 7153, 9370, 7175, 7175, 9019, 8900, 7800, 9100, 9100, 8927, 9240, 8471, 9308, 8450, 8638, 13052, 13526, 8020, 6993, 8789, 14330, 16059, 11025, 14541, 13346, 12461, 3628, 3316, 3180, 2544, 2544, 3180, 2998, 3735, 2651, 4447, 8314, 7180, 9549, 11250, 3760, 3640, 3874, 3876, 50271, 13110, 10192, 20781, 11700, 11029, 10400, 10140, 9600, 9750, 9600, 8640, 9360, 8400, 8400, 9759, 9600, 9230, 14803, 10659, 9100, 8393, 8800, 8800, 10368, 9350, 10382, 8973, 10800, 8550, 11425, 9724, 4712, 5900, 5825, 7438, 9600, 10858, 9600, 10680, 9490, 9462, 9888, 8917, 12700, 8500, 14200, 9000, 25419, 9723, 7728, 8163, 8400, 11600, 9610, 10000, 14850, 10152, 10011, 7032, 8092, 11310, 12778, 10170, 7700, 11050, 13600, 15428, 21299, 13300, 22136, 7500, 7000, 10410, 5400, 5400, 10914, 7008, 10800, 7200, 10818, 10410, 10800, 10800, 8658, 13400, 10184, 9786, 9510, 7800, 8910, 7332, 7100, 10800, 11650, 18275, 16321, 12144, 10800, 7200, 7200, 7560, 8544, 8544, 8544, 8512, 7945, 7000, 7590, 10205, 7400, 7000, 7000, 9856, 9906, 9600, 5520, 9600, 9600, 6451, 3960, 5684, 7745, 7741, 5633, 9000, 7200, 4400, 7614, 6000, 6000, 7830, 9576, 5820, 5747, 9142, 9600, 10800, 6300, 5000, 8850, 3600, 7200, 11340, 22950, 5976, 9750, 4761, 7446, 6435, 11737, 5000, 7800, 6240, 6240, 6120, 6120, 6240, 6240, 6120, 6000, 6000, 6380, 11672, 33120, 9873, 5310, 4118, 10320, 7518, 9000, 8600, 7200, 9786, 6780, 7200, 12375, 11136, 21370, 6930, 8250, 5220, 5500, 11235, 10791, 8414, 11327, 11777, 10366, 9000, 11553, 7844, 9535, 10335, 7176, 9662, 8235, 13650, 13125, 17920, 17529, 10246, 14175, 20355, 13050, 15593, 10820, 13350, 1700, 5271, 9375, 6488, 7800, 19690, 19950, 19800, 11679, 12048, 10519, 9525, 9525, 6420, 8335, 7585, 11200, 12128, 9554, 9069, 11003, 7488, 7406, 6762, 11210, 8990, 8760, 13377, 11645, 11645, 10984, 9316, 9316, 10041, 36500, 21453, 70761, 12000, 8846, 13015, 12438, 8685, 13568, 9100, 9236, 10264, 9272, 13426, 13450, 14006, 13704, 10780, 8340, 10385, 9920, 9560, 9800, 7200, 3612, 11367, 9930, 9468, 11088, 14781, 8726, 8125, 10566, 21533, 11250, 11250, 9750, 9100, 4435, 4435, 15611, 8810, 12393, 9135, 8581, 8400, 10084, 11645, 8772, 8846, 8461, 8767, 8777, 17755, 8877, 7840, 9400, 16133, 7162, 11060, 3675, 3675, 3675, 2522, 2522, 2522, 2522, 3363, 6956, 7822, 8707, 8410, 9738, 8172, 16012, 8248, 8248, 6204, 8088, 11388, 7082, 8400, 10890, 6430, 7000, 13132, 4899, 6000, 9399, 7588, 10164, 6191, 9550, 21780, 11435, 12400, 11600, 11500, 8170, 16560, 12320, 14210, 14115, 12984, 15600, 15750, 16381, 7288, 7000, 8534, 7030, 8765, 9060, 11040, 12366, 9000, 9000, 8520, 5748, 3842, 23580, 8385, 9116, 10530, 11080, 11070, 26178, 8239, 50102, 16669, 13811, 8049, 11170, 8098, 14331, 13618, 11443, 11577, 31250, 7020, 4500, 4500, 17217, 2665, 2665, 3964, 10172, 11836, 1470, 1484, 13384, 1533, 1533, 1526, 1936, 1894, 12640, 9297, 17400, 20000, 7937, 8885, 10441, 10010, 9627], \"xaxis\": \"x\", \"y\": [215000, 105000, 172000, 244000, 189900, 195500, 213500, 191500, 236500, 189000, 175900, 185000, 180400, 171500, 212000, 538000, 164000, 394432, 141000, 210000, 190000, 170000, 216000, 149000, 149900, 142000, 126000, 115000, 184000, 96000, 105500, 88000, 127500, 149900, 120000, 146000, 376162, 306000, 395192, 290941, 220000, 275000, 259000, 214000, 611657, 224000, 500000, 320000, 319900, 205000, 175500, 199500, 160000, 192000, 184500, 185088, 180000, 222500, 333168, 355000, 260400, 325000, 290000, 221000, 410000, 221500, 204500, 215200, 262500, 254900, 271500, 233000, 181000, 205000, 143000, 189000, 99500, 125000, 194500, 152000, 171000, 67500, 112000, 148000, 138500, 122000, 133000, 127000, 169000, 190000, 362500, 285000, 260000, 190000, 155000, 151000, 149500, 152000, 222000, 177500, 177000, 155000, 147110, 267916, 254000, 155000, 206000, 130500, 230000, 218500, 243500, 205000, 212500, 196500, 197500, 171000, 142250, 143000, 128950, 159000, 178900, 136300, 180500, 137500, 84900, 142125, 197600, 172500, 116500, 76500, 128000, 153000, 132000, 178000, 154300, 180000, 190000, 135000, 214000, 136000, 165500, 145000, 148000, 142000, 167500, 108538, 159500, 108000, 135000, 122500, 119000, 109000, 105000, 107500, 144900, 129000, 97500, 144000, 162000, 242000, 132000, 154000, 166000, 134800, 160000, 148000, 192000, 155000, 80400, 96500, 109500, 115000, 143000, 107400, 80000, 119000, 130000, 119000, 129000, 100000, 12789, 105900, 150000, 139000, 240000, 76500, 149700, 125500, 122500, 140750, 128500, 209500, 87000, 134000, 128000, 132000, 139900, 123900, 138400, 109500, 140000, 149500, 159900, 122000, 110000, 55000, 140000, 244400, 173000, 107500, 100000, 95000, 93369, 114900, 94000, 136000, 136500, 131500, 121500, 125000, 154000, 137900, 158000, 137250, 160250, 163000, 158900, 328000, 270000, 85000, 128000, 260000, 230000, 124000, 83000, 144500, 129000, 127000, 128000, 186000, 308030, 114000, 84900, 178000, 270000, 218000, 236000, 147000, 245350, 206000, 198900, 187000, 320000, 138500, 155000, 159000, 191000, 200500, 150000, 161750, 128200, 127000, 318000, 272000, 237000, 240000, 224900, 143750, 143000, 232000, 213000, 185500, 84900, 155891, 100000, 144000, 64000, 125200, 107000, 90000, 140000, 113000, 80000, 144500, 104000, 128000, 58500, 127000, 126000, 160000, 100000, 169000, 257500, 215000, 266500, 335000, 203135, 185000, 162500, 289000, 125500, 82000, 110000, 68400, 102776, 55993, 50138, 246000, 254900, 190000, 201000, 169900, 170000, 160000, 220000, 179781, 174000, 269500, 214900, 202900, 378500, 169000, 173500, 139000, 166500, 83500, 119500, 85000, 76000, 75500, 88250, 85500, 130000, 157900, 149900, 159000, 136000, 161000, 285000, 231000, 124500, 157000, 345000, 189500, 270000, 189000, 377500, 168500, 375000, 278000, 240000, 239500, 177500, 185000, 191000, 178000, 185000, 181316, 166000, 178000, 174000, 173000, 225000, 180500, 187500, 501837, 372500, 260000, 185000, 260000, 181000, 82500, 215000, 154000, 200000, 249000, 187500, 184000, 278000, 157000, 152000, 197500, 240900, 263435, 220000, 235000, 213000, 167900, 158000, 165000, 158000, 136000, 148500, 156000, 128000, 143000, 76500, 120500, 124500, 97000, 130000, 111000, 125000, 112000, 97000, 118000, 119500, 143750, 146000, 148500, 123000, 147000, 137900, 147000, 148500, 138000, 128500, 100000, 148800, 337500, 462000, 485000, 555000, 325000, 256300, 253293, 398800, 335000, 404000, 402861, 451950, 610000, 582933, 360000, 296000, 409900, 255500, 335000, 274900, 300000, 324000, 350000, 280000, 284000, 269500, 233170, 386250, 445000, 290000, 255900, 213000, 196000, 184500, 212500, 230000, 552000, 382500, 320000, 248500, 286500, 254000, 173000, 173000, 184000, 167800, 174000, 174000, 174000, 175900, 192500, 181000, 180000, 160200, 188500, 200000, 170000, 189500, 184100, 195500, 192000, 178000, 207500, 236000, 244000, 167000, 179000, 190000, 156000, 245000, 181000, 214000, 168000, 337000, 403000, 327000, 340000, 336000, 265000, 315000, 260000, 260000, 263550, 402000, 248000, 244600, 275000, 257500, 287090, 275500, 245000, 253000, 468000, 252678, 210000, 208300, 229456, 229800, 250000, 370878, 238500, 310000, 270000, 252000, 241000, 264500, 291000, 263000, 185000, 234500, 209000, 159000, 152000, 143500, 193000, 203000, 159000, 142000, 153000, 224243, 220000, 257000, 189000, 171500, 120000, 145000, 184000, 162000, 160000, 82000, 76000, 110000, 135000, 141000, 122000, 124100, 129000, 131400, 62383, 123000, 275000, 235000, 280750, 164500, 173733, 222000, 195000, 172500, 180000, 156000, 172500, 318750, 211500, 241600, 180500, 150000, 154000, 185000, 185750, 200000, 206000, 162000, 256900, 197900, 163000, 113000, 230000, 167900, 213250, 227000, 130000, 143000, 117500, 168500, 172500, 161500, 141500, 118000, 127500, 140000, 177625, 110000, 167000, 153000, 145100, 154000, 177500, 158000, 124500, 174500, 122000, 82500, 110000, 149500, 175000, 167000, 128900, 140000, 147000, 124000, 187500, 159000, 256000, 205000, 193500, 110000, 104900, 150000, 156500, 176000, 149500, 139000, 155000, 120000, 153000, 144000, 176000, 153000, 135000, 131000, 123000, 126000, 115000, 164900, 113000, 145500, 102900, 95000, 152500, 129900, 132000, 99900, 135000, 149000, 114000, 109500, 125000, 142900, 156500, 59000, 105000, 106000, 78500, 190000, 154000, 163000, 200000, 143500, 135000, 153000, 157500, 113500, 133000, 92900, 128500, 90000, 138000, 128000, 139000, 118900, 138000, 132500, 133500, 135000, 144750, 145000, 127000, 109500, 115000, 110000, 128900, 103500, 66500, 130000, 129000, 150000, 107500, 94550, 124500, 135000, 103000, 93000, 129500, 93000, 80000, 45000, 37900, 91300, 99500, 113000, 87500, 110000, 106000, 265979, 160000, 119000, 168000, 58500, 143000, 85000, 124900, 119000, 146500, 34900, 44000, 223500, 149000, 205000, 137000, 121000, 128000, 134900, 117000, 132500, 93000, 119000, 100000, 141500, 133000, 60000, 105000, 115000, 150000, 126500, 214500, 167500, 155000, 155000, 179900, 104000, 62500, 149000, 103000, 123000, 97500, 135000, 70000, 116000, 88750, 179000, 179000, 159900, 61000, 103600, 63000, 175000, 139000, 172500, 113500, 130000, 149900, 134900, 137000, 139000, 165000, 148000, 165000, 63900, 161500, 143000, 135000, 82500, 190000, 139600, 122000, 127500, 121500, 60000, 154400, 113000, 125000, 84000, 139500, 131000, 105000, 108000, 162000, 156500, 316600, 271900, 213000, 239900, 239500, 131000, 118964, 153337, 147983, 118858, 118858, 142953, 148325, 113722, 269500, 269500, 269500, 323262, 297000, 295493, 332000, 239900, 212000, 272500, 239000, 220000, 200000, 221800, 194500, 237000, 173000, 275000, 233500, 185000, 152000, 143000, 231500, 212000, 207000, 145000, 138000, 197900, 204000, 192000, 200000, 195000, 227000, 230000, 187100, 203000, 201000, 124000, 140000, 134900, 150500, 136500, 143500, 133500, 123000, 133900, 133000, 250000, 254750, 236500, 261500, 313000, 211000, 220000, 203000, 279500, 210000, 219500, 191000, 178000, 213000, 144000, 140000, 293200, 190000, 190000, 173500, 170000, 108000, 167000, 100000, 198500, 159500, 127000, 125000, 320000, 145500, 118000, 85000, 120000, 98000, 99900, 82000, 119900, 103500, 112000, 110000, 122000, 117000, 160000, 159434, 60000, 139500, 197000, 105000, 135000, 147500, 137450, 155000, 177000, 145000, 137000, 234000, 205000, 177500, 160000, 155000, 163500, 154900, 205000, 144800, 174500, 193000, 158000, 158500, 224000, 115000, 137000, 121000, 124000, 208000, 315000, 222000, 147000, 123000, 78000, 85000, 75000, 230000, 57625, 251000, 239686, 240000, 215000, 156450, 173000, 126000, 173000, 152000, 137500, 375000, 315500, 224500, 410000, 316500, 201000, 175000, 204000, 213500, 220000, 170000, 315000, 425000, 139500, 115000, 162000, 165000, 91000, 130000, 86000, 160000, 80000, 97000, 88000, 131900, 131250, 165500, 112000, 149000, 143000, 130000, 196000, 173000, 176500, 237500, 206900, 187500, 165000, 195500, 192000, 173000, 177900, 175000, 286000, 247900, 180000, 180000, 181000, 183000, 188000, 194500, 185000, 189000, 188500, 355000, 325000, 387000, 115000, 334000, 133000, 215000, 226500, 175500, 181900, 235000, 220000, 272000, 161000, 175000, 185000, 146900, 292500, 180000, 159900, 205000, 157000, 306000, 133000, 151000, 111900, 123000, 111250, 181000, 103400, 100000, 100500, 106000, 85400, 89500, 111750, 140000, 143000, 148500, 110000, 394617, 426000, 385000, 446261, 317500, 372402, 417500, 383000, 390000, 460000, 379000, 250000, 316000, 615000, 412500, 284000, 284000, 421250, 370000, 336860, 367294, 192000, 274000, 266000, 370967, 234250, 219500, 155000, 154000, 207000, 195000, 219990, 191000, 159895, 187687, 179000, 193000, 190000, 176000, 188000, 213000, 217300, 186500, 226750, 184000, 225000, 185900, 284500, 315000, 250000, 291000, 350000, 279500, 290000, 350000, 341000, 287500, 271000, 301500, 235128, 214000, 232000, 240000, 264132, 245000, 227680, 257000, 297900, 212700, 250580, 226700, 250000, 250000, 339750, 256000, 230348, 207500, 141000, 188000, 192500, 146000, 159000, 155000, 173000, 170000, 182000, 163000, 193500, 189000, 190500, 175000, 179200, 187000, 193000, 153900, 128000, 144000, 135000, 115000, 119916, 142000, 192000, 140000, 290000, 372500, 196000, 171900, 178000, 165000, 146000, 146000, 179400, 172900, 300000, 285000, 290000, 305000, 328900, 160000, 170000, 223000, 170000, 200000, 345000, 245500, 217500, 324000, 162500, 150000, 290000, 174000, 183000, 150000, 145000, 215000, 140500, 240000, 141000, 147000, 135000, 145000, 142600, 135000, 170000, 299800, 185000, 173000, 178400, 176000, 98000, 109008, 135750, 155000, 180500, 174900, 140000, 145000, 179900, 168500, 140000, 145500, 142000, 141000, 153000, 72500, 52000, 118000, 87000, 141500, 119000, 141500, 165500, 112900, 201800, 163000, 139950, 174000, 165000, 227000, 135000, 124000, 140000, 136500, 185000, 163000, 166800, 139000, 166000, 136000, 133000, 116000, 137500, 130000, 180000, 139000, 110000, 100000, 118500, 146000, 89900, 114000, 140000, 86900, 139000, 106250, 171000, 139000, 186000, 157000, 148000, 242000, 116000, 94000, 98300, 127000, 159000, 125900, 155000, 138000, 112500, 105500, 127500, 130000, 150000, 109500, 140000, 167900, 136870, 143000, 73000, 157500, 122600, 111000, 256000, 64000, 139500, 118000, 200000, 119164, 122250, 120000, 155000, 78000, 95000, 115000, 147000, 140000, 46500, 112500, 107900, 65000, 295000, 139500, 153900, 132000, 98000, 114000, 130000, 129500, 129400, 161000, 163000, 128000, 122000, 116900, 325000, 55000, 184000, 110000, 131500, 97000, 115500, 138000, 108000, 79500, 153000, 109500, 124000, 106900, 164900, 119000, 120000, 157000, 105000, 113000, 115000, 123000, 81300, 162900, 150000, 123500, 129900, 128000, 68500, 127000, 207000, 184000, 162500, 145000, 130000, 160000, 161000, 127500, 93850, 136000, 141000, 120000, 127500, 127000, 89500, 125000, 79900, 85000, 82375, 135000, 124000, 134000, 135000, 134432, 127500, 148000, 129500, 157500, 109900, 145000, 130000, 153000, 120000, 152000, 108959, 95541, 80000, 149350, 144900, 185000, 165000, 235000, 140000, 108000, 145000, 152400, 144000, 173000, 192000, 245000, 241500, 256000, 177000, 125600, 155000, 240000, 260000, 185000, 235000, 159900, 99600, 134500, 119000, 107500, 125000, 79000, 95000, 262280, 260000, 226500, 225000, 229000, 177439, 248500, 475000, 395039, 228000, 225000, 195000, 200000, 155000, 144000, 145000, 226001, 215700, 207500, 193000, 188000, 191000, 221000, 231500, 235000, 223500, 130250, 149900, 158000, 147000, 143195, 163000, 110000, 127000, 124900, 230000, 235000, 230500, 230000, 222500, 287000, 274000, 300000, 255900, 224900, 240000, 183000, 207000, 210000, 136500, 145000, 208900, 185000, 214000, 208500, 186500, 210000, 185900, 179900, 218836, 193000, 189000, 149300, 141000, 149000, 144500, 85000, 145900, 123000, 147500, 165000, 135000, 108000, 137500, 165400, 147000, 160500, 176000, 160000, 148000, 82000, 82000, 118000, 82500, 91900, 120000, 96000, 99000, 130500, 135000, 135500, 100000, 108000, 98000, 67000, 135900, 140000, 179500, 136500, 168000, 130000, 189000, 161900, 145000, 191000, 177000, 147500, 91000, 231000, 115000, 138000, 149000, 188700, 198000, 110000, 104000, 257076, 381000, 311500, 263400, 236500, 224000, 116500, 151000, 126000, 120000, 55000, 120500, 120500, 119000, 126000, 99500, 165500, 13100, 89000, 40000, 80900, 81000, 65000, 392500, 294464, 250000, 275000, 300000, 271000, 213000, 171000, 171500, 100000, 228500, 228950, 241500, 287000, 294000, 293077, 264966, 172500, 218689, 150000, 184000, 180000, 175000, 232500, 195000, 305000, 298751, 370000, 209200, 206300, 146000, 160500, 173000, 124000, 115000, 129500, 105000, 94900, 152500, 98000, 81000, 113000, 128500, 119500, 130500, 138000, 134500, 160000, 137500, 172000, 103000, 167300, 167000, 244000, 268000, 225000, 168000, 177000, 169000, 161500, 251000, 160000, 180000, 178750, 176000, 204000, 160000, 160000, 163900, 168000, 154204, 170000, 207500, 182000, 212000, 377426, 349265, 591587, 155000, 319900, 392000, 441929, 455000, 182900, 174000, 178000, 176000, 213000, 192000, 190000, 195000, 148000, 151500, 197000, 192350, 152000, 170000, 175000, 175000, 197900, 174000, 178900, 139000, 143250, 184000, 155000, 133000, 119500, 123000, 110000, 128000, 120500, 133000, 155000, 177000, 113500, 113000, 113700, 106000, 122500, 128000, 155000, 142500, 129250, 356000, 314813, 318000, 322400, 318000, 345474, 415298, 492000, 338931, 450000, 280000, 479069, 395000, 380000, 250000, 440000, 418000, 500067, 260116, 317000, 319500, 325624, 372000, 342000, 354000, 350000, 285000, 281500, 245700, 232698, 250000, 194700, 204000, 200000, 207000, 209500, 209500, 202500, 280000, 277500, 318061, 221370, 200000, 176000, 178900, 168165, 171925, 198444, 203000, 179540, 176485, 181134, 156932, 166000, 177594, 173500, 172500, 194201, 226500, 185485, 259000, 188500, 175000, 215000, 206580, 183500, 211000, 181000, 219500, 175000, 170000, 162000, 187000, 185000, 745000, 384500, 248000, 466500, 410000, 322500, 252000, 755000, 269790, 315750, 290000, 290000, 430000, 263000, 330000, 213133, 260261, 320000, 282922, 215000, 419005, 255000, 147000, 311872, 248328, 227000, 260000, 225000, 249000, 307000, 250000, 221300, 208900, 210400, 255000, 212109, 270000, 303477, 249700, 227875, 261329, 253000, 265000, 340000, 146000, 147000, 149000, 181000, 201000, 191750, 179000, 215000, 179200, 128000, 144000, 144000, 120750, 132500, 132000, 132500, 129000, 143900, 145000, 128500, 125500, 300000, 294000, 129000, 171000, 147000, 302000, 285000, 214000, 166000, 193800, 208900, 194000, 164700, 176500, 176000, 168500, 177000, 177000, 148800, 174000, 239000, 204000, 301000, 312500, 279700, 255000, 194000, 218000, 213750, 187000, 181500, 373000, 190000, 226000, 143450, 240050, 162500, 164000, 185000, 188500, 255000, 136905, 158500, 175500, 127000, 127000, 143000, 156000, 144000, 119000, 103000, 139900, 151500, 126500, 145000, 120000, 124000, 106500, 140500, 137500, 117600, 163500, 161000, 158000, 224500, 147000, 200000, 181900, 150750, 101800, 124000, 138500, 39300, 64500, 64000, 112000, 165000, 144000, 137000, 105000, 146500, 126000, 175000, 158500, 114500, 144000, 129000, 141000, 131000, 142100, 139000, 157900, 139400, 150000, 120000, 174850, 116000, 135000, 163500, 130000, 129500, 142000, 128600, 125000, 136000, 134500, 127000, 130000, 115000, 116900, 132000, 153000, 112500, 138000, 135000, 156000, 301600, 109000, 103200, 128500, 64500, 148000, 86000, 172000, 120000, 128500, 135000, 122900, 119200, 143000, 119000, 102000, 129000, 135000, 152000, 140000, 152000, 156500, 141000, 99000, 187000, 169500, 125500, 130000, 103000, 132000, 127500, 89500, 140000, 99900, 100000, 130000, 135000, 120000, 89471, 85000, 108500, 137000, 110500, 100000, 184900, 145000, 125000, 114000, 90000, 144100, 117500, 124500, 185000, 133900, 152000, 153500, 159500, 87000, 104500, 110000, 136500, 128250, 144000, 210000, 135000, 128000, 131000, 113000, 126000, 132000, 131750, 132500, 137500, 132000, 127500, 102000, 200000, 180500, 165000, 90000, 153575, 140000, 136000, 113000, 117000, 169500, 139400, 202500, 127000, 141000, 212300, 161000, 99500, 101000, 109900, 128500, 122000, 87000, 50000, 219000, 200500, 126000, 108500, 130000, 158450, 115400, 118500, 165000, 123000, 129000, 125000, 108000, 119900, 115000, 134500, 127000, 129000, 143500, 129000, 187000, 158000, 112000, 165250, 150000, 137000, 89500, 302000, 182000, 211000, 216000, 130000, 109900, 255000, 243000, 154000, 118000, 80000, 150000, 86000, 130000, 125000, 136500, 96000, 120000, 228500, 179900, 225000, 301000, 238000, 228500, 220000, 383970, 424870, 250000, 360000, 279500, 200141, 246500, 276000, 203000, 155835, 194000, 195400, 217000, 212999, 175900, 191000, 176432, 277000, 207000, 277000, 240000, 187500, 279000, 139500, 126000, 177500, 175000, 211000, 146000, 147900, 123600, 204750, 235500, 217000, 190550, 217500, 226000, 180000, 131000, 153500, 160000, 134900, 130000, 120000, 112500, 122000, 127000, 117000, 305900, 228500, 270000, 192000, 213000, 200000, 267000, 228000, 275000, 211000, 285000, 240000, 131500, 246900, 219500, 185000, 179400, 213500, 179600, 173500, 167840, 168675, 167000, 140000, 118500, 110000, 94750, 122000, 110000, 118500, 133500, 148000, 141000, 155000, 157000, 171500, 183850, 184750, 140000, 131750, 61500, 111000, 98500, 79000, 108500, 110000, 112000, 125000, 79275, 119000, 200000, 150000, 165000, 96500, 136500, 146500, 175000, 148500, 141500, 189950, 135000, 164000, 90350, 139000, 119750, 145000, 145000, 238000, 153500, 239000, 359100, 188000, 220000, 140000, 315000, 259500, 257500, 219500, 217000, 201000, 215000, 123900, 170000, 200000, 198000, 315000, 115000, 141000, 87000, 129850, 100000, 150909, 75200, 118400, 67000, 152000, 68104, 119600, 140000, 124900, 375000, 235000, 183500, 156000, 134000, 215000, 245000, 210000, 148000, 143000, 244000, 330000, 170000, 257000, 231713, 265900, 239000, 248900, 174000, 187500, 204000, 180500, 187500, 282000, 178000, 270000, 279900, 186700, 283463, 392000, 281213, 147000, 130000, 140000, 132250, 143000, 168000, 129900, 134000, 85500, 106500, 93900, 75000, 84500, 75190, 146800, 153500, 188000, 196000, 157000, 138000, 129500, 80000, 129500, 135000, 124500, 139000, 93500, 124500, 149900, 157500, 169000, 252000, 192100, 183500, 222000, 170000, 187500, 202000, 185000, 320000, 240000, 250000, 239900, 309000, 274725, 270000, 183500, 165600, 176500, 130000, 239000, 275000, 457347, 545224, 356383, 556581, 361919, 535000, 401179, 438780, 169000, 145000, 318000, 319000, 470000, 202500, 229000, 235000, 190000, 169000, 241500, 188900, 207500, 250000, 179900, 172000, 294323, 184500, 153500, 162900, 181000, 155000, 138800, 116050, 88000, 97500, 190000, 105500, 125500, 83000, 116000, 91500, 118000, 89000, 108000, 94500, 146300, 145000, 123000, 137500, 144000, 315000, 412083, 342643, 252000, 293000, 415000, 326000, 325300, 309000, 300000, 275500, 338500, 345000, 298236, 329900, 360000, 281000, 372397, 378000, 374000, 437154, 275000, 279000, 185850, 282500, 202500, 202665, 332200, 310090, 171750, 169990, 170440, 169985, 179665, 219210, 174190, 172785, 258000, 185101, 210250, 234000, 215000, 246990, 178740, 225000, 167240, 156820, 213490, 264561, 246578, 192140, 183200, 178000, 201490, 230500, 180000, 172400, 215000, 199900, 173000, 287602, 230000, 348000, 286000, 300000, 625000, 405000, 280000, 258000, 350000, 584500, 321000, 290000, 315000, 252000, 423000, 290000, 232000, 199000, 198600, 405749, 232600, 266000, 186500, 200825, 197000, 185000, 176000, 187750, 139500, 186800, 132000, 142500, 158000, 184000, 184900, 187000, 175900, 248500, 172000, 151000, 150000, 107000, 119900, 129500, 125000, 119500, 144000, 151000, 126000, 116000, 133500, 120875, 137000, 124000, 135000, 129200, 260000, 260000, 334000, 310000, 268000, 262000, 176400, 197000, 151000, 147400, 149900, 144152, 166000, 183900, 165000, 139000, 200000, 221000, 270000, 165000, 214000, 188000, 190000, 170000, 385000, 146500, 170000, 262500, 179900, 250000, 165150, 164500, 140000, 135500, 142000, 155000, 157500, 138500, 140000, 124400, 158000, 146000, 190000, 136500, 129900, 145000, 185900, 160000, 167000, 157500, 140000, 150000, 151500, 129800, 137000, 137000, 121600, 85500, 79900, 127000, 161000, 146500, 135000, 137900, 133000, 137000, 121000, 119000, 172000, 98600, 226000, 118000, 235000, 135000, 132500, 143000, 132000, 145250, 162000, 148000, 141000, 153000, 134450, 135960, 156000, 140000, 139500, 155000, 127000, 133500, 125000, 142000, 167000, 159000, 180000, 127000, 112000, 99800, 117000, 108480, 68000, 86900, 120000, 155500, 80000, 105000, 160000, 170000, 160000, 159950, 165000, 159000, 147000, 115000, 159500, 120000, 129900, 183000, 157500, 277500, 207500, 147500, 135000, 109500, 109900, 133700, 81400, 87500, 93500, 119000, 141000, 146000, 155000, 134500, 120000, 105000, 124000, 169000, 107000, 135000, 111500, 156500, 178000, 139900, 105000, 110000, 111500, 108000, 111500, 124000, 105000, 116000, 96900, 135500, 139000, 61500, 120000, 126175, 64000, 137000, 87000, 163000, 155000, 79000, 144000, 114504, 157000, 125000, 475000, 93500, 125000, 64500, 100000, 140200, 202500, 159000, 119900, 114500, 115000, 75000, 88000, 80500, 149000, 110000, 110500, 89000, 113000, 109000, 220000, 129000, 117000, 52500, 107000, 116500, 72000, 119500, 125500, 91000, 84500, 90000, 137500, 150000, 131000, 130000, 125000, 80000, 157000, 148000, 90000, 154500, 153600, 164500, 132000, 142500, 158000, 149500, 165000, 180000, 160500, 156500, 157000, 172500, 155000, 170000, 105000, 145000, 168000, 278000, 164000, 225000, 130000, 142500, 148400, 190000, 146000, 128000, 225000, 274970, 235000, 415000, 182000, 135000, 137000, 136900, 149900, 123500, 93000, 91500, 180000, 209000, 215000, 224500, 229800, 183600, 194000, 193879, 221500, 204900, 239799, 233555, 260000, 294900, 209700, 225000, 181000, 220000, 190000, 180000, 280000, 158900, 148000, 145000, 187000, 193000, 156000, 235000, 217000, 214000, 196000, 217000, 200000, 192500, 205000, 132500, 157500, 174000, 128500, 128500, 149900, 119900, 137000, 255000, 222000, 214000, 220000, 275000, 197000, 230000, 268500, 210900, 227000, 237000, 274300, 216837, 133000, 155900, 233230, 207000, 195000, 200000, 203160, 195800, 212900, 196500, 198000, 173900, 163990, 164990, 98000, 149900, 102000, 127500, 127500, 119900, 196500, 229000, 145000, 140000, 142500, 134000, 130000, 130000, 137500, 130000, 97900, 92000, 107000, 81000, 104900, 115000, 125000, 116000, 83000, 118500, 35000, 121000, 160000, 140000, 137000, 128000, 160000, 138887, 149000, 102000, 167000, 200100, 131000, 112000, 140000, 195000, 230000, 194000, 137500, 250000, 218000, 239000, 199500, 210000, 230000, 217500, 257000, 157000, 223000, 102000, 145400, 72000, 85000, 106500, 139000, 108000, 51689, 35311, 115000, 78000, 375000, 300000, 242500, 145000, 209000, 135000, 148000, 171000, 335000, 230000, 250764, 228000, 176000, 180000, 250000, 202000, 312500, 320000, 369900, 359900, 81500, 215000, 164000, 153500, 84500, 104500, 127000, 151400, 126500, 146500, 73000, 79400, 140000, 92000, 87550, 79500, 90500, 71000, 150900, 188000, 160000, 131000, 142500, 131000, 132000, 170000, 188000], \"yaxis\": \"y\"}, {\"hoverlabel\": {\"namelength\": 0}, \"hovertemplate\": \"<b>OLS trendline</b><br>SalePrice = 2.695293 * Lot_Area + 153079.832963<br>R<sup>2</sup>=0.070651<br><br>Lot_Area=%{x}<br>SalePrice=%{y} <b>(trend)</b>\", \"legendgroup\": \"\", \"marker\": {\"color\": \"#636efa\", \"symbol\": \"circle\"}, \"mode\": \"lines\", \"name\": \"\", \"showlegend\": false, \"type\": \"scattergl\", \"x\": [1300, 1470, 1476, 1477, 1477, 1484, 1488, 1491, 1495, 1504, 1526, 1526, 1533, 1533, 1533, 1533, 1596, 1596, 1612, 1680, 1680, 1680, 1680, 1680, 1680, 1680, 1680, 1680, 1680, 1680, 1680, 1680, 1680, 1680, 1680, 1680, 1680, 1700, 1733, 1782, 1869, 1879, 1890, 1890, 1890, 1890, 1890, 1890, 1894, 1900, 1920, 1936, 1936, 1950, 1953, 1974, 1974, 2001, 2016, 2058, 2104, 2117, 2117, 2117, 2117, 2160, 2160, 2160, 2179, 2205, 2217, 2268, 2280, 2280, 2280, 2280, 2280, 2280, 2280, 2280, 2280, 2289, 2304, 2308, 2308, 2308, 2308, 2349, 2364, 2364, 2368, 2394, 2403, 2448, 2448, 2500, 2522, 2522, 2522, 2522, 2529, 2544, 2544, 2544, 2544, 2572, 2592, 2628, 2645, 2645, 2645, 2645, 2651, 2665, 2665, 2665, 2665, 2760, 2880, 2887, 2938, 2980, 2998, 2998, 3000, 3000, 3010, 3010, 3013, 3068, 3072, 3072, 3087, 3136, 3153, 3180, 3180, 3180, 3180, 3182, 3182, 3182, 3182, 3182, 3182, 3182, 3182, 3196, 3196, 3203, 3215, 3230, 3230, 3242, 3300, 3316, 3363, 3378, 3435, 3480, 3500, 3500, 3515, 3523, 3600, 3600, 3600, 3604, 3606, 3612, 3621, 3628, 3635, 3636, 3640, 3672, 3675, 3675, 3675, 3675, 3675, 3675, 3684, 3696, 3701, 3710, 3710, 3735, 3760, 3768, 3782, 3784, 3811, 3811, 3830, 3840, 3842, 3842, 3843, 3843, 3869, 3874, 3876, 3880, 3880, 3901, 3903, 3907, 3907, 3907, 3922, 3922, 3940, 3940, 3950, 3951, 3951, 3960, 3964, 3982, 4000, 4017, 4043, 4043, 4043, 4045, 4054, 4058, 4060, 4060, 4080, 4084, 4109, 4113, 4118, 4130, 4217, 4224, 4224, 4224, 4230, 4235, 4251, 4270, 4280, 4280, 4282, 4330, 4347, 4379, 4385, 4388, 4400, 4403, 4420, 4426, 4426, 4426, 4426, 4435, 4435, 4435, 4435, 4435, 4435, 4435, 4438, 4438, 4447, 4456, 4480, 4484, 4485, 4500, 4500, 4500, 4500, 4500, 4500, 4538, 4571, 4571, 4590, 4590, 4608, 4671, 4712, 4740, 4750, 4761, 4765, 4800, 4800, 4800, 4800, 4835, 4853, 4882, 4899, 4920, 4923, 4928, 4928, 4960, 5000, 5000, 5000, 5000, 5000, 5000, 5000, 5000, 5000, 5001, 5005, 5062, 5063, 5070, 5100, 5105, 5118, 5119, 5122, 5142, 5150, 5160, 5160, 5175, 5190, 5220, 5232, 5250, 5271, 5280, 5306, 5310, 5330, 5330, 5350, 5350, 5362, 5381, 5389, 5395, 5400, 5400, 5400, 5400, 5400, 5400, 5400, 5400, 5400, 5400, 5436, 5470, 5500, 5500, 5500, 5520, 5520, 5520, 5568, 5586, 5587, 5600, 5604, 5633, 5664, 5680, 5680, 5684, 5687, 5700, 5700, 5707, 5720, 5747, 5748, 5775, 5784, 5790, 5805, 5814, 5820, 5825, 5830, 5852, 5858, 5868, 5870, 5890, 5900, 5911, 5914, 5925, 5925, 5925, 5925, 5950, 5976, 6000, 6000, 6000, 6000, 6000, 6000, 6000, 6000, 6000, 6000, 6000, 6000, 6000, 6000, 6000, 6000, 6000, 6000, 6000, 6000, 6000, 6000, 6000, 6000, 6000, 6000, 6000, 6000, 6000, 6000, 6000, 6000, 6000, 6000, 6001, 6012, 6040, 6048, 6060, 6060, 6120, 6120, 6120, 6120, 6120, 6120, 6120, 6120, 6120, 6120, 6120, 6120, 6120, 6120, 6120, 6120, 6120, 6125, 6130, 6155, 6171, 6173, 6180, 6191, 6204, 6221, 6240, 6240, 6240, 6240, 6240, 6240, 6240, 6240, 6240, 6240, 6240, 6240, 6240, 6240, 6240, 6240, 6240, 6240, 6264, 6270, 6285, 6285, 6289, 6291, 6292, 6292, 6300, 6300, 6300, 6305, 6305, 6324, 6342, 6360, 6360, 6371, 6373, 6380, 6390, 6400, 6402, 6406, 6410, 6410, 6420, 6430, 6435, 6442, 6449, 6451, 6472, 6488, 6490, 6500, 6563, 6565, 6600, 6600, 6600, 6600, 6600, 6600, 6615, 6627, 6629, 6710, 6718, 6720, 6723, 6756, 6760, 6762, 6762, 6762, 6762, 6768, 6780, 6792, 6820, 6821, 6845, 6853, 6854, 6858, 6860, 6876, 6876, 6882, 6882, 6897, 6900, 6900, 6904, 6911, 6930, 6931, 6931, 6950, 6951, 6953, 6955, 6956, 6960, 6960, 6970, 6978, 6979, 6993, 7000, 7000, 7000, 7000, 7000, 7000, 7000, 7000, 7000, 7000, 7000, 7000, 7000, 7006, 7007, 7008, 7010, 7015, 7018, 7018, 7018, 7018, 7018, 7018, 7020, 7023, 7024, 7024, 7030, 7032, 7038, 7040, 7050, 7052, 7056, 7060, 7064, 7082, 7094, 7100, 7111, 7128, 7130, 7132, 7134, 7136, 7150, 7150, 7150, 7150, 7153, 7153, 7155, 7155, 7162, 7162, 7175, 7175, 7175, 7175, 7176, 7180, 7180, 7200, 7200, 7200, 7200, 7200, 7200, 7200, 7200, 7200, 7200, 7200, 7200, 7200, 7200, 7200, 7200, 7200, 7200, 7200, 7200, 7200, 7200, 7200, 7200, 7200, 7200, 7200, 7200, 7200, 7200, 7200, 7200, 7200, 7200, 7200, 7200, 7200, 7200, 7200, 7200, 7200, 7200, 7200, 7207, 7223, 7226, 7227, 7230, 7242, 7244, 7250, 7252, 7259, 7264, 7288, 7288, 7290, 7296, 7301, 7301, 7308, 7311, 7313, 7314, 7315, 7321, 7328, 7332, 7340, 7350, 7350, 7360, 7379, 7380, 7388, 7390, 7390, 7392, 7399, 7400, 7400, 7404, 7406, 7407, 7415, 7420, 7420, 7424, 7425, 7436, 7438, 7440, 7441, 7446, 7449, 7450, 7472, 7476, 7480, 7488, 7500, 7500, 7500, 7500, 7500, 7500, 7500, 7500, 7500, 7500, 7500, 7500, 7500, 7500, 7500, 7500, 7500, 7500, 7500, 7500, 7506, 7514, 7518, 7535, 7540, 7550, 7558, 7560, 7560, 7560, 7570, 7577, 7584, 7585, 7588, 7590, 7590, 7590, 7596, 7599, 7609, 7614, 7626, 7627, 7628, 7630, 7632, 7635, 7642, 7655, 7658, 7669, 7677, 7681, 7685, 7689, 7692, 7697, 7700, 7700, 7700, 7700, 7703, 7703, 7706, 7711, 7713, 7728, 7733, 7740, 7740, 7741, 7742, 7745, 7750, 7750, 7750, 7750, 7755, 7758, 7758, 7763, 7777, 7785, 7791, 7793, 7795, 7800, 7800, 7800, 7800, 7800, 7800, 7800, 7800, 7801, 7804, 7804, 7810, 7819, 7820, 7822, 7830, 7830, 7832, 7837, 7838, 7840, 7841, 7844, 7848, 7861, 7862, 7875, 7875, 7875, 7875, 7875, 7879, 7890, 7892, 7892, 7898, 7903, 7910, 7915, 7917, 7917, 7920, 7920, 7922, 7930, 7931, 7931, 7936, 7937, 7939, 7942, 7943, 7945, 7950, 7976, 7980, 7984, 7990, 8000, 8000, 8000, 8000, 8000, 8000, 8000, 8000, 8000, 8000, 8004, 8010, 8010, 8010, 8012, 8012, 8012, 8012, 8013, 8014, 8020, 8029, 8035, 8049, 8050, 8050, 8050, 8063, 8064, 8064, 8064, 8064, 8064, 8068, 8070, 8072, 8076, 8078, 8088, 8089, 8092, 8094, 8094, 8094, 8098, 8100, 8100, 8100, 8118, 8120, 8121, 8123, 8125, 8125, 8125, 8125, 8125, 8125, 8125, 8125, 8125, 8125, 8125, 8127, 8128, 8139, 8145, 8145, 8146, 8147, 8154, 8155, 8158, 8158, 8160, 8163, 8169, 8170, 8172, 8172, 8172, 8172, 8174, 8176, 8190, 8197, 8197, 8198, 8199, 8200, 8212, 8212, 8220, 8229, 8232, 8235, 8235, 8238, 8239, 8239, 8240, 8243, 8244, 8246, 8248, 8248, 8248, 8250, 8250, 8250, 8250, 8250, 8250, 8251, 8263, 8267, 8280, 8281, 8285, 8286, 8294, 8300, 8304, 8308, 8314, 8314, 8320, 8333, 8334, 8335, 8339, 8340, 8366, 8368, 8375, 8382, 8385, 8385, 8390, 8393, 8396, 8398, 8398, 8400, 8400, 8400, 8400, 8400, 8400, 8400, 8400, 8400, 8400, 8400, 8400, 8400, 8400, 8400, 8400, 8400, 8400, 8400, 8400, 8400, 8402, 8402, 8405, 8405, 8410, 8410, 8413, 8414, 8425, 8428, 8430, 8433, 8445, 8450, 8450, 8450, 8450, 8450, 8450, 8450, 8450, 8450, 8453, 8461, 8462, 8470, 8470, 8471, 8472, 8475, 8480, 8480, 8480, 8480, 8487, 8499, 8499, 8500, 8500, 8500, 8500, 8510, 8512, 8513, 8516, 8520, 8520, 8520, 8520, 8520, 8520, 8521, 8525, 8529, 8530, 8532, 8534, 8536, 8540, 8544, 8544, 8544, 8544, 8544, 8546, 8550, 8550, 8556, 8562, 8574, 8577, 8581, 8593, 8600, 8604, 8626, 8633, 8635, 8635, 8637, 8638, 8640, 8640, 8640, 8640, 8640, 8640, 8640, 8640, 8640, 8640, 8658, 8658, 8660, 8660, 8665, 8668, 8674, 8680, 8685, 8688, 8696, 8700, 8700, 8702, 8707, 8712, 8712, 8712, 8712, 8723, 8724, 8726, 8730, 8731, 8736, 8737, 8738, 8740, 8740, 8741, 8741, 8749, 8749, 8750, 8750, 8750, 8750, 8750, 8750, 8750, 8750, 8750, 8755, 8760, 8760, 8760, 8760, 8760, 8765, 8767, 8769, 8769, 8772, 8773, 8773, 8773, 8775, 8777, 8777, 8777, 8777, 8777, 8778, 8780, 8789, 8791, 8795, 8800, 8800, 8800, 8800, 8800, 8800, 8800, 8803, 8810, 8814, 8814, 8814, 8816, 8816, 8820, 8826, 8834, 8838, 8842, 8846, 8846, 8847, 8849, 8850, 8850, 8854, 8856, 8857, 8872, 8872, 8877, 8877, 8880, 8883, 8885, 8892, 8892, 8899, 8899, 8900, 8910, 8917, 8918, 8923, 8923, 8924, 8925, 8926, 8927, 8930, 8935, 8940, 8944, 8960, 8963, 8965, 8967, 8969, 8970, 8973, 8978, 8982, 8987, 8990, 8991, 8993, 8998, 9000, 9000, 9000, 9000, 9000, 9000, 9000, 9000, 9000, 9000, 9000, 9000, 9000, 9000, 9000, 9000, 9000, 9000, 9000, 9000, 9000, 9000, 9000, 9000, 9000, 9000, 9000, 9000, 9000, 9017, 9018, 9019, 9020, 9020, 9022, 9024, 9037, 9042, 9042, 9044, 9045, 9045, 9056, 9060, 9060, 9060, 9060, 9066, 9069, 9069, 9073, 9079, 9084, 9084, 9084, 9085, 9098, 9100, 9100, 9100, 9100, 9100, 9100, 9100, 9100, 9100, 9100, 9100, 9100, 9101, 9109, 9116, 9120, 9120, 9120, 9125, 9129, 9130, 9135, 9135, 9139, 9140, 9142, 9142, 9143, 9144, 9144, 9150, 9156, 9157, 9158, 9170, 9171, 9178, 9178, 9179, 9180, 9184, 9187, 9187, 9196, 9200, 9200, 9200, 9200, 9204, 9205, 9206, 9215, 9216, 9230, 9233, 9236, 9239, 9240, 9240, 9240, 9245, 9245, 9246, 9247, 9248, 9250, 9254, 9259, 9260, 9260, 9262, 9272, 9278, 9280, 9286, 9291, 9297, 9300, 9303, 9308, 9313, 9316, 9316, 9316, 9316, 9317, 9317, 9317, 9320, 9337, 9337, 9340, 9345, 9350, 9350, 9350, 9350, 9350, 9350, 9350, 9353, 9360, 9360, 9360, 9360, 9364, 9370, 9373, 9373, 9375, 9375, 9375, 9375, 9375, 9375, 9382, 9392, 9399, 9400, 9400, 9405, 9416, 9428, 9430, 9434, 9439, 9450, 9450, 9452, 9453, 9457, 9462, 9464, 9466, 9468, 9477, 9480, 9482, 9487, 9488, 9490, 9492, 9500, 9500, 9503, 9505, 9510, 9512, 9520, 9520, 9525, 9525, 9525, 9525, 9531, 9532, 9533, 9535, 9535, 9541, 9543, 9545, 9547, 9548, 9549, 9550, 9554, 9555, 9556, 9560, 9571, 9571, 9571, 9571, 9572, 9576, 9587, 9588, 9590, 9591, 9591, 9600, 9600, 9600, 9600, 9600, 9600, 9600, 9600, 9600, 9600, 9600, 9600, 9600, 9600, 9600, 9600, 9600, 9600, 9600, 9600, 9600, 9600, 9600, 9600, 9600, 9600, 9600, 9600, 9600, 9600, 9600, 9600, 9600, 9600, 9600, 9600, 9600, 9600, 9600, 9600, 9600, 9600, 9600, 9600, 9605, 9605, 9610, 9612, 9620, 9627, 9627, 9636, 9638, 9638, 9639, 9649, 9650, 9650, 9656, 9658, 9660, 9660, 9662, 9670, 9671, 9672, 9675, 9675, 9680, 9709, 9717, 9720, 9720, 9720, 9723, 9724, 9724, 9729, 9734, 9736, 9738, 9742, 9743, 9750, 9750, 9750, 9750, 9750, 9750, 9750, 9750, 9750, 9750, 9750, 9750, 9757, 9758, 9759, 9760, 9760, 9760, 9763, 9764, 9765, 9768, 9770, 9771, 9780, 9780, 9783, 9786, 9786, 9790, 9790, 9800, 9800, 9801, 9802, 9802, 9803, 9803, 9808, 9819, 9819, 9825, 9825, 9825, 9828, 9830, 9836, 9839, 9839, 9840, 9842, 9842, 9849, 9855, 9856, 9858, 9863, 9873, 9880, 9888, 9892, 9900, 9900, 9900, 9900, 9900, 9900, 9900, 9900, 9900, 9906, 9910, 9920, 9920, 9920, 9926, 9927, 9928, 9928, 9930, 9937, 9937, 9938, 9938, 9942, 9945, 9947, 9950, 9965, 9965, 9967, 9978, 9981, 9986, 9990, 9991, 10000, 10000, 10000, 10000, 10000, 10000, 10000, 10000, 10000, 10004, 10005, 10007, 10010, 10010, 10011, 10012, 10019, 10020, 10021, 10029, 10032, 10041, 10042, 10044, 10050, 10050, 10084, 10084, 10090, 10106, 10110, 10110, 10114, 10120, 10120, 10122, 10125, 10125, 10125, 10125, 10126, 10130, 10134, 10134, 10140, 10140, 10140, 10140, 10140, 10140, 10140, 10141, 10141, 10142, 10143, 10147, 10150, 10152, 10152, 10159, 10164, 10170, 10171, 10172, 10175, 10176, 10179, 10180, 10182, 10184, 10186, 10192, 10197, 10200, 10200, 10200, 10200, 10200, 10200, 10200, 10205, 10206, 10206, 10206, 10207, 10208, 10215, 10226, 10230, 10235, 10236, 10237, 10237, 10237, 10237, 10237, 10240, 10240, 10246, 10260, 10261, 10264, 10265, 10266, 10267, 10274, 10284, 10289, 10295, 10300, 10304, 10307, 10307, 10316, 10320, 10320, 10320, 10320, 10320, 10320, 10320, 10320, 10324, 10331, 10335, 10335, 10337, 10355, 10356, 10357, 10364, 10366, 10367, 10368, 10380, 10382, 10382, 10385, 10386, 10389, 10395, 10400, 10400, 10400, 10400, 10400, 10400, 10400, 10400, 10400, 10400, 10400, 10402, 10410, 10410, 10410, 10410, 10411, 10420, 10421, 10425, 10429, 10434, 10437, 10440, 10440, 10440, 10440, 10440, 10441, 10447, 10448, 10452, 10452, 10454, 10456, 10457, 10463, 10464, 10475, 10475, 10480, 10480, 10481, 10482, 10496, 10500, 10500, 10500, 10500, 10512, 10519, 10530, 10530, 10530, 10530, 10530, 10532, 10533, 10541, 10542, 10544, 10547, 10552, 10557, 10560, 10560, 10562, 10566, 10570, 10573, 10574, 10574, 10592, 10593, 10594, 10600, 10603, 10603, 10612, 10615, 10616, 10624, 10625, 10625, 10625, 10625, 10625, 10625, 10625, 10628, 10628, 10632, 10634, 10635, 10637, 10646, 10650, 10652, 10655, 10656, 10659, 10665, 10667, 10667, 10672, 10678, 10680, 10682, 10690, 10708, 10710, 10712, 10721, 10725, 10728, 10732, 10738, 10739, 10750, 10751, 10759, 10762, 10762, 10768, 10769, 10773, 10778, 10778, 10780, 10784, 10790, 10791, 10791, 10793, 10800, 10800, 10800, 10800, 10800, 10800, 10800, 10800, 10800, 10800, 10800, 10800, 10800, 10800, 10800, 10800, 10800, 10800, 10800, 10800, 10800, 10800, 10800, 10800, 10800, 10816, 10818, 10820, 10820, 10825, 10832, 10836, 10839, 10845, 10846, 10852, 10858, 10859, 10872, 10880, 10890, 10890, 10895, 10896, 10899, 10900, 10905, 10914, 10918, 10920, 10921, 10926, 10927, 10928, 10928, 10930, 10933, 10936, 10936, 10943, 10944, 10950, 10950, 10960, 10970, 10984, 10990, 10991, 10994, 10998, 11000, 11000, 11000, 11000, 11002, 11003, 11003, 11024, 11025, 11025, 11027, 11029, 11029, 11040, 11040, 11049, 11050, 11050, 11050, 11050, 11050, 11050, 11058, 11060, 11064, 11065, 11067, 11069, 11070, 11070, 11072, 11075, 11075, 11075, 11080, 11084, 11088, 11088, 11096, 11100, 11100, 11103, 11104, 11105, 11120, 11128, 11134, 11136, 11143, 11146, 11160, 11166, 11170, 11175, 11184, 11184, 11194, 11194, 11198, 11200, 11200, 11200, 11202, 11207, 11210, 11214, 11216, 11218, 11227, 11228, 11235, 11235, 11235, 11235, 11241, 11248, 11249, 11250, 11250, 11250, 11250, 11250, 11250, 11250, 11275, 11275, 11287, 11302, 11305, 11308, 11310, 11316, 11317, 11327, 11332, 11333, 11339, 11340, 11340, 11340, 11341, 11344, 11345, 11354, 11355, 11358, 11361, 11362, 11367, 11375, 11380, 11382, 11388, 11394, 11400, 11404, 11409, 11414, 11419, 11422, 11423, 11425, 11426, 11426, 11428, 11435, 11443, 11447, 11449, 11454, 11457, 11475, 11475, 11475, 11478, 11479, 11492, 11500, 11500, 11500, 11500, 11500, 11512, 11515, 11520, 11526, 11553, 11556, 11556, 11563, 11577, 11578, 11584, 11600, 11600, 11600, 11606, 11613, 11616, 11616, 11622, 11625, 11625, 11625, 11631, 11643, 11643, 11645, 11645, 11645, 11645, 11646, 11650, 11660, 11664, 11664, 11670, 11672, 11675, 11677, 11679, 11690, 11692, 11694, 11700, 11700, 11700, 11700, 11700, 11700, 11700, 11717, 11727, 11737, 11750, 11751, 11762, 11764, 11765, 11767, 11767, 11767, 11767, 11777, 11778, 11778, 11782, 11787, 11792, 11792, 11796, 11800, 11800, 11800, 11824, 11825, 11830, 11836, 11838, 11839, 11841, 11844, 11846, 11850, 11851, 11851, 11855, 11875, 11880, 11883, 11885, 11888, 11896, 11900, 11900, 11900, 11911, 11920, 11923, 11924, 11927, 11929, 11932, 11949, 11952, 11957, 11980, 11988, 11988, 11999, 12000, 12000, 12000, 12000, 12003, 12011, 12018, 12030, 12046, 12048, 12085, 12090, 12090, 12090, 12090, 12095, 12099, 12099, 12102, 12104, 12108, 12118, 12122, 12128, 12134, 12137, 12144, 12144, 12150, 12150, 12151, 12155, 12155, 12160, 12160, 12168, 12172, 12180, 12180, 12182, 12191, 12192, 12198, 12203, 12205, 12205, 12209, 12216, 12220, 12224, 12227, 12228, 12243, 12244, 12250, 12256, 12257, 12274, 12285, 12291, 12292, 12299, 12304, 12320, 12327, 12328, 12328, 12334, 12342, 12342, 12350, 12350, 12352, 12354, 12358, 12361, 12366, 12375, 12376, 12378, 12384, 12388, 12392, 12393, 12394, 12395, 12400, 12400, 12416, 12420, 12435, 12436, 12438, 12438, 12444, 12447, 12450, 12450, 12456, 12460, 12461, 12464, 12469, 12474, 12493, 12508, 12511, 12513, 12518, 12537, 12539, 12546, 12552, 12568, 12585, 12589, 12606, 12615, 12633, 12633, 12640, 12665, 12665, 12671, 12677, 12680, 12692, 12700, 12702, 12704, 12704, 12712, 12720, 12720, 12728, 12732, 12735, 12760, 12772, 12774, 12774, 12778, 12782, 12798, 12800, 12803, 12822, 12852, 12853, 12858, 12864, 12878, 12883, 12886, 12887, 12888, 12890, 12898, 12900, 12900, 12900, 12919, 12925, 12929, 12936, 12961, 12968, 12984, 13000, 13001, 13005, 13006, 13008, 13014, 13015, 13031, 13041, 13050, 13052, 13053, 13068, 13069, 13070, 13072, 13072, 13072, 13072, 13072, 13072, 13101, 13108, 13108, 13110, 13125, 13125, 13125, 13125, 13128, 13132, 13142, 13143, 13159, 13162, 13173, 13175, 13200, 13200, 13204, 13214, 13215, 13250, 13253, 13260, 13262, 13265, 13284, 13286, 13300, 13300, 13300, 13339, 13346, 13350, 13355, 13360, 13377, 13383, 13384, 13400, 13418, 13418, 13426, 13438, 13440, 13450, 13472, 13474, 13478, 13495, 13500, 13500, 13500, 13501, 13514, 13515, 13517, 13518, 13526, 13543, 13560, 13568, 13587, 13600, 13600, 13600, 13607, 13615, 13618, 13641, 13650, 13650, 13651, 13654, 13673, 13680, 13680, 13682, 13688, 13693, 13693, 13693, 13695, 13695, 13700, 13704, 13710, 13728, 13751, 13758, 13758, 13770, 13774, 13811, 13825, 13830, 13837, 13860, 13869, 13870, 13891, 13891, 13891, 13907, 13975, 14000, 14000, 14006, 14054, 14067, 14082, 14100, 14112, 14115, 14115, 14115, 14122, 14137, 14137, 14145, 14149, 14154, 14157, 14171, 14175, 14175, 14175, 14190, 14191, 14200, 14210, 14215, 14217, 14226, 14230, 14235, 14250, 14257, 14260, 14267, 14277, 14299, 14300, 14303, 14311, 14330, 14330, 14331, 14333, 14357, 14364, 14375, 14418, 14419, 14442, 14450, 14450, 14463, 14536, 14541, 14559, 14565, 14572, 14584, 14585, 14587, 14598, 14601, 14670, 14680, 14684, 14694, 14695, 14720, 14753, 14762, 14774, 14778, 14780, 14781, 14803, 14803, 14828, 14836, 14850, 14859, 14860, 14892, 14948, 14963, 14977, 15038, 15138, 15240, 15256, 15262, 15263, 15274, 15295, 15300, 15306, 15312, 15384, 15387, 15400, 15401, 15410, 15417, 15426, 15428, 15431, 15431, 15498, 15523, 15564, 15576, 15578, 15584, 15593, 15600, 15600, 15600, 15602, 15611, 15611, 15623, 15635, 15660, 15660, 15676, 15750, 15750, 15783, 15863, 15865, 15870, 15896, 15922, 15957, 16012, 16023, 16033, 16052, 16056, 16059, 16133, 16157, 16158, 16163, 16196, 16219, 16226, 16259, 16269, 16280, 16285, 16287, 16300, 16321, 16381, 16387, 16451, 16466, 16492, 16500, 16545, 16560, 16561, 16635, 16647, 16659, 16659, 16669, 16692, 16698, 16737, 16770, 16770, 16779, 16870, 16900, 16905, 17043, 17082, 17104, 17120, 17140, 17169, 17199, 17217, 17227, 17242, 17360, 17400, 17423, 17433, 17485, 17500, 17500, 17503, 17529, 17541, 17542, 17597, 17600, 17671, 17755, 17778, 17808, 17871, 17871, 17920, 17979, 18000, 18030, 18044, 18062, 18160, 18261, 18265, 18275, 18386, 18450, 18494, 18559, 18600, 18800, 18837, 18890, 19138, 19255, 19296, 19378, 19508, 19522, 19550, 19645, 19690, 19800, 19900, 19950, 19958, 20000, 20062, 20064, 20270, 20355, 20431, 20544, 20693, 20781, 20896, 21000, 21281, 21286, 21299, 21370, 21384, 21453, 21533, 21535, 21579, 21695, 21750, 21750, 21780, 21780, 21780, 21872, 21930, 22002, 22136, 22420, 22692, 22950, 23257, 23303, 23580, 23595, 23730, 23920, 24090, 24572, 24682, 25000, 25095, 25286, 25339, 25419, 25485, 26073, 26142, 26178, 26400, 27650, 27697, 28698, 29959, 31220, 31250, 31770, 32463, 33120, 33983, 34650, 35133, 35760, 36500, 39104, 39290, 39384, 40094, 41600, 43500, 45600, 46589, 47280, 50102, 50271, 51974, 53107, 53227, 53504, 56600, 57200, 63887, 70761, 115149, 159000, 164660, 215245], \"xaxis\": \"x\", \"y\": [156583.71390994755, 157041.9137261515, 157058.08548437047, 157060.78077740697, 157060.78077740697, 157079.64782866242, 157090.42900080842, 157098.5148799179, 157109.29605206387, 157133.5536893923, 157192.8501361952, 157192.8501361952, 157211.71718745065, 157211.71718745065, 157211.71718745065, 157211.71718745065, 157381.52064874975, 157381.52064874975, 157424.64533733367, 157607.92526381527, 157607.92526381527, 157607.92526381527, 157607.92526381527, 157607.92526381527, 157607.92526381527, 157607.92526381527, 157607.92526381527, 157607.92526381527, 157607.92526381527, 157607.92526381527, 157607.92526381527, 157607.92526381527, 157607.92526381527, 157607.92526381527, 157607.92526381527, 157607.92526381527, 157607.92526381527, 157661.83112454513, 157750.77579474944, 157882.84515353764, 158117.3356477126, 158144.28857807757, 158173.936801479, 158173.936801479, 158173.936801479, 158173.936801479, 158173.936801479, 158173.936801479, 158184.71797362497, 158200.88973184393, 158254.79559257382, 158297.9202811577, 158297.9202811577, 158335.65438366865, 158343.74026277813, 158400.34141654448, 158400.34141654448, 158473.11432852983, 158513.54372407723, 158626.74603160998, 158750.72951128872, 158785.76832076313, 158785.76832076313, 158785.76832076313, 158785.76832076313, 158901.66592133237, 158901.66592133237, 158901.66592133237, 158952.87648902577, 159022.9541079746, 159055.29762441252, 159192.75756927373, 159225.10108571165, 159225.10108571165, 159225.10108571165, 159225.10108571165, 159225.10108571165, 159225.10108571165, 159225.10108571165, 159225.10108571165, 159225.10108571165, 159249.3587230401, 159289.78811858752, 159300.5692907335, 159300.5692907335, 159300.5692907335, 159300.5692907335, 159411.07630522974, 159451.50570077714, 159451.50570077714, 159462.2868729231, 159532.36449187197, 159556.6221292004, 159677.91031584266, 159677.91031584266, 159818.06555374034, 159877.3620005432, 159877.3620005432, 159877.3620005432, 159877.3620005432, 159896.22905179867, 159936.65844734607, 159936.65844734607, 159936.65844734607, 159936.65844734607, 160012.1266523679, 160066.03251309777, 160163.06306241156, 160208.88304403197, 160208.88304403197, 160208.88304403197, 160208.88304403197, 160225.05480225093, 160262.78890476184, 160262.78890476184, 160262.78890476184, 160262.78890476184, 160518.84174322878, 160842.27690760806, 160861.1439588635, 160998.6039037247, 161111.80621125744, 161160.32148591435, 161160.32148591435, 161165.71207198733, 161165.71207198733, 161192.66500235227, 161192.66500235227, 161200.75088146175, 161348.99199846893, 161359.7731706149, 161359.7731706149, 161400.2025661623, 161532.2719249505, 161578.09190657092, 161650.86481855623, 161650.86481855623, 161650.86481855623, 161650.86481855623, 161656.25540462925, 161656.25540462925, 161656.25540462925, 161656.25540462925, 161656.25540462925, 161656.25540462925, 161656.25540462925, 161656.25540462925, 161693.98950714016, 161693.98950714016, 161712.8565583956, 161745.20007483353, 161785.62947038095, 161785.62947038095, 161817.97298681887, 161974.29998293554, 162017.42467151943, 162144.10344423464, 162184.53283978207, 162338.1645428622, 162459.45272950444, 162513.35859023433, 162513.35859023433, 162553.78798578173, 162575.35033007368, 162782.88789388372, 162782.88789388372, 162782.88789388372, 162793.66906602972, 162799.0596521027, 162815.23141032166, 162839.4890476501, 162858.35609890555, 162877.223150161, 162879.9184431975, 162890.69961534347, 162976.9489925113, 162985.03487162077, 162985.03487162077, 162985.03487162077, 162985.03487162077, 162985.03487162077, 162985.03487162077, 163009.29250894923, 163041.63602538715, 163055.11249056962, 163079.37012789806, 163079.37012789806, 163146.75245381042, 163214.13477972278, 163235.69712401472, 163273.43122652563, 163278.82181259862, 163351.59472458396, 163351.59472458396, 163402.80529227733, 163429.7582226423, 163435.14880871528, 163435.14880871528, 163437.84410175178, 163437.84410175178, 163507.9217207006, 163521.39818588307, 163526.78877195608, 163537.56994410206, 163537.56994410206, 163594.1710978684, 163599.5616839414, 163610.34285608737, 163610.34285608737, 163610.34285608737, 163650.7722516348, 163650.7722516348, 163699.28752629168, 163699.28752629168, 163726.2404566566, 163728.93574969313, 163728.93574969313, 163753.19338702157, 163763.97455916755, 163812.48983382442, 163861.00510848133, 163906.82509010172, 163976.90270905057, 163976.90270905057, 163976.90270905057, 163982.29329512356, 164006.550932452, 164017.33210459797, 164022.72269067095, 164022.72269067095, 164076.62855140085, 164087.40972354682, 164154.79204945918, 164165.57322160515, 164179.04968678762, 164211.39320322554, 164445.8836974005, 164464.750748656, 164464.750748656, 164464.750748656, 164480.92250687495, 164494.39897205742, 164537.5236606413, 164588.7342283347, 164615.68715869964, 164615.68715869964, 164621.07774477263, 164750.45181052433, 164796.27179214475, 164882.52116931256, 164898.69292753152, 164906.778806641, 164939.12232307892, 164947.2082021884, 164993.0281838088, 165009.19994202777, 165009.19994202777, 165009.19994202777, 165009.19994202777, 165033.4575793562, 165033.4575793562, 165033.4575793562, 165033.4575793562, 165033.4575793562, 165033.4575793562, 165033.4575793562, 165041.5434584657, 165041.5434584657, 165065.80109579413, 165090.0587331226, 165154.74576599844, 165165.5269381444, 165168.2222311809, 165208.65162672833, 165208.65162672833, 165208.65162672833, 165208.65162672833, 165208.65162672833, 165208.65162672833, 165311.0727621151, 165400.0174323194, 165400.0174323194, 165451.22800001278, 165451.22800001278, 165499.7432746697, 165669.5467359688, 165780.05375046504, 165855.52195548688, 165882.4748858518, 165912.12310925324, 165922.90428139924, 166017.2395376765, 166017.2395376765, 166017.2395376765, 166017.2395376765, 166111.5747939538, 166160.0900686107, 166238.25356666904, 166284.07354828942, 166340.6747020558, 166348.7605811653, 166362.23704634776, 166362.23704634776, 166448.48642351557, 166556.29814497533, 166556.29814497533, 166556.29814497533, 166556.29814497533, 166556.29814497533, 166556.29814497533, 166556.29814497533, 166556.29814497533, 166556.29814497533, 166558.99343801182, 166569.7746101578, 166723.40631323794, 166726.10160627443, 166744.9686575299, 166825.8274486247, 166839.30391380718, 166874.34272328162, 166877.0380163181, 166885.1238954276, 166939.02975615746, 166960.59210044943, 166987.54503081436, 166987.54503081436, 167027.97442636176, 167068.4038219092, 167149.262613004, 167181.60612944193, 167230.1214040988, 167286.7225578652, 167310.98019519364, 167381.0578141425, 167391.83898628847, 167445.74484701833, 167445.74484701833, 167499.65070774822, 167499.65070774822, 167531.99422418614, 167583.20479187954, 167604.7671361715, 167620.93889439045, 167634.41535957291, 167634.41535957291, 167634.41535957291, 167634.41535957291, 167634.41535957291, 167634.41535957291, 167634.41535957291, 167634.41535957291, 167634.41535957291, 167634.41535957291, 167731.4459088867, 167823.0858721275, 167903.94466322233, 167903.94466322233, 167903.94466322233, 167957.8505239522, 167957.8505239522, 167957.8505239522, 168087.2245897039, 168135.7398643608, 168138.4351573973, 168173.4739668717, 168184.25513901768, 168262.418637076, 168345.97272120733, 168389.09740979123, 168389.09740979123, 168399.8785819372, 168407.96446104668, 168443.00327052112, 168443.00327052112, 168461.87032177657, 168496.90913125098, 168569.68204323633, 168572.37733627282, 168645.15024825817, 168669.4078855866, 168685.57964380557, 168726.009039353, 168750.26667668144, 168766.4384349004, 168779.91490008286, 168793.39136526533, 168852.6878120682, 168868.85957028717, 168895.8125006521, 168901.2030867251, 168955.10894745498, 168982.0618778199, 169011.71010122134, 169019.79598033082, 169049.44420373227, 169049.44420373227, 169049.44420373227, 169049.44420373227, 169116.8265296446, 169186.90414859346, 169251.59118146932, 169251.59118146932, 169251.59118146932, 169251.59118146932, 169251.59118146932, 169251.59118146932, 169251.59118146932, 169251.59118146932, 169251.59118146932, 169251.59118146932, 169251.59118146932, 169251.59118146932, 169251.59118146932, 169251.59118146932, 169251.59118146932, 169251.59118146932, 169251.59118146932, 169251.59118146932, 169251.59118146932, 169251.59118146932, 169251.59118146932, 169251.59118146932, 169251.59118146932, 169251.59118146932, 169251.59118146932, 169251.59118146932, 169251.59118146932, 169251.59118146932, 169251.59118146932, 169251.59118146932, 169251.59118146932, 169251.59118146932, 169251.59118146932, 169251.59118146932, 169254.28647450582, 169283.93469790724, 169359.40290292908, 169380.96524722103, 169413.30876365895, 169413.30876365895, 169575.0263458486, 169575.0263458486, 169575.0263458486, 169575.0263458486, 169575.0263458486, 169575.0263458486, 169575.0263458486, 169575.0263458486, 169575.0263458486, 169575.0263458486, 169575.0263458486, 169575.0263458486, 169575.0263458486, 169575.0263458486, 169575.0263458486, 169575.0263458486, 169575.0263458486, 169588.50281103107, 169601.97927621353, 169669.3616021259, 169712.48629070978, 169717.87687678277, 169736.74392803822, 169766.39215143968, 169801.4309609141, 169847.25094253448, 169898.46151022788, 169898.46151022788, 169898.46151022788, 169898.46151022788, 169898.46151022788, 169898.46151022788, 169898.46151022788, 169898.46151022788, 169898.46151022788, 169898.46151022788, 169898.46151022788, 169898.46151022788, 169898.46151022788, 169898.46151022788, 169898.46151022788, 169898.46151022788, 169898.46151022788, 169898.46151022788, 169963.1485431037, 169979.3203013227, 170019.7496968701, 170019.7496968701, 170030.53086901607, 170035.92145508906, 170038.61674812555, 170038.61674812555, 170060.1790924175, 170060.1790924175, 170060.1790924175, 170073.65555759997, 170073.65555759997, 170124.86612529337, 170173.38139995025, 170221.89667460715, 170221.89667460715, 170251.54489800858, 170256.93548408156, 170275.80253533705, 170302.75546570198, 170329.7083960669, 170335.0989821399, 170345.88015428587, 170356.66132643184, 170356.66132643184, 170383.61425679678, 170410.56718716174, 170424.0436523442, 170442.91070359966, 170461.7777548551, 170467.1683409281, 170523.76949469448, 170566.89418327837, 170572.28476935136, 170599.23769971632, 170769.04116101543, 170774.4317470884, 170868.7670033657, 170868.7670033657, 170868.7670033657, 170868.7670033657, 170868.7670033657, 170868.7670033657, 170909.19639891313, 170941.53991535105, 170946.93050142404, 171165.24923738005, 171186.811581672, 171192.20216774498, 171200.28804685446, 171289.23271705877, 171300.01388920474, 171305.40447527773, 171305.40447527773, 171305.40447527773, 171305.40447527773, 171321.57623349671, 171353.91974993463, 171386.26326637255, 171461.7314713944, 171464.4267644309, 171529.11379730672, 171550.6761415987, 171553.3714346352, 171564.15260678116, 171569.54319285415, 171612.66788143804, 171612.66788143804, 171628.839639657, 171628.839639657, 171669.26903520443, 171677.3549143139, 171677.3549143139, 171688.13608645988, 171707.00313771534, 171758.21370540874, 171760.90899844523, 171760.90899844523, 171812.1195661386, 171814.8148591751, 171820.20544524808, 171825.59603132107, 171828.29132435756, 171839.07249650353, 171839.07249650353, 171866.0254268685, 171887.58777116044, 171890.28306419693, 171928.01716670784, 171946.88421796332, 171946.88421796332, 171946.88421796332, 171946.88421796332, 171946.88421796332, 171946.88421796332, 171946.88421796332, 171946.88421796332, 171946.88421796332, 171946.88421796332, 171946.88421796332, 171946.88421796332, 171946.88421796332, 171963.05597618228, 171965.75126921877, 171968.44656225527, 171973.83714832825, 171987.31361351072, 171995.3994926202, 171995.3994926202, 171995.3994926202, 171995.3994926202, 171995.3994926202, 171995.3994926202, 172000.7900786932, 172008.87595780267, 172011.57125083916, 172011.57125083916, 172027.74300905812, 172033.1335951311, 172049.3053533501, 172054.69593942308, 172081.648869788, 172087.039455861, 172097.82062800697, 172108.60180015294, 172119.38297229892, 172167.89824695583, 172200.24176339374, 172216.4135216127, 172246.06174501416, 172291.88172663454, 172297.27231270753, 172302.66289878052, 172308.0534848535, 172313.4440709265, 172351.17817343742, 172351.17817343742, 172351.17817343742, 172351.17817343742, 172359.26405254687, 172359.26405254687, 172364.6546386199, 172364.6546386199, 172383.52168987534, 172383.52168987534, 172418.56049934975, 172418.56049934975, 172418.56049934975, 172418.56049934975, 172421.25579238625, 172432.03696453222, 172432.03696453222, 172485.94282526211, 172485.94282526211, 172485.94282526211, 172485.94282526211, 172485.94282526211, 172485.94282526211, 172485.94282526211, 172485.94282526211, 172485.94282526211, 172485.94282526211, 172485.94282526211, 172485.94282526211, 172485.94282526211, 172485.94282526211, 172485.94282526211, 172485.94282526211, 172485.94282526211, 172485.94282526211, 172485.94282526211, 172485.94282526211, 172485.94282526211, 172485.94282526211, 172485.94282526211, 172485.94282526211, 172485.94282526211, 172485.94282526211, 172485.94282526211, 172485.94282526211, 172485.94282526211, 172485.94282526211, 172485.94282526211, 172485.94282526211, 172485.94282526211, 172485.94282526211, 172485.94282526211, 172485.94282526211, 172485.94282526211, 172485.94282526211, 172485.94282526211, 172485.94282526211, 172485.94282526211, 172485.94282526211, 172485.94282526211, 172504.80987651757, 172547.93456510146, 172556.02044421097, 172558.71573724743, 172566.80161635694, 172599.14513279486, 172604.53571886785, 172620.7074770868, 172626.0980631598, 172644.96511441524, 172658.4415795977, 172723.12861247358, 172723.12861247358, 172728.51919854656, 172744.69095676552, 172758.167421948, 172758.167421948, 172777.03447320347, 172785.12035231295, 172790.51093838594, 172793.20623142243, 172795.90152445892, 172812.07328267788, 172830.94033393334, 172841.7215060793, 172863.28385037126, 172890.23678073622, 172890.23678073622, 172917.18971110115, 172968.40027879452, 172971.095571831, 172992.657916123, 172998.04850219598, 172998.04850219598, 173003.43908826896, 173022.30613952441, 173025.0014325609, 173025.0014325609, 173035.78260470688, 173041.17319077987, 173043.86848381636, 173065.4308281083, 173078.90729329077, 173078.90729329077, 173089.68846543678, 173092.38375847327, 173122.0319818747, 173127.42256794768, 173132.81315402067, 173135.50844705716, 173148.98491223963, 173157.0707913491, 173159.7660843856, 173219.06253118848, 173229.84370333445, 173240.62487548043, 173262.18721977237, 173294.5307362103, 173294.5307362103, 173294.5307362103, 173294.5307362103, 173294.5307362103, 173294.5307362103, 173294.5307362103, 173294.5307362103, 173294.5307362103, 173294.5307362103, 173294.5307362103, 173294.5307362103, 173294.5307362103, 173294.5307362103, 173294.5307362103, 173294.5307362103, 173294.5307362103, 173294.5307362103, 173294.5307362103, 173294.5307362103, 173310.70249442928, 173332.26483872122, 173343.0460108672, 173388.86599248758, 173402.34245767008, 173429.295388035, 173450.85773232696, 173456.24831839994, 173456.24831839994, 173456.24831839994, 173483.20124876488, 173502.06830002036, 173520.9353512758, 173523.6306443123, 173531.71652342178, 173537.10710949477, 173537.10710949477, 173537.10710949477, 173553.27886771373, 173561.3647468232, 173588.31767718814, 173601.79414237064, 173634.13765880855, 173636.83295184505, 173639.52824488154, 173644.91883095453, 173650.3094170275, 173658.395296137, 173677.26234739245, 173712.3011568669, 173720.38703597637, 173750.0352593778, 173771.59760366974, 173782.3787758157, 173793.15994796169, 173803.94112010766, 173812.02699921717, 173825.50346439963, 173833.5893435091, 173833.5893435091, 173833.5893435091, 173833.5893435091, 173841.6752226186, 173841.6752226186, 173849.76110172807, 173863.23756691054, 173868.62815298353, 173909.05754853092, 173922.53401371342, 173941.40106496887, 173941.40106496887, 173944.09635800536, 173946.79165104186, 173954.87753015134, 173968.3539953338, 173968.3539953338, 173968.3539953338, 173968.3539953338, 173981.83046051627, 173989.91633962575, 173989.91633962575, 174003.39280480822, 174041.12690731915, 174062.6892516111, 174078.86100983006, 174084.25159590304, 174089.64218197603, 174103.1186471585, 174103.1186471585, 174103.1186471585, 174103.1186471585, 174103.1186471585, 174103.1186471585, 174103.1186471585, 174103.1186471585, 174105.813940195, 174113.89981930447, 174113.89981930447, 174130.07157752346, 174154.3292148519, 174157.0245078884, 174162.41509396138, 174183.97743825332, 174183.97743825332, 174189.3680243263, 174202.84448950877, 174205.53978254527, 174210.93036861825, 174213.62566165475, 174221.71154076426, 174232.49271291023, 174267.53152238464, 174270.22681542113, 174305.26562489555, 174305.26562489555, 174305.26562489555, 174305.26562489555, 174305.26562489555, 174316.04679704152, 174345.69502044297, 174351.08560651596, 174351.08560651596, 174367.25736473492, 174380.7338299174, 174399.60088117284, 174413.0773463553, 174418.4679324283, 174418.4679324283, 174426.5538115378, 174426.5538115378, 174431.9443976108, 174453.50674190273, 174456.20203493923, 174456.20203493923, 174469.6785001217, 174472.37379315819, 174477.76437923117, 174485.85025834065, 174488.54555137714, 174493.93613745013, 174507.4126026326, 174577.49022158145, 174588.27139372742, 174599.0525658734, 174615.22432409236, 174642.17725445732, 174642.17725445732, 174642.17725445732, 174642.17725445732, 174642.17725445732, 174642.17725445732, 174642.17725445732, 174642.17725445732, 174642.17725445732, 174642.17725445732, 174652.9584266033, 174669.13018482225, 174669.13018482225, 174669.13018482225, 174674.52077089524, 174674.52077089524, 174674.52077089524, 174674.52077089524, 174677.21606393173, 174679.91135696822, 174696.08311518718, 174720.34075251562, 174736.51251073458, 174774.24661324552, 174776.941906282, 174776.941906282, 174776.941906282, 174811.98071575642, 174814.6760087929, 174814.6760087929, 174814.6760087929, 174814.6760087929, 174814.6760087929, 174825.4571809389, 174830.84776701187, 174836.23835308486, 174847.01952523086, 174852.41011130385, 174879.36304166878, 174882.05833470527, 174890.14421381475, 174895.53479988774, 174895.53479988774, 174895.53479988774, 174906.3159720337, 174911.7065581067, 174911.7065581067, 174911.7065581067, 174960.2218327636, 174965.6124188366, 174968.3077118731, 174973.69829794607, 174979.08888401906, 174979.08888401906, 174979.08888401906, 174979.08888401906, 174979.08888401906, 174979.08888401906, 174979.08888401906, 174979.08888401906, 174979.08888401906, 174979.08888401906, 174979.08888401906, 174984.47947009205, 174987.17476312854, 175016.82298652997, 175032.99474474892, 175032.99474474892, 175035.69003778542, 175038.3853308219, 175057.2523820774, 175059.94767511386, 175068.03355422337, 175068.03355422337, 175073.42414029635, 175081.51001940583, 175097.6817776248, 175100.37707066128, 175105.76765673427, 175105.76765673427, 175105.76765673427, 175105.76765673427, 175111.15824280726, 175116.54882888024, 175154.28293139115, 175173.14998264663, 175173.14998264663, 175175.84527568312, 175178.54056871962, 175181.2358617561, 175213.57937819403, 175213.57937819403, 175235.14172248598, 175259.39935981442, 175267.48523892392, 175275.5711180334, 175275.5711180334, 175283.65699714288, 175286.35229017938, 175286.35229017938, 175289.04758321587, 175297.13346232535, 175299.82875536184, 175305.21934143483, 175310.60992750782, 175310.60992750782, 175310.60992750782, 175316.0005135808, 175316.0005135808, 175316.0005135808, 175316.0005135808, 175316.0005135808, 175316.0005135808, 175318.6958066173, 175351.0393230552, 175361.82049520122, 175396.85930467563, 175399.55459771212, 175410.3357698581, 175413.0310628946, 175434.59340718653, 175450.7651654055, 175461.54633755147, 175472.32750969747, 175488.49926791643, 175488.49926791643, 175504.6710261354, 175539.7098356098, 175542.4051286463, 175545.1004216828, 175555.88159382876, 175558.57688686525, 175628.6545058141, 175634.0450918871, 175652.91214314254, 175671.779194398, 175679.86507350748, 175679.86507350748, 175693.34153868997, 175701.42741779945, 175709.51329690893, 175714.90388298192, 175714.90388298192, 175720.2944690549, 175720.2944690549, 175720.2944690549, 175720.2944690549, 175720.2944690549, 175720.2944690549, 175720.2944690549, 175720.2944690549, 175720.2944690549, 175720.2944690549, 175720.2944690549, 175720.2944690549, 175720.2944690549, 175720.2944690549, 175720.2944690549, 175720.2944690549, 175720.2944690549, 175720.2944690549, 175720.2944690549, 175720.2944690549, 175720.2944690549, 175725.6850551279, 175725.6850551279, 175733.77093423737, 175733.77093423737, 175747.24739941984, 175747.24739941984, 175755.33327852932, 175758.0285715658, 175787.67679496726, 175795.76267407674, 175801.15326014973, 175809.2391392592, 175841.58265569713, 175855.0591208796, 175855.0591208796, 175855.0591208796, 175855.0591208796, 175855.0591208796, 175855.0591208796, 175855.0591208796, 175855.0591208796, 175855.0591208796, 175863.14499998908, 175884.70734428102, 175887.40263731754, 175908.9649816095, 175908.9649816095, 175911.66027464598, 175914.35556768248, 175922.44144679196, 175935.91791197442, 175935.91791197442, 175935.91791197442, 175935.91791197442, 175954.78496322987, 175987.12847966782, 175987.12847966782, 175989.8237727043, 175989.8237727043, 175989.8237727043, 175989.8237727043, 176016.77670306925, 176022.16728914223, 176024.86258217873, 176032.9484612882, 176043.72963343418, 176043.72963343418, 176043.72963343418, 176043.72963343418, 176043.72963343418, 176043.72963343418, 176046.42492647067, 176057.20609861665, 176067.98727076262, 176070.6825637991, 176076.0731498721, 176081.4637359451, 176086.85432201807, 176097.63549416407, 176108.41666631005, 176108.41666631005, 176108.41666631005, 176108.41666631005, 176108.41666631005, 176113.80725238303, 176124.588424529, 176124.588424529, 176140.76018274797, 176156.93194096693, 176189.27545740484, 176197.36133651435, 176208.14250866033, 176240.48602509825, 176259.3530763537, 176270.13424849967, 176329.43069530255, 176348.297746558, 176353.688332631, 176353.688332631, 176359.07891870398, 176361.77421174047, 176367.16479781346, 176367.16479781346, 176367.16479781346, 176367.16479781346, 176367.16479781346, 176367.16479781346, 176367.16479781346, 176367.16479781346, 176367.16479781346, 176367.16479781346, 176415.68007247036, 176415.68007247036, 176421.07065854335, 176421.07065854335, 176434.54712372582, 176442.6330028353, 176458.80476105426, 176474.97651927322, 176488.45298445568, 176496.53886356516, 176518.10120785714, 176528.8823800031, 176528.8823800031, 176534.2729660761, 176547.74943125856, 176561.22589644103, 176561.22589644103, 176561.22589644103, 176561.22589644103, 176590.87411984245, 176593.56941287895, 176598.95999895193, 176609.7411710979, 176612.43646413443, 176625.9129293169, 176628.6082223534, 176631.30351538988, 176636.69410146287, 176636.69410146287, 176639.38939449936, 176639.38939449936, 176660.9517387913, 176660.9517387913, 176663.6470318278, 176663.6470318278, 176663.6470318278, 176663.6470318278, 176663.6470318278, 176663.6470318278, 176663.6470318278, 176663.6470318278, 176663.6470318278, 176677.12349701027, 176690.59996219273, 176690.59996219273, 176690.59996219273, 176690.59996219273, 176690.59996219273, 176704.0764273752, 176709.4670134482, 176714.85759952117, 176714.85759952117, 176722.94347863068, 176725.63877166717, 176725.63877166717, 176725.63877166717, 176731.02935774016, 176736.41994381315, 176736.41994381315, 176736.41994381315, 176736.41994381315, 176736.41994381315, 176739.11523684964, 176744.50582292263, 176768.76346025107, 176774.15404632405, 176784.93521847003, 176798.4116836525, 176798.4116836525, 176798.4116836525, 176798.4116836525, 176798.4116836525, 176798.4116836525, 176798.4116836525, 176806.49756276197, 176825.36461401742, 176836.14578616343, 176836.14578616343, 176836.14578616343, 176841.5363722364, 176841.5363722364, 176852.3175443824, 176868.48930260135, 176890.0516468933, 176900.83281903926, 176911.61399118524, 176922.39516333124, 176922.39516333124, 176925.0904563677, 176930.4810424407, 176933.1763354772, 176933.1763354772, 176943.95750762318, 176949.34809369617, 176952.04338673266, 176992.47278228006, 176992.47278228006, 177005.94924746253, 177005.94924746253, 177014.035126572, 177022.1210056815, 177027.5115917545, 177046.37864300996, 177046.37864300996, 177065.2456942654, 177065.2456942654, 177067.9409873019, 177094.89391766684, 177113.7609689223, 177116.45626195878, 177129.93272714125, 177129.93272714125, 177132.62802017777, 177135.32331321423, 177138.01860625076, 177140.71389928725, 177148.79977839673, 177162.2762435792, 177175.75270876166, 177186.53388090763, 177229.65856949153, 177237.74444860104, 177243.13503467402, 177248.525620747, 177253.91620682, 177256.6114998565, 177264.69737896597, 177278.17384414843, 177288.9550162944, 177302.43148147687, 177310.51736058635, 177313.21265362285, 177318.60323969583, 177332.0797048783, 177337.4702909513, 177337.4702909513, 177337.4702909513, 177337.4702909513, 177337.4702909513, 177337.4702909513, 177337.4702909513, 177337.4702909513, 177337.4702909513, 177337.4702909513, 177337.4702909513, 177337.4702909513, 177337.4702909513, 177337.4702909513, 177337.4702909513, 177337.4702909513, 177337.4702909513, 177337.4702909513, 177337.4702909513, 177337.4702909513, 177337.4702909513, 177337.4702909513, 177337.4702909513, 177337.4702909513, 177337.4702909513, 177337.4702909513, 177337.4702909513, 177337.4702909513, 177337.4702909513, 177383.2902725717, 177385.9855656082, 177388.6808586447, 177391.37615168118, 177391.37615168118, 177396.76673775417, 177402.15732382715, 177437.19613330156, 177450.67259848403, 177450.67259848403, 177456.06318455705, 177458.75847759354, 177458.75847759354, 177488.40670099496, 177499.18787314094, 177499.18787314094, 177499.18787314094, 177499.18787314094, 177515.3596313599, 177523.44551046938, 177523.44551046938, 177534.22668261535, 177550.3984408343, 177563.8749060168, 177563.8749060168, 177563.8749060168, 177566.5701990533, 177601.6090085277, 177606.9995946007, 177606.9995946007, 177606.9995946007, 177606.9995946007, 177606.9995946007, 177606.9995946007, 177606.9995946007, 177606.9995946007, 177606.9995946007, 177606.9995946007, 177606.9995946007, 177606.9995946007, 177609.6948876372, 177631.25723192914, 177650.1242831846, 177660.9054553306, 177660.9054553306, 177660.9054553306, 177674.38192051306, 177685.16309265903, 177687.85838569552, 177701.334850878, 177701.334850878, 177712.11602302396, 177714.81131606046, 177720.20190213344, 177720.20190213344, 177722.89719516994, 177725.59248820643, 177725.59248820643, 177741.7642464254, 177757.93600464438, 177760.63129768084, 177763.32659071736, 177795.67010715528, 177798.36540019177, 177817.23245144723, 177817.23245144723, 177819.92774448372, 177822.6230375202, 177833.4042096662, 177841.49008877567, 177841.49008877567, 177865.7477261041, 177876.5288982501, 177876.5288982501, 177876.5288982501, 177876.5288982501, 177887.31007039608, 177890.00536343257, 177892.70065646907, 177916.9582937975, 177919.653586834, 177957.3876893449, 177965.47356845438, 177973.5594475639, 177981.64532667337, 177984.34061970987, 177984.34061970987, 177984.34061970987, 177997.81708489233, 177997.81708489233, 178000.51237792883, 178003.20767096532, 178005.9029640018, 178011.2935500748, 178022.07472222077, 178035.55118740324, 178038.24648043973, 178038.24648043973, 178043.63706651272, 178070.58999687765, 178086.76175509664, 178092.15234116963, 178108.32409938858, 178121.80056457105, 178137.97232279, 178146.0582018995, 178154.14408100897, 178167.62054619147, 178181.09701137393, 178189.1828904834, 178189.1828904834, 178189.1828904834, 178189.1828904834, 178191.8781835199, 178191.8781835199, 178191.8781835199, 178199.96406262938, 178245.78404424977, 178245.78404424977, 178253.86992335925, 178267.34638854171, 178280.82285372418, 178280.82285372418, 178280.82285372418, 178280.82285372418, 178280.82285372418, 178280.82285372418, 178280.82285372418, 178288.9087328337, 178307.77578408914, 178307.77578408914, 178307.77578408914, 178307.77578408914, 178318.55695623512, 178334.72871445408, 178342.81459356355, 178342.81459356355, 178348.20517963654, 178348.20517963654, 178348.20517963654, 178348.20517963654, 178348.20517963654, 178348.20517963654, 178367.072230892, 178394.02516125696, 178412.8922125124, 178415.5875055489, 178415.5875055489, 178429.06397073137, 178458.7121941328, 178491.0557105707, 178496.44629664373, 178507.2274687897, 178520.70393397217, 178550.3521573736, 178550.3521573736, 178555.74274344658, 178558.43803648307, 178569.21920862905, 178582.69567381154, 178588.08625988453, 178593.4768459575, 178598.8674320305, 178623.12506935894, 178631.21094846842, 178636.6015345414, 178650.07799972387, 178652.77329276036, 178658.16387883335, 178663.55446490634, 178685.11680919828, 178685.11680919828, 178693.2026883078, 178698.59327438078, 178712.06973956325, 178717.46032563623, 178739.02266992818, 178739.02266992818, 178752.49913511064, 178752.49913511064, 178752.49913511064, 178752.49913511064, 178768.6708933296, 178771.3661863661, 178774.0614794026, 178779.45206547558, 178779.45206547558, 178795.62382369454, 178801.01440976752, 178806.40499584054, 178811.79558191352, 178814.49087495002, 178817.1861679865, 178819.881461023, 178830.66263316898, 178833.35792620547, 178836.05321924196, 178846.83439138794, 178876.48261478936, 178876.48261478936, 178876.48261478936, 178876.48261478936, 178879.17790782586, 178889.95907997183, 178919.60730337328, 178922.30259640978, 178927.69318248276, 178930.38847551926, 178930.38847551926, 178954.6461128477, 178954.6461128477, 178954.6461128477, 178954.6461128477, 178954.6461128477, 178954.6461128477, 178954.6461128477, 178954.6461128477, 178954.6461128477, 178954.6461128477, 178954.6461128477, 178954.6461128477, 178954.6461128477, 178954.6461128477, 178954.6461128477, 178954.6461128477, 178954.6461128477, 178954.6461128477, 178954.6461128477, 178954.6461128477, 178954.6461128477, 178954.6461128477, 178954.6461128477, 178954.6461128477, 178954.6461128477, 178954.6461128477, 178954.6461128477, 178954.6461128477, 178954.6461128477, 178954.6461128477, 178954.6461128477, 178954.6461128477, 178954.6461128477, 178954.6461128477, 178954.6461128477, 178954.6461128477, 178954.6461128477, 178954.6461128477, 178954.6461128477, 178954.6461128477, 178954.6461128477, 178954.6461128477, 178954.6461128477, 178954.6461128477, 178968.12257803016, 178968.12257803016, 178981.59904321263, 178986.9896292856, 179008.5519735776, 179027.41902483304, 179027.41902483304, 179051.67666216148, 179057.06724823447, 179057.06724823447, 179059.76254127096, 179086.7154716359, 179089.4107646724, 179089.4107646724, 179105.58252289135, 179110.97310896433, 179116.36369503735, 179116.36369503735, 179121.75428111033, 179143.31662540228, 179146.01191843877, 179148.70721147527, 179156.79309058475, 179156.79309058475, 179170.2695557672, 179248.43305382555, 179269.9953981175, 179278.08127722697, 179278.08127722697, 179278.08127722697, 179286.16715633645, 179288.86244937294, 179288.86244937294, 179302.3389145554, 179315.81537973788, 179321.20596581086, 179326.59655188388, 179337.37772402985, 179340.07301706634, 179358.9400683218, 179358.9400683218, 179358.9400683218, 179358.9400683218, 179358.9400683218, 179358.9400683218, 179358.9400683218, 179358.9400683218, 179358.9400683218, 179358.9400683218, 179358.9400683218, 179358.9400683218, 179377.80711957725, 179380.50241261374, 179383.19770565024, 179385.89299868673, 179385.89299868673, 179385.89299868673, 179393.9788777962, 179396.6741708327, 179399.3694638692, 179407.45534297868, 179412.84592905166, 179415.54122208816, 179439.79885941662, 179439.79885941662, 179447.8847385261, 179455.97061763558, 179455.97061763558, 179466.75178978156, 179466.75178978156, 179493.7047201465, 179493.7047201465, 179496.40001318298, 179499.09530621947, 179499.09530621947, 179501.79059925597, 179501.79059925597, 179515.26706443843, 179544.9152878399, 179544.9152878399, 179561.08704605885, 179561.08704605885, 179561.08704605885, 179569.17292516833, 179574.56351124131, 179590.73526946027, 179598.82114856975, 179598.82114856975, 179601.51644160625, 179606.90702767923, 179606.90702767923, 179625.7740789347, 179641.94583715367, 179644.64113019017, 179650.03171626315, 179663.50818144562, 179690.46111181055, 179709.328163066, 179730.89050735795, 179741.67167950395, 179763.2340237959, 179763.2340237959, 179763.2340237959, 179763.2340237959, 179763.2340237959, 179763.2340237959, 179763.2340237959, 179763.2340237959, 179763.2340237959, 179779.40578201486, 179790.18695416083, 179817.13988452576, 179817.13988452576, 179817.13988452576, 179833.31164274475, 179836.00693578122, 179838.70222881774, 179838.70222881774, 179844.09281489073, 179862.95986614618, 179862.95986614618, 179865.65515918267, 179865.65515918267, 179876.43633132864, 179884.52221043812, 179889.9127965111, 179897.9986756206, 179938.42807116802, 179938.42807116802, 179943.818657241, 179973.46688064243, 179981.5527597519, 179995.02922493438, 180005.81039708035, 180008.50569011684, 180032.76332744528, 180032.76332744528, 180032.76332744528, 180032.76332744528, 180032.76332744528, 180032.76332744528, 180032.76332744528, 180032.76332744528, 180032.76332744528, 180043.54449959128, 180046.23979262775, 180051.63037870076, 180059.71625781024, 180059.71625781024, 180062.41155084674, 180065.10684388323, 180083.97389513868, 180086.66918817518, 180089.36448121167, 180110.92682550361, 180119.0127046131, 180143.27034194156, 180145.96563497803, 180151.356221051, 180167.52797927, 180167.52797927, 180259.1679425108, 180259.1679425108, 180275.33970072976, 180318.46438931365, 180329.24556145963, 180329.24556145963, 180340.0267336056, 180356.19849182456, 180356.19849182456, 180361.58907789757, 180369.67495700705, 180369.67495700705, 180369.67495700705, 180369.67495700705, 180372.37025004355, 180383.15142218952, 180393.9325943355, 180393.9325943355, 180410.10435255445, 180410.10435255445, 180410.10435255445, 180410.10435255445, 180410.10435255445, 180410.10435255445, 180410.10435255445, 180412.79964559095, 180412.79964559095, 180415.49493862744, 180418.19023166393, 180428.9714038099, 180437.05728291938, 180442.44786899237, 180442.44786899237, 180461.31492024782, 180474.79138543032, 180490.96314364928, 180493.65843668577, 180496.35372972226, 180504.43960883174, 180507.13490186824, 180515.22078097772, 180517.9160740142, 180523.3066600872, 180528.69724616018, 180534.08783223317, 180550.25959045213, 180563.73605563462, 180571.8219347441, 180571.8219347441, 180571.8219347441, 180571.8219347441, 180571.8219347441, 180571.8219347441, 180571.8219347441, 180585.29839992657, 180587.99369296306, 180587.99369296306, 180587.99369296306, 180590.68898599956, 180593.38427903605, 180612.2513302915, 180641.89955369293, 180652.6807258389, 180666.15719102137, 180668.8524840579, 180671.54777709435, 180671.54777709435, 180671.54777709435, 180671.54777709435, 180671.54777709435, 180679.63365620386, 180679.63365620386, 180695.80541442282, 180733.53951693373, 180736.23480997022, 180744.3206890797, 180747.0159821162, 180749.7112751527, 180752.40656818918, 180771.27361944463, 180798.2265498096, 180811.70301499206, 180827.87477321102, 180841.3512383935, 180852.13241053946, 180860.21828964894, 180860.21828964894, 180884.4759269774, 180895.25709912338, 180895.25709912338, 180895.25709912338, 180895.25709912338, 180895.25709912338, 180895.25709912338, 180895.25709912338, 180895.25709912338, 180906.03827126935, 180924.9053225248, 180935.68649467078, 180935.68649467078, 180941.07708074377, 180989.59235540067, 180992.28764843717, 180994.98294147366, 181013.8499927291, 181019.2405788021, 181021.9358718386, 181024.63116487509, 181056.974681313, 181062.365267386, 181062.365267386, 181070.45114649547, 181073.14643953196, 181081.23231864144, 181097.40407686043, 181110.8805420429, 181110.8805420429, 181110.8805420429, 181110.8805420429, 181110.8805420429, 181110.8805420429, 181110.8805420429, 181110.8805420429, 181110.8805420429, 181110.8805420429, 181110.8805420429, 181116.27112811588, 181137.83347240783, 181137.83347240783, 181137.83347240783, 181137.83347240783, 181140.52876544432, 181164.78640277276, 181167.48169580926, 181178.26286795523, 181189.04404010123, 181202.5205052837, 181210.60638439318, 181218.69226350266, 181218.69226350266, 181218.69226350266, 181218.69226350266, 181218.69226350266, 181221.38755653915, 181237.5593147581, 181240.2546077946, 181251.03577994058, 181251.03577994058, 181256.42636601356, 181261.81695208655, 181264.51224512304, 181280.684003342, 181283.3792963785, 181313.02751977995, 181313.02751977995, 181326.50398496242, 181326.50398496242, 181329.1992779989, 181331.8945710354, 181369.6286735463, 181380.40984569228, 181380.40984569228, 181380.40984569228, 181380.40984569228, 181412.75336213023, 181431.62041338568, 181461.2686367871, 181461.2686367871, 181461.2686367871, 181461.2686367871, 181461.2686367871, 181466.6592228601, 181469.3545158966, 181490.91686018853, 181493.61215322505, 181499.00273929804, 181507.08861840752, 181520.56508359, 181534.04154877245, 181542.12742788193, 181542.12742788193, 181547.51801395492, 181558.2991861009, 181569.08035824687, 181577.16623735634, 181579.86153039284, 181579.86153039284, 181628.37680504975, 181631.07209808624, 181633.76739112273, 181649.9391493417, 181658.02502845117, 181658.02502845117, 181682.2826657796, 181690.3685448891, 181693.06383792558, 181714.62618221756, 181717.32147525405, 181717.32147525405, 181717.32147525405, 181717.32147525405, 181717.32147525405, 181717.32147525405, 181717.32147525405, 181725.40735436353, 181725.40735436353, 181736.1885265095, 181741.5791125825, 181744.27440561898, 181749.66499169197, 181773.9226290204, 181784.70380116638, 181790.09438723937, 181798.18026634885, 181800.87555938534, 181808.96143849485, 181825.1331967138, 181830.5237827868, 181830.5237827868, 181844.00024796926, 181860.17200618822, 181865.5625922612, 181870.9531783342, 181892.51552262614, 181941.03079728305, 181946.42138335604, 181951.81196942902, 181976.06960675746, 181986.85077890343, 181994.9366580129, 182005.7178301589, 182021.88958837785, 182024.58488141437, 182054.2331048158, 182056.9283978523, 182078.49074214423, 182086.5766212537, 182086.5766212537, 182102.74837947267, 182105.44367250917, 182116.22484465514, 182129.70130983763, 182129.70130983763, 182135.09189591062, 182145.8730680566, 182162.04482627555, 182164.74011931205, 182164.74011931205, 182170.13070538503, 182188.99775664049, 182188.99775664049, 182188.99775664049, 182188.99775664049, 182188.99775664049, 182188.99775664049, 182188.99775664049, 182188.99775664049, 182188.99775664049, 182188.99775664049, 182188.99775664049, 182188.99775664049, 182188.99775664049, 182188.99775664049, 182188.99775664049, 182188.99775664049, 182188.99775664049, 182188.99775664049, 182188.99775664049, 182188.99775664049, 182188.99775664049, 182188.99775664049, 182188.99775664049, 182188.99775664049, 182188.99775664049, 182232.1224452244, 182237.5130312974, 182242.90361737038, 182242.90361737038, 182256.38008255285, 182275.2471338083, 182286.02830595427, 182294.11418506375, 182310.2859432827, 182312.9812363192, 182329.1529945382, 182345.32475275715, 182348.02004579364, 182383.05885526806, 182404.62119956, 182431.57412992493, 182431.57412992493, 182445.05059510743, 182447.74588814392, 182455.8317672534, 182458.5270602899, 182472.00352547236, 182496.2611628008, 182507.04233494677, 182512.43292101976, 182515.12821405625, 182528.60467923872, 182531.2999722752, 182533.99526531174, 182533.99526531174, 182539.38585138472, 182547.4717304942, 182555.55760960368, 182555.55760960368, 182574.42466085913, 182577.11995389563, 182593.2917121146, 182593.2917121146, 182620.24464247952, 182647.19757284445, 182684.9316753554, 182701.10343357435, 182703.79872661084, 182711.88460572032, 182722.6657778663, 182728.05636393928, 182728.05636393928, 182728.05636393928, 182728.05636393928, 182733.44695001227, 182736.14224304876, 182736.14224304876, 182792.74339681515, 182795.43868985164, 182795.43868985164, 182800.82927592463, 182806.2198619976, 182806.2198619976, 182835.86808539904, 182835.86808539904, 182860.1257227275, 182862.821015764, 182862.821015764, 182862.821015764, 182862.821015764, 182862.821015764, 182862.821015764, 182884.38336005594, 182889.77394612893, 182900.5551182749, 182903.2504113114, 182908.64099738438, 182914.03158345737, 182916.72687649386, 182916.72687649386, 182922.11746256685, 182930.20334167633, 182930.20334167633, 182930.20334167633, 182943.6798068588, 182954.4609790048, 182965.24215115077, 182965.24215115077, 182986.80449544272, 182997.5856675887, 182997.5856675887, 183005.67154669817, 183008.36683973466, 183011.06213277116, 183051.49152831855, 183073.05387261053, 183089.2256308295, 183094.61621690248, 183113.48326815793, 183121.5691472674, 183159.30324977834, 183175.4750079973, 183186.25618014327, 183199.73264532574, 183223.99028265418, 183223.99028265418, 183250.9432130191, 183250.9432130191, 183261.7243851651, 183267.11497123807, 183267.11497123807, 183267.11497123807, 183272.5055573111, 183285.98202249355, 183294.06790160303, 183304.849073749, 183310.239659822, 183315.63024589498, 183339.88788322342, 183342.5831762599, 183361.45022751536, 183361.45022751536, 183361.45022751536, 183361.45022751536, 183377.62198573435, 183396.4890369898, 183399.1843300263, 183401.8796230628, 183401.8796230628, 183401.8796230628, 183401.8796230628, 183401.8796230628, 183401.8796230628, 183401.8796230628, 183469.26194897515, 183469.26194897515, 183501.60546541307, 183542.03486096047, 183550.12074006995, 183558.20661917943, 183563.59720525242, 183579.7689634714, 183582.46425650787, 183609.41718687283, 183622.8936520553, 183625.5889450918, 183641.76070331075, 183644.45599634724, 183644.45599634724, 183644.45599634724, 183647.15128938374, 183655.23716849321, 183657.9324615297, 183682.19009885815, 183684.88539189467, 183692.97127100415, 183701.05715011363, 183703.75244315012, 183717.2289083326, 183738.79125262453, 183752.267717807, 183757.65830388, 183773.83006209895, 183790.00182031794, 183806.1735785369, 183816.95475068287, 183830.43121586533, 183843.9076810478, 183857.38414623027, 183865.47002533975, 183868.16531837624, 183873.55590444923, 183876.25119748572, 183876.25119748572, 183881.6417835587, 183900.5088348142, 183922.07117910613, 183932.8523512521, 183938.2429373251, 183951.71940250756, 183959.80528161704, 184008.32055627395, 184008.32055627395, 184008.32055627395, 184016.40643538343, 184019.10172841992, 184054.14053789433, 184075.70288218628, 184075.70288218628, 184075.70288218628, 184075.70288218628, 184075.70288218628, 184108.04639862422, 184116.1322777337, 184129.60874291617, 184145.78050113513, 184218.55341312048, 184226.63929222996, 184226.63929222996, 184245.5063434854, 184283.2404459963, 184285.9357390328, 184302.10749725177, 184345.2321858357, 184345.2321858357, 184345.2321858357, 184361.40394405465, 184380.2709953101, 184388.35687441958, 184388.35687441958, 184404.52863263857, 184412.61451174802, 184412.61451174802, 184412.61451174802, 184428.786269967, 184461.12978640493, 184461.12978640493, 184466.5203724779, 184466.5203724779, 184466.5203724779, 184466.5203724779, 184469.2156655144, 184479.99683766038, 184506.9497680253, 184517.7309401713, 184517.7309401713, 184533.90269839027, 184539.29328446326, 184547.37916357274, 184552.76974964573, 184558.1603357187, 184587.80855912014, 184593.19914519312, 184598.5897312661, 184614.7614894851, 184614.7614894851, 184614.7614894851, 184614.7614894851, 184614.7614894851, 184614.7614894851, 184614.7614894851, 184660.58147110548, 184687.53440147042, 184714.48733183538, 184749.5261413098, 184752.22143434628, 184781.8696577477, 184787.2602438207, 184789.9555368572, 184795.34612293018, 184795.34612293018, 184795.34612293018, 184795.34612293018, 184822.2990532951, 184824.99434633163, 184824.99434633163, 184835.7755184776, 184849.25198366007, 184862.72844884254, 184862.72844884254, 184873.5096209885, 184884.29079313448, 184884.29079313448, 184884.29079313448, 184948.97782601035, 184951.67311904684, 184965.1495842293, 184981.32134244827, 184986.71192852125, 184989.40722155775, 184994.79780763073, 185002.8836867402, 185008.2742728132, 185019.05544495917, 185021.75073799567, 185021.75073799567, 185032.53191014164, 185086.43777087153, 185099.914236054, 185108.00011516348, 185113.39070123647, 185121.47658034594, 185143.03892463792, 185153.8200967839, 185153.8200967839, 185153.8200967839, 185183.46832018532, 185207.72595751376, 185215.81183662324, 185218.50712965973, 185226.5930087692, 185231.9835948422, 185240.0694739517, 185285.8894555721, 185293.97533468157, 185307.45179986404, 185369.4435397034, 185391.00588399536, 185391.00588399536, 185420.65410739678, 185423.34940043328, 185423.34940043328, 185423.34940043328, 185423.34940043328, 185431.43527954275, 185452.99762383473, 185471.86467509018, 185504.2081915281, 185547.332880112, 185552.72346618498, 185652.44930853526, 185665.92577371775, 185665.92577371775, 185665.92577371775, 185665.92577371775, 185679.40223890022, 185690.1834110462, 185690.1834110462, 185698.26929015567, 185703.65987622866, 185714.44104837463, 185741.39397873956, 185752.17515088554, 185768.34690910453, 185784.5186673235, 185792.60454643297, 185811.47159768842, 185811.47159768842, 185827.64335590738, 185827.64335590738, 185830.33864894387, 185841.11982108984, 185841.11982108984, 185854.59628627234, 185854.59628627234, 185876.15863056428, 185886.93980271026, 185908.5021470022, 185908.5021470022, 185913.8927330752, 185938.15037040363, 185940.84566344012, 185957.01742165908, 185970.49388684158, 185975.88447291456, 185975.88447291456, 185986.66564506054, 186005.532696316, 186016.31386846196, 186027.09504060794, 186035.18091971742, 186037.8762127539, 186078.3056083013, 186081.00090133783, 186097.1726595568, 186113.34441777575, 186116.03971081224, 186161.85969243263, 186191.50791583408, 186207.67967405304, 186210.37496708953, 186229.242018345, 186242.71848352745, 186285.84317211137, 186304.71022336683, 186307.40551640332, 186307.40551640332, 186323.57727462228, 186345.13961891423, 186345.13961891423, 186366.70196320617, 186366.70196320617, 186372.09254927916, 186377.48313535214, 186388.26430749812, 186396.35018660763, 186409.8266517901, 186434.08428911853, 186436.77958215502, 186442.170168228, 186458.34192644697, 186469.12309859294, 186479.90427073895, 186482.5995637754, 186485.29485681193, 186487.9901498484, 186501.4666150309, 186501.4666150309, 186544.59130361478, 186555.37247576076, 186595.80187130818, 186598.49716434465, 186603.88775041766, 186603.88775041766, 186620.05950863662, 186628.1453877461, 186636.23126685558, 186636.23126685558, 186652.40302507454, 186663.18419722051, 186665.879490257, 186673.9653693665, 186687.44183454895, 186700.91829973145, 186752.12886742482, 186792.55826297222, 186800.64414208173, 186806.03472815471, 186819.51119333718, 186870.72176103055, 186876.11234710354, 186894.97939835902, 186911.15115657798, 186954.27584516187, 187000.0958267823, 187010.87699892826, 187056.69698054864, 187080.95461787708, 187129.469892534, 187129.469892534, 187148.33694378944, 187215.7192697018, 187215.7192697018, 187231.89102792076, 187248.06278613972, 187256.1486652492, 187288.49218168712, 187310.0545259791, 187315.44511205208, 187320.83569812507, 187320.83569812507, 187342.39804241701, 187363.96038670896, 187363.96038670896, 187385.5227310009, 187396.30390314688, 187404.38978225636, 187471.77210816872, 187504.11562460664, 187509.50621067962, 187509.50621067962, 187520.28738282563, 187531.0685549716, 187574.1932435555, 187579.58382962848, 187587.66970873796, 187638.88027643133, 187719.73906752618, 187722.43436056265, 187735.91082574514, 187752.0825839641, 187789.816686475, 187803.29315165748, 187811.37903076696, 187814.07432380345, 187816.76961683994, 187822.16020291293, 187843.72254720487, 187849.1131332779, 187849.1131332779, 187849.1131332779, 187900.32370097126, 187916.49545919022, 187927.2766313362, 187946.14368259168, 188013.526008504, 188032.39305975946, 188075.51774834338, 188118.64243692727, 188121.33772996377, 188132.11890210974, 188134.81419514623, 188140.20478121925, 188156.3765394382, 188159.07183247467, 188202.1965210586, 188229.14945142352, 188253.40708875196, 188258.79767482495, 188261.49296786147, 188301.92236340887, 188304.61765644536, 188307.31294948186, 188312.70353555484, 188312.70353555484, 188312.70353555484, 188312.70353555484, 188312.70353555484, 188312.70353555484, 188390.86703361318, 188409.73408486863, 188409.73408486863, 188415.12467094162, 188455.55406648904, 188455.55406648904, 188455.55406648904, 188455.55406648904, 188463.6399455985, 188474.4211177445, 188501.37404810943, 188504.06934114592, 188547.1940297298, 188555.27990883932, 188584.92813224075, 188590.31871831373, 188657.70104422607, 188657.70104422607, 188668.48221637204, 188695.435146737, 188698.1304397735, 188792.4656960508, 188800.55157516027, 188819.41862641572, 188824.8092124887, 188832.89509159818, 188884.10565929156, 188889.49624536457, 188927.23034787548, 188927.23034787548, 188927.23034787548, 189032.34677629874, 189051.2138275542, 189061.99499970017, 189075.47146488266, 189088.9479300651, 189134.7679116855, 189150.93966990447, 189153.63496294097, 189196.7596515249, 189245.27492618177, 189245.27492618177, 189266.8372704737, 189299.18078691163, 189304.57137298465, 189331.52430334958, 189390.82075015246, 189396.21133622545, 189406.99250837142, 189452.8124899918, 189466.28895517427, 189466.28895517427, 189466.28895517427, 189468.98424821076, 189504.02305768518, 189506.7183507217, 189512.10893679468, 189514.80422983118, 189536.36657412312, 189582.1865557435, 189628.00653736392, 189649.56888165587, 189700.77944934927, 189735.81825882368, 189735.81825882368, 189735.81825882368, 189754.68531007913, 189776.24765437108, 189784.33353348056, 189846.32527331993, 189870.58291064837, 189870.58291064837, 189873.27820368487, 189881.36408279435, 189932.57465048775, 189951.4417017432, 189951.4417017432, 189956.83228781619, 189973.00404603514, 189986.4805112176, 189986.4805112176, 189986.4805112176, 189991.8710972906, 189991.8710972906, 190005.3475624731, 190016.12873461907, 190032.30049283803, 190080.8157674949, 190142.80750733428, 190161.67455858973, 190161.67455858973, 190194.01807502765, 190204.79924717362, 190304.5250895239, 190342.25919203483, 190355.7356572173, 190374.60270847275, 190436.59444831213, 190460.85208564057, 190463.54737867706, 190520.14853244342, 190520.14853244342, 190520.14853244342, 190563.27322102734, 190746.55314750894, 190813.93547342127, 190813.93547342127, 190830.10723164023, 190959.48129739193, 190994.52010686637, 191034.94950241377, 191083.46477707068, 191115.8082935086, 191123.89417261808, 191123.89417261808, 191123.89417261808, 191142.76122387353, 191183.19061942096, 191183.19061942096, 191204.7529637129, 191215.53413585888, 191229.01060104134, 191237.09648015082, 191274.83058266173, 191285.61175480773, 191285.61175480773, 191285.61175480773, 191326.04115035513, 191328.73644339162, 191352.99408072006, 191379.947011085, 191393.4234762675, 191398.81406234048, 191423.07169966892, 191433.8528718149, 191447.32933699735, 191487.75873254478, 191506.62578380023, 191514.7116629097, 191533.57871416517, 191560.5316445301, 191619.82809133298, 191622.52338436947, 191630.60926347895, 191652.1716077709, 191703.3821754643, 191703.3821754643, 191706.0774685008, 191711.46805457378, 191776.15508744965, 191795.02213870507, 191824.67036210652, 191940.56796267576, 191943.26325571226, 192005.2549955516, 192026.81733984358, 192026.81733984358, 192061.856149318, 192258.61254098205, 192272.08900616452, 192320.60428082143, 192336.7760390404, 192355.64309029584, 192387.98660673376, 192390.68189977025, 192396.07248584327, 192425.7207092447, 192433.80658835417, 192619.78180787223, 192646.7347382372, 192657.51591038317, 192684.4688407481, 192687.1641337846, 192754.54645969695, 192843.49112990126, 192867.7487672297, 192900.09228366762, 192910.8734558136, 192916.2640418866, 192918.95933492307, 192978.25578172595, 192978.25578172595, 193045.6381076383, 193067.20045193026, 193104.93455444116, 193129.1921917696, 193131.88748480612, 193218.1368619739, 193369.0732720176, 193409.502667565, 193447.23677007592, 193611.64964530204, 193881.17894895145, 194156.09883867382, 194199.22352725774, 194215.3952854767, 194218.0905785132, 194247.73880191462, 194304.339955681, 194317.81642086347, 194333.98817908243, 194350.1599373014, 194544.22103592896, 194552.30691503844, 194587.34572451288, 194590.04101754935, 194614.2986548778, 194633.16570613327, 194657.4233434617, 194662.8139295347, 194670.89980864417, 194670.89980864417, 194851.48444208928, 194918.86676800164, 195029.3737824979, 195061.7172989358, 195067.1078850088, 195083.27964322775, 195107.53728055622, 195126.40433181167, 195126.40433181167, 195126.40433181167, 195131.79491788466, 195156.0525552131, 195156.0525552131, 195188.39607165102, 195220.73958808894, 195288.1219140013, 195288.1219140013, 195331.24660258522, 195530.69828728575, 195530.69828728575, 195619.64295749005, 195835.26640040957, 195840.65698648256, 195854.13345166505, 195924.21107061388, 195994.28868956273, 196088.62394584002, 196236.86506284718, 196266.51328624864, 196293.46621661357, 196344.67678430694, 196355.4579564529, 196363.54383556242, 196562.99552026298, 196627.68255313882, 196630.3778461753, 196643.85431135778, 196732.79898156208, 196794.79072140146, 196813.6577726569, 196902.6024428612, 196929.55537322615, 196959.20359662757, 196972.68006181007, 196978.07064788305, 197013.10945735747, 197069.71061112382, 197231.42819331348, 197247.59995153244, 197420.09870586806, 197460.52810141546, 197530.6057203643, 197552.16806465626, 197673.45625129848, 197713.8856468459, 197716.58093988238, 197916.03262458293, 197948.37614102088, 197980.7196574588, 197980.7196574588, 198007.67258782376, 198069.6643276631, 198085.83608588207, 198190.95251430533, 198279.89718450964, 198279.89718450964, 198304.15482183808, 198549.42648815905, 198630.28527925385, 198643.76174443634, 199015.7121834725, 199120.82861189576, 199180.12505869864, 199223.24974728253, 199277.1556080124, 199355.31910607073, 199436.17789716556, 199484.69317182247, 199511.6461021874, 199552.0754977348, 199870.1200760411, 199977.93179750085, 200039.92353734022, 200066.87646770515, 200207.03170560283, 200247.46110115026, 200247.46110115026, 200255.54698025974, 200325.6245992086, 200357.9681156465, 200360.663408683, 200508.9045256902, 200516.99040479964, 200708.35621039075, 200934.76082545624, 200996.75256529558, 201077.6113563904, 201247.4148176895, 201247.4148176895, 201379.48417647774, 201538.50646563087, 201595.10761939725, 201675.96641049208, 201713.700513003, 201762.21578765986, 202026.3545052363, 202298.5791019222, 202309.36027406817, 202336.3132044331, 202635.49073148394, 202807.98948581953, 202926.5823794253, 203101.77642679738, 203212.28344129364, 203751.34204859246, 203851.06789094274, 203993.9184218769, 204662.3510949274, 204977.7003801972, 205088.20739469345, 205309.221423686, 205659.6095184302, 205697.3436209411, 205772.81182596294, 206028.86466442986, 206150.1528510721, 206446.63508508645, 206716.16438873584, 206850.92904056056, 206872.4913848525, 206985.69369238525, 207152.80186064786, 207158.19244672084, 207713.42281223863, 207942.5227203406, 208147.36499111415, 208451.93310423798, 208853.5317666756, 209090.71755388705, 209400.67625308386, 209680.98672887924, 210438.36407213405, 210451.84053731652, 210486.87934679096, 210678.245152382, 210715.97925489294, 210901.95447441103, 211117.57791733055, 211122.96850340354, 211241.56139700927, 211554.21538924257, 211702.45650624973, 211702.45650624973, 211783.31529734455, 211783.31529734455, 211783.31529734455, 212031.282256702, 212187.60925281866, 212381.67035144623, 212742.8396183364, 213508.30284070072, 214241.4225466271, 214936.80815004252, 215764.26311224618, 215888.24659192492, 216634.84276303375, 216675.27215858115, 217039.13671850786, 217551.2423954417, 218009.44221164568, 219308.5734552358, 219605.05568925012, 220462.1588748552, 220718.21171332215, 221233.0126832925, 221375.86321422667, 221591.4866571462, 221769.3759975548, 223354.2083030133, 223540.18352253136, 223637.21407184514, 224235.56912594681, 227604.6854215643, 227731.36419427954, 230429.35252381, 233828.11704282893, 237226.88156184787, 237307.74035294267, 238709.29273191956, 240577.1308062099, 242347.93833118645, 244673.97622168076, 246471.73667702227, 247773.56321364886, 249463.5119475306, 251458.02879453616, 258476.5718615665, 258977.8963663544, 259231.25391178485, 261144.91196769557, 265204.0232806555, 270325.0800499941, 275985.1954266315, 278650.8402397241, 280513.2877279414, 288119.4046769275, 288574.909200095, 293164.9932412442, 296218.7602515919, 296542.1954159712, 297288.79158708005, 305633.41882806545, 307250.59464996186, 325274.0191849972, 343801.4635178569, 463440.13082175236, 581631.4257650506, 596886.7843516066, 733228.1826026554], \"yaxis\": \"y\"}],\n",
              "                        {\"legend\": {\"tracegroupgap\": 0}, \"margin\": {\"t\": 60}, \"template\": {\"data\": {\"bar\": [{\"error_x\": {\"color\": \"#2a3f5f\"}, \"error_y\": {\"color\": \"#2a3f5f\"}, \"marker\": {\"line\": {\"color\": \"#E5ECF6\", \"width\": 0.5}}, \"type\": \"bar\"}], \"barpolar\": [{\"marker\": {\"line\": {\"color\": \"#E5ECF6\", \"width\": 0.5}}, \"type\": \"barpolar\"}], \"carpet\": [{\"aaxis\": {\"endlinecolor\": \"#2a3f5f\", \"gridcolor\": \"white\", \"linecolor\": \"white\", \"minorgridcolor\": \"white\", \"startlinecolor\": \"#2a3f5f\"}, \"baxis\": {\"endlinecolor\": \"#2a3f5f\", \"gridcolor\": \"white\", \"linecolor\": \"white\", \"minorgridcolor\": \"white\", \"startlinecolor\": \"#2a3f5f\"}, \"type\": \"carpet\"}], \"choropleth\": [{\"colorbar\": {\"outlinewidth\": 0, \"ticks\": \"\"}, \"type\": \"choropleth\"}], \"contour\": [{\"colorbar\": {\"outlinewidth\": 0, \"ticks\": \"\"}, \"colorscale\": [[0.0, \"#0d0887\"], [0.1111111111111111, \"#46039f\"], [0.2222222222222222, \"#7201a8\"], [0.3333333333333333, \"#9c179e\"], [0.4444444444444444, \"#bd3786\"], [0.5555555555555556, \"#d8576b\"], [0.6666666666666666, \"#ed7953\"], [0.7777777777777778, \"#fb9f3a\"], [0.8888888888888888, \"#fdca26\"], [1.0, \"#f0f921\"]], \"type\": \"contour\"}], \"contourcarpet\": [{\"colorbar\": {\"outlinewidth\": 0, \"ticks\": \"\"}, \"type\": \"contourcarpet\"}], \"heatmap\": [{\"colorbar\": {\"outlinewidth\": 0, \"ticks\": \"\"}, \"colorscale\": [[0.0, \"#0d0887\"], [0.1111111111111111, \"#46039f\"], [0.2222222222222222, \"#7201a8\"], [0.3333333333333333, \"#9c179e\"], [0.4444444444444444, \"#bd3786\"], [0.5555555555555556, \"#d8576b\"], [0.6666666666666666, \"#ed7953\"], [0.7777777777777778, \"#fb9f3a\"], [0.8888888888888888, \"#fdca26\"], [1.0, \"#f0f921\"]], \"type\": \"heatmap\"}], \"heatmapgl\": [{\"colorbar\": {\"outlinewidth\": 0, \"ticks\": \"\"}, \"colorscale\": [[0.0, \"#0d0887\"], [0.1111111111111111, \"#46039f\"], [0.2222222222222222, \"#7201a8\"], [0.3333333333333333, \"#9c179e\"], [0.4444444444444444, \"#bd3786\"], [0.5555555555555556, \"#d8576b\"], [0.6666666666666666, \"#ed7953\"], [0.7777777777777778, \"#fb9f3a\"], [0.8888888888888888, \"#fdca26\"], [1.0, \"#f0f921\"]], \"type\": \"heatmapgl\"}], \"histogram\": [{\"marker\": {\"colorbar\": {\"outlinewidth\": 0, \"ticks\": \"\"}}, \"type\": \"histogram\"}], \"histogram2d\": [{\"colorbar\": {\"outlinewidth\": 0, \"ticks\": \"\"}, \"colorscale\": [[0.0, \"#0d0887\"], [0.1111111111111111, \"#46039f\"], [0.2222222222222222, \"#7201a8\"], [0.3333333333333333, \"#9c179e\"], [0.4444444444444444, \"#bd3786\"], [0.5555555555555556, \"#d8576b\"], [0.6666666666666666, \"#ed7953\"], [0.7777777777777778, \"#fb9f3a\"], [0.8888888888888888, \"#fdca26\"], [1.0, \"#f0f921\"]], \"type\": \"histogram2d\"}], \"histogram2dcontour\": [{\"colorbar\": {\"outlinewidth\": 0, \"ticks\": \"\"}, \"colorscale\": [[0.0, \"#0d0887\"], [0.1111111111111111, \"#46039f\"], [0.2222222222222222, \"#7201a8\"], [0.3333333333333333, \"#9c179e\"], [0.4444444444444444, \"#bd3786\"], [0.5555555555555556, \"#d8576b\"], [0.6666666666666666, \"#ed7953\"], [0.7777777777777778, \"#fb9f3a\"], [0.8888888888888888, \"#fdca26\"], [1.0, \"#f0f921\"]], \"type\": \"histogram2dcontour\"}], \"mesh3d\": [{\"colorbar\": {\"outlinewidth\": 0, \"ticks\": \"\"}, \"type\": \"mesh3d\"}], \"parcoords\": [{\"line\": {\"colorbar\": {\"outlinewidth\": 0, \"ticks\": \"\"}}, \"type\": \"parcoords\"}], \"pie\": [{\"automargin\": true, \"type\": \"pie\"}], \"scatter\": [{\"marker\": {\"colorbar\": {\"outlinewidth\": 0, \"ticks\": \"\"}}, \"type\": \"scatter\"}], \"scatter3d\": [{\"line\": {\"colorbar\": {\"outlinewidth\": 0, \"ticks\": \"\"}}, \"marker\": {\"colorbar\": {\"outlinewidth\": 0, \"ticks\": \"\"}}, \"type\": \"scatter3d\"}], \"scattercarpet\": [{\"marker\": {\"colorbar\": {\"outlinewidth\": 0, \"ticks\": \"\"}}, \"type\": \"scattercarpet\"}], \"scattergeo\": [{\"marker\": {\"colorbar\": {\"outlinewidth\": 0, \"ticks\": \"\"}}, \"type\": \"scattergeo\"}], \"scattergl\": [{\"marker\": {\"colorbar\": {\"outlinewidth\": 0, \"ticks\": \"\"}}, \"type\": \"scattergl\"}], \"scattermapbox\": [{\"marker\": {\"colorbar\": {\"outlinewidth\": 0, \"ticks\": \"\"}}, \"type\": \"scattermapbox\"}], \"scatterpolar\": [{\"marker\": {\"colorbar\": {\"outlinewidth\": 0, \"ticks\": \"\"}}, \"type\": \"scatterpolar\"}], \"scatterpolargl\": [{\"marker\": {\"colorbar\": {\"outlinewidth\": 0, \"ticks\": \"\"}}, \"type\": \"scatterpolargl\"}], \"scatterternary\": [{\"marker\": {\"colorbar\": {\"outlinewidth\": 0, \"ticks\": \"\"}}, \"type\": \"scatterternary\"}], \"surface\": [{\"colorbar\": {\"outlinewidth\": 0, \"ticks\": \"\"}, \"colorscale\": [[0.0, \"#0d0887\"], [0.1111111111111111, \"#46039f\"], [0.2222222222222222, \"#7201a8\"], [0.3333333333333333, \"#9c179e\"], [0.4444444444444444, \"#bd3786\"], [0.5555555555555556, \"#d8576b\"], [0.6666666666666666, \"#ed7953\"], [0.7777777777777778, \"#fb9f3a\"], [0.8888888888888888, \"#fdca26\"], [1.0, \"#f0f921\"]], \"type\": \"surface\"}], \"table\": [{\"cells\": {\"fill\": {\"color\": \"#EBF0F8\"}, \"line\": {\"color\": \"white\"}}, \"header\": {\"fill\": {\"color\": \"#C8D4E3\"}, \"line\": {\"color\": \"white\"}}, \"type\": \"table\"}]}, \"layout\": {\"annotationdefaults\": {\"arrowcolor\": \"#2a3f5f\", \"arrowhead\": 0, \"arrowwidth\": 1}, \"coloraxis\": {\"colorbar\": {\"outlinewidth\": 0, \"ticks\": \"\"}}, \"colorscale\": {\"diverging\": [[0, \"#8e0152\"], [0.1, \"#c51b7d\"], [0.2, \"#de77ae\"], [0.3, \"#f1b6da\"], [0.4, \"#fde0ef\"], [0.5, \"#f7f7f7\"], [0.6, \"#e6f5d0\"], [0.7, \"#b8e186\"], [0.8, \"#7fbc41\"], [0.9, \"#4d9221\"], [1, \"#276419\"]], \"sequential\": [[0.0, \"#0d0887\"], [0.1111111111111111, \"#46039f\"], [0.2222222222222222, \"#7201a8\"], [0.3333333333333333, \"#9c179e\"], [0.4444444444444444, \"#bd3786\"], [0.5555555555555556, \"#d8576b\"], [0.6666666666666666, \"#ed7953\"], [0.7777777777777778, \"#fb9f3a\"], [0.8888888888888888, \"#fdca26\"], [1.0, \"#f0f921\"]], \"sequentialminus\": [[0.0, \"#0d0887\"], [0.1111111111111111, \"#46039f\"], [0.2222222222222222, \"#7201a8\"], [0.3333333333333333, \"#9c179e\"], [0.4444444444444444, \"#bd3786\"], [0.5555555555555556, \"#d8576b\"], [0.6666666666666666, \"#ed7953\"], [0.7777777777777778, \"#fb9f3a\"], [0.8888888888888888, \"#fdca26\"], [1.0, \"#f0f921\"]]}, \"colorway\": [\"#636efa\", \"#EF553B\", \"#00cc96\", \"#ab63fa\", \"#FFA15A\", \"#19d3f3\", \"#FF6692\", \"#B6E880\", \"#FF97FF\", \"#FECB52\"], \"font\": {\"color\": \"#2a3f5f\"}, \"geo\": {\"bgcolor\": \"white\", \"lakecolor\": \"white\", \"landcolor\": \"#E5ECF6\", \"showlakes\": true, \"showland\": true, \"subunitcolor\": \"white\"}, \"hoverlabel\": {\"align\": \"left\"}, \"hovermode\": \"closest\", \"mapbox\": {\"style\": \"light\"}, \"paper_bgcolor\": \"white\", \"plot_bgcolor\": \"#E5ECF6\", \"polar\": {\"angularaxis\": {\"gridcolor\": \"white\", \"linecolor\": \"white\", \"ticks\": \"\"}, \"bgcolor\": \"#E5ECF6\", \"radialaxis\": {\"gridcolor\": \"white\", \"linecolor\": \"white\", \"ticks\": \"\"}}, \"scene\": {\"xaxis\": {\"backgroundcolor\": \"#E5ECF6\", \"gridcolor\": \"white\", \"gridwidth\": 2, \"linecolor\": \"white\", \"showbackground\": true, \"ticks\": \"\", \"zerolinecolor\": \"white\"}, \"yaxis\": {\"backgroundcolor\": \"#E5ECF6\", \"gridcolor\": \"white\", \"gridwidth\": 2, \"linecolor\": \"white\", \"showbackground\": true, \"ticks\": \"\", \"zerolinecolor\": \"white\"}, \"zaxis\": {\"backgroundcolor\": \"#E5ECF6\", \"gridcolor\": \"white\", \"gridwidth\": 2, \"linecolor\": \"white\", \"showbackground\": true, \"ticks\": \"\", \"zerolinecolor\": \"white\"}}, \"shapedefaults\": {\"line\": {\"color\": \"#2a3f5f\"}}, \"ternary\": {\"aaxis\": {\"gridcolor\": \"white\", \"linecolor\": \"white\", \"ticks\": \"\"}, \"baxis\": {\"gridcolor\": \"white\", \"linecolor\": \"white\", \"ticks\": \"\"}, \"bgcolor\": \"#E5ECF6\", \"caxis\": {\"gridcolor\": \"white\", \"linecolor\": \"white\", \"ticks\": \"\"}}, \"title\": {\"x\": 0.05}, \"xaxis\": {\"automargin\": true, \"gridcolor\": \"white\", \"linecolor\": \"white\", \"ticks\": \"\", \"title\": {\"standoff\": 15}, \"zerolinecolor\": \"white\", \"zerolinewidth\": 2}, \"yaxis\": {\"automargin\": true, \"gridcolor\": \"white\", \"linecolor\": \"white\", \"ticks\": \"\", \"title\": {\"standoff\": 15}, \"zerolinecolor\": \"white\", \"zerolinewidth\": 2}}}, \"xaxis\": {\"anchor\": \"y\", \"domain\": [0.0, 1.0], \"title\": {\"text\": \"Lot_Area\"}}, \"yaxis\": {\"anchor\": \"x\", \"domain\": [0.0, 1.0], \"title\": {\"text\": \"SalePrice\"}}},\n",
              "                        {\"responsive\": true}\n",
              "                    ).then(function(){\n",
              "                            \n",
              "var gd = document.getElementById('23e4e99c-3426-493f-acb2-3014181a60dc');\n",
              "var x = new MutationObserver(function (mutations, observer) {{\n",
              "        var display = window.getComputedStyle(gd).display;\n",
              "        if (!display || display === 'none') {{\n",
              "            console.log([gd, 'removed!']);\n",
              "            Plotly.purge(gd);\n",
              "            observer.disconnect();\n",
              "        }}\n",
              "}});\n",
              "\n",
              "// Listen for the removal of the full notebook cells\n",
              "var notebookContainer = gd.closest('#notebook-container');\n",
              "if (notebookContainer) {{\n",
              "    x.observe(notebookContainer, {childList: true});\n",
              "}}\n",
              "\n",
              "// Listen for the clearing of the current output cell\n",
              "var outputEl = gd.closest('.output');\n",
              "if (outputEl) {{\n",
              "    x.observe(outputEl, {childList: true});\n",
              "}}\n",
              "\n",
              "                        })\n",
              "                };\n",
              "                \n",
              "            </script>\n",
              "        </div>\n",
              "</body>\n",
              "</html>"
            ]
          },
          "metadata": {
            "tags": []
          }
        }
      ]
    },
    {
      "cell_type": "code",
      "metadata": {
        "id": "3MVDBYhR4G-m",
        "colab_type": "code",
        "colab": {
          "base_uri": "https://localhost:8080/",
          "height": 265
        },
        "outputId": "c3ea3c97-25d8-4836-8d6b-9edcfa4fa1f8"
      },
      "source": [
        "import matplotlib.pyplot as plt\n",
        "\n",
        "plt.scatter(train['Bldg_Type'], train['SalePrice']);\n"
      ],
      "execution_count": 29,
      "outputs": [
        {
          "output_type": "display_data",
          "data": {
            "image/png": "[encoded data removed]",
            "text/plain": [
              "<Figure size 432x288 with 1 Axes>"
            ]
          },
          "metadata": {
            "tags": []
          }
        }
      ]
    },
    {
      "cell_type": "code",
      "metadata": {
        "id": "Bke4EMDR5Bhv",
        "colab_type": "code",
        "colab": {
          "base_uri": "https://localhost:8080/",
          "height": 265
        },
        "outputId": "8d8ec784-bb1e-4e0a-cbb8-c467db480191"
      },
      "source": [
        "import matplotlib.pyplot as plt\n",
        "\n",
        "plt.scatter(train['Exter_Qual'], train['SalePrice']);\n",
        "##This looks like an interesting feature."
      ],
      "execution_count": 30,
      "outputs": [
        {
          "output_type": "display_data",
          "data": {
            "image/png": "[encoded data removed]",
            "text/plain": [
              "<Figure size 432x288 with 1 Axes>"
            ]
          },
          "metadata": {
            "tags": []
          }
        }
      ]
    },
    {
      "cell_type": "code",
      "metadata": {
        "id": "6wsJd7XL2q1I",
        "colab_type": "code",
        "colab": {}
      },
      "source": [
        "#homes.describe().T"
      ],
      "execution_count": 0,
      "outputs": []
    },
    {
      "cell_type": "code",
      "metadata": {
        "id": "gwE_UiQv3q4C",
        "colab_type": "code",
        "colab": {}
      },
      "source": [
        "#train.describe(exclude='number').T.sort_values(by='unique')"
      ],
      "execution_count": 0,
      "outputs": []
    },
    {
      "cell_type": "markdown",
      "metadata": {
        "colab_type": "text",
        "id": "zDT-gSl_-Gwh"
      },
      "source": [
        "## 2.4. Do one-hot encoding\n",
        "\n",
        "Encode your categorical feature(s)."
      ]
    },
    {
      "cell_type": "code",
      "metadata": {
        "colab_type": "code",
        "id": "iqRywy6M7Jcr",
        "colab": {
          "base_uri": "https://localhost:8080/",
          "height": 419
        },
        "outputId": "87a8bcf4-ae0f-4000-a3b6-8b7a682a83d0"
      },
      "source": [
        "import category_encoders as ce\n",
        "encoder = ce.OneHotEncoder(use_cat_names=True)\n",
        "X_train = encoder.fit_transform(X_train)\n",
        "X_train"
      ],
      "execution_count": 33,
      "outputs": [
        {
          "output_type": "execute_result",
          "data": {
            "text/html": [
              "<div>\n",
              "<style scoped>\n",
              "    .dataframe tbody tr th:only-of-type {\n",
              "        vertical-align: middle;\n",
              "    }\n",
              "\n",
              "    .dataframe tbody tr th {\n",
              "        vertical-align: top;\n",
              "    }\n",
              "\n",
              "    .dataframe thead th {\n",
              "        text-align: right;\n",
              "    }\n",
              "</style>\n",
              "<table border=\"1\" class=\"dataframe\">\n",
              "  <thead>\n",
              "    <tr style=\"text-align: right;\">\n",
              "      <th></th>\n",
              "      <th>1st_Flr_SF</th>\n",
              "      <th>Exter_Qual_Ex</th>\n",
              "      <th>Exter_Qual_TA</th>\n",
              "      <th>Exter_Qual_Gd</th>\n",
              "      <th>Exter_Qual_Fa</th>\n",
              "    </tr>\n",
              "  </thead>\n",
              "  <tbody>\n",
              "    <tr>\n",
              "      <th>984</th>\n",
              "      <td>1414</td>\n",
              "      <td>1</td>\n",
              "      <td>0</td>\n",
              "      <td>0</td>\n",
              "      <td>0</td>\n",
              "    </tr>\n",
              "    <tr>\n",
              "      <th>985</th>\n",
              "      <td>2117</td>\n",
              "      <td>0</td>\n",
              "      <td>1</td>\n",
              "      <td>0</td>\n",
              "      <td>0</td>\n",
              "    </tr>\n",
              "    <tr>\n",
              "      <th>986</th>\n",
              "      <td>1092</td>\n",
              "      <td>0</td>\n",
              "      <td>1</td>\n",
              "      <td>0</td>\n",
              "      <td>0</td>\n",
              "    </tr>\n",
              "    <tr>\n",
              "      <th>987</th>\n",
              "      <td>926</td>\n",
              "      <td>0</td>\n",
              "      <td>1</td>\n",
              "      <td>0</td>\n",
              "      <td>0</td>\n",
              "    </tr>\n",
              "    <tr>\n",
              "      <th>988</th>\n",
              "      <td>680</td>\n",
              "      <td>0</td>\n",
              "      <td>1</td>\n",
              "      <td>0</td>\n",
              "      <td>0</td>\n",
              "    </tr>\n",
              "    <tr>\n",
              "      <th>...</th>\n",
              "      <td>...</td>\n",
              "      <td>...</td>\n",
              "      <td>...</td>\n",
              "      <td>...</td>\n",
              "      <td>...</td>\n",
              "    </tr>\n",
              "    <tr>\n",
              "      <th>2899</th>\n",
              "      <td>1003</td>\n",
              "      <td>0</td>\n",
              "      <td>1</td>\n",
              "      <td>0</td>\n",
              "      <td>0</td>\n",
              "    </tr>\n",
              "    <tr>\n",
              "      <th>2900</th>\n",
              "      <td>902</td>\n",
              "      <td>0</td>\n",
              "      <td>1</td>\n",
              "      <td>0</td>\n",
              "      <td>0</td>\n",
              "    </tr>\n",
              "    <tr>\n",
              "      <th>2901</th>\n",
              "      <td>970</td>\n",
              "      <td>0</td>\n",
              "      <td>1</td>\n",
              "      <td>0</td>\n",
              "      <td>0</td>\n",
              "    </tr>\n",
              "    <tr>\n",
              "      <th>2902</th>\n",
              "      <td>1389</td>\n",
              "      <td>0</td>\n",
              "      <td>1</td>\n",
              "      <td>0</td>\n",
              "      <td>0</td>\n",
              "    </tr>\n",
              "    <tr>\n",
              "      <th>2903</th>\n",
              "      <td>996</td>\n",
              "      <td>0</td>\n",
              "      <td>1</td>\n",
              "      <td>0</td>\n",
              "      <td>0</td>\n",
              "    </tr>\n",
              "  </tbody>\n",
              "</table>\n",
              "<p>1920 rows × 5 columns</p>\n",
              "</div>"
            ],
            "text/plain": [
              "      1st_Flr_SF  Exter_Qual_Ex  Exter_Qual_TA  Exter_Qual_Gd  Exter_Qual_Fa\n",
              "984         1414              1              0              0              0\n",
              "985         2117              0              1              0              0\n",
              "986         1092              0              1              0              0\n",
              "987          926              0              1              0              0\n",
              "988          680              0              1              0              0\n",
              "...          ...            ...            ...            ...            ...\n",
              "2899        1003              0              1              0              0\n",
              "2900         902              0              1              0              0\n",
              "2901         970              0              1              0              0\n",
              "2902        1389              0              1              0              0\n",
              "2903         996              0              1              0              0\n",
              "\n",
              "[1920 rows x 5 columns]"
            ]
          },
          "metadata": {
            "tags": []
          },
          "execution_count": 33
        }
      ]
    },
    {
      "cell_type": "code",
      "metadata": {
        "id": "APMlyp-v7fN5",
        "colab_type": "code",
        "colab": {
          "base_uri": "https://localhost:8080/",
          "height": 419
        },
        "outputId": "72a76e9f-cc2d-4f42-bb17-de590ae492b6"
      },
      "source": [
        "X_val = encoder.transform(X_val)\n",
        "X_val"
      ],
      "execution_count": 34,
      "outputs": [
        {
          "output_type": "execute_result",
          "data": {
            "text/html": [
              "<div>\n",
              "<style scoped>\n",
              "    .dataframe tbody tr th:only-of-type {\n",
              "        vertical-align: middle;\n",
              "    }\n",
              "\n",
              "    .dataframe tbody tr th {\n",
              "        vertical-align: top;\n",
              "    }\n",
              "\n",
              "    .dataframe thead th {\n",
              "        text-align: right;\n",
              "    }\n",
              "</style>\n",
              "<table border=\"1\" class=\"dataframe\">\n",
              "  <thead>\n",
              "    <tr style=\"text-align: right;\">\n",
              "      <th></th>\n",
              "      <th>1st_Flr_SF</th>\n",
              "      <th>Exter_Qual_Ex</th>\n",
              "      <th>Exter_Qual_TA</th>\n",
              "      <th>Exter_Qual_Gd</th>\n",
              "      <th>Exter_Qual_Fa</th>\n",
              "    </tr>\n",
              "  </thead>\n",
              "  <tbody>\n",
              "    <tr>\n",
              "      <th>340</th>\n",
              "      <td>882</td>\n",
              "      <td>0</td>\n",
              "      <td>1</td>\n",
              "      <td>0</td>\n",
              "      <td>0</td>\n",
              "    </tr>\n",
              "    <tr>\n",
              "      <th>341</th>\n",
              "      <td>1434</td>\n",
              "      <td>0</td>\n",
              "      <td>1</td>\n",
              "      <td>0</td>\n",
              "      <td>0</td>\n",
              "    </tr>\n",
              "    <tr>\n",
              "      <th>342</th>\n",
              "      <td>2000</td>\n",
              "      <td>0</td>\n",
              "      <td>0</td>\n",
              "      <td>1</td>\n",
              "      <td>0</td>\n",
              "    </tr>\n",
              "    <tr>\n",
              "      <th>343</th>\n",
              "      <td>945</td>\n",
              "      <td>0</td>\n",
              "      <td>1</td>\n",
              "      <td>0</td>\n",
              "      <td>0</td>\n",
              "    </tr>\n",
              "    <tr>\n",
              "      <th>344</th>\n",
              "      <td>1008</td>\n",
              "      <td>0</td>\n",
              "      <td>0</td>\n",
              "      <td>1</td>\n",
              "      <td>0</td>\n",
              "    </tr>\n",
              "    <tr>\n",
              "      <th>...</th>\n",
              "      <td>...</td>\n",
              "      <td>...</td>\n",
              "      <td>...</td>\n",
              "      <td>...</td>\n",
              "      <td>...</td>\n",
              "    </tr>\n",
              "    <tr>\n",
              "      <th>979</th>\n",
              "      <td>883</td>\n",
              "      <td>0</td>\n",
              "      <td>1</td>\n",
              "      <td>0</td>\n",
              "      <td>0</td>\n",
              "    </tr>\n",
              "    <tr>\n",
              "      <th>980</th>\n",
              "      <td>796</td>\n",
              "      <td>0</td>\n",
              "      <td>1</td>\n",
              "      <td>0</td>\n",
              "      <td>0</td>\n",
              "    </tr>\n",
              "    <tr>\n",
              "      <th>981</th>\n",
              "      <td>624</td>\n",
              "      <td>0</td>\n",
              "      <td>1</td>\n",
              "      <td>0</td>\n",
              "      <td>0</td>\n",
              "    </tr>\n",
              "    <tr>\n",
              "      <th>982</th>\n",
              "      <td>1567</td>\n",
              "      <td>0</td>\n",
              "      <td>1</td>\n",
              "      <td>0</td>\n",
              "      <td>0</td>\n",
              "    </tr>\n",
              "    <tr>\n",
              "      <th>983</th>\n",
              "      <td>784</td>\n",
              "      <td>0</td>\n",
              "      <td>0</td>\n",
              "      <td>1</td>\n",
              "      <td>0</td>\n",
              "    </tr>\n",
              "  </tbody>\n",
              "</table>\n",
              "<p>644 rows × 5 columns</p>\n",
              "</div>"
            ],
            "text/plain": [
              "     1st_Flr_SF  Exter_Qual_Ex  Exter_Qual_TA  Exter_Qual_Gd  Exter_Qual_Fa\n",
              "340         882              0              1              0              0\n",
              "341        1434              0              1              0              0\n",
              "342        2000              0              0              1              0\n",
              "343         945              0              1              0              0\n",
              "344        1008              0              0              1              0\n",
              "..          ...            ...            ...            ...            ...\n",
              "979         883              0              1              0              0\n",
              "980         796              0              1              0              0\n",
              "981         624              0              1              0              0\n",
              "982        1567              0              1              0              0\n",
              "983         784              0              0              1              0\n",
              "\n",
              "[644 rows x 5 columns]"
            ]
          },
          "metadata": {
            "tags": []
          },
          "execution_count": 34
        }
      ]
    },
    {
      "cell_type": "code",
      "metadata": {
        "id": "hq-PM6rZ7AbB",
        "colab_type": "code",
        "colab": {
          "base_uri": "https://localhost:8080/",
          "height": 419
        },
        "outputId": "c2b98c0b-949f-49d4-9a93-8493454ad03c"
      },
      "source": [
        "X_test = encoder.transform(X_test)\n",
        "X_test"
      ],
      "execution_count": 35,
      "outputs": [
        {
          "output_type": "execute_result",
          "data": {
            "text/html": [
              "<div>\n",
              "<style scoped>\n",
              "    .dataframe tbody tr th:only-of-type {\n",
              "        vertical-align: middle;\n",
              "    }\n",
              "\n",
              "    .dataframe tbody tr th {\n",
              "        vertical-align: top;\n",
              "    }\n",
              "\n",
              "    .dataframe thead th {\n",
              "        text-align: right;\n",
              "    }\n",
              "</style>\n",
              "<table border=\"1\" class=\"dataframe\">\n",
              "  <thead>\n",
              "    <tr style=\"text-align: right;\">\n",
              "      <th></th>\n",
              "      <th>1st_Flr_SF</th>\n",
              "      <th>Exter_Qual_Ex</th>\n",
              "      <th>Exter_Qual_TA</th>\n",
              "      <th>Exter_Qual_Gd</th>\n",
              "      <th>Exter_Qual_Fa</th>\n",
              "    </tr>\n",
              "  </thead>\n",
              "  <tbody>\n",
              "    <tr>\n",
              "      <th>0</th>\n",
              "      <td>1656</td>\n",
              "      <td>0</td>\n",
              "      <td>1</td>\n",
              "      <td>0</td>\n",
              "      <td>0</td>\n",
              "    </tr>\n",
              "    <tr>\n",
              "      <th>1</th>\n",
              "      <td>896</td>\n",
              "      <td>0</td>\n",
              "      <td>1</td>\n",
              "      <td>0</td>\n",
              "      <td>0</td>\n",
              "    </tr>\n",
              "    <tr>\n",
              "      <th>2</th>\n",
              "      <td>1329</td>\n",
              "      <td>0</td>\n",
              "      <td>1</td>\n",
              "      <td>0</td>\n",
              "      <td>0</td>\n",
              "    </tr>\n",
              "    <tr>\n",
              "      <th>3</th>\n",
              "      <td>2110</td>\n",
              "      <td>0</td>\n",
              "      <td>0</td>\n",
              "      <td>1</td>\n",
              "      <td>0</td>\n",
              "    </tr>\n",
              "    <tr>\n",
              "      <th>4</th>\n",
              "      <td>928</td>\n",
              "      <td>0</td>\n",
              "      <td>1</td>\n",
              "      <td>0</td>\n",
              "      <td>0</td>\n",
              "    </tr>\n",
              "    <tr>\n",
              "      <th>...</th>\n",
              "      <td>...</td>\n",
              "      <td>...</td>\n",
              "      <td>...</td>\n",
              "      <td>...</td>\n",
              "      <td>...</td>\n",
              "    </tr>\n",
              "    <tr>\n",
              "      <th>335</th>\n",
              "      <td>1216</td>\n",
              "      <td>0</td>\n",
              "      <td>1</td>\n",
              "      <td>0</td>\n",
              "      <td>0</td>\n",
              "    </tr>\n",
              "    <tr>\n",
              "      <th>336</th>\n",
              "      <td>624</td>\n",
              "      <td>0</td>\n",
              "      <td>1</td>\n",
              "      <td>0</td>\n",
              "      <td>0</td>\n",
              "    </tr>\n",
              "    <tr>\n",
              "      <th>337</th>\n",
              "      <td>864</td>\n",
              "      <td>0</td>\n",
              "      <td>1</td>\n",
              "      <td>0</td>\n",
              "      <td>0</td>\n",
              "    </tr>\n",
              "    <tr>\n",
              "      <th>338</th>\n",
              "      <td>1803</td>\n",
              "      <td>0</td>\n",
              "      <td>0</td>\n",
              "      <td>1</td>\n",
              "      <td>0</td>\n",
              "    </tr>\n",
              "    <tr>\n",
              "      <th>339</th>\n",
              "      <td>1152</td>\n",
              "      <td>0</td>\n",
              "      <td>0</td>\n",
              "      <td>1</td>\n",
              "      <td>0</td>\n",
              "    </tr>\n",
              "  </tbody>\n",
              "</table>\n",
              "<p>340 rows × 5 columns</p>\n",
              "</div>"
            ],
            "text/plain": [
              "     1st_Flr_SF  Exter_Qual_Ex  Exter_Qual_TA  Exter_Qual_Gd  Exter_Qual_Fa\n",
              "0          1656              0              1              0              0\n",
              "1           896              0              1              0              0\n",
              "2          1329              0              1              0              0\n",
              "3          2110              0              0              1              0\n",
              "4           928              0              1              0              0\n",
              "..          ...            ...            ...            ...            ...\n",
              "335        1216              0              1              0              0\n",
              "336         624              0              1              0              0\n",
              "337         864              0              1              0              0\n",
              "338        1803              0              0              1              0\n",
              "339        1152              0              0              1              0\n",
              "\n",
              "[340 rows x 5 columns]"
            ]
          },
          "metadata": {
            "tags": []
          },
          "execution_count": 35
        }
      ]
    },
    {
      "cell_type": "markdown",
      "metadata": {
        "colab_type": "text",
        "id": "2ZceruUx-Vs-"
      },
      "source": [
        "## 2.5. Use scikit-learn to fit a linear regression or ridge regression model\n",
        "Fit your model."
      ]
    },
    {
      "cell_type": "code",
      "metadata": {
        "colab_type": "code",
        "id": "Kvy4Z0xv7eJF",
        "colab": {
          "base_uri": "https://localhost:8080/",
          "height": 34
        },
        "outputId": "287c0fb4-b0cb-4bd0-d6f5-3971a0236414"
      },
      "source": [
        "from sklearn.linear_model import LinearRegression\n",
        "model = LinearRegression()\n",
        "model.fit(X_train, y_train)"
      ],
      "execution_count": 36,
      "outputs": [
        {
          "output_type": "execute_result",
          "data": {
            "text/plain": [
              "LinearRegression(copy_X=True, fit_intercept=True, n_jobs=None, normalize=False)"
            ]
          },
          "metadata": {
            "tags": []
          },
          "execution_count": 36
        }
      ]
    },
    {
      "cell_type": "markdown",
      "metadata": {
        "colab_type": "text",
        "id": "E9reASgw-i8T"
      },
      "source": [
        "## 2.6. Report validation MAE and $R^2$\n",
        "\n",
        "What is your model's Mean Absolute Error and $R^2$ score on the validation set? (You are not graded on how high or low your validation scores are.)"
      ]
    },
    {
      "cell_type": "code",
      "metadata": {
        "id": "NK2hq_lb8hmt",
        "colab_type": "code",
        "colab": {
          "base_uri": "https://localhost:8080/",
          "height": 34
        },
        "outputId": "a343f036-b5b6-440c-c1f7-06bd95a67811"
      },
      "source": [
        "y_pred = model.predict(X_val)\n",
        "y_pred.shape"
      ],
      "execution_count": 37,
      "outputs": [
        {
          "output_type": "execute_result",
          "data": {
            "text/plain": [
              "(644,)"
            ]
          },
          "metadata": {
            "tags": []
          },
          "execution_count": 37
        }
      ]
    },
    {
      "cell_type": "code",
      "metadata": {
        "colab_type": "code",
        "id": "q8GdnL4e7hyK",
        "colab": {
          "base_uri": "https://localhost:8080/",
          "height": 51
        },
        "outputId": "4dc238a4-49a5-465a-c02d-b71e09264953"
      },
      "source": [
        "from sklearn.metrics import mean_absolute_error, r2_score\n",
        "\n",
        "mae = mean_absolute_error(y_val, y_pred)\n",
        "r2 = r2_score(y_val, y_pred)\n",
        "print(f'The Mean Absolute Error for the validation set is: ${mae.round(2)}')\n",
        "print(f'The R Squared for the validation set is: {r2.round(2)}')"
      ],
      "execution_count": 38,
      "outputs": [
        {
          "output_type": "stream",
          "text": [
            "The Mean Absolute Error for the validation set is: $33447.62\n",
            "The R Squared for the validation set is: 0.69\n"
          ],
          "name": "stdout"
        }
      ]
    },
    {
      "cell_type": "code",
      "metadata": {
        "id": "VlBx8xP--YL0",
        "colab_type": "code",
        "colab": {
          "base_uri": "https://localhost:8080/",
          "height": 51
        },
        "outputId": "6de8b1ff-9a38-4c0b-ecac-998ea120f662"
      },
      "source": [
        "model.coef_"
      ],
      "execution_count": 39,
      "outputs": [
        {
          "output_type": "execute_result",
          "data": {
            "text/plain": [
              "array([ 8.00871159e+01,  1.12697332e+05, -4.85655238e+04,  2.47439546e+04,\n",
              "       -8.88757624e+04])"
            ]
          },
          "metadata": {
            "tags": []
          },
          "execution_count": 39
        }
      ]
    },
    {
      "cell_type": "code",
      "metadata": {
        "id": "_ap18lNO-amH",
        "colab_type": "code",
        "colab": {
          "base_uri": "https://localhost:8080/",
          "height": 34
        },
        "outputId": "0959f13a-48cd-436f-c707-967e3fa3e918"
      },
      "source": [
        "model.intercept_"
      ],
      "execution_count": 40,
      "outputs": [
        {
          "output_type": "execute_result",
          "data": {
            "text/plain": [
              "107743.81212274813"
            ]
          },
          "metadata": {
            "tags": []
          },
          "execution_count": 40
        }
      ]
    },
    {
      "cell_type": "markdown",
      "metadata": {
        "colab_type": "text",
        "id": "DidByDsrOa-o"
      },
      "source": [
        "# Stretch Goals, Regression\n",
        "- Make at least 2 visualizations to explore relationships between features and target. You may use any visualization library\n",
        "- Try at least 3 feature combinations. You may select features manually, or automatically\n",
        "- Report validation MAE and $R^2$ for each feature combination you try\n",
        "- Report test MAE and $R^2$ for your final model\n",
        "- Print or plot the coefficients for the features in your model"
      ]
    },
    {
      "cell_type": "markdown",
      "metadata": {
        "id": "nDFxXMWwDude",
        "colab_type": "text"
      },
      "source": [
        "# Trying one more feature combo"
      ]
    },
    {
      "cell_type": "code",
      "metadata": {
        "id": "id_23PueDtpH",
        "colab_type": "code",
        "colab": {
          "base_uri": "https://localhost:8080/",
          "height": 51
        },
        "outputId": "4b6f4fe2-de66-44bc-874d-f7722d9db262"
      },
      "source": [
        "### X features\n",
        "features = ['1st_Flr_SF', 'Lot_Area', 'Exter_Qual', 'Bldg_Type']\n",
        "X_train = train[features]\n",
        "X_val = val[features]\n",
        "X_test = test[features]\n",
        "\n",
        "### y target vectors\n",
        "target = 'SalePrice'\n",
        "y_train = train[target]\n",
        "y_val = val[target]\n",
        "y_test = test[target]\n",
        "\n",
        "import category_encoders as ce\n",
        "encoder = ce.OneHotEncoder(use_cat_names=True)\n",
        "X_train = encoder.fit_transform(X_train)\n",
        "X_train\n",
        "\n",
        "X_val = encoder.transform(X_val)\n",
        "X_val\n",
        "\n",
        "X_test = encoder.transform(X_test)\n",
        "X_test\n",
        "\n",
        "model = LinearRegression()\n",
        "model.fit(X_train, y_train)\n",
        "\n",
        "y_pred = model.predict(X_val)\n",
        "y_pred.shape\n",
        "\n",
        "mae = mean_absolute_error(y_val, y_pred)\n",
        "r2 = r2_score(y_val, y_pred)\n",
        "print(f'The Mean Absolute Error for the validation set is: ${mae.round(2)}')\n",
        "print(f'The R Squared for the validation set is: {r2.round(2)}')"
      ],
      "execution_count": 47,
      "outputs": [
        {
          "output_type": "stream",
          "text": [
            "The Mean Absolute Error for the validation set is: $33246.38\n",
            "The R Squared for the validation set is: 0.7\n"
          ],
          "name": "stdout"
        }
      ]
    },
    {
      "cell_type": "code",
      "metadata": {
        "id": "HAXskFFUEpWl",
        "colab_type": "code",
        "colab": {}
      },
      "source": [
        "### Added two more features. Looking slightly better!!"
      ],
      "execution_count": 0,
      "outputs": []
    },
    {
      "cell_type": "code",
      "metadata": {
        "id": "NM7LLqqDEvM0",
        "colab_type": "code",
        "colab": {
          "base_uri": "https://localhost:8080/",
          "height": 51
        },
        "outputId": "9b30d2b3-e1cb-4ae2-ef39-b2a84ca9e358"
      },
      "source": [
        "### X features\n",
        "features = ['1st_Flr_SF', 'Lot_Area', 'Exter_Qual', 'Bldg_Type', 'Bedroom_AbvGr',\t'Bsmt_Full_Bath',\t'Bsmt_Half_Bath',\t'Full_Bath',\t'Gr_Liv_Area',\t'Half_Bath',\t'Kitchen_AbvGr']\n",
        "X_train = train[features]\n",
        "X_val = val[features]\n",
        "X_test = test[features]\n",
        "\n",
        "### y target vectors\n",
        "target = 'SalePrice'\n",
        "y_train = train[target]\n",
        "y_val = val[target]\n",
        "y_test = test[target]\n",
        "\n",
        "import category_encoders as ce\n",
        "encoder = ce.OneHotEncoder(use_cat_names=True)\n",
        "X_train = encoder.fit_transform(X_train)\n",
        "X_train\n",
        "\n",
        "X_val = encoder.transform(X_val)\n",
        "X_val\n",
        "\n",
        "X_test = encoder.transform(X_test)\n",
        "X_test\n",
        "\n",
        "model = LinearRegression()\n",
        "model.fit(X_train, y_train)\n",
        "\n",
        "y_pred = model.predict(X_val)\n",
        "y_pred.shape\n",
        "\n",
        "mae = mean_absolute_error(y_val, y_pred)\n",
        "r2 = r2_score(y_val, y_pred)\n",
        "print(f'The Mean Absolute Error for the validation set is: ${mae.round(2)}')\n",
        "print(f'The R Squared for the validation set is: {r2.round(2)}')"
      ],
      "execution_count": 48,
      "outputs": [
        {
          "output_type": "stream",
          "text": [
            "The Mean Absolute Error for the validation set is: $24777.78\n",
            "The R Squared for the validation set is: 0.83\n"
          ],
          "name": "stdout"
        }
      ]
    },
    {
      "cell_type": "code",
      "metadata": {
        "id": "cHHTpM22FEP-",
        "colab_type": "code",
        "colab": {}
      },
      "source": [
        "###Literally just threw the kitchen sink at it. Better scores!!"
      ],
      "execution_count": 0,
      "outputs": []
    },
    {
      "cell_type": "markdown",
      "metadata": {
        "id": "WR9s3sJR-mdd",
        "colab_type": "text"
      },
      "source": [
        "# Test MAE and R^2"
      ]
    },
    {
      "cell_type": "code",
      "metadata": {
        "id": "SHfVABYD-44W",
        "colab_type": "code",
        "colab": {
          "base_uri": "https://localhost:8080/",
          "height": 34
        },
        "outputId": "89397c71-9196-4891-ab2b-f9bd7c45d363"
      },
      "source": [
        "y_pred = model.predict(X_test)\n",
        "y_pred.shape"
      ],
      "execution_count": 49,
      "outputs": [
        {
          "output_type": "execute_result",
          "data": {
            "text/plain": [
              "(340,)"
            ]
          },
          "metadata": {
            "tags": []
          },
          "execution_count": 49
        }
      ]
    },
    {
      "cell_type": "code",
      "metadata": {
        "id": "SzBDwJ-s_Odv",
        "colab_type": "code",
        "colab": {
          "base_uri": "https://localhost:8080/",
          "height": 34
        },
        "outputId": "6d94891a-b8b6-4a60-b11e-85117e049304"
      },
      "source": [
        "y_test.shape"
      ],
      "execution_count": 50,
      "outputs": [
        {
          "output_type": "execute_result",
          "data": {
            "text/plain": [
              "(340,)"
            ]
          },
          "metadata": {
            "tags": []
          },
          "execution_count": 50
        }
      ]
    },
    {
      "cell_type": "code",
      "metadata": {
        "id": "kW5BmwJS-rod",
        "colab_type": "code",
        "colab": {
          "base_uri": "https://localhost:8080/",
          "height": 51
        },
        "outputId": "e52e4dd7-ddaf-413c-c5d3-52464104fe40"
      },
      "source": [
        "mae = mean_absolute_error(y_test, y_pred)\n",
        "r2 = r2_score(y_test, y_pred)\n",
        "print(f'The Mean Absolute Error for the test set is: ${mae.round(2)}')\n",
        "print(f'The R Squared for the test set is: {r2.round(2)}')"
      ],
      "execution_count": 51,
      "outputs": [
        {
          "output_type": "stream",
          "text": [
            "The Mean Absolute Error for the test set is: $24328.48\n",
            "The R Squared for the test set is: 0.8\n"
          ],
          "name": "stdout"
        }
      ]
    },
    {
      "cell_type": "code",
      "metadata": {
        "colab_type": "code",
        "id": "xOfSQIf3Y3OV",
        "colab": {}
      },
      "source": [
        ""
      ],
      "execution_count": 0,
      "outputs": []
    },
    {
      "cell_type": "markdown",
      "metadata": {
        "colab_type": "text",
        "id": "PdkjBN1Dy_-A"
      },
      "source": [
        "# Data Dictionary \n",
        "\n",
        "Here's a description of the data fields:\n",
        "\n",
        "```\n",
        "1st_Flr_SF: First Floor square feet\n",
        "\n",
        "Bedroom_AbvGr: Bedrooms above grade (does NOT include basement bedrooms)\n",
        "\n",
        "Bldg_Type: Type of dwelling\n",
        "\t\t\n",
        "       1Fam\tSingle-family Detached\t\n",
        "       2FmCon\tTwo-family Conversion; originally built as one-family dwelling\n",
        "       Duplx\tDuplex\n",
        "       TwnhsE\tTownhouse End Unit\n",
        "       TwnhsI\tTownhouse Inside Unit\n",
        "       \n",
        "Bsmt_Half_Bath: Basement half bathrooms\n",
        "\n",
        "Bsmt_Full_Bath: Basement full bathrooms\n",
        "\n",
        "Central_Air: Central air conditioning\n",
        "\n",
        "       N\tNo\n",
        "       Y\tYes\n",
        "\t\t\n",
        "Condition_1: Proximity to various conditions\n",
        "\t\n",
        "       Artery\tAdjacent to arterial street\n",
        "       Feedr\tAdjacent to feeder street\t\n",
        "       Norm\tNormal\t\n",
        "       RRNn\tWithin 200' of North-South Railroad\n",
        "       RRAn\tAdjacent to North-South Railroad\n",
        "       PosN\tNear positive off-site feature--park, greenbelt, etc.\n",
        "       PosA\tAdjacent to postive off-site feature\n",
        "       RRNe\tWithin 200' of East-West Railroad\n",
        "       RRAe\tAdjacent to East-West Railroad\n",
        "\t\n",
        "Condition_2: Proximity to various conditions (if more than one is present)\n",
        "\t\t\n",
        "       Artery\tAdjacent to arterial street\n",
        "       Feedr\tAdjacent to feeder street\t\n",
        "       Norm\tNormal\t\n",
        "       RRNn\tWithin 200' of North-South Railroad\n",
        "       RRAn\tAdjacent to North-South Railroad\n",
        "       PosN\tNear positive off-site feature--park, greenbelt, etc.\n",
        "       PosA\tAdjacent to postive off-site feature\n",
        "       RRNe\tWithin 200' of East-West Railroad\n",
        "       RRAe\tAdjacent to East-West Railroad\n",
        "       \n",
        " Electrical: Electrical system\n",
        "\n",
        "       SBrkr\tStandard Circuit Breakers & Romex\n",
        "       FuseA\tFuse Box over 60 AMP and all Romex wiring (Average)\t\n",
        "       FuseF\t60 AMP Fuse Box and mostly Romex wiring (Fair)\n",
        "       FuseP\t60 AMP Fuse Box and mostly knob & tube wiring (poor)\n",
        "       Mix\tMixed\n",
        "       \n",
        " Exter_Cond: Evaluates the present condition of the material on the exterior\n",
        "\t\t\n",
        "       Ex\tExcellent\n",
        "       Gd\tGood\n",
        "       TA\tAverage/Typical\n",
        "       Fa\tFair\n",
        "       Po\tPoor\n",
        " \n",
        " Exter_Qual: Evaluates the quality of the material on the exterior \n",
        "\t\t\n",
        "       Ex\tExcellent\n",
        "       Gd\tGood\n",
        "       TA\tAverage/Typical\n",
        "       Fa\tFair\n",
        "       Po\tPoor\n",
        "\t\t\n",
        "Exterior_1st: Exterior covering on house\n",
        "\n",
        "       AsbShng\tAsbestos Shingles\n",
        "       AsphShn\tAsphalt Shingles\n",
        "       BrkComm\tBrick Common\n",
        "       BrkFace\tBrick Face\n",
        "       CBlock\tCinder Block\n",
        "       CemntBd\tCement Board\n",
        "       HdBoard\tHard Board\n",
        "       ImStucc\tImitation Stucco\n",
        "       MetalSd\tMetal Siding\n",
        "       Other\tOther\n",
        "       Plywood\tPlywood\n",
        "       PreCast\tPreCast\t\n",
        "       Stone\tStone\n",
        "       Stucco\tStucco\n",
        "       VinylSd\tVinyl Siding\n",
        "       Wd Sdng\tWood Siding\n",
        "       WdShing\tWood Shingles\n",
        "\t\n",
        "Exterior_2nd: Exterior covering on house (if more than one material)\n",
        "\n",
        "       AsbShng\tAsbestos Shingles\n",
        "       AsphShn\tAsphalt Shingles\n",
        "       BrkComm\tBrick Common\n",
        "       BrkFace\tBrick Face\n",
        "       CBlock\tCinder Block\n",
        "       CemntBd\tCement Board\n",
        "       HdBoard\tHard Board\n",
        "       ImStucc\tImitation Stucco\n",
        "       MetalSd\tMetal Siding\n",
        "       Other\tOther\n",
        "       Plywood\tPlywood\n",
        "       PreCast\tPreCast\n",
        "       Stone\tStone\n",
        "       Stucco\tStucco\n",
        "       VinylSd\tVinyl Siding\n",
        "       Wd Sdng\tWood Siding\n",
        "       WdShing\tWood Shingles\n",
        "       \n",
        "Foundation: Type of foundation\n",
        "\t\t\n",
        "       BrkTil\tBrick & Tile\n",
        "       CBlock\tCinder Block\n",
        "       PConc\tPoured Contrete\t\n",
        "       Slab\tSlab\n",
        "       Stone\tStone\n",
        "       Wood\tWood\n",
        "\t\t\n",
        "Full_Bath: Full bathrooms above grade\n",
        "\n",
        "Functional: Home functionality (Assume typical unless deductions are warranted)\n",
        "\n",
        "       Typ\tTypical Functionality\n",
        "       Min1\tMinor Deductions 1\n",
        "       Min2\tMinor Deductions 2\n",
        "       Mod\tModerate Deductions\n",
        "       Maj1\tMajor Deductions 1\n",
        "       Maj2\tMajor Deductions 2\n",
        "       Sev\tSeverely Damaged\n",
        "       Sal\tSalvage only\n",
        "\t\t\n",
        "Gr_Liv_Area: Above grade (ground) living area square feet\n",
        "        \n",
        "Half_Bath: Half baths above grade\n",
        "\n",
        "Heating: Type of heating\n",
        "\t\t\n",
        "       Floor\tFloor Furnace\n",
        "       GasA\tGas forced warm air furnace\n",
        "       GasW\tGas hot water or steam heat\n",
        "       Grav\tGravity furnace\t\n",
        "       OthW\tHot water or steam heat other than gas\n",
        "       Wall\tWall furnace\n",
        "\t\t\n",
        "Heating_QC: Heating quality and condition\n",
        "\n",
        "       Ex\tExcellent\n",
        "       Gd\tGood\n",
        "       TA\tAverage/Typical\n",
        "       Fa\tFair\n",
        "       Po\tPoor\n",
        "\n",
        "House_Style: Style of dwelling\n",
        "\t\n",
        "       1Story\tOne story\n",
        "       1.5Fin\tOne and one-half story: 2nd level finished\n",
        "       1.5Unf\tOne and one-half story: 2nd level unfinished\n",
        "       2Story\tTwo story\n",
        "       2.5Fin\tTwo and one-half story: 2nd level finished\n",
        "       2.5Unf\tTwo and one-half story: 2nd level unfinished\n",
        "       SFoyer\tSplit Foyer\n",
        "       SLvl\tSplit Level\n",
        "\n",
        "Kitchen_AbvGr: Kitchens above grade\n",
        "\n",
        "Kitchen_Qual: Kitchen quality\n",
        "\n",
        "       Ex\tExcellent\n",
        "       Gd\tGood\n",
        "       TA\tTypical/Average\n",
        "       Fa\tFair\n",
        "       Po\tPoor\n",
        "\n",
        "LandContour: Flatness of the property\n",
        "\n",
        "       Lvl\tNear Flat/Level\t\n",
        "       Bnk\tBanked - Quick and significant rise from street grade to building\n",
        "       HLS\tHillside - Significant slope from side to side\n",
        "       Low\tDepression\n",
        "\t\t\n",
        "Land_Slope: Slope of property\n",
        "\t\t\n",
        "       Gtl\tGentle slope\n",
        "       Mod\tModerate Slope\t\n",
        "       Sev\tSevere Slope\n",
        "\n",
        "Lot_Area: Lot size in square feet\n",
        "\n",
        "Lot_Config: Lot configuration\n",
        "\n",
        "       Inside\tInside lot\n",
        "       Corner\tCorner lot\n",
        "       CulDSac\tCul-de-sac\n",
        "       FR2\tFrontage on 2 sides of property\n",
        "       FR3\tFrontage on 3 sides of property\n",
        "\n",
        "Lot_Shape: General shape of property\n",
        "\n",
        "       Reg\tRegular\t\n",
        "       IR1\tSlightly irregular\n",
        "       IR2\tModerately Irregular\n",
        "       IR3\tIrregular\n",
        "\n",
        "MS_SubClass: Identifies the type of dwelling involved in the sale.\t\n",
        "\n",
        "        20\t1-STORY 1946 & NEWER ALL STYLES\n",
        "        30\t1-STORY 1945 & OLDER\n",
        "        40\t1-STORY W/FINISHED ATTIC ALL AGES\n",
        "        45\t1-1/2 STORY - UNFINISHED ALL AGES\n",
        "        50\t1-1/2 STORY FINISHED ALL AGES\n",
        "        60\t2-STORY 1946 & NEWER\n",
        "        70\t2-STORY 1945 & OLDER\n",
        "        75\t2-1/2 STORY ALL AGES\n",
        "        80\tSPLIT OR MULTI-LEVEL\n",
        "        85\tSPLIT FOYER\n",
        "        90\tDUPLEX - ALL STYLES AND AGES\n",
        "       120\t1-STORY PUD (Planned Unit Development) - 1946 & NEWER\n",
        "       150\t1-1/2 STORY PUD - ALL AGES\n",
        "       160\t2-STORY PUD - 1946 & NEWER\n",
        "       180\tPUD - MULTILEVEL - INCL SPLIT LEV/FOYER\n",
        "       190\t2 FAMILY CONVERSION - ALL STYLES AND AGES\n",
        "\n",
        "MS_Zoning: Identifies the general zoning classification of the sale.\n",
        "\t\t\n",
        "       A\tAgriculture\n",
        "       C\tCommercial\n",
        "       FV\tFloating Village Residential\n",
        "       I\tIndustrial\n",
        "       RH\tResidential High Density\n",
        "       RL\tResidential Low Density\n",
        "       RP\tResidential Low Density Park \n",
        "       RM\tResidential Medium Density\n",
        "\n",
        "Mas_Vnr_Type: Masonry veneer type\n",
        "\n",
        "       BrkCmn\tBrick Common\n",
        "       BrkFace\tBrick Face\n",
        "       CBlock\tCinder Block\n",
        "       None\tNone\n",
        "       Stone\tStone\n",
        "\n",
        "Mo_Sold: Month Sold (MM)\n",
        "\n",
        "Neighborhood: Physical locations within Ames city limits\n",
        "\n",
        "       Blmngtn\tBloomington Heights\n",
        "       Blueste\tBluestem\n",
        "       BrDale\tBriardale\n",
        "       BrkSide\tBrookside\n",
        "       ClearCr\tClear Creek\n",
        "       CollgCr\tCollege Creek\n",
        "       Crawfor\tCrawford\n",
        "       Edwards\tEdwards\n",
        "       Gilbert\tGilbert\n",
        "       IDOTRR\tIowa DOT and Rail Road\n",
        "       MeadowV\tMeadow Village\n",
        "       Mitchel\tMitchell\n",
        "       Names\tNorth Ames\n",
        "       NoRidge\tNorthridge\n",
        "       NPkVill\tNorthpark Villa\n",
        "       NridgHt\tNorthridge Heights\n",
        "       NWAmes\tNorthwest Ames\n",
        "       OldTown\tOld Town\n",
        "       SWISU\tSouth & West of Iowa State University\n",
        "       Sawyer\tSawyer\n",
        "       SawyerW\tSawyer West\n",
        "       Somerst\tSomerset\n",
        "       StoneBr\tStone Brook\n",
        "       Timber\tTimberland\n",
        "       Veenker\tVeenker\n",
        "\t\t\t\n",
        "Overall_Cond: Rates the overall condition of the house\n",
        "\n",
        "       10\tVery Excellent\n",
        "       9\tExcellent\n",
        "       8\tVery Good\n",
        "       7\tGood\n",
        "       6\tAbove Average\t\n",
        "       5\tAverage\n",
        "       4\tBelow Average\t\n",
        "       3\tFair\n",
        "       2\tPoor\n",
        "       1\tVery Poor\n",
        "\n",
        "Overall_Qual: Rates the overall material and finish of the house\n",
        "\n",
        "       10\tVery Excellent\n",
        "       9\tExcellent\n",
        "       8\tVery Good\n",
        "       7\tGood\n",
        "       6\tAbove Average\n",
        "       5\tAverage\n",
        "       4\tBelow Average\n",
        "       3\tFair\n",
        "       2\tPoor\n",
        "       1\tVery Poor\n",
        "\n",
        "Paved_Drive: Paved driveway\n",
        "\n",
        "       Y\tPaved \n",
        "       P\tPartial Pavement\n",
        "       N\tDirt/Gravel\n",
        "\n",
        "Roof_Matl: Roof material\n",
        "\n",
        "       ClyTile\tClay or Tile\n",
        "       CompShg\tStandard (Composite) Shingle\n",
        "       Membran\tMembrane\n",
        "       Metal\tMetal\n",
        "       Roll\tRoll\n",
        "       Tar&Grv\tGravel & Tar\n",
        "       WdShake\tWood Shakes\n",
        "       WdShngl\tWood Shingles\n",
        "\n",
        "Roof_Style: Type of roof\n",
        "\n",
        "       Flat\tFlat\n",
        "       Gable\tGable\n",
        "       Gambrel\tGabrel (Barn)\n",
        "       Hip\tHip\n",
        "       Mansard\tMansard\n",
        "       Shed\tShed\n",
        "\n",
        "SalePrice: the sales price for each house\n",
        "\n",
        "Sale_Condition: Condition of sale\n",
        "\n",
        "       Normal\tNormal Sale\n",
        "       Abnorml\tAbnormal Sale -  trade, foreclosure, short sale\n",
        "       AdjLand\tAdjoining Land Purchase\n",
        "       Alloca\tAllocation - two linked properties with separate deeds, typically condo with a garage unit\t\n",
        "       Family\tSale between family members\n",
        "       Partial\tHome was not completed when last assessed (associated with New Homes)\n",
        "\n",
        "Sale_Type: Type of sale\n",
        "\t\t\n",
        "       WD \tWarranty Deed - Conventional\n",
        "       CWD\tWarranty Deed - Cash\n",
        "       VWD\tWarranty Deed - VA Loan\n",
        "       New\tHome just constructed and sold\n",
        "       COD\tCourt Officer Deed/Estate\n",
        "       Con\tContract 15% Down payment regular terms\n",
        "       ConLw\tContract Low Down payment and low interest\n",
        "       ConLI\tContract Low Interest\n",
        "       ConLD\tContract Low Down\n",
        "       Oth\tOther\n",
        "\t\n",
        "Street: Type of road access to property\n",
        "\n",
        "       Grvl\tGravel\t\n",
        "       Pave\tPaved\n",
        "       \t\n",
        "TotRms_AbvGrd: Total rooms above grade (does not include bathrooms)\n",
        "\n",
        "Utilities: Type of utilities available\n",
        "\t\t\n",
        "       AllPub\tAll public Utilities (E,G,W,& S)\t\n",
        "       NoSewr\tElectricity, Gas, and Water (Septic Tank)\n",
        "       NoSeWa\tElectricity and Gas Only\n",
        "       ELO\tElectricity only\t\n",
        "\t\n",
        "Year_Built: Original construction date\n",
        "\n",
        "Year_Remod/Add: Remodel date (same as construction date if no remodeling or additions)\n",
        "\t\t\t\t\t\t\n",
        "Yr_Sold: Year Sold (YYYY)\t\n",
        "\n",
        "```"
      ]
    }
  ]
}